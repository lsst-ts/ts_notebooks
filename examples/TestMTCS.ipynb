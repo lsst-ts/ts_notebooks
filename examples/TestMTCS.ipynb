{
 "cells": [
  {
   "cell_type": "markdown",
   "metadata": {},
   "source": [
    "# Test MTCS\n",
    "\n",
    "This notebook contains some examples on how to use and test the `MTCS` class for high level control.\n",
    "\n",
    "One benefit of using the `MTCS` class instead of instantiating the remotes individually is that you get all the remotes for the components in addition to the high level tasks.\n",
    "\n",
    "For now the MTCS only have limited functionality implemented and they are not well tested and sanctioned. Some generic behavior (like `enable`) also have some limitations as some components are not adhering to the architecture. For instance, M1M3 is not sending the `settingVersions` event with information about configurations but it requires a configuration to be specified (e.g. `Default`). This is worked around by providing the configuration explicitly when calling the `enable` method, as one can see below. \n",
    "\n",
    "Contact Tiago Ribeiro for help: `tribeiro` on slack. "
   ]
  },
  {
   "cell_type": "code",
   "execution_count": null,
   "metadata": {},
   "outputs": [],
   "source": [
    "import sys\n",
    "import asyncio\n",
    "import logging\n",
    "from lsst.ts import salobj\n",
    "\n",
    "from lsst.ts.observatory.control.maintel import MTCS"
   ]
  },
  {
   "cell_type": "code",
   "execution_count": null,
   "metadata": {},
   "outputs": [],
   "source": [
    "stream_handler = logging.StreamHandler(sys.stdout)\n",
    "\n",
    "logger = logging.getLogger()\n",
    "logger.addHandler(stream_handler)\n",
    "logger.level = logging.DEBUG"
   ]
  },
  {
   "cell_type": "code",
   "execution_count": null,
   "metadata": {},
   "outputs": [],
   "source": [
    "mtcs = MTCS()"
   ]
  },
  {
   "cell_type": "code",
   "execution_count": null,
   "metadata": {},
   "outputs": [],
   "source": [
    "await mtcs.start_task"
   ]
  },
  {
   "cell_type": "code",
   "execution_count": null,
   "metadata": {},
   "outputs": [],
   "source": [
    "mtcs.components"
   ]
  },
  {
   "cell_type": "code",
   "execution_count": null,
   "metadata": {},
   "outputs": [],
   "source": [
    "mtcs.check.dome = False\n",
    "mtcs.check.mtdometrajectory = False"
   ]
  },
  {
   "cell_type": "code",
   "execution_count": null,
   "metadata": {},
   "outputs": [],
   "source": [
    "await mtcs.rem.hexapod_1.evt_heartbeat.next(flush=True, timeout=5)"
   ]
  },
  {
   "cell_type": "code",
   "execution_count": null,
   "metadata": {},
   "outputs": [],
   "source": [
    "await mtcs.rem.hexapod_2.evt_heartbeat.next(flush=False, timeout=5)"
   ]
  },
  {
   "cell_type": "code",
   "execution_count": null,
   "metadata": {},
   "outputs": [],
   "source": [
    "await mtcs.rem.newmtmount.evt_heartbeat.next(flush=True, timeout=10)"
   ]
  },
  {
   "cell_type": "code",
   "execution_count": null,
   "metadata": {},
   "outputs": [],
   "source": [
    "await mtcs.rem.newmtmount.evt_heartbeat.next(flush=True)"
   ]
  },
  {
   "cell_type": "code",
   "execution_count": null,
   "metadata": {},
   "outputs": [],
   "source": [
    "await asyncio.sleep(5.)\n",
    "for comp in mtcs.components:\n",
    "    if not getattr(mtcs.check, comp):\n",
    "        continue\n",
    "    \n",
    "    try:\n",
    "        state = await mtcs.get_state(comp)\n",
    "        print(f\"{comp}: {state!r}\")\n",
    "    except asyncio.TimeoutError:\n",
    "        print(f\"Failed to get status for {comp}.\")\n",
    "        pass"
   ]
  },
  {
   "cell_type": "markdown",
   "metadata": {},
   "source": [
    "Some CSCs like the Rotator and Hexapod, when transition to `FAULT` state will only transition back to `STANDBY` if a `clearError` command is sent. \n",
    "\n",
    "The cell bellow is commented so it will not run in normal circumstances, but it you note that the Rotator (or any of the hexapods) are in `FAULT` state you can uncomment/edit it to fix the problem."
   ]
  },
  {
   "cell_type": "code",
   "execution_count": null,
   "metadata": {},
   "outputs": [],
   "source": [
    "# await mtcs.rem.rotator.cmd_clearError.start()"
   ]
  },
  {
   "cell_type": "code",
   "execution_count": null,
   "metadata": {},
   "outputs": [],
   "source": [
    "await mtcs.enable({'newmtmount': '',\n",
    " 'mtmount': '',\n",
    " 'mtptg': '',\n",
    " 'mtaos': 'default',\n",
    " 'mtm1m3': 'Default',\n",
    " 'mtm2': '',\n",
    " 'hexapod_1': '',\n",
    " 'hexapod_2': '',\n",
    " 'rotator': '',\n",
    " 'dome': '',\n",
    " 'mtdometrajectory': ''})"
   ]
  },
  {
   "cell_type": "code",
   "execution_count": null,
   "metadata": {},
   "outputs": [],
   "source": [
    "await mtcs.rem.newmtmount.cmd_enableCameraCableWrapTracking.start()"
   ]
  },
  {
   "cell_type": "markdown",
   "metadata": {},
   "source": [
    "## Slew to a circumpolar target\n",
    "\n",
    "This next cell will slew to `HD 195875` which is a circumpolar target, hence, always visible at the observatory. One detail to keep in mind is that the rotator position might have to be tweaked. If the command fails with an exception like \"rotator position out of range\" try changing to another value."
   ]
  },
  {
   "cell_type": "code",
   "execution_count": null,
   "metadata": {},
   "outputs": [],
   "source": [
    "await mtcs.slew_object(\"HD 185975\", rot_sky=45.)"
   ]
  },
  {
   "cell_type": "markdown",
   "metadata": {},
   "source": [
    "The next target is also \"HD 185975\", but slewing to the coordinates."
   ]
  },
  {
   "cell_type": "code",
   "execution_count": null,
   "metadata": {},
   "outputs": [],
   "source": [
    "try:\n",
    "    await mtcs.slew_icrs(ra=\"20 28 18.7402\", dec=\"-87 28 19.938\", rot_sky=120., stop_before_slew=False)\n",
    "except RuntimeError:\n",
    "    print(\"Error. wainting 30s\")\n",
    "    await asyncio.sleep(30)"
   ]
  },
  {
   "cell_type": "markdown",
   "metadata": {},
   "source": [
    "## Slew to a position in the sky at declination zero (north of the observatory).\n",
    "\n",
    "The next cell will slew to a field at declination zero. It makes sure it can always slew by getting the current Local Sidereal Time from the pointing.\n"
   ]
  },
  {
   "cell_type": "code",
   "execution_count": null,
   "metadata": {},
   "outputs": [],
   "source": [
    "time_and_date = await mtcs.rem.mtptg.tel_timeAndDate.aget()\n",
    "ra = Angle(time_and_date.lst, unit=u.hourangle)\n",
    "\n",
    "try:\n",
    "    await mtcs.slew_icrs(ra=ra, dec=\"00:00:00\", rot_sky=-135., stop_before_slew=False)\n",
    "except RuntimeError:\n",
    "    print(\"Error. wainting 30s\")\n",
    "    await asyncio.sleep(30)"
   ]
  },
  {
   "cell_type": "code",
   "execution_count": null,
   "metadata": {},
   "outputs": [],
   "source": []
  }
 ],
 "metadata": {
  "kernelspec": {
   "display_name": "LSST",
   "language": "python",
   "name": "lsst"
  },
  "language_info": {
   "codemirror_mode": {
    "name": "ipython",
    "version": 3
   },
   "file_extension": ".py",
   "mimetype": "text/x-python",
   "name": "python",
   "nbconvert_exporter": "python",
   "pygments_lexer": "ipython3",
   "version": "3.7.6"
  }
 },
 "nbformat": 4,
 "nbformat_minor": 4
}
