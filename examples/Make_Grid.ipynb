{
 "cells": [
  {
   "cell_type": "markdown",
   "metadata": {},
   "source": [
    "# Make Grid"
   ]
  },
  {
   "cell_type": "markdown",
   "metadata": {},
   "source": [
    "<div class=\"alert alert-block alert-warning\">\n",
    "<b>WARNING:</b> This notebook contains operations instructions for experienced users. \n",
    "</div>"
   ]
  },
  {
   "cell_type": "markdown",
   "metadata": {},
   "source": [
    "<div class=\"alert alert-block alert-warning\">\n",
    "<b>WARNING:</b> Some instructions on this notebook will be deprecated as of December 2019.\n",
    "</div>"
   ]
  },
  {
   "cell_type": "markdown",
   "metadata": {},
   "source": [
    "This notebook is intended to aid the construction of a first pointing model with the Auxiliary Telescope. \n",
    "\n",
    "At this early stages, and given the small field-of-view of the telescope, it is really hard to get a start on the field. To help on the process, this notebook implements a Gridding routine. The routine will scan around the current position of the telescope and waits for the user to specify if is should continue, go to the next or previous pointing or stop. \n",
    "\n"
   ]
  },
  {
   "cell_type": "code",
   "execution_count": null,
   "metadata": {},
   "outputs": [],
   "source": [
    "import logging\n",
    "import yaml\n",
    "\n",
    "import numpy as np\n",
    "from matplotlib import pyplot as plt\n",
    "import astropy.units as u\n",
    "from astropy.time import Time\n",
    "from astropy.coordinates import AltAz, ICRS, EarthLocation, Angle, FK5\n",
    "import asyncio\n",
    "\n",
    "# import palpy\n",
    "\n",
    "from lsst.ts import salobj\n",
    "\n",
    "from lsst.ts.standardscripts.auxtel.attcs import ATTCS\n",
    "\n",
    "from lsst.ts.idl.enums import ATPtg\n",
    "\n",
    "%matplotlib inline"
   ]
  },
  {
   "cell_type": "markdown",
   "metadata": {},
   "source": [
    "## Disable auto download of iers data. "
   ]
  },
  {
   "cell_type": "markdown",
   "metadata": {},
   "source": [
    "Updated IERS data is needed in order to provide proper coordinates transformation. By default astropy will try to update the information when we create a new ICRS or KF5 coordinate object. The next cell will disable auto download to speed up the container in case there are network access issues. Trying to download data when there is no outside access results in a long wait time until the connection times out. "
   ]
  },
  {
   "cell_type": "code",
   "execution_count": null,
   "metadata": {},
   "outputs": [],
   "source": [
    "from astropy.utils import iers\n",
    "iers.conf.auto_download = False"
   ]
  },
  {
   "cell_type": "markdown",
   "metadata": {},
   "source": [
    "## Check value of the `LSST_DDS_DOMAIN` variable."
   ]
  },
  {
   "cell_type": "markdown",
   "metadata": {},
   "source": [
    "For the AT early work at the summit, the expected value for `LSST_DDS_DOMAIN=lsatmcs`"
   ]
  },
  {
   "cell_type": "code",
   "execution_count": null,
   "metadata": {},
   "outputs": [],
   "source": [
    "import os\n",
    "print(os.environ[\"LSST_DDS_DOMAIN\"])"
   ]
  },
  {
   "cell_type": "markdown",
   "metadata": {},
   "source": [
    "## Create a domain and remotes"
   ]
  },
  {
   "cell_type": "markdown",
   "metadata": {},
   "source": [
    "The ATTCS class uses the following remotes:\n",
    "\n",
    "  - atmcs \n",
    "  - atptg\n",
    "  - ataos\n",
    "  - atpneumatics \n",
    "  - athexapod\n",
    "  - atdome\n",
    "  - atdometrajectory\n"
   ]
  },
  {
   "cell_type": "code",
   "execution_count": null,
   "metadata": {},
   "outputs": [],
   "source": [
    "d = salobj.Domain()"
   ]
  },
  {
   "cell_type": "markdown",
   "metadata": {},
   "source": [
    "In case, you need to build the idl files, copy the following command to a cell and run it. \n",
    "\n",
    "```\n",
    "%%script bash \n",
    "make_idl_files.py ATMCS ATPtg ATAOS ATPneumatics ATHexapod ATDome ATDomeTrajectory\n",
    "```"
   ]
  },
  {
   "cell_type": "code",
   "execution_count": null,
   "metadata": {},
   "outputs": [],
   "source": [
    "atmcs = salobj.Remote(d, \"ATMCS\")\n",
    "atptg = salobj.Remote(d, \"ATPtg\")"
   ]
  },
  {
   "cell_type": "code",
   "execution_count": null,
   "metadata": {},
   "outputs": [],
   "source": [
    "await asyncio.gather(atmcs.start_task, \n",
    "                     atptg.start_task)"
   ]
  },
  {
   "cell_type": "code",
   "execution_count": null,
   "metadata": {},
   "outputs": [],
   "source": [
    "attcs = ATTCS(atmcs=atmcs, \n",
    "              atptg=atptg, \n",
    "              ataos=ataos, \n",
    "              atpneumatics=atpne, \n",
    "              athexapod=athex, \n",
    "              atdome=atdome, \n",
    "              atdometrajectory=atdomtraj, \n",
    "              check={\"atpneumatics\": False, \"athexapod\": False, \"atdome\": True, \"atdometrajectory\": True})"
   ]
  },
  {
   "cell_type": "markdown",
   "metadata": {},
   "source": [
    "# Slew and Track an Alt/Az position"
   ]
  },
  {
   "cell_type": "markdown",
   "metadata": {},
   "source": [
    "While the pointing component does not support the slew and track of an alt/az position, the following cells will provide a quick and easy way to perform this task. The user specified a position in Alt/Az and it will use astropy coordinate library to convert it to RA/Dec. \n",
    "\n",
    "For that we will need the location of the observatory and the time. Location is defined as an astropy `EarthLocation` and time is taken from the pointing component and then creating an astropy `Time` object.\n",
    "\n",
    "Obervatory location (lon, lat and height extracted from: https://github.com/lsst/sims_utils)"
   ]
  },
  {
   "cell_type": "code",
   "execution_count": null,
   "metadata": {},
   "outputs": [],
   "source": [
    "location = EarthLocation.from_geodetic(lon=-70.747698*u.deg,\n",
    "                                       lat=-30.244728*u.deg,\n",
    "                                       height=2663.0*u.m)"
   ]
  },
  {
   "cell_type": "code",
   "execution_count": null,
   "metadata": {},
   "outputs": [],
   "source": [
    "alt = 70. * u.deg\n",
    "az = 0. * u.deg"
   ]
  },
  {
   "cell_type": "markdown",
   "metadata": {},
   "source": [
    "The next cell will convert the specified Alt/Az into RA/Dec coordinates in ICRS. This coordinate will be used to slew and track. "
   ]
  },
  {
   "cell_type": "code",
   "execution_count": null,
   "metadata": {},
   "outputs": [],
   "source": [
    "time_data = await atptg.tel_timeAndDate.next(flush=True, timeout=2)\n",
    "curr_time_atptg = Time(time_data.tai, format=\"mjd\", scale=\"tai\")\n",
    "time_err = curr_time_atptg - Time.now()\n",
    "print(f\"Time error={time_err.sec:0.2f} sec\")\n",
    "\n",
    "# Compute RA/Dec for commanded az/el\n",
    "cmd_elaz = AltAz(alt=alt, az=az, \n",
    "                 obstime=curr_time_atptg.tai, \n",
    "                 location=location)\n",
    "cmd_radec = cmd_elaz.transform_to(ICRS)\n",
    "\n",
    "await attcs.slew(ra=cmd_radec.ra.hour, \n",
    "                 dec=cmd_radec.dec.deg, \n",
    "                 rotPA=180.-cmd_elaz.alt.deg,\n",
    "                 rot_frame=ATPtg.RotFrame.FIXED,\n",
    "                 rot_mode=ATPtg.RotMode.FIELD)\n",
    "\n",
    "print(f\"raDecTarget ra={cmd_radec.ra!r} hour; \"\n",
    "      f\"declination={cmd_radec.dec!r} deg\")\n",
    "# script.ataos.cmd_enableCorrection.set(hexapod=True)\n",
    "# await script.ataos.cmd_enableCorrection.start(timeout=10)\n",
    "\n"
   ]
  },
  {
   "cell_type": "markdown",
   "metadata": {},
   "source": [
    "# Slew and track a RA/Dec target"
   ]
  },
  {
   "cell_type": "markdown",
   "metadata": {},
   "source": [
    "The next cell shows an example of how to slew and track an RA/Dec target. \n",
    "\n",
    "The one caveat with slewing to RA/Dec is getting a proper value for rotPA. We currently want to keep the rotator around zero degrees. We need to improve the handling of this rotation angle on the slew method but right now we compute the angle on the cell. "
   ]
  },
  {
   "cell_type": "code",
   "execution_count": null,
   "metadata": {},
   "outputs": [],
   "source": [
    "ra = Angle('19:05:24', unit=u.hour)\n",
    "dec = Angle('+13:51:47', unit=u.deg)\n",
    "target_name=\"HR 7235\"\n",
    "\n",
    "radec = ICRS(ra, dec)\n",
    "\n",
    "# Figure out what is the rotPA that sets nasmith rotator close to zero.\n",
    "time_data = await atptg.tel_timeAndDate.next(flush=True, timeout=2)\n",
    "curr_time_atptg = Time(time_data.tai, format=\"mjd\", scale=\"tai\")\n",
    "coord_frame_altaz = AltAz(location=location, obstime=curr_time_atptg)\n",
    "alt_az = radec.transform_to(coord_frame_altaz)\n",
    "\n",
    "await attcs.slew(ra=ra, \n",
    "                 dec=dec,\n",
    "                 rotPA=180.-alt_az.alt.deg,\n",
    "                 rot_frame=ATPtg.RotFrame.FIXED,\n",
    "                 rot_mode=ATPtg.RotMode.FIELD)"
   ]
  },
  {
   "cell_type": "markdown",
   "metadata": {},
   "source": [
    "# Slew and track the MOON (and other solar system body)"
   ]
  },
  {
   "cell_type": "code",
   "execution_count": null,
   "metadata": {},
   "outputs": [],
   "source": [
    "await attcs.slew_to_planet(planet=ATPtg.Planets.MOON)"
   ]
  },
  {
   "cell_type": "markdown",
   "metadata": {},
   "source": [
    "# GRID in RA/Dec"
   ]
  },
  {
   "cell_type": "code",
   "execution_count": null,
   "metadata": {},
   "outputs": [],
   "source": [
    "dra_grid = np.arange(-1., 1.1,0.1)*24./360.\n",
    "ddec_grid = np.arange(-1., 1.1,0.1)"
   ]
  },
  {
   "cell_type": "code",
   "execution_count": null,
   "metadata": {},
   "outputs": [],
   "source": [
    "grid_ra = np.zeros(len(dra_grid)*len(ddec_grid))\n",
    "grid_dec = np.zeros(len(dra_grid)*len(ddec_grid))\n",
    "\n",
    "for i in range(len(ddec_grid)):\n",
    "    grid_ra[i*len(dra_grid):(i+1)*len(dra_grid)] += dra_grid[::(-1)**i]\n",
    "    grid_dec[i*len(dra_grid):(i+1)*len(dra_grid)] += ddec_grid[i]"
   ]
  },
  {
   "cell_type": "code",
   "execution_count": null,
   "metadata": {},
   "outputs": [],
   "source": [
    "plt.plot(grid_ra[0], grid_dec[0], 'bo')\n",
    "plt.plot(grid_ra, grid_dec, ':')\n",
    "plt.plot(grid_ra[-1], grid_dec[-1], 'go')"
   ]
  },
  {
   "cell_type": "code",
   "execution_count": null,
   "metadata": {},
   "outputs": [],
   "source": [
    "async def wait_center():\n",
    "    while True:\n",
    "        opt = input(\"Center telescope and choose action (press ?<enter>, for list of actions): \")\n",
    "        \n",
    "        if opt == 'n':\n",
    "            print(\"Next point in the grid...\")\n",
    "            return 1\n",
    "        elif opt == 'p':\n",
    "            print(\"Previous point in the grid...\")\n",
    "            return -1\n",
    "        elif opt == 't':\n",
    "            print(\"Stopping test...\")\n",
    "            return 0\n",
    "        elif opt == '?':\n",
    "            print(\"\"\"Options are:\n",
    "            n - Go to next point in the grid.\n",
    "            p - Go to previous point in the grid.\n",
    "            t - Terminate test.\n",
    "            \"\"\")\n",
    "        else:\n",
    "            print(\"Next point in the grid...\")\n",
    "            return 1"
   ]
  },
  {
   "cell_type": "code",
   "execution_count": null,
   "metadata": {},
   "outputs": [],
   "source": [
    "ra = Angle(\"01:37:42.84548\", unit=u.hour)\n",
    "dec = Angle(\"-57:14:12.3101\", unit=u.deg)\n",
    "target_name=\"Alpha Eri\"\n",
    "\n",
    "radec = ICRS(ra, dec)\n",
    "\n",
    "start_from = 0"
   ]
  },
  {
   "cell_type": "code",
   "execution_count": null,
   "metadata": {},
   "outputs": [],
   "source": [
    "await atptg.cmd_stopTracking.start()"
   ]
  },
  {
   "cell_type": "code",
   "execution_count": null,
   "metadata": {},
   "outputs": [],
   "source": [
    "# Figure out what is the rotPA that sets nasmith rotator close to zero.\n",
    "time_data = await atptg.tel_timeAndDate.next(flush=True, timeout=2)\n",
    "curr_time_atptg = Time(time_data.tai, format=\"mjd\", scale=\"tai\")\n",
    "print(curr_time_atptg)\n",
    "coord_frame_altaz = AltAz(location=location, obstime=curr_time_atptg)\n",
    "alt_az = radec.transform_to(coord_frame_altaz)\n",
    "\n",
    "print(\"slew...\")\n",
    "# await atmcs.cmd_startTracking.start(timeout=10)\n",
    "await atptg.cmd_raDecTarget.set_start(\n",
    "    targetName=target_name,\n",
    "    targetInstance=ATPtg.TargetInstances.CURRENT,\n",
    "    frame=ATPtg.CoordFrame.ICRS,\n",
    "    epoch=2000,  # should be ignored: no parallax or proper motion\n",
    "    equinox=2000,  # should be ignored for ICRS\n",
    "    ra=radec.ra.hour,\n",
    "    declination=radec.dec.deg,\n",
    "    parallax=0,\n",
    "    pmRA=0,\n",
    "    pmDec=0,\n",
    "    rv=0,\n",
    "    dRA=0,\n",
    "    dDec=0,\n",
    "    rotPA=180.-alt_az.alt.deg,\n",
    "    rotFrame=ATPtg.RotFrame.FIXED,\n",
    "    rotMode=ATPtg.RotMode.FIELD,\n",
    "    timeout=10\n",
    ")"
   ]
  },
  {
   "cell_type": "code",
   "execution_count": null,
   "metadata": {},
   "outputs": [],
   "source": [
    "start_from = 0"
   ]
  },
  {
   "cell_type": "code",
   "execution_count": null,
   "metadata": {},
   "outputs": [],
   "source": [
    "print(f\"Grid has {len(grid_ra)} pointings...\")\n",
    "print(f\"Starting from {start_from}\")\n",
    "\n",
    "i = start_from\n",
    "stop_at = 0\n",
    "\n",
    "# Figure out what is the rotPA that sets nasmith rotator close to zero.\n",
    "time_data = await atptg.tel_timeAndDate.next(flush=True, timeout=2)\n",
    "curr_time_atptg = Time(time_data.tai, format=\"mjd\", scale=\"tai\")\n",
    "coord_frame_altaz = AltAz(location=location, obstime=curr_time_atptg)\n",
    "alt_az = radec.transform_to(coord_frame_altaz)\n",
    "\n",
    "\n",
    "while i < len(grid_ra):\n",
    "    \n",
    "    print(f\"GRID[{i}]: {grid_ra[i]} x {grid_dec[i]}\")\n",
    "\n",
    "    await attcs.slew(ra=ra.hour + grid_ra[i], \n",
    "                     dec=dec.deg + grid_dec[i],\n",
    "                     rotPA=180.-alt_az.alt.deg,\n",
    "                     target_name=f\"{target_name} RA/Dec GRID[{i}]: {grid_ra[i]} x {grid_dec[i]}\",\n",
    "                     rot_frame=ATPtg.RotFrame.FIXED,\n",
    "                     rot_mode=ATPtg.RotMode.FIELD)\n",
    "    \n",
    "    ret_val = await wait_center()\n",
    "    if ret_val == 0:\n",
    "        break\n",
    "\n",
    "    i += ret_val\n",
    "\n",
    "    if i < 0:\n",
    "        print(f\"Unwrapping index! (i={i})\")\n",
    "        i = 0\n"
   ]
  },
  {
   "cell_type": "markdown",
   "metadata": {},
   "source": [
    "# GRID in Alt/Az"
   ]
  },
  {
   "cell_type": "code",
   "execution_count": null,
   "metadata": {},
   "outputs": [],
   "source": [
    "dalt_grid = np.arange(-0.5, +0.6, 0.1)\n",
    "daz_grid = np.arange(-0.5, +0.6, 0.1)"
   ]
  },
  {
   "cell_type": "code",
   "execution_count": null,
   "metadata": {},
   "outputs": [],
   "source": [
    "grid_alt = np.zeros(len(dalt_grid)*len(daz_grid))\n",
    "grid_az = np.zeros(len(dalt_grid)*len(daz_grid))\n",
    "\n",
    "for i in range(len(daz_grid)):\n",
    "    grid_alt[i*len(dalt_grid):(i+1)*len(dalt_grid)] += dalt_grid[::(-1)**i]\n",
    "    grid_az[i*len(dalt_grid):(i+1)*len(dalt_grid)] += daz_grid[i]"
   ]
  },
  {
   "cell_type": "code",
   "execution_count": null,
   "metadata": {},
   "outputs": [],
   "source": [
    "plt.plot(grid_alt, grid_az, ':')\n",
    "plt.plot(grid_alt, grid_az, '|')\n",
    "plt.plot(grid_alt[0], grid_az[0], 'bo')\n",
    "plt.plot(grid_alt[-1], grid_az[-1], 'go')"
   ]
  },
  {
   "cell_type": "code",
   "execution_count": null,
   "metadata": {},
   "outputs": [],
   "source": [
    "start_from=0"
   ]
  },
  {
   "cell_type": "code",
   "execution_count": null,
   "metadata": {},
   "outputs": [],
   "source": [
    "print(f\"Grid has {len(grid_alt)} pointings...\")\n",
    "print(f\"Starting from {start_from}\")\n",
    "\n",
    "i = start_from\n",
    "stop_at = 0\n",
    "\n",
    "while i < len(grid_alt):\n",
    "    \n",
    "    print(f\"GRID[{i}]: {grid_alt[i]} x {grid_az[i]}\")\n",
    "\n",
    "    await atptg.cmd_offsetAzEl.set_start(el=grid_alt[i]*60.*60., \n",
    "                                         az=grid_az[i]*60*60, \n",
    "                                         num=0)\n",
    "    \n",
    "    ret_val = await wait_center()\n",
    "\n",
    "    if ret_val == 0:\n",
    "        break\n",
    "        \n",
    "    i += ret_val\n",
    "    \n",
    "    if i < 0:\n",
    "        print(f\"Unwrapping index! (i={i})\")\n",
    "        i = 0"
   ]
  },
  {
   "cell_type": "code",
   "execution_count": null,
   "metadata": {},
   "outputs": [],
   "source": []
  },
  {
   "cell_type": "code",
   "execution_count": null,
   "metadata": {},
   "outputs": [],
   "source": [
    "await atptg.cmd_offsetAzEl.set_start(el=-0.39*60.*60., \n",
    "                                     az=0.25*60.*60., \n",
    "                                     num=0)\n"
   ]
  },
  {
   "cell_type": "code",
   "execution_count": null,
   "metadata": {},
   "outputs": [],
   "source": [
    "await atptg.cmd_offsetAzEl.set_start(el=-0.380*60.*60., \n",
    "                                     az=0.251*60.*60., \n",
    "                                     num=0)"
   ]
  },
  {
   "cell_type": "code",
   "execution_count": null,
   "metadata": {},
   "outputs": [],
   "source": [
    "await atptg.cmd_pointNewFile.start()\n",
    "await asyncio.sleep(1.)\n",
    "await atptg.cmd_pointAddData.start()\n",
    "await asyncio.sleep(1.)\n",
    "await atptg.cmd_pointCloseFile.start()"
   ]
  },
  {
   "cell_type": "code",
   "execution_count": null,
   "metadata": {},
   "outputs": [],
   "source": [
    "time_data = await atptg.tel_timeAndDate.next(flush=True, timeout=2)"
   ]
  },
  {
   "cell_type": "code",
   "execution_count": null,
   "metadata": {},
   "outputs": [],
   "source": [
    "time_data.lst"
   ]
  },
  {
   "cell_type": "code",
   "execution_count": null,
   "metadata": {},
   "outputs": [],
   "source": [
    "atdome = salobj.Remote(d, \"ATDome\")"
   ]
  },
  {
   "cell_type": "code",
   "execution_count": null,
   "metadata": {},
   "outputs": [],
   "source": [
    "await atdome.start_task"
   ]
  },
  {
   "cell_type": "code",
   "execution_count": null,
   "metadata": {},
   "outputs": [],
   "source": [
    "await atdome.cmd_moveAzimuth.set_start(azimuth=65)"
   ]
  },
  {
   "cell_type": "code",
   "execution_count": null,
   "metadata": {},
   "outputs": [],
   "source": []
  }
 ],
 "metadata": {
  "kernelspec": {
   "display_name": "Python 3",
   "language": "python",
   "name": "python3"
  },
  "language_info": {
   "codemirror_mode": {
    "name": "ipython",
    "version": 3
   },
   "file_extension": ".py",
   "mimetype": "text/x-python",
   "name": "python",
   "nbconvert_exporter": "python",
   "pygments_lexer": "ipython3",
   "version": "3.7.2"
  }
 },
 "nbformat": 4,
 "nbformat_minor": 4
}
