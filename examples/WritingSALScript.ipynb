{
 "cells": [
  {
   "cell_type": "markdown",
   "id": "juvenile-level",
   "metadata": {},
   "source": [
    "# Writing a SAL Script\n",
    "\n",
    "This notebooks contains the example used for development of a SAL Script from a notebook.\n",
    "\n",
    "In this example we will perform a dithering pattern on the sky with the Auxiliary Telescope and take a sequence of images and each position.\n",
    "\n",
    "We will use functionality from the two main observatory control classes for the Auxiliary Telescope.\n",
    "More information about these can be found in the [ts_observatory_control user guide](https://ts-observatory-control.lsst.io/user-guide/user-guide.html)."
   ]
  },
  {
   "cell_type": "code",
   "execution_count": null,
   "id": "dress-sigma",
   "metadata": {},
   "outputs": [],
   "source": [
    "import asyncio\n",
    "import logging\n",
    "\n",
    "import numpy as np\n",
    "from matplotlib import pyplot as plt\n",
    "\n",
    "from lsst.ts import salobj\n",
    "\n",
    "from lsst.ts.observatory.control.auxtel.atcs import ATCS\n",
    "from lsst.ts.observatory.control.auxtel.latiss import LATISS\n",
    "from lsst.ts.observatory.control.utils.enums import RotType"
   ]
  },
  {
   "cell_type": "markdown",
   "id": "documented-rotation",
   "metadata": {},
   "source": [
    "## Setting up logging\n",
    "\n",
    "When running on a notebook you may be interested in getting logging feedback. To enable this you may want to setup Python logging facility.\n",
    "\n",
    "This next cell will setup the basic log configuration in debug mode.\n",
    "If you find this too verbose and want to change the level, you can replace `logging.DEBUG` with `logging.INFO`, `logging.WARNING`, `logging.ERROR` or skip the next cell altogether. "
   ]
  },
  {
   "cell_type": "code",
   "execution_count": null,
   "id": "british-mountain",
   "metadata": {},
   "outputs": [],
   "source": [
    "logging.basicConfig(format=\"%(name)s:%(message)s\", level=logging.DEBUG)"
   ]
  },
  {
   "cell_type": "markdown",
   "id": "suspended-angel",
   "metadata": {},
   "source": [
    "Matplotlib can be chatty so, better increase its log level."
   ]
  },
  {
   "cell_type": "code",
   "execution_count": null,
   "id": "acquired-physiology",
   "metadata": {},
   "outputs": [],
   "source": [
    "logging.getLogger(\"matplotlib\").setLevel(logging.WARNING)"
   ]
  },
  {
   "cell_type": "markdown",
   "id": "domestic-poster",
   "metadata": {},
   "source": [
    "## Setup control classes\n",
    "\n",
    "The first step in interacting with the system is to setup the SalObj library and the control classes.\n",
    "\n",
    "This is done by creating a `salobj.Domain`, an object to handle the DDS communication and later passing it to the control classes."
   ]
  },
  {
   "cell_type": "code",
   "execution_count": null,
   "id": "overhead-upset",
   "metadata": {},
   "outputs": [],
   "source": [
    "domain = salobj.Domain()"
   ]
  },
  {
   "cell_type": "code",
   "execution_count": null,
   "id": "handled-cylinder",
   "metadata": {},
   "outputs": [],
   "source": [
    "atcs = ATCS(domain)"
   ]
  },
  {
   "cell_type": "code",
   "execution_count": null,
   "id": "important-conjunction",
   "metadata": {},
   "outputs": [],
   "source": [
    "latiss = LATISS(domain)"
   ]
  },
  {
   "cell_type": "markdown",
   "id": "boring-typing",
   "metadata": {},
   "source": [
    "### Reducing salobj.Remote internal logging.\n",
    "\n",
    "The internal `salobj.Remote` classes can get very chatty due to the incomming traffic from the CSCs.\n",
    "You can reduce this by using a method provided by the control classes."
   ]
  },
  {
   "cell_type": "code",
   "execution_count": null,
   "id": "cleared-turner",
   "metadata": {},
   "outputs": [],
   "source": [
    "atcs.set_rem_loglevel(logging.ERROR)"
   ]
  },
  {
   "cell_type": "code",
   "execution_count": null,
   "id": "enclosed-korea",
   "metadata": {},
   "outputs": [],
   "source": [
    "latiss.set_rem_loglevel(logging.ERROR)"
   ]
  },
  {
   "cell_type": "markdown",
   "id": "sticky-beijing",
   "metadata": {},
   "source": [
    "### Wait for salobj to finish setup DDS communication.\n",
    "\n",
    "This is a background task that we need to `await` before we can communicate with the components. "
   ]
  },
  {
   "cell_type": "code",
   "execution_count": null,
   "id": "arabic-prairie",
   "metadata": {},
   "outputs": [],
   "source": [
    "await asyncio.gather(atcs.start_task, latiss.start_task)"
   ]
  },
  {
   "cell_type": "markdown",
   "id": "marine-shooting",
   "metadata": {},
   "source": [
    "## Executing operation\n",
    "\n",
    "From now on we are ready to interact with the system.\n",
    "\n",
    "We are now going to write down the loop that performs the dithering and data taking.\n",
    "\n",
    "I will assume you had some time to think about the problem and exercice it enough to get confortable with parameterizing it and so on.\n",
    "\n",
    "The idea is to develop a procedure that will do the following:\n",
    "\n",
    "1. Slew to a target that is defined by a name that can be [resolved by simbad](http://simbad.u-strasbg.fr/simbad/sim-fid), and a [rotator setup](https://ts-observatory-control.lsst.io/user-guide/tcs-user-guide-generic.html#rotator-position-and-sky-position-angle).\n",
    "\n",
    "2. Given a pre-defined grid of x/y offsets from the original position;\n",
    "   1. Offset the telescope to each,\n",
    "   2. Take a set of pre-defined observations.\n",
    "\n",
    "We start by defining the parameters in the cells bellow."
   ]
  },
  {
   "cell_type": "markdown",
   "id": "durable-blake",
   "metadata": {},
   "source": [
    "### Target definition\n",
    "\n",
    "The next cell defines the target to slew to and the rotator value/type."
   ]
  },
  {
   "cell_type": "code",
   "execution_count": null,
   "id": "given-brake",
   "metadata": {},
   "outputs": [],
   "source": [
    "target_name = \"HD 164461\"\n",
    "rot_value = 0.\n",
    "rot_type = RotType.PhysicalSky"
   ]
  },
  {
   "cell_type": "markdown",
   "id": "eligible-halloween",
   "metadata": {},
   "source": [
    "### Define offset grid"
   ]
  },
  {
   "cell_type": "code",
   "execution_count": null,
   "id": "rental-entity",
   "metadata": {},
   "outputs": [],
   "source": [
    "grid_x = (np.random.rand(11)-0.5)*120.  # offset in image coordinate x-axis (in arcsec)\n",
    "grid_y = (np.random.rand(11)-0.5)*120.  # offset in image coordinate y-axis (in arcsec)"
   ]
  },
  {
   "cell_type": "markdown",
   "id": "faced-contract",
   "metadata": {},
   "source": [
    "We are in a Jupyter notebook so we might as well plot the grid generated above."
   ]
  },
  {
   "cell_type": "code",
   "execution_count": null,
   "id": "retired-biology",
   "metadata": {},
   "outputs": [],
   "source": [
    "plt.plot(grid_x, grid_y, '.:')\n",
    "\n",
    "plt.xlabel(\"x-offset in arcsec\")\n",
    "plt.ylabel(\"y-offset in arcsec\")"
   ]
  },
  {
   "cell_type": "markdown",
   "id": "expressed-lover",
   "metadata": {},
   "source": [
    "### Define observations setup"
   ]
  },
  {
   "cell_type": "code",
   "execution_count": null,
   "id": "compliant-lodge",
   "metadata": {},
   "outputs": [],
   "source": [
    "exptime = [5., 10., 20.]  # list of exposure times in seconds\n",
    "obs_filter = [\"RG610\", \"RG610\", \"RG610\"]  # list of filters \n",
    "obs_grating = [\"empty_1\", \"ronchi90lpmm\", \"ronchi170lpmm\"]  # list of gratings"
   ]
  },
  {
   "cell_type": "markdown",
   "id": "labeled-royal",
   "metadata": {},
   "source": [
    "### Run observation sequence\n",
    "\n",
    "Now we have the parameters defined we can run a loop that will execute the dithering and observing sequence."
   ]
  },
  {
   "cell_type": "code",
   "execution_count": null,
   "id": "hollow-newton",
   "metadata": {},
   "outputs": [],
   "source": [
    "await atcs.slew_object(name=target_name, rot=rot_value, rot_type=rot_type)"
   ]
  },
  {
   "cell_type": "code",
   "execution_count": null,
   "id": "yellow-stevens",
   "metadata": {},
   "outputs": [],
   "source": [
    "for xx, yy in zip(grid_x, grid_y):\n",
    "    # Offset telescope\n",
    "    # Use non-relative offset as they are easier to reset\n",
    "    await atcs.offset_xy(x=xx, y=yy, relative=False)\n",
    "    \n",
    "    # Take data\n",
    "    for etime, flt, grt in zip(exptime, obs_filter, obs_grating):\n",
    "        await latiss.take_object(exptime=etime, filter=flt, grating=grt)"
   ]
  },
  {
   "cell_type": "code",
   "execution_count": null,
   "id": "military-donna",
   "metadata": {},
   "outputs": [],
   "source": [
    "# Reset offset\n",
    "await atcs.offset_xy(x=0., y=0., relative=False)"
   ]
  }
 ],
 "metadata": {
  "kernelspec": {
   "display_name": "Python 3",
   "language": "python",
   "name": "python3"
  },
  "language_info": {
   "codemirror_mode": {
    "name": "ipython",
    "version": 3
   },
   "file_extension": ".py",
   "mimetype": "text/x-python",
   "name": "python",
   "nbconvert_exporter": "python",
   "pygments_lexer": "ipython3",
   "version": "3.8.6"
  }
 },
 "nbformat": 4,
 "nbformat_minor": 5
}
