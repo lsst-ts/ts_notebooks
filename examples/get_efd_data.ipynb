{
 "cells": [
  {
   "cell_type": "markdown",
   "metadata": {},
   "source": [
    "This notebook illustrate how to query the EFD using the `lsst_efd_client` library. \n",
    "\n",
    "The queries bellow are mainly inspired in some of the queries we normally do. Documentation about how to install and setup the library can be seen here https://efd-client.lsst.io/#"
   ]
  },
  {
   "cell_type": "code",
   "execution_count": null,
   "metadata": {},
   "outputs": [],
   "source": [
    "import asyncio \n",
    "import matplotlib\n",
    "\n",
    "import numpy as np\n",
    "import pandas as pd\n",
    "\n",
    "from matplotlib import pylab as plt\n",
    "from astropy.time import Time, TimeDelta\n",
    "\n",
    "from lsst_efd_client import EfdClient, resample\n",
    "\n",
    "%matplotlib inline"
   ]
  },
  {
   "cell_type": "markdown",
   "metadata": {},
   "source": [
    "For this next line to work you need to setup the `notebook_auth.yaml` file as instructed here https://efd-client.lsst.io/getting-started.html#authentication-configuration"
   ]
  },
  {
   "cell_type": "code",
   "execution_count": null,
   "metadata": {},
   "outputs": [],
   "source": [
    "efd_client = EfdClient('summit_efd')"
   ]
  },
  {
   "cell_type": "markdown",
   "metadata": {},
   "source": [
    "Defining a timestamp to query data."
   ]
  },
  {
   "cell_type": "code",
   "execution_count": null,
   "metadata": {},
   "outputs": [],
   "source": [
    "t1 = Time(\"2020-01-23T00:21:00\", format='isot', scale='tai')\n",
    "t2 = Time(\"2020-01-23T06:59:00\", format='isot', scale='tai')"
   ]
  },
  {
   "cell_type": "markdown",
   "metadata": {},
   "source": [
    "Query simple entry in the database."
   ]
  },
  {
   "cell_type": "code",
   "execution_count": null,
   "metadata": {},
   "outputs": [],
   "source": [
    "hexapod = await efd_client.select_time_series(\"lsst.sal.ATHexapod.command_moveToPosition\",\n",
    "                                              [\"x\", \"y\", \"z\", \"u\", \"v\", \"w\"], t1, t2)"
   ]
  },
  {
   "cell_type": "markdown",
   "metadata": {},
   "source": [
    "Query packed entries in the database.\n",
    "\n",
    "Packed entries are created when a topic has an array of elements. Since influxdb does not have array types, the producer breaks arrays with `n` elements into `n` values in the datase. The `efd_client` libraries can pack these data types back and merge them into a unique table. "
   ]
  },
  {
   "cell_type": "code",
   "execution_count": null,
   "metadata": {},
   "outputs": [],
   "source": [
    "azel = await efd_client.select_packed_time_series(\"lsst.sal.ATMCS.mount_AzEl_Encoders\",\n",
    "                                                  [\"elevationCalculatedAngle\", \"azimuthCalculatedAngle\"], t1, t2)"
   ]
  },
  {
   "cell_type": "markdown",
   "metadata": {},
   "source": [
    "Make a user-defined query to the database. \n",
    "\n",
    "These are usefull when you want to match a specific value or values in the database instead of quering for time windows. "
   ]
  },
  {
   "cell_type": "code",
   "execution_count": null,
   "metadata": {},
   "outputs": [],
   "source": [
    "my_query = 'SELECT \"imageName\" FROM \"efd\".\"autogen\".\"lsst.sal.GenericCamera.logevent_endReadout\" where' \\\n",
    "           '\"imageName\" = \\'1576286733-HD32313-0-1\\''"
   ]
  },
  {
   "cell_type": "code",
   "execution_count": null,
   "metadata": {},
   "outputs": [],
   "source": [
    "eron = await efd_client.influx_client.query(my_query)"
   ]
  },
  {
   "cell_type": "code",
   "execution_count": null,
   "metadata": {},
   "outputs": [],
   "source": []
  }
 ],
 "metadata": {
  "kernelspec": {
   "display_name": "Python 3",
   "language": "python",
   "name": "python3"
  },
  "language_info": {
   "codemirror_mode": {
    "name": "ipython",
    "version": 3
   },
   "file_extension": ".py",
   "mimetype": "text/x-python",
   "name": "python",
   "nbconvert_exporter": "python",
   "pygments_lexer": "ipython3",
   "version": "3.7.2"
  }
 },
 "nbformat": 4,
 "nbformat_minor": 4
}
