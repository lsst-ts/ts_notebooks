{
 "cells": [
  {
   "cell_type": "markdown",
   "id": "57f863c1-ab8e-4da7-925c-3affc69c53bb",
   "metadata": {},
   "source": [
    "# Queue Script\n",
    "\n",
    "This notebook shows how to validate a script configuration and send it to the script queue using a notebooks.\n",
    "This is useful when trying to execute an operation that requires a series of scripts to be queued in succession.\n",
    "\n",
    "Here we will use the high-level class provided by the ts_observatory_control package, which takes care of the majority of the heavy-lifting.\n",
    "\n",
    "We will use the ATQueue (ScriptQueue with index=2) as an example but this can easily be modified for the MTQueue (ScriptQueue with index=1)."
   ]
  },
  {
   "cell_type": "markdown",
   "id": "19b80b5c-6d09-4a84-a870-8e09f3ce4b5e",
   "metadata": {},
   "source": [
    "## Importing required libraries\n",
    "\n",
    "In the cell below, note we import `ATQueue`, and the code to import `MTQueue` is intentionally commented out.\n",
    "In both cases, the module is imported as `Queue` so the code in the cells below remains functional regardless of the chosen queue."
   ]
  },
  {
   "cell_type": "code",
   "execution_count": null,
   "id": "11d542f8-1703-4d6e-b067-8b4bf565c360",
   "metadata": {},
   "outputs": [],
   "source": [
    "from lsst.ts import salobj\n",
    "import yaml\n",
    "\n",
    "# For MTQueue use\n",
    "# from lsst.ts.observatory.control.maintel.mtqueue import MTQueue as Queue\n",
    "# For ATQueue use\n",
    "from lsst.ts.observatory.control.auxtel.atqueue import ATQueue as Queue"
   ]
  },
  {
   "cell_type": "markdown",
   "id": "99aba22c-a8a6-4443-8ae5-556feb74858e",
   "metadata": {},
   "source": [
    "## Setting up domain and queue\n",
    "\n",
    "The cell below are simply instantiating a domain to be used by the middleware communication package and a queue object, used for the operations."
   ]
  },
  {
   "cell_type": "code",
   "execution_count": null,
   "id": "37f9b1e6-0905-484c-9eee-5e349f2df849",
   "metadata": {
    "tags": []
   },
   "outputs": [],
   "source": [
    "domain = salobj.Domain()"
   ]
  },
  {
   "cell_type": "code",
   "execution_count": null,
   "id": "80ba490c-14b3-4a1a-a0be-a496db25098b",
   "metadata": {
    "tags": []
   },
   "outputs": [],
   "source": [
    "queue = Queue(domain=domain)"
   ]
  },
  {
   "cell_type": "code",
   "execution_count": null,
   "id": "1ed0b00b-a4f5-424c-9ebb-4c72fe440fb4",
   "metadata": {
    "tags": []
   },
   "outputs": [],
   "source": [
    "await queue.start_task"
   ]
  },
  {
   "cell_type": "markdown",
   "id": "3083aa90-bcff-4a98-88b5-20cd12325f37",
   "metadata": {},
   "source": [
    "## Basic checks\n",
    "\n",
    "The next two cells execute liveliness and state checks to ensure the script can be validated and executed successfully.\n"
   ]
  },
  {
   "cell_type": "code",
   "execution_count": null,
   "id": "67054c96-9050-42b2-9045-70b68640c72d",
   "metadata": {},
   "outputs": [],
   "source": [
    "await queue.assert_liveliness()"
   ]
  },
  {
   "cell_type": "code",
   "execution_count": null,
   "id": "e2efb5d1-0079-488a-bd07-1a6a021168cf",
   "metadata": {},
   "outputs": [],
   "source": [
    "await queue.assert_all_enabled()"
   ]
  },
  {
   "cell_type": "markdown",
   "id": "a779c754-8501-4846-a7e6-cd57bcddbe91",
   "metadata": {},
   "source": [
    "## List available scripts"
   ]
  },
  {
   "cell_type": "code",
   "execution_count": null,
   "id": "c8baf54a-c56d-4010-b11e-f866f918b3c0",
   "metadata": {},
   "outputs": [],
   "source": [
    "await queue.list_external_scripts()"
   ]
  },
  {
   "cell_type": "code",
   "execution_count": null,
   "id": "c672f5ae-095c-40db-9bf9-080277ea42ad",
   "metadata": {},
   "outputs": [],
   "source": [
    "await queue.list_standard_scripts()"
   ]
  },
  {
   "cell_type": "markdown",
   "id": "2d5d8d44-611b-4f5c-a5b3-cf2986568d5a",
   "metadata": {},
   "source": [
    "## Defining a configuration\n",
    "\n",
    "For this exercise, let us pick the standard script `auxtel/track_target_and_take_image.py`."
   ]
  },
  {
   "cell_type": "code",
   "execution_count": null,
   "id": "5a2bc71c-72ce-48dd-84a4-d04a36f96001",
   "metadata": {},
   "outputs": [],
   "source": [
    "is_standard = True\n",
    "script = \"auxtel/track_target_and_take_image.py\""
   ]
  },
  {
   "cell_type": "markdown",
   "id": "4bb77909-5ab6-4f75-8933-cf67a555a8f6",
   "metadata": {},
   "source": [
    "### Get script schema\n",
    "\n",
    "If you are not familiar with the script you may want to look at the script schema before writting the configuration."
   ]
  },
  {
   "cell_type": "code",
   "execution_count": null,
   "id": "3e192565-62a5-47a4-9080-39f8bce71971",
   "metadata": {
    "tags": []
   },
   "outputs": [],
   "source": [
    "print(\n",
    "    await queue.get_script_schema(\n",
    "        is_standard=is_standard, script=script\n",
    "    )\n",
    ")"
   ]
  },
  {
   "cell_type": "markdown",
   "id": "4d08c7dc-c0d0-4431-8938-84d19fbed5dc",
   "metadata": {},
   "source": [
    "### Define configuration\n",
    "\n",
    "Let us now define a configuration and validate it.\n",
    "We will start with an intentionally invalid configuration that is missing a couple required fields.\n",
    "\n",
    "Note we define the configuration as a dictionary."
   ]
  },
  {
   "cell_type": "code",
   "execution_count": null,
   "id": "bb8d9c10-8300-47d0-b63c-303a6263d4aa",
   "metadata": {},
   "outputs": [],
   "source": [
    "script_config_bad = dict(\n",
    "    dec=-85.0,\n",
    "    ra=0.0,\n",
    ")"
   ]
  },
  {
   "cell_type": "markdown",
   "id": "c37f2411-9485-4f26-861d-372f31877150",
   "metadata": {},
   "source": [
    "When validating the configuration we will get a `RuntimeError` with a simple description of the problem.\n",
    "Note that it only outputs one problem at a time so you may have to validate the configuration a couple times until you get it right."
   ]
  },
  {
   "cell_type": "code",
   "execution_count": null,
   "id": "bffeceb6-4af3-479a-828d-af26b0d128df",
   "metadata": {},
   "outputs": [],
   "source": [
    "await queue.validate_config(\n",
    "    is_standard=is_standard,\n",
    "    script=script,\n",
    "    config=script_config_bad,\n",
    ")"
   ]
  },
  {
   "cell_type": "markdown",
   "id": "0c0bdf56-c9a1-47d1-b5c1-85723f10e4f4",
   "metadata": {},
   "source": [
    "Now let's define a complete configuration,"
   ]
  },
  {
   "cell_type": "code",
   "execution_count": null,
   "id": "6e397563-cb0f-4ba3-9b17-8811b8618705",
   "metadata": {},
   "outputs": [],
   "source": [
    "script_config = dict(\n",
    "    dec=-85.0,\n",
    "    ra=0.0,\n",
    "    name=\"Test Target\",\n",
    "    grating=\"empty_1\",\n",
    "    band_filter=\"empty_1\",\n",
    "    rot_sky=0.0,\n",
    "    obs_time=1.0,\n",
    "    num_exp=1,\n",
    "    exp_times=[1.0],\n",
    ")"
   ]
  },
  {
   "cell_type": "markdown",
   "id": "6ee28efa-8bef-45c6-b23d-d42ea9c6a90c",
   "metadata": {},
   "source": [
    "and validate it."
   ]
  },
  {
   "cell_type": "code",
   "execution_count": null,
   "id": "a5754063-0675-4add-8f82-55a70b568493",
   "metadata": {},
   "outputs": [],
   "source": [
    "await queue.validate_config(\n",
    "    is_standard=is_standard,\n",
    "    script=script,\n",
    "    config=script_config,\n",
    ")"
   ]
  },
  {
   "cell_type": "markdown",
   "id": "24020310-f088-4acf-8fb8-579957779575",
   "metadata": {},
   "source": [
    "Although not the primary use-case of this example, at this point, subsequently run via the scriptQueue using the LOVE interface. <br>\n",
    "The code below converts the config to yaml, so it can then be copy/pasted to the configuration in the LOVE GUI. "
   ]
  },
  {
   "cell_type": "code",
   "execution_count": null,
   "id": "e48fd9d6-4046-4fad-8125-51efd5d730f1",
   "metadata": {
    "tags": []
   },
   "outputs": [],
   "source": [
    "print(yaml.safe_dump(script_config))"
   ]
  },
  {
   "cell_type": "markdown",
   "id": "7b966165-1d46-48d0-9423-b1038b213077",
   "metadata": {},
   "source": [
    "## Queueing Script\n",
    "\n",
    "Now that we have a valid configuration we can queue the script.\n",
    "\n",
    "The command below will return as soon as the script is queued, it will not wait for the script to execute."
   ]
  },
  {
   "cell_type": "code",
   "execution_count": null,
   "id": "0a4ca499-d5a0-44d9-9ba3-a9e53ed00052",
   "metadata": {},
   "outputs": [],
   "source": [
    "await queue.add(\n",
    "    is_standard=is_standard,\n",
    "    script=script,\n",
    "    config=script_config,\n",
    ")"
   ]
  },
  {
   "cell_type": "markdown",
   "id": "7cbbe816-110b-4da4-bd82-f786bf6e2ad9",
   "metadata": {},
   "source": [
    "## Additional queueing options\n",
    "\n",
    "The Queue class has two additional utility methods to add scripts to the scritpt queue; `add_standard` and `add_external`.\n",
    "\n",
    "In the example above, you could also have done:"
   ]
  },
  {
   "cell_type": "code",
   "execution_count": null,
   "id": "b7d58490-98e3-4e71-ab57-cd072885bb2e",
   "metadata": {},
   "outputs": [],
   "source": [
    "await queue.add_standard(\n",
    "    script=script,\n",
    "    config=script_config,\n",
    ")"
   ]
  },
  {
   "cell_type": "markdown",
   "id": "9c30f6ec-7c66-4f3f-b945-7207a2b71fab",
   "metadata": {},
   "source": [
    "Furthermore, both `add`, `add_standard` and `add_external` have additional options to control the script log level (which is DEBUG by default) and an optional \"description\" users can add to the script execution metadata.\n",
    "\n",
    "You can check these plus additional options by adding a `?` to the cell to get the method docstring."
   ]
  },
  {
   "cell_type": "code",
   "execution_count": null,
   "id": "067b747a-a508-417b-9da5-9159806a89da",
   "metadata": {},
   "outputs": [],
   "source": [
    "queue.add?"
   ]
  },
  {
   "cell_type": "code",
   "execution_count": null,
   "id": "9fdea6b3-6a1d-4e4c-9e49-348fd11b29c8",
   "metadata": {},
   "outputs": [],
   "source": []
  }
 ],
 "metadata": {
  "kernelspec": {
   "display_name": "LSST",
   "language": "python",
   "name": "lsst"
  },
  "language_info": {
   "codemirror_mode": {
    "name": "ipython",
    "version": 3
   },
   "file_extension": ".py",
   "mimetype": "text/x-python",
   "name": "python",
   "nbconvert_exporter": "python",
   "pygments_lexer": "ipython3",
   "version": "3.10.9"
  }
 },
 "nbformat": 4,
 "nbformat_minor": 5
}
