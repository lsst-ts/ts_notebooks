{
 "cells": [
  {
   "cell_type": "markdown",
   "metadata": {},
   "source": [
    "## Running an open-loop focus (and collimation) of the AT and LATISS\n",
    "#### This notebook is used to demonstrate how to take curvature wavefront sensing (CWFS) data to calculate focus and any decentering of the hexapod. It then shows how to apply those offsets"
   ]
  },
  {
   "cell_type": "code",
   "execution_count": null,
   "metadata": {},
   "outputs": [],
   "source": [
    "import sys\n",
    "import asyncio\n",
    "import logging\n",
    "import numpy as np\n",
    "import matplotlib.pyplot as plt\n",
    "from lsst.ts.externalscripts.auxtel.latiss_cwfs_align import LatissCWFSAlign\n",
    "import time\n",
    "from lsst.ts import salobj"
   ]
  },
  {
   "cell_type": "code",
   "execution_count": null,
   "metadata": {},
   "outputs": [],
   "source": [
    "# Temporarily needed to run at summit, this will need to be commented out in the future!\n",
    "import os\n",
    "os.environ[\"LSST_DDS_DOMAIN\"] = 'lsatmcs'\n",
    "os.environ[\"OSPL_URI\"] = \"file:///home/patrickingraham/ospl.xml\""
   ]
  },
  {
   "cell_type": "code",
   "execution_count": null,
   "metadata": {},
   "outputs": [],
   "source": [
    "# Creating Logging Ability\n",
    "stream_handler = logging.StreamHandler(sys.stdout)\n",
    "# if you want logging\n",
    "logger = logging.getLogger()\n",
    "logger.addHandler(stream_handler)\n",
    "logger.level = logging.DEBUG"
   ]
  },
  {
   "cell_type": "code",
   "execution_count": null,
   "metadata": {},
   "outputs": [],
   "source": [
    "# Read in the class\n",
    "# Note that setting remotes=False will allow one to reduce data if they so choose without affecting telescope operations\n",
    "script = LatissCWFSAlign(index=1, remotes=True)\n",
    "script.dataPath='/project/shared/auxTel/'"
   ]
  },
  {
   "cell_type": "code",
   "execution_count": null,
   "metadata": {},
   "outputs": [],
   "source": [
    "# Enable Latiss (if required)\n",
    "# await script.latiss.enable()"
   ]
  },
  {
   "cell_type": "code",
   "execution_count": null,
   "metadata": {},
   "outputs": [],
   "source": [
    "#slew to target\n",
    "await script.attcs.slew_object('HD 59468')"
   ]
  },
  {
   "cell_type": "code",
   "execution_count": null,
   "metadata": {},
   "outputs": [],
   "source": [
    "# Setup LATISS to have proper configuration\n",
    "script.filter='BG40'\n",
    "script.grating = 'empty_1'\n",
    "script.exposure_time = 30"
   ]
  },
  {
   "cell_type": "markdown",
   "metadata": {},
   "source": [
    "### Take quick Image to check pointing\n",
    "#### Mostly not required, therefore leaving as commented out"
   ]
  },
  {
   "cell_type": "code",
   "execution_count": null,
   "metadata": {},
   "outputs": [],
   "source": [
    "# Check Pointing \n",
    "# await script.latiss.take_engtest(exptime=exptime, filter=script.filter, grating=script.grating)"
   ]
  },
  {
   "cell_type": "code",
   "execution_count": null,
   "metadata": {},
   "outputs": [],
   "source": [
    "# Offset from Boresight if required (in arcseconds) - not generally required!\n",
    "#await script.attcs.offset_xy(y=0,x=60) # not cumulative (sticky) offsets!"
   ]
  },
  {
   "cell_type": "markdown",
   "metadata": {},
   "source": [
    "### Setup for running the script to take data and calculate offsets"
   ]
  },
  {
   "cell_type": "code",
   "execution_count": null,
   "metadata": {},
   "outputs": [],
   "source": [
    "script.binning = 1 # takes longer to calculate but answer has higher confidence, should be able to run with binning=2"
   ]
  },
  {
   "cell_type": "code",
   "execution_count": null,
   "metadata": {},
   "outputs": [],
   "source": [
    "# Uncomment here to run the script without taking new images\n",
    "# To test a single pair of images just put image id's. Set to None to get new images without restarting the notebook.\n",
    "\n",
    "#script.intra_visit_id = 2020031200289\n",
    "#script.extra_visit_id = 2020031200290\n",
    "\n",
    "# This angle should be set to the angle relating the instrument to the boresight, which is\n",
    "# equal to \"elevation - nasmyth2 rotator angle\". It needs to be manually set\n",
    "# as the script uses an event which won't be published.\n",
    "\n",
    "#script.angle = 0.0 #61.7-37.9 # elev - nas2 "
   ]
  },
  {
   "cell_type": "code",
   "execution_count": null,
   "metadata": {},
   "outputs": [],
   "source": [
    "start_time=time.time()\n",
    "await script.run_cwfs()\n",
    "end_time=time.time()\n",
    "print('WFE fitting took {0:0.3f} seconds'.format(end_time-start_time)) # 56.7s"
   ]
  },
  {
   "cell_type": "markdown",
   "metadata": {},
   "source": [
    "## Print and plot the results of the fit\n",
    "#### If the coma X, Y and defocus results are below 50nm then this is acceptable and the PSF will be heavily dominated by atmospheric seeing"
   ]
  },
  {
   "cell_type": "code",
   "execution_count": null,
   "metadata": {},
   "outputs": [],
   "source": [
    "script.calculate_results()\n",
    "# plot zernikes\n",
    "x = np.arange(9)+4\n",
    "plt.plot(x, script.algo.zer4UpNm[:9], 'o-', label=f'{script.dz}')\n",
    "xlim = plt.xlim()\n",
    "plt.plot(np.arange(15), np.zeros(15)+50, 'b--')\n",
    "plt.plot(np.arange(15), np.zeros(15)-50, 'b--')\n",
    "plt.xlim(xlim)\n",
    "plt.ylabel(\"Zernike coeff (nm)\")\n",
    "plt.xlabel(\"Zernike index\")\n",
    "plt.grid()\n",
    "plt.legend()\n",
    "\n",
    "print(script.algo.zer4UpNm[:9])"
   ]
  },
  {
   "cell_type": "code",
   "execution_count": null,
   "metadata": {},
   "outputs": [],
   "source": [
    "# plot image and mask \n",
    "fig1 = plt.figure(1, figsize=(12,8))\n",
    "ax11 = fig1.add_subplot(121)\n",
    "ax11.set_title(\"defocus 0.8 - intra\")\n",
    "ax11.imshow(script.I1[0].image0)\n",
    "ax11.contour(script.algo.pMask) \n",
    "ax12 = fig1.add_subplot(122)\n",
    "ax12.set_title(\"defocus 0.8 - extra\")\n",
    "ax12.imshow(script.I2[0].image0)\n",
    "ax12.contour(script.algo.pMask) "
   ]
  },
  {
   "cell_type": "markdown",
   "metadata": {},
   "source": [
    "## Take an in-focus image (not required)\n",
    "#### This can be useful to verify WFE due to the optics are not dominent"
   ]
  },
  {
   "cell_type": "code",
   "execution_count": null,
   "metadata": {},
   "outputs": [],
   "source": [
    "if False:\n",
    "    # Start a logger to publish observer notes to the EFD, this is useful for finding the data later but not required\n",
    "    # find it using SELECT \"message\" FROM \"efd\".\"autogen\".\"lsst.sal.Script.logevent_logMessage\" WHERE time > :dashboardTime:\n",
    "    comment_log_controller = salobj.Controller(\"Script\", index=1)\n",
    "    comment_log_controller.evt_logMessage.set_put(message=\"Starting In-focus post CWFS data on current target\")\n",
    "    #comment_log_controller.evt_logMessage.set_put(message=\"Test: {}\".format(time.time()))\n",
    "    tmp = latiss.take_object(exptime=15, n=1)\n",
    "    comment_log_controller.evt_logMessage.set_put(message=\"Finished In-focus post CWFS data current target\"))"
   ]
  },
  {
   "cell_type": "markdown",
   "metadata": {},
   "source": [
    "## Apply hexapod offsets\n",
    "### Values are left to be input by hand to do manual \"gain\" corrections. See tstn-015.lsst.io for discussion on this topic\n",
    "#### Defocus offsets less than 2um should not be applied\n",
    "#### Coma (x,y) offsets less than 50um should not be applied"
   ]
  },
  {
   "cell_type": "code",
   "execution_count": null,
   "metadata": {},
   "outputs": [],
   "source": []
  },
  {
   "cell_type": "code",
   "execution_count": null,
   "metadata": {},
   "outputs": [],
   "source": [
    "# command to offset hexapod\n",
    "offset = {'x':0, 'y':  0.0, 'z': 0.0}\n",
    "await script.attcs.ataos.cmd_offset.set_start(**offset)"
   ]
  },
  {
   "cell_type": "code",
   "execution_count": null,
   "metadata": {},
   "outputs": [],
   "source": [
    "# Offsets are cumulative, if you get lost you can go back to what the look-up table originally \n",
    "# planned (and probably where you started from) by uncommenting the following line\n",
    "#await script.attcs.ataos.cmd_resetOffset.start()"
   ]
  },
  {
   "cell_type": "code",
   "execution_count": null,
   "metadata": {},
   "outputs": [],
   "source": []
  }
 ],
 "metadata": {
  "kernelspec": {
   "display_name": "LSST",
   "language": "python",
   "name": "lsst"
  },
  "language_info": {
   "codemirror_mode": {
    "name": "ipython",
    "version": 3
   },
   "file_extension": ".py",
   "mimetype": "text/x-python",
   "name": "python",
   "nbconvert_exporter": "python",
   "pygments_lexer": "ipython3",
   "version": "3.7.6"
  }
 },
 "nbformat": 4,
 "nbformat_minor": 4
}
