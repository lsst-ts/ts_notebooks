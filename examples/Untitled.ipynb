{
 "cells": [
  {
   "cell_type": "code",
   "execution_count": null,
   "id": "9024f19d",
   "metadata": {},
   "outputs": [],
   "source": [
    "from lsst.ts import salobj, electrometer\n",
    "from lsst.ts.idl.enums import Electrometer"
   ]
  },
  {
   "cell_type": "code",
   "execution_count": null,
   "id": "57feb78f",
   "metadata": {},
   "outputs": [],
   "source": [
    "electrometer = salobj.Remote(domain=Domain(), name=\"Electrometer\", index=1)\n",
    "\n",
    "await electrometer.cmd_start.set_start(timeout=5)\n",
    "await electrometer.cmd_enable.set_start(timeout=5)\n",
    "\n",
    "# This scans indefinately\n",
    "await electrometer.cmd_startScan.set_start()\n",
    "# This stops the scan and writes the fits file to the docker container (File path is located in the configuration setup and is configurable)\n",
    "await electromter.cmd_stopScan.set_start()\n",
    "\n",
    "intensity = await electrometer.evt_intensity.aget() # currently not published, this is how you receive events in a notebook.\n",
    "print(intensity.intensity)\n",
    "\n",
    "# https://ts-xml.lsst.io/sal_interfaces/Electrometer.html#events Link to XML"
   ]
  }
 ],
 "metadata": {
  "kernelspec": {
   "display_name": "Python 3 (ipykernel)",
   "language": "python",
   "name": "python3"
  },
  "language_info": {
   "codemirror_mode": {
    "name": "ipython",
    "version": 3
   },
   "file_extension": ".py",
   "mimetype": "text/x-python",
   "name": "python",
   "nbconvert_exporter": "python",
   "pygments_lexer": "ipython3",
   "version": "3.8.13"
  }
 },
 "nbformat": 4,
 "nbformat_minor": 5
}
