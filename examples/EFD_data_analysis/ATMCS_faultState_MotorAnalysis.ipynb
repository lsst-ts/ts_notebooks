{
 "cells": [
  {
   "cell_type": "markdown",
   "metadata": {},
   "source": [
    "# Auxiliary Telescope Motor Condition Analysis\n"
   ]
  },
  {
   "cell_type": "markdown",
   "metadata": {},
   "source": [
    "#### This notebook is used to extract the motor commanded positions, trajectories, velocities, and motor torques for each axis of the Auxiliary Telescope for a given time interval. By inputting a time interval, this notebook allows the rapid determination of what caused the fault, particularily in the case of motor slippage, or if a drive was commanded in an unstable fashion.\n",
    "\n",
    "##### It is expected that the user interacts with the Bokeh plots to better pinpoint the issue they're searching for. The plot ranges as created will most likely be too large, or contain too much data to be useful with zero manipulation of the axes/zooms etc.\n",
    "\n",
    "This notebook extracts data from the DM-EFD using [aioinflux](https://aioinflux.readthedocs.io/en/stable/index.html), a Python client for InfluxDB, and proceed with data analysis using Pandas dataframes. \n",
    "\n",
    "This is complementaty to the [Chronograf](https://test-chronograf-efd.lsst.codes) interface which we use for time-series visualization.\n",
    "\n",
    "In addition to `aioinflux`, you'll need to install `pandas`, `numpy` and `matplotlib` to run this notebook."
   ]
  },
  {
   "cell_type": "code",
   "execution_count": null,
   "metadata": {
    "scrolled": true,
    "tags": []
   },
   "outputs": [],
   "source": [
    "import matplotlib\n",
    "%matplotlib widget\n",
    "from matplotlib import pylab as plt\n",
    "import aioinflux\n",
    "import getpass\n",
    "import pandas as pd\n",
    "import asyncio\n",
    "import numpy as np\n",
    "from astropy.time import Time, TimeDelta\n",
    "\n",
    "from bokeh.plotting import figure, output_notebook, show\n",
    "from bokeh.models import LinearAxis, Range1d\n",
    "output_notebook()\n",
    "from bokeh.models import Span, Label\n",
    "\n",
    "from lsst_efd_client import EfdClient, resample"
   ]
  },
  {
   "cell_type": "code",
   "execution_count": null,
   "metadata": {
    "tags": []
   },
   "outputs": [],
   "source": [
    "client = EfdClient('summit_efd')\n",
    "client.output = 'dataframe'"
   ]
  },
  {
   "cell_type": "markdown",
   "metadata": {},
   "source": [
    "We'll access the DM-EFD instance deployed at the summit. You need to be on site or connected to the SUMMIT VPN. <br>\n",
    "To use the USDF instance of the EFD, replace the string with `usdf_efd`. <br>\n",
    "Details on EFD instances can be found at https://sqr-034.lsst.io/https://sqr-034.lsst.io/"
   ]
  },
  {
   "cell_type": "markdown",
   "metadata": {},
   "source": [
    "## Declare timestamps used for EFD queries"
   ]
  },
  {
   "cell_type": "code",
   "execution_count": null,
   "metadata": {
    "tags": []
   },
   "outputs": [],
   "source": [
    "### Example #1 - Nasmyth 2 motor slip\n",
    "t1 = Time('2019-12-14T02:17:20', scale='utc') \n",
    "window = TimeDelta(30, format='sec')\n",
    "t2=t1+window"
   ]
  },
  {
   "cell_type": "code",
   "execution_count": null,
   "metadata": {
    "tags": []
   },
   "outputs": [],
   "source": [
    "# Example #2 - Nasmyth 2 motor slip\n",
    "t1 = Time('2021-02-19T07:32:15', scale='utc')  # Nasmuth 2 issue\n",
    "window = TimeDelta(15, format='sec')\n",
    "t2=t1+window"
   ]
  },
  {
   "cell_type": "code",
   "execution_count": null,
   "metadata": {
    "tags": []
   },
   "outputs": [],
   "source": [
    "# Example #3 - 02/19/2021 00:50:02 - elevation jitter in image AT_O_20210218_000214 (servo issue)\n",
    "t1 = Time('2021-02-19T00:50:00', scale='utc')  \n",
    "window = TimeDelta(60*10, format='sec')\n",
    "t2=t1+window"
   ]
  },
  {
   "cell_type": "code",
   "execution_count": null,
   "metadata": {
    "tags": []
   },
   "outputs": [],
   "source": [
    "# Example #4 - 02/19/2021 07:50:12 - elevation jitter in image AT_O_20210219_000649 (wind issue) \n",
    "t1 = Time('2021-02-19T07:50:00', scale='utc')  \n",
    "window = TimeDelta(60, format='sec')\n",
    "t2=t1+window"
   ]
  },
  {
   "cell_type": "code",
   "execution_count": null,
   "metadata": {
    "tags": []
   },
   "outputs": [],
   "source": [
    "print(f'Query start time is: {t1.isot}')\n",
    "print(f'Query end time is: {t2.isot}')"
   ]
  },
  {
   "cell_type": "markdown",
   "metadata": {},
   "source": [
    "Aspects of this notebook also show the start and end of exposures. This is often useful for troubleshooting."
   ]
  },
  {
   "cell_type": "code",
   "execution_count": null,
   "metadata": {
    "tags": []
   },
   "outputs": [],
   "source": [
    "# Find images taken during the time interval\n",
    "image_endReadouts = await client.select_time_series(\"lsst.sal.ATCamera.logevent_endReadout\", [\"imageNumber\", \"timestampAcquisitionStart\", \"timestampEndOfReadout\", \"requestedExposureTime\"], t1, t2)\n",
    "image_startIntegrations = await client.select_time_series(\"lsst.sal.ATCamera.logevent_startIntegration\", [\"imageNumber\", \"timestampAcquisitionStart\", \"timestampEndOfReadout\", \"requestedExposureTime\"], t1, t2)\n",
    "#print(image_info)"
   ]
  },
  {
   "cell_type": "code",
   "execution_count": null,
   "metadata": {},
   "outputs": [],
   "source": []
  },
  {
   "cell_type": "code",
   "execution_count": null,
   "metadata": {
    "tags": []
   },
   "outputs": [],
   "source": [
    "cl=client.influx_client"
   ]
  },
  {
   "cell_type": "markdown",
   "metadata": {
    "execution": {
     "iopub.execute_input": "2023-03-09T03:55:06.838110Z",
     "iopub.status.busy": "2023-03-09T03:55:06.837828Z",
     "iopub.status.idle": "2023-03-09T03:55:06.840401Z",
     "shell.execute_reply": "2023-03-09T03:55:06.839991Z",
     "shell.execute_reply.started": "2023-03-09T03:55:06.838091Z"
    }
   },
   "source": [
    "## Filter change information\n",
    "This should be skipped if not exploring filter effects.<br>\n",
    "This is only used in the plots for Nasmyth 2."
   ]
  },
  {
   "cell_type": "markdown",
   "metadata": {
    "tags": []
   },
   "source": [
    "The following syntax is an example of how a raw SQL query can be performed. <br>\n",
    "In this case it is to explore how changing the LATISS filter affects the instrument encoders. This "
   ]
  },
  {
   "cell_type": "code",
   "execution_count": null,
   "metadata": {
    "tags": []
   },
   "outputs": [],
   "source": [
    "query_syntax=f\"SELECT \\\"private_sndStamp\\\", \\\"name\\\", \\\"filter\\\"  FROM \\\"efd\\\".\\\"autogen\\\".\\\"lsst.sal.ATSpectrograph.logevent_reportedFilterPosition\\\" WHERE time > '{t1.isot}Z' and time <= '{t2.isot}Z' ORDER BY DESC LIMIT 1\" \n",
    "print(query_syntax)\n",
    "result = await cl.query(query_syntax)\n",
    "result"
   ]
  },
  {
   "cell_type": "code",
   "execution_count": null,
   "metadata": {
    "tags": []
   },
   "outputs": [],
   "source": [
    "# Find filter changes taken during the time interval\n",
    "# filter_cmd = await client.select_time_series(\"lsst.sal.ATSpectrograph.command_changeFilter\", [\"filter\", \"slot\", \"private_sndStamp\"], t1, t2)\n",
    "query_syntax=f\"SELECT \\\"private_sndStamp\\\", \\\"filter\\\" FROM \\\"efd\\\".\\\"autogen\\\".\\\"lsst.sal.ATSpectrograph.command_changeFilter\\\" WHERE time > '{t1.isot}Z' and time <= '{t2.isot}Z'\"\n",
    "filter_cmd = await cl.query(query_syntax)\n",
    "filter_cmd_complete = await client.select_time_series(\"lsst.sal.ATSpectrograph.logevent_reportedFilterPosition\", [\"slot\", \"private_sndStamp\"], t1, t2)\n",
    "query_syntax=f\"SELECT \\\"private_sndStamp\\\", \\\"slot\\\" FROM \\\"efd\\\".\\\"autogen\\\".\\\"lsst.sal.ATSpectrograph.logevent_reportedFilterPosition\\\" WHERE time < '{t1.isot}Z' ORDER BY DESC LIMIT 1\"\n",
    "starting_filter_pos = await cl.query(query_syntax)\n",
    "starting_filter_pos\n",
    "#print(image_info)"
   ]
  },
  {
   "cell_type": "code",
   "execution_count": null,
   "metadata": {
    "tags": []
   },
   "outputs": [],
   "source": [
    "filter_cmd_complete"
   ]
  },
  {
   "cell_type": "code",
   "execution_count": null,
   "metadata": {
    "tags": []
   },
   "outputs": [],
   "source": [
    "query_syntax=f\"SELECT \\\"private_sndStamp\\\", \\\"disperser\\\"  FROM \\\"efd\\\".\\\"autogen\\\".\\\"lsst.sal.ATSpectrograph.command_changeDisperser\\\" WHERE time > '{t1.isot}Z' and time <= '{t2.isot}Z'\"\n",
    "disperser_cmd = await cl.query(query_syntax)\n",
    "query_syntax=f\"SELECT \\\"private_sndStamp\\\", \\\"slot\\\"  FROM \\\"efd\\\".\\\"autogen\\\".\\\"lsst.sal.ATSpectrograph.logevent_reportedDisperserPosition\\\" WHERE time > '{t1.isot}Z' and time <= '{t2.isot}Z'\"\n",
    "disperser_cmd_complete = await cl.query(query_syntax)\n",
    "query_syntax=f\"SELECT \\\"private_sndStamp\\\", \\\"slot\\\" FROM \\\"efd\\\".\\\"autogen\\\".\\\"lsst.sal.ATSpectrograph.logevent_reportedDisperserPosition\\\" WHERE time < '{t1.isot}Z' ORDER BY DESC LIMIT 1\"\n",
    "starting_disperser_pos = await cl.query(query_syntax)\n",
    "starting_disperser_pos"
   ]
  },
  {
   "cell_type": "code",
   "execution_count": null,
   "metadata": {
    "tags": []
   },
   "outputs": [],
   "source": [
    "disperser_cmd_complete"
   ]
  },
  {
   "cell_type": "code",
   "execution_count": null,
   "metadata": {
    "tags": []
   },
   "outputs": [],
   "source": [
    "# Use this cell to modify timestamps to be associated with a single image\n",
    "# ind=np.where(image_info.imageNumber == 214) # example 3\n",
    "# #ind=np.where(image_info.imageNumber == 639) # example 4\n",
    "# t1 = Time(image_info.timestampAcquisitionStart[ind[0][0]], format='unix', scale='utc', out_subfmt='isot') \n",
    "# t2 = Time(image_info.timestampEndOfReadout[ind[0][0]], format='unix', scale='utc', out_subfmt='isot')"
   ]
  },
  {
   "cell_type": "code",
   "execution_count": null,
   "metadata": {
    "tags": []
   },
   "outputs": [],
   "source": [
    "# time check verification\n",
    "print(t1.isot)\n",
    "print(t1.datetime64)\n",
    "print(t2.isot)\n",
    "# don't use this one...\n",
    "#pd.to_datetime(image_info.timestampAcquisitionStart[0], unit='s')"
   ]
  },
  {
   "cell_type": "code",
   "execution_count": null,
   "metadata": {
    "tags": []
   },
   "outputs": [],
   "source": [
    "# Smooth the data? set to 1 for no, otherwise set the window\n",
    "smoothing_window = 1 # smoothes to 10Hz from 100Hz"
   ]
  },
  {
   "attachments": {},
   "cell_type": "markdown",
   "metadata": {},
   "source": [
    "# Azimuth Analysis\n",
    "Note that if a query returns an empty result it may result in the error \"KeyError: 'cRIO_timestamp'\". <br>\n",
    "This most often occurs if querying the summit EFD which only stores 30 days of data instead of the replicated EFD at usdf, where all the data is contained."
   ]
  },
  {
   "cell_type": "code",
   "execution_count": null,
   "metadata": {
    "tags": []
   },
   "outputs": [],
   "source": [
    "# query angle of azimuth (calculated from 3 individual encoders)\n",
    "az = (await client.select_packed_time_series(\"lsst.sal.ATMCS.mount_AzEl_Encoders\",\n",
    "                                             [\"azimuthCalculatedAngle\", ], t1,\n",
    "                                             t2)).rolling(window=smoothing_window, min_periods=1).mean()"
   ]
  },
  {
   "cell_type": "code",
   "execution_count": null,
   "metadata": {},
   "outputs": [],
   "source": []
  },
  {
   "cell_type": "code",
   "execution_count": null,
   "metadata": {},
   "outputs": [],
   "source": [
    "# query the angle commanded in the ATMCS trajectory generator\n",
    "commanded_az = (await client.select_packed_time_series(\"lsst.sal.ATMCS.trajectory\", [\"azimuth\", ], t1, t2)).rolling(window=smoothing_window, min_periods=1).mean()"
   ]
  },
  {
   "cell_type": "code",
   "execution_count": null,
   "metadata": {},
   "outputs": [],
   "source": [
    "# query the angle commanded by the AT Pointing Component \n",
    "commanded_az_ATPng = (await client.select_time_series(\"lsst.sal.ATMCS.command_trackTarget\", [\"azimuth\",\"private_sndStamp\", \"private_rcvStamp\"], t1, t2)).rolling(window=smoothing_window, min_periods=1).mean()"
   ]
  },
  {
   "cell_type": "code",
   "execution_count": null,
   "metadata": {},
   "outputs": [],
   "source": [
    "# Useful code snippet on how to convert the time strings to a readable format\n",
    "#help(pd.to_datetime(commanded_az_ATPng['private_sndStamp'][0], unit='s'))"
   ]
  },
  {
   "cell_type": "code",
   "execution_count": null,
   "metadata": {},
   "outputs": [],
   "source": [
    "def show_image_boundaries(startIntegrations, endReadouts, yaxis_data):\n",
    "    \"\"\"Overplot image boundaries\"\"\"\n",
    "    if len(startIntegrations) > 0:\n",
    "        for l in range(len(startIntegrations)):\n",
    "            start=(Time(startIntegrations.index.values)).value[l]\n",
    "            start_vline = Span(location=start, dimension='height', line_color='red', line_width=1, line_dash='solid')\n",
    "\n",
    "            p.add_layout(start_vline)\n",
    "            \n",
    "    if len(endReadouts) > 0:\n",
    "        l=0\n",
    "        for l in range(len(endReadouts)):\n",
    "            finish = (Time(endReadouts.index.values)).value[l]\n",
    "            finish_vline = Span(location=finish, dimension='height', line_color='red', line_width=1, line_dash='dashed')\n",
    "            ylabel_pos = np.median(yaxis_data)\n",
    "            seq_num_label = Label(x=finish, y=ylabel_pos, text=str(endReadouts.imageNumber[l]))\n",
    "\n",
    "            p.add_layout(finish_vline)\n",
    "            p.add_layout(seq_num_label)"
   ]
  },
  {
   "cell_type": "markdown",
   "metadata": {},
   "source": [
    "### Plot commanded position (by pointing component), target position by ATMCS, Calculated position by ATMCS"
   ]
  },
  {
   "cell_type": "code",
   "execution_count": null,
   "metadata": {},
   "outputs": [],
   "source": [
    "#derive principal (left) plot axis range\n",
    "yr_cen=np.median(commanded_az['azimuth'])\n",
    "dy=1.1*(np.max(commanded_az['azimuth'])- np.min(commanded_az['azimuth']))\n",
    "\n",
    "p = figure(x_axis_type='datetime', y_range=(yr_cen-dy, yr_cen+dy), plot_width=800, plot_height=400)\n",
    "p.yaxis.axis_label = \"Azimuth (degrees)\"\n",
    "p.xaxis.axis_label = \"Time\"\n",
    "p.line(x=(Time(commanded_az.index.values)).value, y=commanded_az['azimuth'], color='black', line_width=2, legend_label='ATMCS Commanded Az Trajectory')\n",
    "p.cross(x=(Time(az.index.values)).value, y=az['azimuthCalculatedAngle'], color='red', line_width=2, line_dash='dashed', legend_label='ATMCS Measured Az Position')\n",
    "times=Time((commanded_az_ATPng['private_sndStamp']), format='unix')\n",
    "times=(Time(commanded_az_ATPng.index.values)).value\n",
    "p.cross(x=times, y=commanded_az_ATPng['azimuth'], color='green', line_width=2, legend_label='ATPng Target Az')\n",
    "\n",
    "# plot image boundaries\n",
    "# show_image_boundaries(image_info, commanded_az['azimuth'])\n",
    "show_image_boundaries(image_startIntegrations, image_endReadouts, commanded_az['azimuth'])\n",
    "\n",
    "p.legend.location = 'bottom_left'\n",
    "p.legend.click_policy = 'hide'\n",
    "show(p)"
   ]
  },
  {
   "cell_type": "markdown",
   "metadata": {},
   "source": [
    "## Azimuth Motor Velocity Analysis\n",
    "Note that while tracking, the velocity demand has an offset with respect to the actual velocity, this is normal as the velocity loop has no integrator (just a fixed gain). "
   ]
  },
  {
   "cell_type": "code",
   "execution_count": null,
   "metadata": {},
   "outputs": [],
   "source": [
    "#Measured Velocity\n",
    "measured_vel_az1 = await client.select_packed_time_series(\"lsst.sal.ATMCS.measuredMotorVelocity\", [\"azimuthMotor1Velocity\", ], t1, t2)\n",
    "measured_vel_az2 = await client.select_packed_time_series(\"lsst.sal.ATMCS.measuredMotorVelocity\", [\"azimuthMotor2Velocity\", ], t1, t2)\n",
    "# Commanded Velocity Trajectory\n",
    "commanded_vel_az = await client.select_packed_time_series(\"lsst.sal.ATMCS.trajectory\", [\"azimuthVelocity\", ], t1, t2)\n",
    "# Commanded from Pointing Component\n",
    "commanded_vel_az_ATPng = await client.select_time_series(\"lsst.sal.ATMCS.command_trackTarget\", [\"azimuthVelocity\",\"private_sndStamp\", \"private_rcvStamp\"], t1, t2)"
   ]
  },
  {
   "cell_type": "code",
   "execution_count": null,
   "metadata": {},
   "outputs": [],
   "source": []
  },
  {
   "cell_type": "code",
   "execution_count": null,
   "metadata": {},
   "outputs": [],
   "source": [
    "p = figure(x_axis_type='datetime', y_range=(yr_cen-dy, yr_cen+dy), plot_width=800, plot_height=400)\n",
    "p.yaxis.axis_label = \"Azimuth (degrees)\"\n",
    "p.xaxis.axis_label = \"Time\"\n",
    "# Positions\n",
    "p.line(x=(Time(commanded_az.index.values)).value, y=commanded_az['azimuth'], color='black', line_width=2, legend_label='ATMCS Commanded Az Trajectory')\n",
    "p.cross(x=(Time(az.index.values)).value, y=az['azimuthCalculatedAngle'], color='red', line_width=2, line_dash='dashed', legend_label='ATMCS Measured Az Position')\n",
    "times=Time((commanded_az_ATPng['private_sndStamp']), format='unix')\n",
    "times=(Time(commanded_az_ATPng.index.values)).value\n",
    "p.cross(x=times, y=commanded_az_ATPng['azimuth'], color='green', line_width=2, legend_label='ATPng Target Az')\n",
    "# Velocities\n",
    "p.extra_y_ranges = {'Velocity': Range1d(start=-0.1, end=0.1)}\n",
    "p.add_layout(LinearAxis(y_range_name='Velocity', axis_label='Velocity'), 'right')\n",
    "p.line(x=(Time(commanded_vel_az.index.values)).value, y=commanded_vel_az['azimuthVelocity'], color='black', alpha=0.7, y_range_name='Velocity', legend_label='ATMCS Commanded Az Velocity Trajectory')\n",
    "p.line(x=(Time(measured_vel_az1.index.values)).value, y=measured_vel_az1['azimuthMotor1Velocity'], color='red', alpha=0.5, y_range_name='Velocity', legend_label='ATMCS Measured Az Velocity Motor 1')\n",
    "p.line(x=(Time(measured_vel_az2.index.values)).value, y=measured_vel_az2['azimuthMotor2Velocity'], color='blue', alpha=0.5, y_range_name='Velocity', legend_label='ATMCS Measured Az Velocity Motor 2')\n",
    "\n",
    "p.x(x=times, y=commanded_vel_az_ATPng['azimuthVelocity'], y_range_name='Velocity', color='green', line_width=2, legend_label='ATPng Target Az Velocity')\n",
    "\n",
    "p.legend.location = 'top_left'\n",
    "p.legend.click_policy = 'hide'\n",
    "show(p)"
   ]
  },
  {
   "cell_type": "markdown",
   "metadata": {},
   "source": [
    "### Azimuth Torque Analysis"
   ]
  },
  {
   "cell_type": "code",
   "execution_count": null,
   "metadata": {},
   "outputs": [],
   "source": [
    "# Demanded and Measured Torques\n",
    "# Motor 1\n",
    "az_motor1_torque_demand = await client.select_packed_time_series(\"lsst.sal.ATMCS.torqueDemand\", [\"azimuthMotor1Torque\", ], t1, t2)\n",
    "az_motor1_torque_measured = await client.select_packed_time_series(\"lsst.sal.ATMCS.measuredTorque\", [\"azimuthMotor1Torque\", ], t1, t2)\n",
    "# Motor 2\n",
    "az_motor2_torque_demand = await client.select_packed_time_series(\"lsst.sal.ATMCS.torqueDemand\", [\"azimuthMotor2Torque\", ], t1, t2)\n",
    "az_motor2_torque_measured = await client.select_packed_time_series(\"lsst.sal.ATMCS.measuredTorque\", [\"azimuthMotor2Torque\", ], t1, t2)"
   ]
  },
  {
   "cell_type": "code",
   "execution_count": null,
   "metadata": {},
   "outputs": [],
   "source": [
    "# Motor 1 Plot\n",
    "yr_cen=np.median(measured_vel_az1['azimuthMotor1Velocity'])\n",
    "dy=1.1*(np.max(measured_vel_az1['azimuthMotor1Velocity'])- np.min(measured_vel_az1['azimuthMotor1Velocity']))\n",
    "\n",
    "p = figure(x_axis_type='datetime', y_range=(yr_cen-dy, yr_cen+dy), plot_width=800, plot_height=400)\n",
    "p.yaxis.axis_label = \"Azimuth Velocity (deg/s)\"\n",
    "p.xaxis.axis_label = \"Time\"\n",
    "# Velocities\n",
    "p.line(x=(Time(commanded_vel_az.index.values)).value, y=commanded_vel_az['azimuthVelocity'], color='black', alpha=0.7, legend_label='ATMCS Commanded Az Velocity Trajectory')\n",
    "p.line(x=(Time(measured_vel_az1.index.values)).value, y=measured_vel_az1['azimuthMotor1Velocity'], color='red', alpha=0.5, legend_label='ATMCS Measured Az Velocity Motor 1')\n",
    "times=Time((commanded_az_ATPng['private_sndStamp']), format='unix')\n",
    "times=(Time(commanded_az_ATPng.index.values)).value\n",
    "p.x(x=times, y=commanded_vel_az_ATPng['azimuthVelocity'], color='green', line_width=2, legend_label='ATPng Target Az Velocity')\n",
    "# Torques\n",
    "yr_cen=np.median(az_motor1_torque_demand['azimuthMotor1Torque'])\n",
    "dy=(np.max(az_motor1_torque_demand['azimuthMotor1Torque']) - np.min(az_motor1_torque_demand['azimuthMotor1Torque']))/2\n",
    "p.extra_y_ranges = {'Torque': Range1d(start=yr_cen-dy, end=yr_cen+dy)}\n",
    "p.add_layout(LinearAxis(y_range_name='Torque', axis_label='Torque [A]'), 'right')\n",
    "# motor 1\n",
    "p.line(x=(Time(az_motor1_torque_demand.index.values)).value, y=az_motor1_torque_demand['azimuthMotor1Torque'], color='orange', alpha=0.7, y_range_name='Torque', legend_label='ATMCS Commanded Motor 1 Torque')\n",
    "p.line(x=(Time(az_motor1_torque_measured.index.values)).value, y=az_motor1_torque_measured['azimuthMotor1Torque'], color='blue', alpha=0.5, y_range_name='Torque', legend_label='ATMCS Measured Motor 1 Torque')\n",
    "\n",
    "p.legend.location = 'top_left'\n",
    "p.legend.click_policy = 'hide'\n",
    "show(p)"
   ]
  },
  {
   "cell_type": "code",
   "execution_count": null,
   "metadata": {},
   "outputs": [],
   "source": [
    "# Motor 2 Plot\n",
    "yr_cen=np.median(measured_vel_az2['azimuthMotor2Velocity'])\n",
    "dy=1.1*(np.max(measured_vel_az2['azimuthMotor2Velocity'])- np.min(measured_vel_az2['azimuthMotor2Velocity']))\n",
    "\n",
    "p = figure(x_axis_type='datetime', y_range=(yr_cen-dy, yr_cen+dy), plot_width=800, plot_height=400)\n",
    "p.yaxis.axis_label = \"Azimuth Velocity (deg/s)\"\n",
    "p.xaxis.axis_label = \"Time\"\n",
    "# Velocities\n",
    "p.line(x=(Time(commanded_vel_az.index.values)).value, y=commanded_vel_az['azimuthVelocity'], color='black', alpha=0.7, legend_label='ATMCS Commanded Az Velocity Trajectory')\n",
    "p.line(x=(Time(measured_vel_az2.index.values)).value, y=measured_vel_az2['azimuthMotor2Velocity'], color='blue', alpha=0.5, legend_label='ATMCS Measured Az Velocity Motor 2')\n",
    "times=Time((commanded_az_ATPng['private_sndStamp']), format='unix')\n",
    "times=(Time(commanded_az_ATPng.index.values)).value\n",
    "p.x(x=times, y=commanded_vel_az_ATPng['azimuthVelocity'], color='green', line_width=2, legend_label='ATPng Target Az Velocity')\n",
    "# Torques\n",
    "yr_cen=np.median(az_motor2_torque_demand['azimuthMotor2Torque'])\n",
    "dy=(np.max(az_motor2_torque_demand['azimuthMotor2Torque']) - np.min(az_motor2_torque_demand['azimuthMotor2Torque']))/2\n",
    "p.extra_y_ranges = {'Torque': Range1d(start=yr_cen-dy, end=yr_cen+dy)}\n",
    "p.add_layout(LinearAxis(y_range_name='Torque', axis_label='Torque [A]'), 'right')\n",
    "# Motor 2\n",
    "p.line(x=(Time(az_motor2_torque_demand.index.values)).value, y=az_motor2_torque_demand['azimuthMotor2Torque'], color='orange', alpha=0.7, y_range_name='Torque', legend_label='ATMCS Commanded Motor 2 Torque')\n",
    "p.line(x=(Time(az_motor2_torque_measured.index.values)).value, y=az_motor2_torque_measured['azimuthMotor2Torque'], color='blue', alpha=0.5, y_range_name='Torque', legend_label='ATMCS Measured Motor 2 Torque')\n",
    "\n",
    "p.legend.location = 'top_left'\n",
    "p.legend.click_policy = 'hide'\n",
    "show(p)"
   ]
  },
  {
   "cell_type": "markdown",
   "metadata": {},
   "source": [
    "# Elevation Axis Analysis"
   ]
  },
  {
   "cell_type": "code",
   "execution_count": null,
   "metadata": {},
   "outputs": [],
   "source": [
    "# Measured Position\n",
    "el = await client.select_packed_time_series(\"lsst.sal.ATMCS.mount_AzEl_Encoders\", [\"elevationCalculatedAngle\", ], t1, t2)"
   ]
  },
  {
   "cell_type": "code",
   "execution_count": null,
   "metadata": {},
   "outputs": [],
   "source": [
    "# Commanded Trajectory\n",
    "commanded_el = await client.select_packed_time_series(\"lsst.sal.ATMCS.trajectory\", [\"elevation\", ], t1, t2)"
   ]
  },
  {
   "cell_type": "code",
   "execution_count": null,
   "metadata": {},
   "outputs": [],
   "source": [
    "# Pointing Kernel Command\n",
    "commanded_el_ATPng = await client.select_time_series(\"lsst.sal.ATMCS.command_trackTarget\", [\"elevation\", \"private_sndStamp\", \"private_rcvStamp\",], t1, t2)"
   ]
  },
  {
   "cell_type": "code",
   "execution_count": null,
   "metadata": {},
   "outputs": [],
   "source": [
    "# Plot positions\n",
    "yr_cen=np.median(commanded_el['elevation'])\n",
    "dy=1.1*(np.max(commanded_el['elevation'])-np.min(commanded_el['elevation']))/2\n",
    "\n",
    "p = figure(x_axis_type='datetime', y_range=(yr_cen-dy, yr_cen+dy), plot_width=800, plot_height=400)\n",
    "p.yaxis.axis_label = \"Elevation Position (degrees)\"\n",
    "p.xaxis.axis_label = \"Time\"\n",
    "p.line(x=(Time(commanded_el.index.values)).value, y=commanded_el['elevation'], color='black', line_width=2, legend_label='ATMCS Commanded Elevation Trajectory')\n",
    "p.cross(x=(Time(el.index.values)).value, y=el['elevationCalculatedAngle'], color='red', line_width=2, line_dash='dashed', legend_label='ATMCS Elevation Measured Elevation Position')\n",
    "times=Time((commanded_el_ATPng['private_sndStamp']), format='unix')\n",
    "times=(Time(commanded_el_ATPng.index.values)).value\n",
    "p.cross(x=times, y=commanded_el_ATPng['elevation'], color='green', line_width=2, legend_label='ATPng Target Elevation')\n",
    "\n",
    "p.legend.location = 'bottom_left'\n",
    "p.legend.click_policy = 'hide'\n",
    "show(p)"
   ]
  },
  {
   "cell_type": "code",
   "execution_count": null,
   "metadata": {},
   "outputs": [],
   "source": []
  },
  {
   "cell_type": "markdown",
   "metadata": {},
   "source": [
    "## Elevation Motor Velocity Analysis\n",
    "Note that while tracking, the velocity demand has an offset with respect to the actual velocity, this is normal as the velocity loop has no integrator (just a fixed gain). "
   ]
  },
  {
   "cell_type": "code",
   "execution_count": null,
   "metadata": {},
   "outputs": [],
   "source": [
    "#Measured\n",
    "measured_vel_el = await client.select_packed_time_series(\"lsst.sal.ATMCS.measuredMotorVelocity\", [\"elevationMotorVelocity\", ], t1, t2)"
   ]
  },
  {
   "cell_type": "code",
   "execution_count": null,
   "metadata": {},
   "outputs": [],
   "source": [
    "# Commanded\n",
    "commanded_vel_el = await client.select_packed_time_series(\"lsst.sal.ATMCS.trajectory\", [\"elevationVelocity\", ], t1, t2)"
   ]
  },
  {
   "cell_type": "code",
   "execution_count": null,
   "metadata": {},
   "outputs": [],
   "source": [
    "# From Pointing\n",
    "commanded_vel_el_ATPng = await client.select_time_series(\"lsst.sal.ATMCS.command_trackTarget\", [\"elevationVelocity\", \"private_sndStamp\", \"private_rcvStamp\"], t1, t2)"
   ]
  },
  {
   "cell_type": "code",
   "execution_count": null,
   "metadata": {},
   "outputs": [],
   "source": [
    "# Plot Velocities and Positions\n",
    "yr_cen=np.median(commanded_el['elevation'])\n",
    "dy=1.1*(np.max(commanded_el['elevation'])-np.min(commanded_el['elevation']))/2\n",
    "# Positions\n",
    "p = figure(x_axis_type='datetime', y_range=(yr_cen-dy, yr_cen+dy), plot_width=800, plot_height=400)\n",
    "p.yaxis.axis_label = \"Elevation Position (degrees)\"\n",
    "p.xaxis.axis_label = \"Time\"\n",
    "p.line(x=(Time(commanded_el.index.values)).value, y=commanded_el['elevation'], color='black', line_width=2, legend_label='ATMCS Commanded Elevation Trajectory')\n",
    "p.cross(x=(Time(el.index.values)).value, y=el['elevationCalculatedAngle'], color='red', line_width=2, line_dash='dashed', legend_label='ATMCS Elevation Measured Elevation Position')\n",
    "times=Time((commanded_el_ATPng['private_sndStamp']), format='unix')\n",
    "times=(Time(commanded_el_ATPng.index.values)).value\n",
    "p.cross(x=times, y=commanded_el_ATPng['elevation'], color='green', line_width=2, legend_label='ATPng Target Elevation')\n",
    "# Velocities\n",
    "yr_cen=np.median(measured_vel_el['elevationMotorVelocity'])\n",
    "dy=1.1*(np.max(measured_vel_el['elevationMotorVelocity'])- np.min(measured_vel_el['elevationMotorVelocity']))/2\n",
    "\n",
    "p.extra_y_ranges = {'Velocity': Range1d(start=yr_cen-dy, end=yr_cen+dy)}\n",
    "p.add_layout(LinearAxis(y_range_name='Velocity', axis_label='Velocity'), 'right')\n",
    "p.line(x=(Time(commanded_vel_el.index.values)).value, y=commanded_vel_el['elevationVelocity'], color='black', alpha=0.7, y_range_name='Velocity', legend_label='ATMCS Commanded Elevation Velocity Trajectory')\n",
    "p.line(x=(Time(measured_vel_el.index.values)).value, y=measured_vel_el['elevationMotorVelocity'], color='red', alpha=0.5, y_range_name='Velocity', legend_label='ATMCS Measured Elevation Velocity')\n",
    "p.x(x=times, y=commanded_vel_el_ATPng['elevationVelocity'], y_range_name='Velocity', color='green', line_width=2, legend_label='ATPng Target Elevation Velocity')\n",
    "\n",
    "p.legend.location = 'top_left'\n",
    "p.legend.click_policy = 'hide'\n",
    "show(p)"
   ]
  },
  {
   "cell_type": "code",
   "execution_count": null,
   "metadata": {},
   "outputs": [],
   "source": [
    "# Query Torques\n",
    "el_torque_demand = await client.select_packed_time_series(\"lsst.sal.ATMCS.torqueDemand\", [\"elevationMotorTorque\", ], t1, t2)\n",
    "el_torque_measured = await client.select_packed_time_series(\"lsst.sal.ATMCS.measuredTorque\", [\"elevationMotorTorque\", ], t1, t2)"
   ]
  },
  {
   "cell_type": "code",
   "execution_count": null,
   "metadata": {},
   "outputs": [],
   "source": [
    "# Plot Positions versus torques\n",
    "yr_cen=np.median(commanded_el['elevation'])\n",
    "dy=1.1*(np.max(commanded_el['elevation'])-np.min(commanded_el['elevation']))/2\n",
    "# Positions\n",
    "p = figure(x_axis_type='datetime', y_range=(yr_cen-dy, yr_cen+dy), plot_width=800, plot_height=400)\n",
    "p.yaxis.axis_label = \"Elevation Position (degrees)\"\n",
    "p.xaxis.axis_label = \"Time\"\n",
    "p.line(x=(Time(commanded_el.index.values)).value, y=commanded_el['elevation'], color='black', line_width=2, legend_label='ATMCS Commanded Elevation Trajectory')\n",
    "p.cross(x=(Time(el.index.values)).value, y=el['elevationCalculatedAngle'], color='red', line_width=2, line_dash='dashed', legend_label='ATMCS Elevation Measured Elevation Position')\n",
    "times=Time((commanded_el_ATPng['private_sndStamp']), format='unix')\n",
    "times=(Time(commanded_el_ATPng.index.values)).value\n",
    "p.cross(x=times, y=commanded_el_ATPng['elevation'], color='green', line_width=2, legend_label='ATPng Target Elevation')\n",
    "\n",
    "# Torques\n",
    "yr_cen=np.median(el_torque_demand['elevationMotorTorque'])\n",
    "dy=1.1*(np.max(el_torque_demand['elevationMotorTorque']) - np.min(el_torque_demand['elevationMotorTorque']))/2\n",
    "p.extra_y_ranges = {'Torque': Range1d(start=yr_cen-dy, end=yr_cen+dy)}\n",
    "p.add_layout(LinearAxis(y_range_name='Torque', axis_label='Torque [A]'), 'right')\n",
    "p.line(x=(Time(el_torque_demand.index.values)).value, y=el_torque_demand['elevationMotorTorque'], color='black', alpha=0.7, y_range_name='Torque', legend_label='ATMCS Commanded Torque')\n",
    "p.line(x=(Time(el_torque_measured.index.values)).value, y=el_torque_measured['elevationMotorTorque'], color='red', alpha=0.5, y_range_name='Torque', legend_label='ATMCS Measured Torque')\n",
    "\n",
    "\n",
    "p.legend.location = 'top_left'\n",
    "p.legend.click_policy = 'hide'\n",
    "show(p)"
   ]
  },
  {
   "cell_type": "code",
   "execution_count": null,
   "metadata": {},
   "outputs": [],
   "source": [
    "# plot\n",
    "yr_cen=np.median(commanded_vel_el['elevationVelocity'])\n",
    "dy=1.1*(np.max(commanded_vel_el['elevationVelocity']) - np.min(commanded_vel_el['elevationVelocity']))/2\n",
    "\n",
    "p = figure(x_axis_type='datetime', y_range=(yr_cen-dy, yr_cen+dy), plot_width=800, plot_height=400)\n",
    "p.yaxis.axis_label = \"Elevation Velocity (deg/s)\"\n",
    "p.xaxis.axis_label = \"Time\"\n",
    "# Velocities\n",
    "p.line(x=(Time(commanded_vel_el.index.values)).value, y=commanded_vel_el['elevationVelocity'], color='black', alpha=0.7, legend_label='ATMCS Commanded Elevation Velocity Trajectory')\n",
    "p.line(x=(Time(measured_vel_el.index.values)).value, y=measured_vel_el['elevationMotorVelocity'], color='red', alpha=0.5, legend_label='ATMCS Measured Elevation Velocity')\n",
    "times=Time((commanded_el_ATPng['private_sndStamp']), format='unix')\n",
    "times=(Time(commanded_el_ATPng.index.values)).value\n",
    "p.x(x=times, y=commanded_vel_el_ATPng['elevationVelocity'], color='green', \n",
    "    line_width=2, legend_label='ATPng Target Elevation Velocity')\n",
    "\n",
    "# Torques\n",
    "yr_cen=np.median(el_torque_demand['elevationMotorTorque'])\n",
    "dy=1.1*(np.max(el_torque_demand['elevationMotorTorque']) - np.min(el_torque_demand['elevationMotorTorque']))/2\n",
    "p.extra_y_ranges = {'Torque': Range1d(start=yr_cen-dy, end=yr_cen+dy)}\n",
    "p.add_layout(LinearAxis(y_range_name='Torque', axis_label='Torque [A]'), 'right')\n",
    "p.line(x=(Time(el_torque_demand.index.values)).value, y=el_torque_demand['elevationMotorTorque'], color='pink', alpha=0.7, y_range_name='Torque', legend_label='ATMCS Commanded Torque')\n",
    "p.line(x=(Time(el_torque_measured.index.values)).value, y=el_torque_measured['elevationMotorTorque'], color='blue', alpha=0.5, y_range_name='Torque', legend_label='ATMCS Measured Torque')\n",
    "\n",
    "\n",
    "p.legend.location = 'top_left'\n",
    "p.legend.click_policy = 'hide'\n",
    "show(p)"
   ]
  },
  {
   "cell_type": "markdown",
   "metadata": {},
   "source": [
    "# Nasmyth 1 Analysis\n",
    "Note that if Nasmyth 1 is rarely used and depending on the timestamps chosen this may fail. <br>\n",
    "Nasmyth 2 is where LATISS is installed and the same plots are available below"
   ]
  },
  {
   "cell_type": "code",
   "execution_count": null,
   "metadata": {},
   "outputs": [],
   "source": [
    "# Measured Position\n",
    "nas1 = await client.select_packed_time_series(\"lsst.sal.ATMCS.mount_Nasmyth_Encoders\", [\"nasmyth1CalculatedAngle\", ], t1, t2)"
   ]
  },
  {
   "cell_type": "code",
   "execution_count": null,
   "metadata": {},
   "outputs": [],
   "source": [
    "# Commanded Trajectory\n",
    "commanded_nas1 = await client.select_packed_time_series(\"lsst.sal.ATMCS.trajectory\", [\"nasmyth1RotatorAngle\", ], t1, t2)"
   ]
  },
  {
   "cell_type": "code",
   "execution_count": null,
   "metadata": {},
   "outputs": [],
   "source": [
    "# Pointing Kernel Command\n",
    "commanded_nas1_ATPng = await client.select_time_series(\"lsst.sal.ATMCS.command_trackTarget\", [\"nasmyth1RotatorAngle\", \"private_sndStamp\", \"private_rcvStamp\", ], t1, t2)"
   ]
  },
  {
   "cell_type": "markdown",
   "metadata": {},
   "source": [
    "## Plot commanded position (by pointing component), target position by ATMCS, Calculated position by ATMCS"
   ]
  },
  {
   "cell_type": "code",
   "execution_count": null,
   "metadata": {},
   "outputs": [],
   "source": [
    "yr_cen=np.median(commanded_nas1['nasmyth1RotatorAngle'])\n",
    "dy=1.1*(np.max(commanded_nas1['nasmyth1RotatorAngle']) - np.min(commanded_nas1['nasmyth1RotatorAngle']))/2\n",
    "\n",
    "p = figure(x_axis_type='datetime', y_range=(yr_cen-dy, yr_cen+dy), plot_width=800, plot_height=400)\n",
    "p.yaxis.axis_label = \"Nasmyth Position (degrees)\"\n",
    "p.xaxis.axis_label = \"Time\"\n",
    "p.line(x=(Time(commanded_nas1.index.values)).value, y=commanded_nas1['nasmyth1RotatorAngle'], color='black', line_width=2, legend_label='ATMCS Commanded Nas1 Trajectory')\n",
    "p.cross(x=(Time(nas1.index.values)).value, y=nas1['nasmyth1CalculatedAngle'], color='red', line_width=2, line_dash='dashed', legend_label='ATMCS Measured Nas1 Position')\n",
    "times=Time((commanded_nas1_ATPng['private_sndStamp']), format='unix')\n",
    "times=(Time(commanded_nas1_ATPng.index.values)).value\n",
    "p.cross(x=times, y=commanded_nas1_ATPng['nasmyth1RotatorAngle'], color='green', line_width=5, legend_label='ATPng Target Nas1')\n",
    "\n",
    "p.legend.location = 'bottom_left'\n",
    "p.legend.click_policy = 'hide'\n",
    "show(p)"
   ]
  },
  {
   "cell_type": "markdown",
   "metadata": {},
   "source": [
    "## Look at Nasmyth 1 motor velocities\n",
    "#### Note that while tracking, the velocity demand has an offset with respect to the actual velocity, this is normal as the velocity loop has no integrator (just a fixed gain). "
   ]
  },
  {
   "cell_type": "code",
   "execution_count": null,
   "metadata": {},
   "outputs": [],
   "source": [
    "#Measured\n",
    "measured_vel_nas1 = await client.select_packed_time_series(\"lsst.sal.ATMCS.measuredMotorVelocity\", [\"nasmyth1MotorVelocity\", ], t1, t2)\n",
    "# Commanded\n",
    "commanded_vel_nas1 = await client.select_packed_time_series(\"lsst.sal.ATMCS.trajectory\", [\"nasmyth1RotatorAngleVelocity\", ], t1, t2)\n",
    "# From Pointing\n",
    "commanded_vel_nas1_ATPng = await client.select_time_series(\"lsst.sal.ATMCS.command_trackTarget\", [\"nasmyth1RotatorAngleVelocity\", \"private_sndStamp\", \"private_rcvStamp\", ], t1, t2)"
   ]
  },
  {
   "cell_type": "code",
   "execution_count": null,
   "metadata": {},
   "outputs": [],
   "source": [
    "yr_cen=np.median(commanded_nas1['nasmyth1RotatorAngle'])\n",
    "dy=1.1*(np.max(commanded_nas1['nasmyth1RotatorAngle']) - np.min(commanded_nas1['nasmyth1RotatorAngle']))/2\n",
    "\n",
    "# Positions\n",
    "p = figure(x_axis_type='datetime', y_range=(yr_cen-dy, yr_cen+dy), plot_width=800, plot_height=400)\n",
    "p.yaxis.axis_label = \"Nasmyth Position (degrees)\"\n",
    "p.xaxis.axis_label = \"Time\"\n",
    "p.line(x=(Time(commanded_nas1.index.values)).value, y=commanded_nas1['nasmyth1RotatorAngle'], color='black', line_width=2, legend_label='ATMCS Commanded Nas1 Trajectory')\n",
    "p.cross(x=(Time(nas1.index.values)).value, y=nas1['nasmyth1CalculatedAngle'], color='red', line_width=2, line_dash='dashed', legend_label='ATMCS Nas1 Measured Nas1 Position')\n",
    "times=Time((commanded_nas1_ATPng['private_sndStamp']), format='unix')\n",
    "times=(Time(commanded_nas1_ATPng.index.values)).value\n",
    "p.cross(x=times, y=commanded_nas1_ATPng['nasmyth1RotatorAngle'], color='green', line_width=2, legend_label='ATPng Target Nas1')\n",
    "\n",
    "# Velocities\n",
    "p.extra_y_ranges = {'Velocity': Range1d(start=-0.1, end=0.1)}\n",
    "p.add_layout(LinearAxis(y_range_name='Velocity', axis_label='Velocity'), 'right')\n",
    "p.line(x=(Time(commanded_vel_nas1.index.values)).value, y=commanded_vel_nas1['nasmyth1RotatorAngleVelocity'], color='black', alpha=0.5, y_range_name='Velocity', legend_label='ATMCS Commanded Nas1 Velocity Trajectory')\n",
    "p.line(x=(Time(measured_vel_nas1.index.values)).value, y=measured_vel_nas1['nasmyth1MotorVelocity'], color='blue', alpha=0.5, y_range_name='Velocity', legend_label='ATMCS Measured Nas1 Velocity Motor 1')\n",
    "p.cross(x=times, y=commanded_vel_nas1_ATPng['nasmyth1RotatorAngleVelocity'], y_range_name='Velocity', color='green', line_width=2, legend_label='ATPng Target Nas1 Velocity')\n",
    "\n",
    "p.legend.location = 'top_left'\n",
    "p.legend.click_policy = 'hide'\n",
    "show(p)"
   ]
  },
  {
   "cell_type": "markdown",
   "metadata": {},
   "source": [
    "## Look at Nasmyth 1 Torques as a function of position and velocity"
   ]
  },
  {
   "cell_type": "code",
   "execution_count": null,
   "metadata": {},
   "outputs": [],
   "source": [
    "# Query Torques\n",
    "nas1_torque_demand = await client.select_packed_time_series(\"lsst.sal.ATMCS.torqueDemand\", [\"nasmyth1MotorTorque\", ], t1, t2)\n",
    "nas1_torque_measured = await client.select_packed_time_series(\"lsst.sal.ATMCS.measuredTorque\", [\"nasmyth1MotorTorque\", ], t1, t2)"
   ]
  },
  {
   "cell_type": "code",
   "execution_count": null,
   "metadata": {},
   "outputs": [],
   "source": [
    "# Plot Position and torque as a function of time\n",
    "yr_cen=np.median(commanded_nas1['nasmyth1RotatorAngle'])\n",
    "dy=1.1*(np.max(commanded_nas1['nasmyth1RotatorAngle']) - np.min(commanded_nas1['nasmyth1RotatorAngle']))/2\n",
    "\n",
    "# Positions\n",
    "p = figure(x_axis_type='datetime', y_range=(yr_cen-dy, yr_cen+dy), plot_width=800, plot_height=400)\n",
    "p.yaxis.axis_label = \"Nasmyth Position (degrees)\"\n",
    "p.xaxis.axis_label = \"Time\"\n",
    "\n",
    "p.line(x=commanded_nas1.index.values, y=commanded_nas1['nasmyth1RotatorAngle'], color='black', line_width=2, legend_label='ATMCS Commanded Nas1 Trajectory')\n",
    "p.cross(x=nas1.index.values, y=nas1['nasmyth1CalculatedAngle'], color='red', line_width=2, line_dash='dashed', legend_label='ATMCS Nas1 Measured Nas1 Position')\n",
    "times=Time((commanded_nas1_ATPng['private_sndStamp']), format='unix')\n",
    "times=(Time(commanded_nas1_ATPng.index.values)).value\n",
    "p.cross(x=times, y=commanded_nas1_ATPng['nasmyth1RotatorAngle'], color='green', line_width=2, legend_label='ATPng Target Nas1')\n",
    "\n",
    "# Torques\n",
    "yr_cen=np.median(nas1_torque_measured['nasmyth1MotorTorque'])\n",
    "dy=1.1*(np.max(nas1_torque_measured['nasmyth1MotorTorque']) - np.min(nas1_torque_measured['nasmyth1MotorTorque']))/2\n",
    "\n",
    "p.extra_y_ranges = {'Torque': Range1d(yr_cen-dy, yr_cen+dy)}\n",
    "p.add_layout(LinearAxis(y_range_name='Torque', axis_label='Torque'), 'right')\n",
    "p.line(x=nas1_torque_demand.index.values, y=nas1_torque_demand['nasmyth1MotorTorque'], color='black', alpha=0.5, y_range_name='Torque', legend_label='ATMCS Demanded Nas1 Torque')\n",
    "p.line(x=nas1_torque_measured.index.values, y=nas1_torque_measured['nasmyth1MotorTorque'], color='blue', alpha=0.5, y_range_name='Torque', legend_label='ATMCS Measured Nas1 Torque')\n",
    "\n",
    "p.legend.location = 'top_left'\n",
    "p.legend.click_policy = 'hide'\n",
    "show(p)"
   ]
  },
  {
   "cell_type": "code",
   "execution_count": null,
   "metadata": {},
   "outputs": [],
   "source": [
    "smooth_window=10 # set to 1 for no smoothing\n",
    "\n",
    "# Plot velocity and torque as a function of time\n",
    "yr_cen=np.median(commanded_vel_nas1['nasmyth1RotatorAngleVelocity'])\n",
    "dy=10.1*(np.max(commanded_vel_nas1['nasmyth1RotatorAngleVelocity']) - np.min(commanded_vel_nas1['nasmyth1RotatorAngleVelocity']))/2\n",
    "\n",
    "# Velocities\n",
    "p = figure(x_axis_type='datetime', y_range=(yr_cen-dy, yr_cen+dy), plot_width=1600, plot_height=800)\n",
    "p.yaxis.axis_label = \"Nasmyth Velocity (deg/s)\"\n",
    "p.xaxis.axis_label = \"Time\"\n",
    "\n",
    "x1 = commanded_vel_nas1.index.values ; y1 = commanded_vel_nas1['nasmyth1RotatorAngleVelocity'].rolling(window=smooth_window).mean()\n",
    "x2 = measured_vel_nas1.index.values ; y2 = measured_vel_nas1['nasmyth1MotorVelocity'].rolling(window=smooth_window).mean()\n",
    "x3 = nas1_torque_demand.index.values ; y3 = nas1_torque_demand['nasmyth1MotorTorque'].rolling(window=smooth_window).mean()\n",
    "x4 = nas1_torque_measured.index.values ; y4 = nas1_torque_measured['nasmyth1MotorTorque'].rolling(window=smooth_window).mean()\n",
    "\n",
    "p.line(x=x1, y=y1, color='black', alpha=0.5, legend_label='ATMCS Commanded Nas1 Velocity Trajectory')\n",
    "p.line(x=x2, y=y2, color='red', alpha=0.5, legend_label='ATMCS Measured Nas1 Velocity Motor')\n",
    "times=Time((commanded_vel_nas1_ATPng['private_sndStamp']), format='unix')\n",
    "times=(Time(commanded_vel_nas1_ATPng.index.values)).value\n",
    "p.x(x=times, y=commanded_vel_nas1_ATPng['nasmyth1RotatorAngleVelocity'], color='green', line_width=2, legend_label='ATPng Target Nas1 Velocity')\n",
    "\n",
    "\n",
    "# Torques\n",
    "yr_cen=np.median(nas1_torque_measured['nasmyth1MotorTorque'])\n",
    "dy=1.1*(np.max(nas1_torque_measured['nasmyth1MotorTorque']) - np.min(nas1_torque_measured['nasmyth1MotorTorque']))/2\n",
    "\n",
    "p.extra_y_ranges = {'Torque': Range1d(yr_cen-dy, yr_cen+dy)}\n",
    "p.add_layout(LinearAxis(y_range_name='Torque', axis_label='Torque'), 'right')\n",
    "p.line(x=x3, y=y3, color='black', alpha=0.5, y_range_name='Torque', legend_label='ATMCS Demanded Nas1 Torque')\n",
    "p.line(x=x4, y=y4, color='blue', alpha=0.5, y_range_name='Torque', legend_label='ATMCS Measured Nas1 Torque')\n",
    "\n",
    "p.legend.location = 'top_left'\n",
    "p.legend.click_policy = 'hide'\n",
    "show(p)"
   ]
  },
  {
   "cell_type": "markdown",
   "metadata": {},
   "source": [
    "# Nasmyth 2 Analysis\n",
    "#### Note that if Nasmyth 2 was not in use during the selected timestamp this will fail. Nasmyth 1 plots are available above"
   ]
  },
  {
   "cell_type": "code",
   "execution_count": null,
   "metadata": {},
   "outputs": [],
   "source": [
    "# Measured Position\n",
    "nas2 = await client.select_packed_time_series(\"lsst.sal.ATMCS.mount_Nasmyth_Encoders\", [\"nasmyth2CalculatedAngle\", ], t1, t2)"
   ]
  },
  {
   "cell_type": "code",
   "execution_count": null,
   "metadata": {},
   "outputs": [],
   "source": [
    "# Commanded Trajectory\n",
    "commanded_nas2 = await client.select_packed_time_series(\"lsst.sal.ATMCS.trajectory\", [\"nasmyth2RotatorAngle\", ], t1, t2)"
   ]
  },
  {
   "cell_type": "code",
   "execution_count": null,
   "metadata": {},
   "outputs": [],
   "source": [
    "# Pointing Kernel Command\n",
    "commanded_nas2_ATPng = await client.select_time_series(\"lsst.sal.ATMCS.command_trackTarget\", [\"nasmyth2RotatorAngle\", \"private_sndStamp\", \"private_rcvStamp\", ], t1, t2)"
   ]
  },
  {
   "cell_type": "code",
   "execution_count": null,
   "metadata": {},
   "outputs": [],
   "source": [
    "def show_filter_boundaries(command, complete, starting_slot,yaxis_data, grating=False):\n",
    "    if grating:\n",
    "        label='grating slot'\n",
    "        color='green'\n",
    "        ylabel_pos=50    \n",
    "    else:\n",
    "        color='blue'\n",
    "        label='filter slot'\n",
    "        ylabel_pos=30\n",
    "        \n",
    "    for l in range(max([len(command),len(complete)])):\n",
    "        if len(command) > l:\n",
    "            start=(Time(command.index.values)).value[l]\n",
    "            start_vline = Span(location=start, dimension='height', line_color=color, line_width=1, line_dash='solid')\n",
    "            p.add_layout(start_vline)\n",
    "            \n",
    "        if len(complete) > l:\n",
    "            finish = (Time(complete.index.values)).value[l]\n",
    "            finish_vline = Span(location=finish, dimension='height', line_color=color, line_width=1, line_dash='dashed')\n",
    "            seq_num_label = Label(x=finish, y=ylabel_pos, y_units='screen', text=label+f'{complete.slot[l]}', text_color=color)\n",
    "\n",
    "            p.add_layout(finish_vline)\n",
    "            p.add_layout(seq_num_label)"
   ]
  },
  {
   "cell_type": "code",
   "execution_count": null,
   "metadata": {},
   "outputs": [],
   "source": [
    "filter_cmd"
   ]
  },
  {
   "cell_type": "markdown",
   "metadata": {},
   "source": [
    "## Plot commanded position (by pointing component), target position by ATMCS, Calculated position by ATMCS"
   ]
  },
  {
   "cell_type": "code",
   "execution_count": null,
   "metadata": {},
   "outputs": [],
   "source": [
    "yr_cen=np.median(commanded_nas2['nasmyth2RotatorAngle'])\n",
    "dy=1.1*(np.max(commanded_nas2['nasmyth2RotatorAngle']) - np.min(commanded_nas2['nasmyth2RotatorAngle']))/2\n",
    "\n",
    "p = figure(x_axis_type='datetime', y_range=(yr_cen-dy, yr_cen+dy), plot_width=800, plot_height=400)\n",
    "p.yaxis.axis_label = \"Nasmyth Position (degrees)\"\n",
    "p.xaxis.axis_label = \"Time\"\n",
    "p.line(x=(Time(commanded_nas2.index.values)).value, y=commanded_nas2['nasmyth2RotatorAngle'], color='black', line_width=2, legend_label='ATMCS Commanded Nas2 Trajectory')\n",
    "p.cross(x=(Time(nas2.index.values)).value, y=nas2['nasmyth2CalculatedAngle'], color='red', line_width=2, line_dash='dashed', legend_label='ATMCS Measured Nas2 Position')#\n",
    "times=Time((commanded_nas2_ATPng['private_sndStamp']), format='unix')\n",
    "times=(Time(commanded_nas2_ATPng.index.values)).value\n",
    "p.cross(x=times, y=commanded_nas2_ATPng['nasmyth2RotatorAngle'], color='green', line_width=5, legend_label='ATPng Target Nas2')\n",
    "\n",
    "# plot image boundaries\n",
    "show_image_boundaries(image_startIntegrations, image_endReadouts, commanded_nas2['nasmyth2RotatorAngle'])\n",
    "# plot filter boundaries\n",
    "show_filter_boundaries(filter_cmd, filter_cmd_complete, starting_filter_pos, commanded_nas2['nasmyth2RotatorAngle'])\n",
    "show_filter_boundaries(disperser_cmd, disperser_cmd_complete, starting_disperser_pos, commanded_nas2['nasmyth2RotatorAngle'], grating=True)\n",
    "\n",
    "p.legend.location = 'bottom_left'\n",
    "p.legend.click_policy = 'hide'\n",
    "show(p)"
   ]
  },
  {
   "cell_type": "markdown",
   "metadata": {},
   "source": [
    "## Look at Nasmyth 2 motor velocities\n",
    "#### Note that while tracking, the velocity demand has an offset with respect to the actual velocity, this is normal as the velocity loop has no integrator (just a fixed gain). "
   ]
  },
  {
   "cell_type": "code",
   "execution_count": null,
   "metadata": {},
   "outputs": [],
   "source": [
    "#Measured\n",
    "measured_vel_nas2 = await client.select_packed_time_series(\"lsst.sal.ATMCS.measuredMotorVelocity\", [\"nasmyth2MotorVelocity\", ], t1, t2)\n",
    "# Commanded\n",
    "commanded_vel_nas2 = await client.select_packed_time_series(\"lsst.sal.ATMCS.trajectory\", [\"nasmyth2RotatorAngleVelocity\", ], t1, t2)\n",
    "# From Pointing\n",
    "commanded_vel_nas2_ATPng = await client.select_time_series(\"lsst.sal.ATMCS.command_trackTarget\", [\"nasmyth2RotatorAngleVelocity\", \"private_sndStamp\", \"private_rcvStamp\", ], t1, t2)"
   ]
  },
  {
   "cell_type": "code",
   "execution_count": null,
   "metadata": {},
   "outputs": [],
   "source": []
  },
  {
   "cell_type": "code",
   "execution_count": null,
   "metadata": {},
   "outputs": [],
   "source": [
    "smooth_window=10 # set to 1 for no smoothing\n",
    "# Positions\n",
    "p = figure(x_axis_type='datetime', y_range=(yr_cen-dy, yr_cen+dy), plot_width=800, plot_height=400)\n",
    "yr_cen=np.median(commanded_nas2['nasmyth2RotatorAngle'])\n",
    "dy=1.1*(np.max(commanded_nas2['nasmyth2RotatorAngle']) - np.min(commanded_nas2['nasmyth2RotatorAngle']))/2\n",
    "p.yaxis.axis_label = \"Nasmyth Position (degrees)\"\n",
    "p.xaxis.axis_label = \"Time\"\n",
    "\n",
    "p.line(x=(Time(commanded_nas2.index.values)).value, y=commanded_nas2['nasmyth2RotatorAngle'], color='black', line_width=2, legend_label='ATMCS Commanded Nas2 Trajectory')\n",
    "p.cross(x=(Time(nas2.index.values)).value, y=nas2['nasmyth2CalculatedAngle'], color='red', line_width=2, line_dash='dashed', legend_label='ATMCS Nas1 Measured Nas2 Position')\n",
    "times=Time((commanded_vel_nas2_ATPng['private_sndStamp']), format='unix')\n",
    "times=(Time(commanded_vel_nas2_ATPng.index.values)).value\n",
    "p.cross(x=times, y=commanded_nas2_ATPng['nasmyth2RotatorAngle'], color='green', line_width=2, legend_label='ATPng Target Nas2')\n",
    "\n",
    "# Velocities\n",
    "# p.extra_y_ranges = {'Velocity': Range1d(start=-0.1, end=0.1)}\n",
    "p.extra_y_ranges = {'Velocity': Range1d(start=np.min(commanded_vel_nas2['nasmyth2RotatorAngleVelocity']), end=np.max(commanded_vel_nas2['nasmyth2RotatorAngleVelocity']))}\n",
    "p.add_layout(LinearAxis(y_range_name='Velocity', axis_label='Velocity'), 'right')\n",
    "p.line(x=(Time(commanded_vel_nas2.index.values)).value, y=commanded_vel_nas2['nasmyth2RotatorAngleVelocity'].rolling(window=smooth_window).mean(), color='black', alpha=0.5, y_range_name='Velocity', legend_label='ATMCS Commanded Nas2 Velocity Trajectory')\n",
    "p.line(x=(Time(measured_vel_nas2.index.values)).value, y=measured_vel_nas2['nasmyth2MotorVelocity'].rolling(window=smooth_window).mean(), color='blue', alpha=0.5, y_range_name='Velocity', legend_label='ATMCS Measured Nas2 Velocity Motor 1')\n",
    "p.x(x=times, y=commanded_vel_nas2_ATPng['nasmyth2RotatorAngleVelocity'], y_range_name='Velocity', color='orange', line_width=2, legend_label='ATPng Target Nas2 Velocity')\n",
    "\n",
    "\n",
    "# plot image boundaries\n",
    "show_image_boundaries(image_startIntegrations, image_endReadouts, commanded_nas2['nasmyth2RotatorAngle'])\n",
    "\n",
    "p.legend.location = 'top_left'\n",
    "p.legend.click_policy = 'hide'\n",
    "show(p)"
   ]
  },
  {
   "cell_type": "code",
   "execution_count": null,
   "metadata": {},
   "outputs": [],
   "source": []
  },
  {
   "cell_type": "code",
   "execution_count": null,
   "metadata": {},
   "outputs": [],
   "source": [
    "# Query Torques\n",
    "nas2_torque_demand = await client.select_packed_time_series(\"lsst.sal.ATMCS.torqueDemand\", [\"nasmyth2MotorTorque\", ], t1, t2)\n",
    "nas2_torque_measured = await client.select_packed_time_series(\"lsst.sal.ATMCS.measuredTorque\", [\"nasmyth2MotorTorque\", ], t1, t2)"
   ]
  },
  {
   "cell_type": "code",
   "execution_count": null,
   "metadata": {},
   "outputs": [],
   "source": [
    "smooth_window=1 # set to 1 for no smoothing\n",
    "\n",
    "# Plot Position and torque as a function of time\n",
    "yr_cen=np.median(commanded_nas2['nasmyth2RotatorAngle'])\n",
    "dy=1.1*(np.max(commanded_nas2['nasmyth2RotatorAngle']) - np.min(commanded_nas2['nasmyth2RotatorAngle']))/2\n",
    "\n",
    "# Positions\n",
    "p = figure(x_axis_type='datetime', y_range=(yr_cen-dy, yr_cen+dy), plot_width=800, plot_height=400)\n",
    "p.yaxis.axis_label = \"Nasmyth Position (degrees)\"\n",
    "p.xaxis.axis_label = \"Time\"\n",
    "\n",
    "x1=commanded_nas2.index.values ; y1=commanded_nas2['nasmyth2RotatorAngle'].rolling(window=smooth_window).mean()\n",
    "x2=nas2.index.values; y2 = nas2['nasmyth2CalculatedAngle'].rolling(window=smooth_window).mean()\n",
    "x3=nas2_torque_demand.index.values ; y3=nas2_torque_demand['nasmyth2MotorTorque'].rolling(window=smooth_window).mean()\n",
    "x4=nas2_torque_measured.index.values ; y4=nas2_torque_measured['nasmyth2MotorTorque'].rolling(window=smooth_window).mean()\n",
    "\n",
    "p.line(x=x1, y=y1, color='black', line_width=2, legend_label='ATMCS Commanded Nas2 Trajectory')\n",
    "p.cross(x=x2, y=y2, color='red', line_width=2, line_dash='dashed', legend_label='ATMCS Measured Nas2 Position')\n",
    "times=Time((commanded_vel_nas2_ATPng['private_sndStamp']), format='unix')\n",
    "times=(Time(commanded_vel_nas2_ATPng.index.values)).value\n",
    "p.cross(x=times, y=commanded_nas2_ATPng['nasmyth2RotatorAngle'], color='green', line_width=2, legend_label='ATPng Target Nas2')\n",
    "\n",
    "# plot image boundaries\n",
    "show_image_boundaries(image_startIntegrations, image_endReadouts, commanded_nas2['nasmyth2RotatorAngle'])\n",
    "\n",
    "# Torques\n",
    "yr_cen=np.median(nas2_torque_measured['nasmyth2MotorTorque'])\n",
    "dy=1.1*(np.max(nas2_torque_measured['nasmyth2MotorTorque']) - np.min(nas2_torque_measured['nasmyth2MotorTorque']))/2\n",
    "\n",
    "p.extra_y_ranges = {'Torque': Range1d(yr_cen-dy, yr_cen+dy)}\n",
    "p.add_layout(LinearAxis(y_range_name='Torque', axis_label='Torque'), 'right')\n",
    "\n",
    "p.line(x=x3, y=y3, color='orange', alpha=0.5, y_range_name='Torque', legend_label='ATMCS Demanded Nas2 Torque')\n",
    "\n",
    "p.line(x=x4, y=y4, color='blue', alpha=0.5, y_range_name='Torque', legend_label='ATMCS Measured Nas2 Torque')\n",
    "\n",
    "p.legend.location = 'top_left'\n",
    "p.legend.click_policy = 'hide'\n",
    "show(p)"
   ]
  },
  {
   "cell_type": "code",
   "execution_count": null,
   "metadata": {},
   "outputs": [],
   "source": []
  },
  {
   "cell_type": "code",
   "execution_count": null,
   "metadata": {},
   "outputs": [],
   "source": [
    "smooth_window=1 # set to 1 for no smoothing\n",
    "\n",
    "# Plot velocity and torque as a function of time\n",
    "yr_cen=np.median(commanded_vel_nas2['nasmyth2RotatorAngleVelocity'])\n",
    "dy=10.1*(np.max(commanded_vel_nas2['nasmyth2RotatorAngleVelocity']) - np.min(commanded_vel_nas2['nasmyth2RotatorAngleVelocity']))/2\n",
    "\n",
    "# Velocities\n",
    "p = figure(x_axis_type='datetime', y_range=(yr_cen-dy, yr_cen+dy), plot_width=1200, plot_height=800)\n",
    "p.yaxis.axis_label = \"Nasmyth Velocity (deg/s)\"\n",
    "p.xaxis.axis_label = \"Time\"\n",
    "\n",
    "x1 = commanded_vel_nas2.index.values ; y1 = commanded_vel_nas2['nasmyth2RotatorAngleVelocity'].rolling(window=smooth_window).mean()\n",
    "x2 = measured_vel_nas2.index.values ; y2 = measured_vel_nas2['nasmyth2MotorVelocity'].rolling(window=smooth_window).mean()\n",
    "x3 = nas2_torque_demand.index.values ; y3 = nas2_torque_demand['nasmyth2MotorTorque'].rolling(window=smooth_window).mean()\n",
    "x4 = nas2_torque_measured.index.values ; y4 = nas2_torque_measured['nasmyth2MotorTorque'].rolling(window=smooth_window).mean()\n",
    "\n",
    "p.line(x=x1, y=y1, color='black', alpha=0.5, legend_label='ATMCS Commanded Nas2 Velocity Trajectory')\n",
    "p.line(x=x2, y=y2, color='red', alpha=0.5, legend_label='ATMCS Measured Nas2 Velocity Motor')\n",
    "times=Time((commanded_vel_nas2_ATPng['private_sndStamp']), format='unix')\n",
    "times=(Time(commanded_vel_nas2_ATPng.index.values)).value\n",
    "p.x(x=times, y=commanded_vel_nas2_ATPng['nasmyth2RotatorAngleVelocity'], color='green', line_width=2, legend_label='ATPng Target Nas2 Velocity')\n",
    "\n",
    "\n",
    "# Torques\n",
    "yr_cen=np.median(nas2_torque_measured['nasmyth2MotorTorque'])\n",
    "dy=1.1*(np.max(nas2_torque_measured['nasmyth2MotorTorque']) - np.min(nas2_torque_measured['nasmyth2MotorTorque']))/2\n",
    "\n",
    "p.extra_y_ranges = {'Torque': Range1d(yr_cen-dy, yr_cen+dy)}\n",
    "p.add_layout(LinearAxis(y_range_name='Torque', axis_label='Torque'), 'right')\n",
    "p.line(x=x3, y=y3, color='black', alpha=0.5, y_range_name='Torque', legend_label='ATMCS Demanded Nas2 Torque')\n",
    "p.line(x=x4, y=y4, color='blue', alpha=0.5, y_range_name='Torque', legend_label='ATMCS Measured Nas2 Torque')\n",
    "\n",
    "p.legend.location = 'top_left'\n",
    "p.legend.click_policy = 'hide'\n",
    "show(p)"
   ]
  },
  {
   "cell_type": "code",
   "execution_count": null,
   "metadata": {},
   "outputs": [],
   "source": []
  },
  {
   "cell_type": "code",
   "execution_count": null,
   "metadata": {},
   "outputs": [],
   "source": [
    "# Motor 1 Plot\n",
    "yr_cen=np.median(measured_vel_az1['azimuthMotor1Velocity'])\n",
    "dy=1.1*(np.max(measured_vel_az1['azimuthMotor1Velocity'])- np.min(measured_vel_az1['azimuthMotor1Velocity']))\n",
    "\n",
    "p = figure(x_axis_type='datetime', y_range=(yr_cen-dy, yr_cen+dy), plot_width=800, plot_height=400)\n",
    "p.yaxis.axis_label = \"Azimuth Velocity (deg/s)\"\n",
    "p.xaxis.axis_label = \"Time\"\n",
    "# Velocities\n",
    "p.line(x=(Time(commanded_vel_az.index.values)).value, y=commanded_vel_az['azimuthVelocity'], color='black', alpha=0.7, legend_label='ATMCS Commanded Az Velocity Trajectory')\n",
    "p.line(x=(Time(measured_vel_az1.index.values)).value, y=measured_vel_az1['azimuthMotor1Velocity'], color='red', alpha=0.5, legend_label='ATMCS Measured Az Velocity Motor 1')\n",
    "times=Time((commanded_az_ATPng['private_sndStamp']), format='unix')\n",
    "times=(Time(commanded_az_ATPng.index.values)).value\n",
    "p.x(x=times, y=commanded_vel_az_ATPng['azimuthVelocity'], color='green', line_width=2, legend_label='ATPng Target Az Velocity')\n",
    "# Torques\n",
    "yr_cen=np.median(az_motor1_torque_demand['azimuthMotor1Torque'])\n",
    "dy=(np.max(az_motor1_torque_demand['azimuthMotor1Torque']) - np.min(az_motor1_torque_demand['azimuthMotor1Torque']))/2\n",
    "p.extra_y_ranges = {'Torque': Range1d(start=yr_cen-dy, end=yr_cen+dy)}\n",
    "p.add_layout(LinearAxis(y_range_name='Torque', axis_label='Torque [A]'), 'right')\n",
    "# motor 1\n",
    "p.line(x=(Time(az_motor1_torque_demand.index.values)).value, y=az_motor1_torque_demand['azimuthMotor1Torque'], color='orange', alpha=0.7, y_range_name='Torque', legend_label='ATMCS Commanded Motor 1 Torque')\n",
    "p.line(x=(Time(az_motor1_torque_measured.index.values)).value, y=az_motor1_torque_measured['azimuthMotor1Torque'], color='blue', alpha=0.5, y_range_name='Torque', legend_label='ATMCS Measured Motor 1 Torque')\n",
    "\n",
    "p.legend.location = 'top_left'\n",
    "p.legend.click_policy = 'hide'\n",
    "show(p)"
   ]
  },
  {
   "cell_type": "code",
   "execution_count": null,
   "metadata": {},
   "outputs": [],
   "source": []
  }
 ],
 "metadata": {
  "kernelspec": {
   "display_name": "LSST",
   "language": "python",
   "name": "lsst"
  },
  "language_info": {
   "codemirror_mode": {
    "name": "ipython",
    "version": 3
   },
   "file_extension": ".py",
   "mimetype": "text/x-python",
   "name": "python",
   "nbconvert_exporter": "python",
   "pygments_lexer": "ipython3",
   "version": "3.10.9"
  },
  "toc-autonumbering": true
 },
 "nbformat": 4,
 "nbformat_minor": 4
}
