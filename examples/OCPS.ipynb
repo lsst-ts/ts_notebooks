{
 "cells": [
  {
   "cell_type": "markdown",
   "id": "b140aa8f",
   "metadata": {},
   "source": [
    "# OCPS Control Notebook\n",
    "\n",
    "This notebook demonstrates how to execute a pipeline using the OCPS.\n",
    "\n",
    "\n",
    "## One-time preliminaries\n",
    "\n",
    "Start by importing packages.  Caution: `lsst.ts.salobj` can take 25 seconds to import."
   ]
  },
  {
   "cell_type": "code",
   "execution_count": null,
   "id": "4b0d85fc",
   "metadata": {},
   "outputs": [],
   "source": [
    "import json\n",
    "import subprocess\n",
    "import lsst.ts.salobj as salobj"
   ]
  },
  {
   "cell_type": "markdown",
   "id": "8aa1a683",
   "metadata": {},
   "source": [
    "Make sure that an OpenSplice daemon has been started.  (It's OK to run this multiple times.)\n",
    "\n",
    "`setup.env` must have been sourced in `~/notebooks/.user_setups` first."
   ]
  },
  {
   "cell_type": "code",
   "execution_count": null,
   "id": "bdb23e1f",
   "metadata": {},
   "outputs": [],
   "source": [
    "subprocess.run([\"ospl\", \"start\"])"
   ]
  },
  {
   "cell_type": "markdown",
   "id": "4ca5dba0",
   "metadata": {},
   "source": [
    "Start a domain and an OCPS remote within it.  Select the instrument of interest (LATISS, LSSTComCam, or LSSTCam)."
   ]
  },
  {
   "cell_type": "code",
   "execution_count": null,
   "id": "e16b21e8",
   "metadata": {},
   "outputs": [],
   "source": [
    "domain = salobj.Domain()\n",
    "ocps = salobj.Remote(domain, \"OCPS\")\n",
    "\n",
    "instrument = \"LATISS\"\n",
    "if instrument == \"LATISS\":\n",
    "    instrument_info = dict(oods_name=\"ATArchiver\", detectors=1)\n",
    "elif instrument == \"LSSTComCam\":\n",
    "    instrument_info = dict(oods_name=\"CCArchiver\", detectors=9)\n",
    "elif instrument == \"LSSTCam\":\n",
    "    instrument_info = dict(oods_name=\"MTArchiver\", detectors=201)\n",
    "else:\n",
    "    raise RuntimeError(f\"Unknown instrument {instrument}\")"
   ]
  },
  {
   "cell_type": "markdown",
   "id": "5928e25d",
   "metadata": {},
   "source": [
    "Optionally start an Archiver/OODS remote."
   ]
  },
  {
   "cell_type": "code",
   "execution_count": null,
   "id": "01f848d5",
   "metadata": {},
   "outputs": [],
   "source": [
    "oods = salobj.Remote(domain, instrument_info[\"oods_name\"])"
   ]
  },
  {
   "cell_type": "markdown",
   "id": "173ef0a8",
   "metadata": {},
   "source": [
    "If necessary, start the CSC and configure it to handle LATISS data.  If already started, skip this cell."
   ]
  },
  {
   "cell_type": "code",
   "execution_count": null,
   "id": "78676453",
   "metadata": {},
   "outputs": [],
   "source": [
    "ack = await ocps.cmd_start.set_start(settingsToApply=instrument)\n",
    "if ack.ack != salobj.SalRetCode.CMD_COMPLETE:\n",
    "    ack.print_vars()"
   ]
  },
  {
   "cell_type": "markdown",
   "id": "acd15944",
   "metadata": {},
   "source": [
    "If necessary, enable the CSC.  If already enabled, skip this cell."
   ]
  },
  {
   "cell_type": "code",
   "execution_count": null,
   "id": "3e76cf65",
   "metadata": {},
   "outputs": [],
   "source": [
    "ack = await ocps.cmd_enable.set_start()\n",
    "if ack.ack != salobj.SalRetCode.CMD_COMPLETE:\n",
    "    ack.print_vars()"
   ]
  },
  {
   "cell_type": "markdown",
   "id": "cc2d8262",
   "metadata": {},
   "source": [
    "## Per-image preparation\n",
    "\n",
    "Set up the data ID.  This information could also be taken from an OODS event."
   ]
  },
  {
   "cell_type": "code",
   "execution_count": null,
   "id": "eb211462",
   "metadata": {},
   "outputs": [],
   "source": [
    "day_obs = 20210510\n",
    "seq_num = 12"
   ]
  },
  {
   "cell_type": "markdown",
   "id": "e43655e8",
   "metadata": {},
   "source": [
    "It may be desirable to wait for OODS events saying that the image has been ingested before calling `execute`.  This optional code waits for all detectors; an `execute` command could also be issued as each detector is ingested."
   ]
  },
  {
   "cell_type": "code",
   "execution_count": null,
   "id": "fe0c34d4",
   "metadata": {},
   "outputs": [],
   "source": [
    "obs_id = f\"_{day_obs}{seqnum:05}\"\n",
    "detectors = instrument_info[\"detectors\"]\n",
    "while detectors > 0:\n",
    "    ack = await oods.evt_imageInOODS.next(flush=False)\n",
    "    if ack.obsid.endswith(obs_id):\n",
    "        detectors -= 1"
   ]
  },
  {
   "cell_type": "markdown",
   "id": "72418590",
   "metadata": {},
   "source": [
    "## Pipeline execution\n",
    "\n",
    "Execute a pipeline and ensure the command was accepted.  This code runs on all detectors, but additional data query conditions could be added to run on individual detectors."
   ]
  },
  {
   "cell_type": "code",
   "execution_count": null,
   "id": "0b8074eb",
   "metadata": {},
   "outputs": [],
   "source": [
    "ack = await ocps.cmd_execute.set_start(\n",
    "    wait_done=False,\n",
    "    pipeline=\"$OBS_LSST_DIR/pipelines/DRP.yaml#isr\", version=\"\",\n",
    "    config=\"-c isr:doBias=False -c isr:doDark=False -c isr:doFlat=False\"\n",
    "           \" -c isr:doFringe=False -c isr:doLinearize=False -c isr:doDefect=False\",\n",
    "    data_query=f\"instrument='{instrument}' AND\"\n",
    "               f\" exposure.day_obs={day_obs} AND exposure.seq_num={seq_num}\"\n",
    ")\n",
    "if ack.ack != salobj.SalRetCode.CMD_ACK:\n",
    "    ack.print_vars()"
   ]
  },
  {
   "cell_type": "markdown",
   "id": "7b40d139",
   "metadata": {},
   "source": [
    "Wait for the in-progress acknowledgement with the job identifier.  This can be executed immediately after the previous cell."
   ]
  },
  {
   "cell_type": "code",
   "execution_count": null,
   "id": "3256422d",
   "metadata": {},
   "outputs": [],
   "source": [
    "ack = await ocps.cmd_execute.next_ackcmd(ack, wait_done=False)\n",
    "ack.print_vars()\n",
    "job_id = json.loads(ack.result)[\"job_id\"]"
   ]
  },
  {
   "cell_type": "markdown",
   "id": "bf06795a",
   "metadata": {},
   "source": [
    "Wait for the command completion acknowledgement.  This can be executed anytime after the `execute` command."
   ]
  },
  {
   "cell_type": "code",
   "execution_count": null,
   "id": "a5525d04",
   "metadata": {},
   "outputs": [],
   "source": [
    "ack = await ocps.cmd_execute.next_ackcmd(ack)\n",
    "if ack.ack != salobj.SalRetCode.CMD_COMPLETE:\n",
    "    ack.print_vars()"
   ]
  },
  {
   "cell_type": "markdown",
   "id": "1f8be485",
   "metadata": {},
   "source": [
    "Wait for the job result message that matches the job id we're interested in, ignoring any others (from other remotes).  This obviously needs to follow the first acknowledgement (that returns the job id) but might as well wait for the second."
   ]
  },
  {
   "cell_type": "code",
   "execution_count": null,
   "id": "c57f46c4",
   "metadata": {},
   "outputs": [],
   "source": [
    "while True:\n",
    "    msg = await ocps.evt_job_result.next(flush=False)\n",
    "    response = json.loads(msg.result)\n",
    "    if response[\"jobId\"] == job_id:\n",
    "        break\n",
    "response"
   ]
  },
  {
   "cell_type": "markdown",
   "id": "c97ded28",
   "metadata": {},
   "source": [
    "---\n",
    "\n",
    "## Cleanup\n",
    "\n",
    "If needed, disable the CSC, set it to standby, and close the domain."
   ]
  },
  {
   "cell_type": "code",
   "execution_count": null,
   "id": "36a89a65",
   "metadata": {},
   "outputs": [],
   "source": [
    "ack = await ocps.cmd_disable.set_start()\n",
    "if ack.ack != salobj.SalRetCode.CMD_COMPLETE:\n",
    "    ack.print_vars()"
   ]
  },
  {
   "cell_type": "code",
   "execution_count": null,
   "id": "33f8edbd",
   "metadata": {},
   "outputs": [],
   "source": [
    "ack = await ocps.cmd_standby.set_start()\n",
    "if ack.ack != salobj.SalRetCode.CMD_COMPLETE:\n",
    "    ack.print_vars()"
   ]
  },
  {
   "cell_type": "code",
   "execution_count": null,
   "id": "0c4656b4",
   "metadata": {},
   "outputs": [],
   "source": [
    "domain.close()"
   ]
  }
 ],
 "metadata": {
  "kernelspec": {
   "display_name": "LSST",
   "language": "python",
   "name": "lsst"
  },
  "language_info": {
   "codemirror_mode": {
    "name": "ipython",
    "version": 3
   },
   "file_extension": ".py",
   "mimetype": "text/x-python",
   "name": "python",
   "nbconvert_exporter": "python",
   "pygments_lexer": "ipython3",
   "version": "3.8.8"
  }
 },
 "nbformat": 4,
 "nbformat_minor": 5
}
