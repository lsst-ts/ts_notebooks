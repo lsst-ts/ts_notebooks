{
 "cells": [
  {
   "cell_type": "markdown",
   "metadata": {},
   "source": [
    "# DM-25824: Rotator/CCW synchronization test\n",
    "\n",
    "This notebook contains code to drive the CCW-Rotator integration test. There is an accompanying notebook that shows how to query the EFD for the data generated here (CCW-Rotator-EFD.ipynb) and also a script that can be launched on the ScriptQueue to perform a similar task. \n",
    "\n",
    "https://jira.lsstcorp.org/browse/DM-25824"
   ]
  },
  {
   "cell_type": "code",
   "execution_count": null,
   "metadata": {},
   "outputs": [],
   "source": [
    "import sys\n",
    "import asyncio\n",
    "import logging\n",
    "\n",
    "import numpy as np\n",
    "\n",
    "import astropy.units as u\n",
    "from astropy.coordinates import Angle\n",
    "\n",
    "from lsst.ts import salobj\n",
    "\n",
    "from lsst.ts.observatory.control.maintel import MTCS"
   ]
  },
  {
   "cell_type": "code",
   "execution_count": null,
   "metadata": {},
   "outputs": [],
   "source": [
    "stream_handler = logging.StreamHandler(sys.stdout)\n",
    "\n",
    "logger = logging.getLogger()\n",
    "logger.addHandler(stream_handler)\n",
    "logger.level = logging.DEBUG"
   ]
  },
  {
   "cell_type": "code",
   "execution_count": null,
   "metadata": {},
   "outputs": [],
   "source": [
    "mtcs = MTCS()"
   ]
  },
  {
   "cell_type": "code",
   "execution_count": null,
   "metadata": {},
   "outputs": [],
   "source": [
    "await mtcs.start_task"
   ]
  },
  {
   "cell_type": "code",
   "execution_count": null,
   "metadata": {},
   "outputs": [],
   "source": [
    "mtcs.components"
   ]
  },
  {
   "cell_type": "markdown",
   "metadata": {},
   "source": [
    "## Ignoring components because they are not important for this test.\n",
    "\n",
    "This allow the test to run even if the components are not available."
   ]
  },
  {
   "cell_type": "code",
   "execution_count": null,
   "metadata": {},
   "outputs": [],
   "source": [
    "mtcs.check.mtaos = False\n",
    "mtcs.check.mtm1m3 = False\n",
    "mtcs.check.mtm2 = False\n",
    "mtcs.check.hexapod_1 = False\n",
    "mtcs.check.hexapod_2 = False\n",
    "mtcs.check.dome = False\n",
    "mtcs.check.mtdometrajectory = False"
   ]
  },
  {
   "cell_type": "markdown",
   "metadata": {},
   "source": [
    "## Check heartbeat from NewMTMount component."
   ]
  },
  {
   "cell_type": "code",
   "execution_count": null,
   "metadata": {},
   "outputs": [],
   "source": [
    "await mtcs.rem.newmtmount.evt_heartbeat.next(flush=True)"
   ]
  },
  {
   "cell_type": "markdown",
   "metadata": {},
   "source": [
    "## Ensuring components are in ENABLED state"
   ]
  },
  {
   "cell_type": "code",
   "execution_count": null,
   "metadata": {},
   "outputs": [],
   "source": [
    "await asyncio.sleep(5.)\n",
    "for comp in mtcs.components:\n",
    "    if not getattr(mtcs.check, comp):\n",
    "        continue\n",
    "    \n",
    "    try:\n",
    "        state = await mtcs.get_state(comp)\n",
    "        print(f\"{comp}: {state!r}\")\n",
    "    except asyncio.TimeoutError:\n",
    "        print(f\"Failed to get status for {comp}.\")\n",
    "        pass"
   ]
  },
  {
   "cell_type": "markdown",
   "metadata": {},
   "source": [
    "Sometimes it happens that the Rotator is in `FAULT` state. Before enabling Rotator we need to send the `clearError` command."
   ]
  },
  {
   "cell_type": "code",
   "execution_count": null,
   "metadata": {},
   "outputs": [],
   "source": [
    "if (await mtcs.get_state(\"rotator\")) == salobj.State.FAULT:\n",
    "    print(\"Rotator: clear error.\")\n",
    "    await mtcs.rem.rotator.cmd_clearError.start()"
   ]
  },
  {
   "cell_type": "markdown",
   "metadata": {},
   "source": [
    "Now put all component in `ENABLED` state. This will not affect the components that are already enabled."
   ]
  },
  {
   "cell_type": "code",
   "execution_count": null,
   "metadata": {},
   "outputs": [],
   "source": [
    "await mtcs.enable(\n",
    "    {\n",
    "        'mtmount': '',\n",
    "        'mtptg': '',\n",
    "        'rotator': ''\n",
    "    }\n",
    "                 )"
   ]
  },
  {
   "cell_type": "markdown",
   "metadata": {},
   "source": [
    "Need to enable Camera Cable Wrap tracking. "
   ]
  },
  {
   "cell_type": "code",
   "execution_count": null,
   "metadata": {},
   "outputs": [],
   "source": [
    "await asyncio.sleep(30.)\n",
    "await mtcs.rem.newmtmount.cmd_enableCameraCableWrapTracking.start()"
   ]
  },
  {
   "cell_type": "markdown",
   "metadata": {},
   "source": [
    "## Execute first test\n",
    "\n",
    "This test will randomly select a set of angles between 0 and 80 and move the Rotator from + to -, to make sure that the CCW can cope with both long and short slews.\n",
    "\n",
    "In order to allow this notebook to run independently of the time, we get the current time information provided by the pointing and compute appropriate coordinates.\n",
    "\n",
    "The `timeAndDate` topic provided by the pointing contains the Local Sidereal Time, that can be used as a good indication of `RA`."
   ]
  },
  {
   "cell_type": "code",
   "execution_count": null,
   "metadata": {},
   "outputs": [],
   "source": [
    "time_and_date = await mtcs.rem.mtptg.tel_timeAndDate.aget()\n",
    "ra = Angle(time_and_date.lst, unit=u.hourangle)\n",
    "await mtcs.slew_icrs(ra=ra, dec=dec, rot_sky=-180., stop_before_slew=False)\n",
    "\n",
    "await asyncio.sleep(30.)\n",
    "\n",
    "for deltaA in np.random.random(10)*80.:\n",
    "    for i in range(5):\n",
    "\n",
    "        time_and_date = await mtcs.rem.mtptg.tel_timeAndDate.aget()\n",
    "        ra = Angle(time_and_date.lst, unit=u.hourangle)\n",
    "        mtcs.rem.rotator.evt_inPosition.flush()\n",
    "        await mtcs.slew_icrs(ra=ra, dec=dec, rot_sky=-180.-deltaA, stop_before_slew=False)\n",
    "\n",
    "        await asyncio.sleep(15.)\n",
    "\n",
    "        time_and_date = await mtcs.rem.mtptg.tel_timeAndDate.aget()\n",
    "        ra = Angle(time_and_date.lst, unit=u.hourangle)\n",
    "        mtcs.rem.rotator.evt_inPosition.flush()\n",
    "        await mtcs.slew_icrs(ra=ra, dec=dec, rot_sky=-180.+deltaA, stop_before_slew=False)\n",
    "        \n",
    "        await asyncio.sleep(15.)\n",
    "\n",
    "\n",
    "time_and_date = await mtcs.rem.mtptg.tel_timeAndDate.aget()\n",
    "ra = Angle(time_and_date.lst, unit=u.hourangle)\n",
    "await mtcs.slew_icrs(ra=ra, dec=dec, rot_sky=-180., stop_before_slew=False)\n"
   ]
  },
  {
   "cell_type": "markdown",
   "metadata": {},
   "source": [
    "## Execut second test\n",
    "\n",
    "This test consists of starting a long slew, waiting for the Rotator to move for some time and then initiate a new slew in the other direction, without stoping."
   ]
  },
  {
   "cell_type": "code",
   "execution_count": null,
   "metadata": {},
   "outputs": [],
   "source": [
    "time_and_date = await mtcs.rem.mtptg.tel_timeAndDate.aget()\n",
    "ra = Angle(time_and_date.lst, unit=u.hourangle)\n",
    "await mtcs.slew_icrs(ra=ra, dec=dec, rot_sky=-180., stop_before_slew=True)\n",
    "\n",
    "await asyncio.sleep(10.)\n",
    "\n",
    "time_and_date = await mtcs.rem.mtptg.tel_timeAndDate.aget()\n",
    "ra = Angle(time_and_date.lst, unit=u.hourangle)\n",
    "try:\n",
    "    await mtcs.slew_icrs(ra=ra, dec=dec, rot_sky=-180.+80, stop_before_slew=False, slew_timeout=5.)\n",
    "except asyncio.TimeoutError:\n",
    "    pass\n",
    "\n",
    "time_and_date = await mtcs.rem.mtptg.tel_timeAndDate.aget()\n",
    "ra = Angle(time_and_date.lst, unit=u.hourangle)\n",
    "await mtcs.slew_icrs(ra=ra, dec=dec, rot_sky=-180.+10., stop_before_slew=False)\n"
   ]
  },
  {
   "cell_type": "code",
   "execution_count": null,
   "metadata": {},
   "outputs": [],
   "source": []
  }
 ],
 "metadata": {
  "kernelspec": {
   "display_name": "LSST",
   "language": "python",
   "name": "lsst"
  },
  "language_info": {
   "codemirror_mode": {
    "name": "ipython",
    "version": 3
   },
   "file_extension": ".py",
   "mimetype": "text/x-python",
   "name": "python",
   "nbconvert_exporter": "python",
   "pygments_lexer": "ipython3",
   "version": "3.7.6"
  }
 },
 "nbformat": 4,
 "nbformat_minor": 4
}
