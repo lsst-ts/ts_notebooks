{
 "cells": [
  {
   "cell_type": "markdown",
   "metadata": {},
   "source": [
    "# Filter Change MTPtg/Rotator Integration Test"
   ]
  },
  {
   "cell_type": "markdown",
   "metadata": {},
   "source": [
    "This notebook relates to Jira test case: https://jira.lsstcorp.org/secure/Tests.jspa#/testCase/LVV-T1595\n",
    "\n",
    "This notebook performs a filter change scenario integration test between the Maint Telescope pointing component (MTPtg) and the Rotator with the Camera Cable Wrap tracking the Rotator. It includes enough boilerplate to allow the test to run at any time by getting current time information from the pointing and computing appropriate coordinates to slew."
   ]
  },
  {
   "cell_type": "code",
   "execution_count": 1,
   "metadata": {},
   "outputs": [],
   "source": [
    "import logging\n",
    "import yaml\n",
    "\n",
    "import os\n",
    "import sqlite3\n",
    "import pandas as pd\n",
    "\n",
    "import numpy as np\n",
    "from matplotlib import pyplot as plt\n",
    "import astropy.units as u\n",
    "from astropy.time import Time\n",
    "from astropy.coordinates import AltAz, ICRS, EarthLocation, Angle, FK5\n",
    "import asyncio\n",
    "from lsst.ts import salobj\n",
    "from lsst.ts.idl.enums import MTPtg\n",
    "\n",
    "from astropy.utils import iers\n",
    "iers.conf.auto_download = False\n",
    "\n",
    "from datetime import datetime "
   ]
  },
  {
   "cell_type": "code",
   "execution_count": 2,
   "metadata": {},
   "outputs": [
    {
     "name": "stdout",
     "output_type": "stream",
     "text": [
      "Filter Change MTPtg_Rotator_CCW Integration Test 2021-06-18 18:08:55.687819\n"
     ]
    }
   ],
   "source": [
    "test_message = \"Filter Change MTPtg_Rotator_CCW Integration Test - LVV-T1595\"\n",
    "now = datetime.now()\n",
    "print(test_message, now)"
   ]
  },
  {
   "cell_type": "code",
   "execution_count": 3,
   "metadata": {},
   "outputs": [
    {
     "ename": "OperationalError",
     "evalue": "unable to open database file",
     "output_type": "error",
     "traceback": [
      "\u001b[0;31m---------------------------------------------------------------------------\u001b[0m",
      "\u001b[0;31mOperationalError\u001b[0m                          Traceback (most recent call last)",
      "\u001b[0;32m<ipython-input-3-c130a7e064e8>\u001b[0m in \u001b[0;36m<module>\u001b[0;34m\u001b[0m\n\u001b[0;32m----> 1\u001b[0;31m \u001b[0mcon\u001b[0m \u001b[0;34m=\u001b[0m \u001b[0msqlite3\u001b[0m\u001b[0;34m.\u001b[0m\u001b[0mconnect\u001b[0m\u001b[0;34m(\u001b[0m\u001b[0mos\u001b[0m\u001b[0;34m.\u001b[0m\u001b[0mpath\u001b[0m\u001b[0;34m.\u001b[0m\u001b[0mexpanduser\u001b[0m\u001b[0;34m(\u001b[0m\u001b[0;34m\"~/develop/one_filt_v1.4_0yrs_1.db\"\u001b[0m\u001b[0;34m)\u001b[0m\u001b[0;34m)\u001b[0m\u001b[0;34m\u001b[0m\u001b[0;34m\u001b[0m\u001b[0m\n\u001b[0m",
      "\u001b[0;31mOperationalError\u001b[0m: unable to open database file"
     ]
    }
   ],
   "source": [
    "con = sqlite3.connect(os.path.expanduser(\"~/develop/one_filt_v1.4_0yrs_1.db\"))"
   ]
  },
  {
   "cell_type": "code",
   "execution_count": 4,
   "metadata": {},
   "outputs": [
    {
     "ename": "NameError",
     "evalue": "name 'con' is not defined",
     "output_type": "error",
     "traceback": [
      "\u001b[0;31m---------------------------------------------------------------------------\u001b[0m",
      "\u001b[0;31mNameError\u001b[0m                                 Traceback (most recent call last)",
      "\u001b[0;32m<ipython-input-4-9116fb3ca877>\u001b[0m in \u001b[0;36m<module>\u001b[0;34m\u001b[0m\n\u001b[0;32m----> 1\u001b[0;31m \u001b[0mdf\u001b[0m \u001b[0;34m=\u001b[0m \u001b[0mpd\u001b[0m\u001b[0;34m.\u001b[0m\u001b[0mread_sql_query\u001b[0m\u001b[0;34m(\u001b[0m\u001b[0;34m\"SELECT * from SummaryAllProps\"\u001b[0m\u001b[0;34m,\u001b[0m \u001b[0mcon\u001b[0m\u001b[0;34m)\u001b[0m\u001b[0;34m\u001b[0m\u001b[0;34m\u001b[0m\u001b[0m\n\u001b[0m",
      "\u001b[0;31mNameError\u001b[0m: name 'con' is not defined"
     ]
    }
   ],
   "source": [
    "df = pd.read_sql_query(\"SELECT * from SummaryAllProps\", con)"
   ]
  },
  {
   "cell_type": "code",
   "execution_count": 5,
   "metadata": {},
   "outputs": [],
   "source": [
    "d = salobj.Domain()"
   ]
  },
  {
   "cell_type": "code",
   "execution_count": 7,
   "metadata": {},
   "outputs": [],
   "source": [
    "script = salobj.Controller(\"Script\", index=1)\n",
    "rot = salobj.Remote(d, \"MTRotator\")\n",
    "mtptg = salobj.Remote(d, \"MTPtg\")\n",
    "mtm = salobj.Remote(d, \"MTMount\")"
   ]
  },
  {
   "cell_type": "code",
   "execution_count": 8,
   "metadata": {},
   "outputs": [
    {
     "name": "stderr",
     "output_type": "stream",
     "text": [
      "rotation DDS read queue is full (100 elements); data may be lost\n",
      "motors DDS read queue is full (100 elements); data may be lost\n",
      "electrical DDS read queue is full (100 elements); data may be lost\n",
      "ccwFollowingError DDS read queue is full (100 elements); data may be lost\n",
      "timeAndDate DDS read queue is filling: 12 of 100 elements\n",
      "mountStatus DDS read queue is filling: 14 of 100 elements\n"
     ]
    },
    {
     "data": {
      "text/plain": [
       "[None, None, None, None]"
      ]
     },
     "execution_count": 8,
     "metadata": {},
     "output_type": "execute_result"
    },
    {
     "name": "stderr",
     "output_type": "stream",
     "text": [
      "mountPosition DDS read queue is filling: 14 of 100 elements\n",
      "currentTargetStatus DDS read queue is filling: 15 of 100 elements\n"
     ]
    }
   ],
   "source": [
    "await asyncio.gather(rot.start_task,\n",
    "                     mtptg.start_task,\n",
    "                     script.start_task,\n",
    "                     mtm.start_task)"
   ]
  },
  {
   "cell_type": "code",
   "execution_count": 14,
   "metadata": {},
   "outputs": [
    {
     "data": {
      "text/plain": [
       "[<State.FAULT: 3>, <State.STANDBY: 5>, <State.DISABLED: 1>, <State.ENABLED: 2>]"
      ]
     },
     "execution_count": 14,
     "metadata": {},
     "output_type": "execute_result"
    }
   ],
   "source": [
    "await asyncio.sleep(1.)\n",
    "await salobj.set_summary_state(mtptg, salobj.State.ENABLED)"
   ]
  },
  {
   "cell_type": "code",
   "execution_count": 15,
   "metadata": {},
   "outputs": [
    {
     "data": {
      "text/plain": [
       "[<State.ENABLED: 2>]"
      ]
     },
     "execution_count": 15,
     "metadata": {},
     "output_type": "execute_result"
    }
   ],
   "source": [
    "await salobj.set_summary_state(rot, salobj.State.ENABLED)"
   ]
  },
  {
   "cell_type": "code",
   "execution_count": null,
   "metadata": {},
   "outputs": [],
   "source": [
    "await mtm.cmd_enterControl.start(timeout=10.)\n",
    "await mtm.cmd_start.start(timeout=10.)\n",
    "await mtm.cmd_enable.start(timeout=10.)"
   ]
  },
  {
   "cell_type": "code",
   "execution_count": 11,
   "metadata": {},
   "outputs": [],
   "source": [
    "location = EarthLocation.from_geodetic(lon=-70.747698*u.deg,\n",
    "                                       lat=-30.244728*u.deg,\n",
    "                                       height=2663.0*u.m)"
   ]
  },
  {
   "cell_type": "code",
   "execution_count": 12,
   "metadata": {},
   "outputs": [],
   "source": [
    "def parallactic_angle(location, lst, target):\n",
    "    \"\"\"\n",
    "    Calculate the parallactic angle.\n",
    "    Parameters\n",
    "    ----------\n",
    "    time : `~astropy.time.Time`\n",
    "        Observation time.\n",
    "    target : `~astroplan.FixedTarget` or `~astropy.coordinates.SkyCoord` or list\n",
    "        Target celestial object(s).\n",
    "    grid_times_targets: bool\n",
    "        If True, the target object will have extra dimensions packed onto the end,\n",
    "        so that calculations with M targets and N times will return an (M, N)\n",
    "        shaped result. Otherwise, we rely on broadcasting the shapes together\n",
    "        using standard numpy rules.\n",
    "    Returns\n",
    "    -------\n",
    "    `~astropy.coordinates.Angle`\n",
    "        Parallactic angle.\n",
    "    Notes\n",
    "    -----\n",
    "    The parallactic angle is the angle between the great circle that\n",
    "    intersects a celestial object and the zenith, and the object's hour\n",
    "    circle [1]_.\n",
    "    .. [1] https://en.wikipedia.org/wiki/Parallactic_angle\n",
    "    \"\"\"\n",
    "    # Eqn (14.1) of Meeus' Astronomical Algorithms\n",
    "    H = (lst - target.ra).radian\n",
    "    q = np.arctan2(np.sin(H),\n",
    "                   (np.tan(location.lat.radian) *\n",
    "                    np.cos(target.dec.radian) -\n",
    "                    np.sin(target.dec.radian)*np.cos(H)))*u.rad\n",
    "    return Angle(q)"
   ]
  },
  {
   "cell_type": "markdown",
   "metadata": {},
   "source": [
    "# Move to 0 deg Starting Position"
   ]
  },
  {
   "cell_type": "raw",
   "metadata": {},
   "source": [
    "await asyncio.sleep(0.1)\n",
    "\n",
    "print(\"Move to 0.0 deg for starting position\")\n",
    "\n",
    "await rot.cmd_positionSet.set_start(angle=0.0,timeout=10.)\n",
    "\n",
    "await rot.cmd_move.start(timeout=10.)"
   ]
  },
  {
   "cell_type": "code",
   "execution_count": 18,
   "metadata": {},
   "outputs": [
    {
     "name": "stdout",
     "output_type": "stream",
     "text": [
      "Move to 0.0 deg starting position 2021-06-18 21:39:35.673684\n",
      "Time error=-0.00 sec\n",
      "0d00m00s\n",
      "Waiting 30s\n"
     ]
    }
   ],
   "source": [
    "\n",
    "now = datetime.now()\n",
    "script.evt_logMessage.set_put(level=logging.INFO+1,\n",
    "                              message=f\"START - {test_message} - Move to 0 deg Starting Position - {now} UTC\")\n",
    "\n",
    "now = datetime.now()\n",
    "print(\"Move to 0.0 deg starting position\", now)\n",
    "\n",
    "alt = 45. * u.deg\n",
    "az = 0. * u.deg\n",
    "rot_tel = Angle(0, unit= u.deg) \n",
    "\n",
    "target_name=\"Rotator test\"\n",
    "time_data = await mtptg.tel_timeAndDate.next(flush=True, timeout=2)\n",
    "curr_time_mtptg = Time(time_data.mjd, format=\"mjd\", scale=\"tai\")\n",
    "time_err = curr_time_mtptg - Time.now()\n",
    "print(f\"Time error={time_err.sec:0.2f} sec\")\n",
    "\n",
    "# Compute RA/Dec for commanded az/el\n",
    "cmd_elaz = AltAz(alt=alt, az=az, \n",
    "                 obstime=curr_time_mtptg.tai, \n",
    "                 location=location)\n",
    "cmd_radec = cmd_elaz.transform_to(ICRS)\n",
    "\n",
    "# Calculating the other parameters     \n",
    "rot_pa = rot_tel\n",
    "print(rot_pa)\n",
    "\n",
    "await rot.cmd_trackStart.start(timeout=30.)\n",
    "    \n",
    "ack = await mtptg.cmd_raDecTarget.set_start(\n",
    "    targetName=target_name,\n",
    "    #targetInstance=ATPtg.TargetInstances.CURRENT,\n",
    "    frame=MTPtg.CoordFrame.ICRS,\n",
    "    epoch=2000,  # should be ignored: no parallax or proper motion\n",
    "    equinox=2000,  # should be ignored for ICRS\n",
    "    ra=cmd_radec.ra.hour,\n",
    "    declination=cmd_radec.dec.deg,\n",
    "    parallax=0,\n",
    "    pmRA=0,\n",
    "    pmDec=0,\n",
    "    rv=0,\n",
    "    dRA=0,\n",
    "    dDec=0,\n",
    "    trackId=9999,\n",
    "    rotAngle=15.0,\n",
    "    #rotPA=rot_pa.deg,\n",
    "    #rotFrame=ATPtg.RotFrame.TARGET,\n",
    "    rotStartFrame=MTPtg.RotFrame.FIXED,\n",
    "    rotTrackFrame=MTPtg.RotFrame.FIXED,\n",
    "    rotMode=MTPtg.RotMode.FIELD,\n",
    "    azWrapStrategy=2,\n",
    "    timeOnTarget=30,\n",
    "    timeout=10\n",
    ")\n",
    "\n",
    "print(\"Waiting 30s\")\n",
    "await asyncio.sleep(30.)"
   ]
  },
  {
   "cell_type": "code",
   "execution_count": null,
   "metadata": {},
   "outputs": [],
   "source": [
    "await mtptg.cmd_stopTracking.start(timeout=10.)"
   ]
  },
  {
   "cell_type": "code",
   "execution_count": null,
   "metadata": {},
   "outputs": [],
   "source": [
    "await mtm.cmd_stop.start(timeout=10.)"
   ]
  },
  {
   "cell_type": "code",
   "execution_count": 17,
   "metadata": {},
   "outputs": [
    {
     "data": {
      "text/plain": [
       "<ddsutil.MTRotator_ackcmd_55ad33c7 at 0x7fce572c01c0>"
      ]
     },
     "execution_count": 17,
     "metadata": {},
     "output_type": "execute_result"
    }
   ],
   "source": [
    "await rot.cmd_stop.start(timeout=10.)"
   ]
  },
  {
   "cell_type": "markdown",
   "metadata": {},
   "source": [
    "# Start Test"
   ]
  },
  {
   "cell_type": "code",
   "execution_count": 19,
   "metadata": {},
   "outputs": [
    {
     "name": "stdout",
     "output_type": "stream",
     "text": [
      "Start Test 2021-06-18 21:40:05.744073\n"
     ]
    },
    {
     "data": {
      "text/plain": [
       "True"
      ]
     },
     "execution_count": 19,
     "metadata": {},
     "output_type": "execute_result"
    }
   ],
   "source": [
    "now = datetime.now()\n",
    "print(\"Start Test\", now)\n",
    "script.evt_logMessage.set_put(level=logging.INFO+1,\n",
    "                              message=f\"START - {test_message} - {now} UTC\")"
   ]
  },
  {
   "cell_type": "markdown",
   "metadata": {},
   "source": [
    "# Perform First Track"
   ]
  },
  {
   "cell_type": "code",
   "execution_count": 20,
   "metadata": {},
   "outputs": [
    {
     "name": "stdout",
     "output_type": "stream",
     "text": [
      "Perform First Track 2021-06-18 21:44:20.226894\n"
     ]
    },
    {
     "ename": "NameError",
     "evalue": "name 'df' is not defined",
     "output_type": "error",
     "traceback": [
      "\u001b[0;31m---------------------------------------------------------------------------\u001b[0m",
      "\u001b[0;31mNameError\u001b[0m                                 Traceback (most recent call last)",
      "\u001b[0;32m<ipython-input-20-e614b16f07df>\u001b[0m in \u001b[0;36m<module>\u001b[0;34m\u001b[0m\n\u001b[1;32m      5\u001b[0m \u001b[0;34m\u001b[0m\u001b[0m\n\u001b[1;32m      6\u001b[0m \u001b[0mfield\u001b[0m \u001b[0;34m=\u001b[0m \u001b[0;36m0\u001b[0m\u001b[0;34m\u001b[0m\u001b[0;34m\u001b[0m\u001b[0m\n\u001b[0;32m----> 7\u001b[0;31m \u001b[0mtarget_name\u001b[0m \u001b[0;34m=\u001b[0m \u001b[0mdf\u001b[0m\u001b[0;34m[\u001b[0m\u001b[0;34m\"note\"\u001b[0m\u001b[0;34m]\u001b[0m\u001b[0;34m[\u001b[0m\u001b[0mfield\u001b[0m\u001b[0;34m]\u001b[0m\u001b[0;34m\u001b[0m\u001b[0;34m\u001b[0m\u001b[0m\n\u001b[0m\u001b[1;32m      8\u001b[0m \u001b[0malt\u001b[0m \u001b[0;34m=\u001b[0m \u001b[0mdf\u001b[0m\u001b[0;34m[\u001b[0m\u001b[0;34m'altitude'\u001b[0m\u001b[0;34m]\u001b[0m\u001b[0;34m[\u001b[0m\u001b[0mfield\u001b[0m\u001b[0;34m]\u001b[0m \u001b[0;34m*\u001b[0m \u001b[0mu\u001b[0m\u001b[0;34m.\u001b[0m\u001b[0mdeg\u001b[0m\u001b[0;34m\u001b[0m\u001b[0;34m\u001b[0m\u001b[0m\n\u001b[1;32m      9\u001b[0m \u001b[0maz\u001b[0m \u001b[0;34m=\u001b[0m \u001b[0mdf\u001b[0m\u001b[0;34m[\u001b[0m\u001b[0;34m'azimuth'\u001b[0m\u001b[0;34m]\u001b[0m\u001b[0;34m[\u001b[0m\u001b[0mfield\u001b[0m\u001b[0;34m]\u001b[0m \u001b[0;34m*\u001b[0m \u001b[0mu\u001b[0m\u001b[0;34m.\u001b[0m\u001b[0mdeg\u001b[0m\u001b[0;34m\u001b[0m\u001b[0;34m\u001b[0m\u001b[0m\n",
      "\u001b[0;31mNameError\u001b[0m: name 'df' is not defined"
     ]
    }
   ],
   "source": [
    "now = datetime.now()\n",
    "print(\"Perform First Track\", now)\n",
    "script.evt_logMessage.set_put(level=logging.INFO+1,\n",
    "                              message=f\"START - {test_message} - Perform First Track - {now} UTC\")\n",
    "\n",
    "field = 0\n",
    "target_name = df[\"note\"][field]\n",
    "alt = df['altitude'][field] * u.deg\n",
    "az = df['azimuth'][field] * u.deg\n",
    "rot_tel = Angle(df[\"rotTelPos\"][field]*u.deg)\n",
    "para_ang = Angle(df[\"paraAngle\"][field]*u.deg)\n",
    "rot_pa = para_ang-180*u.deg+rot_tel.wrap_at('180d')\n",
    "visit_time = df['visitTime'][field]  # how long the visit lasted. Usefull so you can wait between visits\n",
    "print(f\"Alt: {alt}\\nAz: {az}\\nRotTel: {rot_tel}\")\n",
    "\n",
    "#Here is a small trick to get the ra before transit. Get `timeAndDate` from the pointing component, then use `RA = lst - delta`.\n",
    "time_data = await mtptg.tel_timeAndDate.next(flush=True, timeout=2)\n",
    "curr_time_atptg = Time(time_data.mjd, format=\"mjd\", scale=\"tai\")\n",
    "\n",
    "# Compute RA/Dec for commanded az/el\n",
    "cmd_elaz = AltAz(alt=alt, az=az, obstime=curr_time_atptg.tai, location=location)\n",
    "cmd_radec = cmd_elaz.transform_to(ICRS) # This is the RA/Dec of the target\n",
    "\n",
    "print(f\"RA: {cmd_radec.ra}\\nDec: {cmd_radec.dec}\\nRotPA: {rot_pa}\")\n",
    "\n",
    "await rot.cmd_trackStart.start(timeout=30.)\n",
    "\n",
    "ack = await mtptg.cmd_raDecTarget.set_start(\n",
    "    targetName=target_name,\n",
    "    #targetInstance=ATPtg.TargetInstances.CURRENT,\n",
    "    frame=MTPtg.CoordFrame.ICRS,\n",
    "    epoch=2000,  # should be ignored: no parallax or proper motion\n",
    "    equinox=2000,  # should be ignored for ICRS\n",
    "    ra=cmd_radec.ra.hour,\n",
    "    declination=cmd_radec.dec.deg,\n",
    "    parallax=0,\n",
    "    pmRA=0,\n",
    "    pmDec=0,\n",
    "    rv=0,\n",
    "    dRA=0,\n",
    "    dDec=0,\n",
    "    trackId=9999,\n",
    "    rotAngle=15.0,\n",
    "    #rotPA=rot_pa.deg,\n",
    "    #rotFrame=ATPtg.RotFrame.TARGET,\n",
    "    rotStartFrame=MTPtg.RotFrame.FIXED,\n",
    "    rotTrackFrame=MTPtg.RotFrame.FIXED,\n",
    "    rotMode=MTPtg.RotMode.FIELD,\n",
    "    azWrapStrategy=2,\n",
    "    timeOnTarget=30,\n",
    "    timeout=10\n",
    ")\n",
    "\n",
    "print(\"Waiting\", visit_time, \"s\")\n",
    "await asyncio.sleep(visit_time)"
   ]
  },
  {
   "cell_type": "code",
   "execution_count": null,
   "metadata": {},
   "outputs": [],
   "source": [
    "await mtptg.cmd_stopTracking.start(timeout=10.)\n",
    "await mtm.cmd_stop.start(timeout=10.)"
   ]
  },
  {
   "cell_type": "code",
   "execution_count": null,
   "metadata": {},
   "outputs": [],
   "source": [
    "await rot.cmd_stop.start(timeout=10.)"
   ]
  },
  {
   "cell_type": "markdown",
   "metadata": {},
   "source": [
    "# Perform Filter Change - Move Command"
   ]
  },
  {
   "cell_type": "raw",
   "metadata": {},
   "source": [
    "await asyncio.sleep(0.1)\n",
    "\n",
    "print(\"Move to 0.0 deg for filter change\")\n",
    "\n",
    "await rot.cmd_positionSet.set_start(angle=0.0)\n",
    "\n",
    "rot.evt_inPosition.flush()\n",
    "\n",
    "await rot.cmd_move.start(timeout=30.)\n",
    "\n",
    "inPOS = await rot.evt_inPosition.aget()\n",
    "\n",
    "print(inPOS.inPosition)\n",
    "\n",
    "print(\"Rotator in position and waiting 120s\")\n",
    "\n",
    "await asyncio.sleep(120.)"
   ]
  },
  {
   "cell_type": "markdown",
   "metadata": {},
   "source": [
    "# Perform Filter Change - Track Command"
   ]
  },
  {
   "cell_type": "code",
   "execution_count": 21,
   "metadata": {},
   "outputs": [
    {
     "name": "stdout",
     "output_type": "stream",
     "text": [
      "Move to 0.0 deg for filter change 2021-06-18 21:45:20.418051\n"
     ]
    },
    {
     "ename": "NameError",
     "evalue": "name 'df' is not defined",
     "output_type": "error",
     "traceback": [
      "\u001b[0;31m---------------------------------------------------------------------------\u001b[0m",
      "\u001b[0;31mNameError\u001b[0m                                 Traceback (most recent call last)",
      "\u001b[0;32m<ipython-input-21-8c5cbc945a99>\u001b[0m in \u001b[0;36m<module>\u001b[0;34m\u001b[0m\n\u001b[1;32m      3\u001b[0m \u001b[0;34m\u001b[0m\u001b[0m\n\u001b[1;32m      4\u001b[0m \u001b[0mfield\u001b[0m \u001b[0;34m=\u001b[0m \u001b[0;36m1\u001b[0m\u001b[0;34m\u001b[0m\u001b[0;34m\u001b[0m\u001b[0m\n\u001b[0;32m----> 5\u001b[0;31m \u001b[0malt\u001b[0m \u001b[0;34m=\u001b[0m \u001b[0mdf\u001b[0m\u001b[0;34m[\u001b[0m\u001b[0;34m'altitude'\u001b[0m\u001b[0;34m]\u001b[0m\u001b[0;34m[\u001b[0m\u001b[0mfield\u001b[0m\u001b[0;34m]\u001b[0m \u001b[0;34m*\u001b[0m \u001b[0mu\u001b[0m\u001b[0;34m.\u001b[0m\u001b[0mdeg\u001b[0m\u001b[0;34m\u001b[0m\u001b[0;34m\u001b[0m\u001b[0m\n\u001b[0m\u001b[1;32m      6\u001b[0m \u001b[0maz\u001b[0m \u001b[0;34m=\u001b[0m \u001b[0mdf\u001b[0m\u001b[0;34m[\u001b[0m\u001b[0;34m'azimuth'\u001b[0m\u001b[0;34m]\u001b[0m\u001b[0;34m[\u001b[0m\u001b[0mfield\u001b[0m\u001b[0;34m]\u001b[0m \u001b[0;34m*\u001b[0m \u001b[0mu\u001b[0m\u001b[0;34m.\u001b[0m\u001b[0mdeg\u001b[0m\u001b[0;34m\u001b[0m\u001b[0;34m\u001b[0m\u001b[0m\n\u001b[1;32m      7\u001b[0m \u001b[0mrot_tel\u001b[0m \u001b[0;34m=\u001b[0m \u001b[0mAngle\u001b[0m\u001b[0;34m(\u001b[0m\u001b[0;36m0\u001b[0m\u001b[0;34m,\u001b[0m \u001b[0munit\u001b[0m\u001b[0;34m=\u001b[0m\u001b[0mu\u001b[0m\u001b[0;34m.\u001b[0m\u001b[0mdeg\u001b[0m\u001b[0;34m)\u001b[0m\u001b[0;34m\u001b[0m\u001b[0;34m\u001b[0m\u001b[0m\n",
      "\u001b[0;31mNameError\u001b[0m: name 'df' is not defined"
     ]
    }
   ],
   "source": [
    "now = datetime.now()\n",
    "print(\"Perform First Track\", now)\n",
    "script.evt_logMessage.set_put(level=logging.INFO+1,\n",
    "                              message=f\"START - {test_message} - Perform Filter Change incl. Track Command - {now} UTC\")\n",
    "now = datetime.now()\n",
    "print(\"Move to 0.0 deg for filter change\",now)\n",
    "\n",
    "field = 1\n",
    "alt = df['altitude'][field] * u.deg\n",
    "az = df['azimuth'][field] * u.deg\n",
    "rot_tel = Angle(0, unit=u.deg)\n",
    "\n",
    "target_name=\"filter change\"\n",
    "time_data = await mtptg.tel_timeAndDate.next(flush=True, timeout=2)\n",
    "curr_time_mtptg = Time(time_data.mjd, format=\"mjd\", scale=\"tai\")\n",
    "time_err = curr_time_mtptg - Time.now()\n",
    "print(f\"Time error={time_err.sec:0.2f} sec\")\n",
    "\n",
    "#Here is a small trick to get the ra before transit. Get `timeAndDate` from the pointing component, then use `RA = lst - delta`.\n",
    "time_data = await mtptg.tel_timeAndDate.next(flush=True, timeout=2)\n",
    "curr_time_atptg = Time(time_data.mjd, format=\"mjd\", scale=\"tai\")\n",
    "\n",
    "# Compute RA/Dec for commanded az/el\n",
    "cmd_elaz = AltAz(alt=alt, az=az, obstime=curr_time_atptg.tai, location=location)\n",
    "cmd_radec = cmd_elaz.transform_to(ICRS) # This is the RA/Dec of the target\n",
    "\n",
    "# Calculating the other parameters     \n",
    "rot_pa = rot_tel\n",
    "print(rot_pa)\n",
    "\n",
    "await rot.cmd_trackStart.start(timeout=30.)\n",
    "\n",
    "ack = await mtptg.cmd_raDecTarget.set_start(\n",
    "    targetName=target_name,\n",
    "    #targetInstance=ATPtg.TargetInstances.CURRENT,\n",
    "    frame=MTPtg.CoordFrame.ICRS,\n",
    "    epoch=2000,  # should be ignored: no parallax or proper motion\n",
    "    equinox=2000,  # should be ignored for ICRS\n",
    "    ra=cmd_radec.ra.hour,\n",
    "    declination=cmd_radec.dec.deg,\n",
    "    parallax=0,\n",
    "    pmRA=0,\n",
    "    pmDec=0,\n",
    "    rv=0,\n",
    "    dRA=0,\n",
    "    dDec=0,\n",
    "    trackId=9999,\n",
    "    rotAngle=15.0,\n",
    "    #rotPA=rot_pa.deg,\n",
    "    #rotFrame=ATPtg.RotFrame.TARGET,\n",
    "    rotStartFrame=MTPtg.RotFrame.FIXED,\n",
    "    rotTrackFrame=MTPtg.RotFrame.FIXED,\n",
    "    rotMode=MTPtg.RotMode.FIELD,\n",
    "    azWrapStrategy=2,\n",
    "    timeOnTarget=30,\n",
    "    timeout=10\n",
    ")\n",
    "\n",
    "print(\"Waiting 30s to move to 0 deg\")\n",
    "await asyncio.sleep(30.)"
   ]
  },
  {
   "cell_type": "code",
   "execution_count": null,
   "metadata": {},
   "outputs": [],
   "source": [
    "await mtptg.cmd_stopTracking.start(timeout=10.)\n",
    "await mtm.cmd_stop.start(timeout=10.)"
   ]
  },
  {
   "cell_type": "code",
   "execution_count": null,
   "metadata": {},
   "outputs": [],
   "source": [
    "await rot.cmd_stop.start(timeout=10.)"
   ]
  },
  {
   "cell_type": "code",
   "execution_count": null,
   "metadata": {},
   "outputs": [],
   "source": [
    "print(\"Rotator in position and waiting 90s\")\n",
    "await asyncio.sleep(90.)"
   ]
  },
  {
   "cell_type": "markdown",
   "metadata": {},
   "source": [
    "# Perform Second Track"
   ]
  },
  {
   "cell_type": "code",
   "execution_count": 22,
   "metadata": {},
   "outputs": [
    {
     "name": "stdout",
     "output_type": "stream",
     "text": [
      "Perform Second Track 2021-06-18 21:52:50.789953\n"
     ]
    },
    {
     "ename": "NameError",
     "evalue": "name 'df' is not defined",
     "output_type": "error",
     "traceback": [
      "\u001b[0;31m---------------------------------------------------------------------------\u001b[0m",
      "\u001b[0;31mNameError\u001b[0m                                 Traceback (most recent call last)",
      "\u001b[0;32m<ipython-input-22-cfea8c1e2434>\u001b[0m in \u001b[0;36m<module>\u001b[0;34m\u001b[0m\n\u001b[1;32m      4\u001b[0m                               message=f\"START - {test_message} - Perform Second Track- {now} UTC\")\n\u001b[1;32m      5\u001b[0m \u001b[0;34m\u001b[0m\u001b[0m\n\u001b[0;32m----> 6\u001b[0;31m \u001b[0mtarget_name\u001b[0m \u001b[0;34m=\u001b[0m \u001b[0mdf\u001b[0m\u001b[0;34m[\u001b[0m\u001b[0;34m\"note\"\u001b[0m\u001b[0;34m]\u001b[0m\u001b[0;34m[\u001b[0m\u001b[0mfield\u001b[0m\u001b[0;34m]\u001b[0m\u001b[0;34m\u001b[0m\u001b[0;34m\u001b[0m\u001b[0m\n\u001b[0m\u001b[1;32m      7\u001b[0m \u001b[0;31m#alt = df['altitude'][field] * u.deg\u001b[0m\u001b[0;34m\u001b[0m\u001b[0;34m\u001b[0m\u001b[0;34m\u001b[0m\u001b[0m\n\u001b[1;32m      8\u001b[0m \u001b[0;31m#az = df['azimuth'][field] * u.deg\u001b[0m\u001b[0;34m\u001b[0m\u001b[0;34m\u001b[0m\u001b[0;34m\u001b[0m\u001b[0m\n",
      "\u001b[0;31mNameError\u001b[0m: name 'df' is not defined"
     ]
    }
   ],
   "source": [
    "now = datetime.now()\n",
    "print(\"Perform Second Track\", now)\n",
    "script.evt_logMessage.set_put(level=logging.INFO+1,\n",
    "                              message=f\"START - {test_message} - Perform Second Track- {now} UTC\")\n",
    "\n",
    "target_name = df[\"note\"][field]\n",
    "#alt = df['altitude'][field] * u.deg\n",
    "#az = df['azimuth'][field] * u.deg\n",
    "rot_tel = Angle(df[\"rotTelPos\"][field]*u.deg)\n",
    "para_ang = Angle(df[\"paraAngle\"][field]*u.deg)\n",
    "rot_pa = para_ang-180*u.deg+rot_tel.wrap_at('180d')\n",
    "visit_time = df['visitTime'][field]  # how long the visit lasted. Usefull so you can wait between visits\n",
    "print(f\"Alt: {alt}\\nAz: {az}\\nRotTel: {rot_tel}\")\n",
    "\n",
    "await rot.cmd_trackStart.start(timeout=30.)\n",
    "\n",
    "ack = await mtptg.cmd_raDecTarget.set_start(\n",
    "    targetName=target_name,\n",
    "    #targetInstance=ATPtg.TargetInstances.CURRENT,\n",
    "    frame=MTPtg.CoordFrame.ICRS,\n",
    "    epoch=2000,  # should be ignored: no parallax or proper motion\n",
    "    equinox=2000,  # should be ignored for ICRS\n",
    "    ra=cmd_radec.ra.hour,\n",
    "    declination=cmd_radec.dec.deg,\n",
    "    parallax=0,\n",
    "    pmRA=0,\n",
    "    pmDec=0,\n",
    "    rv=0,\n",
    "    dRA=0,\n",
    "    dDec=0,\n",
    "    trackId=9999,\n",
    "    rotAngle=15.0,\n",
    "    #rotPA=rot_pa.deg,\n",
    "    #rotFrame=ATPtg.RotFrame.TARGET,\n",
    "    rotStartFrame=MTPtg.RotFrame.FIXED,\n",
    "    rotTrackFrame=MTPtg.RotFrame.FIXED,\n",
    "    rotMode=MTPtg.RotMode.FIELD,\n",
    "    azWrapStrategy=2,\n",
    "    timeOnTarget=30,\n",
    "    timeout=10\n",
    ")\n",
    "\n",
    "print(\"Waiting\", visit_time, \"s\")\n",
    "await asyncio.sleep(visit_time)"
   ]
  },
  {
   "cell_type": "code",
   "execution_count": null,
   "metadata": {},
   "outputs": [],
   "source": [
    "await mtptg.cmd_stopTracking.start(timeout=10.)\n",
    "await mtm.cmd_stop.start(timeout=10.)\n",
    "await rot.cmd_stop.start(timeout=10.)"
   ]
  },
  {
   "cell_type": "markdown",
   "metadata": {},
   "source": [
    "# Move to Zero - Move Command"
   ]
  },
  {
   "cell_type": "raw",
   "metadata": {},
   "source": [
    "await asyncio.sleep(0.1)\n",
    "\n",
    "print(\"Move to 0.0 deg\")\n",
    "\n",
    "await rot.cmd_positionSet.set_start(angle=0.0)\n",
    "\n",
    "await rot.cmd_move.start(timeout=30.)\n",
    "\n",
    "tel = rot.tel_Application.get()\n",
    "cpos = tel.Position\n",
    "print(cpos)\n",
    "\n",
    "nLoop = \n",
    "\n",
    "print(\"Test complete\")\n",
    "\n",
    "script.evt_logMessage.set_put(level=logging.INFO+1,\n",
    "                              message=f\"END - {test_message}\")"
   ]
  },
  {
   "cell_type": "markdown",
   "metadata": {},
   "source": [
    "# Move to Park Position - Track Command"
   ]
  },
  {
   "cell_type": "code",
   "execution_count": 24,
   "metadata": {},
   "outputs": [
    {
     "name": "stdout",
     "output_type": "stream",
     "text": [
      "Move to 0.0 deg starting position 2021-06-18 21:54:46.398335\n",
      "Time error=-0.00 sec\n",
      "0d00m00s\n"
     ]
    },
    {
     "ename": "AckError",
     "evalue": "msg='Command failed', ackcmd=(ackcmd private_seqNum=2030597046, ack=<SalRetCode.CMD_FAILED: -302>, error=1, result='Failed: Low-level controller in substate 2.0 instead of <EnabledSubstate.STATIONARY: 0>')",
     "output_type": "error",
     "traceback": [
      "\u001b[0;31m---------------------------------------------------------------------------\u001b[0m",
      "\u001b[0;31mAckError\u001b[0m                                  Traceback (most recent call last)",
      "\u001b[0;32m<ipython-input-24-9dffff2fb034>\u001b[0m in \u001b[0;36m<module>\u001b[0;34m\u001b[0m\n\u001b[1;32m     24\u001b[0m \u001b[0mprint\u001b[0m\u001b[0;34m(\u001b[0m\u001b[0mrot_pa\u001b[0m\u001b[0;34m)\u001b[0m\u001b[0;34m\u001b[0m\u001b[0;34m\u001b[0m\u001b[0m\n\u001b[1;32m     25\u001b[0m \u001b[0;34m\u001b[0m\u001b[0m\n\u001b[0;32m---> 26\u001b[0;31m \u001b[0;32mawait\u001b[0m \u001b[0mrot\u001b[0m\u001b[0;34m.\u001b[0m\u001b[0mcmd_trackStart\u001b[0m\u001b[0;34m.\u001b[0m\u001b[0mstart\u001b[0m\u001b[0;34m(\u001b[0m\u001b[0mtimeout\u001b[0m\u001b[0;34m=\u001b[0m\u001b[0;36m30.\u001b[0m\u001b[0;34m)\u001b[0m\u001b[0;34m\u001b[0m\u001b[0;34m\u001b[0m\u001b[0m\n\u001b[0m\u001b[1;32m     27\u001b[0m \u001b[0;34m\u001b[0m\u001b[0m\n\u001b[1;32m     28\u001b[0m ack = await mtptg.cmd_raDecTarget.set_start(\n",
      "\u001b[0;32m/opt/lsst/src/ts_salobj/python/lsst/ts/salobj/topics/remote_command.py\u001b[0m in \u001b[0;36mstart\u001b[0;34m(self, data, timeout, wait_done)\u001b[0m\n\u001b[1;32m    447\u001b[0m         )\n\u001b[1;32m    448\u001b[0m         \u001b[0mself\u001b[0m\u001b[0;34m.\u001b[0m\u001b[0msalinfo\u001b[0m\u001b[0;34m.\u001b[0m\u001b[0m_running_cmds\u001b[0m\u001b[0;34m[\u001b[0m\u001b[0mseq_num\u001b[0m\u001b[0;34m]\u001b[0m \u001b[0;34m=\u001b[0m \u001b[0mcmd_info\u001b[0m\u001b[0;34m\u001b[0m\u001b[0;34m\u001b[0m\u001b[0m\n\u001b[0;32m--> 449\u001b[0;31m         \u001b[0;32mreturn\u001b[0m \u001b[0;32mawait\u001b[0m \u001b[0mcmd_info\u001b[0m\u001b[0;34m.\u001b[0m\u001b[0mnext_ackcmd\u001b[0m\u001b[0;34m(\u001b[0m\u001b[0mtimeout\u001b[0m\u001b[0;34m=\u001b[0m\u001b[0mtimeout\u001b[0m\u001b[0;34m)\u001b[0m\u001b[0;34m\u001b[0m\u001b[0;34m\u001b[0m\u001b[0m\n\u001b[0m",
      "\u001b[0;32m/opt/lsst/src/ts_salobj/python/lsst/ts/salobj/topics/remote_command.py\u001b[0m in \u001b[0;36mnext_ackcmd\u001b[0;34m(self, timeout)\u001b[0m\n\u001b[1;32m    180\u001b[0m             \u001b[0mackcmd\u001b[0m \u001b[0;34m=\u001b[0m \u001b[0;32mawait\u001b[0m \u001b[0mself\u001b[0m\u001b[0;34m.\u001b[0m\u001b[0m_wait_task\u001b[0m\u001b[0;34m\u001b[0m\u001b[0;34m\u001b[0m\u001b[0m\n\u001b[1;32m    181\u001b[0m             \u001b[0;32mif\u001b[0m \u001b[0mackcmd\u001b[0m\u001b[0;34m.\u001b[0m\u001b[0mack\u001b[0m \u001b[0;32min\u001b[0m \u001b[0mself\u001b[0m\u001b[0;34m.\u001b[0m\u001b[0mfailed_ack_codes\u001b[0m\u001b[0;34m:\u001b[0m\u001b[0;34m\u001b[0m\u001b[0;34m\u001b[0m\u001b[0m\n\u001b[0;32m--> 182\u001b[0;31m                 \u001b[0;32mraise\u001b[0m \u001b[0mbase\u001b[0m\u001b[0;34m.\u001b[0m\u001b[0mAckError\u001b[0m\u001b[0;34m(\u001b[0m\u001b[0mmsg\u001b[0m\u001b[0;34m=\u001b[0m\u001b[0;34m\"Command failed\"\u001b[0m\u001b[0;34m,\u001b[0m \u001b[0mackcmd\u001b[0m\u001b[0;34m=\u001b[0m\u001b[0mackcmd\u001b[0m\u001b[0;34m)\u001b[0m\u001b[0;34m\u001b[0m\u001b[0;34m\u001b[0m\u001b[0m\n\u001b[0m\u001b[1;32m    183\u001b[0m             \u001b[0;32mreturn\u001b[0m \u001b[0mackcmd\u001b[0m\u001b[0;34m\u001b[0m\u001b[0;34m\u001b[0m\u001b[0m\n\u001b[1;32m    184\u001b[0m         \u001b[0;32mexcept\u001b[0m \u001b[0masyncio\u001b[0m\u001b[0;34m.\u001b[0m\u001b[0mTimeoutError\u001b[0m\u001b[0;34m:\u001b[0m\u001b[0;34m\u001b[0m\u001b[0;34m\u001b[0m\u001b[0m\n",
      "\u001b[0;31mAckError\u001b[0m: msg='Command failed', ackcmd=(ackcmd private_seqNum=2030597046, ack=<SalRetCode.CMD_FAILED: -302>, error=1, result='Failed: Low-level controller in substate 2.0 instead of <EnabledSubstate.STATIONARY: 0>')"
     ]
    }
   ],
   "source": [
    "now = datetime.now()\n",
    "print(\"Move to 0.0 deg starting position\", now)\n",
    "script.evt_logMessage.set_put(level=logging.INFO+1,\n",
    "                              message=f\"START - {test_message} - Move to Park Position incl. Track Command - {now} UTC\")\n",
    "\n",
    "alt = 60. * u.deg\n",
    "az = 0. * u.deg\n",
    "rot_tel = Angle(0, unit= u.deg) \n",
    "\n",
    "target_name=\"Rotator test\"\n",
    "time_data = await mtptg.tel_timeAndDate.next(flush=True, timeout=2)\n",
    "curr_time_mtptg = Time(time_data.mjd, format=\"mjd\", scale=\"tai\")\n",
    "time_err = curr_time_mtptg - Time.now()\n",
    "print(f\"Time error={time_err.sec:0.2f} sec\")\n",
    "\n",
    "# Compute RA/Dec for commanded az/el\n",
    "cmd_elaz = AltAz(alt=alt, az=az, \n",
    "                 obstime=curr_time_mtptg.tai, \n",
    "                 location=location)\n",
    "cmd_radec = cmd_elaz.transform_to(ICRS)\n",
    "\n",
    "# Calculating the other parameters     \n",
    "rot_pa = rot_tel\n",
    "print(rot_pa)\n",
    "\n",
    "await rot.cmd_trackStart.start(timeout=30.)\n",
    "\n",
    "ack = await mtptg.cmd_raDecTarget.set_start(\n",
    "    targetName=target_name,\n",
    "    #targetInstance=ATPtg.TargetInstances.CURRENT,\n",
    "    frame=MTPtg.CoordFrame.ICRS,\n",
    "    epoch=2000,  # should be ignored: no parallax or proper motion\n",
    "    equinox=2000,  # should be ignored for ICRS\n",
    "    ra=cmd_radec.ra.hour,\n",
    "    declination=cmd_radec.dec.deg,\n",
    "    parallax=0,\n",
    "    pmRA=0,\n",
    "    pmDec=0,\n",
    "    rv=0,\n",
    "    dRA=0,\n",
    "    dDec=0,\n",
    "    trackId=9999,\n",
    "    rotAngle=15.0,\n",
    "    #rotPA=rot_pa.deg,\n",
    "    #rotFrame=ATPtg.RotFrame.TARGET,\n",
    "    rotStartFrame=MTPtg.RotFrame.FIXED,\n",
    "    rotTrackFrame=MTPtg.RotFrame.FIXED,\n",
    "    rotMode=MTPtg.RotMode.FIELD,\n",
    "    azWrapStrategy=2,\n",
    "    timeOnTarget=30,\n",
    "    timeout=10\n",
    ")\n",
    "\n",
    "print(\"Waiting 30s\")\n",
    "await asyncio.sleep(30.)"
   ]
  },
  {
   "cell_type": "code",
   "execution_count": null,
   "metadata": {},
   "outputs": [],
   "source": [
    "await mtptg.cmd_stopTracking.start(timeout=10.)\n",
    "await mtm.cmd_stop.start(timeout=10.)\n",
    "await rot.cmd_stop.start(timeout=10.)"
   ]
  },
  {
   "cell_type": "markdown",
   "metadata": {},
   "source": [
    "# Test Complete"
   ]
  },
  {
   "cell_type": "code",
   "execution_count": 25,
   "metadata": {},
   "outputs": [
    {
     "name": "stdout",
     "output_type": "stream",
     "text": [
      "Test Complete 2021-06-18 22:18:39.211177\n"
     ]
    },
    {
     "data": {
      "text/plain": [
       "True"
      ]
     },
     "execution_count": 25,
     "metadata": {},
     "output_type": "execute_result"
    }
   ],
   "source": [
    "now = datetime.now()\n",
    "print(\"Test Complete\",now)\n",
    "\n",
    "script.evt_logMessage.set_put(level=logging.INFO+1,\n",
    "                              message=f\"END - {test_message} - {now} UTC\")\n",
    "\n"
   ]
  },
  {
   "cell_type": "markdown",
   "metadata": {},
   "source": [
    "# Additional Error Handling Commands"
   ]
  },
  {
   "cell_type": "markdown",
   "metadata": {},
   "source": [
    "# Bring the Rotator and CCW back to enabled state"
   ]
  },
  {
   "cell_type": "code",
   "execution_count": null,
   "metadata": {},
   "outputs": [],
   "source": [
    "await mtm.cmd_clearerror.start(timeout=30)"
   ]
  },
  {
   "cell_type": "markdown",
   "metadata": {},
   "source": [
    "Wait for override off"
   ]
  },
  {
   "cell_type": "code",
   "execution_count": null,
   "metadata": {},
   "outputs": [],
   "source": [
    "await rot.cmd_clearError.start(timeout=30)"
   ]
  },
  {
   "cell_type": "code",
   "execution_count": null,
   "metadata": {},
   "outputs": [],
   "source": [
    "await salobj.set_summary_state(rot, salobj.State.ENABLED)"
   ]
  },
  {
   "cell_type": "code",
   "execution_count": null,
   "metadata": {},
   "outputs": [],
   "source": [
    "await mtm.cmd_enterControl.start(timeout=30.)\n",
    "await mtm.cmd_start.start(timeout=30.)\n",
    "await mtm.cmd_enable.start(timeout=30.)"
   ]
  },
  {
   "cell_type": "markdown",
   "metadata": {},
   "source": [
    "# Move to sync position with CCW"
   ]
  },
  {
   "cell_type": "code",
   "execution_count": null,
   "metadata": {},
   "outputs": [],
   "source": [
    "print(\"Move to X.X deg starting position\")\n",
    "\n",
    "await rot.cmd_positionSet.set_start(angle=19.04,timeout=30.)\n",
    "\n",
    "await rot.cmd_move.start(timeout=30.)"
   ]
  },
  {
   "cell_type": "code",
   "execution_count": null,
   "metadata": {},
   "outputs": [],
   "source": [
    "await rot.cmd_clearError.start(timeout=10)"
   ]
  },
  {
   "cell_type": "code",
   "execution_count": null,
   "metadata": {},
   "outputs": [],
   "source": [
    "await rot.cmd_exitControl.start(timeout=10.)"
   ]
  },
  {
   "cell_type": "code",
   "execution_count": null,
   "metadata": {},
   "outputs": [],
   "source": [
    "await rot.cmd_enterControl.start(timeout=10.)"
   ]
  },
  {
   "cell_type": "code",
   "execution_count": null,
   "metadata": {},
   "outputs": [],
   "source": [
    "await salobj.set_summary_state(rot, salobj.State.ENABLED)"
   ]
  },
  {
   "cell_type": "code",
   "execution_count": null,
   "metadata": {},
   "outputs": [],
   "source": [
    "await rot.cmd_stop.start(timeout=10.)"
   ]
  },
  {
   "cell_type": "code",
   "execution_count": null,
   "metadata": {},
   "outputs": [],
   "source": [
    "await mtm.cmd_clearerror.start(timeout=10)"
   ]
  },
  {
   "cell_type": "code",
   "execution_count": null,
   "metadata": {},
   "outputs": [],
   "source": [
    "await mtptg.cmd_stopTracking.start(timeout=10)\n",
    "await mtm.cmd_stop.start(timeout=10)"
   ]
  },
  {
   "cell_type": "code",
   "execution_count": null,
   "metadata": {},
   "outputs": [],
   "source": [
    "await mtm.cmd_stop.start(timeout=10)"
   ]
  },
  {
   "cell_type": "markdown",
   "metadata": {},
   "source": [
    "Bring CCW Down"
   ]
  },
  {
   "cell_type": "code",
   "execution_count": null,
   "metadata": {},
   "outputs": [],
   "source": [
    "await mtm.cmd_disable.start(timeout=30.)\n",
    "await mtm.cmd_standby.start(timeout=30.)\n",
    "await mtm.cmd_exitControl.start(timeout=30.)"
   ]
  },
  {
   "cell_type": "markdown",
   "metadata": {},
   "source": [
    "Wait for override off"
   ]
  },
  {
   "cell_type": "code",
   "execution_count": null,
   "metadata": {},
   "outputs": [],
   "source": [
    "await mtm.cmd_enterControl.start(timeout=30.)\n",
    "await mtm.cmd_start.start(timeout=30.)\n",
    "await mtm.cmd_enable.start(timeout=30.)"
   ]
  },
  {
   "cell_type": "code",
   "execution_count": null,
   "metadata": {},
   "outputs": [],
   "source": [
    "await mtptg.cmd_stopTracking.start(timeout=30)"
   ]
  },
  {
   "cell_type": "code",
   "execution_count": null,
   "metadata": {},
   "outputs": [],
   "source": [
    "await salobj.set_summary_state(mtptg, salobj.State.ENABLED)"
   ]
  },
  {
   "cell_type": "code",
   "execution_count": null,
   "metadata": {},
   "outputs": [],
   "source": []
  }
 ],
 "metadata": {
  "kernelspec": {
   "display_name": "LSST",
   "language": "python",
   "name": "lsst"
  },
  "language_info": {
   "codemirror_mode": {
    "name": "ipython",
    "version": 3
   },
   "file_extension": ".py",
   "mimetype": "text/x-python",
   "name": "python",
   "nbconvert_exporter": "python",
   "pygments_lexer": "ipython3",
   "version": "3.8.8"
  }
 },
 "nbformat": 4,
 "nbformat_minor": 4
}
