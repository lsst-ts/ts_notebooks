{
 "cells": [
  {
   "cell_type": "markdown",
   "metadata": {},
   "source": [
    "# High Speed E-Stop CCW/Rotator Integration Test"
   ]
  },
  {
   "cell_type": "markdown",
   "metadata": {},
   "source": [
    "This notebook performs a high speed E-Stop interlock scenario integration test between the Camera Cable Wrap (CCW) and the Rotator with the Camera Cable Wrap tracking the Rotator. It includes enough boilerplate to allow the test to run at any time by getting current time information from the pointing and computing appropriate coordinates to slew."
   ]
  },
  {
   "cell_type": "code",
   "execution_count": 92,
   "metadata": {},
   "outputs": [],
   "source": [
    "import logging\n",
    "import yaml\n",
    "\n",
    "import os\n",
    "import sqlite3\n",
    "import pandas as pd\n",
    "\n",
    "import numpy as np\n",
    "from matplotlib import pyplot as plt\n",
    "import astropy.units as u\n",
    "from astropy.time import Time\n",
    "from astropy.coordinates import AltAz, ICRS, EarthLocation, Angle, FK5\n",
    "import asyncio\n",
    "from lsst.ts import salobj\n",
    "from lsst.ts.idl.enums import ATPtg\n",
    "\n",
    "from astropy.utils import iers\n",
    "iers.conf.auto_download = False\n",
    "\n",
    "from datetime import datetime"
   ]
  },
  {
   "cell_type": "code",
   "execution_count": 80,
   "metadata": {},
   "outputs": [],
   "source": [
    "def parallactic_angle(location, lst, target):\n",
    "    \"\"\"\n",
    "    Calculate the parallactic angle.\n",
    "    Parameters\n",
    "    ----------\n",
    "    time : `~astropy.time.Time`\n",
    "        Observation time.\n",
    "    target : `~astroplan.FixedTarget` or `~astropy.coordinates.SkyCoord` or list\n",
    "        Target celestial object(s).\n",
    "    grid_times_targets: bool\n",
    "        If True, the target object will have extra dimensions packed onto the end,\n",
    "        so that calculations with M targets and N times will return an (M, N)\n",
    "        shaped result. Otherwise, we rely on broadcasting the shapes together\n",
    "        using standard numpy rules.\n",
    "    Returns\n",
    "    -------\n",
    "    `~astropy.coordinates.Angle`\n",
    "        Parallactic angle.\n",
    "    Notes\n",
    "    -----\n",
    "    The parallactic angle is the angle between the great circle that\n",
    "    intersects a celestial object and the zenith, and the object's hour\n",
    "    circle [1]_.\n",
    "    .. [1] https://en.wikipedia.org/wiki/Parallactic_angle\n",
    "    \"\"\"\n",
    "    # Eqn (14.1) of Meeus' Astronomical Algorithms\n",
    "    H = (lst - target.ra).radian\n",
    "    q = np.arctan2(np.sin(H),\n",
    "                   (np.tan(location.lat.radian) *\n",
    "                    np.cos(target.dec.radian) -\n",
    "                    np.sin(target.dec.radian)*np.cos(H)))*u.rad\n",
    "    return Angle(q)"
   ]
  },
  {
   "cell_type": "code",
   "execution_count": 81,
   "metadata": {},
   "outputs": [],
   "source": [
    "location = EarthLocation.from_geodetic(lon=-70.747698*u.deg,\n",
    "                                       lat=-30.244728*u.deg,\n",
    "                                       height=2663.0*u.m)"
   ]
  },
  {
   "cell_type": "code",
   "execution_count": 82,
   "metadata": {},
   "outputs": [],
   "source": [
    "test_message = \"E-Stop MTPtg_Rotator_CCW Integration Test\""
   ]
  },
  {
   "cell_type": "code",
   "execution_count": 83,
   "metadata": {},
   "outputs": [],
   "source": [
    "d = salobj.Domain()"
   ]
  },
  {
   "cell_type": "code",
   "execution_count": 84,
   "metadata": {},
   "outputs": [],
   "source": [
    "script = salobj.Controller(\"Script\", index=1)\n",
    "rot = salobj.Remote(d, \"Rotator\")\n",
    "mtptg = salobj.Remote(d, \"MTPtg\")\n",
    "mtm = salobj.Remote(d, \"MTMount\")"
   ]
  },
  {
   "cell_type": "code",
   "execution_count": 85,
   "metadata": {},
   "outputs": [
    {
     "name": "stderr",
     "output_type": "stream",
     "text": [
      "RemoteEvent(MTMount, 0, mountState) falling behind; read 100 messages\n",
      "RemoteTelemetry(Rotator, 0, Application) falling behind; read 100 messages\n",
      "RemoteTelemetry(MTPtg, 0, currentTargetStatus) falling behind; read 100 messages\n",
      "RemoteTelemetry(MTMount, 0, Camera_Cable_Wrap) falling behind; read 100 messages\n",
      "RemoteTelemetry(Rotator, 0, Motors) falling behind; read 100 messages\n",
      "RemoteTelemetry(Rotator, 0, Motors) falling behind; read 100 messages\n",
      "RemoteTelemetry(Rotator, 0, Electrical) falling behind; read 100 messages\n",
      "RemoteEvent(MTMount, 0, mountError) falling behind; read 40 messages\n",
      "RemoteTelemetry(MTMount, 0, Camera_Cable_Wrap) falling behind; read 23 messages\n",
      "RemoteTelemetry(Rotator, 0, Motors) falling behind; read 31 messages\n"
     ]
    },
    {
     "data": {
      "text/plain": [
       "[None, None, None, None]"
      ]
     },
     "execution_count": 85,
     "metadata": {},
     "output_type": "execute_result"
    },
    {
     "name": "stderr",
     "output_type": "stream",
     "text": [
      "RemoteTelemetry(Rotator, 0, Electrical) falling behind; read 38 messages\n",
      "RemoteTelemetry(Rotator, 0, Application) falling behind; read 45 messages\n",
      "RemoteEvent(Rotator, 0, summaryState) falling behind; read 18 messages\n",
      "RemoteEvent(Rotator, 0, summaryState) falling behind; read 18 messages\n"
     ]
    }
   ],
   "source": [
    "await asyncio.gather(rot.start_task,\n",
    "                     mtptg.start_task,\n",
    "                     script.start_task,\n",
    "                     mtm.start_task)"
   ]
  },
  {
   "cell_type": "code",
   "execution_count": null,
   "metadata": {},
   "outputs": [],
   "source": [
    "await asyncio.sleep(1.)\n",
    "await salobj.set_summary_state(mtptg, salobj.State.ENABLED)\n",
    "await salobj.set_summary_state(rot, salobj.State.ENABLED)"
   ]
  },
  {
   "cell_type": "code",
   "execution_count": null,
   "metadata": {},
   "outputs": [],
   "source": [
    "await mtm.cmd_enterControl.start(timeout=10.)\n",
    "await mtm.cmd_start.start(timeout=10.)\n",
    "await mtm.cmd_enable.start(timeout=10.)"
   ]
  },
  {
   "cell_type": "markdown",
   "metadata": {},
   "source": [
    "# Move to 0 deg Starting Position"
   ]
  },
  {
   "cell_type": "code",
   "execution_count": null,
   "metadata": {},
   "outputs": [],
   "source": [
    "print(\"Move to 0.0 deg starting position\")\n",
    "\n",
    "alt = 45. * u.deg\n",
    "az = 0. * u.deg\n",
    "rot_tel = Angle(0, unit= u.deg) \n",
    "\n",
    "target_name=\"Rotator test\"\n",
    "time_data = await mtptg.tel_timeAndDate.next(flush=True, timeout=2)\n",
    "curr_time_mtptg = Time(time_data.tai, format=\"mjd\", scale=\"tai\")\n",
    "time_err = curr_time_mtptg - Time.now()\n",
    "print(f\"Time error={time_err.sec:0.2f} sec\")\n",
    "\n",
    "# Compute RA/Dec for commanded az/el\n",
    "cmd_elaz = AltAz(alt=alt, az=az, \n",
    "                 obstime=curr_time_mtptg.tai, \n",
    "                 location=location)\n",
    "cmd_radec = cmd_elaz.transform_to(ICRS)\n",
    "lst = Angle(time_data.lst, unit=u.hour)\n",
    "\n",
    "para_ang=parallactic_angle(location, lst, cmd_radec).to(u.deg)\n",
    "print(f\"Alt: {alt}\\nAz: {az}\\nRotTel: {rot_tel}\\nParaAng: {para_ang}\")\n",
    "\n",
    "\n",
    "# Calculating the other parameters     \n",
    "rot_pa = rot_tel\n",
    "print(rot_pa)\n",
    "await rot.cmd_trackStart.start(timeout=30.)\n",
    "    \n",
    "ack = await mtptg.cmd_raDecTarget.set_start(\n",
    "    targetName=target_name,\n",
    "    targetInstance=ATPtg.TargetInstances.CURRENT,\n",
    "    frame=ATPtg.CoordFrame.ICRS,\n",
    "    epoch=2000,  # should be ignored: no parallax or proper motion\n",
    "    equinox=2000,  # should be ignored for ICRS\n",
    "    ra=cmd_radec.ra.hour,\n",
    "    declination=cmd_radec.dec.deg,\n",
    "    parallax=0,\n",
    "    pmRA=0,\n",
    "    pmDec=0,\n",
    "    rv=0,\n",
    "    dRA=0,\n",
    "    dDec=0,\n",
    "    rotPA=180+rot_pa.deg,\n",
    "    rotFrame=ATPtg.RotFrame.FIXED,\n",
    "    rotMode=ATPtg.RotMode.FIELD,\n",
    "    timeout=10\n",
    ")"
   ]
  },
  {
   "cell_type": "code",
   "execution_count": null,
   "metadata": {},
   "outputs": [],
   "source": [
    "await asyncio.sleep(30.)\n",
    "await mtptg.cmd_stopTracking.start(timeout=10)\n",
    "await rot.cmd_stop.start(timeout=10)\n",
    "await mtm.cmd_stop.start(timeout=10)"
   ]
  },
  {
   "cell_type": "markdown",
   "metadata": {},
   "source": [
    "# Start Test"
   ]
  },
  {
   "cell_type": "code",
   "execution_count": 118,
   "metadata": {},
   "outputs": [
    {
     "name": "stdout",
     "output_type": "stream",
     "text": [
      "2019-12-12 13:49:07.297656\n"
     ]
    },
    {
     "data": {
      "text/plain": [
       "False"
      ]
     },
     "execution_count": 118,
     "metadata": {},
     "output_type": "execute_result"
    }
   ],
   "source": [
    "now = datetime.now()\n",
    "print(now)\n",
    "script.evt_logMessage.set_put(level=logging.INFO+1,\n",
    "                              message=f\"START - {test_message}\")"
   ]
  },
  {
   "cell_type": "markdown",
   "metadata": {},
   "source": [
    "# Send Track Command to +60 deg"
   ]
  },
  {
   "cell_type": "code",
   "execution_count": 119,
   "metadata": {},
   "outputs": [
    {
     "name": "stderr",
     "output_type": "stream",
     "text": [
      "RemoteTelemetry(Rotator, 0, Motors) falling behind; read 100 messages\n",
      "RemoteEvent(Rotator, 0, heartbeat) falling behind; read 100 messages\n",
      "RemoteTelemetry(Rotator, 0, Electrical) falling behind; read 100 messages\n",
      "RemoteTelemetry(Rotator, 0, Electrical) falling behind; read 100 messages\n",
      "RemoteEvent(Rotator, 0, heartbeat) falling behind; read 100 messages\n",
      "RemoteTelemetry(MTMount, 0, Camera_Cable_Wrap) falling behind; read 100 messages\n"
     ]
    },
    {
     "name": "stdout",
     "output_type": "stream",
     "text": [
      "Azimuth = 0 and rot_tel= 60 deg\n"
     ]
    },
    {
     "name": "stderr",
     "output_type": "stream",
     "text": [
      "RemoteTelemetry(MTMount, 0, Camera_Cable_Wrap) falling behind; read 100 messages\n",
      "RemoteTelemetry(MTPtg, 0, currentTargetStatus) falling behind; read 100 messages\n",
      "RemoteTelemetry(MTPtg, 0, currentTargetStatus) falling behind; read 100 messages\n",
      "RemoteTelemetry(MTPtg, 0, currentTargetStatus) falling behind; read 100 messages\n",
      "RemoteEvent(Rotator, 0, heartbeat) falling behind; read 100 messages\n",
      "RemoteTelemetry(Rotator, 0, Motors) falling behind; read 100 messages\n",
      "RemoteTelemetry(Rotator, 0, Electrical) falling behind; read 100 messages\n",
      "RemoteTelemetry(Rotator, 0, Motors) falling behind; read 100 messages\n",
      "RemoteTelemetry(MTPtg, 0, timeAndDate) falling behind; read 100 messages\n",
      "RemoteTelemetry(MTPtg, 0, timeAndDate) falling behind; read 100 messages\n",
      "RemoteTelemetry(MTPtg, 0, timeAndDate) falling behind; read 100 messages\n",
      "RemoteTelemetry(Rotator, 0, Application) falling behind; read 100 messages\n",
      "RemoteTelemetry(MTPtg, 0, skyEnvironment) falling behind; read 30 messages\n",
      "RemoteTelemetry(Rotator, 0, Application) falling behind; read 100 messages\n",
      "RemoteTelemetry(MTPtg, 0, mountStatus) falling behind; read 100 messages\n",
      "RemoteTelemetry(MTPtg, 0, mountStatus) falling behind; read 100 messages\n",
      "RemoteTelemetry(MTPtg, 0, mountStatus) falling behind; read 100 messages\n",
      "RemoteTelemetry(Rotator, 0, Application) falling behind; read 100 messages\n"
     ]
    },
    {
     "name": "stdout",
     "output_type": "stream",
     "text": [
      "Time error=-57.59 sec\n",
      "Alt: 45.0 deg\n",
      "Az: 0.0 deg\n",
      "RotTel: 60.0 deg\n",
      "ParaAng: 179.72233968656045 deg\n",
      "60d00m00s\n"
     ]
    },
    {
     "name": "stderr",
     "output_type": "stream",
     "text": [
      "RemoteTelemetry(MTPtg, 0, guidingAndOffsets) falling behind; read 100 messages\n",
      "RemoteTelemetry(MTPtg, 0, guidingAndOffsets) falling behind; read 100 messages\n",
      "RemoteTelemetry(MTPtg, 0, guidingAndOffsets) falling behind; read 100 messages\n",
      "RemoteEvent(MTPtg, 0, weatherDataApplied) falling behind; read 15 messages\n",
      "RemoteEvent(MTPtg, 0, weatherDataApplied) falling behind; read 15 messages\n",
      "RemoteEvent(MTPtg, 0, weatherDataApplied) falling behind; read 15 messages\n"
     ]
    }
   ],
   "source": [
    "print(\"Azimuth = 0 and rot_tel= 60 deg\")\n",
    "\n",
    "alt = 45. * u.deg\n",
    "az = 0. * u.deg\n",
    "rot_tel = Angle(60, unit= u.deg) \n",
    "\n",
    "target_name=\"Rotator test\"\n",
    "time_data = await mtptg.tel_timeAndDate.next(flush=True, timeout=2)\n",
    "curr_time_mtptg = Time(time_data.tai, format=\"mjd\", scale=\"tai\")\n",
    "time_err = curr_time_mtptg - Time.now()\n",
    "print(f\"Time error={time_err.sec:0.2f} sec\")\n",
    "\n",
    "# Compute RA/Dec for commanded az/el\n",
    "cmd_elaz = AltAz(alt=alt, az=az, \n",
    "                 obstime=curr_time_mtptg.tai, \n",
    "                 location=location)\n",
    "cmd_radec = cmd_elaz.transform_to(ICRS)\n",
    "lst = Angle(time_data.lst, unit=u.hour)\n",
    "\n",
    "para_ang=parallactic_angle(location, lst, cmd_radec).to(u.deg)\n",
    "print(f\"Alt: {alt}\\nAz: {az}\\nRotTel: {rot_tel}\\nParaAng: {para_ang}\")\n",
    "\n",
    "# Calculating the other parameters     \n",
    "#rot_pa = para_ang-180*u.deg+rot_tel\n",
    "rot_pa = rot_tel\n",
    "print(rot_pa)\n",
    "\n",
    "await rot.cmd_trackStart.start(timeout=30.)\n",
    "    \n",
    "ack = await mtptg.cmd_raDecTarget.set_start(\n",
    "    targetName=target_name,\n",
    "    targetInstance=ATPtg.TargetInstances.CURRENT,\n",
    "    frame=ATPtg.CoordFrame.ICRS,\n",
    "    epoch=2000,  # should be ignored: no parallax or proper motion\n",
    "    equinox=2000,  # should be ignored for ICRS\n",
    "    ra=cmd_radec.ra.hour,\n",
    "    declination=cmd_radec.dec.deg,\n",
    "    parallax=0,\n",
    "    pmRA=0,\n",
    "    pmDec=0,\n",
    "    rv=0,\n",
    "    dRA=0,\n",
    "    dDec=0,\n",
    "    rotPA=rot_pa.deg-180,\n",
    "    rotFrame=ATPtg.RotFrame.FIXED,\n",
    "    rotMode=ATPtg.RotMode.FIELD,\n",
    "    timeout=10\n",
    ")"
   ]
  },
  {
   "cell_type": "markdown",
   "metadata": {},
   "source": [
    "# For Testing - This is pushing E-Stop"
   ]
  },
  {
   "cell_type": "code",
   "execution_count": null,
   "metadata": {},
   "outputs": [],
   "source": [
    "await asyncio.sleep(10.)\n",
    "await mtptg.cmd_stopTracking.start(timeout=30)\n",
    "await rot.cmd_stop.start(timeout=30)\n",
    "await mtm.cmd_stop.start(timeout=30)"
   ]
  },
  {
   "cell_type": "markdown",
   "metadata": {},
   "source": [
    "# Test Complete"
   ]
  },
  {
   "cell_type": "code",
   "execution_count": 120,
   "metadata": {},
   "outputs": [
    {
     "name": "stdout",
     "output_type": "stream",
     "text": [
      "Test Complete\n",
      "2019-12-12 13:52:09.382023\n"
     ]
    },
    {
     "data": {
      "text/plain": [
       "True"
      ]
     },
     "execution_count": 120,
     "metadata": {},
     "output_type": "execute_result"
    }
   ],
   "source": [
    "print(\"Test Complete\")\n",
    "now = datetime.now()\n",
    "print(now)\n",
    "script.evt_logMessage.set_put(level=logging.INFO+1,\n",
    "                          message=f\"END - {test_message}\")"
   ]
  },
  {
   "cell_type": "markdown",
   "metadata": {},
   "source": [
    "# Bring the Rotator and CCW back to enabled state"
   ]
  },
  {
   "cell_type": "code",
   "execution_count": 113,
   "metadata": {},
   "outputs": [
    {
     "name": "stderr",
     "output_type": "stream",
     "text": [
      "RemoteTelemetry(MTMount, 0, Camera_Cable_Wrap) falling behind; read 100 messages\n"
     ]
    },
    {
     "data": {
      "text/plain": [
       "<lsst.ts.salobj.ddsutil.MTMount_ackcmd_f692f41c at 0x7f6cb8227d68>"
      ]
     },
     "execution_count": 113,
     "metadata": {},
     "output_type": "execute_result"
    }
   ],
   "source": [
    "await mtm.cmd_clearerror.start(timeout=10)"
   ]
  },
  {
   "cell_type": "markdown",
   "metadata": {},
   "source": [
    "Wait for override off"
   ]
  },
  {
   "cell_type": "code",
   "execution_count": 114,
   "metadata": {},
   "outputs": [
    {
     "name": "stderr",
     "output_type": "stream",
     "text": [
      "RemoteEvent(MTMount, 0, mountState) falling behind; read 28 messages\n",
      "RemoteEvent(MTMount, 0, mountState) falling behind; read 28 messages\n",
      "RemoteTelemetry(MTPtg, 0, skyEnvironment) falling behind; read 11 messages\n",
      "RemoteTelemetry(MTPtg, 0, skyEnvironment) falling behind; read 11 messages\n",
      "RemoteTelemetry(MTPtg, 0, skyEnvironment) falling behind; read 11 messages\n",
      "RemoteTelemetry(MTPtg, 0, currentTimesToLimits) falling behind; read 11 messages\n",
      "RemoteTelemetry(MTPtg, 0, currentTimesToLimits) falling behind; read 11 messages\n",
      "RemoteTelemetry(MTPtg, 0, currentTimesToLimits) falling behind; read 11 messages\n"
     ]
    },
    {
     "data": {
      "text/plain": [
       "<lsst.ts.salobj.ddsutil.Rotator_ackcmd_ab645545 at 0x7f6cb95de630>"
      ]
     },
     "execution_count": 114,
     "metadata": {},
     "output_type": "execute_result"
    }
   ],
   "source": [
    "await rot.cmd_clearError.start(timeout=10)"
   ]
  },
  {
   "cell_type": "code",
   "execution_count": 116,
   "metadata": {},
   "outputs": [
    {
     "name": "stderr",
     "output_type": "stream",
     "text": [
      "RemoteTelemetry(MTPtg, 0, timeAndDate) falling behind; read 92 messages\n",
      "RemoteTelemetry(MTPtg, 0, mountStatus) falling behind; read 94 messages\n",
      "RemoteEvent(Rotator, 0, heartbeat) falling behind; read 19 messages\n"
     ]
    },
    {
     "data": {
      "text/plain": [
       "[<State.OFFLINE: 4>,\n",
       " <State.STANDBY: 5>,\n",
       " <State.DISABLED: 1>,\n",
       " <State.ENABLED: 2>]"
      ]
     },
     "execution_count": 116,
     "metadata": {},
     "output_type": "execute_result"
    }
   ],
   "source": [
    "await salobj.set_summary_state(rot, salobj.State.ENABLED)"
   ]
  },
  {
   "cell_type": "code",
   "execution_count": 117,
   "metadata": {},
   "outputs": [
    {
     "name": "stderr",
     "output_type": "stream",
     "text": [
      "RemoteTelemetry(Rotator, 0, Application) falling behind; read 100 messages\n",
      "RemoteTelemetry(Rotator, 0, Application) falling behind; read 100 messages\n",
      "RemoteTelemetry(Rotator, 0, Application) falling behind; read 100 messages\n",
      "RemoteTelemetry(MTMount, 0, Camera_Cable_Wrap) falling behind; read 57 messages\n",
      "RemoteTelemetry(MTMount, 0, Camera_Cable_Wrap) falling behind; read 58 messages\n",
      "RemoteTelemetry(MTPtg, 0, currentTargetStatus) falling behind; read 29 messages\n",
      "RemoteTelemetry(MTPtg, 0, mountStatus) falling behind; read 29 messages\n",
      "RemoteTelemetry(MTPtg, 0, mountStatus) falling behind; read 29 messages\n",
      "RemoteTelemetry(MTPtg, 0, currentTargetStatus) falling behind; read 29 messages\n",
      "RemoteTelemetry(MTPtg, 0, currentTargetStatus) falling behind; read 29 messages\n",
      "RemoteTelemetry(MTPtg, 0, timeAndDate) falling behind; read 29 messages\n",
      "RemoteTelemetry(Rotator, 0, Motors) falling behind; read 100 messages\n",
      "RemoteTelemetry(Rotator, 0, Motors) falling behind; read 100 messages\n",
      "RemoteTelemetry(Rotator, 0, Motors) falling behind; read 100 messages\n",
      "RemoteTelemetry(Rotator, 0, Electrical) falling behind; read 100 messages\n",
      "RemoteTelemetry(Rotator, 0, Electrical) falling behind; read 100 messages\n",
      "RemoteTelemetry(Rotator, 0, Electrical) falling behind; read 100 messages\n",
      "RemoteTelemetry(MTPtg, 0, timeAndDate) falling behind; read 32 messages\n",
      "RemoteTelemetry(MTPtg, 0, timeAndDate) falling behind; read 32 messages\n",
      "RemoteTelemetry(MTPtg, 0, mountStatus) falling behind; read 33 messages\n",
      "RemoteTelemetry(MTPtg, 0, guidingAndOffsets) falling behind; read 33 messages\n",
      "RemoteTelemetry(MTPtg, 0, guidingAndOffsets) falling behind; read 33 messages\n",
      "RemoteTelemetry(MTPtg, 0, guidingAndOffsets) falling behind; read 33 messages\n",
      "RemoteEvent(MTMount, 0, mountState) falling behind; read 10 messages\n"
     ]
    },
    {
     "data": {
      "text/plain": [
       "<lsst.ts.salobj.ddsutil.MTMount_ackcmd_f692f41c at 0x7f6cb82a4048>"
      ]
     },
     "execution_count": 117,
     "metadata": {},
     "output_type": "execute_result"
    }
   ],
   "source": [
    "await mtm.cmd_enterControl.start(timeout=10.)\n",
    "await mtm.cmd_start.start(timeout=10.)\n",
    "await mtm.cmd_enable.start(timeout=10.)"
   ]
  },
  {
   "cell_type": "markdown",
   "metadata": {},
   "source": [
    "# Move to sync position with CCW"
   ]
  },
  {
   "cell_type": "code",
   "execution_count": null,
   "metadata": {},
   "outputs": [],
   "source": [
    "print(\"Move to X.X deg starting position\")\n",
    "\n",
    "await rot.cmd_positionSet.set_start(angle=-10.02,timeout=30.)\n",
    "\n",
    "await rot.cmd_move.start(timeout=30.)"
   ]
  },
  {
   "cell_type": "markdown",
   "metadata": {},
   "source": [
    "# Additional Error Handling Commands"
   ]
  },
  {
   "cell_type": "code",
   "execution_count": null,
   "metadata": {},
   "outputs": [],
   "source": [
    "await rot.cmd_clearError.start(timeout=10)"
   ]
  },
  {
   "cell_type": "code",
   "execution_count": null,
   "metadata": {},
   "outputs": [],
   "source": [
    "await rot.cmd_exitControl.start(timeout=10.)"
   ]
  },
  {
   "cell_type": "code",
   "execution_count": null,
   "metadata": {},
   "outputs": [],
   "source": [
    "await rot.cmd_enterControl.start(timeout=10.)"
   ]
  },
  {
   "cell_type": "code",
   "execution_count": null,
   "metadata": {},
   "outputs": [],
   "source": [
    "await salobj.set_summary_state(rot, salobj.State.ENABLED)"
   ]
  },
  {
   "cell_type": "code",
   "execution_count": null,
   "metadata": {},
   "outputs": [],
   "source": [
    "await rot.cmd_stop.start(timeout=10.)"
   ]
  },
  {
   "cell_type": "code",
   "execution_count": null,
   "metadata": {},
   "outputs": [],
   "source": [
    "await mtm.cmd_clearerror.start(timeout=10)"
   ]
  },
  {
   "cell_type": "code",
   "execution_count": null,
   "metadata": {},
   "outputs": [],
   "source": [
    "await mtptg.cmd_stopTracking.start(timeout=10)\n",
    "await mtm.cmd_stop.start(timeout=10)"
   ]
  },
  {
   "cell_type": "code",
   "execution_count": null,
   "metadata": {},
   "outputs": [],
   "source": [
    "await mtm.cmd_stop.start(timeout=10)"
   ]
  },
  {
   "cell_type": "code",
   "execution_count": null,
   "metadata": {},
   "outputs": [],
   "source": [
    "await mtm.cmd_disable.start(timeout=30.)\n",
    "await mtm.cmd_standby.start(timeout=30.)\n",
    "await mtm.cmd_exitControl.start(timeout=30.)"
   ]
  },
  {
   "cell_type": "code",
   "execution_count": null,
   "metadata": {},
   "outputs": [],
   "source": [
    "await mtptg.cmd_stopTracking.start(timeout=30)"
   ]
  },
  {
   "cell_type": "code",
   "execution_count": 115,
   "metadata": {},
   "outputs": [
    {
     "name": "stderr",
     "output_type": "stream",
     "text": [
      "RemoteTelemetry(MTMount, 0, Camera_Cable_Wrap) falling behind; read 71 messages\n",
      "RemoteTelemetry(MTMount, 0, Camera_Cable_Wrap) falling behind; read 72 messages\n",
      "RemoteTelemetry(MTPtg, 0, mountStatus) falling behind; read 37 messages\n",
      "RemoteTelemetry(MTPtg, 0, mountStatus) falling behind; read 37 messages\n",
      "RemoteTelemetry(MTPtg, 0, mountStatus) falling behind; read 37 messages\n",
      "RemoteTelemetry(MTPtg, 0, guidingAndOffsets) falling behind; read 38 messages\n",
      "RemoteTelemetry(MTPtg, 0, guidingAndOffsets) falling behind; read 38 messages\n",
      "RemoteTelemetry(MTPtg, 0, guidingAndOffsets) falling behind; read 38 messages\n",
      "RemoteTelemetry(MTPtg, 0, currentTargetStatus) falling behind; read 40 messages\n"
     ]
    },
    {
     "ename": "AckError",
     "evalue": "msg='Command failed', ackcmd=(ackcmd private_seqNum=1602961864, ack=<SalRetCode.CMD_FAILED: -302>, error=1, result='Failed: Rejected: initial state is <State.OFFLINE: 4> instead of <State.STANDBY: 5>')",
     "output_type": "error",
     "traceback": [
      "\u001b[0;31m---------------------------------------------------------------------------\u001b[0m",
      "\u001b[0;31mAckError\u001b[0m                                  Traceback (most recent call last)",
      "\u001b[0;32m<ipython-input-115-b45665aec2ba>\u001b[0m in \u001b[0;36masync-def-wrapper\u001b[0;34m()\u001b[0m\n",
      "\u001b[0;32m~/repos/ts_salobj/python/lsst/ts/salobj/topics/remote_command.py\u001b[0m in \u001b[0;36mstart\u001b[0;34m(self, data, timeout, wait_done)\u001b[0m\n\u001b[1;32m    360\u001b[0m         \u001b[0mcmd_info\u001b[0m \u001b[0;34m=\u001b[0m \u001b[0m_CommandInfo\u001b[0m\u001b[0;34m(\u001b[0m\u001b[0mremote_command\u001b[0m\u001b[0;34m=\u001b[0m\u001b[0mself\u001b[0m\u001b[0;34m,\u001b[0m \u001b[0mseq_num\u001b[0m\u001b[0;34m=\u001b[0m\u001b[0mseq_num\u001b[0m\u001b[0;34m,\u001b[0m \u001b[0mwait_done\u001b[0m\u001b[0;34m=\u001b[0m\u001b[0mwait_done\u001b[0m\u001b[0;34m)\u001b[0m\u001b[0;34m\u001b[0m\u001b[0;34m\u001b[0m\u001b[0m\n\u001b[1;32m    361\u001b[0m         \u001b[0mself\u001b[0m\u001b[0;34m.\u001b[0m\u001b[0msalinfo\u001b[0m\u001b[0;34m.\u001b[0m\u001b[0m_running_cmds\u001b[0m\u001b[0;34m[\u001b[0m\u001b[0mseq_num\u001b[0m\u001b[0;34m]\u001b[0m \u001b[0;34m=\u001b[0m \u001b[0mcmd_info\u001b[0m\u001b[0;34m\u001b[0m\u001b[0;34m\u001b[0m\u001b[0m\n\u001b[0;32m--> 362\u001b[0;31m         \u001b[0;32mreturn\u001b[0m \u001b[0;32mawait\u001b[0m \u001b[0mcmd_info\u001b[0m\u001b[0;34m.\u001b[0m\u001b[0mnext_ackcmd\u001b[0m\u001b[0;34m(\u001b[0m\u001b[0mtimeout\u001b[0m\u001b[0;34m=\u001b[0m\u001b[0mtimeout\u001b[0m\u001b[0;34m)\u001b[0m\u001b[0;34m\u001b[0m\u001b[0;34m\u001b[0m\u001b[0m\n\u001b[0m",
      "\u001b[0;32m~/repos/ts_salobj/python/lsst/ts/salobj/topics/remote_command.py\u001b[0m in \u001b[0;36mnext_ackcmd\u001b[0;34m(self, timeout)\u001b[0m\n\u001b[1;32m    163\u001b[0m             \u001b[0;31m# print(f\"next_ackcmd got {ackcmd.ack} from _basic_next_ack\")\u001b[0m\u001b[0;34m\u001b[0m\u001b[0;34m\u001b[0m\u001b[0;34m\u001b[0m\u001b[0m\n\u001b[1;32m    164\u001b[0m             \u001b[0;32mif\u001b[0m \u001b[0mackcmd\u001b[0m\u001b[0;34m.\u001b[0m\u001b[0mack\u001b[0m \u001b[0;32min\u001b[0m \u001b[0mself\u001b[0m\u001b[0;34m.\u001b[0m\u001b[0mfailed_ack_codes\u001b[0m\u001b[0;34m:\u001b[0m\u001b[0;34m\u001b[0m\u001b[0;34m\u001b[0m\u001b[0m\n\u001b[0;32m--> 165\u001b[0;31m                 \u001b[0;32mraise\u001b[0m \u001b[0mbase\u001b[0m\u001b[0;34m.\u001b[0m\u001b[0mAckError\u001b[0m\u001b[0;34m(\u001b[0m\u001b[0mmsg\u001b[0m\u001b[0;34m=\u001b[0m\u001b[0;34m\"Command failed\"\u001b[0m\u001b[0;34m,\u001b[0m \u001b[0mackcmd\u001b[0m\u001b[0;34m=\u001b[0m\u001b[0mackcmd\u001b[0m\u001b[0;34m)\u001b[0m\u001b[0;34m\u001b[0m\u001b[0;34m\u001b[0m\u001b[0m\n\u001b[0m\u001b[1;32m    166\u001b[0m             \u001b[0;32mreturn\u001b[0m \u001b[0mackcmd\u001b[0m\u001b[0;34m\u001b[0m\u001b[0;34m\u001b[0m\u001b[0m\n\u001b[1;32m    167\u001b[0m         \u001b[0;32mexcept\u001b[0m \u001b[0masyncio\u001b[0m\u001b[0;34m.\u001b[0m\u001b[0mTimeoutError\u001b[0m\u001b[0;34m:\u001b[0m\u001b[0;34m\u001b[0m\u001b[0;34m\u001b[0m\u001b[0m\n",
      "\u001b[0;31mAckError\u001b[0m: msg='Command failed', ackcmd=(ackcmd private_seqNum=1602961864, ack=<SalRetCode.CMD_FAILED: -302>, error=1, result='Failed: Rejected: initial state is <State.OFFLINE: 4> instead of <State.STANDBY: 5>')"
     ]
    }
   ],
   "source": [
    "await rot.cmd_start.start(timeout=10.)"
   ]
  },
  {
   "cell_type": "code",
   "execution_count": null,
   "metadata": {},
   "outputs": [],
   "source": [
    "await rot.cmd_enable.start(timeout=10.)"
   ]
  },
  {
   "cell_type": "code",
   "execution_count": null,
   "metadata": {},
   "outputs": [],
   "source": []
  }
 ],
 "metadata": {
  "kernelspec": {
   "display_name": "Python 3",
   "language": "python",
   "name": "python3"
  },
  "language_info": {
   "codemirror_mode": {
    "name": "ipython",
    "version": 3
   },
   "file_extension": ".py",
   "mimetype": "text/x-python",
   "name": "python",
   "nbconvert_exporter": "python",
   "pygments_lexer": "ipython3",
   "version": "3.8.8"
  }
 },
 "nbformat": 4,
 "nbformat_minor": 4
}
