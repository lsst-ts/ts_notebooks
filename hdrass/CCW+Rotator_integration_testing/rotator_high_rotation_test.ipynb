{
 "cells": [
  {
   "cell_type": "markdown",
   "metadata": {},
   "source": [
    "# High Rotation Rotator/CCW Integration test"
   ]
  },
  {
   "cell_type": "markdown",
   "metadata": {},
   "source": [
    "This notebook performs a high rotation stress scenario integration test between the Rotator and the Camera Cable Wrap with the Camera Cable Wrap tracking the Rotator. It includes enough boilerplate to allow the test to run at any time by getting current time information from the pointing and computing appropriate coordinates to slew."
   ]
  },
  {
   "cell_type": "code",
   "execution_count": null,
   "metadata": {},
   "outputs": [],
   "source": [
    "import logging\n",
    "import yaml\n",
    "\n",
    "import numpy as np\n",
    "from matplotlib import pyplot as plt\n",
    "import astropy.units as u\n",
    "from astropy.time import Time\n",
    "from astropy.coordinates import AltAz, ICRS, EarthLocation, Angle, FK5\n",
    "import asyncio\n",
    "from lsst.ts import salobj\n",
    "from lsst.ts.idl.enums import ATPtg\n",
    "\n",
    "from astropy.utils import iers\n",
    "iers.conf.auto_download = False"
   ]
  },
  {
   "cell_type": "code",
   "execution_count": null,
   "metadata": {},
   "outputs": [],
   "source": [
    "test_message = \"High Rotation Rotator_CCW Integration Test\""
   ]
  },
  {
   "cell_type": "code",
   "execution_count": null,
   "metadata": {},
   "outputs": [],
   "source": [
    "d = salobj.Domain()"
   ]
  },
  {
   "cell_type": "code",
   "execution_count": null,
   "metadata": {},
   "outputs": [],
   "source": [
    "script = salobj.Controller(\"Script\", index=1)\n",
    "rot = salobj.Remote(d, \"Rotator\")"
   ]
  },
  {
   "cell_type": "code",
   "execution_count": null,
   "metadata": {},
   "outputs": [],
   "source": [
    "await asyncio.gather(rot.start_task,\n",
    "                     script.start_task)"
   ]
  },
  {
   "cell_type": "code",
   "execution_count": null,
   "metadata": {},
   "outputs": [],
   "source": [
    "await asyncio.sleep(1.)\n",
    "await salobj.set_summary_state(rot, salobj.State.ENABLED)"
   ]
  },
  {
   "cell_type": "markdown",
   "metadata": {},
   "source": [
    "# Track Rotator to +90deg"
   ]
  },
  {
   "cell_type": "code",
   "execution_count": null,
   "metadata": {},
   "outputs": [],
   "source": [
    "await asyncio.sleep(0.1)\n",
    "\n",
    "print(\"Track to +90.0 deg for starting position\")\n",
    "\n",
    "tel = rot.tel_Application.get()\n",
    "cpos = tel.Position\n",
    "print(cpos)\n",
    "\n",
    "vel = 0.068\n",
    "dt = (90 - cpos) / vel\n",
    "dpos = vel * 0.1\n",
    "steps = int(dt / 0.1)\n",
    "\n",
    "try:\n",
    "    await rot.cmd_trackStart.start(timeout=30.)\n",
    "except salobj.AckError:\n",
    "    pass\n",
    "\n",
    "for i in range(steps):\n",
    "    pos = cpos + i*dpos\n",
    "    await rot.cmd_track.set_start(\n",
    "        angle=pos,\n",
    "        velocity=vel,\n",
    "        tai=salobj.current_tai(),\n",
    "        timeout=10.\n",
    "    )\n",
    "    await asyncio.sleep(0.1)\n",
    "    \n",
    "await rot.cmd_stop.start(timeout=30.)"
   ]
  },
  {
   "cell_type": "markdown",
   "metadata": {},
   "source": [
    "# Perform Track from +90deg to -90deg"
   ]
  },
  {
   "cell_type": "code",
   "execution_count": null,
   "metadata": {},
   "outputs": [],
   "source": [
    "await asyncio.sleep(0.1)\n",
    "\n",
    "print(\"Track from +90 deg to -90.0 deg at max velocity\")\n",
    "\n",
    "tel = rot.tel_Application.get()\n",
    "cpos = tel.Position\n",
    "print(cpos)\n",
    "\n",
    "vel = 0.068\n",
    "dt = (90 + cpos) / vel\n",
    "dpos = vel * 0.1\n",
    "steps = int(dt / 0.1)\n",
    "\n",
    "try:\n",
    "    await rot.cmd_trackStart.start(timeout=30.)\n",
    "except salobj.AckError:\n",
    "    pass\n",
    "\n",
    "for i in range(steps):\n",
    "    pos = cpos - i*dpos\n",
    "    await rot.cmd_track.set_start(\n",
    "        angle=pos,\n",
    "        velocity=vel,\n",
    "        tai=salobj.current_tai(),\n",
    "        timeout=10.\n",
    "    )\n",
    "    await asyncio.sleep(0.1)\n",
    "    \n",
    "await rot.cmd_stop.start(timeout=30.)"
   ]
  },
  {
   "cell_type": "markdown",
   "metadata": {},
   "source": [
    "# Move to Zero"
   ]
  },
  {
   "cell_type": "code",
   "execution_count": null,
   "metadata": {},
   "outputs": [],
   "source": [
    "await asyncio.sleep(0.1)\n",
    "\n",
    "print(\"Move to 0.0 deg\")\n",
    "\n",
    "await rot.cmd_positionSet.set_start(angle=0.0)\n",
    "\n",
    "rot.evt_inPosition.flush()\n",
    "\n",
    "await rot.cmd_move.start(timeout=30.)\n",
    "\n",
    "inPOS = await rot.evt_inPosition.aget()\n",
    "\n",
    "print(inPOS.inPosition)\n",
    "\n",
    "print(\"Test complete\")\n",
    "\n",
    "script.evt_logMessage.set_put(level=logging.INFO+1,\n",
    "                              message=f\"END - {test_message}\")"
   ]
  }
 ],
 "metadata": {
  "kernelspec": {
   "display_name": "Python 3",
   "language": "python",
   "name": "python3"
  },
  "language_info": {
   "codemirror_mode": {
    "name": "ipython",
    "version": 3
   },
   "file_extension": ".py",
   "mimetype": "text/x-python",
   "name": "python",
   "nbconvert_exporter": "python",
   "pygments_lexer": "ipython3",
   "version": "3.7.2"
  }
 },
 "nbformat": 4,
 "nbformat_minor": 4
}
