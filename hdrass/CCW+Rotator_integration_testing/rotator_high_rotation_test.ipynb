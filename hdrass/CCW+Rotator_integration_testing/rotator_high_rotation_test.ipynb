{
 "cells": [
  {
   "cell_type": "markdown",
   "metadata": {},
   "source": [
    "# High Rotation Rotator/CCW Integration test"
   ]
  },
  {
   "cell_type": "markdown",
   "metadata": {},
   "source": [
    "This notebook relates to testcase \n",
    "\n",
    "https://jira.lsstcorp.org/secure/Tests.jspa#/testCase/LVV-T1594\n",
    "\n",
    "This notebook performs a high rotation stress scenario integration test between the Rotator and the Camera Cable Wrap with the Camera Cable Wrap tracking the Rotator. It includes enough boilerplate to allow the test to run at any time by getting current time information from the pointing and computing appropriate coordinates to slew."
   ]
  },
  {
   "cell_type": "code",
   "execution_count": null,
   "metadata": {},
   "outputs": [],
   "source": [
    "import logging\n",
    "import yaml\n",
    "\n",
    "import numpy as np\n",
    "from matplotlib import pyplot as plt\n",
    "import astropy.units as u\n",
    "from astropy.time import Time\n",
    "from astropy.coordinates import AltAz, ICRS, EarthLocation, Angle, FK5\n",
    "import asyncio\n",
    "from lsst.ts import salobj\n",
    "from lsst.ts.idl.enums import MTPtg\n",
    "\n",
    "from astropy.utils import iers\n",
    "iers.conf.auto_download = False\n",
    "from datetime import datetime "
   ]
  },
  {
   "cell_type": "code",
   "execution_count": null,
   "metadata": {},
   "outputs": [],
   "source": [
    "test_message = \"High Rotation Rotator_CCW Integration Test\""
   ]
  },
  {
   "cell_type": "code",
   "execution_count": null,
   "metadata": {},
   "outputs": [],
   "source": [
    "d = salobj.Domain()"
   ]
  },
  {
   "cell_type": "code",
   "execution_count": null,
   "metadata": {},
   "outputs": [],
   "source": [
    "script = salobj.Controller(\"Script\", index=1)\n",
    "rot = salobj.Remote(d, \"MTRotator\")\n",
    "mtm = salobj.Remote(d, \"MTMount\")\n",
    "mtptg = salobj.Remote(d, \"MTPtg\")"
   ]
  },
  {
   "cell_type": "code",
   "execution_count": null,
   "metadata": {},
   "outputs": [],
   "source": [
    "await asyncio.gather(rot.start_task,\n",
    "                     mtptg.start_task, \n",
    "                     script.start_task, \n",
    "                     mtm.start_task)"
   ]
  },
  {
   "cell_type": "code",
   "execution_count": null,
   "metadata": {},
   "outputs": [],
   "source": [
    "now = datetime.now()\n",
    "print(test_message, now)"
   ]
  },
  {
   "cell_type": "code",
   "execution_count": null,
   "metadata": {},
   "outputs": [],
   "source": [
    "await salobj.set_summary_state(mtptg, salobj.State.ENABLED)"
   ]
  },
  {
   "cell_type": "code",
   "execution_count": null,
   "metadata": {},
   "outputs": [],
   "source": [
    "await rot.cmd_clearError.start(timeout=10)"
   ]
  },
  {
   "cell_type": "code",
   "execution_count": null,
   "metadata": {},
   "outputs": [],
   "source": [
    "await salobj.set_summary_state(rot, salobj.State.ENABLED)"
   ]
  },
  {
   "cell_type": "code",
   "execution_count": null,
   "metadata": {},
   "outputs": [],
   "source": [
    "await salobj.set_summary_state(mtm, salobj.State.ENABLED)"
   ]
  },
  {
   "cell_type": "code",
   "execution_count": null,
   "metadata": {},
   "outputs": [],
   "source": [
    "await salobj.set_summary_state(mtptg, salobj.State.OFFLINE)"
   ]
  },
  {
   "cell_type": "code",
   "execution_count": null,
   "metadata": {},
   "outputs": [],
   "source": [
    "CCWstate = await mtm.evt_cameraCableWrapFollowing.aget(timeout=10.)\n",
    "print(\"CCWstate:\",CCWstate.enabled)\n",
    "await mtm.cmd_enableCameraCableWrapFollowing.set_start(timeout=10.)\n",
    "CCWstate = await mtm.evt_cameraCableWrapFollowing.aget(timeout=10.)\n",
    "print(\"CCWstate:\",CCWstate.enabled)"
   ]
  },
  {
   "cell_type": "markdown",
   "metadata": {},
   "source": [
    "# Track Rotator to +90deg"
   ]
  },
  {
   "cell_type": "code",
   "execution_count": null,
   "metadata": {
    "scrolled": true
   },
   "outputs": [],
   "source": [
    "print(\"Test Start\")\n",
    "\n",
    "now = datetime.now()\n",
    "script.evt_logMessage.set_put(level=logging.INFO+1,\n",
    "                              message=f\"START - {test_message} - Track Rotator to +90deg - {now} UTC\")\n",
    "await asyncio.sleep(0.1)\n",
    "\n",
    "print(\"Track to +90.0 deg for starting position\")\n",
    "\n",
    "telemetry = rot.tel_rotation.get()\n",
    "cpos = telemetry.actualPosition\n",
    "print(cpos)\n",
    "\n",
    "vel = 0.068\n",
    "dt = (90 - cpos) / vel\n",
    "dpos = vel * 0.1\n",
    "steps = int(dt / 0.1)\n",
    "\n",
    "try:\n",
    "    await rot.cmd_trackStart.start(timeout=30.)\n",
    "except salobj.AckError:\n",
    "    pass\n",
    "\n",
    "for i in range(steps):\n",
    "    pos = cpos + i*dpos\n",
    "    await rot.cmd_track.set_start(\n",
    "        angle=pos,\n",
    "        velocity=vel,\n",
    "        tai=salobj.current_tai(),\n",
    "        timeout=10.\n",
    "    )\n",
    "    print(\"pos:\", pos)\n",
    "    await asyncio.sleep(0.1)\n",
    "    \n",
    "await rot.cmd_stop.start(timeout=30.)\n",
    "now = datetime.now()\n",
    "script.evt_logMessage.set_put(level=logging.INFO+1,\n",
    "                              message=f\"END - {test_message} - Track Rotator to +90deg - {now} UTC\")"
   ]
  },
  {
   "cell_type": "markdown",
   "metadata": {},
   "source": [
    "# Perform Track from +90deg to -90deg"
   ]
  },
  {
   "cell_type": "code",
   "execution_count": null,
   "metadata": {
    "scrolled": true
   },
   "outputs": [],
   "source": [
    "print(\"Test Start\")\n",
    "\n",
    "now = datetime.now()\n",
    "script.evt_logMessage.set_put(level=logging.INFO+1,\n",
    "                              message=f\"START - {test_message} - Perform Track from +90deg to -90deg - {now} UTC\")\n",
    "await asyncio.sleep(0.1)\n",
    "\n",
    "print(\"Track from +90 deg to -90.0 deg at max velocity\")\n",
    "\n",
    "telemetry = rot.tel_rotation.get()\n",
    "actualpos = telemetry.actualPosition\n",
    "print(\"actualpos\", actualpos )\n",
    "\n",
    "vel = 0.068\n",
    "dt = (90 + actualpos) / vel\n",
    "dpos = vel * 0.1\n",
    "steps = int(dt / 0.1)\n",
    "print(\"steps:\", steps)\n",
    "\n",
    "try:\n",
    "    await rot.cmd_trackStart.start(timeout=30.)\n",
    "except salobj.AckError:\n",
    "    pass\n",
    "\n",
    "for i in range(steps):\n",
    "    pos = cpos - i*dpos\n",
    "    await rot.cmd_track.set_start(\n",
    "        angle=pos,\n",
    "        velocity=vel,\n",
    "        tai=salobj.current_tai(),\n",
    "        timeout=10.\n",
    "    )\n",
    "    print(\"pos:\", pos)\n",
    "    await asyncio.sleep(0.1)\n",
    "    \n",
    "await rot.cmd_stop.start(timeout=30.)"
   ]
  },
  {
   "cell_type": "markdown",
   "metadata": {},
   "source": [
    "# Move to Zero"
   ]
  },
  {
   "cell_type": "code",
   "execution_count": null,
   "metadata": {},
   "outputs": [],
   "source": [
    "now = datetime.now()\n",
    "script.evt_logMessage.set_put(level=logging.INFO+1,\n",
    "                              message=f\"START - {test_message} - Move to Zero - {now} UTC\")\n",
    "await asyncio.sleep(0.1)\n",
    "\n",
    "print(\"Move to 0.0 deg\")\n",
    "\n",
    "rot.evt_inPosition.flush()\n",
    "\n",
    "await rot.cmd_move.set_start(position=0.0)\n",
    "\n",
    "inPOS = await rot.evt_inPosition.aget()\n",
    "\n",
    "print(inPOS.inPosition)\n",
    "\n",
    "print(\"Test complete\")\n",
    "\n",
    "now = datetime.now()\n",
    "script.evt_logMessage.set_put(level=logging.INFO+1,\n",
    "                              message=f\"END - {test_message} - Move to Zero - {now} UTC\")"
   ]
  },
  {
   "cell_type": "code",
   "execution_count": null,
   "metadata": {},
   "outputs": [],
   "source": [
    "print(\"Move to X.X deg starting position\")\n",
    "\n",
    "await rot.cmd_move.set_start(position=19.04,timeout=30.)"
   ]
  },
  {
   "cell_type": "code",
   "execution_count": null,
   "metadata": {},
   "outputs": [],
   "source": [
    "await rot.cmd_clearError.start(timeout=10)"
   ]
  },
  {
   "cell_type": "code",
   "execution_count": null,
   "metadata": {},
   "outputs": [],
   "source": [
    "await rot.cmd_exitControl.start(timeout=10.)"
   ]
  },
  {
   "cell_type": "code",
   "execution_count": null,
   "metadata": {},
   "outputs": [],
   "source": [
    "await rot.cmd_enterControl.start(timeout=10.)"
   ]
  },
  {
   "cell_type": "code",
   "execution_count": null,
   "metadata": {},
   "outputs": [],
   "source": [
    "await salobj.set_summary_state(rot, salobj.State.ENABLED)"
   ]
  },
  {
   "cell_type": "code",
   "execution_count": null,
   "metadata": {},
   "outputs": [],
   "source": [
    "await rot.cmd_stop.start(timeout=10.)"
   ]
  },
  {
   "cell_type": "code",
   "execution_count": null,
   "metadata": {},
   "outputs": [],
   "source": [
    "await mtm.cmd_clearError.start(timeout=10)"
   ]
  },
  {
   "cell_type": "code",
   "execution_count": null,
   "metadata": {},
   "outputs": [],
   "source": [
    "await mtptg.cmd_stopTracking.start(timeout=10)\n",
    "await mtm.cmd_stop.start(timeout=10)"
   ]
  },
  {
   "cell_type": "code",
   "execution_count": null,
   "metadata": {},
   "outputs": [],
   "source": [
    "await mtm.cmd_stop.start(timeout=10)"
   ]
  },
  {
   "cell_type": "markdown",
   "metadata": {},
   "source": [
    "Bring Mount/CCW Down"
   ]
  },
  {
   "cell_type": "code",
   "execution_count": null,
   "metadata": {},
   "outputs": [],
   "source": [
    "await mtm.cmd_disable.start(timeout=30.)\n",
    "await mtm.cmd_standby.start(timeout=30.)\n",
    "await mtm.cmd_exitControl.start(timeout=30.)"
   ]
  },
  {
   "cell_type": "markdown",
   "metadata": {},
   "source": [
    "Wait for override off"
   ]
  },
  {
   "cell_type": "code",
   "execution_count": null,
   "metadata": {},
   "outputs": [],
   "source": [
    "await mtm.cmd_enterControl.start(timeout=30.)\n",
    "await mtm.cmd_start.start(timeout=30.)\n",
    "await mtm.cmd_enable.start(timeout=30.)"
   ]
  },
  {
   "cell_type": "code",
   "execution_count": null,
   "metadata": {},
   "outputs": [],
   "source": [
    "await mtptg.cmd_stopTracking.start(timeout=30)"
   ]
  }
 ],
 "metadata": {
  "kernelspec": {
   "display_name": "LSST",
   "language": "python",
   "name": "lsst"
  },
  "language_info": {
   "codemirror_mode": {
    "name": "ipython",
    "version": 3
   },
   "file_extension": ".py",
   "mimetype": "text/x-python",
   "name": "python",
   "nbconvert_exporter": "python",
   "pygments_lexer": "ipython3",
   "version": "3.8.8"
  }
 },
 "nbformat": 4,
 "nbformat_minor": 4
}
