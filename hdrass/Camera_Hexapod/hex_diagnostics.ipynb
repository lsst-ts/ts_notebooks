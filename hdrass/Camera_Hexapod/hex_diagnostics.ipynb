{
 "cells": [
  {
   "cell_type": "markdown",
   "metadata": {},
   "source": [
    "## This notebook check the hexapod state transitions and move/offset commands\n",
    "## It also checks the LUT against the input polynomials, before and after a slew\n",
    "\n",
    "This notebook works with both hexapods.\n",
    "\n",
    "Prerequisits:\n",
    "\n",
    "The MTMount and the MTRotator must send telemetry for mount azimuth and elevation and rotation angle."
   ]
  },
  {
   "cell_type": "code",
   "execution_count": null,
   "metadata": {},
   "outputs": [],
   "source": [
    "from lsst.ts import salobj\n",
    "import asyncio\n",
    "import os\n",
    "import yaml\n",
    "\n",
    "import numpy as np\n",
    "from matplotlib import pyplot as plt\n",
    "from astropy.time import Time\n",
    "from datetime import datetime, timedelta\n",
    "import pandas as pd\n",
    "\n",
    "from lsst.ts.idl.enums import MTPtg\n",
    "from lsst.ts.idl.enums import MTHexapod\n",
    "\n",
    "from astropy.coordinates import AltAz, ICRS, EarthLocation, Angle, FK5\n",
    "import astropy.units as u\n",
    "\n",
    "from lsst_efd_client import EfdClient"
   ]
  },
  {
   "cell_type": "code",
   "execution_count": null,
   "metadata": {},
   "outputs": [],
   "source": [
    "os.environ[\"LSST_DDS_HISTORYSYNC\"] = \"30\""
   ]
  },
  {
   "cell_type": "markdown",
   "metadata": {},
   "source": [
    "To switch between the hexapods, change the cell below."
   ]
  },
  {
   "cell_type": "code",
   "execution_count": null,
   "metadata": {},
   "outputs": [],
   "source": [
    "hexIdx = 1 #camera hexapod\n",
    "#hexIdx = 2 #M2 hexapod\n",
    "\n",
    "#f\"MTHexapod:{MTHexapod.SalIndex.CAMERA_HEXAPOD}\" \n",
    "test = MTHexapod.SalIndex.CAMERA_HEXAPOD\n",
    "print(test)\n",
    "#print (hexIdx)\n",
    "#mthex = r.mthex.salinfo.index\n",
    "#print(mthex)\n"
   ]
  },
  {
   "cell_type": "code",
   "execution_count": null,
   "metadata": {},
   "outputs": [],
   "source": [
    "import os\n",
    "print(os.environ[\"OSPL_URI\"])\n",
    "if os.environ.get(\"LSST_DDS_ALIGNER\", \"false\") != \"false\":\n",
    "    print(\"LSST_DDS_ALIGNER is mis-configured\")"
   ]
  },
  {
   "cell_type": "code",
   "execution_count": null,
   "metadata": {},
   "outputs": [],
   "source": [
    "start_time = datetime.now()\n",
    "script = salobj.Controller(\"Script\", index=42658887)"
   ]
  },
  {
   "cell_type": "code",
   "execution_count": null,
   "metadata": {},
   "outputs": [],
   "source": [
    "# Dict of short name: full SAL component name and index;\n",
    "# comment out an etry to avoid making the associated remote:\n",
    "remote_names = dict(\n",
    "    # Always comment out one of the two hexapods:\n",
    "    mthex=f\"MTHexapod:{MTHexapod.SalIndex.CAMERA_HEXAPOD}\",\n",
    "    # mthex=f\"MTHexapod:{MTHexapod.SalIndex.M2_HEXAPOD}\",\n",
    "    mtptg=\"MTPtg\",\n",
    "    mtrot=\"MTRotator\",\n",
    "    mtmount=\"MTMount\"\n",
    "    )"
   ]
  },
  {
   "cell_type": "code",
   "execution_count": null,
   "metadata": {},
   "outputs": [],
   "source": [
    "remotes_dict = {}\n",
    "for short_name, sal_name_index in remote_names.items():\n",
    "    sal_name, index = salobj.name_index(sal_name_index)\n",
    "    remote = salobj.Remote(domain=domain, name=sal_name, index=index)\n",
    "    remotes_dict[short_name] = remote\n",
    "    \n",
    "r = types.SimpleNamespace(**remotes_dict)\n",
    "del remotes_dict  # use vars® instead\n",
    "hexId = r.mthex.salinfo.index  # or just use the long form"
   ]
  },
  {
   "cell_type": "code",
   "execution_count": null,
   "metadata": {},
   "outputs": [],
   "source": [
    "# Wait for all remotes to start\n",
    "for remote in vars(r).values():\n",
    "    await remote.start_task\n",
    "\n",
    "# Wait for a heartbeat from each remote\n",
    "for name, remote in vars(r).items():\n",
    "    if name not in (...short names to exclude...):\n",
    "        try:\n",
    "            await remote.evt_heartbeat.next(flush=False, timeout=5)\n",
    "         except asyncio.TimeoutError:\n",
    "             print(f\"No heartbeat seen for {remote.salinfo.name_index}\")"
   ]
  },
  {
   "cell_type": "code",
   "execution_count": null,
   "metadata": {},
   "outputs": [],
   "source": [
    "#Delete start: Delete after merging and testing the dict()changes"
   ]
  },
  {
   "cell_type": "code",
   "execution_count": null,
   "metadata": {},
   "outputs": [],
   "source": [
    "#Only needed when doing a test with the telescope slewing\n",
    "#ptg = salobj.Remote(script.domain, \"MTPtg\")"
   ]
  },
  {
   "cell_type": "code",
   "execution_count": null,
   "metadata": {
    "scrolled": true
   },
   "outputs": [],
   "source": [
    "#mthex = salobj.Remote(script.domain, \"MTHexapod\", index=hexIdx) #1 for camera hexapod and 2 for m2 hexapod"
   ]
  },
  {
   "cell_type": "code",
   "execution_count": null,
   "metadata": {},
   "outputs": [],
   "source": [
    "#mtptg = salobj.Remote(script.domain, \"MTPtg\")"
   ]
  },
  {
   "cell_type": "code",
   "execution_count": null,
   "metadata": {},
   "outputs": [],
   "source": [
    "#mtm = salobj.Remote(script.domain, \"MTMount\")"
   ]
  },
  {
   "cell_type": "code",
   "execution_count": null,
   "metadata": {},
   "outputs": [],
   "source": [
    "#Start a controller instead of the Mount simulator\n",
    "#mount = salobj.Controller(name=\"MTMount\", index=0)"
   ]
  },
  {
   "cell_type": "code",
   "execution_count": null,
   "metadata": {
    "scrolled": true
   },
   "outputs": [],
   "source": [
    "#mtrot = salobj.Remote(script.domain, \"MTRotator\")\n",
    "#print(f'time to start is {datetime.now() - start_time} [s]')"
   ]
  },
  {
   "cell_type": "code",
   "execution_count": null,
   "metadata": {
    "scrolled": true
   },
   "outputs": [],
   "source": [
    "#await asyncio.gather(mtm.start_task,\n",
    "#                     script.start_task,                      \n",
    "#                     mtrot.start_task,\n",
    "#                     mthex.start_task,\n",
    "#                     mtptg.start_task)"
   ]
  },
  {
   "cell_type": "markdown",
   "metadata": {},
   "source": [
    "## Check the heartbeats"
   ]
  },
  {
   "cell_type": "code",
   "execution_count": null,
   "metadata": {
    "scrolled": true
   },
   "outputs": [],
   "source": [
    "#As long as you get something its OK. we dont' care about heartbeat\n",
    "#await mthex.evt_heartbeat.next(flush=True, timeout=5)"
   ]
  },
  {
   "cell_type": "code",
   "execution_count": null,
   "metadata": {},
   "outputs": [],
   "source": [
    "#await mtptg.evt_heartbeat.next(flush=True, timeout=5)"
   ]
  },
  {
   "cell_type": "code",
   "execution_count": null,
   "metadata": {},
   "outputs": [],
   "source": [
    "#await mtrot.evt_heartbeat.next(flush=True, timeout=5)"
   ]
  },
  {
   "cell_type": "code",
   "execution_count": null,
   "metadata": {},
   "outputs": [],
   "source": [
    "#await mtm.evt_heartbeat.next(flush=True, timeout=5)"
   ]
  },
  {
   "cell_type": "code",
   "execution_count": null,
   "metadata": {},
   "outputs": [],
   "source": [
    "#Stop deleting here"
   ]
  },
  {
   "cell_type": "markdown",
   "metadata": {},
   "source": [
    "### Test the hexapod state transitions. If the hexapod is already enabled, disable then enable it."
   ]
  },
  {
   "cell_type": "code",
   "execution_count": null,
   "metadata": {},
   "outputs": [],
   "source": [
    "state = await mthex.evt_summaryState.aget(timeout=5)\n",
    "print('staring with: hex state', salobj.State(state.summaryState), pd.to_datetime(state.private_sndStamp, unit='s'))\n",
    "if state.summaryState == 2:\n",
    "    await salobj.set_summary_state(mthex, salobj.State.DISABLED) #disable hex"
   ]
  },
  {
   "cell_type": "code",
   "execution_count": null,
   "metadata": {},
   "outputs": [],
   "source": [
    "await salobj.set_summary_state(remote=mthex, state=salobj.State.STANDBY)\n"
   ]
  },
  {
   "cell_type": "code",
   "execution_count": null,
   "metadata": {},
   "outputs": [],
   "source": [
    "await salobj.set_summary_state(remote=mthex, state=salobj.State.DISABLED)"
   ]
  },
  {
   "cell_type": "code",
   "execution_count": null,
   "metadata": {},
   "outputs": [],
   "source": [
    "await salobj.set_summary_state(mthex, salobj.State.ENABLED, settingsToApply=\"default\") #enable hex"
   ]
  },
  {
   "cell_type": "code",
   "execution_count": null,
   "metadata": {},
   "outputs": [],
   "source": [
    "await salobj.set_summary_state(mthex, salobj.State.ENABLED) #enable hex"
   ]
  },
  {
   "cell_type": "markdown",
   "metadata": {},
   "source": [
    "## Start the EFD client"
   ]
  },
  {
   "cell_type": "code",
   "execution_count": null,
   "metadata": {},
   "outputs": [],
   "source": [
    "client = EfdClient('summit_efd')"
   ]
  },
  {
   "cell_type": "code",
   "execution_count": null,
   "metadata": {},
   "outputs": [],
   "source": [
    "# the next line only work if information were sent to the EFD during the time span \"timedelta\"!\n",
    "#we cannot get time series data from DDS. We have to query the EFD\n",
    "#to check messages in Kafka, go to https://lsst-kafka-0-nts-efd.ncsa.illinois.edu/\n",
    "csc_index = 1\n",
    "end = Time(datetime.now(), scale='tai')\n",
    "start = end - timedelta(hours=6)\n",
    "while True: #may need to wait a few seconds before event shows up in EFD\n",
    "    dfe = await client.select_time_series('lsst.sal.MTHexapod.logevent_summaryState', '*', start, end, csc_index)\n",
    "    if len(dfe)>0:\n",
    "        break"
   ]
  },
  {
   "cell_type": "code",
   "execution_count": null,
   "metadata": {
    "scrolled": true
   },
   "outputs": [],
   "source": [
    "dfe"
   ]
  },
  {
   "cell_type": "markdown",
   "metadata": {},
   "source": [
    "## Check that the other components are enabled or, if not, enable them "
   ]
  },
  {
   "cell_type": "code",
   "execution_count": null,
   "metadata": {},
   "outputs": [],
   "source": [
    "await salobj.set_summary_state(mtm, salobj.State.ENABLED)"
   ]
  },
  {
   "cell_type": "code",
   "execution_count": null,
   "metadata": {},
   "outputs": [],
   "source": [
    "await salobj.set_summary_state(mtrot, salobj.State.ENABLED)"
   ]
  },
  {
   "cell_type": "code",
   "execution_count": null,
   "metadata": {},
   "outputs": [],
   "source": [
    "await salobj.set_summary_state(mtptg, salobj.State.ENABLED)"
   ]
  },
  {
   "cell_type": "markdown",
   "metadata": {},
   "source": [
    "## Check that the configurations and that the needed telemetry is comming in:"
   ]
  },
  {
   "cell_type": "code",
   "execution_count": null,
   "metadata": {},
   "outputs": [],
   "source": [
    "#Check some configurations for the hexapod\n",
    "hexConfig = await mthex.evt_configuration.aget(timeout=10.)\n",
    "print(\"pivot at (%.0f, %.0f, %.0f) microns \"%(hexConfig.pivotX, hexConfig.pivotY, hexConfig.pivotZ))\n",
    "print(\"maxXY = \", hexConfig.maxXY, \"microns, maxZ= \", hexConfig.maxZ, \" microns\")\n",
    "print(\"maxUV = \", hexConfig.maxUV, \"deg, maxW= \", hexConfig.maxW, \" deg\")"
   ]
  },
  {
   "cell_type": "code",
   "execution_count": null,
   "metadata": {},
   "outputs": [],
   "source": [
    "end = Time(datetime.now())\n",
    "start = end - timedelta(hours=3)\n",
    "#logeventTarget = await client.select_time_series('lsst.sal.MTMount.logevent_target', '*', start.tai, end.tai)\n",
    "#With this we can get the elevation when a controller is running\n",
    "MTMountElevation = await client.select_time_series('lsst.sal.MTMount.elevation', '*', start.tai, end.tai)\n",
    "MTMountAzimuth = await client.select_time_series('lsst.sal.MTMount.azimuth', '*', start.tai, end.tai)\n",
    "MTRotPosition = await client.select_time_series('lsst.sal.MTRotator.rotation', '*', start.tai, end.tai)"
   ]
  },
  {
   "cell_type": "code",
   "execution_count": null,
   "metadata": {},
   "outputs": [],
   "source": [
    "#get the elevation into a variable\n",
    "mtmElev=MTMountElevation.actualPosition\n",
    "print(\"Mount elevation from the EFD:\")\n",
    "mtmElev"
   ]
  },
  {
   "cell_type": "code",
   "execution_count": null,
   "metadata": {},
   "outputs": [],
   "source": [
    "mtmAzimuth = MTMountAzimuth.actualPosition\n",
    "print(\"Mount azimuth from the EFD:\")\n",
    "mtmAzimuth"
   ]
  },
  {
   "cell_type": "code",
   "execution_count": null,
   "metadata": {},
   "outputs": [],
   "source": [
    "mtrotPosition = MTRotPosition.actualPosition\n",
    "print(\"MTRotator positon from the EFD:\")\n",
    "mtrotPosition"
   ]
  },
  {
   "cell_type": "markdown",
   "metadata": {},
   "source": [
    "# Check the move behavior when LUT is disabled."
   ]
  },
  {
   "cell_type": "code",
   "execution_count": null,
   "metadata": {},
   "outputs": [],
   "source": [
    "lutMode = await mthex.evt_compensationMode.aget(timeout=10)\n",
    "print(\"Compsensation mode enabled?\",lutMode.enabled)"
   ]
  },
  {
   "cell_type": "code",
   "execution_count": null,
   "metadata": {},
   "outputs": [],
   "source": [
    "async def printPosition(hex):\n",
    "    pos = await mthex.tel_application.next(flush=True, timeout=10.)\n",
    "    print(\"Current Hexapod position\")\n",
    "    print(\" \".join(f\"{p:10.2f}\" for p in pos.position))\n",
    "await printPosition(hex)"
   ]
  },
  {
   "cell_type": "code",
   "execution_count": null,
   "metadata": {},
   "outputs": [],
   "source": [
    "test_message = \"Camera Hexapod Integration Test\""
   ]
  },
  {
   "cell_type": "code",
   "execution_count": null,
   "metadata": {},
   "outputs": [],
   "source": [
    "#This command is to set the Hexapod to zero position\n",
    "now = datetime.now()\n",
    "script.log.info(f\"START- {test_message} -- LVV-T1600 -- Move to Zero- Starting time: {now} UTC\")\n",
    "await mthex.cmd_move.set_start(x=0,y=0,z=0, u=0,v=0,w=0,sync=True)"
   ]
  },
  {
   "cell_type": "code",
   "execution_count": null,
   "metadata": {},
   "outputs": [],
   "source": [
    "#To stop the Hexapod\n",
    "await mthex.cmd_stop.set_start()"
   ]
  },
  {
   "cell_type": "markdown",
   "metadata": {},
   "source": [
    "If you want to observe the motions in chronograf, consider using \"AND MTHexapodID={hexId}\" to filter out telemetry from the other hexapod"
   ]
  },
  {
   "cell_type": "code",
   "execution_count": null,
   "metadata": {},
   "outputs": [],
   "source": [
    "now = datetime.now()\n",
    "print(now)\n",
    "script.log.info(f\"START- {test_message} -- LVV-T1600 Compensation mode test Step 17- Starting time: {now} UTC\")\n",
    "mthex.evt_inPosition.flush()\n",
    "for step in range(5,-1,-1):\n",
    "    await mthex.cmd_move.set_start(x=0,y=0,z=100*step, u=0,v=0,w=0,sync=True)\n",
    "    while True:\n",
    "        state = await mthex.evt_inPosition.next(flush=False, timeout=10)\n",
    "        print(\"hex in position?\",state.inPosition, pd.to_datetime(state.private_sndStamp, unit='s'))\n",
    "        if state.inPosition:\n",
    "            break    "
   ]
  },
  {
   "cell_type": "code",
   "execution_count": null,
   "metadata": {},
   "outputs": [],
   "source": [
    "await printPosition(hex)"
   ]
  },
  {
   "cell_type": "code",
   "execution_count": null,
   "metadata": {},
   "outputs": [],
   "source": [
    "mthex.evt_inPosition.flush()\n",
    "for step in [1,2,3,-3,-2,-1]:\n",
    "    #according to XML, units are micron and degree\n",
    "    await mthex.cmd_offset.set_start(x=0,y=0,z=100*step, u=0,v=0,w=0,sync=True)\n",
    "    while True:\n",
    "        state = await mthex.evt_inPosition.next(flush=False, timeout=10)\n",
    "        print(\"hex in position?\",state.inPosition, pd.to_datetime(state.private_sndStamp, unit='s'))\n",
    "        if state.inPosition:\n",
    "            break\n",
    "     \n",
    "    await printPosition(mthex)\n",
    "    \n",
    "    end = Time(datetime.now(), scale='tai')"
   ]
  },
  {
   "cell_type": "code",
   "execution_count": null,
   "metadata": {},
   "outputs": [],
   "source": [
    "start = end - timedelta(seconds=30)\n",
    "df = await client.select_time_series('lsst.sal.MTHexapod.actuators', '*', start, end, csc_index)\n",
    "#idx= df.MTHexapodID==1\n",
    "#df = df[idx]"
   ]
  },
  {
   "cell_type": "code",
   "execution_count": null,
   "metadata": {},
   "outputs": [],
   "source": [
    "fig, ax = plt.subplots(figsize=(19,3))\n",
    "plt.plot(df.calibrated0)\n",
    "plt.grid()"
   ]
  },
  {
   "cell_type": "markdown",
   "metadata": {},
   "source": [
    "### When the LUT is enabled"
   ]
  },
  {
   "cell_type": "code",
   "execution_count": null,
   "metadata": {},
   "outputs": [],
   "source": [
    "await mthex.cmd_setCompensationMode.set_start(enable=1, timeout=10)\n",
    "lutMode = mthex.evt_compensationMode.get\n",
    "print(\"compsensation mode enabled?\",lutMode.enabled)"
   ]
  },
  {
   "cell_type": "code",
   "execution_count": null,
   "metadata": {},
   "outputs": [],
   "source": [
    "#Switch compensation mode off:\n",
    "await mthex.cmd_setCompensationMode.set_start(enable=0, timeout=10)\n",
    "lutMode =  mthex.evt_compensationMode.get\n",
    "print(\"compsensation mode enabled?\",lutMode.enabled)"
   ]
  },
  {
   "cell_type": "code",
   "execution_count": null,
   "metadata": {},
   "outputs": [],
   "source": [
    "await printPosition(hex)\n",
    "a = mthex.evt_compensationOffset.get\n",
    "print(a)"
   ]
  },
  {
   "cell_type": "code",
   "execution_count": null,
   "metadata": {},
   "outputs": [],
   "source": [
    "async def printUncompensatedAndCompensated(hex):\n",
    "    posU =  mthex.evt_uncompensatedPosition.get\n",
    "    print('Uncompensated position')\n",
    "    print(\" \".join(f\"{p:10.2f}\" for p in [getattr(posU, i) for i in 'xyz']), end = '    ')\n",
    "    print(\" \".join(f\"{p:10.6f}\" for p in [getattr(posU, i) for i in 'uvw']),'  ',\n",
    "         pd.to_datetime(posU.private_sndStamp, unit='s'))    \n",
    "    posC = mthex.evt_compensatedPosition.get\n",
    "    print('Compensated position')\n",
    "    print(\" \".join(f\"{p:10.2f}\" for p in [getattr(posC, i) for i in 'xyz']), end = '     ')\n",
    "    print(\" \".join(f\"{p:10.6f}\" for p in [getattr(posC, i) for i in 'uvw']),'  ',\n",
    "         pd.to_datetime(posC.private_sndStamp, unit='s'))\n",
    "\n",
    "await printUncompensatedAndCompensated(hex)"
   ]
  },
  {
   "cell_type": "markdown",
   "metadata": {},
   "source": [
    "The inputs to the LUT are currently -\n",
    "* elevation (from mount telemetry) \n",
    "* temperature (mount truss? not implemented yet)\n",
    "* azimuth (hexapod supports compensation for this input, but model coefficients are not yet configured)\n",
    "* rotator angle (hexapod supports compensation for this input, but model coefficients are not yet configured"
   ]
  },
  {
   "cell_type": "code",
   "execution_count": null,
   "metadata": {},
   "outputs": [],
   "source": [
    "#Only works when mount or mount simulator are active.\n",
    "#mountAngle = await mount.tel_elevation.aget(timeout=10.)\n",
    "#print(\"mount elevation angle\", mountAngle.angleActual)\n",
    "#elev = mountAngle.angleActual"
   ]
  },
  {
   "cell_type": "code",
   "execution_count": null,
   "metadata": {},
   "outputs": [],
   "source": [
    "#To set the elevation for a controller\n",
    "#mount.evt_target.set_put(elevation=45)"
   ]
  },
  {
   "cell_type": "code",
   "execution_count": null,
   "metadata": {},
   "outputs": [],
   "source": [
    "elevationFixed=80.0"
   ]
  },
  {
   "cell_type": "code",
   "execution_count": null,
   "metadata": {},
   "outputs": [],
   "source": [
    "LUTfile = '%s/notebooks/ts_config_mttcs/MTHexapod/v1/default.yaml'%(os.environ[\"HOME\"])\n",
    "with open(LUTfile, 'r') as stream:\n",
    "    aa = yaml.safe_load(stream)\n",
    "if r.mthex.salinfo.sal_name == CAMERA_HEXAPOD:\n",
    "    elevCoeff = aa['camera_config']['elevation_coeffs']\n",
    "    tCoeff = aa['camera_config']['temperature_coeffs']\n",
    "elif r.mthex.salinfo.sal_name == M2_HEXAPOD:\n",
    "    elevCoeff = aa['m2_config']['elevation_coeffs']\n",
    "    tCoeff = aa['m2_config']['temperature_coeffs']"
   ]
  },
  {
   "cell_type": "code",
   "execution_count": null,
   "metadata": {},
   "outputs": [],
   "source": [
    "async def printPredictedComp(elevCoeff, elev):\n",
    "    '''\n",
    "    This function deals with the elevation component of the LUT only, for now.\n",
    "    We will add temperature, azimuth, and rotator angle when they are implemented.\n",
    "    '''\n",
    "    pred = []\n",
    "    print('Predicted LUT compensation:')\n",
    "    for i in range(6):\n",
    "        coeff = elevCoeff[i] #starts with C0\n",
    "        mypoly = np.polynomial.Polynomial(coeff)\n",
    "        pred.append(mypoly(elev))\n",
    "    print(\" \".join(f\"{p:10.2f}\" for p in pred))\n",
    "await printPredictedComp(elevCoeff, elevationFixed)\n",
    "await printUncompensatedAndCompensated(hex)"
   ]
  },
  {
   "cell_type": "markdown",
   "metadata": {},
   "source": [
    "### Do a slew, then check the LUT again"
   ]
  },
  {
   "cell_type": "code",
   "execution_count": null,
   "metadata": {},
   "outputs": [],
   "source": [
    "location = EarthLocation.from_geodetic(lon=-70.747698*u.deg,\n",
    "                                       lat=-30.244728*u.deg,\n",
    "                                       height=2663.0*u.m)\n",
    "print(\"Current elevation angle = \", elev)"
   ]
  },
  {
   "cell_type": "code",
   "execution_count": null,
   "metadata": {},
   "outputs": [],
   "source": [
    "now = datetime.now()\n",
    "print(\"Start to point the telescope\", now)\n",
    "\n",
    "alt = 80. * u.deg\n",
    "az = 0. * u.deg\n",
    "rot_tel = Angle(0, unit= u.deg) "
   ]
  },
  {
   "cell_type": "code",
   "execution_count": null,
   "metadata": {},
   "outputs": [],
   "source": [
    "target_name=\"TMA motion test\"\n",
    "time_data = await mtptg.tel_timeAndDate.next(flush=True, timeout=2)\n",
    "curr_time_ptg = Time(time_data.mjd, format=\"mjd\", scale=\"tai\")\n",
    "time_err = curr_time_ptg - Time.now()\n",
    "print(f\"Time error={time_err.sec:0.2f} sec\")\n",
    "\n",
    "print(curr_time_ptg.tai.value)\n",
    "\n",
    "cmd_elaz = AltAz(alt=alt, az=az, \n",
    "                obstime=curr_time_ptg.tai, \n",
    "                location=location)\n",
    "cmd_radec = cmd_elaz.transform_to(ICRS)\n",
    "# Calculating the other parameters     \n",
    "rot_pa = rot_tel"
   ]
  },
  {
   "cell_type": "code",
   "execution_count": null,
   "metadata": {},
   "outputs": [],
   "source": [
    "#Consider to make this simpler by just track in el/az using azElTarget!\n",
    "#The pointing component is commanding the mount directly\n",
    "ack = await mtptg.cmd_raDecTarget.set_start(\n",
    "    targetName=target_name,\n",
    "    frame=MTPtg.CoordFrame.ICRS,\n",
    "    epoch=2000,  # should be ignored: no parallax or proper motion\n",
    "    equinox=2000,  # should be ignored for ICRS\n",
    "    ra=cmd_radec.ra.hour,\n",
    "    declination=cmd_radec.dec.deg,\n",
    "    parallax=0,\n",
    "    pmRA=0,\n",
    "    pmDec=0,\n",
    "    rv=0,\n",
    "    dRA=0,\n",
    "    dDec=0,\n",
    "    trackId=9999,\n",
    "    rotAngle=15.0,\n",
    "    rotStartFrame=MTPtg.RotFrame.FIXED,\n",
    "    rotTrackFrame=MTPtg.RotFrame.FIXED,\n",
    "    rotMode=MTPtg.RotMode.FIELD,\n",
    "    azWrapStrategy=2,\n",
    "    timeOnTarget=30,\n",
    "    timeout=10\n",
    ")\n",
    "\n",
    "print(\" Now, Waiting 30s\")\n",
    "await asyncio.sleep(30.)\n",
    "print(\"System Ready\")"
   ]
  },
  {
   "cell_type": "code",
   "execution_count": null,
   "metadata": {},
   "outputs": [],
   "source": [
    "mountStatus = await mtm.evt_axesInPosition.aget(timeout=5.)\n",
    "rotStatus = await mtrot.evt_inPosition.aget(timeout=5.)\n",
    "print('Are we tracking?', mountStatus.elevation , mountStatus.azimuth , rotStatus.inPosition)"
   ]
  },
  {
   "cell_type": "code",
   "execution_count": null,
   "metadata": {},
   "outputs": [],
   "source": [
    "await mtptg.cmd_stopTracking.set_start(timeout=5.)"
   ]
  },
  {
   "cell_type": "markdown",
   "metadata": {},
   "source": [
    "### check angle and LUT after the slew"
   ]
  },
  {
   "cell_type": "code",
   "execution_count": null,
   "metadata": {},
   "outputs": [],
   "source": [
    "mountAngle = await mount.tel_elevation.aget(timeout=10.)\n",
    "print(\"mount elevation angle\", mountAngle.actualPosition)\n",
    "elev = mountAngle.actualPosition"
   ]
  },
  {
   "cell_type": "code",
   "execution_count": null,
   "metadata": {},
   "outputs": [],
   "source": [
    "await printPosition(hex)\n",
    "await printUncompensatedAndCompensated(hex)\n",
    "await printPredictedComp(elevCoeff, elev)"
   ]
  },
  {
   "cell_type": "markdown",
   "metadata": {},
   "source": [
    "### Check if the telescope is in tracking mode. If yes, need to stop stacking. \n",
    "The alternative is to check \"MT Mount status\" dash board on Chronograf. Make sure there are three \"False\"."
   ]
  },
  {
   "cell_type": "code",
   "execution_count": null,
   "metadata": {},
   "outputs": [],
   "source": [
    "mountStatus = mount.evt_axesInPosition.get\n",
    "rotStatus = rot.evt_inPosition.get\n",
    "trackingStatus = mountStatus.elevation and mountStatus.azimuth and rotStatus.inPosition\n",
    "print('Are we tracking?', trackingStatus)"
   ]
  },
  {
   "cell_type": "code",
   "execution_count": null,
   "metadata": {},
   "outputs": [],
   "source": [
    "await ptg.cmd_stopTracking.set_start(timeout=5.)"
   ]
  },
  {
   "cell_type": "code",
   "execution_count": null,
   "metadata": {},
   "outputs": [],
   "source": [
    "#Stop the MTMount controller\n",
    "await mount.close()"
   ]
  },
  {
   "cell_type": "code",
   "execution_count": null,
   "metadata": {},
   "outputs": [],
   "source": []
  }
 ],
 "metadata": {
  "kernelspec": {
   "display_name": "LSST",
   "language": "python",
   "name": "lsst"
  },
  "language_info": {
   "codemirror_mode": {
    "name": "ipython",
    "version": 3
   },
   "file_extension": ".py",
   "mimetype": "text/x-python",
   "name": "python",
   "nbconvert_exporter": "python",
   "pygments_lexer": "ipython3",
   "version": "3.8.8"
  }
 },
 "nbformat": 4,
 "nbformat_minor": 4
}
