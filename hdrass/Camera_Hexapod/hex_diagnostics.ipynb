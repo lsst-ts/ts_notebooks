{
 "cells": [
  {
   "cell_type": "markdown",
   "metadata": {},
   "source": [
    "## This notebook check the hexapod state transitions and move/offset commands\n",
    "## It also checks the LUT against the input polynomials, before and after a slew\n",
    "\n",
    "This notebook works with both hexapods.\n",
    "\n",
    "To switch between the hexapods, change the cell below."
   ]
  },
  {
   "cell_type": "code",
   "execution_count": 33,
   "metadata": {},
   "outputs": [],
   "source": [
    "from lsst.ts import salobj\n",
    "import asyncio\n",
    "import os\n",
    "import yaml\n",
    "\n",
    "import numpy as np\n",
    "from matplotlib import pyplot as plt\n",
    "from astropy.time import Time\n",
    "from datetime import datetime, timedelta\n",
    "import pandas as pd\n",
    "\n",
    "from lsst.ts.idl.enums import MTPtg\n",
    "from astropy.coordinates import AltAz, ICRS, EarthLocation, Angle, FK5\n",
    "import astropy.units as u\n",
    "\n",
    "from lsst_efd_client import EfdClient"
   ]
  },
  {
   "cell_type": "code",
   "execution_count": 2,
   "metadata": {},
   "outputs": [],
   "source": [
    "hexIdx = 1 #camera hexapod\n",
    "#hexIdx = 2 #M2 hexapod"
   ]
  },
  {
   "cell_type": "code",
   "execution_count": 3,
   "metadata": {},
   "outputs": [
    {
     "name": "stdout",
     "output_type": "stream",
     "text": [
      "file:///home/hdrass/WORK/ts_ddsconfig/config/ospl-shmem.xml\n"
     ]
    }
   ],
   "source": [
    "import os\n",
    "print(os.environ[\"OSPL_URI\"])\n",
    "if os.environ.get(\"LSST_DDS_ALIGNER\", \"false\") != \"false\":\n",
    "    print(\"LSST_DDS_ALIGNER is mis-configured\")"
   ]
  },
  {
   "cell_type": "code",
   "execution_count": 4,
   "metadata": {},
   "outputs": [],
   "source": [
    "start_time = datetime.now()\n",
    "script = salobj.Controller(\"Script\", index=42658887)\n",
    "\n",
    "#wait 10 second may help with DDS problems; closing all other kernels may help too\n",
    "#This is to avoid a race condition between when the domain register the master and the readers are registered.\n",
    "#await asyncio.sleep(25) "
   ]
  },
  {
   "cell_type": "code",
   "execution_count": 5,
   "metadata": {},
   "outputs": [],
   "source": [
    "#Only needed wht doing a test with the telescope slewing\n",
    "#ptg = salobj.Remote(script.domain, \"MTPtg\")"
   ]
  },
  {
   "cell_type": "code",
   "execution_count": 6,
   "metadata": {
    "scrolled": true
   },
   "outputs": [],
   "source": [
    " hex = salobj.Remote(script.domain, \"MTHexapod\", index=hexIdx) #1 for camera hexapod and 2 for m2 hexapod"
   ]
  },
  {
   "cell_type": "code",
   "execution_count": 7,
   "metadata": {},
   "outputs": [],
   "source": [
    "#mount = salobj.Remote(script.domain, \"MTMount\")"
   ]
  },
  {
   "cell_type": "code",
   "execution_count": 8,
   "metadata": {},
   "outputs": [],
   "source": [
    "#Start a controller instead of the Mount simulator\n",
    "#mount = salobj.Controller(name=\"MTMount\", index=0)"
   ]
  },
  {
   "cell_type": "code",
   "execution_count": 9,
   "metadata": {
    "scrolled": true
   },
   "outputs": [
    {
     "name": "stdout",
     "output_type": "stream",
     "text": [
      "time to start is 0:00:13.007572 [s]\n"
     ]
    },
    {
     "name": "stderr",
     "output_type": "stream",
     "text": [
      "rotation DDS read queue is full (100 elements); data may be lost\n",
      "motors DDS read queue is full (100 elements); data may be lost\n",
      "electrical DDS read queue is full (100 elements); data may be lost\n",
      "ccwFollowingError DDS read queue is full (100 elements); data may be lost\n",
      "ccwFollowingError DDS read queue is filling: 46 of 100 elements\n",
      "rotation DDS read queue is filling: 64 of 100 elements\n",
      "ccwFollowingError DDS read queue is full (100 elements); data may be lost\n",
      "ccwFollowingError DDS read queue is filling: 64 of 100 elements\n",
      "ccwFollowingError DDS read queue is filling: 17 of 100 elements\n",
      "ccwFollowingError DDS read queue is filling: 17 of 100 elements\n",
      "rotation DDS read queue is filling: 57 of 100 elements\n",
      "ccwFollowingError DDS read queue is filling: 64 of 100 elements\n",
      "rotation DDS read queue is filling: 64 of 100 elements\n",
      "ccwFollowingError DDS read queue is filling: 13 of 100 elements\n",
      "ccwFollowingError DDS read queue is filling: 11 of 100 elements\n",
      "ccwFollowingError DDS read queue is filling: 51 of 100 elements\n",
      "electrical DDS read queue is full (100 elements); data may be lost\n",
      "ccwFollowingError DDS read queue is full (100 elements); data may be lost\n",
      "rotation DDS read queue is full (100 elements); data may be lost\n",
      "motors DDS read queue is full (100 elements); data may be lost\n",
      "ccwFollowingError DDS read queue is filling: 21 of 100 elements\n",
      "ccwFollowingError DDS read queue is filling: 20 of 100 elements\n",
      "ccwFollowingError DDS read queue is filling: 12 of 100 elements\n",
      "rotation DDS read queue is filling: 64 of 100 elements\n",
      "ccwFollowingError DDS read queue is filling: 19 of 100 elements\n",
      "ccwFollowingError DDS read queue is filling: 13 of 100 elements\n",
      "rotation DDS read queue is filling: 64 of 100 elements\n",
      "ccwFollowingError DDS read queue is filling: 12 of 100 elements\n",
      "ccwFollowingError DDS read queue is filling: 50 of 100 elements\n",
      "ccwFollowingError DDS read queue is filling: 21 of 100 elements\n",
      "ccwFollowingError DDS read queue is full (100 elements); data may be lost\n",
      "rotation DDS read queue is filling: 10 of 100 elements\n",
      "rotation DDS read queue is filling: 53 of 100 elements\n",
      "rotation DDS read queue is filling: 14 of 100 elements\n",
      "rotation DDS read queue is filling: 64 of 100 elements\n",
      "rotation DDS read queue is full (100 elements); data may be lost\n",
      "rotation DDS read queue is filling: 20 of 100 elements\n",
      "rotation DDS read queue is filling: 14 of 100 elements\n",
      "rotation DDS read queue is filling: 15 of 100 elements\n",
      "rotation DDS read queue is filling: 17 of 100 elements\n",
      "motors DDS read queue is filling: 57 of 100 elements\n",
      "rotation DDS read queue is filling: 13 of 100 elements\n",
      "rotation DDS read queue is filling: 14 of 100 elements\n",
      "electrical DDS read queue is filling: 64 of 100 elements\n",
      "rotation DDS read queue is filling: 19 of 100 elements\n",
      "rotation DDS read queue is filling: 30 of 100 elements\n",
      "rotation DDS read queue is filling: 17 of 100 elements\n",
      "rotation DDS read queue is filling: 17 of 100 elements\n",
      "electrical DDS read queue is filling: 55 of 100 elements\n",
      "rotation DDS read queue is filling: 13 of 100 elements\n",
      "electrical DDS read queue is filling: 64 of 100 elements\n",
      "rotation DDS read queue is filling: 12 of 100 elements\n",
      "rotation DDS read queue is filling: 29 of 100 elements\n",
      "rotation DDS read queue is filling: 64 of 100 elements\n",
      "rotation DDS read queue is filling: 10 of 100 elements\n",
      "rotation DDS read queue is filling: 52 of 100 elements\n",
      "rotation DDS read queue is filling: 20 of 100 elements\n",
      "rotation DDS read queue is filling: 15 of 100 elements\n",
      "rotation DDS read queue is filling: 14 of 100 elements\n",
      "rotation DDS read queue is filling: 12 of 100 elements\n",
      "rotation DDS read queue is filling: 50 of 100 elements\n",
      "rotation DDS read queue is filling: 21 of 100 elements\n",
      "rotation DDS read queue is filling: 16 of 100 elements\n",
      "rotation DDS read queue is filling: 10 of 100 elements\n",
      "rotation DDS read queue is filling: 53 of 100 elements\n",
      "rotation DDS read queue is filling: 14 of 100 elements\n",
      "rotation DDS read queue is filling: 14 of 100 elements\n",
      "rotation DDS read queue is filling: 11 of 100 elements\n",
      "rotation DDS read queue is filling: 51 of 100 elements\n",
      "rotation DDS read queue is filling: 20 of 100 elements\n",
      "rotation DDS read queue is filling: 10 of 100 elements\n",
      "rotation DDS read queue is filling: 52 of 100 elements\n",
      "rotation DDS read queue is filling: 15 of 100 elements\n",
      "rotation DDS read queue is filling: 14 of 100 elements\n",
      "rotation DDS read queue is filling: 14 of 100 elements\n",
      "rotation DDS read queue is filling: 12 of 100 elements\n",
      "rotation DDS read queue is filling: 50 of 100 elements\n",
      "rotation DDS read queue is filling: 11 of 100 elements\n",
      "rotation DDS read queue is filling: 51 of 100 elements\n",
      "rotation DDS read queue is filling: 14 of 100 elements\n",
      "rotation DDS read queue is filling: 16 of 100 elements\n",
      "rotation DDS read queue is filling: 12 of 100 elements\n",
      "rotation DDS read queue is filling: 17 of 100 elements\n",
      "rotation DDS read queue is filling: 11 of 100 elements\n",
      "rotation DDS read queue is filling: 51 of 100 elements\n",
      "rotation DDS read queue is filling: 13 of 100 elements\n",
      "rotation DDS read queue is filling: 50 of 100 elements\n",
      "rotation DDS read queue is filling: 10 of 100 elements\n",
      "rotation DDS read queue is filling: 50 of 100 elements\n",
      "rotation DDS read queue is filling: 15 of 100 elements\n",
      "rotation DDS read queue is filling: 19 of 100 elements\n",
      "rotation DDS read queue is filling: 14 of 100 elements\n",
      "rotation DDS read queue is filling: 15 of 100 elements\n",
      "rotation DDS read queue is filling: 10 of 100 elements\n",
      "rotation DDS read queue is filling: 51 of 100 elements\n",
      "rotation DDS read queue is filling: 12 of 100 elements\n",
      "rotation DDS read queue is filling: 50 of 100 elements\n",
      "rotation DDS read queue is filling: 11 of 100 elements\n",
      "rotation DDS read queue is filling: 15 of 100 elements\n",
      "rotation DDS read queue is filling: 13 of 100 elements\n",
      "rotation DDS read queue is filling: 10 of 100 elements\n",
      "rotation DDS read queue is filling: 52 of 100 elements\n",
      "rotation DDS read queue is filling: 19 of 100 elements\n",
      "rotation DDS read queue is filling: 11 of 100 elements\n",
      "rotation DDS read queue is filling: 10 of 100 elements\n",
      "rotation DDS read queue is filling: 52 of 100 elements\n",
      "rotation DDS read queue is filling: 59 of 100 elements\n",
      "rotation DDS read queue is filling: 22 of 100 elements\n",
      "rotation DDS read queue is filling: 10 of 100 elements\n",
      "rotation DDS read queue is filling: 52 of 100 elements\n",
      "rotation DDS read queue is filling: 28 of 100 elements\n",
      "rotation DDS read queue is filling: 24 of 100 elements\n",
      "rotation DDS read queue is filling: 13 of 100 elements\n",
      "rotation DDS read queue is filling: 14 of 100 elements\n",
      "rotation DDS read queue is filling: 22 of 100 elements\n",
      "rotation DDS read queue is filling: 20 of 100 elements\n",
      "rotation DDS read queue is filling: 12 of 100 elements\n",
      "rotation DDS read queue is filling: 50 of 100 elements\n",
      "rotation DDS read queue is filling: 20 of 100 elements\n",
      "rotation DDS read queue is filling: 16 of 100 elements\n",
      "rotation DDS read queue is filling: 14 of 100 elements\n",
      "rotation DDS read queue is filling: 11 of 100 elements\n",
      "rotation DDS read queue is filling: 51 of 100 elements\n",
      "rotation DDS read queue is filling: 21 of 100 elements\n",
      "rotation DDS read queue is filling: 11 of 100 elements\n",
      "rotation DDS read queue is filling: 12 of 100 elements\n",
      "rotation DDS read queue is filling: 50 of 100 elements\n",
      "rotation DDS read queue is filling: 17 of 100 elements\n",
      "rotation DDS read queue is filling: 16 of 100 elements\n",
      "rotation DDS read queue is filling: 10 of 100 elements\n",
      "rotation DDS read queue is filling: 51 of 100 elements\n",
      "rotation DDS read queue is filling: 21 of 100 elements\n",
      "rotation DDS read queue is filling: 11 of 100 elements\n",
      "rotation DDS read queue is filling: 51 of 100 elements\n",
      "rotation DDS read queue is filling: 10 of 100 elements\n",
      "rotation DDS read queue is filling: 52 of 100 elements\n",
      "rotation DDS read queue is filling: 10 of 100 elements\n",
      "rotation DDS read queue is filling: 53 of 100 elements\n",
      "rotation DDS read queue is filling: 35 of 100 elements\n",
      "rotation DDS read queue is filling: 11 of 100 elements\n",
      "rotation DDS read queue is filling: 51 of 100 elements\n",
      "rotation DDS read queue is filling: 15 of 100 elements\n",
      "rotation DDS read queue is filling: 14 of 100 elements\n",
      "rotation DDS read queue is filling: 10 of 100 elements\n",
      "rotation DDS read queue is filling: 52 of 100 elements\n",
      "rotation DDS read queue is filling: 18 of 100 elements\n",
      "rotation DDS read queue is filling: 12 of 100 elements\n",
      "rotation DDS read queue is filling: 22 of 100 elements\n",
      "rotation DDS read queue is filling: 17 of 100 elements\n",
      "rotation DDS read queue is filling: 10 of 100 elements\n",
      "rotation DDS read queue is filling: 52 of 100 elements\n",
      "rotation DDS read queue is filling: 17 of 100 elements\n",
      "rotation DDS read queue is filling: 19 of 100 elements\n",
      "rotation DDS read queue is filling: 12 of 100 elements\n",
      "rotation DDS read queue is filling: 19 of 100 elements\n",
      "rotation DDS read queue is filling: 11 of 100 elements\n",
      "rotation DDS read queue is filling: 51 of 100 elements\n",
      "rotation DDS read queue is filling: 14 of 100 elements\n",
      "rotation DDS read queue is filling: 15 of 100 elements\n",
      "rotation DDS read queue is filling: 10 of 100 elements\n",
      "rotation DDS read queue is filling: 52 of 100 elements\n",
      "rotation DDS read queue is filling: 16 of 100 elements\n",
      "rotation DDS read queue is filling: 24 of 100 elements\n",
      "rotation DDS read queue is filling: 13 of 100 elements\n",
      "rotation DDS read queue is filling: 17 of 100 elements\n",
      "rotation DDS read queue is filling: 20 of 100 elements\n",
      "electrical DDS read queue is filling: 12 of 100 elements\n",
      "electrical DDS read queue is filling: 50 of 100 elements\n",
      "electrical DDS read queue is filling: 15 of 100 elements\n",
      "electrical DDS read queue is filling: 13 of 100 elements\n",
      "electrical DDS read queue is filling: 26 of 100 elements\n",
      "electrical DDS read queue is filling: 19 of 100 elements\n",
      "electrical DDS read queue is filling: 19 of 100 elements\n",
      "electrical DDS read queue is filling: 11 of 100 elements\n",
      "electrical DDS read queue is filling: 51 of 100 elements\n",
      "electrical DDS read queue is filling: 14 of 100 elements\n",
      "electrical DDS read queue is filling: 25 of 100 elements\n",
      "electrical DDS read queue is filling: 15 of 100 elements\n",
      "electrical DDS read queue is filling: 25 of 100 elements\n",
      "electrical DDS read queue is filling: 27 of 100 elements\n",
      "electrical DDS read queue is filling: 10 of 100 elements\n",
      "electrical DDS read queue is filling: 52 of 100 elements\n",
      "electrical DDS read queue is filling: 58 of 100 elements\n",
      "electrical DDS read queue is filling: 13 of 100 elements\n",
      "electrical DDS read queue is filling: 50 of 100 elements\n",
      "electrical DDS read queue is filling: 14 of 100 elements\n",
      "electrical DDS read queue is filling: 31 of 100 elements\n",
      "electrical DDS read queue is filling: 26 of 100 elements\n",
      "electrical DDS read queue is filling: 30 of 100 elements\n",
      "electrical DDS read queue is filling: 31 of 100 elements\n",
      "electrical DDS read queue is filling: 13 of 100 elements\n",
      "electrical DDS read queue is filling: 15 of 100 elements\n",
      "electrical DDS read queue is filling: 33 of 100 elements\n",
      "electrical DDS read queue is filling: 15 of 100 elements\n",
      "electrical DDS read queue is filling: 22 of 100 elements\n",
      "electrical DDS read queue is filling: 13 of 100 elements\n",
      "electrical DDS read queue is filling: 50 of 100 elements\n",
      "electrical DDS read queue is filling: 20 of 100 elements\n",
      "electrical DDS read queue is filling: 22 of 100 elements\n",
      "electrical DDS read queue is filling: 15 of 100 elements\n",
      "electrical DDS read queue is filling: 11 of 100 elements\n",
      "electrical DDS read queue is filling: 51 of 100 elements\n",
      "electrical DDS read queue is filling: 53 of 100 elements\n",
      "electrical DDS read queue is filling: 12 of 100 elements\n",
      "electrical DDS read queue is filling: 50 of 100 elements\n",
      "electrical DDS read queue is filling: 33 of 100 elements\n",
      "electrical DDS read queue is filling: 12 of 100 elements\n",
      "electrical DDS read queue is filling: 50 of 100 elements\n",
      "electrical DDS read queue is filling: 17 of 100 elements\n",
      "electrical DDS read queue is filling: 18 of 100 elements\n",
      "electrical DDS read queue is filling: 11 of 100 elements\n",
      "electrical DDS read queue is filling: 52 of 100 elements\n",
      "electrical DDS read queue is filling: 15 of 100 elements\n",
      "electrical DDS read queue is filling: 33 of 100 elements\n",
      "electrical DDS read queue is filling: 27 of 100 elements\n",
      "electrical DDS read queue is filling: 23 of 100 elements\n",
      "electrical DDS read queue is filling: 26 of 100 elements\n",
      "electrical DDS read queue is filling: 21 of 100 elements\n",
      "electrical DDS read queue is filling: 15 of 100 elements\n",
      "electrical DDS read queue is filling: 26 of 100 elements\n",
      "electrical DDS read queue is filling: 13 of 100 elements\n",
      "electrical DDS read queue is filling: 24 of 100 elements\n",
      "electrical DDS read queue is filling: 15 of 100 elements\n",
      "electrical DDS read queue is filling: 30 of 100 elements\n",
      "electrical DDS read queue is filling: 34 of 100 elements\n",
      "electrical DDS read queue is filling: 43 of 100 elements\n",
      "electrical DDS read queue is filling: 24 of 100 elements\n",
      "electrical DDS read queue is filling: 11 of 100 elements\n",
      "electrical DDS read queue is filling: 50 of 100 elements\n",
      "electrical DDS read queue is filling: 20 of 100 elements\n",
      "electrical DDS read queue is filling: 28 of 100 elements\n",
      "electrical DDS read queue is filling: 12 of 100 elements\n",
      "electrical DDS read queue is filling: 50 of 100 elements\n",
      "electrical DDS read queue is filling: 16 of 100 elements\n",
      "electrical DDS read queue is filling: 12 of 100 elements\n",
      "electrical DDS read queue is filling: 37 of 100 elements\n",
      "electrical DDS read queue is filling: 19 of 100 elements\n",
      "electrical DDS read queue is filling: 57 of 100 elements\n",
      "electrical DDS read queue is filling: 41 of 100 elements\n",
      "electrical DDS read queue is filling: 29 of 100 elements\n",
      "electrical DDS read queue is filling: 17 of 100 elements\n",
      "electrical DDS read queue is filling: 27 of 100 elements\n",
      "electrical DDS read queue is filling: 27 of 100 elements\n",
      "electrical DDS read queue is filling: 19 of 100 elements\n",
      "electrical DDS read queue is filling: 28 of 100 elements\n",
      "electrical DDS read queue is filling: 14 of 100 elements\n",
      "electrical DDS read queue is filling: 14 of 100 elements\n",
      "electrical DDS read queue is filling: 39 of 100 elements\n",
      "electrical DDS read queue is filling: 45 of 100 elements\n",
      "electrical DDS read queue is filling: 24 of 100 elements\n",
      "electrical DDS read queue is filling: 53 of 100 elements\n",
      "electrical DDS read queue is filling: 13 of 100 elements\n",
      "electrical DDS read queue is filling: 32 of 100 elements\n",
      "electrical DDS read queue is filling: 51 of 100 elements\n",
      "electrical DDS read queue is filling: 19 of 100 elements\n",
      "electrical DDS read queue is filling: 25 of 100 elements\n",
      "electrical DDS read queue is filling: 29 of 100 elements\n",
      "electrical DDS read queue is filling: 22 of 100 elements\n",
      "electrical DDS read queue is filling: 33 of 100 elements\n",
      "electrical DDS read queue is filling: 47 of 100 elements\n",
      "electrical DDS read queue is filling: 34 of 100 elements\n",
      "electrical DDS read queue is filling: 57 of 100 elements\n",
      "electrical DDS read queue is filling: 58 of 100 elements\n",
      "electrical DDS read queue is filling: 28 of 100 elements\n",
      "electrical DDS read queue is filling: 15 of 100 elements\n",
      "electrical DDS read queue is filling: 42 of 100 elements\n",
      "electrical DDS read queue is filling: 19 of 100 elements\n",
      "electrical DDS read queue is filling: 44 of 100 elements\n",
      "electrical DDS read queue is filling: 52 of 100 elements\n",
      "electrical DDS read queue is filling: 53 of 100 elements\n",
      "electrical DDS read queue is filling: 44 of 100 elements\n",
      "electrical DDS read queue is filling: 15 of 100 elements\n",
      "electrical DDS read queue is filling: 10 of 100 elements\n",
      "electrical DDS read queue is filling: 52 of 100 elements\n",
      "electrical DDS read queue is filling: 14 of 100 elements\n",
      "electrical DDS read queue is filling: 10 of 100 elements\n",
      "electrical DDS read queue is filling: 51 of 100 elements\n",
      "electrical DDS read queue is filling: 13 of 100 elements\n",
      "electrical DDS read queue is filling: 13 of 100 elements\n",
      "electrical DDS read queue is filling: 30 of 100 elements\n",
      "electrical DDS read queue is filling: 13 of 100 elements\n",
      "electrical DDS read queue is filling: 19 of 100 elements\n",
      "electrical DDS read queue is filling: 20 of 100 elements\n",
      "electrical DDS read queue is filling: 21 of 100 elements\n",
      "electrical DDS read queue is filling: 23 of 100 elements\n",
      "electrical DDS read queue is filling: 53 of 100 elements\n",
      "electrical DDS read queue is filling: 26 of 100 elements\n",
      "electrical DDS read queue is filling: 14 of 100 elements\n",
      "electrical DDS read queue is filling: 27 of 100 elements\n",
      "electrical DDS read queue is filling: 27 of 100 elements\n",
      "electrical DDS read queue is filling: 10 of 100 elements\n",
      "electrical DDS read queue is filling: 52 of 100 elements\n",
      "electrical DDS read queue is filling: 12 of 100 elements\n",
      "electrical DDS read queue is filling: 51 of 100 elements\n",
      "electrical DDS read queue is filling: 41 of 100 elements\n",
      "electrical DDS read queue is filling: 14 of 100 elements\n",
      "electrical DDS read queue is filling: 13 of 100 elements\n",
      "electrical DDS read queue is filling: 33 of 100 elements\n",
      "electrical DDS read queue is filling: 13 of 100 elements\n",
      "electrical DDS read queue is filling: 24 of 100 elements\n",
      "electrical DDS read queue is filling: 34 of 100 elements\n",
      "electrical DDS read queue is filling: 22 of 100 elements\n",
      "electrical DDS read queue is filling: 22 of 100 elements\n",
      "electrical DDS read queue is filling: 13 of 100 elements\n",
      "electrical DDS read queue is filling: 19 of 100 elements\n",
      "electrical DDS read queue is filling: 25 of 100 elements\n",
      "electrical DDS read queue is filling: 17 of 100 elements\n",
      "electrical DDS read queue is filling: 22 of 100 elements\n",
      "electrical DDS read queue is filling: 33 of 100 elements\n",
      "electrical DDS read queue is filling: 16 of 100 elements\n",
      "electrical DDS read queue is filling: 15 of 100 elements\n",
      "electrical DDS read queue is filling: 13 of 100 elements\n",
      "electrical DDS read queue is filling: 13 of 100 elements\n",
      "electrical DDS read queue is filling: 20 of 100 elements\n",
      "electrical DDS read queue is filling: 26 of 100 elements\n",
      "electrical DDS read queue is filling: 15 of 100 elements\n",
      "electrical DDS read queue is filling: 19 of 100 elements\n",
      "electrical DDS read queue is filling: 29 of 100 elements\n",
      "electrical DDS read queue is filling: 53 of 100 elements\n",
      "electrical DDS read queue is filling: 21 of 100 elements\n",
      "electrical DDS read queue is filling: 23 of 100 elements\n",
      "electrical DDS read queue is filling: 22 of 100 elements\n",
      "electrical DDS read queue is filling: 22 of 100 elements\n",
      "electrical DDS read queue is filling: 24 of 100 elements\n",
      "electrical DDS read queue is filling: 18 of 100 elements\n",
      "electrical DDS read queue is filling: 25 of 100 elements\n",
      "electrical DDS read queue is filling: 21 of 100 elements\n",
      "electrical DDS read queue is filling: 14 of 100 elements\n",
      "electrical DDS read queue is filling: 18 of 100 elements\n",
      "electrical DDS read queue is filling: 16 of 100 elements\n",
      "electrical DDS read queue is filling: 27 of 100 elements\n",
      "electrical DDS read queue is filling: 27 of 100 elements\n",
      "electrical DDS read queue is filling: 11 of 100 elements\n",
      "electrical DDS read queue is filling: 51 of 100 elements\n",
      "electrical DDS read queue is filling: 24 of 100 elements\n",
      "electrical DDS read queue is filling: 19 of 100 elements\n",
      "electrical DDS read queue is filling: 22 of 100 elements\n",
      "electrical DDS read queue is filling: 16 of 100 elements\n",
      "electrical DDS read queue is filling: 31 of 100 elements\n",
      "electrical DDS read queue is filling: 20 of 100 elements\n",
      "electrical DDS read queue is filling: 15 of 100 elements\n",
      "electrical DDS read queue is filling: 21 of 100 elements\n",
      "electrical DDS read queue is filling: 27 of 100 elements\n",
      "electrical DDS read queue is filling: 17 of 100 elements\n",
      "electrical DDS read queue is filling: 18 of 100 elements\n",
      "electrical DDS read queue is filling: 86 of 100 elements\n"
     ]
    }
   ],
   "source": [
    "rot = salobj.Remote(script.domain, \"MTRotator\")\n",
    "print(f'time to start is {datetime.now() - start_time} [s]')"
   ]
  },
  {
   "cell_type": "code",
   "execution_count": 10,
   "metadata": {},
   "outputs": [
    {
     "data": {
      "text/plain": [
       "[None, None, None]"
      ]
     },
     "execution_count": 10,
     "metadata": {},
     "output_type": "execute_result"
    }
   ],
   "source": [
    "await asyncio.gather(#ptg.start_task,#mount.start_task,\n",
    "                     script.start_task, #                     \n",
    "                     rot.start_task,\n",
    "                     hex.start_task)"
   ]
  },
  {
   "cell_type": "code",
   "execution_count": 11,
   "metadata": {},
   "outputs": [],
   "source": [
    "#This only works on domain 0\n",
    "#await ptg.start_task"
   ]
  },
  {
   "cell_type": "code",
   "execution_count": 12,
   "metadata": {},
   "outputs": [
    {
     "data": {
      "text/plain": [
       "<ddsutil.MTHexapod_logevent_heartbeat_8799b696 at 0x7fc138795ca0>"
      ]
     },
     "execution_count": 12,
     "metadata": {},
     "output_type": "execute_result"
    }
   ],
   "source": [
    "#As long as you get something its OK. we dont' care about h.heartbeat\n",
    "await hex.evt_heartbeat.next(flush=True, timeout=5)"
   ]
  },
  {
   "cell_type": "code",
   "execution_count": 13,
   "metadata": {},
   "outputs": [],
   "source": [
    "#This only works on domain 0\n",
    "#await ptg.evt_heartbeat.next(flush=True, timeout=5)"
   ]
  },
  {
   "cell_type": "code",
   "execution_count": 14,
   "metadata": {},
   "outputs": [
    {
     "data": {
      "text/plain": [
       "<ddsutil.MTRotator_logevent_heartbeat_3a397884 at 0x7fc1387839a0>"
      ]
     },
     "execution_count": 14,
     "metadata": {},
     "output_type": "execute_result"
    }
   ],
   "source": [
    "await rot.evt_heartbeat.next(flush=True, timeout=5)"
   ]
  },
  {
   "cell_type": "code",
   "execution_count": 15,
   "metadata": {},
   "outputs": [
    {
     "name": "stdout",
     "output_type": "stream",
     "text": [
      "pivot at (0, 0, -2758400) microns \n",
      "maxXY =  11400.0 microns, maxZ=  13100.0  microns\n",
      "maxUV =  0.36 deg, maxW=  0.1  deg\n"
     ]
    }
   ],
   "source": [
    "#Check some configurations\n",
    "hexConfig = await hex.evt_configuration.aget(timeout=10.)\n",
    "print(\"pivot at (%.0f, %.0f, %.0f) microns \"%(hexConfig.pivotX, hexConfig.pivotY, hexConfig.pivotZ))\n",
    "print(\"maxXY = \", hexConfig.maxXY, \"microns, maxZ= \", hexConfig.maxZ, \" microns\")\n",
    "print(\"maxUV = \", hexConfig.maxUV, \"deg, maxW= \", hexConfig.maxW, \" deg\")"
   ]
  },
  {
   "cell_type": "markdown",
   "metadata": {},
   "source": [
    "### test state transition. If hex is already enabled, disable then enable it."
   ]
  },
  {
   "cell_type": "code",
   "execution_count": null,
   "metadata": {},
   "outputs": [],
   "source": [
    "state = await hex.evt_summaryState.aget(timeout=5)\n",
    "print('staring with: hex state', salobj.State(state.summaryState), pd.to_datetime(state.private_sndStamp, unit='s'))\n",
    "if state.summaryState == 2:\n",
    "    await salobj.set_summary_state(hex, salobj.State.DISABLED) #disable hex"
   ]
  },
  {
   "cell_type": "code",
   "execution_count": null,
   "metadata": {},
   "outputs": [],
   "source": [
    "await salobj.set_summary_state(remote=hex, state=salobj.State.STANDBY)\n"
   ]
  },
  {
   "cell_type": "code",
   "execution_count": null,
   "metadata": {},
   "outputs": [],
   "source": [
    "await salobj.set_summary_state(remote=hex, state=salobj.State.DISABLED)"
   ]
  },
  {
   "cell_type": "code",
   "execution_count": null,
   "metadata": {},
   "outputs": [],
   "source": [
    "await salobj.set_summary_state(hex, salobj.State.ENABLED, settingsToApply=\"default\") #enable hex"
   ]
  },
  {
   "cell_type": "code",
   "execution_count": 16,
   "metadata": {},
   "outputs": [],
   "source": [
    "client = EfdClient('summit_efd')"
   ]
  },
  {
   "cell_type": "code",
   "execution_count": 17,
   "metadata": {},
   "outputs": [],
   "source": [
    "# the next line only work if information were sent to the EFD during the time spann \"timedelta\"!\n",
    "csc_index = 1\n",
    "end = Time(datetime.now(), scale='tai')\n",
    "start = end - timedelta(hours=6)\n",
    "while True: #may need to wait a few seconds before event shows up in EFD\n",
    "    dfe = await client.select_time_series('lsst.sal.MTHexapod.logevent_summaryState', '*', start, end, csc_index)\n",
    "    #dfe = await client.select_time_series('lsst.sal.MTMount.elevation', '*', start, end)\n",
    "    if len(dfe)>0:\n",
    "        break\n",
    "#to check messages in Kafka, go to https://lsst-kafka-0-nts-efd.ncsa.illinois.edu/\n",
    "#we cannot get time series data from DDS. We have to query the EFD"
   ]
  },
  {
   "cell_type": "code",
   "execution_count": 18,
   "metadata": {},
   "outputs": [
    {
     "data": {
      "text/html": [
       "<div>\n",
       "<style scoped>\n",
       "    .dataframe tbody tr th:only-of-type {\n",
       "        vertical-align: middle;\n",
       "    }\n",
       "\n",
       "    .dataframe tbody tr th {\n",
       "        vertical-align: top;\n",
       "    }\n",
       "\n",
       "    .dataframe thead th {\n",
       "        text-align: right;\n",
       "    }\n",
       "</style>\n",
       "<table border=\"1\" class=\"dataframe\">\n",
       "  <thead>\n",
       "    <tr style=\"text-align: right;\">\n",
       "      <th></th>\n",
       "      <th>MTHexapodID</th>\n",
       "      <th>priority</th>\n",
       "      <th>private_efdStamp</th>\n",
       "      <th>private_host</th>\n",
       "      <th>private_identity</th>\n",
       "      <th>private_kafkaStamp</th>\n",
       "      <th>private_origin</th>\n",
       "      <th>private_rcvStamp</th>\n",
       "      <th>private_revCode</th>\n",
       "      <th>private_seqNum</th>\n",
       "      <th>private_sndStamp</th>\n",
       "      <th>summaryState</th>\n",
       "    </tr>\n",
       "  </thead>\n",
       "  <tbody>\n",
       "    <tr>\n",
       "      <th>2021-07-01 13:28:05.102000+00:00</th>\n",
       "      <td>1</td>\n",
       "      <td>0</td>\n",
       "      <td>1.625146e+09</td>\n",
       "      <td>0</td>\n",
       "      <td>MTHexapod:1</td>\n",
       "      <td>1.625146e+09</td>\n",
       "      <td>7886</td>\n",
       "      <td>1.625146e+09</td>\n",
       "      <td>959a0a03</td>\n",
       "      <td>8</td>\n",
       "      <td>1.625146e+09</td>\n",
       "      <td>5</td>\n",
       "    </tr>\n",
       "    <tr>\n",
       "      <th>2021-07-01 13:28:10.408000+00:00</th>\n",
       "      <td>1</td>\n",
       "      <td>0</td>\n",
       "      <td>1.625146e+09</td>\n",
       "      <td>0</td>\n",
       "      <td>MTHexapod:1</td>\n",
       "      <td>1.625146e+09</td>\n",
       "      <td>7886</td>\n",
       "      <td>1.625146e+09</td>\n",
       "      <td>959a0a03</td>\n",
       "      <td>9</td>\n",
       "      <td>1.625146e+09</td>\n",
       "      <td>1</td>\n",
       "    </tr>\n",
       "    <tr>\n",
       "      <th>2021-07-01 13:28:15.273000+00:00</th>\n",
       "      <td>1</td>\n",
       "      <td>0</td>\n",
       "      <td>1.625146e+09</td>\n",
       "      <td>0</td>\n",
       "      <td>MTHexapod:1</td>\n",
       "      <td>1.625146e+09</td>\n",
       "      <td>7886</td>\n",
       "      <td>1.625146e+09</td>\n",
       "      <td>959a0a03</td>\n",
       "      <td>10</td>\n",
       "      <td>1.625146e+09</td>\n",
       "      <td>2</td>\n",
       "    </tr>\n",
       "    <tr>\n",
       "      <th>2021-07-01 15:15:56.233000+00:00</th>\n",
       "      <td>1</td>\n",
       "      <td>0</td>\n",
       "      <td>1.625153e+09</td>\n",
       "      <td>0</td>\n",
       "      <td>MTHexapod:1</td>\n",
       "      <td>1.625153e+09</td>\n",
       "      <td>7886</td>\n",
       "      <td>1.625153e+09</td>\n",
       "      <td>959a0a03</td>\n",
       "      <td>11</td>\n",
       "      <td>1.625153e+09</td>\n",
       "      <td>3</td>\n",
       "    </tr>\n",
       "    <tr>\n",
       "      <th>2021-07-01 15:20:28.507000+00:00</th>\n",
       "      <td>1</td>\n",
       "      <td>0</td>\n",
       "      <td>1.625153e+09</td>\n",
       "      <td>0</td>\n",
       "      <td>MTHexapod:1</td>\n",
       "      <td>1.625153e+09</td>\n",
       "      <td>7886</td>\n",
       "      <td>1.625153e+09</td>\n",
       "      <td>959a0a03</td>\n",
       "      <td>12</td>\n",
       "      <td>1.625153e+09</td>\n",
       "      <td>4</td>\n",
       "    </tr>\n",
       "    <tr>\n",
       "      <th>2021-07-01 15:21:32.407000+00:00</th>\n",
       "      <td>1</td>\n",
       "      <td>0</td>\n",
       "      <td>1.625153e+09</td>\n",
       "      <td>0</td>\n",
       "      <td>MTHexapod:1</td>\n",
       "      <td>1.625153e+09</td>\n",
       "      <td>7886</td>\n",
       "      <td>1.625153e+09</td>\n",
       "      <td>959a0a03</td>\n",
       "      <td>13</td>\n",
       "      <td>1.625153e+09</td>\n",
       "      <td>5</td>\n",
       "    </tr>\n",
       "    <tr>\n",
       "      <th>2021-07-01 15:21:36.591000+00:00</th>\n",
       "      <td>1</td>\n",
       "      <td>0</td>\n",
       "      <td>1.625153e+09</td>\n",
       "      <td>0</td>\n",
       "      <td>MTHexapod:1</td>\n",
       "      <td>1.625153e+09</td>\n",
       "      <td>7886</td>\n",
       "      <td>1.625153e+09</td>\n",
       "      <td>959a0a03</td>\n",
       "      <td>14</td>\n",
       "      <td>1.625153e+09</td>\n",
       "      <td>1</td>\n",
       "    </tr>\n",
       "    <tr>\n",
       "      <th>2021-07-01 15:21:40.776000+00:00</th>\n",
       "      <td>1</td>\n",
       "      <td>0</td>\n",
       "      <td>1.625153e+09</td>\n",
       "      <td>0</td>\n",
       "      <td>MTHexapod:1</td>\n",
       "      <td>1.625153e+09</td>\n",
       "      <td>7886</td>\n",
       "      <td>1.625153e+09</td>\n",
       "      <td>959a0a03</td>\n",
       "      <td>15</td>\n",
       "      <td>1.625153e+09</td>\n",
       "      <td>2</td>\n",
       "    </tr>\n",
       "    <tr>\n",
       "      <th>2021-07-01 15:28:37.594000+00:00</th>\n",
       "      <td>1</td>\n",
       "      <td>0</td>\n",
       "      <td>1.625153e+09</td>\n",
       "      <td>0</td>\n",
       "      <td>MTHexapod:1</td>\n",
       "      <td>1.625153e+09</td>\n",
       "      <td>7886</td>\n",
       "      <td>1.625153e+09</td>\n",
       "      <td>959a0a03</td>\n",
       "      <td>16</td>\n",
       "      <td>1.625153e+09</td>\n",
       "      <td>1</td>\n",
       "    </tr>\n",
       "    <tr>\n",
       "      <th>2021-07-01 15:28:43.621000+00:00</th>\n",
       "      <td>1</td>\n",
       "      <td>0</td>\n",
       "      <td>1.625153e+09</td>\n",
       "      <td>0</td>\n",
       "      <td>MTHexapod:1</td>\n",
       "      <td>1.625153e+09</td>\n",
       "      <td>7886</td>\n",
       "      <td>1.625153e+09</td>\n",
       "      <td>959a0a03</td>\n",
       "      <td>17</td>\n",
       "      <td>1.625153e+09</td>\n",
       "      <td>5</td>\n",
       "    </tr>\n",
       "    <tr>\n",
       "      <th>2021-07-01 15:28:48.396000+00:00</th>\n",
       "      <td>1</td>\n",
       "      <td>0</td>\n",
       "      <td>1.625153e+09</td>\n",
       "      <td>0</td>\n",
       "      <td>MTHexapod:1</td>\n",
       "      <td>1.625153e+09</td>\n",
       "      <td>7886</td>\n",
       "      <td>1.625153e+09</td>\n",
       "      <td>959a0a03</td>\n",
       "      <td>18</td>\n",
       "      <td>1.625153e+09</td>\n",
       "      <td>4</td>\n",
       "    </tr>\n",
       "    <tr>\n",
       "      <th>2021-07-01 16:44:55.173000+00:00</th>\n",
       "      <td>2</td>\n",
       "      <td>0</td>\n",
       "      <td>1.625158e+09</td>\n",
       "      <td>0</td>\n",
       "      <td>MTHexapod:2</td>\n",
       "      <td>1.625158e+09</td>\n",
       "      <td>8260</td>\n",
       "      <td>1.625158e+09</td>\n",
       "      <td>959a0a03</td>\n",
       "      <td>1</td>\n",
       "      <td>1.625158e+09</td>\n",
       "      <td>4</td>\n",
       "    </tr>\n",
       "    <tr>\n",
       "      <th>2021-07-01 16:48:37.698000+00:00</th>\n",
       "      <td>2</td>\n",
       "      <td>0</td>\n",
       "      <td>1.625158e+09</td>\n",
       "      <td>0</td>\n",
       "      <td>MTHexapod:2</td>\n",
       "      <td>1.625158e+09</td>\n",
       "      <td>8260</td>\n",
       "      <td>1.625158e+09</td>\n",
       "      <td>959a0a03</td>\n",
       "      <td>2</td>\n",
       "      <td>1.625158e+09</td>\n",
       "      <td>5</td>\n",
       "    </tr>\n",
       "    <tr>\n",
       "      <th>2021-07-01 16:48:37.899000+00:00</th>\n",
       "      <td>2</td>\n",
       "      <td>0</td>\n",
       "      <td>1.625158e+09</td>\n",
       "      <td>0</td>\n",
       "      <td>MTHexapod:2</td>\n",
       "      <td>1.625158e+09</td>\n",
       "      <td>8260</td>\n",
       "      <td>1.625158e+09</td>\n",
       "      <td>959a0a03</td>\n",
       "      <td>3</td>\n",
       "      <td>1.625158e+09</td>\n",
       "      <td>1</td>\n",
       "    </tr>\n",
       "    <tr>\n",
       "      <th>2021-07-01 16:48:38.101000+00:00</th>\n",
       "      <td>2</td>\n",
       "      <td>0</td>\n",
       "      <td>1.625158e+09</td>\n",
       "      <td>0</td>\n",
       "      <td>MTHexapod:2</td>\n",
       "      <td>1.625158e+09</td>\n",
       "      <td>8260</td>\n",
       "      <td>1.625158e+09</td>\n",
       "      <td>959a0a03</td>\n",
       "      <td>4</td>\n",
       "      <td>1.625158e+09</td>\n",
       "      <td>2</td>\n",
       "    </tr>\n",
       "    <tr>\n",
       "      <th>2021-07-01 17:11:40.379000+00:00</th>\n",
       "      <td>1</td>\n",
       "      <td>0</td>\n",
       "      <td>1.625159e+09</td>\n",
       "      <td>0</td>\n",
       "      <td>MTHexapod:1</td>\n",
       "      <td>1.625160e+09</td>\n",
       "      <td>7886</td>\n",
       "      <td>1.625160e+09</td>\n",
       "      <td>959a0a03</td>\n",
       "      <td>19</td>\n",
       "      <td>1.625160e+09</td>\n",
       "      <td>5</td>\n",
       "    </tr>\n",
       "    <tr>\n",
       "      <th>2021-07-01 17:12:29.703000+00:00</th>\n",
       "      <td>1</td>\n",
       "      <td>0</td>\n",
       "      <td>1.625160e+09</td>\n",
       "      <td>0</td>\n",
       "      <td>MTHexapod:1</td>\n",
       "      <td>1.625160e+09</td>\n",
       "      <td>7886</td>\n",
       "      <td>1.625160e+09</td>\n",
       "      <td>959a0a03</td>\n",
       "      <td>20</td>\n",
       "      <td>1.625160e+09</td>\n",
       "      <td>1</td>\n",
       "    </tr>\n",
       "    <tr>\n",
       "      <th>2021-07-01 17:12:58.414000+00:00</th>\n",
       "      <td>1</td>\n",
       "      <td>0</td>\n",
       "      <td>1.625160e+09</td>\n",
       "      <td>0</td>\n",
       "      <td>MTHexapod:1</td>\n",
       "      <td>1.625160e+09</td>\n",
       "      <td>7886</td>\n",
       "      <td>1.625160e+09</td>\n",
       "      <td>959a0a03</td>\n",
       "      <td>21</td>\n",
       "      <td>1.625160e+09</td>\n",
       "      <td>2</td>\n",
       "    </tr>\n",
       "  </tbody>\n",
       "</table>\n",
       "</div>"
      ],
      "text/plain": [
       "                                  MTHexapodID  priority  private_efdStamp  \\\n",
       "2021-07-01 13:28:05.102000+00:00            1         0      1.625146e+09   \n",
       "2021-07-01 13:28:10.408000+00:00            1         0      1.625146e+09   \n",
       "2021-07-01 13:28:15.273000+00:00            1         0      1.625146e+09   \n",
       "2021-07-01 15:15:56.233000+00:00            1         0      1.625153e+09   \n",
       "2021-07-01 15:20:28.507000+00:00            1         0      1.625153e+09   \n",
       "2021-07-01 15:21:32.407000+00:00            1         0      1.625153e+09   \n",
       "2021-07-01 15:21:36.591000+00:00            1         0      1.625153e+09   \n",
       "2021-07-01 15:21:40.776000+00:00            1         0      1.625153e+09   \n",
       "2021-07-01 15:28:37.594000+00:00            1         0      1.625153e+09   \n",
       "2021-07-01 15:28:43.621000+00:00            1         0      1.625153e+09   \n",
       "2021-07-01 15:28:48.396000+00:00            1         0      1.625153e+09   \n",
       "2021-07-01 16:44:55.173000+00:00            2         0      1.625158e+09   \n",
       "2021-07-01 16:48:37.698000+00:00            2         0      1.625158e+09   \n",
       "2021-07-01 16:48:37.899000+00:00            2         0      1.625158e+09   \n",
       "2021-07-01 16:48:38.101000+00:00            2         0      1.625158e+09   \n",
       "2021-07-01 17:11:40.379000+00:00            1         0      1.625159e+09   \n",
       "2021-07-01 17:12:29.703000+00:00            1         0      1.625160e+09   \n",
       "2021-07-01 17:12:58.414000+00:00            1         0      1.625160e+09   \n",
       "\n",
       "                                  private_host private_identity  \\\n",
       "2021-07-01 13:28:05.102000+00:00             0      MTHexapod:1   \n",
       "2021-07-01 13:28:10.408000+00:00             0      MTHexapod:1   \n",
       "2021-07-01 13:28:15.273000+00:00             0      MTHexapod:1   \n",
       "2021-07-01 15:15:56.233000+00:00             0      MTHexapod:1   \n",
       "2021-07-01 15:20:28.507000+00:00             0      MTHexapod:1   \n",
       "2021-07-01 15:21:32.407000+00:00             0      MTHexapod:1   \n",
       "2021-07-01 15:21:36.591000+00:00             0      MTHexapod:1   \n",
       "2021-07-01 15:21:40.776000+00:00             0      MTHexapod:1   \n",
       "2021-07-01 15:28:37.594000+00:00             0      MTHexapod:1   \n",
       "2021-07-01 15:28:43.621000+00:00             0      MTHexapod:1   \n",
       "2021-07-01 15:28:48.396000+00:00             0      MTHexapod:1   \n",
       "2021-07-01 16:44:55.173000+00:00             0      MTHexapod:2   \n",
       "2021-07-01 16:48:37.698000+00:00             0      MTHexapod:2   \n",
       "2021-07-01 16:48:37.899000+00:00             0      MTHexapod:2   \n",
       "2021-07-01 16:48:38.101000+00:00             0      MTHexapod:2   \n",
       "2021-07-01 17:11:40.379000+00:00             0      MTHexapod:1   \n",
       "2021-07-01 17:12:29.703000+00:00             0      MTHexapod:1   \n",
       "2021-07-01 17:12:58.414000+00:00             0      MTHexapod:1   \n",
       "\n",
       "                                  private_kafkaStamp  private_origin  \\\n",
       "2021-07-01 13:28:05.102000+00:00        1.625146e+09            7886   \n",
       "2021-07-01 13:28:10.408000+00:00        1.625146e+09            7886   \n",
       "2021-07-01 13:28:15.273000+00:00        1.625146e+09            7886   \n",
       "2021-07-01 15:15:56.233000+00:00        1.625153e+09            7886   \n",
       "2021-07-01 15:20:28.507000+00:00        1.625153e+09            7886   \n",
       "2021-07-01 15:21:32.407000+00:00        1.625153e+09            7886   \n",
       "2021-07-01 15:21:36.591000+00:00        1.625153e+09            7886   \n",
       "2021-07-01 15:21:40.776000+00:00        1.625153e+09            7886   \n",
       "2021-07-01 15:28:37.594000+00:00        1.625153e+09            7886   \n",
       "2021-07-01 15:28:43.621000+00:00        1.625153e+09            7886   \n",
       "2021-07-01 15:28:48.396000+00:00        1.625153e+09            7886   \n",
       "2021-07-01 16:44:55.173000+00:00        1.625158e+09            8260   \n",
       "2021-07-01 16:48:37.698000+00:00        1.625158e+09            8260   \n",
       "2021-07-01 16:48:37.899000+00:00        1.625158e+09            8260   \n",
       "2021-07-01 16:48:38.101000+00:00        1.625158e+09            8260   \n",
       "2021-07-01 17:11:40.379000+00:00        1.625160e+09            7886   \n",
       "2021-07-01 17:12:29.703000+00:00        1.625160e+09            7886   \n",
       "2021-07-01 17:12:58.414000+00:00        1.625160e+09            7886   \n",
       "\n",
       "                                  private_rcvStamp private_revCode  \\\n",
       "2021-07-01 13:28:05.102000+00:00      1.625146e+09        959a0a03   \n",
       "2021-07-01 13:28:10.408000+00:00      1.625146e+09        959a0a03   \n",
       "2021-07-01 13:28:15.273000+00:00      1.625146e+09        959a0a03   \n",
       "2021-07-01 15:15:56.233000+00:00      1.625153e+09        959a0a03   \n",
       "2021-07-01 15:20:28.507000+00:00      1.625153e+09        959a0a03   \n",
       "2021-07-01 15:21:32.407000+00:00      1.625153e+09        959a0a03   \n",
       "2021-07-01 15:21:36.591000+00:00      1.625153e+09        959a0a03   \n",
       "2021-07-01 15:21:40.776000+00:00      1.625153e+09        959a0a03   \n",
       "2021-07-01 15:28:37.594000+00:00      1.625153e+09        959a0a03   \n",
       "2021-07-01 15:28:43.621000+00:00      1.625153e+09        959a0a03   \n",
       "2021-07-01 15:28:48.396000+00:00      1.625153e+09        959a0a03   \n",
       "2021-07-01 16:44:55.173000+00:00      1.625158e+09        959a0a03   \n",
       "2021-07-01 16:48:37.698000+00:00      1.625158e+09        959a0a03   \n",
       "2021-07-01 16:48:37.899000+00:00      1.625158e+09        959a0a03   \n",
       "2021-07-01 16:48:38.101000+00:00      1.625158e+09        959a0a03   \n",
       "2021-07-01 17:11:40.379000+00:00      1.625160e+09        959a0a03   \n",
       "2021-07-01 17:12:29.703000+00:00      1.625160e+09        959a0a03   \n",
       "2021-07-01 17:12:58.414000+00:00      1.625160e+09        959a0a03   \n",
       "\n",
       "                                  private_seqNum  private_sndStamp  \\\n",
       "2021-07-01 13:28:05.102000+00:00               8      1.625146e+09   \n",
       "2021-07-01 13:28:10.408000+00:00               9      1.625146e+09   \n",
       "2021-07-01 13:28:15.273000+00:00              10      1.625146e+09   \n",
       "2021-07-01 15:15:56.233000+00:00              11      1.625153e+09   \n",
       "2021-07-01 15:20:28.507000+00:00              12      1.625153e+09   \n",
       "2021-07-01 15:21:32.407000+00:00              13      1.625153e+09   \n",
       "2021-07-01 15:21:36.591000+00:00              14      1.625153e+09   \n",
       "2021-07-01 15:21:40.776000+00:00              15      1.625153e+09   \n",
       "2021-07-01 15:28:37.594000+00:00              16      1.625153e+09   \n",
       "2021-07-01 15:28:43.621000+00:00              17      1.625153e+09   \n",
       "2021-07-01 15:28:48.396000+00:00              18      1.625153e+09   \n",
       "2021-07-01 16:44:55.173000+00:00               1      1.625158e+09   \n",
       "2021-07-01 16:48:37.698000+00:00               2      1.625158e+09   \n",
       "2021-07-01 16:48:37.899000+00:00               3      1.625158e+09   \n",
       "2021-07-01 16:48:38.101000+00:00               4      1.625158e+09   \n",
       "2021-07-01 17:11:40.379000+00:00              19      1.625160e+09   \n",
       "2021-07-01 17:12:29.703000+00:00              20      1.625160e+09   \n",
       "2021-07-01 17:12:58.414000+00:00              21      1.625160e+09   \n",
       "\n",
       "                                  summaryState  \n",
       "2021-07-01 13:28:05.102000+00:00             5  \n",
       "2021-07-01 13:28:10.408000+00:00             1  \n",
       "2021-07-01 13:28:15.273000+00:00             2  \n",
       "2021-07-01 15:15:56.233000+00:00             3  \n",
       "2021-07-01 15:20:28.507000+00:00             4  \n",
       "2021-07-01 15:21:32.407000+00:00             5  \n",
       "2021-07-01 15:21:36.591000+00:00             1  \n",
       "2021-07-01 15:21:40.776000+00:00             2  \n",
       "2021-07-01 15:28:37.594000+00:00             1  \n",
       "2021-07-01 15:28:43.621000+00:00             5  \n",
       "2021-07-01 15:28:48.396000+00:00             4  \n",
       "2021-07-01 16:44:55.173000+00:00             4  \n",
       "2021-07-01 16:48:37.698000+00:00             5  \n",
       "2021-07-01 16:48:37.899000+00:00             1  \n",
       "2021-07-01 16:48:38.101000+00:00             2  \n",
       "2021-07-01 17:11:40.379000+00:00             5  \n",
       "2021-07-01 17:12:29.703000+00:00             1  \n",
       "2021-07-01 17:12:58.414000+00:00             2  "
      ]
     },
     "execution_count": 18,
     "metadata": {},
     "output_type": "execute_result"
    }
   ],
   "source": [
    "dfe"
   ]
  },
  {
   "cell_type": "markdown",
   "metadata": {},
   "source": [
    "# Check the move behavior when LUT is disabled."
   ]
  },
  {
   "cell_type": "code",
   "execution_count": 19,
   "metadata": {},
   "outputs": [
    {
     "name": "stdout",
     "output_type": "stream",
     "text": [
      "compsensation mode enabled? True\n"
     ]
    }
   ],
   "source": [
    "lutMode = await hex.evt_compensationMode.aget(timeout=10)\n",
    "print(\"compsensation mode enabled?\",lutMode.enabled)"
   ]
  },
  {
   "cell_type": "code",
   "execution_count": 20,
   "metadata": {},
   "outputs": [
    {
     "name": "stdout",
     "output_type": "stream",
     "text": [
      "Current Hexapod position\n",
      "     -0.15    -524.70     292.26      -0.01      -0.00       0.00\n"
     ]
    }
   ],
   "source": [
    "async def printPosition(hex):\n",
    "    pos = await hex.tel_application.next(flush=True, timeout=10.)\n",
    "    print(\"Current Hexapod position\")\n",
    "    print(\" \".join(f\"{p:10.2f}\" for p in pos.position))\n",
    "await printPosition(hex)"
   ]
  },
  {
   "cell_type": "code",
   "execution_count": 21,
   "metadata": {},
   "outputs": [],
   "source": [
    "test_message = \"Camera Hexapod Integration Test\""
   ]
  },
  {
   "cell_type": "code",
   "execution_count": null,
   "metadata": {},
   "outputs": [],
   "source": [
    "#This command is to set the Hexapod to zero position\n",
    "now = datetime.now()\n",
    "script.log.info(f\"START- {test_message} -- LVV-T1600 -- Move to Zero- Starting time: {now} UTC\")\n",
    "await hex.cmd_move.set_start(x=0,y=0,z=0, u=0,v=0,w=0,sync=True)"
   ]
  },
  {
   "cell_type": "code",
   "execution_count": null,
   "metadata": {},
   "outputs": [],
   "source": [
    "#To stop the Hexapod\n",
    "await hex.cmd_stop.set_start()"
   ]
  },
  {
   "cell_type": "markdown",
   "metadata": {},
   "source": [
    "If you want to observe the motions in chronograf, consider using \"AND MTHexapodID={hexId}\" to filter out telemetry from the other hexapod"
   ]
  },
  {
   "cell_type": "code",
   "execution_count": null,
   "metadata": {},
   "outputs": [],
   "source": [
    "now = datetime.now()\n",
    "script.log.info(f\"START- {test_message} -- LVV-T1600 Compensation mode test Step 17- Starting time: {now} UTC\")\n",
    "hex.evt_inPosition.flush()\n",
    "for step in range(5,-1,-1):\n",
    "    #await hex.cmd_move.set_start(x=0,y=0,z=100*step, u=0,v=0,w=0,sync=True)\n",
    "    #Steps made smaller make sure to not go into fault\n",
    "    await hex.cmd_move.set_start(x=0,y=0,z=-50*step, u=0,v=0,w=0,sync=True)\n",
    "    # InPosition event is not generated at the moment\n",
    "    while True:\n",
    "        state = await hex.evt_inPosition.next(flush=False, timeout=10)\n",
    "        print(\"hex in position?\",state.inPosition, pd.to_datetime(state.private_sndStamp, unit='s'))\n",
    "        if state.inPosition:\n",
    "            break    "
   ]
  },
  {
   "cell_type": "code",
   "execution_count": null,
   "metadata": {},
   "outputs": [],
   "source": [
    "await printPosition(hex)"
   ]
  },
  {
   "cell_type": "code",
   "execution_count": null,
   "metadata": {},
   "outputs": [],
   "source": [
    "hex.evt_inPosition.flush()\n",
    "for step in [1,2,3,-3,-2,-1]:\n",
    "    #according to XML, units are micron and degree\n",
    "    #await hex.cmd_offset.set_start(x=0,y=0,z=100*step, u=0,v=0,w=0,sync=True)\n",
    "    #Steps made smaller make sure to not go into fault\n",
    "    await hex.cmd_move.set_start(x=0,y=0,z=-50*step, u=0,v=0,w=0,sync=True)\n",
    "    # InPosition event is not generated at the moment\n",
    "    while True:\n",
    "        state = await hex.evt_inPosition.next(flush=False, timeout=10)\n",
    "        print(\"hex in position?\",state.inPosition, pd.to_datetime(state.private_sndStamp, unit='s'))\n",
    "        if state.inPosition:\n",
    "            break\n",
    "     \n",
    "    await printPosition(hex)\n",
    "    \n",
    "    end = Time(datetime.now(), scale='tai')"
   ]
  },
  {
   "cell_type": "code",
   "execution_count": null,
   "metadata": {},
   "outputs": [],
   "source": [
    "start = end - timedelta(seconds=120)\n",
    "df = await client.select_time_series('lsst.sal.MTHexapod.application', '*', start, end, csc_index)\n",
    "idx=df.MTHexapodID==1\n",
    "df = df[idx]"
   ]
  },
  {
   "cell_type": "code",
   "execution_count": null,
   "metadata": {},
   "outputs": [],
   "source": [
    "fig, ax = plt.subplots(figsize=(19,3))\n",
    "plt.plot(df.position2)\n",
    "plt.grid()"
   ]
  },
  {
   "cell_type": "markdown",
   "metadata": {},
   "source": [
    "### When the LUT is enabled"
   ]
  },
  {
   "cell_type": "code",
   "execution_count": null,
   "metadata": {},
   "outputs": [],
   "source": [
    "await hex.cmd_setCompensationMode.set_start(enable=1, timeout=10)\n",
    "lutMode = await hex.evt_compensationMode.aget(timeout=10)\n",
    "print(\"compsensation mode enabled?\",lutMode.enabled)"
   ]
  },
  {
   "cell_type": "code",
   "execution_count": null,
   "metadata": {},
   "outputs": [],
   "source": [
    "#Switch compensation mode off:\n",
    "await hex.cmd_setCompensationMode.set_start(enable=0, timeout=10)\n",
    "lutMode = await hex.evt_compensationMode.aget(timeout=10)\n",
    "print(\"compsensation mode enabled?\",lutMode.enabled)"
   ]
  },
  {
   "cell_type": "code",
   "execution_count": null,
   "metadata": {},
   "outputs": [],
   "source": [
    "await printPosition(hex)"
   ]
  },
  {
   "cell_type": "code",
   "execution_count": 29,
   "metadata": {},
   "outputs": [
    {
     "name": "stdout",
     "output_type": "stream",
     "text": [
      "Uncompensated position\n",
      "      0.00       0.00       0.00       0.00       0.00       0.00\n",
      "2021-07-01 18:45:25.247208192\n",
      "Compensated position\n",
      "     -0.90    -523.81     292.12      -0.01       0.00       0.00\n",
      "2021-07-01 20:17:54.767571712\n"
     ]
    }
   ],
   "source": [
    "async def printUncompensatedAndCompensated(hex):\n",
    "    posU = await hex.evt_uncompensatedPosition.aget(timeout=10.)\n",
    "    print('Uncompensated position')\n",
    "    print(\" \".join(f\"{p:10.2f}\" for p in [getattr(posU, i) for i in 'xyzuvw']))\n",
    "    print(pd.to_datetime(posU.private_sndStamp, unit='s'))\n",
    "    posC = await hex.evt_compensatedPosition.aget(timeout=10.)\n",
    "    print('Compensated position')\n",
    "    print(\" \".join(f\"{p:10.2f}\" for p in [getattr(posC, i) for i in 'xyzuvw']))\n",
    "    print(pd.to_datetime(posC.private_sndStamp, unit='s'))\n",
    "\n",
    "await printUncompensatedAndCompensated(hex)"
   ]
  },
  {
   "cell_type": "markdown",
   "metadata": {},
   "source": [
    "The inputs to the LUT are currently -\n",
    "* elevation (from mount telemetry) \n",
    "* temperature (mount truss? not implemented yet)\n",
    "* azimuth (not implemented)\n",
    "* rotator angle (not implemented)"
   ]
  },
  {
   "cell_type": "code",
   "execution_count": null,
   "metadata": {},
   "outputs": [],
   "source": [
    "#Mount needs to be prepared\n",
    "#await salobj.set_summary_state(mount, salobj.State.ENABLED)"
   ]
  },
  {
   "cell_type": "code",
   "execution_count": null,
   "metadata": {},
   "outputs": [],
   "source": [
    "#Only works when mount or mount simulator are active.Best on domain 1\n",
    "#mountAngle = await mount.tel_elevation.aget(timeout=10.)\n",
    "#print(\"mount elevation angle\", mountAngle.angleActual)\n",
    "#elev = mountAngle.angleActual"
   ]
  },
  {
   "cell_type": "code",
   "execution_count": null,
   "metadata": {},
   "outputs": [],
   "source": [
    "#To set the elevation for a controller\n",
    "#mount.evt_target.set_put(elevation=45)"
   ]
  },
  {
   "cell_type": "code",
   "execution_count": 22,
   "metadata": {},
   "outputs": [
    {
     "name": "stderr",
     "output_type": "stream",
     "text": [
      "electrical DDS read queue is filling: 11 of 100 elements\n",
      "electrical DDS read queue is filling: 10 of 100 elements\n",
      "application DDS read queue is filling: 12 of 100 elements\n",
      "ccwFollowingError DDS read queue is filling: 11 of 100 elements\n",
      "actuators DDS read queue is filling: 14 of 100 elements\n"
     ]
    }
   ],
   "source": [
    "end = Time(datetime.now())\n",
    "start = end - timedelta(hours=3)\n",
    "#logeventTarget = await client.select_time_series('lsst.sal.MTMount.logevent_target', '*', start.tai, end.tai)\n",
    "#With this we can get the elevation when a controller is running\n",
    "MTMountElevation = await client.select_time_series('lsst.sal.MTMount.elevation', '*', start.tai, end.tai)\n",
    "MTMountAzimuth = await client.select_time_series('lsst.sal.MTMount.azimuth', '*', start.tai, end.tai)"
   ]
  },
  {
   "cell_type": "code",
   "execution_count": 23,
   "metadata": {},
   "outputs": [
    {
     "name": "stdout",
     "output_type": "stream",
     "text": [
      "Mount controller elevation from the EFD:\n"
     ]
    },
    {
     "data": {
      "text/plain": [
       "2021-07-01 17:20:19.012000+00:00    90.000000\n",
       "2021-07-01 17:20:19.213000+00:00    90.000000\n",
       "2021-07-01 17:20:19.415000+00:00    90.000000\n",
       "2021-07-01 17:20:19.616000+00:00    90.000000\n",
       "2021-07-01 17:20:19.817000+00:00    90.000000\n",
       "                                      ...    \n",
       "2021-07-01 20:20:18.026000+00:00    84.630384\n",
       "2021-07-01 20:20:18.227000+00:00    84.630384\n",
       "2021-07-01 20:20:18.428000+00:00    84.630384\n",
       "2021-07-01 20:20:18.628000+00:00    84.630384\n",
       "2021-07-01 20:20:18.830000+00:00    84.630384\n",
       "Name: actualPosition, Length: 53712, dtype: float64"
      ]
     },
     "execution_count": 23,
     "metadata": {},
     "output_type": "execute_result"
    }
   ],
   "source": [
    "#get the elevation into a variable\n",
    "elev=MTMountElevation.actualPosition\n",
    "print(\"Mount controller elevation from the EFD:\")\n",
    "elev"
   ]
  },
  {
   "cell_type": "code",
   "execution_count": 24,
   "metadata": {},
   "outputs": [
    {
     "name": "stdout",
     "output_type": "stream",
     "text": [
      "Mount controller azimuth from the EFD:\n"
     ]
    },
    {
     "data": {
      "text/plain": [
       "2021-07-01 17:20:19.011000+00:00    0.0\n",
       "2021-07-01 17:20:19.213000+00:00    0.0\n",
       "2021-07-01 17:20:19.414000+00:00    0.0\n",
       "2021-07-01 17:20:19.615000+00:00    0.0\n",
       "2021-07-01 17:20:19.816000+00:00    0.0\n",
       "                                   ... \n",
       "2021-07-01 20:20:18.025000+00:00    0.0\n",
       "2021-07-01 20:20:18.226000+00:00    0.0\n",
       "2021-07-01 20:20:18.427000+00:00    0.0\n",
       "2021-07-01 20:20:18.628000+00:00    0.0\n",
       "2021-07-01 20:20:18.829000+00:00    0.0\n",
       "Name: actualPosition, Length: 53712, dtype: float64"
      ]
     },
     "execution_count": 24,
     "metadata": {},
     "output_type": "execute_result"
    }
   ],
   "source": [
    "azimuth = MTMountAzimuth.actualPosition\n",
    "print(\"Mount controller azimuth from the EFD:\")\n",
    "azimuth"
   ]
  },
  {
   "cell_type": "code",
   "execution_count": 27,
   "metadata": {},
   "outputs": [],
   "source": [
    "elevationFixed=80.0"
   ]
  },
  {
   "cell_type": "code",
   "execution_count": 25,
   "metadata": {},
   "outputs": [],
   "source": [
    "LUTfile = '%s/notebooks/ts_config_mttcs/MTHexapod/v1/default.yaml'%(os.environ[\"HOME\"])\n",
    "with open(LUTfile, 'r') as stream:\n",
    "    aa = yaml.safe_load(stream)\n",
    "if hex.salinfo.index == 1:\n",
    "    elevCoeff = aa['camera_config']['elevation_coeffs']\n",
    "    tCoeff = aa['camera_config']['temperature_coeffs']\n",
    "elif hex.salinfo.index == 2:\n",
    "    elevCoeff = aa['m2_config']['elevation_coeffs']\n",
    "    tCoeff = aa['m2_config']['temperature_coeffs']"
   ]
  },
  {
   "cell_type": "code",
   "execution_count": 30,
   "metadata": {},
   "outputs": [
    {
     "name": "stdout",
     "output_type": "stream",
     "text": [
      "Predicted LUT compensation:\n",
      "     -0.87    -423.42     283.37      -0.01       0.00       0.00\n",
      "Uncompensated position\n",
      "      0.00       0.00       0.00       0.00       0.00       0.00\n",
      "2021-07-01 18:45:25.247208192\n",
      "Compensated position\n",
      "     -0.90    -523.81     292.12      -0.01       0.00       0.00\n",
      "2021-07-01 20:17:54.767571712\n"
     ]
    }
   ],
   "source": [
    "async def printPredictedComp(elevCoeff, elev):\n",
    "    '''\n",
    "    This function deals with the elevation component of the LUT only, for now.\n",
    "    We will add temperature, azimuth, and rotator angle when they are implemented.\n",
    "    '''\n",
    "    pred = []\n",
    "    print('Predicted LUT compensation:')\n",
    "    for i in range(6):\n",
    "        coeff = elevCoeff[i] #starts with C0\n",
    "        mypoly = np.polynomial.Polynomial(coeff)\n",
    "        #mypoly = np.poly1d(coeff[::-1]) #if you use poly1d, be aware: it needs C5 first\n",
    "        pred.append(mypoly(elev))\n",
    "    print(\" \".join(f\"{p:10.2f}\" for p in pred))\n",
    "await printPredictedComp(elevCoeff, elevationFixed)\n",
    "await printUncompensatedAndCompensated(hex)"
   ]
  },
  {
   "cell_type": "markdown",
   "metadata": {},
   "source": [
    "### Do a slew, then check the LUT again"
   ]
  },
  {
   "cell_type": "code",
   "execution_count": 31,
   "metadata": {},
   "outputs": [
    {
     "name": "stdout",
     "output_type": "stream",
     "text": [
      "Current elevation angle =  2021-07-01 17:20:19.012000+00:00    90.000000\n",
      "2021-07-01 17:20:19.213000+00:00    90.000000\n",
      "2021-07-01 17:20:19.415000+00:00    90.000000\n",
      "2021-07-01 17:20:19.616000+00:00    90.000000\n",
      "2021-07-01 17:20:19.817000+00:00    90.000000\n",
      "                                      ...    \n",
      "2021-07-01 20:20:18.026000+00:00    84.630384\n",
      "2021-07-01 20:20:18.227000+00:00    84.630384\n",
      "2021-07-01 20:20:18.428000+00:00    84.630384\n",
      "2021-07-01 20:20:18.628000+00:00    84.630384\n",
      "2021-07-01 20:20:18.830000+00:00    84.630384\n",
      "Name: actualPosition, Length: 53712, dtype: float64\n"
     ]
    }
   ],
   "source": [
    "location = EarthLocation.from_geodetic(lon=-70.747698*u.deg,\n",
    "                                       lat=-30.244728*u.deg,\n",
    "                                       height=2663.0*u.m)\n",
    "print(\"Current elevation angle = \", elev)"
   ]
  },
  {
   "cell_type": "code",
   "execution_count": 32,
   "metadata": {},
   "outputs": [
    {
     "name": "stdout",
     "output_type": "stream",
     "text": [
      "Start to point the telescope 2021-07-01 20:25:11.287719\n"
     ]
    }
   ],
   "source": [
    "now = datetime.now()\n",
    "print(\"Start to point the telescope\", now)\n",
    "\n",
    "alt = 80. * u.deg\n",
    "az = 0. * u.deg\n",
    "rot_tel = Angle(0, unit= u.deg) "
   ]
  },
  {
   "cell_type": "code",
   "execution_count": null,
   "metadata": {},
   "outputs": [],
   "source": [
    "target_name=\"TMA motion test\"\n",
    "time_data = await ptg.tel_timeAndDate.next(flush=True, timeout=2)\n",
    "curr_time_ptg = Time(time_data.mjd, format=\"mjd\", scale=\"tai\")\n",
    "time_err = curr_time_ptg - Time.now()\n",
    "print(f\"Time error={time_err.sec:0.2f} sec\")\n",
    "\n",
    "print(curr_time_ptg.tai.value)\n",
    "\n",
    "cmd_elaz = AltAz(alt=alt, az=az, \n",
    "                obstime=curr_time_ptg.tai, \n",
    "                location=location)\n",
    "cmd_radec = cmd_elaz.transform_to(ICRS)\n",
    "# Calculating the other parameters     \n",
    "rot_pa = rot_tel"
   ]
  },
  {
   "cell_type": "code",
   "execution_count": null,
   "metadata": {},
   "outputs": [],
   "source": [
    "#The pointing component is commanding the mount directly\n",
    "ack = await mtptg.cmd_raDecTarget.set_start(\n",
    "    targetName=target_name,\n",
    "    frame=MTPtg.CoordFrame.ICRS,\n",
    "    epoch=2000,  # should be ignored: no parallax or proper motion\n",
    "    equinox=2000,  # should be ignored for ICRS\n",
    "    ra=cmd_radec.ra.hour,\n",
    "    declination=cmd_radec.dec.deg,\n",
    "    parallax=0,\n",
    "    pmRA=0,\n",
    "    pmDec=0,\n",
    "    rv=0,\n",
    "    dRA=0,\n",
    "    dDec=0,\n",
    "    trackId=9999,\n",
    "    rotAngle=15.0,\n",
    "    rotStartFrame=MTPtg.RotFrame.FIXED,\n",
    "    rotTrackFrame=MTPtg.RotFrame.FIXED,\n",
    "    rotMode=MTPtg.RotMode.FIELD,\n",
    "    azWrapStrategy=2,\n",
    "    timeOnTarget=30,\n",
    "    timeout=10\n",
    ")\n",
    "\n",
    "print(\" Now, Waiting 30s\")\n",
    "await asyncio.sleep(30.)\n",
    "print(\"System Ready\")"
   ]
  },
  {
   "cell_type": "code",
   "execution_count": null,
   "metadata": {},
   "outputs": [],
   "source": [
    "mountStatus = await mount.evt_axesInPosition.aget(timeout=5.)\n",
    "rotStatus = await rot.evt_inPosition.aget(timeout=5.)\n",
    "print('Are we tracking?', mountStatus.elevation , mountStatus.azimuth , rotStatus.inPosition)"
   ]
  },
  {
   "cell_type": "code",
   "execution_count": null,
   "metadata": {},
   "outputs": [],
   "source": [
    "await ptg.cmd_stopTracking.set_start(timeout=5.)"
   ]
  },
  {
   "cell_type": "markdown",
   "metadata": {},
   "source": [
    "### check angle and LUT after the slew"
   ]
  },
  {
   "cell_type": "code",
   "execution_count": null,
   "metadata": {},
   "outputs": [],
   "source": [
    "mountAngle = await mount.tel_elevation.aget(timeout=10.)\n",
    "print(\"mount elevation angle\", mountAngle.angleActual)\n",
    "elev = mountAngle.angleActual"
   ]
  },
  {
   "cell_type": "code",
   "execution_count": null,
   "metadata": {},
   "outputs": [],
   "source": [
    "await printPosition(hex)\n",
    "await printUncompensatedAndCompensated(hex)\n",
    "await printPredictedComp(elevCoeff, elev)"
   ]
  },
  {
   "cell_type": "markdown",
   "metadata": {},
   "source": [
    "### Check if the telescope is in tracking mode. If yes, need to stop stacking. \n",
    "The alternative is to check \"MT Mount status\" dash board on Chronograf. Make sure there are three \"False\"."
   ]
  },
  {
   "cell_type": "code",
   "execution_count": null,
   "metadata": {},
   "outputs": [],
   "source": [
    "mountStatus = await mount.evt_axesInPosition.aget(timeout=5.)\n",
    "rotStatus = await rot.evt_inPosition.aget(timeout=5.)\n",
    "trackingStatus = mountStatus.elevation and mountStatus.azimuth and rotStatus.inPosition\n",
    "print('Are we tracking?', trackingStatus)"
   ]
  },
  {
   "cell_type": "code",
   "execution_count": null,
   "metadata": {},
   "outputs": [],
   "source": [
    "await ptg.cmd_stopTracking.set_start(timeout=5.)"
   ]
  },
  {
   "cell_type": "code",
   "execution_count": null,
   "metadata": {},
   "outputs": [],
   "source": [
    "#Stop the MTMount controller\n",
    "await mount.close()"
   ]
  },
  {
   "cell_type": "code",
   "execution_count": null,
   "metadata": {},
   "outputs": [],
   "source": []
  }
 ],
 "metadata": {
  "kernelspec": {
   "display_name": "LSST",
   "language": "python",
   "name": "lsst"
  },
  "language_info": {
   "codemirror_mode": {
    "name": "ipython",
    "version": 3
   },
   "file_extension": ".py",
   "mimetype": "text/x-python",
   "name": "python",
   "nbconvert_exporter": "python",
   "pygments_lexer": "ipython3",
   "version": "3.8.8"
  }
 },
 "nbformat": 4,
 "nbformat_minor": 4
}
