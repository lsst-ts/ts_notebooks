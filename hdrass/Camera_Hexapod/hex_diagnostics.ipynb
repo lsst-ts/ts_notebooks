{
 "cells": [
  {
   "cell_type": "markdown",
   "metadata": {},
   "source": [
    "## This notebook check the hexapod state transitions and move/offset commands\n",
    "## It also checks the LUT against the input polynomials, before and after a slew\n",
    "\n",
    "This notebook works with both hexapods.\n",
    "\n",
    "Prerequisits:\n",
    "\n",
    "The MTMount and the MTRotator must send telemetry for mount azimuth and elevation and rotation angle."
   ]
  },
  {
   "cell_type": "code",
   "execution_count": 1,
   "metadata": {},
   "outputs": [],
   "source": [
    "from lsst.ts import salobj\n",
    "import asyncio\n",
    "import os\n",
    "import yaml\n",
    "\n",
    "import numpy as np\n",
    "from matplotlib import pyplot as plt\n",
    "from astropy.time import Time\n",
    "from datetime import datetime, timedelta\n",
    "import pandas as pd\n",
    "\n",
    "from lsst.ts.idl.enums import MTPtg\n",
    "from lsst.ts.idl.enums import MTHexapod\n",
    "\n",
    "from astropy.coordinates import AltAz, ICRS, EarthLocation, Angle, FK5\n",
    "import astropy.units as u\n",
    "\n",
    "from lsst_efd_client import EfdClient\n",
    "\n",
    "import types"
   ]
  },
  {
   "cell_type": "code",
   "execution_count": 2,
   "metadata": {},
   "outputs": [],
   "source": [
    "#os.environ[\"LSST_DDS_HISTORYSYNC\"] = \"30\""
   ]
  },
  {
   "cell_type": "markdown",
   "metadata": {},
   "source": [
    "To switch between the hexapods, change the cell below."
   ]
  },
  {
   "cell_type": "code",
   "execution_count": 3,
   "metadata": {},
   "outputs": [
    {
     "name": "stdout",
     "output_type": "stream",
     "text": [
      "file:///home/hdrass/WORK/ts_ddsconfig/config/ospl-shmem.xml\n"
     ]
    }
   ],
   "source": [
    "import os\n",
    "print(os.environ[\"OSPL_URI\"])\n",
    "if os.environ.get(\"LSST_DDS_ALIGNER\", \"false\") != \"false\":\n",
    "    print(\"LSST_DDS_ALIGNER is mis-configured\")"
   ]
  },
  {
   "cell_type": "code",
   "execution_count": 4,
   "metadata": {},
   "outputs": [],
   "source": [
    "script = salobj.Controller(\"Script\", index=42658887)"
   ]
  },
  {
   "cell_type": "code",
   "execution_count": 5,
   "metadata": {},
   "outputs": [
    {
     "data": {
      "text/plain": [
       "[None]"
      ]
     },
     "execution_count": 5,
     "metadata": {},
     "output_type": "execute_result"
    }
   ],
   "source": [
    "await asyncio.gather(script.start_task)"
   ]
  },
  {
   "cell_type": "code",
   "execution_count": 6,
   "metadata": {},
   "outputs": [],
   "source": [
    "# Dict of short name: full SAL component name and index;\n",
    "# comment out an etry to avoid making the associated remote:\n",
    "remote_names = dict(\n",
    "    # Always comment out one of the two hexapods:\n",
    "    mthex=f\"MTHexapod:{MTHexapod.SalIndex.CAMERA_HEXAPOD}\",\n",
    "    # mthex=f\"MTHexapod:{MTHexapod.SalIndex.M2_HEXAPOD}\",\n",
    "    mtptg=\"MTPtg\",\n",
    "    mtrot=\"MTRotator\",\n",
    "    mtm=\"MTMount\"\n",
    "    )"
   ]
  },
  {
   "cell_type": "code",
   "execution_count": 7,
   "metadata": {},
   "outputs": [],
   "source": [
    "remotes_dict = {}\n",
    "for short_name, sal_name_index in remote_names.items():\n",
    "    sal_name, index = salobj.name_to_name_index(sal_name_index)\n",
    "    remote = salobj.Remote(domain=script.domain, name=sal_name, index=index)\n",
    "    remotes_dict[short_name] = remote \n",
    "r = types.SimpleNamespace(**remotes_dict)\n",
    "del remotes_dict  # use vars® instead\n",
    "hexId = r.mthex.salinfo.index  # or just use the long form"
   ]
  },
  {
   "cell_type": "code",
   "execution_count": 8,
   "metadata": {},
   "outputs": [
    {
     "name": "stdout",
     "output_type": "stream",
     "text": [
      "1\n"
     ]
    }
   ],
   "source": [
    "print(hexId)"
   ]
  },
  {
   "cell_type": "code",
   "execution_count": 9,
   "metadata": {},
   "outputs": [
    {
     "name": "stderr",
     "output_type": "stream",
     "text": [
      "rotation DDS read queue is filling: 28 of 100 elements\n",
      "electrical DDS read queue is full (100 elements); data may be lost\n",
      "motors DDS read queue is filling: 29 of 100 elements\n",
      "application DDS read queue is full (100 elements); data may be lost\n",
      "electrical DDS read queue is filling: 29 of 100 elements\n",
      "actuators DDS read queue is full (100 elements); data may be lost\n",
      "ccwFollowingError DDS read queue is filling: 31 of 100 elements\n",
      "timeAndDate DDS read queue is filling: 26 of 100 elements\n",
      "mountStatus DDS read queue is filling: 28 of 100 elements\n",
      "mountPosition DDS read queue is filling: 29 of 100 elements\n",
      "currentTargetStatus DDS read queue is filling: 30 of 100 elements\n"
     ]
    }
   ],
   "source": [
    "# Wait for all remotes to start\n",
    "for remote in vars(r).values():\n",
    "    await remote.start_task\n",
    "\n",
    "# Wait for a heartbeat from each remote\n",
    "for name, remote in vars(r).items():\n",
    "    try:\n",
    "        await remote.evt_heartbeat.next(flush=False, timeout=5)\n",
    "    except asyncio.TimeoutError:\n",
    "         print(f\"No heartbeat seen for {remote.salinfo.name_index}\")"
   ]
  },
  {
   "cell_type": "markdown",
   "metadata": {},
   "source": [
    "### Test the hexapod state transitions. If the hexapod is already enabled, disable then enable it."
   ]
  },
  {
   "cell_type": "code",
   "execution_count": 10,
   "metadata": {},
   "outputs": [
    {
     "name": "stdout",
     "output_type": "stream",
     "text": [
      "staring with: hex state State.ENABLED 2021-07-09 19:07:11.503803648\n"
     ]
    }
   ],
   "source": [
    "state = await r.mthex.evt_summaryState.aget(timeout=5)\n",
    "print('staring with: hex state', salobj.State(state.summaryState), pd.to_datetime(state.private_sndStamp, unit='s'))\n",
    "if state.summaryState == 2:\n",
    "    await salobj.set_summary_state(r.mthex, salobj.State.DISABLED) #disable hex"
   ]
  },
  {
   "cell_type": "code",
   "execution_count": 11,
   "metadata": {},
   "outputs": [
    {
     "data": {
      "text/plain": [
       "[<State.DISABLED: 1>, <State.STANDBY: 5>]"
      ]
     },
     "execution_count": 11,
     "metadata": {},
     "output_type": "execute_result"
    }
   ],
   "source": [
    "await salobj.set_summary_state(remote=r.mthex, state=salobj.State.STANDBY)"
   ]
  },
  {
   "cell_type": "code",
   "execution_count": 12,
   "metadata": {},
   "outputs": [
    {
     "data": {
      "text/plain": [
       "[<State.STANDBY: 5>, <State.DISABLED: 1>]"
      ]
     },
     "execution_count": 12,
     "metadata": {},
     "output_type": "execute_result"
    }
   ],
   "source": [
    "await salobj.set_summary_state(remote=r.mthex, state=salobj.State.DISABLED)"
   ]
  },
  {
   "cell_type": "code",
   "execution_count": 13,
   "metadata": {},
   "outputs": [
    {
     "data": {
      "text/plain": [
       "[<State.DISABLED: 1>, <State.ENABLED: 2>]"
      ]
     },
     "execution_count": 13,
     "metadata": {},
     "output_type": "execute_result"
    }
   ],
   "source": [
    "await salobj.set_summary_state(r.mthex, salobj.State.ENABLED, settingsToApply=\"default\") #enable hex"
   ]
  },
  {
   "cell_type": "code",
   "execution_count": 14,
   "metadata": {},
   "outputs": [
    {
     "data": {
      "text/plain": [
       "[<State.ENABLED: 2>]"
      ]
     },
     "execution_count": 14,
     "metadata": {},
     "output_type": "execute_result"
    }
   ],
   "source": [
    "await salobj.set_summary_state(r.mthex, salobj.State.ENABLED) #enable hex"
   ]
  },
  {
   "cell_type": "markdown",
   "metadata": {},
   "source": [
    "## Start the EFD client"
   ]
  },
  {
   "cell_type": "code",
   "execution_count": 15,
   "metadata": {},
   "outputs": [],
   "source": [
    "#client = EfdClient('summit_efd')\n",
    "client = EfdClient('ncsa_teststand_efd')"
   ]
  },
  {
   "cell_type": "code",
   "execution_count": 16,
   "metadata": {},
   "outputs": [],
   "source": [
    "# the next line only work if information were sent to the EFD during the time span \"timedelta\"!\n",
    "#we cannot get time series data from DDS. We have to query the EFD\n",
    "#to check messages in Kafka, go to https://lsst-kafka-0-nts-efd.ncsa.illinois.edu/\n",
    "csc_index = 1\n",
    "end = Time(datetime.now(), scale='tai')\n",
    "start = end - timedelta(hours=6)\n",
    "while True: #may need to wait a few seconds before event shows up in EFD\n",
    "    dfe = await client.select_time_series('lsst.sal.MTHexapod.logevent_summaryState', '*', start, end, csc_index)\n",
    "    if len(dfe)>0:\n",
    "        break"
   ]
  },
  {
   "cell_type": "code",
   "execution_count": 17,
   "metadata": {
    "scrolled": true
   },
   "outputs": [
    {
     "data": {
      "text/html": [
       "<div>\n",
       "<style scoped>\n",
       "    .dataframe tbody tr th:only-of-type {\n",
       "        vertical-align: middle;\n",
       "    }\n",
       "\n",
       "    .dataframe tbody tr th {\n",
       "        vertical-align: top;\n",
       "    }\n",
       "\n",
       "    .dataframe thead th {\n",
       "        text-align: right;\n",
       "    }\n",
       "</style>\n",
       "<table border=\"1\" class=\"dataframe\">\n",
       "  <thead>\n",
       "    <tr style=\"text-align: right;\">\n",
       "      <th></th>\n",
       "      <th>MTHexapodID</th>\n",
       "      <th>priority</th>\n",
       "      <th>private_efdStamp</th>\n",
       "      <th>private_host</th>\n",
       "      <th>private_identity</th>\n",
       "      <th>private_kafkaStamp</th>\n",
       "      <th>private_origin</th>\n",
       "      <th>private_rcvStamp</th>\n",
       "      <th>private_revCode</th>\n",
       "      <th>private_seqNum</th>\n",
       "      <th>private_sndStamp</th>\n",
       "      <th>summaryState</th>\n",
       "    </tr>\n",
       "  </thead>\n",
       "  <tbody>\n",
       "    <tr>\n",
       "      <th>2021-07-09 18:31:50.137000+00:00</th>\n",
       "      <td>1</td>\n",
       "      <td>0</td>\n",
       "      <td>1.625855e+09</td>\n",
       "      <td>0</td>\n",
       "      <td>MTHexapod:1</td>\n",
       "      <td>1.625856e+09</td>\n",
       "      <td>8867</td>\n",
       "      <td>1.625856e+09</td>\n",
       "      <td>959a0a03</td>\n",
       "      <td>37</td>\n",
       "      <td>1.625856e+09</td>\n",
       "      <td>1</td>\n",
       "    </tr>\n",
       "    <tr>\n",
       "      <th>2021-07-09 18:32:28.693000+00:00</th>\n",
       "      <td>1</td>\n",
       "      <td>0</td>\n",
       "      <td>1.625856e+09</td>\n",
       "      <td>0</td>\n",
       "      <td>MTHexapod:1</td>\n",
       "      <td>1.625856e+09</td>\n",
       "      <td>8867</td>\n",
       "      <td>1.625856e+09</td>\n",
       "      <td>959a0a03</td>\n",
       "      <td>38</td>\n",
       "      <td>1.625856e+09</td>\n",
       "      <td>5</td>\n",
       "    </tr>\n",
       "    <tr>\n",
       "      <th>2021-07-09 18:32:30.006000+00:00</th>\n",
       "      <td>1</td>\n",
       "      <td>0</td>\n",
       "      <td>1.625856e+09</td>\n",
       "      <td>0</td>\n",
       "      <td>MTHexapod:1</td>\n",
       "      <td>1.625856e+09</td>\n",
       "      <td>8867</td>\n",
       "      <td>1.625856e+09</td>\n",
       "      <td>959a0a03</td>\n",
       "      <td>39</td>\n",
       "      <td>1.625856e+09</td>\n",
       "      <td>1</td>\n",
       "    </tr>\n",
       "    <tr>\n",
       "      <th>2021-07-09 18:32:32.530000+00:00</th>\n",
       "      <td>1</td>\n",
       "      <td>0</td>\n",
       "      <td>1.625856e+09</td>\n",
       "      <td>0</td>\n",
       "      <td>MTHexapod:1</td>\n",
       "      <td>1.625856e+09</td>\n",
       "      <td>8867</td>\n",
       "      <td>1.625856e+09</td>\n",
       "      <td>959a0a03</td>\n",
       "      <td>40</td>\n",
       "      <td>1.625856e+09</td>\n",
       "      <td>2</td>\n",
       "    </tr>\n",
       "    <tr>\n",
       "      <th>2021-07-09 18:37:54.610000+00:00</th>\n",
       "      <td>1</td>\n",
       "      <td>0</td>\n",
       "      <td>1.625856e+09</td>\n",
       "      <td>0</td>\n",
       "      <td>MTHexapod:1</td>\n",
       "      <td>1.625856e+09</td>\n",
       "      <td>8867</td>\n",
       "      <td>1.625856e+09</td>\n",
       "      <td>959a0a03</td>\n",
       "      <td>41</td>\n",
       "      <td>1.625856e+09</td>\n",
       "      <td>1</td>\n",
       "    </tr>\n",
       "    <tr>\n",
       "      <th>2021-07-09 18:37:56.734000+00:00</th>\n",
       "      <td>1</td>\n",
       "      <td>0</td>\n",
       "      <td>1.625856e+09</td>\n",
       "      <td>0</td>\n",
       "      <td>MTHexapod:1</td>\n",
       "      <td>1.625856e+09</td>\n",
       "      <td>8867</td>\n",
       "      <td>1.625856e+09</td>\n",
       "      <td>959a0a03</td>\n",
       "      <td>42</td>\n",
       "      <td>1.625856e+09</td>\n",
       "      <td>5</td>\n",
       "    </tr>\n",
       "    <tr>\n",
       "      <th>2021-07-09 18:37:57.341000+00:00</th>\n",
       "      <td>1</td>\n",
       "      <td>0</td>\n",
       "      <td>1.625856e+09</td>\n",
       "      <td>0</td>\n",
       "      <td>MTHexapod:1</td>\n",
       "      <td>1.625856e+09</td>\n",
       "      <td>8867</td>\n",
       "      <td>1.625856e+09</td>\n",
       "      <td>959a0a03</td>\n",
       "      <td>43</td>\n",
       "      <td>1.625856e+09</td>\n",
       "      <td>1</td>\n",
       "    </tr>\n",
       "    <tr>\n",
       "      <th>2021-07-09 18:37:57.644000+00:00</th>\n",
       "      <td>1</td>\n",
       "      <td>0</td>\n",
       "      <td>1.625856e+09</td>\n",
       "      <td>0</td>\n",
       "      <td>MTHexapod:1</td>\n",
       "      <td>1.625856e+09</td>\n",
       "      <td>8867</td>\n",
       "      <td>1.625856e+09</td>\n",
       "      <td>959a0a03</td>\n",
       "      <td>44</td>\n",
       "      <td>1.625856e+09</td>\n",
       "      <td>2</td>\n",
       "    </tr>\n",
       "    <tr>\n",
       "      <th>2021-07-09 18:44:00.294000+00:00</th>\n",
       "      <td>1</td>\n",
       "      <td>0</td>\n",
       "      <td>1.625856e+09</td>\n",
       "      <td>0</td>\n",
       "      <td>MTHexapod:1</td>\n",
       "      <td>1.625856e+09</td>\n",
       "      <td>8867</td>\n",
       "      <td>1.625856e+09</td>\n",
       "      <td>959a0a03</td>\n",
       "      <td>45</td>\n",
       "      <td>1.625856e+09</td>\n",
       "      <td>1</td>\n",
       "    </tr>\n",
       "    <tr>\n",
       "      <th>2021-07-09 18:44:00.395000+00:00</th>\n",
       "      <td>1</td>\n",
       "      <td>0</td>\n",
       "      <td>1.625856e+09</td>\n",
       "      <td>0</td>\n",
       "      <td>MTHexapod:1</td>\n",
       "      <td>1.625856e+09</td>\n",
       "      <td>8867</td>\n",
       "      <td>1.625856e+09</td>\n",
       "      <td>959a0a03</td>\n",
       "      <td>46</td>\n",
       "      <td>1.625856e+09</td>\n",
       "      <td>5</td>\n",
       "    </tr>\n",
       "    <tr>\n",
       "      <th>2021-07-09 18:44:00.597000+00:00</th>\n",
       "      <td>1</td>\n",
       "      <td>0</td>\n",
       "      <td>1.625856e+09</td>\n",
       "      <td>0</td>\n",
       "      <td>MTHexapod:1</td>\n",
       "      <td>1.625856e+09</td>\n",
       "      <td>8867</td>\n",
       "      <td>1.625856e+09</td>\n",
       "      <td>959a0a03</td>\n",
       "      <td>47</td>\n",
       "      <td>1.625856e+09</td>\n",
       "      <td>1</td>\n",
       "    </tr>\n",
       "    <tr>\n",
       "      <th>2021-07-09 18:44:00.799000+00:00</th>\n",
       "      <td>1</td>\n",
       "      <td>0</td>\n",
       "      <td>1.625856e+09</td>\n",
       "      <td>0</td>\n",
       "      <td>MTHexapod:1</td>\n",
       "      <td>1.625856e+09</td>\n",
       "      <td>8867</td>\n",
       "      <td>1.625856e+09</td>\n",
       "      <td>959a0a03</td>\n",
       "      <td>48</td>\n",
       "      <td>1.625856e+09</td>\n",
       "      <td>2</td>\n",
       "    </tr>\n",
       "    <tr>\n",
       "      <th>2021-07-09 19:02:24.103000+00:00</th>\n",
       "      <td>1</td>\n",
       "      <td>0</td>\n",
       "      <td>1.625857e+09</td>\n",
       "      <td>0</td>\n",
       "      <td>MTHexapod:1</td>\n",
       "      <td>1.625857e+09</td>\n",
       "      <td>8867</td>\n",
       "      <td>1.625857e+09</td>\n",
       "      <td>959a0a03</td>\n",
       "      <td>49</td>\n",
       "      <td>1.625857e+09</td>\n",
       "      <td>1</td>\n",
       "    </tr>\n",
       "    <tr>\n",
       "      <th>2021-07-09 19:02:24.306000+00:00</th>\n",
       "      <td>1</td>\n",
       "      <td>0</td>\n",
       "      <td>1.625857e+09</td>\n",
       "      <td>0</td>\n",
       "      <td>MTHexapod:1</td>\n",
       "      <td>1.625857e+09</td>\n",
       "      <td>8867</td>\n",
       "      <td>1.625857e+09</td>\n",
       "      <td>959a0a03</td>\n",
       "      <td>50</td>\n",
       "      <td>1.625857e+09</td>\n",
       "      <td>5</td>\n",
       "    </tr>\n",
       "    <tr>\n",
       "      <th>2021-07-09 19:02:24.508000+00:00</th>\n",
       "      <td>1</td>\n",
       "      <td>0</td>\n",
       "      <td>1.625857e+09</td>\n",
       "      <td>0</td>\n",
       "      <td>MTHexapod:1</td>\n",
       "      <td>1.625857e+09</td>\n",
       "      <td>8867</td>\n",
       "      <td>1.625857e+09</td>\n",
       "      <td>959a0a03</td>\n",
       "      <td>51</td>\n",
       "      <td>1.625857e+09</td>\n",
       "      <td>1</td>\n",
       "    </tr>\n",
       "    <tr>\n",
       "      <th>2021-07-09 19:02:24.711000+00:00</th>\n",
       "      <td>1</td>\n",
       "      <td>0</td>\n",
       "      <td>1.625857e+09</td>\n",
       "      <td>0</td>\n",
       "      <td>MTHexapod:1</td>\n",
       "      <td>1.625857e+09</td>\n",
       "      <td>8867</td>\n",
       "      <td>1.625857e+09</td>\n",
       "      <td>959a0a03</td>\n",
       "      <td>52</td>\n",
       "      <td>1.625857e+09</td>\n",
       "      <td>2</td>\n",
       "    </tr>\n",
       "    <tr>\n",
       "      <th>2021-07-09 19:07:10.896000+00:00</th>\n",
       "      <td>1</td>\n",
       "      <td>0</td>\n",
       "      <td>1.625858e+09</td>\n",
       "      <td>0</td>\n",
       "      <td>MTHexapod:1</td>\n",
       "      <td>1.625858e+09</td>\n",
       "      <td>8867</td>\n",
       "      <td>1.625858e+09</td>\n",
       "      <td>959a0a03</td>\n",
       "      <td>53</td>\n",
       "      <td>1.625858e+09</td>\n",
       "      <td>1</td>\n",
       "    </tr>\n",
       "    <tr>\n",
       "      <th>2021-07-09 19:07:11.098000+00:00</th>\n",
       "      <td>1</td>\n",
       "      <td>0</td>\n",
       "      <td>1.625858e+09</td>\n",
       "      <td>0</td>\n",
       "      <td>MTHexapod:1</td>\n",
       "      <td>1.625858e+09</td>\n",
       "      <td>8867</td>\n",
       "      <td>1.625858e+09</td>\n",
       "      <td>959a0a03</td>\n",
       "      <td>54</td>\n",
       "      <td>1.625858e+09</td>\n",
       "      <td>5</td>\n",
       "    </tr>\n",
       "    <tr>\n",
       "      <th>2021-07-09 19:07:11.300000+00:00</th>\n",
       "      <td>1</td>\n",
       "      <td>0</td>\n",
       "      <td>1.625858e+09</td>\n",
       "      <td>0</td>\n",
       "      <td>MTHexapod:1</td>\n",
       "      <td>1.625858e+09</td>\n",
       "      <td>8867</td>\n",
       "      <td>1.625858e+09</td>\n",
       "      <td>959a0a03</td>\n",
       "      <td>55</td>\n",
       "      <td>1.625858e+09</td>\n",
       "      <td>1</td>\n",
       "    </tr>\n",
       "    <tr>\n",
       "      <th>2021-07-09 19:07:11.503000+00:00</th>\n",
       "      <td>1</td>\n",
       "      <td>0</td>\n",
       "      <td>1.625858e+09</td>\n",
       "      <td>0</td>\n",
       "      <td>MTHexapod:1</td>\n",
       "      <td>1.625858e+09</td>\n",
       "      <td>8867</td>\n",
       "      <td>1.625858e+09</td>\n",
       "      <td>959a0a03</td>\n",
       "      <td>56</td>\n",
       "      <td>1.625858e+09</td>\n",
       "      <td>2</td>\n",
       "    </tr>\n",
       "  </tbody>\n",
       "</table>\n",
       "</div>"
      ],
      "text/plain": [
       "                                  MTHexapodID  priority  private_efdStamp  \\\n",
       "2021-07-09 18:31:50.137000+00:00            1         0      1.625855e+09   \n",
       "2021-07-09 18:32:28.693000+00:00            1         0      1.625856e+09   \n",
       "2021-07-09 18:32:30.006000+00:00            1         0      1.625856e+09   \n",
       "2021-07-09 18:32:32.530000+00:00            1         0      1.625856e+09   \n",
       "2021-07-09 18:37:54.610000+00:00            1         0      1.625856e+09   \n",
       "2021-07-09 18:37:56.734000+00:00            1         0      1.625856e+09   \n",
       "2021-07-09 18:37:57.341000+00:00            1         0      1.625856e+09   \n",
       "2021-07-09 18:37:57.644000+00:00            1         0      1.625856e+09   \n",
       "2021-07-09 18:44:00.294000+00:00            1         0      1.625856e+09   \n",
       "2021-07-09 18:44:00.395000+00:00            1         0      1.625856e+09   \n",
       "2021-07-09 18:44:00.597000+00:00            1         0      1.625856e+09   \n",
       "2021-07-09 18:44:00.799000+00:00            1         0      1.625856e+09   \n",
       "2021-07-09 19:02:24.103000+00:00            1         0      1.625857e+09   \n",
       "2021-07-09 19:02:24.306000+00:00            1         0      1.625857e+09   \n",
       "2021-07-09 19:02:24.508000+00:00            1         0      1.625857e+09   \n",
       "2021-07-09 19:02:24.711000+00:00            1         0      1.625857e+09   \n",
       "2021-07-09 19:07:10.896000+00:00            1         0      1.625858e+09   \n",
       "2021-07-09 19:07:11.098000+00:00            1         0      1.625858e+09   \n",
       "2021-07-09 19:07:11.300000+00:00            1         0      1.625858e+09   \n",
       "2021-07-09 19:07:11.503000+00:00            1         0      1.625858e+09   \n",
       "\n",
       "                                  private_host private_identity  \\\n",
       "2021-07-09 18:31:50.137000+00:00             0      MTHexapod:1   \n",
       "2021-07-09 18:32:28.693000+00:00             0      MTHexapod:1   \n",
       "2021-07-09 18:32:30.006000+00:00             0      MTHexapod:1   \n",
       "2021-07-09 18:32:32.530000+00:00             0      MTHexapod:1   \n",
       "2021-07-09 18:37:54.610000+00:00             0      MTHexapod:1   \n",
       "2021-07-09 18:37:56.734000+00:00             0      MTHexapod:1   \n",
       "2021-07-09 18:37:57.341000+00:00             0      MTHexapod:1   \n",
       "2021-07-09 18:37:57.644000+00:00             0      MTHexapod:1   \n",
       "2021-07-09 18:44:00.294000+00:00             0      MTHexapod:1   \n",
       "2021-07-09 18:44:00.395000+00:00             0      MTHexapod:1   \n",
       "2021-07-09 18:44:00.597000+00:00             0      MTHexapod:1   \n",
       "2021-07-09 18:44:00.799000+00:00             0      MTHexapod:1   \n",
       "2021-07-09 19:02:24.103000+00:00             0      MTHexapod:1   \n",
       "2021-07-09 19:02:24.306000+00:00             0      MTHexapod:1   \n",
       "2021-07-09 19:02:24.508000+00:00             0      MTHexapod:1   \n",
       "2021-07-09 19:02:24.711000+00:00             0      MTHexapod:1   \n",
       "2021-07-09 19:07:10.896000+00:00             0      MTHexapod:1   \n",
       "2021-07-09 19:07:11.098000+00:00             0      MTHexapod:1   \n",
       "2021-07-09 19:07:11.300000+00:00             0      MTHexapod:1   \n",
       "2021-07-09 19:07:11.503000+00:00             0      MTHexapod:1   \n",
       "\n",
       "                                  private_kafkaStamp  private_origin  \\\n",
       "2021-07-09 18:31:50.137000+00:00        1.625856e+09            8867   \n",
       "2021-07-09 18:32:28.693000+00:00        1.625856e+09            8867   \n",
       "2021-07-09 18:32:30.006000+00:00        1.625856e+09            8867   \n",
       "2021-07-09 18:32:32.530000+00:00        1.625856e+09            8867   \n",
       "2021-07-09 18:37:54.610000+00:00        1.625856e+09            8867   \n",
       "2021-07-09 18:37:56.734000+00:00        1.625856e+09            8867   \n",
       "2021-07-09 18:37:57.341000+00:00        1.625856e+09            8867   \n",
       "2021-07-09 18:37:57.644000+00:00        1.625856e+09            8867   \n",
       "2021-07-09 18:44:00.294000+00:00        1.625856e+09            8867   \n",
       "2021-07-09 18:44:00.395000+00:00        1.625856e+09            8867   \n",
       "2021-07-09 18:44:00.597000+00:00        1.625856e+09            8867   \n",
       "2021-07-09 18:44:00.799000+00:00        1.625856e+09            8867   \n",
       "2021-07-09 19:02:24.103000+00:00        1.625857e+09            8867   \n",
       "2021-07-09 19:02:24.306000+00:00        1.625857e+09            8867   \n",
       "2021-07-09 19:02:24.508000+00:00        1.625857e+09            8867   \n",
       "2021-07-09 19:02:24.711000+00:00        1.625857e+09            8867   \n",
       "2021-07-09 19:07:10.896000+00:00        1.625858e+09            8867   \n",
       "2021-07-09 19:07:11.098000+00:00        1.625858e+09            8867   \n",
       "2021-07-09 19:07:11.300000+00:00        1.625858e+09            8867   \n",
       "2021-07-09 19:07:11.503000+00:00        1.625858e+09            8867   \n",
       "\n",
       "                                  private_rcvStamp private_revCode  \\\n",
       "2021-07-09 18:31:50.137000+00:00      1.625856e+09        959a0a03   \n",
       "2021-07-09 18:32:28.693000+00:00      1.625856e+09        959a0a03   \n",
       "2021-07-09 18:32:30.006000+00:00      1.625856e+09        959a0a03   \n",
       "2021-07-09 18:32:32.530000+00:00      1.625856e+09        959a0a03   \n",
       "2021-07-09 18:37:54.610000+00:00      1.625856e+09        959a0a03   \n",
       "2021-07-09 18:37:56.734000+00:00      1.625856e+09        959a0a03   \n",
       "2021-07-09 18:37:57.341000+00:00      1.625856e+09        959a0a03   \n",
       "2021-07-09 18:37:57.644000+00:00      1.625856e+09        959a0a03   \n",
       "2021-07-09 18:44:00.294000+00:00      1.625856e+09        959a0a03   \n",
       "2021-07-09 18:44:00.395000+00:00      1.625856e+09        959a0a03   \n",
       "2021-07-09 18:44:00.597000+00:00      1.625856e+09        959a0a03   \n",
       "2021-07-09 18:44:00.799000+00:00      1.625856e+09        959a0a03   \n",
       "2021-07-09 19:02:24.103000+00:00      1.625857e+09        959a0a03   \n",
       "2021-07-09 19:02:24.306000+00:00      1.625857e+09        959a0a03   \n",
       "2021-07-09 19:02:24.508000+00:00      1.625857e+09        959a0a03   \n",
       "2021-07-09 19:02:24.711000+00:00      1.625857e+09        959a0a03   \n",
       "2021-07-09 19:07:10.896000+00:00      1.625858e+09        959a0a03   \n",
       "2021-07-09 19:07:11.098000+00:00      1.625858e+09        959a0a03   \n",
       "2021-07-09 19:07:11.300000+00:00      1.625858e+09        959a0a03   \n",
       "2021-07-09 19:07:11.503000+00:00      1.625858e+09        959a0a03   \n",
       "\n",
       "                                  private_seqNum  private_sndStamp  \\\n",
       "2021-07-09 18:31:50.137000+00:00              37      1.625856e+09   \n",
       "2021-07-09 18:32:28.693000+00:00              38      1.625856e+09   \n",
       "2021-07-09 18:32:30.006000+00:00              39      1.625856e+09   \n",
       "2021-07-09 18:32:32.530000+00:00              40      1.625856e+09   \n",
       "2021-07-09 18:37:54.610000+00:00              41      1.625856e+09   \n",
       "2021-07-09 18:37:56.734000+00:00              42      1.625856e+09   \n",
       "2021-07-09 18:37:57.341000+00:00              43      1.625856e+09   \n",
       "2021-07-09 18:37:57.644000+00:00              44      1.625856e+09   \n",
       "2021-07-09 18:44:00.294000+00:00              45      1.625856e+09   \n",
       "2021-07-09 18:44:00.395000+00:00              46      1.625856e+09   \n",
       "2021-07-09 18:44:00.597000+00:00              47      1.625856e+09   \n",
       "2021-07-09 18:44:00.799000+00:00              48      1.625856e+09   \n",
       "2021-07-09 19:02:24.103000+00:00              49      1.625857e+09   \n",
       "2021-07-09 19:02:24.306000+00:00              50      1.625857e+09   \n",
       "2021-07-09 19:02:24.508000+00:00              51      1.625857e+09   \n",
       "2021-07-09 19:02:24.711000+00:00              52      1.625857e+09   \n",
       "2021-07-09 19:07:10.896000+00:00              53      1.625858e+09   \n",
       "2021-07-09 19:07:11.098000+00:00              54      1.625858e+09   \n",
       "2021-07-09 19:07:11.300000+00:00              55      1.625858e+09   \n",
       "2021-07-09 19:07:11.503000+00:00              56      1.625858e+09   \n",
       "\n",
       "                                  summaryState  \n",
       "2021-07-09 18:31:50.137000+00:00             1  \n",
       "2021-07-09 18:32:28.693000+00:00             5  \n",
       "2021-07-09 18:32:30.006000+00:00             1  \n",
       "2021-07-09 18:32:32.530000+00:00             2  \n",
       "2021-07-09 18:37:54.610000+00:00             1  \n",
       "2021-07-09 18:37:56.734000+00:00             5  \n",
       "2021-07-09 18:37:57.341000+00:00             1  \n",
       "2021-07-09 18:37:57.644000+00:00             2  \n",
       "2021-07-09 18:44:00.294000+00:00             1  \n",
       "2021-07-09 18:44:00.395000+00:00             5  \n",
       "2021-07-09 18:44:00.597000+00:00             1  \n",
       "2021-07-09 18:44:00.799000+00:00             2  \n",
       "2021-07-09 19:02:24.103000+00:00             1  \n",
       "2021-07-09 19:02:24.306000+00:00             5  \n",
       "2021-07-09 19:02:24.508000+00:00             1  \n",
       "2021-07-09 19:02:24.711000+00:00             2  \n",
       "2021-07-09 19:07:10.896000+00:00             1  \n",
       "2021-07-09 19:07:11.098000+00:00             5  \n",
       "2021-07-09 19:07:11.300000+00:00             1  \n",
       "2021-07-09 19:07:11.503000+00:00             2  "
      ]
     },
     "execution_count": 17,
     "metadata": {},
     "output_type": "execute_result"
    }
   ],
   "source": [
    "dfe"
   ]
  },
  {
   "cell_type": "markdown",
   "metadata": {},
   "source": [
    "## Check that the other components are enabled or, if not, enable them "
   ]
  },
  {
   "cell_type": "code",
   "execution_count": 18,
   "metadata": {},
   "outputs": [
    {
     "data": {
      "text/plain": [
       "[<State.ENABLED: 2>]"
      ]
     },
     "execution_count": 18,
     "metadata": {},
     "output_type": "execute_result"
    }
   ],
   "source": [
    "await salobj.set_summary_state(r.mtm, salobj.State.ENABLED)"
   ]
  },
  {
   "cell_type": "code",
   "execution_count": 19,
   "metadata": {},
   "outputs": [
    {
     "data": {
      "text/plain": [
       "[<State.ENABLED: 2>]"
      ]
     },
     "execution_count": 19,
     "metadata": {},
     "output_type": "execute_result"
    }
   ],
   "source": [
    "await salobj.set_summary_state(r.mtrot, salobj.State.ENABLED)"
   ]
  },
  {
   "cell_type": "code",
   "execution_count": 20,
   "metadata": {},
   "outputs": [
    {
     "data": {
      "text/plain": [
       "[<State.ENABLED: 2>]"
      ]
     },
     "execution_count": 20,
     "metadata": {},
     "output_type": "execute_result"
    }
   ],
   "source": [
    "await salobj.set_summary_state(r.mtptg, salobj.State.ENABLED)"
   ]
  },
  {
   "cell_type": "markdown",
   "metadata": {},
   "source": [
    "## Check that the configurations and that the needed telemetry is comming in:"
   ]
  },
  {
   "cell_type": "code",
   "execution_count": 22,
   "metadata": {},
   "outputs": [
    {
     "name": "stdout",
     "output_type": "stream",
     "text": [
      "pivot at (0, 0, -2758400) microns \n",
      "maxXY =  11400.0 microns, maxZ=  13100.0  microns\n",
      "maxUV =  0.36 deg, maxW=  0.1  deg\n"
     ]
    }
   ],
   "source": [
    "#Check some configurations for the hexapod\n",
    "hexConfig = await r.mthex.evt_configuration.aget(timeout=10.)\n",
    "print(\"pivot at (%.0f, %.0f, %.0f) microns \"%(hexConfig.pivotX, hexConfig.pivotY, hexConfig.pivotZ))\n",
    "print(\"maxXY = \", hexConfig.maxXY, \"microns, maxZ= \", hexConfig.maxZ, \" microns\")\n",
    "print(\"maxUV = \", hexConfig.maxUV, \"deg, maxW= \", hexConfig.maxW, \" deg\")"
   ]
  },
  {
   "cell_type": "code",
   "execution_count": 23,
   "metadata": {},
   "outputs": [],
   "source": [
    "end = Time(datetime.now())\n",
    "start = end - timedelta(hours=3)\n",
    "#logeventTarget = await client.select_time_series('lsst.sal.MTMount.logevent_target', '*', start.tai, end.tai)\n",
    "#With this we can get the elevation when a controller is running\n",
    "MTMountElevation = await client.select_time_series('lsst.sal.MTMount.elevation', '*', start.tai, end.tai)\n",
    "MTMountAzimuth = await client.select_time_series('lsst.sal.MTMount.azimuth', '*', start.tai, end.tai)\n",
    "MTRotPosition = await client.select_time_series('lsst.sal.MTRotator.rotation', '*', start.tai, end.tai)"
   ]
  },
  {
   "cell_type": "code",
   "execution_count": 24,
   "metadata": {},
   "outputs": [
    {
     "name": "stdout",
     "output_type": "stream",
     "text": [
      "Mount elevation from the EFD:\n"
     ]
    },
    {
     "data": {
      "text/plain": [
       "2021-07-09 16:09:23.417000+00:00    75\n",
       "2021-07-09 16:09:23.618000+00:00    75\n",
       "2021-07-09 16:09:23.819000+00:00    75\n",
       "2021-07-09 16:09:24.019000+00:00    75\n",
       "2021-07-09 16:09:24.220000+00:00    75\n",
       "                                    ..\n",
       "2021-07-09 19:09:22.311000+00:00    75\n",
       "2021-07-09 19:09:22.512000+00:00    75\n",
       "2021-07-09 19:09:22.712000+00:00    75\n",
       "2021-07-09 19:09:22.913000+00:00    75\n",
       "2021-07-09 19:09:23.114000+00:00    75\n",
       "Name: actualPosition, Length: 53783, dtype: int64"
      ]
     },
     "execution_count": 24,
     "metadata": {},
     "output_type": "execute_result"
    }
   ],
   "source": [
    "#get the elevation into a variable\n",
    "mtmElev=MTMountElevation.actualPosition\n",
    "print(\"Mount elevation from the EFD:\")\n",
    "mtmElev"
   ]
  },
  {
   "cell_type": "code",
   "execution_count": 25,
   "metadata": {},
   "outputs": [
    {
     "name": "stdout",
     "output_type": "stream",
     "text": [
      "Mount azimuth from the EFD:\n"
     ]
    },
    {
     "data": {
      "text/plain": [
       "2021-07-09 16:09:23.417000+00:00   -3.552714e-15\n",
       "2021-07-09 16:09:23.617000+00:00   -3.552714e-15\n",
       "2021-07-09 16:09:23.818000+00:00   -3.552714e-15\n",
       "2021-07-09 16:09:24.019000+00:00   -3.552714e-15\n",
       "2021-07-09 16:09:24.220000+00:00   -3.552714e-15\n",
       "                                        ...     \n",
       "2021-07-09 19:09:22.511000+00:00   -3.552714e-15\n",
       "2021-07-09 19:09:22.712000+00:00   -3.552714e-15\n",
       "2021-07-09 19:09:22.913000+00:00   -3.552714e-15\n",
       "2021-07-09 19:09:23.114000+00:00   -3.552714e-15\n",
       "2021-07-09 19:09:23.314000+00:00   -3.552714e-15\n",
       "Name: actualPosition, Length: 53784, dtype: float64"
      ]
     },
     "execution_count": 25,
     "metadata": {},
     "output_type": "execute_result"
    }
   ],
   "source": [
    "mtmAzimuth = MTMountAzimuth.actualPosition\n",
    "print(\"Mount azimuth from the EFD:\")\n",
    "mtmAzimuth"
   ]
  },
  {
   "cell_type": "code",
   "execution_count": 26,
   "metadata": {},
   "outputs": [
    {
     "name": "stdout",
     "output_type": "stream",
     "text": [
      "MTRotator positon from the EFD:\n"
     ]
    },
    {
     "data": {
      "text/plain": [
       "2021-07-09 16:09:23.440000+00:00   -2.911691e-07\n",
       "2021-07-09 16:09:23.541000+00:00    7.065940e-07\n",
       "2021-07-09 16:09:23.641000+00:00   -9.296782e-07\n",
       "2021-07-09 16:09:23.742000+00:00   -6.678588e-07\n",
       "2021-07-09 16:09:23.843000+00:00    6.430900e-07\n",
       "                                        ...     \n",
       "2021-07-09 19:09:22.935000+00:00    6.157509e-08\n",
       "2021-07-09 19:09:23.035000+00:00    2.109197e-07\n",
       "2021-07-09 19:09:23.136000+00:00   -1.447755e-06\n",
       "2021-07-09 19:09:23.236000+00:00    1.438628e-06\n",
       "2021-07-09 19:09:23.337000+00:00    8.799171e-07\n",
       "Name: actualPosition, Length: 106956, dtype: float64"
      ]
     },
     "execution_count": 26,
     "metadata": {},
     "output_type": "execute_result"
    }
   ],
   "source": [
    "mtrotPosition = MTRotPosition.actualPosition\n",
    "print(\"MTRotator positon from the EFD:\")\n",
    "mtrotPosition"
   ]
  },
  {
   "cell_type": "markdown",
   "metadata": {},
   "source": [
    "# Check the move behavior when LUT is disabled."
   ]
  },
  {
   "cell_type": "code",
   "execution_count": 27,
   "metadata": {},
   "outputs": [
    {
     "name": "stdout",
     "output_type": "stream",
     "text": [
      "Compsensation mode enabled? False\n"
     ]
    }
   ],
   "source": [
    "lutMode = await r.mthex.evt_compensationMode.aget(timeout=10)\n",
    "print(\"Compsensation mode enabled?\",lutMode.enabled)"
   ]
  },
  {
   "cell_type": "code",
   "execution_count": 28,
   "metadata": {},
   "outputs": [
    {
     "name": "stdout",
     "output_type": "stream",
     "text": [
      "Current Hexapod position\n",
      "     -0.03      -0.00      -0.05       0.00       0.00      -0.00\n"
     ]
    }
   ],
   "source": [
    "async def printPosition(hex):\n",
    "    pos = await r.mthex.tel_application.next(flush=True, timeout=10.)\n",
    "    print(\"Current Hexapod position\")\n",
    "    print(\" \".join(f\"{p:10.2f}\" for p in pos.position))\n",
    "await printPosition(hex)"
   ]
  },
  {
   "cell_type": "code",
   "execution_count": 29,
   "metadata": {},
   "outputs": [],
   "source": [
    "test_message = \"Camera Hexapod Integration Test\""
   ]
  },
  {
   "cell_type": "code",
   "execution_count": 30,
   "metadata": {},
   "outputs": [
    {
     "data": {
      "text/plain": [
       "<ddsutil.MTHexapod_ackcmd_da0a635d at 0x7f469d3b5df0>"
      ]
     },
     "execution_count": 30,
     "metadata": {},
     "output_type": "execute_result"
    }
   ],
   "source": [
    "#This command is to set the Hexapod to zero position\n",
    "now = datetime.now()\n",
    "script.log.info(f\"START- {test_message} -- LVV-T1600 -- Move to Zero- Starting time: {now} UTC\")\n",
    "await r.mthex.cmd_move.set_start(x=0,y=0,z=0, u=0,v=0,w=0,sync=True)"
   ]
  },
  {
   "cell_type": "code",
   "execution_count": 31,
   "metadata": {},
   "outputs": [
    {
     "data": {
      "text/plain": [
       "<ddsutil.MTHexapod_ackcmd_da0a635d at 0x7f467efcf640>"
      ]
     },
     "execution_count": 31,
     "metadata": {},
     "output_type": "execute_result"
    }
   ],
   "source": [
    "#To stop the Hexapod\n",
    "await r.mthex.cmd_stop.set_start()"
   ]
  },
  {
   "cell_type": "markdown",
   "metadata": {},
   "source": [
    "If you want to observe the motions in chronograf, consider using \"AND MTHexapodID={hexId}\" to filter out telemetry from the other hexapod"
   ]
  },
  {
   "cell_type": "code",
   "execution_count": 32,
   "metadata": {},
   "outputs": [
    {
     "name": "stdout",
     "output_type": "stream",
     "text": [
      "2021-07-09 19:09:37.677212\n",
      "hex in position? False 2021-07-09 19:10:14.725417216\n",
      "hex in position? True 2021-07-09 19:10:15.535047168\n",
      "hex in position? False 2021-07-09 19:10:15.635905792\n",
      "hex in position? True 2021-07-09 19:10:15.737510144\n",
      "hex in position? False 2021-07-09 19:10:16.041056256\n",
      "hex in position? True 2021-07-09 19:10:16.142476800\n",
      "hex in position? False 2021-07-09 19:10:16.446252800\n",
      "hex in position? True 2021-07-09 19:10:16.547409664\n",
      "hex in position? False 2021-07-09 19:10:16.850181632\n",
      "hex in position? True 2021-07-09 19:10:16.951853568\n",
      "hex in position? False 2021-07-09 19:10:17.255164672\n",
      "hex in position? True 2021-07-09 19:10:17.356537088\n"
     ]
    }
   ],
   "source": [
    "now = datetime.now()\n",
    "print(now)\n",
    "script.log.info(f\"START- {test_message} -- LVV-T1600 Compensation mode test Step 17- Starting time: {now} UTC\")\n",
    "r.mthex.evt_inPosition.flush()\n",
    "for step in range(5,-1,-1):\n",
    "    await r.mthex.cmd_move.set_start(x=0,y=0,z=100*step, u=0,v=0,w=0,sync=True)\n",
    "    while True:\n",
    "        state = await r.mthex.evt_inPosition.next(flush=False, timeout=10)\n",
    "        print(\"hex in position?\",state.inPosition, pd.to_datetime(state.private_sndStamp, unit='s'))\n",
    "        if state.inPosition:\n",
    "            break    "
   ]
  },
  {
   "cell_type": "code",
   "execution_count": 33,
   "metadata": {},
   "outputs": [
    {
     "name": "stdout",
     "output_type": "stream",
     "text": [
      "Current Hexapod position\n",
      "      0.04       0.03      -0.03      -0.00      -0.00      -0.00\n"
     ]
    }
   ],
   "source": [
    "await printPosition(hex)"
   ]
  },
  {
   "cell_type": "code",
   "execution_count": 35,
   "metadata": {},
   "outputs": [
    {
     "name": "stdout",
     "output_type": "stream",
     "text": [
      "hex in position? False 2021-07-09 19:10:57.477750784\n",
      "hex in position? True 2021-07-09 19:10:57.680238848\n",
      "Current Hexapod position\n",
      "      0.01      -0.04     200.04       0.00       0.00       0.00\n",
      "hex in position? False 2021-07-09 19:10:57.882856192\n",
      "hex in position? True 2021-07-09 19:10:58.186420736\n",
      "Current Hexapod position\n",
      "     -0.02      -0.04     400.05       0.00       0.00       0.00\n",
      "hex in position? False 2021-07-09 19:10:58.389729024\n",
      "hex in position? True 2021-07-09 19:10:58.794820608\n",
      "Current Hexapod position\n",
      "     -0.00       0.00     700.03       0.00       0.00       0.00\n",
      "hex in position? False 2021-07-09 19:10:58.996489472\n",
      "hex in position? True 2021-07-09 19:10:59.401220352\n",
      "Current Hexapod position\n",
      "      0.01       0.03     400.00       0.00      -0.00      -0.00\n",
      "hex in position? False 2021-07-09 19:10:59.603844352\n",
      "hex in position? True 2021-07-09 19:10:59.908104192\n",
      "Current Hexapod position\n",
      "      0.05      -0.05     200.01      -0.00      -0.00       0.00\n",
      "hex in position? False 2021-07-09 19:11:00.110498816\n",
      "hex in position? True 2021-07-09 19:11:00.212163840\n",
      "Current Hexapod position\n",
      "     -0.01      -0.03      99.96       0.00       0.00       0.00\n"
     ]
    }
   ],
   "source": [
    "r.mthex.evt_inPosition.flush()\n",
    "for step in [1,2,3,-3,-2,-1]:\n",
    "    #according to XML, units are micron and degree\n",
    "    await r.mthex.cmd_offset.set_start(x=0,y=0,z=100*step, u=0,v=0,w=0,sync=True)\n",
    "    while True:\n",
    "        state = await r.mthex.evt_inPosition.next(flush=False, timeout=10)\n",
    "        print(\"hex in position?\",state.inPosition, pd.to_datetime(state.private_sndStamp, unit='s'))\n",
    "        if state.inPosition:\n",
    "            break\n",
    "     \n",
    "    await printPosition(r.mthex)\n",
    "    \n",
    "    end = Time(datetime.now(), scale='tai')"
   ]
  },
  {
   "cell_type": "code",
   "execution_count": 36,
   "metadata": {},
   "outputs": [],
   "source": [
    "start = end - timedelta(seconds=30)\n",
    "df = await client.select_time_series('lsst.sal.MTHexapod.actuators', '*', start, end, csc_index)\n",
    "#idx= df.MTHexapodID==1\n",
    "#df = df[idx]"
   ]
  },
  {
   "cell_type": "code",
   "execution_count": 37,
   "metadata": {},
   "outputs": [
    {
     "data": {
      "image/png": "[encoded data removed]",
      "text/plain": [
       "<Figure size 1368x216 with 1 Axes>"
      ]
     },
     "metadata": {
      "needs_background": "light"
     },
     "output_type": "display_data"
    }
   ],
   "source": [
    "fig, ax = plt.subplots(figsize=(19,3))\n",
    "plt.plot(df.calibrated0)\n",
    "plt.grid()"
   ]
  },
  {
   "cell_type": "markdown",
   "metadata": {},
   "source": [
    "### When the LUT is enabled"
   ]
  },
  {
   "cell_type": "code",
   "execution_count": 48,
   "metadata": {},
   "outputs": [
    {
     "name": "stdout",
     "output_type": "stream",
     "text": [
      "compsensation mode enabled? True\n"
     ]
    }
   ],
   "source": [
    "await r.mthex.cmd_setCompensationMode.set_start(enable=1, timeout=10)\n",
    "lutMode = r.mthex.evt_compensationMode.get()\n",
    "print(\"compsensation mode enabled?\",lutMode.enabled)"
   ]
  },
  {
   "cell_type": "code",
   "execution_count": null,
   "metadata": {},
   "outputs": [],
   "source": [
    "#Switch compensation mode off:\n",
    "await r.mthex.cmd_setCompensationMode.set_start(enable=0, timeout=10)\n",
    "lutMode =  r.mthex.evt_compensationMode.get()\n",
    "print(\"compsensation mode enabled?\",lutMode.enabled)"
   ]
  },
  {
   "cell_type": "code",
   "execution_count": 50,
   "metadata": {},
   "outputs": [
    {
     "name": "stdout",
     "output_type": "stream",
     "text": [
      "Current Hexapod position\n",
      "     -0.00       0.02     100.05       0.00       0.00      -0.00\n",
      "75.0 0.0 0.0 0.0 0.0 0.0 0.0 0.0 0.0 0.0\n"
     ]
    }
   ],
   "source": [
    "await printPosition(hex)\n",
    "a = r.mthex.evt_compensationOffset.get()\n",
    "print(a.elevation,a.azimuth,a.rotation,a.temperature,a.x,a.y,a.z,a.u,a.v,a.w)"
   ]
  },
  {
   "cell_type": "code",
   "execution_count": 47,
   "metadata": {},
   "outputs": [
    {
     "name": "stdout",
     "output_type": "stream",
     "text": [
      "Uncompensated position\n",
      "      0.00       0.00     100.00      0.000000   0.000000   0.000000    2021-07-09 19:11:00.012217856\n",
      "Compensated position\n",
      "      0.00       0.00     100.00       0.000000   0.000000   0.000000    2021-07-09 19:11:00.012440320\n"
     ]
    }
   ],
   "source": [
    "async def printUncompensatedAndCompensated(hex):\n",
    "    posU =  r.mthex.evt_uncompensatedPosition.get()\n",
    "    print('Uncompensated position')\n",
    "    print(\" \".join(f\"{p:10.2f}\" for p in [getattr(posU, i) for i in 'xyz']), end = '    ')\n",
    "    print(\" \".join(f\"{p:10.6f}\" for p in [getattr(posU, i) for i in 'uvw']),'  ',\n",
    "         pd.to_datetime(posU.private_sndStamp, unit='s'))    \n",
    "    posC = r.mthex.evt_compensatedPosition.get()\n",
    "    print('Compensated position')\n",
    "    print(\" \".join(f\"{p:10.2f}\" for p in [getattr(posC, i) for i in 'xyz']), end = '     ')\n",
    "    print(\" \".join(f\"{p:10.6f}\" for p in [getattr(posC, i) for i in 'uvw']),'  ',\n",
    "         pd.to_datetime(posC.private_sndStamp, unit='s'))\n",
    "\n",
    "await printUncompensatedAndCompensated(hex)"
   ]
  },
  {
   "cell_type": "markdown",
   "metadata": {},
   "source": [
    "The inputs to the LUT are currently -\n",
    "* elevation (from mount telemetry) \n",
    "* temperature (mount truss? not implemented yet)\n",
    "* azimuth (hexapod supports compensation for this input, but model coefficients are not yet configured)\n",
    "* rotator angle (hexapod supports compensation for this input, but model coefficients are not yet configured"
   ]
  },
  {
   "cell_type": "code",
   "execution_count": null,
   "metadata": {},
   "outputs": [],
   "source": [
    "#Only works when mount or mount simulator are active.\n",
    "#mountAngle = await mount.tel_elevation.aget(timeout=10.)\n",
    "#print(\"mount elevation angle\", mountAngle.angleActual)\n",
    "#elev = mountAngle.angleActual"
   ]
  },
  {
   "cell_type": "code",
   "execution_count": null,
   "metadata": {},
   "outputs": [],
   "source": [
    "#To set the elevation for a controller\n",
    "#mount.evt_target.set_put(elevation=45)"
   ]
  },
  {
   "cell_type": "code",
   "execution_count": null,
   "metadata": {},
   "outputs": [],
   "source": [
    "elevationFixed=80.0"
   ]
  },
  {
   "cell_type": "code",
   "execution_count": null,
   "metadata": {},
   "outputs": [],
   "source": [
    "LUTfile = '%s/notebooks/ts_config_mttcs/MTHexapod/v1/default.yaml'%(os.environ[\"HOME\"])\n",
    "with open(LUTfile, 'r') as stream:\n",
    "    aa = yaml.safe_load(stream)\n",
    "if r.mthex.salinfo.sal_name == CAMERA_HEXAPOD:\n",
    "    elevCoeff = aa['camera_config']['elevation_coeffs']\n",
    "    tCoeff = aa['camera_config']['temperature_coeffs']\n",
    "elif r.mthex.salinfo.sal_name == M2_HEXAPOD:\n",
    "    elevCoeff = aa['m2_config']['elevation_coeffs']\n",
    "    tCoeff = aa['m2_config']['temperature_coeffs']"
   ]
  },
  {
   "cell_type": "code",
   "execution_count": null,
   "metadata": {},
   "outputs": [],
   "source": [
    "async def printPredictedComp(elevCoeff, elev):\n",
    "    '''\n",
    "    This function deals with the elevation component of the LUT only, for now.\n",
    "    We will add temperature, azimuth, and rotator angle when they are implemented.\n",
    "    '''\n",
    "    pred = []\n",
    "    print('Predicted LUT compensation:')\n",
    "    for i in range(6):\n",
    "        coeff = elevCoeff[i] #starts with C0\n",
    "        mypoly = np.polynomial.Polynomial(coeff)\n",
    "        pred.append(mypoly(elev))\n",
    "    print(\" \".join(f\"{p:10.2f}\" for p in pred))\n",
    "await printPredictedComp(elevCoeff, elevationFixed)\n",
    "await printUncompensatedAndCompensated(hex)"
   ]
  },
  {
   "cell_type": "markdown",
   "metadata": {},
   "source": [
    "### Do a slew, then check the LUT again"
   ]
  },
  {
   "cell_type": "code",
   "execution_count": null,
   "metadata": {},
   "outputs": [],
   "source": [
    "location = EarthLocation.from_geodetic(lon=-70.747698*u.deg,\n",
    "                                       lat=-30.244728*u.deg,\n",
    "                                       height=2663.0*u.m)\n",
    "print(\"Current elevation angle = \", elev)"
   ]
  },
  {
   "cell_type": "code",
   "execution_count": null,
   "metadata": {},
   "outputs": [],
   "source": [
    "now = datetime.now()\n",
    "print(\"Start to point the telescope\", now)\n",
    "\n",
    "alt = 80. * u.deg\n",
    "az = 0. * u.deg\n",
    "rot_tel = Angle(0, unit= u.deg) "
   ]
  },
  {
   "cell_type": "code",
   "execution_count": null,
   "metadata": {},
   "outputs": [],
   "source": [
    "target_name=\"TMA motion test\"\n",
    "time_data = await mtptg.tel_timeAndDate.next(flush=True, timeout=2)\n",
    "curr_time_ptg = Time(time_data.mjd, format=\"mjd\", scale=\"tai\")\n",
    "time_err = curr_time_ptg - Time.now()\n",
    "print(f\"Time error={time_err.sec:0.2f} sec\")\n",
    "\n",
    "print(curr_time_ptg.tai.value)\n",
    "\n",
    "cmd_elaz = AltAz(alt=alt, az=az, \n",
    "                obstime=curr_time_ptg.tai, \n",
    "                location=location)\n",
    "cmd_radec = cmd_elaz.transform_to(ICRS)\n",
    "# Calculating the other parameters     \n",
    "rot_pa = rot_tel"
   ]
  },
  {
   "cell_type": "code",
   "execution_count": null,
   "metadata": {},
   "outputs": [],
   "source": [
    "#Consider to make this simpler by just track in el/az using azElTarget!\n",
    "#The pointing component is commanding the mount directly\n",
    "ack = await mtptg.cmd_raDecTarget.set_start(\n",
    "    targetName=target_name,\n",
    "    frame=MTPtg.CoordFrame.ICRS,\n",
    "    epoch=2000,  # should be ignored: no parallax or proper motion\n",
    "    equinox=2000,  # should be ignored for ICRS\n",
    "    ra=cmd_radec.ra.hour,\n",
    "    declination=cmd_radec.dec.deg,\n",
    "    parallax=0,\n",
    "    pmRA=0,\n",
    "    pmDec=0,\n",
    "    rv=0,\n",
    "    dRA=0,\n",
    "    dDec=0,\n",
    "    trackId=9999,\n",
    "    rotAngle=15.0,\n",
    "    rotStartFrame=MTPtg.RotFrame.FIXED,\n",
    "    rotTrackFrame=MTPtg.RotFrame.FIXED,\n",
    "    rotMode=MTPtg.RotMode.FIELD,\n",
    "    azWrapStrategy=2,\n",
    "    timeOnTarget=30,\n",
    "    timeout=10\n",
    ")\n",
    "\n",
    "print(\" Now, Waiting 30s\")\n",
    "await asyncio.sleep(30.)\n",
    "print(\"System Ready\")"
   ]
  },
  {
   "cell_type": "code",
   "execution_count": null,
   "metadata": {},
   "outputs": [],
   "source": [
    "mountStatus = await mtm.evt_axesInPosition.aget(timeout=5.)\n",
    "rotStatus = await mtrot.evt_inPosition.aget(timeout=5.)\n",
    "print('Are we tracking?', mountStatus.elevation , mountStatus.azimuth , rotStatus.inPosition)"
   ]
  },
  {
   "cell_type": "code",
   "execution_count": null,
   "metadata": {},
   "outputs": [],
   "source": [
    "await mtptg.cmd_stopTracking.set_start(timeout=5.)"
   ]
  },
  {
   "cell_type": "markdown",
   "metadata": {},
   "source": [
    "### check angle and LUT after the slew"
   ]
  },
  {
   "cell_type": "code",
   "execution_count": null,
   "metadata": {},
   "outputs": [],
   "source": [
    "mountAngle = await mount.tel_elevation.aget(timeout=10.)\n",
    "print(\"mount elevation angle\", mountAngle.actualPosition)\n",
    "elev = mountAngle.actualPosition"
   ]
  },
  {
   "cell_type": "code",
   "execution_count": null,
   "metadata": {},
   "outputs": [],
   "source": [
    "await printPosition(hex)\n",
    "await printUncompensatedAndCompensated(hex)\n",
    "await printPredictedComp(elevCoeff, elev)"
   ]
  },
  {
   "cell_type": "markdown",
   "metadata": {},
   "source": [
    "### Check if the telescope is in tracking mode. If yes, need to stop stacking. \n",
    "The alternative is to check \"MT Mount status\" dash board on Chronograf. Make sure there are three \"False\"."
   ]
  },
  {
   "cell_type": "code",
   "execution_count": null,
   "metadata": {},
   "outputs": [],
   "source": [
    "mountStatus = mount.evt_axesInPosition.get\n",
    "rotStatus = rot.evt_inPosition.get\n",
    "trackingStatus = mountStatus.elevation and mountStatus.azimuth and rotStatus.inPosition\n",
    "print('Are we tracking?', trackingStatus)"
   ]
  },
  {
   "cell_type": "code",
   "execution_count": null,
   "metadata": {},
   "outputs": [],
   "source": [
    "await ptg.cmd_stopTracking.set_start(timeout=5.)"
   ]
  },
  {
   "cell_type": "code",
   "execution_count": null,
   "metadata": {},
   "outputs": [],
   "source": [
    "#Stop the MTMount controller\n",
    "await mount.close()"
   ]
  },
  {
   "cell_type": "code",
   "execution_count": null,
   "metadata": {},
   "outputs": [],
   "source": []
  }
 ],
 "metadata": {
  "kernelspec": {
   "display_name": "LSST",
   "language": "python",
   "name": "lsst"
  },
  "language_info": {
   "codemirror_mode": {
    "name": "ipython",
    "version": 3
   },
   "file_extension": ".py",
   "mimetype": "text/x-python",
   "name": "python",
   "nbconvert_exporter": "python",
   "pygments_lexer": "ipython3",
   "version": "3.8.8"
  }
 },
 "nbformat": 4,
 "nbformat_minor": 4
}
