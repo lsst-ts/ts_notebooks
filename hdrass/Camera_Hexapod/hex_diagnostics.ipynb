{
 "cells": [
  {
   "cell_type": "markdown",
   "metadata": {},
   "source": [
    "## This notebook check the hexapod state transitions and move/offset commands\n",
    "## It also checks the LUT against the input polynomials, before and after a slew\n",
    "\n",
    "This notebook works with both hexapods.\n",
    "\n",
    "Prerequisits:\n",
    "\n",
    "The MTMount and the MTRotator must send telemetry for mount azimuth and elevation and rotation angle."
   ]
  },
  {
   "cell_type": "code",
   "execution_count": 1,
   "metadata": {},
   "outputs": [],
   "source": [
    "from lsst.ts import salobj\n",
    "import asyncio\n",
    "import os\n",
    "import yaml\n",
    "\n",
    "import numpy as np\n",
    "from matplotlib import pyplot as plt\n",
    "from astropy.time import Time\n",
    "from datetime import datetime, timedelta\n",
    "import pandas as pd\n",
    "\n",
    "from lsst.ts.idl.enums import MTPtg\n",
    "from lsst.ts.idl.enums import MTHexapod\n",
    "\n",
    "from astropy.coordinates import AltAz, ICRS, EarthLocation, Angle, FK5\n",
    "import astropy.units as u\n",
    "\n",
    "from lsst_efd_client import EfdClient\n",
    "\n",
    "import types\n",
    "\n",
    "from hexaTools import *"
   ]
  },
  {
   "cell_type": "code",
   "execution_count": 2,
   "metadata": {},
   "outputs": [
    {
     "ename": "NameError",
     "evalue": "name 'r' is not defined",
     "output_type": "error",
     "traceback": [
      "\u001b[0;31m---------------------------------------------------------------------------\u001b[0m",
      "\u001b[0;31mNameError\u001b[0m                                 Traceback (most recent call last)",
      "\u001b[0;32m<ipython-input-2-f2dcfbe1fc46>\u001b[0m in \u001b[0;36m<module>\u001b[0;34m\u001b[0m\n\u001b[1;32m      3\u001b[0m     \u001b[0mprint\u001b[0m\u001b[0;34m(\u001b[0m\u001b[0;34m\"Current Hexapod position\"\u001b[0m\u001b[0;34m)\u001b[0m\u001b[0;34m\u001b[0m\u001b[0;34m\u001b[0m\u001b[0m\n\u001b[1;32m      4\u001b[0m     \u001b[0mprint\u001b[0m\u001b[0;34m(\u001b[0m\u001b[0;34m\" \"\u001b[0m\u001b[0;34m.\u001b[0m\u001b[0mjoin\u001b[0m\u001b[0;34m(\u001b[0m\u001b[0;34mf\"{p:10.2f}\"\u001b[0m \u001b[0;32mfor\u001b[0m \u001b[0mp\u001b[0m \u001b[0;32min\u001b[0m \u001b[0mpos\u001b[0m\u001b[0;34m.\u001b[0m\u001b[0mposition\u001b[0m\u001b[0;34m)\u001b[0m\u001b[0;34m)\u001b[0m\u001b[0;34m\u001b[0m\u001b[0;34m\u001b[0m\u001b[0m\n\u001b[0;32m----> 5\u001b[0;31m \u001b[0;32mawait\u001b[0m \u001b[0mprintPosition\u001b[0m\u001b[0;34m(\u001b[0m\u001b[0mhex\u001b[0m\u001b[0;34m)\u001b[0m\u001b[0;34m\u001b[0m\u001b[0;34m\u001b[0m\u001b[0m\n\u001b[0m",
      "\u001b[0;32m<ipython-input-2-f2dcfbe1fc46>\u001b[0m in \u001b[0;36mprintPosition\u001b[0;34m(hex)\u001b[0m\n\u001b[1;32m      1\u001b[0m \u001b[0;32masync\u001b[0m \u001b[0;32mdef\u001b[0m \u001b[0mprintPosition\u001b[0m\u001b[0;34m(\u001b[0m\u001b[0mhex\u001b[0m\u001b[0;34m)\u001b[0m\u001b[0;34m:\u001b[0m\u001b[0;34m\u001b[0m\u001b[0;34m\u001b[0m\u001b[0m\n\u001b[0;32m----> 2\u001b[0;31m     \u001b[0mpos\u001b[0m \u001b[0;34m=\u001b[0m \u001b[0;32mawait\u001b[0m \u001b[0mr\u001b[0m\u001b[0;34m.\u001b[0m\u001b[0mmthex\u001b[0m\u001b[0;34m.\u001b[0m\u001b[0mtel_application\u001b[0m\u001b[0;34m.\u001b[0m\u001b[0mnext\u001b[0m\u001b[0;34m(\u001b[0m\u001b[0mflush\u001b[0m\u001b[0;34m=\u001b[0m\u001b[0;32mTrue\u001b[0m\u001b[0;34m,\u001b[0m \u001b[0mtimeout\u001b[0m\u001b[0;34m=\u001b[0m\u001b[0;36m10.\u001b[0m\u001b[0;34m)\u001b[0m\u001b[0;34m\u001b[0m\u001b[0;34m\u001b[0m\u001b[0m\n\u001b[0m\u001b[1;32m      3\u001b[0m     \u001b[0mprint\u001b[0m\u001b[0;34m(\u001b[0m\u001b[0;34m\"Current Hexapod position\"\u001b[0m\u001b[0;34m)\u001b[0m\u001b[0;34m\u001b[0m\u001b[0;34m\u001b[0m\u001b[0m\n\u001b[1;32m      4\u001b[0m     \u001b[0mprint\u001b[0m\u001b[0;34m(\u001b[0m\u001b[0;34m\" \"\u001b[0m\u001b[0;34m.\u001b[0m\u001b[0mjoin\u001b[0m\u001b[0;34m(\u001b[0m\u001b[0;34mf\"{p:10.2f}\"\u001b[0m \u001b[0;32mfor\u001b[0m \u001b[0mp\u001b[0m \u001b[0;32min\u001b[0m \u001b[0mpos\u001b[0m\u001b[0;34m.\u001b[0m\u001b[0mposition\u001b[0m\u001b[0;34m)\u001b[0m\u001b[0;34m)\u001b[0m\u001b[0;34m\u001b[0m\u001b[0;34m\u001b[0m\u001b[0m\n\u001b[1;32m      5\u001b[0m \u001b[0;32mawait\u001b[0m \u001b[0mprintPosition\u001b[0m\u001b[0;34m(\u001b[0m\u001b[0mhex\u001b[0m\u001b[0;34m)\u001b[0m\u001b[0;34m\u001b[0m\u001b[0;34m\u001b[0m\u001b[0m\n",
      "\u001b[0;31mNameError\u001b[0m: name 'r' is not defined"
     ]
    }
   ],
   "source": [
    "async def printPosition(hex):\n",
    "    pos = await r.mthex.tel_application.next(flush=True, timeout=10.)\n",
    "    print(\"Current Hexapod position\")\n",
    "    print(\" \".join(f\"{p:10.2f}\" for p in pos.position))\n",
    "await printPosition(hex)"
   ]
  },
  {
   "cell_type": "code",
   "execution_count": 3,
   "metadata": {},
   "outputs": [],
   "source": [
    "os.environ[\"LSST_DDS_HISTORYSYNC\"] = \"30\""
   ]
  },
  {
   "cell_type": "markdown",
   "metadata": {},
   "source": [
    "To switch between the hexapods, change the cell below."
   ]
  },
  {
   "cell_type": "code",
   "execution_count": 4,
   "metadata": {},
   "outputs": [
    {
     "name": "stdout",
     "output_type": "stream",
     "text": [
      "file:///home/hdrass/WORK/ts_ddsconfig/config/ospl-shmem.xml\n"
     ]
    }
   ],
   "source": [
    "import os\n",
    "print(os.environ[\"OSPL_URI\"])\n",
    "if os.environ.get(\"LSST_DDS_ALIGNER\", \"false\") != \"false\":\n",
    "    print(\"LSST_DDS_ALIGNER is mis-configured\")"
   ]
  },
  {
   "cell_type": "code",
   "execution_count": 5,
   "metadata": {},
   "outputs": [],
   "source": [
    "script = salobj.Controller(\"Script\", index=42658887)"
   ]
  },
  {
   "cell_type": "code",
   "execution_count": 6,
   "metadata": {},
   "outputs": [
    {
     "data": {
      "text/plain": [
       "[None]"
      ]
     },
     "execution_count": 6,
     "metadata": {},
     "output_type": "execute_result"
    }
   ],
   "source": [
    "await asyncio.gather(script.start_task)"
   ]
  },
  {
   "cell_type": "code",
   "execution_count": 7,
   "metadata": {},
   "outputs": [],
   "source": [
    "# Dict of short name: full SAL component name and index;\n",
    "# comment out an etry to avoid making the associated remote:\n",
    "remote_names = dict(\n",
    "    # Always comment out one of the two hexapods:\n",
    "    mthex=f\"MTHexapod:{MTHexapod.SalIndex.CAMERA_HEXAPOD}\",\n",
    "    # mthex=f\"MTHexapod:{MTHexapod.SalIndex.M2_HEXAPOD}\",\n",
    "    mtptg=\"MTPtg\",\n",
    "    mtrot=\"MTRotator\",\n",
    "    mtm=\"MTMount\"\n",
    "    )"
   ]
  },
  {
   "cell_type": "code",
   "execution_count": 8,
   "metadata": {},
   "outputs": [],
   "source": [
    "remotes_dict = {}\n",
    "for short_name, sal_name_index in remote_names.items():\n",
    "    sal_name, index = salobj.name_to_name_index(sal_name_index)\n",
    "    remote = salobj.Remote(domain=script.domain, name=sal_name, index=index)\n",
    "    remotes_dict[short_name] = remote \n",
    "r = types.SimpleNamespace(**remotes_dict)\n",
    "del remotes_dict  # use vars® instead\n",
    "hexId = r.mthex.salinfo.index  # or just use the long form"
   ]
  },
  {
   "cell_type": "code",
   "execution_count": 9,
   "metadata": {},
   "outputs": [
    {
     "name": "stdout",
     "output_type": "stream",
     "text": [
      "1\n"
     ]
    }
   ],
   "source": [
    "print(hexId)"
   ]
  },
  {
   "cell_type": "code",
   "execution_count": 10,
   "metadata": {},
   "outputs": [
    {
     "name": "stderr",
     "output_type": "stream",
     "text": [
      "rotation DDS read queue is filling: 59 of 100 elements\n",
      "motors DDS read queue is filling: 62 of 100 elements\n",
      "electrical DDS read queue is full (100 elements); data may be lost\n",
      "electrical DDS read queue is filling: 63 of 100 elements\n",
      "application DDS read queue is full (100 elements); data may be lost\n",
      "ccwFollowingError DDS read queue is filling: 65 of 100 elements\n",
      "actuators DDS read queue is full (100 elements); data may be lost\n",
      "timeAndDate DDS read queue is filling: 28 of 100 elements\n",
      "mountPosition DDS read queue is filling: 30 of 100 elements\n"
     ]
    }
   ],
   "source": [
    "# Wait for all remotes to start\n",
    "for remote in vars(r).values():\n",
    "    await remote.start_task\n",
    "\n",
    "# Wait for a heartbeat from each remote\n",
    "for name, remote in vars(r).items():\n",
    "    try:\n",
    "        await remote.evt_heartbeat.next(flush=False, timeout=5)\n",
    "    except asyncio.TimeoutError:\n",
    "         print(f\"No heartbeat seen for {remote.salinfo.name_index}\")"
   ]
  },
  {
   "cell_type": "markdown",
   "metadata": {},
   "source": [
    "### Test the hexapod state transitions. If the hexapod is already enabled, disable then enable it."
   ]
  },
  {
   "cell_type": "code",
   "execution_count": 11,
   "metadata": {},
   "outputs": [
    {
     "name": "stdout",
     "output_type": "stream",
     "text": [
      "0.19.0\n"
     ]
    }
   ],
   "source": [
    "data = r.mthex.evt_softwareVersions.get()\n",
    "print(data.cscVersion)"
   ]
  },
  {
   "cell_type": "code",
   "execution_count": 12,
   "metadata": {},
   "outputs": [
    {
     "name": "stdout",
     "output_type": "stream",
     "text": [
      "starting with: hex state State.FAULT 2021-07-13 20:44:06.244848128\n"
     ]
    }
   ],
   "source": [
    "state = await r.mthex.evt_summaryState.aget(timeout=5)\n",
    "print('starting with: hex state', salobj.State(state.summaryState), pd.to_datetime(state.private_sndStamp, unit='s'))\n",
    "if state.summaryState == 2:\n",
    "    await salobj.set_summary_state(r.mthex, salobj.State.DISABLED) #disable hex"
   ]
  },
  {
   "cell_type": "code",
   "execution_count": 16,
   "metadata": {},
   "outputs": [
    {
     "data": {
      "text/plain": [
       "[<State.DISABLED: 1>, <State.STANDBY: 5>]"
      ]
     },
     "execution_count": 16,
     "metadata": {},
     "output_type": "execute_result"
    }
   ],
   "source": [
    "await salobj.set_summary_state(remote=r.mthex, state=salobj.State.STANDBY)"
   ]
  },
  {
   "cell_type": "code",
   "execution_count": 17,
   "metadata": {},
   "outputs": [
    {
     "ename": "AckError",
     "evalue": "msg='Command failed', ackcmd=(ackcmd private_seqNum=178189318, ack=<SalRetCode.CMD_FAILED: -302>, error=1, result='Failed: Rejected: initial state is <State.STANDBY: 5> instead of <State.FAULT: 3>')",
     "output_type": "error",
     "traceback": [
      "\u001b[0;31m---------------------------------------------------------------------------\u001b[0m",
      "\u001b[0;31mAckError\u001b[0m                                  Traceback (most recent call last)",
      "\u001b[0;32m<ipython-input-17-b433ce9e98a4>\u001b[0m in \u001b[0;36m<module>\u001b[0;34m\u001b[0m\n\u001b[0;32m----> 1\u001b[0;31m \u001b[0;32mawait\u001b[0m \u001b[0mr\u001b[0m\u001b[0;34m.\u001b[0m\u001b[0mmthex\u001b[0m\u001b[0;34m.\u001b[0m\u001b[0mcmd_clearError\u001b[0m\u001b[0;34m.\u001b[0m\u001b[0mset_start\u001b[0m\u001b[0;34m(\u001b[0m\u001b[0mtimeout\u001b[0m\u001b[0;34m=\u001b[0m\u001b[0;36m10.\u001b[0m\u001b[0;34m)\u001b[0m \u001b[0;31m# This clears the error\u001b[0m\u001b[0;34m\u001b[0m\u001b[0;34m\u001b[0m\u001b[0m\n\u001b[0m",
      "\u001b[0;32m/opt/lsst/software/stack/conda/miniconda3-py38_4.9.2/envs/lsst-scipipe-0.6.0/lib/python3.8/site-packages/lsst/ts/salobj/topics/remote_command.py\u001b[0m in \u001b[0;36mset_start\u001b[0;34m(self, timeout, wait_done, **kwargs)\u001b[0m\n\u001b[1;32m    392\u001b[0m         \"\"\"\n\u001b[1;32m    393\u001b[0m         \u001b[0mself\u001b[0m\u001b[0;34m.\u001b[0m\u001b[0mset\u001b[0m\u001b[0;34m(\u001b[0m\u001b[0;34m**\u001b[0m\u001b[0mkwargs\u001b[0m\u001b[0;34m)\u001b[0m\u001b[0;34m\u001b[0m\u001b[0;34m\u001b[0m\u001b[0m\n\u001b[0;32m--> 394\u001b[0;31m         \u001b[0;32mreturn\u001b[0m \u001b[0;32mawait\u001b[0m \u001b[0mself\u001b[0m\u001b[0;34m.\u001b[0m\u001b[0mstart\u001b[0m\u001b[0;34m(\u001b[0m\u001b[0mtimeout\u001b[0m\u001b[0;34m=\u001b[0m\u001b[0mtimeout\u001b[0m\u001b[0;34m,\u001b[0m \u001b[0mwait_done\u001b[0m\u001b[0;34m=\u001b[0m\u001b[0mwait_done\u001b[0m\u001b[0;34m)\u001b[0m\u001b[0;34m\u001b[0m\u001b[0;34m\u001b[0m\u001b[0m\n\u001b[0m\u001b[1;32m    395\u001b[0m \u001b[0;34m\u001b[0m\u001b[0m\n\u001b[1;32m    396\u001b[0m     \u001b[0;32masync\u001b[0m \u001b[0;32mdef\u001b[0m \u001b[0mstart\u001b[0m\u001b[0;34m(\u001b[0m\u001b[0mself\u001b[0m\u001b[0;34m,\u001b[0m \u001b[0mdata\u001b[0m\u001b[0;34m=\u001b[0m\u001b[0;32mNone\u001b[0m\u001b[0;34m,\u001b[0m \u001b[0mtimeout\u001b[0m\u001b[0;34m=\u001b[0m\u001b[0mDEFAULT_TIMEOUT\u001b[0m\u001b[0;34m,\u001b[0m \u001b[0mwait_done\u001b[0m\u001b[0;34m=\u001b[0m\u001b[0;32mTrue\u001b[0m\u001b[0;34m)\u001b[0m\u001b[0;34m:\u001b[0m\u001b[0;34m\u001b[0m\u001b[0;34m\u001b[0m\u001b[0m\n",
      "\u001b[0;32m/opt/lsst/software/stack/conda/miniconda3-py38_4.9.2/envs/lsst-scipipe-0.6.0/lib/python3.8/site-packages/lsst/ts/salobj/topics/remote_command.py\u001b[0m in \u001b[0;36mstart\u001b[0;34m(self, data, timeout, wait_done)\u001b[0m\n\u001b[1;32m    447\u001b[0m         )\n\u001b[1;32m    448\u001b[0m         \u001b[0mself\u001b[0m\u001b[0;34m.\u001b[0m\u001b[0msalinfo\u001b[0m\u001b[0;34m.\u001b[0m\u001b[0m_running_cmds\u001b[0m\u001b[0;34m[\u001b[0m\u001b[0mseq_num\u001b[0m\u001b[0;34m]\u001b[0m \u001b[0;34m=\u001b[0m \u001b[0mcmd_info\u001b[0m\u001b[0;34m\u001b[0m\u001b[0;34m\u001b[0m\u001b[0m\n\u001b[0;32m--> 449\u001b[0;31m         \u001b[0;32mreturn\u001b[0m \u001b[0;32mawait\u001b[0m \u001b[0mcmd_info\u001b[0m\u001b[0;34m.\u001b[0m\u001b[0mnext_ackcmd\u001b[0m\u001b[0;34m(\u001b[0m\u001b[0mtimeout\u001b[0m\u001b[0;34m=\u001b[0m\u001b[0mtimeout\u001b[0m\u001b[0;34m)\u001b[0m\u001b[0;34m\u001b[0m\u001b[0;34m\u001b[0m\u001b[0m\n\u001b[0m",
      "\u001b[0;32m/opt/lsst/software/stack/conda/miniconda3-py38_4.9.2/envs/lsst-scipipe-0.6.0/lib/python3.8/site-packages/lsst/ts/salobj/topics/remote_command.py\u001b[0m in \u001b[0;36mnext_ackcmd\u001b[0;34m(self, timeout)\u001b[0m\n\u001b[1;32m    180\u001b[0m             \u001b[0mackcmd\u001b[0m \u001b[0;34m=\u001b[0m \u001b[0;32mawait\u001b[0m \u001b[0mself\u001b[0m\u001b[0;34m.\u001b[0m\u001b[0m_wait_task\u001b[0m\u001b[0;34m\u001b[0m\u001b[0;34m\u001b[0m\u001b[0m\n\u001b[1;32m    181\u001b[0m             \u001b[0;32mif\u001b[0m \u001b[0mackcmd\u001b[0m\u001b[0;34m.\u001b[0m\u001b[0mack\u001b[0m \u001b[0;32min\u001b[0m \u001b[0mself\u001b[0m\u001b[0;34m.\u001b[0m\u001b[0mfailed_ack_codes\u001b[0m\u001b[0;34m:\u001b[0m\u001b[0;34m\u001b[0m\u001b[0;34m\u001b[0m\u001b[0m\n\u001b[0;32m--> 182\u001b[0;31m                 \u001b[0;32mraise\u001b[0m \u001b[0mbase\u001b[0m\u001b[0;34m.\u001b[0m\u001b[0mAckError\u001b[0m\u001b[0;34m(\u001b[0m\u001b[0mmsg\u001b[0m\u001b[0;34m=\u001b[0m\u001b[0;34m\"Command failed\"\u001b[0m\u001b[0;34m,\u001b[0m \u001b[0mackcmd\u001b[0m\u001b[0;34m=\u001b[0m\u001b[0mackcmd\u001b[0m\u001b[0;34m)\u001b[0m\u001b[0;34m\u001b[0m\u001b[0;34m\u001b[0m\u001b[0m\n\u001b[0m\u001b[1;32m    183\u001b[0m             \u001b[0;32mreturn\u001b[0m \u001b[0mackcmd\u001b[0m\u001b[0;34m\u001b[0m\u001b[0;34m\u001b[0m\u001b[0m\n\u001b[1;32m    184\u001b[0m         \u001b[0;32mexcept\u001b[0m \u001b[0masyncio\u001b[0m\u001b[0;34m.\u001b[0m\u001b[0mTimeoutError\u001b[0m\u001b[0;34m:\u001b[0m\u001b[0;34m\u001b[0m\u001b[0;34m\u001b[0m\u001b[0m\n",
      "\u001b[0;31mAckError\u001b[0m: msg='Command failed', ackcmd=(ackcmd private_seqNum=178189318, ack=<SalRetCode.CMD_FAILED: -302>, error=1, result='Failed: Rejected: initial state is <State.STANDBY: 5> instead of <State.FAULT: 3>')"
     ]
    }
   ],
   "source": [
    "await r.mthex.cmd_clearError.set_start(timeout=10.) # This clears the error"
   ]
  },
  {
   "cell_type": "code",
   "execution_count": 18,
   "metadata": {},
   "outputs": [
    {
     "data": {
      "text/plain": [
       "[<State.STANDBY: 5>, <State.DISABLED: 1>]"
      ]
     },
     "execution_count": 18,
     "metadata": {},
     "output_type": "execute_result"
    }
   ],
   "source": [
    "await salobj.set_summary_state(remote=r.mthex, state=salobj.State.DISABLED, settingsToApply=\"default\")"
   ]
  },
  {
   "cell_type": "code",
   "execution_count": 19,
   "metadata": {},
   "outputs": [
    {
     "data": {
      "text/plain": [
       "[<State.DISABLED: 1>, <State.ENABLED: 2>]"
      ]
     },
     "execution_count": 19,
     "metadata": {},
     "output_type": "execute_result"
    }
   ],
   "source": [
    "await salobj.set_summary_state(r.mthex, salobj.State.ENABLED) #enable hex"
   ]
  },
  {
   "cell_type": "markdown",
   "metadata": {},
   "source": [
    "## Start the EFD client"
   ]
  },
  {
   "cell_type": "code",
   "execution_count": 20,
   "metadata": {},
   "outputs": [],
   "source": [
    "client = EfdClient('summit_efd')\n",
    "# client = EfdClient('ncsa_teststand_efd')"
   ]
  },
  {
   "cell_type": "code",
   "execution_count": 21,
   "metadata": {},
   "outputs": [],
   "source": [
    "# the next line only work if information were sent to the EFD during the time span \"timedelta\"!\n",
    "# we cannot get time series data from DDS. We have to query the EFD\n",
    "# to check messages in Kafka, go to https://lsst-kafka-0-nts-efd.ncsa.illinois.edu/\n",
    "csc_index = 1\n",
    "end = Time(datetime.now(), scale='tai')\n",
    "start = end - timedelta(hours=6)\n",
    "while True: #may need to wait a few seconds before event shows up in EFD\n",
    "    dfe = await client.select_time_series('lsst.sal.MTHexapod.logevent_summaryState', '*', start, end, csc_index)\n",
    "    if len(dfe)>0:\n",
    "        break"
   ]
  },
  {
   "cell_type": "code",
   "execution_count": 22,
   "metadata": {
    "scrolled": true
   },
   "outputs": [
    {
     "data": {
      "text/html": [
       "<div>\n",
       "<style scoped>\n",
       "    .dataframe tbody tr th:only-of-type {\n",
       "        vertical-align: middle;\n",
       "    }\n",
       "\n",
       "    .dataframe tbody tr th {\n",
       "        vertical-align: top;\n",
       "    }\n",
       "\n",
       "    .dataframe thead th {\n",
       "        text-align: right;\n",
       "    }\n",
       "</style>\n",
       "<table border=\"1\" class=\"dataframe\">\n",
       "  <thead>\n",
       "    <tr style=\"text-align: right;\">\n",
       "      <th></th>\n",
       "      <th>MTHexapodID</th>\n",
       "      <th>priority</th>\n",
       "      <th>private_efdStamp</th>\n",
       "      <th>private_host</th>\n",
       "      <th>private_identity</th>\n",
       "      <th>private_kafkaStamp</th>\n",
       "      <th>private_origin</th>\n",
       "      <th>private_rcvStamp</th>\n",
       "      <th>private_revCode</th>\n",
       "      <th>private_seqNum</th>\n",
       "      <th>private_sndStamp</th>\n",
       "      <th>summaryState</th>\n",
       "    </tr>\n",
       "  </thead>\n",
       "  <tbody>\n",
       "    <tr>\n",
       "      <th>2021-07-13 15:30:59.494000+00:00</th>\n",
       "      <td>1</td>\n",
       "      <td>0</td>\n",
       "      <td>1.626190e+09</td>\n",
       "      <td>0</td>\n",
       "      <td>MTHexapod:1</td>\n",
       "      <td>1.626190e+09</td>\n",
       "      <td>7886</td>\n",
       "      <td>1.626190e+09</td>\n",
       "      <td>959a0a03</td>\n",
       "      <td>151</td>\n",
       "      <td>1.626190e+09</td>\n",
       "      <td>3</td>\n",
       "    </tr>\n",
       "    <tr>\n",
       "      <th>2021-07-13 15:31:40.355000+00:00</th>\n",
       "      <td>1</td>\n",
       "      <td>0</td>\n",
       "      <td>1.626190e+09</td>\n",
       "      <td>0</td>\n",
       "      <td>MTHexapod:1</td>\n",
       "      <td>1.626190e+09</td>\n",
       "      <td>7886</td>\n",
       "      <td>1.626190e+09</td>\n",
       "      <td>959a0a03</td>\n",
       "      <td>152</td>\n",
       "      <td>1.626190e+09</td>\n",
       "      <td>5</td>\n",
       "    </tr>\n",
       "    <tr>\n",
       "      <th>2021-07-13 15:31:51.285000+00:00</th>\n",
       "      <td>1</td>\n",
       "      <td>0</td>\n",
       "      <td>1.626190e+09</td>\n",
       "      <td>0</td>\n",
       "      <td>MTHexapod:1</td>\n",
       "      <td>1.626190e+09</td>\n",
       "      <td>7886</td>\n",
       "      <td>1.626190e+09</td>\n",
       "      <td>959a0a03</td>\n",
       "      <td>153</td>\n",
       "      <td>1.626190e+09</td>\n",
       "      <td>1</td>\n",
       "    </tr>\n",
       "    <tr>\n",
       "      <th>2021-07-13 15:31:53.177000+00:00</th>\n",
       "      <td>1</td>\n",
       "      <td>0</td>\n",
       "      <td>1.626190e+09</td>\n",
       "      <td>0</td>\n",
       "      <td>MTHexapod:1</td>\n",
       "      <td>1.626190e+09</td>\n",
       "      <td>7886</td>\n",
       "      <td>1.626190e+09</td>\n",
       "      <td>959a0a03</td>\n",
       "      <td>154</td>\n",
       "      <td>1.626190e+09</td>\n",
       "      <td>2</td>\n",
       "    </tr>\n",
       "    <tr>\n",
       "      <th>2021-07-13 16:32:22.729000+00:00</th>\n",
       "      <td>2</td>\n",
       "      <td>0</td>\n",
       "      <td>1.626194e+09</td>\n",
       "      <td>0</td>\n",
       "      <td>MTHexapod:2</td>\n",
       "      <td>1.626194e+09</td>\n",
       "      <td>8260</td>\n",
       "      <td>1.626194e+09</td>\n",
       "      <td>959a0a03</td>\n",
       "      <td>11</td>\n",
       "      <td>1.626194e+09</td>\n",
       "      <td>1</td>\n",
       "    </tr>\n",
       "    <tr>\n",
       "      <th>2021-07-13 16:32:22.935000+00:00</th>\n",
       "      <td>2</td>\n",
       "      <td>0</td>\n",
       "      <td>1.626194e+09</td>\n",
       "      <td>0</td>\n",
       "      <td>MTHexapod:2</td>\n",
       "      <td>1.626194e+09</td>\n",
       "      <td>8260</td>\n",
       "      <td>1.626194e+09</td>\n",
       "      <td>959a0a03</td>\n",
       "      <td>12</td>\n",
       "      <td>1.626194e+09</td>\n",
       "      <td>2</td>\n",
       "    </tr>\n",
       "    <tr>\n",
       "      <th>2021-07-13 19:41:41.194000+00:00</th>\n",
       "      <td>2</td>\n",
       "      <td>0</td>\n",
       "      <td>1.626205e+09</td>\n",
       "      <td>0</td>\n",
       "      <td>MTHexapod:2</td>\n",
       "      <td>1.626205e+09</td>\n",
       "      <td>8260</td>\n",
       "      <td>1.626205e+09</td>\n",
       "      <td>959a0a03</td>\n",
       "      <td>13</td>\n",
       "      <td>1.626205e+09</td>\n",
       "      <td>1</td>\n",
       "    </tr>\n",
       "    <tr>\n",
       "      <th>2021-07-13 19:41:41.397000+00:00</th>\n",
       "      <td>2</td>\n",
       "      <td>0</td>\n",
       "      <td>1.626205e+09</td>\n",
       "      <td>0</td>\n",
       "      <td>MTHexapod:2</td>\n",
       "      <td>1.626205e+09</td>\n",
       "      <td>8260</td>\n",
       "      <td>1.626205e+09</td>\n",
       "      <td>959a0a03</td>\n",
       "      <td>14</td>\n",
       "      <td>1.626205e+09</td>\n",
       "      <td>5</td>\n",
       "    </tr>\n",
       "    <tr>\n",
       "      <th>2021-07-13 19:43:01.368000+00:00</th>\n",
       "      <td>1</td>\n",
       "      <td>0</td>\n",
       "      <td>1.626205e+09</td>\n",
       "      <td>0</td>\n",
       "      <td>MTHexapod:1</td>\n",
       "      <td>1.626205e+09</td>\n",
       "      <td>7886</td>\n",
       "      <td>1.626205e+09</td>\n",
       "      <td>959a0a03</td>\n",
       "      <td>155</td>\n",
       "      <td>1.626205e+09</td>\n",
       "      <td>1</td>\n",
       "    </tr>\n",
       "    <tr>\n",
       "      <th>2021-07-13 19:43:03.170000+00:00</th>\n",
       "      <td>1</td>\n",
       "      <td>0</td>\n",
       "      <td>1.626205e+09</td>\n",
       "      <td>0</td>\n",
       "      <td>MTHexapod:1</td>\n",
       "      <td>1.626205e+09</td>\n",
       "      <td>7886</td>\n",
       "      <td>1.626205e+09</td>\n",
       "      <td>959a0a03</td>\n",
       "      <td>156</td>\n",
       "      <td>1.626205e+09</td>\n",
       "      <td>5</td>\n",
       "    </tr>\n",
       "    <tr>\n",
       "      <th>2021-07-13 19:43:08.035000+00:00</th>\n",
       "      <td>1</td>\n",
       "      <td>0</td>\n",
       "      <td>1.626205e+09</td>\n",
       "      <td>0</td>\n",
       "      <td>MTHexapod:1</td>\n",
       "      <td>1.626205e+09</td>\n",
       "      <td>7886</td>\n",
       "      <td>1.626205e+09</td>\n",
       "      <td>959a0a03</td>\n",
       "      <td>157</td>\n",
       "      <td>1.626205e+09</td>\n",
       "      <td>1</td>\n",
       "    </tr>\n",
       "    <tr>\n",
       "      <th>2021-07-13 19:43:34.492000+00:00</th>\n",
       "      <td>1</td>\n",
       "      <td>0</td>\n",
       "      <td>1.626205e+09</td>\n",
       "      <td>0</td>\n",
       "      <td>MTHexapod:1</td>\n",
       "      <td>1.626205e+09</td>\n",
       "      <td>7886</td>\n",
       "      <td>1.626205e+09</td>\n",
       "      <td>959a0a03</td>\n",
       "      <td>158</td>\n",
       "      <td>1.626205e+09</td>\n",
       "      <td>2</td>\n",
       "    </tr>\n",
       "    <tr>\n",
       "      <th>2021-07-13 20:06:52.737000+00:00</th>\n",
       "      <td>1</td>\n",
       "      <td>0</td>\n",
       "      <td>1.626207e+09</td>\n",
       "      <td>0</td>\n",
       "      <td>MTHexapod:1</td>\n",
       "      <td>1.626207e+09</td>\n",
       "      <td>7886</td>\n",
       "      <td>1.626207e+09</td>\n",
       "      <td>959a0a03</td>\n",
       "      <td>159</td>\n",
       "      <td>1.626207e+09</td>\n",
       "      <td>3</td>\n",
       "    </tr>\n",
       "    <tr>\n",
       "      <th>2021-07-13 20:09:02.325000+00:00</th>\n",
       "      <td>1</td>\n",
       "      <td>0</td>\n",
       "      <td>1.626207e+09</td>\n",
       "      <td>0</td>\n",
       "      <td>MTHexapod:1</td>\n",
       "      <td>1.626207e+09</td>\n",
       "      <td>7886</td>\n",
       "      <td>1.626207e+09</td>\n",
       "      <td>959a0a03</td>\n",
       "      <td>160</td>\n",
       "      <td>1.626207e+09</td>\n",
       "      <td>5</td>\n",
       "    </tr>\n",
       "    <tr>\n",
       "      <th>2021-07-13 20:09:50.213000+00:00</th>\n",
       "      <td>1</td>\n",
       "      <td>0</td>\n",
       "      <td>1.626207e+09</td>\n",
       "      <td>0</td>\n",
       "      <td>MTHexapod:1</td>\n",
       "      <td>1.626207e+09</td>\n",
       "      <td>7886</td>\n",
       "      <td>1.626207e+09</td>\n",
       "      <td>959a0a03</td>\n",
       "      <td>161</td>\n",
       "      <td>1.626207e+09</td>\n",
       "      <td>1</td>\n",
       "    </tr>\n",
       "    <tr>\n",
       "      <th>2021-07-13 20:10:06.179000+00:00</th>\n",
       "      <td>1</td>\n",
       "      <td>0</td>\n",
       "      <td>1.626207e+09</td>\n",
       "      <td>0</td>\n",
       "      <td>MTHexapod:1</td>\n",
       "      <td>1.626207e+09</td>\n",
       "      <td>7886</td>\n",
       "      <td>1.626207e+09</td>\n",
       "      <td>959a0a03</td>\n",
       "      <td>162</td>\n",
       "      <td>1.626207e+09</td>\n",
       "      <td>2</td>\n",
       "    </tr>\n",
       "    <tr>\n",
       "      <th>2021-07-13 20:44:06.244000+00:00</th>\n",
       "      <td>1</td>\n",
       "      <td>0</td>\n",
       "      <td>1.626209e+09</td>\n",
       "      <td>0</td>\n",
       "      <td>MTHexapod:1</td>\n",
       "      <td>1.626209e+09</td>\n",
       "      <td>7886</td>\n",
       "      <td>1.626209e+09</td>\n",
       "      <td>959a0a03</td>\n",
       "      <td>163</td>\n",
       "      <td>1.626209e+09</td>\n",
       "      <td>3</td>\n",
       "    </tr>\n",
       "    <tr>\n",
       "      <th>2021-07-13 20:56:18.907000+00:00</th>\n",
       "      <td>1</td>\n",
       "      <td>0</td>\n",
       "      <td>1.626210e+09</td>\n",
       "      <td>0</td>\n",
       "      <td>MTHexapod:1</td>\n",
       "      <td>1.626210e+09</td>\n",
       "      <td>7886</td>\n",
       "      <td>1.626210e+09</td>\n",
       "      <td>959a0a03</td>\n",
       "      <td>164</td>\n",
       "      <td>1.626210e+09</td>\n",
       "      <td>5</td>\n",
       "    </tr>\n",
       "    <tr>\n",
       "      <th>2021-07-13 20:56:27.276000+00:00</th>\n",
       "      <td>1</td>\n",
       "      <td>0</td>\n",
       "      <td>1.626210e+09</td>\n",
       "      <td>0</td>\n",
       "      <td>MTHexapod:1</td>\n",
       "      <td>1.626210e+09</td>\n",
       "      <td>7886</td>\n",
       "      <td>1.626210e+09</td>\n",
       "      <td>959a0a03</td>\n",
       "      <td>165</td>\n",
       "      <td>1.626210e+09</td>\n",
       "      <td>1</td>\n",
       "    </tr>\n",
       "    <tr>\n",
       "      <th>2021-07-13 20:56:42.401000+00:00</th>\n",
       "      <td>1</td>\n",
       "      <td>0</td>\n",
       "      <td>1.626210e+09</td>\n",
       "      <td>0</td>\n",
       "      <td>MTHexapod:1</td>\n",
       "      <td>1.626210e+09</td>\n",
       "      <td>7886</td>\n",
       "      <td>1.626210e+09</td>\n",
       "      <td>959a0a03</td>\n",
       "      <td>166</td>\n",
       "      <td>1.626210e+09</td>\n",
       "      <td>5</td>\n",
       "    </tr>\n",
       "    <tr>\n",
       "      <th>2021-07-13 20:56:51.890000+00:00</th>\n",
       "      <td>1</td>\n",
       "      <td>0</td>\n",
       "      <td>1.626210e+09</td>\n",
       "      <td>0</td>\n",
       "      <td>MTHexapod:1</td>\n",
       "      <td>1.626210e+09</td>\n",
       "      <td>7886</td>\n",
       "      <td>1.626210e+09</td>\n",
       "      <td>959a0a03</td>\n",
       "      <td>167</td>\n",
       "      <td>1.626210e+09</td>\n",
       "      <td>1</td>\n",
       "    </tr>\n",
       "    <tr>\n",
       "      <th>2021-07-13 20:56:53.511000+00:00</th>\n",
       "      <td>1</td>\n",
       "      <td>0</td>\n",
       "      <td>1.626210e+09</td>\n",
       "      <td>0</td>\n",
       "      <td>MTHexapod:1</td>\n",
       "      <td>1.626210e+09</td>\n",
       "      <td>7886</td>\n",
       "      <td>1.626210e+09</td>\n",
       "      <td>959a0a03</td>\n",
       "      <td>168</td>\n",
       "      <td>1.626210e+09</td>\n",
       "      <td>2</td>\n",
       "    </tr>\n",
       "  </tbody>\n",
       "</table>\n",
       "</div>"
      ],
      "text/plain": [
       "                                  MTHexapodID  priority  private_efdStamp  \\\n",
       "2021-07-13 15:30:59.494000+00:00            1         0      1.626190e+09   \n",
       "2021-07-13 15:31:40.355000+00:00            1         0      1.626190e+09   \n",
       "2021-07-13 15:31:51.285000+00:00            1         0      1.626190e+09   \n",
       "2021-07-13 15:31:53.177000+00:00            1         0      1.626190e+09   \n",
       "2021-07-13 16:32:22.729000+00:00            2         0      1.626194e+09   \n",
       "2021-07-13 16:32:22.935000+00:00            2         0      1.626194e+09   \n",
       "2021-07-13 19:41:41.194000+00:00            2         0      1.626205e+09   \n",
       "2021-07-13 19:41:41.397000+00:00            2         0      1.626205e+09   \n",
       "2021-07-13 19:43:01.368000+00:00            1         0      1.626205e+09   \n",
       "2021-07-13 19:43:03.170000+00:00            1         0      1.626205e+09   \n",
       "2021-07-13 19:43:08.035000+00:00            1         0      1.626205e+09   \n",
       "2021-07-13 19:43:34.492000+00:00            1         0      1.626205e+09   \n",
       "2021-07-13 20:06:52.737000+00:00            1         0      1.626207e+09   \n",
       "2021-07-13 20:09:02.325000+00:00            1         0      1.626207e+09   \n",
       "2021-07-13 20:09:50.213000+00:00            1         0      1.626207e+09   \n",
       "2021-07-13 20:10:06.179000+00:00            1         0      1.626207e+09   \n",
       "2021-07-13 20:44:06.244000+00:00            1         0      1.626209e+09   \n",
       "2021-07-13 20:56:18.907000+00:00            1         0      1.626210e+09   \n",
       "2021-07-13 20:56:27.276000+00:00            1         0      1.626210e+09   \n",
       "2021-07-13 20:56:42.401000+00:00            1         0      1.626210e+09   \n",
       "2021-07-13 20:56:51.890000+00:00            1         0      1.626210e+09   \n",
       "2021-07-13 20:56:53.511000+00:00            1         0      1.626210e+09   \n",
       "\n",
       "                                  private_host private_identity  \\\n",
       "2021-07-13 15:30:59.494000+00:00             0      MTHexapod:1   \n",
       "2021-07-13 15:31:40.355000+00:00             0      MTHexapod:1   \n",
       "2021-07-13 15:31:51.285000+00:00             0      MTHexapod:1   \n",
       "2021-07-13 15:31:53.177000+00:00             0      MTHexapod:1   \n",
       "2021-07-13 16:32:22.729000+00:00             0      MTHexapod:2   \n",
       "2021-07-13 16:32:22.935000+00:00             0      MTHexapod:2   \n",
       "2021-07-13 19:41:41.194000+00:00             0      MTHexapod:2   \n",
       "2021-07-13 19:41:41.397000+00:00             0      MTHexapod:2   \n",
       "2021-07-13 19:43:01.368000+00:00             0      MTHexapod:1   \n",
       "2021-07-13 19:43:03.170000+00:00             0      MTHexapod:1   \n",
       "2021-07-13 19:43:08.035000+00:00             0      MTHexapod:1   \n",
       "2021-07-13 19:43:34.492000+00:00             0      MTHexapod:1   \n",
       "2021-07-13 20:06:52.737000+00:00             0      MTHexapod:1   \n",
       "2021-07-13 20:09:02.325000+00:00             0      MTHexapod:1   \n",
       "2021-07-13 20:09:50.213000+00:00             0      MTHexapod:1   \n",
       "2021-07-13 20:10:06.179000+00:00             0      MTHexapod:1   \n",
       "2021-07-13 20:44:06.244000+00:00             0      MTHexapod:1   \n",
       "2021-07-13 20:56:18.907000+00:00             0      MTHexapod:1   \n",
       "2021-07-13 20:56:27.276000+00:00             0      MTHexapod:1   \n",
       "2021-07-13 20:56:42.401000+00:00             0      MTHexapod:1   \n",
       "2021-07-13 20:56:51.890000+00:00             0      MTHexapod:1   \n",
       "2021-07-13 20:56:53.511000+00:00             0      MTHexapod:1   \n",
       "\n",
       "                                  private_kafkaStamp  private_origin  \\\n",
       "2021-07-13 15:30:59.494000+00:00        1.626190e+09            7886   \n",
       "2021-07-13 15:31:40.355000+00:00        1.626190e+09            7886   \n",
       "2021-07-13 15:31:51.285000+00:00        1.626190e+09            7886   \n",
       "2021-07-13 15:31:53.177000+00:00        1.626190e+09            7886   \n",
       "2021-07-13 16:32:22.729000+00:00        1.626194e+09            8260   \n",
       "2021-07-13 16:32:22.935000+00:00        1.626194e+09            8260   \n",
       "2021-07-13 19:41:41.194000+00:00        1.626205e+09            8260   \n",
       "2021-07-13 19:41:41.397000+00:00        1.626205e+09            8260   \n",
       "2021-07-13 19:43:01.368000+00:00        1.626205e+09            7886   \n",
       "2021-07-13 19:43:03.170000+00:00        1.626205e+09            7886   \n",
       "2021-07-13 19:43:08.035000+00:00        1.626205e+09            7886   \n",
       "2021-07-13 19:43:34.492000+00:00        1.626205e+09            7886   \n",
       "2021-07-13 20:06:52.737000+00:00        1.626207e+09            7886   \n",
       "2021-07-13 20:09:02.325000+00:00        1.626207e+09            7886   \n",
       "2021-07-13 20:09:50.213000+00:00        1.626207e+09            7886   \n",
       "2021-07-13 20:10:06.179000+00:00        1.626207e+09            7886   \n",
       "2021-07-13 20:44:06.244000+00:00        1.626209e+09            7886   \n",
       "2021-07-13 20:56:18.907000+00:00        1.626210e+09            7886   \n",
       "2021-07-13 20:56:27.276000+00:00        1.626210e+09            7886   \n",
       "2021-07-13 20:56:42.401000+00:00        1.626210e+09            7886   \n",
       "2021-07-13 20:56:51.890000+00:00        1.626210e+09            7886   \n",
       "2021-07-13 20:56:53.511000+00:00        1.626210e+09            7886   \n",
       "\n",
       "                                  private_rcvStamp private_revCode  \\\n",
       "2021-07-13 15:30:59.494000+00:00      1.626190e+09        959a0a03   \n",
       "2021-07-13 15:31:40.355000+00:00      1.626190e+09        959a0a03   \n",
       "2021-07-13 15:31:51.285000+00:00      1.626190e+09        959a0a03   \n",
       "2021-07-13 15:31:53.177000+00:00      1.626190e+09        959a0a03   \n",
       "2021-07-13 16:32:22.729000+00:00      1.626194e+09        959a0a03   \n",
       "2021-07-13 16:32:22.935000+00:00      1.626194e+09        959a0a03   \n",
       "2021-07-13 19:41:41.194000+00:00      1.626205e+09        959a0a03   \n",
       "2021-07-13 19:41:41.397000+00:00      1.626205e+09        959a0a03   \n",
       "2021-07-13 19:43:01.368000+00:00      1.626205e+09        959a0a03   \n",
       "2021-07-13 19:43:03.170000+00:00      1.626205e+09        959a0a03   \n",
       "2021-07-13 19:43:08.035000+00:00      1.626205e+09        959a0a03   \n",
       "2021-07-13 19:43:34.492000+00:00      1.626205e+09        959a0a03   \n",
       "2021-07-13 20:06:52.737000+00:00      1.626207e+09        959a0a03   \n",
       "2021-07-13 20:09:02.325000+00:00      1.626207e+09        959a0a03   \n",
       "2021-07-13 20:09:50.213000+00:00      1.626207e+09        959a0a03   \n",
       "2021-07-13 20:10:06.179000+00:00      1.626207e+09        959a0a03   \n",
       "2021-07-13 20:44:06.244000+00:00      1.626209e+09        959a0a03   \n",
       "2021-07-13 20:56:18.907000+00:00      1.626210e+09        959a0a03   \n",
       "2021-07-13 20:56:27.276000+00:00      1.626210e+09        959a0a03   \n",
       "2021-07-13 20:56:42.401000+00:00      1.626210e+09        959a0a03   \n",
       "2021-07-13 20:56:51.890000+00:00      1.626210e+09        959a0a03   \n",
       "2021-07-13 20:56:53.511000+00:00      1.626210e+09        959a0a03   \n",
       "\n",
       "                                  private_seqNum  private_sndStamp  \\\n",
       "2021-07-13 15:30:59.494000+00:00             151      1.626190e+09   \n",
       "2021-07-13 15:31:40.355000+00:00             152      1.626190e+09   \n",
       "2021-07-13 15:31:51.285000+00:00             153      1.626190e+09   \n",
       "2021-07-13 15:31:53.177000+00:00             154      1.626190e+09   \n",
       "2021-07-13 16:32:22.729000+00:00              11      1.626194e+09   \n",
       "2021-07-13 16:32:22.935000+00:00              12      1.626194e+09   \n",
       "2021-07-13 19:41:41.194000+00:00              13      1.626205e+09   \n",
       "2021-07-13 19:41:41.397000+00:00              14      1.626205e+09   \n",
       "2021-07-13 19:43:01.368000+00:00             155      1.626205e+09   \n",
       "2021-07-13 19:43:03.170000+00:00             156      1.626205e+09   \n",
       "2021-07-13 19:43:08.035000+00:00             157      1.626205e+09   \n",
       "2021-07-13 19:43:34.492000+00:00             158      1.626205e+09   \n",
       "2021-07-13 20:06:52.737000+00:00             159      1.626207e+09   \n",
       "2021-07-13 20:09:02.325000+00:00             160      1.626207e+09   \n",
       "2021-07-13 20:09:50.213000+00:00             161      1.626207e+09   \n",
       "2021-07-13 20:10:06.179000+00:00             162      1.626207e+09   \n",
       "2021-07-13 20:44:06.244000+00:00             163      1.626209e+09   \n",
       "2021-07-13 20:56:18.907000+00:00             164      1.626210e+09   \n",
       "2021-07-13 20:56:27.276000+00:00             165      1.626210e+09   \n",
       "2021-07-13 20:56:42.401000+00:00             166      1.626210e+09   \n",
       "2021-07-13 20:56:51.890000+00:00             167      1.626210e+09   \n",
       "2021-07-13 20:56:53.511000+00:00             168      1.626210e+09   \n",
       "\n",
       "                                  summaryState  \n",
       "2021-07-13 15:30:59.494000+00:00             3  \n",
       "2021-07-13 15:31:40.355000+00:00             5  \n",
       "2021-07-13 15:31:51.285000+00:00             1  \n",
       "2021-07-13 15:31:53.177000+00:00             2  \n",
       "2021-07-13 16:32:22.729000+00:00             1  \n",
       "2021-07-13 16:32:22.935000+00:00             2  \n",
       "2021-07-13 19:41:41.194000+00:00             1  \n",
       "2021-07-13 19:41:41.397000+00:00             5  \n",
       "2021-07-13 19:43:01.368000+00:00             1  \n",
       "2021-07-13 19:43:03.170000+00:00             5  \n",
       "2021-07-13 19:43:08.035000+00:00             1  \n",
       "2021-07-13 19:43:34.492000+00:00             2  \n",
       "2021-07-13 20:06:52.737000+00:00             3  \n",
       "2021-07-13 20:09:02.325000+00:00             5  \n",
       "2021-07-13 20:09:50.213000+00:00             1  \n",
       "2021-07-13 20:10:06.179000+00:00             2  \n",
       "2021-07-13 20:44:06.244000+00:00             3  \n",
       "2021-07-13 20:56:18.907000+00:00             5  \n",
       "2021-07-13 20:56:27.276000+00:00             1  \n",
       "2021-07-13 20:56:42.401000+00:00             5  \n",
       "2021-07-13 20:56:51.890000+00:00             1  \n",
       "2021-07-13 20:56:53.511000+00:00             2  "
      ]
     },
     "execution_count": 22,
     "metadata": {},
     "output_type": "execute_result"
    }
   ],
   "source": [
    "dfe"
   ]
  },
  {
   "cell_type": "markdown",
   "metadata": {},
   "source": [
    "## Check that the other components are enabled or, if not, enable them "
   ]
  },
  {
   "cell_type": "code",
   "execution_count": null,
   "metadata": {},
   "outputs": [],
   "source": [
    "await salobj.set_summary_state(r.mtm, salobj.State.ENABLED)"
   ]
  },
  {
   "cell_type": "code",
   "execution_count": null,
   "metadata": {},
   "outputs": [],
   "source": [
    "await salobj.set_summary_state(r.mtrot, salobj.State.ENABLED)"
   ]
  },
  {
   "cell_type": "code",
   "execution_count": null,
   "metadata": {},
   "outputs": [],
   "source": [
    "await salobj.set_summary_state(r.mtptg, salobj.State.ENABLED)"
   ]
  },
  {
   "cell_type": "markdown",
   "metadata": {},
   "source": [
    "## Check that the configurations and that the needed telemetry is comming in:"
   ]
  },
  {
   "cell_type": "code",
   "execution_count": null,
   "metadata": {},
   "outputs": [],
   "source": [
    "# Check some configurations for the hexapod\n",
    "hexConfig = await r.mthex.evt_configuration.aget(timeout=10.)\n",
    "print(\"pivot at (%.0f, %.0f, %.0f) microns \"%(hexConfig.pivotX, hexConfig.pivotY, hexConfig.pivotZ))\n",
    "print(\"maxXY = \", hexConfig.maxXY, \"microns, maxZ= \", hexConfig.maxZ, \" microns\")\n",
    "print(\"maxUV = \", hexConfig.maxUV, \"deg, maxW= \", hexConfig.maxW, \" deg\")"
   ]
  },
  {
   "cell_type": "code",
   "execution_count": null,
   "metadata": {},
   "outputs": [],
   "source": [
    "await readyHexaForAOS(r.mthex)"
   ]
  },
  {
   "cell_type": "code",
   "execution_count": null,
   "metadata": {},
   "outputs": [],
   "source": [
    "end = Time(datetime.now())\n",
    "start = end - timedelta(hours=3)\n",
    "# logeventTarget = await client.select_time_series('lsst.sal.MTMount.logevent_target', '*', start.tai, end.tai)\n",
    "# With this we can get the elevation when a controller is running\n",
    "MTMountElevation = await client.select_time_series('lsst.sal.MTMount.elevation', '*', start.tai, end.tai)\n",
    "MTMountAzimuth = await client.select_time_series('lsst.sal.MTMount.azimuth', '*', start.tai, end.tai)\n",
    "MTRotPosition = await client.select_time_series('lsst.sal.MTRotator.rotation', '*', start.tai, end.tai)"
   ]
  },
  {
   "cell_type": "code",
   "execution_count": null,
   "metadata": {},
   "outputs": [],
   "source": [
    "#get the elevation into a variable\n",
    "mtmElev=MTMountElevation.actualPosition\n",
    "print(\"Mount elevation from the EFD:\")\n",
    "mtmElev"
   ]
  },
  {
   "cell_type": "code",
   "execution_count": null,
   "metadata": {},
   "outputs": [],
   "source": [
    "mtmAzimuth = MTMountAzimuth.actualPosition\n",
    "print(\"Mount azimuth from the EFD:\")\n",
    "mtmAzimuth"
   ]
  },
  {
   "cell_type": "code",
   "execution_count": null,
   "metadata": {},
   "outputs": [],
   "source": [
    "mtrotPosition = MTRotPosition.actualPosition\n",
    "print(\"MTRotator positon from the EFD:\")\n",
    "mtrotPosition"
   ]
  },
  {
   "cell_type": "markdown",
   "metadata": {},
   "source": [
    "# Check the move behavior when LUT is disabled."
   ]
  },
  {
   "cell_type": "code",
   "execution_count": null,
   "metadata": {},
   "outputs": [],
   "source": [
    "# Check Compensation mode status \n",
    "lutMode = await r.mthex.evt_compensationMode.aget(timeout=10)\n",
    "print(\"Compsensation mode enabled?\",lutMode.enabled)\n",
    "# Switch compensation mode off:\n",
    "await r.mthex.cmd_setCompensationMode.set_start(enable=0, timeout=10)\n",
    "lutMode =  await r.mthex.evt_compensationMode.aget()\n",
    "print(\"Compsensation mode enabled?\",lutMode.enabled)\n",
    "now = datetime.now()\n",
    "print(\"Compensation mode was turned off at:\", now)"
   ]
  },
  {
   "cell_type": "code",
   "execution_count": null,
   "metadata": {},
   "outputs": [],
   "source": [
    "test_message = \"Camera Hexapod Integration Test\""
   ]
  },
  {
   "cell_type": "code",
   "execution_count": null,
   "metadata": {},
   "outputs": [],
   "source": [
    "# This command is to set the Hexapod to zero position\n",
    "now = datetime.now()\n",
    "script.log.info(f\"START- {test_message} -- LVV-T1600 -- Move to Zero- Starting time: {now} UTC\")\n",
    "await r.mthex.cmd_move.set_start(x=0,y=0,z=0, u=0,v=0,w=0,sync=True)"
   ]
  },
  {
   "cell_type": "code",
   "execution_count": null,
   "metadata": {},
   "outputs": [],
   "source": [
    "# To stop the Hexapod\n",
    "await r.mthex.cmd_stop.set_start()"
   ]
  },
  {
   "cell_type": "markdown",
   "metadata": {},
   "source": [
    "If you want to observe the motions in chronograf, consider using \"AND MTHexapodID={hexId}\" to filter out telemetry from the other hexapod"
   ]
  },
  {
   "cell_type": "code",
   "execution_count": null,
   "metadata": {},
   "outputs": [],
   "source": [
    "now = datetime.now()\n",
    "print(now)\n",
    "script.log.info(f\"START- {test_message} -- LVV-T1600 Compensation mode test Step 17- Starting time: {now} UTC\")\n",
    "r.mthex.evt_inPosition.flush()\n",
    "for step in range(5,-1,-1):\n",
    "    await r.mthex.cmd_move.set_start(x=0,y=0,z=100*step, u=0,v=0,w=0,sync=True)\n",
    "    while True:\n",
    "        state = await r.mthex.evt_inPosition.next(flush=False, timeout=10)\n",
    "        print(\"hex in position?\",state.inPosition, pd.to_datetime(state.private_sndStamp, unit='s'))\n",
    "        if state.inPosition:\n",
    "            break    "
   ]
  },
  {
   "cell_type": "code",
   "execution_count": null,
   "metadata": {},
   "outputs": [],
   "source": [
    "await printPosition(hex)"
   ]
  },
  {
   "cell_type": "code",
   "execution_count": null,
   "metadata": {},
   "outputs": [],
   "source": [
    "r.mthex.evt_inPosition.flush()\n",
    "for step in [1,2,3,-3,-2,-1]:\n",
    "    #according to XML, units are micron and degree\n",
    "    await r.mthex.cmd_offset.set_start(x=0,y=0,z=100*step, u=0,v=0,w=0,sync=True)\n",
    "    while True:\n",
    "        state = await r.mthex.evt_inPosition.next(flush=False, timeout=10)\n",
    "        print(\"hex in position?\",state.inPosition, pd.to_datetime(state.private_sndStamp, unit='s'))\n",
    "        if state.inPosition:\n",
    "            break\n",
    "     \n",
    "    await printPosition(r.mthex)\n",
    "    \n",
    "    end = Time(datetime.now(), scale='tai')"
   ]
  },
  {
   "cell_type": "code",
   "execution_count": null,
   "metadata": {},
   "outputs": [],
   "source": [
    "start = end - timedelta(seconds=300)\n",
    "df = await client.select_time_series('lsst.sal.MTHexapod.actuators', '*', start, end, csc_index)\n",
    "idx= df.MTHexapodID==1\n",
    "df = df[idx]"
   ]
  },
  {
   "cell_type": "code",
   "execution_count": null,
   "metadata": {},
   "outputs": [],
   "source": [
    "fig, ax = plt.subplots(figsize=(19,3))\n",
    "plt.plot(df.calibrated0)\n",
    "plt.grid()"
   ]
  },
  {
   "cell_type": "code",
   "execution_count": null,
   "metadata": {},
   "outputs": [],
   "source": [
    "# Move to z=800um\n",
    "await r.mthex.cmd_move.set_start(x=0,y=0,z=800, u=0,v=0,w=0,sync=True)"
   ]
  },
  {
   "cell_type": "markdown",
   "metadata": {},
   "source": [
    "### When the LUT is enabled"
   ]
  },
  {
   "cell_type": "code",
   "execution_count": null,
   "metadata": {},
   "outputs": [],
   "source": [
    "await r.mthex.cmd_setCompensationMode.set_start(enable=1, timeout=10)\n",
    "lutMode = r.mthex.evt_compensationMode.get()\n",
    "print(\"compsensation mode enabled?\",lutMode.enabled)\n",
    "now = datetime.now()\n",
    "print(\"Compensation mode was turned on at:\", now)"
   ]
  },
  {
   "cell_type": "code",
   "execution_count": null,
   "metadata": {},
   "outputs": [],
   "source": [
    "# Move to z=800um\n",
    "await r.mthex.cmd_move.set_start(x=0,y=0,z=700, u=0,v=0,w=0,sync=True)"
   ]
  },
  {
   "cell_type": "code",
   "execution_count": null,
   "metadata": {},
   "outputs": [],
   "source": [
    "await printPosition(hex)\n",
    "a = r.mthex.evt_compensationOffset.get()\n",
    "print(a.elevation,a.azimuth,a.rotation,a.temperature,a.x,a.y,a.z,a.u,a.v,a.w)"
   ]
  },
  {
   "cell_type": "code",
   "execution_count": null,
   "metadata": {},
   "outputs": [],
   "source": [
    "async def printUncompensatedAndCompensated(hex):\n",
    "    posU =  r.mthex.evt_uncompensatedPosition.get()\n",
    "    print('Uncompensated position')\n",
    "    print(\" \".join(f\"{p:10.2f}\" for p in [getattr(posU, i) for i in 'xyz']), end = '    ')\n",
    "    print(\" \".join(f\"{p:10.6f}\" for p in [getattr(posU, i) for i in 'uvw']),'  ',\n",
    "         pd.to_datetime(posU.private_sndStamp, unit='s'))    \n",
    "    posC = r.mthex.evt_compensatedPosition.get()\n",
    "    print('Compensated position')\n",
    "    print(\" \".join(f\"{p:10.2f}\" for p in [getattr(posC, i) for i in 'xyz']), end = '     ')\n",
    "    print(\" \".join(f\"{p:10.6f}\" for p in [getattr(posC, i) for i in 'uvw']),'  ',\n",
    "         pd.to_datetime(posC.private_sndStamp, unit='s'))\n",
    "\n",
    "await printUncompensatedAndCompensated(hex)"
   ]
  },
  {
   "cell_type": "markdown",
   "metadata": {},
   "source": [
    "The inputs to the LUT are currently -\n",
    "* elevation (from mount telemetry) \n",
    "* temperature (mount truss? not implemented yet)\n",
    "* azimuth (hexapod supports compensation for this input, but model coefficients are not yet configured)\n",
    "* rotator angle (hexapod supports compensation for this input, but model coefficients are not yet configured"
   ]
  },
  {
   "cell_type": "code",
   "execution_count": null,
   "metadata": {},
   "outputs": [],
   "source": [
    "# Only works when mount or mount simulator are active. This is telemetry\n",
    "mountAngle = await r.mtm.tel_elevation.aget(timeout=10.)\n",
    "elev = mountAngle.actualPosition\n",
    "print(\"mount elevation angle\", elev)"
   ]
  },
  {
   "cell_type": "code",
   "execution_count": null,
   "metadata": {},
   "outputs": [],
   "source": [
    "# To set the elevation for a controller\n",
    "#r.mtm.evt_target.set_put(elevation=45)"
   ]
  },
  {
   "cell_type": "code",
   "execution_count": null,
   "metadata": {},
   "outputs": [],
   "source": [
    "# fixedElev= 89.9"
   ]
  },
  {
   "cell_type": "code",
   "execution_count": null,
   "metadata": {},
   "outputs": [],
   "source": [
    "LUTfile = '%s/notebooks/ts_config_mttcs/MTHexapod/v1/default.yaml'%(os.environ[\"HOME\"])\n",
    "with open(LUTfile, 'r') as stream:\n",
    "    aa = yaml.safe_load(stream)\n",
    "if r.mthex.salinfo.index == 1:\n",
    "    elevCoeff = aa['camera_config']['elevation_coeffs']\n",
    "    tCoeff = aa['camera_config']['temperature_coeffs']\n",
    "elif r.mthex.salinfo.index == 2:\n",
    "    elevCoeff = aa['m2_config']['elevation_coeffs']\n",
    "    tCoeff = aa['m2_config']['temperature_coeffs']"
   ]
  },
  {
   "cell_type": "code",
   "execution_count": null,
   "metadata": {},
   "outputs": [],
   "source": [
    "#Here use the target event! The hexapod it using the target event for positioning\n",
    "elev =a.elevation\n",
    "async def printPredictedComp(elevCoeff, elev):\n",
    "    '''\n",
    "    This function deals with the elevation component of the LUT only, for now.\n",
    "    We will add temperature, azimuth, and rotator angle when they are implemented.\n",
    "    '''\n",
    "    pred = []\n",
    "    print('Predicted LUT compensation:')\n",
    "    for i in range(6):\n",
    "        coeff = elevCoeff[i] #starts with C0\n",
    "        mypoly = np.polynomial.Polynomial(coeff)\n",
    "        pred.append(mypoly(elev))\n",
    "    print(\" \".join(f\"{p:10.2f}\" for p in pred))\n",
    "await printPredictedComp(elevCoeff,elev)\n",
    "await printUncompensatedAndCompensated(hex)"
   ]
  },
  {
   "cell_type": "markdown",
   "metadata": {},
   "source": [
    "### Do a slew, then check the LUT again"
   ]
  },
  {
   "cell_type": "code",
   "execution_count": null,
   "metadata": {},
   "outputs": [],
   "source": [
    "location = EarthLocation.from_geodetic(lon=-70.747698*u.deg,\n",
    "                                       lat=-30.244728*u.deg,\n",
    "                                       height=2663.0*u.m)\n",
    "print(\"Current elevation angle = \", elev)"
   ]
  },
  {
   "cell_type": "code",
   "execution_count": null,
   "metadata": {},
   "outputs": [],
   "source": [
    "now = datetime.now()\n",
    "print(\"Start to point the telescope\", now)\n",
    "\n",
    "alt = 80. * u.deg\n",
    "az = 0. * u.deg\n",
    "rot_tel = Angle(0, unit= u.deg) "
   ]
  },
  {
   "cell_type": "code",
   "execution_count": null,
   "metadata": {},
   "outputs": [],
   "source": [
    "target_name=\"TMA motion test\"\n",
    "time_data = await r.mtptg.tel_timeAndDate.next(flush=True, timeout=2)\n",
    "curr_time_ptg = Time(time_data.mjd, format=\"mjd\", scale=\"tai\")\n",
    "time_err = curr_time_ptg - Time.now()\n",
    "print(f\"Time error={time_err.sec:0.2f} sec\")\n",
    "\n",
    "print(curr_time_ptg.tai.value)\n",
    "\n",
    "cmd_elaz = AltAz(alt=alt, az=az, \n",
    "                obstime=curr_time_ptg.tai, \n",
    "                location=location)\n",
    "cmd_radec = cmd_elaz.transform_to(ICRS)\n",
    "# Calculating the other parameters     \n",
    "rot_pa = rot_tel"
   ]
  },
  {
   "cell_type": "code",
   "execution_count": null,
   "metadata": {},
   "outputs": [],
   "source": [
    "# Consider to make this simpler by just track in el/az using azElTarget!\n",
    "# The pointing component is commanding the mount directly\n",
    "ack = await r.mtptg.cmd_raDecTarget.set_start(\n",
    "    targetName=target_name,\n",
    "    frame=MTPtg.CoordFrame.ICRS,\n",
    "    epoch=2000,  # should be ignored: no parallax or proper motion\n",
    "    equinox=2000,  # should be ignored for ICRS\n",
    "    ra=cmd_radec.ra.hour,\n",
    "    declination=cmd_radec.dec.deg,\n",
    "    parallax=0,\n",
    "    pmRA=0,\n",
    "    pmDec=0,\n",
    "    rv=0,\n",
    "    dRA=0,\n",
    "    dDec=0,\n",
    "    trackId=9999,\n",
    "    rotAngle=15.0,\n",
    "    rotStartFrame=MTPtg.RotFrame.FIXED,\n",
    "    rotTrackFrame=MTPtg.RotFrame.FIXED,\n",
    "    rotMode=MTPtg.RotMode.FIELD,\n",
    "    azWrapStrategy=2,\n",
    "    timeOnTarget=30,\n",
    "    timeout=10\n",
    ")\n",
    "\n",
    "print(\" Now, Waiting 30s\")\n",
    "await asyncio.sleep(30.)\n",
    "print(\"System Ready\")"
   ]
  },
  {
   "cell_type": "code",
   "execution_count": null,
   "metadata": {},
   "outputs": [],
   "source": [
    "mountStatus = await r.mtm.evt_axesInPosition.aget(timeout=5.)\n",
    "rotStatus = await r.mtrot.evt_inPosition.aget(timeout=5.)\n",
    "print('Are we tracking?', mountStatus.elevation , mountStatus.azimuth , rotStatus.inPosition)"
   ]
  },
  {
   "cell_type": "code",
   "execution_count": null,
   "metadata": {},
   "outputs": [],
   "source": [
    "await r.mtptg.cmd_stopTracking.set_start(timeout=5.)"
   ]
  },
  {
   "cell_type": "markdown",
   "metadata": {},
   "source": [
    "### check angle and LUT after the slew"
   ]
  },
  {
   "cell_type": "code",
   "execution_count": null,
   "metadata": {},
   "outputs": [],
   "source": [
    "mountAngle = await r.mtm.tel_elevation.aget(timeout=10.)\n",
    "print(\"mount elevation angle\", mountAngle.actualPosition)\n",
    "elev = mountAngle.actualPosition"
   ]
  },
  {
   "cell_type": "code",
   "execution_count": null,
   "metadata": {},
   "outputs": [],
   "source": [
    "await printPosition(hex)\n",
    "await printUncompensatedAndCompensated(hex)\n",
    "await printPredictedComp(elevCoeff, elev)"
   ]
  },
  {
   "cell_type": "markdown",
   "metadata": {},
   "source": [
    "### Check if the telescope is in tracking mode. If yes, need to stop stacking. \n",
    "The alternative is to check \"MT Mount status\" dash board on Chronograf. Make sure there are three \"False\"."
   ]
  },
  {
   "cell_type": "code",
   "execution_count": null,
   "metadata": {},
   "outputs": [],
   "source": [
    "mountStatus = r.mtm.evt_axesInPosition.get\n",
    "rotStatus = r.mtrot.evt_inPosition.get\n",
    "trackingStatus = mountStatus.elevation and mountStatus.azimuth and rotStatus.inPosition\n",
    "print('Are we tracking?', trackingStatus)"
   ]
  },
  {
   "cell_type": "code",
   "execution_count": null,
   "metadata": {},
   "outputs": [],
   "source": [
    "await ptg.cmd_stopTracking.set_start(timeout=5.)"
   ]
  },
  {
   "cell_type": "code",
   "execution_count": null,
   "metadata": {},
   "outputs": [],
   "source": [
    "# Stop the MTMount controller\n",
    "await mount.close()"
   ]
  },
  {
   "cell_type": "code",
   "execution_count": null,
   "metadata": {},
   "outputs": [],
   "source": []
  }
 ],
 "metadata": {
  "kernelspec": {
   "display_name": "LSST",
   "language": "python",
   "name": "lsst"
  },
  "language_info": {
   "codemirror_mode": {
    "name": "ipython",
    "version": 3
   },
   "file_extension": ".py",
   "mimetype": "text/x-python",
   "name": "python",
   "nbconvert_exporter": "python",
   "pygments_lexer": "ipython3",
   "version": "3.8.8"
  }
 },
 "nbformat": 4,
 "nbformat_minor": 4
}
