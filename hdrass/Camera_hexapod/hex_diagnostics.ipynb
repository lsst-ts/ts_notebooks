{
 "cells": [
  {
   "cell_type": "markdown",
   "metadata": {},
   "source": [
    "## This notebook check the hexapod state transitions and move/offset commands\n",
    "## It also checks the LUT against the input polynomials, before and after a slew\n",
    "\n",
    "This notebook works with both hexapods.\n",
    "\n",
    "Prerequisits:\n",
    "\n",
    "The MTMount and the MTRotator must send telemetry for mount azimuth and elevation and rotation angle."
   ]
  },
  {
   "cell_type": "code",
   "execution_count": 1,
   "metadata": {},
   "outputs": [],
   "source": [
    "from lsst.ts import salobj\n",
    "import asyncio\n",
    "import os\n",
    "import yaml\n",
    "\n",
    "import numpy as np\n",
    "from matplotlib import pyplot as plt\n",
    "from astropy.time import Time\n",
    "from datetime import datetime, timedelta\n",
    "import pandas as pd\n",
    "\n",
    "from lsst.ts.idl.enums import MTPtg\n",
    "\n",
    "from astropy.coordinates import AltAz, ICRS, EarthLocation, Angle, FK5\n",
    "import astropy.units as u\n",
    "\n",
    "from lsst_efd_client import EfdClient"
   ]
  },
  {
   "cell_type": "markdown",
   "metadata": {},
   "source": [
    "To switch between the hexapods, change the cell below."
   ]
  },
  {
   "cell_type": "code",
   "execution_count": 2,
   "metadata": {},
   "outputs": [],
   "source": [
    "hexIdx = 1 #camera hexapod\n",
    "#hexIdx = 2 #M2 hexapod"
   ]
  },
  {
   "cell_type": "code",
   "execution_count": 3,
   "metadata": {},
   "outputs": [
    {
     "name": "stdout",
     "output_type": "stream",
     "text": [
      "file:///home/hdrass/WORK/ts_ddsconfig/config/ospl-shmem.xml\n"
     ]
    }
   ],
   "source": [
    "import os\n",
    "print(os.environ[\"OSPL_URI\"])\n",
    "if os.environ.get(\"LSST_DDS_ALIGNER\", \"false\") != \"false\":\n",
    "    print(\"LSST_DDS_ALIGNER is mis-configured\")"
   ]
  },
  {
   "cell_type": "code",
   "execution_count": 4,
   "metadata": {},
   "outputs": [],
   "source": [
    "start_time = datetime.now()\n",
    "script = salobj.Controller(\"Script\", index=42658887)\n",
    "\n",
    "#wait 10 second may help with DDS problems; closing all other kernels may help too\n",
    "#This is to avoid a race condition between when the domain register the master and the readers are registered.\n",
    "#await asyncio.sleep(25) "
   ]
  },
  {
   "cell_type": "code",
   "execution_count": 5,
   "metadata": {},
   "outputs": [],
   "source": [
    "#Only needed wht doing a test with the telescope slewing\n",
    "#ptg = salobj.Remote(script.domain, \"MTPtg\")"
   ]
  },
  {
   "cell_type": "code",
   "execution_count": 6,
   "metadata": {
    "scrolled": true
   },
   "outputs": [
    {
     "name": "stderr",
     "output_type": "stream",
     "text": [
      "electrical DDS read queue is full (100 elements); data may be lost\n",
      "application DDS read queue is full (100 elements); data may be lost\n",
      "actuators DDS read queue is full (100 elements); data may be lost\n",
      "electrical DDS read queue is filling: 37 of 100 elements\n",
      "electrical DDS read queue is filling: 14 of 100 elements\n"
     ]
    }
   ],
   "source": [
    "mthex = salobj.Remote(script.domain, \"MTHexapod\", index=hexIdx) #1 for camera hexapod and 2 for m2 hexapod"
   ]
  },
  {
   "cell_type": "code",
   "execution_count": 7,
   "metadata": {},
   "outputs": [],
   "source": [
    "mtptg = salobj.Remote(script.domain, \"MTPtg\")"
   ]
  },
  {
   "cell_type": "code",
   "execution_count": 8,
   "metadata": {},
   "outputs": [],
   "source": [
    "mtm = salobj.Remote(script.domain, \"MTMount\")"
   ]
  },
  {
   "cell_type": "code",
   "execution_count": 9,
   "metadata": {},
   "outputs": [],
   "source": [
    "#Start a controller instead of the Mount simulator\n",
    "#mount = salobj.Controller(name=\"MTMount\", index=0)"
   ]
  },
  {
   "cell_type": "code",
   "execution_count": 10,
   "metadata": {
    "scrolled": true
   },
   "outputs": [
    {
     "name": "stderr",
     "output_type": "stream",
     "text": [
      "timeAndDate DDS read queue is filling: 14 of 100 elements\n"
     ]
    },
    {
     "name": "stdout",
     "output_type": "stream",
     "text": [
      "time to start is 0:00:18.566227 [s]\n"
     ]
    }
   ],
   "source": [
    "mtrot = salobj.Remote(script.domain, \"MTRotator\")\n",
    "print(f'time to start is {datetime.now() - start_time} [s]')"
   ]
  },
  {
   "cell_type": "code",
   "execution_count": 11,
   "metadata": {},
   "outputs": [
    {
     "name": "stderr",
     "output_type": "stream",
     "text": [
      "rotation DDS read queue is full (100 elements); data may be lost\n"
     ]
    },
    {
     "data": {
      "text/plain": [
       "[None, None, None, None, None]"
      ]
     },
     "execution_count": 11,
     "metadata": {},
     "output_type": "execute_result"
    },
    {
     "name": "stderr",
     "output_type": "stream",
     "text": [
      "motors DDS read queue is full (100 elements); data may be lost\n",
      "electrical DDS read queue is full (100 elements); data may be lost\n"
     ]
    }
   ],
   "source": [
    "await asyncio.gather(mtm.start_task,\n",
    "                     script.start_task,                      \n",
    "                     mtrot.start_task,\n",
    "                     mthex.start_task,\n",
    "                     mtptg.start_task)"
   ]
  },
  {
   "cell_type": "code",
   "execution_count": 12,
   "metadata": {},
   "outputs": [
    {
     "name": "stderr",
     "output_type": "stream",
     "text": [
      "rotation DDS read queue is filling: 18 of 100 elements\n",
      "rotation DDS read queue is filling: 18 of 100 elements\n"
     ]
    }
   ],
   "source": [
    "#This only works on domain 0\n",
    "#await ptg.start_task"
   ]
  },
  {
   "cell_type": "markdown",
   "metadata": {},
   "source": [
    "## Check the heartbeats"
   ]
  },
  {
   "cell_type": "code",
   "execution_count": 13,
   "metadata": {
    "scrolled": true
   },
   "outputs": [
    {
     "data": {
      "text/plain": [
       "<ddsutil.MTHexapod_logevent_heartbeat_8799b696 at 0x7fdef1b37130>"
      ]
     },
     "execution_count": 13,
     "metadata": {},
     "output_type": "execute_result"
    }
   ],
   "source": [
    "#As long as you get something its OK. we dont' care about heartbeat\n",
    "await mthex.evt_heartbeat.next(flush=True, timeout=5)"
   ]
  },
  {
   "cell_type": "code",
   "execution_count": 14,
   "metadata": {},
   "outputs": [
    {
     "data": {
      "text/plain": [
       "<ddsutil.MTPtg_logevent_heartbeat_9be8ac81 at 0x7fdef1b442b0>"
      ]
     },
     "execution_count": 14,
     "metadata": {},
     "output_type": "execute_result"
    }
   ],
   "source": [
    "#This only works on domain 0\n",
    "await mtptg.evt_heartbeat.next(flush=True, timeout=5)"
   ]
  },
  {
   "cell_type": "code",
   "execution_count": 15,
   "metadata": {},
   "outputs": [
    {
     "data": {
      "text/plain": [
       "<ddsutil.MTRotator_logevent_heartbeat_3a397884 at 0x7fdef1bcfcd0>"
      ]
     },
     "execution_count": 15,
     "metadata": {},
     "output_type": "execute_result"
    }
   ],
   "source": [
    "await mtrot.evt_heartbeat.next(flush=True, timeout=5)"
   ]
  },
  {
   "cell_type": "code",
   "execution_count": 16,
   "metadata": {},
   "outputs": [
    {
     "data": {
      "text/plain": [
       "<ddsutil.MTMount_logevent_heartbeat_a499b5c4 at 0x7fdef1b4d0d0>"
      ]
     },
     "execution_count": 16,
     "metadata": {},
     "output_type": "execute_result"
    }
   ],
   "source": [
    "await mtm.evt_heartbeat.next(flush=True, timeout=5)"
   ]
  },
  {
   "cell_type": "markdown",
   "metadata": {},
   "source": [
    "### Test the hexapod state transitions. If the hexapod is already enabled, disable then enable it."
   ]
  },
  {
   "cell_type": "code",
   "execution_count": 17,
   "metadata": {},
   "outputs": [
    {
     "name": "stdout",
     "output_type": "stream",
     "text": [
      "staring with: hex state State.ENABLED 2021-07-05 21:59:51.061982720\n"
     ]
    }
   ],
   "source": [
    "state = await mthex.evt_summaryState.aget(timeout=5)\n",
    "print('staring with: hex state', salobj.State(state.summaryState), pd.to_datetime(state.private_sndStamp, unit='s'))\n",
    "if state.summaryState == 2:\n",
    "    await salobj.set_summary_state(mthex, salobj.State.DISABLED) #disable hex"
   ]
  },
  {
   "cell_type": "code",
   "execution_count": 18,
   "metadata": {},
   "outputs": [
    {
     "data": {
      "text/plain": [
       "[<State.DISABLED: 1>, <State.STANDBY: 5>]"
      ]
     },
     "execution_count": 18,
     "metadata": {},
     "output_type": "execute_result"
    }
   ],
   "source": [
    "await salobj.set_summary_state(remote=mthex, state=salobj.State.STANDBY)\n"
   ]
  },
  {
   "cell_type": "code",
   "execution_count": 19,
   "metadata": {},
   "outputs": [
    {
     "data": {
      "text/plain": [
       "[<State.STANDBY: 5>, <State.DISABLED: 1>]"
      ]
     },
     "execution_count": 19,
     "metadata": {},
     "output_type": "execute_result"
    }
   ],
   "source": [
    "await salobj.set_summary_state(remote=mthex, state=salobj.State.DISABLED)"
   ]
  },
  {
   "cell_type": "code",
   "execution_count": 20,
   "metadata": {},
   "outputs": [
    {
     "data": {
      "text/plain": [
       "[<State.DISABLED: 1>, <State.ENABLED: 2>]"
      ]
     },
     "execution_count": 20,
     "metadata": {},
     "output_type": "execute_result"
    }
   ],
   "source": [
    "await salobj.set_summary_state(mthex, salobj.State.ENABLED, settingsToApply=\"default\") #enable hex"
   ]
  },
  {
   "cell_type": "markdown",
   "metadata": {},
   "source": [
    "## Check that the other components are enabled or, if not, enable them "
   ]
  },
  {
   "cell_type": "code",
   "execution_count": 22,
   "metadata": {},
   "outputs": [
    {
     "data": {
      "text/plain": [
       "[<State.STANDBY: 5>, <State.DISABLED: 1>, <State.ENABLED: 2>]"
      ]
     },
     "execution_count": 22,
     "metadata": {},
     "output_type": "execute_result"
    }
   ],
   "source": [
    "await salobj.set_summary_state(mtm, salobj.State.ENABLED)"
   ]
  },
  {
   "cell_type": "code",
   "execution_count": 23,
   "metadata": {},
   "outputs": [
    {
     "ename": "RuntimeError",
     "evalue": "Error on cmd=cmd_start, initial_state=5: msg='Command failed', ackcmd=(ackcmd private_seqNum=1784759104, ack=<SalRetCode.CMD_FAILED: -302>, error=1, result='Failed: Controller has CSC commands disabled; use the EUI to enable CSC commands')",
     "output_type": "error",
     "traceback": [
      "\u001b[0;31m---------------------------------------------------------------------------\u001b[0m",
      "\u001b[0;31mAckError\u001b[0m                                  Traceback (most recent call last)",
      "\u001b[0;32m/opt/lsst/software/stack/conda/miniconda3-py38_4.9.2/envs/lsst-scipipe-0.6.0/lib/python3.8/site-packages/lsst/ts/salobj/csc_utils.py\u001b[0m in \u001b[0;36mset_summary_state\u001b[0;34m(remote, state, settingsToApply, timeout)\u001b[0m\n\u001b[1;32m    147\u001b[0m             \u001b[0;32mtry\u001b[0m\u001b[0;34m:\u001b[0m\u001b[0;34m\u001b[0m\u001b[0;34m\u001b[0m\u001b[0m\n\u001b[0;32m--> 148\u001b[0;31m                 \u001b[0;32mawait\u001b[0m \u001b[0mcmd\u001b[0m\u001b[0;34m.\u001b[0m\u001b[0mstart\u001b[0m\u001b[0;34m(\u001b[0m\u001b[0mtimeout\u001b[0m\u001b[0;34m=\u001b[0m\u001b[0mtimeout\u001b[0m\u001b[0;34m)\u001b[0m\u001b[0;34m\u001b[0m\u001b[0;34m\u001b[0m\u001b[0m\n\u001b[0m\u001b[1;32m    149\u001b[0m             \u001b[0;32mexcept\u001b[0m \u001b[0mException\u001b[0m \u001b[0;32mas\u001b[0m \u001b[0me\u001b[0m\u001b[0;34m:\u001b[0m\u001b[0;34m\u001b[0m\u001b[0;34m\u001b[0m\u001b[0m\n",
      "\u001b[0;32m/opt/lsst/software/stack/conda/miniconda3-py38_4.9.2/envs/lsst-scipipe-0.6.0/lib/python3.8/site-packages/lsst/ts/salobj/topics/remote_command.py\u001b[0m in \u001b[0;36mstart\u001b[0;34m(self, data, timeout, wait_done)\u001b[0m\n\u001b[1;32m    448\u001b[0m         \u001b[0mself\u001b[0m\u001b[0;34m.\u001b[0m\u001b[0msalinfo\u001b[0m\u001b[0;34m.\u001b[0m\u001b[0m_running_cmds\u001b[0m\u001b[0;34m[\u001b[0m\u001b[0mseq_num\u001b[0m\u001b[0;34m]\u001b[0m \u001b[0;34m=\u001b[0m \u001b[0mcmd_info\u001b[0m\u001b[0;34m\u001b[0m\u001b[0;34m\u001b[0m\u001b[0m\n\u001b[0;32m--> 449\u001b[0;31m         \u001b[0;32mreturn\u001b[0m \u001b[0;32mawait\u001b[0m \u001b[0mcmd_info\u001b[0m\u001b[0;34m.\u001b[0m\u001b[0mnext_ackcmd\u001b[0m\u001b[0;34m(\u001b[0m\u001b[0mtimeout\u001b[0m\u001b[0;34m=\u001b[0m\u001b[0mtimeout\u001b[0m\u001b[0;34m)\u001b[0m\u001b[0;34m\u001b[0m\u001b[0;34m\u001b[0m\u001b[0m\n\u001b[0m",
      "\u001b[0;32m/opt/lsst/software/stack/conda/miniconda3-py38_4.9.2/envs/lsst-scipipe-0.6.0/lib/python3.8/site-packages/lsst/ts/salobj/topics/remote_command.py\u001b[0m in \u001b[0;36mnext_ackcmd\u001b[0;34m(self, timeout)\u001b[0m\n\u001b[1;32m    181\u001b[0m             \u001b[0;32mif\u001b[0m \u001b[0mackcmd\u001b[0m\u001b[0;34m.\u001b[0m\u001b[0mack\u001b[0m \u001b[0;32min\u001b[0m \u001b[0mself\u001b[0m\u001b[0;34m.\u001b[0m\u001b[0mfailed_ack_codes\u001b[0m\u001b[0;34m:\u001b[0m\u001b[0;34m\u001b[0m\u001b[0;34m\u001b[0m\u001b[0m\n\u001b[0;32m--> 182\u001b[0;31m                 \u001b[0;32mraise\u001b[0m \u001b[0mbase\u001b[0m\u001b[0;34m.\u001b[0m\u001b[0mAckError\u001b[0m\u001b[0;34m(\u001b[0m\u001b[0mmsg\u001b[0m\u001b[0;34m=\u001b[0m\u001b[0;34m\"Command failed\"\u001b[0m\u001b[0;34m,\u001b[0m \u001b[0mackcmd\u001b[0m\u001b[0;34m=\u001b[0m\u001b[0mackcmd\u001b[0m\u001b[0;34m)\u001b[0m\u001b[0;34m\u001b[0m\u001b[0;34m\u001b[0m\u001b[0m\n\u001b[0m\u001b[1;32m    183\u001b[0m             \u001b[0;32mreturn\u001b[0m \u001b[0mackcmd\u001b[0m\u001b[0;34m\u001b[0m\u001b[0;34m\u001b[0m\u001b[0m\n",
      "\u001b[0;31mAckError\u001b[0m: msg='Command failed', ackcmd=(ackcmd private_seqNum=1784759104, ack=<SalRetCode.CMD_FAILED: -302>, error=1, result='Failed: Controller has CSC commands disabled; use the EUI to enable CSC commands')",
      "\nThe above exception was the direct cause of the following exception:\n",
      "\u001b[0;31mRuntimeError\u001b[0m                              Traceback (most recent call last)",
      "\u001b[0;32m<ipython-input-23-9ddc03adf5e4>\u001b[0m in \u001b[0;36m<module>\u001b[0;34m\u001b[0m\n\u001b[0;32m----> 1\u001b[0;31m \u001b[0;32mawait\u001b[0m \u001b[0msalobj\u001b[0m\u001b[0;34m.\u001b[0m\u001b[0mset_summary_state\u001b[0m\u001b[0;34m(\u001b[0m\u001b[0mmtrot\u001b[0m\u001b[0;34m,\u001b[0m \u001b[0msalobj\u001b[0m\u001b[0;34m.\u001b[0m\u001b[0mState\u001b[0m\u001b[0;34m.\u001b[0m\u001b[0mENABLED\u001b[0m\u001b[0;34m)\u001b[0m\u001b[0;34m\u001b[0m\u001b[0;34m\u001b[0m\u001b[0m\n\u001b[0m",
      "\u001b[0;32m/opt/lsst/software/stack/conda/miniconda3-py38_4.9.2/envs/lsst-scipipe-0.6.0/lib/python3.8/site-packages/lsst/ts/salobj/csc_utils.py\u001b[0m in \u001b[0;36mset_summary_state\u001b[0;34m(remote, state, settingsToApply, timeout)\u001b[0m\n\u001b[1;32m    148\u001b[0m                 \u001b[0;32mawait\u001b[0m \u001b[0mcmd\u001b[0m\u001b[0;34m.\u001b[0m\u001b[0mstart\u001b[0m\u001b[0;34m(\u001b[0m\u001b[0mtimeout\u001b[0m\u001b[0;34m=\u001b[0m\u001b[0mtimeout\u001b[0m\u001b[0;34m)\u001b[0m\u001b[0;34m\u001b[0m\u001b[0;34m\u001b[0m\u001b[0m\n\u001b[1;32m    149\u001b[0m             \u001b[0;32mexcept\u001b[0m \u001b[0mException\u001b[0m \u001b[0;32mas\u001b[0m \u001b[0me\u001b[0m\u001b[0;34m:\u001b[0m\u001b[0;34m\u001b[0m\u001b[0;34m\u001b[0m\u001b[0m\n\u001b[0;32m--> 150\u001b[0;31m                 raise RuntimeError(\n\u001b[0m\u001b[1;32m    151\u001b[0m                     \u001b[0;34mf\"Error on cmd=cmd_{command}, initial_state={current_state}: {e}\"\u001b[0m\u001b[0;34m\u001b[0m\u001b[0;34m\u001b[0m\u001b[0m\n\u001b[1;32m    152\u001b[0m                 ) from e\n",
      "\u001b[0;31mRuntimeError\u001b[0m: Error on cmd=cmd_start, initial_state=5: msg='Command failed', ackcmd=(ackcmd private_seqNum=1784759104, ack=<SalRetCode.CMD_FAILED: -302>, error=1, result='Failed: Controller has CSC commands disabled; use the EUI to enable CSC commands')"
     ]
    }
   ],
   "source": [
    "await salobj.set_summary_state(mtrot, salobj.State.ENABLED)"
   ]
  },
  {
   "cell_type": "code",
   "execution_count": 70,
   "metadata": {},
   "outputs": [
    {
     "data": {
      "text/plain": [
       "[<State.STANDBY: 5>, <State.DISABLED: 1>, <State.ENABLED: 2>]"
      ]
     },
     "execution_count": 70,
     "metadata": {},
     "output_type": "execute_result"
    }
   ],
   "source": [
    "await salobj.set_summary_state(mtptg, salobj.State.ENABLED)"
   ]
  },
  {
   "cell_type": "markdown",
   "metadata": {},
   "source": [
    "## Check that the configurations and that the needed telemetry is comming in:"
   ]
  },
  {
   "cell_type": "code",
   "execution_count": 39,
   "metadata": {},
   "outputs": [
    {
     "name": "stdout",
     "output_type": "stream",
     "text": [
      "pivot at (0, 0, -2758400) microns \n",
      "maxXY =  11400.0 microns, maxZ=  13100.0  microns\n",
      "maxUV =  0.36 deg, maxW=  0.1  deg\n"
     ]
    }
   ],
   "source": [
    "#Check some configurations for the hexapod\n",
    "hexConfig = await mthex.evt_configuration.aget(timeout=10.)\n",
    "print(\"pivot at (%.0f, %.0f, %.0f) microns \"%(hexConfig.pivotX, hexConfig.pivotY, hexConfig.pivotZ))\n",
    "print(\"maxXY = \", hexConfig.maxXY, \"microns, maxZ= \", hexConfig.maxZ, \" microns\")\n",
    "print(\"maxUV = \", hexConfig.maxUV, \"deg, maxW= \", hexConfig.maxW, \" deg\")"
   ]
  },
  {
   "cell_type": "code",
   "execution_count": 46,
   "metadata": {},
   "outputs": [
    {
     "name": "stderr",
     "output_type": "stream",
     "text": [
      "application DDS read queue is filling: 18 of 100 elements\n",
      "rotation DDS read queue is filling: 17 of 100 elements\n",
      "electrical DDS read queue is filling: 20 of 100 elements\n",
      "motors DDS read queue is filling: 20 of 100 elements\n",
      "actuators DDS read queue is filling: 24 of 100 elements\n",
      "electrical DDS read queue is filling: 24 of 100 elements\n",
      "ccwFollowingError DDS read queue is filling: 24 of 100 elements\n"
     ]
    }
   ],
   "source": [
    "end = Time(datetime.now())\n",
    "start = end - timedelta(hours=3)\n",
    "#logeventTarget = await client.select_time_series('lsst.sal.MTMount.logevent_target', '*', start.tai, end.tai)\n",
    "#With this we can get the elevation when a controller is running\n",
    "MTMountElevation = await client.select_time_series('lsst.sal.MTMount.elevation', '*', start.tai, end.tai)\n",
    "MTMountAzimuth = await client.select_time_series('lsst.sal.MTMount.azimuth', '*', start.tai, end.tai)\n",
    "MTRotPosition = await client.select_time_series('lsst.sal.MTRotator.rotation', '*', start.tai, end.tai)"
   ]
  },
  {
   "cell_type": "code",
   "execution_count": 41,
   "metadata": {},
   "outputs": [
    {
     "name": "stdout",
     "output_type": "stream",
     "text": [
      "Mount controller elevation from the EFD:\n"
     ]
    },
    {
     "data": {
      "text/plain": [
       "2021-07-05 22:09:06.692000+00:00    80\n",
       "2021-07-05 22:09:06.894000+00:00    80\n",
       "2021-07-05 22:09:07.095000+00:00    80\n",
       "2021-07-05 22:09:07.296000+00:00    80\n",
       "2021-07-05 22:09:07.498000+00:00    80\n",
       "                                    ..\n",
       "2021-07-05 22:14:12.807000+00:00    80\n",
       "2021-07-05 22:14:13.009000+00:00    80\n",
       "2021-07-05 22:14:13.210000+00:00    80\n",
       "2021-07-05 22:14:13.412000+00:00    80\n",
       "2021-07-05 22:14:13.613000+00:00    80\n",
       "Name: actualPosition, Length: 1525, dtype: int64"
      ]
     },
     "execution_count": 41,
     "metadata": {},
     "output_type": "execute_result"
    }
   ],
   "source": [
    "#get the elevation into a variable\n",
    "mtmElev=MTMountElevation.actualPosition\n",
    "print(\"Mount elevation from the EFD:\")\n",
    "mtmElev"
   ]
  },
  {
   "cell_type": "code",
   "execution_count": 42,
   "metadata": {},
   "outputs": [
    {
     "name": "stdout",
     "output_type": "stream",
     "text": [
      "Mount controller azimuth from the EFD:\n"
     ]
    },
    {
     "data": {
      "text/plain": [
       "2021-07-05 22:09:06.691000+00:00    0\n",
       "2021-07-05 22:09:06.893000+00:00    0\n",
       "2021-07-05 22:09:07.094000+00:00    0\n",
       "2021-07-05 22:09:07.295000+00:00    0\n",
       "2021-07-05 22:09:07.497000+00:00    0\n",
       "                                   ..\n",
       "2021-07-05 22:14:12.806000+00:00    0\n",
       "2021-07-05 22:14:13.008000+00:00    0\n",
       "2021-07-05 22:14:13.209000+00:00    0\n",
       "2021-07-05 22:14:13.411000+00:00    0\n",
       "2021-07-05 22:14:13.612000+00:00    0\n",
       "Name: actualPosition, Length: 1525, dtype: int64"
      ]
     },
     "execution_count": 42,
     "metadata": {},
     "output_type": "execute_result"
    }
   ],
   "source": [
    "mtmAzimuth = MTMountAzimuth.actualPosition\n",
    "print(\"Mount azimuth from the EFD:\")\n",
    "mtmAzimuth"
   ]
  },
  {
   "cell_type": "code",
   "execution_count": 47,
   "metadata": {},
   "outputs": [
    {
     "name": "stdout",
     "output_type": "stream",
     "text": [
      "MTRotator positon from the EFD:\n"
     ]
    },
    {
     "data": {
      "text/plain": [
       "2021-07-05 19:19:43.561000+00:00    30.000348\n",
       "2021-07-05 19:19:43.611000+00:00    30.000347\n",
       "2021-07-05 19:19:43.661000+00:00    30.000346\n",
       "2021-07-05 19:19:43.711000+00:00    30.000347\n",
       "2021-07-05 19:19:43.761000+00:00    30.000347\n",
       "                                      ...    \n",
       "2021-07-05 22:19:43.333000+00:00    -0.001394\n",
       "2021-07-05 22:19:43.383000+00:00    -0.001395\n",
       "2021-07-05 22:19:43.433000+00:00    -0.001395\n",
       "2021-07-05 22:19:43.483000+00:00    -0.001395\n",
       "2021-07-05 22:19:43.533000+00:00    -0.001395\n",
       "Name: actualPosition, Length: 97227, dtype: float64"
      ]
     },
     "execution_count": 47,
     "metadata": {},
     "output_type": "execute_result"
    }
   ],
   "source": [
    "mtrotPosition = MTRotPosition.actualPosition\n",
    "print(\"MTRotator positon from the EFD:\")\n",
    "mtrotPosition"
   ]
  },
  {
   "cell_type": "markdown",
   "metadata": {},
   "source": [
    "## Start the EFD client"
   ]
  },
  {
   "cell_type": "code",
   "execution_count": 24,
   "metadata": {},
   "outputs": [],
   "source": [
    "client = EfdClient('summit_efd')"
   ]
  },
  {
   "cell_type": "code",
   "execution_count": 25,
   "metadata": {},
   "outputs": [],
   "source": [
    "# the next line only work if information were sent to the EFD during the time spann \"timedelta\"!\n",
    "csc_index = 1\n",
    "end = Time(datetime.now(), scale='tai')\n",
    "start = end - timedelta(hours=6)\n",
    "while True: #may need to wait a few seconds before event shows up in EFD\n",
    "    dfe = await client.select_time_series('lsst.sal.MTHexapod.logevent_summaryState', '*', start, end, csc_index)\n",
    "    #dfe = await client.select_time_series('lsst.sal.MTMount.elevation', '*', start, end)\n",
    "    if len(dfe)>0:\n",
    "        break\n",
    "#to check messages in Kafka, go to https://lsst-kafka-0-nts-efd.ncsa.illinois.edu/\n",
    "#we cannot get time series data from DDS. We have to query the EFD"
   ]
  },
  {
   "cell_type": "code",
   "execution_count": 26,
   "metadata": {
    "scrolled": true
   },
   "outputs": [
    {
     "data": {
      "text/html": [
       "<div>\n",
       "<style scoped>\n",
       "    .dataframe tbody tr th:only-of-type {\n",
       "        vertical-align: middle;\n",
       "    }\n",
       "\n",
       "    .dataframe tbody tr th {\n",
       "        vertical-align: top;\n",
       "    }\n",
       "\n",
       "    .dataframe thead th {\n",
       "        text-align: right;\n",
       "    }\n",
       "</style>\n",
       "<table border=\"1\" class=\"dataframe\">\n",
       "  <thead>\n",
       "    <tr style=\"text-align: right;\">\n",
       "      <th></th>\n",
       "      <th>MTHexapodID</th>\n",
       "      <th>priority</th>\n",
       "      <th>private_efdStamp</th>\n",
       "      <th>private_host</th>\n",
       "      <th>private_identity</th>\n",
       "      <th>private_kafkaStamp</th>\n",
       "      <th>private_origin</th>\n",
       "      <th>private_rcvStamp</th>\n",
       "      <th>private_revCode</th>\n",
       "      <th>private_seqNum</th>\n",
       "      <th>private_sndStamp</th>\n",
       "      <th>summaryState</th>\n",
       "    </tr>\n",
       "  </thead>\n",
       "  <tbody>\n",
       "    <tr>\n",
       "      <th>2021-07-05 18:54:02.062000+00:00</th>\n",
       "      <td>1</td>\n",
       "      <td>0</td>\n",
       "      <td>1.625511e+09</td>\n",
       "      <td>0</td>\n",
       "      <td>MTHexapod:1</td>\n",
       "      <td>1.625511e+09</td>\n",
       "      <td>7886</td>\n",
       "      <td>1.625511e+09</td>\n",
       "      <td>959a0a03</td>\n",
       "      <td>73</td>\n",
       "      <td>1.625511e+09</td>\n",
       "      <td>3</td>\n",
       "    </tr>\n",
       "    <tr>\n",
       "      <th>2021-07-05 21:08:41.175000+00:00</th>\n",
       "      <td>1</td>\n",
       "      <td>0</td>\n",
       "      <td>1.625519e+09</td>\n",
       "      <td>0</td>\n",
       "      <td>MTHexapod:1</td>\n",
       "      <td>1.625519e+09</td>\n",
       "      <td>7886</td>\n",
       "      <td>1.625519e+09</td>\n",
       "      <td>959a0a03</td>\n",
       "      <td>74</td>\n",
       "      <td>1.625519e+09</td>\n",
       "      <td>4</td>\n",
       "    </tr>\n",
       "    <tr>\n",
       "      <th>2021-07-05 21:08:55.299000+00:00</th>\n",
       "      <td>1</td>\n",
       "      <td>0</td>\n",
       "      <td>1.625519e+09</td>\n",
       "      <td>0</td>\n",
       "      <td>MTHexapod:1</td>\n",
       "      <td>1.625519e+09</td>\n",
       "      <td>7886</td>\n",
       "      <td>1.625519e+09</td>\n",
       "      <td>959a0a03</td>\n",
       "      <td>75</td>\n",
       "      <td>1.625519e+09</td>\n",
       "      <td>5</td>\n",
       "    </tr>\n",
       "    <tr>\n",
       "      <th>2021-07-05 21:08:58.313000+00:00</th>\n",
       "      <td>1</td>\n",
       "      <td>0</td>\n",
       "      <td>1.625519e+09</td>\n",
       "      <td>0</td>\n",
       "      <td>MTHexapod:1</td>\n",
       "      <td>1.625519e+09</td>\n",
       "      <td>7886</td>\n",
       "      <td>1.625519e+09</td>\n",
       "      <td>959a0a03</td>\n",
       "      <td>76</td>\n",
       "      <td>1.625519e+09</td>\n",
       "      <td>1</td>\n",
       "    </tr>\n",
       "    <tr>\n",
       "      <th>2021-07-05 21:09:03.088000+00:00</th>\n",
       "      <td>1</td>\n",
       "      <td>0</td>\n",
       "      <td>1.625519e+09</td>\n",
       "      <td>0</td>\n",
       "      <td>MTHexapod:1</td>\n",
       "      <td>1.625519e+09</td>\n",
       "      <td>7886</td>\n",
       "      <td>1.625519e+09</td>\n",
       "      <td>959a0a03</td>\n",
       "      <td>77</td>\n",
       "      <td>1.625519e+09</td>\n",
       "      <td>2</td>\n",
       "    </tr>\n",
       "    <tr>\n",
       "      <th>2021-07-05 21:09:54.339000+00:00</th>\n",
       "      <td>1</td>\n",
       "      <td>0</td>\n",
       "      <td>1.625519e+09</td>\n",
       "      <td>0</td>\n",
       "      <td>MTHexapod:1</td>\n",
       "      <td>1.625519e+09</td>\n",
       "      <td>7886</td>\n",
       "      <td>1.625519e+09</td>\n",
       "      <td>959a0a03</td>\n",
       "      <td>78</td>\n",
       "      <td>1.625519e+09</td>\n",
       "      <td>1</td>\n",
       "    </tr>\n",
       "    <tr>\n",
       "      <th>2021-07-05 21:10:03.108000+00:00</th>\n",
       "      <td>1</td>\n",
       "      <td>0</td>\n",
       "      <td>1.625519e+09</td>\n",
       "      <td>0</td>\n",
       "      <td>MTHexapod:1</td>\n",
       "      <td>1.625519e+09</td>\n",
       "      <td>7886</td>\n",
       "      <td>1.625519e+09</td>\n",
       "      <td>959a0a03</td>\n",
       "      <td>79</td>\n",
       "      <td>1.625519e+09</td>\n",
       "      <td>5</td>\n",
       "    </tr>\n",
       "    <tr>\n",
       "      <th>2021-07-05 21:10:22.327000+00:00</th>\n",
       "      <td>1</td>\n",
       "      <td>0</td>\n",
       "      <td>1.625519e+09</td>\n",
       "      <td>0</td>\n",
       "      <td>MTHexapod:1</td>\n",
       "      <td>1.625519e+09</td>\n",
       "      <td>7886</td>\n",
       "      <td>1.625519e+09</td>\n",
       "      <td>959a0a03</td>\n",
       "      <td>80</td>\n",
       "      <td>1.625519e+09</td>\n",
       "      <td>1</td>\n",
       "    </tr>\n",
       "    <tr>\n",
       "      <th>2021-07-05 21:10:27.813000+00:00</th>\n",
       "      <td>1</td>\n",
       "      <td>0</td>\n",
       "      <td>1.625519e+09</td>\n",
       "      <td>0</td>\n",
       "      <td>MTHexapod:1</td>\n",
       "      <td>1.625519e+09</td>\n",
       "      <td>7886</td>\n",
       "      <td>1.625519e+09</td>\n",
       "      <td>959a0a03</td>\n",
       "      <td>81</td>\n",
       "      <td>1.625519e+09</td>\n",
       "      <td>5</td>\n",
       "    </tr>\n",
       "    <tr>\n",
       "      <th>2021-07-05 21:10:32.498000+00:00</th>\n",
       "      <td>1</td>\n",
       "      <td>0</td>\n",
       "      <td>1.625519e+09</td>\n",
       "      <td>0</td>\n",
       "      <td>MTHexapod:1</td>\n",
       "      <td>1.625519e+09</td>\n",
       "      <td>7886</td>\n",
       "      <td>1.625519e+09</td>\n",
       "      <td>959a0a03</td>\n",
       "      <td>82</td>\n",
       "      <td>1.625519e+09</td>\n",
       "      <td>1</td>\n",
       "    </tr>\n",
       "    <tr>\n",
       "      <th>2021-07-05 21:10:37.763000+00:00</th>\n",
       "      <td>1</td>\n",
       "      <td>0</td>\n",
       "      <td>1.625519e+09</td>\n",
       "      <td>0</td>\n",
       "      <td>MTHexapod:1</td>\n",
       "      <td>1.625519e+09</td>\n",
       "      <td>7886</td>\n",
       "      <td>1.625519e+09</td>\n",
       "      <td>959a0a03</td>\n",
       "      <td>83</td>\n",
       "      <td>1.625519e+09</td>\n",
       "      <td>2</td>\n",
       "    </tr>\n",
       "    <tr>\n",
       "      <th>2021-07-05 21:40:01.516000+00:00</th>\n",
       "      <td>1</td>\n",
       "      <td>0</td>\n",
       "      <td>1.625521e+09</td>\n",
       "      <td>0</td>\n",
       "      <td>MTHexapod:1</td>\n",
       "      <td>1.625521e+09</td>\n",
       "      <td>7886</td>\n",
       "      <td>1.625521e+09</td>\n",
       "      <td>959a0a03</td>\n",
       "      <td>84</td>\n",
       "      <td>1.625521e+09</td>\n",
       "      <td>1</td>\n",
       "    </tr>\n",
       "    <tr>\n",
       "      <th>2021-07-05 21:40:19.194000+00:00</th>\n",
       "      <td>1</td>\n",
       "      <td>0</td>\n",
       "      <td>1.625521e+09</td>\n",
       "      <td>0</td>\n",
       "      <td>MTHexapod:1</td>\n",
       "      <td>1.625521e+09</td>\n",
       "      <td>7886</td>\n",
       "      <td>1.625521e+09</td>\n",
       "      <td>959a0a03</td>\n",
       "      <td>85</td>\n",
       "      <td>1.625521e+09</td>\n",
       "      <td>5</td>\n",
       "    </tr>\n",
       "    <tr>\n",
       "      <th>2021-07-05 21:40:20.276000+00:00</th>\n",
       "      <td>1</td>\n",
       "      <td>0</td>\n",
       "      <td>1.625521e+09</td>\n",
       "      <td>0</td>\n",
       "      <td>MTHexapod:1</td>\n",
       "      <td>1.625521e+09</td>\n",
       "      <td>7886</td>\n",
       "      <td>1.625521e+09</td>\n",
       "      <td>959a0a03</td>\n",
       "      <td>86</td>\n",
       "      <td>1.625521e+09</td>\n",
       "      <td>1</td>\n",
       "    </tr>\n",
       "    <tr>\n",
       "      <th>2021-07-05 21:40:21.227000+00:00</th>\n",
       "      <td>1</td>\n",
       "      <td>0</td>\n",
       "      <td>1.625521e+09</td>\n",
       "      <td>0</td>\n",
       "      <td>MTHexapod:1</td>\n",
       "      <td>1.625521e+09</td>\n",
       "      <td>7886</td>\n",
       "      <td>1.625521e+09</td>\n",
       "      <td>959a0a03</td>\n",
       "      <td>87</td>\n",
       "      <td>1.625521e+09</td>\n",
       "      <td>2</td>\n",
       "    </tr>\n",
       "    <tr>\n",
       "      <th>2021-07-05 21:59:50.791000+00:00</th>\n",
       "      <td>1</td>\n",
       "      <td>0</td>\n",
       "      <td>1.625522e+09</td>\n",
       "      <td>0</td>\n",
       "      <td>MTHexapod:1</td>\n",
       "      <td>1.625522e+09</td>\n",
       "      <td>7886</td>\n",
       "      <td>1.625522e+09</td>\n",
       "      <td>959a0a03</td>\n",
       "      <td>88</td>\n",
       "      <td>1.625522e+09</td>\n",
       "      <td>1</td>\n",
       "    </tr>\n",
       "    <tr>\n",
       "      <th>2021-07-05 21:59:50.921000+00:00</th>\n",
       "      <td>1</td>\n",
       "      <td>0</td>\n",
       "      <td>1.625522e+09</td>\n",
       "      <td>0</td>\n",
       "      <td>MTHexapod:1</td>\n",
       "      <td>1.625522e+09</td>\n",
       "      <td>7886</td>\n",
       "      <td>1.625522e+09</td>\n",
       "      <td>959a0a03</td>\n",
       "      <td>89</td>\n",
       "      <td>1.625522e+09</td>\n",
       "      <td>5</td>\n",
       "    </tr>\n",
       "    <tr>\n",
       "      <th>2021-07-05 21:59:51.011000+00:00</th>\n",
       "      <td>1</td>\n",
       "      <td>0</td>\n",
       "      <td>1.625522e+09</td>\n",
       "      <td>0</td>\n",
       "      <td>MTHexapod:1</td>\n",
       "      <td>1.625522e+09</td>\n",
       "      <td>7886</td>\n",
       "      <td>1.625522e+09</td>\n",
       "      <td>959a0a03</td>\n",
       "      <td>90</td>\n",
       "      <td>1.625522e+09</td>\n",
       "      <td>1</td>\n",
       "    </tr>\n",
       "    <tr>\n",
       "      <th>2021-07-05 21:59:51.061000+00:00</th>\n",
       "      <td>1</td>\n",
       "      <td>0</td>\n",
       "      <td>1.625522e+09</td>\n",
       "      <td>0</td>\n",
       "      <td>MTHexapod:1</td>\n",
       "      <td>1.625522e+09</td>\n",
       "      <td>7886</td>\n",
       "      <td>1.625522e+09</td>\n",
       "      <td>959a0a03</td>\n",
       "      <td>91</td>\n",
       "      <td>1.625522e+09</td>\n",
       "      <td>2</td>\n",
       "    </tr>\n",
       "    <tr>\n",
       "      <th>2021-07-05 22:08:38.469000+00:00</th>\n",
       "      <td>1</td>\n",
       "      <td>0</td>\n",
       "      <td>1.625523e+09</td>\n",
       "      <td>0</td>\n",
       "      <td>MTHexapod:1</td>\n",
       "      <td>1.625523e+09</td>\n",
       "      <td>7886</td>\n",
       "      <td>1.625523e+09</td>\n",
       "      <td>959a0a03</td>\n",
       "      <td>92</td>\n",
       "      <td>1.625523e+09</td>\n",
       "      <td>1</td>\n",
       "    </tr>\n",
       "    <tr>\n",
       "      <th>2021-07-05 22:08:43.874000+00:00</th>\n",
       "      <td>1</td>\n",
       "      <td>0</td>\n",
       "      <td>1.625523e+09</td>\n",
       "      <td>0</td>\n",
       "      <td>MTHexapod:1</td>\n",
       "      <td>1.625523e+09</td>\n",
       "      <td>7886</td>\n",
       "      <td>1.625523e+09</td>\n",
       "      <td>959a0a03</td>\n",
       "      <td>93</td>\n",
       "      <td>1.625523e+09</td>\n",
       "      <td>5</td>\n",
       "    </tr>\n",
       "    <tr>\n",
       "      <th>2021-07-05 22:08:44.455000+00:00</th>\n",
       "      <td>1</td>\n",
       "      <td>0</td>\n",
       "      <td>1.625523e+09</td>\n",
       "      <td>0</td>\n",
       "      <td>MTHexapod:1</td>\n",
       "      <td>1.625523e+09</td>\n",
       "      <td>7886</td>\n",
       "      <td>1.625523e+09</td>\n",
       "      <td>959a0a03</td>\n",
       "      <td>94</td>\n",
       "      <td>1.625523e+09</td>\n",
       "      <td>1</td>\n",
       "    </tr>\n",
       "    <tr>\n",
       "      <th>2021-07-05 22:08:45.666000+00:00</th>\n",
       "      <td>1</td>\n",
       "      <td>0</td>\n",
       "      <td>1.625523e+09</td>\n",
       "      <td>0</td>\n",
       "      <td>MTHexapod:1</td>\n",
       "      <td>1.625523e+09</td>\n",
       "      <td>7886</td>\n",
       "      <td>1.625523e+09</td>\n",
       "      <td>959a0a03</td>\n",
       "      <td>95</td>\n",
       "      <td>1.625523e+09</td>\n",
       "      <td>2</td>\n",
       "    </tr>\n",
       "  </tbody>\n",
       "</table>\n",
       "</div>"
      ],
      "text/plain": [
       "                                  MTHexapodID  priority  private_efdStamp  \\\n",
       "2021-07-05 18:54:02.062000+00:00            1         0      1.625511e+09   \n",
       "2021-07-05 21:08:41.175000+00:00            1         0      1.625519e+09   \n",
       "2021-07-05 21:08:55.299000+00:00            1         0      1.625519e+09   \n",
       "2021-07-05 21:08:58.313000+00:00            1         0      1.625519e+09   \n",
       "2021-07-05 21:09:03.088000+00:00            1         0      1.625519e+09   \n",
       "2021-07-05 21:09:54.339000+00:00            1         0      1.625519e+09   \n",
       "2021-07-05 21:10:03.108000+00:00            1         0      1.625519e+09   \n",
       "2021-07-05 21:10:22.327000+00:00            1         0      1.625519e+09   \n",
       "2021-07-05 21:10:27.813000+00:00            1         0      1.625519e+09   \n",
       "2021-07-05 21:10:32.498000+00:00            1         0      1.625519e+09   \n",
       "2021-07-05 21:10:37.763000+00:00            1         0      1.625519e+09   \n",
       "2021-07-05 21:40:01.516000+00:00            1         0      1.625521e+09   \n",
       "2021-07-05 21:40:19.194000+00:00            1         0      1.625521e+09   \n",
       "2021-07-05 21:40:20.276000+00:00            1         0      1.625521e+09   \n",
       "2021-07-05 21:40:21.227000+00:00            1         0      1.625521e+09   \n",
       "2021-07-05 21:59:50.791000+00:00            1         0      1.625522e+09   \n",
       "2021-07-05 21:59:50.921000+00:00            1         0      1.625522e+09   \n",
       "2021-07-05 21:59:51.011000+00:00            1         0      1.625522e+09   \n",
       "2021-07-05 21:59:51.061000+00:00            1         0      1.625522e+09   \n",
       "2021-07-05 22:08:38.469000+00:00            1         0      1.625523e+09   \n",
       "2021-07-05 22:08:43.874000+00:00            1         0      1.625523e+09   \n",
       "2021-07-05 22:08:44.455000+00:00            1         0      1.625523e+09   \n",
       "2021-07-05 22:08:45.666000+00:00            1         0      1.625523e+09   \n",
       "\n",
       "                                  private_host private_identity  \\\n",
       "2021-07-05 18:54:02.062000+00:00             0      MTHexapod:1   \n",
       "2021-07-05 21:08:41.175000+00:00             0      MTHexapod:1   \n",
       "2021-07-05 21:08:55.299000+00:00             0      MTHexapod:1   \n",
       "2021-07-05 21:08:58.313000+00:00             0      MTHexapod:1   \n",
       "2021-07-05 21:09:03.088000+00:00             0      MTHexapod:1   \n",
       "2021-07-05 21:09:54.339000+00:00             0      MTHexapod:1   \n",
       "2021-07-05 21:10:03.108000+00:00             0      MTHexapod:1   \n",
       "2021-07-05 21:10:22.327000+00:00             0      MTHexapod:1   \n",
       "2021-07-05 21:10:27.813000+00:00             0      MTHexapod:1   \n",
       "2021-07-05 21:10:32.498000+00:00             0      MTHexapod:1   \n",
       "2021-07-05 21:10:37.763000+00:00             0      MTHexapod:1   \n",
       "2021-07-05 21:40:01.516000+00:00             0      MTHexapod:1   \n",
       "2021-07-05 21:40:19.194000+00:00             0      MTHexapod:1   \n",
       "2021-07-05 21:40:20.276000+00:00             0      MTHexapod:1   \n",
       "2021-07-05 21:40:21.227000+00:00             0      MTHexapod:1   \n",
       "2021-07-05 21:59:50.791000+00:00             0      MTHexapod:1   \n",
       "2021-07-05 21:59:50.921000+00:00             0      MTHexapod:1   \n",
       "2021-07-05 21:59:51.011000+00:00             0      MTHexapod:1   \n",
       "2021-07-05 21:59:51.061000+00:00             0      MTHexapod:1   \n",
       "2021-07-05 22:08:38.469000+00:00             0      MTHexapod:1   \n",
       "2021-07-05 22:08:43.874000+00:00             0      MTHexapod:1   \n",
       "2021-07-05 22:08:44.455000+00:00             0      MTHexapod:1   \n",
       "2021-07-05 22:08:45.666000+00:00             0      MTHexapod:1   \n",
       "\n",
       "                                  private_kafkaStamp  private_origin  \\\n",
       "2021-07-05 18:54:02.062000+00:00        1.625511e+09            7886   \n",
       "2021-07-05 21:08:41.175000+00:00        1.625519e+09            7886   \n",
       "2021-07-05 21:08:55.299000+00:00        1.625519e+09            7886   \n",
       "2021-07-05 21:08:58.313000+00:00        1.625519e+09            7886   \n",
       "2021-07-05 21:09:03.088000+00:00        1.625519e+09            7886   \n",
       "2021-07-05 21:09:54.339000+00:00        1.625519e+09            7886   \n",
       "2021-07-05 21:10:03.108000+00:00        1.625519e+09            7886   \n",
       "2021-07-05 21:10:22.327000+00:00        1.625519e+09            7886   \n",
       "2021-07-05 21:10:27.813000+00:00        1.625519e+09            7886   \n",
       "2021-07-05 21:10:32.498000+00:00        1.625519e+09            7886   \n",
       "2021-07-05 21:10:37.763000+00:00        1.625519e+09            7886   \n",
       "2021-07-05 21:40:01.516000+00:00        1.625521e+09            7886   \n",
       "2021-07-05 21:40:19.194000+00:00        1.625521e+09            7886   \n",
       "2021-07-05 21:40:20.276000+00:00        1.625521e+09            7886   \n",
       "2021-07-05 21:40:21.227000+00:00        1.625521e+09            7886   \n",
       "2021-07-05 21:59:50.791000+00:00        1.625522e+09            7886   \n",
       "2021-07-05 21:59:50.921000+00:00        1.625522e+09            7886   \n",
       "2021-07-05 21:59:51.011000+00:00        1.625522e+09            7886   \n",
       "2021-07-05 21:59:51.061000+00:00        1.625522e+09            7886   \n",
       "2021-07-05 22:08:38.469000+00:00        1.625523e+09            7886   \n",
       "2021-07-05 22:08:43.874000+00:00        1.625523e+09            7886   \n",
       "2021-07-05 22:08:44.455000+00:00        1.625523e+09            7886   \n",
       "2021-07-05 22:08:45.666000+00:00        1.625523e+09            7886   \n",
       "\n",
       "                                  private_rcvStamp private_revCode  \\\n",
       "2021-07-05 18:54:02.062000+00:00      1.625511e+09        959a0a03   \n",
       "2021-07-05 21:08:41.175000+00:00      1.625519e+09        959a0a03   \n",
       "2021-07-05 21:08:55.299000+00:00      1.625519e+09        959a0a03   \n",
       "2021-07-05 21:08:58.313000+00:00      1.625519e+09        959a0a03   \n",
       "2021-07-05 21:09:03.088000+00:00      1.625519e+09        959a0a03   \n",
       "2021-07-05 21:09:54.339000+00:00      1.625519e+09        959a0a03   \n",
       "2021-07-05 21:10:03.108000+00:00      1.625519e+09        959a0a03   \n",
       "2021-07-05 21:10:22.327000+00:00      1.625519e+09        959a0a03   \n",
       "2021-07-05 21:10:27.813000+00:00      1.625519e+09        959a0a03   \n",
       "2021-07-05 21:10:32.498000+00:00      1.625519e+09        959a0a03   \n",
       "2021-07-05 21:10:37.763000+00:00      1.625519e+09        959a0a03   \n",
       "2021-07-05 21:40:01.516000+00:00      1.625521e+09        959a0a03   \n",
       "2021-07-05 21:40:19.194000+00:00      1.625521e+09        959a0a03   \n",
       "2021-07-05 21:40:20.276000+00:00      1.625521e+09        959a0a03   \n",
       "2021-07-05 21:40:21.227000+00:00      1.625521e+09        959a0a03   \n",
       "2021-07-05 21:59:50.791000+00:00      1.625522e+09        959a0a03   \n",
       "2021-07-05 21:59:50.921000+00:00      1.625522e+09        959a0a03   \n",
       "2021-07-05 21:59:51.011000+00:00      1.625522e+09        959a0a03   \n",
       "2021-07-05 21:59:51.061000+00:00      1.625522e+09        959a0a03   \n",
       "2021-07-05 22:08:38.469000+00:00      1.625523e+09        959a0a03   \n",
       "2021-07-05 22:08:43.874000+00:00      1.625523e+09        959a0a03   \n",
       "2021-07-05 22:08:44.455000+00:00      1.625523e+09        959a0a03   \n",
       "2021-07-05 22:08:45.666000+00:00      1.625523e+09        959a0a03   \n",
       "\n",
       "                                  private_seqNum  private_sndStamp  \\\n",
       "2021-07-05 18:54:02.062000+00:00              73      1.625511e+09   \n",
       "2021-07-05 21:08:41.175000+00:00              74      1.625519e+09   \n",
       "2021-07-05 21:08:55.299000+00:00              75      1.625519e+09   \n",
       "2021-07-05 21:08:58.313000+00:00              76      1.625519e+09   \n",
       "2021-07-05 21:09:03.088000+00:00              77      1.625519e+09   \n",
       "2021-07-05 21:09:54.339000+00:00              78      1.625519e+09   \n",
       "2021-07-05 21:10:03.108000+00:00              79      1.625519e+09   \n",
       "2021-07-05 21:10:22.327000+00:00              80      1.625519e+09   \n",
       "2021-07-05 21:10:27.813000+00:00              81      1.625519e+09   \n",
       "2021-07-05 21:10:32.498000+00:00              82      1.625519e+09   \n",
       "2021-07-05 21:10:37.763000+00:00              83      1.625519e+09   \n",
       "2021-07-05 21:40:01.516000+00:00              84      1.625521e+09   \n",
       "2021-07-05 21:40:19.194000+00:00              85      1.625521e+09   \n",
       "2021-07-05 21:40:20.276000+00:00              86      1.625521e+09   \n",
       "2021-07-05 21:40:21.227000+00:00              87      1.625521e+09   \n",
       "2021-07-05 21:59:50.791000+00:00              88      1.625522e+09   \n",
       "2021-07-05 21:59:50.921000+00:00              89      1.625522e+09   \n",
       "2021-07-05 21:59:51.011000+00:00              90      1.625522e+09   \n",
       "2021-07-05 21:59:51.061000+00:00              91      1.625522e+09   \n",
       "2021-07-05 22:08:38.469000+00:00              92      1.625523e+09   \n",
       "2021-07-05 22:08:43.874000+00:00              93      1.625523e+09   \n",
       "2021-07-05 22:08:44.455000+00:00              94      1.625523e+09   \n",
       "2021-07-05 22:08:45.666000+00:00              95      1.625523e+09   \n",
       "\n",
       "                                  summaryState  \n",
       "2021-07-05 18:54:02.062000+00:00             3  \n",
       "2021-07-05 21:08:41.175000+00:00             4  \n",
       "2021-07-05 21:08:55.299000+00:00             5  \n",
       "2021-07-05 21:08:58.313000+00:00             1  \n",
       "2021-07-05 21:09:03.088000+00:00             2  \n",
       "2021-07-05 21:09:54.339000+00:00             1  \n",
       "2021-07-05 21:10:03.108000+00:00             5  \n",
       "2021-07-05 21:10:22.327000+00:00             1  \n",
       "2021-07-05 21:10:27.813000+00:00             5  \n",
       "2021-07-05 21:10:32.498000+00:00             1  \n",
       "2021-07-05 21:10:37.763000+00:00             2  \n",
       "2021-07-05 21:40:01.516000+00:00             1  \n",
       "2021-07-05 21:40:19.194000+00:00             5  \n",
       "2021-07-05 21:40:20.276000+00:00             1  \n",
       "2021-07-05 21:40:21.227000+00:00             2  \n",
       "2021-07-05 21:59:50.791000+00:00             1  \n",
       "2021-07-05 21:59:50.921000+00:00             5  \n",
       "2021-07-05 21:59:51.011000+00:00             1  \n",
       "2021-07-05 21:59:51.061000+00:00             2  \n",
       "2021-07-05 22:08:38.469000+00:00             1  \n",
       "2021-07-05 22:08:43.874000+00:00             5  \n",
       "2021-07-05 22:08:44.455000+00:00             1  \n",
       "2021-07-05 22:08:45.666000+00:00             2  "
      ]
     },
     "execution_count": 26,
     "metadata": {},
     "output_type": "execute_result"
    }
   ],
   "source": [
    "dfe"
   ]
  },
  {
   "cell_type": "markdown",
   "metadata": {},
   "source": [
    "# Check the move behavior when LUT is disabled."
   ]
  },
  {
   "cell_type": "code",
   "execution_count": 82,
   "metadata": {},
   "outputs": [
    {
     "name": "stdout",
     "output_type": "stream",
     "text": [
      "compsensation mode enabled? True\n"
     ]
    }
   ],
   "source": [
    "lutMode = await mthex.evt_compensationMode.aget(timeout=10)\n",
    "print(\"compsensation mode enabled?\",lutMode.enabled)"
   ]
  },
  {
   "cell_type": "code",
   "execution_count": 83,
   "metadata": {},
   "outputs": [
    {
     "name": "stdout",
     "output_type": "stream",
     "text": [
      "Current Hexapod position\n",
      "     -0.25      -0.58      -0.18      -0.00       0.00      -0.00\n"
     ]
    }
   ],
   "source": [
    "async def printPosition(hex):\n",
    "    pos = await mthex.tel_application.next(flush=True, timeout=10.)\n",
    "    print(\"Current Hexapod position\")\n",
    "    print(\" \".join(f\"{p:10.2f}\" for p in pos.position))\n",
    "await printPosition(hex)"
   ]
  },
  {
   "cell_type": "code",
   "execution_count": 84,
   "metadata": {},
   "outputs": [],
   "source": [
    "test_message = \"Camera Hexapod Integration Test\""
   ]
  },
  {
   "cell_type": "code",
   "execution_count": 85,
   "metadata": {},
   "outputs": [
    {
     "name": "stderr",
     "output_type": "stream",
     "text": [
      "INFO:Script:START- Camera Hexapod Integration Test -- LVV-T1600 -- Move to Zero- Starting time: 2021-07-05 22:36:08.344298 UTC\n"
     ]
    },
    {
     "data": {
      "text/plain": [
       "<ddsutil.MTHexapod_ackcmd_da0a635d at 0x7fdef1b22160>"
      ]
     },
     "execution_count": 85,
     "metadata": {},
     "output_type": "execute_result"
    }
   ],
   "source": [
    "#This command is to set the Hexapod to zero position\n",
    "now = datetime.now()\n",
    "script.log.info(f\"START- {test_message} -- LVV-T1600 -- Move to Zero- Starting time: {now} UTC\")\n",
    "await mthex.cmd_move.set_start(x=0,y=0,z=0, u=0,v=0,w=0,sync=True)"
   ]
  },
  {
   "cell_type": "code",
   "execution_count": 31,
   "metadata": {},
   "outputs": [
    {
     "data": {
      "text/plain": [
       "<ddsutil.MTHexapod_ackcmd_da0a635d at 0x7fdef11f4c70>"
      ]
     },
     "execution_count": 31,
     "metadata": {},
     "output_type": "execute_result"
    }
   ],
   "source": [
    "#To stop the Hexapod\n",
    "await mthex.cmd_stop.set_start()"
   ]
  },
  {
   "cell_type": "markdown",
   "metadata": {},
   "source": [
    "If you want to observe the motions in chronograf, consider using \"AND MTHexapodID={hexId}\" to filter out telemetry from the other hexapod"
   ]
  },
  {
   "cell_type": "code",
   "execution_count": 34,
   "metadata": {},
   "outputs": [
    {
     "name": "stdout",
     "output_type": "stream",
     "text": [
      "hex in position? False 2021-07-05 22:11:41.156809984\n",
      "hex in position? True 2021-07-05 22:11:43.679096576\n",
      "hex in position? False 2021-07-05 22:11:43.859335424\n",
      "hex in position? True 2021-07-05 22:11:45.300885504\n",
      "hex in position? False 2021-07-05 22:11:45.481185024\n",
      "hex in position? True 2021-07-05 22:11:46.962600704\n",
      "hex in position? False 2021-07-05 22:11:47.102935552\n",
      "hex in position? True 2021-07-05 22:11:48.633995520\n",
      "hex in position? False 2021-07-05 22:11:48.814097152\n",
      "hex in position? True 2021-07-05 22:11:50.296137216\n",
      "hex in position? False 2021-07-05 22:11:50.477005568\n",
      "hex in position? True 2021-07-05 22:11:51.957536768\n"
     ]
    }
   ],
   "source": [
    "now = datetime.now()\n",
    "script.log.info(f\"START- {test_message} -- LVV-T1600 Compensation mode test Step 17- Starting time: {now} UTC\")\n",
    "mthex.evt_inPosition.flush()\n",
    "for step in range(5,-1,-1):\n",
    "    await mthex.cmd_move.set_start(x=0,y=0,z=100*step, u=0,v=0,w=0,sync=True)\n",
    "    while True:\n",
    "        state = await mthex.evt_inPosition.next(flush=False, timeout=10)\n",
    "        print(\"hex in position?\",state.inPosition, pd.to_datetime(state.private_sndStamp, unit='s'))\n",
    "        if state.inPosition:\n",
    "            break    "
   ]
  },
  {
   "cell_type": "code",
   "execution_count": 48,
   "metadata": {},
   "outputs": [
    {
     "name": "stdout",
     "output_type": "stream",
     "text": [
      "Current Hexapod position\n",
      "     -0.32      -0.51      -0.19      -0.00       0.00      -0.00\n"
     ]
    }
   ],
   "source": [
    "await printPosition(hex)"
   ]
  },
  {
   "cell_type": "code",
   "execution_count": 79,
   "metadata": {},
   "outputs": [
    {
     "name": "stdout",
     "output_type": "stream",
     "text": [
      "hex in position? False 2021-07-05 22:35:40.975931648\n",
      "hex in position? True 2021-07-05 22:35:42.466839808\n",
      "Current Hexapod position\n",
      "      0.27       0.36     100.37       0.00      -0.00       0.00\n",
      "hex in position? False 2021-07-05 22:35:42.686994432\n",
      "hex in position? True 2021-07-05 22:35:44.538967552\n",
      "Current Hexapod position\n",
      "      0.19      -0.08     300.32       0.00      -0.00       0.00\n",
      "hex in position? False 2021-07-05 22:35:44.719019264\n",
      "hex in position? True 2021-07-05 22:35:46.831439872\n",
      "Current Hexapod position\n",
      "      0.38      -0.57     600.31      -0.00      -0.00      -0.00\n",
      "hex in position? False 2021-07-05 22:35:47.011743232\n",
      "hex in position? True 2021-07-05 22:35:49.123595776\n",
      "Current Hexapod position\n",
      "     -0.75      -0.54     299.77      -0.00       0.00      -0.00\n",
      "hex in position? False 2021-07-05 22:35:49.393869568\n",
      "hex in position? True 2021-07-05 22:35:51.196079616\n",
      "Current Hexapod position\n",
      "     -0.23      -0.64      99.72      -0.00       0.00      -0.00\n",
      "hex in position? False 2021-07-05 22:35:51.416181248\n",
      "hex in position? True 2021-07-05 22:35:52.907753728\n",
      "Current Hexapod position\n",
      "     -0.33      -0.61      -0.23      -0.00       0.00      -0.00\n"
     ]
    }
   ],
   "source": [
    "mthex.evt_inPosition.flush()\n",
    "for step in [1,2,3,-3,-2,-1]:\n",
    "    #according to XML, units are micron and degree\n",
    "    await mthex.cmd_offset.set_start(x=0,y=0,z=100*step, u=0,v=0,w=0,sync=True)\n",
    "    while True:\n",
    "        state = await mthex.evt_inPosition.next(flush=False, timeout=10)\n",
    "        print(\"hex in position?\",state.inPosition, pd.to_datetime(state.private_sndStamp, unit='s'))\n",
    "        if state.inPosition:\n",
    "            break\n",
    "     \n",
    "    await printPosition(mthex)\n",
    "    \n",
    "    end = Time(datetime.now(), scale='tai')"
   ]
  },
  {
   "cell_type": "code",
   "execution_count": 80,
   "metadata": {},
   "outputs": [],
   "source": [
    "start = end - timedelta(seconds=120)\n",
    "df = await client.select_time_series('lsst.sal.MTHexapod.application', '*', start, end, csc_index)\n",
    "idx=df.MTHexapodID==1\n",
    "df = df[idx]"
   ]
  },
  {
   "cell_type": "code",
   "execution_count": 81,
   "metadata": {},
   "outputs": [
    {
     "data": {
      "image/png": "[encoded data removed]",
      "text/plain": [
       "<Figure size 1368x216 with 1 Axes>"
      ]
     },
     "metadata": {
      "needs_background": "light"
     },
     "output_type": "display_data"
    }
   ],
   "source": [
    "fig, ax = plt.subplots(figsize=(19,3))\n",
    "plt.plot(df.position2)\n",
    "plt.grid()"
   ]
  },
  {
   "cell_type": "markdown",
   "metadata": {},
   "source": [
    "### When the LUT is enabled"
   ]
  },
  {
   "cell_type": "code",
   "execution_count": 57,
   "metadata": {},
   "outputs": [
    {
     "name": "stdout",
     "output_type": "stream",
     "text": [
      "compsensation mode enabled? True\n"
     ]
    }
   ],
   "source": [
    "await mthex.cmd_setCompensationMode.set_start(enable=1, timeout=10)\n",
    "lutMode = await mthex.evt_compensationMode.aget(timeout=10)\n",
    "print(\"compsensation mode enabled?\",lutMode.enabled)"
   ]
  },
  {
   "cell_type": "code",
   "execution_count": 56,
   "metadata": {},
   "outputs": [
    {
     "name": "stdout",
     "output_type": "stream",
     "text": [
      "compsensation mode enabled? False\n"
     ]
    }
   ],
   "source": [
    "#Switch compensation mode off:\n",
    "await mthex.cmd_setCompensationMode.set_start(enable=0, timeout=10)\n",
    "lutMode = await mthex.evt_compensationMode.aget(timeout=10)\n",
    "print(\"compsensation mode enabled?\",lutMode.enabled)"
   ]
  },
  {
   "cell_type": "code",
   "execution_count": 53,
   "metadata": {},
   "outputs": [
    {
     "name": "stdout",
     "output_type": "stream",
     "text": [
      "Current Hexapod position\n",
      "     -0.31      -0.51      -0.19      -0.00       0.00      -0.00\n"
     ]
    }
   ],
   "source": [
    "await printPosition(hex)"
   ]
  },
  {
   "cell_type": "code",
   "execution_count": 89,
   "metadata": {},
   "outputs": [
    {
     "name": "stdout",
     "output_type": "stream",
     "text": [
      "Uncompensated position\n",
      "      0.00       0.00       0.00       0.00       0.00       0.00\n",
      "2021-07-05 22:35:51.242197504\n",
      "Compensated position\n",
      "      0.00       0.00       0.00       0.00       0.00       0.00\n",
      "2021-07-05 22:35:51.242395904\n"
     ]
    }
   ],
   "source": [
    "async def printUncompensatedAndCompensated(hex):\n",
    "    posU = mthex.evt_uncompensatedPosition.get()\n",
    "    print('Uncompensated position')\n",
    "    print(\" \".join(f\"{p:10.2f}\" for p in [getattr(posU, i) for i in 'xyzuvw']))\n",
    "    print(pd.to_datetime(posU.private_sndStamp, unit='s'))\n",
    "    posC = mthex.evt_compensatedPosition.get()\n",
    "    print('Compensated position')\n",
    "    print(\" \".join(f\"{p:10.2f}\" for p in [getattr(posC, i) for i in 'xyzuvw']))\n",
    "    print(pd.to_datetime(posC.private_sndStamp, unit='s'))\n",
    "\n",
    "await printUncompensatedAndCompensated(hex)"
   ]
  },
  {
   "cell_type": "markdown",
   "metadata": {},
   "source": [
    "The inputs to the LUT are currently -\n",
    "* elevation (from mount telemetry) \n",
    "* temperature (mount truss? not implemented yet)\n",
    "* azimuth (not implemented)\n",
    "* rotator angle (not implemented)"
   ]
  },
  {
   "cell_type": "code",
   "execution_count": null,
   "metadata": {},
   "outputs": [],
   "source": [
    "#Mount needs to be prepared\n",
    "#await salobj.set_summary_state(mount, salobj.State.ENABLED)"
   ]
  },
  {
   "cell_type": "code",
   "execution_count": null,
   "metadata": {},
   "outputs": [],
   "source": [
    "#Only works when mount or mount simulator are active. Best on domain 1\n",
    "#mountAngle = await mount.tel_elevation.aget(timeout=10.)\n",
    "#print(\"mount elevation angle\", mountAngle.angleActual)\n",
    "#elev = mountAngle.angleActual"
   ]
  },
  {
   "cell_type": "code",
   "execution_count": null,
   "metadata": {},
   "outputs": [],
   "source": [
    "#To set the elevation for a controller\n",
    "#mount.evt_target.set_put(elevation=45)"
   ]
  },
  {
   "cell_type": "code",
   "execution_count": 62,
   "metadata": {},
   "outputs": [],
   "source": [
    "elevationFixed=80.0"
   ]
  },
  {
   "cell_type": "code",
   "execution_count": 60,
   "metadata": {},
   "outputs": [],
   "source": [
    "LUTfile = '%s/notebooks/ts_config_mttcs/MTHexapod/v1/default.yaml'%(os.environ[\"HOME\"])\n",
    "with open(LUTfile, 'r') as stream:\n",
    "    aa = yaml.safe_load(stream)\n",
    "if mthex.salinfo.index == 1:\n",
    "    elevCoeff = aa['camera_config']['elevation_coeffs']\n",
    "    tCoeff = aa['camera_config']['temperature_coeffs']\n",
    "elif mthex.salinfo.index == 2:\n",
    "    elevCoeff = aa['m2_config']['elevation_coeffs']\n",
    "    tCoeff = aa['m2_config']['temperature_coeffs']"
   ]
  },
  {
   "cell_type": "code",
   "execution_count": 63,
   "metadata": {},
   "outputs": [
    {
     "name": "stdout",
     "output_type": "stream",
     "text": [
      "Predicted LUT compensation:\n",
      "     -0.87    -423.42     283.37      -0.01       0.00       0.00\n",
      "Uncompensated position\n",
      "      0.00       0.00       0.00       0.00       0.00       0.00\n",
      "2021-07-05 22:12:22.654381312\n",
      "Compensated position\n",
      "      0.00       0.00       0.00       0.00       0.00       0.00\n",
      "2021-07-05 22:12:22.654571520\n"
     ]
    }
   ],
   "source": [
    "async def printPredictedComp(elevCoeff, elev):\n",
    "    '''\n",
    "    This function deals with the elevation component of the LUT only, for now.\n",
    "    We will add temperature, azimuth, and rotator angle when they are implemented.\n",
    "    '''\n",
    "    pred = []\n",
    "    print('Predicted LUT compensation:')\n",
    "    for i in range(6):\n",
    "        coeff = elevCoeff[i] #starts with C0\n",
    "        mypoly = np.polynomial.Polynomial(coeff)\n",
    "        #mypoly = np.poly1d(coeff[::-1]) #if you use poly1d, be aware: it needs C5 first\n",
    "        pred.append(mypoly(elev))\n",
    "    print(\" \".join(f\"{p:10.2f}\" for p in pred))\n",
    "await printPredictedComp(elevCoeff, elevationFixed)\n",
    "await printUncompensatedAndCompensated(hex)"
   ]
  },
  {
   "cell_type": "markdown",
   "metadata": {},
   "source": [
    "### Do a slew, then check the LUT again"
   ]
  },
  {
   "cell_type": "code",
   "execution_count": 65,
   "metadata": {},
   "outputs": [
    {
     "name": "stdout",
     "output_type": "stream",
     "text": [
      "Current elevation angle =  2021-07-05 22:09:06.692000+00:00    80\n",
      "2021-07-05 22:09:06.894000+00:00    80\n",
      "2021-07-05 22:09:07.095000+00:00    80\n",
      "2021-07-05 22:09:07.296000+00:00    80\n",
      "2021-07-05 22:09:07.498000+00:00    80\n",
      "                                    ..\n",
      "2021-07-05 22:14:12.807000+00:00    80\n",
      "2021-07-05 22:14:13.009000+00:00    80\n",
      "2021-07-05 22:14:13.210000+00:00    80\n",
      "2021-07-05 22:14:13.412000+00:00    80\n",
      "2021-07-05 22:14:13.613000+00:00    80\n",
      "Name: actualPosition, Length: 1525, dtype: int64\n"
     ]
    }
   ],
   "source": [
    "location = EarthLocation.from_geodetic(lon=-70.747698*u.deg,\n",
    "                                       lat=-30.244728*u.deg,\n",
    "                                       height=2663.0*u.m)\n",
    "print(\"Current elevation angle = \", elev)"
   ]
  },
  {
   "cell_type": "code",
   "execution_count": 66,
   "metadata": {},
   "outputs": [
    {
     "name": "stdout",
     "output_type": "stream",
     "text": [
      "Start to point the telescope 2021-07-05 22:28:30.873318\n"
     ]
    }
   ],
   "source": [
    "now = datetime.now()\n",
    "print(\"Start to point the telescope\", now)\n",
    "\n",
    "alt = 80. * u.deg\n",
    "az = 0. * u.deg\n",
    "rot_tel = Angle(0, unit= u.deg) "
   ]
  },
  {
   "cell_type": "code",
   "execution_count": 67,
   "metadata": {},
   "outputs": [
    {
     "name": "stdout",
     "output_type": "stream",
     "text": [
      "Time error=-0.00 sec\n",
      "59400.93696830643\n"
     ]
    }
   ],
   "source": [
    "target_name=\"TMA motion test\"\n",
    "time_data = await mtptg.tel_timeAndDate.next(flush=True, timeout=2)\n",
    "curr_time_ptg = Time(time_data.mjd, format=\"mjd\", scale=\"tai\")\n",
    "time_err = curr_time_ptg - Time.now()\n",
    "print(f\"Time error={time_err.sec:0.2f} sec\")\n",
    "\n",
    "print(curr_time_ptg.tai.value)\n",
    "\n",
    "cmd_elaz = AltAz(alt=alt, az=az, \n",
    "                obstime=curr_time_ptg.tai, \n",
    "                location=location)\n",
    "cmd_radec = cmd_elaz.transform_to(ICRS)\n",
    "# Calculating the other parameters     \n",
    "rot_pa = rot_tel"
   ]
  },
  {
   "cell_type": "code",
   "execution_count": 71,
   "metadata": {},
   "outputs": [
    {
     "name": "stdout",
     "output_type": "stream",
     "text": [
      " Now, Waiting 30s\n",
      "System Ready\n"
     ]
    }
   ],
   "source": [
    "#The pointing component is commanding the mount directly\n",
    "ack = await mtptg.cmd_raDecTarget.set_start(\n",
    "    targetName=target_name,\n",
    "    frame=MTPtg.CoordFrame.ICRS,\n",
    "    epoch=2000,  # should be ignored: no parallax or proper motion\n",
    "    equinox=2000,  # should be ignored for ICRS\n",
    "    ra=cmd_radec.ra.hour,\n",
    "    declination=cmd_radec.dec.deg,\n",
    "    parallax=0,\n",
    "    pmRA=0,\n",
    "    pmDec=0,\n",
    "    rv=0,\n",
    "    dRA=0,\n",
    "    dDec=0,\n",
    "    trackId=9999,\n",
    "    rotAngle=15.0,\n",
    "    rotStartFrame=MTPtg.RotFrame.FIXED,\n",
    "    rotTrackFrame=MTPtg.RotFrame.FIXED,\n",
    "    rotMode=MTPtg.RotMode.FIELD,\n",
    "    azWrapStrategy=2,\n",
    "    timeOnTarget=30,\n",
    "    timeout=10\n",
    ")\n",
    "\n",
    "print(\" Now, Waiting 30s\")\n",
    "await asyncio.sleep(30.)\n",
    "print(\"System Ready\")"
   ]
  },
  {
   "cell_type": "code",
   "execution_count": 73,
   "metadata": {},
   "outputs": [
    {
     "name": "stdout",
     "output_type": "stream",
     "text": [
      "Are we tracking? False False False\n"
     ]
    }
   ],
   "source": [
    "mountStatus = await mtm.evt_axesInPosition.aget(timeout=5.)\n",
    "rotStatus = await mtrot.evt_inPosition.aget(timeout=5.)\n",
    "print('Are we tracking?', mountStatus.elevation , mountStatus.azimuth , rotStatus.inPosition)"
   ]
  },
  {
   "cell_type": "code",
   "execution_count": 75,
   "metadata": {},
   "outputs": [
    {
     "ename": "AckError",
     "evalue": "msg='Command failed', ackcmd=(ackcmd private_seqNum=2073467007, ack=<SalRetCode.CMD_FAILED: -302>, error=6612, result='Rejected : command not allowed in current state')",
     "output_type": "error",
     "traceback": [
      "\u001b[0;31m---------------------------------------------------------------------------\u001b[0m",
      "\u001b[0;31mAckError\u001b[0m                                  Traceback (most recent call last)",
      "\u001b[0;32m<ipython-input-75-939004ec6fd8>\u001b[0m in \u001b[0;36m<module>\u001b[0;34m\u001b[0m\n\u001b[0;32m----> 1\u001b[0;31m \u001b[0;32mawait\u001b[0m \u001b[0mmtptg\u001b[0m\u001b[0;34m.\u001b[0m\u001b[0mcmd_stopTracking\u001b[0m\u001b[0;34m.\u001b[0m\u001b[0mset_start\u001b[0m\u001b[0;34m(\u001b[0m\u001b[0mtimeout\u001b[0m\u001b[0;34m=\u001b[0m\u001b[0;36m5.\u001b[0m\u001b[0;34m)\u001b[0m\u001b[0;34m\u001b[0m\u001b[0;34m\u001b[0m\u001b[0m\n\u001b[0m",
      "\u001b[0;32m/opt/lsst/software/stack/conda/miniconda3-py38_4.9.2/envs/lsst-scipipe-0.6.0/lib/python3.8/site-packages/lsst/ts/salobj/topics/remote_command.py\u001b[0m in \u001b[0;36mset_start\u001b[0;34m(self, timeout, wait_done, **kwargs)\u001b[0m\n\u001b[1;32m    392\u001b[0m         \"\"\"\n\u001b[1;32m    393\u001b[0m         \u001b[0mself\u001b[0m\u001b[0;34m.\u001b[0m\u001b[0mset\u001b[0m\u001b[0;34m(\u001b[0m\u001b[0;34m**\u001b[0m\u001b[0mkwargs\u001b[0m\u001b[0;34m)\u001b[0m\u001b[0;34m\u001b[0m\u001b[0;34m\u001b[0m\u001b[0m\n\u001b[0;32m--> 394\u001b[0;31m         \u001b[0;32mreturn\u001b[0m \u001b[0;32mawait\u001b[0m \u001b[0mself\u001b[0m\u001b[0;34m.\u001b[0m\u001b[0mstart\u001b[0m\u001b[0;34m(\u001b[0m\u001b[0mtimeout\u001b[0m\u001b[0;34m=\u001b[0m\u001b[0mtimeout\u001b[0m\u001b[0;34m,\u001b[0m \u001b[0mwait_done\u001b[0m\u001b[0;34m=\u001b[0m\u001b[0mwait_done\u001b[0m\u001b[0;34m)\u001b[0m\u001b[0;34m\u001b[0m\u001b[0;34m\u001b[0m\u001b[0m\n\u001b[0m\u001b[1;32m    395\u001b[0m \u001b[0;34m\u001b[0m\u001b[0m\n\u001b[1;32m    396\u001b[0m     \u001b[0;32masync\u001b[0m \u001b[0;32mdef\u001b[0m \u001b[0mstart\u001b[0m\u001b[0;34m(\u001b[0m\u001b[0mself\u001b[0m\u001b[0;34m,\u001b[0m \u001b[0mdata\u001b[0m\u001b[0;34m=\u001b[0m\u001b[0;32mNone\u001b[0m\u001b[0;34m,\u001b[0m \u001b[0mtimeout\u001b[0m\u001b[0;34m=\u001b[0m\u001b[0mDEFAULT_TIMEOUT\u001b[0m\u001b[0;34m,\u001b[0m \u001b[0mwait_done\u001b[0m\u001b[0;34m=\u001b[0m\u001b[0;32mTrue\u001b[0m\u001b[0;34m)\u001b[0m\u001b[0;34m:\u001b[0m\u001b[0;34m\u001b[0m\u001b[0;34m\u001b[0m\u001b[0m\n",
      "\u001b[0;32m/opt/lsst/software/stack/conda/miniconda3-py38_4.9.2/envs/lsst-scipipe-0.6.0/lib/python3.8/site-packages/lsst/ts/salobj/topics/remote_command.py\u001b[0m in \u001b[0;36mstart\u001b[0;34m(self, data, timeout, wait_done)\u001b[0m\n\u001b[1;32m    447\u001b[0m         )\n\u001b[1;32m    448\u001b[0m         \u001b[0mself\u001b[0m\u001b[0;34m.\u001b[0m\u001b[0msalinfo\u001b[0m\u001b[0;34m.\u001b[0m\u001b[0m_running_cmds\u001b[0m\u001b[0;34m[\u001b[0m\u001b[0mseq_num\u001b[0m\u001b[0;34m]\u001b[0m \u001b[0;34m=\u001b[0m \u001b[0mcmd_info\u001b[0m\u001b[0;34m\u001b[0m\u001b[0;34m\u001b[0m\u001b[0m\n\u001b[0;32m--> 449\u001b[0;31m         \u001b[0;32mreturn\u001b[0m \u001b[0;32mawait\u001b[0m \u001b[0mcmd_info\u001b[0m\u001b[0;34m.\u001b[0m\u001b[0mnext_ackcmd\u001b[0m\u001b[0;34m(\u001b[0m\u001b[0mtimeout\u001b[0m\u001b[0;34m=\u001b[0m\u001b[0mtimeout\u001b[0m\u001b[0;34m)\u001b[0m\u001b[0;34m\u001b[0m\u001b[0;34m\u001b[0m\u001b[0m\n\u001b[0m",
      "\u001b[0;32m/opt/lsst/software/stack/conda/miniconda3-py38_4.9.2/envs/lsst-scipipe-0.6.0/lib/python3.8/site-packages/lsst/ts/salobj/topics/remote_command.py\u001b[0m in \u001b[0;36mnext_ackcmd\u001b[0;34m(self, timeout)\u001b[0m\n\u001b[1;32m    180\u001b[0m             \u001b[0mackcmd\u001b[0m \u001b[0;34m=\u001b[0m \u001b[0;32mawait\u001b[0m \u001b[0mself\u001b[0m\u001b[0;34m.\u001b[0m\u001b[0m_wait_task\u001b[0m\u001b[0;34m\u001b[0m\u001b[0;34m\u001b[0m\u001b[0m\n\u001b[1;32m    181\u001b[0m             \u001b[0;32mif\u001b[0m \u001b[0mackcmd\u001b[0m\u001b[0;34m.\u001b[0m\u001b[0mack\u001b[0m \u001b[0;32min\u001b[0m \u001b[0mself\u001b[0m\u001b[0;34m.\u001b[0m\u001b[0mfailed_ack_codes\u001b[0m\u001b[0;34m:\u001b[0m\u001b[0;34m\u001b[0m\u001b[0;34m\u001b[0m\u001b[0m\n\u001b[0;32m--> 182\u001b[0;31m                 \u001b[0;32mraise\u001b[0m \u001b[0mbase\u001b[0m\u001b[0;34m.\u001b[0m\u001b[0mAckError\u001b[0m\u001b[0;34m(\u001b[0m\u001b[0mmsg\u001b[0m\u001b[0;34m=\u001b[0m\u001b[0;34m\"Command failed\"\u001b[0m\u001b[0;34m,\u001b[0m \u001b[0mackcmd\u001b[0m\u001b[0;34m=\u001b[0m\u001b[0mackcmd\u001b[0m\u001b[0;34m)\u001b[0m\u001b[0;34m\u001b[0m\u001b[0;34m\u001b[0m\u001b[0m\n\u001b[0m\u001b[1;32m    183\u001b[0m             \u001b[0;32mreturn\u001b[0m \u001b[0mackcmd\u001b[0m\u001b[0;34m\u001b[0m\u001b[0;34m\u001b[0m\u001b[0m\n\u001b[1;32m    184\u001b[0m         \u001b[0;32mexcept\u001b[0m \u001b[0masyncio\u001b[0m\u001b[0;34m.\u001b[0m\u001b[0mTimeoutError\u001b[0m\u001b[0;34m:\u001b[0m\u001b[0;34m\u001b[0m\u001b[0;34m\u001b[0m\u001b[0m\n",
      "\u001b[0;31mAckError\u001b[0m: msg='Command failed', ackcmd=(ackcmd private_seqNum=2073467007, ack=<SalRetCode.CMD_FAILED: -302>, error=6612, result='Rejected : command not allowed in current state')"
     ]
    }
   ],
   "source": [
    "await mtptg.cmd_stopTracking.set_start(timeout=5.)"
   ]
  },
  {
   "cell_type": "markdown",
   "metadata": {},
   "source": [
    "### check angle and LUT after the slew"
   ]
  },
  {
   "cell_type": "code",
   "execution_count": null,
   "metadata": {},
   "outputs": [],
   "source": [
    "mountAngle = await mount.tel_elevation.aget(timeout=10.)\n",
    "print(\"mount elevation angle\", mountAngle.actualPosition)\n",
    "elev = mountAngle.actualPosition"
   ]
  },
  {
   "cell_type": "code",
   "execution_count": null,
   "metadata": {},
   "outputs": [],
   "source": [
    "await printPosition(hex)\n",
    "await printUncompensatedAndCompensated(hex)\n",
    "await printPredictedComp(elevCoeff, elev)"
   ]
  },
  {
   "cell_type": "markdown",
   "metadata": {},
   "source": [
    "### Check if the telescope is in tracking mode. If yes, need to stop stacking. \n",
    "The alternative is to check \"MT Mount status\" dash board on Chronograf. Make sure there are three \"False\"."
   ]
  },
  {
   "cell_type": "code",
   "execution_count": null,
   "metadata": {},
   "outputs": [],
   "source": [
    "mountStatus = await mount.evt_axesInPosition.aget(timeout=5.)\n",
    "rotStatus = await rot.evt_inPosition.aget(timeout=5.)\n",
    "trackingStatus = mountStatus.elevation and mountStatus.azimuth and rotStatus.inPosition\n",
    "print('Are we tracking?', trackingStatus)"
   ]
  },
  {
   "cell_type": "code",
   "execution_count": null,
   "metadata": {},
   "outputs": [],
   "source": [
    "await ptg.cmd_stopTracking.set_start(timeout=5.)"
   ]
  },
  {
   "cell_type": "code",
   "execution_count": null,
   "metadata": {},
   "outputs": [],
   "source": [
    "#Stop the MTMount controller\n",
    "await mount.close()"
   ]
  },
  {
   "cell_type": "code",
   "execution_count": null,
   "metadata": {},
   "outputs": [],
   "source": []
  }
 ],
 "metadata": {
  "kernelspec": {
   "display_name": "LSST",
   "language": "python",
   "name": "lsst"
  },
  "language_info": {
   "codemirror_mode": {
    "name": "ipython",
    "version": 3
   },
   "file_extension": ".py",
   "mimetype": "text/x-python",
   "name": "python",
   "nbconvert_exporter": "python",
   "pygments_lexer": "ipython3",
   "version": "3.8.8"
  }
 },
 "nbformat": 4,
 "nbformat_minor": 4
}
