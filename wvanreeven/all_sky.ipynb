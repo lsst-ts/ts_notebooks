{
 "cells": [
  {
   "cell_type": "code",
   "execution_count": null,
   "metadata": {},
   "outputs": [],
   "source": [
    "from lsst.ts import salobj\n",
    "domain = salobj.Domain()\n",
    "all_sky = salobj.Remote(domain=domain, name=\"GenericCamera\", index=1)\n",
    "print(dir(all_sky))\n",
    "await all_sky.start_task\n",
    "print(await all_sky.evt_heartbeat.next(flush=True, timeout=5))\n",
    "all_sky.cmd_start.set(settingsToApply=\"all_fields\")\n",
    "await all_sky.cmd_start.set_start(timeout=20)\n",
    "await salobj.set_summary_state(remote=all_sky, state=salobj.State.ENABLED)"
   ]
  },
  {
   "cell_type": "code",
   "execution_count": null,
   "metadata": {},
   "outputs": [],
   "source": [
    "await all_sky.cmd_takeImages.set_start(numImages=1, expTime=1.0, shutter=True, science=True, guide=False, wfs=False, imageSequenceName=\"test\")\n",
    "endReadout = await all_sky.evt_endReadout.next(flush=False, timeout=20)\n",
    "print(endReadout)"
   ]
  },
  {
   "cell_type": "code",
   "execution_count": null,
   "metadata": {},
   "outputs": [],
   "source": [
    "await salobj.set_summary_state(remote=all_sky, state=salobj.State.DISABLED)"
   ]
  },
  {
   "cell_type": "code",
   "execution_count": null,
   "metadata": {},
   "outputs": [],
   "source": [
    "await salobj.set_summary_state(remote=all_sky, state=salobj.State.STANDBY)"
   ]
  },
  {
   "cell_type": "code",
   "execution_count": null,
   "metadata": {},
   "outputs": [],
   "source": [
    "await salobj.set_summary_state(remote=all_sky, state=salobj.State.OFFLINE)"
   ]
  },
  {
   "cell_type": "code",
   "execution_count": null,
   "metadata": {},
   "outputs": [],
   "source": []
  }
 ],
 "metadata": {
  "kernelspec": {
   "display_name": "Python 3",
   "language": "python",
   "name": "python3"
  },
  "language_info": {
   "codemirror_mode": {
    "name": "ipython",
    "version": 3
   },
   "file_extension": ".py",
   "mimetype": "text/x-python",
   "name": "python",
   "nbconvert_exporter": "python",
   "pygments_lexer": "ipython3",
   "version": "3.7.8"
  }
 },
 "nbformat": 4,
 "nbformat_minor": 4
}