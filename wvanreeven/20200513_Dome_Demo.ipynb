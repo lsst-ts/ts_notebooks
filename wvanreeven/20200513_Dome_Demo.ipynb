{
 "cells": [
  {
   "cell_type": "markdown",
   "metadata": {},
   "source": [
    "### Initialize the components that we need. In this case we need the upper level Dome Control System (DCS) which we simply refer to as \"Dome\"."
   ]
  },
  {
   "cell_type": "code",
   "execution_count": 1,
   "metadata": {},
   "outputs": [
    {
     "name": "stderr",
     "output_type": "stream",
     "text": [
      "current_tai uses current_tai_from_utc; clock_gettime(CLOCK_TAI) is off by 37.0 seconds\n"
     ]
    },
    {
     "name": "stdout",
     "output_type": "stream",
     "text": [
      "['__aenter__', '__aexit__', '__class__', '__delattr__', '__dict__', '__dir__', '__doc__', '__eq__', '__format__', '__ge__', '__getattribute__', '__gt__', '__hash__', '__init__', '__init_subclass__', '__le__', '__lt__', '__module__', '__ne__', '__new__', '__reduce__', '__reduce_ex__', '__repr__', '__setattr__', '__sizeof__', '__str__', '__subclasshook__', '__weakref__', 'close', 'cmd_abort', 'cmd_closeLouvers', 'cmd_closeShutter', 'cmd_crawlAz', 'cmd_crawlEl', 'cmd_disable', 'cmd_enable', 'cmd_enterControl', 'cmd_exitControl', 'cmd_moveAz', 'cmd_moveEl', 'cmd_openShutter', 'cmd_park', 'cmd_setAuthList', 'cmd_setLogLevel', 'cmd_setLouvers', 'cmd_setTemperature', 'cmd_setValue', 'cmd_standby', 'cmd_start', 'cmd_stop', 'cmd_stopAz', 'cmd_stopEl', 'cmd_stopLouvers', 'cmd_stopShutter', 'evt_appliedSettingsMatchStart', 'evt_authList', 'evt_azEnabled', 'evt_azMotion', 'evt_azTarget', 'evt_brakesEngaged', 'evt_elEnabled', 'evt_elMotion', 'evt_elTarget', 'evt_errorCode', 'evt_heartbeat', 'evt_interlocks', 'evt_lockingPinsEngaged', 'evt_logLevel', 'evt_logMessage', 'evt_settingVersions', 'evt_settingsApplied', 'evt_simulationMode', 'evt_softwareVersions', 'evt_summaryState', 'salinfo', 'start', 'start_called', 'start_task', 'tel_apertureShutter', 'tel_azimuth', 'tel_interlocks', 'tel_lightWindScreen', 'tel_louvers', 'tel_thermal']\n"
     ]
    }
   ],
   "source": [
    "from lsst.ts import salobj\n",
    "domain = salobj.Domain()\n",
    "dome = salobj.Remote(domain=domain, name=\"Dome\")\n",
    "print(dir(dome))"
   ]
  },
  {
   "cell_type": "markdown",
   "metadata": {},
   "source": [
    "### Start the DCS."
   ]
  },
  {
   "cell_type": "code",
   "execution_count": 2,
   "metadata": {},
   "outputs": [
    {
     "data": {
      "text/plain": [
       "<ddsutil.Dome_ackcmd_ca50e0d7 at 0x7faa452ead90>"
      ]
     },
     "execution_count": 2,
     "metadata": {},
     "output_type": "execute_result"
    }
   ],
   "source": [
    "await dome.cmd_start.set_start(timeout=20)"
   ]
  },
  {
   "cell_type": "markdown",
   "metadata": {},
   "source": [
    "### Request the status of the LLCs (Lower Level Components)."
   ]
  },
  {
   "cell_type": "code",
   "execution_count": 3,
   "metadata": {},
   "outputs": [
    {
     "name": "stdout",
     "output_type": "stream",
     "text": [
      "private_revCode: fed8b26e, private_sndStamp: 1592330950.8865547, private_rcvStamp: 1592330950.8871295, private_seqNum: 1, private_origin: 601, private_host: -1408172029, positionActual: 0.0, positionCommanded: 0.0, velocityActual: 0.0, velocityCommanded: 0.0, driveTorqueActual: [0.0, 0.0, 0.0, 0.0, 0.0], driveTorqueCommanded: [0.0, 0.0, 0.0, 0.0, 0.0], driveCurrentActual: [0.0, 0.0, 0.0, 0.0, 0.0], driveTemperature: [20.0, 20.0, 20.0, 20.0, 20.0], encoderHeadRaw: [0.0, 0.0, 0.0, 0.0, 0.0], encoderHeadCalibrated: [0.0, 0.0, 0.0, 0.0, 0.0], resolverRaw: [0.0, 0.0, 0.0, 0.0, 0.0], resolverCalibrated: [0.0, 0.0, 0.0, 0.0, 0.0], timestamp: 1592331008.0\n",
      "private_revCode: f091fd12, private_sndStamp: 1592330950.8891473, private_rcvStamp: 1592330950.8896663, private_seqNum: 1, private_origin: 601, private_host: -1408172029, positionActual: 0.0, positionCommanded: 0.0, driveTorqueActual: [0.0, 0.0, 0.0, 0.0], driveTorqueCommanded: [0.0, 0.0, 0.0, 0.0], driveCurrentActual: [0.0, 0.0, 0.0, 0.0], driveTemperature: [20.0, 20.0, 20.0, 20.0], resolverHeadRaw: [0.0, 0.0, 0.0, 0.0], resolverHeadCalibrated: [0.0, 0.0, 0.0, 0.0], powerDraw: 0.0, timestamp: 1592331008.0\n",
      "private_revCode: 7c225feb, private_sndStamp: 1592330950.8941388, private_rcvStamp: 1592330950.89458, private_seqNum: 1, private_origin: 601, private_host: -1408172029, positionActual: 0.0, positionCommanded: 0.0, velocityActual: 0.0, velocityCommanded: 0.0, driveTorqueActual: [0.0, 0.0], driveTorqueCommanded: [0.0, 0.0], driveCurrentActual: [0.0, 0.0], driveTemperature: [20.0, 20.0], encoderHeadRaw: [0.0, 0.0], encoderHeadCalibrated: [0.0, 0.0], resolverRaw: [0.0, 0.0], resolverCalibrated: [0.0, 0.0], powerDraw: 0.0, timestamp: 1592331008.0\n",
      "private_revCode: e9c4acc3, private_sndStamp: 1592330950.8915472, private_rcvStamp: 1592330950.8925426, private_seqNum: 1, private_origin: 601, private_host: -1408172029, positionActual: [0.0, 0.0, 0.0, 0.0, 0.0, 0.0, 0.0, 0.0, 0.0, 0.0, 0.0, 0.0, 0.0, 0.0, 0.0, 0.0, 0.0, 0.0, 0.0, 0.0, 0.0, 0.0, 0.0, 0.0, 0.0, 0.0, 0.0, 0.0, 0.0, 0.0, 0.0, 0.0, 0.0, 0.0], positionCommanded: [0.0, 0.0, 0.0, 0.0, 0.0, 0.0, 0.0, 0.0, 0.0, 0.0, 0.0, 0.0, 0.0, 0.0, 0.0, 0.0, 0.0, 0.0, 0.0, 0.0, 0.0, 0.0, 0.0, 0.0, 0.0, 0.0, 0.0, 0.0, 0.0, 0.0, 0.0, 0.0, 0.0, 0.0], driveTorqueActual: [0.0, 0.0, 0.0, 0.0, 0.0, 0.0, 0.0, 0.0, 0.0, 0.0, 0.0, 0.0, 0.0, 0.0, 0.0, 0.0, 0.0, 0.0, 0.0, 0.0, 0.0, 0.0, 0.0, 0.0, 0.0, 0.0, 0.0, 0.0, 0.0, 0.0, 0.0, 0.0, 0.0, 0.0, 0.0, 0.0, 0.0, 0.0, 0.0, 0.0, 0.0, 0.0, 0.0, 0.0, 0.0, 0.0, 0.0, 0.0, 0.0, 0.0, 0.0, 0.0, 0.0, 0.0, 0.0, 0.0, 0.0, 0.0, 0.0, 0.0, 0.0, 0.0, 0.0, 0.0, 0.0, 0.0, 0.0, 0.0], driveTorqueCommanded: [0.0, 0.0, 0.0, 0.0, 0.0, 0.0, 0.0, 0.0, 0.0, 0.0, 0.0, 0.0, 0.0, 0.0, 0.0, 0.0, 0.0, 0.0, 0.0, 0.0, 0.0, 0.0, 0.0, 0.0, 0.0, 0.0, 0.0, 0.0, 0.0, 0.0, 0.0, 0.0, 0.0, 0.0, 0.0, 0.0, 0.0, 0.0, 0.0, 0.0, 0.0, 0.0, 0.0, 0.0, 0.0, 0.0, 0.0, 0.0, 0.0, 0.0, 0.0, 0.0, 0.0, 0.0, 0.0, 0.0, 0.0, 0.0, 0.0, 0.0, 0.0, 0.0, 0.0, 0.0, 0.0, 0.0, 0.0, 0.0], driveCurrentActual: [0.0, 0.0, 0.0, 0.0, 0.0, 0.0, 0.0, 0.0, 0.0, 0.0, 0.0, 0.0, 0.0, 0.0, 0.0, 0.0, 0.0, 0.0, 0.0, 0.0, 0.0, 0.0, 0.0, 0.0, 0.0, 0.0, 0.0, 0.0, 0.0, 0.0, 0.0, 0.0, 0.0, 0.0, 0.0, 0.0, 0.0, 0.0, 0.0, 0.0, 0.0, 0.0, 0.0, 0.0, 0.0, 0.0, 0.0, 0.0, 0.0, 0.0, 0.0, 0.0, 0.0, 0.0, 0.0, 0.0, 0.0, 0.0, 0.0, 0.0, 0.0, 0.0, 0.0, 0.0, 0.0, 0.0, 0.0, 0.0], driveTemperature: [20.0, 20.0, 20.0, 20.0, 20.0, 20.0, 20.0, 20.0, 20.0, 20.0, 20.0, 20.0, 20.0, 20.0, 20.0, 20.0, 20.0, 20.0, 20.0, 20.0, 20.0, 20.0, 20.0, 20.0, 20.0, 20.0, 20.0, 20.0, 20.0, 20.0, 20.0, 20.0, 20.0, 20.0, 20.0, 20.0, 20.0, 20.0, 20.0, 20.0, 20.0, 20.0, 20.0, 20.0, 20.0, 20.0, 20.0, 20.0, 20.0, 20.0, 20.0, 20.0, 20.0, 20.0, 20.0, 20.0, 20.0, 20.0, 20.0, 20.0, 20.0, 20.0, 20.0, 20.0, 20.0, 20.0, 20.0, 20.0], encoderHeadRaw: [0.0, 0.0, 0.0, 0.0, 0.0, 0.0, 0.0, 0.0, 0.0, 0.0, 0.0, 0.0, 0.0, 0.0, 0.0, 0.0, 0.0, 0.0, 0.0, 0.0, 0.0, 0.0, 0.0, 0.0, 0.0, 0.0, 0.0, 0.0, 0.0, 0.0, 0.0, 0.0, 0.0, 0.0, 0.0, 0.0, 0.0, 0.0, 0.0, 0.0, 0.0, 0.0, 0.0, 0.0, 0.0, 0.0, 0.0, 0.0, 0.0, 0.0, 0.0, 0.0, 0.0, 0.0, 0.0, 0.0, 0.0, 0.0, 0.0, 0.0, 0.0, 0.0, 0.0, 0.0, 0.0, 0.0, 0.0, 0.0], encoderHeadCalibrated: [0.0, 0.0, 0.0, 0.0, 0.0, 0.0, 0.0, 0.0, 0.0, 0.0, 0.0, 0.0, 0.0, 0.0, 0.0, 0.0, 0.0, 0.0, 0.0, 0.0, 0.0, 0.0, 0.0, 0.0, 0.0, 0.0, 0.0, 0.0, 0.0, 0.0, 0.0, 0.0, 0.0, 0.0, 0.0, 0.0, 0.0, 0.0, 0.0, 0.0, 0.0, 0.0, 0.0, 0.0, 0.0, 0.0, 0.0, 0.0, 0.0, 0.0, 0.0, 0.0, 0.0, 0.0, 0.0, 0.0, 0.0, 0.0, 0.0, 0.0, 0.0, 0.0, 0.0, 0.0, 0.0, 0.0, 0.0, 0.0], powerDraw: 0.0, timestamp: 1592331008.0\n",
      "private_revCode: 553e97b2, private_sndStamp: 1592330950.895742, private_rcvStamp: 1592330950.8960276, private_seqNum: 1, private_origin: 601, private_host: -1408172029, data: [0.0, 0.0, 0.0, 0.0, 0.0, 0.0, 0.0, 0.0, 0.0, 0.0, 0.0, 0.0, 0.0, 0.0, 0.0, 0.0], timestamp: 1592331008.0\n",
      "private_revCode: 282a9ce4, private_sndStamp: 1592330950.8971899, private_rcvStamp: 1592330950.8974214, private_seqNum: 1, private_origin: 601, private_host: -1408172029, temperature: [0.0, 0.0, 0.0, 0.0, 0.0, 0.0, 0.0, 0.0, 0.0, 0.0, 0.0, 0.0, 0.0, 0.0, 0.0, 0.0], timestamp: 1592331008.0\n"
     ]
    }
   ],
   "source": [
    "print(await dome.tel_azimuth.next(flush=False))\n",
    "print(await dome.tel_apertureShutter.next(flush=False))\n",
    "print(await dome.tel_lightWindScreen.next(flush=False))\n",
    "print(await dome.tel_louvers.next(flush=False))\n",
    "print(await dome.tel_interlocks.next(flush=False))\n",
    "print(await dome.tel_thermal.next(flush=False))"
   ]
  },
  {
   "cell_type": "code",
   "execution_count": 5,
   "metadata": {},
   "outputs": [
    {
     "name": "stdout",
     "output_type": "stream",
     "text": [
      "AZCS positionActual='0.0', positionCommanded='0.0', velocityActual='0.0', velocityCommanded='0.0', timestamp='1592331008.0'\n",
      "ApSCS positionActual='0.0', positionCommanded='0.0', timestamp='1592331008.0'\n",
      "LWSCS positionActual='0.0', positionCommanded='0.0', velocityActual='0.0', velocityCommanded='0.0', timestamp='1592331008.0'\n",
      "LCS positionActual='[0.0, 0.0, 0.0, 0.0, 0.0, 0.0, 0.0, 0.0, 0.0, 0.0, 0.0, 0.0, 0.0, 0.0, 0.0, 0.0, 0.0, 0.0, 0.0, 0.0, 0.0, 0.0, 0.0, 0.0, 0.0, 0.0, 0.0, 0.0, 0.0, 0.0, 0.0, 0.0, 0.0, 0.0]', positionCommanded='[0.0, 0.0, 0.0, 0.0, 0.0, 0.0, 0.0, 0.0, 0.0, 0.0, 0.0, 0.0, 0.0, 0.0, 0.0, 0.0, 0.0, 0.0, 0.0, 0.0, 0.0, 0.0, 0.0, 0.0, 0.0, 0.0, 0.0, 0.0, 0.0, 0.0, 0.0, 0.0, 0.0, 0.0]', timestamp='1592331008.0'\n",
      "MonCS data='[0.0, 0.0, 0.0, 0.0, 0.0, 0.0, 0.0, 0.0, 0.0, 0.0, 0.0, 0.0, 0.0, 0.0, 0.0, 0.0]', timestamp='1592331008.0'\n",
      "ThCS temperature='[0.0, 0.0, 0.0, 0.0, 0.0, 0.0, 0.0, 0.0, 0.0, 0.0, 0.0, 0.0, 0.0, 0.0, 0.0, 0.0]', timestamp='1592331008.0'\n"
     ]
    }
   ],
   "source": [
    "async def print_status():\n",
    "    az_status = await dome.tel_azimuth.next(flush=False)\n",
    "    print(f\"AZCS positionActual='{az_status.positionActual}', positionCommanded='{az_status.positionCommanded}', velocityActual='{az_status.velocityActual}', velocityCommanded='{az_status.velocityCommanded}', timestamp='{az_status.timestamp}'\")\n",
    "    ap_status = await dome.tel_apertureShutter.next(flush=False)\n",
    "    print(f\"ApSCS positionActual='{ap_status.positionActual}', positionCommanded='{ap_status.positionCommanded}', timestamp='{ap_status.timestamp}'\")\n",
    "    lws_status = await dome.tel_lightWindScreen.next(flush=False)\n",
    "    print(f\"LWSCS positionActual='{lws_status.positionActual}', positionCommanded='{lws_status.positionCommanded}', velocityActual='{lws_status.velocityActual}', velocityCommanded='{lws_status.velocityCommanded}', timestamp='{lws_status.timestamp}'\")\n",
    "    l_status = await dome.tel_louvers.next(flush=False)\n",
    "    print(f\"LCS positionActual='{l_status.positionActual}', positionCommanded='{l_status.positionCommanded}', timestamp='{l_status.timestamp}'\")\n",
    "    mon_status = await dome.tel_interlocks.next(flush=False)\n",
    "    print(f\"MonCS data='{mon_status.data}', timestamp='{mon_status.timestamp}'\")\n",
    "    th_status = await dome.tel_thermal.next(flush=False)\n",
    "    print(f\"ThCS temperature='{th_status.temperature}', timestamp='{th_status.timestamp}'\")\n",
    "\n",
    "await print_status()"
   ]
  },
  {
   "cell_type": "markdown",
   "metadata": {},
   "source": [
    "### Set the DCS to the ENABLED state."
   ]
  },
  {
   "cell_type": "code",
   "execution_count": 6,
   "metadata": {},
   "outputs": [
    {
     "data": {
      "text/plain": [
       "[<State.DISABLED: 1>, <State.ENABLED: 2>]"
      ]
     },
     "execution_count": 6,
     "metadata": {},
     "output_type": "execute_result"
    }
   ],
   "source": [
    "await salobj.set_summary_state(remote=dome, state=salobj.State.ENABLED)"
   ]
  },
  {
   "cell_type": "markdown",
   "metadata": {},
   "source": [
    "### Open the shutter"
   ]
  },
  {
   "cell_type": "code",
   "execution_count": 7,
   "metadata": {},
   "outputs": [
    {
     "data": {
      "text/plain": [
       "<ddsutil.Dome_ackcmd_ca50e0d7 at 0x7fa9f363cf10>"
      ]
     },
     "execution_count": 7,
     "metadata": {},
     "output_type": "execute_result"
    }
   ],
   "source": [
    "await dome.cmd_openShutter.set_start()"
   ]
  },
  {
   "cell_type": "markdown",
   "metadata": {},
   "source": [
    "### Request the status of the LLCs (Lower Level Components)."
   ]
  },
  {
   "cell_type": "code",
   "execution_count": 8,
   "metadata": {},
   "outputs": [
    {
     "name": "stdout",
     "output_type": "stream",
     "text": [
      "AZCS positionActual='0.0', positionCommanded='0.0', velocityActual='0.0', velocityCommanded='0.0', timestamp='1592331008.0'\n",
      "ApSCS positionActual='0.0', positionCommanded='0.0', timestamp='1592331008.0'\n",
      "LWSCS positionActual='0.0', positionCommanded='0.0', velocityActual='0.0', velocityCommanded='0.0', timestamp='1592331008.0'\n",
      "LCS positionActual='[0.0, 0.0, 0.0, 0.0, 0.0, 0.0, 0.0, 0.0, 0.0, 0.0, 0.0, 0.0, 0.0, 0.0, 0.0, 0.0, 0.0, 0.0, 0.0, 0.0, 0.0, 0.0, 0.0, 0.0, 0.0, 0.0, 0.0, 0.0, 0.0, 0.0, 0.0, 0.0, 0.0, 0.0]', positionCommanded='[0.0, 0.0, 0.0, 0.0, 0.0, 0.0, 0.0, 0.0, 0.0, 0.0, 0.0, 0.0, 0.0, 0.0, 0.0, 0.0, 0.0, 0.0, 0.0, 0.0, 0.0, 0.0, 0.0, 0.0, 0.0, 0.0, 0.0, 0.0, 0.0, 0.0, 0.0, 0.0, 0.0, 0.0]', timestamp='1592331008.0'\n",
      "MonCS data='[0.0, 0.0, 0.0, 0.0, 0.0, 0.0, 0.0, 0.0, 0.0, 0.0, 0.0, 0.0, 0.0, 0.0, 0.0, 0.0]', timestamp='1592331008.0'\n",
      "ThCS temperature='[0.0, 0.0, 0.0, 0.0, 0.0, 0.0, 0.0, 0.0, 0.0, 0.0, 0.0, 0.0, 0.0, 0.0, 0.0, 0.0]', timestamp='1592331008.0'\n"
     ]
    },
    {
     "name": "stderr",
     "output_type": "stream",
     "text": [
      "logMessage DDS read queue is filling: 11 of 100 elements\n"
     ]
    }
   ],
   "source": [
    "await print_status()"
   ]
  },
  {
   "cell_type": "markdown",
   "metadata": {},
   "source": [
    "### Open a few louvers"
   ]
  },
  {
   "cell_type": "code",
   "execution_count": 9,
   "metadata": {},
   "outputs": [
    {
     "data": {
      "text/plain": [
       "<ddsutil.Dome_ackcmd_ca50e0d7 at 0x7fa9f363cb10>"
      ]
     },
     "execution_count": 9,
     "metadata": {},
     "output_type": "execute_result"
    }
   ],
   "source": [
    "await dome.cmd_setLouvers.set_start(position=[99.9,99.9,99.9,99.9,99.9,99.9,99.9,99.9,99.9,99.9,-1,-1,-1,-1,-1,-1,-1,-1,-1,-1,-1,-1,-1,-1,-1,-1,-1,-1,-1,-1,-1,-1,-1,-1])"
   ]
  },
  {
   "cell_type": "markdown",
   "metadata": {},
   "source": [
    "### Request the status of the LLCs (Lower Level Components)."
   ]
  },
  {
   "cell_type": "code",
   "execution_count": 10,
   "metadata": {},
   "outputs": [
    {
     "name": "stderr",
     "output_type": "stream",
     "text": [
      "azimuth python read queue is full (100 elements); data may be lost\n",
      "apertureShutter python read queue is full (100 elements); data may be lost\n",
      "lightWindScreen python read queue is full (100 elements); data may be lost\n",
      "louvers python read queue is full (100 elements); data may be lost\n",
      "interlocks python read queue is full (100 elements); data may be lost\n",
      "thermal python read queue is full (100 elements); data may be lost\n"
     ]
    },
    {
     "name": "stdout",
     "output_type": "stream",
     "text": [
      "AZCS positionActual='0.0', positionCommanded='0.0', velocityActual='0.0', velocityCommanded='0.0', timestamp='1592331008.0'\n",
      "ApSCS positionActual='100.0', positionCommanded='100.0', timestamp='1592331008.0'\n",
      "LWSCS positionActual='0.0', positionCommanded='0.0', velocityActual='0.0', velocityCommanded='0.0', timestamp='1592331008.0'\n",
      "LCS positionActual='[0.0, 0.0, 0.0, 0.0, 0.0, 0.0, 0.0, 0.0, 0.0, 0.0, 0.0, 0.0, 0.0, 0.0, 0.0, 0.0, 0.0, 0.0, 0.0, 0.0, 0.0, 0.0, 0.0, 0.0, 0.0, 0.0, 0.0, 0.0, 0.0, 0.0, 0.0, 0.0, 0.0, 0.0]', positionCommanded='[0.0, 0.0, 0.0, 0.0, 0.0, 0.0, 0.0, 0.0, 0.0, 0.0, 0.0, 0.0, 0.0, 0.0, 0.0, 0.0, 0.0, 0.0, 0.0, 0.0, 0.0, 0.0, 0.0, 0.0, 0.0, 0.0, 0.0, 0.0, 0.0, 0.0, 0.0, 0.0, 0.0, 0.0]', timestamp='1592331008.0'\n",
      "MonCS data='[0.0, 0.0, 0.0, 0.0, 0.0, 0.0, 0.0, 0.0, 0.0, 0.0, 0.0, 0.0, 0.0, 0.0, 0.0, 0.0]', timestamp='1592331008.0'\n",
      "ThCS temperature='[0.0, 0.0, 0.0, 0.0, 0.0, 0.0, 0.0, 0.0, 0.0, 0.0, 0.0, 0.0, 0.0, 0.0, 0.0, 0.0]', timestamp='1592331008.0'\n"
     ]
    }
   ],
   "source": [
    "await print_status()"
   ]
  },
  {
   "cell_type": "markdown",
   "metadata": {},
   "source": [
    "### Instruct the AZCS to rotate to a position.\n",
    "SAL uses degrees but all LLCs use radians so DCS will convert when sending to and receiving from the LLCs."
   ]
  },
  {
   "cell_type": "code",
   "execution_count": 11,
   "metadata": {},
   "outputs": [
    {
     "data": {
      "text/plain": [
       "<ddsutil.Dome_ackcmd_ca50e0d7 at 0x7fa9f3f01150>"
      ]
     },
     "execution_count": 11,
     "metadata": {},
     "output_type": "execute_result"
    }
   ],
   "source": [
    "await dome.cmd_moveAz.set_start(position=21.123, velocity=0.01)"
   ]
  },
  {
   "cell_type": "markdown",
   "metadata": {},
   "source": [
    "### Request the status of the LLCs (Lower Level Components)."
   ]
  },
  {
   "cell_type": "code",
   "execution_count": 15,
   "metadata": {},
   "outputs": [
    {
     "name": "stdout",
     "output_type": "stream",
     "text": [
      "AZCS positionActual='0.0', positionCommanded='0.0', velocityActual='0.0', velocityCommanded='0.0', timestamp='1592331008.0'\n",
      "ApSCS positionActual='100.0', positionCommanded='100.0', timestamp='1592331008.0'\n",
      "LWSCS positionActual='0.0', positionCommanded='0.0', velocityActual='0.0', velocityCommanded='0.0', timestamp='1592331008.0'\n",
      "LCS positionActual='[0.0, 0.0, 0.0, 0.0, 0.0, 0.0, 0.0, 0.0, 0.0, 0.0, 0.0, 0.0, 0.0, 0.0, 0.0, 0.0, 0.0, 0.0, 0.0, 0.0, 0.0, 0.0, 0.0, 0.0, 0.0, 0.0, 0.0, 0.0, 0.0, 0.0, 0.0, 0.0, 0.0, 0.0]', positionCommanded='[0.0, 0.0, 0.0, 0.0, 0.0, 0.0, 0.0, 0.0, 0.0, 0.0, 0.0, 0.0, 0.0, 0.0, 0.0, 0.0, 0.0, 0.0, 0.0, 0.0, 0.0, 0.0, 0.0, 0.0, 0.0, 0.0, 0.0, 0.0, 0.0, 0.0, 0.0, 0.0, 0.0, 0.0]', timestamp='1592331008.0'\n",
      "MonCS data='[0.0, 0.0, 0.0, 0.0, 0.0, 0.0, 0.0, 0.0, 0.0, 0.0, 0.0, 0.0, 0.0, 0.0, 0.0, 0.0]', timestamp='1592331008.0'\n",
      "ThCS temperature='[0.0, 0.0, 0.0, 0.0, 0.0, 0.0, 0.0, 0.0, 0.0, 0.0, 0.0, 0.0, 0.0, 0.0, 0.0, 0.0]', timestamp='1592331008.0'\n"
     ]
    }
   ],
   "source": [
    "await print_status()"
   ]
  },
  {
   "cell_type": "markdown",
   "metadata": {},
   "source": [
    "### Instruct the LWSCS to go to a position.\n",
    "SAL uses degrees but all LLCs use radians so DCS will convert when sending to and receiving from the LLCs."
   ]
  },
  {
   "cell_type": "code",
   "execution_count": 16,
   "metadata": {},
   "outputs": [
    {
     "data": {
      "text/plain": [
       "<ddsutil.Dome_ackcmd_ca50e0d7 at 0x7fa9f36216d0>"
      ]
     },
     "execution_count": 16,
     "metadata": {},
     "output_type": "execute_result"
    }
   ],
   "source": [
    "await dome.cmd_moveEl.set_start(position=20)"
   ]
  },
  {
   "cell_type": "markdown",
   "metadata": {},
   "source": [
    "### Request the status of the LLCs (Lower Level Components)."
   ]
  },
  {
   "cell_type": "code",
   "execution_count": 17,
   "metadata": {},
   "outputs": [
    {
     "name": "stdout",
     "output_type": "stream",
     "text": [
      "AZCS positionActual='0.0', positionCommanded='0.0', velocityActual='0.0', velocityCommanded='0.0', timestamp='1592331008.0'\n",
      "ApSCS positionActual='100.0', positionCommanded='100.0', timestamp='1592331008.0'\n",
      "LWSCS positionActual='0.0', positionCommanded='0.0', velocityActual='0.0', velocityCommanded='0.0', timestamp='1592331008.0'\n",
      "LCS positionActual='[0.0, 0.0, 0.0, 0.0, 0.0, 0.0, 0.0, 0.0, 0.0, 0.0, 0.0, 0.0, 0.0, 0.0, 0.0, 0.0, 0.0, 0.0, 0.0, 0.0, 0.0, 0.0, 0.0, 0.0, 0.0, 0.0, 0.0, 0.0, 0.0, 0.0, 0.0, 0.0, 0.0, 0.0]', positionCommanded='[0.0, 0.0, 0.0, 0.0, 0.0, 0.0, 0.0, 0.0, 0.0, 0.0, 0.0, 0.0, 0.0, 0.0, 0.0, 0.0, 0.0, 0.0, 0.0, 0.0, 0.0, 0.0, 0.0, 0.0, 0.0, 0.0, 0.0, 0.0, 0.0, 0.0, 0.0, 0.0, 0.0, 0.0]', timestamp='1592331008.0'\n",
      "MonCS data='[0.0, 0.0, 0.0, 0.0, 0.0, 0.0, 0.0, 0.0, 0.0, 0.0, 0.0, 0.0, 0.0, 0.0, 0.0, 0.0]', timestamp='1592331008.0'\n",
      "ThCS temperature='[0.0, 0.0, 0.0, 0.0, 0.0, 0.0, 0.0, 0.0, 0.0, 0.0, 0.0, 0.0, 0.0, 0.0, 0.0, 0.0]', timestamp='1592331008.0'\n"
     ]
    }
   ],
   "source": [
    "await print_status()"
   ]
  },
  {
   "cell_type": "markdown",
   "metadata": {},
   "source": [
    "### Make the AZCS crawl"
   ]
  },
  {
   "cell_type": "code",
   "execution_count": 18,
   "metadata": {},
   "outputs": [
    {
     "data": {
      "text/plain": [
       "<ddsutil.Dome_ackcmd_ca50e0d7 at 0x7faa154c9210>"
      ]
     },
     "execution_count": 18,
     "metadata": {},
     "output_type": "execute_result"
    }
   ],
   "source": [
    "await dome.cmd_crawlAz.set_start(velocity=0.1)"
   ]
  },
  {
   "cell_type": "markdown",
   "metadata": {},
   "source": [
    "### Make the LWS crawl"
   ]
  },
  {
   "cell_type": "code",
   "execution_count": 19,
   "metadata": {},
   "outputs": [
    {
     "data": {
      "text/plain": [
       "<ddsutil.Dome_ackcmd_ca50e0d7 at 0x7faa14da8290>"
      ]
     },
     "execution_count": 19,
     "metadata": {},
     "output_type": "execute_result"
    }
   ],
   "source": [
    "await dome.cmd_crawlEl.set_start(velocity=0.1)"
   ]
  },
  {
   "cell_type": "markdown",
   "metadata": {},
   "source": [
    "### Request the status of the LLCs (Lower Level Components)."
   ]
  },
  {
   "cell_type": "code",
   "execution_count": 20,
   "metadata": {},
   "outputs": [
    {
     "name": "stdout",
     "output_type": "stream",
     "text": [
      "AZCS positionActual='0.0', positionCommanded='0.0', velocityActual='0.0', velocityCommanded='0.0', timestamp='1592331008.0'\n",
      "ApSCS positionActual='100.0', positionCommanded='100.0', timestamp='1592331008.0'\n",
      "LWSCS positionActual='0.0', positionCommanded='0.0', velocityActual='0.0', velocityCommanded='0.0', timestamp='1592331008.0'\n",
      "LCS positionActual='[0.0, 0.0, 0.0, 0.0, 0.0, 0.0, 0.0, 0.0, 0.0, 0.0, 0.0, 0.0, 0.0, 0.0, 0.0, 0.0, 0.0, 0.0, 0.0, 0.0, 0.0, 0.0, 0.0, 0.0, 0.0, 0.0, 0.0, 0.0, 0.0, 0.0, 0.0, 0.0, 0.0, 0.0]', positionCommanded='[0.0, 0.0, 0.0, 0.0, 0.0, 0.0, 0.0, 0.0, 0.0, 0.0, 0.0, 0.0, 0.0, 0.0, 0.0, 0.0, 0.0, 0.0, 0.0, 0.0, 0.0, 0.0, 0.0, 0.0, 0.0, 0.0, 0.0, 0.0, 0.0, 0.0, 0.0, 0.0, 0.0, 0.0]', timestamp='1592331008.0'\n",
      "MonCS data='[0.0, 0.0, 0.0, 0.0, 0.0, 0.0, 0.0, 0.0, 0.0, 0.0, 0.0, 0.0, 0.0, 0.0, 0.0, 0.0]', timestamp='1592331008.0'\n",
      "ThCS temperature='[0.0, 0.0, 0.0, 0.0, 0.0, 0.0, 0.0, 0.0, 0.0, 0.0, 0.0, 0.0, 0.0, 0.0, 0.0, 0.0]', timestamp='1592331008.0'\n"
     ]
    }
   ],
   "source": [
    "await print_status()"
   ]
  },
  {
   "cell_type": "markdown",
   "metadata": {},
   "source": [
    "### Stop all motion"
   ]
  },
  {
   "cell_type": "code",
   "execution_count": 21,
   "metadata": {},
   "outputs": [
    {
     "data": {
      "text/plain": [
       "<ddsutil.Dome_ackcmd_ca50e0d7 at 0x7faa154c9310>"
      ]
     },
     "execution_count": 21,
     "metadata": {},
     "output_type": "execute_result"
    }
   ],
   "source": [
    "await dome.cmd_stop.set_start()"
   ]
  },
  {
   "cell_type": "markdown",
   "metadata": {},
   "source": [
    "### Request the status of the LLCs (Lower Level Components)."
   ]
  },
  {
   "cell_type": "code",
   "execution_count": 22,
   "metadata": {},
   "outputs": [
    {
     "name": "stdout",
     "output_type": "stream",
     "text": [
      "AZCS positionActual='0.0', positionCommanded='0.0', velocityActual='0.0', velocityCommanded='0.0', timestamp='1592331008.0'\n",
      "ApSCS positionActual='100.0', positionCommanded='100.0', timestamp='1592331008.0'\n",
      "LWSCS positionActual='0.0', positionCommanded='0.0', velocityActual='0.0', velocityCommanded='0.0', timestamp='1592331008.0'\n",
      "LCS positionActual='[0.0, 0.0, 0.0, 0.0, 0.0, 0.0, 0.0, 0.0, 0.0, 0.0, 0.0, 0.0, 0.0, 0.0, 0.0, 0.0, 0.0, 0.0, 0.0, 0.0, 0.0, 0.0, 0.0, 0.0, 0.0, 0.0, 0.0, 0.0, 0.0, 0.0, 0.0, 0.0, 0.0, 0.0]', positionCommanded='[0.0, 0.0, 0.0, 0.0, 0.0, 0.0, 0.0, 0.0, 0.0, 0.0, 0.0, 0.0, 0.0, 0.0, 0.0, 0.0, 0.0, 0.0, 0.0, 0.0, 0.0, 0.0, 0.0, 0.0, 0.0, 0.0, 0.0, 0.0, 0.0, 0.0, 0.0, 0.0, 0.0, 0.0]', timestamp='1592331008.0'\n",
      "MonCS data='[0.0, 0.0, 0.0, 0.0, 0.0, 0.0, 0.0, 0.0, 0.0, 0.0, 0.0, 0.0, 0.0, 0.0, 0.0, 0.0]', timestamp='1592331008.0'\n",
      "ThCS temperature='[0.0, 0.0, 0.0, 0.0, 0.0, 0.0, 0.0, 0.0, 0.0, 0.0, 0.0, 0.0, 0.0, 0.0, 0.0, 0.0]', timestamp='1592331008.0'\n"
     ]
    }
   ],
   "source": [
    "await print_status()"
   ]
  },
  {
   "cell_type": "markdown",
   "metadata": {},
   "source": [
    "### Park the dome"
   ]
  },
  {
   "cell_type": "code",
   "execution_count": 23,
   "metadata": {},
   "outputs": [
    {
     "data": {
      "text/plain": [
       "<ddsutil.Dome_ackcmd_ca50e0d7 at 0x7fa9f35fb650>"
      ]
     },
     "execution_count": 23,
     "metadata": {},
     "output_type": "execute_result"
    }
   ],
   "source": [
    "await dome.cmd_park.set_start()"
   ]
  },
  {
   "cell_type": "markdown",
   "metadata": {},
   "source": [
    "### \"Park\" the LWSCS\n",
    "SAL uses degrees but all LLCs use radians so DCS will convert when sending to and receiving from the LLCs."
   ]
  },
  {
   "cell_type": "code",
   "execution_count": 24,
   "metadata": {},
   "outputs": [
    {
     "data": {
      "text/plain": [
       "<ddsutil.Dome_ackcmd_ca50e0d7 at 0x7fa9f3629e90>"
      ]
     },
     "execution_count": 24,
     "metadata": {},
     "output_type": "execute_result"
    }
   ],
   "source": [
    "await dome.cmd_moveEl.set_start(position=0)"
   ]
  },
  {
   "cell_type": "markdown",
   "metadata": {},
   "source": [
    "### Request the status of the LLCs (Lower Level Components)."
   ]
  },
  {
   "cell_type": "code",
   "execution_count": 25,
   "metadata": {},
   "outputs": [
    {
     "name": "stdout",
     "output_type": "stream",
     "text": [
      "AZCS positionActual='0.0', positionCommanded='0.0', velocityActual='0.0', velocityCommanded='0.0', timestamp='1592331008.0'\n",
      "ApSCS positionActual='100.0', positionCommanded='100.0', timestamp='1592331008.0'\n",
      "LWSCS positionActual='0.0', positionCommanded='0.0', velocityActual='0.0', velocityCommanded='0.0', timestamp='1592331008.0'\n",
      "LCS positionActual='[0.0, 0.0, 0.0, 0.0, 0.0, 0.0, 0.0, 0.0, 0.0, 0.0, 0.0, 0.0, 0.0, 0.0, 0.0, 0.0, 0.0, 0.0, 0.0, 0.0, 0.0, 0.0, 0.0, 0.0, 0.0, 0.0, 0.0, 0.0, 0.0, 0.0, 0.0, 0.0, 0.0, 0.0]', positionCommanded='[0.0, 0.0, 0.0, 0.0, 0.0, 0.0, 0.0, 0.0, 0.0, 0.0, 0.0, 0.0, 0.0, 0.0, 0.0, 0.0, 0.0, 0.0, 0.0, 0.0, 0.0, 0.0, 0.0, 0.0, 0.0, 0.0, 0.0, 0.0, 0.0, 0.0, 0.0, 0.0, 0.0, 0.0]', timestamp='1592331008.0'\n",
      "MonCS data='[0.0, 0.0, 0.0, 0.0, 0.0, 0.0, 0.0, 0.0, 0.0, 0.0, 0.0, 0.0, 0.0, 0.0, 0.0, 0.0]', timestamp='1592331008.0'\n",
      "ThCS temperature='[0.0, 0.0, 0.0, 0.0, 0.0, 0.0, 0.0, 0.0, 0.0, 0.0, 0.0, 0.0, 0.0, 0.0, 0.0, 0.0]', timestamp='1592331008.0'\n"
     ]
    }
   ],
   "source": [
    "await print_status()"
   ]
  },
  {
   "cell_type": "markdown",
   "metadata": {},
   "source": [
    "### Close the louvers"
   ]
  },
  {
   "cell_type": "code",
   "execution_count": 26,
   "metadata": {},
   "outputs": [
    {
     "data": {
      "text/plain": [
       "<ddsutil.Dome_ackcmd_ca50e0d7 at 0x7faa15659450>"
      ]
     },
     "execution_count": 26,
     "metadata": {},
     "output_type": "execute_result"
    }
   ],
   "source": [
    "await dome.cmd_closeLouvers.set_start()"
   ]
  },
  {
   "cell_type": "markdown",
   "metadata": {},
   "source": [
    "### Request the status of the LLCs (Lower Level Components)."
   ]
  },
  {
   "cell_type": "code",
   "execution_count": 27,
   "metadata": {},
   "outputs": [
    {
     "name": "stdout",
     "output_type": "stream",
     "text": [
      "AZCS positionActual='0.0', positionCommanded='0.0', velocityActual='0.0', velocityCommanded='0.0', timestamp='1592331008.0'\n",
      "ApSCS positionActual='100.0', positionCommanded='100.0', timestamp='1592331008.0'\n",
      "LWSCS positionActual='0.0', positionCommanded='0.0', velocityActual='0.0', velocityCommanded='0.0', timestamp='1592331008.0'\n",
      "LCS positionActual='[0.0, 0.0, 0.0, 0.0, 0.0, 0.0, 0.0, 0.0, 0.0, 0.0, 0.0, 0.0, 0.0, 0.0, 0.0, 0.0, 0.0, 0.0, 0.0, 0.0, 0.0, 0.0, 0.0, 0.0, 0.0, 0.0, 0.0, 0.0, 0.0, 0.0, 0.0, 0.0, 0.0, 0.0]', positionCommanded='[0.0, 0.0, 0.0, 0.0, 0.0, 0.0, 0.0, 0.0, 0.0, 0.0, 0.0, 0.0, 0.0, 0.0, 0.0, 0.0, 0.0, 0.0, 0.0, 0.0, 0.0, 0.0, 0.0, 0.0, 0.0, 0.0, 0.0, 0.0, 0.0, 0.0, 0.0, 0.0, 0.0, 0.0]', timestamp='1592331008.0'\n",
      "MonCS data='[0.0, 0.0, 0.0, 0.0, 0.0, 0.0, 0.0, 0.0, 0.0, 0.0, 0.0, 0.0, 0.0, 0.0, 0.0, 0.0]', timestamp='1592331008.0'\n",
      "ThCS temperature='[0.0, 0.0, 0.0, 0.0, 0.0, 0.0, 0.0, 0.0, 0.0, 0.0, 0.0, 0.0, 0.0, 0.0, 0.0, 0.0]', timestamp='1592331008.0'\n"
     ]
    }
   ],
   "source": [
    "await print_status()"
   ]
  },
  {
   "cell_type": "markdown",
   "metadata": {},
   "source": [
    "### Close the shutter"
   ]
  },
  {
   "cell_type": "code",
   "execution_count": 28,
   "metadata": {},
   "outputs": [
    {
     "data": {
      "text/plain": [
       "<ddsutil.Dome_ackcmd_ca50e0d7 at 0x7faa14dad050>"
      ]
     },
     "execution_count": 28,
     "metadata": {},
     "output_type": "execute_result"
    }
   ],
   "source": [
    "await dome.cmd_closeShutter.set_start()"
   ]
  },
  {
   "cell_type": "markdown",
   "metadata": {},
   "source": [
    "### Request the status of the LLCs (Lower Level Components)."
   ]
  },
  {
   "cell_type": "code",
   "execution_count": 29,
   "metadata": {},
   "outputs": [
    {
     "name": "stdout",
     "output_type": "stream",
     "text": [
      "AZCS positionActual='0.0', positionCommanded='0.0', velocityActual='0.0', velocityCommanded='0.0', timestamp='1592331008.0'\n",
      "ApSCS positionActual='100.0', positionCommanded='100.0', timestamp='1592331008.0'\n",
      "LWSCS positionActual='0.0', positionCommanded='0.0', velocityActual='0.0', velocityCommanded='0.0', timestamp='1592331008.0'\n",
      "LCS positionActual='[0.0, 0.0, 0.0, 0.0, 0.0, 0.0, 0.0, 0.0, 0.0, 0.0, 0.0, 0.0, 0.0, 0.0, 0.0, 0.0, 0.0, 0.0, 0.0, 0.0, 0.0, 0.0, 0.0, 0.0, 0.0, 0.0, 0.0, 0.0, 0.0, 0.0, 0.0, 0.0, 0.0, 0.0]', positionCommanded='[0.0, 0.0, 0.0, 0.0, 0.0, 0.0, 0.0, 0.0, 0.0, 0.0, 0.0, 0.0, 0.0, 0.0, 0.0, 0.0, 0.0, 0.0, 0.0, 0.0, 0.0, 0.0, 0.0, 0.0, 0.0, 0.0, 0.0, 0.0, 0.0, 0.0, 0.0, 0.0, 0.0, 0.0]', timestamp='1592331008.0'\n",
      "MonCS data='[0.0, 0.0, 0.0, 0.0, 0.0, 0.0, 0.0, 0.0, 0.0, 0.0, 0.0, 0.0, 0.0, 0.0, 0.0, 0.0]', timestamp='1592331008.0'\n",
      "ThCS temperature='[0.0, 0.0, 0.0, 0.0, 0.0, 0.0, 0.0, 0.0, 0.0, 0.0, 0.0, 0.0, 0.0, 0.0, 0.0, 0.0]', timestamp='1592331008.0'\n"
     ]
    }
   ],
   "source": [
    "await print_status()"
   ]
  },
  {
   "cell_type": "markdown",
   "metadata": {},
   "source": [
    "### Set the DCS to the DISABLED state."
   ]
  },
  {
   "cell_type": "code",
   "execution_count": 30,
   "metadata": {},
   "outputs": [
    {
     "data": {
      "text/plain": [
       "[<State.ENABLED: 2>, <State.DISABLED: 1>]"
      ]
     },
     "execution_count": 30,
     "metadata": {},
     "output_type": "execute_result"
    }
   ],
   "source": [
    "await salobj.set_summary_state(remote=dome, state=salobj.State.DISABLED)"
   ]
  },
  {
   "cell_type": "markdown",
   "metadata": {},
   "source": [
    "### Set the DCS to the OFFLINE state."
   ]
  },
  {
   "cell_type": "code",
   "execution_count": 31,
   "metadata": {},
   "outputs": [
    {
     "data": {
      "text/plain": [
       "[<State.DISABLED: 1>, <State.STANDBY: 5>, <State.OFFLINE: 4>]"
      ]
     },
     "execution_count": 31,
     "metadata": {},
     "output_type": "execute_result"
    }
   ],
   "source": [
    "await salobj.set_summary_state(remote=dome, state=salobj.State.OFFLINE)"
   ]
  },
  {
   "cell_type": "code",
   "execution_count": null,
   "metadata": {},
   "outputs": [],
   "source": []
  }
 ],
 "metadata": {
  "kernelspec": {
   "display_name": "Python 3",
   "language": "python",
   "name": "python3"
  },
  "language_info": {
   "codemirror_mode": {
    "name": "ipython",
    "version": 3
   },
   "file_extension": ".py",
   "mimetype": "text/x-python",
   "name": "python",
   "nbconvert_exporter": "python",
   "pygments_lexer": "ipython3",
   "version": "3.7.6"
  }
 },
 "nbformat": 4,
 "nbformat_minor": 4
}
