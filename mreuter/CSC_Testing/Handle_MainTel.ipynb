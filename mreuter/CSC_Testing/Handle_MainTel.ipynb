{
 "cells": [
  {
   "cell_type": "code",
   "execution_count": null,
   "metadata": {},
   "outputs": [],
   "source": [
    "import asyncio\n",
    "import logging\n",
    "import sys\n",
    "\n",
    "from lsst.ts import salobj"
   ]
  },
  {
   "cell_type": "code",
   "execution_count": null,
   "metadata": {},
   "outputs": [],
   "source": [
    "stream_handler = logging.StreamHandler(sys.stdout)\n",
    "\n",
    "logger = logging.getLogger()\n",
    "logger.addHandler(stream_handler)\n",
    "logger.level = logging.DEBUG"
   ]
  },
  {
   "cell_type": "code",
   "execution_count": null,
   "metadata": {},
   "outputs": [],
   "source": [
    "async def run_lifecycle_command(csc, command_str, settings_to_apply=None):\n",
    "    try:\n",
    "        cmd = getattr(csc, f\"cmd_{command_str}\")\n",
    "        if command_str == \"start\" and settings_to_apply is not None:\n",
    "            cmd.set(settingsToApply=settings_to_apply)\n",
    "        ackcmd = await cmd.start(timeout=15)\n",
    "        print(f\"ack={ackcmd.ack}, ack.error={ackcmd.error}, ackcmd.result={ackcmd.result}\")\n",
    "    except salobj.AckError as ae:\n",
    "        print(f\"Failed with ack={ae.ackcmd.ack}, ack.error={ae.ackcmd.error}, ackcmd.result={ae.ackcmd.result}\")"
   ]
  },
  {
   "cell_type": "code",
   "execution_count": null,
   "metadata": {},
   "outputs": [],
   "source": [
    "d = salobj.Domain()\n",
    "await asyncio.sleep(10)"
   ]
  },
  {
   "cell_type": "code",
   "execution_count": null,
   "metadata": {},
   "outputs": [],
   "source": [
    "MTMount = salobj.Remote(d, \"NewMTMount\")\n",
    "MTPtg = salobj.Remote(d, \"MTPtg\")\n",
    "MTAOS = salobj.Remote(d, \"MTAOS\")\n",
    "MTM2 = salobj.Remote(d, \"MTM2\")\n",
    "MTM1M3 = salobj.Remote(d, \"MTM1M3\")\n",
    "MTM2Hex = salobj.Remote(d, \"MTHexapod\", index=2)\n",
    "MTCamHex = salobj.Remote(d, \"MTHexapod\", index=1)\n",
    "MTRotator = salobj.Remote(d, \"MTRotator\")\n",
    "MTDome = salobj.Remote(d, \"MTDome\")\n",
    "MTDomeTrajectory = salobj.Remote(d, \"MTDomeTrajectory\")\n",
    "\n",
    "await asyncio.gather(\n",
    "    MTMount.start_task,\n",
    "    MTPtg.start_task,\n",
    "    MTAOS.start_task,\n",
    "    MTM2.start_task,\n",
    "    MTM1M3.start_task,\n",
    "    MTM2Hex.start_task,\n",
    "    MTCamHex.start_task,\n",
    "    MTRotator.start_task,\n",
    "    MTDome.start_task,\n",
    "    MTDomeTrajectory.start_task\n",
    ")"
   ]
  },
  {
   "cell_type": "code",
   "execution_count": null,
   "metadata": {},
   "outputs": [],
   "source": [
    "#command = \"enterControl\"\n",
    "command = \"start\"\n",
    "#command = \"enable\"\n",
    "#command = \"disable\"\n",
    "#command = \"standby\"\n",
    "#command = \"exitControl\""
   ]
  },
  {
   "cell_type": "code",
   "execution_count": null,
   "metadata": {},
   "outputs": [],
   "source": [
    "await run_lifecycle_command(MTMount, command, \"\")"
   ]
  },
  {
   "cell_type": "code",
   "execution_count": null,
   "metadata": {},
   "outputs": [],
   "source": [
    "await run_lifecycle_command(MTPtg, command, \"\")"
   ]
  },
  {
   "cell_type": "code",
   "execution_count": null,
   "metadata": {},
   "outputs": [],
   "source": [
    "await run_lifecycle_command(MTAOS, command, \"\")"
   ]
  },
  {
   "cell_type": "code",
   "execution_count": null,
   "metadata": {},
   "outputs": [],
   "source": [
    "await run_lifecycle_command(MTM2, command, \"\")"
   ]
  },
  {
   "cell_type": "code",
   "execution_count": null,
   "metadata": {},
   "outputs": [],
   "source": [
    "await run_lifecycle_command(MTM1M3, command, \"Default\")"
   ]
  },
  {
   "cell_type": "code",
   "execution_count": null,
   "metadata": {},
   "outputs": [],
   "source": [
    "await run_lifecycle_command(MTM2Hex, command, \"\")"
   ]
  },
  {
   "cell_type": "code",
   "execution_count": null,
   "metadata": {},
   "outputs": [],
   "source": [
    "await run_lifecycle_command(MTCamHex, command, \"\")"
   ]
  },
  {
   "cell_type": "code",
   "execution_count": null,
   "metadata": {},
   "outputs": [],
   "source": [
    "await run_lifecycle_command(MTRotator, command, \"\")"
   ]
  },
  {
   "cell_type": "code",
   "execution_count": null,
   "metadata": {},
   "outputs": [],
   "source": [
    "await run_lifecycle_command(MTDome, command, \"\")"
   ]
  },
  {
   "cell_type": "code",
   "execution_count": null,
   "metadata": {},
   "outputs": [],
   "source": [
    "await run_lifecycle_command(MTDomeTrajectory, command, \"\")"
   ]
  }
 ],
 "metadata": {
  "kernelspec": {
   "display_name": "LSST",
   "language": "python",
   "name": "lsst"
  },
  "language_info": {
   "codemirror_mode": {
    "name": "ipython",
    "version": 3
   },
   "file_extension": ".py",
   "mimetype": "text/x-python",
   "name": "python",
   "nbconvert_exporter": "python",
   "pygments_lexer": "ipython3",
   "version": "3.7.8"
  }
 },
 "nbformat": 4,
 "nbformat_minor": 4
}
