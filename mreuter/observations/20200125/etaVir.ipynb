{
 "cells": [
  {
   "cell_type": "code",
   "execution_count": null,
   "metadata": {},
   "outputs": [],
   "source": [
    "import sys\n",
    "import asyncio\n",
    "import logging\n",
    "\n",
    "import numpy as np\n",
    "\n",
    "from lsst.ts import salobj\n",
    "\n",
    "\n",
    "from lsst.ts.standardscripts.auxtel.attcs import ATTCS"
   ]
  },
  {
   "cell_type": "code",
   "execution_count": null,
   "metadata": {},
   "outputs": [],
   "source": [
    "stream_handler = logging.StreamHandler(sys.stdout)\n",
    "\n",
    "logger = logging.getLogger()\n",
    "logger.addHandler(stream_handler)\n",
    "logger.level = logging.DEBUG"
   ]
  },
  {
   "cell_type": "code",
   "execution_count": null,
   "metadata": {},
   "outputs": [],
   "source": [
    "attcs = ATTCS()"
   ]
  },
  {
   "cell_type": "code",
   "execution_count": null,
   "metadata": {},
   "outputs": [],
   "source": [
    "await attcs.start_task"
   ]
  },
  {
   "cell_type": "code",
   "execution_count": null,
   "metadata": {},
   "outputs": [],
   "source": [
    "await attcs.slew_icrs(ra=\"12 19 54.3488819446\", dec=\"-00 40 00.599569600\", target_name=\"etaVir\")"
   ]
  },
  {
   "cell_type": "code",
   "execution_count": null,
   "metadata": {},
   "outputs": [],
   "source": [
    "attcs.check.atdome=False\n",
    "attcs.check.atmcs=False\n",
    "await attcs.slew_icrs(ra=\"12 19 54.3488819446\", dec=\"-00 40 00.599569600\", target_name=\"etaVir\")"
   ]
  },
  {
   "cell_type": "code",
   "execution_count": null,
   "metadata": {},
   "outputs": [],
   "source": [
    "await attcs.atptg.cmd_stopTracking.start()"
   ]
  },
  {
   "cell_type": "code",
   "execution_count": null,
   "metadata": {},
   "outputs": [],
   "source": [
    "await attcs.enable(settings={\n",
    "    'ataos': \"tolerance\",\n",
    "    'atmcs': \"\",\n",
    "    'atptg': \"\",\n",
    "    'atpneumatics': \"\",\n",
    "    'athexapod': \"auxtel_201912_crazy.yaml\",\n",
    "    'atdome': \"test.yaml\",\n",
    "    'atdometrajectory': \"\"})"
   ]
  },
  {
   "cell_type": "code",
   "execution_count": null,
   "metadata": {},
   "outputs": [],
   "source": [
    "ref_pos=[-4.29999921322+550e-3, 1.19999866188-1200e-3, 0.50000155519-35e-3, 0.3500006508, 0.219999852315, -2.69867951921e-07]"
   ]
  },
  {
   "cell_type": "code",
   "execution_count": null,
   "metadata": {},
   "outputs": [],
   "source": [
    "await attcs.athexapod.cmd_moveToPosition.set_start(x=ref_pos[0], \n",
    "                                                   y=ref_pos[1], \n",
    "                                                   z=ref_pos[2], \n",
    "                                                   u=ref_pos[3], \n",
    "                                                   v=ref_pos[4], \n",
    "                                                   w=ref_pos[5], \n",
    "                                                   timeout=30.)"
   ]
  },
  {
   "cell_type": "code",
   "execution_count": null,
   "metadata": {},
   "outputs": [],
   "source": [
    "await attcs.atptg.cmd_offsetAzEl.set_start(az=-30., el=-55., num=0) # moving hexapod-X"
   ]
  },
  {
   "cell_type": "code",
   "execution_count": null,
   "metadata": {},
   "outputs": [],
   "source": [
    "await attcs.atptg.cmd_offsetAzEl.set_start(az=0., el=-5., num=0)"
   ]
  },
  {
   "cell_type": "code",
   "execution_count": null,
   "metadata": {},
   "outputs": [],
   "source": [
    "await attcs.ataos.cmd_enableCorrection.set_start(hexapod=True)"
   ]
  },
  {
   "cell_type": "code",
   "execution_count": null,
   "metadata": {},
   "outputs": [],
   "source": [
    "await attcs.atptg.cmd_offsetAzEl.set_start(az=20., el=-30., num=0)"
   ]
  },
  {
   "cell_type": "code",
   "execution_count": null,
   "metadata": {},
   "outputs": [],
   "source": [
    "await salobj.set_summary_state(attcs.athexapod, salobj.State.OFFLINE)"
   ]
  },
  {
   "cell_type": "code",
   "execution_count": null,
   "metadata": {},
   "outputs": [],
   "source": [
    "await salobj.set_summary_state(attcs.athexapod, salobj.State.ENABLED, settingsToApply=\"auxtel_201912_crazy.yaml\")"
   ]
  },
  {
   "cell_type": "code",
   "execution_count": null,
   "metadata": {},
   "outputs": [],
   "source": [
    "await attcs.athexapod.cmd_exitControl.start()"
   ]
  },
  {
   "cell_type": "code",
   "execution_count": null,
   "metadata": {},
   "outputs": [],
   "source": [
    "ref_pos=[-4.29999921322-50e-3, 1.19999866188-1200e-3, 0.50000155519-35e-3, 0.3500006508, 0.219999852315, -2.69867951921e-07]"
   ]
  },
  {
   "cell_type": "code",
   "execution_count": null,
   "metadata": {},
   "outputs": [],
   "source": [
    "await attcs.athexapod.cmd_moveToPosition.set_start(x=ref_pos[0]+0., \n",
    "                                                   y=ref_pos[1]+0., \n",
    "                                                   z=ref_pos[2], \n",
    "                                                   u=ref_pos[3], \n",
    "                                                   v=ref_pos[4], \n",
    "                                                   w=ref_pos[5], \n",
    "                                                   timeout=30.)"
   ]
  },
  {
   "cell_type": "code",
   "execution_count": null,
   "metadata": {},
   "outputs": [],
   "source": [
    "6*360/24."
   ]
  },
  {
   "cell_type": "code",
   "execution_count": null,
   "metadata": {},
   "outputs": [],
   "source": [
    "await attcs.atptg.cmd_pointNewFile.start()"
   ]
  },
  {
   "cell_type": "code",
   "execution_count": null,
   "metadata": {},
   "outputs": [],
   "source": [
    "await asyncio.sleep(2)\n",
    "attcs.check.atmcs=True\n",
    "await attcs.enable(settings={\n",
    "    'ataos': \"tolerance\",\n",
    "    'atmcs': \"\",\n",
    "    'atptg': \"\",\n",
    "    'atpneumatics': \"\",\n",
    "    'athexapod': \"auxtel_201912_crazy.yaml\",\n",
    "    'atdome': \"test.yaml\",\n",
    "    'atdometrajectory': \"\"})"
   ]
  },
  {
   "cell_type": "code",
   "execution_count": null,
   "metadata": {},
   "outputs": [],
   "source": [
    "await attcs.atptg.cmd_pointAddData.start()"
   ]
  },
  {
   "cell_type": "code",
   "execution_count": null,
   "metadata": {},
   "outputs": [],
   "source": []
  }
 ],
 "metadata": {
  "kernelspec": {
   "display_name": "Python 3",
   "language": "python",
   "name": "python3"
  },
  "language_info": {
   "codemirror_mode": {
    "name": "ipython",
    "version": 3
   },
   "file_extension": ".py",
   "mimetype": "text/x-python",
   "name": "python",
   "nbconvert_exporter": "python",
   "pygments_lexer": "ipython3",
   "version": "3.7.6"
  }
 },
 "nbformat": 4,
 "nbformat_minor": 4
}
