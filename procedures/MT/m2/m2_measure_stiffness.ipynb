{
 "cells": [
  {
   "cell_type": "markdown",
   "id": "79a6a8e7-051d-4fc3-a907-6134ba3679bc",
   "metadata": {},
   "source": [
    "# Measure the Stiffness Matrix\n",
    "\n",
    "This notebook is used to measure the stiffness matrix of M2 mirror or surrogate.\n",
    "The stiffness matrix is defined to be a 78 x 78 matrix that has the relationship between the actuator step and force.\n",
    "The procedure is to move the actuator under the open-loop control with a series of step movements.\n",
    "\n",
    "This test would need to use the telemetry binary file to support the data analysis to have the enough force data resolution.\n",
    "The telemetry data sent from the cell controller to CSC is truncated to save the bandwidth.\n",
    "Therefore, the data in EFD would not be able to evaluate the stiffness matrix."
   ]
  },
  {
   "cell_type": "markdown",
   "id": "ccc6a197-09af-4715-a825-1cd890ae9afc",
   "metadata": {},
   "source": [
    "## Import Modules"
   ]
  },
  {
   "cell_type": "code",
   "execution_count": null,
   "id": "dea245fa-73ce-482a-8380-7f830b9e172b",
   "metadata": {},
   "outputs": [],
   "source": [
    "import asyncio\n",
    "from datetime import datetime\n",
    "from lsst.ts import salobj\n",
    "from lsst.ts.m2com import NUM_ACTUATOR"
   ]
  },
  {
   "cell_type": "markdown",
   "id": "481bf59c-91a3-4fa5-955b-425608b28dd6",
   "metadata": {},
   "source": [
    "## Declaration of User-defined Functions"
   ]
  },
  {
   "cell_type": "code",
   "execution_count": null,
   "id": "f7e25cef-285b-42b7-b60a-19bc7d8038fa",
   "metadata": {},
   "outputs": [],
   "source": [
    "async def run_test(   \n",
    "    csc: salobj.Remote,\n",
    "    max_step: int,\n",
    "    num_times: int,\n",
    "    actuators: list[int] | None = None,\n",
    ") -> None:\n",
    "    \"\"\"Run the test.\n",
    "\n",
    "    Parameters\n",
    "    ----------\n",
    "    csc : `salobj.Remote`\n",
    "        M2 CSC.\n",
    "    max_step : `int`\n",
    "        Maximum step to move in each control cycle.\n",
    "    num_times : `int`\n",
    "        Number of the repeating times.\n",
    "    actuators : `list` or None, optional\n",
    "        0-based actuators. (the default is None)\n",
    "    \"\"\"\n",
    "\n",
    "    if actuators is None:\n",
    "        actuators = range(NUM_ACTUATOR)\n",
    "\n",
    "    steps = generate_steps(max_step, num_times)\n",
    "    for actuator in actuators:\n",
    "        print(f\"Run the {actuator=}\")\n",
    "        await move_actuators(csc, actuator, steps)"
   ]
  },
  {
   "cell_type": "code",
   "execution_count": null,
   "id": "3d0e0f2d-d648-4b87-baee-6aa69c46e7b0",
   "metadata": {},
   "outputs": [],
   "source": [
    "async def move_actuators(\n",
    "    csc: salobj.Remote,\n",
    "    actuator: int,\n",
    "    steps: list[int],\n",
    "    sleep_time: float = 0.5,\n",
    ") -> None:\n",
    "    \"\"\"Move the actuators.\n",
    "\n",
    "    Parameters\n",
    "    ----------\n",
    "    csc : `salobj.Remote`\n",
    "        M2 CSC.\n",
    "    actuator : `int`\n",
    "        0-based actuator ID to move.\n",
    "    steps : `list` [`int`]\n",
    "        Actuator steps.\n",
    "    sleep_time : `float`, optional\n",
    "        Sleep time between the movements. (the default is 0.5)\n",
    "    \"\"\"\n",
    "\n",
    "    for step in steps:\n",
    "        if step != 0:\n",
    "            await csc.cmd_moveActuator.set_start(actuator=actuator, step=step)\n",
    "\n",
    "        await asyncio.sleep(sleep_time)"
   ]
  },
  {
   "cell_type": "code",
   "execution_count": null,
   "id": "1842ae8f-6c7a-45fb-90d2-9341fc2c09a8",
   "metadata": {},
   "outputs": [],
   "source": [
    "def generate_steps(max_step: int, num_times: int) -> list[int]:\n",
    "    \"\"\"Generate the actuator steps.\n",
    "\n",
    "    Parameters\n",
    "    ----------\n",
    "    max_step : `int`\n",
    "        Maximum step to move in each control cycle. This value should be <= 30.\n",
    "    num_times : `int`\n",
    "        Number of repeating times.\n",
    "\n",
    "    Returns\n",
    "    -------\n",
    "    `list` [`int`]\n",
    "        Actuator steps.\n",
    "    \"\"\"\n",
    "\n",
    "    steps_forward = list()\n",
    "    for step in range(max_step + 1):\n",
    "        for _ in range(num_times):\n",
    "            steps_forward.append(step)\n",
    "\n",
    "    steps_backward = steps_forward.copy()\n",
    "    steps_backward.reverse()\n",
    "\n",
    "    steps_1 = steps_forward + steps_backward + negate_list(steps_forward) + negate_list(steps_backward)\n",
    "\n",
    "    steps_2 = steps_1.copy()\n",
    "    steps_2.reverse()\n",
    "\n",
    "    return steps_1 + steps_2"
   ]
  },
  {
   "cell_type": "code",
   "execution_count": null,
   "id": "481a58bd-327f-433d-9ec6-02a2a60107cc",
   "metadata": {},
   "outputs": [],
   "source": [
    "def negate_list(values: list) -> list:\n",
    "    \"\"\"Negate the list.\n",
    "\n",
    "    Parameters\n",
    "    ----------\n",
    "    values `list`\n",
    "        Values to negate.\n",
    "    \"\"\"\n",
    "    return [-value for value in values]"
   ]
  },
  {
   "cell_type": "markdown",
   "id": "ad032317-5515-4fe5-9917-090fc66f7f05",
   "metadata": {},
   "source": [
    "## Prepare the M2 CSC and Put to Enabled state"
   ]
  },
  {
   "cell_type": "code",
   "execution_count": null,
   "id": "ef699bc7-8813-4efc-8cc4-5258dd0273f3",
   "metadata": {},
   "outputs": [],
   "source": [
    "domain = salobj.Domain()\n",
    "m2 = salobj.Remote(domain, \"MTM2\")\n",
    "await m2.start_task\n",
    "await m2.cmd_setLogLevel.set_start(level=10)"
   ]
  },
  {
   "cell_type": "code",
   "execution_count": null,
   "id": "488e2656-8bff-4830-bd6a-54a57509508f",
   "metadata": {},
   "outputs": [],
   "source": [
    "state_m2 = m2.evt_summaryState.get()\n",
    "if state_m2.summaryState != salobj.State.ENABLED:\n",
    "    await salobj.set_summary_state(m2, salobj.State.ENABLED, timeout=60)"
   ]
  },
  {
   "cell_type": "markdown",
   "id": "44692862-1fd7-4070-84b4-c2558d98fcc6",
   "metadata": {},
   "source": [
    "## Measure the Stiffness Matrix"
   ]
  },
  {
   "cell_type": "code",
   "execution_count": null,
   "id": "fbc34a83-6061-49b4-9409-551c6ab8296f",
   "metadata": {},
   "outputs": [],
   "source": [
    "time_start = datetime.now()\n",
    "print(f\"UTC time to is {time_start} now.\")"
   ]
  },
  {
   "cell_type": "code",
   "execution_count": null,
   "id": "df7dbdf0-457c-4f7a-b746-889621a1371b",
   "metadata": {},
   "outputs": [],
   "source": [
    "# Trinsition to the open-loop control first\n",
    "await m2.cmd_switchForceBalanceSystem.set_start(status=False)"
   ]
  },
  {
   "cell_type": "code",
   "execution_count": null,
   "id": "ca88e810-9d8b-4f71-9ee5-585f1be7b431",
   "metadata": {},
   "outputs": [],
   "source": [
    "# Move the actuators in the open-loop control\n",
    "max_step = 12\n",
    "num_times = 2\n",
    "\n",
    "await run_test(m2, max_step, num_times, actuators=None)"
   ]
  },
  {
   "cell_type": "code",
   "execution_count": null,
   "id": "654fe875-cced-4d07-8c0d-7d9b738c1543",
   "metadata": {},
   "outputs": [],
   "source": [
    "# Trinsition back to the closed-loop control\n",
    "await m2.cmd_switchForceBalanceSystem.set_start(status=True)"
   ]
  },
  {
   "cell_type": "code",
   "execution_count": null,
   "id": "22a64d88-0f00-4cd1-9184-7c1950b26e9d",
   "metadata": {},
   "outputs": [],
   "source": []
  },
  {
   "cell_type": "code",
   "execution_count": null,
   "id": "f23c3bf5-8984-4d38-99ab-e77f2af59675",
   "metadata": {},
   "outputs": [],
   "source": []
  }
 ],
 "metadata": {
  "kernelspec": {
   "display_name": "LSST",
   "language": "python",
   "name": "lsst"
  },
  "language_info": {
   "codemirror_mode": {
    "name": "ipython",
    "version": 3
   },
   "file_extension": ".py",
   "mimetype": "text/x-python",
   "name": "python",
   "nbconvert_exporter": "python",
   "pygments_lexer": "ipython3",
   "version": "3.11.6"
  }
 },
 "nbformat": 4,
 "nbformat_minor": 5
}
