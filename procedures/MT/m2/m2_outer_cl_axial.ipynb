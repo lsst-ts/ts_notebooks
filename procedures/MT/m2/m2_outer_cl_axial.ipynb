{
 "cells": [
  {
   "cell_type": "markdown",
   "id": "d6ff33ef-591f-4da7-b957-1ead52e9ff6f",
   "metadata": {},
   "source": [
    "# M2 outer control loop axial actuators\n",
    "\n",
    "This Jupyter notebook is to run the outer control loopouter control loop of M2 axial actuators.\n",
    "Each axial actuator will be issued with a three forces (20, 50, 100) with pull/push movementall together."
   ]
  },
  {
   "cell_type": "markdown",
   "id": "96c70ef4-1d6c-480d-bd6d-f96a977c2f2a",
   "metadata": {},
   "source": [
    "## Import Modules"
   ]
  },
  {
   "cell_type": "code",
   "execution_count": 42,
   "id": "e06db634-83dd-4a0d-ba1b-d6a4eaa3faa6",
   "metadata": {
    "execution": {
     "iopub.execute_input": "2023-06-01T19:04:58.726550Z",
     "iopub.status.busy": "2023-06-01T19:04:58.725891Z",
     "iopub.status.idle": "2023-06-01T19:04:58.730699Z",
     "shell.execute_reply": "2023-06-01T19:04:58.730114Z",
     "shell.execute_reply.started": "2023-06-01T19:04:58.726512Z"
    },
    "tags": []
   },
   "outputs": [],
   "source": [
    "import asyncio\n",
    "from datetime import datetime\n",
    "from lsst.ts import salobj\n",
    "from lsst.ts.m2com import NUM_ACTUATOR, NUM_TANGENT_LINK"
   ]
  },
  {
   "cell_type": "markdown",
   "id": "ec65b561-487c-43c6-942d-f9507179de71",
   "metadata": {},
   "source": [
    "## Declaration of User-defined Functions"
   ]
  },
  {
   "cell_type": "code",
   "execution_count": 43,
   "id": "25cdec12-3ebf-40cf-9682-cd881be9cd52",
   "metadata": {
    "execution": {
     "iopub.execute_input": "2023-06-01T19:05:03.958848Z",
     "iopub.status.busy": "2023-06-01T19:05:03.958337Z",
     "iopub.status.idle": "2023-06-01T19:05:03.964805Z",
     "shell.execute_reply": "2023-06-01T19:05:03.964123Z",
     "shell.execute_reply.started": "2023-06-01T19:05:03.958814Z"
    },
    "tags": []
   },
   "outputs": [],
   "source": [
    "async def injectForce_axial_actuator(csc, actuators, force, sleep_time=5):\n",
    "    \"\"\"injectForce for the axial actuators.\n",
    "    \n",
    "    Parameters\n",
    "    ----------\n",
    "    csc : lsst.ts.salobj.remote.Remote\n",
    "        Remote object of the M2 CSC.\n",
    "    actuators : list of actuators.\n",
    "    force : list of forces\n",
    "        Force to apply (Newton).\n",
    "    sleep_time : float, optional\n",
    "        Sleep time. (the default is 5.0)\n",
    "    \"\"\"\n",
    "\n",
    "    # Do the positive direction first\n",
    "    num_axial_actuator = NUM_ACTUATOR - NUM_TANGENT_LINK\n",
    "    forces = [0.] * num_axial_actuator\n",
    "    \n",
    "    for idx in range(len(actuators)):\n",
    "        index = actuators[idx]\n",
    "        forces[index] = force\n",
    "    await csc.cmd_applyForces.set_start(axial=forces)\n",
    "    print(f\"Apply the force: {abs(force)} N to all axial actuator\")   \n",
    "    await asyncio.sleep(sleep_time)"
   ]
  },
  {
   "cell_type": "code",
   "execution_count": 44,
   "id": "29fbdc49-f583-4e35-987f-384c816d149d",
   "metadata": {
    "execution": {
     "iopub.execute_input": "2023-06-01T19:05:07.845388Z",
     "iopub.status.busy": "2023-06-01T19:05:07.844981Z",
     "iopub.status.idle": "2023-06-01T19:05:07.862566Z",
     "shell.execute_reply": "2023-06-01T19:05:07.861494Z",
     "shell.execute_reply.started": "2023-06-01T19:05:07.845355Z"
    },
    "tags": []
   },
   "outputs": [],
   "source": [
    "async def run_ol_axial_test(csc, force, sleep_time=5.0):\n",
    "    \"\"\"M2 outer control loop for all actuators.\n",
    "\n",
    "    Parameters\n",
    "    ----------\n",
    "    csc : lsst.ts.salobj.remote.Remote\n",
    "        Remote object of the M2 CSC.\n",
    "    force : float\n",
    "        Force to apply (Newton).\n",
    "    sleep_time : float, optional\n",
    "        Sleep time. (the default is 5.0)\n",
    "    \"\"\"\n",
    "\n",
    "    # Print the information of inclinometer\n",
    "    zenithAngle = csc.tel_zenithAngle.get()\n",
    "    print(f\"Measured zenith angle: {zenithAngle.measured:0.2f} degree.\")\n",
    "    print(f\"Raw inclinometer angle: {zenithAngle.inclinometerRaw:0.2f} degree.\")\n",
    "    print(f\"Processed inclinometer angle: {zenithAngle.inclinometerProcessed:0.2f} degree.\")\n",
    "\n",
    "    n_act = NUM_ACTUATOR - NUM_TANGENT_LINK\n",
    "    actuators = [0] * n_act\n",
    "    for idx in range(n_act):\n",
    "        actuators[idx] = idx\n",
    "    \n",
    "    print(f\"Do the  ol test to all actuator: WITH force {force}\")\n",
    "    await injectForce_axial_actuator(csc, actuators, force, sleep_time=sleep_time)\n",
    "\n",
    "    print(\"Put to zero all the actuators\")\n",
    "    await m2.cmd_resetForceOffsets.set_start()\n",
    "    await asyncio.sleep(sleep_time)\n",
    "    \n",
    "    print(f\"Do the  ol test to all actuator: with force {-force}\")\n",
    "    await injectForce_axial_actuator(csc, actuators, -force, sleep_time=sleep_time)\n",
    "    \n",
    "    print(\"Put to zero all the actuators\")\n",
    "    await m2.cmd_resetForceOffsets.set_start()\n",
    "    await asyncio.sleep(sleep_time)    "
   ]
  },
  {
   "cell_type": "markdown",
   "id": "f7b01576-78ed-4982-b0dc-c9436ef1a4b4",
   "metadata": {},
   "source": [
    "## Prepare the M2 CSC and put to Enabled state"
   ]
  },
  {
   "cell_type": "code",
   "execution_count": 45,
   "id": "146c08d7-48a0-4d41-b512-419bb6bb87d0",
   "metadata": {
    "execution": {
     "iopub.execute_input": "2023-06-01T19:05:11.039889Z",
     "iopub.status.busy": "2023-06-01T19:05:11.039278Z",
     "iopub.status.idle": "2023-06-01T19:05:11.348317Z",
     "shell.execute_reply": "2023-06-01T19:05:11.347533Z",
     "shell.execute_reply.started": "2023-06-01T19:05:11.039852Z"
    },
    "tags": []
   },
   "outputs": [
    {
     "data": {
      "text/html": [
       "<pre style=\"margin: 0.1em;\n",
       "padding-left: 0.25em;\n",
       "border-left-style: solid;\n",
       "font-family: var(--jp-code-font-family);\n",
       "font-size: var(--jp-code-font-size);\n",
       "line-height: var(--jp-code-line-height);\n",
       "\"><span style=\"color: var(--jp-warn-color2)\">MTM2</span> <span style=\"color: var(--jp-info-color0)\">INFO</span>: Disabling authlist-based command authorization</pre>"
      ],
      "text/plain": [
       "<IPython.core.display.HTML object>"
      ]
     },
     "metadata": {},
     "output_type": "display_data"
    },
    {
     "data": {
      "text/html": [
       "<pre style=\"margin: 0.1em;\n",
       "padding-left: 0.25em;\n",
       "border-left-style: solid;\n",
       "font-family: var(--jp-code-font-family);\n",
       "font-size: var(--jp-code-font-size);\n",
       "line-height: var(--jp-code-line-height);\n",
       "\"><span style=\"color: var(--jp-warn-color2)\">MTM2</span> <span style=\"color: var(--jp-info-color0)\">INFO</span>: Read historical data in 0.03 sec</pre>"
      ],
      "text/plain": [
       "<IPython.core.display.HTML object>"
      ]
     },
     "metadata": {},
     "output_type": "display_data"
    },
    {
     "data": {
      "text/plain": [
       "<ddsutil.MTM2_ackcmd_b60441f4 at 0x7f7b76955420>"
      ]
     },
     "execution_count": 45,
     "metadata": {},
     "output_type": "execute_result"
    }
   ],
   "source": [
    "domain = salobj.Domain()\n",
    "m2 = salobj.Remote(domain, \"MTM2\")\n",
    "await m2.start_task\n",
    "await m2.cmd_setLogLevel.set_start(level=10)"
   ]
  },
  {
   "cell_type": "code",
   "execution_count": 46,
   "id": "fffd6ad9-6f0f-40c3-b00a-3655bf5a6a1c",
   "metadata": {
    "execution": {
     "iopub.execute_input": "2023-06-01T19:05:13.829617Z",
     "iopub.status.busy": "2023-06-01T19:05:13.829065Z",
     "iopub.status.idle": "2023-06-01T19:05:13.834142Z",
     "shell.execute_reply": "2023-06-01T19:05:13.833522Z",
     "shell.execute_reply.started": "2023-06-01T19:05:13.829583Z"
    },
    "tags": []
   },
   "outputs": [],
   "source": [
    "state_m2 = m2.evt_summaryState.get()\n",
    "if state_m2.summaryState != salobj.State.ENABLED:\n",
    "    await salobj.set_summary_state(m2, salobj.State.ENABLED, timeout=10)"
   ]
  },
  {
   "cell_type": "code",
   "execution_count": null,
   "id": "21bc7beb-fe40-4519-9cee-d825fe7052e9",
   "metadata": {},
   "outputs": [],
   "source": [
    "\"\"\"    \n",
    "DISABLED = 1\n",
    "ENABLED = 2\n",
    "FAULT = 3\n",
    "OFFLINE = 4\n",
    "STANDBY = 5\n",
    "\n",
    "Standby  -->  Disable  -->  Enabled\n",
    "\n",
    "await m2.cmd_start.set_start(timeout=30)\n",
    "await m2.cmd_enable.set_start(timeout=200)\n",
    "\n",
    "3) To Stop, do this:    Enabled  -->  Disable  -->  Standby\n",
    "\n",
    "await m2.cmd_disable.set_start(timeout=30)\n",
    "await m2.cmd_standby.set_start(timeout=30) \"\"\" "
   ]
  },
  {
   "cell_type": "code",
   "execution_count": 47,
   "id": "ada85e83-69aa-49df-bce1-0162bb98511a",
   "metadata": {
    "execution": {
     "iopub.execute_input": "2023-06-01T19:05:18.850711Z",
     "iopub.status.busy": "2023-06-01T19:05:18.849693Z",
     "iopub.status.idle": "2023-06-01T19:05:18.855645Z",
     "shell.execute_reply": "2023-06-01T19:05:18.854856Z",
     "shell.execute_reply.started": "2023-06-01T19:05:18.850678Z"
    }
   },
   "outputs": [
    {
     "name": "stdout",
     "output_type": "stream",
     "text": [
      "private_revCode: 0ebebdcc, private_sndStamp: 1685461101.9617786, private_rcvStamp: 1685646348.1978137, private_seqNum: 31, private_identity: MTM2, private_origin: 11350, summaryState: 2\n"
     ]
    }
   ],
   "source": [
    "# get status\n",
    "state = m2.evt_summaryState.get()\n",
    "print(state)"
   ]
  },
  {
   "cell_type": "code",
   "execution_count": null,
   "id": "6eddca7f-eac6-4c55-b226-acf651db9a85",
   "metadata": {},
   "outputs": [],
   "source": [
    "# Standby  -->  Disable\n",
    "await m2.cmd_start.set_start(timeout=30)"
   ]
  },
  {
   "cell_type": "code",
   "execution_count": null,
   "id": "5891bd26-88f1-4b03-85a9-6b43d3930d5a",
   "metadata": {},
   "outputs": [],
   "source": [
    "# Disable  -->  Enabled\n",
    "await m2.cmd_enable.set_start(timeout=200)"
   ]
  },
  {
   "cell_type": "code",
   "execution_count": null,
   "id": "5b9e684e-7852-4231-aed0-12962aaafc78",
   "metadata": {},
   "outputs": [],
   "source": [
    "# Enabled  -->  Disable\n",
    "await m2.cmd_disable.set_start(timeout=30)"
   ]
  },
  {
   "cell_type": "code",
   "execution_count": null,
   "id": "77941dcb-2bec-4694-98b1-89605f4463de",
   "metadata": {},
   "outputs": [],
   "source": [
    "#Disable  -->  Standby\n",
    "await m2.cmd_standby.set_start(timeout=30)"
   ]
  },
  {
   "cell_type": "code",
   "execution_count": null,
   "id": "3f6e6003-ef11-4451-8a2c-39471ded66d4",
   "metadata": {},
   "outputs": [],
   "source": [
    "#Fault --> Standby\n",
    "await m2.cmd_standby.set_start(timeout=30)"
   ]
  },
  {
   "cell_type": "markdown",
   "id": "5961eb58-cbbb-48b6-bdc7-e6518faebb3a",
   "metadata": {},
   "source": [
    "## Do the Oouter Loop Test"
   ]
  },
  {
   "cell_type": "code",
   "execution_count": 48,
   "id": "87537214-5f5f-4f41-aadf-0cb26df49b1f",
   "metadata": {
    "execution": {
     "iopub.execute_input": "2023-06-01T19:05:22.247143Z",
     "iopub.status.busy": "2023-06-01T19:05:22.246585Z",
     "iopub.status.idle": "2023-06-01T19:05:22.252134Z",
     "shell.execute_reply": "2023-06-01T19:05:22.251480Z",
     "shell.execute_reply.started": "2023-06-01T19:05:22.247111Z"
    },
    "tags": []
   },
   "outputs": [
    {
     "name": "stdout",
     "output_type": "stream",
     "text": [
      "UTC time to is 2023-06-01 19:05:22.248546 now.\n"
     ]
    }
   ],
   "source": [
    "time_start = datetime.now()\n",
    "print(f\"UTC time to is {time_start} now.\")"
   ]
  },
  {
   "cell_type": "code",
   "execution_count": 49,
   "id": "8a9380fb-5c00-422e-9aae-32793598caab",
   "metadata": {
    "execution": {
     "iopub.execute_input": "2023-06-01T19:05:29.013042Z",
     "iopub.status.busy": "2023-06-01T19:05:29.012513Z",
     "iopub.status.idle": "2023-06-01T19:09:33.238757Z",
     "shell.execute_reply": "2023-06-01T19:09:33.237751Z",
     "shell.execute_reply.started": "2023-06-01T19:05:29.013008Z"
    },
    "tags": []
   },
   "outputs": [
    {
     "name": "stdout",
     "output_type": "stream",
     "text": [
      "Measured zenith angle: -0.03 degree.\n",
      "Raw inclinometer angle: 90.03 degree.\n",
      "Processed inclinometer angle: 89.03 degree.\n",
      "Do the  ol test to all actuator: WITH force 20\n",
      "Apply the force: 20 N to all axial actuator\n",
      "Put to zero all the actuators\n",
      "Do the  ol test to all actuator: with force -20\n",
      "Apply the force: 20 N to all axial actuator\n",
      "Put to zero all the actuators\n",
      "Measured zenith angle: -0.01 degree.\n",
      "Raw inclinometer angle: 90.01 degree.\n",
      "Processed inclinometer angle: 89.05 degree.\n",
      "Do the  ol test to all actuator: WITH force 50\n",
      "Apply the force: 50 N to all axial actuator\n",
      "Put to zero all the actuators\n",
      "Do the  ol test to all actuator: with force -50\n",
      "Apply the force: 50 N to all axial actuator\n",
      "Put to zero all the actuators\n",
      "Measured zenith angle: -0.01 degree.\n",
      "Raw inclinometer angle: 90.01 degree.\n",
      "Processed inclinometer angle: 89.05 degree.\n",
      "Do the  ol test to all actuator: WITH force 100\n"
     ]
    },
    {
     "ename": "AckError",
     "evalue": "msg='Command failed', ackcmd=(ackcmd private_seqNum=16965979, ack=<SalRetCode.CMD_FAILED: -302>, error=1, result='Failed: Max axial force (485.39 N) >= 444.82 N.')",
     "output_type": "error",
     "traceback": [
      "\u001b[0;31m---------------------------------------------------------------------------\u001b[0m",
      "\u001b[0;31mAckError\u001b[0m                                  Traceback (most recent call last)",
      "Input \u001b[0;32mIn [49]\u001b[0m, in \u001b[0;36m<cell line: 8>\u001b[0;34m()\u001b[0m\n\u001b[1;32m      5\u001b[0m \u001b[38;5;28;01mawait\u001b[39;00m run_ol_axial_test(m2, force, sleep_time\u001b[38;5;241m=\u001b[39m\u001b[38;5;241m30\u001b[39m)\n\u001b[1;32m      7\u001b[0m force \u001b[38;5;241m=\u001b[39m \u001b[38;5;241m100\u001b[39m\n\u001b[0;32m----> 8\u001b[0m \u001b[38;5;28;01mawait\u001b[39;00m run_ol_axial_test(m2, force, sleep_time\u001b[38;5;241m=\u001b[39m\u001b[38;5;241m30\u001b[39m)\n\u001b[1;32m     10\u001b[0m \u001b[38;5;28mprint\u001b[39m(\u001b[38;5;124m\"\u001b[39m\u001b[38;5;124mTest terminated\u001b[39m\u001b[38;5;124m\"\u001b[39m)\n",
      "Input \u001b[0;32mIn [44]\u001b[0m, in \u001b[0;36mrun_ol_axial_test\u001b[0;34m(csc, force, sleep_time)\u001b[0m\n\u001b[1;32m     23\u001b[0m     actuators[idx] \u001b[38;5;241m=\u001b[39m idx\n\u001b[1;32m     25\u001b[0m \u001b[38;5;28mprint\u001b[39m(\u001b[38;5;124mf\u001b[39m\u001b[38;5;124m\"\u001b[39m\u001b[38;5;124mDo the  ol test to all actuator: WITH force \u001b[39m\u001b[38;5;132;01m{\u001b[39;00mforce\u001b[38;5;132;01m}\u001b[39;00m\u001b[38;5;124m\"\u001b[39m)\n\u001b[0;32m---> 26\u001b[0m \u001b[38;5;28;01mawait\u001b[39;00m injectForce_axial_actuator(csc, actuators, force, sleep_time\u001b[38;5;241m=\u001b[39msleep_time)\n\u001b[1;32m     28\u001b[0m \u001b[38;5;28mprint\u001b[39m(\u001b[38;5;124m\"\u001b[39m\u001b[38;5;124mPut to zero all the actuators\u001b[39m\u001b[38;5;124m\"\u001b[39m)\n\u001b[1;32m     29\u001b[0m \u001b[38;5;28;01mawait\u001b[39;00m m2\u001b[38;5;241m.\u001b[39mcmd_resetForceOffsets\u001b[38;5;241m.\u001b[39mset_start()\n",
      "Input \u001b[0;32mIn [43]\u001b[0m, in \u001b[0;36minjectForce_axial_actuator\u001b[0;34m(csc, actuators, force, sleep_time)\u001b[0m\n\u001b[1;32m     20\u001b[0m     index \u001b[38;5;241m=\u001b[39m actuators[idx]\n\u001b[1;32m     21\u001b[0m     forces[index] \u001b[38;5;241m=\u001b[39m force\n\u001b[0;32m---> 22\u001b[0m \u001b[38;5;28;01mawait\u001b[39;00m csc\u001b[38;5;241m.\u001b[39mcmd_applyForces\u001b[38;5;241m.\u001b[39mset_start(axial\u001b[38;5;241m=\u001b[39mforces)\n\u001b[1;32m     23\u001b[0m \u001b[38;5;28mprint\u001b[39m(\u001b[38;5;124mf\u001b[39m\u001b[38;5;124m\"\u001b[39m\u001b[38;5;124mApply the force: \u001b[39m\u001b[38;5;132;01m{\u001b[39;00m\u001b[38;5;28mabs\u001b[39m(force)\u001b[38;5;132;01m}\u001b[39;00m\u001b[38;5;124m N to all axial actuator\u001b[39m\u001b[38;5;124m\"\u001b[39m)   \n\u001b[1;32m     24\u001b[0m \u001b[38;5;28;01mawait\u001b[39;00m asyncio\u001b[38;5;241m.\u001b[39msleep(sleep_time)\n",
      "File \u001b[0;32m/opt/lsst/software/stack/conda/miniconda3-py38_4.9.2/envs/lsst-scipipe-6.0.0/lib/python3.10/site-packages/lsst/ts/salobj/topics/remote_command.py:414\u001b[0m, in \u001b[0;36mRemoteCommand.set_start\u001b[0;34m(self, timeout, wait_done, **kwargs)\u001b[0m\n\u001b[1;32m    373\u001b[0m \u001b[38;5;250m\u001b[39m\u001b[38;5;124;03m\"\"\"Create a new ``self.data``, set zero or more fields,\u001b[39;00m\n\u001b[1;32m    374\u001b[0m \u001b[38;5;124;03mand start the command.\u001b[39;00m\n\u001b[1;32m    375\u001b[0m \n\u001b[0;32m   (...)\u001b[0m\n\u001b[1;32m    411\u001b[0m \u001b[38;5;124;03m    If ``data`` is not None and not an instance of `DataType`.\u001b[39;00m\n\u001b[1;32m    412\u001b[0m \u001b[38;5;124;03m\"\"\"\u001b[39;00m\n\u001b[1;32m    413\u001b[0m \u001b[38;5;28mself\u001b[39m\u001b[38;5;241m.\u001b[39mset(\u001b[38;5;241m*\u001b[39m\u001b[38;5;241m*\u001b[39mkwargs)\n\u001b[0;32m--> 414\u001b[0m \u001b[38;5;28;01mreturn\u001b[39;00m \u001b[38;5;28;01mawait\u001b[39;00m \u001b[38;5;28mself\u001b[39m\u001b[38;5;241m.\u001b[39mstart(timeout\u001b[38;5;241m=\u001b[39mtimeout, wait_done\u001b[38;5;241m=\u001b[39mwait_done)\n",
      "File \u001b[0;32m/opt/lsst/software/stack/conda/miniconda3-py38_4.9.2/envs/lsst-scipipe-6.0.0/lib/python3.10/site-packages/lsst/ts/salobj/topics/remote_command.py:485\u001b[0m, in \u001b[0;36mRemoteCommand.start\u001b[0;34m(self, data, timeout, wait_done)\u001b[0m\n\u001b[1;32m    482\u001b[0m \u001b[38;5;28;01mfinally\u001b[39;00m:\n\u001b[1;32m    483\u001b[0m     \u001b[38;5;28mself\u001b[39m\u001b[38;5;241m.\u001b[39m_in_start \u001b[38;5;241m=\u001b[39m \u001b[38;5;28;01mFalse\u001b[39;00m\n\u001b[0;32m--> 485\u001b[0m \u001b[38;5;28;01mreturn\u001b[39;00m \u001b[38;5;28;01mawait\u001b[39;00m cmd_info\u001b[38;5;241m.\u001b[39mnext_ackcmd(timeout\u001b[38;5;241m=\u001b[39mtimeout)\n",
      "File \u001b[0;32m/opt/lsst/software/stack/conda/miniconda3-py38_4.9.2/envs/lsst-scipipe-6.0.0/lib/python3.10/site-packages/lsst/ts/salobj/topics/remote_command.py:191\u001b[0m, in \u001b[0;36mCommandInfo.next_ackcmd\u001b[0;34m(self, timeout)\u001b[0m\n\u001b[1;32m    189\u001b[0m     ackcmd \u001b[38;5;241m=\u001b[39m \u001b[38;5;28;01mawait\u001b[39;00m \u001b[38;5;28mself\u001b[39m\u001b[38;5;241m.\u001b[39m_wait_task\n\u001b[1;32m    190\u001b[0m     \u001b[38;5;28;01mif\u001b[39;00m ackcmd\u001b[38;5;241m.\u001b[39mack \u001b[38;5;129;01min\u001b[39;00m \u001b[38;5;28mself\u001b[39m\u001b[38;5;241m.\u001b[39mfailed_ack_codes:\n\u001b[0;32m--> 191\u001b[0m         \u001b[38;5;28;01mraise\u001b[39;00m base\u001b[38;5;241m.\u001b[39mAckError(msg\u001b[38;5;241m=\u001b[39m\u001b[38;5;124m\"\u001b[39m\u001b[38;5;124mCommand failed\u001b[39m\u001b[38;5;124m\"\u001b[39m, ackcmd\u001b[38;5;241m=\u001b[39mackcmd)\n\u001b[1;32m    192\u001b[0m     \u001b[38;5;28;01mreturn\u001b[39;00m ackcmd\n\u001b[1;32m    193\u001b[0m \u001b[38;5;28;01mexcept\u001b[39;00m asyncio\u001b[38;5;241m.\u001b[39mTimeoutError:\n",
      "\u001b[0;31mAckError\u001b[0m: msg='Command failed', ackcmd=(ackcmd private_seqNum=16965979, ack=<SalRetCode.CMD_FAILED: -302>, error=1, result='Failed: Max axial force (485.39 N) >= 444.82 N.')"
     ]
    }
   ],
   "source": [
    "force = 20\n",
    "await run_ol_axial_test(m2, force, sleep_time=30)\n",
    "\n",
    "force = 50\n",
    "await run_ol_axial_test(m2, force, sleep_time=30)\n",
    "\n",
    "force = 100\n",
    "await run_ol_axial_test(m2, force, sleep_time=30)\n",
    "\n",
    "print(\"Test terminated\")"
   ]
  },
  {
   "cell_type": "code",
   "execution_count": null,
   "id": "276a342e-24ec-428b-9bd1-cc0d9d83b6e7",
   "metadata": {},
   "outputs": [],
   "source": []
  }
 ],
 "metadata": {
  "kernelspec": {
   "display_name": "LSST",
   "language": "python",
   "name": "lsst"
  },
  "language_info": {
   "codemirror_mode": {
    "name": "ipython",
    "version": 3
   },
   "file_extension": ".py",
   "mimetype": "text/x-python",
   "name": "python",
   "nbconvert_exporter": "python",
   "pygments_lexer": "ipython3",
   "version": "3.10.10"
  }
 },
 "nbformat": 4,
 "nbformat_minor": 5
}
