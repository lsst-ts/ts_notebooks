{
 "cells": [
  {
   "cell_type": "markdown",
   "id": "d6ff33ef-591f-4da7-b957-1ead52e9ff6f",
   "metadata": {},
   "source": [
    "# M2 outer control loop tangential actuators\n",
    "\n",
    "This Jupyter notebook is to run the outer control loopouter control loop of M2 tangetial actuators.\n",
    "Each axial actuator will be issued with a three forces (20, 50, 100) with pull/push movementall together."
   ]
  },
  {
   "cell_type": "markdown",
   "id": "96c70ef4-1d6c-480d-bd6d-f96a977c2f2a",
   "metadata": {},
   "source": [
    "## Import Modules"
   ]
  },
  {
   "cell_type": "code",
   "execution_count": 1,
   "id": "e06db634-83dd-4a0d-ba1b-d6a4eaa3faa6",
   "metadata": {
    "execution": {
     "iopub.execute_input": "2023-06-01T14:48:08.918447Z",
     "iopub.status.busy": "2023-06-01T14:48:08.917121Z",
     "iopub.status.idle": "2023-06-01T14:48:09.271099Z",
     "shell.execute_reply": "2023-06-01T14:48:09.270205Z",
     "shell.execute_reply.started": "2023-06-01T14:48:08.918385Z"
    },
    "tags": []
   },
   "outputs": [
    {
     "data": {
      "text/html": [
       "<pre style=\"margin: 0.1em;\n",
       "padding-left: 0.25em;\n",
       "border-left-style: solid;\n",
       "font-family: var(--jp-code-font-family);\n",
       "font-size: var(--jp-code-font-size);\n",
       "line-height: var(--jp-code-line-height);\n",
       "\"><span style=\"color: var(--jp-warn-color2)\">lsst.ts.utils.tai</span> <span style=\"color: var(--jp-info-color0)\">INFO</span>: Update leap second table</pre>"
      ],
      "text/plain": [
       "<IPython.core.display.HTML object>"
      ]
     },
     "metadata": {},
     "output_type": "display_data"
    },
    {
     "data": {
      "text/html": [
       "<pre style=\"margin: 0.1em;\n",
       "padding-left: 0.25em;\n",
       "border-left-style: solid;\n",
       "font-family: var(--jp-code-font-family);\n",
       "font-size: var(--jp-code-font-size);\n",
       "line-height: var(--jp-code-line-height);\n",
       "\"><span style=\"color: var(--jp-warn-color2)\">lsst.ts.utils.tai</span> <span style=\"color: var(--jp-info-color0)\">INFO</span>: current_tai uses the system TAI clock</pre>"
      ],
      "text/plain": [
       "<IPython.core.display.HTML object>"
      ]
     },
     "metadata": {},
     "output_type": "display_data"
    }
   ],
   "source": [
    "import asyncio\n",
    "from datetime import datetime\n",
    "from lsst.ts import salobj\n",
    "from lsst.ts.m2com import NUM_ACTUATOR, NUM_TANGENT_LINK"
   ]
  },
  {
   "cell_type": "markdown",
   "id": "ec65b561-487c-43c6-942d-f9507179de71",
   "metadata": {},
   "source": [
    "## Declaration of User-defined Functions"
   ]
  },
  {
   "cell_type": "code",
   "execution_count": 14,
   "id": "25cdec12-3ebf-40cf-9682-cd881be9cd52",
   "metadata": {
    "execution": {
     "iopub.execute_input": "2023-06-01T15:00:24.820881Z",
     "iopub.status.busy": "2023-06-01T15:00:24.820287Z",
     "iopub.status.idle": "2023-06-01T15:00:24.826280Z",
     "shell.execute_reply": "2023-06-01T15:00:24.825426Z",
     "shell.execute_reply.started": "2023-06-01T15:00:24.820844Z"
    },
    "tags": []
   },
   "outputs": [],
   "source": [
    "async def injectForce_tangent_actuator(csc, actuators, force, sleep_time=5):\n",
    "    \"\"\"injectForce for the axial actuators.\n",
    "    \n",
    "    Parameters\n",
    "    ----------\n",
    "    csc : lsst.ts.salobj.remote.Remote\n",
    "        Remote object of the M2 CSC.\n",
    "    actuators : list of actuators.\n",
    "    force : list of forces\n",
    "        Force to apply (Newton).\n",
    "    sleep_time : float, optional\n",
    "        Sleep time. (the default is 5.0)\n",
    "    \"\"\"\n",
    "\n",
    "    # Do the positive direction first\n",
    "    forces = [0.] * NUM_TANGENT_LINK\n",
    "    \n",
    "    for idx in range(len(actuators)):\n",
    "        index = actuators[idx]\n",
    "        forces[index] = force\n",
    "    print(f\"Apply the forces: {forces}\")  \n",
    "    await csc.cmd_applyForces.set_start(tangent=forces)\n",
    "    #print(f\"Apply the force: {abs(force)} N to all tangent actuator\")   \n",
    "    await asyncio.sleep(sleep_time)"
   ]
  },
  {
   "cell_type": "code",
   "execution_count": 15,
   "id": "29fbdc49-f583-4e35-987f-384c816d149d",
   "metadata": {
    "execution": {
     "iopub.execute_input": "2023-06-01T15:00:26.173232Z",
     "iopub.status.busy": "2023-06-01T15:00:26.172721Z",
     "iopub.status.idle": "2023-06-01T15:00:26.182416Z",
     "shell.execute_reply": "2023-06-01T15:00:26.181613Z",
     "shell.execute_reply.started": "2023-06-01T15:00:26.173205Z"
    },
    "tags": []
   },
   "outputs": [],
   "source": [
    "async def run_ol_tangent_test(csc, force, sleep_time=5.0):\n",
    "    \"\"\"M2 outer control loop for all actuators.\n",
    "\n",
    "    Parameters\n",
    "    ----------\n",
    "    csc : lsst.ts.salobj.remote.Remote\n",
    "        Remote object of the M2 CSC.\n",
    "    force : float\n",
    "        Force to apply (Newton).\n",
    "    sleep_time : float, optional\n",
    "        Sleep time. (the default is 5.0)\n",
    "    \"\"\"\n",
    "\n",
    "    # Print the information of inclinometer\n",
    "    zenithAngle = csc.tel_zenithAngle.get()\n",
    "    print(f\"Measured zenith angle: {zenithAngle.measured:0.2f} degree.\")\n",
    "    print(f\"Raw inclinometer angle: {zenithAngle.inclinometerRaw:0.2f} degree.\")\n",
    "    print(f\"Processed inclinometer angle: {zenithAngle.inclinometerProcessed:0.2f} degree.\")\n",
    "\n",
    "    n_act = NUM_TANGENT_LINK\n",
    "    actuators = [0] * n_act\n",
    "    for idx in range(n_act):\n",
    "        actuators[idx] = idx\n",
    "        \n",
    "    print(f\"actuators : {actuators}\")\n",
    "    \n",
    "    print(f\"Do the  ol test to all tangential actuator: with force {force}\")\n",
    "    await injectForce_tangent_actuator(csc, actuators, force, sleep_time=sleep_time)\n",
    "\n",
    "    print(\"Put to zero all tangential the actuators\")\n",
    "    await m2.cmd_resetForceOffsets.set_start()\n",
    "    await asyncio.sleep(sleep_time)\n",
    "    \n",
    "    print(f\"Do the  ol test to all tangential actuator: with force {-force}\")\n",
    "    await injectForce_tangent_actuator(csc, actuators, -force, sleep_time=sleep_time)\n",
    "    \n",
    "    print(\"Put to zero all the actuators\")\n",
    "    await m2.cmd_resetForceOffsets.set_start()\n",
    "    await asyncio.sleep(sleep_time)    "
   ]
  },
  {
   "cell_type": "markdown",
   "id": "f7b01576-78ed-4982-b0dc-c9436ef1a4b4",
   "metadata": {},
   "source": [
    "## Prepare the M2 CSC and put to Enabled state"
   ]
  },
  {
   "cell_type": "code",
   "execution_count": 16,
   "id": "146c08d7-48a0-4d41-b512-419bb6bb87d0",
   "metadata": {
    "execution": {
     "iopub.execute_input": "2023-06-01T15:00:27.976043Z",
     "iopub.status.busy": "2023-06-01T15:00:27.975805Z",
     "iopub.status.idle": "2023-06-01T15:00:28.136895Z",
     "shell.execute_reply": "2023-06-01T15:00:28.136101Z",
     "shell.execute_reply.started": "2023-06-01T15:00:27.976027Z"
    },
    "tags": []
   },
   "outputs": [
    {
     "data": {
      "text/html": [
       "<pre style=\"margin: 0.1em;\n",
       "padding-left: 0.25em;\n",
       "border-left-style: solid;\n",
       "font-family: var(--jp-code-font-family);\n",
       "font-size: var(--jp-code-font-size);\n",
       "line-height: var(--jp-code-line-height);\n",
       "\"><span style=\"color: var(--jp-warn-color2)\">MTM2</span> <span style=\"color: var(--jp-info-color0)\">INFO</span>: Disabling authlist-based command authorization</pre>"
      ],
      "text/plain": [
       "<IPython.core.display.HTML object>"
      ]
     },
     "metadata": {},
     "output_type": "display_data"
    },
    {
     "data": {
      "text/html": [
       "<pre style=\"margin: 0.1em;\n",
       "padding-left: 0.25em;\n",
       "border-left-style: solid;\n",
       "font-family: var(--jp-code-font-family);\n",
       "font-size: var(--jp-code-font-size);\n",
       "line-height: var(--jp-code-line-height);\n",
       "\"><span style=\"color: var(--jp-warn-color2)\">MTM2</span> <span style=\"color: var(--jp-info-color0)\">INFO</span>: Read historical data in 0.01 sec</pre>"
      ],
      "text/plain": [
       "<IPython.core.display.HTML object>"
      ]
     },
     "metadata": {},
     "output_type": "display_data"
    },
    {
     "data": {
      "text/plain": [
       "<ddsutil.MTM2_ackcmd_b60441f4 at 0x7f6ebeaff730>"
      ]
     },
     "execution_count": 16,
     "metadata": {},
     "output_type": "execute_result"
    }
   ],
   "source": [
    "domain = salobj.Domain()\n",
    "m2 = salobj.Remote(domain, \"MTM2\")\n",
    "await m2.start_task\n",
    "await m2.cmd_setLogLevel.set_start(level=10)"
   ]
  },
  {
   "cell_type": "code",
   "execution_count": 17,
   "id": "fffd6ad9-6f0f-40c3-b00a-3655bf5a6a1c",
   "metadata": {
    "execution": {
     "iopub.execute_input": "2023-06-01T15:00:29.429865Z",
     "iopub.status.busy": "2023-06-01T15:00:29.429245Z",
     "iopub.status.idle": "2023-06-01T15:00:29.435421Z",
     "shell.execute_reply": "2023-06-01T15:00:29.434611Z",
     "shell.execute_reply.started": "2023-06-01T15:00:29.429830Z"
    },
    "tags": []
   },
   "outputs": [],
   "source": [
    "state_m2 = m2.evt_summaryState.get()\n",
    "if state_m2.summaryState != salobj.State.ENABLED:\n",
    "    await salobj.set_summary_state(m2, salobj.State.ENABLED, timeout=10)"
   ]
  },
  {
   "cell_type": "code",
   "execution_count": 20,
   "id": "927ac38e-7d95-4d86-a23a-652b83a1704a",
   "metadata": {
    "execution": {
     "iopub.execute_input": "2023-06-01T15:08:08.695878Z",
     "iopub.status.busy": "2023-06-01T15:08:08.694880Z",
     "iopub.status.idle": "2023-06-01T15:08:08.701934Z",
     "shell.execute_reply": "2023-06-01T15:08:08.701222Z",
     "shell.execute_reply.started": "2023-06-01T15:08:08.695840Z"
    },
    "tags": []
   },
   "outputs": [
    {
     "data": {
      "text/plain": [
       "'    \\nDISABLED = 1\\nENABLED = 2\\nFAULT = 3\\nOFFLINE = 4\\nSTANDBY = 5\\n\\nStandby  -->  Disable  -->  Enabled\\n\\nawait m2.cmd_start.set_start(timeout=30)\\nawait m2.cmd_enable.set_start(timeout=200)\\n\\n3) To Stop, do this:    Enabled  -->  Disable  -->  Standby\\n\\nawait m2.cmd_disable.set_start(timeout=30)\\nawait m2.cmd_standby.set_start(timeout=30) '"
      ]
     },
     "execution_count": 20,
     "metadata": {},
     "output_type": "execute_result"
    }
   ],
   "source": [
    "\"\"\"    \n",
    "DISABLED = 1\n",
    "ENABLED = 2\n",
    "FAULT = 3\n",
    "OFFLINE = 4\n",
    "STANDBY = 5\n",
    "\n",
    "Standby  -->  Disable  -->  Enabled\n",
    "\n",
    "await m2.cmd_start.set_start(timeout=30)\n",
    "await m2.cmd_enable.set_start(timeout=200)\n",
    "\n",
    "3) To Stop, do this:    Enabled  -->  Disable  -->  Standby\n",
    "\n",
    "await m2.cmd_disable.set_start(timeout=30)\n",
    "await m2.cmd_standby.set_start(timeout=30) \"\"\" "
   ]
  },
  {
   "cell_type": "code",
   "execution_count": 23,
   "id": "736378b8-7df3-4ae9-8589-569c7cb6b2af",
   "metadata": {
    "execution": {
     "iopub.execute_input": "2023-06-01T15:11:39.394720Z",
     "iopub.status.busy": "2023-06-01T15:11:39.394065Z",
     "iopub.status.idle": "2023-06-01T15:11:39.399686Z",
     "shell.execute_reply": "2023-06-01T15:11:39.399030Z",
     "shell.execute_reply.started": "2023-06-01T15:11:39.394682Z"
    },
    "tags": []
   },
   "outputs": [
    {
     "name": "stdout",
     "output_type": "stream",
     "text": [
      "private_revCode: 0ebebdcc, private_sndStamp: 1685461101.9617786, private_rcvStamp: 1685631665.0559168, private_seqNum: 31, private_identity: MTM2, private_origin: 11350, summaryState: 2\n"
     ]
    }
   ],
   "source": [
    "# get status\n",
    "state = m2.evt_summaryState.get()\n",
    "print(state)"
   ]
  },
  {
   "cell_type": "code",
   "execution_count": 22,
   "id": "e92d71f2-eab4-42f0-8d06-30ea6022a157",
   "metadata": {
    "execution": {
     "iopub.execute_input": "2023-06-01T15:08:43.131133Z",
     "iopub.status.busy": "2023-06-01T15:08:43.130884Z",
     "iopub.status.idle": "2023-06-01T15:08:43.205110Z",
     "shell.execute_reply": "2023-06-01T15:08:43.204017Z",
     "shell.execute_reply.started": "2023-06-01T15:08:43.131111Z"
    },
    "tags": []
   },
   "outputs": [
    {
     "ename": "AckError",
     "evalue": "msg='Command failed', ackcmd=(ackcmd private_seqNum=1885240222, ack=<SalRetCode.CMD_FAILED: -302>, error=1, result='Failed: start not allowed in state <State.ENABLED: 2>')",
     "output_type": "error",
     "traceback": [
      "\u001b[0;31m---------------------------------------------------------------------------\u001b[0m",
      "\u001b[0;31mAckError\u001b[0m                                  Traceback (most recent call last)",
      "Input \u001b[0;32mIn [22]\u001b[0m, in \u001b[0;36m<cell line: 2>\u001b[0;34m()\u001b[0m\n\u001b[1;32m      1\u001b[0m \u001b[38;5;66;03m# Standby  -->  Disable\u001b[39;00m\n\u001b[0;32m----> 2\u001b[0m \u001b[38;5;28;01mawait\u001b[39;00m m2\u001b[38;5;241m.\u001b[39mcmd_start\u001b[38;5;241m.\u001b[39mset_start(timeout\u001b[38;5;241m=\u001b[39m\u001b[38;5;241m30\u001b[39m)\n",
      "File \u001b[0;32m/opt/lsst/software/stack/conda/miniconda3-py38_4.9.2/envs/lsst-scipipe-6.0.0/lib/python3.10/site-packages/lsst/ts/salobj/topics/remote_command.py:414\u001b[0m, in \u001b[0;36mRemoteCommand.set_start\u001b[0;34m(self, timeout, wait_done, **kwargs)\u001b[0m\n\u001b[1;32m    373\u001b[0m \u001b[38;5;250m\u001b[39m\u001b[38;5;124;03m\"\"\"Create a new ``self.data``, set zero or more fields,\u001b[39;00m\n\u001b[1;32m    374\u001b[0m \u001b[38;5;124;03mand start the command.\u001b[39;00m\n\u001b[1;32m    375\u001b[0m \n\u001b[0;32m   (...)\u001b[0m\n\u001b[1;32m    411\u001b[0m \u001b[38;5;124;03m    If ``data`` is not None and not an instance of `DataType`.\u001b[39;00m\n\u001b[1;32m    412\u001b[0m \u001b[38;5;124;03m\"\"\"\u001b[39;00m\n\u001b[1;32m    413\u001b[0m \u001b[38;5;28mself\u001b[39m\u001b[38;5;241m.\u001b[39mset(\u001b[38;5;241m*\u001b[39m\u001b[38;5;241m*\u001b[39mkwargs)\n\u001b[0;32m--> 414\u001b[0m \u001b[38;5;28;01mreturn\u001b[39;00m \u001b[38;5;28;01mawait\u001b[39;00m \u001b[38;5;28mself\u001b[39m\u001b[38;5;241m.\u001b[39mstart(timeout\u001b[38;5;241m=\u001b[39mtimeout, wait_done\u001b[38;5;241m=\u001b[39mwait_done)\n",
      "File \u001b[0;32m/opt/lsst/software/stack/conda/miniconda3-py38_4.9.2/envs/lsst-scipipe-6.0.0/lib/python3.10/site-packages/lsst/ts/salobj/topics/remote_command.py:485\u001b[0m, in \u001b[0;36mRemoteCommand.start\u001b[0;34m(self, data, timeout, wait_done)\u001b[0m\n\u001b[1;32m    482\u001b[0m \u001b[38;5;28;01mfinally\u001b[39;00m:\n\u001b[1;32m    483\u001b[0m     \u001b[38;5;28mself\u001b[39m\u001b[38;5;241m.\u001b[39m_in_start \u001b[38;5;241m=\u001b[39m \u001b[38;5;28;01mFalse\u001b[39;00m\n\u001b[0;32m--> 485\u001b[0m \u001b[38;5;28;01mreturn\u001b[39;00m \u001b[38;5;28;01mawait\u001b[39;00m cmd_info\u001b[38;5;241m.\u001b[39mnext_ackcmd(timeout\u001b[38;5;241m=\u001b[39mtimeout)\n",
      "File \u001b[0;32m/opt/lsst/software/stack/conda/miniconda3-py38_4.9.2/envs/lsst-scipipe-6.0.0/lib/python3.10/site-packages/lsst/ts/salobj/topics/remote_command.py:191\u001b[0m, in \u001b[0;36mCommandInfo.next_ackcmd\u001b[0;34m(self, timeout)\u001b[0m\n\u001b[1;32m    189\u001b[0m     ackcmd \u001b[38;5;241m=\u001b[39m \u001b[38;5;28;01mawait\u001b[39;00m \u001b[38;5;28mself\u001b[39m\u001b[38;5;241m.\u001b[39m_wait_task\n\u001b[1;32m    190\u001b[0m     \u001b[38;5;28;01mif\u001b[39;00m ackcmd\u001b[38;5;241m.\u001b[39mack \u001b[38;5;129;01min\u001b[39;00m \u001b[38;5;28mself\u001b[39m\u001b[38;5;241m.\u001b[39mfailed_ack_codes:\n\u001b[0;32m--> 191\u001b[0m         \u001b[38;5;28;01mraise\u001b[39;00m base\u001b[38;5;241m.\u001b[39mAckError(msg\u001b[38;5;241m=\u001b[39m\u001b[38;5;124m\"\u001b[39m\u001b[38;5;124mCommand failed\u001b[39m\u001b[38;5;124m\"\u001b[39m, ackcmd\u001b[38;5;241m=\u001b[39mackcmd)\n\u001b[1;32m    192\u001b[0m     \u001b[38;5;28;01mreturn\u001b[39;00m ackcmd\n\u001b[1;32m    193\u001b[0m \u001b[38;5;28;01mexcept\u001b[39;00m asyncio\u001b[38;5;241m.\u001b[39mTimeoutError:\n",
      "\u001b[0;31mAckError\u001b[0m: msg='Command failed', ackcmd=(ackcmd private_seqNum=1885240222, ack=<SalRetCode.CMD_FAILED: -302>, error=1, result='Failed: start not allowed in state <State.ENABLED: 2>')"
     ]
    }
   ],
   "source": [
    "# Standby  -->  Disable\n",
    "await m2.cmd_start.set_start(timeout=30)"
   ]
  },
  {
   "cell_type": "code",
   "execution_count": null,
   "id": "b98017cf-b844-48ff-b9e6-30cf92b6532d",
   "metadata": {},
   "outputs": [],
   "source": [
    "# Disable  -->  Enabled\n",
    "await m2.cmd_enable.set_start(timeout=200)"
   ]
  },
  {
   "cell_type": "code",
   "execution_count": null,
   "id": "f1593407-e6f4-4f15-a0ee-31a4473b8ee1",
   "metadata": {},
   "outputs": [],
   "source": [
    "# Enabled  -->  Disable\n",
    "await m2.cmd_disable.set_start(timeout=30)"
   ]
  },
  {
   "cell_type": "code",
   "execution_count": null,
   "id": "ca4fdadd-ae2c-48af-876d-fc867fdf091d",
   "metadata": {},
   "outputs": [],
   "source": [
    "#Disable  -->  Standby\n",
    "await m2.cmd_standby.set_start(timeout=30)"
   ]
  },
  {
   "cell_type": "code",
   "execution_count": null,
   "id": "304c062b-6c23-407a-b045-29e7f343f13f",
   "metadata": {},
   "outputs": [],
   "source": [
    "#Fault --> Standby\n",
    "await m2.cmd_standby.set_start(timeout=30)"
   ]
  },
  {
   "cell_type": "markdown",
   "id": "5961eb58-cbbb-48b6-bdc7-e6518faebb3a",
   "metadata": {},
   "source": [
    "## Do the Outer Loop Test"
   ]
  },
  {
   "cell_type": "code",
   "execution_count": 18,
   "id": "87537214-5f5f-4f41-aadf-0cb26df49b1f",
   "metadata": {
    "execution": {
     "iopub.execute_input": "2023-06-01T15:00:32.753179Z",
     "iopub.status.busy": "2023-06-01T15:00:32.752585Z",
     "iopub.status.idle": "2023-06-01T15:00:32.757715Z",
     "shell.execute_reply": "2023-06-01T15:00:32.756964Z",
     "shell.execute_reply.started": "2023-06-01T15:00:32.753144Z"
    },
    "tags": []
   },
   "outputs": [
    {
     "name": "stdout",
     "output_type": "stream",
     "text": [
      "UTC time to is 2023-06-01 15:00:32.754655 now.\n"
     ]
    }
   ],
   "source": [
    "time_start = datetime.now()\n",
    "print(f\"UTC time to is {time_start} now.\")"
   ]
  },
  {
   "cell_type": "code",
   "execution_count": 24,
   "id": "8a9380fb-5c00-422e-9aae-32793598caab",
   "metadata": {
    "execution": {
     "iopub.execute_input": "2023-06-01T15:30:36.005235Z",
     "iopub.status.busy": "2023-06-01T15:30:36.004621Z",
     "iopub.status.idle": "2023-06-01T15:36:42.111015Z",
     "shell.execute_reply": "2023-06-01T15:36:42.110037Z",
     "shell.execute_reply.started": "2023-06-01T15:30:36.005198Z"
    },
    "tags": []
   },
   "outputs": [
    {
     "name": "stdout",
     "output_type": "stream",
     "text": [
      "Measured zenith angle: -0.05 degree.\n",
      "Raw inclinometer angle: 90.05 degree.\n",
      "Processed inclinometer angle: 89.01 degree.\n",
      "Do the  ol test to all actuator: WITH force 20\n",
      "Apply the forces: [20, 20, 20, 20, 20, 20]\n",
      "Put to zero all the actuators\n",
      "Do the  ol test to all actuator: with force -20\n",
      "Apply the forces: [-20, -20, -20, -20, -20, -20]\n",
      "Put to zero all the actuators\n",
      "Measured zenith angle: 0.01 degree.\n",
      "Raw inclinometer angle: 89.99 degree.\n",
      "Processed inclinometer angle: 89.07 degree.\n",
      "Do the  ol test to all actuator: WITH force 50\n",
      "Apply the forces: [50, 50, 50, 50, 50, 50]\n",
      "Put to zero all the actuators\n",
      "Do the  ol test to all actuator: with force -50\n",
      "Apply the forces: [-50, -50, -50, -50, -50, -50]\n",
      "Put to zero all the actuators\n",
      "Measured zenith angle: -0.06 degree.\n",
      "Raw inclinometer angle: 90.06 degree.\n",
      "Processed inclinometer angle: 89.00 degree.\n",
      "Do the  ol test to all actuator: WITH force 500\n",
      "Apply the forces: [500, 500, 500, 500, 500, 500]\n",
      "Put to zero all the actuators\n",
      "Do the  ol test to all actuator: with force -500\n",
      "Apply the forces: [-500, -500, -500, -500, -500, -500]\n",
      "Put to zero all the actuators\n",
      "Test terminated\n"
     ]
    }
   ],
   "source": [
    "force = 20\n",
    "await run_ol_tangent_test(m2, force, sleep_time=30)\n",
    "\n",
    "force = 50\n",
    "await run_ol_tangent_test(m2, force, sleep_time=30)\n",
    "\n",
    "force = 100\n",
    "await run_ol_tangent_test(m2, force, sleep_time=30)\n",
    "\n",
    "print(\"Test terminated\")"
   ]
  },
  {
   "cell_type": "code",
   "execution_count": null,
   "id": "276a342e-24ec-428b-9bd1-cc0d9d83b6e7",
   "metadata": {},
   "outputs": [],
   "source": []
  }
 ],
 "metadata": {
  "kernelspec": {
   "display_name": "LSST",
   "language": "python",
   "name": "lsst"
  },
  "language_info": {
   "codemirror_mode": {
    "name": "ipython",
    "version": 3
   },
   "file_extension": ".py",
   "mimetype": "text/x-python",
   "name": "python",
   "nbconvert_exporter": "python",
   "pygments_lexer": "ipython3",
   "version": "3.10.10"
  }
 },
 "nbformat": 4,
 "nbformat_minor": 5
}
