{
 "cells": [
  {
   "cell_type": "markdown",
   "id": "b19fb805-4a8c-410c-a42f-ad58706dff32",
   "metadata": {},
   "source": [
    "# Rigid Body Movement Analysis\n",
    "\n",
    "This notebook is to analyze the rigid body movement of M2 with the configuration file: **ts_mtm2/config/sysconfig\n",
    "/Configurable_File_Description_20180831T092556_surrogate_handling.csv**.\n",
    "The target is to understand:\n",
    "\n",
    "1. Change of the net force and moment in the movement.\n",
    "2. Force balance system is working or not.\n",
    "\n",
    "It is noted that the correctness of force balance system would need a more detailed analysis in the future."
   ]
  },
  {
   "cell_type": "markdown",
   "id": "6350ea88-94be-42c7-8c1a-1586e3a30f3d",
   "metadata": {},
   "source": [
    "## Summary\n",
    "\n",
    "1. The position data of hardpoints matches well with the independent measurement system (IMS).\n",
    "2. The force balance system should be working under small movement.\n",
    "3. The calculation of y position looks a little weird in the middle of movement (see the test of z rotation angle from 0 urad to -45 urad)."
   ]
  },
  {
   "cell_type": "markdown",
   "id": "6ad7334a-4e1d-47fb-aeb1-ab4108dbcedd",
   "metadata": {},
   "source": [
    "## Import Modules\n",
    "\n",
    "This notebook needs to setup the **ts_m2com** and **ts_aos_utilsts** under the **notebooks/.user_setups**, which depends on the **ts_tcpip**.\n",
    "You also need to have **ts_mtm2** under the **WORK/** directory to read the confiugration files to do the analysis."
   ]
  },
  {
   "cell_type": "code",
   "execution_count": null,
   "id": "6847d495-d900-4472-b484-e4f092ba184c",
   "metadata": {
    "tags": []
   },
   "outputs": [],
   "source": [
    "%matplotlib inline\n",
    "%matplotlib widget\n",
    "import matplotlib.pyplot as plt\n",
    "from pathlib import Path\n",
    "import numpy as np\n",
    "from astropy.time import Time\n",
    "\n",
    "from lsst.ts.m2com import MockControlClosedLoop\n",
    "\n",
    "from lsst.ts.aos.utils.utility_m2 import (\n",
    "    retrieve_efd_client,\n",
    "    get_data_position,\n",
    "    get_data_net_force,\n",
    "    get_data_force_balance,\n",
    "    get_data_net_moment,\n",
    "    get_data_net_displacement,\n",
    "    get_data_force,\n",
    "    get_xy_actuators,\n",
    "    draw_forces,\n",
    "    plot_positions,\n",
    "    plot_net_force,\n",
    "    plot_net_moment,\n",
    "    plot_force_balance,\n",
    "    plot_net_displacement,\n",
    "    plot_force_error,\n",
    ")\n",
    "\n",
    "from lsst_efd_client import EfdClient"
   ]
  },
  {
   "cell_type": "markdown",
   "id": "1e0600f1-ad99-476b-9cd8-f282e620f83f",
   "metadata": {},
   "source": [
    "## Declaration of User-defined Functions"
   ]
  },
  {
   "cell_type": "code",
   "execution_count": null,
   "id": "0a3ce6cc-7b28-43b2-b960-8da809498bc6",
   "metadata": {
    "tags": []
   },
   "outputs": [],
   "source": [
    "async def show_all_data(\n",
    "    control_closed_loop: MockControlClosedLoop,\n",
    "    efd_client: EfdClient,\n",
    "    time_start: Time,\n",
    "    time_end: Time,\n",
    "    position: list,\n",
    ") -> None:\n",
    "    \"\"\"\n",
    "    Show all the data.\n",
    "\n",
    "    Parameters\n",
    "    ----------\n",
    "    control_closed_loop : `lsst.ts.m2.com.MockControlClosedLoop`\n",
    "        Mock control closed loop instance.\n",
    "    efd_client : `lsst_efd_client.efd_helper.EfdClient`\n",
    "        EFD client.\n",
    "    time_start : `astropy.time.core.Time`\n",
    "        Start time.\n",
    "    time_end : `astropy.time.core.Time`\n",
    "        End time.\n",
    "    position : `list`\n",
    "        Position of the rigid body moment in (x, y, z, rx, ry, rz) in the unit of m and rad.\n",
    "    \"\"\"\n",
    "\n",
    "    # Calculate the theoretical displacement (note the final unit is um)\n",
    "    displacements_theory = MockControlClosedLoop.rigid_body_to_actuator_displacement(\n",
    "        control_closed_loop.get_actuator_location_axial(),\n",
    "        control_closed_loop.get_actuator_location_tangent(),\n",
    "        control_closed_loop.get_radius(),\n",
    "        position[0],\n",
    "        position[1],\n",
    "        position[2],\n",
    "        position[3],\n",
    "        position[4],\n",
    "        position[5],\n",
    "    ) * 1e6\n",
    "\n",
    "    # Get the x, y position of actuators\n",
    "    xy_actuators = get_xy_actuators(control_closed_loop)\n",
    "\n",
    "    # Query data\n",
    "    data_position, time_operation_position = await get_data_position(efd_client, \"position\", time_start, time_end)\n",
    "    data_ims, time_operation_ims = await get_data_position(efd_client, \"positionIMS\", time_start, time_end)\n",
    "\n",
    "    data_force, time_operation_force = await get_data_net_force(efd_client, time_start, time_end)\n",
    "    data_moment, time_operation_moment = await get_data_net_moment(efd_client, time_start, time_end)\n",
    "\n",
    "    data_force_balance, time_operation_force_balance = await get_data_force_balance(efd_client, time_start, time_end)\n",
    "\n",
    "    displacements_experiment = await get_data_net_displacement(efd_client, time_start, time_end)\n",
    "\n",
    "    data_collected_axial, data_collected_tangent = await get_data_force(efd_client, time_start, time_end)\n",
    "\n",
    "    # Draw the diagrams\n",
    "    plot_positions(data_position, time_operation_position, data_ims, time_operation_ims)\n",
    "\n",
    "    plot_net_force(data_force, time_operation_force)\n",
    "    plot_net_moment(data_moment, time_operation_moment)    \n",
    "\n",
    "    plot_force_balance(data_force_balance, time_operation_force_balance)\n",
    "\n",
    "    plot_net_displacement(displacements_theory, displacements_experiment)\n",
    "\n",
    "    draw_forces(\n",
    "        xy_actuators,\n",
    "        data_collected_axial[\"measured\"][-1]-data_collected_axial[\"measured\"][0],\n",
    "        data_collected_tangent[\"measured\"][-1]-data_collected_tangent[\"measured\"][0],\n",
    "    )\n",
    "    \n",
    "    plot_force_error(data_collected_axial, data_collected_tangent)"
   ]
  },
  {
   "cell_type": "markdown",
   "id": "6ea1a182-470c-4633-8670-ababc64f4935",
   "metadata": {},
   "source": [
    "## Instantiate the MockControlClosedLoop"
   ]
  },
  {
   "cell_type": "code",
   "execution_count": null,
   "id": "c5f46c72-7b6a-4ecd-9ca1-b6c17d79f8f0",
   "metadata": {
    "tags": []
   },
   "outputs": [],
   "source": [
    "config_path = Path.home() / \"WORK\" / \"ts_mtm2\" / \"config\" / \"parameter_files\"\n",
    "filepath_cell_geom = Path.home() / \"WORK\" / \"ts_mtm2\" / \"config\" / \"cellGeom.json\""
   ]
  },
  {
   "cell_type": "code",
   "execution_count": null,
   "id": "d1d0db48-d02c-425c-ab35-8e71d7b24831",
   "metadata": {
    "tags": []
   },
   "outputs": [],
   "source": [
    "control_closed_loop = MockControlClosedLoop()\n",
    "control_closed_loop.load_file_cell_geometry(filepath_cell_geom)"
   ]
  },
  {
   "cell_type": "markdown",
   "id": "f8577c4c-8d2a-4884-9e99-510502a61563",
   "metadata": {},
   "source": [
    "## Instantiate the EFD\n",
    "\n",
    "Notice that the UTC time is used when doing the query."
   ]
  },
  {
   "cell_type": "code",
   "execution_count": null,
   "id": "6a97fd2d-fa4b-4757-815b-0bec6a0bdde7",
   "metadata": {
    "tags": []
   },
   "outputs": [],
   "source": [
    "efd_client = retrieve_efd_client(is_summit=True)"
   ]
  },
  {
   "cell_type": "markdown",
   "id": "a98052f5-f8e0-4eef-a8c7-734b04b1d4af",
   "metadata": {},
   "source": [
    "## Move x Position from 0 mm to 0.5 mm"
   ]
  },
  {
   "cell_type": "code",
   "execution_count": null,
   "id": "2688a144-2e91-4e01-828a-c9aff49f792f",
   "metadata": {
    "tags": []
   },
   "outputs": [],
   "source": [
    "time_start = Time(\"2023-05-16T18:41:30\", scale=\"utc\", format=\"isot\")\n",
    "time_end = Time(\"2023-05-16T18:43:30\", scale=\"utc\", format=\"isot\")\n",
    "\n",
    "position = [0.5 * 1e-3, 0, 0, 0, 0, 0]\n",
    "await show_all_data(control_closed_loop, efd_client, time_start, time_end, position)"
   ]
  },
  {
   "cell_type": "code",
   "execution_count": null,
   "id": "58ff72d5-483a-47f2-9493-f398bc96d6e8",
   "metadata": {},
   "outputs": [],
   "source": []
  },
  {
   "cell_type": "markdown",
   "id": "1c3184b9-4e5e-4d4d-b911-2295d833c717",
   "metadata": {},
   "source": [
    "## Move x Position from 0 mm to -0.5 mm"
   ]
  },
  {
   "cell_type": "code",
   "execution_count": null,
   "id": "35e34d1d-68f4-4b78-a707-b2dc550afdaf",
   "metadata": {
    "tags": []
   },
   "outputs": [],
   "source": [
    "time_start = Time(\"2023-05-16T18:50:30\", scale=\"utc\", format=\"isot\")\n",
    "time_end = Time(\"2023-05-16T18:52:50\", scale=\"utc\", format=\"isot\")\n",
    "\n",
    "position = [-0.5 * 1e-3, 0, 0, 0, 0, 0]\n",
    "await show_all_data(control_closed_loop, efd_client, time_start, time_end, position)"
   ]
  },
  {
   "cell_type": "code",
   "execution_count": null,
   "id": "c76e2c5c-dd5a-4071-b59f-60c8af6d3c89",
   "metadata": {},
   "outputs": [],
   "source": []
  },
  {
   "cell_type": "markdown",
   "id": "74aa586b-b53e-4c30-bd33-10c11451e0fd",
   "metadata": {},
   "source": [
    "## Move y Position from 0 mm to 0.5 mm"
   ]
  },
  {
   "cell_type": "code",
   "execution_count": null,
   "id": "4a45ac21-889d-40d9-b1dd-70dc0ca479eb",
   "metadata": {
    "tags": []
   },
   "outputs": [],
   "source": [
    "time_start = Time(\"2023-05-16T18:58:30\", scale=\"utc\", format=\"isot\")\n",
    "time_end = Time(\"2023-05-16T19:01:00\", scale=\"utc\", format=\"isot\")\n",
    "\n",
    "position = [0, 0.5 * 1e-3, 0, 0, 0, 0]\n",
    "await show_all_data(control_closed_loop, efd_client, time_start, time_end, position)"
   ]
  },
  {
   "cell_type": "code",
   "execution_count": null,
   "id": "1eade94d-4a19-4bb6-bd7f-146c55018112",
   "metadata": {},
   "outputs": [],
   "source": []
  },
  {
   "cell_type": "markdown",
   "id": "0855e87a-1fdb-41d3-ac4f-251b3034f94d",
   "metadata": {},
   "source": [
    "## Move y Position from 0 mm to -0.5 mm"
   ]
  },
  {
   "cell_type": "code",
   "execution_count": null,
   "id": "35a9ac20-9f03-482e-85cb-d4eb81073e29",
   "metadata": {
    "tags": []
   },
   "outputs": [],
   "source": [
    "time_start = Time(\"2023-05-16T19:10:20\", scale=\"utc\", format=\"isot\")\n",
    "time_end = Time(\"2023-05-16T19:12:40\", scale=\"utc\", format=\"isot\")\n",
    "\n",
    "position = [0, -0.5 * 1e-3, 0, 0, 0, 0]\n",
    "await show_all_data(control_closed_loop, efd_client, time_start, time_end, position)"
   ]
  },
  {
   "cell_type": "code",
   "execution_count": null,
   "id": "5d8e14e0-300b-4827-b8b3-4370875b6744",
   "metadata": {},
   "outputs": [],
   "source": []
  },
  {
   "cell_type": "markdown",
   "id": "cb0c691d-91ff-4f70-a5c9-d4af1e14cd97",
   "metadata": {},
   "source": [
    "## Move z Position from 0 mm to 0.5 mm"
   ]
  },
  {
   "cell_type": "code",
   "execution_count": null,
   "id": "302cc50c-b253-43cb-8022-2933f97afa44",
   "metadata": {
    "tags": []
   },
   "outputs": [],
   "source": [
    "time_start = Time(\"2023-05-16T19:17:10\", scale=\"utc\", format=\"isot\")\n",
    "time_end = Time(\"2023-05-16T19:18:00\", scale=\"utc\", format=\"isot\")\n",
    "\n",
    "position = [0, 0, 0.5 * 1e-3, 0, 0, 0]\n",
    "await show_all_data(control_closed_loop, efd_client, time_start, time_end, position)"
   ]
  },
  {
   "cell_type": "code",
   "execution_count": null,
   "id": "d1f51145-f97e-46bb-8cf9-e5412718e7a2",
   "metadata": {},
   "outputs": [],
   "source": []
  },
  {
   "cell_type": "markdown",
   "id": "0ae97030-47de-4d3e-96b6-02ac97cb20de",
   "metadata": {},
   "source": [
    "## Move z Position from 0 mm to -0.5 mm"
   ]
  },
  {
   "cell_type": "code",
   "execution_count": null,
   "id": "933c994f-d638-4464-b356-31d584fb27a1",
   "metadata": {
    "tags": []
   },
   "outputs": [],
   "source": [
    "time_start = Time(\"2023-05-16T19:23:30\", scale=\"utc\", format=\"isot\")\n",
    "time_end = Time(\"2023-05-16T19:24:20\", scale=\"utc\", format=\"isot\")\n",
    "\n",
    "position = [0, 0, -0.5 * 1e-3, 0, 0, 0]\n",
    "await show_all_data(control_closed_loop, efd_client, time_start, time_end, position)"
   ]
  },
  {
   "cell_type": "code",
   "execution_count": null,
   "id": "2a02755a-c0fa-49df-abee-cee768e1a09c",
   "metadata": {},
   "outputs": [],
   "source": []
  },
  {
   "cell_type": "markdown",
   "id": "03ce533d-5818-4c4a-8bd3-98ee52c7410d",
   "metadata": {},
   "source": [
    "## Move x Rotation from 0 urad to 45 urad (= 9.28 arcsec)"
   ]
  },
  {
   "cell_type": "code",
   "execution_count": null,
   "id": "39b620ac-fc59-4ac2-ab18-1c1fd01d5d59",
   "metadata": {
    "tags": []
   },
   "outputs": [],
   "source": [
    "time_start = Time(\"2023-05-16T19:40:40\", scale=\"utc\", format=\"isot\")\n",
    "time_end = Time(\"2023-05-16T19:41:00\", scale=\"utc\", format=\"isot\")\n",
    "\n",
    "position = [0, 0, 0, 45 * 1e-6, 0, 0]\n",
    "await show_all_data(control_closed_loop, efd_client, time_start, time_end, position)"
   ]
  },
  {
   "cell_type": "code",
   "execution_count": null,
   "id": "9d96696f-a3b6-43e7-bc38-cb4a80555ecb",
   "metadata": {},
   "outputs": [],
   "source": []
  },
  {
   "cell_type": "markdown",
   "id": "438f9b3e-7c47-49d2-8279-2080cc1b3fc3",
   "metadata": {},
   "source": [
    "## Move x Rotation from 0 urad to -45 urad (= -9.28 arcsec)"
   ]
  },
  {
   "cell_type": "code",
   "execution_count": null,
   "id": "aff61196-ac75-40ba-bced-deb0e4ba8547",
   "metadata": {
    "tags": []
   },
   "outputs": [],
   "source": [
    "time_start = Time(\"2023-05-16T19:43:10\", scale=\"utc\", format=\"isot\")\n",
    "time_end = Time(\"2023-05-16T19:43:40\", scale=\"utc\", format=\"isot\")\n",
    "\n",
    "position = [0, 0, 0, -45 * 1e-6, 0, 0]\n",
    "await show_all_data(control_closed_loop, efd_client, time_start, time_end, position)"
   ]
  },
  {
   "cell_type": "code",
   "execution_count": null,
   "id": "05d2a2dd-2abb-4d57-baa3-d1ee5682a1ba",
   "metadata": {},
   "outputs": [],
   "source": []
  },
  {
   "cell_type": "markdown",
   "id": "da84ef8e-232b-4a1a-b1a4-8e6365344601",
   "metadata": {},
   "source": [
    "## Move y Rotation from 0 urad to 45 urad (= 9.28 arcsec)"
   ]
  },
  {
   "cell_type": "code",
   "execution_count": null,
   "id": "c5346101-5745-4d73-8fda-12615629576b",
   "metadata": {
    "tags": []
   },
   "outputs": [],
   "source": [
    "time_start = Time(\"2023-05-16T19:45:00\", scale=\"utc\", format=\"isot\")\n",
    "time_end = Time(\"2023-05-16T19:45:10\", scale=\"utc\", format=\"isot\")\n",
    "\n",
    "position = [0, 0, 0, 0, 45 * 1e-6, 0]\n",
    "await show_all_data(control_closed_loop, efd_client, time_start, time_end, position)"
   ]
  },
  {
   "cell_type": "code",
   "execution_count": null,
   "id": "2619eadf-30ea-4f4d-88b1-0e41340f789b",
   "metadata": {},
   "outputs": [],
   "source": []
  },
  {
   "cell_type": "markdown",
   "id": "9e681368-1c7a-4677-baba-bf8052fc3947",
   "metadata": {},
   "source": [
    "## Move y Rotation from 0 urad to -45 urad (= -9.28 arcsec)"
   ]
  },
  {
   "cell_type": "code",
   "execution_count": null,
   "id": "0de33e12-ecc3-491e-8935-f4bb1e6d0eaf",
   "metadata": {
    "tags": []
   },
   "outputs": [],
   "source": [
    "time_start = Time(\"2023-05-16T19:46:30\", scale=\"utc\", format=\"isot\")\n",
    "time_end = Time(\"2023-05-16T19:47:00\", scale=\"utc\", format=\"isot\")\n",
    "\n",
    "position = [0, 0, 0, 0, -45 * 1e-6, 0]\n",
    "await show_all_data(control_closed_loop, efd_client, time_start, time_end, position)"
   ]
  },
  {
   "cell_type": "code",
   "execution_count": null,
   "id": "49c3dc14-1bee-49b3-b84a-0afb9d11d426",
   "metadata": {},
   "outputs": [],
   "source": []
  },
  {
   "cell_type": "markdown",
   "id": "c48f101e-e679-4a8d-97d9-d95ba590831e",
   "metadata": {},
   "source": [
    "## Move z Rotation from 0 urad to 45 urad (= 9.28 arcsec)"
   ]
  },
  {
   "cell_type": "code",
   "execution_count": null,
   "id": "103d1759-d206-4a52-94f1-a53524f2b2a7",
   "metadata": {
    "tags": []
   },
   "outputs": [],
   "source": [
    "time_start = Time(\"2023-05-16T19:34:20\", scale=\"utc\", format=\"isot\")\n",
    "time_end = Time(\"2023-05-16T19:35:00\", scale=\"utc\", format=\"isot\")\n",
    "\n",
    "position = [0, 0, 0, 0, 0, 45 * 1e-6]\n",
    "await show_all_data(control_closed_loop, efd_client, time_start, time_end, position)"
   ]
  },
  {
   "cell_type": "code",
   "execution_count": null,
   "id": "62c45b92-65a0-42cf-9017-0564b609b811",
   "metadata": {},
   "outputs": [],
   "source": []
  },
  {
   "cell_type": "markdown",
   "id": "a4f7be49-99e4-4ffe-a0cc-eb51808e4b7a",
   "metadata": {},
   "source": [
    "## Move z Rotation from 0 urad to -45 urad (= -9.28 arcsec)"
   ]
  },
  {
   "cell_type": "code",
   "execution_count": null,
   "id": "59afbfaf-62a0-4175-9f5b-9f4f5924c1f5",
   "metadata": {
    "tags": []
   },
   "outputs": [],
   "source": [
    "time_start = Time(\"2023-05-16T19:37:20\", scale=\"utc\", format=\"isot\")\n",
    "time_end = Time(\"2023-05-16T19:38:00\", scale=\"utc\", format=\"isot\")\n",
    "\n",
    "position = [0, 0, 0, 0, 0, -45 * 1e-6]\n",
    "await show_all_data(control_closed_loop, efd_client, time_start, time_end, position)"
   ]
  },
  {
   "cell_type": "code",
   "execution_count": null,
   "id": "d7bfd716-7644-4db5-90b6-21fb31865973",
   "metadata": {},
   "outputs": [],
   "source": []
  },
  {
   "cell_type": "markdown",
   "id": "e9e3c99c-1d6a-461d-b0d2-acea8d904eaa",
   "metadata": {},
   "source": [
    "## Move x, y Positions from 0 mm to 0.35 mm"
   ]
  },
  {
   "cell_type": "code",
   "execution_count": null,
   "id": "875d6e4a-3e34-4c90-bb7c-69aa9e67ad92",
   "metadata": {
    "tags": []
   },
   "outputs": [],
   "source": [
    "time_start = Time(\"2023-05-16T19:52:30\", scale=\"utc\", format=\"isot\")\n",
    "time_end = Time(\"2023-05-16T19:54:40\", scale=\"utc\", format=\"isot\")\n",
    "\n",
    "position = [0.35 * 1e-3, 0.35 * 1e-3, 0, 0, 0, 0]\n",
    "await show_all_data(control_closed_loop, efd_client, time_start, time_end, position)"
   ]
  },
  {
   "cell_type": "code",
   "execution_count": null,
   "id": "94709c42-3d5e-44ce-9f13-6d4d88e666c0",
   "metadata": {},
   "outputs": [],
   "source": []
  },
  {
   "cell_type": "markdown",
   "id": "f68de3ff-925b-42ad-8914-5f4392d9b8c8",
   "metadata": {},
   "source": [
    "## Move x, y Positions from 0 mm to -0.35 mm"
   ]
  },
  {
   "cell_type": "code",
   "execution_count": null,
   "id": "cbac7ec6-af12-4671-a6d5-737ae46637a5",
   "metadata": {
    "tags": []
   },
   "outputs": [],
   "source": [
    "time_start = Time(\"2023-05-16T19:58:50\", scale=\"utc\", format=\"isot\")\n",
    "time_end = Time(\"2023-05-16T20:01:00\", scale=\"utc\", format=\"isot\")\n",
    "\n",
    "position = [-0.35 * 1e-3, -0.35 * 1e-3, 0, 0, 0, 0]\n",
    "await show_all_data(control_closed_loop, efd_client, time_start, time_end, position)"
   ]
  },
  {
   "cell_type": "code",
   "execution_count": null,
   "id": "b9042cae-665a-4f90-a4c8-8aec0e4a0186",
   "metadata": {},
   "outputs": [],
   "source": []
  },
  {
   "cell_type": "code",
   "execution_count": null,
   "id": "2789c8bd-bf66-4abd-a17f-9ff7e6e5617f",
   "metadata": {
    "tags": []
   },
   "outputs": [],
   "source": [
    "plt.close(\"all\")"
   ]
  },
  {
   "cell_type": "code",
   "execution_count": null,
   "id": "606ae37c-a474-4548-b26f-c312fff571c0",
   "metadata": {},
   "outputs": [],
   "source": []
  }
 ],
 "metadata": {
  "kernelspec": {
   "display_name": "LSST",
   "language": "python",
   "name": "lsst"
  },
  "language_info": {
   "codemirror_mode": {
    "name": "ipython",
    "version": 3
   },
   "file_extension": ".py",
   "mimetype": "text/x-python",
   "name": "python",
   "nbconvert_exporter": "python",
   "pygments_lexer": "ipython3",
   "version": "3.10.10"
  }
 },
 "nbformat": 4,
 "nbformat_minor": 5
}
