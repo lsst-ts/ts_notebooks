{
 "cells": [
  {
   "cell_type": "markdown",
   "id": "9ed6c053-bfc6-4938-b988-d5b8354a6d3b",
   "metadata": {},
   "source": [
    "# M2 Simulation Analysis\n",
    "\n",
    "This notebook is to analyze the change of actuator forces under different elevation angle or active optics force correction.\n",
    "The target is to have an understanding of possible range of actuator forces in the normal operation.\n",
    "This is used to help the design of mirror safety test cases.\n",
    "The main idea is to make sure each actuator force should not be more than the threshould force.\n",
    "\n",
    "When the vender delivered the M2 hardware/software, the system is mainly designed to work under the closed-loop control with the look-up table (LUT) correction (contains the gravity and temperature corrections).\n",
    "The control software is designed to transition to the **Fault** state if any axial actuator force is more than **444.82 N** or any tangential force is more than **4893.04 N** (see **T14900-1001, rev 3, EUI Manual.docx**).\n",
    "As a reference, the threshold forces under the open-loop control is **489.30 N** and **6005.1 N** individually.\n",
    "Compared with the close-loop control, no LUT correction will be applied in the open-loop control.\n",
    "\n",
    "For the active optics force correction, usually it will apply to all 72 axial actuators at the same time as a linear combination of 20 bending modes.\n",
    "But for the engineering test, sometimes, the actuator bump test or related test will be applied.\n",
    "Under this condition, there should be a threshold of the neighboring actuator forces in additional to the actuator with the applied force."
   ]
  },
  {
   "cell_type": "markdown",
   "id": "041bd6b1-5ada-42ec-bd80-54e03c53060d",
   "metadata": {},
   "source": [
    "## Import Modules\n",
    "\n",
    "This notebook needs to setup the **ts_m2com** to simulate the actuator under the **notebooks/.user_setups**, which depends on the **ts_tcpip**.\n",
    "To get the bending mode of M2, you need to setup the **ts_ofc**.\n",
    "You also need to have **ts_mtm2** under the **WORK/** directory to read the confiugration files to do the analysis."
   ]
  },
  {
   "cell_type": "code",
   "execution_count": null,
   "id": "8e2c516a-e3b4-41be-a6aa-d62cd156cd6b",
   "metadata": {},
   "outputs": [],
   "source": [
    "%matplotlib inline\n",
    "%matplotlib widget\n",
    "import numpy as np\n",
    "import matplotlib.pyplot as plt\n",
    "from pathlib import Path\n",
    "import yaml\n",
    "\n",
    "import ipywidgets as widgets\n",
    "from ipywidgets import interact, interact_manual\n",
    "\n",
    "from lsst.ts.m2com import MockControlOpenLoop, MockControlClosedLoop, NUM_ACTUATOR, NUM_TANGENT_LINK\n",
    "from lsst.ts.ofc.utils import get_config_dir as get_config_dir_ofc"
   ]
  },
  {
   "cell_type": "markdown",
   "id": "4a2ba238-c5c3-40c9-9634-f37f8c0b69bf",
   "metadata": {},
   "source": [
    "## Functions"
   ]
  },
  {
   "cell_type": "code",
   "execution_count": null,
   "id": "ee06b0f4-0e8c-4c3f-b9a3-c87886139067",
   "metadata": {},
   "outputs": [],
   "source": [
    "def calculate_forces(control_closed_loop, lut_angles, forces_mirror_weight):\n",
    "    \"\"\"Calculate the forces.\n",
    "\n",
    "    Parameters\n",
    "    ----------\n",
    "    control_closed_loop : `lsst.ts.m2com.MockControlClosedLoop`\n",
    "        Closed-loop controller.\n",
    "    lut_angles: `numpy.ndarray`\n",
    "        LUT angles in degree.\n",
    "    forces_mirror_weight : `numpy.ndarray`\n",
    "        Mirror weight force in Newton: [axial, A2, A5].\n",
    "    \n",
    "    Returns\n",
    "    -------\n",
    "    forces_demanded : `numpy.ndarray`\n",
    "        Demanded force in Newton. The row is each actuator and the column is the LUT angle.\n",
    "    hardpoint_correction : `numpy.ndarray`\n",
    "        Hardpoint correction in Newton. The row is each actuator and the column is the LUT angle.\n",
    "    forces_measured : `numpy.ndarray`\n",
    "        Measured force in Newton. The row is each actuator and the column is the LUT angle.\n",
    "    \"\"\"\n",
    "\n",
    "    forces_demanded = np.zeros([NUM_ACTUATOR, len(lut_angles)])\n",
    "    hardpoint_correction = np.zeros([NUM_ACTUATOR, len(lut_angles)])\n",
    "    forces_measured = np.zeros([NUM_ACTUATOR, len(lut_angles)])\n",
    "\n",
    "    num_axial_actuators = NUM_ACTUATOR - NUM_TANGENT_LINK\n",
    "    control_closed_loop.is_running = True\n",
    "    for idx, lut_angle in enumerate(lut_angles):\n",
    "\n",
    "        force_axial = np.array([forces_mirror_weight[0, idx]] * num_axial_actuators)\n",
    "        force_tangent = np.array([0, forces_mirror_weight[1, idx], forces_mirror_weight[1, idx],\n",
    "                                  0, forces_mirror_weight[2, idx], forces_mirror_weight[2, idx]])\n",
    "        control_closed_loop.set_measured_forces(force_axial, force_tangent)\n",
    "\n",
    "        control_closed_loop.calc_look_up_forces(lut_angle)\n",
    "\n",
    "        forces_demanded[:, idx] = control_closed_loop.get_demanded_force()\n",
    "        hardpoint_correction[:, idx] = np.append(control_closed_loop.axial_forces[\"hardpointCorrection\"],\n",
    "                                                 control_closed_loop.tangent_forces[\"hardpointCorrection\"])\n",
    "        \n",
    "        in_position = False\n",
    "        while (not in_position):\n",
    "            in_position = control_closed_loop.handle_forces(force_rms=0, force_per_cycle=10)\n",
    "\n",
    "        forces_measured[:, idx] = np.append(control_closed_loop.axial_forces[\"measured\"],\n",
    "                                            control_closed_loop.tangent_forces[\"measured\"])\n",
    "\n",
    "    return forces_demanded, hardpoint_correction, forces_measured"
   ]
  },
  {
   "cell_type": "code",
   "execution_count": null,
   "id": "0db6305d-8c03-4354-bc5f-3bbe2c82a14d",
   "metadata": {},
   "outputs": [],
   "source": [
    "def plot_forces(inclinometer_angles, forces_demanded, hardpoint_correction, forces_measured, title):\n",
    "    \"\"\"Draw the actuator forces.\n",
    "    \n",
    "    Parameters\n",
    "    ----------\n",
    "    inclinometer_angles : `numpy.ndarray`\n",
    "        Inclinometer angle in degree.\n",
    "    forces_demanded : `numpy.ndarray`\n",
    "        Demanded force in Newton. The row is each actuator and the column is the LUT angle.\n",
    "    hardpoint_correction : `numpy.ndarray`\n",
    "        Hardpoint correction in Newton. The row is each actuator and the column is the LUT angle.\n",
    "    forces_measured : `numpy.ndarray`\n",
    "        Measured force in Newton. The row is each actuator and the column is the LUT angle.\n",
    "    title : `str`\n",
    "        Title.\n",
    "    \"\"\"\n",
    "\n",
    "    num_axial_actuators = NUM_ACTUATOR - NUM_TANGENT_LINK\n",
    "\n",
    "    # Axial actuators\n",
    "\n",
    "    # Demanded forces\n",
    "    plt.figure()\n",
    "    for idx in range(num_axial_actuators):\n",
    "        plt.plot(inclinometer_angles, forces_demanded[idx, :])\n",
    "\n",
    "    plt.title(title)\n",
    "    plt.xlabel(\"Inclinometer Angle (degree)\")\n",
    "    plt.ylabel(\"Demanded Axial Actuator Force (N)\")\n",
    "    plt.show()\n",
    "\n",
    "    # Hardpoint correction\n",
    "    plt.figure()\n",
    "    for idx in range(num_axial_actuators):\n",
    "        plt.plot(inclinometer_angles, hardpoint_correction[idx, :])\n",
    "\n",
    "    plt.title(title)\n",
    "    plt.xlabel(\"Inclinometer Angle (degree)\")\n",
    "    plt.ylabel(\"Hardpoint Correction (Axial) (N)\")\n",
    "    plt.show()\n",
    "    \n",
    "    # Measured force\n",
    "    plt.figure()\n",
    "    for idx in range(num_axial_actuators):\n",
    "        plt.plot(inclinometer_angles, forces_measured[idx, :])\n",
    "\n",
    "    plt.title(title)\n",
    "    plt.xlabel(\"Inclinometer Angle (degree)\")\n",
    "    plt.ylabel(\"Measured Axial Actuator Force (N)\")\n",
    "    plt.show()\n",
    "\n",
    "    # Tangent links\n",
    "\n",
    "    # Demanded forces\n",
    "    plt.figure()\n",
    "    for idx in range(NUM_TANGENT_LINK):\n",
    "        plt.plot(inclinometer_angles, forces_demanded[num_axial_actuators+idx, :])\n",
    "\n",
    "    plt.title(title)\n",
    "    plt.xlabel(\"Inclinometer angle (degree)\")\n",
    "    plt.ylabel(\"Demanded Tangent Actuator Force (N)\")\n",
    "    plt.show()\n",
    "\n",
    "    # Hardpoint correction\n",
    "    plt.figure()\n",
    "    for idx in range(NUM_TANGENT_LINK):\n",
    "        plt.plot(inclinometer_angles, hardpoint_correction[num_axial_actuators+idx, :])\n",
    "\n",
    "    plt.title(title)\n",
    "    plt.xlabel(\"Inclinometer angle (degree)\")\n",
    "    plt.ylabel(\"Hardpoint Correction (Tangent) (N)\")\n",
    "    plt.show()\n",
    "    \n",
    "    # Measured force\n",
    "    plt.figure()\n",
    "    for idx in range(NUM_TANGENT_LINK):\n",
    "        plt.plot(inclinometer_angles, forces_measured[num_axial_actuators+idx, :])\n",
    "\n",
    "    plt.title(title)\n",
    "    plt.xlabel(\"Inclinometer angle (degree)\")\n",
    "    plt.ylabel(\"Measured Tangent Actuator Force (N)\")\n",
    "    plt.show()"
   ]
  },
  {
   "cell_type": "code",
   "execution_count": null,
   "id": "db47b84d-f5aa-428c-bd64-e9e1704dcc9d",
   "metadata": {},
   "outputs": [],
   "source": [
    "def plot_bending_mode_forces(bending_mode, idx_bending_mode, amplitude):\n",
    "    \"\"\"Plot the forces of bending mode.\n",
    "    \n",
    "    Parameters\n",
    "    ----------\n",
    "    bending_mode : `numpy.ndarray`\n",
    "        Bending mode data.\n",
    "    idx_bending_mode : `int`\n",
    "        Index of bending mode (1-20).\n",
    "    amplitude : `float`\n",
    "        Amplitude of bending mode in um.\n",
    "    \"\"\"\n",
    "\n",
    "    # Column 0-2 are the actuator ID, x and y position of actuator\n",
    "    forces = amplitude * bending_mode[:, 2+idx_bending_mode]\n",
    "\n",
    "    num_axial_actuators = NUM_ACTUATOR - NUM_TANGENT_LINK\n",
    "    \n",
    "    plt.figure()\n",
    "    plt.plot(np.arange(num_axial_actuators), forces)\n",
    "    plt.title(f\"Bending mode: {idx_bending_mode}, Amplitude {amplitude} um\")\n",
    "    plt.xlabel(\"Axial Actuators\")\n",
    "    plt.ylabel(\"Force (N)\")\n",
    "    plt.show()"
   ]
  },
  {
   "cell_type": "code",
   "execution_count": null,
   "id": "f5d79ece-d427-40d5-b103-9f4cc161ab01",
   "metadata": {},
   "outputs": [],
   "source": [
    "def draw_bending_mode_forces(xy_actuators, bending_mode, idx_bending_mode, amplitude, max_marker_size=300):\n",
    "    \"\"\"Draw the forces of bending mode.\n",
    "    \n",
    "    Parameters\n",
    "    ----------\n",
    "    xy_actuators : `numpy.ndarray`\n",
    "        X, Y positions of actuators.\n",
    "    bending_mode : `numpy.ndarray`\n",
    "        Bending mode data.\n",
    "    idx_bending_mode : `int`\n",
    "        Index of bending mode (1-20).\n",
    "    amplitude : `float`\n",
    "        Amplitude of bending mode in um.\n",
    "    max_marker_size : `float`, optional\n",
    "        Maximum marker size. (the defautl is 300)\n",
    "    \"\"\"\n",
    "\n",
    "    # Column 0-2 are the actuator ID, x and y position of actuator\n",
    "    forces = amplitude * bending_mode[:, 2+idx_bending_mode]\n",
    "\n",
    "    max_force = np.max(np.abs(forces))\n",
    "    magnification = max_marker_size / max_force if max_force != 0 else 1\n",
    "\n",
    "    fig = plt.figure()\n",
    "    img = plt.scatter(\n",
    "        xy_actuators[:-NUM_TANGENT_LINK, 0],\n",
    "        xy_actuators[:-NUM_TANGENT_LINK, 1],\n",
    "        s=np.abs(forces) * magnification,\n",
    "        c=forces,\n",
    "        vmin=min(forces),\n",
    "        vmax=max(forces),\n",
    "    )\n",
    "    fig.colorbar(img)\n",
    "    \n",
    "    plt.title(f\"Force of bending mode: {idx_bending_mode}\")\n",
    "    plt.xlabel(\"X position (m)\")\n",
    "    plt.ylabel(\"Y position (m)\")\n",
    "\n",
    "    plt.show()"
   ]
  },
  {
   "cell_type": "code",
   "execution_count": null,
   "id": "15f5cc46-e79a-4e01-b910-1119094e0876",
   "metadata": {},
   "outputs": [],
   "source": [
    "def draw_forces(xy_actuators, forces, inclinometer_angle, title, max_marker_size=300):\n",
    "    \"\"\"Draw the forces.\n",
    "    \n",
    "    Parameters\n",
    "    ----------\n",
    "    xy_actuators : `numpy.ndarray`\n",
    "        X, Y positions of actuators.\n",
    "    forces : `numpy.ndarray`\n",
    "        Actuator forces in Newton.\n",
    "    inclinometer_angle : `int`\n",
    "        Inclinometer angle in degree (0-360).\n",
    "    title : `str`\n",
    "        Title.\n",
    "    max_marker_size : `float`, optional\n",
    "        Maximum marker size. (the defautl is 300)\n",
    "        \n",
    "    Returns\n",
    "    -------\n",
    "    `float`\n",
    "        Maximum axial force magnitude in Newton.\n",
    "    `float`\n",
    "        Maximum tangent force magnitude in Newton.\n",
    "    \"\"\"\n",
    "\n",
    "    force = forces[:, int(inclinometer_angle)]\n",
    "    force_axial = force[:-NUM_TANGENT_LINK]\n",
    "    force_tangent = force[-NUM_TANGENT_LINK:]\n",
    "    \n",
    "    max_force_axial = np.max(np.abs(force_axial))\n",
    "    max_force_tangent = np.max(np.abs(force_tangent))\n",
    "\n",
    "    magnification_axial = max_marker_size / max_force_axial if max_force_axial != 0 else 1\n",
    "    magnification_tangent = max_marker_size / max_force_tangent if max_force_tangent != 0 else 1\n",
    "\n",
    "    fig, ax = plt.subplots(2, 1, figsize=(5, 10))\n",
    "\n",
    "    plt.title(title)\n",
    "\n",
    "    # Draw the axial actuators\n",
    "    img = ax[0].scatter(\n",
    "        xy_actuators[:-NUM_TANGENT_LINK, 0],\n",
    "        xy_actuators[:-NUM_TANGENT_LINK, 1],\n",
    "        s=np.abs(force_axial) * magnification_axial,\n",
    "        c=force_axial,\n",
    "        vmin=min(force_axial),\n",
    "        vmax=max(force_axial),\n",
    "    )\n",
    "    fig.colorbar(img, ax=ax[0])\n",
    "\n",
    "    plt.ylabel(\"Y position (m)\")\n",
    "\n",
    "    # Draw the tangent links\n",
    "    img = ax[1].scatter(\n",
    "        xy_actuators[-NUM_TANGENT_LINK:, 0],\n",
    "        xy_actuators[-NUM_TANGENT_LINK:, 1],\n",
    "        s=np.abs(force_tangent) * magnification_tangent,\n",
    "        c=force_tangent,\n",
    "        vmin=min(force_tangent),\n",
    "        vmax=max(force_tangent),\n",
    "    )\n",
    "    fig.colorbar(img, ax=ax[1])\n",
    "\n",
    "    plt.xlabel(\"X position (m)\")\n",
    "\n",
    "    ax[0].axis(\"equal\")\n",
    "    ax[1].axis(\"equal\")\n",
    "\n",
    "    plt.show()\n",
    "    \n",
    "    return max_force_axial, max_force_tangent"
   ]
  },
  {
   "cell_type": "code",
   "execution_count": null,
   "id": "5b0d059c-03a9-4df6-a78c-7022bce6f2b0",
   "metadata": {},
   "outputs": [],
   "source": [
    "def calculate_net_force_moment(control_closed_loop, forces_measured):\n",
    "    \"\"\"Calculate the net force and moment.\n",
    "\n",
    "    Parameters\n",
    "    ----------\n",
    "    control_closed_loop : `lsst.ts.m2com.MockControlClosedLoop`\n",
    "        Closed-loop controller.\n",
    "    forces_measured : `numpy.ndarray`\n",
    "        Measured force in Newton.\n",
    "        \n",
    "    Returns\n",
    "    -------\n",
    "    net_force_moment : `numpy.ndarray`\n",
    "        Net forces and moments.\n",
    "    \"\"\"\n",
    "\n",
    "    num_points = forces_measured.shape[1]\n",
    "    net_force_moment = np.zeros([6, num_points])\n",
    "    for idx in range(num_points):\n",
    "        force = forces_measured[:, idx]\n",
    "\n",
    "        net_force = control_closed_loop._calculate_xyz_net_forces(\n",
    "            force[:-NUM_TANGENT_LINK], force[-NUM_TANGENT_LINK:])\n",
    "        net_moment = control_closed_loop._calculate_xyz_net_moments(\n",
    "            force[:-NUM_TANGENT_LINK], force[-NUM_TANGENT_LINK:])\n",
    "\n",
    "        net_force_moment[:3, idx] = np.array(list(net_force.values()))\n",
    "        net_force_moment[-3:, idx] = np.array(list(net_moment.values()))\n",
    "\n",
    "    return net_force_moment"
   ]
  },
  {
   "cell_type": "code",
   "execution_count": null,
   "id": "9c9dc6ae-53de-4306-8c6f-a7426b8c5a2b",
   "metadata": {},
   "outputs": [],
   "source": [
    "def plot_net_force_moment(inclinometer_angles, net_force_moment, title):\n",
    "    \"\"\"Plot the net force and moment.\n",
    "\n",
    "    Parameters\n",
    "    ----------\n",
    "    inclinometer_angles : `numpy.ndarray`\n",
    "        Inclinometer angle in degree.\n",
    "    net_force_moment : `numpy.ndarray`\n",
    "        Net force and moment. The row is (fx, fy, fz, mx, my, mz) and the column is the LUT angle.\n",
    "    title : `str`\n",
    "        Title.\n",
    "    \"\"\"\n",
    "    \n",
    "    y_labels = [\"Fx (N)\", \"Fy (N)\", \"Fz (N)\", \"Mx (N*m)\", \"My (N*m)\", \"Mz (N*m)\"]\n",
    "    \n",
    "    for idx, y_label in enumerate(y_labels):\n",
    "        plt.figure()\n",
    "        plt.plot(inclinometer_angles, net_force_moment[idx, :])\n",
    "        plt.title(title)\n",
    "        plt.xlabel(\"Inclinometer angle (degree)\")\n",
    "        plt.ylabel(y_label)\n",
    "        plt.show()"
   ]
  },
  {
   "cell_type": "markdown",
   "id": "c006d3ed-7ba9-4df1-8103-36bba9c45eb8",
   "metadata": {},
   "source": [
    "## Relationship between LUT Angle and Elevation Angle\n",
    "\n",
    "There is a transformation between these two angles in the calcualtion of LUT correction."
   ]
  },
  {
   "cell_type": "code",
   "execution_count": null,
   "id": "5c245c32-bc88-4153-b1ba-ef7770f6527b",
   "metadata": {},
   "outputs": [],
   "source": [
    "inclinometer_angles = np.linspace(0, 360, num=361)\n",
    "lut_angles = np.zeros(len(inclinometer_angles))\n",
    "\n",
    "control_open_loop = MockControlOpenLoop()\n",
    "for idx, inclinometer_angle in enumerate(inclinometer_angles):\n",
    "    lut_angles[idx] = control_open_loop.correct_inclinometer_angle(inclinometer_angle)"
   ]
  },
  {
   "cell_type": "code",
   "execution_count": null,
   "id": "fda148eb-4f7b-41b5-958f-d2b6e7370c84",
   "metadata": {},
   "outputs": [],
   "source": [
    "plt.figure()\n",
    "plt.plot(inclinometer_angles, lut_angles)\n",
    "plt.xlabel(\"Inclinometer angle (degree)\")\n",
    "plt.ylabel(\"LUT angle (degree)\")\n",
    "plt.show()"
   ]
  },
  {
   "cell_type": "markdown",
   "id": "499acd19-b55a-428f-a5a4-a22802a33def",
   "metadata": {},
   "source": [
    "## Check the Forces to Bear the Mirror's Weight\n",
    "\n",
    "Check the theoretical actuator force to bear the mirror's weight: **1588.65 kg** (this is what I could find in the vendor's document. Not sure this is the actual mass or not. I suppose this value should be closed to the actual value).\n",
    "All the axial actuators are considered to take the same force.\n",
    "For the tangent links, A1 and A4 do not bear the weight of mirror.\n",
    "A2 and A3 are in the same group.\n",
    "A5 and A6 are in the same group and have the reversed direction of A2 and A3 to support the mirror."
   ]
  },
  {
   "cell_type": "code",
   "execution_count": null,
   "id": "82888811-8c9f-41dd-ae41-fbe824a9f281",
   "metadata": {},
   "outputs": [],
   "source": [
    "forces_mirror_weight = np.zeros([3, len(inclinometer_angles)])\n",
    "for idx, inclinometer_angle in enumerate(inclinometer_angles):\n",
    "    force_mirror_weight = control_open_loop.get_forces_mirror_weight(inclinometer_angle)\n",
    "    forces_mirror_weight[:, idx] = force_mirror_weight[[0, 73, 76]]\n",
    "    \n",
    "print(f\"The maximum axial force is {max(forces_mirror_weight[0,:])} N.\")\n",
    "print(f\"The maximum tangential force is {max(forces_mirror_weight[1,:])} N.\")"
   ]
  },
  {
   "cell_type": "code",
   "execution_count": null,
   "id": "5ee20ce1-aa2d-4b69-b165-154cf46468bb",
   "metadata": {},
   "outputs": [],
   "source": [
    "plt.figure()\n",
    "plt.plot(inclinometer_angles, forces_mirror_weight[0, :])\n",
    "plt.xlabel(\"Inclinometer angle (degree)\")\n",
    "plt.ylabel(\"Axial Actuator Force (N)\")\n",
    "plt.show()"
   ]
  },
  {
   "cell_type": "code",
   "execution_count": null,
   "id": "c95da3c6-c049-469c-b67a-07249997d458",
   "metadata": {},
   "outputs": [],
   "source": [
    "plt.figure()\n",
    "plt.plot(inclinometer_angles, forces_mirror_weight[1, :])\n",
    "plt.plot(inclinometer_angles, forces_mirror_weight[2, :])\n",
    "plt.legend([\"A2, A3\", \"A5, A6\"])\n",
    "plt.xlabel(\"Inclinometer angle (degree)\")\n",
    "plt.ylabel(\"Tangent Link Force (N)\")\n",
    "plt.show()"
   ]
  },
  {
   "cell_type": "code",
   "execution_count": null,
   "id": "7d3b314c-0ff6-4200-bcb5-4428eb14a779",
   "metadata": {},
   "outputs": [],
   "source": [
    "@interact(inclinometer_angle=(0, 360, 1))\n",
    "def check_forces_mirror_weight(inclinometer_angle):\n",
    "    num_axial_actuatos = NUM_ACTUATOR - NUM_TANGENT_LINK\n",
    "    axial_total = forces_mirror_weight[0, int(inclinometer_angle)] * num_axial_actuatos\n",
    "\n",
    "    tangent_total = np.abs(forces_mirror_weight[1, int(inclinometer_angle)]) * 4\n",
    "    \n",
    "    print(f\"Total axial force is {axial_total:.2f} N.\")\n",
    "    print(f\"Total tangential force is {tangent_total:.2f} N.\")\n",
    "\n",
    "    print(f\"Tangent force (A2 + A3) is {forces_mirror_weight[1, int(inclinometer_angle)] * 2:.2f} N.\")\n",
    "    print(f\"Tangent force (A5 + A6) is {forces_mirror_weight[2, int(inclinometer_angle)] * 2:.2f} N.\")"
   ]
  },
  {
   "cell_type": "markdown",
   "id": "445eba58-5a56-402d-b82e-94c9324b2938",
   "metadata": {},
   "source": [
    "## Check the LUT Correction\n",
    "\n",
    "Under the closed-loop control, the LUT correction (gravity + temperature) is applied."
   ]
  },
  {
   "cell_type": "code",
   "execution_count": null,
   "id": "657a3bfb-654f-45bc-a630-ca49f1befc0a",
   "metadata": {
    "tags": []
   },
   "outputs": [],
   "source": [
    "config_path = Path.home() / \"WORK\" / \"ts_mtm2\" / \"config\" / \"parameter_files\"\n",
    "\n",
    "filepath_surrogate = config_path / \"luts\" / \"FinalHandlingLUTs\"\n",
    "filepath_mirror = config_path / \"luts\" / \"FinalOpticalLUTs\"\n",
    "\n",
    "filepath_hardpoint_surrogate = config_path / \"closed_loop_controller\" / \"CtrlParameterFiles_2018-07-19_104314_surg\" / \"Hd_ax_Matrix_Params.csv\"\n",
    "filepath_hardpoint_mirror = config_path / \"closed_loop_controller\" / \"CtrlParameterFiles_2018-07-19_104257_m2\" / \"Hd_ax_Matrix_Params.csv\"\n",
    "\n",
    "filepath_cell_geom = Path.home() / \"WORK\" / \"ts_mtm2\" / \"config\" / \"cellGeom.json\""
   ]
  },
  {
   "cell_type": "code",
   "execution_count": null,
   "id": "7f5ab646-b4b0-40b7-9659-6f10d902e641",
   "metadata": {},
   "outputs": [],
   "source": [
    "control_closed_loop_surrogate = MockControlClosedLoop()\n",
    "control_closed_loop_surrogate.load_file_lut(filepath_surrogate)\n",
    "control_closed_loop_surrogate.load_file_cell_geometry(filepath_cell_geom)\n",
    "control_closed_loop_surrogate.load_file_hardpoint_compensation(filepath_hardpoint_surrogate)\n",
    "\n",
    "control_closed_loop_mirror = MockControlClosedLoop()\n",
    "control_closed_loop_mirror.load_file_lut(filepath_mirror)\n",
    "control_closed_loop_mirror.load_file_cell_geometry(filepath_cell_geom)\n",
    "control_closed_loop_mirror.load_file_hardpoint_compensation(filepath_hardpoint_mirror)"
   ]
  },
  {
   "cell_type": "markdown",
   "id": "e11898f8-e4d7-43ad-a7a5-da9a5d1b32a9",
   "metadata": {},
   "source": [
    "### Calculate the forces.\n",
    "\n",
    "The demanded force is defined to be \"active optics correction\" + LUT correction.\n",
    "Consider the condition that there is no active optics correction first.\n",
    "In the calculation of LUT temperature correction, only consider the normal case in the simulator, which has the 24.49 and 26.53 degree Celsius as a simplified condition."
   ]
  },
  {
   "cell_type": "code",
   "execution_count": null,
   "id": "026e1ac6-77d5-44f2-a971-89bedaaac720",
   "metadata": {},
   "outputs": [],
   "source": [
    "forces_demanded_surrogate, hardpoint_correction_surrogate, forces_measured_surrogate = calculate_forces(\n",
    "    control_closed_loop_surrogate, lut_angles, forces_mirror_weight)\n",
    "\n",
    "forces_demanded_mirror, hardpoint_correction_mirror, forces_measured_mirror = calculate_forces(\n",
    "    control_closed_loop_mirror, lut_angles, forces_mirror_weight)\n",
    "\n",
    "print(\"Max measured forces in axial and tangential direction of surrogate are \"\n",
    "      f\"{np.max(np.abs(forces_measured_surrogate[:-NUM_TANGENT_LINK,:])):.2f} N and \"\n",
    "      f\"{np.max(np.abs(forces_measured_surrogate[-NUM_TANGENT_LINK:,:])):.2f} N.\")\n",
    "\n",
    "print(\"Max measured forces in axial and tangential direction of mirror are \"\n",
    "      f\"{np.max(np.abs(forces_measured_mirror[:-NUM_TANGENT_LINK,:])):.2f} N and \"\n",
    "      f\"{np.max(np.abs(forces_measured_mirror[-NUM_TANGENT_LINK:,:])):.2f} N.\")"
   ]
  },
  {
   "cell_type": "markdown",
   "id": "49c4e82b-0dcd-4639-add7-c57ae22821a9",
   "metadata": {},
   "source": [
    "Based on the above calculation, the theoretical axail force can be more than the default threshold.\n",
    "However, this calculation is a simplified model, and need to use the real measurement to evaluate the difference between the real forces and theoretical forces.\n",
    "But it is clear that the buffer of mirror safety might be tight at certain inclinometer angles."
   ]
  },
  {
   "cell_type": "markdown",
   "id": "5bd682ae-4873-404a-ad9f-b858c9c4ddf9",
   "metadata": {},
   "source": [
    "#### Surrogate"
   ]
  },
  {
   "cell_type": "code",
   "execution_count": null,
   "id": "2fd8f283-c2eb-43c0-a12c-83c79a2644c4",
   "metadata": {},
   "outputs": [],
   "source": [
    "plot_forces(inclinometer_angles, forces_demanded_surrogate, hardpoint_correction_surrogate,\n",
    "            forces_measured_surrogate, \"Surrogate\")"
   ]
  },
  {
   "cell_type": "markdown",
   "id": "0b57d8df-20aa-4658-b7c6-959e663a88ae",
   "metadata": {},
   "source": [
    "In the above figure, it is clear that the hardpoint correction is different between 0-180 degree and 180-360 degree regions, which implies the orientation of mirror is face-up or face-down."
   ]
  },
  {
   "cell_type": "markdown",
   "id": "fd625197-7a21-4ee3-b785-8fd84b7a7087",
   "metadata": {},
   "source": [
    "#### Mirror"
   ]
  },
  {
   "cell_type": "code",
   "execution_count": null,
   "id": "f7f4fb09-704a-43d4-aefe-95e1f74c1907",
   "metadata": {},
   "outputs": [],
   "source": [
    "plot_forces(inclinometer_angles, forces_demanded_mirror, hardpoint_correction_mirror,\n",
    "            forces_measured_mirror, \"Mirror\")"
   ]
  },
  {
   "cell_type": "markdown",
   "id": "6e0b1614-773f-476f-9832-d96db81d3540",
   "metadata": {},
   "source": [
    "## Active Optics Correction\n",
    "\n",
    "Every 15 seconds, the active optics system (AOS) will apply the maximum 20 bending modes to M2 to improve the image quality.\n",
    "In the optical feedback control (OFC), the penality of M2 correction is high, and the priority to apply the M2 bending mode might be low.\n",
    "Under the current simulation of active optics system, the maximum 5% M1M3 actuator force error is applied, and the amplitude of M2 bending mode correction is between 0.1 um and 1e-5 um. "
   ]
  },
  {
   "cell_type": "code",
   "execution_count": null,
   "id": "4a890ef7-200c-4677-8a9c-98909ebb650b",
   "metadata": {},
   "outputs": [],
   "source": [
    "bending_mode_file = get_config_dir_ofc() / \"M2\" / \"M2_1um_72_force.yaml\"\n",
    "with open(bending_mode_file, \"r\") as yaml_file:\n",
    "    bending_mode = np.array(yaml.safe_load(yaml_file))\n",
    "\n",
    "for idx in range(1, 21):\n",
    "    print(f\"Maximum force in bending mode (1 um): '{idx}' is {np.max(np.abs(bending_mode[:, 2+idx])):.2f} N.\")"
   ]
  },
  {
   "cell_type": "code",
   "execution_count": null,
   "id": "37356ff1-458c-4a78-a385-aad10c49069d",
   "metadata": {},
   "outputs": [],
   "source": [
    "plot_bending_mode_forces(bending_mode, 1, 1)"
   ]
  },
  {
   "cell_type": "markdown",
   "id": "4f566f42-3174-4881-92e9-3d5d878319c8",
   "metadata": {},
   "source": [
    "### Data Visualization\n",
    "\n",
    "Do the interactive drawing to have the idea of force distribution."
   ]
  },
  {
   "cell_type": "markdown",
   "id": "fff08278-4494-459d-94b9-7b34d77110f0",
   "metadata": {},
   "source": [
    "Get the x, y position of actuators."
   ]
  },
  {
   "cell_type": "code",
   "execution_count": null,
   "id": "c8c8b1db-dd55-40cc-bbec-f3bf083d47e4",
   "metadata": {},
   "outputs": [],
   "source": [
    "# Axial actuators\n",
    "xy_axial = np.array(control_closed_loop_surrogate._cell_geom[\"locAct_axial\"])\n",
    "\n",
    "# Tangent links\n",
    "radius = control_closed_loop_surrogate._cell_geom[\"radiusActTangent\"]\n",
    "angle_radian = np.deg2rad(control_closed_loop_surrogate._cell_geom[\"locAct_tangent\"])\n",
    "\n",
    "xy_tangent = np.zeros([NUM_TANGENT_LINK, 2])\n",
    "xy_tangent[:, 0] = radius * np.cos(angle_radian)\n",
    "xy_tangent[:, 1] = radius * np.sin(angle_radian)\n",
    "\n",
    "xy_actuators = np.zeros([NUM_ACTUATOR, 2])\n",
    "xy_actuators[:-NUM_TANGENT_LINK, :] = xy_axial\n",
    "xy_actuators[-NUM_TANGENT_LINK:, :] = xy_tangent"
   ]
  },
  {
   "cell_type": "code",
   "execution_count": null,
   "id": "ca88a879-2331-41d5-81d0-c5edcef3ccc1",
   "metadata": {},
   "outputs": [],
   "source": [
    "@interact(idx=(1, 20), amplitude=(0, 1, 0.01))\n",
    "def draw_bending_mode_forces_interactive(idx, amplitude):\n",
    "    draw_bending_mode_forces(xy_actuators, bending_mode, idx, amplitude)"
   ]
  },
  {
   "cell_type": "code",
   "execution_count": null,
   "id": "8c8a87da-a34f-4441-8072-27ff2b3697e9",
   "metadata": {},
   "outputs": [],
   "source": [
    "@interact(inclinometer_angle=(0, 360, 1))\n",
    "def draw_forces_interactive(inclinometer_angle):\n",
    "    max_force_axial, max_force_tangent = draw_forces(\n",
    "        xy_actuators, forces_measured_surrogate, inclinometer_angle, \"Surrogate\")\n",
    "    print(f\"Maximum axial force magnitude: {max_force_axial:0.2f} N\")\n",
    "    print(f\"Maximum tangential force magnitude: {max_force_tangent:0.2f} N\")"
   ]
  },
  {
   "cell_type": "code",
   "execution_count": null,
   "id": "be7c66c7-55e9-472d-a1d4-5904dea7adba",
   "metadata": {},
   "outputs": [],
   "source": [
    "@interact(inclinometer_angle=(0, 360, 1))\n",
    "def draw_forces_interactive(inclinometer_angle):\n",
    "    max_force_axial, max_force_tangent = draw_forces(\n",
    "        xy_actuators, forces_measured_mirror, inclinometer_angle, \"Mirror\")\n",
    "    print(f\"Maximum axial force magnitude: {max_force_axial:0.2f} N\")\n",
    "    print(f\"Maximum tangential force magnitude: {max_force_tangent:0.2f} N\")"
   ]
  },
  {
   "cell_type": "markdown",
   "id": "4cc96289-ab44-4175-9f81-b6ad6181c112",
   "metadata": {},
   "source": [
    "### Check the Net Forces and Moments"
   ]
  },
  {
   "cell_type": "code",
   "execution_count": null,
   "id": "bd18b82a-9d97-4547-b5d9-f2d5323f7e7a",
   "metadata": {},
   "outputs": [],
   "source": [
    "net_force_moment_surrogate = calculate_net_force_moment(\n",
    "    control_closed_loop_surrogate, forces_measured_surrogate)\n",
    "net_force_moment_mirror = calculate_net_force_moment(\n",
    "    control_closed_loop_mirror, forces_measured_mirror)\n",
    "\n",
    "print(f\"Max fx (Surrogate): {np.max(np.abs(net_force_moment_surrogate[0, :])):0.2f} N.\")\n",
    "print(f\"Max fy (Surrogate): {np.max(np.abs(net_force_moment_surrogate[1, :])):0.2f} N.\")\n",
    "print(f\"Max fz (Surrogate): {np.max(np.abs(net_force_moment_surrogate[2, :])):0.2f} N.\")\n",
    "\n",
    "print(f\"Max mx (Surrogate): {np.max(np.abs(net_force_moment_surrogate[3, :])):0.2f} N*m.\")\n",
    "print(f\"Max my (Surrogate): {np.max(np.abs(net_force_moment_surrogate[4, :])):0.2f} N*m.\")\n",
    "print(f\"Max mz (Surrogate): {np.max(np.abs(net_force_moment_surrogate[5, :])):0.2f} N*m.\")\n",
    "\n",
    "print(\"\")\n",
    "\n",
    "print(f\"Max fx (Mirror): {np.max(np.abs(net_force_moment_mirror[0, :])):0.2f} N.\")\n",
    "print(f\"Max fy (Mirror): {np.max(np.abs(net_force_moment_mirror[1, :])):0.2f} N.\")\n",
    "print(f\"Max fz (Mirror): {np.max(np.abs(net_force_moment_mirror[2, :])):0.2f} N.\")\n",
    "\n",
    "print(f\"Max mx (Mirror): {np.max(np.abs(net_force_moment_mirror[3, :])):0.2f} N*m.\")\n",
    "print(f\"Max my (Mirror): {np.max(np.abs(net_force_moment_mirror[4, :])):0.2f} N*m.\")\n",
    "print(f\"Max mz (Mirror): {np.max(np.abs(net_force_moment_mirror[5, :])):0.2f} N*m.\")"
   ]
  },
  {
   "cell_type": "markdown",
   "id": "f68abea7-d221-4d4d-97c5-d7b17ee34821",
   "metadata": {},
   "source": [
    "The difference of moment y between the surrogate and mirror is very large.\n",
    "I do not understand why."
   ]
  },
  {
   "cell_type": "markdown",
   "id": "b8167c0f-512c-408a-94d4-7eba9827c324",
   "metadata": {},
   "source": [
    "#### Surrogate"
   ]
  },
  {
   "cell_type": "code",
   "execution_count": null,
   "id": "a1235d9e-6fb2-4279-9572-fee17472b175",
   "metadata": {},
   "outputs": [],
   "source": [
    "plot_net_force_moment(inclinometer_angles, net_force_moment_surrogate, \"Surrogate\")"
   ]
  },
  {
   "cell_type": "markdown",
   "id": "3795ce4d-d983-476c-97b5-119f3af183ef",
   "metadata": {},
   "source": [
    "#### Mirror"
   ]
  },
  {
   "cell_type": "code",
   "execution_count": null,
   "id": "5e2c7b46-d0a2-498a-8cfc-07234e50f96b",
   "metadata": {},
   "outputs": [],
   "source": [
    "plot_net_force_moment(inclinometer_angles, net_force_moment_mirror, \"Mirror\")"
   ]
  },
  {
   "cell_type": "markdown",
   "id": "eb9ed95e-f99d-4bb0-bd06-f64cabf7878f",
   "metadata": {},
   "source": [
    "I begin to suspect the LUT/parameters files of mirror have the problems based on the figure of y-moment.\n",
    "The other possiblity is that only the LUT of 180-360 degree region is used."
   ]
  },
  {
   "cell_type": "code",
   "execution_count": null,
   "id": "cd26745e-15aa-4a61-ade3-60e17735af3b",
   "metadata": {},
   "outputs": [],
   "source": [
    "plt.close(\"all\")"
   ]
  },
  {
   "cell_type": "code",
   "execution_count": null,
   "id": "9b6a5af5-61b6-4934-b658-32a64f4abb26",
   "metadata": {},
   "outputs": [],
   "source": []
  },
  {
   "cell_type": "code",
   "execution_count": null,
   "id": "34522df0-9a7b-4532-b660-7824ebc16d7a",
   "metadata": {},
   "outputs": [],
   "source": []
  }
 ],
 "metadata": {
  "kernelspec": {
   "display_name": "LSST",
   "language": "python",
   "name": "lsst"
  },
  "language_info": {
   "codemirror_mode": {
    "name": "ipython",
    "version": 3
   },
   "file_extension": ".py",
   "mimetype": "text/x-python",
   "name": "python",
   "nbconvert_exporter": "python",
   "pygments_lexer": "ipython3",
   "version": "3.10.5"
  }
 },
 "nbformat": 4,
 "nbformat_minor": 5
}
