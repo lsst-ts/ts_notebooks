{
 "cells": [
  {
   "cell_type": "code",
   "execution_count": 1,
   "id": "ef907d15-30cb-4576-b304-acc11e19f9dc",
   "metadata": {
    "execution": {
     "iopub.execute_input": "2023-05-30T16:44:29.043635Z",
     "iopub.status.busy": "2023-05-30T16:44:29.042641Z",
     "iopub.status.idle": "2023-05-30T16:44:30.017594Z",
     "shell.execute_reply": "2023-05-30T16:44:30.016683Z",
     "shell.execute_reply.started": "2023-05-30T16:44:29.043597Z"
    },
    "tags": []
   },
   "outputs": [
    {
     "data": {
      "text/html": [
       "<pre style=\"margin: 0.1em;\n",
       "padding-left: 0.25em;\n",
       "border-left-style: solid;\n",
       "font-family: var(--jp-code-font-family);\n",
       "font-size: var(--jp-code-font-size);\n",
       "line-height: var(--jp-code-line-height);\n",
       "\"><span style=\"color: var(--jp-warn-color2)\">lsst.ts.utils.tai</span> <span style=\"color: var(--jp-info-color0)\">INFO</span>: Update leap second table</pre>"
      ],
      "text/plain": [
       "<IPython.core.display.HTML object>"
      ]
     },
     "metadata": {},
     "output_type": "display_data"
    },
    {
     "data": {
      "text/html": [
       "<pre style=\"margin: 0.1em;\n",
       "padding-left: 0.25em;\n",
       "border-left-style: solid;\n",
       "font-family: var(--jp-code-font-family);\n",
       "font-size: var(--jp-code-font-size);\n",
       "line-height: var(--jp-code-line-height);\n",
       "\"><span style=\"color: var(--jp-warn-color2)\">lsst.ts.utils.tai</span> <span style=\"color: var(--jp-info-color0)\">INFO</span>: current_tai uses the system TAI clock</pre>"
      ],
      "text/plain": [
       "<IPython.core.display.HTML object>"
      ]
     },
     "metadata": {},
     "output_type": "display_data"
    }
   ],
   "source": [
    "%matplotlib inline\n",
    "%matplotlib widget\n",
    "from datetime import datetime, timedelta \n",
    "import time\n",
    "from astropy.time import Time\n",
    "import pandas as pd\n",
    "import numpy as np\n",
    "import matplotlib.pyplot as plt\n",
    "from copy import copy\n",
    "\n",
    "import asyncio\n",
    "import os\n",
    "from lsst.ts import salobj \n",
    "from scipy.fft import fft, fftfreq\n",
    "from lsst.ts.m2com import NUM_ACTUATOR, NUM_TANGENT_LINK\n",
    "\n",
    "from lsst_efd_client import EfdClient\n"
   ]
  },
  {
   "cell_type": "code",
   "execution_count": 2,
   "id": "cfd07591-eef9-4742-ae08-caf97fdaa63b",
   "metadata": {
    "execution": {
     "iopub.execute_input": "2023-05-30T16:44:32.410469Z",
     "iopub.status.busy": "2023-05-30T16:44:32.410058Z",
     "iopub.status.idle": "2023-05-30T16:44:32.858413Z",
     "shell.execute_reply": "2023-05-30T16:44:32.857785Z",
     "shell.execute_reply.started": "2023-05-30T16:44:32.410435Z"
    },
    "tags": []
   },
   "outputs": [
    {
     "data": {
      "text/html": [
       "<pre style=\"margin: 0.1em;\n",
       "padding-left: 0.25em;\n",
       "border-left-style: solid;\n",
       "font-family: var(--jp-code-font-family);\n",
       "font-size: var(--jp-code-font-size);\n",
       "line-height: var(--jp-code-line-height);\n",
       "\"><span style=\"color: var(--jp-warn-color2)\">MTM2</span> <span style=\"color: var(--jp-info-color0)\">INFO</span>: Disabling authlist-based command authorization</pre>"
      ],
      "text/plain": [
       "<IPython.core.display.HTML object>"
      ]
     },
     "metadata": {},
     "output_type": "display_data"
    },
    {
     "data": {
      "text/html": [
       "<pre style=\"margin: 0.1em;\n",
       "padding-left: 0.25em;\n",
       "border-left-style: solid;\n",
       "font-family: var(--jp-code-font-family);\n",
       "font-size: var(--jp-code-font-size);\n",
       "line-height: var(--jp-code-line-height);\n",
       "\"><span style=\"color: var(--jp-warn-color2)\">MTM2</span> <span style=\"color: var(--jp-info-color0)\">INFO</span>: Read historical data in 0.23 sec</pre>"
      ],
      "text/plain": [
       "<IPython.core.display.HTML object>"
      ]
     },
     "metadata": {},
     "output_type": "display_data"
    },
    {
     "data": {
      "text/plain": [
       "<ddsutil.MTM2_ackcmd_b60441f4 at 0x7f760c718c10>"
      ]
     },
     "execution_count": 2,
     "metadata": {},
     "output_type": "execute_result"
    }
   ],
   "source": [
    "domain = salobj.Domain()\n",
    "m2 = salobj.Remote(domain, \"MTM2\")\n",
    "await m2.start_task\n",
    "await m2.cmd_setLogLevel.set_start(level=10)"
   ]
  },
  {
   "cell_type": "code",
   "execution_count": null,
   "id": "a203d27d-cb56-48f0-9961-0ad2a375cde1",
   "metadata": {},
   "outputs": [],
   "source": [
    "\"\"\"    \n",
    "DISABLED = 1\n",
    "ENABLED = 2\n",
    "FAULT = 3\n",
    "OFFLINE = 4\n",
    "STANDBY = 5\n",
    "\n",
    "Standby  -->  Disable  -->  Enabled\n",
    "\n",
    "await m2.cmd_start.set_start(timeout=30)\n",
    "await m2.cmd_enable.set_start(timeout=200)\n",
    "\n",
    "3) To Stop, do this:    Enabled  -->  Disable  -->  Standby\n",
    "\n",
    "await m2.cmd_disable.set_start(timeout=30)\n",
    "await m2.cmd_standby.set_start(timeout=30) \"\"\" "
   ]
  },
  {
   "cell_type": "code",
   "execution_count": 49,
   "id": "31ce34ed-7dc4-4dc4-b3de-f18aa549429b",
   "metadata": {
    "execution": {
     "iopub.execute_input": "2023-05-24T13:52:12.095548Z",
     "iopub.status.busy": "2023-05-24T13:52:12.094762Z",
     "iopub.status.idle": "2023-05-24T13:52:12.099891Z",
     "shell.execute_reply": "2023-05-24T13:52:12.099183Z",
     "shell.execute_reply.started": "2023-05-24T13:52:12.095515Z"
    },
    "tags": []
   },
   "outputs": [
    {
     "name": "stdout",
     "output_type": "stream",
     "text": [
      "private_revCode: 0ebebdcc, private_sndStamp: 1684936362.83504, private_rcvStamp: 1684936362.8355777, private_seqNum: 23, private_identity: MTM2, private_origin: 11350, summaryState: 2\n"
     ]
    }
   ],
   "source": [
    "# get status\n",
    "state = m2.evt_summaryState.get()\n",
    "print(state)"
   ]
  },
  {
   "cell_type": "code",
   "execution_count": 46,
   "id": "c01610ee-69ce-464e-bec0-f8f21a0e8549",
   "metadata": {
    "execution": {
     "iopub.execute_input": "2023-05-24T13:51:49.257874Z",
     "iopub.status.busy": "2023-05-24T13:51:49.256905Z",
     "iopub.status.idle": "2023-05-24T13:51:49.375972Z",
     "shell.execute_reply": "2023-05-24T13:51:49.375341Z",
     "shell.execute_reply.started": "2023-05-24T13:51:49.257831Z"
    },
    "tags": []
   },
   "outputs": [
    {
     "data": {
      "text/plain": [
       "<ddsutil.MTM2_ackcmd_b60441f4 at 0x7f6cf5277d60>"
      ]
     },
     "execution_count": 46,
     "metadata": {},
     "output_type": "execute_result"
    }
   ],
   "source": [
    "# Standby  -->  Disable\n",
    "await m2.cmd_start.set_start(timeout=30)"
   ]
  },
  {
   "cell_type": "code",
   "execution_count": 48,
   "id": "16a12ef4-e17e-4158-b4d7-649492b9e498",
   "metadata": {
    "execution": {
     "iopub.execute_input": "2023-05-24T13:51:55.699552Z",
     "iopub.status.busy": "2023-05-24T13:51:55.699131Z",
     "iopub.status.idle": "2023-05-24T13:52:05.841752Z",
     "shell.execute_reply": "2023-05-24T13:52:05.840845Z",
     "shell.execute_reply.started": "2023-05-24T13:51:55.699516Z"
    },
    "tags": []
   },
   "outputs": [
    {
     "data": {
      "text/plain": [
       "<ddsutil.MTM2_ackcmd_b60441f4 at 0x7f6cf67f4160>"
      ]
     },
     "execution_count": 48,
     "metadata": {},
     "output_type": "execute_result"
    }
   ],
   "source": [
    "# Disable  -->  Enabled\n",
    "await m2.cmd_enable.set_start(timeout=200)"
   ]
  },
  {
   "cell_type": "code",
   "execution_count": 48,
   "id": "99aa3b26-1bab-4c58-854a-dbc49000d6c8",
   "metadata": {
    "execution": {
     "iopub.execute_input": "2023-05-19T20:13:52.507005Z",
     "iopub.status.busy": "2023-05-19T20:13:52.506653Z",
     "iopub.status.idle": "2023-05-19T20:13:52.513503Z",
     "shell.execute_reply": "2023-05-19T20:13:52.513006Z",
     "shell.execute_reply.started": "2023-05-19T20:13:52.506988Z"
    },
    "tags": []
   },
   "outputs": [
    {
     "data": {
      "text/plain": [
       "<ddsutil.MTM2_ackcmd_b60441f4 at 0x7fbed55080a0>"
      ]
     },
     "execution_count": 48,
     "metadata": {},
     "output_type": "execute_result"
    }
   ],
   "source": [
    "# Enabled  -->  Disable\n",
    "await m2.cmd_disable.set_start(timeout=30)"
   ]
  },
  {
   "cell_type": "code",
   "execution_count": 42,
   "id": "7068998f-4c9d-48ad-aa93-770f5666ec11",
   "metadata": {
    "execution": {
     "iopub.execute_input": "2023-05-24T13:49:47.251263Z",
     "iopub.status.busy": "2023-05-24T13:49:47.250633Z",
     "iopub.status.idle": "2023-05-24T13:49:54.370230Z",
     "shell.execute_reply": "2023-05-24T13:49:54.369169Z",
     "shell.execute_reply.started": "2023-05-24T13:49:47.251224Z"
    },
    "tags": []
   },
   "outputs": [
    {
     "data": {
      "text/plain": [
       "<ddsutil.MTM2_ackcmd_b60441f4 at 0x7f6cf67f6a40>"
      ]
     },
     "execution_count": 42,
     "metadata": {},
     "output_type": "execute_result"
    }
   ],
   "source": [
    "#Disable  -->  Standby\n",
    "await m2.cmd_standby.set_start(timeout=30)"
   ]
  },
  {
   "cell_type": "code",
   "execution_count": null,
   "id": "24d4c62c-8778-4e8e-84c0-be6ecdf77cb1",
   "metadata": {
    "execution": {
     "iopub.status.busy": "2023-05-19T20:13:17.225249Z",
     "iopub.status.idle": "2023-05-19T20:13:17.225462Z",
     "shell.execute_reply": "2023-05-19T20:13:17.225367Z",
     "shell.execute_reply.started": "2023-05-19T20:13:17.225357Z"
    },
    "tags": []
   },
   "outputs": [],
   "source": [
    "#Fault --> Standby\n",
    "await m2.cmd_standby.set_start(timeout=30)"
   ]
  },
  {
   "cell_type": "code",
   "execution_count": 3,
   "id": "93f19bc8-b340-42d6-84f0-d8a2246c8ccd",
   "metadata": {
    "execution": {
     "iopub.execute_input": "2023-05-30T16:44:37.725335Z",
     "iopub.status.busy": "2023-05-30T16:44:37.724768Z",
     "iopub.status.idle": "2023-05-30T16:44:37.730624Z",
     "shell.execute_reply": "2023-05-30T16:44:37.729775Z",
     "shell.execute_reply.started": "2023-05-30T16:44:37.725303Z"
    },
    "tags": []
   },
   "outputs": [],
   "source": [
    "def retrieve_efd_client(is_summit=True):\n",
    "    \"\"\"\n",
    "    Retrieves a client to EFD.\n",
    "\n",
    "    Parameters\n",
    "    ----------\n",
    "    is_summit : bool, optional\n",
    "        This notebook is running on the summit or not. If not, the returned object will point\n",
    "        to the test stand at Tucson.\n",
    "\n",
    "    Returns\n",
    "    -------\n",
    "    EfdClient : The interface object between the Nublado and summit/Tucson EFD.\n",
    "    \"\"\"\n",
    "    efd_name = \"summit_efd\" if is_summit else \"tucson_teststand_efd\"        \n",
    "    return EfdClient(efd_name)\n"
   ]
  },
  {
   "cell_type": "code",
   "execution_count": 6,
   "id": "00bcabe3-3fa6-46fb-a15d-f6a6ffcfc332",
   "metadata": {
    "execution": {
     "iopub.execute_input": "2023-05-30T16:50:51.142583Z",
     "iopub.status.busy": "2023-05-30T16:50:51.141992Z",
     "iopub.status.idle": "2023-05-30T16:50:51.752118Z",
     "shell.execute_reply": "2023-05-30T16:50:51.751479Z",
     "shell.execute_reply.started": "2023-05-30T16:50:51.142549Z"
    },
    "tags": []
   },
   "outputs": [
    {
     "name": "stdout",
     "output_type": "stream",
     "text": [
      "actuator: 73\n",
      "actuator: 74\n",
      "actuator: 75\n",
      "actuator: 76\n",
      "actuator: 77\n",
      "actuator: 78\n"
     ]
    }
   ],
   "source": [
    "efd_client = retrieve_efd_client(is_summit=False)\n",
    "\n",
    "n_act = NUM_ACTUATOR\n",
    "\n",
    "#fill a list with n actuators\n",
    "n = NUM_TANGENT_LINK\n",
    "\n",
    "actuators = [73, 74, 75, 76, 77, 78]\n",
    "\n",
    "\n",
    "for idx in range(n):\n",
    "    print(f\"actuator: {actuators[idx]}\")"
   ]
  },
  {
   "cell_type": "code",
   "execution_count": 18,
   "id": "cdab91e2-f1c3-4ccf-80d1-9f2845315558",
   "metadata": {
    "execution": {
     "iopub.execute_input": "2023-05-30T17:59:08.118874Z",
     "iopub.status.busy": "2023-05-30T17:59:08.118630Z",
     "iopub.status.idle": "2023-05-30T17:59:23.205206Z",
     "shell.execute_reply": "2023-05-30T17:59:23.204112Z",
     "shell.execute_reply.started": "2023-05-30T17:59:08.118857Z"
    },
    "tags": []
   },
   "outputs": [
    {
     "name": "stdout",
     "output_type": "stream",
     "text": [
      "f_max f_min : [224.52188726829485 214.76653219548163 222.23556418102064\n",
      " 220.21102554427432 215.8937965230037 352.6790181832579 218.0412897810235\n",
      " 209.37500891286768 213.20571608812685 207.49289275161496\n",
      " 223.6594497071341 215.68884333295583 214.9245225537258 216.68402517324571\n",
      " 211.47312716053824 340.59937546832833 213.77827815067843\n",
      " 214.35114899471523 212.413678086388 210.65711212553325 216.93727413421522\n",
      " 210.21288781262916 220.07893139546547 215.01245496135726\n",
      " 217.2440810805641 290.85388588613586 212.77394926378116\n",
      " 219.79427481128468 218.87752288424755 227.09483763808635\n",
      " 264.65026560087324 265.72921062484545 265.18310278800607\n",
      " 258.19977439215967 253.95384539448744 263.08994856533735\n",
      " 265.0640041829226 259.1989833441232 254.03909267920778 257.4225924523515\n",
      " 261.0503868336491 252.767849288882 251.86074850380604 257.65821972747403\n",
      " 260.3683939788948 258.6219913398265 256.81688295145875 268.23400462800583\n",
      " 265.27044030983444 261.5941394983938 265.1120809249027 262.6602512206985\n",
      " 262.91971272657554 257.9457583481358 286.5690994225803 285.9552444030627\n",
      " 279.3460450636141 281.7285157350642 282.8724353075774 279.4714565480135\n",
      " 277.13023823326046 272.6091331597076 275.82236807086963 282.5809815795299\n",
      " 280.76511826034954 277.13200182074496 277.11147231096396\n",
      " 279.82758003429154 288.0177695992498 285.2995876485997 275.42129810554866\n",
      " 281.58451733943053 None None None None None None] [223.75458150997136 213.84382921814532 221.33352707708343\n",
      " 219.52964736689353 215.186228702745 350.82408145251105 217.36796035517145\n",
      " 208.40995110198418 212.51616688274981 206.81316846501684\n",
      " 222.67472235094422 214.9523483707867 213.97393874492133\n",
      " 216.02877682390604 210.93381147432308 338.62332862861086\n",
      " 213.16379467807977 213.55970257809793 211.7491848559471 210.0002687198807\n",
      " 215.97896224781522 209.4203716266845 219.3102574732944 214.30188781435263\n",
      " 216.5439531787733 288.73293069310085 211.92703354480554\n",
      " 219.03796968973185 218.21818810788105 226.46011304371285\n",
      " 263.9904118569233 264.83675626021756 264.62204637334287\n",
      " 257.42030884814733 253.04649699835574 262.16045551146124\n",
      " 264.1610780384932 258.2375736702612 253.2495749632017 256.6685190053636\n",
      " 260.28216988126354 251.83005944432077 251.15302382558977\n",
      " 256.9223747564781 259.54424558020486 257.7529442847451 256.0287205518044\n",
      " 267.60376721149333 264.51027234434514 260.8337778063671\n",
      " 264.48896403416995 261.71488334129475 262.30520532811 256.9564457871009\n",
      " 285.8276230762934 285.34730121039377 278.3782203054498 280.6581893832028\n",
      " 282.0172659887791 278.60759083732324 276.26403807772533 271.8394347564506\n",
      " 275.1848748342014 281.8172154718258 280.11570160852716 276.4184800781448\n",
      " 276.42337156739444 279.12213491903464 287.3769060586894\n",
      " 284.52278971915143 274.49101674899475 281.01872803240775 None None None\n",
      " None None None]\n"
     ]
    }
   ],
   "source": [
    "# retrieve from EFD the last 20 seconds of measured forces on actuators\n",
    "\n",
    "# increase the time to at least 120 sec, bettter if 180 sec    \n",
    "await asyncio.sleep(15)    \n",
    "\n",
    "\n",
    "time_end = datetime.now()\n",
    "time_end = Time(time_end, scale=\"utc\")\n",
    "time_start = time_end - timedelta(seconds = 10)\n",
    "time_start = Time(time_start, scale=\"utc\")\n",
    "\n",
    "names = list()\n",
    "for idx in range(n_act):\n",
    "    names.append(f\"measured{idx}\")\n",
    "    \n",
    "data_act_before = await efd_client.select_time_series(\n",
    "        \"lsst.sal.MTM2.axialForce\",\n",
    "        fields=names,\n",
    "        start=time_start,\n",
    "        end=time_end)\n",
    "\n",
    "f_max = data_act_before.max()\n",
    "f_min = data_act_before.min()\n",
    "f_max_values = f_max.to_numpy()\n",
    "f_min_values = f_min.to_numpy()\n",
    "#print(f\"f_max f_min : {f_max_values} {f_min_values}\")"
   ]
  },
  {
   "cell_type": "code",
   "execution_count": 20,
   "id": "54190618-9bd6-469d-b0e2-38a6d520850d",
   "metadata": {
    "execution": {
     "iopub.execute_input": "2023-05-30T17:59:41.975780Z",
     "iopub.status.busy": "2023-05-30T17:59:41.974833Z",
     "iopub.status.idle": "2023-05-30T17:59:41.982177Z",
     "shell.execute_reply": "2023-05-30T17:59:41.981681Z",
     "shell.execute_reply.started": "2023-05-30T17:59:41.975743Z"
    },
    "tags": []
   },
   "outputs": [
    {
     "data": {
      "text/plain": [
       "measured0     0.767306\n",
       "measured1     0.922703\n",
       "measured2     0.902037\n",
       "measured3     0.681378\n",
       "measured4     0.707568\n",
       "                ...   \n",
       "measured73         NaN\n",
       "measured74         NaN\n",
       "measured75         NaN\n",
       "measured76         NaN\n",
       "measured77         NaN\n",
       "Length: 78, dtype: object"
      ]
     },
     "execution_count": 20,
     "metadata": {},
     "output_type": "execute_result"
    }
   ],
   "source": [
    "f_max - f_min"
   ]
  },
  {
   "cell_type": "code",
   "execution_count": 80,
   "id": "55d1427a-814b-455c-a2de-d364f77d0711",
   "metadata": {
    "execution": {
     "iopub.execute_input": "2023-05-30T19:44:30.978443Z",
     "iopub.status.busy": "2023-05-30T19:44:30.977900Z",
     "iopub.status.idle": "2023-05-30T19:44:32.520228Z",
     "shell.execute_reply": "2023-05-30T19:44:32.519157Z",
     "shell.execute_reply.started": "2023-05-30T19:44:30.978415Z"
    },
    "tags": []
   },
   "outputs": [
    {
     "name": "stdout",
     "output_type": "stream",
     "text": [
      "UTC time to is 2023-05-30 17:59:13.121580 now.\n"
     ]
    },
    {
     "name": "stdin",
     "output_type": "stream",
     "text": [
      "start cart rotation \n"
     ]
    },
    {
     "name": "stdout",
     "output_type": "stream",
     "text": [
      "Raw inclinometer angle: 90.00 degree.\n",
      " Difference inclinometer angle: 10.0\n",
      "data_measured_forces_values : [ 113.05523059 -157.44721394   30.48933482 -174.27811224   50.58798005\n",
      "  -35.77996362]\n",
      "Raw inclinometer angle: 90.00 degree.\n",
      "Test terminated\n"
     ]
    }
   ],
   "source": [
    "#Check if during cart rotation the tangetial actuators overcome the limit\n",
    "\n",
    "MAX_FORCE_ALLOWED = 8000\n",
    "MIN_ROT_ANGLE = 0.2\n",
    "\n",
    "# get time for starting and ending telemetry data\n",
    "time_start1 = datetime.now()\n",
    "time_start1 = Time(time_start1, scale=\"utc\")\n",
    "print(f\"UTC time to is {time_start} now.\")\n",
    "\n",
    "zenithAngle = m2.tel_zenithAngle.get()\n",
    "NewzenithAngle = copy(zenithAngle)\n",
    "NewzenithAngle.inclinometerRaw = NewzenithAngle.inclinometerRaw + 10.0\n",
    "\n",
    "data_measured_forces = m2.tel_axialForce.get()\n",
    "data_measured_forces_values = np.array(data_measured_forces.measured, float)\n",
    "\n",
    "#start cart rotation\n",
    "command = input(\"start cart rotation\")\n",
    "\n",
    "\n",
    "while abs(zenithAngle.inclinometerRaw - NewzenithAngle.inclinometerRaw) > MIN_ROT_ANGLE :\n",
    "    print(f\"Raw inclinometer angle: {zenithAngle.inclinometerRaw:0.2f} degree.\")\n",
    "    print(f\" Difference inclinometer angle: {abs(zenithAngle.inclinometerRaw - NewzenithAngle.inclinometerRaw)}\")\n",
    "    NewzenithAngle = m2.tel_zenithAngle.get()\n",
    "    data_measured_forces = m2.tel_tangentForce.get()\n",
    "    data_measured_forces_values = np.array(data_measured_forces.measured, float)  \n",
    "    print(f\"data_measured_forces_values : {data_measured_forces_values}\")  \n",
    "    if any(abs(data_measured_forces_values) > MAX_FORCE_ALLOWED):\n",
    "        print(f\"alarm : {data_measured_forces_values}\")\n",
    "        NewzenithAngle = copy(zenithAngle)\n",
    "    else :\n",
    "        NewzenithAngle = m2.tel_zenithAngle.get()\n",
    "        print(f\"Raw inclinometer angle: {zenithAngle.inclinometerRaw:0.2f} degree.\")\n",
    "        #print(f\"tangent value : {data_measured_forces_values}\")       \n",
    "else:\n",
    "    print(f\"Test terminated\")   \n",
    "    "
   ]
  },
  {
   "cell_type": "code",
   "execution_count": 73,
   "id": "f2995f95-df12-474a-8c08-63904b385f40",
   "metadata": {
    "execution": {
     "iopub.execute_input": "2023-05-30T19:31:51.793906Z",
     "iopub.status.busy": "2023-05-30T19:31:51.792778Z",
     "iopub.status.idle": "2023-05-30T19:31:51.799983Z",
     "shell.execute_reply": "2023-05-30T19:31:51.799479Z",
     "shell.execute_reply.started": "2023-05-30T19:31:51.793870Z"
    },
    "tags": []
   },
   "outputs": [
    {
     "name": "stdout",
     "output_type": "stream",
     "text": [
      "Measured zenith angle: 0.04 degree.\n",
      "Raw inclinometer angle: 89.96 degree.\n",
      "Processed inclinometer angle: 89.10 degree.\n",
      "Measured zenith angle: 0.04 degree.\n",
      "Raw inclinometer angle: 99.96 degree.\n",
      "Processed inclinometer angle: 89.10 degree.\n"
     ]
    }
   ],
   "source": [
    "from copy import copy\n",
    "\n",
    "zenithAngle = m2.tel_zenithAngle.get()\n",
    "print(f\"Measured zenith angle: {zenithAngle.measured:0.2f} degree.\")\n",
    "print(f\"Raw inclinometer angle: {zenithAngle.inclinometerRaw:0.2f} degree.\")\n",
    "print(f\"Processed inclinometer angle: {zenithAngle.inclinometerProcessed:0.2f} degree.\")\n",
    "\n",
    "NewzenithAngle = copy(zenithAngle)\n",
    "NewzenithAngle.inclinometerRaw = NewzenithAngle.inclinometerRaw +10.0\n",
    "\n",
    "print(f\"Measured zenith angle: {NewzenithAngle.measured:0.2f} degree.\")\n",
    "print(f\"Raw inclinometer angle: {NewzenithAngle.inclinometerRaw:0.2f} degree.\")\n",
    "print(f\"Processed inclinometer angle: {NewzenithAngle.inclinometerProcessed:0.2f} degree.\")"
   ]
  },
  {
   "cell_type": "code",
   "execution_count": 33,
   "id": "c853782e-5a6b-40d2-9db6-c2704987932b",
   "metadata": {
    "execution": {
     "iopub.execute_input": "2023-05-24T13:44:15.331318Z",
     "iopub.status.busy": "2023-05-24T13:44:15.330255Z",
     "iopub.status.idle": "2023-05-24T13:44:35.342620Z",
     "shell.execute_reply": "2023-05-24T13:44:35.341029Z",
     "shell.execute_reply.started": "2023-05-24T13:44:15.331278Z"
    },
    "tags": []
   },
   "outputs": [
    {
     "name": "stdout",
     "output_type": "stream",
     "text": [
      "UTC time to is 2023-05-24 13:40:27.881750 now.\n",
      "time start : 2023-05-24 13:44:15.333102\n",
      "time end : 2023-05-24 13:44:35.334001\n"
     ]
    }
   ],
   "source": [
    "# get time for starting and ending telemetry data\n",
    "time_start1 = datetime.now()\n",
    "time_start1 = Time(time_start1, scale=\"utc\")\n",
    "print(f\"UTC time to is {time_start} now.\")\n",
    "\n",
    "await asyncio.sleep(20)    \n",
    "\n",
    "time_end1 = datetime.now()\n",
    "time_end1 = Time(time_end1, scale=\"utc\")\n",
    "\n",
    "\n",
    "print(f\"time start : {time_start1}\")\n",
    "print(f\"time end : {time_end1}\")"
   ]
  },
  {
   "cell_type": "code",
   "execution_count": 34,
   "id": "f9cde442-0f02-43a6-bb38-6c865216046a",
   "metadata": {
    "execution": {
     "iopub.execute_input": "2023-05-24T13:44:37.757347Z",
     "iopub.status.busy": "2023-05-24T13:44:37.756813Z",
     "iopub.status.idle": "2023-05-24T13:44:41.736546Z",
     "shell.execute_reply": "2023-05-24T13:44:41.735577Z",
     "shell.execute_reply.started": "2023-05-24T13:44:37.757312Z"
    },
    "tags": []
   },
   "outputs": [
    {
     "name": "stdin",
     "output_type": "stream",
     "text": [
      "Cut the power \n"
     ]
    }
   ],
   "source": [
    "# switch off actuators power\n",
    "\n",
    "#wait for pushing red button\n",
    "command = input(\"Cut the power\")"
   ]
  },
  {
   "cell_type": "code",
   "execution_count": 35,
   "id": "5e30902e-23c4-4742-aeed-9e948f88663b",
   "metadata": {
    "execution": {
     "iopub.execute_input": "2023-05-24T13:44:46.259102Z",
     "iopub.status.busy": "2023-05-24T13:44:46.258535Z",
     "iopub.status.idle": "2023-05-24T13:47:00.658836Z",
     "shell.execute_reply": "2023-05-24T13:47:00.658003Z",
     "shell.execute_reply.started": "2023-05-24T13:44:46.259065Z"
    },
    "tags": []
   },
   "outputs": [
    {
     "name": "stdout",
     "output_type": "stream",
     "text": [
      "UTC time to is 2023-05-24 13:44:46.262101 now.\n",
      "time start : 2023-05-24 13:44:15.333102\n",
      "time end : 2023-05-24 13:46:46.262786\n"
     ]
    }
   ],
   "source": [
    "# retriveve telemetry with cut power\n",
    "\n",
    "# get time for starting and ending telemetry data\n",
    "time_start2 = datetime.now()\n",
    "time_start2 = Time(time_start2, scale=\"utc\")\n",
    "print(f\"UTC time to is {time_start2} now.\")\n",
    "\n",
    "await asyncio.sleep(120)    \n",
    "\n",
    "time_end2 = datetime.now()\n",
    "time_end2 = Time(time_end2, scale=\"utc\")\n",
    "\n",
    "\n",
    "#retrieve telemetry\n",
    "names = list()\n",
    "for idx in range(72):\n",
    "    names.append(f\"measured{idx}\")    \n",
    "    \n",
    "data_act = await efd_client.select_time_series(\n",
    "        \"lsst.sal.MTM2.axialForce\",\n",
    "        fields=names,\n",
    "        start=time_start1,\n",
    "        end=time_end2)\n",
    "data_act.to_csv(\"actuators_data.csv\")\n",
    "\n",
    "data_power_cell = await efd_client.select_time_series(\n",
    "        \"lsst.sal.MTM2.powerStatus\",\n",
    "        fields=[\"motorVoltage\",\"motorCurrent\",\"commVoltage\",\"commCurrent\"],\n",
    "        start=time_start1,\n",
    "        end=time_end2)\n",
    "data_power_cell.to_csv(\"power_data.csv\")\n",
    "\n",
    "\n",
    "print(f\"time start : {time_start1}\")\n",
    "print(f\"time end : {time_end2}\")"
   ]
  },
  {
   "cell_type": "code",
   "execution_count": 38,
   "id": "e7e0dd2d-fc5a-4000-96bb-c592fac36068",
   "metadata": {
    "execution": {
     "iopub.execute_input": "2023-05-24T13:48:28.975023Z",
     "iopub.status.busy": "2023-05-24T13:48:28.974791Z",
     "iopub.status.idle": "2023-05-24T13:48:30.045524Z",
     "shell.execute_reply": "2023-05-24T13:48:30.044836Z",
     "shell.execute_reply.started": "2023-05-24T13:48:28.975006Z"
    },
    "tags": []
   },
   "outputs": [
    {
     "name": "stdin",
     "output_type": "stream",
     "text": [
      "Restore the power \n"
     ]
    }
   ],
   "source": [
    "#wait for restoring the power\n",
    "command = input(\"Restore the power\")\n",
    "\n",
    "#await m2.cmd_standby.set_start(timeout=30)"
   ]
  },
  {
   "cell_type": "code",
   "execution_count": 39,
   "id": "f9aac684-41a0-466e-8522-75b8cf7a51a7",
   "metadata": {
    "execution": {
     "iopub.execute_input": "2023-05-24T13:48:42.325800Z",
     "iopub.status.busy": "2023-05-24T13:48:42.325322Z",
     "iopub.status.idle": "2023-05-24T13:48:42.330601Z",
     "shell.execute_reply": "2023-05-24T13:48:42.329792Z",
     "shell.execute_reply.started": "2023-05-24T13:48:42.325762Z"
    },
    "tags": []
   },
   "outputs": [
    {
     "name": "stdout",
     "output_type": "stream",
     "text": [
      "private_revCode: 0ebebdcc, private_sndStamp: 1684934561.384845, private_rcvStamp: 1684935457.9080932, private_seqNum: 19, private_identity: MTM2, private_origin: 11350, summaryState: 2\n"
     ]
    }
   ],
   "source": [
    "#check the status\n",
    "state = m2.evt_summaryState.get()\n",
    "print(state)"
   ]
  },
  {
   "cell_type": "code",
   "execution_count": 101,
   "id": "78a5eec4-9dbb-4271-b8a4-a78fcee137a0",
   "metadata": {
    "execution": {
     "iopub.execute_input": "2023-05-19T18:35:06.895805Z",
     "iopub.status.busy": "2023-05-19T18:35:06.895529Z",
     "iopub.status.idle": "2023-05-19T18:35:07.108727Z",
     "shell.execute_reply": "2023-05-19T18:35:07.108111Z",
     "shell.execute_reply.started": "2023-05-19T18:35:06.895788Z"
    },
    "tags": []
   },
   "outputs": [
    {
     "name": "stdout",
     "output_type": "stream",
     "text": [
      "private_revCode: 0ebebdcc, private_sndStamp: 1684521343.9021816, private_rcvStamp: 1684521343.902533, private_seqNum: 16, private_identity: MTM2, private_origin: 36543, summaryState: 1\n"
     ]
    }
   ],
   "source": [
    "await m2.cmd_start.set_start(timeout = 30)\n",
    "\n",
    "state = m2.evt_summaryState.get()\n",
    "print(state)"
   ]
  },
  {
   "cell_type": "code",
   "execution_count": 102,
   "id": "f825b603-0fec-4f19-b09f-ee357041ed80",
   "metadata": {
    "execution": {
     "iopub.execute_input": "2023-05-19T18:35:33.642753Z",
     "iopub.status.busy": "2023-05-19T18:35:33.642478Z",
     "iopub.status.idle": "2023-05-19T18:35:43.666968Z",
     "shell.execute_reply": "2023-05-19T18:35:43.666367Z",
     "shell.execute_reply.started": "2023-05-19T18:35:33.642736Z"
    },
    "tags": []
   },
   "outputs": [
    {
     "name": "stdout",
     "output_type": "stream",
     "text": [
      "private_revCode: 0ebebdcc, private_sndStamp: 1684521380.6627302, private_rcvStamp: 1684521380.663149, private_seqNum: 17, private_identity: MTM2, private_origin: 36543, summaryState: 2\n"
     ]
    }
   ],
   "source": [
    "await m2.cmd_enable.set_start(timeout = 200)\n",
    "\n",
    "state = m2.evt_summaryState.get()\n",
    "print(state)"
   ]
  },
  {
   "cell_type": "code",
   "execution_count": 50,
   "id": "c70ac621-b2c8-483b-bc30-a789cb72b0b2",
   "metadata": {
    "execution": {
     "iopub.execute_input": "2023-05-24T13:52:22.740659Z",
     "iopub.status.busy": "2023-05-24T13:52:22.740117Z",
     "iopub.status.idle": "2023-05-24T13:52:28.251226Z",
     "shell.execute_reply": "2023-05-24T13:52:28.250178Z",
     "shell.execute_reply.started": "2023-05-24T13:52:22.740622Z"
    },
    "tags": []
   },
   "outputs": [
    {
     "name": "stdout",
     "output_type": "stream",
     "text": [
      "Actuators at zero\n"
     ]
    }
   ],
   "source": [
    "#in principle this command is exectuted at the restirong of the system and it is not necessary\n",
    "#bring all actuators to zero   \n",
    "n_act = NUM_ACTUATOR - NUM_TANGENT_LINK\n",
    "all_actuators = [0] * n_act\n",
    "f_Delta = [0] * n_act\n",
    "f_Delta = np.array(f_Delta, float)\n",
    "forces = f_Delta\n",
    "\n",
    "#apply force of the loop\n",
    "for idx in range(n_act):\n",
    "    #print(f\"command fDelta to actuator: {idx}.\")\n",
    "    force = forces[idx]\n",
    "# change the below function with MTM2_command_resetForceOffsets    \n",
    "await m2.cmd_resetForceOffsets.set_start()\n",
    "await asyncio.sleep(5)\n",
    "print(\"Actuators at zero\")"
   ]
  },
  {
   "cell_type": "code",
   "execution_count": null,
   "id": "a6a18d29-019c-4a4c-a087-06fbb8755215",
   "metadata": {},
   "outputs": [],
   "source": []
  }
 ],
 "metadata": {
  "kernelspec": {
   "display_name": "LSST",
   "language": "python",
   "name": "lsst"
  },
  "language_info": {
   "codemirror_mode": {
    "name": "ipython",
    "version": 3
   },
   "file_extension": ".py",
   "mimetype": "text/x-python",
   "name": "python",
   "nbconvert_exporter": "python",
   "pygments_lexer": "ipython3",
   "version": "3.10.10"
  }
 },
 "nbformat": 4,
 "nbformat_minor": 5
}
