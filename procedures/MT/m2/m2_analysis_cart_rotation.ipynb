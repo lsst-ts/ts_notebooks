{
 "cells": [
  {
   "cell_type": "markdown",
   "id": "c37c2cbc-5c21-4f2d-92c1-2c820627121b",
   "metadata": {},
   "source": [
    "# Cart Rotation Analysis\n",
    "\n",
    "This notebook is to analyze the cart rotation of M2 with the configuration files:\n",
    "\n",
    "1. **ts_mtm2/config/sysconfig/Configurable_File_Description_20180831T092556_surrogate_handling.csv**.\n",
    "2. **ts_mtm2/config/sysconfig/Configurable_File_Description_20180831T092423_surrogate_optical.csv**\n",
    "\n",
    "The difference can follow [DM-36986](https://jira.lsstcorp.org/browse/DM-36986).\n",
    "In the test, we use the surrogate instead of the actual mirror.\n",
    "\n",
    "The target is to understand:\n",
    "\n",
    "1. The look-up table (LUT) correction.\n",
    "2. The force balance system is working or not.\n",
    "3. The forward modeling in hardpoint correction.\n",
    "\n",
    "It is noted that the correctness of force balance system would need a more detailed analysis in the future."
   ]
  },
  {
   "cell_type": "markdown",
   "id": "d52fc120-5734-4723-b2f5-0901b4aafcda",
   "metadata": {},
   "source": [
    "## Note\n",
    "\n",
    "For the normal operation range, the cart rotation is in the clockwise direction (A1 goes up: +Y, A4 goes down).\n",
    "When the cart is flat, (M2 face down), the telescope mount assembly (TMA) elevation angle is 90 degree and the zenith angle is 0 degree.\n",
    "When the cart rotates to straight (clockwise), the TMA elevation angle is 0 degree and the zenith angle is 90 degree.\n",
    "This rotation is between \"A2+A3\" and \"A5+A6\".\n",
    "Because of the force direction of tangent link, A1 and A4 will not take the mirror's weight in the rotation process.\n",
    "\n",
    "When the mirror is face down, the TMA elevation angle should be 90 degree and the M2 processed inclinometer also shows ~90 degree."
   ]
  },
  {
   "cell_type": "markdown",
   "id": "a3242e51-9db5-4c70-9955-3a7b6750c672",
   "metadata": {},
   "source": [
    "## Summary\n",
    "\n",
    "1. For the TMA elevation angle between 0 and 90 degrees, the coordination system of M2 processed inclinometer angle (used in the LUT calculation) should be the same as TMA.\n",
    "2. The axial actuator 20 (0-based) does not behave the same as others."
   ]
  },
  {
   "cell_type": "markdown",
   "id": "96f6ba94-6e37-4275-88fc-fdeb83895b1a",
   "metadata": {},
   "source": [
    "## Import Modules\n",
    "\n",
    "This notebook needs to setup the **ts_m2com** and **ts_aos_utilsts** under the **notebooks/.user_setups**, which depends on the **ts_tcpip**.\n",
    "You also need to have **ts_mtm2** under the **WORK/** directory to read the confiugration files to do the analysis."
   ]
  },
  {
   "cell_type": "code",
   "execution_count": null,
   "id": "f97107ae-618d-4fb3-834f-66e0c976b35b",
   "metadata": {
    "tags": []
   },
   "outputs": [],
   "source": [
    "%matplotlib inline\n",
    "%matplotlib widget\n",
    "import matplotlib.pyplot as plt\n",
    "from pathlib import Path\n",
    "import numpy as np\n",
    "from astropy.time import Time\n",
    "\n",
    "from lsst.ts.m2com import MockControlClosedLoop\n",
    "\n",
    "from lsst.ts.aos.utils import DiagnosticsM2"
   ]
  },
  {
   "cell_type": "markdown",
   "id": "fd5b33b3-968c-4525-a77c-96a566f344dd",
   "metadata": {},
   "source": [
    "## Declaration of User-defined Functions"
   ]
  },
  {
   "cell_type": "code",
   "execution_count": null,
   "id": "e61a8bf1-ddda-44f5-97b3-43ddad4f32b6",
   "metadata": {
    "tags": []
   },
   "outputs": [],
   "source": [
    "async def show_all_data(\n",
    "    diagnostics_m2: DiagnosticsM2,\n",
    "    control_closed_loop: MockControlClosedLoop,\n",
    "    time_start: Time,\n",
    "    time_end: Time,\n",
    "    thresholds: list[float] | None = None,\n",
    "    hardpoints: list[int] | None = None,\n",
    ") -> None:\n",
    "    \"\"\"\n",
    "    Show all the data.\n",
    "\n",
    "    Parameters\n",
    "    ----------\n",
    "    diagnostics_m2 : `lsst.ts.aos.utils.DiagnosticsM2`\n",
    "        M2 diagnostics instance.\n",
    "    control_closed_loop : `lsst.ts.m2.com.MockControlClosedLoop`\n",
    "        Mock control closed loop instance.\n",
    "    time_start : `astropy.time.core.Time`\n",
    "        Start time.\n",
    "    time_end : `astropy.time.core.Time`\n",
    "        End time.\n",
    "    thresholds : `list` or None, optional\n",
    "        Force thresholds of the axial and tangent actuators. (the default is None)\n",
    "    hardpoints : `list` or None, optional\n",
    "        Ordered 0-based six hardpoints. The first three are the axial\n",
    "        actuators and the latters are the tangent links. If not None, they\n",
    "        will be labeled on the drawing. (the default is None)\n",
    "    \"\"\"\n",
    "\n",
    "    # Get the x, y position of actuators\n",
    "    xy_actuators = diagnostics_m2.get_xy_actuators(control_closed_loop)\n",
    "\n",
    "    # Query data\n",
    "    data_zenith_angle, time_operation_angle = await diagnostics_m2.get_data_zenith_angle(\n",
    "        time_start, time_end, realign_time=False\n",
    "    )\n",
    "\n",
    "    data_step_axial, time_operation_axial = await diagnostics_m2.get_data_step_axial(time_start, time_end)\n",
    "    data_step_tangent, time_operation_tangent = await diagnostics_m2.get_data_step_tangent(time_start, time_end)\n",
    "    \n",
    "    data_force, time_operation_force = await diagnostics_m2.get_data_net_force(\n",
    "        time_start, time_end\n",
    "    )\n",
    "    data_moment, time_operation_moment = await diagnostics_m2.get_data_net_moment(\n",
    "        time_start, time_end\n",
    "    )\n",
    "\n",
    "    data_force_balance, time_operation_force_balance = await diagnostics_m2.get_data_force_balance(\n",
    "        time_start, time_end\n",
    "    )\n",
    "\n",
    "    data_collected_axial, data_collected_tangent = await diagnostics_m2.get_data_force(\n",
    "        time_start, time_end\n",
    "    )\n",
    "    data_temperature = await diagnostics_m2.get_data_temperature(time_start, time_end)\n",
    "    \n",
    "    # Calculate the theoretical LUT force\n",
    "    data_collected_axial, data_collected_tangent = diagnostics_m2.set_lut_force_theoretical(\n",
    "        control_closed_loop,\n",
    "        data_collected_axial,\n",
    "        data_collected_tangent,\n",
    "        data_temperature,\n",
    "        data_zenith_angle,\n",
    "        time_operation_angle,\n",
    "    )\n",
    "\n",
    "    # Draw the diagrams\n",
    "    diagnostics_m2.plot_processed_inclinometer(\n",
    "        data_zenith_angle, time_operation_angle-time_operation_angle[0]\n",
    "    )\n",
    "\n",
    "    diagnostics_m2.plot_net_force(data_force, time_operation_force)\n",
    "    diagnostics_m2.plot_net_moment(data_moment, time_operation_moment)    \n",
    "\n",
    "    diagnostics_m2.plot_force_balance(data_force_balance, time_operation_force_balance)\n",
    "\n",
    "    diagnostics_m2.draw_values(\n",
    "        xy_actuators,\n",
    "        data_step_axial[-1,:]-data_step_axial[0,:],\n",
    "        data_step_tangent[-1,:]- data_step_tangent[0,:],\n",
    "        title=\"Step Difference between Destination and Origin\",\n",
    "        hardpoints=hardpoints,\n",
    "    )\n",
    "\n",
    "    diagnostics_m2.draw_values(\n",
    "        xy_actuators,\n",
    "        data_collected_axial[\"measured\"][-1]-data_collected_axial[\"measured\"][0],\n",
    "        data_collected_tangent[\"measured\"][-1]-data_collected_tangent[\"measured\"][0],\n",
    "        title=\"Force Difference between Destination and Origin\",\n",
    "        hardpoints=hardpoints,\n",
    "    )\n",
    "    \n",
    "    diagnostics_m2.plot_force_error(data_collected_axial, data_collected_tangent)\n",
    "\n",
    "    diagnostics_m2.plot_lut_force_error_axial(data_collected_axial)\n",
    "    diagnostics_m2.plot_lut_force_error_tangent(data_collected_tangent)\n",
    "    \n",
    "    # Print the information\n",
    "    if thresholds is not None:\n",
    "        diagnostics_m2.print_actuator_force_error_out_threshold(\n",
    "            data_collected_axial, thresholds[0], \"axial\"\n",
    "        )\n",
    "        diagnostics_m2.print_actuator_force_error_out_threshold(\n",
    "            data_collected_tangent, thresholds[1], \"tangent\"\n",
    "        )"
   ]
  },
  {
   "cell_type": "markdown",
   "id": "56698ca1-4e49-4c35-869a-1ccd2cf35e6a",
   "metadata": {},
   "source": [
    "## Instantiate the MockControlClosedLoop"
   ]
  },
  {
   "cell_type": "code",
   "execution_count": null,
   "id": "30ac8618-5781-48a5-abe8-2f7b58a1aadf",
   "metadata": {
    "tags": []
   },
   "outputs": [],
   "source": [
    "config_path = Path.home() / \"WORK\" / \"ts_mtm2\" / \"config\"\n",
    "\n",
    "filepath_surrogate = config_path / \"parameter_files\" / \"luts\" / \"FinalHandlingLUTs\"\n",
    "filepath_mirror = config_path / \"parameter_files\" / \"luts\" / \"FinalOpticalLUTs\"\n",
    "\n",
    "filepath_cell_geom = config_path / \"cellGeom.json\""
   ]
  },
  {
   "cell_type": "code",
   "execution_count": null,
   "id": "5f922733-35cf-4747-b452-797563adb35c",
   "metadata": {
    "tags": []
   },
   "outputs": [],
   "source": [
    "control_closed_loop_surrogate = MockControlClosedLoop()\n",
    "control_closed_loop_surrogate.load_file_lut(filepath_surrogate)\n",
    "control_closed_loop_surrogate.load_file_cell_geometry(filepath_cell_geom)\n",
    "control_closed_loop_surrogate.set_hardpoint_compensation()\n",
    "\n",
    "control_closed_loop_mirror = MockControlClosedLoop()\n",
    "control_closed_loop_mirror.load_file_lut(filepath_mirror)\n",
    "control_closed_loop_mirror.load_file_cell_geometry(filepath_cell_geom)\n",
    "control_closed_loop_mirror.set_hardpoint_compensation()"
   ]
  },
  {
   "cell_type": "markdown",
   "id": "c5c03716-c5c2-4201-b5d0-b1bd02ea4851",
   "metadata": {},
   "source": [
    "## Instantiate the DiagnosticsM2 Class\n",
    "\n",
    "Notice that the UTC time is used when doing the query."
   ]
  },
  {
   "cell_type": "code",
   "execution_count": null,
   "id": "5827cc20-df93-4897-a3a2-77d3906a1ff9",
   "metadata": {
    "tags": []
   },
   "outputs": [],
   "source": [
    "diagnostics_m2 = DiagnosticsM2(is_summit=True)\n",
    "hardpoints = [5, 15, 25, 73, 75, 77]"
   ]
  },
  {
   "cell_type": "markdown",
   "id": "f96d8274-959f-4f30-b070-7832d662da69",
   "metadata": {},
   "source": [
    "## Configurable_File_Description_20180831T092556_surrogate_handling.csv"
   ]
  },
  {
   "cell_type": "markdown",
   "id": "edabaeb5-1db7-40fc-a9ca-5b7e53ddc2ee",
   "metadata": {},
   "source": [
    "### Rotate the Cart from 0 to 90 Degree in Clockwise Direction\n",
    "\n",
    "The cart's controller shows 0 - 270 degree.\n",
    "This is the operation range of TMA with elevation angle from 90 degree to 0 degree."
   ]
  },
  {
   "cell_type": "code",
   "execution_count": null,
   "id": "6ddc6115-b797-456a-af5d-737339ecf3d2",
   "metadata": {
    "tags": []
   },
   "outputs": [],
   "source": [
    "time_start = Time(\"2023-05-17T15:38:00\", scale=\"utc\", format=\"isot\")\n",
    "time_end = Time(\"2023-05-17T16:18:00\", scale=\"utc\", format=\"isot\")\n",
    "\n",
    "await show_all_data(\n",
    "    diagnostics_m2,\n",
    "    control_closed_loop_surrogate,\n",
    "    time_start, time_end,\n",
    "    thresholds=[5.0, 10.0],\n",
    "    hardpoints=hardpoints,\n",
    ")"
   ]
  },
  {
   "cell_type": "code",
   "execution_count": null,
   "id": "cf819108-da32-4f64-958e-d233576a25a2",
   "metadata": {},
   "outputs": [],
   "source": []
  },
  {
   "cell_type": "markdown",
   "id": "e5b1b594-5efe-4fbf-b019-4107d95da114",
   "metadata": {},
   "source": [
    "### Rotate the Cart from 0 to -90 Degree in Counter-Clockwise Direction\n",
    "\n",
    "The cart's controller shows 0 - 90 degree."
   ]
  },
  {
   "cell_type": "code",
   "execution_count": null,
   "id": "5b16017a-c6d7-4ed1-a8e8-faeb777b1dc0",
   "metadata": {
    "tags": []
   },
   "outputs": [],
   "source": [
    "time_start = Time(\"2023-05-17T16:29:50\", scale=\"utc\", format=\"isot\")\n",
    "time_end = Time(\"2023-05-17T17:04:30\", scale=\"utc\", format=\"isot\")\n",
    "\n",
    "await show_all_data(\n",
    "    diagnostics_m2,\n",
    "    control_closed_loop_surrogate,\n",
    "    time_start, time_end,\n",
    "    thresholds=[5.0, 15.0],\n",
    "    hardpoints=hardpoints,\n",
    ")"
   ]
  },
  {
   "cell_type": "code",
   "execution_count": null,
   "id": "dc192e19-5194-4100-b1d6-4fd6ea05f702",
   "metadata": {},
   "outputs": [],
   "source": []
  },
  {
   "cell_type": "markdown",
   "id": "370ce556-b0b4-4b6f-af43-5b142a0cace7",
   "metadata": {},
   "source": [
    "## Configurable_File_Description_20180831T092423_surrogate_optical.csv"
   ]
  },
  {
   "cell_type": "markdown",
   "id": "e889e43d-923c-4ee5-b87f-afa9a769428a",
   "metadata": {},
   "source": [
    "### Rotate the Cart from 0 to 90 Degree in Clockwise Direction\n",
    "\n",
    "The cart's controller shows 0 - 270 degree.\n",
    "This is the operation range of TMA with elevation angle from 90 degree to 0 degree."
   ]
  },
  {
   "cell_type": "code",
   "execution_count": null,
   "id": "92265ef5-e153-4c45-900e-f4ceb1715875",
   "metadata": {
    "tags": []
   },
   "outputs": [],
   "source": [
    "time_start = Time(\"2023-05-17T19:02:00\", scale=\"utc\", format=\"isot\")\n",
    "time_end = Time(\"2023-05-17T19:30:00\", scale=\"utc\", format=\"isot\")\n",
    "\n",
    "await show_all_data(\n",
    "    diagnostics_m2,\n",
    "    control_closed_loop_mirror,\n",
    "    time_start, time_end,\n",
    "    thresholds=[3.0, 20.0],\n",
    "    hardpoints=hardpoints,\n",
    ")"
   ]
  },
  {
   "cell_type": "code",
   "execution_count": null,
   "id": "5b959fd1-5267-4ffa-a94a-008979cfac89",
   "metadata": {},
   "outputs": [],
   "source": []
  },
  {
   "cell_type": "markdown",
   "id": "c3bed3d5-1187-4312-ab5b-c5d35067957f",
   "metadata": {},
   "source": [
    "### Rotate the Cart from 0 to -90 Degree in Counter-Clockwise Direction\n",
    "\n",
    "The cart's controller shows 0 - 90 degree."
   ]
  },
  {
   "cell_type": "code",
   "execution_count": null,
   "id": "edaa7529-d599-4c97-b7ab-d02beb2ad8bd",
   "metadata": {
    "tags": []
   },
   "outputs": [],
   "source": [
    "time_start = Time(\"2023-05-17T19:37:00\", scale=\"utc\", format=\"isot\")\n",
    "time_end = Time(\"2023-05-17T20:03:00\", scale=\"utc\", format=\"isot\")\n",
    "\n",
    "await show_all_data(\n",
    "    diagnostics_m2,\n",
    "    control_closed_loop_mirror,\n",
    "    time_start, time_end,\n",
    "    thresholds=[3.0, 30.0],\n",
    "    hardpoints=hardpoints,\n",
    ")"
   ]
  },
  {
   "cell_type": "code",
   "execution_count": null,
   "id": "fcdb5300-d640-4458-af4a-4bbf9c312b6e",
   "metadata": {},
   "outputs": [],
   "source": []
  },
  {
   "cell_type": "code",
   "execution_count": null,
   "id": "6ad1eab1-2dd2-4710-ab4d-85fd7e0629b8",
   "metadata": {
    "tags": []
   },
   "outputs": [],
   "source": [
    "plt.close(\"all\")"
   ]
  },
  {
   "cell_type": "code",
   "execution_count": null,
   "id": "79e1c812-b538-4ed6-aaa7-de628527d193",
   "metadata": {},
   "outputs": [],
   "source": []
  }
 ],
 "metadata": {
  "kernelspec": {
   "display_name": "LSST",
   "language": "python",
   "name": "lsst"
  },
  "language_info": {
   "codemirror_mode": {
    "name": "ipython",
    "version": 3
   },
   "file_extension": ".py",
   "mimetype": "text/x-python",
   "name": "python",
   "nbconvert_exporter": "python",
   "pygments_lexer": "ipython3",
   "version": "3.10.11"
  }
 },
 "nbformat": 4,
 "nbformat_minor": 5
}
