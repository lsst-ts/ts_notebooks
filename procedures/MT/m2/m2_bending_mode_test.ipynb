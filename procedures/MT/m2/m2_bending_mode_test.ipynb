{
 "cells": [
  {
   "cell_type": "markdown",
   "id": "cff92e66-8d7e-46a0-92a5-bede9f097f62",
   "metadata": {},
   "source": [
    "# M2 Bending Mode Test\n",
    "\n",
    "This Jupyter notebook is to run the bending mode test of M2.\n",
    "Each axial actuator will be issued with an additioal force according to specific bending mode (there are 20).\n",
    "The target is to understand the mirror supporting system can hold the specific shape based on bending mode or not."
   ]
  },
  {
   "cell_type": "markdown",
   "id": "630e8dca-6fb4-4e9e-9ecf-494928cefbb2",
   "metadata": {},
   "source": [
    "## Import Modules"
   ]
  },
  {
   "cell_type": "code",
   "execution_count": 1,
   "id": "6945ae01-c911-44cb-98bf-0399914c4da0",
   "metadata": {
    "execution": {
     "iopub.execute_input": "2023-05-26T19:10:44.273612Z",
     "iopub.status.busy": "2023-05-26T19:10:44.273198Z",
     "iopub.status.idle": "2023-05-26T19:10:44.780221Z",
     "shell.execute_reply": "2023-05-26T19:10:44.778889Z",
     "shell.execute_reply.started": "2023-05-26T19:10:44.273581Z"
    },
    "tags": []
   },
   "outputs": [
    {
     "data": {
      "text/html": [
       "<pre style=\"margin: 0.1em;\n",
       "padding-left: 0.25em;\n",
       "border-left-style: solid;\n",
       "font-family: var(--jp-code-font-family);\n",
       "font-size: var(--jp-code-font-size);\n",
       "line-height: var(--jp-code-line-height);\n",
       "\"><span style=\"color: var(--jp-warn-color2)\">lsst.ts.utils.tai</span> <span style=\"color: var(--jp-info-color0)\">INFO</span>: Update leap second table</pre>"
      ],
      "text/plain": [
       "<IPython.core.display.HTML object>"
      ]
     },
     "metadata": {},
     "output_type": "display_data"
    },
    {
     "data": {
      "text/html": [
       "<pre style=\"margin: 0.1em;\n",
       "padding-left: 0.25em;\n",
       "border-left-style: solid;\n",
       "font-family: var(--jp-code-font-family);\n",
       "font-size: var(--jp-code-font-size);\n",
       "line-height: var(--jp-code-line-height);\n",
       "\"><span style=\"color: var(--jp-warn-color2)\">lsst.ts.utils.tai</span> <span style=\"color: var(--jp-info-color0)\">INFO</span>: current_tai uses the system TAI clock</pre>"
      ],
      "text/plain": [
       "<IPython.core.display.HTML object>"
      ]
     },
     "metadata": {},
     "output_type": "display_data"
    }
   ],
   "source": [
    "import asyncio\n",
    "import yaml\n",
    "import numpy as np\n",
    "from datetime import datetime\n",
    "from lsst.ts import salobj\n",
    "from lsst.ts.m2com import NUM_ACTUATOR, NUM_TANGENT_LINK\n",
    "from lsst.ts.ofc.utils import get_config_dir as get_config_dir_ofc"
   ]
  },
  {
   "cell_type": "markdown",
   "id": "ac412f2b-b4fa-418f-aba6-2e667819a78c",
   "metadata": {},
   "source": [
    "## Declaration of User-defined Functions"
   ]
  },
  {
   "cell_type": "code",
   "execution_count": 2,
   "id": "fb7190c4-6405-4a17-99ed-4046cbe6191c",
   "metadata": {
    "execution": {
     "iopub.execute_input": "2023-05-26T19:10:48.816384Z",
     "iopub.status.busy": "2023-05-26T19:10:48.816023Z",
     "iopub.status.idle": "2023-05-26T19:10:48.819568Z",
     "shell.execute_reply": "2023-05-26T19:10:48.819174Z",
     "shell.execute_reply.started": "2023-05-26T19:10:48.816366Z"
    },
    "tags": []
   },
   "outputs": [],
   "source": [
    "def get_bending_mode():\n",
    "    \"\"\"Get the bending mode.\n",
    "\n",
    "    Returns\n",
    "    -------\n",
    "    bending_mode : `numpy.ndarray`\n",
    "        Bending mode.\n",
    "    \"\"\"\n",
    "    bending_mode_file = get_config_dir_ofc() / \"M2\" / \"M2_1um_72_force.yaml\"\n",
    "    with open(bending_mode_file, \"r\") as yaml_file:\n",
    "        bending_mode = np.array(yaml.safe_load(yaml_file))\n",
    "\n",
    "    return bending_mode"
   ]
  },
  {
   "cell_type": "code",
   "execution_count": 3,
   "id": "9f36eb15-92cf-4e14-bef2-72954d46cfe8",
   "metadata": {
    "execution": {
     "iopub.execute_input": "2023-05-26T19:10:52.227101Z",
     "iopub.status.busy": "2023-05-26T19:10:52.226164Z",
     "iopub.status.idle": "2023-05-26T19:10:52.231980Z",
     "shell.execute_reply": "2023-05-26T19:10:52.231378Z",
     "shell.execute_reply.started": "2023-05-26T19:10:52.227064Z"
    },
    "tags": []
   },
   "outputs": [],
   "source": [
    "def get_bending_mode_forces(bending_mode, idx_bending_mode, amplitude):\n",
    "    \"\"\"Plot the forces of bending mode.\n",
    "    \n",
    "    Parameters\n",
    "    ----------\n",
    "    bending_mode : `numpy.ndarray`\n",
    "        Bending mode data.\n",
    "    idx_bending_mode : `int`\n",
    "        Index of bending mode (1-20).\n",
    "    amplitude : `float`\n",
    "        Amplitude of bending mode in um.\n",
    "        \n",
    "    Returns\n",
    "    -------\n",
    "    `numpy.ndarray`\n",
    "        Actuator forces in Newton.\n",
    "    \"\"\"\n",
    "\n",
    "    # Column 0-2 are the actuator ID, x and y position of actuator\n",
    "    return amplitude * bending_mode[:, 2+idx_bending_mode]"
   ]
  },
  {
   "cell_type": "code",
   "execution_count": 4,
   "id": "c52a3f6a-1c35-4a0f-8753-65e929284b79",
   "metadata": {
    "execution": {
     "iopub.execute_input": "2023-05-26T19:10:57.941811Z",
     "iopub.status.busy": "2023-05-26T19:10:57.941204Z",
     "iopub.status.idle": "2023-05-26T19:10:57.950122Z",
     "shell.execute_reply": "2023-05-26T19:10:57.949241Z",
     "shell.execute_reply.started": "2023-05-26T19:10:57.941775Z"
    },
    "tags": []
   },
   "outputs": [],
   "source": [
    "async def apply_force_cycle_axial(csc, forces, time_forces=5, time_reset=5):\n",
    "    \"\"\"Apply the force cycle to axial actuators. The cycle will be positive force, clear,\n",
    "    negative force, clear.\n",
    "\n",
    "    Parameters\n",
    "    ----------\n",
    "    csc : `lsst.ts.salobj.remote.Remote`\n",
    "        Remote object of the M2 CSC.\n",
    "    forces : `numpy.ndarray`\n",
    "        Axial forces to apply (Newton).\n",
    "    time_forces : `float`, optional\n",
    "        Time to apply the forces in second. (the default is 5.0) \n",
    "    time_reset : `float`, optional\n",
    "        Time to reset the forces in second. (the default is 5.0)\n",
    "    \"\"\"\n",
    "\n",
    "    # Do the positive direction first\n",
    "    print(f\"Apply the force: {forces} N.\")\n",
    "    await csc.cmd_applyForces.set_start(axial=forces.tolist())\n",
    "    await asyncio.sleep(time_forces)\n",
    "\n",
    "    # Put back to origin\n",
    "    print(\"Reset the force.\")\n",
    "    await csc.cmd_resetForceOffsets.set_start()\n",
    "    await asyncio.sleep(time_reset)\n",
    "\n",
    "    # Do the Negative direction\n",
    "    forces_negative = -forces\n",
    "\n",
    "    print(f\"Apply the force: {forces_negative} N.\")\n",
    "    await csc.cmd_applyForces.set_start(axial=forces_negative.tolist())\n",
    "    await asyncio.sleep(time_forces)\n",
    "\n",
    "    # Put back to origin\n",
    "    print(\"Reset the force.\")\n",
    "    await csc.cmd_resetForceOffsets.set_start()\n",
    "    await asyncio.sleep(time_reset)"
   ]
  },
  {
   "cell_type": "markdown",
   "id": "50a825e1-91b3-4dd4-ad90-e27154001a50",
   "metadata": {
    "execution": {
     "iopub.execute_input": "2023-02-15T12:53:11.930901Z",
     "iopub.status.busy": "2023-02-15T12:53:11.930612Z",
     "iopub.status.idle": "2023-02-15T12:53:11.933205Z",
     "shell.execute_reply": "2023-02-15T12:53:11.932768Z",
     "shell.execute_reply.started": "2023-02-15T12:53:11.930883Z"
    }
   },
   "source": [
    "## Prepare the M2 CSC and put to Enabled state"
   ]
  },
  {
   "cell_type": "code",
   "execution_count": 6,
   "id": "6a4b25c7-5665-4fd7-b362-2fadb93218d8",
   "metadata": {
    "execution": {
     "iopub.execute_input": "2023-05-26T19:11:35.829623Z",
     "iopub.status.busy": "2023-05-26T19:11:35.828498Z",
     "iopub.status.idle": "2023-05-26T19:11:45.769712Z",
     "shell.execute_reply": "2023-05-26T19:11:45.769102Z",
     "shell.execute_reply.started": "2023-05-26T19:11:35.829577Z"
    },
    "tags": []
   },
   "outputs": [
    {
     "data": {
      "text/html": [
       "<pre style=\"margin: 0.1em;\n",
       "padding-left: 0.25em;\n",
       "border-left-style: solid;\n",
       "font-family: var(--jp-code-font-family);\n",
       "font-size: var(--jp-code-font-size);\n",
       "line-height: var(--jp-code-line-height);\n",
       "\"><span style=\"color: var(--jp-warn-color2)\">MTM2</span> <span style=\"color: var(--jp-info-color0)\">INFO</span>: Disabling authlist-based command authorization</pre>"
      ],
      "text/plain": [
       "<IPython.core.display.HTML object>"
      ]
     },
     "metadata": {},
     "output_type": "display_data"
    },
    {
     "data": {
      "text/html": [
       "<pre style=\"margin: 0.1em;\n",
       "padding-left: 0.25em;\n",
       "border-left-style: solid;\n",
       "font-family: var(--jp-code-font-family);\n",
       "font-size: var(--jp-code-font-size);\n",
       "line-height: var(--jp-code-line-height);\n",
       "\"><span style=\"color: var(--jp-warn-color2)\">MTM2</span> <span style=\"color: var(--jp-info-color0)\">INFO</span>: Read historical data in 9.14 sec</pre>"
      ],
      "text/plain": [
       "<IPython.core.display.HTML object>"
      ]
     },
     "metadata": {},
     "output_type": "display_data"
    },
    {
     "data": {
      "text/html": [
       "<pre style=\"margin: 0.1em;\n",
       "padding-left: 0.25em;\n",
       "border-left-style: solid;\n",
       "font-family: var(--jp-code-font-family);\n",
       "font-size: var(--jp-code-font-size);\n",
       "line-height: var(--jp-code-line-height);\n",
       "\"><span style=\"color: var(--jp-warn-color2)\">MTM2.zenithAngle</span> <span style=\"color: var(--jp-warn-color0)\">WARNING</span>: tel_zenithAngle DDS read queue is filling: 89 of 100 elements</pre>"
      ],
      "text/plain": [
       "<IPython.core.display.HTML object>"
      ]
     },
     "metadata": {},
     "output_type": "display_data"
    },
    {
     "data": {
      "text/html": [
       "<pre style=\"margin: 0.1em;\n",
       "padding-left: 0.25em;\n",
       "border-left-style: solid;\n",
       "font-family: var(--jp-code-font-family);\n",
       "font-size: var(--jp-code-font-size);\n",
       "line-height: var(--jp-code-line-height);\n",
       "\"><span style=\"color: var(--jp-warn-color2)\">MTM2.temperature</span> <span style=\"color: var(--jp-warn-color0)\">WARNING</span>: tel_temperature DDS read queue is filling: 89 of 100 elements</pre>"
      ],
      "text/plain": [
       "<IPython.core.display.HTML object>"
      ]
     },
     "metadata": {},
     "output_type": "display_data"
    },
    {
     "data": {
      "text/html": [
       "<pre style=\"margin: 0.1em;\n",
       "padding-left: 0.25em;\n",
       "border-left-style: solid;\n",
       "font-family: var(--jp-code-font-family);\n",
       "font-size: var(--jp-code-font-size);\n",
       "line-height: var(--jp-code-line-height);\n",
       "\"><span style=\"color: var(--jp-warn-color2)\">MTM2.tangentForce</span> <span style=\"color: var(--jp-warn-color0)\">WARNING</span>: tel_tangentForce DDS read queue is filling: 89 of 100 elements</pre>"
      ],
      "text/plain": [
       "<IPython.core.display.HTML object>"
      ]
     },
     "metadata": {},
     "output_type": "display_data"
    },
    {
     "data": {
      "text/html": [
       "<pre style=\"margin: 0.1em;\n",
       "padding-left: 0.25em;\n",
       "border-left-style: solid;\n",
       "font-family: var(--jp-code-font-family);\n",
       "font-size: var(--jp-code-font-size);\n",
       "line-height: var(--jp-code-line-height);\n",
       "\"><span style=\"color: var(--jp-warn-color2)\">MTM2.tangentEncoderPositions</span> <span style=\"color: var(--jp-warn-color0)\">WARNING</span>: tel_tangentEncoderPositions DDS read queue is filling: 89 of 100 elements</pre>"
      ],
      "text/plain": [
       "<IPython.core.display.HTML object>"
      ]
     },
     "metadata": {},
     "output_type": "display_data"
    },
    {
     "data": {
      "text/html": [
       "<pre style=\"margin: 0.1em;\n",
       "padding-left: 0.25em;\n",
       "border-left-style: solid;\n",
       "font-family: var(--jp-code-font-family);\n",
       "font-size: var(--jp-code-font-size);\n",
       "line-height: var(--jp-code-line-height);\n",
       "\"><span style=\"color: var(--jp-warn-color2)\">MTM2.tangentActuatorSteps</span> <span style=\"color: var(--jp-warn-color0)\">WARNING</span>: tel_tangentActuatorSteps DDS read queue is filling: 89 of 100 elements</pre>"
      ],
      "text/plain": [
       "<IPython.core.display.HTML object>"
      ]
     },
     "metadata": {},
     "output_type": "display_data"
    },
    {
     "data": {
      "text/html": [
       "<pre style=\"margin: 0.1em;\n",
       "padding-left: 0.25em;\n",
       "border-left-style: solid;\n",
       "font-family: var(--jp-code-font-family);\n",
       "font-size: var(--jp-code-font-size);\n",
       "line-height: var(--jp-code-line-height);\n",
       "\"><span style=\"color: var(--jp-warn-color2)\">MTM2.powerStatus</span> <span style=\"color: var(--jp-warn-color0)\">WARNING</span>: tel_powerStatus DDS read queue is filling: 89 of 100 elements</pre>"
      ],
      "text/plain": [
       "<IPython.core.display.HTML object>"
      ]
     },
     "metadata": {},
     "output_type": "display_data"
    },
    {
     "data": {
      "text/html": [
       "<pre style=\"margin: 0.1em;\n",
       "padding-left: 0.25em;\n",
       "border-left-style: solid;\n",
       "font-family: var(--jp-code-font-family);\n",
       "font-size: var(--jp-code-font-size);\n",
       "line-height: var(--jp-code-line-height);\n",
       "\"><span style=\"color: var(--jp-warn-color2)\">MTM2.positionIMS</span> <span style=\"color: var(--jp-warn-color0)\">WARNING</span>: tel_positionIMS DDS read queue is filling: 89 of 100 elements</pre>"
      ],
      "text/plain": [
       "<IPython.core.display.HTML object>"
      ]
     },
     "metadata": {},
     "output_type": "display_data"
    },
    {
     "data": {
      "text/html": [
       "<pre style=\"margin: 0.1em;\n",
       "padding-left: 0.25em;\n",
       "border-left-style: solid;\n",
       "font-family: var(--jp-code-font-family);\n",
       "font-size: var(--jp-code-font-size);\n",
       "line-height: var(--jp-code-line-height);\n",
       "\"><span style=\"color: var(--jp-warn-color2)\">MTM2.position</span> <span style=\"color: var(--jp-warn-color0)\">WARNING</span>: tel_position DDS read queue is filling: 89 of 100 elements</pre>"
      ],
      "text/plain": [
       "<IPython.core.display.HTML object>"
      ]
     },
     "metadata": {},
     "output_type": "display_data"
    },
    {
     "data": {
      "text/html": [
       "<pre style=\"margin: 0.1em;\n",
       "padding-left: 0.25em;\n",
       "border-left-style: solid;\n",
       "font-family: var(--jp-code-font-family);\n",
       "font-size: var(--jp-code-font-size);\n",
       "line-height: var(--jp-code-line-height);\n",
       "\"><span style=\"color: var(--jp-warn-color2)\">MTM2.netMomentsTotal</span> <span style=\"color: var(--jp-warn-color0)\">WARNING</span>: tel_netMomentsTotal DDS read queue is filling: 89 of 100 elements</pre>"
      ],
      "text/plain": [
       "<IPython.core.display.HTML object>"
      ]
     },
     "metadata": {},
     "output_type": "display_data"
    },
    {
     "data": {
      "text/html": [
       "<pre style=\"margin: 0.1em;\n",
       "padding-left: 0.25em;\n",
       "border-left-style: solid;\n",
       "font-family: var(--jp-code-font-family);\n",
       "font-size: var(--jp-code-font-size);\n",
       "line-height: var(--jp-code-line-height);\n",
       "\"><span style=\"color: var(--jp-warn-color2)\">MTM2.netForcesTotal</span> <span style=\"color: var(--jp-warn-color0)\">WARNING</span>: tel_netForcesTotal DDS read queue is filling: 89 of 100 elements</pre>"
      ],
      "text/plain": [
       "<IPython.core.display.HTML object>"
      ]
     },
     "metadata": {},
     "output_type": "display_data"
    },
    {
     "data": {
      "text/html": [
       "<pre style=\"margin: 0.1em;\n",
       "padding-left: 0.25em;\n",
       "border-left-style: solid;\n",
       "font-family: var(--jp-code-font-family);\n",
       "font-size: var(--jp-code-font-size);\n",
       "line-height: var(--jp-code-line-height);\n",
       "\"><span style=\"color: var(--jp-warn-color2)\">MTM2.ilcData</span> <span style=\"color: var(--jp-warn-color0)\">WARNING</span>: tel_ilcData DDS read queue is filling: 89 of 100 elements</pre>"
      ],
      "text/plain": [
       "<IPython.core.display.HTML object>"
      ]
     },
     "metadata": {},
     "output_type": "display_data"
    },
    {
     "data": {
      "text/html": [
       "<pre style=\"margin: 0.1em;\n",
       "padding-left: 0.25em;\n",
       "border-left-style: solid;\n",
       "font-family: var(--jp-code-font-family);\n",
       "font-size: var(--jp-code-font-size);\n",
       "line-height: var(--jp-code-line-height);\n",
       "\"><span style=\"color: var(--jp-warn-color2)\">MTM2.forceBalance</span> <span style=\"color: var(--jp-warn-color0)\">WARNING</span>: tel_forceBalance DDS read queue is filling: 89 of 100 elements</pre>"
      ],
      "text/plain": [
       "<IPython.core.display.HTML object>"
      ]
     },
     "metadata": {},
     "output_type": "display_data"
    },
    {
     "data": {
      "text/html": [
       "<pre style=\"margin: 0.1em;\n",
       "padding-left: 0.25em;\n",
       "border-left-style: solid;\n",
       "font-family: var(--jp-code-font-family);\n",
       "font-size: var(--jp-code-font-size);\n",
       "line-height: var(--jp-code-line-height);\n",
       "\"><span style=\"color: var(--jp-warn-color2)\">MTM2.displacementSensors</span> <span style=\"color: var(--jp-warn-color0)\">WARNING</span>: tel_displacementSensors DDS read queue is filling: 89 of 100 elements</pre>"
      ],
      "text/plain": [
       "<IPython.core.display.HTML object>"
      ]
     },
     "metadata": {},
     "output_type": "display_data"
    },
    {
     "data": {
      "text/html": [
       "<pre style=\"margin: 0.1em;\n",
       "padding-left: 0.25em;\n",
       "border-left-style: solid;\n",
       "font-family: var(--jp-code-font-family);\n",
       "font-size: var(--jp-code-font-size);\n",
       "line-height: var(--jp-code-line-height);\n",
       "\"><span style=\"color: var(--jp-warn-color2)\">MTM2.axialForce</span> <span style=\"color: var(--jp-warn-color0)\">WARNING</span>: tel_axialForce DDS read queue is filling: 66 of 100 elements</pre>"
      ],
      "text/plain": [
       "<IPython.core.display.HTML object>"
      ]
     },
     "metadata": {},
     "output_type": "display_data"
    },
    {
     "data": {
      "text/html": [
       "<pre style=\"margin: 0.1em;\n",
       "padding-left: 0.25em;\n",
       "border-left-style: solid;\n",
       "font-family: var(--jp-code-font-family);\n",
       "font-size: var(--jp-code-font-size);\n",
       "line-height: var(--jp-code-line-height);\n",
       "\"><span style=\"color: var(--jp-warn-color2)\">MTM2.axialEncoderPositions</span> <span style=\"color: var(--jp-warn-color0)\">WARNING</span>: tel_axialEncoderPositions DDS read queue is filling: 91 of 100 elements</pre>"
      ],
      "text/plain": [
       "<IPython.core.display.HTML object>"
      ]
     },
     "metadata": {},
     "output_type": "display_data"
    },
    {
     "data": {
      "text/html": [
       "<pre style=\"margin: 0.1em;\n",
       "padding-left: 0.25em;\n",
       "border-left-style: solid;\n",
       "font-family: var(--jp-code-font-family);\n",
       "font-size: var(--jp-code-font-size);\n",
       "line-height: var(--jp-code-line-height);\n",
       "\"><span style=\"color: var(--jp-warn-color2)\">MTM2.axialActuatorSteps</span> <span style=\"color: var(--jp-warn-color0)\">WARNING</span>: tel_axialActuatorSteps DDS read queue is filling: 92 of 100 elements</pre>"
      ],
      "text/plain": [
       "<IPython.core.display.HTML object>"
      ]
     },
     "metadata": {},
     "output_type": "display_data"
    },
    {
     "data": {
      "text/plain": [
       "<ddsutil.MTM2_ackcmd_b60441f4 at 0x7f8ee3608fd0>"
      ]
     },
     "execution_count": 6,
     "metadata": {},
     "output_type": "execute_result"
    }
   ],
   "source": [
    "domain = salobj.Domain()\n",
    "m2 = salobj.Remote(domain, \"MTM2\")\n",
    "await m2.start_task\n",
    "await m2.cmd_setLogLevel.set_start(level=10)"
   ]
  },
  {
   "cell_type": "code",
   "execution_count": 7,
   "id": "67c85328-a6f8-49af-a010-ad702ba81f58",
   "metadata": {
    "execution": {
     "iopub.execute_input": "2023-05-26T19:11:50.961056Z",
     "iopub.status.busy": "2023-05-26T19:11:50.960084Z",
     "iopub.status.idle": "2023-05-26T19:12:06.810879Z",
     "shell.execute_reply": "2023-05-26T19:12:06.809774Z",
     "shell.execute_reply.started": "2023-05-26T19:11:50.961015Z"
    },
    "tags": []
   },
   "outputs": [],
   "source": [
    "state_m2 = m2.evt_summaryState.get()\n",
    "if state_m2.summaryState != salobj.State.ENABLED:\n",
    "    await salobj.set_summary_state(m2, salobj.State.ENABLED, timeout=60)"
   ]
  },
  {
   "cell_type": "markdown",
   "id": "9ed6b490-16d1-43cc-99e7-69c5bc5d4d85",
   "metadata": {},
   "source": [
    "## Apply the Bending Mode"
   ]
  },
  {
   "cell_type": "code",
   "execution_count": 8,
   "id": "39977b6f-0cac-4d07-8de1-71300fe8d135",
   "metadata": {
    "execution": {
     "iopub.execute_input": "2023-05-26T19:12:25.312978Z",
     "iopub.status.busy": "2023-05-26T19:12:25.312157Z",
     "iopub.status.idle": "2023-05-26T19:12:25.544445Z",
     "shell.execute_reply": "2023-05-26T19:12:25.543430Z",
     "shell.execute_reply.started": "2023-05-26T19:12:25.312937Z"
    },
    "tags": []
   },
   "outputs": [],
   "source": [
    "bending_mode = get_bending_mode()"
   ]
  },
  {
   "cell_type": "code",
   "execution_count": 12,
   "id": "591d6163-47e6-4ae4-8817-b765587f0db6",
   "metadata": {
    "execution": {
     "iopub.execute_input": "2023-05-26T19:31:31.020362Z",
     "iopub.status.busy": "2023-05-26T19:31:31.019965Z",
     "iopub.status.idle": "2023-05-26T19:31:31.024379Z",
     "shell.execute_reply": "2023-05-26T19:31:31.023770Z",
     "shell.execute_reply.started": "2023-05-26T19:31:31.020328Z"
    },
    "tags": []
   },
   "outputs": [],
   "source": [
    "idx_bending_mode = 2\n",
    "amplitude = 1\n",
    "forces = get_bending_mode_forces(bending_mode, idx_bending_mode, amplitude)"
   ]
  },
  {
   "cell_type": "code",
   "execution_count": 13,
   "id": "e3cfe844-585c-46fc-a3d4-b941afe953f9",
   "metadata": {
    "execution": {
     "iopub.execute_input": "2023-05-26T19:31:34.172815Z",
     "iopub.status.busy": "2023-05-26T19:31:34.172391Z",
     "iopub.status.idle": "2023-05-26T19:31:34.178358Z",
     "shell.execute_reply": "2023-05-26T19:31:34.177326Z",
     "shell.execute_reply.started": "2023-05-26T19:31:34.172781Z"
    },
    "tags": []
   },
   "outputs": [
    {
     "name": "stdout",
     "output_type": "stream",
     "text": [
      "UTC time to is 2023-05-26 19:31:34.174210 now.\n"
     ]
    }
   ],
   "source": [
    "time_start = datetime.now()\n",
    "print(f\"UTC time to is {time_start} now.\")"
   ]
  },
  {
   "cell_type": "code",
   "execution_count": 14,
   "id": "980b1e6d-9093-45be-8f33-a8bb4a44a407",
   "metadata": {
    "execution": {
     "iopub.execute_input": "2023-05-26T19:31:38.185724Z",
     "iopub.status.busy": "2023-05-26T19:31:38.185349Z",
     "iopub.status.idle": "2023-05-26T19:32:10.212698Z",
     "shell.execute_reply": "2023-05-26T19:32:10.211211Z",
     "shell.execute_reply.started": "2023-05-26T19:31:38.185706Z"
    },
    "tags": []
   },
   "outputs": [
    {
     "name": "stdout",
     "output_type": "stream",
     "text": [
      "Apply the force: [-0.1140833   0.1040619   0.3042881   0.4514688   0.5200516   0.4983679\n",
      "  0.3923987   0.218238    0.00612546 -0.2071172  -0.3842845  -0.49646\n",
      " -0.5225269  -0.4575934  -0.3129346  -0.1140832   0.1040615   0.3042879\n",
      "  0.4514686   0.5200514   0.4983677   0.3923985   0.2182382   0.00612555\n",
      " -0.2071169  -0.3842844  -0.49646    -0.5225271  -0.4575937  -0.312935\n",
      "  0.01614688  0.2033671   0.3356943   0.3777259   0.3190145   0.1753736\n",
      " -0.01533061 -0.2020774  -0.335162   -0.3787404  -0.3203629  -0.1756489\n",
      "  0.01614717  0.2033671   0.3356942   0.3777261   0.3190144   0.1753737\n",
      " -0.0153306  -0.2020773  -0.3351619  -0.3787402  -0.3203631  -0.175649\n",
      " -0.05672391  0.119974    0.2401183   0.2477969   0.140026   -0.03312396\n",
      " -0.1910729  -0.2600001  -0.2069945  -0.05672398  0.119974    0.2401182\n",
      "  0.2477971   0.1400261  -0.03312382 -0.1910727  -0.2600002  -0.2069943 ] N.\n",
      "Reset the force.\n",
      "Apply the force: [ 0.1140833  -0.1040619  -0.3042881  -0.4514688  -0.5200516  -0.4983679\n",
      " -0.3923987  -0.218238   -0.00612546  0.2071172   0.3842845   0.49646\n",
      "  0.5225269   0.4575934   0.3129346   0.1140832  -0.1040615  -0.3042879\n",
      " -0.4514686  -0.5200514  -0.4983677  -0.3923985  -0.2182382  -0.00612555\n",
      "  0.2071169   0.3842844   0.49646     0.5225271   0.4575937   0.312935\n",
      " -0.01614688 -0.2033671  -0.3356943  -0.3777259  -0.3190145  -0.1753736\n",
      "  0.01533061  0.2020774   0.335162    0.3787404   0.3203629   0.1756489\n",
      " -0.01614717 -0.2033671  -0.3356942  -0.3777261  -0.3190144  -0.1753737\n",
      "  0.0153306   0.2020773   0.3351619   0.3787402   0.3203631   0.175649\n",
      "  0.05672391 -0.119974   -0.2401183  -0.2477969  -0.140026    0.03312396\n",
      "  0.1910729   0.2600001   0.2069945   0.05672398 -0.119974   -0.2401182\n",
      " -0.2477971  -0.1400261   0.03312382  0.1910727   0.2600002   0.2069943 ] N.\n",
      "Reset the force.\n"
     ]
    }
   ],
   "source": [
    "await apply_force_cycle_axial(m2, forces, time_forces=10, time_reset=5)"
   ]
  },
  {
   "cell_type": "code",
   "execution_count": null,
   "id": "69c36567-d4a8-4548-a5fe-9fd3f1d5a510",
   "metadata": {},
   "outputs": [],
   "source": []
  }
 ],
 "metadata": {
  "kernelspec": {
   "display_name": "LSST",
   "language": "python",
   "name": "lsst"
  },
  "language_info": {
   "codemirror_mode": {
    "name": "ipython",
    "version": 3
   },
   "file_extension": ".py",
   "mimetype": "text/x-python",
   "name": "python",
   "nbconvert_exporter": "python",
   "pygments_lexer": "ipython3",
   "version": "3.10.10"
  }
 },
 "nbformat": 4,
 "nbformat_minor": 5
}
