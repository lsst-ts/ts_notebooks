{
 "cells": [
  {
   "cell_type": "markdown",
   "id": "cff92e66-8d7e-46a0-92a5-bede9f097f62",
   "metadata": {},
   "source": [
    "# M2 Bending Mode Test\n",
    "\n",
    "This Jupyter notebook is to run the bending mode test of M2.\n",
    "Each axial actuator will be issued with an additioal force according to specific bending mode (there are 20).\n",
    "The target is to understand the mirror supporting system can hold the specific shape based on bending mode or not."
   ]
  },
  {
   "cell_type": "markdown",
   "id": "630e8dca-6fb4-4e9e-9ecf-494928cefbb2",
   "metadata": {},
   "source": [
    "## Import Modules"
   ]
  },
  {
   "cell_type": "code",
   "execution_count": null,
   "id": "6945ae01-c911-44cb-98bf-0399914c4da0",
   "metadata": {
    "tags": []
   },
   "outputs": [],
   "source": [
    "import asyncio\n",
    "import yaml\n",
    "import numpy as np\n",
    "from datetime import datetime\n",
    "from lsst.ts import salobj\n",
    "from lsst.ts.m2com import NUM_ACTUATOR, NUM_TANGENT_LINK\n",
    "from lsst.ts.ofc.utils import get_config_dir as get_config_dir_ofc"
   ]
  },
  {
   "cell_type": "markdown",
   "id": "ac412f2b-b4fa-418f-aba6-2e667819a78c",
   "metadata": {},
   "source": [
    "## Declaration of User-defined Functions"
   ]
  },
  {
   "cell_type": "code",
   "execution_count": null,
   "id": "fb7190c4-6405-4a17-99ed-4046cbe6191c",
   "metadata": {
    "tags": []
   },
   "outputs": [],
   "source": [
    "def get_bending_mode():\n",
    "    \"\"\"Get the bending mode.\n",
    "\n",
    "    Returns\n",
    "    -------\n",
    "    bending_mode : `numpy.ndarray`\n",
    "        Bending mode.\n",
    "    \"\"\"\n",
    "    bending_mode_file = get_config_dir_ofc() / \"M2\" / \"M2_1um_72_force.yaml\"\n",
    "    with open(bending_mode_file, \"r\") as yaml_file:\n",
    "        bending_mode = np.array(yaml.safe_load(yaml_file))\n",
    "\n",
    "    return bending_mode"
   ]
  },
  {
   "cell_type": "code",
   "execution_count": null,
   "id": "9f36eb15-92cf-4e14-bef2-72954d46cfe8",
   "metadata": {},
   "outputs": [],
   "source": [
    "def get_bending_mode_forces(bending_mode, idx_bending_mode, amplitude):\n",
    "    \"\"\"Plot the forces of bending mode.\n",
    "    \n",
    "    Parameters\n",
    "    ----------\n",
    "    bending_mode : `numpy.ndarray`\n",
    "        Bending mode data.\n",
    "    idx_bending_mode : `int`\n",
    "        Index of bending mode (1-20).\n",
    "    amplitude : `float`\n",
    "        Amplitude of bending mode in um.\n",
    "        \n",
    "    Returns\n",
    "    -------\n",
    "    `numpy.ndarray`\n",
    "        Actuator forces in Newton.\n",
    "    \"\"\"\n",
    "\n",
    "    # Column 0-2 are the actuator ID, x and y position of actuator\n",
    "    return amplitude * bending_mode[:, 2+idx_bending_mode]"
   ]
  },
  {
   "cell_type": "code",
   "execution_count": null,
   "id": "c52a3f6a-1c35-4a0f-8753-65e929284b79",
   "metadata": {
    "tags": []
   },
   "outputs": [],
   "source": [
    "async def apply_force_cycle_axial(csc, forces, time_forces=5, time_reset=5):\n",
    "    \"\"\"Apply the force cycle to axial actuators. The cycle will be positive force, clear,\n",
    "    negative force, clear.\n",
    "\n",
    "    Parameters\n",
    "    ----------\n",
    "    csc : `lsst.ts.salobj.remote.Remote`\n",
    "        Remote object of the M2 CSC.\n",
    "    forces : `numpy.ndarray`\n",
    "        Axial forces to apply (Newton).\n",
    "    time_forces : `float`, optional\n",
    "        Time to apply the forces in second. (the default is 5.0) \n",
    "    time_reset : `float`, optional\n",
    "        Time to reset the forces in second. (the default is 5.0)\n",
    "    \"\"\"\n",
    "\n",
    "    # Do the positive direction first\n",
    "    print(f\"Apply the force: {forces} N.\")\n",
    "    await csc.cmd_applyForces.set_start(axial=forces.tolist())\n",
    "    await asyncio.sleep(time_forces)\n",
    "\n",
    "    # Put back to origin\n",
    "    print(\"Reset the force.\")\n",
    "    await csc.cmd_resetForceOffsets.set_start()\n",
    "    await asyncio.sleep(time_reset)\n",
    "\n",
    "    # Do the Negative direction\n",
    "    forces_negative = -forces\n",
    "\n",
    "    print(f\"Apply the force: {forces_negative} N.\")\n",
    "    await csc.cmd_applyForces.set_start(axial=forces_negative.tolist())\n",
    "    await asyncio.sleep(time_forces)\n",
    "\n",
    "    # Put back to origin\n",
    "    print(\"Reset the force.\")\n",
    "    await csc.cmd_resetForceOffsets.set_start()\n",
    "    await asyncio.sleep(time_reset)"
   ]
  },
  {
   "cell_type": "markdown",
   "id": "50a825e1-91b3-4dd4-ad90-e27154001a50",
   "metadata": {
    "execution": {
     "iopub.execute_input": "2023-02-15T12:53:11.930901Z",
     "iopub.status.busy": "2023-02-15T12:53:11.930612Z",
     "iopub.status.idle": "2023-02-15T12:53:11.933205Z",
     "shell.execute_reply": "2023-02-15T12:53:11.932768Z",
     "shell.execute_reply.started": "2023-02-15T12:53:11.930883Z"
    }
   },
   "source": [
    "## Prepare the M2 CSC and put to Enabled state"
   ]
  },
  {
   "cell_type": "code",
   "execution_count": null,
   "id": "6a4b25c7-5665-4fd7-b362-2fadb93218d8",
   "metadata": {
    "tags": []
   },
   "outputs": [],
   "source": [
    "domain = salobj.Domain()\n",
    "m2 = salobj.Remote(domain, \"MTM2\")\n",
    "await m2.start_task\n",
    "await m2.cmd_setLogLevel.set_start(level=10)"
   ]
  },
  {
   "cell_type": "code",
   "execution_count": null,
   "id": "67c85328-a6f8-49af-a010-ad702ba81f58",
   "metadata": {},
   "outputs": [],
   "source": [
    "state_m2 = m2.evt_summaryState.get()\n",
    "if state_m2.summaryState != salobj.State.ENABLED:\n",
    "    await salobj.set_summary_state(m2, salobj.State.ENABLED, timeout=60)"
   ]
  },
  {
   "cell_type": "markdown",
   "id": "9ed6b490-16d1-43cc-99e7-69c5bc5d4d85",
   "metadata": {},
   "source": [
    "## Apply the Bending Mode"
   ]
  },
  {
   "cell_type": "code",
   "execution_count": null,
   "id": "39977b6f-0cac-4d07-8de1-71300fe8d135",
   "metadata": {
    "tags": []
   },
   "outputs": [],
   "source": [
    "bending_mode = get_bending_mode()"
   ]
  },
  {
   "cell_type": "code",
   "execution_count": null,
   "id": "591d6163-47e6-4ae4-8817-b765587f0db6",
   "metadata": {
    "tags": []
   },
   "outputs": [],
   "source": [
    "idx_bending_mode = 1\n",
    "amplitude = 1\n",
    "forces = get_bending_mode_forces(bending_mode, idx_bending_mode, amplitude)"
   ]
  },
  {
   "cell_type": "code",
   "execution_count": null,
   "id": "e3cfe844-585c-46fc-a3d4-b941afe953f9",
   "metadata": {
    "tags": []
   },
   "outputs": [],
   "source": [
    "time_start = datetime.now()\n",
    "print(f\"UTC time to is {time_start} now.\")"
   ]
  },
  {
   "cell_type": "code",
   "execution_count": null,
   "id": "980b1e6d-9093-45be-8f33-a8bb4a44a407",
   "metadata": {
    "tags": []
   },
   "outputs": [],
   "source": [
    "await apply_force_cycle_axial(m2, forces, time_forces=10, time_reset=5)"
   ]
  },
  {
   "cell_type": "code",
   "execution_count": null,
   "id": "69c36567-d4a8-4548-a5fe-9fd3f1d5a510",
   "metadata": {},
   "outputs": [],
   "source": []
  }
 ],
 "metadata": {
  "kernelspec": {
   "display_name": "LSST",
   "language": "python",
   "name": "lsst"
  },
  "language_info": {
   "codemirror_mode": {
    "name": "ipython",
    "version": 3
   },
   "file_extension": ".py",
   "mimetype": "text/x-python",
   "name": "python",
   "nbconvert_exporter": "python",
   "pygments_lexer": "ipython3",
   "version": "3.10.9"
  }
 },
 "nbformat": 4,
 "nbformat_minor": 5
}
