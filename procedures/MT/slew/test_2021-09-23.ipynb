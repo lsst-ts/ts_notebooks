{
 "cells": [
  {
   "cell_type": "markdown",
   "id": "2bf435e8",
   "metadata": {},
   "source": [
    "# Setup #"
   ]
  },
  {
   "cell_type": "code",
   "execution_count": 1,
   "id": "2a02fcf4",
   "metadata": {},
   "outputs": [],
   "source": [
    "%load_ext autoreload\n",
    "%autoreload 2"
   ]
  },
  {
   "cell_type": "code",
   "execution_count": 2,
   "id": "e0388fb6",
   "metadata": {},
   "outputs": [
    {
     "name": "stderr",
     "output_type": "stream",
     "text": [
      "Patching auth into notebook.base.handlers.IPythonHandler(notebook.base.handlers.AuthenticatedHandler) -> IPythonHandler(jupyterhub.singleuser.mixins.HubAuthenticatedHandler, notebook.base.handlers.AuthenticatedHandler)\n"
     ]
    },
    {
     "data": {
      "text/plain": [
       "'andes03.cp.lsst.org'"
      ]
     },
     "execution_count": 2,
     "metadata": {},
     "output_type": "execute_result"
    }
   ],
   "source": [
    "import rubin_jupyter_utils.lab.notebook as nb\n",
    "nb.utils.get_node()"
   ]
  },
  {
   "cell_type": "code",
   "execution_count": 3,
   "id": "9e67acb8",
   "metadata": {},
   "outputs": [
    {
     "name": "stderr",
     "output_type": "stream",
     "text": [
      "Update leap second table\n",
      "current_tai uses the system TAI clock\n"
     ]
    }
   ],
   "source": [
    "import os\n",
    "import sys\n",
    "import asyncio\n",
    "import logging\n",
    "\n",
    "import pandas as pd\n",
    "\n",
    "from matplotlib import pyplot as plt\n",
    "\n",
    "from lsst.ts import salobj\n",
    "from lsst.ts.observatory.control.maintel import MTCS, ComCam\n",
    "from lsst.ts.observatory.control import RotType"
   ]
  },
  {
   "cell_type": "code",
   "execution_count": 4,
   "id": "94d75197",
   "metadata": {},
   "outputs": [],
   "source": [
    "logging.basicConfig(format=\"%(name)s:%(message)s\", level=logging.DEBUG)"
   ]
  },
  {
   "cell_type": "code",
   "execution_count": 5,
   "id": "d60817d7",
   "metadata": {},
   "outputs": [],
   "source": [
    "log = logging.getLogger(\"setup\")\n",
    "log.level = logging.DEBUG"
   ]
  },
  {
   "cell_type": "code",
   "execution_count": 6,
   "id": "2331f94e",
   "metadata": {},
   "outputs": [],
   "source": [
    "domain = salobj.Domain()"
   ]
  },
  {
   "cell_type": "code",
   "execution_count": 7,
   "id": "8dd918f2",
   "metadata": {},
   "outputs": [
    {
     "name": "stderr",
     "output_type": "stream",
     "text": [
      "mtmount: Adding all resources.\n",
      "mtptg: Adding all resources.\n",
      "mtaos: Adding all resources.\n",
      "mtm1m3: Adding all resources.\n",
      "mtm2: Adding all resources.\n",
      "mthexapod_1: Adding all resources.\n",
      "mthexapod_2: Adding all resources.\n",
      "mtrotator: Adding all resources.\n",
      "mtdome: Adding all resources.\n",
      "mtdometrajectory: Adding all resources.\n"
     ]
    }
   ],
   "source": [
    "mtcs = MTCS(domain=domain, log=log)\n",
    "mtcs.set_rem_loglevel(40)"
   ]
  },
  {
   "cell_type": "code",
   "execution_count": 8,
   "id": "abf4ab15",
   "metadata": {},
   "outputs": [
    {
     "name": "stderr",
     "output_type": "stream",
     "text": [
      "zenithAngle DDS read queue is full (100 elements); data may be lost\n",
      "temperature DDS read queue is full (100 elements); data may be lost\n",
      "tangentForce DDS read queue is full (100 elements); data may be lost\n",
      "tangentEncoderPositions DDS read queue is full (100 elements); data may be lost\n",
      "tangentActuatorSteps DDS read queue is full (100 elements); data may be lost\n",
      "powerStatus DDS read queue is full (100 elements); data may be lost\n",
      "positionIMS DDS read queue is full (100 elements); data may be lost\n",
      "position DDS read queue is full (100 elements); data may be lost\n",
      "netMomentsTotal DDS read queue is full (100 elements); data may be lost\n",
      "Read historical data in 0.17 sec\n",
      "netForcesTotal DDS read queue is full (100 elements); data may be lost\n",
      "ilcData DDS read queue is full (100 elements); data may be lost\n",
      "Read historical data in 0.20 sec\n",
      "forceBalance DDS read queue is full (100 elements); data may be lost\n",
      "displacementSensors DDS read queue is full (100 elements); data may be lost\n",
      "axialForce DDS read queue is full (100 elements); data may be lost\n",
      "axialEncoderPositions DDS read queue is full (100 elements); data may be lost\n",
      "axialActuatorSteps DDS read queue is full (100 elements); data may be lost\n",
      "rotation DDS read queue is full (100 elements); data may be lost\n",
      "elevation DDS read queue is full (100 elements); data may be lost\n",
      "motors DDS read queue is full (100 elements); data may be lost\n",
      "cameraCableWrap DDS read queue is full (100 elements); data may be lost\n"
     ]
    },
    {
     "data": {
      "text/plain": [
       "[None, None, None, None, None, None, None, None, None, None]"
      ]
     },
     "execution_count": 8,
     "metadata": {},
     "output_type": "execute_result"
    },
    {
     "name": "stderr",
     "output_type": "stream",
     "text": [
      "electrical DDS read queue is full (100 elements); data may be lost\n",
      "electrical DDS read queue is filling: 86 of 100 elements\n",
      "powerSupplyData DDS read queue is full (100 elements); data may be lost\n",
      "timeAndDate DDS read queue is full (100 elements); data may be lost\n",
      "electrical DDS read queue is full (100 elements); data may be lost\n"
     ]
    }
   ],
   "source": [
    "await mtcs.start_task"
   ]
  },
  {
   "cell_type": "code",
   "execution_count": 9,
   "id": "689eacf6",
   "metadata": {},
   "outputs": [
    {
     "name": "stderr",
     "output_type": "stream",
     "text": [
      "azimuth DDS read queue is full (100 elements); data may be lost\n",
      "application DDS read queue is full (100 elements); data may be lost\n",
      "application DDS read queue is filling: 88 of 100 elements\n",
      "pidData DDS read queue is full (100 elements); data may be lost\n",
      "mountStatus DDS read queue is full (100 elements); data may be lost\n",
      "ccwFollowingError DDS read queue is full (100 elements); data may be lost\n",
      "actuators DDS read queue is full (100 elements); data may be lost\n",
      "actuators DDS read queue is filling: 89 of 100 elements\n",
      "inclinometerData DDS read queue is full (100 elements); data may be lost\n",
      "mountPosition DDS read queue is full (100 elements); data may be lost\n",
      "currentTargetStatus DDS read queue is full (100 elements); data may be lost\n",
      "imsData DDS read queue is full (100 elements); data may be lost\n",
      "hardpointMonitorData DDS read queue is full (100 elements); data may be lost\n",
      "hardpointActuatorData DDS read queue is full (100 elements); data may be lost\n",
      "forceActuatorData DDS read queue is full (100 elements); data may be lost\n",
      "accelerometerData DDS read queue is full (100 elements); data may be lost\n",
      "cccamera: Adding all resources.\n",
      "ccheaderservice: Adding all resources.\n",
      "ccarchiver: Adding all resources.\n"
     ]
    }
   ],
   "source": [
    "comcam = ComCam(domain=domain, log=log)"
   ]
  },
  {
   "cell_type": "code",
   "execution_count": 10,
   "id": "1c8500ae",
   "metadata": {},
   "outputs": [],
   "source": [
    "comcam.set_rem_loglevel(40)"
   ]
  },
  {
   "cell_type": "code",
   "execution_count": 11,
   "id": "9de3b627",
   "metadata": {},
   "outputs": [
    {
     "data": {
      "text/plain": [
       "[None, None, None]"
      ]
     },
     "execution_count": 11,
     "metadata": {},
     "output_type": "execute_result"
    }
   ],
   "source": [
    "await comcam.start_task"
   ]
  },
  {
   "cell_type": "code",
   "execution_count": null,
   "id": "cf0e7d3d",
   "metadata": {},
   "outputs": [],
   "source": [
    "await comcam.enable()"
   ]
  },
  {
   "cell_type": "markdown",
   "id": "81b14320",
   "metadata": {},
   "source": [
    "# Here we perform a test to slew and take an image #"
   ]
  },
  {
   "cell_type": "code",
   "execution_count": null,
   "id": "019cdd63",
   "metadata": {},
   "outputs": [],
   "source": [
    "target = await mtcs.find_target(el=80, az=120, mag_limit=8)\n",
    "print(target)"
   ]
  },
  {
   "cell_type": "code",
   "execution_count": null,
   "id": "15d23c93",
   "metadata": {},
   "outputs": [],
   "source": [
    "await mtcs.slew_object(target, rot_type=RotType.PhysicalSky, rot=-1.5)"
   ]
  },
  {
   "cell_type": "markdown",
   "id": "93414ff4",
   "metadata": {},
   "source": [
    "Recover pointing fault below, target movement forced rotator to track into difference limit of -2.0 deg. Will need to select a new target with a better tracking vector"
   ]
  },
  {
   "cell_type": "code",
   "execution_count": null,
   "id": "2f4aebdb",
   "metadata": {},
   "outputs": [],
   "source": [
    "await mtcs.set_state(salobj.State.ENABLED, components=[\"mtptg\"])"
   ]
  },
  {
   "cell_type": "markdown",
   "id": "2eb7bcf2",
   "metadata": {},
   "source": [
    "A lower elevation will mean the rotator will move slower to keep up, and an azimuth of 120 E of N means the target is in the Southeast of the sky, rising. When rising, we will need to have a positive rot offset applied to start as the rotator will advance in the negative direction. We will need the cell below to avoid sending two targets at the same time."
   ]
  },
  {
   "cell_type": "markdown",
   "id": "b1c5943f",
   "metadata": {},
   "source": [
    "rotator/hex went to fault because we did not fully clear the previous target we sent, we need to clear the faults on both. This can be done from the engineering screens or using the command below"
   ]
  },
  {
   "cell_type": "code",
   "execution_count": null,
   "id": "85aeaabf",
   "metadata": {},
   "outputs": [],
   "source": [
    "#use this to clear the fault status\n",
    "#await mtcs.rem.mtrotator.cmd_clearError.set_start()"
   ]
  },
  {
   "cell_type": "code",
   "execution_count": null,
   "id": "1f2d0adb",
   "metadata": {},
   "outputs": [],
   "source": [
    "await mtcs.rem.mtrotator.cmd_stop.start(timeout=5)"
   ]
  },
  {
   "cell_type": "code",
   "execution_count": 12,
   "id": "593d3dc4",
   "metadata": {},
   "outputs": [
    {
     "name": "stdout",
     "output_type": "stream",
     "text": [
      "HD 119154\n"
     ]
    }
   ],
   "source": [
    "target = await mtcs.find_target(el=60, az=120, mag_limit=8)\n",
    "print(target)"
   ]
  },
  {
   "cell_type": "code",
   "execution_count": 13,
   "id": "e7cddca3",
   "metadata": {},
   "outputs": [
    {
     "name": "stderr",
     "output_type": "stream",
     "text": [
      "Slewing to HD 119154: 13 42 17.5515 -40 26 27.948\n",
      "Setting rotator physical position to 1.9 deg. Rotator will track sky.\n",
      "Camera cable wrap following disabled in MTMount.\n",
      "Stop tracking.\n",
      "Sending slew command.\n",
      "Scheduling check coroutines\n",
      "process as completed...\n",
      "Monitor position started.\n",
      "Waiting for Target event from mtmount.\n",
      "mtmount: <State.ENABLED: 2>\n",
      "mtptg: <State.ENABLED: 2>\n",
      "mtaos: <State.ENABLED: 2>\n",
      "mtm1m3: <State.ENABLED: 2>\n",
      "mtm2: <State.ENABLED: 2>\n",
      "mthexapod_1: <State.ENABLED: 2>\n",
      "mthexapod_2: <State.ENABLED: 2>\n",
      "mtrotator: <State.ENABLED: 2>\n",
      "mtdome: <State.ENABLED: 2>\n",
      "mtdometrajectory: <State.ENABLED: 2>\n",
      "Wait for mtmount in position event.\n",
      "Wait for dome in position event.\n",
      "Wait for rotator in position event.\n",
      "Mount target: private_revCode: 261ad639, private_sndStamp: 1632412508.400535, private_rcvStamp: 1632412508.401246, private_seqNum: 918, private_identity: MTMount, private_origin: 103063, private_host: 0, elevation: 59.69083674368315, elevationVelocity: 0.003137983574026249, azimuth: 119.5835305763641, azimuthVelocity: 0.0009429869144663674, taiTime: 1632412508.4560843, trackId: 1, tracksys: SIDEREAL, radesys: ICRS, priority: 0\n",
      "[Tel]: Az = +120.784[  -1.2]; El = +080.774[ -21.1] [Rot]: -002.000[  -0.0] [Dome] Az = +000.000; El = +000.000 \n",
      "Dome azimuth in position.\n",
      "Dome elevation in position.\n",
      "MTMount axesInPosition got: elevation False, azimuth True.\n",
      "Got True\n",
      "Rotator in position.\n",
      "[Tel]: Az = +119.588[  -0.0]; El = +064.469[  -4.8] [Rot]: +001.826[  +0.0] [Dome] Az = +000.000; El = +000.000 \n",
      "MTMount axesInPosition got: elevation True, azimuth True.\n",
      "Waiting for telescope to settle.\n",
      "Telescope in position.\n"
     ]
    }
   ],
   "source": [
    "await mtcs.slew_object(target, rot_type=RotType.PhysicalSky, rot=1.9)"
   ]
  },
  {
   "cell_type": "markdown",
   "id": "67d4804a",
   "metadata": {},
   "source": [
    "telescope is in position, let's take a comcam image!"
   ]
  },
  {
   "cell_type": "code",
   "execution_count": 14,
   "id": "7e3d0f8c",
   "metadata": {},
   "outputs": [
    {
     "name": "stderr",
     "output_type": "stream",
     "text": [
      "Generating group_id\n",
      "imagetype: OBJECT, TCS synchronization not configured.\n",
      "OBJECT 0001 - 0001\n"
     ]
    },
    {
     "data": {
      "text/plain": [
       "array([2021092300001])"
      ]
     },
     "execution_count": 14,
     "metadata": {},
     "output_type": "execute_result"
    }
   ],
   "source": [
    "await comcam.take_object(15)"
   ]
  },
  {
   "cell_type": "code",
   "execution_count": 15,
   "id": "d13e2d1f",
   "metadata": {},
   "outputs": [
    {
     "name": "stderr",
     "output_type": "stream",
     "text": [
      "Stop tracking.\n"
     ]
    }
   ],
   "source": [
    "await mtcs.stop_tracking()"
   ]
  },
  {
   "cell_type": "markdown",
   "id": "e94b47cd",
   "metadata": {},
   "source": [
    "The image landed correctly and even has some correct info in the file header, later we will need to do a more careful analysis of the header information"
   ]
  },
  {
   "cell_type": "markdown",
   "id": "955c4697",
   "metadata": {},
   "source": [
    "# Now we are moving to on mtaos testing #"
   ]
  },
  {
   "cell_type": "markdown",
   "id": "7f9944d4",
   "metadata": {},
   "source": [
    "initialize an array of wavefront error values to be passed directly to the mtaos"
   ]
  },
  {
   "cell_type": "code",
   "execution_count": 17,
   "id": "b2bbaf8f",
   "metadata": {},
   "outputs": [],
   "source": [
    "import numpy as np\n",
    "wavefront_errors = np.zeros(19)"
   ]
  },
  {
   "cell_type": "code",
   "execution_count": 19,
   "id": "94cdd821",
   "metadata": {},
   "outputs": [],
   "source": [
    "wavefront_errors[1] += 0.1 # add 0.1 um of oblique astigmatism"
   ]
  },
  {
   "cell_type": "code",
   "execution_count": 20,
   "id": "941fad44",
   "metadata": {},
   "outputs": [
    {
     "data": {
      "text/plain": [
       "<ddsutil.MTAOS_ackcmd_8e276e56 at 0x7f067714e190>"
      ]
     },
     "execution_count": 20,
     "metadata": {},
     "output_type": "execute_result"
    }
   ],
   "source": [
    "await mtcs.rem.mtaos.cmd_addAberration.set_start(wf=wavefront_errors, timeout=10)"
   ]
  },
  {
   "cell_type": "markdown",
   "id": "6872443f",
   "metadata": {},
   "source": [
    "This command primes the corrections, the issueCorrection command is needed to actually command them to be sent"
   ]
  },
  {
   "cell_type": "code",
   "execution_count": 21,
   "id": "d8b8b5ff",
   "metadata": {},
   "outputs": [
    {
     "data": {
      "text/plain": [
       "<ddsutil.MTAOS_ackcmd_8e276e56 at 0x7f06dc466a60>"
      ]
     },
     "execution_count": 21,
     "metadata": {},
     "output_type": "execute_result"
    }
   ],
   "source": [
    "await mtcs.rem.mtaos.cmd_issueCorrection.start(timeout=60.)"
   ]
  },
  {
   "cell_type": "code",
   "execution_count": 23,
   "id": "c1b623df",
   "metadata": {},
   "outputs": [
    {
     "data": {
      "text/plain": [
       "<ddsutil.MTAOS_ackcmd_8e276e56 at 0x7f0617585dc0>"
      ]
     },
     "execution_count": 23,
     "metadata": {},
     "output_type": "execute_result"
    }
   ],
   "source": [
    "await mtcs.rem.mtaos.cmd_resetCorrection.start()"
   ]
  },
  {
   "cell_type": "code",
   "execution_count": 26,
   "id": "97cdf46f",
   "metadata": {},
   "outputs": [],
   "source": [
    "wavefront_errors[1] = 0\n",
    "wavefront_errors[3] = 1.0 # add 1.0 um of z7"
   ]
  },
  {
   "cell_type": "code",
   "execution_count": 25,
   "id": "15a2d61a",
   "metadata": {},
   "outputs": [
    {
     "name": "stderr",
     "output_type": "stream",
     "text": [
      "actuators DDS read queue is filling: 10 of 100 elements\n"
     ]
    },
    {
     "data": {
      "text/plain": [
       "<ddsutil.MTAOS_ackcmd_8e276e56 at 0x7f06dc1e7a30>"
      ]
     },
     "execution_count": 25,
     "metadata": {},
     "output_type": "execute_result"
    },
    {
     "name": "stderr",
     "output_type": "stream",
     "text": [
      "electrical DDS read queue is filling: 13 of 100 elements\n",
      "application DDS read queue is filling: 13 of 100 elements\n"
     ]
    }
   ],
   "source": [
    "await mtcs.rem.mtaos.cmd_issueCorrection.start(timeout=60.)"
   ]
  },
  {
   "cell_type": "code",
   "execution_count": 27,
   "id": "57489cfa",
   "metadata": {},
   "outputs": [
    {
     "data": {
      "text/plain": [
       "<ddsutil.MTAOS_ackcmd_8e276e56 at 0x7f06173c0790>"
      ]
     },
     "execution_count": 27,
     "metadata": {},
     "output_type": "execute_result"
    }
   ],
   "source": [
    "await mtcs.rem.mtaos.cmd_addAberration.set_start(wf=wavefront_errors, timeout=10)"
   ]
  },
  {
   "cell_type": "code",
   "execution_count": 28,
   "id": "3518486a",
   "metadata": {},
   "outputs": [
    {
     "data": {
      "text/plain": [
       "<ddsutil.MTAOS_ackcmd_8e276e56 at 0x7f06147db7c0>"
      ]
     },
     "execution_count": 28,
     "metadata": {},
     "output_type": "execute_result"
    }
   ],
   "source": [
    "await mtcs.rem.mtaos.cmd_issueCorrection.start(timeout=60.)"
   ]
  },
  {
   "cell_type": "code",
   "execution_count": 30,
   "id": "8b83dfdb",
   "metadata": {},
   "outputs": [],
   "source": [
    "wavefront_errors[3] = 1.0 # add 1.0 um of z7"
   ]
  },
  {
   "cell_type": "code",
   "execution_count": 31,
   "id": "a8f56f0b",
   "metadata": {},
   "outputs": [
    {
     "data": {
      "text/plain": [
       "<ddsutil.MTAOS_ackcmd_8e276e56 at 0x7f06d3f734c0>"
      ]
     },
     "execution_count": 31,
     "metadata": {},
     "output_type": "execute_result"
    }
   ],
   "source": [
    "await mtcs.rem.mtaos.cmd_addAberration.set_start(wf=wavefront_errors, timeout=10)"
   ]
  },
  {
   "cell_type": "code",
   "execution_count": 32,
   "id": "661d6178",
   "metadata": {},
   "outputs": [
    {
     "data": {
      "text/plain": [
       "<ddsutil.MTAOS_ackcmd_8e276e56 at 0x7f06777a8040>"
      ]
     },
     "execution_count": 32,
     "metadata": {},
     "output_type": "execute_result"
    }
   ],
   "source": [
    "await mtcs.rem.mtaos.cmd_issueCorrection.start(timeout=60.)"
   ]
  },
  {
   "cell_type": "code",
   "execution_count": null,
   "id": "735397c1",
   "metadata": {},
   "outputs": [],
   "source": []
  },
  {
   "cell_type": "markdown",
   "id": "7bbd85ce",
   "metadata": {},
   "source": [
    "# Moving to a failure test of how the mtaos handles a rejected command #\n",
    "JIRA LVV-T2193"
   ]
  },
  {
   "cell_type": "code",
   "execution_count": 33,
   "id": "b9c9e101",
   "metadata": {},
   "outputs": [
    {
     "data": {
      "text/plain": [
       "<ddsutil.MTAOS_ackcmd_8e276e56 at 0x7f066ede7820>"
      ]
     },
     "execution_count": 33,
     "metadata": {},
     "output_type": "execute_result"
    }
   ],
   "source": [
    "await mtcs.rem.mtaos.cmd_resetCorrection.start()"
   ]
  },
  {
   "cell_type": "code",
   "execution_count": 34,
   "id": "2bb511f3",
   "metadata": {},
   "outputs": [
    {
     "data": {
      "text/plain": [
       "<ddsutil.MTAOS_ackcmd_8e276e56 at 0x7f066edbde80>"
      ]
     },
     "execution_count": 34,
     "metadata": {},
     "output_type": "execute_result"
    }
   ],
   "source": [
    "await mtcs.rem.mtaos.cmd_issueCorrection.start(timeout=60.)"
   ]
  },
  {
   "cell_type": "code",
   "execution_count": 35,
   "id": "ae4fe3d8",
   "metadata": {},
   "outputs": [
    {
     "data": {
      "text/plain": [
       "array([0., 0., 0., 1., 0., 0., 0., 0., 0., 0., 0., 0., 0., 0., 0., 0., 0.,\n",
       "       0., 0.])"
      ]
     },
     "execution_count": 35,
     "metadata": {},
     "output_type": "execute_result"
    }
   ],
   "source": [
    "wavefront_errors"
   ]
  },
  {
   "cell_type": "code",
   "execution_count": 36,
   "id": "59911ed6",
   "metadata": {},
   "outputs": [
    {
     "data": {
      "text/plain": [
       "<ddsutil.MTAOS_ackcmd_8e276e56 at 0x7f06dc4a8430>"
      ]
     },
     "execution_count": 36,
     "metadata": {},
     "output_type": "execute_result"
    }
   ],
   "source": [
    "await mtcs.rem.mtaos.cmd_addAberration.set_start(wf=wavefront_errors, timeout=10)"
   ]
  },
  {
   "cell_type": "code",
   "execution_count": 37,
   "id": "98118913",
   "metadata": {},
   "outputs": [
    {
     "data": {
      "text/plain": [
       "<ddsutil.MTAOS_ackcmd_8e276e56 at 0x7f066ede75e0>"
      ]
     },
     "execution_count": 37,
     "metadata": {},
     "output_type": "execute_result"
    }
   ],
   "source": [
    "await mtcs.rem.mtaos.cmd_issueCorrection.start(timeout=60.)"
   ]
  },
  {
   "cell_type": "code",
   "execution_count": 38,
   "id": "faa4dd5f",
   "metadata": {},
   "outputs": [
    {
     "name": "stderr",
     "output_type": "stream",
     "text": [
      "[mthexapod_2]::[<State.ENABLED: 2>, <State.DISABLED: 1>]\n",
      "All components in <State.DISABLED: 1>.\n"
     ]
    }
   ],
   "source": [
    "await mtcs.set_state(salobj.State.DISABLED, components=[\"mthexapod_2\"])"
   ]
  },
  {
   "cell_type": "code",
   "execution_count": 39,
   "id": "fdc90334",
   "metadata": {},
   "outputs": [
    {
     "data": {
      "text/plain": [
       "<ddsutil.MTAOS_ackcmd_8e276e56 at 0x7f06539737c0>"
      ]
     },
     "execution_count": 39,
     "metadata": {},
     "output_type": "execute_result"
    }
   ],
   "source": [
    "await mtcs.rem.mtaos.cmd_addAberration.set_start(wf=wavefront_errors, timeout=10)"
   ]
  },
  {
   "cell_type": "code",
   "execution_count": 40,
   "id": "2bc00b0f",
   "metadata": {},
   "outputs": [
    {
     "ename": "AckError",
     "evalue": "msg='Command failed', ackcmd=(ackcmd private_seqNum=763213325, ack=<SalRetCode.CMD_FAILED: -302>, error=1, result=\"Failed: Failed to apply correction to: ['m2hex']. \")",
     "output_type": "error",
     "traceback": [
      "\u001b[0;31m---------------------------------------------------------------------------\u001b[0m",
      "\u001b[0;31mAckError\u001b[0m                                  Traceback (most recent call last)",
      "\u001b[0;32m<ipython-input-40-b1ff3ae729d7>\u001b[0m in \u001b[0;36m<module>\u001b[0;34m\u001b[0m\n\u001b[0;32m----> 1\u001b[0;31m \u001b[0;32mawait\u001b[0m \u001b[0mmtcs\u001b[0m\u001b[0;34m.\u001b[0m\u001b[0mrem\u001b[0m\u001b[0;34m.\u001b[0m\u001b[0mmtaos\u001b[0m\u001b[0;34m.\u001b[0m\u001b[0mcmd_issueCorrection\u001b[0m\u001b[0;34m.\u001b[0m\u001b[0mstart\u001b[0m\u001b[0;34m(\u001b[0m\u001b[0mtimeout\u001b[0m\u001b[0;34m=\u001b[0m\u001b[0;36m60.\u001b[0m\u001b[0;34m)\u001b[0m\u001b[0;34m\u001b[0m\u001b[0;34m\u001b[0m\u001b[0m\n\u001b[0m",
      "\u001b[0;32m/opt/lsst/software/stack/conda/miniconda3-py38_4.9.2/envs/lsst-scipipe-0.7.0/lib/python3.8/site-packages/lsst/ts/salobj/topics/remote_command.py\u001b[0m in \u001b[0;36mstart\u001b[0;34m(self, data, timeout, wait_done)\u001b[0m\n\u001b[1;32m    447\u001b[0m         )\n\u001b[1;32m    448\u001b[0m         \u001b[0mself\u001b[0m\u001b[0;34m.\u001b[0m\u001b[0msalinfo\u001b[0m\u001b[0;34m.\u001b[0m\u001b[0m_running_cmds\u001b[0m\u001b[0;34m[\u001b[0m\u001b[0mseq_num\u001b[0m\u001b[0;34m]\u001b[0m \u001b[0;34m=\u001b[0m \u001b[0mcmd_info\u001b[0m\u001b[0;34m\u001b[0m\u001b[0;34m\u001b[0m\u001b[0m\n\u001b[0;32m--> 449\u001b[0;31m         \u001b[0;32mreturn\u001b[0m \u001b[0;32mawait\u001b[0m \u001b[0mcmd_info\u001b[0m\u001b[0;34m.\u001b[0m\u001b[0mnext_ackcmd\u001b[0m\u001b[0;34m(\u001b[0m\u001b[0mtimeout\u001b[0m\u001b[0;34m=\u001b[0m\u001b[0mtimeout\u001b[0m\u001b[0;34m)\u001b[0m\u001b[0;34m\u001b[0m\u001b[0;34m\u001b[0m\u001b[0m\n\u001b[0m",
      "\u001b[0;32m/opt/lsst/software/stack/conda/miniconda3-py38_4.9.2/envs/lsst-scipipe-0.7.0/lib/python3.8/site-packages/lsst/ts/salobj/topics/remote_command.py\u001b[0m in \u001b[0;36mnext_ackcmd\u001b[0;34m(self, timeout)\u001b[0m\n\u001b[1;32m    180\u001b[0m             \u001b[0mackcmd\u001b[0m \u001b[0;34m=\u001b[0m \u001b[0;32mawait\u001b[0m \u001b[0mself\u001b[0m\u001b[0;34m.\u001b[0m\u001b[0m_wait_task\u001b[0m\u001b[0;34m\u001b[0m\u001b[0;34m\u001b[0m\u001b[0m\n\u001b[1;32m    181\u001b[0m             \u001b[0;32mif\u001b[0m \u001b[0mackcmd\u001b[0m\u001b[0;34m.\u001b[0m\u001b[0mack\u001b[0m \u001b[0;32min\u001b[0m \u001b[0mself\u001b[0m\u001b[0;34m.\u001b[0m\u001b[0mfailed_ack_codes\u001b[0m\u001b[0;34m:\u001b[0m\u001b[0;34m\u001b[0m\u001b[0;34m\u001b[0m\u001b[0m\n\u001b[0;32m--> 182\u001b[0;31m                 \u001b[0;32mraise\u001b[0m \u001b[0mbase\u001b[0m\u001b[0;34m.\u001b[0m\u001b[0mAckError\u001b[0m\u001b[0;34m(\u001b[0m\u001b[0mmsg\u001b[0m\u001b[0;34m=\u001b[0m\u001b[0;34m\"Command failed\"\u001b[0m\u001b[0;34m,\u001b[0m \u001b[0mackcmd\u001b[0m\u001b[0;34m=\u001b[0m\u001b[0mackcmd\u001b[0m\u001b[0;34m)\u001b[0m\u001b[0;34m\u001b[0m\u001b[0;34m\u001b[0m\u001b[0m\n\u001b[0m\u001b[1;32m    183\u001b[0m             \u001b[0;32mreturn\u001b[0m \u001b[0mackcmd\u001b[0m\u001b[0;34m\u001b[0m\u001b[0;34m\u001b[0m\u001b[0m\n\u001b[1;32m    184\u001b[0m         \u001b[0;32mexcept\u001b[0m \u001b[0masyncio\u001b[0m\u001b[0;34m.\u001b[0m\u001b[0mTimeoutError\u001b[0m\u001b[0;34m:\u001b[0m\u001b[0;34m\u001b[0m\u001b[0;34m\u001b[0m\u001b[0m\n",
      "\u001b[0;31mAckError\u001b[0m: msg='Command failed', ackcmd=(ackcmd private_seqNum=763213325, ack=<SalRetCode.CMD_FAILED: -302>, error=1, result=\"Failed: Failed to apply correction to: ['m2hex']. \")"
     ]
    }
   ],
   "source": [
    "await mtcs.rem.mtaos.cmd_issueCorrection.start(timeout=60.)"
   ]
  },
  {
   "cell_type": "code",
   "execution_count": 41,
   "id": "a3589c77",
   "metadata": {},
   "outputs": [
    {
     "name": "stderr",
     "output_type": "stream",
     "text": [
      "[mthexapod_2]::[<State.DISABLED: 1>, <State.ENABLED: 2>]\n",
      "All components in <State.ENABLED: 2>.\n"
     ]
    }
   ],
   "source": [
    "await mtcs.set_state(salobj.State.ENABLED, components=[\"mthexapod_2\"])"
   ]
  },
  {
   "cell_type": "code",
   "execution_count": 42,
   "id": "aace4399",
   "metadata": {},
   "outputs": [
    {
     "data": {
      "text/plain": [
       "<ddsutil.MTAOS_ackcmd_8e276e56 at 0x7f066ee074c0>"
      ]
     },
     "execution_count": 42,
     "metadata": {},
     "output_type": "execute_result"
    }
   ],
   "source": [
    "await mtcs.rem.mtaos.cmd_issueCorrection.start(timeout=60.)"
   ]
  },
  {
   "cell_type": "code",
   "execution_count": 43,
   "id": "42172fb9",
   "metadata": {},
   "outputs": [
    {
     "data": {
      "text/plain": [
       "<ddsutil.MTAOS_ackcmd_8e276e56 at 0x7f06dc334d60>"
      ]
     },
     "execution_count": 43,
     "metadata": {},
     "output_type": "execute_result"
    }
   ],
   "source": [
    "await mtcs.rem.mtaos.cmd_addAberration.set_start(wf=wavefront_errors, timeout=10)"
   ]
  },
  {
   "cell_type": "code",
   "execution_count": 44,
   "id": "eec8fe6b",
   "metadata": {},
   "outputs": [
    {
     "data": {
      "text/plain": [
       "<ddsutil.MTAOS_ackcmd_8e276e56 at 0x7f06dce8e100>"
      ]
     },
     "execution_count": 44,
     "metadata": {},
     "output_type": "execute_result"
    }
   ],
   "source": [
    "await mtcs.rem.mtaos.cmd_issueCorrection.start(timeout=60.)"
   ]
  },
  {
   "cell_type": "code",
   "execution_count": 45,
   "id": "dfc37965",
   "metadata": {},
   "outputs": [
    {
     "data": {
      "text/plain": [
       "<ddsutil.MTAOS_ackcmd_8e276e56 at 0x7f06173c09a0>"
      ]
     },
     "execution_count": 45,
     "metadata": {},
     "output_type": "execute_result"
    }
   ],
   "source": [
    "await mtcs.rem.mtaos.cmd_rejectCorrection.start()"
   ]
  },
  {
   "cell_type": "code",
   "execution_count": 46,
   "id": "9dd5e44c",
   "metadata": {},
   "outputs": [
    {
     "data": {
      "text/plain": [
       "<ddsutil.MTAOS_ackcmd_8e276e56 at 0x7f06dc0e3940>"
      ]
     },
     "execution_count": 46,
     "metadata": {},
     "output_type": "execute_result"
    }
   ],
   "source": [
    "await mtcs.rem.mtaos.cmd_issueCorrection.start(timeout=60.)"
   ]
  },
  {
   "cell_type": "code",
   "execution_count": 47,
   "id": "debd21b9",
   "metadata": {},
   "outputs": [],
   "source": [
    "wavefront_errors[3] += 1.0"
   ]
  },
  {
   "cell_type": "code",
   "execution_count": 48,
   "id": "b5863eb4",
   "metadata": {},
   "outputs": [
    {
     "data": {
      "text/plain": [
       "<ddsutil.MTAOS_ackcmd_8e276e56 at 0x7f0614cecb80>"
      ]
     },
     "execution_count": 48,
     "metadata": {},
     "output_type": "execute_result"
    }
   ],
   "source": [
    "await mtcs.rem.mtaos.cmd_addAberration.set_start(wf=wavefront_errors, timeout=10)"
   ]
  },
  {
   "cell_type": "code",
   "execution_count": 49,
   "id": "efe48136",
   "metadata": {},
   "outputs": [
    {
     "name": "stderr",
     "output_type": "stream",
     "text": [
      "[mtaos]::[<State.ENABLED: 2>, <State.DISABLED: 1>, <State.STANDBY: 5>]\n",
      "All components in <State.STANDBY: 5>.\n"
     ]
    }
   ],
   "source": [
    "await mtcs.set_state(salobj.State.STANDBY, components=[\"mtaos\"])"
   ]
  },
  {
   "cell_type": "code",
   "execution_count": 50,
   "id": "96daf63a",
   "metadata": {},
   "outputs": [
    {
     "name": "stderr",
     "output_type": "stream",
     "text": [
      "M1M3 current detailed state {<DetailedState.ACTIVEENGINEERING: 11>, <DetailedState.ACTIVE: 7>}, executing command...\n",
      "process as completed...\n",
      "M1M3 detailed state 8\n",
      "mtm1m3: <State.ENABLED: 2>\n",
      "mtm1m3: <State.ENABLED: 2>\n",
      "M1M3 detailed state 5\n"
     ]
    }
   ],
   "source": [
    "await mtcs.lower_m1m3()"
   ]
  },
  {
   "cell_type": "code",
   "execution_count": 52,
   "id": "35a90632",
   "metadata": {},
   "outputs": [
    {
     "name": "stderr",
     "output_type": "stream",
     "text": [
      "[mtm1m3]::[<State.ENABLED: 2>, <State.DISABLED: 1>, <State.STANDBY: 5>]\n",
      "All components in <State.STANDBY: 5>.\n"
     ]
    }
   ],
   "source": [
    "await mtcs.set_state(salobj.State.STANDBY, components=[\"mtm1m3\"])"
   ]
  },
  {
   "cell_type": "code",
   "execution_count": 54,
   "id": "71100da2",
   "metadata": {},
   "outputs": [
    {
     "name": "stderr",
     "output_type": "stream",
     "text": [
      "[mtm2]::[<State.DISABLED: 1>, <State.STANDBY: 5>]\n",
      "All components in <State.STANDBY: 5>.\n"
     ]
    }
   ],
   "source": [
    "await mtcs.set_state(salobj.State.STANDBY, components=[\"mtm2\"])"
   ]
  },
  {
   "cell_type": "code",
   "execution_count": 55,
   "id": "e95bbbb3",
   "metadata": {},
   "outputs": [
    {
     "name": "stderr",
     "output_type": "stream",
     "text": [
      "[mthexapod_1]::[<State.ENABLED: 2>, <State.DISABLED: 1>, <State.STANDBY: 5>]\n",
      "All components in <State.STANDBY: 5>.\n"
     ]
    }
   ],
   "source": [
    "await mtcs.set_state(salobj.State.STANDBY, components=[\"mthexapod_1\"])"
   ]
  },
  {
   "cell_type": "code",
   "execution_count": 56,
   "id": "c8bd76d5",
   "metadata": {},
   "outputs": [
    {
     "name": "stderr",
     "output_type": "stream",
     "text": [
      "[mthexapod_2]::[<State.ENABLED: 2>, <State.DISABLED: 1>, <State.STANDBY: 5>]\n",
      "All components in <State.STANDBY: 5>.\n"
     ]
    }
   ],
   "source": [
    "await mtcs.set_state(salobj.State.STANDBY, components=[\"mthexapod_2\"])"
   ]
  },
  {
   "cell_type": "code",
   "execution_count": 57,
   "id": "30d2501b",
   "metadata": {},
   "outputs": [
    {
     "name": "stderr",
     "output_type": "stream",
     "text": [
      "[mtmount]::[<State.ENABLED: 2>, <State.DISABLED: 1>, <State.STANDBY: 5>]\n",
      "[mtptg]::[<State.ENABLED: 2>, <State.DISABLED: 1>, <State.STANDBY: 5>]\n",
      "[mtaos]::[<State.STANDBY: 5>]\n",
      "[mtm1m3]::[<State.STANDBY: 5>]\n",
      "[mtm2]::[<State.STANDBY: 5>]\n",
      "[mthexapod_1]::[<State.STANDBY: 5>]\n",
      "[mthexapod_2]::[<State.STANDBY: 5>]\n",
      "[mtrotator]::[<State.ENABLED: 2>, <State.DISABLED: 1>, <State.STANDBY: 5>]\n",
      "[mtdome]::[<State.ENABLED: 2>, <State.DISABLED: 1>, <State.STANDBY: 5>]\n",
      "[mtdometrajectory]::[<State.ENABLED: 2>, <State.DISABLED: 1>, <State.STANDBY: 5>]\n",
      "All components in <State.STANDBY: 5>.\n"
     ]
    }
   ],
   "source": [
    "await mtcs.standby()"
   ]
  },
  {
   "cell_type": "code",
   "execution_count": 58,
   "id": "e4acbf52",
   "metadata": {},
   "outputs": [
    {
     "name": "stderr",
     "output_type": "stream",
     "text": [
      "[cccamera]::[<State.ENABLED: 2>, <State.DISABLED: 1>, <State.STANDBY: 5>]\n",
      "[ccheaderservice]::[<State.ENABLED: 2>, <State.DISABLED: 1>, <State.STANDBY: 5>]\n",
      "[ccarchiver]::[<State.ENABLED: 2>, <State.DISABLED: 1>, <State.STANDBY: 5>]\n",
      "All components in <State.STANDBY: 5>.\n"
     ]
    }
   ],
   "source": [
    "await comcam.standby()"
   ]
  },
  {
   "cell_type": "code",
   "execution_count": null,
   "id": "e63bc32c",
   "metadata": {},
   "outputs": [],
   "source": []
  },
  {
   "cell_type": "markdown",
   "id": "5b321de4",
   "metadata": {},
   "source": [
    "# Appendix #"
   ]
  },
  {
   "cell_type": "code",
   "execution_count": null,
   "id": "9dbdc806",
   "metadata": {},
   "outputs": [],
   "source": [
    "# Setting MTMtg to STANDBY so Tiago can change the slew limits which should allows\n",
    "#  us moving to rot=-1.5\n",
    "await mtcs.set_state(salobj.State.STANDBY, components=[\"mtptg\"])"
   ]
  },
  {
   "cell_type": "code",
   "execution_count": null,
   "id": "fbb74eae",
   "metadata": {},
   "outputs": [],
   "source": [
    "await mtcs.set_state(salobj.State.ENABLED, components=[\"mtptg\"])"
   ]
  },
  {
   "cell_type": "code",
   "execution_count": null,
   "id": "19f970e0",
   "metadata": {},
   "outputs": [],
   "source": [
    "await mtcs.slew_object(target, rot_type=RotType.PhysicalSky, rot=-1.5)"
   ]
  },
  {
   "cell_type": "code",
   "execution_count": null,
   "id": "1ec07349",
   "metadata": {},
   "outputs": [],
   "source": [
    "await mtcs.stop_tracking()"
   ]
  },
  {
   "cell_type": "code",
   "execution_count": null,
   "id": "c2e03911",
   "metadata": {},
   "outputs": [],
   "source": [
    "await mtcs.set_state(\n",
    "    state=salobj.State.ENABLED,\n",
    "    settings=dict(mthexapod_1=\"default\"),\n",
    "    components=[\"mthexapod_1\"]\n",
    "    )"
   ]
  },
  {
   "cell_type": "code",
   "execution_count": null,
   "id": "7dfff449",
   "metadata": {},
   "outputs": [],
   "source": [
    "await mtcs.rem.mthexapod_1.cmd_clearError.set_start()"
   ]
  },
  {
   "cell_type": "code",
   "execution_count": null,
   "id": "b20b4ee3",
   "metadata": {},
   "outputs": [],
   "source": [
    "await mtcs.set_state(salobj.State.ENABLED, components=[\"mtptg\"])"
   ]
  },
  {
   "cell_type": "code",
   "execution_count": null,
   "id": "f820e75b",
   "metadata": {},
   "outputs": [],
   "source": [
    "await mtcs.set_state(\n",
    "    state=salobj.State.ENABLED,\n",
    "    settings=dict(mthexapod_1=\"default\"),\n",
    "    components=[\"mthexapod_1\"]\n",
    "    )"
   ]
  },
  {
   "cell_type": "code",
   "execution_count": null,
   "id": "008efdf8",
   "metadata": {},
   "outputs": [],
   "source": [
    "target = await mtcs.find_target(el=60, az=120, mag_limit=8)\n",
    "print(target)"
   ]
  },
  {
   "cell_type": "code",
   "execution_count": null,
   "id": "a64fb960",
   "metadata": {},
   "outputs": [],
   "source": [
    "await mtcs.slew_object(target, rot_type=RotType.PhysicalSky)"
   ]
  },
  {
   "cell_type": "code",
   "execution_count": null,
   "id": "850ac77e",
   "metadata": {},
   "outputs": [],
   "source": [
    "# await mtcs.stop_tracking()"
   ]
  },
  {
   "cell_type": "code",
   "execution_count": null,
   "id": "3267b6dc",
   "metadata": {},
   "outputs": [],
   "source": [
    "await mtcs.rem.mtrotator.cmd_clearError.set_start()"
   ]
  },
  {
   "cell_type": "code",
   "execution_count": null,
   "id": "98595a55",
   "metadata": {},
   "outputs": [],
   "source": [
    "await mtcs.set_state(salobj.State.ENABLED, components=[\"mtrotator\"])"
   ]
  },
  {
   "cell_type": "code",
   "execution_count": null,
   "id": "a825fa5f",
   "metadata": {},
   "outputs": [],
   "source": [
    "await mtcs.set_state(salobj.State.ENABLED, components=[\"mtptg\"])"
   ]
  },
  {
   "cell_type": "code",
   "execution_count": null,
   "id": "14016068",
   "metadata": {},
   "outputs": [],
   "source": [
    "await mtcs.slew_object(target, rot_type=RotType.PhysicalSky)"
   ]
  },
  {
   "cell_type": "code",
   "execution_count": null,
   "id": "9ec4e43a",
   "metadata": {},
   "outputs": [],
   "source": [
    "await mtcs.stop_tracking()"
   ]
  },
  {
   "cell_type": "code",
   "execution_count": null,
   "id": "204a924f",
   "metadata": {},
   "outputs": [],
   "source": [
    "await mtcs.slew_object(target, rot_type=RotType.PhysicalSky, rot=1.9)"
   ]
  },
  {
   "cell_type": "code",
   "execution_count": null,
   "id": "a442f44c",
   "metadata": {},
   "outputs": [],
   "source": [
    "await mtcs.rem.mtrotator.cmd_clearError.set_start()"
   ]
  },
  {
   "cell_type": "code",
   "execution_count": null,
   "id": "843e5487",
   "metadata": {},
   "outputs": [],
   "source": [
    "await mtcs.set_state(salobj.State.ENABLED, components=[\"mtrotator\"])"
   ]
  },
  {
   "cell_type": "code",
   "execution_count": null,
   "id": "c8a871ea",
   "metadata": {},
   "outputs": [],
   "source": [
    "await mtcs.set_state(salobj.State.ENABLED, components=[\"mtptg\"])"
   ]
  },
  {
   "cell_type": "code",
   "execution_count": null,
   "id": "6b12ac2f",
   "metadata": {},
   "outputs": [],
   "source": [
    "await mtcs.slew_object(target, rot_type=RotType.PhysicalSky, rot=1.5)"
   ]
  },
  {
   "cell_type": "code",
   "execution_count": null,
   "id": "e7b516df",
   "metadata": {},
   "outputs": [],
   "source": [
    "await comcam.take_object(1)"
   ]
  },
  {
   "cell_type": "code",
   "execution_count": null,
   "id": "ebde64a4",
   "metadata": {},
   "outputs": [],
   "source": [
    "await mtcs.stop_tracking()"
   ]
  },
  {
   "cell_type": "code",
   "execution_count": null,
   "id": "c28c90d7",
   "metadata": {},
   "outputs": [],
   "source": [
    "await mtcs.slew_object(target, rot_type=RotType.Physical, rot=0)"
   ]
  },
  {
   "cell_type": "code",
   "execution_count": null,
   "id": "2d5bf324",
   "metadata": {},
   "outputs": [],
   "source": [
    "await mtcs.rem.mtrotator.cmd_clearError.set_start()\n",
    "await mtcs.set_state(salobj.State.ENABLED, components=[\"mtrotator\"])"
   ]
  },
  {
   "cell_type": "code",
   "execution_count": null,
   "id": "d7005d33",
   "metadata": {},
   "outputs": [],
   "source": [
    "await mtcs.set_state(salobj.State.ENABLED, components=[\"mtptg\"])"
   ]
  },
  {
   "cell_type": "code",
   "execution_count": null,
   "id": "91300e62",
   "metadata": {},
   "outputs": [],
   "source": [
    "await mtcs.slew_object(target, rot_type=RotType.Physical, rot=0)"
   ]
  },
  {
   "cell_type": "code",
   "execution_count": null,
   "id": "311fd7fa",
   "metadata": {},
   "outputs": [],
   "source": [
    "await comcam.get_available_filters()"
   ]
  },
  {
   "cell_type": "code",
   "execution_count": null,
   "id": "608070b3",
   "metadata": {},
   "outputs": [],
   "source": [
    "await comcam.setup_filter('r_03')"
   ]
  },
  {
   "cell_type": "code",
   "execution_count": null,
   "id": "61d32ec0",
   "metadata": {},
   "outputs": [],
   "source": [
    "await mtcs.rem.mthexapod_1.cmd_clearError.set_start()"
   ]
  },
  {
   "cell_type": "code",
   "execution_count": null,
   "id": "07ba9e09",
   "metadata": {},
   "outputs": [],
   "source": [
    "await mtcs.set_state(\n",
    "    state=salobj.State.ENABLED,\n",
    "    settings=dict(mthexapod_1=\"default\"),\n",
    "    components=[\"mthexapod_1\"]\n",
    "    )"
   ]
  },
  {
   "cell_type": "code",
   "execution_count": null,
   "id": "284c450f",
   "metadata": {},
   "outputs": [],
   "source": [
    "await mtcs.slew_object(target, rot_type=RotType.PhysicalSky, rot=1.5)"
   ]
  },
  {
   "cell_type": "code",
   "execution_count": null,
   "id": "fe7ce8c0",
   "metadata": {},
   "outputs": [],
   "source": [
    "await mtcs.rem.mtrotator.cmd_clearError.set_start()"
   ]
  },
  {
   "cell_type": "code",
   "execution_count": null,
   "id": "4a3d6e0f",
   "metadata": {},
   "outputs": [],
   "source": [
    "await mtcs.set_state(salobj.State.ENABLED, components=[\"mtrotator\"])"
   ]
  },
  {
   "cell_type": "code",
   "execution_count": null,
   "id": "e044ef95",
   "metadata": {},
   "outputs": [],
   "source": [
    "await mtcs.set_state(salobj.State.ENABLED, components=[\"mtptg\"])"
   ]
  },
  {
   "cell_type": "code",
   "execution_count": null,
   "id": "d9e6a17d",
   "metadata": {},
   "outputs": [],
   "source": [
    "await mtcs.slew_object(target, rot_type=RotType.PhysicalSky, rot=1.5)"
   ]
  },
  {
   "cell_type": "code",
   "execution_count": null,
   "id": "4701ec03",
   "metadata": {},
   "outputs": [],
   "source": [
    "await comcam.take_object(15)"
   ]
  },
  {
   "cell_type": "code",
   "execution_count": null,
   "id": "901afb58",
   "metadata": {},
   "outputs": [],
   "source": [
    "await mtcs.stop_tracking()"
   ]
  },
  {
   "cell_type": "code",
   "execution_count": null,
   "id": "55511593",
   "metadata": {},
   "outputs": [],
   "source": [
    "await comcam.standby()"
   ]
  },
  {
   "cell_type": "code",
   "execution_count": null,
   "id": "dd7e96b4",
   "metadata": {},
   "outputs": [],
   "source": []
  }
 ],
 "metadata": {
  "kernelspec": {
   "display_name": "LSST",
   "language": "python",
   "name": "lsst"
  },
  "language_info": {
   "codemirror_mode": {
    "name": "ipython",
    "version": 3
   },
   "file_extension": ".py",
   "mimetype": "text/x-python",
   "name": "python",
   "nbconvert_exporter": "python",
   "pygments_lexer": "ipython3",
   "version": "3.8.8"
  }
 },
 "nbformat": 4,
 "nbformat_minor": 5
}
