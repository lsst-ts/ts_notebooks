{
 "cells": [
  {
   "cell_type": "markdown",
   "source": [
    "# Main Telescope Slew simulation: Setup notebook\n",
    "\n",
    "....\n",
    "\n",
    "This notebook does slew simulations, and check all aos components (M1M3, M2, hexapods) behavior during the slew-and-track process\n",
    "\n",
    "This is expected to work both for SUMMIT and NCSA"
   ],
   "metadata": {}
  },
  {
   "cell_type": "code",
   "execution_count": null,
   "source": [
    "%load_ext autoreload\n",
    "%autoreload 2"
   ],
   "outputs": [],
   "metadata": {}
  },
  {
   "cell_type": "code",
   "execution_count": null,
   "source": [
    "import rubin_jupyter_utils.lab.notebook as nb\n",
    "nb.utils.get_node()"
   ],
   "outputs": [],
   "metadata": {}
  },
  {
   "cell_type": "code",
   "execution_count": null,
   "source": [
    "import os\n",
    "import sys\n",
    "import asyncio\n",
    "import logging\n",
    "\n",
    "import pandas as pd\n",
    "\n",
    "from matplotlib import pyplot as plt\n",
    "\n",
    "from lsst.ts import salobj\n",
    "from lsst.ts.observatory.control.maintel.mtcs import MTCS\n"
   ],
   "outputs": [],
   "metadata": {}
  },
  {
   "cell_type": "code",
   "execution_count": null,
   "source": [
    "summit = 1 #use this for summit testing\n",
    "# summit = 0 #use this for NCSA"
   ],
   "outputs": [],
   "metadata": {
    "tags": [
     "parameter"
    ]
   }
  },
  {
   "cell_type": "markdown",
   "source": [
    "## Check environment setup\n",
    "\n",
    "The following cell will print some of the basic DDS configutions."
   ],
   "metadata": {}
  },
  {
   "cell_type": "code",
   "execution_count": null,
   "source": [
    "print(os.environ[\"OSPL_URI\"])\n",
    "print(os.environ[\"LSST_DDS_PARTITION_PREFIX\"])\n",
    "print(os.environ.get(\"LSST_DDS_DOMAIN_ID\", \"Expected, not set.\"))"
   ],
   "outputs": [],
   "metadata": {}
  },
  {
   "cell_type": "markdown",
   "source": [
    "### Setup logging\n",
    "\n",
    "Setup logging in debug mode and create a logger to use on the notebook."
   ],
   "metadata": {}
  },
  {
   "cell_type": "code",
   "execution_count": null,
   "source": [
    "logging.basicConfig(format=\"%(name)s:%(message)s\", level=logging.DEBUG)"
   ],
   "outputs": [],
   "metadata": {}
  },
  {
   "cell_type": "code",
   "execution_count": null,
   "source": [
    "log = logging.getLogger(\"setup\")\n",
    "log.level = logging.DEBUG"
   ],
   "outputs": [],
   "metadata": {}
  },
  {
   "cell_type": "markdown",
   "source": [
    "# Starting communication resources\n",
    "\n",
    "We start by creating a domain and later instantiate the MTCS class.\n",
    "We will use the class to startup the components. "
   ],
   "metadata": {}
  },
  {
   "cell_type": "code",
   "execution_count": null,
   "source": [
    "domain = salobj.Domain()"
   ],
   "outputs": [],
   "metadata": {}
  },
  {
   "cell_type": "code",
   "execution_count": null,
   "source": [
    "mtcs = MTCS(domain=domain, log=log)\n",
    "mtcs.set_rem_loglevel(40)"
   ],
   "outputs": [],
   "metadata": {}
  },
  {
   "cell_type": "code",
   "execution_count": null,
   "source": [
    "await mtcs.start_task"
   ],
   "outputs": [],
   "metadata": {}
  },
  {
   "cell_type": "markdown",
   "source": [
    "# Starting components\n",
    "\n",
    "From now on we will start the various components of the MTAOS.\n",
    "You may wonder why are we not simply sending all CSCs to ENABLED state in one go, as we usually do on other systems.\n",
    "\n",
    "The answer is that the MTCS components have some initilization dependencies that need to be observed for the components to be enabled properly.\n",
    "We will describe these as we work our way the initialization steps.\n"
   ],
   "metadata": {}
  },
  {
   "cell_type": "markdown",
   "source": [
    "## Starting MTPtg\n",
    "\n",
    "We start by making sure the pointing component is alive, by waiting for a heartbeat.\n",
    "Next we enable the component using `mtcs.set_state` method.\n",
    "\n",
    "We select to start with the `MTPtg` mainly because, of all components of the `MTCS` it is the only pure-software components.\n",
    "As such the `MTPtg` is pretty independent and can be brought to enabled in any condition.\n",
    "\n",
    "It is also worth noticed that, as a pure-software component, the `MTPtg` does not have a simulation mode.\n",
    "\n",
    "Furthermore, as you will notice below, we are not checking the software version of the `MTPtg`, mainly because the component is currently not sending this information."
   ],
   "metadata": {}
  },
  {
   "cell_type": "code",
   "execution_count": null,
   "source": [
    "await mtcs.next_heartbeat(\"mtptg\")"
   ],
   "outputs": [],
   "metadata": {}
  },
  {
   "cell_type": "code",
   "execution_count": null,
   "source": [
    "await mtcs.set_state(salobj.State.ENABLED, components=[\"mtptg\"])"
   ],
   "outputs": [],
   "metadata": {}
  },
  {
   "cell_type": "markdown",
   "source": [
    "## Starting MTMount\n",
    "\n",
    "This is one case where the initialization order is important. \n",
    "\n",
    "The MTMount needs to be enabled before we enable the MTRotator.\n",
    "The reason is that the MTRotator needs to know the position of the Camera Cable Wrap (CCW), which is provided by the MTMount, before it can be enable. \n",
    "If the MTRotator does not receive the position of the CCW, it will immediatelly activate the breaks and transition to FAULT state."
   ],
   "metadata": {}
  },
  {
   "cell_type": "markdown",
   "source": [
    "We start by verifying that the CSC is sending heartbeats."
   ],
   "metadata": {}
  },
  {
   "cell_type": "code",
   "execution_count": null,
   "source": [
    "await mtcs.next_heartbeat(\"mtmount\")"
   ],
   "outputs": [],
   "metadata": {}
  },
  {
   "cell_type": "markdown",
   "source": [
    "Now we can enable the CSC."
   ],
   "metadata": {}
  },
  {
   "cell_type": "code",
   "execution_count": null,
   "source": [
    "await mtcs.set_state(salobj.State.ENABLED, components=[\"mtmount\"])"
   ],
   "outputs": [],
   "metadata": {}
  },
  {
   "cell_type": "markdown",
   "source": [
    "### Perform some basic checks\n",
    "\n",
    "The following are a couple of sanity checks we routinely perform when starting the MTMount.\n",
    "\n",
    "We check if the CSC is running in simulation mode and then the version of the CSC.\n",
    "\n",
    "Finally, we verify that the camera cable wrap following is enabled."
   ],
   "metadata": {}
  },
  {
   "cell_type": "code",
   "execution_count": null,
   "source": [
    "mtmount_simulation_mode = await mtcs.get_simulation_mode([\"mtmount\"])\n",
    "\n",
    "mode = mtmount_simulation_mode[\"mtmount\"].mode\n",
    "timestamp = pd.to_datetime(mtmount_simulation_mode[\"mtmount\"].private_sndStamp, unit='s')\n",
    "\n",
    "log.debug(\n",
    "    f\"MTMount simulation mode: {mode} @ {timestamp}\"\n",
    ")"
   ],
   "outputs": [],
   "metadata": {}
  },
  {
   "cell_type": "code",
   "execution_count": null,
   "source": [
    "mtmount_software_versions = await mtcs.get_software_versions([\"mtmount\"])\n",
    "\n",
    "csc_version = mtmount_software_versions[\"mtmount\"].cscVersion\n",
    "timestamp = pd.to_datetime(mtmount_software_versions[\"mtmount\"].private_sndStamp, unit='s')\n",
    "\n",
    "log.debug(\n",
    "    f\"MTMount software version: {csc_version} @ {timestamp}\",\n",
    ")"
   ],
   "outputs": [],
   "metadata": {}
  },
  {
   "cell_type": "code",
   "execution_count": null,
   "source": [
    "mtmount_ccw_following = await mtcs.rem.mtmount.evt_cameraCableWrapFollowing.aget()\n",
    "\n",
    "timestamp = pd.to_datetime(mtmount_ccw_following.private_sndStamp, unit='s')\n",
    "\n",
    "if mtmount_ccw_following.enabled:\n",
    "    log.debug(f\"CCW following mode enabled: {mtmount_ccw_following.enabled} @ {timestamp}.\")\n",
    "else:\n",
    "    await mtcs.set_state(salobj.State.DISABLED, [\"mtmount\"])\n",
    "    raise RuntimeError(\n",
    "        \"CCW following mode not enabled. Usually this means that the MTMount could \"\n",
    "        \"not see telemetry from the rotator when it was enabled. To correct this condition \"\n",
    "        \"make sure the MTRotator telemetry is being published, then execute the procedure again. \"\n",
    "        \"MTMount CSC will be left in DISABLED state.\"\n",
    "        )\n"
   ],
   "outputs": [],
   "metadata": {}
  },
  {
   "cell_type": "markdown",
   "source": [
    "## Starting Rotator"
   ],
   "metadata": {}
  },
  {
   "cell_type": "code",
   "execution_count": null,
   "source": [
    "await mtcs.next_heartbeat(\"mtrotator\")"
   ],
   "outputs": [],
   "metadata": {}
  },
  {
   "cell_type": "code",
   "execution_count": null,
   "source": [
    "await mtcs.set_state(salobj.State.ENABLED, components=[\"mtrotator\"])"
   ],
   "outputs": [],
   "metadata": {}
  },
  {
   "cell_type": "markdown",
   "source": [
    "### Perform some basic checks\n",
    "\n",
    "The following is a few sanity checks we routinely perform to verify the system integrity at this stage."
   ],
   "metadata": {}
  },
  {
   "cell_type": "code",
   "execution_count": null,
   "source": [
    "mtrotator_simulation_mode = await mtcs.get_simulation_mode([\"mtrotator\"])\n",
    "\n",
    "mode = mtrotator_simulation_mode[\"mtrotator\"].mode\n",
    "timestamp = pd.to_datetime(mtrotator_simulation_mode[\"mtrotator\"].private_sndStamp, unit='s')\n",
    "\n",
    "log.debug(\n",
    "    f\"MTRotator simulation mode: {mode} @ {timestamp}\"\n",
    ")"
   ],
   "outputs": [],
   "metadata": {}
  },
  {
   "cell_type": "code",
   "execution_count": null,
   "source": [
    "mtrotator_software_versions = await mtcs.get_software_versions([\"mtrotator\"])\n",
    "\n",
    "csc_version = mtrotator_software_versions[\"mtrotator\"].cscVersion\n",
    "timestamp = pd.to_datetime(mtrotator_software_versions[\"mtrotator\"].private_sndStamp, unit='s')\n",
    "\n",
    "log.debug(\n",
    "    f\"MTRotator software version: {csc_version} @ {timestamp}\",\n",
    ")"
   ],
   "outputs": [],
   "metadata": {}
  },
  {
   "cell_type": "code",
   "execution_count": null,
   "source": [
    "elevation = await mtcs.rem.mtmount.tel_elevation.next(flush=True, timeout=5)\n",
    "azimuth = await mtcs.rem.mtmount.tel_azimuth.next(flush=True, timeout=5)\n",
    "ccw = await mtcs.rem.mtmount.tel_cameraCableWrap.next(flush=True, timeout=5)\n",
    "rotator = await mtcs.rem.mtrotator.tel_rotation.next(flush=True, timeout=5)\n",
    "\n",
    "log.info(f\"mount elevation Angle = {elevation.actualPosition}\")\n",
    "log.info(f\"mount azimuth angle = {azimuth.actualPosition}\")\n",
    "log.info(f\"CCW angle = {ccw.actualPosition}. Needs to be within 2.2 deg of rotator angle \")\n",
    "log.info(f\"rot angle = {rotator.actualPosition} diff = {rotator.actualPosition - ccw.actualPosition}\")"
   ],
   "outputs": [],
   "metadata": {}
  },
  {
   "cell_type": "markdown",
   "source": [
    "### CCW telemetry too old\n",
    "\n",
    "This warning message may appear in the `MTRotator` in a couple different conditions.\n",
    "\n",
    "The most common occurence is when the `MTMount` component is not publishing the CCW telemetry.\n",
    "This should be rectified by enabling the CSC, as we've done on the section above, and is one of the reasons we enable `MTMount` before the `MTRotator`.\n",
    "\n",
    "The less common but more critical condition is when the clock on the `MTMount` controller is out of sync with the observatory clock server.\n",
    "In this case, the `timestamp` attribute, used by the `MTRotator` to determine the relevant time for the published telemetry, will be out of sync and we won't be able to operate the system.\n",
    "\n",
    "You can use the cell below to determine whether this is the case or not.\n",
    "If so, you need to contact IT or someone with knowledge about the `MTMount` low level controller to fix the time synchronization issue.\n",
    "\n"
   ],
   "metadata": {}
  },
  {
   "cell_type": "code",
   "execution_count": null,
   "source": [
    "ccw = await mtcs.rem.mtmount.tel_cameraCableWrap.next(flush=True, timeout=5)\n",
    "rotator = await mtcs.rem.mtrotator.tel_rotation.next(flush=True, timeout=5)\n",
    "\n",
    "ccw_snd_stamp = pd.to_datetime(ccw.private_sndStamp, unit='s')\n",
    "ccw_timestamp = pd.to_datetime(ccw.timestamp, unit='s')\n",
    "ccw_actual_position = ccw.actualPosition\n",
    "\n",
    "rotator_snd_stamp = pd.to_datetime(rotator.private_sndStamp, unit='s')\n",
    "rotator_timestamp = pd.to_datetime(rotator.timestamp, unit='s')\n",
    "rotator_actual_position = rotator.actualPosition\n",
    "\n",
    "log.info(\n",
    "    f\"CCW:: snd_stamp={ccw_snd_stamp} timestamp={ccw_timestamp} actual position={ccw_actual_position}\"\n",
    "    )\n",
    "log.info(\n",
    "    f\"Rotator:: snd_stamp={rotator_snd_stamp} timestamp={rotator_timestamp} actual position={rotator_actual_position}\"\n",
    "    )\n",
    "\n",
    "ccw_telemetry_maximum_age = pd.to_timedelta(1.0, unit='s')\n",
    "\n",
    "if abs(ccw_snd_stamp - ccw_timestamp) > ccw_telemetry_maximum_age:\n",
    "    log.warning(\n",
    "        f\"CCW timestamp out of sync by {abs(ccw_snd_stamp - ccw_timestamp)}s. \"\n",
    "        \"System may not work. Check clock synchronization in MTMount low level controller.\"\n",
    "        )"
   ],
   "outputs": [],
   "metadata": {}
  },
  {
   "cell_type": "markdown",
   "source": [
    "### Clearing error in MTRotator\n",
    "\n",
    "If the MTRotator is in FAULT state, you need to send the `clearError` command before transitioning it back to `ENABLED`.\n",
    "\n",
    "This is a particularity of the `MTRotator` (and `MTHexapod`) that violates our state machine."
   ],
   "metadata": {}
  },
  {
   "cell_type": "code",
   "execution_count": null,
   "source": [
    "if False:\n",
    "    await mtcs.mtrotator.cmd_clearError.set_start()"
   ],
   "outputs": [],
   "metadata": {}
  },
  {
   "cell_type": "markdown",
   "source": [
    "## Checkpoint\n",
    "\n",
    "At this point the system is ready for exercicing slew activities, without involving the optical components."
   ],
   "metadata": {}
  },
  {
   "cell_type": "markdown",
   "source": [
    "## Starting M1M3 (Mount telemetry mode)"
   ],
   "metadata": {}
  },
  {
   "cell_type": "markdown",
   "source": [
    "If running the test on level 3 and if M1M3 is configured to listen for the mount telemetry, we firt need to make sure the `MTMount` is pointing to zenith.\n",
    "\n",
    "The reason is that `M1M3` is in a fixed position and, when we try to enabled/raise it, the will check the inclinometer data against the elevation data. If they differ by more than a couple degrees the process will fail.\n",
    "\n",
    "Once M1M3 is mounted on the telescope and we are operating the actual mount, instead of in simulation mode, this will not be necessary."
   ],
   "metadata": {}
  },
  {
   "cell_type": "code",
   "execution_count": null,
   "source": [
    "await mtcs.rem.mtmount.cmd_moveToTarget.set_start(azimuth=0, elevation=90)"
   ],
   "outputs": [],
   "metadata": {}
  },
  {
   "cell_type": "code",
   "execution_count": null,
   "source": [
    "await mtcs.next_heartbeat(\"mtm1m3\")"
   ],
   "outputs": [],
   "metadata": {}
  },
  {
   "cell_type": "code",
   "execution_count": null,
   "source": [
    "await mtcs.set_state(\n",
    "    state=salobj.State.ENABLED,\n",
    "    settings=dict(mtm1m3=\"Default\"),\n",
    "    components=[\"mtm1m3\"]\n",
    "    )"
   ],
   "outputs": [],
   "metadata": {}
  },
  {
   "cell_type": "markdown",
   "source": [
    "### Raise m1m3\n",
    "\n",
    "Now that m1m3 is enabled we can raise it.\n",
    "\n",
    "The following has a trick to allow raising the m1m3 in the background and give control back to the notebook. \n",
    "If, in middle of the process, you need to abort the operation you can still do it from the notebooks.\n",
    "\n",
    "Once you execute the cell bellow you will notice that the log messages will appear below the cell, but you can also see that the cell will be masked as \"finished executing\".\n",
    "That means, instead of seeing an `*` you will see the number of the cell.\n",
    "This is because the operation is running in the background and we have control over the notebook to execute additional cells."
   ],
   "metadata": {}
  },
  {
   "cell_type": "code",
   "execution_count": null,
   "source": [
    "task_raise_m1m3 = asyncio.create_task(mtcs.raise_m1m3())"
   ],
   "outputs": [],
   "metadata": {}
  },
  {
   "cell_type": "markdown",
   "source": [
    "The next cell contain a command to abort the raise operation initiated in the background on the cell above.\n",
    "Note that the command to execute the abort operation is encapsulated by an `if False`.\n",
    "This is to prevent the command from executing if the notebook is being executed by papermill or by accident.\n",
    "\n",
    "If you need to abort the operation change the if statement to `if True`."
   ],
   "metadata": {}
  },
  {
   "cell_type": "code",
   "execution_count": null,
   "source": [
    "if False:\n",
    "    await mtcs.abort_raise_m1m3()\n"
   ],
   "outputs": [],
   "metadata": {}
  },
  {
   "cell_type": "markdown",
   "source": [
    "The next cell will wait for the raise_m1m3 command to finish executing. \n",
    "This is to make sure a batch processing of the notebook won't proceed until the raise operation is completed."
   ],
   "metadata": {}
  },
  {
   "cell_type": "code",
   "execution_count": null,
   "source": [
    "await task_raise_m1m3"
   ],
   "outputs": [],
   "metadata": {}
  },
  {
   "cell_type": "code",
   "execution_count": null,
   "source": [
    "await mtcs.enable_m1m3_balance_system()"
   ],
   "outputs": [],
   "metadata": {}
  },
  {
   "cell_type": "code",
   "execution_count": null,
   "source": [
    "await mtcs.reset_m1m3_forces()"
   ],
   "outputs": [],
   "metadata": {}
  },
  {
   "cell_type": "code",
   "execution_count": null,
   "source": [
    "# Move this to a shutdown notebook...\n",
    "# await lowerM1M3(m1m3)"
   ],
   "outputs": [],
   "metadata": {}
  },
  {
   "cell_type": "markdown",
   "source": [
    "## Starting M2"
   ],
   "metadata": {}
  },
  {
   "cell_type": "code",
   "execution_count": null,
   "source": [
    "await mtcs.next_heartbeat(\"mtm2\")"
   ],
   "outputs": [],
   "metadata": {}
  },
  {
   "cell_type": "markdown",
   "source": [
    "<div class=\"alert alert-block alert-info\">\n",
    "Remember to reset interlocks.\n",
    "</div>\n",
    "\n",
    "\n",
    "M2 has an issue that it returns the state transition commands before it is actually finishing doing the state transition.\n",
    "This causes the subsequent transitions to fail.\n",
    "To work around it we will do them one at a time, adding a sleep between each of them to allow the CSC to finish the state transition.\n",
    "\n",
    "These workarounds should be removed once the CSC is fixed."
   ],
   "metadata": {}
  },
  {
   "cell_type": "code",
   "execution_count": null,
   "source": [
    "await mtcs.set_state(\n",
    "    state=salobj.State.STANDBY,\n",
    "    components=[\"mtm2\"]\n",
    "    )"
   ],
   "outputs": [],
   "metadata": {}
  },
  {
   "cell_type": "code",
   "execution_count": null,
   "source": [
    "mtm2_state_transition_sleep_time = 5."
   ],
   "outputs": [],
   "metadata": {}
  },
  {
   "cell_type": "code",
   "execution_count": null,
   "source": [
    "await asyncio.sleep(mtm2_state_transition_sleep_time)"
   ],
   "outputs": [],
   "metadata": {}
  },
  {
   "cell_type": "code",
   "execution_count": null,
   "source": [
    "await mtcs.set_state(\n",
    "    state=salobj.State.DISABLED,\n",
    "    components=[\"mtm2\"]\n",
    "    )"
   ],
   "outputs": [],
   "metadata": {}
  },
  {
   "cell_type": "code",
   "execution_count": null,
   "source": [
    "await asyncio.sleep(mtm2_state_transition_sleep_time)"
   ],
   "outputs": [],
   "metadata": {}
  },
  {
   "cell_type": "code",
   "execution_count": null,
   "source": [
    "await mtcs.set_state(\n",
    "    state=salobj.State.ENABLED,\n",
    "    components=[\"mtm2\"]\n",
    "    )"
   ],
   "outputs": [],
   "metadata": {}
  },
  {
   "cell_type": "code",
   "execution_count": null,
   "source": [
    "if False:\n",
    "    await mtcs.rem.mtm2.cmd_clearErrors.set_start(timeout=15.)"
   ],
   "outputs": [],
   "metadata": {}
  },
  {
   "cell_type": "markdown",
   "source": [
    "### Prepare M2 for operation\n",
    "\n",
    "Switch on m2 force balance system and reset m2 forces."
   ],
   "metadata": {}
  },
  {
   "cell_type": "code",
   "execution_count": null,
   "source": [
    "await mtcs.enable_m2_balance_system()"
   ],
   "outputs": [],
   "metadata": {}
  },
  {
   "cell_type": "code",
   "execution_count": null,
   "source": [
    "await mtcs.reset_m2_forces()"
   ],
   "outputs": [],
   "metadata": {}
  },
  {
   "cell_type": "markdown",
   "source": [
    "## Starting Camera Hexapod"
   ],
   "metadata": {}
  },
  {
   "cell_type": "code",
   "execution_count": null,
   "source": [
    "await mtcs.next_heartbeat(\"mthexapod_1\")"
   ],
   "outputs": [],
   "metadata": {}
  },
  {
   "cell_type": "markdown",
   "source": [
    "The command bellow to enable the Camera Hexapod should work, in general. \n",
    "Nevertheless, we found an issue with the interaction between the low level controller and the CSC that was causing it to fail from time to time.\n",
    "\n",
    "The error report can be found in [DM-31111](https://jira.lsstcorp.org/browse/DM-31111).\n",
    "\n",
    "Until this ticket is worked on you may encounter failures when executing the cell below.\n",
    "You can continue by running the cell again."
   ],
   "metadata": {}
  },
  {
   "cell_type": "code",
   "execution_count": null,
   "source": [
    "await mtcs.set_state(\n",
    "    state=salobj.State.ENABLED,\n",
    "    settings=dict(mthexapod_1=\"default\"),\n",
    "    components=[\"mthexapod_1\"]\n",
    "    )"
   ],
   "outputs": [],
   "metadata": {}
  },
  {
   "cell_type": "code",
   "execution_count": null,
   "source": [
    "mthexapod_1_simulation_mode = await mtcs.get_simulation_mode([\"mthexapod_1\"])\n",
    "\n",
    "mode = mthexapod_1_simulation_mode[\"mthexapod_1\"].mode\n",
    "timestamp = pd.to_datetime(mthexapod_1_simulation_mode[\"mthexapod_1\"].private_sndStamp, unit='s')\n",
    "\n",
    "log.debug(\n",
    "    f\"Camera Hexapod simulation mode: {mode} @ {timestamp}\"\n",
    ")"
   ],
   "outputs": [],
   "metadata": {}
  },
  {
   "cell_type": "code",
   "execution_count": null,
   "source": [
    "mthexapod_1_software_versions = await mtcs.get_software_versions([\"mthexapod_1\"])\n",
    "\n",
    "csc_version = mthexapod_1_software_versions[\"mthexapod_1\"].cscVersion\n",
    "timestamp = pd.to_datetime(mthexapod_1_software_versions[\"mthexapod_1\"].private_sndStamp, unit='s')\n",
    "\n",
    "log.debug(\n",
    "    f\"Camera Hexapod software version: {csc_version} @ {timestamp}\",\n",
    ")"
   ],
   "outputs": [],
   "metadata": {}
  },
  {
   "cell_type": "code",
   "execution_count": null,
   "source": [
    "if False:\n",
    "    await mtcs.rem.mthexapod_1.cmd_clearError.set_start()"
   ],
   "outputs": [],
   "metadata": {}
  },
  {
   "cell_type": "code",
   "execution_count": null,
   "source": [
    "await mtcs.enable_compensation_mode(component=\"mthexapod_1\")"
   ],
   "outputs": [],
   "metadata": {}
  },
  {
   "cell_type": "code",
   "execution_count": null,
   "source": [
    "await mtcs.reset_camera_hexapod_position()"
   ],
   "outputs": [],
   "metadata": {}
  },
  {
   "cell_type": "markdown",
   "source": [
    "## Starting M2 Hexapod"
   ],
   "metadata": {}
  },
  {
   "cell_type": "code",
   "execution_count": null,
   "source": [
    "await mtcs.next_heartbeat(\"mthexapod_2\")"
   ],
   "outputs": [],
   "metadata": {}
  },
  {
   "cell_type": "markdown",
   "source": [
    "We have been mostly running the M2 Hexapod in simulation mode, because the actual hardware is mounted on the telescope.\n",
    "This means the M2 Hexapod is not affected by the issue we reported above for the Camera Hexapod."
   ],
   "metadata": {}
  },
  {
   "cell_type": "code",
   "execution_count": null,
   "source": [
    "await mtcs.set_state(\n",
    "    state=salobj.State.ENABLED,\n",
    "    settings=dict(mthexapod_2=\"default\"),\n",
    "    components=[\"mthexapod_2\"]\n",
    "    )"
   ],
   "outputs": [],
   "metadata": {}
  },
  {
   "cell_type": "code",
   "execution_count": null,
   "source": [
    "mthexapod_2_simulation_mode = await mtcs.get_simulation_mode([\"mthexapod_2\"])\n",
    "\n",
    "mode = mthexapod_2_simulation_mode[\"mthexapod_2\"].mode\n",
    "timestamp = pd.to_datetime(mthexapod_2_simulation_mode[\"mthexapod_2\"].private_sndStamp, unit='s')\n",
    "\n",
    "log.debug(\n",
    "    f\"M2 Hexapod simulation mode: {mode} @ {timestamp}\"\n",
    ")"
   ],
   "outputs": [],
   "metadata": {}
  },
  {
   "cell_type": "code",
   "execution_count": null,
   "source": [
    "mthexapod_2_software_versions = await mtcs.get_software_versions([\"mthexapod_2\"])\n",
    "\n",
    "csc_version = mthexapod_2_software_versions[\"mthexapod_2\"].cscVersion\n",
    "timestamp = pd.to_datetime(mthexapod_2_software_versions[\"mthexapod_2\"].private_sndStamp, unit='s')\n",
    "\n",
    "log.debug(\n",
    "    f\"M2 Hexapod software version: {csc_version} @ {timestamp}\",\n",
    ")"
   ],
   "outputs": [],
   "metadata": {}
  },
  {
   "cell_type": "code",
   "execution_count": null,
   "source": [
    "await mtcs.enable_compensation_mode(component=\"mthexapod_2\")"
   ],
   "outputs": [],
   "metadata": {}
  },
  {
   "cell_type": "code",
   "execution_count": null,
   "source": [
    "await mtcs.reset_camera_hexapod_position()"
   ],
   "outputs": [],
   "metadata": {}
  },
  {
   "cell_type": "markdown",
   "source": [
    "# Closing MTCS and Domain\n"
   ],
   "metadata": {}
  },
  {
   "cell_type": "code",
   "execution_count": null,
   "source": [
    "await mtcs.close()"
   ],
   "outputs": [],
   "metadata": {}
  },
  {
   "cell_type": "code",
   "execution_count": null,
   "source": [
    "await domain.close()"
   ],
   "outputs": [],
   "metadata": {}
  }
 ],
 "metadata": {
  "kernelspec": {
   "display_name": "LSST",
   "language": "python",
   "name": "lsst"
  },
  "language_info": {
   "codemirror_mode": {
    "name": "ipython",
    "version": 3
   },
   "file_extension": ".py",
   "mimetype": "text/x-python",
   "name": "python",
   "nbconvert_exporter": "python",
   "pygments_lexer": "ipython3",
   "version": "3.8.8"
  }
 },
 "nbformat": 4,
 "nbformat_minor": 5
}