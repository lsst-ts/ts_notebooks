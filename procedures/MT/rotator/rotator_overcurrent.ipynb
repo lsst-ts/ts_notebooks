{
 "cells": [
  {
   "cell_type": "markdown",
   "id": "b500ac67-193d-4349-b20c-f39a0de02611",
   "metadata": {},
   "source": [
    "# Analysis the Overcurrent of Rotator\n",
    "\n",
    "This notebook is to analyze the overcurrent issue of rotator in [OBS-308](https://jira.lsstcorp.org/browse/OBS-308) and [OBS-424](https://jira.lsstcorp.org/browse/OBS-424)."
   ]
  },
  {
   "cell_type": "markdown",
   "id": "12787b66-963d-44f2-96d9-e069811586dc",
   "metadata": {},
   "source": [
    "## Import Modules"
   ]
  },
  {
   "cell_type": "code",
   "execution_count": 2,
   "id": "6c3f8c52-5df0-4b55-acbf-38d2c1bdbc89",
   "metadata": {
    "execution": {
     "iopub.execute_input": "2024-02-16T12:49:37.603782Z",
     "iopub.status.busy": "2024-02-16T12:49:37.603565Z",
     "iopub.status.idle": "2024-02-16T12:49:38.399642Z",
     "shell.execute_reply": "2024-02-16T12:49:38.399230Z",
     "shell.execute_reply.started": "2024-02-16T12:49:37.603765Z"
    }
   },
   "outputs": [
    {
     "data": {
      "text/html": [
       "<pre style=\"margin: 0.1em;\n",
       "padding-left: 0.25em;\n",
       "border-left-style: solid;\n",
       "font-family: var(--jp-code-font-family);\n",
       "font-size: var(--jp-code-font-size);\n",
       "line-height: var(--jp-code-line-height);\n",
       "\"><span style=\"color: var(--jp-warn-color2)\">lsst.ts.utils.tai</span> <span style=\"color: var(--jp-info-color0)\">INFO</span>: Update leap second table</pre>"
      ],
      "text/plain": [
       "<IPython.core.display.HTML object>"
      ]
     },
     "metadata": {},
     "output_type": "display_data"
    },
    {
     "data": {
      "text/html": [
       "<pre style=\"margin: 0.1em;\n",
       "padding-left: 0.25em;\n",
       "border-left-style: solid;\n",
       "font-family: var(--jp-code-font-family);\n",
       "font-size: var(--jp-code-font-size);\n",
       "line-height: var(--jp-code-line-height);\n",
       "\"><span style=\"color: var(--jp-warn-color2)\">lsst.ts.utils.tai</span> <span style=\"color: var(--jp-info-color0)\">INFO</span>: current_tai uses the system TAI clock</pre>"
      ],
      "text/plain": [
       "<IPython.core.display.HTML object>"
      ]
     },
     "metadata": {},
     "output_type": "display_data"
    }
   ],
   "source": [
    "%matplotlib inline\n",
    "%matplotlib widget\n",
    "from datetime import datetime\n",
    "import time\n",
    "from astropy.time import Time\n",
    "import pandas as pd\n",
    "import numpy as np\n",
    "import matplotlib.pyplot as plt\n",
    "\n",
    "from lsst.ts.aos.utils import DiagnosticsDefault, EfdName"
   ]
  },
  {
   "cell_type": "markdown",
   "id": "a129d4fa-2c23-40c7-8196-bf1892e75524",
   "metadata": {},
   "source": [
    "## Declaration of User-defined Functions"
   ]
  },
  {
   "cell_type": "code",
   "execution_count": null,
   "id": "13cf55a4-a63f-4bb2-b047-6442a0976d29",
   "metadata": {},
   "outputs": [],
   "source": []
  },
  {
   "cell_type": "code",
   "execution_count": null,
   "id": "0b881ace-d34d-4ec2-bbe2-0adafb5622b9",
   "metadata": {},
   "outputs": [],
   "source": []
  },
  {
   "cell_type": "code",
   "execution_count": null,
   "id": "588e3262-2e2d-440b-9899-db3ac34cf49f",
   "metadata": {},
   "outputs": [],
   "source": []
  },
  {
   "cell_type": "markdown",
   "id": "5ddc655d-f182-4a9e-8b0a-192ed678c31a",
   "metadata": {},
   "source": [
    "## Instantiate the Diagnostics"
   ]
  },
  {
   "cell_type": "code",
   "execution_count": 3,
   "id": "b09b732f-a382-4274-8ec2-98a1b8a4fe38",
   "metadata": {
    "execution": {
     "iopub.execute_input": "2024-02-16T12:49:40.306559Z",
     "iopub.status.busy": "2024-02-16T12:49:40.306341Z",
     "iopub.status.idle": "2024-02-16T12:49:40.926498Z",
     "shell.execute_reply": "2024-02-16T12:49:40.926057Z",
     "shell.execute_reply.started": "2024-02-16T12:49:40.306543Z"
    }
   },
   "outputs": [],
   "source": [
    "diagnostics = DiagnosticsDefault(efd_name=EfdName.Usdf)"
   ]
  },
  {
   "cell_type": "code",
   "execution_count": 14,
   "id": "e074cc80-6ecc-4802-bf28-0d74528c6990",
   "metadata": {
    "execution": {
     "iopub.execute_input": "2024-02-16T13:16:51.723260Z",
     "iopub.status.busy": "2024-02-16T13:16:51.722752Z",
     "iopub.status.idle": "2024-02-16T13:16:51.733153Z",
     "shell.execute_reply": "2024-02-16T13:16:51.732787Z",
     "shell.execute_reply.started": "2024-02-16T13:16:51.723245Z"
    }
   },
   "outputs": [],
   "source": [
    "time_starts = [\n",
    "    Time(\"2024-02-07T04:54:00\", scale=\"utc\", format=\"isot\"),\n",
    "    Time(\"2024-02-07T08:45:30\", scale=\"utc\", format=\"isot\"),\n",
    "    Time(\"2024-02-14T01:13:00\", scale=\"utc\", format=\"isot\"),\n",
    "    Time(\"2024-02-14T01:29:00\", scale=\"utc\", format=\"isot\"),\n",
    "    Time(\"2024-02-14T04:53:30\", scale=\"utc\", format=\"isot\"),\n",
    "    Time(\"2024-02-14T05:02:00\", scale=\"utc\", format=\"isot\"),\n",
    "    Time(\"2024-02-14T07:07:40\", scale=\"utc\", format=\"isot\"),\n",
    "    Time(\"2024-02-14T07:24:00\", scale=\"utc\", format=\"isot\"),\n",
    "    Time(\"2024-02-14T07:44:40\", scale=\"utc\", format=\"isot\"),\n",
    "    Time(\"2024-02-15T01:52:50\", scale=\"utc\", format=\"isot\"),\n",
    "    Time(\"2024-02-15T02:03:40\", scale=\"utc\", format=\"isot\"),\n",
    "    Time(\"2024-02-15T03:14:15\", scale=\"utc\", format=\"isot\"),\n",
    "    Time(\"2024-02-15T03:18:10\", scale=\"utc\", format=\"isot\"),\n",
    "    Time(\"2024-02-15T04:11:30\", scale=\"utc\", format=\"isot\"),\n",
    "    Time(\"2024-02-15T04:18:00\", scale=\"utc\", format=\"isot\"),\n",
    "    Time(\"2024-02-15T04:53:20\", scale=\"utc\", format=\"isot\"),\n",
    "    Time(\"2024-02-16T00:26:30\", scale=\"utc\", format=\"isot\"),\n",
    "    Time(\"2024-02-16T00:42:00\", scale=\"utc\", format=\"isot\"),\n",
    "    Time(\"2024-02-16T00:51:40\", scale=\"utc\", format=\"isot\"),\n",
    "    Time(\"2024-02-16T01:53:00\", scale=\"utc\", format=\"isot\"),\n",
    "    Time(\"2024-02-16T03:21:40\", scale=\"utc\", format=\"isot\"),\n",
    "    Time(\"2024-02-16T04:03:30\", scale=\"utc\", format=\"isot\"),\n",
    "    Time(\"2024-02-16T04:07:10\", scale=\"utc\", format=\"isot\"),\n",
    "]\n",
    "times_ends = [\n",
    "    Time(\"2024-02-07T04:55:00\", scale=\"utc\", format=\"isot\"),\n",
    "    Time(\"2024-02-07T08:46:30\", scale=\"utc\", format=\"isot\"),\n",
    "    Time(\"2024-02-14T01:14:00\", scale=\"utc\", format=\"isot\"),\n",
    "    Time(\"2024-02-14T01:29:30\", scale=\"utc\", format=\"isot\"),\n",
    "    Time(\"2024-02-14T04:54:30\", scale=\"utc\", format=\"isot\"),\n",
    "    Time(\"2024-02-14T05:02:30\", scale=\"utc\", format=\"isot\"),\n",
    "    Time(\"2024-02-14T07:08:30\", scale=\"utc\", format=\"isot\"),\n",
    "    Time(\"2024-02-14T07:24:40\", scale=\"utc\", format=\"isot\"),\n",
    "    Time(\"2024-02-14T07:45:00\", scale=\"utc\", format=\"isot\"),\n",
    "    Time(\"2024-02-15T01:53:40\", scale=\"utc\", format=\"isot\"),\n",
    "    Time(\"2024-02-15T02:04:20\", scale=\"utc\", format=\"isot\"),\n",
    "    Time(\"2024-02-15T03:14:30\", scale=\"utc\", format=\"isot\"),\n",
    "    Time(\"2024-02-15T03:19:10\", scale=\"utc\", format=\"isot\"),\n",
    "    Time(\"2024-02-15T04:12:10\", scale=\"utc\", format=\"isot\"),\n",
    "    Time(\"2024-02-15T04:18:30\", scale=\"utc\", format=\"isot\"),\n",
    "    Time(\"2024-02-15T04:53:40\", scale=\"utc\", format=\"isot\"),\n",
    "    Time(\"2024-02-16T00:26:50\", scale=\"utc\", format=\"isot\"),\n",
    "    Time(\"2024-02-16T00:42:50\", scale=\"utc\", format=\"isot\"),\n",
    "    Time(\"2024-02-16T00:51:50\", scale=\"utc\", format=\"isot\"),\n",
    "    Time(\"2024-02-16T01:53:10\", scale=\"utc\", format=\"isot\"),\n",
    "    Time(\"2024-02-16T03:22:00\", scale=\"utc\", format=\"isot\"),\n",
    "    Time(\"2024-02-16T04:04:00\", scale=\"utc\", format=\"isot\"),\n",
    "    Time(\"2024-02-16T04:07:20\", scale=\"utc\", format=\"isot\"),\n",
    "]"
   ]
  },
  {
   "cell_type": "code",
   "execution_count": null,
   "id": "6724956f-5c43-408d-8d47-cc64605958d9",
   "metadata": {},
   "outputs": [],
   "source": []
  },
  {
   "cell_type": "code",
   "execution_count": null,
   "id": "f27efd97-2e93-4023-a84e-fc7db88fc1df",
   "metadata": {},
   "outputs": [],
   "source": []
  },
  {
   "cell_type": "code",
   "execution_count": null,
   "id": "e662512f-81b5-472f-8ef3-dee423fbbf3c",
   "metadata": {},
   "outputs": [],
   "source": []
  }
 ],
 "metadata": {
  "kernelspec": {
   "display_name": "LSST",
   "language": "python",
   "name": "lsst"
  },
  "language_info": {
   "codemirror_mode": {
    "name": "ipython",
    "version": 3
   },
   "file_extension": ".py",
   "mimetype": "text/x-python",
   "name": "python",
   "nbconvert_exporter": "python",
   "pygments_lexer": "ipython3",
   "version": "3.11.7"
  }
 },
 "nbformat": 4,
 "nbformat_minor": 5
}
