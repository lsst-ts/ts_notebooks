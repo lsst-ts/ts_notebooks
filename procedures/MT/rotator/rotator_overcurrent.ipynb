{
 "cells": [
  {
   "cell_type": "markdown",
   "id": "b500ac67-193d-4349-b20c-f39a0de02611",
   "metadata": {},
   "source": [
    "# Analysis the Overcurrent of Rotator\n",
    "\n",
    "This notebook is to analyze the overcurrent issue of rotator in [OBS-308](https://jira.lsstcorp.org/browse/OBS-308) and [OBS-424](https://jira.lsstcorp.org/browse/OBS-424)."
   ]
  },
  {
   "cell_type": "markdown",
   "id": "12787b66-963d-44f2-96d9-e069811586dc",
   "metadata": {},
   "source": [
    "## Import Modules"
   ]
  },
  {
   "cell_type": "code",
   "execution_count": 2,
   "id": "6c3f8c52-5df0-4b55-acbf-38d2c1bdbc89",
   "metadata": {
    "execution": {
     "iopub.execute_input": "2024-02-16T12:49:37.603782Z",
     "iopub.status.busy": "2024-02-16T12:49:37.603565Z",
     "iopub.status.idle": "2024-02-16T12:49:38.399642Z",
     "shell.execute_reply": "2024-02-16T12:49:38.399230Z",
     "shell.execute_reply.started": "2024-02-16T12:49:37.603765Z"
    }
   },
   "outputs": [
    {
     "data": {
      "text/html": [
       "<pre style=\"margin: 0.1em;\n",
       "padding-left: 0.25em;\n",
       "border-left-style: solid;\n",
       "font-family: var(--jp-code-font-family);\n",
       "font-size: var(--jp-code-font-size);\n",
       "line-height: var(--jp-code-line-height);\n",
       "\"><span style=\"color: var(--jp-warn-color2)\">lsst.ts.utils.tai</span> <span style=\"color: var(--jp-info-color0)\">INFO</span>: Update leap second table</pre>"
      ],
      "text/plain": [
       "<IPython.core.display.HTML object>"
      ]
     },
     "metadata": {},
     "output_type": "display_data"
    },
    {
     "data": {
      "text/html": [
       "<pre style=\"margin: 0.1em;\n",
       "padding-left: 0.25em;\n",
       "border-left-style: solid;\n",
       "font-family: var(--jp-code-font-family);\n",
       "font-size: var(--jp-code-font-size);\n",
       "line-height: var(--jp-code-line-height);\n",
       "\"><span style=\"color: var(--jp-warn-color2)\">lsst.ts.utils.tai</span> <span style=\"color: var(--jp-info-color0)\">INFO</span>: current_tai uses the system TAI clock</pre>"
      ],
      "text/plain": [
       "<IPython.core.display.HTML object>"
      ]
     },
     "metadata": {},
     "output_type": "display_data"
    }
   ],
   "source": [
    "%matplotlib inline\n",
    "%matplotlib widget\n",
    "from datetime import datetime\n",
    "import time\n",
    "from astropy.time import Time\n",
    "import pandas as pd\n",
    "import numpy as np\n",
    "import matplotlib.pyplot as plt\n",
    "\n",
    "from lsst.ts.aos.utils import DiagnosticsDefault, EfdName"
   ]
  },
  {
   "cell_type": "markdown",
   "id": "a129d4fa-2c23-40c7-8196-bf1892e75524",
   "metadata": {},
   "source": [
    "## Declaration of User-defined Functions"
   ]
  },
  {
   "cell_type": "code",
   "execution_count": null,
   "id": "13cf55a4-a63f-4bb2-b047-6442a0976d29",
   "metadata": {},
   "outputs": [],
   "source": []
  },
  {
   "cell_type": "code",
   "execution_count": null,
   "id": "0b881ace-d34d-4ec2-bbe2-0adafb5622b9",
   "metadata": {},
   "outputs": [],
   "source": []
  },
  {
   "cell_type": "code",
   "execution_count": null,
   "id": "588e3262-2e2d-440b-9899-db3ac34cf49f",
   "metadata": {},
   "outputs": [],
   "source": []
  },
  {
   "cell_type": "markdown",
   "id": "5ddc655d-f182-4a9e-8b0a-192ed678c31a",
   "metadata": {},
   "source": [
    "## Instantiate the Diagnostics"
   ]
  },
  {
   "cell_type": "code",
   "execution_count": 3,
   "id": "b09b732f-a382-4274-8ec2-98a1b8a4fe38",
   "metadata": {
    "execution": {
     "iopub.execute_input": "2024-02-16T12:49:40.306559Z",
     "iopub.status.busy": "2024-02-16T12:49:40.306341Z",
     "iopub.status.idle": "2024-02-16T12:49:40.926498Z",
     "shell.execute_reply": "2024-02-16T12:49:40.926057Z",
     "shell.execute_reply.started": "2024-02-16T12:49:40.306543Z"
    }
   },
   "outputs": [],
   "source": [
    "diagnostics = DiagnosticsDefault(efd_name=EfdName.Usdf)"
   ]
  },
  {
   "cell_type": "code",
   "execution_count": 14,
   "id": "e074cc80-6ecc-4802-bf28-0d74528c6990",
   "metadata": {
    "execution": {
     "iopub.execute_input": "2024-02-16T13:16:51.723260Z",
     "iopub.status.busy": "2024-02-16T13:16:51.722752Z",
     "iopub.status.idle": "2024-02-16T13:16:51.733153Z",
     "shell.execute_reply": "2024-02-16T13:16:51.732787Z",
     "shell.execute_reply.started": "2024-02-16T13:16:51.723245Z"
    }
   },
   "outputs": [],
   "source": [
    "time_starts = [\n",
    "    Time(\"2024-02-07T04:54:00\", scale=\"utc\", format=\"isot\"),\n",
    "    Time(\"2024-02-07T08:45:30\", scale=\"utc\", format=\"isot\"),\n",
    "    Time(\"2024-02-14T01:13:00\", scale=\"utc\", format=\"isot\"),\n",
    "    Time(\"2024-02-14T01:29:00\", scale=\"utc\", format=\"isot\"),\n",
    "    Time(\"2024-02-14T04:53:30\", scale=\"utc\", format=\"isot\"),\n",
    "    Time(\"2024-02-14T05:02:00\", scale=\"utc\", format=\"isot\"),\n",
    "    Time(\"2024-02-14T07:07:40\", scale=\"utc\", format=\"isot\"),\n",
    "    Time(\"2024-02-14T07:24:00\", scale=\"utc\", format=\"isot\"),\n",
    "    Time(\"2024-02-14T07:44:40\", scale=\"utc\", format=\"isot\"),\n",
    "    Time(\"2024-02-15T01:52:50\", scale=\"utc\", format=\"isot\"),\n",
    "    Time(\"2024-02-15T02:03:40\", scale=\"utc\", format=\"isot\"),\n",
    "    Time(\"2024-02-15T03:14:15\", scale=\"utc\", format=\"isot\"),\n",
    "    Time(\"2024-02-15T03:18:10\", scale=\"utc\", format=\"isot\"),\n",
    "    Time(\"2024-02-15T04:11:30\", scale=\"utc\", format=\"isot\"),\n",
    "    Time(\"2024-02-15T04:18:00\", scale=\"utc\", format=\"isot\"),\n",
    "    Time(\"2024-02-15T04:53:20\", scale=\"utc\", format=\"isot\"),\n",
    "    Time(\"2024-02-16T00:26:30\", scale=\"utc\", format=\"isot\"),\n",
    "    Time(\"2024-02-16T00:42:00\", scale=\"utc\", format=\"isot\"),\n",
    "    Time(\"2024-02-16T00:51:40\", scale=\"utc\", format=\"isot\"),\n",
    "    Time(\"2024-02-16T01:53:00\", scale=\"utc\", format=\"isot\"),\n",
    "    Time(\"2024-02-16T03:21:40\", scale=\"utc\", format=\"isot\"),\n",
    "    Time(\"2024-02-16T04:03:30\", scale=\"utc\", format=\"isot\"),\n",
    "    Time(\"2024-02-16T04:07:10\", scale=\"utc\", format=\"isot\"),\n",
    "]\n",
    "times_ends = [\n",
    "    Time(\"2024-02-07T04:55:00\", scale=\"utc\", format=\"isot\"),\n",
    "    Time(\"2024-02-07T08:46:30\", scale=\"utc\", format=\"isot\"),\n",
    "    Time(\"2024-02-14T01:14:00\", scale=\"utc\", format=\"isot\"),\n",
    "    Time(\"2024-02-14T01:29:30\", scale=\"utc\", format=\"isot\"),\n",
    "    Time(\"2024-02-14T04:54:30\", scale=\"utc\", format=\"isot\"),\n",
    "    Time(\"2024-02-14T05:02:30\", scale=\"utc\", format=\"isot\"),\n",
    "    Time(\"2024-02-14T07:08:30\", scale=\"utc\", format=\"isot\"),\n",
    "    Time(\"2024-02-14T07:24:40\", scale=\"utc\", format=\"isot\"),\n",
    "    Time(\"2024-02-14T07:45:00\", scale=\"utc\", format=\"isot\"),\n",
    "    Time(\"2024-02-15T01:53:40\", scale=\"utc\", format=\"isot\"),\n",
    "    Time(\"2024-02-15T02:04:20\", scale=\"utc\", format=\"isot\"),\n",
    "    Time(\"2024-02-15T03:14:30\", scale=\"utc\", format=\"isot\"),\n",
    "    Time(\"2024-02-15T03:19:10\", scale=\"utc\", format=\"isot\"),\n",
    "    Time(\"2024-02-15T04:12:10\", scale=\"utc\", format=\"isot\"),\n",
    "    Time(\"2024-02-15T04:18:30\", scale=\"utc\", format=\"isot\"),\n",
    "    Time(\"2024-02-15T04:53:40\", scale=\"utc\", format=\"isot\"),\n",
    "    Time(\"2024-02-16T00:26:50\", scale=\"utc\", format=\"isot\"),\n",
    "    Time(\"2024-02-16T00:42:50\", scale=\"utc\", format=\"isot\"),\n",
    "    Time(\"2024-02-16T00:51:50\", scale=\"utc\", format=\"isot\"),\n",
    "    Time(\"2024-02-16T01:53:10\", scale=\"utc\", format=\"isot\"),\n",
    "    Time(\"2024-02-16T03:22:00\", scale=\"utc\", format=\"isot\"),\n",
    "    Time(\"2024-02-16T04:04:00\", scale=\"utc\", format=\"isot\"),\n",
    "    Time(\"2024-02-16T04:07:20\", scale=\"utc\", format=\"isot\"),\n",
    "]"
   ]
  },
  {
   "cell_type": "code",
   "execution_count": null,
   "id": "6724956f-5c43-408d-8d47-cc64605958d9",
   "metadata": {},
   "outputs": [],
   "source": []
  },
  {
   "cell_type": "code",
   "execution_count": 58,
   "id": "83ea18dd-4a8f-4697-87d3-61d3180bbf24",
   "metadata": {
    "execution": {
     "iopub.execute_input": "2024-02-16T20:06:02.775706Z",
     "iopub.status.busy": "2024-02-16T20:06:02.775504Z",
     "iopub.status.idle": "2024-02-16T20:06:02.779279Z",
     "shell.execute_reply": "2024-02-16T20:06:02.778897Z",
     "shell.execute_reply.started": "2024-02-16T20:06:02.775693Z"
    }
   },
   "outputs": [],
   "source": [
    "data_position_07 = data.actualPosition[data.demandVelocity != 0.0]"
   ]
  },
  {
   "cell_type": "code",
   "execution_count": 69,
   "id": "03b75cbe-9995-455a-9072-5757bf66d3bb",
   "metadata": {
    "execution": {
     "iopub.execute_input": "2024-02-16T20:11:44.062158Z",
     "iopub.status.busy": "2024-02-16T20:11:44.061769Z",
     "iopub.status.idle": "2024-02-16T20:11:44.065765Z",
     "shell.execute_reply": "2024-02-16T20:11:44.065395Z",
     "shell.execute_reply.started": "2024-02-16T20:11:44.062144Z"
    }
   },
   "outputs": [],
   "source": [
    "data_position_14 = data.actualPosition[data.demandVelocity != 0.0]"
   ]
  },
  {
   "cell_type": "code",
   "execution_count": 74,
   "id": "dd694f43-b044-477f-918c-6215d6e94999",
   "metadata": {
    "execution": {
     "iopub.execute_input": "2024-02-16T20:16:18.675216Z",
     "iopub.status.busy": "2024-02-16T20:16:18.674981Z",
     "iopub.status.idle": "2024-02-16T20:16:18.678444Z",
     "shell.execute_reply": "2024-02-16T20:16:18.678093Z",
     "shell.execute_reply.started": "2024-02-16T20:16:18.675202Z"
    }
   },
   "outputs": [],
   "source": [
    "data_position_15 = data.actualPosition[data.demandVelocity != 0.0]"
   ]
  },
  {
   "cell_type": "code",
   "execution_count": 77,
   "id": "dce7f395-ab5b-456e-9c26-234fbefe3f37",
   "metadata": {
    "execution": {
     "iopub.execute_input": "2024-02-16T20:17:25.042475Z",
     "iopub.status.busy": "2024-02-16T20:17:25.041920Z",
     "iopub.status.idle": "2024-02-16T20:17:25.045442Z",
     "shell.execute_reply": "2024-02-16T20:17:25.045106Z",
     "shell.execute_reply.started": "2024-02-16T20:17:25.042460Z"
    }
   },
   "outputs": [],
   "source": [
    "data_position_16 = data.actualPosition[data.demandVelocity != 0.0]"
   ]
  },
  {
   "cell_type": "code",
   "execution_count": 76,
   "id": "f27efd97-2e93-4023-a84e-fc7db88fc1df",
   "metadata": {
    "execution": {
     "iopub.execute_input": "2024-02-16T20:17:07.640230Z",
     "iopub.status.busy": "2024-02-16T20:17:07.639737Z",
     "iopub.status.idle": "2024-02-16T20:17:10.346313Z",
     "shell.execute_reply": "2024-02-16T20:17:10.345897Z",
     "shell.execute_reply.started": "2024-02-16T20:17:07.640213Z"
    }
   },
   "outputs": [],
   "source": [
    "time_start = Time(\"2024-02-16T00:00:00\", scale=\"utc\", format=\"isot\")\n",
    "time_end = Time(\"2024-02-16T05:00:00\", scale=\"utc\", format=\"isot\")\n",
    "data = await diagnostics.efd_client.select_time_series(\n",
    "    \"lsst.sal.MTRotator.rotation\", \n",
    "    fields=[\"actualPosition\", \"demandVelocity\", \"timestamp\"], \n",
    "    start=time_start,\n",
    "    end=time_end,\n",
    ")"
   ]
  },
  {
   "cell_type": "code",
   "execution_count": null,
   "id": "6a156ad7-eebc-4962-95ce-2ab5a4748c35",
   "metadata": {},
   "outputs": [],
   "source": []
  },
  {
   "cell_type": "code",
   "execution_count": null,
   "id": "8e93296a-1d94-4a63-9065-98d00b8c0ef9",
   "metadata": {},
   "outputs": [],
   "source": []
  },
  {
   "cell_type": "code",
   "execution_count": null,
   "id": "a5232836-93c7-4a27-a185-8d842f5d8c06",
   "metadata": {},
   "outputs": [],
   "source": []
  },
  {
   "cell_type": "code",
   "execution_count": 29,
   "id": "ab8a7bce-8420-48a2-ba3f-c17d736e3e24",
   "metadata": {
    "execution": {
     "iopub.execute_input": "2024-02-16T19:49:34.141165Z",
     "iopub.status.busy": "2024-02-16T19:49:34.140852Z",
     "iopub.status.idle": "2024-02-16T19:49:34.143765Z",
     "shell.execute_reply": "2024-02-16T19:49:34.143452Z",
     "shell.execute_reply.started": "2024-02-16T19:49:34.141150Z"
    }
   },
   "outputs": [],
   "source": [
    "values = [75.5, 86.5, 19.6, 69.0, 66.5, 70.1, 41.6, 15.3, 37.9, -48.6, -16.6,\n",
    "    -72.8, 59.7, -42.2, -39.3, -54.6, 78.3, -23.0, 81.3, 28.6, 65.4, 67.9,\n",
    "    73.1]"
   ]
  },
  {
   "cell_type": "code",
   "execution_count": 82,
   "id": "00a5b517-55ff-4fa0-9b85-e88bcc36040a",
   "metadata": {
    "execution": {
     "iopub.execute_input": "2024-02-16T20:26:43.504257Z",
     "iopub.status.busy": "2024-02-16T20:26:43.504010Z",
     "iopub.status.idle": "2024-02-16T20:26:43.595226Z",
     "shell.execute_reply": "2024-02-16T20:26:43.594855Z",
     "shell.execute_reply.started": "2024-02-16T20:26:43.504238Z"
    }
   },
   "outputs": [
    {
     "data": {
      "application/vnd.jupyter.widget-view+json": {
       "model_id": "ae75b8dbacb44be9bd9c9f22d1f16d92",
       "version_major": 2,
       "version_minor": 0
      },
      "image/png": "[encoded data removed]",
      "text/html": [
       "\n",
       "            <div style=\"display: inline-block;\">\n",
       "                <div class=\"jupyter-widgets widget-label\" style=\"text-align: center;\">\n",
       "                    Figure\n",
       "                </div>\n",
       "                <img src='data:image/png;base64,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' width=640.0/>\n",
       "            </div>\n",
       "        "
      ],
      "text/plain": [
       "Canvas(toolbar=Toolbar(toolitems=[('Home', 'Reset original view', 'home', 'home'), ('Back', 'Back to previous …"
      ]
     },
     "metadata": {},
     "output_type": "display_data"
    }
   ],
   "source": [
    "all_position = [\n",
    "    data_position_07,\n",
    "    data_position_14,\n",
    "    data_position_15,\n",
    "    data_position_16,\n",
    "]\n",
    "all_data = np.array([])\n",
    "for position_data in all_position:\n",
    "    all_data = np.append(all_data, np.array(position_data))\n",
    "\n",
    "plt.figure()\n",
    "plt.hist(all_data, bins=40)\n",
    "plt.xlabel(\"Position (deg)\")\n",
    "plt.ylabel(\"Number\")\n",
    "plt.title(\"Under the movement\")\n",
    "plt.show()"
   ]
  },
  {
   "cell_type": "code",
   "execution_count": null,
   "id": "6cd6f131-b17d-4d27-8038-6d99dbe82925",
   "metadata": {},
   "outputs": [],
   "source": []
  },
  {
   "cell_type": "code",
   "execution_count": null,
   "id": "655a7640-b2f5-4668-ae2b-e1eb28d61a28",
   "metadata": {},
   "outputs": [],
   "source": []
  },
  {
   "cell_type": "code",
   "execution_count": null,
   "id": "5cc37e02-b570-4dce-8e8c-b639df6fa00f",
   "metadata": {},
   "outputs": [],
   "source": []
  }
 ],
 "metadata": {
  "kernelspec": {
   "display_name": "LSST",
   "language": "python",
   "name": "lsst"
  },
  "language_info": {
   "codemirror_mode": {
    "name": "ipython",
    "version": 3
   },
   "file_extension": ".py",
   "mimetype": "text/x-python",
   "name": "python",
   "nbconvert_exporter": "python",
   "pygments_lexer": "ipython3",
   "version": "3.11.7"
  }
 },
 "nbformat": 4,
 "nbformat_minor": 5
}
