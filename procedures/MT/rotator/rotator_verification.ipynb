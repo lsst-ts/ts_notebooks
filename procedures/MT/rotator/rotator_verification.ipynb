{
 "cells": [
  {
   "cell_type": "markdown",
   "id": "f58bdb40",
   "metadata": {},
   "source": [
    "**Rotator Trajectory Verification**\n",
    "\n",
    "This Jupyter notebook is used to verify the updated rotator trajectory generator by Tekniker.\n",
    "The test will be performed on summit with the real hardware.\n",
    "Before that, the Tucson test stand is used to develop the test procedure.\n",
    "The rotator commandable SAL component (CSC) is used to control the rotator hardware.\n",
    "The published event and telemetry are stored in the engineering facility database (EFD).\n",
    "\n",
    "It is noted that the **MTMount** telemetry data is required.\n",
    "Otherwise, the rotator CSC will put the low-level controller into the **Fault** state.\n",
    "\n",
    "The **setup** notebook can be used to bring up rotator and mount/CCW."
   ]
  },
  {
   "cell_type": "markdown",
   "id": "fc29afeb",
   "metadata": {},
   "source": [
    "**Import Modules**"
   ]
  },
  {
   "cell_type": "code",
   "execution_count": null,
   "id": "7d9505b3",
   "metadata": {},
   "outputs": [],
   "source": [
    "%matplotlib inline\n",
    "%matplotlib widget\n",
    "import asyncio\n",
    "from datetime import datetime\n",
    "import time\n",
    "from astropy.time import Time\n",
    "import pandas as pd\n",
    "import numpy as np\n",
    "import matplotlib.pyplot as plt\n",
    "\n",
    "from lsst.ts import salobj\n",
    "from lsst.ts import simactuators\n",
    "from lsst_efd_client import EfdClient"
   ]
  },
  {
   "cell_type": "markdown",
   "id": "9c25e229",
   "metadata": {},
   "source": [
    "**Declaration of User-defined Functions**"
   ]
  },
  {
   "cell_type": "code",
   "execution_count": null,
   "id": "43e06924",
   "metadata": {},
   "outputs": [],
   "source": [
    "def retrieve_efd_client(is_summit=True):\n",
    "    \"\"\"\n",
    "    Retrieves a client to EFD.\n",
    "\n",
    "    Parameters\n",
    "    ----------\n",
    "    is_summit : bool, optional\n",
    "        This notebook is running on the summit or not. If not, the returned object will point\n",
    "        to the test stand at Tucson.\n",
    "\n",
    "    Returns\n",
    "    -------\n",
    "    EfdClient : The interface object between the Nublado and summit/Tucson EFD.\n",
    "    \"\"\"\n",
    "    efd_name = \"summit_efd\" if is_summit else \"tucson_teststand_efd\"        \n",
    "    return EfdClient(efd_name)"
   ]
  },
  {
   "cell_type": "code",
   "execution_count": null,
   "id": "28cadc61",
   "metadata": {},
   "outputs": [],
   "source": [
    "async def print_summary_state(csc):\n",
    "    \"\"\"\n",
    "    Print the summary state of rotator.\n",
    "\n",
    "    Parameters\n",
    "    ----------\n",
    "    csc : lsst.ts.salobj.remote.Remote\n",
    "        Remote object of the rotator CSC.\n",
    "    \"\"\"\n",
    "    data = await csc.evt_summaryState.aget(timeout=30)\n",
    "    print(salobj.State(data.summaryState))"
   ]
  },
  {
   "cell_type": "code",
   "execution_count": null,
   "id": "2a23d589",
   "metadata": {},
   "outputs": [],
   "source": [
    "async def print_rotator_position(csc):\n",
    "    \"\"\"\n",
    "    Print the rotator position in degree.\n",
    "\n",
    "    Parameters\n",
    "    ----------\n",
    "    csc : lsst.ts.salobj.remote.Remote\n",
    "        Remote object of the rotator CSC.\n",
    "    \"\"\"\n",
    "    data = await csc.tel_rotation.aget(timeout=15)\n",
    "    print(f\"Rotator is at {data.actualPosition} degree.\")"
   ]
  },
  {
   "cell_type": "code",
   "execution_count": null,
   "id": "8f20eafd",
   "metadata": {},
   "outputs": [],
   "source": [
    "async def print_rotator_latest_message(csc):\n",
    "    \"\"\"\n",
    "    Print the latest message of rotator.\n",
    "\n",
    "    Parameters\n",
    "    ----------\n",
    "    csc : lsst.ts.salobj.remote.Remote\n",
    "        Remote object of the rotator CSC.\n",
    "    \"\"\"\n",
    "    data = await csc.evt_logMessage.aget(timeout=15)\n",
    "    print(data.message)"
   ]
  },
  {
   "cell_type": "code",
   "execution_count": null,
   "id": "1296e945",
   "metadata": {},
   "outputs": [],
   "source": [
    "def script_log_start(controller_script, test_title, test_detail):\n",
    "    \"\"\"Log the start of test case in script controller.\n",
    "\n",
    "    Parameters\n",
    "    ----------\n",
    "    controller_script : lsst.ts.salobj.controller.Controller\n",
    "        Script controller.\n",
    "    test_title : str\n",
    "        Test title.\n",
    "    test_detail : str\n",
    "        Test detail.\n",
    "\n",
    "    Returns\n",
    "    -------\n",
    "    astropy.time.core.Time\n",
    "        Time object.\n",
    "    \"\"\"\n",
    "    time_now = datetime.now()\n",
    "    controller_script.log.info(f\"START -- {test_title} -- LVV-T2539 -- {test_detail} -- Starting Time: {time_now} UTC\")\n",
    "    return Time(time_now.isoformat(), scale=\"utc\", format=\"isot\")"
   ]
  },
  {
   "cell_type": "code",
   "execution_count": null,
   "id": "963c5f83",
   "metadata": {},
   "outputs": [],
   "source": [
    "def script_log_stop(controller_script, test_title, test_detail):\n",
    "    \"\"\"Log the stop of test case in script controller.\n",
    "\n",
    "    Parameters\n",
    "    ----------\n",
    "    controller_script : lsst.ts.salobj.controller.Controller\n",
    "        Script controller.\n",
    "    test_title : str\n",
    "        Test title.\n",
    "    test_detail : str\n",
    "        Test detail.\n",
    "\n",
    "    Returns\n",
    "    -------\n",
    "    astropy.time.core.Time\n",
    "        Time object.\n",
    "    \"\"\"\n",
    "    time_now = datetime.now()\n",
    "    controller_script.log.info(f\"STOP -- {test_title} -- LVV-T2539 -- {test_detail} -- Starting Time: {time_now} UTC\")\n",
    "    return Time(time_now.isoformat(), scale=\"utc\", format=\"isot\")"
   ]
  },
  {
   "cell_type": "code",
   "execution_count": null,
   "id": "3b281601",
   "metadata": {},
   "outputs": [],
   "source": [
    "def generate_tracking_target(position, velocity, period):\n",
    "    \"\"\"\n",
    "    Generate the tracking target.\n",
    "\n",
    "    Parameters\n",
    "    ----------\n",
    "    position : float\n",
    "        Initial position of target in deg.\n",
    "    velocity : float\n",
    "        Velocity of the target in deg/sec.\n",
    "    period : float\n",
    "        Period to track in seconds.\n",
    "\n",
    "    Returns\n",
    "    -------\n",
    "    list_position : list\n",
    "        List of the position.\n",
    "    list_velocity : list\n",
    "        List of the velocity.\n",
    "    \"\"\"\n",
    "    # 20 Hz is 0.05 s\n",
    "    delta_t = 0.05\n",
    "    number_total_commands = int(period / delta_t)\n",
    "    \n",
    "    list_position = [position + velocity * idx for idx in range(0, number_total_commands)]\n",
    "    list_velocity = [velocity] *  number_total_commands\n",
    "    return list_position, list_velocity"
   ]
  },
  {
   "cell_type": "code",
   "execution_count": null,
   "id": "bdebf57a",
   "metadata": {},
   "outputs": [],
   "source": [
    "async def slew_test(csc, position, est_time_wait, est_time_stop):\n",
    "    \"\"\"\n",
    "    Slew test. The rototator will move in the positive and negative directions.\n",
    "    It will stop in the final movement.\n",
    "\n",
    "    Parameters\n",
    "    ----------\n",
    "    csc : lsst.ts.salobj.remote.Remote\n",
    "        Remote object of the rotator CSC.\n",
    "    est_time_wait : float\n",
    "        Estimated time to wait of movement in seconds.\n",
    "    est_time_stop : float\n",
    "        Estimated time to stop in the final in seconds.\n",
    "    \"\"\"\n",
    "    # Move in one direction\n",
    "    await csc.cmd_move.set_start(position=position, timeout=60)\n",
    "    await asyncio.sleep(est_time_wait)\n",
    "    \n",
    "    print(\"arrived 1\")\n",
    "    # Move back to the origin\n",
    "    await csc.cmd_move.set_start(position=0, timeout=60)\n",
    "    await asyncio.sleep(est_time_wait)\n",
    "    print(\"arrived 2\")\n",
    "    # Move to the other direction\n",
    "    await csc.cmd_move.set_start(position=-position, timeout=60)\n",
    "    await asyncio.sleep(est_time_wait)\n",
    "    print(\"arrived 3\")\n",
    "    # Move and stop before the end of movement\n",
    "    await csc.cmd_move.set_start(position=position, timeout=60)\n",
    "    await asyncio.sleep(est_time_stop)\n",
    "    await csc.cmd_stop.set_start(timeout=60)"
   ]
  },
  {
   "cell_type": "code",
   "execution_count": null,
   "id": "4f3f9ce4",
   "metadata": {},
   "outputs": [],
   "source": [
    "async def track_target(csc, start_position, end_position, velocity):\n",
    "    \"\"\"Track the target.\n",
    "\n",
    "    Parameters\n",
    "    ----------\n",
    "    start_position : float\n",
    "        Starting position of ramp (deg).\n",
    "    end_position : float\n",
    "        Ending position of ramp (deg).\n",
    "    velocity : float\n",
    "        Velocity of motion along the ramp (deg/sec).\n",
    "    \"\"\"\n",
    "    # 20 Hz is 0.05 ms\n",
    "    track_advance_time = 0.05\n",
    "    ramp_generator = simactuators.RampGenerator(\n",
    "        [start_position], [end_position], [velocity], track_advance_time)\n",
    "\n",
    "    await csc.cmd_trackStart.start(timeout=15)\n",
    "    for positions, velocities, tai in ramp_generator():\n",
    "        await csc.cmd_track.set_start(\n",
    "            angle=positions[0],\n",
    "            velocity=velocities[0],\n",
    "            tai=tai,\n",
    "            timeout=5,\n",
    "        )\n",
    "        await asyncio.sleep(0.1)"
   ]
  },
  {
   "cell_type": "code",
   "execution_count": null,
   "id": "a64a7abb",
   "metadata": {},
   "outputs": [],
   "source": [
    "async def track_slew_test(csc):\n",
    "    \"\"\"\n",
    "    Track slew sequence test.\n",
    "\n",
    "    Parameters\n",
    "    ----------\n",
    "    csc : lsst.ts.salobj.remote.Remote\n",
    "        Remote object of the rotator CSC.\n",
    "    \"\"\"\n",
    "    # 20 Hz is 0.05 ms\n",
    "    track_advance_time = 0.05\n",
    "    ramp_generator_1 = simactuators.RampGenerator([0.7], [1.5], [0.068], track_advance_time)\n",
    "    ramp_generator_2 = simactuators.RampGenerator([0.7], [0], [-0.068], track_advance_time)\n",
    "    ramp_generator_3 = simactuators.RampGenerator([5], [4.7], [-0.01], track_advance_time)\n",
    "    ramp_generator_4 = simactuators.RampGenerator([-5], [-4.6], [0.0042], track_advance_time)\n",
    "\n",
    "    # Track the first target\n",
    "    await csc.cmd_trackStart.start(timeout=15)\n",
    "\n",
    "    is_stopped = False\n",
    "    time_start = time.monotonic()\n",
    "    for positions, velocities, tai in ramp_generator_1():\n",
    "        await csc.cmd_track.set_start(\n",
    "            angle=positions[0],\n",
    "            velocity=velocities[0],\n",
    "            tai=tai,\n",
    "            timeout=5,\n",
    "        )\n",
    "        await asyncio.sleep(0.1)\n",
    "\n",
    "        # Stop the rotator in the tracking\n",
    "        delta_time = time.monotonic() - time_start\n",
    "        if (3 <= delta_time <= 3.5) and (not is_stopped):\n",
    "            await csc.cmd_stop.set_start(timeout=10)\n",
    "            \n",
    "            await asyncio.sleep(1)\n",
    "            is_stopped = True\n",
    "            print(\"check point 1\")\n",
    "\n",
    "        # Allow the tracking again\n",
    "        if is_stopped:\n",
    "            await csc.cmd_trackStart.start(timeout=15)\n",
    "            is_stopped = False\n",
    "            print(\"check point 2\")\n",
    "            \n",
    "    print(\"check point 3\")\n",
    "\n",
    "    # Track the second target\n",
    "    for positions, velocities, tai in ramp_generator_2():\n",
    "        await csc.cmd_track.set_start(\n",
    "            angle=positions[0],\n",
    "            velocity=velocities[0],\n",
    "            tai=tai,\n",
    "            timeout=5,\n",
    "        )\n",
    "        await asyncio.sleep(0.1)\n",
    "        \n",
    "    print(\"check point 4\")\n",
    "\n",
    "    # Track the third target\n",
    "    for positions, velocities, tai in ramp_generator_3():\n",
    "        await csc.cmd_track.set_start(\n",
    "            angle=positions[0],\n",
    "            velocity=velocities[0],\n",
    "            tai=tai,\n",
    "            timeout=5,\n",
    "        )\n",
    "        await asyncio.sleep(0.1)\n",
    "        \n",
    "    print(\"check point 5\")\n",
    "\n",
    "    # Track the fourth target\n",
    "    for positions, velocities, tai in ramp_generator_4():\n",
    "        await csc.cmd_track.set_start(\n",
    "            angle=positions[0],\n",
    "            velocity=velocities[0],\n",
    "            tai=tai,\n",
    "            timeout=5,\n",
    "        )\n",
    "        await asyncio.sleep(0.1)\n",
    "        \n",
    "    print(\"check point 6\")"
   ]
  },
  {
   "cell_type": "code",
   "execution_count": null,
   "id": "6b046c48",
   "metadata": {},
   "outputs": [],
   "source": [
    "async def slew_supersession_test(csc):\n",
    "    \"\"\"\n",
    "    Slew supersession test.\n",
    "\n",
    "    Parameters\n",
    "    ----------\n",
    "    csc : lsst.ts.salobj.remote.Remote\n",
    "        Remote object of the rotator CSC.\n",
    "    \"\"\"\n",
    "    # 20 Hz is 0.05 ms\n",
    "    track_advance_time = 0.05\n",
    "    ramp_generator_1 = simactuators.RampGenerator([60], [62], [0.068], track_advance_time)\n",
    "    ramp_generator_2 = simactuators.RampGenerator([-60], [-62], [-0.05], track_advance_time)\n",
    "\n",
    "    # Track the first target\n",
    "    await csc.cmd_trackStart.start(timeout=15)\n",
    "\n",
    "    is_stopped = False\n",
    "    time_start = time.monotonic()\n",
    "    for positions, velocities, tai in ramp_generator_1():\n",
    "        await csc.cmd_track.set_start(\n",
    "            angle=positions[0],\n",
    "            velocity=velocities[0],\n",
    "            tai=tai,\n",
    "            timeout=5,\n",
    "        )\n",
    "        await asyncio.sleep(0.1)\n",
    "\n",
    "        # Break the tracking of this target to test the supersession of slew\n",
    "        if (time.monotonic() - time_start) > 8:\n",
    "            print(\"check point 1\")\n",
    "            break\n",
    "            \n",
    "    print(\"check point 2\")\n",
    "\n",
    "    # Track the second target\n",
    "    for positions, velocities, tai in ramp_generator_2():\n",
    "        await csc.cmd_track.set_start(\n",
    "            angle=positions[0],\n",
    "            velocity=velocities[0],\n",
    "            tai=tai,\n",
    "            timeout=5,\n",
    "        )\n",
    "        await asyncio.sleep(0.1)\n",
    "        \n",
    "    print(\"check point 3\")"
   ]
  },
  {
   "cell_type": "code",
   "execution_count": null,
   "id": "fa019bcf",
   "metadata": {},
   "outputs": [],
   "source": [
    "async def track_slew_multiple_stop_test(csc):\n",
    "    \"\"\"\n",
    "    Track slew sequence test with multiple stops.\n",
    "\n",
    "    Parameters\n",
    "    ----------\n",
    "    csc : lsst.ts.salobj.remote.Remote\n",
    "        Remote object of the rotator CSC.\n",
    "    \"\"\"\n",
    "    # 20 Hz is 0.05 ms\n",
    "    track_advance_time = 0.05\n",
    "    ramp_generator_1 = simactuators.RampGenerator([0.7], [1.5], [0.068], track_advance_time)\n",
    "    ramp_generator_2 = simactuators.RampGenerator([0.7], [0], [-0.068], track_advance_time)\n",
    "\n",
    "    # Track the first target\n",
    "    await csc.cmd_trackStart.start(timeout=15)\n",
    "\n",
    "    is_stopped = False\n",
    "    time_start = time.monotonic()\n",
    "    for positions, velocities, tai in ramp_generator_1():\n",
    "        await csc.cmd_track.set_start(\n",
    "            angle=positions[0],\n",
    "            velocity=velocities[0],\n",
    "            tai=tai,\n",
    "            timeout=5,\n",
    "        )\n",
    "        await asyncio.sleep(0.1)\n",
    "\n",
    "        # Stop the rotator in the tracking\n",
    "        delta_time = time.monotonic() - time_start\n",
    "        if ((3 <= delta_time <= 3.5) or (6 <= delta_time <= 6.5)) and (not is_stopped):\n",
    "            await csc.cmd_stop.set_start(timeout=10)\n",
    "            \n",
    "            await asyncio.sleep(5)\n",
    "            is_stopped = True\n",
    "            print(\"check point 1\")\n",
    "\n",
    "        # Allow the tracking again\n",
    "        if is_stopped:\n",
    "            await csc.cmd_trackStart.start(timeout=15)\n",
    "            is_stopped = False\n",
    "            print(\"check point 2\")\n",
    "            \n",
    "    print(\"check point 3\")\n",
    "\n",
    "    # Track the second target\n",
    "    for positions, velocities, tai in ramp_generator_2():\n",
    "        await csc.cmd_track.set_start(\n",
    "            angle=positions[0],\n",
    "            velocity=velocities[0],\n",
    "            tai=tai,\n",
    "            timeout=5,\n",
    "        )\n",
    "        await asyncio.sleep(0.1)\n",
    "        \n",
    "    print(\"check point 4\")"
   ]
  },
  {
   "cell_type": "code",
   "execution_count": null,
   "id": "a0ec9059",
   "metadata": {},
   "outputs": [],
   "source": [
    "async def plot_path_generator(efd_client, time_start, time_end, filename=None):\n",
    "    \"\"\"\n",
    "    Plot the data of path generator.\n",
    "\n",
    "    Parameters\n",
    "    ----------\n",
    "    efd_client : lsst_efd_client.efd_helper.EfdClient\n",
    "        EFD client.\n",
    "    time_start : astropy.time.core.Time\n",
    "        Start time.\n",
    "    time_end : astropy.time.core.Time\n",
    "        End time.\n",
    "    filename : str or None\n",
    "        Save the data to csv file if filename is not None. (the default is None.)\n",
    "    \"\"\"\n",
    "    # Get the data from EFD\n",
    "    data_path = await efd_client.select_time_series(\n",
    "        \"lsst.sal.MTRotator.rotation\", \n",
    "        fields=[\"demandPosition\", \"demandVelocity\", \"demandAcceleration\", \"actualPosition\", \"actualVelocity\", \"timestamp\"], \n",
    "        start=time_start, \n",
    "        end=time_end)\n",
    "\n",
    "    data_torque = await efd_client.select_time_series(\n",
    "        \"lsst.sal.MTRotator.motors\", \n",
    "        fields=[\"torque0\", \"torque1\"], \n",
    "        start=time_start, \n",
    "        end=time_end)\n",
    "    \n",
    "    # Realign the time origin to 0\n",
    "    time_operation = np.array(data_path.timestamp.subtract(data_path.timestamp[0]))\n",
    "\n",
    "    # Calculate the acceleration and jerk\n",
    "    # Note the Simulink model had applied the low-pass filter for the calculation of velocity already \n",
    "    acceleration, jerk = calc_acceleration_and_jerk(time_operation, data_path.actualVelocity)\n",
    "\n",
    "    # Plots\n",
    "    plt.figure()\n",
    "    plt.subplot(7, 1, 1)\n",
    "    plt.plot(time_operation, data_path.demandPosition)\n",
    "    plt.plot(time_operation, data_path.actualPosition, \"x-\")\n",
    "    plt.title(\"Path Generator\")\n",
    "    plt.ylabel(\"P\")\n",
    "\n",
    "    plt.subplot(7, 1, 2)\n",
    "    plt.plot(time_operation, data_path.demandPosition - data_path.actualPosition)\n",
    "    plt.ylabel(\"dP\")\n",
    "\n",
    "    plt.subplot(7, 1, 3)\n",
    "    plt.plot(time_operation, data_path.demandVelocity)\n",
    "    plt.plot(time_operation, data_path.actualVelocity, \"x-\")\n",
    "    plt.ylabel(\"V\")\n",
    "\n",
    "    plt.subplot(7, 1, 4)\n",
    "    plt.plot(time_operation, data_path.demandVelocity - data_path.actualVelocity)\n",
    "    plt.ylabel(\"dV\")\n",
    "\n",
    "    plt.subplot(7, 1, 5)\n",
    "    plt.plot(time_operation, data_path.demandAcceleration)\n",
    "    plt.plot(time_operation, acceleration, \"x-\")\n",
    "    plt.ylabel(\"A\")\n",
    "\n",
    "    plt.subplot(7, 1, 6)\n",
    "    plt.plot(time_operation, data_path.demandAcceleration - acceleration)\n",
    "    plt.ylabel(\"dA\")\n",
    "\n",
    "    plt.subplot(7, 1, 7)\n",
    "    plt.plot(time_operation, jerk)\n",
    "    plt.ylabel(\"J\")\n",
    "    plt.xlabel(\"Time (s)\")\n",
    "\n",
    "    plt.figure()\n",
    "    plt.subplot(2, 1, 1)\n",
    "    plt.plot(time_operation, data_torque.torque0, \"r\")\n",
    "    plt.plot(time_operation, data_torque.torque1, \"b-\")\n",
    "    plt.title(\"Motor Torque\")\n",
    "    plt.ylabel(\"T\")\n",
    "    \n",
    "    plt.subplot(2, 1, 2)\n",
    "    plt.plot(time_operation, data_torque.torque0 - data_torque.torque1)\n",
    "    plt.xlabel(\"Time (s)\")\n",
    "    plt.ylabel(\"dT\")\n",
    "    \n",
    "    print(\"Units: P (deg), V (deg/s), A (deg/s^2), J (deg/s^3), Torque T (N * m)\")\n",
    "    \n",
    "    # Save the file\n",
    "    if filename is not None:\n",
    "        data_path.to_csv(path_or_buf=f\"path_{filename}.csv\")\n",
    "        data_torque.to_csv(path_or_buf=f\"torque_{filename}.csv\")"
   ]
  },
  {
   "cell_type": "code",
   "execution_count": null,
   "id": "ee05cf5b",
   "metadata": {},
   "outputs": [],
   "source": [
    "def calc_acceleration_and_jerk(time, velocity):\n",
    "    \"\"\"\n",
    "    Calculate the acceleratioin and jerk.\n",
    "\n",
    "    Parameters\n",
    "    ----------\n",
    "    time : numpy.ndarray\n",
    "        Time in seconds.\n",
    "    velocity : pandas.core.series.Series\n",
    "        velocity (deg/sec).\n",
    "\n",
    "    Returns\n",
    "    ----------\n",
    "    acceleration : numpy.ndarray\n",
    "        Acceleration in deg/sec^2.\n",
    "    jerk : numpy.ndarray\n",
    "        Jerk in deg/sec^3.\n",
    "    \"\"\"\n",
    "\n",
    "    acceleration = np.gradient(velocity, time)\n",
    "    jerk = np.gradient(acceleration, time)\n",
    "\n",
    "    return acceleration, jerk"
   ]
  },
  {
   "cell_type": "code",
   "execution_count": null,
   "id": "8db11a30",
   "metadata": {},
   "outputs": [],
   "source": [
    "async def get_event_data(efd_client, time_start, time_end):\n",
    "    \"\"\"\n",
    "    Get the event data.\n",
    "\n",
    "    Parameters\n",
    "    ----------\n",
    "    efd_client : lsst_efd_client.efd_helper.EfdClient\n",
    "        EFD client.\n",
    "    time_start : astropy.time.core.Time\n",
    "        Start time.\n",
    "    time_end : astropy.time.core.Time\n",
    "        End time.\n",
    "\n",
    "    Returns\n",
    "    -------\n",
    "    data_controller_state : pandas.core.frame.DataFrame\n",
    "        Data of the controller state event.\n",
    "    data_in_position : pandas.core.frame.DataFrame\n",
    "        Data of the inPosition event.\n",
    "    data_tracking : pandas.core.frame.DataFrame\n",
    "        Data of the tracking event.\n",
    "    \"\"\"\n",
    "\n",
    "    # Get the data from EFD\n",
    "    data_controller_state = await efd_client.select_time_series(\n",
    "        \"lsst.sal.MTRotator.logevent_controllerState\", \n",
    "        fields=[\"controllerState\", \"enabledSubstate\"], \n",
    "        start=time_start,\n",
    "        end=time_end)\n",
    "    \n",
    "    # The inPosition field is a combination of Flags_moveSuccess and Flags_trackingSuccess in Simulink telemetry\n",
    "    data_in_position = await efd_client.select_time_series(\n",
    "        \"lsst.sal.MTRotator.logevent_inPosition\", \n",
    "        fields=\"inPosition\",\n",
    "        start=time_start,\n",
    "        end=time_end)\n",
    "    \n",
    "    # The tracking field is Flags_trackingSuccess in Simulink telemetry\n",
    "    # The lost field is Flags_trackingLost in Simulink telemetry\n",
    "    # The noNewCommand field is Flags_noNewTrackCmdError in Simulink telemetry\n",
    "    data_tracking = await efd_client.select_time_series(\n",
    "        \"lsst.sal.MTRotator.logevent_tracking\", \n",
    "        fields=[\"tracking\", \"lost\", \"noNewCommand\"],\n",
    "        start=time_start,\n",
    "        end=time_end)\n",
    "\n",
    "    # Add the column of time difference in seconds\n",
    "    add_column_time_differece(data_controller_state, time_start)\n",
    "    add_column_time_differece(data_in_position, time_start)\n",
    "    add_column_time_differece(data_tracking, time_start)\n",
    "\n",
    "    return data_controller_state, data_in_position, data_tracking"
   ]
  },
  {
   "cell_type": "code",
   "execution_count": null,
   "id": "0a3a3b15",
   "metadata": {},
   "outputs": [],
   "source": [
    "def add_column_time_differece(data_frame, time_start):\n",
    "    \"\"\"\n",
    "    Add the column of time difference in seconds.\n",
    "\n",
    "    Parameters\n",
    "    ----------\n",
    "    data_frame : pandas.core.frame.DataFrame\n",
    "        Data frame.\n",
    "    time_start : astropy.time.core.Time\n",
    "        Start time.\n",
    "    \"\"\"\n",
    "    if (len(data_frame.values) != 0):\n",
    "        timestamp_start = pd.Timestamp(time_start.value, tz=\"utc\")\n",
    "        diff_time = data_frame.index - pd.Timestamp(time_start.value, tz=\"utc\")\n",
    "        diff_time_sec = [element.seconds + element.microseconds * 1e-6 for element in diff_time]\n",
    "        data_frame[\"time_difference\"] = diff_time_sec"
   ]
  },
  {
   "cell_type": "markdown",
   "id": "6a6617e8",
   "metadata": {},
   "source": [
    "**Instantiate the EFD and CSC**\n",
    "\n",
    "Need to make sure **ospl** is running for the data distribution system (DDS) communication."
   ]
  },
  {
   "cell_type": "code",
   "execution_count": null,
   "id": "5d107a98",
   "metadata": {},
   "outputs": [],
   "source": [
    "is_summit = True\n",
    "efd_client = retrieve_efd_client(is_summit=is_summit)\n",
    "domain = salobj.Domain()\n",
    "rotator = salobj.Remote(domain, \"MTRotator\")\n",
    "await rotator.start_task\n",
    "await rotator.cmd_setLogLevel.set_start(level=10)"
   ]
  },
  {
   "cell_type": "markdown",
   "id": "87df803a",
   "metadata": {},
   "source": [
    "**MTMount** controller is used to run the camera cable wrapper (CCW)."
   ]
  },
  {
   "cell_type": "code",
   "execution_count": null,
   "id": "cdedcbbf",
   "metadata": {},
   "outputs": [],
   "source": [
    "mtmount = salobj.Remote(domain, \"MTMount\")\n",
    "await mtmount.start_task\n",
    "\n",
    "state_mtmount = await mtmount.evt_summaryState.aget(timeout=10)\n",
    "if state_mtmount != salobj.State.ENABLED:\n",
    "    await salobj.set_summary_state(mtmount, salobj.State.ENABLED, timeout=10)\n",
    "\n",
    "await mtmount.cmd_enableCameraCableWrapFollowing.set_start()"
   ]
  },
  {
   "cell_type": "markdown",
   "id": "2f5ef58c",
   "metadata": {},
   "source": [
    "Put the rotator CSC into **Enabled** state before the test.\n",
    "At this moment, we need to do the workaround before DM-33967.\n",
    "At Tucson teststand, we can use *tts_test.yaml* to workaround the following error of rotator and camera cable wrapper (CCW)."
   ]
  },
  {
   "cell_type": "code",
   "execution_count": null,
   "id": "5ce61fa5",
   "metadata": {},
   "outputs": [],
   "source": [
    "# \"tts_test.yaml\" is the configuration file at Tucson teststand to increase the tolerance in the\n",
    "# difference between the rotator and CCW\n",
    "# settingsToApply = \"\" if is_summit else \"tts_test.yaml\" \n",
    "# await salobj.set_summary_state(\n",
    "#     rotator, salobj.State.ENABLED,\n",
    "#     timeout=30,\n",
    "#     settingsToApply=settingsToApply\n",
    "# )"
   ]
  },
  {
   "cell_type": "markdown",
   "id": "39974c14",
   "metadata": {},
   "source": [
    "The followings are the code to workaround the rotator CSC telemetry problem.\n",
    "This should not be needed after people deployed the correct version of rotator CSC on summit."
   ]
  },
  {
   "cell_type": "code",
   "execution_count": null,
   "id": "d9f8c299",
   "metadata": {},
   "outputs": [],
   "source": [
    "await rotator.cmd_start.set_start(timeout=15)\n"
   ]
  },
  {
   "cell_type": "code",
   "execution_count": null,
   "id": "86a6792a",
   "metadata": {},
   "outputs": [],
   "source": [
    "await rotator.cmd_standby.set_start(timeout=30)\n"
   ]
  },
  {
   "cell_type": "code",
   "execution_count": null,
   "id": "f5f163e0",
   "metadata": {},
   "outputs": [],
   "source": [
    "await rotator.cmd_start.set_start(timeout=15)\n",
    "await asyncio.sleep(10)"
   ]
  },
  {
   "cell_type": "code",
   "execution_count": null,
   "id": "736863a6",
   "metadata": {},
   "outputs": [],
   "source": [
    "await rotator.cmd_enable.set_start(timeout=30)"
   ]
  },
  {
   "cell_type": "code",
   "execution_count": null,
   "id": "5676fc0a",
   "metadata": {},
   "outputs": [],
   "source": [
    "await rotator.cmd_disable.set_start(timeout=30)"
   ]
  },
  {
   "cell_type": "markdown",
   "id": "a88ac343",
   "metadata": {},
   "source": [
    "**Check the rotator condition**\n",
    "\n",
    "After each test case, execute this cell to get the **time_now**, which is used in the query of EFD data."
   ]
  },
  {
   "cell_type": "code",
   "execution_count": null,
   "id": "6a21d36f",
   "metadata": {},
   "outputs": [],
   "source": [
    "await print_rotator_position(rotator)\n",
    "await print_summary_state(rotator)\n",
    "await print_rotator_latest_message(rotator)"
   ]
  },
  {
   "cell_type": "markdown",
   "id": "c7fa1d67",
   "metadata": {},
   "source": [
    "**Put the rotator back to origin**\n",
    "\n",
    "Before each test, put the rotator back to origin.\n",
    "This is easier for the data analysis."
   ]
  },
  {
   "cell_type": "code",
   "execution_count": null,
   "id": "ea2a0e1b",
   "metadata": {},
   "outputs": [],
   "source": [
    "await rotator.cmd_move.set_start(position=0, timeout=60)"
   ]
  },
  {
   "cell_type": "markdown",
   "id": "ba3aaf98",
   "metadata": {},
   "source": [
    "**Setup the Script**"
   ]
  },
  {
   "cell_type": "code",
   "execution_count": null,
   "id": "e09a3a5b",
   "metadata": {},
   "outputs": [],
   "source": [
    "time_start_verification = datetime.now()\n",
    "test_title = \"Rotator New Trajectory Verification Test\"\n",
    "script = salobj.Controller(\"Script\", index=10)\n",
    "\n",
    "# Wait 10 seconds may help with DDS problems; closing all other kernels may help too\n",
    "await asyncio.sleep(10)\n",
    "print(f\"Time to start the verification is {datetime.now() - time_start_verification} [s]\")"
   ]
  },
  {
   "cell_type": "markdown",
   "id": "6bc33cc3",
   "metadata": {},
   "source": [
    "**Test Case (small slewing test)**\n",
    "\n",
    "Test the positive and negative directions."
   ]
  },
  {
   "cell_type": "code",
   "execution_count": null,
   "id": "d5011e32",
   "metadata": {},
   "outputs": [],
   "source": [
    "time_start = script_log_start(script, test_title, \"small slewing test\")"
   ]
  },
  {
   "cell_type": "code",
   "execution_count": null,
   "id": "a4b0c7fb",
   "metadata": {},
   "outputs": [],
   "source": [
    "await slew_test(rotator, 0.7,5, 0.1)"
   ]
  },
  {
   "cell_type": "code",
   "execution_count": null,
   "id": "230841e2",
   "metadata": {},
   "outputs": [],
   "source": [
    "time_stop = script_log_stop(script, test_title, \"small slewing test\")"
   ]
  },
  {
   "cell_type": "code",
   "execution_count": null,
   "id": "0be54ec8",
   "metadata": {},
   "outputs": [],
   "source": [
    "await plot_path_generator(efd_client, time_start, time_stop, filename=\"small_slew_test\")"
   ]
  },
  {
   "cell_type": "code",
   "execution_count": null,
   "id": "82df06fe",
   "metadata": {},
   "outputs": [],
   "source": [
    "data_controller_state, data_in_position, data_tracking = await get_event_data(\n",
    "    efd_client, time_start, time_stop)"
   ]
  },
  {
   "cell_type": "code",
   "execution_count": null,
   "id": "65afeb38",
   "metadata": {},
   "outputs": [],
   "source": [
    "data_controller_state"
   ]
  },
  {
   "cell_type": "code",
   "execution_count": null,
   "id": "98fcb635",
   "metadata": {},
   "outputs": [],
   "source": [
    "data_in_position"
   ]
  },
  {
   "cell_type": "code",
   "execution_count": null,
   "id": "baf9a605",
   "metadata": {},
   "outputs": [],
   "source": [
    "data_tracking"
   ]
  },
  {
   "cell_type": "markdown",
   "id": "d391aa52",
   "metadata": {},
   "source": [
    "**Test Case (long slew test + constant speed test)**\n",
    "\n",
    "Test the positive and negative directions.\n",
    "The behavior of trajectory generator should be the same for these two tests.\n",
    "Note the CSC does not support the command of constant speed move."
   ]
  },
  {
   "cell_type": "code",
   "execution_count": null,
   "id": "4add6a84",
   "metadata": {},
   "outputs": [],
   "source": [
    "time_start = script_log_start(script, test_title, \"long slew / constant speed test\")"
   ]
  },
  {
   "cell_type": "code",
   "execution_count": null,
   "id": "e3685649",
   "metadata": {},
   "outputs": [],
   "source": [
    "await slew_test(rotator, 90, 35, 10)"
   ]
  },
  {
   "cell_type": "code",
   "execution_count": null,
   "id": "9947a98e",
   "metadata": {},
   "outputs": [],
   "source": [
    "time_stop = script_log_stop(script, test_title, \"long slew / constant speed test\")"
   ]
  },
  {
   "cell_type": "code",
   "execution_count": null,
   "id": "3e064e59",
   "metadata": {},
   "outputs": [],
   "source": [
    "await plot_path_generator(efd_client, time_start, time_stop, filename=\"long_slew_constant_speed\")"
   ]
  },
  {
   "cell_type": "code",
   "execution_count": null,
   "id": "246c6afe",
   "metadata": {},
   "outputs": [],
   "source": [
    "data_controller_state, data_in_position, data_tracking = await get_event_data(\n",
    "    efd_client, time_start, time_stop)"
   ]
  },
  {
   "cell_type": "code",
   "execution_count": null,
   "id": "782a785c",
   "metadata": {},
   "outputs": [],
   "source": [
    "data_controller_state"
   ]
  },
  {
   "cell_type": "code",
   "execution_count": null,
   "id": "cbd0ecd0",
   "metadata": {},
   "outputs": [],
   "source": [
    "data_in_position"
   ]
  },
  {
   "cell_type": "code",
   "execution_count": null,
   "id": "15f2753b",
   "metadata": {},
   "outputs": [],
   "source": [
    "data_tracking"
   ]
  },
  {
   "cell_type": "markdown",
   "id": "5d9da828",
   "metadata": {},
   "source": [
    "**Test Case (rotation range test)**\n",
    "\n",
    "Note the CSC does not support the command of constant speed move."
   ]
  },
  {
   "cell_type": "code",
   "execution_count": null,
   "id": "4ea2f633",
   "metadata": {},
   "outputs": [],
   "source": [
    "time_start = script_log_start(script, test_title, \"rotation range test\")"
   ]
  },
  {
   "cell_type": "markdown",
   "id": "fb53baa0",
   "metadata": {},
   "source": [
    "The configuration file of controller can update the following parameters: Parameters_upperPosLimit_deg, Parameters_lowerPosLimit_deg, Parameters_PositionErrorThresh, Parameters_FollowingErrorThreshold_deg, Parameters_trackingSuccessPositionThreshold_deg, and Parameters_trackingLostTimeout_sec in the Simulink model."
   ]
  },
  {
   "cell_type": "code",
   "execution_count": null,
   "id": "92e90947",
   "metadata": {},
   "outputs": [],
   "source": [
    "# Test the move position is out of range\n",
    "# Need to modify the configuration file in the rotator controller to have the max/min of +/-45 degree\n",
    "# before the test\n",
    "try:\n",
    "    await rotator.cmd_move.set_start(position=46, timeout=60)\n",
    "except salobj.AckError as error:\n",
    "    print(error)\n",
    "\n",
    "try:\n",
    "    await rotator.cmd_move.set_start(position=-46, timeout=60)\n",
    "except salobj.AckError as error:\n",
    "    print(error)"
   ]
  },
  {
   "cell_type": "code",
   "execution_count": null,
   "id": "24f91492",
   "metadata": {},
   "outputs": [],
   "source": [
    "time_stop = script_log_stop(script, test_title, \"rotation range test\")"
   ]
  },
  {
   "cell_type": "code",
   "execution_count": null,
   "id": "bc581039",
   "metadata": {},
   "outputs": [],
   "source": [
    "await plot_path_generator(efd_client, time_start, time_stop, filename=\"rotation_range\")"
   ]
  },
  {
   "cell_type": "code",
   "execution_count": null,
   "id": "e5e3e88d",
   "metadata": {},
   "outputs": [],
   "source": [
    "data_controller_state, data_in_position, data_tracking = await get_event_data(\n",
    "    efd_client, time_start, time_stop)"
   ]
  },
  {
   "cell_type": "code",
   "execution_count": null,
   "id": "461745cf",
   "metadata": {},
   "outputs": [],
   "source": [
    "data_controller_state"
   ]
  },
  {
   "cell_type": "code",
   "execution_count": null,
   "id": "0aac31a2",
   "metadata": {},
   "outputs": [],
   "source": [
    "data_in_position"
   ]
  },
  {
   "cell_type": "code",
   "execution_count": null,
   "id": "9edb1fde",
   "metadata": {},
   "outputs": [],
   "source": [
    "data_tracking"
   ]
  },
  {
   "cell_type": "markdown",
   "id": "ac425e16",
   "metadata": {},
   "source": [
    "**Test Case (position accuracy)**\n",
    "\n",
    "The **slewingAndTracking** operation will be tested.\n",
    "Note the rotator will transition to Fault state in the final if there is no new track command.\n",
    "This behaviour can be used to verify the test case of \"no tracking commands\".\n",
    "In addition, the trajectory generator will do the extrapolation in a small time period before the transition to **Fault** state."
   ]
  },
  {
   "cell_type": "markdown",
   "id": "c9317bb9",
   "metadata": {},
   "source": [
    "Target is moving in the positive direction."
   ]
  },
  {
   "cell_type": "code",
   "execution_count": null,
   "id": "83d71817",
   "metadata": {},
   "outputs": [],
   "source": [
    "time_start = script_log_start(script, test_title, \"position accuracy (positive)\")"
   ]
  },
  {
   "cell_type": "code",
   "execution_count": null,
   "id": "1de1d495",
   "metadata": {},
   "outputs": [],
   "source": [
    "await track_target(rotator, 30, 30.5, 0.03)"
   ]
  },
  {
   "cell_type": "code",
   "execution_count": null,
   "id": "f3242a56",
   "metadata": {},
   "outputs": [],
   "source": [
    "time_stop = script_log_stop(script, test_title, \"position accuracy (positive)\")"
   ]
  },
  {
   "cell_type": "code",
   "execution_count": null,
   "id": "250816d1",
   "metadata": {},
   "outputs": [],
   "source": [
    "await plot_path_generator(efd_client, time_start, time_stop, filename=\"position_accuracy_positive\")"
   ]
  },
  {
   "cell_type": "code",
   "execution_count": null,
   "id": "3eb4f126",
   "metadata": {},
   "outputs": [],
   "source": [
    "data_controller_state, data_in_position, data_tracking = await get_event_data(\n",
    "    efd_client, time_start, time_stop)"
   ]
  },
  {
   "cell_type": "code",
   "execution_count": null,
   "id": "e779ade2",
   "metadata": {},
   "outputs": [],
   "source": [
    "data_controller_state"
   ]
  },
  {
   "cell_type": "code",
   "execution_count": null,
   "id": "159e87d3",
   "metadata": {},
   "outputs": [],
   "source": [
    "data_in_position"
   ]
  },
  {
   "cell_type": "code",
   "execution_count": null,
   "id": "51e806c7",
   "metadata": {},
   "outputs": [],
   "source": [
    "data_tracking"
   ]
  },
  {
   "cell_type": "markdown",
   "id": "545a7522",
   "metadata": {},
   "source": [
    "Target is moving in the negative direction."
   ]
  },
  {
   "cell_type": "code",
   "execution_count": null,
   "id": "f2e80db9",
   "metadata": {},
   "outputs": [],
   "source": [
    "time_start = script_log_start(script, test_title, \"position accuracy (negative)\")"
   ]
  },
  {
   "cell_type": "code",
   "execution_count": null,
   "id": "0cc65755",
   "metadata": {},
   "outputs": [],
   "source": [
    "await track_target(rotator, -30, -31.1, -0.068)"
   ]
  },
  {
   "cell_type": "code",
   "execution_count": null,
   "id": "1ad61d06",
   "metadata": {},
   "outputs": [],
   "source": [
    "time_stop = script_log_stop(script, test_title, \"position accuracy (negative)\")"
   ]
  },
  {
   "cell_type": "code",
   "execution_count": null,
   "id": "72d21064",
   "metadata": {},
   "outputs": [],
   "source": [
    "await plot_path_generator(efd_client, time_start, time_stop, filename=\"position_accuracy_negative\")"
   ]
  },
  {
   "cell_type": "code",
   "execution_count": null,
   "id": "3e05c079",
   "metadata": {},
   "outputs": [],
   "source": [
    "data_controller_state, data_in_position, data_tracking = await get_event_data(\n",
    "    efd_client, time_start, time_stop)"
   ]
  },
  {
   "cell_type": "code",
   "execution_count": null,
   "id": "8ee481ba",
   "metadata": {},
   "outputs": [],
   "source": [
    "data_controller_state"
   ]
  },
  {
   "cell_type": "code",
   "execution_count": null,
   "id": "a788ed9d",
   "metadata": {},
   "outputs": [],
   "source": [
    "data_in_position"
   ]
  },
  {
   "cell_type": "code",
   "execution_count": null,
   "id": "1354f297",
   "metadata": {},
   "outputs": [],
   "source": [
    "data_tracking"
   ]
  },
  {
   "cell_type": "markdown",
   "id": "4a63ba0f",
   "metadata": {},
   "source": [
    "**Test Case (tracking / slewing sequence test)**\n",
    "\n",
    "Track two targets and stop in between."
   ]
  },
  {
   "cell_type": "code",
   "execution_count": null,
   "id": "d45d03ba",
   "metadata": {},
   "outputs": [],
   "source": [
    "time_start = script_log_start(script, test_title, \"tracking/slewing sequence test\")"
   ]
  },
  {
   "cell_type": "code",
   "execution_count": null,
   "id": "d0e6da45",
   "metadata": {},
   "outputs": [],
   "source": [
    "await track_slew_test(rotator)"
   ]
  },
  {
   "cell_type": "code",
   "execution_count": null,
   "id": "72b42c10",
   "metadata": {},
   "outputs": [],
   "source": [
    "time_stop = script_log_stop(script, test_title, \"tracking/slewing sequence test\")"
   ]
  },
  {
   "cell_type": "code",
   "execution_count": null,
   "id": "d432010b",
   "metadata": {},
   "outputs": [],
   "source": [
    "await plot_path_generator(efd_client, time_start, time_stop, filename=\"tracking_slewing_sequence\")"
   ]
  },
  {
   "cell_type": "code",
   "execution_count": null,
   "id": "80b4b5fc",
   "metadata": {},
   "outputs": [],
   "source": [
    "data_controller_state, data_in_position, data_tracking = await get_event_data(\n",
    "    efd_client, time_start, time_stop)"
   ]
  },
  {
   "cell_type": "code",
   "execution_count": null,
   "id": "62189f1c",
   "metadata": {},
   "outputs": [],
   "source": [
    "data_controller_state"
   ]
  },
  {
   "cell_type": "code",
   "execution_count": null,
   "id": "ec3d63ba",
   "metadata": {},
   "outputs": [],
   "source": [
    "data_in_position"
   ]
  },
  {
   "cell_type": "code",
   "execution_count": null,
   "id": "f99a86c3",
   "metadata": {},
   "outputs": [],
   "source": [
    "data_tracking"
   ]
  },
  {
   "cell_type": "markdown",
   "id": "6e7c0416",
   "metadata": {},
   "source": [
    "**Test Case (tracking without initial slewing)**\n",
    "\n",
    "No initial slewing is applied to the rotator."
   ]
  },
  {
   "cell_type": "code",
   "execution_count": null,
   "id": "aa4b9bb9",
   "metadata": {},
   "outputs": [],
   "source": [
    "time_start = script_log_start(script, test_title, \"tracking w/o initial slewing\")"
   ]
  },
  {
   "cell_type": "code",
   "execution_count": null,
   "id": "aea1f4ae",
   "metadata": {},
   "outputs": [],
   "source": [
    "data = await rotator.tel_rotation.aget(timeout=15)\n",
    "await track_target(rotator, data.actualPosition, data.actualPosition + 0.5, 0.068)"
   ]
  },
  {
   "cell_type": "code",
   "execution_count": null,
   "id": "c009b614",
   "metadata": {},
   "outputs": [],
   "source": [
    "time_stop = script_log_stop(script, test_title, \"tracking w/o initial slewing\")"
   ]
  },
  {
   "cell_type": "code",
   "execution_count": null,
   "id": "15f742d8",
   "metadata": {},
   "outputs": [],
   "source": [
    "await plot_path_generator(efd_client, time_start, time_stop, filename=\"tracking_no_initial_slewing\")"
   ]
  },
  {
   "cell_type": "code",
   "execution_count": null,
   "id": "b9fe1d45",
   "metadata": {},
   "outputs": [],
   "source": [
    "data_controller_state, data_in_position, data_tracking = await get_event_data(\n",
    "    efd_client, time_start, time_stop)"
   ]
  },
  {
   "cell_type": "code",
   "execution_count": null,
   "id": "0392651d",
   "metadata": {},
   "outputs": [],
   "source": [
    "data_controller_state"
   ]
  },
  {
   "cell_type": "code",
   "execution_count": null,
   "id": "f5207720",
   "metadata": {},
   "outputs": [],
   "source": [
    "data_in_position"
   ]
  },
  {
   "cell_type": "code",
   "execution_count": null,
   "id": "e9a8c4f1",
   "metadata": {},
   "outputs": [],
   "source": [
    "data_tracking"
   ]
  },
  {
   "cell_type": "markdown",
   "id": "b9e7a641",
   "metadata": {},
   "source": [
    "**Test Case (slewing supersession)**\n",
    "\n",
    "Test the slewing supersession capability of the rotator."
   ]
  },
  {
   "cell_type": "code",
   "execution_count": null,
   "id": "891db8e4",
   "metadata": {},
   "outputs": [],
   "source": [
    "time_start = script_log_start(script, test_title, \"slewing supersession\")"
   ]
  },
  {
   "cell_type": "code",
   "execution_count": null,
   "id": "a45d7260",
   "metadata": {},
   "outputs": [],
   "source": [
    "await slew_supersession_test(rotator)"
   ]
  },
  {
   "cell_type": "code",
   "execution_count": null,
   "id": "99a526a7",
   "metadata": {},
   "outputs": [],
   "source": [
    "time_stop = script_log_stop(script, test_title, \"slewing supersession\")"
   ]
  },
  {
   "cell_type": "code",
   "execution_count": null,
   "id": "25df8e50",
   "metadata": {},
   "outputs": [],
   "source": [
    "await plot_path_generator(efd_client, time_start, time_stop, filename=\"slewing_supersession\")"
   ]
  },
  {
   "cell_type": "code",
   "execution_count": null,
   "id": "372f67d9",
   "metadata": {},
   "outputs": [],
   "source": [
    "data_controller_state, data_in_position, data_tracking = await get_event_data(\n",
    "    efd_client, time_start, time_stop)"
   ]
  },
  {
   "cell_type": "code",
   "execution_count": null,
   "id": "4bc4088a",
   "metadata": {},
   "outputs": [],
   "source": [
    "data_controller_state"
   ]
  },
  {
   "cell_type": "code",
   "execution_count": null,
   "id": "64ec8938",
   "metadata": {},
   "outputs": [],
   "source": [
    "data_in_position"
   ]
  },
  {
   "cell_type": "code",
   "execution_count": null,
   "id": "dc70fd07",
   "metadata": {},
   "outputs": [],
   "source": [
    "data_tracking"
   ]
  },
  {
   "cell_type": "markdown",
   "id": "c9e369ef",
   "metadata": {},
   "source": [
    "**Test Case (tracking / slewing with multiple stops)**"
   ]
  },
  {
   "cell_type": "code",
   "execution_count": null,
   "id": "6dbfbdc7",
   "metadata": {},
   "outputs": [],
   "source": [
    "time_start = script_log_start(script, test_title, \"tracking/slewing with multiple stops\")"
   ]
  },
  {
   "cell_type": "code",
   "execution_count": null,
   "id": "3ddccb98",
   "metadata": {},
   "outputs": [],
   "source": [
    "await track_slew_multiple_stop_test(rotator)"
   ]
  },
  {
   "cell_type": "code",
   "execution_count": null,
   "id": "e0237244",
   "metadata": {},
   "outputs": [],
   "source": [
    "time_stop = script_log_stop(script, test_title, \"tracking/slewing with multiple stops\")"
   ]
  },
  {
   "cell_type": "code",
   "execution_count": null,
   "id": "164f5c06",
   "metadata": {},
   "outputs": [],
   "source": [
    "await plot_path_generator(efd_client, time_start, time_stop, filename=\"tracking_slewing_multiple_stops\")"
   ]
  },
  {
   "cell_type": "code",
   "execution_count": null,
   "id": "ef6f430f",
   "metadata": {},
   "outputs": [],
   "source": [
    "data_controller_state, data_in_position, data_tracking = await get_event_data(\n",
    "    efd_client, time_start, time_stop)"
   ]
  },
  {
   "cell_type": "code",
   "execution_count": null,
   "id": "19ac512f",
   "metadata": {},
   "outputs": [],
   "source": [
    "data_controller_state"
   ]
  },
  {
   "cell_type": "code",
   "execution_count": null,
   "id": "a3046074",
   "metadata": {},
   "outputs": [],
   "source": [
    "data_in_position"
   ]
  },
  {
   "cell_type": "code",
   "execution_count": null,
   "id": "578d5e64",
   "metadata": {},
   "outputs": [],
   "source": [
    "data_tracking"
   ]
  },
  {
   "cell_type": "code",
   "execution_count": null,
   "id": "b3496a00",
   "metadata": {},
   "outputs": [],
   "source": []
  }
 ],
 "metadata": {
  "kernelspec": {
   "display_name": "Python 3 (ipykernel)",
   "language": "python",
   "name": "python3"
  },
  "language_info": {
   "codemirror_mode": {
    "name": "ipython",
    "version": 3
   },
   "file_extension": ".py",
   "mimetype": "text/x-python",
   "name": "python",
   "nbconvert_exporter": "python",
   "pygments_lexer": "ipython3",
   "version": "3.7.3"
  }
 },
 "nbformat": 4,
 "nbformat_minor": 5
}
