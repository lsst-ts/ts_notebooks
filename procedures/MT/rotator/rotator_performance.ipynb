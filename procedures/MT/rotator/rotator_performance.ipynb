{
 "cells": [
  {
   "cell_type": "markdown",
   "id": "981950a6",
   "metadata": {},
   "source": [
    "# Rotator Performance Turning\n",
    "\n",
    "This Jupyter notebook is used to tune the controller parameters originally delivered by Tekniker.\n",
    "The test will be performed on summit with the real hardware.\n",
    "Before that, the Tucson test stand is used to develop the test procedure.\n",
    "The rotator commandable SAL component (CSC) is used to control the rotator hardware.\n",
    "The published event and telemetry are stored in the engineering facility database (EFD).\n",
    "\n",
    "It is noted that the **MTMount** telemetry data is required.\n",
    "Otherwise, the rotator CSC will put the low-level controller into the **Fault** state.\n",
    "\n",
    "The **setup** notebook can be used to bring up rotator and mount/CCW."
   ]
  },
  {
   "cell_type": "markdown",
   "id": "9e45f33b",
   "metadata": {},
   "source": [
    "## Import Modules"
   ]
  },
  {
   "cell_type": "code",
   "execution_count": null,
   "id": "63caf5e5",
   "metadata": {},
   "outputs": [],
   "source": [
    "%matplotlib inline\n",
    "%matplotlib widget\n",
    "import asyncio\n",
    "from datetime import datetime\n",
    "import time\n",
    "from astropy.time import Time\n",
    "import pandas as pd\n",
    "import numpy as np\n",
    "import matplotlib.pyplot as plt\n",
    "\n",
    "from lsst.ts import salobj\n",
    "from lsst.ts import simactuators\n",
    "from lsst_efd_client import EfdClient"
   ]
  },
  {
   "cell_type": "markdown",
   "id": "8eeb50fa",
   "metadata": {},
   "source": [
    "## Declaration of User-defined Functions"
   ]
  },
  {
   "cell_type": "code",
   "execution_count": null,
   "id": "1c8f6eaa",
   "metadata": {},
   "outputs": [],
   "source": [
    "def retrieve_efd_client(is_summit=True):\n",
    "    \"\"\"\n",
    "    Retrieves a client to EFD.\n",
    "\n",
    "    Parameters\n",
    "    ----------\n",
    "    is_summit : bool, optional\n",
    "        This notebook is running on the summit or not. If not, the returned object will point\n",
    "        to the test stand at Tucson.\n",
    "\n",
    "    Returns\n",
    "    -------\n",
    "    EfdClient : The interface object between the Nublado and summit/Tucson EFD.\n",
    "    \"\"\"\n",
    "    efd_name = \"summit_efd\" if is_summit else \"tucson_teststand_efd\"        \n",
    "    return EfdClient(efd_name)"
   ]
  },
  {
   "cell_type": "code",
   "execution_count": null,
   "id": "a8f8a3e5",
   "metadata": {},
   "outputs": [],
   "source": [
    "def script_log_start(controller_script, test_title, test_detail):\n",
    "    \"\"\"Log the start of test case in script controller.\n",
    "\n",
    "    Parameters\n",
    "    ----------\n",
    "    controller_script : lsst.ts.salobj.controller.Controller\n",
    "        Script controller.\n",
    "    test_title : str\n",
    "        Test title.\n",
    "    test_detail : str\n",
    "        Test detail.\n",
    "\n",
    "    Returns\n",
    "    -------\n",
    "    astropy.time.core.Time\n",
    "        Time object.\n",
    "    \"\"\"\n",
    "    time_now = datetime.now()\n",
    "    controller_script.log.info(f\"START -- {test_title} -- LVV-T2539 -- {test_detail} -- Starting Time: {time_now} UTC\")\n",
    "    return Time(time_now.isoformat(), scale=\"utc\", format=\"isot\")"
   ]
  },
  {
   "cell_type": "code",
   "execution_count": null,
   "id": "767e5899",
   "metadata": {},
   "outputs": [],
   "source": [
    "def script_log_stop(controller_script, test_title, test_detail):\n",
    "    \"\"\"Log the stop of test case in script controller.\n",
    "\n",
    "    Parameters\n",
    "    ----------\n",
    "    controller_script : lsst.ts.salobj.controller.Controller\n",
    "        Script controller.\n",
    "    test_title : str\n",
    "        Test title.\n",
    "    test_detail : str\n",
    "        Test detail.\n",
    "\n",
    "    Returns\n",
    "    -------\n",
    "    astropy.time.core.Time\n",
    "        Time object.\n",
    "    \"\"\"\n",
    "    time_now = datetime.now()\n",
    "    controller_script.log.info(f\"STOP -- {test_title} -- LVV-T2539 -- {test_detail} -- Stopping Time: {time_now} UTC\")\n",
    "    return Time(time_now.isoformat(), scale=\"utc\", format=\"isot\")"
   ]
  },
  {
   "cell_type": "code",
   "execution_count": null,
   "id": "9210d81b",
   "metadata": {},
   "outputs": [],
   "source": [
    "async def track_targets(csc, velocities, duration=30):\n",
    "    \"\"\"Track the targets.\n",
    "\n",
    "    Parameters\n",
    "    ----------\n",
    "    csc : lsst.ts.salobj.remote.Remote\n",
    "        Remote object of the rotator CSC.\n",
    "    velocities : list\n",
    "        Tracking velocities in deg/sec.\n",
    "    duration : float or int, optional\n",
    "        Duration of tracking target. This value must be >= 0. (the default is 30)\n",
    "    \"\"\"\n",
    "\n",
    "    for sign in (-1, 1):\n",
    "        for velocity in velocities:\n",
    "            await track_target_time(csc, 0, sign * velocity, duration)\n",
    "            await make_sure_csc_enabled(csc)\n",
    "            await move_origin(csc)\n",
    "\n",
    "        for velocity in velocities:\n",
    "            await track_target_time(csc, sign * 10, sign * velocity, duration)\n",
    "            await make_sure_csc_enabled(csc)\n",
    "            await move_origin(csc)"
   ]
  },
  {
   "cell_type": "code",
   "execution_count": null,
   "id": "cf88c57f",
   "metadata": {},
   "outputs": [],
   "source": [
    "async def track_target_time(csc, start_position, velocity, duration):\n",
    "    \"\"\"Track the target with a lasting time.\n",
    "\n",
    "    Parameters\n",
    "    ----------\n",
    "    csc : lsst.ts.salobj.remote.Remote\n",
    "        Remote object of the rotator CSC.\n",
    "    start_position : float\n",
    "        Starting position of ramp (deg).\n",
    "    velocity : float\n",
    "        Velocity of motion along the ramp (deg/sec).\n",
    "    duration : float or int\n",
    "        Duration of tracking target. This value must be >= 0.\n",
    "    \"\"\"\n",
    "\n",
    "    end_position = start_position + velocity * duration\n",
    "    await track_target(csc, start_position, end_position, velocity)"
   ]
  },
  {
   "cell_type": "code",
   "execution_count": null,
   "id": "d5ae0209",
   "metadata": {},
   "outputs": [],
   "source": [
    "async def track_target(csc, start_position, end_position, velocity):\n",
    "    \"\"\"Track the target.\n",
    "\n",
    "    Parameters\n",
    "    ----------\n",
    "    csc : lsst.ts.salobj.remote.Remote\n",
    "        Remote object of the rotator CSC.\n",
    "    start_position : float\n",
    "        Starting position of ramp (deg).\n",
    "    end_position : float\n",
    "        Ending position of ramp (deg).\n",
    "    velocity : float\n",
    "        Velocity of motion along the ramp (deg/sec).\n",
    "    \"\"\"    \n",
    "\n",
    "    await make_sure_csc_enabled(csc)\n",
    "    \n",
    "    # 20 Hz is 0.05 ms\n",
    "    track_advance_time = 0.05\n",
    "    ramp_generator = simactuators.RampGenerator(\n",
    "        [start_position], [end_position], [velocity], track_advance_time)\n",
    "\n",
    "    await csc.cmd_trackStart.start(timeout=15)\n",
    "    await asyncio.sleep(0.15)\n",
    "    for positions, velocities, tai in ramp_generator():\n",
    "        await csc.cmd_track.set_start(\n",
    "            angle=positions[0],\n",
    "            velocity=velocities[0],\n",
    "            tai=tai,\n",
    "            timeout=10,\n",
    "        )\n",
    "        await asyncio.sleep(0.15)\n",
    "\n",
    "    await asyncio.sleep(1)"
   ]
  },
  {
   "cell_type": "code",
   "execution_count": null,
   "id": "eb96af09",
   "metadata": {},
   "outputs": [],
   "source": [
    "async def move_origin(csc):\n",
    "    \"\"\"Move to the origin. For each test case, we would like to perform from the origin. Therefore, this function\n",
    "    is used to simplify the funtion call.\n",
    "\n",
    "    Parameters\n",
    "    ----------\n",
    "    csc : lsst.ts.salobj.remote.Remote\n",
    "        Remote object of the rotator CSC.\n",
    "    \"\"\"\n",
    "\n",
    "    sleep_time = 3\n",
    "    await asyncio.sleep(sleep_time)\n",
    "\n",
    "    await make_sure_csc_enabled(csc)\n",
    "\n",
    "    # Workaround the problem of MOOG state machine to decide a new point-to-point movement\n",
    "    await csc.cmd_move.set_start(position=0.1, timeout=90)\n",
    "    await asyncio.sleep(sleep_time)\n",
    "\n",
    "    await make_sure_csc_enabled(csc)\n",
    "\n",
    "    await csc.cmd_move.set_start(position=0, timeout=90)\n",
    "    await asyncio.sleep(sleep_time)"
   ]
  },
  {
   "cell_type": "code",
   "execution_count": null,
   "id": "87e4f187",
   "metadata": {},
   "outputs": [],
   "source": [
    "async def make_sure_csc_enabled(csc):\n",
    "    \"\"\"Make sure the CSC is enabled.\n",
    "\n",
    "    Parameters\n",
    "    ----------\n",
    "    csc : lsst.ts.salobj.remote.Remote\n",
    "        Remote object of the rotator CSC.\n",
    "    \"\"\"\n",
    "    await asyncio.sleep(3)\n",
    "    data = csc.evt_summaryState.get()\n",
    "    await asyncio.sleep(3)\n",
    "    if data.summaryState != salobj.State.ENABLED:\n",
    "        await salobj.set_summary_state(csc, salobj.State.ENABLED, timeout=90)"
   ]
  },
  {
   "cell_type": "markdown",
   "id": "b1b1f6c6",
   "metadata": {},
   "source": [
    "## Instantiate the EFD and CSC\n",
    "\n",
    "Need to make sure **ospl** is running for the data distribution system (DDS) communication."
   ]
  },
  {
   "cell_type": "code",
   "execution_count": null,
   "id": "1950c9e0",
   "metadata": {},
   "outputs": [],
   "source": [
    "is_summit = True\n",
    "efd_client = retrieve_efd_client(is_summit=is_summit)\n",
    "domain = salobj.Domain()\n",
    "rotator = salobj.Remote(domain, \"MTRotator\")\n",
    "await rotator.start_task\n",
    "await rotator.cmd_setLogLevel.set_start(level=10)"
   ]
  },
  {
   "cell_type": "markdown",
   "id": "932b84cd",
   "metadata": {},
   "source": [
    "**MTMount** controller is used to run the camera cable wrapper (CCW)."
   ]
  },
  {
   "cell_type": "code",
   "execution_count": null,
   "id": "6ae146d2",
   "metadata": {},
   "outputs": [],
   "source": [
    "mtmount = salobj.Remote(domain, \"MTMount\")\n",
    "await mtmount.start_task\n",
    "\n",
    "state_mtmount = mtmount.evt_summaryState.get()\n",
    "if state_mtmount != salobj.State.ENABLED:\n",
    "    await salobj.set_summary_state(mtmount, salobj.State.ENABLED, timeout=10)\n",
    "\n",
    "await mtmount.cmd_enableCameraCableWrapFollowing.set_start()"
   ]
  },
  {
   "cell_type": "code",
   "execution_count": null,
   "id": "c638daf7",
   "metadata": {},
   "outputs": [],
   "source": [
    "state_mtmount = mtmount.evt_summaryState.get()\n",
    "print(state_mtmount)"
   ]
  },
  {
   "cell_type": "code",
   "execution_count": null,
   "id": "c0e977a8",
   "metadata": {},
   "outputs": [],
   "source": [
    "await salobj.set_summary_state(mtmount, salobj.State.ENABLED, timeout=10)"
   ]
  },
  {
   "cell_type": "code",
   "execution_count": null,
   "id": "0da849af",
   "metadata": {},
   "outputs": [],
   "source": [
    "await mtmount.cmd_enableCameraCableWrapFollowing.set_start()"
   ]
  },
  {
   "cell_type": "markdown",
   "id": "5939bf37",
   "metadata": {},
   "source": [
    "Set the rotator CSC to be **Enabled** state."
   ]
  },
  {
   "cell_type": "code",
   "execution_count": null,
   "id": "7e386838",
   "metadata": {},
   "outputs": [],
   "source": [
    "await salobj.set_summary_state(rotator, salobj.State.ENABLED, timeout=60)"
   ]
  },
  {
   "cell_type": "code",
   "execution_count": null,
   "id": "c8ebcb51",
   "metadata": {},
   "outputs": [],
   "source": [
    "await move_origin(rotator)"
   ]
  },
  {
   "cell_type": "markdown",
   "id": "284a4e72",
   "metadata": {},
   "source": [
    "## Setup the Script"
   ]
  },
  {
   "cell_type": "code",
   "execution_count": null,
   "id": "47e2d9e4",
   "metadata": {},
   "outputs": [],
   "source": [
    "time_start_evaluation = datetime.now()\n",
    "test_title = \"Evaluate the Rotator Controller Performance\"\n",
    "script = salobj.Controller(\"Script\", index=10)\n",
    "\n",
    "# Wait 10 second may help with DDS problems; closing all other kernels may help too\n",
    "await asyncio.sleep(10)\n",
    "print(f\"Time to start the evaluation is {time_start_evaluation}.\")"
   ]
  },
  {
   "cell_type": "markdown",
   "id": "8574eea3",
   "metadata": {},
   "source": [
    "## Tracking Tests\n",
    "\n",
    "The following code performs three tests.\n",
    "The rotator will track multiple targets with different velocities to evaluate the tracking performance and do the debug."
   ]
  },
  {
   "cell_type": "markdown",
   "id": "70ab2007",
   "metadata": {},
   "source": [
    "### Baseline"
   ]
  },
  {
   "cell_type": "code",
   "execution_count": null,
   "id": "6cbf3a5b",
   "metadata": {},
   "outputs": [],
   "source": [
    "velocities = [0.0042, 0.01, 0.015, 0.02, 0.025, 0.03, 0.035, 0.04, 0.045, 0.05, 0.055, 0.06, 0.065, 0.07, 0.075, 0.08]"
   ]
  },
  {
   "cell_type": "code",
   "execution_count": null,
   "id": "6c9d0740",
   "metadata": {},
   "outputs": [],
   "source": [
    "time_start = script_log_start(script, test_title, \"Baseline\")"
   ]
  },
  {
   "cell_type": "code",
   "execution_count": null,
   "id": "072b7c14",
   "metadata": {},
   "outputs": [],
   "source": [
    "await track_targets(rotator, velocities)"
   ]
  },
  {
   "cell_type": "code",
   "execution_count": null,
   "id": "700b8aac",
   "metadata": {},
   "outputs": [],
   "source": [
    "time_stop = script_log_stop(script, test_title, \"Baseline\")"
   ]
  },
  {
   "cell_type": "markdown",
   "id": "bd0c4873",
   "metadata": {},
   "source": [
    "### Second Time"
   ]
  },
  {
   "cell_type": "code",
   "execution_count": null,
   "id": "702b1849",
   "metadata": {},
   "outputs": [],
   "source": [
    "time_start = script_log_start(script, test_title, \"Baseline 2\")"
   ]
  },
  {
   "cell_type": "code",
   "execution_count": null,
   "id": "109868ee",
   "metadata": {},
   "outputs": [],
   "source": [
    "await track_targets(rotator, velocities)"
   ]
  },
  {
   "cell_type": "code",
   "execution_count": null,
   "id": "f122f515",
   "metadata": {},
   "outputs": [],
   "source": [
    "time_start = script_log_start(script, test_title, \"Baseline 2\")"
   ]
  },
  {
   "cell_type": "markdown",
   "id": "f657bb70",
   "metadata": {},
   "source": [
    "### Third Time"
   ]
  },
  {
   "cell_type": "code",
   "execution_count": null,
   "id": "76550e1a",
   "metadata": {},
   "outputs": [],
   "source": [
    "time_start = script_log_start(script, test_title, \"Baseline 3\")"
   ]
  },
  {
   "cell_type": "code",
   "execution_count": null,
   "id": "4dda7a05",
   "metadata": {},
   "outputs": [],
   "source": [
    "await track_targets(rotator, velocities)"
   ]
  },
  {
   "cell_type": "code",
   "execution_count": null,
   "id": "7545cff3",
   "metadata": {},
   "outputs": [],
   "source": [
    "time_stop = script_log_stop(script, test_title, \"Baseline 3\")"
   ]
  },
  {
   "cell_type": "code",
   "execution_count": null,
   "id": "2f0a45ea",
   "metadata": {},
   "outputs": [],
   "source": []
  }
 ],
 "metadata": {
  "kernelspec": {
   "display_name": "Python 3 (ipykernel)",
   "language": "python",
   "name": "python3"
  },
  "language_info": {
   "codemirror_mode": {
    "name": "ipython",
    "version": 3
   },
   "file_extension": ".py",
   "mimetype": "text/x-python",
   "name": "python",
   "nbconvert_exporter": "python",
   "pygments_lexer": "ipython3",
   "version": "3.7.3"
  }
 },
 "nbformat": 4,
 "nbformat_minor": 5
}
