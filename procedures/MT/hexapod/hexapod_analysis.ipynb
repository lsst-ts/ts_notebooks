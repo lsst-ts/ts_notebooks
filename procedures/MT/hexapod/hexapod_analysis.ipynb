{
 "cells": [
  {
   "cell_type": "markdown",
   "id": "b092bce8-8d2f-4095-aebd-80e5526dcc25",
   "metadata": {},
   "source": [
    "# Analysis of the Hexapod\n",
    "\n",
    "This notebook is to analyze the hexapod behaviour and do the debug, especially for the [FRACAS-110](https://jira.lsstcorp.org/browse/FRACAS-110) and [FRACAS-111](https://jira.lsstcorp.org/browse/FRACAS-111)."
   ]
  },
  {
   "cell_type": "markdown",
   "id": "1975f5dd-b65a-424c-ad99-03462c62da6b",
   "metadata": {},
   "source": [
    "## Import Modules\n",
    "\n",
    "This notebook needs to setup the **ts_aos_utils** under the **notebooks/.user_setups**."
   ]
  },
  {
   "cell_type": "code",
   "execution_count": null,
   "id": "82ed7455-c916-44e3-8b9e-66f45af68107",
   "metadata": {
    "tags": []
   },
   "outputs": [],
   "source": [
    "%matplotlib inline\n",
    "%matplotlib widget\n",
    "import matplotlib.pyplot as plt\n",
    "from pathlib import Path\n",
    "import numpy as np\n",
    "from astropy.time import Time\n",
    "\n",
    "from lsst.ts.aos.utils import DiagnosticsHexapod, EfdName"
   ]
  },
  {
   "cell_type": "markdown",
   "id": "c8924564-a238-4fe7-856a-436970e85c41",
   "metadata": {},
   "source": [
    "## Declaration of User-defined Functions"
   ]
  },
  {
   "cell_type": "code",
   "execution_count": null,
   "id": "5a32b8b9-ead7-4240-89d6-394b2e699eef",
   "metadata": {
    "tags": []
   },
   "outputs": [],
   "source": [
    "async def show_all_data(\n",
    "    diagnostics_hexapod: DiagnosticsHexapod,\n",
    "    time_start: Time,\n",
    "    time_end: Time,\n",
    "    bits_status_word: list[int] | None = None,\n",
    "    bits_application_status: list[int] | None = None,\n",
    ") -> None:\n",
    "    \"\"\"\n",
    "    Show all the data.\n",
    "\n",
    "    Parameters\n",
    "    ----------\n",
    "    diagnostics_hexapod : `lsst.ts.aos.utils.DiagnosticsHexapod`\n",
    "        Hexapod diagnostics instance.\n",
    "    time_start : `astropy.time.core.Time`\n",
    "        Start time.\n",
    "    time_end : `astropy.time.core.Time`\n",
    "        End time.\n",
    "    bits_status_word : `list` or None, optional\n",
    "        Interested bits of the status word (0x6041). (the default is None)\n",
    "    bits_application_status : `list` or None, optional\n",
    "        Interested bits of the application status. (the default is None)\n",
    "    \"\"\"\n",
    "\n",
    "    # Query data\n",
    "    data_application, time_operation_application = await diagnostics_hexapod.get_data_application(\n",
    "        time_start, time_end)\n",
    "    data_actuators, time_operation_actuators = await diagnostics_hexapod.get_data_actuators(\n",
    "        time_start, time_end)\n",
    "    data_electrical, time_operation_electrical = await diagnostics_hexapod.get_data_electrical(\n",
    "        time_start, time_end)\n",
    "\n",
    "    data_controller_state = await diagnostics_hexapod.get_data_controller_state(\n",
    "        time_start, time_end)\n",
    "\n",
    "    # Collect the bitmap\n",
    "    status_word = np.array(\n",
    "        [getattr(data_electrical, f\"copleyStatusWordDrive{idx}\")\n",
    "         for idx in range(diagnostics_hexapod.NUM_ACTUATOR)]\n",
    "    )\n",
    "    bitmap_status_word = diagnostics_hexapod.map_bit_value(status_word, 16)\n",
    "\n",
    "    # Draw the diagrams\n",
    "    diagnostics_hexapod.plot_hexapod_position(data_application, time_operation_application)\n",
    "    diagnostics_hexapod.plot_hexapod_position_error(data_application, time_operation_application)\n",
    "\n",
    "    diagnostics_hexapod.plot_actuator_position(data_actuators, time_operation_actuators)\n",
    "    diagnostics_hexapod.plot_actuator_position_error(data_actuators, time_operation_actuators)\n",
    "    diagnostics_hexapod.plot_actuator_position_velocity(data_actuators, time_operation_actuators)\n",
    "\n",
    "    diagnostics_hexapod.plot_actuator_current(data_electrical, time_operation_electrical)\n",
    "    diagnostics_hexapod.plot_bus_voltage(data_electrical, time_operation_electrical)\n",
    "    \n",
    "    if bits_status_word is not None:\n",
    "        for bit in bits_status_word:\n",
    "            diagnostics_hexapod.plot_actuator_bit(\n",
    "                time_operation_electrical,\n",
    "                bitmap_status_word, bit,\n",
    "                f\"Status Word (bit {bit})\",\n",
    "            )\n",
    "\n",
    "    if bits_application_status is not None:\n",
    "        for bit in bits_application_status:\n",
    "            diagnostics_hexapod.plot_application_status(\n",
    "                data_controller_state,\n",
    "                bit,\n",
    "                timestamp_origin=data_electrical.private_sndStamp[0],\n",
    "                title=f\"Application Status (bit {bit})\"\n",
    "            )"
   ]
  },
  {
   "cell_type": "markdown",
   "id": "43677020-7bcd-4feb-a885-b5247d877f1c",
   "metadata": {
    "execution": {
     "iopub.execute_input": "2023-09-26T18:40:27.422625Z",
     "iopub.status.busy": "2023-09-26T18:40:27.422259Z",
     "iopub.status.idle": "2023-09-26T18:40:27.428491Z",
     "shell.execute_reply": "2023-09-26T18:40:27.427450Z",
     "shell.execute_reply.started": "2023-09-26T18:40:27.422597Z"
    },
    "tags": []
   },
   "source": [
    "## Instantiate the DiagnosticsHexapod Class\n",
    "\n",
    "Notice that the UTC time is used when doing the query."
   ]
  },
  {
   "cell_type": "code",
   "execution_count": null,
   "id": "55ca5598-35d0-45c6-989b-c65c5cd57631",
   "metadata": {
    "tags": []
   },
   "outputs": [],
   "source": [
    "diagnostics_hexapod = DiagnosticsHexapod(is_camera_hexapod=True, efd_name=EfdName.Usdf)"
   ]
  },
  {
   "cell_type": "markdown",
   "id": "66e4acc9-6f6c-4fd8-a72c-c712db692202",
   "metadata": {},
   "source": [
    "## Check the Data"
   ]
  },
  {
   "cell_type": "code",
   "execution_count": null,
   "id": "e07e47e3-fb0b-4015-9626-609a90832169",
   "metadata": {
    "tags": []
   },
   "outputs": [],
   "source": [
    "time_start = Time(\"2023-09-06T21:47:00\", scale=\"utc\", format=\"isot\")\n",
    "time_end = Time(\"2023-09-06T21:55:40\", scale=\"utc\", format=\"isot\")"
   ]
  },
  {
   "cell_type": "code",
   "execution_count": null,
   "id": "3c65bfb5-8280-4827-9a53-276a12234a6b",
   "metadata": {
    "tags": []
   },
   "outputs": [],
   "source": [
    "await show_all_data(\n",
    "    diagnostics_hexapod,\n",
    "    time_start, time_end,\n",
    "    bits_status_word=[7, 8, 11, 13],\n",
    "    bits_application_status=[0, 13],\n",
    ")"
   ]
  },
  {
   "cell_type": "code",
   "execution_count": null,
   "id": "e0a729cc-d1ba-4f52-99ff-22adb7876d15",
   "metadata": {},
   "outputs": [],
   "source": []
  },
  {
   "cell_type": "code",
   "execution_count": null,
   "id": "e8ec619d-694a-49bd-9bb4-e733a62ffcf6",
   "metadata": {
    "tags": []
   },
   "outputs": [],
   "source": [
    "plt.close(\"all\")"
   ]
  },
  {
   "cell_type": "code",
   "execution_count": null,
   "id": "df2b8e91-f5e0-44fe-8c82-f60362cba935",
   "metadata": {},
   "outputs": [],
   "source": []
  }
 ],
 "metadata": {
  "kernelspec": {
   "display_name": "LSST",
   "language": "python",
   "name": "lsst"
  },
  "language_info": {
   "codemirror_mode": {
    "name": "ipython",
    "version": 3
   },
   "file_extension": ".py",
   "mimetype": "text/x-python",
   "name": "python",
   "nbconvert_exporter": "python",
   "pygments_lexer": "ipython3",
   "version": "3.11.4"
  }
 },
 "nbformat": 4,
 "nbformat_minor": 5
}
