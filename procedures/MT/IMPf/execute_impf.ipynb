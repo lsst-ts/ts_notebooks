{
 "cells": [
  {
   "cell_type": "markdown",
   "id": "e5821672-666e-4c92-aed8-f61e3d4a584c",
   "metadata": {},
   "source": [
    "# Integration Milestone Pf\n",
    "\n",
    "This notebooks executes IMpf.\n",
    "Details about the milestone, execution and verification can be found in [tstn-031](https://tstn-031.lsst.io).\n",
    "\n",
    "Keep in mind that in this execution we are more interested in the control flow, making sure that the expected data is published by the CSC, rather than validating that the data makes sense.\n",
    "Analysing the data and verifying that it has the expected values is a somewhat more involved tasks and requires some knowledge of the details of the [wavefront estimatimation pipeline](https://ts-wep.lsst.io) and the [optical feedback control](https://ts-ofc.lsst.io) algorithm.\n",
    "These will, most likely, be part of a separate activity."
   ]
  },
  {
   "cell_type": "code",
   "execution_count": null,
   "id": "96044d13-ef87-42b7-8ea2-1c1c016eb1c6",
   "metadata": {},
   "outputs": [],
   "source": [
    "import os\n",
    "import copy\n",
    "import yaml\n",
    "import asyncio\n",
    "import logging\n",
    "\n",
    "import numpy as np\n",
    "import matplotlib.pyplot as plt\n",
    "\n",
    "from lsst.ts import salobj\n",
    "from lsst.ts import idl\n",
    "from lsst.ts import utils\n",
    "\n",
    "from lsst.ts.observatory.control.maintel import MTCS, ComCam\n",
    "from lsst.ts.observatory.control.utils.enums import RotType"
   ]
  },
  {
   "cell_type": "markdown",
   "id": "de4f2531-8a0d-446d-a136-177feda1cd77",
   "metadata": {},
   "source": [
    "---\n",
    "---\n",
    "## Basic definitions\n",
    "\n",
    "This section defines the basic SAL communication and control classes that are used to drive the system."
   ]
  },
  {
   "cell_type": "code",
   "execution_count": null,
   "id": "46b8e6b5-e206-46d9-ad7b-b74cc87efd9b",
   "metadata": {},
   "outputs": [],
   "source": [
    "STD_TIMEOUT=5"
   ]
  },
  {
   "cell_type": "code",
   "execution_count": null,
   "id": "b43ff3a1-c940-4379-96bb-a7ef4550afbb",
   "metadata": {},
   "outputs": [],
   "source": [
    "domain = salobj.Domain()"
   ]
  },
  {
   "cell_type": "code",
   "execution_count": null,
   "id": "4661f6b0-f7a8-43be-8993-9283ccbb2fa8",
   "metadata": {
    "tags": []
   },
   "outputs": [],
   "source": [
    "mtcs = MTCS(domain)"
   ]
  },
  {
   "cell_type": "code",
   "execution_count": null,
   "id": "c56ede4e-c8a0-4334-a725-66f0fe153bed",
   "metadata": {},
   "outputs": [],
   "source": [
    "mtcs.set_rem_loglevel(logging.ERROR+1)"
   ]
  },
  {
   "cell_type": "code",
   "execution_count": null,
   "id": "01c42535-6285-4124-8c63-bd0d9b3bb311",
   "metadata": {},
   "outputs": [],
   "source": [
    "await mtcs.start_task"
   ]
  },
  {
   "cell_type": "markdown",
   "id": "9acae211-433e-4e43-b55a-aa431de7f81c",
   "metadata": {},
   "source": [
    "---\n",
    "---\n",
    "## Setting up the system\n",
    "\n",
    "In order to execute the IM we need to make sure the MTCS components are in ENABLED state, that M1M3 is raised and the force balance system is enabled in both M1M3 and M2.\n",
    "We also want to enable the compensation mode on both the Camera and M2 Hexapods, though this is not strickly required.\n"
   ]
  },
  {
   "cell_type": "markdown",
   "id": "1fcd0105-d808-486c-82ad-9f3ef0d081c4",
   "metadata": {},
   "source": [
    "---\n",
    "### Enable all MTCS components\n",
    "\n",
    "The following cell will make sure all MTCS components are in enabled state."
   ]
  },
  {
   "cell_type": "code",
   "execution_count": null,
   "id": "a7365fa5-7ef8-4c2f-b88e-69b8a2b153d0",
   "metadata": {},
   "outputs": [],
   "source": [
    "await mtcs.enable(settings=dict(mtm1m3=\"Default\"))"
   ]
  },
  {
   "cell_type": "markdown",
   "id": "7d07d1de-dedf-4530-90d9-68f6acc82063",
   "metadata": {},
   "source": [
    "---\n",
    "### Setup M1M3\n",
    "\n",
    "The following cells will raise M1M3, switch on the force balance system and reset the forces.\n",
    "We make sure to reset the forces so that we know the system is in the standard state, without any additional forces applied by previous users."
   ]
  },
  {
   "cell_type": "code",
   "execution_count": null,
   "id": "1ab63fce-7630-4192-8265-e22fd094b77d",
   "metadata": {},
   "outputs": [],
   "source": [
    "await mtcs.raise_m1m3()"
   ]
  },
  {
   "cell_type": "code",
   "execution_count": null,
   "id": "769f3a3b-a58c-46a6-a0af-6e63360dc950",
   "metadata": {},
   "outputs": [],
   "source": [
    "await mtcs.enable_m1m3_balance_system()"
   ]
  },
  {
   "cell_type": "code",
   "execution_count": null,
   "id": "ab3ca8f5-623a-4a16-97c4-b130fa853e86",
   "metadata": {},
   "outputs": [],
   "source": [
    "await mtcs.reset_m1m3_forces()"
   ]
  },
  {
   "cell_type": "markdown",
   "id": "555a438e-d640-4d73-b967-a17914c8586f",
   "metadata": {},
   "source": [
    "---\n",
    "### Setup M2\n",
    "\n",
    "The following cells will enabled the force balance system and reset the forces on M2.\n",
    "As with M1M3, we reset the forces to make sure the sustem is in the standard state, without any additional forces applied by previous users."
   ]
  },
  {
   "cell_type": "code",
   "execution_count": null,
   "id": "a4a2bd0a-9d91-4fee-ae11-9844f1211612",
   "metadata": {},
   "outputs": [],
   "source": [
    "await mtcs.enable_m2_balance_system()"
   ]
  },
  {
   "cell_type": "code",
   "execution_count": null,
   "id": "4aafeb07-4324-49bc-94da-f95529d3baae",
   "metadata": {},
   "outputs": [],
   "source": [
    "await mtcs.reset_m2_forces()"
   ]
  },
  {
   "cell_type": "markdown",
   "id": "9f8a29d0-aaa7-4863-ae15-5d8b0d9d5635",
   "metadata": {},
   "source": [
    "---\n",
    "### Setup Camera Hexapod\n",
    "\n",
    "The following cells will enable compensation mode and reset the position of the Camera Hexapod."
   ]
  },
  {
   "cell_type": "code",
   "execution_count": null,
   "id": "3f78ad21-5f0c-4c76-8dc7-67c329c468f0",
   "metadata": {},
   "outputs": [],
   "source": [
    "await mtcs.enable_compensation_mode(\"mthexapod_1\")"
   ]
  },
  {
   "cell_type": "code",
   "execution_count": null,
   "id": "c9bda03a-9583-4e43-a6a8-f3581b035d97",
   "metadata": {},
   "outputs": [],
   "source": [
    "await mtcs.reset_camera_hexapod_position()"
   ]
  },
  {
   "cell_type": "markdown",
   "id": "e4a6a2c4-b719-434b-8438-cd593bb94d22",
   "metadata": {},
   "source": [
    "---\n",
    "### Setup M2 Hexapod\n",
    "\n",
    "The following cells will enable compensation mode and reset the position of the M2 Hexapod."
   ]
  },
  {
   "cell_type": "code",
   "execution_count": null,
   "id": "cdee74b5-2155-43a3-871b-0b7daeb82dd4",
   "metadata": {},
   "outputs": [],
   "source": [
    "await mtcs.enable_compensation_mode(\"mthexapod_2\")"
   ]
  },
  {
   "cell_type": "code",
   "execution_count": null,
   "id": "74c4d92a-11c9-437f-9f53-60012ff35944",
   "metadata": {},
   "outputs": [],
   "source": [
    "await mtcs.reset_m2_hexapod_position()"
   ]
  },
  {
   "cell_type": "markdown",
   "id": "75d33621-ad0e-4e0d-aa87-def82ad5afc2",
   "metadata": {},
   "source": [
    "---\n",
    "### Setup MTAOS\n",
    "\n",
    "To execute IMpf we need to load a special configuration on the MTAOS.\n",
    "This configuration will make sure the MTAOS is reading data from a butler instance that was previously prepared for the test, and will also make sure the MTAOS is configured for processing LSSTCam Corner Wavefront Sensor data.\n",
    "\n",
    "We start the process by first sending the MTAOS to STANDBY then sending it back to ENABLED with the required configuration."
   ]
  },
  {
   "cell_type": "code",
   "execution_count": null,
   "id": "615dab49-eecc-4464-9cf8-28ce326ff766",
   "metadata": {},
   "outputs": [],
   "source": [
    "await mtcs.set_state(\n",
    "    state=salobj.State.STANDBY,\n",
    "    components=[\"mtaos\"]\n",
    ")"
   ]
  },
  {
   "cell_type": "code",
   "execution_count": null,
   "id": "c93754b8-8f1e-44fa-928c-13d8ecdec1fa",
   "metadata": {},
   "outputs": [],
   "source": [
    "await mtcs.set_state(\n",
    "    state=salobj.State.ENABLED,\n",
    "    settings=dict(mtaos=\"impf\"),\n",
    "    components=[\"mtaos\"]\n",
    ")"
   ]
  },
  {
   "cell_type": "markdown",
   "id": "8004624c-950c-4f15-b4ff-38bf6eedb549",
   "metadata": {},
   "source": [
    "We also set the CSC log level to DEBUG, so we can debug the wep processing steps."
   ]
  },
  {
   "cell_type": "code",
   "execution_count": null,
   "id": "897f51e4-6c23-4255-8f98-36fced9c12cd",
   "metadata": {},
   "outputs": [],
   "source": [
    "await mtcs.rem.mtaos.cmd_setLogLevel.set_start(\n",
    "    level=logging.DEBUG,\n",
    "    timeout=5\n",
    ")"
   ]
  },
  {
   "cell_type": "markdown",
   "id": "7527d357-270d-4f68-87a5-a5a56ba7b2ef",
   "metadata": {},
   "source": [
    "---\n",
    "---\n",
    "## Processing data with runWEP command\n",
    "\n",
    "Processing data throught the MTAOS requires sending the command `runWEP` to the component.\n",
    "The command accepts a yaml configuration that is used to control how the wep pipeline executes.\n",
    "We also need to provide the id of the visit to process.\n",
    "\n",
    "For reference we will also estimate the time it takes for the command to complete, though it is worth mentioning that this information is also published by the CSC.\n"
   ]
  },
  {
   "cell_type": "code",
   "execution_count": null,
   "id": "afec3708-fb66-4294-ada3-e0e56a0321e4",
   "metadata": {},
   "outputs": [],
   "source": [
    "wep_config = yaml.safe_dump(\n",
    "    {\n",
    "                \"tasks\": {\n",
    "                    \"generateDonutCatalogWcsTask\": {\n",
    "                        \"config\": {\n",
    "                              \"connections.refCatalogs\": 'ps1_pv3_3pi_20170110',\n",
    "                              \"filterName\": 'g',\n",
    "                              \"referenceSelector.doMagLimit\": True,\n",
    "                              \"referenceSelector.magLimit.maximum\": 15.90,\n",
    "                              \"referenceSelector.magLimit.minimum\": 8.74,\n",
    "                              \"referenceSelector.magLimit.fluxField\": 'g_flux',\n",
    "                              \"doDonutSelection\": True,\n",
    "                              \"donutSelector.fluxField\": 'g_flux',                            \n",
    "                        }\n",
    "                    }\n",
    "                }\n",
    "            }\n",
    ")"
   ]
  },
  {
   "cell_type": "markdown",
   "id": "27a7aeac-4dbb-4761-b2b6-cc2d6db81caa",
   "metadata": {},
   "source": [
    "Before executing the command, let's clear the events we will want to check afterwards.\n",
    "This is mostly to make sure there are no previous events in the queue that could affect the verification process afterward."
   ]
  },
  {
   "cell_type": "code",
   "execution_count": null,
   "id": "25a4f790-59fb-4f74-9055-0ef87e68cba2",
   "metadata": {},
   "outputs": [],
   "source": [
    "mtcs.rem.mtaos.evt_wavefrontError.flush()\n",
    "mtcs.rem.mtaos.evt_wepDuration.flush()"
   ]
  },
  {
   "cell_type": "code",
   "execution_count": null,
   "id": "6c4cdbd3-6838-488f-977e-92c4f324e964",
   "metadata": {},
   "outputs": [],
   "source": [
    "start_time = utils.current_tai()\n",
    "await mtcs.rem.mtaos.cmd_runWEP.set_start(\n",
    "    visitId=4021123110021,\n",
    "    config=wep_config,\n",
    ")\n",
    "end_time = utils.current_tai()"
   ]
  },
  {
   "cell_type": "code",
   "execution_count": null,
   "id": "cfe1f0f7-a903-4561-bd45-9c3e6594ce62",
   "metadata": {},
   "outputs": [],
   "source": [
    "print(f\"Execution took {end_time-start_time}s\")"
   ]
  },
  {
   "cell_type": "markdown",
   "id": "e91e502d-8db5-4e90-aebe-7d22612f3e97",
   "metadata": {},
   "source": [
    "---\n",
    "### Verify output\n",
    "\n",
    "To verify the execution we will check the `wepDuration` and `wavefrontError`. The first one contains the measured execution time done by the CSC whereas the second contains a set events with the result of the wavefront estimation pipeline.\n",
    "\n",
    "The CSC publishes one sample of `wavefrontError` for each pair of donuts processed, so there are a number of events published.\n"
   ]
  },
  {
   "cell_type": "code",
   "execution_count": null,
   "id": "58b38bba-7380-4074-b436-ad79af67475f",
   "metadata": {},
   "outputs": [],
   "source": [
    "print(await mtcs.rem.mtaos.evt_wepDuration.next(flush=False, timeout=STD_TIMEOUT))"
   ]
  },
  {
   "cell_type": "markdown",
   "id": "37039601-f7cf-4249-aaa3-effe9a3793e8",
   "metadata": {},
   "source": [
    "----\n",
    "\n",
    "The next cell will loop over the events and save the results to a list so we can plot them afterwards."
   ]
  },
  {
   "cell_type": "code",
   "execution_count": null,
   "id": "4e75a60d-8e23-4d9a-9908-a5d1eab5ab81",
   "metadata": {
    "tags": []
   },
   "outputs": [],
   "source": [
    "wavefront_errors = []\n",
    "\n",
    "while True:\n",
    "    try:\n",
    "        wfe = await mtcs.rem.mtaos.evt_wavefrontError.next(flush=False, timeout=1)\n",
    "        wavefront_errors.append(wfe)\n",
    "    except Exception:\n",
    "        break"
   ]
  },
  {
   "cell_type": "code",
   "execution_count": null,
   "id": "30af19b8-47d2-46f7-b14a-389753659b7d",
   "metadata": {},
   "outputs": [],
   "source": [
    "for wfe in wavefront_errors:\n",
    "    plt.plot(wfe.annularZernikeCoeff)"
   ]
  },
  {
   "cell_type": "code",
   "execution_count": null,
   "id": "17a5a770-4a67-4349-a808-6f6e80a7e9d2",
   "metadata": {},
   "outputs": [],
   "source": [
    "print(wavefront_errors[0])"
   ]
  },
  {
   "cell_type": "markdown",
   "id": "c8c2b0c7-47e6-4b27-ba96-7b8c9cab07ef",
   "metadata": {},
   "source": [
    "---\n",
    "---\n",
    "## Run OFC\n",
    "\n",
    "Once the wavefront estimatimation pipeline is complete, we can compute the associated corrections.\n",
    "\n",
    "This is done as a separate step to allow users to inspect the zernike coeffients and decide if they want to continue computing the corrections, and later, apply those corrections (also as a separate step)."
   ]
  },
  {
   "cell_type": "code",
   "execution_count": null,
   "id": "de8f6bae-4c84-454b-865b-b4084c5aad12",
   "metadata": {},
   "outputs": [],
   "source": [
    "mtcs.rem.mtaos.evt_degreeOfFreedom.flush()\n",
    "mtcs.rem.mtaos.evt_m2HexapodCorrection.flush()\n",
    "mtcs.rem.mtaos.evt_cameraHexapodCorrection.flush()\n",
    "mtcs.rem.mtaos.evt_m1m3Correction.flush()\n",
    "mtcs.rem.mtaos.evt_m2Correction.flush()\n",
    "mtcs.rem.mtaos.evt_ofcDuration.flush()"
   ]
  },
  {
   "cell_type": "code",
   "execution_count": null,
   "id": "60864388-08ff-4cc3-82b4-288aa1ff169d",
   "metadata": {},
   "outputs": [],
   "source": [
    "await mtcs.rem.mtaos.cmd_runOFC.start()"
   ]
  },
  {
   "cell_type": "code",
   "execution_count": null,
   "id": "7d83f41a-1b5d-4543-942d-089f39714d6e",
   "metadata": {},
   "outputs": [],
   "source": [
    "print(await mtcs.rem.mtaos.evt_ofcDuration.next(flush=False, timeout=STD_TIMEOUT))"
   ]
  },
  {
   "cell_type": "markdown",
   "id": "f93d13f4-382e-406a-8446-0b8ad63fcafa",
   "metadata": {},
   "source": [
    "---\n",
    "### Degrees of Freedom\n"
   ]
  },
  {
   "cell_type": "code",
   "execution_count": null,
   "id": "9ee58365-ac6d-46b6-b2bd-e158e5e28304",
   "metadata": {},
   "outputs": [],
   "source": [
    "dof = await mtcs.rem.mtaos.evt_degreeOfFreedom.next(flush=False, timeout=STD_TIMEOUT)"
   ]
  },
  {
   "cell_type": "code",
   "execution_count": null,
   "id": "136934cd-e8c9-4170-b248-fd3e6aabb01d",
   "metadata": {},
   "outputs": [],
   "source": [
    "comp_dof_idx = dict(\n",
    "            m2HexPos=dict(\n",
    "                startIdx=0,\n",
    "                idxLength=5,\n",
    "                state0name=\"M2Hexapod\",\n",
    "            ),\n",
    "            camHexPos=dict(\n",
    "                startIdx=5,\n",
    "                idxLength=5,\n",
    "                state0name=\"cameraHexapod\",\n",
    "            ),\n",
    "            M1M3Bend=dict(\n",
    "                startIdx=10, idxLength=20, state0name=\"M1M3Bending\", rot_mat=1.0\n",
    "            ),\n",
    "            M2Bend=dict(startIdx=30, idxLength=20, state0name=\"M2Bending\", rot_mat=1.0),\n",
    "        )"
   ]
  },
  {
   "cell_type": "code",
   "execution_count": null,
   "id": "45524b0f-04b2-48a4-8597-530be15fefda",
   "metadata": {},
   "outputs": [],
   "source": [
    "fig, axes = plt.subplots(2,2, figsize=(10,6))\n",
    "\n",
    "axes[0][0].plot(\n",
    "    dof.aggregatedDoF[\n",
    "        comp_dof_idx[\"m2HexPos\"][\"startIdx\"]:\n",
    "        comp_dof_idx[\"m2HexPos\"][\"startIdx\"]+comp_dof_idx[\"m2HexPos\"][\"idxLength\"]\n",
    "    ]\n",
    ")\n",
    "axes[0][0].set_title(\"M2 Hexapod DoF\")\n",
    "axes[0][0].set_xlabel(\"axis\")\n",
    "axes[0][0].set_ylabel(\"dof\")\n",
    "\n",
    "axes[0][1].plot(\n",
    "    dof.aggregatedDoF[\n",
    "        comp_dof_idx[\"camHexPos\"][\"startIdx\"]:\n",
    "        comp_dof_idx[\"camHexPos\"][\"startIdx\"]+comp_dof_idx[\"camHexPos\"][\"idxLength\"]\n",
    "    ]\n",
    ")\n",
    "\n",
    "axes[0][1].set_title(\"Camera Hexapod DoF\")\n",
    "axes[0][1].set_xlabel(\"axis\")\n",
    "axes[0][1].set_ylabel(\"dof\")\n",
    "\n",
    "axes[1][0].plot(\n",
    "    dof.aggregatedDoF[\n",
    "        comp_dof_idx[\"M2Bend\"][\"startIdx\"]:\n",
    "        comp_dof_idx[\"M2Bend\"][\"startIdx\"]+comp_dof_idx[\"M2Bend\"][\"idxLength\"]\n",
    "    ]\n",
    ")\n",
    "axes[1][0].set_title(\"M2 DoF\")\n",
    "axes[1][0].set_xlabel(\"axis\")\n",
    "axes[1][0].set_ylabel(\"dof\")\n",
    "\n",
    "\n",
    "axes[1][1].plot(\n",
    "    dof.aggregatedDoF[\n",
    "        comp_dof_idx[\"M1M3Bend\"][\"startIdx\"]:\n",
    "        comp_dof_idx[\"M1M3Bend\"][\"startIdx\"]+comp_dof_idx[\"M1M3Bend\"][\"idxLength\"]\n",
    "    ]\n",
    ")\n",
    "axes[1][1].set_title(\"M1M3 DoF\")\n",
    "axes[1][1].set_xlabel(\"axis\")\n",
    "axes[1][1].set_ylabel(\"dof\")\n",
    "\n",
    "fig.patch.set_facecolor('white')\n",
    "plt.subplots_adjust(hspace=0.4, wspace=0.3)\n"
   ]
  },
  {
   "cell_type": "markdown",
   "id": "37b33c36-cc50-4ca1-98f4-dfc18328a5fa",
   "metadata": {},
   "source": [
    "---\n",
    "### M2 Hexapod Corrections"
   ]
  },
  {
   "cell_type": "code",
   "execution_count": null,
   "id": "1d67a4ec-a3ad-474d-8e02-83faa1af6011",
   "metadata": {},
   "outputs": [],
   "source": [
    "m2_hex = await mtcs.rem.mtaos.evt_m2HexapodCorrection.next(flush=False, timeout=STD_TIMEOUT)"
   ]
  },
  {
   "cell_type": "code",
   "execution_count": null,
   "id": "b9be50dc-84c4-4fa1-9101-99cb0a5cd4f6",
   "metadata": {},
   "outputs": [],
   "source": [
    "fig = plt.figure(figsize=(6,8))\n",
    "\n",
    "axis = []\n",
    "for panel, label in enumerate(\"xyz\"):\n",
    "\n",
    "    ax = plt.subplot(2,3,panel+1)\n",
    "    \n",
    "    x = [0.]\n",
    "\n",
    "    ax.bar(\n",
    "        [0.0],\n",
    "        getattr(m2_hex, label),\n",
    "        width=0.5\n",
    "    )\n",
    "    ax.set_xticks([0])\n",
    "    ax.set_xticklabels([label])\n",
    "    axis.append(ax)\n",
    "    ax.set_ylim(-20,20)\n",
    "    if panel > 0:\n",
    "        ax.set_yticklabels([])\n",
    "\n",
    "axis[0].set_ylabel(\"Position (micron)\")\n",
    "\n",
    "for panel, label in enumerate(\"uv\"):\n",
    "\n",
    "    ax = plt.subplot(2,2,panel+3)\n",
    "    \n",
    "    x = [0.]\n",
    "\n",
    "    ax.bar(    \n",
    "        [0.],\n",
    "        getattr(m2_hex, label)*60.*60.,\n",
    "        width=0.5\n",
    "    )\n",
    "\n",
    "    ax.set_xticks([0])\n",
    "    ax.set_xticklabels([label])\n",
    "    axis.append(ax)\n",
    "    ax.set_ylim(-4.5,4.5)\n",
    "    if panel > 0:\n",
    "        ax.set_yticklabels([])\n",
    "\n",
    "axis[3].set_ylabel(\"Position (arcsec)\")\n",
    "plt.subplots_adjust(wspace=0.)\n",
    "fig.patch.set_facecolor('white')\n"
   ]
  },
  {
   "cell_type": "markdown",
   "id": "e90271db-75e9-4a77-9cd3-97a312f4f4b3",
   "metadata": {},
   "source": [
    "---\n",
    "### Camera Hexapod Corrections"
   ]
  },
  {
   "cell_type": "code",
   "execution_count": null,
   "id": "95515025-dc24-4ea0-851b-a7081edfe698",
   "metadata": {},
   "outputs": [],
   "source": [
    "cam_hex = await mtcs.rem.mtaos.evt_cameraHexapodCorrection.next(flush=False, timeout=STD_TIMEOUT)"
   ]
  },
  {
   "cell_type": "code",
   "execution_count": null,
   "id": "a4556477-10c5-40d2-819c-01c409b9821c",
   "metadata": {},
   "outputs": [],
   "source": [
    "fig = plt.figure(figsize=(6,8))\n",
    "\n",
    "axis = []\n",
    "for panel, label in enumerate(\"xyz\"):\n",
    "\n",
    "    ax = plt.subplot(2,3,panel+1)\n",
    "    \n",
    "    x = [0.]\n",
    "\n",
    "    ax.bar(\n",
    "        [0.0],\n",
    "        getattr(cam_hex, label),\n",
    "        width=0.5\n",
    "    )\n",
    "    ax.set_xticks([0])\n",
    "    ax.set_xticklabels([label])\n",
    "    if panel > 0:\n",
    "        ax.set_yticklabels([])\n",
    "    axis.append(ax)\n",
    "    ax.set_ylim(-65,65)\n",
    "    \n",
    "axis[0].set_ylabel(\"Position (micron)\")\n",
    "\n",
    "for panel, label in enumerate(\"uv\"):\n",
    "\n",
    "    ax = plt.subplot(2,2,panel+3)\n",
    "    \n",
    "    x = [0.]\n",
    "\n",
    "    ax.bar(    \n",
    "        [0.],\n",
    "        getattr(cam_hex, label)*60.*60.,\n",
    "        width=0.5\n",
    "    )\n",
    "\n",
    "    ax.set_xticks([0])\n",
    "    ax.set_xticklabels([label])\n",
    "    axis.append(ax)\n",
    "    ax.set_ylim(-7.5,7.5)\n",
    "    if panel > 0:\n",
    "        ax.set_yticklabels([])\n",
    "\n",
    "\n",
    "    \n",
    "axis[3].set_ylabel(\"Position (arcsec)\")\n",
    "plt.subplots_adjust(wspace=0.)\n",
    "\n",
    "fig.patch.set_facecolor('white')\n",
    "\n"
   ]
  },
  {
   "cell_type": "markdown",
   "id": "4690c3f7-3834-4cba-b134-1c56a2d76c6b",
   "metadata": {},
   "source": [
    "---\n",
    "### M1M3 Corrections"
   ]
  },
  {
   "cell_type": "code",
   "execution_count": null,
   "id": "5c4c06ac-5c36-475c-b6e4-f105b481f411",
   "metadata": {},
   "outputs": [],
   "source": [
    "m1m3 = await mtcs.rem.mtaos.evt_m1m3Correction.next(flush=False, timeout=STD_TIMEOUT)"
   ]
  },
  {
   "cell_type": "code",
   "execution_count": null,
   "id": "de6f7a11-fab8-4ad1-9ba4-c8ae9cec4324",
   "metadata": {
    "jupyter": {
     "source_hidden": true
    },
    "tags": []
   },
   "outputs": [],
   "source": [
    "m1m3_xact = np.array([ 0.77678278,  1.44256799,  2.10837793,  2.77418799,  3.43999805,\n",
    "        3.96801294,  0.44386499,  1.10967505,  1.77548499,  2.4412959 ,\n",
    "        3.10708008,  3.77289111,  0.        ,  0.77678278,  1.44256799,\n",
    "        2.10837793,  2.77418799,  3.43999805,  3.9005    ,  0.44386499,\n",
    "        1.10967505,  1.77548499,  2.44127002,  3.10708008,  3.72445288,\n",
    "        0.        ,  0.77678278,  1.44256799,  2.10837793,  2.77418799,\n",
    "        3.3879541 ,  0.44386499,  1.10967505,  1.77548499,  2.44127002,\n",
    "        2.93936401,  0.22194521,  0.88772998,  1.55354004,  2.08973389,\n",
    "        0.36573459,  1.08508801,  1.60401001, -0.44386499, -1.10968005,\n",
    "       -1.77548999, -2.44130005, -3.10708008, -3.77288989, -0.77678302,\n",
    "       -1.44256995, -2.10837988, -2.77418994, -3.44      , -3.9005    ,\n",
    "       -0.44386499, -1.10968005, -1.77548999, -2.44127002, -3.10708008,\n",
    "       -3.72444995, -0.77678302, -1.44256995, -2.10837988, -2.77418994,\n",
    "       -3.38794995, -0.44386499, -1.10968005, -1.77548999, -2.44127002,\n",
    "       -2.93936011, -0.22194501, -0.88772998, -1.55354004, -2.08972998,\n",
    "       -0.36573499, -1.08508997, -1.60401001, -0.77678302, -1.44256995,\n",
    "       -2.10837988, -2.77418994, -3.44      , -3.96801001, -0.44386499,\n",
    "       -1.10968005, -1.77548999, -2.44130005, -3.10708008, -3.77288989,\n",
    "        0.        , -0.77678302, -1.44256995, -2.10837988, -2.77418994,\n",
    "       -3.44      , -3.9005    , -0.44386499, -1.10968005, -1.77548999,\n",
    "       -2.44127002, -3.10708008, -3.72444995,  0.        , -0.77678302,\n",
    "       -1.44256995, -2.10837988, -2.77418994, -3.38794995, -0.44386499,\n",
    "       -1.10968005, -1.77548999, -2.44127002, -2.93936011, -0.22194501,\n",
    "       -0.88772998, -1.55354004, -2.08972998, -0.36573499, -1.08508997,\n",
    "       -1.60401001,  0.44386499,  1.10967505,  1.77548499,  2.4412959 ,\n",
    "        3.10708008,  3.77289111,  0.77678278,  1.44256799,  2.10837793,\n",
    "        2.77418799,  3.43999805,  3.9005    ,  0.44386499,  1.10967505,\n",
    "        1.77548499,  2.44127002,  3.10708008,  3.72445288,  0.77678278,\n",
    "        1.44256799,  2.10837793,  2.77418799,  3.3879541 ,  0.44386499,\n",
    "        1.10967505,  1.77548499,  2.44127002,  2.93936401,  0.22194521,\n",
    "        0.88772998,  1.55354004,  2.08973389,  0.36573459,  1.08508801,\n",
    "        1.60401001])\n",
    "m1m3_yact = np.array([ 0.        ,  0.        ,  0.        ,  0.        ,  0.        ,\n",
    "        0.        , -0.57660498, -0.57660498, -0.57660498, -0.57660498,\n",
    "       -0.57660498, -0.57660498, -1.15320996, -1.15320996, -1.15320996,\n",
    "       -1.15320996, -1.15320996, -1.15320996, -0.99768701, -1.72981995,\n",
    "       -1.72981995, -1.72981995, -1.72981995, -1.72981995, -1.51794995,\n",
    "       -2.30641992, -2.30641992, -2.30641992, -2.30641992, -2.30641992,\n",
    "       -2.16740991, -2.88303003, -2.88303003, -2.88303003, -2.88303003,\n",
    "       -2.74517993, -3.45962988, -3.45962988, -3.26742993, -3.43638989,\n",
    "       -4.00525   , -3.87276001, -3.69278003, -0.57660498, -0.57660498,\n",
    "       -0.57660498, -0.57660498, -0.57660498, -0.57660498, -1.15320996,\n",
    "       -1.15320996, -1.15320996, -1.15320996, -1.15320996, -0.99768701,\n",
    "       -1.72981995, -1.72981995, -1.72981995, -1.72981995, -1.72981995,\n",
    "       -1.51794995, -2.30641992, -2.30641992, -2.30641992, -2.30641992,\n",
    "       -2.16740991, -2.88303003, -2.88303003, -2.88303003, -2.88303003,\n",
    "       -2.74517993, -3.45962988, -3.45962988, -3.26742993, -3.43638989,\n",
    "       -4.00525   , -3.87276001, -3.69278003,  0.        ,  0.        ,\n",
    "        0.        ,  0.        ,  0.        ,  0.        ,  0.57660541,\n",
    "        0.57660541,  0.57660541,  0.57660541,  0.57660541,  0.57660541,\n",
    "        1.15321106,  1.15321106,  1.15321106,  1.15321106,  1.15321106,\n",
    "        1.15321106,  0.99768658,  1.72981604,  1.72981604,  1.72981604,\n",
    "        1.72981604,  1.72981604,  1.51795496,  2.30642212,  2.30642212,\n",
    "        2.30642212,  2.30642212,  2.30642212,  2.16740698,  2.8830271 ,\n",
    "        2.8830271 ,  2.8830271 ,  2.8830271 ,  2.74518091,  3.45963208,\n",
    "        3.45963208,  3.26743091,  3.43639111,  4.00525   ,  3.87276294,\n",
    "        3.69277905,  0.57660541,  0.57660541,  0.57660541,  0.57660541,\n",
    "        0.57660541,  0.57660541,  1.15321106,  1.15321106,  1.15321106,\n",
    "        1.15321106,  1.15321106,  0.99768658,  1.72981604,  1.72981604,\n",
    "        1.72981604,  1.72981604,  1.72981604,  1.51795496,  2.30642212,\n",
    "        2.30642212,  2.30642212,  2.30642212,  2.16740698,  2.8830271 ,\n",
    "        2.8830271 ,  2.8830271 ,  2.8830271 ,  2.74518091,  3.45963208,\n",
    "        3.45963208,  3.26743091,  3.43639111,  4.00525   ,  3.87276294,\n",
    "        3.69277905])"
   ]
  },
  {
   "cell_type": "code",
   "execution_count": null,
   "id": "e21312fc-1fb3-4aaa-8b4c-404a1e1b3242",
   "metadata": {},
   "outputs": [],
   "source": [
    "fig, axes = plt.subplots(1,1, figsize=(6,6))\n",
    "\n",
    "img = axes.scatter(\n",
    "    m1m3_xact, \n",
    "    m1m3_yact, \n",
    "    c=m1m3.zForces, \n",
    "    s=100, \n",
    "    vmin=-30, \n",
    "    vmax=30\n",
    ")\n",
    "\n",
    "axes.axis('equal')\n",
    "axes.set_title('M1M3 applied forces')\n",
    "fig.colorbar(img, ax=axes)    "
   ]
  },
  {
   "cell_type": "markdown",
   "id": "24e689b1-eafb-4de3-b00d-f110e587f29a",
   "metadata": {},
   "source": [
    "---\n",
    "### M2 Corrections"
   ]
  },
  {
   "cell_type": "code",
   "execution_count": null,
   "id": "6386c168-3277-4e75-a68f-596ccff7c9af",
   "metadata": {},
   "outputs": [],
   "source": [
    "m2 = await mtcs.rem.mtaos.evt_m2Correction.next(flush=False, timeout=STD_TIMEOUT)"
   ]
  },
  {
   "cell_type": "code",
   "execution_count": null,
   "id": "33c74f3c-04ae-4c7e-8585-e0802b2f9493",
   "metadata": {
    "jupyter": {
     "source_hidden": true
    },
    "tags": []
   },
   "outputs": [],
   "source": [
    "m2_xact = -np.array([-1.601    , -1.566014 , -1.462585 , -1.295237 , -1.071278 ,\n",
    "       -0.8005013, -0.4947361, -0.1673502,  0.1673502,  0.4947361,\n",
    "        0.8005013,  1.071278 ,  1.295237 ,  1.462585 ,  1.566014 ,\n",
    "        1.601    ,  1.566014 ,  1.462585 ,  1.295237 ,  1.071278 ,\n",
    "        0.8005013,  0.4947361,  0.1673502, -0.1673502, -0.4947361,\n",
    "       -0.8005013, -1.071278 , -1.295237 , -1.462585 , -1.566014 ,\n",
    "       -1.273    , -1.186249 , -1.018657 , -0.7816469, -0.4913655,\n",
    "       -0.1676011,  0.1675856,  0.4913528,  0.7816342,  1.018647 ,\n",
    "        1.186244 ,  1.272997 ,  1.273    ,  1.186249 ,  1.018657 ,\n",
    "        0.7816469,  0.4913655,  0.1676011, -0.1675856, -0.4913528,\n",
    "       -0.7816342, -1.018647 , -1.186244 , -1.272997 , -1.002    ,\n",
    "       -0.9415729, -0.7675778, -0.5009998, -0.1739956,  0.1739956,\n",
    "        0.5009998,  0.7675778,  0.9415729,  1.002    ,  0.9415729,\n",
    "        0.7675778,  0.5009998,  0.1739956, -0.1739956, -0.5009998,\n",
    "       -0.7675778, -0.9415729])\n",
    "m2_yact = -np.array([-1.333500e-16, -3.328670e-01, -6.511849e-01, -9.410446e-01,\n",
    "       -1.189774e+00, -1.386507e+00, -1.522641e+00, -1.592229e+00,\n",
    "       -1.592229e+00, -1.522641e+00, -1.386507e+00, -1.189774e+00,\n",
    "       -9.410446e-01, -6.511849e-01, -3.328670e-01,  0.000000e+00,\n",
    "        3.328670e-01,  6.511849e-01,  9.410446e-01,  1.189774e+00,\n",
    "        1.386507e+00,  1.522641e+00,  1.592229e+00,  1.592229e+00,\n",
    "        1.522641e+00,  1.386507e+00,  1.189774e+00,  9.410446e-01,\n",
    "        6.511849e-01,  3.328670e-01, -1.675856e-01, -4.913528e-01,\n",
    "       -7.816342e-01, -1.018647e+00, -1.186244e+00, -1.272997e+00,\n",
    "       -1.273000e+00, -1.186249e+00, -1.018657e+00, -7.816469e-01,\n",
    "       -4.913655e-01, -1.676011e-01,  1.675856e-01,  4.913528e-01,\n",
    "        7.816342e-01,  1.018647e+00,  1.186244e+00,  1.272997e+00,\n",
    "        1.273000e+00,  1.186249e+00,  1.018657e+00,  7.816469e-01,\n",
    "        4.913655e-01,  1.676011e-01,  3.893820e-16, -3.427044e-01,\n",
    "       -6.440729e-01, -8.677580e-01, -9.867773e-01, -9.867773e-01,\n",
    "       -8.677580e-01, -6.440729e-01, -3.427044e-01,  0.000000e+00,\n",
    "        3.427044e-01,  6.440729e-01,  8.677580e-01,  9.867773e-01,\n",
    "        9.867773e-01,  8.677580e-01,  6.440729e-01,  3.427044e-01])\n"
   ]
  },
  {
   "cell_type": "code",
   "execution_count": null,
   "id": "802f8897-94b8-48ee-a6f6-ab58998fca9f",
   "metadata": {},
   "outputs": [],
   "source": [
    "fig, axes = plt.subplots(1,1, figsize=(6,6))\n",
    "\n",
    "img = axes.scatter(\n",
    "    m2_xact, \n",
    "    m2_yact, \n",
    "    c=m2.zForces, \n",
    "    s=200, \n",
    "    vmin=-10.0, \n",
    "    vmax=10.0\n",
    ")\n",
    "\n",
    "axes.axis('equal')\n",
    "\n",
    "fig.colorbar(img, ax=axes)\n",
    "\n",
    "fig.patch.set_facecolor('white')\n",
    "axes.set_title(\n",
    "    \"M2 Corrections\", \n",
    ")\n"
   ]
  },
  {
   "cell_type": "markdown",
   "id": "0e74d1d9-cec9-4dba-9ad1-119b9446bc6a",
   "metadata": {},
   "source": [
    "---\n",
    "---\n",
    "## Issue correction\n",
    "\n",
    "After processing is completed we can issue the correction to the AOS components.\n",
    "This will cause the MTAOS to send commands to the M1M3, M2, Camera Hexapod and M2 Hexapod.\n",
    "\n",
    "If the command fails, make sure all the components above are in enable state. It will also fail if M1M3 is not raised, so make sure you have executed the steps in [Setup M1M3](#Setup-M1M3)."
   ]
  },
  {
   "cell_type": "code",
   "execution_count": null,
   "id": "4e80e26d-6b79-4f86-92df-54968ff83bef",
   "metadata": {},
   "outputs": [],
   "source": [
    "await mtcs.rem.mtaos.cmd_issueCorrection.start()"
   ]
  },
  {
   "cell_type": "markdown",
   "id": "0be405b1-1d2b-49b4-92e9-8966d870e383",
   "metadata": {},
   "source": [
    "---\n",
    "---\n",
    "Finalizing\n",
    "==========\n",
    "\n",
    "Once the test is complete you may to reset the system to its original state.\n",
    "\n",
    "This in general mean, reseting the forces on M1M3 and M2, the offsets in the Camera and M2 Hexapods and re-configuring the MTAOS with the original configuration.\n",
    "\n",
    "Nonte that there is also a step to lower m1m3.\n",
    "If you intend to continue exercicing the system, you may want to sky this step, especially if executing at the summit.\n",
    "\n",
    "The following cells will execute this procedure, and leave the system in ENABLED state, which is the default for TTS and in general when executing continuous tests at the summit as well. "
   ]
  },
  {
   "cell_type": "markdown",
   "id": "9a6d881e-6116-44cd-8033-98e8b4798de0",
   "metadata": {},
   "source": [
    "---\n",
    "### Reset M1M3\n"
   ]
  },
  {
   "cell_type": "code",
   "execution_count": null,
   "id": "7d2f774c-f1cd-4aa0-a759-427a219d62c3",
   "metadata": {},
   "outputs": [],
   "source": [
    "await mtcs.reset_m1m3_forces()"
   ]
  },
  {
   "cell_type": "markdown",
   "id": "3f53170a-e5ad-4bd1-84ea-2a30baac9798",
   "metadata": {},
   "source": [
    "<div class=\"alert alert-block alert-warning\">\n",
    "Skip this next cell if you plan to continue using the system for other tests.\n",
    "</div>"
   ]
  },
  {
   "cell_type": "code",
   "execution_count": null,
   "id": "e96eaf96-bebc-40b8-931d-1aa0612cefc4",
   "metadata": {},
   "outputs": [],
   "source": [
    "await mtcs.lower_m1m3()"
   ]
  },
  {
   "cell_type": "markdown",
   "id": "e785c4cb-0705-4f52-a7f1-5e4041def8e0",
   "metadata": {},
   "source": [
    "---\n",
    "### Reset M2\n"
   ]
  },
  {
   "cell_type": "code",
   "execution_count": null,
   "id": "46faf70c-41e7-4e80-8de0-027f14d8877c",
   "metadata": {},
   "outputs": [],
   "source": [
    "await mtcs.reset_m2_forces()"
   ]
  },
  {
   "cell_type": "markdown",
   "id": "be917d3d-6017-4450-954e-9247769168cc",
   "metadata": {},
   "source": [
    "---\n",
    "### Reset Camera Hexapod\n"
   ]
  },
  {
   "cell_type": "code",
   "execution_count": null,
   "id": "c9c52836-be99-4674-ab93-ee3db5fd04b4",
   "metadata": {},
   "outputs": [],
   "source": [
    "await mtcs.reset_camera_hexapod_position()"
   ]
  },
  {
   "cell_type": "markdown",
   "id": "e3f55e4a-f3d6-4ee4-b22f-0b1633fd083b",
   "metadata": {},
   "source": [
    "---\n",
    "### Reset M2 Hexapod\n",
    "\n",
    "The following cells will enable compensation mode and reset the position of the M2 Hexapod."
   ]
  },
  {
   "cell_type": "code",
   "execution_count": null,
   "id": "72097fd9-ee0e-4097-a205-3cc16f2425b0",
   "metadata": {},
   "outputs": [],
   "source": [
    "await mtcs.reset_m2_hexapod_position()"
   ]
  },
  {
   "cell_type": "markdown",
   "id": "fa905093-8f6b-44de-894c-7a4c13bdd0a4",
   "metadata": {},
   "source": [
    "---\n",
    "### Reset MTAOS\n",
    "\n",
    "To execute IMpf we need to load a special configuration on the MTAOS.\n",
    "This configuration will make sure the MTAOS is reading data from a butler instance that was previously prepared for the test, and will also make sure the MTAOS is configured for processing LSSTCam Corner Wavefront Sensor data.\n",
    "\n",
    "We start the process by first sending the MTAOS to STANDBY then sending it back to ENABLED with the required configuration."
   ]
  },
  {
   "cell_type": "code",
   "execution_count": null,
   "id": "77dc19ae-c9c7-4fc2-8329-cd1105265e0f",
   "metadata": {},
   "outputs": [],
   "source": [
    "await mtcs.set_state(\n",
    "    state=salobj.State.STANDBY,\n",
    "    components=[\"mtaos\"]\n",
    ")"
   ]
  },
  {
   "cell_type": "code",
   "execution_count": null,
   "id": "05185082-70ae-4fb2-a49e-0d993a44579f",
   "metadata": {},
   "outputs": [],
   "source": [
    "await mtcs.set_state(\n",
    "    state=salobj.State.ENABLED,\n",
    "    components=[\"mtaos\"]\n",
    ")"
   ]
  }
 ],
 "metadata": {
  "kernelspec": {
   "display_name": "LSST",
   "language": "python",
   "name": "lsst"
  },
  "language_info": {
   "codemirror_mode": {
    "name": "ipython",
    "version": 3
   },
   "file_extension": ".py",
   "mimetype": "text/x-python",
   "name": "python",
   "nbconvert_exporter": "python",
   "pygments_lexer": "ipython3",
   "version": "3.8.12"
  }
 },
 "nbformat": 4,
 "nbformat_minor": 5
}
