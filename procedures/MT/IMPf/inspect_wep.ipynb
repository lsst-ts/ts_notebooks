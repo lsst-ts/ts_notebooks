{
 "cells": [
  {
   "cell_type": "markdown",
   "id": "694d7dcb-16fb-4b47-b13e-14a6abbfb34f",
   "metadata": {},
   "source": [
    "# Inspect WEP\n",
    "\n",
    "This notebook is part of the Integration Milestone pf, which involves processing LSSTCam corner wavefront sensor data with the MTAOS and issuing correction to the AOS components.\n",
    "\n",
    "This notebook is designed to inspect the results of the WEP execution by inspecting the data stored in the butler.\n",
    "\n",
    "Details about the milestone, execution and verification can be found in [tstn-031](https://tstn-031.lsst.io)."
   ]
  },
  {
   "cell_type": "code",
   "execution_count": null,
   "id": "502d4bdc-2dd2-41b9-ab85-c210b4363f9f",
   "metadata": {},
   "outputs": [],
   "source": [
    "import numpy as np \n",
    "import os \n",
    "\n",
    "from lsst.daf import butler as dafButler\n",
    "import lsst.afw.cameraGeom.utils as cameraGeomUtils\n",
    "import lsst.afw.display as afwDisplay\n",
    "import matplotlib.pyplot as plt\n",
    "from matplotlib import rcParams \n",
    "from astropy.io import fits\n",
    "from astropy.visualization import ZScaleInterval\n",
    "\n"
   ]
  },
  {
   "cell_type": "code",
   "execution_count": null,
   "id": "cfbf1952-b828-4b52-8dac-0521a1a7493d",
   "metadata": {},
   "outputs": [],
   "source": [
    "instrument = \"LSSTCam\"\n",
    "repo_dir = \"/scratch/IM_Pf/LSSTCam\""
   ]
  },
  {
   "cell_type": "code",
   "execution_count": null,
   "id": "65eb0d76-63ed-4816-b895-f99ab59affbc",
   "metadata": {},
   "outputs": [],
   "source": [
    "mtaos_run = \"mtaos_wep_tribeiro_nb_tribeiro_20220304T234403714\""
   ]
  },
  {
   "cell_type": "code",
   "execution_count": null,
   "id": "779afecc-e744-4ad3-9e12-ee1d06b6e688",
   "metadata": {},
   "outputs": [],
   "source": [
    "butler = dafButler.Butler(\n",
    "    repo_dir, \n",
    "    collections=[\n",
    "        f\"{instrument}/raw/all\",\n",
    "        mtaos_run,\n",
    "    ],\n",
    ")"
   ]
  },
  {
   "cell_type": "code",
   "execution_count": null,
   "id": "9e64d431-c1a2-454e-b3bb-e4528e2b4051",
   "metadata": {},
   "outputs": [],
   "source": [
    "exp_num = 4021123110021"
   ]
  },
  {
   "cell_type": "markdown",
   "id": "7157780f-094a-4f3e-adbf-76e3b9123164",
   "metadata": {},
   "source": [
    "## Corner Wavefront Sensors and Source Selection\n",
    "\n",
    "The following is a display of the post-isr corner wavefront sensor data overlaid with the positions of the selected sources."
   ]
  },
  {
   "cell_type": "code",
   "execution_count": null,
   "id": "09835f08-80b6-4b65-a9a8-93771f169e65",
   "metadata": {},
   "outputs": [],
   "source": [
    "fig, ax = plt.subplots(4, 2, figsize=(12,12))\n",
    "\n",
    "for index, detector in enumerate(\n",
    "    [\n",
    "    'R00_SW0',\n",
    "    'R00_SW1',\n",
    "    'R04_SW0',\n",
    "    'R04_SW1',\n",
    "    'R40_SW0',\n",
    "    'R40_SW1',\n",
    "    'R44_SW0',\n",
    "    'R44_SW1'\n",
    "    ]\n",
    "):\n",
    "    \n",
    "    post_isr_exposure = butler.get(\n",
    "        \"postISRCCD\", \n",
    "        detector=detector, \n",
    "        instrument=instrument,\n",
    "        exposure=exp_num,\n",
    "        collections=[mtaos_run],\n",
    "    )\n",
    "    \n",
    "    donut_catalog = butler.get(\n",
    "        \"donutCatalog\", \n",
    "        detector=detector, \n",
    "        instrument=instrument,\n",
    "        visit=exp_num,\n",
    "        collections=[mtaos_run],\n",
    "    )\n",
    "    \n",
    "    data = post_isr_exposure.image.array\n",
    "    \n",
    "    zscale = ZScaleInterval()\n",
    "    \n",
    "    vmin, vmax = zscale.get_limits(data)\n",
    "    \n",
    "    line = int(np.floor(index / 2))\n",
    "    column = index % 2\n",
    "\n",
    "\n",
    "    ax[line][column].imshow(\n",
    "        post_isr_exposure.image.array,\n",
    "        vmin=vmin,\n",
    "        vmax=vmax,\n",
    "        cmap=\"Greys\",\n",
    "        origin=\"lower\"\n",
    "    )\n",
    "    \n",
    "    ax[line][column].scatter(\n",
    "        donut_catalog[\"centroid_x\"],\n",
    "        donut_catalog[\"centroid_y\"],\n",
    "    )\n",
    "\n",
    "    ax[line][column].set_title(f\"{post_isr_exposure.getDetector().getName()}\")\n",
    "    \n",
    "    if line == 3:\n",
    "        ax[line][column].set_xlabel(\"x [px]\")\n",
    "    \n",
    "    if column == 0:\n",
    "        ax[line][column].set_ylabel(\"y [px]\")\n",
    "    \n",
    "    if column == 1:\n",
    "        ax[line][column].set_yticklabels([])\n",
    "    \n",
    "    if line < 3:\n",
    "        ax[line][column].set_xticklabels([])\n",
    "        \n",
    "fig.suptitle(\n",
    "    f\"{instrument} Corner Wavefront Sensors\",\n",
    "    fontsize=18\n",
    ")\n",
    "plt.subplots_adjust(wspace=0.)"
   ]
  },
  {
   "cell_type": "markdown",
   "id": "665216c8-c8f3-4cb9-bcd7-b68a36ea1173",
   "metadata": {},
   "source": [
    "## Average Zernike Values\n",
    "\n",
    "The following is a plot of the resulting wavefront errors averaged for each corner wavefront sensor."
   ]
  },
  {
   "cell_type": "code",
   "execution_count": null,
   "id": "2ea2e42d-c785-4cab-8873-fcfd47aa92a6",
   "metadata": {},
   "outputs": [],
   "source": [
    "fig, ax = plt.subplots(1, 1)\n",
    "\n",
    "for detector in [191, 195, 199, 203]:\n",
    "    zernike_estimate_avg = butler.get(\n",
    "        \"zernikeEstimateAvg\", \n",
    "        detector=detector, \n",
    "        instrument=instrument,\n",
    "        visit=exp_num,\n",
    "        collections=[mtaos_run],\n",
    "    )\n",
    "    ax.plot(zernike_estimate_avg)\n",
    "\n",
    "x_ticks = np.arange(0, 19, 2)\n",
    "ax.set_xticks(x_ticks)\n",
    "ax.set_xticklabels([f\"z{index+1}\" for index in x_ticks])\n",
    "ax.set_xlabel(\"Zernike coeff\")\n",
    "\n",
    "ax.grid(linestyle=\":\")"
   ]
  },
  {
   "cell_type": "code",
   "execution_count": null,
   "id": "36d3782b-7925-44bd-869f-bb539a826a6b",
   "metadata": {},
   "outputs": [],
   "source": []
  }
 ],
 "metadata": {
  "kernelspec": {
   "display_name": "LSST",
   "language": "python",
   "name": "lsst"
  },
  "language_info": {
   "codemirror_mode": {
    "name": "ipython",
    "version": 3
   },
   "file_extension": ".py",
   "mimetype": "text/x-python",
   "name": "python",
   "nbconvert_exporter": "python",
   "pygments_lexer": "ipython3",
   "version": "3.8.12"
  }
 },
 "nbformat": 4,
 "nbformat_minor": 5
}
