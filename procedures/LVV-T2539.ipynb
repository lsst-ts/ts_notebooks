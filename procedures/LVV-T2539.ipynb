{
 "cells": [
  {
   "cell_type": "markdown",
   "id": "57810e69-aae0-4056-8bf9-e2746384b9bf",
   "metadata": {},
   "source": [
    "# [LVV-T2539](https://jira.lsstcorp.org/secure/Tests.jspa#/testCase/LVV-T2539)\n",
    "\n",
    "Determine the Rotator's motors torques before and after applying an intentional shift on the center of gravity.  \n",
    "For that, we will move the Rotator from 0$^o$ to +/-90$^o$ in a single movement.  \n",
    "We will take a basiline measurements with the Center of Gravity aligned with the Center of Rotation.  \n",
    "Then we install 102.8 Lbs (46.6 Kg) at the bottom of ComCam and repeat the test.  \n",
    "Use the plots to compare the torques.\n",
    "\n",
    "The current weight of ComCam is 6890 lbs (3125.251 kg) without the new counter-weights.  \n",
    "The new counter weights are about 80 cm below the center of Rotation.  \n",
    "This gives us an approximated torque of 372 N.m.  "
   ]
  },
  {
   "cell_type": "code",
   "execution_count": 1,
   "id": "0990b4c1-5db2-47df-907b-92736cf5c64b",
   "metadata": {
    "execution": {
     "iopub.execute_input": "2022-03-09T14:45:45.499232Z",
     "iopub.status.busy": "2022-03-09T14:45:45.499101Z",
     "iopub.status.idle": "2022-03-09T14:45:45.509136Z",
     "shell.execute_reply": "2022-03-09T14:45:45.508316Z",
     "shell.execute_reply.started": "2022-03-09T14:45:45.499192Z"
    },
    "tags": []
   },
   "outputs": [
    {
     "data": {
      "text/plain": [
       "372.05440000000004"
      ]
     },
     "execution_count": 1,
     "metadata": {},
     "output_type": "execute_result"
    }
   ],
   "source": [
    "46.6 * 9.98 * 0.8"
   ]
  },
  {
   "cell_type": "code",
   "execution_count": 2,
   "id": "8f2be9c1-219e-41de-b050-cb0a405f0885",
   "metadata": {
    "execution": {
     "iopub.execute_input": "2022-03-09T14:45:45.511776Z",
     "iopub.status.busy": "2022-03-09T14:45:45.511664Z",
     "iopub.status.idle": "2022-03-09T14:45:45.518329Z",
     "shell.execute_reply": "2022-03-09T14:45:45.515580Z",
     "shell.execute_reply.started": "2022-03-09T14:45:45.511762Z"
    }
   },
   "outputs": [
    {
     "ename": "SyntaxError",
     "evalue": "leading zeros in decimal integer literals are not permitted; use an 0o prefix for octal integers (3629092364.py, line 1)",
     "output_type": "error",
     "traceback": [
      "\u001b[0;36m  Input \u001b[0;32mIn [2]\u001b[0;36m\u001b[0m\n\u001b[0;31m    11:01 - bottle of water\u001b[0m\n\u001b[0m        ^\u001b[0m\n\u001b[0;31mSyntaxError\u001b[0m\u001b[0;31m:\u001b[0m leading zeros in decimal integer literals are not permitted; use an 0o prefix for octal integers\n"
     ]
    }
   ],
   "source": [
    "11:01 - bottle of water\n",
    "11:03 - 10.6 Lb plate"
   ]
  },
  {
   "cell_type": "code",
   "execution_count": 3,
   "id": "b473880a-b0ab-4a29-bf5e-23357589857d",
   "metadata": {
    "execution": {
     "iopub.execute_input": "2022-03-09T14:45:51.387735Z",
     "iopub.status.busy": "2022-03-09T14:45:51.387450Z",
     "iopub.status.idle": "2022-03-09T14:45:51.390826Z",
     "shell.execute_reply": "2022-03-09T14:45:51.390450Z",
     "shell.execute_reply.started": "2022-03-09T14:45:51.387717Z"
    },
    "tags": []
   },
   "outputs": [
    {
     "data": {
      "text/plain": [
       "414.3696"
      ]
     },
     "execution_count": 3,
     "metadata": {},
     "output_type": "execute_result"
    }
   ],
   "source": [
    "(46.6 + 5.3) * 9.98 * 0.8"
   ]
  },
  {
   "cell_type": "code",
   "execution_count": 4,
   "id": "23435538-d5a2-4b2d-b6b8-956c45d63c09",
   "metadata": {
    "execution": {
     "iopub.execute_input": "2022-03-09T14:45:51.569004Z",
     "iopub.status.busy": "2022-03-09T14:45:51.568608Z",
     "iopub.status.idle": "2022-03-09T14:45:51.571781Z",
     "shell.execute_reply": "2022-03-09T14:45:51.571428Z",
     "shell.execute_reply.started": "2022-03-09T14:45:51.568988Z"
    },
    "tags": []
   },
   "outputs": [
    {
     "data": {
      "text/plain": [
       "-0.011753389424660868"
      ]
     },
     "execution_count": 4,
     "metadata": {},
     "output_type": "execute_result"
    }
   ],
   "source": [
    "(3125.251 * 0 - 46.6 * 0.8) / (3125.251 + 46.6)"
   ]
  },
  {
   "cell_type": "markdown",
   "id": "842bc2ae-70dd-41db-9c10-5a5c66a4907f",
   "metadata": {},
   "source": [
    "## Start Up"
   ]
  },
  {
   "cell_type": "code",
   "execution_count": 5,
   "id": "10a95567-8f3b-4420-b8cc-bf055186a6bf",
   "metadata": {
    "execution": {
     "iopub.execute_input": "2022-03-09T14:45:52.589965Z",
     "iopub.status.busy": "2022-03-09T14:45:52.589692Z",
     "iopub.status.idle": "2022-03-09T14:45:52.618009Z",
     "shell.execute_reply": "2022-03-09T14:45:52.617601Z",
     "shell.execute_reply.started": "2022-03-09T14:45:52.589947Z"
    },
    "tags": []
   },
   "outputs": [],
   "source": [
    "%load_ext autoreload\n",
    "%autoreload 2"
   ]
  },
  {
   "cell_type": "code",
   "execution_count": 6,
   "id": "f8dbe0b2-941f-437d-9eb8-c6e3e481cb1a",
   "metadata": {
    "execution": {
     "iopub.execute_input": "2022-03-09T14:45:52.937113Z",
     "iopub.status.busy": "2022-03-09T14:45:52.936852Z",
     "iopub.status.idle": "2022-03-09T14:45:52.984347Z",
     "shell.execute_reply": "2022-03-09T14:45:52.983944Z",
     "shell.execute_reply.started": "2022-03-09T14:45:52.937096Z"
    },
    "tags": []
   },
   "outputs": [
    {
     "name": "stderr",
     "output_type": "stream",
     "text": [
      "/tmp/ipykernel_23355/1665379685.py:2: DeprecationWarning: Call to deprecated function (or staticmethod) get_node. (Please use lsst.rsp.get_node())\n",
      "  nb.utils.get_node()\n"
     ]
    },
    {
     "data": {
      "text/plain": [
       "'yagan06'"
      ]
     },
     "execution_count": 6,
     "metadata": {},
     "output_type": "execute_result"
    }
   ],
   "source": [
    "import rubin_jupyter_utils.lab.notebook as nb\n",
    "nb.utils.get_node()"
   ]
  },
  {
   "cell_type": "code",
   "execution_count": 7,
   "id": "3cc711bc-6c9c-4799-9451-ea0f31a5a5d3",
   "metadata": {
    "execution": {
     "iopub.execute_input": "2022-03-09T14:45:53.299783Z",
     "iopub.status.busy": "2022-03-09T14:45:53.299320Z",
     "iopub.status.idle": "2022-03-09T14:45:54.290370Z",
     "shell.execute_reply": "2022-03-09T14:45:54.289919Z",
     "shell.execute_reply.started": "2022-03-09T14:45:53.299763Z"
    },
    "tags": []
   },
   "outputs": [
    {
     "data": {
      "text/html": [
       "<pre style=\"margin: 0.1em;\n",
       "padding-left: 0.25em;\n",
       "border-left-style: solid;\n",
       "font-family: var(--jp-code-font-family);\n",
       "font-size: var(--jp-code-font-size);\n",
       "line-height: var(--jp-code-line-height);\n",
       "\"><span style=\"color: var(--jp-warn-color2)\">lsst.ts.utils.tai</span> <span style=\"color: var(--jp-info-color0)\">INFO</span>: Update leap second table</pre>"
      ],
      "text/plain": [
       "<IPython.core.display.HTML object>"
      ]
     },
     "metadata": {},
     "output_type": "display_data"
    },
    {
     "data": {
      "text/html": [
       "<pre style=\"margin: 0.1em;\n",
       "padding-left: 0.25em;\n",
       "border-left-style: solid;\n",
       "font-family: var(--jp-code-font-family);\n",
       "font-size: var(--jp-code-font-size);\n",
       "line-height: var(--jp-code-line-height);\n",
       "\"><span style=\"color: var(--jp-warn-color2)\">lsst.ts.utils.tai</span> <span style=\"color: var(--jp-info-color0)\">INFO</span>: current_tai uses the system TAI clock</pre>"
      ],
      "text/plain": [
       "<IPython.core.display.HTML object>"
      ]
     },
     "metadata": {},
     "output_type": "display_data"
    }
   ],
   "source": [
    "%matplotlib inline\n",
    "import asyncio\n",
    "import logging\n",
    "import os\n",
    "import sys\n",
    "\n",
    "import numpy as np\n",
    "import matplotlib.dates as mdates\n",
    "import matplotlib.pyplot as plt\n",
    "import matplotlib.ticker as mticker\n",
    "\n",
    "import os\n",
    "import pandas as pd\n",
    "\n",
    "from astropy.time import Time\n",
    "from datetime import datetime\n",
    "from scipy.signal import argrelextrema\n",
    "\n",
    "from lsst.ts import salobj\n",
    "from lsst.ts.observatory.control.maintel.mtcs import MTCS"
   ]
  },
  {
   "cell_type": "code",
   "execution_count": 8,
   "id": "88cb4832-fe40-4af7-883d-2a91aa7e10c1",
   "metadata": {
    "execution": {
     "iopub.execute_input": "2022-03-09T14:45:54.291301Z",
     "iopub.status.busy": "2022-03-09T14:45:54.291181Z",
     "iopub.status.idle": "2022-03-09T14:45:54.321625Z",
     "shell.execute_reply": "2022-03-09T14:45:54.321222Z",
     "shell.execute_reply.started": "2022-03-09T14:45:54.291286Z"
    }
   },
   "outputs": [],
   "source": [
    "summit = 1 #use this for summit testing\n",
    "# summit = 0 #use this for NCSA"
   ]
  },
  {
   "cell_type": "markdown",
   "id": "b90408dd-8f4a-41e0-9517-0e331dad768f",
   "metadata": {
    "tags": []
   },
   "source": [
    "## Helper Functions"
   ]
  },
  {
   "cell_type": "markdown",
   "id": "6cfc8563-a53a-434c-ad79-5a1c0393ee52",
   "metadata": {},
   "source": [
    "### Retrieve EFD Client\n",
    "\n",
    "First of all, the notebook will have different behavior if we run at the Summit or at the NCSA TestSand (NTS) (or other simulated environments). This function simply wraps this difference."
   ]
  },
  {
   "cell_type": "code",
   "execution_count": 9,
   "id": "35778905-dd04-477a-8b34-f59e50bc0977",
   "metadata": {
    "execution": {
     "iopub.execute_input": "2022-03-09T14:45:55.324359Z",
     "iopub.status.busy": "2022-03-09T14:45:55.324083Z",
     "iopub.status.idle": "2022-03-09T14:45:55.355084Z",
     "shell.execute_reply": "2022-03-09T14:45:55.354654Z",
     "shell.execute_reply.started": "2022-03-09T14:45:55.324342Z"
    },
    "tags": []
   },
   "outputs": [],
   "source": [
    "def retrieve_efd_client(is_at_summit=True):\n",
    "    \"\"\"\n",
    "    Retrieves a client to the Engireering Facility Database. \n",
    "    \n",
    "    Parameters\n",
    "    ----------\n",
    "    is_at_summit : bool, optional\n",
    "        If this notebook runs at the Summit, returns a client that connect to \n",
    "        the Summit EFD. Otherwhice, results the NCSA TestSand (NST) EFD.\n",
    "    \n",
    "    Returns\n",
    "    -------\n",
    "    EfdClient : the interface object between Nublado and the Summit or NST EFD.\n",
    "    \"\"\"\n",
    "    from lsst_efd_client import EfdClient\n",
    "    \n",
    "    c = EfdClient('summit_efd') if is_at_summit \\\n",
    "        else EfdClient('ncsa_teststand_efd') \n",
    "        \n",
    "    return c"
   ]
  },
  {
   "cell_type": "markdown",
   "id": "9491942a-421a-44b8-9611-f887351c0113",
   "metadata": {},
   "source": [
    "### Retrieve Data from EFD\n",
    "\n",
    "Second, we want to analyse the motors torques at different angles. For that, we can either use the Binary Logs generated by the MTRotator EUI or we can get the data directly from the EFD, which is much easier. The following function retrieves the data from the EFD."
   ]
  },
  {
   "cell_type": "code",
   "execution_count": 10,
   "id": "c984e358-7e36-434f-9df2-724c356a36b4",
   "metadata": {
    "execution": {
     "iopub.execute_input": "2022-03-09T14:45:56.025007Z",
     "iopub.status.busy": "2022-03-09T14:45:56.024730Z",
     "iopub.status.idle": "2022-03-09T14:45:56.056729Z",
     "shell.execute_reply": "2022-03-09T14:45:56.056290Z",
     "shell.execute_reply.started": "2022-03-09T14:45:56.024989Z"
    },
    "tags": []
   },
   "outputs": [],
   "source": [
    "async def retrieve_rotator_angle_and_torques_from_efd(client, start, end):\n",
    "    \"\"\"\n",
    "    Retrieves the Rotator Angle and the Motors torques from the EFD.\n",
    "    \n",
    "    Parameters\n",
    "    ----------\n",
    "    client : EfdClient\n",
    "        Interface that allows querying data from the EFD.\n",
    "    start : datetime string\n",
    "        ISOT Time in UTC associated to the start of the data.\n",
    "    end : datetime string\n",
    "        ISOT Time in UTC associated to the end of the data.\n",
    "        \n",
    "    Returns\n",
    "    -------\n",
    "    _df : DataFrame\n",
    "        Table containing the queried data.\n",
    "    \"\"\"\n",
    "    _df_rotator = await client.select_time_series(\n",
    "        'lsst.sal.MTRotator.rotation', \n",
    "        fields='actualPosition', \n",
    "        start=start, \n",
    "        end=end)\n",
    "\n",
    "    _df_motor1 = await client.select_time_series(\n",
    "        \"lsst.sal.MTRotator.motors\", \n",
    "        fields='torque0', \n",
    "        start=start, \n",
    "        end=end)\n",
    "\n",
    "    _df_motor2 = await client.select_time_series(\n",
    "        \"lsst.sal.MTRotator.motors\", \n",
    "        fields='torque1', \n",
    "        start=start, \n",
    "        end=end)\n",
    "\n",
    "    _df = pd.merge(_df_rotator, _df_motor1, left_index=True, right_index=True)\n",
    "    _df = pd.merge(_df, _df_motor2, left_index=True, right_index=True)\n",
    "    _df = _df.dropna()\n",
    "    \n",
    "    return _df"
   ]
  },
  {
   "cell_type": "markdown",
   "id": "1c0f423a-8892-44d4-a308-cd06a215d7a9",
   "metadata": {},
   "source": [
    "### Plot Rotator Angle And Torques"
   ]
  },
  {
   "cell_type": "code",
   "execution_count": 11,
   "id": "b787f529-d88c-4d36-b0a9-6529cad9f752",
   "metadata": {
    "execution": {
     "iopub.execute_input": "2022-03-09T14:45:56.763858Z",
     "iopub.status.busy": "2022-03-09T14:45:56.763583Z",
     "iopub.status.idle": "2022-03-09T14:45:56.799359Z",
     "shell.execute_reply": "2022-03-09T14:45:56.798964Z",
     "shell.execute_reply.started": "2022-03-09T14:45:56.763840Z"
    },
    "tags": []
   },
   "outputs": [],
   "source": [
    "def plot_rotator_angle_and_torques(_df, filename=None):\n",
    "    \"\"\"\n",
    "    Every time that we have the Rotator stopped at a given angle, we have that \n",
    "    :math:`\\tau_{M1} + \\tau_{M2} + \\tau_{CM} = 0`. If the center of mass is at \n",
    "    the center of the rotation, :math:`\\tau_{CM} = 0`, meaning that \n",
    "    :math:`\\tau_{M1} = - \\tau_{M2}`. \n",
    "    \n",
    "    This plot should be used to identify if and when :math:`\\tau_{CM} = 0`.\n",
    "    \n",
    "    The left y-axis shows the motor torques in N.m while the right y-axis shows \n",
    "    the rotator angle in degrees. \n",
    "    \n",
    "    Parameters\n",
    "    ----------\n",
    "    _df : DataFrame\n",
    "    filename : str\n",
    "    \"\"\"\n",
    "    _df = _df.copy()\n",
    "    _df[\"torque_sum\"] = _df[\"torque0\"] + _df[\"torque1\"]\n",
    "    \n",
    "    fig, ax = plt.subplots(\n",
    "        figsize=(12,6), \n",
    "        num=f'Torques and Rotator Position Angle - {filename}')\n",
    "\n",
    "    ax.plot(_df.index, \n",
    "            _df['torque0'].rolling(50).mean(), \n",
    "            label='Actual Torque Axis 1')\n",
    "\n",
    "    ax.plot(_df.index, \n",
    "            _df['torque1'].rolling(50).mean(), \n",
    "            label='Actual Torque Axis 2')\n",
    "    \n",
    "    ax.plot(_df.index, \n",
    "            _df['torque_sum'].rolling(50).mean(), \n",
    "            label='Actual Torque Axis 2')\n",
    "    \n",
    "    ax.set_ylabel('Actual Torque Axis [N.m]')\n",
    "    ax.set_ylim(-6e-4, 6e-4)\n",
    "    ax.set_xlabel('Time [UTC]')\n",
    "    ax.grid(lw=0.5, alpha=0.2)\n",
    "    ax.ticklabel_format(axis=\"y\", style=\"sci\")\n",
    "    ax.fmt_xdata = mdates.DateFormatter(\"%H:%M:S\")\n",
    "\n",
    "    ax2 = ax.twinx()\n",
    "    ax2.plot(_df.index, _df[\"torque1\"] * 0, 'k', alpha=0.1)\n",
    "    ax2.fill_between(\n",
    "        _df.index, 0, _df[\"actualPosition\"], alpha=0.1, \n",
    "        fc='k', label='Rotator Position Angle')\n",
    "    ax2.fmt_xdata = mdates.DateFormatter(\"%H:%M:S\")\n",
    "\n",
    "    ax2.set_ylabel('Rotator Position Angle [deg]')\n",
    "\n",
    "    fig.autofmt_xdate()\n",
    "    fig.legend(loc='lower center', ncol=4, )\n",
    "    fig.suptitle(f\"Torques and Rotator Position Angle\\n\"\n",
    "                 f\"{_df.index[0].strftime('%Y-%m-%d %H:%M:%S')}\")\n",
    "    \n",
    "    if filename:\n",
    "        os.makedirs('plots', exist_ok=True)\n",
    "        fig.savefig(os.path.join('plots', filename), facecolor='white', dpi=150)\n",
    "        print(f\"Plot file saved to plots/{filename}\")\n",
    "        \n",
    "    plt.show()"
   ]
  },
  {
   "cell_type": "markdown",
   "id": "de297cd1-8eff-45c8-8e3f-65525baa1c74",
   "metadata": {},
   "source": [
    "### Plot Torques Vs Rotator Angle\n",
    "\n",
    "Some people prefer this kind of data visualization. So let's leave it here to complement the data analyzis."
   ]
  },
  {
   "cell_type": "code",
   "execution_count": 12,
   "id": "a35d0942-9322-48c6-bfda-16d0bbd94298",
   "metadata": {
    "execution": {
     "iopub.execute_input": "2022-03-09T14:45:57.372596Z",
     "iopub.status.busy": "2022-03-09T14:45:57.372080Z",
     "iopub.status.idle": "2022-03-09T14:45:57.406357Z",
     "shell.execute_reply": "2022-03-09T14:45:57.405937Z",
     "shell.execute_reply.started": "2022-03-09T14:45:57.372571Z"
    },
    "tags": []
   },
   "outputs": [],
   "source": [
    "def plot_torque_vs_rotator_angle(_df, filename):\n",
    "    \"\"\"\n",
    "    Plots the motor torques vs the rotation angle, showing a cyclic plot.\n",
    "    \n",
    "    Parameters\n",
    "    ----------\n",
    "    _df : DataFrame\n",
    "    filename : str\n",
    "    \"\"\"\n",
    "    fig, ax = plt.subplots(\n",
    "        figsize=(12,12),\n",
    "        num=f\"Torque Vs Rotator Angle - {filename}\",)\n",
    "        \n",
    "    _df = _df.copy()\n",
    "    _df[\"torque_sum\"] = _df[\"torque0\"] + _df[\"torque1\"]\n",
    "    \n",
    "    ax.plot(_df[\"actualPosition\"], _df[\"torque0\"], \n",
    "            label=\"Motor 1\")\n",
    "    ax.plot(_df[\"actualPosition\"], _df[\"torque1\"], \n",
    "            label=\"Motor 2\")\n",
    "    ax.plot(_df[\"actualPosition\"], _df[\"torque_sum\"], \n",
    "            label=\"Sum\")\n",
    "    \n",
    "    ax.set_xlabel('Rotator Angle [deg]')\n",
    "    ax.set_ylabel('Total Torque [N.m]')\n",
    "    ax.grid(lw=0.5, alpha=0.2)\n",
    "    \n",
    "    fig.legend(loc='lower center', ncol=3, )\n",
    "    fig.suptitle(f\"Torques Vs Rotator Position Angle\\n\"\n",
    "                 f\"{_df.index[0].strftime('%Y-%m-%d %H:%M:%S')}\")\n",
    "    \n",
    "    if filename:\n",
    "        os.makedirs('plots', exist_ok=True)\n",
    "        fig.savefig(os.path.join('plots', filename), facecolor='white', dpi=150)\n",
    "        print(f\"Plot file saved to plots/{filename}\")\n",
    "        \n",
    "    plt.show()"
   ]
  },
  {
   "cell_type": "markdown",
   "id": "75af1c1f-2a83-47fe-be1d-660a54e517b4",
   "metadata": {},
   "source": [
    "### Print Average Torques at given Angle"
   ]
  },
  {
   "cell_type": "code",
   "execution_count": 13,
   "id": "e7a84f06-73ee-4781-80f6-866efe6f71d0",
   "metadata": {
    "execution": {
     "iopub.execute_input": "2022-03-09T14:45:57.956422Z",
     "iopub.status.busy": "2022-03-09T14:45:57.956149Z",
     "iopub.status.idle": "2022-03-09T14:45:57.988353Z",
     "shell.execute_reply": "2022-03-09T14:45:57.987941Z",
     "shell.execute_reply.started": "2022-03-09T14:45:57.956405Z"
    }
   },
   "outputs": [],
   "source": [
    "def get_average_torques_at_angle(_df, angle):\n",
    "    \"\"\" \n",
    "    Prints out the average torques at a given rotation angle.\n",
    "    \"\"\"\n",
    "    sub_df = _df[_df['Rotator_Position_deg'].round(1) == angle]\n",
    "    \n",
    "    avg_torque_motor1 = sub_df['actual_torque_axis_1'].mean()\n",
    "    std_torque_motor1 = sub_df['actual_torque_axis_1'].std()\n",
    "    \n",
    "    avg_torque_motor2 = sub_df['actual_torque_axis_2'].mean()\n",
    "    std_torque_motor2 = sub_df['actual_torque_axis_2'].std()\n",
    "    \n",
    "    avg_total = avg_torque_motor1 + avg_torque_motor2\n",
    "    std_total = std_torque_motor1 + std_torque_motor2\n",
    "    sin = np.sin(np.deg2rad(angle))\n",
    "    \n",
    "    print(\n",
    "        f\"Average Torques at {angle} deg\\n\"\n",
    "        f\"Motor 1 = {avg_torque_motor1:.3f} N.m +/- {std_torque_motor1:.3f} N.m\\n\"\n",
    "        f\"Motor 2 = {avg_torque_motor2:.3f} N.m +/- {std_torque_motor2:.3f} N.m\\n\"\n",
    "        f\"Total Torque: {avg_total:.3f} N.m +/- {std_total:.3f} N.m\\n\")\n",
    "\n",
    "#         f\"Total Torque divided by sin(theta): {avg_total / sin:.3f} N.m\"\n",
    "#         f\" +/- {std_total / sin:.3f} N.m\\n\")\n",
    "    "
   ]
  },
  {
   "cell_type": "markdown",
   "id": "9f16d905-71fd-4d11-a620-f1924db2436e",
   "metadata": {},
   "source": [
    "## Check environment setup\n",
    "\n",
    "The following cell will print some of the basic DDS configutions."
   ]
  },
  {
   "cell_type": "code",
   "execution_count": 14,
   "id": "a14fa4b8-ca9a-40e9-b0c0-49fdaab801ee",
   "metadata": {
    "execution": {
     "iopub.execute_input": "2022-03-09T14:45:58.800938Z",
     "iopub.status.busy": "2022-03-09T14:45:58.800670Z",
     "iopub.status.idle": "2022-03-09T14:45:58.831292Z",
     "shell.execute_reply": "2022-03-09T14:45:58.830864Z",
     "shell.execute_reply.started": "2022-03-09T14:45:58.800921Z"
    }
   },
   "outputs": [
    {
     "name": "stdout",
     "output_type": "stream",
     "text": [
      "file:///home/b1quint/WORK/ts_ddsconfig/config/ospl-shmem.xml\n",
      "summit\n",
      "0\n"
     ]
    }
   ],
   "source": [
    "print(os.environ[\"OSPL_URI\"])\n",
    "print(os.environ[\"LSST_DDS_PARTITION_PREFIX\"])\n",
    "print(os.environ.get(\"LSST_DDS_DOMAIN_ID\", \"Expected, not set.\"))"
   ]
  },
  {
   "cell_type": "markdown",
   "id": "dac439b2-55b3-41e7-9dd3-cd8dc0019f64",
   "metadata": {},
   "source": [
    "### Setup logging\n",
    "\n",
    "Setup logging in debug mode and create a logger to use on the notebook."
   ]
  },
  {
   "cell_type": "code",
   "execution_count": 15,
   "id": "a9038212-14d8-434a-9e65-7392de70059c",
   "metadata": {
    "execution": {
     "iopub.execute_input": "2022-03-09T14:45:59.663532Z",
     "iopub.status.busy": "2022-03-09T14:45:59.663261Z",
     "iopub.status.idle": "2022-03-09T14:45:59.694456Z",
     "shell.execute_reply": "2022-03-09T14:45:59.694050Z",
     "shell.execute_reply.started": "2022-03-09T14:45:59.663514Z"
    }
   },
   "outputs": [],
   "source": [
    "logging.basicConfig(format=\"%(name)s:%(message)s\", level=logging.DEBUG)"
   ]
  },
  {
   "cell_type": "code",
   "execution_count": 16,
   "id": "0e2cacec-1f33-4edc-bf70-79d605067af5",
   "metadata": {
    "execution": {
     "iopub.execute_input": "2022-03-09T14:46:00.571029Z",
     "iopub.status.busy": "2022-03-09T14:46:00.570550Z",
     "iopub.status.idle": "2022-03-09T14:46:00.602621Z",
     "shell.execute_reply": "2022-03-09T14:46:00.602217Z",
     "shell.execute_reply.started": "2022-03-09T14:46:00.571009Z"
    }
   },
   "outputs": [],
   "source": [
    "log = logging.getLogger(\"setup\")\n",
    "log.level = logging.DEBUG"
   ]
  },
  {
   "cell_type": "markdown",
   "id": "f27a28f5-5289-4ca0-8479-5d02ca7873ff",
   "metadata": {},
   "source": [
    "### Starting communication resources\n",
    "\n",
    "We start by creating a domain and later instantiate the MTCS class.\n",
    "We will use the class to startup the components. "
   ]
  },
  {
   "cell_type": "code",
   "execution_count": 17,
   "id": "4642a751-526f-4e09-aef5-0a330430c42a",
   "metadata": {
    "execution": {
     "iopub.execute_input": "2022-03-09T14:46:01.860369Z",
     "iopub.status.busy": "2022-03-09T14:46:01.860095Z",
     "iopub.status.idle": "2022-03-09T14:46:01.903392Z",
     "shell.execute_reply": "2022-03-09T14:46:01.902971Z",
     "shell.execute_reply.started": "2022-03-09T14:46:01.860351Z"
    },
    "tags": []
   },
   "outputs": [],
   "source": [
    "domain = salobj.Domain()"
   ]
  },
  {
   "cell_type": "code",
   "execution_count": 18,
   "id": "a95949f1-3841-4cb0-96f8-4e3a5552db0e",
   "metadata": {
    "execution": {
     "iopub.execute_input": "2022-03-09T14:46:02.571951Z",
     "iopub.status.busy": "2022-03-09T14:46:02.571488Z",
     "iopub.status.idle": "2022-03-09T14:46:03.688499Z",
     "shell.execute_reply": "2022-03-09T14:46:03.687979Z",
     "shell.execute_reply.started": "2022-03-09T14:46:02.571932Z"
    },
    "tags": []
   },
   "outputs": [
    {
     "data": {
      "text/html": [
       "<pre style=\"margin: 0.1em;\n",
       "padding-left: 0.25em;\n",
       "border-left-style: solid;\n",
       "font-family: var(--jp-code-font-family);\n",
       "font-size: var(--jp-code-font-size);\n",
       "line-height: var(--jp-code-line-height);\n",
       "\"><span style=\"color: var(--jp-warn-color2)\">setup.MTCS</span> <span style=\"color: var(--jp-success-color0)\">DEBUG</span>: mtmount: Adding all resources.</pre>"
      ],
      "text/plain": [
       "<IPython.core.display.HTML object>"
      ]
     },
     "metadata": {},
     "output_type": "display_data"
    },
    {
     "data": {
      "text/html": [
       "<pre style=\"margin: 0.1em;\n",
       "padding-left: 0.25em;\n",
       "border-left-style: solid;\n",
       "font-family: var(--jp-code-font-family);\n",
       "font-size: var(--jp-code-font-size);\n",
       "line-height: var(--jp-code-line-height);\n",
       "\"><span style=\"color: var(--jp-warn-color2)\">setup.MTCS</span> <span style=\"color: var(--jp-success-color0)\">DEBUG</span>: mtptg: Adding all resources.</pre>"
      ],
      "text/plain": [
       "<IPython.core.display.HTML object>"
      ]
     },
     "metadata": {},
     "output_type": "display_data"
    },
    {
     "data": {
      "text/html": [
       "<pre style=\"margin: 0.1em;\n",
       "padding-left: 0.25em;\n",
       "border-left-style: solid;\n",
       "font-family: var(--jp-code-font-family);\n",
       "font-size: var(--jp-code-font-size);\n",
       "line-height: var(--jp-code-line-height);\n",
       "\"><span style=\"color: var(--jp-warn-color2)\">setup.MTCS</span> <span style=\"color: var(--jp-success-color0)\">DEBUG</span>: mtaos: Adding all resources.</pre>"
      ],
      "text/plain": [
       "<IPython.core.display.HTML object>"
      ]
     },
     "metadata": {},
     "output_type": "display_data"
    },
    {
     "data": {
      "text/html": [
       "<pre style=\"margin: 0.1em;\n",
       "padding-left: 0.25em;\n",
       "border-left-style: solid;\n",
       "font-family: var(--jp-code-font-family);\n",
       "font-size: var(--jp-code-font-size);\n",
       "line-height: var(--jp-code-line-height);\n",
       "\"><span style=\"color: var(--jp-warn-color2)\">setup.MTCS</span> <span style=\"color: var(--jp-success-color0)\">DEBUG</span>: mtm1m3: Adding all resources.</pre>"
      ],
      "text/plain": [
       "<IPython.core.display.HTML object>"
      ]
     },
     "metadata": {},
     "output_type": "display_data"
    },
    {
     "data": {
      "text/html": [
       "<pre style=\"margin: 0.1em;\n",
       "padding-left: 0.25em;\n",
       "border-left-style: solid;\n",
       "font-family: var(--jp-code-font-family);\n",
       "font-size: var(--jp-code-font-size);\n",
       "line-height: var(--jp-code-line-height);\n",
       "\"><span style=\"color: var(--jp-warn-color2)\">setup.MTCS</span> <span style=\"color: var(--jp-success-color0)\">DEBUG</span>: mtm2: Adding all resources.</pre>"
      ],
      "text/plain": [
       "<IPython.core.display.HTML object>"
      ]
     },
     "metadata": {},
     "output_type": "display_data"
    },
    {
     "data": {
      "text/html": [
       "<pre style=\"margin: 0.1em;\n",
       "padding-left: 0.25em;\n",
       "border-left-style: solid;\n",
       "font-family: var(--jp-code-font-family);\n",
       "font-size: var(--jp-code-font-size);\n",
       "line-height: var(--jp-code-line-height);\n",
       "\"><span style=\"color: var(--jp-warn-color2)\">setup.MTCS</span> <span style=\"color: var(--jp-success-color0)\">DEBUG</span>: mthexapod_1: Adding all resources.</pre>"
      ],
      "text/plain": [
       "<IPython.core.display.HTML object>"
      ]
     },
     "metadata": {},
     "output_type": "display_data"
    },
    {
     "data": {
      "text/html": [
       "<pre style=\"margin: 0.1em;\n",
       "padding-left: 0.25em;\n",
       "border-left-style: solid;\n",
       "font-family: var(--jp-code-font-family);\n",
       "font-size: var(--jp-code-font-size);\n",
       "line-height: var(--jp-code-line-height);\n",
       "\"><span style=\"color: var(--jp-warn-color2)\">setup.MTCS</span> <span style=\"color: var(--jp-success-color0)\">DEBUG</span>: mthexapod_2: Adding all resources.</pre>"
      ],
      "text/plain": [
       "<IPython.core.display.HTML object>"
      ]
     },
     "metadata": {},
     "output_type": "display_data"
    },
    {
     "data": {
      "text/html": [
       "<pre style=\"margin: 0.1em;\n",
       "padding-left: 0.25em;\n",
       "border-left-style: solid;\n",
       "font-family: var(--jp-code-font-family);\n",
       "font-size: var(--jp-code-font-size);\n",
       "line-height: var(--jp-code-line-height);\n",
       "\"><span style=\"color: var(--jp-warn-color2)\">setup.MTCS</span> <span style=\"color: var(--jp-success-color0)\">DEBUG</span>: mtrotator: Adding all resources.</pre>"
      ],
      "text/plain": [
       "<IPython.core.display.HTML object>"
      ]
     },
     "metadata": {},
     "output_type": "display_data"
    },
    {
     "data": {
      "text/html": [
       "<pre style=\"margin: 0.1em;\n",
       "padding-left: 0.25em;\n",
       "border-left-style: solid;\n",
       "font-family: var(--jp-code-font-family);\n",
       "font-size: var(--jp-code-font-size);\n",
       "line-height: var(--jp-code-line-height);\n",
       "\"><span style=\"color: var(--jp-warn-color2)\">setup.MTCS</span> <span style=\"color: var(--jp-success-color0)\">DEBUG</span>: mtdome: Adding all resources.</pre>"
      ],
      "text/plain": [
       "<IPython.core.display.HTML object>"
      ]
     },
     "metadata": {},
     "output_type": "display_data"
    },
    {
     "data": {
      "text/html": [
       "<pre style=\"margin: 0.1em;\n",
       "padding-left: 0.25em;\n",
       "border-left-style: solid;\n",
       "font-family: var(--jp-code-font-family);\n",
       "font-size: var(--jp-code-font-size);\n",
       "line-height: var(--jp-code-line-height);\n",
       "\"><span style=\"color: var(--jp-warn-color2)\">setup.MTCS</span> <span style=\"color: var(--jp-success-color0)\">DEBUG</span>: mtdometrajectory: Adding all resources.</pre>"
      ],
      "text/plain": [
       "<IPython.core.display.HTML object>"
      ]
     },
     "metadata": {},
     "output_type": "display_data"
    }
   ],
   "source": [
    "mtcs = MTCS(domain=domain, log=log)\n",
    "mtcs.set_rem_loglevel(40)"
   ]
  },
  {
   "cell_type": "code",
   "execution_count": 19,
   "id": "10784d8d-823e-42a7-b5c1-5d8a77f0e622",
   "metadata": {
    "execution": {
     "iopub.execute_input": "2022-03-09T14:46:03.694855Z",
     "iopub.status.busy": "2022-03-09T14:46:03.694607Z",
     "iopub.status.idle": "2022-03-09T14:46:04.142866Z",
     "shell.execute_reply": "2022-03-09T14:46:04.142473Z",
     "shell.execute_reply.started": "2022-03-09T14:46:03.694838Z"
    },
    "tags": []
   },
   "outputs": [
    {
     "data": {
      "text/html": [
       "<pre style=\"margin: 0.1em;\n",
       "padding-left: 0.25em;\n",
       "border-left-style: solid;\n",
       "font-family: var(--jp-code-font-family);\n",
       "font-size: var(--jp-code-font-size);\n",
       "line-height: var(--jp-code-line-height);\n",
       "\"><span style=\"color: var(--jp-warn-color2)\">MTHexapod</span> <span style=\"color: var(--jp-info-color0)\">INFO</span>: Read historical data in 0.05 sec</pre>"
      ],
      "text/plain": [
       "<IPython.core.display.HTML object>"
      ]
     },
     "metadata": {},
     "output_type": "display_data"
    },
    {
     "data": {
      "text/html": [
       "<pre style=\"margin: 0.1em;\n",
       "padding-left: 0.25em;\n",
       "border-left-style: solid;\n",
       "font-family: var(--jp-code-font-family);\n",
       "font-size: var(--jp-code-font-size);\n",
       "line-height: var(--jp-code-line-height);\n",
       "\"><span style=\"color: var(--jp-warn-color2)\">MTHexapod</span> <span style=\"color: var(--jp-info-color0)\">INFO</span>: Read historical data in 0.07 sec</pre>"
      ],
      "text/plain": [
       "<IPython.core.display.HTML object>"
      ]
     },
     "metadata": {},
     "output_type": "display_data"
    },
    {
     "data": {
      "text/plain": [
       "[None, None, None, None, None, None, None, None, None, None]"
      ]
     },
     "execution_count": 19,
     "metadata": {},
     "output_type": "execute_result"
    }
   ],
   "source": [
    "await mtcs.start_task"
   ]
  },
  {
   "cell_type": "markdown",
   "id": "275998fc-9658-4d6b-be31-8a71c1c724d8",
   "metadata": {},
   "source": [
    "## Prepare Logger"
   ]
  },
  {
   "cell_type": "code",
   "execution_count": null,
   "id": "46032237-fb76-4121-a7f8-032020063383",
   "metadata": {
    "execution": {
     "iopub.execute_input": "2022-03-09T14:46:05.174359Z",
     "iopub.status.busy": "2022-03-09T14:46:05.174053Z"
    },
    "tags": []
   },
   "outputs": [
    {
     "data": {
      "text/html": [
       "<pre style=\"margin: 0.1em;\n",
       "padding-left: 0.25em;\n",
       "border-left-style: solid;\n",
       "font-family: var(--jp-code-font-family);\n",
       "font-size: var(--jp-code-font-size);\n",
       "line-height: var(--jp-code-line-height);\n",
       "\"><span style=\"color: var(--jp-warn-color2)\">Script</span> <span style=\"color: var(--jp-info-color0)\">INFO</span>: Read historical data in 0.00 sec</pre>"
      ],
      "text/plain": [
       "<IPython.core.display.HTML object>"
      ]
     },
     "metadata": {},
     "output_type": "display_data"
    }
   ],
   "source": [
    "index = os.getegid() + np.random.randint(-5, 5)\n",
    "\n",
    "start_time = datetime.now()\n",
    "script = salobj.Controller(\"Script\", index=index)\n",
    "\n",
    "# Wait 10 second may help with DDS problems\n",
    "# Closing all other kernels may help too\n",
    "await asyncio.sleep(10) \n",
    "print(f\" Time to start is {datetime.now() - start_time} [s] - index = {index}\")"
   ]
  },
  {
   "cell_type": "markdown",
   "id": "f76f40a0-4b28-44ee-bbe1-842e6fc3f848",
   "metadata": {},
   "source": [
    "## Start Test"
   ]
  },
  {
   "cell_type": "markdown",
   "id": "0409cb4f-8dcb-4f67-99b1-cd0e48aa7089",
   "metadata": {},
   "source": [
    "The default Velocity Limit for the Rotator is 3.5 deg/s.  "
   ]
  },
  {
   "cell_type": "code",
   "execution_count": null,
   "id": "125582c3-42bd-407f-8d03-e1cd96813182",
   "metadata": {},
   "outputs": [],
   "source": [
    "# Set Velocity Limit to 0.5 deg/s\n",
    "# await mtcs.rem.mtrotator.cmd_configureVelocity.set_start(vlimit=3.5, timeout=5)"
   ]
  },
  {
   "cell_type": "markdown",
   "id": "e41486b6-b12f-4478-9852-dca9fcf435c7",
   "metadata": {},
   "source": [
    "----\n",
    "Move the Rotator from 0 deg to +/- 90 deg in small steps (10 deg).  \n",
    "Keep an eye on the Motor Currents for Motor1 and Motor2 in the Rotator EUI. They should not exceed 4.2 A.  \n",
    "If any of the Motor Currents is too close to the limit of 4.2 A, lower down the Velocity Limit.  "
   ]
  },
  {
   "cell_type": "code",
   "execution_count": null,
   "id": "6bf1fede-fcfd-45d9-b50e-f00ce5ed8e2e",
   "metadata": {
    "tags": []
   },
   "outputs": [],
   "source": [
    "now = datetime.now()\n",
    "test_message = \"LVV-T2539 - Moving Rotator with 102.8 lbs counter-weight - Hex@  0/0/0/0/0/0\"\n",
    "script.log.info(f\"START -- {test_message} -- Starting Time: {now} UTC\")\n",
    "\n",
    "await mtcs.rem.mtrotator.cmd_configureVelocity.set_start(vlimit=3.5, timeout=5)\n",
    "await mtcs.rem.mthexapod_1.cmd_move.set_start(x=0, y=0, z=0, u=0, v=0, w=0, sync=True)\n",
    "\n",
    "try:\n",
    "    for pos in [90, -90, 0]:\n",
    "        await mtcs.rem.mtrotator.cmd_move.set_start(position=pos, timeout=5)\n",
    "        await asyncio.sleep(60)\n",
    "except :\n",
    "    script.log.info(f\"FAIL -- {test_message} -- Starting Time: {now} UTC\")\n",
    "else:\n",
    "    script.log.info(f\"END -- {test_message} -- Starting Time: {now} UTC\")"
   ]
  },
  {
   "cell_type": "code",
   "execution_count": null,
   "id": "73a7f9a5-4271-41fc-8c24-8aaaf8d44543",
   "metadata": {},
   "outputs": [],
   "source": [
    "    "
   ]
  },
  {
   "cell_type": "code",
   "execution_count": null,
   "id": "3b49199c-4d2b-4f35-9484-82ab9cb52b36",
   "metadata": {},
   "outputs": [],
   "source": []
  },
  {
   "cell_type": "code",
   "execution_count": null,
   "id": "12d0b623-2e8c-46a4-b328-295269c235a9",
   "metadata": {},
   "outputs": [],
   "source": []
  },
  {
   "cell_type": "code",
   "execution_count": null,
   "id": "db3af360-74e8-4bc1-803e-e6fcdf82c833",
   "metadata": {},
   "outputs": [],
   "source": []
  },
  {
   "cell_type": "code",
   "execution_count": null,
   "id": "6e67e0fa-642c-41b0-a87c-1339a1be2bd8",
   "metadata": {},
   "outputs": [],
   "source": []
  },
  {
   "cell_type": "code",
   "execution_count": null,
   "id": "f662e833-59a8-4fa5-ba55-3ce0ffa7a9a7",
   "metadata": {},
   "outputs": [],
   "source": [
    "mtcs.rem.mtrotator.tel_motors"
   ]
  },
  {
   "cell_type": "code",
   "execution_count": null,
   "id": "a376bfa3-616d-4377-a9f5-901b86cf02ff",
   "metadata": {},
   "outputs": [],
   "source": []
  },
  {
   "cell_type": "code",
   "execution_count": null,
   "id": "6a19d66a-891b-4ca5-aab1-f71b518cece2",
   "metadata": {},
   "outputs": [],
   "source": []
  },
  {
   "cell_type": "code",
   "execution_count": null,
   "id": "dbbf1af7-2d6e-47e2-84cf-5b288528b50b",
   "metadata": {},
   "outputs": [],
   "source": []
  },
  {
   "cell_type": "code",
   "execution_count": null,
   "id": "c2453ced-61b8-4035-8e7d-e72924762014",
   "metadata": {},
   "outputs": [],
   "source": []
  },
  {
   "cell_type": "code",
   "execution_count": null,
   "id": "dcc95634-55d2-4c8f-a655-20d70c131e8b",
   "metadata": {},
   "outputs": [],
   "source": []
  },
  {
   "cell_type": "code",
   "execution_count": null,
   "id": "f93f2211-61d3-404c-91cc-4a49afd2d177",
   "metadata": {},
   "outputs": [],
   "source": []
  },
  {
   "cell_type": "code",
   "execution_count": null,
   "id": "070d7f87-90c3-4655-a746-0243ea486b5b",
   "metadata": {},
   "outputs": [],
   "source": []
  },
  {
   "cell_type": "markdown",
   "id": "24f09968-a5cb-44f7-94f0-d04d7494f54f",
   "metadata": {},
   "source": [
    "### Data Analysis"
   ]
  },
  {
   "cell_type": "markdown",
   "id": "9c31e6a5-47aa-456f-beb9-76fa7e9e14fc",
   "metadata": {},
   "source": [
    "---\n",
    "Analyze the data"
   ]
  },
  {
   "cell_type": "code",
   "execution_count": null,
   "id": "30e05e0e-3b9a-4eae-897c-a4de68d483c2",
   "metadata": {
    "tags": []
   },
   "outputs": [],
   "source": [
    "# t_end = Time(Time.now(), scale='utc', format='isot')\n",
    "t_start = Time('2021-10-01T14:00:00', scale='utc', format='isot') \n",
    "t_end = Time('2021-10-01T14:25:00', scale='utc', format='isot')"
   ]
  },
  {
   "cell_type": "code",
   "execution_count": null,
   "id": "0bc3c1e3-75a6-4b2b-a677-12261c6ee580",
   "metadata": {
    "tags": []
   },
   "outputs": [],
   "source": [
    "efd_client = retrieve_efd_client(summit)\n",
    "df = await retrieve_rotator_angle_and_torques_from_efd(efd_client, t_start, t_end)"
   ]
  },
  {
   "cell_type": "code",
   "execution_count": null,
   "id": "7ffe4f1f-d16e-488d-8671-234f0bad2935",
   "metadata": {
    "tags": []
   },
   "outputs": [],
   "source": [
    "filename = f\"EFD_{t_start.strftime('%Y%m%d_%H%M%S')}.png\"\n",
    "plot_rotator_angle_and_torques(df, filename=filename)"
   ]
  },
  {
   "cell_type": "code",
   "execution_count": null,
   "id": "3b65bd4b-c41e-4a91-9fe4-0b3a7c524540",
   "metadata": {
    "tags": []
   },
   "outputs": [],
   "source": [
    "filename = f\"EFD_RotVsTorque_{t_start.strftime('%Y%m%d_%H%M%S')}.png\"\n",
    "plot_torque_vs_rotator_angle(df, filename=filename)"
   ]
  },
  {
   "cell_type": "code",
   "execution_count": null,
   "id": "214bc943-09f9-4db4-89d2-14524222e508",
   "metadata": {},
   "outputs": [],
   "source": []
  },
  {
   "cell_type": "code",
   "execution_count": null,
   "id": "029e210b-5813-4734-8ff5-4415e1eeed78",
   "metadata": {},
   "outputs": [],
   "source": [
    "async def get_rotator_temperatures(client, limit):\n",
    "    \"\"\"\n",
    "    Continuously tracks the rotator's motors temperatures in order to protect \n",
    "    them from overheating while running big movements and at high speeds.\n",
    "    \n",
    "    Parameters\n",
    "    ----------\n",
    "    client : \n",
    "        EFD client\n",
    "    limit : float\n",
    "        Temperature limit for when triggering the alarm\n",
    "    \"\"\"\n",
    "    "
   ]
  }
 ],
 "metadata": {
  "kernelspec": {
   "display_name": "LSST",
   "language": "python",
   "name": "lsst"
  },
  "language_info": {
   "codemirror_mode": {
    "name": "ipython",
    "version": 3
   },
   "file_extension": ".py",
   "mimetype": "text/x-python",
   "name": "python",
   "nbconvert_exporter": "python",
   "pygments_lexer": "ipython3",
   "version": "3.8.12"
  }
 },
 "nbformat": 4,
 "nbformat_minor": 5
}
