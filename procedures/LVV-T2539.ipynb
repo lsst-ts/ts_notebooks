{
 "cells": [
  {
   "cell_type": "markdown",
   "id": "57810e69-aae0-4056-8bf9-e2746384b9bf",
   "metadata": {},
   "source": [
    "# [LVV-T2539](https://jira.lsstcorp.org/secure/Tests.jspa#/testCase/LVV-T2539)\n",
    "\n",
    "Determine the Rotator's motors torques before and after applying an intentional shift on the center of gravity.  \n",
    "For that, we will move the Rotator from 0$^o$ to +/-90$^o$ in a single movement.  \n",
    "We will take a basiline measurements with the Center of Gravity aligned with the Center of Rotation.  \n",
    "Then we install 102.8 Lbs (46.6 Kg) at the bottom of ComCam and repeat the test.  \n",
    "Use the plots to compare the torques.\n",
    "\n",
    "The current weight of ComCam is 6890 lbs (3125.251 kg) without the new counter-weights.  \n",
    "The new counter weights are about 80 cm below the center of Rotation.  \n",
    "This gives us an approximated torque of 372 N.m.  "
   ]
  },
  {
   "cell_type": "code",
   "execution_count": 1,
   "id": "0990b4c1-5db2-47df-907b-92736cf5c64b",
   "metadata": {
    "execution": {
     "iopub.execute_input": "2022-03-09T14:45:45.499232Z",
     "iopub.status.busy": "2022-03-09T14:45:45.499101Z",
     "iopub.status.idle": "2022-03-09T14:45:45.509136Z",
     "shell.execute_reply": "2022-03-09T14:45:45.508316Z",
     "shell.execute_reply.started": "2022-03-09T14:45:45.499192Z"
    },
    "tags": []
   },
   "outputs": [
    {
     "data": {
      "text/plain": [
       "372.05440000000004"
      ]
     },
     "execution_count": 1,
     "metadata": {},
     "output_type": "execute_result"
    }
   ],
   "source": [
    "46.6 * 9.98 * 0.8"
   ]
  },
  {
   "cell_type": "code",
   "execution_count": 2,
   "id": "8f2be9c1-219e-41de-b050-cb0a405f0885",
   "metadata": {
    "execution": {
     "iopub.execute_input": "2022-03-09T14:45:45.511776Z",
     "iopub.status.busy": "2022-03-09T14:45:45.511664Z",
     "iopub.status.idle": "2022-03-09T14:45:45.518329Z",
     "shell.execute_reply": "2022-03-09T14:45:45.515580Z",
     "shell.execute_reply.started": "2022-03-09T14:45:45.511762Z"
    }
   },
   "outputs": [
    {
     "ename": "SyntaxError",
     "evalue": "leading zeros in decimal integer literals are not permitted; use an 0o prefix for octal integers (3629092364.py, line 1)",
     "output_type": "error",
     "traceback": [
      "\u001b[0;36m  Input \u001b[0;32mIn [2]\u001b[0;36m\u001b[0m\n\u001b[0;31m    11:01 - bottle of water\u001b[0m\n\u001b[0m        ^\u001b[0m\n\u001b[0;31mSyntaxError\u001b[0m\u001b[0;31m:\u001b[0m leading zeros in decimal integer literals are not permitted; use an 0o prefix for octal integers\n"
     ]
    }
   ],
   "source": [
    "11:01 - bottle of water\n",
    "11:03 - 10.6 Lb plate"
   ]
  },
  {
   "cell_type": "code",
   "execution_count": 3,
   "id": "b473880a-b0ab-4a29-bf5e-23357589857d",
   "metadata": {
    "execution": {
     "iopub.execute_input": "2022-03-09T14:45:51.387735Z",
     "iopub.status.busy": "2022-03-09T14:45:51.387450Z",
     "iopub.status.idle": "2022-03-09T14:45:51.390826Z",
     "shell.execute_reply": "2022-03-09T14:45:51.390450Z",
     "shell.execute_reply.started": "2022-03-09T14:45:51.387717Z"
    },
    "tags": []
   },
   "outputs": [
    {
     "data": {
      "text/plain": [
       "414.3696"
      ]
     },
     "execution_count": 3,
     "metadata": {},
     "output_type": "execute_result"
    }
   ],
   "source": [
    "(46.6 + 5.3) * 9.98 * 0.8"
   ]
  },
  {
   "cell_type": "code",
   "execution_count": 4,
   "id": "23435538-d5a2-4b2d-b6b8-956c45d63c09",
   "metadata": {
    "execution": {
     "iopub.execute_input": "2022-03-09T14:45:51.569004Z",
     "iopub.status.busy": "2022-03-09T14:45:51.568608Z",
     "iopub.status.idle": "2022-03-09T14:45:51.571781Z",
     "shell.execute_reply": "2022-03-09T14:45:51.571428Z",
     "shell.execute_reply.started": "2022-03-09T14:45:51.568988Z"
    },
    "tags": []
   },
   "outputs": [
    {
     "data": {
      "text/plain": [
       "-0.011753389424660868"
      ]
     },
     "execution_count": 4,
     "metadata": {},
     "output_type": "execute_result"
    }
   ],
   "source": [
    "(3125.251 * 0 - 46.6 * 0.8) / (3125.251 + 46.6)"
   ]
  },
  {
   "cell_type": "markdown",
   "id": "842bc2ae-70dd-41db-9c10-5a5c66a4907f",
   "metadata": {},
   "source": [
    "## Start Up"
   ]
  },
  {
   "cell_type": "code",
   "execution_count": 5,
   "id": "10a95567-8f3b-4420-b8cc-bf055186a6bf",
   "metadata": {
    "execution": {
     "iopub.execute_input": "2022-03-09T14:45:52.589965Z",
     "iopub.status.busy": "2022-03-09T14:45:52.589692Z",
     "iopub.status.idle": "2022-03-09T14:45:52.618009Z",
     "shell.execute_reply": "2022-03-09T14:45:52.617601Z",
     "shell.execute_reply.started": "2022-03-09T14:45:52.589947Z"
    },
    "tags": []
   },
   "outputs": [],
   "source": [
    "%load_ext autoreload\n",
    "%autoreload 2"
   ]
  },
  {
   "cell_type": "code",
   "execution_count": 6,
   "id": "f8dbe0b2-941f-437d-9eb8-c6e3e481cb1a",
   "metadata": {
    "execution": {
     "iopub.execute_input": "2022-03-09T14:45:52.937113Z",
     "iopub.status.busy": "2022-03-09T14:45:52.936852Z",
     "iopub.status.idle": "2022-03-09T14:45:52.984347Z",
     "shell.execute_reply": "2022-03-09T14:45:52.983944Z",
     "shell.execute_reply.started": "2022-03-09T14:45:52.937096Z"
    },
    "tags": []
   },
   "outputs": [
    {
     "name": "stderr",
     "output_type": "stream",
     "text": [
      "/tmp/ipykernel_23355/1665379685.py:2: DeprecationWarning: Call to deprecated function (or staticmethod) get_node. (Please use lsst.rsp.get_node())\n",
      "  nb.utils.get_node()\n"
     ]
    },
    {
     "data": {
      "text/plain": [
       "'yagan06'"
      ]
     },
     "execution_count": 6,
     "metadata": {},
     "output_type": "execute_result"
    }
   ],
   "source": [
    "import rubin_jupyter_utils.lab.notebook as nb\n",
    "nb.utils.get_node()"
   ]
  },
  {
   "cell_type": "code",
   "execution_count": 7,
   "id": "3cc711bc-6c9c-4799-9451-ea0f31a5a5d3",
   "metadata": {
    "execution": {
     "iopub.execute_input": "2022-03-09T14:45:53.299783Z",
     "iopub.status.busy": "2022-03-09T14:45:53.299320Z",
     "iopub.status.idle": "2022-03-09T14:45:54.290370Z",
     "shell.execute_reply": "2022-03-09T14:45:54.289919Z",
     "shell.execute_reply.started": "2022-03-09T14:45:53.299763Z"
    },
    "tags": []
   },
   "outputs": [
    {
     "data": {
      "text/html": [
       "<pre style=\"margin: 0.1em;\n",
       "padding-left: 0.25em;\n",
       "border-left-style: solid;\n",
       "font-family: var(--jp-code-font-family);\n",
       "font-size: var(--jp-code-font-size);\n",
       "line-height: var(--jp-code-line-height);\n",
       "\"><span style=\"color: var(--jp-warn-color2)\">lsst.ts.utils.tai</span> <span style=\"color: var(--jp-info-color0)\">INFO</span>: Update leap second table</pre>"
      ],
      "text/plain": [
       "<IPython.core.display.HTML object>"
      ]
     },
     "metadata": {},
     "output_type": "display_data"
    },
    {
     "data": {
      "text/html": [
       "<pre style=\"margin: 0.1em;\n",
       "padding-left: 0.25em;\n",
       "border-left-style: solid;\n",
       "font-family: var(--jp-code-font-family);\n",
       "font-size: var(--jp-code-font-size);\n",
       "line-height: var(--jp-code-line-height);\n",
       "\"><span style=\"color: var(--jp-warn-color2)\">lsst.ts.utils.tai</span> <span style=\"color: var(--jp-info-color0)\">INFO</span>: current_tai uses the system TAI clock</pre>"
      ],
      "text/plain": [
       "<IPython.core.display.HTML object>"
      ]
     },
     "metadata": {},
     "output_type": "display_data"
    }
   ],
   "source": [
    "%matplotlib inline\n",
    "import asyncio\n",
    "import logging\n",
    "import os\n",
    "import sys\n",
    "\n",
    "import numpy as np\n",
    "import matplotlib.dates as mdates\n",
    "import matplotlib.pyplot as plt\n",
    "import matplotlib.ticker as mticker\n",
    "\n",
    "import os\n",
    "import pandas as pd\n",
    "\n",
    "from astropy.time import Time\n",
    "from datetime import datetime\n",
    "from scipy.signal import argrelextrema\n",
    "\n",
    "from lsst.ts import salobj\n",
    "from lsst.ts.observatory.control.maintel.mtcs import MTCS"
   ]
  },
  {
   "cell_type": "code",
   "execution_count": 8,
   "id": "88cb4832-fe40-4af7-883d-2a91aa7e10c1",
   "metadata": {
    "execution": {
     "iopub.execute_input": "2022-03-09T14:45:54.291301Z",
     "iopub.status.busy": "2022-03-09T14:45:54.291181Z",
     "iopub.status.idle": "2022-03-09T14:45:54.321625Z",
     "shell.execute_reply": "2022-03-09T14:45:54.321222Z",
     "shell.execute_reply.started": "2022-03-09T14:45:54.291286Z"
    }
   },
   "outputs": [],
   "source": [
    "summit = 1 #use this for summit testing\n",
    "# summit = 0 #use this for NCSA"
   ]
  },
  {
   "cell_type": "markdown",
   "id": "b90408dd-8f4a-41e0-9517-0e331dad768f",
   "metadata": {
    "tags": []
   },
   "source": [
    "## Helper Functions"
   ]
  },
  {
   "cell_type": "markdown",
   "id": "6cfc8563-a53a-434c-ad79-5a1c0393ee52",
   "metadata": {},
   "source": [
    "### Retrieve EFD Client\n",
    "\n",
    "First of all, the notebook will have different behavior if we run at the Summit or at the NCSA TestSand (NTS) (or other simulated environments). This function simply wraps this difference."
   ]
  },
  {
   "cell_type": "code",
   "execution_count": 9,
   "id": "35778905-dd04-477a-8b34-f59e50bc0977",
   "metadata": {
    "execution": {
     "iopub.execute_input": "2022-03-09T14:45:55.324359Z",
     "iopub.status.busy": "2022-03-09T14:45:55.324083Z",
     "iopub.status.idle": "2022-03-09T14:45:55.355084Z",
     "shell.execute_reply": "2022-03-09T14:45:55.354654Z",
     "shell.execute_reply.started": "2022-03-09T14:45:55.324342Z"
    },
    "tags": []
   },
   "outputs": [],
   "source": [
    "def retrieve_efd_client(is_at_summit=True):\n",
    "    \"\"\"\n",
    "    Retrieves a client to the Engireering Facility Database. \n",
    "    \n",
    "    Parameters\n",
    "    ----------\n",
    "    is_at_summit : bool, optional\n",
    "        If this notebook runs at the Summit, returns a client that connect to \n",
    "        the Summit EFD. Otherwhice, results the NCSA TestSand (NST) EFD.\n",
    "    \n",
    "    Returns\n",
    "    -------\n",
    "    EfdClient : the interface object between Nublado and the Summit or NST EFD.\n",
    "    \"\"\"\n",
    "    from lsst_efd_client import EfdClient\n",
    "    \n",
    "    c = EfdClient('summit_efd') if is_at_summit \\\n",
    "        else EfdClient('ncsa_teststand_efd') \n",
    "        \n",
    "    return c"
   ]
  },
  {
   "cell_type": "markdown",
   "id": "9491942a-421a-44b8-9611-f887351c0113",
   "metadata": {},
   "source": [
    "### Retrieve Data from EFD\n",
    "\n",
    "Second, we want to analyse the motors torques at different angles. For that, we can either use the Binary Logs generated by the MTRotator EUI or we can get the data directly from the EFD, which is much easier. The following function retrieves the data from the EFD."
   ]
  },
  {
   "cell_type": "code",
   "execution_count": 10,
   "id": "c984e358-7e36-434f-9df2-724c356a36b4",
   "metadata": {
    "execution": {
     "iopub.execute_input": "2022-03-09T14:45:56.025007Z",
     "iopub.status.busy": "2022-03-09T14:45:56.024730Z",
     "iopub.status.idle": "2022-03-09T14:45:56.056729Z",
     "shell.execute_reply": "2022-03-09T14:45:56.056290Z",
     "shell.execute_reply.started": "2022-03-09T14:45:56.024989Z"
    },
    "tags": []
   },
   "outputs": [],
   "source": [
    "async def retrieve_rotator_angle_and_torques_from_efd(client, start, end):\n",
    "    \"\"\"\n",
    "    Retrieves the Rotator Angle and the Motors torques from the EFD.\n",
    "    \n",
    "    Parameters\n",
    "    ----------\n",
    "    client : EfdClient\n",
    "        Interface that allows querying data from the EFD.\n",
    "    start : datetime string\n",
    "        ISOT Time in UTC associated to the start of the data.\n",
    "    end : datetime string\n",
    "        ISOT Time in UTC associated to the end of the data.\n",
    "        \n",
    "    Returns\n",
    "    -------\n",
    "    _df : DataFrame\n",
    "        Table containing the queried data.\n",
    "    \"\"\"\n",
    "    _df_rotator = await client.select_time_series(\n",
    "        'lsst.sal.MTRotator.rotation', \n",
    "        fields='actualPosition', \n",
    "        start=start, \n",
    "        end=end)\n",
    "\n",
    "    _df_motor1 = await client.select_time_series(\n",
    "        \"lsst.sal.MTRotator.motors\", \n",
    "        fields='torque0', \n",
    "        start=start, \n",
    "        end=end)\n",
    "\n",
    "    _df_motor2 = await client.select_time_series(\n",
    "        \"lsst.sal.MTRotator.motors\", \n",
    "        fields='torque1', \n",
    "        start=start, \n",
    "        end=end)\n",
    "\n",
    "    _df = pd.merge(_df_rotator, _df_motor1, left_index=True, right_index=True)\n",
    "    _df = pd.merge(_df, _df_motor2, left_index=True, right_index=True)\n",
    "    _df = _df.dropna()\n",
    "    \n",
    "    return _df"
   ]
  },
  {
   "cell_type": "markdown",
   "id": "1c0f423a-8892-44d4-a308-cd06a215d7a9",
   "metadata": {},
   "source": [
    "### Plot Rotator Angle And Torques"
   ]
  },
  {
   "cell_type": "code",
   "execution_count": 11,
   "id": "b787f529-d88c-4d36-b0a9-6529cad9f752",
   "metadata": {
    "execution": {
     "iopub.execute_input": "2022-03-09T14:45:56.763858Z",
     "iopub.status.busy": "2022-03-09T14:45:56.763583Z",
     "iopub.status.idle": "2022-03-09T14:45:56.799359Z",
     "shell.execute_reply": "2022-03-09T14:45:56.798964Z",
     "shell.execute_reply.started": "2022-03-09T14:45:56.763840Z"
    },
    "tags": []
   },
   "outputs": [],
   "source": [
    "def plot_rotator_angle_and_torques(_df, filename=None):\n",
    "    \"\"\"\n",
    "    Every time that we have the Rotator stopped at a given angle, we have that \n",
    "    :math:`\\tau_{M1} + \\tau_{M2} + \\tau_{CM} = 0`. If the center of mass is at \n",
    "    the center of the rotation, :math:`\\tau_{CM} = 0`, meaning that \n",
    "    :math:`\\tau_{M1} = - \\tau_{M2}`. \n",
    "    \n",
    "    This plot should be used to identify if and when :math:`\\tau_{CM} = 0`.\n",
    "    \n",
    "    The left y-axis shows the motor torques in N.m while the right y-axis shows \n",
    "    the rotator angle in degrees. \n",
    "    \n",
    "    Parameters\n",
    "    ----------\n",
    "    _df : DataFrame\n",
    "    filename : str\n",
    "    \"\"\"\n",
    "    _df = _df.copy()\n",
    "    _df[\"torque_sum\"] = _df[\"torque0\"] + _df[\"torque1\"]\n",
    "    \n",
    "    fig, ax = plt.subplots(\n",
    "        figsize=(12,6), \n",
    "        num=f'Torques and Rotator Position Angle - {filename}')\n",
    "\n",
    "    ax.plot(_df.index, \n",
    "            _df['torque0'].rolling(50).mean(), \n",
    "            label='Actual Torque Axis 1')\n",
    "\n",
    "    ax.plot(_df.index, \n",
    "            _df['torque1'].rolling(50).mean(), \n",
    "            label='Actual Torque Axis 2')\n",
    "    \n",
    "    ax.plot(_df.index, \n",
    "            _df['torque_sum'].rolling(50).mean(), \n",
    "            label='Actual Torque Axis 2')\n",
    "    \n",
    "    ax.set_ylabel('Actual Torque Axis [N.m]')\n",
    "    ax.set_ylim(-6e-4, 6e-4)\n",
    "    ax.set_xlabel('Time [UTC]')\n",
    "    ax.grid(lw=0.5, alpha=0.2)\n",
    "    ax.ticklabel_format(axis=\"y\", style=\"sci\")\n",
    "    ax.fmt_xdata = mdates.DateFormatter(\"%H:%M:S\")\n",
    "\n",
    "    ax2 = ax.twinx()\n",
    "    ax2.plot(_df.index, _df[\"torque1\"] * 0, 'k', alpha=0.1)\n",
    "    ax2.fill_between(\n",
    "        _df.index, 0, _df[\"actualPosition\"], alpha=0.1, \n",
    "        fc='k', label='Rotator Position Angle')\n",
    "    ax2.fmt_xdata = mdates.DateFormatter(\"%H:%M:S\")\n",
    "\n",
    "    ax2.set_ylabel('Rotator Position Angle [deg]')\n",
    "\n",
    "    fig.autofmt_xdate()\n",
    "    fig.legend(loc='lower center', ncol=4, )\n",
    "    fig.suptitle(f\"Torques and Rotator Position Angle\\n\"\n",
    "                 f\"{_df.index[0].strftime('%Y-%m-%d %H:%M:%S')}\")\n",
    "    \n",
    "    if filename:\n",
    "        os.makedirs('plots', exist_ok=True)\n",
    "        fig.savefig(os.path.join('plots', filename), facecolor='white', dpi=150)\n",
    "        print(f\"Plot file saved to plots/{filename}\")\n",
    "        \n",
    "    plt.show()"
   ]
  },
  {
   "cell_type": "markdown",
   "id": "de297cd1-8eff-45c8-8e3f-65525baa1c74",
   "metadata": {},
   "source": [
    "### Plot Torques Vs Rotator Angle\n",
    "\n",
    "Some people prefer this kind of data visualization. So let's leave it here to complement the data analyzis."
   ]
  },
  {
   "cell_type": "code",
   "execution_count": 12,
   "id": "a35d0942-9322-48c6-bfda-16d0bbd94298",
   "metadata": {
    "execution": {
     "iopub.execute_input": "2022-03-09T14:45:57.372596Z",
     "iopub.status.busy": "2022-03-09T14:45:57.372080Z",
     "iopub.status.idle": "2022-03-09T14:45:57.406357Z",
     "shell.execute_reply": "2022-03-09T14:45:57.405937Z",
     "shell.execute_reply.started": "2022-03-09T14:45:57.372571Z"
    },
    "tags": []
   },
   "outputs": [],
   "source": [
    "def plot_torque_vs_rotator_angle(_df, filename):\n",
    "    \"\"\"\n",
    "    Plots the motor torques vs the rotation angle, showing a cyclic plot.\n",
    "    \n",
    "    Parameters\n",
    "    ----------\n",
    "    _df : DataFrame\n",
    "    filename : str\n",
    "    \"\"\"\n",
    "    fig, ax = plt.subplots(\n",
    "        figsize=(12,12),\n",
    "        num=f\"Torque Vs Rotator Angle - {filename}\",)\n",
    "        \n",
    "    _df = _df.copy()\n",
    "    _df[\"torque_sum\"] = _df[\"torque0\"] + _df[\"torque1\"]\n",
    "    \n",
    "    ax.plot(_df[\"actualPosition\"], _df[\"torque0\"], \n",
    "            label=\"Motor 1\")\n",
    "    ax.plot(_df[\"actualPosition\"], _df[\"torque1\"], \n",
    "            label=\"Motor 2\")\n",
    "    ax.plot(_df[\"actualPosition\"], _df[\"torque_sum\"], \n",
    "            label=\"Sum\")\n",
    "    \n",
    "    ax.set_xlabel('Rotator Angle [deg]')\n",
    "    ax.set_ylabel('Total Torque [N.m]')\n",
    "    ax.grid(lw=0.5, alpha=0.2)\n",
    "    \n",
    "    fig.legend(loc='lower center', ncol=3, )\n",
    "    fig.suptitle(f\"Torques Vs Rotator Position Angle\\n\"\n",
    "                 f\"{_df.index[0].strftime('%Y-%m-%d %H:%M:%S')}\")\n",
    "    \n",
    "    if filename:\n",
    "        os.makedirs('plots', exist_ok=True)\n",
    "        fig.savefig(os.path.join('plots', filename), facecolor='white', dpi=150)\n",
    "        print(f\"Plot file saved to plots/{filename}\")\n",
    "        \n",
    "    plt.show()"
   ]
  },
  {
   "cell_type": "markdown",
   "id": "75af1c1f-2a83-47fe-be1d-660a54e517b4",
   "metadata": {},
   "source": [
    "### Print Average Torques at given Angle"
   ]
  },
  {
   "cell_type": "code",
   "execution_count": 13,
   "id": "e7a84f06-73ee-4781-80f6-866efe6f71d0",
   "metadata": {
    "execution": {
     "iopub.execute_input": "2022-03-09T14:45:57.956422Z",
     "iopub.status.busy": "2022-03-09T14:45:57.956149Z",
     "iopub.status.idle": "2022-03-09T14:45:57.988353Z",
     "shell.execute_reply": "2022-03-09T14:45:57.987941Z",
     "shell.execute_reply.started": "2022-03-09T14:45:57.956405Z"
    }
   },
   "outputs": [],
   "source": [
    "def get_average_torques_at_angle(_df, angle):\n",
    "    \"\"\" \n",
    "    Prints out the average torques at a given rotation angle.\n",
    "    \"\"\"\n",
    "    sub_df = _df[_df['Rotator_Position_deg'].round(1) == angle]\n",
    "    \n",
    "    avg_torque_motor1 = sub_df['actual_torque_axis_1'].mean()\n",
    "    std_torque_motor1 = sub_df['actual_torque_axis_1'].std()\n",
    "    \n",
    "    avg_torque_motor2 = sub_df['actual_torque_axis_2'].mean()\n",
    "    std_torque_motor2 = sub_df['actual_torque_axis_2'].std()\n",
    "    \n",
    "    avg_total = avg_torque_motor1 + avg_torque_motor2\n",
    "    std_total = std_torque_motor1 + std_torque_motor2\n",
    "    sin = np.sin(np.deg2rad(angle))\n",
    "    \n",
    "    print(\n",
    "        f\"Average Torques at {angle} deg\\n\"\n",
    "        f\"Motor 1 = {avg_torque_motor1:.3f} N.m +/- {std_torque_motor1:.3f} N.m\\n\"\n",
    "        f\"Motor 2 = {avg_torque_motor2:.3f} N.m +/- {std_torque_motor2:.3f} N.m\\n\"\n",
    "        f\"Total Torque: {avg_total:.3f} N.m +/- {std_total:.3f} N.m\\n\")\n",
    "\n",
    "#         f\"Total Torque divided by sin(theta): {avg_total / sin:.3f} N.m\"\n",
    "#         f\" +/- {std_total / sin:.3f} N.m\\n\")\n",
    "    "
   ]
  },
  {
   "cell_type": "markdown",
   "id": "9f16d905-71fd-4d11-a620-f1924db2436e",
   "metadata": {},
   "source": [
    "## Check environment setup\n",
    "\n",
    "The following cell will print some of the basic DDS configutions."
   ]
  },
  {
   "cell_type": "code",
   "execution_count": 14,
   "id": "a14fa4b8-ca9a-40e9-b0c0-49fdaab801ee",
   "metadata": {
    "execution": {
     "iopub.execute_input": "2022-03-09T14:45:58.800938Z",
     "iopub.status.busy": "2022-03-09T14:45:58.800670Z",
     "iopub.status.idle": "2022-03-09T14:45:58.831292Z",
     "shell.execute_reply": "2022-03-09T14:45:58.830864Z",
     "shell.execute_reply.started": "2022-03-09T14:45:58.800921Z"
    }
   },
   "outputs": [
    {
     "name": "stdout",
     "output_type": "stream",
     "text": [
      "file:///home/b1quint/WORK/ts_ddsconfig/config/ospl-shmem.xml\n",
      "summit\n",
      "0\n"
     ]
    }
   ],
   "source": [
    "print(os.environ[\"OSPL_URI\"])\n",
    "print(os.environ[\"LSST_DDS_PARTITION_PREFIX\"])\n",
    "print(os.environ.get(\"LSST_DDS_DOMAIN_ID\", \"Expected, not set.\"))"
   ]
  },
  {
   "cell_type": "markdown",
   "id": "dac439b2-55b3-41e7-9dd3-cd8dc0019f64",
   "metadata": {},
   "source": [
    "### Setup logging\n",
    "\n",
    "Setup logging in debug mode and create a logger to use on the notebook."
   ]
  },
  {
   "cell_type": "code",
   "execution_count": 15,
   "id": "a9038212-14d8-434a-9e65-7392de70059c",
   "metadata": {
    "execution": {
     "iopub.execute_input": "2022-03-09T14:45:59.663532Z",
     "iopub.status.busy": "2022-03-09T14:45:59.663261Z",
     "iopub.status.idle": "2022-03-09T14:45:59.694456Z",
     "shell.execute_reply": "2022-03-09T14:45:59.694050Z",
     "shell.execute_reply.started": "2022-03-09T14:45:59.663514Z"
    }
   },
   "outputs": [],
   "source": [
    "logging.basicConfig(format=\"%(name)s:%(message)s\", level=logging.DEBUG)"
   ]
  },
  {
   "cell_type": "code",
   "execution_count": 16,
   "id": "0e2cacec-1f33-4edc-bf70-79d605067af5",
   "metadata": {
    "execution": {
     "iopub.execute_input": "2022-03-09T14:46:00.571029Z",
     "iopub.status.busy": "2022-03-09T14:46:00.570550Z",
     "iopub.status.idle": "2022-03-09T14:46:00.602621Z",
     "shell.execute_reply": "2022-03-09T14:46:00.602217Z",
     "shell.execute_reply.started": "2022-03-09T14:46:00.571009Z"
    }
   },
   "outputs": [],
   "source": [
    "log = logging.getLogger(\"setup\")\n",
    "log.level = logging.DEBUG"
   ]
  },
  {
   "cell_type": "markdown",
   "id": "f27a28f5-5289-4ca0-8479-5d02ca7873ff",
   "metadata": {},
   "source": [
    "### Starting communication resources\n",
    "\n",
    "We start by creating a domain and later instantiate the MTCS class.\n",
    "We will use the class to startup the components. "
   ]
  },
  {
   "cell_type": "code",
   "execution_count": 17,
   "id": "4642a751-526f-4e09-aef5-0a330430c42a",
   "metadata": {
    "execution": {
     "iopub.execute_input": "2022-03-09T14:46:01.860369Z",
     "iopub.status.busy": "2022-03-09T14:46:01.860095Z",
     "iopub.status.idle": "2022-03-09T14:46:01.903392Z",
     "shell.execute_reply": "2022-03-09T14:46:01.902971Z",
     "shell.execute_reply.started": "2022-03-09T14:46:01.860351Z"
    },
    "tags": []
   },
   "outputs": [],
   "source": [
    "domain = salobj.Domain()"
   ]
  },
  {
   "cell_type": "code",
   "execution_count": 18,
   "id": "a95949f1-3841-4cb0-96f8-4e3a5552db0e",
   "metadata": {
    "execution": {
     "iopub.execute_input": "2022-03-09T14:46:02.571951Z",
     "iopub.status.busy": "2022-03-09T14:46:02.571488Z",
     "iopub.status.idle": "2022-03-09T14:46:03.688499Z",
     "shell.execute_reply": "2022-03-09T14:46:03.687979Z",
     "shell.execute_reply.started": "2022-03-09T14:46:02.571932Z"
    },
    "tags": []
   },
   "outputs": [
    {
     "data": {
      "text/html": [
       "<pre style=\"margin: 0.1em;\n",
       "padding-left: 0.25em;\n",
       "border-left-style: solid;\n",
       "font-family: var(--jp-code-font-family);\n",
       "font-size: var(--jp-code-font-size);\n",
       "line-height: var(--jp-code-line-height);\n",
       "\"><span style=\"color: var(--jp-warn-color2)\">setup.MTCS</span> <span style=\"color: var(--jp-success-color0)\">DEBUG</span>: mtmount: Adding all resources.</pre>"
      ],
      "text/plain": [
       "<IPython.core.display.HTML object>"
      ]
     },
     "metadata": {},
     "output_type": "display_data"
    },
    {
     "data": {
      "text/html": [
       "<pre style=\"margin: 0.1em;\n",
       "padding-left: 0.25em;\n",
       "border-left-style: solid;\n",
       "font-family: var(--jp-code-font-family);\n",
       "font-size: var(--jp-code-font-size);\n",
       "line-height: var(--jp-code-line-height);\n",
       "\"><span style=\"color: var(--jp-warn-color2)\">setup.MTCS</span> <span style=\"color: var(--jp-success-color0)\">DEBUG</span>: mtptg: Adding all resources.</pre>"
      ],
      "text/plain": [
       "<IPython.core.display.HTML object>"
      ]
     },
     "metadata": {},
     "output_type": "display_data"
    },
    {
     "data": {
      "text/html": [
       "<pre style=\"margin: 0.1em;\n",
       "padding-left: 0.25em;\n",
       "border-left-style: solid;\n",
       "font-family: var(--jp-code-font-family);\n",
       "font-size: var(--jp-code-font-size);\n",
       "line-height: var(--jp-code-line-height);\n",
       "\"><span style=\"color: var(--jp-warn-color2)\">setup.MTCS</span> <span style=\"color: var(--jp-success-color0)\">DEBUG</span>: mtaos: Adding all resources.</pre>"
      ],
      "text/plain": [
       "<IPython.core.display.HTML object>"
      ]
     },
     "metadata": {},
     "output_type": "display_data"
    },
    {
     "data": {
      "text/html": [
       "<pre style=\"margin: 0.1em;\n",
       "padding-left: 0.25em;\n",
       "border-left-style: solid;\n",
       "font-family: var(--jp-code-font-family);\n",
       "font-size: var(--jp-code-font-size);\n",
       "line-height: var(--jp-code-line-height);\n",
       "\"><span style=\"color: var(--jp-warn-color2)\">setup.MTCS</span> <span style=\"color: var(--jp-success-color0)\">DEBUG</span>: mtm1m3: Adding all resources.</pre>"
      ],
      "text/plain": [
       "<IPython.core.display.HTML object>"
      ]
     },
     "metadata": {},
     "output_type": "display_data"
    },
    {
     "data": {
      "text/html": [
       "<pre style=\"margin: 0.1em;\n",
       "padding-left: 0.25em;\n",
       "border-left-style: solid;\n",
       "font-family: var(--jp-code-font-family);\n",
       "font-size: var(--jp-code-font-size);\n",
       "line-height: var(--jp-code-line-height);\n",
       "\"><span style=\"color: var(--jp-warn-color2)\">setup.MTCS</span> <span style=\"color: var(--jp-success-color0)\">DEBUG</span>: mtm2: Adding all resources.</pre>"
      ],
      "text/plain": [
       "<IPython.core.display.HTML object>"
      ]
     },
     "metadata": {},
     "output_type": "display_data"
    },
    {
     "data": {
      "text/html": [
       "<pre style=\"margin: 0.1em;\n",
       "padding-left: 0.25em;\n",
       "border-left-style: solid;\n",
       "font-family: var(--jp-code-font-family);\n",
       "font-size: var(--jp-code-font-size);\n",
       "line-height: var(--jp-code-line-height);\n",
       "\"><span style=\"color: var(--jp-warn-color2)\">setup.MTCS</span> <span style=\"color: var(--jp-success-color0)\">DEBUG</span>: mthexapod_1: Adding all resources.</pre>"
      ],
      "text/plain": [
       "<IPython.core.display.HTML object>"
      ]
     },
     "metadata": {},
     "output_type": "display_data"
    },
    {
     "data": {
      "text/html": [
       "<pre style=\"margin: 0.1em;\n",
       "padding-left: 0.25em;\n",
       "border-left-style: solid;\n",
       "font-family: var(--jp-code-font-family);\n",
       "font-size: var(--jp-code-font-size);\n",
       "line-height: var(--jp-code-line-height);\n",
       "\"><span style=\"color: var(--jp-warn-color2)\">setup.MTCS</span> <span style=\"color: var(--jp-success-color0)\">DEBUG</span>: mthexapod_2: Adding all resources.</pre>"
      ],
      "text/plain": [
       "<IPython.core.display.HTML object>"
      ]
     },
     "metadata": {},
     "output_type": "display_data"
    },
    {
     "data": {
      "text/html": [
       "<pre style=\"margin: 0.1em;\n",
       "padding-left: 0.25em;\n",
       "border-left-style: solid;\n",
       "font-family: var(--jp-code-font-family);\n",
       "font-size: var(--jp-code-font-size);\n",
       "line-height: var(--jp-code-line-height);\n",
       "\"><span style=\"color: var(--jp-warn-color2)\">setup.MTCS</span> <span style=\"color: var(--jp-success-color0)\">DEBUG</span>: mtrotator: Adding all resources.</pre>"
      ],
      "text/plain": [
       "<IPython.core.display.HTML object>"
      ]
     },
     "metadata": {},
     "output_type": "display_data"
    },
    {
     "data": {
      "text/html": [
       "<pre style=\"margin: 0.1em;\n",
       "padding-left: 0.25em;\n",
       "border-left-style: solid;\n",
       "font-family: var(--jp-code-font-family);\n",
       "font-size: var(--jp-code-font-size);\n",
       "line-height: var(--jp-code-line-height);\n",
       "\"><span style=\"color: var(--jp-warn-color2)\">setup.MTCS</span> <span style=\"color: var(--jp-success-color0)\">DEBUG</span>: mtdome: Adding all resources.</pre>"
      ],
      "text/plain": [
       "<IPython.core.display.HTML object>"
      ]
     },
     "metadata": {},
     "output_type": "display_data"
    },
    {
     "data": {
      "text/html": [
       "<pre style=\"margin: 0.1em;\n",
       "padding-left: 0.25em;\n",
       "border-left-style: solid;\n",
       "font-family: var(--jp-code-font-family);\n",
       "font-size: var(--jp-code-font-size);\n",
       "line-height: var(--jp-code-line-height);\n",
       "\"><span style=\"color: var(--jp-warn-color2)\">setup.MTCS</span> <span style=\"color: var(--jp-success-color0)\">DEBUG</span>: mtdometrajectory: Adding all resources.</pre>"
      ],
      "text/plain": [
       "<IPython.core.display.HTML object>"
      ]
     },
     "metadata": {},
     "output_type": "display_data"
    }
   ],
   "source": [
    "mtcs = MTCS(domain=domain, log=log)\n",
    "mtcs.set_rem_loglevel(40)"
   ]
  },
  {
   "cell_type": "code",
   "execution_count": 19,
   "id": "10784d8d-823e-42a7-b5c1-5d8a77f0e622",
   "metadata": {
    "execution": {
     "iopub.execute_input": "2022-03-09T14:46:03.694855Z",
     "iopub.status.busy": "2022-03-09T14:46:03.694607Z",
     "iopub.status.idle": "2022-03-09T14:46:04.142866Z",
     "shell.execute_reply": "2022-03-09T14:46:04.142473Z",
     "shell.execute_reply.started": "2022-03-09T14:46:03.694838Z"
    },
    "tags": []
   },
   "outputs": [
    {
     "data": {
      "text/html": [
       "<pre style=\"margin: 0.1em;\n",
       "padding-left: 0.25em;\n",
       "border-left-style: solid;\n",
       "font-family: var(--jp-code-font-family);\n",
       "font-size: var(--jp-code-font-size);\n",
       "line-height: var(--jp-code-line-height);\n",
       "\"><span style=\"color: var(--jp-warn-color2)\">MTHexapod</span> <span style=\"color: var(--jp-info-color0)\">INFO</span>: Read historical data in 0.05 sec</pre>"
      ],
      "text/plain": [
       "<IPython.core.display.HTML object>"
      ]
     },
     "metadata": {},
     "output_type": "display_data"
    },
    {
     "data": {
      "text/html": [
       "<pre style=\"margin: 0.1em;\n",
       "padding-left: 0.25em;\n",
       "border-left-style: solid;\n",
       "font-family: var(--jp-code-font-family);\n",
       "font-size: var(--jp-code-font-size);\n",
       "line-height: var(--jp-code-line-height);\n",
       "\"><span style=\"color: var(--jp-warn-color2)\">MTHexapod</span> <span style=\"color: var(--jp-info-color0)\">INFO</span>: Read historical data in 0.07 sec</pre>"
      ],
      "text/plain": [
       "<IPython.core.display.HTML object>"
      ]
     },
     "metadata": {},
     "output_type": "display_data"
    },
    {
     "data": {
      "text/plain": [
       "[None, None, None, None, None, None, None, None, None, None]"
      ]
     },
     "execution_count": 19,
     "metadata": {},
     "output_type": "execute_result"
    }
   ],
   "source": [
    "await mtcs.start_task"
   ]
  },
  {
   "cell_type": "markdown",
   "id": "275998fc-9658-4d6b-be31-8a71c1c724d8",
   "metadata": {},
   "source": [
    "## Prepare Logger"
   ]
  },
  {
   "cell_type": "code",
   "execution_count": 20,
   "id": "46032237-fb76-4121-a7f8-032020063383",
   "metadata": {
    "execution": {
     "iopub.execute_input": "2022-03-09T14:46:05.174359Z",
     "iopub.status.busy": "2022-03-09T14:46:05.174053Z",
     "iopub.status.idle": "2022-03-09T14:46:15.264325Z",
     "shell.execute_reply": "2022-03-09T14:46:15.263873Z",
     "shell.execute_reply.started": "2022-03-09T14:46:05.174339Z"
    },
    "tags": []
   },
   "outputs": [
    {
     "data": {
      "text/html": [
       "<pre style=\"margin: 0.1em;\n",
       "padding-left: 0.25em;\n",
       "border-left-style: solid;\n",
       "font-family: var(--jp-code-font-family);\n",
       "font-size: var(--jp-code-font-size);\n",
       "line-height: var(--jp-code-line-height);\n",
       "\"><span style=\"color: var(--jp-warn-color2)\">Script</span> <span style=\"color: var(--jp-info-color0)\">INFO</span>: Read historical data in 0.00 sec</pre>"
      ],
      "text/plain": [
       "<IPython.core.display.HTML object>"
      ]
     },
     "metadata": {},
     "output_type": "display_data"
    },
    {
     "name": "stdout",
     "output_type": "stream",
     "text": [
      " Time to start is 0:00:10.056695 [s] - index = 4368086\n"
     ]
    }
   ],
   "source": [
    "index = os.getegid() + np.random.randint(-5, 5)\n",
    "\n",
    "start_time = datetime.now()\n",
    "script = salobj.Controller(\"Script\", index=index)\n",
    "\n",
    "# Wait 10 second may help with DDS problems\n",
    "# Closing all other kernels may help too\n",
    "await asyncio.sleep(10) \n",
    "print(f\" Time to start is {datetime.now() - start_time} [s] - index = {index}\")"
   ]
  },
  {
   "cell_type": "markdown",
   "id": "f76f40a0-4b28-44ee-bbe1-842e6fc3f848",
   "metadata": {},
   "source": [
    "## Start Test"
   ]
  },
  {
   "cell_type": "markdown",
   "id": "0409cb4f-8dcb-4f67-99b1-cd0e48aa7089",
   "metadata": {},
   "source": [
    "The default Velocity Limit for the Rotator is 3.5 deg/s.  "
   ]
  },
  {
   "cell_type": "code",
   "execution_count": null,
   "id": "125582c3-42bd-407f-8d03-e1cd96813182",
   "metadata": {},
   "outputs": [],
   "source": [
    "# Set Velocity Limit to 0.5 deg/s\n",
    "# await mtcs.rem.mtrotator.cmd_configureVelocity.set_start(vlimit=3.5, timeout=5)"
   ]
  },
  {
   "cell_type": "markdown",
   "id": "e41486b6-b12f-4478-9852-dca9fcf435c7",
   "metadata": {},
   "source": [
    "----\n",
    "Move the Rotator from 0 deg to +/- 90 deg in small steps (10 deg).  \n",
    "Keep an eye on the Motor Currents for Motor1 and Motor2 in the Rotator EUI. They should not exceed 4.2 A.  \n",
    "If any of the Motor Currents is too close to the limit of 4.2 A, lower down the Velocity Limit.  "
   ]
  },
  {
   "cell_type": "code",
   "execution_count": 24,
   "id": "e22e5e0a-aa26-4db0-8525-2fa5e5848489",
   "metadata": {
    "execution": {
     "iopub.execute_input": "2022-03-09T15:13:33.027610Z",
     "iopub.status.busy": "2022-03-09T15:13:33.027302Z",
     "iopub.status.idle": "2022-03-09T15:13:33.164107Z",
     "shell.execute_reply": "2022-03-09T15:13:33.163732Z",
     "shell.execute_reply.started": "2022-03-09T15:13:33.027591Z"
    },
    "tags": []
   },
   "outputs": [
    {
     "data": {
      "text/plain": [
       "<ddsutil.MTRotator_ackcmd_f04f56ad at 0x7efec5bbc310>"
      ]
     },
     "execution_count": 24,
     "metadata": {},
     "output_type": "execute_result"
    }
   ],
   "source": [
    "await mtcs.rem.mtrotator.cmd_move.set_start(position=0, timeout=5)"
   ]
  },
  {
   "cell_type": "code",
   "execution_count": 25,
   "id": "6bf1fede-fcfd-45d9-b50e-f00ce5ed8e2e",
   "metadata": {
    "execution": {
     "iopub.execute_input": "2022-03-09T15:13:50.761685Z",
     "iopub.status.busy": "2022-03-09T15:13:50.761387Z",
     "iopub.status.idle": "2022-03-09T15:16:51.121212Z",
     "shell.execute_reply": "2022-03-09T15:16:51.120921Z",
     "shell.execute_reply.started": "2022-03-09T15:13:50.761667Z"
    },
    "tags": []
   },
   "outputs": [
    {
     "data": {
      "text/html": [
       "<pre style=\"margin: 0.1em;\n",
       "padding-left: 0.25em;\n",
       "border-left-style: solid;\n",
       "font-family: var(--jp-code-font-family);\n",
       "font-size: var(--jp-code-font-size);\n",
       "line-height: var(--jp-code-line-height);\n",
       "\"><span style=\"color: var(--jp-warn-color2)\">Script</span> <span style=\"color: var(--jp-info-color0)\">INFO</span>: START -- LVV-T2539 - Moving Rotator with 102.8 lbs counter-weight - Hex@  0/0/0/0/0/0 -- Starting Time: 2022-03-09 15:13:50.791581 UTC</pre>"
      ],
      "text/plain": [
       "<IPython.core.display.HTML object>"
      ]
     },
     "metadata": {},
     "output_type": "display_data"
    },
    {
     "data": {
      "text/html": [
       "<pre style=\"margin: 0.1em;\n",
       "padding-left: 0.25em;\n",
       "border-left-style: solid;\n",
       "font-family: var(--jp-code-font-family);\n",
       "font-size: var(--jp-code-font-size);\n",
       "line-height: var(--jp-code-line-height);\n",
       "\"><span style=\"color: var(--jp-warn-color2)\">Script</span> <span style=\"color: var(--jp-info-color0)\">INFO</span>: END -- LVV-T2539 - Moving Rotator with 102.8 lbs counter-weight - Hex@  0/0/0/0/0/0 -- Starting Time: 2022-03-09 15:13:50.791581 UTC</pre>"
      ],
      "text/plain": [
       "<IPython.core.display.HTML object>"
      ]
     },
     "metadata": {},
     "output_type": "display_data"
    }
   ],
   "source": [
    "now = datetime.now()\n",
    "test_message = \"LVV-T2539 - Moving Rotator with 102.8 lbs counter-weight - Hex@  0/0/0/0/0/0\"\n",
    "script.log.info(f\"START -- {test_message} -- Starting Time: {now} UTC\")\n",
    "\n",
    "await mtcs.rem.mtrotator.cmd_configureVelocity.set_start(vlimit=3.5, timeout=5)\n",
    "await mtcs.rem.mthexapod_1.cmd_move.set_start(x=0, y=0, z=0, u=0, v=0, w=0, sync=True)\n",
    "\n",
    "try:\n",
    "    for pos in [90, -90, 0]:\n",
    "        await mtcs.rem.mtrotator.cmd_move.set_start(position=pos, timeout=5)\n",
    "        await asyncio.sleep(60)\n",
    "except:\n",
    "    script.log.info(f\"FAIL -- {test_message} -- Starting Time: {now} UTC\")\n",
    "else:\n",
    "    script.log.info(f\"END -- {test_message} -- Starting Time: {now} UTC\")"
   ]
  },
  {
   "cell_type": "code",
   "execution_count": 26,
   "id": "73a7f9a5-4271-41fc-8c24-8aaaf8d44543",
   "metadata": {
    "execution": {
     "iopub.execute_input": "2022-03-09T15:17:23.651565Z",
     "iopub.status.busy": "2022-03-09T15:17:23.651291Z",
     "iopub.status.idle": "2022-03-09T15:20:24.008538Z",
     "shell.execute_reply": "2022-03-09T15:20:24.008253Z",
     "shell.execute_reply.started": "2022-03-09T15:17:23.651546Z"
    }
   },
   "outputs": [
    {
     "data": {
      "text/html": [
       "<pre style=\"margin: 0.1em;\n",
       "padding-left: 0.25em;\n",
       "border-left-style: solid;\n",
       "font-family: var(--jp-code-font-family);\n",
       "font-size: var(--jp-code-font-size);\n",
       "line-height: var(--jp-code-line-height);\n",
       "\"><span style=\"color: var(--jp-warn-color2)\">Script</span> <span style=\"color: var(--jp-info-color0)\">INFO</span>: START -- LVV-T2539 - Moving Rotator with 102.8 lbs counter-weight - Hex@  11400/0/0/0/0/0 -- Starting Time: 2022-03-09 15:17:23.685270 UTC</pre>"
      ],
      "text/plain": [
       "<IPython.core.display.HTML object>"
      ]
     },
     "metadata": {},
     "output_type": "display_data"
    },
    {
     "data": {
      "text/html": [
       "<pre style=\"margin: 0.1em;\n",
       "padding-left: 0.25em;\n",
       "border-left-style: solid;\n",
       "font-family: var(--jp-code-font-family);\n",
       "font-size: var(--jp-code-font-size);\n",
       "line-height: var(--jp-code-line-height);\n",
       "\"><span style=\"color: var(--jp-warn-color2)\">Script</span> <span style=\"color: var(--jp-info-color0)\">INFO</span>: END -- LVV-T2539 - Moving Rotator with 102.8 lbs counter-weight - Hex@  11400/0/0/0/0/0 -- Starting Time: 2022-03-09 15:17:23.685270 UTC</pre>"
      ],
      "text/plain": [
       "<IPython.core.display.HTML object>"
      ]
     },
     "metadata": {},
     "output_type": "display_data"
    }
   ],
   "source": [
    "now = datetime.now()\n",
    "test_message = \"LVV-T2539 - Moving Rotator with 102.8 lbs counter-weight - Hex@  11400/0/0/0/0/0\"\n",
    "script.log.info(f\"START -- {test_message} -- Starting Time: {now} UTC\")\n",
    "\n",
    "await mtcs.rem.mtrotator.cmd_configureVelocity.set_start(vlimit=3.5, timeout=5)\n",
    "await mtcs.rem.mthexapod_1.cmd_move.set_start(x=11400, y=0, z=0, u=0, v=0, w=0, sync=True)\n",
    "await asyncio.sleep(60)\n",
    "\n",
    "try:\n",
    "    for pos in [90, -90, 0]:\n",
    "        await mtcs.rem.mtrotator.cmd_move.set_start(position=pos, timeout=5)\n",
    "        await asyncio.sleep(60)\n",
    "except:\n",
    "    script.log.info(f\"FAIL -- {test_message} -- Starting Time: {now} UTC\")\n",
    "else:\n",
    "    script.log.info(f\"END -- {test_message} -- Starting Time: {now} UTC\")"
   ]
  },
  {
   "cell_type": "markdown",
   "id": "89cc2412-64b3-4581-94d6-b9b7b333d80e",
   "metadata": {},
   "source": [
    "---\n",
    "We should not use the data above since the hexapod moved **with** the Rotator.  \n",
    "And this is not what we want.  \n",
    "Repeating the test."
   ]
  },
  {
   "cell_type": "code",
   "execution_count": 27,
   "id": "22c11a14-2244-434d-ab1c-713f38ff4bc0",
   "metadata": {
    "execution": {
     "iopub.execute_input": "2022-03-09T15:21:47.160835Z",
     "iopub.status.busy": "2022-03-09T15:21:47.160535Z",
     "iopub.status.idle": "2022-03-09T15:21:47.286469Z",
     "shell.execute_reply": "2022-03-09T15:21:47.286158Z",
     "shell.execute_reply.started": "2022-03-09T15:21:47.160817Z"
    }
   },
   "outputs": [
    {
     "data": {
      "text/plain": [
       "<ddsutil.MTHexapod_ackcmd_c4d6958b at 0x7efe70d9c0a0>"
      ]
     },
     "execution_count": 27,
     "metadata": {},
     "output_type": "execute_result"
    }
   ],
   "source": [
    "await mtcs.rem.mthexapod_1.cmd_move.set_start(x=0, y=0, z=0, u=0, v=0, w=0, sync=True)"
   ]
  },
  {
   "cell_type": "code",
   "execution_count": 28,
   "id": "3b49199c-4d2b-4f35-9484-82ab9cb52b36",
   "metadata": {
    "execution": {
     "iopub.execute_input": "2022-03-09T15:23:54.130339Z",
     "iopub.status.busy": "2022-03-09T15:23:54.130043Z",
     "iopub.status.idle": "2022-03-09T15:28:54.345108Z",
     "shell.execute_reply": "2022-03-09T15:28:54.344694Z",
     "shell.execute_reply.started": "2022-03-09T15:23:54.130321Z"
    },
    "tags": []
   },
   "outputs": [
    {
     "data": {
      "text/html": [
       "<pre style=\"margin: 0.1em;\n",
       "padding-left: 0.25em;\n",
       "border-left-style: solid;\n",
       "font-family: var(--jp-code-font-family);\n",
       "font-size: var(--jp-code-font-size);\n",
       "line-height: var(--jp-code-line-height);\n",
       "\"><span style=\"color: var(--jp-warn-color2)\">Script</span> <span style=\"color: var(--jp-info-color0)\">INFO</span>: START -- LVV-T2539 - Moving Rotator with 102.8 lbs counter-weight - Hex@  11400/0/0/0/0/0 -- Starting Time: 2022-03-09 15:23:54.163998 UTC</pre>"
      ],
      "text/plain": [
       "<IPython.core.display.HTML object>"
      ]
     },
     "metadata": {},
     "output_type": "display_data"
    },
    {
     "data": {
      "text/html": [
       "<pre style=\"margin: 0.1em;\n",
       "padding-left: 0.25em;\n",
       "border-left-style: solid;\n",
       "font-family: var(--jp-code-font-family);\n",
       "font-size: var(--jp-code-font-size);\n",
       "line-height: var(--jp-code-line-height);\n",
       "\"><span style=\"color: var(--jp-warn-color2)\">Script</span> <span style=\"color: var(--jp-info-color0)\">INFO</span>: FAIL -- LVV-T2539 - Moving Rotator with 102.8 lbs counter-weight - Hex@  11400/0/0/0/0/0 -- Starting Time: 2022-03-09 15:23:54.163998 UTC</pre>"
      ],
      "text/plain": [
       "<IPython.core.display.HTML object>"
      ]
     },
     "metadata": {},
     "output_type": "display_data"
    }
   ],
   "source": [
    "now = datetime.now()\n",
    "test_message = \"LVV-T2539 - Moving Rotator with 102.8 lbs counter-weight - Hex@  11400/0/0/0/0/0\"\n",
    "script.log.info(f\"START -- {test_message} -- Starting Time: {now} UTC\")\n",
    "\n",
    "await mtcs.rem.mtrotator.cmd_configureVelocity.set_start(vlimit=3.5, timeout=5)\n",
    "await mtcs.rem.mthexapod_1.cmd_move.set_start(x=11400, y=0, z=0, u=0, v=0, w=0, sync=True)\n",
    "await asyncio.sleep(180)\n",
    "\n",
    "try:\n",
    "    for pos in [90, -90, 0]:\n",
    "        await mtcs.rem.mtrotator.cmd_move.set_start(position=pos, timeout=5)\n",
    "        await asyncio.sleep(120)\n",
    "except:\n",
    "    script.log.info(f\"FAIL -- {test_message} -- Starting Time: {now} UTC\")\n",
    "else:\n",
    "    script.log.info(f\"END -- {test_message} -- Starting Time: {now} UTC\")"
   ]
  },
  {
   "cell_type": "markdown",
   "id": "49e26a70-0008-4550-9165-c1998634482d",
   "metadata": {},
   "source": [
    "The Rotator went to FAULT again with a SMLink Fault.\n",
    "We sent it to STANDBY and then ENABLED."
   ]
  },
  {
   "cell_type": "code",
   "execution_count": 30,
   "id": "94670e34-f3c4-4f99-9f7f-fb03b75584b6",
   "metadata": {
    "execution": {
     "iopub.execute_input": "2022-03-09T15:30:39.635694Z",
     "iopub.status.busy": "2022-03-09T15:30:39.635362Z",
     "iopub.status.idle": "2022-03-09T15:30:39.676465Z",
     "shell.execute_reply": "2022-03-09T15:30:39.676104Z",
     "shell.execute_reply.started": "2022-03-09T15:30:39.635675Z"
    }
   },
   "outputs": [
    {
     "data": {
      "text/html": [
       "<pre style=\"margin: 0.1em;\n",
       "padding-left: 0.25em;\n",
       "border-left-style: solid;\n",
       "font-family: var(--jp-code-font-family);\n",
       "font-size: var(--jp-code-font-size);\n",
       "line-height: var(--jp-code-line-height);\n",
       "\"><span style=\"color: var(--jp-warn-color2)\">setup.MTCS</span> <span style=\"color: var(--jp-success-color0)\">DEBUG</span>: [mtrotator]::[&lt;State.FAULT: 3&gt;, &lt;State.STANDBY: 5&gt;]</pre>"
      ],
      "text/plain": [
       "<IPython.core.display.HTML object>"
      ]
     },
     "metadata": {},
     "output_type": "display_data"
    },
    {
     "data": {
      "text/html": [
       "<pre style=\"margin: 0.1em;\n",
       "padding-left: 0.25em;\n",
       "border-left-style: solid;\n",
       "font-family: var(--jp-code-font-family);\n",
       "font-size: var(--jp-code-font-size);\n",
       "line-height: var(--jp-code-line-height);\n",
       "\"><span style=\"color: var(--jp-warn-color2)\">setup.MTCS</span> <span style=\"color: var(--jp-info-color0)\">INFO</span>: All components in &lt;State.STANDBY: 5&gt;.</pre>"
      ],
      "text/plain": [
       "<IPython.core.display.HTML object>"
      ]
     },
     "metadata": {},
     "output_type": "display_data"
    }
   ],
   "source": [
    "await mtcs.set_state(salobj.State.STANDBY, components=[\"mtrotator\"])"
   ]
  },
  {
   "cell_type": "code",
   "execution_count": 32,
   "id": "81dcc45e-d613-43b3-bf2c-2125d311087e",
   "metadata": {
    "execution": {
     "iopub.execute_input": "2022-03-09T15:30:50.123190Z",
     "iopub.status.busy": "2022-03-09T15:30:50.122901Z",
     "iopub.status.idle": "2022-03-09T15:31:04.343433Z",
     "shell.execute_reply": "2022-03-09T15:31:04.343038Z",
     "shell.execute_reply.started": "2022-03-09T15:30:50.123171Z"
    },
    "tags": []
   },
   "outputs": [
    {
     "data": {
      "text/html": [
       "<pre style=\"margin: 0.1em;\n",
       "padding-left: 0.25em;\n",
       "border-left-style: solid;\n",
       "font-family: var(--jp-code-font-family);\n",
       "font-size: var(--jp-code-font-size);\n",
       "line-height: var(--jp-code-line-height);\n",
       "\"><span style=\"color: var(--jp-warn-color2)\">setup.MTCS</span> <span style=\"color: var(--jp-success-color0)\">DEBUG</span>: [mtrotator]::[&lt;State.DISABLED: 1&gt;, &lt;State.ENABLED: 2&gt;]</pre>"
      ],
      "text/plain": [
       "<IPython.core.display.HTML object>"
      ]
     },
     "metadata": {},
     "output_type": "display_data"
    },
    {
     "data": {
      "text/html": [
       "<pre style=\"margin: 0.1em;\n",
       "padding-left: 0.25em;\n",
       "border-left-style: solid;\n",
       "font-family: var(--jp-code-font-family);\n",
       "font-size: var(--jp-code-font-size);\n",
       "line-height: var(--jp-code-line-height);\n",
       "\"><span style=\"color: var(--jp-warn-color2)\">setup.MTCS</span> <span style=\"color: var(--jp-info-color0)\">INFO</span>: All components in &lt;State.ENABLED: 2&gt;.</pre>"
      ],
      "text/plain": [
       "<IPython.core.display.HTML object>"
      ]
     },
     "metadata": {},
     "output_type": "display_data"
    }
   ],
   "source": [
    "await mtcs.set_state(salobj.State.ENABLED, components=[\"mtrotator\"])"
   ]
  },
  {
   "cell_type": "code",
   "execution_count": 33,
   "id": "6e67e0fa-642c-41b0-a87c-1339a1be2bd8",
   "metadata": {
    "execution": {
     "iopub.execute_input": "2022-03-09T15:31:08.157519Z",
     "iopub.status.busy": "2022-03-09T15:31:08.157234Z",
     "iopub.status.idle": "2022-03-09T15:31:08.294859Z",
     "shell.execute_reply": "2022-03-09T15:31:08.294413Z",
     "shell.execute_reply.started": "2022-03-09T15:31:08.157501Z"
    },
    "tags": []
   },
   "outputs": [
    {
     "data": {
      "text/plain": [
       "<ddsutil.MTRotator_ackcmd_f04f56ad at 0x7efec5c3ca00>"
      ]
     },
     "execution_count": 33,
     "metadata": {},
     "output_type": "execute_result"
    }
   ],
   "source": [
    "await mtcs.rem.mtrotator.cmd_move.set_start(position=0, timeout=5)"
   ]
  },
  {
   "cell_type": "markdown",
   "id": "d3e21747-f63e-48b8-a224-4c19d77f58e2",
   "metadata": {},
   "source": [
    "We got another error with the CCW/Rotator since the CCW did not follow the Rotator."
   ]
  },
  {
   "cell_type": "code",
   "execution_count": 34,
   "id": "6a19d66a-891b-4ca5-aab1-f71b518cece2",
   "metadata": {
    "execution": {
     "iopub.execute_input": "2022-03-09T15:34:54.135761Z",
     "iopub.status.busy": "2022-03-09T15:34:54.135450Z",
     "iopub.status.idle": "2022-03-09T15:34:54.256779Z",
     "shell.execute_reply": "2022-03-09T15:34:54.256437Z",
     "shell.execute_reply.started": "2022-03-09T15:34:54.135742Z"
    }
   },
   "outputs": [
    {
     "data": {
      "text/html": [
       "<pre style=\"margin: 0.1em;\n",
       "padding-left: 0.25em;\n",
       "border-left-style: solid;\n",
       "font-family: var(--jp-code-font-family);\n",
       "font-size: var(--jp-code-font-size);\n",
       "line-height: var(--jp-code-line-height);\n",
       "\"><span style=\"color: var(--jp-warn-color2)\">setup.MTCS</span> <span style=\"color: var(--jp-success-color0)\">DEBUG</span>: [mtmount]::[&lt;State.ENABLED: 2&gt;, &lt;State.DISABLED: 1&gt;, &lt;State.STANDBY: 5&gt;]</pre>"
      ],
      "text/plain": [
       "<IPython.core.display.HTML object>"
      ]
     },
     "metadata": {},
     "output_type": "display_data"
    },
    {
     "data": {
      "text/html": [
       "<pre style=\"margin: 0.1em;\n",
       "padding-left: 0.25em;\n",
       "border-left-style: solid;\n",
       "font-family: var(--jp-code-font-family);\n",
       "font-size: var(--jp-code-font-size);\n",
       "line-height: var(--jp-code-line-height);\n",
       "\"><span style=\"color: var(--jp-warn-color2)\">setup.MTCS</span> <span style=\"color: var(--jp-info-color0)\">INFO</span>: All components in &lt;State.STANDBY: 5&gt;.</pre>"
      ],
      "text/plain": [
       "<IPython.core.display.HTML object>"
      ]
     },
     "metadata": {},
     "output_type": "display_data"
    }
   ],
   "source": [
    "await mtcs.set_state(salobj.State.STANDBY, components=[\"mtmount\"])"
   ]
  },
  {
   "cell_type": "code",
   "execution_count": 35,
   "id": "dbbf1af7-2d6e-47e2-84cf-5b288528b50b",
   "metadata": {
    "execution": {
     "iopub.execute_input": "2022-03-09T15:36:12.076904Z",
     "iopub.status.busy": "2022-03-09T15:36:12.076616Z",
     "iopub.status.idle": "2022-03-09T15:36:15.194017Z",
     "shell.execute_reply": "2022-03-09T15:36:15.193698Z",
     "shell.execute_reply.started": "2022-03-09T15:36:12.076887Z"
    }
   },
   "outputs": [
    {
     "data": {
      "text/html": [
       "<pre style=\"margin: 0.1em;\n",
       "padding-left: 0.25em;\n",
       "border-left-style: solid;\n",
       "font-family: var(--jp-code-font-family);\n",
       "font-size: var(--jp-code-font-size);\n",
       "line-height: var(--jp-code-line-height);\n",
       "\"><span style=\"color: var(--jp-warn-color2)\">setup.MTCS</span> <span style=\"color: var(--jp-success-color0)\">DEBUG</span>: [mtmount]::[&lt;State.STANDBY: 5&gt;, &lt;State.DISABLED: 1&gt;, &lt;State.ENABLED: 2&gt;]</pre>"
      ],
      "text/plain": [
       "<IPython.core.display.HTML object>"
      ]
     },
     "metadata": {},
     "output_type": "display_data"
    },
    {
     "data": {
      "text/html": [
       "<pre style=\"margin: 0.1em;\n",
       "padding-left: 0.25em;\n",
       "border-left-style: solid;\n",
       "font-family: var(--jp-code-font-family);\n",
       "font-size: var(--jp-code-font-size);\n",
       "line-height: var(--jp-code-line-height);\n",
       "\"><span style=\"color: var(--jp-warn-color2)\">setup.MTCS</span> <span style=\"color: var(--jp-info-color0)\">INFO</span>: All components in &lt;State.ENABLED: 2&gt;.</pre>"
      ],
      "text/plain": [
       "<IPython.core.display.HTML object>"
      ]
     },
     "metadata": {},
     "output_type": "display_data"
    }
   ],
   "source": [
    "await mtcs.set_state(salobj.State.ENABLED, components=[\"mtmount\"])"
   ]
  },
  {
   "cell_type": "code",
   "execution_count": 37,
   "id": "c2453ced-61b8-4035-8e7d-e72924762014",
   "metadata": {
    "execution": {
     "iopub.execute_input": "2022-03-09T15:36:28.031737Z",
     "iopub.status.busy": "2022-03-09T15:36:28.031443Z",
     "iopub.status.idle": "2022-03-09T15:36:28.218809Z",
     "shell.execute_reply": "2022-03-09T15:36:28.218280Z",
     "shell.execute_reply.started": "2022-03-09T15:36:28.031720Z"
    },
    "tags": []
   },
   "outputs": [
    {
     "data": {
      "text/html": [
       "<pre style=\"margin: 0.1em;\n",
       "padding-left: 0.25em;\n",
       "border-left-style: solid;\n",
       "font-family: var(--jp-code-font-family);\n",
       "font-size: var(--jp-code-font-size);\n",
       "line-height: var(--jp-code-line-height);\n",
       "\"><span style=\"color: var(--jp-warn-color2)\">setup.MTCS</span> <span style=\"color: var(--jp-info-color0)\">INFO</span>: Enabling CCW following.</pre>"
      ],
      "text/plain": [
       "<IPython.core.display.HTML object>"
      ]
     },
     "metadata": {},
     "output_type": "display_data"
    },
    {
     "ename": "AckError",
     "evalue": "msg='Command failed', ackcmd=(ackcmd private_seqNum=708223050, ack=<SalRetCode.CMD_FAILED: -302>, error=1, result='Failed: The commands allowed in Fault are: Reset<PARSED_NL><PARSED_NL>Not accepted command: 1002')",
     "output_type": "error",
     "traceback": [
      "\u001b[0;31m---------------------------------------------------------------------------\u001b[0m",
      "\u001b[0;31mAckError\u001b[0m                                  Traceback (most recent call last)",
      "Input \u001b[0;32mIn [37]\u001b[0m, in \u001b[0;36m<cell line: 1>\u001b[0;34m()\u001b[0m\n\u001b[0;32m----> 1\u001b[0m \u001b[38;5;28;01mawait\u001b[39;00m mtcs\u001b[38;5;241m.\u001b[39menable_ccw_following()\n",
      "File \u001b[0;32m~/auto-op-env-packages/ts_observatory_control/python/lsst/ts/observatory/control/maintel/mtcs.py:159\u001b[0m, in \u001b[0;36mMTCS.enable_ccw_following\u001b[0;34m(self)\u001b[0m\n\u001b[1;32m    155\u001b[0m \u001b[38;5;124;03m\"\"\"Enable camera cable wrap following the rotator.\"\"\"\u001b[39;00m\n\u001b[1;32m    157\u001b[0m \u001b[38;5;28mself\u001b[39m\u001b[38;5;241m.\u001b[39mlog\u001b[38;5;241m.\u001b[39minfo(\u001b[38;5;124m\"\u001b[39m\u001b[38;5;124mEnabling CCW following.\u001b[39m\u001b[38;5;124m\"\u001b[39m)\n\u001b[0;32m--> 159\u001b[0m \u001b[38;5;28;01mawait\u001b[39;00m \u001b[38;5;28mself\u001b[39m\u001b[38;5;241m.\u001b[39mrem\u001b[38;5;241m.\u001b[39mmtmount\u001b[38;5;241m.\u001b[39mcmd_enableCameraCableWrapFollowing\u001b[38;5;241m.\u001b[39mstart(\n\u001b[1;32m    160\u001b[0m     timeout\u001b[38;5;241m=\u001b[39m\u001b[38;5;28mself\u001b[39m\u001b[38;5;241m.\u001b[39mfast_timeout\n\u001b[1;32m    161\u001b[0m )\n",
      "File \u001b[0;32m/opt/lsst/software/stack/conda/miniconda3-py38_4.9.2/envs/lsst-scipipe-2.0.0/lib/python3.8/site-packages/lsst/ts/salobj/topics/remote_command.py:483\u001b[0m, in \u001b[0;36mRemoteCommand.start\u001b[0;34m(self, data, timeout, wait_done)\u001b[0m\n\u001b[1;32m    479\u001b[0m cmd_info \u001b[38;5;241m=\u001b[39m CommandInfo(\n\u001b[1;32m    480\u001b[0m     remote_command\u001b[38;5;241m=\u001b[39m\u001b[38;5;28mself\u001b[39m, seq_num\u001b[38;5;241m=\u001b[39mseq_num, wait_done\u001b[38;5;241m=\u001b[39mwait_done\n\u001b[1;32m    481\u001b[0m )\n\u001b[1;32m    482\u001b[0m \u001b[38;5;28mself\u001b[39m\u001b[38;5;241m.\u001b[39msalinfo\u001b[38;5;241m.\u001b[39m_running_cmds[seq_num] \u001b[38;5;241m=\u001b[39m cmd_info\n\u001b[0;32m--> 483\u001b[0m \u001b[38;5;28;01mreturn\u001b[39;00m \u001b[38;5;28;01mawait\u001b[39;00m cmd_info\u001b[38;5;241m.\u001b[39mnext_ackcmd(timeout\u001b[38;5;241m=\u001b[39mtimeout)\n",
      "File \u001b[0;32m/opt/lsst/software/stack/conda/miniconda3-py38_4.9.2/envs/lsst-scipipe-2.0.0/lib/python3.8/site-packages/lsst/ts/salobj/topics/remote_command.py:201\u001b[0m, in \u001b[0;36mCommandInfo.next_ackcmd\u001b[0;34m(self, timeout)\u001b[0m\n\u001b[1;32m    199\u001b[0m     ackcmd \u001b[38;5;241m=\u001b[39m \u001b[38;5;28;01mawait\u001b[39;00m \u001b[38;5;28mself\u001b[39m\u001b[38;5;241m.\u001b[39m_wait_task\n\u001b[1;32m    200\u001b[0m     \u001b[38;5;28;01mif\u001b[39;00m ackcmd\u001b[38;5;241m.\u001b[39mack \u001b[38;5;129;01min\u001b[39;00m \u001b[38;5;28mself\u001b[39m\u001b[38;5;241m.\u001b[39mfailed_ack_codes:\n\u001b[0;32m--> 201\u001b[0m         \u001b[38;5;28;01mraise\u001b[39;00m base\u001b[38;5;241m.\u001b[39mAckError(msg\u001b[38;5;241m=\u001b[39m\u001b[38;5;124m\"\u001b[39m\u001b[38;5;124mCommand failed\u001b[39m\u001b[38;5;124m\"\u001b[39m, ackcmd\u001b[38;5;241m=\u001b[39mackcmd)\n\u001b[1;32m    202\u001b[0m     \u001b[38;5;28;01mreturn\u001b[39;00m ackcmd\n\u001b[1;32m    203\u001b[0m \u001b[38;5;28;01mexcept\u001b[39;00m asyncio\u001b[38;5;241m.\u001b[39mTimeoutError:\n",
      "\u001b[0;31mAckError\u001b[0m: msg='Command failed', ackcmd=(ackcmd private_seqNum=708223050, ack=<SalRetCode.CMD_FAILED: -302>, error=1, result='Failed: The commands allowed in Fault are: Reset<PARSED_NL><PARSED_NL>Not accepted command: 1002')"
     ]
    }
   ],
   "source": [
    "await mtcs.enable_ccw_following()"
   ]
  },
  {
   "cell_type": "code",
   "execution_count": 38,
   "id": "dcc95634-55d2-4c8f-a655-20d70c131e8b",
   "metadata": {
    "execution": {
     "iopub.execute_input": "2022-03-09T15:36:43.183313Z",
     "iopub.status.busy": "2022-03-09T15:36:43.183024Z",
     "iopub.status.idle": "2022-03-09T15:36:43.223827Z",
     "shell.execute_reply": "2022-03-09T15:36:43.223540Z",
     "shell.execute_reply.started": "2022-03-09T15:36:43.183294Z"
    }
   },
   "outputs": [
    {
     "data": {
      "text/html": [
       "<pre style=\"margin: 0.1em;\n",
       "padding-left: 0.25em;\n",
       "border-left-style: solid;\n",
       "font-family: var(--jp-code-font-family);\n",
       "font-size: var(--jp-code-font-size);\n",
       "line-height: var(--jp-code-line-height);\n",
       "\"><span style=\"color: var(--jp-warn-color2)\">setup.MTCS</span> <span style=\"color: var(--jp-success-color0)\">DEBUG</span>: [mtrotator]::[&lt;State.FAULT: 3&gt;, &lt;State.STANDBY: 5&gt;]</pre>"
      ],
      "text/plain": [
       "<IPython.core.display.HTML object>"
      ]
     },
     "metadata": {},
     "output_type": "display_data"
    },
    {
     "data": {
      "text/html": [
       "<pre style=\"margin: 0.1em;\n",
       "padding-left: 0.25em;\n",
       "border-left-style: solid;\n",
       "font-family: var(--jp-code-font-family);\n",
       "font-size: var(--jp-code-font-size);\n",
       "line-height: var(--jp-code-line-height);\n",
       "\"><span style=\"color: var(--jp-warn-color2)\">setup.MTCS</span> <span style=\"color: var(--jp-info-color0)\">INFO</span>: All components in &lt;State.STANDBY: 5&gt;.</pre>"
      ],
      "text/plain": [
       "<IPython.core.display.HTML object>"
      ]
     },
     "metadata": {},
     "output_type": "display_data"
    }
   ],
   "source": [
    "await mtcs.set_state(salobj.State.STANDBY, components=[\"mtrotator\"])"
   ]
  },
  {
   "cell_type": "code",
   "execution_count": 40,
   "id": "f93f2211-61d3-404c-91cc-4a49afd2d177",
   "metadata": {
    "execution": {
     "iopub.execute_input": "2022-03-09T15:36:53.797087Z",
     "iopub.status.busy": "2022-03-09T15:36:53.796883Z",
     "iopub.status.idle": "2022-03-09T15:37:08.038649Z",
     "shell.execute_reply": "2022-03-09T15:37:08.038266Z",
     "shell.execute_reply.started": "2022-03-09T15:36:53.797070Z"
    },
    "tags": []
   },
   "outputs": [
    {
     "data": {
      "text/html": [
       "<pre style=\"margin: 0.1em;\n",
       "padding-left: 0.25em;\n",
       "border-left-style: solid;\n",
       "font-family: var(--jp-code-font-family);\n",
       "font-size: var(--jp-code-font-size);\n",
       "line-height: var(--jp-code-line-height);\n",
       "\"><span style=\"color: var(--jp-warn-color2)\">setup.MTCS</span> <span style=\"color: var(--jp-success-color0)\">DEBUG</span>: [mtrotator]::[&lt;State.DISABLED: 1&gt;, &lt;State.ENABLED: 2&gt;]</pre>"
      ],
      "text/plain": [
       "<IPython.core.display.HTML object>"
      ]
     },
     "metadata": {},
     "output_type": "display_data"
    },
    {
     "data": {
      "text/html": [
       "<pre style=\"margin: 0.1em;\n",
       "padding-left: 0.25em;\n",
       "border-left-style: solid;\n",
       "font-family: var(--jp-code-font-family);\n",
       "font-size: var(--jp-code-font-size);\n",
       "line-height: var(--jp-code-line-height);\n",
       "\"><span style=\"color: var(--jp-warn-color2)\">setup.MTCS</span> <span style=\"color: var(--jp-info-color0)\">INFO</span>: All components in &lt;State.ENABLED: 2&gt;.</pre>"
      ],
      "text/plain": [
       "<IPython.core.display.HTML object>"
      ]
     },
     "metadata": {},
     "output_type": "display_data"
    }
   ],
   "source": [
    "await mtcs.set_state(salobj.State.ENABLED, components=[\"mtrotator\"])"
   ]
  },
  {
   "cell_type": "code",
   "execution_count": 41,
   "id": "7473e218-139a-4fbe-ac1c-c85e4853d156",
   "metadata": {
    "execution": {
     "iopub.execute_input": "2022-03-09T15:37:15.438707Z",
     "iopub.status.busy": "2022-03-09T15:37:15.438495Z",
     "iopub.status.idle": "2022-03-09T15:37:15.590992Z",
     "shell.execute_reply": "2022-03-09T15:37:15.590592Z",
     "shell.execute_reply.started": "2022-03-09T15:37:15.438690Z"
    }
   },
   "outputs": [
    {
     "data": {
      "text/plain": [
       "<ddsutil.MTRotator_ackcmd_f04f56ad at 0x7efec5be71f0>"
      ]
     },
     "execution_count": 41,
     "metadata": {},
     "output_type": "execute_result"
    }
   ],
   "source": [
    "await mtcs.rem.mtrotator.cmd_move.set_start(position=0, timeout=5)"
   ]
  },
  {
   "cell_type": "markdown",
   "id": "3ed354ac-ad70-4dc8-9a1b-1dfc9f7ee985",
   "metadata": {},
   "source": [
    "Same issue. Sending MTMount to offline and trying to restart it again."
   ]
  },
  {
   "cell_type": "code",
   "execution_count": 42,
   "id": "c7447a2a-af27-421b-ae13-54b4f7193b3f",
   "metadata": {
    "execution": {
     "iopub.execute_input": "2022-03-09T15:38:02.803298Z",
     "iopub.status.busy": "2022-03-09T15:38:02.803086Z",
     "iopub.status.idle": "2022-03-09T15:38:02.925677Z",
     "shell.execute_reply": "2022-03-09T15:38:02.925302Z",
     "shell.execute_reply.started": "2022-03-09T15:38:02.803280Z"
    }
   },
   "outputs": [
    {
     "data": {
      "text/html": [
       "<pre style=\"margin: 0.1em;\n",
       "padding-left: 0.25em;\n",
       "border-left-style: solid;\n",
       "font-family: var(--jp-code-font-family);\n",
       "font-size: var(--jp-code-font-size);\n",
       "line-height: var(--jp-code-line-height);\n",
       "\"><span style=\"color: var(--jp-warn-color2)\">setup.MTCS</span> <span style=\"color: var(--jp-success-color0)\">DEBUG</span>: [mtmount]::[&lt;State.ENABLED: 2&gt;, &lt;State.DISABLED: 1&gt;, &lt;State.STANDBY: 5&gt;, &lt;State.OFFLINE: 4&gt;]</pre>"
      ],
      "text/plain": [
       "<IPython.core.display.HTML object>"
      ]
     },
     "metadata": {},
     "output_type": "display_data"
    },
    {
     "data": {
      "text/html": [
       "<pre style=\"margin: 0.1em;\n",
       "padding-left: 0.25em;\n",
       "border-left-style: solid;\n",
       "font-family: var(--jp-code-font-family);\n",
       "font-size: var(--jp-code-font-size);\n",
       "line-height: var(--jp-code-line-height);\n",
       "\"><span style=\"color: var(--jp-warn-color2)\">setup.MTCS</span> <span style=\"color: var(--jp-info-color0)\">INFO</span>: All components in &lt;State.OFFLINE: 4&gt;.</pre>"
      ],
      "text/plain": [
       "<IPython.core.display.HTML object>"
      ]
     },
     "metadata": {},
     "output_type": "display_data"
    }
   ],
   "source": [
    "await mtcs.set_state(salobj.State.OFFLINE, components=[\"mtmount\"])"
   ]
  },
  {
   "cell_type": "code",
   "execution_count": 43,
   "id": "dcb8b6f5-5080-4128-bfc0-b63aeaef83b7",
   "metadata": {
    "execution": {
     "iopub.execute_input": "2022-03-09T15:39:55.225941Z",
     "iopub.status.busy": "2022-03-09T15:39:55.225643Z",
     "iopub.status.idle": "2022-03-09T15:39:58.907411Z",
     "shell.execute_reply": "2022-03-09T15:39:58.907023Z",
     "shell.execute_reply.started": "2022-03-09T15:39:55.225923Z"
    }
   },
   "outputs": [
    {
     "data": {
      "text/html": [
       "<pre style=\"margin: 0.1em;\n",
       "padding-left: 0.25em;\n",
       "border-left-style: solid;\n",
       "font-family: var(--jp-code-font-family);\n",
       "font-size: var(--jp-code-font-size);\n",
       "line-height: var(--jp-code-line-height);\n",
       "\"><span style=\"color: var(--jp-warn-color2)\">setup.MTCS</span> <span style=\"color: var(--jp-success-color0)\">DEBUG</span>: [mtmount]::[&lt;State.STANDBY: 5&gt;, &lt;State.DISABLED: 1&gt;, &lt;State.ENABLED: 2&gt;]</pre>"
      ],
      "text/plain": [
       "<IPython.core.display.HTML object>"
      ]
     },
     "metadata": {},
     "output_type": "display_data"
    },
    {
     "data": {
      "text/html": [
       "<pre style=\"margin: 0.1em;\n",
       "padding-left: 0.25em;\n",
       "border-left-style: solid;\n",
       "font-family: var(--jp-code-font-family);\n",
       "font-size: var(--jp-code-font-size);\n",
       "line-height: var(--jp-code-line-height);\n",
       "\"><span style=\"color: var(--jp-warn-color2)\">setup.MTCS</span> <span style=\"color: var(--jp-info-color0)\">INFO</span>: All components in &lt;State.ENABLED: 2&gt;.</pre>"
      ],
      "text/plain": [
       "<IPython.core.display.HTML object>"
      ]
     },
     "metadata": {},
     "output_type": "display_data"
    }
   ],
   "source": [
    "await mtcs.set_state(salobj.State.ENABLED, components=[\"mtmount\"])"
   ]
  },
  {
   "cell_type": "code",
   "execution_count": 50,
   "id": "34129d70-8aa4-4dc0-8a8d-ec3e73d76581",
   "metadata": {
    "execution": {
     "iopub.execute_input": "2022-03-09T15:42:43.991932Z",
     "iopub.status.busy": "2022-03-09T15:42:43.991592Z",
     "iopub.status.idle": "2022-03-09T15:42:44.024752Z",
     "shell.execute_reply": "2022-03-09T15:42:44.024444Z",
     "shell.execute_reply.started": "2022-03-09T15:42:43.991905Z"
    },
    "tags": []
   },
   "outputs": [
    {
     "data": {
      "text/html": [
       "<pre style=\"margin: 0.1em;\n",
       "padding-left: 0.25em;\n",
       "border-left-style: solid;\n",
       "font-family: var(--jp-code-font-family);\n",
       "font-size: var(--jp-code-font-size);\n",
       "line-height: var(--jp-code-line-height);\n",
       "\"><span style=\"color: var(--jp-warn-color2)\">setup</span> <span style=\"color: var(--jp-success-color0)\">DEBUG</span>: CCW following mode enabled: 0 @ 2022-03-09 15:41:41.305813760.</pre>"
      ],
      "text/plain": [
       "<IPython.core.display.HTML object>"
      ]
     },
     "metadata": {},
     "output_type": "display_data"
    }
   ],
   "source": [
    "mtmount_ccw_following = await mtcs.rem.mtmount.evt_cameraCableWrapFollowing.aget()\n",
    "timestamp = pd.to_datetime(mtmount_ccw_following.private_sndStamp, unit='s')\n",
    "log.debug(f\"CCW following mode enabled: {mtmount_ccw_following.enabled} @ {timestamp}.\")"
   ]
  },
  {
   "cell_type": "code",
   "execution_count": 46,
   "id": "476d7993-9681-4a16-a0a1-94248c8c1705",
   "metadata": {
    "execution": {
     "iopub.execute_input": "2022-03-09T15:40:57.609767Z",
     "iopub.status.busy": "2022-03-09T15:40:57.609459Z",
     "iopub.status.idle": "2022-03-09T15:40:57.646557Z",
     "shell.execute_reply": "2022-03-09T15:40:57.646185Z",
     "shell.execute_reply.started": "2022-03-09T15:40:57.609748Z"
    }
   },
   "outputs": [
    {
     "data": {
      "text/html": [
       "<pre style=\"margin: 0.1em;\n",
       "padding-left: 0.25em;\n",
       "border-left-style: solid;\n",
       "font-family: var(--jp-code-font-family);\n",
       "font-size: var(--jp-code-font-size);\n",
       "line-height: var(--jp-code-line-height);\n",
       "\"><span style=\"color: var(--jp-warn-color2)\">setup.MTCS</span> <span style=\"color: var(--jp-success-color0)\">DEBUG</span>: [mtrotator]::[&lt;State.STANDBY: 5&gt;]</pre>"
      ],
      "text/plain": [
       "<IPython.core.display.HTML object>"
      ]
     },
     "metadata": {},
     "output_type": "display_data"
    },
    {
     "data": {
      "text/html": [
       "<pre style=\"margin: 0.1em;\n",
       "padding-left: 0.25em;\n",
       "border-left-style: solid;\n",
       "font-family: var(--jp-code-font-family);\n",
       "font-size: var(--jp-code-font-size);\n",
       "line-height: var(--jp-code-line-height);\n",
       "\"><span style=\"color: var(--jp-warn-color2)\">setup.MTCS</span> <span style=\"color: var(--jp-info-color0)\">INFO</span>: All components in &lt;State.STANDBY: 5&gt;.</pre>"
      ],
      "text/plain": [
       "<IPython.core.display.HTML object>"
      ]
     },
     "metadata": {},
     "output_type": "display_data"
    }
   ],
   "source": [
    "await mtcs.set_state(salobj.State.STANDBY, components=[\"mtrotator\"])"
   ]
  },
  {
   "cell_type": "code",
   "execution_count": 47,
   "id": "d8ba623b-9678-4092-aa97-9414b0676ce1",
   "metadata": {
    "execution": {
     "iopub.execute_input": "2022-03-09T15:41:04.049466Z",
     "iopub.status.busy": "2022-03-09T15:41:04.049163Z",
     "iopub.status.idle": "2022-03-09T15:41:04.329545Z",
     "shell.execute_reply": "2022-03-09T15:41:04.328992Z",
     "shell.execute_reply.started": "2022-03-09T15:41:04.049446Z"
    }
   },
   "outputs": [
    {
     "data": {
      "text/html": [
       "<pre style=\"margin: 0.1em;\n",
       "padding-left: 0.25em;\n",
       "border-left-style: solid;\n",
       "font-family: var(--jp-code-font-family);\n",
       "font-size: var(--jp-code-font-size);\n",
       "line-height: var(--jp-code-line-height);\n",
       "\"><span style=\"color: var(--jp-warn-color2)\">setup.MTCS</span> <span style=\"color: var(--jp-error-color2)\">ERROR</span>: Unable to transition mtrotator to &lt;State.ENABLED: 2&gt; NoneType: None\n",
       ".\n",
       "Traceback (most recent call last):\n",
       "  File &quot;/opt/lsst/software/stack/conda/miniconda3-py38_4.9.2/envs/lsst-scipipe-2.0.0/lib/python3.8/site-packages/lsst/ts/salobj/csc_utils.py&quot;, line 158, in set_summary_state\n",
       "    await cmd.start(timeout=timeout)\n",
       "  File &quot;/opt/lsst/software/stack/conda/miniconda3-py38_4.9.2/envs/lsst-scipipe-2.0.0/lib/python3.8/site-packages/lsst/ts/salobj/topics/remote_command.py&quot;, line 483, in start\n",
       "    return await cmd_info.next_ackcmd(timeout=timeout)\n",
       "  File &quot;/opt/lsst/software/stack/conda/miniconda3-py38_4.9.2/envs/lsst-scipipe-2.0.0/lib/python3.8/site-packages/lsst/ts/salobj/topics/remote_command.py&quot;, line 201, in next_ackcmd\n",
       "    raise base.AckError(msg=&quot;Command failed&quot;, ackcmd=ackcmd)\n",
       "lsst.ts.salobj.base.AckError: msg=&#x27;Command failed&#x27;, ackcmd=(ackcmd private_seqNum=483955429, ack=&lt;SalRetCode.CMD_FAILED: -302&gt;, error=1, result=&quot;Failed: SET_STATE command with param1=&lt;SetStateParam.START: 1&gt; failed: ExpectedError(&#x27;Not in Standby state&#x27;)&quot;)\n",
       "\n",
       "The above exception was the direct cause of the following exception:\n",
       "\n",
       "Traceback (most recent call last):\n",
       "  File &quot;/opt/lsst/software/stack/conda/miniconda3-py38_4.9.2/envs/lsst-scipipe-2.0.0/lib/python3.8/site-packages/lsst/ts/salobj/csc_utils.py&quot;, line 160, in set_summary_state\n",
       "    raise RuntimeError(\n",
       "RuntimeError: Error on cmd=cmd_enable, initial_state=5: msg=&#x27;Command failed&#x27;, ackcmd=(ackcmd private_seqNum=483955429, ack=&lt;SalRetCode.CMD_FAILED: -302&gt;, error=1, result=&quot;Failed: SET_STATE command with param1=&lt;SetStateParam.START: 1&gt; failed: ExpectedError(&#x27;Not in Standby state&#x27;)&quot;)\n",
       "</pre>"
      ],
      "text/plain": [
       "<IPython.core.display.HTML object>"
      ]
     },
     "metadata": {},
     "output_type": "display_data"
    },
    {
     "ename": "RuntimeError",
     "evalue": "Failed to transition ['mtrotator'] to <State.ENABLED: 2>.",
     "output_type": "error",
     "traceback": [
      "\u001b[0;31m---------------------------------------------------------------------------\u001b[0m",
      "\u001b[0;31mRuntimeError\u001b[0m                              Traceback (most recent call last)",
      "Input \u001b[0;32mIn [47]\u001b[0m, in \u001b[0;36m<cell line: 1>\u001b[0;34m()\u001b[0m\n\u001b[0;32m----> 1\u001b[0m \u001b[38;5;28;01mawait\u001b[39;00m mtcs\u001b[38;5;241m.\u001b[39mset_state(salobj\u001b[38;5;241m.\u001b[39mState\u001b[38;5;241m.\u001b[39mENABLED, components\u001b[38;5;241m=\u001b[39m[\u001b[38;5;124m\"\u001b[39m\u001b[38;5;124mmtrotator\u001b[39m\u001b[38;5;124m\"\u001b[39m])\n",
      "File \u001b[0;32m~/auto-op-env-packages/ts_observatory_control/python/lsst/ts/observatory/control/remote_group.py:812\u001b[0m, in \u001b[0;36mRemoteGroup.set_state\u001b[0;34m(self, state, settings, components)\u001b[0m\n\u001b[1;32m    809\u001b[0m         \u001b[38;5;28mself\u001b[39m\u001b[38;5;241m.\u001b[39mlog\u001b[38;5;241m.\u001b[39mdebug(\u001b[38;5;124mf\u001b[39m\u001b[38;5;124m\"\u001b[39m\u001b[38;5;124m[\u001b[39m\u001b[38;5;132;01m{\u001b[39;00mcomp\u001b[38;5;132;01m}\u001b[39;00m\u001b[38;5;124m]::\u001b[39m\u001b[38;5;132;01m{\u001b[39;00mret_val[i]\u001b[38;5;132;01m!r}\u001b[39;00m\u001b[38;5;124m\"\u001b[39m)\n\u001b[1;32m    811\u001b[0m \u001b[38;5;28;01mif\u001b[39;00m error_flag:\n\u001b[0;32m--> 812\u001b[0m     \u001b[38;5;28;01mraise\u001b[39;00m \u001b[38;5;167;01mRuntimeError\u001b[39;00m(\n\u001b[1;32m    813\u001b[0m         \u001b[38;5;124mf\u001b[39m\u001b[38;5;124m\"\u001b[39m\u001b[38;5;124mFailed to transition \u001b[39m\u001b[38;5;132;01m{\u001b[39;00mfailed_components\u001b[38;5;132;01m}\u001b[39;00m\u001b[38;5;124m to \u001b[39m\u001b[38;5;124m\"\u001b[39m\n\u001b[1;32m    814\u001b[0m         \u001b[38;5;124mf\u001b[39m\u001b[38;5;124m\"\u001b[39m\u001b[38;5;132;01m{\u001b[39;00msalobj\u001b[38;5;241m.\u001b[39mState(state)\u001b[38;5;132;01m!r}\u001b[39;00m\u001b[38;5;124m.\u001b[39m\u001b[38;5;124m\"\u001b[39m\n\u001b[1;32m    815\u001b[0m     )\n\u001b[1;32m    816\u001b[0m \u001b[38;5;28;01melse\u001b[39;00m:\n\u001b[1;32m    817\u001b[0m     \u001b[38;5;28mself\u001b[39m\u001b[38;5;241m.\u001b[39mlog\u001b[38;5;241m.\u001b[39minfo(\u001b[38;5;124mf\u001b[39m\u001b[38;5;124m\"\u001b[39m\u001b[38;5;124mAll components in \u001b[39m\u001b[38;5;132;01m{\u001b[39;00msalobj\u001b[38;5;241m.\u001b[39mState(state)\u001b[38;5;132;01m!r}\u001b[39;00m\u001b[38;5;124m.\u001b[39m\u001b[38;5;124m\"\u001b[39m)\n",
      "\u001b[0;31mRuntimeError\u001b[0m: Failed to transition ['mtrotator'] to <State.ENABLED: 2>."
     ]
    }
   ],
   "source": [
    "await mtcs.set_state(salobj.State.ENABLED, components=[\"mtrotator\"])"
   ]
  },
  {
   "cell_type": "code",
   "execution_count": 48,
   "id": "a2e018a2-65ce-4c29-9658-530fa5cd5135",
   "metadata": {
    "execution": {
     "iopub.execute_input": "2022-03-09T15:41:09.068686Z",
     "iopub.status.busy": "2022-03-09T15:41:09.068388Z",
     "iopub.status.idle": "2022-03-09T15:41:23.316751Z",
     "shell.execute_reply": "2022-03-09T15:41:23.316350Z",
     "shell.execute_reply.started": "2022-03-09T15:41:09.068667Z"
    }
   },
   "outputs": [
    {
     "data": {
      "text/html": [
       "<pre style=\"margin: 0.1em;\n",
       "padding-left: 0.25em;\n",
       "border-left-style: solid;\n",
       "font-family: var(--jp-code-font-family);\n",
       "font-size: var(--jp-code-font-size);\n",
       "line-height: var(--jp-code-line-height);\n",
       "\"><span style=\"color: var(--jp-warn-color2)\">setup.MTCS</span> <span style=\"color: var(--jp-success-color0)\">DEBUG</span>: [mtrotator]::[&lt;State.DISABLED: 1&gt;, &lt;State.ENABLED: 2&gt;]</pre>"
      ],
      "text/plain": [
       "<IPython.core.display.HTML object>"
      ]
     },
     "metadata": {},
     "output_type": "display_data"
    },
    {
     "data": {
      "text/html": [
       "<pre style=\"margin: 0.1em;\n",
       "padding-left: 0.25em;\n",
       "border-left-style: solid;\n",
       "font-family: var(--jp-code-font-family);\n",
       "font-size: var(--jp-code-font-size);\n",
       "line-height: var(--jp-code-line-height);\n",
       "\"><span style=\"color: var(--jp-warn-color2)\">setup.MTCS</span> <span style=\"color: var(--jp-info-color0)\">INFO</span>: All components in &lt;State.ENABLED: 2&gt;.</pre>"
      ],
      "text/plain": [
       "<IPython.core.display.HTML object>"
      ]
     },
     "metadata": {},
     "output_type": "display_data"
    }
   ],
   "source": [
    "await mtcs.set_state(salobj.State.ENABLED, components=[\"mtrotator\"])"
   ]
  },
  {
   "cell_type": "code",
   "execution_count": 49,
   "id": "826a323b-d96b-4a0e-a1f7-4b58f827979e",
   "metadata": {
    "execution": {
     "iopub.execute_input": "2022-03-09T15:42:09.555927Z",
     "iopub.status.busy": "2022-03-09T15:42:09.555641Z",
     "iopub.status.idle": "2022-03-09T15:42:09.682175Z",
     "shell.execute_reply": "2022-03-09T15:42:09.681779Z",
     "shell.execute_reply.started": "2022-03-09T15:42:09.555909Z"
    }
   },
   "outputs": [
    {
     "data": {
      "text/plain": [
       "<ddsutil.MTRotator_ackcmd_f04f56ad at 0x7efe70e665b0>"
      ]
     },
     "execution_count": 49,
     "metadata": {},
     "output_type": "execute_result"
    }
   ],
   "source": [
    "await mtcs.rem.mtrotator.cmd_move.set_start(position=9, timeout=5)"
   ]
  },
  {
   "cell_type": "code",
   "execution_count": 51,
   "id": "cfb2dd2a-dfa2-4458-b922-f963cd878526",
   "metadata": {
    "execution": {
     "iopub.execute_input": "2022-03-09T15:42:57.575347Z",
     "iopub.status.busy": "2022-03-09T15:42:57.575049Z",
     "iopub.status.idle": "2022-03-09T15:42:57.639812Z",
     "shell.execute_reply": "2022-03-09T15:42:57.639500Z",
     "shell.execute_reply.started": "2022-03-09T15:42:57.575329Z"
    }
   },
   "outputs": [
    {
     "data": {
      "text/html": [
       "<pre style=\"margin: 0.1em;\n",
       "padding-left: 0.25em;\n",
       "border-left-style: solid;\n",
       "font-family: var(--jp-code-font-family);\n",
       "font-size: var(--jp-code-font-size);\n",
       "line-height: var(--jp-code-line-height);\n",
       "\"><span style=\"color: var(--jp-warn-color2)\">setup.MTCS</span> <span style=\"color: var(--jp-info-color0)\">INFO</span>: Enabling CCW following.</pre>"
      ],
      "text/plain": [
       "<IPython.core.display.HTML object>"
      ]
     },
     "metadata": {},
     "output_type": "display_data"
    }
   ],
   "source": [
    "await mtcs.enable_ccw_following()"
   ]
  },
  {
   "cell_type": "code",
   "execution_count": 52,
   "id": "e8b0f3c3-c707-4f30-a41c-9bfe2a029600",
   "metadata": {
    "execution": {
     "iopub.execute_input": "2022-03-09T15:43:11.639851Z",
     "iopub.status.busy": "2022-03-09T15:43:11.639567Z",
     "iopub.status.idle": "2022-03-09T15:43:11.674208Z",
     "shell.execute_reply": "2022-03-09T15:43:11.673923Z",
     "shell.execute_reply.started": "2022-03-09T15:43:11.639833Z"
    }
   },
   "outputs": [
    {
     "data": {
      "text/html": [
       "<pre style=\"margin: 0.1em;\n",
       "padding-left: 0.25em;\n",
       "border-left-style: solid;\n",
       "font-family: var(--jp-code-font-family);\n",
       "font-size: var(--jp-code-font-size);\n",
       "line-height: var(--jp-code-line-height);\n",
       "\"><span style=\"color: var(--jp-warn-color2)\">setup</span> <span style=\"color: var(--jp-success-color0)\">DEBUG</span>: CCW following mode enabled: 1 @ 2022-03-09 15:43:34.637244928.</pre>"
      ],
      "text/plain": [
       "<IPython.core.display.HTML object>"
      ]
     },
     "metadata": {},
     "output_type": "display_data"
    }
   ],
   "source": [
    "mtmount_ccw_following = await mtcs.rem.mtmount.evt_cameraCableWrapFollowing.aget()\n",
    "timestamp = pd.to_datetime(mtmount_ccw_following.private_sndStamp, unit='s')\n",
    "log.debug(f\"CCW following mode enabled: {mtmount_ccw_following.enabled} @ {timestamp}.\")"
   ]
  },
  {
   "cell_type": "code",
   "execution_count": 55,
   "id": "8cbe0eea-b7e9-4743-adf4-87abb8d45904",
   "metadata": {
    "execution": {
     "iopub.execute_input": "2022-03-09T15:44:13.618447Z",
     "iopub.status.busy": "2022-03-09T15:44:13.618155Z",
     "iopub.status.idle": "2022-03-09T15:44:13.776755Z",
     "shell.execute_reply": "2022-03-09T15:44:13.776379Z",
     "shell.execute_reply.started": "2022-03-09T15:44:13.618428Z"
    },
    "tags": []
   },
   "outputs": [
    {
     "data": {
      "text/plain": [
       "<ddsutil.MTRotator_ackcmd_f04f56ad at 0x7efec5be7550>"
      ]
     },
     "execution_count": 55,
     "metadata": {},
     "output_type": "execute_result"
    }
   ],
   "source": [
    "await mtcs.rem.mtrotator.cmd_move.set_start(position=0, timeout=5)"
   ]
  },
  {
   "cell_type": "code",
   "execution_count": 54,
   "id": "b2cddde6-ff04-41fb-89d9-835b9a1a38ac",
   "metadata": {
    "execution": {
     "iopub.execute_input": "2022-03-09T15:43:36.679746Z",
     "iopub.status.busy": "2022-03-09T15:43:36.679450Z",
     "iopub.status.idle": "2022-03-09T15:43:36.789714Z",
     "shell.execute_reply": "2022-03-09T15:43:36.789318Z",
     "shell.execute_reply.started": "2022-03-09T15:43:36.679727Z"
    }
   },
   "outputs": [
    {
     "data": {
      "text/plain": [
       "<ddsutil.MTHexapod_ackcmd_c4d6958b at 0x7efe70e06340>"
      ]
     },
     "execution_count": 54,
     "metadata": {},
     "output_type": "execute_result"
    }
   ],
   "source": [
    "await mtcs.rem.mthexapod_1.cmd_move.set_start(x=0, y=0, z=0, u=0, v=0, w=0, sync=True)"
   ]
  },
  {
   "cell_type": "code",
   "execution_count": 56,
   "id": "d6624521-577a-4365-b5ce-b57fd059dca9",
   "metadata": {
    "execution": {
     "iopub.execute_input": "2022-03-09T15:44:34.853252Z",
     "iopub.status.busy": "2022-03-09T15:44:34.852985Z",
     "iopub.status.idle": "2022-03-09T15:52:35.313420Z",
     "shell.execute_reply": "2022-03-09T15:52:35.313138Z",
     "shell.execute_reply.started": "2022-03-09T15:44:34.853233Z"
    }
   },
   "outputs": [
    {
     "data": {
      "text/html": [
       "<pre style=\"margin: 0.1em;\n",
       "padding-left: 0.25em;\n",
       "border-left-style: solid;\n",
       "font-family: var(--jp-code-font-family);\n",
       "font-size: var(--jp-code-font-size);\n",
       "line-height: var(--jp-code-line-height);\n",
       "\"><span style=\"color: var(--jp-warn-color2)\">Script</span> <span style=\"color: var(--jp-info-color0)\">INFO</span>: START -- LVV-T2539 - Moving Rotator with 102.8 lbs counter-weight - Hex@  11400/0/0/0/0/0 -- Starting Time: 2022-03-09 15:44:34.883561 UTC</pre>"
      ],
      "text/plain": [
       "<IPython.core.display.HTML object>"
      ]
     },
     "metadata": {},
     "output_type": "display_data"
    },
    {
     "data": {
      "text/html": [
       "<pre style=\"margin: 0.1em;\n",
       "padding-left: 0.25em;\n",
       "border-left-style: solid;\n",
       "font-family: var(--jp-code-font-family);\n",
       "font-size: var(--jp-code-font-size);\n",
       "line-height: var(--jp-code-line-height);\n",
       "\"><span style=\"color: var(--jp-warn-color2)\">Script</span> <span style=\"color: var(--jp-info-color0)\">INFO</span>: END -- LVV-T2539 - Moving Rotator with 102.8 lbs counter-weight - Hex@  11400/0/0/0/0/0 -- Starting Time: 2022-03-09 15:44:34.883561 UTC</pre>"
      ],
      "text/plain": [
       "<IPython.core.display.HTML object>"
      ]
     },
     "metadata": {},
     "output_type": "display_data"
    }
   ],
   "source": [
    "now = datetime.now()\n",
    "test_message = \"LVV-T2539 - Moving Rotator with 102.8 lbs counter-weight - Hex@  11400/0/0/0/0/0\"\n",
    "script.log.info(f\"START -- {test_message} -- Starting Time: {now} UTC\")\n",
    "\n",
    "await mtcs.rem.mtrotator.cmd_configureVelocity.set_start(vlimit=3.5, timeout=5)\n",
    "await mtcs.rem.mthexapod_1.cmd_move.set_start(x=11400, y=0, z=0, u=0, v=0, w=0, sync=True)\n",
    "await asyncio.sleep(120)\n",
    "\n",
    "try:\n",
    "    for pos in [90, -90, 0]:\n",
    "        await mtcs.rem.mtrotator.cmd_move.set_start(position=pos, timeout=5)\n",
    "        await asyncio.sleep(120)\n",
    "except:\n",
    "    script.log.info(f\"FAIL -- {test_message} -- Starting Time: {now} UTC\")\n",
    "else:\n",
    "    script.log.info(f\"END -- {test_message} -- Starting Time: {now} UTC\")"
   ]
  },
  {
   "cell_type": "markdown",
   "id": "048e32a4-a99a-4133-a1f6-cddfec669d4d",
   "metadata": {},
   "source": [
    "Ok! We got data! Now let's move the Hexapod back to zero again and try the other X side."
   ]
  },
  {
   "cell_type": "code",
   "execution_count": 57,
   "id": "3de26c66-b1ae-4270-aebe-e405a2412be7",
   "metadata": {
    "execution": {
     "iopub.execute_input": "2022-03-09T15:52:35.314099Z",
     "iopub.status.busy": "2022-03-09T15:52:35.313956Z",
     "iopub.status.idle": "2022-03-09T15:52:35.440222Z",
     "shell.execute_reply": "2022-03-09T15:52:35.439947Z",
     "shell.execute_reply.started": "2022-03-09T15:52:35.314084Z"
    },
    "tags": []
   },
   "outputs": [
    {
     "data": {
      "text/plain": [
       "<ddsutil.MTHexapod_ackcmd_c4d6958b at 0x7efe68336100>"
      ]
     },
     "execution_count": 57,
     "metadata": {},
     "output_type": "execute_result"
    }
   ],
   "source": [
    "await mtcs.rem.mthexapod_1.cmd_move.set_start(x=0, y=0, z=0, u=0, v=0, w=0, sync=True)"
   ]
  },
  {
   "cell_type": "code",
   "execution_count": 58,
   "id": "84b8d48c-0099-4a1e-9306-ccb8cfa84ef5",
   "metadata": {
    "execution": {
     "iopub.execute_input": "2022-03-09T15:53:24.731720Z",
     "iopub.status.busy": "2022-03-09T15:53:24.731502Z",
     "iopub.status.idle": "2022-03-09T16:01:25.203338Z",
     "shell.execute_reply": "2022-03-09T16:01:25.202856Z",
     "shell.execute_reply.started": "2022-03-09T15:53:24.731701Z"
    }
   },
   "outputs": [
    {
     "data": {
      "text/html": [
       "<pre style=\"margin: 0.1em;\n",
       "padding-left: 0.25em;\n",
       "border-left-style: solid;\n",
       "font-family: var(--jp-code-font-family);\n",
       "font-size: var(--jp-code-font-size);\n",
       "line-height: var(--jp-code-line-height);\n",
       "\"><span style=\"color: var(--jp-warn-color2)\">Script</span> <span style=\"color: var(--jp-info-color0)\">INFO</span>: START -- LVV-T2539 - Moving Rotator with 102.8 lbs counter-weight - Hex@  -11400/0/0/0/0/0 -- Starting Time: 2022-03-09 15:53:24.762219 UTC</pre>"
      ],
      "text/plain": [
       "<IPython.core.display.HTML object>"
      ]
     },
     "metadata": {},
     "output_type": "display_data"
    },
    {
     "data": {
      "text/html": [
       "<pre style=\"margin: 0.1em;\n",
       "padding-left: 0.25em;\n",
       "border-left-style: solid;\n",
       "font-family: var(--jp-code-font-family);\n",
       "font-size: var(--jp-code-font-size);\n",
       "line-height: var(--jp-code-line-height);\n",
       "\"><span style=\"color: var(--jp-warn-color2)\">Script</span> <span style=\"color: var(--jp-info-color0)\">INFO</span>: END -- LVV-T2539 - Moving Rotator with 102.8 lbs counter-weight - Hex@  -11400/0/0/0/0/0 -- Starting Time: 2022-03-09 15:53:24.762219 UTC</pre>"
      ],
      "text/plain": [
       "<IPython.core.display.HTML object>"
      ]
     },
     "metadata": {},
     "output_type": "display_data"
    }
   ],
   "source": [
    "now = datetime.now()\n",
    "test_message = \"LVV-T2539 - Moving Rotator with 102.8 lbs counter-weight - Hex@  -11400/0/0/0/0/0\"\n",
    "script.log.info(f\"START -- {test_message} -- Starting Time: {now} UTC\")\n",
    "\n",
    "await mtcs.rem.mtrotator.cmd_configureVelocity.set_start(vlimit=3.5, timeout=5)\n",
    "await mtcs.rem.mthexapod_1.cmd_move.set_start(x=-11400, y=0, z=0, u=0, v=0, w=0, sync=True)\n",
    "await asyncio.sleep(120)\n",
    "\n",
    "try:\n",
    "    for pos in [90, -90, 0]:\n",
    "        await mtcs.rem.mtrotator.cmd_move.set_start(position=pos, timeout=5)\n",
    "        await asyncio.sleep(120)\n",
    "except:\n",
    "    script.log.info(f\"FAIL -- {test_message} -- Starting Time: {now} UTC\")\n",
    "else:\n",
    "    script.log.info(f\"END -- {test_message} -- Starting Time: {now} UTC\")"
   ]
  },
  {
   "cell_type": "markdown",
   "id": "efadc8ab-b611-461c-a733-a2d2ee0d0105",
   "metadata": {},
   "source": [
    "Bruno heard some kind of blunt noise in the Rotator/CCW/ComCam and the Rotator went to FAULT when moving from -90$^o$ to 0$^o$.  \n",
    "Trying to recover and moving back to 0$^o$."
   ]
  },
  {
   "cell_type": "code",
   "execution_count": 59,
   "id": "8d91f208-31b2-4089-97cd-bbf3b17369f8",
   "metadata": {
    "execution": {
     "iopub.execute_input": "2022-03-09T16:02:08.453711Z",
     "iopub.status.busy": "2022-03-09T16:02:08.453424Z",
     "iopub.status.idle": "2022-03-09T16:02:09.330449Z",
     "shell.execute_reply": "2022-03-09T16:02:09.329826Z",
     "shell.execute_reply.started": "2022-03-09T16:02:08.453693Z"
    }
   },
   "outputs": [
    {
     "data": {
      "text/html": [
       "<pre style=\"margin: 0.1em;\n",
       "padding-left: 0.25em;\n",
       "border-left-style: solid;\n",
       "font-family: var(--jp-code-font-family);\n",
       "font-size: var(--jp-code-font-size);\n",
       "line-height: var(--jp-code-line-height);\n",
       "\"><span style=\"color: var(--jp-warn-color2)\">setup.MTCS</span> <span style=\"color: var(--jp-error-color2)\">ERROR</span>: Unable to transition mtrotator to &lt;State.ENABLED: 2&gt; NoneType: None\n",
       ".\n",
       "Traceback (most recent call last):\n",
       "  File &quot;/opt/lsst/software/stack/conda/miniconda3-py38_4.9.2/envs/lsst-scipipe-2.0.0/lib/python3.8/site-packages/lsst/ts/salobj/csc_utils.py&quot;, line 158, in set_summary_state\n",
       "    await cmd.start(timeout=timeout)\n",
       "  File &quot;/opt/lsst/software/stack/conda/miniconda3-py38_4.9.2/envs/lsst-scipipe-2.0.0/lib/python3.8/site-packages/lsst/ts/salobj/topics/remote_command.py&quot;, line 483, in start\n",
       "    return await cmd_info.next_ackcmd(timeout=timeout)\n",
       "  File &quot;/opt/lsst/software/stack/conda/miniconda3-py38_4.9.2/envs/lsst-scipipe-2.0.0/lib/python3.8/site-packages/lsst/ts/salobj/topics/remote_command.py&quot;, line 201, in next_ackcmd\n",
       "    raise base.AckError(msg=&quot;Command failed&quot;, ackcmd=ackcmd)\n",
       "lsst.ts.salobj.base.AckError: msg=&#x27;Command failed&#x27;, ackcmd=(ackcmd private_seqNum=483955431, ack=&lt;SalRetCode.CMD_FAILED: -302&gt;, error=1, result=&quot;Failed: SET_STATE command with param1=&lt;SetStateParam.START: 1&gt; failed: ExpectedError(&#x27;Not in Standby state&#x27;)&quot;)\n",
       "\n",
       "The above exception was the direct cause of the following exception:\n",
       "\n",
       "Traceback (most recent call last):\n",
       "  File &quot;/opt/lsst/software/stack/conda/miniconda3-py38_4.9.2/envs/lsst-scipipe-2.0.0/lib/python3.8/site-packages/lsst/ts/salobj/csc_utils.py&quot;, line 160, in set_summary_state\n",
       "    raise RuntimeError(\n",
       "RuntimeError: Error on cmd=cmd_enable, initial_state=3: msg=&#x27;Command failed&#x27;, ackcmd=(ackcmd private_seqNum=483955431, ack=&lt;SalRetCode.CMD_FAILED: -302&gt;, error=1, result=&quot;Failed: SET_STATE command with param1=&lt;SetStateParam.START: 1&gt; failed: ExpectedError(&#x27;Not in Standby state&#x27;)&quot;)\n",
       "</pre>"
      ],
      "text/plain": [
       "<IPython.core.display.HTML object>"
      ]
     },
     "metadata": {},
     "output_type": "display_data"
    },
    {
     "ename": "RuntimeError",
     "evalue": "Failed to transition ['mtrotator'] to <State.ENABLED: 2>.",
     "output_type": "error",
     "traceback": [
      "\u001b[0;31m---------------------------------------------------------------------------\u001b[0m",
      "\u001b[0;31mRuntimeError\u001b[0m                              Traceback (most recent call last)",
      "Input \u001b[0;32mIn [59]\u001b[0m, in \u001b[0;36m<cell line: 1>\u001b[0;34m()\u001b[0m\n\u001b[0;32m----> 1\u001b[0m \u001b[38;5;28;01mawait\u001b[39;00m mtcs\u001b[38;5;241m.\u001b[39mset_state(salobj\u001b[38;5;241m.\u001b[39mState\u001b[38;5;241m.\u001b[39mENABLED, components\u001b[38;5;241m=\u001b[39m[\u001b[38;5;124m\"\u001b[39m\u001b[38;5;124mmtrotator\u001b[39m\u001b[38;5;124m\"\u001b[39m])\n",
      "File \u001b[0;32m~/auto-op-env-packages/ts_observatory_control/python/lsst/ts/observatory/control/remote_group.py:812\u001b[0m, in \u001b[0;36mRemoteGroup.set_state\u001b[0;34m(self, state, settings, components)\u001b[0m\n\u001b[1;32m    809\u001b[0m         \u001b[38;5;28mself\u001b[39m\u001b[38;5;241m.\u001b[39mlog\u001b[38;5;241m.\u001b[39mdebug(\u001b[38;5;124mf\u001b[39m\u001b[38;5;124m\"\u001b[39m\u001b[38;5;124m[\u001b[39m\u001b[38;5;132;01m{\u001b[39;00mcomp\u001b[38;5;132;01m}\u001b[39;00m\u001b[38;5;124m]::\u001b[39m\u001b[38;5;132;01m{\u001b[39;00mret_val[i]\u001b[38;5;132;01m!r}\u001b[39;00m\u001b[38;5;124m\"\u001b[39m)\n\u001b[1;32m    811\u001b[0m \u001b[38;5;28;01mif\u001b[39;00m error_flag:\n\u001b[0;32m--> 812\u001b[0m     \u001b[38;5;28;01mraise\u001b[39;00m \u001b[38;5;167;01mRuntimeError\u001b[39;00m(\n\u001b[1;32m    813\u001b[0m         \u001b[38;5;124mf\u001b[39m\u001b[38;5;124m\"\u001b[39m\u001b[38;5;124mFailed to transition \u001b[39m\u001b[38;5;132;01m{\u001b[39;00mfailed_components\u001b[38;5;132;01m}\u001b[39;00m\u001b[38;5;124m to \u001b[39m\u001b[38;5;124m\"\u001b[39m\n\u001b[1;32m    814\u001b[0m         \u001b[38;5;124mf\u001b[39m\u001b[38;5;124m\"\u001b[39m\u001b[38;5;132;01m{\u001b[39;00msalobj\u001b[38;5;241m.\u001b[39mState(state)\u001b[38;5;132;01m!r}\u001b[39;00m\u001b[38;5;124m.\u001b[39m\u001b[38;5;124m\"\u001b[39m\n\u001b[1;32m    815\u001b[0m     )\n\u001b[1;32m    816\u001b[0m \u001b[38;5;28;01melse\u001b[39;00m:\n\u001b[1;32m    817\u001b[0m     \u001b[38;5;28mself\u001b[39m\u001b[38;5;241m.\u001b[39mlog\u001b[38;5;241m.\u001b[39minfo(\u001b[38;5;124mf\u001b[39m\u001b[38;5;124m\"\u001b[39m\u001b[38;5;124mAll components in \u001b[39m\u001b[38;5;132;01m{\u001b[39;00msalobj\u001b[38;5;241m.\u001b[39mState(state)\u001b[38;5;132;01m!r}\u001b[39;00m\u001b[38;5;124m.\u001b[39m\u001b[38;5;124m\"\u001b[39m)\n",
      "\u001b[0;31mRuntimeError\u001b[0m: Failed to transition ['mtrotator'] to <State.ENABLED: 2>."
     ]
    }
   ],
   "source": [
    "await mtcs.set_state(salobj.State.ENABLED, components=[\"mtrotator\"])"
   ]
  },
  {
   "cell_type": "code",
   "execution_count": 60,
   "id": "81b28f81-0ccf-4c80-b40b-124233059cb6",
   "metadata": {
    "execution": {
     "iopub.execute_input": "2022-03-09T16:02:13.061270Z",
     "iopub.status.busy": "2022-03-09T16:02:13.060983Z",
     "iopub.status.idle": "2022-03-09T16:02:27.268235Z",
     "shell.execute_reply": "2022-03-09T16:02:27.267863Z",
     "shell.execute_reply.started": "2022-03-09T16:02:13.061251Z"
    }
   },
   "outputs": [
    {
     "data": {
      "text/html": [
       "<pre style=\"margin: 0.1em;\n",
       "padding-left: 0.25em;\n",
       "border-left-style: solid;\n",
       "font-family: var(--jp-code-font-family);\n",
       "font-size: var(--jp-code-font-size);\n",
       "line-height: var(--jp-code-line-height);\n",
       "\"><span style=\"color: var(--jp-warn-color2)\">setup.MTCS</span> <span style=\"color: var(--jp-success-color0)\">DEBUG</span>: [mtrotator]::[&lt;State.DISABLED: 1&gt;, &lt;State.ENABLED: 2&gt;]</pre>"
      ],
      "text/plain": [
       "<IPython.core.display.HTML object>"
      ]
     },
     "metadata": {},
     "output_type": "display_data"
    },
    {
     "data": {
      "text/html": [
       "<pre style=\"margin: 0.1em;\n",
       "padding-left: 0.25em;\n",
       "border-left-style: solid;\n",
       "font-family: var(--jp-code-font-family);\n",
       "font-size: var(--jp-code-font-size);\n",
       "line-height: var(--jp-code-line-height);\n",
       "\"><span style=\"color: var(--jp-warn-color2)\">setup.MTCS</span> <span style=\"color: var(--jp-info-color0)\">INFO</span>: All components in &lt;State.ENABLED: 2&gt;.</pre>"
      ],
      "text/plain": [
       "<IPython.core.display.HTML object>"
      ]
     },
     "metadata": {},
     "output_type": "display_data"
    }
   ],
   "source": [
    "await mtcs.set_state(salobj.State.ENABLED, components=[\"mtrotator\"])"
   ]
  },
  {
   "cell_type": "code",
   "execution_count": 61,
   "id": "cab63536-4e39-40ca-bb7e-62c8d259afd7",
   "metadata": {
    "execution": {
     "iopub.execute_input": "2022-03-09T16:02:36.465376Z",
     "iopub.status.busy": "2022-03-09T16:02:36.464950Z",
     "iopub.status.idle": "2022-03-09T16:02:36.498465Z",
     "shell.execute_reply": "2022-03-09T16:02:36.498057Z",
     "shell.execute_reply.started": "2022-03-09T16:02:36.465354Z"
    }
   },
   "outputs": [
    {
     "data": {
      "text/html": [
       "<pre style=\"margin: 0.1em;\n",
       "padding-left: 0.25em;\n",
       "border-left-style: solid;\n",
       "font-family: var(--jp-code-font-family);\n",
       "font-size: var(--jp-code-font-size);\n",
       "line-height: var(--jp-code-line-height);\n",
       "\"><span style=\"color: var(--jp-warn-color2)\">setup</span> <span style=\"color: var(--jp-success-color0)\">DEBUG</span>: CCW following mode enabled: 0 @ 2022-03-09 16:00:10.651717888.</pre>"
      ],
      "text/plain": [
       "<IPython.core.display.HTML object>"
      ]
     },
     "metadata": {},
     "output_type": "display_data"
    }
   ],
   "source": [
    "mtmount_ccw_following = await mtcs.rem.mtmount.evt_cameraCableWrapFollowing.aget()\n",
    "timestamp = pd.to_datetime(mtmount_ccw_following.private_sndStamp, unit='s')\n",
    "log.debug(f\"CCW following mode enabled: {mtmount_ccw_following.enabled} @ {timestamp}.\")"
   ]
  },
  {
   "cell_type": "code",
   "execution_count": 62,
   "id": "66ade95a-fa26-4d66-9d58-74e8fa6ecc89",
   "metadata": {
    "execution": {
     "iopub.execute_input": "2022-03-09T16:02:53.052318Z",
     "iopub.status.busy": "2022-03-09T16:02:53.052023Z",
     "iopub.status.idle": "2022-03-09T16:02:53.124217Z",
     "shell.execute_reply": "2022-03-09T16:02:53.123659Z",
     "shell.execute_reply.started": "2022-03-09T16:02:53.052298Z"
    }
   },
   "outputs": [
    {
     "data": {
      "text/html": [
       "<pre style=\"margin: 0.1em;\n",
       "padding-left: 0.25em;\n",
       "border-left-style: solid;\n",
       "font-family: var(--jp-code-font-family);\n",
       "font-size: var(--jp-code-font-size);\n",
       "line-height: var(--jp-code-line-height);\n",
       "\"><span style=\"color: var(--jp-warn-color2)\">setup.MTCS</span> <span style=\"color: var(--jp-info-color0)\">INFO</span>: Enabling CCW following.</pre>"
      ],
      "text/plain": [
       "<IPython.core.display.HTML object>"
      ]
     },
     "metadata": {},
     "output_type": "display_data"
    },
    {
     "ename": "AckError",
     "evalue": "msg='Command failed', ackcmd=(ackcmd private_seqNum=708223052, ack=<SalRetCode.CMD_FAILED: -302>, error=1, result='Failed: The commands allowed in Fault are: Reset<PARSED_NL><PARSED_NL>Not accepted command: 1002')",
     "output_type": "error",
     "traceback": [
      "\u001b[0;31m---------------------------------------------------------------------------\u001b[0m",
      "\u001b[0;31mAckError\u001b[0m                                  Traceback (most recent call last)",
      "Input \u001b[0;32mIn [62]\u001b[0m, in \u001b[0;36m<cell line: 1>\u001b[0;34m()\u001b[0m\n\u001b[0;32m----> 1\u001b[0m \u001b[38;5;28;01mawait\u001b[39;00m mtcs\u001b[38;5;241m.\u001b[39menable_ccw_following()\n",
      "File \u001b[0;32m~/auto-op-env-packages/ts_observatory_control/python/lsst/ts/observatory/control/maintel/mtcs.py:159\u001b[0m, in \u001b[0;36mMTCS.enable_ccw_following\u001b[0;34m(self)\u001b[0m\n\u001b[1;32m    155\u001b[0m \u001b[38;5;124;03m\"\"\"Enable camera cable wrap following the rotator.\"\"\"\u001b[39;00m\n\u001b[1;32m    157\u001b[0m \u001b[38;5;28mself\u001b[39m\u001b[38;5;241m.\u001b[39mlog\u001b[38;5;241m.\u001b[39minfo(\u001b[38;5;124m\"\u001b[39m\u001b[38;5;124mEnabling CCW following.\u001b[39m\u001b[38;5;124m\"\u001b[39m)\n\u001b[0;32m--> 159\u001b[0m \u001b[38;5;28;01mawait\u001b[39;00m \u001b[38;5;28mself\u001b[39m\u001b[38;5;241m.\u001b[39mrem\u001b[38;5;241m.\u001b[39mmtmount\u001b[38;5;241m.\u001b[39mcmd_enableCameraCableWrapFollowing\u001b[38;5;241m.\u001b[39mstart(\n\u001b[1;32m    160\u001b[0m     timeout\u001b[38;5;241m=\u001b[39m\u001b[38;5;28mself\u001b[39m\u001b[38;5;241m.\u001b[39mfast_timeout\n\u001b[1;32m    161\u001b[0m )\n",
      "File \u001b[0;32m/opt/lsst/software/stack/conda/miniconda3-py38_4.9.2/envs/lsst-scipipe-2.0.0/lib/python3.8/site-packages/lsst/ts/salobj/topics/remote_command.py:483\u001b[0m, in \u001b[0;36mRemoteCommand.start\u001b[0;34m(self, data, timeout, wait_done)\u001b[0m\n\u001b[1;32m    479\u001b[0m cmd_info \u001b[38;5;241m=\u001b[39m CommandInfo(\n\u001b[1;32m    480\u001b[0m     remote_command\u001b[38;5;241m=\u001b[39m\u001b[38;5;28mself\u001b[39m, seq_num\u001b[38;5;241m=\u001b[39mseq_num, wait_done\u001b[38;5;241m=\u001b[39mwait_done\n\u001b[1;32m    481\u001b[0m )\n\u001b[1;32m    482\u001b[0m \u001b[38;5;28mself\u001b[39m\u001b[38;5;241m.\u001b[39msalinfo\u001b[38;5;241m.\u001b[39m_running_cmds[seq_num] \u001b[38;5;241m=\u001b[39m cmd_info\n\u001b[0;32m--> 483\u001b[0m \u001b[38;5;28;01mreturn\u001b[39;00m \u001b[38;5;28;01mawait\u001b[39;00m cmd_info\u001b[38;5;241m.\u001b[39mnext_ackcmd(timeout\u001b[38;5;241m=\u001b[39mtimeout)\n",
      "File \u001b[0;32m/opt/lsst/software/stack/conda/miniconda3-py38_4.9.2/envs/lsst-scipipe-2.0.0/lib/python3.8/site-packages/lsst/ts/salobj/topics/remote_command.py:201\u001b[0m, in \u001b[0;36mCommandInfo.next_ackcmd\u001b[0;34m(self, timeout)\u001b[0m\n\u001b[1;32m    199\u001b[0m     ackcmd \u001b[38;5;241m=\u001b[39m \u001b[38;5;28;01mawait\u001b[39;00m \u001b[38;5;28mself\u001b[39m\u001b[38;5;241m.\u001b[39m_wait_task\n\u001b[1;32m    200\u001b[0m     \u001b[38;5;28;01mif\u001b[39;00m ackcmd\u001b[38;5;241m.\u001b[39mack \u001b[38;5;129;01min\u001b[39;00m \u001b[38;5;28mself\u001b[39m\u001b[38;5;241m.\u001b[39mfailed_ack_codes:\n\u001b[0;32m--> 201\u001b[0m         \u001b[38;5;28;01mraise\u001b[39;00m base\u001b[38;5;241m.\u001b[39mAckError(msg\u001b[38;5;241m=\u001b[39m\u001b[38;5;124m\"\u001b[39m\u001b[38;5;124mCommand failed\u001b[39m\u001b[38;5;124m\"\u001b[39m, ackcmd\u001b[38;5;241m=\u001b[39mackcmd)\n\u001b[1;32m    202\u001b[0m     \u001b[38;5;28;01mreturn\u001b[39;00m ackcmd\n\u001b[1;32m    203\u001b[0m \u001b[38;5;28;01mexcept\u001b[39;00m asyncio\u001b[38;5;241m.\u001b[39mTimeoutError:\n",
      "\u001b[0;31mAckError\u001b[0m: msg='Command failed', ackcmd=(ackcmd private_seqNum=708223052, ack=<SalRetCode.CMD_FAILED: -302>, error=1, result='Failed: The commands allowed in Fault are: Reset<PARSED_NL><PARSED_NL>Not accepted command: 1002')"
     ]
    }
   ],
   "source": [
    "await mtcs.enable_ccw_following()"
   ]
  },
  {
   "cell_type": "code",
   "execution_count": 63,
   "id": "37f6869b-aa5f-4a18-900f-14e2c1898ef9",
   "metadata": {
    "execution": {
     "iopub.execute_input": "2022-03-09T16:03:13.819872Z",
     "iopub.status.busy": "2022-03-09T16:03:13.819582Z",
     "iopub.status.idle": "2022-03-09T16:03:13.944004Z",
     "shell.execute_reply": "2022-03-09T16:03:13.943583Z",
     "shell.execute_reply.started": "2022-03-09T16:03:13.819854Z"
    }
   },
   "outputs": [
    {
     "data": {
      "text/html": [
       "<pre style=\"margin: 0.1em;\n",
       "padding-left: 0.25em;\n",
       "border-left-style: solid;\n",
       "font-family: var(--jp-code-font-family);\n",
       "font-size: var(--jp-code-font-size);\n",
       "line-height: var(--jp-code-line-height);\n",
       "\"><span style=\"color: var(--jp-warn-color2)\">setup.MTCS</span> <span style=\"color: var(--jp-success-color0)\">DEBUG</span>: [mtmount]::[&lt;State.ENABLED: 2&gt;, &lt;State.DISABLED: 1&gt;, &lt;State.STANDBY: 5&gt;]</pre>"
      ],
      "text/plain": [
       "<IPython.core.display.HTML object>"
      ]
     },
     "metadata": {},
     "output_type": "display_data"
    },
    {
     "data": {
      "text/html": [
       "<pre style=\"margin: 0.1em;\n",
       "padding-left: 0.25em;\n",
       "border-left-style: solid;\n",
       "font-family: var(--jp-code-font-family);\n",
       "font-size: var(--jp-code-font-size);\n",
       "line-height: var(--jp-code-line-height);\n",
       "\"><span style=\"color: var(--jp-warn-color2)\">setup.MTCS</span> <span style=\"color: var(--jp-info-color0)\">INFO</span>: All components in &lt;State.STANDBY: 5&gt;.</pre>"
      ],
      "text/plain": [
       "<IPython.core.display.HTML object>"
      ]
     },
     "metadata": {},
     "output_type": "display_data"
    }
   ],
   "source": [
    "await mtcs.set_state(salobj.State.STANDBY, components=[\"mtmount\"])"
   ]
  },
  {
   "cell_type": "code",
   "execution_count": 64,
   "id": "e4c785a6-603c-4672-8660-c99b3c7f4a65",
   "metadata": {
    "execution": {
     "iopub.execute_input": "2022-03-09T16:03:24.176339Z",
     "iopub.status.busy": "2022-03-09T16:03:24.176086Z",
     "iopub.status.idle": "2022-03-09T16:03:28.212214Z",
     "shell.execute_reply": "2022-03-09T16:03:28.211758Z",
     "shell.execute_reply.started": "2022-03-09T16:03:24.176320Z"
    }
   },
   "outputs": [
    {
     "data": {
      "text/html": [
       "<pre style=\"margin: 0.1em;\n",
       "padding-left: 0.25em;\n",
       "border-left-style: solid;\n",
       "font-family: var(--jp-code-font-family);\n",
       "font-size: var(--jp-code-font-size);\n",
       "line-height: var(--jp-code-line-height);\n",
       "\"><span style=\"color: var(--jp-warn-color2)\">setup.MTCS</span> <span style=\"color: var(--jp-success-color0)\">DEBUG</span>: [mtmount]::[&lt;State.STANDBY: 5&gt;, &lt;State.DISABLED: 1&gt;, &lt;State.ENABLED: 2&gt;]</pre>"
      ],
      "text/plain": [
       "<IPython.core.display.HTML object>"
      ]
     },
     "metadata": {},
     "output_type": "display_data"
    },
    {
     "data": {
      "text/html": [
       "<pre style=\"margin: 0.1em;\n",
       "padding-left: 0.25em;\n",
       "border-left-style: solid;\n",
       "font-family: var(--jp-code-font-family);\n",
       "font-size: var(--jp-code-font-size);\n",
       "line-height: var(--jp-code-line-height);\n",
       "\"><span style=\"color: var(--jp-warn-color2)\">setup.MTCS</span> <span style=\"color: var(--jp-info-color0)\">INFO</span>: All components in &lt;State.ENABLED: 2&gt;.</pre>"
      ],
      "text/plain": [
       "<IPython.core.display.HTML object>"
      ]
     },
     "metadata": {},
     "output_type": "display_data"
    }
   ],
   "source": [
    "await mtcs.set_state(salobj.State.ENABLED, components=[\"mtmount\"])"
   ]
  },
  {
   "cell_type": "code",
   "execution_count": 65,
   "id": "1fb5fdb7-4026-4621-904f-df4e0a7e9c2d",
   "metadata": {
    "execution": {
     "iopub.execute_input": "2022-03-09T16:03:30.392464Z",
     "iopub.status.busy": "2022-03-09T16:03:30.392175Z",
     "iopub.status.idle": "2022-03-09T16:03:30.425031Z",
     "shell.execute_reply": "2022-03-09T16:03:30.424630Z",
     "shell.execute_reply.started": "2022-03-09T16:03:30.392445Z"
    }
   },
   "outputs": [
    {
     "data": {
      "text/html": [
       "<pre style=\"margin: 0.1em;\n",
       "padding-left: 0.25em;\n",
       "border-left-style: solid;\n",
       "font-family: var(--jp-code-font-family);\n",
       "font-size: var(--jp-code-font-size);\n",
       "line-height: var(--jp-code-line-height);\n",
       "\"><span style=\"color: var(--jp-warn-color2)\">setup</span> <span style=\"color: var(--jp-success-color0)\">DEBUG</span>: CCW following mode enabled: 1 @ 2022-03-09 16:04:05.206942720.</pre>"
      ],
      "text/plain": [
       "<IPython.core.display.HTML object>"
      ]
     },
     "metadata": {},
     "output_type": "display_data"
    }
   ],
   "source": [
    "mtmount_ccw_following = await mtcs.rem.mtmount.evt_cameraCableWrapFollowing.aget()\n",
    "timestamp = pd.to_datetime(mtmount_ccw_following.private_sndStamp, unit='s')\n",
    "log.debug(f\"CCW following mode enabled: {mtmount_ccw_following.enabled} @ {timestamp}.\")"
   ]
  },
  {
   "cell_type": "code",
   "execution_count": 66,
   "id": "aa3cf158-8cbd-4085-8845-902c120e344b",
   "metadata": {
    "execution": {
     "iopub.execute_input": "2022-03-09T16:04:19.280189Z",
     "iopub.status.busy": "2022-03-09T16:04:19.279899Z",
     "iopub.status.idle": "2022-03-09T16:04:19.343506Z",
     "shell.execute_reply": "2022-03-09T16:04:19.342990Z",
     "shell.execute_reply.started": "2022-03-09T16:04:19.280171Z"
    }
   },
   "outputs": [
    {
     "ename": "AckError",
     "evalue": "msg='Command failed', ackcmd=(ackcmd private_seqNum=1067414049, ack=<SalRetCode.CMD_FAILED: -302>, error=1, result='Failed: Rejected: initial state is <State.FAULT: 3> instead of <State.ENABLED: 2>')",
     "output_type": "error",
     "traceback": [
      "\u001b[0;31m---------------------------------------------------------------------------\u001b[0m",
      "\u001b[0;31mAckError\u001b[0m                                  Traceback (most recent call last)",
      "Input \u001b[0;32mIn [66]\u001b[0m, in \u001b[0;36m<cell line: 1>\u001b[0;34m()\u001b[0m\n\u001b[0;32m----> 1\u001b[0m \u001b[38;5;28;01mawait\u001b[39;00m mtcs\u001b[38;5;241m.\u001b[39mrem\u001b[38;5;241m.\u001b[39mmtrotator\u001b[38;5;241m.\u001b[39mcmd_move\u001b[38;5;241m.\u001b[39mset_start(position\u001b[38;5;241m=\u001b[39m\u001b[38;5;241m-\u001b[39m\u001b[38;5;241m73\u001b[39m, timeout\u001b[38;5;241m=\u001b[39m\u001b[38;5;241m5\u001b[39m)\n",
      "File \u001b[0;32m/opt/lsst/software/stack/conda/miniconda3-py38_4.9.2/envs/lsst-scipipe-2.0.0/lib/python3.8/site-packages/lsst/ts/salobj/topics/remote_command.py:423\u001b[0m, in \u001b[0;36mRemoteCommand.set_start\u001b[0;34m(self, timeout, wait_done, **kwargs)\u001b[0m\n\u001b[1;32m    382\u001b[0m \u001b[38;5;124;03m\"\"\"Create a new ``self.data``, set zero or more fields,\u001b[39;00m\n\u001b[1;32m    383\u001b[0m \u001b[38;5;124;03mand start the command.\u001b[39;00m\n\u001b[1;32m    384\u001b[0m \n\u001b[0;32m   (...)\u001b[0m\n\u001b[1;32m    420\u001b[0m \u001b[38;5;124;03m    If ``data`` is not None and not an instance of `DataType`.\u001b[39;00m\n\u001b[1;32m    421\u001b[0m \u001b[38;5;124;03m\"\"\"\u001b[39;00m\n\u001b[1;32m    422\u001b[0m \u001b[38;5;28mself\u001b[39m\u001b[38;5;241m.\u001b[39mset(\u001b[38;5;241m*\u001b[39m\u001b[38;5;241m*\u001b[39mkwargs)\n\u001b[0;32m--> 423\u001b[0m \u001b[38;5;28;01mreturn\u001b[39;00m \u001b[38;5;28;01mawait\u001b[39;00m \u001b[38;5;28mself\u001b[39m\u001b[38;5;241m.\u001b[39mstart(timeout\u001b[38;5;241m=\u001b[39mtimeout, wait_done\u001b[38;5;241m=\u001b[39mwait_done)\n",
      "File \u001b[0;32m/opt/lsst/software/stack/conda/miniconda3-py38_4.9.2/envs/lsst-scipipe-2.0.0/lib/python3.8/site-packages/lsst/ts/salobj/topics/remote_command.py:483\u001b[0m, in \u001b[0;36mRemoteCommand.start\u001b[0;34m(self, data, timeout, wait_done)\u001b[0m\n\u001b[1;32m    479\u001b[0m cmd_info \u001b[38;5;241m=\u001b[39m CommandInfo(\n\u001b[1;32m    480\u001b[0m     remote_command\u001b[38;5;241m=\u001b[39m\u001b[38;5;28mself\u001b[39m, seq_num\u001b[38;5;241m=\u001b[39mseq_num, wait_done\u001b[38;5;241m=\u001b[39mwait_done\n\u001b[1;32m    481\u001b[0m )\n\u001b[1;32m    482\u001b[0m \u001b[38;5;28mself\u001b[39m\u001b[38;5;241m.\u001b[39msalinfo\u001b[38;5;241m.\u001b[39m_running_cmds[seq_num] \u001b[38;5;241m=\u001b[39m cmd_info\n\u001b[0;32m--> 483\u001b[0m \u001b[38;5;28;01mreturn\u001b[39;00m \u001b[38;5;28;01mawait\u001b[39;00m cmd_info\u001b[38;5;241m.\u001b[39mnext_ackcmd(timeout\u001b[38;5;241m=\u001b[39mtimeout)\n",
      "File \u001b[0;32m/opt/lsst/software/stack/conda/miniconda3-py38_4.9.2/envs/lsst-scipipe-2.0.0/lib/python3.8/site-packages/lsst/ts/salobj/topics/remote_command.py:201\u001b[0m, in \u001b[0;36mCommandInfo.next_ackcmd\u001b[0;34m(self, timeout)\u001b[0m\n\u001b[1;32m    199\u001b[0m     ackcmd \u001b[38;5;241m=\u001b[39m \u001b[38;5;28;01mawait\u001b[39;00m \u001b[38;5;28mself\u001b[39m\u001b[38;5;241m.\u001b[39m_wait_task\n\u001b[1;32m    200\u001b[0m     \u001b[38;5;28;01mif\u001b[39;00m ackcmd\u001b[38;5;241m.\u001b[39mack \u001b[38;5;129;01min\u001b[39;00m \u001b[38;5;28mself\u001b[39m\u001b[38;5;241m.\u001b[39mfailed_ack_codes:\n\u001b[0;32m--> 201\u001b[0m         \u001b[38;5;28;01mraise\u001b[39;00m base\u001b[38;5;241m.\u001b[39mAckError(msg\u001b[38;5;241m=\u001b[39m\u001b[38;5;124m\"\u001b[39m\u001b[38;5;124mCommand failed\u001b[39m\u001b[38;5;124m\"\u001b[39m, ackcmd\u001b[38;5;241m=\u001b[39mackcmd)\n\u001b[1;32m    202\u001b[0m     \u001b[38;5;28;01mreturn\u001b[39;00m ackcmd\n\u001b[1;32m    203\u001b[0m \u001b[38;5;28;01mexcept\u001b[39;00m asyncio\u001b[38;5;241m.\u001b[39mTimeoutError:\n",
      "\u001b[0;31mAckError\u001b[0m: msg='Command failed', ackcmd=(ackcmd private_seqNum=1067414049, ack=<SalRetCode.CMD_FAILED: -302>, error=1, result='Failed: Rejected: initial state is <State.FAULT: 3> instead of <State.ENABLED: 2>')"
     ]
    }
   ],
   "source": [
    "await mtcs.rem.mtrotator.cmd_move.set_start(position=-73, timeout=5)"
   ]
  },
  {
   "cell_type": "code",
   "execution_count": 67,
   "id": "a3480408-3be8-4480-bfe6-e6cf73ec1bfd",
   "metadata": {
    "execution": {
     "iopub.execute_input": "2022-03-09T16:04:39.331078Z",
     "iopub.status.busy": "2022-03-09T16:04:39.330803Z",
     "iopub.status.idle": "2022-03-09T16:04:39.370733Z",
     "shell.execute_reply": "2022-03-09T16:04:39.370339Z",
     "shell.execute_reply.started": "2022-03-09T16:04:39.331060Z"
    }
   },
   "outputs": [
    {
     "data": {
      "text/html": [
       "<pre style=\"margin: 0.1em;\n",
       "padding-left: 0.25em;\n",
       "border-left-style: solid;\n",
       "font-family: var(--jp-code-font-family);\n",
       "font-size: var(--jp-code-font-size);\n",
       "line-height: var(--jp-code-line-height);\n",
       "\"><span style=\"color: var(--jp-warn-color2)\">setup.MTCS</span> <span style=\"color: var(--jp-success-color0)\">DEBUG</span>: [mtrotator]::[&lt;State.FAULT: 3&gt;, &lt;State.STANDBY: 5&gt;]</pre>"
      ],
      "text/plain": [
       "<IPython.core.display.HTML object>"
      ]
     },
     "metadata": {},
     "output_type": "display_data"
    },
    {
     "data": {
      "text/html": [
       "<pre style=\"margin: 0.1em;\n",
       "padding-left: 0.25em;\n",
       "border-left-style: solid;\n",
       "font-family: var(--jp-code-font-family);\n",
       "font-size: var(--jp-code-font-size);\n",
       "line-height: var(--jp-code-line-height);\n",
       "\"><span style=\"color: var(--jp-warn-color2)\">setup.MTCS</span> <span style=\"color: var(--jp-info-color0)\">INFO</span>: All components in &lt;State.STANDBY: 5&gt;.</pre>"
      ],
      "text/plain": [
       "<IPython.core.display.HTML object>"
      ]
     },
     "metadata": {},
     "output_type": "display_data"
    }
   ],
   "source": [
    "await mtcs.set_state(salobj.State.STANDBY, components=[\"mtrotator\"])"
   ]
  },
  {
   "cell_type": "code",
   "execution_count": 68,
   "id": "985ceba7-fcc9-4855-b5e2-ded5f4f3aaf0",
   "metadata": {
    "execution": {
     "iopub.execute_input": "2022-03-09T16:04:43.378043Z",
     "iopub.status.busy": "2022-03-09T16:04:43.377772Z",
     "iopub.status.idle": "2022-03-09T16:04:43.736248Z",
     "shell.execute_reply": "2022-03-09T16:04:43.735764Z",
     "shell.execute_reply.started": "2022-03-09T16:04:43.378024Z"
    }
   },
   "outputs": [
    {
     "data": {
      "text/html": [
       "<pre style=\"margin: 0.1em;\n",
       "padding-left: 0.25em;\n",
       "border-left-style: solid;\n",
       "font-family: var(--jp-code-font-family);\n",
       "font-size: var(--jp-code-font-size);\n",
       "line-height: var(--jp-code-line-height);\n",
       "\"><span style=\"color: var(--jp-warn-color2)\">setup.MTCS</span> <span style=\"color: var(--jp-error-color2)\">ERROR</span>: Unable to transition mtrotator to &lt;State.ENABLED: 2&gt; NoneType: None\n",
       ".\n",
       "Traceback (most recent call last):\n",
       "  File &quot;/opt/lsst/software/stack/conda/miniconda3-py38_4.9.2/envs/lsst-scipipe-2.0.0/lib/python3.8/site-packages/lsst/ts/salobj/csc_utils.py&quot;, line 158, in set_summary_state\n",
       "    await cmd.start(timeout=timeout)\n",
       "  File &quot;/opt/lsst/software/stack/conda/miniconda3-py38_4.9.2/envs/lsst-scipipe-2.0.0/lib/python3.8/site-packages/lsst/ts/salobj/topics/remote_command.py&quot;, line 483, in start\n",
       "    return await cmd_info.next_ackcmd(timeout=timeout)\n",
       "  File &quot;/opt/lsst/software/stack/conda/miniconda3-py38_4.9.2/envs/lsst-scipipe-2.0.0/lib/python3.8/site-packages/lsst/ts/salobj/topics/remote_command.py&quot;, line 201, in next_ackcmd\n",
       "    raise base.AckError(msg=&quot;Command failed&quot;, ackcmd=ackcmd)\n",
       "lsst.ts.salobj.base.AckError: msg=&#x27;Command failed&#x27;, ackcmd=(ackcmd private_seqNum=483955433, ack=&lt;SalRetCode.CMD_FAILED: -302&gt;, error=1, result=&quot;Failed: SET_STATE command with param1=&lt;SetStateParam.START: 1&gt; failed: ExpectedError(&#x27;Not in Standby state&#x27;)&quot;)\n",
       "\n",
       "The above exception was the direct cause of the following exception:\n",
       "\n",
       "Traceback (most recent call last):\n",
       "  File &quot;/opt/lsst/software/stack/conda/miniconda3-py38_4.9.2/envs/lsst-scipipe-2.0.0/lib/python3.8/site-packages/lsst/ts/salobj/csc_utils.py&quot;, line 160, in set_summary_state\n",
       "    raise RuntimeError(\n",
       "RuntimeError: Error on cmd=cmd_enable, initial_state=5: msg=&#x27;Command failed&#x27;, ackcmd=(ackcmd private_seqNum=483955433, ack=&lt;SalRetCode.CMD_FAILED: -302&gt;, error=1, result=&quot;Failed: SET_STATE command with param1=&lt;SetStateParam.START: 1&gt; failed: ExpectedError(&#x27;Not in Standby state&#x27;)&quot;)\n",
       "</pre>"
      ],
      "text/plain": [
       "<IPython.core.display.HTML object>"
      ]
     },
     "metadata": {},
     "output_type": "display_data"
    },
    {
     "ename": "RuntimeError",
     "evalue": "Failed to transition ['mtrotator'] to <State.ENABLED: 2>.",
     "output_type": "error",
     "traceback": [
      "\u001b[0;31m---------------------------------------------------------------------------\u001b[0m",
      "\u001b[0;31mRuntimeError\u001b[0m                              Traceback (most recent call last)",
      "Input \u001b[0;32mIn [68]\u001b[0m, in \u001b[0;36m<cell line: 1>\u001b[0;34m()\u001b[0m\n\u001b[0;32m----> 1\u001b[0m \u001b[38;5;28;01mawait\u001b[39;00m mtcs\u001b[38;5;241m.\u001b[39mset_state(salobj\u001b[38;5;241m.\u001b[39mState\u001b[38;5;241m.\u001b[39mENABLED, components\u001b[38;5;241m=\u001b[39m[\u001b[38;5;124m\"\u001b[39m\u001b[38;5;124mmtrotator\u001b[39m\u001b[38;5;124m\"\u001b[39m])\n",
      "File \u001b[0;32m~/auto-op-env-packages/ts_observatory_control/python/lsst/ts/observatory/control/remote_group.py:812\u001b[0m, in \u001b[0;36mRemoteGroup.set_state\u001b[0;34m(self, state, settings, components)\u001b[0m\n\u001b[1;32m    809\u001b[0m         \u001b[38;5;28mself\u001b[39m\u001b[38;5;241m.\u001b[39mlog\u001b[38;5;241m.\u001b[39mdebug(\u001b[38;5;124mf\u001b[39m\u001b[38;5;124m\"\u001b[39m\u001b[38;5;124m[\u001b[39m\u001b[38;5;132;01m{\u001b[39;00mcomp\u001b[38;5;132;01m}\u001b[39;00m\u001b[38;5;124m]::\u001b[39m\u001b[38;5;132;01m{\u001b[39;00mret_val[i]\u001b[38;5;132;01m!r}\u001b[39;00m\u001b[38;5;124m\"\u001b[39m)\n\u001b[1;32m    811\u001b[0m \u001b[38;5;28;01mif\u001b[39;00m error_flag:\n\u001b[0;32m--> 812\u001b[0m     \u001b[38;5;28;01mraise\u001b[39;00m \u001b[38;5;167;01mRuntimeError\u001b[39;00m(\n\u001b[1;32m    813\u001b[0m         \u001b[38;5;124mf\u001b[39m\u001b[38;5;124m\"\u001b[39m\u001b[38;5;124mFailed to transition \u001b[39m\u001b[38;5;132;01m{\u001b[39;00mfailed_components\u001b[38;5;132;01m}\u001b[39;00m\u001b[38;5;124m to \u001b[39m\u001b[38;5;124m\"\u001b[39m\n\u001b[1;32m    814\u001b[0m         \u001b[38;5;124mf\u001b[39m\u001b[38;5;124m\"\u001b[39m\u001b[38;5;132;01m{\u001b[39;00msalobj\u001b[38;5;241m.\u001b[39mState(state)\u001b[38;5;132;01m!r}\u001b[39;00m\u001b[38;5;124m.\u001b[39m\u001b[38;5;124m\"\u001b[39m\n\u001b[1;32m    815\u001b[0m     )\n\u001b[1;32m    816\u001b[0m \u001b[38;5;28;01melse\u001b[39;00m:\n\u001b[1;32m    817\u001b[0m     \u001b[38;5;28mself\u001b[39m\u001b[38;5;241m.\u001b[39mlog\u001b[38;5;241m.\u001b[39minfo(\u001b[38;5;124mf\u001b[39m\u001b[38;5;124m\"\u001b[39m\u001b[38;5;124mAll components in \u001b[39m\u001b[38;5;132;01m{\u001b[39;00msalobj\u001b[38;5;241m.\u001b[39mState(state)\u001b[38;5;132;01m!r}\u001b[39;00m\u001b[38;5;124m.\u001b[39m\u001b[38;5;124m\"\u001b[39m)\n",
      "\u001b[0;31mRuntimeError\u001b[0m: Failed to transition ['mtrotator'] to <State.ENABLED: 2>."
     ]
    }
   ],
   "source": [
    "await mtcs.set_state(salobj.State.ENABLED, components=[\"mtrotator\"])"
   ]
  },
  {
   "cell_type": "code",
   "execution_count": 69,
   "id": "e5317fca-b108-49b8-b904-ee64f1baffb0",
   "metadata": {
    "execution": {
     "iopub.execute_input": "2022-03-09T16:04:47.294423Z",
     "iopub.status.busy": "2022-03-09T16:04:47.294157Z",
     "iopub.status.idle": "2022-03-09T16:05:01.523227Z",
     "shell.execute_reply": "2022-03-09T16:05:01.522831Z",
     "shell.execute_reply.started": "2022-03-09T16:04:47.294405Z"
    }
   },
   "outputs": [
    {
     "data": {
      "text/html": [
       "<pre style=\"margin: 0.1em;\n",
       "padding-left: 0.25em;\n",
       "border-left-style: solid;\n",
       "font-family: var(--jp-code-font-family);\n",
       "font-size: var(--jp-code-font-size);\n",
       "line-height: var(--jp-code-line-height);\n",
       "\"><span style=\"color: var(--jp-warn-color2)\">setup.MTCS</span> <span style=\"color: var(--jp-success-color0)\">DEBUG</span>: [mtrotator]::[&lt;State.DISABLED: 1&gt;, &lt;State.ENABLED: 2&gt;]</pre>"
      ],
      "text/plain": [
       "<IPython.core.display.HTML object>"
      ]
     },
     "metadata": {},
     "output_type": "display_data"
    },
    {
     "data": {
      "text/html": [
       "<pre style=\"margin: 0.1em;\n",
       "padding-left: 0.25em;\n",
       "border-left-style: solid;\n",
       "font-family: var(--jp-code-font-family);\n",
       "font-size: var(--jp-code-font-size);\n",
       "line-height: var(--jp-code-line-height);\n",
       "\"><span style=\"color: var(--jp-warn-color2)\">setup.MTCS</span> <span style=\"color: var(--jp-info-color0)\">INFO</span>: All components in &lt;State.ENABLED: 2&gt;.</pre>"
      ],
      "text/plain": [
       "<IPython.core.display.HTML object>"
      ]
     },
     "metadata": {},
     "output_type": "display_data"
    }
   ],
   "source": [
    "await mtcs.set_state(salobj.State.ENABLED, components=[\"mtrotator\"])"
   ]
  },
  {
   "cell_type": "code",
   "execution_count": 70,
   "id": "0981baaf-83f7-4ddf-bfd4-2cc1428ea837",
   "metadata": {
    "execution": {
     "iopub.execute_input": "2022-03-09T16:05:03.586518Z",
     "iopub.status.busy": "2022-03-09T16:05:03.586233Z",
     "iopub.status.idle": "2022-03-09T16:05:03.619136Z",
     "shell.execute_reply": "2022-03-09T16:05:03.618763Z",
     "shell.execute_reply.started": "2022-03-09T16:05:03.586499Z"
    }
   },
   "outputs": [
    {
     "data": {
      "text/html": [
       "<pre style=\"margin: 0.1em;\n",
       "padding-left: 0.25em;\n",
       "border-left-style: solid;\n",
       "font-family: var(--jp-code-font-family);\n",
       "font-size: var(--jp-code-font-size);\n",
       "line-height: var(--jp-code-line-height);\n",
       "\"><span style=\"color: var(--jp-warn-color2)\">setup</span> <span style=\"color: var(--jp-success-color0)\">DEBUG</span>: CCW following mode enabled: 1 @ 2022-03-09 16:04:05.206942720.</pre>"
      ],
      "text/plain": [
       "<IPython.core.display.HTML object>"
      ]
     },
     "metadata": {},
     "output_type": "display_data"
    }
   ],
   "source": [
    "mtmount_ccw_following = await mtcs.rem.mtmount.evt_cameraCableWrapFollowing.aget()\n",
    "timestamp = pd.to_datetime(mtmount_ccw_following.private_sndStamp, unit='s')\n",
    "log.debug(f\"CCW following mode enabled: {mtmount_ccw_following.enabled} @ {timestamp}.\")"
   ]
  },
  {
   "cell_type": "code",
   "execution_count": 71,
   "id": "88939950-07f3-41d4-81d1-74cfbd6b5550",
   "metadata": {
    "execution": {
     "iopub.execute_input": "2022-03-09T16:05:12.219491Z",
     "iopub.status.busy": "2022-03-09T16:05:12.219201Z",
     "iopub.status.idle": "2022-03-09T16:05:12.376349Z",
     "shell.execute_reply": "2022-03-09T16:05:12.375969Z",
     "shell.execute_reply.started": "2022-03-09T16:05:12.219472Z"
    }
   },
   "outputs": [
    {
     "data": {
      "text/plain": [
       "<ddsutil.MTRotator_ackcmd_f04f56ad at 0x7efec5bf0430>"
      ]
     },
     "execution_count": 71,
     "metadata": {},
     "output_type": "execute_result"
    }
   ],
   "source": [
    "await mtcs.rem.mtrotator.cmd_move.set_start(position=-73, timeout=5)"
   ]
  },
  {
   "cell_type": "code",
   "execution_count": 72,
   "id": "375a20d9-89e7-439d-8673-18856ab77dbe",
   "metadata": {
    "execution": {
     "iopub.execute_input": "2022-03-09T16:05:21.026802Z",
     "iopub.status.busy": "2022-03-09T16:05:21.026423Z",
     "iopub.status.idle": "2022-03-09T16:05:21.179895Z",
     "shell.execute_reply": "2022-03-09T16:05:21.179493Z",
     "shell.execute_reply.started": "2022-03-09T16:05:21.026783Z"
    }
   },
   "outputs": [
    {
     "data": {
      "text/plain": [
       "<ddsutil.MTRotator_ackcmd_f04f56ad at 0x7efe6837fa00>"
      ]
     },
     "execution_count": 72,
     "metadata": {},
     "output_type": "execute_result"
    }
   ],
   "source": [
    "await mtcs.rem.mtrotator.cmd_move.set_start(position=0, timeout=5)"
   ]
  },
  {
   "cell_type": "code",
   "execution_count": 73,
   "id": "39a0b3c3-dade-4a04-a2ad-00bb906052dc",
   "metadata": {
    "execution": {
     "iopub.execute_input": "2022-03-09T16:06:36.971968Z",
     "iopub.status.busy": "2022-03-09T16:06:36.971676Z",
     "iopub.status.idle": "2022-03-09T16:06:37.007742Z",
     "shell.execute_reply": "2022-03-09T16:06:37.007331Z",
     "shell.execute_reply.started": "2022-03-09T16:06:36.971949Z"
    }
   },
   "outputs": [
    {
     "data": {
      "text/html": [
       "<pre style=\"margin: 0.1em;\n",
       "padding-left: 0.25em;\n",
       "border-left-style: solid;\n",
       "font-family: var(--jp-code-font-family);\n",
       "font-size: var(--jp-code-font-size);\n",
       "line-height: var(--jp-code-line-height);\n",
       "\"><span style=\"color: var(--jp-warn-color2)\">Script</span> <span style=\"color: var(--jp-info-color0)\">INFO</span>: END -- LVV-T2539 - Moving Rotator with 102.8 lbs counter-weight - Hex@  -11400/0/0/0/0/0 -- Starting Time: 2022-03-09 15:53:24.762219 UTC - Rotator went to FAULT before - Now went to 0deg</pre>"
      ],
      "text/plain": [
       "<IPython.core.display.HTML object>"
      ]
     },
     "metadata": {},
     "output_type": "display_data"
    }
   ],
   "source": [
    "script.log.info(f\"END -- {test_message} -- Starting Time: {now} UTC - Rotator went to FAULT before - Now went to 0deg\")"
   ]
  },
  {
   "cell_type": "markdown",
   "id": "88bad8ec-e23e-4e61-8117-7c3b32f8cf6a",
   "metadata": {},
   "source": [
    "----\n",
    "Let's try again."
   ]
  },
  {
   "cell_type": "code",
   "execution_count": 74,
   "id": "bc6a13cd-7069-4f08-b275-da01a8c08c96",
   "metadata": {
    "execution": {
     "iopub.execute_input": "2022-03-09T17:01:57.319008Z",
     "iopub.status.busy": "2022-03-09T17:01:57.318804Z",
     "iopub.status.idle": "2022-03-09T17:01:57.426622Z",
     "shell.execute_reply": "2022-03-09T17:01:57.426321Z",
     "shell.execute_reply.started": "2022-03-09T17:01:57.318992Z"
    }
   },
   "outputs": [
    {
     "data": {
      "text/plain": [
       "<ddsutil.MTHexapod_ackcmd_c4d6958b at 0x7efe70d0b9a0>"
      ]
     },
     "execution_count": 74,
     "metadata": {},
     "output_type": "execute_result"
    }
   ],
   "source": [
    "await mtcs.rem.mthexapod_1.cmd_move.set_start(x=0, y=0, z=0, u=0, v=0, w=0, sync=True)"
   ]
  },
  {
   "cell_type": "markdown",
   "id": "f96a5697-38e3-48d7-adc6-7557c438410e",
   "metadata": {},
   "source": [
    "We use the following steps only to ensure that the system is in a working state."
   ]
  },
  {
   "cell_type": "code",
   "execution_count": 75,
   "id": "983532bf-1b60-49b4-9baa-ca81ab76b255",
   "metadata": {
    "execution": {
     "iopub.execute_input": "2022-03-09T17:04:11.016600Z",
     "iopub.status.busy": "2022-03-09T17:04:11.016296Z",
     "iopub.status.idle": "2022-03-09T17:04:11.054400Z",
     "shell.execute_reply": "2022-03-09T17:04:11.054003Z",
     "shell.execute_reply.started": "2022-03-09T17:04:11.016572Z"
    }
   },
   "outputs": [
    {
     "data": {
      "text/html": [
       "<pre style=\"margin: 0.1em;\n",
       "padding-left: 0.25em;\n",
       "border-left-style: solid;\n",
       "font-family: var(--jp-code-font-family);\n",
       "font-size: var(--jp-code-font-size);\n",
       "line-height: var(--jp-code-line-height);\n",
       "\"><span style=\"color: var(--jp-warn-color2)\">setup.MTCS</span> <span style=\"color: var(--jp-success-color0)\">DEBUG</span>: [mtrotator]::[&lt;State.ENABLED: 2&gt;, &lt;State.DISABLED: 1&gt;]</pre>"
      ],
      "text/plain": [
       "<IPython.core.display.HTML object>"
      ]
     },
     "metadata": {},
     "output_type": "display_data"
    },
    {
     "data": {
      "text/html": [
       "<pre style=\"margin: 0.1em;\n",
       "padding-left: 0.25em;\n",
       "border-left-style: solid;\n",
       "font-family: var(--jp-code-font-family);\n",
       "font-size: var(--jp-code-font-size);\n",
       "line-height: var(--jp-code-line-height);\n",
       "\"><span style=\"color: var(--jp-warn-color2)\">setup.MTCS</span> <span style=\"color: var(--jp-info-color0)\">INFO</span>: All components in &lt;State.DISABLED: 1&gt;.</pre>"
      ],
      "text/plain": [
       "<IPython.core.display.HTML object>"
      ]
     },
     "metadata": {},
     "output_type": "display_data"
    }
   ],
   "source": [
    "await mtcs.set_state(salobj.State.DISABLED, components=[\"mtrotator\"])"
   ]
  },
  {
   "cell_type": "code",
   "execution_count": 76,
   "id": "ad8fc48e-754c-4dc4-b4bc-c0ceb037bdd6",
   "metadata": {
    "execution": {
     "iopub.execute_input": "2022-03-09T17:04:12.931371Z",
     "iopub.status.busy": "2022-03-09T17:04:12.931079Z",
     "iopub.status.idle": "2022-03-09T17:04:13.546866Z",
     "shell.execute_reply": "2022-03-09T17:04:13.546477Z",
     "shell.execute_reply.started": "2022-03-09T17:04:12.931352Z"
    }
   },
   "outputs": [
    {
     "data": {
      "text/html": [
       "<pre style=\"margin: 0.1em;\n",
       "padding-left: 0.25em;\n",
       "border-left-style: solid;\n",
       "font-family: var(--jp-code-font-family);\n",
       "font-size: var(--jp-code-font-size);\n",
       "line-height: var(--jp-code-line-height);\n",
       "\"><span style=\"color: var(--jp-warn-color2)\">setup.MTCS</span> <span style=\"color: var(--jp-success-color0)\">DEBUG</span>: [mtmount]::[&lt;State.ENABLED: 2&gt;, &lt;State.DISABLED: 1&gt;, &lt;State.STANDBY: 5&gt;]</pre>"
      ],
      "text/plain": [
       "<IPython.core.display.HTML object>"
      ]
     },
     "metadata": {},
     "output_type": "display_data"
    },
    {
     "data": {
      "text/html": [
       "<pre style=\"margin: 0.1em;\n",
       "padding-left: 0.25em;\n",
       "border-left-style: solid;\n",
       "font-family: var(--jp-code-font-family);\n",
       "font-size: var(--jp-code-font-size);\n",
       "line-height: var(--jp-code-line-height);\n",
       "\"><span style=\"color: var(--jp-warn-color2)\">setup.MTCS</span> <span style=\"color: var(--jp-info-color0)\">INFO</span>: All components in &lt;State.STANDBY: 5&gt;.</pre>"
      ],
      "text/plain": [
       "<IPython.core.display.HTML object>"
      ]
     },
     "metadata": {},
     "output_type": "display_data"
    }
   ],
   "source": [
    "await mtcs.set_state(salobj.State.STANDBY, components=[\"mtmount\"])"
   ]
  },
  {
   "cell_type": "code",
   "execution_count": 77,
   "id": "a5db6e38-ddc7-4d5b-b007-021e3d6cbc48",
   "metadata": {
    "execution": {
     "iopub.execute_input": "2022-03-09T17:04:15.497187Z",
     "iopub.status.busy": "2022-03-09T17:04:15.496894Z",
     "iopub.status.idle": "2022-03-09T17:04:19.431149Z",
     "shell.execute_reply": "2022-03-09T17:04:19.430759Z",
     "shell.execute_reply.started": "2022-03-09T17:04:15.497170Z"
    }
   },
   "outputs": [
    {
     "data": {
      "text/html": [
       "<pre style=\"margin: 0.1em;\n",
       "padding-left: 0.25em;\n",
       "border-left-style: solid;\n",
       "font-family: var(--jp-code-font-family);\n",
       "font-size: var(--jp-code-font-size);\n",
       "line-height: var(--jp-code-line-height);\n",
       "\"><span style=\"color: var(--jp-warn-color2)\">setup.MTCS</span> <span style=\"color: var(--jp-success-color0)\">DEBUG</span>: [mtmount]::[&lt;State.STANDBY: 5&gt;, &lt;State.DISABLED: 1&gt;, &lt;State.ENABLED: 2&gt;]</pre>"
      ],
      "text/plain": [
       "<IPython.core.display.HTML object>"
      ]
     },
     "metadata": {},
     "output_type": "display_data"
    },
    {
     "data": {
      "text/html": [
       "<pre style=\"margin: 0.1em;\n",
       "padding-left: 0.25em;\n",
       "border-left-style: solid;\n",
       "font-family: var(--jp-code-font-family);\n",
       "font-size: var(--jp-code-font-size);\n",
       "line-height: var(--jp-code-line-height);\n",
       "\"><span style=\"color: var(--jp-warn-color2)\">setup.MTCS</span> <span style=\"color: var(--jp-info-color0)\">INFO</span>: All components in &lt;State.ENABLED: 2&gt;.</pre>"
      ],
      "text/plain": [
       "<IPython.core.display.HTML object>"
      ]
     },
     "metadata": {},
     "output_type": "display_data"
    }
   ],
   "source": [
    "await mtcs.set_state(salobj.State.ENABLED, components=[\"mtmount\"])"
   ]
  },
  {
   "cell_type": "code",
   "execution_count": 78,
   "id": "a6212eaf-0ab6-4a88-845d-2a0af1a2713b",
   "metadata": {
    "execution": {
     "iopub.execute_input": "2022-03-09T17:04:22.115182Z",
     "iopub.status.busy": "2022-03-09T17:04:22.114875Z",
     "iopub.status.idle": "2022-03-09T17:04:22.150100Z",
     "shell.execute_reply": "2022-03-09T17:04:22.149706Z",
     "shell.execute_reply.started": "2022-03-09T17:04:22.115162Z"
    }
   },
   "outputs": [
    {
     "data": {
      "text/html": [
       "<pre style=\"margin: 0.1em;\n",
       "padding-left: 0.25em;\n",
       "border-left-style: solid;\n",
       "font-family: var(--jp-code-font-family);\n",
       "font-size: var(--jp-code-font-size);\n",
       "line-height: var(--jp-code-line-height);\n",
       "\"><span style=\"color: var(--jp-warn-color2)\">setup.MTCS</span> <span style=\"color: var(--jp-success-color0)\">DEBUG</span>: [mtrotator]::[&lt;State.DISABLED: 1&gt;, &lt;State.ENABLED: 2&gt;]</pre>"
      ],
      "text/plain": [
       "<IPython.core.display.HTML object>"
      ]
     },
     "metadata": {},
     "output_type": "display_data"
    },
    {
     "data": {
      "text/html": [
       "<pre style=\"margin: 0.1em;\n",
       "padding-left: 0.25em;\n",
       "border-left-style: solid;\n",
       "font-family: var(--jp-code-font-family);\n",
       "font-size: var(--jp-code-font-size);\n",
       "line-height: var(--jp-code-line-height);\n",
       "\"><span style=\"color: var(--jp-warn-color2)\">setup.MTCS</span> <span style=\"color: var(--jp-info-color0)\">INFO</span>: All components in &lt;State.ENABLED: 2&gt;.</pre>"
      ],
      "text/plain": [
       "<IPython.core.display.HTML object>"
      ]
     },
     "metadata": {},
     "output_type": "display_data"
    }
   ],
   "source": [
    "await mtcs.set_state(salobj.State.ENABLED, components=[\"mtrotator\"])"
   ]
  },
  {
   "cell_type": "code",
   "execution_count": 79,
   "id": "2320c4e9-a0a9-43d2-983d-d631c787a317",
   "metadata": {
    "execution": {
     "iopub.execute_input": "2022-03-09T17:04:27.501345Z",
     "iopub.status.busy": "2022-03-09T17:04:27.501049Z",
     "iopub.status.idle": "2022-03-09T17:04:27.534900Z",
     "shell.execute_reply": "2022-03-09T17:04:27.534498Z",
     "shell.execute_reply.started": "2022-03-09T17:04:27.501326Z"
    }
   },
   "outputs": [
    {
     "data": {
      "text/html": [
       "<pre style=\"margin: 0.1em;\n",
       "padding-left: 0.25em;\n",
       "border-left-style: solid;\n",
       "font-family: var(--jp-code-font-family);\n",
       "font-size: var(--jp-code-font-size);\n",
       "line-height: var(--jp-code-line-height);\n",
       "\"><span style=\"color: var(--jp-warn-color2)\">setup</span> <span style=\"color: var(--jp-success-color0)\">DEBUG</span>: CCW following mode enabled: 1 @ 2022-03-09 17:04:56.424911360.</pre>"
      ],
      "text/plain": [
       "<IPython.core.display.HTML object>"
      ]
     },
     "metadata": {},
     "output_type": "display_data"
    }
   ],
   "source": [
    "mtmount_ccw_following = await mtcs.rem.mtmount.evt_cameraCableWrapFollowing.aget()\n",
    "timestamp = pd.to_datetime(mtmount_ccw_following.private_sndStamp, unit='s')\n",
    "log.debug(f\"CCW following mode enabled: {mtmount_ccw_following.enabled} @ {timestamp}.\")"
   ]
  },
  {
   "cell_type": "code",
   "execution_count": 80,
   "id": "a3bc62ab-3c08-4589-bd77-a9fcfff119fd",
   "metadata": {
    "execution": {
     "iopub.execute_input": "2022-03-09T17:04:31.262348Z",
     "iopub.status.busy": "2022-03-09T17:04:31.262047Z",
     "iopub.status.idle": "2022-03-09T17:04:31.397266Z",
     "shell.execute_reply": "2022-03-09T17:04:31.396854Z",
     "shell.execute_reply.started": "2022-03-09T17:04:31.262330Z"
    }
   },
   "outputs": [
    {
     "data": {
      "text/plain": [
       "<ddsutil.MTRotator_ackcmd_f04f56ad at 0x7efe5fcbe8e0>"
      ]
     },
     "execution_count": 80,
     "metadata": {},
     "output_type": "execute_result"
    }
   ],
   "source": [
    "# Check CCW Following \n",
    "await mtcs.rem.mtrotator.cmd_move.set_start(position=1, timeout=5)"
   ]
  },
  {
   "cell_type": "code",
   "execution_count": 81,
   "id": "81a832f9-9130-4cbc-896a-ca20f37791f0",
   "metadata": {
    "execution": {
     "iopub.execute_input": "2022-03-09T17:04:37.010060Z",
     "iopub.status.busy": "2022-03-09T17:04:37.009771Z",
     "iopub.status.idle": "2022-03-09T17:04:37.149217Z",
     "shell.execute_reply": "2022-03-09T17:04:37.148841Z",
     "shell.execute_reply.started": "2022-03-09T17:04:37.010042Z"
    }
   },
   "outputs": [
    {
     "data": {
      "text/plain": [
       "<ddsutil.MTRotator_ackcmd_f04f56ad at 0x7efec5bcd040>"
      ]
     },
     "execution_count": 81,
     "metadata": {},
     "output_type": "execute_result"
    }
   ],
   "source": [
    "# Check CCW Following \n",
    "await mtcs.rem.mtrotator.cmd_move.set_start(position=-1, timeout=5)"
   ]
  },
  {
   "cell_type": "code",
   "execution_count": 82,
   "id": "9aeb9131-8b91-40f2-a29e-3175f5d9d978",
   "metadata": {
    "execution": {
     "iopub.execute_input": "2022-03-09T17:04:43.168142Z",
     "iopub.status.busy": "2022-03-09T17:04:43.167871Z",
     "iopub.status.idle": "2022-03-09T17:04:43.302041Z",
     "shell.execute_reply": "2022-03-09T17:04:43.301665Z",
     "shell.execute_reply.started": "2022-03-09T17:04:43.168123Z"
    }
   },
   "outputs": [
    {
     "data": {
      "text/plain": [
       "<ddsutil.MTRotator_ackcmd_f04f56ad at 0x7efec5a853a0>"
      ]
     },
     "execution_count": 82,
     "metadata": {},
     "output_type": "execute_result"
    }
   ],
   "source": [
    "# Check CCW Following \n",
    "await mtcs.rem.mtrotator.cmd_move.set_start(position=0, timeout=5)"
   ]
  },
  {
   "cell_type": "code",
   "execution_count": 83,
   "id": "3e7d1324-77c3-498e-b8f1-ae5c0b8fe6c8",
   "metadata": {
    "execution": {
     "iopub.execute_input": "2022-03-09T17:05:18.667012Z",
     "iopub.status.busy": "2022-03-09T17:05:18.666834Z",
     "iopub.status.idle": "2022-03-09T17:09:18.968159Z",
     "shell.execute_reply": "2022-03-09T17:09:18.967698Z",
     "shell.execute_reply.started": "2022-03-09T17:05:18.666994Z"
    }
   },
   "outputs": [
    {
     "data": {
      "text/html": [
       "<pre style=\"margin: 0.1em;\n",
       "padding-left: 0.25em;\n",
       "border-left-style: solid;\n",
       "font-family: var(--jp-code-font-family);\n",
       "font-size: var(--jp-code-font-size);\n",
       "line-height: var(--jp-code-line-height);\n",
       "\"><span style=\"color: var(--jp-warn-color2)\">Script</span> <span style=\"color: var(--jp-info-color0)\">INFO</span>: START -- LVV-T2539 - Moving Rotator with 102.8 lbs counter-weight - Hex@  -11400/0/0/0/0/0 -- Starting Time: 2022-03-09 17:05:18.700939 UTC</pre>"
      ],
      "text/plain": [
       "<IPython.core.display.HTML object>"
      ]
     },
     "metadata": {},
     "output_type": "display_data"
    },
    {
     "data": {
      "text/html": [
       "<pre style=\"margin: 0.1em;\n",
       "padding-left: 0.25em;\n",
       "border-left-style: solid;\n",
       "font-family: var(--jp-code-font-family);\n",
       "font-size: var(--jp-code-font-size);\n",
       "line-height: var(--jp-code-line-height);\n",
       "\"><span style=\"color: var(--jp-warn-color2)\">Script</span> <span style=\"color: var(--jp-info-color0)\">INFO</span>: FAIL -- LVV-T2539 - Moving Rotator with 102.8 lbs counter-weight - Hex@  -11400/0/0/0/0/0 -- Starting Time: 2022-03-09 17:05:18.700939 UTC</pre>"
      ],
      "text/plain": [
       "<IPython.core.display.HTML object>"
      ]
     },
     "metadata": {},
     "output_type": "display_data"
    }
   ],
   "source": [
    "now = datetime.now()\n",
    "test_message = \"LVV-T2539 - Moving Rotator with 102.8 lbs counter-weight - Hex@  -11400/0/0/0/0/0\"\n",
    "script.log.info(f\"START -- {test_message} -- Starting Time: {now} UTC\")\n",
    "\n",
    "await mtcs.rem.mtrotator.cmd_configureVelocity.set_start(vlimit=3.5, timeout=5)\n",
    "await mtcs.rem.mthexapod_1.cmd_move.set_start(x=-11400, y=0, z=0, u=0, v=0, w=0, sync=True)\n",
    "await asyncio.sleep(120)\n",
    "\n",
    "try:\n",
    "    for pos in [90, -90, 0]:\n",
    "        await mtcs.rem.mtrotator.cmd_move.set_start(position=pos, timeout=5)\n",
    "        await asyncio.sleep(120)\n",
    "except:\n",
    "    script.log.info(f\"FAIL -- {test_message} -- Starting Time: {now} UTC\")\n",
    "else:\n",
    "    script.log.info(f\"END -- {test_message} -- Starting Time: {now} UTC\")"
   ]
  },
  {
   "cell_type": "markdown",
   "id": "59de2b05-6968-48de-a604-bc3804a0841c",
   "metadata": {},
   "source": [
    "Bruno hear a click noise in the CCW cabinet. Then, the Rotator and CCW went to FAULT. The Rotator is at 7.3 deg and the CCW is at 4.3 deg showing that the CCW was left behind. \n",
    "I will recover and bring it back again."
   ]
  },
  {
   "cell_type": "code",
   "execution_count": 84,
   "id": "d288e211-927a-4af7-b356-ae6b8e1b925c",
   "metadata": {
    "execution": {
     "iopub.execute_input": "2022-03-09T17:10:19.731499Z",
     "iopub.status.busy": "2022-03-09T17:10:19.731217Z",
     "iopub.status.idle": "2022-03-09T17:10:19.784475Z",
     "shell.execute_reply": "2022-03-09T17:10:19.784013Z",
     "shell.execute_reply.started": "2022-03-09T17:10:19.731479Z"
    }
   },
   "outputs": [
    {
     "data": {
      "text/html": [
       "<pre style=\"margin: 0.1em;\n",
       "padding-left: 0.25em;\n",
       "border-left-style: solid;\n",
       "font-family: var(--jp-code-font-family);\n",
       "font-size: var(--jp-code-font-size);\n",
       "line-height: var(--jp-code-line-height);\n",
       "\"><span style=\"color: var(--jp-warn-color2)\">setup.MTCS</span> <span style=\"color: var(--jp-success-color0)\">DEBUG</span>: [mtrotator]::[&lt;State.FAULT: 3&gt;, &lt;State.STANDBY: 5&gt;]</pre>"
      ],
      "text/plain": [
       "<IPython.core.display.HTML object>"
      ]
     },
     "metadata": {},
     "output_type": "display_data"
    },
    {
     "data": {
      "text/html": [
       "<pre style=\"margin: 0.1em;\n",
       "padding-left: 0.25em;\n",
       "border-left-style: solid;\n",
       "font-family: var(--jp-code-font-family);\n",
       "font-size: var(--jp-code-font-size);\n",
       "line-height: var(--jp-code-line-height);\n",
       "\"><span style=\"color: var(--jp-warn-color2)\">setup.MTCS</span> <span style=\"color: var(--jp-info-color0)\">INFO</span>: All components in &lt;State.STANDBY: 5&gt;.</pre>"
      ],
      "text/plain": [
       "<IPython.core.display.HTML object>"
      ]
     },
     "metadata": {},
     "output_type": "display_data"
    }
   ],
   "source": [
    "await mtcs.set_state(salobj.State.STANDBY, components=[\"mtrotator\"])"
   ]
  },
  {
   "cell_type": "code",
   "execution_count": 85,
   "id": "e27170e3-461a-46bb-9cd7-1c57c3c7424d",
   "metadata": {
    "execution": {
     "iopub.execute_input": "2022-03-09T17:10:28.177008Z",
     "iopub.status.busy": "2022-03-09T17:10:28.176747Z",
     "iopub.status.idle": "2022-03-09T17:10:28.304312Z",
     "shell.execute_reply": "2022-03-09T17:10:28.303842Z",
     "shell.execute_reply.started": "2022-03-09T17:10:28.176990Z"
    }
   },
   "outputs": [
    {
     "data": {
      "text/html": [
       "<pre style=\"margin: 0.1em;\n",
       "padding-left: 0.25em;\n",
       "border-left-style: solid;\n",
       "font-family: var(--jp-code-font-family);\n",
       "font-size: var(--jp-code-font-size);\n",
       "line-height: var(--jp-code-line-height);\n",
       "\"><span style=\"color: var(--jp-warn-color2)\">setup.MTCS</span> <span style=\"color: var(--jp-success-color0)\">DEBUG</span>: [mtmount]::[&lt;State.ENABLED: 2&gt;, &lt;State.DISABLED: 1&gt;, &lt;State.STANDBY: 5&gt;]</pre>"
      ],
      "text/plain": [
       "<IPython.core.display.HTML object>"
      ]
     },
     "metadata": {},
     "output_type": "display_data"
    },
    {
     "data": {
      "text/html": [
       "<pre style=\"margin: 0.1em;\n",
       "padding-left: 0.25em;\n",
       "border-left-style: solid;\n",
       "font-family: var(--jp-code-font-family);\n",
       "font-size: var(--jp-code-font-size);\n",
       "line-height: var(--jp-code-line-height);\n",
       "\"><span style=\"color: var(--jp-warn-color2)\">setup.MTCS</span> <span style=\"color: var(--jp-info-color0)\">INFO</span>: All components in &lt;State.STANDBY: 5&gt;.</pre>"
      ],
      "text/plain": [
       "<IPython.core.display.HTML object>"
      ]
     },
     "metadata": {},
     "output_type": "display_data"
    }
   ],
   "source": [
    "await mtcs.set_state(salobj.State.STANDBY, components=[\"mtmount\"])"
   ]
  },
  {
   "cell_type": "code",
   "execution_count": 86,
   "id": "ec19dc25-560e-4a47-a05d-044637592ec7",
   "metadata": {
    "execution": {
     "iopub.execute_input": "2022-03-09T17:10:34.357883Z",
     "iopub.status.busy": "2022-03-09T17:10:34.357584Z",
     "iopub.status.idle": "2022-03-09T17:10:37.107005Z",
     "shell.execute_reply": "2022-03-09T17:10:37.106614Z",
     "shell.execute_reply.started": "2022-03-09T17:10:34.357864Z"
    }
   },
   "outputs": [
    {
     "data": {
      "text/html": [
       "<pre style=\"margin: 0.1em;\n",
       "padding-left: 0.25em;\n",
       "border-left-style: solid;\n",
       "font-family: var(--jp-code-font-family);\n",
       "font-size: var(--jp-code-font-size);\n",
       "line-height: var(--jp-code-line-height);\n",
       "\"><span style=\"color: var(--jp-warn-color2)\">setup.MTCS</span> <span style=\"color: var(--jp-success-color0)\">DEBUG</span>: [mtmount]::[&lt;State.STANDBY: 5&gt;, &lt;State.DISABLED: 1&gt;, &lt;State.ENABLED: 2&gt;]</pre>"
      ],
      "text/plain": [
       "<IPython.core.display.HTML object>"
      ]
     },
     "metadata": {},
     "output_type": "display_data"
    },
    {
     "data": {
      "text/html": [
       "<pre style=\"margin: 0.1em;\n",
       "padding-left: 0.25em;\n",
       "border-left-style: solid;\n",
       "font-family: var(--jp-code-font-family);\n",
       "font-size: var(--jp-code-font-size);\n",
       "line-height: var(--jp-code-line-height);\n",
       "\"><span style=\"color: var(--jp-warn-color2)\">setup.MTCS</span> <span style=\"color: var(--jp-info-color0)\">INFO</span>: All components in &lt;State.ENABLED: 2&gt;.</pre>"
      ],
      "text/plain": [
       "<IPython.core.display.HTML object>"
      ]
     },
     "metadata": {},
     "output_type": "display_data"
    }
   ],
   "source": [
    "await mtcs.set_state(salobj.State.ENABLED, components=[\"mtmount\"])"
   ]
  },
  {
   "cell_type": "code",
   "execution_count": 91,
   "id": "06b8d9ba-f3d6-4625-91d3-d80ea1691cd6",
   "metadata": {
    "execution": {
     "iopub.execute_input": "2022-03-09T17:11:45.042486Z",
     "iopub.status.busy": "2022-03-09T17:11:45.042238Z",
     "iopub.status.idle": "2022-03-09T17:11:59.268467Z",
     "shell.execute_reply": "2022-03-09T17:11:59.268093Z",
     "shell.execute_reply.started": "2022-03-09T17:11:45.042468Z"
    },
    "tags": []
   },
   "outputs": [
    {
     "data": {
      "text/html": [
       "<pre style=\"margin: 0.1em;\n",
       "padding-left: 0.25em;\n",
       "border-left-style: solid;\n",
       "font-family: var(--jp-code-font-family);\n",
       "font-size: var(--jp-code-font-size);\n",
       "line-height: var(--jp-code-line-height);\n",
       "\"><span style=\"color: var(--jp-warn-color2)\">setup.MTCS</span> <span style=\"color: var(--jp-success-color0)\">DEBUG</span>: [mtrotator]::[&lt;State.DISABLED: 1&gt;, &lt;State.ENABLED: 2&gt;]</pre>"
      ],
      "text/plain": [
       "<IPython.core.display.HTML object>"
      ]
     },
     "metadata": {},
     "output_type": "display_data"
    },
    {
     "data": {
      "text/html": [
       "<pre style=\"margin: 0.1em;\n",
       "padding-left: 0.25em;\n",
       "border-left-style: solid;\n",
       "font-family: var(--jp-code-font-family);\n",
       "font-size: var(--jp-code-font-size);\n",
       "line-height: var(--jp-code-line-height);\n",
       "\"><span style=\"color: var(--jp-warn-color2)\">setup.MTCS</span> <span style=\"color: var(--jp-info-color0)\">INFO</span>: All components in &lt;State.ENABLED: 2&gt;.</pre>"
      ],
      "text/plain": [
       "<IPython.core.display.HTML object>"
      ]
     },
     "metadata": {},
     "output_type": "display_data"
    }
   ],
   "source": [
    "await mtcs.set_state(salobj.State.ENABLED, components=[\"mtrotator\"])"
   ]
  },
  {
   "cell_type": "code",
   "execution_count": 92,
   "id": "e737e040-8070-4301-87b3-a0512c2aee17",
   "metadata": {
    "execution": {
     "iopub.execute_input": "2022-03-09T17:12:06.212709Z",
     "iopub.status.busy": "2022-03-09T17:12:06.212449Z",
     "iopub.status.idle": "2022-03-09T17:12:06.244244Z",
     "shell.execute_reply": "2022-03-09T17:12:06.243874Z",
     "shell.execute_reply.started": "2022-03-09T17:12:06.212692Z"
    },
    "tags": []
   },
   "outputs": [
    {
     "data": {
      "text/html": [
       "<pre style=\"margin: 0.1em;\n",
       "padding-left: 0.25em;\n",
       "border-left-style: solid;\n",
       "font-family: var(--jp-code-font-family);\n",
       "font-size: var(--jp-code-font-size);\n",
       "line-height: var(--jp-code-line-height);\n",
       "\"><span style=\"color: var(--jp-warn-color2)\">setup</span> <span style=\"color: var(--jp-success-color0)\">DEBUG</span>: CCW following mode enabled: 0 @ 2022-03-09 17:12:19.458809600.</pre>"
      ],
      "text/plain": [
       "<IPython.core.display.HTML object>"
      ]
     },
     "metadata": {},
     "output_type": "display_data"
    }
   ],
   "source": [
    "mtmount_ccw_following = await mtcs.rem.mtmount.evt_cameraCableWrapFollowing.aget()\n",
    "timestamp = pd.to_datetime(mtmount_ccw_following.private_sndStamp, unit='s')\n",
    "log.debug(f\"CCW following mode enabled: {mtmount_ccw_following.enabled} @ {timestamp}.\")"
   ]
  },
  {
   "cell_type": "code",
   "execution_count": 93,
   "id": "718b7d23-ee6b-43bf-9ee6-9a1aa2a04834",
   "metadata": {
    "execution": {
     "iopub.execute_input": "2022-03-09T17:12:16.676563Z",
     "iopub.status.busy": "2022-03-09T17:12:16.676308Z",
     "iopub.status.idle": "2022-03-09T17:12:16.733801Z",
     "shell.execute_reply": "2022-03-09T17:12:16.733422Z",
     "shell.execute_reply.started": "2022-03-09T17:12:16.676545Z"
    }
   },
   "outputs": [
    {
     "data": {
      "text/html": [
       "<pre style=\"margin: 0.1em;\n",
       "padding-left: 0.25em;\n",
       "border-left-style: solid;\n",
       "font-family: var(--jp-code-font-family);\n",
       "font-size: var(--jp-code-font-size);\n",
       "line-height: var(--jp-code-line-height);\n",
       "\"><span style=\"color: var(--jp-warn-color2)\">setup.MTCS</span> <span style=\"color: var(--jp-info-color0)\">INFO</span>: Enabling CCW following.</pre>"
      ],
      "text/plain": [
       "<IPython.core.display.HTML object>"
      ]
     },
     "metadata": {},
     "output_type": "display_data"
    }
   ],
   "source": [
    "await mtcs.enable_ccw_following()"
   ]
  },
  {
   "cell_type": "code",
   "execution_count": 94,
   "id": "73510bea-17c7-48ac-ada7-269710ac058f",
   "metadata": {
    "execution": {
     "iopub.execute_input": "2022-03-09T17:12:23.860510Z",
     "iopub.status.busy": "2022-03-09T17:12:23.860253Z",
     "iopub.status.idle": "2022-03-09T17:12:23.976558Z",
     "shell.execute_reply": "2022-03-09T17:12:23.976186Z",
     "shell.execute_reply.started": "2022-03-09T17:12:23.860491Z"
    },
    "tags": []
   },
   "outputs": [
    {
     "data": {
      "text/plain": [
       "<ddsutil.MTRotator_ackcmd_f04f56ad at 0x7efe57647d60>"
      ]
     },
     "execution_count": 94,
     "metadata": {},
     "output_type": "execute_result"
    }
   ],
   "source": [
    "await mtcs.rem.mtrotator.cmd_move.set_start(position=0, timeout=5)"
   ]
  },
  {
   "cell_type": "code",
   "execution_count": 95,
   "id": "b19d8d18-f8a5-4982-b3cb-9eb363ab186a",
   "metadata": {
    "execution": {
     "iopub.execute_input": "2022-03-09T17:12:41.946444Z",
     "iopub.status.busy": "2022-03-09T17:12:41.945849Z",
     "iopub.status.idle": "2022-03-09T17:20:42.412948Z",
     "shell.execute_reply": "2022-03-09T17:20:42.412561Z",
     "shell.execute_reply.started": "2022-03-09T17:12:41.946424Z"
    }
   },
   "outputs": [
    {
     "data": {
      "text/html": [
       "<pre style=\"margin: 0.1em;\n",
       "padding-left: 0.25em;\n",
       "border-left-style: solid;\n",
       "font-family: var(--jp-code-font-family);\n",
       "font-size: var(--jp-code-font-size);\n",
       "line-height: var(--jp-code-line-height);\n",
       "\"><span style=\"color: var(--jp-warn-color2)\">Script</span> <span style=\"color: var(--jp-info-color0)\">INFO</span>: START -- LVV-T2539 - Moving Rotator with 102.8 lbs counter-weight - Hex@  -11400/0/0/0/0/0 -- Starting Time: 2022-03-09 17:12:41.978843 UTC</pre>"
      ],
      "text/plain": [
       "<IPython.core.display.HTML object>"
      ]
     },
     "metadata": {},
     "output_type": "display_data"
    },
    {
     "data": {
      "text/html": [
       "<pre style=\"margin: 0.1em;\n",
       "padding-left: 0.25em;\n",
       "border-left-style: solid;\n",
       "font-family: var(--jp-code-font-family);\n",
       "font-size: var(--jp-code-font-size);\n",
       "line-height: var(--jp-code-line-height);\n",
       "\"><span style=\"color: var(--jp-warn-color2)\">Script</span> <span style=\"color: var(--jp-info-color0)\">INFO</span>: END -- LVV-T2539 - Moving Rotator with 102.8 lbs counter-weight - Hex@  -11400/0/0/0/0/0 -- Starting Time: 2022-03-09 17:12:41.978843 UTC</pre>"
      ],
      "text/plain": [
       "<IPython.core.display.HTML object>"
      ]
     },
     "metadata": {},
     "output_type": "display_data"
    }
   ],
   "source": [
    "now = datetime.now()\n",
    "test_message = \"LVV-T2539 - Moving Rotator with 102.8 lbs counter-weight - Hex@  -11400/0/0/0/0/0\"\n",
    "script.log.info(f\"START -- {test_message} -- Starting Time: {now} UTC\")\n",
    "\n",
    "await mtcs.rem.mtrotator.cmd_configureVelocity.set_start(vlimit=3.5, timeout=5)\n",
    "await mtcs.rem.mthexapod_1.cmd_move.set_start(x=-11400, y=0, z=0, u=0, v=0, w=0, sync=True)\n",
    "await asyncio.sleep(120)\n",
    "\n",
    "try:\n",
    "    for pos in [90, -90, 0]:\n",
    "        await mtcs.rem.mtrotator.cmd_move.set_start(position=pos, timeout=5)\n",
    "        await asyncio.sleep(120)\n",
    "except:\n",
    "    script.log.info(f\"FAIL -- {test_message} -- Starting Time: {now} UTC\")\n",
    "else:\n",
    "    script.log.info(f\"END -- {test_message} -- Starting Time: {now} UTC\")"
   ]
  },
  {
   "cell_type": "markdown",
   "id": "287f3e6e-e639-4181-a29d-c3c0abf1c656",
   "metadata": {},
   "source": [
    "Second configuration data collected.  \n",
    "  \n",
    "  \n",
    "---\n",
    "Trying now the third data configuration."
   ]
  },
  {
   "cell_type": "code",
   "execution_count": 96,
   "id": "5b23a123-2dd3-404f-9a52-79db1d06a141",
   "metadata": {
    "execution": {
     "iopub.execute_input": "2022-03-09T17:20:42.413636Z",
     "iopub.status.busy": "2022-03-09T17:20:42.413518Z",
     "iopub.status.idle": "2022-03-09T17:20:42.550518Z",
     "shell.execute_reply": "2022-03-09T17:20:42.550109Z",
     "shell.execute_reply.started": "2022-03-09T17:20:42.413622Z"
    }
   },
   "outputs": [
    {
     "data": {
      "text/plain": [
       "<ddsutil.MTHexapod_ackcmd_c4d6958b at 0x7efe575c71c0>"
      ]
     },
     "execution_count": 96,
     "metadata": {},
     "output_type": "execute_result"
    }
   ],
   "source": [
    "await mtcs.rem.mthexapod_1.cmd_move.set_start(x=0, y=0, z=0, u=0, v=0, w=0, sync=True)"
   ]
  },
  {
   "cell_type": "code",
   "execution_count": 97,
   "id": "e37cf8fb-c5c5-4448-8fb0-81e9218c9eaf",
   "metadata": {
    "execution": {
     "iopub.execute_input": "2022-03-09T17:21:01.743149Z",
     "iopub.status.busy": "2022-03-09T17:21:01.742860Z",
     "iopub.status.idle": "2022-03-09T17:21:01.776345Z",
     "shell.execute_reply": "2022-03-09T17:21:01.775978Z",
     "shell.execute_reply.started": "2022-03-09T17:21:01.743131Z"
    }
   },
   "outputs": [
    {
     "data": {
      "text/html": [
       "<pre style=\"margin: 0.1em;\n",
       "padding-left: 0.25em;\n",
       "border-left-style: solid;\n",
       "font-family: var(--jp-code-font-family);\n",
       "font-size: var(--jp-code-font-size);\n",
       "line-height: var(--jp-code-line-height);\n",
       "\"><span style=\"color: var(--jp-warn-color2)\">setup</span> <span style=\"color: var(--jp-success-color0)\">DEBUG</span>: CCW following mode enabled: 1 @ 2022-03-09 17:12:53.731098624.</pre>"
      ],
      "text/plain": [
       "<IPython.core.display.HTML object>"
      ]
     },
     "metadata": {},
     "output_type": "display_data"
    }
   ],
   "source": [
    "mtmount_ccw_following = await mtcs.rem.mtmount.evt_cameraCableWrapFollowing.aget()\n",
    "timestamp = pd.to_datetime(mtmount_ccw_following.private_sndStamp, unit='s')\n",
    "log.debug(f\"CCW following mode enabled: {mtmount_ccw_following.enabled} @ {timestamp}.\")"
   ]
  },
  {
   "cell_type": "code",
   "execution_count": 98,
   "id": "4597f3e7-3c1d-42b5-8c7d-e4d40c2027d4",
   "metadata": {
    "execution": {
     "iopub.execute_input": "2022-03-09T17:21:12.075189Z",
     "iopub.status.busy": "2022-03-09T17:21:12.074911Z",
     "iopub.status.idle": "2022-03-09T17:29:12.547081Z",
     "shell.execute_reply": "2022-03-09T17:29:12.546707Z",
     "shell.execute_reply.started": "2022-03-09T17:21:12.075170Z"
    }
   },
   "outputs": [
    {
     "data": {
      "text/html": [
       "<pre style=\"margin: 0.1em;\n",
       "padding-left: 0.25em;\n",
       "border-left-style: solid;\n",
       "font-family: var(--jp-code-font-family);\n",
       "font-size: var(--jp-code-font-size);\n",
       "line-height: var(--jp-code-line-height);\n",
       "\"><span style=\"color: var(--jp-warn-color2)\">Script</span> <span style=\"color: var(--jp-info-color0)\">INFO</span>: START -- LVV-T2539 - Moving Rotator with 102.8 lbs counter-weight - Hex@  0/+11400/0/0/0/0 -- Starting Time: 2022-03-09 17:21:12.106038 UTC</pre>"
      ],
      "text/plain": [
       "<IPython.core.display.HTML object>"
      ]
     },
     "metadata": {},
     "output_type": "display_data"
    },
    {
     "data": {
      "text/html": [
       "<pre style=\"margin: 0.1em;\n",
       "padding-left: 0.25em;\n",
       "border-left-style: solid;\n",
       "font-family: var(--jp-code-font-family);\n",
       "font-size: var(--jp-code-font-size);\n",
       "line-height: var(--jp-code-line-height);\n",
       "\"><span style=\"color: var(--jp-warn-color2)\">Script</span> <span style=\"color: var(--jp-info-color0)\">INFO</span>: END -- LVV-T2539 - Moving Rotator with 102.8 lbs counter-weight - Hex@  0/+11400/0/0/0/0 -- Starting Time: 2022-03-09 17:21:12.106038 UTC</pre>"
      ],
      "text/plain": [
       "<IPython.core.display.HTML object>"
      ]
     },
     "metadata": {},
     "output_type": "display_data"
    }
   ],
   "source": [
    "now = datetime.now()\n",
    "test_message = \"LVV-T2539 - Moving Rotator with 102.8 lbs counter-weight - Hex@  0/+11400/0/0/0/0\"\n",
    "script.log.info(f\"START -- {test_message} -- Starting Time: {now} UTC\")\n",
    "\n",
    "await mtcs.rem.mtrotator.cmd_configureVelocity.set_start(vlimit=3.5, timeout=5)\n",
    "await mtcs.rem.mthexapod_1.cmd_move.set_start(x=0, y=11400, z=0, u=0, v=0, w=0, sync=True)\n",
    "await asyncio.sleep(120)\n",
    "\n",
    "try:\n",
    "    for pos in [90, -90, 0]:\n",
    "        await mtcs.rem.mtrotator.cmd_move.set_start(position=pos, timeout=5)\n",
    "        await asyncio.sleep(120)\n",
    "except:\n",
    "    script.log.info(f\"FAIL -- {test_message} -- Starting Time: {now} UTC\")\n",
    "else:\n",
    "    script.log.info(f\"END -- {test_message} -- Starting Time: {now} UTC\")"
   ]
  },
  {
   "cell_type": "markdown",
   "id": "0099b723-855a-4cab-b9fa-703698c4a749",
   "metadata": {},
   "source": [
    "Good! Got the third config. \n",
    "\n",
    "---\n",
    "\n",
    "Now trying the fourth configuration."
   ]
  },
  {
   "cell_type": "code",
   "execution_count": 99,
   "id": "74a3f004-5c1d-477d-a21e-ebb8da8c90bb",
   "metadata": {
    "execution": {
     "iopub.execute_input": "2022-03-09T17:29:48.551281Z",
     "iopub.status.busy": "2022-03-09T17:29:48.550987Z",
     "iopub.status.idle": "2022-03-09T17:29:48.660016Z",
     "shell.execute_reply": "2022-03-09T17:29:48.659634Z",
     "shell.execute_reply.started": "2022-03-09T17:29:48.551263Z"
    }
   },
   "outputs": [
    {
     "data": {
      "text/plain": [
       "<ddsutil.MTHexapod_ackcmd_c4d6958b at 0x7efe576962e0>"
      ]
     },
     "execution_count": 99,
     "metadata": {},
     "output_type": "execute_result"
    }
   ],
   "source": [
    "await mtcs.rem.mthexapod_1.cmd_move.set_start(x=0, y=0, z=0, u=0, v=0, w=0, sync=True)"
   ]
  },
  {
   "cell_type": "code",
   "execution_count": 100,
   "id": "18b2e87b-f0d3-4be9-a364-8ff7a7d45f8f",
   "metadata": {
    "execution": {
     "iopub.execute_input": "2022-03-09T17:29:56.110437Z",
     "iopub.status.busy": "2022-03-09T17:29:56.110150Z",
     "iopub.status.idle": "2022-03-09T17:29:56.142516Z",
     "shell.execute_reply": "2022-03-09T17:29:56.142218Z",
     "shell.execute_reply.started": "2022-03-09T17:29:56.110418Z"
    }
   },
   "outputs": [
    {
     "data": {
      "text/html": [
       "<pre style=\"margin: 0.1em;\n",
       "padding-left: 0.25em;\n",
       "border-left-style: solid;\n",
       "font-family: var(--jp-code-font-family);\n",
       "font-size: var(--jp-code-font-size);\n",
       "line-height: var(--jp-code-line-height);\n",
       "\"><span style=\"color: var(--jp-warn-color2)\">setup</span> <span style=\"color: var(--jp-success-color0)\">DEBUG</span>: CCW following mode enabled: 1 @ 2022-03-09 17:12:53.731098624.</pre>"
      ],
      "text/plain": [
       "<IPython.core.display.HTML object>"
      ]
     },
     "metadata": {},
     "output_type": "display_data"
    }
   ],
   "source": [
    "mtmount_ccw_following = await mtcs.rem.mtmount.evt_cameraCableWrapFollowing.aget()\n",
    "timestamp = pd.to_datetime(mtmount_ccw_following.private_sndStamp, unit='s')\n",
    "log.debug(f\"CCW following mode enabled: {mtmount_ccw_following.enabled} @ {timestamp}.\")"
   ]
  },
  {
   "cell_type": "code",
   "execution_count": 101,
   "id": "7330b0ed-be28-4cfb-a391-6d899d7a52f4",
   "metadata": {
    "execution": {
     "iopub.execute_input": "2022-03-09T17:30:20.842492Z",
     "iopub.status.busy": "2022-03-09T17:30:20.842230Z",
     "iopub.status.idle": "2022-03-09T17:34:21.107103Z",
     "shell.execute_reply": "2022-03-09T17:34:21.106804Z",
     "shell.execute_reply.started": "2022-03-09T17:30:20.842473Z"
    }
   },
   "outputs": [
    {
     "data": {
      "text/html": [
       "<pre style=\"margin: 0.1em;\n",
       "padding-left: 0.25em;\n",
       "border-left-style: solid;\n",
       "font-family: var(--jp-code-font-family);\n",
       "font-size: var(--jp-code-font-size);\n",
       "line-height: var(--jp-code-line-height);\n",
       "\"><span style=\"color: var(--jp-warn-color2)\">Script</span> <span style=\"color: var(--jp-info-color0)\">INFO</span>: START -- LVV-T2539 - Moving Rotator with 102.8 lbs counter-weight - Hex@  0/-11400/0/0/0/0 -- Starting Time: 2022-03-09 17:30:20.873938 UTC</pre>"
      ],
      "text/plain": [
       "<IPython.core.display.HTML object>"
      ]
     },
     "metadata": {},
     "output_type": "display_data"
    },
    {
     "data": {
      "text/html": [
       "<pre style=\"margin: 0.1em;\n",
       "padding-left: 0.25em;\n",
       "border-left-style: solid;\n",
       "font-family: var(--jp-code-font-family);\n",
       "font-size: var(--jp-code-font-size);\n",
       "line-height: var(--jp-code-line-height);\n",
       "\"><span style=\"color: var(--jp-warn-color2)\">Script</span> <span style=\"color: var(--jp-info-color0)\">INFO</span>: FAIL -- LVV-T2539 - Moving Rotator with 102.8 lbs counter-weight - Hex@  0/-11400/0/0/0/0 -- Starting Time: 2022-03-09 17:30:20.873938 UTC</pre>"
      ],
      "text/plain": [
       "<IPython.core.display.HTML object>"
      ]
     },
     "metadata": {},
     "output_type": "display_data"
    }
   ],
   "source": [
    "now = datetime.now()\n",
    "test_message = \"LVV-T2539 - Moving Rotator with 102.8 lbs counter-weight - Hex@  0/-11400/0/0/0/0\"\n",
    "script.log.info(f\"START -- {test_message} -- Starting Time: {now} UTC\")\n",
    "\n",
    "await mtcs.rem.mtrotator.cmd_configureVelocity.set_start(vlimit=3.5, timeout=5)\n",
    "await mtcs.rem.mthexapod_1.cmd_move.set_start(x=0, y=-11400, z=0, u=0, v=0, w=0, sync=True)\n",
    "await asyncio.sleep(120)\n",
    "\n",
    "try:\n",
    "    for pos in [90, -90, 0]:\n",
    "        await mtcs.rem.mtrotator.cmd_move.set_start(position=pos, timeout=5)\n",
    "        await asyncio.sleep(120)\n",
    "except:\n",
    "    script.log.info(f\"FAIL -- {test_message} -- Starting Time: {now} UTC\")\n",
    "else:\n",
    "    script.log.info(f\"END -- {test_message} -- Starting Time: {now} UTC\")"
   ]
  },
  {
   "cell_type": "markdown",
   "id": "763186d1-d903-4920-b4e6-eb853c394ca9",
   "metadata": {},
   "source": [
    "The Rotator went to FAULT. SMlink fault again. I will recover and start over."
   ]
  },
  {
   "cell_type": "code",
   "execution_count": 102,
   "id": "d019aed3-5066-42a0-b956-7f7870241991",
   "metadata": {
    "execution": {
     "iopub.execute_input": "2022-03-09T17:34:21.107747Z",
     "iopub.status.busy": "2022-03-09T17:34:21.107637Z",
     "iopub.status.idle": "2022-03-09T17:34:21.213841Z",
     "shell.execute_reply": "2022-03-09T17:34:21.213514Z",
     "shell.execute_reply.started": "2022-03-09T17:34:21.107733Z"
    }
   },
   "outputs": [
    {
     "data": {
      "text/plain": [
       "<ddsutil.MTHexapod_ackcmd_c4d6958b at 0x7efe70e2e280>"
      ]
     },
     "execution_count": 102,
     "metadata": {},
     "output_type": "execute_result"
    }
   ],
   "source": [
    "await mtcs.rem.mthexapod_1.cmd_move.set_start(x=0, y=0, z=0, u=0, v=0, w=0, sync=True)"
   ]
  },
  {
   "cell_type": "code",
   "execution_count": 103,
   "id": "5bdb595a-a651-4d33-a418-7c73097a8095",
   "metadata": {
    "execution": {
     "iopub.execute_input": "2022-03-09T17:34:36.785486Z",
     "iopub.status.busy": "2022-03-09T17:34:36.785281Z",
     "iopub.status.idle": "2022-03-09T17:34:36.825669Z",
     "shell.execute_reply": "2022-03-09T17:34:36.825381Z",
     "shell.execute_reply.started": "2022-03-09T17:34:36.785469Z"
    },
    "tags": []
   },
   "outputs": [
    {
     "data": {
      "text/html": [
       "<pre style=\"margin: 0.1em;\n",
       "padding-left: 0.25em;\n",
       "border-left-style: solid;\n",
       "font-family: var(--jp-code-font-family);\n",
       "font-size: var(--jp-code-font-size);\n",
       "line-height: var(--jp-code-line-height);\n",
       "\"><span style=\"color: var(--jp-warn-color2)\">setup.MTCS</span> <span style=\"color: var(--jp-success-color0)\">DEBUG</span>: [mtrotator]::[&lt;State.FAULT: 3&gt;, &lt;State.STANDBY: 5&gt;]</pre>"
      ],
      "text/plain": [
       "<IPython.core.display.HTML object>"
      ]
     },
     "metadata": {},
     "output_type": "display_data"
    },
    {
     "data": {
      "text/html": [
       "<pre style=\"margin: 0.1em;\n",
       "padding-left: 0.25em;\n",
       "border-left-style: solid;\n",
       "font-family: var(--jp-code-font-family);\n",
       "font-size: var(--jp-code-font-size);\n",
       "line-height: var(--jp-code-line-height);\n",
       "\"><span style=\"color: var(--jp-warn-color2)\">setup.MTCS</span> <span style=\"color: var(--jp-info-color0)\">INFO</span>: All components in &lt;State.STANDBY: 5&gt;.</pre>"
      ],
      "text/plain": [
       "<IPython.core.display.HTML object>"
      ]
     },
     "metadata": {},
     "output_type": "display_data"
    }
   ],
   "source": [
    "await mtcs.set_state(salobj.State.STANDBY, components=[\"mtrotator\"])"
   ]
  },
  {
   "cell_type": "code",
   "execution_count": 104,
   "id": "b4316c78-817e-45a9-b1d3-42ad17dfe0d9",
   "metadata": {
    "execution": {
     "iopub.execute_input": "2022-03-09T17:34:40.098597Z",
     "iopub.status.busy": "2022-03-09T17:34:40.098372Z",
     "iopub.status.idle": "2022-03-09T17:34:40.219136Z",
     "shell.execute_reply": "2022-03-09T17:34:40.218852Z",
     "shell.execute_reply.started": "2022-03-09T17:34:40.098569Z"
    },
    "tags": []
   },
   "outputs": [
    {
     "data": {
      "text/html": [
       "<pre style=\"margin: 0.1em;\n",
       "padding-left: 0.25em;\n",
       "border-left-style: solid;\n",
       "font-family: var(--jp-code-font-family);\n",
       "font-size: var(--jp-code-font-size);\n",
       "line-height: var(--jp-code-line-height);\n",
       "\"><span style=\"color: var(--jp-warn-color2)\">setup.MTCS</span> <span style=\"color: var(--jp-success-color0)\">DEBUG</span>: [mtmount]::[&lt;State.ENABLED: 2&gt;, &lt;State.DISABLED: 1&gt;, &lt;State.STANDBY: 5&gt;]</pre>"
      ],
      "text/plain": [
       "<IPython.core.display.HTML object>"
      ]
     },
     "metadata": {},
     "output_type": "display_data"
    },
    {
     "data": {
      "text/html": [
       "<pre style=\"margin: 0.1em;\n",
       "padding-left: 0.25em;\n",
       "border-left-style: solid;\n",
       "font-family: var(--jp-code-font-family);\n",
       "font-size: var(--jp-code-font-size);\n",
       "line-height: var(--jp-code-line-height);\n",
       "\"><span style=\"color: var(--jp-warn-color2)\">setup.MTCS</span> <span style=\"color: var(--jp-info-color0)\">INFO</span>: All components in &lt;State.STANDBY: 5&gt;.</pre>"
      ],
      "text/plain": [
       "<IPython.core.display.HTML object>"
      ]
     },
     "metadata": {},
     "output_type": "display_data"
    }
   ],
   "source": [
    "await mtcs.set_state(salobj.State.STANDBY, components=[\"mtmount\"])"
   ]
  },
  {
   "cell_type": "code",
   "execution_count": 105,
   "id": "10c0c41d-bf02-41eb-8b97-cb36ecc8b64c",
   "metadata": {
    "execution": {
     "iopub.execute_input": "2022-03-09T17:34:43.769392Z",
     "iopub.status.busy": "2022-03-09T17:34:43.769178Z",
     "iopub.status.idle": "2022-03-09T17:34:47.615933Z",
     "shell.execute_reply": "2022-03-09T17:34:47.615529Z",
     "shell.execute_reply.started": "2022-03-09T17:34:43.769375Z"
    },
    "tags": []
   },
   "outputs": [
    {
     "data": {
      "text/html": [
       "<pre style=\"margin: 0.1em;\n",
       "padding-left: 0.25em;\n",
       "border-left-style: solid;\n",
       "font-family: var(--jp-code-font-family);\n",
       "font-size: var(--jp-code-font-size);\n",
       "line-height: var(--jp-code-line-height);\n",
       "\"><span style=\"color: var(--jp-warn-color2)\">setup.MTCS</span> <span style=\"color: var(--jp-success-color0)\">DEBUG</span>: [mtmount]::[&lt;State.STANDBY: 5&gt;, &lt;State.DISABLED: 1&gt;, &lt;State.ENABLED: 2&gt;]</pre>"
      ],
      "text/plain": [
       "<IPython.core.display.HTML object>"
      ]
     },
     "metadata": {},
     "output_type": "display_data"
    },
    {
     "data": {
      "text/html": [
       "<pre style=\"margin: 0.1em;\n",
       "padding-left: 0.25em;\n",
       "border-left-style: solid;\n",
       "font-family: var(--jp-code-font-family);\n",
       "font-size: var(--jp-code-font-size);\n",
       "line-height: var(--jp-code-line-height);\n",
       "\"><span style=\"color: var(--jp-warn-color2)\">setup.MTCS</span> <span style=\"color: var(--jp-info-color0)\">INFO</span>: All components in &lt;State.ENABLED: 2&gt;.</pre>"
      ],
      "text/plain": [
       "<IPython.core.display.HTML object>"
      ]
     },
     "metadata": {},
     "output_type": "display_data"
    }
   ],
   "source": [
    "await mtcs.set_state(salobj.State.ENABLED, components=[\"mtmount\"])"
   ]
  },
  {
   "cell_type": "code",
   "execution_count": 107,
   "id": "1ae6c3c6-bd06-49e8-928d-c0eb343a50f3",
   "metadata": {
    "execution": {
     "iopub.execute_input": "2022-03-09T17:35:00.204438Z",
     "iopub.status.busy": "2022-03-09T17:35:00.204145Z",
     "iopub.status.idle": "2022-03-09T17:35:14.413998Z",
     "shell.execute_reply": "2022-03-09T17:35:14.413622Z",
     "shell.execute_reply.started": "2022-03-09T17:35:00.204418Z"
    },
    "tags": []
   },
   "outputs": [
    {
     "data": {
      "text/html": [
       "<pre style=\"margin: 0.1em;\n",
       "padding-left: 0.25em;\n",
       "border-left-style: solid;\n",
       "font-family: var(--jp-code-font-family);\n",
       "font-size: var(--jp-code-font-size);\n",
       "line-height: var(--jp-code-line-height);\n",
       "\"><span style=\"color: var(--jp-warn-color2)\">setup.MTCS</span> <span style=\"color: var(--jp-success-color0)\">DEBUG</span>: [mtrotator]::[&lt;State.DISABLED: 1&gt;, &lt;State.ENABLED: 2&gt;]</pre>"
      ],
      "text/plain": [
       "<IPython.core.display.HTML object>"
      ]
     },
     "metadata": {},
     "output_type": "display_data"
    },
    {
     "data": {
      "text/html": [
       "<pre style=\"margin: 0.1em;\n",
       "padding-left: 0.25em;\n",
       "border-left-style: solid;\n",
       "font-family: var(--jp-code-font-family);\n",
       "font-size: var(--jp-code-font-size);\n",
       "line-height: var(--jp-code-line-height);\n",
       "\"><span style=\"color: var(--jp-warn-color2)\">setup.MTCS</span> <span style=\"color: var(--jp-info-color0)\">INFO</span>: All components in &lt;State.ENABLED: 2&gt;.</pre>"
      ],
      "text/plain": [
       "<IPython.core.display.HTML object>"
      ]
     },
     "metadata": {},
     "output_type": "display_data"
    }
   ],
   "source": [
    "await mtcs.set_state(salobj.State.ENABLED, components=[\"mtrotator\"])"
   ]
  },
  {
   "cell_type": "code",
   "execution_count": 108,
   "id": "fe0cd0b2-0560-4c1e-ab90-dc16914569d7",
   "metadata": {
    "execution": {
     "iopub.execute_input": "2022-03-09T17:35:21.716457Z",
     "iopub.status.busy": "2022-03-09T17:35:21.716155Z",
     "iopub.status.idle": "2022-03-09T17:35:21.752185Z",
     "shell.execute_reply": "2022-03-09T17:35:21.751802Z",
     "shell.execute_reply.started": "2022-03-09T17:35:21.716438Z"
    }
   },
   "outputs": [
    {
     "data": {
      "text/html": [
       "<pre style=\"margin: 0.1em;\n",
       "padding-left: 0.25em;\n",
       "border-left-style: solid;\n",
       "font-family: var(--jp-code-font-family);\n",
       "font-size: var(--jp-code-font-size);\n",
       "line-height: var(--jp-code-line-height);\n",
       "\"><span style=\"color: var(--jp-warn-color2)\">setup</span> <span style=\"color: var(--jp-success-color0)\">DEBUG</span>: CCW following mode enabled: 0 @ 2022-03-09 17:35:31.803572736.</pre>"
      ],
      "text/plain": [
       "<IPython.core.display.HTML object>"
      ]
     },
     "metadata": {},
     "output_type": "display_data"
    }
   ],
   "source": [
    "mtmount_ccw_following = await mtcs.rem.mtmount.evt_cameraCableWrapFollowing.aget()\n",
    "timestamp = pd.to_datetime(mtmount_ccw_following.private_sndStamp, unit='s')\n",
    "log.debug(f\"CCW following mode enabled: {mtmount_ccw_following.enabled} @ {timestamp}.\")"
   ]
  },
  {
   "cell_type": "code",
   "execution_count": 109,
   "id": "b36a5ab1-2b33-4aa6-b54d-c0b71843bab8",
   "metadata": {
    "execution": {
     "iopub.execute_input": "2022-03-09T17:35:31.083205Z",
     "iopub.status.busy": "2022-03-09T17:35:31.082890Z",
     "iopub.status.idle": "2022-03-09T17:35:31.140246Z",
     "shell.execute_reply": "2022-03-09T17:35:31.139755Z",
     "shell.execute_reply.started": "2022-03-09T17:35:31.083186Z"
    }
   },
   "outputs": [
    {
     "data": {
      "text/html": [
       "<pre style=\"margin: 0.1em;\n",
       "padding-left: 0.25em;\n",
       "border-left-style: solid;\n",
       "font-family: var(--jp-code-font-family);\n",
       "font-size: var(--jp-code-font-size);\n",
       "line-height: var(--jp-code-line-height);\n",
       "\"><span style=\"color: var(--jp-warn-color2)\">setup.MTCS</span> <span style=\"color: var(--jp-info-color0)\">INFO</span>: Enabling CCW following.</pre>"
      ],
      "text/plain": [
       "<IPython.core.display.HTML object>"
      ]
     },
     "metadata": {},
     "output_type": "display_data"
    }
   ],
   "source": [
    "await mtcs.enable_ccw_following()"
   ]
  },
  {
   "cell_type": "code",
   "execution_count": 110,
   "id": "0025b1e2-8a83-4a89-a0d3-861aaa009b4c",
   "metadata": {
    "execution": {
     "iopub.execute_input": "2022-03-09T17:35:36.666054Z",
     "iopub.status.busy": "2022-03-09T17:35:36.665767Z",
     "iopub.status.idle": "2022-03-09T17:35:36.700091Z",
     "shell.execute_reply": "2022-03-09T17:35:36.699667Z",
     "shell.execute_reply.started": "2022-03-09T17:35:36.666035Z"
    }
   },
   "outputs": [
    {
     "data": {
      "text/html": [
       "<pre style=\"margin: 0.1em;\n",
       "padding-left: 0.25em;\n",
       "border-left-style: solid;\n",
       "font-family: var(--jp-code-font-family);\n",
       "font-size: var(--jp-code-font-size);\n",
       "line-height: var(--jp-code-line-height);\n",
       "\"><span style=\"color: var(--jp-warn-color2)\">setup</span> <span style=\"color: var(--jp-success-color0)\">DEBUG</span>: CCW following mode enabled: 1 @ 2022-03-09 17:36:08.137234176.</pre>"
      ],
      "text/plain": [
       "<IPython.core.display.HTML object>"
      ]
     },
     "metadata": {},
     "output_type": "display_data"
    }
   ],
   "source": [
    "mtmount_ccw_following = await mtcs.rem.mtmount.evt_cameraCableWrapFollowing.aget()\n",
    "timestamp = pd.to_datetime(mtmount_ccw_following.private_sndStamp, unit='s')\n",
    "log.debug(f\"CCW following mode enabled: {mtmount_ccw_following.enabled} @ {timestamp}.\")"
   ]
  },
  {
   "cell_type": "code",
   "execution_count": 111,
   "id": "d6105440-584b-439a-b8b8-e0727e6e1af2",
   "metadata": {
    "execution": {
     "iopub.execute_input": "2022-03-09T17:35:53.935012Z",
     "iopub.status.busy": "2022-03-09T17:35:53.934719Z",
     "iopub.status.idle": "2022-03-09T17:35:54.077190Z",
     "shell.execute_reply": "2022-03-09T17:35:54.076798Z",
     "shell.execute_reply.started": "2022-03-09T17:35:53.934993Z"
    }
   },
   "outputs": [
    {
     "data": {
      "text/plain": [
       "<ddsutil.MTRotator_ackcmd_f04f56ad at 0x7efe57586610>"
      ]
     },
     "execution_count": 111,
     "metadata": {},
     "output_type": "execute_result"
    }
   ],
   "source": [
    "await mtcs.rem.mtrotator.cmd_move.set_start(position=1, timeout=5)"
   ]
  },
  {
   "cell_type": "code",
   "execution_count": 112,
   "id": "852e18f7-e626-4ebc-a5df-8ff00ebde678",
   "metadata": {
    "execution": {
     "iopub.execute_input": "2022-03-09T17:36:08.317884Z",
     "iopub.status.busy": "2022-03-09T17:36:08.317587Z",
     "iopub.status.idle": "2022-03-09T17:36:08.433075Z",
     "shell.execute_reply": "2022-03-09T17:36:08.432679Z",
     "shell.execute_reply.started": "2022-03-09T17:36:08.317865Z"
    }
   },
   "outputs": [
    {
     "data": {
      "text/plain": [
       "<ddsutil.MTRotator_ackcmd_f04f56ad at 0x7efe575947f0>"
      ]
     },
     "execution_count": 112,
     "metadata": {},
     "output_type": "execute_result"
    }
   ],
   "source": [
    "await mtcs.rem.mtrotator.cmd_move.set_start(position=0, timeout=5)"
   ]
  },
  {
   "cell_type": "code",
   "execution_count": 113,
   "id": "5228d76d-db53-4787-a688-7358b16734be",
   "metadata": {
    "execution": {
     "iopub.execute_input": "2022-03-09T17:36:29.056973Z",
     "iopub.status.busy": "2022-03-09T17:36:29.056695Z",
     "iopub.status.idle": "2022-03-09T17:36:29.091969Z",
     "shell.execute_reply": "2022-03-09T17:36:29.091581Z",
     "shell.execute_reply.started": "2022-03-09T17:36:29.056954Z"
    }
   },
   "outputs": [
    {
     "data": {
      "text/html": [
       "<pre style=\"margin: 0.1em;\n",
       "padding-left: 0.25em;\n",
       "border-left-style: solid;\n",
       "font-family: var(--jp-code-font-family);\n",
       "font-size: var(--jp-code-font-size);\n",
       "line-height: var(--jp-code-line-height);\n",
       "\"><span style=\"color: var(--jp-warn-color2)\">setup</span> <span style=\"color: var(--jp-success-color0)\">DEBUG</span>: CCW following mode enabled: 1 @ 2022-03-09 17:36:08.137234176.</pre>"
      ],
      "text/plain": [
       "<IPython.core.display.HTML object>"
      ]
     },
     "metadata": {},
     "output_type": "display_data"
    }
   ],
   "source": [
    "mtmount_ccw_following = await mtcs.rem.mtmount.evt_cameraCableWrapFollowing.aget()\n",
    "timestamp = pd.to_datetime(mtmount_ccw_following.private_sndStamp, unit='s')\n",
    "log.debug(f\"CCW following mode enabled: {mtmount_ccw_following.enabled} @ {timestamp}.\")"
   ]
  },
  {
   "cell_type": "code",
   "execution_count": 114,
   "id": "108c5884-ad8e-4cec-9242-6c8b79c94ea3",
   "metadata": {
    "execution": {
     "iopub.execute_input": "2022-03-09T17:36:32.465402Z",
     "iopub.status.busy": "2022-03-09T17:36:32.465107Z",
     "iopub.status.idle": "2022-03-09T17:44:32.922888Z",
     "shell.execute_reply": "2022-03-09T17:44:32.922445Z",
     "shell.execute_reply.started": "2022-03-09T17:36:32.465382Z"
    }
   },
   "outputs": [
    {
     "data": {
      "text/html": [
       "<pre style=\"margin: 0.1em;\n",
       "padding-left: 0.25em;\n",
       "border-left-style: solid;\n",
       "font-family: var(--jp-code-font-family);\n",
       "font-size: var(--jp-code-font-size);\n",
       "line-height: var(--jp-code-line-height);\n",
       "\"><span style=\"color: var(--jp-warn-color2)\">Script</span> <span style=\"color: var(--jp-info-color0)\">INFO</span>: START -- LVV-T2539 - Moving Rotator with 102.8 lbs counter-weight - Hex@  0/-11400/0/0/0/0 -- Starting Time: 2022-03-09 17:36:32.496468 UTC</pre>"
      ],
      "text/plain": [
       "<IPython.core.display.HTML object>"
      ]
     },
     "metadata": {},
     "output_type": "display_data"
    },
    {
     "data": {
      "text/html": [
       "<pre style=\"margin: 0.1em;\n",
       "padding-left: 0.25em;\n",
       "border-left-style: solid;\n",
       "font-family: var(--jp-code-font-family);\n",
       "font-size: var(--jp-code-font-size);\n",
       "line-height: var(--jp-code-line-height);\n",
       "\"><span style=\"color: var(--jp-warn-color2)\">Script</span> <span style=\"color: var(--jp-info-color0)\">INFO</span>: END -- LVV-T2539 - Moving Rotator with 102.8 lbs counter-weight - Hex@  0/-11400/0/0/0/0 -- Starting Time: 2022-03-09 17:36:32.496468 UTC</pre>"
      ],
      "text/plain": [
       "<IPython.core.display.HTML object>"
      ]
     },
     "metadata": {},
     "output_type": "display_data"
    }
   ],
   "source": [
    "now = datetime.now()\n",
    "test_message = \"LVV-T2539 - Moving Rotator with 102.8 lbs counter-weight - Hex@  0/-11400/0/0/0/0\"\n",
    "script.log.info(f\"START -- {test_message} -- Starting Time: {now} UTC\")\n",
    "\n",
    "await mtcs.rem.mtrotator.cmd_configureVelocity.set_start(vlimit=3.5, timeout=5)\n",
    "await mtcs.rem.mthexapod_1.cmd_move.set_start(x=0, y=-11400, z=0, u=0, v=0, w=0, sync=True)\n",
    "await asyncio.sleep(120)\n",
    "\n",
    "try:\n",
    "    for pos in [90, -90, 0]:\n",
    "        await mtcs.rem.mtrotator.cmd_move.set_start(position=pos, timeout=5)\n",
    "        await asyncio.sleep(120)\n",
    "except:\n",
    "    script.log.info(f\"FAIL -- {test_message} -- Starting Time: {now} UTC\")\n",
    "else:\n",
    "    script.log.info(f\"END -- {test_message} -- Starting Time: {now} UTC\")"
   ]
  },
  {
   "cell_type": "code",
   "execution_count": 115,
   "id": "bcdc3c64-78c8-4905-b73c-0f472daec8de",
   "metadata": {
    "execution": {
     "iopub.execute_input": "2022-03-09T17:48:25.528364Z",
     "iopub.status.busy": "2022-03-09T17:48:25.528054Z",
     "iopub.status.idle": "2022-03-09T17:48:25.683542Z",
     "shell.execute_reply": "2022-03-09T17:48:25.683261Z",
     "shell.execute_reply.started": "2022-03-09T17:48:25.528345Z"
    }
   },
   "outputs": [
    {
     "data": {
      "text/plain": [
       "<ddsutil.MTHexapod_ackcmd_c4d6958b at 0x7efe575c5280>"
      ]
     },
     "execution_count": 115,
     "metadata": {},
     "output_type": "execute_result"
    }
   ],
   "source": [
    "await mtcs.rem.mthexapod_1.cmd_move.set_start(x=0, y=0, z=0, u=0, v=0, w=0, sync=True)"
   ]
  },
  {
   "cell_type": "markdown",
   "id": "178a4cef-16ef-4c6f-be0c-557ddbf4c3a1",
   "metadata": {},
   "source": [
    "In the whole test, we reached a peak temperature of 27º in Motor 1 and 26.6º in Motor 2.\n",
    "\n",
    "---\n",
    "\n",
    "Moving now to -90º to remove the counter-weights."
   ]
  },
  {
   "cell_type": "code",
   "execution_count": 116,
   "id": "f5ab28d7-6243-4730-8755-e9174a4143ab",
   "metadata": {
    "execution": {
     "iopub.execute_input": "2022-03-09T18:00:27.913269Z",
     "iopub.status.busy": "2022-03-09T18:00:27.913054Z",
     "iopub.status.idle": "2022-03-09T18:00:28.012767Z",
     "shell.execute_reply": "2022-03-09T18:00:28.012478Z",
     "shell.execute_reply.started": "2022-03-09T18:00:27.913250Z"
    }
   },
   "outputs": [
    {
     "data": {
      "text/plain": [
       "<ddsutil.MTRotator_ackcmd_f04f56ad at 0x7efe57596100>"
      ]
     },
     "execution_count": 116,
     "metadata": {},
     "output_type": "execute_result"
    }
   ],
   "source": [
    "await mtcs.rem.mtrotator.cmd_move.set_start(position=-90, timeout=5)"
   ]
  },
  {
   "cell_type": "code",
   "execution_count": 146,
   "id": "69e07688-91df-4cef-b181-0f92503c7748",
   "metadata": {
    "execution": {
     "iopub.execute_input": "2022-03-09T18:24:56.837725Z",
     "iopub.status.busy": "2022-03-09T18:24:56.837192Z",
     "iopub.status.idle": "2022-03-09T18:24:56.882950Z",
     "shell.execute_reply": "2022-03-09T18:24:56.882556Z",
     "shell.execute_reply.started": "2022-03-09T18:24:56.837704Z"
    },
    "tags": []
   },
   "outputs": [
    {
     "data": {
      "text/html": [
       "<pre style=\"margin: 0.1em;\n",
       "padding-left: 0.25em;\n",
       "border-left-style: solid;\n",
       "font-family: var(--jp-code-font-family);\n",
       "font-size: var(--jp-code-font-size);\n",
       "line-height: var(--jp-code-line-height);\n",
       "\"><span style=\"color: var(--jp-warn-color2)\">setup.MTCS</span> <span style=\"color: var(--jp-success-color0)\">DEBUG</span>: [mtrotator]::[&lt;State.DISABLED: 1&gt;, &lt;State.STANDBY: 5&gt;]</pre>"
      ],
      "text/plain": [
       "<IPython.core.display.HTML object>"
      ]
     },
     "metadata": {},
     "output_type": "display_data"
    },
    {
     "data": {
      "text/html": [
       "<pre style=\"margin: 0.1em;\n",
       "padding-left: 0.25em;\n",
       "border-left-style: solid;\n",
       "font-family: var(--jp-code-font-family);\n",
       "font-size: var(--jp-code-font-size);\n",
       "line-height: var(--jp-code-line-height);\n",
       "\"><span style=\"color: var(--jp-warn-color2)\">setup.MTCS</span> <span style=\"color: var(--jp-info-color0)\">INFO</span>: All components in &lt;State.STANDBY: 5&gt;.</pre>"
      ],
      "text/plain": [
       "<IPython.core.display.HTML object>"
      ]
     },
     "metadata": {},
     "output_type": "display_data"
    }
   ],
   "source": [
    "await mtcs.set_state(salobj.State.STANDBY, components=[\"mtrotator\"])"
   ]
  },
  {
   "cell_type": "code",
   "execution_count": 147,
   "id": "a1f12731-31c8-4b99-bce0-c9f2b5eae21b",
   "metadata": {
    "execution": {
     "iopub.execute_input": "2022-03-09T18:24:57.222279Z",
     "iopub.status.busy": "2022-03-09T18:24:57.221770Z",
     "iopub.status.idle": "2022-03-09T18:24:57.341359Z",
     "shell.execute_reply": "2022-03-09T18:24:57.340916Z",
     "shell.execute_reply.started": "2022-03-09T18:24:57.222259Z"
    },
    "tags": []
   },
   "outputs": [
    {
     "data": {
      "text/html": [
       "<pre style=\"margin: 0.1em;\n",
       "padding-left: 0.25em;\n",
       "border-left-style: solid;\n",
       "font-family: var(--jp-code-font-family);\n",
       "font-size: var(--jp-code-font-size);\n",
       "line-height: var(--jp-code-line-height);\n",
       "\"><span style=\"color: var(--jp-warn-color2)\">setup.MTCS</span> <span style=\"color: var(--jp-success-color0)\">DEBUG</span>: [mtmount]::[&lt;State.ENABLED: 2&gt;, &lt;State.DISABLED: 1&gt;, &lt;State.STANDBY: 5&gt;]</pre>"
      ],
      "text/plain": [
       "<IPython.core.display.HTML object>"
      ]
     },
     "metadata": {},
     "output_type": "display_data"
    },
    {
     "data": {
      "text/html": [
       "<pre style=\"margin: 0.1em;\n",
       "padding-left: 0.25em;\n",
       "border-left-style: solid;\n",
       "font-family: var(--jp-code-font-family);\n",
       "font-size: var(--jp-code-font-size);\n",
       "line-height: var(--jp-code-line-height);\n",
       "\"><span style=\"color: var(--jp-warn-color2)\">setup.MTCS</span> <span style=\"color: var(--jp-info-color0)\">INFO</span>: All components in &lt;State.STANDBY: 5&gt;.</pre>"
      ],
      "text/plain": [
       "<IPython.core.display.HTML object>"
      ]
     },
     "metadata": {},
     "output_type": "display_data"
    }
   ],
   "source": [
    "await mtcs.set_state(salobj.State.STANDBY, components=[\"mtmount\"])"
   ]
  },
  {
   "cell_type": "code",
   "execution_count": 143,
   "id": "5e0f0e76-e94c-4f72-a5a0-a1bf72ead924",
   "metadata": {
    "execution": {
     "iopub.execute_input": "2022-03-09T18:23:22.982686Z",
     "iopub.status.busy": "2022-03-09T18:23:22.982146Z",
     "iopub.status.idle": "2022-03-09T18:23:25.660901Z",
     "shell.execute_reply": "2022-03-09T18:23:25.660521Z",
     "shell.execute_reply.started": "2022-03-09T18:23:22.982658Z"
    },
    "tags": []
   },
   "outputs": [
    {
     "data": {
      "text/html": [
       "<pre style=\"margin: 0.1em;\n",
       "padding-left: 0.25em;\n",
       "border-left-style: solid;\n",
       "font-family: var(--jp-code-font-family);\n",
       "font-size: var(--jp-code-font-size);\n",
       "line-height: var(--jp-code-line-height);\n",
       "\"><span style=\"color: var(--jp-warn-color2)\">setup.MTCS</span> <span style=\"color: var(--jp-success-color0)\">DEBUG</span>: [mtmount]::[&lt;State.DISABLED: 1&gt;, &lt;State.ENABLED: 2&gt;]</pre>"
      ],
      "text/plain": [
       "<IPython.core.display.HTML object>"
      ]
     },
     "metadata": {},
     "output_type": "display_data"
    },
    {
     "data": {
      "text/html": [
       "<pre style=\"margin: 0.1em;\n",
       "padding-left: 0.25em;\n",
       "border-left-style: solid;\n",
       "font-family: var(--jp-code-font-family);\n",
       "font-size: var(--jp-code-font-size);\n",
       "line-height: var(--jp-code-line-height);\n",
       "\"><span style=\"color: var(--jp-warn-color2)\">setup.MTCS</span> <span style=\"color: var(--jp-info-color0)\">INFO</span>: All components in &lt;State.ENABLED: 2&gt;.</pre>"
      ],
      "text/plain": [
       "<IPython.core.display.HTML object>"
      ]
     },
     "metadata": {},
     "output_type": "display_data"
    }
   ],
   "source": [
    "await mtcs.set_state(salobj.State.ENABLED, components=[\"mtmount\"])"
   ]
  },
  {
   "cell_type": "code",
   "execution_count": 145,
   "id": "e1b1d9d4-1aae-473b-b2cd-0ef3388d3175",
   "metadata": {
    "execution": {
     "iopub.execute_input": "2022-03-09T18:23:33.672116Z",
     "iopub.status.busy": "2022-03-09T18:23:33.671615Z",
     "iopub.status.idle": "2022-03-09T18:23:46.438871Z",
     "shell.execute_reply": "2022-03-09T18:23:46.438287Z",
     "shell.execute_reply.started": "2022-03-09T18:23:33.672094Z"
    },
    "tags": []
   },
   "outputs": [
    {
     "data": {
      "text/html": [
       "<pre style=\"margin: 0.1em;\n",
       "padding-left: 0.25em;\n",
       "border-left-style: solid;\n",
       "font-family: var(--jp-code-font-family);\n",
       "font-size: var(--jp-code-font-size);\n",
       "line-height: var(--jp-code-line-height);\n",
       "\"><span style=\"color: var(--jp-warn-color2)\">setup.MTCS</span> <span style=\"color: var(--jp-error-color2)\">ERROR</span>: Unable to transition mtrotator to &lt;State.ENABLED: 2&gt; NoneType: None\n",
       ".\n",
       "Traceback (most recent call last):\n",
       "  File &quot;/opt/lsst/software/stack/conda/miniconda3-py38_4.9.2/envs/lsst-scipipe-2.0.0/lib/python3.8/site-packages/lsst/ts/salobj/csc_utils.py&quot;, line 158, in set_summary_state\n",
       "    await cmd.start(timeout=timeout)\n",
       "  File &quot;/opt/lsst/software/stack/conda/miniconda3-py38_4.9.2/envs/lsst-scipipe-2.0.0/lib/python3.8/site-packages/lsst/ts/salobj/topics/remote_command.py&quot;, line 483, in start\n",
       "    return await cmd_info.next_ackcmd(timeout=timeout)\n",
       "  File &quot;/opt/lsst/software/stack/conda/miniconda3-py38_4.9.2/envs/lsst-scipipe-2.0.0/lib/python3.8/site-packages/lsst/ts/salobj/topics/remote_command.py&quot;, line 201, in next_ackcmd\n",
       "    raise base.AckError(msg=&quot;Command failed&quot;, ackcmd=ackcmd)\n",
       "lsst.ts.salobj.base.AckError: msg=&#x27;Command failed&#x27;, ackcmd=(ackcmd private_seqNum=483955450, ack=&lt;SalRetCode.CMD_FAILED: -302&gt;, error=1, result=&quot;Failed: SET_STATE command with param1=&lt;SetStateParam.ENABLE: 2&gt; failed: ExpectedError(&#x27;Not expected state in timeout&#x27;)&quot;)\n",
       "\n",
       "The above exception was the direct cause of the following exception:\n",
       "\n",
       "Traceback (most recent call last):\n",
       "  File &quot;/opt/lsst/software/stack/conda/miniconda3-py38_4.9.2/envs/lsst-scipipe-2.0.0/lib/python3.8/site-packages/lsst/ts/salobj/csc_utils.py&quot;, line 160, in set_summary_state\n",
       "    raise RuntimeError(\n",
       "RuntimeError: Error on cmd=cmd_enable, initial_state=1: msg=&#x27;Command failed&#x27;, ackcmd=(ackcmd private_seqNum=483955450, ack=&lt;SalRetCode.CMD_FAILED: -302&gt;, error=1, result=&quot;Failed: SET_STATE command with param1=&lt;SetStateParam.ENABLE: 2&gt; failed: ExpectedError(&#x27;Not expected state in timeout&#x27;)&quot;)\n",
       "</pre>"
      ],
      "text/plain": [
       "<IPython.core.display.HTML object>"
      ]
     },
     "metadata": {},
     "output_type": "display_data"
    },
    {
     "ename": "RuntimeError",
     "evalue": "Failed to transition ['mtrotator'] to <State.ENABLED: 2>.",
     "output_type": "error",
     "traceback": [
      "\u001b[0;31m---------------------------------------------------------------------------\u001b[0m",
      "\u001b[0;31mRuntimeError\u001b[0m                              Traceback (most recent call last)",
      "Input \u001b[0;32mIn [145]\u001b[0m, in \u001b[0;36m<cell line: 1>\u001b[0;34m()\u001b[0m\n\u001b[0;32m----> 1\u001b[0m \u001b[38;5;28;01mawait\u001b[39;00m mtcs\u001b[38;5;241m.\u001b[39mset_state(salobj\u001b[38;5;241m.\u001b[39mState\u001b[38;5;241m.\u001b[39mENABLED, components\u001b[38;5;241m=\u001b[39m[\u001b[38;5;124m\"\u001b[39m\u001b[38;5;124mmtrotator\u001b[39m\u001b[38;5;124m\"\u001b[39m])\n",
      "File \u001b[0;32m~/auto-op-env-packages/ts_observatory_control/python/lsst/ts/observatory/control/remote_group.py:812\u001b[0m, in \u001b[0;36mRemoteGroup.set_state\u001b[0;34m(self, state, settings, components)\u001b[0m\n\u001b[1;32m    809\u001b[0m         \u001b[38;5;28mself\u001b[39m\u001b[38;5;241m.\u001b[39mlog\u001b[38;5;241m.\u001b[39mdebug(\u001b[38;5;124mf\u001b[39m\u001b[38;5;124m\"\u001b[39m\u001b[38;5;124m[\u001b[39m\u001b[38;5;132;01m{\u001b[39;00mcomp\u001b[38;5;132;01m}\u001b[39;00m\u001b[38;5;124m]::\u001b[39m\u001b[38;5;132;01m{\u001b[39;00mret_val[i]\u001b[38;5;132;01m!r}\u001b[39;00m\u001b[38;5;124m\"\u001b[39m)\n\u001b[1;32m    811\u001b[0m \u001b[38;5;28;01mif\u001b[39;00m error_flag:\n\u001b[0;32m--> 812\u001b[0m     \u001b[38;5;28;01mraise\u001b[39;00m \u001b[38;5;167;01mRuntimeError\u001b[39;00m(\n\u001b[1;32m    813\u001b[0m         \u001b[38;5;124mf\u001b[39m\u001b[38;5;124m\"\u001b[39m\u001b[38;5;124mFailed to transition \u001b[39m\u001b[38;5;132;01m{\u001b[39;00mfailed_components\u001b[38;5;132;01m}\u001b[39;00m\u001b[38;5;124m to \u001b[39m\u001b[38;5;124m\"\u001b[39m\n\u001b[1;32m    814\u001b[0m         \u001b[38;5;124mf\u001b[39m\u001b[38;5;124m\"\u001b[39m\u001b[38;5;132;01m{\u001b[39;00msalobj\u001b[38;5;241m.\u001b[39mState(state)\u001b[38;5;132;01m!r}\u001b[39;00m\u001b[38;5;124m.\u001b[39m\u001b[38;5;124m\"\u001b[39m\n\u001b[1;32m    815\u001b[0m     )\n\u001b[1;32m    816\u001b[0m \u001b[38;5;28;01melse\u001b[39;00m:\n\u001b[1;32m    817\u001b[0m     \u001b[38;5;28mself\u001b[39m\u001b[38;5;241m.\u001b[39mlog\u001b[38;5;241m.\u001b[39minfo(\u001b[38;5;124mf\u001b[39m\u001b[38;5;124m\"\u001b[39m\u001b[38;5;124mAll components in \u001b[39m\u001b[38;5;132;01m{\u001b[39;00msalobj\u001b[38;5;241m.\u001b[39mState(state)\u001b[38;5;132;01m!r}\u001b[39;00m\u001b[38;5;124m.\u001b[39m\u001b[38;5;124m\"\u001b[39m)\n",
      "\u001b[0;31mRuntimeError\u001b[0m: Failed to transition ['mtrotator'] to <State.ENABLED: 2>."
     ]
    }
   ],
   "source": [
    "await mtcs.set_state(salobj.State.ENABLED, components=[\"mtrotator\"])"
   ]
  },
  {
   "cell_type": "code",
   "execution_count": 121,
   "id": "63dcf44d-3277-47fc-a9d7-5088fb4bc51a",
   "metadata": {
    "execution": {
     "iopub.execute_input": "2022-03-09T18:01:37.396559Z",
     "iopub.status.busy": "2022-03-09T18:01:37.396295Z",
     "iopub.status.idle": "2022-03-09T18:01:51.595167Z",
     "shell.execute_reply": "2022-03-09T18:01:51.594851Z",
     "shell.execute_reply.started": "2022-03-09T18:01:37.396539Z"
    }
   },
   "outputs": [
    {
     "data": {
      "text/html": [
       "<pre style=\"margin: 0.1em;\n",
       "padding-left: 0.25em;\n",
       "border-left-style: solid;\n",
       "font-family: var(--jp-code-font-family);\n",
       "font-size: var(--jp-code-font-size);\n",
       "line-height: var(--jp-code-line-height);\n",
       "\"><span style=\"color: var(--jp-warn-color2)\">setup.MTCS</span> <span style=\"color: var(--jp-success-color0)\">DEBUG</span>: [mtrotator]::[&lt;State.DISABLED: 1&gt;, &lt;State.ENABLED: 2&gt;]</pre>"
      ],
      "text/plain": [
       "<IPython.core.display.HTML object>"
      ]
     },
     "metadata": {},
     "output_type": "display_data"
    },
    {
     "data": {
      "text/html": [
       "<pre style=\"margin: 0.1em;\n",
       "padding-left: 0.25em;\n",
       "border-left-style: solid;\n",
       "font-family: var(--jp-code-font-family);\n",
       "font-size: var(--jp-code-font-size);\n",
       "line-height: var(--jp-code-line-height);\n",
       "\"><span style=\"color: var(--jp-warn-color2)\">setup.MTCS</span> <span style=\"color: var(--jp-info-color0)\">INFO</span>: All components in &lt;State.ENABLED: 2&gt;.</pre>"
      ],
      "text/plain": [
       "<IPython.core.display.HTML object>"
      ]
     },
     "metadata": {},
     "output_type": "display_data"
    }
   ],
   "source": [
    "await mtcs.set_state(salobj.State.ENABLED, components=[\"mtrotator\"])"
   ]
  },
  {
   "cell_type": "code",
   "execution_count": 122,
   "id": "09973809-fa09-4ae9-b6ae-49c1260a01e3",
   "metadata": {
    "execution": {
     "iopub.execute_input": "2022-03-09T18:02:01.778979Z",
     "iopub.status.busy": "2022-03-09T18:02:01.778687Z",
     "iopub.status.idle": "2022-03-09T18:02:01.812566Z",
     "shell.execute_reply": "2022-03-09T18:02:01.812115Z",
     "shell.execute_reply.started": "2022-03-09T18:02:01.778959Z"
    },
    "tags": []
   },
   "outputs": [
    {
     "data": {
      "text/html": [
       "<pre style=\"margin: 0.1em;\n",
       "padding-left: 0.25em;\n",
       "border-left-style: solid;\n",
       "font-family: var(--jp-code-font-family);\n",
       "font-size: var(--jp-code-font-size);\n",
       "line-height: var(--jp-code-line-height);\n",
       "\"><span style=\"color: var(--jp-warn-color2)\">setup</span> <span style=\"color: var(--jp-success-color0)\">DEBUG</span>: CCW following mode enabled: 0 @ 2022-03-09 18:02:05.483974656.</pre>"
      ],
      "text/plain": [
       "<IPython.core.display.HTML object>"
      ]
     },
     "metadata": {},
     "output_type": "display_data"
    }
   ],
   "source": [
    "mtmount_ccw_following = await mtcs.rem.mtmount.evt_cameraCableWrapFollowing.aget()\n",
    "timestamp = pd.to_datetime(mtmount_ccw_following.private_sndStamp, unit='s')\n",
    "log.debug(f\"CCW following mode enabled: {mtmount_ccw_following.enabled} @ {timestamp}.\")"
   ]
  },
  {
   "cell_type": "code",
   "execution_count": 123,
   "id": "5f65bda7-2ac1-4bb2-b671-d32183f4800c",
   "metadata": {
    "execution": {
     "iopub.execute_input": "2022-03-09T18:02:05.093572Z",
     "iopub.status.busy": "2022-03-09T18:02:05.093266Z",
     "iopub.status.idle": "2022-03-09T18:02:05.144851Z",
     "shell.execute_reply": "2022-03-09T18:02:05.144458Z",
     "shell.execute_reply.started": "2022-03-09T18:02:05.093554Z"
    },
    "tags": []
   },
   "outputs": [
    {
     "data": {
      "text/html": [
       "<pre style=\"margin: 0.1em;\n",
       "padding-left: 0.25em;\n",
       "border-left-style: solid;\n",
       "font-family: var(--jp-code-font-family);\n",
       "font-size: var(--jp-code-font-size);\n",
       "line-height: var(--jp-code-line-height);\n",
       "\"><span style=\"color: var(--jp-warn-color2)\">setup.MTCS</span> <span style=\"color: var(--jp-info-color0)\">INFO</span>: Enabling CCW following.</pre>"
      ],
      "text/plain": [
       "<IPython.core.display.HTML object>"
      ]
     },
     "metadata": {},
     "output_type": "display_data"
    }
   ],
   "source": [
    "await mtcs.enable_ccw_following()"
   ]
  },
  {
   "cell_type": "code",
   "execution_count": 124,
   "id": "294c92ee-86cf-4d9d-a36e-983e8d3bb630",
   "metadata": {
    "execution": {
     "iopub.execute_input": "2022-03-09T18:02:11.723369Z",
     "iopub.status.busy": "2022-03-09T18:02:11.723059Z",
     "iopub.status.idle": "2022-03-09T18:02:11.756590Z",
     "shell.execute_reply": "2022-03-09T18:02:11.756168Z",
     "shell.execute_reply.started": "2022-03-09T18:02:11.723352Z"
    }
   },
   "outputs": [
    {
     "data": {
      "text/html": [
       "<pre style=\"margin: 0.1em;\n",
       "padding-left: 0.25em;\n",
       "border-left-style: solid;\n",
       "font-family: var(--jp-code-font-family);\n",
       "font-size: var(--jp-code-font-size);\n",
       "line-height: var(--jp-code-line-height);\n",
       "\"><span style=\"color: var(--jp-warn-color2)\">setup</span> <span style=\"color: var(--jp-success-color0)\">DEBUG</span>: CCW following mode enabled: 1 @ 2022-03-09 18:02:42.142313472.</pre>"
      ],
      "text/plain": [
       "<IPython.core.display.HTML object>"
      ]
     },
     "metadata": {},
     "output_type": "display_data"
    }
   ],
   "source": [
    "mtmount_ccw_following = await mtcs.rem.mtmount.evt_cameraCableWrapFollowing.aget()\n",
    "timestamp = pd.to_datetime(mtmount_ccw_following.private_sndStamp, unit='s')\n",
    "log.debug(f\"CCW following mode enabled: {mtmount_ccw_following.enabled} @ {timestamp}.\")"
   ]
  },
  {
   "cell_type": "code",
   "execution_count": 125,
   "id": "32425667-28b9-4fa1-9932-413a46e94bf9",
   "metadata": {
    "execution": {
     "iopub.execute_input": "2022-03-09T18:02:22.751784Z",
     "iopub.status.busy": "2022-03-09T18:02:22.751472Z",
     "iopub.status.idle": "2022-03-09T18:02:22.855312Z",
     "shell.execute_reply": "2022-03-09T18:02:22.854931Z",
     "shell.execute_reply.started": "2022-03-09T18:02:22.751761Z"
    }
   },
   "outputs": [
    {
     "data": {
      "text/plain": [
       "<ddsutil.MTRotator_ackcmd_f04f56ad at 0x7efec5bb5c70>"
      ]
     },
     "execution_count": 125,
     "metadata": {},
     "output_type": "execute_result"
    }
   ],
   "source": [
    "await mtcs.rem.mtrotator.cmd_move.set_start(position=-90, timeout=5)"
   ]
  },
  {
   "cell_type": "markdown",
   "id": "c96c0f5d-4361-46d2-b008-8fadd27ef19f",
   "metadata": {},
   "source": [
    "Now, let's engage the e-stops and ask the mechanicals to remove the counter-weight."
   ]
  },
  {
   "cell_type": "code",
   "execution_count": 157,
   "id": "aef9e560-209d-445f-a92f-874e5ca21021",
   "metadata": {
    "execution": {
     "iopub.execute_input": "2022-03-09T18:30:38.854755Z",
     "iopub.status.busy": "2022-03-09T18:30:38.854230Z",
     "iopub.status.idle": "2022-03-09T18:30:38.986088Z",
     "shell.execute_reply": "2022-03-09T18:30:38.985733Z",
     "shell.execute_reply.started": "2022-03-09T18:30:38.854732Z"
    }
   },
   "outputs": [
    {
     "data": {
      "text/html": [
       "<pre style=\"margin: 0.1em;\n",
       "padding-left: 0.25em;\n",
       "border-left-style: solid;\n",
       "font-family: var(--jp-code-font-family);\n",
       "font-size: var(--jp-code-font-size);\n",
       "line-height: var(--jp-code-line-height);\n",
       "\"><span style=\"color: var(--jp-warn-color2)\">setup.MTCS</span> <span style=\"color: var(--jp-success-color0)\">DEBUG</span>: [mtmount]::[&lt;State.ENABLED: 2&gt;, &lt;State.DISABLED: 1&gt;, &lt;State.STANDBY: 5&gt;]</pre>"
      ],
      "text/plain": [
       "<IPython.core.display.HTML object>"
      ]
     },
     "metadata": {},
     "output_type": "display_data"
    },
    {
     "data": {
      "text/html": [
       "<pre style=\"margin: 0.1em;\n",
       "padding-left: 0.25em;\n",
       "border-left-style: solid;\n",
       "font-family: var(--jp-code-font-family);\n",
       "font-size: var(--jp-code-font-size);\n",
       "line-height: var(--jp-code-line-height);\n",
       "\"><span style=\"color: var(--jp-warn-color2)\">setup.MTCS</span> <span style=\"color: var(--jp-info-color0)\">INFO</span>: All components in &lt;State.STANDBY: 5&gt;.</pre>"
      ],
      "text/plain": [
       "<IPython.core.display.HTML object>"
      ]
     },
     "metadata": {},
     "output_type": "display_data"
    }
   ],
   "source": [
    "await mtcs.set_state(salobj.State.STANDBY, components=[\"mtmount\"])"
   ]
  },
  {
   "cell_type": "code",
   "execution_count": 164,
   "id": "f9b9969a-3842-4e05-8783-453b2ab676d5",
   "metadata": {
    "execution": {
     "iopub.execute_input": "2022-03-09T18:56:57.485940Z",
     "iopub.status.busy": "2022-03-09T18:56:57.485723Z",
     "iopub.status.idle": "2022-03-09T18:56:57.602529Z",
     "shell.execute_reply": "2022-03-09T18:56:57.602241Z",
     "shell.execute_reply.started": "2022-03-09T18:56:57.485922Z"
    },
    "tags": []
   },
   "outputs": [
    {
     "data": {
      "text/html": [
       "<pre style=\"margin: 0.1em;\n",
       "padding-left: 0.25em;\n",
       "border-left-style: solid;\n",
       "font-family: var(--jp-code-font-family);\n",
       "font-size: var(--jp-code-font-size);\n",
       "line-height: var(--jp-code-line-height);\n",
       "\"><span style=\"color: var(--jp-warn-color2)\">setup.MTCS</span> <span style=\"color: var(--jp-success-color0)\">DEBUG</span>: [mtmount]::[&lt;State.ENABLED: 2&gt;, &lt;State.DISABLED: 1&gt;, &lt;State.STANDBY: 5&gt;]</pre>"
      ],
      "text/plain": [
       "<IPython.core.display.HTML object>"
      ]
     },
     "metadata": {},
     "output_type": "display_data"
    },
    {
     "data": {
      "text/html": [
       "<pre style=\"margin: 0.1em;\n",
       "padding-left: 0.25em;\n",
       "border-left-style: solid;\n",
       "font-family: var(--jp-code-font-family);\n",
       "font-size: var(--jp-code-font-size);\n",
       "line-height: var(--jp-code-line-height);\n",
       "\"><span style=\"color: var(--jp-warn-color2)\">setup.MTCS</span> <span style=\"color: var(--jp-info-color0)\">INFO</span>: All components in &lt;State.STANDBY: 5&gt;.</pre>"
      ],
      "text/plain": [
       "<IPython.core.display.HTML object>"
      ]
     },
     "metadata": {},
     "output_type": "display_data"
    }
   ],
   "source": [
    "await mtcs.set_state(salobj.State.STANDBY, components=[\"mtmount\"])"
   ]
  },
  {
   "cell_type": "code",
   "execution_count": 162,
   "id": "029823a7-bb51-478a-add6-a1ee1cb10850",
   "metadata": {
    "execution": {
     "iopub.execute_input": "2022-03-09T18:54:20.309190Z",
     "iopub.status.busy": "2022-03-09T18:54:20.308672Z",
     "iopub.status.idle": "2022-03-09T18:54:21.266290Z",
     "shell.execute_reply": "2022-03-09T18:54:21.265895Z",
     "shell.execute_reply.started": "2022-03-09T18:54:20.309170Z"
    },
    "tags": []
   },
   "outputs": [
    {
     "data": {
      "text/html": [
       "<pre style=\"margin: 0.1em;\n",
       "padding-left: 0.25em;\n",
       "border-left-style: solid;\n",
       "font-family: var(--jp-code-font-family);\n",
       "font-size: var(--jp-code-font-size);\n",
       "line-height: var(--jp-code-line-height);\n",
       "\"><span style=\"color: var(--jp-warn-color2)\">setup.MTCS</span> <span style=\"color: var(--jp-success-color0)\">DEBUG</span>: [mtrotator]::[&lt;State.STANDBY: 5&gt;, &lt;State.DISABLED: 1&gt;]</pre>"
      ],
      "text/plain": [
       "<IPython.core.display.HTML object>"
      ]
     },
     "metadata": {},
     "output_type": "display_data"
    },
    {
     "data": {
      "text/html": [
       "<pre style=\"margin: 0.1em;\n",
       "padding-left: 0.25em;\n",
       "border-left-style: solid;\n",
       "font-family: var(--jp-code-font-family);\n",
       "font-size: var(--jp-code-font-size);\n",
       "line-height: var(--jp-code-line-height);\n",
       "\"><span style=\"color: var(--jp-warn-color2)\">setup.MTCS</span> <span style=\"color: var(--jp-info-color0)\">INFO</span>: All components in &lt;State.DISABLED: 1&gt;.</pre>"
      ],
      "text/plain": [
       "<IPython.core.display.HTML object>"
      ]
     },
     "metadata": {},
     "output_type": "display_data"
    }
   ],
   "source": [
    "await mtcs.set_state(salobj.State.DISABLED, components=[\"mtrotator\"])"
   ]
  },
  {
   "cell_type": "code",
   "execution_count": 163,
   "id": "8baf83b5-a445-4bd1-884b-be215c50ddc4",
   "metadata": {
    "execution": {
     "iopub.execute_input": "2022-03-09T18:56:53.138209Z",
     "iopub.status.busy": "2022-03-09T18:56:53.137688Z",
     "iopub.status.idle": "2022-03-09T18:56:53.181359Z",
     "shell.execute_reply": "2022-03-09T18:56:53.180961Z",
     "shell.execute_reply.started": "2022-03-09T18:56:53.138189Z"
    },
    "tags": []
   },
   "outputs": [
    {
     "data": {
      "text/html": [
       "<pre style=\"margin: 0.1em;\n",
       "padding-left: 0.25em;\n",
       "border-left-style: solid;\n",
       "font-family: var(--jp-code-font-family);\n",
       "font-size: var(--jp-code-font-size);\n",
       "line-height: var(--jp-code-line-height);\n",
       "\"><span style=\"color: var(--jp-warn-color2)\">setup.MTCS</span> <span style=\"color: var(--jp-success-color0)\">DEBUG</span>: [mtrotator]::[&lt;State.DISABLED: 1&gt;, &lt;State.STANDBY: 5&gt;]</pre>"
      ],
      "text/plain": [
       "<IPython.core.display.HTML object>"
      ]
     },
     "metadata": {},
     "output_type": "display_data"
    },
    {
     "data": {
      "text/html": [
       "<pre style=\"margin: 0.1em;\n",
       "padding-left: 0.25em;\n",
       "border-left-style: solid;\n",
       "font-family: var(--jp-code-font-family);\n",
       "font-size: var(--jp-code-font-size);\n",
       "line-height: var(--jp-code-line-height);\n",
       "\"><span style=\"color: var(--jp-warn-color2)\">setup.MTCS</span> <span style=\"color: var(--jp-info-color0)\">INFO</span>: All components in &lt;State.STANDBY: 5&gt;.</pre>"
      ],
      "text/plain": [
       "<IPython.core.display.HTML object>"
      ]
     },
     "metadata": {},
     "output_type": "display_data"
    }
   ],
   "source": [
    "await mtcs.set_state(salobj.State.STANDBY, components=[\"mtrotator\"])"
   ]
  },
  {
   "cell_type": "markdown",
   "id": "c97f8e75-26b2-4402-966e-520a536be38f",
   "metadata": {},
   "source": [
    "The Rotator is now stuck at -90º and every time we try to set it to an ENABLED state, it goes to FAULT with a **SMLink Error** and a **Pos Feedback Faut** flag.  \n",
    "Tiago and Te-Wei suspect that it might be some hardware issue (cables?). "
   ]
  },
  {
   "cell_type": "code",
   "execution_count": null,
   "id": "1b241601-107c-4a4a-9828-eba6be143d4c",
   "metadata": {},
   "outputs": [],
   "source": []
  },
  {
   "cell_type": "code",
   "execution_count": null,
   "id": "bcc1dab0-3036-4d1c-ae6d-6e592e997cdb",
   "metadata": {},
   "outputs": [],
   "source": []
  },
  {
   "cell_type": "code",
   "execution_count": null,
   "id": "c614e906-1936-4c4c-be7e-ef5773553696",
   "metadata": {},
   "outputs": [],
   "source": []
  },
  {
   "cell_type": "code",
   "execution_count": null,
   "id": "070d7f87-90c3-4655-a746-0243ea486b5b",
   "metadata": {},
   "outputs": [],
   "source": [
    "# Check CCW Following \n",
    "await mtcs.rem.mtrotator.cmd_move.set_start(position=-1, timeout=5)"
   ]
  },
  {
   "cell_type": "markdown",
   "id": "24f09968-a5cb-44f7-94f0-d04d7494f54f",
   "metadata": {},
   "source": [
    "### Data Analysis"
   ]
  },
  {
   "cell_type": "markdown",
   "id": "9c31e6a5-47aa-456f-beb9-76fa7e9e14fc",
   "metadata": {},
   "source": [
    "---\n",
    "Analyze the data"
   ]
  },
  {
   "cell_type": "code",
   "execution_count": null,
   "id": "30e05e0e-3b9a-4eae-897c-a4de68d483c2",
   "metadata": {
    "tags": []
   },
   "outputs": [],
   "source": [
    "# t_end = Time(Time.now(), scale='utc', format='isot')\n",
    "t_start = Time('2021-10-01T14:00:00', scale='utc', format='isot') \n",
    "t_end = Time('2021-10-01T14:25:00', scale='utc', format='isot')"
   ]
  },
  {
   "cell_type": "code",
   "execution_count": null,
   "id": "0bc3c1e3-75a6-4b2b-a677-12261c6ee580",
   "metadata": {
    "tags": []
   },
   "outputs": [],
   "source": [
    "efd_client = retrieve_efd_client(summit)\n",
    "df = await retrieve_rotator_angle_and_torques_from_efd(efd_client, t_start, t_end)"
   ]
  },
  {
   "cell_type": "code",
   "execution_count": null,
   "id": "7ffe4f1f-d16e-488d-8671-234f0bad2935",
   "metadata": {
    "tags": []
   },
   "outputs": [],
   "source": [
    "filename = f\"EFD_{t_start.strftime('%Y%m%d_%H%M%S')}.png\"\n",
    "plot_rotator_angle_and_torques(df, filename=filename)"
   ]
  },
  {
   "cell_type": "code",
   "execution_count": null,
   "id": "3b65bd4b-c41e-4a91-9fe4-0b3a7c524540",
   "metadata": {
    "tags": []
   },
   "outputs": [],
   "source": [
    "filename = f\"EFD_RotVsTorque_{t_start.strftime('%Y%m%d_%H%M%S')}.png\"\n",
    "plot_torque_vs_rotator_angle(df, filename=filename)"
   ]
  },
  {
   "cell_type": "code",
   "execution_count": null,
   "id": "214bc943-09f9-4db4-89d2-14524222e508",
   "metadata": {},
   "outputs": [],
   "source": []
  },
  {
   "cell_type": "code",
   "execution_count": null,
   "id": "029e210b-5813-4734-8ff5-4415e1eeed78",
   "metadata": {},
   "outputs": [],
   "source": [
    "async def get_rotator_temperatures(client, limit):\n",
    "    \"\"\"\n",
    "    Continuously tracks the rotator's motors temperatures in order to protect \n",
    "    them from overheating while running big movements and at high speeds.\n",
    "    \n",
    "    Parameters\n",
    "    ----------\n",
    "    client : \n",
    "        EFD client\n",
    "    limit : float\n",
    "        Temperature limit for when triggering the alarm\n",
    "    \"\"\"\n",
    "    "
   ]
  },
  {
   "cell_type": "markdown",
   "id": "ec985ebd-8875-4cef-8b2c-d19f008f5b03",
   "metadata": {},
   "source": [
    "we should not use "
   ]
  }
 ],
 "metadata": {
  "kernelspec": {
   "display_name": "LSST",
   "language": "python",
   "name": "lsst"
  },
  "language_info": {
   "codemirror_mode": {
    "name": "ipython",
    "version": 3
   },
   "file_extension": ".py",
   "mimetype": "text/x-python",
   "name": "python",
   "nbconvert_exporter": "python",
   "pygments_lexer": "ipython3",
   "version": "3.8.12"
  }
 },
 "nbformat": 4,
 "nbformat_minor": 5
}
