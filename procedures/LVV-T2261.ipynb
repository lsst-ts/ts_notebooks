{
 "cells": [
  {
   "cell_type": "markdown",
   "id": "57810e69-aae0-4056-8bf9-e2746384b9bf",
   "metadata": {},
   "source": [
    "# [LVV-T2261](https://jira.lsstcorp.org/secure/Tests.jspa#/testCase/LVV-T2261)\n",
    "**Update Me**\n",
    "\n",
<<<<<<< Updated upstream
    "Created by Bruno Quint on 2022.01.10\n",
    "\n",
    "This notebook is to determine the rotator torques at different rotator angles with the camera hexapod at positions covering the full space envelope.\n",
    "This notebook is considered to be used once the refrigitation lines are not pressurezied and each time a paar of lines get pressurized. \n",
    "\n",
    "Use the \"setup\" notebook to enable the components."
=======
    "Created by Bruno Quint, updated by Holger Drass\n",
    "\n",
    "This notebook is to determine the rotator torques at different rotator angles with the camera hexapod at extreme positions of its space envelope.\n",
    "\n",
    "This notebook is considered to be used once the refrigitation lines are not pressurezied and each time a paar of lines get pressurized. \n",
    "\n",
    "Use the \"setup\" notebook to control the state machine of the components.\n",
    "\n",
    "Make 30 degree steps to allow the rotator to arrive to full speed = full torque value \n",
    "\n",
    "The analysis is done in a separate notebook."
>>>>>>> Stashed changes
   ]
  },
  {
   "cell_type": "markdown",
   "id": "842bc2ae-70dd-41db-9c10-5a5c66a4907f",
   "metadata": {},
   "source": [
    "## Start Up"
   ]
  },
  {
   "cell_type": "code",
<<<<<<< Updated upstream
   "execution_count": 1,
=======
   "execution_count": null,
>>>>>>> Stashed changes
   "id": "10a95567-8f3b-4420-b8cc-bf055186a6bf",
   "metadata": {
    "tags": []
   },
   "outputs": [],
   "source": [
    "%load_ext autoreload\n",
    "%autoreload 2"
   ]
  },
  {
   "cell_type": "code",
<<<<<<< Updated upstream
   "execution_count": 2,
=======
   "execution_count": null,
>>>>>>> Stashed changes
   "id": "f8dbe0b2-941f-437d-9eb8-c6e3e481cb1a",
   "metadata": {
    "tags": []
   },
<<<<<<< Updated upstream
   "outputs": [
    {
     "name": "stderr",
     "output_type": "stream",
     "text": [
      "/tmp/ipykernel_19556/1665379685.py:2: DeprecationWarning: Call to deprecated function (or staticmethod) get_node. (Please use lsst.rsp.get_node())\n",
      "  nb.utils.get_node()\n"
     ]
    },
    {
     "data": {
      "text/plain": [
       "'yagan05'"
      ]
     },
     "execution_count": 2,
     "metadata": {},
     "output_type": "execute_result"
    }
   ],
=======
   "outputs": [],
>>>>>>> Stashed changes
   "source": [
    "import rubin_jupyter_utils.lab.notebook as nb\n",
    "nb.utils.get_node()"
   ]
  },
  {
   "cell_type": "code",
<<<<<<< Updated upstream
   "execution_count": 3,
=======
   "execution_count": null,
>>>>>>> Stashed changes
   "id": "3cc711bc-6c9c-4799-9451-ea0f31a5a5d3",
   "metadata": {
    "tags": []
   },
<<<<<<< Updated upstream
   "outputs": [
    {
     "data": {
      "text/html": [
       "<pre style=\"margin: 0.1em;\n",
       "padding-left: 0.25em;\n",
       "border-left-style: solid;\n",
       "font-family: var(--jp-code-font-family);\n",
       "font-size: var(--jp-code-font-size);\n",
       "line-height: var(--jp-code-line-height);\n",
       "\"><span style=\"color: var(--jp-warn-color2)\">lsst.ts.utils.tai</span> <span style=\"color: var(--jp-info-color0)\">INFO</span>: Update leap second table</pre>"
      ],
      "text/plain": [
       "<IPython.core.display.HTML object>"
      ]
     },
     "metadata": {},
     "output_type": "display_data"
    },
    {
     "data": {
      "text/html": [
       "<pre style=\"margin: 0.1em;\n",
       "padding-left: 0.25em;\n",
       "border-left-style: solid;\n",
       "font-family: var(--jp-code-font-family);\n",
       "font-size: var(--jp-code-font-size);\n",
       "line-height: var(--jp-code-line-height);\n",
       "\"><span style=\"color: var(--jp-warn-color2)\">lsst.ts.utils.tai</span> <span style=\"color: var(--jp-info-color0)\">INFO</span>: current_tai uses the system TAI clock</pre>"
      ],
      "text/plain": [
       "<IPython.core.display.HTML object>"
      ]
     },
     "metadata": {},
     "output_type": "display_data"
    }
   ],
=======
   "outputs": [],
>>>>>>> Stashed changes
   "source": [
    "%matplotlib inline\n",
    "import os\n",
    "import sys\n",
    "import asyncio\n",
    "import logging\n",
    "\n",
    "import numpy as np\n",
    "import matplotlib.dates as mdates\n",
    "import matplotlib.pyplot as plt\n",
    "import matplotlib.ticker as mticker\n",
    "\n",
    "import os\n",
    "import pandas as pd\n",
    "\n",
    "from astropy.time import Time\n",
    "from scipy.signal import argrelextrema\n",
    "\n",
    "from lsst.ts import salobj\n",
<<<<<<< Updated upstream
    "from lsst.ts.observatory.control.maintel.mtcs import MTCS"
=======
    "from lsst.ts.observatory.control.maintel.mtcs import MTCS\n",
    "\n",
    "from datetime import datetime, timedelta"
>>>>>>> Stashed changes
   ]
  },
  {
   "cell_type": "code",
<<<<<<< Updated upstream
   "execution_count": 4,
=======
   "execution_count": null,
>>>>>>> Stashed changes
   "id": "88cb4832-fe40-4af7-883d-2a91aa7e10c1",
   "metadata": {
    "tags": []
   },
   "outputs": [],
   "source": [
    "summit = 1 #use this for summit testing\n",
    "# summit = 0 #use this for NCSA"
   ]
  },
  {
   "cell_type": "markdown",
<<<<<<< Updated upstream
   "id": "b90408dd-8f4a-41e0-9517-0e331dad768f",
   "metadata": {
    "tags": []
   },
   "source": [
    "## Helper Functions"
   ]
  },
  {
   "cell_type": "markdown",
   "id": "6cfc8563-a53a-434c-ad79-5a1c0393ee52",
   "metadata": {},
   "source": [
    "### Retrieve EFD Client\n",
    "\n",
    "First of all, the notebook will have different behavior if we run at the Summit or at the NCSA TestSand (NTS) (or other simulated environments). This function simply wraps this difference."
   ]
  },
  {
   "cell_type": "code",
   "execution_count": 5,
   "id": "35778905-dd04-477a-8b34-f59e50bc0977",
   "metadata": {
    "tags": []
   },
   "outputs": [],
   "source": [
    "def retrieve_efd_client(is_at_summit=True):\n",
    "    \"\"\"\n",
    "    Retrieves a client to the Engireering Facility Database. \n",
    "    \n",
    "    Parameters\n",
    "    ----------\n",
    "    is_at_summit : bool, optional\n",
    "        If this notebook runs at the Summit, returns a client that connect to \n",
    "        the Summit EFD. Otherwhice, results the NCSA TestSand (NST) EFD.\n",
    "    \n",
    "    Returns\n",
    "    -------\n",
    "    EfdClient : the interface object between Nublado and the Summit or NST EFD.\n",
    "    \"\"\"\n",
    "    from lsst_efd_client import EfdClient\n",
    "    \n",
    "    c = EfdClient('summit_efd') if is_at_summit \\\n",
    "        else EfdClient('ncsa_teststand_efd') \n",
    "        \n",
    "    return c"
   ]
  },
  {
   "cell_type": "markdown",
   "id": "9491942a-421a-44b8-9611-f887351c0113",
   "metadata": {},
   "source": [
    "### Retrieve Data from EFD\n",
    "\n",
    "Second, we want to analyse the motors torques at different angles. For that, we can either use the Binary Logs generated by the MTRotator EUI or we can get the data directly from the EFD, which is much easier. The following function retrieves the data from the EFD."
   ]
  },
  {
   "cell_type": "code",
   "execution_count": 6,
   "id": "c984e358-7e36-434f-9df2-724c356a36b4",
   "metadata": {
    "tags": []
   },
   "outputs": [],
   "source": [
    "async def retrieve_rotator_angle_and_torques_from_efd(client, start, end):\n",
    "    \"\"\"\n",
    "    Retrieves the Rotator Angle and the Motors torques from the EFD.\n",
    "    \n",
    "    Parameters\n",
    "    ----------\n",
    "    client : EfdClient\n",
    "        Interface that allows querying data from the EFD.\n",
    "    start : datetime string\n",
    "        ISOT Time in UTC associated to the start of the data.\n",
    "    end : datetime string\n",
    "        ISOT Time in UTC associated to the end of the data.\n",
    "        \n",
    "    Returns\n",
    "    -------\n",
    "    _df : DataFrame\n",
    "        Table containing the queried data.\n",
    "    \"\"\"\n",
    "    _df_rotator = await client.select_time_series(\n",
    "        'lsst.sal.MTRotator.rotation', \n",
    "        fields='actualPosition', \n",
    "        start=start, \n",
    "        end=end)\n",
    "\n",
    "    _df_motor1 = await client.select_time_series(\n",
    "        \"lsst.sal.MTRotator.motors\", \n",
    "        fields='torque0', \n",
    "        start=start, \n",
    "        end=end)\n",
    "\n",
    "    _df_motor2 = await client.select_time_series(\n",
    "        \"lsst.sal.MTRotator.motors\", \n",
    "        fields='torque1', \n",
    "        start=start, \n",
    "        end=end)\n",
    "\n",
    "    _df = pd.merge(_df_rotator, _df_motor1, left_index=True, right_index=True)\n",
    "    _df = pd.merge(_df, _df_motor2, left_index=True, right_index=True)\n",
    "    _df = _df.dropna()\n",
    "    \n",
    "    return _df"
   ]
  },
  {
   "cell_type": "markdown",
   "id": "1c0f423a-8892-44d4-a308-cd06a215d7a9",
   "metadata": {},
   "source": [
    "### Plot Rotator Angle And Torques"
   ]
  },
  {
   "cell_type": "code",
   "execution_count": 7,
   "id": "b787f529-d88c-4d36-b0a9-6529cad9f752",
   "metadata": {
    "tags": []
   },
   "outputs": [],
   "source": [
    "def plot_rotator_angle_and_torques(_df, filename=None):\n",
    "    \"\"\"\n",
    "    Every time that we have the Rotator stopped at a given angle, we have that \n",
    "    :math:`\\tau_{M1} + \\tau_{M2} + \\tau_{CM} = 0`. If the center of mass is at \n",
    "    the center of the rotation, :math:`\\tau_{CM} = 0`, meaning that \n",
    "    :math:`\\tau_{M1} = - \\tau_{M2}`. \n",
    "    \n",
    "    This plot should be used to identify if and when :math:`\\tau_{CM} = 0`.\n",
    "    \n",
    "    The left y-axis shows the motor torques in N.m while the right y-axis shows \n",
    "    the rotator angle in degrees. \n",
    "    \n",
    "    Parameters\n",
    "    ----------\n",
    "    _df : DataFrame\n",
    "    filename : str\n",
    "    \"\"\"\n",
    "    _df = _df.copy()\n",
    "    _df[\"torque_sum\"] = _df[\"torque0\"] + _df[\"torque1\"]\n",
    "    \n",
    "    fig, ax = plt.subplots(\n",
    "        figsize=(12,6), \n",
    "        num=f'Torques and Rotator Position Angle - {filename}')\n",
    "\n",
    "    ax.plot(_df.index, \n",
    "            _df['torque0'].rolling(50).mean(), \n",
    "            label='Actual Torque Axis 1')\n",
    "\n",
    "    ax.plot(_df.index, \n",
    "            _df['torque1'].rolling(50).mean(), \n",
    "            label='Actual Torque Axis 2')\n",
    "    \n",
    "    ax.plot(_df.index, \n",
    "            _df['torque_sum'].rolling(50).mean(), \n",
    "            label='Actual Torque Axis 2')\n",
    "    \n",
    "    ax.set_ylabel('Actual Torque Axis [N.m]')\n",
    "    ax.set_ylim(-6e-4, 6e-4)\n",
    "    ax.set_xlabel('Time [UTC]')\n",
    "    ax.grid(lw=0.5, alpha=0.2)\n",
    "    ax.ticklabel_format(axis=\"y\", style=\"sci\")\n",
    "    ax.fmt_xdata = mdates.DateFormatter(\"%H:%M:S\")\n",
    "\n",
    "    ax2 = ax.twinx()\n",
    "    ax2.plot(_df.index, _df[\"torque1\"] * 0, 'k', alpha=0.1)\n",
    "    ax2.fill_between(\n",
    "        _df.index, 0, _df[\"actualPosition\"], alpha=0.1, \n",
    "        fc='k', label='Rotator Position Angle')\n",
    "    ax2.fmt_xdata = mdates.DateFormatter(\"%H:%M:S\")\n",
    "\n",
    "    ax2.set_ylabel('Rotator Position Angle [deg]')\n",
    "\n",
    "    fig.autofmt_xdate()\n",
    "    fig.legend(loc='lower center', ncol=4, )\n",
    "    fig.suptitle(f\"Torques and Rotator Position Angle\\n\"\n",
    "                 f\"{_df.index[0].strftime('%Y-%m-%d %H:%M:%S')}\")\n",
    "    \n",
    "    if filename:\n",
    "        os.makedirs('plots', exist_ok=True)\n",
    "        fig.savefig(os.path.join('plots', filename), facecolor='white', dpi=150)\n",
    "        print(f\"Plot file saved to plots/{filename}\")\n",
    "        \n",
    "    plt.show()"
   ]
  },
  {
   "cell_type": "markdown",
   "id": "de297cd1-8eff-45c8-8e3f-65525baa1c74",
   "metadata": {},
   "source": [
    "### Plot Torques Vs Rotator Angle\n",
    "\n",
    "Some people prefer this kind of data visualization. So let's leave it here to complement the data analyzis."
   ]
  },
  {
   "cell_type": "code",
   "execution_count": 8,
   "id": "a35d0942-9322-48c6-bfda-16d0bbd94298",
   "metadata": {
    "tags": []
   },
   "outputs": [],
   "source": [
    "def plot_torque_vs_rotator_angle(_df, filename):\n",
    "    \"\"\"\n",
    "    Plots the motor torques vs the rotation angle, showing a cyclic plot.\n",
    "    \n",
    "    Parameters\n",
    "    ----------\n",
    "    _df : DataFrame\n",
    "    filename : str\n",
    "    \"\"\"\n",
    "    fig, ax = plt.subplots(\n",
    "        figsize=(12,12),\n",
    "        num=f\"Torque Vs Rotator Angle - {filename}\",)\n",
    "        \n",
    "    _df = _df.copy()\n",
    "    _df[\"torque_sum\"] = _df[\"torque0\"] + _df[\"torque1\"]\n",
    "    \n",
    "    ax.plot(_df[\"actualPosition\"], _df[\"torque0\"], \n",
    "            label=\"Motor 1\")\n",
    "    ax.plot(_df[\"actualPosition\"], _df[\"torque1\"], \n",
    "            label=\"Motor 2\")\n",
    "    ax.plot(_df[\"actualPosition\"], _df[\"torque_sum\"], \n",
    "            label=\"Sum\")\n",
    "    \n",
    "    ax.set_xlabel('Rotator Angle [deg]')\n",
    "    ax.set_ylabel('Total Torque [N.m]')\n",
    "    ax.grid(lw=0.5, alpha=0.2)\n",
    "    \n",
    "    fig.legend(loc='lower center', ncol=3, )\n",
    "    fig.suptitle(f\"Torques Vs Rotator Position Angle\\n\"\n",
    "                 f\"{_df.index[0].strftime('%Y-%m-%d %H:%M:%S')}\")\n",
    "    \n",
    "    if filename:\n",
    "        os.makedirs('plots', exist_ok=True)\n",
    "        fig.savefig(os.path.join('plots', filename), facecolor='white', dpi=150)\n",
    "        print(f\"Plot file saved to plots/{filename}\")\n",
    "        \n",
    "    plt.show()"
   ]
  },
  {
   "cell_type": "markdown",
   "id": "75af1c1f-2a83-47fe-be1d-660a54e517b4",
   "metadata": {},
   "source": [
    "### Print Average Torques at given Angle"
   ]
  },
  {
   "cell_type": "code",
   "execution_count": 9,
   "id": "e7a84f06-73ee-4781-80f6-866efe6f71d0",
   "metadata": {
    "tags": []
   },
   "outputs": [],
   "source": [
    "def get_average_torques_at_angle(_df, angle):\n",
    "    \"\"\" \n",
    "    Prints out the average torques at a given rotation angle.\n",
    "    \"\"\"\n",
    "    sub_df = _df[_df['actualPosition'].round(1) == angle]\n",
    "    \n",
    "    avg_torque_motor1 = sub_df['torque0'].mean()\n",
    "    std_torque_motor1 = sub_df['torque0'].std()\n",
    "    \n",
    "    avg_torque_motor2 = sub_df['torque1'].mean()\n",
    "    std_torque_motor2 = sub_df['torque1'].std()\n",
    "    \n",
    "    avg_total = avg_torque_motor1 + avg_torque_motor2\n",
    "    std_total = std_torque_motor1 + std_torque_motor2\n",
    "    sin = np.sin(np.deg2rad(angle))\n",
    "    \n",
    "    print(\n",
    "        f\"Average Torques at {angle} deg\\n\"\n",
    "        f\"Motor 1 = {avg_torque_motor1:.3e} N.m +/- {std_torque_motor1:.3e} N.m\\n\"\n",
    "        f\"Motor 2 = {avg_torque_motor2:.3e} N.m +/- {std_torque_motor2:.3e} N.m\\n\"\n",
    "        f\"Total Torque: {avg_total:.3e} N.m +/- {std_total:.3e} N.m\\n\")\n",
    "\n",
    "#         f\"Total Torque divided by sin(theta): {avg_total / sin:.3f} N.m\"\n",
    "#         f\" +/- {std_total / sin:.3f} N.m\\n\")\n",
    "    "
   ]
  },
  {
   "cell_type": "markdown",
=======
>>>>>>> Stashed changes
   "id": "9f16d905-71fd-4d11-a620-f1924db2436e",
   "metadata": {},
   "source": [
    "## Check environment setup\n",
    "\n",
    "The following cell will print some of the basic DDS configutions."
   ]
  },
  {
   "cell_type": "code",
<<<<<<< Updated upstream
   "execution_count": 10,
=======
   "execution_count": null,
>>>>>>> Stashed changes
   "id": "a14fa4b8-ca9a-40e9-b0c0-49fdaab801ee",
   "metadata": {
    "tags": []
   },
<<<<<<< Updated upstream
   "outputs": [
    {
     "name": "stdout",
     "output_type": "stream",
     "text": [
      "file:///home/hdrass/WORK/ts_ddsconfig/config/ospl-shmem.xml\n",
      "summit\n",
      "0\n"
     ]
    }
   ],
=======
   "outputs": [],
>>>>>>> Stashed changes
   "source": [
    "print(os.environ[\"OSPL_URI\"])\n",
    "print(os.environ[\"LSST_DDS_PARTITION_PREFIX\"])\n",
    "print(os.environ.get(\"LSST_DDS_DOMAIN_ID\", \"Expected, not set.\"))"
   ]
  },
  {
   "cell_type": "markdown",
   "id": "dac439b2-55b3-41e7-9dd3-cd8dc0019f64",
   "metadata": {},
   "source": [
    "### Setup logging\n",
    "\n",
    "Setup logging in debug mode and create a logger to use on the notebook."
   ]
  },
  {
   "cell_type": "code",
<<<<<<< Updated upstream
   "execution_count": 11,
=======
   "execution_count": null,
>>>>>>> Stashed changes
   "id": "a9038212-14d8-434a-9e65-7392de70059c",
   "metadata": {
    "tags": []
   },
   "outputs": [],
   "source": [
    "logging.basicConfig(format=\"%(name)s:%(message)s\", level=logging.DEBUG)"
   ]
  },
  {
   "cell_type": "code",
<<<<<<< Updated upstream
   "execution_count": 12,
=======
   "execution_count": null,
>>>>>>> Stashed changes
   "id": "0e2cacec-1f33-4edc-bf70-79d605067af5",
   "metadata": {
    "tags": []
   },
   "outputs": [],
   "source": [
    "log = logging.getLogger(\"setup\")\n",
    "log.level = logging.DEBUG"
   ]
  },
  {
   "cell_type": "markdown",
   "id": "f27a28f5-5289-4ca0-8479-5d02ca7873ff",
   "metadata": {},
   "source": [
    "### Starting communication resources\n",
    "\n",
    "We start by creating a domain and later instantiate the MTCS class.\n",
    "We will use the class to startup the components. "
   ]
  },
  {
   "cell_type": "code",
<<<<<<< Updated upstream
   "execution_count": 13,
=======
   "execution_count": null,
>>>>>>> Stashed changes
   "id": "4642a751-526f-4e09-aef5-0a330430c42a",
   "metadata": {
    "tags": []
   },
   "outputs": [],
   "source": [
    "domain = salobj.Domain()"
   ]
  },
  {
   "cell_type": "code",
<<<<<<< Updated upstream
   "execution_count": 14,
=======
   "execution_count": null,
>>>>>>> Stashed changes
   "id": "a95949f1-3841-4cb0-96f8-4e3a5552db0e",
   "metadata": {
    "tags": []
   },
<<<<<<< Updated upstream
   "outputs": [
    {
     "data": {
      "text/html": [
       "<pre style=\"margin: 0.1em;\n",
       "padding-left: 0.25em;\n",
       "border-left-style: solid;\n",
       "font-family: var(--jp-code-font-family);\n",
       "font-size: var(--jp-code-font-size);\n",
       "line-height: var(--jp-code-line-height);\n",
       "\"><span style=\"color: var(--jp-warn-color2)\">setup.MTCS</span> <span style=\"color: var(--jp-success-color0)\">DEBUG</span>: mtmount: Adding all resources.</pre>"
      ],
      "text/plain": [
       "<IPython.core.display.HTML object>"
      ]
     },
     "metadata": {},
     "output_type": "display_data"
    },
    {
     "data": {
      "text/html": [
       "<pre style=\"margin: 0.1em;\n",
       "padding-left: 0.25em;\n",
       "border-left-style: solid;\n",
       "font-family: var(--jp-code-font-family);\n",
       "font-size: var(--jp-code-font-size);\n",
       "line-height: var(--jp-code-line-height);\n",
       "\"><span style=\"color: var(--jp-warn-color2)\">setup.MTCS</span> <span style=\"color: var(--jp-success-color0)\">DEBUG</span>: mtptg: Adding all resources.</pre>"
      ],
      "text/plain": [
       "<IPython.core.display.HTML object>"
      ]
     },
     "metadata": {},
     "output_type": "display_data"
    },
    {
     "data": {
      "text/html": [
       "<pre style=\"margin: 0.1em;\n",
       "padding-left: 0.25em;\n",
       "border-left-style: solid;\n",
       "font-family: var(--jp-code-font-family);\n",
       "font-size: var(--jp-code-font-size);\n",
       "line-height: var(--jp-code-line-height);\n",
       "\"><span style=\"color: var(--jp-warn-color2)\">setup.MTCS</span> <span style=\"color: var(--jp-success-color0)\">DEBUG</span>: mtaos: Adding all resources.</pre>"
      ],
      "text/plain": [
       "<IPython.core.display.HTML object>"
      ]
     },
     "metadata": {},
     "output_type": "display_data"
    },
    {
     "data": {
      "text/html": [
       "<pre style=\"margin: 0.1em;\n",
       "padding-left: 0.25em;\n",
       "border-left-style: solid;\n",
       "font-family: var(--jp-code-font-family);\n",
       "font-size: var(--jp-code-font-size);\n",
       "line-height: var(--jp-code-line-height);\n",
       "\"><span style=\"color: var(--jp-warn-color2)\">setup.MTCS</span> <span style=\"color: var(--jp-success-color0)\">DEBUG</span>: mtm1m3: Adding all resources.</pre>"
      ],
      "text/plain": [
       "<IPython.core.display.HTML object>"
      ]
     },
     "metadata": {},
     "output_type": "display_data"
    },
    {
     "data": {
      "text/html": [
       "<pre style=\"margin: 0.1em;\n",
       "padding-left: 0.25em;\n",
       "border-left-style: solid;\n",
       "font-family: var(--jp-code-font-family);\n",
       "font-size: var(--jp-code-font-size);\n",
       "line-height: var(--jp-code-line-height);\n",
       "\"><span style=\"color: var(--jp-warn-color2)\">setup.MTCS</span> <span style=\"color: var(--jp-success-color0)\">DEBUG</span>: mtm2: Adding all resources.</pre>"
      ],
      "text/plain": [
       "<IPython.core.display.HTML object>"
      ]
     },
     "metadata": {},
     "output_type": "display_data"
    },
    {
     "data": {
      "text/html": [
       "<pre style=\"margin: 0.1em;\n",
       "padding-left: 0.25em;\n",
       "border-left-style: solid;\n",
       "font-family: var(--jp-code-font-family);\n",
       "font-size: var(--jp-code-font-size);\n",
       "line-height: var(--jp-code-line-height);\n",
       "\"><span style=\"color: var(--jp-warn-color2)\">setup.MTCS</span> <span style=\"color: var(--jp-success-color0)\">DEBUG</span>: mthexapod_1: Adding all resources.</pre>"
      ],
      "text/plain": [
       "<IPython.core.display.HTML object>"
      ]
     },
     "metadata": {},
     "output_type": "display_data"
    },
    {
     "data": {
      "text/html": [
       "<pre style=\"margin: 0.1em;\n",
       "padding-left: 0.25em;\n",
       "border-left-style: solid;\n",
       "font-family: var(--jp-code-font-family);\n",
       "font-size: var(--jp-code-font-size);\n",
       "line-height: var(--jp-code-line-height);\n",
       "\"><span style=\"color: var(--jp-warn-color2)\">setup.MTCS</span> <span style=\"color: var(--jp-success-color0)\">DEBUG</span>: mthexapod_2: Adding all resources.</pre>"
      ],
      "text/plain": [
       "<IPython.core.display.HTML object>"
      ]
     },
     "metadata": {},
     "output_type": "display_data"
    },
    {
     "data": {
      "text/html": [
       "<pre style=\"margin: 0.1em;\n",
       "padding-left: 0.25em;\n",
       "border-left-style: solid;\n",
       "font-family: var(--jp-code-font-family);\n",
       "font-size: var(--jp-code-font-size);\n",
       "line-height: var(--jp-code-line-height);\n",
       "\"><span style=\"color: var(--jp-warn-color2)\">setup.MTCS</span> <span style=\"color: var(--jp-success-color0)\">DEBUG</span>: mtrotator: Adding all resources.</pre>"
      ],
      "text/plain": [
       "<IPython.core.display.HTML object>"
      ]
     },
     "metadata": {},
     "output_type": "display_data"
    },
    {
     "data": {
      "text/html": [
       "<pre style=\"margin: 0.1em;\n",
       "padding-left: 0.25em;\n",
       "border-left-style: solid;\n",
       "font-family: var(--jp-code-font-family);\n",
       "font-size: var(--jp-code-font-size);\n",
       "line-height: var(--jp-code-line-height);\n",
       "\"><span style=\"color: var(--jp-warn-color2)\">setup.MTCS</span> <span style=\"color: var(--jp-success-color0)\">DEBUG</span>: mtdome: Adding all resources.</pre>"
      ],
      "text/plain": [
       "<IPython.core.display.HTML object>"
      ]
     },
     "metadata": {},
     "output_type": "display_data"
    },
    {
     "data": {
      "text/html": [
       "<pre style=\"margin: 0.1em;\n",
       "padding-left: 0.25em;\n",
       "border-left-style: solid;\n",
       "font-family: var(--jp-code-font-family);\n",
       "font-size: var(--jp-code-font-size);\n",
       "line-height: var(--jp-code-line-height);\n",
       "\"><span style=\"color: var(--jp-warn-color2)\">setup.MTCS</span> <span style=\"color: var(--jp-success-color0)\">DEBUG</span>: mtdometrajectory: Adding all resources.</pre>"
      ],
      "text/plain": [
       "<IPython.core.display.HTML object>"
      ]
     },
     "metadata": {},
     "output_type": "display_data"
    }
   ],
=======
   "outputs": [],
>>>>>>> Stashed changes
   "source": [
    "mtcs = MTCS(domain=domain, log=log)\n",
    "mtcs.set_rem_loglevel(40)"
   ]
  },
  {
   "cell_type": "code",
<<<<<<< Updated upstream
   "execution_count": 15,
=======
   "execution_count": null,
>>>>>>> Stashed changes
   "id": "10784d8d-823e-42a7-b5c1-5d8a77f0e622",
   "metadata": {
    "tags": []
   },
<<<<<<< Updated upstream
   "outputs": [
    {
     "data": {
      "text/html": [
       "<pre style=\"margin: 0.1em;\n",
       "padding-left: 0.25em;\n",
       "border-left-style: solid;\n",
       "font-family: var(--jp-code-font-family);\n",
       "font-size: var(--jp-code-font-size);\n",
       "line-height: var(--jp-code-line-height);\n",
       "\"><span style=\"color: var(--jp-warn-color2)\">MTHexapod</span> <span style=\"color: var(--jp-info-color0)\">INFO</span>: Read historical data in 0.02 sec</pre>"
      ],
      "text/plain": [
       "<IPython.core.display.HTML object>"
      ]
     },
     "metadata": {},
     "output_type": "display_data"
    },
    {
     "data": {
      "text/html": [
       "<pre style=\"margin: 0.1em;\n",
       "padding-left: 0.25em;\n",
       "border-left-style: solid;\n",
       "font-family: var(--jp-code-font-family);\n",
       "font-size: var(--jp-code-font-size);\n",
       "line-height: var(--jp-code-line-height);\n",
       "\"><span style=\"color: var(--jp-warn-color2)\">MTHexapod</span> <span style=\"color: var(--jp-info-color0)\">INFO</span>: Read historical data in 0.03 sec</pre>"
      ],
      "text/plain": [
       "<IPython.core.display.HTML object>"
      ]
     },
     "metadata": {},
     "output_type": "display_data"
    },
    {
     "data": {
      "text/plain": [
       "[None, None, None, None, None, None, None, None, None, None]"
      ]
     },
     "execution_count": 15,
     "metadata": {},
     "output_type": "execute_result"
    }
   ],
   "source": [
    "await mtcs.start_task"
   ]
  },
  {
   "cell_type": "markdown",
   "id": "ed69993d-416a-4cb5-a237-d00d530d5314",
   "metadata": {},
   "source": [
    "## Getting Rotator Motors Torques with Hexapod Aligned"
   ]
  },
  {
   "cell_type": "code",
   "execution_count": 16,
   "id": "92fc2e9b-8b05-456c-9098-c4ef714df1eb",
   "metadata": {
    "tags": []
   },
   "outputs": [],
   "source": [
    "from datetime import datetime, timedelta"
=======
   "outputs": [],
   "source": [
    "await mtcs.start_task"
>>>>>>> Stashed changes
   ]
  },
  {
   "cell_type": "code",
<<<<<<< Updated upstream
   "execution_count": 17,
=======
   "execution_count": null,
>>>>>>> Stashed changes
   "id": "23131f82-65ac-4272-91c6-066c9f28bccd",
   "metadata": {
    "tags": []
   },
<<<<<<< Updated upstream
   "outputs": [
    {
     "data": {
      "text/html": [
       "<pre style=\"margin: 0.1em;\n",
       "padding-left: 0.25em;\n",
       "border-left-style: solid;\n",
       "font-family: var(--jp-code-font-family);\n",
       "font-size: var(--jp-code-font-size);\n",
       "line-height: var(--jp-code-line-height);\n",
       "\"><span style=\"color: var(--jp-warn-color2)\">Script</span> <span style=\"color: var(--jp-info-color0)\">INFO</span>: Read historical data in 0.00 sec</pre>"
      ],
      "text/plain": [
       "<IPython.core.display.HTML object>"
      ]
     },
     "metadata": {},
     "output_type": "display_data"
    },
    {
     "name": "stdout",
     "output_type": "stream",
     "text": [
      "time to start is 0:00:10.058897 [s]\n"
     ]
    }
   ],
   "source": [
    "start_time = datetime.now()\n",
    "test_message = \"LVV-2261: Hexapod at 0 - Pathfinder Lines Not Pressurized\"\n",
    "script = salobj.Controller(\"Script\", index=42658886)\n",
    "await asyncio.sleep(10) #wait 10 second may help with DDS problems; closing all other kernels may help too\n",
    "print(f'time to start is {datetime.now() - start_time} [s]')"
=======
   "outputs": [],
   "source": [
    "script = salobj.Controller(\"Script\", index=42658886)\n",
    "await asyncio.sleep(10) #wait 10 second may help with DDS problems; closing all other kernels may help too"
>>>>>>> Stashed changes
   ]
  },
  {
   "cell_type": "code",
<<<<<<< Updated upstream
   "execution_count": 18,
=======
   "execution_count": null,
>>>>>>> Stashed changes
   "id": "44d30b4f-0787-440d-a0ba-f86588c4432b",
   "metadata": {
    "tags": []
   },
   "outputs": [],
   "source": [
    "await script.start_task"
   ]
  },
  {
<<<<<<< Updated upstream
   "cell_type": "code",
   "execution_count": 24,
   "id": "fafaf9d0-e15e-4f50-abdd-0ae799c763ec",
   "metadata": {
    "tags": []
   },
   "outputs": [
    {
     "data": {
      "text/plain": [
       "<ddsutil.MTRotator_ackcmd_f04f56ad at 0x7f5a35b55490>"
      ]
     },
     "execution_count": 24,
     "metadata": {},
     "output_type": "execute_result"
    }
   ],
   "source": [
    "await mtcs.rem.mtrotator.cmd_move.set_start(position=0, timeout=10.)"
   ]
  },
  {
   "cell_type": "code",
   "execution_count": 144,
   "id": "7a3192d0-cadb-4ad4-a250-5521caf461d6",
   "metadata": {
    "tags": []
   },
   "outputs": [
    {
     "data": {
      "text/html": [
       "<pre style=\"margin: 0.1em;\n",
       "padding-left: 0.25em;\n",
       "border-left-style: solid;\n",
       "font-family: var(--jp-code-font-family);\n",
       "font-size: var(--jp-code-font-size);\n",
       "line-height: var(--jp-code-line-height);\n",
       "\"><span style=\"color: var(--jp-warn-color2)\">Script</span> <span style=\"color: var(--jp-info-color0)\">INFO</span>: START -- LVV-2261: Hexapod X=0, Y=10000, Z=-10000, U=0, V=0, W=0  - Pathfinder Lines Not Pressurized -- Starting Time: 2022-03-10 18:37:39.616027 UTC</pre>"
      ],
      "text/plain": [
       "<IPython.core.display.HTML object>"
      ]
     },
     "metadata": {},
     "output_type": "display_data"
    },
    {
     "data": {
      "text/plain": [
       "<ddsutil.MTHexapod_ackcmd_c4d6958b at 0x7fba93736460>"
      ]
     },
     "execution_count": 144,
     "metadata": {},
     "output_type": "execute_result"
    }
   ],
   "source": [
    "now = datetime.now()\n",
    "script.log.info(f\"START -- {test_message} -- Starting Time: {now} UTC\")\n",
    "await mtcs.rem.mthexapod_1.cmd_move.set_start(x=0, y=0, z=0, u=0, v=0, w=0, sync=True)"
=======
   "cell_type": "markdown",
   "id": "ed69993d-416a-4cb5-a237-d00d530d5314",
   "metadata": {},
   "source": [
    "# Test start"
   ]
  },
  {
   "cell_type": "markdown",
   "id": "70b17262-12f1-42a8-9097-f86289cfd9ef",
   "metadata": {},
   "source": [
    "## Iteration 1: Move the hexapod to (X=0, Y=0, Z=0, U=0, V=0, W=0)"
>>>>>>> Stashed changes
   ]
  },
  {
   "cell_type": "code",
<<<<<<< Updated upstream
   "execution_count": 258,
   "id": "308fdd21-1b8e-4944-becd-c68405655caa",
   "metadata": {
    "execution": {
     "iopub.execute_input": "2022-03-01T23:23:35.305640Z",
     "iopub.status.busy": "2022-03-01T23:23:35.305367Z",
     "iopub.status.idle": "2022-03-01T23:23:36.036715Z",
     "shell.execute_reply": "2022-03-01T23:23:36.036296Z",
     "shell.execute_reply.started": "2022-03-01T23:23:35.305622Z"
    },
    "tags": []
   },
   "outputs": [
    {
     "data": {
      "text/plain": [
       "<ddsutil.MTHexapod_ackcmd_c4d6958b at 0x7fec30b604c0>"
      ]
     },
     "execution_count": 258,
     "metadata": {},
     "output_type": "execute_result"
    }
   ],
   "source": [
    "await mtcs.rem.mthexapod_1.cmd_move.set_start(x=0, y=0, z=0, u=0, v=0, w=0, sync=True)"
=======
   "execution_count": null,
   "id": "7a3192d0-cadb-4ad4-a250-5521caf461d6",
   "metadata": {
    "tags": []
   },
   "outputs": [],
   "source": [
    "now = datetime.now()\n",
    "test_message = \"LVV-2261: Hexapod at 0 - Pathfinder Lines Not Pressurized\"\n",
    "script.log.info(f\"START -- {test_message} -- Starting Time: {now} UTC\")\n",
    "await mtcs.rem.mthexapod_1.cmd_move.set_start(x=0, y=0, z=0, u=0, v=0, w=0, sync=True)\n",
    "print(f\" Done.\")"
>>>>>>> Stashed changes
   ]
  },
  {
   "cell_type": "code",
<<<<<<< Updated upstream
   "execution_count": 21,
=======
   "execution_count": null,
>>>>>>> Stashed changes
   "id": "3ecbdc27-4d1e-4ab4-a063-136f8a1a71ee",
   "metadata": {
    "tags": []
   },
<<<<<<< Updated upstream
   "outputs": [
    {
     "name": "stdout",
     "output_type": "stream",
     "text": [
      " 2022-03-15 17:48:26.918854 - Moving to 10\n",
      " Done.\n",
      " 2022-03-15 17:48:37.014078 - Moving to 20\n",
      " Done.\n"
     ]
    }
   ],
   "source": [
    "for p in [10, 20]:\n",
    "    print(f\" {datetime.now()} - Moving to {p}\")\n",
    "    await mtcs.rem.mtrotator.cmd_move.set_start(position=p, timeout=5.)\n",
    "    await asyncio.sleep(10.)\n",
=======
   "outputs": [],
   "source": [
    "for p in [0, 30, 60, 89.5, 60, 30, 0, -30, -60, -89.5, -60, 0]:\n",
    "    print(f\" {datetime.now()} - Moving to {p}\")\n",
    "    await mtcs.rem.mtrotator.cmd_move.set_start(position=p, timeout=5.)\n",
    "    await asyncio.sleep(20.)\n",
>>>>>>> Stashed changes
    "    print(f\" Done.\")"
   ]
  },
  {
   "cell_type": "code",
<<<<<<< Updated upstream
   "execution_count": 22,
   "id": "07d95251-b763-40b6-8de3-a6f0721a41a8",
   "metadata": {
    "tags": []
   },
   "outputs": [
    {
     "name": "stdout",
     "output_type": "stream",
     "text": [
      " 2022-03-15 17:48:52.980727 - Moving to 10 deg\n",
      "  Done.\n",
      " 2022-03-15 17:49:03.118622 - Moving to 0 deg\n",
      "  Done.\n"
     ]
    }
   ],
   "source": [
    "for p in [10, 0]:\n",
    "    print(f\" {datetime.now()} - Moving to {p} deg\")\n",
    "    await mtcs.rem.mtrotator.cmd_move.set_start(position=p, timeout=5)\n",
    "    await asyncio.sleep(10.)\n",
    "    print(f\"  Done.\")"
   ]
  },
  {
   "cell_type": "code",
   "execution_count": 21,
   "id": "e2c1f7a0-3c62-426e-9486-6934ac1e1431",
   "metadata": {
    "tags": []
   },
   "outputs": [
    {
     "name": "stdout",
     "output_type": "stream",
     "text": [
      " 2022-03-15 17:40:42.818236 - Moving to -10 deg\n",
      "  Done.\n",
      " 2022-03-15 17:40:52.921277 - Moving to -20 deg\n",
      "  Done.\n",
      " 2022-03-15 17:41:03.022699 - Moving to -30 deg\n",
      "  Done.\n",
      " 2022-03-15 17:41:13.124249 - Moving to -40 deg\n",
      "  Done.\n",
      " 2022-03-15 17:41:23.228419 - Moving to -50 deg\n",
      "  Done.\n",
      " 2022-03-15 17:41:33.328867 - Moving to -60 deg\n",
      "  Done.\n",
      " 2022-03-15 17:41:43.431446 - Moving to -70 deg\n",
      "  Done.\n",
      " 2022-03-15 17:41:53.533916 - Moving to -80 deg\n",
      "  Done.\n",
      " 2022-03-15 17:42:03.637494 - Moving to -89.5 deg\n",
      "  Done.\n"
     ]
    }
   ],
   "source": [
    "for p in [-10, -20, -30, -40, -50, -60, -70, -80, -90.]:\n",
    "    print(f\" {datetime.now()} - Moving to {p} deg\")\n",
    "    await mtcs.rem.mtrotator.cmd_move.set_start(position=p, timeout=5)\n",
    "    await asyncio.sleep(10.)\n",
    "    print(f\"  Done.\")"
=======
   "execution_count": null,
   "id": "c61b4550-afe9-45ce-8974-342bfc46416b",
   "metadata": {},
   "outputs": [],
   "source": [
    "now = datetime.now()\n",
    "script.log.info(f\"END -- {test_message} -- End Time: {now} UTC\")"
   ]
  },
  {
   "cell_type": "markdown",
   "id": "15b74e61-bad1-4557-be28-bc36bed17e25",
   "metadata": {},
   "source": [
    "## Iteration 2: Move the hexapod to (X=0, Y=0, Z=0, U=-0.36 deg, V=0, W=0)"
>>>>>>> Stashed changes
   ]
  },
  {
   "cell_type": "code",
<<<<<<< Updated upstream
   "execution_count": 22,
   "id": "4a4588d3-3688-42df-9307-cad05e8f9c28",
   "metadata": {
    "tags": []
   },
   "outputs": [
    {
     "name": "stdout",
     "output_type": "stream",
     "text": [
      " 2022-03-15 17:42:25.304120 - Moving to -80 deg\n",
      "  Done.\n",
      " 2022-03-15 17:42:35.443660 - Moving to -70 deg\n",
      "  Done.\n",
      " 2022-03-15 17:42:45.546551 - Moving to -60 deg\n",
      "  Done.\n",
      " 2022-03-15 17:42:55.649146 - Moving to -50 deg\n",
      "  Done.\n",
      " 2022-03-15 17:43:05.751493 - Moving to -40 deg\n",
      "  Done.\n",
      " 2022-03-15 17:43:15.853271 - Moving to -30 deg\n",
      "  Done.\n",
      " 2022-03-15 17:43:25.956621 - Moving to -20 deg\n",
      "  Done.\n",
      " 2022-03-15 17:43:36.058239 - Moving to -10 deg\n",
      "  Done.\n",
      " 2022-03-15 17:43:46.160255 - Moving to 0 deg\n",
      "  Done.\n"
     ]
    }
   ],
   "source": [
    "for p in [-80, -70, -60, -50, -40, -30, -20, -10, -0]:\n",
    "    print(f\" {datetime.now()} - Moving to {p} deg\")\n",
    "    await mtcs.rem.mtrotator.cmd_move.set_start(position=p, timeout=5)\n",
    "    \n",
    "    await asyncio.sleep(10.)\n",
    "    print(f\"  Done.\")"
=======
   "execution_count": null,
   "id": "98969a84-56d4-4308-858d-a0f2f72eff20",
   "metadata": {
    "tags": []
   },
   "outputs": [],
   "source": [
    "test_message = \"LVV-2261: Hexapod u=-0.36deg - Pathfinder Lines Not Pressurized\"\n",
    "\n",
    "now = datetime.now()\n",
    "script.log.info(f\"START -- {test_message} -- Starting Time: {now} UTC\")\n",
    "#Moving the hexapod in smaller steps here at the beginning of the test to make sure no cooling line gets damaged.\n",
    "for _u in [-0.08, -0.16, -0.32, -0.36]:\n",
    "    print(f\" {datetime.now()} - Moving Hexapod to u={_u}\")\n",
    "    await mtcs.rem.mthexapod_1.cmd_move.set_start(x=0, y=0, z=0, u=_u, v=0, w=0, sync=True)\n",
    "    await asyncio.sleep(15.)  # Just so if we need to press the e-stops\n",
    "    print(f\" Done.\")"
>>>>>>> Stashed changes
   ]
  },
  {
   "cell_type": "code",
<<<<<<< Updated upstream
   "execution_count": 38,
   "id": "c61b4550-afe9-45ce-8974-342bfc46416b",
   "metadata": {
    "execution": {
     "iopub.execute_input": "2022-03-01T16:34:00.896857Z",
     "iopub.status.busy": "2022-03-01T16:34:00.896677Z",
     "iopub.status.idle": "2022-03-01T16:34:00.939429Z",
     "shell.execute_reply": "2022-03-01T16:34:00.939005Z",
     "shell.execute_reply.started": "2022-03-01T16:34:00.896839Z"
    }
   },
   "outputs": [
    {
     "data": {
      "text/html": [
       "<pre style=\"margin: 0.1em;\n",
       "padding-left: 0.25em;\n",
       "border-left-style: solid;\n",
       "font-family: var(--jp-code-font-family);\n",
       "font-size: var(--jp-code-font-size);\n",
       "line-height: var(--jp-code-line-height);\n",
       "\"><span style=\"color: var(--jp-warn-color2)\">Script</span> <span style=\"color: var(--jp-info-color0)\">INFO</span>: END -- LVV-2261: Hexapod at 0 - Pathfinder Lines Not Pressurized -- End Time: 2022-03-01 16:34:00.933397 UTC</pre>"
      ],
      "text/plain": [
       "<IPython.core.display.HTML object>"
      ]
     },
     "metadata": {},
     "output_type": "display_data"
    }
   ],
   "source": [
    "now = datetime.now()\n",
    "script.log.info(f\"END -- {test_message} -- End Time: {now} UTC\")"
=======
   "execution_count": null,
   "id": "1354740a-4b2a-499a-8809-d0d2064f1bd3",
   "metadata": {
    "tags": []
   },
   "outputs": [],
   "source": [
    "for p in [30, 60, 89.5, 60, 30, 0, -30, -60, -89.5, -60, 0]:\n",
    "    print(f\" {datetime.now()} - Moving to {p}\")\n",
    "    await mtcs.rem.mtrotator.cmd_move.set_start(position=p, timeout=5.)\n",
    "    await asyncio.sleep(20.)\n",
    "    print(f\" Done.\")"
>>>>>>> Stashed changes
   ]
  },
  {
   "cell_type": "code",
   "execution_count": null,
<<<<<<< Updated upstream
   "id": "0dffb84d-f143-4dbd-8abb-33a585d3b867",
   "metadata": {},
   "outputs": [],
   "source": []
  },
  {
   "cell_type": "code",
   "execution_count": 52,
   "id": "7382b70e-7c29-430a-8bd7-6404084e2e99",
   "metadata": {
    "execution": {
     "iopub.execute_input": "2022-03-01T17:19:30.741232Z",
     "iopub.status.busy": "2022-03-01T17:19:30.740806Z",
     "iopub.status.idle": "2022-03-01T17:19:30.885764Z",
     "shell.execute_reply": "2022-03-01T17:19:30.885370Z",
     "shell.execute_reply.started": "2022-03-01T17:19:30.741215Z"
    },
    "tags": []
   },
   "outputs": [
    {
     "data": {
      "text/plain": [
       "<ddsutil.MTRotator_ackcmd_f04f56ad at 0x7feeb7711910>"
      ]
     },
     "execution_count": 52,
     "metadata": {},
     "output_type": "execute_result"
    }
   ],
   "source": [
    "await mtcs.rem.mtrotator.cmd_move.set_start(position=0, timeout=10.) "
   ]
  },
  {
   "cell_type": "code",
   "execution_count": 51,
   "id": "dd4a867d-29f4-49fb-bd45-9ec1de6318be",
   "metadata": {
    "execution": {
     "iopub.execute_input": "2022-03-01T17:19:22.121834Z",
     "iopub.status.busy": "2022-03-01T17:19:22.119994Z",
     "iopub.status.idle": "2022-03-01T17:19:22.234130Z",
     "shell.execute_reply": "2022-03-01T17:19:22.233736Z",
     "shell.execute_reply.started": "2022-03-01T17:19:22.121813Z"
    },
    "tags": []
   },
   "outputs": [
    {
     "data": {
      "text/plain": [
       "<ddsutil.MTRotator_ackcmd_f04f56ad at 0x7feeb75a4550>"
      ]
     },
     "execution_count": 51,
     "metadata": {},
     "output_type": "execute_result"
    }
   ],
   "source": [
    "# CCW has memory issues - make sure it is following\n",
    "await mtcs.rem.mtrotator.cmd_move.set_start(position=2, timeout=10.)"
=======
   "id": "bba24a9f-20e5-44b5-8864-4b90bf949250",
   "metadata": {
    "tags": []
   },
   "outputs": [],
   "source": [
    "now = datetime.now()\n",
    "script.log.info(f\"END -- {test_message} -- End Time: {now} UTC\")"
   ]
  },
  {
   "cell_type": "markdown",
   "id": "26e9d4db-457c-4560-b43b-0cc78c7ad670",
   "metadata": {},
   "source": [
    "## Iteration 3: u=-0.253 v=-0.253"
>>>>>>> Stashed changes
   ]
  },
  {
   "cell_type": "code",
<<<<<<< Updated upstream
   "execution_count": 46,
   "id": "68ed1dc4-cca5-44df-a298-70b0c36a278d",
   "metadata": {
    "execution": {
     "iopub.execute_input": "2022-03-01T17:10:35.841033Z",
     "iopub.status.busy": "2022-03-01T17:10:35.840775Z",
     "iopub.status.idle": "2022-03-01T17:10:35.986648Z",
     "shell.execute_reply": "2022-03-01T17:10:35.986258Z",
     "shell.execute_reply.started": "2022-03-01T17:10:35.841014Z"
    },
    "tags": []
   },
   "outputs": [
    {
     "data": {
      "text/plain": [
       "<ddsutil.MTHexapod_ackcmd_c4d6958b at 0x7fef14c17040>"
      ]
     },
     "execution_count": 46,
     "metadata": {},
     "output_type": "execute_result"
    }
   ],
   "source": [
    "await mtcs.rem.mthexapod_1.cmd_move.set_start(x=0, y=0, z=0, u=0, v=0, w=0, sync=True)"
=======
   "execution_count": null,
   "id": "53f63b32-9096-4624-9737-b69493d7b972",
   "metadata": {
    "tags": []
   },
   "outputs": [],
   "source": [
    "test_message = \"LVV-2261: Hexapod u=-0.253deg v=-0.253deg (total 0.36) - Pathfinder Lines Not Pressurized\"\n",
    "\n",
    "now = datetime.now()\n",
    "script.log.info(f\"START -- {test_message} -- Starting Time: {now} UTC\")\n",
    "await mtcs.rem.mthexapod_1.cmd_move.set_start(x=0, y=0, z=0, u=-0.253, v=-0.253, w=0, sync=True)\n",
    "await asyncio.sleep(15.)  # Just so if we need to press the e-stops\n",
    "print(f\" Done.\")"
>>>>>>> Stashed changes
   ]
  },
  {
   "cell_type": "code",
<<<<<<< Updated upstream
   "execution_count": 44,
   "id": "19c7a11e-7835-4b69-aebb-c99207eb5a62",
   "metadata": {
    "execution": {
     "iopub.execute_input": "2022-03-01T16:52:32.479144Z",
     "iopub.status.busy": "2022-03-01T16:52:32.478591Z",
     "iopub.status.idle": "2022-03-01T16:52:53.444746Z",
     "shell.execute_reply": "2022-03-01T16:52:53.437982Z",
     "shell.execute_reply.started": "2022-03-01T16:52:32.479125Z"
    },
    "tags": []
   },
   "outputs": [
    {
     "name": "stdout",
     "output_type": "stream",
     "text": [
      " 2022-03-01 16:52:32.527448 - Moving Hexapod to u=-0.32\n",
      " Done.\n",
      " 2022-03-01 16:52:42.633719 - Moving Hexapod to u=-0.16\n",
      " Done.\n",
      " 2022-03-01 16:52:53.337704 - Moving Hexapod to u=-0.08\n"
     ]
    },
    {
     "ename": "AckError",
     "evalue": "msg='Command failed', ackcmd=(ackcmd private_seqNum=859114774, ack=<SalRetCode.CMD_FAILED: -302>, error=1, result='Failed: Rejected: initial state is <State.FAULT: 3> instead of <State.ENABLED: 2>')",
     "output_type": "error",
     "traceback": [
      "\u001b[0;31m---------------------------------------------------------------------------\u001b[0m",
      "\u001b[0;31mAckError\u001b[0m                                  Traceback (most recent call last)",
      "Input \u001b[0;32mIn [44]\u001b[0m, in \u001b[0;36m<module>\u001b[0;34m\u001b[0m\n\u001b[1;32m      1\u001b[0m \u001b[38;5;28;01mfor\u001b[39;00m _u \u001b[38;5;129;01min\u001b[39;00m [\u001b[38;5;241m-\u001b[39m\u001b[38;5;241m0.32\u001b[39m, \u001b[38;5;241m-\u001b[39m\u001b[38;5;241m0.16\u001b[39m, \u001b[38;5;241m-\u001b[39m\u001b[38;5;241m0.08\u001b[39m, \u001b[38;5;241m0\u001b[39m]:\n\u001b[1;32m      2\u001b[0m     \u001b[38;5;28mprint\u001b[39m(\u001b[38;5;124mf\u001b[39m\u001b[38;5;124m\"\u001b[39m\u001b[38;5;124m \u001b[39m\u001b[38;5;132;01m{\u001b[39;00mdatetime\u001b[38;5;241m.\u001b[39mnow()\u001b[38;5;132;01m}\u001b[39;00m\u001b[38;5;124m - Moving Hexapod to u=\u001b[39m\u001b[38;5;132;01m{\u001b[39;00m_u\u001b[38;5;132;01m}\u001b[39;00m\u001b[38;5;124m\"\u001b[39m)\n\u001b[0;32m----> 3\u001b[0m     \u001b[38;5;28;01mawait\u001b[39;00m mtcs\u001b[38;5;241m.\u001b[39mrem\u001b[38;5;241m.\u001b[39mmthexapod_1\u001b[38;5;241m.\u001b[39mcmd_move\u001b[38;5;241m.\u001b[39mset_start(x\u001b[38;5;241m=\u001b[39m\u001b[38;5;241m0\u001b[39m, y\u001b[38;5;241m=\u001b[39m\u001b[38;5;241m0\u001b[39m, z\u001b[38;5;241m=\u001b[39m\u001b[38;5;241m0\u001b[39m, u\u001b[38;5;241m=\u001b[39m_u, v\u001b[38;5;241m=\u001b[39m\u001b[38;5;241m0\u001b[39m, w\u001b[38;5;241m=\u001b[39m\u001b[38;5;241m0\u001b[39m, sync\u001b[38;5;241m=\u001b[39m\u001b[38;5;28;01mTrue\u001b[39;00m)\n\u001b[1;32m      4\u001b[0m     \u001b[38;5;28;01mawait\u001b[39;00m asyncio\u001b[38;5;241m.\u001b[39msleep(\u001b[38;5;241m10.\u001b[39m)  \u001b[38;5;66;03m# Just so if we need to press the e-stops\u001b[39;00m\n\u001b[1;32m      5\u001b[0m     \u001b[38;5;28mprint\u001b[39m(\u001b[38;5;124mf\u001b[39m\u001b[38;5;124m\"\u001b[39m\u001b[38;5;124m Done.\u001b[39m\u001b[38;5;124m\"\u001b[39m)\n",
      "File \u001b[0;32m/opt/lsst/software/stack/conda/miniconda3-py38_4.9.2/envs/lsst-scipipe-2.0.0/lib/python3.8/site-packages/lsst/ts/salobj/topics/remote_command.py:423\u001b[0m, in \u001b[0;36mRemoteCommand.set_start\u001b[0;34m(self, timeout, wait_done, **kwargs)\u001b[0m\n\u001b[1;32m    382\u001b[0m \u001b[38;5;124;03m\"\"\"Create a new ``self.data``, set zero or more fields,\u001b[39;00m\n\u001b[1;32m    383\u001b[0m \u001b[38;5;124;03mand start the command.\u001b[39;00m\n\u001b[1;32m    384\u001b[0m \n\u001b[0;32m   (...)\u001b[0m\n\u001b[1;32m    420\u001b[0m \u001b[38;5;124;03m    If ``data`` is not None and not an instance of `DataType`.\u001b[39;00m\n\u001b[1;32m    421\u001b[0m \u001b[38;5;124;03m\"\"\"\u001b[39;00m\n\u001b[1;32m    422\u001b[0m \u001b[38;5;28mself\u001b[39m\u001b[38;5;241m.\u001b[39mset(\u001b[38;5;241m*\u001b[39m\u001b[38;5;241m*\u001b[39mkwargs)\n\u001b[0;32m--> 423\u001b[0m \u001b[38;5;28;01mreturn\u001b[39;00m \u001b[38;5;28;01mawait\u001b[39;00m \u001b[38;5;28mself\u001b[39m\u001b[38;5;241m.\u001b[39mstart(timeout\u001b[38;5;241m=\u001b[39mtimeout, wait_done\u001b[38;5;241m=\u001b[39mwait_done)\n",
      "File \u001b[0;32m/opt/lsst/software/stack/conda/miniconda3-py38_4.9.2/envs/lsst-scipipe-2.0.0/lib/python3.8/site-packages/lsst/ts/salobj/topics/remote_command.py:483\u001b[0m, in \u001b[0;36mRemoteCommand.start\u001b[0;34m(self, data, timeout, wait_done)\u001b[0m\n\u001b[1;32m    479\u001b[0m cmd_info \u001b[38;5;241m=\u001b[39m CommandInfo(\n\u001b[1;32m    480\u001b[0m     remote_command\u001b[38;5;241m=\u001b[39m\u001b[38;5;28mself\u001b[39m, seq_num\u001b[38;5;241m=\u001b[39mseq_num, wait_done\u001b[38;5;241m=\u001b[39mwait_done\n\u001b[1;32m    481\u001b[0m )\n\u001b[1;32m    482\u001b[0m \u001b[38;5;28mself\u001b[39m\u001b[38;5;241m.\u001b[39msalinfo\u001b[38;5;241m.\u001b[39m_running_cmds[seq_num] \u001b[38;5;241m=\u001b[39m cmd_info\n\u001b[0;32m--> 483\u001b[0m \u001b[38;5;28;01mreturn\u001b[39;00m \u001b[38;5;28;01mawait\u001b[39;00m cmd_info\u001b[38;5;241m.\u001b[39mnext_ackcmd(timeout\u001b[38;5;241m=\u001b[39mtimeout)\n",
      "File \u001b[0;32m/opt/lsst/software/stack/conda/miniconda3-py38_4.9.2/envs/lsst-scipipe-2.0.0/lib/python3.8/site-packages/lsst/ts/salobj/topics/remote_command.py:201\u001b[0m, in \u001b[0;36mCommandInfo.next_ackcmd\u001b[0;34m(self, timeout)\u001b[0m\n\u001b[1;32m    199\u001b[0m     ackcmd \u001b[38;5;241m=\u001b[39m \u001b[38;5;28;01mawait\u001b[39;00m \u001b[38;5;28mself\u001b[39m\u001b[38;5;241m.\u001b[39m_wait_task\n\u001b[1;32m    200\u001b[0m     \u001b[38;5;28;01mif\u001b[39;00m ackcmd\u001b[38;5;241m.\u001b[39mack \u001b[38;5;129;01min\u001b[39;00m \u001b[38;5;28mself\u001b[39m\u001b[38;5;241m.\u001b[39mfailed_ack_codes:\n\u001b[0;32m--> 201\u001b[0m         \u001b[38;5;28;01mraise\u001b[39;00m base\u001b[38;5;241m.\u001b[39mAckError(msg\u001b[38;5;241m=\u001b[39m\u001b[38;5;124m\"\u001b[39m\u001b[38;5;124mCommand failed\u001b[39m\u001b[38;5;124m\"\u001b[39m, ackcmd\u001b[38;5;241m=\u001b[39mackcmd)\n\u001b[1;32m    202\u001b[0m     \u001b[38;5;28;01mreturn\u001b[39;00m ackcmd\n\u001b[1;32m    203\u001b[0m \u001b[38;5;28;01mexcept\u001b[39;00m asyncio\u001b[38;5;241m.\u001b[39mTimeoutError:\n",
      "\u001b[0;31mAckError\u001b[0m: msg='Command failed', ackcmd=(ackcmd private_seqNum=859114774, ack=<SalRetCode.CMD_FAILED: -302>, error=1, result='Failed: Rejected: initial state is <State.FAULT: 3> instead of <State.ENABLED: 2>')"
     ]
    }
   ],
   "source": [
    "for _u in [-0.32, -0.16, -0.08, 0]:\n",
    "    print(f\" {datetime.now()} - Moving Hexapod to u={_u}\")\n",
    "    await mtcs.rem.mthexapod_1.cmd_move.set_start(x=0, y=0, z=0, u=_u, v=0, w=0, sync=True)\n",
    "    await asyncio.sleep(15.)  # Just so if we need to press the e-stops\n",
=======
   "execution_count": null,
   "id": "2b09f760-753c-491d-96fb-d9d75347955f",
   "metadata": {
    "tags": []
   },
   "outputs": [],
   "source": [
    "for p in [30, 60, 89.5, 60, 30, 0, -30, -60, -89.5, -60, 0]:\n",
    "    print(f\" {datetime.now()} - Moving to {p}\")\n",
    "    await mtcs.rem.mtrotator.cmd_move.set_start(position=p, timeout=5.)\n",
    "    await asyncio.sleep(20.)\n",
>>>>>>> Stashed changes
    "    print(f\" Done.\")"
   ]
  },
  {
<<<<<<< Updated upstream
   "cell_type": "code",
   "execution_count": 47,
   "id": "98969a84-56d4-4308-858d-a0f2f72eff20",
   "metadata": {
    "execution": {
     "iopub.execute_input": "2022-03-01T17:11:13.128090Z",
     "iopub.status.busy": "2022-03-01T17:11:13.127374Z",
     "iopub.status.idle": "2022-03-01T17:12:13.621177Z",
     "shell.execute_reply": "2022-03-01T17:12:13.620708Z",
     "shell.execute_reply.started": "2022-03-01T17:11:13.128070Z"
    },
    "tags": []
   },
   "outputs": [
    {
     "data": {
      "text/html": [
       "<pre style=\"margin: 0.1em;\n",
       "padding-left: 0.25em;\n",
       "border-left-style: solid;\n",
       "font-family: var(--jp-code-font-family);\n",
       "font-size: var(--jp-code-font-size);\n",
       "line-height: var(--jp-code-line-height);\n",
       "\"><span style=\"color: var(--jp-warn-color2)\">Script</span> <span style=\"color: var(--jp-info-color0)\">INFO</span>: START -- LVV-2261: Hexapod u=-0.36deg - Pathfinder Lines Not Pressurized -- Starting Time: 2022-03-01 17:11:13.165259 UTC</pre>"
      ],
      "text/plain": [
       "<IPython.core.display.HTML object>"
      ]
     },
     "metadata": {},
     "output_type": "display_data"
    },
    {
     "name": "stdout",
     "output_type": "stream",
     "text": [
      " 2022-03-01 17:11:13.168167 - Moving Hexapod to u=-0.08\n",
      " Done.\n",
      " 2022-03-01 17:11:28.250551 - Moving Hexapod to u=-0.16\n",
      " Done.\n",
      " 2022-03-01 17:11:43.356620 - Moving Hexapod to u=-0.32\n",
      " Done.\n",
      " 2022-03-01 17:11:58.462098 - Moving Hexapod to u=-0.36\n",
      " Done.\n"
     ]
    }
   ],
   "source": [
    "test_message = \"LVV-2261: Hexapod u=-0.36deg - Pathfinder Lines Not Pressurized\"\n",
=======
   "cell_type": "markdown",
   "id": "49d4fff2-be09-4e7e-b75a-02155cbe3aee",
   "metadata": {},
   "source": [
    "## Iteration 4: u=0.36 v=0.00"
   ]
  },
  {
   "cell_type": "code",
   "execution_count": null,
   "id": "55ee52e1-f222-482c-b526-d4fa97b1ed91",
   "metadata": {},
   "outputs": [],
   "source": [
    "test_message = \"LVV-2261: Hexapod u=+0.36deg v=0.00deg - Pathfinder Lines Not Pressurized\"\n",
>>>>>>> Stashed changes
    "\n",
    "now = datetime.now()\n",
    "script.log.info(f\"START -- {test_message} -- Starting Time: {now} UTC\")\n",
    "\n",
<<<<<<< Updated upstream
    "for _u in [-0.08, -0.16, -0.32, -0.36]:\n",
=======
    "for _v in [-0.25, -0.14, 0.00]:\n",
    "    print(f\" {datetime.now()} - Moving Hexapod to v={_v}\")\n",
    "    await mtcs.rem.mthexapod_1.cmd_move.set_start(x=0, y=0, z=0, u=-0.25, v=_v, w=0, sync=True)\n",
    "    await asyncio.sleep(15.)  # Just so if we need to press the e-stops\n",
    "    print(f\" Done.\")\n",
    "    \n",
    "for _u in [-0.25, -0.14, 0.00, 0.08, 0.16, 0.32, 0.36]:\n",
>>>>>>> Stashed changes
    "    print(f\" {datetime.now()} - Moving Hexapod to u={_u}\")\n",
    "    await mtcs.rem.mthexapod_1.cmd_move.set_start(x=0, y=0, z=0, u=_u, v=0, w=0, sync=True)\n",
    "    await asyncio.sleep(15.)  # Just so if we need to press the e-stops\n",
    "    print(f\" Done.\")"
   ]
  },
  {
   "cell_type": "code",
<<<<<<< Updated upstream
   "execution_count": 64,
   "id": "c8250a52-77e4-4344-aabb-5e97a09de890",
   "metadata": {
    "execution": {
     "iopub.execute_input": "2022-03-01T17:34:49.310443Z",
     "iopub.status.busy": "2022-03-01T17:34:49.310063Z",
     "iopub.status.idle": "2022-03-01T17:34:49.422860Z",
     "shell.execute_reply": "2022-03-01T17:34:49.422332Z",
     "shell.execute_reply.started": "2022-03-01T17:34:49.310424Z"
    },
    "tags": []
   },
   "outputs": [
    {
     "data": {
      "text/plain": [
       "<ddsutil.MTRotator_ackcmd_f04f56ad at 0x7fef14b0eca0>"
      ]
     },
     "execution_count": 64,
     "metadata": {},
     "output_type": "execute_result"
    }
   ],
   "source": [
    "await mtcs.rem.mtrotator.cmd_move.set_start(position=0, timeout=10.) "
   ]
  },
  {
   "cell_type": "code",
   "execution_count": 63,
   "id": "d811be68-0bb9-4c5a-9496-71de2f7d6926",
   "metadata": {
    "execution": {
     "iopub.execute_input": "2022-03-01T17:34:39.557699Z",
     "iopub.status.busy": "2022-03-01T17:34:39.557436Z",
     "iopub.status.idle": "2022-03-01T17:34:39.673730Z",
     "shell.execute_reply": "2022-03-01T17:34:39.673330Z",
     "shell.execute_reply.started": "2022-03-01T17:34:39.557682Z"
    }
   },
   "outputs": [
    {
     "data": {
      "text/plain": [
       "<ddsutil.MTRotator_ackcmd_f04f56ad at 0x7feeb724f0d0>"
      ]
     },
     "execution_count": 63,
     "metadata": {},
     "output_type": "execute_result"
    }
   ],
   "source": [
    "# CCW has memory issues - make sure it is following\n",
    "await mtcs.rem.mtrotator.cmd_move.set_start(position=2, timeout=10.)"
   ]
  },
  {
   "cell_type": "code",
   "execution_count": 23,
   "id": "109270c0-841b-4fd8-b819-31ed8b1a0988",
   "metadata": {
    "tags": []
   },
   "outputs": [
    {
     "name": "stdout",
     "output_type": "stream",
     "text": [
      " 2022-03-15 18:46:36.441356 - Moving to 10\n",
      " Done.\n",
      " 2022-03-15 18:46:46.533738 - Moving to 20\n"
     ]
    },
    {
     "ename": "AckError",
     "evalue": "msg='Command failed', ackcmd=(ackcmd private_seqNum=1067414036, ack=<SalRetCode.CMD_FAILED: -302>, error=1, result='Failed: Rejected: initial state is <State.FAULT: 3> instead of <State.ENABLED: 2>')",
     "output_type": "error",
     "traceback": [
      "\u001b[0;31m---------------------------------------------------------------------------\u001b[0m",
      "\u001b[0;31mAckError\u001b[0m                                  Traceback (most recent call last)",
      "Input \u001b[0;32mIn [23]\u001b[0m, in \u001b[0;36m<module>\u001b[0;34m\u001b[0m\n\u001b[1;32m      1\u001b[0m \u001b[38;5;28;01mfor\u001b[39;00m p \u001b[38;5;129;01min\u001b[39;00m [\u001b[38;5;241m10\u001b[39m, \u001b[38;5;241m20\u001b[39m, \u001b[38;5;241m30\u001b[39m, \u001b[38;5;241m40\u001b[39m, \u001b[38;5;241m50\u001b[39m, \u001b[38;5;241m60\u001b[39m, \u001b[38;5;241m70\u001b[39m, \u001b[38;5;241m80\u001b[39m, \u001b[38;5;241m90.\u001b[39m]:\n\u001b[1;32m      2\u001b[0m     \u001b[38;5;28mprint\u001b[39m(\u001b[38;5;124mf\u001b[39m\u001b[38;5;124m\"\u001b[39m\u001b[38;5;124m \u001b[39m\u001b[38;5;132;01m{\u001b[39;00mdatetime\u001b[38;5;241m.\u001b[39mnow()\u001b[38;5;132;01m}\u001b[39;00m\u001b[38;5;124m - Moving to \u001b[39m\u001b[38;5;132;01m{\u001b[39;00mp\u001b[38;5;132;01m}\u001b[39;00m\u001b[38;5;124m\"\u001b[39m)\n\u001b[0;32m----> 3\u001b[0m     \u001b[38;5;28;01mawait\u001b[39;00m mtcs\u001b[38;5;241m.\u001b[39mrem\u001b[38;5;241m.\u001b[39mmtrotator\u001b[38;5;241m.\u001b[39mcmd_move\u001b[38;5;241m.\u001b[39mset_start(position\u001b[38;5;241m=\u001b[39mp, timeout\u001b[38;5;241m=\u001b[39m\u001b[38;5;241m5.\u001b[39m)\n\u001b[1;32m      4\u001b[0m     \u001b[38;5;28;01mawait\u001b[39;00m asyncio\u001b[38;5;241m.\u001b[39msleep(\u001b[38;5;241m10.\u001b[39m)\n\u001b[1;32m      5\u001b[0m     \u001b[38;5;28mprint\u001b[39m(\u001b[38;5;124mf\u001b[39m\u001b[38;5;124m\"\u001b[39m\u001b[38;5;124m Done.\u001b[39m\u001b[38;5;124m\"\u001b[39m)\n",
      "File \u001b[0;32m/opt/lsst/software/stack/conda/miniconda3-py38_4.9.2/envs/lsst-scipipe-2.0.0/lib/python3.8/site-packages/lsst/ts/salobj/topics/remote_command.py:423\u001b[0m, in \u001b[0;36mRemoteCommand.set_start\u001b[0;34m(self, timeout, wait_done, **kwargs)\u001b[0m\n\u001b[1;32m    382\u001b[0m \u001b[38;5;124;03m\"\"\"Create a new ``self.data``, set zero or more fields,\u001b[39;00m\n\u001b[1;32m    383\u001b[0m \u001b[38;5;124;03mand start the command.\u001b[39;00m\n\u001b[1;32m    384\u001b[0m \n\u001b[0;32m   (...)\u001b[0m\n\u001b[1;32m    420\u001b[0m \u001b[38;5;124;03m    If ``data`` is not None and not an instance of `DataType`.\u001b[39;00m\n\u001b[1;32m    421\u001b[0m \u001b[38;5;124;03m\"\"\"\u001b[39;00m\n\u001b[1;32m    422\u001b[0m \u001b[38;5;28mself\u001b[39m\u001b[38;5;241m.\u001b[39mset(\u001b[38;5;241m*\u001b[39m\u001b[38;5;241m*\u001b[39mkwargs)\n\u001b[0;32m--> 423\u001b[0m \u001b[38;5;28;01mreturn\u001b[39;00m \u001b[38;5;28;01mawait\u001b[39;00m \u001b[38;5;28mself\u001b[39m\u001b[38;5;241m.\u001b[39mstart(timeout\u001b[38;5;241m=\u001b[39mtimeout, wait_done\u001b[38;5;241m=\u001b[39mwait_done)\n",
      "File \u001b[0;32m/opt/lsst/software/stack/conda/miniconda3-py38_4.9.2/envs/lsst-scipipe-2.0.0/lib/python3.8/site-packages/lsst/ts/salobj/topics/remote_command.py:483\u001b[0m, in \u001b[0;36mRemoteCommand.start\u001b[0;34m(self, data, timeout, wait_done)\u001b[0m\n\u001b[1;32m    479\u001b[0m cmd_info \u001b[38;5;241m=\u001b[39m CommandInfo(\n\u001b[1;32m    480\u001b[0m     remote_command\u001b[38;5;241m=\u001b[39m\u001b[38;5;28mself\u001b[39m, seq_num\u001b[38;5;241m=\u001b[39mseq_num, wait_done\u001b[38;5;241m=\u001b[39mwait_done\n\u001b[1;32m    481\u001b[0m )\n\u001b[1;32m    482\u001b[0m \u001b[38;5;28mself\u001b[39m\u001b[38;5;241m.\u001b[39msalinfo\u001b[38;5;241m.\u001b[39m_running_cmds[seq_num] \u001b[38;5;241m=\u001b[39m cmd_info\n\u001b[0;32m--> 483\u001b[0m \u001b[38;5;28;01mreturn\u001b[39;00m \u001b[38;5;28;01mawait\u001b[39;00m cmd_info\u001b[38;5;241m.\u001b[39mnext_ackcmd(timeout\u001b[38;5;241m=\u001b[39mtimeout)\n",
      "File \u001b[0;32m/opt/lsst/software/stack/conda/miniconda3-py38_4.9.2/envs/lsst-scipipe-2.0.0/lib/python3.8/site-packages/lsst/ts/salobj/topics/remote_command.py:201\u001b[0m, in \u001b[0;36mCommandInfo.next_ackcmd\u001b[0;34m(self, timeout)\u001b[0m\n\u001b[1;32m    199\u001b[0m     ackcmd \u001b[38;5;241m=\u001b[39m \u001b[38;5;28;01mawait\u001b[39;00m \u001b[38;5;28mself\u001b[39m\u001b[38;5;241m.\u001b[39m_wait_task\n\u001b[1;32m    200\u001b[0m     \u001b[38;5;28;01mif\u001b[39;00m ackcmd\u001b[38;5;241m.\u001b[39mack \u001b[38;5;129;01min\u001b[39;00m \u001b[38;5;28mself\u001b[39m\u001b[38;5;241m.\u001b[39mfailed_ack_codes:\n\u001b[0;32m--> 201\u001b[0m         \u001b[38;5;28;01mraise\u001b[39;00m base\u001b[38;5;241m.\u001b[39mAckError(msg\u001b[38;5;241m=\u001b[39m\u001b[38;5;124m\"\u001b[39m\u001b[38;5;124mCommand failed\u001b[39m\u001b[38;5;124m\"\u001b[39m, ackcmd\u001b[38;5;241m=\u001b[39mackcmd)\n\u001b[1;32m    202\u001b[0m     \u001b[38;5;28;01mreturn\u001b[39;00m ackcmd\n\u001b[1;32m    203\u001b[0m \u001b[38;5;28;01mexcept\u001b[39;00m asyncio\u001b[38;5;241m.\u001b[39mTimeoutError:\n",
      "\u001b[0;31mAckError\u001b[0m: msg='Command failed', ackcmd=(ackcmd private_seqNum=1067414036, ack=<SalRetCode.CMD_FAILED: -302>, error=1, result='Failed: Rejected: initial state is <State.FAULT: 3> instead of <State.ENABLED: 2>')"
     ]
    }
   ],
   "source": [
    "for p in [10, 20, 30, 40, 50, 60, 70, 80, 90.]:\n",
    "    print(f\" {datetime.now()} - Moving to {p}\")\n",
    "    await mtcs.rem.mtrotator.cmd_move.set_start(position=p, timeout=5.)\n",
    "    await asyncio.sleep(10.)\n",
=======
   "execution_count": null,
   "id": "be785714-6442-427f-b0a8-87668f426046",
   "metadata": {
    "tags": []
   },
   "outputs": [],
   "source": [
    "for p in [30, 60, 89.5, 60, 30, 0, -30, -60, -89.5, -60, 0]:\n",
    "    print(f\" {datetime.now()} - Moving to {p}\")\n",
    "    await mtcs.rem.mtrotator.cmd_move.set_start(position=p, timeout=5.)\n",
    "    await asyncio.sleep(20.)\n",
>>>>>>> Stashed changes
    "    print(f\" Done.\")"
   ]
  },
  {
   "cell_type": "code",
<<<<<<< Updated upstream
   "execution_count": 54,
   "id": "30b2e8fe-c04e-462e-aa32-883723a3d9c8",
   "metadata": {
    "execution": {
     "iopub.execute_input": "2022-03-01T17:21:56.616261Z",
     "iopub.status.busy": "2022-03-01T17:21:56.615945Z",
     "iopub.status.idle": "2022-03-01T17:23:27.583008Z",
     "shell.execute_reply": "2022-03-01T17:23:27.582493Z",
     "shell.execute_reply.started": "2022-03-01T17:21:56.616236Z"
    },
    "tags": []
   },
   "outputs": [
    {
     "name": "stdout",
     "output_type": "stream",
     "text": [
      " 2022-03-01 17:21:56.656390 - Moving to 80 deg\n",
      "  Done.\n",
      " 2022-03-01 17:22:06.766531 - Moving to 70 deg\n",
      "  Done.\n",
      " 2022-03-01 17:22:16.866159 - Moving to 60 deg\n",
      "  Done.\n",
      " 2022-03-01 17:22:26.969702 - Moving to 50 deg\n",
      "  Done.\n",
      " 2022-03-01 17:22:37.070079 - Moving to 40 deg\n",
      "  Done.\n",
      " 2022-03-01 17:22:47.171905 - Moving to 30 deg\n",
      "  Done.\n",
      " 2022-03-01 17:22:57.273848 - Moving to 20 deg\n",
      "  Done.\n",
      " 2022-03-01 17:23:07.376309 - Moving to 10 deg\n",
      "  Done.\n",
      " 2022-03-01 17:23:17.478137 - Moving to 0 deg\n",
      "  Done.\n"
     ]
    }
   ],
   "source": [
    "for p in [80, 70, 60, 50, 40, 30, 20, 10, 0]:\n",
    "    print(f\" {datetime.now()} - Moving to {p} deg\")\n",
    "    await mtcs.rem.mtrotator.cmd_move.set_start(position=p, timeout=5)\n",
    "    await asyncio.sleep(10.)\n",
    "    print(f\"  Done.\")"
   ]
  },
  {
   "cell_type": "code",
   "execution_count": 55,
   "id": "afc76311-9fa7-43db-a1f0-149988c38d25",
   "metadata": {
    "execution": {
     "iopub.execute_input": "2022-03-01T17:23:27.585286Z",
     "iopub.status.busy": "2022-03-01T17:23:27.584877Z",
     "iopub.status.idle": "2022-03-01T17:24:58.551301Z",
     "shell.execute_reply": "2022-03-01T17:24:58.550774Z",
     "shell.execute_reply.started": "2022-03-01T17:23:27.585268Z"
    },
    "tags": []
   },
   "outputs": [
    {
     "name": "stdout",
     "output_type": "stream",
     "text": [
      " 2022-03-01 17:23:27.630615 - Moving to -10 deg\n",
      "  Done.\n",
      " 2022-03-01 17:23:37.733023 - Moving to -20 deg\n",
      "  Done.\n",
      " 2022-03-01 17:23:47.834866 - Moving to -30 deg\n",
      "  Done.\n",
      " 2022-03-01 17:23:57.938298 - Moving to -40 deg\n",
      "  Done.\n",
      " 2022-03-01 17:24:08.038665 - Moving to -50 deg\n",
      "  Done.\n",
      " 2022-03-01 17:24:18.140646 - Moving to -60 deg\n",
      "  Done.\n",
      " 2022-03-01 17:24:28.242876 - Moving to -70 deg\n",
      "  Done.\n",
      " 2022-03-01 17:24:38.345055 - Moving to -80 deg\n",
      "  Done.\n",
      " 2022-03-01 17:24:48.446384 - Moving to -89.5 deg\n",
      "  Done.\n"
     ]
    }
   ],
   "source": [
    "for p in [-10, -20, -30, -40, -50, -60, -70, -80, -89.5]:\n",
    "    print(f\" {datetime.now()} - Moving to {p} deg\")\n",
    "    await mtcs.rem.mtrotator.cmd_move.set_start(position=p, timeout=5)\n",
    "    await asyncio.sleep(10.)\n",
    "    print(f\"  Done.\")"
   ]
  },
  {
   "cell_type": "code",
   "execution_count": 56,
   "id": "79cf4eba-5feb-4d0f-8327-f484a5d87b4e",
   "metadata": {
    "execution": {
     "iopub.execute_input": "2022-03-01T17:24:58.552278Z",
     "iopub.status.busy": "2022-03-01T17:24:58.551977Z",
     "iopub.status.idle": "2022-03-01T17:26:29.520658Z",
     "shell.execute_reply": "2022-03-01T17:26:29.519559Z",
     "shell.execute_reply.started": "2022-03-01T17:24:58.552260Z"
    },
    "tags": []
   },
   "outputs": [
    {
     "name": "stdout",
     "output_type": "stream",
     "text": [
      " 2022-03-01 17:24:58.593986 - Moving to -80 deg\n",
      "  Done.\n",
      " 2022-03-01 17:25:08.706413 - Moving to -70 deg\n",
      "  Done.\n",
      " 2022-03-01 17:25:18.802784 - Moving to -60 deg\n",
      "  Done.\n",
      " 2022-03-01 17:25:28.906065 - Moving to -50 deg\n",
      "  Done.\n",
      " 2022-03-01 17:25:39.007613 - Moving to -40 deg\n",
      "  Done.\n",
      " 2022-03-01 17:25:49.109712 - Moving to -30 deg\n",
      "  Done.\n",
      " 2022-03-01 17:25:59.210884 - Moving to -20 deg\n",
      "  Done.\n",
      " 2022-03-01 17:26:09.313888 - Moving to -10 deg\n",
      "  Done.\n",
      " 2022-03-01 17:26:19.415332 - Moving to 0 deg\n",
      "  Done.\n"
     ]
    }
   ],
   "source": [
    "for p in [-80, -70, -60, -50, -40, -30, -20, -10, -0]:\n",
    "    print(f\" {datetime.now()} - Moving to {p} deg\")\n",
    "    await mtcs.rem.mtrotator.cmd_move.set_start(position=p, timeout=5)\n",
    "    await asyncio.sleep(10.)\n",
    "    print(f\"  Done.\")"
=======
   "execution_count": null,
   "id": "99d87cdf-9582-4507-8348-d8681ad74366",
   "metadata": {
    "tags": []
   },
   "outputs": [],
   "source": [
    "now = datetime.now()\n",
    "script.log.info(f\"END -- {test_message} -- End Time: {now} UTC\")"
   ]
  },
  {
   "cell_type": "markdown",
   "id": "cedce44f-d908-480e-b6a6-3e900e6e25cf",
   "metadata": {},
   "source": [
    "## Iteration 5: u=-0.253deg v=+0.253deg"
>>>>>>> Stashed changes
   ]
  },
  {
   "cell_type": "code",
<<<<<<< Updated upstream
   "execution_count": 57,
   "id": "bba24a9f-20e5-44b5-8864-4b90bf949250",
   "metadata": {
    "execution": {
     "iopub.execute_input": "2022-03-01T17:26:29.522038Z",
     "iopub.status.busy": "2022-03-01T17:26:29.521655Z",
     "iopub.status.idle": "2022-03-01T17:26:29.566315Z",
     "shell.execute_reply": "2022-03-01T17:26:29.564308Z",
     "shell.execute_reply.started": "2022-03-01T17:26:29.522019Z"
    },
    "tags": []
   },
   "outputs": [
    {
     "data": {
      "text/html": [
       "<pre style=\"margin: 0.1em;\n",
       "padding-left: 0.25em;\n",
       "border-left-style: solid;\n",
       "font-family: var(--jp-code-font-family);\n",
       "font-size: var(--jp-code-font-size);\n",
       "line-height: var(--jp-code-line-height);\n",
       "\"><span style=\"color: var(--jp-warn-color2)\">Script</span> <span style=\"color: var(--jp-info-color0)\">INFO</span>: END -- LVV-2261: Hexapod u=-0.36deg - Pathfinder Lines Not Pressurized -- End Time: 2022-03-01 17:26:29.561230 UTC</pre>"
      ],
      "text/plain": [
       "<IPython.core.display.HTML object>"
      ]
     },
     "metadata": {},
     "output_type": "display_data"
    }
   ],
   "source": [
    "now = datetime.now()\n",
    "script.log.info(f\"END -- {test_message} -- End Time: {now} UTC\")"
   ]
  },
  {
   "cell_type": "code",
   "execution_count": null,
   "id": "a791d0d9-2131-42be-b530-db55814768c5",
   "metadata": {},
   "outputs": [],
   "source": []
  },
  {
   "cell_type": "code",
   "execution_count": 58,
   "id": "1127c636-3a65-4f67-82b1-b4cc18fcfc9a",
   "metadata": {
    "execution": {
     "iopub.execute_input": "2022-03-01T17:28:43.108778Z",
     "iopub.status.busy": "2022-03-01T17:28:43.108528Z",
     "iopub.status.idle": "2022-03-01T17:28:43.301861Z",
     "shell.execute_reply": "2022-03-01T17:28:43.301155Z",
     "shell.execute_reply.started": "2022-03-01T17:28:43.108760Z"
    }
   },
   "outputs": [
    {
     "data": {
      "text/html": [
       "<pre style=\"margin: 0.1em;\n",
       "padding-left: 0.25em;\n",
       "border-left-style: solid;\n",
       "font-family: var(--jp-code-font-family);\n",
       "font-size: var(--jp-code-font-size);\n",
       "line-height: var(--jp-code-line-height);\n",
       "\"><span style=\"color: var(--jp-warn-color2)\">Script</span> <span style=\"color: var(--jp-info-color0)\">INFO</span>: START -- LVV-2261: Hexapod u=-0.36deg v=-0.36deg - Pathfinder Lines Not Pressurized -- Starting Time: 2022-03-01 17:28:43.191209 UTC</pre>"
      ],
      "text/plain": [
       "<IPython.core.display.HTML object>"
      ]
     },
     "metadata": {},
     "output_type": "display_data"
    },
    {
     "name": "stdout",
     "output_type": "stream",
     "text": [
      " 2022-03-01 17:28:43.194012 - Moving Hexapod to u=-0.08\n"
     ]
    },
    {
     "ename": "AckError",
     "evalue": "msg='Command failed', ackcmd=(ackcmd private_seqNum=859114781, ack=<SalRetCode.CMD_FAILED: -302>, error=1, result='Failed: Hexapod commands exceed allowed limits')",
     "output_type": "error",
     "traceback": [
      "\u001b[0;31m---------------------------------------------------------------------------\u001b[0m",
      "\u001b[0;31mAckError\u001b[0m                                  Traceback (most recent call last)",
      "Input \u001b[0;32mIn [58]\u001b[0m, in \u001b[0;36m<module>\u001b[0;34m\u001b[0m\n\u001b[1;32m      6\u001b[0m \u001b[38;5;28;01mfor\u001b[39;00m _v \u001b[38;5;129;01min\u001b[39;00m [\u001b[38;5;241m-\u001b[39m\u001b[38;5;241m0.08\u001b[39m, \u001b[38;5;241m-\u001b[39m\u001b[38;5;241m0.16\u001b[39m, \u001b[38;5;241m-\u001b[39m\u001b[38;5;241m0.32\u001b[39m, \u001b[38;5;241m-\u001b[39m\u001b[38;5;241m0.36\u001b[39m]:\n\u001b[1;32m      7\u001b[0m     \u001b[38;5;28mprint\u001b[39m(\u001b[38;5;124mf\u001b[39m\u001b[38;5;124m\"\u001b[39m\u001b[38;5;124m \u001b[39m\u001b[38;5;132;01m{\u001b[39;00mdatetime\u001b[38;5;241m.\u001b[39mnow()\u001b[38;5;132;01m}\u001b[39;00m\u001b[38;5;124m - Moving Hexapod to u=\u001b[39m\u001b[38;5;132;01m{\u001b[39;00m_v\u001b[38;5;132;01m}\u001b[39;00m\u001b[38;5;124m\"\u001b[39m)\n\u001b[0;32m----> 8\u001b[0m     \u001b[38;5;28;01mawait\u001b[39;00m mtcs\u001b[38;5;241m.\u001b[39mrem\u001b[38;5;241m.\u001b[39mmthexapod_1\u001b[38;5;241m.\u001b[39mcmd_move\u001b[38;5;241m.\u001b[39mset_start(x\u001b[38;5;241m=\u001b[39m\u001b[38;5;241m0\u001b[39m, y\u001b[38;5;241m=\u001b[39m\u001b[38;5;241m0\u001b[39m, z\u001b[38;5;241m=\u001b[39m\u001b[38;5;241m0\u001b[39m, u\u001b[38;5;241m=\u001b[39m\u001b[38;5;241m-\u001b[39m\u001b[38;5;241m0.36\u001b[39m, v\u001b[38;5;241m=\u001b[39m_v, w\u001b[38;5;241m=\u001b[39m\u001b[38;5;241m0\u001b[39m, sync\u001b[38;5;241m=\u001b[39m\u001b[38;5;28;01mTrue\u001b[39;00m)\n\u001b[1;32m      9\u001b[0m     \u001b[38;5;28;01mawait\u001b[39;00m asyncio\u001b[38;5;241m.\u001b[39msleep(\u001b[38;5;241m15.\u001b[39m)  \u001b[38;5;66;03m# Just so if we need to press the e-stops\u001b[39;00m\n\u001b[1;32m     10\u001b[0m     \u001b[38;5;28mprint\u001b[39m(\u001b[38;5;124mf\u001b[39m\u001b[38;5;124m\"\u001b[39m\u001b[38;5;124m Done.\u001b[39m\u001b[38;5;124m\"\u001b[39m)\n",
      "File \u001b[0;32m/opt/lsst/software/stack/conda/miniconda3-py38_4.9.2/envs/lsst-scipipe-2.0.0/lib/python3.8/site-packages/lsst/ts/salobj/topics/remote_command.py:423\u001b[0m, in \u001b[0;36mRemoteCommand.set_start\u001b[0;34m(self, timeout, wait_done, **kwargs)\u001b[0m\n\u001b[1;32m    382\u001b[0m \u001b[38;5;124;03m\"\"\"Create a new ``self.data``, set zero or more fields,\u001b[39;00m\n\u001b[1;32m    383\u001b[0m \u001b[38;5;124;03mand start the command.\u001b[39;00m\n\u001b[1;32m    384\u001b[0m \n\u001b[0;32m   (...)\u001b[0m\n\u001b[1;32m    420\u001b[0m \u001b[38;5;124;03m    If ``data`` is not None and not an instance of `DataType`.\u001b[39;00m\n\u001b[1;32m    421\u001b[0m \u001b[38;5;124;03m\"\"\"\u001b[39;00m\n\u001b[1;32m    422\u001b[0m \u001b[38;5;28mself\u001b[39m\u001b[38;5;241m.\u001b[39mset(\u001b[38;5;241m*\u001b[39m\u001b[38;5;241m*\u001b[39mkwargs)\n\u001b[0;32m--> 423\u001b[0m \u001b[38;5;28;01mreturn\u001b[39;00m \u001b[38;5;28;01mawait\u001b[39;00m \u001b[38;5;28mself\u001b[39m\u001b[38;5;241m.\u001b[39mstart(timeout\u001b[38;5;241m=\u001b[39mtimeout, wait_done\u001b[38;5;241m=\u001b[39mwait_done)\n",
      "File \u001b[0;32m/opt/lsst/software/stack/conda/miniconda3-py38_4.9.2/envs/lsst-scipipe-2.0.0/lib/python3.8/site-packages/lsst/ts/salobj/topics/remote_command.py:483\u001b[0m, in \u001b[0;36mRemoteCommand.start\u001b[0;34m(self, data, timeout, wait_done)\u001b[0m\n\u001b[1;32m    479\u001b[0m cmd_info \u001b[38;5;241m=\u001b[39m CommandInfo(\n\u001b[1;32m    480\u001b[0m     remote_command\u001b[38;5;241m=\u001b[39m\u001b[38;5;28mself\u001b[39m, seq_num\u001b[38;5;241m=\u001b[39mseq_num, wait_done\u001b[38;5;241m=\u001b[39mwait_done\n\u001b[1;32m    481\u001b[0m )\n\u001b[1;32m    482\u001b[0m \u001b[38;5;28mself\u001b[39m\u001b[38;5;241m.\u001b[39msalinfo\u001b[38;5;241m.\u001b[39m_running_cmds[seq_num] \u001b[38;5;241m=\u001b[39m cmd_info\n\u001b[0;32m--> 483\u001b[0m \u001b[38;5;28;01mreturn\u001b[39;00m \u001b[38;5;28;01mawait\u001b[39;00m cmd_info\u001b[38;5;241m.\u001b[39mnext_ackcmd(timeout\u001b[38;5;241m=\u001b[39mtimeout)\n",
      "File \u001b[0;32m/opt/lsst/software/stack/conda/miniconda3-py38_4.9.2/envs/lsst-scipipe-2.0.0/lib/python3.8/site-packages/lsst/ts/salobj/topics/remote_command.py:201\u001b[0m, in \u001b[0;36mCommandInfo.next_ackcmd\u001b[0;34m(self, timeout)\u001b[0m\n\u001b[1;32m    199\u001b[0m     ackcmd \u001b[38;5;241m=\u001b[39m \u001b[38;5;28;01mawait\u001b[39;00m \u001b[38;5;28mself\u001b[39m\u001b[38;5;241m.\u001b[39m_wait_task\n\u001b[1;32m    200\u001b[0m     \u001b[38;5;28;01mif\u001b[39;00m ackcmd\u001b[38;5;241m.\u001b[39mack \u001b[38;5;129;01min\u001b[39;00m \u001b[38;5;28mself\u001b[39m\u001b[38;5;241m.\u001b[39mfailed_ack_codes:\n\u001b[0;32m--> 201\u001b[0m         \u001b[38;5;28;01mraise\u001b[39;00m base\u001b[38;5;241m.\u001b[39mAckError(msg\u001b[38;5;241m=\u001b[39m\u001b[38;5;124m\"\u001b[39m\u001b[38;5;124mCommand failed\u001b[39m\u001b[38;5;124m\"\u001b[39m, ackcmd\u001b[38;5;241m=\u001b[39mackcmd)\n\u001b[1;32m    202\u001b[0m     \u001b[38;5;28;01mreturn\u001b[39;00m ackcmd\n\u001b[1;32m    203\u001b[0m \u001b[38;5;28;01mexcept\u001b[39;00m asyncio\u001b[38;5;241m.\u001b[39mTimeoutError:\n",
      "\u001b[0;31mAckError\u001b[0m: msg='Command failed', ackcmd=(ackcmd private_seqNum=859114781, ack=<SalRetCode.CMD_FAILED: -302>, error=1, result='Failed: Hexapod commands exceed allowed limits')"
     ]
    }
   ],
   "source": [
    "test_message = \"LVV-2261: Hexapod u=-0.36deg v=-0.36deg - Pathfinder Lines Not Pressurized\"\n",
=======
   "execution_count": null,
   "id": "c6be9144-a62a-4367-a091-60838baaa473",
   "metadata": {
    "tags": []
   },
   "outputs": [],
   "source": [
    "test_message = \"LVV-2261: Hexapod u=-0.253deg v=+0.253deg (total 0.36) - Pathfinder Lines Not Pressurized\"\n",
>>>>>>> Stashed changes
    "\n",
    "now = datetime.now()\n",
    "script.log.info(f\"START -- {test_message} -- Starting Time: {now} UTC\")\n",
    "\n",
<<<<<<< Updated upstream
    "for _v in [-0.08, -0.16, -0.32, -0.36]:\n",
    "    print(f\" {datetime.now()} - Moving Hexapod to v={_v}\")\n",
    "    await mtcs.rem.mthexapod_1.cmd_move.set_start(x=0, y=0, z=0, u=-0.36, v=_v, w=0, sync=True)\n",
=======
    "for _u in [0.36, 0.253, 0.12, 0, -0.12, -0.253]:\n",
    "    print(f\" {datetime.now()} - Moving Hexapod to u={_u}\")\n",
    "    await mtcs.rem.mthexapod_1.cmd_move.set_start(x=0, y=0, z=0, u=_u, v=0, w=0, sync=True)\n",
    "    await asyncio.sleep(15.)  # Just so if we need to press the e-stops\n",
    "    print(f\" Done.\")\n",
    "    \n",
    "for _v in [0.12, 0.253]:\n",
    "    print(f\" {datetime.now()} - Moving Hexapod to v={_v}\")\n",
    "    await mtcs.rem.mthexapod_1.cmd_move.set_start(x=0, y=0, z=0, u=-0.253, v=_v, w=0, sync=True)\n",
>>>>>>> Stashed changes
    "    await asyncio.sleep(15.)  # Just so if we need to press the e-stops\n",
    "    print(f\" Done.\")"
   ]
  },
  {
<<<<<<< Updated upstream
   "cell_type": "markdown",
   "id": "0fc5e396-0cc7-4303-a105-3fa2252bacb8",
   "metadata": {},
   "source": [
    "MTHexapod_1 did not go to fault. It simply rejected the command. Trying with half angles."
   ]
  },
  {
   "cell_type": "code",
   "execution_count": 59,
   "id": "ed2e84ec-2b0d-407b-aabb-d4b2c30d056c",
   "metadata": {
    "execution": {
     "iopub.execute_input": "2022-03-01T17:31:42.618697Z",
     "iopub.status.busy": "2022-03-01T17:31:42.618392Z",
     "iopub.status.idle": "2022-03-01T17:32:12.884928Z",
     "shell.execute_reply": "2022-03-01T17:32:12.884307Z",
     "shell.execute_reply.started": "2022-03-01T17:31:42.618679Z"
    }
   },
   "outputs": [
    {
     "data": {
      "text/html": [
       "<pre style=\"margin: 0.1em;\n",
       "padding-left: 0.25em;\n",
       "border-left-style: solid;\n",
       "font-family: var(--jp-code-font-family);\n",
       "font-size: var(--jp-code-font-size);\n",
       "line-height: var(--jp-code-line-height);\n",
       "\"><span style=\"color: var(--jp-warn-color2)\">Script</span> <span style=\"color: var(--jp-info-color0)\">INFO</span>: START -- LVV-2261: Hexapod u=-0.18deg v=-0.18deg - Pathfinder Lines Not Pressurized -- Starting Time: 2022-03-01 17:31:42.666555 UTC</pre>"
      ],
      "text/plain": [
       "<IPython.core.display.HTML object>"
      ]
     },
     "metadata": {},
     "output_type": "display_data"
    },
    {
     "name": "stdout",
     "output_type": "stream",
     "text": [
      " 2022-03-01 17:31:42.668428 - Moving Hexapod to v=-0.09\n",
      " Done.\n",
      " 2022-03-01 17:31:57.778242 - Moving Hexapod to v=-0.18\n",
      " Done.\n"
     ]
    }
   ],
   "source": [
    "test_message = \"LVV-2261: Hexapod u=-0.18deg v=-0.18deg - Pathfinder Lines Not Pressurized\"\n",
    "\n",
    "now = datetime.now()\n",
    "script.log.info(f\"START -- {test_message} -- Starting Time: {now} UTC\")\n",
    "\n",
    "for _v in [-0.09, -0.18]:\n",
    "    print(f\" {datetime.now()} - Moving Hexapod to v={_v}\")\n",
    "    await mtcs.rem.mthexapod_1.cmd_move.set_start(x=0, y=0, z=0, u=-0.18, v=_v, w=0, sync=True)\n",
    "    await asyncio.sleep(15.)  # Just so if we need to press the e-stops\n",
=======
   "cell_type": "code",
   "execution_count": null,
   "id": "db186381-3b2f-4861-a0d1-4c9a71395068",
   "metadata": {
    "tags": []
   },
   "outputs": [],
   "source": [
    "for p in [30, 60, 89.5, 60, 30, 0, -30, -60, -89.5, -60, 0]:\n",
    "    print(f\" {datetime.now()} - Moving to {p}\")\n",
    "    await mtcs.rem.mtrotator.cmd_move.set_start(position=p, timeout=5.)\n",
    "    await asyncio.sleep(20.)\n",
>>>>>>> Stashed changes
    "    print(f\" Done.\")"
   ]
  },
  {
   "cell_type": "code",
<<<<<<< Updated upstream
   "execution_count": 80,
   "id": "085cd8e0-9fa9-426e-8da8-ba2ba5422952",
   "metadata": {
    "execution": {
     "iopub.execute_input": "2022-03-01T17:51:14.870621Z",
     "iopub.status.busy": "2022-03-01T17:51:14.870352Z",
     "iopub.status.idle": "2022-03-01T17:51:15.027360Z",
     "shell.execute_reply": "2022-03-01T17:51:15.026930Z",
     "shell.execute_reply.started": "2022-03-01T17:51:14.870604Z"
    },
    "tags": []
   },
   "outputs": [
    {
     "data": {
      "text/plain": [
       "<ddsutil.MTRotator_ackcmd_f04f56ad at 0x7feec87ad760>"
      ]
     },
     "execution_count": 80,
     "metadata": {},
     "output_type": "execute_result"
    }
   ],
   "source": [
    "await mtcs.rem.mtrotator.cmd_move.set_start(position=4, timeout=10.) "
   ]
  },
  {
   "cell_type": "code",
   "execution_count": 81,
   "id": "6c21da95-9625-4812-97e8-e543285e125d",
   "metadata": {
    "execution": {
     "iopub.execute_input": "2022-03-01T17:51:24.603102Z",
     "iopub.status.busy": "2022-03-01T17:51:24.602411Z",
     "iopub.status.idle": "2022-03-01T17:51:24.728129Z",
     "shell.execute_reply": "2022-03-01T17:51:24.727729Z",
     "shell.execute_reply.started": "2022-03-01T17:51:24.603082Z"
    },
    "tags": []
   },
   "outputs": [
    {
     "data": {
      "text/plain": [
       "<ddsutil.MTRotator_ackcmd_f04f56ad at 0x7feeb7341550>"
      ]
     },
     "execution_count": 81,
     "metadata": {},
     "output_type": "execute_result"
    }
   ],
   "source": [
    "await mtcs.rem.mtrotator.cmd_move.set_start(position=2, timeout=10.) "
=======
   "execution_count": null,
   "id": "a78d9791-3899-43a5-a813-26c93ed732d9",
   "metadata": {
    "tags": []
   },
   "outputs": [],
   "source": [
    "now = datetime.now()\n",
    "script.log.info(f\"END -- {test_message} -- End Time: {now} UTC\")"
   ]
  },
  {
   "cell_type": "markdown",
   "id": "b84bc66a-6d5c-45bd-aac1-41ac4bce2586",
   "metadata": {},
   "source": [
    "## Iteration 6: Move the hexapod to (X=0, Y=0, Z=0, U=+0.253deg, V=+0.253deg, W=0)"
>>>>>>> Stashed changes
   ]
  },
  {
   "cell_type": "code",
<<<<<<< Updated upstream
   "execution_count": 82,
   "id": "7871e6a1-f3b6-470e-a18c-a31cda6da40b",
   "metadata": {
    "execution": {
     "iopub.execute_input": "2022-03-01T17:51:32.244532Z",
     "iopub.status.busy": "2022-03-01T17:51:32.244116Z",
     "iopub.status.idle": "2022-03-01T17:51:32.380421Z",
     "shell.execute_reply": "2022-03-01T17:51:32.379978Z",
     "shell.execute_reply.started": "2022-03-01T17:51:32.244515Z"
    },
    "tags": []
   },
   "outputs": [
    {
     "data": {
      "text/plain": [
       "<ddsutil.MTRotator_ackcmd_f04f56ad at 0x7feeb70a5460>"
      ]
     },
     "execution_count": 82,
     "metadata": {},
     "output_type": "execute_result"
    }
   ],
   "source": [
    "await mtcs.rem.mtrotator.cmd_move.set_start(position=0, timeout=10.) "
=======
   "execution_count": null,
   "id": "2f77e895-8c9d-425e-85df-6cdaa6c841b9",
   "metadata": {},
   "outputs": [],
   "source": [
    "test_message = \"LVV-2261: Hexapod x=0, Y=0, Z=0,U=+0.253deg, V=+0.253deg, W=0  - Pathfinder Lines Not Pressurized\"\n",
    "\n",
    "now = datetime.now()\n",
    "script.log.info(f\"START -- {test_message} -- Starting Time: {now} UTC\")\n",
    "print(f\" {datetime.now()} - Moving Hexapod to  x=0, Y=0, Z=0, U=+0.253deg, V=+0.253deg, W=0\")\n",
    "await mtcs.rem.mthexapod_1.cmd_move.set_start(x=0, y=0, z=0, u=+0.253, v=+0.253, w=0, sync=True)\n",
    "print(f\" Done.\")"
>>>>>>> Stashed changes
   ]
  },
  {
   "cell_type": "code",
<<<<<<< Updated upstream
   "execution_count": 83,
   "id": "637d0d44-c642-4398-93ab-31bc2f21cd2a",
   "metadata": {
    "execution": {
     "iopub.execute_input": "2022-03-01T17:51:45.435398Z",
     "iopub.status.busy": "2022-03-01T17:51:45.435119Z",
     "iopub.status.idle": "2022-03-01T17:53:16.406432Z",
     "shell.execute_reply": "2022-03-01T17:53:16.405932Z",
     "shell.execute_reply.started": "2022-03-01T17:51:45.435380Z"
    },
    "tags": []
   },
   "outputs": [
    {
     "name": "stdout",
     "output_type": "stream",
     "text": [
      " 2022-03-01 17:51:45.481633 - Moving to 10\n",
      " Done.\n",
      " 2022-03-01 17:51:55.581320 - Moving to 20\n",
      " Done.\n",
      " 2022-03-01 17:52:05.684136 - Moving to 30\n",
      " Done.\n",
      " 2022-03-01 17:52:15.787996 - Moving to 40\n",
      " Done.\n",
      " 2022-03-01 17:52:25.889605 - Moving to 50\n",
      " Done.\n",
      " 2022-03-01 17:52:35.994239 - Moving to 60\n",
      " Done.\n",
      " 2022-03-01 17:52:46.098245 - Moving to 70\n",
      " Done.\n",
      " 2022-03-01 17:52:56.199787 - Moving to 80\n",
      " Done.\n",
      " 2022-03-01 17:53:06.300267 - Moving to 89.5\n",
      " Done.\n"
     ]
    }
   ],
   "source": [
    "for p in [10, 20, 30, 40, 50, 60, 70, 80, 89.5]:\n",
    "    print(f\" {datetime.now()} - Moving to {p}\")\n",
    "    await mtcs.rem.mtrotator.cmd_move.set_start(position=p, timeout=5.)\n",
    "    await asyncio.sleep(10.)\n",
=======
   "execution_count": null,
   "id": "409168ea-0053-4c9f-8edc-1ab7a2f27bae",
   "metadata": {
    "tags": []
   },
   "outputs": [],
   "source": [
    "for p in [30, 60, 89.5, 60, 30, 0, -30, -60, -89.5, -60, 0]:\n",
    "    print(f\" {datetime.now()} - Moving to {p}\")\n",
    "    await mtcs.rem.mtrotator.cmd_move.set_start(position=p, timeout=5.)\n",
    "    await asyncio.sleep(20.)\n",
>>>>>>> Stashed changes
    "    print(f\" Done.\")"
   ]
  },
  {
   "cell_type": "code",
<<<<<<< Updated upstream
   "execution_count": 84,
   "id": "25d08556-68a1-4e1b-bb28-e5b4a83b7910",
   "metadata": {
    "execution": {
     "iopub.execute_input": "2022-03-01T17:54:05.541653Z",
     "iopub.status.busy": "2022-03-01T17:54:05.541366Z",
     "iopub.status.idle": "2022-03-01T17:55:36.494885Z",
     "shell.execute_reply": "2022-03-01T17:55:36.493472Z",
     "shell.execute_reply.started": "2022-03-01T17:54:05.541635Z"
    },
    "tags": []
   },
   "outputs": [
    {
     "name": "stdout",
     "output_type": "stream",
     "text": [
      " 2022-03-01 17:54:05.585218 - Moving to 80 deg\n",
      "  Done.\n",
      " 2022-03-01 17:54:15.669593 - Moving to 70 deg\n",
      "  Done.\n",
      " 2022-03-01 17:54:25.771522 - Moving to 60 deg\n",
      "  Done.\n",
      " 2022-03-01 17:54:35.874418 - Moving to 50 deg\n",
      "  Done.\n",
      " 2022-03-01 17:54:45.978971 - Moving to 40 deg\n",
      "  Done.\n",
      " 2022-03-01 17:54:56.079965 - Moving to 30 deg\n",
      "  Done.\n",
      " 2022-03-01 17:55:06.185568 - Moving to 20 deg\n",
      "  Done.\n",
      " 2022-03-01 17:55:16.288734 - Moving to 10 deg\n",
      "  Done.\n",
      " 2022-03-01 17:55:26.389380 - Moving to 0 deg\n",
      "  Done.\n"
     ]
    }
   ],
   "source": [
    "for p in [80, 70, 60, 50, 40, 30, 20, 10, 0]:\n",
    "    print(f\" {datetime.now()} - Moving to {p} deg\")\n",
    "    await mtcs.rem.mtrotator.cmd_move.set_start(position=p, timeout=5)\n",
    "    await asyncio.sleep(10.)\n",
    "    print(f\"  Done.\")"
   ]
  },
  {
   "cell_type": "code",
   "execution_count": 85,
   "id": "d7ce3d0f-a657-4f67-afbe-d4ba37efcb73",
   "metadata": {
    "execution": {
     "iopub.execute_input": "2022-03-01T17:55:36.497469Z",
     "iopub.status.busy": "2022-03-01T17:55:36.497180Z",
     "iopub.status.idle": "2022-03-01T17:57:07.468557Z",
     "shell.execute_reply": "2022-03-01T17:57:07.468082Z",
     "shell.execute_reply.started": "2022-03-01T17:55:36.497449Z"
    },
    "tags": []
   },
   "outputs": [
    {
     "name": "stdout",
     "output_type": "stream",
     "text": [
      " 2022-03-01 17:55:36.537969 - Moving to -10 deg\n",
      "  Done.\n",
      " 2022-03-01 17:55:46.643893 - Moving to -20 deg\n",
      "  Done.\n",
      " 2022-03-01 17:55:56.746790 - Moving to -30 deg\n",
      "  Done.\n",
      " 2022-03-01 17:56:06.849358 - Moving to -40 deg\n",
      "  Done.\n",
      " 2022-03-01 17:56:16.952092 - Moving to -50 deg\n",
      "  Done.\n",
      " 2022-03-01 17:56:27.055500 - Moving to -60 deg\n",
      "  Done.\n",
      " 2022-03-01 17:56:37.161428 - Moving to -70 deg\n",
      "  Done.\n",
      " 2022-03-01 17:56:47.260884 - Moving to -80 deg\n",
      "  Done.\n",
      " 2022-03-01 17:56:57.364427 - Moving to -89.5 deg\n",
      "  Done.\n"
     ]
    }
   ],
   "source": [
    "for p in [-10, -20, -30, -40, -50, -60, -70, -80, -89.5]:\n",
    "    print(f\" {datetime.now()} - Moving to {p} deg\")\n",
    "    await mtcs.rem.mtrotator.cmd_move.set_start(position=p, timeout=5)\n",
    "    await asyncio.sleep(10.)\n",
    "    print(f\"  Done.\")"
   ]
  },
  {
   "cell_type": "code",
   "execution_count": 86,
   "id": "a3f0bd55-fa3f-4684-a4dc-6325eecdb3d9",
   "metadata": {
    "execution": {
     "iopub.execute_input": "2022-03-01T17:57:07.469624Z",
     "iopub.status.busy": "2022-03-01T17:57:07.469231Z",
     "iopub.status.idle": "2022-03-01T17:58:38.446778Z",
     "shell.execute_reply": "2022-03-01T17:58:38.445829Z",
     "shell.execute_reply.started": "2022-03-01T17:57:07.469606Z"
    },
    "tags": []
   },
   "outputs": [
    {
     "name": "stdout",
     "output_type": "stream",
     "text": [
      " 2022-03-01 17:57:07.524208 - Moving to -80 deg\n",
      "  Done.\n",
      " 2022-03-01 17:57:17.619072 - Moving to -70 deg\n",
      "  Done.\n",
      " 2022-03-01 17:57:27.721887 - Moving to -60 deg\n",
      "  Done.\n",
      " 2022-03-01 17:57:37.826180 - Moving to -50 deg\n",
      "  Done.\n",
      " 2022-03-01 17:57:47.927660 - Moving to -40 deg\n",
      "  Done.\n",
      " 2022-03-01 17:57:58.029553 - Moving to -30 deg\n",
      "  Done.\n",
      " 2022-03-01 17:58:08.132707 - Moving to -20 deg\n",
      "  Done.\n",
      " 2022-03-01 17:58:18.235771 - Moving to -10 deg\n",
      "  Done.\n",
      " 2022-03-01 17:58:28.337658 - Moving to 0 deg\n",
      "  Done.\n"
     ]
    }
   ],
   "source": [
    "for p in [-80, -70, -60, -50, -40, -30, -20, -10, -0]:\n",
    "    print(f\" {datetime.now()} - Moving to {p} deg\")\n",
    "    await mtcs.rem.mtrotator.cmd_move.set_start(position=p, timeout=5)\n",
    "    await asyncio.sleep(10.)\n",
    "    print(f\"  Done.\")"
   ]
  },
  {
   "cell_type": "code",
   "execution_count": 87,
   "id": "ebc7d84f-ab66-4c07-a2fa-aa57006d1ae4",
   "metadata": {
    "execution": {
     "iopub.execute_input": "2022-03-01T17:58:38.447576Z",
     "iopub.status.busy": "2022-03-01T17:58:38.447457Z",
     "iopub.status.idle": "2022-03-01T17:58:38.491844Z",
     "shell.execute_reply": "2022-03-01T17:58:38.491547Z",
     "shell.execute_reply.started": "2022-03-01T17:58:38.447561Z"
    },
    "tags": []
   },
   "outputs": [
    {
     "data": {
      "text/html": [
       "<pre style=\"margin: 0.1em;\n",
       "padding-left: 0.25em;\n",
       "border-left-style: solid;\n",
       "font-family: var(--jp-code-font-family);\n",
       "font-size: var(--jp-code-font-size);\n",
       "line-height: var(--jp-code-line-height);\n",
       "\"><span style=\"color: var(--jp-warn-color2)\">Script</span> <span style=\"color: var(--jp-info-color0)\">INFO</span>: END -- LVV-2261: Hexapod u=-0.25deg v=-0.25deg (total 0.36) - Pathfinder Lines Not Pressurized -- End Time: 2022-03-01 17:58:38.488162 UTC</pre>"
      ],
      "text/plain": [
       "<IPython.core.display.HTML object>"
      ]
     },
     "metadata": {},
     "output_type": "display_data"
    }
   ],
=======
   "execution_count": null,
   "id": "ef6db8a7-44f4-47ec-9306-1b56896a678f",
   "metadata": {
    "tags": []
   },
   "outputs": [],
>>>>>>> Stashed changes
   "source": [
    "now = datetime.now()\n",
    "script.log.info(f\"END -- {test_message} -- End Time: {now} UTC\")"
   ]
  },
  {
<<<<<<< Updated upstream
   "cell_type": "code",
   "execution_count": null,
   "id": "60ace8e7-38a8-4e98-81cd-5539fb68a2fb",
   "metadata": {},
   "outputs": [],
   "source": []
  },
  {
   "cell_type": "markdown",
   "id": "26e9d4db-457c-4560-b43b-0cc78c7ad670",
   "metadata": {},
   "source": [
    "## u=-0.253 v=-0.253"
=======
   "cell_type": "markdown",
   "id": "d72778ac-cb89-4fa4-8714-e093d8f202b7",
   "metadata": {},
   "source": [
    "## Iteration 7: Move the hexapod to (X=0, Y=0, Z=0, U=+0.253deg, V=-0.253deg, W=0)"
>>>>>>> Stashed changes
   ]
  },
  {
   "cell_type": "code",
<<<<<<< Updated upstream
   "execution_count": 72,
   "id": "53f63b32-9096-4624-9737-b69493d7b972",
   "metadata": {
    "execution": {
     "iopub.execute_input": "2022-03-01T17:45:20.623234Z",
     "iopub.status.busy": "2022-03-01T17:45:20.622972Z",
     "iopub.status.idle": "2022-03-01T17:45:35.782035Z",
     "shell.execute_reply": "2022-03-01T17:45:35.781725Z",
     "shell.execute_reply.started": "2022-03-01T17:45:20.623215Z"
    },
    "tags": []
   },
   "outputs": [
    {
     "data": {
      "text/html": [
       "<pre style=\"margin: 0.1em;\n",
       "padding-left: 0.25em;\n",
       "border-left-style: solid;\n",
       "font-family: var(--jp-code-font-family);\n",
       "font-size: var(--jp-code-font-size);\n",
       "line-height: var(--jp-code-line-height);\n",
       "\"><span style=\"color: var(--jp-warn-color2)\">Script</span> <span style=\"color: var(--jp-info-color0)\">INFO</span>: START -- LVV-2261: Hexapod u=-0.25deg v=-0.25deg (total 0.36) - Pathfinder Lines Not Pressurized -- Starting Time: 2022-03-01 17:45:20.661638 UTC</pre>"
      ],
      "text/plain": [
       "<IPython.core.display.HTML object>"
      ]
     },
     "metadata": {},
     "output_type": "display_data"
    },
    {
     "name": "stdout",
     "output_type": "stream",
     "text": [
      " 2022-03-01 17:45:20.663425 - Moving Hexapod to v=-0.18\n",
      " Done.\n"
     ]
    }
   ],
   "source": [
    "test_message = \"LVV-2261: Hexapod u=-0.253deg v=-0.253deg (total 0.36) - Pathfinder Lines Not Pressurized\"\n",
    "\n",
    "now = datetime.now()\n",
    "script.log.info(f\"START -- {test_message} -- Starting Time: {now} UTC\")\n",
    "\n",
    "await mtcs.rem.mthexapod_1.cmd_move.set_start(x=0, y=0, z=0, u=-0.253, v=-0.253, w=0, sync=True)\n",
    "await asyncio.sleep(15.)  # Just so if we need to press the e-stops\n",
=======
   "execution_count": null,
   "id": "9d6f62ba-e4b4-45e2-a9db-ca29d06e51b1",
   "metadata": {},
   "outputs": [],
   "source": [
    "test_message = \"LVV-2261: Hexapod x=0, Y=0, Z=0,U=+0.253deg, V=-0.253deg, W=0  - Pathfinder Lines Not Pressurized\"\n",
    "\n",
    "now = datetime.now()\n",
    "script.log.info(f\"START -- {test_message} -- Starting Time: {now} UTC\")\n",
    "print(f\" {datetime.now()} - Moving Hexapod to  x=0, Y=0, Z=0, U=+0.253deg, V=-0.253deg, W=0\")\n",
    "await mtcs.rem.mthexapod_1.cmd_move.set_start(x=0, y=0, z=0, u=+0.253, v=-0.253, w=0, sync=True)\n",
>>>>>>> Stashed changes
    "print(f\" Done.\")"
   ]
  },
  {
   "cell_type": "code",
<<<<<<< Updated upstream
   "execution_count": 65,
   "id": "5beeca0b-4b9a-4c89-8449-fca32c308727",
   "metadata": {
    "execution": {
     "iopub.execute_input": "2022-03-01T17:35:53.597215Z",
     "iopub.status.busy": "2022-03-01T17:35:53.596954Z",
     "iopub.status.idle": "2022-03-01T17:37:24.559136Z",
     "shell.execute_reply": "2022-03-01T17:37:24.558665Z",
     "shell.execute_reply.started": "2022-03-01T17:35:53.597198Z"
    },
    "tags": []
   },
   "outputs": [
    {
     "name": "stdout",
     "output_type": "stream",
     "text": [
      " 2022-03-01 17:35:53.643729 - Moving to 10\n",
      " Done.\n",
      " 2022-03-01 17:36:03.735685 - Moving to 20\n",
      " Done.\n",
      " 2022-03-01 17:36:13.837529 - Moving to 30\n",
      " Done.\n",
      " 2022-03-01 17:36:23.939488 - Moving to 40\n",
      " Done.\n",
      " 2022-03-01 17:36:34.042295 - Moving to 50\n",
      " Done.\n",
      " 2022-03-01 17:36:44.145934 - Moving to 60\n",
      " Done.\n",
      " 2022-03-01 17:36:54.247183 - Moving to 70\n",
      " Done.\n",
      " 2022-03-01 17:37:04.352211 - Moving to 80\n",
      " Done.\n",
      " 2022-03-01 17:37:14.453129 - Moving to 89.5\n",
      " Done.\n"
     ]
    }
   ],
   "source": [
    "for p in [10, 20, 30, 40, 50, 60, 70, 80, 89.5]:\n",
    "    print(f\" {datetime.now()} - Moving to {p}\")\n",
    "    await mtcs.rem.mtrotator.cmd_move.set_start(position=p, timeout=5.)\n",
    "    await asyncio.sleep(10.)\n",
=======
   "execution_count": null,
   "id": "59d02900-e731-480c-a493-e02c6f429490",
   "metadata": {
    "tags": []
   },
   "outputs": [],
   "source": [
    "for p in [30, 60, 89.5, 60, 30, 0, -30, -60, -89.5, -60, 0]:\n",
    "    print(f\" {datetime.now()} - Moving to {p}\")\n",
    "    await mtcs.rem.mtrotator.cmd_move.set_start(position=p, timeout=5.)\n",
    "    await asyncio.sleep(20.)\n",
>>>>>>> Stashed changes
    "    print(f\" Done.\")"
   ]
  },
  {
   "cell_type": "code",
<<<<<<< Updated upstream
   "execution_count": 66,
   "id": "d287f1c4-9d57-44d7-8030-79784dd4c580",
   "metadata": {
    "execution": {
     "iopub.execute_input": "2022-03-01T17:37:24.560296Z",
     "iopub.status.busy": "2022-03-01T17:37:24.559950Z",
     "iopub.status.idle": "2022-03-01T17:38:55.483716Z",
     "shell.execute_reply": "2022-03-01T17:38:55.483225Z",
     "shell.execute_reply.started": "2022-03-01T17:37:24.560278Z"
    },
    "tags": []
   },
   "outputs": [
    {
     "name": "stdout",
     "output_type": "stream",
     "text": [
      " 2022-03-01 17:37:24.602197 - Moving to 80 deg\n",
      "  Done.\n",
      " 2022-03-01 17:37:34.708357 - Moving to 70 deg\n",
      "  Done.\n",
      " 2022-03-01 17:37:44.812349 - Moving to 60 deg\n",
      "  Done.\n",
      " 2022-03-01 17:37:54.913324 - Moving to 50 deg\n",
      "  Done.\n",
      " 2022-03-01 17:38:05.015450 - Moving to 40 deg\n",
      "  Done.\n",
      " 2022-03-01 17:38:15.068084 - Moving to 30 deg\n",
      "  Done.\n",
      " 2022-03-01 17:38:25.170727 - Moving to 20 deg\n",
      "  Done.\n",
      " 2022-03-01 17:38:35.275286 - Moving to 10 deg\n",
      "  Done.\n",
      " 2022-03-01 17:38:45.377390 - Moving to 0 deg\n",
      "  Done.\n"
     ]
    }
   ],
   "source": [
    "for p in [80, 70, 60, 50, 40, 30, 20, 10, 0]:\n",
    "    print(f\" {datetime.now()} - Moving to {p} deg\")\n",
    "    await mtcs.rem.mtrotator.cmd_move.set_start(position=p, timeout=5)\n",
    "    await asyncio.sleep(10.)\n",
    "    print(f\"  Done.\")"
   ]
  },
  {
   "cell_type": "code",
   "execution_count": 67,
   "id": "2c18f649-4a96-492e-99ee-392cec5e135a",
   "metadata": {
    "execution": {
     "iopub.execute_input": "2022-03-01T17:38:55.484507Z",
     "iopub.status.busy": "2022-03-01T17:38:55.484386Z",
     "iopub.status.idle": "2022-03-01T17:40:26.463487Z",
     "shell.execute_reply": "2022-03-01T17:40:26.456604Z",
     "shell.execute_reply.started": "2022-03-01T17:38:55.484493Z"
    },
    "tags": []
   },
   "outputs": [
    {
     "name": "stdout",
     "output_type": "stream",
     "text": [
      " 2022-03-01 17:38:55.525720 - Moving to -10 deg\n",
      "  Done.\n",
      " 2022-03-01 17:39:05.632039 - Moving to -20 deg\n",
      "  Done.\n",
      " 2022-03-01 17:39:15.733891 - Moving to -30 deg\n",
      "  Done.\n",
      " 2022-03-01 17:39:25.837350 - Moving to -40 deg\n",
      "  Done.\n",
      " 2022-03-01 17:39:35.941882 - Moving to -50 deg\n",
      "  Done.\n",
      " 2022-03-01 17:39:46.043007 - Moving to -60 deg\n",
      "  Done.\n",
      " 2022-03-01 17:39:56.144833 - Moving to -70 deg\n",
      "  Done.\n",
      " 2022-03-01 17:40:06.247387 - Moving to -80 deg\n",
      "  Done.\n",
      " 2022-03-01 17:40:16.350925 - Moving to -89.5 deg\n",
      "  Done.\n"
     ]
    }
   ],
   "source": [
    "for p in [-10, -20, -30, -40, -50, -60, -70, -80, -89.5]:\n",
    "    print(f\" {datetime.now()} - Moving to {p} deg\")\n",
    "    await mtcs.rem.mtrotator.cmd_move.set_start(position=p, timeout=5)\n",
    "    await asyncio.sleep(10.)\n",
    "    print(f\"  Done.\")"
=======
   "execution_count": null,
   "id": "cb642146-843a-4ac6-8aeb-f5d743d4a482",
   "metadata": {
    "tags": []
   },
   "outputs": [],
   "source": [
    "now = datetime.now()\n",
    "script.log.info(f\"END -- {test_message} -- End Time: {now} UTC\")"
   ]
  },
  {
   "cell_type": "markdown",
   "id": "92465d98-1efe-467a-ae5e-cc41e63e2240",
   "metadata": {
    "tags": []
   },
   "source": [
    "## Iteration 8: Move the hexapod to (X=0, Y=0, Z=0, U=0deg, V=0.36deg, W=0)"
>>>>>>> Stashed changes
   ]
  },
  {
   "cell_type": "code",
<<<<<<< Updated upstream
   "execution_count": 68,
   "id": "f440cf95-2941-4669-8aad-88207c9588e5",
   "metadata": {
    "execution": {
     "iopub.execute_input": "2022-03-01T17:40:26.464431Z",
     "iopub.status.busy": "2022-03-01T17:40:26.464213Z",
     "iopub.status.idle": "2022-03-01T17:41:57.428172Z",
     "shell.execute_reply": "2022-03-01T17:41:57.427671Z",
     "shell.execute_reply.started": "2022-03-01T17:40:26.464417Z"
    },
    "tags": []
   },
   "outputs": [
    {
     "name": "stdout",
     "output_type": "stream",
     "text": [
      " 2022-03-01 17:40:26.512502 - Moving to -80 deg\n",
      "  Done.\n",
      " 2022-03-01 17:40:36.605438 - Moving to -70 deg\n",
      "  Done.\n",
      " 2022-03-01 17:40:46.708369 - Moving to -60 deg\n",
      "  Done.\n",
      " 2022-03-01 17:40:56.810908 - Moving to -50 deg\n",
      "  Done.\n",
      " 2022-03-01 17:41:06.916935 - Moving to -40 deg\n",
      "  Done.\n",
      " 2022-03-01 17:41:17.018619 - Moving to -30 deg\n",
      "  Done.\n",
      " 2022-03-01 17:41:27.118558 - Moving to -20 deg\n",
      "  Done.\n",
      " 2022-03-01 17:41:37.223863 - Moving to -10 deg\n",
      "  Done.\n",
      " 2022-03-01 17:41:47.323609 - Moving to 0 deg\n",
      "  Done.\n"
     ]
    }
   ],
   "source": [
    "for p in [-80, -70, -60, -50, -40, -30, -20, -10, -0]:\n",
    "    print(f\" {datetime.now()} - Moving to {p} deg\")\n",
    "    await mtcs.rem.mtrotator.cmd_move.set_start(position=p, timeout=5)\n",
    "    await asyncio.sleep(10.)\n",
    "    print(f\"  Done.\")"
   ]
  },
  {
   "cell_type": "markdown",
   "id": "49d4fff2-be09-4e7e-b75a-02155cbe3aee",
   "metadata": {},
   "source": [
    "## u=0.36 v=0.00"
   ]
  },
  {
   "cell_type": "code",
   "execution_count": 88,
   "id": "55ee52e1-f222-482c-b526-d4fa97b1ed91",
   "metadata": {
    "execution": {
     "iopub.execute_input": "2022-03-01T18:00:45.560862Z",
     "iopub.status.busy": "2022-03-01T18:00:45.560654Z",
     "iopub.status.idle": "2022-03-01T18:03:16.742951Z",
     "shell.execute_reply": "2022-03-01T18:03:16.742484Z",
     "shell.execute_reply.started": "2022-03-01T18:00:45.560845Z"
    }
   },
   "outputs": [
    {
     "data": {
      "text/html": [
       "<pre style=\"margin: 0.1em;\n",
       "padding-left: 0.25em;\n",
       "border-left-style: solid;\n",
       "font-family: var(--jp-code-font-family);\n",
       "font-size: var(--jp-code-font-size);\n",
       "line-height: var(--jp-code-line-height);\n",
       "\"><span style=\"color: var(--jp-warn-color2)\">Script</span> <span style=\"color: var(--jp-info-color0)\">INFO</span>: START -- LVV-2261: Hexapod u=+0.36deg v=0.00deg - Pathfinder Lines Not Pressurized -- Starting Time: 2022-03-01 18:00:45.600340 UTC</pre>"
      ],
      "text/plain": [
       "<IPython.core.display.HTML object>"
      ]
     },
     "metadata": {},
     "output_type": "display_data"
    },
    {
     "name": "stdout",
     "output_type": "stream",
     "text": [
      " 2022-03-01 18:00:45.602733 - Moving Hexapod to v=-0.25\n",
      " Done.\n",
      " 2022-03-01 18:01:00.736099 - Moving Hexapod to v=-0.14\n",
      " Done.\n",
      " 2022-03-01 18:01:15.841932 - Moving Hexapod to v=0.0\n",
      " Done.\n",
      " 2022-03-01 18:01:30.948384 - Moving Hexapod to u=-0.25\n",
      " Done.\n",
      " 2022-03-01 18:01:46.052555 - Moving Hexapod to u=-0.14\n",
      " Done.\n",
      " 2022-03-01 18:02:01.209350 - Moving Hexapod to u=0.0\n",
      " Done.\n",
      " 2022-03-01 18:02:16.315069 - Moving Hexapod to u=0.08\n",
      " Done.\n",
      " 2022-03-01 18:02:31.422196 - Moving Hexapod to u=0.16\n",
      " Done.\n",
      " 2022-03-01 18:02:46.526682 - Moving Hexapod to u=0.32\n",
      " Done.\n",
      " 2022-03-01 18:03:01.634525 - Moving Hexapod to u=0.36\n",
      " Done.\n"
     ]
    }
   ],
   "source": [
    "test_message = \"LVV-2261: Hexapod u=+0.36deg v=0.00deg - Pathfinder Lines Not Pressurized\"\n",
    "\n",
    "now = datetime.now()\n",
    "script.log.info(f\"START -- {test_message} -- Starting Time: {now} UTC\")\n",
    "\n",
    "\n",
    "for _v in [-0.25, -0.14, 0.00]:\n",
    "    print(f\" {datetime.now()} - Moving Hexapod to v={_v}\")\n",
    "    await mtcs.rem.mthexapod_1.cmd_move.set_start(x=0, y=0, z=0, u=-0.25, v=_v, w=0, sync=True)\n",
    "    await asyncio.sleep(15.)  # Just so if we need to press the e-stops\n",
    "    print(f\" Done.\")\n",
    "    \n",
    "    \n",
    "for _u in [-0.25, -0.14, 0.00, 0.08, 0.16, 0.32, 0.36]:\n",
    "    print(f\" {datetime.now()} - Moving Hexapod to u={_u}\")\n",
    "    await mtcs.rem.mthexapod_1.cmd_move.set_start(x=0, y=0, z=0, u=_u, v=0, w=0, sync=True)\n",
    "    await asyncio.sleep(15.)  # Just so if we need to press the e-stops\n",
    "    print(f\" Done.\")"
=======
   "execution_count": null,
   "id": "7a10bef5-cc2a-4a1d-8b4f-df402f857d68",
   "metadata": {},
   "outputs": [],
   "source": [
    "test_message = \"LVV-2261: Hexapod x=0, Y=0, Z=0,U=0, V=+0.36deg, W=0  - Pathfinder Lines Not Pressurized\"\n",
    "\n",
    "now = datetime.now()\n",
    "script.log.info(f\"START -- {test_message} -- Starting Time: {now} UTC\")\n",
    "print(f\" {datetime.now()} - Moving Hexapod to  x=0, Y=0, Z=0, U=0, V=0.36deg, W=0\")\n",
    "await mtcs.rem.mthexapod_1.cmd_move.set_start(x=0, y=0, z=0, u=0, v=0.36, w=0, sync=True)\n",
    "print(f\" Done.\")"
>>>>>>> Stashed changes
   ]
  },
  {
   "cell_type": "code",
   "execution_count": null,
<<<<<<< Updated upstream
   "id": "48ad3500-67b4-4fec-8312-3c43eaec09eb",
   "metadata": {},
   "outputs": [],
   "source": [
    "await mtcs.slew_object()"
   ]
  },
  {
   "cell_type": "code",
   "execution_count": 96,
   "id": "2b3ea37f-150a-4aa9-b7a1-f9239bf7c839",
   "metadata": {
    "execution": {
     "iopub.execute_input": "2022-03-01T18:06:30.394105Z",
     "iopub.status.busy": "2022-03-01T18:06:30.393835Z",
     "iopub.status.idle": "2022-03-01T18:06:30.576983Z",
     "shell.execute_reply": "2022-03-01T18:06:30.576569Z",
     "shell.execute_reply.started": "2022-03-01T18:06:30.394087Z"
    },
    "tags": []
   },
   "outputs": [
    {
     "data": {
      "text/plain": [
       "<ddsutil.MTRotator_ackcmd_f04f56ad at 0x7feec8738160>"
      ]
     },
     "execution_count": 96,
     "metadata": {},
     "output_type": "execute_result"
    }
   ],
   "source": [
    "await mtcs.rem.mtrotator.cmd_move.set_start(position=5, timeout=10.)"
   ]
  },
  {
   "cell_type": "code",
   "execution_count": 92,
   "id": "d8b12911-798b-4b4e-93ec-50fc9ae55598",
   "metadata": {
    "execution": {
     "iopub.execute_input": "2022-03-01T18:04:19.157464Z",
     "iopub.status.busy": "2022-03-01T18:04:19.157078Z",
     "iopub.status.idle": "2022-03-01T18:04:19.287744Z",
     "shell.execute_reply": "2022-03-01T18:04:19.287336Z",
     "shell.execute_reply.started": "2022-03-01T18:04:19.157445Z"
    },
    "tags": []
   },
   "outputs": [
    {
     "data": {
      "text/plain": [
       "<ddsutil.MTRotator_ackcmd_f04f56ad at 0x7feec86f8100>"
      ]
     },
     "execution_count": 92,
     "metadata": {},
     "output_type": "execute_result"
    }
   ],
   "source": [
    "await mtcs.rem.mtrotator.cmd_move.set_start(position=2, timeout=10.) "
=======
   "id": "e9e469dd-db9b-447e-84bf-f656074f1b72",
   "metadata": {
    "tags": []
   },
   "outputs": [],
   "source": [
    "for p in [30, 60, 89.5, 60, 30, 0, -30, -60, -89.5, -60, 0]:\n",
    "    print(f\" {datetime.now()} - Moving to {p}\")\n",
    "    await mtcs.rem.mtrotator.cmd_move.set_start(position=p, timeout=5.)\n",
    "    await asyncio.sleep(20.)\n",
    "    print(f\" Done.\")"
>>>>>>> Stashed changes
   ]
  },
  {
   "cell_type": "code",
<<<<<<< Updated upstream
   "execution_count": 97,
   "id": "3d856dfd-6b69-44fd-9cf7-7f9aa9cabc09",
   "metadata": {
    "execution": {
     "iopub.execute_input": "2022-03-01T18:06:41.454149Z",
     "iopub.status.busy": "2022-03-01T18:06:41.453858Z",
     "iopub.status.idle": "2022-03-01T18:06:41.625446Z",
     "shell.execute_reply": "2022-03-01T18:06:41.625039Z",
     "shell.execute_reply.started": "2022-03-01T18:06:41.454132Z"
    },
    "tags": []
   },
   "outputs": [
    {
     "data": {
      "text/plain": [
       "<ddsutil.MTRotator_ackcmd_f04f56ad at 0x7fef14b0e3d0>"
      ]
     },
     "execution_count": 97,
     "metadata": {},
     "output_type": "execute_result"
    }
   ],
   "source": [
    "await mtcs.rem.mtrotator.cmd_move.set_start(position=0, timeout=10.) "
   ]
  },
  {
   "cell_type": "code",
   "execution_count": 98,
   "id": "bfe77e76-817c-4be7-ae69-e716aa965c21",
   "metadata": {
    "execution": {
     "iopub.execute_input": "2022-03-01T18:07:38.149989Z",
     "iopub.status.busy": "2022-03-01T18:07:38.149463Z",
     "iopub.status.idle": "2022-03-01T18:09:09.113800Z",
     "shell.execute_reply": "2022-03-01T18:09:09.113323Z",
     "shell.execute_reply.started": "2022-03-01T18:07:38.149971Z"
    },
    "tags": []
   },
   "outputs": [
    {
     "name": "stdout",
     "output_type": "stream",
     "text": [
      " 2022-03-01 18:07:38.193059 - Moving to 10\n",
      " Done.\n",
      " 2022-03-01 18:07:48.288464 - Moving to 20\n",
      " Done.\n",
      " 2022-03-01 18:07:58.394946 - Moving to 30\n",
      " Done.\n",
      " 2022-03-01 18:08:08.495340 - Moving to 40\n",
      " Done.\n",
      " 2022-03-01 18:08:18.595880 - Moving to 50\n",
      " Done.\n",
      " 2022-03-01 18:08:28.698996 - Moving to 60\n",
      " Done.\n",
      " 2022-03-01 18:08:38.801959 - Moving to 70\n",
      " Done.\n",
      " 2022-03-01 18:08:48.903606 - Moving to 80\n",
      " Done.\n",
      " 2022-03-01 18:08:59.009652 - Moving to 89.5\n",
      " Done.\n"
     ]
    }
   ],
   "source": [
    "for p in [10, 20, 30, 40, 50, 60, 70, 80, 89.5]:\n",
    "    print(f\" {datetime.now()} - Moving to {p}\")\n",
    "    await mtcs.rem.mtrotator.cmd_move.set_start(position=p, timeout=5.)\n",
    "    await asyncio.sleep(10.)\n",
    "    print(f\" Done.\")"
   ]
  },
  {
   "cell_type": "code",
   "execution_count": 99,
   "id": "1d759816-48ef-4843-9889-b7cb998da823",
   "metadata": {
    "execution": {
     "iopub.execute_input": "2022-03-01T18:09:09.114630Z",
     "iopub.status.busy": "2022-03-01T18:09:09.114504Z",
     "iopub.status.idle": "2022-03-01T18:10:40.085208Z",
     "shell.execute_reply": "2022-03-01T18:10:40.084703Z",
     "shell.execute_reply.started": "2022-03-01T18:09:09.114616Z"
    },
    "tags": []
   },
   "outputs": [
    {
     "name": "stdout",
     "output_type": "stream",
     "text": [
      " 2022-03-01 18:09:09.154038 - Moving to 80 deg\n",
      "  Done.\n",
      " 2022-03-01 18:09:19.261779 - Moving to 70 deg\n",
      "  Done.\n",
      " 2022-03-01 18:09:29.364206 - Moving to 60 deg\n",
      "  Done.\n",
      " 2022-03-01 18:09:39.467331 - Moving to 50 deg\n",
      "  Done.\n",
      " 2022-03-01 18:09:49.569776 - Moving to 40 deg\n",
      "  Done.\n",
      " 2022-03-01 18:09:59.672876 - Moving to 30 deg\n",
      "  Done.\n",
      " 2022-03-01 18:10:09.775204 - Moving to 20 deg\n",
      "  Done.\n",
      " 2022-03-01 18:10:19.877651 - Moving to 10 deg\n",
      "  Done.\n",
      " 2022-03-01 18:10:29.979788 - Moving to 0 deg\n",
      "  Done.\n"
     ]
    }
   ],
   "source": [
    "for p in [80, 70, 60, 50, 40, 30, 20, 10, 0]:\n",
    "    print(f\" {datetime.now()} - Moving to {p} deg\")\n",
    "    await mtcs.rem.mtrotator.cmd_move.set_start(position=p, timeout=5)\n",
    "    await asyncio.sleep(10.)\n",
    "    print(f\"  Done.\")"
   ]
  },
  {
   "cell_type": "code",
   "execution_count": 100,
   "id": "d7418f5d-aa48-4e11-b786-58c8611a83ac",
   "metadata": {
    "execution": {
     "iopub.execute_input": "2022-03-01T18:10:40.086201Z",
     "iopub.status.busy": "2022-03-01T18:10:40.085917Z",
     "iopub.status.idle": "2022-03-01T18:12:11.058820Z",
     "shell.execute_reply": "2022-03-01T18:12:11.058329Z",
     "shell.execute_reply.started": "2022-03-01T18:10:40.086183Z"
    },
    "tags": []
   },
   "outputs": [
    {
     "name": "stdout",
     "output_type": "stream",
     "text": [
      " 2022-03-01 18:10:40.126583 - Moving to -10 deg\n",
      "  Done.\n",
      " 2022-03-01 18:10:50.235675 - Moving to -20 deg\n",
      "  Done.\n",
      " 2022-03-01 18:11:00.339819 - Moving to -30 deg\n",
      "  Done.\n",
      " 2022-03-01 18:11:10.440332 - Moving to -40 deg\n",
      "  Done.\n",
      " 2022-03-01 18:11:20.545224 - Moving to -50 deg\n",
      "  Done.\n",
      " 2022-03-01 18:11:30.646082 - Moving to -60 deg\n",
      "  Done.\n",
      " 2022-03-01 18:11:40.752479 - Moving to -70 deg\n",
      "  Done.\n",
      " 2022-03-01 18:11:50.851207 - Moving to -80 deg\n",
      "  Done.\n",
      " 2022-03-01 18:12:00.955681 - Moving to -89.5 deg\n",
      "  Done.\n"
     ]
    }
   ],
   "source": [
    "for p in [-10, -20, -30, -40, -50, -60, -70, -80, -89.5]:\n",
    "    print(f\" {datetime.now()} - Moving to {p} deg\")\n",
    "    await mtcs.rem.mtrotator.cmd_move.set_start(position=p, timeout=5)\n",
    "    await asyncio.sleep(10.)\n",
    "    print(f\"  Done.\")"
   ]
  },
  {
   "cell_type": "code",
   "execution_count": 101,
   "id": "a7e64e35-6ae8-4d24-a3ce-dd2a1484c27d",
   "metadata": {
    "execution": {
     "iopub.execute_input": "2022-03-01T18:12:11.059779Z",
     "iopub.status.busy": "2022-03-01T18:12:11.059490Z",
     "iopub.status.idle": "2022-03-01T18:13:42.034604Z",
     "shell.execute_reply": "2022-03-01T18:13:42.033882Z",
     "shell.execute_reply.started": "2022-03-01T18:12:11.059762Z"
    },
    "tags": []
   },
   "outputs": [
    {
     "name": "stdout",
     "output_type": "stream",
     "text": [
      " 2022-03-01 18:12:11.110091 - Moving to -80 deg\n",
      "  Done.\n",
      " 2022-03-01 18:12:21.210954 - Moving to -70 deg\n",
      "  Done.\n",
      " 2022-03-01 18:12:31.311875 - Moving to -60 deg\n",
      "  Done.\n",
      " 2022-03-01 18:12:41.415633 - Moving to -50 deg\n",
      "  Done.\n",
      " 2022-03-01 18:12:51.517472 - Moving to -40 deg\n",
      "  Done.\n",
      " 2022-03-01 18:13:01.619130 - Moving to -30 deg\n",
      "  Done.\n",
      " 2022-03-01 18:13:11.722573 - Moving to -20 deg\n",
      "  Done.\n",
      " 2022-03-01 18:13:21.825141 - Moving to -10 deg\n",
      "  Done.\n",
      " 2022-03-01 18:13:31.928300 - Moving to 0 deg\n",
      "  Done.\n"
     ]
    }
   ],
   "source": [
    "for p in [-80, -70, -60, -50, -40, -30, -20, -10, -0]:\n",
    "    print(f\" {datetime.now()} - Moving to {p} deg\")\n",
    "    await mtcs.rem.mtrotator.cmd_move.set_start(position=p, timeout=5)\n",
    "    await asyncio.sleep(10.)\n",
    "    print(f\"  Done.\")"
   ]
  },
  {
   "cell_type": "code",
   "execution_count": 102,
   "id": "99d87cdf-9582-4507-8348-d8681ad74366",
   "metadata": {
    "execution": {
     "iopub.execute_input": "2022-03-01T18:13:42.037816Z",
     "iopub.status.busy": "2022-03-01T18:13:42.037695Z",
     "iopub.status.idle": "2022-03-01T18:13:42.079615Z",
     "shell.execute_reply": "2022-03-01T18:13:42.079158Z",
     "shell.execute_reply.started": "2022-03-01T18:13:42.037801Z"
    },
    "tags": []
   },
   "outputs": [
    {
     "data": {
      "text/html": [
       "<pre style=\"margin: 0.1em;\n",
       "padding-left: 0.25em;\n",
       "border-left-style: solid;\n",
       "font-family: var(--jp-code-font-family);\n",
       "font-size: var(--jp-code-font-size);\n",
       "line-height: var(--jp-code-line-height);\n",
       "\"><span style=\"color: var(--jp-warn-color2)\">Script</span> <span style=\"color: var(--jp-info-color0)\">INFO</span>: END -- LVV-2261: Hexapod u=+0.36deg v=0.00deg - Pathfinder Lines Not Pressurized -- End Time: 2022-03-01 18:13:42.076045 UTC</pre>"
      ],
      "text/plain": [
       "<IPython.core.display.HTML object>"
      ]
     },
     "metadata": {},
     "output_type": "display_data"
    }
   ],
   "source": [
    "now = datetime.now()\n",
    "script.log.info(f\"END -- {test_message} -- End Time: {now} UTC\")"
   ]
  },
  {
   "cell_type": "markdown",
   "id": "cedce44f-d908-480e-b6a6-3e900e6e25cf",
   "metadata": {},
   "source": [
    "## u=-0.253deg v=+0.253deg"
   ]
  },
  {
   "cell_type": "code",
   "execution_count": 103,
   "id": "c6be9144-a62a-4367-a091-60838baaa473",
   "metadata": {
    "execution": {
     "iopub.execute_input": "2022-03-01T18:18:45.444130Z",
     "iopub.status.busy": "2022-03-01T18:18:45.443926Z",
     "iopub.status.idle": "2022-03-01T18:20:46.441585Z",
     "shell.execute_reply": "2022-03-01T18:20:46.440870Z",
     "shell.execute_reply.started": "2022-03-01T18:18:45.444114Z"
    },
    "tags": []
   },
   "outputs": [
    {
     "data": {
      "text/html": [
       "<pre style=\"margin: 0.1em;\n",
       "padding-left: 0.25em;\n",
       "border-left-style: solid;\n",
       "font-family: var(--jp-code-font-family);\n",
       "font-size: var(--jp-code-font-size);\n",
       "line-height: var(--jp-code-line-height);\n",
       "\"><span style=\"color: var(--jp-warn-color2)\">Script</span> <span style=\"color: var(--jp-info-color0)\">INFO</span>: START -- LVV-2261: Hexapod u=+0.253deg v=-0.253deg (total 0.36) - Pathfinder Lines Not Pressurized -- Starting Time: 2022-03-01 18:18:45.484806 UTC</pre>"
      ],
      "text/plain": [
       "<IPython.core.display.HTML object>"
      ]
     },
     "metadata": {},
     "output_type": "display_data"
    },
    {
     "name": "stdout",
     "output_type": "stream",
     "text": [
      " 2022-03-01 18:18:45.487016 - Moving Hexapod to u=0.36\n",
      " Done.\n",
      " 2022-03-01 18:19:00.650235 - Moving Hexapod to u=0.253\n",
      " Done.\n",
      " 2022-03-01 18:19:15.754374 - Moving Hexapod to u=0.12\n",
      " Done.\n",
      " 2022-03-01 18:19:30.860328 - Moving Hexapod to u=0\n",
      " Done.\n",
      " 2022-03-01 18:19:45.966309 - Moving Hexapod to u=-0.12\n",
      " Done.\n",
      " 2022-03-01 18:20:01.072369 - Moving Hexapod to u=-0.253\n",
      " Done.\n",
      " 2022-03-01 18:20:16.178692 - Moving Hexapod to u=-0.253\n",
      " Done.\n",
      " 2022-03-01 18:20:31.284001 - Moving Hexapod to u=-0.253\n",
      " Done.\n"
     ]
    }
   ],
   "source": [
    "test_message = \"LVV-2261: Hexapod u=+0.253deg v=-0.253deg (total 0.36) - Pathfinder Lines Not Pressurized\"\n",
    "\n",
    "now = datetime.now()\n",
    "script.log.info(f\"START -- {test_message} -- Starting Time: {now} UTC\")\n",
    "\n",
    "for _u in [0.36, 0.253, 0.12, 0, -0.12, -0.253]:\n",
    "    print(f\" {datetime.now()} - Moving Hexapod to u={_u}\")\n",
    "    await mtcs.rem.mthexapod_1.cmd_move.set_start(x=0, y=0, z=0, u=_u, v=0, w=0, sync=True)\n",
    "    await asyncio.sleep(15.)  # Just so if we need to press the e-stops\n",
    "    print(f\" Done.\")\n",
    "    \n",
    "    \n",
    "for _v in [0.12, 0.253]:\n",
    "    print(f\" {datetime.now()} - Moving Hexapod to v={_v}\")\n",
    "    await mtcs.rem.mthexapod_1.cmd_move.set_start(x=0, y=0, z=0, u=-0.253, v=_v, w=0, sync=True)\n",
    "    await asyncio.sleep(15.)  # Just so if we need to press the e-stops\n",
    "    print(f\" Done.\")"
   ]
  },
  {
   "cell_type": "code",
   "execution_count": null,
   "id": "b1acc3b2-4ed2-49ed-a23e-2f372022af59",
   "metadata": {},
   "outputs": [],
   "source": []
  },
  {
   "cell_type": "code",
   "execution_count": 111,
   "id": "00af44c9-a5ae-4d4d-a5b1-10569d719e8a",
   "metadata": {
    "execution": {
     "iopub.execute_input": "2022-03-01T18:25:35.128706Z",
     "iopub.status.busy": "2022-03-01T18:25:35.128324Z",
     "iopub.status.idle": "2022-03-01T18:25:35.271541Z",
     "shell.execute_reply": "2022-03-01T18:25:35.271121Z",
     "shell.execute_reply.started": "2022-03-01T18:25:35.128687Z"
    },
    "tags": []
   },
   "outputs": [
    {
     "data": {
      "text/plain": [
       "<ddsutil.MTRotator_ackcmd_f04f56ad at 0x7fee9de3fe80>"
      ]
     },
     "execution_count": 111,
     "metadata": {},
     "output_type": "execute_result"
    }
   ],
   "source": [
    "await mtcs.rem.mtrotator.cmd_move.set_start(position=0, timeout=10.) "
   ]
  },
  {
   "cell_type": "code",
   "execution_count": 112,
   "id": "73d8ca6f-f4d8-4d27-aa6d-06e615fe6b39",
   "metadata": {
    "execution": {
     "iopub.execute_input": "2022-03-01T18:25:54.474541Z",
     "iopub.status.busy": "2022-03-01T18:25:54.474327Z",
     "iopub.status.idle": "2022-03-01T18:27:25.447308Z",
     "shell.execute_reply": "2022-03-01T18:27:25.446827Z",
     "shell.execute_reply.started": "2022-03-01T18:25:54.474524Z"
    },
    "tags": []
   },
   "outputs": [
    {
     "name": "stdout",
     "output_type": "stream",
     "text": [
      " 2022-03-01 18:25:54.520708 - Moving to 10\n",
      " Done.\n",
      " 2022-03-01 18:26:04.622774 - Moving to 20\n",
      " Done.\n",
      " 2022-03-01 18:26:14.727127 - Moving to 30\n",
      " Done.\n",
      " 2022-03-01 18:26:24.829633 - Moving to 40\n",
      " Done.\n",
      " 2022-03-01 18:26:34.932220 - Moving to 50\n",
      " Done.\n",
      " 2022-03-01 18:26:45.032657 - Moving to 60\n",
      " Done.\n",
      " 2022-03-01 18:26:55.135831 - Moving to 70\n",
      " Done.\n",
      " 2022-03-01 18:27:05.238780 - Moving to 80\n",
      " Done.\n",
      " 2022-03-01 18:27:15.341216 - Moving to 89.5\n",
      " Done.\n"
     ]
    }
   ],
   "source": [
    "for p in [10, 20, 30, 40, 50, 60, 70, 80, 89.5]:\n",
    "    print(f\" {datetime.now()} - Moving to {p}\")\n",
    "    await mtcs.rem.mtrotator.cmd_move.set_start(position=p, timeout=5.)\n",
    "    await asyncio.sleep(10.)\n",
    "    print(f\" Done.\")"
   ]
  },
  {
   "cell_type": "code",
   "execution_count": 113,
   "id": "646ce983-028e-4cd3-b151-aeb25bdc8076",
   "metadata": {
    "execution": {
     "iopub.execute_input": "2022-03-01T18:27:25.448193Z",
     "iopub.status.busy": "2022-03-01T18:27:25.448069Z",
     "iopub.status.idle": "2022-03-01T18:28:56.423532Z",
     "shell.execute_reply": "2022-03-01T18:28:56.421900Z",
     "shell.execute_reply.started": "2022-03-01T18:27:25.448178Z"
    },
    "tags": []
   },
   "outputs": [
    {
     "name": "stdout",
     "output_type": "stream",
     "text": [
      " 2022-03-01 18:27:25.488823 - Moving to 80 deg\n",
      "  Done.\n",
      " 2022-03-01 18:27:35.596156 - Moving to 70 deg\n",
      "  Done.\n",
      " 2022-03-01 18:27:45.698794 - Moving to 60 deg\n",
      "  Done.\n",
      " 2022-03-01 18:27:55.804978 - Moving to 50 deg\n",
      "  Done.\n",
      " 2022-03-01 18:28:05.904952 - Moving to 40 deg\n",
      "  Done.\n",
      " 2022-03-01 18:28:16.007118 - Moving to 30 deg\n",
      "  Done.\n",
      " 2022-03-01 18:28:26.110219 - Moving to 20 deg\n",
      "  Done.\n",
      " 2022-03-01 18:28:36.213120 - Moving to 10 deg\n",
      "  Done.\n",
      " 2022-03-01 18:28:46.314842 - Moving to 0 deg\n",
      "  Done.\n"
     ]
    }
   ],
   "source": [
    "for p in [80, 70, 60, 50, 40, 30, 20, 10, 0]:\n",
    "    print(f\" {datetime.now()} - Moving to {p} deg\")\n",
    "    await mtcs.rem.mtrotator.cmd_move.set_start(position=p, timeout=5)\n",
    "    await asyncio.sleep(10.)\n",
    "    print(f\"  Done.\")"
   ]
  },
  {
   "cell_type": "code",
   "execution_count": 114,
   "id": "041ad8f6-323f-4043-9407-9c75a2b23fb8",
   "metadata": {
    "execution": {
     "iopub.execute_input": "2022-03-01T18:28:56.424737Z",
     "iopub.status.busy": "2022-03-01T18:28:56.424619Z",
     "iopub.status.idle": "2022-03-01T18:30:27.394600Z",
     "shell.execute_reply": "2022-03-01T18:30:27.393993Z",
     "shell.execute_reply.started": "2022-03-01T18:28:56.424723Z"
    },
    "tags": []
   },
   "outputs": [
    {
     "name": "stdout",
     "output_type": "stream",
     "text": [
      " 2022-03-01 18:28:56.462463 - Moving to -10 deg\n",
      "  Done.\n",
      " 2022-03-01 18:29:06.570560 - Moving to -20 deg\n",
      "  Done.\n",
      " 2022-03-01 18:29:16.673728 - Moving to -30 deg\n",
      "  Done.\n",
      " 2022-03-01 18:29:26.776245 - Moving to -40 deg\n",
      "  Done.\n",
      " 2022-03-01 18:29:36.881282 - Moving to -50 deg\n",
      "  Done.\n",
      " 2022-03-01 18:29:46.980949 - Moving to -60 deg\n",
      "  Done.\n",
      " 2022-03-01 18:29:57.085020 - Moving to -70 deg\n",
      "  Done.\n",
      " 2022-03-01 18:30:07.186350 - Moving to -80 deg\n",
      "  Done.\n",
      " 2022-03-01 18:30:17.289021 - Moving to -89.5 deg\n",
      "  Done.\n"
     ]
    }
   ],
   "source": [
    "for p in [-10, -20, -30, -40, -50, -60, -70, -80, -89.5]:\n",
    "    print(f\" {datetime.now()} - Moving to {p} deg\")\n",
    "    await mtcs.rem.mtrotator.cmd_move.set_start(position=p, timeout=5)\n",
    "    await asyncio.sleep(10.)\n",
    "    print(f\"  Done.\")"
   ]
  },
  {
   "cell_type": "code",
   "execution_count": 115,
   "id": "fcc2f92d-0f7e-4924-b9f7-a682e78cee45",
   "metadata": {
    "execution": {
     "iopub.execute_input": "2022-03-01T18:30:27.395445Z",
     "iopub.status.busy": "2022-03-01T18:30:27.395324Z",
     "iopub.status.idle": "2022-03-01T18:31:58.370323Z",
     "shell.execute_reply": "2022-03-01T18:31:58.369826Z",
     "shell.execute_reply.started": "2022-03-01T18:30:27.395430Z"
    },
    "tags": []
   },
   "outputs": [
    {
     "name": "stdout",
     "output_type": "stream",
     "text": [
      " 2022-03-01 18:30:27.434334 - Moving to -80 deg\n",
      "  Done.\n",
      " 2022-03-01 18:30:37.544643 - Moving to -70 deg\n",
      "  Done.\n",
      " 2022-03-01 18:30:47.647518 - Moving to -60 deg\n",
      "  Done.\n",
      " 2022-03-01 18:30:57.750302 - Moving to -50 deg\n",
      "  Done.\n",
      " 2022-03-01 18:31:07.852711 - Moving to -40 deg\n",
      "  Done.\n",
      " 2022-03-01 18:31:17.954635 - Moving to -30 deg\n",
      "  Done.\n",
      " 2022-03-01 18:31:28.059612 - Moving to -20 deg\n",
      "  Done.\n",
      " 2022-03-01 18:31:38.160516 - Moving to -10 deg\n",
      "  Done.\n",
      " 2022-03-01 18:31:48.264044 - Moving to 0 deg\n",
      "  Done.\n"
     ]
    }
   ],
   "source": [
    "for p in [-80, -70, -60, -50, -40, -30, -20, -10, -0]:\n",
    "    print(f\" {datetime.now()} - Moving to {p} deg\")\n",
    "    await mtcs.rem.mtrotator.cmd_move.set_start(position=p, timeout=5)\n",
    "    await asyncio.sleep(10.)\n",
    "    print(f\"  Done.\")"
   ]
  },
  {
   "cell_type": "code",
   "execution_count": 116,
   "id": "a78d9791-3899-43a5-a813-26c93ed732d9",
   "metadata": {
    "execution": {
     "iopub.execute_input": "2022-03-01T18:31:58.371136Z",
     "iopub.status.busy": "2022-03-01T18:31:58.371018Z",
     "iopub.status.idle": "2022-03-01T18:31:58.419866Z",
     "shell.execute_reply": "2022-03-01T18:31:58.419245Z",
     "shell.execute_reply.started": "2022-03-01T18:31:58.371122Z"
    },
    "tags": []
   },
   "outputs": [
    {
     "data": {
      "text/html": [
       "<pre style=\"margin: 0.1em;\n",
       "padding-left: 0.25em;\n",
       "border-left-style: solid;\n",
       "font-family: var(--jp-code-font-family);\n",
       "font-size: var(--jp-code-font-size);\n",
       "line-height: var(--jp-code-line-height);\n",
       "\"><span style=\"color: var(--jp-warn-color2)\">Script</span> <span style=\"color: var(--jp-info-color0)\">INFO</span>: END -- LVV-2261: Hexapod u=+0.253deg v=-0.253deg (total 0.36) - Pathfinder Lines Not Pressurized -- End Time: 2022-03-01 18:31:58.416027 UTC</pre>"
      ],
      "text/plain": [
       "<IPython.core.display.HTML object>"
      ]
     },
     "metadata": {},
     "output_type": "display_data"
    }
   ],
   "source": [
    "now = datetime.now()\n",
    "script.log.info(f\"END -- {test_message} -- End Time: {now} UTC\")"
   ]
  },
  {
   "cell_type": "markdown",
   "id": "cde09769-27fd-4725-9d59-77f779ba9bb6",
   "metadata": {},
   "source": [
    "## u=0.0deg v=-0.36deg "
   ]
  },
  {
   "cell_type": "code",
   "execution_count": 118,
   "id": "44f17539-5e0e-4494-bdf7-96000fafd0ad",
   "metadata": {
    "execution": {
     "iopub.execute_input": "2022-03-01T18:43:42.352543Z",
     "iopub.status.busy": "2022-03-01T18:43:42.352237Z",
     "iopub.status.idle": "2022-03-01T18:44:57.965271Z",
     "shell.execute_reply": "2022-03-01T18:44:57.963680Z",
     "shell.execute_reply.started": "2022-03-01T18:43:42.352525Z"
    },
    "tags": []
   },
   "outputs": [
    {
     "data": {
      "text/html": [
       "<pre style=\"margin: 0.1em;\n",
       "padding-left: 0.25em;\n",
       "border-left-style: solid;\n",
       "font-family: var(--jp-code-font-family);\n",
       "font-size: var(--jp-code-font-size);\n",
       "line-height: var(--jp-code-line-height);\n",
       "\"><span style=\"color: var(--jp-warn-color2)\">Script</span> <span style=\"color: var(--jp-info-color0)\">INFO</span>: START -- LVV-2261: Hexapod u=+0deg v=-0.36deg (total 0.36) - Pathfinder Lines Not Pressurized -- Starting Time: 2022-03-01 18:43:42.398629 UTC</pre>"
      ],
      "text/plain": [
       "<IPython.core.display.HTML object>"
      ]
     },
     "metadata": {},
     "output_type": "display_data"
    },
    {
     "name": "stdout",
     "output_type": "stream",
     "text": [
      " 2022-03-01 18:43:42.401890 - Moving Hexapod to v=0.36\n",
      " Done.\n",
      " 2022-03-01 18:43:57.483826 - Moving Hexapod to v=0.18\n",
      " Done.\n",
      " 2022-03-01 18:44:12.589585 - Moving Hexapod to v=0\n",
      " Done.\n",
      " 2022-03-01 18:44:27.699051 - Moving Hexapod to v=-0.18\n",
      " Done.\n",
      " 2022-03-01 18:44:42.851672 - Moving Hexapod to v=-0.36\n",
      " Done.\n"
     ]
    }
   ],
   "source": [
    "test_message = \"LVV-2261: Hexapod u=+0deg v=-0.36deg (total 0.36) - Pathfinder Lines Not Pressurized\"\n",
    "\n",
    "now = datetime.now()\n",
    "script.log.info(f\"START -- {test_message} -- Starting Time: {now} UTC\")\n",
    "\n",
    "# for _u in [-0.253, -0.12, 0]:\n",
    "#     print(f\" {datetime.now()} - Moving Hexapod to u={_u}\")\n",
    "#     await mtcs.rem.mthexapod_1.cmd_move.set_start(x=0, y=0, z=0, u=_u, v=0.253, w=0, sync=True)\n",
    "#     await asyncio.sleep(15.)  # Just so if we need to press the e-stops\n",
    "#     print(f\" Done.\")\n",
    "    \n",
    "    \n",
    "# for _v in [0.253, 0.36]:\n",
    "#     print(f\" {datetime.now()} - Moving Hexapod to v={_v}\")\n",
    "#     await mtcs.rem.mthexapod_1.cmd_move.set_start(x=0, y=0, z=0, u=0, v=_v, w=0, sync=True)\n",
    "#     await asyncio.sleep(15.)  # Just so if we need to press the e-stops\n",
    "#     print(f\" Done.\")\n",
    "\n",
    "for _v in [0.36, 0.18, 0, -0.18, -0.36]:\n",
    "    print(f\" {datetime.now()} - Moving Hexapod to v={_v}\")\n",
    "    await mtcs.rem.mthexapod_1.cmd_move.set_start(x=0, y=0, z=0, u=0, v=_v, w=0, sync=True)\n",
    "    await asyncio.sleep(15.)  # Just so if we need to press the e-stops\n",
    "    print(f\" Done.\")\n"
   ]
  },
  {
   "cell_type": "code",
   "execution_count": 120,
   "id": "ee4d479a-0555-4306-9b85-b64192f4a662",
   "metadata": {
    "execution": {
     "iopub.execute_input": "2022-03-01T18:46:01.422802Z",
     "iopub.status.busy": "2022-03-01T18:46:01.422509Z",
     "iopub.status.idle": "2022-03-01T18:46:01.543364Z",
     "shell.execute_reply": "2022-03-01T18:46:01.542715Z",
     "shell.execute_reply.started": "2022-03-01T18:46:01.422785Z"
    },
    "tags": []
   },
   "outputs": [
    {
     "data": {
      "text/plain": [
       "<ddsutil.MTRotator_ackcmd_f04f56ad at 0x7feed0bf5670>"
      ]
     },
     "execution_count": 120,
     "metadata": {},
     "output_type": "execute_result"
    }
   ],
   "source": [
    "await mtcs.rem.mtrotator.cmd_move.set_start(position=0, timeout=10.) "
   ]
  },
  {
   "cell_type": "code",
   "execution_count": 121,
   "id": "72fe2289-9a54-464f-bff2-cf1940677511",
   "metadata": {
    "execution": {
     "iopub.execute_input": "2022-03-01T18:46:13.931471Z",
     "iopub.status.busy": "2022-03-01T18:46:13.931244Z",
     "iopub.status.idle": "2022-03-01T18:47:44.918086Z",
     "shell.execute_reply": "2022-03-01T18:47:44.917434Z",
     "shell.execute_reply.started": "2022-03-01T18:46:13.931454Z"
    },
    "tags": []
   },
   "outputs": [
    {
     "name": "stdout",
     "output_type": "stream",
     "text": [
      " 2022-03-01 18:46:13.977008 - Moving to 10\n",
      " Done.\n",
      " 2022-03-01 18:46:24.093909 - Moving to 20\n",
      " Done.\n",
      " 2022-03-01 18:46:34.197535 - Moving to 30\n",
      " Done.\n",
      " 2022-03-01 18:46:44.302567 - Moving to 40\n",
      " Done.\n",
      " 2022-03-01 18:46:54.404957 - Moving to 50\n",
      " Done.\n",
      " 2022-03-01 18:47:04.507920 - Moving to 60\n",
      " Done.\n",
      " 2022-03-01 18:47:14.607447 - Moving to 70\n",
      " Done.\n",
      " 2022-03-01 18:47:24.710524 - Moving to 80\n",
      " Done.\n",
      " 2022-03-01 18:47:34.813165 - Moving to 89.5\n",
      " Done.\n"
     ]
    }
   ],
   "source": [
    "for p in [10, 20, 30, 40, 50, 60, 70, 80, 89.5]:\n",
    "    print(f\" {datetime.now()} - Moving to {p}\")\n",
    "    await mtcs.rem.mtrotator.cmd_move.set_start(position=p, timeout=5.)\n",
    "    await asyncio.sleep(10.)\n",
    "    print(f\" Done.\")"
   ]
  },
  {
   "cell_type": "code",
   "execution_count": 122,
   "id": "559aac85-f9af-4b24-a6c6-010257b86451",
   "metadata": {
    "execution": {
     "iopub.execute_input": "2022-03-01T18:47:44.919146Z",
     "iopub.status.busy": "2022-03-01T18:47:44.918759Z",
     "iopub.status.idle": "2022-03-01T18:49:15.892222Z",
     "shell.execute_reply": "2022-03-01T18:49:15.891743Z",
     "shell.execute_reply.started": "2022-03-01T18:47:44.919130Z"
    },
    "tags": []
   },
   "outputs": [
    {
     "name": "stdout",
     "output_type": "stream",
     "text": [
      " 2022-03-01 18:47:44.968986 - Moving to 80 deg\n",
      "  Done.\n",
      " 2022-03-01 18:47:55.068817 - Moving to 70 deg\n",
      "  Done.\n",
      " 2022-03-01 18:48:05.170799 - Moving to 60 deg\n",
      "  Done.\n",
      " 2022-03-01 18:48:15.273574 - Moving to 50 deg\n",
      "  Done.\n",
      " 2022-03-01 18:48:25.376678 - Moving to 40 deg\n",
      "  Done.\n",
      " 2022-03-01 18:48:35.481800 - Moving to 30 deg\n",
      "  Done.\n",
      " 2022-03-01 18:48:45.583084 - Moving to 20 deg\n",
      "  Done.\n",
      " 2022-03-01 18:48:55.683964 - Moving to 10 deg\n",
      "  Done.\n",
      " 2022-03-01 18:49:05.789716 - Moving to 0 deg\n",
      "  Done.\n"
     ]
    }
   ],
   "source": [
    "for p in [80, 70, 60, 50, 40, 30, 20, 10, 0]:\n",
    "    print(f\" {datetime.now()} - Moving to {p} deg\")\n",
    "    await mtcs.rem.mtrotator.cmd_move.set_start(position=p, timeout=5)\n",
    "    await asyncio.sleep(10.)\n",
    "    print(f\"  Done.\")"
   ]
  },
  {
   "cell_type": "code",
   "execution_count": 123,
   "id": "1c1d3a3b-d6cc-40fc-b48a-75789f30519a",
   "metadata": {
    "execution": {
     "iopub.execute_input": "2022-03-01T18:49:15.893213Z",
     "iopub.status.busy": "2022-03-01T18:49:15.893091Z",
     "iopub.status.idle": "2022-03-01T18:50:46.865478Z",
     "shell.execute_reply": "2022-03-01T18:50:46.864991Z",
     "shell.execute_reply.started": "2022-03-01T18:49:15.893199Z"
    },
    "tags": []
   },
   "outputs": [
    {
     "name": "stdout",
     "output_type": "stream",
     "text": [
      " 2022-03-01 18:49:15.940881 - Moving to -10 deg\n",
      "  Done.\n",
      " 2022-03-01 18:49:26.042311 - Moving to -20 deg\n",
      "  Done.\n",
      " 2022-03-01 18:49:36.144938 - Moving to -30 deg\n",
      "  Done.\n",
      " 2022-03-01 18:49:46.247701 - Moving to -40 deg\n",
      "  Done.\n",
      " 2022-03-01 18:49:56.350537 - Moving to -50 deg\n",
      "  Done.\n",
      " 2022-03-01 18:50:06.456375 - Moving to -60 deg\n",
      "  Done.\n",
      " 2022-03-01 18:50:16.555711 - Moving to -70 deg\n",
      "  Done.\n",
      " 2022-03-01 18:50:26.659089 - Moving to -80 deg\n",
      "  Done.\n",
      " 2022-03-01 18:50:36.761215 - Moving to -89.5 deg\n",
      "  Done.\n"
     ]
    }
   ],
   "source": [
    "for p in [-10, -20, -30, -40, -50, -60, -70, -80, -89.5]:\n",
    "    print(f\" {datetime.now()} - Moving to {p} deg\")\n",
    "    await mtcs.rem.mtrotator.cmd_move.set_start(position=p, timeout=5)\n",
    "    await asyncio.sleep(10.)\n",
    "    print(f\"  Done.\")"
   ]
  },
  {
   "cell_type": "code",
   "execution_count": 124,
   "id": "90b6a89b-cadd-4de1-bf22-65139c920b72",
   "metadata": {
    "execution": {
     "iopub.execute_input": "2022-03-01T18:50:46.866315Z",
     "iopub.status.busy": "2022-03-01T18:50:46.866182Z",
     "iopub.status.idle": "2022-03-01T18:52:17.842868Z",
     "shell.execute_reply": "2022-03-01T18:52:17.842398Z",
     "shell.execute_reply.started": "2022-03-01T18:50:46.866300Z"
    },
    "tags": []
   },
   "outputs": [
    {
     "name": "stdout",
     "output_type": "stream",
     "text": [
      " 2022-03-01 18:50:46.917158 - Moving to -80 deg\n",
      "  Done.\n",
      " 2022-03-01 18:50:57.015944 - Moving to -70 deg\n",
      "  Done.\n",
      " 2022-03-01 18:51:07.121375 - Moving to -60 deg\n",
      "  Done.\n",
      " 2022-03-01 18:51:17.221411 - Moving to -50 deg\n",
      "  Done.\n",
      " 2022-03-01 18:51:27.324427 - Moving to -40 deg\n",
      "  Done.\n",
      " 2022-03-01 18:51:37.426786 - Moving to -30 deg\n",
      "  Done.\n",
      " 2022-03-01 18:51:47.529494 - Moving to -20 deg\n",
      "  Done.\n",
      " 2022-03-01 18:51:57.631832 - Moving to -10 deg\n",
      "  Done.\n",
      " 2022-03-01 18:52:07.737864 - Moving to 0 deg\n",
      "  Done.\n"
     ]
    }
   ],
   "source": [
    "for p in [-80, -70, -60, -50, -40, -30, -20, -10, -0]:\n",
    "    print(f\" {datetime.now()} - Moving to {p} deg\")\n",
    "    await mtcs.rem.mtrotator.cmd_move.set_start(position=p, timeout=5)\n",
    "    await asyncio.sleep(10.)\n",
    "    print(f\"  Done.\")"
   ]
  },
  {
   "cell_type": "code",
   "execution_count": 125,
   "id": "f6db57ee-7b93-4390-935a-4baaeac14b1b",
   "metadata": {
    "execution": {
     "iopub.execute_input": "2022-03-01T18:52:17.843685Z",
     "iopub.status.busy": "2022-03-01T18:52:17.843566Z",
     "iopub.status.idle": "2022-03-01T18:52:17.889418Z",
     "shell.execute_reply": "2022-03-01T18:52:17.888992Z",
     "shell.execute_reply.started": "2022-03-01T18:52:17.843671Z"
    },
    "tags": []
   },
   "outputs": [
    {
     "data": {
      "text/html": [
       "<pre style=\"margin: 0.1em;\n",
       "padding-left: 0.25em;\n",
       "border-left-style: solid;\n",
       "font-family: var(--jp-code-font-family);\n",
       "font-size: var(--jp-code-font-size);\n",
       "line-height: var(--jp-code-line-height);\n",
       "\"><span style=\"color: var(--jp-warn-color2)\">Script</span> <span style=\"color: var(--jp-info-color0)\">INFO</span>: END -- LVV-2261: Hexapod u=+0deg v=-0.36deg (total 0.36) - Pathfinder Lines Not Pressurized -- End Time: 2022-03-01 18:52:17.886160 UTC</pre>"
      ],
      "text/plain": [
       "<IPython.core.display.HTML object>"
      ]
     },
     "metadata": {},
     "output_type": "display_data"
    }
   ],
=======
   "execution_count": null,
   "id": "1872c5c0-cbb8-4d81-9b98-e74628d0783a",
   "metadata": {
    "tags": []
   },
   "outputs": [],
>>>>>>> Stashed changes
   "source": [
    "now = datetime.now()\n",
    "script.log.info(f\"END -- {test_message} -- End Time: {now} UTC\")"
   ]
  },
  {
   "cell_type": "markdown",
<<<<<<< Updated upstream
   "id": "07960949-3534-43c5-870b-78471f20d599",
   "metadata": {},
   "source": [
    "## Step 11 - x=-11400, Y=0, Z=-10330"
   ]
  },
  {
   "cell_type": "code",
   "execution_count": 128,
   "id": "c7bbd72f-e1a1-4d18-bc74-e70a008a4b16",
   "metadata": {
    "execution": {
     "iopub.execute_input": "2022-03-01T19:23:35.977589Z",
     "iopub.status.busy": "2022-03-01T19:23:35.977376Z",
     "iopub.status.idle": "2022-03-01T19:23:36.137892Z",
     "shell.execute_reply": "2022-03-01T19:23:36.137540Z",
     "shell.execute_reply.started": "2022-03-01T19:23:35.977573Z"
    },
    "tags": []
   },
   "outputs": [
    {
     "data": {
      "text/plain": [
       "<ddsutil.MTRotator_ackcmd_f04f56ad at 0x7feed0999550>"
      ]
     },
     "execution_count": 128,
     "metadata": {},
     "output_type": "execute_result"
    }
   ],
   "source": [
    "await mtcs.rem.mtrotator.cmd_move.set_start(position=0, timeout=10.) "
   ]
  },
  {
   "cell_type": "code",
   "execution_count": 179,
   "id": "d679bb4a-a5cd-4260-8fac-61c83280ff0f",
   "metadata": {
    "execution": {
     "iopub.execute_input": "2022-03-01T21:09:56.877335Z",
     "iopub.status.busy": "2022-03-01T21:09:56.877039Z",
     "iopub.status.idle": "2022-03-01T21:09:57.586571Z",
     "shell.execute_reply": "2022-03-01T21:09:57.586083Z",
     "shell.execute_reply.started": "2022-03-01T21:09:56.877318Z"
    },
    "tags": []
   },
   "outputs": [
    {
     "data": {
      "text/html": [
       "<pre style=\"margin: 0.1em;\n",
       "padding-left: 0.25em;\n",
       "border-left-style: solid;\n",
       "font-family: var(--jp-code-font-family);\n",
       "font-size: var(--jp-code-font-size);\n",
       "line-height: var(--jp-code-line-height);\n",
       "\"><span style=\"color: var(--jp-warn-color2)\">Script</span> <span style=\"color: var(--jp-info-color0)\">INFO</span>: START -- LVV-2261: Hexapod x=-11400, Y=0, Z=-10330 - Pathfinder Lines Not Pressurized -- Starting Time: 2022-03-01 21:09:56.925711 UTC</pre>"
      ],
      "text/plain": [
       "<IPython.core.display.HTML object>"
      ]
     },
     "metadata": {},
     "output_type": "display_data"
    },
    {
     "name": "stdout",
     "output_type": "stream",
     "text": [
      " 2022-03-01 21:09:56.927493 - Moving Hexapod to x=-11400, Y=0, Z=-10330\n",
      " Done.\n"
     ]
    }
   ],
   "source": [
    "test_message = \"LVV-2261: Hexapod x=-11400, Y=0, Z=-10330 - Pathfinder Lines Not Pressurized\"\n",
    "\n",
    "now = datetime.now()\n",
    "script.log.info(f\"START -- {test_message} -- Starting Time: {now} UTC\")\n",
    "\n",
    "print(f\" {datetime.now()} - Moving Hexapod to x=-11400, Y=0, Z=-10000\")\n",
    "await mtcs.rem.mthexapod_1.cmd_move.set_start(x=-11400, y=0, z=-10000, u=0, v=0, w=0, sync=True)\n",
    "# await asyncio.sleep(15.)  # Just so if we need to press the e-stops\n",
    "print(f\" Done.\")"
   ]
  },
  {
   "cell_type": "markdown",
   "id": "97322802-b5e6-4b84-a296-a87ef4c63507",
   "metadata": {},
   "source": [
    "The command above is actually did not work when moving x=-11400/z=-10330. The we tried with z=-10000 and it worked. In any case, it should have raised an error."
   ]
  },
  {
   "cell_type": "code",
   "execution_count": null,
   "id": "e110f2f5-ca12-4369-8d69-ed3e7f967632",
   "metadata": {},
   "outputs": [],
   "source": []
  },
  {
   "cell_type": "code",
   "execution_count": null,
   "id": "42f02e83-6710-48b2-8cbb-39c6e6be1335",
   "metadata": {},
   "outputs": [],
   "source": []
  },
  {
   "cell_type": "code",
   "execution_count": 183,
   "id": "f4afb9f0-3e6c-416c-87c0-5e74521aac59",
   "metadata": {
    "execution": {
     "iopub.execute_input": "2022-03-01T21:13:45.786246Z",
     "iopub.status.busy": "2022-03-01T21:13:45.785934Z",
     "iopub.status.idle": "2022-03-01T21:13:45.911188Z",
     "shell.execute_reply": "2022-03-01T21:13:45.910801Z",
     "shell.execute_reply.started": "2022-03-01T21:13:45.786228Z"
    },
    "tags": []
   },
   "outputs": [
    {
     "data": {
      "text/plain": [
       "<ddsutil.MTRotator_ackcmd_f04f56ad at 0x7feec8696c10>"
      ]
     },
     "execution_count": 183,
     "metadata": {},
     "output_type": "execute_result"
    }
   ],
   "source": [
    "await mtcs.rem.mtrotator.cmd_move.set_start(position=0, timeout=10.)"
   ]
  },
  {
   "cell_type": "code",
   "execution_count": null,
   "id": "b4ddf7bd-bd20-4152-98da-177a001e7b6f",
   "metadata": {},
   "outputs": [],
   "source": [
    "await mtcs.rem.mtrotator.cmd_move.set_start(position=2, timeout=10.)"
   ]
  },
  {
   "cell_type": "code",
   "execution_count": 184,
   "id": "0e14e3db-0b9a-4702-9233-7283a3181ba1",
   "metadata": {
    "execution": {
     "iopub.execute_input": "2022-03-01T21:14:09.428444Z",
     "iopub.status.busy": "2022-03-01T21:14:09.428220Z",
     "iopub.status.idle": "2022-03-01T21:15:40.391153Z",
     "shell.execute_reply": "2022-03-01T21:15:40.390622Z",
     "shell.execute_reply.started": "2022-03-01T21:14:09.428428Z"
    },
    "tags": []
   },
   "outputs": [
    {
     "name": "stdout",
     "output_type": "stream",
     "text": [
      " 2022-03-01 21:14:09.477460 - Moving to 10\n",
      " Done.\n",
      " 2022-03-01 21:14:19.565425 - Moving to 20\n",
      " Done.\n",
      " 2022-03-01 21:14:29.669537 - Moving to 30\n",
      " Done.\n",
      " 2022-03-01 21:14:39.770247 - Moving to 40\n",
      " Done.\n",
      " 2022-03-01 21:14:49.873330 - Moving to 50\n",
      " Done.\n",
      " 2022-03-01 21:14:59.976461 - Moving to 60\n",
      " Done.\n",
      " 2022-03-01 21:15:10.078541 - Moving to 70\n",
      " Done.\n",
      " 2022-03-01 21:15:20.183091 - Moving to 80\n",
      " Done.\n",
      " 2022-03-01 21:15:30.286530 - Moving to 89.5\n",
      " Done.\n"
     ]
    }
   ],
   "source": [
    "for p in [10, 20, 30, 40, 50, 60, 70, 80, 89.5]:\n",
    "    print(f\" {datetime.now()} - Moving to {p}\")\n",
    "    await mtcs.rem.mtrotator.cmd_move.set_start(position=p, timeout=5.)\n",
    "    await asyncio.sleep(10.)\n",
    "    print(f\" Done.\")"
   ]
  },
  {
   "cell_type": "code",
   "execution_count": 185,
   "id": "15b8fff8-e070-4270-8d28-0e18a23db833",
   "metadata": {
    "execution": {
     "iopub.execute_input": "2022-03-01T21:15:40.392390Z",
     "iopub.status.busy": "2022-03-01T21:15:40.391835Z",
     "iopub.status.idle": "2022-03-01T21:17:11.370657Z",
     "shell.execute_reply": "2022-03-01T21:17:11.370189Z",
     "shell.execute_reply.started": "2022-03-01T21:15:40.392372Z"
    },
    "tags": []
   },
   "outputs": [
    {
     "name": "stdout",
     "output_type": "stream",
     "text": [
      " 2022-03-01 21:15:40.432031 - Moving to 80 deg\n",
      "  Done.\n",
      " 2022-03-01 21:15:50.539409 - Moving to 70 deg\n",
      "  Done.\n",
      " 2022-03-01 21:16:00.645939 - Moving to 60 deg\n",
      "  Done.\n",
      " 2022-03-01 21:16:10.744889 - Moving to 50 deg\n",
      "  Done.\n",
      " 2022-03-01 21:16:20.847944 - Moving to 40 deg\n",
      "  Done.\n",
      " 2022-03-01 21:16:30.950425 - Moving to 30 deg\n",
      "  Done.\n",
      " 2022-03-01 21:16:41.052886 - Moving to 20 deg\n",
      "  Done.\n",
      " 2022-03-01 21:16:51.155175 - Moving to 10 deg\n",
      "  Done.\n",
      " 2022-03-01 21:17:01.258191 - Moving to 0 deg\n",
      "  Done.\n"
     ]
    }
   ],
   "source": [
    "for p in [80, 70, 60, 50, 40, 30, 20, 10, 0]:\n",
    "    print(f\" {datetime.now()} - Moving to {p} deg\")\n",
    "    await mtcs.rem.mtrotator.cmd_move.set_start(position=p, timeout=5)\n",
    "    await asyncio.sleep(10.)\n",
    "    print(f\"  Done.\")"
   ]
  },
  {
   "cell_type": "code",
   "execution_count": 186,
   "id": "c161b004-0c06-4764-beeb-44744e70f5c0",
   "metadata": {
    "execution": {
     "iopub.execute_input": "2022-03-01T21:17:11.371439Z",
     "iopub.status.busy": "2022-03-01T21:17:11.371321Z",
     "iopub.status.idle": "2022-03-01T21:18:42.336915Z",
     "shell.execute_reply": "2022-03-01T21:18:42.336448Z",
     "shell.execute_reply.started": "2022-03-01T21:17:11.371425Z"
    },
    "tags": []
   },
   "outputs": [
    {
     "name": "stdout",
     "output_type": "stream",
     "text": [
      " 2022-03-01 21:17:11.414903 - Moving to -10 deg\n",
      "  Done.\n",
      " 2022-03-01 21:17:21.513717 - Moving to -20 deg\n",
      "  Done.\n",
      " 2022-03-01 21:17:31.615714 - Moving to -30 deg\n",
      "  Done.\n",
      " 2022-03-01 21:17:41.718634 - Moving to -40 deg\n",
      "  Done.\n",
      " 2022-03-01 21:17:51.823340 - Moving to -50 deg\n",
      "  Done.\n",
      " 2022-03-01 21:18:01.928305 - Moving to -60 deg\n",
      "  Done.\n",
      " 2022-03-01 21:18:12.026951 - Moving to -70 deg\n",
      "  Done.\n",
      " 2022-03-01 21:18:22.129047 - Moving to -80 deg\n",
      "  Done.\n",
      " 2022-03-01 21:18:32.231861 - Moving to -89.5 deg\n",
      "  Done.\n"
     ]
    }
   ],
   "source": [
    "for p in [-10, -20, -30, -40, -50, -60, -70, -80, -89.5]:\n",
    "    print(f\" {datetime.now()} - Moving to {p} deg\")\n",
    "    await mtcs.rem.mtrotator.cmd_move.set_start(position=p, timeout=5)\n",
    "    await asyncio.sleep(10.)\n",
    "    print(f\"  Done.\")"
   ]
  },
  {
   "cell_type": "code",
   "execution_count": 187,
   "id": "1e9389ab-31e8-4ef3-b31b-939732cbd8d8",
   "metadata": {
    "execution": {
     "iopub.execute_input": "2022-03-01T21:18:42.337787Z",
     "iopub.status.busy": "2022-03-01T21:18:42.337573Z",
     "iopub.status.idle": "2022-03-01T21:20:13.312097Z",
     "shell.execute_reply": "2022-03-01T21:20:13.311479Z",
     "shell.execute_reply.started": "2022-03-01T21:18:42.337772Z"
    },
    "tags": []
   },
   "outputs": [
    {
     "name": "stdout",
     "output_type": "stream",
     "text": [
      " 2022-03-01 21:18:42.377387 - Moving to -80 deg\n",
      "  Done.\n",
      " 2022-03-01 21:18:52.487304 - Moving to -70 deg\n",
      "  Done.\n",
      " 2022-03-01 21:19:02.589673 - Moving to -60 deg\n",
      "  Done.\n",
      " 2022-03-01 21:19:12.692788 - Moving to -50 deg\n",
      "  Done.\n",
      " 2022-03-01 21:19:22.795652 - Moving to -40 deg\n",
      "  Done.\n",
      " 2022-03-01 21:19:32.898288 - Moving to -30 deg\n",
      "  Done.\n",
      " 2022-03-01 21:19:43.000636 - Moving to -20 deg\n",
      "  Done.\n",
      " 2022-03-01 21:19:53.104628 - Moving to -10 deg\n",
      "  Done.\n",
      " 2022-03-01 21:20:03.206521 - Moving to 0 deg\n",
      "  Done.\n"
     ]
    }
   ],
   "source": [
    "for p in [-80, -70, -60, -50, -40, -30, -20, -10, -0]:\n",
    "    print(f\" {datetime.now()} - Moving to {p} deg\")\n",
    "    await mtcs.rem.mtrotator.cmd_move.set_start(position=p, timeout=5)\n",
    "    await asyncio.sleep(10.)\n",
    "    print(f\"  Done.\")"
   ]
  },
  {
   "cell_type": "code",
   "execution_count": 188,
   "id": "a2e27d3a-6b0a-4346-842c-2463661f7791",
   "metadata": {
    "execution": {
     "iopub.execute_input": "2022-03-01T21:20:13.312866Z",
     "iopub.status.busy": "2022-03-01T21:20:13.312748Z",
     "iopub.status.idle": "2022-03-01T21:20:13.361135Z",
     "shell.execute_reply": "2022-03-01T21:20:13.360711Z",
     "shell.execute_reply.started": "2022-03-01T21:20:13.312852Z"
    },
    "tags": []
   },
   "outputs": [
    {
     "data": {
      "text/html": [
       "<pre style=\"margin: 0.1em;\n",
       "padding-left: 0.25em;\n",
       "border-left-style: solid;\n",
       "font-family: var(--jp-code-font-family);\n",
       "font-size: var(--jp-code-font-size);\n",
       "line-height: var(--jp-code-line-height);\n",
       "\"><span style=\"color: var(--jp-warn-color2)\">Script</span> <span style=\"color: var(--jp-info-color0)\">INFO</span>: END -- LVV-2261: Hexapod x=-11400, Y=0, Z=-10330 - Pathfinder Lines Not Pressurized -- End Time: 2022-03-01 21:20:13.357258 UTC</pre>"
      ],
      "text/plain": [
       "<IPython.core.display.HTML object>"
      ]
     },
     "metadata": {},
     "output_type": "display_data"
    }
   ],
   "source": [
    "now = datetime.now()\n",
    "script.log.info(f\"END -- {test_message} -- End Time: {now} UTC\")"
   ]
  },
  {
   "cell_type": "code",
   "execution_count": 191,
   "id": "f08d722c-abcb-441e-be4d-057ada714419",
   "metadata": {
    "execution": {
     "iopub.execute_input": "2022-03-01T21:22:58.837581Z",
     "iopub.status.busy": "2022-03-01T21:22:58.837301Z",
     "iopub.status.idle": "2022-03-01T21:22:59.548401Z",
     "shell.execute_reply": "2022-03-01T21:22:59.547979Z",
     "shell.execute_reply.started": "2022-03-01T21:22:58.837564Z"
    },
    "tags": []
   },
   "outputs": [
    {
     "data": {
      "text/plain": [
       "<ddsutil.MTHexapod_ackcmd_c4d6958b at 0x7fec36e6f550>"
      ]
     },
     "execution_count": 191,
     "metadata": {},
     "output_type": "execute_result"
    }
   ],
   "source": [
    "await mtcs.rem.mthexapod_1.cmd_move.set_start(x=6700, y=6700, z=-10000, u=0, v=0, w=0, sync=True)"
   ]
  },
  {
   "cell_type": "code",
   "execution_count": null,
   "id": "5a782c5d-c992-4fb6-a507-4a2ec83da8b6",
   "metadata": {},
   "outputs": [],
   "source": []
  },
  {
   "cell_type": "markdown",
   "id": "ec2a2bf3-b32d-4c02-bd63-e1fde439189c",
   "metadata": {},
   "source": [
    "## Step 12 - x=11400, Y=0, Z=-10330"
   ]
  },
  {
   "cell_type": "code",
   "execution_count": null,
   "id": "c7a10ca1-12e4-4a39-91ba-2808c4866a4c",
   "metadata": {},
   "outputs": [],
   "source": [
    "test_message = \"LVV-2261: Hexapod x=+11400, Y=0, Z=-10330 - Pathfinder Lines Not Pressurized\"\n",
    "\n",
    "now = datetime.now()\n",
    "script.log.info(f\"START -- {test_message} -- Starting Time: {now} UTC\")\n"
   ]
  },
  {
   "cell_type": "markdown",
   "id": "b84bc66a-6d5c-45bd-aac1-41ac4bce2586",
   "metadata": {},
   "source": [
    "## Step 7= Move the hexapod to (X=0, Y=0, Z=0, U=+0.253deg, V=+0.253deg, W=0)"
   ]
  },
  {
   "cell_type": "code",
   "execution_count": 29,
   "id": "14fcf542-a37c-4b25-83fa-caaaacdce0c6",
   "metadata": {},
   "outputs": [
    {
     "data": {
      "text/plain": [
       "<ddsutil.MTRotator_ackcmd_f04f56ad at 0x7fbaf97a6e20>"
      ]
     },
     "execution_count": 29,
     "metadata": {},
     "output_type": "execute_result"
    }
   ],
   "source": [
    "# Set Velocity Limit to 0.5 deg/s\n",
    "await mtcs.rem.mtrotator.cmd_configureVelocity.set_start(vlimit=3.5, timeout=5)"
   ]
  },
  {
   "cell_type": "code",
   "execution_count": 27,
   "id": "2f77e895-8c9d-425e-85df-6cdaa6c841b9",
   "metadata": {},
   "outputs": [
    {
     "data": {
      "text/html": [
       "<pre style=\"margin: 0.1em;\n",
       "padding-left: 0.25em;\n",
       "border-left-style: solid;\n",
       "font-family: var(--jp-code-font-family);\n",
       "font-size: var(--jp-code-font-size);\n",
       "line-height: var(--jp-code-line-height);\n",
       "\"><span style=\"color: var(--jp-warn-color2)\">Script</span> <span style=\"color: var(--jp-info-color0)\">INFO</span>: START -- LVV-2261: Hexapod x=0, Y=0, Z=0,U=+0.253deg, V=+0.253deg, W=0  - Pathfinder Lines Not Pressurized -- Starting Time: 2022-03-10 15:02:09.003524 UTC</pre>"
      ],
      "text/plain": [
       "<IPython.core.display.HTML object>"
      ]
     },
     "metadata": {},
     "output_type": "display_data"
    },
    {
     "name": "stdout",
     "output_type": "stream",
     "text": [
      " 2022-03-10 15:02:09.005790 - Moving Hexapod to  x=0, Y=0, Z=0, U=+0.253deg, V=+0.253deg, W=0\n",
      " Done.\n"
     ]
    }
   ],
   "source": [
    "test_message = \"LVV-2261: Hexapod x=0, Y=0, Z=0,U=+0.253deg, V=+0.253deg, W=0  - Pathfinder Lines Not Pressurized\"\n",
    "\n",
    "now = datetime.now()\n",
    "script.log.info(f\"START -- {test_message} -- Starting Time: {now} UTC\")\n",
    "print(f\" {datetime.now()} - Moving Hexapod to  x=0, Y=0, Z=0, U=+0.253deg, V=+0.253deg, W=0\")\n",
    "await mtcs.rem.mthexapod_1.cmd_move.set_start(x=0, y=0, z=0, u=+0.253, v=+0.253, w=0, sync=True)\n",
    "# await asyncio.sleep(15.)  # Just so if we need to press the e-stops\n",
    "print(f\" Done.\")"
   ]
  },
  {
   "cell_type": "code",
   "execution_count": 28,
   "id": "6a330d43-0093-489f-bb54-9c1ef5267fdc",
   "metadata": {},
   "outputs": [
    {
     "name": "stdout",
     "output_type": "stream",
     "text": [
      " 2022-03-10 15:06:53.542691 - Moving to 10\n",
      " Done.\n",
      " 2022-03-10 15:07:03.612601 - Moving to 20\n",
      " Done.\n",
      " 2022-03-10 15:07:13.715048 - Moving to 30\n",
      " Done.\n",
      " 2022-03-10 15:07:23.818421 - Moving to 40\n",
      " Done.\n",
      " 2022-03-10 15:07:33.920832 - Moving to 50\n",
      " Done.\n",
      " 2022-03-10 15:07:44.024736 - Moving to 60\n",
      " Done.\n",
      " 2022-03-10 15:07:54.127208 - Moving to 70\n",
      " Done.\n",
      " 2022-03-10 15:08:04.229699 - Moving to 80\n",
      " Done.\n",
      " 2022-03-10 15:08:14.332564 - Moving to 89.5\n",
      " Done.\n"
     ]
    }
   ],
   "source": [
    "for p in [10, 20, 30, 40, 50, 60, 70, 80, 89.5]:\n",
    "    print(f\" {datetime.now()} - Moving to {p}\")\n",
    "    await mtcs.rem.mtrotator.cmd_move.set_start(position=p, timeout=5.)\n",
    "    await asyncio.sleep(10.)\n",
    "    print(f\" Done.\")"
   ]
  },
  {
   "cell_type": "raw",
   "id": "b94f1636-806b-42b5-87e0-1a4100ffabe9",
   "metadata": {},
   "source": [
    "Changing rotation step size to 30 degrees to ensure maximum speed and therfore maximum torque values are reached"
   ]
  },
  {
   "cell_type": "code",
   "execution_count": 30,
   "id": "da2023b9-790b-4b0d-a22b-663c751fa293",
   "metadata": {},
   "outputs": [
    {
     "name": "stdout",
     "output_type": "stream",
     "text": [
      " 2022-03-10 15:10:39.909477 - Moving to 60 deg\n",
      "  Done.\n",
      " 2022-03-10 15:10:49.977554 - Moving to 30 deg\n"
     ]
    },
    {
     "ename": "AckError",
     "evalue": "msg='Command failed', ackcmd=(ackcmd private_seqNum=1009755403, ack=<SalRetCode.CMD_FAILED: -302>, error=1, result='Failed: Low-level controller in substate 1.0 instead of <EnabledSubstate.STATIONARY: 0>')",
     "output_type": "error",
     "traceback": [
      "\u001b[0;31m---------------------------------------------------------------------------\u001b[0m",
      "\u001b[0;31mAckError\u001b[0m                                  Traceback (most recent call last)",
      "Input \u001b[0;32mIn [30]\u001b[0m, in \u001b[0;36m<module>\u001b[0;34m\u001b[0m\n\u001b[1;32m      1\u001b[0m \u001b[38;5;28;01mfor\u001b[39;00m p \u001b[38;5;129;01min\u001b[39;00m [\u001b[38;5;241m60\u001b[39m, \u001b[38;5;241m30\u001b[39m, \u001b[38;5;241m0\u001b[39m]:\n\u001b[1;32m      2\u001b[0m     \u001b[38;5;28mprint\u001b[39m(\u001b[38;5;124mf\u001b[39m\u001b[38;5;124m\"\u001b[39m\u001b[38;5;124m \u001b[39m\u001b[38;5;132;01m{\u001b[39;00mdatetime\u001b[38;5;241m.\u001b[39mnow()\u001b[38;5;132;01m}\u001b[39;00m\u001b[38;5;124m - Moving to \u001b[39m\u001b[38;5;132;01m{\u001b[39;00mp\u001b[38;5;132;01m}\u001b[39;00m\u001b[38;5;124m deg\u001b[39m\u001b[38;5;124m\"\u001b[39m)\n\u001b[0;32m----> 3\u001b[0m     \u001b[38;5;28;01mawait\u001b[39;00m mtcs\u001b[38;5;241m.\u001b[39mrem\u001b[38;5;241m.\u001b[39mmtrotator\u001b[38;5;241m.\u001b[39mcmd_move\u001b[38;5;241m.\u001b[39mset_start(position\u001b[38;5;241m=\u001b[39mp, timeout\u001b[38;5;241m=\u001b[39m\u001b[38;5;241m5\u001b[39m)\n\u001b[1;32m      4\u001b[0m     \u001b[38;5;28;01mawait\u001b[39;00m asyncio\u001b[38;5;241m.\u001b[39msleep(\u001b[38;5;241m10.\u001b[39m)\n\u001b[1;32m      5\u001b[0m     \u001b[38;5;28mprint\u001b[39m(\u001b[38;5;124mf\u001b[39m\u001b[38;5;124m\"\u001b[39m\u001b[38;5;124m  Done.\u001b[39m\u001b[38;5;124m\"\u001b[39m)\n",
      "File \u001b[0;32m/opt/lsst/software/stack/conda/miniconda3-py38_4.9.2/envs/lsst-scipipe-2.0.0/lib/python3.8/site-packages/lsst/ts/salobj/topics/remote_command.py:423\u001b[0m, in \u001b[0;36mRemoteCommand.set_start\u001b[0;34m(self, timeout, wait_done, **kwargs)\u001b[0m\n\u001b[1;32m    382\u001b[0m \u001b[38;5;124;03m\"\"\"Create a new ``self.data``, set zero or more fields,\u001b[39;00m\n\u001b[1;32m    383\u001b[0m \u001b[38;5;124;03mand start the command.\u001b[39;00m\n\u001b[1;32m    384\u001b[0m \n\u001b[0;32m   (...)\u001b[0m\n\u001b[1;32m    420\u001b[0m \u001b[38;5;124;03m    If ``data`` is not None and not an instance of `DataType`.\u001b[39;00m\n\u001b[1;32m    421\u001b[0m \u001b[38;5;124;03m\"\"\"\u001b[39;00m\n\u001b[1;32m    422\u001b[0m \u001b[38;5;28mself\u001b[39m\u001b[38;5;241m.\u001b[39mset(\u001b[38;5;241m*\u001b[39m\u001b[38;5;241m*\u001b[39mkwargs)\n\u001b[0;32m--> 423\u001b[0m \u001b[38;5;28;01mreturn\u001b[39;00m \u001b[38;5;28;01mawait\u001b[39;00m \u001b[38;5;28mself\u001b[39m\u001b[38;5;241m.\u001b[39mstart(timeout\u001b[38;5;241m=\u001b[39mtimeout, wait_done\u001b[38;5;241m=\u001b[39mwait_done)\n",
      "File \u001b[0;32m/opt/lsst/software/stack/conda/miniconda3-py38_4.9.2/envs/lsst-scipipe-2.0.0/lib/python3.8/site-packages/lsst/ts/salobj/topics/remote_command.py:483\u001b[0m, in \u001b[0;36mRemoteCommand.start\u001b[0;34m(self, data, timeout, wait_done)\u001b[0m\n\u001b[1;32m    479\u001b[0m cmd_info \u001b[38;5;241m=\u001b[39m CommandInfo(\n\u001b[1;32m    480\u001b[0m     remote_command\u001b[38;5;241m=\u001b[39m\u001b[38;5;28mself\u001b[39m, seq_num\u001b[38;5;241m=\u001b[39mseq_num, wait_done\u001b[38;5;241m=\u001b[39mwait_done\n\u001b[1;32m    481\u001b[0m )\n\u001b[1;32m    482\u001b[0m \u001b[38;5;28mself\u001b[39m\u001b[38;5;241m.\u001b[39msalinfo\u001b[38;5;241m.\u001b[39m_running_cmds[seq_num] \u001b[38;5;241m=\u001b[39m cmd_info\n\u001b[0;32m--> 483\u001b[0m \u001b[38;5;28;01mreturn\u001b[39;00m \u001b[38;5;28;01mawait\u001b[39;00m cmd_info\u001b[38;5;241m.\u001b[39mnext_ackcmd(timeout\u001b[38;5;241m=\u001b[39mtimeout)\n",
      "File \u001b[0;32m/opt/lsst/software/stack/conda/miniconda3-py38_4.9.2/envs/lsst-scipipe-2.0.0/lib/python3.8/site-packages/lsst/ts/salobj/topics/remote_command.py:201\u001b[0m, in \u001b[0;36mCommandInfo.next_ackcmd\u001b[0;34m(self, timeout)\u001b[0m\n\u001b[1;32m    199\u001b[0m     ackcmd \u001b[38;5;241m=\u001b[39m \u001b[38;5;28;01mawait\u001b[39;00m \u001b[38;5;28mself\u001b[39m\u001b[38;5;241m.\u001b[39m_wait_task\n\u001b[1;32m    200\u001b[0m     \u001b[38;5;28;01mif\u001b[39;00m ackcmd\u001b[38;5;241m.\u001b[39mack \u001b[38;5;129;01min\u001b[39;00m \u001b[38;5;28mself\u001b[39m\u001b[38;5;241m.\u001b[39mfailed_ack_codes:\n\u001b[0;32m--> 201\u001b[0m         \u001b[38;5;28;01mraise\u001b[39;00m base\u001b[38;5;241m.\u001b[39mAckError(msg\u001b[38;5;241m=\u001b[39m\u001b[38;5;124m\"\u001b[39m\u001b[38;5;124mCommand failed\u001b[39m\u001b[38;5;124m\"\u001b[39m, ackcmd\u001b[38;5;241m=\u001b[39mackcmd)\n\u001b[1;32m    202\u001b[0m     \u001b[38;5;28;01mreturn\u001b[39;00m ackcmd\n\u001b[1;32m    203\u001b[0m \u001b[38;5;28;01mexcept\u001b[39;00m asyncio\u001b[38;5;241m.\u001b[39mTimeoutError:\n",
      "\u001b[0;31mAckError\u001b[0m: msg='Command failed', ackcmd=(ackcmd private_seqNum=1009755403, ack=<SalRetCode.CMD_FAILED: -302>, error=1, result='Failed: Low-level controller in substate 1.0 instead of <EnabledSubstate.STATIONARY: 0>')"
     ]
    }
   ],
   "source": [
    "for p in [60, 30, 0]:\n",
    "    print(f\" {datetime.now()} - Moving to {p} deg\")\n",
    "    await mtcs.rem.mtrotator.cmd_move.set_start(position=p, timeout=5)\n",
    "    await asyncio.sleep(10.)\n",
    "    print(f\"  Done.\")"
   ]
  },
  {
   "cell_type": "markdown",
   "id": "32613196-7d3d-4cdd-a5f4-6b2a7150eea1",
   "metadata": {},
   "source": [
    "Movement maybe took to long changing sleeping time to 20 sec.\n"
   ]
  },
  {
   "cell_type": "code",
   "execution_count": 34,
   "id": "65e21262-45c1-445a-a75e-a335a4ff4612",
   "metadata": {},
   "outputs": [
    {
     "name": "stdout",
     "output_type": "stream",
     "text": [
      " 2022-03-10 15:18:42.085210 - Moving to 60 deg\n",
      "  Done.\n",
      " 2022-03-10 15:19:02.215507 - Moving to 30 deg\n"
     ]
    },
    {
     "ename": "AckError",
     "evalue": "msg='Command failed', ackcmd=(ackcmd private_seqNum=1009755408, ack=<SalRetCode.CMD_FAILED: -302>, error=1, result='Failed: Rejected: initial state is <State.FAULT: 3> instead of <State.ENABLED: 2>')",
     "output_type": "error",
     "traceback": [
      "\u001b[0;31m---------------------------------------------------------------------------\u001b[0m",
      "\u001b[0;31mAckError\u001b[0m                                  Traceback (most recent call last)",
      "Input \u001b[0;32mIn [34]\u001b[0m, in \u001b[0;36m<module>\u001b[0;34m\u001b[0m\n\u001b[1;32m      1\u001b[0m \u001b[38;5;28;01mfor\u001b[39;00m p \u001b[38;5;129;01min\u001b[39;00m [\u001b[38;5;241m60\u001b[39m, \u001b[38;5;241m30\u001b[39m, \u001b[38;5;241m0\u001b[39m]:\n\u001b[1;32m      2\u001b[0m     \u001b[38;5;28mprint\u001b[39m(\u001b[38;5;124mf\u001b[39m\u001b[38;5;124m\"\u001b[39m\u001b[38;5;124m \u001b[39m\u001b[38;5;132;01m{\u001b[39;00mdatetime\u001b[38;5;241m.\u001b[39mnow()\u001b[38;5;132;01m}\u001b[39;00m\u001b[38;5;124m - Moving to \u001b[39m\u001b[38;5;132;01m{\u001b[39;00mp\u001b[38;5;132;01m}\u001b[39;00m\u001b[38;5;124m deg\u001b[39m\u001b[38;5;124m\"\u001b[39m)\n\u001b[0;32m----> 3\u001b[0m     \u001b[38;5;28;01mawait\u001b[39;00m mtcs\u001b[38;5;241m.\u001b[39mrem\u001b[38;5;241m.\u001b[39mmtrotator\u001b[38;5;241m.\u001b[39mcmd_move\u001b[38;5;241m.\u001b[39mset_start(position\u001b[38;5;241m=\u001b[39mp, timeout\u001b[38;5;241m=\u001b[39m\u001b[38;5;241m5\u001b[39m)\n\u001b[1;32m      4\u001b[0m     \u001b[38;5;28;01mawait\u001b[39;00m asyncio\u001b[38;5;241m.\u001b[39msleep(\u001b[38;5;241m20.\u001b[39m)\n\u001b[1;32m      5\u001b[0m     \u001b[38;5;28mprint\u001b[39m(\u001b[38;5;124mf\u001b[39m\u001b[38;5;124m\"\u001b[39m\u001b[38;5;124m  Done.\u001b[39m\u001b[38;5;124m\"\u001b[39m)\n",
      "File \u001b[0;32m/opt/lsst/software/stack/conda/miniconda3-py38_4.9.2/envs/lsst-scipipe-2.0.0/lib/python3.8/site-packages/lsst/ts/salobj/topics/remote_command.py:423\u001b[0m, in \u001b[0;36mRemoteCommand.set_start\u001b[0;34m(self, timeout, wait_done, **kwargs)\u001b[0m\n\u001b[1;32m    382\u001b[0m \u001b[38;5;124;03m\"\"\"Create a new ``self.data``, set zero or more fields,\u001b[39;00m\n\u001b[1;32m    383\u001b[0m \u001b[38;5;124;03mand start the command.\u001b[39;00m\n\u001b[1;32m    384\u001b[0m \n\u001b[0;32m   (...)\u001b[0m\n\u001b[1;32m    420\u001b[0m \u001b[38;5;124;03m    If ``data`` is not None and not an instance of `DataType`.\u001b[39;00m\n\u001b[1;32m    421\u001b[0m \u001b[38;5;124;03m\"\"\"\u001b[39;00m\n\u001b[1;32m    422\u001b[0m \u001b[38;5;28mself\u001b[39m\u001b[38;5;241m.\u001b[39mset(\u001b[38;5;241m*\u001b[39m\u001b[38;5;241m*\u001b[39mkwargs)\n\u001b[0;32m--> 423\u001b[0m \u001b[38;5;28;01mreturn\u001b[39;00m \u001b[38;5;28;01mawait\u001b[39;00m \u001b[38;5;28mself\u001b[39m\u001b[38;5;241m.\u001b[39mstart(timeout\u001b[38;5;241m=\u001b[39mtimeout, wait_done\u001b[38;5;241m=\u001b[39mwait_done)\n",
      "File \u001b[0;32m/opt/lsst/software/stack/conda/miniconda3-py38_4.9.2/envs/lsst-scipipe-2.0.0/lib/python3.8/site-packages/lsst/ts/salobj/topics/remote_command.py:483\u001b[0m, in \u001b[0;36mRemoteCommand.start\u001b[0;34m(self, data, timeout, wait_done)\u001b[0m\n\u001b[1;32m    479\u001b[0m cmd_info \u001b[38;5;241m=\u001b[39m CommandInfo(\n\u001b[1;32m    480\u001b[0m     remote_command\u001b[38;5;241m=\u001b[39m\u001b[38;5;28mself\u001b[39m, seq_num\u001b[38;5;241m=\u001b[39mseq_num, wait_done\u001b[38;5;241m=\u001b[39mwait_done\n\u001b[1;32m    481\u001b[0m )\n\u001b[1;32m    482\u001b[0m \u001b[38;5;28mself\u001b[39m\u001b[38;5;241m.\u001b[39msalinfo\u001b[38;5;241m.\u001b[39m_running_cmds[seq_num] \u001b[38;5;241m=\u001b[39m cmd_info\n\u001b[0;32m--> 483\u001b[0m \u001b[38;5;28;01mreturn\u001b[39;00m \u001b[38;5;28;01mawait\u001b[39;00m cmd_info\u001b[38;5;241m.\u001b[39mnext_ackcmd(timeout\u001b[38;5;241m=\u001b[39mtimeout)\n",
      "File \u001b[0;32m/opt/lsst/software/stack/conda/miniconda3-py38_4.9.2/envs/lsst-scipipe-2.0.0/lib/python3.8/site-packages/lsst/ts/salobj/topics/remote_command.py:201\u001b[0m, in \u001b[0;36mCommandInfo.next_ackcmd\u001b[0;34m(self, timeout)\u001b[0m\n\u001b[1;32m    199\u001b[0m     ackcmd \u001b[38;5;241m=\u001b[39m \u001b[38;5;28;01mawait\u001b[39;00m \u001b[38;5;28mself\u001b[39m\u001b[38;5;241m.\u001b[39m_wait_task\n\u001b[1;32m    200\u001b[0m     \u001b[38;5;28;01mif\u001b[39;00m ackcmd\u001b[38;5;241m.\u001b[39mack \u001b[38;5;129;01min\u001b[39;00m \u001b[38;5;28mself\u001b[39m\u001b[38;5;241m.\u001b[39mfailed_ack_codes:\n\u001b[0;32m--> 201\u001b[0m         \u001b[38;5;28;01mraise\u001b[39;00m base\u001b[38;5;241m.\u001b[39mAckError(msg\u001b[38;5;241m=\u001b[39m\u001b[38;5;124m\"\u001b[39m\u001b[38;5;124mCommand failed\u001b[39m\u001b[38;5;124m\"\u001b[39m, ackcmd\u001b[38;5;241m=\u001b[39mackcmd)\n\u001b[1;32m    202\u001b[0m     \u001b[38;5;28;01mreturn\u001b[39;00m ackcmd\n\u001b[1;32m    203\u001b[0m \u001b[38;5;28;01mexcept\u001b[39;00m asyncio\u001b[38;5;241m.\u001b[39mTimeoutError:\n",
      "\u001b[0;31mAckError\u001b[0m: msg='Command failed', ackcmd=(ackcmd private_seqNum=1009755408, ack=<SalRetCode.CMD_FAILED: -302>, error=1, result='Failed: Rejected: initial state is <State.FAULT: 3> instead of <State.ENABLED: 2>')"
     ]
    }
   ],
   "source": [
    "for p in [60, 30, 0]:\n",
    "    print(f\" {datetime.now()} - Moving to {p} deg\")\n",
    "    await mtcs.rem.mtrotator.cmd_move.set_start(position=p, timeout=5)\n",
    "    await asyncio.sleep(20.)\n",
    "    print(f\"  Done.\")"
   ]
  },
  {
   "cell_type": "markdown",
   "id": "7cb84dba-e08e-4ebc-a131-22654a6c1f19",
   "metadata": {},
   "source": [
    "Simulink fault declared. Setup notebook used to recover. Last step executed again."
   ]
  },
  {
   "cell_type": "code",
   "execution_count": 35,
   "id": "a07d39fe-875c-42c4-8430-c1da21c186b6",
   "metadata": {},
   "outputs": [
    {
     "ename": "SyntaxError",
     "evalue": "invalid syntax (1055131756.py, line 1)",
     "output_type": "error",
     "traceback": [
      "\u001b[0;36m  Input \u001b[0;32mIn [35]\u001b[0;36m\u001b[0m\n\u001b[0;31m    12:19CLT Following error...\u001b[0m\n\u001b[0m         ^\u001b[0m\n\u001b[0;31mSyntaxError\u001b[0m\u001b[0;31m:\u001b[0m invalid syntax\n"
     ]
    }
   ],
   "source": [
    "12:19CLT Following error..."
   ]
  },
  {
   "cell_type": "code",
   "execution_count": 39,
   "id": "b4d29ee7-3a6b-42e0-b438-58ce5abd6202",
   "metadata": {},
   "outputs": [
    {
     "data": {
      "text/plain": [
       "<ddsutil.MTRotator_ackcmd_f04f56ad at 0x7fbaf974a9a0>"
      ]
     },
     "execution_count": 39,
     "metadata": {},
     "output_type": "execute_result"
    }
   ],
   "source": [
    "await mtcs.rem.mtrotator.cmd_move.set_start(position=89.5, timeout=5)"
   ]
  },
  {
   "cell_type": "code",
   "execution_count": 40,
   "id": "f5afd928-5b03-49a1-920d-8b2e891b4ce6",
   "metadata": {},
   "outputs": [
    {
     "name": "stdout",
     "output_type": "stream",
     "text": [
      " 2022-03-10 15:28:36.114098 - Moving to 60 deg\n",
      "  Done.\n",
      " 2022-03-10 15:28:56.225686 - Moving to 30 deg\n",
      "  Done.\n",
      " 2022-03-10 15:29:16.330939 - Moving to 0 deg\n",
      "  Done.\n"
     ]
    }
   ],
   "source": [
    "for p in [60, 30, 0]:\n",
    "    print(f\" {datetime.now()} - Moving to {p} deg\")\n",
    "    await mtcs.rem.mtrotator.cmd_move.set_start(position=p, timeout=5)\n",
    "    await asyncio.sleep(20.)\n",
    "    print(f\"  Done.\")"
   ]
  },
  {
   "cell_type": "code",
   "execution_count": 41,
   "id": "bd6b8cd4-8eb9-4c51-bef7-dda2695e4fe3",
   "metadata": {},
   "outputs": [
    {
     "name": "stdout",
     "output_type": "stream",
     "text": [
      " 2022-03-10 15:30:23.533033 - Moving to -30 deg\n",
      "  Done.\n",
      " 2022-03-10 15:30:33.601653 - Moving to -60 deg\n"
     ]
    },
    {
     "ename": "AckError",
     "evalue": "msg='Command failed', ackcmd=(ackcmd private_seqNum=1009755417, ack=<SalRetCode.CMD_FAILED: -302>, error=1, result='Failed: Low-level controller in substate 1.0 instead of <EnabledSubstate.STATIONARY: 0>')",
     "output_type": "error",
     "traceback": [
      "\u001b[0;31m---------------------------------------------------------------------------\u001b[0m",
      "\u001b[0;31mAckError\u001b[0m                                  Traceback (most recent call last)",
      "Input \u001b[0;32mIn [41]\u001b[0m, in \u001b[0;36m<module>\u001b[0;34m\u001b[0m\n\u001b[1;32m      1\u001b[0m \u001b[38;5;28;01mfor\u001b[39;00m p \u001b[38;5;129;01min\u001b[39;00m [\u001b[38;5;241m-\u001b[39m\u001b[38;5;241m30\u001b[39m, \u001b[38;5;241m-\u001b[39m\u001b[38;5;241m60\u001b[39m, \u001b[38;5;241m-\u001b[39m\u001b[38;5;241m89.5\u001b[39m]:\n\u001b[1;32m      2\u001b[0m     \u001b[38;5;28mprint\u001b[39m(\u001b[38;5;124mf\u001b[39m\u001b[38;5;124m\"\u001b[39m\u001b[38;5;124m \u001b[39m\u001b[38;5;132;01m{\u001b[39;00mdatetime\u001b[38;5;241m.\u001b[39mnow()\u001b[38;5;132;01m}\u001b[39;00m\u001b[38;5;124m - Moving to \u001b[39m\u001b[38;5;132;01m{\u001b[39;00mp\u001b[38;5;132;01m}\u001b[39;00m\u001b[38;5;124m deg\u001b[39m\u001b[38;5;124m\"\u001b[39m)\n\u001b[0;32m----> 3\u001b[0m     \u001b[38;5;28;01mawait\u001b[39;00m mtcs\u001b[38;5;241m.\u001b[39mrem\u001b[38;5;241m.\u001b[39mmtrotator\u001b[38;5;241m.\u001b[39mcmd_move\u001b[38;5;241m.\u001b[39mset_start(position\u001b[38;5;241m=\u001b[39mp, timeout\u001b[38;5;241m=\u001b[39m\u001b[38;5;241m5\u001b[39m)\n\u001b[1;32m      4\u001b[0m     \u001b[38;5;28;01mawait\u001b[39;00m asyncio\u001b[38;5;241m.\u001b[39msleep(\u001b[38;5;241m10.\u001b[39m)\n\u001b[1;32m      5\u001b[0m     \u001b[38;5;28mprint\u001b[39m(\u001b[38;5;124mf\u001b[39m\u001b[38;5;124m\"\u001b[39m\u001b[38;5;124m  Done.\u001b[39m\u001b[38;5;124m\"\u001b[39m)\n",
      "File \u001b[0;32m/opt/lsst/software/stack/conda/miniconda3-py38_4.9.2/envs/lsst-scipipe-2.0.0/lib/python3.8/site-packages/lsst/ts/salobj/topics/remote_command.py:423\u001b[0m, in \u001b[0;36mRemoteCommand.set_start\u001b[0;34m(self, timeout, wait_done, **kwargs)\u001b[0m\n\u001b[1;32m    382\u001b[0m \u001b[38;5;124;03m\"\"\"Create a new ``self.data``, set zero or more fields,\u001b[39;00m\n\u001b[1;32m    383\u001b[0m \u001b[38;5;124;03mand start the command.\u001b[39;00m\n\u001b[1;32m    384\u001b[0m \n\u001b[0;32m   (...)\u001b[0m\n\u001b[1;32m    420\u001b[0m \u001b[38;5;124;03m    If ``data`` is not None and not an instance of `DataType`.\u001b[39;00m\n\u001b[1;32m    421\u001b[0m \u001b[38;5;124;03m\"\"\"\u001b[39;00m\n\u001b[1;32m    422\u001b[0m \u001b[38;5;28mself\u001b[39m\u001b[38;5;241m.\u001b[39mset(\u001b[38;5;241m*\u001b[39m\u001b[38;5;241m*\u001b[39mkwargs)\n\u001b[0;32m--> 423\u001b[0m \u001b[38;5;28;01mreturn\u001b[39;00m \u001b[38;5;28;01mawait\u001b[39;00m \u001b[38;5;28mself\u001b[39m\u001b[38;5;241m.\u001b[39mstart(timeout\u001b[38;5;241m=\u001b[39mtimeout, wait_done\u001b[38;5;241m=\u001b[39mwait_done)\n",
      "File \u001b[0;32m/opt/lsst/software/stack/conda/miniconda3-py38_4.9.2/envs/lsst-scipipe-2.0.0/lib/python3.8/site-packages/lsst/ts/salobj/topics/remote_command.py:483\u001b[0m, in \u001b[0;36mRemoteCommand.start\u001b[0;34m(self, data, timeout, wait_done)\u001b[0m\n\u001b[1;32m    479\u001b[0m cmd_info \u001b[38;5;241m=\u001b[39m CommandInfo(\n\u001b[1;32m    480\u001b[0m     remote_command\u001b[38;5;241m=\u001b[39m\u001b[38;5;28mself\u001b[39m, seq_num\u001b[38;5;241m=\u001b[39mseq_num, wait_done\u001b[38;5;241m=\u001b[39mwait_done\n\u001b[1;32m    481\u001b[0m )\n\u001b[1;32m    482\u001b[0m \u001b[38;5;28mself\u001b[39m\u001b[38;5;241m.\u001b[39msalinfo\u001b[38;5;241m.\u001b[39m_running_cmds[seq_num] \u001b[38;5;241m=\u001b[39m cmd_info\n\u001b[0;32m--> 483\u001b[0m \u001b[38;5;28;01mreturn\u001b[39;00m \u001b[38;5;28;01mawait\u001b[39;00m cmd_info\u001b[38;5;241m.\u001b[39mnext_ackcmd(timeout\u001b[38;5;241m=\u001b[39mtimeout)\n",
      "File \u001b[0;32m/opt/lsst/software/stack/conda/miniconda3-py38_4.9.2/envs/lsst-scipipe-2.0.0/lib/python3.8/site-packages/lsst/ts/salobj/topics/remote_command.py:201\u001b[0m, in \u001b[0;36mCommandInfo.next_ackcmd\u001b[0;34m(self, timeout)\u001b[0m\n\u001b[1;32m    199\u001b[0m     ackcmd \u001b[38;5;241m=\u001b[39m \u001b[38;5;28;01mawait\u001b[39;00m \u001b[38;5;28mself\u001b[39m\u001b[38;5;241m.\u001b[39m_wait_task\n\u001b[1;32m    200\u001b[0m     \u001b[38;5;28;01mif\u001b[39;00m ackcmd\u001b[38;5;241m.\u001b[39mack \u001b[38;5;129;01min\u001b[39;00m \u001b[38;5;28mself\u001b[39m\u001b[38;5;241m.\u001b[39mfailed_ack_codes:\n\u001b[0;32m--> 201\u001b[0m         \u001b[38;5;28;01mraise\u001b[39;00m base\u001b[38;5;241m.\u001b[39mAckError(msg\u001b[38;5;241m=\u001b[39m\u001b[38;5;124m\"\u001b[39m\u001b[38;5;124mCommand failed\u001b[39m\u001b[38;5;124m\"\u001b[39m, ackcmd\u001b[38;5;241m=\u001b[39mackcmd)\n\u001b[1;32m    202\u001b[0m     \u001b[38;5;28;01mreturn\u001b[39;00m ackcmd\n\u001b[1;32m    203\u001b[0m \u001b[38;5;28;01mexcept\u001b[39;00m asyncio\u001b[38;5;241m.\u001b[39mTimeoutError:\n",
      "\u001b[0;31mAckError\u001b[0m: msg='Command failed', ackcmd=(ackcmd private_seqNum=1009755417, ack=<SalRetCode.CMD_FAILED: -302>, error=1, result='Failed: Low-level controller in substate 1.0 instead of <EnabledSubstate.STATIONARY: 0>')"
     ]
    }
   ],
   "source": [
    "for p in [-30, -60, -89.5]:\n",
    "    print(f\" {datetime.now()} - Moving to {p} deg\")\n",
    "    await mtcs.rem.mtrotator.cmd_move.set_start(position=p, timeout=5)\n",
    "    await asyncio.sleep(20.)\n",
    "    print(f\"  Done.\")"
   ]
  },
  {
   "cell_type": "code",
   "execution_count": 42,
   "id": "c8f4b717-0a5e-4e1a-bddf-c2b3b45ef1bb",
   "metadata": {},
   "outputs": [
    {
     "data": {
      "text/plain": [
       "<ddsutil.MTRotator_ackcmd_f04f56ad at 0x7fba93e48b50>"
      ]
     },
     "execution_count": 42,
     "metadata": {},
     "output_type": "execute_result"
    }
   ],
   "source": [
    "await mtcs.rem.mtrotator.cmd_move.set_start(position=0, timeout=5)"
   ]
  },
  {
   "cell_type": "code",
   "execution_count": 43,
   "id": "6d17969a-94b5-4b49-9fce-213f5f872948",
   "metadata": {},
   "outputs": [
    {
     "name": "stdout",
     "output_type": "stream",
     "text": [
      " 2022-03-10 15:31:20.280431 - Moving to -30 deg\n",
      "  Done.\n",
      " 2022-03-10 15:31:40.364387 - Moving to -60 deg\n",
      "  Done.\n",
      " 2022-03-10 15:32:00.469311 - Moving to -89.5 deg\n",
      "  Done.\n"
     ]
    }
   ],
   "source": [
    "for p in [-30, -60, -89.5]:\n",
    "    print(f\" {datetime.now()} - Moving to {p} deg\")\n",
    "    await mtcs.rem.mtrotator.cmd_move.set_start(position=p, timeout=5)\n",
    "    await asyncio.sleep(20.)\n",
    "    print(f\"  Done.\")"
   ]
  },
  {
   "cell_type": "markdown",
   "id": "d72778ac-cb89-4fa4-8714-e093d8f202b7",
   "metadata": {},
   "source": [
    "## Step 8 = Move the hexapod to (X=0, Y=0, Z=0, U=+0.253deg, V=-0.253deg, W=0)"
   ]
  },
  {
   "cell_type": "code",
   "execution_count": 48,
   "id": "9d6f62ba-e4b4-45e2-a9db-ca29d06e51b1",
   "metadata": {},
   "outputs": [
    {
     "data": {
      "text/html": [
       "<pre style=\"margin: 0.1em;\n",
       "padding-left: 0.25em;\n",
       "border-left-style: solid;\n",
       "font-family: var(--jp-code-font-family);\n",
       "font-size: var(--jp-code-font-size);\n",
       "line-height: var(--jp-code-line-height);\n",
       "\"><span style=\"color: var(--jp-warn-color2)\">Script</span> <span style=\"color: var(--jp-info-color0)\">INFO</span>: START -- LVV-2261: Hexapod x=0, Y=0, Z=0,U=+0.253deg, V=+0.253deg, W=0  - Pathfinder Lines Not Pressurized -- Starting Time: 2022-03-10 15:35:25.308186 UTC</pre>"
      ],
      "text/plain": [
       "<IPython.core.display.HTML object>"
      ]
     },
     "metadata": {},
     "output_type": "display_data"
    },
    {
     "name": "stdout",
     "output_type": "stream",
     "text": [
      " 2022-03-10 15:35:25.309752 - Moving Hexapod to  x=0, Y=0, Z=0, U=+0.253deg, V=-0.253deg, W=0\n",
      " Done.\n"
     ]
    }
   ],
   "source": [
    "test_message = \"LVV-2261: Hexapod x=0, Y=0, Z=0,U=+0.253deg, V=+0.253deg, W=0  - Pathfinder Lines Not Pressurized\"\n",
    "\n",
    "now = datetime.now()\n",
    "script.log.info(f\"START -- {test_message} -- Starting Time: {now} UTC\")\n",
    "print(f\" {datetime.now()} - Moving Hexapod to  x=0, Y=0, Z=0, U=+0.253deg, V=-0.253deg, W=0\")\n",
    "await mtcs.rem.mthexapod_1.cmd_move.set_start(x=0, y=0, z=0, u=+0.253, v=-0.253, w=0, sync=True)\n",
    "# await asyncio.sleep(15.)  # Just so if we need to press the e-stops\n",
    "print(f\" Done.\")"
   ]
  },
  {
   "cell_type": "code",
   "execution_count": 47,
   "id": "7186d6ed-2cb4-473c-8cdd-983c88ac56be",
   "metadata": {},
   "outputs": [
    {
     "data": {
      "text/plain": [
       "<ddsutil.MTRotator_ackcmd_f04f56ad at 0x7fbaf1005910>"
      ]
     },
     "execution_count": 47,
     "metadata": {},
     "output_type": "execute_result"
    }
   ],
   "source": [
    "await mtcs.rem.mtrotator.cmd_move.set_start(position=0, timeout=5)"
   ]
  },
  {
   "cell_type": "code",
   "execution_count": 49,
   "id": "5a493d2d-70e9-4319-af4d-bfa7f2e5272f",
   "metadata": {},
   "outputs": [
    {
     "name": "stdout",
     "output_type": "stream",
     "text": [
      " 2022-03-10 15:36:15.984275 - Moving to 30\n",
      " Done.\n",
      " 2022-03-10 15:36:36.082792 - Moving to 60\n",
      " Done.\n",
      " 2022-03-10 15:36:56.188124 - Moving to 89.5\n",
      " Done.\n"
     ]
    }
   ],
   "source": [
    "for p in [30, 60, 89.5]:\n",
    "    print(f\" {datetime.now()} - Moving to {p}\")\n",
    "    await mtcs.rem.mtrotator.cmd_move.set_start(position=p, timeout=5.)\n",
    "    await asyncio.sleep(20.)\n",
    "    print(f\" Done.\")"
   ]
  },
  {
   "cell_type": "code",
   "execution_count": 51,
   "id": "6658dfed-0852-4e14-a8b5-0823dd641980",
   "metadata": {},
   "outputs": [
    {
     "name": "stdout",
     "output_type": "stream",
     "text": [
      " 2022-03-10 15:37:44.723551 - Moving to 60 deg\n",
      "  Done.\n",
      " 2022-03-10 15:37:54.853238 - Moving to 30 deg\n"
     ]
    },
    {
     "ename": "AckError",
     "evalue": "msg='Command failed', ackcmd=(ackcmd private_seqNum=1009755427, ack=<SalRetCode.CMD_FAILED: -302>, error=1, result='Failed: Low-level controller in substate 1.0 instead of <EnabledSubstate.STATIONARY: 0>')",
     "output_type": "error",
     "traceback": [
      "\u001b[0;31m---------------------------------------------------------------------------\u001b[0m",
      "\u001b[0;31mAckError\u001b[0m                                  Traceback (most recent call last)",
      "Input \u001b[0;32mIn [51]\u001b[0m, in \u001b[0;36m<module>\u001b[0;34m\u001b[0m\n\u001b[1;32m      1\u001b[0m \u001b[38;5;28;01mfor\u001b[39;00m p \u001b[38;5;129;01min\u001b[39;00m [\u001b[38;5;241m60\u001b[39m, \u001b[38;5;241m30\u001b[39m, \u001b[38;5;241m0\u001b[39m]:\n\u001b[1;32m      2\u001b[0m     \u001b[38;5;28mprint\u001b[39m(\u001b[38;5;124mf\u001b[39m\u001b[38;5;124m\"\u001b[39m\u001b[38;5;124m \u001b[39m\u001b[38;5;132;01m{\u001b[39;00mdatetime\u001b[38;5;241m.\u001b[39mnow()\u001b[38;5;132;01m}\u001b[39;00m\u001b[38;5;124m - Moving to \u001b[39m\u001b[38;5;132;01m{\u001b[39;00mp\u001b[38;5;132;01m}\u001b[39;00m\u001b[38;5;124m deg\u001b[39m\u001b[38;5;124m\"\u001b[39m)\n\u001b[0;32m----> 3\u001b[0m     \u001b[38;5;28;01mawait\u001b[39;00m mtcs\u001b[38;5;241m.\u001b[39mrem\u001b[38;5;241m.\u001b[39mmtrotator\u001b[38;5;241m.\u001b[39mcmd_move\u001b[38;5;241m.\u001b[39mset_start(position\u001b[38;5;241m=\u001b[39mp, timeout\u001b[38;5;241m=\u001b[39m\u001b[38;5;241m5\u001b[39m)\n\u001b[1;32m      4\u001b[0m     \u001b[38;5;28;01mawait\u001b[39;00m asyncio\u001b[38;5;241m.\u001b[39msleep(\u001b[38;5;241m10.\u001b[39m)\n\u001b[1;32m      5\u001b[0m     \u001b[38;5;28mprint\u001b[39m(\u001b[38;5;124mf\u001b[39m\u001b[38;5;124m\"\u001b[39m\u001b[38;5;124m  Done.\u001b[39m\u001b[38;5;124m\"\u001b[39m)\n",
      "File \u001b[0;32m/opt/lsst/software/stack/conda/miniconda3-py38_4.9.2/envs/lsst-scipipe-2.0.0/lib/python3.8/site-packages/lsst/ts/salobj/topics/remote_command.py:423\u001b[0m, in \u001b[0;36mRemoteCommand.set_start\u001b[0;34m(self, timeout, wait_done, **kwargs)\u001b[0m\n\u001b[1;32m    382\u001b[0m \u001b[38;5;124;03m\"\"\"Create a new ``self.data``, set zero or more fields,\u001b[39;00m\n\u001b[1;32m    383\u001b[0m \u001b[38;5;124;03mand start the command.\u001b[39;00m\n\u001b[1;32m    384\u001b[0m \n\u001b[0;32m   (...)\u001b[0m\n\u001b[1;32m    420\u001b[0m \u001b[38;5;124;03m    If ``data`` is not None and not an instance of `DataType`.\u001b[39;00m\n\u001b[1;32m    421\u001b[0m \u001b[38;5;124;03m\"\"\"\u001b[39;00m\n\u001b[1;32m    422\u001b[0m \u001b[38;5;28mself\u001b[39m\u001b[38;5;241m.\u001b[39mset(\u001b[38;5;241m*\u001b[39m\u001b[38;5;241m*\u001b[39mkwargs)\n\u001b[0;32m--> 423\u001b[0m \u001b[38;5;28;01mreturn\u001b[39;00m \u001b[38;5;28;01mawait\u001b[39;00m \u001b[38;5;28mself\u001b[39m\u001b[38;5;241m.\u001b[39mstart(timeout\u001b[38;5;241m=\u001b[39mtimeout, wait_done\u001b[38;5;241m=\u001b[39mwait_done)\n",
      "File \u001b[0;32m/opt/lsst/software/stack/conda/miniconda3-py38_4.9.2/envs/lsst-scipipe-2.0.0/lib/python3.8/site-packages/lsst/ts/salobj/topics/remote_command.py:483\u001b[0m, in \u001b[0;36mRemoteCommand.start\u001b[0;34m(self, data, timeout, wait_done)\u001b[0m\n\u001b[1;32m    479\u001b[0m cmd_info \u001b[38;5;241m=\u001b[39m CommandInfo(\n\u001b[1;32m    480\u001b[0m     remote_command\u001b[38;5;241m=\u001b[39m\u001b[38;5;28mself\u001b[39m, seq_num\u001b[38;5;241m=\u001b[39mseq_num, wait_done\u001b[38;5;241m=\u001b[39mwait_done\n\u001b[1;32m    481\u001b[0m )\n\u001b[1;32m    482\u001b[0m \u001b[38;5;28mself\u001b[39m\u001b[38;5;241m.\u001b[39msalinfo\u001b[38;5;241m.\u001b[39m_running_cmds[seq_num] \u001b[38;5;241m=\u001b[39m cmd_info\n\u001b[0;32m--> 483\u001b[0m \u001b[38;5;28;01mreturn\u001b[39;00m \u001b[38;5;28;01mawait\u001b[39;00m cmd_info\u001b[38;5;241m.\u001b[39mnext_ackcmd(timeout\u001b[38;5;241m=\u001b[39mtimeout)\n",
      "File \u001b[0;32m/opt/lsst/software/stack/conda/miniconda3-py38_4.9.2/envs/lsst-scipipe-2.0.0/lib/python3.8/site-packages/lsst/ts/salobj/topics/remote_command.py:201\u001b[0m, in \u001b[0;36mCommandInfo.next_ackcmd\u001b[0;34m(self, timeout)\u001b[0m\n\u001b[1;32m    199\u001b[0m     ackcmd \u001b[38;5;241m=\u001b[39m \u001b[38;5;28;01mawait\u001b[39;00m \u001b[38;5;28mself\u001b[39m\u001b[38;5;241m.\u001b[39m_wait_task\n\u001b[1;32m    200\u001b[0m     \u001b[38;5;28;01mif\u001b[39;00m ackcmd\u001b[38;5;241m.\u001b[39mack \u001b[38;5;129;01min\u001b[39;00m \u001b[38;5;28mself\u001b[39m\u001b[38;5;241m.\u001b[39mfailed_ack_codes:\n\u001b[0;32m--> 201\u001b[0m         \u001b[38;5;28;01mraise\u001b[39;00m base\u001b[38;5;241m.\u001b[39mAckError(msg\u001b[38;5;241m=\u001b[39m\u001b[38;5;124m\"\u001b[39m\u001b[38;5;124mCommand failed\u001b[39m\u001b[38;5;124m\"\u001b[39m, ackcmd\u001b[38;5;241m=\u001b[39mackcmd)\n\u001b[1;32m    202\u001b[0m     \u001b[38;5;28;01mreturn\u001b[39;00m ackcmd\n\u001b[1;32m    203\u001b[0m \u001b[38;5;28;01mexcept\u001b[39;00m asyncio\u001b[38;5;241m.\u001b[39mTimeoutError:\n",
      "\u001b[0;31mAckError\u001b[0m: msg='Command failed', ackcmd=(ackcmd private_seqNum=1009755427, ack=<SalRetCode.CMD_FAILED: -302>, error=1, result='Failed: Low-level controller in substate 1.0 instead of <EnabledSubstate.STATIONARY: 0>')"
     ]
    }
   ],
   "source": [
    "for p in [60, 30, 0]:\n",
    "    print(f\" {datetime.now()} - Moving to {p} deg\")\n",
    "    await mtcs.rem.mtrotator.cmd_move.set_start(position=p, timeout=5)\n",
    "    await asyncio.sleep(20.)\n",
    "    print(f\"  Done.\")"
   ]
  },
  {
   "cell_type": "code",
   "execution_count": 53,
   "id": "ad3f6d27-095f-4f9a-b3e9-e8a836c84896",
   "metadata": {},
   "outputs": [
    {
     "data": {
      "text/plain": [
       "<ddsutil.MTRotator_ackcmd_f04f56ad at 0x7fba93c26490>"
      ]
     },
     "execution_count": 53,
     "metadata": {},
     "output_type": "execute_result"
    }
   ],
   "source": [
    "await mtcs.rem.mtrotator.cmd_move.set_start(position=89.5, timeout=5)"
   ]
  },
  {
   "cell_type": "code",
   "execution_count": 54,
   "id": "17cec3af-d90a-401b-a558-03dc2a4847fd",
   "metadata": {},
   "outputs": [
    {
     "name": "stdout",
     "output_type": "stream",
     "text": [
      " 2022-03-10 15:40:23.931172 - Moving to 60 deg\n",
      "  Done.\n",
      " 2022-03-10 15:40:44.031279 - Moving to 30 deg\n",
      "  Done.\n",
      " 2022-03-10 15:41:04.135722 - Moving to 0 deg\n",
      "  Done.\n"
     ]
    }
   ],
   "source": [
    "for p in [60, 30, 0]:\n",
    "    print(f\" {datetime.now()} - Moving to {p} deg\")\n",
    "    await mtcs.rem.mtrotator.cmd_move.set_start(position=p, timeout=5)\n",
    "    await asyncio.sleep(20.)\n",
    "    print(f\"  Done.\")"
   ]
  },
  {
   "cell_type": "code",
   "execution_count": 55,
   "id": "9ef33f94-7e8e-4eb1-bead-d5d1863b3997",
   "metadata": {},
   "outputs": [
    {
     "name": "stdout",
     "output_type": "stream",
     "text": [
      " 2022-03-10 15:41:30.180198 - Moving to -30 deg\n",
      "  Done.\n",
      " 2022-03-10 15:41:50.296074 - Moving to -60 deg\n",
      "  Done.\n",
      " 2022-03-10 15:42:10.401992 - Moving to -89.5 deg\n",
      "  Done.\n"
     ]
    }
   ],
   "source": [
    "for p in [-30, -60, -89.5]:\n",
    "    print(f\" {datetime.now()} - Moving to {p} deg\")\n",
    "    await mtcs.rem.mtrotator.cmd_move.set_start(position=p, timeout=5)\n",
    "    await asyncio.sleep(20.)\n",
    "    print(f\"  Done.\")"
   ]
  },
  {
   "cell_type": "markdown",
   "id": "92465d98-1efe-467a-ae5e-cc41e63e2240",
   "metadata": {
    "tags": []
   },
   "source": [
    "## Step 9 = Move the hexapod to (X=0, Y=0, Z=0, U=0deg, V=0.36deg, W=0)"
   ]
  },
  {
   "cell_type": "code",
   "execution_count": 56,
   "id": "7a10bef5-cc2a-4a1d-8b4f-df402f857d68",
   "metadata": {},
   "outputs": [
    {
     "data": {
      "text/html": [
       "<pre style=\"margin: 0.1em;\n",
       "padding-left: 0.25em;\n",
       "border-left-style: solid;\n",
       "font-family: var(--jp-code-font-family);\n",
       "font-size: var(--jp-code-font-size);\n",
       "line-height: var(--jp-code-line-height);\n",
       "\"><span style=\"color: var(--jp-warn-color2)\">Script</span> <span style=\"color: var(--jp-info-color0)\">INFO</span>: START -- LVV-2261: Hexapod x=0, Y=0, Z=0,U=0, V=+0.36deg, W=0  - Pathfinder Lines Not Pressurized -- Starting Time: 2022-03-10 15:43:00.467036 UTC</pre>"
      ],
      "text/plain": [
       "<IPython.core.display.HTML object>"
      ]
     },
     "metadata": {},
     "output_type": "display_data"
    },
    {
     "name": "stdout",
     "output_type": "stream",
     "text": [
      " 2022-03-10 15:43:00.468495 - Moving Hexapod to  x=0, Y=0, Z=0, U=0, V=0.36deg, W=0\n",
      " Done.\n"
     ]
    }
   ],
   "source": [
    "test_message = \"LVV-2261: Hexapod x=0, Y=0, Z=0,U=0, V=+0.36deg, W=0  - Pathfinder Lines Not Pressurized\"\n",
    "\n",
    "now = datetime.now()\n",
    "script.log.info(f\"START -- {test_message} -- Starting Time: {now} UTC\")\n",
    "print(f\" {datetime.now()} - Moving Hexapod to  x=0, Y=0, Z=0, U=0, V=0.36deg, W=0\")\n",
    "await mtcs.rem.mthexapod_1.cmd_move.set_start(x=0, y=0, z=0, u=0, v=0.36, w=0, sync=True)\n",
    "# await asyncio.sleep(15.)  # Just so if we need to press the e-stops\n",
    "print(f\" Done.\")"
   ]
  },
  {
   "cell_type": "code",
   "execution_count": 57,
   "id": "a0a8f343-276b-4c25-b978-ce338d80e444",
   "metadata": {
    "collapsed": true,
    "jupyter": {
     "outputs_hidden": true
    },
    "tags": []
   },
   "outputs": [
    {
     "name": "stdout",
     "output_type": "stream",
     "text": [
      " 2022-03-10 15:43:44.622407 - Moving to 60 deg\n",
      "  Done.\n",
      " 2022-03-10 15:44:04.727321 - Moving to 30 deg\n"
     ]
    },
    {
     "ename": "AckError",
     "evalue": "msg='Command failed', ackcmd=(ackcmd private_seqNum=1009755437, ack=<SalRetCode.CMD_FAILED: -302>, error=1, result='Failed: Low-level controller in substate 1.0 instead of <EnabledSubstate.STATIONARY: 0>')",
     "output_type": "error",
     "traceback": [
      "\u001b[0;31m---------------------------------------------------------------------------\u001b[0m",
      "\u001b[0;31mAckError\u001b[0m                                  Traceback (most recent call last)",
      "Input \u001b[0;32mIn [57]\u001b[0m, in \u001b[0;36m<module>\u001b[0;34m\u001b[0m\n\u001b[1;32m      1\u001b[0m \u001b[38;5;28;01mfor\u001b[39;00m p \u001b[38;5;129;01min\u001b[39;00m [\u001b[38;5;241m60\u001b[39m, \u001b[38;5;241m30\u001b[39m, \u001b[38;5;241m0\u001b[39m]:\n\u001b[1;32m      2\u001b[0m     \u001b[38;5;28mprint\u001b[39m(\u001b[38;5;124mf\u001b[39m\u001b[38;5;124m\"\u001b[39m\u001b[38;5;124m \u001b[39m\u001b[38;5;132;01m{\u001b[39;00mdatetime\u001b[38;5;241m.\u001b[39mnow()\u001b[38;5;132;01m}\u001b[39;00m\u001b[38;5;124m - Moving to \u001b[39m\u001b[38;5;132;01m{\u001b[39;00mp\u001b[38;5;132;01m}\u001b[39;00m\u001b[38;5;124m deg\u001b[39m\u001b[38;5;124m\"\u001b[39m)\n\u001b[0;32m----> 3\u001b[0m     \u001b[38;5;28;01mawait\u001b[39;00m mtcs\u001b[38;5;241m.\u001b[39mrem\u001b[38;5;241m.\u001b[39mmtrotator\u001b[38;5;241m.\u001b[39mcmd_move\u001b[38;5;241m.\u001b[39mset_start(position\u001b[38;5;241m=\u001b[39mp, timeout\u001b[38;5;241m=\u001b[39m\u001b[38;5;241m5\u001b[39m)\n\u001b[1;32m      4\u001b[0m     \u001b[38;5;28;01mawait\u001b[39;00m asyncio\u001b[38;5;241m.\u001b[39msleep(\u001b[38;5;241m20.\u001b[39m)\n\u001b[1;32m      5\u001b[0m     \u001b[38;5;28mprint\u001b[39m(\u001b[38;5;124mf\u001b[39m\u001b[38;5;124m\"\u001b[39m\u001b[38;5;124m  Done.\u001b[39m\u001b[38;5;124m\"\u001b[39m)\n",
      "File \u001b[0;32m/opt/lsst/software/stack/conda/miniconda3-py38_4.9.2/envs/lsst-scipipe-2.0.0/lib/python3.8/site-packages/lsst/ts/salobj/topics/remote_command.py:423\u001b[0m, in \u001b[0;36mRemoteCommand.set_start\u001b[0;34m(self, timeout, wait_done, **kwargs)\u001b[0m\n\u001b[1;32m    382\u001b[0m \u001b[38;5;124;03m\"\"\"Create a new ``self.data``, set zero or more fields,\u001b[39;00m\n\u001b[1;32m    383\u001b[0m \u001b[38;5;124;03mand start the command.\u001b[39;00m\n\u001b[1;32m    384\u001b[0m \n\u001b[0;32m   (...)\u001b[0m\n\u001b[1;32m    420\u001b[0m \u001b[38;5;124;03m    If ``data`` is not None and not an instance of `DataType`.\u001b[39;00m\n\u001b[1;32m    421\u001b[0m \u001b[38;5;124;03m\"\"\"\u001b[39;00m\n\u001b[1;32m    422\u001b[0m \u001b[38;5;28mself\u001b[39m\u001b[38;5;241m.\u001b[39mset(\u001b[38;5;241m*\u001b[39m\u001b[38;5;241m*\u001b[39mkwargs)\n\u001b[0;32m--> 423\u001b[0m \u001b[38;5;28;01mreturn\u001b[39;00m \u001b[38;5;28;01mawait\u001b[39;00m \u001b[38;5;28mself\u001b[39m\u001b[38;5;241m.\u001b[39mstart(timeout\u001b[38;5;241m=\u001b[39mtimeout, wait_done\u001b[38;5;241m=\u001b[39mwait_done)\n",
      "File \u001b[0;32m/opt/lsst/software/stack/conda/miniconda3-py38_4.9.2/envs/lsst-scipipe-2.0.0/lib/python3.8/site-packages/lsst/ts/salobj/topics/remote_command.py:483\u001b[0m, in \u001b[0;36mRemoteCommand.start\u001b[0;34m(self, data, timeout, wait_done)\u001b[0m\n\u001b[1;32m    479\u001b[0m cmd_info \u001b[38;5;241m=\u001b[39m CommandInfo(\n\u001b[1;32m    480\u001b[0m     remote_command\u001b[38;5;241m=\u001b[39m\u001b[38;5;28mself\u001b[39m, seq_num\u001b[38;5;241m=\u001b[39mseq_num, wait_done\u001b[38;5;241m=\u001b[39mwait_done\n\u001b[1;32m    481\u001b[0m )\n\u001b[1;32m    482\u001b[0m \u001b[38;5;28mself\u001b[39m\u001b[38;5;241m.\u001b[39msalinfo\u001b[38;5;241m.\u001b[39m_running_cmds[seq_num] \u001b[38;5;241m=\u001b[39m cmd_info\n\u001b[0;32m--> 483\u001b[0m \u001b[38;5;28;01mreturn\u001b[39;00m \u001b[38;5;28;01mawait\u001b[39;00m cmd_info\u001b[38;5;241m.\u001b[39mnext_ackcmd(timeout\u001b[38;5;241m=\u001b[39mtimeout)\n",
      "File \u001b[0;32m/opt/lsst/software/stack/conda/miniconda3-py38_4.9.2/envs/lsst-scipipe-2.0.0/lib/python3.8/site-packages/lsst/ts/salobj/topics/remote_command.py:201\u001b[0m, in \u001b[0;36mCommandInfo.next_ackcmd\u001b[0;34m(self, timeout)\u001b[0m\n\u001b[1;32m    199\u001b[0m     ackcmd \u001b[38;5;241m=\u001b[39m \u001b[38;5;28;01mawait\u001b[39;00m \u001b[38;5;28mself\u001b[39m\u001b[38;5;241m.\u001b[39m_wait_task\n\u001b[1;32m    200\u001b[0m     \u001b[38;5;28;01mif\u001b[39;00m ackcmd\u001b[38;5;241m.\u001b[39mack \u001b[38;5;129;01min\u001b[39;00m \u001b[38;5;28mself\u001b[39m\u001b[38;5;241m.\u001b[39mfailed_ack_codes:\n\u001b[0;32m--> 201\u001b[0m         \u001b[38;5;28;01mraise\u001b[39;00m base\u001b[38;5;241m.\u001b[39mAckError(msg\u001b[38;5;241m=\u001b[39m\u001b[38;5;124m\"\u001b[39m\u001b[38;5;124mCommand failed\u001b[39m\u001b[38;5;124m\"\u001b[39m, ackcmd\u001b[38;5;241m=\u001b[39mackcmd)\n\u001b[1;32m    202\u001b[0m     \u001b[38;5;28;01mreturn\u001b[39;00m ackcmd\n\u001b[1;32m    203\u001b[0m \u001b[38;5;28;01mexcept\u001b[39;00m asyncio\u001b[38;5;241m.\u001b[39mTimeoutError:\n",
      "\u001b[0;31mAckError\u001b[0m: msg='Command failed', ackcmd=(ackcmd private_seqNum=1009755437, ack=<SalRetCode.CMD_FAILED: -302>, error=1, result='Failed: Low-level controller in substate 1.0 instead of <EnabledSubstate.STATIONARY: 0>')"
     ]
    }
   ],
   "source": [
    "for p in [60, 30, 0]:\n",
    "    print(f\" {datetime.now()} - Moving to {p} deg\")\n",
    "    await mtcs.rem.mtrotator.cmd_move.set_start(position=p, timeout=5)\n",
    "    await asyncio.sleep(20.)\n",
    "    print(f\"  Done.\")"
   ]
  },
  {
   "cell_type": "code",
   "execution_count": 58,
   "id": "32e57ab9-6da8-4ed2-a609-3d0103c40e40",
   "metadata": {},
   "outputs": [
    {
     "data": {
      "text/plain": [
       "<ddsutil.MTRotator_ackcmd_f04f56ad at 0x7fba93e37f70>"
      ]
     },
     "execution_count": 58,
     "metadata": {},
     "output_type": "execute_result"
    }
   ],
   "source": [
    "await mtcs.rem.mtrotator.cmd_move.set_start(position=0, timeout=5)"
   ]
  },
  {
   "cell_type": "code",
   "execution_count": 60,
   "id": "adc2bcd0-03e6-4e83-b50b-d8306c6e3bf7",
   "metadata": {},
   "outputs": [
    {
     "name": "stdout",
     "output_type": "stream",
     "text": [
      " 2022-03-10 15:45:26.741467 - Moving to 30\n",
      " Done.\n",
      " 2022-03-10 15:45:46.799985 - Moving to 60\n",
      " Done.\n",
      " 2022-03-10 15:46:06.905797 - Moving to 89.5\n",
      " Done.\n"
     ]
    }
   ],
   "source": [
    "for p in [30, 60, 89.5]:\n",
    "    print(f\" {datetime.now()} - Moving to {p}\")\n",
    "    await mtcs.rem.mtrotator.cmd_move.set_start(position=p, timeout=5.)\n",
    "    await asyncio.sleep(20.)\n",
    "    print(f\" Done.\")"
   ]
  },
  {
   "cell_type": "code",
   "execution_count": 61,
   "id": "84bc85d9-7b07-4787-8569-18d3179834ef",
   "metadata": {},
   "outputs": [
    {
     "name": "stdout",
     "output_type": "stream",
     "text": [
      " 2022-03-10 15:46:57.511575 - Moving to 60 deg\n",
      "  Done.\n",
      " 2022-03-10 15:47:17.622500 - Moving to 30 deg\n",
      "  Done.\n",
      " 2022-03-10 15:47:37.726421 - Moving to 0 deg\n",
      "  Done.\n"
     ]
    }
   ],
   "source": [
    "for p in [60, 30, 0]:\n",
    "    print(f\" {datetime.now()} - Moving to {p} deg\")\n",
    "    await mtcs.rem.mtrotator.cmd_move.set_start(position=p, timeout=5)\n",
    "    await asyncio.sleep(20.)\n",
    "    print(f\"  Done.\")"
   ]
  },
  {
   "cell_type": "code",
   "execution_count": 62,
   "id": "b5a2f3a3-d87b-4ba1-b5c5-2f2cbbda07cb",
   "metadata": {
    "tags": []
   },
   "outputs": [
    {
     "name": "stdout",
     "output_type": "stream",
     "text": [
      " 2022-03-10 15:48:29.738678 - Moving to -30 deg\n",
      "  Done.\n",
      " 2022-03-10 15:48:49.843780 - Moving to -60 deg\n",
      "  Done.\n",
      " 2022-03-10 15:49:09.948046 - Moving to -89.5 deg\n",
      "  Done.\n"
     ]
    }
   ],
   "source": [
    "for p in [-30, -60, -89.5]:\n",
    "    print(f\" {datetime.now()} - Moving to {p} deg\")\n",
    "    await mtcs.rem.mtrotator.cmd_move.set_start(position=p, timeout=5)\n",
    "    await asyncio.sleep(20.)\n",
    "    print(f\"  Done.\")"
   ]
  },
  {
   "cell_type": "code",
   "execution_count": null,
   "id": "60a70fb8-12e3-4165-bdcb-904d13d2c3f8",
   "metadata": {
    "tags": []
   },
   "outputs": [],
   "source": []
  },
  {
   "cell_type": "markdown",
   "id": "813a9d17-8aa5-4edc-a2bf-71dcba0b3677",
   "metadata": {
    "tags": []
   },
   "source": [
    "## Step 12 = Move the hexapod to (X=11400, Y=0, Z=-10000, U=0, V=0, W=0)"
   ]
  },
  {
   "cell_type": "code",
   "execution_count": 63,
   "id": "bf50d415-84fc-49ee-8fbb-90997281c639",
   "metadata": {},
   "outputs": [
    {
     "data": {
      "text/html": [
       "<pre style=\"margin: 0.1em;\n",
       "padding-left: 0.25em;\n",
       "border-left-style: solid;\n",
       "font-family: var(--jp-code-font-family);\n",
       "font-size: var(--jp-code-font-size);\n",
       "line-height: var(--jp-code-line-height);\n",
       "\"><span style=\"color: var(--jp-warn-color2)\">Script</span> <span style=\"color: var(--jp-info-color0)\">INFO</span>: START -- LVV-2261: Hexapod X=11400, Y=0, Z=-10000, U=0, V=0, W=0  - Pathfinder Lines Not Pressurized -- Starting Time: 2022-03-10 15:50:09.918782 UTC</pre>"
      ],
      "text/plain": [
       "<IPython.core.display.HTML object>"
      ]
     },
     "metadata": {},
     "output_type": "display_data"
    },
    {
     "name": "stdout",
     "output_type": "stream",
     "text": [
      " 2022-03-10 15:50:09.920182 - Moving Hexapod to  X=11400, Y=0, Z=-10000, U=0, V=0, W=0\n",
      " Done.\n"
     ]
    }
   ],
   "source": [
    "test_message = \"LVV-2261: Hexapod X=11400, Y=0, Z=-10000, U=0, V=0, W=0  - Pathfinder Lines Not Pressurized\"\n",
    "\n",
    "now = datetime.now()\n",
    "script.log.info(f\"START -- {test_message} -- Starting Time: {now} UTC\")\n",
    "print(f\" {datetime.now()} - Moving Hexapod to  X=11400, Y=0, Z=-10000, U=0, V=0, W=0\")\n",
    "await mtcs.rem.mthexapod_1.cmd_move.set_start(x=11400, y=0, z=-10000, u=0, v=0, w=0, sync=True)\n",
    "# await asyncio.sleep(15.)  # Just so if we need to press the e-stops\n",
    "print(f\" Done.\")"
   ]
  },
  {
   "cell_type": "code",
   "execution_count": 64,
   "id": "52e2e22b-99af-47fa-a622-a536c34e59ac",
   "metadata": {},
   "outputs": [
    {
     "data": {
      "text/plain": [
       "<ddsutil.MTRotator_ackcmd_f04f56ad at 0x7fbaf0eafd90>"
      ]
     },
     "execution_count": 64,
     "metadata": {},
     "output_type": "execute_result"
    }
   ],
   "source": [
    "await mtcs.rem.mtrotator.cmd_move.set_start(position=0, timeout=5)"
   ]
  },
  {
   "cell_type": "code",
   "execution_count": 65,
   "id": "ad5b9528-4f89-440f-8dd0-6cc6905137cb",
   "metadata": {},
   "outputs": [
    {
     "name": "stdout",
     "output_type": "stream",
     "text": [
      " 2022-03-10 15:51:04.345345 - Moving to 30\n",
      " Done.\n",
      " 2022-03-10 15:51:24.430510 - Moving to 60\n",
      " Done.\n",
      " 2022-03-10 15:51:44.534136 - Moving to 89.5\n",
      " Done.\n"
     ]
    }
   ],
   "source": [
    "for p in [30, 60, 89.5]:\n",
    "    print(f\" {datetime.now()} - Moving to {p}\")\n",
    "    await mtcs.rem.mtrotator.cmd_move.set_start(position=p, timeout=5.)\n",
    "    await asyncio.sleep(20.)\n",
    "    print(f\" Done.\")"
   ]
  },
  {
   "cell_type": "code",
   "execution_count": 66,
   "id": "36ce6442-cec7-4991-aa16-22f3f8d43b8e",
   "metadata": {},
   "outputs": [
    {
     "name": "stdout",
     "output_type": "stream",
     "text": [
      " 2022-03-10 15:52:52.085207 - Moving to 60 deg\n",
      "  Done.\n",
      " 2022-03-10 15:53:12.154346 - Moving to 30 deg\n",
      "  Done.\n",
      " 2022-03-10 15:53:32.260802 - Moving to 0 deg\n",
      "  Done.\n"
     ]
    }
   ],
   "source": [
    "for p in [60, 30, 0]:\n",
    "    print(f\" {datetime.now()} - Moving to {p} deg\")\n",
    "    await mtcs.rem.mtrotator.cmd_move.set_start(position=p, timeout=5)\n",
    "    await asyncio.sleep(20.)\n",
    "    print(f\"  Done.\")"
   ]
  },
  {
   "cell_type": "code",
   "execution_count": 67,
   "id": "c0d49cec-2ecc-48ee-8288-9cc0dc91f5d1",
   "metadata": {
    "tags": []
   },
   "outputs": [
    {
     "name": "stdout",
     "output_type": "stream",
     "text": [
      " 2022-03-10 15:54:53.586387 - Moving to -30 deg\n",
      "  Done.\n",
      " 2022-03-10 15:55:13.683307 - Moving to -60 deg\n",
      "  Done.\n",
      " 2022-03-10 15:55:33.740034 - Moving to -89.5 deg\n",
      "  Done.\n"
     ]
    }
   ],
   "source": [
    "for p in [-30, -60, -89.5]:\n",
    "    print(f\" {datetime.now()} - Moving to {p} deg\")\n",
    "    await mtcs.rem.mtrotator.cmd_move.set_start(position=p, timeout=5)\n",
    "    await asyncio.sleep(20.)\n",
    "    print(f\"  Done.\")"
   ]
  },
  {
   "cell_type": "markdown",
   "id": "c962a053-d746-4846-98ad-0418cdc13da3",
   "metadata": {
    "tags": []
   },
   "source": [
    "## Step 13 = Move the hexapod to (X=6700, Y=6700, Z=-10000, U=0, V=0, W=0)"
   ]
  },
  {
   "cell_type": "code",
   "execution_count": 68,
   "id": "f9d9da1a-7396-48e8-86b5-9a297e8268b9",
   "metadata": {},
   "outputs": [
    {
     "data": {
      "text/html": [
       "<pre style=\"margin: 0.1em;\n",
       "padding-left: 0.25em;\n",
       "border-left-style: solid;\n",
       "font-family: var(--jp-code-font-family);\n",
       "font-size: var(--jp-code-font-size);\n",
       "line-height: var(--jp-code-line-height);\n",
       "\"><span style=\"color: var(--jp-warn-color2)\">Script</span> <span style=\"color: var(--jp-info-color0)\">INFO</span>: START -- LVV-2261: Hexapod X=6700, Y=6700, Z=-10000, U=0, V=0, W=0  - Pathfinder Lines Not Pressurized -- Starting Time: 2022-03-10 15:56:05.997526 UTC</pre>"
      ],
      "text/plain": [
       "<IPython.core.display.HTML object>"
      ]
     },
     "metadata": {},
     "output_type": "display_data"
    },
    {
     "name": "stdout",
     "output_type": "stream",
     "text": [
      " 2022-03-10 15:56:05.998919 - Moving Hexapod to  X=6700, Y=6700, Z=-10000, U=0, V=0, W=0\n",
      " Done.\n"
     ]
    }
   ],
   "source": [
    "test_message = \"LVV-2261: Hexapod X=6700, Y=6700, Z=-10000, U=0, V=0, W=0  - Pathfinder Lines Not Pressurized\"\n",
    "\n",
    "now = datetime.now()\n",
    "script.log.info(f\"START -- {test_message} -- Starting Time: {now} UTC\")\n",
    "print(f\" {datetime.now()} - Moving Hexapod to  X=6700, Y=6700, Z=-10000, U=0, V=0, W=0\")\n",
    "await mtcs.rem.mthexapod_1.cmd_move.set_start(x=6700, y=6700, z=-10000, u=0, v=0, w=0, sync=True)\n",
    "# await asyncio.sleep(15.)  # Just so if we need to press the e-stops\n",
    "print(f\" Done.\")"
   ]
  },
  {
   "cell_type": "code",
   "execution_count": 69,
   "id": "ae238178-a48b-4ca2-843f-a8cd5dfde5b9",
   "metadata": {},
   "outputs": [
    {
     "data": {
      "text/plain": [
       "<ddsutil.MTRotator_ackcmd_f04f56ad at 0x7fba93e9e640>"
      ]
     },
     "execution_count": 69,
     "metadata": {},
     "output_type": "execute_result"
    }
   ],
   "source": [
    "await mtcs.rem.mtrotator.cmd_move.set_start(position=0, timeout=5)"
   ]
  },
  {
   "cell_type": "code",
   "execution_count": 70,
   "id": "076b87d8-d3c0-4291-ba75-8edfad43b1e6",
   "metadata": {},
   "outputs": [
    {
     "name": "stdout",
     "output_type": "stream",
     "text": [
      " 2022-03-10 15:56:48.545189 - Moving to 30\n",
      " Done.\n",
      " 2022-03-10 15:57:08.611587 - Moving to 60\n",
      " Done.\n",
      " 2022-03-10 15:57:28.715576 - Moving to 89.5\n",
      " Done.\n"
     ]
    }
   ],
   "source": [
    "for p in [30, 60, 89.5]:\n",
    "    print(f\" {datetime.now()} - Moving to {p}\")\n",
    "    await mtcs.rem.mtrotator.cmd_move.set_start(position=p, timeout=5.)\n",
    "    await asyncio.sleep(20.)\n",
    "    print(f\" Done.\")"
   ]
  },
  {
   "cell_type": "code",
   "execution_count": 71,
   "id": "fa2e54bd-9c0a-4534-8d72-6fd2bbe7eb63",
   "metadata": {},
   "outputs": [
    {
     "name": "stdout",
     "output_type": "stream",
     "text": [
      " 2022-03-10 15:57:48.804661 - Moving to 60 deg\n",
      "  Done.\n",
      " 2022-03-10 15:58:08.875820 - Moving to 30 deg\n",
      "  Done.\n",
      " 2022-03-10 15:58:28.980401 - Moving to 0 deg\n",
      "  Done.\n"
     ]
    }
   ],
   "source": [
    "for p in [60, 30, 0]:\n",
    "    print(f\" {datetime.now()} - Moving to {p} deg\")\n",
    "    await mtcs.rem.mtrotator.cmd_move.set_start(position=p, timeout=5)\n",
    "    await asyncio.sleep(20.)\n",
    "    print(f\"  Done.\")"
   ]
  },
  {
   "cell_type": "code",
   "execution_count": 72,
   "id": "145345a9-dad6-47b1-9857-9b77984c6c90",
   "metadata": {
    "tags": []
   },
   "outputs": [
    {
     "name": "stdout",
     "output_type": "stream",
     "text": [
      " 2022-03-10 15:59:30.678835 - Moving to -30 deg\n",
      "  Done.\n",
      " 2022-03-10 15:59:50.751057 - Moving to -60 deg\n"
     ]
    },
    {
     "ename": "AckError",
     "evalue": "msg='Command failed', ackcmd=(ackcmd private_seqNum=1009755467, ack=<SalRetCode.CMD_FAILED: -302>, error=1, result='Failed: Rejected: initial state is <State.FAULT: 3> instead of <State.ENABLED: 2>')",
     "output_type": "error",
     "traceback": [
      "\u001b[0;31m---------------------------------------------------------------------------\u001b[0m",
      "\u001b[0;31mAckError\u001b[0m                                  Traceback (most recent call last)",
      "Input \u001b[0;32mIn [72]\u001b[0m, in \u001b[0;36m<module>\u001b[0;34m\u001b[0m\n\u001b[1;32m      1\u001b[0m \u001b[38;5;28;01mfor\u001b[39;00m p \u001b[38;5;129;01min\u001b[39;00m [\u001b[38;5;241m-\u001b[39m\u001b[38;5;241m30\u001b[39m, \u001b[38;5;241m-\u001b[39m\u001b[38;5;241m60\u001b[39m, \u001b[38;5;241m-\u001b[39m\u001b[38;5;241m89.5\u001b[39m]:\n\u001b[1;32m      2\u001b[0m     \u001b[38;5;28mprint\u001b[39m(\u001b[38;5;124mf\u001b[39m\u001b[38;5;124m\"\u001b[39m\u001b[38;5;124m \u001b[39m\u001b[38;5;132;01m{\u001b[39;00mdatetime\u001b[38;5;241m.\u001b[39mnow()\u001b[38;5;132;01m}\u001b[39;00m\u001b[38;5;124m - Moving to \u001b[39m\u001b[38;5;132;01m{\u001b[39;00mp\u001b[38;5;132;01m}\u001b[39;00m\u001b[38;5;124m deg\u001b[39m\u001b[38;5;124m\"\u001b[39m)\n\u001b[0;32m----> 3\u001b[0m     \u001b[38;5;28;01mawait\u001b[39;00m mtcs\u001b[38;5;241m.\u001b[39mrem\u001b[38;5;241m.\u001b[39mmtrotator\u001b[38;5;241m.\u001b[39mcmd_move\u001b[38;5;241m.\u001b[39mset_start(position\u001b[38;5;241m=\u001b[39mp, timeout\u001b[38;5;241m=\u001b[39m\u001b[38;5;241m5\u001b[39m)\n\u001b[1;32m      4\u001b[0m     \u001b[38;5;28;01mawait\u001b[39;00m asyncio\u001b[38;5;241m.\u001b[39msleep(\u001b[38;5;241m20.\u001b[39m)\n\u001b[1;32m      5\u001b[0m     \u001b[38;5;28mprint\u001b[39m(\u001b[38;5;124mf\u001b[39m\u001b[38;5;124m\"\u001b[39m\u001b[38;5;124m  Done.\u001b[39m\u001b[38;5;124m\"\u001b[39m)\n",
      "File \u001b[0;32m/opt/lsst/software/stack/conda/miniconda3-py38_4.9.2/envs/lsst-scipipe-2.0.0/lib/python3.8/site-packages/lsst/ts/salobj/topics/remote_command.py:423\u001b[0m, in \u001b[0;36mRemoteCommand.set_start\u001b[0;34m(self, timeout, wait_done, **kwargs)\u001b[0m\n\u001b[1;32m    382\u001b[0m \u001b[38;5;124;03m\"\"\"Create a new ``self.data``, set zero or more fields,\u001b[39;00m\n\u001b[1;32m    383\u001b[0m \u001b[38;5;124;03mand start the command.\u001b[39;00m\n\u001b[1;32m    384\u001b[0m \n\u001b[0;32m   (...)\u001b[0m\n\u001b[1;32m    420\u001b[0m \u001b[38;5;124;03m    If ``data`` is not None and not an instance of `DataType`.\u001b[39;00m\n\u001b[1;32m    421\u001b[0m \u001b[38;5;124;03m\"\"\"\u001b[39;00m\n\u001b[1;32m    422\u001b[0m \u001b[38;5;28mself\u001b[39m\u001b[38;5;241m.\u001b[39mset(\u001b[38;5;241m*\u001b[39m\u001b[38;5;241m*\u001b[39mkwargs)\n\u001b[0;32m--> 423\u001b[0m \u001b[38;5;28;01mreturn\u001b[39;00m \u001b[38;5;28;01mawait\u001b[39;00m \u001b[38;5;28mself\u001b[39m\u001b[38;5;241m.\u001b[39mstart(timeout\u001b[38;5;241m=\u001b[39mtimeout, wait_done\u001b[38;5;241m=\u001b[39mwait_done)\n",
      "File \u001b[0;32m/opt/lsst/software/stack/conda/miniconda3-py38_4.9.2/envs/lsst-scipipe-2.0.0/lib/python3.8/site-packages/lsst/ts/salobj/topics/remote_command.py:483\u001b[0m, in \u001b[0;36mRemoteCommand.start\u001b[0;34m(self, data, timeout, wait_done)\u001b[0m\n\u001b[1;32m    479\u001b[0m cmd_info \u001b[38;5;241m=\u001b[39m CommandInfo(\n\u001b[1;32m    480\u001b[0m     remote_command\u001b[38;5;241m=\u001b[39m\u001b[38;5;28mself\u001b[39m, seq_num\u001b[38;5;241m=\u001b[39mseq_num, wait_done\u001b[38;5;241m=\u001b[39mwait_done\n\u001b[1;32m    481\u001b[0m )\n\u001b[1;32m    482\u001b[0m \u001b[38;5;28mself\u001b[39m\u001b[38;5;241m.\u001b[39msalinfo\u001b[38;5;241m.\u001b[39m_running_cmds[seq_num] \u001b[38;5;241m=\u001b[39m cmd_info\n\u001b[0;32m--> 483\u001b[0m \u001b[38;5;28;01mreturn\u001b[39;00m \u001b[38;5;28;01mawait\u001b[39;00m cmd_info\u001b[38;5;241m.\u001b[39mnext_ackcmd(timeout\u001b[38;5;241m=\u001b[39mtimeout)\n",
      "File \u001b[0;32m/opt/lsst/software/stack/conda/miniconda3-py38_4.9.2/envs/lsst-scipipe-2.0.0/lib/python3.8/site-packages/lsst/ts/salobj/topics/remote_command.py:201\u001b[0m, in \u001b[0;36mCommandInfo.next_ackcmd\u001b[0;34m(self, timeout)\u001b[0m\n\u001b[1;32m    199\u001b[0m     ackcmd \u001b[38;5;241m=\u001b[39m \u001b[38;5;28;01mawait\u001b[39;00m \u001b[38;5;28mself\u001b[39m\u001b[38;5;241m.\u001b[39m_wait_task\n\u001b[1;32m    200\u001b[0m     \u001b[38;5;28;01mif\u001b[39;00m ackcmd\u001b[38;5;241m.\u001b[39mack \u001b[38;5;129;01min\u001b[39;00m \u001b[38;5;28mself\u001b[39m\u001b[38;5;241m.\u001b[39mfailed_ack_codes:\n\u001b[0;32m--> 201\u001b[0m         \u001b[38;5;28;01mraise\u001b[39;00m base\u001b[38;5;241m.\u001b[39mAckError(msg\u001b[38;5;241m=\u001b[39m\u001b[38;5;124m\"\u001b[39m\u001b[38;5;124mCommand failed\u001b[39m\u001b[38;5;124m\"\u001b[39m, ackcmd\u001b[38;5;241m=\u001b[39mackcmd)\n\u001b[1;32m    202\u001b[0m     \u001b[38;5;28;01mreturn\u001b[39;00m ackcmd\n\u001b[1;32m    203\u001b[0m \u001b[38;5;28;01mexcept\u001b[39;00m asyncio\u001b[38;5;241m.\u001b[39mTimeoutError:\n",
      "\u001b[0;31mAckError\u001b[0m: msg='Command failed', ackcmd=(ackcmd private_seqNum=1009755467, ack=<SalRetCode.CMD_FAILED: -302>, error=1, result='Failed: Rejected: initial state is <State.FAULT: 3> instead of <State.ENABLED: 2>')"
     ]
    }
   ],
   "source": [
    "for p in [-30, -60, -89.5]:\n",
    "    print(f\" {datetime.now()} - Moving to {p} deg\")\n",
    "    await mtcs.rem.mtrotator.cmd_move.set_start(position=p, timeout=5)\n",
    "    await asyncio.sleep(20.)\n",
    "    print(f\"  Done.\")"
   ]
  },
  {
   "cell_type": "code",
   "execution_count": 74,
   "id": "58ddeac1-1f5f-45df-8877-420d11236d68",
   "metadata": {},
   "outputs": [
    {
     "data": {
      "text/plain": [
       "<ddsutil.MTRotator_ackcmd_f04f56ad at 0x7fba93e30e50>"
      ]
     },
     "execution_count": 74,
     "metadata": {},
     "output_type": "execute_result"
    }
   ],
   "source": [
    "await mtcs.rem.mtrotator.cmd_move.set_start(position=0, timeout=5)"
   ]
  },
  {
   "cell_type": "code",
   "execution_count": 75,
   "id": "3a7601d9-48b0-4aaa-9e90-f99270c689db",
   "metadata": {},
   "outputs": [
    {
     "name": "stdout",
     "output_type": "stream",
     "text": [
      " 2022-03-10 17:02:35.954612 - Moving to -30 deg\n",
      "  Done.\n",
      " 2022-03-10 17:02:56.067859 - Moving to -60 deg\n",
      "  Done.\n",
      " 2022-03-10 17:03:16.174231 - Moving to -89.5 deg\n",
      "  Done.\n"
     ]
    }
   ],
   "source": [
    "for p in [-30, -60, -89.5]:\n",
    "    print(f\" {datetime.now()} - Moving to {p} deg\")\n",
    "    await mtcs.rem.mtrotator.cmd_move.set_start(position=p, timeout=5)\n",
    "    await asyncio.sleep(20.)\n",
    "    print(f\"  Done.\")"
   ]
  },
  {
   "cell_type": "markdown",
   "id": "1e69fe7c-f052-431e-a0b1-9fb9e1ebcd77",
   "metadata": {
    "tags": []
   },
   "source": [
    "## Step 14 = Move the hexapod to (X=6700, Y=-6700, Z=-10000, U=0, V=0, W=0)"
   ]
  },
  {
   "cell_type": "code",
   "execution_count": 76,
   "id": "a34e50a7-d7ff-4401-af93-d149d10e9dd4",
   "metadata": {},
   "outputs": [
    {
     "data": {
      "text/html": [
       "<pre style=\"margin: 0.1em;\n",
       "padding-left: 0.25em;\n",
       "border-left-style: solid;\n",
       "font-family: var(--jp-code-font-family);\n",
       "font-size: var(--jp-code-font-size);\n",
       "line-height: var(--jp-code-line-height);\n",
       "\"><span style=\"color: var(--jp-warn-color2)\">Script</span> <span style=\"color: var(--jp-info-color0)\">INFO</span>: START -- LVV-2261: Hexapod X=6700, Y=-6700, Z=-10000, U=0, V=0, W=0  - Pathfinder Lines Not Pressurized -- Starting Time: 2022-03-10 17:04:04.894541 UTC</pre>"
      ],
      "text/plain": [
       "<IPython.core.display.HTML object>"
      ]
     },
     "metadata": {},
     "output_type": "display_data"
    },
    {
     "name": "stdout",
     "output_type": "stream",
     "text": [
      " 2022-03-10 17:04:04.895955 - Moving Hexapod to  X=6700, Y=-6700, Z=-10000, U=0, V=0, W=0\n",
      " Done.\n"
     ]
    }
   ],
   "source": [
    "test_message = \"LVV-2261: Hexapod X=6700, Y=-6700, Z=-10000, U=0, V=0, W=0  - Pathfinder Lines Not Pressurized\"\n",
    "\n",
    "now = datetime.now()\n",
    "script.log.info(f\"START -- {test_message} -- Starting Time: {now} UTC\")\n",
    "print(f\" {datetime.now()} - Moving Hexapod to  X=6700, Y=-6700, Z=-10000, U=0, V=0, W=0\")\n",
    "await mtcs.rem.mthexapod_1.cmd_move.set_start(x=6700, y=-6700, z=-10000, u=0, v=0, w=0, sync=True)\n",
    "# await asyncio.sleep(15.)  # Just so if we need to press the e-stops\n",
    "print(f\" Done.\")"
   ]
  },
  {
   "cell_type": "code",
   "execution_count": 77,
   "id": "f9e5f77c-3d7a-4d66-98a0-59d332112b2c",
   "metadata": {},
   "outputs": [
    {
     "data": {
      "text/plain": [
       "<ddsutil.MTRotator_ackcmd_f04f56ad at 0x7fbaf0f224f0>"
      ]
     },
     "execution_count": 77,
     "metadata": {},
     "output_type": "execute_result"
    }
   ],
   "source": [
    "await mtcs.rem.mtrotator.cmd_move.set_start(position=0, timeout=5)"
   ]
  },
  {
   "cell_type": "code",
   "execution_count": 78,
   "id": "57d25580-8f18-4139-bf48-cff2324714f4",
   "metadata": {},
   "outputs": [
    {
     "name": "stdout",
     "output_type": "stream",
     "text": [
      " 2022-03-10 17:07:41.172506 - Moving to 30\n",
      " Done.\n",
      " 2022-03-10 17:08:01.288757 - Moving to 60\n",
      " Done.\n",
      " 2022-03-10 17:08:21.394099 - Moving to 89.5\n",
      " Done.\n"
     ]
    }
   ],
   "source": [
    "for p in [30, 60, 89.5]:\n",
    "    print(f\" {datetime.now()} - Moving to {p}\")\n",
    "    await mtcs.rem.mtrotator.cmd_move.set_start(position=p, timeout=5.)\n",
    "    await asyncio.sleep(20.)\n",
    "    print(f\" Done.\")"
   ]
  },
  {
   "cell_type": "code",
   "execution_count": 79,
   "id": "6abd3ece-b174-4434-a4e4-0c3891f5ee41",
   "metadata": {},
   "outputs": [
    {
     "name": "stdout",
     "output_type": "stream",
     "text": [
      " 2022-03-10 17:08:41.531965 - Moving to 60 deg\n",
      "  Done.\n",
      " 2022-03-10 17:09:01.604032 - Moving to 30 deg\n",
      "  Done.\n",
      " 2022-03-10 17:09:21.709227 - Moving to 0 deg\n",
      "  Done.\n"
     ]
    }
   ],
   "source": [
    "for p in [60, 30, 0]:\n",
    "    print(f\" {datetime.now()} - Moving to {p} deg\")\n",
    "    await mtcs.rem.mtrotator.cmd_move.set_start(position=p, timeout=5)\n",
    "    await asyncio.sleep(20.)\n",
    "    print(f\"  Done.\")"
   ]
  },
  {
   "cell_type": "code",
   "execution_count": 80,
   "id": "aeef1a60-21f3-46b0-acab-deed00506c75",
   "metadata": {
    "tags": []
   },
   "outputs": [
    {
     "name": "stdout",
     "output_type": "stream",
     "text": [
      " 2022-03-10 17:09:41.846659 - Moving to -30 deg\n",
      "  Done.\n",
      " 2022-03-10 17:10:01.917703 - Moving to -60 deg\n",
      "  Done.\n",
      " 2022-03-10 17:10:22.021901 - Moving to -89.5 deg\n",
      "  Done.\n"
     ]
    }
   ],
   "source": [
    "for p in [-30, -60, -89.5]:\n",
    "    print(f\" {datetime.now()} - Moving to {p} deg\")\n",
    "    await mtcs.rem.mtrotator.cmd_move.set_start(position=p, timeout=5)\n",
    "    await asyncio.sleep(20.)\n",
    "    print(f\"  Done.\")"
   ]
  },
  {
   "cell_type": "markdown",
   "id": "07306d33-1a03-4f1e-a109-77f978e02bce",
   "metadata": {
    "tags": []
   },
   "source": [
    "## Step 15 = Move the hexapod to (X=-6700, Y=-6700, Z=-10000, U=0, V=0, W=0)"
   ]
  },
  {
   "cell_type": "markdown",
   "id": "815182d6-9204-48f4-b4ab-67eb45842d90",
   "metadata": {},
   "source": [
    "This needed to be repeated since the hexapod was not in position"
   ]
  },
  {
   "cell_type": "code",
   "execution_count": 104,
   "id": "d73a5bbb-ab05-4a55-b053-f987fce18890",
   "metadata": {},
   "outputs": [
    {
     "data": {
      "text/html": [
       "<pre style=\"margin: 0.1em;\n",
       "padding-left: 0.25em;\n",
       "border-left-style: solid;\n",
       "font-family: var(--jp-code-font-family);\n",
       "font-size: var(--jp-code-font-size);\n",
       "line-height: var(--jp-code-line-height);\n",
       "\"><span style=\"color: var(--jp-warn-color2)\">Script</span> <span style=\"color: var(--jp-info-color0)\">INFO</span>: START -- LVV-2261: Hexapod X=-6700, Y=-6700, Z=-10000, U=0, V=0, W=0  - Pathfinder Lines Not Pressurized -- Starting Time: 2022-03-10 17:58:28.960953 UTC</pre>"
      ],
      "text/plain": [
       "<IPython.core.display.HTML object>"
      ]
     },
     "metadata": {},
     "output_type": "display_data"
    },
    {
     "name": "stdout",
     "output_type": "stream",
     "text": [
      " 2022-03-10 17:58:28.962337 - Moving Hexapod to  X=-6700, Y=-6700, Z=-10000, U=0, V=0, W=0\n",
      " Done.\n"
     ]
    }
   ],
   "source": [
    "test_message = \"LVV-2261: Hexapod X=-6700, Y=-6700, Z=-10000, U=0, V=0, W=0  - Pathfinder Lines Not Pressurized\"\n",
    "\n",
    "now = datetime.now()\n",
    "script.log.info(f\"START -- {test_message} -- Starting Time: {now} UTC\")\n",
    "print(f\" {datetime.now()} - Moving Hexapod to  X=-6700, Y=-6700, Z=-10000, U=0, V=0, W=0\")\n",
    "await mtcs.rem.mthexapod_1.cmd_move.set_start(x=-6700, y=-6700, z=-10000, u=0, v=0, w=0, sync=True)\n",
    "# await asyncio.sleep(15.)  # Just so if we need to press the e-stops\n",
    "print(f\" Done.\")"
   ]
  },
  {
   "cell_type": "code",
   "execution_count": 103,
   "id": "067cc0a4-de9a-4647-82f6-22d2be40ad61",
   "metadata": {},
   "outputs": [
    {
     "data": {
      "text/plain": [
       "<ddsutil.MTRotator_ackcmd_f04f56ad at 0x7fbaf0f14e20>"
      ]
     },
     "execution_count": 103,
     "metadata": {},
     "output_type": "execute_result"
    }
   ],
   "source": [
    "await mtcs.rem.mtrotator.cmd_move.set_start(position=0, timeout=5)"
   ]
  },
  {
   "cell_type": "code",
   "execution_count": 105,
   "id": "55149f19-b325-4f3d-8f62-32a46adc65e9",
   "metadata": {},
   "outputs": [
    {
     "name": "stdout",
     "output_type": "stream",
     "text": [
      " 2022-03-10 17:58:33.459523 - Moving to 30\n",
      " Done.\n",
      " 2022-03-10 17:58:53.526897 - Moving to 60\n",
      " Done.\n",
      " 2022-03-10 17:59:13.631225 - Moving to 89.5\n",
      " Done.\n"
     ]
    }
   ],
   "source": [
    "for p in [30, 60, 89.5]:\n",
    "    print(f\" {datetime.now()} - Moving to {p}\")\n",
    "    await mtcs.rem.mtrotator.cmd_move.set_start(position=p, timeout=5.)\n",
    "    await asyncio.sleep(20.)\n",
    "    print(f\" Done.\")"
   ]
  },
  {
   "cell_type": "code",
   "execution_count": 106,
   "id": "520550fd-4a0f-4f32-a414-8db75ce2d312",
   "metadata": {},
   "outputs": [
    {
     "name": "stdout",
     "output_type": "stream",
     "text": [
      " 2022-03-10 17:59:33.770536 - Moving to 60 deg\n",
      "  Done.\n",
      " 2022-03-10 17:59:53.841622 - Moving to 30 deg\n",
      "  Done.\n",
      " 2022-03-10 18:00:13.947922 - Moving to 0 deg\n",
      "  Done.\n"
     ]
    }
   ],
   "source": [
    "for p in [60, 30, 0]:\n",
    "    print(f\" {datetime.now()} - Moving to {p} deg\")\n",
    "    await mtcs.rem.mtrotator.cmd_move.set_start(position=p, timeout=5)\n",
    "    await asyncio.sleep(20.)\n",
    "    print(f\"  Done.\")"
   ]
  },
  {
   "cell_type": "code",
   "execution_count": 107,
   "id": "ce46e72c-4b96-4241-8a31-edaaed94d3c0",
   "metadata": {
    "tags": []
   },
   "outputs": [
    {
     "name": "stdout",
     "output_type": "stream",
     "text": [
      " 2022-03-10 18:00:34.036327 - Moving to -30 deg\n",
      "  Done.\n",
      " 2022-03-10 18:00:54.107575 - Moving to -60 deg\n",
      "  Done.\n",
      " 2022-03-10 18:01:14.213866 - Moving to -89.5 deg\n",
      "  Done.\n"
     ]
    }
   ],
   "source": [
    "for p in [-30, -60, -89.5]:\n",
    "    print(f\" {datetime.now()} - Moving to {p} deg\")\n",
    "    await mtcs.rem.mtrotator.cmd_move.set_start(position=p, timeout=5)\n",
    "    await asyncio.sleep(20.)\n",
    "    print(f\"  Done.\")"
   ]
  },
  {
   "cell_type": "markdown",
   "id": "e96744b3-d525-4806-8304-140b8fd52f58",
   "metadata": {
    "tags": []
   },
   "source": [
    "## Step 16 = Move the hexapod to (X=-6700, Y=6700, Z=-10000, U=0, V=0, W=0)"
   ]
  },
  {
   "cell_type": "code",
   "execution_count": 109,
   "id": "69070fef-2f01-4f5b-af08-97198996ca88",
   "metadata": {},
   "outputs": [
    {
     "data": {
      "text/html": [
       "<pre style=\"margin: 0.1em;\n",
       "padding-left: 0.25em;\n",
       "border-left-style: solid;\n",
       "font-family: var(--jp-code-font-family);\n",
       "font-size: var(--jp-code-font-size);\n",
       "line-height: var(--jp-code-line-height);\n",
       "\"><span style=\"color: var(--jp-warn-color2)\">Script</span> <span style=\"color: var(--jp-info-color0)\">INFO</span>: START -- LVV-2261: Hexapod X=-6700, Y=6700, Z=-10000, U=0, V=0, W=0  - Pathfinder Lines Not Pressurized -- Starting Time: 2022-03-10 18:03:41.693658 UTC</pre>"
      ],
      "text/plain": [
       "<IPython.core.display.HTML object>"
      ]
     },
     "metadata": {},
     "output_type": "display_data"
    },
    {
     "name": "stdout",
     "output_type": "stream",
     "text": [
      " 2022-03-10 18:03:41.695117 - Moving Hexapod to  X=-6700, Y=6700, Z=-10000, U=0, V=0, W=0\n",
      " Done.\n"
     ]
    }
   ],
   "source": [
    "test_message = \"LVV-2261: Hexapod X=-6700, Y=6700, Z=-10000, U=0, V=0, W=0  - Pathfinder Lines Not Pressurized\"\n",
    "\n",
    "now = datetime.now()\n",
    "script.log.info(f\"START -- {test_message} -- Starting Time: {now} UTC\")\n",
    "print(f\" {datetime.now()} - Moving Hexapod to  X=-6700, Y=6700, Z=-10000, U=0, V=0, W=0\")\n",
    "await mtcs.rem.mthexapod_1.cmd_move.set_start(x=-6700, y=6700, z=-10000, u=0, v=0, w=0, sync=True)\n",
    "# await asyncio.sleep(15.)  # Just so if we need to press the e-stops\n",
    "print(f\" Done.\")"
   ]
  },
  {
   "cell_type": "code",
   "execution_count": 143,
   "id": "e66a1b36-5b57-4f96-aef1-8f14a322d37c",
   "metadata": {},
   "outputs": [
    {
     "data": {
      "text/plain": [
       "<ddsutil.MTRotator_ackcmd_f04f56ad at 0x7fbaf9782d60>"
      ]
     },
     "execution_count": 143,
     "metadata": {},
     "output_type": "execute_result"
    }
   ],
   "source": [
    "await mtcs.rem.mtrotator.cmd_move.set_start(position=0, timeout=5)"
   ]
  },
  {
   "cell_type": "code",
   "execution_count": 111,
   "id": "600049d6-3470-41b2-a304-ce3abd746c35",
   "metadata": {},
   "outputs": [
    {
     "name": "stdout",
     "output_type": "stream",
     "text": [
      " 2022-03-10 18:05:15.305053 - Moving to 30\n",
      " Done.\n",
      " 2022-03-10 18:05:35.391412 - Moving to 60\n",
      " Done.\n",
      " 2022-03-10 18:05:55.498985 - Moving to 89.5\n",
      " Done.\n"
     ]
    }
   ],
   "source": [
    "for p in [30, 60, 89.5]:\n",
    "    print(f\" {datetime.now()} - Moving to {p}\")\n",
    "    await mtcs.rem.mtrotator.cmd_move.set_start(position=p, timeout=5.)\n",
    "    await asyncio.sleep(20.)\n",
    "    print(f\" Done.\")"
   ]
  },
  {
   "cell_type": "code",
   "execution_count": 112,
   "id": "d39aacc4-556b-4703-847f-346ce98cb0f0",
   "metadata": {},
   "outputs": [
    {
     "name": "stdout",
     "output_type": "stream",
     "text": [
      " 2022-03-10 18:06:50.065602 - Moving to 60 deg\n",
      "  Done.\n",
      " 2022-03-10 18:07:10.168935 - Moving to 30 deg\n",
      "  Done.\n",
      " 2022-03-10 18:07:30.274825 - Moving to 0 deg\n",
      "  Done.\n"
     ]
    }
   ],
   "source": [
    "for p in [60, 30, 0]:\n",
    "    print(f\" {datetime.now()} - Moving to {p} deg\")\n",
    "    await mtcs.rem.mtrotator.cmd_move.set_start(position=p, timeout=5)\n",
    "    await asyncio.sleep(20.)\n",
    "    print(f\"  Done.\")"
   ]
  },
  {
   "cell_type": "code",
   "execution_count": 113,
   "id": "ac00c45b-2729-4bd3-b183-ca36e66dae5e",
   "metadata": {
    "tags": []
   },
   "outputs": [
    {
     "name": "stdout",
     "output_type": "stream",
     "text": [
      " 2022-03-10 18:07:50.416167 - Moving to -30 deg\n",
      "  Done.\n",
      " 2022-03-10 18:08:10.486465 - Moving to -60 deg\n",
      "  Done.\n",
      " 2022-03-10 18:08:30.542575 - Moving to -89.5 deg\n",
      "  Done.\n"
     ]
    }
   ],
   "source": [
    "for p in [-30, -60, -89.5]:\n",
    "    print(f\" {datetime.now()} - Moving to {p} deg\")\n",
    "    await mtcs.rem.mtrotator.cmd_move.set_start(position=p, timeout=5)\n",
    "    await asyncio.sleep(20.)\n",
    "    print(f\"  Done.\")"
   ]
  },
  {
   "cell_type": "markdown",
   "id": "06315dd8-d29d-441c-972c-3ce412d6bb69",
   "metadata": {
    "tags": []
   },
   "source": [
    "## Step 17 = Move the hexapod to (X=0, Y=-11400, Z=-10000, U=0, V=0, W=0)"
   ]
  },
  {
   "cell_type": "code",
   "execution_count": 128,
   "id": "c9a81403-0fc0-48aa-9779-fbf2844650b8",
   "metadata": {},
   "outputs": [
    {
     "data": {
      "text/html": [
       "<pre style=\"margin: 0.1em;\n",
       "padding-left: 0.25em;\n",
       "border-left-style: solid;\n",
       "font-family: var(--jp-code-font-family);\n",
       "font-size: var(--jp-code-font-size);\n",
       "line-height: var(--jp-code-line-height);\n",
       "\"><span style=\"color: var(--jp-warn-color2)\">Script</span> <span style=\"color: var(--jp-info-color0)\">INFO</span>: START -- LVV-2261: Hexapod X=0, Y=-10000, Z=-10000, U=0, V=0, W=0  - Pathfinder Lines Not Pressurized -- Starting Time: 2022-03-10 18:16:28.156321 UTC</pre>"
      ],
      "text/plain": [
       "<IPython.core.display.HTML object>"
      ]
     },
     "metadata": {},
     "output_type": "display_data"
    },
    {
     "name": "stdout",
     "output_type": "stream",
     "text": [
      " 2022-03-10 18:16:28.158475 - Moving Hexapod to  X=0, Y=-10000, Z=-10000, U=0, V=0, W=0\n",
      " Done.\n"
     ]
    }
   ],
   "source": [
    "test_message = \"LVV-2261: Hexapod X=0, Y=-10000, Z=-10000, U=0, V=0, W=0  - Pathfinder Lines Not Pressurized\"\n",
    "\n",
    "now = datetime.now()\n",
    "script.log.info(f\"START -- {test_message} -- Starting Time: {now} UTC\")\n",
    "print(f\" {datetime.now()} - Moving Hexapod to  X=0, Y=-10000, Z=-10000, U=0, V=0, W=0\")\n",
    "await mtcs.rem.mthexapod_1.cmd_move.set_start(x=0, y=-10000, z=-10000, u=0, v=0, w=0, sync=True)\n",
    "# await asyncio.sleep(15.)  # Just so if we need to press the e-stops\n",
    "print(f\" Done.\")"
   ]
  },
  {
   "cell_type": "code",
   "execution_count": 134,
   "id": "ae3864f5-2ee3-4292-a4a1-f9d5ebe5220f",
   "metadata": {},
   "outputs": [
    {
     "data": {
      "text/plain": [
       "<ddsutil.MTRotator_ackcmd_f04f56ad at 0x7fbaf1063a30>"
      ]
     },
     "execution_count": 134,
     "metadata": {},
     "output_type": "execute_result"
    }
   ],
   "source": [
    "await mtcs.rem.mtrotator.cmd_move.set_start(position=0, timeout=5)"
   ]
  },
  {
   "cell_type": "code",
   "execution_count": 135,
   "id": "84f9cf63-5090-45d5-b2ab-4e8f96e5e9a3",
   "metadata": {},
   "outputs": [
    {
     "name": "stdout",
     "output_type": "stream",
     "text": [
      " 2022-03-10 18:27:25.233838 - Moving to 30\n",
      " Done.\n",
      " 2022-03-10 18:27:45.314030 - Moving to 60\n",
      " Done.\n",
      " 2022-03-10 18:28:05.419456 - Moving to 89.5\n",
      " Done.\n"
     ]
    }
   ],
   "source": [
    "for p in [30, 60, 89.5]:\n",
    "    print(f\" {datetime.now()} - Moving to {p}\")\n",
    "    await mtcs.rem.mtrotator.cmd_move.set_start(position=p, timeout=5.)\n",
    "    await asyncio.sleep(20.)\n",
    "    print(f\" Done.\")"
   ]
  },
  {
   "cell_type": "code",
   "execution_count": 136,
   "id": "86598342-8449-4d77-a1cf-623de7190d50",
   "metadata": {},
   "outputs": [
    {
     "name": "stdout",
     "output_type": "stream",
     "text": [
      " 2022-03-10 18:28:25.555410 - Moving to 60 deg\n",
      "  Done.\n",
      " 2022-03-10 18:28:45.628665 - Moving to 30 deg\n",
      "  Done.\n",
      " 2022-03-10 18:29:05.733550 - Moving to 0 deg\n",
      "  Done.\n"
     ]
    }
   ],
   "source": [
    "for p in [60, 30, 0]:\n",
    "    print(f\" {datetime.now()} - Moving to {p} deg\")\n",
    "    await mtcs.rem.mtrotator.cmd_move.set_start(position=p, timeout=5)\n",
    "    await asyncio.sleep(20.)\n",
    "    print(f\"  Done.\")"
   ]
  },
  {
   "cell_type": "code",
   "execution_count": 137,
   "id": "89d9c610-339e-4fe2-8e21-3de09eea4926",
   "metadata": {
    "tags": []
   },
   "outputs": [
    {
     "name": "stdout",
     "output_type": "stream",
     "text": [
      " 2022-03-10 18:29:25.871449 - Moving to -30 deg\n",
      "  Done.\n",
      " 2022-03-10 18:29:45.942946 - Moving to -60 deg\n",
      "  Done.\n",
      " 2022-03-10 18:30:06.047788 - Moving to -89.5 deg\n",
      "  Done.\n"
     ]
    }
   ],
   "source": [
    "for p in [-30, -60, -89.5]:\n",
    "    print(f\" {datetime.now()} - Moving to {p} deg\")\n",
    "    await mtcs.rem.mtrotator.cmd_move.set_start(position=p, timeout=5)\n",
    "    await asyncio.sleep(20.)\n",
    "    print(f\"  Done.\")"
   ]
  },
  {
   "cell_type": "markdown",
   "id": "96fbd043-6a37-438c-8c0e-e06106c94450",
   "metadata": {
    "tags": []
   },
   "source": [
    "## Step 18 = Move the hexapod to (X=0, Y=11400, Z=-10000, U=0, V=0, W=0)"
   ]
  },
  {
   "cell_type": "code",
   "execution_count": 138,
   "id": "ab695be1-02c6-4cef-897f-7b7f4c714743",
   "metadata": {},
   "outputs": [
    {
     "data": {
      "text/html": [
       "<pre style=\"margin: 0.1em;\n",
       "padding-left: 0.25em;\n",
       "border-left-style: solid;\n",
       "font-family: var(--jp-code-font-family);\n",
       "font-size: var(--jp-code-font-size);\n",
       "line-height: var(--jp-code-line-height);\n",
       "\"><span style=\"color: var(--jp-warn-color2)\">Script</span> <span style=\"color: var(--jp-info-color0)\">INFO</span>: START -- LVV-2261: Hexapod X=0, Y=10000, Z=-10000, U=0, V=0, W=0  - Pathfinder Lines Not Pressurized -- Starting Time: 2022-03-10 18:31:46.020838 UTC</pre>"
      ],
      "text/plain": [
       "<IPython.core.display.HTML object>"
      ]
     },
     "metadata": {},
     "output_type": "display_data"
    },
    {
     "name": "stdout",
     "output_type": "stream",
     "text": [
      " 2022-03-10 18:31:46.022235 - Moving Hexapod to  X=0, Y=10000, Z=-10000, U=0, V=0, W=0\n",
      " Done.\n"
     ]
    }
   ],
   "source": [
    "test_message = \"LVV-2261: Hexapod X=0, Y=10000, Z=-10000, U=0, V=0, W=0  - Pathfinder Lines Not Pressurized\"\n",
    "\n",
    "now = datetime.now()\n",
    "script.log.info(f\"START -- {test_message} -- Starting Time: {now} UTC\")\n",
    "print(f\" {datetime.now()} - Moving Hexapod to  X=0, Y=10000, Z=-10000, U=0, V=0, W=0\")\n",
    "await mtcs.rem.mthexapod_1.cmd_move.set_start(x=0, y=10000, z=-10000, u=0, v=0, w=0, sync=True)\n",
    "# await asyncio.sleep(15.)  # Just so if we need to press the e-stops\n",
    "print(f\" Done.\")"
   ]
  },
  {
   "cell_type": "code",
   "execution_count": 139,
   "id": "a5330120-0bf9-45ba-9e9d-de9cda20c1dd",
   "metadata": {},
   "outputs": [
    {
     "data": {
      "text/plain": [
       "<ddsutil.MTRotator_ackcmd_f04f56ad at 0x7fbaf972c580>"
      ]
     },
     "execution_count": 139,
     "metadata": {},
     "output_type": "execute_result"
    }
   ],
   "source": [
    "await mtcs.rem.mtrotator.cmd_move.set_start(position=0, timeout=5)"
   ]
  },
  {
   "cell_type": "code",
   "execution_count": 140,
   "id": "c9120c0d-302e-4f3f-bf2a-6fd665325e1e",
   "metadata": {},
   "outputs": [
    {
     "name": "stdout",
     "output_type": "stream",
     "text": [
      " 2022-03-10 18:33:01.982298 - Moving to 30\n",
      " Done.\n",
      " 2022-03-10 18:33:22.092875 - Moving to 60\n",
      " Done.\n",
      " 2022-03-10 18:33:42.197577 - Moving to 89.5\n",
      " Done.\n"
     ]
    }
   ],
   "source": [
    "for p in [30, 60, 89.5]:\n",
    "    print(f\" {datetime.now()} - Moving to {p}\")\n",
    "    await mtcs.rem.mtrotator.cmd_move.set_start(position=p, timeout=5.)\n",
    "    await asyncio.sleep(20.)\n",
    "    print(f\" Done.\")"
   ]
  },
  {
   "cell_type": "code",
   "execution_count": 141,
   "id": "3901cef4-7cb3-4639-89d7-08943fadd3fe",
   "metadata": {},
   "outputs": [
    {
     "name": "stdout",
     "output_type": "stream",
     "text": [
      " 2022-03-10 18:34:02.337321 - Moving to 60 deg\n",
      "  Done.\n",
      " 2022-03-10 18:34:22.407206 - Moving to 30 deg\n",
      "  Done.\n",
      " 2022-03-10 18:34:42.511566 - Moving to 0 deg\n",
      "  Done.\n"
     ]
    }
   ],
   "source": [
    "for p in [60, 30, 0]:\n",
    "    print(f\" {datetime.now()} - Moving to {p} deg\")\n",
    "    await mtcs.rem.mtrotator.cmd_move.set_start(position=p, timeout=5)\n",
    "    await asyncio.sleep(20.)\n",
    "    print(f\"  Done.\")"
   ]
  },
  {
   "cell_type": "code",
   "execution_count": 142,
   "id": "5287e729-f793-4f3b-b5d9-31029828f68c",
   "metadata": {
    "tags": []
   },
   "outputs": [
    {
     "name": "stdout",
     "output_type": "stream",
     "text": [
      " 2022-03-10 18:35:02.651065 - Moving to -30 deg\n",
      "  Done.\n",
      " 2022-03-10 18:35:22.720808 - Moving to -60 deg\n",
      "  Done.\n",
      " 2022-03-10 18:35:42.825906 - Moving to -89.5 deg\n",
      "  Done.\n"
     ]
    }
   ],
   "source": [
    "for p in [-30, -60, -89.5]:\n",
    "    print(f\" {datetime.now()} - Moving to {p} deg\")\n",
    "    await mtcs.rem.mtrotator.cmd_move.set_start(position=p, timeout=5)\n",
    "    await asyncio.sleep(20.)\n",
    "    print(f\"  Done.\")"
   ]
  },
  {
   "cell_type": "markdown",
   "id": "d8ffbf21-bfca-45bf-98f8-66ce94a5395a",
   "metadata": {},
   "source": [
    "## Test finished "
   ]
  },
  {
   "cell_type": "markdown",
   "id": "f76f40a0-4b28-44ee-bbe1-842e6fc3f848",
   "metadata": {
    "tags": []
   },
   "source": [
    "## Start Test -- old script do not use--"
   ]
  },
  {
   "cell_type": "markdown",
   "id": "0409cb4f-8dcb-4f67-99b1-cd0e48aa7089",
   "metadata": {},
   "source": [
    "The default Velocity Limit for the Rotator is 3.5 deg/s.  \n",
    "Set the Velocity Limit to a low value (e.g. 0.5 deg/s or 0.2 deg/s)."
   ]
  },
  {
   "cell_type": "code",
   "execution_count": null,
   "id": "125582c3-42bd-407f-8d03-e1cd96813182",
   "metadata": {},
   "outputs": [],
   "source": [
    "# Set Velocity Limit to 0.5 deg/s\n",
    "await mtcs.rem.mtrotator.cmd_configureVelocity.set_start(vlimit=3.5, timeout=5)"
   ]
  },
  {
   "cell_type": "markdown",
   "id": "e41486b6-b12f-4478-9852-dca9fcf435c7",
   "metadata": {},
   "source": [
    "----\n",
    "Move the Rotator from 0 deg to +/- 90 deg in small steps (10 deg).  \n",
    "Keep an eye on the Motor Currents for Motor1 and Motor2 in the Rotator EUI. They should not exceed 4.2 A.  \n",
    "If any of the Motor Currents is too close to the limit of 4.2 A, lower down the Velocity Limit.  "
   ]
  },
  {
   "cell_type": "code",
   "execution_count": null,
   "id": "d225205a-5787-4bcf-9d28-a0b847228904",
   "metadata": {},
   "outputs": [],
   "source": [
    "t_start = Time(Time.now(), scale='utc', format='isot')\n",
    "print(t_start)"
   ]
  },
  {
   "cell_type": "code",
   "execution_count": null,
   "id": "6bf1fede-fcfd-45d9-b50e-f00ce5ed8e2e",
   "metadata": {},
   "outputs": [],
   "source": [
    "# Move the Rotator to 10 deg\n",
    "await mtcs.rem.mtrotator.cmd_move.set_start(position=10, timeout=5)"
   ]
  },
  {
   "cell_type": "code",
   "execution_count": null,
   "id": "8010da8f-904f-4cdd-8cab-3c414507cb95",
   "metadata": {},
   "outputs": [],
   "source": [
    "# Move the Rotator to 20 deg\n",
    "await mtcs.rem.mtrotator.cmd_move.set_start(position=20, timeout=5)"
   ]
  },
  {
   "cell_type": "code",
   "execution_count": null,
   "id": "16f152a3-6f5d-4733-b56a-bc988634b8b1",
   "metadata": {},
   "outputs": [],
   "source": [
    "# Move the Rotator to 30 deg\n",
    "await mtcs.rem.mtrotator.cmd_move.set_start(position=30, timeout=5)"
   ]
  },
  {
   "cell_type": "code",
   "execution_count": null,
   "id": "c9a1b9d2-47b3-497d-89e2-a6be59710bbf",
   "metadata": {},
   "outputs": [],
   "source": [
    "# Move the Rotator to 40 deg\n",
    "await mtcs.rem.mtrotator.cmd_move.set_start(position=40, timeout=5)"
   ]
  },
  {
   "cell_type": "code",
   "execution_count": null,
   "id": "e831c94b-5540-4a6b-94a3-7ccd48c64c99",
   "metadata": {},
   "outputs": [],
   "source": [
    "# Move the Rotator to 50 deg\n",
    "await mtcs.rem.mtrotator.cmd_move.set_start(position=50, timeout=5)"
   ]
  },
  {
   "cell_type": "code",
   "execution_count": null,
   "id": "8b2b6479-646f-406f-9910-b0f31e4fa8f7",
   "metadata": {},
   "outputs": [],
   "source": [
    "# Move the Rotator to 60 deg\n",
    "await mtcs.rem.mtrotator.cmd_move.set_start(position=60, timeout=5)"
   ]
  },
  {
   "cell_type": "code",
   "execution_count": null,
   "id": "54d3634e-c230-4833-948f-ba3d18ac16ef",
   "metadata": {},
   "outputs": [],
   "source": [
    "# Move the Rotator to 70 deg\n",
    "await mtcs.rem.mtrotator.cmd_move.set_start(position=70, timeout=5)"
   ]
  },
  {
   "cell_type": "code",
   "execution_count": null,
   "id": "6167c3e6-0109-48f1-9555-b509f655b220",
   "metadata": {},
   "outputs": [],
   "source": [
    "# Move the Rotator to 80 deg\n",
    "await mtcs.rem.mtrotator.cmd_move.set_start(position=80, timeout=5)"
   ]
  },
  {
   "cell_type": "code",
   "execution_count": null,
   "id": "bc38a626-f60f-4bd2-a722-51f72b72f12a",
   "metadata": {},
   "outputs": [],
   "source": [
    "# Move the Rotator to 90 deg\n",
    "await mtcs.rem.mtrotator.cmd_move.set_start(position=89.5, timeout=5)"
   ]
  },
  {
   "cell_type": "markdown",
   "id": "7aa5f67d-0cbf-462d-9394-8970b16eaef8",
   "metadata": {},
   "source": [
    "If the velocity is sufficiently low to avoid the motor current limit and the envelope space is clear, you can move the Rotator all the way back to 0 deg."
   ]
  },
  {
   "cell_type": "code",
   "execution_count": null,
   "id": "237943c2-eb70-4b6d-be02-31abb06eced9",
   "metadata": {},
   "outputs": [],
   "source": [
    "# Move the Rotator to 0 deg\n",
    "await mtcs.rem.mtrotator.cmd_move.set_start(position=0, timeout=5)"
   ]
  },
  {
   "cell_type": "markdown",
   "id": "9cbb3cb4-ac0c-4828-8bdb-45ea906110f9",
   "metadata": {
    "execution": {
     "iopub.execute_input": "2022-01-12T15:50:50.368531Z",
     "iopub.status.busy": "2022-01-12T15:50:50.368198Z",
     "iopub.status.idle": "2022-01-12T15:50:50.372228Z",
     "shell.execute_reply": "2022-01-12T15:50:50.371729Z",
     "shell.execute_reply.started": "2022-01-12T15:50:50.368469Z"
    }
   },
   "source": [
    "----\n",
    "Now, moving the Rotator to the negative side."
   ]
  },
  {
   "cell_type": "code",
   "execution_count": null,
   "id": "d92bfb1d-558f-4f6b-8ac7-6886649951bd",
   "metadata": {},
   "outputs": [],
   "source": [
    "# Move the Rotator to -10 deg\n",
    "await mtcs.rem.mtrotator.cmd_move.set_start(position=-10, timeout=5)"
   ]
  },
  {
   "cell_type": "code",
   "execution_count": null,
   "id": "1721959d-7236-497c-a85a-0ae7ff8fe5c0",
   "metadata": {},
   "outputs": [],
   "source": [
    "# Move the Rotator to -20 deg\n",
    "await mtcs.rem.mtrotator.cmd_move.set_start(position=-20, timeout=5)"
   ]
  },
  {
   "cell_type": "code",
   "execution_count": null,
   "id": "8ff7e5a7-a42f-4f11-b65d-483b9da4d6ee",
   "metadata": {},
   "outputs": [],
   "source": [
    "# Move the Rotator to -30 deg\n",
    "await mtcs.rem.mtrotator.cmd_move.set_start(position=-30, timeout=5)"
   ]
  },
  {
   "cell_type": "code",
   "execution_count": null,
   "id": "8a06d9b3-5bdf-41a3-b507-18638e3eae14",
   "metadata": {},
   "outputs": [],
   "source": [
    "# Move the Rotator to -40 deg\n",
    "await mtcs.rem.mtrotator.cmd_move.set_start(position=-40, timeout=5)"
   ]
  },
  {
   "cell_type": "code",
   "execution_count": null,
   "id": "37cb7e75-266f-45c3-a1fc-1fb50aba7be1",
   "metadata": {},
   "outputs": [],
   "source": [
    "# Move the Rotator to -50 deg\n",
    "await mtcs.rem.mtrotator.cmd_move.set_start(position=-50, timeout=5)"
   ]
  },
  {
   "cell_type": "code",
   "execution_count": null,
   "id": "856561d5-9ef3-49c2-9772-0d01f4e11626",
   "metadata": {},
   "outputs": [],
   "source": [
    "# Move the Rotator to -60 deg\n",
    "await mtcs.rem.mtrotator.cmd_move.set_start(position=-60, timeout=5)"
   ]
  },
  {
   "cell_type": "code",
   "execution_count": null,
   "id": "aac8acab-168e-4dc2-a084-b6680a6cc8ed",
   "metadata": {},
   "outputs": [],
   "source": [
    "# Move the Rotator to -70 deg\n",
    "await mtcs.rem.mtrotator.cmd_move.set_start(position=-70, timeout=5)"
   ]
  },
  {
   "cell_type": "code",
   "execution_count": null,
   "id": "f114ce65-d209-4b71-b72c-0502505328dc",
   "metadata": {},
   "outputs": [],
   "source": [
    "# Move the Rotator to -80 deg\n",
    "await mtcs.rem.mtrotator.cmd_move.set_start(position=-80, timeout=5)"
   ]
  },
  {
   "cell_type": "code",
   "execution_count": null,
   "id": "8a875e64-3672-4f53-bd4c-b8165e08f72b",
   "metadata": {},
   "outputs": [],
   "source": [
    "# Move the Rotator to -90 deg\n",
    "await mtcs.rem.mtrotator.cmd_move.set_start(position=-90, timeout=5)"
   ]
  },
  {
   "cell_type": "markdown",
   "id": "ece42ddd-2f5a-4645-826c-9fb746b9780b",
   "metadata": {},
   "source": [
    "If the velocity is sufficiently low to avoid the motor current limit and the envelope space is clear, you can move the Rotator all the way back to 0 deg."
=======
   "id": "cde09769-27fd-4725-9d59-77f779ba9bb6",
   "metadata": {},
   "source": [
    "## Iteration 9: u=0.0deg v=-0.36deg "
>>>>>>> Stashed changes
   ]
  },
  {
   "cell_type": "code",
<<<<<<< Updated upstream
   "execution_count": 159,
   "id": "14152628-62fc-44de-ab40-9e476bcaabf9",
   "metadata": {
    "execution": {
     "iopub.execute_input": "2022-03-01T20:32:58.600388Z",
     "iopub.status.busy": "2022-03-01T20:32:58.599888Z",
     "iopub.status.idle": "2022-03-01T20:32:58.753324Z",
     "shell.execute_reply": "2022-03-01T20:32:58.753010Z",
     "shell.execute_reply.started": "2022-03-01T20:32:58.600371Z"
    }
   },
   "outputs": [
    {
     "data": {
      "text/plain": [
       "<ddsutil.MTRotator_ackcmd_f04f56ad at 0x7fef14c2a400>"
      ]
     },
     "execution_count": 159,
     "metadata": {},
     "output_type": "execute_result"
    }
   ],
   "source": [
    "# Move the Rotator to 0 deg\n",
    "await mtcs.rem.mtrotator.cmd_move.set_start(position=0, timeout=5)"
   ]
  },
  {
   "cell_type": "markdown",
   "id": "e240ac66-15cd-485d-9cec-82f60177db0a",
   "metadata": {},
   "source": [
    "---\n",
    "Record the time when the actual test starts for data analysis."
=======
   "execution_count": null,
   "id": "44f17539-5e0e-4494-bdf7-96000fafd0ad",
   "metadata": {
    "tags": []
   },
   "outputs": [],
   "source": [
    "test_message = \"LVV-2261: Hexapod u=+0deg v=-0.36deg (total 0.36) - Pathfinder Lines Not Pressurized\"\n",
    "\n",
    "now = datetime.now()\n",
    "script.log.info(f\"START -- {test_message} -- Starting Time: {now} UTC\")\n",
    "print(f\" {datetime.now()} - Moving Hexapod to u=+0deg v=-0.36deg\")\n",
    "await mtcs.rem.mthexapod_1.cmd_move.set_start(x=0, y=0, z=0, u=0, v=0.36, w=0, sync=True)\n",
    "print(f\" Done.\")"
   ]
  },
  {
   "cell_type": "code",
   "execution_count": null,
   "id": "1f8fda97-f2d9-4bd9-afb5-24ecddc81a23",
   "metadata": {
    "tags": []
   },
   "outputs": [],
   "source": [
    "for p in [30, 60, 89.5, 60, 30, 0, -30, -60, -89.5, -60, 0]:\n",
    "    print(f\" {datetime.now()} - Moving to {p}\")\n",
    "    await mtcs.rem.mtrotator.cmd_move.set_start(position=p, timeout=5.)\n",
    "    await asyncio.sleep(20.)\n",
    "    print(f\" Done.\")"
>>>>>>> Stashed changes
   ]
  },
  {
   "cell_type": "code",
   "execution_count": null,
<<<<<<< Updated upstream
   "id": "38943e85-305a-447b-8c31-0bb35dfa9de1",
=======
   "id": "f6db57ee-7b93-4390-935a-4baaeac14b1b",
>>>>>>> Stashed changes
   "metadata": {
    "tags": []
   },
   "outputs": [],
   "source": [
<<<<<<< Updated upstream
    "t_start = Time(Time.now(), scale='utc', format='isot')"
=======
    "now = datetime.now()\n",
    "script.log.info(f\"END -- {test_message} -- End Time: {now} UTC\")"
>>>>>>> Stashed changes
   ]
  },
  {
   "cell_type": "markdown",
<<<<<<< Updated upstream
   "id": "7dc6e2af-0ed1-4806-a6a4-1e554df0a54d",
   "metadata": {},
   "source": [
    "Wait a few minutes to have data recorded at 0 deg.  \n",
    "If the center of mass is aligned with the x-axis, the sum of the torques at 0 degree should be around 0 N.m.   \n",
    "Check the results later in this notebook.\n",
    "\n",
    "---\n",
    "Move the Rotator to 90 deg. \n",
    "Wait a few minues to have data recorded at 90 deg.  \n",
    "If the center of mass is aligned with the y-axis, the sum of the torques at +/- 90 degrees should be around 0 N.m.   \n",
    "Check the results later in this notebook."
=======
   "id": "07960949-3534-43c5-870b-78471f20d599",
   "metadata": {},
   "source": [
    "## Iteration 10: x=-11400, Y=0, Z=-10000"
>>>>>>> Stashed changes
   ]
  },
  {
   "cell_type": "code",
<<<<<<< Updated upstream
   "execution_count": 158,
   "id": "22986c0b-c630-4c3b-9fee-f3211faee5d6",
   "metadata": {
    "execution": {
     "iopub.execute_input": "2022-03-01T20:21:46.798349Z",
     "iopub.status.busy": "2022-03-01T20:21:46.797983Z",
     "iopub.status.idle": "2022-03-01T20:21:46.923078Z",
     "shell.execute_reply": "2022-03-01T20:21:46.922782Z",
     "shell.execute_reply.started": "2022-03-01T20:21:46.798330Z"
    }
   },
   "outputs": [
    {
     "data": {
      "text/plain": [
       "<ddsutil.MTRotator_ackcmd_f04f56ad at 0x7feea657f520>"
      ]
     },
     "execution_count": 158,
     "metadata": {},
     "output_type": "execute_result"
    }
   ],
   "source": [
    "await mtcs.rem.mtrotator.cmd_move.set_start(position=5, timeout=5)"
   ]
  },
  {
   "cell_type": "markdown",
   "id": "601afb49-e8ee-46c4-8e2f-e8f2ac1a89bf",
   "metadata": {},
   "source": [
    "---\n",
    "Move the Rotator back to 0 deg.   \n",
    "Wait a few minutes"
=======
   "execution_count": null,
   "id": "d679bb4a-a5cd-4260-8fac-61c83280ff0f",
   "metadata": {
    "tags": []
   },
   "outputs": [],
   "source": [
    "test_message = \"LVV-2261: Hexapod x=-11400, Y=0, Z=-10000 - Pathfinder Lines Not Pressurized\"\n",
    "\n",
    "now = datetime.now()\n",
    "script.log.info(f\"START -- {test_message} -- Starting Time: {now} UTC\")\n",
    "\n",
    "print(f\" {datetime.now()} - Moving Hexapod to x=-11400, Y=0, Z=-10000\")\n",
    "await mtcs.rem.mthexapod_1.cmd_move.set_start(x=-11400, y=0, z=-10000, u=0, v=0, w=0, sync=True)\n",
    "print(f\" Done.\")"
   ]
  },
  {
   "cell_type": "code",
   "execution_count": null,
   "id": "f9cf8d80-f3fa-4327-ade2-f323c07f3625",
   "metadata": {
    "tags": []
   },
   "outputs": [],
   "source": [
    "for p in [30, 60, 89.5, 60, 30, 0, -30, -60, -89.5, -60, 0]:\n",
    "    print(f\" {datetime.now()} - Moving to {p}\")\n",
    "    await mtcs.rem.mtrotator.cmd_move.set_start(position=p, timeout=5.)\n",
    "    await asyncio.sleep(20.)\n",
    "    print(f\" Done.\")"
>>>>>>> Stashed changes
   ]
  },
  {
   "cell_type": "code",
   "execution_count": null,
<<<<<<< Updated upstream
   "id": "b44f6cbe-0ae4-4ae2-831e-600ba22da31e",
   "metadata": {},
   "outputs": [],
   "source": [
    "await mtcs.rem.mtrotator.cmd_move.set_start(position=0, timeout=5)"
=======
   "id": "a2e27d3a-6b0a-4346-842c-2463661f7791",
   "metadata": {
    "tags": []
   },
   "outputs": [],
   "source": [
    "now = datetime.now()\n",
    "script.log.info(f\"END -- {test_message} -- End Time: {now} UTC\")"
>>>>>>> Stashed changes
   ]
  },
  {
   "cell_type": "markdown",
<<<<<<< Updated upstream
   "id": "8735ef2a-cce6-4803-a4a2-3d534750bb4b",
   "metadata": {},
   "source": [
    "---\n",
    "Move the Rotator to -90 deg.  \n",
    "Wait a few minutes."
=======
   "id": "813a9d17-8aa5-4edc-a2bf-71dcba0b3677",
   "metadata": {
    "tags": []
   },
   "source": [
    "## Iteration 11 = Move the hexapod to (X=11400, Y=0, Z=-10000, U=0, V=0, W=0)"
>>>>>>> Stashed changes
   ]
  },
  {
   "cell_type": "code",
   "execution_count": null,
<<<<<<< Updated upstream
   "id": "913cfb95-126c-4aa5-b647-ccbeae8c4c7a",
   "metadata": {},
   "outputs": [],
   "source": [
    "await mtcs.rem.mtrotator.cmd_move.set_start(position=-90, timeout=5)"
   ]
  },
  {
   "cell_type": "markdown",
   "id": "ee6b7158-8e08-43f1-8e37-3e8900d8c5eb",
   "metadata": {},
   "source": [
    "---\n",
    "Move the Rotator back to 0 deg.   \n",
    "Wait a few minutes"
=======
   "id": "bf50d415-84fc-49ee-8fbb-90997281c639",
   "metadata": {},
   "outputs": [],
   "source": [
    "test_message = \"LVV-2261: Hexapod X=11400, Y=0, Z=-10000, U=0, V=0, W=0  - Pathfinder Lines Not Pressurized\"\n",
    "\n",
    "now = datetime.now()\n",
    "script.log.info(f\"START -- {test_message} -- Starting Time: {now} UTC\")\n",
    "print(f\" {datetime.now()} - Moving Hexapod to  X=11400, Y=0, Z=-10000, U=0, V=0, W=0\")\n",
    "await mtcs.rem.mthexapod_1.cmd_move.set_start(x=11400, y=0, z=-10000, u=0, v=0, w=0, sync=True)\n",
    "print(f\" Done.\")"
>>>>>>> Stashed changes
   ]
  },
  {
   "cell_type": "code",
   "execution_count": null,
<<<<<<< Updated upstream
   "id": "0bf733f8-a58a-4a40-adca-a154e34740b6",
=======
   "id": "4254e158-25a7-4146-83d7-47b40f59b35e",
>>>>>>> Stashed changes
   "metadata": {
    "tags": []
   },
   "outputs": [],
   "source": [
<<<<<<< Updated upstream
    "await mtcs.rem.mtrotator.cmd_move.set_start(position=0, timeout=5)"
   ]
  },
  {
   "cell_type": "markdown",
   "id": "24f09968-a5cb-44f7-94f0-d04d7494f54f",
   "metadata": {},
   "source": [
    "### Data Analysis"
=======
    "for p in [30, 60, 89.5, 60, 30, 0, -30, -60, -89.5, -60, 0]:\n",
    "    print(f\" {datetime.now()} - Moving to {p}\")\n",
    "    await mtcs.rem.mtrotator.cmd_move.set_start(position=p, timeout=5.)\n",
    "    await asyncio.sleep(20.)\n",
    "    print(f\" Done.\")"
   ]
  },
  {
   "cell_type": "code",
   "execution_count": null,
   "id": "325664c9-15f5-47f9-b47c-38a077a8b9ff",
   "metadata": {
    "tags": []
   },
   "outputs": [],
   "source": [
    "now = datetime.now()\n",
    "script.log.info(f\"END -- {test_message} -- End Time: {now} UTC\")"
>>>>>>> Stashed changes
   ]
  },
  {
   "cell_type": "markdown",
<<<<<<< Updated upstream
   "id": "9c31e6a5-47aa-456f-beb9-76fa7e9e14fc",
   "metadata": {},
   "source": [
    "---\n",
    "Analyze the data"
=======
   "id": "c962a053-d746-4846-98ad-0418cdc13da3",
   "metadata": {
    "tags": []
   },
   "source": [
    "## Iteration 12: Move the hexapod to (X=6700, Y=6700, Z=-10000, U=0, V=0, W=0)"
>>>>>>> Stashed changes
   ]
  },
  {
   "cell_type": "code",
   "execution_count": null,
<<<<<<< Updated upstream
   "id": "b25f6949-49b2-4cfb-8171-adbdfdd4ba70",
   "metadata": {},
   "outputs": [],
   "source": [
    "# t_end = Time(Time.now(), scale='utc', format='isot')\n",
    "t_start = Time('2021-10-01T14:00:00', scale='utc', format='isot') \n",
    "t_end = Time('2021-10-01T14:25:00', scale='utc', format='isot')"
=======
   "id": "f9d9da1a-7396-48e8-86b5-9a297e8268b9",
   "metadata": {
    "tags": []
   },
   "outputs": [],
   "source": [
    "test_message = \"LVV-2261: Hexapod X=6700, Y=6700, Z=-10000, U=0, V=0, W=0  - Pathfinder Lines Not Pressurized\"\n",
    "\n",
    "now = datetime.now()\n",
    "script.log.info(f\"START -- {test_message} -- Starting Time: {now} UTC\")\n",
    "print(f\" {datetime.now()} - Moving Hexapod to  X=6700, Y=6700, Z=-10000, U=0, V=0, W=0\")\n",
    "await mtcs.rem.mthexapod_1.cmd_move.set_start(x=6700, y=6700, z=-10000, u=0, v=0, w=0, sync=True)\n",
    "print(f\" Done.\")"
>>>>>>> Stashed changes
   ]
  },
  {
   "cell_type": "code",
<<<<<<< Updated upstream
   "execution_count": 146,
   "id": "30e05e0e-3b9a-4eae-897c-a4de68d483c2",
   "metadata": {
    "execution": {
     "iopub.execute_input": "2022-03-01T19:42:04.745392Z",
     "iopub.status.busy": "2022-03-01T19:42:04.745102Z",
     "iopub.status.idle": "2022-03-01T19:42:04.801328Z",
     "shell.execute_reply": "2022-03-01T19:42:04.800907Z",
     "shell.execute_reply.started": "2022-03-01T19:42:04.745371Z"
    },
=======
   "execution_count": null,
   "id": "f8448ee9-010c-4053-bedb-7422d9832f73",
   "metadata": {
>>>>>>> Stashed changes
    "tags": []
   },
   "outputs": [],
   "source": [
<<<<<<< Updated upstream
    "# t_end = Time(Time.now(), scale='utc', format='isot')\n",
    "t_start = Time('2021-09-30T15:00:00', scale='utc', format='isot') \n",
    "t_end = Time('2021-09-30T16:00:00', scale='utc', format='isot')"
=======
    "for p in [30, 60, 89.5, 60, 30, 0, -30, -60, -89.5, -60, 0]:\n",
    "    print(f\" {datetime.now()} - Moving to {p}\")\n",
    "    await mtcs.rem.mtrotator.cmd_move.set_start(position=p, timeout=5.)\n",
    "    await asyncio.sleep(20.)\n",
    "    print(f\" Done.\")"
>>>>>>> Stashed changes
   ]
  },
  {
   "cell_type": "code",
<<<<<<< Updated upstream
   "execution_count": 147,
   "id": "0bc3c1e3-75a6-4b2b-a677-12261c6ee580",
   "metadata": {
    "execution": {
     "iopub.execute_input": "2022-03-01T19:42:05.231877Z",
     "iopub.status.busy": "2022-03-01T19:42:05.231610Z",
     "iopub.status.idle": "2022-03-01T19:42:08.505923Z",
     "shell.execute_reply": "2022-03-01T19:42:08.505430Z",
     "shell.execute_reply.started": "2022-03-01T19:42:05.231856Z"
    },
    "tags": []
   },
   "outputs": [
    {
     "data": {
      "text/html": [
       "<pre style=\"margin: 0.1em;\n",
       "padding-left: 0.25em;\n",
       "border-left-style: solid;\n",
       "font-family: var(--jp-code-font-family);\n",
       "font-size: var(--jp-code-font-size);\n",
       "line-height: var(--jp-code-line-height);\n",
       "\"><span style=\"color: var(--jp-warn-color2)\">MTHexapod.application</span> <span style=\"color: var(--jp-warn-color0)\">WARNING</span>: application DDS read queue is filling: 10 of 100 elements</pre>"
      ],
      "text/plain": [
       "<IPython.core.display.HTML object>"
      ]
     },
     "metadata": {},
     "output_type": "display_data"
    }
   ],
   "source": [
    "efd_client = retrieve_efd_client(summit)\n",
    "df = await retrieve_rotator_angle_and_torques_from_efd(efd_client, t_start, t_end)"
   ]
  },
  {
   "cell_type": "code",
   "execution_count": 148,
   "id": "7ffe4f1f-d16e-488d-8671-234f0bad2935",
   "metadata": {
    "execution": {
     "iopub.execute_input": "2022-03-01T19:42:08.507059Z",
     "iopub.status.busy": "2022-03-01T19:42:08.506741Z",
     "iopub.status.idle": "2022-03-01T19:42:13.757400Z",
     "shell.execute_reply": "2022-03-01T19:42:13.756491Z",
     "shell.execute_reply.started": "2022-03-01T19:42:08.507043Z"
    },
    "tags": []
   },
   "outputs": [
    {
     "name": "stdout",
     "output_type": "stream",
     "text": [
      "Plot file saved to plots/EFD_20210930_150000.png\n"
     ]
    },
    {
     "data": {
      "application/vnd.jupyter.widget-view+json": {
       "model_id": "b93b99007d6b42a0912f031440484519",
       "version_major": 2,
       "version_minor": 0
      },
      "image/png": "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",
      "text/html": [
       "\n",
       "            <div style=\"display: inline-block;\">\n",
       "                <div class=\"jupyter-widgets widget-label\" style=\"text-align: center;\">\n",
       "                    Torques and Rotator Position Angle - EFD_20210930_150000.png\n",
       "                </div>\n",
       "                <img src='data:image/png;base64,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' width=864.0/>\n",
       "            </div>\n",
       "        "
      ],
      "text/plain": [
       "Canvas(toolbar=Toolbar(toolitems=[('Home', 'Reset original view', 'home', 'home'), ('Back', 'Back to previous …"
      ]
     },
     "metadata": {},
     "output_type": "display_data"
    }
   ],
   "source": [
    "%matplotlib widget\n",
    "filename = f\"EFD_{t_start.strftime('%Y%m%d_%H%M%S')}.png\"\n",
    "plot_rotator_angle_and_torques(df, filename=filename)"
   ]
  },
  {
   "cell_type": "markdown",
   "id": "f28dd6b8-dd47-4541-a706-c65cef12a894",
   "metadata": {},
   "source": [
    "    Current scaling assumes max torque for the rotator\n",
    "    and max current settings of:\n",
    "    120,000N-m  (ox1D4C0) \n",
    "    4.6A         (0x1CC)"
=======
   "execution_count": null,
   "id": "159fdb9c-7e81-4d7b-943b-ea50e2b11711",
   "metadata": {
    "tags": []
   },
   "outputs": [],
   "source": [
    "now = datetime.now()\n",
    "script.log.info(f\"END -- {test_message} -- End Time: {now} UTC\")"
   ]
  },
  {
   "cell_type": "markdown",
   "id": "1e69fe7c-f052-431e-a0b1-9fb9e1ebcd77",
   "metadata": {
    "tags": []
   },
   "source": [
    "## Iteration 13: Move the hexapod to (X=6700, Y=-6700, Z=-10000, U=0, V=0, W=0"
   ]
  },
  {
   "cell_type": "code",
   "execution_count": null,
   "id": "a34e50a7-d7ff-4401-af93-d149d10e9dd4",
   "metadata": {},
   "outputs": [],
   "source": [
    "test_message = \"LVV-2261: Hexapod X=6700, Y=-6700, Z=-10000, U=0, V=0, W=0  - Pathfinder Lines Not Pressurized\"\n",
    "\n",
    "now = datetime.now()\n",
    "script.log.info(f\"START -- {test_message} -- Starting Time: {now} UTC\")\n",
    "print(f\" {datetime.now()} - Moving Hexapod to  X=6700, Y=-6700, Z=-10000, U=0, V=0, W=0\")\n",
    "await mtcs.rem.mthexapod_1.cmd_move.set_start(x=6700, y=-6700, z=-10000, u=0, v=0, w=0, sync=True)\n",
    "print(f\" Done.\")"
>>>>>>> Stashed changes
   ]
  },
  {
   "cell_type": "code",
<<<<<<< Updated upstream
   "execution_count": 149,
   "id": "7aef89db-1c62-4943-a085-96dce7248677",
   "metadata": {
    "execution": {
     "iopub.execute_input": "2022-03-01T19:42:13.758739Z",
     "iopub.status.busy": "2022-03-01T19:42:13.758625Z",
     "iopub.status.idle": "2022-03-01T19:42:13.803346Z",
     "shell.execute_reply": "2022-03-01T19:42:13.802974Z",
     "shell.execute_reply.started": "2022-03-01T19:42:13.758725Z"
    },
    "tags": []
   },
   "outputs": [
    {
     "data": {
      "text/html": [
       "<div>\n",
       "<style scoped>\n",
       "    .dataframe tbody tr th:only-of-type {\n",
       "        vertical-align: middle;\n",
       "    }\n",
       "\n",
       "    .dataframe tbody tr th {\n",
       "        vertical-align: top;\n",
       "    }\n",
       "\n",
       "    .dataframe thead th {\n",
       "        text-align: right;\n",
       "    }\n",
       "</style>\n",
       "<table border=\"1\" class=\"dataframe\">\n",
       "  <thead>\n",
       "    <tr style=\"text-align: right;\">\n",
       "      <th></th>\n",
       "      <th>actualPosition</th>\n",
       "      <th>torque0</th>\n",
       "      <th>torque1</th>\n",
       "    </tr>\n",
       "  </thead>\n",
       "  <tbody>\n",
       "    <tr>\n",
       "      <th>2021-09-30 15:00:00.036000+00:00</th>\n",
       "      <td>-0.001377</td>\n",
       "      <td>0.000000</td>\n",
       "      <td>0.000000</td>\n",
       "    </tr>\n",
       "    <tr>\n",
       "      <th>2021-09-30 15:00:00.086000+00:00</th>\n",
       "      <td>-0.001376</td>\n",
       "      <td>0.000000</td>\n",
       "      <td>0.000000</td>\n",
       "    </tr>\n",
       "    <tr>\n",
       "      <th>2021-09-30 15:00:00.136000+00:00</th>\n",
       "      <td>-0.001375</td>\n",
       "      <td>0.000000</td>\n",
       "      <td>0.000000</td>\n",
       "    </tr>\n",
       "    <tr>\n",
       "      <th>2021-09-30 15:00:00.186000+00:00</th>\n",
       "      <td>-0.001375</td>\n",
       "      <td>0.000000</td>\n",
       "      <td>0.000000</td>\n",
       "    </tr>\n",
       "    <tr>\n",
       "      <th>2021-09-30 15:00:00.236000+00:00</th>\n",
       "      <td>-0.001374</td>\n",
       "      <td>0.000000</td>\n",
       "      <td>0.000000</td>\n",
       "    </tr>\n",
       "    <tr>\n",
       "      <th>...</th>\n",
       "      <td>...</td>\n",
       "      <td>...</td>\n",
       "      <td>...</td>\n",
       "    </tr>\n",
       "    <tr>\n",
       "      <th>2021-09-30 15:59:59.760000+00:00</th>\n",
       "      <td>-86.999773</td>\n",
       "      <td>-0.000228</td>\n",
       "      <td>0.000109</td>\n",
       "    </tr>\n",
       "    <tr>\n",
       "      <th>2021-09-30 15:59:59.810000+00:00</th>\n",
       "      <td>-86.999957</td>\n",
       "      <td>-0.000208</td>\n",
       "      <td>0.000126</td>\n",
       "    </tr>\n",
       "    <tr>\n",
       "      <th>2021-09-30 15:59:59.860000+00:00</th>\n",
       "      <td>-87.000171</td>\n",
       "      <td>-0.000199</td>\n",
       "      <td>0.000136</td>\n",
       "    </tr>\n",
       "    <tr>\n",
       "      <th>2021-09-30 15:59:59.910000+00:00</th>\n",
       "      <td>-87.000334</td>\n",
       "      <td>-0.000192</td>\n",
       "      <td>0.000143</td>\n",
       "    </tr>\n",
       "    <tr>\n",
       "      <th>2021-09-30 15:59:59.960000+00:00</th>\n",
       "      <td>-87.000437</td>\n",
       "      <td>-0.000191</td>\n",
       "      <td>0.000145</td>\n",
       "    </tr>\n",
       "  </tbody>\n",
       "</table>\n",
       "<p>44029 rows × 3 columns</p>\n",
       "</div>"
      ],
      "text/plain": [
       "                                  actualPosition   torque0   torque1\n",
       "2021-09-30 15:00:00.036000+00:00       -0.001377  0.000000  0.000000\n",
       "2021-09-30 15:00:00.086000+00:00       -0.001376  0.000000  0.000000\n",
       "2021-09-30 15:00:00.136000+00:00       -0.001375  0.000000  0.000000\n",
       "2021-09-30 15:00:00.186000+00:00       -0.001375  0.000000  0.000000\n",
       "2021-09-30 15:00:00.236000+00:00       -0.001374  0.000000  0.000000\n",
       "...                                          ...       ...       ...\n",
       "2021-09-30 15:59:59.760000+00:00      -86.999773 -0.000228  0.000109\n",
       "2021-09-30 15:59:59.810000+00:00      -86.999957 -0.000208  0.000126\n",
       "2021-09-30 15:59:59.860000+00:00      -87.000171 -0.000199  0.000136\n",
       "2021-09-30 15:59:59.910000+00:00      -87.000334 -0.000192  0.000143\n",
       "2021-09-30 15:59:59.960000+00:00      -87.000437 -0.000191  0.000145\n",
       "\n",
       "[44029 rows x 3 columns]"
      ]
     },
     "execution_count": 149,
     "metadata": {},
     "output_type": "execute_result"
    }
   ],
   "source": [
    "df"
=======
   "execution_count": null,
   "id": "a003fb17-6988-4bec-8668-4ad58d38891c",
   "metadata": {
    "tags": []
   },
   "outputs": [],
   "source": [
    "for p in [30, 60, 89.5, 60, 30, 0, -30, -60, -89.5, -60, 0]:\n",
    "    print(f\" {datetime.now()} - Moving to {p}\")\n",
    "    await mtcs.rem.mtrotator.cmd_move.set_start(position=p, timeout=5.)\n",
    "    await asyncio.sleep(20.)\n",
    "    print(f\" Done.\")"
>>>>>>> Stashed changes
   ]
  },
  {
   "cell_type": "code",
<<<<<<< Updated upstream
   "execution_count": 150,
   "id": "81233c07-184a-45a0-81f1-2265c5baeef1",
   "metadata": {
    "execution": {
     "iopub.execute_input": "2022-03-01T19:42:13.804004Z",
     "iopub.status.busy": "2022-03-01T19:42:13.803897Z",
     "iopub.status.idle": "2022-03-01T19:42:13.846137Z",
     "shell.execute_reply": "2022-03-01T19:42:13.845815Z",
     "shell.execute_reply.started": "2022-03-01T19:42:13.803991Z"
    },
    "tags": []
   },
   "outputs": [
    {
     "name": "stdout",
     "output_type": "stream",
     "text": [
      "Average Torques at 87 deg\n",
      "Motor 1 = -8.298e-05 N.m +/- 4.774e-05 N.m\n",
      "Motor 2 = 2.511e-04 N.m +/- 4.843e-05 N.m\n",
      "Total Torque: 1.682e-04 N.m +/- 9.617e-05 N.m\n",
      "\n"
     ]
    }
   ],
   "source": [
    "get_average_torques_at_angle(df, 87)"
   ]
  },
  {
   "cell_type": "code",
   "execution_count": null,
   "id": "3b65bd4b-c41e-4a91-9fe4-0b3a7c524540",
   "metadata": {
    "tags": []
   },
   "outputs": [],
   "source": [
    "filename = f\"EFD_RotVsTorque_{t_start.strftime('%Y%m%d_%H%M%S')}.png\"\n",
    "plot_torque_vs_rotator_angle(df, filename=filename)"
=======
   "execution_count": null,
   "id": "a814ef19-14e4-4417-8261-745157d20139",
   "metadata": {
    "tags": []
   },
   "outputs": [],
   "source": [
    "now = datetime.now()\n",
    "script.log.info(f\"END -- {test_message} -- End Time: {now} UTC\")"
   ]
  },
  {
   "cell_type": "markdown",
   "id": "07306d33-1a03-4f1e-a109-77f978e02bce",
   "metadata": {
    "tags": []
   },
   "source": [
    "## Iteration 14: Move the hexapod to (X=-6700, Y=-6700, Z=-10000, U=0, V=0, W=0)"
>>>>>>> Stashed changes
   ]
  },
  {
   "cell_type": "code",
<<<<<<< Updated upstream
   "execution_count": 151,
   "id": "029e210b-5813-4734-8ff5-4415e1eeed78",
   "metadata": {
    "execution": {
     "iopub.execute_input": "2022-03-01T19:42:24.288583Z",
     "iopub.status.busy": "2022-03-01T19:42:24.288300Z",
     "iopub.status.idle": "2022-03-01T19:42:24.332354Z",
     "shell.execute_reply": "2022-03-01T19:42:24.331970Z",
     "shell.execute_reply.started": "2022-03-01T19:42:24.288565Z"
    },
    "tags": []
   },
   "outputs": [],
   "source": [
    "# t_end = Time(Time.now(), scale='utc', format='isot')\n",
    "t_start = Time('2021-10-01T14:00:00', scale='utc', format='isot') \n",
    "t_end = Time('2021-10-01T14:25:00', scale='utc', format='isot')"
=======
   "execution_count": null,
   "id": "d73a5bbb-ab05-4a55-b053-f987fce18890",
   "metadata": {},
   "outputs": [],
   "source": [
    "test_message = \"LVV-2261: Hexapod X=-6700, Y=-6700, Z=-10000, U=0, V=0, W=0  - Pathfinder Lines Not Pressurized\"\n",
    "\n",
    "now = datetime.now()\n",
    "script.log.info(f\"START -- {test_message} -- Starting Time: {now} UTC\")\n",
    "print(f\" {datetime.now()} - Moving Hexapod to  X=-6700, Y=-6700, Z=-10000, U=0, V=0, W=0\")\n",
    "await mtcs.rem.mthexapod_1.cmd_move.set_start(x=-6700, y=-6700, z=-10000, u=0, v=0, w=0, sync=True)\n",
    "print(f\" Done.\")"
>>>>>>> Stashed changes
   ]
  },
  {
   "cell_type": "code",
<<<<<<< Updated upstream
   "execution_count": 152,
   "id": "84e36a39-c5ce-4a7f-9b60-d6292171a64d",
   "metadata": {
    "execution": {
     "iopub.execute_input": "2022-03-01T19:42:24.687563Z",
     "iopub.status.busy": "2022-03-01T19:42:24.687234Z",
     "iopub.status.idle": "2022-03-01T19:42:26.265161Z",
     "shell.execute_reply": "2022-03-01T19:42:26.264682Z",
     "shell.execute_reply.started": "2022-03-01T19:42:24.687544Z"
    },
=======
   "execution_count": null,
   "id": "24331332-5433-411b-baf9-4a1c210ebb56",
   "metadata": {
>>>>>>> Stashed changes
    "tags": []
   },
   "outputs": [],
   "source": [
<<<<<<< Updated upstream
    "efd_client = retrieve_efd_client(summit)\n",
    "df = await retrieve_rotator_angle_and_torques_from_efd(efd_client, t_start, t_end)"
=======
    "for p in [30, 60, 89.5, 60, 30, 0, -30, -60, -89.5, -60, 0]:\n",
    "    print(f\" {datetime.now()} - Moving to {p}\")\n",
    "    await mtcs.rem.mtrotator.cmd_move.set_start(position=p, timeout=5.)\n",
    "    await asyncio.sleep(20.)\n",
    "    print(f\" Done.\")"
>>>>>>> Stashed changes
   ]
  },
  {
   "cell_type": "code",
<<<<<<< Updated upstream
   "execution_count": 153,
   "id": "3b0c1c20-1840-48eb-a874-fa4412e33c14",
   "metadata": {
    "execution": {
     "iopub.execute_input": "2022-03-01T19:42:26.265968Z",
     "iopub.status.busy": "2022-03-01T19:42:26.265851Z",
     "iopub.status.idle": "2022-03-01T19:42:28.868414Z",
     "shell.execute_reply": "2022-03-01T19:42:28.867897Z",
     "shell.execute_reply.started": "2022-03-01T19:42:26.265953Z"
    },
    "tags": []
   },
   "outputs": [
    {
     "name": "stdout",
     "output_type": "stream",
     "text": [
      "Plot file saved to plots/EFD_20211001_140000.png\n"
     ]
    },
    {
     "data": {
      "application/vnd.jupyter.widget-view+json": {
       "model_id": "653e8a9db3d74c1eaf8ad5a01a6d3938",
       "version_major": 2,
       "version_minor": 0
      },
      "image/png": "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",
      "text/html": [
       "\n",
       "            <div style=\"display: inline-block;\">\n",
       "                <div class=\"jupyter-widgets widget-label\" style=\"text-align: center;\">\n",
       "                    Torques and Rotator Position Angle - EFD_20211001_140000.png\n",
       "                </div>\n",
       "                <img src='data:image/png;base64,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' width=864.0/>\n",
       "            </div>\n",
       "        "
      ],
      "text/plain": [
       "Canvas(toolbar=Toolbar(toolitems=[('Home', 'Reset original view', 'home', 'home'), ('Back', 'Back to previous …"
      ]
     },
     "metadata": {},
     "output_type": "display_data"
    }
   ],
   "source": [
    "%matplotlib widget\n",
    "filename = f\"EFD_{t_start.strftime('%Y%m%d_%H%M%S')}.png\"\n",
    "plot_rotator_angle_and_torques(df, filename=filename)"
   ]
  },
  {
   "cell_type": "code",
   "execution_count": 154,
   "id": "2b19f040-4a86-4000-9017-3cd4fbba3fc1",
   "metadata": {
    "execution": {
     "iopub.execute_input": "2022-03-01T19:42:33.838434Z",
     "iopub.status.busy": "2022-03-01T19:42:33.838032Z",
     "iopub.status.idle": "2022-03-01T19:42:33.888685Z",
     "shell.execute_reply": "2022-03-01T19:42:33.888317Z",
     "shell.execute_reply.started": "2022-03-01T19:42:33.838416Z"
    }
   },
   "outputs": [
    {
     "name": "stdout",
     "output_type": "stream",
     "text": [
      "Average Torques at 87 deg\n",
      "Motor 1 = -1.584e-04 N.m +/- 4.871e-05 N.m\n",
      "Motor 2 = 1.756e-04 N.m +/- 4.887e-05 N.m\n",
      "Total Torque: 1.716e-05 N.m +/- 9.758e-05 N.m\n",
      "\n"
     ]
    }
   ],
   "source": [
    "get_average_torques_at_angle(df, 87)"
   ]
  },
  {
   "cell_type": "markdown",
   "id": "8436441d-598a-4140-9bd6-a9ebce1604c5",
   "metadata": {},
   "source": [
    "Current scaling assumes max torque\n",
    "and max current settings of:\n",
    "120,000N-m  (ox1D4C0) \n",
    "4.6A         (0x1CC)"
   ]
  },
  {
   "cell_type": "markdown",
   "id": "1d2fcf33-50bf-455f-ba4b-eb7f8632c1b8",
   "metadata": {
    "execution": {
     "iopub.execute_input": "2022-03-01T19:56:19.695550Z",
     "iopub.status.busy": "2022-03-01T19:56:19.695271Z",
     "iopub.status.idle": "2022-03-01T19:56:19.745912Z",
     "shell.execute_reply": "2022-03-01T19:56:19.744576Z",
     "shell.execute_reply.started": "2022-03-01T19:56:19.695532Z"
    },
    "tags": []
   },
   "source": [
    "# Hexapod Envelop Data Analysis"
=======
   "execution_count": null,
   "id": "c670ebee-d626-48fb-b084-c7c21a30ff1d",
   "metadata": {
    "tags": []
   },
   "outputs": [],
   "source": [
    "now = datetime.now()\n",
    "script.log.info(f\"END -- {test_message} -- End Time: {now} UTC\")"
   ]
  },
  {
   "cell_type": "markdown",
   "id": "e96744b3-d525-4806-8304-140b8fd52f58",
   "metadata": {
    "tags": []
   },
   "source": [
    "## Iteration 15: Move the hexapod to (X=-6700, Y=6700, Z=-10000, U=0, V=0, W=0)"
   ]
  },
  {
   "cell_type": "code",
   "execution_count": null,
   "id": "69070fef-2f01-4f5b-af08-97198996ca88",
   "metadata": {},
   "outputs": [],
   "source": [
    "test_message = \"LVV-2261: Hexapod X=-6700, Y=6700, Z=-10000, U=0, V=0, W=0  - Pathfinder Lines Not Pressurized\"\n",
    "\n",
    "now = datetime.now()\n",
    "script.log.info(f\"START -- {test_message} -- Starting Time: {now} UTC\")\n",
    "print(f\" {datetime.now()} - Moving Hexapod to  X=-6700, Y=6700, Z=-10000, U=0, V=0, W=0\")\n",
    "await mtcs.rem.mthexapod_1.cmd_move.set_start(x=-6700, y=6700, z=-10000, u=0, v=0, w=0, sync=True)\n",
    "print(f\" Done.\")"
   ]
  },
  {
   "cell_type": "code",
   "execution_count": null,
   "id": "06330411-c47a-4878-ae8e-323291ca1742",
   "metadata": {
    "tags": []
   },
   "outputs": [],
   "source": [
    "for p in [30, 60, 89.5, 60, 30, 0, -30, -60, -89.5, -60, 0]:\n",
    "    print(f\" {datetime.now()} - Moving to {p}\")\n",
    "    await mtcs.rem.mtrotator.cmd_move.set_start(position=p, timeout=5.)\n",
    "    await asyncio.sleep(20.)\n",
    "    print(f\" Done.\")"
>>>>>>> Stashed changes
   ]
  },
  {
   "cell_type": "code",
<<<<<<< Updated upstream
   "execution_count": 211,
   "id": "fd55e0c7-25a9-422a-bbfe-195243d32741",
   "metadata": {
    "execution": {
     "iopub.execute_input": "2022-03-01T22:44:22.571178Z",
     "iopub.status.busy": "2022-03-01T22:44:22.570865Z",
     "iopub.status.idle": "2022-03-01T22:44:22.604207Z",
     "shell.execute_reply": "2022-03-01T22:44:22.603746Z",
     "shell.execute_reply.started": "2022-03-01T22:44:22.571159Z"
    },
=======
   "execution_count": null,
   "id": "6193a126-9a8f-45ae-b467-a428a993e496",
   "metadata": {
>>>>>>> Stashed changes
    "tags": []
   },
   "outputs": [],
   "source": [
<<<<<<< Updated upstream
    "t_start = Time(\"2022-03-01T13:00:00\", scale=\"utc\", format=\"isot\")\n",
    "t_end = Time(\"2022-03-01T23:59:00\", scale=\"utc\", format=\"isot\")"
   ]
  },
  {
   "cell_type": "code",
   "execution_count": 245,
   "id": "3474f1e2-f98f-4d2d-8b56-92e3f956d94a",
   "metadata": {
    "execution": {
     "iopub.execute_input": "2022-03-01T22:57:39.789755Z",
     "iopub.status.busy": "2022-03-01T22:57:39.789481Z",
     "iopub.status.idle": "2022-03-01T22:57:39.824811Z",
     "shell.execute_reply": "2022-03-01T22:57:39.824313Z",
     "shell.execute_reply.started": "2022-03-01T22:57:39.789737Z"
    },
    "tags": []
   },
   "outputs": [],
   "source": [
    "pd.set_option('display.max_colwidth', 1000)"
=======
    "now = datetime.now()\n",
    "script.log.info(f\"END -- {test_message} -- End Time: {now} UTC\")"
   ]
  },
  {
   "cell_type": "markdown",
   "id": "06315dd8-d29d-441c-972c-3ce412d6bb69",
   "metadata": {
    "tags": []
   },
   "source": [
    "## Iteration 16: Move the hexapod to (X=0, Y=-11400, Z=-10000, U=0, V=0, W=0)"
   ]
  },
  {
   "cell_type": "code",
   "execution_count": null,
   "id": "c9a81403-0fc0-48aa-9779-fbf2844650b8",
   "metadata": {},
   "outputs": [],
   "source": [
    "test_message = \"LVV-2261: Hexapod X=0, Y=-10000, Z=-10000, U=0, V=0, W=0  - Pathfinder Lines Not Pressurized\"\n",
    "\n",
    "now = datetime.now()\n",
    "script.log.info(f\"START -- {test_message} -- Starting Time: {now} UTC\")\n",
    "print(f\" {datetime.now()} - Moving Hexapod to  X=0, Y=-10000, Z=-10000, U=0, V=0, W=0\")\n",
    "await mtcs.rem.mthexapod_1.cmd_move.set_start(x=0, y=-10000, z=-10000, u=0, v=0, w=0, sync=True)\n",
    "print(f\" Done.\")"
>>>>>>> Stashed changes
   ]
  },
  {
   "cell_type": "code",
<<<<<<< Updated upstream
   "execution_count": 254,
   "id": "86360ba5-9abf-4eef-9b02-d19afa3efe55",
   "metadata": {
    "execution": {
     "iopub.execute_input": "2022-03-01T23:01:35.457535Z",
     "iopub.status.busy": "2022-03-01T23:01:35.457222Z",
     "iopub.status.idle": "2022-03-01T23:01:46.725837Z",
     "shell.execute_reply": "2022-03-01T23:01:46.725364Z",
     "shell.execute_reply.started": "2022-03-01T23:01:35.457517Z"
    },
    "tags": []
   },
   "outputs": [
    {
     "data": {
      "text/html": [
       "<pre style=\"margin: 0.1em;\n",
       "padding-left: 0.25em;\n",
       "border-left-style: solid;\n",
       "font-family: var(--jp-code-font-family);\n",
       "font-size: var(--jp-code-font-size);\n",
       "line-height: var(--jp-code-line-height);\n",
       "\"><span style=\"color: var(--jp-warn-color2)\">MTHexapod.electrical</span> <span style=\"color: var(--jp-warn-color0)\">WARNING</span>: electrical DDS read queue is filling: 15 of 100 elements</pre>"
      ],
      "text/plain": [
       "<IPython.core.display.HTML object>"
      ]
     },
     "metadata": {},
     "output_type": "display_data"
    },
    {
     "data": {
      "text/html": [
       "<pre style=\"margin: 0.1em;\n",
       "padding-left: 0.25em;\n",
       "border-left-style: solid;\n",
       "font-family: var(--jp-code-font-family);\n",
       "font-size: var(--jp-code-font-size);\n",
       "line-height: var(--jp-code-line-height);\n",
       "\"><span style=\"color: var(--jp-warn-color2)\">MTHexapod.actuators</span> <span style=\"color: var(--jp-warn-color0)\">WARNING</span>: actuators DDS read queue is filling: 12 of 100 elements</pre>"
      ],
      "text/plain": [
       "<IPython.core.display.HTML object>"
      ]
     },
     "metadata": {},
     "output_type": "display_data"
    },
    {
     "data": {
      "text/html": [
       "<pre style=\"margin: 0.1em;\n",
       "padding-left: 0.25em;\n",
       "border-left-style: solid;\n",
       "font-family: var(--jp-code-font-family);\n",
       "font-size: var(--jp-code-font-size);\n",
       "line-height: var(--jp-code-line-height);\n",
       "\"><span style=\"color: var(--jp-warn-color2)\">MTHexapod.application</span> <span style=\"color: var(--jp-warn-color0)\">WARNING</span>: application DDS read queue is filling: 16 of 100 elements</pre>"
      ],
      "text/plain": [
       "<IPython.core.display.HTML object>"
      ]
     },
     "metadata": {},
     "output_type": "display_data"
    },
    {
     "data": {
      "text/html": [
       "<pre style=\"margin: 0.1em;\n",
       "padding-left: 0.25em;\n",
       "border-left-style: solid;\n",
       "font-family: var(--jp-code-font-family);\n",
       "font-size: var(--jp-code-font-size);\n",
       "line-height: var(--jp-code-line-height);\n",
       "\"><span style=\"color: var(--jp-warn-color2)\">MTHexapod.electrical</span> <span style=\"color: var(--jp-warn-color0)\">WARNING</span>: electrical DDS read queue is filling: 35 of 100 elements</pre>"
      ],
      "text/plain": [
       "<IPython.core.display.HTML object>"
      ]
     },
     "metadata": {},
     "output_type": "display_data"
    },
    {
     "data": {
      "text/html": [
       "<pre style=\"margin: 0.1em;\n",
       "padding-left: 0.25em;\n",
       "border-left-style: solid;\n",
       "font-family: var(--jp-code-font-family);\n",
       "font-size: var(--jp-code-font-size);\n",
       "line-height: var(--jp-code-line-height);\n",
       "\"><span style=\"color: var(--jp-warn-color2)\">MTHexapod.actuators</span> <span style=\"color: var(--jp-warn-color0)\">WARNING</span>: actuators DDS read queue is filling: 12 of 100 elements</pre>"
      ],
      "text/plain": [
       "<IPython.core.display.HTML object>"
      ]
     },
     "metadata": {},
     "output_type": "display_data"
    },
    {
     "data": {
      "text/html": [
       "<pre style=\"margin: 0.1em;\n",
       "padding-left: 0.25em;\n",
       "border-left-style: solid;\n",
       "font-family: var(--jp-code-font-family);\n",
       "font-size: var(--jp-code-font-size);\n",
       "line-height: var(--jp-code-line-height);\n",
       "\"><span style=\"color: var(--jp-warn-color2)\">MTHexapod.application</span> <span style=\"color: var(--jp-warn-color0)\">WARNING</span>: application DDS read queue is filling: 38 of 100 elements</pre>"
      ],
      "text/plain": [
       "<IPython.core.display.HTML object>"
      ]
     },
     "metadata": {},
     "output_type": "display_data"
    },
    {
     "data": {
      "text/html": [
       "<pre style=\"margin: 0.1em;\n",
       "padding-left: 0.25em;\n",
       "border-left-style: solid;\n",
       "font-family: var(--jp-code-font-family);\n",
       "font-size: var(--jp-code-font-size);\n",
       "line-height: var(--jp-code-line-height);\n",
       "\"><span style=\"color: var(--jp-warn-color2)\">MTHexapod.electrical</span> <span style=\"color: var(--jp-warn-color0)\">WARNING</span>: electrical DDS read queue is filling: 17 of 100 elements</pre>"
      ],
      "text/plain": [
       "<IPython.core.display.HTML object>"
      ]
     },
     "metadata": {},
     "output_type": "display_data"
    },
    {
     "data": {
      "text/html": [
       "<pre style=\"margin: 0.1em;\n",
       "padding-left: 0.25em;\n",
       "border-left-style: solid;\n",
       "font-family: var(--jp-code-font-family);\n",
       "font-size: var(--jp-code-font-size);\n",
       "line-height: var(--jp-code-line-height);\n",
       "\"><span style=\"color: var(--jp-warn-color2)\">MTHexapod.application</span> <span style=\"color: var(--jp-warn-color0)\">WARNING</span>: application DDS read queue is filling: 21 of 100 elements</pre>"
      ],
      "text/plain": [
       "<IPython.core.display.HTML object>"
      ]
     },
     "metadata": {},
     "output_type": "display_data"
    },
    {
     "data": {
      "text/html": [
       "<pre style=\"margin: 0.1em;\n",
       "padding-left: 0.25em;\n",
       "border-left-style: solid;\n",
       "font-family: var(--jp-code-font-family);\n",
       "font-size: var(--jp-code-font-size);\n",
       "line-height: var(--jp-code-line-height);\n",
       "\"><span style=\"color: var(--jp-warn-color2)\">MTHexapod.actuators</span> <span style=\"color: var(--jp-warn-color0)\">WARNING</span>: actuators DDS read queue is filling: 22 of 100 elements</pre>"
      ],
      "text/plain": [
       "<IPython.core.display.HTML object>"
      ]
     },
     "metadata": {},
     "output_type": "display_data"
    },
    {
     "data": {
      "text/html": [
       "<pre style=\"margin: 0.1em;\n",
       "padding-left: 0.25em;\n",
       "border-left-style: solid;\n",
       "font-family: var(--jp-code-font-family);\n",
       "font-size: var(--jp-code-font-size);\n",
       "line-height: var(--jp-code-line-height);\n",
       "\"><span style=\"color: var(--jp-warn-color2)\">MTHexapod.actuators</span> <span style=\"color: var(--jp-warn-color0)\">WARNING</span>: actuators DDS read queue is filling: 16 of 100 elements</pre>"
      ],
      "text/plain": [
       "<IPython.core.display.HTML object>"
      ]
     },
     "metadata": {},
     "output_type": "display_data"
    },
    {
     "data": {
      "text/html": [
       "<pre style=\"margin: 0.1em;\n",
       "padding-left: 0.25em;\n",
       "border-left-style: solid;\n",
       "font-family: var(--jp-code-font-family);\n",
       "font-size: var(--jp-code-font-size);\n",
       "line-height: var(--jp-code-line-height);\n",
       "\"><span style=\"color: var(--jp-warn-color2)\">MTHexapod.electrical</span> <span style=\"color: var(--jp-warn-color0)\">WARNING</span>: electrical DDS read queue is filling: 21 of 100 elements</pre>"
      ],
      "text/plain": [
       "<IPython.core.display.HTML object>"
      ]
     },
     "metadata": {},
     "output_type": "display_data"
    },
    {
     "data": {
      "text/html": [
       "<pre style=\"margin: 0.1em;\n",
       "padding-left: 0.25em;\n",
       "border-left-style: solid;\n",
       "font-family: var(--jp-code-font-family);\n",
       "font-size: var(--jp-code-font-size);\n",
       "line-height: var(--jp-code-line-height);\n",
       "\"><span style=\"color: var(--jp-warn-color2)\">MTHexapod.application</span> <span style=\"color: var(--jp-warn-color0)\">WARNING</span>: application DDS read queue is filling: 22 of 100 elements</pre>"
      ],
      "text/plain": [
       "<IPython.core.display.HTML object>"
      ]
     },
     "metadata": {},
     "output_type": "display_data"
    },
    {
     "name": "stderr",
     "output_type": "stream",
     "text": [
      "/tmp/ipykernel_40565/2758060200.py:1: RuntimeWarning: coroutine 'retrieve_rotator_angle_and_torques_from_efd' was never awaited\n",
      "  df_data = await retrieve_rotator_angle_and_torques_from_efd(efd_client, t_start, t_end)\n"
     ]
    }
   ],
   "source": [
    "df_data = await retrieve_rotator_angle_and_torques_from_efd(efd_client, t_start, t_end)"
=======
   "execution_count": null,
   "id": "f9f2fec3-b58d-4d6f-9c28-b09080470041",
   "metadata": {
    "tags": []
   },
   "outputs": [],
   "source": [
    "for p in [30, 60, 89.5, 60, 30, 0, -30, -60, -89.5, -60, 0]:\n",
    "    print(f\" {datetime.now()} - Moving to {p}\")\n",
    "    await mtcs.rem.mtrotator.cmd_move.set_start(position=p, timeout=5.)\n",
    "    await asyncio.sleep(20.)\n",
    "    print(f\" Done.\")"
>>>>>>> Stashed changes
   ]
  },
  {
   "cell_type": "code",
<<<<<<< Updated upstream
   "execution_count": 250,
   "id": "3789a92c-db15-49a9-b03a-2d6d5e3135aa",
   "metadata": {
    "execution": {
     "iopub.execute_input": "2022-03-01T23:01:00.953969Z",
     "iopub.status.busy": "2022-03-01T23:01:00.953677Z",
     "iopub.status.idle": "2022-03-01T23:01:01.170400Z",
     "shell.execute_reply": "2022-03-01T23:01:01.169912Z",
     "shell.execute_reply.started": "2022-03-01T23:01:00.953950Z"
    },
    "tags": []
   },
   "outputs": [
    {
     "data": {
      "text/html": [
       "<div>\n",
       "<style scoped>\n",
       "    .dataframe tbody tr th:only-of-type {\n",
       "        vertical-align: middle;\n",
       "    }\n",
       "\n",
       "    .dataframe tbody tr th {\n",
       "        vertical-align: top;\n",
       "    }\n",
       "\n",
       "    .dataframe thead th {\n",
       "        text-align: right;\n",
       "    }\n",
       "</style>\n",
       "<table border=\"1\" class=\"dataframe\">\n",
       "  <thead>\n",
       "    <tr style=\"text-align: right;\">\n",
       "      <th></th>\n",
       "      <th>message</th>\n",
       "    </tr>\n",
       "  </thead>\n",
       "  <tbody>\n",
       "    <tr>\n",
       "      <th>2022-03-01 15:40:22.143000+00:00</th>\n",
       "      <td>START -- LVV-2261: Hexapod at 0 - Pathfinder Lines Not Pressurized -- Starting Time: 2022-03-01 15:40:22.143140 UTC</td>\n",
       "    </tr>\n",
       "    <tr>\n",
       "      <th>2022-03-01 15:40:31.330000+00:00</th>\n",
       "      <td>START -- LVV-2261: Hexapod at 0 - Pathfinder Lines Not Pressurized -- Starting Time: 2022-03-01 15:40:31.329968 UTC</td>\n",
       "    </tr>\n",
       "    <tr>\n",
       "      <th>2022-03-01 16:16:43.756000+00:00</th>\n",
       "      <td>START -- LVV-2261: Hexapod at 0 - Pathfinder Lines Not Pressurized -- Starting Time: 2022-03-01 16:16:43.755951 UTC</td>\n",
       "    </tr>\n",
       "    <tr>\n",
       "      <th>2022-03-01 16:26:45.725000+00:00</th>\n",
       "      <td>START -- LVV-2261: Hexapod at 0 - Pathfinder Lines Not Pressurized -- Starting Time: 2022-03-01 16:26:45.725091 UTC</td>\n",
       "    </tr>\n",
       "    <tr>\n",
       "      <th>2022-03-01 16:34:00.933000+00:00</th>\n",
       "      <td>END -- LVV-2261: Hexapod at 0 - Pathfinder Lines Not Pressurized -- End Time: 2022-03-01 16:34:00.933397 UTC</td>\n",
       "    </tr>\n",
       "    <tr>\n",
       "      <th>2022-03-01 16:46:05.840000+00:00</th>\n",
       "      <td>START -- LVV-2261: Hexapod u=-0.36deg - Pathfinder Lines Not Pressurized -- Starting Time: 2022-03-01 16:46:05.839914 UTC</td>\n",
       "    </tr>\n",
       "    <tr>\n",
       "      <th>2022-03-01 17:11:13.165000+00:00</th>\n",
       "      <td>START -- LVV-2261: Hexapod u=-0.36deg - Pathfinder Lines Not Pressurized -- Starting Time: 2022-03-01 17:11:13.165259 UTC</td>\n",
       "    </tr>\n",
       "    <tr>\n",
       "      <th>2022-03-01 17:26:29.561000+00:00</th>\n",
       "      <td>END -- LVV-2261: Hexapod u=-0.36deg - Pathfinder Lines Not Pressurized -- End Time: 2022-03-01 17:26:29.561230 UTC</td>\n",
       "    </tr>\n",
       "    <tr>\n",
       "      <th>2022-03-01 17:28:43.191000+00:00</th>\n",
       "      <td>START -- LVV-2261: Hexapod u=-0.36deg v=-0.36deg - Pathfinder Lines Not Pressurized -- Starting Time: 2022-03-01 17:28:43.191209 UTC</td>\n",
       "    </tr>\n",
       "    <tr>\n",
       "      <th>2022-03-01 17:31:42.666000+00:00</th>\n",
       "      <td>START -- LVV-2261: Hexapod u=-0.18deg v=-0.18deg - Pathfinder Lines Not Pressurized -- Starting Time: 2022-03-01 17:31:42.666555 UTC</td>\n",
       "    </tr>\n",
       "    <tr>\n",
       "      <th>2022-03-01 17:31:42.667000+00:00</th>\n",
       "      <td>START -- LVV-2261: Hexapod u=-0.18deg v=-0.18deg - Pathfinder Lines Not Pressurized -- Starting Time: 2022-03-01 17:31:42.666555 UTC</td>\n",
       "    </tr>\n",
       "    <tr>\n",
       "      <th>2022-03-01 17:42:33.653000+00:00</th>\n",
       "      <td>END -- LVV-2261: Hexapod u=-0.18deg v=-0.18deg - Pathfinder Lines Not Pressurized -- End Time: 2022-03-01 17:42:33.653192 UTC</td>\n",
       "    </tr>\n",
       "    <tr>\n",
       "      <th>2022-03-01 17:44:28.086000+00:00</th>\n",
       "      <td>START -- LVV-2261: Hexapod u=-0.25deg v=-0.25deg (total 0.36) - Pathfinder Lines Not Pressurized -- Starting Time: 2022-03-01 17:44:28.086540 UTC</td>\n",
       "    </tr>\n",
       "    <tr>\n",
       "      <th>2022-03-01 17:44:28.087000+00:00</th>\n",
       "      <td>START -- LVV-2261: Hexapod u=-0.25deg v=-0.25deg (total 0.36) - Pathfinder Lines Not Pressurized -- Starting Time: 2022-03-01 17:44:28.086540 UTC</td>\n",
       "    </tr>\n",
       "    <tr>\n",
       "      <th>2022-03-01 17:45:07.958000+00:00</th>\n",
       "      <td>START -- LVV-2261: Hexapod u=-0.25deg v=-0.25deg (total 0.36) - Pathfinder Lines Not Pressurized -- Starting Time: 2022-03-01 17:45:07.958044 UTC</td>\n",
       "    </tr>\n",
       "    <tr>\n",
       "      <th>2022-03-01 17:45:20.661000+00:00</th>\n",
       "      <td>START -- LVV-2261: Hexapod u=-0.25deg v=-0.25deg (total 0.36) - Pathfinder Lines Not Pressurized -- Starting Time: 2022-03-01 17:45:20.661638 UTC</td>\n",
       "    </tr>\n",
       "    <tr>\n",
       "      <th>2022-03-01 17:45:20.662000+00:00</th>\n",
       "      <td>START -- LVV-2261: Hexapod u=-0.25deg v=-0.25deg (total 0.36) - Pathfinder Lines Not Pressurized -- Starting Time: 2022-03-01 17:45:20.661638 UTC</td>\n",
       "    </tr>\n",
       "    <tr>\n",
       "      <th>2022-03-01 17:58:38.488000+00:00</th>\n",
       "      <td>END -- LVV-2261: Hexapod u=-0.25deg v=-0.25deg (total 0.36) - Pathfinder Lines Not Pressurized -- End Time: 2022-03-01 17:58:38.488162 UTC</td>\n",
       "    </tr>\n",
       "    <tr>\n",
       "      <th>2022-03-01 18:00:45.600000+00:00</th>\n",
       "      <td>START -- LVV-2261: Hexapod u=+0.36deg v=0.00deg - Pathfinder Lines Not Pressurized -- Starting Time: 2022-03-01 18:00:45.600340 UTC</td>\n",
       "    </tr>\n",
       "    <tr>\n",
       "      <th>2022-03-01 18:13:42.076000+00:00</th>\n",
       "      <td>END -- LVV-2261: Hexapod u=+0.36deg v=0.00deg - Pathfinder Lines Not Pressurized -- End Time: 2022-03-01 18:13:42.076045 UTC</td>\n",
       "    </tr>\n",
       "    <tr>\n",
       "      <th>2022-03-01 18:18:45.485000+00:00</th>\n",
       "      <td>START -- LVV-2261: Hexapod u=+0.253deg v=-0.253deg (total 0.36) - Pathfinder Lines Not Pressurized -- Starting Time: 2022-03-01 18:18:45.484806 UTC</td>\n",
       "    </tr>\n",
       "    <tr>\n",
       "      <th>2022-03-01 18:31:58.416000+00:00</th>\n",
       "      <td>END -- LVV-2261: Hexapod u=+0.253deg v=-0.253deg (total 0.36) - Pathfinder Lines Not Pressurized -- End Time: 2022-03-01 18:31:58.416027 UTC</td>\n",
       "    </tr>\n",
       "    <tr>\n",
       "      <th>2022-03-01 18:41:09.754000+00:00</th>\n",
       "      <td>START -- LVV-2261: Hexapod u=+0deg v=-0.36deg (total 0.36) - Pathfinder Lines Not Pressurized -- Starting Time: 2022-03-01 18:41:09.754041 UTC</td>\n",
       "    </tr>\n",
       "    <tr>\n",
       "      <th>2022-03-01 18:43:42.398000+00:00</th>\n",
       "      <td>START -- LVV-2261: Hexapod u=+0deg v=-0.36deg (total 0.36) - Pathfinder Lines Not Pressurized -- Starting Time: 2022-03-01 18:43:42.398629 UTC</td>\n",
       "    </tr>\n",
       "    <tr>\n",
       "      <th>2022-03-01 18:43:42.399000+00:00</th>\n",
       "      <td>START -- LVV-2261: Hexapod u=+0deg v=-0.36deg (total 0.36) - Pathfinder Lines Not Pressurized -- Starting Time: 2022-03-01 18:43:42.398629 UTC</td>\n",
       "    </tr>\n",
       "    <tr>\n",
       "      <th>2022-03-01 18:52:17.886000+00:00</th>\n",
       "      <td>END -- LVV-2261: Hexapod u=+0deg v=-0.36deg (total 0.36) - Pathfinder Lines Not Pressurized -- End Time: 2022-03-01 18:52:17.886160 UTC</td>\n",
       "    </tr>\n",
       "    <tr>\n",
       "      <th>2022-03-01 20:46:15.433000+00:00</th>\n",
       "      <td>START -- LVV-2261: Hexapod x=-11400, Y=0, Z=-10330 - Pathfinder Lines Not Pressurized -- Starting Time: 2022-03-01 20:46:15.432952 UTC</td>\n",
       "    </tr>\n",
       "    <tr>\n",
       "      <th>2022-03-01 21:00:29.038000+00:00</th>\n",
       "      <td>END -- LVV-2261: Hexapod x=-11400, Y=0, Z=-10330 - Pathfinder Lines Not Pressurized -- End Time: 2022-03-01 21:00:29.038031 UTC</td>\n",
       "    </tr>\n",
       "    <tr>\n",
       "      <th>2022-03-01 21:03:56.521000+00:00</th>\n",
       "      <td>START -- LVV-2261: Hexapod x=-11400, Y=0, Z=-10330 - Pathfinder Lines Not Pressurized -- Starting Time: 2022-03-01 21:03:56.521130 UTC</td>\n",
       "    </tr>\n",
       "    <tr>\n",
       "      <th>2022-03-01 21:07:32.940000+00:00</th>\n",
       "      <td>START -- LVV-2261: Hexapod x=-11400, Y=0, Z=-10330 - Pathfinder Lines Not Pressurized -- Starting Time: 2022-03-01 21:07:32.939809 UTC</td>\n",
       "    </tr>\n",
       "    <tr>\n",
       "      <th>2022-03-01 21:08:08.193000+00:00</th>\n",
       "      <td>START -- LVV-2261: Hexapod x=-11400, Y=0, Z=-10330 - Pathfinder Lines Not Pressurized -- Starting Time: 2022-03-01 21:08:08.193049 UTC</td>\n",
       "    </tr>\n",
       "    <tr>\n",
       "      <th>2022-03-01 21:09:24.101000+00:00</th>\n",
       "      <td>START -- LVV-2261: Hexapod x=-11400, Y=0, Z=-10330 - Pathfinder Lines Not Pressurized -- Starting Time: 2022-03-01 21:09:24.101018 UTC</td>\n",
       "    </tr>\n",
       "    <tr>\n",
       "      <th>2022-03-01 21:09:56.925000+00:00</th>\n",
       "      <td>START -- LVV-2261: Hexapod x=-11400, Y=0, Z=-10330 - Pathfinder Lines Not Pressurized -- Starting Time: 2022-03-01 21:09:56.925711 UTC</td>\n",
       "    </tr>\n",
       "    <tr>\n",
       "      <th>2022-03-01 21:09:56.926000+00:00</th>\n",
       "      <td>START -- LVV-2261: Hexapod x=-11400, Y=0, Z=-10330 - Pathfinder Lines Not Pressurized -- Starting Time: 2022-03-01 21:09:56.925711 UTC</td>\n",
       "    </tr>\n",
       "    <tr>\n",
       "      <th>2022-03-01 21:20:13.357000+00:00</th>\n",
       "      <td>END -- LVV-2261: Hexapod x=-11400, Y=0, Z=-10330 - Pathfinder Lines Not Pressurized -- End Time: 2022-03-01 21:20:13.357258 UTC</td>\n",
       "    </tr>\n",
       "  </tbody>\n",
       "</table>\n",
       "</div>"
      ],
      "text/plain": [
       "                                                                                                                                                                              message\n",
       "2022-03-01 15:40:22.143000+00:00                                  START -- LVV-2261: Hexapod at 0 - Pathfinder Lines Not Pressurized -- Starting Time: 2022-03-01 15:40:22.143140 UTC\n",
       "2022-03-01 15:40:31.330000+00:00                                  START -- LVV-2261: Hexapod at 0 - Pathfinder Lines Not Pressurized -- Starting Time: 2022-03-01 15:40:31.329968 UTC\n",
       "2022-03-01 16:16:43.756000+00:00                                  START -- LVV-2261: Hexapod at 0 - Pathfinder Lines Not Pressurized -- Starting Time: 2022-03-01 16:16:43.755951 UTC\n",
       "2022-03-01 16:26:45.725000+00:00                                  START -- LVV-2261: Hexapod at 0 - Pathfinder Lines Not Pressurized -- Starting Time: 2022-03-01 16:26:45.725091 UTC\n",
       "2022-03-01 16:34:00.933000+00:00                                         END -- LVV-2261: Hexapod at 0 - Pathfinder Lines Not Pressurized -- End Time: 2022-03-01 16:34:00.933397 UTC\n",
       "2022-03-01 16:46:05.840000+00:00                            START -- LVV-2261: Hexapod u=-0.36deg - Pathfinder Lines Not Pressurized -- Starting Time: 2022-03-01 16:46:05.839914 UTC\n",
       "2022-03-01 17:11:13.165000+00:00                            START -- LVV-2261: Hexapod u=-0.36deg - Pathfinder Lines Not Pressurized -- Starting Time: 2022-03-01 17:11:13.165259 UTC\n",
       "2022-03-01 17:26:29.561000+00:00                                   END -- LVV-2261: Hexapod u=-0.36deg - Pathfinder Lines Not Pressurized -- End Time: 2022-03-01 17:26:29.561230 UTC\n",
       "2022-03-01 17:28:43.191000+00:00                 START -- LVV-2261: Hexapod u=-0.36deg v=-0.36deg - Pathfinder Lines Not Pressurized -- Starting Time: 2022-03-01 17:28:43.191209 UTC\n",
       "2022-03-01 17:31:42.666000+00:00                 START -- LVV-2261: Hexapod u=-0.18deg v=-0.18deg - Pathfinder Lines Not Pressurized -- Starting Time: 2022-03-01 17:31:42.666555 UTC\n",
       "2022-03-01 17:31:42.667000+00:00                 START -- LVV-2261: Hexapod u=-0.18deg v=-0.18deg - Pathfinder Lines Not Pressurized -- Starting Time: 2022-03-01 17:31:42.666555 UTC\n",
       "2022-03-01 17:42:33.653000+00:00                        END -- LVV-2261: Hexapod u=-0.18deg v=-0.18deg - Pathfinder Lines Not Pressurized -- End Time: 2022-03-01 17:42:33.653192 UTC\n",
       "2022-03-01 17:44:28.086000+00:00    START -- LVV-2261: Hexapod u=-0.25deg v=-0.25deg (total 0.36) - Pathfinder Lines Not Pressurized -- Starting Time: 2022-03-01 17:44:28.086540 UTC\n",
       "2022-03-01 17:44:28.087000+00:00    START -- LVV-2261: Hexapod u=-0.25deg v=-0.25deg (total 0.36) - Pathfinder Lines Not Pressurized -- Starting Time: 2022-03-01 17:44:28.086540 UTC\n",
       "2022-03-01 17:45:07.958000+00:00    START -- LVV-2261: Hexapod u=-0.25deg v=-0.25deg (total 0.36) - Pathfinder Lines Not Pressurized -- Starting Time: 2022-03-01 17:45:07.958044 UTC\n",
       "2022-03-01 17:45:20.661000+00:00    START -- LVV-2261: Hexapod u=-0.25deg v=-0.25deg (total 0.36) - Pathfinder Lines Not Pressurized -- Starting Time: 2022-03-01 17:45:20.661638 UTC\n",
       "2022-03-01 17:45:20.662000+00:00    START -- LVV-2261: Hexapod u=-0.25deg v=-0.25deg (total 0.36) - Pathfinder Lines Not Pressurized -- Starting Time: 2022-03-01 17:45:20.661638 UTC\n",
       "2022-03-01 17:58:38.488000+00:00           END -- LVV-2261: Hexapod u=-0.25deg v=-0.25deg (total 0.36) - Pathfinder Lines Not Pressurized -- End Time: 2022-03-01 17:58:38.488162 UTC\n",
       "2022-03-01 18:00:45.600000+00:00                  START -- LVV-2261: Hexapod u=+0.36deg v=0.00deg - Pathfinder Lines Not Pressurized -- Starting Time: 2022-03-01 18:00:45.600340 UTC\n",
       "2022-03-01 18:13:42.076000+00:00                         END -- LVV-2261: Hexapod u=+0.36deg v=0.00deg - Pathfinder Lines Not Pressurized -- End Time: 2022-03-01 18:13:42.076045 UTC\n",
       "2022-03-01 18:18:45.485000+00:00  START -- LVV-2261: Hexapod u=+0.253deg v=-0.253deg (total 0.36) - Pathfinder Lines Not Pressurized -- Starting Time: 2022-03-01 18:18:45.484806 UTC\n",
       "2022-03-01 18:31:58.416000+00:00         END -- LVV-2261: Hexapod u=+0.253deg v=-0.253deg (total 0.36) - Pathfinder Lines Not Pressurized -- End Time: 2022-03-01 18:31:58.416027 UTC\n",
       "2022-03-01 18:41:09.754000+00:00       START -- LVV-2261: Hexapod u=+0deg v=-0.36deg (total 0.36) - Pathfinder Lines Not Pressurized -- Starting Time: 2022-03-01 18:41:09.754041 UTC\n",
       "2022-03-01 18:43:42.398000+00:00       START -- LVV-2261: Hexapod u=+0deg v=-0.36deg (total 0.36) - Pathfinder Lines Not Pressurized -- Starting Time: 2022-03-01 18:43:42.398629 UTC\n",
       "2022-03-01 18:43:42.399000+00:00       START -- LVV-2261: Hexapod u=+0deg v=-0.36deg (total 0.36) - Pathfinder Lines Not Pressurized -- Starting Time: 2022-03-01 18:43:42.398629 UTC\n",
       "2022-03-01 18:52:17.886000+00:00              END -- LVV-2261: Hexapod u=+0deg v=-0.36deg (total 0.36) - Pathfinder Lines Not Pressurized -- End Time: 2022-03-01 18:52:17.886160 UTC\n",
       "2022-03-01 20:46:15.433000+00:00               START -- LVV-2261: Hexapod x=-11400, Y=0, Z=-10330 - Pathfinder Lines Not Pressurized -- Starting Time: 2022-03-01 20:46:15.432952 UTC\n",
       "2022-03-01 21:00:29.038000+00:00                      END -- LVV-2261: Hexapod x=-11400, Y=0, Z=-10330 - Pathfinder Lines Not Pressurized -- End Time: 2022-03-01 21:00:29.038031 UTC\n",
       "2022-03-01 21:03:56.521000+00:00               START -- LVV-2261: Hexapod x=-11400, Y=0, Z=-10330 - Pathfinder Lines Not Pressurized -- Starting Time: 2022-03-01 21:03:56.521130 UTC\n",
       "2022-03-01 21:07:32.940000+00:00               START -- LVV-2261: Hexapod x=-11400, Y=0, Z=-10330 - Pathfinder Lines Not Pressurized -- Starting Time: 2022-03-01 21:07:32.939809 UTC\n",
       "2022-03-01 21:08:08.193000+00:00               START -- LVV-2261: Hexapod x=-11400, Y=0, Z=-10330 - Pathfinder Lines Not Pressurized -- Starting Time: 2022-03-01 21:08:08.193049 UTC\n",
       "2022-03-01 21:09:24.101000+00:00               START -- LVV-2261: Hexapod x=-11400, Y=0, Z=-10330 - Pathfinder Lines Not Pressurized -- Starting Time: 2022-03-01 21:09:24.101018 UTC\n",
       "2022-03-01 21:09:56.925000+00:00               START -- LVV-2261: Hexapod x=-11400, Y=0, Z=-10330 - Pathfinder Lines Not Pressurized -- Starting Time: 2022-03-01 21:09:56.925711 UTC\n",
       "2022-03-01 21:09:56.926000+00:00               START -- LVV-2261: Hexapod x=-11400, Y=0, Z=-10330 - Pathfinder Lines Not Pressurized -- Starting Time: 2022-03-01 21:09:56.925711 UTC\n",
       "2022-03-01 21:20:13.357000+00:00                      END -- LVV-2261: Hexapod x=-11400, Y=0, Z=-10330 - Pathfinder Lines Not Pressurized -- End Time: 2022-03-01 21:20:13.357258 UTC"
      ]
     },
     "execution_count": 250,
     "metadata": {},
     "output_type": "execute_result"
    }
   ],
   "source": [
    "df_log = await efd_client.select_time_series(\n",
    "    \"lsst.sal.Script.logevent_logMessage\", \n",
    "    fields='message', \n",
    "    start=t_start, \n",
    "    end=t_end)\n",
    "\n",
    "df_log = df_log[df_log[\"message\"].str.contains(\"LVV-2261\")]\n",
    "df_log"
   ]
  },
  {
   "cell_type": "code",
   "execution_count": 256,
   "id": "f57d81ea-76bc-4f59-adda-5f303a8d287d",
   "metadata": {
    "execution": {
     "iopub.execute_input": "2022-03-01T23:07:40.340931Z",
     "iopub.status.busy": "2022-03-01T23:07:40.340641Z",
     "iopub.status.idle": "2022-03-01T23:07:40.592311Z",
     "shell.execute_reply": "2022-03-01T23:07:40.591903Z",
     "shell.execute_reply.started": "2022-03-01T23:07:40.340914Z"
    }
   },
   "outputs": [
    {
     "data": {
      "text/html": [
       "<div>\n",
       "<style scoped>\n",
       "    .dataframe tbody tr th:only-of-type {\n",
       "        vertical-align: middle;\n",
       "    }\n",
       "\n",
       "    .dataframe tbody tr th {\n",
       "        vertical-align: top;\n",
       "    }\n",
       "\n",
       "    .dataframe thead th {\n",
       "        text-align: right;\n",
       "    }\n",
       "</style>\n",
       "<table border=\"1\" class=\"dataframe\">\n",
       "  <thead>\n",
       "    <tr style=\"text-align: right;\">\n",
       "      <th></th>\n",
       "      <th>position</th>\n",
       "    </tr>\n",
       "  </thead>\n",
       "  <tbody>\n",
       "    <tr>\n",
       "      <th>2022-03-01 16:16:46.655000+00:00</th>\n",
       "      <td>10.0</td>\n",
       "    </tr>\n",
       "    <tr>\n",
       "      <th>2022-03-01 16:21:10.409000+00:00</th>\n",
       "      <td>2.0</td>\n",
       "    </tr>\n",
       "    <tr>\n",
       "      <th>2022-03-01 16:21:21.811000+00:00</th>\n",
       "      <td>0.0</td>\n",
       "    </tr>\n",
       "    <tr>\n",
       "      <th>2022-03-01 16:26:15.070000+00:00</th>\n",
       "      <td>0.0</td>\n",
       "    </tr>\n",
       "    <tr>\n",
       "      <th>2022-03-01 16:26:21.771000+00:00</th>\n",
       "      <td>1.0</td>\n",
       "    </tr>\n",
       "    <tr>\n",
       "      <th>...</th>\n",
       "      <td>...</td>\n",
       "    </tr>\n",
       "    <tr>\n",
       "      <th>2022-03-01 21:19:22.895000+00:00</th>\n",
       "      <td>-40.0</td>\n",
       "    </tr>\n",
       "    <tr>\n",
       "      <th>2022-03-01 21:19:32.998000+00:00</th>\n",
       "      <td>-30.0</td>\n",
       "    </tr>\n",
       "    <tr>\n",
       "      <th>2022-03-01 21:19:43.101000+00:00</th>\n",
       "      <td>-20.0</td>\n",
       "    </tr>\n",
       "    <tr>\n",
       "      <th>2022-03-01 21:19:53.204000+00:00</th>\n",
       "      <td>-10.0</td>\n",
       "    </tr>\n",
       "    <tr>\n",
       "      <th>2022-03-01 21:20:03.306000+00:00</th>\n",
       "      <td>0.0</td>\n",
       "    </tr>\n",
       "  </tbody>\n",
       "</table>\n",
       "<p>381 rows × 1 columns</p>\n",
       "</div>"
      ],
      "text/plain": [
       "                                  position\n",
       "2022-03-01 16:16:46.655000+00:00      10.0\n",
       "2022-03-01 16:21:10.409000+00:00       2.0\n",
       "2022-03-01 16:21:21.811000+00:00       0.0\n",
       "2022-03-01 16:26:15.070000+00:00       0.0\n",
       "2022-03-01 16:26:21.771000+00:00       1.0\n",
       "...                                    ...\n",
       "2022-03-01 21:19:22.895000+00:00     -40.0\n",
       "2022-03-01 21:19:32.998000+00:00     -30.0\n",
       "2022-03-01 21:19:43.101000+00:00     -20.0\n",
       "2022-03-01 21:19:53.204000+00:00     -10.0\n",
       "2022-03-01 21:20:03.306000+00:00       0.0\n",
       "\n",
       "[381 rows x 1 columns]"
      ]
     },
     "execution_count": 256,
     "metadata": {},
     "output_type": "execute_result"
    }
   ],
   "source": [
    "df_target = await efd_client.select_time_series(\n",
    "    \"lsst.sal.MTRotator.logevent_target\", \n",
    "    fields=\"position\", \n",
    "    start=t_start, \n",
    "    end=t_end)\n",
    "\n",
    "df_target"
=======
   "execution_count": null,
   "id": "27091e67-e5fd-4eaa-b330-b3f19d023093",
   "metadata": {
    "tags": []
   },
   "outputs": [],
   "source": [
    "now = datetime.now()\n",
    "script.log.info(f\"END -- {test_message} -- End Time: {now} UTC\")"
   ]
  },
  {
   "cell_type": "markdown",
   "id": "96fbd043-6a37-438c-8c0e-e06106c94450",
   "metadata": {
    "tags": []
   },
   "source": [
    "## Iteration 17: Move the hexapod to (X=0, Y=11400, Z=-10000, U=0, V=0, W=0)"
>>>>>>> Stashed changes
   ]
  },
  {
   "cell_type": "code",
<<<<<<< Updated upstream
   "execution_count": 247,
   "id": "1890df23-d739-48ec-9ee8-0a18928e583b",
   "metadata": {
    "execution": {
     "iopub.execute_input": "2022-03-01T22:58:32.761919Z",
     "iopub.status.busy": "2022-03-01T22:58:32.761636Z",
     "iopub.status.idle": "2022-03-01T22:58:32.795113Z",
     "shell.execute_reply": "2022-03-01T22:58:32.794719Z",
     "shell.execute_reply.started": "2022-03-01T22:58:32.761901Z"
    }
   },
   "outputs": [],
   "source": [
    "step0_start = \"2022-03-01 16:26:45\"\n",
    "step0_end = \"2022-03-01 16:34:00\""
=======
   "execution_count": null,
   "id": "ab695be1-02c6-4cef-897f-7b7f4c714743",
   "metadata": {},
   "outputs": [],
   "source": [
    "test_message = \"LVV-2261: Hexapod X=0, Y=10000, Z=-10000, U=0, V=0, W=0  - Pathfinder Lines Not Pressurized\"\n",
    "\n",
    "now = datetime.now()\n",
    "script.log.info(f\"START -- {test_message} -- Starting Time: {now} UTC\")\n",
    "print(f\" {datetime.now()} - Moving Hexapod to  X=0, Y=10000, Z=-10000, U=0, V=0, W=0\")\n",
    "await mtcs.rem.mthexapod_1.cmd_move.set_start(x=0, y=10000, z=-10000, u=0, v=0, w=0, sync=True)\n",
    "print(f\" Done.\")"
>>>>>>> Stashed changes
   ]
  },
  {
   "cell_type": "code",
<<<<<<< Updated upstream
   "execution_count": 255,
   "id": "54b9142a-381c-4b24-90f4-fdd265b36ded",
   "metadata": {
    "execution": {
     "iopub.execute_input": "2022-03-01T23:01:59.954623Z",
     "iopub.status.busy": "2022-03-01T23:01:59.954351Z",
     "iopub.status.idle": "2022-03-01T23:02:00.008614Z",
     "shell.execute_reply": "2022-03-01T23:02:00.008202Z",
     "shell.execute_reply.started": "2022-03-01T23:01:59.954606Z"
    },
    "tags": []
   },
   "outputs": [
    {
     "data": {
      "text/html": [
       "<div>\n",
       "<style scoped>\n",
       "    .dataframe tbody tr th:only-of-type {\n",
       "        vertical-align: middle;\n",
       "    }\n",
       "\n",
       "    .dataframe tbody tr th {\n",
       "        vertical-align: top;\n",
       "    }\n",
       "\n",
       "    .dataframe thead th {\n",
       "        text-align: right;\n",
       "    }\n",
       "</style>\n",
       "<table border=\"1\" class=\"dataframe\">\n",
       "  <thead>\n",
       "    <tr style=\"text-align: right;\">\n",
       "      <th></th>\n",
       "      <th>actualPosition</th>\n",
       "      <th>torque0</th>\n",
       "      <th>torque1</th>\n",
       "    </tr>\n",
       "  </thead>\n",
       "  <tbody>\n",
       "    <tr>\n",
       "      <th>2022-03-01 16:26:45.026000+00:00</th>\n",
       "      <td>-0.000331</td>\n",
       "      <td>-0.000128</td>\n",
       "      <td>0.000205</td>\n",
       "    </tr>\n",
       "    <tr>\n",
       "      <th>2022-03-01 16:26:45.076000+00:00</th>\n",
       "      <td>-0.000323</td>\n",
       "      <td>-0.000143</td>\n",
       "      <td>0.000191</td>\n",
       "    </tr>\n",
       "    <tr>\n",
       "      <th>2022-03-01 16:26:45.126000+00:00</th>\n",
       "      <td>-0.000300</td>\n",
       "      <td>-0.000160</td>\n",
       "      <td>0.000174</td>\n",
       "    </tr>\n",
       "    <tr>\n",
       "      <th>2022-03-01 16:26:45.176000+00:00</th>\n",
       "      <td>-0.000250</td>\n",
       "      <td>-0.000179</td>\n",
       "      <td>0.000158</td>\n",
       "    </tr>\n",
       "    <tr>\n",
       "      <th>2022-03-01 16:26:45.226000+00:00</th>\n",
       "      <td>-0.000163</td>\n",
       "      <td>-0.000193</td>\n",
       "      <td>0.000140</td>\n",
       "    </tr>\n",
       "    <tr>\n",
       "      <th>...</th>\n",
       "      <td>...</td>\n",
       "      <td>...</td>\n",
       "      <td>...</td>\n",
       "    </tr>\n",
       "    <tr>\n",
       "      <th>2022-03-01 16:34:00.116000+00:00</th>\n",
       "      <td>-0.000328</td>\n",
       "      <td>-0.000185</td>\n",
       "      <td>0.000147</td>\n",
       "    </tr>\n",
       "    <tr>\n",
       "      <th>2022-03-01 16:34:00.216000+00:00</th>\n",
       "      <td>-0.000274</td>\n",
       "      <td>-0.000222</td>\n",
       "      <td>0.000111</td>\n",
       "    </tr>\n",
       "    <tr>\n",
       "      <th>2022-03-01 16:34:00.316000+00:00</th>\n",
       "      <td>-0.000022</td>\n",
       "      <td>-0.000248</td>\n",
       "      <td>0.000088</td>\n",
       "    </tr>\n",
       "    <tr>\n",
       "      <th>2022-03-01 16:34:00.367000+00:00</th>\n",
       "      <td>0.000127</td>\n",
       "      <td>-0.000254</td>\n",
       "      <td>0.000075</td>\n",
       "    </tr>\n",
       "    <tr>\n",
       "      <th>2022-03-01 16:34:00.416000+00:00</th>\n",
       "      <td>0.000237</td>\n",
       "      <td>-0.000257</td>\n",
       "      <td>0.000079</td>\n",
       "    </tr>\n",
       "  </tbody>\n",
       "</table>\n",
       "<p>7092 rows × 3 columns</p>\n",
       "</div>"
      ],
      "text/plain": [
       "                                  actualPosition   torque0   torque1\n",
       "2022-03-01 16:26:45.026000+00:00       -0.000331 -0.000128  0.000205\n",
       "2022-03-01 16:26:45.076000+00:00       -0.000323 -0.000143  0.000191\n",
       "2022-03-01 16:26:45.126000+00:00       -0.000300 -0.000160  0.000174\n",
       "2022-03-01 16:26:45.176000+00:00       -0.000250 -0.000179  0.000158\n",
       "2022-03-01 16:26:45.226000+00:00       -0.000163 -0.000193  0.000140\n",
       "...                                          ...       ...       ...\n",
       "2022-03-01 16:34:00.116000+00:00       -0.000328 -0.000185  0.000147\n",
       "2022-03-01 16:34:00.216000+00:00       -0.000274 -0.000222  0.000111\n",
       "2022-03-01 16:34:00.316000+00:00       -0.000022 -0.000248  0.000088\n",
       "2022-03-01 16:34:00.367000+00:00        0.000127 -0.000254  0.000075\n",
       "2022-03-01 16:34:00.416000+00:00        0.000237 -0.000257  0.000079\n",
       "\n",
       "[7092 rows x 3 columns]"
      ]
     },
     "execution_count": 255,
     "metadata": {},
     "output_type": "execute_result"
    }
   ],
   "source": [
    "df_data.loc[step0_start:step0_end]"
=======
   "execution_count": null,
   "id": "7e49eb33-923c-4eba-b7d7-58237c0ef596",
   "metadata": {
    "tags": []
   },
   "outputs": [],
   "source": [
    "for p in [30, 60, 89.5, 60, 30, 0, -30, -60, -89.5, -60, 0]:\n",
    "    print(f\" {datetime.now()} - Moving to {p}\")\n",
    "    await mtcs.rem.mtrotator.cmd_move.set_start(position=p, timeout=5.)\n",
    "    await asyncio.sleep(20.)\n",
    "    print(f\" Done.\")"
>>>>>>> Stashed changes
   ]
  },
  {
   "cell_type": "code",
   "execution_count": null,
<<<<<<< Updated upstream
   "id": "8dc2b3bc-d9bb-4a8a-b80d-89217109b2e7",
   "metadata": {},
   "outputs": [],
   "source": []
=======
   "id": "49a0cf94-c148-461d-a5a2-a82392867ed4",
   "metadata": {
    "tags": []
   },
   "outputs": [],
   "source": [
    "now = datetime.now()\n",
    "script.log.info(f\"END -- {test_message} -- End Time: {now} UTC\")"
   ]
>>>>>>> Stashed changes
  }
 ],
 "metadata": {
  "kernelspec": {
   "display_name": "LSST",
   "language": "python",
   "name": "lsst"
  },
  "language_info": {
   "codemirror_mode": {
    "name": "ipython",
    "version": 3
   },
   "file_extension": ".py",
   "mimetype": "text/x-python",
   "name": "python",
   "nbconvert_exporter": "python",
   "pygments_lexer": "ipython3",
   "version": "3.8.12"
  }
 },
 "nbformat": 4,
 "nbformat_minor": 5
}
