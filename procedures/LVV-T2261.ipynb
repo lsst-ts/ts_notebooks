{
 "cells": [
  {
   "cell_type": "markdown",
   "id": "57810e69-aae0-4056-8bf9-e2746384b9bf",
   "metadata": {},
   "source": [
    "# [LVV-T2261](https://jira.lsstcorp.org/secure/Tests.jspa#/testCase/LVV-T2261)\n",
    "**Update Me**\n",
    "\n",
    "Created by Bruno Quint, updated by Holger Drass\n",
    "\n",
    "This notebook is to determine the rotator torques at different rotator angles with the camera hexapod at extreme positions of its space envelope.\n",
    "\n",
    "This notebook is considered to be used once the refrigitation lines are not pressurezied and each time a paar of lines get pressurized. \n",
    "\n",
    "Use the \"setup\" notebook to control the state machine of the components.\n",
    "\n",
    "Make 30 degree steps to allow the rotator to arrive to full speed = full torque value \n",
    "\n",
    "The analysis is done in a separate notebook."
   ]
  },
  {
   "cell_type": "markdown",
   "id": "842bc2ae-70dd-41db-9c10-5a5c66a4907f",
   "metadata": {},
   "source": [
    "## Start Up"
   ]
  },
  {
   "cell_type": "code",
   "execution_count": null,
   "id": "10a95567-8f3b-4420-b8cc-bf055186a6bf",
   "metadata": {
    "tags": []
   },
   "outputs": [],
   "source": [
    "%load_ext autoreload\n",
    "%autoreload 2"
   ]
  },
  {
   "cell_type": "code",
   "execution_count": null,
   "id": "f8dbe0b2-941f-437d-9eb8-c6e3e481cb1a",
   "metadata": {
    "tags": []
   },
   "outputs": [],
   "source": [
    "import rubin_jupyter_utils.lab.notebook as nb\n",
    "nb.utils.get_node()"
   ]
  },
  {
   "cell_type": "code",
   "execution_count": null,
   "id": "3cc711bc-6c9c-4799-9451-ea0f31a5a5d3",
   "metadata": {
    "tags": []
   },
   "outputs": [],
   "source": [
    "%matplotlib inline\n",
    "import os\n",
    "import sys\n",
    "import asyncio\n",
    "import logging\n",
    "\n",
    "import numpy as np\n",
    "import matplotlib.dates as mdates\n",
    "import matplotlib.pyplot as plt\n",
    "import matplotlib.ticker as mticker\n",
    "\n",
    "import os\n",
    "import pandas as pd\n",
    "\n",
    "from astropy.time import Time\n",
    "from scipy.signal import argrelextrema\n",
    "\n",
    "from lsst.ts import salobj\n",
    "from lsst.ts.observatory.control.maintel.mtcs import MTCS\n",
    "\n",
    "from datetime import datetime, timedelta"
   ]
  },
  {
   "cell_type": "code",
   "execution_count": null,
   "id": "88cb4832-fe40-4af7-883d-2a91aa7e10c1",
   "metadata": {
    "tags": []
   },
   "outputs": [],
   "source": [
    "summit = 1 #use this for summit testing\n",
    "# summit = 0 #use this for NCSA"
   ]
  },
  {
   "cell_type": "markdown",
   "id": "9f16d905-71fd-4d11-a620-f1924db2436e",
   "metadata": {},
   "source": [
    "## Check environment setup\n",
    "\n",
    "The following cell will print some of the basic DDS configutions."
   ]
  },
  {
   "cell_type": "code",
   "execution_count": null,
   "id": "a14fa4b8-ca9a-40e9-b0c0-49fdaab801ee",
   "metadata": {
    "tags": []
   },
   "outputs": [],
   "source": [
    "print(os.environ[\"OSPL_URI\"])\n",
    "print(os.environ[\"LSST_DDS_PARTITION_PREFIX\"])\n",
    "print(os.environ.get(\"LSST_DDS_DOMAIN_ID\", \"Expected, not set.\"))"
   ]
  },
  {
   "cell_type": "markdown",
   "id": "dac439b2-55b3-41e7-9dd3-cd8dc0019f64",
   "metadata": {},
   "source": [
    "### Setup logging\n",
    "\n",
    "Setup logging in debug mode and create a logger to use on the notebook."
   ]
  },
  {
   "cell_type": "code",
   "execution_count": null,
   "id": "a9038212-14d8-434a-9e65-7392de70059c",
   "metadata": {
    "tags": []
   },
   "outputs": [],
   "source": [
    "logging.basicConfig(format=\"%(name)s:%(message)s\", level=logging.DEBUG)"
   ]
  },
  {
   "cell_type": "code",
   "execution_count": null,
   "id": "0e2cacec-1f33-4edc-bf70-79d605067af5",
   "metadata": {
    "tags": []
   },
   "outputs": [],
   "source": [
    "log = logging.getLogger(\"setup\")\n",
    "log.level = logging.DEBUG"
   ]
  },
  {
   "cell_type": "markdown",
   "id": "f27a28f5-5289-4ca0-8479-5d02ca7873ff",
   "metadata": {},
   "source": [
    "### Starting communication resources\n",
    "\n",
    "We start by creating a domain and later instantiate the MTCS class.\n",
    "We will use the class to startup the components. "
   ]
  },
  {
   "cell_type": "code",
   "execution_count": null,
   "id": "4642a751-526f-4e09-aef5-0a330430c42a",
   "metadata": {
    "tags": []
   },
   "outputs": [],
   "source": [
    "domain = salobj.Domain()"
   ]
  },
  {
   "cell_type": "code",
   "execution_count": null,
   "id": "a95949f1-3841-4cb0-96f8-4e3a5552db0e",
   "metadata": {
    "tags": []
   },
   "outputs": [],
   "source": [
    "mtcs = MTCS(domain=domain, log=log)\n",
    "mtcs.set_rem_loglevel(40)"
   ]
  },
  {
   "cell_type": "code",
   "execution_count": null,
   "id": "10784d8d-823e-42a7-b5c1-5d8a77f0e622",
   "metadata": {
    "tags": []
   },
   "outputs": [],
   "source": [
    "await mtcs.start_task"
   ]
  },
  {
   "cell_type": "code",
   "execution_count": null,
   "id": "23131f82-65ac-4272-91c6-066c9f28bccd",
   "metadata": {
    "tags": []
   },
   "outputs": [],
   "source": [
    "script = salobj.Controller(\"Script\", index=42658886)\n",
    "await asyncio.sleep(10) #wait 10 second may help with DDS problems; closing all other kernels may help too"
   ]
  },
  {
   "cell_type": "code",
   "execution_count": null,
   "id": "44d30b4f-0787-440d-a0ba-f86588c4432b",
   "metadata": {
    "tags": []
   },
   "outputs": [],
   "source": [
    "await script.start_task"
   ]
  },
  {
   "cell_type": "markdown",
   "id": "ed69993d-416a-4cb5-a237-d00d530d5314",
   "metadata": {},
   "source": [
    "# Test start"
   ]
  },
  {
   "cell_type": "markdown",
   "id": "70b17262-12f1-42a8-9097-f86289cfd9ef",
   "metadata": {},
   "source": [
    "## Iteration 1: Move the hexapod to (X=0, Y=0, Z=0, U=0, V=0, W=0)"
   ]
  },
  {
   "cell_type": "code",
   "execution_count": null,
   "id": "7a3192d0-cadb-4ad4-a250-5521caf461d6",
   "metadata": {
    "tags": []
   },
   "outputs": [],
   "source": [
    "now = datetime.now()\n",
    "test_message = \"LVV-2261: Hexapod at 0 - Pathfinder Lines Not Pressurized\"\n",
    "script.log.info(f\"START -- {test_message} -- Starting Time: {now} UTC\")\n",
    "await mtcs.rem.mthexapod_1.cmd_move.set_start(x=0, y=0, z=0, u=0, v=0, w=0, sync=True)\n",
    "print(f\" Done.\")"
   ]
  },
  {
   "cell_type": "code",
   "execution_count": null,
   "id": "3ecbdc27-4d1e-4ab4-a063-136f8a1a71ee",
   "metadata": {
    "tags": []
   },
   "outputs": [],
   "source": [
    "for p in [0, 30, 60, 90, 60, 30, 0, -30, -60, -90, -60, 0]:\n",
    "    print(f\" {datetime.now()} - Moving to {p}\")\n",
    "    await mtcs.rem.mtrotator.cmd_move.set_start(position=p, timeout=5.)\n",
    "    await asyncio.sleep(20.)\n",
    "    print(f\" Done.\")"
   ]
  },
  {
   "cell_type": "code",
   "execution_count": null,
   "id": "c61b4550-afe9-45ce-8974-342bfc46416b",
   "metadata": {},
   "outputs": [],
   "source": [
    "now = datetime.now()\n",
    "script.log.info(f\"END -- {test_message} -- End Time: {now} UTC\")"
   ]
  },
  {
   "cell_type": "markdown",
   "id": "15b74e61-bad1-4557-be28-bc36bed17e25",
   "metadata": {},
   "source": [
    "## Iteration 2: Move the hexapod to (X=0, Y=0, Z=0, U=-0.36 deg, V=0, W=0)"
   ]
  },
  {
   "cell_type": "code",
   "execution_count": null,
   "id": "98969a84-56d4-4308-858d-a0f2f72eff20",
   "metadata": {
    "tags": []
   },
   "outputs": [],
   "source": [
    "test_message = \"LVV-2261: Hexapod u=-0.36deg - Pathfinder Lines Not Pressurized\"\n",
    "\n",
    "now = datetime.now()\n",
    "script.log.info(f\"START -- {test_message} -- Starting Time: {now} UTC\")\n",
    "#Moving the hexapod in smaller steps here at the beginning of the test to make sure no cooling line gets damaged.\n",
    "for _u in [-0.08, -0.16, -0.32, -0.36]:\n",
    "    print(f\" {datetime.now()} - Moving Hexapod to u={_u}\")\n",
    "    await mtcs.rem.mthexapod_1.cmd_move.set_start(x=0, y=0, z=0, u=_u, v=0, w=0, sync=True)\n",
    "    await asyncio.sleep(15.)  # Just so if we need to press the e-stops\n",
    "    print(f\" Done.\")"
   ]
  },
  {
   "cell_type": "code",
   "execution_count": null,
   "id": "1354740a-4b2a-499a-8809-d0d2064f1bd3",
   "metadata": {
    "tags": []
   },
   "outputs": [],
   "source": [
    "for p in [30, 60, 90, 60, 30, 0, -30, -60, -90, -60, 0]:\n",
    "    print(f\" {datetime.now()} - Moving to {p}\")\n",
    "    await mtcs.rem.mtrotator.cmd_move.set_start(position=p, timeout=5.)\n",
    "    await asyncio.sleep(20.)\n",
    "    print(f\" Done.\")"
   ]
  },
  {
   "cell_type": "code",
   "execution_count": null,
   "id": "bba24a9f-20e5-44b5-8864-4b90bf949250",
   "metadata": {
    "tags": []
   },
   "outputs": [],
   "source": [
    "now = datetime.now()\n",
    "script.log.info(f\"END -- {test_message} -- End Time: {now} UTC\")"
   ]
  },
  {
   "cell_type": "markdown",
   "id": "26e9d4db-457c-4560-b43b-0cc78c7ad670",
   "metadata": {},
   "source": [
    "## Iteration 3: u=-0.253 v=-0.253"
   ]
  },
  {
   "cell_type": "code",
   "execution_count": null,
   "id": "53f63b32-9096-4624-9737-b69493d7b972",
   "metadata": {
    "tags": []
   },
   "outputs": [],
   "source": [
    "test_message = \"LVV-2261: Hexapod u=-0.253deg v=-0.253deg (total 0.36) - Pathfinder Lines Not Pressurized\"\n",
    "\n",
    "now = datetime.now()\n",
    "script.log.info(f\"START -- {test_message} -- Starting Time: {now} UTC\")\n",
    "await mtcs.rem.mthexapod_1.cmd_move.set_start(x=0, y=0, z=0, u=-0.253, v=-0.253, w=0, sync=True)\n",
    "await asyncio.sleep(15.)  # Just so if we need to press the e-stops\n",
    "print(f\" Done.\")"
   ]
  },
  {
   "cell_type": "code",
   "execution_count": null,
   "id": "2b09f760-753c-491d-96fb-d9d75347955f",
   "metadata": {
    "tags": []
   },
   "outputs": [],
   "source": [
    "for p in [30, 60, 90, 60, 30, 0, -30, -60, -90, -60, 0]:\n",
    "    print(f\" {datetime.now()} - Moving to {p}\")\n",
    "    await mtcs.rem.mtrotator.cmd_move.set_start(position=p, timeout=5.)\n",
    "    await asyncio.sleep(20.)\n",
    "    print(f\" Done.\")"
   ]
  },
  {
   "cell_type": "code",
   "execution_count": null,
   "id": "5e73465d-335a-4d3f-b795-de7513ee20d7",
   "metadata": {
    "tags": []
   },
   "outputs": [],
   "source": [
    "now = datetime.now()\n",
    "script.log.info(f\"END -- {test_message} -- End Time: {now} UTC\")"
   ]
  },
  {
   "cell_type": "markdown",
   "id": "49d4fff2-be09-4e7e-b75a-02155cbe3aee",
   "metadata": {},
   "source": [
    "## Iteration 4: u=0.36 v=0.00"
   ]
  },
  {
   "cell_type": "code",
   "execution_count": null,
   "id": "55ee52e1-f222-482c-b526-d4fa97b1ed91",
   "metadata": {},
   "outputs": [],
   "source": [
    "test_message = \"LVV-2261: Hexapod u=+0.36deg v=0.00deg - Pathfinder Lines Not Pressurized\"\n",
    "\n",
    "now = datetime.now()\n",
    "script.log.info(f\"START -- {test_message} -- Starting Time: {now} UTC\")\n",
    "\n",
    "for _v in [-0.25, -0.14, 0.00]:\n",
    "    print(f\" {datetime.now()} - Moving Hexapod to v={_v}\")\n",
    "    await mtcs.rem.mthexapod_1.cmd_move.set_start(x=0, y=0, z=0, u=-0.25, v=_v, w=0, sync=True)\n",
    "    await asyncio.sleep(15.)  # Just so if we need to press the e-stops\n",
    "    print(f\" Done.\")\n",
    "    \n",
    "for _u in [-0.25, -0.14, 0.00, 0.08, 0.16, 0.32, 0.36]:\n",
    "    print(f\" {datetime.now()} - Moving Hexapod to u={_u}\")\n",
    "    await mtcs.rem.mthexapod_1.cmd_move.set_start(x=0, y=0, z=0, u=_u, v=0, w=0, sync=True)\n",
    "    await asyncio.sleep(15.)  # Just so if we need to press the e-stops\n",
    "    print(f\" Done.\")"
   ]
  },
  {
   "cell_type": "code",
   "execution_count": null,
   "id": "be785714-6442-427f-b0a8-87668f426046",
   "metadata": {
    "tags": []
   },
   "outputs": [],
   "source": [
    "for p in [30, 60, 90, 60, 30, 0, -30, -60, -90, -60, 0]:\n",
    "    print(f\" {datetime.now()} - Moving to {p}\")\n",
    "    await mtcs.rem.mtrotator.cmd_move.set_start(position=p, timeout=5.)\n",
    "    await asyncio.sleep(20.)\n",
    "    print(f\" Done.\")"
   ]
  },
  {
   "cell_type": "code",
   "execution_count": null,
   "id": "99d87cdf-9582-4507-8348-d8681ad74366",
   "metadata": {
    "tags": []
   },
   "outputs": [],
   "source": [
    "now = datetime.now()\n",
    "script.log.info(f\"END -- {test_message} -- End Time: {now} UTC\")"
   ]
  },
  {
   "cell_type": "markdown",
   "id": "cedce44f-d908-480e-b6a6-3e900e6e25cf",
   "metadata": {},
   "source": [
    "## Iteration 5: u=-0.253deg v=+0.253deg"
   ]
  },
  {
   "cell_type": "code",
   "execution_count": null,
   "id": "c6be9144-a62a-4367-a091-60838baaa473",
   "metadata": {
    "tags": []
   },
   "outputs": [],
   "source": [
    "test_message = \"LVV-2261: Hexapod u=-0.253deg v=+0.253deg (total 0.36) - Pathfinder Lines Not Pressurized\"\n",
    "\n",
    "now = datetime.now()\n",
    "script.log.info(f\"START -- {test_message} -- Starting Time: {now} UTC\")\n",
    "\n",
    "for _u in [0.36, 0.253, 0.12, 0, -0.12, -0.253]:\n",
    "    print(f\" {datetime.now()} - Moving Hexapod to u={_u}\")\n",
    "    await mtcs.rem.mthexapod_1.cmd_move.set_start(x=0, y=0, z=0, u=_u, v=0, w=0, sync=True)\n",
    "    await asyncio.sleep(15.)  # Just so if we need to press the e-stops\n",
    "    print(f\" Done.\")\n",
    "    \n",
    "for _v in [0.12, 0.253]:\n",
    "    print(f\" {datetime.now()} - Moving Hexapod to v={_v}\")\n",
    "    await mtcs.rem.mthexapod_1.cmd_move.set_start(x=0, y=0, z=0, u=-0.253, v=_v, w=0, sync=True)\n",
    "    await asyncio.sleep(15.)  # Just so if we need to press the e-stops\n",
    "    print(f\" Done.\")"
   ]
  },
  {
   "cell_type": "code",
   "execution_count": null,
   "id": "db186381-3b2f-4861-a0d1-4c9a71395068",
   "metadata": {
    "tags": []
   },
   "outputs": [],
   "source": [
    "for p in [30, 60, 90, 60, 30, 0, -30, -60, -90, -60, 0]:\n",
    "    print(f\" {datetime.now()} - Moving to {p}\")\n",
    "    await mtcs.rem.mtrotator.cmd_move.set_start(position=p, timeout=5.)\n",
    "    await asyncio.sleep(20.)\n",
    "    print(f\" Done.\")"
   ]
  },
  {
   "cell_type": "code",
   "execution_count": null,
   "id": "a78d9791-3899-43a5-a813-26c93ed732d9",
   "metadata": {
    "tags": []
   },
   "outputs": [],
   "source": [
    "now = datetime.now()\n",
    "script.log.info(f\"END -- {test_message} -- End Time: {now} UTC\")"
   ]
  },
  {
   "cell_type": "markdown",
   "id": "b84bc66a-6d5c-45bd-aac1-41ac4bce2586",
   "metadata": {},
   "source": [
    "## Iteration 6: Move the hexapod to (X=0, Y=0, Z=0, U=+0.253deg, V=+0.253deg, W=0)"
   ]
  },
  {
   "cell_type": "code",
   "execution_count": null,
   "id": "2f77e895-8c9d-425e-85df-6cdaa6c841b9",
   "metadata": {},
   "outputs": [],
   "source": [
    "test_message = \"LVV-2261: Hexapod x=0, Y=0, Z=0,U=+0.253deg, V=+0.253deg, W=0  - Pathfinder Lines Not Pressurized\"\n",
    "\n",
    "now = datetime.now()\n",
    "script.log.info(f\"START -- {test_message} -- Starting Time: {now} UTC\")\n",
    "print(f\" {datetime.now()} - Moving Hexapod to  x=0, Y=0, Z=0, U=+0.253deg, V=+0.253deg, W=0\")\n",
    "await mtcs.rem.mthexapod_1.cmd_move.set_start(x=0, y=0, z=0, u=+0.253, v=+0.253, w=0, sync=True)\n",
    "print(f\" Done.\")"
   ]
  },
  {
   "cell_type": "code",
   "execution_count": null,
   "id": "409168ea-0053-4c9f-8edc-1ab7a2f27bae",
   "metadata": {
    "tags": []
   },
   "outputs": [],
   "source": [
    "for p in [30, 60, 90, 60, 30, 0, -30, -60, -90, -60, 0]:\n",
    "    print(f\" {datetime.now()} - Moving to {p}\")\n",
    "    await mtcs.rem.mtrotator.cmd_move.set_start(position=p, timeout=5.)\n",
    "    await asyncio.sleep(20.)\n",
    "    print(f\" Done.\")"
   ]
  },
  {
   "cell_type": "code",
   "execution_count": null,
   "id": "ef6db8a7-44f4-47ec-9306-1b56896a678f",
   "metadata": {
    "tags": []
   },
   "outputs": [],
   "source": [
    "now = datetime.now()\n",
    "script.log.info(f\"END -- {test_message} -- End Time: {now} UTC\")"
   ]
  },
  {
   "cell_type": "markdown",
   "id": "d72778ac-cb89-4fa4-8714-e093d8f202b7",
   "metadata": {},
   "source": [
    "## Iteration 7: Move the hexapod to (X=0, Y=0, Z=0, U=+0.253deg, V=-0.253deg, W=0)"
   ]
  },
  {
   "cell_type": "code",
   "execution_count": null,
   "id": "9d6f62ba-e4b4-45e2-a9db-ca29d06e51b1",
   "metadata": {},
   "outputs": [],
   "source": [
    "test_message = \"LVV-2261: Hexapod x=0, Y=0, Z=0,U=+0.253deg, V=-0.253deg, W=0  - Pathfinder Lines Not Pressurized\"\n",
    "\n",
    "now = datetime.now()\n",
    "script.log.info(f\"START -- {test_message} -- Starting Time: {now} UTC\")\n",
    "print(f\" {datetime.now()} - Moving Hexapod to  x=0, Y=0, Z=0, U=+0.253deg, V=-0.253deg, W=0\")\n",
    "await mtcs.rem.mthexapod_1.cmd_move.set_start(x=0, y=0, z=0, u=+0.253, v=-0.253, w=0, sync=True)\n",
    "print(f\" Done.\")"
   ]
  },
  {
   "cell_type": "code",
   "execution_count": null,
   "id": "59d02900-e731-480c-a493-e02c6f429490",
   "metadata": {
    "tags": []
   },
   "outputs": [],
   "source": [
    "for p in [30, 60, 90, 60, 30, 0, -30, -60, -90, -60, 0]:\n",
    "    print(f\" {datetime.now()} - Moving to {p}\")\n",
    "    await mtcs.rem.mtrotator.cmd_move.set_start(position=p, timeout=5.)\n",
    "    await asyncio.sleep(20.)\n",
    "    print(f\" Done.\")"
   ]
  },
  {
   "cell_type": "code",
   "execution_count": null,
   "id": "cb642146-843a-4ac6-8aeb-f5d743d4a482",
   "metadata": {
    "tags": []
   },
   "outputs": [],
   "source": [
    "now = datetime.now()\n",
    "script.log.info(f\"END -- {test_message} -- End Time: {now} UTC\")"
   ]
  },
  {
   "cell_type": "markdown",
   "id": "92465d98-1efe-467a-ae5e-cc41e63e2240",
   "metadata": {
    "tags": []
   },
   "source": [
    "## Iteration 8: Move the hexapod to (X=0, Y=0, Z=0, U=0deg, V=0.36deg, W=0)"
   ]
  },
  {
   "cell_type": "code",
   "execution_count": null,
   "id": "7a10bef5-cc2a-4a1d-8b4f-df402f857d68",
   "metadata": {},
   "outputs": [],
   "source": [
    "test_message = \"LVV-2261: Hexapod x=0, Y=0, Z=0,U=0, V=+0.36deg, W=0  - Pathfinder Lines Not Pressurized\"\n",
    "\n",
    "now = datetime.now()\n",
    "script.log.info(f\"START -- {test_message} -- Starting Time: {now} UTC\")\n",
    "print(f\" {datetime.now()} - Moving Hexapod to  x=0, Y=0, Z=0, U=0, V=0.36deg, W=0\")\n",
    "await mtcs.rem.mthexapod_1.cmd_move.set_start(x=0, y=0, z=0, u=0, v=0.36, w=0, sync=True)\n",
    "print(f\" Done.\")"
   ]
  },
  {
   "cell_type": "code",
   "execution_count": null,
   "id": "e9e469dd-db9b-447e-84bf-f656074f1b72",
   "metadata": {
    "tags": []
   },
   "outputs": [],
   "source": [
    "for p in [30, 60, 90, 60, 30, 0, -30, -60, -90, -60, 0]:\n",
    "    print(f\" {datetime.now()} - Moving to {p}\")\n",
    "    await mtcs.rem.mtrotator.cmd_move.set_start(position=p, timeout=5.)\n",
    "    await asyncio.sleep(20.)\n",
    "    print(f\" Done.\")"
   ]
  },
  {
   "cell_type": "code",
   "execution_count": null,
   "id": "1872c5c0-cbb8-4d81-9b98-e74628d0783a",
   "metadata": {
    "tags": []
   },
   "outputs": [],
   "source": [
    "now = datetime.now()\n",
    "script.log.info(f\"END -- {test_message} -- End Time: {now} UTC\")"
   ]
  },
  {
   "cell_type": "markdown",
   "id": "cde09769-27fd-4725-9d59-77f779ba9bb6",
   "metadata": {},
   "source": [
    "## Iteration 9: u=0.0deg v=-0.36deg "
   ]
  },
  {
   "cell_type": "code",
   "execution_count": null,
   "id": "44f17539-5e0e-4494-bdf7-96000fafd0ad",
   "metadata": {
    "tags": []
   },
   "outputs": [],
   "source": [
    "test_message = \"LVV-2261: Hexapod u=+0deg v=-0.36deg (total 0.36) - Pathfinder Lines Not Pressurized\"\n",
    "\n",
    "now = datetime.now()\n",
    "script.log.info(f\"START -- {test_message} -- Starting Time: {now} UTC\")\n",
    "print(f\" {datetime.now()} - Moving Hexapod to u=+0deg v=-0.36deg\")\n",
    "await mtcs.rem.mthexapod_1.cmd_move.set_start(x=0, y=0, z=0, u=0, v=0.36, w=0, sync=True)\n",
    "print(f\" Done.\")"
   ]
  },
  {
   "cell_type": "code",
   "execution_count": null,
   "id": "1f8fda97-f2d9-4bd9-afb5-24ecddc81a23",
   "metadata": {
    "tags": []
   },
   "outputs": [],
   "source": [
    "for p in [30, 60, 90, 60, 30, 0, -30, -60, -90, -60, 0]:\n",
    "    print(f\" {datetime.now()} - Moving to {p}\")\n",
    "    await mtcs.rem.mtrotator.cmd_move.set_start(position=p, timeout=5.)\n",
    "    await asyncio.sleep(20.)\n",
    "    print(f\" Done.\")"
   ]
  },
  {
   "cell_type": "code",
   "execution_count": null,
   "id": "f6db57ee-7b93-4390-935a-4baaeac14b1b",
   "metadata": {
    "tags": []
   },
   "outputs": [],
   "source": [
    "now = datetime.now()\n",
    "script.log.info(f\"END -- {test_message} -- End Time: {now} UTC\")"
   ]
  },
  {
   "cell_type": "markdown",
   "id": "07960949-3534-43c5-870b-78471f20d599",
   "metadata": {},
   "source": [
    "## Iteration 10: x=-11400, Y=0, Z=-10000"
   ]
  },
  {
   "cell_type": "code",
   "execution_count": null,
   "id": "d679bb4a-a5cd-4260-8fac-61c83280ff0f",
   "metadata": {
    "tags": []
   },
   "outputs": [],
   "source": [
    "test_message = \"LVV-2261: Hexapod x=-11400, Y=0, Z=-10000 - Pathfinder Lines Not Pressurized\"\n",
    "\n",
    "now = datetime.now()\n",
    "script.log.info(f\"START -- {test_message} -- Starting Time: {now} UTC\")\n",
    "\n",
    "print(f\" {datetime.now()} - Moving Hexapod to x=-11400, Y=0, Z=-10000\")\n",
    "await mtcs.rem.mthexapod_1.cmd_move.set_start(x=-11400, y=0, z=-10000, u=0, v=0, w=0, sync=True)\n",
    "print(f\" Done.\")"
   ]
  },
  {
   "cell_type": "code",
   "execution_count": null,
   "id": "f9cf8d80-f3fa-4327-ade2-f323c07f3625",
   "metadata": {
    "tags": []
   },
   "outputs": [],
   "source": [
    "for p in [30, 60, 90, 60, 30, 0, -30, -60, -90, -60, 0]:\n",
    "    print(f\" {datetime.now()} - Moving to {p}\")\n",
    "    await mtcs.rem.mtrotator.cmd_move.set_start(position=p, timeout=5.)\n",
    "    await asyncio.sleep(20.)\n",
    "    print(f\" Done.\")"
   ]
  },
  {
   "cell_type": "code",
   "execution_count": null,
   "id": "a2e27d3a-6b0a-4346-842c-2463661f7791",
   "metadata": {
    "tags": []
   },
   "outputs": [],
   "source": [
    "now = datetime.now()\n",
    "script.log.info(f\"END -- {test_message} -- End Time: {now} UTC\")"
   ]
  },
  {
   "cell_type": "markdown",
   "id": "813a9d17-8aa5-4edc-a2bf-71dcba0b3677",
   "metadata": {
    "tags": []
   },
   "source": [
    "## Iteration 11 = Move the hexapod to (X=11400, Y=0, Z=-10000, U=0, V=0, W=0)"
   ]
  },
  {
   "cell_type": "code",
   "execution_count": null,
   "id": "bf50d415-84fc-49ee-8fbb-90997281c639",
   "metadata": {},
   "outputs": [],
   "source": [
    "test_message = \"LVV-2261: Hexapod X=11400, Y=0, Z=-10000, U=0, V=0, W=0  - Pathfinder Lines Not Pressurized\"\n",
    "\n",
    "now = datetime.now()\n",
    "script.log.info(f\"START -- {test_message} -- Starting Time: {now} UTC\")\n",
    "print(f\" {datetime.now()} - Moving Hexapod to  X=11400, Y=0, Z=-10000, U=0, V=0, W=0\")\n",
    "await mtcs.rem.mthexapod_1.cmd_move.set_start(x=11400, y=0, z=-10000, u=0, v=0, w=0, sync=True)\n",
    "print(f\" Done.\")"
   ]
  },
  {
   "cell_type": "code",
   "execution_count": null,
   "id": "4254e158-25a7-4146-83d7-47b40f59b35e",
   "metadata": {
    "tags": []
   },
   "outputs": [],
   "source": [
    "for p in [30, 60, 90, 60, 30, 0, -30, -60, -90, -60, 0]:\n",
    "    print(f\" {datetime.now()} - Moving to {p}\")\n",
    "    await mtcs.rem.mtrotator.cmd_move.set_start(position=p, timeout=5.)\n",
    "    await asyncio.sleep(20.)\n",
    "    print(f\" Done.\")"
   ]
  },
  {
   "cell_type": "code",
   "execution_count": null,
   "id": "325664c9-15f5-47f9-b47c-38a077a8b9ff",
   "metadata": {
    "tags": []
   },
   "outputs": [],
   "source": [
    "now = datetime.now()\n",
    "script.log.info(f\"END -- {test_message} -- End Time: {now} UTC\")"
   ]
  },
  {
   "cell_type": "markdown",
   "id": "c962a053-d746-4846-98ad-0418cdc13da3",
   "metadata": {
    "tags": []
   },
   "source": [
    "## Iteration 12: Move the hexapod to (X=6700, Y=6700, Z=-10000, U=0, V=0, W=0)"
   ]
  },
  {
   "cell_type": "code",
   "execution_count": null,
   "id": "f9d9da1a-7396-48e8-86b5-9a297e8268b9",
   "metadata": {
    "tags": []
   },
   "outputs": [],
   "source": [
    "test_message = \"LVV-2261: Hexapod X=6700, Y=6700, Z=-10000, U=0, V=0, W=0  - Pathfinder Lines Not Pressurized\"\n",
    "\n",
    "now = datetime.now()\n",
    "script.log.info(f\"START -- {test_message} -- Starting Time: {now} UTC\")\n",
    "print(f\" {datetime.now()} - Moving Hexapod to  X=6700, Y=6700, Z=-10000, U=0, V=0, W=0\")\n",
    "await mtcs.rem.mthexapod_1.cmd_move.set_start(x=6700, y=6700, z=-10000, u=0, v=0, w=0, sync=True)\n",
    "print(f\" Done.\")"
   ]
  },
  {
   "cell_type": "code",
   "execution_count": null,
   "id": "f8448ee9-010c-4053-bedb-7422d9832f73",
   "metadata": {
    "tags": []
   },
   "outputs": [],
   "source": [
    "for p in [30, 60, 90, 60, 30, 0, -30, -60, -90, -60, 0]:\n",
    "    print(f\" {datetime.now()} - Moving to {p}\")\n",
    "    await mtcs.rem.mtrotator.cmd_move.set_start(position=p, timeout=5.)\n",
    "    await asyncio.sleep(20.)\n",
    "    print(f\" Done.\")"
   ]
  },
  {
   "cell_type": "code",
   "execution_count": null,
   "id": "159fdb9c-7e81-4d7b-943b-ea50e2b11711",
   "metadata": {
    "tags": []
   },
   "outputs": [],
   "source": [
    "now = datetime.now()\n",
    "script.log.info(f\"END -- {test_message} -- End Time: {now} UTC\")"
   ]
  },
  {
   "cell_type": "markdown",
   "id": "1e69fe7c-f052-431e-a0b1-9fb9e1ebcd77",
   "metadata": {
    "tags": []
   },
   "source": [
    "## Iteration 13: Move the hexapod to (X=6700, Y=-6700, Z=-10000, U=0, V=0, W=0"
   ]
  },
  {
   "cell_type": "code",
   "execution_count": null,
   "id": "a34e50a7-d7ff-4401-af93-d149d10e9dd4",
   "metadata": {},
   "outputs": [],
   "source": [
    "test_message = \"LVV-2261: Hexapod X=6700, Y=-6700, Z=-10000, U=0, V=0, W=0  - Pathfinder Lines Not Pressurized\"\n",
    "\n",
    "now = datetime.now()\n",
    "script.log.info(f\"START -- {test_message} -- Starting Time: {now} UTC\")\n",
    "print(f\" {datetime.now()} - Moving Hexapod to  X=6700, Y=-6700, Z=-10000, U=0, V=0, W=0\")\n",
    "await mtcs.rem.mthexapod_1.cmd_move.set_start(x=6700, y=-6700, z=-10000, u=0, v=0, w=0, sync=True)\n",
    "print(f\" Done.\")"
   ]
  },
  {
   "cell_type": "code",
   "execution_count": null,
   "id": "a003fb17-6988-4bec-8668-4ad58d38891c",
   "metadata": {
    "tags": []
   },
   "outputs": [],
   "source": [
    "for p in [30, 60, 90, 60, 30, 0, -30, -60, -90, -60, 0]:\n",
    "    print(f\" {datetime.now()} - Moving to {p}\")\n",
    "    await mtcs.rem.mtrotator.cmd_move.set_start(position=p, timeout=5.)\n",
    "    await asyncio.sleep(20.)\n",
    "    print(f\" Done.\")"
   ]
  },
  {
   "cell_type": "code",
   "execution_count": null,
   "id": "a814ef19-14e4-4417-8261-745157d20139",
   "metadata": {
    "tags": []
   },
   "outputs": [],
   "source": [
    "now = datetime.now()\n",
    "script.log.info(f\"END -- {test_message} -- End Time: {now} UTC\")"
   ]
  },
  {
   "cell_type": "markdown",
   "id": "07306d33-1a03-4f1e-a109-77f978e02bce",
   "metadata": {
    "tags": []
   },
   "source": [
    "## Iteration 14: Move the hexapod to (X=-6700, Y=-6700, Z=-10000, U=0, V=0, W=0)"
   ]
  },
  {
   "cell_type": "code",
   "execution_count": null,
   "id": "d73a5bbb-ab05-4a55-b053-f987fce18890",
   "metadata": {},
   "outputs": [],
   "source": [
    "test_message = \"LVV-2261: Hexapod X=-6700, Y=-6700, Z=-10000, U=0, V=0, W=0  - Pathfinder Lines Not Pressurized\"\n",
    "\n",
    "now = datetime.now()\n",
    "script.log.info(f\"START -- {test_message} -- Starting Time: {now} UTC\")\n",
    "print(f\" {datetime.now()} - Moving Hexapod to  X=-6700, Y=-6700, Z=-10000, U=0, V=0, W=0\")\n",
    "await mtcs.rem.mthexapod_1.cmd_move.set_start(x=-6700, y=-6700, z=-10000, u=0, v=0, w=0, sync=True)\n",
    "print(f\" Done.\")"
   ]
  },
  {
   "cell_type": "code",
   "execution_count": null,
   "id": "24331332-5433-411b-baf9-4a1c210ebb56",
   "metadata": {
    "tags": []
   },
   "outputs": [],
   "source": [
    "for p in [30, 60, 90, 60, 30, 0, -30, -60, -90, -60, 0]:\n",
    "    print(f\" {datetime.now()} - Moving to {p}\")\n",
    "    await mtcs.rem.mtrotator.cmd_move.set_start(position=p, timeout=5.)\n",
    "    await asyncio.sleep(20.)\n",
    "    print(f\" Done.\")"
   ]
  },
  {
   "cell_type": "code",
   "execution_count": null,
   "id": "6193a126-9a8f-45ae-b467-a428a993e496",
   "metadata": {
    "tags": []
   },
   "outputs": [],
   "source": [
    "now = datetime.now()\n",
    "script.log.info(f\"END -- {test_message} -- End Time: {now} UTC\")"
   ]
  },
  {
   "cell_type": "markdown",
   "id": "06315dd8-d29d-441c-972c-3ce412d6bb69",
   "metadata": {
    "tags": []
   },
   "source": [
    "## Iteration 16: Move the hexapod to (X=0, Y=-11400, Z=-10000, U=0, V=0, W=0)"
   ]
  },
  {
   "cell_type": "code",
   "execution_count": null,
   "id": "c9a81403-0fc0-48aa-9779-fbf2844650b8",
   "metadata": {},
   "outputs": [],
   "source": [
    "test_message = \"LVV-2261: Hexapod X=0, Y=-10000, Z=-10000, U=0, V=0, W=0  - Pathfinder Lines Not Pressurized\"\n",
    "\n",
    "now = datetime.now()\n",
    "script.log.info(f\"START -- {test_message} -- Starting Time: {now} UTC\")\n",
    "print(f\" {datetime.now()} - Moving Hexapod to  X=0, Y=-10000, Z=-10000, U=0, V=0, W=0\")\n",
    "await mtcs.rem.mthexapod_1.cmd_move.set_start(x=0, y=-10000, z=-10000, u=0, v=0, w=0, sync=True)\n",
    "print(f\" Done.\")"
   ]
  },
  {
   "cell_type": "code",
   "execution_count": null,
   "id": "f9f2fec3-b58d-4d6f-9c28-b09080470041",
   "metadata": {
    "tags": []
   },
   "outputs": [],
   "source": [
    "for p in [30, 60, 90, 60, 30, 0, -30, -60, -90, -60, 0]:\n",
    "    print(f\" {datetime.now()} - Moving to {p}\")\n",
    "    await mtcs.rem.mtrotator.cmd_move.set_start(position=p, timeout=5.)\n",
    "    await asyncio.sleep(20.)\n",
    "    print(f\" Done.\")"
   ]
  },
  {
   "cell_type": "code",
   "execution_count": null,
   "id": "27091e67-e5fd-4eaa-b330-b3f19d023093",
   "metadata": {
    "tags": []
   },
   "outputs": [],
   "source": [
    "now = datetime.now()\n",
    "script.log.info(f\"END -- {test_message} -- End Time: {now} UTC\")"
   ]
  },
  {
   "cell_type": "markdown",
   "id": "96fbd043-6a37-438c-8c0e-e06106c94450",
   "metadata": {
    "tags": []
   },
   "source": [
    "## Iteration 17: Move the hexapod to (X=0, Y=11400, Z=-10000, U=0, V=0, W=0)"
   ]
  },
  {
   "cell_type": "code",
   "execution_count": null,
   "id": "8380a7e7-f463-47d8-940c-8d8788ba37a4",
   "metadata": {},
   "outputs": [],
   "source": [
    "test_message = \"LVV-2261: Hexapod X=0, Y=11400, Z=-10000, U=0, V=0, W=0  - Pathfinder Lines Not Pressurized\"\n",
    "\n",
    "now = datetime.now()\n",
    "script.log.info(f\"START -- {test_message} -- Starting Time: {now} UTC\")\n",
    "print(f\" {datetime.now()} - Moving Hexapod to  X=0, Y=11400, Z=-10000, U=0, V=0, W=0\")\n",
    "await mtcs.rem.mthexapod_1.cmd_move.set_start(x=0, y=11400, z=-10000, u=0, v=0, w=0, sync=True)\n",
    "print(f\" Done.\")"
   ]
  },
  {
   "cell_type": "code",
   "execution_count": null,
   "id": "7e49eb33-923c-4eba-b7d7-58237c0ef596",
   "metadata": {
    "tags": []
   },
   "outputs": [],
   "source": [
    "for p in [30, 60, 90, 60, 30, 0, -30, -60, -90, -60, 0]:\n",
    "    print(f\" {datetime.now()} - Moving to {p}\")\n",
    "    await mtcs.rem.mtrotator.cmd_move.set_start(position=p, timeout=5.)\n",
    "    await asyncio.sleep(20.)\n",
    "    print(f\" Done.\")"
   ]
  },
  {
   "cell_type": "code",
   "execution_count": null,
   "id": "49a0cf94-c148-461d-a5a2-a82392867ed4",
   "metadata": {
    "tags": []
   },
   "outputs": [],
   "source": [
    "now = datetime.now()\n",
    "script.log.info(f\"END -- {test_message} -- End Time: {now} UTC\")"
   ]
  }
 ],
 "metadata": {
  "kernelspec": {
   "display_name": "Python 3 (ipykernel)",
   "language": "python",
   "name": "python3"
  },
  "language_info": {
   "codemirror_mode": {
    "name": "ipython",
    "version": 3
   },
   "file_extension": ".py",
   "mimetype": "text/x-python",
   "name": "python",
   "nbconvert_exporter": "python",
   "pygments_lexer": "ipython3",
   "version": "3.9.7"
  }
 },
 "nbformat": 4,
 "nbformat_minor": 5
}
