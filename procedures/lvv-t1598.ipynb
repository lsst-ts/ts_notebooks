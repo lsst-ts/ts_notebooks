{
 "cells": [
  {
   "cell_type": "markdown",
   "metadata": {},
   "source": [
    "# Test Case LVV-T1598\n",
    "\n",
    "This test case is to support the re-verification of the functional requirements of the camera hexapod's hardware.\n",
    "The actual tests are done with a laser tracker and mechanical gauges. \n",
    "This notebook is to do the movements and record the timestamp when a movement was done.\n",
    "\n",
    "Requirements\n",
    "* EFD\n",
    "* Hexapod(s)powered on\n",
    "* Thermal sensors attached to the six actuators of the hexapod.\n",
    "* CSC running\n",
    "* KAFKA producer running\n",
    "* Laser tracker set up.\n",
    "\n",
    "This test will require manual verification of certain events and telemetry in the summit EFD.\n",
    "Also manual verification of appropriate temperatures for each actuator."
   ]
  },
  {
   "cell_type": "code",
   "execution_count": 1,
   "metadata": {},
   "outputs": [
    {
     "name": "stderr",
     "output_type": "stream",
     "text": [
      "/opt/lsst/software/stack/conda/miniconda3-py38_4.9.2/envs/lsst-scipipe-0.4.1/lib/python3.8/site-packages/jose/backends/cryptography_backend.py:23: CryptographyDeprecationWarning: int_from_bytes is deprecated, use int.from_bytes instead\n",
      "  from cryptography.utils import int_from_bytes, int_to_bytes\n"
     ]
    }
   ],
   "source": [
    "from lsst.ts import salobj\n",
    "from lsst.ts.idl.enums import MTHexapod\n",
    "import logging\n",
    "import asyncio\n",
    "import os\n",
    "import yaml\n",
    "\n",
    "import numpy as np\n",
    "from matplotlib import pyplot as plt\n",
    "from astropy.time import Time\n",
    "from datetime import datetime, timedelta\n",
    "import pandas as pd\n",
    "import astropy.units as u\n",
    "\n",
    "from lsst_efd_client import EfdClient"
   ]
  },
  {
   "cell_type": "code",
   "execution_count": 2,
   "metadata": {},
   "outputs": [
    {
     "name": "stdout",
     "output_type": "stream",
     "text": [
      "file:///home/hdrass/WORK/ts_ddsconfig/config/ospl-sp.xml\n",
      "summit\n"
     ]
    }
   ],
   "source": [
    "print(os.environ[\"OSPL_URI\"])\n",
    "print(os.environ[\"LSST_DDS_PARTITION_PREFIX\"])"
   ]
  },
  {
   "cell_type": "code",
   "execution_count": 3,
   "metadata": {},
   "outputs": [
    {
     "name": "stdout",
     "output_type": "stream",
     "text": [
      "11\n"
     ]
    }
   ],
   "source": [
    "#This step should fail at NCSA since there is only one domain\n",
    "print(os.environ[\"LSST_DDS_DOMAIN_ID\"])"
   ]
  },
  {
   "cell_type": "code",
   "execution_count": 4,
   "metadata": {},
   "outputs": [
    {
     "name": "stdout",
     "output_type": "stream",
     "text": [
      "net1\n"
     ]
    }
   ],
   "source": [
    "print(os.environ[\"LSST_DDS_INTERFACE\"])"
   ]
  },
  {
   "cell_type": "markdown",
   "metadata": {},
   "source": [
    "The following block sets the necessary environment variables for setting up the DDS/SAL communication"
   ]
  },
  {
   "cell_type": "code",
   "execution_count": 5,
   "metadata": {},
   "outputs": [],
   "source": [
    "#Wait for history data [sec] default value is 60\n",
    "#os.environ[\"LSST_DDS_DOMAIN\"] = 'citest'\n",
    "#os.environ[\"LSST_DDS_HISTORYSYNC\"] = \"10\""
   ]
  },
  {
   "cell_type": "code",
   "execution_count": 6,
   "metadata": {},
   "outputs": [],
   "source": [
    "STD_WAIT = 39 # This is the amount of time to wait in between a move just to make sure that the actuators are not overheating"
   ]
  },
  {
   "cell_type": "code",
   "execution_count": 7,
   "metadata": {},
   "outputs": [],
   "source": [
    "log = logging.getLogger(__name__) # This sets up the logger for the test.\n",
    "#logging.setLevel(20)\n",
    "logging.basicConfig(level=logging.INFO)\n"
   ]
  },
  {
   "cell_type": "code",
   "execution_count": 8,
   "metadata": {},
   "outputs": [
    {
     "name": "stderr",
     "output_type": "stream",
     "text": [
      "INFO:Script:Read historical data in 0.00 sec\n"
     ]
    },
    {
     "name": "stdout",
     "output_type": "stream",
     "text": [
      "time to start is 0:00:12.010365 [s]\n"
     ]
    }
   ],
   "source": [
    "start_time = datetime.now()\n",
    "test_message = \"Camera Hexapod Integration Test\"\n",
    "#What means index=1 here?\n",
    "#script = salobj.Controller(\"Script\", index=1)\n",
    "script = salobj.Controller(\"Script\", index=42658885)\n",
    "await asyncio.sleep(10) #wait 10 second may help with DDS problems; closing all other kernels may help too\n",
    "print(f'time to start is {datetime.now() - start_time} [s]')"
   ]
  },
  {
   "cell_type": "code",
   "execution_count": 9,
   "metadata": {},
   "outputs": [],
   "source": [
    "await script.start_task"
   ]
  },
  {
   "cell_type": "markdown",
   "metadata": {},
   "source": [
    "This is how you start the remote for the CSC."
   ]
  },
  {
   "cell_type": "code",
   "execution_count": 11,
   "metadata": {},
   "outputs": [
    {
     "name": "stderr",
     "output_type": "stream",
     "text": [
      "INFO:MTHexapod:Read historical data in 0.00 sec\n"
     ]
    }
   ],
   "source": [
    "# create the remote\n",
    "#index=1 is the camera hexapod!! index=2 is the M2 hexapod!\n",
    "csc_index = 1\n",
    "hexapod_csc = salobj.Remote(name=\"MTHexapod\", domain=script.domain, index=csc_index)"
   ]
  },
  {
   "cell_type": "code",
   "execution_count": 12,
   "metadata": {},
   "outputs": [],
   "source": [
    "await hexapod_csc.start_task"
   ]
  },
  {
   "cell_type": "code",
   "execution_count": 13,
   "metadata": {},
   "outputs": [
    {
     "data": {
      "text/plain": [
       "<ddsutil.MTHexapod_logevent_heartbeat_8799b696 at 0x7fc8bbdce9a0>"
      ]
     },
     "execution_count": 13,
     "metadata": {},
     "output_type": "execute_result"
    }
   ],
   "source": [
    "await hexapod_csc.evt_heartbeat.next(flush=True, timeout=5)"
   ]
  },
  {
   "cell_type": "code",
   "execution_count": null,
   "metadata": {},
   "outputs": [],
   "source": [
    "await salobj.set_summary_state(hexapod_csc, salobj.State.STANDBY)"
   ]
  },
  {
   "cell_type": "code",
   "execution_count": null,
   "metadata": {},
   "outputs": [],
   "source": [
    "await salobj.set_summary_state(hexapod_csc, salobj.State.OFFLINE)"
   ]
  },
  {
   "cell_type": "code",
   "execution_count": null,
   "metadata": {},
   "outputs": [],
   "source": [
    "await salobj.set_summary_state(hexapod_csc, salobj.State.DISABLED)"
   ]
  },
  {
   "cell_type": "code",
   "execution_count": null,
   "metadata": {},
   "outputs": [],
   "source": [
    "#This is to bring the state machine in the right starting state\n",
    "await salobj.set_summary_state(hexapod_csc, salobj.State.ENABLED)"
   ]
  },
  {
   "cell_type": "code",
   "execution_count": 14,
   "metadata": {},
   "outputs": [
    {
     "name": "stdout",
     "output_type": "stream",
     "text": [
      "<lsst.ts.salobj.remote.Remote object at 0x7fc8bbea0ee0>\n",
      "Hexapod hex 1\n",
      "1\n"
     ]
    }
   ],
   "source": [
    "print(hexapod_csc)\n",
    "#Bo:Check which hexapod we are controlling\n",
    "whichHex1 = await hexapod_csc.evt_configuration.aget(timeout=10.)\n",
    "print(\"Hexapod hex\", whichHex1.MTHexapodID)\n",
    "print(hexapod_csc.salinfo.index)"
   ]
  },
  {
   "cell_type": "code",
   "execution_count": 15,
   "metadata": {},
   "outputs": [],
   "source": [
    "#This cell makes sure that the data go to EFD\n",
    "#may need to wait a few seconds before event shows up in EFD\n",
    "#client = EfdClient('ncsa_teststand_efd')\n",
    "client = EfdClient('summit_efd')"
   ]
  },
  {
   "cell_type": "code",
   "execution_count": 16,
   "metadata": {},
   "outputs": [],
   "source": [
    "end = Time(datetime.now())\n",
    "start = end - timedelta(hours=3)\n",
    "dfe = await client.select_time_series('lsst.sal.MTHexapod.logevent_summaryState', '*', start.tai, end.tai, csc_index)"
   ]
  },
  {
   "cell_type": "code",
   "execution_count": 17,
   "metadata": {},
   "outputs": [
    {
     "data": {
      "text/html": [
       "<div>\n",
       "<style scoped>\n",
       "    .dataframe tbody tr th:only-of-type {\n",
       "        vertical-align: middle;\n",
       "    }\n",
       "\n",
       "    .dataframe tbody tr th {\n",
       "        vertical-align: top;\n",
       "    }\n",
       "\n",
       "    .dataframe thead th {\n",
       "        text-align: right;\n",
       "    }\n",
       "</style>\n",
       "<table border=\"1\" class=\"dataframe\">\n",
       "  <thead>\n",
       "    <tr style=\"text-align: right;\">\n",
       "      <th></th>\n",
       "      <th>MTHexapodID</th>\n",
       "      <th>priority</th>\n",
       "      <th>private_host</th>\n",
       "      <th>private_identity</th>\n",
       "      <th>private_kafkaStamp</th>\n",
       "      <th>private_origin</th>\n",
       "      <th>private_rcvStamp</th>\n",
       "      <th>private_revCode</th>\n",
       "      <th>private_seqNum</th>\n",
       "      <th>private_sndStamp</th>\n",
       "      <th>summaryState</th>\n",
       "    </tr>\n",
       "  </thead>\n",
       "  <tbody>\n",
       "    <tr>\n",
       "      <th>2021-03-08 15:48:30.196000+00:00</th>\n",
       "      <td>1</td>\n",
       "      <td>0</td>\n",
       "      <td>0</td>\n",
       "      <td>MTHexapod:1</td>\n",
       "      <td>1.615219e+09</td>\n",
       "      <td>5360</td>\n",
       "      <td>1.615219e+09</td>\n",
       "      <td>959a0a03</td>\n",
       "      <td>12</td>\n",
       "      <td>1.615219e+09</td>\n",
       "      <td>3</td>\n",
       "    </tr>\n",
       "    <tr>\n",
       "      <th>2021-03-08 15:49:32.600000+00:00</th>\n",
       "      <td>1</td>\n",
       "      <td>0</td>\n",
       "      <td>0</td>\n",
       "      <td>MTHexapod:1</td>\n",
       "      <td>1.615219e+09</td>\n",
       "      <td>5360</td>\n",
       "      <td>1.615219e+09</td>\n",
       "      <td>959a0a03</td>\n",
       "      <td>13</td>\n",
       "      <td>1.615219e+09</td>\n",
       "      <td>5</td>\n",
       "    </tr>\n",
       "    <tr>\n",
       "      <th>2021-03-08 15:49:41.069000+00:00</th>\n",
       "      <td>1</td>\n",
       "      <td>0</td>\n",
       "      <td>0</td>\n",
       "      <td>MTHexapod:1</td>\n",
       "      <td>1.615219e+09</td>\n",
       "      <td>5360</td>\n",
       "      <td>1.615219e+09</td>\n",
       "      <td>959a0a03</td>\n",
       "      <td>14</td>\n",
       "      <td>1.615219e+09</td>\n",
       "      <td>1</td>\n",
       "    </tr>\n",
       "    <tr>\n",
       "      <th>2021-03-08 15:49:50.107000+00:00</th>\n",
       "      <td>1</td>\n",
       "      <td>0</td>\n",
       "      <td>0</td>\n",
       "      <td>MTHexapod:1</td>\n",
       "      <td>1.615219e+09</td>\n",
       "      <td>5360</td>\n",
       "      <td>1.615219e+09</td>\n",
       "      <td>959a0a03</td>\n",
       "      <td>15</td>\n",
       "      <td>1.615219e+09</td>\n",
       "      <td>2</td>\n",
       "    </tr>\n",
       "  </tbody>\n",
       "</table>\n",
       "</div>"
      ],
      "text/plain": [
       "                                  MTHexapodID  priority  private_host  \\\n",
       "2021-03-08 15:48:30.196000+00:00            1         0             0   \n",
       "2021-03-08 15:49:32.600000+00:00            1         0             0   \n",
       "2021-03-08 15:49:41.069000+00:00            1         0             0   \n",
       "2021-03-08 15:49:50.107000+00:00            1         0             0   \n",
       "\n",
       "                                 private_identity  private_kafkaStamp  \\\n",
       "2021-03-08 15:48:30.196000+00:00      MTHexapod:1        1.615219e+09   \n",
       "2021-03-08 15:49:32.600000+00:00      MTHexapod:1        1.615219e+09   \n",
       "2021-03-08 15:49:41.069000+00:00      MTHexapod:1        1.615219e+09   \n",
       "2021-03-08 15:49:50.107000+00:00      MTHexapod:1        1.615219e+09   \n",
       "\n",
       "                                  private_origin  private_rcvStamp  \\\n",
       "2021-03-08 15:48:30.196000+00:00            5360      1.615219e+09   \n",
       "2021-03-08 15:49:32.600000+00:00            5360      1.615219e+09   \n",
       "2021-03-08 15:49:41.069000+00:00            5360      1.615219e+09   \n",
       "2021-03-08 15:49:50.107000+00:00            5360      1.615219e+09   \n",
       "\n",
       "                                 private_revCode  private_seqNum  \\\n",
       "2021-03-08 15:48:30.196000+00:00        959a0a03              12   \n",
       "2021-03-08 15:49:32.600000+00:00        959a0a03              13   \n",
       "2021-03-08 15:49:41.069000+00:00        959a0a03              14   \n",
       "2021-03-08 15:49:50.107000+00:00        959a0a03              15   \n",
       "\n",
       "                                  private_sndStamp  summaryState  \n",
       "2021-03-08 15:48:30.196000+00:00      1.615219e+09             3  \n",
       "2021-03-08 15:49:32.600000+00:00      1.615219e+09             5  \n",
       "2021-03-08 15:49:41.069000+00:00      1.615219e+09             1  \n",
       "2021-03-08 15:49:50.107000+00:00      1.615219e+09             2  "
      ]
     },
     "execution_count": 17,
     "metadata": {},
     "output_type": "execute_result"
    }
   ],
   "source": [
    "dfe"
   ]
  },
  {
   "cell_type": "code",
   "execution_count": 18,
   "metadata": {},
   "outputs": [],
   "source": [
    "def enabled_substate_callback(evt):\n",
    "    \"\"\"Print the enabled substate when event is received.\"\"\"\n",
    "    print(MTHexapod.EnabledSubstate(evt.enabledSubstate))"
   ]
  },
  {
   "cell_type": "code",
   "execution_count": 19,
   "metadata": {},
   "outputs": [],
   "source": [
    "def in_position_callback(evt):\n",
    "    \"\"\"Print the in position event when it is received.\"\"\"\n",
    "    print(evt.in_position)"
   ]
  },
  {
   "cell_type": "markdown",
   "metadata": {},
   "source": [
    "This next block will make sure that the CSC is ready for the test"
   ]
  },
  {
   "cell_type": "code",
   "execution_count": 31,
   "metadata": {},
   "outputs": [],
   "source": [
    "connected = await hexapod_csc.evt_connected.aget() # This is how you get an event/telemetry with await remote.type_name.aget() type being [evt,tel] and name being the name of the topic\n",
    "#commandable = connected.command\n",
    "telemetry_working = connected.telemetry\n",
    "\n",
    "if not connected or not telemetry_working:\n",
    "    raise Exception(\"Hexapod not connected or telemetry not being received.\") "
   ]
  },
  {
   "cell_type": "code",
   "execution_count": 32,
   "metadata": {},
   "outputs": [
    {
     "name": "stdout",
     "output_type": "stream",
     "text": [
      "2\n"
     ]
    }
   ],
   "source": [
    "controller_state = await hexapod_csc.evt_controllerState.aget()\n",
    "state = controller_state.controllerState\n",
    "offline_substate = controller_state.offlineSubstate\n",
    "print(state)\n",
    "#This is only for the real system. The simulater only has the AVAILABLE offline state \n",
    "\n",
    "'''  \n",
    "if not state == salobj.State.OFFLINE and not offline_substate == MTHexapod.OfflineSubstate.AVAILABLE:\n",
    "    raise Exception(\"Controller must be changed to Available Offline Substate.\")\n",
    "'''\n",
    "commandable_by_dds = await hexapod_csc.evt_commandableByDDS.aget()\n",
    "dds_state = commandable_by_dds.state\n",
    "if not dds_state:\n",
    "    raise Exception(\"Controller must in CommandableByDDS state.\")"
   ]
  },
  {
   "cell_type": "markdown",
   "metadata": {},
   "source": [
    "The next four blocks bring the CSC to the Enabled state."
   ]
  },
  {
   "cell_type": "code",
   "execution_count": null,
   "metadata": {},
   "outputs": [],
   "source": [
    "await hexapod_csc.cmd_enterControl.set_start() # Send the enterControl command notice the casing and the set_start method"
   ]
  },
  {
   "cell_type": "code",
   "execution_count": null,
   "metadata": {
    "scrolled": true
   },
   "outputs": [],
   "source": [
    "await hexapod_csc.cmd_start.set_start() "
   ]
  },
  {
   "cell_type": "code",
   "execution_count": null,
   "metadata": {},
   "outputs": [],
   "source": [
    "await hexapod_csc.cmd_enable.set_start()"
   ]
  },
  {
   "cell_type": "code",
   "execution_count": null,
   "metadata": {
    "scrolled": true
   },
   "outputs": [],
   "source": [
    "await hexapod_csc.cmd_clearError.set_start() # This clears the error"
   ]
  },
  {
   "cell_type": "markdown",
   "metadata": {},
   "source": [
    "# thermal sensors\n",
    "Check the chronograph manually for the temperature sensors to be below 19C, if not wait until they are all below 19C. Enter in the data at the 39 second mark\n",
    "\n",
    "|Actuator 1 (C)|Actuator 2 (C) | Actuator 3 (C) | Actuator 4 (C) | Actuator 5 (C) | Actuator 6 (C)|\n",
    "|--------------|---------------|----------------|----------------|----------------|---------------|\n",
    "| 0 | 0 | 0 | 0 | 0 | 0 |"
   ]
  },
  {
   "cell_type": "code",
   "execution_count": null,
   "metadata": {},
   "outputs": [],
   "source": [
    "# Step skiped see deviation LVV-T1802 Test Step 5                                  \n",
    "#hexapod_csc.evt_controllerState.callback = enabled_substate_callback                                \n",
    "#await hexapod_csc.cmd_move.set_start(x=6700,y=0,z=5900, u=0.12,v=0,w=0,sync=True)"
   ]
  },
  {
   "cell_type": "code",
   "execution_count": null,
   "metadata": {
    "scrolled": true
   },
   "outputs": [],
   "source": [
    "#Command used to stop the hexapod \n",
    "await hexapod_csc.cmd_stop.set_start()"
   ]
  },
  {
   "cell_type": "code",
   "execution_count": 36,
   "metadata": {},
   "outputs": [
    {
     "data": {
      "text/plain": [
       "<ddsutil.MTHexapod_ackcmd_da0a635d at 0x7fc8bbe92160>"
      ]
     },
     "execution_count": 36,
     "metadata": {},
     "output_type": "execute_result"
    }
   ],
   "source": [
    "#This command is to set the Hexapod to zero position\n",
    "await hexapod_csc.cmd_move.set_start(x=0,y=0,z=0, u=0,v=0,w=0,sync=True)"
   ]
  },
  {
   "cell_type": "code",
   "execution_count": 37,
   "metadata": {},
   "outputs": [
    {
     "name": "stderr",
     "output_type": "stream",
     "text": [
      "INFO:Script:START- Camera Hexapod Integration Test -- LVV-T1598 functional Test - Test move - Starting time: 2021-03-08 18:50:44.138441 UTC\n"
     ]
    },
    {
     "data": {
      "text/plain": [
       "<ddsutil.MTHexapod_ackcmd_da0a635d at 0x7fc8bb804820>"
      ]
     },
     "execution_count": 37,
     "metadata": {},
     "output_type": "execute_result"
    }
   ],
   "source": [
    "#This command is to move the Hexapod to any position you like\n",
    "now = datetime.now()\n",
    "script.log.info(f\"START- {test_message} -- LVV-T1598 functional Test - Test move - Starting time: {now} UTC\")\n",
    "await hexapod_csc.cmd_move.set_start(x=5000,y=0,z=0, u=0,v=0,w=0,sync=True)"
   ]
  },
  {
   "cell_type": "code",
   "execution_count": 22,
   "metadata": {},
   "outputs": [
    {
     "name": "stderr",
     "output_type": "stream",
     "text": [
      "INFO:Script:TEST to see if annotations like this arrive in the EFD.\n"
     ]
    }
   ],
   "source": [
    "script.log.info(f\"TEST to see if annotations like this arrive in the EFD.\")"
   ]
  },
  {
   "cell_type": "code",
   "execution_count": null,
   "metadata": {},
   "outputs": [],
   "source": [
    "now = datetime.now()\n",
    "script.log.info(f\"START- {test_message} -- LVV-T1598 functional Test - Step 1 - Starting time: {now} UTC\")\n",
    "await hexapod_csc.cmd_move.set_start(x=6700,y=0,z=5900,u=0,v=0.12,w=0,sync=True)\n",
    "script.log.info(f\"STOP- {test_message} -- LVV-T1598 functional Test - Step 1 \")\n",
    "await asyncio.sleep(STD_WAIT)"
   ]
  },
  {
   "cell_type": "code",
   "execution_count": null,
   "metadata": {},
   "outputs": [],
   "source": [
    "now = datetime.now()\n",
    "script.log.info(f\"START- {test_message} -- LVV-T1598 functional Test - Step 2 - Starting time: {now} UTC\")\n",
    "await hexapod_csc.cmd_move.set_start(x=6700,y=0,z=5900,u=0,v=-0.12,w=0,sync=True)\n",
    "script.log.info(f\"STOP- {test_message} -- LVV-T1598 functional Test - Step 2 \")\n",
    "await asyncio.sleep(STD_WAIT)"
   ]
  },
  {
   "cell_type": "code",
   "execution_count": null,
   "metadata": {},
   "outputs": [],
   "source": [
    "now = datetime.now()\n",
    "script.log.info(f\"START- {test_message} -- LVV-T1598 functional Test - Step 3 - Starting time: {now} UTC\")\n",
    "await hexapod_csc.cmd_move.set_start(x=6700,y=0,z=5900,u=0.12,v=0,w=0,sync=True)\n",
    "script.log.info(f\"STOP- {test_message} -- LVV-T1598 functional Test - Step 3 \")\n",
    "await asyncio.sleep(STD_WAIT)"
   ]
  },
  {
   "cell_type": "code",
   "execution_count": null,
   "metadata": {},
   "outputs": [],
   "source": [
    "now = datetime.now()\n",
    "script.log.info(f\"START- {test_message} -- LVV-T1598 functional Test - Step 4 - Starting time: {now} UTC\")\n",
    "await hexapod_csc.cmd_move.set_start(x=6700,y=0,z=5900,u=-0.12,v=0,w=0,sync=True)\n",
    "script.log.info(f\"STOP- {test_message} -- LVV-T1598 functional Test - Step 4 \")\n",
    "await asyncio.sleep(STD_WAIT)"
   ]
  },
  {
   "cell_type": "code",
   "execution_count": null,
   "metadata": {},
   "outputs": [],
   "source": [
    "now = datetime.now()\n",
    "script.log.info(f\"START- {test_message} -- LVV-T1598 functional Test - Step 5 - Starting time: {now} UTC\")\n",
    "await hexapod_csc.cmd_move.set_start(x=6700,y=0,z=-5900,u=0,v=0.12,w=0,sync=True)\n",
    "script.log.info(f\"STOP- {test_message} -- LVV-T1598 functional Test - Step 5 \")\n",
    "await asyncio.sleep(STD_WAIT)"
   ]
  },
  {
   "cell_type": "code",
   "execution_count": null,
   "metadata": {},
   "outputs": [],
   "source": [
    "now = datetime.now()\n",
    "script.log.info(f\"START- {test_message} -- LVV-T1598 functional Test - Step 6 - Starting time: {now} UTC\")\n",
    "await hexapod_csc.cmd_move.set_start(x=6700,y=0,z=-5900,u=0,v=-0.12,w=0,sync=True)\n",
    "script.log.info(f\"STOP- {test_message} -- LVV-T1598 functional Test - Step 6 \")\n",
    "await asyncio.sleep(STD_WAIT)"
   ]
  },
  {
   "cell_type": "code",
   "execution_count": null,
   "metadata": {},
   "outputs": [],
   "source": [
    "now = datetime.now()\n",
    "script.log.info(f\"START- {test_message} -- LVV-T1598 functional Test - Step 7 - Starting time: {now} UTC\")\n",
    "await hexapod_csc.cmd_move.set_start(x=6700,y=0,z=-5900,u=0.12,v=0,w=0,sync=True)\n",
    "script.log.info(f\"STOP- {test_message} -- LVV-T1598 functional Test - Step 7 \")\n",
    "await asyncio.sleep(STD_WAIT)"
   ]
  },
  {
   "cell_type": "code",
   "execution_count": null,
   "metadata": {},
   "outputs": [],
   "source": [
    "now = datetime.now()\n",
    "script.log.info(f\"START- {test_message} -- LVV-T1598 functional Test - Step 8 - Starting time: {now} UTC\")\n",
    "await hexapod_csc.cmd_move.set_start(x=6700,y=0,z=-5900,u=-0.12,v=0,w=0,sync=True)\n",
    "script.log.info(f\"STOP- {test_message} -- LVV-T1598 functional Test - Step 8 \")\n",
    "await asyncio.sleep(STD_WAIT)"
   ]
  },
  {
   "cell_type": "code",
   "execution_count": null,
   "metadata": {},
   "outputs": [],
   "source": [
    "now = datetime.now()\n",
    "script.log.info(f\"START- {test_message} -- LVV-T1598 functional Test - Step 9 - Starting time: {now} UTC\")\n",
    "await hexapod_csc.cmd_move.set_start(x=-6700,y=0,z=5900,u=0,v=0.12,w=0,sync=True)\n",
    "script.log.info(f\"STOP- {test_message} -- LVV-T1598 functional Test - Step 9 \")\n",
    "await asyncio.sleep(STD_WAIT)"
   ]
  },
  {
   "cell_type": "code",
   "execution_count": null,
   "metadata": {},
   "outputs": [],
   "source": [
    "now = datetime.now()\n",
    "script.log.info(f\"START- {test_message} -- LVV-T1598 functional Test - Step 10 - Starting time: {now} UTC\")\n",
    "await hexapod_csc.cmd_move.set_start(x=-6700,y=0,z=5900,u=0,v=-0.12,w=0,sync=True)\n",
    "script.log.info(f\"STOP- {test_message} -- LVV-T1598 functional Test - Step 10 \")\n",
    "await asyncio.sleep(STD_WAIT)"
   ]
  },
  {
   "cell_type": "code",
   "execution_count": null,
   "metadata": {},
   "outputs": [],
   "source": [
    "now = datetime.now()\n",
    "script.log.info(f\"START- {test_message} -- LVV-T1598 functional Test - Step 11 - Starting time: {now} UTC\")\n",
    "await hexapod_csc.cmd_move.set_start(x=-6700,y=0,z=5900,u=0.12,v=0,w=0,sync=True)\n",
    "script.log.info(f\"STOP- {test_message} -- LVV-T1598 functional Test - Step 11 \")\n",
    "await asyncio.sleep(STD_WAIT)"
   ]
  },
  {
   "cell_type": "code",
   "execution_count": null,
   "metadata": {},
   "outputs": [],
   "source": [
    "now = datetime.now()\n",
    "script.log.info(f\"START- {test_message} -- LVV-T1598 functional Test - Step 12 - Starting time: {now} UTC\")\n",
    "await hexapod_csc.cmd_move.set_start(x=-6700,y=0,z=5900,u=-0.12,v=0,w=0,sync=True)\n",
    "script.log.info(f\"STOP- {test_message} -- LVV-T1598 functional Test - Step 12 \")\n",
    "await asyncio.sleep(STD_WAIT)"
   ]
  },
  {
   "cell_type": "code",
   "execution_count": null,
   "metadata": {},
   "outputs": [],
   "source": [
    "await salobj.set_summary_state(hexapod_csc, salobj.State.STANDBY) # Transition the CSC to Standby state"
   ]
  },
  {
   "cell_type": "code",
   "execution_count": null,
   "metadata": {},
   "outputs": [],
   "source": [
    "await domain.close() # Close the remote connection"
   ]
  }
 ],
 "metadata": {
  "kernelspec": {
   "display_name": "LSST",
   "language": "python",
   "name": "lsst"
  },
  "language_info": {
   "codemirror_mode": {
    "name": "ipython",
    "version": 3
   },
   "file_extension": ".py",
   "mimetype": "text/x-python",
   "name": "python",
   "nbconvert_exporter": "python",
   "pygments_lexer": "ipython3",
   "version": "3.8.6"
  }
 },
 "nbformat": 4,
 "nbformat_minor": 4
}
