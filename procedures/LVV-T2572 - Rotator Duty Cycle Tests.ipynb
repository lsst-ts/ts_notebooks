{
 "cells": [
  {
   "cell_type": "markdown",
   "id": "25e8fce8-07ea-4dae-8f11-05326f9e3a4b",
   "metadata": {},
   "source": [
    "# Rotator Duty Cycle Test - Regular Observing Campaign\n",
    "\n",
    "Use this notebook to run the [LVV-T2572 - Rotator Duty Cycle] test case.\n",
    "\n",
    "[LVV-T2572 - Rotator Duty Cycle]: https://jira.lsstcorp.org/secure/Tests.jspa#/testCase/LVV-T2572\n",
    "\n",
    "Most of the time during operations the scheduler will be imaging a pack of the sky trying to keep the rotator close to a certain position.  \n",
    "Basically, we can assume it is going to “slew” the rotator to a certain position and, from there on, track and unwind the rotator constantly for hours on end.  \n",
    "From the rotator perspective, this can be seen as something like:\n",
    "\n",
    " - Test sequence: The rotator controller must be set into tracking / slewing operation.  \n",
    "   For this, the commands used in `dqueue_test_trackingSlewing` can be used.  \n",
    "   Once in tracking / slewing operation mode, the following setpoints must be sent:  \n",
    "   - Start with rotator position in zero.  \n",
    "   - Repeat 240 times (around 2 hours): Track target with starting Rotator position around -0.3 deg and tracking velocity +0.01deg/s for 30s.  \n",
    "\n",
    "\n",
    " - Requirements and flags validated during this test.  \n",
    "   This test is used to validate the following requirements (for more information, see section 3.1):  \n",
    "   - ID 3.4.10 – Rotator duty cycle  \n",
    "\n",
    "\n",
    " - Results: The setpoint time, position and speed must be compared with the generated trajectory output.   \n",
    "   It must also be compared with the feedback position and speed.   \n",
    "   Both generated trajectory and feedback data should follow the desired setpoint, meeting the dynamic constraints of the rotator controller.  \n",
    "\n",
    "## Who/When/Where?\n",
    "\n",
    "The code below prints the user, time, and if you are at the summit or not.  \n",
    "It is used mostly for tracking purposes."
   ]
  },
  {
   "cell_type": "code",
   "execution_count": null,
   "id": "0d869dfa-028c-40f9-99a4-c6b3bba90b9e",
   "metadata": {},
   "outputs": [],
   "source": [
    "from lsst.ts import utils\n",
    "\n",
    "# Extract your name from the Jupyter Hub\n",
    "__executed_by__ = os.environ[\"JUPYTERHUB_USER\"]  \n",
    "\n",
    "# Extract execution date\n",
    "__executed_on__ = utils.astropy_time_from_tai_unix(utils.current_tai())\n",
    "__executed_on__.format = \"isot\"\n",
    "\n",
    "# This is used later to define where Butler stores the images\n",
    "summit = os.environ[\"LSST_DDS_PARTITION_PREFIX\"] == \"summit\"\n",
    "\n",
    "print(f\"\\nExecuted by {__executed_by__} on {__executed_on__}.\"\n",
    "      f\"\\n  At the summit? {summit}\")"
   ]
  },
  {
   "cell_type": "markdown",
   "id": "462ae6a3-e86b-48c9-8400-3fb545b8aeff",
   "metadata": {},
   "source": [
    "## Set up\n",
    "\n",
    "Before you run this notebook, make sure that you setup the Rotator and the CCW.  \n",
    "The easiest way of doing this would be to go through [LVV-T????] test case and stop right after setting up the Rotator.  \n",
    "\n",
    "The following cells contain the libraries that should be imported.  \n",
    "Once imported, we can setup the log, start the domains, and add the components."
   ]
  },
  {
   "cell_type": "code",
   "execution_count": null,
   "id": "3bd90527-5843-4d1f-90c6-fdb8c73da147",
   "metadata": {},
   "outputs": [],
   "source": [
    "%load_ext autoreload\n",
    "%autoreload 2"
   ]
  },
  {
   "cell_type": "code",
   "execution_count": null,
   "id": "41233528-ebd2-4bc2-a1f1-4f20ce631b08",
   "metadata": {},
   "outputs": [],
   "source": [
    "print(os.environ[\"OSPL_URI\"])\n",
    "print(os.environ[\"LSST_DDS_PARTITION_PREFIX\"])\n",
    "print(os.environ.get(\"LSST_DDS_DOMAIN_ID\", \"Expected, not set.\"))"
   ]
  },
  {
   "cell_type": "code",
   "execution_count": null,
   "id": "f8994829-1436-4091-a803-aa0684630266",
   "metadata": {},
   "outputs": [],
   "source": [
    "import rubin_jupyter_utils.lab.notebook as nb\n",
    "nb.utils.get_node()"
   ]
  },
  {
   "cell_type": "code",
   "execution_count": null,
   "id": "cdbd0ace-cd63-488a-933f-027ee4a02785",
   "metadata": {},
   "outputs": [],
   "source": [
    "import os\n",
    "import sys\n",
    "import asyncio\n",
    "import logging\n",
    "\n",
    "import pandas as pd\n",
    "import numpy as np\n",
    "\n",
    "from matplotlib import pyplot as plt\n",
    "\n",
    "import lsst.daf.butler as dafButler\n",
    "\n",
    "from lsst.ts import salobj\n",
    "from lsst.ts.observatory.control.maintel import MTCS, ComCam\n",
    "from lsst.ts.observatory.control import RotType"
   ]
  },
  {
   "cell_type": "code",
   "execution_count": null,
   "id": "0f2ce39e-2d6e-4693-95d5-bf1bb56c793c",
   "metadata": {},
   "outputs": [],
   "source": [
    "logging.basicConfig(format=\"%(name)s:%(message)s\", level=logging.DEBUG)"
   ]
  },
  {
   "cell_type": "code",
   "execution_count": null,
   "id": "8b7da035-ffc6-4003-8d9b-982e8d1a16e4",
   "metadata": {},
   "outputs": [],
   "source": [
    "log = logging.getLogger(\"setup\")\n",
    "log.level = logging.DEBUG"
   ]
  },
  {
   "cell_type": "code",
   "execution_count": null,
   "id": "d6bf3173-a58d-4fda-98fb-8574752c6112",
   "metadata": {},
   "outputs": [],
   "source": [
    "domain = salobj.Domain()"
   ]
  },
  {
   "cell_type": "code",
   "execution_count": null,
   "id": "ac7a4bca-9df4-481b-a15f-47a6a4d99633",
   "metadata": {},
   "outputs": [],
   "source": [
    "mtcs = MTCS(domain=domain, log=log)\n",
    "mtcs.set_rem_loglevel(40)"
   ]
  },
  {
   "cell_type": "code",
   "execution_count": null,
   "id": "4ccccee5-8dc0-42a4-9a69-bd5091d1ec1f",
   "metadata": {},
   "outputs": [],
   "source": [
    "await mtcs.start_task"
   ]
  },
  {
   "cell_type": "code",
   "execution_count": null,
   "id": "0a3c4413-7e26-4863-85f3-2311a678829b",
   "metadata": {},
   "outputs": [],
   "source": [
    "index = os.getegid() + np.random.randint(-5, 5)\n",
    "\n",
    "start_time = datetime.now()\n",
    "script = salobj.Controller(\"Script\", index=index)"
   ]
  },
  {
   "cell_type": "markdown",
   "id": "11638e7b-b6b8-4a5c-b8ae-ed7fe53d8b42",
   "metadata": {},
   "source": [
    "## Tracking Speed\n",
    "\n",
    "The tracking speed depends on the position of the target in the sky.  \n",
    "Use the map below for a roght estimative of the required position to meet a given tracking speed.\n",
    "\n",
    "![Rotator Tracking Velocity](\"img/rotator-tracking-velocity.png\")"
   ]
  },
  {
   "cell_type": "markdown",
   "id": "5ad28705-650e-4c45-ac43-a5fe33e72d1c",
   "metadata": {},
   "source": [
    "## Test: Extreme Conditions\n",
    "\n",
    "The idea of this test is to check different rapidly cycling the Rotator between “fast-tracking”, “slow-tracking”, tracking at different directions with big slews and small slews in between.  \n",
    "These are conditions that will seldom occur during a regular observing night but are conditions we expect the rotator to be able to handle seamlessly.  "
   ]
  },
  {
   "cell_type": "code",
   "execution_count": null,
   "id": "3a81e1ae-1562-48ff-8e57-2346d46cec60",
   "metadata": {},
   "outputs": [],
   "source": [
    "now = datetime.now()\n",
    "test_message = \"LVV-T2572-A - Extreme Conditions\"\n",
    "script.log.info(f\"START -- {test_message} -- Starting Time: {now} UTC\")"
   ]
  },
  {
   "cell_type": "markdown",
   "id": "de9426d7-12c1-4051-bc2b-2221c8339b04",
   "metadata": {},
   "source": [
    "---\n",
    "Start with rotator position in 0."
   ]
  },
  {
   "cell_type": "code",
   "execution_count": null,
   "id": "2b777a20-e2bf-4e11-b871-b55dee163ca7",
   "metadata": {},
   "outputs": [],
   "source": [
    "await mtcs.rem.mtrotator.cmd_move.set_start(position=0.0)"
   ]
  },
  {
   "cell_type": "markdown",
   "id": "877665ad-e745-4af1-b2d0-e9e4ea6227c3",
   "metadata": {},
   "source": [
    "Track target with starting Rotator position -80 deg with velocity +0.01 deg/s for 30s.\n",
    "Final position: ~ -79.5 deg (assumes ~0.2 deg of “tracking” during the time it takes to slew from 0 to -80)."
   ]
  },
  {
   "cell_type": "code",
   "execution_count": null,
   "id": "5a428af6-7953-4bb1-8d51-659015cbc55f",
   "metadata": {},
   "outputs": [],
   "source": [
    "target = await mtcs.find_target(el=60, az=180, mag_limit=8)  # Position w/ +0.01 deg/s\n",
    "print(f\"Found target near {el} deg elevation and {az} deg azimuth:\\n\"\n",
    "      f\"  {target}\")"
   ]
  },
  {
   "cell_type": "code",
   "execution_count": null,
   "id": "395fbdf2-ad5c-4063-89d7-f8590a4f95d8",
   "metadata": {},
   "outputs": [],
   "source": [
    "await mtcs.slew_object(target, rot_type=RotType.PhysicalSky, rot=-80)\n",
    "await asyncio.sleep(30)\n",
    "await mtcs.stop_tracking()"
   ]
  },
  {
   "cell_type": "markdown",
   "id": "26f5658b-c716-46ab-9b15-a0aa2bba23c8",
   "metadata": {},
   "source": [
    "Track target with starting Rotator position -80 deg with velocity +0.02 deg/s for 30s\n",
    "Final position: ~ -79.4 deg (assuming slewing from -79.4 deg to -80 deg takes negligible amount of time)."
   ]
  },
  {
   "cell_type": "code",
   "execution_count": null,
   "id": "f564d449-22fb-4496-ba9c-c600f94e876a",
   "metadata": {},
   "outputs": [],
   "source": [
    "# Maximum elevation = 86.5 deg\n",
    "target = await mtcs.find_target(el=85, az=180, mag_limit=8)  # Position w/ +0.02 deg/s\n",
    "print(f\"Found target near {el} deg elevation and {az} deg azimuth:\\n\"\n",
    "      f\"  {target}\")"
   ]
  },
  {
   "cell_type": "code",
   "execution_count": null,
   "id": "0c851dc4-0817-4236-852f-646b1304a069",
   "metadata": {},
   "outputs": [],
   "source": [
    "await mtcs.slew_object(target, rot_type=RotType.PhysicalSky, rot=-80)\n",
    "await asyncio.sleep(30)\n",
    "await mtcs.stop_tracking()"
   ]
  },
  {
   "cell_type": "markdown",
   "id": "3ca2d8dd-9261-4d40-85a7-d69718db5167",
   "metadata": {},
   "source": [
    "Track target with starting Rotator position -80 deg with velocity -0.02 deg/s for 30s\n",
    "Final position: ~-80.6 deg."
   ]
  },
  {
   "cell_type": "code",
   "execution_count": null,
   "id": "4c6bd03d-479f-4deb-97ed-a601fc915405",
   "metadata": {},
   "outputs": [],
   "source": [
    "target = await mtcs.find_target(el=85, az=0, mag_limit=8)  # Position w/ -0.02 deg/s\n",
    "print(f\"Found target near {el} deg elevation and {az} deg azimuth:\\n\"\n",
    "      f\"  {target}\")"
   ]
  },
  {
   "cell_type": "code",
   "execution_count": null,
   "id": "d984980b-aa8c-4a8c-aadd-cf225cab944b",
   "metadata": {},
   "outputs": [],
   "source": [
    "await mtcs.slew_object(target, rot_type=RotType.PhysicalSky, rot=-80) \n",
    "await asyncio.sleep(30)\n",
    "await mtcs.stop_tracking()"
   ]
  },
  {
   "cell_type": "markdown",
   "id": "5fb4a163-099b-446f-8abe-a6966cab52d0",
   "metadata": {},
   "source": [
    "Track target with starting Rotator position -80 deg with velocity -0.01 deg/s for 30s\n",
    "Final position: ~-80.3 deg."
   ]
  },
  {
   "cell_type": "code",
   "execution_count": null,
   "id": "cf260a86-d163-4544-80d0-554d8aea5a4a",
   "metadata": {},
   "outputs": [],
   "source": [
    "target = await mtcs.find_target(el=60, az=180, mag_limit=8)  # Position w/ -0.01 deg/s\n",
    "print(f\"Found target near {el} deg elevation and {az} deg azimuth:\\n\"\n",
    "      f\"  {target}\")"
   ]
  },
  {
   "cell_type": "code",
   "execution_count": null,
   "id": "984634b0-42ab-452f-92c9-6114c8a04efe",
   "metadata": {},
   "outputs": [],
   "source": [
    "await mtcs.slew_object(target, rot_type=RotType.PhysicalSky, rot=-80)\n",
    "await asyncio.sleep(30)\n",
    "await mtcs.stop_tracking()"
   ]
  },
  {
   "cell_type": "markdown",
   "id": "c6dbc9b5-9cc7-4bb3-b0a9-84e8c3dda871",
   "metadata": {},
   "source": [
    "Track target with starting Rotator position +80 deg with velocity +0.01 deg/s for 30s\n",
    "Final position: ~+80.7 deg (assumes ~0.4 deg of “tracking” during the time it takes to slew from ~-80.3 to +80)."
   ]
  },
  {
   "cell_type": "code",
   "execution_count": null,
   "id": "651ca3b3-db06-4eca-8cec-72786154c1be",
   "metadata": {},
   "outputs": [],
   "source": [
    "target = await mtcs.find_target(el=60, az=180, mag_limit=8) # Position w/ +0.01 deg/s\n",
    "print(f\"Found target near {el} deg elevation and {az} deg azimuth:\\n\"\n",
    "      f\"  {target}\")"
   ]
  },
  {
   "cell_type": "code",
   "execution_count": null,
   "id": "0eb60d88-de90-4b2e-9a58-8d8462a4fc61",
   "metadata": {},
   "outputs": [],
   "source": [
    "await mtcs.slew_object(target, rot_type=RotType.PhysicalSky, rot=+80)\n",
    "await asyncio.sleep(30)\n",
    "await mtcs.stop_tracking()"
   ]
  },
  {
   "cell_type": "markdown",
   "id": "87de569a-9660-4155-b9bd-f6ee8a70b288",
   "metadata": {},
   "source": [
    "Track target with starting Rotator position +80 deg with velocity +0.02 deg/s for 30s\n",
    "Final position: ~+80.6 deg."
   ]
  },
  {
   "cell_type": "code",
   "execution_count": null,
   "id": "d6c4b1de-0797-4053-bc10-b8a145a693ec",
   "metadata": {},
   "outputs": [],
   "source": [
    "target = await mtcs.find_target(el=85, az=180, mag_limit=8) # Position w/ +0.01 deg/s\n",
    "print(f\"Found target near {el} deg elevation and {az} deg azimuth:\\n\"\n",
    "      f\"  {target}\")"
   ]
  },
  {
   "cell_type": "code",
   "execution_count": null,
   "id": "03dd8046-098c-4cdb-9bf1-6e98d420e761",
   "metadata": {},
   "outputs": [],
   "source": [
    "await mtcs.slew_object(target, rot_type=RotType.PhysicalSky, rot=+80)\n",
    "await asyncio.sleep(30)\n",
    "await mtcs.stop_tracking()"
   ]
  },
  {
   "cell_type": "markdown",
   "id": "4bef0609-c227-4856-b395-eadcd226b6b1",
   "metadata": {},
   "source": [
    "Track target with starting Rotator position +80 deg with velocity -0.02 deg/s for 30s\n",
    "Final position: ~+79.4 deg."
   ]
  },
  {
   "cell_type": "code",
   "execution_count": null,
   "id": "2bc80f90-2a7b-43d0-945f-abd09d1ec331",
   "metadata": {},
   "outputs": [],
   "source": [
    "target = await mtcs.find_target(el=85, az=0, mag_limit=8) # Position w/ -0.02 deg/s\n",
    "print(f\"Found target near {el} deg elevation and {az} deg azimuth:\\n\"\n",
    "      f\"  {target}\")"
   ]
  },
  {
   "cell_type": "code",
   "execution_count": null,
   "id": "1ac04b1d-3368-442b-a7ed-163b000918bc",
   "metadata": {},
   "outputs": [],
   "source": [
    "await mtcs.slew_object(target, rot_type=RotType.PhysicalSky, rot=+80)\n",
    "await asyncio.sleep(30)\n",
    "await mtcs.stop_tracking()"
   ]
  },
  {
   "cell_type": "markdown",
   "id": "5234df78-dbf9-40f4-a498-38d258993776",
   "metadata": {},
   "source": [
    "Track target with starting Rotator position +80 deg with velocity -0.01 deg/s for 30s\n",
    "Final position: ~+ 79.7 deg."
   ]
  },
  {
   "cell_type": "code",
   "execution_count": null,
   "id": "78125d18-7315-4f6d-9c09-5de8193a4e36",
   "metadata": {},
   "outputs": [],
   "source": [
    "target = await mtcs.find_target(el=60, az=0, mag_limit=8) # Position w/ -0.02 deg/s\n",
    "print(f\"Found target near {el} deg elevation and {az} deg azimuth:\\n\"\n",
    "      f\"  {target}\")"
   ]
  },
  {
   "cell_type": "code",
   "execution_count": null,
   "id": "cb2e24da-3efe-44ce-ac81-2431eff9823e",
   "metadata": {},
   "outputs": [],
   "source": [
    "await mtcs.slew_object(target, rot_type=RotType.PhysicalSky, rot=+80)\n",
    "await asyncio.sleep(30)\n",
    "await mtcs.stop_tracking()"
   ]
  },
  {
   "cell_type": "markdown",
   "id": "d6841cf7-ac63-4a30-b2aa-0416d0d3b07a",
   "metadata": {},
   "source": [
    "End of this part."
   ]
  },
  {
   "cell_type": "code",
   "execution_count": null,
   "id": "fae08381-3eaa-410b-9529-96995af81c06",
   "metadata": {},
   "outputs": [],
   "source": [
    "now = datetime.now()\n",
    "script.log.info(f\"END -- {test_message} -- Starting Time: {now} UTC\")"
   ]
  },
  {
   "cell_type": "markdown",
   "id": "a7ebaf35-6fdc-4e67-8d38-7a960266f548",
   "metadata": {},
   "source": [
    "## Emulate filter change, tracking target with zero velocity between two targets.\n",
    "\n",
    "There are some conditions we expect to be able to track a target through the sky while not rotating.  \n",
    "These will happen while doing filter changes and also during some mount tracking tests we may perform during commissioning.  \n",
    "At the very least, the rotator must be able to track a non-moving target for 2 minutes without interruption, which is the approximate time it takes to perform a filter change."
   ]
  },
  {
   "cell_type": "code",
   "execution_count": null,
   "id": "9917b1bc-84fb-47fd-a47e-41d9148be644",
   "metadata": {},
   "outputs": [],
   "source": [
    "now = datetime.now()\n",
    "test_message = \"LVV-T2572-B - Emulate Filter Change\"\n",
    "script.log.info(f\"START -- {test_message} -- Starting Time: {now} UTC\")"
   ]
  },
  {
   "cell_type": "markdown",
   "id": "b10f2fb3-307a-4167-b9eb-04305fb4d2a6",
   "metadata": {},
   "source": [
    "---\n",
    "Start with rotator position in zero."
   ]
  },
  {
   "cell_type": "code",
   "execution_count": null,
   "id": "9c7369bc-f6e0-46d1-ad44-626f6566c52d",
   "metadata": {},
   "outputs": [],
   "source": [
    "await mtcs.rem.mtrotator.cmd_move.set_start(position=0.0)"
   ]
  },
  {
   "cell_type": "markdown",
   "id": "edf628af-0f9c-476c-9b92-ed224bb381e6",
   "metadata": {},
   "source": [
    "Track target with starting Rotator position -45 deg with velocity +0.02 deg/s for 30s  \n",
    "Final position: ~-44.2 deg (assumes ~0.2 deg of “tracking” during the time it takes to slew from 0 to -45, note the tracking speed here is twice the one used on the 0 to 80 degrees above, which is why the buffer is similar)."
   ]
  },
  {
   "cell_type": "code",
   "execution_count": null,
   "id": "cd82d534-2646-4d15-a08d-cf583e95aff2",
   "metadata": {},
   "outputs": [],
   "source": [
    "target = await mtcs.find_target(el=85, az=180, mag_limit=8) # Position w/ +0.02 deg/s\n",
    "print(f\"Found target near {el} deg elevation and {az} deg azimuth:\\n\"\n",
    "      f\"  {target}\")"
   ]
  },
  {
   "cell_type": "code",
   "execution_count": null,
   "id": "984f6af2-b20f-4179-9c99-7d73342dba03",
   "metadata": {},
   "outputs": [],
   "source": [
    "await mtcs.slew_object(target, rot_type=RotType.PhysicalSky, rot=-45)\n",
    "await asyncio.sleep(30)\n",
    "await mtcs.stop_tracking()"
   ]
  },
  {
   "cell_type": "markdown",
   "id": "73df6b21-40d8-4e1e-88cb-543abc5a1d1d",
   "metadata": {},
   "source": [
    "Track position 0 with velocity 0 for 2 minutes."
   ]
  },
  {
   "cell_type": "code",
   "execution_count": null,
   "id": "5ab4fa42-c6fd-427c-afd5-03e556f63cb8",
   "metadata": {},
   "outputs": [],
   "source": [
    "await mtcs.slew_object(target, rot_type=RotType.PhysicalSky, rot=0)\n",
    "await asyncio.sleep(120)\n",
    "await mtcs.stop_tracking()"
   ]
  },
  {
   "cell_type": "markdown",
   "id": "45496043-7bbf-44c6-b183-90414cd52bd4",
   "metadata": {},
   "source": [
    "Track target with starting Rotator position +45 deg with velocity -0.02 deg/s for 30s.\n",
    "Final position: ~+44.2 deg (again, assumes ~0.2 deg of “tracking” during the time it takes to slew from 0 to +45)."
   ]
  },
  {
   "cell_type": "code",
   "execution_count": null,
   "id": "486323d9-5a27-423c-97c6-cafdfc12c7c3",
   "metadata": {},
   "outputs": [],
   "source": [
    "target = await mtcs.find_target(el=85, az=0, mag_limit=8)  # Position w/ -0.02 deg/s\n",
    "print(f\"Found target near {el} deg elevation and {az} deg azimuth:\\n\"\n",
    "      f\"  {target}\")"
   ]
  },
  {
   "cell_type": "code",
   "execution_count": null,
   "id": "b0d4c04b-c24d-431f-9ba6-9d0079b38113",
   "metadata": {},
   "outputs": [],
   "source": [
    "await mtcs.slew_object(target, rot_type=RotType.PhysicalSky, rot=+45)\n",
    "await asyncio.sleep(30)\n",
    "await mtcs.stop_tracking()"
   ]
  },
  {
   "cell_type": "code",
   "execution_count": null,
   "id": "49315a8c-fa84-48da-9fd6-4bd1e5496dd7",
   "metadata": {},
   "outputs": [],
   "source": [
    "now = datetime.now()\n",
    "script.log.info(f\"END -- {test_message} -- Starting Time: {now} UTC\")"
   ]
  },
  {
   "cell_type": "markdown",
   "id": "a60c82b0-66c4-4552-bac5-89c27c2e5e64",
   "metadata": {},
   "source": [
    "## Execute a 2-8 hours regular observing campaign.\n",
    "\n",
    "Most of the time during operations the scheduler will be imaging a pack of the sky trying to keep the rotator close to a certain position.  \n",
    "Basically we can assume it is going to “slew” the rotator to a certain position and, from there on, track and unwind the rotator constantly for hours on end.  \n",
    "From the rotator perspective, this can be seen as something like:"
   ]
  },
  {
   "cell_type": "code",
   "execution_count": null,
   "id": "fd354404-2069-4272-9077-5fcca9110d1c",
   "metadata": {},
   "outputs": [],
   "source": [
    "now = datetime.now()\n",
    "test_message = \"LVV-T2572-C - Regular Observing Campaign\"\n",
    "script.log.info(f\"START -- {test_message} -- Starting Time: {now} UTC\")"
   ]
  },
  {
   "cell_type": "markdown",
   "id": "b2cb995d-c91b-4572-bcd5-65b3cc4e22c9",
   "metadata": {},
   "source": [
    "---\n",
    "Start with rotator position in zero."
   ]
  },
  {
   "cell_type": "code",
   "execution_count": null,
   "id": "82e1ff93-e1d0-4480-932a-712d50a4f27a",
   "metadata": {},
   "outputs": [],
   "source": [
    "await mtcs.rem.mtrotator.cmd_move.set_start(position=0.0)"
   ]
  },
  {
   "cell_type": "markdown",
   "id": "da0eaeee-9bee-4cb4-bd68-d2dad17216d8",
   "metadata": {},
   "source": [
    "Repeat 240 times (around 2 hours):  \n",
    " - Track target with starting Rotator position around -0.3 deg and tracking velocity +0.01deg/s for 30s."
   ]
  },
  {
   "cell_type": "code",
   "execution_count": null,
   "id": "97e44dc0-2dcc-4727-bc54-4c4f743776a5",
   "metadata": {},
   "outputs": [],
   "source": [
    "target = await mtcs.find_target(el=60, az=180, mag_limit=8)  # Position w/ +0.01 deg/s\n",
    "print(f\"Found target near {el} deg elevation and {az} deg azimuth:\\n\"\n",
    "      f\"  {target}\")"
   ]
  },
  {
   "cell_type": "code",
   "execution_count": null,
   "id": "93378610-da29-4d75-be81-73ce7a661436",
   "metadata": {},
   "outputs": [],
   "source": [
    "for i in range(240):\n",
    "    await mtcs.slew_object(target, rot_type=RotType.PhysicalSky, rot=-0.03)\n",
    "    await asyncio.sleep(30)\n",
    "    await mtcs.stop_tracking()\n",
    "    # await asyncio.sleep(5) # Make sure it stops before slew again"
   ]
  },
  {
   "cell_type": "code",
   "execution_count": null,
   "id": "673dcc29-7cd7-4048-9089-4b0d070a6fd9",
   "metadata": {},
   "outputs": [],
   "source": [
    "now = datetime.now()\n",
    "script.log.info(f\"END -- {test_message} -- Starting Time: {now} UTC\")"
   ]
  }
 ],
 "metadata": {
  "kernelspec": {
   "display_name": "LSST",
   "language": "python",
   "name": "lsst"
  },
  "language_info": {
   "codemirror_mode": {
    "name": "ipython",
    "version": 3
   },
   "file_extension": ".py",
   "mimetype": "text/x-python",
   "name": "python",
   "nbconvert_exporter": "python",
   "pygments_lexer": "ipython3",
   "version": "3.8.12"
  }
 },
 "nbformat": 4,
 "nbformat_minor": 5
}
