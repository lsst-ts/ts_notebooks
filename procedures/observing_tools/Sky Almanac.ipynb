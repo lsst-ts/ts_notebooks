{
 "cells": [
  {
   "cell_type": "markdown",
   "id": "81f9dd57-f22e-411c-a638-7e20aec6cb89",
   "metadata": {
    "tags": []
   },
   "source": [
    "# Sky Almanac\n",
    "\n",
    "This notebook contains some useful tools for planning the observations.  \n",
    "It calculates the sunrise/sunset and the end/beginning of each twilight based on calculations using the coordinates of Rubin and AstroPy.  \n",
    "It also plots the elevation and airmass for a series of designated targets!"
   ]
  },
  {
   "cell_type": "markdown",
   "id": "1a304079-a5f6-4d0c-81cc-30421fd634d2",
   "metadata": {},
   "source": [
    "## Import Libraries\n",
    "\n",
    "These are the libraries that we will need to run this notebook."
   ]
  },
  {
   "cell_type": "code",
   "execution_count": null,
   "id": "3dad5371-ec90-42d4-9a83-8bb0c6eaae7f",
   "metadata": {
    "tags": []
   },
   "outputs": [],
   "source": [
    "from astropy import coordinates as coord\n",
    "from astropy import units as u\n",
    "from astropy.time import Time, TimezoneInfo \n",
    "from datetime import datetime\n",
    "\n",
    "import cycler\n",
    "import numpy as np\n",
    "import matplotlib.dates as mdates\n",
    "import matplotlib.pyplot as plt\n",
    "import pandas as pd\n",
    "import pytz"
   ]
  },
  {
   "cell_type": "markdown",
   "id": "a4a7f619-879f-45ed-b2a4-b1ee4a235a0f",
   "metadata": {},
   "source": [
    "## Set Up\n",
    "\n",
    "Here are the main configuration variables that propagate accross all the functions."
   ]
  },
  {
   "cell_type": "code",
   "execution_count": null,
   "id": "c2b175d2-2ae1-482f-a137-975f41f93a13",
   "metadata": {
    "tags": []
   },
   "outputs": [],
   "source": [
    "# Vera Rubin Coordinates from https://www.lsst.org/scientists/keynumbers\n",
    "rubin_obs = coord.EarthLocation(\n",
    "    lat='-30:14:40.68', lon='-70:44:57.90', height=2647 * u.m)\n",
    "\n",
    "tz = TimezoneInfo(utc_offset=-3*u.hour)"
   ]
  },
  {
   "cell_type": "markdown",
   "id": "47e6a640-251f-43a7-a1d6-4e061c5fb055",
   "metadata": {},
   "source": [
    "Declare targets for which the sky coordinates will be calculated and the date. "
   ]
  },
  {
   "cell_type": "code",
   "execution_count": null,
   "id": "7632e124-be93-4e41-8c81-12ad3e6c6d30",
   "metadata": {
    "tags": []
   },
   "outputs": [],
   "source": [
    "targets = ['HD 14943', 'HD 185975', 'HD 031128', 'HD 185975', 'HD 074000', \n",
    "           'HD 185975']\n",
    "\n",
    "_date = \"20220216\"  # Beginning of the night"
   ]
  },
  {
   "cell_type": "markdown",
   "id": "a89124b0-217f-42fc-8e7a-23fc54e1df23",
   "metadata": {},
   "source": [
    "## Helper Functions\n",
    "\n",
    "These are functions used later in the notebook"
   ]
  },
  {
   "cell_type": "code",
   "execution_count": null,
   "id": "e58f3865-f470-4fef-b14f-2ddb25378fe6",
   "metadata": {
    "tags": []
   },
   "outputs": [],
   "source": [
    "def get_alt(t, location, time):\n",
    "    \"\"\"\n",
    "    Get the Alt (Elevation) for a given target at a given location and at a \n",
    "    given time.\n",
    "    \n",
    "    Parameters\n",
    "    ----------\n",
    "    t : string\n",
    "        Target name to be queried via Simbad.\n",
    "    location : astropy.coordinates.EarthLocation\n",
    "        Location of the observatory.\n",
    "    time : astropy.time.Time\n",
    "        Time of the observation \n",
    "        \n",
    "    Returns\n",
    "    -------\n",
    "    float : the airmass of the object in degrees.\n",
    "    \"\"\"\n",
    "    c = coord.SkyCoord.from_name(t)\n",
    "    frame = coord.AltAz(obstime=time, location=location)\n",
    "    altaz = c.transform_to(frame)\n",
    "    return altaz.alt.value\n",
    "\n",
    "\n",
    "def get_airmass(t, location, time):\n",
    "    \"\"\"\n",
    "    Get the airmass for a given target at a given location and at a given time \n",
    "    using Plane Parallel Atmosphere Model.\n",
    "    \n",
    "    Parameters\n",
    "    ----------\n",
    "    t : string\n",
    "        Target name to be queried via Simbad.\n",
    "    location : astropy.coordinates.EarthLocation\n",
    "        Location of the observatory.\n",
    "    time : astropy.time.Time\n",
    "        Time of the observation \n",
    "        \n",
    "    Returns\n",
    "    -------\n",
    "    float : the airmass of the object\n",
    "    \"\"\"\n",
    "    alt = get_alt(t, location, time)\n",
    "    z = 90 - alt\n",
    "    airmass = np.ma.masked_greater(1./np.cos(np.deg2rad(z)), 5.0)\n",
    "    return airmass\n",
    "\n",
    "\n",
    "def get_sun_elevation(t, site=rubin_obs):\n",
    "    \"\"\"\n",
    "    Gets the Sun elevation at a given site and at a given time.\n",
    "    \n",
    "    Parameters\n",
    "    ----------\n",
    "    t : datetime\n",
    "        Time in UTC\n",
    "    site : astropy.coordinates.EarthLocation\n",
    "        Location of the observation\n",
    "    \n",
    "    Returns\n",
    "    -------\n",
    "    float : the Sun elevation in Degrees.\n",
    "    \"\"\"\n",
    "    sun_coords = coord.get_sun(t)\n",
    "    sun_coords.location = rubin_obs\n",
    "    return sun_coords.altaz.alt.value\n",
    "\n",
    "\n",
    "def get_sun_when_at_angle(elevations, angle, setting=True):\n",
    "    \"\"\"\n",
    "    Get the index of the `elevations` array that is the closest to a given \n",
    "    angle depending if the Sun is rising or setting.\n",
    "    \n",
    "    Parameters\n",
    "    ----------\n",
    "    elevations : numpy.array\n",
    "        An array containing the Sun elevation.\n",
    "    angle : float\n",
    "        The requested Sun position.\n",
    "    setting : bool\n",
    "        True if the Sun is setting or False if it is Rising.\n",
    "    \n",
    "    Returns\n",
    "    -------\n",
    "    int : index associated with the requested sun position.\n",
    "    \"\"\"\n",
    "    angle_difference = np.diff(elevations)\n",
    "    angle_difference = np.insert(angle_difference, 0, 0)\n",
    "    \n",
    "    if setting:\n",
    "        _elevations = np.ma.masked_where(angle_difference >= 0, elevations)\n",
    "    else:\n",
    "        _elevations = np.ma.masked_where(angle_difference <= 0, elevations)\n",
    "        \n",
    "    return np.ma.argmin(np.ma.abs(_elevations - angle))\n",
    "\n",
    "\n",
    "def get_moon_elevation(t, site=rubin_obs):\n",
    "    \"\"\"\n",
    "    Gets the Moon elevation at a given site and at a given time.\n",
    "    \n",
    "    Parameters\n",
    "    ----------\n",
    "    t : datetime\n",
    "        Time in UTC\n",
    "    site : astropy.coordinates.EarthLocation\n",
    "        Location of the observation\n",
    "    \n",
    "    Returns\n",
    "    -------\n",
    "    float : the Sun elevation in Degrees.\n",
    "    \"\"\"\n",
    "    moon_coords = coord.get_moon(t)\n",
    "    moon_coords.location = rubin_obs\n",
    "    return moon_coords.altaz.alt.value\n",
    "\n",
    "\n",
    "def get_moon_airmass(t, site=rubin_obs):\n",
    "    \"\"\"\n",
    "    Get the airmass of the Moon for a given target at a given location and at a \n",
    "    given time.\n",
    "    \n",
    "    Parameters\n",
    "    ----------\n",
    "    t : datetime\n",
    "        Time in UTC\n",
    "    site : astropy.coordinates.EarthLocation\n",
    "        Location of the observation\n",
    "        \n",
    "    Returns\n",
    "    -------\n",
    "    float : the airmass of the object\n",
    "    \"\"\"\n",
    "    moon_elevation = get_moon_elevation(t, site)\n",
    "    z = 90 - moon_elevation\n",
    "    moon_airmass = np.ma.masked_greater(1./np.cos(np.deg2rad(z)), 5.0)\n",
    "    return moon_airmass"
   ]
  },
  {
   "cell_type": "markdown",
   "id": "99465834-c0b0-4e22-896d-480cd30a1a75",
   "metadata": {},
   "source": [
    "## Running Calculations\n",
    "\n",
    "This is where all the magic happens.  \n",
    "First, we create an array with the time range. "
   ]
  },
  {
   "cell_type": "code",
   "execution_count": null,
   "id": "80775e8f-0916-4ceb-a4b6-94ac761b02c6",
   "metadata": {
    "tags": []
   },
   "outputs": [],
   "source": [
    "times = Time.now() + np.linspace(-10, 10, 300)*u.hour"
   ]
  },
  {
   "cell_type": "markdown",
   "id": "43efb93c-940a-4073-bc66-a8f3bbc2489e",
   "metadata": {},
   "source": [
    "Then we get the airmasses/elevations for each target at different times. \n",
    "We also get the Sun and the Moon positions."
   ]
  },
  {
   "cell_type": "code",
   "execution_count": null,
   "id": "e5f461e7-5716-4f36-8b70-74c22722f782",
   "metadata": {
    "tags": []
   },
   "outputs": [],
   "source": [
    "airmasses = {t: get_airmass(t, rubin_obs, times) for t in targets}\n",
    "alts = {t: get_alt(t, rubin_obs, times) for t in targets}\n",
    "\n",
    "sun_elevation = get_sun_elevation(times, site=rubin_obs)\n",
    "moon_elevation = get_moon_elevation(times, site=rubin_obs)\n",
    "moon_airmass = get_moon_airmass(times, site=rubin_obs)"
   ]
  },
  {
   "cell_type": "markdown",
   "id": "b9461d0f-fa78-4f28-9950-74a612e5623d",
   "metadata": {},
   "source": [
    "Here we calculate the position of the Sun at the beginning of the night."
   ]
  },
  {
   "cell_type": "code",
   "execution_count": null,
   "id": "f47aa103-2ae8-47fd-8da3-0c56d250b982",
   "metadata": {
    "tags": []
   },
   "outputs": [],
   "source": [
    "# Sun Set\n",
    "sun_set = times[get_sun_when_at_angle(sun_elevation, 0)]\n",
    "\n",
    "# Civil Twilight Afternoon\n",
    "end_civil_twilight = times[get_sun_when_at_angle(sun_elevation, -6)]\n",
    "\n",
    "# Nautical Twilight Afternoon\n",
    "end_nautical_twilight = times[get_sun_when_at_angle(sun_elevation, -12)]\n",
    "\n",
    "# Astronomical Twilight Afternoon \n",
    "end_astronomical_twilight = times[get_sun_when_at_angle(sun_elevation, -18)]\n",
    "\n",
    "print(f\"\\n Afternoon\"\n",
    "      f\"\\n   Sun sets at {sun_set.to_datetime(timezone=tz)}\"\n",
    "      f\"\\n   Civil Twilight ends at {end_civil_twilight.to_datetime(timezone=tz)}\"\n",
    "      f\"\\n   Nautical Twilight ends at {end_nautical_twilight.to_datetime(timezone=tz)}\"\n",
    "      f\"\\n   Astronomical Twilight ends at {end_astronomical_twilight.to_datetime(timezone=tz)}\"\n",
    "      f\"\\n\\n\")"
   ]
  },
  {
   "cell_type": "markdown",
   "id": "8a80ee71-db9c-4810-89ae-5f7f4bde00cc",
   "metadata": {},
   "source": [
    "Here we calculate the position of the Sun at the end of the night."
   ]
  },
  {
   "cell_type": "code",
   "execution_count": null,
   "id": "79a69144-f42e-4e99-953e-91893260be92",
   "metadata": {
    "tags": []
   },
   "outputs": [],
   "source": [
    "# Astronomical Twilight  \n",
    "begin_astronomical_twilight = times[\n",
    "    get_sun_when_at_angle(sun_elevation, -18, setting=False)]\n",
    "\n",
    "# Nautical Twilight Afternoon\n",
    "begin_nautical_twilight = times[\n",
    "    get_sun_when_at_angle(sun_elevation, -12, setting=False)]\n",
    "\n",
    "# Civil Twilight Afternoon\n",
    "begin_civil_twilight = times[\n",
    "    get_sun_when_at_angle(sun_elevation, -6, setting=False)]\n",
    "\n",
    "# Sun Rise\n",
    "sun_rise = times[get_sun_when_at_angle(sun_elevation, 0, setting=False)]\n",
    "\n",
    "print(f\"\\n Morning\"\n",
    "      f\"\\n   Astronomical Twilight ends at {begin_astronomical_twilight.to_datetime(timezone=tz)}\"\n",
    "      f\"\\n   Nautical Twilight ends at {begin_nautical_twilight.to_datetime(timezone=tz)}\"\n",
    "      f\"\\n   Civil Twilight ends at {begin_civil_twilight.to_datetime(timezone=tz)}\"\n",
    "      f\"\\n   Sun sets at {sun_rise.to_datetime(timezone=tz)}\"\n",
    "      f\"\\n\\n\")"
   ]
  },
  {
   "cell_type": "markdown",
   "id": "613f2a23-ab02-4f3a-b2c9-34d922482462",
   "metadata": {},
   "source": [
    "## Plotting Target Airmass vs Time"
   ]
  },
  {
   "cell_type": "code",
   "execution_count": null,
   "id": "acfc887c-4af0-440c-9b09-ba80c42ec2aa",
   "metadata": {
    "tags": []
   },
   "outputs": [],
   "source": [
    "%matplotlib widget\n",
    "fig, ax = plt.subplots(num=\"Airmass\", dpi=120, figsize=(8, 3))\n",
    "# ax.set_prop_cycle('color', [\"darkgrey\", \"darkorange\", \"limegreen\", \"mediumpurple\", \"yellowgreen\"])\n",
    "\n",
    "for t, a in airmasses.items():\n",
    "    ax.plot(times.to_datetime(timezone=tz), a, label=t)\n",
    "\n",
    "ax.plot(times.to_datetime(timezone=tz)[::10], \n",
    "        moon_airmass[::10], 'o', markersize=10, color='gold', label='Moon')    \n",
    "    \n",
    "ax.axvspan(sun_set.to_datetime(timezone=tz), \n",
    "           end_civil_twilight.to_datetime(timezone=tz), \n",
    "           fc=\"royalblue\", alpha=0.05)\n",
    "\n",
    "ax.axvspan(end_civil_twilight.to_datetime(timezone=tz), \n",
    "           end_nautical_twilight.to_datetime(timezone=tz), \n",
    "           fc=\"royalblue\", alpha=0.15)\n",
    "\n",
    "ax.axvspan(end_nautical_twilight.to_datetime(timezone=tz), \n",
    "           end_astronomical_twilight.to_datetime(timezone=tz), \n",
    "           fc=\"royalblue\", alpha=0.3)\n",
    "\n",
    "ax.axvspan(end_astronomical_twilight.to_datetime(timezone=tz), \n",
    "           begin_astronomical_twilight.to_datetime(timezone=tz), \n",
    "           fc=\"royalblue\", alpha=0.5)\n",
    "\n",
    "ax.axvspan(begin_astronomical_twilight.to_datetime(timezone=tz), \n",
    "           begin_nautical_twilight.to_datetime(timezone=tz), \n",
    "           fc=\"royalblue\", alpha=0.3)\n",
    "\n",
    "ax.axvspan(begin_nautical_twilight.to_datetime(timezone=tz), \n",
    "           begin_civil_twilight.to_datetime(timezone=tz), \n",
    "           fc=\"royalblue\", alpha=0.15)\n",
    "\n",
    "ax.axvspan(begin_civil_twilight.to_datetime(timezone=tz), \n",
    "           sun_rise.to_datetime(timezone=tz), \n",
    "           fc=\"royalblue\", alpha=0.05)\n",
    "\n",
    "myFmt = mdates.DateFormatter(\"%H:%M\", tz=tz)\n",
    "ax.xaxis.set_major_formatter(myFmt)\n",
    "ax.invert_yaxis()\n",
    "ax.set_ylim(5, 0.5)\n",
    "ax.set_xlim(\n",
    "    (sun_set - (end_civil_twilight - sun_set)).to_datetime(timezone=tz), \n",
    "    (sun_rise + (sun_rise - begin_civil_twilight)).to_datetime(timezone=tz))\n",
    "\n",
    "ax.set_axisbelow(False)\n",
    "ax.grid(\":\", lw=0.25, color='k', alpha=0.25)\n",
    "ax.legend(loc='center left', bbox_to_anchor=(1, 0.5))\n",
    "ax.set_xlabel(\"Local time (HH:MM)\")\n",
    "ax.set_ylabel(\"Airmass\")\n",
    "\n",
    "fig.tight_layout()\n",
    "plt.show()"
   ]
  },
  {
   "cell_type": "markdown",
   "id": "143d8a5a-cf26-4f13-bb4e-dcab97704a91",
   "metadata": {},
   "source": [
    "## Plotting Target Elevation vs Time "
   ]
  },
  {
   "cell_type": "code",
   "execution_count": null,
   "id": "35cc7d8d-5dd0-4514-866e-f317f1ff42c2",
   "metadata": {
    "tags": []
   },
   "outputs": [],
   "source": [
    "%matplotlib widget\n",
    "fig, ax = plt.subplots(num=\"Elevation\", dpi=120, figsize=(8, 4))\n",
    "\n",
    "for t, a in alts.items():\n",
    "    ax.plot(times.to_datetime(timezone=tz), a, label=t)\n",
    "\n",
    "ax.plot(times.to_datetime(timezone=tz)[::10], \n",
    "        moon_elevation[::10], 'o', markersize=10, color='gold', label='Moon')     \n",
    "    \n",
    "ax.axvspan(sun_set.to_datetime(timezone=tz), \n",
    "           end_civil_twilight.to_datetime(timezone=tz), \n",
    "           fc=\"royalblue\", alpha=0.05)\n",
    "\n",
    "ax.axvspan(end_civil_twilight.to_datetime(timezone=tz), \n",
    "           end_nautical_twilight.to_datetime(timezone=tz), \n",
    "           fc=\"royalblue\", alpha=0.15)\n",
    "\n",
    "ax.axvspan(end_nautical_twilight.to_datetime(timezone=tz), \n",
    "           end_astronomical_twilight.to_datetime(timezone=tz), \n",
    "           fc=\"royalblue\", alpha=0.3)\n",
    "\n",
    "ax.axvspan(end_astronomical_twilight.to_datetime(timezone=tz), \n",
    "           begin_astronomical_twilight.to_datetime(timezone=tz), \n",
    "           fc=\"royalblue\", alpha=0.5)\n",
    "\n",
    "ax.axvspan(begin_astronomical_twilight.to_datetime(timezone=tz), \n",
    "           begin_nautical_twilight.to_datetime(timezone=tz), \n",
    "           fc=\"royalblue\", alpha=0.3)\n",
    "\n",
    "ax.axvspan(begin_nautical_twilight.to_datetime(timezone=tz), \n",
    "           begin_civil_twilight.to_datetime(timezone=tz), \n",
    "           fc=\"royalblue\", alpha=0.15)\n",
    "\n",
    "ax.axvspan(begin_civil_twilight.to_datetime(timezone=tz), \n",
    "           sun_rise.to_datetime(timezone=tz), \n",
    "           fc=\"royalblue\", alpha=0.05)\n",
    "\n",
    "ax.axvline(Time.now().to_datetime(timezone=tz), \n",
    "           color='black', lw=0.5)\n",
    "\n",
    "myFmt = mdates.DateFormatter(\"%H:%M\", tz=tz)\n",
    "ax.xaxis.set_major_formatter(myFmt)\n",
    "ax.set_axisbelow(False)\n",
    "ax.grid(\":\", lw=0.25, color='k', alpha=0.25)\n",
    "ax.legend(loc='center left', bbox_to_anchor=(1.15, 0.5))\n",
    "ax.set_xlabel(\"Local time (HH:MM)\")\n",
    "ax.set_ylabel(\"Alt [deg]\")\n",
    "ax.set_ylim(15, 90)\n",
    "ax.set_xlim(\n",
    "    (sun_set - (end_civil_twilight - sun_set)).to_datetime(timezone=tz), \n",
    "    (sun_rise + (sun_rise - begin_civil_twilight)).to_datetime(timezone=tz))\n",
    "\n",
    "\n",
    "f = lambda x: 1. / np.cos(np.deg2rad(90. - x))\n",
    "y_ticks = ax.get_yticks()\n",
    "\n",
    "ax2 = ax.twinx()\n",
    "ax2.set_yticks(y_ticks)\n",
    "ax2.set_ylim(15, 90)\n",
    "ax2.set_yticklabels([f\"{f(l):.2f}\" for l in y_ticks])\n",
    "ax2.set_ylabel(\"Airmass [--]\")\n",
    "fig.suptitle(\"Target Elevation vs Time\\n\"\n",
    "             f\"{Time.now().to_datetime(timezone=tz):%Y-%m-%d %H:%M}\")\n",
    "\n",
    "fig.tight_layout()\n",
    "plt.show()"
   ]
  }
 ],
 "metadata": {
  "kernelspec": {
   "display_name": "LSST",
   "language": "python",
   "name": "lsst"
  },
  "language_info": {
   "codemirror_mode": {
    "name": "ipython",
    "version": 3
   },
   "file_extension": ".py",
   "mimetype": "text/x-python",
   "name": "python",
   "nbconvert_exporter": "python",
   "pygments_lexer": "ipython3",
   "version": "3.8.12"
  }
 },
 "nbformat": 4,
 "nbformat_minor": 5
}
