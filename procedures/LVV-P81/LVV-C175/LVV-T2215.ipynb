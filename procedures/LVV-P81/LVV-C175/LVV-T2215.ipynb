{
 "cells": [
  {
   "cell_type": "markdown",
   "id": "ce11068e",
   "metadata": {
    "tags": []
   },
   "source": [
    "# Slew, Track and Image taking with ComCam #\n",
    "\n",
    "This notebook is used to execute the [LVV-T2215 (2.0)] test script during System Spread Integration Tests on Level 3.  \n",
    "It is part of the plan [LVV-P81] and of the test cylce [LVV-C175].   \n",
    "Execution steps are separated by horizontal lines.   \n",
    "Upon completion, save the notebook and its output as a pdf file to be attached to the test execution in JIRA.\n",
    "\n",
    "History:\n",
    " - [LVV-T2215 (1.0)] has a notebook which doesn't do the slew sequence described on the test script. For this reason the version 2.0 was created.\n",
    "\n",
    " - [LVV-T2215 (2.0)] is similar to [LVV-T2290 (2.0)] test case, but without taking a ComCam image. \n",
    " \n",
    "Execution steps are separated by horizontal lines. Upon completion, save the notebook and its output as a pdf file to be attached to the test execution in JIRA. \n",
    "\n",
    "Last executed by J. Esteves 20220408\n",
    "\n",
    "[LVV-T2215 (1.0)]: https://jira.lsstcorp.org/secure/Tests.jspa#/testCase/2590\n",
    "[LVV-T2215 (2.0)]: https://jira.lsstcorp.org/secure/Tests.jspa#/testCase/LVV-T2215\n",
    "[LVV-T2290 (2.0)]: https://jira.lsstcorp.org/secure/Tests.jspa#/testCase/LVV-T2290  \n",
    "[LVV-P81]: https://jira.lsstcorp.org/secure/Tests.jspa#/testPlan/LVV-P81\n",
    "[LVV-C175]: https://jira.lsstcorp.org/secure/Tests.jspa#/testCycle/LVV-C175"
   ]
  },
  {
   "cell_type": "markdown",
   "id": "7a6661c7-bee4-4e65-b8b0-92afb6cc4989",
   "metadata": {},
   "source": [
    "---\n",
    "## Under Construction:\n",
    "\n",
    "\n",
    "Things to do:\n",
    "\n",
    "    - Get cam hex Ready: check config; make sure LUT is on and has valid inputs; make sure hex is at LUT position  \n",
    "    - Get M2 hex (simulator) Ready: check config; make sure LUT is on and has valid inputs; make sure hex is at LUT position\n",
    "    - Test on Tucson \n"
   ]
  },
  {
   "cell_type": "code",
   "execution_count": null,
   "id": "4a4036fb-1ef2-4836-9919-15205121a200",
   "metadata": {},
   "outputs": [],
   "source": []
  },
  {
   "cell_type": "code",
   "execution_count": null,
   "id": "bb3d4994-f3db-4bab-83cc-3da28761168d",
   "metadata": {},
   "outputs": [],
   "source": [
    "from lsst.ts import utils\n",
    "\n",
    "# Extract your name from the Jupyter Hub\n",
    "__executed_by__ = os.environ[\"JUPYTERHUB_USER\"]  \n",
    "\n",
    "# Extract execution date\n",
    "__executed_on__ = utils.astropy_time_from_tai_unix(utils.current_tai())\n",
    "__executed_on__.format = \"isot\"\n",
    "\n",
    "# This is used later to define where Butler stores the images\n",
    "summit = os.environ[\"LSST_DDS_PARTITION_PREFIX\"] == \"summit\"\n",
    "\n",
    "print(f\"\\nExecuted by {__executed_by__} on {__executed_on__}.\"\n",
    "      f\"\\n  At the summit? {summit}\")"
   ]
  },
  {
   "cell_type": "markdown",
   "id": "119eff96-965f-412e-bcf7-87bb927eb4be",
   "metadata": {},
   "source": [
    "---\n",
    "## Load all the needed libraries\n",
    "\n",
    "Using the setup procedure, get the remotes and the components ready.\n",
    "\n",
    "This includes simulators as well as real hardware when available (this will depend on when the test is conducted at NCSA or on level 3 or on the telescope):\n",
    "\n",
    "- pointing  \n",
    "- mount ( with the CCW)  \n",
    "- rotator  \n",
    "- ready M1M3: raise mirror, turn on FB, clear forces. Note that if used at level 3, we need to have M1M3 LUT use mount telemetry  \n",
    "- ready M2: turn on FB, clear forces. Note that if used at level 3, we need to have M2 LUT use mount telemetry  \n",
    "- Get cam hex Ready: check config; make sure LUT is on and has valid inputs; make sure hex is at LUT position  \n",
    "- Get M2 hex (simulator) Ready: check config; make sure LUT is on and has valid inputs; make sure hex is at LUT position  \n",
    "- Finally, get the MTAOS CSC ready  "
   ]
  },
  {
   "cell_type": "markdown",
   "id": "132f744e-400b-4efa-8df0-c31263be896f",
   "metadata": {},
   "source": [
    "***\n",
    "Run the setup.ipnyb notebook to bring all components up and in their enabled position. Check Chronograph."
   ]
  },
  {
   "cell_type": "markdown",
   "id": "3de4f66b-d5ce-4980-b57e-7650a86f57e0",
   "metadata": {},
   "source": [
    "***"
   ]
  },
  {
   "cell_type": "markdown",
   "id": "8e869d4b-5b7b-4a62-bd7f-40cb4533fc1f",
   "metadata": {},
   "source": [
    "Check Chronograph."
   ]
  },
  {
   "cell_type": "code",
   "execution_count": null,
   "id": "1865d513",
   "metadata": {},
   "outputs": [],
   "source": [
    "%load_ext autoreload\n",
    "%autoreload 2"
   ]
  },
  {
   "cell_type": "code",
   "execution_count": null,
   "id": "7b5b228a",
   "metadata": {},
   "outputs": [],
   "source": [
    "import rubin_jupyter_utils.lab.notebook as nb\n",
    "nb.utils.get_node()"
   ]
  },
  {
   "cell_type": "code",
   "execution_count": null,
   "id": "ee0e379e",
   "metadata": {},
   "outputs": [],
   "source": [
    "import os\n",
    "import sys\n",
    "import asyncio\n",
    "import logging\n",
    "\n",
    "import pandas as pd\n",
    "import numpy as np\n",
    "\n",
    "from matplotlib import pyplot as plt\n",
    "from astropy.time import Time\n",
    "from datetime import datetime, timedelta\n",
    "import pandas as pd\n",
    "\n",
    "from lsst.ts import salobj\n",
    "from lsst.ts.observatory.control.maintel import MTCS, ComCam\n",
    "from lsst.ts.observatory.control import RotType"
   ]
  },
  {
   "cell_type": "code",
   "execution_count": null,
   "id": "9b4ec348",
   "metadata": {},
   "outputs": [],
   "source": [
    "logging.basicConfig(format=\"%(name)s:%(message)s\", level=logging.DEBUG)"
   ]
  },
  {
   "cell_type": "code",
   "execution_count": null,
   "id": "5cbe1cee",
   "metadata": {},
   "outputs": [],
   "source": [
    "log = logging.getLogger(\"setup\")\n",
    "log.level = logging.DEBUG"
   ]
  },
  {
   "cell_type": "code",
   "execution_count": null,
   "id": "37ef054e",
   "metadata": {},
   "outputs": [],
   "source": [
    "domain = salobj.Domain()"
   ]
  },
  {
   "cell_type": "code",
   "execution_count": null,
   "id": "3ffca8f4",
   "metadata": {},
   "outputs": [],
   "source": [
    "mtcs = MTCS(domain=domain, log=log)\n",
    "mtcs.set_rem_loglevel(40)"
   ]
  },
  {
   "cell_type": "code",
   "execution_count": null,
   "id": "bed75413",
   "metadata": {},
   "outputs": [],
   "source": [
    "await mtcs.start_task"
   ]
  },
  {
   "cell_type": "markdown",
   "id": "3e29d77c-65d8-4d22-ad46-708dcae9a571",
   "metadata": {},
   "source": [
    "---\n",
    "## Slew Sequence\n",
    "\n",
    "Exercise the telescope on elevation between 86.5º and 82.5º with 4 slews. <b> No tracking is needed </b>\n",
    "\n",
    "target_1 -> az = 180.0$^o$, el = 86.5$^o$  \n",
    "target_2 -> az = 180.0$^o$, el = 85.0$^o$  \n",
    "target_3 -> az = 180.0$^o$, el = 83.5$^o$  \n",
    "target_4 -> az = 180.0$^o$, el = 82.0$^o$  "
   ]
  },
  {
   "cell_type": "code",
   "execution_count": null,
   "id": "ff482237-b49a-49e6-90d5-00a0201d6708",
   "metadata": {},
   "outputs": [],
   "source": [
    "caution = False\n",
    "\n",
    "if not caution:\n",
    "    print(\"Slew 1: el=86.5\")\n",
    "    await mtcs.slew_azel(az=180.0, el=86.5)\n",
    "\n",
    "    print(\"Slew 2: el=85.0\")\n",
    "    await mtcs.slew_azel(az=180.0, el=85.0)\n",
    "\n",
    "    print(\"Slew 3: el=83.5\")\n",
    "    await mtcs.slew_azel(az=180.0, el=83.5)\n",
    "\n",
    "    print(\"Slew 4: el=82.0\")\n",
    "    await mtcs.slew_azel(az=180.0, el=82.0)\n",
    "    \n",
    "# await mtcs.stop_tracking()"
   ]
  },
  {
   "cell_type": "markdown",
   "id": "0cd30d55",
   "metadata": {},
   "source": [
    "***\n",
    "Slew to target 1:"
   ]
  },
  {
   "cell_type": "code",
   "execution_count": null,
   "id": "8c0f1a17",
   "metadata": {},
   "outputs": [],
   "source": [
    "await mtcs.slew_azel(az=180.0, el=86.5)"
   ]
  },
  {
   "cell_type": "markdown",
   "id": "a4b287e0-67d0-4379-b802-40b8b8b36489",
   "metadata": {},
   "source": [
    "---\n",
    "Slew to target_2:"
   ]
  },
  {
   "cell_type": "code",
   "execution_count": null,
   "id": "583ae861-12bd-4779-9bdc-7076f5f8e222",
   "metadata": {},
   "outputs": [],
   "source": [
    "await mtcs.slew_azel(az=180.0, el=85.0)"
   ]
  },
  {
   "cell_type": "markdown",
   "id": "4a8c5337-82fd-45a2-8de2-d63c836872a6",
   "metadata": {},
   "source": [
    "---\n",
    "Slew to target_3"
   ]
  },
  {
   "cell_type": "code",
   "execution_count": null,
   "id": "910e9297-6693-4d64-ac20-4d5678f5db4c",
   "metadata": {},
   "outputs": [],
   "source": [
    "await mtcs.slew_azel(az=180.0, el=83.5)"
   ]
  },
  {
   "cell_type": "markdown",
   "id": "72e7270c-6abb-457b-8990-dd1beae418be",
   "metadata": {},
   "source": [
    "---\n",
    "Slew to target 4"
   ]
  },
  {
   "cell_type": "code",
   "execution_count": null,
   "id": "7eb89e5c-09b1-4867-a4ae-d99944d725da",
   "metadata": {},
   "outputs": [],
   "source": [
    "await mtcs.slew_azel(az=180.0, el=82.0)"
   ]
  },
  {
   "cell_type": "markdown",
   "id": "f51d3502-6ca4-4a02-8a77-ae32b91be313",
   "metadata": {},
   "source": [
    "---\n",
    "Stop tracking to prevent hitting the Rotator soft limit."
   ]
  },
  {
   "cell_type": "code",
   "execution_count": null,
   "id": "5f82ae6f",
   "metadata": {},
   "outputs": [],
   "source": [
    "await mtcs.stop_tracking()"
   ]
  },
  {
   "cell_type": "markdown",
   "id": "2213f0f3-a619-4a25-93b4-27a6ff0a2672",
   "metadata": {},
   "source": [
    "***\n",
    "## Plot The Results\n"
   ]
  },
  {
   "cell_type": "code",
   "execution_count": null,
   "id": "ed35b5e8-b211-46fb-a256-a70ed3fb1a3d",
   "metadata": {},
   "outputs": [],
   "source": [
    "end = Time(datetime.now(), scale='tai')\n",
    "start = end - timedelta(seconds=1000)\n",
    "\n",
    "dfm = await client.select_time_series('lsst.sal.MTMount.elevation', '*', start, end, csc_index)\n",
    "dfm1m3 = await client.select_time_series('lsst.sal.MTM1M3.logevent_appliedElevationForces', '*', start, end, csc_index)\n",
    "dfm2 = await client.select_time_series('lsst.sal.MTM2.axialForce', '*', start, end, csc_index)\n",
    "dfh = await client.select_time_series('lsst.sal.MTHexapod.application', '*', start, end, csc_index)\n",
    "\n",
    "idx1=dfh.MTHexapodID==1\n",
    "dfh1 = dfh[idx1]\n",
    "idx2=dfh.MTHexapodID==2\n",
    "dfh2 = dfh[idx2]\n",
    "\n",
    "fig, ax = plt.subplots(1,1, figsize=(15,4))\n",
    "plt.plot(dfm.actualPosition, '--', label='mount elevation')\n",
    "plt.plot(dfm1m3.yForces0, label='M1M3 elevation y-force 101')\n",
    "plt.plot(dfm2.lutGravity0, label='M2 elevation force B1')\n",
    "plt.plot(dfh1.position1, label='Camera hexapod y')\n",
    "plt.plot(dfh2.position1, label='M2 hexapod y')\n",
    "plt.grid()\n",
    "plt.legend()"
   ]
  },
  {
   "cell_type": "code",
   "execution_count": null,
   "id": "6f5e9d3d-0894-4331-a4e1-664e5d6d788f",
   "metadata": {},
   "outputs": [],
   "source": []
  },
  {
   "cell_type": "markdown",
   "id": "26eb67e7",
   "metadata": {},
   "source": [
    "***\n",
    "## Wrap Up and Shut Down\n",
    "\n",
    "This cell is not currently included as part of the test execution, but included here as needed to shutdown the systems"
   ]
  },
  {
   "cell_type": "code",
   "execution_count": null,
   "id": "205efdfb",
   "metadata": {},
   "outputs": [],
   "source": [
    "await mtcs.set_state(salobj.State.STANDBY, components=[\"mtaos\"])"
   ]
  },
  {
   "cell_type": "code",
   "execution_count": null,
   "id": "4422cced",
   "metadata": {},
   "outputs": [],
   "source": [
    "await mtcs.lower_m1m3()"
   ]
  },
  {
   "cell_type": "code",
   "execution_count": null,
   "id": "56bd32da",
   "metadata": {},
   "outputs": [],
   "source": [
    "await mtcs.set_state(salobj.State.STANDBY, components=[\"mtm1m3\"])"
   ]
  },
  {
   "cell_type": "code",
   "execution_count": null,
   "id": "219b074f",
   "metadata": {},
   "outputs": [],
   "source": [
    "await mtcs.set_state(salobj.State.STANDBY, components=[\"mtm2\"])"
   ]
  },
  {
   "cell_type": "code",
   "execution_count": null,
   "id": "16eafb32",
   "metadata": {},
   "outputs": [],
   "source": [
    "await mtcs.set_state(salobj.State.STANDBY, components=[\"mthexapod_1\"])"
   ]
  },
  {
   "cell_type": "code",
   "execution_count": null,
   "id": "3627f687",
   "metadata": {},
   "outputs": [],
   "source": [
    "await mtcs.set_state(salobj.State.STANDBY, components=[\"mthexapod_2\"])"
   ]
  },
  {
   "cell_type": "code",
   "execution_count": null,
   "id": "d1cfb6df",
   "metadata": {},
   "outputs": [],
   "source": [
    "await mtcs.standby()"
   ]
  },
  {
   "cell_type": "code",
   "execution_count": null,
   "id": "69099002-74ec-48c8-831f-bc24c2ffd1ca",
   "metadata": {},
   "outputs": [],
   "source": []
  }
 ],
 "metadata": {
  "kernelspec": {
   "display_name": "LSST",
   "language": "python",
   "name": "lsst"
  },
  "language_info": {
   "codemirror_mode": {
    "name": "ipython",
    "version": 3
   },
   "file_extension": ".py",
   "mimetype": "text/x-python",
   "name": "python",
   "nbconvert_exporter": "python",
   "pygments_lexer": "ipython3",
   "version": "3.8.13"
  },
  "toc-autonumbering": false
 },
 "nbformat": 4,
 "nbformat_minor": 5
}
