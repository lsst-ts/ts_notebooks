{
 "cells": [
  {
   "cell_type": "markdown",
   "id": "ce11068e",
   "metadata": {},
   "source": [
    "# Slew, Track and Image taking with ComCam #\n",
    "\n",
    "This notebook is used for the level 3 integration tests from test plan LVV-P81 (https://jira.lsstcorp.org/secure/Tests.jspa#/testPlan/LVV-P81) as part of test cylce LVV-C176 (https://jira.lsstcorp.org/secure/Tests.jspa#/testCycle/LVV-C176). The following tests are currently run as part of this notebook:\n",
    "\n",
    " - LVV-T2290 (https://jira.lsstcorp.org/secure/Tests.jspa#/testCase/LVV-T2290)\n",
    " \n",
    "Execution steps are separated by horizontal lines. Upon completion, save the notebook and its output as a pdf file to be attached to the test execution in JIRA. \n",
    "\n",
    "Last executed by E. Dennihy 20210928"
   ]
  },
  {
   "cell_type": "markdown",
   "id": "97d0f9bb",
   "metadata": {},
   "source": [
    "***\n",
    "Run the setup.ipnyb notebook to bring all components up and in their enabled position. Check Chronograph."
   ]
  },
  {
   "cell_type": "markdown",
   "id": "062ad436",
   "metadata": {},
   "source": [
    "***"
   ]
  },
  {
   "cell_type": "markdown",
   "id": "f1966366",
   "metadata": {},
   "source": [
    "Bring ComCom online and tranistion it to EnabledState. Check Chronograph."
   ]
  },
  {
   "cell_type": "code",
   "execution_count": null,
   "id": "1865d513",
   "metadata": {},
   "outputs": [],
   "source": [
    "%load_ext autoreload\n",
    "%autoreload 2"
   ]
  },
  {
   "cell_type": "code",
   "execution_count": null,
   "id": "7b5b228a",
   "metadata": {},
   "outputs": [],
   "source": [
    "import rubin_jupyter_utils.lab.notebook as nb\n",
    "nb.utils.get_node()"
   ]
  },
  {
   "cell_type": "code",
   "execution_count": null,
   "id": "ee0e379e",
   "metadata": {},
   "outputs": [],
   "source": [
    "import os\n",
    "import sys\n",
    "import asyncio\n",
    "import logging\n",
    "\n",
    "import pandas as pd\n",
    "import numpy as np\n",
    "\n",
    "from matplotlib import pyplot as plt\n",
    "\n",
    "from lsst.ts import salobj\n",
    "from lsst.ts.observatory.control.maintel import MTCS, ComCam\n",
    "from lsst.ts.observatory.control import RotType"
   ]
  },
  {
   "cell_type": "code",
   "execution_count": null,
   "id": "9b4ec348",
   "metadata": {},
   "outputs": [],
   "source": [
    "logging.basicConfig(format=\"%(name)s:%(message)s\", level=logging.DEBUG)"
   ]
  },
  {
   "cell_type": "code",
   "execution_count": null,
   "id": "5cbe1cee",
   "metadata": {},
   "outputs": [],
   "source": [
    "log = logging.getLogger(\"setup\")\n",
    "log.level = logging.DEBUG"
   ]
  },
  {
   "cell_type": "code",
   "execution_count": null,
   "id": "37ef054e",
   "metadata": {},
   "outputs": [],
   "source": [
    "domain = salobj.Domain()"
   ]
  },
  {
   "cell_type": "code",
   "execution_count": null,
   "id": "3ffca8f4",
   "metadata": {},
   "outputs": [],
   "source": [
    "mtcs = MTCS(domain=domain, log=log)\n",
    "mtcs.set_rem_loglevel(40)"
   ]
  },
  {
   "cell_type": "code",
   "execution_count": null,
   "id": "bed75413",
   "metadata": {},
   "outputs": [],
   "source": [
    "await mtcs.start_task"
   ]
  },
  {
   "cell_type": "code",
   "execution_count": null,
   "id": "0220ad01",
   "metadata": {},
   "outputs": [],
   "source": [
    "comcam = ComCam(domain=domain, log=log)"
   ]
  },
  {
   "cell_type": "code",
   "execution_count": null,
   "id": "1dff51ea",
   "metadata": {},
   "outputs": [],
   "source": [
    "comcam.set_rem_loglevel(40)"
   ]
  },
  {
   "cell_type": "code",
   "execution_count": null,
   "id": "55175018",
   "metadata": {},
   "outputs": [],
   "source": [
    "await comcam.start_task"
   ]
  },
  {
   "cell_type": "code",
   "execution_count": null,
   "id": "cacc7c38",
   "metadata": {},
   "outputs": [],
   "source": [
    "await comcam.enable()"
   ]
  },
  {
   "cell_type": "markdown",
   "id": "3e29d77c-65d8-4d22-ad46-708dcae9a571",
   "metadata": {},
   "source": [
    "---\n",
    "\n",
    "Find four targets separated by 5º in azimuth and elevation in a square pattern around az = 120º and el = 60º and rotator angle at PhysicalSky and 1.8º.\n",
    "\n",
    "At this position, the rotator stays within a couple of degrees of its initial position. This is because the CCW is not running (MTmount in simulation mode).\n",
    "\n",
    "target_1 -> az = 117.5$^o$, el = 57.5$^o$  \n",
    "target_2 -> az = 122.5$^o$, el =57.5$^o$  \n",
    "target_3 -> az = 122.5$^o$, el=62.5$^o$  \n",
    "target_4 -> az = 117.5$^o$, el = 62.5$^o$  "
   ]
  },
  {
   "cell_type": "code",
   "execution_count": null,
   "id": "1bbe942b-3063-4102-89dd-b087337cbe53",
   "metadata": {},
   "outputs": [],
   "source": [
    "target_1 = await mtcs.find_target(az=117.5, el=57.5, mag_limit=8)\n",
    "target_2 = await mtcs.find_target(az=122.5, el=57.5, mag_limit=8)\n",
    "target_3 = await mtcs.find_target(az=122.5, el=62.5, mag_limit=8)\n",
    "target_4 = await mtcs.find_target(az=117.5, el=62.5, mag_limit=8)\n",
    "\n",
    "print(f\"Target 1: {target_1}\"\n",
    "      f\"Target 2: {target_2}\"\n",
    "      f\"Target 3: {target_3}\"\n",
    "      f\"Target 4: {target_4}\")"
   ]
  },
  {
   "cell_type": "markdown",
   "id": "0cd30d55",
   "metadata": {},
   "source": [
    "***\n",
    "Slew to target 1:"
   ]
  },
  {
   "cell_type": "code",
   "execution_count": null,
   "id": "8c0f1a17",
   "metadata": {},
   "outputs": [],
   "source": [
    "await mtcs.slew_object(target_1, rot_type=RotType.PhysicalSky, rot=1.9)"
   ]
  },
  {
   "cell_type": "markdown",
   "id": "6d0aa8ff",
   "metadata": {},
   "source": [
    "***\n",
    "Once on target_1 and tracking, take an image with ComCam"
   ]
  },
  {
   "cell_type": "code",
   "execution_count": null,
   "id": "b4e272fb",
   "metadata": {},
   "outputs": [],
   "source": [
    "exp1 = await comcam.take_object(15)\n",
    "print(f\"Target 1 exposure: {exp1}\")"
   ]
  },
  {
   "cell_type": "markdown",
   "id": "a4b287e0-67d0-4379-b802-40b8b8b36489",
   "metadata": {},
   "source": [
    "---\n",
    "Slew to target_2:"
   ]
  },
  {
   "cell_type": "code",
   "execution_count": null,
   "id": "583ae861-12bd-4779-9bdc-7076f5f8e222",
   "metadata": {},
   "outputs": [],
   "source": [
    "await mtcs.slew_object(target_2, rot_type=RotType.PhysicalSky, rot=1.9)"
   ]
  },
  {
   "cell_type": "markdown",
   "id": "dae9732d-7470-4f36-ab9d-ecf1b6c33bbf",
   "metadata": {},
   "source": [
    "***\n",
    "Once on target_2 and tracking, take an image with ComCam"
   ]
  },
  {
   "cell_type": "code",
   "execution_count": null,
   "id": "cfdba4cb-11b7-4185-8f4b-2028c8361ceb",
   "metadata": {},
   "outputs": [],
   "source": [
    "exp2 = await comcam.take_object(15)\n",
    "print(f\"Target 1 exposure: {exp2}\")"
   ]
  },
  {
   "cell_type": "markdown",
   "id": "4a8c5337-82fd-45a2-8de2-d63c836872a6",
   "metadata": {},
   "source": [
    "---\n",
    "Slew to target_3"
   ]
  },
  {
   "cell_type": "code",
   "execution_count": null,
   "id": "910e9297-6693-4d64-ac20-4d5678f5db4c",
   "metadata": {},
   "outputs": [],
   "source": [
    "await mtcs.slew_object(target_3, rot_type=RotType.PhysicalSky, rot=1.9)"
   ]
  },
  {
   "cell_type": "markdown",
   "id": "121f97c3-98fc-42f5-9b08-cbbe8723b8f0",
   "metadata": {},
   "source": [
    "***\n",
    "Once on target_3 and tracking, take an image with ComCam"
   ]
  },
  {
   "cell_type": "code",
   "execution_count": null,
   "id": "f3a2da13-502d-4503-bf28-cb4e23004b5f",
   "metadata": {},
   "outputs": [],
   "source": [
    "exp3 = await comcam.take_object(15)\n",
    "print(f\"Target 1 exposure: {exp3}\")"
   ]
  },
  {
   "cell_type": "markdown",
   "id": "72e7270c-6abb-457b-8990-dd1beae418be",
   "metadata": {},
   "source": [
    "---\n",
    "Slew to target 4"
   ]
  },
  {
   "cell_type": "code",
   "execution_count": null,
   "id": "7eb89e5c-09b1-4867-a4ae-d99944d725da",
   "metadata": {},
   "outputs": [],
   "source": [
    "await mtcs.slew_object(target_4, rot_type=RotType.PhysicalSky, rot=1.9)"
   ]
  },
  {
   "cell_type": "markdown",
   "id": "1d22fd89-0048-496d-a95f-e896ee31f274",
   "metadata": {},
   "source": [
    "---\n",
    "Once on target_4 and tracking, take an image with ComCam"
   ]
  },
  {
   "cell_type": "code",
   "execution_count": null,
   "id": "119a65e7-1939-4fb3-b2a6-139d8c06b2a3",
   "metadata": {},
   "outputs": [],
   "source": [
    "exp4 = await comcam.take_object(15)\n",
    "print(f\"Target 1 exposure: {exp4}\")"
   ]
  },
  {
   "cell_type": "markdown",
   "id": "f51d3502-6ca4-4a02-8a77-ae32b91be313",
   "metadata": {},
   "source": [
    "---\n",
    "Stop tracking to prevent hitting the Rotator soft limit."
   ]
  },
  {
   "cell_type": "code",
   "execution_count": null,
   "id": "5f82ae6f",
   "metadata": {},
   "outputs": [],
   "source": [
    "await mtcs.stop_tracking()"
   ]
  },
  {
   "cell_type": "markdown",
   "id": "a9223a5d",
   "metadata": {},
   "source": [
    "***\n",
    "Use ComCam recent images CCS to ensure that the images were taken (http://ccs.lsst.org/RecentImages/comcam.html). "
   ]
  },
  {
   "cell_type": "markdown",
   "id": "7b4fe4a0",
   "metadata": {},
   "source": [
    "***\n",
    "Query the butler to verify that the images are there and check the metadata. This step must be verified using a separate noteboook. "
   ]
  },
  {
   "cell_type": "markdown",
   "id": "26eb67e7",
   "metadata": {},
   "source": [
    "***\n",
    "Wrap Up and Shut Down\n",
    "\n",
    "This cell is not currently included as part of the test execution, but included here as needed to shutdown the systems"
   ]
  },
  {
   "cell_type": "code",
   "execution_count": null,
   "id": "205efdfb",
   "metadata": {},
   "outputs": [],
   "source": [
    "await mtcs.set_state(salobj.State.STANDBY, components=[\"mtaos\"])"
   ]
  },
  {
   "cell_type": "code",
   "execution_count": null,
   "id": "4422cced",
   "metadata": {},
   "outputs": [],
   "source": [
    "await mtcs.lower_m1m3()"
   ]
  },
  {
   "cell_type": "code",
   "execution_count": null,
   "id": "56bd32da",
   "metadata": {},
   "outputs": [],
   "source": [
    "await mtcs.set_state(salobj.State.STANDBY, components=[\"mtm1m3\"])"
   ]
  },
  {
   "cell_type": "code",
   "execution_count": null,
   "id": "219b074f",
   "metadata": {},
   "outputs": [],
   "source": [
    "await mtcs.set_state(salobj.State.STANDBY, components=[\"mtm2\"])"
   ]
  },
  {
   "cell_type": "code",
   "execution_count": null,
   "id": "16eafb32",
   "metadata": {},
   "outputs": [],
   "source": [
    "await mtcs.set_state(salobj.State.STANDBY, components=[\"mthexapod_1\"])"
   ]
  },
  {
   "cell_type": "code",
   "execution_count": null,
   "id": "3627f687",
   "metadata": {},
   "outputs": [],
   "source": [
    "await mtcs.set_state(salobj.State.STANDBY, components=[\"mthexapod_2\"])"
   ]
  },
  {
   "cell_type": "code",
   "execution_count": null,
   "id": "d1cfb6df",
   "metadata": {},
   "outputs": [],
   "source": [
    "await mtcs.standby()"
   ]
  },
  {
   "cell_type": "code",
   "execution_count": null,
   "id": "6b1071ad",
   "metadata": {},
   "outputs": [],
   "source": [
    "await comcam.standby()"
   ]
  }
 ],
 "metadata": {
  "kernelspec": {
   "display_name": "LSST",
   "language": "python",
   "name": "lsst"
  },
  "language_info": {
   "codemirror_mode": {
    "name": "ipython",
    "version": 3
   },
   "file_extension": ".py",
   "mimetype": "text/x-python",
   "name": "python",
   "nbconvert_exporter": "python",
   "pygments_lexer": "ipython3",
   "version": "3.8.8"
  },
  "toc-autonumbering": false
 },
 "nbformat": 4,
 "nbformat_minor": 5
}
