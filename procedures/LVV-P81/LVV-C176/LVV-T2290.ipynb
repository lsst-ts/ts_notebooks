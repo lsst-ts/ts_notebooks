{
 "cells": [
  {
   "cell_type": "markdown",
   "id": "95533887",
   "metadata": {},
   "source": [
    "# Description #\n",
    "\n",
    "This notebook is used for the level 3 integration tests from test plan LVV-P81 (https://jira.lsstcorp.org/secure/Tests.jspa#/testPlan/LVV-P81) as part of test cylce LVV-C176 (https://jira.lsstcorp.org/secure/Tests.jspa#/testCycle/LVV-C176). The following tests are currently run as part of this notebook:\n",
    "\n",
    " - LVV-T2290 (https://jira.lsstcorp.org/secure/Tests.jspa#/testCase/LVV-T2290)\n",
    " \n",
    "Upon completion, save the notebook and its output as a pdf file to be attached to the test execution in JIRA. \n",
    "\n",
    "Last executed by E. Dennihy 20210928"
   ]
  },
  {
   "cell_type": "markdown",
   "id": "53c688f3",
   "metadata": {},
   "source": [
    "## Steps 1-2 ##\n",
    "\n",
    "This is a generic notebook setup step, it can be considered as part of execution steps 1+2."
   ]
  },
  {
   "cell_type": "code",
   "execution_count": null,
   "id": "96a6cc7c",
   "metadata": {},
   "outputs": [],
   "source": [
    "%load_ext autoreload\n",
    "%autoreload 2"
   ]
  },
  {
   "cell_type": "code",
   "execution_count": null,
   "id": "5dc451c0",
   "metadata": {},
   "outputs": [],
   "source": [
    "import rubin_jupyter_utils.lab.notebook as nb\n",
    "nb.utils.get_node()"
   ]
  },
  {
   "cell_type": "code",
   "execution_count": null,
   "id": "86a10c9f",
   "metadata": {},
   "outputs": [],
   "source": [
    "import os\n",
    "import sys\n",
    "import asyncio\n",
    "import logging\n",
    "\n",
    "import pandas as pd\n",
    "import numpy as np\n",
    "\n",
    "from matplotlib import pyplot as plt\n",
    "\n",
    "from lsst.ts import salobj\n",
    "from lsst.ts.observatory.control.maintel import MTCS, ComCam\n",
    "from lsst.ts.observatory.control import RotType"
   ]
  },
  {
   "cell_type": "code",
   "execution_count": null,
   "id": "513bece9",
   "metadata": {},
   "outputs": [],
   "source": [
    "logging.basicConfig(format=\"%(name)s:%(message)s\", level=logging.DEBUG)"
   ]
  },
  {
   "cell_type": "code",
   "execution_count": null,
   "id": "a1a53f03",
   "metadata": {},
   "outputs": [],
   "source": [
    "log = logging.getLogger(\"setup\")\n",
    "log.level = logging.DEBUG"
   ]
  },
  {
   "cell_type": "code",
   "execution_count": null,
   "id": "58b7423f",
   "metadata": {},
   "outputs": [],
   "source": [
    "domain = salobj.Domain()"
   ]
  },
  {
   "cell_type": "code",
   "execution_count": null,
   "id": "08589309",
   "metadata": {},
   "outputs": [],
   "source": [
    "mtcs = MTCS(domain=domain, log=log)\n",
    "mtcs.set_rem_loglevel(40)"
   ]
  },
  {
   "cell_type": "code",
   "execution_count": null,
   "id": "7cdb9504",
   "metadata": {},
   "outputs": [],
   "source": [
    "await mtcs.start_task"
   ]
  },
  {
   "cell_type": "markdown",
   "id": "35bdff85",
   "metadata": {},
   "source": [
    "## Step 3 ##\n",
    "\n",
    "Bring ComCom online and tranistion it to EnabledState. Check Chronograph."
   ]
  },
  {
   "cell_type": "code",
   "execution_count": null,
   "id": "9a4b02f4",
   "metadata": {},
   "outputs": [],
   "source": [
    "comcam = ComCam(domain=domain, log=log)"
   ]
  },
  {
   "cell_type": "code",
   "execution_count": null,
   "id": "c176276f",
   "metadata": {},
   "outputs": [],
   "source": [
    "comcam.set_rem_loglevel(40)"
   ]
  },
  {
   "cell_type": "code",
   "execution_count": null,
   "id": "1ccd3fda",
   "metadata": {},
   "outputs": [],
   "source": [
    "await comcam.start_task"
   ]
  },
  {
   "cell_type": "code",
   "execution_count": null,
   "id": "0dcfc241",
   "metadata": {},
   "outputs": [],
   "source": [
    "await comcam.enable()"
   ]
  },
  {
   "cell_type": "markdown",
   "id": "1621db7d",
   "metadata": {},
   "source": [
    "## Step 4 ##\n",
    "Slew to the next target. Choose a target such that the rotator stays within a couple of degrees of its initial position. This is because the CCW is not running (MTmount in simulation mode)."
   ]
  },
  {
   "cell_type": "code",
   "execution_count": null,
   "id": "90e6e4ff",
   "metadata": {},
   "outputs": [],
   "source": [
    "target = await mtcs.find_target(el=60, az=120, mag_limit=8)\n",
    "print(target)"
   ]
  },
  {
   "cell_type": "code",
   "execution_count": null,
   "id": "bb576616",
   "metadata": {},
   "outputs": [],
   "source": [
    "await mtcs.slew_object(target, rot_type=RotType.PhysicalSky, rot=1.9)"
   ]
  },
  {
   "cell_type": "markdown",
   "id": "89931676",
   "metadata": {},
   "source": [
    "## Step 5 ##\n",
    "\n",
    "Once in position and tracking, take an image with ComCam"
   ]
  },
  {
   "cell_type": "code",
   "execution_count": null,
   "id": "b37ec570",
   "metadata": {},
   "outputs": [],
   "source": [
    "await comcam.take_object(15)"
   ]
  },
  {
   "cell_type": "code",
   "execution_count": null,
   "id": "301df818",
   "metadata": {},
   "outputs": [],
   "source": [
    "await mtcs.stop_tracking()"
   ]
  },
  {
   "cell_type": "markdown",
   "id": "b3bb31d1",
   "metadata": {},
   "source": [
    "## Step 6 ##\n",
    "\n",
    "Use ComCam recent images CCS to ensure that the image was taken (http://ccs.lsst.org/RecentImages/comcam.html). This step does not involve running any commands in this notebook."
   ]
  },
  {
   "cell_type": "markdown",
   "id": "97a413f9",
   "metadata": {},
   "source": [
    "## Step 7 ##\n",
    "\n",
    "Query the butler to verify that the images are there and check the metadata. This step does not currently involve running any commands in this notebook. This step must be verified using a separate noteboook. "
   ]
  },
  {
   "cell_type": "markdown",
   "id": "d662e90e",
   "metadata": {},
   "source": [
    "## Wrap Up and Shut Down ##\n",
    "\n",
    "This cell is not currently included as part of the test execution, but included here as needed to shutdown the systems"
   ]
  },
  {
   "cell_type": "code",
   "execution_count": null,
   "id": "06bef87c",
   "metadata": {},
   "outputs": [],
   "source": [
    "await mtcs.set_state(salobj.State.STANDBY, components=[\"mtaos\"])"
   ]
  },
  {
   "cell_type": "code",
   "execution_count": null,
   "id": "b41240d3",
   "metadata": {},
   "outputs": [],
   "source": [
    "await mtcs.lower_m1m3()"
   ]
  },
  {
   "cell_type": "code",
   "execution_count": null,
   "id": "681c13a8",
   "metadata": {},
   "outputs": [],
   "source": [
    "await mtcs.set_state(salobj.State.STANDBY, components=[\"mtm1m3\"])"
   ]
  },
  {
   "cell_type": "code",
   "execution_count": null,
   "id": "db1fd68a",
   "metadata": {},
   "outputs": [],
   "source": [
    "await mtcs.set_state(salobj.State.STANDBY, components=[\"mtm2\"])"
   ]
  },
  {
   "cell_type": "code",
   "execution_count": null,
   "id": "52675d30",
   "metadata": {},
   "outputs": [],
   "source": [
    "await mtcs.set_state(salobj.State.STANDBY, components=[\"mthexapod_1\"])"
   ]
  },
  {
   "cell_type": "code",
   "execution_count": null,
   "id": "f0fb037c",
   "metadata": {},
   "outputs": [],
   "source": [
    "await mtcs.set_state(salobj.State.STANDBY, components=[\"mthexapod_2\"])"
   ]
  },
  {
   "cell_type": "code",
   "execution_count": null,
   "id": "3e65209c",
   "metadata": {},
   "outputs": [],
   "source": [
    "await mtcs.standby()"
   ]
  },
  {
   "cell_type": "code",
   "execution_count": null,
   "id": "ca28505f",
   "metadata": {},
   "outputs": [],
   "source": [
    "await comcam.standby()"
   ]
  }
 ],
 "metadata": {
  "kernelspec": {
   "display_name": "LSST",
   "language": "python",
   "name": "lsst"
  },
  "language_info": {
   "codemirror_mode": {
    "name": "ipython",
    "version": 3
   },
   "file_extension": ".py",
   "mimetype": "text/x-python",
   "name": "python",
   "nbconvert_exporter": "python",
   "pygments_lexer": "ipython3",
   "version": "3.8.8"
  },
  "toc-autonumbering": false
 },
 "nbformat": 4,
 "nbformat_minor": 5
}
