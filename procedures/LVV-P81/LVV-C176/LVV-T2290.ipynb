{
 "cells": [
  {
   "cell_type": "markdown",
   "id": "259d30c6",
   "metadata": {},
   "source": [
    "# Description #\n",
    "\n",
    "This notebook is used for the level 3 integration tests from test plan LVV-P81 (https://jira.lsstcorp.org/secure/Tests.jspa#/testPlan/LVV-P81) as part of test cylce LVV-C176 (https://jira.lsstcorp.org/secure/Tests.jspa#/testCycle/LVV-C176). The following tests are currently run as part of this notebook:\n",
    "\n",
    " - LVV-T2290 (https://jira.lsstcorp.org/secure/Tests.jspa#/testCase/LVV-T2290)\n",
    " \n",
    "Upon completion, save the notebook and its output as a pdf file to be attached to the test execution in JIRA. \n",
    "\n",
    "Last executed by E. Dennihy 20210928"
   ]
  },
  {
   "cell_type": "markdown",
   "id": "0748d462",
   "metadata": {},
   "source": [
    "## Steps 1-2 ##\n",
    "\n",
    "This is a generic notebook setup step, it can be considered as part of execution steps 1+2."
   ]
  },
  {
   "cell_type": "code",
   "execution_count": null,
   "id": "8210da50",
   "metadata": {},
   "outputs": [],
   "source": [
    "%load_ext autoreload\n",
    "%autoreload 2"
   ]
  },
  {
   "cell_type": "code",
   "execution_count": null,
   "id": "63dcf7cf",
   "metadata": {},
   "outputs": [],
   "source": [
    "import rubin_jupyter_utils.lab.notebook as nb\n",
    "nb.utils.get_node()"
   ]
  },
  {
   "cell_type": "code",
   "execution_count": null,
   "id": "c5b842a8",
   "metadata": {},
   "outputs": [],
   "source": [
    "import os\n",
    "import sys\n",
    "import asyncio\n",
    "import logging\n",
    "\n",
    "import pandas as pd\n",
    "import numpy as np\n",
    "\n",
    "from matplotlib import pyplot as plt\n",
    "\n",
    "from lsst.ts import salobj\n",
    "from lsst.ts.observatory.control.maintel import MTCS, ComCam\n",
    "from lsst.ts.observatory.control import RotType"
   ]
  },
  {
   "cell_type": "code",
   "execution_count": null,
   "id": "05cd5d17",
   "metadata": {},
   "outputs": [],
   "source": [
    "logging.basicConfig(format=\"%(name)s:%(message)s\", level=logging.DEBUG)"
   ]
  },
  {
   "cell_type": "code",
   "execution_count": null,
   "id": "cdf72aa2",
   "metadata": {},
   "outputs": [],
   "source": [
    "log = logging.getLogger(\"setup\")\n",
    "log.level = logging.DEBUG"
   ]
  },
  {
   "cell_type": "code",
   "execution_count": null,
   "id": "51655b05",
   "metadata": {},
   "outputs": [],
   "source": [
    "domain = salobj.Domain()"
   ]
  },
  {
   "cell_type": "code",
   "execution_count": null,
   "id": "26cde2d4",
   "metadata": {},
   "outputs": [],
   "source": [
    "mtcs = MTCS(domain=domain, log=log)\n",
    "mtcs.set_rem_loglevel(40)"
   ]
  },
  {
   "cell_type": "code",
   "execution_count": null,
   "id": "2f0e0254",
   "metadata": {},
   "outputs": [],
   "source": [
    "await mtcs.start_task"
   ]
  },
  {
   "cell_type": "markdown",
   "id": "688b7030",
   "metadata": {},
   "source": [
    "## Step 3 ##\n",
    "\n",
    "Bring ComCom online and tranistion it to EnabledState. Check Chronograph."
   ]
  },
  {
   "cell_type": "code",
   "execution_count": null,
   "id": "b2ee65df",
   "metadata": {},
   "outputs": [],
   "source": [
    "comcam = ComCam(domain=domain, log=log)"
   ]
  },
  {
   "cell_type": "code",
   "execution_count": null,
   "id": "accee89e",
   "metadata": {},
   "outputs": [],
   "source": [
    "comcam.set_rem_loglevel(40)"
   ]
  },
  {
   "cell_type": "code",
   "execution_count": null,
   "id": "bdccdb6d",
   "metadata": {},
   "outputs": [],
   "source": [
    "await comcam.start_task"
   ]
  },
  {
   "cell_type": "code",
   "execution_count": null,
   "id": "8be29a97",
   "metadata": {},
   "outputs": [],
   "source": [
    "await comcam.enable()"
   ]
  },
  {
   "cell_type": "markdown",
   "id": "9961cfed",
   "metadata": {},
   "source": [
    "## Step 4 ##\n",
    "Slew to the next target. Choose a target such that the rotator stays within a couple of degrees of its initial position. This is because the CCW is not running (MTmount in simulation mode)."
   ]
  },
  {
   "cell_type": "code",
   "execution_count": null,
   "id": "bec17f59",
   "metadata": {},
   "outputs": [],
   "source": [
    "target = await mtcs.find_target(el=60, az=120, mag_limit=8)\n",
    "print(target)"
   ]
  },
  {
   "cell_type": "code",
   "execution_count": null,
   "id": "778c5593",
   "metadata": {},
   "outputs": [],
   "source": [
    "await mtcs.slew_object(target, rot_type=RotType.PhysicalSky, rot=1.9)"
   ]
  },
  {
   "cell_type": "markdown",
   "id": "73a55395",
   "metadata": {},
   "source": [
    "## Step 5 ##\n",
    "\n",
    "Once in position and tracking, take an image with ComCam"
   ]
  },
  {
   "cell_type": "code",
   "execution_count": null,
   "id": "39dfeab7",
   "metadata": {},
   "outputs": [],
   "source": [
    "await comcam.take_object(15)"
   ]
  },
  {
   "cell_type": "code",
   "execution_count": null,
   "id": "c4ed4485",
   "metadata": {},
   "outputs": [],
   "source": [
    "await mtcs.stop_tracking()"
   ]
  },
  {
   "cell_type": "markdown",
   "id": "e5a28e59",
   "metadata": {},
   "source": [
    "## Step 6 ##\n",
    "\n",
    "Use ComCam recent images CCS to ensure that the image was taken (http://ccs.lsst.org/RecentImages/comcam.html). This step does not involve running any commands in this notebook."
   ]
  },
  {
   "cell_type": "markdown",
   "id": "b59ab825",
   "metadata": {},
   "source": [
    "## Step 7 ##\n",
    "\n",
    "Query the butler to verify that the images are there and check the metadata. This step does not currently involve running any commands in this notebook. This step must be verified using a separate noteboook. "
   ]
  },
  {
   "cell_type": "markdown",
   "id": "aaa056b5",
   "metadata": {},
   "source": [
    "## Wrap Up and Shut Down ##\n",
    "\n",
    "This cell is not currently included as part of the test execution, but included here as needed to shutdown the systems"
   ]
  },
  {
   "cell_type": "code",
   "execution_count": null,
   "id": "bdc72a9f",
   "metadata": {},
   "outputs": [],
   "source": [
    "await mtcs.set_state(salobj.State.STANDBY, components=[\"mtaos\"])"
   ]
  },
  {
   "cell_type": "code",
   "execution_count": null,
   "id": "92c4f5ec",
   "metadata": {},
   "outputs": [],
   "source": [
    "await mtcs.lower_m1m3()"
   ]
  },
  {
   "cell_type": "code",
   "execution_count": null,
   "id": "5144c92b",
   "metadata": {},
   "outputs": [],
   "source": [
    "await mtcs.set_state(salobj.State.STANDBY, components=[\"mtm1m3\"])"
   ]
  },
  {
   "cell_type": "code",
   "execution_count": null,
   "id": "026b15c2",
   "metadata": {},
   "outputs": [],
   "source": [
    "await mtcs.set_state(salobj.State.STANDBY, components=[\"mtm2\"])"
   ]
  },
  {
   "cell_type": "code",
   "execution_count": null,
   "id": "ef2ab1ad",
   "metadata": {},
   "outputs": [],
   "source": [
    "await mtcs.set_state(salobj.State.STANDBY, components=[\"mthexapod_1\"])"
   ]
  },
  {
   "cell_type": "code",
   "execution_count": null,
   "id": "05bc577a",
   "metadata": {},
   "outputs": [],
   "source": [
    "await mtcs.set_state(salobj.State.STANDBY, components=[\"mthexapod_2\"])"
   ]
  },
  {
   "cell_type": "code",
   "execution_count": null,
   "id": "d0075f88",
   "metadata": {},
   "outputs": [],
   "source": [
    "await mtcs.standby()"
   ]
  },
  {
   "cell_type": "code",
   "execution_count": null,
   "id": "531bed0a",
   "metadata": {},
   "outputs": [],
   "source": [
    "await comcam.standby()"
   ]
  }
 ],
 "metadata": {
  "kernelspec": {
   "display_name": "LSST",
   "language": "python",
   "name": "lsst"
  },
  "language_info": {
   "codemirror_mode": {
    "name": "ipython",
    "version": 3
   },
   "file_extension": ".py",
   "mimetype": "text/x-python",
   "name": "python",
   "nbconvert_exporter": "python",
   "pygments_lexer": "ipython3",
   "version": "3.8.8"
  },
  "toc-autonumbering": false
 },
 "nbformat": 4,
 "nbformat_minor": 5
}
