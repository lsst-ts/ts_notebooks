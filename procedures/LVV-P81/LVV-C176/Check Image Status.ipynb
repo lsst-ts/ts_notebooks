{
 "cells": [
  {
   "cell_type": "markdown",
   "id": "9036ca00-e5c2-4262-8874-3e652a315278",
   "metadata": {},
   "source": [
    "# Check Image Ingestion\n",
    "by Bruno C. Quint\n",
    "\n",
    "We use this notebook to check image ingestion on the Summit and at NCSA. It queries one or more exposures using Butler3 and print out the metadata."
   ]
  },
  {
   "cell_type": "code",
   "execution_count": null,
   "id": "b08fa56a-0068-445a-9017-20525760988b",
   "metadata": {
    "tags": []
   },
   "outputs": [],
   "source": [
    "import lsst.daf.butler as dafButler"
   ]
  },
  {
   "cell_type": "code",
   "execution_count": null,
   "id": "6e35b714-b623-474a-8730-f74209a70869",
   "metadata": {
    "tags": []
   },
   "outputs": [],
   "source": [
    "butler = dafButler.Butler(\"/repo/LSSTComCam/\")\n",
    " \n",
    "data_id = {'instrument': 'LSSTComCam', 'detector': 0, 'exposure': 2021102100008}\n",
    " \n",
    "raw = butler.get('raw', dataId=data_id, collections=[\"LSSTComCam/raw/all\"])\n",
    "print(raw.getMetadata())"
   ]
  },
  {
   "cell_type": "code",
   "execution_count": null,
   "id": "07c39c90-c6cc-481c-8501-f63c6b74fc96",
   "metadata": {
    "tags": []
   },
   "outputs": [],
   "source": [
    "metadata = butler.get('raw.visitInfo', dataId=data_id, collections=[\"LSSTComCam/raw/all\"])\n",
    "print(metadata)"
   ]
  },
  {
   "cell_type": "code",
   "execution_count": null,
   "id": "978d4178-888b-46b3-b3ca-e5cd4b34fc0a",
   "metadata": {},
   "outputs": [],
   "source": []
  }
 ],
 "metadata": {
  "kernelspec": {
   "display_name": "LSST",
   "language": "python",
   "name": "lsst"
  },
  "language_info": {
   "codemirror_mode": {
    "name": "ipython",
    "version": 3
   },
   "file_extension": ".py",
   "mimetype": "text/x-python",
   "name": "python",
   "nbconvert_exporter": "python",
   "pygments_lexer": "ipython3",
   "version": "3.8.8"
  }
 },
 "nbformat": 4,
 "nbformat_minor": 5
}
