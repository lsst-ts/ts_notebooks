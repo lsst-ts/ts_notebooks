{
 "cells": [
  {
   "cell_type": "markdown",
   "id": "9036ca00-e5c2-4262-8874-3e652a315278",
   "metadata": {},
   "source": [
    "# Check Image Ingestion\n",
    "by Bruno C. Quint\n",
    "\n",
    "We use this notebook to check image ingestion on the Summit and at NCSA. It queries one or more exposures using Butler3 and print out the metadata.\n",
    "\n",
    "Let's start importing Butler Gen3"
   ]
  },
  {
   "cell_type": "code",
   "execution_count": 1,
   "id": "b08fa56a-0068-445a-9017-20525760988b",
   "metadata": {
    "execution": {
     "iopub.execute_input": "2021-10-29T18:58:07.377608Z",
     "iopub.status.busy": "2021-10-29T18:58:07.376671Z",
     "iopub.status.idle": "2021-10-29T18:58:07.914767Z",
     "shell.execute_reply": "2021-10-29T18:58:07.914080Z",
     "shell.execute_reply.started": "2021-10-29T18:58:07.377416Z"
    },
    "tags": []
   },
   "outputs": [],
   "source": [
    "import lsst.daf.butler as dafButler"
   ]
  },
  {
   "cell_type": "markdown",
   "id": "50adda64-49df-4ac7-a331-2c976e7db12a",
   "metadata": {},
   "source": [
    "Use the following cell to tell the notebook if you are running it from the Summit (True) or from NCSA (False)."
   ]
  },
  {
   "cell_type": "code",
   "execution_count": 2,
   "id": "6fb4d972-97c0-4826-bc7c-833810e63ff6",
   "metadata": {
    "execution": {
     "iopub.execute_input": "2021-10-29T18:58:09.604555Z",
     "iopub.status.busy": "2021-10-29T18:58:09.603771Z",
     "iopub.status.idle": "2021-10-29T18:58:09.611345Z",
     "shell.execute_reply": "2021-10-29T18:58:09.610450Z",
     "shell.execute_reply.started": "2021-10-29T18:58:09.604487Z"
    },
    "tags": []
   },
   "outputs": [],
   "source": [
    "summit = True"
   ]
  },
  {
   "cell_type": "markdown",
   "id": "938c3b0a-c072-46bb-979c-2d13cdf84f5d",
   "metadata": {},
   "source": [
    "Now let's instanciate Butler depending on whether you are running this notebook on the Summit or not."
   ]
  },
  {
   "cell_type": "code",
   "execution_count": 3,
   "id": "bd7cf3b5-40d4-40d8-b4fc-bf8a1e6073a7",
   "metadata": {
    "execution": {
     "iopub.execute_input": "2021-10-29T18:58:10.448931Z",
     "iopub.status.busy": "2021-10-29T18:58:10.448127Z",
     "iopub.status.idle": "2021-10-29T18:58:11.780456Z",
     "shell.execute_reply": "2021-10-29T18:58:11.779727Z",
     "shell.execute_reply.started": "2021-10-29T18:58:10.448846Z"
    },
    "tags": []
   },
   "outputs": [],
   "source": [
    "if summit:\n",
    "    butler = dafButler.Butler(\"/repo/LSSTComCam/\")\n",
    "else:\n",
    "    butler = dafButler.Butler(\"/repo/main/\")"
   ]
  },
  {
   "cell_type": "markdown",
   "id": "5b8f21ae-2894-4bea-ada1-475dea5a0c3d",
   "metadata": {},
   "source": [
    "Use the following cell to query your data. You only need to update the `exposure` based on the image ID."
   ]
  },
  {
   "cell_type": "code",
   "execution_count": 4,
   "id": "e3bb9f8e-4d2d-4de6-a2a2-21e9257481b8",
   "metadata": {
    "execution": {
     "iopub.execute_input": "2021-10-29T18:58:13.071342Z",
     "iopub.status.busy": "2021-10-29T18:58:13.070510Z",
     "iopub.status.idle": "2021-10-29T18:58:13.078554Z",
     "shell.execute_reply": "2021-10-29T18:58:13.077258Z",
     "shell.execute_reply.started": "2021-10-29T18:58:13.071274Z"
    }
   },
   "outputs": [],
   "source": [
    "data_id = {'instrument': 'LSSTComCam', 'detector': 0, 'exposure': 2021102100008}"
   ]
  },
  {
   "cell_type": "markdown",
   "id": "dad3d712-9e16-4d57-8e53-4038eefe455c",
   "metadata": {},
   "source": [
    "Now you can query the data and print its metadata. The next cell should print the data's header. Make sure that it has consistent target name, observatory name, coordinates, etc."
   ]
  },
  {
   "cell_type": "code",
   "execution_count": 5,
   "id": "8eb3648b-645b-44cc-9272-9326ec5ebb9e",
   "metadata": {
    "execution": {
     "iopub.execute_input": "2021-10-29T18:58:15.737108Z",
     "iopub.status.busy": "2021-10-29T18:58:15.736308Z",
     "iopub.status.idle": "2021-10-29T18:58:15.812582Z",
     "shell.execute_reply": "2021-10-29T18:58:15.811747Z",
     "shell.execute_reply.started": "2021-10-29T18:58:15.737041Z"
    },
    "tags": []
   },
   "outputs": [
    {
     "ename": "KeyError",
     "evalue": "\"No value in data ID ({'instrument': 'LSSTComCam', 'exposure': 2021102100008}) for required dimension 'detector'.\"",
     "output_type": "error",
     "traceback": [
      "\u001b[0;31m---------------------------------------------------------------------------\u001b[0m",
      "\u001b[0;31mKeyError\u001b[0m                                  Traceback (most recent call last)",
      "\u001b[0;32m/opt/lsst/software/stack/stack/miniconda3-py38_4.9.2-0.7.0/Linux64/daf_butler/22.0.1-85-g4db99336+fb28b9dcc5/python/lsst/daf/butler/core/dimensions/_coordinate.py\u001b[0m in \u001b[0;36mstandardize\u001b[0;34m(mapping, graph, universe, defaults, **kwargs)\u001b[0m\n\u001b[1;32m    233\u001b[0m             \u001b[0;32mtry\u001b[0m\u001b[0;34m:\u001b[0m\u001b[0;34m\u001b[0m\u001b[0;34m\u001b[0m\u001b[0m\n\u001b[0;32m--> 234\u001b[0;31m                 \u001b[0mvalues\u001b[0m \u001b[0;34m=\u001b[0m \u001b[0mtuple\u001b[0m\u001b[0;34m(\u001b[0m\u001b[0md\u001b[0m\u001b[0;34m[\u001b[0m\u001b[0mname\u001b[0m\u001b[0;34m]\u001b[0m \u001b[0;32mfor\u001b[0m \u001b[0mname\u001b[0m \u001b[0;32min\u001b[0m \u001b[0mgraph\u001b[0m\u001b[0;34m.\u001b[0m\u001b[0mrequired\u001b[0m\u001b[0;34m.\u001b[0m\u001b[0mnames\u001b[0m\u001b[0;34m)\u001b[0m\u001b[0;34m\u001b[0m\u001b[0;34m\u001b[0m\u001b[0m\n\u001b[0m\u001b[1;32m    235\u001b[0m             \u001b[0;32mexcept\u001b[0m \u001b[0mKeyError\u001b[0m \u001b[0;32mas\u001b[0m \u001b[0merr\u001b[0m\u001b[0;34m:\u001b[0m\u001b[0;34m\u001b[0m\u001b[0;34m\u001b[0m\u001b[0m\n",
      "\u001b[0;32m/opt/lsst/software/stack/stack/miniconda3-py38_4.9.2-0.7.0/Linux64/daf_butler/22.0.1-85-g4db99336+fb28b9dcc5/python/lsst/daf/butler/core/dimensions/_coordinate.py\u001b[0m in \u001b[0;36m<genexpr>\u001b[0;34m(.0)\u001b[0m\n\u001b[1;32m    233\u001b[0m             \u001b[0;32mtry\u001b[0m\u001b[0;34m:\u001b[0m\u001b[0;34m\u001b[0m\u001b[0;34m\u001b[0m\u001b[0m\n\u001b[0;32m--> 234\u001b[0;31m                 \u001b[0mvalues\u001b[0m \u001b[0;34m=\u001b[0m \u001b[0mtuple\u001b[0m\u001b[0;34m(\u001b[0m\u001b[0md\u001b[0m\u001b[0;34m[\u001b[0m\u001b[0mname\u001b[0m\u001b[0;34m]\u001b[0m \u001b[0;32mfor\u001b[0m \u001b[0mname\u001b[0m \u001b[0;32min\u001b[0m \u001b[0mgraph\u001b[0m\u001b[0;34m.\u001b[0m\u001b[0mrequired\u001b[0m\u001b[0;34m.\u001b[0m\u001b[0mnames\u001b[0m\u001b[0;34m)\u001b[0m\u001b[0;34m\u001b[0m\u001b[0;34m\u001b[0m\u001b[0m\n\u001b[0m\u001b[1;32m    235\u001b[0m             \u001b[0;32mexcept\u001b[0m \u001b[0mKeyError\u001b[0m \u001b[0;32mas\u001b[0m \u001b[0merr\u001b[0m\u001b[0;34m:\u001b[0m\u001b[0;34m\u001b[0m\u001b[0;34m\u001b[0m\u001b[0m\n",
      "\u001b[0;31mKeyError\u001b[0m: 'detector'",
      "\nThe above exception was the direct cause of the following exception:\n",
      "\u001b[0;31mKeyError\u001b[0m                                  Traceback (most recent call last)",
      "\u001b[0;32m/tmp/ipykernel_36509/2341635050.py\u001b[0m in \u001b[0;36m<module>\u001b[0;34m\u001b[0m\n\u001b[0;32m----> 1\u001b[0;31m \u001b[0mraw\u001b[0m \u001b[0;34m=\u001b[0m \u001b[0mbutler\u001b[0m\u001b[0;34m.\u001b[0m\u001b[0mget\u001b[0m\u001b[0;34m(\u001b[0m\u001b[0;34m'raw'\u001b[0m\u001b[0;34m,\u001b[0m \u001b[0mdataId\u001b[0m\u001b[0;34m=\u001b[0m\u001b[0mdata_id\u001b[0m\u001b[0;34m,\u001b[0m \u001b[0mcollections\u001b[0m\u001b[0;34m=\u001b[0m\u001b[0;34m[\u001b[0m\u001b[0;34m\"LSSTComCam/raw/all\"\u001b[0m\u001b[0;34m]\u001b[0m\u001b[0;34m)\u001b[0m\u001b[0;34m\u001b[0m\u001b[0;34m\u001b[0m\u001b[0m\n\u001b[0m\u001b[1;32m      2\u001b[0m \u001b[0mprint\u001b[0m\u001b[0;34m(\u001b[0m\u001b[0mraw\u001b[0m\u001b[0;34m.\u001b[0m\u001b[0mgetMetadata\u001b[0m\u001b[0;34m(\u001b[0m\u001b[0;34m)\u001b[0m\u001b[0;34m)\u001b[0m\u001b[0;34m\u001b[0m\u001b[0;34m\u001b[0m\u001b[0m\n",
      "\u001b[0;32m/opt/lsst/software/stack/stack/miniconda3-py38_4.9.2-0.7.0/Linux64/daf_butler/22.0.1-85-g4db99336+fb28b9dcc5/python/lsst/daf/butler/_butler.py\u001b[0m in \u001b[0;36mget\u001b[0;34m(self, datasetRefOrType, dataId, parameters, collections, **kwargs)\u001b[0m\n\u001b[1;32m   1108\u001b[0m         \"\"\"\n\u001b[1;32m   1109\u001b[0m         \u001b[0mlog\u001b[0m\u001b[0;34m.\u001b[0m\u001b[0mdebug\u001b[0m\u001b[0;34m(\u001b[0m\u001b[0;34m\"Butler get: %s, dataId=%s, parameters=%s\"\u001b[0m\u001b[0;34m,\u001b[0m \u001b[0mdatasetRefOrType\u001b[0m\u001b[0;34m,\u001b[0m \u001b[0mdataId\u001b[0m\u001b[0;34m,\u001b[0m \u001b[0mparameters\u001b[0m\u001b[0;34m)\u001b[0m\u001b[0;34m\u001b[0m\u001b[0;34m\u001b[0m\u001b[0m\n\u001b[0;32m-> 1110\u001b[0;31m         \u001b[0mref\u001b[0m \u001b[0;34m=\u001b[0m \u001b[0mself\u001b[0m\u001b[0;34m.\u001b[0m\u001b[0m_findDatasetRef\u001b[0m\u001b[0;34m(\u001b[0m\u001b[0mdatasetRefOrType\u001b[0m\u001b[0;34m,\u001b[0m \u001b[0mdataId\u001b[0m\u001b[0;34m,\u001b[0m \u001b[0mcollections\u001b[0m\u001b[0;34m=\u001b[0m\u001b[0mcollections\u001b[0m\u001b[0;34m,\u001b[0m \u001b[0;34m**\u001b[0m\u001b[0mkwargs\u001b[0m\u001b[0;34m)\u001b[0m\u001b[0;34m\u001b[0m\u001b[0;34m\u001b[0m\u001b[0m\n\u001b[0m\u001b[1;32m   1111\u001b[0m         \u001b[0;32mreturn\u001b[0m \u001b[0mself\u001b[0m\u001b[0;34m.\u001b[0m\u001b[0mgetDirect\u001b[0m\u001b[0;34m(\u001b[0m\u001b[0mref\u001b[0m\u001b[0;34m,\u001b[0m \u001b[0mparameters\u001b[0m\u001b[0;34m=\u001b[0m\u001b[0mparameters\u001b[0m\u001b[0;34m)\u001b[0m\u001b[0;34m\u001b[0m\u001b[0;34m\u001b[0m\u001b[0m\n\u001b[1;32m   1112\u001b[0m \u001b[0;34m\u001b[0m\u001b[0m\n",
      "\u001b[0;32m/opt/lsst/software/stack/stack/miniconda3-py38_4.9.2-0.7.0/Linux64/daf_butler/22.0.1-85-g4db99336+fb28b9dcc5/python/lsst/daf/butler/_butler.py\u001b[0m in \u001b[0;36m_findDatasetRef\u001b[0;34m(self, datasetRefOrType, dataId, collections, allowUnresolved, **kwargs)\u001b[0m\n\u001b[1;32m    850\u001b[0m             \u001b[0;31m# type instead of letting registry.findDataset do it, so we get the\u001b[0m\u001b[0;34m\u001b[0m\u001b[0;34m\u001b[0m\u001b[0;34m\u001b[0m\u001b[0m\n\u001b[1;32m    851\u001b[0m             \u001b[0;31m# result even if no dataset is found.\u001b[0m\u001b[0;34m\u001b[0m\u001b[0;34m\u001b[0m\u001b[0;34m\u001b[0m\u001b[0m\n\u001b[0;32m--> 852\u001b[0;31m             dataId = DataCoordinate.standardize(dataId, graph=datasetType.dimensions,\n\u001b[0m\u001b[1;32m    853\u001b[0m                                                 defaults=self.registry.defaults.dataId, **kwargs)\n\u001b[1;32m    854\u001b[0m         \u001b[0;31m# Always lookup the DatasetRef, even if one is given, to ensure it is\u001b[0m\u001b[0;34m\u001b[0m\u001b[0;34m\u001b[0m\u001b[0;34m\u001b[0m\u001b[0m\n",
      "\u001b[0;32m/opt/lsst/software/stack/stack/miniconda3-py38_4.9.2-0.7.0/Linux64/daf_butler/22.0.1-85-g4db99336+fb28b9dcc5/python/lsst/daf/butler/core/dimensions/_coordinate.py\u001b[0m in \u001b[0;36mstandardize\u001b[0;34m(mapping, graph, universe, defaults, **kwargs)\u001b[0m\n\u001b[1;32m    234\u001b[0m                 \u001b[0mvalues\u001b[0m \u001b[0;34m=\u001b[0m \u001b[0mtuple\u001b[0m\u001b[0;34m(\u001b[0m\u001b[0md\u001b[0m\u001b[0;34m[\u001b[0m\u001b[0mname\u001b[0m\u001b[0;34m]\u001b[0m \u001b[0;32mfor\u001b[0m \u001b[0mname\u001b[0m \u001b[0;32min\u001b[0m \u001b[0mgraph\u001b[0m\u001b[0;34m.\u001b[0m\u001b[0mrequired\u001b[0m\u001b[0;34m.\u001b[0m\u001b[0mnames\u001b[0m\u001b[0;34m)\u001b[0m\u001b[0;34m\u001b[0m\u001b[0;34m\u001b[0m\u001b[0m\n\u001b[1;32m    235\u001b[0m             \u001b[0;32mexcept\u001b[0m \u001b[0mKeyError\u001b[0m \u001b[0;32mas\u001b[0m \u001b[0merr\u001b[0m\u001b[0;34m:\u001b[0m\u001b[0;34m\u001b[0m\u001b[0;34m\u001b[0m\u001b[0m\n\u001b[0;32m--> 236\u001b[0;31m                 \u001b[0;32mraise\u001b[0m \u001b[0mKeyError\u001b[0m\u001b[0;34m(\u001b[0m\u001b[0;34mf\"No value in data ID ({mapping}) for required dimension {err}.\"\u001b[0m\u001b[0;34m)\u001b[0m \u001b[0;32mfrom\u001b[0m \u001b[0merr\u001b[0m\u001b[0;34m\u001b[0m\u001b[0;34m\u001b[0m\u001b[0m\n\u001b[0m\u001b[1;32m    237\u001b[0m         \u001b[0;31m# Some backends cannot handle numpy.int64 type which is a subclass of\u001b[0m\u001b[0;34m\u001b[0m\u001b[0;34m\u001b[0m\u001b[0;34m\u001b[0m\u001b[0m\n\u001b[1;32m    238\u001b[0m         \u001b[0;31m# numbers.Integral; convert that to int.\u001b[0m\u001b[0;34m\u001b[0m\u001b[0;34m\u001b[0m\u001b[0;34m\u001b[0m\u001b[0m\n",
      "\u001b[0;31mKeyError\u001b[0m: \"No value in data ID ({'instrument': 'LSSTComCam', 'exposure': 2021102100008}) for required dimension 'detector'.\""
     ]
    }
   ],
   "source": [
    "raw = butler.get('raw', dataId=data_id, collections=[\"LSSTComCam/raw/all\"])\n",
    "print(raw.getMetadata())"
   ]
  },
  {
   "cell_type": "markdown",
   "id": "a67ccba1-a079-4b6b-8341-d63edbc5ca49",
   "metadata": {},
   "source": [
    "This is an alternative way to query for metadata. Right now, you might see a couple of NaN's. This is a known issue and there is work on it ([DM-32298](https://jira.lsstcorp.org/browse/DM-32298))."
   ]
  },
  {
   "cell_type": "code",
   "execution_count": null,
   "id": "07c39c90-c6cc-481c-8501-f63c6b74fc96",
   "metadata": {
    "tags": []
   },
   "outputs": [],
   "source": [
    "metadata = butler.get('raw.visitInfo', dataId=data_id, collections=[\"LSSTComCam/raw/all\"])\n",
    "print(metadata)"
   ]
  }
 ],
 "metadata": {
  "kernelspec": {
   "display_name": "LSST",
   "language": "python",
   "name": "lsst"
  },
  "language_info": {
   "codemirror_mode": {
    "name": "ipython",
    "version": 3
   },
   "file_extension": ".py",
   "mimetype": "text/x-python",
   "name": "python",
   "nbconvert_exporter": "python",
   "pygments_lexer": "ipython3",
   "version": "3.8.8"
  }
 },
 "nbformat": 4,
 "nbformat_minor": 5
}
