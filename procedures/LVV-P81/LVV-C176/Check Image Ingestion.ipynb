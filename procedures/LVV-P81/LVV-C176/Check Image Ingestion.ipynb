{
 "cells": [
  {
   "cell_type": "markdown",
   "id": "9036ca00-e5c2-4262-8874-3e652a315278",
   "metadata": {},
   "source": [
    "# Check Image Ingestion\n",
    "by Bruno C. Quint\n",
    "\n",
    "We use this notebook to check image ingestion on the Summit and at NCSA. It queries one or more exposures using Butler3 and print out the metadata.\n",
    "\n",
    "Let's start importing Butler Gen3"
   ]
  },
  {
   "cell_type": "code",
   "execution_count": null,
   "id": "b08fa56a-0068-445a-9017-20525760988b",
   "metadata": {
    "tags": []
   },
   "outputs": [],
   "source": [
    "import lsst.daf.butler as dafButler"
   ]
  },
  {
   "cell_type": "markdown",
   "id": "50adda64-49df-4ac7-a331-2c976e7db12a",
   "metadata": {},
   "source": [
    "Use the following cell to tell the notebook if you are running it from the Summit (True) or from NCSA (False)."
   ]
  },
  {
   "cell_type": "code",
   "execution_count": null,
   "id": "6fb4d972-97c0-4826-bc7c-833810e63ff6",
   "metadata": {
    "tags": []
   },
   "outputs": [],
   "source": [
    "summit = True"
   ]
  },
  {
   "cell_type": "markdown",
   "id": "938c3b0a-c072-46bb-979c-2d13cdf84f5d",
   "metadata": {},
   "source": [
    "Now let's instanciate Butler depending on whether you are running this notebook on the Summit or not."
   ]
  },
  {
   "cell_type": "code",
   "execution_count": null,
   "id": "bd7cf3b5-40d4-40d8-b4fc-bf8a1e6073a7",
   "metadata": {
    "tags": []
   },
   "outputs": [],
   "source": [
    "if summit:\n",
    "    butler = dafButler.Butler(\"/repo/LSSTComCam/\")\n",
    "else:\n",
    "    butler = dafButler.Butler(\"/repo/main/\")"
   ]
  },
  {
   "cell_type": "markdown",
   "id": "5b8f21ae-2894-4bea-ada1-475dea5a0c3d",
   "metadata": {},
   "source": [
    "Use the following cell to query your data. You only need to update the `exposure` based on the image ID."
   ]
  },
  {
   "cell_type": "code",
   "execution_count": null,
   "id": "e3bb9f8e-4d2d-4de6-a2a2-21e9257481b8",
   "metadata": {},
   "outputs": [],
   "source": [
    "data_id = {'instrument': 'LSSTComCam', 'detector': 0, 'exposure': 2021102100008}"
   ]
  },
  {
   "cell_type": "markdown",
   "id": "dad3d712-9e16-4d57-8e53-4038eefe455c",
   "metadata": {},
   "source": [
    "Now you can query the data and print its metadata. The next cell should print the data's header. Make sure that it has consistent target name, observatory name, coordinates, etc."
   ]
  },
  {
   "cell_type": "code",
   "execution_count": null,
   "id": "8eb3648b-645b-44cc-9272-9326ec5ebb9e",
   "metadata": {
    "tags": []
   },
   "outputs": [],
   "source": [
    "raw = butler.get('raw', dataId=data_id, collections=[\"LSSTComCam/raw/all\"])\n",
    "print(raw.getMetadata())"
   ]
  },
  {
   "cell_type": "markdown",
   "id": "a67ccba1-a079-4b6b-8341-d63edbc5ca49",
   "metadata": {},
   "source": [
    "This is an alternative way to query for metadata. Right now, you might see a couple of NaN's. This is a known issue and there is work on it ([DM-32298](https://jira.lsstcorp.org/browse/DM-32298))."
   ]
  },
  {
   "cell_type": "code",
   "execution_count": null,
   "id": "07c39c90-c6cc-481c-8501-f63c6b74fc96",
   "metadata": {
    "tags": []
   },
   "outputs": [],
   "source": [
    "metadata = butler.get('raw.visitInfo', dataId=data_id, collections=[\"LSSTComCam/raw/all\"])\n",
    "print(metadata)"
   ]
  }
 ],
 "metadata": {
  "kernelspec": {
   "display_name": "LSST",
   "language": "python",
   "name": "lsst"
  },
  "language_info": {
   "codemirror_mode": {
    "name": "ipython",
    "version": 3
   },
   "file_extension": ".py",
   "mimetype": "text/x-python",
   "name": "python",
   "nbconvert_exporter": "python",
   "pygments_lexer": "ipython3",
   "version": "3.8.8"
  }
 },
 "nbformat": 4,
 "nbformat_minor": 5
}
