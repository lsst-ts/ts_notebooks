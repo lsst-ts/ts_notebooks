{
 "cells": [
  {
   "cell_type": "markdown",
   "id": "ce11068e",
   "metadata": {},
   "source": [
    "# IM(G): One time ComCam Image Ingestion and MTAOS Correction\n",
    "\n",
    "This notebook is used to execute the [LVV-2228 (1.0)] test script during System Spread Integration Tests on Level 3.  \n",
    "It is part of the plan [LVV-P81] and of the test cylce [LVV-C176].   \n",
    "Execution steps are separated by horizontal lines.   \n",
    "Upon completion, save the notebook and its output as a pdf file to be attached to the test execution in JIRA.  \n",
    "\n",
    "[LVV-T2228 (1.0)]: https://jira.lsstcorp.org/secure/Tests.jspa#/testCase/LVV-T2229\n",
    "[LVV-P81]: https://jira.lsstcorp.org/secure/Tests.jspa#/testPlan/LVV-P81\n",
    "[LVV-C176]: https://jira.lsstcorp.org/secure/Tests.jspa#/testCycle/LVV-C176"
   ]
  },
  {
   "cell_type": "code",
   "execution_count": null,
   "id": "f43cd2b7-8ccb-4eaf-956c-103564139ae8",
   "metadata": {},
   "outputs": [],
   "source": [
    "__executed_by__ = \"\"  # Put your name here\n",
    "__executed_on__ = \"\"  # Put the date of execution here\n",
    "\n",
    "summit = True  # This is used later to define where Butler stores the images"
   ]
  },
  {
   "cell_type": "markdown",
   "id": "97d0f9bb",
   "metadata": {},
   "source": [
    "***\n",
    "\n",
    "## Initial Setup\n",
    "\n",
    "log onto the summit nublado  \n",
    "https://summit-lsp.lsst.codes/  \n",
    "git clone the ts_notebook repo  \n",
    "\n",
    "There will be a series of procedures to set up, \"slew\" and track the telescope before we get an image.    \n",
    "This is similar to test case [LVV-T2189](https://jira.lsstcorp.org/secure/Tests.jspa#/testCase/LVV-T2189).   "
   ]
  },
  {
   "cell_type": "markdown",
   "id": "062ad436",
   "metadata": {},
   "source": [
    "***"
   ]
  },
  {
   "cell_type": "markdown",
   "id": "f1966366",
   "metadata": {},
   "source": [
    "## Check ComCam Playback Mode\n",
    "\n",
    "Verify that ComCam can be use the playback option and that the required images are stored in the right place **TBD**."
   ]
  },
  {
   "cell_type": "markdown",
   "id": "f4b3f2ad-93cd-4fc3-bda7-930122acff5d",
   "metadata": {},
   "source": [
    "---\n",
    "## Load all the needed libraries\n",
    "\n",
    "Using the setup procedure, get the remotes and the components ready.\n",
    "\n",
    "This includes simulators as well as real hardware when available (this will depend on when the test is conducted at NCSA or on level 3 or on the telescope):\n",
    "\n",
    "- pointing  \n",
    "- mount ( with the CCW)  \n",
    "- rotator  \n",
    "- ready M1M3: raise mirror, turn on FB, clear forces. Note that if used at level 3, we need to have M1M3 LUT use mount telemetry  \n",
    "- ready M2: turn on FB, clear forces. Note that if used at level 3, we need to have M2 LUT use mount telemetry  \n",
    "- Get cam hex Ready: check config; make sure LUT is on and has valid inputs; make sure hex is at LUT position  \n",
    "- Get M2 hex (simulator) Ready: check config; make sure LUT is on and has valid inputs; make sure hex is at LUT position  \n",
    "- Finally, get the MTAOS CSC ready  "
   ]
  },
  {
   "cell_type": "code",
   "execution_count": null,
   "id": "1865d513",
   "metadata": {},
   "outputs": [],
   "source": [
    "%load_ext autoreload\n",
    "%autoreload 2"
   ]
  },
  {
   "cell_type": "code",
   "execution_count": null,
   "id": "7b5b228a",
   "metadata": {},
   "outputs": [],
   "source": [
    "import rubin_jupyter_utils.lab.notebook as nb\n",
    "nb.utils.get_node()"
   ]
  },
  {
   "cell_type": "code",
   "execution_count": null,
   "id": "ee0e379e",
   "metadata": {},
   "outputs": [],
   "source": [
    "import os\n",
    "import sys\n",
    "import asyncio\n",
    "import logging\n",
    "\n",
    "import pandas as pd\n",
    "import numpy as np\n",
    "\n",
    "from matplotlib import pyplot as plt\n",
    "\n",
    "import lsst.daf.butler as dafButler\n",
    "\n",
    "from lsst.ts import salobj\n",
    "from lsst.ts.observatory.control.maintel import MTCS, ComCam\n",
    "from lsst.ts.observatory.control import RotType"
   ]
  },
  {
   "cell_type": "code",
   "execution_count": null,
   "id": "9b4ec348",
   "metadata": {},
   "outputs": [],
   "source": [
    "logging.basicConfig(format=\"%(name)s:%(message)s\", level=logging.DEBUG)"
   ]
  },
  {
   "cell_type": "code",
   "execution_count": null,
   "id": "5cbe1cee",
   "metadata": {},
   "outputs": [],
   "source": [
    "log = logging.getLogger(\"setup\")\n",
    "log.level = logging.DEBUG"
   ]
  },
  {
   "cell_type": "code",
   "execution_count": null,
   "id": "37ef054e",
   "metadata": {},
   "outputs": [],
   "source": [
    "domain = salobj.Domain()"
   ]
  },
  {
   "cell_type": "code",
   "execution_count": null,
   "id": "3ffca8f4",
   "metadata": {},
   "outputs": [],
   "source": [
    "mtcs = MTCS(domain=domain, log=log)\n",
    "mtcs.set_rem_loglevel(40)"
   ]
  },
  {
   "cell_type": "code",
   "execution_count": null,
   "id": "bed75413",
   "metadata": {},
   "outputs": [],
   "source": [
    "await mtcs.start_task"
   ]
  },
  {
   "cell_type": "code",
   "execution_count": null,
   "id": "0220ad01",
   "metadata": {},
   "outputs": [],
   "source": [
    "comcam = ComCam(domain=domain, log=log)"
   ]
  },
  {
   "cell_type": "code",
   "execution_count": null,
   "id": "1dff51ea",
   "metadata": {},
   "outputs": [],
   "source": [
    "comcam.set_rem_loglevel(40)"
   ]
  },
  {
   "cell_type": "code",
   "execution_count": null,
   "id": "55175018",
   "metadata": {},
   "outputs": [],
   "source": [
    "await comcam.start_task"
   ]
  },
  {
   "cell_type": "code",
   "execution_count": null,
   "id": "cacc7c38",
   "metadata": {},
   "outputs": [],
   "source": [
    "await comcam.enable()"
   ]
  },
  {
   "cell_type": "markdown",
   "id": "3e29d77c-65d8-4d22-ad46-708dcae9a571",
   "metadata": {},
   "source": [
    "---\n",
    "## Slew and Track\n",
    "\n",
    "\n",
    "Using the slew procedure, slew the systems to a specific elevation, azimuth and rotator angle.\n",
    "Verify that the telemetry is generated.\n",
    "\n",
    "Find a target around az = 120º and el = 60º and rotator angle at PhysicalSky and 1.8º.\n",
    "\n",
    "At this position, the rotator stays within a couple of degrees of its initial position. This is because the CCW is not running (MTmount in simulation mode).\n",
    "\n",
    "target -> az = 120$^o$, el = 60$^o$  "
   ]
  },
  {
   "cell_type": "code",
   "execution_count": null,
   "id": "1bbe942b-3063-4102-89dd-b087337cbe53",
   "metadata": {
    "tags": []
   },
   "outputs": [],
   "source": [
    "target = await mtcs.find_target(az=120, el=60, mag_limit=8)\n",
    "\n",
    "print(f\"Target: {target}\")"
   ]
  },
  {
   "cell_type": "markdown",
   "id": "0cd30d55",
   "metadata": {},
   "source": [
    "Slew to target:"
   ]
  },
  {
   "cell_type": "code",
   "execution_count": null,
   "id": "8c0f1a17",
   "metadata": {
    "tags": []
   },
   "outputs": [],
   "source": [
    "await mtcs.slew_object(target, rot_type=RotType.PhysicalSky, rot=1.9)"
   ]
  },
  {
   "cell_type": "markdown",
   "id": "6d0aa8ff",
   "metadata": {},
   "source": [
    "***\n",
    "## Take in-focus image\n",
    "\n",
    "Once the different components are ready (M1M3, M2, rotator and CCW, hexapods) and tracking, take an image using the take_image command in playback mode.  \n",
    "This second image should be the one that uses the correction calculated with the first slew."
   ]
  },
  {
   "cell_type": "code",
   "execution_count": null,
   "id": "b4e272fb",
   "metadata": {
    "tags": []
   },
   "outputs": [],
   "source": [
    "exp_focus = await comcam.take_object(15)\n",
    "print(f\"Target exposure: {exp_focus}\")"
   ]
  },
  {
   "cell_type": "markdown",
   "id": "fb8325ef-0998-4c3b-b13f-0fa856aea39c",
   "metadata": {},
   "source": [
    "----\n",
    "## Intra Focus Position \n",
    "\n",
    "Using the Camera Hexapod, piston ComCam +1mm"
   ]
  },
  {
   "cell_type": "code",
   "execution_count": null,
   "id": "326c71f7-f0df-433d-8cf3-d41009b37823",
   "metadata": {
    "tags": []
   },
   "outputs": [],
   "source": [
    "await mtcs.rem.mthexapod_1.cmd_offset.set_start(z=1000.)"
   ]
  },
  {
   "cell_type": "markdown",
   "id": "6f0aa9e5-4c1f-44c2-97d6-a5e91ed5826a",
   "metadata": {},
   "source": [
    "----\n",
    "## Intra Focus Image\n",
    "\n",
    "\n",
    "While tracking, take an image with ComCam and check that the header is containing the right telemetry"
   ]
  },
  {
   "cell_type": "code",
   "execution_count": null,
   "id": "29810983-ebf7-431d-8c04-0c17b7942e46",
   "metadata": {},
   "outputs": [],
   "source": [
    "exp_intra = await comcam.take_object(15)\n",
    "print(f\"Target 1 exposure: {exp_intra}\")"
   ]
  },
  {
   "cell_type": "markdown",
   "id": "e2c8a502-b1ca-433b-8fc6-d8c8b989fc7c",
   "metadata": {},
   "source": [
    "---\n",
    "## Extra Focus Position\n",
    "\n",
    "Using the Camera Hexapod, piston ComCam to -1mm"
   ]
  },
  {
   "cell_type": "code",
   "execution_count": null,
   "id": "d24268f9-c5c0-4cec-84f5-47a20cf9b453",
   "metadata": {},
   "outputs": [],
   "source": [
    "await mtcs.rem.mthexapod_1.cmd_offset.set_start(z=-2000.)"
   ]
  },
  {
   "cell_type": "markdown",
   "id": "64009413-f321-495c-8a3b-58959f11cea3",
   "metadata": {},
   "source": [
    "---\n",
    "## Extra Focus Image\n",
    "\n",
    "While tracking, take an image with ComCam and check that the header is containing the right telemetry."
   ]
  },
  {
   "cell_type": "code",
   "execution_count": null,
   "id": "bfc3b17e-cd5e-4d66-a7e9-71a6438554d2",
   "metadata": {
    "tags": []
   },
   "outputs": [],
   "source": [
    "exp_extra = await comcam.take_object(15)\n",
    "print(f\"Target 1 exposure: {exp_extra}\")"
   ]
  },
  {
   "cell_type": "markdown",
   "id": "ad48b0fa-f654-4188-b2c2-e16ccf4a134f",
   "metadata": {},
   "source": [
    "---\n",
    "## Go Back to Focus Position\n",
    "\n",
    "Put the hexapod back to 0mm."
   ]
  },
  {
   "cell_type": "code",
   "execution_count": null,
   "id": "122aeae8-18fa-4f52-8ff6-8b6c5af6a850",
   "metadata": {},
   "outputs": [],
   "source": [
    "await mtcs.rem.mthexapod_1.cmd_offset.set_start(z=1000.)"
   ]
  },
  {
   "cell_type": "markdown",
   "id": "f51d3502-6ca4-4a02-8a77-ae32b91be313",
   "metadata": {},
   "source": [
    "---\n",
    "## Stop Tracking\n",
    "\n",
    "If using MTMount Simulator and CCW Following Mode Disabled, stop tracking to prevent the Rotator to hit the limit switches."
   ]
  },
  {
   "cell_type": "code",
   "execution_count": null,
   "id": "5f82ae6f",
   "metadata": {
    "tags": []
   },
   "outputs": [],
   "source": [
    "await mtcs.stop_tracking()"
   ]
  },
  {
   "cell_type": "markdown",
   "id": "52439522-f1c6-43cb-ac0a-1ad10e62d967",
   "metadata": {},
   "source": [
    "---\n",
    "## Get Zernike Coefficients\n",
    "\n",
    "Use the MTAOS Wavefront Estimator Pipeline to calculate the required Zernike Coefficients that represent the Wavefront data."
   ]
  },
  {
   "cell_type": "code",
   "execution_count": null,
   "id": "c6a06127-8fac-4da3-96ac-7b4dfcc58762",
   "metadata": {
    "tags": []
   },
   "outputs": [],
   "source": [
    "await mtcs.rem.mtaos.cmd_runWEP.set_start(visitId=exp_intra[0] - 2021111900000, \n",
    "                                          extraId=exp_extra[0] - 2021111900000)"
   ]
  },
  {
   "cell_type": "markdown",
   "id": "ec7f96da-e9c9-4c82-9858-be3b3aef2b86",
   "metadata": {},
   "source": [
    "---\n",
    "## Get Corrections\n",
    "\n",
    "Use the MTAOS Optical Feedback Controller to retrieve the corrections that should be applied to m1m3, m2, camera hexapod, and m2 hexapod."
   ]
  },
  {
   "cell_type": "code",
   "execution_count": null,
   "id": "e1fd393d-43f3-4a40-9f60-dd468da400c4",
   "metadata": {},
   "outputs": [],
   "source": [
    "await mtcs.rem.mtaos.cmd_runOFC.start(timeout=60.)"
   ]
  },
  {
   "cell_type": "markdown",
   "id": "6cb1e65c-3b15-4d0f-a145-c9c6b0fd1c04",
   "metadata": {},
   "source": [
    "---\n",
    "## Issue the corrections\n",
    "\n",
    "Issue the corrections found by the MTAOS OFC to m1m3, m2, camera hexapod, and m2 hexapod. "
   ]
  },
  {
   "cell_type": "code",
   "execution_count": null,
   "id": "c43a1fa9-c01e-4d5c-9a68-77249befbda4",
   "metadata": {},
   "outputs": [],
   "source": [
    "await mtcs.rem.mtaos.cmd_issueCorrection.start(timeout=60.)"
   ]
  },
  {
   "cell_type": "markdown",
   "id": "7b4fe4a0",
   "metadata": {},
   "source": [
    "***\n",
    "## Verify ISR Data\n",
    "\n",
    "Make sure that the Instrument Signature Removal ran on the intra- and extra-focus data and that this data is accessible via Butler."
   ]
  },
  {
   "cell_type": "code",
   "execution_count": null,
   "id": "74995f4e-bfd2-4dad-995a-d98605f93b13",
   "metadata": {},
   "outputs": [],
   "source": [
    "if summit:\n",
    "    butler = dafButler.Butler(\"/repo/LSSTComCam/\")\n",
    "else:\n",
    "    butler = dafButler.Butler(\"/repo/main/\")"
   ]
  },
  {
   "cell_type": "code",
   "execution_count": null,
   "id": "0192875e-33f6-4a15-b86d-3a5b4bb56642",
   "metadata": {},
   "outputs": [],
   "source": [
    "exp_intra_id = {'instrument': 'LSSTComCam', 'detector': 0, 'exposure': exp_intra[0]}\n",
    "\n",
    "raw_intra = butler.get('raw', dataId=exp_intra_id, collections=[\"LSSTComCam/raw/all\"])\n",
    "print(raw_intra.getMetadata())\n",
    "\n",
    "print(80 * \"-\")\n",
    "\n",
    "isr_intra = butler.get('raw', dataId=exp_intra_id, collections=[\"LSSTComCam/raw/all\"])\n",
    "print(isr_intra.getMetadata())"
   ]
  },
  {
   "cell_type": "markdown",
   "id": "26eb67e7",
   "metadata": {},
   "source": [
    "***\n",
    "## Wrap Up and Shut Down\n",
    "\n",
    "This cell is not currently included as part of the test execution, but included here as needed to shutdown the systems"
   ]
  },
  {
   "cell_type": "code",
   "execution_count": null,
   "id": "205efdfb",
   "metadata": {},
   "outputs": [],
   "source": [
    "await mtcs.set_state(salobj.State.STANDBY, components=[\"mtaos\"])"
   ]
  },
  {
   "cell_type": "code",
   "execution_count": null,
   "id": "4422cced",
   "metadata": {},
   "outputs": [],
   "source": [
    "await mtcs.lower_m1m3()"
   ]
  },
  {
   "cell_type": "code",
   "execution_count": null,
   "id": "56bd32da",
   "metadata": {},
   "outputs": [],
   "source": [
    "await mtcs.set_state(salobj.State.STANDBY, components=[\"mtm1m3\"])"
   ]
  },
  {
   "cell_type": "code",
   "execution_count": null,
   "id": "219b074f",
   "metadata": {},
   "outputs": [],
   "source": [
    "await mtcs.set_state(salobj.State.STANDBY, components=[\"mtm2\"])"
   ]
  },
  {
   "cell_type": "code",
   "execution_count": null,
   "id": "16eafb32",
   "metadata": {},
   "outputs": [],
   "source": [
    "await mtcs.set_state(salobj.State.STANDBY, components=[\"mthexapod_1\"])"
   ]
  },
  {
   "cell_type": "code",
   "execution_count": null,
   "id": "3627f687",
   "metadata": {},
   "outputs": [],
   "source": [
    "await mtcs.set_state(salobj.State.STANDBY, components=[\"mthexapod_2\"])"
   ]
  },
  {
   "cell_type": "code",
   "execution_count": null,
   "id": "d1cfb6df",
   "metadata": {},
   "outputs": [],
   "source": [
    "await mtcs.standby()"
   ]
  },
  {
   "cell_type": "code",
   "execution_count": null,
   "id": "6b1071ad",
   "metadata": {
    "tags": []
   },
   "outputs": [],
   "source": [
    "await comcam.standby()"
   ]
  }
 ],
 "metadata": {
  "kernelspec": {
   "display_name": "LSST",
   "language": "python",
   "name": "lsst"
  },
  "language_info": {
   "codemirror_mode": {
    "name": "ipython",
    "version": 3
   },
   "file_extension": ".py",
   "mimetype": "text/x-python",
   "name": "python",
   "nbconvert_exporter": "python",
   "pygments_lexer": "ipython3",
   "version": "3.8.12"
  },
  "toc-autonumbering": false,
  "toc-showmarkdowntxt": false
 },
 "nbformat": 4,
 "nbformat_minor": 5
}
