{
 "cells": [
  {
   "cell_type": "markdown",
   "id": "591ab664",
   "metadata": {},
   "source": [
    "# MTAOS add aberrations to M1M3+M2+hexapod #\n",
    "\n",
    "This notebook is used for the level 3 integration tests from test plan LVV-P81 (https://jira.lsstcorp.org/secure/Tests.jspa#/testPlan/LVV-P81) as part of test cylce LVV-C176 (https://jira.lsstcorp.org/secure/Tests.jspa#/testCycle/LVV-C176). The following tests are currently run as part of this notebook:\n",
    "\n",
    " - LVV-T2190 (https://jira.lsstcorp.org/secure/Tests.jspa#/testCase/LVV-T2190)\n",
    " \n",
    "Execution steps are separated by horizontal lines. Upon completion, save the notebook and its output as a pdf file to be attached to the test execution in JIRA. \n",
    "\n",
    "Last updated by E. Dennihy 20211020"
   ]
  },
  {
   "cell_type": "markdown",
   "id": "6f6476a9",
   "metadata": {},
   "source": [
    "***"
   ]
  },
  {
   "cell_type": "markdown",
   "id": "b0cf9364",
   "metadata": {},
   "source": [
    "Load all the needed libraries.\n",
    "Get the remotes ready\n",
    "Code in the notebook including section: \"Check the summary state of each CSC\"."
   ]
  },
  {
   "cell_type": "code",
   "execution_count": null,
   "id": "ef00e241",
   "metadata": {},
   "outputs": [],
   "source": [
    "%load_ext autoreload\n",
    "%autoreload 2"
   ]
  },
  {
   "cell_type": "code",
   "execution_count": null,
   "id": "6976a239",
   "metadata": {},
   "outputs": [],
   "source": [
    "import rubin_jupyter_utils.lab.notebook as nb\n",
    "nb.utils.get_node()"
   ]
  },
  {
   "cell_type": "code",
   "execution_count": null,
   "id": "73075779",
   "metadata": {},
   "outputs": [],
   "source": [
    "import os\n",
    "import sys\n",
    "import asyncio\n",
    "import logging\n",
    "\n",
    "import pandas as pd\n",
    "import numpy as np\n",
    "\n",
    "from matplotlib import pyplot as plt\n",
    "\n",
    "from lsst.ts import salobj\n",
    "from lsst.ts.observatory.control.maintel import MTCS, ComCam\n",
    "from lsst.ts.observatory.control import RotType"
   ]
  },
  {
   "cell_type": "code",
   "execution_count": null,
   "id": "8776dfda",
   "metadata": {},
   "outputs": [],
   "source": [
    "logging.basicConfig(format=\"%(name)s:%(message)s\", level=logging.DEBUG)"
   ]
  },
  {
   "cell_type": "code",
   "execution_count": null,
   "id": "7b3038c6",
   "metadata": {},
   "outputs": [],
   "source": [
    "log = logging.getLogger(\"setup\")\n",
    "log.level = logging.DEBUG"
   ]
  },
  {
   "cell_type": "code",
   "execution_count": null,
   "id": "25b3b0da",
   "metadata": {},
   "outputs": [],
   "source": [
    "domain = salobj.Domain()"
   ]
  },
  {
   "cell_type": "code",
   "execution_count": null,
   "id": "fae46ba6",
   "metadata": {},
   "outputs": [],
   "source": [
    "mtcs = MTCS(domain=domain, log=log)\n",
    "mtcs.set_rem_loglevel(40)"
   ]
  },
  {
   "cell_type": "code",
   "execution_count": null,
   "id": "349e8108",
   "metadata": {},
   "outputs": [],
   "source": [
    "await mtcs.start_task"
   ]
  },
  {
   "cell_type": "markdown",
   "id": "521c9d22",
   "metadata": {},
   "source": [
    "***"
   ]
  },
  {
   "cell_type": "markdown",
   "id": "7e073322",
   "metadata": {},
   "source": [
    "Ready M1M3:\n",
    "Raise mirror, turn on FB, clear forces\n",
    "\n",
    "Need to have M1M3 LUT use its inclinometer."
   ]
  },
  {
   "cell_type": "markdown",
   "id": "ef2e7074",
   "metadata": {},
   "source": [
    "***"
   ]
  },
  {
   "cell_type": "markdown",
   "id": "a0f80213",
   "metadata": {},
   "source": [
    "Ready M2:\n",
    "Turn on FB, clear forces\n",
    "\n",
    "Need to have M2 LUT use its inclinometer"
   ]
  },
  {
   "cell_type": "markdown",
   "id": "e8d57db0",
   "metadata": {},
   "source": [
    "***"
   ]
  },
  {
   "cell_type": "markdown",
   "id": "dcfd3e3a",
   "metadata": {},
   "source": [
    "Get camera hexapod ready: check config; make sure LUT is on, and has valid inputs; make sure hex is at LUT position\n"
   ]
  },
  {
   "cell_type": "markdown",
   "id": "d0dbcf1d",
   "metadata": {},
   "source": [
    "***"
   ]
  },
  {
   "cell_type": "markdown",
   "id": "f88dc8c8",
   "metadata": {},
   "source": [
    "Get M2 hexapod ready: check config; make sure LUT is on, and has valid inputs; make sure hex is at LUT position"
   ]
  },
  {
   "cell_type": "markdown",
   "id": "deb6d9b3",
   "metadata": {},
   "source": [
    "***\n",
    "Slew to the next target. Choose a target such that the rotator stays within a couple of degrees of its initial position. This is because the CCW is not running (MTmount in simulation mode)."
   ]
  },
  {
   "cell_type": "code",
   "execution_count": null,
   "id": "b0d5c479",
   "metadata": {},
   "outputs": [],
   "source": [
    "target = await mtcs.find_target(el=60, az=120, mag_limit=8)\n",
    "print(target)"
   ]
  },
  {
   "cell_type": "code",
   "execution_count": null,
   "id": "7eb81386",
   "metadata": {},
   "outputs": [],
   "source": [
    "await mtcs.slew_object(target, rot_type=RotType.PhysicalSky, rot=1.9)"
   ]
  },
  {
   "cell_type": "markdown",
   "id": "144fe790",
   "metadata": {},
   "source": [
    "***"
   ]
  },
  {
   "cell_type": "markdown",
   "id": "94412426",
   "metadata": {},
   "source": [
    "add 1um of z7 to the system via OFC\n",
    "\n",
    "Compare the corrections sent vs forces and position changes applied. This is currently done in a separate notebook."
   ]
  },
  {
   "cell_type": "code",
   "execution_count": null,
   "id": "09a5e153",
   "metadata": {},
   "outputs": [],
   "source": [
    "wavefront_errors = np.zeros(19)"
   ]
  },
  {
   "cell_type": "code",
   "execution_count": null,
   "id": "54b8bbe3",
   "metadata": {},
   "outputs": [],
   "source": [
    "wavefront_errors[3] += 1.0 # add1 um to z7"
   ]
  },
  {
   "cell_type": "code",
   "execution_count": null,
   "id": "b26cfc19",
   "metadata": {},
   "outputs": [],
   "source": [
    "await mtcs.rem.mtaos.cmd_addAberration.set_start(wf=wavefront_errors, timeout=10)"
   ]
  },
  {
   "cell_type": "markdown",
   "id": "ee1124a8",
   "metadata": {},
   "source": [
    "This command primes the corrections, the issueCorrection command is needed to actually command them to be sent"
   ]
  },
  {
   "cell_type": "code",
   "execution_count": null,
   "id": "2301f5f0",
   "metadata": {},
   "outputs": [],
   "source": [
    "await mtcs.rem.mtaos.cmd_issueCorrection.start(timeout=60.)"
   ]
  },
  {
   "cell_type": "markdown",
   "id": "98e25594",
   "metadata": {},
   "source": [
    "***\n",
    "Make plots using telemetry from each component to verify the changes in the DOFs. This step does not currently involve running any commands in this notebook. This step must be verified using a separate noteboook. "
   ]
  },
  {
   "cell_type": "markdown",
   "id": "56fbc63b",
   "metadata": {},
   "source": [
    "***\n",
    "reset the corrections using the resetCorrection command\n",
    "\n",
    "Compare the corrections sent vs forces and position changes applied (these are all expected to be zero). This is currently done in a separate notebook or on Chronograf. "
   ]
  },
  {
   "cell_type": "code",
   "execution_count": null,
   "id": "9ac96d8a",
   "metadata": {},
   "outputs": [],
   "source": [
    "await mtcs.rem.mtaos.cmd_resetCorrection.start()"
   ]
  },
  {
   "cell_type": "code",
   "execution_count": null,
   "id": "808c1fb5",
   "metadata": {},
   "outputs": [],
   "source": [
    "await mtcs.rem.mtaos.cmd_issueCorrection.start(timeout=60.)"
   ]
  },
  {
   "cell_type": "markdown",
   "id": "32b34689",
   "metadata": {},
   "source": [
    "***\n",
    "add 2um of z7 to the system via OFC\n",
    "\n",
    "Compare the corrections sent vs forces and position changes applied. This is currently done in a separate notebook or on Chronograf. "
   ]
  },
  {
   "cell_type": "code",
   "execution_count": null,
   "id": "1bc5625c",
   "metadata": {},
   "outputs": [],
   "source": [
    "wavefront_errors[3] = 2.0 # add 2.0 um of z7"
   ]
  },
  {
   "cell_type": "code",
   "execution_count": null,
   "id": "96ec618d",
   "metadata": {},
   "outputs": [],
   "source": [
    "await mtcs.rem.mtaos.cmd_addAberration.set_start(wf=wavefront_errors, timeout=10)"
   ]
  },
  {
   "cell_type": "code",
   "execution_count": null,
   "id": "dbd4fd0e",
   "metadata": {},
   "outputs": [],
   "source": [
    "await mtcs.rem.mtaos.cmd_issueCorrection.start(timeout=60.)"
   ]
  },
  {
   "cell_type": "markdown",
   "id": "99a48e19",
   "metadata": {},
   "source": [
    "***\n",
    "Stop Tracking"
   ]
  },
  {
   "cell_type": "code",
   "execution_count": null,
   "id": "ca763a73",
   "metadata": {},
   "outputs": [],
   "source": [
    "await mtcs.stop_tracking()"
   ]
  },
  {
   "cell_type": "markdown",
   "id": "c884702f",
   "metadata": {},
   "source": [
    "***\n",
    "Check that the corrections in step 10 are twice of those in step 7. This step does not currently involve running any commands in this notebook. This step must be verified using a separate noteboook. "
   ]
  },
  {
   "cell_type": "markdown",
   "id": "04633353",
   "metadata": {},
   "source": [
    "***\n",
    "Wrap up. Put each component to the following states:\n",
    "mtaos --> standby\n",
    "m1m3 --> lower mirror --> standby\n",
    "m2 --> standby\n",
    "camera hex --> standby\n",
    "m2 hex --> standby"
   ]
  },
  {
   "cell_type": "code",
   "execution_count": null,
   "id": "af21db61",
   "metadata": {},
   "outputs": [],
   "source": [
    "await mtcs.set_state(salobj.State.STANDBY, components=[\"mtaos\"])"
   ]
  },
  {
   "cell_type": "code",
   "execution_count": null,
   "id": "be5221d5",
   "metadata": {},
   "outputs": [],
   "source": [
    "await mtcs.lower_m1m3()"
   ]
  },
  {
   "cell_type": "code",
   "execution_count": null,
   "id": "28caaf13",
   "metadata": {},
   "outputs": [],
   "source": [
    "await mtcs.set_state(salobj.State.STANDBY, components=[\"mtm1m3\"])"
   ]
  },
  {
   "cell_type": "code",
   "execution_count": null,
   "id": "70237ed0",
   "metadata": {},
   "outputs": [],
   "source": [
    "await mtcs.set_state(salobj.State.STANDBY, components=[\"mtm2\"])"
   ]
  },
  {
   "cell_type": "code",
   "execution_count": null,
   "id": "72fe82b1",
   "metadata": {},
   "outputs": [],
   "source": [
    "await mtcs.set_state(salobj.State.STANDBY, components=[\"mthexapod_1\"])"
   ]
  },
  {
   "cell_type": "code",
   "execution_count": null,
   "id": "28860649",
   "metadata": {},
   "outputs": [],
   "source": [
    "await mtcs.set_state(salobj.State.STANDBY, components=[\"mthexapod_2\"])"
   ]
  },
  {
   "cell_type": "code",
   "execution_count": null,
   "id": "b6b36525",
   "metadata": {},
   "outputs": [],
   "source": [
    "await mtcs.standby()"
   ]
  }
 ],
 "metadata": {
  "kernelspec": {
   "display_name": "LSST",
   "language": "python",
   "name": "lsst"
  },
  "language_info": {
   "codemirror_mode": {
    "name": "ipython",
    "version": 3
   },
   "file_extension": ".py",
   "mimetype": "text/x-python",
   "name": "python",
   "nbconvert_exporter": "python",
   "pygments_lexer": "ipython3",
   "version": "3.8.13"
  },
  "toc-autonumbering": false,
  "toc-showcode": false,
  "toc-showmarkdowntxt": true
 },
 "nbformat": 4,
 "nbformat_minor": 5
}
