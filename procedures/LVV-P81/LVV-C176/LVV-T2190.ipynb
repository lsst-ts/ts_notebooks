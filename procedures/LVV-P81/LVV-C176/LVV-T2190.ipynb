{
 "cells": [
  {
   "cell_type": "markdown",
   "id": "9b558dca",
   "metadata": {},
   "source": [
    "# Description #\n",
    "\n",
    "This notebook is used for the level 3 integration tests from test plan LVV-P81 (https://jira.lsstcorp.org/secure/Tests.jspa#/testPlan/LVV-P81) as part of test cylce LVV-C176 (https://jira.lsstcorp.org/secure/Tests.jspa#/testCycle/LVV-C176). The following tests are currently run as part of this notebook:\n",
    "\n",
    " - LVV-T2190 (https://jira.lsstcorp.org/secure/Tests.jspa#/testCase/LVV-T2190)\n",
    " \n",
    "Upon completion, save the notebook and its output as a pdf file to be attached to the test execution in JIRA. \n",
    "\n",
    "Last executed by E. Dennihy 20210928"
   ]
  },
  {
   "cell_type": "markdown",
   "id": "73db020e",
   "metadata": {},
   "source": [
    "## Steps 1-2 ##\n",
    "\n",
    "This is a generic notebook setup step, it can be considered as part of execution steps 1+2."
   ]
  },
  {
   "cell_type": "code",
   "execution_count": null,
   "id": "8db69554",
   "metadata": {},
   "outputs": [],
   "source": [
    "%load_ext autoreload\n",
    "%autoreload 2"
   ]
  },
  {
   "cell_type": "code",
   "execution_count": null,
   "id": "365bac70",
   "metadata": {},
   "outputs": [],
   "source": [
    "import rubin_jupyter_utils.lab.notebook as nb\n",
    "nb.utils.get_node()"
   ]
  },
  {
   "cell_type": "code",
   "execution_count": null,
   "id": "a1a255e0",
   "metadata": {},
   "outputs": [],
   "source": [
    "import os\n",
    "import sys\n",
    "import asyncio\n",
    "import logging\n",
    "\n",
    "import pandas as pd\n",
    "import numpy as np\n",
    "\n",
    "from matplotlib import pyplot as plt\n",
    "\n",
    "from lsst.ts import salobj\n",
    "from lsst.ts.observatory.control.maintel import MTCS, ComCam\n",
    "from lsst.ts.observatory.control import RotType"
   ]
  },
  {
   "cell_type": "code",
   "execution_count": null,
   "id": "81dc1afd",
   "metadata": {},
   "outputs": [],
   "source": [
    "logging.basicConfig(format=\"%(name)s:%(message)s\", level=logging.DEBUG)"
   ]
  },
  {
   "cell_type": "code",
   "execution_count": null,
   "id": "5499dda3",
   "metadata": {},
   "outputs": [],
   "source": [
    "log = logging.getLogger(\"setup\")\n",
    "log.level = logging.DEBUG"
   ]
  },
  {
   "cell_type": "code",
   "execution_count": null,
   "id": "5e085c3c",
   "metadata": {},
   "outputs": [],
   "source": [
    "domain = salobj.Domain()"
   ]
  },
  {
   "cell_type": "code",
   "execution_count": null,
   "id": "060661dc",
   "metadata": {},
   "outputs": [],
   "source": [
    "mtcs = MTCS(domain=domain, log=log)\n",
    "mtcs.set_rem_loglevel(40)"
   ]
  },
  {
   "cell_type": "code",
   "execution_count": null,
   "id": "7066f0c0",
   "metadata": {},
   "outputs": [],
   "source": [
    "await mtcs.start_task"
   ]
  },
  {
   "cell_type": "markdown",
   "id": "eb2aad1c",
   "metadata": {},
   "source": [
    "## Steps 3-6 ##\n",
    "\n",
    "Steps 3-6 are not currently run as part of this notebook. \n",
    "\n",
    "To-do: add commands necessary for steps 3-6 to notebook"
   ]
  },
  {
   "cell_type": "markdown",
   "id": "c3cf924e",
   "metadata": {},
   "source": [
    "## Step 7 ##\n",
    "\n",
    "add 1um of z7 to the system via OFC\n",
    "\n",
    "Compare the corrections sent vs forces and position changes applied. This is currently done in a separate notebook."
   ]
  },
  {
   "cell_type": "code",
   "execution_count": null,
   "id": "30a59e86",
   "metadata": {},
   "outputs": [],
   "source": [
    "wavefront_errors = np.zeros(19)"
   ]
  },
  {
   "cell_type": "code",
   "execution_count": null,
   "id": "3158a65c",
   "metadata": {},
   "outputs": [],
   "source": [
    "wavefront_errors[3] += 0.1 # add1 um to z7"
   ]
  },
  {
   "cell_type": "code",
   "execution_count": null,
   "id": "8d24abe2",
   "metadata": {},
   "outputs": [],
   "source": [
    "await mtcs.rem.mtaos.cmd_addAberration.set_start(wf=wavefront_errors, timeout=10)"
   ]
  },
  {
   "cell_type": "markdown",
   "id": "965fc7c5",
   "metadata": {},
   "source": [
    "This command primes the corrections, the issueCorrection command is needed to actually command them to be sent"
   ]
  },
  {
   "cell_type": "code",
   "execution_count": null,
   "id": "fff21a46",
   "metadata": {},
   "outputs": [],
   "source": [
    "await mtcs.rem.mtaos.cmd_issueCorrection.start(timeout=60.)"
   ]
  },
  {
   "cell_type": "markdown",
   "id": "d75852ca",
   "metadata": {},
   "source": [
    "## Step 8 ##\n",
    "\n",
    "Make plots using telemetry from each component to verify the changes in the DOFs. This step does not currently involve running any commands in this notebook. This step must be verified using a separate noteboook. "
   ]
  },
  {
   "cell_type": "markdown",
   "id": "3a43b658",
   "metadata": {},
   "source": [
    "## Step 9 ##\n",
    "\n",
    "reset the corrections using the resetCorrection command\n",
    "\n",
    "Compare the corrections sent vs forces and position changes applied (these are all expected to be zero). This is currently done in a separate notebook or on Chronograf. "
   ]
  },
  {
   "cell_type": "code",
   "execution_count": null,
   "id": "94bc427e",
   "metadata": {},
   "outputs": [],
   "source": [
    "await mtcs.rem.mtaos.cmd_resetCorrection.start()"
   ]
  },
  {
   "cell_type": "markdown",
   "id": "4d3f56ba",
   "metadata": {},
   "source": [
    "## Step 10 ##\n",
    "\n",
    "add 2um of z7 to the system via OFC\n",
    "\n",
    "Compare the corrections sent vs forces and position changes applied. This is currently done in a separate notebook or on Chronograf. "
   ]
  },
  {
   "cell_type": "code",
   "execution_count": null,
   "id": "2f2f54e1",
   "metadata": {},
   "outputs": [],
   "source": [
    "wavefront_errors[3] = 1.0 # add 2.0 um of z7"
   ]
  },
  {
   "cell_type": "code",
   "execution_count": null,
   "id": "6dd67d13",
   "metadata": {},
   "outputs": [],
   "source": [
    "await mtcs.rem.mtaos.cmd_addAberration.set_start(wf=wavefront_errors, timeout=10)"
   ]
  },
  {
   "cell_type": "code",
   "execution_count": null,
   "id": "cf25321f",
   "metadata": {},
   "outputs": [],
   "source": [
    "await mtcs.rem.mtaos.cmd_issueCorrection.start(timeout=60.)"
   ]
  },
  {
   "cell_type": "markdown",
   "id": "799a5ea2",
   "metadata": {},
   "source": [
    "## Step 11 ##\n",
    "\n",
    "Check that the corrections in step 10 are twice of those in step 7. This step does not currently involve running any commands in this notebook. This step must be verified using a separate noteboook. "
   ]
  },
  {
   "cell_type": "markdown",
   "id": "10aa5a77",
   "metadata": {},
   "source": [
    "## Step 12 ##\n",
    "\n",
    "Wrap up. Put each component to the following states:\n",
    "mtaos --> standby\n",
    "m1m3 --> lower mirror --> standby\n",
    "m2 --> standby\n",
    "camera hex --> standby\n",
    "m2 hex --> standby"
   ]
  },
  {
   "cell_type": "code",
   "execution_count": null,
   "id": "49e698d1",
   "metadata": {},
   "outputs": [],
   "source": [
    "await mtcs.set_state(salobj.State.STANDBY, components=[\"mtaos\"])"
   ]
  },
  {
   "cell_type": "code",
   "execution_count": null,
   "id": "fccd77f1",
   "metadata": {},
   "outputs": [],
   "source": [
    "await mtcs.lower_m1m3()"
   ]
  },
  {
   "cell_type": "code",
   "execution_count": null,
   "id": "b5076614",
   "metadata": {},
   "outputs": [],
   "source": [
    "await mtcs.set_state(salobj.State.STANDBY, components=[\"mtm1m3\"])"
   ]
  },
  {
   "cell_type": "code",
   "execution_count": null,
   "id": "17d8db27",
   "metadata": {},
   "outputs": [],
   "source": [
    "await mtcs.set_state(salobj.State.STANDBY, components=[\"mtm2\"])"
   ]
  },
  {
   "cell_type": "code",
   "execution_count": null,
   "id": "84e7b21a",
   "metadata": {},
   "outputs": [],
   "source": [
    "await mtcs.set_state(salobj.State.STANDBY, components=[\"mthexapod_1\"])"
   ]
  },
  {
   "cell_type": "code",
   "execution_count": null,
   "id": "9f29134d",
   "metadata": {},
   "outputs": [],
   "source": [
    "await mtcs.set_state(salobj.State.STANDBY, components=[\"mthexapod_2\"])"
   ]
  },
  {
   "cell_type": "code",
   "execution_count": null,
   "id": "8cf8932d",
   "metadata": {},
   "outputs": [],
   "source": [
    "await mtcs.standby()"
   ]
  }
 ],
 "metadata": {
  "kernelspec": {
   "display_name": "LSST",
   "language": "python",
   "name": "lsst"
  },
  "language_info": {
   "codemirror_mode": {
    "name": "ipython",
    "version": 3
   },
   "file_extension": ".py",
   "mimetype": "text/x-python",
   "name": "python",
   "nbconvert_exporter": "python",
   "pygments_lexer": "ipython3",
   "version": "3.8.8"
  },
  "toc-autonumbering": false
 },
 "nbformat": 4,
 "nbformat_minor": 5
}
