{
 "cells": [
  {
   "cell_type": "markdown",
   "id": "c4f4c758",
   "metadata": {},
   "source": [
    "# MTAOS add aberrations to M1M3+M2+hexapod #\n",
    "\n",
    "This notebook is used for the level 3 integration tests from test plan LVV-P81 (https://jira.lsstcorp.org/secure/Tests.jspa#/testPlan/LVV-P81) as part of test cylce LVV-C176 (https://jira.lsstcorp.org/secure/Tests.jspa#/testCycle/LVV-C176). The following tests are currently run as part of this notebook:\n",
    "\n",
    " - LVV-T2190 (https://jira.lsstcorp.org/secure/Tests.jspa#/testCase/LVV-T2190)\n",
    " \n",
    "Execution steps are separated by horizontal lines. Upon completion, save the notebook and its output as a pdf file to be attached to the test execution in JIRA. \n",
    "\n",
    "Last executed by E. Dennihy 20210928"
   ]
  },
  {
   "cell_type": "markdown",
   "id": "ae13b7fe",
   "metadata": {},
   "source": [
    "***\n",
    "Log onto the summit Nublado (https://summit-lsp.lsst.codes/)\n",
    "Clone the GitHub repository with the notebook need for this test case using:\n",
    "```\n",
    "git clone https://github.com/lsst-ts/ts_notebooks.git\n",
    "git checkout tickets/DM-29548\n",
    "git clone https://github.com/lsst-sitcom/M2_FEA\n",
    "```\n",
    "\n",
    "The notebooks we need are in https://github.com/lsst-ts/ts_notebooks/tree/develop/bxin/aos2comp\n",
    "\n",
    "All the following steps are executed using these notebooks."
   ]
  },
  {
   "cell_type": "markdown",
   "id": "a00c3cae",
   "metadata": {},
   "source": [
    "***"
   ]
  },
  {
   "cell_type": "markdown",
   "id": "0e1051bb",
   "metadata": {},
   "source": [
    "Load all the needed libraries.\n",
    "Get the remotes ready\n",
    "Code in the notebook including section: \"Check the summary state of each CSC\"."
   ]
  },
  {
   "cell_type": "code",
   "execution_count": null,
   "id": "60884ee6",
   "metadata": {},
   "outputs": [],
   "source": [
    "%load_ext autoreload\n",
    "%autoreload 2"
   ]
  },
  {
   "cell_type": "code",
   "execution_count": null,
   "id": "ecdec726",
   "metadata": {},
   "outputs": [],
   "source": [
    "import rubin_jupyter_utils.lab.notebook as nb\n",
    "nb.utils.get_node()"
   ]
  },
  {
   "cell_type": "code",
   "execution_count": null,
   "id": "c362f4f1",
   "metadata": {},
   "outputs": [],
   "source": [
    "import os\n",
    "import sys\n",
    "import asyncio\n",
    "import logging\n",
    "\n",
    "import pandas as pd\n",
    "import numpy as np\n",
    "\n",
    "from matplotlib import pyplot as plt\n",
    "\n",
    "from lsst.ts import salobj\n",
    "from lsst.ts.observatory.control.maintel import MTCS, ComCam\n",
    "from lsst.ts.observatory.control import RotType"
   ]
  },
  {
   "cell_type": "code",
   "execution_count": null,
   "id": "55768945",
   "metadata": {},
   "outputs": [],
   "source": [
    "logging.basicConfig(format=\"%(name)s:%(message)s\", level=logging.DEBUG)"
   ]
  },
  {
   "cell_type": "code",
   "execution_count": null,
   "id": "c95ba615",
   "metadata": {},
   "outputs": [],
   "source": [
    "log = logging.getLogger(\"setup\")\n",
    "log.level = logging.DEBUG"
   ]
  },
  {
   "cell_type": "code",
   "execution_count": null,
   "id": "061865d0",
   "metadata": {},
   "outputs": [],
   "source": [
    "domain = salobj.Domain()"
   ]
  },
  {
   "cell_type": "code",
   "execution_count": null,
   "id": "fd82ead1",
   "metadata": {},
   "outputs": [],
   "source": [
    "mtcs = MTCS(domain=domain, log=log)\n",
    "mtcs.set_rem_loglevel(40)"
   ]
  },
  {
   "cell_type": "code",
   "execution_count": null,
   "id": "1a47ab25",
   "metadata": {},
   "outputs": [],
   "source": [
    "await mtcs.start_task"
   ]
  },
  {
   "cell_type": "markdown",
   "id": "6760e281",
   "metadata": {},
   "source": [
    "***"
   ]
  },
  {
   "cell_type": "markdown",
   "id": "7daa7c92",
   "metadata": {},
   "source": [
    "Ready M1M3:\n",
    "Raise mirror, turn on FB, clear forces\n",
    "\n",
    "Need to have M1M3 LUT use its inclinometer."
   ]
  },
  {
   "cell_type": "markdown",
   "id": "72787ce3",
   "metadata": {},
   "source": [
    "***"
   ]
  },
  {
   "cell_type": "markdown",
   "id": "c1f4de1a",
   "metadata": {},
   "source": [
    "Ready M2:\n",
    "Turn on FB, clear forces\n",
    "\n",
    "Need to have M2 LUT use its inclinometer"
   ]
  },
  {
   "cell_type": "markdown",
   "id": "e20c9f4c",
   "metadata": {},
   "source": [
    "***"
   ]
  },
  {
   "cell_type": "markdown",
   "id": "0243715c",
   "metadata": {},
   "source": [
    "Get camera hexapod ready: check config; make sure LUT is on, and has valid inputs; make sure hex is at LUT position\n"
   ]
  },
  {
   "cell_type": "markdown",
   "id": "2393b29e",
   "metadata": {},
   "source": [
    "***"
   ]
  },
  {
   "cell_type": "markdown",
   "id": "bf918362",
   "metadata": {},
   "source": [
    "Get M2 hexapod ready: check config; make sure LUT is on, and has valid inputs; make sure hex is at LUT position"
   ]
  },
  {
   "cell_type": "markdown",
   "id": "1ef33b19",
   "metadata": {},
   "source": [
    "***"
   ]
  },
  {
   "cell_type": "markdown",
   "id": "6cab093d",
   "metadata": {},
   "source": [
    "add 1um of z7 to the system via OFC\n",
    "\n",
    "Compare the corrections sent vs forces and position changes applied. This is currently done in a separate notebook."
   ]
  },
  {
   "cell_type": "code",
   "execution_count": null,
   "id": "1d9ad7a5",
   "metadata": {},
   "outputs": [],
   "source": [
    "wavefront_errors = np.zeros(19)"
   ]
  },
  {
   "cell_type": "code",
   "execution_count": null,
   "id": "4bfb5ded",
   "metadata": {},
   "outputs": [],
   "source": [
    "wavefront_errors[3] += 0.1 # add1 um to z7"
   ]
  },
  {
   "cell_type": "code",
   "execution_count": null,
   "id": "282ea467",
   "metadata": {},
   "outputs": [],
   "source": [
    "await mtcs.rem.mtaos.cmd_addAberration.set_start(wf=wavefront_errors, timeout=10)"
   ]
  },
  {
   "cell_type": "markdown",
   "id": "6914cde6",
   "metadata": {},
   "source": [
    "This command primes the corrections, the issueCorrection command is needed to actually command them to be sent"
   ]
  },
  {
   "cell_type": "code",
   "execution_count": null,
   "id": "5c3681eb",
   "metadata": {},
   "outputs": [],
   "source": [
    "await mtcs.rem.mtaos.cmd_issueCorrection.start(timeout=60.)"
   ]
  },
  {
   "cell_type": "markdown",
   "id": "51569ef2",
   "metadata": {},
   "source": [
    "***\n",
    "Make plots using telemetry from each component to verify the changes in the DOFs. This step does not currently involve running any commands in this notebook. This step must be verified using a separate noteboook. "
   ]
  },
  {
   "cell_type": "markdown",
   "id": "f80d1461",
   "metadata": {},
   "source": [
    "***\n",
    "reset the corrections using the resetCorrection command\n",
    "\n",
    "Compare the corrections sent vs forces and position changes applied (these are all expected to be zero). This is currently done in a separate notebook or on Chronograf. "
   ]
  },
  {
   "cell_type": "code",
   "execution_count": null,
   "id": "2d82af45",
   "metadata": {},
   "outputs": [],
   "source": [
    "await mtcs.rem.mtaos.cmd_resetCorrection.start()"
   ]
  },
  {
   "cell_type": "markdown",
   "id": "5fcb0a3b",
   "metadata": {},
   "source": [
    "***\n",
    "add 2um of z7 to the system via OFC\n",
    "\n",
    "Compare the corrections sent vs forces and position changes applied. This is currently done in a separate notebook or on Chronograf. "
   ]
  },
  {
   "cell_type": "code",
   "execution_count": null,
   "id": "ececd310",
   "metadata": {},
   "outputs": [],
   "source": [
    "wavefront_errors[3] = 1.0 # add 2.0 um of z7"
   ]
  },
  {
   "cell_type": "code",
   "execution_count": null,
   "id": "094c629d",
   "metadata": {},
   "outputs": [],
   "source": [
    "await mtcs.rem.mtaos.cmd_addAberration.set_start(wf=wavefront_errors, timeout=10)"
   ]
  },
  {
   "cell_type": "code",
   "execution_count": null,
   "id": "97a16716",
   "metadata": {},
   "outputs": [],
   "source": [
    "await mtcs.rem.mtaos.cmd_issueCorrection.start(timeout=60.)"
   ]
  },
  {
   "cell_type": "markdown",
   "id": "65e89aa9",
   "metadata": {},
   "source": [
    "***\n",
    "Check that the corrections in step 10 are twice of those in step 7. This step does not currently involve running any commands in this notebook. This step must be verified using a separate noteboook. "
   ]
  },
  {
   "cell_type": "markdown",
   "id": "ca767a94",
   "metadata": {},
   "source": [
    "***\n",
    "Wrap up. Put each component to the following states:\n",
    "mtaos --> standby\n",
    "m1m3 --> lower mirror --> standby\n",
    "m2 --> standby\n",
    "camera hex --> standby\n",
    "m2 hex --> standby"
   ]
  },
  {
   "cell_type": "code",
   "execution_count": null,
   "id": "c7864ee1",
   "metadata": {},
   "outputs": [],
   "source": [
    "await mtcs.set_state(salobj.State.STANDBY, components=[\"mtaos\"])"
   ]
  },
  {
   "cell_type": "code",
   "execution_count": null,
   "id": "94710fb4",
   "metadata": {},
   "outputs": [],
   "source": [
    "await mtcs.lower_m1m3()"
   ]
  },
  {
   "cell_type": "code",
   "execution_count": null,
   "id": "1be6247d",
   "metadata": {},
   "outputs": [],
   "source": [
    "await mtcs.set_state(salobj.State.STANDBY, components=[\"mtm1m3\"])"
   ]
  },
  {
   "cell_type": "code",
   "execution_count": null,
   "id": "6f3a35da",
   "metadata": {},
   "outputs": [],
   "source": [
    "await mtcs.set_state(salobj.State.STANDBY, components=[\"mtm2\"])"
   ]
  },
  {
   "cell_type": "code",
   "execution_count": null,
   "id": "1ad4cffa",
   "metadata": {},
   "outputs": [],
   "source": [
    "await mtcs.set_state(salobj.State.STANDBY, components=[\"mthexapod_1\"])"
   ]
  },
  {
   "cell_type": "code",
   "execution_count": null,
   "id": "08a77d9e",
   "metadata": {},
   "outputs": [],
   "source": [
    "await mtcs.set_state(salobj.State.STANDBY, components=[\"mthexapod_2\"])"
   ]
  },
  {
   "cell_type": "code",
   "execution_count": null,
   "id": "7cc43bac",
   "metadata": {},
   "outputs": [],
   "source": [
    "await mtcs.standby()"
   ]
  }
 ],
 "metadata": {
  "kernelspec": {
   "display_name": "LSST",
   "language": "python",
   "name": "lsst"
  },
  "language_info": {
   "codemirror_mode": {
    "name": "ipython",
    "version": 3
   },
   "file_extension": ".py",
   "mimetype": "text/x-python",
   "name": "python",
   "nbconvert_exporter": "python",
   "pygments_lexer": "ipython3",
   "version": "3.8.8"
  },
  "toc-autonumbering": false,
  "toc-showcode": false,
  "toc-showmarkdowntxt": true
 },
 "nbformat": 4,
 "nbformat_minor": 5
}
