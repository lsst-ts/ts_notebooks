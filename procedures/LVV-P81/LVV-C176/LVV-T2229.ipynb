{
 "cells": [
  {
   "cell_type": "markdown",
   "id": "ce11068e",
   "metadata": {},
   "source": [
    "# Closed Loop ComCam Image Ingestion and Application of Correction\n",
    "\n",
    "This notebook is used for the level 3 integration tests from test plan LVV-P81 (https://jira.lsstcorp.org/secure/Tests.jspa#/testPlan/LVV-P81) as part of test cylce LVV-C176 (https://jira.lsstcorp.org/secure/Tests.jspa#/testCycle/LVV-C176). The following tests are currently run as part of this notebook:\n",
    "\n",
    " - LVV-T2229 (https://jira.lsstcorp.org/secure/Tests.jspa#/testCase/LVV-T2229)\n",
    " \n",
    "Execution steps are separated by horizontal lines. Upon completion, save the notebook and its output as a pdf file to be attached to the test execution in JIRA. \n",
    "\n",
    "Last executed by B. Quint"
   ]
  },
  {
   "cell_type": "markdown",
   "id": "97d0f9bb",
   "metadata": {},
   "source": [
    "***\n",
    "Run the setup.ipnyb notebook to bring all components up and in their enabled position. Check Chronograph."
   ]
  },
  {
   "cell_type": "markdown",
   "id": "062ad436",
   "metadata": {},
   "source": [
    "***"
   ]
  },
  {
   "cell_type": "markdown",
   "id": "f1966366",
   "metadata": {},
   "source": [
    "Bring ComCom online and tranistion it to EnabledState. Check Chronograph."
   ]
  },
  {
   "cell_type": "code",
   "execution_count": null,
   "id": "1865d513",
   "metadata": {},
   "outputs": [],
   "source": [
    "%load_ext autoreload\n",
    "%autoreload 2"
   ]
  },
  {
   "cell_type": "code",
   "execution_count": null,
   "id": "7b5b228a",
   "metadata": {},
   "outputs": [],
   "source": [
    "import rubin_jupyter_utils.lab.notebook as nb\n",
    "nb.utils.get_node()"
   ]
  },
  {
   "cell_type": "code",
   "execution_count": null,
   "id": "ee0e379e",
   "metadata": {},
   "outputs": [],
   "source": [
    "import os\n",
    "import sys\n",
    "import asyncio\n",
    "import logging\n",
    "\n",
    "import pandas as pd\n",
    "import numpy as np\n",
    "\n",
    "from matplotlib import pyplot as plt\n",
    "\n",
    "from lsst.ts import salobj\n",
    "from lsst.ts.observatory.control.maintel import MTCS, ComCam\n",
    "from lsst.ts.observatory.control import RotType"
   ]
  },
  {
   "cell_type": "code",
   "execution_count": null,
   "id": "9b4ec348",
   "metadata": {},
   "outputs": [],
   "source": [
    "logging.basicConfig(format=\"%(name)s:%(message)s\", level=logging.DEBUG)"
   ]
  },
  {
   "cell_type": "code",
   "execution_count": null,
   "id": "5cbe1cee",
   "metadata": {},
   "outputs": [],
   "source": [
    "log = logging.getLogger(\"setup\")\n",
    "log.level = logging.DEBUG"
   ]
  },
  {
   "cell_type": "code",
   "execution_count": null,
   "id": "37ef054e",
   "metadata": {},
   "outputs": [],
   "source": [
    "domain = salobj.Domain()"
   ]
  },
  {
   "cell_type": "code",
   "execution_count": null,
   "id": "3ffca8f4",
   "metadata": {},
   "outputs": [],
   "source": [
    "mtcs = MTCS(domain=domain, log=log)\n",
    "mtcs.set_rem_loglevel(40)"
   ]
  },
  {
   "cell_type": "code",
   "execution_count": null,
   "id": "bed75413",
   "metadata": {},
   "outputs": [],
   "source": [
    "await mtcs.start_task"
   ]
  },
  {
   "cell_type": "code",
   "execution_count": null,
   "id": "0220ad01",
   "metadata": {},
   "outputs": [],
   "source": [
    "comcam = ComCam(domain=domain, log=log)"
   ]
  },
  {
   "cell_type": "code",
   "execution_count": null,
   "id": "1dff51ea",
   "metadata": {},
   "outputs": [],
   "source": [
    "comcam.set_rem_loglevel(40)"
   ]
  },
  {
   "cell_type": "code",
   "execution_count": null,
   "id": "55175018",
   "metadata": {},
   "outputs": [],
   "source": [
    "await comcam.start_task"
   ]
  },
  {
   "cell_type": "code",
   "execution_count": null,
   "id": "cacc7c38",
   "metadata": {},
   "outputs": [],
   "source": [
    "await comcam.enable()"
   ]
  },
  {
   "cell_type": "markdown",
   "id": "3e29d77c-65d8-4d22-ad46-708dcae9a571",
   "metadata": {},
   "source": [
    "---\n",
    "\n",
    "Find a target around az = 120º and el = 60º and rotator angle at PhysicalSky and 1.8º.\n",
    "\n",
    "At this position, the rotator stays within a couple of degrees of its initial position. This is because the CCW is not running (MTmount in simulation mode).\n",
    "\n",
    "target -> az = 120$^o$, el = 60$^o$  "
   ]
  },
  {
   "cell_type": "code",
   "execution_count": null,
   "id": "1bbe942b-3063-4102-89dd-b087337cbe53",
   "metadata": {
    "tags": []
   },
   "outputs": [],
   "source": [
    "target = await mtcs.find_target(az=120, el=60, mag_limit=8)\n",
    "\n",
    "print(f\"Target: {target}\")"
   ]
  },
  {
   "cell_type": "markdown",
   "id": "0cd30d55",
   "metadata": {},
   "source": [
    "***\n",
    "Slew to target:"
   ]
  },
  {
   "cell_type": "code",
   "execution_count": null,
   "id": "8c0f1a17",
   "metadata": {
    "tags": []
   },
   "outputs": [],
   "source": [
    "await mtcs.slew_object(target, rot_type=RotType.PhysicalSky, rot=1.9)"
   ]
  },
  {
   "cell_type": "markdown",
   "id": "6d0aa8ff",
   "metadata": {},
   "source": [
    "***\n",
    "Once the different components are ready (M1M3, M2, rotator and CCW, hexapods) and tracking, take an image using the take_image command in playback mode.\n",
    "This second image should be the one that uses the correction calculated with the first slew."
   ]
  },
  {
   "cell_type": "code",
   "execution_count": null,
   "id": "b4e272fb",
   "metadata": {
    "tags": []
   },
   "outputs": [],
   "source": [
    "exp_focus = await comcam.take_object(15)\n",
    "print(f\"Target exposure: {exp_focus}\")"
   ]
  },
  {
   "cell_type": "markdown",
   "id": "fb8325ef-0998-4c3b-b13f-0fa856aea39c",
   "metadata": {},
   "source": [
    "----\n",
    "Using the Camera Hexapod, piston ComCam +1mm"
   ]
  },
  {
   "cell_type": "code",
   "execution_count": null,
   "id": "326c71f7-f0df-433d-8cf3-d41009b37823",
   "metadata": {
    "tags": []
   },
   "outputs": [],
   "source": [
    "await mtcs.rem.mthexapod_1.cmd_offset.set_start(z=1000.)"
   ]
  },
  {
   "cell_type": "markdown",
   "id": "6f0aa9e5-4c1f-44c2-97d6-a5e91ed5826a",
   "metadata": {},
   "source": [
    "----\n",
    "While tracking, take an image with ComCam and check that the header is containing the right telemetry"
   ]
  },
  {
   "cell_type": "code",
   "execution_count": null,
   "id": "29810983-ebf7-431d-8c04-0c17b7942e46",
   "metadata": {},
   "outputs": [],
   "source": [
    "exp_intra = await comcam.take_object(15)\n",
    "print(f\"Target 1 exposure: {exp_intra}\")"
   ]
  },
  {
   "cell_type": "markdown",
   "id": "e2c8a502-b1ca-433b-8fc6-d8c8b989fc7c",
   "metadata": {},
   "source": [
    "---\n",
    "Using the Camera Hexapod, piston ComCam to -1mm"
   ]
  },
  {
   "cell_type": "code",
   "execution_count": null,
   "id": "d24268f9-c5c0-4cec-84f5-47a20cf9b453",
   "metadata": {},
   "outputs": [],
   "source": [
    "await mtcs.rem.mthexapod_1.cmd_offset.set_start(z=-2000.)"
   ]
  },
  {
   "cell_type": "markdown",
   "id": "64009413-f321-495c-8a3b-58959f11cea3",
   "metadata": {},
   "source": [
    "---\n",
    "While tracking, take an image with ComCam and check that the header is containing the right telemetry."
   ]
  },
  {
   "cell_type": "code",
   "execution_count": null,
   "id": "bfc3b17e-cd5e-4d66-a7e9-71a6438554d2",
   "metadata": {
    "tags": []
   },
   "outputs": [],
   "source": [
    "exp_extra = await comcam.take_object(15)\n",
    "print(f\"Target 1 exposure: {exp_extra}\")"
   ]
  },
  {
   "cell_type": "markdown",
   "id": "ad48b0fa-f654-4188-b2c2-e16ccf4a134f",
   "metadata": {},
   "source": [
    "---\n",
    "Put the hexapod back to 0mm."
   ]
  },
  {
   "cell_type": "code",
   "execution_count": null,
   "id": "122aeae8-18fa-4f52-8ff6-8b6c5af6a850",
   "metadata": {},
   "outputs": [],
   "source": [
    "await mtcs.rem.mthexapod_1.cmd_offset.set_start(z=1000.)"
   ]
  },
  {
   "cell_type": "markdown",
   "id": "f51d3502-6ca4-4a02-8a77-ae32b91be313",
   "metadata": {},
   "source": [
    "---\n",
    "If using MTMount Simulator and CCW Following Mode Disabled, stop tracking to prevent the Rotator to hit the limit switches."
   ]
  },
  {
   "cell_type": "code",
   "execution_count": null,
   "id": "5f82ae6f",
   "metadata": {
    "tags": []
   },
   "outputs": [],
   "source": [
    "await mtcs.stop_tracking()"
   ]
  },
  {
   "cell_type": "markdown",
   "id": "52439522-f1c6-43cb-ac0a-1ad10e62d967",
   "metadata": {},
   "source": [
    "---\n",
    "Use the MTAOS to calculate the required offsets to be sent to M1M3, M2 and the hexapods"
   ]
  },
  {
   "cell_type": "code",
   "execution_count": null,
   "id": "0abd5ee1-6732-403f-b2aa-3e6bab2ecf28",
   "metadata": {},
   "outputs": [],
   "source": [
    "await mtcs.rem.mtaos.cmd_runWEP.set_start(visitId=exp_intra[0], \n",
    "                                          extraId=exp_extra[0])\n",
    "\n",
    "await mtcs.rem.mtaos.cmd_runOFC.start(timeout=60.)\n",
    "\n",
    "await mtcs.rem.mtaos.cmd_issueCorrection.start(timeout=60.)"
   ]
  },
  {
   "cell_type": "code",
   "execution_count": null,
   "id": "8b153b4a-3afe-4b5d-8e54-b93bea67a34c",
   "metadata": {
    "tags": []
   },
   "outputs": [],
   "source": [
    "await mtcs.set_state(\n",
    "    state=salobj.State.STANDBY,\n",
    "    settings=dict(mtaos=\"impg\"),\n",
    "    components=[\"mtaos\"]\n",
    "    )"
   ]
  },
  {
   "cell_type": "code",
   "execution_count": null,
   "id": "2dd26682-38c5-447a-b044-f7a99ce66f61",
   "metadata": {
    "tags": []
   },
   "outputs": [],
   "source": [
    "await mtcs.set_state(\n",
    "    state=salobj.State.ENABLED,\n",
    "    settings=dict(mtaos=\"impg\"),\n",
    "    components=[\"mtaos\"]\n",
    "    )"
   ]
  },
  {
   "cell_type": "markdown",
   "id": "f1d8d409-3cb1-4cd3-8f02-4589e715de61",
   "metadata": {},
   "source": [
    "---\n",
    "Process wavefront data"
   ]
  },
  {
   "cell_type": "code",
   "execution_count": null,
   "id": "c6a06127-8fac-4da3-96ac-7b4dfcc58762",
   "metadata": {
    "tags": []
   },
   "outputs": [],
   "source": [
    "await mtcs.rem.mtaos.cmd_runWEP.set_start(visitId=exp_intra[0] - 2021111900000, \n",
    "                                          extraId=exp_extra[0] - 2021111900000)"
   ]
  },
  {
   "cell_type": "markdown",
   "id": "ec7f96da-e9c9-4c82-9858-be3b3aef2b86",
   "metadata": {},
   "source": [
    "---\n",
    "Apply the resulting offsets to the M1M3, M2 and the hexapods."
   ]
  },
  {
   "cell_type": "code",
   "execution_count": null,
   "id": "e1fd393d-43f3-4a40-9f60-dd468da400c4",
   "metadata": {},
   "outputs": [],
   "source": [
    "await mtcs.rem.mtaos.cmd_runOFC.start(timeout=60.)"
   ]
  },
  {
   "cell_type": "markdown",
   "id": "6cb1e65c-3b15-4d0f-a145-c9c6b0fd1c04",
   "metadata": {},
   "source": [
    "---\n",
    "Issue the corrections"
   ]
  },
  {
   "cell_type": "code",
   "execution_count": null,
   "id": "c43a1fa9-c01e-4d5c-9a68-77249befbda4",
   "metadata": {},
   "outputs": [],
   "source": [
    "await mtcs.rem.mtaos.cmd_issueCorrection.start(timeout=60.)"
   ]
  },
  {
   "cell_type": "markdown",
   "id": "7b4fe4a0",
   "metadata": {},
   "source": [
    "***\n",
    "Query the butler to verify that the images are there and check the metadata. This step must be verified using a separate noteboook. "
   ]
  },
  {
   "cell_type": "markdown",
   "id": "26eb67e7",
   "metadata": {},
   "source": [
    "***\n",
    "## Wrap Up and Shut Down\n",
    "\n",
    "This cell is not currently included as part of the test execution, but included here as needed to shutdown the systems"
   ]
  },
  {
   "cell_type": "code",
   "execution_count": null,
   "id": "205efdfb",
   "metadata": {},
   "outputs": [],
   "source": [
    "await mtcs.set_state(salobj.State.STANDBY, components=[\"mtaos\"])"
   ]
  },
  {
   "cell_type": "code",
   "execution_count": null,
   "id": "4422cced",
   "metadata": {},
   "outputs": [],
   "source": [
    "await mtcs.lower_m1m3()"
   ]
  },
  {
   "cell_type": "code",
   "execution_count": null,
   "id": "56bd32da",
   "metadata": {},
   "outputs": [],
   "source": [
    "await mtcs.set_state(salobj.State.STANDBY, components=[\"mtm1m3\"])"
   ]
  },
  {
   "cell_type": "code",
   "execution_count": null,
   "id": "0305c5a8-bc7b-4818-94da-7e1c147b79e5",
   "metadata": {},
   "outputs": [],
   "source": [
    "await mtcs.set_state(salobj.State.OFFLINE, components=[\"mtm1m3\"])"
   ]
  },
  {
   "cell_type": "code",
   "execution_count": null,
   "id": "219b074f",
   "metadata": {},
   "outputs": [],
   "source": [
    "await mtcs.set_state(salobj.State.STANDBY, components=[\"mtm2\"])"
   ]
  },
  {
   "cell_type": "code",
   "execution_count": null,
   "id": "16eafb32",
   "metadata": {},
   "outputs": [],
   "source": [
    "await mtcs.set_state(salobj.State.STANDBY, components=[\"mthexapod_1\"])"
   ]
  },
  {
   "cell_type": "code",
   "execution_count": null,
   "id": "3627f687",
   "metadata": {},
   "outputs": [],
   "source": [
    "await mtcs.set_state(salobj.State.STANDBY, components=[\"mthexapod_2\"])"
   ]
  },
  {
   "cell_type": "code",
   "execution_count": null,
   "id": "d1cfb6df",
   "metadata": {},
   "outputs": [],
   "source": [
    "await mtcs.standby()"
   ]
  },
  {
   "cell_type": "code",
   "execution_count": null,
   "id": "6b1071ad",
   "metadata": {
    "tags": []
   },
   "outputs": [],
   "source": [
    "await comcam.standby()"
   ]
  },
  {
   "cell_type": "code",
   "execution_count": null,
   "id": "35ea2121-b744-4bc7-b07a-69916070d7e1",
   "metadata": {},
   "outputs": [],
   "source": []
  }
 ],
 "metadata": {
  "kernelspec": {
   "display_name": "LSST",
   "language": "python",
   "name": "lsst"
  },
  "language_info": {
   "codemirror_mode": {
    "name": "ipython",
    "version": 3
   },
   "file_extension": ".py",
   "mimetype": "text/x-python",
   "name": "python",
   "nbconvert_exporter": "python",
   "pygments_lexer": "ipython3",
   "version": "3.8.8"
  },
  "toc-autonumbering": false,
  "toc-showmarkdowntxt": false
 },
 "nbformat": 4,
 "nbformat_minor": 5
}
