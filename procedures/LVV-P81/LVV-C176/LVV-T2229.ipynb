{
 "cells": [
  {
   "cell_type": "markdown",
   "id": "ce11068e",
   "metadata": {},
   "source": [
    "# Closed Loop ComCam Image Ingestion and Application of Correction - Version 2.0\n",
    "\n",
    "This notebook is used to execute the [LVV-2229 (2.0)] test script during System Spread Integration Tests on Level 3.  \n",
    "It is part of the plan [LVV-P81] and of the test cylce [LVV-C176].   \n",
    "Execution steps are separated by horizontal lines.   \n",
    "Upon completion, save the notebook and its output as a pdf file to be attached to the test execution in JIRA.\n",
    "\n",
    "[LVV-T2229 (2.0)] simply repeats the [LVV-T2228 (1.0)] test case twice, but with different targets. \n",
    "This simulates two visits and tell us how the MTAOS behaves on sky. \n",
    "\n",
    "[LVV-T2228 (1.0)]: https://jira.lsstcorp.org/secure/Tests.jspa#/testCase/LVV-T2228  \n",
    "[LVV-T2229 (2.0)]: https://jira.lsstcorp.org/secure/Tests.jspa#/testCase/LVV-T2229  \n",
    "[LVV-P81]: https://jira.lsstcorp.org/secure/Tests.jspa#/testPlan/LVV-P81\n",
    "[LVV-C176]: https://jira.lsstcorp.org/secure/Tests.jspa#/testCycle/LVV-C176"
   ]
  },
  {
   "cell_type": "code",
   "execution_count": null,
   "id": "f43cd2b7-8ccb-4eaf-956c-103564139ae8",
   "metadata": {},
   "outputs": [],
   "source": [
    "__executed_by__ = \"\"  # Put your name here\n",
    "__executed_on__ = \"\"  # Put the date of execution here\n",
    "\n",
    "summit = True  # This is used later to define where Butler stores the images"
   ]
  },
  {
   "cell_type": "markdown",
   "id": "97d0f9bb",
   "metadata": {},
   "source": [
    "***\n",
    "\n",
    "## Initial Setup\n",
    "\n",
    "log onto the summit nublado  \n",
    "https://summit-lsp.lsst.codes/  \n",
    "git clone the ts_notebook repo  \n",
    "\n",
    "There will be a series of procedures to set up, \"slew\" and track the telescope before we get an image.    \n",
    "This is similar to test case [LVV-T2189](https://jira.lsstcorp.org/secure/Tests.jspa#/testCase/LVV-T2189).   "
   ]
  },
  {
   "cell_type": "markdown",
   "id": "062ad436",
   "metadata": {},
   "source": [
    "***"
   ]
  },
  {
   "cell_type": "markdown",
   "id": "f1966366",
   "metadata": {},
   "source": [
    "## Check ComCam Playback Mode\n",
    "\n",
    "Verify that ComCam can be use the playback option and that the required images are stored in the right place **TBD**."
   ]
  },
  {
   "cell_type": "markdown",
   "id": "f4b3f2ad-93cd-4fc3-bda7-930122acff5d",
   "metadata": {},
   "source": [
    "---\n",
    "## Load all the needed libraries\n",
    "\n",
    "Using the setup procedure, get the remotes and the components ready.\n",
    "\n",
    "This includes simulators as well as real hardware when available (this will depend on when the test is conducted at NCSA or on level 3 or on the telescope):\n",
    "\n",
    "- pointing  \n",
    "- mount ( with the CCW)  \n",
    "- rotator  \n",
    "- ready M1M3: raise mirror, turn on FB, clear forces. Note that if used at level 3, we need to have M1M3 LUT use mount telemetry  \n",
    "- ready M2: turn on FB, clear forces. Note that if used at level 3, we need to have M2 LUT use mount telemetry  \n",
    "- Get cam hex Ready: check config; make sure LUT is on and has valid inputs; make sure hex is at LUT position  \n",
    "- Get M2 hex (simulator) Ready: check config; make sure LUT is on and has valid inputs; make sure hex is at LUT position  \n",
    "- Finally, get the MTAOS CSC ready  "
   ]
  },
  {
   "cell_type": "code",
   "execution_count": null,
   "id": "1865d513",
   "metadata": {},
   "outputs": [],
   "source": [
    "%load_ext autoreload\n",
    "%autoreload 2"
   ]
  },
  {
   "cell_type": "code",
   "execution_count": null,
   "id": "7b5b228a",
   "metadata": {},
   "outputs": [],
   "source": [
    "import rubin_jupyter_utils.lab.notebook as nb\n",
    "nb.utils.get_node()"
   ]
  },
  {
   "cell_type": "code",
   "execution_count": null,
   "id": "ee0e379e",
   "metadata": {},
   "outputs": [],
   "source": [
    "import os\n",
    "import sys\n",
    "import asyncio\n",
    "import logging\n",
    "\n",
    "import pandas as pd\n",
    "import numpy as np\n",
    "\n",
    "from matplotlib import pyplot as plt\n",
    "\n",
    "import lsst.daf.butler as dafButler\n",
    "\n",
    "from lsst.ts import salobj\n",
    "from lsst.ts.observatory.control.maintel import MTCS, ComCam\n",
    "from lsst.ts.observatory.control import RotType"
   ]
  },
  {
   "cell_type": "code",
   "execution_count": null,
   "id": "9b4ec348",
   "metadata": {},
   "outputs": [],
   "source": [
    "logging.basicConfig(format=\"%(name)s:%(message)s\", level=logging.DEBUG)"
   ]
  },
  {
   "cell_type": "code",
   "execution_count": null,
   "id": "5cbe1cee",
   "metadata": {},
   "outputs": [],
   "source": [
    "log = logging.getLogger(\"setup\")\n",
    "log.level = logging.DEBUG"
   ]
  },
  {
   "cell_type": "code",
   "execution_count": null,
   "id": "37ef054e",
   "metadata": {},
   "outputs": [],
   "source": [
    "domain = salobj.Domain()"
   ]
  },
  {
   "cell_type": "code",
   "execution_count": null,
   "id": "3ffca8f4",
   "metadata": {},
   "outputs": [],
   "source": [
    "mtcs = MTCS(domain=domain, log=log)\n",
    "mtcs.set_rem_loglevel(40)"
   ]
  },
  {
   "cell_type": "code",
   "execution_count": null,
   "id": "bed75413",
   "metadata": {},
   "outputs": [],
   "source": [
    "await mtcs.start_task"
   ]
  },
  {
   "cell_type": "code",
   "execution_count": null,
   "id": "0220ad01",
   "metadata": {},
   "outputs": [],
   "source": [
    "comcam = ComCam(domain=domain, log=log)"
   ]
  },
  {
   "cell_type": "code",
   "execution_count": null,
   "id": "1dff51ea",
   "metadata": {},
   "outputs": [],
   "source": [
    "comcam.set_rem_loglevel(40)"
   ]
  },
  {
   "cell_type": "code",
   "execution_count": null,
   "id": "55175018",
   "metadata": {},
   "outputs": [],
   "source": [
    "await comcam.start_task"
   ]
  },
  {
   "cell_type": "code",
   "execution_count": null,
   "id": "cacc7c38",
   "metadata": {},
   "outputs": [],
   "source": [
    "await comcam.enable()"
   ]
  },
  {
   "cell_type": "markdown",
   "id": "3e29d77c-65d8-4d22-ad46-708dcae9a571",
   "metadata": {},
   "source": [
    "---\n",
    "## Slew and Track\n",
    "\n",
    "\n",
    "Using the slew procedure, slew the systems to a specific elevation, azimuth and rotator angle.\n",
    "Verify that the telemetry is generated.\n",
    "\n",
    "Slew to **RA 20:28:18.74** and **DEC -87:28:19.9** with **rot_type=RotType.Physical** and **Rotator Angle of 0º**.\n",
    "We use this field because it is the field that was simulated and that is a field that is visible the whole year.\n",
    "\n",
    "RotType Physical Ensures that the Rotator will not move.\n",
    "This is necessary because the CCW is not running (MTmount in simulation mode)."
   ]
  },
  {
   "cell_type": "markdown",
   "id": "0cd30d55",
   "metadata": {},
   "source": [
    "Slew to target:"
   ]
  },
  {
   "cell_type": "code",
   "execution_count": null,
   "id": "8c0f1a17",
   "metadata": {
    "tags": []
   },
   "outputs": [],
   "source": [
    "await mtcs.slew_icrs(ra=\"20:28:18.74\", dec=\"-87:28:19.9\", rot_type=RotType.Physical, rot=0)"
   ]
  },
  {
   "cell_type": "markdown",
   "id": "6d0aa8ff",
   "metadata": {},
   "source": [
    "***\n",
    "## Take in-focus image\n",
    "\n",
    "Once the different components are ready (M1M3, M2, rotator and CCW, hexapods) and tracking, take an image using the take_image command in playback mode.  \n",
    "This second image should be the one that uses the correction calculated with the first slew."
   ]
  },
  {
   "cell_type": "code",
   "execution_count": null,
   "id": "b4e272fb",
   "metadata": {
    "tags": []
   },
   "outputs": [],
   "source": [
    "exp_focus = await comcam.take_object(15)\n",
    "print(f\"Target exposure: {exp_focus}\")"
   ]
  },
  {
   "cell_type": "markdown",
   "id": "fb8325ef-0998-4c3b-b13f-0fa856aea39c",
   "metadata": {},
   "source": [
    "----\n",
    "## Intra Focus Position \n",
    "\n",
    "Using the Camera Hexapod, piston ComCam +1mm"
   ]
  },
  {
   "cell_type": "code",
   "execution_count": null,
   "id": "326c71f7-f0df-433d-8cf3-d41009b37823",
   "metadata": {
    "tags": []
   },
   "outputs": [],
   "source": [
    "await mtcs.rem.mthexapod_1.cmd_offset.set_start(z=1000.)"
   ]
  },
  {
   "cell_type": "markdown",
   "id": "6f0aa9e5-4c1f-44c2-97d6-a5e91ed5826a",
   "metadata": {},
   "source": [
    "----\n",
    "## Intra Focus Image\n",
    "\n",
    "\n",
    "While tracking, take an image with ComCam and check that the header is containing the right telemetry"
   ]
  },
  {
   "cell_type": "code",
   "execution_count": null,
   "id": "29810983-ebf7-431d-8c04-0c17b7942e46",
   "metadata": {},
   "outputs": [],
   "source": [
    "exp_intra = await comcam.take_object(15)\n",
    "print(f\"Target 1 exposure: {exp_intra}\")"
   ]
  },
  {
   "cell_type": "markdown",
   "id": "e2c8a502-b1ca-433b-8fc6-d8c8b989fc7c",
   "metadata": {},
   "source": [
    "---\n",
    "## Extra Focus Position\n",
    "\n",
    "Using the Camera Hexapod, piston ComCam to -1mm"
   ]
  },
  {
   "cell_type": "code",
   "execution_count": null,
   "id": "d24268f9-c5c0-4cec-84f5-47a20cf9b453",
   "metadata": {},
   "outputs": [],
   "source": [
    "await mtcs.rem.mthexapod_1.cmd_offset.set_start(z=-2000.)"
   ]
  },
  {
   "cell_type": "markdown",
   "id": "64009413-f321-495c-8a3b-58959f11cea3",
   "metadata": {},
   "source": [
    "---\n",
    "## Extra Focus Image\n",
    "\n",
    "While tracking, take an image with ComCam and check that the header is containing the right telemetry."
   ]
  },
  {
   "cell_type": "code",
   "execution_count": null,
   "id": "bfc3b17e-cd5e-4d66-a7e9-71a6438554d2",
   "metadata": {
    "tags": []
   },
   "outputs": [],
   "source": [
    "exp_extra = await comcam.take_object(15)\n",
    "print(f\"Target 1 exposure: {exp_extra}\")"
   ]
  },
  {
   "cell_type": "markdown",
   "id": "ad48b0fa-f654-4188-b2c2-e16ccf4a134f",
   "metadata": {},
   "source": [
    "---\n",
    "## Go Back to Focus Position\n",
    "\n",
    "Put the hexapod back to 0mm."
   ]
  },
  {
   "cell_type": "code",
   "execution_count": null,
   "id": "122aeae8-18fa-4f52-8ff6-8b6c5af6a850",
   "metadata": {},
   "outputs": [],
   "source": [
    "await mtcs.rem.mthexapod_1.cmd_offset.set_start(z=1000.)"
   ]
  },
  {
   "cell_type": "markdown",
   "id": "f51d3502-6ca4-4a02-8a77-ae32b91be313",
   "metadata": {},
   "source": [
    "---\n",
    "## Stop Tracking\n",
    "\n",
    "If using MTMount Simulator and CCW Following Mode Disabled, stop tracking to prevent the Rotator to hit the limit switches."
   ]
  },
  {
   "cell_type": "code",
   "execution_count": null,
   "id": "5f82ae6f",
   "metadata": {
    "tags": []
   },
   "outputs": [],
   "source": [
    "await mtcs.stop_tracking()"
   ]
  },
  {
   "cell_type": "markdown",
   "id": "52439522-f1c6-43cb-ac0a-1ad10e62d967",
   "metadata": {},
   "source": [
    "---\n",
    "## Get Zernike Coefficients\n",
    "\n",
    "Use the MTAOS Wavefront Estimator Pipeline to calculate the required Zernike Coefficients that represent the Wavefront data."
   ]
  },
  {
   "cell_type": "code",
   "execution_count": null,
   "id": "c6a06127-8fac-4da3-96ac-7b4dfcc58762",
   "metadata": {
    "tags": []
   },
   "outputs": [],
   "source": [
    "await mtcs.rem.mtaos.cmd_runWEP.set_start(visitId=exp_intra[0] - 2021111900000, \n",
    "                                          extraId=exp_extra[0] - 2021111900000)"
   ]
  },
  {
   "cell_type": "markdown",
   "id": "ec7f96da-e9c9-4c82-9858-be3b3aef2b86",
   "metadata": {},
   "source": [
    "---\n",
    "## Get Corrections\n",
    "\n",
    "Use the MTAOS Optical Feedback Controller to retrieve the corrections that should be applied to m1m3, m2, camera hexapod, and m2 hexapod."
   ]
  },
  {
   "cell_type": "code",
   "execution_count": null,
   "id": "e1fd393d-43f3-4a40-9f60-dd468da400c4",
   "metadata": {},
   "outputs": [],
   "source": [
    "await mtcs.rem.mtaos.cmd_runOFC.start(timeout=60.)"
   ]
  },
  {
   "cell_type": "markdown",
   "id": "6cb1e65c-3b15-4d0f-a145-c9c6b0fd1c04",
   "metadata": {},
   "source": [
    "---\n",
    "## Issue the corrections\n",
    "\n",
    "Issue the corrections found by the MTAOS OFC to m1m3, m2, camera hexapod, and m2 hexapod. "
   ]
  },
  {
   "cell_type": "code",
   "execution_count": null,
   "id": "c43a1fa9-c01e-4d5c-9a68-77249befbda4",
   "metadata": {},
   "outputs": [],
   "source": [
    "await mtcs.rem.mtaos.cmd_issueCorrection.start(timeout=60.)"
   ]
  },
  {
   "cell_type": "markdown",
   "id": "7b4fe4a0",
   "metadata": {},
   "source": [
    "***\n",
    "## Verify ISR Data\n",
    "\n",
    "Make sure that the Instrument Signature Removal ran on the intra- and extra-focus data and that this data is accessible via Butler."
   ]
  },
  {
   "cell_type": "code",
   "execution_count": null,
   "id": "74995f4e-bfd2-4dad-995a-d98605f93b13",
   "metadata": {},
   "outputs": [],
   "source": [
    "if summit:\n",
    "    butler = dafButler.Butler(\"/repo/LSSTComCam/\")\n",
    "else:\n",
    "    butler = dafButler.Butler(\"/repo/main/\")"
   ]
  },
  {
   "cell_type": "code",
   "execution_count": null,
   "id": "e90b5ac7-fd12-4f59-b190-e87238026317",
   "metadata": {},
   "outputs": [],
   "source": [
    "registry = butler.registry\n",
    "\n",
    "collections = [collection for collection in registry.queryCollections() \n",
    "               if collection.startswith('mtaos_wep')]"
   ]
  },
  {
   "cell_type": "code",
   "execution_count": null,
   "id": "0192875e-33f6-4a15-b86d-3a5b4bb56642",
   "metadata": {},
   "outputs": [],
   "source": [
    "exp_intra_id = {'instrument': 'LSSTComCam', \n",
    "                'detector': 0, \n",
    "                'exposure': exp_intra[0]}\n",
    "\n",
    "raw_intra = butler.get('postISRCCD', dataId=exp_intra_id, \n",
    "                       collections=collections)\n",
    "\n",
    "print(raw_intra.getMetadata())"
   ]
  },
  {
   "cell_type": "code",
   "execution_count": null,
   "id": "03e39417-9d9f-4cc7-ac5b-d2ce0f84f3df",
   "metadata": {},
   "outputs": [],
   "source": [
    "%matplotlib inline\n",
    "fig, ax = plt.subplots(num=\"Intra Focus Image\", figsize=(7,7), dpi=90)\n",
    "\n",
    "vmin = np.percentile(raw_intra.image.array, 2)\n",
    "vmax = np.percentile(raw_intra.image.array, 98)\n",
    "\n",
    "ax.imshow(raw_intra.image.array, \n",
    "          origin='lower', \n",
    "          interpolation='nearest', \n",
    "          vmin=vmin, \n",
    "          vmax=vmax)\n",
    "ax.set_xlabel(\"X [px]\")\n",
    "ax.set_ylabel(\"Y [px]\")\n",
    "\n",
    "fig.suptitle(f\"Intra Focus Image\\n{exp_intra_id['exposure']}\")\n",
    "fig.tight_layout()\n",
    "\n",
    "plt.show()"
   ]
  },
  {
   "cell_type": "code",
   "execution_count": null,
   "id": "2d3f75f3-383f-4026-ae3b-4de2047cb525",
   "metadata": {},
   "outputs": [],
   "source": [
    "exp_extra_id = {'instrument': 'LSSTComCam', \n",
    "                'detector': 0, \n",
    "                'exposure': exp_extra[0]}\n",
    "\n",
    "exp_extra = butler.get('postISRCCD', dataId=exp_extra_id, \n",
    "                       collections=collections)\n",
    "\n",
    "print(exp_extra.getMetadata())"
   ]
  },
  {
   "cell_type": "code",
   "execution_count": null,
   "id": "7248daa6-71e6-436d-ad62-1126268bdf05",
   "metadata": {},
   "outputs": [],
   "source": [
    "%matplotlib inline\n",
    "fig, ax = plt.subplots(num=\"Extra Focus Image\", figsize=(7, 7), dpi=90)\n",
    "\n",
    "vmin = np.percentile(exp_extra.image.array, 2)\n",
    "vmax = np.percentile(exp_extra.image.array, 98)\n",
    "\n",
    "ax.imshow(exp_extra.image.array, \n",
    "          origin='lower', \n",
    "          interpolation='nearest', \n",
    "          vmin=vmin, \n",
    "          vmax=vmax)\n",
    "\n",
    "ax.set_xlabel(\"X [px]\")\n",
    "ax.set_ylabel(\"Y [px]\")\n",
    "\n",
    "fig.suptitle(f\"Extra Focus Image\\n{exp_extra_id['exposure']}\")\n",
    "fig.tight_layout()\n",
    "\n",
    "plt.show()"
   ]
  },
  {
   "cell_type": "markdown",
   "id": "c74aa95f-57f2-4f27-a85e-157938f4f290",
   "metadata": {},
   "source": [
    "---\n",
    "## Slew and Track Second Target\n",
    "\n",
    "\n",
    "Now, slew to a second target. The coordinates for this targets are **TBD** and depend on new simulated data. You will probably not run this for now until we have new simulated data. We will leave the notebook simply to have the structure pre-define.  \n",
    "\n",
    "Slew to **RA TBD** and **DEC TBD** with **rot_type=RotType.Physical** and **Rotator Angle of 0º**.\n",
    "\n",
    "RotType Physical Ensures that the Rotator will not move.\n",
    "This is necessary because the CCW is not running (MTmount in simulation mode)."
   ]
  },
  {
   "cell_type": "code",
   "execution_count": null,
   "id": "97cea721-650c-4cd0-841f-2f196d411758",
   "metadata": {},
   "outputs": [],
   "source": [
    "await mtcs.slew_icrs(ra=???, dec=???, rot_type=RotType.Physical, rot=0)"
   ]
  },
  {
   "cell_type": "markdown",
   "id": "d57a39c9-1817-401c-882e-350c0eb8ca3e",
   "metadata": {},
   "source": [
    "---\n",
    "## Take in-focus image 2\n",
    "Once the different components are ready (M1M3, M2, rotator and CCW, hexapods) and tracking, take an image using the take_image command in playback mode.\n",
    "This second image should be the one that uses the correction calculated with the first slew."
   ]
  },
  {
   "cell_type": "code",
   "execution_count": null,
   "id": "0ea768a4-6660-4fce-af05-7aa0548ae18e",
   "metadata": {},
   "outputs": [],
   "source": [
    "exp_focus2 = await comcam.take_object(15)\n",
    "print(f\"Target exposure: {exp_focus2}\")"
   ]
  },
  {
   "cell_type": "markdown",
   "id": "db3f7772-2d60-4c3d-a042-fc155208fa72",
   "metadata": {},
   "source": [
    "---\n",
    "## Intra Focus Position 2\n",
    "\n",
    "Using the Camera Hexapod, piston ComCam +1mm."
   ]
  },
  {
   "cell_type": "code",
   "execution_count": null,
   "id": "e460b198-3f8b-4258-982a-8fd3ed1275e7",
   "metadata": {},
   "outputs": [],
   "source": [
    "await mtcs.rem.mthexapod_1.cmd_offset.set_start(z=1000.)"
   ]
  },
  {
   "cell_type": "markdown",
   "id": "92924cf5-8f59-4fcd-8fc6-3f8f72e27b10",
   "metadata": {},
   "source": [
    "---\n",
    "## Intre Focus Image 2\n",
    "\n",
    "While tracking, take an image and check that the header is containing the right telemetry."
   ]
  },
  {
   "cell_type": "code",
   "execution_count": null,
   "id": "34a6a14a-c199-4eee-8465-806b07e4e991",
   "metadata": {},
   "outputs": [],
   "source": [
    "exp_intra2 = await comcam.take_object(15)\n",
    "print(f\"Target 1 exposure: {exp_intra2}\")"
   ]
  },
  {
   "cell_type": "markdown",
   "id": "e66a5a71-1129-4928-bfc0-9d9a69c22f98",
   "metadata": {},
   "source": [
    "---\n",
    "## Extra Focus Position 2\n",
    "Apply an offset of -2000 um to the Camera Hexapod, to bring it down to -1 mm."
   ]
  },
  {
   "cell_type": "code",
   "execution_count": null,
   "id": "b1ba79e7-aa1a-41a3-bbc3-991cb3792a87",
   "metadata": {},
   "outputs": [],
   "source": [
    "await mtcs.rem.mthexapod_1.cmd_offset.set_start(z=-2000.)"
   ]
  },
  {
   "cell_type": "markdown",
   "id": "e8cf97e6-0906-4396-b09c-1dbb2f65df55",
   "metadata": {},
   "source": [
    "---\n",
    "## Extra Focus Image 2\n",
    "\n",
    "While tracking, take an image and check that the header is containing the right telemetry"
   ]
  },
  {
   "cell_type": "code",
   "execution_count": null,
   "id": "68fa4fa4-7298-4e00-b5e3-90d823687f76",
   "metadata": {},
   "outputs": [],
   "source": [
    "exp_extra2 = await comcam.take_object(15)\n",
    "print(f\"Target 1 exposure: {exp_extra2}\")"
   ]
  },
  {
   "cell_type": "markdown",
   "id": "c2ae3216-d79e-4e20-9b29-47e86c5e5968",
   "metadata": {},
   "source": [
    "--- \n",
    "## Go back to focus position 2 \n",
    "\n",
    "Send the hexapod back to 0 mm by applying an offset of 1000 um in Z."
   ]
  },
  {
   "cell_type": "code",
   "execution_count": null,
   "id": "b75f5ab3-b8d8-433f-91ee-ce95c6d81b2a",
   "metadata": {},
   "outputs": [],
   "source": [
    "await mtcs.rem.mthexapod_1.cmd_offset.set_start(z=1000.)"
   ]
  },
  {
   "cell_type": "markdown",
   "id": "e3b93da9-6377-4414-837f-c31d0c7b6558",
   "metadata": {},
   "source": [
    "---\n",
    "## Stop tracking 2\n",
    "\n",
    "If using MTMount Simulator and CCW Following Mode Disabled, stop tracking to prevent the Rotator to hit the limit switches."
   ]
  },
  {
   "cell_type": "code",
   "execution_count": null,
   "id": "101aa8f4-6c87-4dc2-8092-94f5713c3378",
   "metadata": {},
   "outputs": [],
   "source": [
    "await mtcs.stop_tracking()"
   ]
  },
  {
   "cell_type": "markdown",
   "id": "7e452a41-4f6f-48e3-b344-f9d4ab818f25",
   "metadata": {},
   "source": [
    "---\n",
    "## Get Zernikes Coefficients 2\n",
    "\n",
    "\n",
    "Use the MTAOS to calculate the required offsets to be sent to M1M3, M2, and the hexapods.\n",
    "\n",
    "When we run the command in the example code below, if it does not raise the **TBD** error, then we know that the MTAOS WEP could find and retrieve the calibration files."
   ]
  },
  {
   "cell_type": "code",
   "execution_count": null,
   "id": "b62a914f-8c58-4926-bdfe-1c4d9f9d13e2",
   "metadata": {},
   "outputs": [],
   "source": [
    "await mtcs.rem.mtaos.cmd_runWEP.set_start(visitId=exp_intra2[0],\n",
    "                                          extraId=exp_extra2[0])"
   ]
  },
  {
   "cell_type": "markdown",
   "id": "275eb0be-07ef-4170-838f-89ca3543d708",
   "metadata": {},
   "source": [
    "---\n",
    "## Get Corrections 2\n",
    "\n",
    "Apply the resulting offsets to the  M1M3, M2 and the hexapods"
   ]
  },
  {
   "cell_type": "code",
   "execution_count": null,
   "id": "b425076f-df58-4606-923a-9be45775f99f",
   "metadata": {},
   "outputs": [],
   "source": [
    "await mtcs.rem.mtaos.cmd_runOFC.start(timeout=60.)"
   ]
  },
  {
   "cell_type": "markdown",
   "id": "a4b91fce-4391-4769-bcc3-361a61a501d1",
   "metadata": {},
   "source": [
    "---\n",
    "### Issue the corrections 2\n",
    "\n",
    "Issue (apply) the corrections found by the MTAOS OFC to m1m3, m2, camera hexapod, and m2 hexapod."
   ]
  },
  {
   "cell_type": "code",
   "execution_count": null,
   "id": "0ed39862-9042-425e-bda1-2d438d2e8330",
   "metadata": {},
   "outputs": [],
   "source": [
    "await mtcs.rem.mtaos.cmd_issueCorrection.start(timeout=60.)"
   ]
  },
  {
   "cell_type": "markdown",
   "id": "84d44ac6-32e2-463c-a73d-5c4ff01de3df",
   "metadata": {},
   "source": [
    "---\n",
    "## Verify Offsets <span style=\"color: red\">TBD</h2>\n",
    "\n",
    "Verify that the offsets are the expected one by plotting:\n",
    "- m1m3 actuator 101 z force\n",
    "- m2 actuator B1 force\n",
    "- camera hex y position\n",
    "- m2 hex y position\n",
    "- What about others?"
   ]
  },
  {
   "cell_type": "markdown",
   "id": "cab374b7-b770-4dec-b103-25f3b0db1556",
   "metadata": {},
   "source": [
    "***\n",
    "## Wrap Up and Shut Down\n",
    "\n",
    "This cell is not currently included as part of the test execution, but included here as needed to shutdown the systems"
   ]
  },
  {
   "cell_type": "code",
   "execution_count": null,
   "id": "d8e0a34e-fc1e-4e3e-97c1-ec4a54406c8e",
   "metadata": {},
   "outputs": [],
   "source": [
    "await mtcs.set_state(salobj.State.STANDBY, components=[\"mtaos\"])"
   ]
  },
  {
   "cell_type": "code",
   "execution_count": null,
   "id": "febcb04f-5a64-4eb6-b273-c8e2561d32e6",
   "metadata": {},
   "outputs": [],
   "source": [
    "await mtcs.lower_m1m3()"
   ]
  },
  {
   "cell_type": "code",
   "execution_count": null,
   "id": "3dbba716-b3d1-477e-bf2f-3f24962b9445",
   "metadata": {},
   "outputs": [],
   "source": [
    "await mtcs.set_state(salobj.State.STANDBY, components=[\"mtm1m3\"])"
   ]
  },
  {
   "cell_type": "code",
   "execution_count": null,
   "id": "fb7a0fd1-9e80-40b9-9c5e-ba992b96e50e",
   "metadata": {},
   "outputs": [],
   "source": [
    "await mtcs.set_state(salobj.State.STANDBY, components=[\"mtm2\"])"
   ]
  },
  {
   "cell_type": "code",
   "execution_count": null,
   "id": "be33a162-76ed-481b-991e-af677e9f05da",
   "metadata": {},
   "outputs": [],
   "source": [
    "await mtcs.set_state(salobj.State.STANDBY, components=[\"mthexapod_1\"])"
   ]
  },
  {
   "cell_type": "code",
   "execution_count": null,
   "id": "4fec3c5e-fed7-4dcb-a8d6-a5b6062627bc",
   "metadata": {},
   "outputs": [],
   "source": [
    "await mtcs.set_state(salobj.State.STANDBY, components=[\"mthexapod_2\"])"
   ]
  },
  {
   "cell_type": "code",
   "execution_count": null,
   "id": "84155356-a767-41d8-9ee9-ed0220b3b075",
   "metadata": {},
   "outputs": [],
   "source": [
    "await mtcs.standby()"
   ]
  },
  {
   "cell_type": "code",
   "execution_count": null,
   "id": "2523121a-38fa-403a-a7f0-174844b97c80",
   "metadata": {
    "tags": []
   },
   "outputs": [],
   "source": [
    "await comcam.standby()"
   ]
  }
 ],
 "metadata": {
  "kernelspec": {
   "display_name": "LSST",
   "language": "python",
   "name": "lsst"
  },
  "language_info": {
   "codemirror_mode": {
    "name": "ipython",
    "version": 3
   },
   "file_extension": ".py",
   "mimetype": "text/x-python",
   "name": "python",
   "nbconvert_exporter": "python",
   "pygments_lexer": "ipython3",
   "version": "3.8.12"
  },
  "toc-autonumbering": false,
  "toc-showmarkdowntxt": false
 },
 "nbformat": 4,
 "nbformat_minor": 5
}
