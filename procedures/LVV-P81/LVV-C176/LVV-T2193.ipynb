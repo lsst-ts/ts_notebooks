{
 "cells": [
  {
   "cell_type": "markdown",
   "id": "872ce774",
   "metadata": {},
   "source": [
    "# MTAOS handling of rejected commands #\n",
    "\n",
    "This notebook is used for the level 3 integration tests from test plan LVV-P81 (https://jira.lsstcorp.org/secure/Tests.jspa#/testPlan/LVV-P81) as part of test cylce LVV-C176 (https://jira.lsstcorp.org/secure/Tests.jspa#/testCycle/LVV-C176). The following tests are currently run as part of this notebook:\n",
    "\n",
    " - LVV-T2193 (https://jira.lsstcorp.org/secure/Tests.jspa#/testCase/LVV-T2193)\n",
    " \n",
    "Execution steps are separated by horizontal lines. Upon completion, save the notebook and its output as a pdf file to be attached to the test execution in JIRA. \n",
    "\n",
    "Last executed by E. Dennihy 20210928"
   ]
  },
  {
   "cell_type": "markdown",
   "id": "22fbb6d7",
   "metadata": {},
   "source": [
    "***"
   ]
  },
  {
   "cell_type": "markdown",
   "id": "105bfd69",
   "metadata": {},
   "source": [
    "Log onto the summit Nublado (https://summit-lsp.lsst.codes/)\n",
    "Clone the GitHub repository with the notebook need for this test case using:\n",
    "```\n",
    "git clone https://github.com/lsst-ts/ts_notebooks.git\n",
    "git checkout tickets/DM-29548\n",
    "git clone https://github.com/lsst-sitcom/M2_FEA.git\n",
    "```\n",
    "\n",
    "The notebooks we need are in https://github.com/lsst-ts/ts_notebooks/tree/develop/bxin/aos2comp\n",
    "\n",
    "All the following steps are executed using these notebooks."
   ]
  },
  {
   "cell_type": "markdown",
   "id": "9c8ac6f8",
   "metadata": {},
   "source": [
    "***\n",
    "Load all the needed libraries.\n",
    "Get the remotes ready\n",
    "Code in the notebook including section: \"Check the summary state of each CSC\"."
   ]
  },
  {
   "cell_type": "code",
   "execution_count": null,
   "id": "f9784614",
   "metadata": {},
   "outputs": [],
   "source": [
    "%load_ext autoreload\n",
    "%autoreload 2"
   ]
  },
  {
   "cell_type": "code",
   "execution_count": null,
   "id": "dc75f05c",
   "metadata": {},
   "outputs": [],
   "source": [
    "import rubin_jupyter_utils.lab.notebook as nb\n",
    "nb.utils.get_node()"
   ]
  },
  {
   "cell_type": "code",
   "execution_count": null,
   "id": "b0dd719b",
   "metadata": {},
   "outputs": [],
   "source": [
    "import os\n",
    "import sys\n",
    "import asyncio\n",
    "import logging\n",
    "\n",
    "import pandas as pd\n",
    "import numpy as np\n",
    "\n",
    "from matplotlib import pyplot as plt\n",
    "\n",
    "from lsst.ts import salobj\n",
    "from lsst.ts.observatory.control.maintel import MTCS, ComCam\n",
    "from lsst.ts.observatory.control import RotType"
   ]
  },
  {
   "cell_type": "code",
   "execution_count": null,
   "id": "adf7a384",
   "metadata": {},
   "outputs": [],
   "source": [
    "logging.basicConfig(format=\"%(name)s:%(message)s\", level=logging.DEBUG)"
   ]
  },
  {
   "cell_type": "code",
   "execution_count": null,
   "id": "7024a96e",
   "metadata": {},
   "outputs": [],
   "source": [
    "log = logging.getLogger(\"setup\")\n",
    "log.level = logging.DEBUG"
   ]
  },
  {
   "cell_type": "code",
   "execution_count": null,
   "id": "2d938fb9",
   "metadata": {},
   "outputs": [],
   "source": [
    "domain = salobj.Domain()"
   ]
  },
  {
   "cell_type": "code",
   "execution_count": null,
   "id": "5191923f",
   "metadata": {},
   "outputs": [],
   "source": [
    "mtcs = MTCS(domain=domain, log=log)\n",
    "mtcs.set_rem_loglevel(40)"
   ]
  },
  {
   "cell_type": "code",
   "execution_count": null,
   "id": "43b55651",
   "metadata": {},
   "outputs": [],
   "source": [
    "await mtcs.start_task"
   ]
  },
  {
   "cell_type": "markdown",
   "id": "ee80e19e",
   "metadata": {},
   "source": [
    "***"
   ]
  },
  {
   "cell_type": "markdown",
   "id": "ee409f99",
   "metadata": {},
   "source": [
    "Ready M1M3:\n",
    "Raise mirror, turn on FB, clear forces\n",
    "\n",
    "Need to have M1M3 LUT use its inclinometer."
   ]
  },
  {
   "cell_type": "markdown",
   "id": "d6916f08",
   "metadata": {},
   "source": [
    "***"
   ]
  },
  {
   "cell_type": "markdown",
   "id": "991d552d",
   "metadata": {},
   "source": [
    "Ready M2:\n",
    "Turn on FB, clear forces\n",
    "\n",
    "Need to have M2 LUT use its inclinometer"
   ]
  },
  {
   "cell_type": "markdown",
   "id": "e23e0ec2",
   "metadata": {},
   "source": [
    "***"
   ]
  },
  {
   "cell_type": "markdown",
   "id": "caf12607",
   "metadata": {},
   "source": [
    "Get camera hexapod ready: check config; make sure LUT is on, and has valid inputs; make sure hex is at LUT position\n"
   ]
  },
  {
   "cell_type": "markdown",
   "id": "40c69b32",
   "metadata": {},
   "source": [
    "***"
   ]
  },
  {
   "cell_type": "markdown",
   "id": "40ae0d1b",
   "metadata": {},
   "source": [
    "Get M2 hexapod ready: check config; make sure LUT is on, and has valid inputs; make sure hex is at LUT position"
   ]
  },
  {
   "cell_type": "markdown",
   "id": "e125ceb4",
   "metadata": {},
   "source": [
    "***"
   ]
  },
  {
   "cell_type": "markdown",
   "id": "d809568f",
   "metadata": {},
   "source": [
    "clear all corrections using cmd_resetCorrection"
   ]
  },
  {
   "cell_type": "code",
   "execution_count": null,
   "id": "fbe09ac8",
   "metadata": {},
   "outputs": [],
   "source": [
    "await mtcs.rem.mtaos.cmd_resetCorrection.start()"
   ]
  },
  {
   "cell_type": "markdown",
   "id": "afd9b4cc",
   "metadata": {},
   "source": [
    "***\n",
    "Add 1um of z7 to the system via OFC, issue the corrections.\n",
    "\n",
    "Compare the corrections sent vs forces and position changes applied. This is currently done in a separate notebook or on Chronograf. "
   ]
  },
  {
   "cell_type": "code",
   "execution_count": null,
   "id": "db96631e",
   "metadata": {},
   "outputs": [],
   "source": [
    "wavefront_errors = np.zeros(19)"
   ]
  },
  {
   "cell_type": "code",
   "execution_count": null,
   "id": "2d3e27ce",
   "metadata": {},
   "outputs": [],
   "source": [
    "wavefront_errors[3]=1.0"
   ]
  },
  {
   "cell_type": "code",
   "execution_count": null,
   "id": "7b574fa7",
   "metadata": {},
   "outputs": [],
   "source": [
    "await mtcs.rem.mtaos.cmd_addAberration.set_start(wf=wavefront_errors, timeout=10)"
   ]
  },
  {
   "cell_type": "code",
   "execution_count": null,
   "id": "972f77ca",
   "metadata": {},
   "outputs": [],
   "source": [
    "await mtcs.rem.mtaos.cmd_issueCorrection.start(timeout=60.)"
   ]
  },
  {
   "cell_type": "markdown",
   "id": "0d1cf220",
   "metadata": {},
   "source": [
    "***\n",
    "Make plots using telemetry from each component to verify the changes in the DOFs. This step does not currently involve running any commands in this notebook. This step must be verified using a separate noteboook. "
   ]
  },
  {
   "cell_type": "markdown",
   "id": "c9cd4f2b",
   "metadata": {},
   "source": [
    "***\n",
    "Put M2 hexapod in DISABLED state (so that we can test command rejection)."
   ]
  },
  {
   "cell_type": "code",
   "execution_count": null,
   "id": "0d965a5c",
   "metadata": {},
   "outputs": [],
   "source": [
    "await mtcs.set_state(salobj.State.DISABLED, components=[\"mthexapod_2\"])"
   ]
  },
  {
   "cell_type": "markdown",
   "id": "753e7102",
   "metadata": {},
   "source": [
    "***\n",
    "Add 1um of z7 to the system via OFC. Expect m2 hexapod corrections are rejected, and all other corrections applied, then undone."
   ]
  },
  {
   "cell_type": "code",
   "execution_count": null,
   "id": "3e68fea1",
   "metadata": {},
   "outputs": [],
   "source": [
    "await mtcs.rem.mtaos.cmd_addAberration.set_start(wf=wavefront_errors, timeout=10)"
   ]
  },
  {
   "cell_type": "code",
   "execution_count": null,
   "id": "d46d689c",
   "metadata": {},
   "outputs": [],
   "source": [
    "await mtcs.rem.mtaos.cmd_issueCorrection.start(timeout=60.)"
   ]
  },
  {
   "cell_type": "markdown",
   "id": "dabc0b4d",
   "metadata": {},
   "source": [
    "***\n",
    "Re-enable M2 hexapod\n",
    "Make it ready for AOS"
   ]
  },
  {
   "cell_type": "code",
   "execution_count": null,
   "id": "6d52a3ad",
   "metadata": {},
   "outputs": [],
   "source": [
    "await mtcs.set_state(salobj.State.ENABLED, components=[\"mthexapod_2\"])"
   ]
  },
  {
   "cell_type": "markdown",
   "id": "cb52f6f2",
   "metadata": {},
   "source": [
    "***\n",
    "Re-issue the correction."
   ]
  },
  {
   "cell_type": "code",
   "execution_count": null,
   "id": "fcd052fd",
   "metadata": {},
   "outputs": [],
   "source": [
    "await mtcs.rem.mtaos.cmd_issueCorrection.start(timeout=60.)"
   ]
  },
  {
   "cell_type": "code",
   "execution_count": null,
   "id": "4774f409",
   "metadata": {},
   "outputs": [],
   "source": [
    "await mtcs.rem.mtaos.cmd_addAberration.set_start(wf=wavefront_errors, timeout=10)"
   ]
  },
  {
   "cell_type": "code",
   "execution_count": null,
   "id": "e4ce18a0",
   "metadata": {},
   "outputs": [],
   "source": [
    "await mtcs.rem.mtaos.cmd_issueCorrection.start(timeout=60.)"
   ]
  },
  {
   "cell_type": "markdown",
   "id": "911114b3",
   "metadata": {},
   "source": [
    "***\n",
    "Reject the latest corrections."
   ]
  },
  {
   "cell_type": "code",
   "execution_count": null,
   "id": "ca451423",
   "metadata": {},
   "outputs": [],
   "source": [
    "await mtcs.rem.mtaos.cmd_rejectCorrection.start()"
   ]
  },
  {
   "cell_type": "markdown",
   "id": "07f2c717",
   "metadata": {},
   "source": [
    "***\n",
    "Add 2um of z7 via OFC"
   ]
  },
  {
   "cell_type": "code",
   "execution_count": null,
   "id": "a7796c95",
   "metadata": {},
   "outputs": [],
   "source": [
    "await mtcs.rem.mtaos.cmd_issueCorrection.start(timeout=60.)"
   ]
  },
  {
   "cell_type": "code",
   "execution_count": null,
   "id": "7a64832a",
   "metadata": {},
   "outputs": [],
   "source": [
    "wavefront_errors[3] = 2.0"
   ]
  },
  {
   "cell_type": "code",
   "execution_count": null,
   "id": "37511a03",
   "metadata": {},
   "outputs": [],
   "source": [
    "wavefront_errors"
   ]
  },
  {
   "cell_type": "code",
   "execution_count": null,
   "id": "137d48f9",
   "metadata": {},
   "outputs": [],
   "source": [
    "await mtcs.rem.mtaos.cmd_addAberration.set_start(wf=wavefront_errors, timeout=10)"
   ]
  },
  {
   "cell_type": "code",
   "execution_count": null,
   "id": "541d71ea",
   "metadata": {},
   "outputs": [],
   "source": [
    "await mtcs.rem.mtaos.cmd_issueCorrection.start(timeout=60.)"
   ]
  },
  {
   "cell_type": "markdown",
   "id": "2bbaa3d5",
   "metadata": {},
   "source": [
    "***\n",
    "Wrap up. Put each component to the following states:\n",
    "mtaos --> standby\n",
    "m1m3 --> standby\n",
    "m2 --> standby\n",
    "camera hex --> standby\n",
    "m2 hex --> standby"
   ]
  },
  {
   "cell_type": "code",
   "execution_count": null,
   "id": "58d284ba",
   "metadata": {},
   "outputs": [],
   "source": [
    "await mtcs.set_state(salobj.State.STANDBY, components=[\"mtaos\"])"
   ]
  },
  {
   "cell_type": "code",
   "execution_count": null,
   "id": "9489f394",
   "metadata": {},
   "outputs": [],
   "source": [
    "await mtcs.lower_m1m3()"
   ]
  },
  {
   "cell_type": "code",
   "execution_count": null,
   "id": "161c8761",
   "metadata": {},
   "outputs": [],
   "source": [
    "await mtcs.set_state(salobj.State.STANDBY, components=[\"mtm1m3\"])"
   ]
  },
  {
   "cell_type": "code",
   "execution_count": null,
   "id": "dfbb4d8a",
   "metadata": {},
   "outputs": [],
   "source": [
    "await mtcs.set_state(salobj.State.STANDBY, components=[\"mtm2\"])"
   ]
  },
  {
   "cell_type": "code",
   "execution_count": null,
   "id": "6abbde2c",
   "metadata": {},
   "outputs": [],
   "source": [
    "await mtcs.set_state(salobj.State.STANDBY, components=[\"mthexapod_1\"])"
   ]
  },
  {
   "cell_type": "code",
   "execution_count": null,
   "id": "554bcf0f",
   "metadata": {},
   "outputs": [],
   "source": [
    "await mtcs.set_state(salobj.State.STANDBY, components=[\"mthexapod_2\"])"
   ]
  },
  {
   "cell_type": "code",
   "execution_count": null,
   "id": "d194e2c5",
   "metadata": {},
   "outputs": [],
   "source": [
    "await mtcs.standby()"
   ]
  }
 ],
 "metadata": {
  "kernelspec": {
   "display_name": "LSST",
   "language": "python",
   "name": "lsst"
  },
  "language_info": {
   "codemirror_mode": {
    "name": "ipython",
    "version": 3
   },
   "file_extension": ".py",
   "mimetype": "text/x-python",
   "name": "python",
   "nbconvert_exporter": "python",
   "pygments_lexer": "ipython3",
   "version": "3.8.8"
  },
  "toc-autonumbering": false
 },
 "nbformat": 4,
 "nbformat_minor": 5
}
