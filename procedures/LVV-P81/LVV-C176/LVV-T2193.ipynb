{
 "cells": [
  {
   "cell_type": "markdown",
   "id": "6c719b89",
   "metadata": {},
   "source": [
    "# MTAOS handling of rejected commands #\n",
    "\n",
    "This notebook is used for the level 3 integration tests from test plan LVV-P81 (https://jira.lsstcorp.org/secure/Tests.jspa#/testPlan/LVV-P81) as part of test cylce LVV-C176 (https://jira.lsstcorp.org/secure/Tests.jspa#/testCycle/LVV-C176). The following tests are currently run as part of this notebook:\n",
    "\n",
    " - LVV-T2193 (https://jira.lsstcorp.org/secure/Tests.jspa#/testCase/LVV-T2193)\n",
    " \n",
    "Execution steps are separated by horizontal lines. Upon completion, save the notebook and its output as a pdf file to be attached to the test execution in JIRA. \n",
    "\n",
    "Last updated by E. Dennihy 20211020"
   ]
  },
  {
   "cell_type": "markdown",
   "id": "6f1cf3cb",
   "metadata": {},
   "source": [
    "***\n",
    "Load all the needed libraries.\n",
    "Get the remotes ready\n",
    "Code in the notebook including section: \"Check the summary state of each CSC\"."
   ]
  },
  {
   "cell_type": "code",
   "execution_count": null,
   "id": "4fcdf3e7",
   "metadata": {},
   "outputs": [],
   "source": [
    "%load_ext autoreload\n",
    "%autoreload 2"
   ]
  },
  {
   "cell_type": "code",
   "execution_count": null,
   "id": "8fafa830",
   "metadata": {},
   "outputs": [],
   "source": [
    "import rubin_jupyter_utils.lab.notebook as nb\n",
    "nb.utils.get_node()"
   ]
  },
  {
   "cell_type": "code",
   "execution_count": null,
   "id": "85294850",
   "metadata": {},
   "outputs": [],
   "source": [
    "import os\n",
    "import sys\n",
    "import asyncio\n",
    "import logging\n",
    "\n",
    "import pandas as pd\n",
    "import numpy as np\n",
    "\n",
    "from matplotlib import pyplot as plt\n",
    "\n",
    "from lsst.ts import salobj\n",
    "from lsst.ts.observatory.control.maintel import MTCS, ComCam\n",
    "from lsst.ts.observatory.control import RotType"
   ]
  },
  {
   "cell_type": "code",
   "execution_count": null,
   "id": "437d3334",
   "metadata": {},
   "outputs": [],
   "source": [
    "logging.basicConfig(format=\"%(name)s:%(message)s\", level=logging.DEBUG)"
   ]
  },
  {
   "cell_type": "code",
   "execution_count": null,
   "id": "e8b40aff",
   "metadata": {},
   "outputs": [],
   "source": [
    "log = logging.getLogger(\"setup\")\n",
    "log.level = logging.DEBUG"
   ]
  },
  {
   "cell_type": "code",
   "execution_count": null,
   "id": "c23e61d6",
   "metadata": {},
   "outputs": [],
   "source": [
    "domain = salobj.Domain()"
   ]
  },
  {
   "cell_type": "code",
   "execution_count": null,
   "id": "5680fe90",
   "metadata": {},
   "outputs": [],
   "source": [
    "mtcs = MTCS(domain=domain, log=log)\n",
    "mtcs.set_rem_loglevel(40)"
   ]
  },
  {
   "cell_type": "code",
   "execution_count": null,
   "id": "2801e131",
   "metadata": {},
   "outputs": [],
   "source": [
    "await mtcs.start_task"
   ]
  },
  {
   "cell_type": "markdown",
   "id": "ac547348",
   "metadata": {},
   "source": [
    "***"
   ]
  },
  {
   "cell_type": "markdown",
   "id": "143c6b4f",
   "metadata": {},
   "source": [
    "Ready M1M3:\n",
    "Raise mirror, turn on FB, clear forces\n",
    "\n",
    "Need to have M1M3 LUT use its inclinometer."
   ]
  },
  {
   "cell_type": "markdown",
   "id": "c821742a",
   "metadata": {},
   "source": [
    "***"
   ]
  },
  {
   "cell_type": "markdown",
   "id": "a851720d",
   "metadata": {},
   "source": [
    "Ready M2:\n",
    "Turn on FB, clear forces\n",
    "\n",
    "Need to have M2 LUT use its inclinometer"
   ]
  },
  {
   "cell_type": "markdown",
   "id": "1fc48bc0",
   "metadata": {},
   "source": [
    "***"
   ]
  },
  {
   "cell_type": "markdown",
   "id": "4c296141",
   "metadata": {},
   "source": [
    "Get camera hexapod ready: check config; make sure LUT is on, and has valid inputs; make sure hex is at LUT position\n"
   ]
  },
  {
   "cell_type": "markdown",
   "id": "51ce135c",
   "metadata": {},
   "source": [
    "***"
   ]
  },
  {
   "cell_type": "markdown",
   "id": "6051dacc",
   "metadata": {},
   "source": [
    "Get M2 hexapod ready: check config; make sure LUT is on, and has valid inputs; make sure hex is at LUT position"
   ]
  },
  {
   "cell_type": "markdown",
   "id": "fc085b78",
   "metadata": {},
   "source": [
    "***\n",
    "Slew to the next target. Choose a target such that the rotator stays within a couple of degrees of its initial position. This is because the CCW is not running (MTmount in simulation mode)."
   ]
  },
  {
   "cell_type": "code",
   "execution_count": null,
   "id": "5c947094",
   "metadata": {},
   "outputs": [],
   "source": [
    "target = await mtcs.find_target(el=60, az=120, mag_limit=8)\n",
    "print(target)"
   ]
  },
  {
   "cell_type": "code",
   "execution_count": null,
   "id": "ffb9032f",
   "metadata": {},
   "outputs": [],
   "source": [
    "await mtcs.slew_object(target, rot_type=RotType.PhysicalSky, rot=1.9)"
   ]
  },
  {
   "cell_type": "markdown",
   "id": "a4e2d7b8",
   "metadata": {},
   "source": [
    "***"
   ]
  },
  {
   "cell_type": "markdown",
   "id": "62e75565",
   "metadata": {},
   "source": [
    "clear all corrections using cmd_resetCorrection"
   ]
  },
  {
   "cell_type": "code",
   "execution_count": null,
   "id": "e758806d",
   "metadata": {},
   "outputs": [],
   "source": [
    "await mtcs.rem.mtaos.cmd_resetCorrection.start()"
   ]
  },
  {
   "cell_type": "code",
   "execution_count": null,
   "id": "907d3da3",
   "metadata": {},
   "outputs": [],
   "source": [
    "await mtcs.rem.mtaos.cmd_issueCorrection.start(timeout=60.)"
   ]
  },
  {
   "cell_type": "markdown",
   "id": "1d2cd023",
   "metadata": {},
   "source": [
    "***\n",
    "Add 1um of z7 to the system via OFC, issue the corrections.\n",
    "\n",
    "Compare the corrections sent vs forces and position changes applied. This is currently done in a separate notebook or on Chronograf. "
   ]
  },
  {
   "cell_type": "code",
   "execution_count": null,
   "id": "2851a532",
   "metadata": {},
   "outputs": [],
   "source": [
    "wavefront_errors = np.zeros(19)"
   ]
  },
  {
   "cell_type": "code",
   "execution_count": null,
   "id": "57544370",
   "metadata": {},
   "outputs": [],
   "source": [
    "wavefront_errors[3]=1.0"
   ]
  },
  {
   "cell_type": "code",
   "execution_count": null,
   "id": "9e09c071",
   "metadata": {},
   "outputs": [],
   "source": [
    "await mtcs.rem.mtaos.cmd_addAberration.set_start(wf=wavefront_errors, timeout=10)"
   ]
  },
  {
   "cell_type": "code",
   "execution_count": null,
   "id": "98d5f93a",
   "metadata": {},
   "outputs": [],
   "source": [
    "await mtcs.rem.mtaos.cmd_issueCorrection.start(timeout=60.)"
   ]
  },
  {
   "cell_type": "markdown",
   "id": "aad0976e",
   "metadata": {},
   "source": [
    "***\n",
    "Make plots using telemetry from each component to verify the changes in the DOFs. This step does not currently involve running any commands in this notebook. This step must be verified using a separate noteboook. "
   ]
  },
  {
   "cell_type": "markdown",
   "id": "fc1ca651",
   "metadata": {},
   "source": [
    "***\n",
    "Put M2 hexapod in DISABLED state (so that we can test command rejection)."
   ]
  },
  {
   "cell_type": "code",
   "execution_count": null,
   "id": "2c10216f",
   "metadata": {},
   "outputs": [],
   "source": [
    "await mtcs.set_state(salobj.State.DISABLED, components=[\"mthexapod_2\"])"
   ]
  },
  {
   "cell_type": "markdown",
   "id": "7b04bd5a",
   "metadata": {},
   "source": [
    "***\n",
    "Add 1um of z7 to the system via OFC. Expect m2 hexapod corrections are rejected, and all other corrections applied, then undone."
   ]
  },
  {
   "cell_type": "code",
   "execution_count": null,
   "id": "c99fb134",
   "metadata": {},
   "outputs": [],
   "source": [
    "await mtcs.rem.mtaos.cmd_addAberration.set_start(wf=wavefront_errors, timeout=10)"
   ]
  },
  {
   "cell_type": "code",
   "execution_count": null,
   "id": "0a92073d",
   "metadata": {},
   "outputs": [],
   "source": [
    "await mtcs.rem.mtaos.cmd_issueCorrection.start(timeout=60.)"
   ]
  },
  {
   "cell_type": "markdown",
   "id": "96850709",
   "metadata": {},
   "source": [
    "***\n",
    "Re-enable M2 hexapod\n",
    "Make it ready for AOS"
   ]
  },
  {
   "cell_type": "code",
   "execution_count": null,
   "id": "6d174ce0",
   "metadata": {},
   "outputs": [],
   "source": [
    "await mtcs.set_state(salobj.State.ENABLED, components=[\"mthexapod_2\"])"
   ]
  },
  {
   "cell_type": "markdown",
   "id": "0193d6b9",
   "metadata": {},
   "source": [
    "***\n",
    "Re-issue the correction."
   ]
  },
  {
   "cell_type": "code",
   "execution_count": null,
   "id": "4280546b",
   "metadata": {},
   "outputs": [],
   "source": [
    "await mtcs.rem.mtaos.cmd_addAberration.set_start(wf=wavefront_errors, timeout=10)"
   ]
  },
  {
   "cell_type": "code",
   "execution_count": null,
   "id": "2b6d6f8a",
   "metadata": {},
   "outputs": [],
   "source": [
    "await mtcs.rem.mtaos.cmd_issueCorrection.start(timeout=60.)"
   ]
  },
  {
   "cell_type": "markdown",
   "id": "e768dd6a",
   "metadata": {},
   "source": [
    "***\n",
    "Reject the latest corrections."
   ]
  },
  {
   "cell_type": "code",
   "execution_count": null,
   "id": "414a49de",
   "metadata": {},
   "outputs": [],
   "source": [
    "await mtcs.rem.mtaos.cmd_rejectCorrection.start()"
   ]
  },
  {
   "cell_type": "code",
   "execution_count": null,
   "id": "e06919a0",
   "metadata": {},
   "outputs": [],
   "source": [
    "await mtcs.rem.mtaos.cmd_issueCorrection.start(timeout=60.)"
   ]
  },
  {
   "cell_type": "markdown",
   "id": "55b5e8fe",
   "metadata": {},
   "source": [
    "***\n",
    "Add 2um of z7 via OFC"
   ]
  },
  {
   "cell_type": "code",
   "execution_count": null,
   "id": "54a7d4e4",
   "metadata": {},
   "outputs": [],
   "source": [
    "wavefront_errors[3] = 2.0"
   ]
  },
  {
   "cell_type": "code",
   "execution_count": null,
   "id": "050c7422",
   "metadata": {},
   "outputs": [],
   "source": [
    "wavefront_errors"
   ]
  },
  {
   "cell_type": "code",
   "execution_count": null,
   "id": "c112ddf7",
   "metadata": {},
   "outputs": [],
   "source": [
    "await mtcs.rem.mtaos.cmd_addAberration.set_start(wf=wavefront_errors, timeout=10)"
   ]
  },
  {
   "cell_type": "code",
   "execution_count": null,
   "id": "c1a0d90d",
   "metadata": {},
   "outputs": [],
   "source": [
    "await mtcs.rem.mtaos.cmd_issueCorrection.start(timeout=60.)"
   ]
  },
  {
   "cell_type": "markdown",
   "id": "2e5010c3",
   "metadata": {},
   "source": [
    "***\n",
    "Stop Tracking"
   ]
  },
  {
   "cell_type": "code",
   "execution_count": null,
   "id": "45b70fb3",
   "metadata": {},
   "outputs": [],
   "source": [
    "await mtcs.stop_tracking()"
   ]
  },
  {
   "cell_type": "markdown",
   "id": "c9e5e826",
   "metadata": {},
   "source": [
    "***\n",
    "Wrap up. Put each component to the following states:\n",
    "mtaos --> standby\n",
    "m1m3 --> standby\n",
    "m2 --> standby\n",
    "camera hex --> standby\n",
    "m2 hex --> standby"
   ]
  },
  {
   "cell_type": "code",
   "execution_count": null,
   "id": "29e1a0b4",
   "metadata": {
    "tags": []
   },
   "outputs": [],
   "source": [
    "await mtcs.set_state(salobj.State.STANDBY, components=[\"mtaos\"])"
   ]
  },
  {
   "cell_type": "code",
   "execution_count": null,
   "id": "d490cd00",
   "metadata": {},
   "outputs": [],
   "source": [
    "await mtcs.lower_m1m3()"
   ]
  },
  {
   "cell_type": "code",
   "execution_count": null,
   "id": "836ed031",
   "metadata": {},
   "outputs": [],
   "source": [
    "await mtcs.set_state(salobj.State.STANDBY, components=[\"mtm1m3\"])"
   ]
  },
  {
   "cell_type": "code",
   "execution_count": null,
   "id": "9081efb3",
   "metadata": {},
   "outputs": [],
   "source": [
    "await mtcs.set_state(salobj.State.STANDBY, components=[\"mtm2\"])"
   ]
  },
  {
   "cell_type": "code",
   "execution_count": null,
   "id": "7bf1d833",
   "metadata": {},
   "outputs": [],
   "source": [
    "await mtcs.set_state(salobj.State.STANDBY, components=[\"mthexapod_1\"])"
   ]
  },
  {
   "cell_type": "code",
   "execution_count": null,
   "id": "f6f2311a",
   "metadata": {},
   "outputs": [],
   "source": [
    "await mtcs.set_state(salobj.State.STANDBY, components=[\"mthexapod_2\"])"
   ]
  },
  {
   "cell_type": "code",
   "execution_count": null,
   "id": "65ba9f53",
   "metadata": {},
   "outputs": [],
   "source": [
    "await mtcs.standby()"
   ]
  },
  {
   "cell_type": "code",
   "execution_count": null,
   "id": "bdb037b2-df96-41d8-92b9-2483d9300539",
   "metadata": {},
   "outputs": [],
   "source": []
  }
 ],
 "metadata": {
  "kernelspec": {
   "display_name": "LSST",
   "language": "python",
   "name": "lsst"
  },
  "language_info": {
   "codemirror_mode": {
    "name": "ipython",
    "version": 3
   },
   "file_extension": ".py",
   "mimetype": "text/x-python",
   "name": "python",
   "nbconvert_exporter": "python",
   "pygments_lexer": "ipython3",
   "version": "3.8.13"
  },
  "toc-autonumbering": false
 },
 "nbformat": 4,
 "nbformat_minor": 5
}
