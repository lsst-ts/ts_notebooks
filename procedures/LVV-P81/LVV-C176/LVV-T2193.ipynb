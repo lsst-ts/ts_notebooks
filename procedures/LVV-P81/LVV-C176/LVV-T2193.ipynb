{
 "cells": [
  {
   "cell_type": "markdown",
   "id": "96c22025",
   "metadata": {},
   "source": [
    "# Description #\n",
    "\n",
    "This notebook is used for the level 3 integration tests from test plan LVV-P81 (https://jira.lsstcorp.org/secure/Tests.jspa#/testPlan/LVV-P81) as part of test cylce LVV-C176 (https://jira.lsstcorp.org/secure/Tests.jspa#/testCycle/LVV-C176). The following tests are currently run as part of this notebook:\n",
    "\n",
    " - LVV-T2193 (https://jira.lsstcorp.org/secure/Tests.jspa#/testCase/LVV-T2193)\n",
    " \n",
    "Upon completion, save the notebook and its output as a pdf file to be attached to the test execution in JIRA. \n",
    "\n",
    "Last executed by E. Dennihy 20210928"
   ]
  },
  {
   "cell_type": "markdown",
   "id": "50613424",
   "metadata": {},
   "source": [
    "## Setup ##\n",
    "\n",
    "This setup is applicable to all three of the tests (LVV-T2190, LVV-T2193, LVV-T2290). "
   ]
  },
  {
   "cell_type": "code",
   "execution_count": 1,
   "id": "4ff7caae",
   "metadata": {},
   "outputs": [],
   "source": [
    "%load_ext autoreload\n",
    "%autoreload 2"
   ]
  },
  {
   "cell_type": "code",
   "execution_count": 2,
   "id": "d1ccb8a5",
   "metadata": {},
   "outputs": [
    {
     "name": "stderr",
     "output_type": "stream",
     "text": [
      "Patching auth into notebook.base.handlers.IPythonHandler(notebook.base.handlers.AuthenticatedHandler) -> IPythonHandler(jupyterhub.singleuser.mixins.HubAuthenticatedHandler, notebook.base.handlers.AuthenticatedHandler)\n"
     ]
    },
    {
     "data": {
      "text/plain": [
       "'andes03.cp.lsst.org'"
      ]
     },
     "execution_count": 2,
     "metadata": {},
     "output_type": "execute_result"
    }
   ],
   "source": [
    "import rubin_jupyter_utils.lab.notebook as nb\n",
    "nb.utils.get_node()"
   ]
  },
  {
   "cell_type": "code",
   "execution_count": 3,
   "id": "7218451e",
   "metadata": {},
   "outputs": [
    {
     "name": "stderr",
     "output_type": "stream",
     "text": [
      "Update leap second table\n",
      "current_tai uses the system TAI clock\n"
     ]
    }
   ],
   "source": [
    "import os\n",
    "import sys\n",
    "import asyncio\n",
    "import logging\n",
    "\n",
    "import pandas as pd\n",
    "import numpy as np\n",
    "\n",
    "from matplotlib import pyplot as plt\n",
    "\n",
    "from lsst.ts import salobj\n",
    "from lsst.ts.observatory.control.maintel import MTCS, ComCam\n",
    "from lsst.ts.observatory.control import RotType"
   ]
  },
  {
   "cell_type": "code",
   "execution_count": 4,
   "id": "532457d9",
   "metadata": {},
   "outputs": [],
   "source": [
    "logging.basicConfig(format=\"%(name)s:%(message)s\", level=logging.DEBUG)"
   ]
  },
  {
   "cell_type": "code",
   "execution_count": 5,
   "id": "06ef12ce",
   "metadata": {},
   "outputs": [],
   "source": [
    "log = logging.getLogger(\"setup\")\n",
    "log.level = logging.DEBUG"
   ]
  },
  {
   "cell_type": "code",
   "execution_count": 6,
   "id": "1056188d",
   "metadata": {},
   "outputs": [],
   "source": [
    "domain = salobj.Domain()"
   ]
  },
  {
   "cell_type": "code",
   "execution_count": 7,
   "id": "a307fc31",
   "metadata": {},
   "outputs": [
    {
     "name": "stderr",
     "output_type": "stream",
     "text": [
      "mtmount: Adding all resources.\n",
      "mtptg: Adding all resources.\n",
      "mtaos: Adding all resources.\n",
      "mtm1m3: Adding all resources.\n",
      "mtm2: Adding all resources.\n",
      "mthexapod_1: Adding all resources.\n",
      "mthexapod_2: Adding all resources.\n",
      "mtrotator: Adding all resources.\n",
      "mtdome: Adding all resources.\n",
      "mtdometrajectory: Adding all resources.\n",
      "Read historical data in 0.04 sec\n",
      "Read historical data in 0.09 sec\n",
      "elevation DDS read queue is full (100 elements); data may be lost\n",
      "motors DDS read queue is full (100 elements); data may be lost\n",
      "electrical DDS read queue is full (100 elements); data may be lost\n",
      "cameraCableWrap DDS read queue is full (100 elements); data may be lost\n",
      "electrical DDS read queue is full (100 elements); data may be lost\n",
      "application DDS read queue is full (100 elements); data may be lost\n",
      "azimuth DDS read queue is full (100 elements); data may be lost\n",
      "ccwFollowingError DDS read queue is full (100 elements); data may be lost\n",
      "actuators DDS read queue is full (100 elements); data may be lost\n",
      "powerSupplyData DDS read queue is full (100 elements); data may be lost\n",
      "zenithAngle DDS read queue is full (100 elements); data may be lost\n",
      "timeAndDate DDS read queue is full (100 elements); data may be lost\n",
      "electrical DDS read queue is filling: 85 of 100 elements\n",
      "pidData DDS read queue is full (100 elements); data may be lost\n",
      "application DDS read queue is filling: 86 of 100 elements\n",
      "mountStatus DDS read queue is full (100 elements); data may be lost\n",
      "temperature DDS read queue is full (100 elements); data may be lost\n",
      "inclinometerData DDS read queue is full (100 elements); data may be lost\n",
      "actuators DDS read queue is filling: 87 of 100 elements\n",
      "mountPosition DDS read queue is full (100 elements); data may be lost\n",
      "tangentForce DDS read queue is full (100 elements); data may be lost\n",
      "imsData DDS read queue is full (100 elements); data may be lost\n",
      "currentTargetStatus DDS read queue is full (100 elements); data may be lost\n",
      "tangentEncoderPositions DDS read queue is full (100 elements); data may be lost\n",
      "hardpointMonitorData DDS read queue is full (100 elements); data may be lost\n",
      "tangentActuatorSteps DDS read queue is full (100 elements); data may be lost\n",
      "hardpointActuatorData DDS read queue is full (100 elements); data may be lost\n",
      "powerStatus DDS read queue is full (100 elements); data may be lost\n",
      "positionIMS DDS read queue is full (100 elements); data may be lost\n",
      "forceActuatorData DDS read queue is full (100 elements); data may be lost\n",
      "position DDS read queue is full (100 elements); data may be lost\n",
      "accelerometerData DDS read queue is full (100 elements); data may be lost\n",
      "netMomentsTotal DDS read queue is full (100 elements); data may be lost\n",
      "netForcesTotal DDS read queue is full (100 elements); data may be lost\n",
      "ilcData DDS read queue is full (100 elements); data may be lost\n",
      "forceBalance DDS read queue is full (100 elements); data may be lost\n",
      "displacementSensors DDS read queue is full (100 elements); data may be lost\n",
      "axialForce DDS read queue is full (100 elements); data may be lost\n",
      "axialEncoderPositions DDS read queue is full (100 elements); data may be lost\n",
      "axialActuatorSteps DDS read queue is full (100 elements); data may be lost\n"
     ]
    }
   ],
   "source": [
    "mtcs = MTCS(domain=domain, log=log)\n",
    "mtcs.set_rem_loglevel(40)"
   ]
  },
  {
   "cell_type": "code",
   "execution_count": 8,
   "id": "42e741b4",
   "metadata": {},
   "outputs": [
    {
     "data": {
      "text/plain": [
       "[None, None, None, None, None, None, None, None, None, None]"
      ]
     },
     "execution_count": 8,
     "metadata": {},
     "output_type": "execute_result"
    }
   ],
   "source": [
    "await mtcs.start_task"
   ]
  },
  {
   "cell_type": "code",
   "execution_count": 9,
   "id": "be231c59",
   "metadata": {},
   "outputs": [
    {
     "name": "stderr",
     "output_type": "stream",
     "text": [
      "cccamera: Adding all resources.\n",
      "ccheaderservice: Adding all resources.\n",
      "ccarchiver: Adding all resources.\n",
      "Read historical data in 0.01 sec\n",
      "Read historical data in 0.08 sec\n",
      "Read historical data in 0.24 sec\n"
     ]
    }
   ],
   "source": [
    "comcam = ComCam(domain=domain, log=log)"
   ]
  },
  {
   "cell_type": "code",
   "execution_count": 10,
   "id": "c10905c8",
   "metadata": {},
   "outputs": [],
   "source": [
    "comcam.set_rem_loglevel(40)"
   ]
  },
  {
   "cell_type": "code",
   "execution_count": 11,
   "id": "b34a699a",
   "metadata": {},
   "outputs": [
    {
     "data": {
      "text/plain": [
       "[None, None, None]"
      ]
     },
     "execution_count": 11,
     "metadata": {},
     "output_type": "execute_result"
    }
   ],
   "source": [
    "await comcam.start_task"
   ]
  },
  {
   "cell_type": "code",
   "execution_count": 12,
   "id": "77afeac7",
   "metadata": {},
   "outputs": [
    {
     "name": "stderr",
     "output_type": "stream",
     "text": [
      "Enabling all components\n",
      "Gathering settings.\n",
      "Couldn't get settingVersions event. Using empty settings.\n",
      "Couldn't get settingVersions event. Using empty settings.\n",
      "Complete settings for cccamera.\n",
      "Complete settings for ccheaderservice.\n",
      "Complete settings for ccarchiver.\n",
      "Settings versions: {'cccamera': '', 'ccheaderservice': '', 'ccarchiver': ''}\n",
      "[cccamera]::[<State.STANDBY: 5>, <State.DISABLED: 1>, <State.ENABLED: 2>]\n",
      "[ccheaderservice]::[<State.STANDBY: 5>, <State.DISABLED: 1>, <State.ENABLED: 2>]\n",
      "[ccarchiver]::[<State.STANDBY: 5>, <State.DISABLED: 1>, <State.ENABLED: 2>]\n",
      "All components in <State.ENABLED: 2>.\n"
     ]
    }
   ],
   "source": [
    "await comcam.enable()"
   ]
  },
  {
   "cell_type": "markdown",
   "id": "925715ee",
   "metadata": {},
   "source": [
    "## LVV-T2290 ##\n",
    "\n",
    "Here we perform a test to slew and take an image\n",
    "\n",
    "Test LVV-T2290 Execution LVV-E1349"
   ]
  },
  {
   "cell_type": "code",
   "execution_count": 13,
   "id": "564fa71c",
   "metadata": {},
   "outputs": [
    {
     "name": "stdout",
     "output_type": "stream",
     "text": [
      "HD 116969\n"
     ]
    }
   ],
   "source": [
    "target = await mtcs.find_target(el=60, az=120, mag_limit=8)\n",
    "print(target)"
   ]
  },
  {
   "cell_type": "code",
   "execution_count": 14,
   "id": "67f97e69",
   "metadata": {},
   "outputs": [
    {
     "name": "stderr",
     "output_type": "stream",
     "text": [
      "Slewing to HD 116969: 13 27 51.5573 -40 23 38.494\n",
      "Setting rotator physical position to 1.9 deg. Rotator will track sky.\n",
      "Stop tracking.\n",
      "Sending slew command.\n",
      "Scheduling check coroutines\n",
      "process as completed...\n",
      "Monitor position started.\n",
      "Waiting for Target event from mtmount.\n",
      "mtmount: <State.ENABLED: 2>\n",
      "mtptg: <State.ENABLED: 2>\n",
      "mtaos: <State.ENABLED: 2>\n",
      "mtm1m3: <State.ENABLED: 2>\n",
      "mtm2: <State.ENABLED: 2>\n",
      "mthexapod_1: <State.ENABLED: 2>\n",
      "mthexapod_2: <State.ENABLED: 2>\n",
      "mtrotator: <State.ENABLED: 2>\n",
      "mtdome: <State.ENABLED: 2>\n",
      "mtdometrajectory: <State.ENABLED: 2>\n",
      "Wait for mtmount in position event.\n",
      "Wait for dome in position event.\n",
      "Wait for rotator in position event.\n",
      "MTMount axesInPosition got: elevation True, azimuth False.\n",
      "MTMount axesInPosition got: elevation False, azimuth False.\n",
      "Mount target: private_revCode: 261ad639, private_sndStamp: 1632842498.3596807, private_rcvStamp: 1632842498.36308, private_seqNum: 2, private_identity: MTMount, private_origin: 221230, private_host: 0, elevation: 59.80618084576886, elevationVelocity: 0.00313967488564404, azimuth: 119.5289221678393, azimuthVelocity: 0.0009519703124136836, taiTime: 1632842498.414872, trackId: 1, tracksys: SIDEREAL, radesys: ICRS, priority: 0\n",
      "[Tel]: Az = +000.028[+119.5]; El = +089.986[ -30.2] [Rot]: +001.206[  -0.0] [Dome] Az = +000.000; El = +000.000 \n",
      "Dome azimuth in position.\n",
      "Dome elevation in position.\n",
      "[Tel]: Az = +033.404[ +86.1]; El = +073.314[ -13.5] [Rot]: +001.834[  +0.0] [Dome] Az = +000.000; El = +000.000 \n",
      "Got True\n",
      "Rotator in position.\n",
      "MTMount axesInPosition got: elevation True, azimuth False.\n",
      "[Tel]: Az = +075.095[ +44.4]; El = +059.842[  +0.0] [Rot]: +001.813[  +0.0] [Dome] Az = +000.000; El = +000.000 \n",
      "[Tel]: Az = +116.615[  +2.9]; El = +059.861[  -0.0] [Rot]: +001.792[  -0.0] [Dome] Az = +000.000; El = +000.000 \n",
      "MTMount axesInPosition got: elevation True, azimuth True.\n",
      "Waiting for telescope to settle.\n",
      "Telescope in position.\n"
     ]
    }
   ],
   "source": [
    "await mtcs.slew_object(target, rot_type=RotType.PhysicalSky, rot=1.9)"
   ]
  },
  {
   "cell_type": "markdown",
   "id": "6f2b27ea",
   "metadata": {},
   "source": [
    "telescope is in position, let's take a comcam image!"
   ]
  },
  {
   "cell_type": "code",
   "execution_count": 15,
   "id": "8a44bf37",
   "metadata": {},
   "outputs": [
    {
     "name": "stderr",
     "output_type": "stream",
     "text": [
      "Generating group_id\n",
      "imagetype: OBJECT, TCS synchronization not configured.\n",
      "OBJECT 0001 - 0001\n"
     ]
    },
    {
     "data": {
      "text/plain": [
       "array([2021092800001])"
      ]
     },
     "execution_count": 15,
     "metadata": {},
     "output_type": "execute_result"
    }
   ],
   "source": [
    "await comcam.take_object(15)"
   ]
  },
  {
   "cell_type": "code",
   "execution_count": 16,
   "id": "8db764c8",
   "metadata": {},
   "outputs": [
    {
     "name": "stderr",
     "output_type": "stream",
     "text": [
      "Stop tracking.\n"
     ]
    }
   ],
   "source": [
    "await mtcs.stop_tracking()"
   ]
  },
  {
   "cell_type": "markdown",
   "id": "e8cc8529",
   "metadata": {},
   "source": [
    "The image landed correctly and even has some correct info in the file header, later we will need to do a more careful analysis of the header information"
   ]
  },
  {
   "cell_type": "markdown",
   "id": "c4d9acd5",
   "metadata": {},
   "source": [
    "## LVV-T2190 ##\n",
    "\n",
    "Now we are moving to on mtaos testing \n",
    "\n",
    "Test LVV-T2190 Execution LVV-1351"
   ]
  },
  {
   "cell_type": "markdown",
   "id": "0f9da58c",
   "metadata": {},
   "source": [
    "initialize an array of wavefront error values to be passed directly to the mtaos"
   ]
  },
  {
   "cell_type": "code",
   "execution_count": 17,
   "id": "9fd5d0e2",
   "metadata": {},
   "outputs": [],
   "source": [
    "import numpy as np\n",
    "wavefront_errors = np.zeros(19)"
   ]
  },
  {
   "cell_type": "code",
   "execution_count": 18,
   "id": "ce614d3c",
   "metadata": {},
   "outputs": [],
   "source": [
    "wavefront_errors[3] += 0.1 # add 0.1 um to z7"
   ]
  },
  {
   "cell_type": "code",
   "execution_count": 19,
   "id": "64785f98",
   "metadata": {},
   "outputs": [
    {
     "data": {
      "text/plain": [
       "<ddsutil.MTAOS_ackcmd_8e276e56 at 0x7f81bf25cfd0>"
      ]
     },
     "execution_count": 19,
     "metadata": {},
     "output_type": "execute_result"
    }
   ],
   "source": [
    "await mtcs.rem.mtaos.cmd_addAberration.set_start(wf=wavefront_errors, timeout=10)"
   ]
  },
  {
   "cell_type": "markdown",
   "id": "486dd97b",
   "metadata": {},
   "source": [
    "This command primes the corrections, the issueCorrection command is needed to actually command them to be sent"
   ]
  },
  {
   "cell_type": "code",
   "execution_count": 20,
   "id": "e5aa467d",
   "metadata": {},
   "outputs": [
    {
     "data": {
      "text/plain": [
       "<ddsutil.MTAOS_ackcmd_8e276e56 at 0x7f81bf260a00>"
      ]
     },
     "execution_count": 20,
     "metadata": {},
     "output_type": "execute_result"
    }
   ],
   "source": [
    "await mtcs.rem.mtaos.cmd_issueCorrection.start(timeout=60.)"
   ]
  },
  {
   "cell_type": "code",
   "execution_count": 21,
   "id": "01a97725",
   "metadata": {},
   "outputs": [
    {
     "data": {
      "text/plain": [
       "<ddsutil.MTAOS_ackcmd_8e276e56 at 0x7f81bfbddb20>"
      ]
     },
     "execution_count": 21,
     "metadata": {},
     "output_type": "execute_result"
    }
   ],
   "source": [
    "await mtcs.rem.mtaos.cmd_resetCorrection.start()"
   ]
  },
  {
   "cell_type": "code",
   "execution_count": 23,
   "id": "9685b446",
   "metadata": {},
   "outputs": [],
   "source": [
    "wavefront_errors[3] = 0.2 # add 1.0 um of z7"
   ]
  },
  {
   "cell_type": "code",
   "execution_count": 24,
   "id": "5e03b7c2",
   "metadata": {},
   "outputs": [
    {
     "data": {
      "text/plain": [
       "<ddsutil.MTAOS_ackcmd_8e276e56 at 0x7f81b6f78700>"
      ]
     },
     "execution_count": 24,
     "metadata": {},
     "output_type": "execute_result"
    }
   ],
   "source": [
    "await mtcs.rem.mtaos.cmd_addAberration.set_start(wf=wavefront_errors, timeout=10)"
   ]
  },
  {
   "cell_type": "code",
   "execution_count": 25,
   "id": "feb45435",
   "metadata": {},
   "outputs": [
    {
     "data": {
      "text/plain": [
       "<ddsutil.MTAOS_ackcmd_8e276e56 at 0x7f820cc28c10>"
      ]
     },
     "execution_count": 25,
     "metadata": {},
     "output_type": "execute_result"
    }
   ],
   "source": [
    "await mtcs.rem.mtaos.cmd_issueCorrection.start(timeout=60.)"
   ]
  },
  {
   "cell_type": "code",
   "execution_count": null,
   "id": "17365acb",
   "metadata": {},
   "outputs": [],
   "source": [
    "wavefront_errors[3] = 1.0 # add 1.0 um of z7"
   ]
  },
  {
   "cell_type": "code",
   "execution_count": null,
   "id": "f45a2eab",
   "metadata": {},
   "outputs": [],
   "source": [
    "await mtcs.rem.mtaos.cmd_addAberration.set_start(wf=wavefront_errors, timeout=10)"
   ]
  },
  {
   "cell_type": "code",
   "execution_count": null,
   "id": "8bdc25b2",
   "metadata": {},
   "outputs": [],
   "source": [
    "await mtcs.rem.mtaos.cmd_issueCorrection.start(timeout=60.)"
   ]
  },
  {
   "cell_type": "code",
   "execution_count": null,
   "id": "892daf8f",
   "metadata": {},
   "outputs": [],
   "source": []
  },
  {
   "cell_type": "markdown",
   "id": "f1c064c2",
   "metadata": {},
   "source": [
    "## LVV-T2193 ##\n",
    "\n",
    "Moving to a failure test of how the mtaos handles a rejected command\n",
    "\n",
    "JIRA Test LVV-T2193 Execution LVV-E1400"
   ]
  },
  {
   "cell_type": "code",
   "execution_count": 26,
   "id": "7caa40bc",
   "metadata": {},
   "outputs": [
    {
     "data": {
      "text/plain": [
       "<ddsutil.MTAOS_ackcmd_8e276e56 at 0x7f820cbf7820>"
      ]
     },
     "execution_count": 26,
     "metadata": {},
     "output_type": "execute_result"
    }
   ],
   "source": [
    "await mtcs.rem.mtaos.cmd_resetCorrection.start()"
   ]
  },
  {
   "cell_type": "code",
   "execution_count": 27,
   "id": "3c31946a",
   "metadata": {},
   "outputs": [
    {
     "data": {
      "text/plain": [
       "<ddsutil.MTAOS_ackcmd_8e276e56 at 0x7f820cb96940>"
      ]
     },
     "execution_count": 27,
     "metadata": {},
     "output_type": "execute_result"
    }
   ],
   "source": [
    "await mtcs.rem.mtaos.cmd_issueCorrection.start(timeout=60.)"
   ]
  },
  {
   "cell_type": "code",
   "execution_count": 28,
   "id": "b50ce980",
   "metadata": {},
   "outputs": [
    {
     "data": {
      "text/plain": [
       "array([0. , 0. , 0. , 0.2, 0. , 0. , 0. , 0. , 0. , 0. , 0. , 0. , 0. ,\n",
       "       0. , 0. , 0. , 0. , 0. , 0. ])"
      ]
     },
     "execution_count": 28,
     "metadata": {},
     "output_type": "execute_result"
    }
   ],
   "source": [
    "wavefront_errors"
   ]
  },
  {
   "cell_type": "code",
   "execution_count": 30,
   "id": "5c73c27d",
   "metadata": {},
   "outputs": [],
   "source": [
    "wavefront_errors[3]=1.0"
   ]
  },
  {
   "cell_type": "code",
   "execution_count": 31,
   "id": "60ce48f5",
   "metadata": {},
   "outputs": [
    {
     "data": {
      "text/plain": [
       "<ddsutil.MTAOS_ackcmd_8e276e56 at 0x7f817bd504c0>"
      ]
     },
     "execution_count": 31,
     "metadata": {},
     "output_type": "execute_result"
    }
   ],
   "source": [
    "await mtcs.rem.mtaos.cmd_addAberration.set_start(wf=wavefront_errors, timeout=10)"
   ]
  },
  {
   "cell_type": "code",
   "execution_count": 32,
   "id": "ab72ab06",
   "metadata": {},
   "outputs": [
    {
     "data": {
      "text/plain": [
       "<ddsutil.MTAOS_ackcmd_8e276e56 at 0x7f820cbef820>"
      ]
     },
     "execution_count": 32,
     "metadata": {},
     "output_type": "execute_result"
    }
   ],
   "source": [
    "await mtcs.rem.mtaos.cmd_issueCorrection.start(timeout=60.)"
   ]
  },
  {
   "cell_type": "code",
   "execution_count": 33,
   "id": "49d0b1da",
   "metadata": {},
   "outputs": [
    {
     "name": "stderr",
     "output_type": "stream",
     "text": [
      "[mthexapod_2]::[<State.ENABLED: 2>, <State.DISABLED: 1>]\n",
      "All components in <State.DISABLED: 1>.\n"
     ]
    }
   ],
   "source": [
    "await mtcs.set_state(salobj.State.DISABLED, components=[\"mthexapod_2\"])"
   ]
  },
  {
   "cell_type": "code",
   "execution_count": 34,
   "id": "e9d4313a",
   "metadata": {},
   "outputs": [
    {
     "data": {
      "text/plain": [
       "<ddsutil.MTAOS_ackcmd_8e276e56 at 0x7f81b6de8130>"
      ]
     },
     "execution_count": 34,
     "metadata": {},
     "output_type": "execute_result"
    }
   ],
   "source": [
    "await mtcs.rem.mtaos.cmd_addAberration.set_start(wf=wavefront_errors, timeout=10)"
   ]
  },
  {
   "cell_type": "code",
   "execution_count": 35,
   "id": "d1f7ee38",
   "metadata": {},
   "outputs": [
    {
     "ename": "AckError",
     "evalue": "msg='Command failed', ackcmd=(ackcmd private_seqNum=763213323, ack=<SalRetCode.CMD_FAILED: -302>, error=1, result=\"Failed: Failed to apply correction to: ['m2hex']. \")",
     "output_type": "error",
     "traceback": [
      "\u001b[0;31m---------------------------------------------------------------------------\u001b[0m",
      "\u001b[0;31mAckError\u001b[0m                                  Traceback (most recent call last)",
      "\u001b[0;32m<ipython-input-35-b1ff3ae729d7>\u001b[0m in \u001b[0;36m<module>\u001b[0;34m\u001b[0m\n\u001b[0;32m----> 1\u001b[0;31m \u001b[0;32mawait\u001b[0m \u001b[0mmtcs\u001b[0m\u001b[0;34m.\u001b[0m\u001b[0mrem\u001b[0m\u001b[0;34m.\u001b[0m\u001b[0mmtaos\u001b[0m\u001b[0;34m.\u001b[0m\u001b[0mcmd_issueCorrection\u001b[0m\u001b[0;34m.\u001b[0m\u001b[0mstart\u001b[0m\u001b[0;34m(\u001b[0m\u001b[0mtimeout\u001b[0m\u001b[0;34m=\u001b[0m\u001b[0;36m60.\u001b[0m\u001b[0;34m)\u001b[0m\u001b[0;34m\u001b[0m\u001b[0;34m\u001b[0m\u001b[0m\n\u001b[0m",
      "\u001b[0;32m/opt/lsst/software/stack/conda/miniconda3-py38_4.9.2/envs/lsst-scipipe-0.7.0/lib/python3.8/site-packages/lsst/ts/salobj/topics/remote_command.py\u001b[0m in \u001b[0;36mstart\u001b[0;34m(self, data, timeout, wait_done)\u001b[0m\n\u001b[1;32m    447\u001b[0m         )\n\u001b[1;32m    448\u001b[0m         \u001b[0mself\u001b[0m\u001b[0;34m.\u001b[0m\u001b[0msalinfo\u001b[0m\u001b[0;34m.\u001b[0m\u001b[0m_running_cmds\u001b[0m\u001b[0;34m[\u001b[0m\u001b[0mseq_num\u001b[0m\u001b[0;34m]\u001b[0m \u001b[0;34m=\u001b[0m \u001b[0mcmd_info\u001b[0m\u001b[0;34m\u001b[0m\u001b[0;34m\u001b[0m\u001b[0m\n\u001b[0;32m--> 449\u001b[0;31m         \u001b[0;32mreturn\u001b[0m \u001b[0;32mawait\u001b[0m \u001b[0mcmd_info\u001b[0m\u001b[0;34m.\u001b[0m\u001b[0mnext_ackcmd\u001b[0m\u001b[0;34m(\u001b[0m\u001b[0mtimeout\u001b[0m\u001b[0;34m=\u001b[0m\u001b[0mtimeout\u001b[0m\u001b[0;34m)\u001b[0m\u001b[0;34m\u001b[0m\u001b[0;34m\u001b[0m\u001b[0m\n\u001b[0m",
      "\u001b[0;32m/opt/lsst/software/stack/conda/miniconda3-py38_4.9.2/envs/lsst-scipipe-0.7.0/lib/python3.8/site-packages/lsst/ts/salobj/topics/remote_command.py\u001b[0m in \u001b[0;36mnext_ackcmd\u001b[0;34m(self, timeout)\u001b[0m\n\u001b[1;32m    180\u001b[0m             \u001b[0mackcmd\u001b[0m \u001b[0;34m=\u001b[0m \u001b[0;32mawait\u001b[0m \u001b[0mself\u001b[0m\u001b[0;34m.\u001b[0m\u001b[0m_wait_task\u001b[0m\u001b[0;34m\u001b[0m\u001b[0;34m\u001b[0m\u001b[0m\n\u001b[1;32m    181\u001b[0m             \u001b[0;32mif\u001b[0m \u001b[0mackcmd\u001b[0m\u001b[0;34m.\u001b[0m\u001b[0mack\u001b[0m \u001b[0;32min\u001b[0m \u001b[0mself\u001b[0m\u001b[0;34m.\u001b[0m\u001b[0mfailed_ack_codes\u001b[0m\u001b[0;34m:\u001b[0m\u001b[0;34m\u001b[0m\u001b[0;34m\u001b[0m\u001b[0m\n\u001b[0;32m--> 182\u001b[0;31m                 \u001b[0;32mraise\u001b[0m \u001b[0mbase\u001b[0m\u001b[0;34m.\u001b[0m\u001b[0mAckError\u001b[0m\u001b[0;34m(\u001b[0m\u001b[0mmsg\u001b[0m\u001b[0;34m=\u001b[0m\u001b[0;34m\"Command failed\"\u001b[0m\u001b[0;34m,\u001b[0m \u001b[0mackcmd\u001b[0m\u001b[0;34m=\u001b[0m\u001b[0mackcmd\u001b[0m\u001b[0;34m)\u001b[0m\u001b[0;34m\u001b[0m\u001b[0;34m\u001b[0m\u001b[0m\n\u001b[0m\u001b[1;32m    183\u001b[0m             \u001b[0;32mreturn\u001b[0m \u001b[0mackcmd\u001b[0m\u001b[0;34m\u001b[0m\u001b[0;34m\u001b[0m\u001b[0m\n\u001b[1;32m    184\u001b[0m         \u001b[0;32mexcept\u001b[0m \u001b[0masyncio\u001b[0m\u001b[0;34m.\u001b[0m\u001b[0mTimeoutError\u001b[0m\u001b[0;34m:\u001b[0m\u001b[0;34m\u001b[0m\u001b[0;34m\u001b[0m\u001b[0m\n",
      "\u001b[0;31mAckError\u001b[0m: msg='Command failed', ackcmd=(ackcmd private_seqNum=763213323, ack=<SalRetCode.CMD_FAILED: -302>, error=1, result=\"Failed: Failed to apply correction to: ['m2hex']. \")"
     ]
    }
   ],
   "source": [
    "await mtcs.rem.mtaos.cmd_issueCorrection.start(timeout=60.)"
   ]
  },
  {
   "cell_type": "code",
   "execution_count": 36,
   "id": "444767ca",
   "metadata": {},
   "outputs": [
    {
     "name": "stderr",
     "output_type": "stream",
     "text": [
      "[mthexapod_2]::[<State.DISABLED: 1>, <State.ENABLED: 2>]\n",
      "All components in <State.ENABLED: 2>.\n"
     ]
    }
   ],
   "source": [
    "await mtcs.set_state(salobj.State.ENABLED, components=[\"mthexapod_2\"])"
   ]
  },
  {
   "cell_type": "code",
   "execution_count": 37,
   "id": "f1ad6f5f",
   "metadata": {},
   "outputs": [
    {
     "data": {
      "text/plain": [
       "<ddsutil.MTAOS_ackcmd_8e276e56 at 0x7f81bf222790>"
      ]
     },
     "execution_count": 37,
     "metadata": {},
     "output_type": "execute_result"
    }
   ],
   "source": [
    "await mtcs.rem.mtaos.cmd_issueCorrection.start(timeout=60.)"
   ]
  },
  {
   "cell_type": "code",
   "execution_count": 38,
   "id": "38cdbd23",
   "metadata": {},
   "outputs": [
    {
     "data": {
      "text/plain": [
       "<ddsutil.MTAOS_ackcmd_8e276e56 at 0x7f820c9b30a0>"
      ]
     },
     "execution_count": 38,
     "metadata": {},
     "output_type": "execute_result"
    }
   ],
   "source": [
    "await mtcs.rem.mtaos.cmd_addAberration.set_start(wf=wavefront_errors, timeout=10)"
   ]
  },
  {
   "cell_type": "code",
   "execution_count": 39,
   "id": "bdf93dd4",
   "metadata": {},
   "outputs": [
    {
     "data": {
      "text/plain": [
       "<ddsutil.MTAOS_ackcmd_8e276e56 at 0x7f814e5f0040>"
      ]
     },
     "execution_count": 39,
     "metadata": {},
     "output_type": "execute_result"
    }
   ],
   "source": [
    "await mtcs.rem.mtaos.cmd_issueCorrection.start(timeout=60.)"
   ]
  },
  {
   "cell_type": "code",
   "execution_count": 40,
   "id": "946b4d83",
   "metadata": {},
   "outputs": [
    {
     "data": {
      "text/plain": [
       "<ddsutil.MTAOS_ackcmd_8e276e56 at 0x7f817bd72160>"
      ]
     },
     "execution_count": 40,
     "metadata": {},
     "output_type": "execute_result"
    }
   ],
   "source": [
    "await mtcs.rem.mtaos.cmd_rejectCorrection.start()"
   ]
  },
  {
   "cell_type": "code",
   "execution_count": 41,
   "id": "aaa35647",
   "metadata": {},
   "outputs": [
    {
     "data": {
      "text/plain": [
       "<ddsutil.MTAOS_ackcmd_8e276e56 at 0x7f81bfaa7490>"
      ]
     },
     "execution_count": 41,
     "metadata": {},
     "output_type": "execute_result"
    }
   ],
   "source": [
    "await mtcs.rem.mtaos.cmd_issueCorrection.start(timeout=60.)"
   ]
  },
  {
   "cell_type": "code",
   "execution_count": 42,
   "id": "f522c0f9",
   "metadata": {},
   "outputs": [],
   "source": [
    "wavefront_errors[3] += 1.0"
   ]
  },
  {
   "cell_type": "code",
   "execution_count": 43,
   "id": "0e6f6595",
   "metadata": {},
   "outputs": [
    {
     "data": {
      "text/plain": [
       "array([0., 0., 0., 2., 0., 0., 0., 0., 0., 0., 0., 0., 0., 0., 0., 0., 0.,\n",
       "       0., 0.])"
      ]
     },
     "execution_count": 43,
     "metadata": {},
     "output_type": "execute_result"
    }
   ],
   "source": [
    "wavefront_errors"
   ]
  },
  {
   "cell_type": "code",
   "execution_count": 44,
   "id": "c9af8ad7",
   "metadata": {},
   "outputs": [
    {
     "data": {
      "text/plain": [
       "<ddsutil.MTAOS_ackcmd_8e276e56 at 0x7f8159a61bb0>"
      ]
     },
     "execution_count": 44,
     "metadata": {},
     "output_type": "execute_result"
    }
   ],
   "source": [
    "await mtcs.rem.mtaos.cmd_addAberration.set_start(wf=wavefront_errors, timeout=10)"
   ]
  },
  {
   "cell_type": "code",
   "execution_count": 45,
   "id": "3e3668bc",
   "metadata": {},
   "outputs": [
    {
     "data": {
      "text/plain": [
       "<ddsutil.MTAOS_ackcmd_8e276e56 at 0x7f81bfefa310>"
      ]
     },
     "execution_count": 45,
     "metadata": {},
     "output_type": "execute_result"
    }
   ],
   "source": [
    "await mtcs.rem.mtaos.cmd_issueCorrection.start(timeout=60.)"
   ]
  },
  {
   "cell_type": "markdown",
   "id": "26df18da",
   "metadata": {},
   "source": [
    "## Wrap Up and Shut Down ##"
   ]
  },
  {
   "cell_type": "code",
   "execution_count": 46,
   "id": "d3ac7321",
   "metadata": {},
   "outputs": [
    {
     "name": "stderr",
     "output_type": "stream",
     "text": [
      "[mtaos]::[<State.ENABLED: 2>, <State.DISABLED: 1>, <State.STANDBY: 5>]\n",
      "All components in <State.STANDBY: 5>.\n"
     ]
    }
   ],
   "source": [
    "await mtcs.set_state(salobj.State.STANDBY, components=[\"mtaos\"])"
   ]
  },
  {
   "cell_type": "code",
   "execution_count": 47,
   "id": "65f65087",
   "metadata": {},
   "outputs": [
    {
     "name": "stderr",
     "output_type": "stream",
     "text": [
      "M1M3 current detailed state {<DetailedState.ACTIVEENGINEERING: 11>, <DetailedState.ACTIVE: 7>}, executing command...\n",
      "process as completed...\n",
      "M1M3 detailed state 8\n",
      "mtm1m3: <State.ENABLED: 2>\n",
      "mtm1m3: <State.ENABLED: 2>\n",
      "M1M3 detailed state 5\n"
     ]
    }
   ],
   "source": [
    "await mtcs.lower_m1m3()"
   ]
  },
  {
   "cell_type": "code",
   "execution_count": 48,
   "id": "53f837e0",
   "metadata": {},
   "outputs": [
    {
     "name": "stderr",
     "output_type": "stream",
     "text": [
      "[mtm1m3]::[<State.ENABLED: 2>, <State.DISABLED: 1>, <State.STANDBY: 5>]\n",
      "All components in <State.STANDBY: 5>.\n"
     ]
    }
   ],
   "source": [
    "await mtcs.set_state(salobj.State.STANDBY, components=[\"mtm1m3\"])"
   ]
  },
  {
   "cell_type": "code",
   "execution_count": 50,
   "id": "5e3f4d00",
   "metadata": {},
   "outputs": [
    {
     "name": "stderr",
     "output_type": "stream",
     "text": [
      "[mtm2]::[<State.DISABLED: 1>, <State.STANDBY: 5>]\n",
      "All components in <State.STANDBY: 5>.\n"
     ]
    }
   ],
   "source": [
    "await mtcs.set_state(salobj.State.STANDBY, components=[\"mtm2\"])"
   ]
  },
  {
   "cell_type": "code",
   "execution_count": 51,
   "id": "e78f0861",
   "metadata": {},
   "outputs": [
    {
     "name": "stderr",
     "output_type": "stream",
     "text": [
      "[mthexapod_1]::[<State.ENABLED: 2>, <State.DISABLED: 1>, <State.STANDBY: 5>]\n",
      "All components in <State.STANDBY: 5>.\n"
     ]
    }
   ],
   "source": [
    "await mtcs.set_state(salobj.State.STANDBY, components=[\"mthexapod_1\"])"
   ]
  },
  {
   "cell_type": "code",
   "execution_count": 52,
   "id": "afab33c3",
   "metadata": {},
   "outputs": [
    {
     "name": "stderr",
     "output_type": "stream",
     "text": [
      "[mthexapod_2]::[<State.ENABLED: 2>, <State.DISABLED: 1>, <State.STANDBY: 5>]\n",
      "All components in <State.STANDBY: 5>.\n"
     ]
    }
   ],
   "source": [
    "await mtcs.set_state(salobj.State.STANDBY, components=[\"mthexapod_2\"])"
   ]
  },
  {
   "cell_type": "code",
   "execution_count": 53,
   "id": "f21c91fe",
   "metadata": {},
   "outputs": [
    {
     "name": "stderr",
     "output_type": "stream",
     "text": [
      "[mtmount]::[<State.ENABLED: 2>, <State.DISABLED: 1>, <State.STANDBY: 5>]\n",
      "[mtptg]::[<State.ENABLED: 2>, <State.DISABLED: 1>, <State.STANDBY: 5>]\n",
      "[mtaos]::[<State.STANDBY: 5>]\n",
      "[mtm1m3]::[<State.STANDBY: 5>]\n",
      "[mtm2]::[<State.STANDBY: 5>]\n",
      "[mthexapod_1]::[<State.STANDBY: 5>]\n",
      "[mthexapod_2]::[<State.STANDBY: 5>]\n",
      "[mtrotator]::[<State.ENABLED: 2>, <State.DISABLED: 1>, <State.STANDBY: 5>]\n",
      "[mtdome]::[<State.ENABLED: 2>, <State.DISABLED: 1>, <State.STANDBY: 5>]\n",
      "[mtdometrajectory]::[<State.ENABLED: 2>, <State.DISABLED: 1>, <State.STANDBY: 5>]\n",
      "All components in <State.STANDBY: 5>.\n"
     ]
    }
   ],
   "source": [
    "await mtcs.standby()"
   ]
  },
  {
   "cell_type": "code",
   "execution_count": 54,
   "id": "77c5c35f",
   "metadata": {},
   "outputs": [
    {
     "name": "stderr",
     "output_type": "stream",
     "text": [
      "[cccamera]::[<State.ENABLED: 2>, <State.DISABLED: 1>, <State.STANDBY: 5>]\n",
      "[ccheaderservice]::[<State.ENABLED: 2>, <State.DISABLED: 1>, <State.STANDBY: 5>]\n",
      "[ccarchiver]::[<State.ENABLED: 2>, <State.DISABLED: 1>, <State.STANDBY: 5>]\n",
      "All components in <State.STANDBY: 5>.\n"
     ]
    }
   ],
   "source": [
    "await comcam.standby()"
   ]
  },
  {
   "cell_type": "code",
   "execution_count": null,
   "id": "17a9f7ca",
   "metadata": {},
   "outputs": [],
   "source": []
  },
  {
   "cell_type": "markdown",
   "id": "6340b8e7",
   "metadata": {},
   "source": [
    "## Appendix ##"
   ]
  },
  {
   "cell_type": "code",
   "execution_count": null,
   "id": "9fadfac0",
   "metadata": {},
   "outputs": [],
   "source": [
    "# Setting MTMtg to STANDBY so Tiago can change the slew limits which should allows\n",
    "#  us moving to rot=-1.5\n",
    "await mtcs.set_state(salobj.State.STANDBY, components=[\"mtptg\"])"
   ]
  },
  {
   "cell_type": "code",
   "execution_count": null,
   "id": "cd28bea7",
   "metadata": {},
   "outputs": [],
   "source": [
    "await mtcs.set_state(salobj.State.ENABLED, components=[\"mtptg\"])"
   ]
  },
  {
   "cell_type": "code",
   "execution_count": null,
   "id": "70bfa756",
   "metadata": {},
   "outputs": [],
   "source": [
    "await mtcs.slew_object(target, rot_type=RotType.PhysicalSky, rot=-1.5)"
   ]
  },
  {
   "cell_type": "code",
   "execution_count": null,
   "id": "3971a7d1",
   "metadata": {},
   "outputs": [],
   "source": [
    "await mtcs.stop_tracking()"
   ]
  },
  {
   "cell_type": "code",
   "execution_count": null,
   "id": "fbfd2de0",
   "metadata": {},
   "outputs": [],
   "source": [
    "await mtcs.set_state(\n",
    "    state=salobj.State.ENABLED,\n",
    "    settings=dict(mthexapod_1=\"default\"),\n",
    "    components=[\"mthexapod_1\"]\n",
    "    )"
   ]
  },
  {
   "cell_type": "code",
   "execution_count": null,
   "id": "7c120337",
   "metadata": {},
   "outputs": [],
   "source": [
    "await mtcs.rem.mthexapod_1.cmd_clearError.set_start()"
   ]
  },
  {
   "cell_type": "code",
   "execution_count": null,
   "id": "9ec13397",
   "metadata": {},
   "outputs": [],
   "source": [
    "await mtcs.set_state(salobj.State.ENABLED, components=[\"mtptg\"])"
   ]
  },
  {
   "cell_type": "code",
   "execution_count": null,
   "id": "f3a8d4b7",
   "metadata": {},
   "outputs": [],
   "source": [
    "await mtcs.set_state(\n",
    "    state=salobj.State.ENABLED,\n",
    "    settings=dict(mthexapod_1=\"default\"),\n",
    "    components=[\"mthexapod_1\"]\n",
    "    )"
   ]
  },
  {
   "cell_type": "code",
   "execution_count": null,
   "id": "7f7450bf",
   "metadata": {},
   "outputs": [],
   "source": [
    "target = await mtcs.find_target(el=60, az=120, mag_limit=8)\n",
    "print(target)"
   ]
  },
  {
   "cell_type": "code",
   "execution_count": null,
   "id": "77b0e458",
   "metadata": {},
   "outputs": [],
   "source": [
    "await mtcs.slew_object(target, rot_type=RotType.PhysicalSky)"
   ]
  },
  {
   "cell_type": "code",
   "execution_count": null,
   "id": "8b120e8d",
   "metadata": {},
   "outputs": [],
   "source": [
    "# await mtcs.stop_tracking()"
   ]
  },
  {
   "cell_type": "code",
   "execution_count": null,
   "id": "a32174e2",
   "metadata": {},
   "outputs": [],
   "source": [
    "await mtcs.rem.mtrotator.cmd_clearError.set_start()"
   ]
  },
  {
   "cell_type": "code",
   "execution_count": null,
   "id": "4760aa67",
   "metadata": {},
   "outputs": [],
   "source": [
    "await mtcs.set_state(salobj.State.ENABLED, components=[\"mtrotator\"])"
   ]
  },
  {
   "cell_type": "code",
   "execution_count": null,
   "id": "92891a32",
   "metadata": {},
   "outputs": [],
   "source": [
    "await mtcs.set_state(salobj.State.ENABLED, components=[\"mtptg\"])"
   ]
  },
  {
   "cell_type": "code",
   "execution_count": null,
   "id": "e5bf948f",
   "metadata": {},
   "outputs": [],
   "source": [
    "await mtcs.slew_object(target, rot_type=RotType.PhysicalSky)"
   ]
  },
  {
   "cell_type": "code",
   "execution_count": null,
   "id": "ad555b80",
   "metadata": {},
   "outputs": [],
   "source": [
    "await mtcs.stop_tracking()"
   ]
  },
  {
   "cell_type": "code",
   "execution_count": null,
   "id": "79b92836",
   "metadata": {},
   "outputs": [],
   "source": [
    "await mtcs.slew_object(target, rot_type=RotType.PhysicalSky, rot=1.9)"
   ]
  },
  {
   "cell_type": "code",
   "execution_count": null,
   "id": "34338919",
   "metadata": {},
   "outputs": [],
   "source": [
    "await mtcs.rem.mtrotator.cmd_clearError.set_start()"
   ]
  },
  {
   "cell_type": "code",
   "execution_count": null,
   "id": "59987e76",
   "metadata": {},
   "outputs": [],
   "source": [
    "await mtcs.set_state(salobj.State.ENABLED, components=[\"mtrotator\"])"
   ]
  },
  {
   "cell_type": "code",
   "execution_count": null,
   "id": "fd8c9f46",
   "metadata": {},
   "outputs": [],
   "source": [
    "await mtcs.set_state(salobj.State.ENABLED, components=[\"mtptg\"])"
   ]
  },
  {
   "cell_type": "code",
   "execution_count": null,
   "id": "bc220dfb",
   "metadata": {},
   "outputs": [],
   "source": [
    "await mtcs.slew_object(target, rot_type=RotType.PhysicalSky, rot=1.5)"
   ]
  },
  {
   "cell_type": "code",
   "execution_count": null,
   "id": "97baeea6",
   "metadata": {},
   "outputs": [],
   "source": [
    "await comcam.take_object(1)"
   ]
  },
  {
   "cell_type": "code",
   "execution_count": null,
   "id": "458efe9b",
   "metadata": {},
   "outputs": [],
   "source": [
    "await mtcs.stop_tracking()"
   ]
  },
  {
   "cell_type": "code",
   "execution_count": null,
   "id": "a0c1ecd3",
   "metadata": {},
   "outputs": [],
   "source": [
    "await mtcs.slew_object(target, rot_type=RotType.Physical, rot=0)"
   ]
  },
  {
   "cell_type": "code",
   "execution_count": null,
   "id": "7aa05777",
   "metadata": {},
   "outputs": [],
   "source": [
    "await mtcs.rem.mtrotator.cmd_clearError.set_start()\n",
    "await mtcs.set_state(salobj.State.ENABLED, components=[\"mtrotator\"])"
   ]
  },
  {
   "cell_type": "code",
   "execution_count": null,
   "id": "9aeecdc6",
   "metadata": {},
   "outputs": [],
   "source": [
    "await mtcs.set_state(salobj.State.ENABLED, components=[\"mtptg\"])"
   ]
  },
  {
   "cell_type": "code",
   "execution_count": null,
   "id": "fe5e9879",
   "metadata": {},
   "outputs": [],
   "source": [
    "await mtcs.slew_object(target, rot_type=RotType.Physical, rot=0)"
   ]
  },
  {
   "cell_type": "code",
   "execution_count": null,
   "id": "7c8975d3",
   "metadata": {},
   "outputs": [],
   "source": [
    "await comcam.get_available_filters()"
   ]
  },
  {
   "cell_type": "code",
   "execution_count": null,
   "id": "cd80fec8",
   "metadata": {},
   "outputs": [],
   "source": [
    "await comcam.setup_filter('r_03')"
   ]
  },
  {
   "cell_type": "code",
   "execution_count": null,
   "id": "c3ccc840",
   "metadata": {},
   "outputs": [],
   "source": [
    "await mtcs.rem.mthexapod_1.cmd_clearError.set_start()"
   ]
  },
  {
   "cell_type": "code",
   "execution_count": null,
   "id": "01c963f6",
   "metadata": {},
   "outputs": [],
   "source": [
    "await mtcs.set_state(\n",
    "    state=salobj.State.ENABLED,\n",
    "    settings=dict(mthexapod_1=\"default\"),\n",
    "    components=[\"mthexapod_1\"]\n",
    "    )"
   ]
  },
  {
   "cell_type": "code",
   "execution_count": null,
   "id": "a1635861",
   "metadata": {},
   "outputs": [],
   "source": [
    "await mtcs.slew_object(target, rot_type=RotType.PhysicalSky, rot=1.5)"
   ]
  },
  {
   "cell_type": "code",
   "execution_count": null,
   "id": "6bfc6b8e",
   "metadata": {},
   "outputs": [],
   "source": [
    "await mtcs.rem.mtrotator.cmd_clearError.set_start()"
   ]
  },
  {
   "cell_type": "code",
   "execution_count": null,
   "id": "d374f992",
   "metadata": {},
   "outputs": [],
   "source": [
    "await mtcs.set_state(salobj.State.ENABLED, components=[\"mtrotator\"])"
   ]
  },
  {
   "cell_type": "code",
   "execution_count": null,
   "id": "3b8a67a9",
   "metadata": {},
   "outputs": [],
   "source": [
    "await mtcs.set_state(salobj.State.ENABLED, components=[\"mtptg\"])"
   ]
  },
  {
   "cell_type": "code",
   "execution_count": null,
   "id": "c76f2ab5",
   "metadata": {},
   "outputs": [],
   "source": [
    "await mtcs.slew_object(target, rot_type=RotType.PhysicalSky, rot=1.5)"
   ]
  },
  {
   "cell_type": "code",
   "execution_count": null,
   "id": "fdf70b50",
   "metadata": {},
   "outputs": [],
   "source": [
    "await comcam.take_object(15)"
   ]
  },
  {
   "cell_type": "code",
   "execution_count": null,
   "id": "65357c61",
   "metadata": {},
   "outputs": [],
   "source": [
    "await mtcs.stop_tracking()"
   ]
  },
  {
   "cell_type": "code",
   "execution_count": null,
   "id": "18fcd331",
   "metadata": {},
   "outputs": [],
   "source": [
    "await comcam.standby()"
   ]
  }
 ],
 "metadata": {
  "kernelspec": {
   "display_name": "LSST",
   "language": "python",
   "name": "lsst"
  },
  "language_info": {
   "codemirror_mode": {
    "name": "ipython",
    "version": 3
   },
   "file_extension": ".py",
   "mimetype": "text/x-python",
   "name": "python",
   "nbconvert_exporter": "python",
   "pygments_lexer": "ipython3",
   "version": "3.8.8"
  },
  "toc-autonumbering": false
 },
 "nbformat": 4,
 "nbformat_minor": 5
}
