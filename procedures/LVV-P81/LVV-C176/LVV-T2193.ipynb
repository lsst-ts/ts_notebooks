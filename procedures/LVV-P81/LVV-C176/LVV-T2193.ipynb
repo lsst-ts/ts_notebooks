{
 "cells": [
  {
   "cell_type": "markdown",
   "id": "9910e7a5",
   "metadata": {},
   "source": [
    "# Description #\n",
    "\n",
    "This notebook is used for the level 3 integration tests from test plan LVV-P81 (https://jira.lsstcorp.org/secure/Tests.jspa#/testPlan/LVV-P81) as part of test cylce LVV-C176 (https://jira.lsstcorp.org/secure/Tests.jspa#/testCycle/LVV-C176). The following tests are currently run as part of this notebook:\n",
    "\n",
    " - LVV-T2193 (https://jira.lsstcorp.org/secure/Tests.jspa#/testCase/LVV-T2193)\n",
    " \n",
    "Upon completion, save the notebook and its output as a pdf file to be attached to the test execution in JIRA. \n",
    "\n",
    "Last executed by E. Dennihy 20210928"
   ]
  },
  {
   "cell_type": "markdown",
   "id": "76c42f02",
   "metadata": {},
   "source": [
    "## Steps 1-2 ##\n",
    "​\n",
    "This is a generic notebook setup step, it can be considered as part of execution steps 1+2."
   ]
  },
  {
   "cell_type": "code",
   "execution_count": null,
   "id": "24e68c86",
   "metadata": {},
   "outputs": [],
   "source": [
    "%load_ext autoreload\n",
    "%autoreload 2"
   ]
  },
  {
   "cell_type": "code",
   "execution_count": null,
   "id": "07415265",
   "metadata": {},
   "outputs": [],
   "source": [
    "import rubin_jupyter_utils.lab.notebook as nb\n",
    "nb.utils.get_node()"
   ]
  },
  {
   "cell_type": "code",
   "execution_count": null,
   "id": "6209acba",
   "metadata": {},
   "outputs": [],
   "source": [
    "import os\n",
    "import sys\n",
    "import asyncio\n",
    "import logging\n",
    "\n",
    "import pandas as pd\n",
    "import numpy as np\n",
    "\n",
    "from matplotlib import pyplot as plt\n",
    "\n",
    "from lsst.ts import salobj\n",
    "from lsst.ts.observatory.control.maintel import MTCS, ComCam\n",
    "from lsst.ts.observatory.control import RotType"
   ]
  },
  {
   "cell_type": "code",
   "execution_count": null,
   "id": "78cb8a98",
   "metadata": {},
   "outputs": [],
   "source": [
    "logging.basicConfig(format=\"%(name)s:%(message)s\", level=logging.DEBUG)"
   ]
  },
  {
   "cell_type": "code",
   "execution_count": null,
   "id": "bc377fca",
   "metadata": {},
   "outputs": [],
   "source": [
    "log = logging.getLogger(\"setup\")\n",
    "log.level = logging.DEBUG"
   ]
  },
  {
   "cell_type": "code",
   "execution_count": null,
   "id": "4b861f1c",
   "metadata": {},
   "outputs": [],
   "source": [
    "domain = salobj.Domain()"
   ]
  },
  {
   "cell_type": "code",
   "execution_count": null,
   "id": "cd3a4679",
   "metadata": {},
   "outputs": [],
   "source": [
    "mtcs = MTCS(domain=domain, log=log)\n",
    "mtcs.set_rem_loglevel(40)"
   ]
  },
  {
   "cell_type": "code",
   "execution_count": null,
   "id": "ed0a1242",
   "metadata": {},
   "outputs": [],
   "source": [
    "await mtcs.start_task"
   ]
  },
  {
   "cell_type": "markdown",
   "id": "a782889a",
   "metadata": {},
   "source": [
    "## Steps 3-6 ##\n",
    "\n",
    "Steps 3-6 are not currently run as part of this notebook. \n",
    "\n",
    "To-do: add commands necessary for steps 3-6 to notebook"
   ]
  },
  {
   "cell_type": "markdown",
   "id": "23f19f84",
   "metadata": {},
   "source": [
    "## Step 7 ##\n",
    "\n",
    "clear all corrections using `cmd_resetCorrection`"
   ]
  },
  {
   "cell_type": "code",
   "execution_count": null,
   "id": "65e3c437",
   "metadata": {},
   "outputs": [],
   "source": [
    "await mtcs.rem.mtaos.cmd_resetCorrection.start()"
   ]
  },
  {
   "cell_type": "markdown",
   "id": "ba55d8dc",
   "metadata": {},
   "source": [
    "## Step 8 ##\n",
    "\n",
    "Add 1um of z7 to the system via OFC, issue the corrections.\n",
    "\n",
    "Compare the corrections sent vs forces and position changes applied. This is currently done in a separate notebook or on Chronograf. "
   ]
  },
  {
   "cell_type": "code",
   "execution_count": null,
   "id": "4db36ff0",
   "metadata": {},
   "outputs": [],
   "source": [
    "wavefront_errors = np.zeros(19)"
   ]
  },
  {
   "cell_type": "code",
   "execution_count": null,
   "id": "14cbabc6",
   "metadata": {},
   "outputs": [],
   "source": [
    "wavefront_errors[3]=1.0"
   ]
  },
  {
   "cell_type": "code",
   "execution_count": null,
   "id": "f9c20683",
   "metadata": {},
   "outputs": [],
   "source": [
    "await mtcs.rem.mtaos.cmd_addAberration.set_start(wf=wavefront_errors, timeout=10)"
   ]
  },
  {
   "cell_type": "code",
   "execution_count": null,
   "id": "5e1384c7",
   "metadata": {},
   "outputs": [],
   "source": [
    "await mtcs.rem.mtaos.cmd_issueCorrection.start(timeout=60.)"
   ]
  },
  {
   "cell_type": "markdown",
   "id": "797679f5",
   "metadata": {},
   "source": [
    "## Step 9 ##\n",
    "\n",
    "Make plots using telemetry from each component to verify the changes in the DOFs. This step does not currently involve running any commands in this notebook. This step must be verified using a separate noteboook. "
   ]
  },
  {
   "cell_type": "markdown",
   "id": "d41e1a24",
   "metadata": {},
   "source": [
    "## Step 10 ##\n",
    "\n",
    "Put M2 hexapod in DISABLED state (so that we can test command rejection)."
   ]
  },
  {
   "cell_type": "code",
   "execution_count": null,
   "id": "43782b6e",
   "metadata": {},
   "outputs": [],
   "source": [
    "await mtcs.set_state(salobj.State.DISABLED, components=[\"mthexapod_2\"])"
   ]
  },
  {
   "cell_type": "markdown",
   "id": "a771789b",
   "metadata": {},
   "source": [
    "## Step 11 ##\n",
    "\n",
    "Add 1um of z7 to the system via OFC. Expect m2 hexapod corrections are rejected, and all other corrections applied, then undone."
   ]
  },
  {
   "cell_type": "code",
   "execution_count": null,
   "id": "32a2941b",
   "metadata": {},
   "outputs": [],
   "source": [
    "await mtcs.rem.mtaos.cmd_addAberration.set_start(wf=wavefront_errors, timeout=10)"
   ]
  },
  {
   "cell_type": "code",
   "execution_count": null,
   "id": "a3a9dcac",
   "metadata": {},
   "outputs": [],
   "source": [
    "await mtcs.rem.mtaos.cmd_issueCorrection.start(timeout=60.)"
   ]
  },
  {
   "cell_type": "markdown",
   "id": "a31e02c8",
   "metadata": {},
   "source": [
    "## Step 12 ##\n",
    "\n",
    "Re-enable M2 hexapod\n",
    "Make it ready for AOS"
   ]
  },
  {
   "cell_type": "code",
   "execution_count": null,
   "id": "c76afe5f",
   "metadata": {},
   "outputs": [],
   "source": [
    "await mtcs.set_state(salobj.State.ENABLED, components=[\"mthexapod_2\"])"
   ]
  },
  {
   "cell_type": "markdown",
   "id": "270e7373",
   "metadata": {},
   "source": [
    "## Step 13 ##\n",
    "\n",
    "Re-issue the correction."
   ]
  },
  {
   "cell_type": "code",
   "execution_count": null,
   "id": "912c8173",
   "metadata": {},
   "outputs": [],
   "source": [
    "await mtcs.rem.mtaos.cmd_issueCorrection.start(timeout=60.)"
   ]
  },
  {
   "cell_type": "code",
   "execution_count": null,
   "id": "2cf9f96b",
   "metadata": {},
   "outputs": [],
   "source": [
    "await mtcs.rem.mtaos.cmd_addAberration.set_start(wf=wavefront_errors, timeout=10)"
   ]
  },
  {
   "cell_type": "code",
   "execution_count": null,
   "id": "db309d2f",
   "metadata": {},
   "outputs": [],
   "source": [
    "await mtcs.rem.mtaos.cmd_issueCorrection.start(timeout=60.)"
   ]
  },
  {
   "cell_type": "markdown",
   "id": "e593b8f3",
   "metadata": {},
   "source": [
    "## Step 14 ##\n",
    "\n",
    "Reject the latest corrections."
   ]
  },
  {
   "cell_type": "code",
   "execution_count": null,
   "id": "db7972e8",
   "metadata": {},
   "outputs": [],
   "source": [
    "await mtcs.rem.mtaos.cmd_rejectCorrection.start()"
   ]
  },
  {
   "cell_type": "markdown",
   "id": "1401b633",
   "metadata": {},
   "source": [
    "## Step 15 ##\n",
    "\n",
    "Add 2um of z7 via OFC"
   ]
  },
  {
   "cell_type": "code",
   "execution_count": null,
   "id": "e9ad7604",
   "metadata": {},
   "outputs": [],
   "source": [
    "await mtcs.rem.mtaos.cmd_issueCorrection.start(timeout=60.)"
   ]
  },
  {
   "cell_type": "code",
   "execution_count": null,
   "id": "cdd2355a",
   "metadata": {},
   "outputs": [],
   "source": [
    "wavefront_errors[3] = 2.0"
   ]
  },
  {
   "cell_type": "code",
   "execution_count": null,
   "id": "7c1caef5",
   "metadata": {},
   "outputs": [],
   "source": [
    "wavefront_errors"
   ]
  },
  {
   "cell_type": "code",
   "execution_count": null,
   "id": "4087e618",
   "metadata": {},
   "outputs": [],
   "source": [
    "await mtcs.rem.mtaos.cmd_addAberration.set_start(wf=wavefront_errors, timeout=10)"
   ]
  },
  {
   "cell_type": "code",
   "execution_count": null,
   "id": "3c9543a8",
   "metadata": {},
   "outputs": [],
   "source": [
    "await mtcs.rem.mtaos.cmd_issueCorrection.start(timeout=60.)"
   ]
  },
  {
   "cell_type": "markdown",
   "id": "956f895f",
   "metadata": {},
   "source": [
    "## Step 16 ##\n",
    "\n",
    "Wrap up. Put each component to the following states:\n",
    "mtaos --> standby\n",
    "m1m3 --> standby\n",
    "m2 --> standby\n",
    "camera hex --> standby\n",
    "m2 hex --> standby"
   ]
  },
  {
   "cell_type": "code",
   "execution_count": null,
   "id": "e96f36e8",
   "metadata": {},
   "outputs": [],
   "source": [
    "await mtcs.set_state(salobj.State.STANDBY, components=[\"mtaos\"])"
   ]
  },
  {
   "cell_type": "code",
   "execution_count": null,
   "id": "e65d4762",
   "metadata": {},
   "outputs": [],
   "source": [
    "await mtcs.lower_m1m3()"
   ]
  },
  {
   "cell_type": "code",
   "execution_count": null,
   "id": "93ac3904",
   "metadata": {},
   "outputs": [],
   "source": [
    "await mtcs.set_state(salobj.State.STANDBY, components=[\"mtm1m3\"])"
   ]
  },
  {
   "cell_type": "code",
   "execution_count": null,
   "id": "16eaecfd",
   "metadata": {},
   "outputs": [],
   "source": [
    "await mtcs.set_state(salobj.State.STANDBY, components=[\"mtm2\"])"
   ]
  },
  {
   "cell_type": "code",
   "execution_count": null,
   "id": "a0d64ce5",
   "metadata": {},
   "outputs": [],
   "source": [
    "await mtcs.set_state(salobj.State.STANDBY, components=[\"mthexapod_1\"])"
   ]
  },
  {
   "cell_type": "code",
   "execution_count": null,
   "id": "1494ebb7",
   "metadata": {},
   "outputs": [],
   "source": [
    "await mtcs.set_state(salobj.State.STANDBY, components=[\"mthexapod_2\"])"
   ]
  },
  {
   "cell_type": "code",
   "execution_count": null,
   "id": "d5dfa6d6",
   "metadata": {},
   "outputs": [],
   "source": [
    "await mtcs.standby()"
   ]
  }
 ],
 "metadata": {
  "kernelspec": {
   "display_name": "LSST",
   "language": "python",
   "name": "lsst"
  },
  "language_info": {
   "codemirror_mode": {
    "name": "ipython",
    "version": 3
   },
   "file_extension": ".py",
   "mimetype": "text/x-python",
   "name": "python",
   "nbconvert_exporter": "python",
   "pygments_lexer": "ipython3",
   "version": "3.8.8"
  },
  "toc-autonumbering": false
 },
 "nbformat": 4,
 "nbformat_minor": 5
}
