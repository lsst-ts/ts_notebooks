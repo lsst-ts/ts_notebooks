{
 "cells": [
  {
   "cell_type": "code",
   "execution_count": null,
   "metadata": {},
   "outputs": [],
   "source": [
    "from lsst.ts import salobj\n",
    "from lsst.ts.idl.enums import MTMount\n",
    "import logging\n",
    "import asyncio\n",
    "import os\n",
    "import yaml\n",
    "\n",
    "import numpy as np\n",
    "from matplotlib import pyplot as plt\n",
    "from astropy.time import Time\n",
    "from datetime import datetime, timedelta\n",
    "import pandas as pd\n",
    "import astropy.units as u\n",
    "\n",
    "from lsst_efd_client import EfdClient"
   ]
  },
  {
   "cell_type": "markdown",
   "metadata": {},
   "source": [
    "# Before the tests:"
   ]
  },
  {
   "cell_type": "code",
   "execution_count": null,
   "metadata": {},
   "outputs": [],
   "source": [
    "script = salobj.Controller(\"Script\", index=42658885)"
   ]
  },
  {
   "cell_type": "code",
   "execution_count": null,
   "metadata": {},
   "outputs": [],
   "source": [
    "mtm_sim = salobj.Remote(script.domain, \"MTMount\")\n",
    "await mtm_sim.start_task"
   ]
  },
  {
   "cell_type": "code",
   "execution_count": null,
   "metadata": {},
   "outputs": [],
   "source": [
    "# this is to ensure that MTMount is connected and telemetry is send\n",
    "mtm_sim_connected = await mtm_sim.evt_connected.aget(timeout=10.) # This is how you get an event/telemetry with await remote.type_name.aget() type being [evt,tel] and name being the name of the topic\n",
    "mtm_commandable = mtm_sim_connected.command\n",
    "\n",
    "if not mtm_sim_connected: #or not mtm_sim_telemetry_working:\n",
    "    raise Exception(\"Mount not connected\") #or telemetry not being received."
   ]
  },
  {
   "cell_type": "code",
   "execution_count": null,
   "metadata": {},
   "outputs": [],
   "source": [
    "#This is to check what the controller state is:\n",
    "controller_state = await mtm_sim.evt_summaryState.aget(timeout=10.)\n",
    "state = controller_state.summaryState\n",
    "print(state)"
   ]
  },
  {
   "cell_type": "code",
   "execution_count": null,
   "metadata": {},
   "outputs": [],
   "source": [
    "#Print the available MTMount events, telemetry and commands\n",
    "print(\"Telemery:\", mtm_sim.salinfo.telemetry_names)\n",
    "print(\"Events:\",mtm_sim.salinfo.event_names)\n",
    "print(\"Commands:\",mtm_sim.salinfo.command_names)"
   ]
  },
  {
   "cell_type": "code",
   "execution_count": null,
   "metadata": {},
   "outputs": [],
   "source": [
    "#Send the MTMount simulator component into STANDBY\n",
    "await salobj.set_summary_state(mtm_sim, salobj.State.STANDBY)"
   ]
  },
  {
   "cell_type": "code",
   "execution_count": null,
   "metadata": {},
   "outputs": [],
   "source": [
    "#Check if MTMount telemetry is getting into the EFD\n",
    "#Add telemetry as needed\n",
    "#For the \"setCompensateMode\" of the Hexapods the \"elevation\" of the telescope is needed\n",
    "mtm_sim_Elevation_post_stop_1= await mtm_sim.tel_elevation.aget(timeout=10.)\n",
    "print(\"Simulated mount elevation\", mtm_sim_Elevation_post_stop_1.angleActual)\n",
    "print(\"Simulated mount elevation\", mtm_sim_Elevation_post_stop_1.timestamp)\n",
    "await asyncio.sleep(10)"
   ]
  },
  {
   "cell_type": "code",
   "execution_count": null,
   "metadata": {},
   "outputs": [],
   "source": [
    "#Get timestamp from last elevation telemetry \n",
    "mtm_sim_Elevation_post_stop_2= await mtm_sim.tel_elevation.aget(timeout=10.)\n",
    "print(\"Simulated mount elevation\", mtm_sim_Elevation_post_stop_2.timestamp)"
   ]
  },
  {
   "cell_type": "code",
   "execution_count": null,
   "metadata": {},
   "outputs": [],
   "source": [
    "#Check if the input to the EFD has stopped\n",
    "diff_time = mtm_sim_Elevation_post_stop_1.timestamp - mtm_sim_Elevation_post_stop_2.timestamp\n",
    "print (diff_time)\n",
    "\n",
    "if (mtm_sim_Elevation_post_stop_1.timestamp - mtm_sim_Elevation_post_stop_2.timestamp==0):\n",
    "    print(\"Mount has stopped sending telemetry\")\n",
    "else:\n",
    "    raise Exception(\"Mount is still sending telemetry!\")"
   ]
  },
  {
   "cell_type": "code",
   "execution_count": null,
   "metadata": {},
   "outputs": [],
   "source": [
    "#Stop the script controller\n",
    "await script.close()"
   ]
  },
  {
   "cell_type": "code",
   "execution_count": null,
   "metadata": {},
   "outputs": [],
   "source": [
    "#Start the MTMount controller\n",
    "mtm_control = salobj.Controller(name=\"MTMount\", index=0)\n",
    "await mtm_control.start_task"
   ]
  },
  {
   "cell_type": "code",
   "execution_count": null,
   "metadata": {},
   "outputs": [],
   "source": [
    "#To check if the input to the EFD has started prepare the EFD readout\n",
    "#may need to wait a few seconds before event shows up in EFD\n",
    "client = EfdClient('ncsa_teststand_efd')\n",
    "#client = EfdClient('summit_efd')"
   ]
  },
  {
   "cell_type": "code",
   "execution_count": null,
   "metadata": {},
   "outputs": [],
   "source": [
    "#Send a test command \n",
    "mtm_control.evt_target.set_put(elevation=45)"
   ]
  },
  {
   "cell_type": "code",
   "execution_count": null,
   "metadata": {},
   "outputs": [],
   "source": [
    "#Read from the EFD\n",
    "end = Time(datetime.now())\n",
    "start = end - timedelta(hours=3)\n",
    "logeventTarget = await client.select_time_series('lsst.sal.MTMount.logevent_target', '*', start.tai, end.tai)\n",
    "print(\"Mount controller elevation from the EFD:\")\n",
    "logeventTarget.elevation"
   ]
  },
  {
   "cell_type": "markdown",
   "metadata": {},
   "source": [
    "# Set the MTMount Controller to the needed values and exectute the tests from another note:"
   ]
  },
  {
   "cell_type": "code",
   "execution_count": null,
   "metadata": {},
   "outputs": [],
   "source": [
    "# Set the elevation angle. Do this for every desired elevation angle.\n",
    "mtm_control.evt_target.set_put(elevation=45)"
   ]
  },
  {
   "cell_type": "markdown",
   "metadata": {},
   "source": [
    "# After the tests:"
   ]
  },
  {
   "cell_type": "code",
   "execution_count": null,
   "metadata": {},
   "outputs": [],
   "source": [
    "#Stop the MTMount controller\n",
    "await mtm_control.close()"
   ]
  },
  {
   "cell_type": "code",
   "execution_count": null,
   "metadata": {},
   "outputs": [],
   "source": [
    "#Send a test command \n",
    "mtm_control.evt_target.set_put(elevation=35)"
   ]
  },
  {
   "cell_type": "code",
   "execution_count": null,
   "metadata": {},
   "outputs": [],
   "source": [
    "#Check that no more telemetry from the MTMount controller is going into the EFD\n",
    "logeventTarget = await client.select_time_series('lsst.sal.MTMount.logevent_target', '*', start.tai, end.tai)\n",
    "print(\"Mount controller elevation from the EFD:\")\n",
    "logeventTarget.elevation"
   ]
  },
  {
   "cell_type": "code",
   "execution_count": null,
   "metadata": {},
   "outputs": [],
   "source": [
    "#Start the script controller\n",
    "script = salobj.Controller(\"Script\", index=42658885)\n",
    "mtm_sim = salobj.Remote(script.domain, \"MTMount\")"
   ]
  },
  {
   "cell_type": "code",
   "execution_count": null,
   "metadata": {},
   "outputs": [],
   "source": [
    "#Start the mount Simluator controller\n",
    "await mtm_sim.start_task"
   ]
  },
  {
   "cell_type": "code",
   "execution_count": null,
   "metadata": {},
   "outputs": [],
   "source": [
    "#Send the MTMount simulator component into ENABLE again\n",
    "await salobj.set_summary_state(mtm_sim, salobj.State.ENABLED)"
   ]
  },
  {
   "cell_type": "code",
   "execution_count": null,
   "metadata": {},
   "outputs": [],
   "source": [
    "#Check that the EFD is getting MTMount siumlator telemetry again\n",
    "#Add telemetry as needed\n",
    "#For the \"setCompensateMode\" of the Hexapods the \"elevation\" of the telescope is needed\n",
    "mtm_sim_Elevation_post_stop_1= await mtm_sim.tel_elevation.aget(timeout=10.)\n",
    "print(\"Simulated mount elevation\", mtm_sim_Elevation_post_stop_1.angleActual)\n",
    "print(\"Simulated mount elevation\", mtm_sim_Elevation_post_stop_1.timestamp)\n",
    "await asyncio.sleep(10)"
   ]
  },
  {
   "cell_type": "code",
   "execution_count": null,
   "metadata": {},
   "outputs": [],
   "source": [
    "#Get timestamp from last elevation telemetry \n",
    "mtm_sim_Elevation_post_stop_2 = await mtm_sim.tel_elevation.aget(timeout=10.)\n",
    "print(\"Simulated mount elevation\", mtm_sim_Elevation_post_stop_2.timestamp)"
   ]
  },
  {
   "cell_type": "code",
   "execution_count": null,
   "metadata": {},
   "outputs": [],
   "source": [
    "#Check if the input to the EFD has stopped\n",
    "diff_time = mtm_sim_Elevation_post_stop_1.timestamp - mtm_sim_Elevation_post_stop_2.timestamp\n",
    "print (diff_time)\n",
    "\n",
    "if (mtm_sim_Elevation_post_stop_1.timestamp - mtm_sim_Elevation_post_stop_2.timestamp != 0):\n",
    "    print(\"Mount is receiving telemetry again\")\n",
    "else:\n",
    "    raise Exception(\"Mount is still does not receive telemetry!\")"
   ]
  }
 ],
 "metadata": {
  "kernelspec": {
   "display_name": "LSST",
   "language": "python",
   "name": "lsst"
  },
  "language_info": {
   "codemirror_mode": {
    "name": "ipython",
    "version": 3
   },
   "file_extension": ".py",
   "mimetype": "text/x-python",
   "name": "python",
   "nbconvert_exporter": "python",
   "pygments_lexer": "ipython3",
   "version": "3.8.8"
  }
 },
 "nbformat": 4,
 "nbformat_minor": 4
}
