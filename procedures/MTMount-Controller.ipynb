{
 "cells": [
  {
   "cell_type": "code",
   "execution_count": 1,
   "metadata": {},
   "outputs": [
    {
     "name": "stderr",
     "output_type": "stream",
     "text": [
      "/opt/lsst/software/stack/conda/miniconda3-py38_4.9.2/envs/lsst-scipipe-0.4.1/lib/python3.8/site-packages/jose/backends/cryptography_backend.py:23: CryptographyDeprecationWarning: int_from_bytes is deprecated, use int.from_bytes instead\n",
      "  from cryptography.utils import int_from_bytes, int_to_bytes\n"
     ]
    }
   ],
   "source": [
    "from lsst.ts import salobj\n",
    "from lsst.ts.idl.enums import MTMount\n",
    "import logging\n",
    "import asyncio\n",
    "import os\n",
    "import yaml\n",
    "\n",
    "import numpy as np\n",
    "from matplotlib import pyplot as plt\n",
    "from astropy.time import Time\n",
    "from datetime import datetime, timedelta\n",
    "import pandas as pd\n",
    "import astropy.units as u\n",
    "\n",
    "from lsst_efd_client import EfdClient"
   ]
  },
  {
   "cell_type": "markdown",
   "metadata": {},
   "source": [
    "# Before the tests:"
   ]
  },
  {
   "cell_type": "code",
   "execution_count": 2,
   "metadata": {},
   "outputs": [],
   "source": [
    "script = salobj.Controller(\"Script\", index=42658885)"
   ]
  },
  {
   "cell_type": "code",
   "execution_count": 3,
   "metadata": {},
   "outputs": [],
   "source": [
    "mtm_sim = salobj.Remote(script.domain, \"MTMount\")\n",
    "await mtm_sim.start_task"
   ]
  },
  {
   "cell_type": "code",
   "execution_count": 4,
   "metadata": {},
   "outputs": [],
   "source": [
    "# this is to ensure that MTMount is connected and telemetry is send\n",
    "mtm_sim_connected = await mtm_sim.evt_connected.aget(timeout=10.) # This is how you get an event/telemetry with await remote.type_name.aget() type being [evt,tel] and name being the name of the topic\n",
    "mtm_commandable = mtm_sim_connected.command\n",
    "\n",
    "if not mtm_sim_connected: #or not mtm_sim_telemetry_working:\n",
    "    raise Exception(\"Mount not connected\") #or telemetry not being received."
   ]
  },
  {
   "cell_type": "code",
   "execution_count": 5,
   "metadata": {},
   "outputs": [
    {
     "name": "stdout",
     "output_type": "stream",
     "text": [
      "2\n"
     ]
    }
   ],
   "source": [
    "#This is to check what the controller state is:\n",
    "controller_state = await mtm_sim.evt_summaryState.aget(timeout=10.)\n",
    "state = controller_state.summaryState\n",
    "print(state)"
   ]
  },
  {
   "cell_type": "code",
   "execution_count": 40,
   "metadata": {},
   "outputs": [
    {
     "name": "stdout",
     "output_type": "stream",
     "text": [
      "Telemery: ('azimuth', 'azimuthDrives', 'cameraCableWrap', 'elevation', 'elevationDrives')\n",
      "Events: ('appliedSettingsMatchStart', 'authList', 'axesInPosition', 'axesState', 'cameraCableWrapState', 'connected', 'error', 'errorCode', 'heartbeat', 'logLevel', 'logMessage', 'settingVersions', 'settingsApplied', 'simulationMode', 'softwareVersions', 'summaryState', 'target', 'warning')\n",
      "Commands: ('abort', 'clearError', 'closeMirrorCovers', 'disable', 'disableCameraCableWrapTracking', 'enable', 'enableCameraCableWrapTracking', 'enterControl', 'exitControl', 'moveToTarget', 'openMirrorCovers', 'setAuthList', 'setLogLevel', 'setValue', 'standby', 'start', 'startTracking', 'stop', 'stopTracking', 'trackTarget')\n"
     ]
    }
   ],
   "source": [
    "#Print the available MTMount events, telemetry and commands\n",
    "print(\"Telemery:\", mtm_sim.salinfo.telemetry_names)\n",
    "print(\"Events:\",mtm_sim.salinfo.event_names)\n",
    "print(\"Commands:\",mtm_sim.salinfo.command_names)"
   ]
  },
  {
   "cell_type": "code",
   "execution_count": 7,
   "metadata": {},
   "outputs": [
    {
     "data": {
      "text/plain": [
       "[<State.ENABLED: 2>, <State.DISABLED: 1>, <State.STANDBY: 5>]"
      ]
     },
     "execution_count": 7,
     "metadata": {},
     "output_type": "execute_result"
    }
   ],
   "source": [
    "#Send the MTMount simulator component into STANDBY\n",
    "await salobj.set_summary_state(mtm_sim, salobj.State.STANDBY)"
   ]
  },
  {
   "cell_type": "code",
   "execution_count": 8,
   "metadata": {},
   "outputs": [
    {
     "name": "stdout",
     "output_type": "stream",
     "text": [
      "Simulated mount elevation 20.2\n",
      "Simulated mount elevation 1614872145.3010461\n"
     ]
    }
   ],
   "source": [
    "#Check if MTMount telemetry is getting into the EFD\n",
    "#Add telemetry as needed\n",
    "#For the \"setCompensateMode\" of the Hexapods the \"elevation\" of the telescope is needed\n",
    "mtm_sim_Elevation_post_stop_1= await mtm_sim.tel_elevation.aget(timeout=10.)\n",
    "print(\"Simulated mount elevation\", mtm_sim_Elevation_post_stop_1.angleActual)\n",
    "print(\"Simulated mount elevation\", mtm_sim_Elevation_post_stop_1.timestamp)\n",
    "await asyncio.sleep(10)"
   ]
  },
  {
   "cell_type": "code",
   "execution_count": 9,
   "metadata": {},
   "outputs": [
    {
     "name": "stdout",
     "output_type": "stream",
     "text": [
      "Simulated mount elevation 1614872145.3010461\n"
     ]
    }
   ],
   "source": [
    "#Get timestamp from last elevation telemetry \n",
    "mtm_sim_Elevation_post_stop_2= await mtm_sim.tel_elevation.aget(timeout=10.)\n",
    "print(\"Simulated mount elevation\", mtm_sim_Elevation_post_stop_2.timestamp)"
   ]
  },
  {
   "cell_type": "code",
   "execution_count": 10,
   "metadata": {},
   "outputs": [
    {
     "name": "stdout",
     "output_type": "stream",
     "text": [
      "0.0\n",
      "Mount has stopped sending telemetry\n"
     ]
    }
   ],
   "source": [
    "#Check if the input to the EFD has stopped\n",
    "diff_time = mtm_sim_Elevation_post_stop_1.timestamp - mtm_sim_Elevation_post_stop_2.timestamp\n",
    "print (diff_time)\n",
    "\n",
    "if (mtm_sim_Elevation_post_stop_1.timestamp - mtm_sim_Elevation_post_stop_2.timestamp==0):\n",
    "    print(\"Mount has stopped sending telemetry\")\n",
    "else:\n",
    "    raise Exception(\"Mount is still sending telemetry!\")"
   ]
  },
  {
   "cell_type": "code",
   "execution_count": 11,
   "metadata": {},
   "outputs": [],
   "source": [
    "#Stop the script controller\n",
    "await script.close()"
   ]
  },
  {
   "cell_type": "code",
   "execution_count": 12,
   "metadata": {},
   "outputs": [],
   "source": [
    "#Start the MTMount controller\n",
    "mtm_control = salobj.Controller(name=\"MTMount\", index=0)\n",
    "await mtm_control.start_task"
   ]
  },
  {
   "cell_type": "code",
   "execution_count": 13,
   "metadata": {},
   "outputs": [],
   "source": [
    "#To check if the input to the EFD has started prepare the EFD readout\n",
    "#may need to wait a few seconds before event shows up in EFD\n",
    "client = EfdClient('ncsa_teststand_efd')\n",
    "#client = EfdClient('summit_efd')"
   ]
  },
  {
   "cell_type": "code",
   "execution_count": 14,
   "metadata": {},
   "outputs": [
    {
     "data": {
      "text/plain": [
       "True"
      ]
     },
     "execution_count": 14,
     "metadata": {},
     "output_type": "execute_result"
    }
   ],
   "source": [
    "#Send a test command \n",
    "mtm_control.evt_target.set_put(elevation=45)"
   ]
  },
  {
   "cell_type": "code",
   "execution_count": 21,
   "metadata": {},
   "outputs": [
    {
     "name": "stdout",
     "output_type": "stream",
     "text": [
      "Mount controller elevation from the EFD:\n"
     ]
    },
    {
     "data": {
      "text/plain": [
       "2021-03-04 13:51:21.667000+00:00    45\n",
       "2021-03-04 14:04:16.470000+00:00    45\n",
       "2021-03-04 15:36:13.892000+00:00    45\n",
       "2021-03-04 15:36:46.124000+00:00    40\n",
       "Name: elevation, dtype: int64"
      ]
     },
     "execution_count": 21,
     "metadata": {},
     "output_type": "execute_result"
    }
   ],
   "source": [
    "#Read from the EFD\n",
    "end = Time(datetime.now())\n",
    "start = end - timedelta(hours=3)\n",
    "logeventTarget = await client.select_time_series('lsst.sal.MTMount.logevent_target', '*', start.tai, end.tai)\n",
    "print(\"Mount controller elevation from the EFD:\")\n",
    "logeventTarget.elevation"
   ]
  },
  {
   "cell_type": "markdown",
   "metadata": {},
   "source": [
    "# Set the MTMount Controller to the needed values and exectute the tests from another note:"
   ]
  },
  {
   "cell_type": "code",
   "execution_count": 22,
   "metadata": {},
   "outputs": [
    {
     "data": {
      "text/plain": [
       "True"
      ]
     },
     "execution_count": 22,
     "metadata": {},
     "output_type": "execute_result"
    }
   ],
   "source": [
    "# Set the elevation angle. Do this for every desired elevation angle.\n",
    "mtm_control.evt_target.set_put(elevation=45)"
   ]
  },
  {
   "cell_type": "markdown",
   "metadata": {},
   "source": [
    "# After the tests:"
   ]
  },
  {
   "cell_type": "code",
   "execution_count": 23,
   "metadata": {},
   "outputs": [],
   "source": [
    "#Stop the MTMount controller\n",
    "await mtm_control.close()"
   ]
  },
  {
   "cell_type": "code",
   "execution_count": 25,
   "metadata": {},
   "outputs": [
    {
     "ename": "DDSException",
     "evalue": "Entity is already closed",
     "output_type": "error",
     "traceback": [
      "\u001b[0;31m---------------------------------------------------------------------------\u001b[0m",
      "\u001b[0;31mDDSException\u001b[0m                              Traceback (most recent call last)",
      "\u001b[0;32m<ipython-input-25-9a51b8a5147d>\u001b[0m in \u001b[0;36m<module>\u001b[0;34m\u001b[0m\n\u001b[1;32m      1\u001b[0m \u001b[0;31m#Send a test command\u001b[0m\u001b[0;34m\u001b[0m\u001b[0;34m\u001b[0m\u001b[0;34m\u001b[0m\u001b[0m\n\u001b[0;32m----> 2\u001b[0;31m \u001b[0mmtm_control\u001b[0m\u001b[0;34m.\u001b[0m\u001b[0mevt_target\u001b[0m\u001b[0;34m.\u001b[0m\u001b[0mset_put\u001b[0m\u001b[0;34m(\u001b[0m\u001b[0melevation\u001b[0m\u001b[0;34m=\u001b[0m\u001b[0;36m35\u001b[0m\u001b[0;34m)\u001b[0m\u001b[0;34m\u001b[0m\u001b[0;34m\u001b[0m\u001b[0m\n\u001b[0m",
      "\u001b[0;32m/opt/lsst/src/ts_salobj/python/lsst/ts/salobj/topics/controller_event.py\u001b[0m in \u001b[0;36mset_put\u001b[0;34m(self, force_output, **kwargs)\u001b[0m\n\u001b[1;32m     70\u001b[0m         \u001b[0mdo_output\u001b[0m \u001b[0;34m=\u001b[0m \u001b[0mdid_change\u001b[0m \u001b[0;32mor\u001b[0m \u001b[0mforce_output\u001b[0m\u001b[0;34m\u001b[0m\u001b[0;34m\u001b[0m\u001b[0m\n\u001b[1;32m     71\u001b[0m         \u001b[0;32mif\u001b[0m \u001b[0mdo_output\u001b[0m\u001b[0;34m:\u001b[0m\u001b[0;34m\u001b[0m\u001b[0;34m\u001b[0m\u001b[0m\n\u001b[0;32m---> 72\u001b[0;31m             \u001b[0mself\u001b[0m\u001b[0;34m.\u001b[0m\u001b[0mput\u001b[0m\u001b[0;34m(\u001b[0m\u001b[0mself\u001b[0m\u001b[0;34m.\u001b[0m\u001b[0mdata\u001b[0m\u001b[0;34m)\u001b[0m\u001b[0;34m\u001b[0m\u001b[0;34m\u001b[0m\u001b[0m\n\u001b[0m\u001b[1;32m     73\u001b[0m         \u001b[0;32mreturn\u001b[0m \u001b[0mdo_output\u001b[0m\u001b[0;34m\u001b[0m\u001b[0;34m\u001b[0m\u001b[0m\n",
      "\u001b[0;32m/opt/lsst/src/ts_salobj/python/lsst/ts/salobj/topics/write_topic.py\u001b[0m in \u001b[0;36mput\u001b[0;34m(self, data, priority)\u001b[0m\n\u001b[1;32m    189\u001b[0m             \u001b[0msetattr\u001b[0m\u001b[0;34m(\u001b[0m\u001b[0mself\u001b[0m\u001b[0;34m.\u001b[0m\u001b[0mdata\u001b[0m\u001b[0;34m,\u001b[0m \u001b[0;34mf\"{self.salinfo.name}ID\"\u001b[0m\u001b[0;34m,\u001b[0m \u001b[0mself\u001b[0m\u001b[0;34m.\u001b[0m\u001b[0msalinfo\u001b[0m\u001b[0;34m.\u001b[0m\u001b[0mindex\u001b[0m\u001b[0;34m)\u001b[0m\u001b[0;34m\u001b[0m\u001b[0;34m\u001b[0m\u001b[0m\n\u001b[1;32m    190\u001b[0m         \u001b[0;32mtry\u001b[0m\u001b[0;34m:\u001b[0m\u001b[0;34m\u001b[0m\u001b[0;34m\u001b[0m\u001b[0m\n\u001b[0;32m--> 191\u001b[0;31m             \u001b[0mself\u001b[0m\u001b[0;34m.\u001b[0m\u001b[0m_writer\u001b[0m\u001b[0;34m.\u001b[0m\u001b[0mwrite\u001b[0m\u001b[0;34m(\u001b[0m\u001b[0mself\u001b[0m\u001b[0;34m.\u001b[0m\u001b[0mdata\u001b[0m\u001b[0;34m)\u001b[0m\u001b[0;34m\u001b[0m\u001b[0;34m\u001b[0m\u001b[0m\n\u001b[0m\u001b[1;32m    192\u001b[0m         \u001b[0;32mexcept\u001b[0m \u001b[0mstruct\u001b[0m\u001b[0;34m.\u001b[0m\u001b[0merror\u001b[0m \u001b[0;32mas\u001b[0m \u001b[0me\u001b[0m\u001b[0;34m:\u001b[0m\u001b[0;34m\u001b[0m\u001b[0;34m\u001b[0m\u001b[0m\n\u001b[1;32m    193\u001b[0m             raise ValueError(\n",
      "\u001b[0;32mdds.pyx\u001b[0m in \u001b[0;36mdds.DataWriter.write\u001b[0;34m()\u001b[0m\n",
      "\u001b[0;32mdds.pyx\u001b[0m in \u001b[0;36mdds.Entity._check_handle\u001b[0;34m()\u001b[0m\n",
      "\u001b[0;31mDDSException\u001b[0m: Entity is already closed"
     ]
    }
   ],
   "source": [
    "#Send a test command \n",
    "mtm_control.evt_target.set_put(elevation=35)"
   ]
  },
  {
   "cell_type": "code",
   "execution_count": 26,
   "metadata": {},
   "outputs": [
    {
     "name": "stdout",
     "output_type": "stream",
     "text": [
      "Mount controller elevation from the EFD:\n"
     ]
    },
    {
     "data": {
      "text/plain": [
       "2021-03-04 13:51:21.667000+00:00    45\n",
       "2021-03-04 14:04:16.470000+00:00    45\n",
       "2021-03-04 15:36:13.892000+00:00    45\n",
       "2021-03-04 15:36:46.124000+00:00    40\n",
       "Name: elevation, dtype: int64"
      ]
     },
     "execution_count": 26,
     "metadata": {},
     "output_type": "execute_result"
    }
   ],
   "source": [
    "#Check that no more telemetry from the MTMount controller is going into the EFD\n",
    "logeventTarget = await client.select_time_series('lsst.sal.MTMount.logevent_target', '*', start.tai, end.tai)\n",
    "print(\"Mount controller elevation from the EFD:\")\n",
    "logeventTarget.elevation"
   ]
  },
  {
   "cell_type": "code",
   "execution_count": 33,
   "metadata": {},
   "outputs": [],
   "source": [
    "#Start the script controller\n",
    "script = salobj.Controller(\"Script\", index=42658885)\n",
    "mtm_sim = salobj.Remote(script.domain, \"MTMount\")"
   ]
  },
  {
   "cell_type": "code",
   "execution_count": 34,
   "metadata": {},
   "outputs": [],
   "source": [
    "#Start the mount Simluator controller\n",
    "await mtm_sim.start_task"
   ]
  },
  {
   "cell_type": "code",
   "execution_count": 35,
   "metadata": {},
   "outputs": [
    {
     "data": {
      "text/plain": [
       "[<State.STANDBY: 5>, <State.DISABLED: 1>, <State.ENABLED: 2>]"
      ]
     },
     "execution_count": 35,
     "metadata": {},
     "output_type": "execute_result"
    }
   ],
   "source": [
    "#Send the MTMount simulator component into ENABLE again\n",
    "await salobj.set_summary_state(mtm_sim, salobj.State.ENABLED)"
   ]
  },
  {
   "cell_type": "code",
   "execution_count": 41,
   "metadata": {},
   "outputs": [
    {
     "name": "stdout",
     "output_type": "stream",
     "text": [
      "Simulated mount elevation 20.2\n",
      "Simulated mount elevation 1614872897.5458276\n"
     ]
    }
   ],
   "source": [
    "#Check that the EFD is getting MTMount siumlator telemetry again\n",
    "#Add telemetry as needed\n",
    "#For the \"setCompensateMode\" of the Hexapods the \"elevation\" of the telescope is needed\n",
    "mtm_sim_Elevation_post_stop_1= await mtm_sim.tel_elevation.aget(timeout=10.)\n",
    "print(\"Simulated mount elevation\", mtm_sim_Elevation_post_stop_1.angleActual)\n",
    "print(\"Simulated mount elevation\", mtm_sim_Elevation_post_stop_1.timestamp)\n",
    "await asyncio.sleep(10)"
   ]
  },
  {
   "cell_type": "code",
   "execution_count": 42,
   "metadata": {},
   "outputs": [
    {
     "name": "stdout",
     "output_type": "stream",
     "text": [
      "Simulated mount elevation 1614872907.5826013\n"
     ]
    }
   ],
   "source": [
    "#Get timestamp from last elevation telemetry \n",
    "mtm_sim_Elevation_post_stop_2 = await mtm_sim.tel_elevation.aget(timeout=10.)\n",
    "print(\"Simulated mount elevation\", mtm_sim_Elevation_post_stop_2.timestamp)"
   ]
  },
  {
   "cell_type": "code",
   "execution_count": 45,
   "metadata": {},
   "outputs": [
    {
     "name": "stdout",
     "output_type": "stream",
     "text": [
      "-10.036773681640625\n",
      "Mount is receiving telemetry again\n"
     ]
    }
   ],
   "source": [
    "#Check if the input to the EFD has stopped\n",
    "diff_time = mtm_sim_Elevation_post_stop_1.timestamp - mtm_sim_Elevation_post_stop_2.timestamp\n",
    "print (diff_time)\n",
    "\n",
    "if (mtm_sim_Elevation_post_stop_1.timestamp - mtm_sim_Elevation_post_stop_2.timestamp != 0):\n",
    "    print(\"Mount is receiving telemetry again\")\n",
    "else:\n",
    "    raise Exception(\"Mount is still does not receive telemetry!\")"
   ]
  }
 ],
 "metadata": {
  "kernelspec": {
   "display_name": "LSST",
   "language": "python",
   "name": "lsst"
  },
  "language_info": {
   "codemirror_mode": {
    "name": "ipython",
    "version": 3
   },
   "file_extension": ".py",
   "mimetype": "text/x-python",
   "name": "python",
   "nbconvert_exporter": "python",
   "pygments_lexer": "ipython3",
   "version": "3.8.6"
  }
 },
 "nbformat": 4,
 "nbformat_minor": 4
}
