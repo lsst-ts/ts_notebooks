{
 "cells": [
  {
   "cell_type": "markdown",
   "metadata": {},
   "source": [
    "# Test Case LVV-T1802\n",
    "This case will verify that the integration of the M2 Hexapod with SAL.\n",
    "The blocks below represent the steps of the test case.\n",
    "\n",
    "Requirements\n",
    "* EFD\n",
    "* Hexapod(s) powered on\n",
    "* Thermal sensors attached to the six actuators of the hexapod.\n",
    "* CSC running\n",
    "\n",
    "This test will require manual verification of certain events and telemetry in the summit EFD.\n",
    "Also manual verification of appropriate temperatures for each actuator."
   ]
  },
  {
   "cell_type": "code",
   "execution_count": null,
   "metadata": {},
   "outputs": [],
   "source": [
    "from lsst.ts import salobj\n",
    "from lsst.ts.idl.enums import MTHexapod\n",
    "import logging\n",
    "import asyncio\n",
    "import os\n",
    "import yaml\n",
    "\n",
    "import numpy as np\n",
    "from matplotlib import pyplot as plt\n",
    "from astropy.time import Time\n",
    "from datetime import datetime, timedelta\n",
    "import pandas as pd\n",
    "import astropy.units as u"
   ]
  },
  {
   "cell_type": "markdown",
   "metadata": {},
   "source": [
    "The following block sets the necessary environment variables for setting up the DDS/SAL communication"
   ]
  },
  {
   "cell_type": "code",
   "execution_count": null,
   "metadata": {},
   "outputs": [],
   "source": [
    "os.environ[\"LSST_DDS_HISTORYSYNC\"] = \"10\""
   ]
  },
  {
   "cell_type": "code",
   "execution_count": null,
   "metadata": {},
   "outputs": [],
   "source": [
    "STD_WAIT = 39 # This is the amount of time to wait in between a move just to make sure that the actuators are not overheating"
   ]
  },
  {
   "cell_type": "code",
   "execution_count": null,
   "metadata": {},
   "outputs": [],
   "source": [
    "log = logging.getLogger(__name__) # This sets up the logger for the test.\n",
    "#logging.setLevel(20)\n",
    "logging.basicConfig(level=logging.INFO)"
   ]
  },
  {
   "cell_type": "code",
   "execution_count": null,
   "metadata": {},
   "outputs": [],
   "source": [
    "start_time = datetime.now()\n",
    "test_message = \"M2 Hexapod Integration Test\"\n",
    "#What means index=1 here?\n",
    "script = salobj.Controller(\"Script\", index=42658885)\n",
    "await asyncio.sleep(10) #wait 10 second may help with DDS problems; closing all other kernels may help too\n",
    "print(f'time to start is {datetime.now() - start_time} [s]')"
   ]
  },
  {
   "cell_type": "markdown",
   "metadata": {},
   "source": [
    "This is how you start the remote for the CSC."
   ]
  },
  {
   "cell_type": "code",
   "execution_count": null,
   "metadata": {},
   "outputs": [],
   "source": [
    "domain = salobj.Domain()\n",
    "print (domain)"
   ]
  },
  {
   "cell_type": "code",
   "execution_count": null,
   "metadata": {},
   "outputs": [],
   "source": [
    "#index=1 is the camera hexapod!! index=2 is the M2 hexapod!\n",
    "csc_index = 2\n",
    "hexapod_csc = salobj.Remote(name=\"MTHexapod\", domain=domain, index=csc_index)\n",
    "\n",
    "print(hexapod_csc)\n",
    "await asyncio.sleep(15)\n",
    "#Bo:Check which hexapod we are controlling\n",
    "whichHex1 = await hexapod_csc.evt_configuration.aget(timeout=10.)\n",
    "print(\"Hexapod hex\", whichHex1.MTHexapodID)\n",
    "\n",
    "print(hexapod_csc.salinfo.index)\n",
    "\n",
    "await hexapod_csc.start_task\n",
    "#This is to bring the state machine in the right starting state\n",
    "#await salobj.set_summary_state(hexapod_csc, salobj.State.ENABLED)\n",
    "#await salobj.set_summary_state(hexapod_csc, salobj.State.OFFLINE)"
   ]
  },
  {
   "cell_type": "code",
   "execution_count": null,
   "metadata": {},
   "outputs": [],
   "source": [
    "await hexapod_csc.evt_heartbeat.next(flush=True, timeout=5)"
   ]
  },
  {
   "cell_type": "code",
   "execution_count": null,
   "metadata": {},
   "outputs": [],
   "source": [
    "#may need to wait a few seconds before event shows up in EFD\n",
    "await asyncio.sleep(15.)\n",
    "from lsst_efd_client import EfdClient\n",
    "\n",
    "#client = EfdClient('ncsa_teststand_efd')\n",
    "client = EfdClient('summit_efd')\n",
    "end = Time(datetime.now())\n",
    "start = end - timedelta(hours=3)\n",
    "dfe = await client.select_time_series('lsst.sal.MTHexapod.logevent_summaryState', '*', start.tai, end.tai, csc_index)"
   ]
  },
  {
   "cell_type": "code",
   "execution_count": null,
   "metadata": {},
   "outputs": [],
   "source": [
    "dfe"
   ]
  },
  {
   "cell_type": "code",
   "execution_count": null,
   "metadata": {},
   "outputs": [],
   "source": [
    "def enabled_substate_callback(evt):\n",
    "    \"\"\"Print the enabled substate when event is received.\"\"\"\n",
    "    print(MTHexapod.EnabledSubstate(evt.enabledSubstate))"
   ]
  },
  {
   "cell_type": "code",
   "execution_count": null,
   "metadata": {},
   "outputs": [],
   "source": [
    "def in_position_callback(evt):\n",
    "    \"\"\"Print the in position event when it is received.\"\"\"\n",
    "    print(evt.in_position)"
   ]
  },
  {
   "cell_type": "markdown",
   "metadata": {},
   "source": [
    "This next block will make sure that the CSC is ready for the test"
   ]
  },
  {
   "cell_type": "code",
   "execution_count": null,
   "metadata": {},
   "outputs": [],
   "source": [
    "connected = await hexapod_csc.evt_connected.aget() # This is how you get an event/telemetry with await remote.type_name.aget() type being [evt,tel] and name being the name of the topic\n",
    "commandable = connected.command\n",
    "telemetry_working = connected.telemetry\n",
    "\n",
    "if not connected or not telemetry_working:\n",
    "    raise Exception(\"Hexapod not connected or telemetry not being received.\")\n",
    "\n",
    "    #This is only for the real system. The simulater only has the AVAILABLE offline state \n",
    " \n",
    "controller_state = await hexapod_csc.evt_controllerState.aget()\n",
    "state = controller_state.controllerState\n",
    "offline_substate = controller_state.offlineSubstate\n",
    "print(state)\n",
    "'''  \n",
    "if not state == salobj.State.OFFLINE and not offline_substate == MTHexapod.OfflineSubstate.AVAILABLE:\n",
    "    raise Exception(\"Controller must be changed to Available Offline Substate.\")\n",
    "'''\n",
    "commandable_by_dds = await hexapod_csc.evt_commandableByDDS.aget()\n",
    "dds_state = commandable_by_dds.state\n",
    "if not dds_state:\n",
    "    raise Exception(\"Controller must in CommandableByDDS state.\")\n"
   ]
  },
  {
   "cell_type": "markdown",
   "metadata": {},
   "source": [
    "The next four blocks bring the CSC to the Enabled state."
   ]
  },
  {
   "cell_type": "code",
   "execution_count": null,
   "metadata": {},
   "outputs": [],
   "source": [
    "await hexapod_csc.cmd_enterControl.set_start() # Send the enterControl command notice the casing and the set_start method"
   ]
  },
  {
   "cell_type": "code",
   "execution_count": null,
   "metadata": {
    "scrolled": true
   },
   "outputs": [],
   "source": [
    "await hexapod_csc.cmd_start.set_start() "
   ]
  },
  {
   "cell_type": "code",
   "execution_count": null,
   "metadata": {},
   "outputs": [],
   "source": [
    "await hexapod_csc.cmd_enable.set_start()"
   ]
  },
  {
   "cell_type": "code",
   "execution_count": null,
   "metadata": {
    "scrolled": true
   },
   "outputs": [],
   "source": [
    "await hexapod_csc.cmd_clearError.set_start() # This clears the error"
   ]
  },
  {
   "cell_type": "markdown",
   "metadata": {},
   "source": [
    "# thermal sensors\n",
    "Check the chronograph manually for the temperature sensors to be below 19C, if not wait until they are all below 19C. Enter in the data at the 39 second mark\n",
    "\n",
    "|Actuator 1 (C)|Actuator 2 (C) | Actuator 3 (C) | Actuator 4 (C) | Actuator 5 (C) | Actuator 6 (C)|\n",
    "|--------------|---------------|----------------|----------------|----------------|---------------|\n",
    "| 0 | 0 | 0 | 0 | 0 | 0 |"
   ]
  },
  {
   "cell_type": "code",
   "execution_count": null,
   "metadata": {
    "scrolled": true
   },
   "outputs": [],
   "source": [
    "await hexapod_csc.cmd_stop.set_start()"
   ]
  },
  {
   "cell_type": "code",
   "execution_count": null,
   "metadata": {},
   "outputs": [],
   "source": [
    "await hexapod_csc.cmd_move.set_start(x=0,y=0,z=0, u=0,v=0,w=0,sync=True)"
   ]
  },
  {
   "cell_type": "code",
   "execution_count": null,
   "metadata": {},
   "outputs": [],
   "source": [
    "script.log.info(f\"START- {test_message} -- LVV-T1802 Test move command\")\n",
    "\n",
    "pos = await hexapod_csc.tel_application.aget(timeout=10.)\n",
    "print('hex position')\n",
    "for i in range(6):\n",
    "    print('%10.2f '%pos.position[i], end= ' ')\n",
    "print('\\n')"
   ]
  },
  {
   "cell_type": "code",
   "execution_count": null,
   "metadata": {},
   "outputs": [],
   "source": [
    "hexapod_csc.evt_controllerState.callback = enabled_substate_callback                                \n",
    "await hexapod_csc.cmd_move.set_start(x=500,y=-500,z=200, u=0.01,v=-0.015,w=0,sync=True)\n",
    "await asyncio.sleep(15.)\n",
    "pos = await hexapod_csc.tel_application.aget(timeout=10.)\n",
    "print('hex position')\n",
    "for i in range(6):\n",
    "    print('%10.2f '%pos.position[i], end= ' ')\n",
    "print('\\n')\n",
    "\n",
    "script.log.info(f\"STOP- {test_message} -- LVV-T1802 Test move command\")"
   ]
  },
  {
   "cell_type": "code",
   "execution_count": null,
   "metadata": {},
   "outputs": [],
   "source": [
    "await asyncio.sleep(STD_WAIT)\n",
    "# thermal sensors"
   ]
  },
  {
   "cell_type": "markdown",
   "metadata": {},
   "source": [
    "# thermal sensors\n",
    "Check the chronograph manually for the temperature sensors to be below 19C, if not wait until they are all below 19C. Enter in the data at the 39 second mark\n",
    "\n",
    "|Actuator 1 (C)|Actuator 2 (C) | Actuator 3 (C) | Actuator 4 (C) | Actuator 5 (C) | Actuator 6 (C)|\n",
    "|--------------|---------------|----------------|----------------|----------------|---------------|\n",
    "| 0 | 0 | 0 | 0 | 0 | 0 |"
   ]
  },
  {
   "cell_type": "code",
   "execution_count": null,
   "metadata": {},
   "outputs": [],
   "source": [
    "# thermal sensors"
   ]
  },
  {
   "cell_type": "markdown",
   "metadata": {},
   "source": [
    "This block moves the hexapod to a large position but stops it after waiting 3 seconds"
   ]
  },
  {
   "cell_type": "code",
   "execution_count": null,
   "metadata": {},
   "outputs": [],
   "source": [
    "script.log.info(f\"START- {test_message} -- LVV-T1802 Test Stop command\")\n",
    "\n",
    "pos = await hexapod_csc.tel_application.aget(timeout=10.)\n",
    "print('hex position')\n",
    "for i in range(6):\n",
    "    print('%10.2f '%pos.position[i], end= ' ')\n",
    "print('\\n')"
   ]
  },
  {
   "cell_type": "code",
   "execution_count": null,
   "metadata": {},
   "outputs": [],
   "source": [
    "await hexapod_csc.cmd_move.set_start(x=0,y=0,z=5000,u=0,v=0,w=0,sync=True)\n",
    "await asyncio.sleep(3)\n",
    "await hexapod_csc.cmd_stop.set_start()\n",
    "\n",
    "await asyncio.sleep(15.)\n",
    "\n",
    "pos = await hexapod_csc.tel_application.aget(timeout=10.)\n",
    "print('hex position')\n",
    "for i in range(6):\n",
    "    print('%10.2f '%pos.position[i], end= ' ')\n",
    "print('\\n')\n",
    "\n",
    "script.log.info(f\"STOP- {test_message} -- LVV-T1802 Test Stop command\")"
   ]
  },
  {
   "cell_type": "code",
   "execution_count": null,
   "metadata": {},
   "outputs": [],
   "source": [
    "#Step 15\n",
    "await asyncio.sleep(STD_WAIT)"
   ]
  },
  {
   "cell_type": "markdown",
   "metadata": {},
   "source": [
    "# thermal sensors\n",
    "Check the chronograph manually for the temperature sensors to be below 19C, if not wait until they are all below 19C. Enter in the data at the 39 second mark\n",
    "\n",
    "|Actuator 1 (C)|Actuator 2 (C) | Actuator 3 (C) | Actuator 4 (C) | Actuator 5 (C) | Actuator 6 (C)|\n",
    "|--------------|---------------|----------------|----------------|----------------|---------------|\n",
    "| 0 | 0 | 0 | 0 | 0 | 0 |"
   ]
  },
  {
   "cell_type": "code",
   "execution_count": null,
   "metadata": {},
   "outputs": [],
   "source": [
    "await hexapod_csc.cmd_move.set_start(x=0,y=0,z=0, u=0,v=0,w=0,sync=True)"
   ]
  },
  {
   "cell_type": "code",
   "execution_count": null,
   "metadata": {},
   "outputs": [],
   "source": [
    "await asyncio.sleep(STD_WAIT)"
   ]
  },
  {
   "cell_type": "markdown",
   "metadata": {},
   "source": [
    "This block moves the hexapod via the lookup table:"
   ]
  },
  {
   "cell_type": "code",
   "execution_count": null,
   "metadata": {
    "scrolled": true
   },
   "outputs": [],
   "source": [
    "script.log.info(f\"START- {test_message} -- LVV-T1802 Test setCompensationMode\")"
   ]
  },
  {
   "cell_type": "markdown",
   "metadata": {},
   "source": [
    "CAVE: The setCompensationMode expects infrormation from the MTmount(elevation) and MTRotator(rotation).\n",
    "\n",
    "To use the setCompensationMode at the summit the controller for MTMount or the MTMount simulater needs to run and the actual MTRotator CSC needs to available at the summit.\n",
    "\n",
    "To test this at NCSA the simulators must be stopped first.\n",
    "Use the notebook MTMount-Controller the simulator, start the controller and reverse the steps after finishing testing.\n",
    "\n",
    "For MTRotator the controller can not be used at NCSA. The simulator is always sending data even in OfflinePublishOnly state. Use the simulator at NCSA and the actual component at the summit"
   ]
  },
  {
   "cell_type": "markdown",
   "metadata": {},
   "source": [
    "To test the LUT compensation use: hdrass/Camera_Hexapod/hex_diagnostics.ipynb"
   ]
  },
  {
   "cell_type": "code",
   "execution_count": null,
   "metadata": {},
   "outputs": [],
   "source": [
    "\n",
    "script.log.info(f\"STOP- {test_message} -- LVV-T1802 Test setCompensationMode\")"
   ]
  },
  {
   "cell_type": "code",
   "execution_count": null,
   "metadata": {},
   "outputs": [],
   "source": [
    "#Step 22\n",
    "await asyncio.sleep(STD_WAIT)\n",
    "# thermal sensors"
   ]
  },
  {
   "cell_type": "markdown",
   "metadata": {},
   "source": [
    "# thermal sensors\n",
    "Check the chronograph manually for the temperature sensors to be below 19C, if not wait until they are all below 19C. Enter in the data at the 39 second mark\n",
    "\n",
    "|Actuator 1 (C)|Actuator 2 (C) | Actuator 3 (C) | Actuator 4 (C) | Actuator 5 (C) | Actuator 6 (C)|\n",
    "|--------------|---------------|----------------|----------------|----------------|---------------|\n",
    "| 0 | 0 | 0 | 0 | 0 | 0 |"
   ]
  },
  {
   "cell_type": "code",
   "execution_count": null,
   "metadata": {},
   "outputs": [],
   "source": [
    "script.log.info(f\"START- {test_message} -- LVV-T1802 Test offset command\")\n",
    "\n",
    "pos = await hexapod_csc.tel_application.aget(timeout=10.)\n",
    "print('hex position')\n",
    "for i in range(6):\n",
    "    print('%10.2f '%pos.position[i], end= ' ')\n",
    "print('\\n')"
   ]
  },
  {
   "cell_type": "code",
   "execution_count": null,
   "metadata": {},
   "outputs": [],
   "source": [
    "await hexapod_csc.cmd_move.set_start(x=500,y=800,z=200,u=0,v=0,w=0,sync=True)\n",
    "await asyncio.sleep(10.)\n",
    "\n",
    "pos = await hexapod_csc.tel_application.aget(timeout=10.)\n",
    "print('hex position')\n",
    "for i in range(6):\n",
    "    print('%10.2f '%pos.position[i], end= ' ')\n",
    "print('\\n')"
   ]
  },
  {
   "cell_type": "code",
   "execution_count": null,
   "metadata": {},
   "outputs": [],
   "source": [
    "await hexapod_csc.cmd_offset.set_start(x=0,y=0,z=500,u=0,v=0,w=0,sync=True)\n",
    "await asyncio.sleep(10.)\n",
    "\n",
    "pos = await hexapod_csc.tel_application.aget(timeout=10.)\n",
    "print('hex position')\n",
    "for i in range(6):\n",
    "    print('%10.2f '%pos.position[i], end= ' ')\n",
    "print('\\n')\n",
    "\n",
    "script.log.info(f\"STOP- {test_message} -- LVV-T1802 Test offset command\")"
   ]
  },
  {
   "cell_type": "code",
   "execution_count": null,
   "metadata": {},
   "outputs": [],
   "source": [
    "#Step 27\n",
    "await asyncio.sleep(STD_WAIT)"
   ]
  },
  {
   "cell_type": "code",
   "execution_count": null,
   "metadata": {},
   "outputs": [],
   "source": [
    "script.log.info(f\"START- {test_message} -- LVV-T1802 Test set pivot point\")#Pivot test\n",
    "#Step 29\n",
    "await hexapod_csc.cmd_move.set_start(x=2000,y=-3500,z=200,u=0.01,v=-0.05,w=0.002,sync=True)\n",
    "await asyncio.sleep(10.)\n",
    "pos = await hexapod_csc.tel_application.aget(timeout=10.)\n",
    "print('hex position')\n",
    "for i in range(6):\n",
    "    print('%10.2f '%pos.position[i], end= ' ')\n",
    "print('\\n')\n"
   ]
  },
  {
   "cell_type": "code",
   "execution_count": null,
   "metadata": {},
   "outputs": [],
   "source": [
    "#Step 30 -- set a new Pivot point\n",
    "await hexapod_csc.cmd_setPivot.set_start(x=0,y=0,z=0)\n",
    "await asyncio.sleep(10.)"
   ]
  },
  {
   "cell_type": "code",
   "execution_count": null,
   "metadata": {},
   "outputs": [],
   "source": [
    "#Step 31\n",
    "await hexapod_csc.cmd_move.set_start(x=2000,y=-3500,z=200,u=0.01,v=-0.05,w=0.002,sync=True)\n",
    "await asyncio.sleep(10.)\n",
    "pos = await hexapod_csc.tel_application.aget(timeout=10.)\n",
    "print('hex position')\n",
    "for i in range(6):\n",
    "    print('%10.2f '%pos.position[i], end= ' ')\n",
    "print('\\n')\n",
    "await asyncio.sleep(10.)"
   ]
  },
  {
   "cell_type": "code",
   "execution_count": null,
   "metadata": {},
   "outputs": [],
   "source": [
    "#Set the pivot point back to the original value (0.703m in um)\n",
    "await hexapod_csc.cmd_setPivot.set_start(x=0,y=0,z=703000)\n",
    "pos = await hexapod_csc.tel_application.aget(timeout=10.)\n",
    "print('hex position')\n",
    "for i in range(6):\n",
    "    print('%10.2f '%pos.position[i], end= ' ')\n",
    "print('\\n')\n",
    "script.log.info(f\"STOP- {test_message} -- LVV-T1802 Test set pivot point\")"
   ]
  },
  {
   "cell_type": "markdown",
   "metadata": {},
   "source": [
    "# thermal sensors\n",
    "Check the chronograph manually for the temperature sensors to be below 19C, if not wait until they are all below 19C. Enter in the data at the 39 second mark\n",
    "\n",
    "|Actuator 1 (C)|Actuator 2 (C) | Actuator 3 (C) | Actuator 4 (C) | Actuator 5 (C) | Actuator 6 (C)|\n",
    "|--------------|---------------|----------------|----------------|----------------|---------------|\n",
    "| 0 | 0 | 0 | 0 | 0 | 0 |"
   ]
  },
  {
   "cell_type": "code",
   "execution_count": null,
   "metadata": {},
   "outputs": [],
   "source": [
    "#Endurance test for the M2 hexapod. CAVE: This are very long moves. This can overheat the hexapod see.\n",
    "#LVV-T1600 for shorter moves\n",
    "\n",
    "script.log.info(f\"START- {test_message} -- LVV-T1802 Endurance Test\")\n",
    "for i in range(100):\n",
    "    await hexapod_csc.cmd_move.set_start(x=6700,y=0,z=5900,u=0,v=0.12,w=0,sync=True)\n",
    "    await asyncio.sleep(STD_WAIT)\n",
    "    await hexapod_csc.cmd_move.set_start(x=6700,y=0,z=5900,u=0,v=-0.12,w=0,sync=True)\n",
    "    await asyncio.sleep(STD_WAIT)\n",
    "    await hexapod_csc.cmd_move.set_start(x=6700,y=0,z=5900,u=0.12,v=0,w=0,sync=True)\n",
    "    await asyncio.sleep(STD_WAIT)\n",
    "    await hexapod_csc.cmd_move.set_start(x=6700,y=0,z=5900,u=-0.12,v=0,w=0,sync=True)\n",
    "    await asyncio.sleep(STD_WAIT)\n",
    "\n",
    "    await hexapod_csc.cmd_move.set_start(x=6700,y=0,z=-5900,u=0,v=0.12,w=0,sync=True)\n",
    "    await asyncio.sleep(STD_WAIT)\n",
    "    await hexapod_csc.cmd_move.set_start(x=6700,y=0,z=-5900,u=0,v=-0.12,w=0,sync=True)\n",
    "    await asyncio.sleep(STD_WAIT)\n",
    "    await hexapod_csc.cmd_move.set_start(x=6700,y=0,z=-5900,u=0.12,v=0,w=0,sync=True)\n",
    "    await asyncio.sleep(STD_WAIT)\n",
    "    await hexapod_csc.cmd_move.set_start(x=6700,y=0,z=-5900,u=-0.12,v=0,w=0,sync=True)\n",
    "    await asyncio.sleep(STD_WAIT)\n",
    "\n",
    "    await hexapod_csc.cmd_move.set_start(x=-6700,y=0,z=5900,u=0,v=0.12,w=0,sync=True)\n",
    "    await asyncio.sleep(STD_WAIT)\n",
    "    await hexapod_csc.cmd_move.set_start(x=-6700,y=0,z=5900,u=0,v=-0.12,w=0,sync=True)\n",
    "    await asyncio.sleep(STD_WAIT)\n",
    "    await hexapod_csc.cmd_move.set_start(x=-6700,y=0,z=5900,u=0.12,v=0,w=0,sync=True)\n",
    "    await asyncio.sleep(STD_WAIT)\n",
    "    await hexapod_csc.cmd_move.set_start(x=-6700,y=0,z=5900,u=-0.12,v=0,w=0,sync=True)\n",
    "    await asyncio.sleep(STD_WAIT)\n",
    "\n",
    "    await hexapod_csc.cmd_move.set_start(x=-6700,y=0,z=-5900,u=0,v=0.12,w=0,sync=True)\n",
    "    await asyncio.sleep(STD_WAIT)\n",
    "    await hexapod_csc.cmd_move.set_start(x=-6700,y=0,z=-5900,u=0,v=-0.12,w=0,sync=True)\n",
    "    await asyncio.sleep(STD_WAIT)\n",
    "    await hexapod_csc.cmd_move.set_start(x=-6700,y=0,z=-5900,u=0.12,v=0,w=0,sync=True)\n",
    "    await asyncio.sleep(STD_WAIT)\n",
    "    await hexapod_csc.cmd_move.set_start(x=-6700,y=0,z=-5900,u=-0.12,v=0,w=0,sync=True)\n",
    "    await asyncio.sleep(STD_WAIT)\n",
    "\n",
    "\n",
    "    await hexapod_csc.cmd_move.set_start(x=0,y=6700,z=5900,u=0,v=0.12,w=0,sync=True)\n",
    "    await asyncio.sleep(STD_WAIT)\n",
    "    await hexapod_csc.cmd_move.set_start(x=0,y=6700,z=5900,u=0,v=-0.12,w=0,sync=True)\n",
    "    await asyncio.sleep(STD_WAIT)\n",
    "    await hexapod_csc.cmd_move.set_start(x=0,y=6700,z=5900,u=0.12,v=0,w=0,sync=True)\n",
    "    await asyncio.sleep(STD_WAIT)\n",
    "    await hexapod_csc.cmd_move.set_start(x=0,y=6700,z=5900,u=-0.12,v=0,w=0,sync=True)\n",
    "    await asyncio.sleep(STD_WAIT)\n",
    "\n",
    "    await hexapod_csc.cmd_move.set_start(x=0,y=6700,z=-5900,u=0,v=0.12,w=0,sync=True)\n",
    "    await asyncio.sleep(STD_WAIT)\n",
    "    await hexapod_csc.cmd_move.set_start(x=0,y=6700,z=-5900,u=0,v=-0.12,w=0,sync=True)\n",
    "    await asyncio.sleep(STD_WAIT)\n",
    "    await hexapod_csc.cmd_move.set_start(x=0,y=6700,z=-5900,u=0.12,v=0,w=0,sync=True)\n",
    "    await asyncio.sleep(STD_WAIT)\n",
    "    await hexapod_csc.cmd_move.set_start(x=0,y=6700,z=-5900,u=-0.12,v=0,w=0,sync=True)\n",
    "    await asyncio.sleep(STD_WAIT)\n",
    "\n",
    "    await hexapod_csc.cmd_move.set_start(x=0,y=-6700,z=5900,u=0,v=0.12,w=0,sync=True)\n",
    "    await asyncio.sleep(STD_WAIT)\n",
    "    await hexapod_csc.cmd_move.set_start(x=0,y=-6700,z=5900,u=0,v=-0.12,w=0,sync=True)\n",
    "    await asyncio.sleep(STD_WAIT)\n",
    "    await hexapod_csc.cmd_move.set_start(x=0,y=-6700,z=5900,u=0.12,v=0,w=0,sync=True)\n",
    "    await asyncio.sleep(STD_WAIT)\n",
    "    await hexapod_csc.cmd_move.set_start(x=0,y=-6700,z=5900,u=-0.12,v=0,w=0,sync=True)\n",
    "    await asyncio.sleep(STD_WAIT)\n",
    "\n",
    "    await hexapod_csc.cmd_move.set_start(x=0,y=-6700,z=-5900,u=0,v=0.12,w=0,sync=True)\n",
    "    await asyncio.sleep(STD_WAIT)\n",
    "    await hexapod_csc.cmd_move.set_start(x=0,y=-6700,z=-5900,u=0,v=-0.12,w=0,sync=True)\n",
    "    await asyncio.sleep(STD_WAIT)\n",
    "    await hexapod_csc.cmd_move.set_start(x=0,y=-6700,z=-5900,u=0.12,v=0,w=0,sync=True)\n",
    "    await asyncio.sleep(STD_WAIT)\n",
    "    await hexapod_csc.cmd_move.set_start(x=0,y=-6700,z=-5900,u=-0.12,v=0,w=0,sync=True)\n",
    "    await asyncio.sleep(STD_WAIT)\n",
    "\n",
    "\n",
    "script.log.info(f\"STOPP- {test_message} -- LVV-T1802 Endurance Test \")"
   ]
  },
  {
   "cell_type": "code",
   "execution_count": null,
   "metadata": {},
   "outputs": [],
   "source": [
    "await salobj.set_summary_state(hexapod_csc, salobj.State.STANDBY) # Transition the CSC to Standby state"
   ]
  },
  {
   "cell_type": "code",
   "execution_count": null,
   "metadata": {},
   "outputs": [],
   "source": [
    "await domain.close() # Close the remote connection"
   ]
  }
 ],
 "metadata": {
  "kernelspec": {
   "display_name": "LSST",
   "language": "python",
   "name": "lsst"
  },
  "language_info": {
   "codemirror_mode": {
    "name": "ipython",
    "version": 3
   },
   "file_extension": ".py",
   "mimetype": "text/x-python",
   "name": "python",
   "nbconvert_exporter": "python",
   "pygments_lexer": "ipython3",
   "version": "3.8.8"
  }
 },
 "nbformat": 4,
 "nbformat_minor": 4
}
