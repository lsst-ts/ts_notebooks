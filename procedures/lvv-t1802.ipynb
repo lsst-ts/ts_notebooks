{
 "cells": [
  {
   "cell_type": "markdown",
   "metadata": {},
   "source": [
    "# Test Case LVV-t1802\n",
    "This case will verify that the integration of the M2 Hexapod with SAL.\n",
    "The blocks below represent the steps of the test case.\n",
    "\n",
    "Requirements\n",
    "* EFD\n",
    "* Hexapod(s) powered on\n",
    "* Thermal sensors attached to the six actuators of the hexapod.\n",
    "* CSC running\n",
    "\n",
    "This test will require manual verification of certain events and telemetry in the summit EFD.\n",
    "Also manual verification of appropriate temperatures for each actuator."
   ]
  },
  {
   "cell_type": "code",
   "execution_count": 27,
   "metadata": {},
   "outputs": [],
   "source": [
    "from lsst.ts import salobj\n",
    "from lsst.ts.idl.enums import MTHexapod\n",
    "import logging\n",
    "import asyncio\n",
    "import os\n",
    "import yaml\n",
    "\n",
    "import numpy as np\n",
    "from matplotlib import pyplot as plt\n",
    "from astropy.time import Time\n",
    "from datetime import datetime, timedelta\n",
    "import pandas as pd\n",
    "import astropy.units as u"
   ]
  },
  {
   "cell_type": "markdown",
   "metadata": {},
   "source": [
    "The following block sets the necessary environment variables for setting up the DDS/SAL communication"
   ]
  },
  {
   "cell_type": "code",
   "execution_count": 28,
   "metadata": {},
   "outputs": [],
   "source": [
    "#os.environ[\"LSST_DDS_DOMAIN\"] = 'citest'\n",
    "os.environ[\"LSST_DDS_HISTORYSYNC\"] = \"10\""
   ]
  },
  {
   "cell_type": "code",
   "execution_count": 29,
   "metadata": {},
   "outputs": [],
   "source": [
    "STD_WAIT = 39 # This is the amount of time to wait in between a move just to make sure that the actuators are not overheating"
   ]
  },
  {
   "cell_type": "code",
   "execution_count": 52,
   "metadata": {},
   "outputs": [],
   "source": [
    "log = logging.getLogger(__name__) # This sets up the logger for the test.\n",
    "#logging.setLevel(20)\n",
    "logging.basicConfig(level=logging.INFO)"
   ]
  },
  {
   "cell_type": "code",
   "execution_count": 31,
   "metadata": {},
   "outputs": [
    {
     "name": "stdout",
     "output_type": "stream",
     "text": [
      "time to start is 0:00:10.804689 [s]\n"
     ]
    }
   ],
   "source": [
    "start_time = datetime.now()\n",
    "test_message = \"M2 Hexapod Integration Test\"\n",
    "#What means index=1 here?\n",
    "script = salobj.Controller(\"Script\", index=1)\n",
    "await asyncio.sleep(10) #wait 10 second may help with DDS problems; closing all other kernels may help too\n",
    "print(f'time to start is {datetime.now() - start_time} [s]')"
   ]
  },
  {
   "cell_type": "markdown",
   "metadata": {},
   "source": [
    "This is how you start the remote for the CSC."
   ]
  },
  {
   "cell_type": "code",
   "execution_count": 32,
   "metadata": {},
   "outputs": [
    {
     "name": "stdout",
     "output_type": "stream",
     "text": [
      "<lsst.ts.salobj.domain.Domain object at 0x7ff6af2b1730>\n"
     ]
    }
   ],
   "source": [
    "domain = salobj.Domain()\n",
    "print (domain)"
   ]
  },
  {
   "cell_type": "code",
   "execution_count": 79,
   "metadata": {},
   "outputs": [
    {
     "name": "stderr",
     "output_type": "stream",
     "text": [
      "INFO:MTHexapod:Read historical data in 0.01 sec\n"
     ]
    },
    {
     "name": "stdout",
     "output_type": "stream",
     "text": [
      "<lsst.ts.salobj.remote.Remote object at 0x7ff6af0a5730>\n",
      "Hexapod hex 2\n",
      "2\n"
     ]
    }
   ],
   "source": [
    "#index=1 is the camera hexapod!! index=2 is the M2 hexapod!\n",
    "csc_index = 2\n",
    "hexapod_csc = salobj.Remote(name=\"MTHexapod\", domain=domain, index=csc_index)\n",
    "\n",
    "print(hexapod_csc)\n",
    "await asyncio.sleep(15)\n",
    "#Bo:Check which hexapod we are controlling\n",
    "whichHex1 = await hexapod_csc.evt_configuration.aget(timeout=10.)\n",
    "print(\"Hexapod hex\", whichHex1.MTHexapodID)\n",
    "\n",
    "print(hexapod_csc.salinfo.index)\n",
    "\n",
    "await hexapod_csc.start_task\n",
    "#This is to bring the state machine in the right starting state\n",
    "#await salobj.set_summary_state(hexapod_csc, salobj.State.ENABLED)\n",
    "#await salobj.set_summary_state(hexapod_csc, salobj.State.OFFLINE)"
   ]
  },
  {
   "cell_type": "code",
   "execution_count": 80,
   "metadata": {},
   "outputs": [
    {
     "data": {
      "text/plain": [
       "<ddsutil.MTHexapod_logevent_heartbeat_8799b696 at 0x7ff695fa49a0>"
      ]
     },
     "execution_count": 80,
     "metadata": {},
     "output_type": "execute_result"
    }
   ],
   "source": [
    "await hexapod_csc.evt_heartbeat.next(flush=True, timeout=5)"
   ]
  },
  {
   "cell_type": "code",
   "execution_count": 81,
   "metadata": {},
   "outputs": [],
   "source": [
    "#may need to wait a few seconds before event shows up in EFD\n",
    "await asyncio.sleep(15.)\n",
    "from lsst_efd_client import EfdClient\n",
    "\n",
    "#client = EfdClient('ncsa_teststand_efd')\n",
    "client = EfdClient('summit_efd')\n",
    "end = Time(datetime.now())\n",
    "start = end - timedelta(hours=3)\n",
    "dfe = await client.select_time_series('lsst.sal.MTHexapod.logevent_summaryState', '*', start.tai, end.tai, csc_index)"
   ]
  },
  {
   "cell_type": "code",
   "execution_count": 82,
   "metadata": {},
   "outputs": [
    {
     "data": {
      "text/html": [
       "<div>\n",
       "<style scoped>\n",
       "    .dataframe tbody tr th:only-of-type {\n",
       "        vertical-align: middle;\n",
       "    }\n",
       "\n",
       "    .dataframe tbody tr th {\n",
       "        vertical-align: top;\n",
       "    }\n",
       "\n",
       "    .dataframe thead th {\n",
       "        text-align: right;\n",
       "    }\n",
       "</style>\n",
       "<table border=\"1\" class=\"dataframe\">\n",
       "  <thead>\n",
       "    <tr style=\"text-align: right;\">\n",
       "      <th></th>\n",
       "      <th>MTHexapodID</th>\n",
       "      <th>priority</th>\n",
       "      <th>private_host</th>\n",
       "      <th>private_identity</th>\n",
       "      <th>private_kafkaStamp</th>\n",
       "      <th>private_origin</th>\n",
       "      <th>private_rcvStamp</th>\n",
       "      <th>private_revCode</th>\n",
       "      <th>private_seqNum</th>\n",
       "      <th>private_sndStamp</th>\n",
       "      <th>summaryState</th>\n",
       "    </tr>\n",
       "  </thead>\n",
       "  <tbody>\n",
       "    <tr>\n",
       "      <th>2021-02-24 16:09:26.616000+00:00</th>\n",
       "      <td>2</td>\n",
       "      <td>0</td>\n",
       "      <td>0</td>\n",
       "      <td>MTHexapod:2</td>\n",
       "      <td>1.614183e+09</td>\n",
       "      <td>112</td>\n",
       "      <td>1.614183e+09</td>\n",
       "      <td>959a0a03</td>\n",
       "      <td>271</td>\n",
       "      <td>1.614183e+09</td>\n",
       "      <td>1</td>\n",
       "    </tr>\n",
       "    <tr>\n",
       "      <th>2021-02-24 16:09:35.656000+00:00</th>\n",
       "      <td>2</td>\n",
       "      <td>0</td>\n",
       "      <td>0</td>\n",
       "      <td>MTHexapod:2</td>\n",
       "      <td>1.614183e+09</td>\n",
       "      <td>112</td>\n",
       "      <td>1.614183e+09</td>\n",
       "      <td>959a0a03</td>\n",
       "      <td>272</td>\n",
       "      <td>1.614183e+09</td>\n",
       "      <td>5</td>\n",
       "    </tr>\n",
       "    <tr>\n",
       "      <th>2021-02-24 16:10:25.520000+00:00</th>\n",
       "      <td>2</td>\n",
       "      <td>0</td>\n",
       "      <td>0</td>\n",
       "      <td>MTHexapod:2</td>\n",
       "      <td>1.614183e+09</td>\n",
       "      <td>112</td>\n",
       "      <td>1.614183e+09</td>\n",
       "      <td>959a0a03</td>\n",
       "      <td>273</td>\n",
       "      <td>1.614183e+09</td>\n",
       "      <td>4</td>\n",
       "    </tr>\n",
       "    <tr>\n",
       "      <th>2021-02-24 16:17:29.945000+00:00</th>\n",
       "      <td>2</td>\n",
       "      <td>0</td>\n",
       "      <td>0</td>\n",
       "      <td>MTHexapod:2</td>\n",
       "      <td>1.614183e+09</td>\n",
       "      <td>112</td>\n",
       "      <td>1.614183e+09</td>\n",
       "      <td>959a0a03</td>\n",
       "      <td>274</td>\n",
       "      <td>1.614183e+09</td>\n",
       "      <td>5</td>\n",
       "    </tr>\n",
       "    <tr>\n",
       "      <th>2021-02-24 16:17:35.350000+00:00</th>\n",
       "      <td>2</td>\n",
       "      <td>0</td>\n",
       "      <td>0</td>\n",
       "      <td>MTHexapod:2</td>\n",
       "      <td>1.614183e+09</td>\n",
       "      <td>112</td>\n",
       "      <td>1.614183e+09</td>\n",
       "      <td>959a0a03</td>\n",
       "      <td>275</td>\n",
       "      <td>1.614183e+09</td>\n",
       "      <td>1</td>\n",
       "    </tr>\n",
       "    <tr>\n",
       "      <th>...</th>\n",
       "      <td>...</td>\n",
       "      <td>...</td>\n",
       "      <td>...</td>\n",
       "      <td>...</td>\n",
       "      <td>...</td>\n",
       "      <td>...</td>\n",
       "      <td>...</td>\n",
       "      <td>...</td>\n",
       "      <td>...</td>\n",
       "      <td>...</td>\n",
       "      <td>...</td>\n",
       "    </tr>\n",
       "    <tr>\n",
       "      <th>2021-02-24 18:45:41.290000+00:00</th>\n",
       "      <td>2</td>\n",
       "      <td>0</td>\n",
       "      <td>0</td>\n",
       "      <td>MTHexapod:2</td>\n",
       "      <td>1.614192e+09</td>\n",
       "      <td>112</td>\n",
       "      <td>1.614192e+09</td>\n",
       "      <td>959a0a03</td>\n",
       "      <td>4874</td>\n",
       "      <td>1.614192e+09</td>\n",
       "      <td>5</td>\n",
       "    </tr>\n",
       "    <tr>\n",
       "      <th>2021-02-24 18:45:41.330000+00:00</th>\n",
       "      <td>2</td>\n",
       "      <td>0</td>\n",
       "      <td>0</td>\n",
       "      <td>MTHexapod:2</td>\n",
       "      <td>1.614192e+09</td>\n",
       "      <td>112</td>\n",
       "      <td>1.614192e+09</td>\n",
       "      <td>959a0a03</td>\n",
       "      <td>4875</td>\n",
       "      <td>1.614192e+09</td>\n",
       "      <td>3</td>\n",
       "    </tr>\n",
       "    <tr>\n",
       "      <th>2021-02-24 18:45:41.380000+00:00</th>\n",
       "      <td>2</td>\n",
       "      <td>0</td>\n",
       "      <td>0</td>\n",
       "      <td>MTHexapod:2</td>\n",
       "      <td>1.614192e+09</td>\n",
       "      <td>112</td>\n",
       "      <td>1.614192e+09</td>\n",
       "      <td>959a0a03</td>\n",
       "      <td>4876</td>\n",
       "      <td>1.614192e+09</td>\n",
       "      <td>5</td>\n",
       "    </tr>\n",
       "    <tr>\n",
       "      <th>2021-02-24 18:45:52.722000+00:00</th>\n",
       "      <td>2</td>\n",
       "      <td>0</td>\n",
       "      <td>0</td>\n",
       "      <td>MTHexapod:2</td>\n",
       "      <td>1.614192e+09</td>\n",
       "      <td>112</td>\n",
       "      <td>1.614192e+09</td>\n",
       "      <td>959a0a03</td>\n",
       "      <td>4877</td>\n",
       "      <td>1.614192e+09</td>\n",
       "      <td>1</td>\n",
       "    </tr>\n",
       "    <tr>\n",
       "      <th>2021-02-24 18:45:56.325000+00:00</th>\n",
       "      <td>2</td>\n",
       "      <td>0</td>\n",
       "      <td>0</td>\n",
       "      <td>MTHexapod:2</td>\n",
       "      <td>1.614192e+09</td>\n",
       "      <td>112</td>\n",
       "      <td>1.614192e+09</td>\n",
       "      <td>959a0a03</td>\n",
       "      <td>4878</td>\n",
       "      <td>1.614192e+09</td>\n",
       "      <td>2</td>\n",
       "    </tr>\n",
       "  </tbody>\n",
       "</table>\n",
       "<p>4608 rows × 11 columns</p>\n",
       "</div>"
      ],
      "text/plain": [
       "                                  MTHexapodID  priority  private_host  \\\n",
       "2021-02-24 16:09:26.616000+00:00            2         0             0   \n",
       "2021-02-24 16:09:35.656000+00:00            2         0             0   \n",
       "2021-02-24 16:10:25.520000+00:00            2         0             0   \n",
       "2021-02-24 16:17:29.945000+00:00            2         0             0   \n",
       "2021-02-24 16:17:35.350000+00:00            2         0             0   \n",
       "...                                       ...       ...           ...   \n",
       "2021-02-24 18:45:41.290000+00:00            2         0             0   \n",
       "2021-02-24 18:45:41.330000+00:00            2         0             0   \n",
       "2021-02-24 18:45:41.380000+00:00            2         0             0   \n",
       "2021-02-24 18:45:52.722000+00:00            2         0             0   \n",
       "2021-02-24 18:45:56.325000+00:00            2         0             0   \n",
       "\n",
       "                                 private_identity  private_kafkaStamp  \\\n",
       "2021-02-24 16:09:26.616000+00:00      MTHexapod:2        1.614183e+09   \n",
       "2021-02-24 16:09:35.656000+00:00      MTHexapod:2        1.614183e+09   \n",
       "2021-02-24 16:10:25.520000+00:00      MTHexapod:2        1.614183e+09   \n",
       "2021-02-24 16:17:29.945000+00:00      MTHexapod:2        1.614183e+09   \n",
       "2021-02-24 16:17:35.350000+00:00      MTHexapod:2        1.614183e+09   \n",
       "...                                           ...                 ...   \n",
       "2021-02-24 18:45:41.290000+00:00      MTHexapod:2        1.614192e+09   \n",
       "2021-02-24 18:45:41.330000+00:00      MTHexapod:2        1.614192e+09   \n",
       "2021-02-24 18:45:41.380000+00:00      MTHexapod:2        1.614192e+09   \n",
       "2021-02-24 18:45:52.722000+00:00      MTHexapod:2        1.614192e+09   \n",
       "2021-02-24 18:45:56.325000+00:00      MTHexapod:2        1.614192e+09   \n",
       "\n",
       "                                  private_origin  private_rcvStamp  \\\n",
       "2021-02-24 16:09:26.616000+00:00             112      1.614183e+09   \n",
       "2021-02-24 16:09:35.656000+00:00             112      1.614183e+09   \n",
       "2021-02-24 16:10:25.520000+00:00             112      1.614183e+09   \n",
       "2021-02-24 16:17:29.945000+00:00             112      1.614183e+09   \n",
       "2021-02-24 16:17:35.350000+00:00             112      1.614183e+09   \n",
       "...                                          ...               ...   \n",
       "2021-02-24 18:45:41.290000+00:00             112      1.614192e+09   \n",
       "2021-02-24 18:45:41.330000+00:00             112      1.614192e+09   \n",
       "2021-02-24 18:45:41.380000+00:00             112      1.614192e+09   \n",
       "2021-02-24 18:45:52.722000+00:00             112      1.614192e+09   \n",
       "2021-02-24 18:45:56.325000+00:00             112      1.614192e+09   \n",
       "\n",
       "                                 private_revCode  private_seqNum  \\\n",
       "2021-02-24 16:09:26.616000+00:00        959a0a03             271   \n",
       "2021-02-24 16:09:35.656000+00:00        959a0a03             272   \n",
       "2021-02-24 16:10:25.520000+00:00        959a0a03             273   \n",
       "2021-02-24 16:17:29.945000+00:00        959a0a03             274   \n",
       "2021-02-24 16:17:35.350000+00:00        959a0a03             275   \n",
       "...                                          ...             ...   \n",
       "2021-02-24 18:45:41.290000+00:00        959a0a03            4874   \n",
       "2021-02-24 18:45:41.330000+00:00        959a0a03            4875   \n",
       "2021-02-24 18:45:41.380000+00:00        959a0a03            4876   \n",
       "2021-02-24 18:45:52.722000+00:00        959a0a03            4877   \n",
       "2021-02-24 18:45:56.325000+00:00        959a0a03            4878   \n",
       "\n",
       "                                  private_sndStamp  summaryState  \n",
       "2021-02-24 16:09:26.616000+00:00      1.614183e+09             1  \n",
       "2021-02-24 16:09:35.656000+00:00      1.614183e+09             5  \n",
       "2021-02-24 16:10:25.520000+00:00      1.614183e+09             4  \n",
       "2021-02-24 16:17:29.945000+00:00      1.614183e+09             5  \n",
       "2021-02-24 16:17:35.350000+00:00      1.614183e+09             1  \n",
       "...                                            ...           ...  \n",
       "2021-02-24 18:45:41.290000+00:00      1.614192e+09             5  \n",
       "2021-02-24 18:45:41.330000+00:00      1.614192e+09             3  \n",
       "2021-02-24 18:45:41.380000+00:00      1.614192e+09             5  \n",
       "2021-02-24 18:45:52.722000+00:00      1.614192e+09             1  \n",
       "2021-02-24 18:45:56.325000+00:00      1.614192e+09             2  \n",
       "\n",
       "[4608 rows x 11 columns]"
      ]
     },
     "execution_count": 82,
     "metadata": {},
     "output_type": "execute_result"
    }
   ],
   "source": [
    "dfe"
   ]
  },
  {
   "cell_type": "code",
   "execution_count": 83,
   "metadata": {},
   "outputs": [],
   "source": [
    "def enabled_substate_callback(evt):\n",
    "    \"\"\"Print the enabled substate when event is received.\"\"\"\n",
    "    print(MTHexapod.EnabledSubstate(evt.enabledSubstate))"
   ]
  },
  {
   "cell_type": "code",
   "execution_count": 84,
   "metadata": {},
   "outputs": [],
   "source": [
    "def in_position_callback(evt):\n",
    "    \"\"\"Print the in position event when it is received.\"\"\"\n",
    "    print(evt.in_position)"
   ]
  },
  {
   "cell_type": "markdown",
   "metadata": {},
   "source": [
    "This next block will make sure that the CSC is ready for the test"
   ]
  },
  {
   "cell_type": "code",
   "execution_count": 85,
   "metadata": {},
   "outputs": [
    {
     "name": "stdout",
     "output_type": "stream",
     "text": [
      "2\n"
     ]
    }
   ],
   "source": [
    "connected = await hexapod_csc.evt_connected.aget() # This is how you get an event/telemetry with await remote.type_name.aget() type being [evt,tel] and name being the name of the topic\n",
    "commandable = connected.command\n",
    "telemetry_working = connected.telemetry\n",
    "\n",
    "if not connected or not telemetry_working:\n",
    "    raise Exception(\"Hexapod not connected or telemetry not being received.\")\n",
    "\n",
    "    #This is only for the real system. The simulater only has the AVAILABLE offline state \n",
    " \n",
    "controller_state = await hexapod_csc.evt_controllerState.aget()\n",
    "state = controller_state.controllerState\n",
    "offline_substate = controller_state.offlineSubstate\n",
    "print(state)\n",
    "'''  \n",
    "if not state == salobj.State.OFFLINE and not offline_substate == MTHexapod.OfflineSubstate.AVAILABLE:\n",
    "    raise Exception(\"Controller must be changed to Available Offline Substate.\")\n",
    "'''\n",
    "commandable_by_dds = await hexapod_csc.evt_commandableByDDS.aget()\n",
    "dds_state = commandable_by_dds.state\n",
    "if not dds_state:\n",
    "    raise Exception(\"Controller must in CommandableByDDS state.\")\n"
   ]
  },
  {
   "cell_type": "markdown",
   "metadata": {},
   "source": [
    "The next four blocks bring the CSC to the Enabled state."
   ]
  },
  {
   "cell_type": "code",
   "execution_count": null,
   "metadata": {},
   "outputs": [],
   "source": [
    "await hexapod_csc.cmd_enterControl.set_start() # Send the enterControl command notice the casing and the set_start method"
   ]
  },
  {
   "cell_type": "code",
   "execution_count": 112,
   "metadata": {
    "scrolled": true
   },
   "outputs": [
    {
     "name": "stdout",
     "output_type": "stream",
     "text": [
      "EnabledSubstate.STATIONARY\n"
     ]
    },
    {
     "data": {
      "text/plain": [
       "<ddsutil.MTHexapod_ackcmd_da0a635d at 0x7ff6af104c70>"
      ]
     },
     "execution_count": 112,
     "metadata": {},
     "output_type": "execute_result"
    }
   ],
   "source": [
    "await hexapod_csc.cmd_start.set_start() "
   ]
  },
  {
   "cell_type": "code",
   "execution_count": 113,
   "metadata": {},
   "outputs": [
    {
     "name": "stdout",
     "output_type": "stream",
     "text": [
      "EnabledSubstate.STATIONARY\n"
     ]
    },
    {
     "data": {
      "text/plain": [
       "<ddsutil.MTHexapod_ackcmd_da0a635d at 0x7ff695fdaaf0>"
      ]
     },
     "execution_count": 113,
     "metadata": {},
     "output_type": "execute_result"
    }
   ],
   "source": [
    "await hexapod_csc.cmd_enable.set_start()"
   ]
  },
  {
   "cell_type": "code",
   "execution_count": 115,
   "metadata": {
    "scrolled": true
   },
   "outputs": [
    {
     "name": "stdout",
     "output_type": "stream",
     "text": [
      "EnabledSubstate.STATIONARY\n"
     ]
    },
    {
     "ename": "AckError",
     "evalue": "msg='Command failed', ackcmd=(ackcmd private_seqNum=158026926, ack=<SalRetCode.CMD_FAILED: -302>, error=1, result='Failed: Rejected: initial state is <State.ENABLED: 2> instead of <State.FAULT: 3>')",
     "output_type": "error",
     "traceback": [
      "\u001b[0;31m---------------------------------------------------------------------------\u001b[0m",
      "\u001b[0;31mAckError\u001b[0m                                  Traceback (most recent call last)",
      "\u001b[0;32m<ipython-input-115-0b82bbd9eddd>\u001b[0m in \u001b[0;36m<module>\u001b[0;34m\u001b[0m\n\u001b[0;32m----> 1\u001b[0;31m \u001b[0;32mawait\u001b[0m \u001b[0mhexapod_csc\u001b[0m\u001b[0;34m.\u001b[0m\u001b[0mcmd_clearError\u001b[0m\u001b[0;34m.\u001b[0m\u001b[0mset_start\u001b[0m\u001b[0;34m(\u001b[0m\u001b[0;34m)\u001b[0m \u001b[0;31m# This clears the error\u001b[0m\u001b[0;34m\u001b[0m\u001b[0;34m\u001b[0m\u001b[0m\n\u001b[0m",
      "\u001b[0;32m/opt/lsst/src/ts_salobj/python/lsst/ts/salobj/topics/remote_command.py\u001b[0m in \u001b[0;36mset_start\u001b[0;34m(self, timeout, wait_done, **kwargs)\u001b[0m\n\u001b[1;32m    389\u001b[0m         \"\"\"\n\u001b[1;32m    390\u001b[0m         \u001b[0mself\u001b[0m\u001b[0;34m.\u001b[0m\u001b[0mset\u001b[0m\u001b[0;34m(\u001b[0m\u001b[0;34m**\u001b[0m\u001b[0mkwargs\u001b[0m\u001b[0;34m)\u001b[0m\u001b[0;34m\u001b[0m\u001b[0;34m\u001b[0m\u001b[0m\n\u001b[0;32m--> 391\u001b[0;31m         \u001b[0;32mreturn\u001b[0m \u001b[0;32mawait\u001b[0m \u001b[0mself\u001b[0m\u001b[0;34m.\u001b[0m\u001b[0mstart\u001b[0m\u001b[0;34m(\u001b[0m\u001b[0mtimeout\u001b[0m\u001b[0;34m=\u001b[0m\u001b[0mtimeout\u001b[0m\u001b[0;34m,\u001b[0m \u001b[0mwait_done\u001b[0m\u001b[0;34m=\u001b[0m\u001b[0mwait_done\u001b[0m\u001b[0;34m)\u001b[0m\u001b[0;34m\u001b[0m\u001b[0;34m\u001b[0m\u001b[0m\n\u001b[0m\u001b[1;32m    392\u001b[0m \u001b[0;34m\u001b[0m\u001b[0m\n\u001b[1;32m    393\u001b[0m     \u001b[0;32masync\u001b[0m \u001b[0;32mdef\u001b[0m \u001b[0mstart\u001b[0m\u001b[0;34m(\u001b[0m\u001b[0mself\u001b[0m\u001b[0;34m,\u001b[0m \u001b[0mdata\u001b[0m\u001b[0;34m=\u001b[0m\u001b[0;32mNone\u001b[0m\u001b[0;34m,\u001b[0m \u001b[0mtimeout\u001b[0m\u001b[0;34m=\u001b[0m\u001b[0mDEFAULT_TIMEOUT\u001b[0m\u001b[0;34m,\u001b[0m \u001b[0mwait_done\u001b[0m\u001b[0;34m=\u001b[0m\u001b[0;32mTrue\u001b[0m\u001b[0;34m)\u001b[0m\u001b[0;34m:\u001b[0m\u001b[0;34m\u001b[0m\u001b[0;34m\u001b[0m\u001b[0m\n",
      "\u001b[0;32m/opt/lsst/src/ts_salobj/python/lsst/ts/salobj/topics/remote_command.py\u001b[0m in \u001b[0;36mstart\u001b[0;34m(self, data, timeout, wait_done)\u001b[0m\n\u001b[1;32m    444\u001b[0m         )\n\u001b[1;32m    445\u001b[0m         \u001b[0mself\u001b[0m\u001b[0;34m.\u001b[0m\u001b[0msalinfo\u001b[0m\u001b[0;34m.\u001b[0m\u001b[0m_running_cmds\u001b[0m\u001b[0;34m[\u001b[0m\u001b[0mseq_num\u001b[0m\u001b[0;34m]\u001b[0m \u001b[0;34m=\u001b[0m \u001b[0mcmd_info\u001b[0m\u001b[0;34m\u001b[0m\u001b[0;34m\u001b[0m\u001b[0m\n\u001b[0;32m--> 446\u001b[0;31m         \u001b[0;32mreturn\u001b[0m \u001b[0;32mawait\u001b[0m \u001b[0mcmd_info\u001b[0m\u001b[0;34m.\u001b[0m\u001b[0mnext_ackcmd\u001b[0m\u001b[0;34m(\u001b[0m\u001b[0mtimeout\u001b[0m\u001b[0;34m=\u001b[0m\u001b[0mtimeout\u001b[0m\u001b[0;34m)\u001b[0m\u001b[0;34m\u001b[0m\u001b[0;34m\u001b[0m\u001b[0m\n\u001b[0m",
      "\u001b[0;32m/opt/lsst/src/ts_salobj/python/lsst/ts/salobj/topics/remote_command.py\u001b[0m in \u001b[0;36mnext_ackcmd\u001b[0;34m(self, timeout)\u001b[0m\n\u001b[1;32m    181\u001b[0m             \u001b[0mackcmd\u001b[0m \u001b[0;34m=\u001b[0m \u001b[0;32mawait\u001b[0m \u001b[0mself\u001b[0m\u001b[0;34m.\u001b[0m\u001b[0m_wait_task\u001b[0m\u001b[0;34m\u001b[0m\u001b[0;34m\u001b[0m\u001b[0m\n\u001b[1;32m    182\u001b[0m             \u001b[0;32mif\u001b[0m \u001b[0mackcmd\u001b[0m\u001b[0;34m.\u001b[0m\u001b[0mack\u001b[0m \u001b[0;32min\u001b[0m \u001b[0mself\u001b[0m\u001b[0;34m.\u001b[0m\u001b[0mfailed_ack_codes\u001b[0m\u001b[0;34m:\u001b[0m\u001b[0;34m\u001b[0m\u001b[0;34m\u001b[0m\u001b[0m\n\u001b[0;32m--> 183\u001b[0;31m                 \u001b[0;32mraise\u001b[0m \u001b[0mbase\u001b[0m\u001b[0;34m.\u001b[0m\u001b[0mAckError\u001b[0m\u001b[0;34m(\u001b[0m\u001b[0mmsg\u001b[0m\u001b[0;34m=\u001b[0m\u001b[0;34m\"Command failed\"\u001b[0m\u001b[0;34m,\u001b[0m \u001b[0mackcmd\u001b[0m\u001b[0;34m=\u001b[0m\u001b[0mackcmd\u001b[0m\u001b[0;34m)\u001b[0m\u001b[0;34m\u001b[0m\u001b[0;34m\u001b[0m\u001b[0m\n\u001b[0m\u001b[1;32m    184\u001b[0m             \u001b[0;32mreturn\u001b[0m \u001b[0mackcmd\u001b[0m\u001b[0;34m\u001b[0m\u001b[0;34m\u001b[0m\u001b[0m\n\u001b[1;32m    185\u001b[0m         \u001b[0;32mexcept\u001b[0m \u001b[0masyncio\u001b[0m\u001b[0;34m.\u001b[0m\u001b[0mTimeoutError\u001b[0m\u001b[0;34m:\u001b[0m\u001b[0;34m\u001b[0m\u001b[0;34m\u001b[0m\u001b[0m\n",
      "\u001b[0;31mAckError\u001b[0m: msg='Command failed', ackcmd=(ackcmd private_seqNum=158026926, ack=<SalRetCode.CMD_FAILED: -302>, error=1, result='Failed: Rejected: initial state is <State.ENABLED: 2> instead of <State.FAULT: 3>')"
     ]
    },
    {
     "name": "stdout",
     "output_type": "stream",
     "text": [
      "EnabledSubstate.MOVING_POINT_TO_POINT\n",
      "EnabledSubstate.STATIONARY\n",
      "EnabledSubstate.MOVING_POINT_TO_POINT\n",
      "EnabledSubstate.STATIONARY\n",
      "EnabledSubstate.MOVING_POINT_TO_POINT\n",
      "EnabledSubstate.STATIONARY\n",
      "EnabledSubstate.MOVING_POINT_TO_POINT\n",
      "EnabledSubstate.STATIONARY\n",
      "EnabledSubstate.MOVING_POINT_TO_POINT\n",
      "EnabledSubstate.STATIONARY\n",
      "EnabledSubstate.MOVING_POINT_TO_POINT\n",
      "EnabledSubstate.STATIONARY\n",
      "EnabledSubstate.MOVING_POINT_TO_POINT\n",
      "EnabledSubstate.STATIONARY\n",
      "EnabledSubstate.MOVING_POINT_TO_POINT\n",
      "EnabledSubstate.STATIONARY\n",
      "EnabledSubstate.MOVING_POINT_TO_POINT\n",
      "EnabledSubstate.STATIONARY\n",
      "EnabledSubstate.MOVING_POINT_TO_POINT\n",
      "EnabledSubstate.STATIONARY\n",
      "EnabledSubstate.MOVING_POINT_TO_POINT\n",
      "EnabledSubstate.STATIONARY\n",
      "EnabledSubstate.MOVING_POINT_TO_POINT\n",
      "EnabledSubstate.STATIONARY\n",
      "EnabledSubstate.MOVING_POINT_TO_POINT\n",
      "EnabledSubstate.STATIONARY\n",
      "EnabledSubstate.MOVING_POINT_TO_POINT\n",
      "EnabledSubstate.STATIONARY\n",
      "EnabledSubstate.MOVING_POINT_TO_POINT\n",
      "EnabledSubstate.STATIONARY\n",
      "EnabledSubstate.MOVING_POINT_TO_POINT\n",
      "EnabledSubstate.STATIONARY\n",
      "EnabledSubstate.MOVING_POINT_TO_POINT\n",
      "EnabledSubstate.STATIONARY\n",
      "EnabledSubstate.MOVING_POINT_TO_POINT\n",
      "EnabledSubstate.STATIONARY\n",
      "EnabledSubstate.MOVING_POINT_TO_POINT\n",
      "EnabledSubstate.STATIONARY\n",
      "EnabledSubstate.MOVING_POINT_TO_POINT\n",
      "EnabledSubstate.STATIONARY\n",
      "EnabledSubstate.MOVING_POINT_TO_POINT\n",
      "EnabledSubstate.STATIONARY\n",
      "EnabledSubstate.MOVING_POINT_TO_POINT\n",
      "EnabledSubstate.STATIONARY\n",
      "EnabledSubstate.MOVING_POINT_TO_POINT\n",
      "EnabledSubstate.STATIONARY\n",
      "EnabledSubstate.MOVING_POINT_TO_POINT\n",
      "EnabledSubstate.STATIONARY\n",
      "EnabledSubstate.MOVING_POINT_TO_POINT\n",
      "EnabledSubstate.STATIONARY\n",
      "EnabledSubstate.MOVING_POINT_TO_POINT\n",
      "EnabledSubstate.STATIONARY\n",
      "EnabledSubstate.MOVING_POINT_TO_POINT\n",
      "EnabledSubstate.STATIONARY\n",
      "EnabledSubstate.MOVING_POINT_TO_POINT\n",
      "EnabledSubstate.STATIONARY\n",
      "EnabledSubstate.MOVING_POINT_TO_POINT\n",
      "EnabledSubstate.STATIONARY\n",
      "EnabledSubstate.MOVING_POINT_TO_POINT\n",
      "EnabledSubstate.STATIONARY\n",
      "EnabledSubstate.MOVING_POINT_TO_POINT\n",
      "EnabledSubstate.STATIONARY\n",
      "EnabledSubstate.MOVING_POINT_TO_POINT\n",
      "EnabledSubstate.STATIONARY\n",
      "EnabledSubstate.MOVING_POINT_TO_POINT\n",
      "EnabledSubstate.STATIONARY\n",
      "EnabledSubstate.MOVING_POINT_TO_POINT\n",
      "EnabledSubstate.STATIONARY\n",
      "EnabledSubstate.MOVING_POINT_TO_POINT\n",
      "EnabledSubstate.STATIONARY\n",
      "EnabledSubstate.MOVING_POINT_TO_POINT\n",
      "EnabledSubstate.STATIONARY\n",
      "EnabledSubstate.MOVING_POINT_TO_POINT\n",
      "EnabledSubstate.STATIONARY\n",
      "EnabledSubstate.MOVING_POINT_TO_POINT\n",
      "EnabledSubstate.STATIONARY\n",
      "EnabledSubstate.MOVING_POINT_TO_POINT\n",
      "EnabledSubstate.STATIONARY\n",
      "EnabledSubstate.MOVING_POINT_TO_POINT\n",
      "EnabledSubstate.STATIONARY\n",
      "EnabledSubstate.MOVING_POINT_TO_POINT\n",
      "EnabledSubstate.STATIONARY\n",
      "EnabledSubstate.MOVING_POINT_TO_POINT\n",
      "EnabledSubstate.STATIONARY\n",
      "EnabledSubstate.MOVING_POINT_TO_POINT\n",
      "EnabledSubstate.STATIONARY\n",
      "EnabledSubstate.MOVING_POINT_TO_POINT\n",
      "EnabledSubstate.STATIONARY\n",
      "EnabledSubstate.MOVING_POINT_TO_POINT\n",
      "EnabledSubstate.STATIONARY\n",
      "EnabledSubstate.MOVING_POINT_TO_POINT\n",
      "EnabledSubstate.STATIONARY\n",
      "EnabledSubstate.MOVING_POINT_TO_POINT\n",
      "EnabledSubstate.STATIONARY\n",
      "EnabledSubstate.MOVING_POINT_TO_POINT\n",
      "EnabledSubstate.STATIONARY\n",
      "EnabledSubstate.MOVING_POINT_TO_POINT\n",
      "EnabledSubstate.STATIONARY\n",
      "EnabledSubstate.MOVING_POINT_TO_POINT\n",
      "EnabledSubstate.STATIONARY\n",
      "EnabledSubstate.MOVING_POINT_TO_POINT\n",
      "EnabledSubstate.STATIONARY\n",
      "EnabledSubstate.MOVING_POINT_TO_POINT\n",
      "EnabledSubstate.STATIONARY\n",
      "EnabledSubstate.MOVING_POINT_TO_POINT\n",
      "EnabledSubstate.STATIONARY\n",
      "EnabledSubstate.MOVING_POINT_TO_POINT\n",
      "EnabledSubstate.STATIONARY\n",
      "EnabledSubstate.MOVING_POINT_TO_POINT\n",
      "EnabledSubstate.STATIONARY\n"
     ]
    }
   ],
   "source": [
    "await hexapod_csc.cmd_clearError.set_start() # This clears the error"
   ]
  },
  {
   "cell_type": "markdown",
   "metadata": {},
   "source": [
    "# thermal sensors\n",
    "Check the chronograph manually for the temperature sensors to be below 19C, if not wait until they are all below 19C. Enter in the data at the 39 second mark\n",
    "\n",
    "|Actuator 1 (C)|Actuator 2 (C) | Actuator 3 (C) | Actuator 4 (C) | Actuator 5 (C) | Actuator 6 (C)|\n",
    "|--------------|---------------|----------------|----------------|----------------|---------------|\n",
    "| 0 | 0 | 0 | 0 | 0 | 0 |"
   ]
  },
  {
   "cell_type": "code",
   "execution_count": 47,
   "metadata": {},
   "outputs": [],
   "source": [
    "# Step skiped see deviation LVV-T1802 Test Step 5                                  \n",
    "#hexapod_csc.evt_controllerState.callback = enabled_substate_callback                                \n",
    "#await hexapod_csc.cmd_move.set_start(x=6700,y=0,z=5900, u=0.12,v=0,w=0,sync=True)\n",
    "\n"
   ]
  },
  {
   "cell_type": "code",
   "execution_count": 87,
   "metadata": {
    "scrolled": true
   },
   "outputs": [
    {
     "data": {
      "text/plain": [
       "<ddsutil.MTHexapod_ackcmd_da0a635d at 0x7ff6af094bb0>"
      ]
     },
     "execution_count": 87,
     "metadata": {},
     "output_type": "execute_result"
    },
    {
     "name": "stdout",
     "output_type": "stream",
     "text": [
      "EnabledSubstate.STATIONARY\n"
     ]
    }
   ],
   "source": [
    "await hexapod_csc.cmd_stop.set_start()"
   ]
  },
  {
   "cell_type": "code",
   "execution_count": 101,
   "metadata": {},
   "outputs": [
    {
     "data": {
      "text/plain": [
       "<ddsutil.MTHexapod_ackcmd_da0a635d at 0x7ff695e058b0>"
      ]
     },
     "execution_count": 101,
     "metadata": {},
     "output_type": "execute_result"
    },
    {
     "name": "stdout",
     "output_type": "stream",
     "text": [
      "EnabledSubstate.MOVING_POINT_TO_POINT\n",
      "EnabledSubstate.STATIONARY\n"
     ]
    }
   ],
   "source": [
    "await hexapod_csc.cmd_move.set_start(x=0,y=0,z=0, u=0,v=0,w=0,sync=True)"
   ]
  },
  {
   "cell_type": "code",
   "execution_count": 19,
   "metadata": {},
   "outputs": [
    {
     "name": "stdout",
     "output_type": "stream",
     "text": [
      "hex position\n",
      "      0.05        0.30       -0.36       -0.00        0.00        0.00  \n",
      "\n",
      "EnabledSubstate.MOVING_POINT_TO_POINT\n",
      "EnabledSubstate.STATIONARY\n",
      "hex position\n",
      "    500.24     -500.36      199.90        0.01       -0.02        0.00  \n",
      "\n"
     ]
    }
   ],
   "source": [
    "script.log.info(f\"START- {test_message} -- LVV-T1802 Test Step 7\")\n",
    "\n",
    "pos = await hexapod_csc.tel_application.aget(timeout=10.)\n",
    "print('hex position')\n",
    "for i in range(6):\n",
    "    print('%10.2f '%pos.position[i], end= ' ')\n",
    "print('\\n')\n",
    "\n",
    "hexapod_csc.evt_controllerState.callback = enabled_substate_callback                                \n",
    "await hexapod_csc.cmd_move.set_start(x=500,y=-500,z=200, u=0.01,v=-0.015,w=0,sync=True)\n",
    "await asyncio.sleep(15.)\n",
    "pos = await hexapod_csc.tel_application.aget(timeout=10.)\n",
    "print('hex position')\n",
    "for i in range(6):\n",
    "    print('%10.2f '%pos.position[i], end= ' ')\n",
    "print('\\n')\n",
    "\n",
    "script.log.info(f\"STOP- {test_message} -- LVV-T1802 Test Step 7\")\n"
   ]
  },
  {
   "cell_type": "code",
   "execution_count": 20,
   "metadata": {},
   "outputs": [],
   "source": [
    "await asyncio.sleep(STD_WAIT)\n",
    "# thermal sensors"
   ]
  },
  {
   "cell_type": "markdown",
   "metadata": {},
   "source": [
    "# thermal sensors\n",
    "Check the chronograph manually for the temperature sensors to be below 19C, if not wait until they are all below 19C. Enter in the data at the 39 second mark\n",
    "\n",
    "|Actuator 1 (C)|Actuator 2 (C) | Actuator 3 (C) | Actuator 4 (C) | Actuator 5 (C) | Actuator 6 (C)|\n",
    "|--------------|---------------|----------------|----------------|----------------|---------------|\n",
    "| 0 | 0 | 0 | 0 | 0 | 0 |"
   ]
  },
  {
   "cell_type": "code",
   "execution_count": 21,
   "metadata": {},
   "outputs": [],
   "source": [
    "# thermal sensors"
   ]
  },
  {
   "cell_type": "markdown",
   "metadata": {},
   "source": [
    "This block moves the hexapod to a large position but stops it after waiting 3 seconds"
   ]
  },
  {
   "cell_type": "code",
   "execution_count": 53,
   "metadata": {},
   "outputs": [
    {
     "name": "stderr",
     "output_type": "stream",
     "text": [
      "INFO:Script:START- M2 Hexapod Integration Test -- LVV-T1802 Test Step 11\n"
     ]
    },
    {
     "name": "stdout",
     "output_type": "stream",
     "text": [
      "hex position\n",
      "      0.16        0.45       -0.34       -0.00        0.00        0.00  \n",
      "\n",
      "EnabledSubstate.MOVING_POINT_TO_POINT\n",
      "EnabledSubstate.STATIONARY\n"
     ]
    },
    {
     "name": "stderr",
     "output_type": "stream",
     "text": [
      "INFO:Script:STOP- M2 Hexapod Integration Test -- LVV-T1802 Test Step 11\n"
     ]
    },
    {
     "name": "stdout",
     "output_type": "stream",
     "text": [
      "hex position\n",
      "     -9.43       17.09     1241.17        0.00       -0.00        0.00  \n",
      "\n",
      "EnabledSubstate.STATIONARY\n"
     ]
    }
   ],
   "source": [
    "script.log.info(f\"START- {test_message} -- LVV-T1802 Test Step 11\")\n",
    "\n",
    "pos = await hexapod_csc.tel_application.aget(timeout=10.)\n",
    "print('hex position')\n",
    "for i in range(6):\n",
    "    print('%10.2f '%pos.position[i], end= ' ')\n",
    "print('\\n')\n",
    "\n",
    "await hexapod_csc.cmd_move.set_start(x=0,y=0,z=5000,u=0,v=0,w=0,sync=True)\n",
    "await asyncio.sleep(3)\n",
    "await hexapod_csc.cmd_stop.set_start()\n",
    "\n",
    "await asyncio.sleep(15.)\n",
    "\n",
    "pos = await hexapod_csc.tel_application.aget(timeout=10.)\n",
    "print('hex position')\n",
    "for i in range(6):\n",
    "    print('%10.2f '%pos.position[i], end= ' ')\n",
    "print('\\n')\n",
    "\n",
    "\n",
    "#cs = await hexapod_csc.evt_controllerState.aget()\n",
    "#print(MTHexapod.EnabledSubstate(cs.enabledSubstate))\n",
    "#if cs.enabledSubstate != MTHexapod.EnabledSubstate.CONTROLLED_STOPPING:\n",
    "#     raise Exception(f\"Controller's substate is not {MTHexapod.EnabledSubstate.CONTROLLED_STOPPING}. It is {MTHexapod.EnabledSubstate(cs.enabledSubstate)}\")\n",
    "\n",
    "# cs = await hexapod_csc.evt_controllerSubstate.aget()\n",
    "# print(MTHexapod.EnabledSubstate(cs.enabledSubstate))\n",
    "# if cs.enabledSubstate != MTHexapod.EnabledSubstate.STATIONARY:\n",
    "#     raise Exception(f\"Controller's substate is not {MTHexapod.EnabledSubstate.STATIONARY}. It is {MtHexapod.EnabledSubstate(cs.enabledSubstate)}\")\n",
    "\n",
    "script.log.info(f\"STOP- {test_message} -- LVV-T1802 Test Step 11\")\n"
   ]
  },
  {
   "cell_type": "code",
   "execution_count": 54,
   "metadata": {},
   "outputs": [],
   "source": [
    "#Step 15\n",
    "await asyncio.sleep(STD_WAIT)"
   ]
  },
  {
   "cell_type": "markdown",
   "metadata": {},
   "source": [
    "# thermal sensors\n",
    "Check the chronograph manually for the temperature sensors to be below 19C, if not wait until they are all below 19C. Enter in the data at the 39 second mark\n",
    "\n",
    "|Actuator 1 (C)|Actuator 2 (C) | Actuator 3 (C) | Actuator 4 (C) | Actuator 5 (C) | Actuator 6 (C)|\n",
    "|--------------|---------------|----------------|----------------|----------------|---------------|\n",
    "| 0 | 0 | 0 | 0 | 0 | 0 |"
   ]
  },
  {
   "cell_type": "code",
   "execution_count": 103,
   "metadata": {},
   "outputs": [
    {
     "data": {
      "text/plain": [
       "<ddsutil.MTHexapod_ackcmd_da0a635d at 0x7ff6afeb7a30>"
      ]
     },
     "execution_count": 103,
     "metadata": {},
     "output_type": "execute_result"
    },
    {
     "name": "stdout",
     "output_type": "stream",
     "text": [
      "EnabledSubstate.MOVING_POINT_TO_POINT\n",
      "EnabledSubstate.STATIONARY\n"
     ]
    }
   ],
   "source": [
    "await hexapod_csc.cmd_move.set_start(x=0,y=0,z=0, u=0,v=0,w=0,sync=True)"
   ]
  },
  {
   "cell_type": "code",
   "execution_count": 75,
   "metadata": {},
   "outputs": [
    {
     "name": "stdout",
     "output_type": "stream",
     "text": [
      "EnabledSubstate.STATIONARY\n"
     ]
    }
   ],
   "source": [
    "await asyncio.sleep(STD_WAIT)"
   ]
  },
  {
   "cell_type": "markdown",
   "metadata": {},
   "source": [
    "This block moves the hexapod via the lookup table:"
   ]
  },
  {
   "cell_type": "code",
   "execution_count": 117,
   "metadata": {
    "scrolled": true
   },
   "outputs": [
    {
     "name": "stderr",
     "output_type": "stream",
     "text": [
      "INFO:Script:START- M2 Hexapod Integration Test -- LVV-T1802 Test Step 17\n"
     ]
    },
    {
     "name": "stdout",
     "output_type": "stream",
     "text": [
      "EnabledSubstate.MOVING_POINT_TO_POINT\n",
      "EnabledSubstate.STATIONARY\n",
      "hex position\n",
      "     -0.09        0.00      799.94       -0.00       -0.00        0.00  \n",
      "\n",
      "compsensation mode enabled? True\n",
      "hex position\n",
      "     -0.09        0.00      799.94       -0.00       -0.00        0.00  \n",
      "\n",
      "EnabledSubstate.MOVING_POINT_TO_POINT\n",
      "EnabledSubstate.STATIONARY\n",
      "EnabledSubstate.MOVING_POINT_TO_POINT\n",
      "EnabledSubstate.STATIONARY\n",
      "EnabledSubstate.MOVING_POINT_TO_POINT\n",
      "EnabledSubstate.STATIONARY\n",
      "EnabledSubstate.MOVING_POINT_TO_POINT\n",
      "EnabledSubstate.STATIONARY\n",
      "EnabledSubstate.MOVING_POINT_TO_POINT\n",
      "EnabledSubstate.STATIONARY\n",
      "EnabledSubstate.MOVING_POINT_TO_POINT\n",
      "EnabledSubstate.STATIONARY\n",
      "EnabledSubstate.MOVING_POINT_TO_POINT\n",
      "EnabledSubstate.STATIONARY\n",
      "EnabledSubstate.MOVING_POINT_TO_POINT\n",
      "EnabledSubstate.STATIONARY\n",
      "EnabledSubstate.MOVING_POINT_TO_POINT\n",
      "EnabledSubstate.STATIONARY\n",
      "EnabledSubstate.MOVING_POINT_TO_POINT\n",
      "EnabledSubstate.STATIONARY\n",
      "EnabledSubstate.MOVING_POINT_TO_POINT\n",
      "EnabledSubstate.STATIONARY\n",
      "EnabledSubstate.MOVING_POINT_TO_POINT\n",
      "EnabledSubstate.STATIONARY\n",
      "EnabledSubstate.MOVING_POINT_TO_POINT\n"
     ]
    },
    {
     "name": "stderr",
     "output_type": "stream",
     "text": [
      "INFO:Script:STOP- M2 Hexapod Integration Test -- LVV-T1802 Test Step 17\n"
     ]
    },
    {
     "name": "stdout",
     "output_type": "stream",
     "text": [
      "hex position\n",
      "     -0.09        0.00      799.94       -0.00       -0.00        0.00  \n",
      "\n",
      "compsensation mode enabled? False\n",
      "EnabledSubstate.STATIONARY\n"
     ]
    }
   ],
   "source": [
    "#This command is obsolete\n",
    "#await hexapod_csc.cmd_moveLUT.set_start(az=180,elev=60, temp=10)\n",
    "\n",
    "script.log.info(f\"START- {test_message} -- LVV-T1802 Test Step 17\")\n",
    "await hexapod_csc.cmd_move.set_start(x=0,y=0,z=800,u=0,v=0,w=0,sync=True)\n",
    "await asyncio.sleep(10)\n",
    "pos = await hexapod_csc.tel_application.aget(timeout=10.)\n",
    "print('hex position')\n",
    "for i in range(6):\n",
    "    print('%10.2f '%pos.position[i], end= ' ')\n",
    "print('\\n')\n",
    "\n",
    "\n",
    "\n",
    "#Switch CompensationMode on\n",
    "await hexapod_csc.cmd_setCompensationMode.set_start(enable=True)\n",
    "\n",
    "lutMode = await hexapod_csc.evt_compensationMode.aget(timeout=10)\n",
    "print(\"compsensation mode enabled?\",lutMode.enabled)\n",
    "\n",
    "pos = await hexapod_csc.tel_application.aget(timeout=10.)\n",
    "print('hex position')\n",
    "for i in range(6):\n",
    "    print('%10.2f '%pos.position[i], end= ' ')\n",
    "print('\\n')\n",
    "await asyncio.sleep(10.)\n",
    "\n",
    "\n",
    "#move the hexapod Not allowed here! First leave compensation mode than move to new postion!!! Otherwise the you hexpod gets stuck in compensation  mode\n",
    "#await hexapod_csc.cmd_move.set_start(x=0,y=0,z=800,u=0,v=0,w=0,sync=True)\n",
    "\n",
    "#await asyncio.sleep(10.)\n",
    "\n",
    "pos = await hexapod_csc.tel_application.aget(timeout=10.)\n",
    "print('hex position')\n",
    "for i in range(6):\n",
    "    print('%10.2f '%pos.position[i], end= ' ')\n",
    "print('\\n')\n",
    "\n",
    "#Switch CompensationMode off \n",
    "await hexapod_csc.cmd_setCompensationMode.set_start(enable=False)\n",
    "lutMode = await hexapod_csc.evt_compensationMode.aget(timeout=10)\n",
    "print(\"compsensation mode enabled?\",lutMode.enabled)\n",
    "\n",
    "script.log.info(f\"STOP- {test_message} -- LVV-T1802 Test Step 17\")"
   ]
  },
  {
   "cell_type": "code",
   "execution_count": 116,
   "metadata": {
    "scrolled": true
   },
   "outputs": [
    {
     "name": "stdout",
     "output_type": "stream",
     "text": [
      "EnabledSubstate.MOVING_POINT_TO_POINT\n"
     ]
    },
    {
     "data": {
      "text/plain": [
       "<ddsutil.MTHexapod_ackcmd_da0a635d at 0x7ff695f67bb0>"
      ]
     },
     "execution_count": 116,
     "metadata": {},
     "output_type": "execute_result"
    },
    {
     "name": "stdout",
     "output_type": "stream",
     "text": [
      "EnabledSubstate.STATIONARY\n"
     ]
    }
   ],
   "source": [
    "await hexapod_csc.cmd_setCompensationMode.set_start(enable=False)\n"
   ]
  },
  {
   "cell_type": "code",
   "execution_count": 118,
   "metadata": {},
   "outputs": [
    {
     "name": "stdout",
     "output_type": "stream",
     "text": [
      "hex position\n",
      "     -0.08        0.01      799.94       -0.00       -0.00        0.00  \n",
      "\n"
     ]
    }
   ],
   "source": [
    "pos = await hexapod_csc.tel_application.aget(timeout=10.)\n",
    "print('hex position')\n",
    "for i in range(6):\n",
    "    print('%10.2f '%pos.position[i], end= ' ')\n",
    "print('\\n')"
   ]
  },
  {
   "cell_type": "code",
   "execution_count": 119,
   "metadata": {},
   "outputs": [
    {
     "name": "stdout",
     "output_type": "stream",
     "text": [
      "Compensated position\n",
      "      0.00        0.00      800.00        0.00        0.00        0.00  \n",
      "\n",
      "Uncompensated position\n",
      "      0.00        0.00      800.00        0.00        0.00        0.00  \n",
      "\n"
     ]
    }
   ],
   "source": [
    "posC = await hexapod_csc.evt_compensatedPosition.aget(timeout=10.)\n",
    "print('Compensated position')\n",
    "for i in 'xyzuvw':\n",
    "    print('%10.2f '%getattr(posC, i), end= ' ')\n",
    "print('\\n')\n",
    "posU = await hexapod_csc.evt_uncompensatedPosition.aget(timeout=10.)\n",
    "print('Uncompensated position')\n",
    "for i in 'xyzuvw':\n",
    "    print('%10.2f '%getattr(posU, i), end= ' ')\n",
    "print('\\n')"
   ]
  },
  {
   "cell_type": "markdown",
   "metadata": {},
   "source": [
    "Analysis of the LUT correction"
   ]
  },
  {
   "cell_type": "code",
   "execution_count": 120,
   "metadata": {},
   "outputs": [
    {
     "name": "stdout",
     "output_type": "stream",
     "text": [
      "/home/hdrass/notebooks/ts_config_mttcs/MTHexapod/v1/default.yaml\n"
     ]
    }
   ],
   "source": [
    "LUTfile = '%s/notebooks/ts_config_mttcs/MTHexapod/v1/default.yaml'%(os.environ[\"HOME\"])\n",
    "print(LUTfile)\n",
    "with open(LUTfile, 'r') as stream:\n",
    "    aa = yaml.safe_load(stream)\n",
    "if hexapod_csc.salinfo.index == 1:\n",
    "    elevCoeff = aa['camera_config']['elevation_coeffs']\n",
    "    tCoeff = aa['camera_config']['temperature_coeffs']\n",
    "elif hexapod_csc.salinfo.index == 2:\n",
    "    elevCoeff = aa['m2_config']['elevation_coeffs']\n",
    "    tCoeff = aa['m2_config']['temperature_coeffs']"
   ]
  },
  {
   "cell_type": "code",
   "execution_count": 121,
   "metadata": {},
   "outputs": [
    {
     "name": "stdout",
     "output_type": "stream",
     "text": [
      "Predicted LUT compensation:\n",
      "     -1.84     -572.57      304.70       -0.01        0.00        0.00  \n",
      "\n",
      "Actual LUT compensation:\n",
      "      0.00        0.00      800.00        0.00        0.00        0.00  \n",
      "\n"
     ]
    }
   ],
   "source": [
    "pred = []\n",
    "elev=89.999\n",
    "print('Predicted LUT compensation:')\n",
    "for i in range(6):\n",
    "    coeff = elevCoeff[i] #starts with C0\n",
    "    mypoly = np.poly1d(coeff[::-1]) #poly1d needs C5 first\n",
    "    pred.append(mypoly(elev))\n",
    "    print('%10.2f '%pred[i], end= ' ')\n",
    "print('\\n')\n",
    "print('Actual LUT compensation:')\n",
    "for i in 'xyzuvw':\n",
    "    print('%10.2f '%getattr(posC, i), end= ' ')\n",
    "print('\\n')"
   ]
  },
  {
   "cell_type": "code",
   "execution_count": 95,
   "metadata": {},
   "outputs": [],
   "source": [
    "#Step 22\n",
    "await asyncio.sleep(STD_WAIT)\n",
    "# thermal sensors"
   ]
  },
  {
   "cell_type": "markdown",
   "metadata": {},
   "source": [
    "# thermal sensors\n",
    "Check the chronograph manually for the temperature sensors to be below 19C, if not wait until they are all below 19C. Enter in the data at the 39 second mark\n",
    "\n",
    "|Actuator 1 (C)|Actuator 2 (C) | Actuator 3 (C) | Actuator 4 (C) | Actuator 5 (C) | Actuator 6 (C)|\n",
    "|--------------|---------------|----------------|----------------|----------------|---------------|\n",
    "| 0 | 0 | 0 | 0 | 0 | 0 |"
   ]
  },
  {
   "cell_type": "code",
   "execution_count": 100,
   "metadata": {},
   "outputs": [
    {
     "name": "stderr",
     "output_type": "stream",
     "text": [
      "INFO:Script:START- M2 Hexapod Integration Test -- LVV-T1802 Test Step 24\n"
     ]
    },
    {
     "name": "stdout",
     "output_type": "stream",
     "text": [
      "hex position\n",
      "     -0.03       -0.21       -0.22        0.00        0.00        0.00  \n",
      "\n",
      "EnabledSubstate.MOVING_POINT_TO_POINT\n",
      "EnabledSubstate.STATIONARY\n",
      "hex position\n",
      "    500.05      800.33      199.87       -0.00       -0.00        0.00  \n",
      "\n",
      "EnabledSubstate.MOVING_POINT_TO_POINT\n",
      "EnabledSubstate.STATIONARY\n"
     ]
    },
    {
     "name": "stderr",
     "output_type": "stream",
     "text": [
      "INFO:Script:STOP- M2 Hexapod Integration Test -- LVV-T1802 Test Step 24\n"
     ]
    },
    {
     "name": "stdout",
     "output_type": "stream",
     "text": [
      "hex position\n",
      "    500.37      799.63      699.90       -0.00       -0.00       -0.00  \n",
      "\n"
     ]
    }
   ],
   "source": [
    "script.log.info(f\"START- {test_message} -- LVV-T1802 Test Step 24\")\n",
    "\n",
    "pos = await hexapod_csc.tel_application.aget(timeout=10.)\n",
    "print('hex position')\n",
    "for i in range(6):\n",
    "    print('%10.2f '%pos.position[i], end= ' ')\n",
    "print('\\n')\n",
    "\n",
    "\n",
    "await hexapod_csc.cmd_move.set_start(x=500,y=800,z=200,u=0,v=0,w=0,sync=True)\n",
    "await asyncio.sleep(10.)\n",
    "\n",
    "pos = await hexapod_csc.tel_application.aget(timeout=10.)\n",
    "print('hex position')\n",
    "for i in range(6):\n",
    "    print('%10.2f '%pos.position[i], end= ' ')\n",
    "print('\\n')\n",
    "\n",
    "await hexapod_csc.cmd_offset.set_start(x=0,y=0,z=500,u=0,v=0,w=0,sync=True)\n",
    "await asyncio.sleep(10.)\n",
    "\n",
    "pos = await hexapod_csc.tel_application.aget(timeout=10.)\n",
    "print('hex position')\n",
    "for i in range(6):\n",
    "    print('%10.2f '%pos.position[i], end= ' ')\n",
    "print('\\n')\n",
    "\n",
    "script.log.info(f\"STOP- {test_message} -- LVV-T1802 Test Step 24\")\n",
    "\n",
    "\n",
    "# cs = await MThexapod_csc.evt_controllerState.aget()\n",
    "# if cs.enabledSubstate != MThexapod.SetEnabledSubstateParam.MOVE_POINT_TO_POINT:\n",
    "#     raise Exception(f\"Controller's substate is not {MThexapod.SetEnabledSubstateParam.MOVE_POINT_TO_POINT}. It is {MThexapod.SetEnabledSubstateParam(cs.enabledSubstate)}\")\n",
    "# cs = await MThexapod_csc.evt_controllerSubstate.aget()\n",
    "# if cs.enabledSubstate != MThexapod.SetEnabledSubstateParam.STATIONARY:\n",
    "#     raise Exception(f\"Controller's substate is not {MThexapod.SetEnabledSubstateParam.STATIONARY}. It is {MThexapod.SetEnabledSubstateParam(cs.enabledSubstate)}\")\n",
    "# in_position = await MThexapod_csc.evt_inPosition.aget(timeout=10)\n",
    "# if in_position.inPosition is False:\n",
    "#     raise Exception(\"Controller not in position.\")"
   ]
  },
  {
   "cell_type": "code",
   "execution_count": null,
   "metadata": {},
   "outputs": [],
   "source": [
    "#Step 27\n",
    "await asyncio.sleep(STD_WAIT)"
   ]
  },
  {
   "cell_type": "code",
   "execution_count": 104,
   "metadata": {},
   "outputs": [
    {
     "name": "stderr",
     "output_type": "stream",
     "text": [
      "INFO:Script:START- M2 Hexapod Integration Test -- LVV-T1802 Test Step 29\n"
     ]
    },
    {
     "name": "stdout",
     "output_type": "stream",
     "text": [
      "EnabledSubstate.MOVING_POINT_TO_POINT\n",
      "EnabledSubstate.STATIONARY\n",
      "hex position\n",
      "   2000.33    -3500.21      199.97        0.01       -0.05        0.00  \n",
      "\n",
      "EnabledSubstate.MOVING_POINT_TO_POINT\n",
      "EnabledSubstate.STATIONARY\n",
      "hex position\n",
      "   2000.33    -3500.18      199.96        0.01       -0.05        0.00  \n",
      "\n"
     ]
    },
    {
     "name": "stderr",
     "output_type": "stream",
     "text": [
      "INFO:Script:STOP- M2 Hexapod Integration Test -- LVV-T1802 Test Step 29\n"
     ]
    },
    {
     "name": "stdout",
     "output_type": "stream",
     "text": [
      "hex position\n",
      "   2000.33    -3500.18      199.96        0.01       -0.05        0.00  \n",
      "\n"
     ]
    }
   ],
   "source": [
    "script.log.info(f\"START- {test_message} -- LVV-T1802 Test Step 29\")\n",
    "#Step 29\n",
    "await hexapod_csc.cmd_move.set_start(x=2000,y=-3500,z=200,u=0.01,v=-0.05,w=0.002,sync=True)\n",
    "await asyncio.sleep(10.)\n",
    "pos = await hexapod_csc.tel_application.aget(timeout=10.)\n",
    "print('hex position')\n",
    "for i in range(6):\n",
    "    print('%10.2f '%pos.position[i], end= ' ')\n",
    "print('\\n')\n",
    "\n",
    "#Step 30 -- set a new Pivot point\n",
    "await hexapod_csc.cmd_setPivot.set_start(x=0,y=0,z=0)\n",
    "await asyncio.sleep(10.)\n",
    "#Step 31\n",
    "await hexapod_csc.cmd_move.set_start(x=2000,y=-3500,z=200,u=0.01,v=-0.05,w=0.002,sync=True)\n",
    "await asyncio.sleep(10.)\n",
    "pos = await hexapod_csc.tel_application.aget(timeout=10.)\n",
    "print('hex position')\n",
    "for i in range(6):\n",
    "    print('%10.2f '%pos.position[i], end= ' ')\n",
    "print('\\n')\n",
    "await asyncio.sleep(10.)\n",
    "#Set the pivot point back to the original value (0.703m in um)\n",
    "await hexapod_csc.cmd_setPivot.set_start(x=0,y=0,z=703000)\n",
    "pos = await hexapod_csc.tel_application.aget(timeout=10.)\n",
    "print('hex position')\n",
    "for i in range(6):\n",
    "    print('%10.2f '%pos.position[i], end= ' ')\n",
    "print('\\n')\n",
    "script.log.info(f\"STOP- {test_message} -- LVV-T1802 Test Step 29\")"
   ]
  },
  {
   "cell_type": "markdown",
   "metadata": {},
   "source": [
    "# thermal sensors\n",
    "Check the chronograph manually for the temperature sensors to be below 19C, if not wait until they are all below 19C. Enter in the data at the 39 second mark\n",
    "\n",
    "|Actuator 1 (C)|Actuator 2 (C) | Actuator 3 (C) | Actuator 4 (C) | Actuator 5 (C) | Actuator 6 (C)|\n",
    "|--------------|---------------|----------------|----------------|----------------|---------------|\n",
    "| 0 | 0 | 0 | 0 | 0 | 0 |"
   ]
  },
  {
   "cell_type": "code",
   "execution_count": 122,
   "metadata": {},
   "outputs": [
    {
     "name": "stderr",
     "output_type": "stream",
     "text": [
      "INFO:Script:START- M2 Hexapod Integration Test -- LVV-T1802 Endurance Test\n"
     ]
    },
    {
     "name": "stdout",
     "output_type": "stream",
     "text": [
      "EnabledSubstate.MOVING_POINT_TO_POINT\n",
      "EnabledSubstate.STATIONARY\n",
      "EnabledSubstate.MOVING_POINT_TO_POINT\n",
      "EnabledSubstate.STATIONARY\n",
      "EnabledSubstate.MOVING_POINT_TO_POINT\n",
      "EnabledSubstate.STATIONARY\n",
      "EnabledSubstate.MOVING_POINT_TO_POINT\n",
      "EnabledSubstate.STATIONARY\n",
      "EnabledSubstate.MOVING_POINT_TO_POINT\n",
      "EnabledSubstate.STATIONARY\n",
      "EnabledSubstate.MOVING_POINT_TO_POINT\n",
      "EnabledSubstate.STATIONARY\n",
      "EnabledSubstate.MOVING_POINT_TO_POINT\n",
      "EnabledSubstate.STATIONARY\n",
      "EnabledSubstate.MOVING_POINT_TO_POINT\n",
      "EnabledSubstate.STATIONARY\n",
      "EnabledSubstate.MOVING_POINT_TO_POINT\n",
      "EnabledSubstate.STATIONARY\n",
      "EnabledSubstate.MOVING_POINT_TO_POINT\n",
      "EnabledSubstate.STATIONARY\n",
      "EnabledSubstate.MOVING_POINT_TO_POINT\n",
      "EnabledSubstate.STATIONARY\n",
      "EnabledSubstate.MOVING_POINT_TO_POINT\n",
      "EnabledSubstate.STATIONARY\n",
      "EnabledSubstate.MOVING_POINT_TO_POINT\n",
      "EnabledSubstate.STATIONARY\n",
      "EnabledSubstate.MOVING_POINT_TO_POINT\n",
      "EnabledSubstate.STATIONARY\n",
      "EnabledSubstate.MOVING_POINT_TO_POINT\n",
      "EnabledSubstate.STATIONARY\n",
      "EnabledSubstate.STATIONARY\n"
     ]
    },
    {
     "ename": "AckError",
     "evalue": "msg='Command failed', ackcmd=(ackcmd private_seqNum=1008276314, ack=<SalRetCode.CMD_FAILED: -302>, error=1, result='Failed: Rejected: initial state is <State.FAULT: 3> instead of <State.ENABLED: 2>')",
     "output_type": "error",
     "traceback": [
      "\u001b[0;31m---------------------------------------------------------------------------\u001b[0m",
      "\u001b[0;31mAckError\u001b[0m                                  Traceback (most recent call last)",
      "\u001b[0;32m<ipython-input-122-ca8539d87a12>\u001b[0m in \u001b[0;36m<module>\u001b[0;34m\u001b[0m\n\u001b[1;32m     34\u001b[0m     \u001b[0;32mawait\u001b[0m \u001b[0mhexapod_csc\u001b[0m\u001b[0;34m.\u001b[0m\u001b[0mcmd_move\u001b[0m\u001b[0;34m.\u001b[0m\u001b[0mset_start\u001b[0m\u001b[0;34m(\u001b[0m\u001b[0mx\u001b[0m\u001b[0;34m=\u001b[0m\u001b[0;34m-\u001b[0m\u001b[0;36m6700\u001b[0m\u001b[0;34m,\u001b[0m\u001b[0my\u001b[0m\u001b[0;34m=\u001b[0m\u001b[0;36m0\u001b[0m\u001b[0;34m,\u001b[0m\u001b[0mz\u001b[0m\u001b[0;34m=\u001b[0m\u001b[0;34m-\u001b[0m\u001b[0;36m5900\u001b[0m\u001b[0;34m,\u001b[0m\u001b[0mu\u001b[0m\u001b[0;34m=\u001b[0m\u001b[0;36m0.12\u001b[0m\u001b[0;34m,\u001b[0m\u001b[0mv\u001b[0m\u001b[0;34m=\u001b[0m\u001b[0;36m0\u001b[0m\u001b[0;34m,\u001b[0m\u001b[0mw\u001b[0m\u001b[0;34m=\u001b[0m\u001b[0;36m0\u001b[0m\u001b[0;34m,\u001b[0m\u001b[0msync\u001b[0m\u001b[0;34m=\u001b[0m\u001b[0;32mTrue\u001b[0m\u001b[0;34m)\u001b[0m\u001b[0;34m\u001b[0m\u001b[0;34m\u001b[0m\u001b[0m\n\u001b[1;32m     35\u001b[0m     \u001b[0;32mawait\u001b[0m \u001b[0masyncio\u001b[0m\u001b[0;34m.\u001b[0m\u001b[0msleep\u001b[0m\u001b[0;34m(\u001b[0m\u001b[0mSTD_WAIT\u001b[0m\u001b[0;34m)\u001b[0m\u001b[0;34m\u001b[0m\u001b[0;34m\u001b[0m\u001b[0m\n\u001b[0;32m---> 36\u001b[0;31m     \u001b[0;32mawait\u001b[0m \u001b[0mhexapod_csc\u001b[0m\u001b[0;34m.\u001b[0m\u001b[0mcmd_move\u001b[0m\u001b[0;34m.\u001b[0m\u001b[0mset_start\u001b[0m\u001b[0;34m(\u001b[0m\u001b[0mx\u001b[0m\u001b[0;34m=\u001b[0m\u001b[0;34m-\u001b[0m\u001b[0;36m6700\u001b[0m\u001b[0;34m,\u001b[0m\u001b[0my\u001b[0m\u001b[0;34m=\u001b[0m\u001b[0;36m0\u001b[0m\u001b[0;34m,\u001b[0m\u001b[0mz\u001b[0m\u001b[0;34m=\u001b[0m\u001b[0;34m-\u001b[0m\u001b[0;36m5900\u001b[0m\u001b[0;34m,\u001b[0m\u001b[0mu\u001b[0m\u001b[0;34m=\u001b[0m\u001b[0;34m-\u001b[0m\u001b[0;36m0.12\u001b[0m\u001b[0;34m,\u001b[0m\u001b[0mv\u001b[0m\u001b[0;34m=\u001b[0m\u001b[0;36m0\u001b[0m\u001b[0;34m,\u001b[0m\u001b[0mw\u001b[0m\u001b[0;34m=\u001b[0m\u001b[0;36m0\u001b[0m\u001b[0;34m,\u001b[0m\u001b[0msync\u001b[0m\u001b[0;34m=\u001b[0m\u001b[0;32mTrue\u001b[0m\u001b[0;34m)\u001b[0m\u001b[0;34m\u001b[0m\u001b[0;34m\u001b[0m\u001b[0m\n\u001b[0m\u001b[1;32m     37\u001b[0m     \u001b[0;32mawait\u001b[0m \u001b[0masyncio\u001b[0m\u001b[0;34m.\u001b[0m\u001b[0msleep\u001b[0m\u001b[0;34m(\u001b[0m\u001b[0mSTD_WAIT\u001b[0m\u001b[0;34m)\u001b[0m\u001b[0;34m\u001b[0m\u001b[0;34m\u001b[0m\u001b[0m\n\u001b[1;32m     38\u001b[0m \u001b[0;34m\u001b[0m\u001b[0m\n",
      "\u001b[0;32m/opt/lsst/src/ts_salobj/python/lsst/ts/salobj/topics/remote_command.py\u001b[0m in \u001b[0;36mset_start\u001b[0;34m(self, timeout, wait_done, **kwargs)\u001b[0m\n\u001b[1;32m    389\u001b[0m         \"\"\"\n\u001b[1;32m    390\u001b[0m         \u001b[0mself\u001b[0m\u001b[0;34m.\u001b[0m\u001b[0mset\u001b[0m\u001b[0;34m(\u001b[0m\u001b[0;34m**\u001b[0m\u001b[0mkwargs\u001b[0m\u001b[0;34m)\u001b[0m\u001b[0;34m\u001b[0m\u001b[0;34m\u001b[0m\u001b[0m\n\u001b[0;32m--> 391\u001b[0;31m         \u001b[0;32mreturn\u001b[0m \u001b[0;32mawait\u001b[0m \u001b[0mself\u001b[0m\u001b[0;34m.\u001b[0m\u001b[0mstart\u001b[0m\u001b[0;34m(\u001b[0m\u001b[0mtimeout\u001b[0m\u001b[0;34m=\u001b[0m\u001b[0mtimeout\u001b[0m\u001b[0;34m,\u001b[0m \u001b[0mwait_done\u001b[0m\u001b[0;34m=\u001b[0m\u001b[0mwait_done\u001b[0m\u001b[0;34m)\u001b[0m\u001b[0;34m\u001b[0m\u001b[0;34m\u001b[0m\u001b[0m\n\u001b[0m\u001b[1;32m    392\u001b[0m \u001b[0;34m\u001b[0m\u001b[0m\n\u001b[1;32m    393\u001b[0m     \u001b[0;32masync\u001b[0m \u001b[0;32mdef\u001b[0m \u001b[0mstart\u001b[0m\u001b[0;34m(\u001b[0m\u001b[0mself\u001b[0m\u001b[0;34m,\u001b[0m \u001b[0mdata\u001b[0m\u001b[0;34m=\u001b[0m\u001b[0;32mNone\u001b[0m\u001b[0;34m,\u001b[0m \u001b[0mtimeout\u001b[0m\u001b[0;34m=\u001b[0m\u001b[0mDEFAULT_TIMEOUT\u001b[0m\u001b[0;34m,\u001b[0m \u001b[0mwait_done\u001b[0m\u001b[0;34m=\u001b[0m\u001b[0;32mTrue\u001b[0m\u001b[0;34m)\u001b[0m\u001b[0;34m:\u001b[0m\u001b[0;34m\u001b[0m\u001b[0;34m\u001b[0m\u001b[0m\n",
      "\u001b[0;32m/opt/lsst/src/ts_salobj/python/lsst/ts/salobj/topics/remote_command.py\u001b[0m in \u001b[0;36mstart\u001b[0;34m(self, data, timeout, wait_done)\u001b[0m\n\u001b[1;32m    444\u001b[0m         )\n\u001b[1;32m    445\u001b[0m         \u001b[0mself\u001b[0m\u001b[0;34m.\u001b[0m\u001b[0msalinfo\u001b[0m\u001b[0;34m.\u001b[0m\u001b[0m_running_cmds\u001b[0m\u001b[0;34m[\u001b[0m\u001b[0mseq_num\u001b[0m\u001b[0;34m]\u001b[0m \u001b[0;34m=\u001b[0m \u001b[0mcmd_info\u001b[0m\u001b[0;34m\u001b[0m\u001b[0;34m\u001b[0m\u001b[0m\n\u001b[0;32m--> 446\u001b[0;31m         \u001b[0;32mreturn\u001b[0m \u001b[0;32mawait\u001b[0m \u001b[0mcmd_info\u001b[0m\u001b[0;34m.\u001b[0m\u001b[0mnext_ackcmd\u001b[0m\u001b[0;34m(\u001b[0m\u001b[0mtimeout\u001b[0m\u001b[0;34m=\u001b[0m\u001b[0mtimeout\u001b[0m\u001b[0;34m)\u001b[0m\u001b[0;34m\u001b[0m\u001b[0;34m\u001b[0m\u001b[0m\n\u001b[0m",
      "\u001b[0;32m/opt/lsst/src/ts_salobj/python/lsst/ts/salobj/topics/remote_command.py\u001b[0m in \u001b[0;36mnext_ackcmd\u001b[0;34m(self, timeout)\u001b[0m\n\u001b[1;32m    181\u001b[0m             \u001b[0mackcmd\u001b[0m \u001b[0;34m=\u001b[0m \u001b[0;32mawait\u001b[0m \u001b[0mself\u001b[0m\u001b[0;34m.\u001b[0m\u001b[0m_wait_task\u001b[0m\u001b[0;34m\u001b[0m\u001b[0;34m\u001b[0m\u001b[0m\n\u001b[1;32m    182\u001b[0m             \u001b[0;32mif\u001b[0m \u001b[0mackcmd\u001b[0m\u001b[0;34m.\u001b[0m\u001b[0mack\u001b[0m \u001b[0;32min\u001b[0m \u001b[0mself\u001b[0m\u001b[0;34m.\u001b[0m\u001b[0mfailed_ack_codes\u001b[0m\u001b[0;34m:\u001b[0m\u001b[0;34m\u001b[0m\u001b[0;34m\u001b[0m\u001b[0m\n\u001b[0;32m--> 183\u001b[0;31m                 \u001b[0;32mraise\u001b[0m \u001b[0mbase\u001b[0m\u001b[0;34m.\u001b[0m\u001b[0mAckError\u001b[0m\u001b[0;34m(\u001b[0m\u001b[0mmsg\u001b[0m\u001b[0;34m=\u001b[0m\u001b[0;34m\"Command failed\"\u001b[0m\u001b[0;34m,\u001b[0m \u001b[0mackcmd\u001b[0m\u001b[0;34m=\u001b[0m\u001b[0mackcmd\u001b[0m\u001b[0;34m)\u001b[0m\u001b[0;34m\u001b[0m\u001b[0;34m\u001b[0m\u001b[0m\n\u001b[0m\u001b[1;32m    184\u001b[0m             \u001b[0;32mreturn\u001b[0m \u001b[0mackcmd\u001b[0m\u001b[0;34m\u001b[0m\u001b[0;34m\u001b[0m\u001b[0m\n\u001b[1;32m    185\u001b[0m         \u001b[0;32mexcept\u001b[0m \u001b[0masyncio\u001b[0m\u001b[0;34m.\u001b[0m\u001b[0mTimeoutError\u001b[0m\u001b[0;34m:\u001b[0m\u001b[0;34m\u001b[0m\u001b[0;34m\u001b[0m\u001b[0m\n",
      "\u001b[0;31mAckError\u001b[0m: msg='Command failed', ackcmd=(ackcmd private_seqNum=1008276314, ack=<SalRetCode.CMD_FAILED: -302>, error=1, result='Failed: Rejected: initial state is <State.FAULT: 3> instead of <State.ENABLED: 2>')"
     ]
    }
   ],
   "source": [
    "\n",
    "\n",
    "script.log.info(f\"START- {test_message} -- LVV-T1802 Endurance Test\")\n",
    "for i in range(100):\n",
    "    await hexapod_csc.cmd_move.set_start(x=6700,y=0,z=5900,u=0,v=0.12,w=0,sync=True)\n",
    "    await asyncio.sleep(STD_WAIT)\n",
    "    await hexapod_csc.cmd_move.set_start(x=6700,y=0,z=5900,u=0,v=-0.12,w=0,sync=True)\n",
    "    await asyncio.sleep(STD_WAIT)\n",
    "    await hexapod_csc.cmd_move.set_start(x=6700,y=0,z=5900,u=0.12,v=0,w=0,sync=True)\n",
    "    await asyncio.sleep(STD_WAIT)\n",
    "    await hexapod_csc.cmd_move.set_start(x=6700,y=0,z=5900,u=-0.12,v=0,w=0,sync=True)\n",
    "    await asyncio.sleep(STD_WAIT)\n",
    "\n",
    "    await hexapod_csc.cmd_move.set_start(x=6700,y=0,z=-5900,u=0,v=0.12,w=0,sync=True)\n",
    "    await asyncio.sleep(STD_WAIT)\n",
    "    await hexapod_csc.cmd_move.set_start(x=6700,y=0,z=-5900,u=0,v=-0.12,w=0,sync=True)\n",
    "    await asyncio.sleep(STD_WAIT)\n",
    "    await hexapod_csc.cmd_move.set_start(x=6700,y=0,z=-5900,u=0.12,v=0,w=0,sync=True)\n",
    "    await asyncio.sleep(STD_WAIT)\n",
    "    await hexapod_csc.cmd_move.set_start(x=6700,y=0,z=-5900,u=-0.12,v=0,w=0,sync=True)\n",
    "    await asyncio.sleep(STD_WAIT)\n",
    "\n",
    "    await hexapod_csc.cmd_move.set_start(x=-6700,y=0,z=5900,u=0,v=0.12,w=0,sync=True)\n",
    "    await asyncio.sleep(STD_WAIT)\n",
    "    await hexapod_csc.cmd_move.set_start(x=-6700,y=0,z=5900,u=0,v=-0.12,w=0,sync=True)\n",
    "    await asyncio.sleep(STD_WAIT)\n",
    "    await hexapod_csc.cmd_move.set_start(x=-6700,y=0,z=5900,u=0.12,v=0,w=0,sync=True)\n",
    "    await asyncio.sleep(STD_WAIT)\n",
    "    await hexapod_csc.cmd_move.set_start(x=-6700,y=0,z=5900,u=-0.12,v=0,w=0,sync=True)\n",
    "    await asyncio.sleep(STD_WAIT)\n",
    "\n",
    "    await hexapod_csc.cmd_move.set_start(x=-6700,y=0,z=-5900,u=0,v=0.12,w=0,sync=True)\n",
    "    await asyncio.sleep(STD_WAIT)\n",
    "    await hexapod_csc.cmd_move.set_start(x=-6700,y=0,z=-5900,u=0,v=-0.12,w=0,sync=True)\n",
    "    await asyncio.sleep(STD_WAIT)\n",
    "    await hexapod_csc.cmd_move.set_start(x=-6700,y=0,z=-5900,u=0.12,v=0,w=0,sync=True)\n",
    "    await asyncio.sleep(STD_WAIT)\n",
    "    await hexapod_csc.cmd_move.set_start(x=-6700,y=0,z=-5900,u=-0.12,v=0,w=0,sync=True)\n",
    "    await asyncio.sleep(STD_WAIT)\n",
    "\n",
    "\n",
    "    await hexapod_csc.cmd_move.set_start(x=0,y=6700,z=5900,u=0,v=0.12,w=0,sync=True)\n",
    "    await asyncio.sleep(STD_WAIT)\n",
    "    await hexapod_csc.cmd_move.set_start(x=0,y=6700,z=5900,u=0,v=-0.12,w=0,sync=True)\n",
    "    await asyncio.sleep(STD_WAIT)\n",
    "    await hexapod_csc.cmd_move.set_start(x=0,y=6700,z=5900,u=0.12,v=0,w=0,sync=True)\n",
    "    await asyncio.sleep(STD_WAIT)\n",
    "    await hexapod_csc.cmd_move.set_start(x=0,y=6700,z=5900,u=-0.12,v=0,w=0,sync=True)\n",
    "    await asyncio.sleep(STD_WAIT)\n",
    "\n",
    "    await hexapod_csc.cmd_move.set_start(x=0,y=6700,z=-5900,u=0,v=0.12,w=0,sync=True)\n",
    "    await asyncio.sleep(STD_WAIT)\n",
    "    await hexapod_csc.cmd_move.set_start(x=0,y=6700,z=-5900,u=0,v=-0.12,w=0,sync=True)\n",
    "    await asyncio.sleep(STD_WAIT)\n",
    "    await hexapod_csc.cmd_move.set_start(x=0,y=6700,z=-5900,u=0.12,v=0,w=0,sync=True)\n",
    "    await asyncio.sleep(STD_WAIT)\n",
    "    await hexapod_csc.cmd_move.set_start(x=0,y=6700,z=-5900,u=-0.12,v=0,w=0,sync=True)\n",
    "    await asyncio.sleep(STD_WAIT)\n",
    "\n",
    "    await hexapod_csc.cmd_move.set_start(x=0,y=-6700,z=5900,u=0,v=0.12,w=0,sync=True)\n",
    "    await asyncio.sleep(STD_WAIT)\n",
    "    await hexapod_csc.cmd_move.set_start(x=0,y=-6700,z=5900,u=0,v=-0.12,w=0,sync=True)\n",
    "    await asyncio.sleep(STD_WAIT)\n",
    "    await hexapod_csc.cmd_move.set_start(x=0,y=-6700,z=5900,u=0.12,v=0,w=0,sync=True)\n",
    "    await asyncio.sleep(STD_WAIT)\n",
    "    await hexapod_csc.cmd_move.set_start(x=0,y=-6700,z=5900,u=-0.12,v=0,w=0,sync=True)\n",
    "    await asyncio.sleep(STD_WAIT)\n",
    "\n",
    "    await hexapod_csc.cmd_move.set_start(x=0,y=-6700,z=-5900,u=0,v=0.12,w=0,sync=True)\n",
    "    await asyncio.sleep(STD_WAIT)\n",
    "    await hexapod_csc.cmd_move.set_start(x=0,y=-6700,z=-5900,u=0,v=-0.12,w=0,sync=True)\n",
    "    await asyncio.sleep(STD_WAIT)\n",
    "    await hexapod_csc.cmd_move.set_start(x=0,y=-6700,z=-5900,u=0.12,v=0,w=0,sync=True)\n",
    "    await asyncio.sleep(STD_WAIT)\n",
    "    await hexapod_csc.cmd_move.set_start(x=0,y=-6700,z=-5900,u=-0.12,v=0,w=0,sync=True)\n",
    "    await asyncio.sleep(STD_WAIT)\n",
    "\n",
    "\n",
    "script.log.info(f\"STOPP- {test_message} -- LVV-T1802 Endurance Test \")"
   ]
  },
  {
   "cell_type": "code",
   "execution_count": null,
   "metadata": {},
   "outputs": [],
   "source": [
    "await salobj.set_summary_state(hexapod_csc, salobj.State.STANDBY) # Transition the CSC to Standby state"
   ]
  },
  {
   "cell_type": "code",
   "execution_count": null,
   "metadata": {},
   "outputs": [],
   "source": [
    "await domain.close() # Close the remote connection"
   ]
  }
 ],
 "metadata": {
  "kernelspec": {
   "display_name": "LSST",
   "language": "python",
   "name": "lsst"
  },
  "language_info": {
   "codemirror_mode": {
    "name": "ipython",
    "version": 3
   },
   "file_extension": ".py",
   "mimetype": "text/x-python",
   "name": "python",
   "nbconvert_exporter": "python",
   "pygments_lexer": "ipython3",
   "version": "3.8.6"
  }
 },
 "nbformat": 4,
 "nbformat_minor": 4
}
