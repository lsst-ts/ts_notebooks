{
 "cells": [
  {
   "cell_type": "code",
   "execution_count": null,
   "metadata": {},
   "outputs": [],
   "source": [
    "from lsst.ts import salobj\n",
    "from lsst.ts.idl.enums import MTMount\n",
    "import logging\n",
    "import asyncio\n",
    "import os\n",
    "import yaml\n",
    "\n",
    "import numpy as np\n",
    "from matplotlib import pyplot as plt\n",
    "from astropy.time import Time\n",
    "from datetime import datetime, timedelta\n",
    "import pandas as pd\n",
    "import astropy.units as u\n",
    "\n",
    "from lsst_efd_client import EfdClient"
   ]
  },
  {
   "cell_type": "markdown",
   "metadata": {},
   "source": [
    "# Before the tests:"
   ]
  },
  {
   "cell_type": "code",
   "execution_count": null,
   "metadata": {},
   "outputs": [],
   "source": [
    "script = salobj.Controller(\"Script\", index=1)"
   ]
  },
  {
   "cell_type": "code",
   "execution_count": null,
   "metadata": {},
   "outputs": [],
   "source": [
    "rot_sim = salobj.Remote(script.domain, \"MTRotator\")\n",
    "await rot_sim.start_task"
   ]
  },
  {
   "cell_type": "code",
   "execution_count": null,
   "metadata": {},
   "outputs": [],
   "source": [
    "# this is to ensure that MTMount is connected and telemetry is send\n",
    "rot_sim_connected = await rot_sim.evt_connected.aget(timeout=10.) # This is how you get an event/telemetry with await remote.type_name.aget() type being [evt,tel] and name being the name of the topic\n",
    "#mtm_commandable = connected.command\n",
    "rot_sim_telemetry_working = rot_sim_connected.telemetry\n",
    "\n",
    "if not rot_sim_connected or not rot_sim_telemetry_working:\n",
    "    raise Exception(\"Mount not connected or telemetry not being received.\")"
   ]
  },
  {
   "cell_type": "code",
   "execution_count": null,
   "metadata": {},
   "outputs": [],
   "source": [
    "#This is to check what the controller state is:\n",
    "controller_state = await rot_sim.evt_controllerState.aget()\n",
    "state = controller_state.controllerState\n",
    "#offline_substate = controller_state.offlineSubstate\n",
    "print(state)"
   ]
  },
  {
   "cell_type": "code",
   "execution_count": null,
   "metadata": {},
   "outputs": [],
   "source": [
    "#This is to check MTMount is commandable through SAL:\n",
    "commandable_by_dds = await rot_sim.evt_commandableByDDS.aget()\n",
    "dds_state = commandable_by_dds.state\n",
    "if not dds_state:\n",
    "    raise Exception(\"Controller must in CommandableByDDS state.\")"
   ]
  },
  {
   "cell_type": "code",
   "execution_count": null,
   "metadata": {},
   "outputs": [],
   "source": [
    "#Print the available MTMount events\n",
    "print(rot_sim.salinfo.event_names)"
   ]
  },
  {
   "cell_type": "code",
   "execution_count": null,
   "metadata": {},
   "outputs": [],
   "source": [
    "#Check if MTMount telemetry is getting into the EFD\n",
    "#Add telemetry as needed\n",
    "#For the \"setCompensateMode\" of the Hexapods the \"angle\" of the rotator is needed\n",
    "rot_sim_Elevation= await rot_sim.tel_elevation.aget(timeout=10.)\n",
    "print(\"Simulated rotator angle\", rot_sim_Elevation.angleActual)"
   ]
  },
  {
   "cell_type": "code",
   "execution_count": null,
   "metadata": {},
   "outputs": [],
   "source": [
    "#Send the MTMount simulator component into STANDBY\n",
    "await salobj.set_summary_state(rot_sim, salobj.State.STANDBY)"
   ]
  },
  {
   "cell_type": "code",
   "execution_count": null,
   "metadata": {},
   "outputs": [],
   "source": [
    "#Check if the input to the EFD has stopped\n",
    "rot_sim_Elevation= await rot_sim.tel_elevation.aget(timeout=10.)\n",
    "print(\"Simulated rotator angle\", rot_sim_Elevation.angleActual)"
   ]
  },
  {
   "cell_type": "code",
   "execution_count": null,
   "metadata": {},
   "outputs": [],
   "source": [
    "#Stop the script controller\n",
    "await script.close()"
   ]
  },
  {
   "cell_type": "code",
   "execution_count": null,
   "metadata": {},
   "outputs": [],
   "source": [
    "#Start the MTMount controller\n",
    "rot_control = salobj.Controller(name=\"Rotator\")"
   ]
  },
  {
   "cell_type": "code",
   "execution_count": null,
   "metadata": {},
   "outputs": [],
   "source": [
    "#Check if the input to the EFD has started\n",
    "rot_control_Elevation= await rot_control.tel_elevation.aget(timeout=10.)\n",
    "print(\"Rotator controller angle\", rot_control_Elevation.angleActual)"
   ]
  },
  {
   "cell_type": "markdown",
   "metadata": {},
   "source": [
    "# Set the MTMount Controller to the needed values and exectute the tests from another notebook:"
   ]
  },
  {
   "cell_type": "code",
   "execution_count": null,
   "metadata": {},
   "outputs": [],
   "source": [
    "# Set the elevation angle. Do this for every desired elevation angle.\n",
    "rotator.evt_target.set_put(position=0)"
   ]
  },
  {
   "cell_type": "markdown",
   "metadata": {},
   "source": [
    "# After the tests:"
   ]
  },
  {
   "cell_type": "code",
   "execution_count": null,
   "metadata": {},
   "outputs": [],
   "source": [
    "#Stop the MTMount controller\n",
    "await rot_control.close()"
   ]
  },
  {
   "cell_type": "code",
   "execution_count": null,
   "metadata": {},
   "outputs": [],
   "source": [
    "#Check that no more telemetry from the MTMount controller is going into the EFD\n",
    "rot_control_Elevation= await rot_contorl.tel_elevation.aget(timeout=10.)\n",
    "print(\"Mount controller elevation\", rot_control_Elevation.angleActual)"
   ]
  },
  {
   "cell_type": "code",
   "execution_count": null,
   "metadata": {},
   "outputs": [],
   "source": [
    "#Start the script controller\n",
    "script = salobj.Controller(\"Script\", index=1)"
   ]
  },
  {
   "cell_type": "code",
   "execution_count": null,
   "metadata": {},
   "outputs": [],
   "source": [
    "#Start the mount Simluator controller\n",
    "await rot_sim.start_task"
   ]
  },
  {
   "cell_type": "code",
   "execution_count": null,
   "metadata": {},
   "outputs": [],
   "source": [
    "#Send the MTMount simulator component into ENABLE again\n",
    "await salobj.set_summary_state(rot, salobj.State.ENABLE)"
   ]
  },
  {
   "cell_type": "code",
   "execution_count": null,
   "metadata": {},
   "outputs": [],
   "source": [
    "#Check that the EFD is getting MTMount siumlator telemetry"
   ]
  },
  {
   "cell_type": "code",
   "execution_count": null,
   "metadata": {},
   "outputs": [],
   "source": [
    "#print available commands\n",
    "print(rot.salinfo.command_names)"
   ]
  },
  {
   "cell_type": "code",
   "execution_count": null,
   "metadata": {},
   "outputs": [],
   "source": []
  }
 ],
 "metadata": {
  "kernelspec": {
   "display_name": "LSST",
   "language": "python",
   "name": "lsst"
  },
  "language_info": {
   "codemirror_mode": {
    "name": "ipython",
    "version": 3
   },
   "file_extension": ".py",
   "mimetype": "text/x-python",
   "name": "python",
   "nbconvert_exporter": "python",
   "pygments_lexer": "ipython3",
   "version": "3.8.6"
  }
 },
 "nbformat": 4,
 "nbformat_minor": 4
}
