{
 "cells": [
  {
   "cell_type": "code",
   "execution_count": 1,
   "metadata": {},
   "outputs": [
    {
     "name": "stderr",
     "output_type": "stream",
     "text": [
      "/opt/lsst/software/stack/conda/miniconda3-py38_4.9.2/envs/lsst-scipipe-0.4.1/lib/python3.8/site-packages/jose/backends/cryptography_backend.py:23: CryptographyDeprecationWarning: int_from_bytes is deprecated, use int.from_bytes instead\n",
      "  from cryptography.utils import int_from_bytes, int_to_bytes\n"
     ]
    }
   ],
   "source": [
    "from lsst.ts import salobj\n",
    "from lsst.ts.idl.enums import MTMount\n",
    "import logging\n",
    "import asyncio\n",
    "import os\n",
    "import yaml\n",
    "\n",
    "import numpy as np\n",
    "from matplotlib import pyplot as plt\n",
    "from astropy.time import Time\n",
    "from datetime import datetime, timedelta\n",
    "import pandas as pd\n",
    "import astropy.units as u\n",
    "\n",
    "from lsst_efd_client import EfdClient"
   ]
  },
  {
   "cell_type": "markdown",
   "metadata": {},
   "source": [
    "# Before the tests:"
   ]
  },
  {
   "cell_type": "code",
   "execution_count": 2,
   "metadata": {},
   "outputs": [],
   "source": [
    "script = salobj.Controller(\"Script\", index=42658885)"
   ]
  },
  {
   "cell_type": "code",
   "execution_count": 4,
   "metadata": {},
   "outputs": [],
   "source": [
    "rot_sim = salobj.Remote(script.domain, \"MTRotator\")\n",
    "await rot_sim.start_task"
   ]
  },
  {
   "cell_type": "code",
   "execution_count": 5,
   "metadata": {},
   "outputs": [],
   "source": [
    "# this is to ensure that MTRotator is connected and telemetry is send\n",
    "rot_sim_connected = await rot_sim.evt_connected.aget(timeout=10.) # This is how you get an event/telemetry with await remote.type_name.aget() type being [evt,tel] and name being the name of the topic\n",
    "rot_sim_commandable = rot_sim_connected.command\n",
    "rot_sim_telemetry_working = rot_sim_connected.telemetry\n",
    "\n",
    "if not rot_sim_connected or not rot_sim_telemetry_working:\n",
    "    raise Exception(\"Mount not connected or telemetry not being received.\")"
   ]
  },
  {
   "cell_type": "code",
   "execution_count": 6,
   "metadata": {},
   "outputs": [
    {
     "name": "stdout",
     "output_type": "stream",
     "text": [
      "2\n"
     ]
    }
   ],
   "source": [
    "#This is to check what the controller state is:\n",
    "controller_state = await rot_sim.evt_controllerState.aget(timeout=10.)\n",
    "state = controller_state.controllerState\n",
    "#offline_substate = controller_state.offlineSubstate\n",
    "print(state)"
   ]
  },
  {
   "cell_type": "code",
   "execution_count": 7,
   "metadata": {},
   "outputs": [],
   "source": [
    "#This is to check MTMount is commandable through SAL:\n",
    "commandable_by_dds = await rot_sim.evt_commandableByDDS.aget(timeout=10.)\n",
    "dds_state = commandable_by_dds.state\n",
    "if not dds_state:\n",
    "    raise Exception(\"Controller must in CommandableByDDS state.\")"
   ]
  },
  {
   "cell_type": "code",
   "execution_count": 8,
   "metadata": {},
   "outputs": [
    {
     "name": "stdout",
     "output_type": "stream",
     "text": [
      "Telemery: ('application', 'electrical', 'motors', 'rotation')\n",
      "Events: ('appliedSettingsMatchStart', 'authList', 'commandableByDDS', 'configuration', 'connected', 'controllerState', 'errorCode', 'heartbeat', 'inPosition', 'interlock', 'logLevel', 'logMessage', 'settingVersions', 'settingsApplied', 'simulationMode', 'softwareVersions', 'summaryState', 'target', 'tracking')\n",
      "Commands: ('abort', 'clearError', 'configureAcceleration', 'configureVelocity', 'disable', 'enable', 'enterControl', 'exitControl', 'move', 'setAuthList', 'setLogLevel', 'setValue', 'standby', 'start', 'stop', 'track', 'trackStart')\n"
     ]
    }
   ],
   "source": [
    "#Print the available MTMount events\n",
    "\n",
    "print(\"Telemery:\", rot_sim.salinfo.telemetry_names)\n",
    "print(\"Events:\", rot_sim.salinfo.event_names)\n",
    "print(\"Commands:\", rot_sim.salinfo.command_names)"
   ]
  },
  {
   "cell_type": "code",
   "execution_count": 25,
   "metadata": {},
   "outputs": [
    {
     "data": {
      "text/plain": [
       "[<State.STANDBY: 5>, <State.DISABLED: 1>, <State.ENABLED: 2>]"
      ]
     },
     "execution_count": 25,
     "metadata": {},
     "output_type": "execute_result"
    }
   ],
   "source": [
    "#Send the MTMount simulator component into STANDBY\n",
    "await salobj.set_summary_state(rot_sim, salobj.State.STANDBY)"
   ]
  },
  {
   "cell_type": "code",
   "execution_count": 20,
   "metadata": {},
   "outputs": [
    {
     "name": "stdout",
     "output_type": "stream",
     "text": [
      "Simulated Rotator position 3.798637410615258e-08\n",
      "Simulated Rotator timestamp 1614982726.330605\n"
     ]
    }
   ],
   "source": [
    "#Check if Rotator telemetry is getting into the EFD\n",
    "#Add telemetry as needed\n",
    "#For the \"setCompensateMode\" of the Hexapods the \"angle\" of the rotator is needed\n",
    "rot_sim_Rotation_post_stop_1= await rot_sim.tel_rotation.aget(timeout=10.)\n",
    "print(\"Simulated Rotator position\", rot_sim_Rotation_post_stop_1.actualPosition)\n",
    "print(\"Simulated Rotator imestamp\", rot_sim_Rotation_post_stop_1.timestamp)\n",
    "await asyncio.sleep(10)"
   ]
  },
  {
   "cell_type": "code",
   "execution_count": 21,
   "metadata": {},
   "outputs": [
    {
     "name": "stdout",
     "output_type": "stream",
     "text": [
      "Simulated rotator angle 1614982751.330844\n"
     ]
    }
   ],
   "source": [
    "#Check if Rotator telemetry has changed in the EFD\n",
    "#Add telemetry as needed\n",
    "rot_sim_Rotation_post_stop_2= await rot_sim.tel_rotation.aget(timeout=10.)\n",
    "print(\"Simulated rotator angle\", rot_sim_Rotation_post_stop_2.timestamp)"
   ]
  },
  {
   "cell_type": "code",
   "execution_count": 22,
   "metadata": {},
   "outputs": [
    {
     "name": "stdout",
     "output_type": "stream",
     "text": [
      "-25.00023889541626\n"
     ]
    },
    {
     "ename": "Exception",
     "evalue": "Rotator is still sending telemetry!",
     "output_type": "error",
     "traceback": [
      "\u001b[0;31m---------------------------------------------------------------------------\u001b[0m",
      "\u001b[0;31mException\u001b[0m                                 Traceback (most recent call last)",
      "\u001b[0;32m<ipython-input-22-9025e91c829d>\u001b[0m in \u001b[0;36m<module>\u001b[0;34m\u001b[0m\n\u001b[1;32m      6\u001b[0m     \u001b[0mprint\u001b[0m\u001b[0;34m(\u001b[0m\u001b[0;34m\"Rotator has stopped sending telemetry\"\u001b[0m\u001b[0;34m)\u001b[0m\u001b[0;34m\u001b[0m\u001b[0;34m\u001b[0m\u001b[0m\n\u001b[1;32m      7\u001b[0m \u001b[0;32melse\u001b[0m\u001b[0;34m:\u001b[0m\u001b[0;34m\u001b[0m\u001b[0;34m\u001b[0m\u001b[0m\n\u001b[0;32m----> 8\u001b[0;31m     \u001b[0;32mraise\u001b[0m \u001b[0mException\u001b[0m\u001b[0;34m(\u001b[0m\u001b[0;34m\"Rotator is still sending telemetry!\"\u001b[0m\u001b[0;34m)\u001b[0m\u001b[0;34m\u001b[0m\u001b[0;34m\u001b[0m\u001b[0m\n\u001b[0m",
      "\u001b[0;31mException\u001b[0m: Rotator is still sending telemetry!"
     ]
    }
   ],
   "source": [
    "#Check if the input to the EFD has stopped\n",
    "diff_time = rot_sim_Rotation_post_stop_1.timestamp - rot_sim_Rotation_post_stop_2.timestamp\n",
    "print (diff_time)\n",
    "\n",
    "if (rot_sim_Rotation_post_stop_1.timestamp - rot_sim_Rotation_post_stop_2.timestamp==0):\n",
    "    print(\"Rotator has stopped sending telemetry\")\n",
    "else:\n",
    "    raise Exception(\"Rotator is still sending telemetry!\")"
   ]
  },
  {
   "cell_type": "code",
   "execution_count": null,
   "metadata": {},
   "outputs": [],
   "source": [
    "#Stop the script controller\n",
    "await script.close()"
   ]
  },
  {
   "cell_type": "code",
   "execution_count": null,
   "metadata": {},
   "outputs": [],
   "source": [
    "#Start the MTMount controller\n",
    "rot_control = salobj.Controller(name=\"MTRotator\")\n",
    "await rot_control.start_task"
   ]
  },
  {
   "cell_type": "code",
   "execution_count": null,
   "metadata": {},
   "outputs": [],
   "source": [
    "#To check if the input to the EFD has started prepare the EFD readout\n",
    "#may need to wait a few seconds before event shows up in EFD\n",
    "client = EfdClient('ncsa_teststand_efd')\n",
    "#client = EfdClient('summit_efd')"
   ]
  },
  {
   "cell_type": "code",
   "execution_count": null,
   "metadata": {},
   "outputs": [],
   "source": [
    "#Send a test command \n",
    "rot_control.evt_target.set_put(rotation=3)"
   ]
  },
  {
   "cell_type": "code",
   "execution_count": null,
   "metadata": {},
   "outputs": [],
   "source": [
    "#Read from the EFD\n",
    "end = Time(datetime.now())\n",
    "start = end - timedelta(hours=3)\n",
    "logeventTarget = await client.select_time_series('lsst.sal.MTRotator.logevent_target', '*', start.tai, end.tai)\n",
    "print(\"Rotator controller rotation from the EFD:\")\n",
    "logeventTarget.position"
   ]
  },
  {
   "cell_type": "markdown",
   "metadata": {},
   "source": [
    "# Set the MTMount Controller to the needed values and exectute the tests from another notebook:"
   ]
  },
  {
   "cell_type": "code",
   "execution_count": null,
   "metadata": {},
   "outputs": [],
   "source": [
    "# Set the elevation angle. Do this for every desired elevation angle.\n",
    "rotator.evt_positon.set_put(position=1)"
   ]
  },
  {
   "cell_type": "markdown",
   "metadata": {},
   "source": [
    "# After the tests:"
   ]
  },
  {
   "cell_type": "code",
   "execution_count": null,
   "metadata": {},
   "outputs": [],
   "source": [
    "#Stop the MTMount controller\n",
    "await rot_control.close()"
   ]
  },
  {
   "cell_type": "code",
   "execution_count": null,
   "metadata": {},
   "outputs": [],
   "source": [
    "#Send a test command\n",
    "rotator.evt_positon.set_put(position=1)"
   ]
  },
  {
   "cell_type": "code",
   "execution_count": null,
   "metadata": {},
   "outputs": [],
   "source": [
    "logeventTarget = await client.select_time_series('lsst.sal.MTRotator.logevent_target', '*', start.tai, end.tai)\n",
    "print(\"Rotator controller rotation from the EFD:\")\n",
    "logeventTarget.position"
   ]
  },
  {
   "cell_type": "code",
   "execution_count": null,
   "metadata": {},
   "outputs": [],
   "source": [
    "#Check that no more telemetry from the MTMount controller is going into the EFD\n",
    "rot_control_Elevation= await rot_contorl.tel_elevation.aget(timeout=10.)\n",
    "print(\"Mount controller elevation\", rot_control_Elevation.angleActual)"
   ]
  },
  {
   "cell_type": "code",
   "execution_count": null,
   "metadata": {},
   "outputs": [],
   "source": [
    "#Start the script controller\n",
    "script = salobj.Controller(\"Script\", index=42658885)"
   ]
  },
  {
   "cell_type": "code",
   "execution_count": null,
   "metadata": {},
   "outputs": [],
   "source": []
  },
  {
   "cell_type": "code",
   "execution_count": null,
   "metadata": {},
   "outputs": [],
   "source": [
    "#Start the mount Simluator controller\n",
    "await rot_sim.start_task"
   ]
  },
  {
   "cell_type": "code",
   "execution_count": 24,
   "metadata": {},
   "outputs": [
    {
     "ename": "AttributeError",
     "evalue": "ENABLE",
     "output_type": "error",
     "traceback": [
      "\u001b[0;31m---------------------------------------------------------------------------\u001b[0m",
      "\u001b[0;31mAttributeError\u001b[0m                            Traceback (most recent call last)",
      "\u001b[0;32m<ipython-input-24-dae9518dd5db>\u001b[0m in \u001b[0;36m<module>\u001b[0;34m\u001b[0m\n\u001b[1;32m      1\u001b[0m \u001b[0;31m#Send the MTMount simulator component into ENABLE again\u001b[0m\u001b[0;34m\u001b[0m\u001b[0;34m\u001b[0m\u001b[0;34m\u001b[0m\u001b[0m\n\u001b[0;32m----> 2\u001b[0;31m \u001b[0;32mawait\u001b[0m \u001b[0msalobj\u001b[0m\u001b[0;34m.\u001b[0m\u001b[0mset_summary_state\u001b[0m\u001b[0;34m(\u001b[0m\u001b[0mrot_sim\u001b[0m\u001b[0;34m,\u001b[0m \u001b[0msalobj\u001b[0m\u001b[0;34m.\u001b[0m\u001b[0mState\u001b[0m\u001b[0;34m.\u001b[0m\u001b[0mENABLE\u001b[0m\u001b[0;34m)\u001b[0m\u001b[0;34m\u001b[0m\u001b[0;34m\u001b[0m\u001b[0m\n\u001b[0m",
      "\u001b[0;32m/opt/lsst/software/stack/conda/miniconda3-py38_4.9.2/envs/lsst-scipipe-0.4.1/lib/python3.8/enum.py\u001b[0m in \u001b[0;36m__getattr__\u001b[0;34m(cls, name)\u001b[0m\n\u001b[1;32m    350\u001b[0m             \u001b[0;32mreturn\u001b[0m \u001b[0mcls\u001b[0m\u001b[0;34m.\u001b[0m\u001b[0m_member_map_\u001b[0m\u001b[0;34m[\u001b[0m\u001b[0mname\u001b[0m\u001b[0;34m]\u001b[0m\u001b[0;34m\u001b[0m\u001b[0;34m\u001b[0m\u001b[0m\n\u001b[1;32m    351\u001b[0m         \u001b[0;32mexcept\u001b[0m \u001b[0mKeyError\u001b[0m\u001b[0;34m:\u001b[0m\u001b[0;34m\u001b[0m\u001b[0;34m\u001b[0m\u001b[0m\n\u001b[0;32m--> 352\u001b[0;31m             \u001b[0;32mraise\u001b[0m \u001b[0mAttributeError\u001b[0m\u001b[0;34m(\u001b[0m\u001b[0mname\u001b[0m\u001b[0;34m)\u001b[0m \u001b[0;32mfrom\u001b[0m \u001b[0;32mNone\u001b[0m\u001b[0;34m\u001b[0m\u001b[0;34m\u001b[0m\u001b[0m\n\u001b[0m\u001b[1;32m    353\u001b[0m \u001b[0;34m\u001b[0m\u001b[0m\n\u001b[1;32m    354\u001b[0m     \u001b[0;32mdef\u001b[0m \u001b[0m__getitem__\u001b[0m\u001b[0;34m(\u001b[0m\u001b[0mcls\u001b[0m\u001b[0;34m,\u001b[0m \u001b[0mname\u001b[0m\u001b[0;34m)\u001b[0m\u001b[0;34m:\u001b[0m\u001b[0;34m\u001b[0m\u001b[0;34m\u001b[0m\u001b[0m\n",
      "\u001b[0;31mAttributeError\u001b[0m: ENABLE"
     ]
    }
   ],
   "source": [
    "#Send the MTMount simulator component into ENABLE again\n",
    "await salobj.set_summary_state(rot_sim, salobj.State.ENABLED)"
   ]
  },
  {
   "cell_type": "code",
   "execution_count": null,
   "metadata": {},
   "outputs": [],
   "source": [
    "#Check that the EFD is getting MTMount siumlator telemetry"
   ]
  },
  {
   "cell_type": "code",
   "execution_count": null,
   "metadata": {},
   "outputs": [],
   "source": [
    "#Check if Rotator telemetry is getting into the EFD\n",
    "#Add telemetry as needed\n",
    "#For the \"setCompensateMode\" of the Hexapods the \"angle\" of the rotator is needed\n",
    "rot_sim_Rotation_post_stop_1= await rot_sim.tel_rotation.aget(timeout=10.)\n",
    "print(\"Simulated mount elevation\", rot_sim_Rotation_post_stop_1.actualPosition)\n",
    "print(\"Simulated mount elevation\", rot_sim_Rotation_post_stop_1.timestamp)\n",
    "await asyncio.sleep(10)"
   ]
  },
  {
   "cell_type": "code",
   "execution_count": null,
   "metadata": {},
   "outputs": [],
   "source": [
    "#Check if Rotator telemetry has changed in the EFD\n",
    "#Add telemetry as needed\n",
    "rot_sim_Rotation_post_stop_2= await rot_sim.tel_rotation.aget(timeout=10.)\n",
    "print(\"Simulated rotator angle\", rot_sim_rotation_post_stop_2.timestamp)"
   ]
  },
  {
   "cell_type": "code",
   "execution_count": null,
   "metadata": {},
   "outputs": [],
   "source": [
    "#Check if the input to the EFD has stopped\n",
    "diff_time =  rot_sim_Rotation_post_stop_1.timestamp - rot_sim_Rotation_post_stop_2.timestamp\n",
    "print (diff_time)\n",
    "\n",
    "if (rot_sim_Rotataion_post_stop_1.timestamp -rot_sim_Rotation_post_stop_2.timestamp != 0):\n",
    "    print(\"Rotation is receiving telemetry again\")\n",
    "else:\n",
    "    raise Exception(\"Rotation is still does not receive telemetry!\")"
   ]
  },
  {
   "cell_type": "code",
   "execution_count": null,
   "metadata": {},
   "outputs": [],
   "source": []
  }
 ],
 "metadata": {
  "kernelspec": {
   "display_name": "LSST",
   "language": "python",
   "name": "lsst"
  },
  "language_info": {
   "codemirror_mode": {
    "name": "ipython",
    "version": 3
   },
   "file_extension": ".py",
   "mimetype": "text/x-python",
   "name": "python",
   "nbconvert_exporter": "python",
   "pygments_lexer": "ipython3",
   "version": "3.8.6"
  }
 },
 "nbformat": 4,
 "nbformat_minor": 4
}
