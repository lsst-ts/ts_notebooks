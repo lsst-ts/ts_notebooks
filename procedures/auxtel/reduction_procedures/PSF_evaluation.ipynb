{
 "cells": [
  {
   "cell_type": "markdown",
   "id": "e8cc3a14-f377-44f4-ab4c-97c9c3047697",
   "metadata": {},
   "source": [
    "# Evaluation of Image Quality for a Given dataID\n",
    "### This notebook is meant for imaging data. Run spectral data at your own risk"
   ]
  },
  {
   "cell_type": "code",
   "execution_count": null,
   "id": "a148b369-8943-4861-a51e-9cbeea70feb3",
   "metadata": {},
   "outputs": [],
   "source": [
    "import numpy as np\n",
    "from astropy import units as u\n",
    "from matplotlib import pyplot as plt\n",
    "\n",
    "import lsst.daf.butler as dafButler\n",
    "from lsst.rapid.analysis import BestEffortIsr\n",
    "from lsst.pipe.tasks.quickFrameMeasurement import QuickFrameMeasurementTask\n",
    "from lsst.pipe.tasks.characterizeImage import CharacterizeImageTask\n",
    "from lsst.meas.algorithms.installGaussianPsf import InstallGaussianPsfConfig\n",
    "from lsst.pex.exceptions import InvalidParameterError\n",
    "from lsst.ts.observatory.control.constants import latiss_constants\n",
    "from lsst.geom import PointD\n",
    "\n",
    "%matplotlib inline"
   ]
  },
  {
   "cell_type": "markdown",
   "id": "8299f33f-a6a6-4dbd-bef3-ce4fbabdcbd5",
   "metadata": {},
   "source": [
    "#### Declare butler repo parameters"
   ]
  },
  {
   "cell_type": "code",
   "execution_count": null,
   "id": "558e3838-4aea-48e2-9629-5b1f60b2fbaf",
   "metadata": {},
   "outputs": [],
   "source": [
    "datapath='/repo/LATISS'\n",
    "butler = dafButler.Butler(datapath, instrument='LATISS', collections=['LATISS/raw/all','LATISS_test_data'])\n",
    "dataset='raw'\n",
    "best_effort_isr = BestEffortIsr(datapath)"
   ]
  },
  {
   "cell_type": "markdown",
   "id": "335148e9-b9e4-4bae-a7c2-3b65a6463813",
   "metadata": {},
   "source": [
    "### Select the data ID of choice"
   ]
  },
  {
   "cell_type": "code",
   "execution_count": null,
   "id": "3f9d90d9-4a28-4bb9-b1f9-60312683bca4",
   "metadata": {},
   "outputs": [],
   "source": [
    "dataId = {'day_obs': 20220216, 'seq_num': 711, 'detector': 0, \"instrument\": 'LATISS'}"
   ]
  },
  {
   "cell_type": "markdown",
   "id": "bfe4c5fb-7ce1-49bc-9f55-91a906c018a3",
   "metadata": {},
   "source": [
    " ### Fetch the exposure and run best_effort_ISR"
   ]
  },
  {
   "cell_type": "code",
   "execution_count": null,
   "id": "f087dcec-36a0-49de-b226-79370cb9c31c",
   "metadata": {
    "tags": []
   },
   "outputs": [],
   "source": [
    "best_effort_isr.doWrite = False  # Don't write to butler database\n",
    "exp = best_effort_isr.getExposure(dataId, skipCosmics=False)"
   ]
  },
  {
   "cell_type": "markdown",
   "id": "856d5fcd-27ce-4882-a4b1-9d06c46fad51",
   "metadata": {},
   "source": [
    "# Calculate Stellar PSF Information"
   ]
  },
  {
   "cell_type": "markdown",
   "id": "8a153f49-25aa-4e2e-b042-43645130d196",
   "metadata": {},
   "source": [
    "### Declare the function that does the heavy lifting using DM tools\n",
    "Note that this is very sensitive to the number of sources in the field. <br>\n",
    "If there are not enough sources this will fail."
   ]
  },
  {
   "cell_type": "code",
   "execution_count": null,
   "id": "2cca190c-3c78-4a8f-a6e1-7061897c32cf",
   "metadata": {},
   "outputs": [],
   "source": [
    "def measurePsf(exp):\n",
    "    platescale = latiss_constants.pixel_scale\n",
    "\n",
    "    imCharConfig = CharacterizeImageTask.ConfigClass()\n",
    "    imCharConfig.doMeasurePsf = True\n",
    "    imCharConfig.useSimplePsf = True\n",
    "    \n",
    "    imCharConfig.doApCorr = False\n",
    "    imCharConfig.doDeblend = False\n",
    "    \n",
    "    installConfig = InstallGaussianPsfConfig()\n",
    "    exp.setPsf(None)  # if not set to none, fwhm max para is ignored\n",
    "    installConfig.fwhm = 15\n",
    "    installConfig.width = 61\n",
    "    \n",
    "    imCharConfig.installSimplePsf = installConfig    \n",
    "    \n",
    "    imCharConfig.detection.includeThresholdMultiplier = 5\n",
    "\n",
    "    imCharConfig.measurePsf.starSelector['objectSize'].doFluxLimit = True\n",
    "    imCharConfig.measurePsf.starSelector['objectSize'].fluxMin = 12500.0\n",
    "    imCharConfig.measurePsf.starSelector['objectSize'].fluxMax = 0.0\n",
    "    imCharConfig.measurePsf.starSelector['objectSize'].doSignalToNoiseLimit = False\n",
    "    imCharConfig.measurePsf.starSelector['objectSize'].signalToNoiseMin = 20.0\n",
    "    imCharConfig.measurePsf.starSelector['objectSize'].signalToNoiseMax = 0.0\n",
    "    imCharConfig.measurePsf.starSelector['objectSize'].widthMin = 0.0\n",
    "    imCharConfig.measurePsf.starSelector['objectSize'].widthMax = 80.0  # default 10\n",
    "    imCharConfig.measurePsf.starSelector['objectSize'].sourceFluxField = \"base_GaussianFlux_instFlux\"\n",
    "    imCharConfig.measurePsf.starSelector['objectSize'].widthStdAllowed = 0.15 # 0.15 default\n",
    "    imCharConfig.measurePsf.starSelector['objectSize'].nSigmaClip = 2.0\n",
    "    \n",
    "    \n",
    "    imCharConfig.background.binSize = 2000\n",
    "    imCharConfig.background.approxOrderX = 2\n",
    "    imCharConfig.measurePsf.psfDeterminer['psfex'].spatialOrder = 1\n",
    "\n",
    "    imCharConfig.detection.background = imCharConfig.background\n",
    "    \n",
    "    imCharTask = CharacterizeImageTask(config=imCharConfig)\n",
    "\n",
    "    result = imCharTask.run(exp)\n",
    "\n",
    "    psf = exp.getPsf()\n",
    "    ixx = psf.computeShape(exp.getBBox().getCenter()).getIxx()\n",
    "    iyy = psf.computeShape(exp.getBBox().getCenter()).getIyy()\n",
    "    psfShape = psf.computeShape(exp.getBBox().getCenter()).getDeterminantRadius()\n",
    "    \n",
    "    fwhmX = np.sqrt(ixx)*2.355*platescale\n",
    "    fwhmY = np.sqrt(iyy)*2.355*platescale\n",
    "    \n",
    "    overallFwhm = psfShape * 2.355 * platescale\n",
    "    print(f\"Psf shape from imChar task (x,y) = ({fwhmX:.3f}, {fwhmY:.3f}) FWHM arcsec\")\n",
    "    return fwhmX, fwhmY, overallFwhm, psf"
   ]
  },
  {
   "cell_type": "markdown",
   "id": "0235b8b8-c7f6-4ad6-975e-b04e2bd16fce",
   "metadata": {},
   "source": [
    "#### Declare QuickFrameMeasurement tasks\n",
    "These are run if the measurePsf method fails. It provides a reasonable yet less-accurate representation."
   ]
  },
  {
   "cell_type": "code",
   "execution_count": null,
   "id": "ad8142b4-8410-4c1c-a45d-ac458e4c20ab",
   "metadata": {},
   "outputs": [],
   "source": [
    "qm_config = QuickFrameMeasurementTask.ConfigClass()\n",
    "qm = QuickFrameMeasurementTask(config=qm_config)"
   ]
  },
  {
   "cell_type": "markdown",
   "id": "b0dda88b-019d-4f37-bb6d-841ec250eec0",
   "metadata": {},
   "source": [
    "### Run the methods to get the psf data"
   ]
  },
  {
   "cell_type": "code",
   "execution_count": null,
   "id": "7c7b618a-045c-4f10-8861-5c13325f6eb4",
   "metadata": {
    "tags": []
   },
   "outputs": [],
   "source": [
    "brightest_source_centroid = []\n",
    "fwhmX=None; fwhmY=None; overallFwhm=None\n",
    "result=None\n",
    "psf=None\n",
    "success=False\n",
    "try:\n",
    "    fwhmX, fwhmY, overallFwhm, psf = measurePsf(exp)\n",
    "    success=True\n",
    "    pass\n",
    "except InvalidParameterError as e:\n",
    "    print('Caught the InvalidParameterError, measurePsf was not successful')\n",
    "    #print(f'error is {e}')\n",
    "    pass\n",
    "except RuntimeError as e:\n",
    "    print('Caught the RuntimeError, measurePsf was not successful')\n",
    "    #print(f'error is {e}')\n",
    "    pass\n",
    "\n",
    "if not success:\n",
    "    print('Using Merlin\\'s simplified algorithm')\n",
    "    result = qm.run(exp)\n",
    "    brightest_source_centroid.append(result)\n",
    "    if result.success:\n",
    "        fwhmX=result.medianXxYy[0]\n",
    "        fwhmY=result.medianXxYy[1]\n",
    "        overallFwhm=np.sqrt(result.medianXxYy[0]**2 + result.medianXxYy[1]**2)\n",
    "    else:\n",
    "        raise RuntimeError('No PSF could be derived using either method')"
   ]
  },
  {
   "cell_type": "markdown",
   "id": "c0517767-5e97-4a49-9444-d9fcaea0c3f0",
   "metadata": {},
   "source": [
    "#### Derive Corrections for elevation (airmass) and wavelength"
   ]
  },
  {
   "cell_type": "markdown",
   "id": "f1957761-66f3-46bf-880d-04b86818e1b1",
   "metadata": {},
   "source": [
    "Capture metadata for calculation and comparison"
   ]
  },
  {
   "cell_type": "code",
   "execution_count": null,
   "id": "81c474f3-eb63-417f-ba5d-990198e4dabb",
   "metadata": {},
   "outputs": [],
   "source": [
    "filter_band=exp.getInfo().getFilterLabel().bandLabel \n",
    "airmass=((exp.getInfo().getMetadata().get('AMSTART')+exp.getInfo().getMetadata().get('AMEND'))/2.0)\n",
    "elevation=((exp.getInfo().getMetadata().get('ELSTART')+exp.getInfo().getMetadata().get('ELEND'))/2.0)\n",
    "dimm_seeing=exp.getInfo().getMetadata().get('SEEING')"
   ]
  },
  {
   "cell_type": "code",
   "execution_count": null,
   "id": "9d8e297f-e72d-4004-a4e9-60e4e876005a",
   "metadata": {},
   "outputs": [],
   "source": [
    "print(f\"Target at elevation = {elevation:0.1f}, airmass = {airmass:0.1f}\")\n",
    "print(f\"PSF shape from imChar task (x,y) = ({fwhmX:.2f}, {fwhmY:.2f}) FWHM [arcsec]\")\n",
    "print(f\"Overall PSF shape from imChar task is = {overallFwhm:.2f} FWHM [arcsec]\")"
   ]
  },
  {
   "cell_type": "markdown",
   "id": "7186cc66-51d7-4f6b-92e0-7cd919fb3b6a",
   "metadata": {},
   "source": [
    "Calculate airmass corrected FWHM"
   ]
  },
  {
   "cell_type": "code",
   "execution_count": null,
   "id": "bd25300f-883e-4f37-9e1a-945a7042811c",
   "metadata": {},
   "outputs": [],
   "source": [
    "airmass_corr_fwhm = overallFwhm * (airmass ** -0.6)"
   ]
  },
  {
   "cell_type": "markdown",
   "id": "e67ddf0b-a6e4-479c-9bad-efc805620c46",
   "metadata": {},
   "source": [
    "Filter wavelengths are not currently in the fits headers.\n",
    "Must use an ugly dictionary until this is implemented."
   ]
  },
  {
   "cell_type": "code",
   "execution_count": null,
   "id": "fd520610-abb5-403c-847c-c619f65bc720",
   "metadata": {},
   "outputs": [],
   "source": [
    "filter_wavelength= {'white': 700, 'g': 475, 'r': 623, 'i': 763, 'z': 828.0}"
   ]
  },
  {
   "cell_type": "markdown",
   "id": "579c2629-54d9-4792-a772-e24fb39a5389",
   "metadata": {},
   "source": [
    "#### Derive airmass+wavelength corrected FWHM"
   ]
  },
  {
   "cell_type": "code",
   "execution_count": null,
   "id": "4fc79490-914f-4fd9-a7ae-7aa48c8ae060",
   "metadata": {},
   "outputs": [],
   "source": [
    "corr_fwhm = airmass_corr_fwhm * ((500. / filter_wavelength[filter_band]) ** -0.2)\n",
    "print(f'Airmass and wavelength corrected FWHM: {corr_fwhm:0.3f} [arcsec]')\n",
    "print(f'DIMM reported FWHM: {dimm_seeing:0.3f} [arcsec]')"
   ]
  },
  {
   "cell_type": "markdown",
   "id": "d576763e-6676-431b-8564-8eae67f5d675",
   "metadata": {},
   "source": [
    "### Display PSF\n",
    "This will only work if the measurePSF was successful"
   ]
  },
  {
   "cell_type": "code",
   "execution_count": null,
   "id": "d1ed7d52-b049-4a0e-8b49-60cdd22c6151",
   "metadata": {},
   "outputs": [],
   "source": [
    "# Create a normalized PSF array for display\n",
    "z=psf.computeImage(position=psf.getAveragePosition()).array/psf.computePeak(position=psf.getAveragePosition())"
   ]
  },
  {
   "cell_type": "code",
   "execution_count": null,
   "id": "4482c8f1-046e-4d3b-8d6d-c7d46afd971b",
   "metadata": {},
   "outputs": [],
   "source": [
    "plt.figure(figsize=(9, 5))\n",
    "plt.imshow(z, origin='lower', interpolation='nearest')#, vmin=-1e4, vmax=5e4)\n",
    "plt.colorbar()\n",
    "plt.show()"
   ]
  }
 ],
 "metadata": {
  "kernelspec": {
   "display_name": "LSST",
   "language": "python",
   "name": "lsst"
  },
  "language_info": {
   "codemirror_mode": {
    "name": "ipython",
    "version": 3
   },
   "file_extension": ".py",
   "mimetype": "text/x-python",
   "name": "python",
   "nbconvert_exporter": "python",
   "pygments_lexer": "ipython3",
   "version": "3.8.13"
  },
  "toc-autonumbering": false,
  "toc-showcode": false,
  "toc-showmarkdowntxt": true
 },
 "nbformat": 4,
 "nbformat_minor": 5
}
