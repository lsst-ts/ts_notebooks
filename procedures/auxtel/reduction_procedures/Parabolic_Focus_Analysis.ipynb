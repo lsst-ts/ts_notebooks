{
 "cells": [
  {
   "cell_type": "markdown",
   "id": "d1724d10-eeb2-4d5f-8744-ebcea10b01a1",
   "metadata": {},
   "source": [
    "# Parabolic Focus Determination Analysis\n",
    "\n",
    "This notebook performs the analysis of focus sweeps taken with the Parabolic_Focus_Determination_Data_Acq.ipynb notebook. It can be used for spectral and non-spectral direct imaging sequences. \n"
   ]
  },
  {
   "cell_type": "markdown",
   "id": "dfbc39d9-e0ca-4c95-8e04-a16f3ca62c31",
   "metadata": {},
   "source": [
    "## Setup"
   ]
  },
  {
   "cell_type": "code",
   "execution_count": null,
   "id": "a0d9b7ed-a33e-4c53-8fb0-e2380b19c29b",
   "metadata": {},
   "outputs": [],
   "source": [
    "from lsst.summit.extras import SpectralFocusAnalyzer, NonSpectralFocusAnalyzer\n",
    "import matplotlib.pyplot as plt"
   ]
  },
  {
   "cell_type": "code",
   "execution_count": null,
   "id": "374cc8f1-6783-40b3-91d3-565593030965",
   "metadata": {},
   "outputs": [],
   "source": [
    "%matplotlib inline"
   ]
  },
  {
   "cell_type": "code",
   "execution_count": null,
   "id": "099bccd5-26eb-46f3-98e1-21f68434dd70",
   "metadata": {},
   "outputs": [],
   "source": [
    "import lsst_efd_client\n",
    "from astropy.time import Time\n",
    " \n",
    "efd_name = \"summit_efd\"\n",
    "client = lsst_efd_client.EfdClient(efd_name)"
   ]
  },
  {
   "cell_type": "markdown",
   "id": "78e0328e-4130-491c-983e-4679102d350e",
   "metadata": {},
   "source": [
    "## Test information"
   ]
  },
  {
   "cell_type": "markdown",
   "id": "40097220-0efe-40a7-a555-1b40a27175aa",
   "metadata": {},
   "source": [
    "To find out the sequence numbers, query the EFD for script log messages that contains the focus sequence information. In the cell below you'd have to edit the start and end times and the log_messages dataframe  "
   ]
  },
  {
   "cell_type": "code",
   "execution_count": null,
   "id": "207ece93-46e9-43a1-b327-7c805679a48f",
   "metadata": {},
   "outputs": [],
   "source": [
    "time_start = Time('2022-06-24T12:45:00', scale='utc', format='isot')\n",
    "time_end = Time('2022-06-24T15:00:00', scale='utc', format='isot')\n",
    "\n",
    "log_messages = await client.select_time_series('lsst.sal.Script.logevent_logMessage', \n",
    "                                     ['message','private_sndStamp'], \n",
    "                                     time_start, \n",
    "                                     time_end)"
   ]
  },
  {
   "cell_type": "code",
   "execution_count": null,
   "id": "a999aa9d-8490-43b7-aa0f-bc324c89ce9b",
   "metadata": {},
   "outputs": [],
   "source": [
    "log_messages[log_messages['message'].str.contains(\"END -- Focus Determination\")]"
   ]
  },
  {
   "cell_type": "markdown",
   "id": "11d7d2eb-57bf-4c7b-8c07-fe8f72dcdfed",
   "metadata": {},
   "source": [
    "## Spectral Data"
   ]
  },
  {
   "cell_type": "markdown",
   "id": "347fe025-e65d-4378-a8cb-87ff3f3ac877",
   "metadata": {},
   "source": [
    "### Declare day of observation and image sequences."
   ]
  },
  {
   "cell_type": "markdown",
   "id": "6d6844f0-4600-43a8-8c66-abf3bf3d4780",
   "metadata": {},
   "source": [
    "dayObs format is yyyymmdd. <br>\n",
    "SeqNums is a list of integers, containing the first and last image sequence of the focus sweep. "
   ]
  },
  {
   "cell_type": "code",
   "execution_count": null,
   "id": "fa4e57fb-77ce-4e99-875f-39dcb7574b58",
   "metadata": {},
   "outputs": [],
   "source": [
    "dayObs = 20210323\n",
    "seqNums = [s for s in range(286, 294+1)]\n",
    "print(f'Observation day is {dayObs} \\n'\n",
    "      f'Sequence numbers are {seqNums}')"
   ]
  },
  {
   "cell_type": "markdown",
   "id": "34a2c8a3-91cf-4043-8ae4-97e285701ce9",
   "metadata": {},
   "source": [
    "In case one or more of the images from the sequence are invalid, you can drop them from the seqNums array. Uncomment the cell below after you have replaced the images_to_discard values.   "
   ]
  },
  {
   "cell_type": "code",
   "execution_count": null,
   "id": "63794c55-3a2a-4018-af19-aab67aba5aa1",
   "metadata": {},
   "outputs": [],
   "source": [
    "# images_to_discard = [286,288]\n",
    "# for k in range(len(images_to_discard)):\n",
    "#     try:\n",
    "#         seqNums.remove(images_to_discard[k])\n",
    "#     except:\n",
    "#         print(f'{images_to_discard[k]} image not in original seqNums list')\n",
    "        \n",
    "print(f'\\nObservation day is {dayObs} \\n'\n",
    "      f'New sequence numbers are {seqNums}')"
   ]
  },
  {
   "cell_type": "markdown",
   "id": "e2d10c55-4f67-4786-9ad7-da8d9f77a0af",
   "metadata": {},
   "source": [
    "### Run the Spectral Focus Analyzer"
   ]
  },
  {
   "cell_type": "code",
   "execution_count": null,
   "id": "5ab74629-607c-451e-b220-b2ef56af0931",
   "metadata": {
    "tags": []
   },
   "outputs": [],
   "source": [
    "focusAnalyzer = SpectralFocusAnalyzer()\n",
    "\n",
    "focusAnalyzer.setSpectrumBoxOffsets([500, 750, 1000, 1250])\n",
    "\n",
    "focusAnalyzer.getFocusData(dayObs, seqNums, doDisplay=True)\n",
    "focusAnalyzer.fitDataAndPlot()"
   ]
  },
  {
   "cell_type": "markdown",
   "id": "b4799aa6-94ae-4d45-9f59-046d25d4bc34",
   "metadata": {},
   "source": [
    "## Non Spectral - Imaging Data"
   ]
  },
  {
   "cell_type": "markdown",
   "id": "f5e025c7-3e09-4fed-ac1e-c1764310ee14",
   "metadata": {},
   "source": [
    "dayObs format is yyyymmdd. <br>\n",
    "SeqNums is a list of integers, containing the first and last image of the focus sweep sequence. "
   ]
  },
  {
   "cell_type": "code",
   "execution_count": null,
   "id": "568c206f-8057-4f9a-b4b9-b734553e9b5e",
   "metadata": {},
   "outputs": [],
   "source": [
    "dayObs = 20210323\n",
    "seqNums = [s for s in range(286, 294+1)]\n",
    "print(f'Observation day is {dayObs} \\n'\n",
    "      f'Sequence numbers are {seqNums}')"
   ]
  },
  {
   "cell_type": "markdown",
   "id": "bade79aa-6b1c-47eb-afb2-ac17ae593563",
   "metadata": {},
   "source": [
    "In case one or more of the images from the sequence are invalid, you can drop them from the seqNums array. Uncomment the cell below after you have replaced the images_to_discard values.   "
   ]
  },
  {
   "cell_type": "code",
   "execution_count": null,
   "id": "26a7f024-4853-4fc6-85fe-aae1d8ebcd1c",
   "metadata": {},
   "outputs": [],
   "source": [
    "# images_to_discard = [286,288]\n",
    "# for k in range(len(images_to_discard)):\n",
    "#     try:\n",
    "#         seqNums.remove(images_to_discard[k])\n",
    "#     except:\n",
    "#         print(f'{images_to_discard[k]} image not in original seqNums list')\n",
    "        \n",
    "print(f'\\nObservation day is {dayObs} \\n'\n",
    "      f'New sequence numbers are {seqNums}')"
   ]
  },
  {
   "cell_type": "markdown",
   "id": "05f7de29-a144-483b-80cc-7ad2a2f58f99",
   "metadata": {},
   "source": [
    "### Run the Focus Analyzer"
   ]
  },
  {
   "cell_type": "code",
   "execution_count": null,
   "id": "2ebbfee3-cab5-4b0a-968d-f9615b13c491",
   "metadata": {
    "tags": []
   },
   "outputs": [],
   "source": [
    "focusAnalyzer = NonSpectralFocusAnalyzer()\n",
    "\n",
    "focusAnalyzer.setSpectrumBoxOffsets([500, 750, 1000, 1250])\n",
    "\n",
    "focusAnalyzer.getFocusData(dayObs, seqNums, doDisplay=True)\n",
    "focusAnalyzer.fitDataAndPlot()"
   ]
  }
 ],
 "metadata": {
  "kernelspec": {
   "display_name": "LSST",
   "language": "python",
   "name": "lsst"
  },
  "language_info": {
   "codemirror_mode": {
    "name": "ipython",
    "version": 3
   },
   "file_extension": ".py",
   "mimetype": "text/x-python",
   "name": "python",
   "nbconvert_exporter": "python",
   "pygments_lexer": "ipython3",
   "version": "3.8.13"
  }
 },
 "nbformat": 4,
 "nbformat_minor": 5
}
