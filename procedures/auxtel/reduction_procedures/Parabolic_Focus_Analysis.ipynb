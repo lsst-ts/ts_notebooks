{
 "cells": [
  {
   "cell_type": "markdown",
   "id": "d1724d10-eeb2-4d5f-8744-ebcea10b01a1",
   "metadata": {},
   "source": [
    "# Parabolic Focus Determination Analysis\n",
    "\n",
    "This notebook performs the analysis of focus sweeps taken with the Parabolic_Focus_Determination_Data_Acq.ipynb notebook. It can be used for spectral and non-spectral direct imaging sequences. \n"
   ]
  },
  {
   "cell_type": "markdown",
   "id": "dfbc39d9-e0ca-4c95-8e04-a16f3ca62c31",
   "metadata": {},
   "source": [
    "## Setup"
   ]
  },
  {
   "cell_type": "code",
   "execution_count": null,
   "id": "a0d9b7ed-a33e-4c53-8fb0-e2380b19c29b",
   "metadata": {
    "tags": []
   },
   "outputs": [],
   "source": [
    "from lsst.summit.extras import SpectralFocusAnalyzer, NonSpectralFocusAnalyzer\n",
    "import matplotlib.pyplot as plt\n",
    "import pandas as pd \n",
    "\n",
    "import lsst_efd_client\n",
    "import os\n",
    "from astropy.time import Time"
   ]
  },
  {
   "cell_type": "code",
   "execution_count": null,
   "id": "374cc8f1-6783-40b3-91d3-565593030965",
   "metadata": {
    "tags": []
   },
   "outputs": [],
   "source": [
    "%matplotlib inline"
   ]
  },
  {
   "cell_type": "code",
   "execution_count": null,
   "id": "099bccd5-26eb-46f3-98e1-21f68434dd70",
   "metadata": {
    "tags": []
   },
   "outputs": [],
   "source": [
    "location = os.environ[\"LSST_DDS_PARTITION_PREFIX\"]\n",
    "print(f'{location=}')\n",
    "if location == \"summit\":\n",
    "    client = lsst_efd_client.EfdClient(\"summit_efd\")\n",
    "elif location == \"tucson\":\n",
    "    client = lsst_efd_client.EfdClient(\"tucson_teststand_efd\")\n",
    "else:\n",
    "    raise ValueError(\n",
    "        \"Location does not match any valid options {summit|tucson}\"\n",
    "        )\n"
   ]
  },
  {
   "cell_type": "markdown",
   "id": "78e0328e-4130-491c-983e-4679102d350e",
   "metadata": {},
   "source": [
    "## Test information"
   ]
  },
  {
   "cell_type": "markdown",
   "id": "40097220-0efe-40a7-a555-1b40a27175aa",
   "metadata": {},
   "source": [
    "In this section the original focus values will be declared and sequence numbers will be printed to use in the Analysis Section. \n",
    "\n",
    "Introduce here the day of observation (Careful with the date change at midnight UTC), and filter and grating used. "
   ]
  },
  {
   "cell_type": "code",
   "execution_count": null,
   "id": "4f7d6838-14c0-4753-b1c3-940154a9a266",
   "metadata": {
    "tags": []
   },
   "outputs": [],
   "source": [
    "dayObs= 20230117\n",
    "filter_used = 'SDSSr_65mm'\n",
    "grating_used= 'holo4_003'"
   ]
  },
  {
   "cell_type": "code",
   "execution_count": null,
   "id": "2ed90bd3-8f2a-4aed-9806-da6114f4ba55",
   "metadata": {
    "tags": []
   },
   "outputs": [],
   "source": [
    "day_obs = str(dayObs)\n",
    "time_start = Time(f'{day_obs[0:4]}-{day_obs[4:6]}-{day_obs[6:9]}T00:00:01', scale='utc', format='isot')\n",
    "time_end = Time(f'{day_obs[0:4]}-{day_obs[4:6]}-{day_obs[6:9]}T23:59:00', scale='utc', format='isot')\n",
    "\n",
    "log_messages = await client.select_time_series('lsst.sal.Script.logevent_logMessage', \n",
    "                                      ['message','salIndex'], \n",
    "                                      time_start, \n",
    "                                      time_end)\n",
    "\n",
    "salindex = log_messages[log_messages['message'].str.contains(f\"START -- Parabolic_Focus -- {filter_used} and {grating_used}\")]['salIndex'][0]\n",
    "\n",
    "script_messages = log_messages[log_messages['salIndex']==(salindex)]"
   ]
  },
  {
   "cell_type": "markdown",
   "id": "2e123327-f1a2-4663-86cb-b27c2fafa7ac",
   "metadata": {},
   "source": [
    "### To print all script messages from EFD"
   ]
  },
  {
   "cell_type": "code",
   "execution_count": null,
   "id": "b7e0f60e-5c8e-4587-a25b-21778c3b4377",
   "metadata": {
    "tags": []
   },
   "outputs": [],
   "source": [
    "pd.set_option('max_colwidth', 1500, 'display.max_rows', None)\n",
    "\n",
    "# If you want to see all the script messages, uncomment the next line\n",
    "# script_messages"
   ]
  },
  {
   "cell_type": "markdown",
   "id": "e1a0b370-e34e-47cc-a523-34515f1d2949",
   "metadata": {
    "tags": []
   },
   "source": [
    "### To print the exposures ids"
   ]
  },
  {
   "cell_type": "code",
   "execution_count": null,
   "id": "83cec229-89df-4759-bc86-4310eeec786c",
   "metadata": {
    "tags": []
   },
   "outputs": [],
   "source": [
    "expIds= script_messages[script_messages['message'].str.contains(f\"Image expId\")]\n",
    "print(f'The exposures taken for the parabolic focus sequence on {dayObs} with {filter_used} and {grating_used} are') \n",
    "display(expIds)"
   ]
  },
  {
   "cell_type": "markdown",
   "id": "2315fe5f-3f9d-4588-a003-153f2c06c987",
   "metadata": {
    "tags": []
   },
   "source": [
    "### To declare the original focus offset for use in later analysis"
   ]
  },
  {
   "cell_type": "code",
   "execution_count": null,
   "id": "a4c67351-350e-4eb8-966e-ac819eca0c84",
   "metadata": {
    "tags": []
   },
   "outputs": [],
   "source": [
    "originalFocus = script_messages[script_messages['message'].str.contains(f\"Original focus offset\")]"
   ]
  },
  {
   "cell_type": "code",
   "execution_count": null,
   "id": "e101d7bf-e050-423c-8f6c-6cdad2fcf5d4",
   "metadata": {
    "tags": []
   },
   "outputs": [],
   "source": [
    "original_filter_focus = float((originalFocus.message[0])[originalFocus.message[0].find(\"filter\")+len(\"filter\")+2:originalFocus.message[0].find(\",\",originalFocus.message[0].find(\"filter\"))])\n",
    "original_disperser_focus = float((originalFocus.message[0])[originalFocus.message[0].find(\"disperser\")+len(\"disperser\")+2:originalFocus.message[0].find(\",\",originalFocus.message[0].find(\"disperser\"))])\n",
    "original_userApplied_focus = float((originalFocus.message[0])[originalFocus.message[0].find(\"userApplied\")+len(\"userApplied\")+2:originalFocus.message[0].find(\",\",originalFocus.message[0].find(\"userApplied\"))])"
   ]
  },
  {
   "cell_type": "code",
   "execution_count": null,
   "id": "027d7790-57bf-46aa-8ab5-80a56db656bf",
   "metadata": {
    "tags": []
   },
   "outputs": [],
   "source": [
    "print(f' Original User Applied Focus {original_userApplied_focus:0.3f} mm \\n'\n",
    "      f' Original Disperser Focus {original_disperser_focus:0.3f} mm \\n'\n",
    "      f' Original Filter Focus {original_filter_focus:0.3f} mm')"
   ]
  },
  {
   "cell_type": "markdown",
   "id": "1a685b7e-d5c7-4181-b511-802a72528587",
   "metadata": {},
   "source": [
    "## Analysis"
   ]
  },
  {
   "cell_type": "markdown",
   "id": "11d7d2eb-57bf-4c7b-8c07-fe8f72dcdfed",
   "metadata": {},
   "source": [
    "### Spectral Data\n",
    "Skip to the `Imaging Data - Non Spectral` section below, if only dealing with images. "
   ]
  },
  {
   "cell_type": "markdown",
   "id": "347fe025-e65d-4378-a8cb-87ff3f3ac877",
   "metadata": {},
   "source": [
    "#### Declare day of observation and image sequences."
   ]
  },
  {
   "cell_type": "markdown",
   "id": "6d6844f0-4600-43a8-8c66-abf3bf3d4780",
   "metadata": {},
   "source": [
    "dayObs format is yyyymmdd. <br>\n",
    "SeqNums is a list of integers, containing the first and last image sequence of the focus sweep. "
   ]
  },
  {
   "cell_type": "code",
   "execution_count": null,
   "id": "148bb9d9-d6f0-4025-9e87-1c570c0adeba",
   "metadata": {},
   "outputs": [],
   "source": [
    "print(f'Observation day is {dayObs} \\nIf you skipped the previous section and want to edit dayObs, please uncomment and edit the following cell')"
   ]
  },
  {
   "cell_type": "code",
   "execution_count": null,
   "id": "b0ff4150-8967-4393-b7bb-4684f8a8dfb1",
   "metadata": {},
   "outputs": [],
   "source": [
    "# dayObs = 20210323"
   ]
  },
  {
   "cell_type": "markdown",
   "id": "3d89ab23-f785-4b04-bbc8-5cbc0d21fdfe",
   "metadata": {},
   "source": [
    "Enter the image sequence numbers (+1 as the range function by default does not include the last value)"
   ]
  },
  {
   "cell_type": "code",
   "execution_count": null,
   "id": "fa4e57fb-77ce-4e99-875f-39dcb7574b58",
   "metadata": {},
   "outputs": [],
   "source": [
    "seqNums = [s for s in range(286, 294+1)]\n",
    "print(f'Observation day is {dayObs} \\n'\n",
    "      f'Sequence numbers are {seqNums}')"
   ]
  },
  {
   "cell_type": "markdown",
   "id": "34a2c8a3-91cf-4043-8ae4-97e285701ce9",
   "metadata": {},
   "source": [
    "In case one or more of the images from the sequence are invalid, you can drop them from the seqNums array. Uncomment the cell below after you have replaced the images_to_discard list.    "
   ]
  },
  {
   "cell_type": "code",
   "execution_count": null,
   "id": "63794c55-3a2a-4018-af19-aab67aba5aa1",
   "metadata": {},
   "outputs": [],
   "source": [
    "# images_to_discard = [286,288]\n",
    "# for k in range(len(images_to_discard)):\n",
    "#     try:\n",
    "#         seqNums.remove(images_to_discard[k])\n",
    "#     except:\n",
    "#         print(f'{images_to_discard[k]} image not in original seqNums list')\n",
    "        \n",
    "print(f'\\nObservation day is {dayObs} \\n'\n",
    "      f'New sequence numbers are {seqNums}')"
   ]
  },
  {
   "cell_type": "markdown",
   "id": "e2d10c55-4f67-4786-9ad7-da8d9f77a0af",
   "metadata": {},
   "source": [
    "#### Run the Spectral Focus Analyzer"
   ]
  },
  {
   "cell_type": "markdown",
   "id": "3f5c2d22-d892-4adb-9125-2b9db51797cd",
   "metadata": {},
   "source": [
    "The `SpectralFocusAnalyzer` takes slices through the spectrum at y-offsets, fitting a Gaussian to each spectrum slice to measure its width.\n",
    "For each offset distance, fit a parabola to the fitted spectral widths and return the hexapod position at which the best focus was achieved for each offset. \n",
    "The number of slices and their distances to the zero-order star can be customized by calling `setSpectrumBoxOffsets().`"
   ]
  },
  {
   "cell_type": "code",
   "execution_count": null,
   "id": "5ab74629-607c-451e-b220-b2ef56af0931",
   "metadata": {
    "tags": []
   },
   "outputs": [],
   "source": [
    "focusAnalyzer = SpectralFocusAnalyzer()\n",
    "\n",
    "# The numerical values in the square brackets inside the `setSpectrumBoxOffsets()` need to be manually adjusted so a Gaussian fit falls in the center of each spectrum slice. \n",
    "# Each number represents the distance, in pixels, from the zero orden spectrum. \n",
    "\n",
    "focusAnalyzer.setSpectrumBoxOffsets([500, 750, 1000, 1250])\n",
    "\n",
    "focusAnalyzer.getFocusData(dayObs, seqNums, doDisplay=True)\n",
    "focusAnalyzer.fitDataAndPlot()"
   ]
  },
  {
   "cell_type": "markdown",
   "id": "ced7a945-b283-4ea9-a20e-253b17412c14",
   "metadata": {},
   "source": [
    "#### Results"
   ]
  },
  {
   "cell_type": "markdown",
   "id": "99e7990c-7684-469b-8f54-ec8e8ba3513b",
   "metadata": {},
   "source": [
    "The value obtained in the previous analysis must be corrected corrected with the user_applied focus offset (from the analysis above) as well as the value in the currently loaded configuration file (in ts_config_latiss) for the ATSpectrograph CSC."
   ]
  },
  {
   "cell_type": "code",
   "execution_count": null,
   "id": "c6fab740-9295-4296-920f-09a30805242b",
   "metadata": {},
   "outputs": [],
   "source": [
    "result_focus_analyzer = "
   ]
  },
  {
   "cell_type": "code",
   "execution_count": null,
   "id": "5c65265a-4c96-4714-ac0e-981509bf2611",
   "metadata": {},
   "outputs": [],
   "source": [
    "offset = result_focus_analyzer - original_userApplied_focus\n",
    "new_value_disperser_focus = original_disperser_focus + offset"
   ]
  },
  {
   "cell_type": "code",
   "execution_count": null,
   "id": "501ce3f6-e6f5-4f7a-b3a4-591e01247059",
   "metadata": {},
   "outputs": [],
   "source": [
    "print(f'The new value in the config file for the disperser focus is {new_value_disperser_focus:0.3f} mm')"
   ]
  },
  {
   "cell_type": "markdown",
   "id": "b4799aa6-94ae-4d45-9f59-046d25d4bc34",
   "metadata": {},
   "source": [
    "### Imaging Data - Non spectral\n",
    "Do not execute this section if you are dealing with spectra: please proceed to section above `Spectral Data`"
   ]
  },
  {
   "cell_type": "markdown",
   "id": "6aada75d-9374-4427-afe9-8022d79ed7c4",
   "metadata": {},
   "source": [
    "#### Declare day of observation and image sequences."
   ]
  },
  {
   "cell_type": "markdown",
   "id": "f5e025c7-3e09-4fed-ac1e-c1764310ee14",
   "metadata": {},
   "source": [
    "dayObs format is yyyymmdd. <br>\n",
    "SeqNums is a list of integers, containing the first and last image of the focus sweep sequence. "
   ]
  },
  {
   "cell_type": "code",
   "execution_count": null,
   "id": "9f721335-5a5d-427c-bb31-6f84382fa69d",
   "metadata": {},
   "outputs": [],
   "source": [
    "print(f'Observation day is {dayObs} \\nIf you skipped the previous section and want to edit dayObs, please uncomment and edit the following cell')"
   ]
  },
  {
   "cell_type": "code",
   "execution_count": null,
   "id": "77466a89-95eb-4d03-9e81-5a3898497082",
   "metadata": {},
   "outputs": [],
   "source": [
    "# dayObs = 20210323"
   ]
  },
  {
   "cell_type": "markdown",
   "id": "cd8d6575-fb63-4936-b65a-d75db81291a2",
   "metadata": {},
   "source": [
    "Enter the image sequence numbers"
   ]
  },
  {
   "cell_type": "code",
   "execution_count": null,
   "id": "568c206f-8057-4f9a-b4b9-b734553e9b5e",
   "metadata": {},
   "outputs": [],
   "source": [
    "seqNums = [s for s in range(286, 294+1)]\n",
    "print(f'Observation day is {dayObs} \\n'\n",
    "      f'Sequence numbers are {seqNums}')"
   ]
  },
  {
   "cell_type": "markdown",
   "id": "bade79aa-6b1c-47eb-afb2-ac17ae593563",
   "metadata": {},
   "source": [
    "In case one or more of the images from the sequence are invalid, you can drop them from the seqNums array. Uncomment the cell below after you have replaced the images_to_discard values.   "
   ]
  },
  {
   "cell_type": "code",
   "execution_count": null,
   "id": "26a7f024-4853-4fc6-85fe-aae1d8ebcd1c",
   "metadata": {},
   "outputs": [],
   "source": [
    "# images_to_discard = [286,288]\n",
    "# for k in range(len(images_to_discard)):\n",
    "#     try:\n",
    "#         seqNums.remove(images_to_discard[k])\n",
    "#     except:\n",
    "#         print(f'{images_to_discard[k]} image not in original seqNums list')\n",
    "        \n",
    "print(f'\\nObservation day is {dayObs} \\n'\n",
    "      f'New sequence numbers are {seqNums}')"
   ]
  },
  {
   "cell_type": "markdown",
   "id": "05f7de29-a144-483b-80cc-7ad2a2f58f99",
   "metadata": {
    "tags": [],
    "toc-hr-collapsed": true
   },
   "source": [
    "#### Run the Focus Analyzer"
   ]
  },
  {
   "cell_type": "markdown",
   "id": "12ad25c7-c77a-4abe-a950-ffc5d19ea811",
   "metadata": {},
   "source": [
    "For each image, the `NonSpectralFocusAnalyzer()` measures the FWHM of the main star and the 50/80/90% encircled energy radii, and fit a parabola to get the position of best focus."
   ]
  },
  {
   "cell_type": "code",
   "execution_count": null,
   "id": "2ebbfee3-cab5-4b0a-968d-f9615b13c491",
   "metadata": {
    "tags": []
   },
   "outputs": [],
   "source": [
    "focusAnalyzer = NonSpectralFocusAnalyzer()\n",
    "\n",
    "focusAnalyzer.getFocusData(dayObs, seqNums, doDisplay=True)\n",
    "focusAnalyzer.fitDataAndPlot()"
   ]
  },
  {
   "cell_type": "markdown",
   "id": "9967acba-f315-465e-8a97-8bd2c8e3d5b4",
   "metadata": {
    "tags": []
   },
   "source": [
    "#### Results"
   ]
  },
  {
   "cell_type": "markdown",
   "id": "d33c6fab-3dcb-4719-bbf2-747903f9032c",
   "metadata": {},
   "source": [
    "The result obtained in the previous analysis must be corrected with the user_applied focus offset (from the analysis above) as well as the value in the currently loaded configuration file (in ts_config_latiss) for the ATSpectrograph CSC. "
   ]
  },
  {
   "cell_type": "code",
   "execution_count": null,
   "id": "4db0e1e3-9044-4042-9cf4-4f4e3e9baf26",
   "metadata": {},
   "outputs": [],
   "source": [
    "result_focus_analyzer = "
   ]
  },
  {
   "cell_type": "code",
   "execution_count": null,
   "id": "2c1f870b-29f3-4201-8da7-f708a3c491fb",
   "metadata": {},
   "outputs": [],
   "source": [
    "offset = result_focus_analyzer - original_userApplied_focus\n",
    "new_value_filter_focus = original_filter_focus + offset"
   ]
  },
  {
   "cell_type": "code",
   "execution_count": null,
   "id": "596b0563-e0ed-4391-97bf-fec6d48e7d54",
   "metadata": {},
   "outputs": [],
   "source": [
    "print(f'The new value in the config file for the filter focus should be {new_value_filter_focus:0.3f} mm')"
   ]
  }
 ],
 "metadata": {
  "kernelspec": {
   "display_name": "LSST",
   "language": "python",
   "name": "lsst"
  },
  "language_info": {
   "codemirror_mode": {
    "name": "ipython",
    "version": 3
   },
   "file_extension": ".py",
   "mimetype": "text/x-python",
   "name": "python",
   "nbconvert_exporter": "python",
   "pygments_lexer": "ipython3",
   "version": "3.10.9"
  }
 },
 "nbformat": 4,
 "nbformat_minor": 5
}
