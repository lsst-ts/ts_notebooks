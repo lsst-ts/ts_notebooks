{
 "cells": [
  {
   "cell_type": "markdown",
   "id": "398e92f1-51b2-4db3-a116-19cad9778a16",
   "metadata": {},
   "source": [
    "# Parabolic Focus Determination Data Acquisition\n",
    "\n",
    "This notebook executes a parabolic focus data acquisition for a specific filter/grating configuration. It performs fine sampling of z-axis hexapod translations and takes images at each hexapod position. The analysis will be done in a separate notebook. \n",
    "\n",
    "Also contained in this notebook are three focus script executions for the configurations filter/grating, filter/no grating and no filter/no grating. In some cases they might be useful as a comparison with the results of the parabolic focus results. "
   ]
  },
  {
   "cell_type": "markdown",
   "id": "d6a4c950-a892-4915-91a4-b46a5de181d5",
   "metadata": {},
   "source": [
    "# Notebook dependency set up"
   ]
  },
  {
   "cell_type": "markdown",
   "id": "35571f7a-3c5d-44fc-9809-614fdb2364c4",
   "metadata": {},
   "source": [
    "## Import libraries"
   ]
  },
  {
   "cell_type": "code",
   "execution_count": null,
   "id": "07cea8b7-fac8-40e5-87e5-6e50b09f1db7",
   "metadata": {
    "tags": []
   },
   "outputs": [],
   "source": [
    "import sys\n",
    "import asyncio\n",
    "import time\n",
    "import os\n",
    "import datetime \n",
    "\n",
    "import numpy as np\n",
    "import logging \n",
    "import yaml\n",
    "import matplotlib.pyplot as plt\n",
    "import astropy\n",
    "\n",
    "from lsst.ts import salobj\n",
    "from lsst.ts.externalscripts.auxtel.latiss_wep_align import LatissWEPAlign\n",
    "from lsst.ts.observatory.control.utils import RotType\n",
    "\n",
    "from lsst.ts.idl.enums.Script import ScriptState"
   ]
  },
  {
   "cell_type": "markdown",
   "id": "5c110a43-49c9-459c-a833-02d745cd86d8",
   "metadata": {},
   "source": [
    "## Setting up logger"
   ]
  },
  {
   "cell_type": "code",
   "execution_count": null,
   "id": "f4f722d2-dee7-4c32-ade1-83f981fe7a6a",
   "metadata": {},
   "outputs": [],
   "source": [
    "logger = logging.getLogger(\"Parabolic_Focus\")\n",
    "logger.level = logging.DEBUG"
   ]
  },
  {
   "cell_type": "markdown",
   "id": "156a7f96-6352-4cde-8805-7e84eff2754c",
   "metadata": {
    "tags": []
   },
   "source": [
    "## Getting unique index for script"
   ]
  },
  {
   "cell_type": "markdown",
   "id": "973dc9cf-fd0e-4d1f-afb7-845b6e120c05",
   "metadata": {},
   "source": [
    "Restart from here if you want to execute the parabolic focus sequence again. This will generate a new script index. "
   ]
  },
  {
   "cell_type": "code",
   "execution_count": null,
   "id": "46290f24-0c4d-4977-a2b8-663293d2b55f",
   "metadata": {},
   "outputs": [],
   "source": [
    "index = int((datetime.datetime.today().strftime('%Y%m%d')) + str(np.random.randint(10, 99)))\n",
    "logger.info(f'The generated index is {index}')"
   ]
  },
  {
   "cell_type": "markdown",
   "id": "30730d48-244d-462f-82e3-faa05d844aa9",
   "metadata": {},
   "source": [
    "## Instantiate Alignment and Focus Script"
   ]
  },
  {
   "cell_type": "markdown",
   "id": "bb20f50b-aeac-48ce-aeba-63b4c3d14a7f",
   "metadata": {},
   "source": [
    "In many cases, it is desirable to perform a focus sequence for comparison with the parabolic focus. <br>\n",
    "This is because the focus offsets are measured relative to the empty position in each wheel. <br>\n",
    "Therefore, LatissWEPAlign script is instantiated, to provide the option to the user after the parabolic focus data acquisition is done. <br>\n",
    "However, it can also be run beforehand if desired."
   ]
  },
  {
   "cell_type": "code",
   "execution_count": null,
   "id": "a01e1162-5f4e-47be-b496-cad7ca7fb8ec",
   "metadata": {
    "tags": []
   },
   "outputs": [],
   "source": [
    "script = LatissWEPAlign(index=index, remotes=True)  # this essentially calls the init method\n",
    "await script.start_task"
   ]
  },
  {
   "cell_type": "markdown",
   "id": "65e2e62d-41f8-497d-9c7e-2c216de55ae4",
   "metadata": {},
   "source": [
    "## Forward ATCS and LATISS"
   ]
  },
  {
   "cell_type": "code",
   "execution_count": null,
   "id": "04cc2f4f-69e2-4ddf-93fd-70613ba0ef32",
   "metadata": {
    "tags": []
   },
   "outputs": [],
   "source": [
    "atcs = script.atcs\n",
    "latiss = script.latiss"
   ]
  },
  {
   "cell_type": "markdown",
   "id": "cc18e727-5d4d-4c04-83bb-15aff9ec4d54",
   "metadata": {},
   "source": [
    "## Set up script log level"
   ]
  },
  {
   "cell_type": "code",
   "execution_count": null,
   "id": "0735e70c-d746-4165-a131-327d1709b8f3",
   "metadata": {},
   "outputs": [],
   "source": [
    "script.log.level = logging.DEBUG"
   ]
  },
  {
   "cell_type": "markdown",
   "id": "fab8d1f7-f6f2-4b9b-a298-df915f1123b5",
   "metadata": {},
   "source": [
    "---\n",
    "# Parabolic Focus Data Acquisition"
   ]
  },
  {
   "cell_type": "markdown",
   "id": "5e3b0a14-9cc1-4f1e-8cc6-191308ffe3fa",
   "metadata": {},
   "source": [
    "## Configuration"
   ]
  },
  {
   "cell_type": "markdown",
   "id": "f0eced48-2302-4d64-a9f4-fbfad328ed93",
   "metadata": {},
   "source": [
    "### ATSpectrograph configuration"
   ]
  },
  {
   "cell_type": "markdown",
   "id": "225f0e42-d477-470f-a805-9b67207769a5",
   "metadata": {},
   "source": [
    "Get available instrument configurations:"
   ]
  },
  {
   "cell_type": "code",
   "execution_count": null,
   "id": "301e2b1b-ffd8-4b8c-a040-ae95319fd3bf",
   "metadata": {},
   "outputs": [],
   "source": [
    "inst_setup = await script.latiss.get_available_instrument_setup()\n",
    "logger.info(f'Filters are: {inst_setup[0]},\\nGratings are: {inst_setup[1]}')"
   ]
  },
  {
   "cell_type": "markdown",
   "id": "926619f0-2be8-4b27-9f10-2d155dd086c5",
   "metadata": {},
   "source": [
    "Declare the configuration of the instrument for the focus determination sequence. Both variables are strings. "
   ]
  },
  {
   "cell_type": "code",
   "execution_count": null,
   "id": "59c85d69-613b-4e77-9290-361bc807a6e5",
   "metadata": {},
   "outputs": [],
   "source": [
    "filter_to_focus = 'SDSSr_65mm'\n",
    "grating_to_focus = 'holo4_003'"
   ]
  },
  {
   "cell_type": "markdown",
   "id": "d40fc311-2ff6-4795-8953-09afd25c68b8",
   "metadata": {},
   "source": [
    "### ATAOS corrections"
   ]
  },
  {
   "cell_type": "markdown",
   "id": "fcb00e7a-045f-4769-8b4c-597998877b71",
   "metadata": {},
   "source": [
    "ATAOS corrections must be enabled for this test. In the cell below, ATAOS corrections will be enabled, in case they were not. "
   ]
  },
  {
   "cell_type": "code",
   "execution_count": null,
   "id": "f2293ac2-8e86-461e-b139-2f0b577da46e",
   "metadata": {},
   "outputs": [],
   "source": [
    "corrections_enabled = await script.atcs.rem.ataos.evt_correctionEnabled.aget()\n",
    "if not (corrections_enabled.m1 and corrections_enabled.hexapod and corrections_enabled.atspectrograph):\n",
    "    cmd = await script.atcs.rem.ataos.cmd_enableCorrection.set_start(m1=True, hexapod=True, atspectrograph=True)\n",
    "    logger.info(f'ATAOS corrections enabled: {cmd.result}')\n",
    "else:\n",
    "    logger.info(f'ATAOS corrections already enabled')"
   ]
  },
  {
   "cell_type": "markdown",
   "id": "1cb55fb3-8a4f-4573-b4da-d8e9967955ae",
   "metadata": {},
   "source": [
    "## Slew to target"
   ]
  },
  {
   "cell_type": "markdown",
   "id": "36226d8e-0a4e-433b-b6a2-ca152369a258",
   "metadata": {
    "tags": []
   },
   "source": [
    "### Declare target "
   ]
  },
  {
   "cell_type": "markdown",
   "id": "1a5e3e73-dc37-4f4a-ae3a-46e6f4cbd99d",
   "metadata": {},
   "source": [
    "Declare target name"
   ]
  },
  {
   "cell_type": "code",
   "execution_count": null,
   "id": "26449bcc-3ee2-4451-9817-19feb623e377",
   "metadata": {},
   "outputs": [],
   "source": [
    "#target = 'HD '"
   ]
  },
  {
   "cell_type": "markdown",
   "id": "5b79cd9d-a9a5-4790-8f86-7aaffacb7848",
   "metadata": {},
   "source": [
    "or query for a target at a user-defined azimuth and elevation"
   ]
  },
  {
   "cell_type": "code",
   "execution_count": null,
   "id": "6cfbf353-52a0-4de9-97ee-c22289f0bc92",
   "metadata": {},
   "outputs": [],
   "source": [
    "target = await script.atcs.find_target(az=90, el=60, mag_limit=8)\n",
    "logger.info(f'The target is {target}')"
   ]
  },
  {
   "cell_type": "markdown",
   "id": "ddbe7e18-ae08-4076-b843-7c85062c3509",
   "metadata": {},
   "source": [
    "### Slew to the defined target"
   ]
  },
  {
   "cell_type": "code",
   "execution_count": null,
   "id": "f3f6d290-1645-4836-93a0-bcba0fab4ef9",
   "metadata": {},
   "outputs": [],
   "source": [
    "await script.atcs.slew_object(target, rot_type=RotType.Parallactic)"
   ]
  },
  {
   "cell_type": "markdown",
   "id": "3f8a3dba-beb5-458a-8c14-7bb1a84585ae",
   "metadata": {},
   "source": [
    "Take test image (also to ensure the right filter and grating are on) "
   ]
  },
  {
   "cell_type": "code",
   "execution_count": null,
   "id": "95a6e0fe-533e-4261-bea9-d2860f74ed2d",
   "metadata": {},
   "outputs": [],
   "source": [
    "await script.latiss.take_engtest(exptime=2, filter=filter_to_focus, grating=grating_to_focus, program=\"Parabolic_Focus\")"
   ]
  },
  {
   "cell_type": "markdown",
   "id": "da8c298a-0630-4142-80d1-bfe8625a71ee",
   "metadata": {},
   "source": [
    "### Acquire target"
   ]
  },
  {
   "cell_type": "markdown",
   "id": "faaf312c-6e21-4142-8f8c-9d41f9e1cc9b",
   "metadata": {},
   "source": [
    "#### With grating in the beam"
   ]
  },
  {
   "cell_type": "markdown",
   "id": "80aa7248-99a9-4fbc-9524-7ef9fe8c1042",
   "metadata": {},
   "source": [
    "If a grating is used, you need to acquire the target with these additional steps. \n",
    "Note that a new grating will require that the desired star placement has been set via the ATCS.\n",
    "\n",
    "As an interim solution, run `latiss_acquire_and_take_sequence` script from the ATQueue with the following configuration. Change the `object_name` with the target you are currently tracking, `acq_filter` with the filter and `acq_grating` with the grating in use.  \n",
    "\n",
    "            acq_exposure_time: 2.0\n",
    "            acq_filter: ***** CHANGE ME *****\n",
    "            acq_grating: ***** CHANGE ME *****\n",
    "            do_acquire: true\n",
    "            do_pointing_model: false\n",
    "            max_acq_iter: 3\n",
    "            object_name: ***** CHANGE ME *****\n",
    "            target_pointing_tolerance: 5.0\n",
    "            target_pointing_verification: true\n"
   ]
  },
  {
   "cell_type": "markdown",
   "id": "31154e79-64f9-466e-95d6-9987a02e3da8",
   "metadata": {},
   "source": [
    "#### Without grating"
   ]
  },
  {
   "cell_type": "markdown",
   "id": "bdbe5e22-5850-49e0-a828-cd7c6580902c",
   "metadata": {},
   "source": [
    "Uncomment the following line to take a snapshot to verify the target is positioned as expected "
   ]
  },
  {
   "cell_type": "code",
   "execution_count": null,
   "id": "bd4c8b32-d03c-48b2-a2cf-61df3b9ad6b1",
   "metadata": {},
   "outputs": [],
   "source": [
    "#await script.latiss.take_engtest(exptime=5, filter=filter_to_focus, grating=grating_to_focus)"
   ]
  },
  {
   "cell_type": "markdown",
   "id": "7ce8626b-c74f-4693-8c7b-bf65c16ad411",
   "metadata": {},
   "source": [
    "To offset the telescope and center the source (if required) uncomment the following line. <br>\n",
    "Offsets are in detector X/Y coordinates and in arcseconds. "
   ]
  },
  {
   "cell_type": "code",
   "execution_count": null,
   "id": "d2457418-602c-488f-bc75-602042a7b422",
   "metadata": {},
   "outputs": [],
   "source": [
    "# await script.atcs.offset_xy(x=20, y=20)"
   ]
  },
  {
   "cell_type": "markdown",
   "id": "10c8f910-bd1b-478d-9420-6580b8686f0d",
   "metadata": {
    "tags": []
   },
   "source": [
    "### Acquiring Data\n",
    "\n",
    "Acquire data in steps of `z_offset_step` in the range of `z_offset_start` to `z_offset_end` relative to the current focus position."
   ]
  },
  {
   "cell_type": "code",
   "execution_count": null,
   "id": "c794fb90-ace2-468b-befc-002ee46f9726",
   "metadata": {
    "tags": []
   },
   "outputs": [],
   "source": [
    "z_offset_start = -0.1 # mm\n",
    "z_offset_step = 0.025 # mm\n",
    "z_offset_end = -z_offset_start\n",
    "\n",
    "steps = np.arange(z_offset_start, z_offset_end + 0.01, z_offset_step)\n",
    "\n",
    "logger.info(f'The hexapod will be moved the following z offset steps \\n {steps} [mm]. \\n If you disagree, change the parameters above and run this cell again')"
   ]
  },
  {
   "cell_type": "code",
   "execution_count": null,
   "id": "5f8a7ea7-df40-47ac-8667-1478f412662f",
   "metadata": {},
   "outputs": [],
   "source": [
    "original_focus_offset = await script.atcs.rem.ataos.evt_focusOffsetSummary.aget()\n",
    "script.log.info(f'Original focus offset is {original_focus_offset}')"
   ]
  },
  {
   "cell_type": "code",
   "execution_count": null,
   "id": "ecace2e3-5cf3-498c-bff7-2ddf97cf28b7",
   "metadata": {},
   "outputs": [],
   "source": [
    "script.log.info(f'START -- Parabolic_Focus -- {filter_to_focus} and {grating_to_focus} '\n",
    "                    f'Time UTC -- {astropy.time.Time(astropy.time.Time.now())}') "
   ]
  },
  {
   "cell_type": "code",
   "execution_count": null,
   "id": "7b3066a1-4c67-4b23-82cf-7f18b37ec0b6",
   "metadata": {
    "tags": []
   },
   "outputs": [],
   "source": [
    "parabolic_focus_data = []\n",
    "\n",
    "await atcs.rem.ataos.cmd_offset.set_start(z=z_offset_start)\n",
    "    \n",
    "await asyncio.sleep(2)\n",
    "for step in steps:\n",
    "        \n",
    "    exposure = await latiss.take_engtest(\n",
    "        exptime=20, n=1, filter=filter_to_focus, grating=grating_to_focus, reason='focus_sequence', program=\"Parabolic_Focus\")\n",
    "    parabolic_focus_data.append(exposure[0])\n",
    "    script.log.info(f'Total z offset = {step:.3f} mm -- Image expId = {exposure[0]}')\n",
    "    \n",
    "    logger.info(f'Current focus offset is \\n {await script.atcs.rem.ataos.evt_focusOffsetSummary.aget()}')\n",
    "    \n",
    "    await atcs.rem.ataos.cmd_offset.set_start(z=z_offset_step)\n",
    "\n",
    "# Move back to the original focus offset position\n",
    "await atcs.rem.ataos.cmd_offset.set_start(z= -(z_offset_end + z_offset_step))\n",
    "logger.info(f'Back to the original focus offset position \\n {await script.atcs.rem.ataos.evt_focusOffsetSummary.aget()}')\n",
    "\n",
    "# Log results into EFD for later analysis\n",
    "script.log.info(f'END -- Parabolic_Focus -- {filter_to_focus} and {grating_to_focus}  '\n",
    "                    f'Images expId -- {parabolic_focus_data} '\n",
    "                    f'Time UTC -- {astropy.time.Time(astropy.time.Time.now())}') "
   ]
  },
  {
   "cell_type": "code",
   "execution_count": null,
   "id": "1019996b-ec92-4d69-af5a-e260c8d9693d",
   "metadata": {},
   "outputs": [],
   "source": [
    "current_focus_offset = await script.atcs.rem.ataos.evt_focusOffsetSummary.aget()\n",
    "script.log.info(f'Current focus offset is {current_focus_offset}')"
   ]
  },
  {
   "cell_type": "markdown",
   "id": "46f5564d-9ad6-4ade-9027-806dfae57121",
   "metadata": {},
   "source": [
    "Original and current focus offset's user applied should be now equal.  "
   ]
  },
  {
   "cell_type": "code",
   "execution_count": null,
   "id": "dab7a892-430e-4cd8-91ab-db1dbbd74509",
   "metadata": {},
   "outputs": [],
   "source": [
    "diff = current_focus_offset.userApplied - original_focus_offset.userApplied\n",
    "print(f'Difference between current and original user Applied focus is {diff:0.2f} mm')"
   ]
  },
  {
   "cell_type": "markdown",
   "id": "c496a686-9ffa-4eff-a2d8-7e92103f4b37",
   "metadata": {},
   "source": [
    "Save this execution notebook for later use during the data analysis, as the `test_date`, `index` and `original_focus_offset` will be needed in the parabolic_Focus_Analysis.ipynb notebook."
   ]
  },
  {
   "cell_type": "markdown",
   "id": "7346a280-3fc3-4027-baf6-0dcb7ce8364c",
   "metadata": {},
   "source": [
    "## Stop tracking"
   ]
  },
  {
   "cell_type": "markdown",
   "id": "96cfb21c-5923-4858-b11a-c93796934a2b",
   "metadata": {},
   "source": [
    "If required, then uncomment and use the following cell to stop the telescope from tracking, but you will lose your acquisition."
   ]
  },
  {
   "cell_type": "code",
   "execution_count": null,
   "id": "e3c2ff73-e750-4542-9380-909c45aee054",
   "metadata": {},
   "outputs": [],
   "source": [
    "await script.atcs.stop_tracking()"
   ]
  },
  {
   "cell_type": "markdown",
   "id": "af57948c-f216-4524-890f-4b6138bac799",
   "metadata": {},
   "source": [
    "# Mirror Alignment and Focus\n",
    "Below are the focusing executions for the combinations filter & grating, filter & no grating and no filter & no grating. "
   ]
  },
  {
   "cell_type": "markdown",
   "id": "d78af78e-cdde-4a0e-9ccf-6428b03fd7de",
   "metadata": {
    "tags": []
   },
   "source": [
    "## Mirror Alignment and focus with a filter and grating"
   ]
  },
  {
   "cell_type": "markdown",
   "id": "7a87df90-26c4-4b0c-832c-274f7fbbf533",
   "metadata": {
    "tags": []
   },
   "source": [
    "### Set up configuration"
   ]
  },
  {
   "cell_type": "code",
   "execution_count": null,
   "id": "429378aa-9eea-4a58-9071-e1dc4e76bce2",
   "metadata": {},
   "outputs": [],
   "source": [
    "configuration = yaml.safe_dump({\"filter\": filter_to_focus, \n",
    "                                \"grating\": grating_to_focus,\n",
    "                                \"exposure_time\": 20,})"
   ]
  },
  {
   "cell_type": "markdown",
   "id": "e4b89aea-5287-4714-be3c-1d237e3edbc0",
   "metadata": {},
   "source": [
    "The next line is not required the first time the script is run, however, in each additional instance the cell is run, an error will be thrown if it is not included.  \n",
    "Therefore, it is included here despite being a non-operation in the first instance.  "
   ]
  },
  {
   "cell_type": "code",
   "execution_count": null,
   "id": "798c0946-8563-4262-8950-4a6c5f67f099",
   "metadata": {},
   "outputs": [],
   "source": [
    "await script.set_state(ScriptState.UNCONFIGURED)"
   ]
  },
  {
   "cell_type": "markdown",
   "id": "d3cca2b4-f43f-4ace-9f2f-777346cbd5bd",
   "metadata": {},
   "source": [
    "### Put the ScriptState to CONFIGURED"
   ]
  },
  {
   "cell_type": "code",
   "execution_count": null,
   "id": "8f8c47d6-d10b-4e69-abf0-9fbcdfe10e8f",
   "metadata": {
    "tags": []
   },
   "outputs": [],
   "source": [
    "config_data = script.cmd_configure.DataType()\n",
    "config_data.config = configuration\n",
    "await script.do_configure(config_data)"
   ]
  },
  {
   "cell_type": "markdown",
   "id": "bb736b60-521c-4807-9504-1850419a956d",
   "metadata": {},
   "source": [
    "Set these script parameters to None to verify a re-reduction does not happen of the images."
   ]
  },
  {
   "cell_type": "code",
   "execution_count": null,
   "id": "616ade5b-98df-447b-9664-4c6252554f0f",
   "metadata": {},
   "outputs": [],
   "source": [
    "script.intra_visit_id = None\n",
    "script.extra_visit_id = None\n",
    "script.short_timeout = 10"
   ]
  },
  {
   "cell_type": "markdown",
   "id": "b1c12dfc-ab29-4577-83d4-9f840b0e1a1a",
   "metadata": {},
   "source": [
    "### Set groupID and launch the script\n",
    "\n",
    "This sets the same group ID for all exposures taken in the script."
   ]
  },
  {
   "cell_type": "code",
   "execution_count": null,
   "id": "64ada7fb-92e8-44f9-b907-66e8562bd728",
   "metadata": {
    "tags": []
   },
   "outputs": [],
   "source": [
    "group_id_data = script.cmd_setGroupId.DataType(\n",
    "    groupId=astropy.time.Time.now().isot)\n",
    "\n",
    "await script.do_setGroupId(group_id_data)\n",
    "await script.arun()"
   ]
  },
  {
   "cell_type": "code",
   "execution_count": null,
   "id": "8eac5fd4-cb36-449f-8524-d63fe7b83381",
   "metadata": {},
   "outputs": [],
   "source": [
    "current_focus_offset_with_filter_with_grating = await script.atcs.rem.ataos.evt_focusOffsetSummary.aget()\n",
    "script.log.info(f'Current focus with filter/with grating {current_focus_offset_with_filter_with_grating}')"
   ]
  },
  {
   "cell_type": "markdown",
   "id": "50df4500-7967-4a9a-98da-a0d48e21fabd",
   "metadata": {
    "tags": []
   },
   "source": [
    "## Mirror Alignment and focus with a filter but no grating"
   ]
  },
  {
   "cell_type": "markdown",
   "id": "430278c5-c27f-4474-8e8a-127f6271fcf1",
   "metadata": {
    "tags": []
   },
   "source": [
    "### Set up configuration"
   ]
  },
  {
   "cell_type": "code",
   "execution_count": null,
   "id": "918c28c4-8dc0-410f-aa53-83b59e06f09e",
   "metadata": {},
   "outputs": [],
   "source": [
    "configuration = yaml.safe_dump({\"filter\": filter_to_focus, \n",
    "                                \"grating\": 'empty_1',\n",
    "                                \"exposure_time\": 20,})"
   ]
  },
  {
   "cell_type": "markdown",
   "id": "1bd96b4c-7a4f-4fc6-9b9a-505c42cfd9d9",
   "metadata": {},
   "source": [
    "The next line is not required the first time the script is run, however, in each additional instance the cell is run, an error will be thrown if it is not included.  \n",
    "Therefore, it is included here despite being a non-operation in the first instance.  "
   ]
  },
  {
   "cell_type": "code",
   "execution_count": null,
   "id": "a34af096-9769-40ce-a626-402d8dcfed61",
   "metadata": {},
   "outputs": [],
   "source": [
    "await script.set_state(ScriptState.UNCONFIGURED)"
   ]
  },
  {
   "cell_type": "markdown",
   "id": "fa994bfd-d4cc-4536-acfa-1d1dde83ae92",
   "metadata": {},
   "source": [
    "### Put the ScriptState to CONFIGURED"
   ]
  },
  {
   "cell_type": "code",
   "execution_count": null,
   "id": "a0151f75-826c-4ad6-aaa8-f4717896ef95",
   "metadata": {
    "tags": []
   },
   "outputs": [],
   "source": [
    "config_data = script.cmd_configure.DataType()\n",
    "config_data.config = configuration\n",
    "await script.do_configure(config_data)"
   ]
  },
  {
   "cell_type": "markdown",
   "id": "78b952e3-d5bc-453f-bde9-4d989f7ddfb3",
   "metadata": {},
   "source": [
    "Set these script parameters to None to verify a re-reduction does not happen of the images."
   ]
  },
  {
   "cell_type": "code",
   "execution_count": null,
   "id": "b85082b9-c6ec-419b-8945-8926d1b02502",
   "metadata": {},
   "outputs": [],
   "source": [
    "script.intra_visit_id = None\n",
    "script.extra_visit_id = None\n",
    "script.short_timeout = 10"
   ]
  },
  {
   "cell_type": "markdown",
   "id": "ebfd300a-ae62-46d3-ae1f-ab559088d7d1",
   "metadata": {},
   "source": [
    "### Set groupID and launch the script\n",
    "\n",
    "This sets the same group ID for all exposures taken in the script."
   ]
  },
  {
   "cell_type": "code",
   "execution_count": null,
   "id": "4efb0aea-4bdf-48b6-ace1-88eee3f83661",
   "metadata": {
    "tags": []
   },
   "outputs": [],
   "source": [
    "group_id_data = script.cmd_setGroupId.DataType(\n",
    "    groupId=astropy.time.Time.now().isot)\n",
    "\n",
    "await script.do_setGroupId(group_id_data)\n",
    "await script.arun()"
   ]
  },
  {
   "cell_type": "code",
   "execution_count": null,
   "id": "8da2b7c3-030d-4fb6-978d-bc4104efbc2c",
   "metadata": {},
   "outputs": [],
   "source": [
    "current_focus_offset_without_grating = await script.atcs.rem.ataos.evt_focusOffsetSummary.aget()\n",
    "script.log.info(f'Current focus with filter/without grating {current_focus_offset_without_grating}')"
   ]
  },
  {
   "cell_type": "markdown",
   "id": "5d194112-7e3c-45bc-997f-93844f924595",
   "metadata": {},
   "source": [
    "## Mirror Alignment and focus without a grating and filter"
   ]
  },
  {
   "cell_type": "markdown",
   "id": "0536557e-3170-4491-b842-c3c0943b7c63",
   "metadata": {},
   "source": [
    "### Set up configuration"
   ]
  },
  {
   "cell_type": "code",
   "execution_count": null,
   "id": "0132823d-1343-4d4a-9b4f-d4661ec270b8",
   "metadata": {},
   "outputs": [],
   "source": [
    "configuration = yaml.safe_dump({\"filter\": 'empty_1', \n",
    "                                \"grating\": 'empty_1',\n",
    "                                \"exposure_time\": 20,})"
   ]
  },
  {
   "cell_type": "markdown",
   "id": "4e4e205c-092b-423a-a369-a6ad61da6d65",
   "metadata": {},
   "source": [
    "The next line is not required the first time the script is run, however, in each additional instance the cell is run, an error will be thrown if it is not included.  \n",
    "Therefore, it is included here despite being a non-operation in the first instance.  "
   ]
  },
  {
   "cell_type": "code",
   "execution_count": null,
   "id": "89a2162d-5144-4317-be33-8c5a9fd5269c",
   "metadata": {},
   "outputs": [],
   "source": [
    "await script.set_state(ScriptState.UNCONFIGURED)"
   ]
  },
  {
   "cell_type": "markdown",
   "id": "0afc7183-f825-4d60-94fb-cb522808e070",
   "metadata": {},
   "source": [
    "### Put the ScriptState to CONFIGURED"
   ]
  },
  {
   "cell_type": "code",
   "execution_count": null,
   "id": "ca82a39c-b262-4579-a344-e49323ee38a0",
   "metadata": {
    "tags": []
   },
   "outputs": [],
   "source": [
    "config_data = script.cmd_configure.DataType()\n",
    "config_data.config = configuration\n",
    "await script.do_configure(config_data)"
   ]
  },
  {
   "cell_type": "markdown",
   "id": "970403d7-397f-4478-932d-69c94a025e90",
   "metadata": {},
   "source": [
    "Set these script parameters to None to verify a re-reduction does not happen of the images."
   ]
  },
  {
   "cell_type": "code",
   "execution_count": null,
   "id": "151a37e7-3de1-4a78-b0a8-262443ff6e6f",
   "metadata": {},
   "outputs": [],
   "source": [
    "script.intra_visit_id = None\n",
    "script.extra_visit_id = None\n",
    "script.short_timeout = 10"
   ]
  },
  {
   "cell_type": "markdown",
   "id": "053d4670-4899-4af2-9794-620baa097d1a",
   "metadata": {},
   "source": [
    "### Set groupID and launch the script\n",
    "\n",
    "This sets the same group ID for all exposures taken in the script."
   ]
  },
  {
   "cell_type": "code",
   "execution_count": null,
   "id": "35b84bfd-aa47-4a64-926b-6afc5c48376a",
   "metadata": {
    "tags": []
   },
   "outputs": [],
   "source": [
    "group_id_data = script.cmd_setGroupId.DataType(\n",
    "    groupId=astropy.time.Time.now().isot)\n",
    "\n",
    "await script.do_setGroupId(group_id_data)\n",
    "await script.arun()"
   ]
  },
  {
   "cell_type": "code",
   "execution_count": null,
   "id": "ba404e71-acb3-4848-b6b2-8f7966008f8c",
   "metadata": {},
   "outputs": [],
   "source": [
    "current_focus_offset_without_filter_without_grating = await script.atcs.rem.ataos.evt_focusOffsetSummary.aget()\n",
    "script.log.info(f'Current focus without filter/without grating {current_focus_offset_without_filter_without_grating}')"
   ]
  },
  {
   "cell_type": "markdown",
   "id": "1155da36-33c0-42a7-ac62-2a4603d3e6ef",
   "metadata": {},
   "source": [
    "## Stop tracking"
   ]
  },
  {
   "cell_type": "markdown",
   "id": "40afd8de-e59c-4426-92b8-1ecb4cd0c1ca",
   "metadata": {},
   "source": [
    "If required, then uncomment and use the following cell to stop the telescope from tracking, but you will lose your acquisition."
   ]
  },
  {
   "cell_type": "code",
   "execution_count": null,
   "id": "4f911796-500f-416f-9cfc-fbaa7e87ca91",
   "metadata": {},
   "outputs": [],
   "source": [
    "await script.atcs.stop_tracking()"
   ]
  }
 ],
 "metadata": {
  "kernelspec": {
   "display_name": "LSST",
   "language": "python",
   "name": "lsst"
  },
  "language_info": {
   "codemirror_mode": {
    "name": "ipython",
    "version": 3
   },
   "file_extension": ".py",
   "mimetype": "text/x-python",
   "name": "python",
   "nbconvert_exporter": "python",
   "pygments_lexer": "ipython3",
   "version": "3.10.9"
  },
  "toc-autonumbering": true,
  "toc-showmarkdowntxt": false
 },
 "nbformat": 4,
 "nbformat_minor": 5
}
