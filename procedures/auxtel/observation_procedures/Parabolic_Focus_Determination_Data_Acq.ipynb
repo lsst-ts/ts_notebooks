{
 "cells": [
  {
   "cell_type": "markdown",
   "id": "398e92f1-51b2-4db3-a116-19cad9778a16",
   "metadata": {},
   "source": [
    "# Parabolic Focus Determination Data Acquisition\n",
    "\n",
    "This notebook executes a parabolic focus data acquisition for a specific filter/grating configuration. It performs fine sampling of z-axis hexapod translations and takes images at each hexapod position. The analysis will be done in a separate notebook. \n",
    "\n",
    "Also contained in this notebook is a CWFS execution, that, in some cases, might be useful as a comparison with the results of the parabolic focus . "
   ]
  },
  {
   "cell_type": "markdown",
   "id": "d6a4c950-a892-4915-91a4-b46a5de181d5",
   "metadata": {},
   "source": [
    "## Set up"
   ]
  },
  {
   "cell_type": "markdown",
   "id": "35571f7a-3c5d-44fc-9809-614fdb2364c4",
   "metadata": {},
   "source": [
    "### Import libraries"
   ]
  },
  {
   "cell_type": "code",
   "execution_count": 1,
   "id": "07cea8b7-fac8-40e5-87e5-6e50b09f1db7",
   "metadata": {},
   "outputs": [
    {
     "data": {
      "text/html": [
       "<pre style=\"margin: 0.1em;\n",
       "padding-left: 0.25em;\n",
       "border-left-style: solid;\n",
       "font-family: var(--jp-code-font-family);\n",
       "font-size: var(--jp-code-font-size);\n",
       "line-height: var(--jp-code-line-height);\n",
       "\"><span style=\"color: var(--jp-warn-color2)\">lsst.ts.utils.tai</span> <span style=\"color: var(--jp-info-color0)\">INFO</span>: Update leap second table</pre>"
      ],
      "text/plain": [
       "<IPython.core.display.HTML object>"
      ]
     },
     "metadata": {},
     "output_type": "display_data"
    },
    {
     "data": {
      "text/html": [
       "<pre style=\"margin: 0.1em;\n",
       "padding-left: 0.25em;\n",
       "border-left-style: solid;\n",
       "font-family: var(--jp-code-font-family);\n",
       "font-size: var(--jp-code-font-size);\n",
       "line-height: var(--jp-code-line-height);\n",
       "\"><span style=\"color: var(--jp-warn-color2)\">lsst.ts.utils.tai</span> <span style=\"color: var(--jp-info-color0)\">INFO</span>: current_tai uses the system TAI clock</pre>"
      ],
      "text/plain": [
       "<IPython.core.display.HTML object>"
      ]
     },
     "metadata": {},
     "output_type": "display_data"
    },
    {
     "name": "stderr",
     "output_type": "stream",
     "text": [
      "\n",
      "WARNING: version mismatch between CFITSIO header (v4.000999999999999) and linked library (v4.01).\n",
      "\n",
      "\n",
      "WARNING: version mismatch between CFITSIO header (v4.000999999999999) and linked library (v4.01).\n",
      "\n",
      "\n",
      "WARNING: version mismatch between CFITSIO header (v4.000999999999999) and linked library (v4.01).\n",
      "\n"
     ]
    }
   ],
   "source": [
    "import sys\n",
    "import asyncio\n",
    "import time\n",
    "import os\n",
    "\n",
    "import numpy as np\n",
    "import logging \n",
    "import yaml\n",
    "import matplotlib.pyplot as plt\n",
    "import astropy\n",
    "from datetime import date\n",
    "\n",
    "from lsst.ts import salobj\n",
    "from lsst.ts.externalscripts.auxtel.latiss_cwfs_align import LatissCWFSAlign\n",
    "from lsst.ts.observatory.control.utils import RotType\n",
    "\n",
    "from lsst.ts.idl.enums.Script import ScriptState\n",
    "\n",
    "from lsst.ts.observing.utilities.decorated_logger import DecoratedLogger"
   ]
  },
  {
   "cell_type": "markdown",
   "id": "5c110a43-49c9-459c-a833-02d745cd86d8",
   "metadata": {},
   "source": [
    "### Setting up logger"
   ]
  },
  {
   "cell_type": "code",
   "execution_count": 2,
   "id": "f4f722d2-dee7-4c32-ade1-83f981fe7a6a",
   "metadata": {},
   "outputs": [],
   "source": [
    "logger = DecoratedLogger.get_decorated_logger()\n",
    "logger.level = logging.DEBUG"
   ]
  },
  {
   "cell_type": "markdown",
   "id": "156a7f96-6352-4cde-8805-7e84eff2754c",
   "metadata": {},
   "source": [
    "### Getting unique index for script"
   ]
  },
  {
   "cell_type": "code",
   "execution_count": 3,
   "id": "46290f24-0c4d-4977-a2b8-663293d2b55f",
   "metadata": {},
   "outputs": [
    {
     "data": {
      "text/html": [
       "<pre style=\"margin: 0.1em;\n",
       "padding-left: 0.25em;\n",
       "border-left-style: solid;\n",
       "font-family: var(--jp-code-font-family);\n",
       "font-size: var(--jp-code-font-size);\n",
       "line-height: var(--jp-code-line-height);\n",
       "\"><span style=\"color: var(--jp-warn-color2)\">root</span> <span style=\"color: var(--jp-info-color0)\">INFO</span>: Your UID is 87160242</pre>"
      ],
      "text/plain": [
       "<IPython.core.display.HTML object>"
      ]
     },
     "metadata": {},
     "output_type": "display_data"
    },
    {
     "data": {
      "text/html": [
       "<pre style=\"margin: 0.1em;\n",
       "padding-left: 0.25em;\n",
       "border-left-style: solid;\n",
       "font-family: var(--jp-code-font-family);\n",
       "font-size: var(--jp-code-font-size);\n",
       "line-height: var(--jp-code-line-height);\n",
       "\"><span style=\"color: var(--jp-warn-color2)\">root</span> <span style=\"color: var(--jp-info-color0)\">INFO</span>: The generated index is 871602421</pre>"
      ],
      "text/plain": [
       "<IPython.core.display.HTML object>"
      ]
     },
     "metadata": {},
     "output_type": "display_data"
    }
   ],
   "source": [
    "logger.info(f'Your UID is {os.getuid()}')\n",
    "index = os.getuid() * 10 + np.random.randint(0, 9)\n",
    "\n",
    "logger.info(f'The generated index is {index}')"
   ]
  },
  {
   "cell_type": "markdown",
   "id": "30730d48-244d-462f-82e3-faa05d844aa9",
   "metadata": {},
   "source": [
    "### Instantiate CWFS Script"
   ]
  },
  {
   "cell_type": "markdown",
   "id": "bb20f50b-aeac-48ce-aeba-63b4c3d14a7f",
   "metadata": {},
   "source": [
    "In many cases, it is desirable to perform a CWFS focus sequence for comparison with the parabolic focus. Therefore, LatissCWFSAlign script is instantiated, to provide the option to the user after the parabolic focus data acquisition is done. "
   ]
  },
  {
   "cell_type": "code",
   "execution_count": null,
   "id": "a01e1162-5f4e-47be-b496-cad7ca7fb8ec",
   "metadata": {
    "tags": []
   },
   "outputs": [],
   "source": [
    "script = LatissCWFSAlign(index=index, remotes=True)  # this essentially calls the init method\n",
    "await script.start_task"
   ]
  },
  {
   "cell_type": "markdown",
   "id": "65e2e62d-41f8-497d-9c7e-2c216de55ae4",
   "metadata": {},
   "source": [
    "### Forward ATCS and LATISS"
   ]
  },
  {
   "cell_type": "code",
   "execution_count": null,
   "id": "04cc2f4f-69e2-4ddf-93fd-70613ba0ef32",
   "metadata": {},
   "outputs": [],
   "source": [
    "atcs = script.atcs\n",
    "latiss = script.latiss"
   ]
  },
  {
   "cell_type": "markdown",
   "id": "cc18e727-5d4d-4c04-83bb-15aff9ec4d54",
   "metadata": {},
   "source": [
    "### Set up script log level"
   ]
  },
  {
   "cell_type": "code",
   "execution_count": null,
   "id": "0735e70c-d746-4165-a131-327d1709b8f3",
   "metadata": {},
   "outputs": [],
   "source": [
    "script.log.level = logging.DEBUG"
   ]
  },
  {
   "cell_type": "markdown",
   "id": "fab8d1f7-f6f2-4b9b-a298-df915f1123b5",
   "metadata": {},
   "source": [
    "---\n",
    "## Parabolic Focus Data Acquisition"
   ]
  },
  {
   "cell_type": "markdown",
   "id": "5e3b0a14-9cc1-4f1e-8cc6-191308ffe3fa",
   "metadata": {},
   "source": [
    "### Configuration"
   ]
  },
  {
   "cell_type": "markdown",
   "id": "f0eced48-2302-4d64-a9f4-fbfad328ed93",
   "metadata": {},
   "source": [
    "#### ATSpectrograph configuration"
   ]
  },
  {
   "cell_type": "markdown",
   "id": "225f0e42-d477-470f-a805-9b67207769a5",
   "metadata": {},
   "source": [
    "Get available instrument configurations:"
   ]
  },
  {
   "cell_type": "code",
   "execution_count": null,
   "id": "301e2b1b-ffd8-4b8c-a040-ae95319fd3bf",
   "metadata": {},
   "outputs": [],
   "source": [
    "inst_setup = await script.latiss.get_available_instrument_setup()\n",
    "logger.info(f'Filters are: {inst_setup[0]},\\nGratings are: {inst_setup[1]}')"
   ]
  },
  {
   "cell_type": "markdown",
   "id": "926619f0-2be8-4b27-9f10-2d155dd086c5",
   "metadata": {},
   "source": [
    "Declare the configuration of the instrument for the focus determination sequence. Both variables are strings. "
   ]
  },
  {
   "cell_type": "code",
   "execution_count": null,
   "id": "59c85d69-613b-4e77-9290-361bc807a6e5",
   "metadata": {},
   "outputs": [],
   "source": [
    "filter_to_focus = 'SDSSr'\n",
    "grating_to_focus = 'holo4_003'"
   ]
  },
  {
   "cell_type": "markdown",
   "id": "d40fc311-2ff6-4795-8953-09afd25c68b8",
   "metadata": {},
   "source": [
    "#### ATAOS corrections"
   ]
  },
  {
   "cell_type": "markdown",
   "id": "fcb00e7a-045f-4769-8b4c-597998877b71",
   "metadata": {},
   "source": [
    "ATAOS corrections must be enabled for this test. In the cell below, ATAOS corrections will be enabled, in case they were not. "
   ]
  },
  {
   "cell_type": "code",
   "execution_count": null,
   "id": "f2293ac2-8e86-461e-b139-2f0b577da46e",
   "metadata": {},
   "outputs": [],
   "source": [
    "test = await script.atcs.rem.ataos.evt_correctionEnabled.aget()\n",
    "if not (test.m1 and test.hexapod and test.atspectrograph):\n",
    "    cmd = await script.atcs.rem.ataos.cmd_enableCorrection.set_start(m1=True, hexapod=True, atspectrograph=True)\n",
    "    logger.info(f'ATAOS corrections enabled: {cmd.result}')"
   ]
  },
  {
   "cell_type": "markdown",
   "id": "1cb55fb3-8a4f-4573-b4da-d8e9967955ae",
   "metadata": {},
   "source": [
    "### Slew to target"
   ]
  },
  {
   "cell_type": "markdown",
   "id": "36226d8e-0a4e-433b-b6a2-ca152369a258",
   "metadata": {
    "tags": []
   },
   "source": [
    "#### Declare target "
   ]
  },
  {
   "cell_type": "markdown",
   "id": "1a5e3e73-dc37-4f4a-ae3a-46e6f4cbd99d",
   "metadata": {},
   "source": [
    "Declare target name"
   ]
  },
  {
   "cell_type": "code",
   "execution_count": null,
   "id": "26449bcc-3ee2-4451-9817-19feb623e377",
   "metadata": {},
   "outputs": [],
   "source": [
    "target = 'HD 110304'"
   ]
  },
  {
   "cell_type": "markdown",
   "id": "5b79cd9d-a9a5-4790-8f86-7aaffacb7848",
   "metadata": {},
   "source": [
    "or query for a target at a user-defined azimuth and elevation"
   ]
  },
  {
   "cell_type": "code",
   "execution_count": null,
   "id": "6cfbf353-52a0-4de9-97ee-c22289f0bc92",
   "metadata": {},
   "outputs": [],
   "source": [
    "target = await script.atcs.find_target(az=120, el = 60, mag_limit=8)"
   ]
  },
  {
   "cell_type": "markdown",
   "id": "ddbe7e18-ae08-4076-b843-7c85062c3509",
   "metadata": {},
   "source": [
    "#### Slew to the defined target"
   ]
  },
  {
   "cell_type": "code",
   "execution_count": null,
   "id": "f3f6d290-1645-4836-93a0-bcba0fab4ef9",
   "metadata": {},
   "outputs": [],
   "source": [
    "await script.atcs.slew_object(target, rot_type=RotType.PhysicalSky)"
   ]
  },
  {
   "cell_type": "markdown",
   "id": "49a87fd3-70b1-4ae9-a118-3d4183838459",
   "metadata": {},
   "source": [
    "Uncomment the following line to take a snapshot to verify the target is positioned as expected "
   ]
  },
  {
   "cell_type": "code",
   "execution_count": null,
   "id": "bd4c8b32-d03c-48b2-a2cf-61df3b9ad6b1",
   "metadata": {},
   "outputs": [],
   "source": [
    "# await script.latiss.take_engtest(2, filter=filter_to_focus, grating=grating_to_focus)"
   ]
  },
  {
   "cell_type": "markdown",
   "id": "7ce8626b-c74f-4693-8c7b-bf65c16ad411",
   "metadata": {},
   "source": [
    "To offset the telescope and center the source (if required) uncomment the following line. <br>\n",
    "Offsets are in detector X/Y coordinates and in arcseconds. "
   ]
  },
  {
   "cell_type": "code",
   "execution_count": null,
   "id": "d2457418-602c-488f-bc75-602042a7b422",
   "metadata": {},
   "outputs": [],
   "source": [
    "# await script.atcs.offset_xy(x=20, y=20)"
   ]
  },
  {
   "cell_type": "markdown",
   "id": "10c8f910-bd1b-478d-9420-6580b8686f0d",
   "metadata": {
    "tags": []
   },
   "source": [
    "### Acquiring Data\n",
    "\n",
    "Acquire data in steps of `z_offset_step` in the range of `z_offset_start` to `z_offset_end` relative to the current focus position."
   ]
  },
  {
   "cell_type": "code",
   "execution_count": null,
   "id": "8aea8f6f-ea59-4515-af0c-6b4f3f9f6262",
   "metadata": {},
   "outputs": [],
   "source": [
    "original_focus_offset = await script.atcs.rem.ataos.evt_focusOffsetSummary.aget()\n",
    "logger.info(f'Original focus offset is \\n {original_focus_offset}')"
   ]
  },
  {
   "cell_type": "code",
   "execution_count": null,
   "id": "7b3066a1-4c67-4b23-82cf-7f18b37ec0b6",
   "metadata": {
    "tags": []
   },
   "outputs": [],
   "source": [
    "script.log.info(f'START -- Focus Determination {filter_to_focus}+{grating_to_focus} \\n'\n",
    "                    f'Time UTC -- {astropy.time.Time(astropy.time.Time.now())}') \n",
    "\n",
    "z_offset_start = -0.1 # mm\n",
    "z_offset_step = 0.025 # mm\n",
    "z_offset_end = -z_offset_start\n",
    "\n",
    "steps = np.arange(z_offset_start, z_offset_end + 0.01, z_offset_step)\n",
    "parabolic_focus_data = []\n",
    "\n",
    "await atcs.rem.ataos.cmd_offset.set_start(z=z_offset_start)\n",
    "    \n",
    "await asyncio.sleep(2)\n",
    "for step in steps:\n",
    "        \n",
    "    exposure = await latiss.take_engtest(\n",
    "        1, 1, filter=filter_to_focus, grating=grating_to_focus, reason='Parabolic_focus_sequence')\n",
    "    parabolic_focus_data.append(exposure[0])\n",
    "    logger.info(f'Total z offset = {step:.3f} -- Image expId = {exposure[0]}')\n",
    "    \n",
    "    logger.info(f'Current focus offset is \\n {await script.atcs.rem.ataos.evt_focusOffsetSummary.aget()}')\n",
    "    \n",
    "    await atcs.rem.ataos.cmd_offset.set_start(z=z_offset_step)\n",
    "\n",
    "# Move back to the original focus offset position\n",
    "await atcs.rem.ataos.cmd_offset.set_start(z= -(z_offset_end + z_offset_step))\n",
    "logger.info(f'Back to the original focus offset position \\n {await script.atcs.rem.ataos.evt_focusOffsetSummary.aget()}')\n",
    "\n",
    "# Log results into EFD for later analysis\n",
    "script.log.info(f'END -- Focus Determination {filter_to_focus}+{grating_to_focus} \\n'\n",
    "                    f'Images expId -- {parabolic_focus_data} \\n'\n",
    "                    f'Time UTC -- {astropy.time.Time(astropy.time.Time.now())}') "
   ]
  },
  {
   "cell_type": "code",
   "execution_count": null,
   "id": "408b7707-9812-441d-9c6a-8e6492d0c7a8",
   "metadata": {},
   "outputs": [],
   "source": [
    "current_focus_offset = await script.atcs.rem.ataos.evt_focusOffsetSummary.aget()\n",
    "logger.info(current_focus_offset)"
   ]
  },
  {
   "cell_type": "code",
   "execution_count": null,
   "id": "e70551a9-ee8f-4bf9-865b-59696cf5a284",
   "metadata": {},
   "outputs": [],
   "source": [
    "# Original and current focus offset's user applied should be now equal.  "
   ]
  },
  {
   "cell_type": "code",
   "execution_count": null,
   "id": "9414f26a-b713-4b5b-883b-eef17ab5f12d",
   "metadata": {},
   "outputs": [],
   "source": [
    "assert current_focus_offset.userApplied == original_focus_offset.userApplied"
   ]
  },
  {
   "cell_type": "markdown",
   "id": "7346a280-3fc3-4027-baf6-0dcb7ce8364c",
   "metadata": {},
   "source": [
    "### Stop tracking"
   ]
  },
  {
   "cell_type": "markdown",
   "id": "96cfb21c-5923-4858-b11a-c93796934a2b",
   "metadata": {},
   "source": [
    "If required, then uncomment and use the following cell to stop the telescope from tracking, but you will lose your acquisition."
   ]
  },
  {
   "cell_type": "code",
   "execution_count": null,
   "id": "e3c2ff73-e750-4542-9380-909c45aee054",
   "metadata": {},
   "outputs": [],
   "source": [
    "# await script.atcs.stop_tracking()"
   ]
  },
  {
   "cell_type": "markdown",
   "id": "af57948c-f216-4524-890f-4b6138bac799",
   "metadata": {},
   "source": [
    "In case it's needed, below is the CWFS focusing execution to compare with the parabolic focus sequence. "
   ]
  },
  {
   "cell_type": "markdown",
   "id": "50df4500-7967-4a9a-98da-a0d48e21fabd",
   "metadata": {},
   "source": [
    "## CWFS Focusing "
   ]
  },
  {
   "cell_type": "markdown",
   "id": "430278c5-c27f-4474-8e8a-127f6271fcf1",
   "metadata": {},
   "source": [
    "### Set up configuration"
   ]
  },
  {
   "cell_type": "code",
   "execution_count": null,
   "id": "918c28c4-8dc0-410f-aa53-83b59e06f09e",
   "metadata": {},
   "outputs": [],
   "source": [
    "configuration = yaml.safe_dump({\"filter\": filter_to_focus, \n",
    "                                \"grating\": grating_to_focus,\n",
    "                                \"exposure_time\": 20,})"
   ]
  },
  {
   "cell_type": "markdown",
   "id": "1bd96b4c-7a4f-4fc6-9b9a-505c42cfd9d9",
   "metadata": {},
   "source": [
    "The next line is not required the first time the script is run, however, in each additional instance the cell is run, an error will be thrown if it is not included.  \n",
    "Therefore, it is included here despite being a non-operation in the first instance.  "
   ]
  },
  {
   "cell_type": "code",
   "execution_count": null,
   "id": "a34af096-9769-40ce-a626-402d8dcfed61",
   "metadata": {},
   "outputs": [],
   "source": [
    "script.set_state(ScriptState.UNCONFIGURED)"
   ]
  },
  {
   "cell_type": "markdown",
   "id": "fa994bfd-d4cc-4536-acfa-1d1dde83ae92",
   "metadata": {},
   "source": [
    "### Put the ScriptState to CONFIGURED"
   ]
  },
  {
   "cell_type": "code",
   "execution_count": null,
   "id": "a0151f75-826c-4ad6-aaa8-f4717896ef95",
   "metadata": {
    "tags": []
   },
   "outputs": [],
   "source": [
    "config_data = script.cmd_configure.DataType()\n",
    "config_data.config = configuration\n",
    "await script.do_configure(config_data)"
   ]
  },
  {
   "cell_type": "markdown",
   "id": "78b952e3-d5bc-453f-bde9-4d989f7ddfb3",
   "metadata": {},
   "source": [
    "Set these script parameters to None to verify a re-reduction does not happen of the images."
   ]
  },
  {
   "cell_type": "code",
   "execution_count": null,
   "id": "b85082b9-c6ec-419b-8945-8926d1b02502",
   "metadata": {},
   "outputs": [],
   "source": [
    "script.intra_visit_id = None\n",
    "script.extra_visit_id = None\n",
    "script.short_timeout = 10"
   ]
  },
  {
   "cell_type": "markdown",
   "id": "ebfd300a-ae62-46d3-ae1f-ab559088d7d1",
   "metadata": {},
   "source": [
    "### Set groupID and launch the script\n",
    "\n",
    "This sets the same group ID for all exposures taken in the script."
   ]
  },
  {
   "cell_type": "code",
   "execution_count": null,
   "id": "4efb0aea-4bdf-48b6-ace1-88eee3f83661",
   "metadata": {
    "tags": []
   },
   "outputs": [],
   "source": [
    "group_id_data = script.cmd_setGroupId.DataType(\n",
    "    groupId=astropy.time.Time.now().isot)\n",
    "\n",
    "await script.do_setGroupId(group_id_data)\n",
    "await script.arun()"
   ]
  },
  {
   "cell_type": "markdown",
   "id": "1155da36-33c0-42a7-ac62-2a4603d3e6ef",
   "metadata": {},
   "source": [
    "### Stop tracking"
   ]
  },
  {
   "cell_type": "markdown",
   "id": "40afd8de-e59c-4426-92b8-1ecb4cd0c1ca",
   "metadata": {},
   "source": [
    "If required, then uncomment and use the following cell to stop the telescope from tracking, but you will lose your acquisition."
   ]
  },
  {
   "cell_type": "code",
   "execution_count": null,
   "id": "4f911796-500f-416f-9cfc-fbaa7e87ca91",
   "metadata": {},
   "outputs": [],
   "source": [
    "# await script.atcs.stop_tracking()"
   ]
  }
 ],
 "metadata": {
  "kernelspec": {
   "display_name": "LSST",
   "language": "python",
   "name": "lsst"
  },
  "language_info": {
   "codemirror_mode": {
    "name": "ipython",
    "version": 3
   },
   "file_extension": ".py",
   "mimetype": "text/x-python",
   "name": "python",
   "nbconvert_exporter": "python",
   "pygments_lexer": "ipython3",
   "version": "3.8.13"
  },
  "toc-autonumbering": true,
  "toc-showmarkdowntxt": false
 },
 "nbformat": 4,
 "nbformat_minor": 5
}
