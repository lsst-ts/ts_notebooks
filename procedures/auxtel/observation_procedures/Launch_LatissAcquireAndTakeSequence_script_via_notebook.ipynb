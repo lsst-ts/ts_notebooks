{
 "cells": [
  {
   "cell_type": "markdown",
   "metadata": {},
   "source": [
    "# Data Acquisition using the LatissAcquireAndTakeSequence SAL script\n",
    "The script is built for the scriptQueue but can be run via this notebook"
   ]
  },
  {
   "cell_type": "markdown",
   "metadata": {},
   "source": [
    "This script is used to both acquire a target and put it within a radius of a pixel that is specific to the grating. The script can then be used to take a series of images with different filter and grating combinations. The focus and pointing adjustments associted with each filter and grating as performed automatically by the ATAOS (so long as the atspectrograph correction is enabled)\n",
    "\n",
    "#### This example notebook is divided into three use-cases.\n",
    "1. Perform a slew and acquisition only\n",
    "2. Perform only the taking of data, without acquiring. This assumes the target is already positioned appropriately\n",
    "3. Perform the acquisition and data taking as a single script"
   ]
  },
  {
   "cell_type": "code",
   "execution_count": null,
   "metadata": {},
   "outputs": [],
   "source": [
    "import sys\n",
    "import os\n",
    "import asyncio\n",
    "import time\n",
    "\n",
    "import numpy as np\n",
    "import logging \n",
    "import yaml\n",
    "import astropy\n",
    "\n",
    "from lsst.ts import salobj\n",
    "from lsst.ts.idl.enums.Script import ScriptState\n",
    "\n",
    "from lsst.ts.externalscripts.auxtel.latiss_acquire_and_take_sequence import LatissAcquireAndTakeSequence\n",
    "\n",
    "from lsst.ts.observing.utilities.decorated_logger import DecoratedLogger"
   ]
  },
  {
   "cell_type": "code",
   "execution_count": null,
   "metadata": {},
   "outputs": [],
   "source": [
    "logger = DecoratedLogger.get_decorated_logger()\n",
    "logger.level = logging.DEBUG"
   ]
  },
  {
   "cell_type": "markdown",
   "metadata": {},
   "source": [
    "## Instantiate the Script\n",
    "\n",
    "First derive and index for the script that is specific to your user"
   ]
  },
  {
   "cell_type": "code",
   "execution_count": null,
   "metadata": {},
   "outputs": [],
   "source": [
    "logger.info(f'Your UID is {os.getuid()}')\n",
    "index=os.getuid()*10+np.random.randint(0,9)\n",
    "logger.info(f'The generated index is {index}')"
   ]
  },
  {
   "cell_type": "markdown",
   "metadata": {},
   "source": [
    "Instantiate the script then start all remotes"
   ]
  },
  {
   "cell_type": "code",
   "execution_count": null,
   "metadata": {},
   "outputs": [],
   "source": [
    "script = LatissAcquireAndTakeSequence(index=index)\n",
    "await script.start_task"
   ]
  },
  {
   "cell_type": "markdown",
   "metadata": {},
   "source": [
    "Set the script to have a DEBUG log level"
   ]
  },
  {
   "cell_type": "code",
   "execution_count": null,
   "metadata": {},
   "outputs": [],
   "source": [
    "script.log.level = logging.DEBUG"
   ]
  },
  {
   "cell_type": "markdown",
   "metadata": {},
   "source": [
    "## Declare the Target"
   ]
  },
  {
   "cell_type": "code",
   "execution_count": null,
   "metadata": {},
   "outputs": [],
   "source": [
    "target='HIP 31636'"
   ]
  },
  {
   "cell_type": "markdown",
   "metadata": {},
   "source": [
    "Print the available instrument filter and gratings. <br>\n",
    "This is useful both for slewing and for the configuration steps below"
   ]
  },
  {
   "cell_type": "code",
   "execution_count": null,
   "metadata": {},
   "outputs": [],
   "source": [
    "inst_setup = await script.latiss.get_available_instrument_setup()\n",
    "logger.info(f'filters are: {inst_setup[0]},\\ngratings are: {inst_setup[1]}')"
   ]
  },
  {
   "cell_type": "markdown",
   "metadata": {},
   "source": [
    "ATAOS must be on and corrections enabled, do as follows if required"
   ]
  },
  {
   "cell_type": "code",
   "execution_count": null,
   "metadata": {},
   "outputs": [],
   "source": [
    "# await script.atcs.rem.ataos.cmd_enableCorrection.set_start(m1=True, hexapod=True, atspectrograph=True)"
   ]
  },
  {
   "cell_type": "markdown",
   "metadata": {},
   "source": [
    "## Procedure 1 - Performing the acquisition ONLY"
   ]
  },
  {
   "cell_type": "markdown",
   "metadata": {},
   "source": [
    "### Configure the script"
   ]
  },
  {
   "cell_type": "markdown",
   "metadata": {},
   "source": [
    "The configurable parameters can be seen from either inside the script or from uncommenting the following command"
   ]
  },
  {
   "cell_type": "code",
   "execution_count": null,
   "metadata": {},
   "outputs": [],
   "source": [
    "# script.get_schema()"
   ]
  },
  {
   "cell_type": "markdown",
   "metadata": {},
   "source": [
    "Be sure to set the target, filter and grating to the appropriate setup you want to use for data taking. <br>\n",
    "The position of the target on the detector is dictated by the choice of the grating."
   ]
  },
  {
   "cell_type": "code",
   "execution_count": null,
   "metadata": {},
   "outputs": [],
   "source": [
    "configuration = yaml.safe_dump({\"object_name\": target,\n",
    "                                \"do_acquire\": True,\n",
    "                                \"acq_filter\": 'BG40',\n",
    "                                \"acq_grating\": 'ronchi170lpmm',\n",
    "                                \"acq_exposure_time\": 2.0,\n",
    "                                \"target_pointing_tolerance\": 3.0,       # Target positioning tolerance (arcsec)\n",
    "                                \"max_acq_iter\": 3,                     # Maximum number of iterations to perform when acquiring\n",
    "                                \"target_pointing_verification\": True,  # Takes an additional image showing the final target position\n",
    "                               })\n",
    "logger.info(configuration)"
   ]
  },
  {
   "cell_type": "markdown",
   "metadata": {},
   "source": [
    "Set script state to UNCONFIGURED.\n",
    "The next line is not required the first time the script is run, however, in each additional instance the cell is run, an error will be thrown if it is not included. <br>\n",
    "Therefore, it is included here despite being a non-operation in the first instance."
   ]
  },
  {
   "cell_type": "code",
   "execution_count": null,
   "metadata": {},
   "outputs": [],
   "source": [
    "script.set_state(ScriptState.UNCONFIGURED)"
   ]
  },
  {
   "cell_type": "markdown",
   "metadata": {},
   "source": [
    "#### Put the ScriptState to CONFIGURED"
   ]
  },
  {
   "cell_type": "code",
   "execution_count": null,
   "metadata": {},
   "outputs": [],
   "source": [
    "config_data = script.cmd_configure.DataType()\n",
    "config_data.config = configuration\n",
    "await script.do_configure(config_data)"
   ]
  },
  {
   "cell_type": "markdown",
   "metadata": {},
   "source": [
    "### Set groupID and launch the script\n",
    "This sets the same group ID for all exposures taken in the script"
   ]
  },
  {
   "cell_type": "code",
   "execution_count": null,
   "metadata": {},
   "outputs": [],
   "source": [
    "group_id_data = script.cmd_setGroupId.DataType(\n",
    "                groupId=astropy.time.Time.now().isot\n",
    "            )\n",
    "await script.do_setGroupId(group_id_data)\n",
    "await script.arun()"
   ]
  },
  {
   "cell_type": "markdown",
   "metadata": {},
   "source": [
    "## Procedure 2 - Performing the science data collection ONLY"
   ]
  },
  {
   "cell_type": "markdown",
   "metadata": {},
   "source": [
    "### Configure the script\n",
    "The configurable parameters can be seen from either inside the script or from uncommenting the following command"
   ]
  },
  {
   "cell_type": "code",
   "execution_count": null,
   "metadata": {},
   "outputs": [],
   "source": [
    "# script.get_schema()"
   ]
  },
  {
   "cell_type": "markdown",
   "metadata": {},
   "source": [
    "Be sure to set the target, filter and grating to the appropriate setup you want to use for data taking. <br>\n",
    "The position of the target on the detector is dictated by the choice of the grating."
   ]
  },
  {
   "cell_type": "code",
   "execution_count": null,
   "metadata": {},
   "outputs": [],
   "source": [
    "configuration = yaml.safe_dump({\"object_name\": target,\n",
    "                                \"do_take_sequence\": True,\n",
    "                                \"exposure_time_sequence\" : [30, 30, 30, 30,\n",
    "                                                            30, 30, 30, 30,\n",
    "                                                            30, 30, 30, 30,\n",
    "                                                            30, 30, 30, 30,], \n",
    "                                \"grating_sequence\": ['ronchi170lpmm','ronchi170lpmm','ronchi170lpmm','ronchi170lpmm',\n",
    "                                                    'ronchi170lpmm','ronchi170lpmm','ronchi170lpmm','ronchi170lpmm',\n",
    "                                                    'holo4_003','holo4_003','holo4_003','holo4_003',\n",
    "                                                    'holo4_003','holo4_003','holo4_003','holo4_003',],\n",
    "                                \"filter_sequence\": ['empty_1','empty_1', 'BG40','BG40',\n",
    "                                                    'quadnotch1','quadnotch1', 'FELH0600','FELH0600',\n",
    "                                                    'empty_1','empty_1', 'BG40','BG40',\n",
    "                                                    'quadnotch1','quadnotch1', 'FELH0600','FELH0600',], \n",
    "                                })\n",
    "logger.info(configuration)"
   ]
  },
  {
   "cell_type": "markdown",
   "metadata": {},
   "source": [
    "Set script state to UNCONFIGURED.\n",
    "The next line is not required the first time the script is run, however, in each additional instance the cell is run, an error will be thrown if it is not included. <br>\n",
    "Therefore, it is included here despite being a non-operation in the first instance."
   ]
  },
  {
   "cell_type": "code",
   "execution_count": null,
   "metadata": {},
   "outputs": [],
   "source": [
    "script.set_state(ScriptState.UNCONFIGURED)"
   ]
  },
  {
   "cell_type": "markdown",
   "metadata": {},
   "source": [
    "#### Put the ScriptState to CONFIGURED"
   ]
  },
  {
   "cell_type": "code",
   "execution_count": null,
   "metadata": {},
   "outputs": [],
   "source": [
    "config_data = script.cmd_configure.DataType()\n",
    "config_data.config = configuration\n",
    "await script.do_configure(config_data)"
   ]
  },
  {
   "cell_type": "markdown",
   "metadata": {},
   "source": [
    "### Set groupID and launch the script\n",
    "This sets the same group ID for all exposures taken in the script"
   ]
  },
  {
   "cell_type": "code",
   "execution_count": null,
   "metadata": {},
   "outputs": [],
   "source": [
    "group_id_data = script.cmd_setGroupId.DataType(\n",
    "                groupId=astropy.time.Time.now().isot\n",
    "            )\n",
    "await script.do_setGroupId(group_id_data)\n",
    "await script.arun()"
   ]
  },
  {
   "cell_type": "markdown",
   "metadata": {},
   "source": [
    "## Procedure 3 - Performing the acquisition AND the science data collection"
   ]
  },
  {
   "cell_type": "markdown",
   "metadata": {},
   "source": [
    "### Configure the script\n",
    "The configurable parameters can be seen from either inside the script or from uncommenting the following command"
   ]
  },
  {
   "cell_type": "code",
   "execution_count": null,
   "metadata": {},
   "outputs": [],
   "source": [
    "# script.get_schema()"
   ]
  },
  {
   "cell_type": "markdown",
   "metadata": {},
   "source": [
    "Be sure to set the target, filter and grating to the appropriate setup you want to use for data taking. <br>\n",
    "The position of the target on the detector is dictated by the choice of the grating."
   ]
  },
  {
   "cell_type": "code",
   "execution_count": null,
   "metadata": {},
   "outputs": [],
   "source": [
    "configuration = yaml.safe_dump({\"object_name\": target,\n",
    "                                \"do_acquire\": True,\n",
    "                                \"acq_filter\": 'BG40',\n",
    "                                \"acq_grating\": 'ronchi170lpmm',\n",
    "                                \"acq_exposure_time\": 2.0,\n",
    "                                \"target_pointing_tolerance\": 3.0,       # Target positioning tolerance (arcsec)\n",
    "                                \"max_acq_iter\": 3,                     # Maximum number of iterations to perform when acquiring\n",
    "                                \"target_pointing_verification\": True,  # Takes an additional image showing the final target position\n",
    "                                \"do_take_sequence\": True,\n",
    "                                \"exposure_time_sequence\" : [30, 30, 30, 30,\n",
    "                                                            30, 30, 30, 30,\n",
    "                                                            30, 30, 30, 30,\n",
    "                                                            30, 30, 30, 30,], \n",
    "                                \"grating_sequence\": ['ronchi170lpmm','ronchi170lpmm','ronchi170lpmm','ronchi170lpmm',\n",
    "                                                    'ronchi170lpmm','ronchi170lpmm','ronchi170lpmm','ronchi170lpmm',\n",
    "                                                    'holo4_003','holo4_003','holo4_003','holo4_003',\n",
    "                                                    'holo4_003','holo4_003','holo4_003','holo4_003',],\n",
    "                                \"filter_sequence\": ['empty_1','empty_1', 'BG40','BG40',\n",
    "                                                    'quadnotch1','quadnotch1', 'FELH0600','FELH0600',\n",
    "                                                    'empty_1','empty_1', 'BG40','BG40',\n",
    "                                                    'quadnotch1','quadnotch1', 'FELH0600','FELH0600',],\n",
    "                                })\n",
    "logger.info(configuration)"
   ]
  },
  {
   "cell_type": "markdown",
   "metadata": {},
   "source": [
    "Set script state to UNCONFIGURED.\n",
    "The next line is not required the first time the script is run, however, in each additional instance the cell is run, an error will be thrown if it is not included. <br>\n",
    "Therefore, it is included here despite being a non-operation in the first instance."
   ]
  },
  {
   "cell_type": "code",
   "execution_count": null,
   "metadata": {},
   "outputs": [],
   "source": [
    "script.set_state(ScriptState.UNCONFIGURED)"
   ]
  },
  {
   "cell_type": "markdown",
   "metadata": {},
   "source": [
    "#### Put the ScriptState to CONFIGURED"
   ]
  },
  {
   "cell_type": "code",
   "execution_count": null,
   "metadata": {},
   "outputs": [],
   "source": [
    "config_data = script.cmd_configure.DataType()\n",
    "config_data.config = configuration\n",
    "await script.do_configure(config_data)"
   ]
  },
  {
   "cell_type": "markdown",
   "metadata": {},
   "source": [
    "### Set groupID and launch the script\n",
    "This sets the same group ID for all exposures taken in the script"
   ]
  },
  {
   "cell_type": "code",
   "execution_count": null,
   "metadata": {},
   "outputs": [],
   "source": [
    "group_id_data = script.cmd_setGroupId.DataType(\n",
    "                groupId=astropy.time.Time.now().isot\n",
    "            )\n",
    "await script.do_setGroupId(group_id_data)\n",
    "await script.arun()"
   ]
  },
  {
   "cell_type": "code",
   "execution_count": null,
   "metadata": {},
   "outputs": [],
   "source": []
  },
  {
   "cell_type": "markdown",
   "metadata": {},
   "source": [
    "If required, you can stop the telescope from tracking using the following cell, but remember you will lose your acquisition"
   ]
  },
  {
   "cell_type": "code",
   "execution_count": null,
   "metadata": {},
   "outputs": [],
   "source": [
    "# await script.atcs.stop_tracking()"
   ]
  }
 ],
 "metadata": {
  "kernelspec": {
   "display_name": "LSST",
   "language": "python",
   "name": "lsst"
  },
  "language_info": {
   "codemirror_mode": {
    "name": "ipython",
    "version": 3
   },
   "file_extension": ".py",
   "mimetype": "text/x-python",
   "name": "python",
   "nbconvert_exporter": "python",
   "pygments_lexer": "ipython3",
   "version": "3.8.8"
  }
 },
 "nbformat": 4,
 "nbformat_minor": 4
}
