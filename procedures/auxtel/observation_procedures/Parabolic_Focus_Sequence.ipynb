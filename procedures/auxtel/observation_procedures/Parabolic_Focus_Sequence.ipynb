{
 "cells": [
  {
   "cell_type": "markdown",
   "id": "398e92f1-51b2-4db3-a116-19cad9778a16",
   "metadata": {},
   "source": [
    "# Parabolic Focus Sequence\n",
    "\n",
    "performs fine sampling of z-axis hexapod translations. "
   ]
  },
  {
   "cell_type": "markdown",
   "id": "d6a4c950-a892-4915-91a4-b46a5de181d5",
   "metadata": {},
   "source": [
    "## Set up"
   ]
  },
  {
   "cell_type": "markdown",
   "id": "35571f7a-3c5d-44fc-9809-614fdb2364c4",
   "metadata": {},
   "source": [
    "### Import libraries"
   ]
  },
  {
   "cell_type": "code",
   "execution_count": null,
   "id": "07cea8b7-fac8-40e5-87e5-6e50b09f1db7",
   "metadata": {},
   "outputs": [],
   "source": [
    "import sys\n",
    "import asyncio\n",
    "import time\n",
    "import os\n",
    "\n",
    "import numpy as np\n",
    "import logging \n",
    "import yaml\n",
    "import matplotlib.pyplot as plt\n",
    "import astropy\n",
    "from datetime import date\n",
    "\n",
    "from lsst.ts import salobj\n",
    "from lsst.ts.externalscripts.auxtel.latiss_cwfs_align import LatissCWFSAlign\n",
    "from lsst.ts.observatory.control.utils import RotType\n",
    "\n",
    "from lsst.ts.idl.enums.Script import ScriptState\n",
    "\n",
    "from lsst.ts.observing.utilities.decorated_logger import DecoratedLogger"
   ]
  },
  {
   "cell_type": "markdown",
   "id": "5c110a43-49c9-459c-a833-02d745cd86d8",
   "metadata": {},
   "source": [
    "### Setting up logger"
   ]
  },
  {
   "cell_type": "code",
   "execution_count": null,
   "id": "f4f722d2-dee7-4c32-ade1-83f981fe7a6a",
   "metadata": {},
   "outputs": [],
   "source": [
    "logger = DecoratedLogger.get_decorated_logger()\n",
    "logger.level = logging.DEBUG"
   ]
  },
  {
   "cell_type": "markdown",
   "id": "156a7f96-6352-4cde-8805-7e84eff2754c",
   "metadata": {},
   "source": [
    "### Getting unique index for script"
   ]
  },
  {
   "cell_type": "code",
   "execution_count": null,
   "id": "46290f24-0c4d-4977-a2b8-663293d2b55f",
   "metadata": {},
   "outputs": [],
   "source": [
    "logger.info(f'Your UID is {os.getuid()}')\n",
    "index = os.getuid() * 10 + np.random.randint(0, 9)\n",
    "\n",
    "logger.info(f'The generated index is {index}')"
   ]
  },
  {
   "cell_type": "markdown",
   "id": "30730d48-244d-462f-82e3-faa05d844aa9",
   "metadata": {},
   "source": [
    "### Instanciate Script"
   ]
  },
  {
   "cell_type": "code",
   "execution_count": null,
   "id": "a01e1162-5f4e-47be-b496-cad7ca7fb8ec",
   "metadata": {
    "tags": []
   },
   "outputs": [],
   "source": [
    "script = LatissCWFSAlign(index=index, remotes=True)  # this essentially calls the init method\n",
    "await script.start_task"
   ]
  },
  {
   "cell_type": "markdown",
   "id": "65e2e62d-41f8-497d-9c7e-2c216de55ae4",
   "metadata": {},
   "source": [
    "### Forward ATCS and LATISS"
   ]
  },
  {
   "cell_type": "code",
   "execution_count": null,
   "id": "04cc2f4f-69e2-4ddf-93fd-70613ba0ef32",
   "metadata": {},
   "outputs": [],
   "source": [
    "atcs = script.atcs\n",
    "latiss = script.latiss"
   ]
  },
  {
   "cell_type": "markdown",
   "id": "cc18e727-5d4d-4c04-83bb-15aff9ec4d54",
   "metadata": {},
   "source": [
    "### Set up script log level"
   ]
  },
  {
   "cell_type": "code",
   "execution_count": null,
   "id": "0735e70c-d746-4165-a131-327d1709b8f3",
   "metadata": {},
   "outputs": [],
   "source": [
    "script.log.level = logging.DEBUG"
   ]
  },
  {
   "cell_type": "markdown",
   "id": "fab8d1f7-f6f2-4b9b-a298-df915f1123b5",
   "metadata": {},
   "source": [
    "---\n",
    "## Parabolic Focus Data Acquisition"
   ]
  },
  {
   "cell_type": "markdown",
   "id": "5e3b0a14-9cc1-4f1e-8cc6-191308ffe3fa",
   "metadata": {},
   "source": [
    "### Configuration"
   ]
  },
  {
   "cell_type": "markdown",
   "id": "f0eced48-2302-4d64-a9f4-fbfad328ed93",
   "metadata": {},
   "source": [
    "#### ATSpectrograph configuration"
   ]
  },
  {
   "cell_type": "markdown",
   "id": "225f0e42-d477-470f-a805-9b67207769a5",
   "metadata": {},
   "source": [
    "Get available instrument configurations:"
   ]
  },
  {
   "cell_type": "code",
   "execution_count": null,
   "id": "301e2b1b-ffd8-4b8c-a040-ae95319fd3bf",
   "metadata": {},
   "outputs": [],
   "source": [
    "inst_setup = await script.latiss.get_available_instrument_setup()\n",
    "logger.info(f'filters are: {inst_setup[0]},\\ngratings are: {inst_setup[1]}')"
   ]
  },
  {
   "cell_type": "markdown",
   "id": "926619f0-2be8-4b27-9f10-2d155dd086c5",
   "metadata": {},
   "source": [
    "Edit in the cell below the configuration of the instrument for the focus sequence. Both variables are strings. "
   ]
  },
  {
   "cell_type": "code",
   "execution_count": null,
   "id": "59c85d69-613b-4e77-9290-361bc807a6e5",
   "metadata": {},
   "outputs": [],
   "source": [
    "Filter_to_focus = 'SDSSg'\n",
    "Grating_to_focus = 'holo4_003'"
   ]
  },
  {
   "cell_type": "markdown",
   "id": "d40fc311-2ff6-4795-8953-09afd25c68b8",
   "metadata": {},
   "source": [
    "#### ATAOS corrections"
   ]
  },
  {
   "cell_type": "markdown",
   "id": "fcb00e7a-045f-4769-8b4c-597998877b71",
   "metadata": {},
   "source": [
    "Check that corrections are enabled. \n"
   ]
  },
  {
   "cell_type": "code",
   "execution_count": null,
   "id": "f2293ac2-8e86-461e-b139-2f0b577da46e",
   "metadata": {},
   "outputs": [],
   "source": [
    "print(await script.atcs.rem.ataos.evt_correctionEnabled.aget())"
   ]
  },
  {
   "cell_type": "markdown",
   "id": "f14e1fed-f36b-4249-bf6c-703dc6dd4a73",
   "metadata": {},
   "source": [
    "If False, please enable corrections with the following command\n"
   ]
  },
  {
   "cell_type": "code",
   "execution_count": null,
   "id": "89e7b69a-2796-4c39-a5af-57ea0fe83dcb",
   "metadata": {},
   "outputs": [],
   "source": [
    "await script.atcs.rem.ataos.cmd_enableCorrection.set_start(m1=True, hexapod=True, atspectrograph=True)"
   ]
  },
  {
   "cell_type": "markdown",
   "id": "1cb55fb3-8a4f-4573-b4da-d8e9967955ae",
   "metadata": {},
   "source": [
    "### Slew to target"
   ]
  },
  {
   "cell_type": "markdown",
   "id": "1a5e3e73-dc37-4f4a-ae3a-46e6f4cbd99d",
   "metadata": {},
   "source": [
    "Introduce target name"
   ]
  },
  {
   "cell_type": "code",
   "execution_count": null,
   "id": "26449bcc-3ee2-4451-9817-19feb623e377",
   "metadata": {},
   "outputs": [],
   "source": [
    "target = 'HD 110304'"
   ]
  },
  {
   "cell_type": "markdown",
   "id": "5b79cd9d-a9a5-4790-8f86-7aaffacb7848",
   "metadata": {},
   "source": [
    "or query for a target at the chosen coordinates\n"
   ]
  },
  {
   "cell_type": "code",
   "execution_count": null,
   "id": "6cfbf353-52a0-4de9-97ee-c22289f0bc92",
   "metadata": {},
   "outputs": [],
   "source": [
    "target = await script.atcs.find_target(az=120, el = 60, mag_limit=8)"
   ]
  },
  {
   "cell_type": "markdown",
   "id": "ddbe7e18-ae08-4076-b843-7c85062c3509",
   "metadata": {},
   "source": [
    "Slew to the defined target"
   ]
  },
  {
   "cell_type": "code",
   "execution_count": null,
   "id": "f3f6d290-1645-4836-93a0-bcba0fab4ef9",
   "metadata": {},
   "outputs": [],
   "source": [
    "await script.atcs.slew_object(target, rot_type=RotType.PhysicalSky)"
   ]
  },
  {
   "cell_type": "markdown",
   "id": "49a87fd3-70b1-4ae9-a118-3d4183838459",
   "metadata": {},
   "source": [
    "Take a test image with the setup configuration. "
   ]
  },
  {
   "cell_type": "code",
   "execution_count": null,
   "id": "bd4c8b32-d03c-48b2-a2cf-61df3b9ad6b1",
   "metadata": {},
   "outputs": [],
   "source": [
    "await script.latiss.take_engtest(2, filter=Filter_to_focus, grating=Grating_to_focus)"
   ]
  },
  {
   "cell_type": "markdown",
   "id": "10c8f910-bd1b-478d-9420-6580b8686f0d",
   "metadata": {
    "tags": []
   },
   "source": [
    "### Acquiring Data\n",
    "\n",
    "Fine-step focus sweep from -5x to 5x."
   ]
  },
  {
   "cell_type": "code",
   "execution_count": null,
   "id": "8aea8f6f-ea59-4515-af0c-6b4f3f9f6262",
   "metadata": {},
   "outputs": [],
   "source": [
    "original_focus_offset = await script.atcs.rem.ataos.evt_focusOffsetSummary.aget()\n",
    "print(f'Original focus offset is \\n {original_focus_offset}')"
   ]
  },
  {
   "cell_type": "code",
   "execution_count": null,
   "id": "7b3066a1-4c67-4b23-82cf-7f18b37ec0b6",
   "metadata": {
    "tags": []
   },
   "outputs": [],
   "source": [
    "z_offset_start = -0.1 # mm\n",
    "z_offset_step = 0.025 # mm\n",
    "z_offset_end = -z_offset_start\n",
    "\n",
    "steps = np.arange(z_offset_start, z_offset_end + 0.01, z_offset_step)\n",
    "parabolic_focus_data = []\n",
    "\n",
    "await atcs.rem.ataos.cmd_offset.set_start(z=z_offset_start)\n",
    "    \n",
    "await asyncio.sleep(2)\n",
    "for step in steps:\n",
    "    print(f\"Total z offset = {step:.3f}\")\n",
    "        \n",
    "    exposure = await latiss.take_engtest(\n",
    "        1, 1, filter=Filter_to_focus, grating=Grating_to_focus)\n",
    "    parabolic_focus_data.append(exposure[0])\n",
    "    \n",
    "    print(f'Current focus offset \\n {await script.atcs.rem.ataos.evt_focusOffsetSummary.aget()}')\n",
    "    \n",
    "    await atcs.rem.ataos.cmd_offset.set_start(z=z_offset_step)\n",
    "\n",
    "# Put offset back to original position\n",
    "await atcs.rem.ataos.cmd_offset.set_start(z= -(z_offset_end + z_offset_step))\n",
    "print(f'Back to original position \\n {await script.atcs.rem.ataos.evt_focusOffsetSummary.aget()}')\n"
   ]
  },
  {
   "cell_type": "code",
   "execution_count": null,
   "id": "408b7707-9812-441d-9c6a-8e6492d0c7a8",
   "metadata": {},
   "outputs": [],
   "source": [
    "current_focus_offset = await script.atcs.rem.ataos.evt_focusOffsetSummary.aget()\n",
    "print(current_focus_offset)"
   ]
  },
  {
   "cell_type": "markdown",
   "id": "eea5c637-7ef5-4235-a68f-f06ae65a1ba7",
   "metadata": {},
   "source": [
    "#### Save results "
   ]
  },
  {
   "cell_type": "code",
   "execution_count": null,
   "id": "60137803-a214-4791-989e-84a669671aeb",
   "metadata": {},
   "outputs": [],
   "source": [
    "filename = \"FocusSequence\"+date.today().strftime(\"%y%m%d\")+'_'+ Filter_to_focus+'+'+Grating_to_focus+'.txt'\n",
    "print(f'The sequence of images will be saved in {filename}')"
   ]
  },
  {
   "cell_type": "code",
   "execution_count": null,
   "id": "87246725-d6ba-456c-bf0e-9e63e17490ef",
   "metadata": {},
   "outputs": [],
   "source": [
    "file = open(filename, \"w+\")\n",
    "file.write(str(parabolic_focus_data))\n",
    "file.close()"
   ]
  },
  {
   "cell_type": "markdown",
   "id": "7346a280-3fc3-4027-baf6-0dcb7ce8364c",
   "metadata": {},
   "source": [
    "### Stop tracking"
   ]
  },
  {
   "cell_type": "code",
   "execution_count": null,
   "id": "e3c2ff73-e750-4542-9380-909c45aee054",
   "metadata": {},
   "outputs": [],
   "source": [
    "await script.atcs.stop_tracking()"
   ]
  },
  {
   "cell_type": "markdown",
   "id": "50df4500-7967-4a9a-98da-a0d48e21fabd",
   "metadata": {},
   "source": [
    "## CWFS Focusing "
   ]
  },
  {
   "cell_type": "markdown",
   "id": "430278c5-c27f-4474-8e8a-127f6271fcf1",
   "metadata": {},
   "source": [
    "### Set up configuration"
   ]
  },
  {
   "cell_type": "code",
   "execution_count": null,
   "id": "918c28c4-8dc0-410f-aa53-83b59e06f09e",
   "metadata": {},
   "outputs": [],
   "source": [
    "configuration = yaml.safe_dump({\"filter\": Filter_to_focus, \n",
    "                                \"grating\": Grating_to_focus,\n",
    "                                \"exposure_time\": 20,})"
   ]
  },
  {
   "cell_type": "markdown",
   "id": "1bd96b4c-7a4f-4fc6-9b9a-505c42cfd9d9",
   "metadata": {},
   "source": [
    "script = LatissCWFSAlign(index=index, remotes=True)  # this essentially calls the init method\n",
    "await script.start_taskSet script state to `UNCONFIGURED`.    \n",
    "The next line is not required the first time the script is run, however, in each additional instance the cell is run, an error will be thrown if it is not included.  \n",
    "Therefore, it is included here despite being a non-operation in the first instance.  "
   ]
  },
  {
   "cell_type": "code",
   "execution_count": null,
   "id": "a34af096-9769-40ce-a626-402d8dcfed61",
   "metadata": {},
   "outputs": [],
   "source": [
    "script.set_state(ScriptState.UNCONFIGURED)"
   ]
  },
  {
   "cell_type": "markdown",
   "id": "fa994bfd-d4cc-4536-acfa-1d1dde83ae92",
   "metadata": {},
   "source": [
    "### Put the ScriptState to CONFIGURED"
   ]
  },
  {
   "cell_type": "code",
   "execution_count": null,
   "id": "a0151f75-826c-4ad6-aaa8-f4717896ef95",
   "metadata": {
    "tags": []
   },
   "outputs": [],
   "source": [
    "config_data = script.cmd_configure.DataType()\n",
    "config_data.config = configuration\n",
    "await script.do_configure(config_data)"
   ]
  },
  {
   "cell_type": "markdown",
   "id": "78b952e3-d5bc-453f-bde9-4d989f7ddfb3",
   "metadata": {},
   "source": [
    "Set these script parameters to None to verify a re-reduction does not happen of the images."
   ]
  },
  {
   "cell_type": "code",
   "execution_count": null,
   "id": "b85082b9-c6ec-419b-8945-8926d1b02502",
   "metadata": {},
   "outputs": [],
   "source": [
    "script.intra_visit_id = None\n",
    "script.extra_visit_id = None\n",
    "script.short_timeout = 10"
   ]
  },
  {
   "cell_type": "markdown",
   "id": "ebfd300a-ae62-46d3-ae1f-ab559088d7d1",
   "metadata": {},
   "source": [
    "### Set groupID and launch the script\n",
    "\n",
    "This sets the same group ID for all exposures taken in the script."
   ]
  },
  {
   "cell_type": "code",
   "execution_count": null,
   "id": "4efb0aea-4bdf-48b6-ace1-88eee3f83661",
   "metadata": {
    "tags": []
   },
   "outputs": [],
   "source": [
    "group_id_data = script.cmd_setGroupId.DataType(\n",
    "    groupId=astropy.time.Time.now().isot)\n",
    "\n",
    "await script.do_setGroupId(group_id_data)\n",
    "await script.arun()"
   ]
  },
  {
   "cell_type": "markdown",
   "id": "1155da36-33c0-42a7-ac62-2a4603d3e6ef",
   "metadata": {},
   "source": [
    "### Stop tracking"
   ]
  },
  {
   "cell_type": "code",
   "execution_count": null,
   "id": "4f911796-500f-416f-9cfc-fbaa7e87ca91",
   "metadata": {},
   "outputs": [],
   "source": [
    "await script.atcs.stop_tracking()"
   ]
  }
 ],
 "metadata": {
  "kernelspec": {
   "display_name": "LSST",
   "language": "python",
   "name": "lsst"
  },
  "language_info": {
   "codemirror_mode": {
    "name": "ipython",
    "version": 3
   },
   "file_extension": ".py",
   "mimetype": "text/x-python",
   "name": "python",
   "nbconvert_exporter": "python",
   "pygments_lexer": "ipython3",
   "version": "3.8.13"
  },
  "toc-autonumbering": true,
  "toc-showmarkdowntxt": false
 },
 "nbformat": 4,
 "nbformat_minor": 5
}
