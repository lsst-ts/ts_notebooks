{
 "cells": [
  {
   "cell_type": "markdown",
   "id": "3dbf3c0c",
   "metadata": {},
   "source": [
    "# DayTime Checkout\n",
    "\n",
    "This notebook is intended to run a series of tests to ensure the system responds as expected.\n",
    "It begins with LATISS, but can also be used with the telescope ATCS components only."
   ]
  },
  {
   "cell_type": "code",
   "execution_count": null,
   "id": "b9b61b70",
   "metadata": {},
   "outputs": [],
   "source": [
    "import asyncio\n",
    "import time\n",
    "import os\n",
    "import numpy as np\n",
    "from matplotlib import pyplot as plt\n",
    "from astropy.time import Time\n",
    "\n",
    "from lsst.ts import salobj\n",
    "\n",
    "from lsst.ts.observatory.control.auxtel.atcs import ATCS\n",
    "from lsst.summit.utils import BestEffortIsr\n",
    "import lsst.daf.butler as dafButler\n",
    "from lsst.ts.observatory.control.auxtel.latiss import LATISS\n",
    "from lsst.ts.idl.enums.ATMCS import M3ExitPort\n",
    "from lsst.ts.observatory.control.utils import RotType\n",
    "from lsst.ts.observing.utilities.auxtel.latiss.utils import parse_visit_id"
   ]
  },
  {
   "cell_type": "code",
   "execution_count": null,
   "id": "0755fd07",
   "metadata": {},
   "outputs": [],
   "source": [
    "logger = logging.getLogger(f\"Daytime Checkout {Time.now()} UT\")\n",
    "logger.level = logging.DEBUG"
   ]
  },
  {
   "cell_type": "code",
   "execution_count": null,
   "id": "e80647f9",
   "metadata": {},
   "outputs": [],
   "source": [
    "logger.info(os.environ[\"OSPL_URI\"])\n",
    "logger.info(os.environ[\"LSST_DDS_PARTITION_PREFIX\"])"
   ]
  },
  {
   "cell_type": "code",
   "execution_count": null,
   "id": "03f25b08-5b69-4d6c-b31e-d99bf9177f5b",
   "metadata": {},
   "outputs": [],
   "source": [
    "datapath='/repo/LATISS'\n",
    "butler = dafButler.Butler(datapath, instrument='LATISS', collections=['LATISS/raw/all','LATISS_test_data'])\n",
    "dataset='raw'"
   ]
  },
  {
   "cell_type": "code",
   "execution_count": null,
   "id": "c604d826-45fe-41ec-8261-c9d15bff79ad",
   "metadata": {},
   "outputs": [],
   "source": [
    "best_effort_isr = BestEffortIsr()\n",
    "best_effort_isr.doWrite = True  # Write to butler database to check permissions"
   ]
  },
  {
   "cell_type": "markdown",
   "id": "82b5ed46-aa63-43bb-a5f4-e7a41bd551ae",
   "metadata": {},
   "source": [
    "Helper function"
   ]
  },
  {
   "cell_type": "code",
   "execution_count": null,
   "id": "c1ec08aa-614e-40a7-b612-4062cd64ddd2",
   "metadata": {},
   "outputs": [],
   "source": [
    "def check_evt_time(evt):\n",
    "    event_time = Time(evt.private_sndStamp, format=\"unix\", scale=\"tai\")\n",
    "    event_time.format = \"iso\"\n",
    "    event_time = event_time.utc\n",
    "    return event_time"
   ]
  },
  {
   "cell_type": "markdown",
   "id": "a9cd22ea",
   "metadata": {},
   "source": [
    "### Instantiate the control classes"
   ]
  },
  {
   "cell_type": "code",
   "execution_count": null,
   "id": "f651e5d9",
   "metadata": {
    "tags": []
   },
   "outputs": [],
   "source": [
    "domain = salobj.Domain()\n",
    "atcs = ATCS(domain)\n",
    "latiss = LATISS(domain)\n",
    "await asyncio.gather(atcs.start_task, latiss.start_task)"
   ]
  },
  {
   "cell_type": "markdown",
   "id": "23e76b2b",
   "metadata": {
    "tags": []
   },
   "source": [
    "## Indicate if LATISS is part of the checkout"
   ]
  },
  {
   "cell_type": "code",
   "execution_count": null,
   "id": "1b482bc2",
   "metadata": {},
   "outputs": [],
   "source": [
    "with_latiss=True"
   ]
  },
  {
   "cell_type": "markdown",
   "id": "50d3b4be",
   "metadata": {},
   "source": [
    "## Enable LATISS"
   ]
  },
  {
   "cell_type": "code",
   "execution_count": null,
   "id": "ab6d900c",
   "metadata": {
    "tags": []
   },
   "outputs": [],
   "source": [
    "if with_latiss:\n",
    "    await latiss.enable()"
   ]
  },
  {
   "cell_type": "markdown",
   "id": "014ff42a-1d20-4a15-a145-3a59306459e2",
   "metadata": {
    "tags": []
   },
   "source": [
    "If ATCamera and/or ATOODS don't come up, see section `Quick Troubleshooting` for support commands. "
   ]
  },
  {
   "cell_type": "markdown",
   "id": "a85209e7",
   "metadata": {},
   "source": [
    "## LATISS image and ingestion verification\n",
    "\n",
    "### Bias verification"
   ]
  },
  {
   "cell_type": "code",
   "execution_count": null,
   "id": "034decba",
   "metadata": {
    "tags": []
   },
   "outputs": [],
   "source": [
    "if with_latiss:\n",
    "    latiss.rem.atoods.evt_imageInOODS.flush()\n",
    "    await latiss.take_bias(nbias=1)\n",
    "    ingest_event = await latiss.rem.atoods.evt_imageInOODS.next(flush=False, timeout=10)\n",
    "    ingest_event_time = check_evt_time(ingest_event)\n",
    "    logger.info(f'The last ingested image was \\n \\t {ingest_event.obsid} at {ingest_event_time} UT')\n",
    "    assert ingest_event.statusCode == 0, 'Ingestion was not successful!'"
   ]
  },
  {
   "cell_type": "markdown",
   "id": "f32825fe",
   "metadata": {},
   "source": [
    "Check that the bias pops up in the monitor (https://roundtable.lsst.codes/rubintv/monitor_current)\n",
    "If it fails, let Patrick or Merlin know\n",
    "\n",
    "You can check that it ingested at USDF with this link: ******* <b>Add when available<b>\n"
   ]
  },
  {
   "cell_type": "markdown",
   "id": "18af4378",
   "metadata": {
    "tags": []
   },
   "source": [
    "### Engineering test frame verification\n",
    "This is analogous to a science frame"
   ]
  },
  {
   "cell_type": "markdown",
   "id": "416f0984-0a2e-4b14-ba4c-529a83ceb297",
   "metadata": {},
   "source": [
    "These are the filters and grating configurations available. "
   ]
  },
  {
   "cell_type": "code",
   "execution_count": null,
   "id": "530471f0-8a70-48c5-a69c-1f2e6631d955",
   "metadata": {},
   "outputs": [],
   "source": [
    "available_setup = await latiss.get_available_instrument_setup()\n",
    "logger.info(f'\\n The available filters are {available_setup[0]} \\n and gratings are {available_setup[1]} ')"
   ]
  },
  {
   "cell_type": "code",
   "execution_count": null,
   "id": "415322c5",
   "metadata": {
    "tags": []
   },
   "outputs": [],
   "source": [
    "if with_latiss:\n",
    "    latiss.rem.atoods.evt_imageInOODS.flush()\n",
    "    await latiss.take_engtest(3, filter='empty_1',grating='holo4_003', program='DayTime_Checkout')\n",
    "    ingest_event = await latiss.rem.atoods.evt_imageInOODS.next(flush=False, timeout=10)\n",
    "    ingest_event_time = check_evt_time(ingest_event)\n",
    "    inst_setup = await latiss.get_setup()\n",
    "    logger.info(f'The last ingested image was \\n \\t {ingest_event.obsid} at {ingest_event_time.utc} UT \\n \\t with {inst_setup[0]} filter and {inst_setup[1]} grating ')\n",
    "    assert ingest_event.statusCode == 0, 'Ingestion was not successful!'"
   ]
  },
  {
   "cell_type": "markdown",
   "id": "6da39a4b",
   "metadata": {
    "tags": []
   },
   "source": [
    "## Enable ATCS"
   ]
  },
  {
   "cell_type": "code",
   "execution_count": null,
   "id": "b8820a7f",
   "metadata": {
    "tags": []
   },
   "outputs": [],
   "source": [
    "await atcs.enable()"
   ]
  },
  {
   "cell_type": "markdown",
   "id": "e1dc8c7d-1178-4986-8485-557cd3b0dfe4",
   "metadata": {},
   "source": [
    "If any of the ATCS CSCs failed to transition to enabled state with the above command, see `Quick Troubleshooting` section for more commands. "
   ]
  },
  {
   "cell_type": "markdown",
   "id": "f2c90358",
   "metadata": {},
   "source": [
    "## Pneumatics Functionality Verification"
   ]
  },
  {
   "cell_type": "markdown",
   "id": "34fec12f",
   "metadata": {},
   "source": [
    "Check ATPneumatics air pressure. "
   ]
  },
  {
   "cell_type": "code",
   "execution_count": null,
   "id": "39e586cb",
   "metadata": {},
   "outputs": [],
   "source": [
    "await atcs.open_valves()\n",
    "pressure = await atcs.rem.atpneumatics.tel_mainAirSourcePressure.next(flush=True, timeout=5)\n",
    "if pressure.pressure > 300000:\n",
    "    logger.info(f'Air pressure is {pressure.pressure:0.0f} Pascals, which is fine.')\n",
    "else:\n",
    "    raise AssertionError(f'Air pressure is {pressure.pressure}, which is too low. It needs to be between ~275790 and ~413000 Pascals (40 and 60 PSI). \\n Check that compressor and dryer are running. Then check that the regulator inside the pier is set correctly. ')"
   ]
  },
  {
   "cell_type": "markdown",
   "id": "fe8a839f",
   "metadata": {},
   "source": [
    "Turn on ATAOS correction(s), without spectrograph (if the tests were skipped above).<br>\n",
    "Note there is a race condition in the ATPneumatics that might result in this failing, so you'll have to run in twice"
   ]
  },
  {
   "cell_type": "code",
   "execution_count": null,
   "id": "81d8e8f7",
   "metadata": {
    "tags": []
   },
   "outputs": [],
   "source": [
    "cmd = await atcs.rem.ataos.cmd_enableCorrection.set_start(m1=True, hexapod=True, atspectrograph=with_latiss)\n",
    "cmd_time = check_evt_time(cmd)\n",
    "logger.info(f'ATAOS corrections enabled -- {cmd.result} at {cmd_time} UT')"
   ]
  },
  {
   "cell_type": "code",
   "execution_count": null,
   "id": "81b3f544",
   "metadata": {},
   "outputs": [],
   "source": [
    "m1_pressure = await atcs.rem.atpneumatics.tel_m1AirPressure.aget(timeout=5)\n",
    "logger.info(f'M1 Air pressure with enabled ATAOS corrections is {m1_pressure.pressure:0.0f} Pascals')"
   ]
  },
  {
   "cell_type": "markdown",
   "id": "963fda08",
   "metadata": {},
   "source": [
    "Turn off ATAOS correction(s), without spectrograph (if the tests were skipped above)"
   ]
  },
  {
   "cell_type": "code",
   "execution_count": null,
   "id": "c4d7b436",
   "metadata": {},
   "outputs": [],
   "source": [
    "cmd = await atcs.rem.ataos.cmd_disableCorrection.set_start(m1=True, hexapod=True, atspectrograph=with_latiss)\n",
    "cmd_time = check_evt_time(cmd)\n",
    "logger.info(f'Corrections disabled -- {cmd.result} at {cmd_time} UT')"
   ]
  },
  {
   "cell_type": "markdown",
   "id": "4b478432",
   "metadata": {},
   "source": [
    "Lower mirror back on hardpoints"
   ]
  },
  {
   "cell_type": "code",
   "execution_count": null,
   "id": "6813e58c",
   "metadata": {},
   "outputs": [],
   "source": [
    "cmd = await atcs.rem.atpneumatics.cmd_m1SetPressure.set_start(pressure=0)\n",
    "m1_pressure = await atcs.rem.atpneumatics.tel_m1AirPressure.aget(timeout=5)\n",
    "logger.info(f'M1 air pressure when lowered back on hardpoints is {m1_pressure.pressure:0.0f} Pascals')"
   ]
  },
  {
   "cell_type": "markdown",
   "id": "336b109b",
   "metadata": {},
   "source": [
    "Turn on ATAOS correction(s), without spectrograph (if the tests were skipped above). <br>\n",
    "This should not ever fail."
   ]
  },
  {
   "cell_type": "code",
   "execution_count": null,
   "id": "c170ff2b",
   "metadata": {
    "tags": []
   },
   "outputs": [],
   "source": [
    "cmd = await atcs.rem.ataos.cmd_enableCorrection.set_start(m1=True, hexapod=True, atspectrograph=with_latiss)\n",
    "cmd_time = check_evt_time(cmd)\n",
    "logger.info(f'ATAOS corrections enabled -- {cmd.result} at {cmd_time} UT')"
   ]
  },
  {
   "cell_type": "markdown",
   "id": "294e5f91",
   "metadata": {},
   "source": [
    "## Start Telescope testing"
   ]
  },
  {
   "cell_type": "markdown",
   "id": "a0631baa",
   "metadata": {},
   "source": [
    "Turn off dome following"
   ]
  },
  {
   "cell_type": "code",
   "execution_count": null,
   "id": "7761429f",
   "metadata": {},
   "outputs": [],
   "source": [
    "await atcs.disable_dome_following()"
   ]
  },
  {
   "cell_type": "markdown",
   "id": "56aa867e",
   "metadata": {},
   "source": [
    "### Test Point AzEl"
   ]
  },
  {
   "cell_type": "code",
   "execution_count": null,
   "id": "0f056863",
   "metadata": {
    "tags": []
   },
   "outputs": [],
   "source": [
    "start_az=0.0\n",
    "start_el=80.0\n",
    "start_rot=0\n",
    "await atcs.point_azel(az=start_az, el=start_el, rot_tel=start_rot)"
   ]
  },
  {
   "cell_type": "code",
   "execution_count": null,
   "id": "3ea5225b",
   "metadata": {},
   "outputs": [],
   "source": [
    "# Stop tracking\n",
    "await atcs.stop_tracking()"
   ]
  },
  {
   "cell_type": "markdown",
   "id": "1f48857b",
   "metadata": {},
   "source": [
    "### Test Sidereal tracking\n",
    "but do so starting from the same position"
   ]
  },
  {
   "cell_type": "code",
   "execution_count": null,
   "id": "1e004cec",
   "metadata": {
    "tags": []
   },
   "outputs": [],
   "source": [
    "coord=atcs.radec_from_azel(az=start_az+5, el=start_el-5)\n",
    "await atcs.slew_icrs(coord.ra, coord.dec, rot=start_rot, stop_before_slew=False, rot_type=RotType.PhysicalSky)"
   ]
  },
  {
   "cell_type": "code",
   "execution_count": null,
   "id": "13cb5e79",
   "metadata": {},
   "outputs": [],
   "source": [
    "# Stop tracking\n",
    "await atcs.stop_tracking()"
   ]
  },
  {
   "cell_type": "markdown",
   "id": "592276fa",
   "metadata": {},
   "source": [
    "## Verify dome functions"
   ]
  },
  {
   "cell_type": "markdown",
   "id": "36fe77eb-d67c-4db6-9671-eef28a8568a2",
   "metadata": {},
   "source": [
    "Check that dome moves\n"
   ]
  },
  {
   "cell_type": "code",
   "execution_count": null,
   "id": "09fa95bb",
   "metadata": {},
   "outputs": [],
   "source": [
    "dome_az = await atcs.rem.atdome.tel_position.next(flush=True,timeout=10)\n",
    "logger.info(f'Dome currently thinks it is at an azimuth position of {dome_az.azimuthPosition} degrees.\\n Note the dome may not be properly homed at this time')"
   ]
  },
  {
   "cell_type": "code",
   "execution_count": null,
   "id": "2d2fa038-38f0-4437-8a14-bec5372542e3",
   "metadata": {
    "tags": []
   },
   "outputs": [],
   "source": [
    "d_az=15\n",
    "await atcs.rem.atdome.cmd_moveAzimuth.set_start(azimuth=dome_az.azimuthPosition+d_az)\n",
    "dome_az = await atcs.rem.atdome.tel_position.next(flush=True,timeout=10)\n",
    "logger.info(f'After the commanded {d_az} degrees motion, the dome is at an azimuth position of {dome_az.azimuthPosition} degrees')"
   ]
  },
  {
   "cell_type": "markdown",
   "id": "1516e4ca-f50c-4d45-b868-68d811f67eab",
   "metadata": {},
   "source": [
    "## Prepare telescope and dome for flatfield"
   ]
  },
  {
   "cell_type": "markdown",
   "id": "50dc7752-9885-470e-b9c4-4bcbfb734f03",
   "metadata": {},
   "source": [
    "### Setup telescope to run the \"prepare for flats\" script so it maximizes the internal functionality of the script"
   ]
  },
  {
   "cell_type": "code",
   "execution_count": null,
   "id": "88c542db",
   "metadata": {},
   "outputs": [],
   "source": [
    "# Turn off ATAOS correction(s)\n",
    "cmd = await atcs.rem.ataos.cmd_disableCorrection.set_start(m1=True, hexapod=True, atspectrograph=with_latiss)\n",
    "cmd_time = check_evt_time(cmd)\n",
    "logger.info(f'Corrections disabled -- {cmd.result} at {cmd_time} UT')"
   ]
  },
  {
   "cell_type": "code",
   "execution_count": null,
   "id": "9b67b94e-636a-4e01-9b61-a1892528a4f1",
   "metadata": {},
   "outputs": [],
   "source": [
    "# Put mirror back on the hardpoints\n",
    "cmd = await atcs.rem.atpneumatics.cmd_m1SetPressure.set_start(pressure=0)\n",
    "m1_pressure = await atcs.rem.atpneumatics.tel_m1AirPressure.aget(timeout=5)\n",
    "logger.info(f'M1 air pressure when lowered back on hardpoints is {m1_pressure.pressure:0.0f} Pascals')"
   ]
  },
  {
   "cell_type": "code",
   "execution_count": null,
   "id": "d4f68b75",
   "metadata": {},
   "outputs": [],
   "source": [
    "# Shut off the valves so we can test the pneumatics\n",
    "cmd = await atcs.rem.atpneumatics.cmd_closeMasterAirSupply.start()\n",
    "cmd = await atcs.rem.atpneumatics.cmd_closeInstrumentAirValve.start()\n",
    "cmd_time = check_evt_time(cmd)\n",
    "logger.info(f'Valves closed -- {cmd.result} at {cmd_time} UT')"
   ]
  },
  {
   "cell_type": "code",
   "execution_count": null,
   "id": "47583b32",
   "metadata": {
    "tags": []
   },
   "outputs": [],
   "source": [
    "# Open mirror covers and vents\n",
    "# Note that there is currently a race conditions that might make this fail in the first attempt\n",
    "await atcs.open_m1_cover()\n",
    "await atcs.open_m1_vent()"
   ]
  },
  {
   "cell_type": "code",
   "execution_count": null,
   "id": "0ade8e23",
   "metadata": {
    "tags": []
   },
   "outputs": [],
   "source": [
    "# Close mirror covers and vents\n",
    "await atcs.close_m1_cover()\n",
    "await atcs.close_m1_vent()"
   ]
  },
  {
   "cell_type": "markdown",
   "id": "dffd3102-cd2b-4ae9-a2c4-84b03602ea91",
   "metadata": {},
   "source": [
    "## Run prepare_for_flats\n",
    "First we home the dome to make sure it knows where it is."
   ]
  },
  {
   "cell_type": "code",
   "execution_count": null,
   "id": "c5c2985a-c6b0-46e2-a86d-49e18c850329",
   "metadata": {
    "tags": []
   },
   "outputs": [],
   "source": [
    "await atcs.home_dome()\n",
    "dome_az = await atcs.rem.atdome.tel_position.next(flush=True,timeout=10)\n",
    "logger.info(f'The dome is homed at an azimuth position of {dome_az.azimuthPosition} degrees.')"
   ]
  },
  {
   "cell_type": "code",
   "execution_count": null,
   "id": "101371c8-8ec6-49c2-8eca-89b9fc7248f4",
   "metadata": {
    "tags": []
   },
   "outputs": [],
   "source": [
    "await atcs.prepare_for_flatfield()"
   ]
  },
  {
   "cell_type": "markdown",
   "id": "2bdfd62d",
   "metadata": {},
   "source": [
    "## Perform slew of Full Observatory\n",
    "Images will be taken in all available instrument setups, and the bestEffortISR exposure will be retrieved. "
   ]
  },
  {
   "cell_type": "markdown",
   "id": "b5bc6aa2",
   "metadata": {},
   "source": [
    "Now close the mirror cover just to keep things safe - this will move the telescope to a higher position (El~70)"
   ]
  },
  {
   "cell_type": "code",
   "execution_count": null,
   "id": "6d44a40a",
   "metadata": {
    "tags": []
   },
   "outputs": [],
   "source": [
    "await atcs.close_m1_cover()\n",
    "await atcs.close_m1_vent()"
   ]
  },
  {
   "cell_type": "markdown",
   "id": "434e8cef",
   "metadata": {},
   "source": [
    "Turn on dome following which will align the dome with the telescope"
   ]
  },
  {
   "cell_type": "code",
   "execution_count": null,
   "id": "32c92859",
   "metadata": {},
   "outputs": [],
   "source": [
    "await atcs.enable_dome_following()"
   ]
  },
  {
   "cell_type": "markdown",
   "id": "74bd7c7b",
   "metadata": {},
   "source": [
    "Turn on ATAOS correction(s), without spectrograph (if the tests were skipped above). <br>\n",
    "Note there is a race condition in the ATPneumatics that might result in this failing. <br>\n",
    "If it fails, you'll have to run in twice"
   ]
  },
  {
   "cell_type": "code",
   "execution_count": null,
   "id": "bd858bbd",
   "metadata": {},
   "outputs": [],
   "source": [
    "cmd = await atcs.rem.ataos.cmd_enableCorrection.set_start(m1=True, hexapod=True, atspectrograph=with_latiss)\n",
    "cmd_time = check_evt_time(cmd)\n",
    "logger.info(f'ATAOS corrections enabled -- {cmd.result} at {cmd_time} UT')"
   ]
  },
  {
   "cell_type": "markdown",
   "id": "f827e464",
   "metadata": {},
   "source": [
    "Now start tracking a siderial target, but starting from the same position. <br>\n",
    "Then take engineering test frames (analogous to a science frame) for each filter with no grating. Make sure the images land, and are showing up in Rubin TV in real-time. "
   ]
  },
  {
   "cell_type": "markdown",
   "id": "95725b16-c55c-4e59-893f-a1e581fa6397",
   "metadata": {},
   "source": [
    "### Slew to target #1"
   ]
  },
  {
   "cell_type": "code",
   "execution_count": null,
   "id": "77c7ed22",
   "metadata": {
    "tags": []
   },
   "outputs": [],
   "source": [
    "current_position = atcs.rem.atptg.tel_mountPositions.get()\n",
    "start_az = current_position.azimuthCalculatedAngle[0]\n",
    "start_el = current_position.elevationCalculatedAngle[0]\n",
    "coord=atcs.radec_from_azel(az=start_az+10, el=start_el-10)\n",
    "await atcs.slew_icrs(coord.ra, coord.dec, rot=start_rot, stop_before_slew=False, rot_type=RotType.PhysicalSky)"
   ]
  },
  {
   "cell_type": "code",
   "execution_count": null,
   "id": "7e397391",
   "metadata": {
    "tags": []
   },
   "outputs": [],
   "source": [
    "if with_latiss:\n",
    "    for filt in available_setup[0]:\n",
    "        latiss.rem.atoods.evt_imageInOODS.flush()\n",
    "        sequence = await latiss.take_engtest(5, filter=filt, grating='empty_1')\n",
    "        ingest_event = await latiss.rem.atoods.evt_imageInOODS.next(flush=False, timeout=10)\n",
    "        ingest_event_time = check_evt_time(ingest_event)\n",
    "        inst_setup = await latiss.get_setup()\n",
    "        logger.info(f'Image {ingest_event.obsid}\\n \\t was ingested at {ingest_event_time} UT \\n \\t with {inst_setup[0]} filter and {inst_setup[1]} grating ')\n",
    "        assert ingest_event.statusCode == 0, 'Ingestion was not successful!'\n",
    "\n",
    "        try:\n",
    "            data_id = parse_visit_id(sequence[0])\n",
    "            exp = best_effort_isr.getExposure(data_id, skipCosmics=False)    \n",
    "            logger.info(f'QuickLook exposure {sequence[0]} \\n \\t with {inst_setup[0]} filter and {inst_setup[1]} grating was successfully retrieved')\n",
    "        except:\n",
    "            logger.error(f'QuickLook exposure {sequence[0]} \\n \\t with {inst_setup[0]} filter and {inst_setup[1]} grating couldn\\'t be retrieved')"
   ]
  },
  {
   "cell_type": "markdown",
   "id": "382d7995",
   "metadata": {},
   "source": [
    "Pause here and let it track for at least a couple minutes. Confirm that all QuickLook have been found and no errors are present in the cell output above. "
   ]
  },
  {
   "cell_type": "markdown",
   "id": "1ca821a3",
   "metadata": {},
   "source": [
    "### Slew to target #2\n",
    "and take four more images cycling through the filters and the hologram grating. "
   ]
  },
  {
   "cell_type": "code",
   "execution_count": null,
   "id": "41bedda3",
   "metadata": {
    "tags": []
   },
   "outputs": [],
   "source": [
    "coord=atcs.radec_from_azel(az=start_az+5, el=start_el-15)\n",
    "await atcs.slew_icrs(coord.ra, coord.dec, rot=start_rot, stop_before_slew=False, rot_type=RotType.PhysicalSky)"
   ]
  },
  {
   "cell_type": "code",
   "execution_count": null,
   "id": "2b28329f",
   "metadata": {
    "tags": []
   },
   "outputs": [],
   "source": [
    "if with_latiss:\n",
    "    for filt in available_setup[0]:\n",
    "        latiss.rem.atoods.evt_imageInOODS.flush()\n",
    "        sequence = await latiss.take_engtest(7, filter=filt, grating='holo4_003')\n",
    "        ingest_event = await latiss.rem.atoods.evt_imageInOODS.next(flush=False, timeout=10)\n",
    "        ingest_event_time = check_evt_time(ingest_event)\n",
    "        inst_setup = await latiss.get_setup()\n",
    "        logger.info(f'Image {ingest_event.obsid}\\n \\t was ingested at {ingest_event_time} UT \\n \\t with {inst_setup[0]} filter and {inst_setup[1]} grating ')\n",
    "        assert ingest_event.statusCode == 0, 'Ingestion was not successful!'\n",
    "\n",
    "        try:\n",
    "            data_id = parse_visit_id(sequence[0])\n",
    "            exp = best_effort_isr.getExposure(data_id, skipCosmics=False)    \n",
    "            logger.info(f'QuickLook exposure {sequence[0]} \\n \\t with {inst_setup[0]} filter and {inst_setup[1]} grating was successfully retrieved')\n",
    "        except:\n",
    "            logger.error(f'QuickLook exposure {sequence[0]} \\n \\t with {inst_setup[0]} filter and {inst_setup[1]} grating couldn\\'t be retrieved')"
   ]
  },
  {
   "cell_type": "markdown",
   "id": "85924833-229f-4874-b124-f40ffc320bdd",
   "metadata": {},
   "source": [
    "## M3 functionality "
   ]
  },
  {
   "cell_type": "markdown",
   "id": "1342903d-bde0-44ef-9c53-244ab84e90e1",
   "metadata": {},
   "source": [
    "M3 verification is not required every time this daytime checkout is run. Check the DayTime Checkout historical data to corroborate if this section is meant to run today.  \n",
    "\n",
    "Confirm M3 mirror rotation is operational and its valve is routinely exercized by running the following commands. \n",
    "\n",
    "First, move to the zenith where the Nasmyth motor can function with ease.  "
   ]
  },
  {
   "cell_type": "code",
   "execution_count": null,
   "id": "33670114-7406-469c-8272-3ece1fce9bed",
   "metadata": {},
   "outputs": [],
   "source": [
    "start_az=0.0\n",
    "start_el=80.0\n",
    "start_rot=0\n",
    "await atcs.point_azel(az=start_az, el=start_el, rot_tel=start_rot)"
   ]
  },
  {
   "cell_type": "code",
   "execution_count": null,
   "id": "40911643-8b9c-4b2d-aa4f-24294ca38626",
   "metadata": {},
   "outputs": [],
   "source": [
    "await atcs.stop_tracking()"
   ]
  },
  {
   "cell_type": "markdown",
   "id": "71e75bf0-2157-4a65-9b18-8098a22abef9",
   "metadata": {},
   "source": [
    "Move to the Nasmyth1 port"
   ]
  },
  {
   "cell_type": "code",
   "execution_count": null,
   "id": "1a7f725c-9aed-474b-9c9b-ebe57305de5e",
   "metadata": {},
   "outputs": [],
   "source": [
    "await atcs.rem.atmcs.cmd_setInstrumentPort.set_start(port=M3ExitPort.NASMYTH1)\n",
    "m3 = await atcs.rem.atmcs.evt_m3PortSelected.aget()\n",
    "m3_time = check_evt_time(m3)\n",
    "logger.info(f'M3 Port selected -- {m3.selected} at {m3_time} UT')"
   ]
  },
  {
   "cell_type": "markdown",
   "id": "e8cf7f7b-5f61-4dee-95e9-39c0365b84ae",
   "metadata": {},
   "source": [
    "and back to Nasmyth 2"
   ]
  },
  {
   "cell_type": "code",
   "execution_count": null,
   "id": "19069d0e-8402-4a16-9809-ad77c53cc92e",
   "metadata": {},
   "outputs": [],
   "source": [
    "await atcs.rem.atmcs.cmd_setInstrumentPort.set_start(port=M3ExitPort.NASMYTH2)\n",
    "m3 = await atcs.rem.atmcs.evt_m3PortSelected.aget()\n",
    "m3_time = check_evt_time(m3)\n",
    "logger.info(f'M3 Port selected -- {m3.selected} at {m3_time} UT')"
   ]
  },
  {
   "cell_type": "markdown",
   "id": "a435880e",
   "metadata": {},
   "source": [
    "## Shutdown all ATCS components"
   ]
  },
  {
   "cell_type": "code",
   "execution_count": null,
   "id": "723d22b0",
   "metadata": {
    "tags": []
   },
   "outputs": [],
   "source": [
    "await atcs.shutdown()"
   ]
  },
  {
   "cell_type": "markdown",
   "id": "621b5407",
   "metadata": {},
   "source": [
    "## Put LATISS in standby"
   ]
  },
  {
   "cell_type": "code",
   "execution_count": null,
   "id": "80517626",
   "metadata": {
    "tags": []
   },
   "outputs": [],
   "source": [
    "await latiss.standby()"
   ]
  },
  {
   "cell_type": "markdown",
   "id": "f2427c84-de49-43ca-ae1e-3a06afbdc1fd",
   "metadata": {},
   "source": [
    "# Quick Troubleshooting"
   ]
  },
  {
   "cell_type": "markdown",
   "id": "0ba5ab6c-b5d6-45c1-a9b4-66d8f9671a08",
   "metadata": {},
   "source": [
    "## LATISS CSCs failed to transition to ENABLED state. \n",
    "The current DDS configuration results in history being lost when CSCs are restarted and/or a small network outage occurs. If this happens, then to receive the summaryState event, which is required by salobj.get_summary_state (and used extensively in the atcs), it is necessary to manually change the state of a CSC. The commands below can be used to perform this action.\n",
    "\n",
    "A new DDS configuration is now ready to be tested and will hopefully be released in the near future."
   ]
  },
  {
   "cell_type": "markdown",
   "id": "5233ad88-d7eb-497c-8119-aabb86f4e37c",
   "metadata": {},
   "source": [
    "### ATOODs didn't come up"
   ]
  },
  {
   "cell_type": "code",
   "execution_count": null,
   "id": "398422df-64ad-4da9-80c5-df4e02626141",
   "metadata": {},
   "outputs": [],
   "source": [
    "tmp=await latiss.rem.atoods.cmd_start.set_start()\n",
    "print(tmp)"
   ]
  },
  {
   "cell_type": "code",
   "execution_count": null,
   "id": "728bcdae-3e1e-4651-9519-50ec1fde129b",
   "metadata": {
    "tags": []
   },
   "outputs": [],
   "source": [
    "await salobj.set_summary_state(latiss.rem.atoods, salobj.State.STANDBY)"
   ]
  },
  {
   "cell_type": "code",
   "execution_count": null,
   "id": "aa223e1a-5501-4489-ae3e-f2b8ba523153",
   "metadata": {
    "tags": []
   },
   "outputs": [],
   "source": [
    "await salobj.set_summary_state(latiss.rem.atoods, salobj.State.ENABLED)"
   ]
  },
  {
   "cell_type": "markdown",
   "id": "1475a0f5-49a8-4727-aa9e-520301f9ee53",
   "metadata": {},
   "source": [
    "### ATCamera didn't come up"
   ]
  },
  {
   "cell_type": "code",
   "execution_count": null,
   "id": "36387d0e-d027-4872-a313-c3bccf63af35",
   "metadata": {},
   "outputs": [],
   "source": [
    "tmp=await latiss.rem.atcamera.cmd_start.set_start(timeout=10)\n",
    "print(tmp)"
   ]
  },
  {
   "cell_type": "code",
   "execution_count": null,
   "id": "34ce130f-e542-4d19-9aea-55aa04f929d6",
   "metadata": {
    "tags": []
   },
   "outputs": [],
   "source": [
    "await salobj.set_summary_state(latiss.rem.atcamera, salobj.State.STANDBY)"
   ]
  },
  {
   "cell_type": "code",
   "execution_count": null,
   "id": "b255cf42-0d89-4de9-ba51-debe4ff32ca5",
   "metadata": {
    "tags": []
   },
   "outputs": [],
   "source": [
    "await salobj.set_summary_state(latiss.rem.atcamera, salobj.State.ENABLED)"
   ]
  },
  {
   "cell_type": "markdown",
   "id": "555017ce-70b9-4452-ac33-bad347d263d8",
   "metadata": {},
   "source": [
    "## ATCS CSCs failed to transition to ENABLED state. "
   ]
  },
  {
   "cell_type": "markdown",
   "id": "879c2bff-8434-4fbf-b0be-d1c202d29659",
   "metadata": {},
   "source": [
    "### ATHexapod "
   ]
  },
  {
   "cell_type": "code",
   "execution_count": null,
   "id": "3640d622-8a81-4aac-9779-0ae167b01404",
   "metadata": {
    "tags": []
   },
   "outputs": [],
   "source": [
    "tmp=await atcs.rem.athexapod.cmd_start.set_start(timeout=10)\n",
    "print(tmp)"
   ]
  },
  {
   "cell_type": "code",
   "execution_count": null,
   "id": "9eba1435-7d92-422e-9c33-1ae4fe8edfb1",
   "metadata": {
    "tags": []
   },
   "outputs": [],
   "source": [
    "await salobj.set_summary_state(atcs.rem.athexapod, salobj.State.ENABLED)"
   ]
  },
  {
   "cell_type": "markdown",
   "id": "6c72cd53-fe30-491b-8033-3b37d2c71bfd",
   "metadata": {},
   "source": [
    "### ATPneumatics"
   ]
  },
  {
   "cell_type": "code",
   "execution_count": null,
   "id": "9832da12-1188-4a7d-a283-f758ee8a3098",
   "metadata": {
    "tags": []
   },
   "outputs": [],
   "source": [
    "tmp=await atcs.rem.atpneumatics.cmd_start.set_start(timeout=10)\n",
    "print(tmp)"
   ]
  },
  {
   "cell_type": "code",
   "execution_count": null,
   "id": "b3979e9d-30f6-44f1-8d8f-9725aa645167",
   "metadata": {
    "tags": []
   },
   "outputs": [],
   "source": [
    "await salobj.set_summary_state(atcs.rem.atpneumatics, salobj.State.ENABLED)"
   ]
  },
  {
   "cell_type": "markdown",
   "id": "06ff0cce-8c35-4a8e-a35d-f162e53e0f2a",
   "metadata": {},
   "source": [
    "### ATPtg "
   ]
  },
  {
   "cell_type": "code",
   "execution_count": null,
   "id": "9049a9fe-0b39-4b77-a9e3-683f7a06a037",
   "metadata": {
    "tags": []
   },
   "outputs": [],
   "source": [
    "tmp=await atcs.rem.atptg.cmd_start.set_start(timeout=10)\n",
    "print(tmp)"
   ]
  },
  {
   "cell_type": "code",
   "execution_count": null,
   "id": "7da2c93c-dd9e-44ee-b261-fe9362aab128",
   "metadata": {
    "tags": []
   },
   "outputs": [],
   "source": [
    "await salobj.set_summary_state(atcs.rem.atptg, salobj.State.STANDBY)"
   ]
  },
  {
   "cell_type": "code",
   "execution_count": null,
   "id": "712b2813-5454-4e10-b4dd-cdc6531b5be2",
   "metadata": {
    "tags": []
   },
   "outputs": [],
   "source": [
    "await salobj.set_summary_state(atcs.rem.atptg, salobj.State.ENABLED)"
   ]
  },
  {
   "cell_type": "code",
   "execution_count": null,
   "id": "c0950b3c-0941-49dc-918f-4f52c8431d5c",
   "metadata": {},
   "outputs": [],
   "source": []
  }
 ],
 "metadata": {
  "kernelspec": {
   "display_name": "LSST",
   "language": "python",
   "name": "lsst"
  },
  "language_info": {
   "codemirror_mode": {
    "name": "ipython",
    "version": 3
   },
   "file_extension": ".py",
   "mimetype": "text/x-python",
   "name": "python",
   "nbconvert_exporter": "python",
   "pygments_lexer": "ipython3",
   "version": "3.10.6"
  }
 },
 "nbformat": 4,
 "nbformat_minor": 5
}
