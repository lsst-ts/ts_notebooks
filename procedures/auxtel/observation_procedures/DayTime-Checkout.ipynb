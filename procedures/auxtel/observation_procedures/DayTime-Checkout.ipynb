{
 "cells": [
  {
   "cell_type": "markdown",
   "id": "3dbf3c0c",
   "metadata": {},
   "source": [
    "# End-of-Day Checkout\n",
    "\n",
    "This notebook is intended to run a series of tests to ensure the system responds as expected.\n",
    "It begins with LATISS, but can also be used with the telescope components only"
   ]
  },
  {
   "cell_type": "code",
   "execution_count": null,
   "id": "b9b61b70",
   "metadata": {},
   "outputs": [],
   "source": [
    "import asyncio\n",
    "import time\n",
    "import os\n",
    "import numpy as np\n",
    "import logging\n",
    "\n",
    "from lsst.ts import salobj\n",
    "\n",
    "from lsst.ts.observatory.control.auxtel.atcs import ATCS\n",
    "from lsst.ts.observatory.control.auxtel.latiss import LATISS\n",
    "from lsst.ts.observatory.control.utils import RotType\n",
    "\n",
    "from lsst.ts.observing.utilities.decorated_logger import DecoratedLogger"
   ]
  },
  {
   "cell_type": "code",
   "execution_count": null,
   "id": "0755fd07",
   "metadata": {},
   "outputs": [],
   "source": [
    "logger = DecoratedLogger.get_decorated_logger()\n",
    "logger.level = logging.DEBUG"
   ]
  },
  {
   "cell_type": "code",
   "execution_count": null,
   "id": "e80647f9",
   "metadata": {},
   "outputs": [],
   "source": [
    "logger.info(os.environ[\"OSPL_URI\"])\n",
    "logger.info(os.environ[\"LSST_DDS_PARTITION_PREFIX\"])"
   ]
  },
  {
   "cell_type": "markdown",
   "id": "a9cd22ea",
   "metadata": {},
   "source": [
    "### Instantiate the control classes"
   ]
  },
  {
   "cell_type": "code",
   "execution_count": null,
   "id": "f651e5d9",
   "metadata": {
    "tags": []
   },
   "outputs": [],
   "source": [
    "domain = salobj.Domain()\n",
    "atcs = ATCS(domain)\n",
    "latiss = LATISS(domain)\n",
    "await asyncio.gather(atcs.start_task, latiss.start_task)"
   ]
  },
  {
   "cell_type": "markdown",
   "id": "23e76b2b",
   "metadata": {},
   "source": [
    "## Indicate if LATISS is part of the checkout"
   ]
  },
  {
   "cell_type": "code",
   "execution_count": null,
   "id": "1b482bc2",
   "metadata": {},
   "outputs": [],
   "source": [
    "with_latiss=True"
   ]
  },
  {
   "cell_type": "markdown",
   "id": "50d3b4be",
   "metadata": {},
   "source": [
    "### Enable LATISS"
   ]
  },
  {
   "cell_type": "code",
   "execution_count": null,
   "id": "648c860e-ece7-4a60-9c99-226ade354380",
   "metadata": {},
   "outputs": [],
   "source": [
    "# I needed to do this because ATSpectrograph was in FAULT\n",
    "await salobj.set_summary_state(latiss.rem.atspectrograph, salobj.State.STANDBY)"
   ]
  },
  {
   "cell_type": "code",
   "execution_count": null,
   "id": "ab6d900c",
   "metadata": {
    "tags": []
   },
   "outputs": [],
   "source": [
    "if with_latiss:\n",
    "    await latiss.enable()"
   ]
  },
  {
   "cell_type": "markdown",
   "id": "014ff42a-1d20-4a15-a145-3a59306459e2",
   "metadata": {},
   "source": [
    "### If the camera and/or archiver don't come up, the commands below should bring them up."
   ]
  },
  {
   "cell_type": "code",
   "execution_count": null,
   "id": "36387d0e-d027-4872-a313-c3bccf63af35",
   "metadata": {},
   "outputs": [],
   "source": [
    "# ATCamera didn't come up\n",
    "tmp=await latiss.rem.atcamera.cmd_start.set_start(timeout=10)\n",
    "print(tmp)"
   ]
  },
  {
   "cell_type": "code",
   "execution_count": null,
   "id": "34ce130f-e542-4d19-9aea-55aa04f929d6",
   "metadata": {
    "tags": []
   },
   "outputs": [],
   "source": [
    "await salobj.set_summary_state(latiss.rem.atcamera, salobj.State.ENABLED)"
   ]
  },
  {
   "cell_type": "code",
   "execution_count": null,
   "id": "398422df-64ad-4da9-80c5-df4e02626141",
   "metadata": {},
   "outputs": [],
   "source": [
    "# ATArchiver also didn't come up\n",
    "tmp=await latiss.rem.atarchiver.cmd_start.set_start()\n",
    "print(tmp)"
   ]
  },
  {
   "cell_type": "code",
   "execution_count": null,
   "id": "728bcdae-3e1e-4651-9519-50ec1fde129b",
   "metadata": {
    "tags": []
   },
   "outputs": [],
   "source": [
    "await salobj.set_summary_state(latiss.rem.atarchiver, salobj.State.STANDBY)"
   ]
  },
  {
   "cell_type": "code",
   "execution_count": null,
   "id": "0b014428-5475-4530-8c42-2b969c315bf6",
   "metadata": {},
   "outputs": [],
   "source": [
    "# All up now"
   ]
  },
  {
   "cell_type": "markdown",
   "id": "a85209e7",
   "metadata": {},
   "source": [
    "## LATISS image and ingestion verification\n",
    "\n",
    "### Bias verification"
   ]
  },
  {
   "cell_type": "code",
   "execution_count": null,
   "id": "034decba",
   "metadata": {
    "tags": []
   },
   "outputs": [],
   "source": [
    "if with_latiss:\n",
    "    latiss.rem.atarchiver.evt_imageInOODS.flush()\n",
    "    await latiss.take_bias(nbias=1)\n",
    "    ingest_event = await latiss.rem.atarchiver.evt_imageInOODS.next(flush=False, timeout=10)\n",
    "    logging.info(ingest_event)\n",
    "    assert ingest_event.statusCode == 0, 'Ingestion was not successful!'"
   ]
  },
  {
   "cell_type": "markdown",
   "id": "f32825fe",
   "metadata": {},
   "source": [
    "Check that the bias pops up in the monitor (https://roundtable.lsst.codes/rubintv/monitor_current)\n",
    "If it fails, let Patrick or Merlin know\n",
    "\n",
    "You can check that it ingested at NCSA with this link:\n",
    "This might take a few minutes.\n",
    "\n",
    "https://lsst-sandbox.ncsa.illinois.edu/transfer-ingest-monitor/"
   ]
  },
  {
   "cell_type": "markdown",
   "id": "18af4378",
   "metadata": {},
   "source": [
    "### Engineering test frame verification\n",
    "This is analogous to a science frame"
   ]
  },
  {
   "cell_type": "code",
   "execution_count": null,
   "id": "415322c5",
   "metadata": {
    "tags": []
   },
   "outputs": [],
   "source": [
    "if with_latiss:\n",
    "    latiss.rem.atarchiver.evt_imageInOODS.flush()\n",
    "    await latiss.take_engtest(2, filter='SDSSg',grating=3)\n",
    "    ingest_event = await latiss.rem.atarchiver.evt_imageInOODS.next(flush=False, timeout=10)\n",
    "    logging.info(ingest_event)\n",
    "    assert ingest_event.statusCode == 0, 'Ingestion was not successful!'"
   ]
  },
  {
   "cell_type": "markdown",
   "id": "6da39a4b",
   "metadata": {},
   "source": [
    "### Enable ATCS"
   ]
  },
  {
   "cell_type": "code",
   "execution_count": null,
   "id": "b8820a7f",
   "metadata": {
    "tags": []
   },
   "outputs": [],
   "source": [
    "await atcs.enable({\"atdome\": \"current\", \"ataos\": \"current\", \"athexapod\": \"current\"})"
   ]
  },
  {
   "cell_type": "markdown",
   "id": "f2c90358",
   "metadata": {},
   "source": [
    "## Pneumatics Functionality Verification"
   ]
  },
  {
   "cell_type": "markdown",
   "id": "34fec12f",
   "metadata": {},
   "source": [
    "Make sure valves are open"
   ]
  },
  {
   "cell_type": "code",
   "execution_count": null,
   "id": "39e586cb",
   "metadata": {},
   "outputs": [],
   "source": [
    "await atcs.open_valves()\n",
    "pressure = await atcs.rem.atpneumatics.tel_mainAirSourcePressure.next(flush=True, timeout=5)\n",
    "if pressure.pressure > 300000:\n",
    "    logging.info(f'Air pressure is {pressure.pressure:0.0f} Pascals, which is fine.')\n",
    "else:\n",
    "    raise AssertionError(f'Air pressure is {pressure.pressure}, which is too low. It needs to be between ~275790 and ~413000 Pascals (40 and 60 PSI). \\n Check that compressor and dryer is running. Then check that the regulator inside the pier is set correctly. ')"
   ]
  },
  {
   "cell_type": "markdown",
   "id": "fe8a839f",
   "metadata": {},
   "source": [
    "Turn on ATAOS correction(s), without spectrograph (if the tests were skipped above).<br>\n",
    "Note there is a race condition in the ATPneumatics that might result in this failing, so you'll have to run in twice"
   ]
  },
  {
   "cell_type": "code",
   "execution_count": null,
   "id": "81d8e8f7",
   "metadata": {},
   "outputs": [],
   "source": [
    "await atcs.rem.ataos.cmd_enableCorrection.set_start(m1=True, hexapod=True, atspectrograph=with_latiss)"
   ]
  },
  {
   "cell_type": "code",
   "execution_count": null,
   "id": "81b3f544",
   "metadata": {},
   "outputs": [],
   "source": [
    "pressure = await atcs.rem.atpneumatics.tel_m1AirPressure.aget(timeout=5)\n",
    "logging.info(pressure)"
   ]
  },
  {
   "cell_type": "markdown",
   "id": "963fda08",
   "metadata": {},
   "source": [
    "Turn off ATAOS correction(s), without spectrograph (if the tests were skipped above)"
   ]
  },
  {
   "cell_type": "code",
   "execution_count": null,
   "id": "c4d7b436",
   "metadata": {},
   "outputs": [],
   "source": [
    "await atcs.rem.ataos.cmd_disableCorrection.set_start(m1=True, hexapod=True, atspectrograph=with_latiss)"
   ]
  },
  {
   "cell_type": "markdown",
   "id": "4b478432",
   "metadata": {},
   "source": [
    "lower mirror back on hardpoints"
   ]
  },
  {
   "cell_type": "code",
   "execution_count": null,
   "id": "6813e58c",
   "metadata": {},
   "outputs": [],
   "source": [
    "await atcs.rem.atpneumatics.cmd_m1SetPressure.set_start(pressure=0)"
   ]
  },
  {
   "cell_type": "markdown",
   "id": "336b109b",
   "metadata": {},
   "source": [
    "Turn on ATAOS correction(s), without spectrograph (if the tests were skipped above). <br>\n",
    "This should not ever fail."
   ]
  },
  {
   "cell_type": "code",
   "execution_count": null,
   "id": "c170ff2b",
   "metadata": {},
   "outputs": [],
   "source": [
    "tmp = await atcs.rem.ataos.cmd_enableCorrection.set_start(m1=True, hexapod=True, atspectrograph=with_latiss)"
   ]
  },
  {
   "cell_type": "markdown",
   "id": "294e5f91",
   "metadata": {},
   "source": [
    "## Start Telescope testing"
   ]
  },
  {
   "cell_type": "markdown",
   "id": "a0631baa",
   "metadata": {},
   "source": [
    "Turn off dome following"
   ]
  },
  {
   "cell_type": "code",
   "execution_count": null,
   "id": "7761429f",
   "metadata": {},
   "outputs": [],
   "source": [
    "await atcs.disable_dome_following()"
   ]
  },
  {
   "cell_type": "markdown",
   "id": "56aa867e",
   "metadata": {},
   "source": [
    "### Test Point AzEl"
   ]
  },
  {
   "cell_type": "code",
   "execution_count": null,
   "id": "0f056863",
   "metadata": {
    "tags": []
   },
   "outputs": [],
   "source": [
    "start_az=0.0\n",
    "start_el=80.0\n",
    "start_rot=0\n",
    "await atcs.point_azel(az=start_az, el=start_el, rot_tel=start_rot)"
   ]
  },
  {
   "cell_type": "code",
   "execution_count": null,
   "id": "3ea5225b",
   "metadata": {},
   "outputs": [],
   "source": [
    "# Stop tracking\n",
    "tmp=await atcs.stop_tracking()\n",
    "logging.info(tmp)"
   ]
  },
  {
   "cell_type": "markdown",
   "id": "1f48857b",
   "metadata": {},
   "source": [
    "### Test Sidereal tracking\n",
    "but do so starting from the same position"
   ]
  },
  {
   "cell_type": "code",
   "execution_count": null,
   "id": "1e004cec",
   "metadata": {
    "tags": []
   },
   "outputs": [],
   "source": [
    "coord=atcs.radec_from_azel(az=start_az+2, el=start_el)\n",
    "await atcs.slew_icrs(coord.ra, coord.dec, rot=start_rot, stop_before_slew=False)"
   ]
  },
  {
   "cell_type": "code",
   "execution_count": null,
   "id": "c61f18de",
   "metadata": {},
   "outputs": [],
   "source": []
  },
  {
   "cell_type": "code",
   "execution_count": null,
   "id": "13cb5e79",
   "metadata": {},
   "outputs": [],
   "source": [
    "# Stop tracking\n",
    "await atcs.stop_tracking()"
   ]
  },
  {
   "cell_type": "markdown",
   "id": "592276fa",
   "metadata": {},
   "source": [
    "## Verify dome functions"
   ]
  },
  {
   "cell_type": "code",
   "execution_count": null,
   "id": "09fa95bb",
   "metadata": {},
   "outputs": [],
   "source": [
    "# Check that dome moves\n",
    "dome_az = await atcs.rem.atdome.tel_position.next(flush=True,timeout=10)\n",
    "logging.info(f'Dome currently thinks it is at an azimuth position of {dome_az.azimuthPosition}.\\n Note the dome may not be properly homed at this time')\n",
    "d_az=15\n",
    "await atcs.rem.atdome.cmd_moveAzimuth.set_start(azimuth=dome_az.azimuthPosition+d_az)"
   ]
  },
  {
   "cell_type": "markdown",
   "id": "a75cb281",
   "metadata": {},
   "source": [
    "Setup telescope to run the \"prepare for flats\" script so it maximizes the internal functionality of the script"
   ]
  },
  {
   "cell_type": "code",
   "execution_count": null,
   "id": "88c542db",
   "metadata": {},
   "outputs": [],
   "source": [
    "# Turn off ATAOS correction(s)\n",
    "tmp = await atcs.rem.ataos.cmd_disableCorrection.set_start(m1=True, hexapod=True, atspectrograph=with_latiss)\n",
    "# put mirror back on the hardpoints\n",
    "pressure = await atcs.rem.atpneumatics.tel_m1AirPressure.aget(timeout=5)\n",
    "logging.info(pressure)"
   ]
  },
  {
   "cell_type": "code",
   "execution_count": null,
   "id": "d4f68b75",
   "metadata": {},
   "outputs": [],
   "source": [
    "# shut off the valves so we can test the pneumatics\n",
    "await atcs.rem.atpneumatics.cmd_closeMasterAirSupply.start()\n",
    "await atcs.rem.atpneumatics.cmd_closeInstrumentAirValve.start()"
   ]
  },
  {
   "cell_type": "code",
   "execution_count": null,
   "id": "47583b32",
   "metadata": {
    "tags": []
   },
   "outputs": [],
   "source": [
    "# Open mirror covers and vents\n",
    "# Note that there is currently a race conditions that might make this fail in the first attempt\n",
    "await atcs.open_m1_cover()\n",
    "await atcs.open_m1_vent()"
   ]
  },
  {
   "cell_type": "code",
   "execution_count": null,
   "id": "0ade8e23",
   "metadata": {
    "tags": []
   },
   "outputs": [],
   "source": [
    "# Close mirror covers and vents\n",
    "await atcs.close_m1_cover()\n",
    "await atcs.close_m1_vent()"
   ]
  },
  {
   "cell_type": "markdown",
   "id": "91df4b4a",
   "metadata": {},
   "source": [
    "## Run prepare_for_flats\n",
    "First we home the dome to make sure it knows where it is."
   ]
  },
  {
   "cell_type": "code",
   "execution_count": null,
   "id": "cfb0758b-8e92-4794-981b-045d266f58f2",
   "metadata": {
    "tags": []
   },
   "outputs": [],
   "source": [
    "await atcs.home_dome()"
   ]
  },
  {
   "cell_type": "code",
   "execution_count": null,
   "id": "7c77e81f",
   "metadata": {
    "tags": []
   },
   "outputs": [],
   "source": [
    "await atcs.prepare_for_flatfield()"
   ]
  },
  {
   "cell_type": "markdown",
   "id": "2bdfd62d",
   "metadata": {},
   "source": [
    "## Perform slew of Full Observatory\n",
    "This will also take test images"
   ]
  },
  {
   "cell_type": "markdown",
   "id": "b5bc6aa2",
   "metadata": {},
   "source": [
    "Now close the mirror cover just to keep things safe - this will move the telescope to a higher position (El~70)"
   ]
  },
  {
   "cell_type": "code",
   "execution_count": null,
   "id": "6d44a40a",
   "metadata": {},
   "outputs": [],
   "source": [
    "await atcs.close_m1_cover()\n",
    "await atcs.close_m1_vent()"
   ]
  },
  {
   "cell_type": "markdown",
   "id": "434e8cef",
   "metadata": {},
   "source": [
    "Turn on dome following which will align the dome with the telescope"
   ]
  },
  {
   "cell_type": "code",
   "execution_count": null,
   "id": "32c92859",
   "metadata": {},
   "outputs": [],
   "source": [
    "await atcs.enable_dome_following()"
   ]
  },
  {
   "cell_type": "markdown",
   "id": "74bd7c7b",
   "metadata": {},
   "source": [
    "Turn on ATAOS correction(s), without spectrograph (if the tests were skipped above). <br>\n",
    "Note there is a race condition in the ATPneumatics that might result in this failing. <br>\n",
    "If it fails, you'll have to run in twice"
   ]
  },
  {
   "cell_type": "code",
   "execution_count": null,
   "id": "bd858bbd",
   "metadata": {},
   "outputs": [],
   "source": [
    "tmp = await atcs.rem.ataos.cmd_enableCorrection.set_start(m1=True, hexapod=True, atspectrograph=with_latiss)"
   ]
  },
  {
   "cell_type": "markdown",
   "id": "f827e464",
   "metadata": {},
   "source": [
    "Now start tracking a siderial target, but starting from the same position. <br>\n",
    "Then take a test image engineering test frame (analogous to a science frame) and make sure it lands"
   ]
  },
  {
   "cell_type": "code",
   "execution_count": null,
   "id": "77c7ed22",
   "metadata": {},
   "outputs": [],
   "source": [
    "start_az=205-30\n",
    "start_el=70-10\n",
    "start_rot=0\n",
    "coord=atcs.radec_from_azel(az=start_az, el=start_el)\n",
    "await atcs.slew_icrs(coord.ra, coord.dec, rot=start_rot, stop_before_slew=False)"
   ]
  },
  {
   "cell_type": "code",
   "execution_count": null,
   "id": "7e397391",
   "metadata": {},
   "outputs": [],
   "source": [
    "if with_latiss:\n",
    "    latiss.rem.atarchiver.evt_imageInOODS.flush()\n",
    "    await latiss.take_engtest(2, filter=3, grating=3)\n",
    "    ingest_event = await latiss.rem.atarchiver.evt_imageInOODS.next(flush=False, timeout=10)\n",
    "    logging.info(ingest_event)\n",
    "    assert ingest_event.statusCode == 0, 'Ingestion was not successful!'"
   ]
  },
  {
   "cell_type": "markdown",
   "id": "382d7995",
   "metadata": {},
   "source": [
    "Pause here and let it track for at least a couple minutes"
   ]
  },
  {
   "cell_type": "markdown",
   "id": "1ca821a3",
   "metadata": {},
   "source": [
    "### Slew to target #2\n",
    "Then take an image with a different spectrograph setup."
   ]
  },
  {
   "cell_type": "code",
   "execution_count": null,
   "id": "41bedda3",
   "metadata": {},
   "outputs": [],
   "source": [
    "start_az=205-15\n",
    "start_el=70-5\n",
    "start_rot=0\n",
    "coord=atcs.radec_from_azel(az=start_az, el=start_el)\n",
    "await atcs.slew_icrs(coord.ra, coord.dec, rot=start_rot, stop_before_slew=False)"
   ]
  },
  {
   "cell_type": "code",
   "execution_count": null,
   "id": "2b28329f",
   "metadata": {},
   "outputs": [],
   "source": [
    "if with_latiss:\n",
    "    latiss.rem.atarchiver.evt_imageInOODS.flush()\n",
    "    await latiss.take_engtest(2, filter=0, grating=0)\n",
    "    ingest_event = await latiss.rem.atarchiver.evt_imageInOODS.next(flush=False, timeout=10)\n",
    "    logging.info(ingest_event)\n",
    "    assert ingest_event.statusCode == 0, 'Ingestion was not successful!'"
   ]
  },
  {
   "cell_type": "markdown",
   "id": "a435880e",
   "metadata": {},
   "source": [
    "## Shutdown all ATCS components"
   ]
  },
  {
   "cell_type": "code",
   "execution_count": null,
   "id": "723d22b0",
   "metadata": {},
   "outputs": [],
   "source": [
    "await atcs.shutdown()"
   ]
  },
  {
   "cell_type": "markdown",
   "id": "621b5407",
   "metadata": {},
   "source": [
    "## Put LATISS in standby"
   ]
  },
  {
   "cell_type": "code",
   "execution_count": null,
   "id": "80517626",
   "metadata": {},
   "outputs": [],
   "source": [
    "await latiss.standby()"
   ]
  },
  {
   "cell_type": "code",
   "execution_count": null,
   "id": "ac5d9640-0cd0-42a0-8edb-f1dac6229780",
   "metadata": {},
   "outputs": [],
   "source": []
  }
 ],
 "metadata": {
  "kernelspec": {
   "display_name": "LSST",
   "language": "python",
   "name": "lsst"
  },
  "language_info": {
   "codemirror_mode": {
    "name": "ipython",
    "version": 3
   },
   "file_extension": ".py",
   "mimetype": "text/x-python",
   "name": "python",
   "nbconvert_exporter": "python",
   "pygments_lexer": "ipython3",
   "version": "3.8.12"
  }
 },
 "nbformat": 4,
 "nbformat_minor": 5
}
