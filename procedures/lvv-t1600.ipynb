{
 "cells": [
  {
   "cell_type": "markdown",
   "metadata": {},
   "source": [
    "# Test Case LVV-T1600\n",
    "This case will verify that the integration of the Camera Hexapod with SAL.\n",
    "The blocks below represent the steps of the test case.\n",
    "\n",
    "Requirements\n",
    "* EFD\n",
    "* Hexapod(s)powered on\n",
    "* Thermal sensors attached to the six actuators of the hexapod.\n",
    "* CSC running\n",
    "* KAFKA producer running\n",
    "\n",
    "This test will require manual verification of certain events and telemetry in the summit EFD.\n",
    "Also manual verification of appropriate temperatures for each actuator."
   ]
  },
  {
   "cell_type": "code",
   "execution_count": 2,
   "metadata": {},
   "outputs": [
    {
     "ename": "ModuleNotFoundError",
     "evalue": "No module named 'hexaTools'",
     "output_type": "error",
     "traceback": [
      "\u001b[0;31m---------------------------------------------------------------------------\u001b[0m",
      "\u001b[0;31mModuleNotFoundError\u001b[0m                       Traceback (most recent call last)",
      "\u001b[0;32m<ipython-input-2-5fe47c5e8115>\u001b[0m in \u001b[0;36m<module>\u001b[0;34m\u001b[0m\n\u001b[1;32m     23\u001b[0m \u001b[0;32mfrom\u001b[0m \u001b[0mlsst\u001b[0m\u001b[0;34m.\u001b[0m\u001b[0mts\u001b[0m\u001b[0;34m.\u001b[0m\u001b[0midl\u001b[0m\u001b[0;34m.\u001b[0m\u001b[0menums\u001b[0m \u001b[0;32mimport\u001b[0m \u001b[0mATPtg\u001b[0m\u001b[0;34m\u001b[0m\u001b[0;34m\u001b[0m\u001b[0m\n\u001b[1;32m     24\u001b[0m \u001b[0;34m\u001b[0m\u001b[0m\n\u001b[0;32m---> 25\u001b[0;31m \u001b[0;32mfrom\u001b[0m \u001b[0mhexaTools\u001b[0m \u001b[0;32mimport\u001b[0m \u001b[0;34m*\u001b[0m\u001b[0;34m\u001b[0m\u001b[0;34m\u001b[0m\u001b[0m\n\u001b[0m",
      "\u001b[0;31mModuleNotFoundError\u001b[0m: No module named 'hexaTools'"
     ]
    }
   ],
   "source": [
    "from lsst.ts import salobj\n",
    "from lsst.ts.idl.enums import MTHexapod\n",
    "import logging\n",
    "import asyncio\n",
    "import os\n",
    "import yaml\n",
    "\n",
    "import numpy as np\n",
    "from matplotlib import pyplot as plt\n",
    "from astropy.time import Time\n",
    "from datetime import datetime, timedelta\n",
    "import pandas as pd\n",
    "import astropy.units as u\n",
    "\n",
    "from astropy.coordinates import AltAz, ICRS, EarthLocation, Angle, FK5\n",
    "\n",
    "from lsst_efd_client import EfdClient\n",
    "\n",
    "#from lsst.ts.idl.enums.MTHexapod import ApplicationStatus\n",
    "from lsst.ts.idl.enums.MTRotator import ApplicationStatus\n",
    "\n",
    "#Auxillary telescope pointing component\n",
    "from lsst.ts.idl.enums import ATPtg\n",
    "\n",
    "from hexaTools import *"
   ]
  },
  {
   "cell_type": "code",
   "execution_count": null,
   "metadata": {},
   "outputs": [],
   "source": [
    "print(os.environ[\"OSPL_URI\"])\n",
    "print(os.environ[\"LSST_DDS_PARTITION_PREFIX\"])"
   ]
  },
  {
   "cell_type": "code",
   "execution_count": null,
   "metadata": {},
   "outputs": [],
   "source": [
    "#This step should fail at NCSA since there is only one domain\n",
    "print(os.environ[\"LSST_DDS_DOMAIN_ID\"])"
   ]
  },
  {
   "cell_type": "code",
   "execution_count": null,
   "metadata": {},
   "outputs": [],
   "source": [
    "print(os.environ[\"LSST_DDS_INTERFACE\"])"
   ]
  },
  {
   "cell_type": "markdown",
   "metadata": {},
   "source": [
    "The following block sets the necessary environment variables for setting up the DDS/SAL communication"
   ]
  },
  {
   "cell_type": "code",
   "execution_count": null,
   "metadata": {},
   "outputs": [],
   "source": [
    "#Wait for history data [sec] default value is 60\n",
    "#os.environ[\"LSST_DDS_DOMAIN\"] = 'citest'\n",
    "#os.environ[\"LSST_DDS_HISTORYSYNC\"] = \"10\""
   ]
  },
  {
   "cell_type": "code",
   "execution_count": null,
   "metadata": {},
   "outputs": [],
   "source": [
    "STD_WAIT = 39 # This is the amount of time to wait in between a move just to make sure that the actuators are not overheating"
   ]
  },
  {
   "cell_type": "code",
   "execution_count": null,
   "metadata": {},
   "outputs": [],
   "source": [
    "#STD_WAIT = 70 # This is the amount of time to wait in between long moves just to make sure that the actuators are not overheating"
   ]
  },
  {
   "cell_type": "code",
   "execution_count": null,
   "metadata": {},
   "outputs": [],
   "source": [
    "#STD_WAIT = 120 # This is the amount of time to wait in between very long moves to make sure that the actuators are not overheating"
   ]
  },
  {
   "cell_type": "code",
   "execution_count": null,
   "metadata": {},
   "outputs": [],
   "source": [
    "log = logging.getLogger(__name__) # This sets up the logger for the test.\n",
    "#logging.setLevel(20)\n",
    "logging.basicConfig(level=logging.INFO)"
   ]
  },
  {
   "cell_type": "code",
   "execution_count": null,
   "metadata": {},
   "outputs": [],
   "source": [
    "start_time = datetime.now()\n",
    "test_message = \"Camera Hexapod Integration Test\"\n",
    "#What means index=1 here?\n",
    "#script = salobj.Controller(\"Script\", index=1)\n",
    "script = salobj.Controller(\"Script\", index=42658886)\n",
    "await asyncio.sleep(10) #wait 10 second may help with DDS problems; closing all other kernels may help too\n",
    "print(f'time to start is {datetime.now() - start_time} [s]')"
   ]
  },
  {
   "cell_type": "code",
   "execution_count": null,
   "metadata": {},
   "outputs": [],
   "source": [
    "await script.start_task"
   ]
  },
  {
   "cell_type": "code",
   "execution_count": null,
   "metadata": {},
   "outputs": [],
   "source": [
    "#Connect to the ESS CSC\n",
    "ess = salobj.Remote(script.domain, \"ESS\")"
   ]
  },
  {
   "cell_type": "code",
   "execution_count": null,
   "metadata": {},
   "outputs": [],
   "source": [
    "await ess.start_task\n",
    "try:\n",
    "    temp = await ess.tel_temperature8Ch.next(flush=True, timeout=5)\n",
    "except asyncio.exceptions.TimeoutError:\n",
    "    print('Are the temperature sensors up??')"
   ]
  },
  {
   "cell_type": "code",
   "execution_count": 4,
   "metadata": {
    "scrolled": true
   },
   "outputs": [
    {
     "name": "stdout",
     "output_type": "stream",
     "text": [
      "Code:20 ApplicationStatus.16|EUI_CONNECTED\n",
      "Code:512 ApplicationStatus.ETHERCAT_PROBLEM\n",
      "Code:4100 ApplicationStatus.DDS_CONNECTED|EUI_CONNECTED\n",
      "Code:4116 ApplicationStatus.DDS_CONNECTED|16|EUI_CONNECTED\n",
      "Code:4124 ApplicationStatus.DDS_CONNECTED|16|8|EUI_CONNECTED\n",
      "Code:5126 ApplicationStatus.DDS_CONNECTED|DDS_COMMAND_SOURCE|EUI_CONNECTED|2\n",
      "Code:5124 ApplicationStatus.DDS_CONNECTED|DDS_COMMAND_SOURCE|EUI_CONNECTED\n",
      "Code:5140 ApplicationStatus.DDS_CONNECTED|DDS_COMMAND_SOURCE|16|EUI_CONNECTED\n",
      "Code:5142 ApplicationStatus.DDS_CONNECTED|DDS_COMMAND_SOURCE|16|EUI_CONNECTED|2\n",
      "Code:5172 ApplicationStatus.DDS_CONNECTED|DDS_COMMAND_SOURCE|COMMAND_REJECTED|16|EUI_CONNECTED\n",
      "Code:5174 ApplicationStatus.DDS_CONNECTED|DDS_COMMAND_SOURCE|COMMAND_REJECTED|16|EUI_CONNECTED|2\n",
      "Code:20484 ApplicationStatus.SIMULINK_FAULT|DDS_CONNECTED|EUI_CONNECTED\n",
      "Code:20584 ApplicationStatus.SIMULINK_FAULT|DDS_CONNECTED|SAFETY_INTERLOCK|COMMAND_REJECTED|8\n",
      "Code:20580 ApplicationStatus.SIMULINK_FAULT|DDS_CONNECTED|SAFETY_INTERLOCK|COMMAND_REJECTED|EUI_CONNECTED\n",
      "Code:21508 ApplicationStatus.SIMULINK_FAULT|DDS_CONNECTED|DDS_COMMAND_SOURCE|EUI_CONNECTED\n",
      "Code:21516 ApplicationStatus.SIMULINK_FAULT|DDS_CONNECTED|DDS_COMMAND_SOURCE|8|EUI_CONNECTED\n",
      "Code:21524 ApplicationStatus.SIMULINK_FAULT|DDS_CONNECTED|DDS_COMMAND_SOURCE|16|EUI_CONNECTED\n",
      "Code:21540 ApplicationStatus.SIMULINK_FAULT|DDS_CONNECTED|DDS_COMMAND_SOURCE|COMMAND_REJECTED|EUI_CONNECTED\n",
      "Code:21540 ApplicationStatus.SIMULINK_FAULT|DDS_CONNECTED|DDS_COMMAND_SOURCE|COMMAND_REJECTED|EUI_CONNECTED\n",
      "Code:21556 ApplicationStatus.SIMULINK_FAULT|DDS_CONNECTED|DDS_COMMAND_SOURCE|COMMAND_REJECTED|16|EUI_CONNECTED\n",
      "Code:21580 ApplicationStatus.SIMULINK_FAULT|DDS_CONNECTED|DDS_COMMAND_SOURCE|SAFETY_INTERLOCK|8|EUI_CONNECTED\n",
      "Code:29701 ApplicationStatus.SIMULINK_FAULT|DRIVE_FAULT|DDS_CONNECTED|DDS_COMMAND_SOURCE|EUI_CONNECTED|1\n",
      "Code:28676 ApplicationStatus.SIMULINK_FAULT|DRIVE_FAULT|DDS_CONNECTED|EUI_CONNECTED\n",
      "Code:28692 ApplicationStatus.SIMULINK_FAULT|DRIVE_FAULT|DDS_CONNECTED|16|EUI_CONNECTED\n",
      "Code:29700 ApplicationStatus.SIMULINK_FAULT|DRIVE_FAULT|DDS_CONNECTED|DDS_COMMAND_SOURCE|EUI_CONNECTED\n"
     ]
    }
   ],
   "source": [
    "#Status/Error codes seen during the testing (especially during unplugging and re-plugging cables)\n",
    "\n",
    "print(\"Code:20\",ApplicationStatus(20))\n",
    "print(\"Code:512\",ApplicationStatus(512))\n",
    "\n",
    "print(\"Code:4100\",ApplicationStatus(4100))\n",
    "\n",
    "print(\"Code:4116\",ApplicationStatus(4116))\n",
    "print(\"Code:4124\", ApplicationStatus(4124))\n",
    "\n",
    "\n",
    "print(\"Code:5126\",ApplicationStatus(5126))\n",
    "print(\"Code:5124\",ApplicationStatus(5124))\n",
    "\n",
    "print(\"Code:5140\",ApplicationStatus(5140))\n",
    "print(\"Code:5142\",ApplicationStatus(5142))\n",
    "\n",
    "print(\"Code:5172\",ApplicationStatus(5172))\n",
    "print(\"Code:5174\",ApplicationStatus(5174))\n",
    "\n",
    "\n",
    "print(\"Code:20484\",ApplicationStatus(20484))\n",
    "\n",
    "print(\"Code:20580\",ApplicationStatus(20580))\n",
    "print(\"Code:20584\",ApplicationStatus(20584))\n",
    "\n",
    "\n",
    "print(\"Code:21508\",ApplicationStatus(21508))\n",
    "print(\"Code:21516\",ApplicationStatus(21516))\n",
    "\n",
    "print(\"Code:21524\",ApplicationStatus(21524))\n",
    "\n",
    "print(\"Code:21540\",ApplicationStatus(21540))\n",
    "print(\"Code:21556\",ApplicationStatus(21556))\n",
    "print(\"Code:21580\",ApplicationStatus(21580))\n",
    "\n",
    "print(\"Code:29701\",ApplicationStatus(29701))\n",
    "print(\"Code:28676\",ApplicationStatus(28676))\n",
    "print(\"Code:28692\",ApplicationStatus(28692))\n",
    "print(\"Code:29700\",ApplicationStatus(29700))"
   ]
  },
  {
   "cell_type": "markdown",
   "metadata": {},
   "source": [
    "This is how you start the remote for the CSC."
   ]
  },
  {
   "cell_type": "code",
   "execution_count": null,
   "metadata": {
    "scrolled": true
   },
   "outputs": [],
   "source": [
    "# create the remote\n",
    "#index=1 is the camera hexapod!! index=2 is the M2 hexapod!\n",
    "csc_index = 1\n",
    "hexapod_csc = salobj.Remote(name=\"MTHexapod\", domain=script.domain, index=csc_index)"
   ]
  },
  {
   "cell_type": "code",
   "execution_count": null,
   "metadata": {},
   "outputs": [],
   "source": [
    "await hexapod_csc.start_task"
   ]
  },
  {
   "cell_type": "code",
   "execution_count": null,
   "metadata": {},
   "outputs": [],
   "source": [
    "data = hexapod_csc.evt_softwareVersions.get()\n",
    "print(data.cscVersion)"
   ]
  },
  {
   "cell_type": "markdown",
   "metadata": {},
   "source": [
    "This is to verify that the CSC is running"
   ]
  },
  {
   "cell_type": "code",
   "execution_count": null,
   "metadata": {},
   "outputs": [],
   "source": [
    "await hexapod_csc.evt_heartbeat.next(flush=True, timeout=5)"
   ]
  },
  {
   "cell_type": "markdown",
   "metadata": {},
   "source": [
    "General command to transition the CSC and clear errors:"
   ]
  },
  {
   "cell_type": "code",
   "execution_count": null,
   "metadata": {},
   "outputs": [],
   "source": [
    "await salobj.set_summary_state(hexapod_csc, salobj.State.OFFLINE)"
   ]
  },
  {
   "cell_type": "code",
   "execution_count": null,
   "metadata": {},
   "outputs": [],
   "source": [
    "await salobj.set_summary_state(hexapod_csc, salobj.State.STANDBY)"
   ]
  },
  {
   "cell_type": "code",
   "execution_count": null,
   "metadata": {},
   "outputs": [],
   "source": [
    "await salobj.set_summary_state(hexapod_csc, salobj.State.DISABLED)"
   ]
  },
  {
   "cell_type": "code",
   "execution_count": null,
   "metadata": {},
   "outputs": [],
   "source": [
    "#This is to bring the state machine in the right starting state\n",
    "await salobj.set_summary_state(hexapod_csc, salobj.State.ENABLED, settingsToApply=\"default\")"
   ]
  },
  {
   "cell_type": "markdown",
   "metadata": {},
   "source": [
    "The next four blocks bring the CSC to the Enabled state."
   ]
  },
  {
   "cell_type": "code",
   "execution_count": null,
   "metadata": {},
   "outputs": [],
   "source": [
    "await hexapod_csc.cmd_enterControl.set_start(timeout=10.) # Send the enterControl command notice the casing and the set_start method"
   ]
  },
  {
   "cell_type": "code",
   "execution_count": null,
   "metadata": {},
   "outputs": [],
   "source": [
    "await hexapod_csc.cmd_exitControl.set_start(timeout=10.)"
   ]
  },
  {
   "cell_type": "code",
   "execution_count": null,
   "metadata": {
    "scrolled": true
   },
   "outputs": [],
   "source": [
    "await hexapod_csc.cmd_start.set_start(timeout=10.) "
   ]
  },
  {
   "cell_type": "code",
   "execution_count": null,
   "metadata": {},
   "outputs": [],
   "source": [
    "#This need the, settingsToApply=\"default\" for the moment.\n",
    "#await hexapod_csc.cmd_enable.set_start(timeout=10.)"
   ]
  },
  {
   "cell_type": "code",
   "execution_count": null,
   "metadata": {
    "scrolled": true
   },
   "outputs": [],
   "source": [
    "await hexapod_csc.cmd_clearError.set_start(timeout=10.) # This clears the error"
   ]
  },
  {
   "cell_type": "code",
   "execution_count": null,
   "metadata": {},
   "outputs": [],
   "source": [
    "hexapod_csc.cmd_disable.set_start(timeout=10.)"
   ]
  },
  {
   "cell_type": "code",
   "execution_count": null,
   "metadata": {},
   "outputs": [],
   "source": [
    "hexapod_csc.cmd_standby.set_start(timeout=10.)"
   ]
  },
  {
   "cell_type": "code",
   "execution_count": null,
   "metadata": {},
   "outputs": [],
   "source": [
    "hexapod_csc.cmd_setLogLevel.set_start(timeout=10., Level=10)"
   ]
  },
  {
   "cell_type": "code",
   "execution_count": null,
   "metadata": {},
   "outputs": [],
   "source": [
    "#Checking which hexapod we are controlling\n",
    "print(hexapod_csc)\n",
    "whichHex1 = await hexapod_csc.evt_configuration.aget(timeout=10.)\n",
    "print(\"Hexapod hex\", whichHex1.MTHexapodID)\n",
    "print(hexapod_csc.salinfo.index)"
   ]
  },
  {
   "cell_type": "markdown",
   "metadata": {},
   "source": [
    "These blocks can be used to move the hexapod and check the lookup table correction:"
   ]
  },
  {
   "cell_type": "code",
   "execution_count": null,
   "metadata": {},
   "outputs": [],
   "source": [
    "#Check some Hexapod configurations \n",
    "hexConfig = await hexapod_csc.evt_configuration.aget(timeout=10.)\n",
    "print(\"pivot at (%.0f, %.0f, %.0f) microns \"%(hexConfig.pivotX, hexConfig.pivotY, hexConfig.pivotZ))\n",
    "print(\"maxXY = \", hexConfig.maxXY, \"microns, maxZ= \", hexConfig.maxZ, \" microns\")\n",
    "print(\"maxUV = \", hexConfig.maxUV, \"deg, maxW= \", hexConfig.maxW, \" deg\")"
   ]
  },
  {
   "cell_type": "code",
   "execution_count": null,
   "metadata": {},
   "outputs": [],
   "source": [
    "camHexPosition0 = await hexapod_csc.tel_actuators.aget(timeout=10.)\n",
    "print(camHexPosition0)"
   ]
  },
  {
   "cell_type": "code",
   "execution_count": null,
   "metadata": {},
   "outputs": [],
   "source": [
    "print(\"camera Hexapod positions\", camHexPosition0.MTHexapodID,  camHexPosition0.calibrated)"
   ]
  },
  {
   "cell_type": "code",
   "execution_count": null,
   "metadata": {},
   "outputs": [],
   "source": [
    "#This cell makes sure that the data go to EFD\n",
    "#may need to wait a few seconds before event shows up in EFD\n",
    "#client = EfdClient('ncsa_teststand_efd')\n",
    "client = EfdClient('summit_efd')"
   ]
  },
  {
   "cell_type": "code",
   "execution_count": null,
   "metadata": {},
   "outputs": [],
   "source": [
    "end = Time(datetime.now())\n",
    "start = end - timedelta(hours=3)\n",
    "dfe = await client.select_time_series('lsst.sal.MTHexapod.logevent_summaryState', '*', start.tai, end.tai, csc_index)"
   ]
  },
  {
   "cell_type": "code",
   "execution_count": null,
   "metadata": {
    "scrolled": true
   },
   "outputs": [],
   "source": [
    "dfe"
   ]
  },
  {
   "cell_type": "code",
   "execution_count": null,
   "metadata": {},
   "outputs": [],
   "source": [
    "def enabled_substate_callback(evt):\n",
    "    \"\"\"Print the enabled substate when event is received.\"\"\"\n",
    "    print(MTHexapod.EnabledSubstate(evt.enabledSubstate))"
   ]
  },
  {
   "cell_type": "code",
   "execution_count": null,
   "metadata": {},
   "outputs": [],
   "source": [
    "def in_position_callback(evt):\n",
    "    \"\"\"Print the in position event when it is received.\"\"\"\n",
    "    print(evt.in_position)"
   ]
  },
  {
   "cell_type": "markdown",
   "metadata": {},
   "source": [
    "This next block will make sure that the CSC is ready for the test"
   ]
  },
  {
   "cell_type": "code",
   "execution_count": null,
   "metadata": {},
   "outputs": [],
   "source": [
    "connected = await hexapod_csc.evt_connected.aget(timeout=10.) # This is how you get an event/telemetry with await remote.type_name.aget() type being [evt,tel] and name being the name of the topic\n",
    "#commandable = connected.command\n",
    "telemetry_working = connected.telemetry\n",
    "\n",
    "if not connected or not telemetry_working:\n",
    "    raise Exception(\"Hexapod not connected or telemetry not being received.\") "
   ]
  },
  {
   "cell_type": "code",
   "execution_count": null,
   "metadata": {},
   "outputs": [],
   "source": [
    "controller_state = await hexapod_csc.evt_controllerState.aget(timeout=10.)\n",
    "state = controller_state.controllerState\n",
    "offline_substate = controller_state.offlineSubstate\n",
    "print(state)\n",
    "#This is only for the real system. The simulater only has the AVAILABLE offline state \n",
    "\n",
    "'''  \n",
    "if not state == salobj.State.OFFLINE and not offline_substate == MTHexapod.OfflineSubstate.AVAILABLE:\n",
    "    raise Exception(\"Controller must be changed to Available Offline Substate.\")\n",
    "'''\n",
    "commandable_by_dds = await hexapod_csc.evt_commandableByDDS.aget()\n",
    "dds_state = commandable_by_dds.state\n",
    "if not dds_state:\n",
    "    raise Exception(\"Controller must in CommandableByDDS state.\")"
   ]
  },
  {
   "cell_type": "markdown",
   "metadata": {},
   "source": [
    "# thermal sensors\n",
    "Check the chronograph manually for the temperature sensors to be below 19C, if not wait until they are all below 19C."
   ]
  },
  {
   "cell_type": "code",
   "execution_count": null,
   "metadata": {
    "scrolled": true
   },
   "outputs": [],
   "source": [
    "dir(temp)"
   ]
  },
  {
   "cell_type": "code",
   "execution_count": null,
   "metadata": {},
   "outputs": [],
   "source": [
    "[getattr(temp,'temperatureC%02d'%i) for i in range(1,8+1)]"
   ]
  },
  {
   "cell_type": "code",
   "execution_count": null,
   "metadata": {},
   "outputs": [],
   "source": [
    "end = Time(datetime.now(), scale='tai')\n",
    "start = end - timedelta(seconds=1000)\n",
    "df = await client.select_time_series('lsst.sal.ESS.temperature8Ch', '*', start, end, csc_index)\n",
    "fig, ax = plt.subplots(1,1, figsize=(15,4))\n",
    "for i in range(1,8+1):\n",
    "    plt.plot(getattr(df, 'temperatureC%02d'%i))\n",
    "plt.grid()"
   ]
  },
  {
   "cell_type": "code",
   "execution_count": null,
   "metadata": {
    "scrolled": true
   },
   "outputs": [],
   "source": [
    "#Command used to stop the hexapod \n",
    "await hexapod_csc.cmd_stop.set_start()"
   ]
  },
  {
   "cell_type": "code",
   "execution_count": null,
   "metadata": {},
   "outputs": [],
   "source": [
    "#Command used to stop the hexapod \n",
    "await hexapod_csc.cmd_abort.set_start()"
   ]
  },
  {
   "cell_type": "markdown",
   "metadata": {},
   "source": [
    "# Test the Stop command\n",
    "This test first move the Hexapod to zero and then allows the reaction to stop command after defined time."
   ]
  },
  {
   "cell_type": "code",
   "execution_count": null,
   "metadata": {},
   "outputs": [],
   "source": [
    "#This command is to set the Hexapod to zero position\n",
    "now = datetime.now()\n",
    "script.log.info(f\"START -- {test_message} -- LVV-T1600 -- Move to xyz 0 -- Starting Time: {now} UTC\")\n",
    "await hexapod_csc.cmd_move.set_start(x=0,y=0,z=0, u=0,v=0,w=0,sync=True)"
   ]
  },
  {
   "cell_type": "code",
   "execution_count": null,
   "metadata": {},
   "outputs": [],
   "source": [
    "# Test that stop interrupts move\n",
    "# Start with the hexapod well away from z=500\n",
    "# The test is a success if the hexapod remains close to its starting point.\n",
    "# Start with delay = 0, then if that works try 0.1\n",
    "# (the larger the delay the more the hexapod will move)\n",
    "delay=0.1\n",
    "await hexapod_csc.cmd_move.set_start(x=0, y=0, z=500, u=0, v=0, w=0,sync=True)\n",
    "await asyncio.sleep(delay)\n",
    "await hexapod_csc.cmd_stop.start()"
   ]
  },
  {
   "cell_type": "code",
   "execution_count": null,
   "metadata": {},
   "outputs": [],
   "source": [
    "# Test that move interrupts move\n",
    "# The test is a success if the hexapod ends up at the final position\n",
    "# Start with delay = 0, then if that works try 0.1\n",
    "# (the larger the delay the more the hexapod will move)\n",
    "delay = 0.0\n",
    "await hexapod_csc.cmd_move.set_start(x=0, y=0, z=450, u=0, v=0, w=0,sync=True)\n",
    "await asyncio.sleep(delay)\n",
    "await hexapod_csc.cmd_move.set_start(x=0, y=0, z=-450, u=0, v=0, w=0,sync=True)\n",
    "await asyncio.sleep(delay)\n",
    "await hexapod_csc.cmd_move.set_start(x=0, y=0, z=550, u=0, v=0, w=0,sync=True)\n",
    "await asyncio.sleep(delay)\n",
    "await hexapod_csc.cmd_move.set_start(x=0, y=0, z=-550, u=0, v=0, w=0,sync=True)"
   ]
  },
  {
   "cell_type": "code",
   "execution_count": null,
   "metadata": {},
   "outputs": [],
   "source": [
    "script.log.info(f\"TEST to see if annotations like this arrive in the EFD.\")"
   ]
  },
  {
   "cell_type": "code",
   "execution_count": null,
   "metadata": {},
   "outputs": [],
   "source": [
    "now = datetime.now()\n",
    "script.log.info(f\"START- {test_message} -- LVV-T1600 -move command test- Starting time: {now} UTC\")\n",
    "\n",
    "pos = await hexapod_csc.tel_application.aget(timeout=10.)\n",
    "print('hex position')\n",
    "for i in range(6):\n",
    "    print('%10.2f '%pos.position[i], end= ' ')\n",
    "print('\\n')"
   ]
  },
  {
   "cell_type": "code",
   "execution_count": null,
   "metadata": {},
   "outputs": [],
   "source": [
    "hexapod_csc.evt_controllerState.callback = enabled_substate_callback                                \n",
    "await hexapod_csc.cmd_move.set_start(x=500,y=-500,z=200, u=0.01,v=-0.015,w=0,sync=True)\n",
    "await asyncio.sleep(15.)\n",
    "pos = await hexapod_csc.tel_application.aget(timeout=10.)\n",
    "print('hex position')\n",
    "for i in range(6):\n",
    "    print('%10.2f '%pos.position[i], end= ' ')\n",
    "print('\\n')\n",
    "now = datetime.now()\n",
    "script.log.info(f\"STOP- {test_message} -- LVV-T1600 -move command test- Finishing time: {now} UTC)"
   ]
  },
  {
   "cell_type": "markdown",
   "metadata": {},
   "source": [
    "###### This command is to set the Hexapod to zero position\n",
    "now = datetime.now()\n",
    "script.log.info(f\"START- {test_message} -- LVV-T1600 -- Move to Zero- Starting time: {now} UTC\")\n",
    "await hexapod_csc.cmd_move.set_start(x=0,y=0,z=0, u=0,v=0,w=0,sync=True)"
   ]
  },
  {
   "cell_type": "code",
   "execution_count": null,
   "metadata": {},
   "outputs": [],
   "source": [
    "await asyncio.sleep(STD_WAIT)"
   ]
  },
  {
   "cell_type": "code",
   "execution_count": null,
   "metadata": {},
   "outputs": [],
   "source": [
    "# thermal sensors\n",
    "end = Time(datetime.now(), scale='tai')\n",
    "start = end - timedelta(seconds=1000)\n",
    "df = await client.select_time_series('lsst.sal.ESS.temperature8Ch', '*', start, end, csc_index)\n",
    "fig, ax = plt.subplots(1,1, figsize=(15,4))\n",
    "for i in range(1,8+1):\n",
    "    plt.plot(getattr(df, 'temperatureC%02d'%i))\n",
    "plt.grid()"
   ]
  },
  {
   "cell_type": "markdown",
   "metadata": {},
   "source": [
    "This block moves the hexapod to a large position but stops it after waiting 3 seconds"
   ]
  },
  {
   "cell_type": "code",
   "execution_count": null,
   "metadata": {},
   "outputs": [],
   "source": [
    "now = datetime.now()\n",
    "script.log.info(f\"START- {test_message} -- LVV-T1600 - stop command test- Starting time: {now} UTC\")\n",
    "\n",
    "pos = await hexapod_csc.tel_application.aget(timeout=10.)\n",
    "print('hex position')\n",
    "for i in range(6):\n",
    "    print('%10.2f '%pos.position[i], end= ' ')\n",
    "print('\\n')"
   ]
  },
  {
   "cell_type": "code",
   "execution_count": null,
   "metadata": {},
   "outputs": [],
   "source": [
    "#Deviation for broken actuator number 6: z direciton changed from 5000 to -5000\n",
    "await hexapod_csc.cmd_move.set_start(x=0,y=0,z=-5000,u=0,v=0,w=0,sync=True)\n",
    "\n",
    "await asyncio.sleep(3)\n",
    "await hexapod_csc.cmd_stop.set_start()\n",
    "\n",
    "await asyncio.sleep(15.)\n",
    "\n",
    "pos = await hexapod_csc.tel_application.aget(timeout=10.)\n",
    "print('hex position')\n",
    "for i in range(6):\n",
    "    print('%10.2f '%pos.position[i], end= ' ')\n",
    "print('\\n')\n",
    "\n",
    "\n",
    "#cs = await hexapod_csc.evt_controllerState.aget()\n",
    "#print(MTHexapod.EnabledSubstate(cs.enabledSubstate))\n",
    "#if cs.enabledSubstate != MTHexapod.EnabledSubstate.CONTROLLED_STOPPING:\n",
    "#     raise Exception(f\"Controller's substate is not {MTHexapod.EnabledSubstate.CONTROLLED_STOPPING}. It is {MTHexapod.EnabledSubstate(cs.enabledSubstate)}\")\n",
    "\n",
    "# cs = await hexapod_csc.evt_controllerSubstate.aget()\n",
    "# print(MTHexapod.EnabledSubstate(cs.enabledSubstate))\n",
    "# if cs.enabledSubstate != MTHexapod.EnabledSubstate.STATIONARY:\n",
    "#     raise Exception(f\"Controller's substate is not {MTHexapod.EnabledSubstate.STATIONARY}. It is {MtHexapod.EnabledSubstate(cs.enabledSubstate)}\")\n",
    "\n",
    "script.log.info(f\"STOP- {test_message} -- LVV-T1600 - stop command test- Finishing time: {now} UTC\")"
   ]
  },
  {
   "cell_type": "code",
   "execution_count": null,
   "metadata": {},
   "outputs": [],
   "source": [
    "#Step 15\n",
    "await asyncio.sleep(STD_WAIT)"
   ]
  },
  {
   "cell_type": "markdown",
   "metadata": {},
   "source": [
    "# thermal sensors\n",
    "Check the chronograph manually for the temperature sensors to be below 19C, if not wait until they are all below 19C. Enter in the data at the 39 second mark\n",
    "\n",
    "|Actuator 1 (C)|Actuator 2 (C) | Actuator 3 (C) | Actuator 4 (C) | Actuator 5 (C) | Actuator 6 (C)|\n",
    "|--------------|---------------|----------------|----------------|----------------|---------------|\n",
    "| 0 | 0 | 0 | 0 | 0 | 0 |"
   ]
  },
  {
   "cell_type": "code",
   "execution_count": null,
   "metadata": {},
   "outputs": [],
   "source": [
    "#This command is to set the Hexapod to zero position\n",
    "now = datetime.now()\n",
    "script.log.info(f\"START- {test_message} -- LVV-T1600 -- Move to Zero- Starting time: {now} UTC\")\n",
    "await hexapod_csc.cmd_move.set_start(x=0,y=0,z=0, u=0,v=0,w=0,sync=True)"
   ]
  },
  {
   "cell_type": "code",
   "execution_count": null,
   "metadata": {},
   "outputs": [],
   "source": [
    "await asyncio.sleep(STD_WAIT)"
   ]
  },
  {
   "cell_type": "markdown",
   "metadata": {},
   "source": [
    "CAVE: The setCompensationMode expects infrormation from the MTmount(elevation) and MTRotator(rotation).\n",
    "\n",
    "To use the setCompensationMode at the summit the controller for MTMount needs to run and the actual MTRotator CSC needs to available at the summit.\n",
    "\n",
    "To test this at NCSA the simulators must be stopped first.\n",
    "Use the notebook MTMount-Controller the simulator, start the controller and reverse the steps after finishing testing.\n",
    "\n",
    "For MTRotator the controller can not be used at NCSA. The simulator is always sending data even in OfflinePublishOnly state. Use the simulator at NCSA and the actual component at the summit"
   ]
  },
  {
   "cell_type": "markdown",
   "metadata": {},
   "source": [
    "Start test for the lookup table compensation"
   ]
  },
  {
   "cell_type": "code",
   "execution_count": null,
   "metadata": {
    "scrolled": true
   },
   "outputs": [],
   "source": [
    "now = datetime.now()\n",
    "script.log.info(f\"START- {test_message} -- LVV-T1600 -compensationModeSet test- Starting time: {now} UTC\")"
   ]
  },
  {
   "cell_type": "markdown",
   "metadata": {},
   "source": [
    "Use test from BO to test the LUT compensation: https://github.com/lsst-ts/ts_notebooks/blob/tickets/DM-28409/bxin/ptg2hex/hex_diagnostics.ipynb"
   ]
  },
  {
   "cell_type": "code",
   "execution_count": null,
   "metadata": {},
   "outputs": [],
   "source": [
    "#This command is obsolete\n",
    "#await hexapod_csc.cmd_moveLUT.set_start(az=180,elev=60, temp=10)"
   ]
  },
  {
   "cell_type": "code",
   "execution_count": null,
   "metadata": {},
   "outputs": [],
   "source": [
    "'''\n",
    "await hexapod_csc.cmd_move.set_start(x=0,y=0,z=800,u=0,v=0,w=0,sync=True)\n",
    "await asyncio.sleep(10)\n",
    "pos = await hexapod_csc.tel_application.aget(timeout=10.)\n",
    "print('hex position')\n",
    "for i in range(6):\n",
    "    print('%10.2f '%pos.position[i], end= ' ')\n",
    "print('\\n')\n",
    "'''"
   ]
  },
  {
   "cell_type": "code",
   "execution_count": null,
   "metadata": {},
   "outputs": [],
   "source": [
    "#'''\n",
    "#Switch CompensationMode on\n",
    "await hexapod_csc.cmd_setCompensationMode.set_start(enable=True)"
   ]
  },
  {
   "cell_type": "code",
   "execution_count": null,
   "metadata": {},
   "outputs": [],
   "source": [
    "lutMode = await hexapod_csc.evt_compensationMode.aget(timeout=10)\n",
    "print(\"compsensation mode enabled?\",lutMode.enabled, pd.to_datetime(lutMode.private_sndStamp, unit='s'))"
   ]
  },
  {
   "cell_type": "code",
   "execution_count": null,
   "metadata": {},
   "outputs": [],
   "source": [
    "pos = await hexapod_csc.tel_application.aget(timeout=10.)\n",
    "print('hex position')\n",
    "for i in range(6):\n",
    "    print('%10.2f '%pos.position[i], end= ' ')\n",
    "print('\\n')\n",
    "await asyncio.sleep(10.)\n",
    "#'''"
   ]
  },
  {
   "cell_type": "code",
   "execution_count": null,
   "metadata": {},
   "outputs": [],
   "source": [
    "#This command is to set the Hexapod to zero position\n",
    "now = datetime.now()\n",
    "script.log.info(f\"START- {test_message} -- LVV-T1600 -- Move to Zero- Starting time: {now} UTC\")\n",
    "await hexapod_csc.cmd_move.set_start(x=0,y=0,z=0, u=0,v=0,w=0,sync=True)"
   ]
  },
  {
   "cell_type": "code",
   "execution_count": null,
   "metadata": {},
   "outputs": [],
   "source": [
    "await printHexaPosition(hexapod_csc)\n",
    "await printHexaUncompensatedAndCompensated(hexapod_csc)"
   ]
  },
  {
   "cell_type": "code",
   "execution_count": null,
   "metadata": {},
   "outputs": [],
   "source": [
    "#move the hexapod Not allowed here! First leave compensation mode than move to new postion!!! Otherwise the you hexpod gets stuck in compensation  mode\n",
    "#await hexapod_csc.cmd_move.set_start(x=0,y=0,z=800,u=0,v=0,w=0,sync=True)\n",
    "\n",
    "#await asyncio.sleep(10.)"
   ]
  },
  {
   "cell_type": "code",
   "execution_count": null,
   "metadata": {},
   "outputs": [],
   "source": [
    "'''\n",
    "pos = await hexapod_csc.tel_application.aget(timeout=10.)\n",
    "print('hex position')\n",
    "for i in range(6):\n",
    "    print('%10.2f '%pos.position[i], end= ' ')\n",
    "print('\\n')\n",
    "\n",
    "#Switch CompensationMode off \n",
    "await hexapod_csc.cmd_setCompensationMode.set_start(enable=False)\n",
    "lutMode = await hexapod_csc.evt_compensationMode.aget(timeout=10)\n",
    "print(\"compsensation mode enabled?\",lutMode.enabled)\n",
    "'''"
   ]
  },
  {
   "cell_type": "code",
   "execution_count": null,
   "metadata": {
    "scrolled": true
   },
   "outputs": [],
   "source": [
    "await hexapod_csc.cmd_setCompensationMode.set_start(enable=False)"
   ]
  },
  {
   "cell_type": "code",
   "execution_count": null,
   "metadata": {},
   "outputs": [],
   "source": [
    "'''pos = await hexapod_csc.tel_application.aget(timeout=10.)\n",
    "print('hex position')\n",
    "for i in range(6):\n",
    "    print('%10.2f '%pos.position[i], end= ' ')\n",
    "print('\\n')\n",
    "'''"
   ]
  },
  {
   "cell_type": "code",
   "execution_count": null,
   "metadata": {},
   "outputs": [],
   "source": [
    "'''\n",
    "posC = await hexapod_csc.evt_compensatedPosition.aget(timeout=10.)\n",
    "print('Compensated position')\n",
    "for i in 'xyzuvw':\n",
    "    print('%10.2f '%getattr(posC, i), end= ' ')\n",
    "print('\\n')\n",
    "\n",
    "posU = await hexapod_csc.evt_uncompensatedPosition.aget(timeout=10.)\n",
    "print('Uncompensated position')\n",
    "for i in 'xyzuvw':\n",
    "    print('%10.2f '%getattr(posU, i), end= ' ')\n",
    "print('\\n')\n",
    "'''"
   ]
  },
  {
   "cell_type": "markdown",
   "metadata": {},
   "source": [
    "Analysis of the LUT correction"
   ]
  },
  {
   "cell_type": "code",
   "execution_count": null,
   "metadata": {},
   "outputs": [],
   "source": [
    "'''LUTfile = '%s/notebooks/ts_config_mttcs/MTHexapod/v1/default.yaml'%(os.environ[\"HOME\"])\n",
    "print(LUTfile)\n",
    "with open(LUTfile, 'r') as stream:\n",
    "    aa = yaml.safe_load(stream)\n",
    "if hexapod_csc.salinfo.index == 1:\n",
    "    elevCoeff = aa['camera_config']['elevation_coeffs']\n",
    "    tCoeff = aa['camera_config']['temperature_coeffs']\n",
    "elif hexapod_csc.salinfo.index == 2:\n",
    "    elevCoeff = aa['m2_config']['elevation_coeffs']\n",
    "    tCoeff = aa['m2_config']['temperature_coeffs']\n",
    "'''"
   ]
  },
  {
   "cell_type": "code",
   "execution_count": null,
   "metadata": {},
   "outputs": [],
   "source": [
    "'''pred = []\n",
    "elev=89.999\n",
    "print('Predicted LUT compensation:')\n",
    "for i in range(6):\n",
    "    coeff = elevCoeff[i] #starts with C0\n",
    "    mypoly = np.poly1d(coeff[::-1]) #poly1d needs C5 first\n",
    "    pred.append(mypoly(elev))\n",
    "    print('%10.2f '%pred[i], end= ' ')\n",
    "print('\\n')\n",
    "print('Actual LUT compensation:')\n",
    "for i in 'xyzuvw':\n",
    "    print('%10.2f '%getattr(posC, i), end= ' ')\n",
    "print('\\n')\n",
    "'''"
   ]
  },
  {
   "cell_type": "code",
   "execution_count": null,
   "metadata": {},
   "outputs": [],
   "source": [
    "script.log.info(f\"STOP- {test_message} -- LVV-T1600 -compensationModeSet test- Finishing time: {now} UTC\"\")"
   ]
  },
  {
   "cell_type": "code",
   "execution_count": null,
   "metadata": {},
   "outputs": [],
   "source": [
    "#Step 22\n",
    "await asyncio.sleep(STD_WAIT)\n",
    "# thermal sensors"
   ]
  },
  {
   "cell_type": "markdown",
   "metadata": {},
   "source": [
    "# thermal sensors\n",
    "Check the chronograph manually for the temperature sensors to be below 19C, if not wait until they are all below 19C. Enter in the data at the 39 second mark\n",
    "\n",
    "|Actuator 1 (C)|Actuator 2 (C) | Actuator 3 (C) | Actuator 4 (C) | Actuator 5 (C) | Actuator 6 (C)|\n",
    "|--------------|---------------|----------------|----------------|----------------|---------------|\n",
    "| 0 | 0 | 0 | 0 | 0 | 0 |"
   ]
  },
  {
   "cell_type": "code",
   "execution_count": null,
   "metadata": {},
   "outputs": [],
   "source": [
    "now = datetime.now()\n",
    "script.log.info(f\"START- {test_message} -- LVV-T1600 Test Step 24 - Starting time: {now} UTC\")\n",
    "\n",
    "pos = await hexapod_csc.tel_application.aget(timeout=10.)\n",
    "print('hex position')\n",
    "for i in range(6):\n",
    "    print('%10.2f '%pos.position[i], end= ' ')\n",
    "print('\\n')"
   ]
  },
  {
   "cell_type": "code",
   "execution_count": null,
   "metadata": {},
   "outputs": [],
   "source": [
    "await hexapod_csc.cmd_move.set_start(x=500,y=800,z=200,u=0,v=0,w=0,sync=True)\n",
    "await asyncio.sleep(10.)\n",
    "\n",
    "pos = await hexapod_csc.tel_application.aget(timeout=10.)\n",
    "print('hex position')\n",
    "for i in range(6):\n",
    "    print('%10.2f '%pos.position[i], end= ' ')\n",
    "print('\\n')"
   ]
  },
  {
   "cell_type": "code",
   "execution_count": null,
   "metadata": {},
   "outputs": [],
   "source": [
    "await hexapod_csc.cmd_offset.set_start(x=0,y=0,z=500,u=0,v=0,w=0,sync=True)\n",
    "await asyncio.sleep(10.)\n",
    "\n",
    "pos = await hexapod_csc.tel_application.aget(timeout=10.)\n",
    "print('hex position')\n",
    "for i in range(6):\n",
    "    print('%10.2f '%pos.position[i], end= ' ')\n",
    "print('\\n')\n",
    "\n",
    "script.log.info(f\"STOP- {test_message} -- LVV-T1600 Test Step 24\")\n",
    "\n",
    "\n",
    "# cs = await MThexapod_csc.evt_controllerState.aget()\n",
    "# if cs.enabledSubstate != MThexapod.SetEnabledSubstateParam.MOVE_POINT_TO_POINT:\n",
    "#     raise Exception(f\"Controller's substate is not {MThexapod.SetEnabledSubstateParam.MOVE_POINT_TO_POINT}. It is {MThexapod.SetEnabledSubstateParam(cs.enabledSubstate)}\")\n",
    "# cs = await MThexapod_csc.evt_controllerSubstate.aget()\n",
    "# if cs.enabledSubstate != MThexapod.SetEnabledSubstateParam.STATIONARY:\n",
    "#     raise Exception(f\"Controller's substate is not {MThexapod.SetEnabledSubstateParam.STATIONARY}. It is {MThexapod.SetEnabledSubstateParam(cs.enabledSubstate)}\")\n",
    "# in_position = await MThexapod_csc.evt_inPosition.aget(timeout=10)\n",
    "# if in_position.inPosition is False:\n",
    "#     raise Exception(\"Controller not in position.\")"
   ]
  },
  {
   "cell_type": "code",
   "execution_count": null,
   "metadata": {},
   "outputs": [],
   "source": [
    "#This command is to set the Hexapod to zero position\n",
    "now = datetime.now()\n",
    "script.log.info(f\"START -- {test_message} -- LVV-T1600 -- Move to Zero -- Starting time: {now} UTC\")\n",
    "await hexapod_csc.cmd_move.set_start(x=0,y=0,z=0, u=0,v=0,w=0,sync=True)"
   ]
  },
  {
   "cell_type": "code",
   "execution_count": null,
   "metadata": {},
   "outputs": [],
   "source": [
    "#Step 27\n",
    "await asyncio.sleep(STD_WAIT)"
   ]
  },
  {
   "cell_type": "markdown",
   "metadata": {},
   "source": [
    "# Pivot tests \n",
    "Modifying the Pivot point, recovering the changes from the EFD. "
   ]
  },
  {
   "cell_type": "code",
   "execution_count": null,
   "metadata": {},
   "outputs": [],
   "source": [
    "now = datetime.now()\n",
    "script.log.info(f\"START- {test_message} -- LVV-T1600 Test Move - Pivot test - Starting time: {now} UTC\")#Pivot test\n",
    "#Test before pivot point test\n",
    "await hexapod_csc.cmd_move.set_start(x=0,y=0,z=0,u=0.,v=0.1,w=0.0,sync=True)\n",
    "await asyncio.sleep(10.)\n",
    "pos = await hexapod_csc.tel_application.aget(timeout=10.)\n",
    "print('Hex position in X,Y,Z,U,V,W')\n",
    "for i in range(6):\n",
    "    print('%10.2f '%pos.position[i], end= ' ')\n",
    "print('\\n')\n",
    "\n",
    "camHexPosition0 = await hexapod_csc.tel_actuators.aget(timeout=10.)\n",
    "print('Hexapod calibrated actuator positions in um:')\n",
    "for i in range(6):\n",
    "    print('%10.2f '%camHexPosition0.calibrated[i], end= ' ')"
   ]
  },
  {
   "cell_type": "code",
   "execution_count": null,
   "metadata": {},
   "outputs": [],
   "source": [
    "#Check some Hexapod configurations \n",
    "hexConfig = await hexapod_csc.evt_configuration.aget(timeout=10.)\n",
    "print(\"pivot at (%.0f, %.0f, %.0f) microns \"%(hexConfig.pivotX, hexConfig.pivotY, hexConfig.pivotZ))\n",
    "print(\"maxXY = \", hexConfig.maxXY, \"microns, maxZ= \", hexConfig.maxZ, \" microns\")\n",
    "print(\"maxUV = \", hexConfig.maxUV, \"deg, maxW= \", hexConfig.maxW, \" deg\")\n",
    "pos = await hexapod_csc.tel_application.aget(timeout=10.)\n",
    "print('Hex position in X,Y,Z,U,V,W')\n",
    "for i in range(6):\n",
    "    print('%10.2f '%pos.position[i], end= ' ')\n",
    "print('\\n')\n",
    "\n",
    "camHexPosition0 = await hexapod_csc.tel_actuators.aget(timeout=10.)\n",
    "print('Hexapod calibrated actuator positions in um:')\n",
    "for i in range(6):\n",
    "    print('%10.2f '%camHexPosition0.calibrated[i], end= ' ')"
   ]
  },
  {
   "cell_type": "code",
   "execution_count": null,
   "metadata": {},
   "outputs": [],
   "source": [
    "#move to testing position\n",
    "now = datetime.now()\n",
    "script.log.info(f\"START- {test_message} -- LVV-T1600 Pivot test - Moving to testing position- Starting time: {now} UTC\")\n",
    "await hexapod_csc.cmd_move.set_start(x=2000,y=-3500,z=200,u=0.01,v=-0.05,w=0.002,sync=True)\n",
    "await asyncio.sleep(10.)\n",
    "\n",
    "pos = await hexapod_csc.tel_application.aget(timeout=10.)\n",
    "print('Hex position in X,Y,Z,U,V,W')\n",
    "for i in range(6):\n",
    "    print('%10.2f '%pos.position[i], end= ' ')\n",
    "print('\\n')\n",
    "\n",
    "camHexPosition0 = await hexapod_csc.tel_actuators.aget(timeout=10.)\n",
    "print('Hexapod calibrated actuator positions in um:')\n",
    "for i in range(6):\n",
    "    print('%10.2f '%camHexPosition0.calibrated[i], end= ' ')"
   ]
  },
  {
   "cell_type": "code",
   "execution_count": null,
   "metadata": {},
   "outputs": [],
   "source": [
    "#Check some Hexapod configurations \n",
    "hexConfig = await hexapod_csc.evt_configuration.aget(timeout=10.)\n",
    "print(\"pivot at (%.0f, %.0f, %.0f) microns \"%(hexConfig.pivotX, hexConfig.pivotY, hexConfig.pivotZ))\n",
    "print(\"maxXY = \", hexConfig.maxXY, \"microns, maxZ= \", hexConfig.maxZ, \" microns\")\n",
    "print(\"maxUV = \", hexConfig.maxUV, \"deg, maxW= \", hexConfig.maxW, \" deg\")"
   ]
  },
  {
   "cell_type": "code",
   "execution_count": null,
   "metadata": {},
   "outputs": [],
   "source": [
    "#Step 30 -- set a new Pivot point\n",
    "now = datetime.now()\n",
    "script.log.info(f\"START- {test_message} -- LVV-T1600 Pivot test - Pivot point set to (0,0,0)- Starting time: {now} UTC\")#Pivot test\n",
    "await hexapod_csc.cmd_setPivot.set_start(x=0,y=0,z=0)\n",
    "await asyncio.sleep(3.)\n",
    "\n",
    "pos = await hexapod_csc.tel_application.aget(timeout=10.)\n",
    "print('Hex position in X,Y,Z,U,V,W')\n",
    "for i in range(6):\n",
    "    print('%10.2f '%pos.position[i], end= ' ')\n",
    "print('\\n')\n",
    "\n",
    "camHexPosition0 = await hexapod_csc.tel_actuators.aget(timeout=10.)\n",
    "print('Hexapod calibrated actuator positions in um:')\n",
    "for i in range(6):\n",
    "    print('%10.2f '%camHexPosition0.calibrated[i], end= ' ')\n",
    "#await asyncio.sleep(10.)"
   ]
  },
  {
   "cell_type": "markdown",
   "metadata": {},
   "source": [
    "Pivot point changed. Values changed in the EUI and in the EFD. Changes are shown in Chronograph.  Actuator Pos. Actual unchanged -- no movement"
   ]
  },
  {
   "cell_type": "code",
   "execution_count": null,
   "metadata": {},
   "outputs": [],
   "source": [
    "#Check some Hexapod configurations \n",
    "hexConfig = await hexapod_csc.evt_configuration.aget(timeout=10.)\n",
    "print(\"pivot at (%.0f, %.0f, %.0f) microns \"%(hexConfig.pivotX, hexConfig.pivotY, hexConfig.pivotZ))\n",
    "print(\"maxXY = \", hexConfig.maxXY, \"microns, maxZ= \", hexConfig.maxZ, \" microns\")\n",
    "print(\"maxUV = \", hexConfig.maxUV, \"deg, maxW= \", hexConfig.maxW, \" deg\")\n",
    "\n",
    "pos = await hexapod_csc.tel_application.aget(timeout=10.)\n",
    "print('Hex position in X,Y,Z,U,V,W')\n",
    "for i in range(6):\n",
    "    print('%10.2f '%pos.position[i], end= ' ')\n",
    "print('\\n')\n",
    "\n",
    "camHexPosition0 = await hexapod_csc.tel_actuators.aget(timeout=10.)\n",
    "print('Hexapod calibrated actuator positions in um:')\n",
    "for i in range(6):\n",
    "    print('%10.2f '%camHexPosition0.calibrated[i], end= ' ')"
   ]
  },
  {
   "cell_type": "raw",
   "metadata": {},
   "source": [
    "Pivot point should be (0,0,0)  now but appears unchanged here and no event generated in the EFD."
   ]
  },
  {
   "cell_type": "code",
   "execution_count": null,
   "metadata": {},
   "outputs": [],
   "source": [
    "#Step 31\n",
    "script.log.info(f\"START- {test_message} -- LVV-T1600 move to  (x=2000,y=-3500,z=200,u=0.01,v=-0.05,w=0.002,sync=True) again- Pivot test - Starting time: {now} UTC\")#Pivot test\n",
    "await hexapod_csc.cmd_move.set_start(x=2000,y=-3500,z=200,u=0.01,v=-0.05,w=0.002,sync=True)\n",
    "await asyncio.sleep(10.)\n",
    "pos = await hexapod_csc.tel_application.aget(timeout=10.)\n",
    "print('Hex position in X,Y,Z,U,V,W')\n",
    "for i in range(6):\n",
    "    print('%10.2f '%pos.position[i], end= ' ')\n",
    "print('\\n')\n",
    "\n",
    "camHexPosition0 = await hexapod_csc.tel_actuators.aget(timeout=10.)\n",
    "print('Hexapod calibrated actuator positions in um:')\n",
    "for i in range(6):\n",
    "    print('%10.2f '%camHexPosition0.calibrated[i], end= ' ')\n",
    "    \n",
    "#await asyncio.sleep(10.)"
   ]
  },
  {
   "cell_type": "markdown",
   "metadata": {},
   "source": [
    "Position changed in the GUI and the EFD to the set value. Strud Pos Actual values changed."
   ]
  },
  {
   "cell_type": "code",
   "execution_count": null,
   "metadata": {},
   "outputs": [],
   "source": [
    "#Check some Hexapod configurations \n",
    "hexConfig = await hexapod_csc.evt_configuration.aget(timeout=10.)\n",
    "print(\"pivot at (%.0f, %.0f, %.0f) microns \"%(hexConfig.pivotX, hexConfig.pivotY, hexConfig.pivotZ))\n",
    "print(\"maxXY = \", hexConfig.maxXY, \"microns, maxZ= \", hexConfig.maxZ, \" microns\")\n",
    "print(\"maxUV = \", hexConfig.maxUV, \"deg, maxW= \", hexConfig.maxW, \" deg\")\n",
    "pos = await hexapod_csc.tel_application.aget(timeout=10.)\n",
    "print('Hex position in X,Y,Z,U,V,W')\n",
    "for i in range(6):\n",
    "    print('%10.2f '%pos.position[i], end= ' ')\n",
    "print('\\n')\n",
    "\n",
    "camHexPosition0 = await hexapod_csc.tel_actuators.aget(timeout=10.)\n",
    "print('Hexapod calibrated actuator positions in um:')\n",
    "for i in range(6):\n",
    "    print('%10.2f '%camHexPosition0.calibrated[i], end= ' ')"
   ]
  },
  {
   "cell_type": "code",
   "execution_count": null,
   "metadata": {},
   "outputs": [],
   "source": [
    "#Set the pivot point back to the original value (z=-2758400)\n",
    "\n",
    "script.log.info(f\"START- {test_message} -- LVV-T1600 Test Step 29 - Pivot set (0,0,-2758400)- Starting time: {now} UTC\")#Pivot test\n",
    "await hexapod_csc.cmd_setPivot.set_start(x=0,y=0,z=-2758400)\n",
    "#await hexapod_csc.cmd_setPivot.set_start(x=0,y=0,z=-1938000)\n",
    "#await hexapod_csc.cmd_setPivot.set_start(x=0,y=0,z=-703000)\n",
    "await asyncio.sleep(3.)\n",
    "pos = await hexapod_csc.tel_application.aget(timeout=10.)\n",
    "print('hex position')\n",
    "for i in range(6):\n",
    "    print('%10.2f '%pos.position[i], end= ' ')\n",
    "print('\\n')\n",
    "script.log.info(f\"STOP- {test_message} -- LVV-T1600 Test Step 29\")"
   ]
  },
  {
   "cell_type": "markdown",
   "metadata": {},
   "source": [
    "Values changed in teh EUI and in the EFD. Changes are shown in Chronograph. Strud. Pos. Actual unchanged -- no movement"
   ]
  },
  {
   "cell_type": "code",
   "execution_count": null,
   "metadata": {},
   "outputs": [],
   "source": [
    "#Set the pivot point back to the original value (0.703m in um)\n",
    "'''\n",
    "script.log.info(f\"START- {test_message} -- LVV-T1600 Test Step 29 - Pivot set (0,0,-1938000)- Starting time: {now} UTC\")#Pivot test\n",
    "await hexapod_csc.cmd_setPivot.set_start(x=0,y=0,z=-1938000)\n",
    "#await hexapod_csc.cmd_setPivot.set_start(x=0,y=0,z=-2758400)\n",
    "await asyncio.sleep(10.)\n",
    "pos = await hexapod_csc.tel_application.aget(timeout=10.)\n",
    "print('hex position')\n",
    "for i in range(6):\n",
    "    print('%10.2f '%pos.position[i], end= ' ')\n",
    "print('\\n')\n",
    "\n",
    "script.log.info(f\"STOP- {test_message} -- LVV-T1600 Test Step 29\")\n",
    "\n",
    "'''"
   ]
  },
  {
   "cell_type": "code",
   "execution_count": null,
   "metadata": {},
   "outputs": [],
   "source": [
    "#This command is to set the Hexapod to zero position\n",
    "now = datetime.now()\n",
    "script.log.info(f\"START- {test_message} -- LVV-T1600 -- Move to Zero- Starting time: {now} UTC\")\n",
    "await hexapod_csc.cmd_move.set_start(x=0,y=0,z=0, u=0,v=0,w=0,sync=True)"
   ]
  },
  {
   "cell_type": "code",
   "execution_count": null,
   "metadata": {},
   "outputs": [],
   "source": [
    "All moved back to zero."
   ]
  },
  {
   "cell_type": "markdown",
   "metadata": {},
   "source": [
    "# thermal sensors\n",
    "Check the chronograph manually for the temperature sensors to be below 19C, if not wait until they are all below 19C. Enter in the data at the 39 second mark\n",
    "\n",
    "|Actuator 1 (C)|Actuator 2 (C) | Actuator 3 (C) | Actuator 4 (C) | Actuator 5 (C) | Actuator 6 (C)|\n",
    "|--------------|---------------|----------------|----------------|----------------|---------------|\n",
    "| 0 | 0 | 0 | 0 | 0 | 0 |"
   ]
  },
  {
   "cell_type": "code",
   "execution_count": null,
   "metadata": {},
   "outputs": [],
   "source": [
    "#Read test moves\n",
    "test_moves = np.loadtxt('Test_Moves_D297.txt',comments='#')\n",
    "test_moves = test_moves.T\n",
    "#print (test_moves)"
   ]
  },
  {
   "cell_type": "code",
   "execution_count": null,
   "metadata": {},
   "outputs": [],
   "source": [
    "now = datetime.now()\n",
    "script.log.info(f\"START- {test_message} -- LVV-T1600 Endurance Test - Starting time: {now} UTC\")\n",
    "\n",
    "for n in range(np.shape(test_moves)[1]):\n",
    "    xyz_move = test_moves[:,n]\n",
    "    await hexapod_csc.cmd_move.set_start(x=xyz_move[0],y=xyz_move[1],z=xyz_move[2],u=xyz_move[3],v=xyz_move[4],w=xyz_move[5],sync=True)\n",
    "    #x=xyz_move[0]\n",
    "    #y=xyz_move[1]\n",
    "    #z=xyz_move[2]\n",
    "    #u=xyz_move[3]\n",
    "    #v=xyz_move[4]\n",
    "    #w=xyz_move[5]\n",
    "    #print(x,y,z,u,v,w)\n",
    "    print ('Completed',n,'moves')\n",
    "    script.log.info(f\"RUNNING- {test_message} -- LVV-T1600 Endurance Test Step: {n}\")\n",
    "    await asyncio.sleep(STD_WAIT)"
   ]
  },
  {
   "cell_type": "code",
   "execution_count": null,
   "metadata": {},
   "outputs": [],
   "source": [
    "# use this for the limit movement of actuator number 6\n",
    "now = datetime.now()\n",
    "script.log.info(f\"START- {test_message} -- LVV-T1600 Endurance Test - Starting time: {now} UTC\")\n",
    "for i in range(40):\n",
    "    await hexapod_csc.cmd_move.set_start(x=5660,y=0,z=7730,u=0,v=0.17,w=0,sync=True)\n",
    "    print ('move 1 completed for the nth time:', i )\n",
    "    await asyncio.sleep(STD_WAIT)\n",
    "    await hexapod_csc.cmd_move.set_start(x=5660,y=0,z=7730,u=0,v=0.07,w=0,sync=True)\n",
    "    print ('move 2 completed for the nth time:', i )\n",
    "    await asyncio.sleep(STD_WAIT)\n",
    "    await hexapod_csc.cmd_move.set_start(x=5660,y=0,z=7730,u=0.17,v=0,w=0,sync=True)\n",
    "    print ('move 3 completed for the nth time:', i )\n",
    "    await asyncio.sleep(STD_WAIT)\n",
    "    await hexapod_csc.cmd_move.set_start(x=5660,y=0,z=7730,u=0.07,v=0,w=0,sync=True)\n",
    "    print ('move 4 completed for the nth time:', i )\n",
    "    await asyncio.sleep(STD_WAIT)\n",
    "\n",
    "    await hexapod_csc.cmd_move.set_start(x=5660,y=0,z=-7730,u=0,v=0.17,w=0,sync=True)\n",
    "    print ('move 5 completed for the nth time:', i )\n",
    "    await asyncio.sleep(STD_WAIT)\n",
    "    await hexapod_csc.cmd_move.set_start(x=5660,y=0,z=-7730,u=0,v=-0.17,w=0,sync=True)\n",
    "    print ('move 6 completed for the nth time:', i )\n",
    "    await asyncio.sleep(STD_WAIT)\n",
    "    await hexapod_csc.cmd_move.set_start(x=5660,y=0,z=-7730,u=0.17,v=0,w=0,sync=True)\n",
    "    print ('move 7 completed for the nth time:', i )\n",
    "    await asyncio.sleep(STD_WAIT)\n",
    "    await hexapod_csc.cmd_move.set_start(x=5660,y=0,z=-7730,u=-0.17,v=0,w=0,sync=True)\n",
    "    print ('move 8 completed for the nth time:', i )\n",
    "    await asyncio.sleep(STD_WAIT)\n",
    "\n",
    "    await hexapod_csc.cmd_move.set_start(x=-5660,y=0,z=7730,u=0,v=0.17,w=0,sync=True)\n",
    "    print ('move 9 completed for the nth time:', i )\n",
    "    await asyncio.sleep(STD_WAIT)\n",
    "    await hexapod_csc.cmd_move.set_start(x=-5660,y=0,z=7730,u=0,v=0.1,w=0,sync=True)\n",
    "    print ('move 10 completed for the nth time:', i )\n",
    "    await asyncio.sleep(STD_WAIT)\n",
    "    await hexapod_csc.cmd_move.set_start(x=-5660,y=0,z=7730,u=0.17,v=0,w=0,sync=True)\n",
    "    print ('move 11 completed for the nth time:', i )\n",
    "    await asyncio.sleep(STD_WAIT)\n",
    "    await hexapod_csc.cmd_move.set_start(x=-5660,y=0,z=7730,u=0.07,v=0,w=0,sync=True)\n",
    "    print ('move 12 completed for the nth time:', i )\n",
    "    await asyncio.sleep(STD_WAIT)\n",
    "\n",
    "    await hexapod_csc.cmd_move.set_start(x=-5660,y=0,z=-7730,u=0,v=0.17,w=0,sync=True)\n",
    "    print ('move 13 completed for the nth time:', i )\n",
    "    await asyncio.sleep(STD_WAIT)\n",
    "    await hexapod_csc.cmd_move.set_start(x=-5660,y=0,z=-7730,u=0,v=-0.17,w=0,sync=True)\n",
    "    print ('move 14 completed for the nth time:', i )\n",
    "    await asyncio.sleep(STD_WAIT)\n",
    "    await hexapod_csc.cmd_move.set_start(x=-5660,y=0,z=-7730,u=0.17,v=0,w=0,sync=True)\n",
    "    print ('move 15 completed for the nth time:', i )\n",
    "    await asyncio.sleep(STD_WAIT)\n",
    "    await hexapod_csc.cmd_move.set_start(x=-5660,y=0,z=-7730,u=-0.17,v=0,w=0,sync=True)\n",
    "    print ('move 16 completed for the nth time:', i )\n",
    "    await asyncio.sleep(STD_WAIT)\n",
    "\n",
    "\n",
    "    #await hexapod_csc.cmd_move.set_start(x=0,y=5660,z=7730,u=0,v=0.17,w=0,sync=True)\n",
    "    #print ('move 17 completed for the nth time:', i )\n",
    "    #await asyncio.sleep(STD_WAIT)\n",
    "    #await hexapod_csc.cmd_move.set_start(x=0,y=5660,z=7730,u=0,v=-0.17,w=0,sync=True)\n",
    "    #print ('move 18 completed for the nth time:', i )\n",
    "    #await asyncio.sleep(STD_WAIT)\n",
    "    await hexapod_csc.cmd_move.set_start(x=0,y=5660,z=7730,u=0.17,v=0,w=0,sync=True)\n",
    "    print ('move 19 completed for the nth time:', i ) \n",
    "    await asyncio.sleep(STD_WAIT)\n",
    "    #await hexapod_csc.cmd_move.set_start(x=0,y=5660,z=7730,u=-0.17,v=0,w=0,sync=True)\n",
    "    #print ('move 20 completed for the nth time:', i )\n",
    "    #await asyncio.sleep(STD_WAIT)\n",
    "\n",
    "    await hexapod_csc.cmd_move.set_start(x=0,y=5660,z=-7730,u=0,v=0.17,w=0,sync=True)\n",
    "    print ('move 21 completed for the nth time:', i )\n",
    "    await asyncio.sleep(STD_WAIT)\n",
    "    await hexapod_csc.cmd_move.set_start(x=0,y=5660,z=-7730,u=0,v=-0.17,w=0,sync=True)\n",
    "    print ('move 22 completed for the nth time:', i )\n",
    "    await asyncio.sleep(STD_WAIT)\n",
    "    await hexapod_csc.cmd_move.set_start(x=0,y=5660,z=-7730,u=0.17,v=0,w=0,sync=True)\n",
    "    print ('move 23 completed for the nth time:', i )\n",
    "    await asyncio.sleep(STD_WAIT)\n",
    "    await hexapod_csc.cmd_move.set_start(x=0,y=5660,z=-7730,u=-0.17,v=0,w=0,sync=True)\n",
    "    print ('move 24 completed for the nth time:', i )\n",
    "    await asyncio.sleep(STD_WAIT)\n",
    "\n",
    "    await hexapod_csc.cmd_move.set_start(x=0,y=-5660,z=7730,u=0,v=0.17,w=0,sync=True)\n",
    "    print ('move 25 completed for the nth time:', i )\n",
    "    await asyncio.sleep(STD_WAIT)\n",
    "    await hexapod_csc.cmd_move.set_start(x=0,y=-5660,z=7730,u=0,v=-0.17,w=0,sync=True)\n",
    "    print ('move 26 completed for the nth time:', i )\n",
    "    await asyncio.sleep(STD_WAIT)\n",
    "    await hexapod_csc.cmd_move.set_start(x=0,y=-5660,z=7730,u=0.17,v=0,w=0,sync=True)\n",
    "    print ('move 27 completed for the nth time:', i )\n",
    "    await asyncio.sleep(STD_WAIT)\n",
    "    await hexapod_csc.cmd_move.set_start(x=0,y=-5660,z=7730,u=0.07,v=0,w=0,sync=True)\n",
    "    print ('move 28 completed for the nth time:', i )\n",
    "    await asyncio.sleep(STD_WAIT)\n",
    "\n",
    "    await hexapod_csc.cmd_move.set_start(x=0,y=-5660,z=-7730,u=0,v=0.17,w=0,sync=True)\n",
    "    print ('move 29 completed for the nth time:', i )\n",
    "    await asyncio.sleep(STD_WAIT)\n",
    "    await hexapod_csc.cmd_move.set_start(x=0,y=-5660,z=-7730,u=0,v=-0.17,w=0,sync=True)\n",
    "    print ('move 30 completed for the nth time:', i )\n",
    "    await asyncio.sleep(STD_WAIT)\n",
    "    await hexapod_csc.cmd_move.set_start(x=0,y=-5660,z=-7730,u=0.17,v=0,w=0,sync=True)\n",
    "    print ('move 31 completed for the nth time:', i )\n",
    "    await asyncio.sleep(STD_WAIT)\n",
    "    await hexapod_csc.cmd_move.set_start(x=0,y=-5660,z=-7730,u=-0.17,v=0,w=0,sync=True)\n",
    "    print ('move 32 completed for the nth time:', i )\n",
    "    await asyncio.sleep(STD_WAIT)\n",
    "now = datetime.now()\n",
    "script.log.info(f\"STOPP- {test_message} -- LVV-T1600 Endurance Test - Stopping time: {now} UTC\")"
   ]
  },
  {
   "cell_type": "code",
   "execution_count": null,
   "metadata": {},
   "outputs": [],
   "source": [
    "#DO NOT USE until actuator number 6 is fixed!!\n",
    "now = datetime.now()\n",
    "script.log.info(f\"START- {test_message} -- LVV-T1600 Endurance Test - Starting time: {now} UTC\")\n",
    "for i in range(100):\n",
    "    '''\n",
    "    await hexapod_csc.cmd_move.set_start(x=5660,y=0,z=7730,u=0,v=0.17,w=0,sync=True)\n",
    "    await asyncio.sleep(STD_WAIT)\n",
    "    await hexapod_csc.cmd_move.set_start(x=5660,y=0,z=7730,u=0,v=-0.17,w=0,sync=True)\n",
    "    await asyncio.sleep(STD_WAIT)\n",
    "    await hexapod_csc.cmd_move.set_start(x=5660,y=0,z=7730,u=0.17,v=0,w=0,sync=True)\n",
    "    await asyncio.sleep(STD_WAIT)\n",
    "    await hexapod_csc.cmd_move.set_start(x=5660,y=0,z=7730,u=-0.17,v=0,w=0,sync=True)\n",
    "    await asyncio.sleep(STD_WAIT)\n",
    "\n",
    "    await hexapod_csc.cmd_move.set_start(x=5660,y=0,z=-7730,u=0,v=0.17,w=0,sync=True)\n",
    "    await asyncio.sleep(STD_WAIT)\n",
    "    await hexapod_csc.cmd_move.set_start(x=5660,y=0,z=-7730,u=0,v=-0.17,w=0,sync=True)\n",
    "    await asyncio.sleep(STD_WAIT)\n",
    "    await hexapod_csc.cmd_move.set_start(x=5660,y=0,z=-7730,u=0.17,v=0,w=0,sync=True)\n",
    "    await asyncio.sleep(STD_WAIT)\n",
    "    await hexapod_csc.cmd_move.set_start(x=5660,y=0,z=-7730,u=-0.17,v=0,w=0,sync=True)\n",
    "    await asyncio.sleep(STD_WAIT)\n",
    "\n",
    "    await hexapod_csc.cmd_move.set_start(x=-5660,y=0,z=7730,u=0,v=0.17,w=0,sync=True)\n",
    "    await asyncio.sleep(STD_WAIT)\n",
    "    await hexapod_csc.cmd_move.set_start(x=-5660,y=0,z=7730,u=0,v=-0.17,w=0,sync=True)\n",
    "    await asyncio.sleep(STD_WAIT)\n",
    "    await hexapod_csc.cmd_move.set_start(x=-5660,y=0,z=7730,u=0.17,v=0,w=0,sync=True)\n",
    "    await asyncio.sleep(STD_WAIT)\n",
    "    await hexapod_csc.cmd_move.set_start(x=-5660,y=0,z=7730,u=-0.17,v=0,w=0,sync=True)\n",
    "    await asyncio.sleep(STD_WAIT)\n",
    "\n",
    "    await hexapod_csc.cmd_move.set_start(x=-5660,y=0,z=-7730,u=0,v=0.17,w=0,sync=True)\n",
    "    await asyncio.sleep(STD_WAIT)\n",
    "    await hexapod_csc.cmd_move.set_start(x=-5660,y=0,z=-7730,u=0,v=-0.17,w=0,sync=True)\n",
    "    await asyncio.sleep(STD_WAIT)\n",
    "    await hexapod_csc.cmd_move.set_start(x=-5660,y=0,z=-7730,u=0.17,v=0,w=0,sync=True)\n",
    "    await asyncio.sleep(STD_WAIT)\n",
    "    await hexapod_csc.cmd_move.set_start(x=-5660,y=0,z=-7730,u=-0.17,v=0,w=0,sync=True)\n",
    "    await asyncio.sleep(STD_WAIT)\n",
    "\n",
    "\n",
    "    await hexapod_csc.cmd_move.set_start(x=0,y=5660,z=7730,u=0,v=0.17,w=0,sync=True)\n",
    "    await asyncio.sleep(STD_WAIT)\n",
    "    await hexapod_csc.cmd_move.set_start(x=0,y=5660,z=7730,u=0,v=-0.17,w=0,sync=True)\n",
    "    await asyncio.sleep(STD_WAIT)\n",
    "    await hexapod_csc.cmd_move.set_start(x=0,y=5660,z=7730,u=0.17,v=0,w=0,sync=True)\n",
    "    await asyncio.sleep(STD_WAIT)\n",
    "    await hexapod_csc.cmd_move.set_start(x=0,y=5660,z=7730,u=-0.17,v=0,w=0,sync=True)\n",
    "    await asyncio.sleep(STD_WAIT)\n",
    "\n",
    "    await hexapod_csc.cmd_move.set_start(x=0,y=5660,z=-7730,u=0,v=0.17,w=0,sync=True)\n",
    "    await asyncio.sleep(STD_WAIT)\n",
    "    await hexapod_csc.cmd_move.set_start(x=0,y=5660,z=-7730,u=0,v=-0.17,w=0,sync=True)\n",
    "    await asyncio.sleep(STD_WAIT)\n",
    "    await hexapod_csc.cmd_move.set_start(x=0,y=5660,z=-7730,u=0.17,v=0,w=0,sync=True)\n",
    "    await asyncio.sleep(STD_WAIT)\n",
    "    await hexapod_csc.cmd_move.set_start(x=0,y=5660,z=-7730,u=-0.17,v=0,w=0,sync=True)\n",
    "    await asyncio.sleep(STD_WAIT)\n",
    "\n",
    "    await hexapod_csc.cmd_move.set_start(x=0,y=-5660,z=7730,u=0,v=0.17,w=0,sync=True)\n",
    "    await asyncio.sleep(STD_WAIT)\n",
    "    await hexapod_csc.cmd_move.set_start(x=0,y=-5660,z=7730,u=0,v=-0.17,w=0,sync=True)\n",
    "    await asyncio.sleep(STD_WAIT)\n",
    "    await hexapod_csc.cmd_move.set_start(x=0,y=-5660,z=7730,u=0.17,v=0,w=0,sync=True)\n",
    "    await asyncio.sleep(STD_WAIT)\n",
    "    await hexapod_csc.cmd_move.set_start(x=0,y=-5660,z=7730,u=-0.17,v=0,w=0,sync=True)\n",
    "    await asyncio.sleep(STD_WAIT)\n",
    "\n",
    "    await hexapod_csc.cmd_move.set_start(x=0,y=-5660,z=-7730,u=0,v=0.17,w=0,sync=True)\n",
    "    await asyncio.sleep(STD_WAIT)\n",
    "    await hexapod_csc.cmd_move.set_start(x=0,y=-5660,z=-7730,u=0,v=-0.17,w=0,sync=True)\n",
    "    await asyncio.sleep(STD_WAIT)\n",
    "    await hexapod_csc.cmd_move.set_start(x=0,y=-5660,z=-7730,u=0.17,v=0,w=0,sync=True)\n",
    "    await asyncio.sleep(STD_WAIT)\n",
    "    await hexapod_csc.cmd_move.set_start(x=0,y=-5660,z=-7730,u=-0.17,v=0,w=0,sync=True)\n",
    "    await asyncio.sleep(STD_WAIT)\n",
    "    '''\n",
    "now = datetime.now()\n",
    "script.log.info(f\"STOPP- {test_message} -- LVV-T1600 Endurance Test - Stopping time: {now} UTC\")"
   ]
  },
  {
   "cell_type": "code",
   "execution_count": null,
   "metadata": {},
   "outputs": [],
   "source": [
    "await salobj.set_summary_state(hexapod_csc, salobj.State.STANDBY) # Transition the CSC to Standby state"
   ]
  },
  {
   "cell_type": "code",
   "execution_count": null,
   "metadata": {},
   "outputs": [],
   "source": [
    "await domain.close() # Close the remote connection"
   ]
  },
  {
   "cell_type": "code",
   "execution_count": null,
   "metadata": {},
   "outputs": [],
   "source": []
  }
 ],
 "metadata": {
  "kernelspec": {
   "display_name": "LSST",
   "language": "python",
   "name": "lsst"
  },
  "language_info": {
   "codemirror_mode": {
    "name": "ipython",
    "version": 3
   },
   "file_extension": ".py",
   "mimetype": "text/x-python",
   "name": "python",
   "nbconvert_exporter": "python",
   "pygments_lexer": "ipython3",
   "version": "3.8.8"
  }
 },
 "nbformat": 4,
 "nbformat_minor": 4
}
