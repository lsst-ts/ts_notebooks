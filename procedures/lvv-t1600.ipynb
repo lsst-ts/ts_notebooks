{
 "cells": [
  {
   "cell_type": "markdown",
   "metadata": {},
   "source": [
    "# Test Case LVV-T1600\n",
    "This case will verify that the integration of the Camera Hexapod with SAL.\n",
    "The blocks below represent the steps of the test case.\n",
    "\n",
    "Requirements\n",
    "* EFD\n",
    "* Hexapod(s)powered on\n",
    "* Thermal sensors attached to the six actuators of the hexapod.\n",
    "* CSC running\n",
    "* KAFKA producer running\n",
    "\n",
    "This test will require manual verification of certain events and telemetry in the summit EFD.\n",
    "Also manual verification of appropriate temperatures for each actuator."
   ]
  },
  {
   "cell_type": "code",
   "execution_count": 1,
   "metadata": {},
   "outputs": [
    {
     "name": "stderr",
     "output_type": "stream",
     "text": [
      "/opt/lsst/software/stack/conda/miniconda3-py38_4.9.2/envs/lsst-scipipe-0.4.1/lib/python3.8/site-packages/jose/backends/cryptography_backend.py:23: CryptographyDeprecationWarning: int_from_bytes is deprecated, use int.from_bytes instead\n",
      "  from cryptography.utils import int_from_bytes, int_to_bytes\n"
     ]
    }
   ],
   "source": [
    "from lsst.ts import salobj\n",
    "from lsst.ts.idl.enums import MTHexapod\n",
    "import logging\n",
    "import asyncio\n",
    "import os\n",
    "import yaml\n",
    "\n",
    "import numpy as np\n",
    "from matplotlib import pyplot as plt\n",
    "from astropy.time import Time\n",
    "from datetime import datetime, timedelta\n",
    "import pandas as pd\n",
    "import astropy.units as u\n",
    "\n",
    "from lsst_efd_client import EfdClient\n",
    "\n",
    "from lsst.ts.idl.enums.MTHexapod import ApplicationStatus\n"
   ]
  },
  {
   "cell_type": "code",
   "execution_count": 2,
   "metadata": {},
   "outputs": [
    {
     "name": "stdout",
     "output_type": "stream",
     "text": [
      "file:///home/hdrass/WORK/ts_ddsconfig/config/ospl-sp.xml\n",
      "summit\n"
     ]
    }
   ],
   "source": [
    "print(os.environ[\"OSPL_URI\"])\n",
    "print(os.environ[\"LSST_DDS_PARTITION_PREFIX\"])"
   ]
  },
  {
   "cell_type": "code",
   "execution_count": 3,
   "metadata": {},
   "outputs": [
    {
     "name": "stdout",
     "output_type": "stream",
     "text": [
      "11\n"
     ]
    }
   ],
   "source": [
    "#This step should fail at NCSA since there is only one domain\n",
    "print(os.environ[\"LSST_DDS_DOMAIN_ID\"])"
   ]
  },
  {
   "cell_type": "code",
   "execution_count": 4,
   "metadata": {},
   "outputs": [
    {
     "name": "stdout",
     "output_type": "stream",
     "text": [
      "net1\n"
     ]
    }
   ],
   "source": [
    "print(os.environ[\"LSST_DDS_INTERFACE\"])"
   ]
  },
  {
   "cell_type": "markdown",
   "metadata": {},
   "source": [
    "The following block sets the necessary environment variables for setting up the DDS/SAL communication"
   ]
  },
  {
   "cell_type": "code",
   "execution_count": 5,
   "metadata": {},
   "outputs": [],
   "source": [
    "#Wait for history data [sec] default value is 60\n",
    "#os.environ[\"LSST_DDS_DOMAIN\"] = 'citest'\n",
    "#os.environ[\"LSST_DDS_HISTORYSYNC\"] = \"10\""
   ]
  },
  {
   "cell_type": "code",
   "execution_count": 6,
   "metadata": {},
   "outputs": [],
   "source": [
    "STD_WAIT = 39 # This is the amount of time to wait in between a move just to make sure that the actuators are not overheating"
   ]
  },
  {
   "cell_type": "code",
   "execution_count": 7,
   "metadata": {},
   "outputs": [],
   "source": [
    "log = logging.getLogger(__name__) # This sets up the logger for the test.\n",
    "#logging.setLevel(20)\n",
    "logging.basicConfig(level=logging.INFO)\n"
   ]
  },
  {
   "cell_type": "code",
   "execution_count": 8,
   "metadata": {},
   "outputs": [
    {
     "name": "stderr",
     "output_type": "stream",
     "text": [
      "INFO:Script:Read historical data in 0.00 sec\n"
     ]
    },
    {
     "name": "stdout",
     "output_type": "stream",
     "text": [
      "time to start is 0:00:12.015711 [s]\n"
     ]
    }
   ],
   "source": [
    "start_time = datetime.now()\n",
    "test_message = \"Camera Hexapod Integration Test\"\n",
    "#What means index=1 here?\n",
    "#script = salobj.Controller(\"Script\", index=1)\n",
    "script = salobj.Controller(\"Script\", index=42658885)\n",
    "await asyncio.sleep(10) #wait 10 second may help with DDS problems; closing all other kernels may help too\n",
    "print(f'time to start is {datetime.now() - start_time} [s]')"
   ]
  },
  {
   "cell_type": "code",
   "execution_count": 9,
   "metadata": {},
   "outputs": [],
   "source": [
    "await script.start_task"
   ]
  },
  {
   "cell_type": "markdown",
   "metadata": {},
   "source": [
    "This is how you start the remote for the CSC."
   ]
  },
  {
   "cell_type": "code",
   "execution_count": 11,
   "metadata": {},
   "outputs": [
    {
     "name": "stderr",
     "output_type": "stream",
     "text": [
      "INFO:MTHexapod:Read historical data in 0.00 sec\n"
     ]
    }
   ],
   "source": [
    "# create the remote\n",
    "#index=1 is the camera hexapod!! index=2 is the M2 hexapod!\n",
    "csc_index = 1\n",
    "hexapod_csc = salobj.Remote(name=\"MTHexapod\", domain=script.domain, index=csc_index)"
   ]
  },
  {
   "cell_type": "code",
   "execution_count": 12,
   "metadata": {},
   "outputs": [],
   "source": [
    "await hexapod_csc.start_task"
   ]
  },
  {
   "cell_type": "code",
   "execution_count": 13,
   "metadata": {},
   "outputs": [
    {
     "data": {
      "text/plain": [
       "<ddsutil.MTHexapod_logevent_heartbeat_8799b696 at 0x7f1d79702490>"
      ]
     },
     "execution_count": 13,
     "metadata": {},
     "output_type": "execute_result"
    }
   ],
   "source": [
    "await hexapod_csc.evt_heartbeat.next(flush=True, timeout=5)"
   ]
  },
  {
   "cell_type": "code",
   "execution_count": 15,
   "metadata": {},
   "outputs": [
    {
     "data": {
      "text/plain": [
       "[<State.STANDBY: 5>, <State.OFFLINE: 4>]"
      ]
     },
     "execution_count": 15,
     "metadata": {},
     "output_type": "execute_result"
    }
   ],
   "source": [
    "await salobj.set_summary_state(hexapod_csc, salobj.State.OFFLINE)"
   ]
  },
  {
   "cell_type": "code",
   "execution_count": 66,
   "metadata": {},
   "outputs": [
    {
     "ename": "RuntimeError",
     "evalue": "Error on cmd=cmd_standby, initial_state=3: msg='Command failed', ackcmd=(ackcmd private_seqNum=1873806286, ack=<SalRetCode.CMD_FAILED: -302>, error=1, result='Failed: You must use the clearError command or the engineering user interface to clear a rotator fault.')",
     "output_type": "error",
     "traceback": [
      "\u001b[0;31m---------------------------------------------------------------------------\u001b[0m",
      "\u001b[0;31mAckError\u001b[0m                                  Traceback (most recent call last)",
      "\u001b[0;32m/opt/lsst/src/ts_salobj/python/lsst/ts/salobj/csc_utils.py\u001b[0m in \u001b[0;36mset_summary_state\u001b[0;34m(remote, state, settingsToApply, timeout)\u001b[0m\n\u001b[1;32m    147\u001b[0m             \u001b[0;32mtry\u001b[0m\u001b[0;34m:\u001b[0m\u001b[0;34m\u001b[0m\u001b[0;34m\u001b[0m\u001b[0m\n\u001b[0;32m--> 148\u001b[0;31m                 \u001b[0;32mawait\u001b[0m \u001b[0mcmd\u001b[0m\u001b[0;34m.\u001b[0m\u001b[0mstart\u001b[0m\u001b[0;34m(\u001b[0m\u001b[0mtimeout\u001b[0m\u001b[0;34m=\u001b[0m\u001b[0mtimeout\u001b[0m\u001b[0;34m)\u001b[0m\u001b[0;34m\u001b[0m\u001b[0;34m\u001b[0m\u001b[0m\n\u001b[0m\u001b[1;32m    149\u001b[0m             \u001b[0;32mexcept\u001b[0m \u001b[0mException\u001b[0m \u001b[0;32mas\u001b[0m \u001b[0me\u001b[0m\u001b[0;34m:\u001b[0m\u001b[0;34m\u001b[0m\u001b[0;34m\u001b[0m\u001b[0m\n",
      "\u001b[0;32m/opt/lsst/src/ts_salobj/python/lsst/ts/salobj/topics/remote_command.py\u001b[0m in \u001b[0;36mstart\u001b[0;34m(self, data, timeout, wait_done)\u001b[0m\n\u001b[1;32m    445\u001b[0m         \u001b[0mself\u001b[0m\u001b[0;34m.\u001b[0m\u001b[0msalinfo\u001b[0m\u001b[0;34m.\u001b[0m\u001b[0m_running_cmds\u001b[0m\u001b[0;34m[\u001b[0m\u001b[0mseq_num\u001b[0m\u001b[0;34m]\u001b[0m \u001b[0;34m=\u001b[0m \u001b[0mcmd_info\u001b[0m\u001b[0;34m\u001b[0m\u001b[0;34m\u001b[0m\u001b[0m\n\u001b[0;32m--> 446\u001b[0;31m         \u001b[0;32mreturn\u001b[0m \u001b[0;32mawait\u001b[0m \u001b[0mcmd_info\u001b[0m\u001b[0;34m.\u001b[0m\u001b[0mnext_ackcmd\u001b[0m\u001b[0;34m(\u001b[0m\u001b[0mtimeout\u001b[0m\u001b[0;34m=\u001b[0m\u001b[0mtimeout\u001b[0m\u001b[0;34m)\u001b[0m\u001b[0;34m\u001b[0m\u001b[0;34m\u001b[0m\u001b[0m\n\u001b[0m",
      "\u001b[0;32m/opt/lsst/src/ts_salobj/python/lsst/ts/salobj/topics/remote_command.py\u001b[0m in \u001b[0;36mnext_ackcmd\u001b[0;34m(self, timeout)\u001b[0m\n\u001b[1;32m    182\u001b[0m             \u001b[0;32mif\u001b[0m \u001b[0mackcmd\u001b[0m\u001b[0;34m.\u001b[0m\u001b[0mack\u001b[0m \u001b[0;32min\u001b[0m \u001b[0mself\u001b[0m\u001b[0;34m.\u001b[0m\u001b[0mfailed_ack_codes\u001b[0m\u001b[0;34m:\u001b[0m\u001b[0;34m\u001b[0m\u001b[0;34m\u001b[0m\u001b[0m\n\u001b[0;32m--> 183\u001b[0;31m                 \u001b[0;32mraise\u001b[0m \u001b[0mbase\u001b[0m\u001b[0;34m.\u001b[0m\u001b[0mAckError\u001b[0m\u001b[0;34m(\u001b[0m\u001b[0mmsg\u001b[0m\u001b[0;34m=\u001b[0m\u001b[0;34m\"Command failed\"\u001b[0m\u001b[0;34m,\u001b[0m \u001b[0mackcmd\u001b[0m\u001b[0;34m=\u001b[0m\u001b[0mackcmd\u001b[0m\u001b[0;34m)\u001b[0m\u001b[0;34m\u001b[0m\u001b[0;34m\u001b[0m\u001b[0m\n\u001b[0m\u001b[1;32m    184\u001b[0m             \u001b[0;32mreturn\u001b[0m \u001b[0mackcmd\u001b[0m\u001b[0;34m\u001b[0m\u001b[0;34m\u001b[0m\u001b[0m\n",
      "\u001b[0;31mAckError\u001b[0m: msg='Command failed', ackcmd=(ackcmd private_seqNum=1873806286, ack=<SalRetCode.CMD_FAILED: -302>, error=1, result='Failed: You must use the clearError command or the engineering user interface to clear a rotator fault.')",
      "\nThe above exception was the direct cause of the following exception:\n",
      "\u001b[0;31mRuntimeError\u001b[0m                              Traceback (most recent call last)",
      "\u001b[0;32m<ipython-input-66-0d72bacc2c15>\u001b[0m in \u001b[0;36m<module>\u001b[0;34m\u001b[0m\n\u001b[0;32m----> 1\u001b[0;31m \u001b[0;32mawait\u001b[0m \u001b[0msalobj\u001b[0m\u001b[0;34m.\u001b[0m\u001b[0mset_summary_state\u001b[0m\u001b[0;34m(\u001b[0m\u001b[0mhexapod_csc\u001b[0m\u001b[0;34m,\u001b[0m \u001b[0msalobj\u001b[0m\u001b[0;34m.\u001b[0m\u001b[0mState\u001b[0m\u001b[0;34m.\u001b[0m\u001b[0mSTANDBY\u001b[0m\u001b[0;34m)\u001b[0m\u001b[0;34m\u001b[0m\u001b[0;34m\u001b[0m\u001b[0m\n\u001b[0m",
      "\u001b[0;32m/opt/lsst/src/ts_salobj/python/lsst/ts/salobj/csc_utils.py\u001b[0m in \u001b[0;36mset_summary_state\u001b[0;34m(remote, state, settingsToApply, timeout)\u001b[0m\n\u001b[1;32m    148\u001b[0m                 \u001b[0;32mawait\u001b[0m \u001b[0mcmd\u001b[0m\u001b[0;34m.\u001b[0m\u001b[0mstart\u001b[0m\u001b[0;34m(\u001b[0m\u001b[0mtimeout\u001b[0m\u001b[0;34m=\u001b[0m\u001b[0mtimeout\u001b[0m\u001b[0;34m)\u001b[0m\u001b[0;34m\u001b[0m\u001b[0;34m\u001b[0m\u001b[0m\n\u001b[1;32m    149\u001b[0m             \u001b[0;32mexcept\u001b[0m \u001b[0mException\u001b[0m \u001b[0;32mas\u001b[0m \u001b[0me\u001b[0m\u001b[0;34m:\u001b[0m\u001b[0;34m\u001b[0m\u001b[0;34m\u001b[0m\u001b[0m\n\u001b[0;32m--> 150\u001b[0;31m                 raise RuntimeError(\n\u001b[0m\u001b[1;32m    151\u001b[0m                     \u001b[0;34mf\"Error on cmd=cmd_{command}, initial_state={current_state}: {e}\"\u001b[0m\u001b[0;34m\u001b[0m\u001b[0;34m\u001b[0m\u001b[0m\n\u001b[1;32m    152\u001b[0m                 ) from e\n",
      "\u001b[0;31mRuntimeError\u001b[0m: Error on cmd=cmd_standby, initial_state=3: msg='Command failed', ackcmd=(ackcmd private_seqNum=1873806286, ack=<SalRetCode.CMD_FAILED: -302>, error=1, result='Failed: You must use the clearError command or the engineering user interface to clear a rotator fault.')"
     ]
    }
   ],
   "source": [
    "await salobj.set_summary_state(hexapod_csc, salobj.State.STANDBY)"
   ]
  },
  {
   "cell_type": "code",
   "execution_count": 19,
   "metadata": {},
   "outputs": [
    {
     "data": {
      "text/plain": [
       "[<State.STANDBY: 5>, <State.DISABLED: 1>]"
      ]
     },
     "execution_count": 19,
     "metadata": {},
     "output_type": "execute_result"
    }
   ],
   "source": [
    "await salobj.set_summary_state(hexapod_csc, salobj.State.DISABLED)"
   ]
  },
  {
   "cell_type": "code",
   "execution_count": 20,
   "metadata": {},
   "outputs": [
    {
     "data": {
      "text/plain": [
       "[<State.DISABLED: 1>, <State.ENABLED: 2>]"
      ]
     },
     "execution_count": 20,
     "metadata": {},
     "output_type": "execute_result"
    }
   ],
   "source": [
    "#This is to bring the state machine in the right starting state\n",
    "await salobj.set_summary_state(hexapod_csc, salobj.State.ENABLED)"
   ]
  },
  {
   "cell_type": "code",
   "execution_count": 21,
   "metadata": {},
   "outputs": [
    {
     "name": "stdout",
     "output_type": "stream",
     "text": [
      "<lsst.ts.salobj.remote.Remote object at 0x7f1d906ea760>\n",
      "Hexapod hex 1\n",
      "1\n"
     ]
    }
   ],
   "source": [
    "print(hexapod_csc)\n",
    "#Bo:Check which hexapod we are controlling\n",
    "whichHex1 = await hexapod_csc.evt_configuration.aget(timeout=10.)\n",
    "print(\"Hexapod hex\", whichHex1.MTHexapodID)\n",
    "print(hexapod_csc.salinfo.index)"
   ]
  },
  {
   "cell_type": "code",
   "execution_count": 22,
   "metadata": {},
   "outputs": [],
   "source": [
    "#This cell makes sure that the data go to EFD\n",
    "#may need to wait a few seconds before event shows up in EFD\n",
    "#client = EfdClient('ncsa_teststand_efd')\n",
    "client = EfdClient('summit_efd')"
   ]
  },
  {
   "cell_type": "code",
   "execution_count": 23,
   "metadata": {},
   "outputs": [],
   "source": [
    "end = Time(datetime.now())\n",
    "start = end - timedelta(hours=3)\n",
    "dfe = await client.select_time_series('lsst.sal.MTHexapod.logevent_summaryState', '*', start.tai, end.tai, csc_index)"
   ]
  },
  {
   "cell_type": "code",
   "execution_count": 24,
   "metadata": {},
   "outputs": [
    {
     "data": {
      "text/html": [
       "<div>\n",
       "<style scoped>\n",
       "    .dataframe tbody tr th:only-of-type {\n",
       "        vertical-align: middle;\n",
       "    }\n",
       "\n",
       "    .dataframe tbody tr th {\n",
       "        vertical-align: top;\n",
       "    }\n",
       "\n",
       "    .dataframe thead th {\n",
       "        text-align: right;\n",
       "    }\n",
       "</style>\n",
       "<table border=\"1\" class=\"dataframe\">\n",
       "  <thead>\n",
       "    <tr style=\"text-align: right;\">\n",
       "      <th></th>\n",
       "      <th>MTHexapodID</th>\n",
       "      <th>priority</th>\n",
       "      <th>private_host</th>\n",
       "      <th>private_identity</th>\n",
       "      <th>private_kafkaStamp</th>\n",
       "      <th>private_origin</th>\n",
       "      <th>private_rcvStamp</th>\n",
       "      <th>private_revCode</th>\n",
       "      <th>private_seqNum</th>\n",
       "      <th>private_sndStamp</th>\n",
       "      <th>summaryState</th>\n",
       "    </tr>\n",
       "  </thead>\n",
       "  <tbody>\n",
       "    <tr>\n",
       "      <th>2021-03-08 18:33:54.509000+00:00</th>\n",
       "      <td>1</td>\n",
       "      <td>0</td>\n",
       "      <td>0</td>\n",
       "      <td>MTHexapod:1</td>\n",
       "      <td>1.615228e+09</td>\n",
       "      <td>5360</td>\n",
       "      <td>1.615228e+09</td>\n",
       "      <td>959a0a03</td>\n",
       "      <td>16</td>\n",
       "      <td>1.615228e+09</td>\n",
       "      <td>3</td>\n",
       "    </tr>\n",
       "    <tr>\n",
       "      <th>2021-03-08 18:45:47.504000+00:00</th>\n",
       "      <td>1</td>\n",
       "      <td>0</td>\n",
       "      <td>0</td>\n",
       "      <td>MTHexapod:1</td>\n",
       "      <td>1.615229e+09</td>\n",
       "      <td>5360</td>\n",
       "      <td>1.615229e+09</td>\n",
       "      <td>959a0a03</td>\n",
       "      <td>17</td>\n",
       "      <td>1.615229e+09</td>\n",
       "      <td>5</td>\n",
       "    </tr>\n",
       "    <tr>\n",
       "      <th>2021-03-08 18:46:11.263000+00:00</th>\n",
       "      <td>1</td>\n",
       "      <td>0</td>\n",
       "      <td>0</td>\n",
       "      <td>MTHexapod:1</td>\n",
       "      <td>1.615229e+09</td>\n",
       "      <td>5360</td>\n",
       "      <td>1.615229e+09</td>\n",
       "      <td>959a0a03</td>\n",
       "      <td>18</td>\n",
       "      <td>1.615229e+09</td>\n",
       "      <td>4</td>\n",
       "    </tr>\n",
       "    <tr>\n",
       "      <th>2021-03-08 18:47:44.543000+00:00</th>\n",
       "      <td>1</td>\n",
       "      <td>0</td>\n",
       "      <td>0</td>\n",
       "      <td>MTHexapod:1</td>\n",
       "      <td>1.615229e+09</td>\n",
       "      <td>5360</td>\n",
       "      <td>1.615229e+09</td>\n",
       "      <td>959a0a03</td>\n",
       "      <td>19</td>\n",
       "      <td>1.615229e+09</td>\n",
       "      <td>5</td>\n",
       "    </tr>\n",
       "    <tr>\n",
       "      <th>2021-03-08 18:47:55.433000+00:00</th>\n",
       "      <td>1</td>\n",
       "      <td>0</td>\n",
       "      <td>0</td>\n",
       "      <td>MTHexapod:1</td>\n",
       "      <td>1.615229e+09</td>\n",
       "      <td>5360</td>\n",
       "      <td>1.615229e+09</td>\n",
       "      <td>959a0a03</td>\n",
       "      <td>20</td>\n",
       "      <td>1.615229e+09</td>\n",
       "      <td>1</td>\n",
       "    </tr>\n",
       "    <tr>\n",
       "      <th>2021-03-08 18:48:04.571000+00:00</th>\n",
       "      <td>1</td>\n",
       "      <td>0</td>\n",
       "      <td>0</td>\n",
       "      <td>MTHexapod:1</td>\n",
       "      <td>1.615229e+09</td>\n",
       "      <td>5360</td>\n",
       "      <td>1.615229e+09</td>\n",
       "      <td>959a0a03</td>\n",
       "      <td>21</td>\n",
       "      <td>1.615229e+09</td>\n",
       "      <td>2</td>\n",
       "    </tr>\n",
       "    <tr>\n",
       "      <th>2021-03-08 19:00:29.915000+00:00</th>\n",
       "      <td>1</td>\n",
       "      <td>0</td>\n",
       "      <td>0</td>\n",
       "      <td>MTHexapod:1</td>\n",
       "      <td>1.615230e+09</td>\n",
       "      <td>5360</td>\n",
       "      <td>1.615230e+09</td>\n",
       "      <td>959a0a03</td>\n",
       "      <td>22</td>\n",
       "      <td>1.615230e+09</td>\n",
       "      <td>1</td>\n",
       "    </tr>\n",
       "    <tr>\n",
       "      <th>2021-03-08 19:00:29.965000+00:00</th>\n",
       "      <td>1</td>\n",
       "      <td>0</td>\n",
       "      <td>0</td>\n",
       "      <td>MTHexapod:1</td>\n",
       "      <td>1.615230e+09</td>\n",
       "      <td>5360</td>\n",
       "      <td>1.615230e+09</td>\n",
       "      <td>959a0a03</td>\n",
       "      <td>23</td>\n",
       "      <td>1.615230e+09</td>\n",
       "      <td>5</td>\n",
       "    </tr>\n",
       "    <tr>\n",
       "      <th>2021-03-08 19:00:36.040000+00:00</th>\n",
       "      <td>1</td>\n",
       "      <td>0</td>\n",
       "      <td>0</td>\n",
       "      <td>MTHexapod:1</td>\n",
       "      <td>1.615230e+09</td>\n",
       "      <td>5360</td>\n",
       "      <td>1.615230e+09</td>\n",
       "      <td>959a0a03</td>\n",
       "      <td>24</td>\n",
       "      <td>1.615230e+09</td>\n",
       "      <td>4</td>\n",
       "    </tr>\n",
       "    <tr>\n",
       "      <th>2021-03-08 19:00:38.241000+00:00</th>\n",
       "      <td>1</td>\n",
       "      <td>0</td>\n",
       "      <td>0</td>\n",
       "      <td>MTHexapod:1</td>\n",
       "      <td>1.615230e+09</td>\n",
       "      <td>5360</td>\n",
       "      <td>1.615230e+09</td>\n",
       "      <td>959a0a03</td>\n",
       "      <td>25</td>\n",
       "      <td>1.615230e+09</td>\n",
       "      <td>5</td>\n",
       "    </tr>\n",
       "    <tr>\n",
       "      <th>2021-03-08 19:00:58.269000+00:00</th>\n",
       "      <td>1</td>\n",
       "      <td>0</td>\n",
       "      <td>0</td>\n",
       "      <td>MTHexapod:1</td>\n",
       "      <td>1.615230e+09</td>\n",
       "      <td>5360</td>\n",
       "      <td>1.615230e+09</td>\n",
       "      <td>959a0a03</td>\n",
       "      <td>26</td>\n",
       "      <td>1.615230e+09</td>\n",
       "      <td>1</td>\n",
       "    </tr>\n",
       "    <tr>\n",
       "      <th>2021-03-08 19:01:13.882000+00:00</th>\n",
       "      <td>1</td>\n",
       "      <td>0</td>\n",
       "      <td>0</td>\n",
       "      <td>MTHexapod:1</td>\n",
       "      <td>1.615230e+09</td>\n",
       "      <td>5360</td>\n",
       "      <td>1.615230e+09</td>\n",
       "      <td>959a0a03</td>\n",
       "      <td>27</td>\n",
       "      <td>1.615230e+09</td>\n",
       "      <td>5</td>\n",
       "    </tr>\n",
       "    <tr>\n",
       "      <th>2021-03-08 19:01:22.831000+00:00</th>\n",
       "      <td>1</td>\n",
       "      <td>0</td>\n",
       "      <td>0</td>\n",
       "      <td>MTHexapod:1</td>\n",
       "      <td>1.615230e+09</td>\n",
       "      <td>5360</td>\n",
       "      <td>1.615230e+09</td>\n",
       "      <td>959a0a03</td>\n",
       "      <td>28</td>\n",
       "      <td>1.615230e+09</td>\n",
       "      <td>1</td>\n",
       "    </tr>\n",
       "    <tr>\n",
       "      <th>2021-03-08 19:01:25.133000+00:00</th>\n",
       "      <td>1</td>\n",
       "      <td>0</td>\n",
       "      <td>0</td>\n",
       "      <td>MTHexapod:1</td>\n",
       "      <td>1.615230e+09</td>\n",
       "      <td>5360</td>\n",
       "      <td>1.615230e+09</td>\n",
       "      <td>959a0a03</td>\n",
       "      <td>29</td>\n",
       "      <td>1.615230e+09</td>\n",
       "      <td>2</td>\n",
       "    </tr>\n",
       "  </tbody>\n",
       "</table>\n",
       "</div>"
      ],
      "text/plain": [
       "                                  MTHexapodID  priority  private_host  \\\n",
       "2021-03-08 18:33:54.509000+00:00            1         0             0   \n",
       "2021-03-08 18:45:47.504000+00:00            1         0             0   \n",
       "2021-03-08 18:46:11.263000+00:00            1         0             0   \n",
       "2021-03-08 18:47:44.543000+00:00            1         0             0   \n",
       "2021-03-08 18:47:55.433000+00:00            1         0             0   \n",
       "2021-03-08 18:48:04.571000+00:00            1         0             0   \n",
       "2021-03-08 19:00:29.915000+00:00            1         0             0   \n",
       "2021-03-08 19:00:29.965000+00:00            1         0             0   \n",
       "2021-03-08 19:00:36.040000+00:00            1         0             0   \n",
       "2021-03-08 19:00:38.241000+00:00            1         0             0   \n",
       "2021-03-08 19:00:58.269000+00:00            1         0             0   \n",
       "2021-03-08 19:01:13.882000+00:00            1         0             0   \n",
       "2021-03-08 19:01:22.831000+00:00            1         0             0   \n",
       "2021-03-08 19:01:25.133000+00:00            1         0             0   \n",
       "\n",
       "                                 private_identity  private_kafkaStamp  \\\n",
       "2021-03-08 18:33:54.509000+00:00      MTHexapod:1        1.615228e+09   \n",
       "2021-03-08 18:45:47.504000+00:00      MTHexapod:1        1.615229e+09   \n",
       "2021-03-08 18:46:11.263000+00:00      MTHexapod:1        1.615229e+09   \n",
       "2021-03-08 18:47:44.543000+00:00      MTHexapod:1        1.615229e+09   \n",
       "2021-03-08 18:47:55.433000+00:00      MTHexapod:1        1.615229e+09   \n",
       "2021-03-08 18:48:04.571000+00:00      MTHexapod:1        1.615229e+09   \n",
       "2021-03-08 19:00:29.915000+00:00      MTHexapod:1        1.615230e+09   \n",
       "2021-03-08 19:00:29.965000+00:00      MTHexapod:1        1.615230e+09   \n",
       "2021-03-08 19:00:36.040000+00:00      MTHexapod:1        1.615230e+09   \n",
       "2021-03-08 19:00:38.241000+00:00      MTHexapod:1        1.615230e+09   \n",
       "2021-03-08 19:00:58.269000+00:00      MTHexapod:1        1.615230e+09   \n",
       "2021-03-08 19:01:13.882000+00:00      MTHexapod:1        1.615230e+09   \n",
       "2021-03-08 19:01:22.831000+00:00      MTHexapod:1        1.615230e+09   \n",
       "2021-03-08 19:01:25.133000+00:00      MTHexapod:1        1.615230e+09   \n",
       "\n",
       "                                  private_origin  private_rcvStamp  \\\n",
       "2021-03-08 18:33:54.509000+00:00            5360      1.615228e+09   \n",
       "2021-03-08 18:45:47.504000+00:00            5360      1.615229e+09   \n",
       "2021-03-08 18:46:11.263000+00:00            5360      1.615229e+09   \n",
       "2021-03-08 18:47:44.543000+00:00            5360      1.615229e+09   \n",
       "2021-03-08 18:47:55.433000+00:00            5360      1.615229e+09   \n",
       "2021-03-08 18:48:04.571000+00:00            5360      1.615229e+09   \n",
       "2021-03-08 19:00:29.915000+00:00            5360      1.615230e+09   \n",
       "2021-03-08 19:00:29.965000+00:00            5360      1.615230e+09   \n",
       "2021-03-08 19:00:36.040000+00:00            5360      1.615230e+09   \n",
       "2021-03-08 19:00:38.241000+00:00            5360      1.615230e+09   \n",
       "2021-03-08 19:00:58.269000+00:00            5360      1.615230e+09   \n",
       "2021-03-08 19:01:13.882000+00:00            5360      1.615230e+09   \n",
       "2021-03-08 19:01:22.831000+00:00            5360      1.615230e+09   \n",
       "2021-03-08 19:01:25.133000+00:00            5360      1.615230e+09   \n",
       "\n",
       "                                 private_revCode  private_seqNum  \\\n",
       "2021-03-08 18:33:54.509000+00:00        959a0a03              16   \n",
       "2021-03-08 18:45:47.504000+00:00        959a0a03              17   \n",
       "2021-03-08 18:46:11.263000+00:00        959a0a03              18   \n",
       "2021-03-08 18:47:44.543000+00:00        959a0a03              19   \n",
       "2021-03-08 18:47:55.433000+00:00        959a0a03              20   \n",
       "2021-03-08 18:48:04.571000+00:00        959a0a03              21   \n",
       "2021-03-08 19:00:29.915000+00:00        959a0a03              22   \n",
       "2021-03-08 19:00:29.965000+00:00        959a0a03              23   \n",
       "2021-03-08 19:00:36.040000+00:00        959a0a03              24   \n",
       "2021-03-08 19:00:38.241000+00:00        959a0a03              25   \n",
       "2021-03-08 19:00:58.269000+00:00        959a0a03              26   \n",
       "2021-03-08 19:01:13.882000+00:00        959a0a03              27   \n",
       "2021-03-08 19:01:22.831000+00:00        959a0a03              28   \n",
       "2021-03-08 19:01:25.133000+00:00        959a0a03              29   \n",
       "\n",
       "                                  private_sndStamp  summaryState  \n",
       "2021-03-08 18:33:54.509000+00:00      1.615228e+09             3  \n",
       "2021-03-08 18:45:47.504000+00:00      1.615229e+09             5  \n",
       "2021-03-08 18:46:11.263000+00:00      1.615229e+09             4  \n",
       "2021-03-08 18:47:44.543000+00:00      1.615229e+09             5  \n",
       "2021-03-08 18:47:55.433000+00:00      1.615229e+09             1  \n",
       "2021-03-08 18:48:04.571000+00:00      1.615229e+09             2  \n",
       "2021-03-08 19:00:29.915000+00:00      1.615230e+09             1  \n",
       "2021-03-08 19:00:29.965000+00:00      1.615230e+09             5  \n",
       "2021-03-08 19:00:36.040000+00:00      1.615230e+09             4  \n",
       "2021-03-08 19:00:38.241000+00:00      1.615230e+09             5  \n",
       "2021-03-08 19:00:58.269000+00:00      1.615230e+09             1  \n",
       "2021-03-08 19:01:13.882000+00:00      1.615230e+09             5  \n",
       "2021-03-08 19:01:22.831000+00:00      1.615230e+09             1  \n",
       "2021-03-08 19:01:25.133000+00:00      1.615230e+09             2  "
      ]
     },
     "execution_count": 24,
     "metadata": {},
     "output_type": "execute_result"
    }
   ],
   "source": [
    "dfe"
   ]
  },
  {
   "cell_type": "code",
   "execution_count": 25,
   "metadata": {},
   "outputs": [],
   "source": [
    "def enabled_substate_callback(evt):\n",
    "    \"\"\"Print the enabled substate when event is received.\"\"\"\n",
    "    print(MTHexapod.EnabledSubstate(evt.enabledSubstate))"
   ]
  },
  {
   "cell_type": "code",
   "execution_count": 26,
   "metadata": {},
   "outputs": [],
   "source": [
    "def in_position_callback(evt):\n",
    "    \"\"\"Print the in position event when it is received.\"\"\"\n",
    "    print(evt.in_position)"
   ]
  },
  {
   "cell_type": "markdown",
   "metadata": {},
   "source": [
    "This next block will make sure that the CSC is ready for the test"
   ]
  },
  {
   "cell_type": "code",
   "execution_count": 27,
   "metadata": {},
   "outputs": [],
   "source": [
    "connected = await hexapod_csc.evt_connected.aget() # This is how you get an event/telemetry with await remote.type_name.aget() type being [evt,tel] and name being the name of the topic\n",
    "#commandable = connected.command\n",
    "telemetry_working = connected.telemetry\n",
    "\n",
    "if not connected or not telemetry_working:\n",
    "    raise Exception(\"Hexapod not connected or telemetry not being received.\") "
   ]
  },
  {
   "cell_type": "code",
   "execution_count": 28,
   "metadata": {},
   "outputs": [
    {
     "name": "stdout",
     "output_type": "stream",
     "text": [
      "2\n"
     ]
    }
   ],
   "source": [
    "controller_state = await hexapod_csc.evt_controllerState.aget()\n",
    "state = controller_state.controllerState\n",
    "offline_substate = controller_state.offlineSubstate\n",
    "print(state)\n",
    "#This is only for the real system. The simulater only has the AVAILABLE offline state \n",
    "\n",
    "'''  \n",
    "if not state == salobj.State.OFFLINE and not offline_substate == MTHexapod.OfflineSubstate.AVAILABLE:\n",
    "    raise Exception(\"Controller must be changed to Available Offline Substate.\")\n",
    "'''\n",
    "commandable_by_dds = await hexapod_csc.evt_commandableByDDS.aget()\n",
    "dds_state = commandable_by_dds.state\n",
    "if not dds_state:\n",
    "    raise Exception(\"Controller must in CommandableByDDS state.\")"
   ]
  },
  {
   "cell_type": "markdown",
   "metadata": {},
   "source": [
    "The next four blocks bring the CSC to the Enabled state."
   ]
  },
  {
   "cell_type": "code",
   "execution_count": null,
   "metadata": {},
   "outputs": [],
   "source": [
    "await hexapod_csc.cmd_enterControl.set_start() # Send the enterControl command notice the casing and the set_start method"
   ]
  },
  {
   "cell_type": "code",
   "execution_count": null,
   "metadata": {
    "scrolled": true
   },
   "outputs": [],
   "source": [
    "await hexapod_csc.cmd_start.set_start() "
   ]
  },
  {
   "cell_type": "code",
   "execution_count": null,
   "metadata": {},
   "outputs": [],
   "source": [
    "await hexapod_csc.cmd_enable.set_start()"
   ]
  },
  {
   "cell_type": "code",
   "execution_count": 65,
   "metadata": {
    "scrolled": true
   },
   "outputs": [
    {
     "ename": "AckError",
     "evalue": "msg='Command failed', ackcmd=(ackcmd private_seqNum=155001503, ack=<SalRetCode.CMD_FAILED: -302>, error=1, result='Failed: Failed: final state is <State.FAULT: 3> instead of <State.STANDBY: 5>')",
     "output_type": "error",
     "traceback": [
      "\u001b[0;31m---------------------------------------------------------------------------\u001b[0m",
      "\u001b[0;31mAckError\u001b[0m                                  Traceback (most recent call last)",
      "\u001b[0;32m<ipython-input-65-0b82bbd9eddd>\u001b[0m in \u001b[0;36m<module>\u001b[0;34m\u001b[0m\n\u001b[0;32m----> 1\u001b[0;31m \u001b[0;32mawait\u001b[0m \u001b[0mhexapod_csc\u001b[0m\u001b[0;34m.\u001b[0m\u001b[0mcmd_clearError\u001b[0m\u001b[0;34m.\u001b[0m\u001b[0mset_start\u001b[0m\u001b[0;34m(\u001b[0m\u001b[0;34m)\u001b[0m \u001b[0;31m# This clears the error\u001b[0m\u001b[0;34m\u001b[0m\u001b[0;34m\u001b[0m\u001b[0m\n\u001b[0m",
      "\u001b[0;32m/opt/lsst/src/ts_salobj/python/lsst/ts/salobj/topics/remote_command.py\u001b[0m in \u001b[0;36mset_start\u001b[0;34m(self, timeout, wait_done, **kwargs)\u001b[0m\n\u001b[1;32m    389\u001b[0m         \"\"\"\n\u001b[1;32m    390\u001b[0m         \u001b[0mself\u001b[0m\u001b[0;34m.\u001b[0m\u001b[0mset\u001b[0m\u001b[0;34m(\u001b[0m\u001b[0;34m**\u001b[0m\u001b[0mkwargs\u001b[0m\u001b[0;34m)\u001b[0m\u001b[0;34m\u001b[0m\u001b[0;34m\u001b[0m\u001b[0m\n\u001b[0;32m--> 391\u001b[0;31m         \u001b[0;32mreturn\u001b[0m \u001b[0;32mawait\u001b[0m \u001b[0mself\u001b[0m\u001b[0;34m.\u001b[0m\u001b[0mstart\u001b[0m\u001b[0;34m(\u001b[0m\u001b[0mtimeout\u001b[0m\u001b[0;34m=\u001b[0m\u001b[0mtimeout\u001b[0m\u001b[0;34m,\u001b[0m \u001b[0mwait_done\u001b[0m\u001b[0;34m=\u001b[0m\u001b[0mwait_done\u001b[0m\u001b[0;34m)\u001b[0m\u001b[0;34m\u001b[0m\u001b[0;34m\u001b[0m\u001b[0m\n\u001b[0m\u001b[1;32m    392\u001b[0m \u001b[0;34m\u001b[0m\u001b[0m\n\u001b[1;32m    393\u001b[0m     \u001b[0;32masync\u001b[0m \u001b[0;32mdef\u001b[0m \u001b[0mstart\u001b[0m\u001b[0;34m(\u001b[0m\u001b[0mself\u001b[0m\u001b[0;34m,\u001b[0m \u001b[0mdata\u001b[0m\u001b[0;34m=\u001b[0m\u001b[0;32mNone\u001b[0m\u001b[0;34m,\u001b[0m \u001b[0mtimeout\u001b[0m\u001b[0;34m=\u001b[0m\u001b[0mDEFAULT_TIMEOUT\u001b[0m\u001b[0;34m,\u001b[0m \u001b[0mwait_done\u001b[0m\u001b[0;34m=\u001b[0m\u001b[0;32mTrue\u001b[0m\u001b[0;34m)\u001b[0m\u001b[0;34m:\u001b[0m\u001b[0;34m\u001b[0m\u001b[0;34m\u001b[0m\u001b[0m\n",
      "\u001b[0;32m/opt/lsst/src/ts_salobj/python/lsst/ts/salobj/topics/remote_command.py\u001b[0m in \u001b[0;36mstart\u001b[0;34m(self, data, timeout, wait_done)\u001b[0m\n\u001b[1;32m    444\u001b[0m         )\n\u001b[1;32m    445\u001b[0m         \u001b[0mself\u001b[0m\u001b[0;34m.\u001b[0m\u001b[0msalinfo\u001b[0m\u001b[0;34m.\u001b[0m\u001b[0m_running_cmds\u001b[0m\u001b[0;34m[\u001b[0m\u001b[0mseq_num\u001b[0m\u001b[0;34m]\u001b[0m \u001b[0;34m=\u001b[0m \u001b[0mcmd_info\u001b[0m\u001b[0;34m\u001b[0m\u001b[0;34m\u001b[0m\u001b[0m\n\u001b[0;32m--> 446\u001b[0;31m         \u001b[0;32mreturn\u001b[0m \u001b[0;32mawait\u001b[0m \u001b[0mcmd_info\u001b[0m\u001b[0;34m.\u001b[0m\u001b[0mnext_ackcmd\u001b[0m\u001b[0;34m(\u001b[0m\u001b[0mtimeout\u001b[0m\u001b[0;34m=\u001b[0m\u001b[0mtimeout\u001b[0m\u001b[0;34m)\u001b[0m\u001b[0;34m\u001b[0m\u001b[0;34m\u001b[0m\u001b[0m\n\u001b[0m",
      "\u001b[0;32m/opt/lsst/src/ts_salobj/python/lsst/ts/salobj/topics/remote_command.py\u001b[0m in \u001b[0;36mnext_ackcmd\u001b[0;34m(self, timeout)\u001b[0m\n\u001b[1;32m    181\u001b[0m             \u001b[0mackcmd\u001b[0m \u001b[0;34m=\u001b[0m \u001b[0;32mawait\u001b[0m \u001b[0mself\u001b[0m\u001b[0;34m.\u001b[0m\u001b[0m_wait_task\u001b[0m\u001b[0;34m\u001b[0m\u001b[0;34m\u001b[0m\u001b[0m\n\u001b[1;32m    182\u001b[0m             \u001b[0;32mif\u001b[0m \u001b[0mackcmd\u001b[0m\u001b[0;34m.\u001b[0m\u001b[0mack\u001b[0m \u001b[0;32min\u001b[0m \u001b[0mself\u001b[0m\u001b[0;34m.\u001b[0m\u001b[0mfailed_ack_codes\u001b[0m\u001b[0;34m:\u001b[0m\u001b[0;34m\u001b[0m\u001b[0;34m\u001b[0m\u001b[0m\n\u001b[0;32m--> 183\u001b[0;31m                 \u001b[0;32mraise\u001b[0m \u001b[0mbase\u001b[0m\u001b[0;34m.\u001b[0m\u001b[0mAckError\u001b[0m\u001b[0;34m(\u001b[0m\u001b[0mmsg\u001b[0m\u001b[0;34m=\u001b[0m\u001b[0;34m\"Command failed\"\u001b[0m\u001b[0;34m,\u001b[0m \u001b[0mackcmd\u001b[0m\u001b[0;34m=\u001b[0m\u001b[0mackcmd\u001b[0m\u001b[0;34m)\u001b[0m\u001b[0;34m\u001b[0m\u001b[0;34m\u001b[0m\u001b[0m\n\u001b[0m\u001b[1;32m    184\u001b[0m             \u001b[0;32mreturn\u001b[0m \u001b[0mackcmd\u001b[0m\u001b[0;34m\u001b[0m\u001b[0;34m\u001b[0m\u001b[0m\n\u001b[1;32m    185\u001b[0m         \u001b[0;32mexcept\u001b[0m \u001b[0masyncio\u001b[0m\u001b[0;34m.\u001b[0m\u001b[0mTimeoutError\u001b[0m\u001b[0;34m:\u001b[0m\u001b[0;34m\u001b[0m\u001b[0;34m\u001b[0m\u001b[0m\n",
      "\u001b[0;31mAckError\u001b[0m: msg='Command failed', ackcmd=(ackcmd private_seqNum=155001503, ack=<SalRetCode.CMD_FAILED: -302>, error=1, result='Failed: Failed: final state is <State.FAULT: 3> instead of <State.STANDBY: 5>')"
     ]
    }
   ],
   "source": [
    "await hexapod_csc.cmd_clearError.set_start() # This clears the error"
   ]
  },
  {
   "cell_type": "markdown",
   "metadata": {},
   "source": [
    "# thermal sensors\n",
    "Check the chronograph manually for the temperature sensors to be below 19C, if not wait until they are all below 19C. Enter in the data at the 39 second mark\n",
    "\n",
    "|Actuator 1 (C)|Actuator 2 (C) | Actuator 3 (C) | Actuator 4 (C) | Actuator 5 (C) | Actuator 6 (C)|\n",
    "|--------------|---------------|----------------|----------------|----------------|---------------|\n",
    "| 0 | 0 | 0 | 0 | 0 | 0 |"
   ]
  },
  {
   "cell_type": "code",
   "execution_count": null,
   "metadata": {},
   "outputs": [],
   "source": [
    "# Step skiped see deviation LVV-T1802 Test Step 5                                  \n",
    "#hexapod_csc.evt_controllerState.callback = enabled_substate_callback                                \n",
    "#await hexapod_csc.cmd_move.set_start(x=5660,y=0,z=7730, u=0.17,v=0,w=0,sync=True)\n",
    "\n"
   ]
  },
  {
   "cell_type": "code",
   "execution_count": 67,
   "metadata": {
    "scrolled": true
   },
   "outputs": [
    {
     "ename": "AckError",
     "evalue": "msg='Command failed', ackcmd=(ackcmd private_seqNum=2108132280, ack=<SalRetCode.CMD_FAILED: -302>, error=1, result='Failed: Not enabled')",
     "output_type": "error",
     "traceback": [
      "\u001b[0;31m---------------------------------------------------------------------------\u001b[0m",
      "\u001b[0;31mAckError\u001b[0m                                  Traceback (most recent call last)",
      "\u001b[0;32m<ipython-input-67-adfde1975d15>\u001b[0m in \u001b[0;36m<module>\u001b[0;34m\u001b[0m\n\u001b[1;32m      1\u001b[0m \u001b[0;31m#Command used to stop the hexapod\u001b[0m\u001b[0;34m\u001b[0m\u001b[0;34m\u001b[0m\u001b[0;34m\u001b[0m\u001b[0m\n\u001b[0;32m----> 2\u001b[0;31m \u001b[0;32mawait\u001b[0m \u001b[0mhexapod_csc\u001b[0m\u001b[0;34m.\u001b[0m\u001b[0mcmd_stop\u001b[0m\u001b[0;34m.\u001b[0m\u001b[0mset_start\u001b[0m\u001b[0;34m(\u001b[0m\u001b[0;34m)\u001b[0m\u001b[0;34m\u001b[0m\u001b[0;34m\u001b[0m\u001b[0m\n\u001b[0m",
      "\u001b[0;32m/opt/lsst/src/ts_salobj/python/lsst/ts/salobj/topics/remote_command.py\u001b[0m in \u001b[0;36mset_start\u001b[0;34m(self, timeout, wait_done, **kwargs)\u001b[0m\n\u001b[1;32m    389\u001b[0m         \"\"\"\n\u001b[1;32m    390\u001b[0m         \u001b[0mself\u001b[0m\u001b[0;34m.\u001b[0m\u001b[0mset\u001b[0m\u001b[0;34m(\u001b[0m\u001b[0;34m**\u001b[0m\u001b[0mkwargs\u001b[0m\u001b[0;34m)\u001b[0m\u001b[0;34m\u001b[0m\u001b[0;34m\u001b[0m\u001b[0m\n\u001b[0;32m--> 391\u001b[0;31m         \u001b[0;32mreturn\u001b[0m \u001b[0;32mawait\u001b[0m \u001b[0mself\u001b[0m\u001b[0;34m.\u001b[0m\u001b[0mstart\u001b[0m\u001b[0;34m(\u001b[0m\u001b[0mtimeout\u001b[0m\u001b[0;34m=\u001b[0m\u001b[0mtimeout\u001b[0m\u001b[0;34m,\u001b[0m \u001b[0mwait_done\u001b[0m\u001b[0;34m=\u001b[0m\u001b[0mwait_done\u001b[0m\u001b[0;34m)\u001b[0m\u001b[0;34m\u001b[0m\u001b[0;34m\u001b[0m\u001b[0m\n\u001b[0m\u001b[1;32m    392\u001b[0m \u001b[0;34m\u001b[0m\u001b[0m\n\u001b[1;32m    393\u001b[0m     \u001b[0;32masync\u001b[0m \u001b[0;32mdef\u001b[0m \u001b[0mstart\u001b[0m\u001b[0;34m(\u001b[0m\u001b[0mself\u001b[0m\u001b[0;34m,\u001b[0m \u001b[0mdata\u001b[0m\u001b[0;34m=\u001b[0m\u001b[0;32mNone\u001b[0m\u001b[0;34m,\u001b[0m \u001b[0mtimeout\u001b[0m\u001b[0;34m=\u001b[0m\u001b[0mDEFAULT_TIMEOUT\u001b[0m\u001b[0;34m,\u001b[0m \u001b[0mwait_done\u001b[0m\u001b[0;34m=\u001b[0m\u001b[0;32mTrue\u001b[0m\u001b[0;34m)\u001b[0m\u001b[0;34m:\u001b[0m\u001b[0;34m\u001b[0m\u001b[0;34m\u001b[0m\u001b[0m\n",
      "\u001b[0;32m/opt/lsst/src/ts_salobj/python/lsst/ts/salobj/topics/remote_command.py\u001b[0m in \u001b[0;36mstart\u001b[0;34m(self, data, timeout, wait_done)\u001b[0m\n\u001b[1;32m    444\u001b[0m         )\n\u001b[1;32m    445\u001b[0m         \u001b[0mself\u001b[0m\u001b[0;34m.\u001b[0m\u001b[0msalinfo\u001b[0m\u001b[0;34m.\u001b[0m\u001b[0m_running_cmds\u001b[0m\u001b[0;34m[\u001b[0m\u001b[0mseq_num\u001b[0m\u001b[0;34m]\u001b[0m \u001b[0;34m=\u001b[0m \u001b[0mcmd_info\u001b[0m\u001b[0;34m\u001b[0m\u001b[0;34m\u001b[0m\u001b[0m\n\u001b[0;32m--> 446\u001b[0;31m         \u001b[0;32mreturn\u001b[0m \u001b[0;32mawait\u001b[0m \u001b[0mcmd_info\u001b[0m\u001b[0;34m.\u001b[0m\u001b[0mnext_ackcmd\u001b[0m\u001b[0;34m(\u001b[0m\u001b[0mtimeout\u001b[0m\u001b[0;34m=\u001b[0m\u001b[0mtimeout\u001b[0m\u001b[0;34m)\u001b[0m\u001b[0;34m\u001b[0m\u001b[0;34m\u001b[0m\u001b[0m\n\u001b[0m",
      "\u001b[0;32m/opt/lsst/src/ts_salobj/python/lsst/ts/salobj/topics/remote_command.py\u001b[0m in \u001b[0;36mnext_ackcmd\u001b[0;34m(self, timeout)\u001b[0m\n\u001b[1;32m    181\u001b[0m             \u001b[0mackcmd\u001b[0m \u001b[0;34m=\u001b[0m \u001b[0;32mawait\u001b[0m \u001b[0mself\u001b[0m\u001b[0;34m.\u001b[0m\u001b[0m_wait_task\u001b[0m\u001b[0;34m\u001b[0m\u001b[0;34m\u001b[0m\u001b[0m\n\u001b[1;32m    182\u001b[0m             \u001b[0;32mif\u001b[0m \u001b[0mackcmd\u001b[0m\u001b[0;34m.\u001b[0m\u001b[0mack\u001b[0m \u001b[0;32min\u001b[0m \u001b[0mself\u001b[0m\u001b[0;34m.\u001b[0m\u001b[0mfailed_ack_codes\u001b[0m\u001b[0;34m:\u001b[0m\u001b[0;34m\u001b[0m\u001b[0;34m\u001b[0m\u001b[0m\n\u001b[0;32m--> 183\u001b[0;31m                 \u001b[0;32mraise\u001b[0m \u001b[0mbase\u001b[0m\u001b[0;34m.\u001b[0m\u001b[0mAckError\u001b[0m\u001b[0;34m(\u001b[0m\u001b[0mmsg\u001b[0m\u001b[0;34m=\u001b[0m\u001b[0;34m\"Command failed\"\u001b[0m\u001b[0;34m,\u001b[0m \u001b[0mackcmd\u001b[0m\u001b[0;34m=\u001b[0m\u001b[0mackcmd\u001b[0m\u001b[0;34m)\u001b[0m\u001b[0;34m\u001b[0m\u001b[0;34m\u001b[0m\u001b[0m\n\u001b[0m\u001b[1;32m    184\u001b[0m             \u001b[0;32mreturn\u001b[0m \u001b[0mackcmd\u001b[0m\u001b[0;34m\u001b[0m\u001b[0;34m\u001b[0m\u001b[0m\n\u001b[1;32m    185\u001b[0m         \u001b[0;32mexcept\u001b[0m \u001b[0masyncio\u001b[0m\u001b[0;34m.\u001b[0m\u001b[0mTimeoutError\u001b[0m\u001b[0;34m:\u001b[0m\u001b[0;34m\u001b[0m\u001b[0;34m\u001b[0m\u001b[0m\n",
      "\u001b[0;31mAckError\u001b[0m: msg='Command failed', ackcmd=(ackcmd private_seqNum=2108132280, ack=<SalRetCode.CMD_FAILED: -302>, error=1, result='Failed: Not enabled')"
     ]
    },
    {
     "name": "stdout",
     "output_type": "stream",
     "text": [
      "EnabledSubstate.STATIONARY\n",
      "EnabledSubstate.STATIONARY\n"
     ]
    }
   ],
   "source": [
    "#Command used to stop the hexapod \n",
    "await hexapod_csc.cmd_stop.set_start()"
   ]
  },
  {
   "cell_type": "code",
   "execution_count": 54,
   "metadata": {},
   "outputs": [
    {
     "data": {
      "text/plain": [
       "<ddsutil.MTHexapod_ackcmd_da0a635d at 0x7f1d79628820>"
      ]
     },
     "execution_count": 54,
     "metadata": {},
     "output_type": "execute_result"
    },
    {
     "name": "stdout",
     "output_type": "stream",
     "text": [
      "EnabledSubstate.MOVING_POINT_TO_POINT\n",
      "EnabledSubstate.STATIONARY\n"
     ]
    }
   ],
   "source": [
    "#This command is to set the Hexapod to zero position\n",
    "await hexapod_csc.cmd_move.set_start(x=0,y=0,z=0, u=0,v=0,w=0,sync=True)"
   ]
  },
  {
   "cell_type": "code",
   "execution_count": 31,
   "metadata": {},
   "outputs": [
    {
     "name": "stderr",
     "output_type": "stream",
     "text": [
      "INFO:Script:TEST to see if annotations like this arrive in the EFD.\n"
     ]
    }
   ],
   "source": [
    "script.log.info(f\"TEST to see if annotations like this arrive in the EFD.\")"
   ]
  },
  {
   "cell_type": "code",
   "execution_count": 32,
   "metadata": {},
   "outputs": [
    {
     "name": "stderr",
     "output_type": "stream",
     "text": [
      "INFO:Script:START- Camera Hexapod Integration Test -- LVV-T1600 Test Step 7 - Starting time: 2021-03-08 19:05:44.555162 UTC\n"
     ]
    },
    {
     "name": "stdout",
     "output_type": "stream",
     "text": [
      "hex position\n",
      "     -0.18       -0.93       -0.01       -0.00       -0.00        0.00  \n",
      "\n"
     ]
    }
   ],
   "source": [
    "now = datetime.now()\n",
    "script.log.info(f\"START- {test_message} -- LVV-T1600 Test Step 7 - Starting time: {now} UTC\")\n",
    "\n",
    "pos = await hexapod_csc.tel_application.aget(timeout=10.)\n",
    "print('hex position')\n",
    "for i in range(6):\n",
    "    print('%10.2f '%pos.position[i], end= ' ')\n",
    "print('\\n')"
   ]
  },
  {
   "cell_type": "code",
   "execution_count": 33,
   "metadata": {},
   "outputs": [
    {
     "name": "stdout",
     "output_type": "stream",
     "text": [
      "EnabledSubstate.MOVING_POINT_TO_POINT\n",
      "EnabledSubstate.STATIONARY\n"
     ]
    },
    {
     "name": "stderr",
     "output_type": "stream",
     "text": [
      "INFO:Script:STOP- Camera Hexapod Integration Test -- LVV-T1600 Test Step 7\n"
     ]
    },
    {
     "name": "stdout",
     "output_type": "stream",
     "text": [
      "hex position\n",
      "    500.17     -501.01      200.03        0.01       -0.02       -0.00  \n",
      "\n"
     ]
    }
   ],
   "source": [
    "hexapod_csc.evt_controllerState.callback = enabled_substate_callback                                \n",
    "await hexapod_csc.cmd_move.set_start(x=500,y=-500,z=200, u=0.01,v=-0.015,w=0,sync=True)\n",
    "await asyncio.sleep(15.)\n",
    "pos = await hexapod_csc.tel_application.aget(timeout=10.)\n",
    "print('hex position')\n",
    "for i in range(6):\n",
    "    print('%10.2f '%pos.position[i], end= ' ')\n",
    "print('\\n')\n",
    "\n",
    "script.log.info(f\"STOP- {test_message} -- LVV-T1600 Test Step 7\")"
   ]
  },
  {
   "cell_type": "code",
   "execution_count": 34,
   "metadata": {},
   "outputs": [
    {
     "data": {
      "text/plain": [
       "<ddsutil.MTHexapod_ackcmd_da0a635d at 0x7f1d790689d0>"
      ]
     },
     "execution_count": 34,
     "metadata": {},
     "output_type": "execute_result"
    },
    {
     "name": "stdout",
     "output_type": "stream",
     "text": [
      "EnabledSubstate.MOVING_POINT_TO_POINT\n"
     ]
    }
   ],
   "source": [
    "#This command is to set the Hexapod to zero position\n",
    "await hexapod_csc.cmd_move.set_start(x=0,y=0,z=0, u=0,v=0,w=0,sync=True)"
   ]
  },
  {
   "cell_type": "code",
   "execution_count": 35,
   "metadata": {},
   "outputs": [
    {
     "name": "stdout",
     "output_type": "stream",
     "text": [
      "EnabledSubstate.STATIONARY\n"
     ]
    }
   ],
   "source": [
    "await asyncio.sleep(STD_WAIT)\n",
    "# thermal sensors"
   ]
  },
  {
   "cell_type": "markdown",
   "metadata": {},
   "source": [
    "# thermal sensors\n",
    "Check the chronograph manually for the temperature sensors to be below 19C, if not wait until they are all below 19C. Enter in the data at the 39 second mark\n",
    "\n",
    "|Actuator 1 (C)|Actuator 2 (C) | Actuator 3 (C) | Actuator 4 (C) | Actuator 5 (C) | Actuator 6 (C)|\n",
    "|--------------|---------------|----------------|----------------|----------------|---------------|\n",
    "| 0 | 0 | 0 | 0 | 0 | 0 |"
   ]
  },
  {
   "cell_type": "code",
   "execution_count": 36,
   "metadata": {},
   "outputs": [],
   "source": [
    "# thermal sensors"
   ]
  },
  {
   "cell_type": "markdown",
   "metadata": {},
   "source": [
    "This block moves the hexapod to a large position but stops it after waiting 3 seconds"
   ]
  },
  {
   "cell_type": "code",
   "execution_count": 41,
   "metadata": {},
   "outputs": [
    {
     "name": "stderr",
     "output_type": "stream",
     "text": [
      "INFO:Script:START- Camera Hexapod Integration Test -- LVV-T1600 Test Step 11- Starting time: 2021-03-08 19:17:38.449505 UTC\n"
     ]
    },
    {
     "name": "stdout",
     "output_type": "stream",
     "text": [
      "hex position\n",
      "     -0.54       -0.73       -0.11       -0.00        0.00       -0.00  \n",
      "\n"
     ]
    }
   ],
   "source": [
    "now = datetime.now()\n",
    "script.log.info(f\"START- {test_message} -- LVV-T1600 Test Step 11- Starting time: {now} UTC\")\n",
    "\n",
    "pos = await hexapod_csc.tel_application.aget(timeout=10.)\n",
    "print('hex position')\n",
    "for i in range(6):\n",
    "    print('%10.2f '%pos.position[i], end= ' ')\n",
    "print('\\n')"
   ]
  },
  {
   "cell_type": "code",
   "execution_count": 42,
   "metadata": {},
   "outputs": [
    {
     "name": "stdout",
     "output_type": "stream",
     "text": [
      "EnabledSubstate.MOVING_POINT_TO_POINT\n",
      "EnabledSubstate.STATIONARY\n"
     ]
    },
    {
     "name": "stderr",
     "output_type": "stream",
     "text": [
      "INFO:Script:STOP- Camera Hexapod Integration Test -- LVV-T1600 Test Step 11\n"
     ]
    },
    {
     "name": "stdout",
     "output_type": "stream",
     "text": [
      "hex position\n",
      "      0.51        0.45     1516.90        0.00       -0.00        0.00  \n",
      "\n"
     ]
    }
   ],
   "source": [
    "await hexapod_csc.cmd_move.set_start(x=0,y=0,z=5000,u=0,v=0,w=0,sync=True)\n",
    "await asyncio.sleep(3)\n",
    "await hexapod_csc.cmd_stop.set_start()\n",
    "\n",
    "await asyncio.sleep(15.)\n",
    "\n",
    "pos = await hexapod_csc.tel_application.aget(timeout=10.)\n",
    "print('hex position')\n",
    "for i in range(6):\n",
    "    print('%10.2f '%pos.position[i], end= ' ')\n",
    "print('\\n')\n",
    "\n",
    "\n",
    "#cs = await hexapod_csc.evt_controllerState.aget()\n",
    "#print(MTHexapod.EnabledSubstate(cs.enabledSubstate))\n",
    "#if cs.enabledSubstate != MTHexapod.EnabledSubstate.CONTROLLED_STOPPING:\n",
    "#     raise Exception(f\"Controller's substate is not {MTHexapod.EnabledSubstate.CONTROLLED_STOPPING}. It is {MTHexapod.EnabledSubstate(cs.enabledSubstate)}\")\n",
    "\n",
    "# cs = await hexapod_csc.evt_controllerSubstate.aget()\n",
    "# print(MTHexapod.EnabledSubstate(cs.enabledSubstate))\n",
    "# if cs.enabledSubstate != MTHexapod.EnabledSubstate.STATIONARY:\n",
    "#     raise Exception(f\"Controller's substate is not {MTHexapod.EnabledSubstate.STATIONARY}. It is {MtHexapod.EnabledSubstate(cs.enabledSubstate)}\")\n",
    "\n",
    "script.log.info(f\"STOP- {test_message} -- LVV-T1600 Test Step 11\")"
   ]
  },
  {
   "cell_type": "code",
   "execution_count": 43,
   "metadata": {},
   "outputs": [],
   "source": [
    "#Step 15\n",
    "await asyncio.sleep(STD_WAIT)"
   ]
  },
  {
   "cell_type": "markdown",
   "metadata": {},
   "source": [
    "# thermal sensors\n",
    "Check the chronograph manually for the temperature sensors to be below 19C, if not wait until they are all below 19C. Enter in the data at the 39 second mark\n",
    "\n",
    "|Actuator 1 (C)|Actuator 2 (C) | Actuator 3 (C) | Actuator 4 (C) | Actuator 5 (C) | Actuator 6 (C)|\n",
    "|--------------|---------------|----------------|----------------|----------------|---------------|\n",
    "| 0 | 0 | 0 | 0 | 0 | 0 |"
   ]
  },
  {
   "cell_type": "code",
   "execution_count": 63,
   "metadata": {},
   "outputs": [
    {
     "data": {
      "text/plain": [
       "<ddsutil.MTHexapod_ackcmd_da0a635d at 0x7f1d795393a0>"
      ]
     },
     "execution_count": 63,
     "metadata": {},
     "output_type": "execute_result"
    },
    {
     "name": "stdout",
     "output_type": "stream",
     "text": [
      "EnabledSubstate.MOVING_POINT_TO_POINT\n",
      "EnabledSubstate.STATIONARY\n"
     ]
    }
   ],
   "source": [
    "await hexapod_csc.cmd_move.set_start(x=0,y=0,z=0, u=0,v=0,w=0,sync=True)"
   ]
  },
  {
   "cell_type": "code",
   "execution_count": 45,
   "metadata": {},
   "outputs": [
    {
     "name": "stdout",
     "output_type": "stream",
     "text": [
      "EnabledSubstate.MOVING_POINT_TO_POINT\n",
      "EnabledSubstate.STATIONARY\n"
     ]
    }
   ],
   "source": [
    "await asyncio.sleep(STD_WAIT)"
   ]
  },
  {
   "cell_type": "markdown",
   "metadata": {},
   "source": [
    "This blocks move the hexapod via the lookup table:"
   ]
  },
  {
   "cell_type": "markdown",
   "metadata": {},
   "source": [
    "CAVE: The setCompensationMode expects infrormation from the MTmount(elevation) and MTRotator(rotation).\n",
    "\n",
    "To use the setCompensationMode at the summit the controller for MTMount and MTRotator need to run.\n",
    "To test this at NCSA the simulators must be stopped first.\n",
    "\n",
    "Use the notebooks MTMount-Controller and MTRotator-Controller to stop the simulators, start the Controller and reverse the steps after finishing testing."
   ]
  },
  {
   "cell_type": "code",
   "execution_count": null,
   "metadata": {},
   "outputs": [],
   "source": [
    "rot = salobj.Remote(script.domain, \"MTRotator\")"
   ]
  },
  {
   "cell_type": "code",
   "execution_count": null,
   "metadata": {},
   "outputs": [],
   "source": [
    "await asyncio.gather(rot.start_task,\n",
    "                     hex.start_task)"
   ]
  },
  {
   "cell_type": "code",
   "execution_count": null,
   "metadata": {
    "scrolled": true
   },
   "outputs": [],
   "source": [
    "#This command is obsolete\n",
    "#await hexapod_csc.cmd_moveLUT.set_start(az=180,elev=60, temp=10)\n",
    "now = datetime.now()\n",
    "script.log.info(f\"START- {test_message} -- LVV-T1600 Test Step 17- Starting time: {now} UTC\")\n",
    "await hexapod_csc.cmd_move.set_start(x=0,y=0,z=800,u=0,v=0,w=0,sync=True)\n",
    "await asyncio.sleep(10)\n",
    "pos = await hexapod_csc.tel_application.aget(timeout=10.)\n",
    "print('hex position')\n",
    "for i in range(6):\n",
    "    print('%10.2f '%pos.position[i], end= ' ')\n",
    "print('\\n')"
   ]
  },
  {
   "cell_type": "code",
   "execution_count": null,
   "metadata": {},
   "outputs": [],
   "source": [
    "#Switch CompensationMode on\n",
    "await hexapod_csc.cmd_setCompensationMode.set_start(enable=True)\n",
    "\n",
    "lutMode = await hexapod_csc.evt_compensationMode.aget(timeout=10)\n",
    "print(\"compsensation mode enabled?\",lutMode.enabled)\n",
    "\n",
    "pos = await hexapod_csc.tel_application.aget(timeout=10.)\n",
    "print('hex position')\n",
    "for i in range(6):\n",
    "    print('%10.2f '%pos.position[i], end= ' ')\n",
    "print('\\n')\n",
    "await asyncio.sleep(10.)"
   ]
  },
  {
   "cell_type": "code",
   "execution_count": null,
   "metadata": {},
   "outputs": [],
   "source": [
    "#move the hexapod Not allowed here! First leave compensation mode than move to new postion!!! Otherwise the you hexpod gets stuck in compensation  mode\n",
    "#await hexapod_csc.cmd_move.set_start(x=0,y=0,z=800,u=0,v=0,w=0,sync=True)\n",
    "\n",
    "#await asyncio.sleep(10.)"
   ]
  },
  {
   "cell_type": "code",
   "execution_count": null,
   "metadata": {},
   "outputs": [],
   "source": [
    "pos = await hexapod_csc.tel_application.aget(timeout=10.)\n",
    "print('hex position')\n",
    "for i in range(6):\n",
    "    print('%10.2f '%pos.position[i], end= ' ')\n",
    "print('\\n')\n",
    "\n",
    "#Switch CompensationMode off \n",
    "await hexapod_csc.cmd_setCompensationMode.set_start(enable=False)\n",
    "lutMode = await hexapod_csc.evt_compensationMode.aget(timeout=10)\n",
    "print(\"compsensation mode enabled?\",lutMode.enabled)\n",
    "\n",
    "script.log.info(f\"STOP- {test_message} -- LVV-T1600 Test Step 17\")"
   ]
  },
  {
   "cell_type": "code",
   "execution_count": null,
   "metadata": {
    "scrolled": true
   },
   "outputs": [],
   "source": [
    "await hexapod_csc.cmd_setCompensationMode.set_start(enable=False)\n"
   ]
  },
  {
   "cell_type": "code",
   "execution_count": null,
   "metadata": {},
   "outputs": [],
   "source": [
    "pos = await hexapod_csc.tel_application.aget(timeout=10.)\n",
    "print('hex position')\n",
    "for i in range(6):\n",
    "    print('%10.2f '%pos.position[i], end= ' ')\n",
    "print('\\n')"
   ]
  },
  {
   "cell_type": "code",
   "execution_count": null,
   "metadata": {},
   "outputs": [],
   "source": [
    "posC = await hexapod_csc.evt_compensatedPosition.aget(timeout=10.)\n",
    "print('Compensated position')\n",
    "for i in 'xyzuvw':\n",
    "    print('%10.2f '%getattr(posC, i), end= ' ')\n",
    "print('\\n')\n",
    "\n",
    "posU = await hexapod_csc.evt_uncompensatedPosition.aget(timeout=10.)\n",
    "print('Uncompensated position')\n",
    "for i in 'xyzuvw':\n",
    "    print('%10.2f '%getattr(posU, i), end= ' ')\n",
    "print('\\n')"
   ]
  },
  {
   "cell_type": "markdown",
   "metadata": {},
   "source": [
    "Analysis of the LUT correction"
   ]
  },
  {
   "cell_type": "code",
   "execution_count": null,
   "metadata": {},
   "outputs": [],
   "source": [
    "LUTfile = '%s/notebooks/ts_config_mttcs/MTHexapod/v1/default.yaml'%(os.environ[\"HOME\"])\n",
    "print(LUTfile)\n",
    "with open(LUTfile, 'r') as stream:\n",
    "    aa = yaml.safe_load(stream)\n",
    "if hexapod_csc.salinfo.index == 1:\n",
    "    elevCoeff = aa['camera_config']['elevation_coeffs']\n",
    "    tCoeff = aa['camera_config']['temperature_coeffs']\n",
    "elif hexapod_csc.salinfo.index == 2:\n",
    "    elevCoeff = aa['m2_config']['elevation_coeffs']\n",
    "    tCoeff = aa['m2_config']['temperature_coeffs']"
   ]
  },
  {
   "cell_type": "code",
   "execution_count": null,
   "metadata": {},
   "outputs": [],
   "source": [
    "pred = []\n",
    "elev=89.999\n",
    "print('Predicted LUT compensation:')\n",
    "for i in range(6):\n",
    "    coeff = elevCoeff[i] #starts with C0\n",
    "    mypoly = np.poly1d(coeff[::-1]) #poly1d needs C5 first\n",
    "    pred.append(mypoly(elev))\n",
    "    print('%10.2f '%pred[i], end= ' ')\n",
    "print('\\n')\n",
    "print('Actual LUT compensation:')\n",
    "for i in 'xyzuvw':\n",
    "    print('%10.2f '%getattr(posC, i), end= ' ')\n",
    "print('\\n')"
   ]
  },
  {
   "cell_type": "code",
   "execution_count": null,
   "metadata": {},
   "outputs": [],
   "source": [
    "#Step 22\n",
    "await asyncio.sleep(STD_WAIT)\n",
    "# thermal sensors"
   ]
  },
  {
   "cell_type": "markdown",
   "metadata": {},
   "source": [
    "# thermal sensors\n",
    "Check the chronograph manually for the temperature sensors to be below 19C, if not wait until they are all below 19C. Enter in the data at the 39 second mark\n",
    "\n",
    "|Actuator 1 (C)|Actuator 2 (C) | Actuator 3 (C) | Actuator 4 (C) | Actuator 5 (C) | Actuator 6 (C)|\n",
    "|--------------|---------------|----------------|----------------|----------------|---------------|\n",
    "| 0 | 0 | 0 | 0 | 0 | 0 |"
   ]
  },
  {
   "cell_type": "code",
   "execution_count": 46,
   "metadata": {},
   "outputs": [
    {
     "name": "stderr",
     "output_type": "stream",
     "text": [
      "INFO:Script:START- Camera Hexapod Integration Test -- LVV-T1600 Test Step 24 - Starting time: 2021-03-08 19:38:13.266269 UTC\n"
     ]
    },
    {
     "name": "stdout",
     "output_type": "stream",
     "text": [
      "hex position\n",
      "     -0.24       -0.69       -0.08       -0.00        0.00       -0.00  \n",
      "\n"
     ]
    }
   ],
   "source": [
    "now = datetime.now()\n",
    "script.log.info(f\"START- {test_message} -- LVV-T1600 Test Step 24 - Starting time: {now} UTC\")\n",
    "\n",
    "pos = await hexapod_csc.tel_application.aget(timeout=10.)\n",
    "print('hex position')\n",
    "for i in range(6):\n",
    "    print('%10.2f '%pos.position[i], end= ' ')\n",
    "print('\\n')"
   ]
  },
  {
   "cell_type": "code",
   "execution_count": 47,
   "metadata": {},
   "outputs": [
    {
     "name": "stdout",
     "output_type": "stream",
     "text": [
      "EnabledSubstate.MOVING_POINT_TO_POINT\n",
      "EnabledSubstate.STATIONARY\n",
      "hex position\n",
      "    500.03      800.46      200.15        0.00        0.00        0.00  \n",
      "\n"
     ]
    }
   ],
   "source": [
    "await hexapod_csc.cmd_move.set_start(x=500,y=800,z=200,u=0,v=0,w=0,sync=True)\n",
    "await asyncio.sleep(10.)\n",
    "\n",
    "pos = await hexapod_csc.tel_application.aget(timeout=10.)\n",
    "print('hex position')\n",
    "for i in range(6):\n",
    "    print('%10.2f '%pos.position[i], end= ' ')\n",
    "print('\\n')"
   ]
  },
  {
   "cell_type": "code",
   "execution_count": 48,
   "metadata": {},
   "outputs": [
    {
     "name": "stdout",
     "output_type": "stream",
     "text": [
      "EnabledSubstate.MOVING_POINT_TO_POINT\n",
      "EnabledSubstate.STATIONARY\n"
     ]
    },
    {
     "name": "stderr",
     "output_type": "stream",
     "text": [
      "INFO:Script:STOP- Camera Hexapod Integration Test -- LVV-T1600 Test Step 24\n"
     ]
    },
    {
     "name": "stdout",
     "output_type": "stream",
     "text": [
      "hex position\n",
      "    500.38      799.75      700.30       -0.00       -0.00        0.00  \n",
      "\n"
     ]
    }
   ],
   "source": [
    "await hexapod_csc.cmd_offset.set_start(x=0,y=0,z=500,u=0,v=0,w=0,sync=True)\n",
    "await asyncio.sleep(10.)\n",
    "\n",
    "pos = await hexapod_csc.tel_application.aget(timeout=10.)\n",
    "print('hex position')\n",
    "for i in range(6):\n",
    "    print('%10.2f '%pos.position[i], end= ' ')\n",
    "print('\\n')\n",
    "\n",
    "script.log.info(f\"STOP- {test_message} -- LVV-T1600 Test Step 24\")\n",
    "\n",
    "\n",
    "# cs = await MThexapod_csc.evt_controllerState.aget()\n",
    "# if cs.enabledSubstate != MThexapod.SetEnabledSubstateParam.MOVE_POINT_TO_POINT:\n",
    "#     raise Exception(f\"Controller's substate is not {MThexapod.SetEnabledSubstateParam.MOVE_POINT_TO_POINT}. It is {MThexapod.SetEnabledSubstateParam(cs.enabledSubstate)}\")\n",
    "# cs = await MThexapod_csc.evt_controllerSubstate.aget()\n",
    "# if cs.enabledSubstate != MThexapod.SetEnabledSubstateParam.STATIONARY:\n",
    "#     raise Exception(f\"Controller's substate is not {MThexapod.SetEnabledSubstateParam.STATIONARY}. It is {MThexapod.SetEnabledSubstateParam(cs.enabledSubstate)}\")\n",
    "# in_position = await MThexapod_csc.evt_inPosition.aget(timeout=10)\n",
    "# if in_position.inPosition is False:\n",
    "#     raise Exception(\"Controller not in position.\")"
   ]
  },
  {
   "cell_type": "code",
   "execution_count": 49,
   "metadata": {},
   "outputs": [],
   "source": [
    "#Step 27\n",
    "await asyncio.sleep(STD_WAIT)"
   ]
  },
  {
   "cell_type": "code",
   "execution_count": 55,
   "metadata": {},
   "outputs": [
    {
     "name": "stderr",
     "output_type": "stream",
     "text": [
      "INFO:Script:START- Camera Hexapod Integration Test -- LVV-T1600 Test Step 29 - Starting time: 2021-03-08 19:51:52.624748 UTC\n"
     ]
    },
    {
     "name": "stdout",
     "output_type": "stream",
     "text": [
      "EnabledSubstate.MOVING_POINT_TO_POINT\n",
      "EnabledSubstate.STATIONARY\n",
      "hex position\n",
      "   2000.24    -3500.45      200.09        0.01       -0.05        0.00  \n",
      "\n"
     ]
    }
   ],
   "source": [
    "now = datetime.now()\n",
    "script.log.info(f\"START- {test_message} -- LVV-T1600 Test Step 29 - Starting time: {now} UTC\")#Pivot test\n",
    "#Step 29\n",
    "await hexapod_csc.cmd_move.set_start(x=2000,y=-3500,z=200,u=0.01,v=-0.05,w=0.002,sync=True)\n",
    "await asyncio.sleep(10.)\n",
    "pos = await hexapod_csc.tel_application.aget(timeout=10.)\n",
    "print('hex position')\n",
    "for i in range(6):\n",
    "    print('%10.2f '%pos.position[i], end= ' ')\n",
    "print('\\n')"
   ]
  },
  {
   "cell_type": "code",
   "execution_count": 56,
   "metadata": {},
   "outputs": [],
   "source": [
    "#Step 30 -- set a new Pivot point\n",
    "await hexapod_csc.cmd_setPivot.set_start(x=0,y=0,z=0)\n",
    "await asyncio.sleep(10.)"
   ]
  },
  {
   "cell_type": "code",
   "execution_count": 60,
   "metadata": {},
   "outputs": [
    {
     "name": "stdout",
     "output_type": "stream",
     "text": [
      "EnabledSubstate.MOVING_POINT_TO_POINT\n",
      "EnabledSubstate.STATIONARY\n",
      "hex position\n",
      "   2000.29    -3500.03      200.20        0.01       -0.05        0.00  \n",
      "\n"
     ]
    }
   ],
   "source": [
    "#Step 31\n",
    "await hexapod_csc.cmd_move.set_start(x=2000,y=-3500,z=200,u=0.01,v=-0.05,w=0.002,sync=True)\n",
    "await asyncio.sleep(10.)\n",
    "pos = await hexapod_csc.tel_application.aget(timeout=10.)\n",
    "print('hex position')\n",
    "for i in range(6):\n",
    "    print('%10.2f '%pos.position[i], end= ' ')\n",
    "print('\\n')\n",
    "await asyncio.sleep(10.)"
   ]
  },
  {
   "cell_type": "code",
   "execution_count": 62,
   "metadata": {},
   "outputs": [
    {
     "name": "stderr",
     "output_type": "stream",
     "text": [
      "INFO:Script:STOP- Camera Hexapod Integration Test -- LVV-T1600 Test Step 29\n"
     ]
    },
    {
     "name": "stdout",
     "output_type": "stream",
     "text": [
      "hex position\n",
      "   2000.23    -3500.04      200.28        0.01       -0.05        0.00  \n",
      "\n"
     ]
    }
   ],
   "source": [
    "#Set the pivot point back to the original value (0.703m in um)\n",
    "await hexapod_csc.cmd_setPivot.set_start(x=0,y=0,z=1938000)\n",
    "pos = await hexapod_csc.tel_application.aget(timeout=10.)\n",
    "print('hex position')\n",
    "for i in range(6):\n",
    "    print('%10.2f '%pos.position[i], end= ' ')\n",
    "print('\\n')\n",
    "script.log.info(f\"STOP- {test_message} -- LVV-T1600 Test Step 29\")"
   ]
  },
  {
   "cell_type": "markdown",
   "metadata": {},
   "source": [
    "# thermal sensors\n",
    "Check the chronograph manually for the temperature sensors to be below 19C, if not wait until they are all below 19C. Enter in the data at the 39 second mark\n",
    "\n",
    "|Actuator 1 (C)|Actuator 2 (C) | Actuator 3 (C) | Actuator 4 (C) | Actuator 5 (C) | Actuator 6 (C)|\n",
    "|--------------|---------------|----------------|----------------|----------------|---------------|\n",
    "| 0 | 0 | 0 | 0 | 0 | 0 |"
   ]
  },
  {
   "cell_type": "code",
   "execution_count": 64,
   "metadata": {},
   "outputs": [
    {
     "name": "stderr",
     "output_type": "stream",
     "text": [
      "WARNING:MTHexapod.electrical:electrical DDS read queue is filling: 13 of 100 elements\n",
      "WARNING:MTHexapod.application:application DDS read queue is filling: 13 of 100 elements\n",
      "INFO:Script:START- Camera Hexapod Integration Test -- LVV-T1600 Endurance Test - Starting time: 2021-03-08 20:08:02.201129 UTC\n",
      "WARNING:MTHexapod.application:application DDS read queue is filling: 13 of 100 elements\n",
      "WARNING:MTHexapod.electrical:electrical DDS read queue is filling: 12 of 100 elements\n",
      "WARNING:MTHexapod.actuators:actuators DDS read queue is filling: 12 of 100 elements\n",
      "WARNING:MTHexapod.actuators:actuators DDS read queue is filling: 12 of 100 elements\n"
     ]
    },
    {
     "name": "stdout",
     "output_type": "stream",
     "text": [
      "EnabledSubstate.MOVING_POINT_TO_POINT\n",
      "EnabledSubstate.STATIONARY\n",
      "EnabledSubstate.MOVING_POINT_TO_POINT\n",
      "EnabledSubstate.MOVING_POINT_TO_POINT\n"
     ]
    },
    {
     "ename": "AckError",
     "evalue": "msg='Command failed', ackcmd=(ackcmd private_seqNum=1015964321, ack=<SalRetCode.CMD_FAILED: -302>, error=1, result='Failed: Rejected: initial state is <State.FAULT: 3> instead of <State.ENABLED: 2>')",
     "output_type": "error",
     "traceback": [
      "\u001b[0;31m---------------------------------------------------------------------------\u001b[0m",
      "\u001b[0;31mAckError\u001b[0m                                  Traceback (most recent call last)",
      "\u001b[0;32m<ipython-input-64-6d533f7996e0>\u001b[0m in \u001b[0;36m<module>\u001b[0;34m\u001b[0m\n\u001b[1;32m      6\u001b[0m     \u001b[0;32mawait\u001b[0m \u001b[0mhexapod_csc\u001b[0m\u001b[0;34m.\u001b[0m\u001b[0mcmd_move\u001b[0m\u001b[0;34m.\u001b[0m\u001b[0mset_start\u001b[0m\u001b[0;34m(\u001b[0m\u001b[0mx\u001b[0m\u001b[0;34m=\u001b[0m\u001b[0;36m6700\u001b[0m\u001b[0;34m,\u001b[0m\u001b[0my\u001b[0m\u001b[0;34m=\u001b[0m\u001b[0;36m0\u001b[0m\u001b[0;34m,\u001b[0m\u001b[0mz\u001b[0m\u001b[0;34m=\u001b[0m\u001b[0;36m5900\u001b[0m\u001b[0;34m,\u001b[0m\u001b[0mu\u001b[0m\u001b[0;34m=\u001b[0m\u001b[0;36m0\u001b[0m\u001b[0;34m,\u001b[0m\u001b[0mv\u001b[0m\u001b[0;34m=\u001b[0m\u001b[0;34m-\u001b[0m\u001b[0;36m0.12\u001b[0m\u001b[0;34m,\u001b[0m\u001b[0mw\u001b[0m\u001b[0;34m=\u001b[0m\u001b[0;36m0\u001b[0m\u001b[0;34m,\u001b[0m\u001b[0msync\u001b[0m\u001b[0;34m=\u001b[0m\u001b[0;32mTrue\u001b[0m\u001b[0;34m)\u001b[0m\u001b[0;34m\u001b[0m\u001b[0;34m\u001b[0m\u001b[0m\n\u001b[1;32m      7\u001b[0m     \u001b[0;32mawait\u001b[0m \u001b[0masyncio\u001b[0m\u001b[0;34m.\u001b[0m\u001b[0msleep\u001b[0m\u001b[0;34m(\u001b[0m\u001b[0mSTD_WAIT\u001b[0m\u001b[0;34m)\u001b[0m\u001b[0;34m\u001b[0m\u001b[0;34m\u001b[0m\u001b[0m\n\u001b[0;32m----> 8\u001b[0;31m     \u001b[0;32mawait\u001b[0m \u001b[0mhexapod_csc\u001b[0m\u001b[0;34m.\u001b[0m\u001b[0mcmd_move\u001b[0m\u001b[0;34m.\u001b[0m\u001b[0mset_start\u001b[0m\u001b[0;34m(\u001b[0m\u001b[0mx\u001b[0m\u001b[0;34m=\u001b[0m\u001b[0;36m6700\u001b[0m\u001b[0;34m,\u001b[0m\u001b[0my\u001b[0m\u001b[0;34m=\u001b[0m\u001b[0;36m0\u001b[0m\u001b[0;34m,\u001b[0m\u001b[0mz\u001b[0m\u001b[0;34m=\u001b[0m\u001b[0;36m5900\u001b[0m\u001b[0;34m,\u001b[0m\u001b[0mu\u001b[0m\u001b[0;34m=\u001b[0m\u001b[0;36m0.12\u001b[0m\u001b[0;34m,\u001b[0m\u001b[0mv\u001b[0m\u001b[0;34m=\u001b[0m\u001b[0;36m0\u001b[0m\u001b[0;34m,\u001b[0m\u001b[0mw\u001b[0m\u001b[0;34m=\u001b[0m\u001b[0;36m0\u001b[0m\u001b[0;34m,\u001b[0m\u001b[0msync\u001b[0m\u001b[0;34m=\u001b[0m\u001b[0;32mTrue\u001b[0m\u001b[0;34m)\u001b[0m\u001b[0;34m\u001b[0m\u001b[0;34m\u001b[0m\u001b[0m\n\u001b[0m\u001b[1;32m      9\u001b[0m     \u001b[0;32mawait\u001b[0m \u001b[0masyncio\u001b[0m\u001b[0;34m.\u001b[0m\u001b[0msleep\u001b[0m\u001b[0;34m(\u001b[0m\u001b[0mSTD_WAIT\u001b[0m\u001b[0;34m)\u001b[0m\u001b[0;34m\u001b[0m\u001b[0;34m\u001b[0m\u001b[0m\n\u001b[1;32m     10\u001b[0m     \u001b[0;32mawait\u001b[0m \u001b[0mhexapod_csc\u001b[0m\u001b[0;34m.\u001b[0m\u001b[0mcmd_move\u001b[0m\u001b[0;34m.\u001b[0m\u001b[0mset_start\u001b[0m\u001b[0;34m(\u001b[0m\u001b[0mx\u001b[0m\u001b[0;34m=\u001b[0m\u001b[0;36m6700\u001b[0m\u001b[0;34m,\u001b[0m\u001b[0my\u001b[0m\u001b[0;34m=\u001b[0m\u001b[0;36m0\u001b[0m\u001b[0;34m,\u001b[0m\u001b[0mz\u001b[0m\u001b[0;34m=\u001b[0m\u001b[0;36m5900\u001b[0m\u001b[0;34m,\u001b[0m\u001b[0mu\u001b[0m\u001b[0;34m=\u001b[0m\u001b[0;34m-\u001b[0m\u001b[0;36m0.12\u001b[0m\u001b[0;34m,\u001b[0m\u001b[0mv\u001b[0m\u001b[0;34m=\u001b[0m\u001b[0;36m0\u001b[0m\u001b[0;34m,\u001b[0m\u001b[0mw\u001b[0m\u001b[0;34m=\u001b[0m\u001b[0;36m0\u001b[0m\u001b[0;34m,\u001b[0m\u001b[0msync\u001b[0m\u001b[0;34m=\u001b[0m\u001b[0;32mTrue\u001b[0m\u001b[0;34m)\u001b[0m\u001b[0;34m\u001b[0m\u001b[0;34m\u001b[0m\u001b[0m\n",
      "\u001b[0;32m/opt/lsst/src/ts_salobj/python/lsst/ts/salobj/topics/remote_command.py\u001b[0m in \u001b[0;36mset_start\u001b[0;34m(self, timeout, wait_done, **kwargs)\u001b[0m\n\u001b[1;32m    389\u001b[0m         \"\"\"\n\u001b[1;32m    390\u001b[0m         \u001b[0mself\u001b[0m\u001b[0;34m.\u001b[0m\u001b[0mset\u001b[0m\u001b[0;34m(\u001b[0m\u001b[0;34m**\u001b[0m\u001b[0mkwargs\u001b[0m\u001b[0;34m)\u001b[0m\u001b[0;34m\u001b[0m\u001b[0;34m\u001b[0m\u001b[0m\n\u001b[0;32m--> 391\u001b[0;31m         \u001b[0;32mreturn\u001b[0m \u001b[0;32mawait\u001b[0m \u001b[0mself\u001b[0m\u001b[0;34m.\u001b[0m\u001b[0mstart\u001b[0m\u001b[0;34m(\u001b[0m\u001b[0mtimeout\u001b[0m\u001b[0;34m=\u001b[0m\u001b[0mtimeout\u001b[0m\u001b[0;34m,\u001b[0m \u001b[0mwait_done\u001b[0m\u001b[0;34m=\u001b[0m\u001b[0mwait_done\u001b[0m\u001b[0;34m)\u001b[0m\u001b[0;34m\u001b[0m\u001b[0;34m\u001b[0m\u001b[0m\n\u001b[0m\u001b[1;32m    392\u001b[0m \u001b[0;34m\u001b[0m\u001b[0m\n\u001b[1;32m    393\u001b[0m     \u001b[0;32masync\u001b[0m \u001b[0;32mdef\u001b[0m \u001b[0mstart\u001b[0m\u001b[0;34m(\u001b[0m\u001b[0mself\u001b[0m\u001b[0;34m,\u001b[0m \u001b[0mdata\u001b[0m\u001b[0;34m=\u001b[0m\u001b[0;32mNone\u001b[0m\u001b[0;34m,\u001b[0m \u001b[0mtimeout\u001b[0m\u001b[0;34m=\u001b[0m\u001b[0mDEFAULT_TIMEOUT\u001b[0m\u001b[0;34m,\u001b[0m \u001b[0mwait_done\u001b[0m\u001b[0;34m=\u001b[0m\u001b[0;32mTrue\u001b[0m\u001b[0;34m)\u001b[0m\u001b[0;34m:\u001b[0m\u001b[0;34m\u001b[0m\u001b[0;34m\u001b[0m\u001b[0m\n",
      "\u001b[0;32m/opt/lsst/src/ts_salobj/python/lsst/ts/salobj/topics/remote_command.py\u001b[0m in \u001b[0;36mstart\u001b[0;34m(self, data, timeout, wait_done)\u001b[0m\n\u001b[1;32m    444\u001b[0m         )\n\u001b[1;32m    445\u001b[0m         \u001b[0mself\u001b[0m\u001b[0;34m.\u001b[0m\u001b[0msalinfo\u001b[0m\u001b[0;34m.\u001b[0m\u001b[0m_running_cmds\u001b[0m\u001b[0;34m[\u001b[0m\u001b[0mseq_num\u001b[0m\u001b[0;34m]\u001b[0m \u001b[0;34m=\u001b[0m \u001b[0mcmd_info\u001b[0m\u001b[0;34m\u001b[0m\u001b[0;34m\u001b[0m\u001b[0m\n\u001b[0;32m--> 446\u001b[0;31m         \u001b[0;32mreturn\u001b[0m \u001b[0;32mawait\u001b[0m \u001b[0mcmd_info\u001b[0m\u001b[0;34m.\u001b[0m\u001b[0mnext_ackcmd\u001b[0m\u001b[0;34m(\u001b[0m\u001b[0mtimeout\u001b[0m\u001b[0;34m=\u001b[0m\u001b[0mtimeout\u001b[0m\u001b[0;34m)\u001b[0m\u001b[0;34m\u001b[0m\u001b[0;34m\u001b[0m\u001b[0m\n\u001b[0m",
      "\u001b[0;32m/opt/lsst/src/ts_salobj/python/lsst/ts/salobj/topics/remote_command.py\u001b[0m in \u001b[0;36mnext_ackcmd\u001b[0;34m(self, timeout)\u001b[0m\n\u001b[1;32m    181\u001b[0m             \u001b[0mackcmd\u001b[0m \u001b[0;34m=\u001b[0m \u001b[0;32mawait\u001b[0m \u001b[0mself\u001b[0m\u001b[0;34m.\u001b[0m\u001b[0m_wait_task\u001b[0m\u001b[0;34m\u001b[0m\u001b[0;34m\u001b[0m\u001b[0m\n\u001b[1;32m    182\u001b[0m             \u001b[0;32mif\u001b[0m \u001b[0mackcmd\u001b[0m\u001b[0;34m.\u001b[0m\u001b[0mack\u001b[0m \u001b[0;32min\u001b[0m \u001b[0mself\u001b[0m\u001b[0;34m.\u001b[0m\u001b[0mfailed_ack_codes\u001b[0m\u001b[0;34m:\u001b[0m\u001b[0;34m\u001b[0m\u001b[0;34m\u001b[0m\u001b[0m\n\u001b[0;32m--> 183\u001b[0;31m                 \u001b[0;32mraise\u001b[0m \u001b[0mbase\u001b[0m\u001b[0;34m.\u001b[0m\u001b[0mAckError\u001b[0m\u001b[0;34m(\u001b[0m\u001b[0mmsg\u001b[0m\u001b[0;34m=\u001b[0m\u001b[0;34m\"Command failed\"\u001b[0m\u001b[0;34m,\u001b[0m \u001b[0mackcmd\u001b[0m\u001b[0;34m=\u001b[0m\u001b[0mackcmd\u001b[0m\u001b[0;34m)\u001b[0m\u001b[0;34m\u001b[0m\u001b[0;34m\u001b[0m\u001b[0m\n\u001b[0m\u001b[1;32m    184\u001b[0m             \u001b[0;32mreturn\u001b[0m \u001b[0mackcmd\u001b[0m\u001b[0;34m\u001b[0m\u001b[0;34m\u001b[0m\u001b[0m\n\u001b[1;32m    185\u001b[0m         \u001b[0;32mexcept\u001b[0m \u001b[0masyncio\u001b[0m\u001b[0;34m.\u001b[0m\u001b[0mTimeoutError\u001b[0m\u001b[0;34m:\u001b[0m\u001b[0;34m\u001b[0m\u001b[0;34m\u001b[0m\u001b[0m\n",
      "\u001b[0;31mAckError\u001b[0m: msg='Command failed', ackcmd=(ackcmd private_seqNum=1015964321, ack=<SalRetCode.CMD_FAILED: -302>, error=1, result='Failed: Rejected: initial state is <State.FAULT: 3> instead of <State.ENABLED: 2>')"
     ]
    }
   ],
   "source": [
    "now = datetime.now()\n",
    "script.log.info(f\"START- {test_message} -- LVV-T1600 Endurance Test - Starting time: {now} UTC\")\n",
    "for i in range(100):\n",
    "    await hexapod_csc.cmd_move.set_start(x=5660,y=0,z=7730,u=0,v=0.17,w=0,sync=True)\n",
    "    await asyncio.sleep(STD_WAIT)\n",
    "    await hexapod_csc.cmd_move.set_start(x=5660,y=0,z=7730,u=0,v=-0.17,w=0,sync=True)\n",
    "    await asyncio.sleep(STD_WAIT)\n",
    "    await hexapod_csc.cmd_move.set_start(x=5660,y=0,z=7730,u=0.17,v=0,w=0,sync=True)\n",
    "    await asyncio.sleep(STD_WAIT)\n",
    "    await hexapod_csc.cmd_move.set_start(x=5660,y=0,z=7730,u=-0.17,v=0,w=0,sync=True)\n",
    "    await asyncio.sleep(STD_WAIT)\n",
    "\n",
    "    await hexapod_csc.cmd_move.set_start(x=5660,y=0,z=-7730,u=0,v=0.17,w=0,sync=True)\n",
    "    await asyncio.sleep(STD_WAIT)\n",
    "    await hexapod_csc.cmd_move.set_start(x=5660,y=0,z=-7730,u=0,v=-0.17,w=0,sync=True)\n",
    "    await asyncio.sleep(STD_WAIT)\n",
    "    await hexapod_csc.cmd_move.set_start(x=5660,y=0,z=-7730,u=0.17,v=0,w=0,sync=True)\n",
    "    await asyncio.sleep(STD_WAIT)\n",
    "    await hexapod_csc.cmd_move.set_start(x=5660,y=0,z=-7730,u=-0.17,v=0,w=0,sync=True)\n",
    "    await asyncio.sleep(STD_WAIT)\n",
    "\n",
    "    await hexapod_csc.cmd_move.set_start(x=-5660,y=0,z=7730,u=0,v=0.17,w=0,sync=True)\n",
    "    await asyncio.sleep(STD_WAIT)\n",
    "    await hexapod_csc.cmd_move.set_start(x=-5660,y=0,z=7730,u=0,v=-0.17,w=0,sync=True)\n",
    "    await asyncio.sleep(STD_WAIT)\n",
    "    await hexapod_csc.cmd_move.set_start(x=-5660,y=0,z=7730,u=0.17,v=0,w=0,sync=True)\n",
    "    await asyncio.sleep(STD_WAIT)\n",
    "    await hexapod_csc.cmd_move.set_start(x=-5660,y=0,z=7730,u=-0.17,v=0,w=0,sync=True)\n",
    "    await asyncio.sleep(STD_WAIT)\n",
    "\n",
    "    await hexapod_csc.cmd_move.set_start(x=-5660,y=0,z=-7730,u=0,v=0.17,w=0,sync=True)\n",
    "    await asyncio.sleep(STD_WAIT)\n",
    "    await hexapod_csc.cmd_move.set_start(x=-5660,y=0,z=-7730,u=0,v=-0.17,w=0,sync=True)\n",
    "    await asyncio.sleep(STD_WAIT)\n",
    "    await hexapod_csc.cmd_move.set_start(x=-5660,y=0,z=-7730,u=0.17,v=0,w=0,sync=True)\n",
    "    await asyncio.sleep(STD_WAIT)\n",
    "    await hexapod_csc.cmd_move.set_start(x=-5660,y=0,z=-7730,u=-0.17,v=0,w=0,sync=True)\n",
    "    await asyncio.sleep(STD_WAIT)\n",
    "\n",
    "\n",
    "    await hexapod_csc.cmd_move.set_start(x=0,y=5660,z=7730,u=0,v=0.17,w=0,sync=True)\n",
    "    await asyncio.sleep(STD_WAIT)\n",
    "    await hexapod_csc.cmd_move.set_start(x=0,y=5660,z=7730,u=0,v=-0.17,w=0,sync=True)\n",
    "    await asyncio.sleep(STD_WAIT)\n",
    "    await hexapod_csc.cmd_move.set_start(x=0,y=5660,z=7730,u=0.17,v=0,w=0,sync=True)\n",
    "    await asyncio.sleep(STD_WAIT)\n",
    "    await hexapod_csc.cmd_move.set_start(x=0,y=5660,z=7730,u=-0.17,v=0,w=0,sync=True)\n",
    "    await asyncio.sleep(STD_WAIT)\n",
    "\n",
    "    await hexapod_csc.cmd_move.set_start(x=0,y=5660,z=-7730,u=0,v=0.17,w=0,sync=True)\n",
    "    await asyncio.sleep(STD_WAIT)\n",
    "    await hexapod_csc.cmd_move.set_start(x=0,y=5660,z=-7730,u=0,v=-0.17,w=0,sync=True)\n",
    "    await asyncio.sleep(STD_WAIT)\n",
    "    await hexapod_csc.cmd_move.set_start(x=0,y=5660,z=-7730,u=0.17,v=0,w=0,sync=True)\n",
    "    await asyncio.sleep(STD_WAIT)\n",
    "    await hexapod_csc.cmd_move.set_start(x=0,y=5660,z=-7730,u=-0.17,v=0,w=0,sync=True)\n",
    "    await asyncio.sleep(STD_WAIT)\n",
    "\n",
    "    await hexapod_csc.cmd_move.set_start(x=0,y=-5660,z=7730,u=0,v=0.17,w=0,sync=True)\n",
    "    await asyncio.sleep(STD_WAIT)\n",
    "    await hexapod_csc.cmd_move.set_start(x=0,y=-5660,z=7730,u=0,v=-0.17,w=0,sync=True)\n",
    "    await asyncio.sleep(STD_WAIT)\n",
    "    await hexapod_csc.cmd_move.set_start(x=0,y=-5660,z=7730,u=0.17,v=0,w=0,sync=True)\n",
    "    await asyncio.sleep(STD_WAIT)\n",
    "    await hexapod_csc.cmd_move.set_start(x=0,y=-5660,z=7730,u=-0.17,v=0,w=0,sync=True)\n",
    "    await asyncio.sleep(STD_WAIT)\n",
    "\n",
    "    await hexapod_csc.cmd_move.set_start(x=0,y=-5660,z=-7730,u=0,v=0.17,w=0,sync=True)\n",
    "    await asyncio.sleep(STD_WAIT)\n",
    "    await hexapod_csc.cmd_move.set_start(x=0,y=-5660,z=-7730,u=0,v=-0.17,w=0,sync=True)\n",
    "    await asyncio.sleep(STD_WAIT)\n",
    "    await hexapod_csc.cmd_move.set_start(x=0,y=-5660,z=-7730,u=0.17,v=0,w=0,sync=True)\n",
    "    await asyncio.sleep(STD_WAIT)\n",
    "    await hexapod_csc.cmd_move.set_start(x=0,y=-5660,z=-7730,u=-0.17,v=0,w=0,sync=True)\n",
    "    await asyncio.sleep(STD_WAIT)\n",
    "now = datetime.now()\n",
    "script.log.info(f\"STOPP- {test_message} -- LVV-T1600 Endurance Test - Stopping time: {now} UTC\")"
   ]
  },
  {
   "cell_type": "code",
   "execution_count": null,
   "metadata": {},
   "outputs": [],
   "source": [
    "await salobj.set_summary_state(hexapod_csc, salobj.State.STANDBY) # Transition the CSC to Standby state"
   ]
  },
  {
   "cell_type": "code",
   "execution_count": null,
   "metadata": {},
   "outputs": [],
   "source": [
    "await domain.close() # Close the remote connection"
   ]
  }
 ],
 "metadata": {
  "kernelspec": {
   "display_name": "LSST",
   "language": "python",
   "name": "lsst"
  },
  "language_info": {
   "codemirror_mode": {
    "name": "ipython",
    "version": 3
   },
   "file_extension": ".py",
   "mimetype": "text/x-python",
   "name": "python",
   "nbconvert_exporter": "python",
   "pygments_lexer": "ipython3",
   "version": "3.8.6"
  }
 },
 "nbformat": 4,
 "nbformat_minor": 4
}
