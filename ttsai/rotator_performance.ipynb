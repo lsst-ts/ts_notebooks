{
 "cells": [
  {
   "cell_type": "markdown",
   "id": "6a06e44a-7ac5-4f9e-b58f-647563c7b767",
   "metadata": {},
   "source": [
    "**Rotator Performance Turning**\n",
    "\n",
    "This Jupyter notebook is used to turn the controller parameters by Tekniker.\n",
    "The test will be performed on summit with the real hardware.\n",
    "Before that, the Tucson test stand is used to develop the test procedure.\n",
    "The rotator commandable SAL component (CSC) is used to control the rotator hardware.\n",
    "The published event and telemetry are stored in the engineering facility database (EFD).\n",
    "\n",
    "It is noted that the **MTMount** telemetry data is required.\n",
    "Otherwise, the rotator CSC will put the low-level controller into the **Fault** state.\n",
    "\n",
    "The **setup** notebook can be used to bring up rotator and mount/CCW."
   ]
  },
  {
   "cell_type": "markdown",
   "id": "cf97c0a0-a5be-4f61-89b3-280d16a98b03",
   "metadata": {},
   "source": [
    "**Import Modules**"
   ]
  },
  {
   "cell_type": "code",
   "execution_count": 1,
   "id": "dc4e84cf-05f7-4ba5-b3e2-9d41697e460c",
   "metadata": {},
   "outputs": [
    {
     "data": {
      "text/html": [
       "<pre style=\"margin: 0.1em;\n",
       "padding-left: 0.25em;\n",
       "border-left-style: solid;\n",
       "font-family: var(--jp-code-font-family);\n",
       "font-size: var(--jp-code-font-size);\n",
       "line-height: var(--jp-code-line-height);\n",
       "\"><span style=\"color: var(--jp-warn-color2)\">lsst.ts.utils.tai</span> <span style=\"color: var(--jp-info-color0)\">INFO</span>: Update leap second table</pre>"
      ],
      "text/plain": [
       "<IPython.core.display.HTML object>"
      ]
     },
     "metadata": {},
     "output_type": "display_data"
    },
    {
     "data": {
      "text/html": [
       "<pre style=\"margin: 0.1em;\n",
       "padding-left: 0.25em;\n",
       "border-left-style: solid;\n",
       "font-family: var(--jp-code-font-family);\n",
       "font-size: var(--jp-code-font-size);\n",
       "line-height: var(--jp-code-line-height);\n",
       "\"><span style=\"color: var(--jp-warn-color2)\">lsst.ts.utils.tai</span> <span style=\"color: var(--jp-info-color0)\">INFO</span>: current_tai uses the system TAI clock</pre>"
      ],
      "text/plain": [
       "<IPython.core.display.HTML object>"
      ]
     },
     "metadata": {},
     "output_type": "display_data"
    }
   ],
   "source": [
    "%matplotlib inline\n",
    "%matplotlib widget\n",
    "import asyncio\n",
    "from datetime import datetime\n",
    "import time\n",
    "from astropy.time import Time\n",
    "import pandas as pd\n",
    "import numpy as np\n",
    "import matplotlib.pyplot as plt\n",
    "\n",
    "from lsst.ts import salobj\n",
    "from lsst.ts import simactuators\n",
    "from lsst_efd_client import EfdClient"
   ]
  },
  {
   "cell_type": "markdown",
   "id": "453c8eba-a97c-47b9-bf66-ccba82049c40",
   "metadata": {},
   "source": [
    "**Custom Functions**"
   ]
  },
  {
   "cell_type": "code",
   "execution_count": 2,
   "id": "22d01aa0-29e3-4440-8689-01009931f810",
   "metadata": {},
   "outputs": [],
   "source": [
    "def retrieve_efd_client(is_summit=True):\n",
    "    \"\"\"\n",
    "    Retrieves a client to EFD.\n",
    "\n",
    "    Parameters\n",
    "    ----------\n",
    "    is_summit : bool, optional\n",
    "        This notebook is running on the summit or not. If not, the returned object will point\n",
    "        to the test stand at Tucson.\n",
    "\n",
    "    Returns\n",
    "    -------\n",
    "    EfdClient : The interface object between the Nublado and summit/Tucson EFD.\n",
    "    \"\"\"\n",
    "    efd_name = \"summit_efd\" if is_summit else \"tucson_teststand_efd\"        \n",
    "    return EfdClient(efd_name)"
   ]
  },
  {
   "cell_type": "code",
   "execution_count": 3,
   "id": "3678d589-2754-4090-af02-09e0e00b8293",
   "metadata": {},
   "outputs": [],
   "source": [
    "def script_log_start(controller_script, test_title, test_detail):\n",
    "    \"\"\"Log the start of test case in script controller.\n",
    "\n",
    "    Parameters\n",
    "    ----------\n",
    "    controller_script : lsst.ts.salobj.controller.Controller\n",
    "        Script controller.\n",
    "    test_title : str\n",
    "        Test title.\n",
    "    test_detail : str\n",
    "        Test detail.\n",
    "\n",
    "    Returns\n",
    "    -------\n",
    "    astropy.time.core.Time\n",
    "        Time object.\n",
    "    \"\"\"\n",
    "    time_now = datetime.now()\n",
    "    controller_script.log.info(f\"START -- {test_title} -- LVV-T2539 -- {test_detail} -- Starting Time: {time_now} UTC\")\n",
    "    return Time(time_now.isoformat(), scale=\"utc\", format=\"isot\")"
   ]
  },
  {
   "cell_type": "code",
   "execution_count": 4,
   "id": "7f4a5213-6512-49fe-8418-fb9bdd3da666",
   "metadata": {},
   "outputs": [],
   "source": [
    "def script_log_stop(controller_script, test_title, test_detail):\n",
    "    \"\"\"Log the stop of test case in script controller.\n",
    "\n",
    "    Parameters\n",
    "    ----------\n",
    "    controller_script : lsst.ts.salobj.controller.Controller\n",
    "        Script controller.\n",
    "    test_title : str\n",
    "        Test title.\n",
    "    test_detail : str\n",
    "        Test detail.\n",
    "\n",
    "    Returns\n",
    "    -------\n",
    "    astropy.time.core.Time\n",
    "        Time object.\n",
    "    \"\"\"\n",
    "    time_now = datetime.now()\n",
    "    controller_script.log.info(f\"STOP -- {test_title} -- LVV-T2539 -- {test_detail} -- Stopping Time: {time_now} UTC\")\n",
    "    return Time(time_now.isoformat(), scale=\"utc\", format=\"isot\")"
   ]
  },
  {
   "cell_type": "code",
   "execution_count": 47,
   "id": "499a79d0-e8d3-4e32-b7de-fb0f1ba12c1f",
   "metadata": {},
   "outputs": [],
   "source": [
    "async def track_targets(csc):\n",
    "    \"\"\"Track the targets.\n",
    "\n",
    "    Parameters\n",
    "    ----------\n",
    "    csc : lsst.ts.salobj.remote.Remote\n",
    "        Remote object of the rotator CSC.\n",
    "    \"\"\"\n",
    "    \n",
    "    for sign in (1, -1):\n",
    "        await track_target(csc, 0, sign * 0.8, sign * 0.068)\n",
    "        await asyncio.sleep(0.90)\n",
    "        await make_sure_csc_enabled(csc)\n",
    "        await move_origin(csc)\n",
    "\n",
    "        await track_target(csc, 0, sign * 1.0, sign * 0.1)\n",
    "        await asyncio.sleep(0.90)\n",
    "\n",
    "        await make_sure_csc_enabled(csc)\n",
    "        await move_origin(csc)\n",
    "\n",
    "        await track_target(csc, 0, sign * 0.8, sign * 0.03)\n",
    "        await asyncio.sleep(0.90)\n",
    "        await make_sure_csc_enabled(csc)\n",
    "        await move_origin(csc)\n",
    "\n",
    "        await track_target(csc, sign * 10, sign * 11, sign * 0.068)\n",
    "        await asyncio.sleep(0.90)\n",
    "        await make_sure_csc_enabled(csc)\n",
    "        await move_origin(csc)\n",
    "\n",
    "        await track_target(csc, sign * 15, sign * 15.5, sign * 0.03)\n",
    "        await asyncio.sleep(0.90)\n",
    "        await make_sure_csc_enabled(csc)\n",
    "        await move_origin(csc)\n"
   ]
  },
  {
   "cell_type": "code",
   "execution_count": 32,
   "id": "65f49843-342b-4855-ba2f-49c37a37d006",
   "metadata": {},
   "outputs": [],
   "source": [
    "async def track_target(csc, start_position, end_position, velocity):\n",
    "    \"\"\"Track the target.\n",
    "\n",
    "    Parameters\n",
    "    ----------\n",
    "    csc : lsst.ts.salobj.remote.Remote\n",
    "        Remote object of the rotator CSC.\n",
    "    start_position : float\n",
    "        Starting position of ramp (deg).\n",
    "    end_position : float\n",
    "        Ending position of ramp (deg).\n",
    "    velocity : float\n",
    "        Velocity of motion along the ramp (deg/sec).\n",
    "    \"\"\"    \n",
    "\n",
    "    await make_sure_csc_enabled(csc)\n",
    "    \n",
    "    # 20 Hz is 0.05 ms\n",
    "    track_advance_time = 0.05\n",
    "    ramp_generator = simactuators.RampGenerator(\n",
    "        [start_position], [end_position], [velocity], track_advance_time)\n",
    "\n",
    "    await csc.cmd_trackStart.start(timeout=15)\n",
    "    await asyncio.sleep(0.15)\n",
    "    for positions, velocities, tai in ramp_generator():\n",
    "        await csc.cmd_track.set_start(\n",
    "            angle=positions[0],\n",
    "            velocity=velocities[0],\n",
    "            tai=tai,\n",
    "            timeout=5,\n",
    "        )\n",
    "        await asyncio.sleep(0.15)"
   ]
  },
  {
   "cell_type": "code",
   "execution_count": 46,
   "id": "87aa04e8-9f9e-4ca4-8b48-a87dbb0de558",
   "metadata": {},
   "outputs": [],
   "source": [
    "async def move_origin(csc):\n",
    "    \"\"\"Move to the origin.\n",
    "\n",
    "    Parameters\n",
    "    ----------\n",
    "    csc : lsst.ts.salobj.remote.Remote\n",
    "        Remote object of the rotator CSC.\n",
    "    \"\"\"\n",
    "\n",
    "    sleep_time = 3\n",
    "    await asyncio.sleep(sleep_time)\n",
    "\n",
    "    await make_sure_csc_enabled(csc)\n",
    "\n",
    "    # Workaround the problem of MOOG state machine to decide a new point-to-point movement\n",
    "    await csc.cmd_move.set_start(position=0.1, timeout=90)\n",
    "    await asyncio.sleep(sleep_time)\n",
    "\n",
    "    await make_sure_csc_enabled(csc)\n",
    "\n",
    "    await csc.cmd_move.set_start(position=0, timeout=90)\n",
    "    await asyncio.sleep(sleep_time)"
   ]
  },
  {
   "cell_type": "code",
   "execution_count": 42,
   "id": "6bce6313-5518-4e0b-b46b-6efe34c2690b",
   "metadata": {},
   "outputs": [],
   "source": [
    "async def make_sure_csc_enabled(csc):\n",
    "    \"\"\"Make sure the CSC is enabled.\n",
    "\n",
    "    Parameters\n",
    "    ----------\n",
    "    csc : lsst.ts.salobj.remote.Remote\n",
    "        Remote object of the rotator CSC.\n",
    "    \"\"\"\n",
    "    await asyncio.sleep(3)\n",
    "    data = csc.evt_summaryState.get()\n",
    "    await asyncio.sleep(3)\n",
    "    if data.summaryState != salobj.State.ENABLED:\n",
    "        await salobj.set_summary_state(csc, salobj.State.ENABLED, timeout=90)"
   ]
  },
  {
   "cell_type": "markdown",
   "id": "dc0bc163-091c-4c2d-b40a-4bde6556343a",
   "metadata": {},
   "source": [
    "**Instantiate the EFD and CSC**\n",
    "\n",
    "Need to make sure **ospl** is running for the data distribution system (DDS) communication."
   ]
  },
  {
   "cell_type": "code",
   "execution_count": 13,
   "id": "f94682ca-5cf6-4c80-8793-5a2217184ecf",
   "metadata": {},
   "outputs": [
    {
     "data": {
      "text/html": [
       "<pre style=\"margin: 0.1em;\n",
       "padding-left: 0.25em;\n",
       "border-left-style: solid;\n",
       "font-family: var(--jp-code-font-family);\n",
       "font-size: var(--jp-code-font-size);\n",
       "line-height: var(--jp-code-line-height);\n",
       "\"><span style=\"color: var(--jp-warn-color2)\">MTMount.elevation</span> <span style=\"color: var(--jp-warn-color0)\">WARNING</span>: tel_elevation DDS read queue is filling: 31 of 100 elements</pre>"
      ],
      "text/plain": [
       "<IPython.core.display.HTML object>"
      ]
     },
     "metadata": {},
     "output_type": "display_data"
    },
    {
     "data": {
      "text/html": [
       "<pre style=\"margin: 0.1em;\n",
       "padding-left: 0.25em;\n",
       "border-left-style: solid;\n",
       "font-family: var(--jp-code-font-family);\n",
       "font-size: var(--jp-code-font-size);\n",
       "line-height: var(--jp-code-line-height);\n",
       "\"><span style=\"color: var(--jp-warn-color2)\">MTMount.cameraCableWrap</span> <span style=\"color: var(--jp-warn-color0)\">WARNING</span>: tel_cameraCableWrap DDS read queue is filling: 16 of 100 elements</pre>"
      ],
      "text/plain": [
       "<IPython.core.display.HTML object>"
      ]
     },
     "metadata": {},
     "output_type": "display_data"
    },
    {
     "data": {
      "text/html": [
       "<pre style=\"margin: 0.1em;\n",
       "padding-left: 0.25em;\n",
       "border-left-style: solid;\n",
       "font-family: var(--jp-code-font-family);\n",
       "font-size: var(--jp-code-font-size);\n",
       "line-height: var(--jp-code-line-height);\n",
       "\"><span style=\"color: var(--jp-warn-color2)\">MTRotator</span> <span style=\"color: var(--jp-info-color0)\">INFO</span>: Read historical data in 0.01 sec</pre>"
      ],
      "text/plain": [
       "<IPython.core.display.HTML object>"
      ]
     },
     "metadata": {},
     "output_type": "display_data"
    },
    {
     "data": {
      "text/html": [
       "<pre style=\"margin: 0.1em;\n",
       "padding-left: 0.25em;\n",
       "border-left-style: solid;\n",
       "font-family: var(--jp-code-font-family);\n",
       "font-size: var(--jp-code-font-size);\n",
       "line-height: var(--jp-code-line-height);\n",
       "\"><span style=\"color: var(--jp-warn-color2)\">MTMount.azimuth</span> <span style=\"color: var(--jp-warn-color0)\">WARNING</span>: tel_azimuth DDS read queue is filling: 32 of 100 elements</pre>"
      ],
      "text/plain": [
       "<IPython.core.display.HTML object>"
      ]
     },
     "metadata": {},
     "output_type": "display_data"
    },
    {
     "data": {
      "text/plain": [
       "<ddsutil.MTRotator_ackcmd_f04f56ad at 0x7f0317d8d310>"
      ]
     },
     "execution_count": 13,
     "metadata": {},
     "output_type": "execute_result"
    }
   ],
   "source": [
    "is_summit = True\n",
    "efd_client = retrieve_efd_client(is_summit=is_summit)\n",
    "domain = salobj.Domain()\n",
    "rotator = salobj.Remote(domain, \"MTRotator\")\n",
    "await rotator.start_task\n",
    "await rotator.cmd_setLogLevel.set_start(level=10)"
   ]
  },
  {
   "cell_type": "markdown",
   "id": "e5371ce8-0dbe-46a3-a2d7-38f2cc93ba32",
   "metadata": {},
   "source": [
    "**MTMount** controller is used to run the camera cable wrapper (CCW)."
   ]
  },
  {
   "cell_type": "code",
   "execution_count": 10,
   "id": "ecb52e6e-bce9-49d7-8bd8-3f3fdb1fce40",
   "metadata": {},
   "outputs": [
    {
     "data": {
      "text/html": [
       "<pre style=\"margin: 0.1em;\n",
       "padding-left: 0.25em;\n",
       "border-left-style: solid;\n",
       "font-family: var(--jp-code-font-family);\n",
       "font-size: var(--jp-code-font-size);\n",
       "line-height: var(--jp-code-line-height);\n",
       "\"><span style=\"color: var(--jp-warn-color2)\">MTMount</span> <span style=\"color: var(--jp-info-color0)\">INFO</span>: Read historical data in 0.00 sec</pre>"
      ],
      "text/plain": [
       "<IPython.core.display.HTML object>"
      ]
     },
     "metadata": {},
     "output_type": "display_data"
    },
    {
     "data": {
      "text/plain": [
       "<ddsutil.MTMount_ackcmd_d68fb318 at 0x7f0317df94f0>"
      ]
     },
     "execution_count": 10,
     "metadata": {},
     "output_type": "execute_result"
    }
   ],
   "source": [
    "mtmount = salobj.Remote(domain, \"MTMount\")\n",
    "await mtmount.start_task\n",
    "\n",
    "state_mtmount = await mtmount.evt_summaryState.aget(timeout=10)\n",
    "if state_mtmount != salobj.State.ENABLED:\n",
    "    await salobj.set_summary_state(mtmount, salobj.State.ENABLED, timeout=10)\n",
    "\n",
    "await mtmount.cmd_enableCameraCableWrapFollowing.set_start()"
   ]
  },
  {
   "cell_type": "markdown",
   "id": "a43c67c3-34ba-443f-9034-39ec065a9b29",
   "metadata": {},
   "source": [
    "Set the rotator CSC to be **Enabled** state."
   ]
  },
  {
   "cell_type": "code",
   "execution_count": 43,
   "id": "ca6ac35a-e461-48d7-9497-907309ec6e36",
   "metadata": {},
   "outputs": [
    {
     "data": {
      "text/plain": [
       "[<State.ENABLED: 2>]"
      ]
     },
     "execution_count": 43,
     "metadata": {},
     "output_type": "execute_result"
    }
   ],
   "source": [
    "await salobj.set_summary_state(rotator, salobj.State.ENABLED, timeout=10)"
   ]
  },
  {
   "cell_type": "markdown",
   "id": "f2353168-97ee-4132-a979-ad83b7a82b98",
   "metadata": {},
   "source": [
    "**Setup the Script**"
   ]
  },
  {
   "cell_type": "code",
   "execution_count": 12,
   "id": "8341c1db-ea75-4a2b-9fbc-9c6e84482125",
   "metadata": {},
   "outputs": [
    {
     "data": {
      "text/html": [
       "<pre style=\"margin: 0.1em;\n",
       "padding-left: 0.25em;\n",
       "border-left-style: solid;\n",
       "font-family: var(--jp-code-font-family);\n",
       "font-size: var(--jp-code-font-size);\n",
       "line-height: var(--jp-code-line-height);\n",
       "\"><span style=\"color: var(--jp-warn-color2)\">Script</span> <span style=\"color: var(--jp-info-color0)\">INFO</span>: Read historical data in 0.00 sec</pre>"
      ],
      "text/plain": [
       "<IPython.core.display.HTML object>"
      ]
     },
     "metadata": {},
     "output_type": "display_data"
    },
    {
     "name": "stdout",
     "output_type": "stream",
     "text": [
      "Time to start the evaluation is 2022-06-02 13:50:36.312771.\n"
     ]
    }
   ],
   "source": [
    "time_start_evaluation = datetime.now()\n",
    "test_title = \"Evaluate the Rotator Controller Performance\"\n",
    "script = salobj.Controller(\"Script\", index=10)\n",
    "\n",
    "# Wait 10 second may help with DDS problems; closing all other kernels may help too\n",
    "await asyncio.sleep(10)\n",
    "print(f\"Time to start the evaluation is {time_start_evaluation}.\")"
   ]
  },
  {
   "cell_type": "markdown",
   "id": "ff53237d-8c50-47f0-9749-6ed4c645ee44",
   "metadata": {},
   "source": [
    "**Baseline**"
   ]
  },
  {
   "cell_type": "code",
   "execution_count": 49,
   "id": "d594ac0a-a419-4420-b9fe-f91cecee6d0a",
   "metadata": {},
   "outputs": [],
   "source": [
    "await move_origin(rotator)"
   ]
  },
  {
   "cell_type": "code",
   "execution_count": 50,
   "id": "ad51cd5e-34da-4f67-8cf2-89095679985e",
   "metadata": {},
   "outputs": [
    {
     "data": {
      "text/html": [
       "<pre style=\"margin: 0.1em;\n",
       "padding-left: 0.25em;\n",
       "border-left-style: solid;\n",
       "font-family: var(--jp-code-font-family);\n",
       "font-size: var(--jp-code-font-size);\n",
       "line-height: var(--jp-code-line-height);\n",
       "\"><span style=\"color: var(--jp-warn-color2)\">Script</span> <span style=\"color: var(--jp-info-color0)\">INFO</span>: START -- Evaluate the Rotator Controller Performance -- LVV-T2539 -- Baseline -- Starting Time: 2022-06-02 15:03:49.560375 UTC</pre>"
      ],
      "text/plain": [
       "<IPython.core.display.HTML object>"
      ]
     },
     "metadata": {},
     "output_type": "display_data"
    }
   ],
   "source": [
    "time_start = script_log_start(script, test_title, \"Baseline\")"
   ]
  },
  {
   "cell_type": "code",
   "execution_count": 51,
   "id": "d20819a3-e300-454d-8cf1-cf5d35ccf3a3",
   "metadata": {},
   "outputs": [],
   "source": [
    "await track_targets(rotator)"
   ]
  },
  {
   "cell_type": "code",
   "execution_count": 52,
   "id": "556d8449-507f-416f-8d8b-5a5c9847b57f",
   "metadata": {},
   "outputs": [
    {
     "data": {
      "text/html": [
       "<pre style=\"margin: 0.1em;\n",
       "padding-left: 0.25em;\n",
       "border-left-style: solid;\n",
       "font-family: var(--jp-code-font-family);\n",
       "font-size: var(--jp-code-font-size);\n",
       "line-height: var(--jp-code-line-height);\n",
       "\"><span style=\"color: var(--jp-warn-color2)\">Script</span> <span style=\"color: var(--jp-info-color0)\">INFO</span>: STOP -- Evaluate the Rotator Controller Performance -- LVV-T2539 -- Baseline -- Stopping Time: 2022-06-02 15:14:20.392206 UTC</pre>"
      ],
      "text/plain": [
       "<IPython.core.display.HTML object>"
      ]
     },
     "metadata": {},
     "output_type": "display_data"
    }
   ],
   "source": [
    "time_stop = script_log_stop(script, test_title, \"Baseline\")"
   ]
  },
  {
   "cell_type": "markdown",
   "id": "472a1aa6-7cde-492b-b002-e314ff1e6435",
   "metadata": {},
   "source": [
    "**Modify VEL_LOOP_KP**"
   ]
  },
  {
   "cell_type": "markdown",
   "id": "d39e594e-acd2-48ff-8b30-bc38faeb10dd",
   "metadata": {},
   "source": [
    "VEL_LOOP_KP = Increase 25%"
   ]
  },
  {
   "cell_type": "code",
   "execution_count": 53,
   "id": "5c25f811-6d9a-4ff6-ad33-4237ea5f158a",
   "metadata": {},
   "outputs": [
    {
     "data": {
      "text/html": [
       "<pre style=\"margin: 0.1em;\n",
       "padding-left: 0.25em;\n",
       "border-left-style: solid;\n",
       "font-family: var(--jp-code-font-family);\n",
       "font-size: var(--jp-code-font-size);\n",
       "line-height: var(--jp-code-line-height);\n",
       "\"><span style=\"color: var(--jp-warn-color2)\">Script</span> <span style=\"color: var(--jp-info-color0)\">INFO</span>: START -- Evaluate the Rotator Controller Performance -- LVV-T2539 -- VEL_LOOP_KP = Increase 25% -- Starting Time: 2022-06-02 15:21:44.564647 UTC</pre>"
      ],
      "text/plain": [
       "<IPython.core.display.HTML object>"
      ]
     },
     "metadata": {},
     "output_type": "display_data"
    }
   ],
   "source": [
    "time_start = script_log_start(script, test_title, \"VEL_LOOP_KP = Increase 25%\")"
   ]
  },
  {
   "cell_type": "code",
   "execution_count": 54,
   "id": "c2328294-b973-444b-bd53-996409cd614e",
   "metadata": {},
   "outputs": [],
   "source": [
    "await track_targets(rotator)"
   ]
  },
  {
   "cell_type": "code",
   "execution_count": 55,
   "id": "79e8ae86-2d19-49e1-a089-0a2df9d234cf",
   "metadata": {},
   "outputs": [
    {
     "data": {
      "text/html": [
       "<pre style=\"margin: 0.1em;\n",
       "padding-left: 0.25em;\n",
       "border-left-style: solid;\n",
       "font-family: var(--jp-code-font-family);\n",
       "font-size: var(--jp-code-font-size);\n",
       "line-height: var(--jp-code-line-height);\n",
       "\"><span style=\"color: var(--jp-warn-color2)\">Script</span> <span style=\"color: var(--jp-info-color0)\">INFO</span>: STOP -- Evaluate the Rotator Controller Performance -- LVV-T2539 -- VEL_LOOP_KP = Increase 25% -- Stopping Time: 2022-06-02 15:32:12.176935 UTC</pre>"
      ],
      "text/plain": [
       "<IPython.core.display.HTML object>"
      ]
     },
     "metadata": {},
     "output_type": "display_data"
    }
   ],
   "source": [
    "time_stop = script_log_stop(script, test_title, \"VEL_LOOP_KP = Increase 25%\")"
   ]
  },
  {
   "cell_type": "markdown",
   "id": "51a70471-727f-456b-a9a3-2c03cbf3c260",
   "metadata": {},
   "source": [
    "VEL_LOOP_KP = Increase 50%"
   ]
  },
  {
   "cell_type": "code",
   "execution_count": 56,
   "id": "68a95063-c6c1-406c-9451-95e5b7d815cb",
   "metadata": {},
   "outputs": [
    {
     "data": {
      "text/html": [
       "<pre style=\"margin: 0.1em;\n",
       "padding-left: 0.25em;\n",
       "border-left-style: solid;\n",
       "font-family: var(--jp-code-font-family);\n",
       "font-size: var(--jp-code-font-size);\n",
       "line-height: var(--jp-code-line-height);\n",
       "\"><span style=\"color: var(--jp-warn-color2)\">Script</span> <span style=\"color: var(--jp-info-color0)\">INFO</span>: START -- Evaluate the Rotator Controller Performance -- LVV-T2539 -- VEL_LOOP_KP = Increase 50% -- Starting Time: 2022-06-02 15:36:02.226450 UTC</pre>"
      ],
      "text/plain": [
       "<IPython.core.display.HTML object>"
      ]
     },
     "metadata": {},
     "output_type": "display_data"
    }
   ],
   "source": [
    "time_start = script_log_start(script, test_title, \"VEL_LOOP_KP = Increase 50%\")"
   ]
  },
  {
   "cell_type": "code",
   "execution_count": 57,
   "id": "1f2ac52a-e59d-4616-8b8b-37081533d8f6",
   "metadata": {},
   "outputs": [],
   "source": [
    "await track_targets(rotator)"
   ]
  },
  {
   "cell_type": "code",
   "execution_count": 58,
   "id": "6148368b-77e2-4511-afd1-c0a7f4b509f3",
   "metadata": {
    "tags": []
   },
   "outputs": [
    {
     "data": {
      "text/html": [
       "<pre style=\"margin: 0.1em;\n",
       "padding-left: 0.25em;\n",
       "border-left-style: solid;\n",
       "font-family: var(--jp-code-font-family);\n",
       "font-size: var(--jp-code-font-size);\n",
       "line-height: var(--jp-code-line-height);\n",
       "\"><span style=\"color: var(--jp-warn-color2)\">Script</span> <span style=\"color: var(--jp-info-color0)\">INFO</span>: STOP -- Evaluate the Rotator Controller Performance -- LVV-T2539 -- VEL_LOOP_KP = Increase 50% -- Stopping Time: 2022-06-02 15:46:24.628398 UTC</pre>"
      ],
      "text/plain": [
       "<IPython.core.display.HTML object>"
      ]
     },
     "metadata": {},
     "output_type": "display_data"
    }
   ],
   "source": [
    "time_stop = script_log_stop(script, test_title, \"VEL_LOOP_KP = Increase 50%\")"
   ]
  },
  {
   "cell_type": "markdown",
   "id": "5b3ffba7-8655-422d-8c86-40dccfd0b621",
   "metadata": {},
   "source": [
    "VEL_LOOP_KP = Increase 75%"
   ]
  },
  {
   "cell_type": "code",
   "execution_count": 59,
   "id": "ff9d0550-6f64-40c7-926a-41bbd8e9893b",
   "metadata": {},
   "outputs": [
    {
     "data": {
      "text/html": [
       "<pre style=\"margin: 0.1em;\n",
       "padding-left: 0.25em;\n",
       "border-left-style: solid;\n",
       "font-family: var(--jp-code-font-family);\n",
       "font-size: var(--jp-code-font-size);\n",
       "line-height: var(--jp-code-line-height);\n",
       "\"><span style=\"color: var(--jp-warn-color2)\">Script</span> <span style=\"color: var(--jp-info-color0)\">INFO</span>: START -- Evaluate the Rotator Controller Performance -- LVV-T2539 -- VEL_LOOP_KP = Increase 75% -- Starting Time: 2022-06-02 15:50:47.362826 UTC</pre>"
      ],
      "text/plain": [
       "<IPython.core.display.HTML object>"
      ]
     },
     "metadata": {},
     "output_type": "display_data"
    }
   ],
   "source": [
    "time_start = script_log_start(script, test_title, \"VEL_LOOP_KP = Increase 75%\")"
   ]
  },
  {
   "cell_type": "code",
   "execution_count": 60,
   "id": "fc8fca8b-9640-4172-8eb3-cd6b858f8502",
   "metadata": {},
   "outputs": [],
   "source": [
    "await track_targets(rotator)"
   ]
  },
  {
   "cell_type": "code",
   "execution_count": 61,
   "id": "5778e3c1-c12b-49c8-9ae9-da31438af313",
   "metadata": {
    "tags": []
   },
   "outputs": [
    {
     "data": {
      "text/html": [
       "<pre style=\"margin: 0.1em;\n",
       "padding-left: 0.25em;\n",
       "border-left-style: solid;\n",
       "font-family: var(--jp-code-font-family);\n",
       "font-size: var(--jp-code-font-size);\n",
       "line-height: var(--jp-code-line-height);\n",
       "\"><span style=\"color: var(--jp-warn-color2)\">Script</span> <span style=\"color: var(--jp-info-color0)\">INFO</span>: STOP -- Evaluate the Rotator Controller Performance -- LVV-T2539 -- VEL_LOOP_KP = Increase Increase 75% -- Stopping Time: 2022-06-02 16:01:10.189343 UTC</pre>"
      ],
      "text/plain": [
       "<IPython.core.display.HTML object>"
      ]
     },
     "metadata": {},
     "output_type": "display_data"
    }
   ],
   "source": [
    "time_stop = script_log_stop(script, test_title, \"VEL_LOOP_KP = Increase Increase 75%\")"
   ]
  },
  {
   "cell_type": "markdown",
   "id": "f675163c-5521-42d1-9f7d-d13124711422",
   "metadata": {},
   "source": [
    "VEL_LOOP_KP = Increase 100%"
   ]
  },
  {
   "cell_type": "code",
   "execution_count": 62,
   "id": "30f02f97-8995-4606-9cf8-9bae3cfbd89e",
   "metadata": {},
   "outputs": [
    {
     "data": {
      "text/html": [
       "<pre style=\"margin: 0.1em;\n",
       "padding-left: 0.25em;\n",
       "border-left-style: solid;\n",
       "font-family: var(--jp-code-font-family);\n",
       "font-size: var(--jp-code-font-size);\n",
       "line-height: var(--jp-code-line-height);\n",
       "\"><span style=\"color: var(--jp-warn-color2)\">Script</span> <span style=\"color: var(--jp-info-color0)\">INFO</span>: START -- Evaluate the Rotator Controller Performance -- LVV-T2539 -- VEL_LOOP_KP = Increase 100% -- Starting Time: 2022-06-02 16:03:42.330699 UTC</pre>"
      ],
      "text/plain": [
       "<IPython.core.display.HTML object>"
      ]
     },
     "metadata": {},
     "output_type": "display_data"
    }
   ],
   "source": [
    "time_start = script_log_start(script, test_title, \"VEL_LOOP_KP = Increase 100%\")"
   ]
  },
  {
   "cell_type": "code",
   "execution_count": 63,
   "id": "8b9b0557-879c-44d5-860b-5b2894eaaa88",
   "metadata": {},
   "outputs": [],
   "source": [
    "await track_targets(rotator)"
   ]
  },
  {
   "cell_type": "code",
   "execution_count": 64,
   "id": "b01b7c95-2eb1-4dbb-96a0-887699261f78",
   "metadata": {
    "tags": []
   },
   "outputs": [
    {
     "data": {
      "text/html": [
       "<pre style=\"margin: 0.1em;\n",
       "padding-left: 0.25em;\n",
       "border-left-style: solid;\n",
       "font-family: var(--jp-code-font-family);\n",
       "font-size: var(--jp-code-font-size);\n",
       "line-height: var(--jp-code-line-height);\n",
       "\"><span style=\"color: var(--jp-warn-color2)\">Script</span> <span style=\"color: var(--jp-info-color0)\">INFO</span>: STOP -- Evaluate the Rotator Controller Performance -- LVV-T2539 -- VEL_LOOP_KP = Increase Increase 100% -- Stopping Time: 2022-06-02 16:14:02.767141 UTC</pre>"
      ],
      "text/plain": [
       "<IPython.core.display.HTML object>"
      ]
     },
     "metadata": {},
     "output_type": "display_data"
    }
   ],
   "source": [
    "time_stop = script_log_stop(script, test_title, \"VEL_LOOP_KP = Increase Increase 100%\")"
   ]
  },
  {
   "cell_type": "markdown",
   "id": "80afbe61-2ccd-4e0a-9d82-aa0c7ff54ecd",
   "metadata": {},
   "source": [
    "VEL_LOOP_KP = Increase 125%"
   ]
  },
  {
   "cell_type": "code",
   "execution_count": 65,
   "id": "ed3d886d-2ea3-49e1-83bd-d0d9568a3e7c",
   "metadata": {},
   "outputs": [
    {
     "data": {
      "text/html": [
       "<pre style=\"margin: 0.1em;\n",
       "padding-left: 0.25em;\n",
       "border-left-style: solid;\n",
       "font-family: var(--jp-code-font-family);\n",
       "font-size: var(--jp-code-font-size);\n",
       "line-height: var(--jp-code-line-height);\n",
       "\"><span style=\"color: var(--jp-warn-color2)\">Script</span> <span style=\"color: var(--jp-info-color0)\">INFO</span>: START -- Evaluate the Rotator Controller Performance -- LVV-T2539 -- VEL_LOOP_KP = Increase 125% -- Starting Time: 2022-06-02 16:17:27.767621 UTC</pre>"
      ],
      "text/plain": [
       "<IPython.core.display.HTML object>"
      ]
     },
     "metadata": {},
     "output_type": "display_data"
    }
   ],
   "source": [
    "time_start = script_log_start(script, test_title, \"VEL_LOOP_KP = Increase 125%\")"
   ]
  },
  {
   "cell_type": "code",
   "execution_count": 66,
   "id": "a9be7ad3-92cf-4d19-8339-32ca3b7dca03",
   "metadata": {},
   "outputs": [],
   "source": [
    "await track_targets(rotator)"
   ]
  },
  {
   "cell_type": "code",
   "execution_count": 67,
   "id": "b107767d-a348-4e9b-ba78-60729428832f",
   "metadata": {
    "tags": []
   },
   "outputs": [
    {
     "data": {
      "text/html": [
       "<pre style=\"margin: 0.1em;\n",
       "padding-left: 0.25em;\n",
       "border-left-style: solid;\n",
       "font-family: var(--jp-code-font-family);\n",
       "font-size: var(--jp-code-font-size);\n",
       "line-height: var(--jp-code-line-height);\n",
       "\"><span style=\"color: var(--jp-warn-color2)\">Script</span> <span style=\"color: var(--jp-info-color0)\">INFO</span>: STOP -- Evaluate the Rotator Controller Performance -- LVV-T2539 -- VEL_LOOP_KP = Increase Increase 125% -- Stopping Time: 2022-06-02 16:27:48.370254 UTC</pre>"
      ],
      "text/plain": [
       "<IPython.core.display.HTML object>"
      ]
     },
     "metadata": {},
     "output_type": "display_data"
    }
   ],
   "source": [
    "time_stop = script_log_stop(script, test_title, \"VEL_LOOP_KP = Increase Increase 125%\")"
   ]
  },
  {
   "cell_type": "markdown",
   "id": "60dde519-2947-45c9-b0f9-e8d7acad0228",
   "metadata": {},
   "source": [
    "VEL_LOOP_KP = Increase 150%"
   ]
  },
  {
   "cell_type": "code",
   "execution_count": 68,
   "id": "f73de435-62b8-4372-8ce7-4ff6e103c063",
   "metadata": {},
   "outputs": [
    {
     "data": {
      "text/html": [
       "<pre style=\"margin: 0.1em;\n",
       "padding-left: 0.25em;\n",
       "border-left-style: solid;\n",
       "font-family: var(--jp-code-font-family);\n",
       "font-size: var(--jp-code-font-size);\n",
       "line-height: var(--jp-code-line-height);\n",
       "\"><span style=\"color: var(--jp-warn-color2)\">Script</span> <span style=\"color: var(--jp-info-color0)\">INFO</span>: START -- Evaluate the Rotator Controller Performance -- LVV-T2539 -- VEL_LOOP_KP = Increase 150% -- Starting Time: 2022-06-02 16:30:04.553360 UTC</pre>"
      ],
      "text/plain": [
       "<IPython.core.display.HTML object>"
      ]
     },
     "metadata": {},
     "output_type": "display_data"
    }
   ],
   "source": [
    "time_start = script_log_start(script, test_title, \"VEL_LOOP_KP = Increase 150%\")"
   ]
  },
  {
   "cell_type": "code",
   "execution_count": 69,
   "id": "0a4943f6-ac32-4008-ac4a-af95b993065a",
   "metadata": {},
   "outputs": [
    {
     "ename": "CancelledError",
     "evalue": "",
     "output_type": "error",
     "traceback": [
      "\u001b[0;31m---------------------------------------------------------------------------\u001b[0m",
      "\u001b[0;31mCancelledError\u001b[0m                            Traceback (most recent call last)",
      "Input \u001b[0;32mIn [69]\u001b[0m, in \u001b[0;36m<cell line: 1>\u001b[0;34m()\u001b[0m\n\u001b[0;32m----> 1\u001b[0m \u001b[38;5;28;01mawait\u001b[39;00m track_targets(rotator)\n",
      "Input \u001b[0;32mIn [47]\u001b[0m, in \u001b[0;36mtrack_targets\u001b[0;34m(csc)\u001b[0m\n\u001b[1;32m     19\u001b[0m \u001b[38;5;28;01mawait\u001b[39;00m make_sure_csc_enabled(csc)\n\u001b[1;32m     20\u001b[0m \u001b[38;5;28;01mawait\u001b[39;00m move_origin(csc)\n\u001b[0;32m---> 22\u001b[0m \u001b[38;5;28;01mawait\u001b[39;00m track_target(csc, \u001b[38;5;241m0\u001b[39m, sign \u001b[38;5;241m*\u001b[39m \u001b[38;5;241m0.8\u001b[39m, sign \u001b[38;5;241m*\u001b[39m \u001b[38;5;241m0.03\u001b[39m)\n\u001b[1;32m     23\u001b[0m \u001b[38;5;28;01mawait\u001b[39;00m asyncio\u001b[38;5;241m.\u001b[39msleep(\u001b[38;5;241m0.90\u001b[39m)\n\u001b[1;32m     24\u001b[0m \u001b[38;5;28;01mawait\u001b[39;00m make_sure_csc_enabled(csc)\n",
      "Input \u001b[0;32mIn [32]\u001b[0m, in \u001b[0;36mtrack_target\u001b[0;34m(csc, start_position, end_position, velocity)\u001b[0m\n\u001b[1;32m     25\u001b[0m \u001b[38;5;28;01mfor\u001b[39;00m positions, velocities, tai \u001b[38;5;129;01min\u001b[39;00m ramp_generator():\n\u001b[1;32m     26\u001b[0m     \u001b[38;5;28;01mawait\u001b[39;00m csc\u001b[38;5;241m.\u001b[39mcmd_track\u001b[38;5;241m.\u001b[39mset_start(\n\u001b[1;32m     27\u001b[0m         angle\u001b[38;5;241m=\u001b[39mpositions[\u001b[38;5;241m0\u001b[39m],\n\u001b[1;32m     28\u001b[0m         velocity\u001b[38;5;241m=\u001b[39mvelocities[\u001b[38;5;241m0\u001b[39m],\n\u001b[1;32m     29\u001b[0m         tai\u001b[38;5;241m=\u001b[39mtai,\n\u001b[1;32m     30\u001b[0m         timeout\u001b[38;5;241m=\u001b[39m\u001b[38;5;241m5\u001b[39m,\n\u001b[1;32m     31\u001b[0m     )\n\u001b[0;32m---> 32\u001b[0m     \u001b[38;5;28;01mawait\u001b[39;00m asyncio\u001b[38;5;241m.\u001b[39msleep(\u001b[38;5;241m0.15\u001b[39m)\n",
      "File \u001b[0;32m/opt/lsst/software/stack/conda/miniconda3-py38_4.9.2/envs/lsst-scipipe-3.0.0/lib/python3.8/asyncio/tasks.py:659\u001b[0m, in \u001b[0;36msleep\u001b[0;34m(delay, result, loop)\u001b[0m\n\u001b[1;32m    655\u001b[0m h \u001b[38;5;241m=\u001b[39m loop\u001b[38;5;241m.\u001b[39mcall_later(delay,\n\u001b[1;32m    656\u001b[0m                     futures\u001b[38;5;241m.\u001b[39m_set_result_unless_cancelled,\n\u001b[1;32m    657\u001b[0m                     future, result)\n\u001b[1;32m    658\u001b[0m \u001b[38;5;28;01mtry\u001b[39;00m:\n\u001b[0;32m--> 659\u001b[0m     \u001b[38;5;28;01mreturn\u001b[39;00m \u001b[38;5;28;01mawait\u001b[39;00m future\n\u001b[1;32m    660\u001b[0m \u001b[38;5;28;01mfinally\u001b[39;00m:\n\u001b[1;32m    661\u001b[0m     h\u001b[38;5;241m.\u001b[39mcancel()\n",
      "\u001b[0;31mCancelledError\u001b[0m: "
     ]
    }
   ],
   "source": [
    "await track_targets(rotator)"
   ]
  },
  {
   "cell_type": "code",
   "execution_count": 70,
   "id": "6decb5f6-711b-4fb3-b2e2-1de66136741a",
   "metadata": {
    "tags": []
   },
   "outputs": [
    {
     "data": {
      "text/html": [
       "<pre style=\"margin: 0.1em;\n",
       "padding-left: 0.25em;\n",
       "border-left-style: solid;\n",
       "font-family: var(--jp-code-font-family);\n",
       "font-size: var(--jp-code-font-size);\n",
       "line-height: var(--jp-code-line-height);\n",
       "\"><span style=\"color: var(--jp-warn-color2)\">Script</span> <span style=\"color: var(--jp-info-color0)\">INFO</span>: STOP -- Evaluate the Rotator Controller Performance -- LVV-T2539 -- VEL_LOOP_KP = Increase Increase 150% -- Stopping Time: 2022-06-02 16:38:05.971426 UTC</pre>"
      ],
      "text/plain": [
       "<IPython.core.display.HTML object>"
      ]
     },
     "metadata": {},
     "output_type": "display_data"
    }
   ],
   "source": [
    "time_stop = script_log_stop(script, test_title, \"VEL_LOOP_KP = Increase Increase 150%\")"
   ]
  },
  {
   "cell_type": "markdown",
   "id": "e55f354d-aef7-47fd-93ae-a60b76244e6b",
   "metadata": {},
   "source": [
    "VEL_LOOP_KP = Increase 175%"
   ]
  },
  {
   "cell_type": "code",
   "execution_count": 71,
   "id": "b827d8ee-6682-4120-8a41-fcfa08673298",
   "metadata": {},
   "outputs": [
    {
     "data": {
      "text/html": [
       "<pre style=\"margin: 0.1em;\n",
       "padding-left: 0.25em;\n",
       "border-left-style: solid;\n",
       "font-family: var(--jp-code-font-family);\n",
       "font-size: var(--jp-code-font-size);\n",
       "line-height: var(--jp-code-line-height);\n",
       "\"><span style=\"color: var(--jp-warn-color2)\">Script</span> <span style=\"color: var(--jp-info-color0)\">INFO</span>: START -- Evaluate the Rotator Controller Performance -- LVV-T2539 -- VEL_LOOP_KP = Increase 175% -- Starting Time: 2022-06-02 16:43:56.775984 UTC</pre>"
      ],
      "text/plain": [
       "<IPython.core.display.HTML object>"
      ]
     },
     "metadata": {},
     "output_type": "display_data"
    }
   ],
   "source": [
    "time_start = script_log_start(script, test_title, \"VEL_LOOP_KP = Increase 175%\")"
   ]
  },
  {
   "cell_type": "code",
   "execution_count": 72,
   "id": "1285a20c-2572-4baf-b61d-2aabe431c525",
   "metadata": {},
   "outputs": [
    {
     "ename": "AckError",
     "evalue": "msg='Command failed', ackcmd=(ackcmd private_seqNum=1872421222, ack=<SalRetCode.CMD_FAILED: -302>, error=1, result='Failed: Not enabled')",
     "output_type": "error",
     "traceback": [
      "\u001b[0;31m---------------------------------------------------------------------------\u001b[0m",
      "\u001b[0;31mAckError\u001b[0m                                  Traceback (most recent call last)",
      "Input \u001b[0;32mIn [72]\u001b[0m, in \u001b[0;36m<cell line: 1>\u001b[0;34m()\u001b[0m\n\u001b[0;32m----> 1\u001b[0m \u001b[38;5;28;01mawait\u001b[39;00m track_targets(rotator)\n",
      "Input \u001b[0;32mIn [47]\u001b[0m, in \u001b[0;36mtrack_targets\u001b[0;34m(csc)\u001b[0m\n\u001b[1;32m      2\u001b[0m \u001b[38;5;124;03m\"\"\"Track the targets.\u001b[39;00m\n\u001b[1;32m      3\u001b[0m \n\u001b[1;32m      4\u001b[0m \u001b[38;5;124;03mParameters\u001b[39;00m\n\u001b[0;32m   (...)\u001b[0m\n\u001b[1;32m      7\u001b[0m \u001b[38;5;124;03m    Remote object of the rotator CSC.\u001b[39;00m\n\u001b[1;32m      8\u001b[0m \u001b[38;5;124;03m\"\"\"\u001b[39;00m\n\u001b[1;32m     10\u001b[0m \u001b[38;5;28;01mfor\u001b[39;00m sign \u001b[38;5;129;01min\u001b[39;00m (\u001b[38;5;241m1\u001b[39m, \u001b[38;5;241m-\u001b[39m\u001b[38;5;241m1\u001b[39m):\n\u001b[0;32m---> 11\u001b[0m     \u001b[38;5;28;01mawait\u001b[39;00m track_target(csc, \u001b[38;5;241m0\u001b[39m, sign \u001b[38;5;241m*\u001b[39m \u001b[38;5;241m0.8\u001b[39m, sign \u001b[38;5;241m*\u001b[39m \u001b[38;5;241m0.068\u001b[39m)\n\u001b[1;32m     12\u001b[0m     \u001b[38;5;28;01mawait\u001b[39;00m asyncio\u001b[38;5;241m.\u001b[39msleep(\u001b[38;5;241m0.90\u001b[39m)\n\u001b[1;32m     13\u001b[0m     \u001b[38;5;28;01mawait\u001b[39;00m make_sure_csc_enabled(csc)\n",
      "Input \u001b[0;32mIn [32]\u001b[0m, in \u001b[0;36mtrack_target\u001b[0;34m(csc, start_position, end_position, velocity)\u001b[0m\n\u001b[1;32m     24\u001b[0m \u001b[38;5;28;01mawait\u001b[39;00m asyncio\u001b[38;5;241m.\u001b[39msleep(\u001b[38;5;241m0.15\u001b[39m)\n\u001b[1;32m     25\u001b[0m \u001b[38;5;28;01mfor\u001b[39;00m positions, velocities, tai \u001b[38;5;129;01min\u001b[39;00m ramp_generator():\n\u001b[0;32m---> 26\u001b[0m     \u001b[38;5;28;01mawait\u001b[39;00m csc\u001b[38;5;241m.\u001b[39mcmd_track\u001b[38;5;241m.\u001b[39mset_start(\n\u001b[1;32m     27\u001b[0m         angle\u001b[38;5;241m=\u001b[39mpositions[\u001b[38;5;241m0\u001b[39m],\n\u001b[1;32m     28\u001b[0m         velocity\u001b[38;5;241m=\u001b[39mvelocities[\u001b[38;5;241m0\u001b[39m],\n\u001b[1;32m     29\u001b[0m         tai\u001b[38;5;241m=\u001b[39mtai,\n\u001b[1;32m     30\u001b[0m         timeout\u001b[38;5;241m=\u001b[39m\u001b[38;5;241m5\u001b[39m,\n\u001b[1;32m     31\u001b[0m     )\n\u001b[1;32m     32\u001b[0m     \u001b[38;5;28;01mawait\u001b[39;00m asyncio\u001b[38;5;241m.\u001b[39msleep(\u001b[38;5;241m0.15\u001b[39m)\n",
      "File \u001b[0;32m/opt/lsst/software/stack/conda/miniconda3-py38_4.9.2/envs/lsst-scipipe-3.0.0/lib/python3.8/site-packages/lsst/ts/salobj/topics/remote_command.py:418\u001b[0m, in \u001b[0;36mRemoteCommand.set_start\u001b[0;34m(self, timeout, wait_done, **kwargs)\u001b[0m\n\u001b[1;32m    377\u001b[0m \u001b[38;5;124;03m\"\"\"Create a new ``self.data``, set zero or more fields,\u001b[39;00m\n\u001b[1;32m    378\u001b[0m \u001b[38;5;124;03mand start the command.\u001b[39;00m\n\u001b[1;32m    379\u001b[0m \n\u001b[0;32m   (...)\u001b[0m\n\u001b[1;32m    415\u001b[0m \u001b[38;5;124;03m    If ``data`` is not None and not an instance of `DataType`.\u001b[39;00m\n\u001b[1;32m    416\u001b[0m \u001b[38;5;124;03m\"\"\"\u001b[39;00m\n\u001b[1;32m    417\u001b[0m \u001b[38;5;28mself\u001b[39m\u001b[38;5;241m.\u001b[39mset(\u001b[38;5;241m*\u001b[39m\u001b[38;5;241m*\u001b[39mkwargs)\n\u001b[0;32m--> 418\u001b[0m \u001b[38;5;28;01mreturn\u001b[39;00m \u001b[38;5;28;01mawait\u001b[39;00m \u001b[38;5;28mself\u001b[39m\u001b[38;5;241m.\u001b[39mstart(timeout\u001b[38;5;241m=\u001b[39mtimeout, wait_done\u001b[38;5;241m=\u001b[39mwait_done)\n",
      "File \u001b[0;32m/opt/lsst/software/stack/conda/miniconda3-py38_4.9.2/envs/lsst-scipipe-3.0.0/lib/python3.8/site-packages/lsst/ts/salobj/topics/remote_command.py:485\u001b[0m, in \u001b[0;36mRemoteCommand.start\u001b[0;34m(self, data, timeout, wait_done)\u001b[0m\n\u001b[1;32m    481\u001b[0m cmd_info \u001b[38;5;241m=\u001b[39m CommandInfo(\n\u001b[1;32m    482\u001b[0m     remote_command\u001b[38;5;241m=\u001b[39m\u001b[38;5;28mself\u001b[39m, seq_num\u001b[38;5;241m=\u001b[39mseq_num, wait_done\u001b[38;5;241m=\u001b[39mwait_done\n\u001b[1;32m    483\u001b[0m )\n\u001b[1;32m    484\u001b[0m \u001b[38;5;28mself\u001b[39m\u001b[38;5;241m.\u001b[39msalinfo\u001b[38;5;241m.\u001b[39m_running_cmds[seq_num] \u001b[38;5;241m=\u001b[39m cmd_info\n\u001b[0;32m--> 485\u001b[0m \u001b[38;5;28;01mreturn\u001b[39;00m \u001b[38;5;28;01mawait\u001b[39;00m cmd_info\u001b[38;5;241m.\u001b[39mnext_ackcmd(timeout\u001b[38;5;241m=\u001b[39mtimeout)\n",
      "File \u001b[0;32m/opt/lsst/software/stack/conda/miniconda3-py38_4.9.2/envs/lsst-scipipe-3.0.0/lib/python3.8/site-packages/lsst/ts/salobj/topics/remote_command.py:195\u001b[0m, in \u001b[0;36mCommandInfo.next_ackcmd\u001b[0;34m(self, timeout)\u001b[0m\n\u001b[1;32m    193\u001b[0m     ackcmd \u001b[38;5;241m=\u001b[39m \u001b[38;5;28;01mawait\u001b[39;00m \u001b[38;5;28mself\u001b[39m\u001b[38;5;241m.\u001b[39m_wait_task\n\u001b[1;32m    194\u001b[0m     \u001b[38;5;28;01mif\u001b[39;00m ackcmd\u001b[38;5;241m.\u001b[39mack \u001b[38;5;129;01min\u001b[39;00m \u001b[38;5;28mself\u001b[39m\u001b[38;5;241m.\u001b[39mfailed_ack_codes:\n\u001b[0;32m--> 195\u001b[0m         \u001b[38;5;28;01mraise\u001b[39;00m base\u001b[38;5;241m.\u001b[39mAckError(msg\u001b[38;5;241m=\u001b[39m\u001b[38;5;124m\"\u001b[39m\u001b[38;5;124mCommand failed\u001b[39m\u001b[38;5;124m\"\u001b[39m, ackcmd\u001b[38;5;241m=\u001b[39mackcmd)\n\u001b[1;32m    196\u001b[0m     \u001b[38;5;28;01mreturn\u001b[39;00m ackcmd\n\u001b[1;32m    197\u001b[0m \u001b[38;5;28;01mexcept\u001b[39;00m asyncio\u001b[38;5;241m.\u001b[39mTimeoutError:\n",
      "\u001b[0;31mAckError\u001b[0m: msg='Command failed', ackcmd=(ackcmd private_seqNum=1872421222, ack=<SalRetCode.CMD_FAILED: -302>, error=1, result='Failed: Not enabled')"
     ]
    }
   ],
   "source": [
    "await track_targets(rotator)"
   ]
  },
  {
   "cell_type": "code",
   "execution_count": null,
   "id": "b49dfdbb-fb5b-45fa-8dd6-a517345f3806",
   "metadata": {
    "tags": []
   },
   "outputs": [],
   "source": [
    "time_stop = script_log_stop(script, test_title, \"VEL_LOOP_KP = Increase Increase 175%\")"
   ]
  },
  {
   "cell_type": "markdown",
   "id": "8ff70a68-596d-4414-bce8-14c3ee3832dc",
   "metadata": {},
   "source": [
    "VEL_LOOP_KP = Increase 125%"
   ]
  },
  {
   "cell_type": "code",
   "execution_count": 73,
   "id": "3dc3cb32-cd95-4007-8f9c-9dbf8f50712b",
   "metadata": {},
   "outputs": [
    {
     "data": {
      "text/html": [
       "<pre style=\"margin: 0.1em;\n",
       "padding-left: 0.25em;\n",
       "border-left-style: solid;\n",
       "font-family: var(--jp-code-font-family);\n",
       "font-size: var(--jp-code-font-size);\n",
       "line-height: var(--jp-code-line-height);\n",
       "\"><span style=\"color: var(--jp-warn-color2)\">Script</span> <span style=\"color: var(--jp-info-color0)\">INFO</span>: START -- Evaluate the Rotator Controller Performance -- LVV-T2539 -- VEL_LOOP_KP = Increase 125%_second -- Starting Time: 2022-06-02 17:02:59.795312 UTC</pre>"
      ],
      "text/plain": [
       "<IPython.core.display.HTML object>"
      ]
     },
     "metadata": {},
     "output_type": "display_data"
    }
   ],
   "source": [
    "time_start = script_log_start(script, test_title, \"VEL_LOOP_KP = Increase 125%_second\")"
   ]
  },
  {
   "cell_type": "code",
   "execution_count": 74,
   "id": "ddea9110-0000-453b-b4b9-6c75198c357c",
   "metadata": {},
   "outputs": [],
   "source": [
    "await track_targets(rotator)"
   ]
  },
  {
   "cell_type": "code",
   "execution_count": 75,
   "id": "e2559695-a261-4833-8ddd-e65a1a71e80d",
   "metadata": {
    "tags": []
   },
   "outputs": [
    {
     "data": {
      "text/html": [
       "<pre style=\"margin: 0.1em;\n",
       "padding-left: 0.25em;\n",
       "border-left-style: solid;\n",
       "font-family: var(--jp-code-font-family);\n",
       "font-size: var(--jp-code-font-size);\n",
       "line-height: var(--jp-code-line-height);\n",
       "\"><span style=\"color: var(--jp-warn-color2)\">Script</span> <span style=\"color: var(--jp-info-color0)\">INFO</span>: STOP -- Evaluate the Rotator Controller Performance -- LVV-T2539 -- VEL_LOOP_KP = Increase Increase 125%_second -- Stopping Time: 2022-06-02 17:13:25.689681 UTC</pre>"
      ],
      "text/plain": [
       "<IPython.core.display.HTML object>"
      ]
     },
     "metadata": {},
     "output_type": "display_data"
    }
   ],
   "source": [
    "time_stop = script_log_stop(script, test_title, \"VEL_LOOP_KP = Increase Increase 125%_second\")"
   ]
  },
  {
   "cell_type": "markdown",
   "id": "2fab0b9e-f6b1-48a1-96e3-95325688da8e",
   "metadata": {},
   "source": [
    "VEL_LOOP_KP = Increase 200%"
   ]
  },
  {
   "cell_type": "code",
   "execution_count": 29,
   "id": "595f639d-a840-41bc-9def-6ff862716c51",
   "metadata": {},
   "outputs": [
    {
     "data": {
      "text/html": [
       "<pre style=\"margin: 0.1em;\n",
       "padding-left: 0.25em;\n",
       "border-left-style: solid;\n",
       "font-family: var(--jp-code-font-family);\n",
       "font-size: var(--jp-code-font-size);\n",
       "line-height: var(--jp-code-line-height);\n",
       "\"><span style=\"color: var(--jp-warn-color2)\">Script</span> <span style=\"color: var(--jp-info-color0)\">INFO</span>: START -- Evaluate the Rotator Controller Performance -- LVV-T2539 -- VEL_LOOP_KP = 80 -- Starting Time: 2022-06-01 14:29:53.140111 UTC</pre>"
      ],
      "text/plain": [
       "<IPython.core.display.HTML object>"
      ]
     },
     "metadata": {},
     "output_type": "display_data"
    }
   ],
   "source": [
    "time_start = script_log_start(script, test_title, \"VEL_LOOP_KP = Increase 200%\")"
   ]
  },
  {
   "cell_type": "code",
   "execution_count": null,
   "id": "fa2859ec-a6eb-4a2d-9022-b3c70de8d8f3",
   "metadata": {},
   "outputs": [],
   "source": [
    "await track_targets(rotator)"
   ]
  },
  {
   "cell_type": "code",
   "execution_count": 30,
   "id": "82c6f6c7-c0a1-477b-81b4-7d8e1cb4a664",
   "metadata": {
    "tags": []
   },
   "outputs": [
    {
     "data": {
      "text/html": [
       "<pre style=\"margin: 0.1em;\n",
       "padding-left: 0.25em;\n",
       "border-left-style: solid;\n",
       "font-family: var(--jp-code-font-family);\n",
       "font-size: var(--jp-code-font-size);\n",
       "line-height: var(--jp-code-line-height);\n",
       "\"><span style=\"color: var(--jp-warn-color2)\">Script</span> <span style=\"color: var(--jp-info-color0)\">INFO</span>: STOP -- Evaluate the Rotator Controller Performance -- LVV-T2539 -- VEL_LOOP_KP = 80 -- Stopping Time: 2022-06-01 14:30:03.438084 UTC</pre>"
      ],
      "text/plain": [
       "<IPython.core.display.HTML object>"
      ]
     },
     "metadata": {},
     "output_type": "display_data"
    }
   ],
   "source": [
    "time_stop = script_log_stop(script, test_title, \"VEL_LOOP_KP = Increase Increase 200%\")"
   ]
  },
  {
   "cell_type": "markdown",
   "id": "a3f69830-ca88-4476-b2be-73b71774b4ed",
   "metadata": {},
   "source": [
    "VEL_LOOP_KP = Increase 225%"
   ]
  },
  {
   "cell_type": "code",
   "execution_count": 29,
   "id": "d30c7bba-4923-4e5d-bd46-6ff916386ab7",
   "metadata": {},
   "outputs": [
    {
     "data": {
      "text/html": [
       "<pre style=\"margin: 0.1em;\n",
       "padding-left: 0.25em;\n",
       "border-left-style: solid;\n",
       "font-family: var(--jp-code-font-family);\n",
       "font-size: var(--jp-code-font-size);\n",
       "line-height: var(--jp-code-line-height);\n",
       "\"><span style=\"color: var(--jp-warn-color2)\">Script</span> <span style=\"color: var(--jp-info-color0)\">INFO</span>: START -- Evaluate the Rotator Controller Performance -- LVV-T2539 -- VEL_LOOP_KP = 80 -- Starting Time: 2022-06-01 14:29:53.140111 UTC</pre>"
      ],
      "text/plain": [
       "<IPython.core.display.HTML object>"
      ]
     },
     "metadata": {},
     "output_type": "display_data"
    }
   ],
   "source": [
    "time_start = script_log_start(script, test_title, \"VEL_LOOP_KP = Increase 225%\")"
   ]
  },
  {
   "cell_type": "code",
   "execution_count": null,
   "id": "03587f1f-247d-47a9-bf1f-1789dfd66822",
   "metadata": {},
   "outputs": [],
   "source": [
    "await track_targets(rotator)"
   ]
  },
  {
   "cell_type": "code",
   "execution_count": 30,
   "id": "428dcaa4-9bd1-47c2-ae4e-0f2050994346",
   "metadata": {
    "tags": []
   },
   "outputs": [
    {
     "data": {
      "text/html": [
       "<pre style=\"margin: 0.1em;\n",
       "padding-left: 0.25em;\n",
       "border-left-style: solid;\n",
       "font-family: var(--jp-code-font-family);\n",
       "font-size: var(--jp-code-font-size);\n",
       "line-height: var(--jp-code-line-height);\n",
       "\"><span style=\"color: var(--jp-warn-color2)\">Script</span> <span style=\"color: var(--jp-info-color0)\">INFO</span>: STOP -- Evaluate the Rotator Controller Performance -- LVV-T2539 -- VEL_LOOP_KP = 80 -- Stopping Time: 2022-06-01 14:30:03.438084 UTC</pre>"
      ],
      "text/plain": [
       "<IPython.core.display.HTML object>"
      ]
     },
     "metadata": {},
     "output_type": "display_data"
    }
   ],
   "source": [
    "time_stop = script_log_stop(script, test_title, \"VEL_LOOP_KP = Increase Increase 225%\")"
   ]
  },
  {
   "cell_type": "markdown",
   "id": "2c961200-00e1-4d22-858e-db85656cb58d",
   "metadata": {},
   "source": [
    "VEL_LOOP_KP = Increase 250%"
   ]
  },
  {
   "cell_type": "code",
   "execution_count": 29,
   "id": "5d70ced0-5177-46ab-825e-97fbdcd2cf60",
   "metadata": {},
   "outputs": [
    {
     "data": {
      "text/html": [
       "<pre style=\"margin: 0.1em;\n",
       "padding-left: 0.25em;\n",
       "border-left-style: solid;\n",
       "font-family: var(--jp-code-font-family);\n",
       "font-size: var(--jp-code-font-size);\n",
       "line-height: var(--jp-code-line-height);\n",
       "\"><span style=\"color: var(--jp-warn-color2)\">Script</span> <span style=\"color: var(--jp-info-color0)\">INFO</span>: START -- Evaluate the Rotator Controller Performance -- LVV-T2539 -- VEL_LOOP_KP = 80 -- Starting Time: 2022-06-01 14:29:53.140111 UTC</pre>"
      ],
      "text/plain": [
       "<IPython.core.display.HTML object>"
      ]
     },
     "metadata": {},
     "output_type": "display_data"
    }
   ],
   "source": [
    "time_start = script_log_start(script, test_title, \"VEL_LOOP_KP = Increase 250%\")"
   ]
  },
  {
   "cell_type": "code",
   "execution_count": null,
   "id": "d7b6305f-e734-4777-b7d2-9766658b3785",
   "metadata": {},
   "outputs": [],
   "source": [
    "await track_targets(rotator)"
   ]
  },
  {
   "cell_type": "code",
   "execution_count": 30,
   "id": "4394036d-7f30-4b7c-a793-81098c0950da",
   "metadata": {
    "tags": []
   },
   "outputs": [
    {
     "data": {
      "text/html": [
       "<pre style=\"margin: 0.1em;\n",
       "padding-left: 0.25em;\n",
       "border-left-style: solid;\n",
       "font-family: var(--jp-code-font-family);\n",
       "font-size: var(--jp-code-font-size);\n",
       "line-height: var(--jp-code-line-height);\n",
       "\"><span style=\"color: var(--jp-warn-color2)\">Script</span> <span style=\"color: var(--jp-info-color0)\">INFO</span>: STOP -- Evaluate the Rotator Controller Performance -- LVV-T2539 -- VEL_LOOP_KP = 80 -- Stopping Time: 2022-06-01 14:30:03.438084 UTC</pre>"
      ],
      "text/plain": [
       "<IPython.core.display.HTML object>"
      ]
     },
     "metadata": {},
     "output_type": "display_data"
    }
   ],
   "source": [
    "time_stop = script_log_stop(script, test_title, \"VEL_LOOP_KP = Increase Increase 250%\")"
   ]
  },
  {
   "cell_type": "markdown",
   "id": "b82bad2c-ecf0-4240-b708-e82b18d3b586",
   "metadata": {},
   "source": [
    "VEL_LOOP_KP = Increase 275%"
   ]
  },
  {
   "cell_type": "code",
   "execution_count": 29,
   "id": "0a6cc893-4861-4a50-a3f8-692bb5ab7dd4",
   "metadata": {},
   "outputs": [
    {
     "data": {
      "text/html": [
       "<pre style=\"margin: 0.1em;\n",
       "padding-left: 0.25em;\n",
       "border-left-style: solid;\n",
       "font-family: var(--jp-code-font-family);\n",
       "font-size: var(--jp-code-font-size);\n",
       "line-height: var(--jp-code-line-height);\n",
       "\"><span style=\"color: var(--jp-warn-color2)\">Script</span> <span style=\"color: var(--jp-info-color0)\">INFO</span>: START -- Evaluate the Rotator Controller Performance -- LVV-T2539 -- VEL_LOOP_KP = 80 -- Starting Time: 2022-06-01 14:29:53.140111 UTC</pre>"
      ],
      "text/plain": [
       "<IPython.core.display.HTML object>"
      ]
     },
     "metadata": {},
     "output_type": "display_data"
    }
   ],
   "source": [
    "time_start = script_log_start(script, test_title, \"VEL_LOOP_KP = Increase 275%\")"
   ]
  },
  {
   "cell_type": "code",
   "execution_count": null,
   "id": "993a96f6-4ca2-4887-99e3-63b1c9dd2ccd",
   "metadata": {},
   "outputs": [],
   "source": [
    "await track_targets(rotator)"
   ]
  },
  {
   "cell_type": "code",
   "execution_count": 30,
   "id": "99a6ef98-560e-4488-aa34-072f7e31b3a1",
   "metadata": {
    "tags": []
   },
   "outputs": [
    {
     "data": {
      "text/html": [
       "<pre style=\"margin: 0.1em;\n",
       "padding-left: 0.25em;\n",
       "border-left-style: solid;\n",
       "font-family: var(--jp-code-font-family);\n",
       "font-size: var(--jp-code-font-size);\n",
       "line-height: var(--jp-code-line-height);\n",
       "\"><span style=\"color: var(--jp-warn-color2)\">Script</span> <span style=\"color: var(--jp-info-color0)\">INFO</span>: STOP -- Evaluate the Rotator Controller Performance -- LVV-T2539 -- VEL_LOOP_KP = 80 -- Stopping Time: 2022-06-01 14:30:03.438084 UTC</pre>"
      ],
      "text/plain": [
       "<IPython.core.display.HTML object>"
      ]
     },
     "metadata": {},
     "output_type": "display_data"
    }
   ],
   "source": [
    "time_stop = script_log_stop(script, test_title, \"VEL_LOOP_KP = Increase Increase 275%\")"
   ]
  },
  {
   "cell_type": "markdown",
   "id": "d61edc61-844a-40c5-9881-4fb63da590b5",
   "metadata": {},
   "source": [
    "VEL_LOOP_KP = Increase 300%"
   ]
  },
  {
   "cell_type": "code",
   "execution_count": 29,
   "id": "eea6aa6b-bfdf-4c2f-b1b1-1d7548569077",
   "metadata": {},
   "outputs": [
    {
     "data": {
      "text/html": [
       "<pre style=\"margin: 0.1em;\n",
       "padding-left: 0.25em;\n",
       "border-left-style: solid;\n",
       "font-family: var(--jp-code-font-family);\n",
       "font-size: var(--jp-code-font-size);\n",
       "line-height: var(--jp-code-line-height);\n",
       "\"><span style=\"color: var(--jp-warn-color2)\">Script</span> <span style=\"color: var(--jp-info-color0)\">INFO</span>: START -- Evaluate the Rotator Controller Performance -- LVV-T2539 -- VEL_LOOP_KP = 80 -- Starting Time: 2022-06-01 14:29:53.140111 UTC</pre>"
      ],
      "text/plain": [
       "<IPython.core.display.HTML object>"
      ]
     },
     "metadata": {},
     "output_type": "display_data"
    }
   ],
   "source": [
    "time_start = script_log_start(script, test_title, \"VEL_LOOP_KP = Increase 300%\")"
   ]
  },
  {
   "cell_type": "code",
   "execution_count": null,
   "id": "e76f210f-8866-475f-a96b-aff468314f4e",
   "metadata": {},
   "outputs": [],
   "source": [
    "await track_targets(rotator)"
   ]
  },
  {
   "cell_type": "code",
   "execution_count": 30,
   "id": "0539b083-63e3-4f4f-8e01-fea239702e53",
   "metadata": {
    "tags": []
   },
   "outputs": [
    {
     "data": {
      "text/html": [
       "<pre style=\"margin: 0.1em;\n",
       "padding-left: 0.25em;\n",
       "border-left-style: solid;\n",
       "font-family: var(--jp-code-font-family);\n",
       "font-size: var(--jp-code-font-size);\n",
       "line-height: var(--jp-code-line-height);\n",
       "\"><span style=\"color: var(--jp-warn-color2)\">Script</span> <span style=\"color: var(--jp-info-color0)\">INFO</span>: STOP -- Evaluate the Rotator Controller Performance -- LVV-T2539 -- VEL_LOOP_KP = 80 -- Stopping Time: 2022-06-01 14:30:03.438084 UTC</pre>"
      ],
      "text/plain": [
       "<IPython.core.display.HTML object>"
      ]
     },
     "metadata": {},
     "output_type": "display_data"
    }
   ],
   "source": [
    "time_stop = script_log_stop(script, test_title, \"VEL_LOOP_KP = Increase Increase 300%\")"
   ]
  }
 ],
 "metadata": {
  "kernelspec": {
   "display_name": "LSST",
   "language": "python",
   "name": "lsst"
  },
  "language_info": {
   "codemirror_mode": {
    "name": "ipython",
    "version": 3
   },
   "file_extension": ".py",
   "mimetype": "text/x-python",
   "name": "python",
   "nbconvert_exporter": "python",
   "pygments_lexer": "ipython3",
   "version": "3.8.13"
  }
 },
 "nbformat": 4,
 "nbformat_minor": 5
}
