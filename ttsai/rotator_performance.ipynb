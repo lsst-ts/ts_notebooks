{
 "cells": [
  {
   "cell_type": "markdown",
   "id": "6a06e44a-7ac5-4f9e-b58f-647563c7b767",
   "metadata": {},
   "source": [
    "**Rotator Performance Turning**\n",
    "\n",
    "This Jupyter notebook is used to turn the controller parameters by Tekniker.\n",
    "The test will be performed on summit with the real hardware.\n",
    "Before that, the Tucson test stand is used to develop the test procedure.\n",
    "The rotator commandable SAL component (CSC) is used to control the rotator hardware.\n",
    "The published event and telemetry are stored in the engineering facility database (EFD).\n",
    "\n",
    "It is noted that the **MTMount** telemetry data is required.\n",
    "Otherwise, the rotator CSC will put the low-level controller into the **Fault** state.\n",
    "\n",
    "The **setup** notebook can be used to bring up rotator and mount/CCW."
   ]
  },
  {
   "cell_type": "markdown",
   "id": "cf97c0a0-a5be-4f61-89b3-280d16a98b03",
   "metadata": {},
   "source": [
    "**Import Modules**"
   ]
  },
  {
   "cell_type": "code",
   "execution_count": null,
   "id": "dc4e84cf-05f7-4ba5-b3e2-9d41697e460c",
   "metadata": {},
   "outputs": [],
   "source": [
    "%matplotlib inline\n",
    "%matplotlib widget\n",
    "import asyncio\n",
    "from datetime import datetime\n",
    "import time\n",
    "from astropy.time import Time\n",
    "import pandas as pd\n",
    "import numpy as np\n",
    "import matplotlib.pyplot as plt\n",
    "\n",
    "from lsst.ts import salobj\n",
    "from lsst.ts import simactuators\n",
    "from lsst_efd_client import EfdClient"
   ]
  },
  {
   "cell_type": "markdown",
   "id": "453c8eba-a97c-47b9-bf66-ccba82049c40",
   "metadata": {},
   "source": [
    "**Custom Functions**"
   ]
  },
  {
   "cell_type": "code",
   "execution_count": null,
   "id": "22d01aa0-29e3-4440-8689-01009931f810",
   "metadata": {},
   "outputs": [],
   "source": [
    "def retrieve_efd_client(is_summit=True):\n",
    "    \"\"\"\n",
    "    Retrieves a client to EFD.\n",
    "\n",
    "    Parameters\n",
    "    ----------\n",
    "    is_summit : bool, optional\n",
    "        This notebook is running on the summit or not. If not, the returned object will point\n",
    "        to the test stand at Tucson.\n",
    "\n",
    "    Returns\n",
    "    -------\n",
    "    EfdClient : The interface object between the Nublado and summit/Tucson EFD.\n",
    "    \"\"\"\n",
    "    efd_name = \"summit_efd\" if is_summit else \"tucson_teststand_efd\"        \n",
    "    return EfdClient(efd_name)"
   ]
  },
  {
   "cell_type": "code",
   "execution_count": null,
   "id": "3678d589-2754-4090-af02-09e0e00b8293",
   "metadata": {},
   "outputs": [],
   "source": [
    "def script_log_start(controller_script, test_title, test_detail):\n",
    "    \"\"\"Log the start of test case in script controller.\n",
    "\n",
    "    Parameters\n",
    "    ----------\n",
    "    controller_script : lsst.ts.salobj.controller.Controller\n",
    "        Script controller.\n",
    "    test_title : str\n",
    "        Test title.\n",
    "    test_detail : str\n",
    "        Test detail.\n",
    "\n",
    "    Returns\n",
    "    -------\n",
    "    astropy.time.core.Time\n",
    "        Time object.\n",
    "    \"\"\"\n",
    "    time_now = datetime.now()\n",
    "    controller_script.log.info(f\"START -- {test_title} -- LVV-T2539 -- {test_detail} -- Starting Time: {time_now} UTC\")\n",
    "    return Time(time_now.isoformat(), scale=\"utc\", format=\"isot\")"
   ]
  },
  {
   "cell_type": "code",
   "execution_count": null,
   "id": "7f4a5213-6512-49fe-8418-fb9bdd3da666",
   "metadata": {},
   "outputs": [],
   "source": [
    "def script_log_stop(controller_script, test_title, test_detail):\n",
    "    \"\"\"Log the stop of test case in script controller.\n",
    "\n",
    "    Parameters\n",
    "    ----------\n",
    "    controller_script : lsst.ts.salobj.controller.Controller\n",
    "        Script controller.\n",
    "    test_title : str\n",
    "        Test title.\n",
    "    test_detail : str\n",
    "        Test detail.\n",
    "\n",
    "    Returns\n",
    "    -------\n",
    "    astropy.time.core.Time\n",
    "        Time object.\n",
    "    \"\"\"\n",
    "    time_now = datetime.now()\n",
    "    controller_script.log.info(f\"STOP -- {test_title} -- LVV-T2539 -- {test_detail} -- Stopping Time: {time_now} UTC\")\n",
    "    return Time(time_now.isoformat(), scale=\"utc\", format=\"isot\")"
   ]
  },
  {
   "cell_type": "code",
   "execution_count": 8,
   "id": "499a79d0-e8d3-4e32-b7de-fb0f1ba12c1f",
   "metadata": {},
   "outputs": [],
   "source": [
    "async def track_targets(csc, target_start_position):\n",
    "    \"\"\"Track the targets.\n",
    "\n",
    "    Parameters\n",
    "    ----------\n",
    "    csc : lsst.ts.salobj.remote.Remote\n",
    "        Remote object of the rotator CSC.\n",
    "    target_start_position : int or float\n",
    "        Absolute target start position in degree. The positive/negative value will be tested.\n",
    "    \"\"\"\n",
    "\n",
    "    lasting_time = 25\n",
    "    velocities = [0.0042, 0.015, 0.05]\n",
    "\n",
    "    for sign in (1, -1):\n",
    "        for velocity in velocities:\n",
    "            await track_target_time(csc, sign * target_start_position, sign * velocity, lasting_time)\n",
    "            await make_sure_csc_enabled(csc)\n",
    "            await move_origin(csc)"
   ]
  },
  {
   "cell_type": "code",
   "execution_count": null,
   "id": "6112a5bf-c4d4-44d8-bf76-ca7406451ca9",
   "metadata": {},
   "outputs": [],
   "source": [
    "async def track_target_time(csc, start_position, velocity, lasting_time):\n",
    "    \"\"\"Track the target with a lasting time.\n",
    "\n",
    "    Parameters\n",
    "    ----------\n",
    "    csc : lsst.ts.salobj.remote.Remote\n",
    "        Remote object of the rotator CSC.\n",
    "    start_position : float\n",
    "        Starting position of ramp (deg).\n",
    "    velocity : float\n",
    "        Velocity of motion along the ramp (deg/sec).\n",
    "    lasting_time : float or int\n",
    "        Lasting time of tracking target. This value should be >= 0.\n",
    "    \"\"\"\n",
    "\n",
    "    end_position = start_position + velocity * lasting_time\n",
    "    await track_target(csc, start_position, end_position, velocity)"
   ]
  },
  {
   "cell_type": "code",
   "execution_count": null,
   "id": "65f49843-342b-4855-ba2f-49c37a37d006",
   "metadata": {},
   "outputs": [],
   "source": [
    "async def track_target(csc, start_position, end_position, velocity):\n",
    "    \"\"\"Track the target.\n",
    "\n",
    "    Parameters\n",
    "    ----------\n",
    "    csc : lsst.ts.salobj.remote.Remote\n",
    "        Remote object of the rotator CSC.\n",
    "    start_position : float\n",
    "        Starting position of ramp (deg).\n",
    "    end_position : float\n",
    "        Ending position of ramp (deg).\n",
    "    velocity : float\n",
    "        Velocity of motion along the ramp (deg/sec).\n",
    "    \"\"\"    \n",
    "\n",
    "    await make_sure_csc_enabled(csc)\n",
    "    \n",
    "    # 20 Hz is 0.05 sec, 10 Hz is 0.1 sec\n",
    "    track_advance_time = 0.1\n",
    "    ramp_generator = simactuators.RampGenerator(\n",
    "        [start_position], [end_position], [velocity], track_advance_time)\n",
    "\n",
    "    await csc.cmd_trackStart.start(timeout=15)\n",
    "    await asyncio.sleep(0.15)\n",
    "    for positions, velocities, tai in ramp_generator():\n",
    "        await csc.cmd_track.set_start(\n",
    "            angle=positions[0],\n",
    "            velocity=velocities[0],\n",
    "            tai=tai,\n",
    "            timeout=10,\n",
    "        )\n",
    "        await asyncio.sleep(track_advance_time)\n",
    "\n",
    "    await asyncio.sleep(1)"
   ]
  },
  {
   "cell_type": "code",
   "execution_count": null,
   "id": "87aa04e8-9f9e-4ca4-8b48-a87dbb0de558",
   "metadata": {},
   "outputs": [],
   "source": [
    "async def move_origin(csc):\n",
    "    \"\"\"Move to the origin.\n",
    "\n",
    "    Parameters\n",
    "    ----------\n",
    "    csc : lsst.ts.salobj.remote.Remote\n",
    "        Remote object of the rotator CSC.\n",
    "    \"\"\"\n",
    "\n",
    "    sleep_time = 3\n",
    "    await asyncio.sleep(sleep_time)\n",
    "\n",
    "    await make_sure_csc_enabled(csc)\n",
    "\n",
    "    # Workaround the problem of MOOG state machine to decide a new point-to-point movement\n",
    "    await csc.cmd_move.set_start(position=0.1, timeout=90)\n",
    "    await asyncio.sleep(sleep_time)\n",
    "\n",
    "    await make_sure_csc_enabled(csc)\n",
    "\n",
    "    await csc.cmd_move.set_start(position=0, timeout=90)\n",
    "    await asyncio.sleep(sleep_time)"
   ]
  },
  {
   "cell_type": "code",
   "execution_count": null,
   "id": "6bce6313-5518-4e0b-b46b-6efe34c2690b",
   "metadata": {},
   "outputs": [],
   "source": [
    "async def make_sure_csc_enabled(csc):\n",
    "    \"\"\"Make sure the CSC is enabled.\n",
    "\n",
    "    Parameters\n",
    "    ----------\n",
    "    csc : lsst.ts.salobj.remote.Remote\n",
    "        Remote object of the rotator CSC.\n",
    "    \"\"\"\n",
    "    await asyncio.sleep(3)\n",
    "    data = csc.evt_summaryState.get()\n",
    "    await asyncio.sleep(3)\n",
    "    if data.summaryState != salobj.State.ENABLED:\n",
    "        await salobj.set_summary_state(csc, salobj.State.ENABLED, timeout=90)"
   ]
  },
  {
   "cell_type": "markdown",
   "id": "dc0bc163-091c-4c2d-b40a-4bde6556343a",
   "metadata": {},
   "source": [
    "**Instantiate the EFD and CSC**\n",
    "\n",
    "Need to make sure **ospl** is running for the data distribution system (DDS) communication."
   ]
  },
  {
   "cell_type": "code",
   "execution_count": null,
   "id": "f94682ca-5cf6-4c80-8793-5a2217184ecf",
   "metadata": {},
   "outputs": [],
   "source": [
    "is_summit = True\n",
    "efd_client = retrieve_efd_client(is_summit=is_summit)\n",
    "domain = salobj.Domain()\n",
    "rotator = salobj.Remote(domain, \"MTRotator\")\n",
    "await rotator.start_task\n",
    "await rotator.cmd_setLogLevel.set_start(level=10)"
   ]
  },
  {
   "cell_type": "markdown",
   "id": "e5371ce8-0dbe-46a3-a2d7-38f2cc93ba32",
   "metadata": {},
   "source": [
    "**MTMount** controller is used to run the camera cable wrapper (CCW)."
   ]
  },
  {
   "cell_type": "code",
   "execution_count": null,
   "id": "ecb52e6e-bce9-49d7-8bd8-3f3fdb1fce40",
   "metadata": {},
   "outputs": [],
   "source": [
    "mtmount = salobj.Remote(domain, \"MTMount\")\n",
    "await mtmount.start_task\n",
    "\n",
    "state_mtmount = mtmount.evt_summaryState.get()\n",
    "if state_mtmount != salobj.State.ENABLED:\n",
    "    await salobj.set_summary_state(mtmount, salobj.State.ENABLED, timeout=10)\n",
    "\n",
    "await mtmount.cmd_enableCameraCableWrapFollowing.set_start()"
   ]
  },
  {
   "cell_type": "code",
   "execution_count": null,
   "id": "7756baa8-80ca-4a1f-a9b8-78419762a1d7",
   "metadata": {},
   "outputs": [],
   "source": [
    "state_mtmount = mtmount.evt_summaryState.get()\n",
    "print(state_mtmount)"
   ]
  },
  {
   "cell_type": "code",
   "execution_count": null,
   "id": "8e8f789b-4a39-4d9b-aa29-78dd36a71478",
   "metadata": {},
   "outputs": [],
   "source": [
    "await salobj.set_summary_state(mtmount, salobj.State.ENABLED, timeout=10)"
   ]
  },
  {
   "cell_type": "code",
   "execution_count": null,
   "id": "4ff900cb-c4ed-4a6f-9ce0-f297a117824a",
   "metadata": {},
   "outputs": [],
   "source": [
    "await mtmount.cmd_enableCameraCableWrapFollowing.set_start()"
   ]
  },
  {
   "cell_type": "markdown",
   "id": "a43c67c3-34ba-443f-9034-39ec065a9b29",
   "metadata": {},
   "source": [
    "Set the rotator CSC to be **Enabled** state."
   ]
  },
  {
   "cell_type": "code",
   "execution_count": null,
   "id": "ca6ac35a-e461-48d7-9497-907309ec6e36",
   "metadata": {},
   "outputs": [],
   "source": [
    "await salobj.set_summary_state(rotator, salobj.State.ENABLED, timeout=60)"
   ]
  },
  {
   "cell_type": "code",
   "execution_count": null,
   "id": "dd1cedea-9123-4f5a-ae72-20b1d259b489",
   "metadata": {},
   "outputs": [],
   "source": [
    "await move_origin(rotator)"
   ]
  },
  {
   "cell_type": "markdown",
   "id": "f2353168-97ee-4132-a979-ad83b7a82b98",
   "metadata": {},
   "source": [
    "**Setup the Script**"
   ]
  },
  {
   "cell_type": "code",
   "execution_count": null,
   "id": "8341c1db-ea75-4a2b-9fbc-9c6e84482125",
   "metadata": {},
   "outputs": [],
   "source": [
    "time_start_evaluation = datetime.now()\n",
    "test_title = \"Evaluate the Rotator Controller Performance\"\n",
    "script = salobj.Controller(\"Script\", index=10)\n",
    "\n",
    "# Wait 10 second may help with DDS problems; closing all other kernels may help too\n",
    "await asyncio.sleep(10)\n",
    "print(f\"Time to start the evaluation is {time_start_evaluation}.\")"
   ]
  },
  {
   "cell_type": "markdown",
   "id": "ff53237d-8c50-47f0-9749-6ed4c645ee44",
   "metadata": {},
   "source": [
    "**Baseline**"
   ]
  },
  {
   "cell_type": "code",
   "execution_count": null,
   "id": "ad51cd5e-34da-4f67-8cf2-89095679985e",
   "metadata": {},
   "outputs": [],
   "source": [
    "time_start = script_log_start(script, test_title, \"Baseline (0 degree)\")"
   ]
  },
  {
   "cell_type": "code",
   "execution_count": null,
   "id": "d20819a3-e300-454d-8cf1-cf5d35ccf3a3",
   "metadata": {},
   "outputs": [],
   "source": [
    "await track_targets(rotator, 0)"
   ]
  },
  {
   "cell_type": "code",
   "execution_count": null,
   "id": "88c02564-4b81-493f-b455-2c895e91c213",
   "metadata": {},
   "outputs": [],
   "source": [
    "time_stop = script_log_stop(script, test_title, \"Baseline (0 degree)\")"
   ]
  },
  {
   "cell_type": "code",
   "execution_count": null,
   "id": "a6046d0d-89f6-429d-8f26-4092d55d8e3d",
   "metadata": {},
   "outputs": [],
   "source": []
  },
  {
   "cell_type": "code",
   "execution_count": null,
   "id": "8b4aaead-98e1-4be3-bfed-48f753b81f1b",
   "metadata": {},
   "outputs": [],
   "source": [
    "# time_start = script_log_start(script, test_title, \"Baseline (10 degree)\")"
   ]
  },
  {
   "cell_type": "code",
   "execution_count": null,
   "id": "e93cdcd0-4858-42be-878b-60cf166c1cc4",
   "metadata": {},
   "outputs": [],
   "source": [
    "# await track_targets(rotator, 10)"
   ]
  },
  {
   "cell_type": "code",
   "execution_count": null,
   "id": "556d8449-507f-416f-8d8b-5a5c9847b57f",
   "metadata": {},
   "outputs": [],
   "source": [
    "# time_stop = script_log_stop(script, test_title, \"Baseline (10 degree)\")"
   ]
  },
  {
   "cell_type": "markdown",
   "id": "c9b79af8-5a13-4c1e-b184-8e40acca9192",
   "metadata": {},
   "source": [
    "**Use Ander's update of trigger.**"
   ]
  },
  {
   "cell_type": "code",
   "execution_count": null,
   "id": "be74af5b-54ff-4231-8891-93c8c5164883",
   "metadata": {},
   "outputs": [],
   "source": [
    "time_start = script_log_start(script, test_title, \"Ander's update (0 degree)\")"
   ]
  },
  {
   "cell_type": "code",
   "execution_count": null,
   "id": "26a8abdf-fe67-4aed-a245-7edca8df7f70",
   "metadata": {},
   "outputs": [],
   "source": [
    "await track_targets(rotator, 0)"
   ]
  },
  {
   "cell_type": "code",
   "execution_count": null,
   "id": "cbdd3eaa-7f53-4b66-8069-f8cb4e5b257f",
   "metadata": {},
   "outputs": [],
   "source": [
    "time_stop = script_log_stop(script, test_title, \"Ander's update (0 degree)\")"
   ]
  },
  {
   "cell_type": "code",
   "execution_count": null,
   "id": "a686d669-4fa6-4fdf-8de4-26455ccfd5ec",
   "metadata": {},
   "outputs": [],
   "source": []
  },
  {
   "cell_type": "code",
   "execution_count": null,
   "id": "92af7e61-188c-423b-a07f-76e3f602cad0",
   "metadata": {},
   "outputs": [],
   "source": [
    "# time_start = script_log_start(script, test_title, \"Ander's update (10 degree)\")"
   ]
  },
  {
   "cell_type": "code",
   "execution_count": null,
   "id": "908e407f-818d-4ee5-9dd5-339fb6cc9e0f",
   "metadata": {},
   "outputs": [],
   "source": [
    "# await track_targets(rotator, 10)"
   ]
  },
  {
   "cell_type": "code",
   "execution_count": null,
   "id": "57fda129-8940-4120-a380-68cdca17d630",
   "metadata": {},
   "outputs": [],
   "source": [
    "# time_stop = script_log_stop(script, test_title, \"Ander's update (10 degree)\")"
   ]
  },
  {
   "cell_type": "markdown",
   "id": "5f178afc-9fc2-4cc5-8f3f-255d1db7aa6a",
   "metadata": {},
   "source": [
    "**Update the P value**"
   ]
  },
  {
   "cell_type": "code",
   "execution_count": null,
   "id": "65585a3a-8850-4878-83e6-581f9b960776",
   "metadata": {},
   "outputs": [],
   "source": [
    "time_start = script_log_start(script, test_title, \"Update P (0 degree)\")"
   ]
  },
  {
   "cell_type": "code",
   "execution_count": null,
   "id": "be20d898-b5c8-4ccb-a8b3-73c36c5932c0",
   "metadata": {},
   "outputs": [],
   "source": [
    "await track_targets(rotator, 0)"
   ]
  },
  {
   "cell_type": "code",
   "execution_count": null,
   "id": "5bc5ef60-5067-4b69-b351-286b80e69ef5",
   "metadata": {},
   "outputs": [],
   "source": [
    "time_stop = script_log_stop(script, test_title, \"Update P (0 degree)\")"
   ]
  },
  {
   "cell_type": "code",
   "execution_count": null,
   "id": "0409a71a-5637-4c15-b0d5-a36b1829673a",
   "metadata": {},
   "outputs": [],
   "source": []
  },
  {
   "cell_type": "code",
   "execution_count": null,
   "id": "55a0a6d6-8f86-4cbd-802f-e88a42a49b77",
   "metadata": {},
   "outputs": [],
   "source": [
    "# time_start = script_log_start(script, test_title, \"Update P (10 degree)\")"
   ]
  },
  {
   "cell_type": "code",
   "execution_count": null,
   "id": "93e4dc8a-cd3a-453b-93ac-ff4436f4d987",
   "metadata": {},
   "outputs": [],
   "source": [
    "# await track_targets(rotator, 10)"
   ]
  },
  {
   "cell_type": "code",
   "execution_count": null,
   "id": "0d108c89-aa2c-4e14-a3ab-1b49feb8975d",
   "metadata": {},
   "outputs": [],
   "source": [
    "# time_stop = script_log_stop(script, test_title, \"Update P (10 degree)\")"
   ]
  },
  {
   "cell_type": "code",
   "execution_count": null,
   "id": "41085913-2059-4e4d-a264-120e27e1686e",
   "metadata": {},
   "outputs": [],
   "source": []
  }
 ],
 "metadata": {
  "kernelspec": {
   "display_name": "Python 3",
   "language": "python",
   "name": "python3"
  },
  "language_info": {
   "codemirror_mode": {
    "name": "ipython",
    "version": 3
   },
   "file_extension": ".py",
   "mimetype": "text/x-python",
   "name": "python",
   "nbconvert_exporter": "python",
   "pygments_lexer": "ipython3",
   "version": "3.7.10"
  }
 },
 "nbformat": 4,
 "nbformat_minor": 5
}
