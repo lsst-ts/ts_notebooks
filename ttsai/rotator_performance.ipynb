{
 "cells": [
  {
   "cell_type": "markdown",
   "id": "6a06e44a-7ac5-4f9e-b58f-647563c7b767",
   "metadata": {},
   "source": [
    "**Rotator Performance Turning**\n",
    "\n",
    "This Jupyter notebook is used to turn the controller parameters by Tekniker.\n",
    "The test will be performed on summit with the real hardware.\n",
    "Before that, the Tucson test stand is used to develop the test procedure.\n",
    "The rotator commandable SAL component (CSC) is used to control the rotator hardware.\n",
    "The published event and telemetry are stored in the engineering facility database (EFD).\n",
    "\n",
    "It is noted that the **MTMount** telemetry data is required.\n",
    "Otherwise, the rotator CSC will put the low-level controller into the **Fault** state.\n",
    "\n",
    "The **setup** notebook can be used to bring up rotator and mount/CCW."
   ]
  },
  {
   "cell_type": "markdown",
   "id": "cf97c0a0-a5be-4f61-89b3-280d16a98b03",
   "metadata": {},
   "source": [
    "**Import Modules**"
   ]
  },
  {
   "cell_type": "code",
   "execution_count": 1,
   "id": "dc4e84cf-05f7-4ba5-b3e2-9d41697e460c",
   "metadata": {},
   "outputs": [
    {
     "data": {
      "text/html": [
       "<pre style=\"margin: 0.1em;\n",
       "padding-left: 0.25em;\n",
       "border-left-style: solid;\n",
       "font-family: var(--jp-code-font-family);\n",
       "font-size: var(--jp-code-font-size);\n",
       "line-height: var(--jp-code-line-height);\n",
       "\"><span style=\"color: var(--jp-warn-color2)\">lsst.ts.utils.tai</span> <span style=\"color: var(--jp-info-color0)\">INFO</span>: Update leap second table</pre>"
      ],
      "text/plain": [
       "<IPython.core.display.HTML object>"
      ]
     },
     "metadata": {},
     "output_type": "display_data"
    },
    {
     "data": {
      "text/html": [
       "<pre style=\"margin: 0.1em;\n",
       "padding-left: 0.25em;\n",
       "border-left-style: solid;\n",
       "font-family: var(--jp-code-font-family);\n",
       "font-size: var(--jp-code-font-size);\n",
       "line-height: var(--jp-code-line-height);\n",
       "\"><span style=\"color: var(--jp-warn-color2)\">lsst.ts.utils.tai</span> <span style=\"color: var(--jp-info-color0)\">INFO</span>: current_tai uses the system TAI clock</pre>"
      ],
      "text/plain": [
       "<IPython.core.display.HTML object>"
      ]
     },
     "metadata": {},
     "output_type": "display_data"
    }
   ],
   "source": [
    "%matplotlib inline\n",
    "%matplotlib widget\n",
    "import asyncio\n",
    "from datetime import datetime\n",
    "import time\n",
    "from astropy.time import Time\n",
    "import pandas as pd\n",
    "import numpy as np\n",
    "import matplotlib.pyplot as plt\n",
    "\n",
    "from lsst.ts import salobj\n",
    "from lsst.ts import simactuators\n",
    "from lsst_efd_client import EfdClient"
   ]
  },
  {
   "cell_type": "markdown",
   "id": "453c8eba-a97c-47b9-bf66-ccba82049c40",
   "metadata": {},
   "source": [
    "**Custom Functions**"
   ]
  },
  {
   "cell_type": "code",
   "execution_count": 2,
   "id": "22d01aa0-29e3-4440-8689-01009931f810",
   "metadata": {},
   "outputs": [],
   "source": [
    "def retrieve_efd_client(is_summit=True):\n",
    "    \"\"\"\n",
    "    Retrieves a client to EFD.\n",
    "\n",
    "    Parameters\n",
    "    ----------\n",
    "    is_summit : bool, optional\n",
    "        This notebook is running on the summit or not. If not, the returned object will point\n",
    "        to the test stand at Tucson.\n",
    "\n",
    "    Returns\n",
    "    -------\n",
    "    EfdClient : The interface object between the Nublado and summit/Tucson EFD.\n",
    "    \"\"\"\n",
    "    efd_name = \"summit_efd\" if is_summit else \"tucson_teststand_efd\"        \n",
    "    return EfdClient(efd_name)"
   ]
  },
  {
   "cell_type": "code",
   "execution_count": 3,
   "id": "3678d589-2754-4090-af02-09e0e00b8293",
   "metadata": {},
   "outputs": [],
   "source": [
    "def script_log_start(controller_script, test_title, test_detail):\n",
    "    \"\"\"Log the start of test case in script controller.\n",
    "\n",
    "    Parameters\n",
    "    ----------\n",
    "    controller_script : lsst.ts.salobj.controller.Controller\n",
    "        Script controller.\n",
    "    test_title : str\n",
    "        Test title.\n",
    "    test_detail : str\n",
    "        Test detail.\n",
    "\n",
    "    Returns\n",
    "    -------\n",
    "    astropy.time.core.Time\n",
    "        Time object.\n",
    "    \"\"\"\n",
    "    time_now = datetime.now()\n",
    "    controller_script.log.info(f\"START -- {test_title} -- LVV-T2539 -- {test_detail} -- Starting Time: {time_now} UTC\")\n",
    "    return Time(time_now.isoformat(), scale=\"utc\", format=\"isot\")"
   ]
  },
  {
   "cell_type": "code",
   "execution_count": 25,
   "id": "7f4a5213-6512-49fe-8418-fb9bdd3da666",
   "metadata": {},
   "outputs": [],
   "source": [
    "def script_log_stop(controller_script, test_title, test_detail):\n",
    "    \"\"\"Log the stop of test case in script controller.\n",
    "\n",
    "    Parameters\n",
    "    ----------\n",
    "    controller_script : lsst.ts.salobj.controller.Controller\n",
    "        Script controller.\n",
    "    test_title : str\n",
    "        Test title.\n",
    "    test_detail : str\n",
    "        Test detail.\n",
    "\n",
    "    Returns\n",
    "    -------\n",
    "    astropy.time.core.Time\n",
    "        Time object.\n",
    "    \"\"\"\n",
    "    time_now = datetime.now()\n",
    "    controller_script.log.info(f\"STOP -- {test_title} -- LVV-T2539 -- {test_detail} -- Stopping Time: {time_now} UTC\")\n",
    "    return Time(time_now.isoformat(), scale=\"utc\", format=\"isot\")"
   ]
  },
  {
   "cell_type": "code",
   "execution_count": 57,
   "id": "499a79d0-e8d3-4e32-b7de-fb0f1ba12c1f",
   "metadata": {},
   "outputs": [],
   "source": [
    "async def track_targets(csc):\n",
    "    \"\"\"Track the targets.\n",
    "\n",
    "    Parameters\n",
    "    ----------\n",
    "    csc : lsst.ts.salobj.remote.Remote\n",
    "        Remote object of the rotator CSC.\n",
    "    \"\"\"\n",
    "    \n",
    "    for sign in (1, -1):\n",
    "        await track_target(csc, 0, sign * 0.5, sign * 0.068)\n",
    "        await move_origin(csc)\n",
    "\n",
    "        await track_target(csc, 0, sign * 0.8, sign * 0.1)\n",
    "        await move_origin(csc)\n",
    "\n",
    "        await track_target(csc, 0, sign * 0.5, sign * 0.03)\n",
    "        await move_origin(csc)\n",
    "\n",
    "        await track_target(csc, sign * 10, sign * 11, sign * 0.068)\n",
    "        await move_origin(csc)\n",
    "\n",
    "        await track_target(csc, sign * 15, sign * 15.5, sign * 0.03)\n",
    "        await move_origin(csc)\n"
   ]
  },
  {
   "cell_type": "code",
   "execution_count": 14,
   "id": "65f49843-342b-4855-ba2f-49c37a37d006",
   "metadata": {},
   "outputs": [],
   "source": [
    "async def track_target(csc, start_position, end_position, velocity):\n",
    "    \"\"\"Track the target.\n",
    "\n",
    "    Parameters\n",
    "    ----------\n",
    "    csc : lsst.ts.salobj.remote.Remote\n",
    "        Remote object of the rotator CSC.\n",
    "    start_position : float\n",
    "        Starting position of ramp (deg).\n",
    "    end_position : float\n",
    "        Ending position of ramp (deg).\n",
    "    velocity : float\n",
    "        Velocity of motion along the ramp (deg/sec).\n",
    "    \"\"\"    \n",
    "\n",
    "    await make_sure_csc_enabled(csc)\n",
    "    \n",
    "    # 20 Hz is 0.05 ms\n",
    "    track_advance_time = 0.05\n",
    "    ramp_generator = simactuators.RampGenerator(\n",
    "        [start_position], [end_position], [velocity], track_advance_time)\n",
    "\n",
    "    await csc.cmd_trackStart.start(timeout=15)\n",
    "    await asyncio.sleep(0.1)\n",
    "    for positions, velocities, tai in ramp_generator():\n",
    "        await csc.cmd_track.set_start(\n",
    "            angle=positions[0],\n",
    "            velocity=velocities[0],\n",
    "            tai=tai,\n",
    "            timeout=5,\n",
    "        )\n",
    "        await asyncio.sleep(0.1)"
   ]
  },
  {
   "cell_type": "code",
   "execution_count": 13,
   "id": "87aa04e8-9f9e-4ca4-8b48-a87dbb0de558",
   "metadata": {},
   "outputs": [],
   "source": [
    "async def move_origin(csc):\n",
    "    \"\"\"Move to the origin.\n",
    "\n",
    "    Parameters\n",
    "    ----------\n",
    "    csc : lsst.ts.salobj.remote.Remote\n",
    "        Remote object of the rotator CSC.\n",
    "    \"\"\"\n",
    "\n",
    "    sleep_time = 3\n",
    "    await asyncio.sleep(sleep_time)\n",
    "\n",
    "    await make_sure_csc_enabled(csc)\n",
    "\n",
    "    # Workaround the problem of MOOG state machine to decide a new point-to-point movement\n",
    "    await csc.cmd_move.set_start(position=0.1, timeout=60)\n",
    "    await asyncio.sleep(sleep_time)\n",
    "\n",
    "    await make_sure_csc_enabled(csc)\n",
    "\n",
    "    await csc.cmd_move.set_start(position=0, timeout=60)\n",
    "    await asyncio.sleep(sleep_time)"
   ]
  },
  {
   "cell_type": "code",
   "execution_count": 12,
   "id": "6bce6313-5518-4e0b-b46b-6efe34c2690b",
   "metadata": {},
   "outputs": [],
   "source": [
    "async def make_sure_csc_enabled(csc):\n",
    "    \"\"\"Make sure the CSC is enabled.\n",
    "\n",
    "    Parameters\n",
    "    ----------\n",
    "    csc : lsst.ts.salobj.remote.Remote\n",
    "        Remote object of the rotator CSC.\n",
    "    \"\"\"\n",
    "    data = await csc.evt_summaryState.aget(timeout=30)\n",
    "    if data.summaryState != salobj.State.ENABLED:\n",
    "        await salobj.set_summary_state(csc, salobj.State.ENABLED, timeout=10)"
   ]
  },
  {
   "cell_type": "markdown",
   "id": "dc0bc163-091c-4c2d-b40a-4bde6556343a",
   "metadata": {},
   "source": [
    "**Instantiate the EFD and CSC**\n",
    "\n",
    "Need to make sure **ospl** is running for the data distribution system (DDS) communication."
   ]
  },
  {
   "cell_type": "code",
   "execution_count": 15,
   "id": "f94682ca-5cf6-4c80-8793-5a2217184ecf",
   "metadata": {},
   "outputs": [
    {
     "data": {
      "text/html": [
       "<pre style=\"margin: 0.1em;\n",
       "padding-left: 0.25em;\n",
       "border-left-style: solid;\n",
       "font-family: var(--jp-code-font-family);\n",
       "font-size: var(--jp-code-font-size);\n",
       "line-height: var(--jp-code-line-height);\n",
       "\"><span style=\"color: var(--jp-warn-color2)\">MTRotator</span> <span style=\"color: var(--jp-info-color0)\">INFO</span>: Read historical data in 0.00 sec</pre>"
      ],
      "text/plain": [
       "<IPython.core.display.HTML object>"
      ]
     },
     "metadata": {},
     "output_type": "display_data"
    },
    {
     "data": {
      "text/plain": [
       "<ddsutil.MTRotator_ackcmd_f04f56ad at 0x7f12705da7c0>"
      ]
     },
     "execution_count": 15,
     "metadata": {},
     "output_type": "execute_result"
    }
   ],
   "source": [
    "is_summit = False\n",
    "efd_client = retrieve_efd_client(is_summit=is_summit)\n",
    "domain = salobj.Domain()\n",
    "rotator = salobj.Remote(domain, \"MTRotator\")\n",
    "await rotator.start_task\n",
    "await rotator.cmd_setLogLevel.set_start(level=10)"
   ]
  },
  {
   "cell_type": "markdown",
   "id": "e5371ce8-0dbe-46a3-a2d7-38f2cc93ba32",
   "metadata": {},
   "source": [
    "**MTMount** controller is used to run the camera cable wrapper (CCW)."
   ]
  },
  {
   "cell_type": "code",
   "execution_count": 16,
   "id": "ecb52e6e-bce9-49d7-8bd8-3f3fdb1fce40",
   "metadata": {},
   "outputs": [
    {
     "data": {
      "text/html": [
       "<pre style=\"margin: 0.1em;\n",
       "padding-left: 0.25em;\n",
       "border-left-style: solid;\n",
       "font-family: var(--jp-code-font-family);\n",
       "font-size: var(--jp-code-font-size);\n",
       "line-height: var(--jp-code-line-height);\n",
       "\"><span style=\"color: var(--jp-warn-color2)\">MTMount</span> <span style=\"color: var(--jp-info-color0)\">INFO</span>: Read historical data in 0.01 sec</pre>"
      ],
      "text/plain": [
       "<IPython.core.display.HTML object>"
      ]
     },
     "metadata": {},
     "output_type": "display_data"
    },
    {
     "data": {
      "text/plain": [
       "<ddsutil.MTMount_ackcmd_d68fb318 at 0x7f1270489100>"
      ]
     },
     "execution_count": 16,
     "metadata": {},
     "output_type": "execute_result"
    }
   ],
   "source": [
    "mtmount = salobj.Remote(domain, \"MTMount\")\n",
    "await mtmount.start_task\n",
    "\n",
    "state_mtmount = await mtmount.evt_summaryState.aget(timeout=10)\n",
    "if state_mtmount != salobj.State.ENABLED:\n",
    "    await salobj.set_summary_state(mtmount, salobj.State.ENABLED, timeout=10)\n",
    "\n",
    "await mtmount.cmd_enableCameraCableWrapFollowing.set_start()"
   ]
  },
  {
   "cell_type": "markdown",
   "id": "a43c67c3-34ba-443f-9034-39ec065a9b29",
   "metadata": {},
   "source": [
    "Set the rotator CSC to be **Enabled** state."
   ]
  },
  {
   "cell_type": "code",
   "execution_count": 17,
   "id": "ca6ac35a-e461-48d7-9497-907309ec6e36",
   "metadata": {},
   "outputs": [
    {
     "data": {
      "text/plain": [
       "[<State.ENABLED: 2>]"
      ]
     },
     "execution_count": 17,
     "metadata": {},
     "output_type": "execute_result"
    }
   ],
   "source": [
    "await salobj.set_summary_state(rotator, salobj.State.ENABLED, timeout=10)"
   ]
  },
  {
   "cell_type": "markdown",
   "id": "f2353168-97ee-4132-a979-ad83b7a82b98",
   "metadata": {},
   "source": [
    "**Setup the Script**"
   ]
  },
  {
   "cell_type": "code",
   "execution_count": 21,
   "id": "8341c1db-ea75-4a2b-9fbc-9c6e84482125",
   "metadata": {},
   "outputs": [
    {
     "data": {
      "text/html": [
       "<pre style=\"margin: 0.1em;\n",
       "padding-left: 0.25em;\n",
       "border-left-style: solid;\n",
       "font-family: var(--jp-code-font-family);\n",
       "font-size: var(--jp-code-font-size);\n",
       "line-height: var(--jp-code-line-height);\n",
       "\"><span style=\"color: var(--jp-warn-color2)\">Script</span> <span style=\"color: var(--jp-info-color0)\">INFO</span>: Read historical data in 0.00 sec</pre>"
      ],
      "text/plain": [
       "<IPython.core.display.HTML object>"
      ]
     },
     "metadata": {},
     "output_type": "display_data"
    },
    {
     "name": "stdout",
     "output_type": "stream",
     "text": [
      "Time to start the evaluation is 2022-06-01 14:22:32.160050.\n"
     ]
    }
   ],
   "source": [
    "time_start_evaluation = datetime.now()\n",
    "test_title = \"Evaluate the Rotator Controller Performance\"\n",
    "script = salobj.Controller(\"Script\", index=10)\n",
    "\n",
    "# Wait 10 second may help with DDS problems; closing all other kernels may help too\n",
    "await asyncio.sleep(10)\n",
    "print(f\"Time to start the evaluation is {time_start_evaluation}.\")"
   ]
  },
  {
   "cell_type": "markdown",
   "id": "ff53237d-8c50-47f0-9749-6ed4c645ee44",
   "metadata": {},
   "source": [
    "**Baseline**"
   ]
  },
  {
   "cell_type": "code",
   "execution_count": 23,
   "id": "ad51cd5e-34da-4f67-8cf2-89095679985e",
   "metadata": {},
   "outputs": [
    {
     "data": {
      "text/html": [
       "<pre style=\"margin: 0.1em;\n",
       "padding-left: 0.25em;\n",
       "border-left-style: solid;\n",
       "font-family: var(--jp-code-font-family);\n",
       "font-size: var(--jp-code-font-size);\n",
       "line-height: var(--jp-code-line-height);\n",
       "\"><span style=\"color: var(--jp-warn-color2)\">Script</span> <span style=\"color: var(--jp-info-color0)\">INFO</span>: START -- Evaluate the Rotator Controller Performance -- LVV-T2539 -- Baseline -- Starting Time: 2022-06-01 14:26:56.515876 UTC</pre>"
      ],
      "text/plain": [
       "<IPython.core.display.HTML object>"
      ]
     },
     "metadata": {},
     "output_type": "display_data"
    }
   ],
   "source": [
    "time_start = script_log_start(script, test_title, \"Baseline\")"
   ]
  },
  {
   "cell_type": "code",
   "execution_count": 58,
   "id": "d20819a3-e300-454d-8cf1-cf5d35ccf3a3",
   "metadata": {},
   "outputs": [],
   "source": [
    "await track_targets(rotator)"
   ]
  },
  {
   "cell_type": "code",
   "execution_count": 26,
   "id": "556d8449-507f-416f-8d8b-5a5c9847b57f",
   "metadata": {},
   "outputs": [
    {
     "data": {
      "text/html": [
       "<pre style=\"margin: 0.1em;\n",
       "padding-left: 0.25em;\n",
       "border-left-style: solid;\n",
       "font-family: var(--jp-code-font-family);\n",
       "font-size: var(--jp-code-font-size);\n",
       "line-height: var(--jp-code-line-height);\n",
       "\"><span style=\"color: var(--jp-warn-color2)\">Script</span> <span style=\"color: var(--jp-info-color0)\">INFO</span>: STOP -- Evaluate the Rotator Controller Performance -- LVV-T2539 -- Baseline -- Stopping Time: 2022-06-01 14:27:50.068068 UTC</pre>"
      ],
      "text/plain": [
       "<IPython.core.display.HTML object>"
      ]
     },
     "metadata": {},
     "output_type": "display_data"
    }
   ],
   "source": [
    "time_stop = script_log_stop(script, test_title, \"Baseline\")"
   ]
  },
  {
   "cell_type": "markdown",
   "id": "472a1aa6-7cde-492b-b002-e314ff1e6435",
   "metadata": {},
   "source": [
    "**Modify VEL_LOOP_KP**"
   ]
  },
  {
   "cell_type": "markdown",
   "id": "d39e594e-acd2-48ff-8b30-bc38faeb10dd",
   "metadata": {},
   "source": [
    "VEL_LOOP_KP = 106"
   ]
  },
  {
   "cell_type": "code",
   "execution_count": 27,
   "id": "5c25f811-6d9a-4ff6-ad33-4237ea5f158a",
   "metadata": {},
   "outputs": [
    {
     "data": {
      "text/html": [
       "<pre style=\"margin: 0.1em;\n",
       "padding-left: 0.25em;\n",
       "border-left-style: solid;\n",
       "font-family: var(--jp-code-font-family);\n",
       "font-size: var(--jp-code-font-size);\n",
       "line-height: var(--jp-code-line-height);\n",
       "\"><span style=\"color: var(--jp-warn-color2)\">Script</span> <span style=\"color: var(--jp-info-color0)\">INFO</span>: START -- Evaluate the Rotator Controller Performance -- LVV-T2539 -- VEL_LOOP_KP = 106 -- Starting Time: 2022-06-01 14:29:14.715949 UTC</pre>"
      ],
      "text/plain": [
       "<IPython.core.display.HTML object>"
      ]
     },
     "metadata": {},
     "output_type": "display_data"
    }
   ],
   "source": [
    "time_start = script_log_start(script, test_title, \"VEL_LOOP_KP = 106\")"
   ]
  },
  {
   "cell_type": "code",
   "execution_count": 54,
   "id": "c2328294-b973-444b-bd53-996409cd614e",
   "metadata": {},
   "outputs": [],
   "source": [
    "await track_targets(rotator)"
   ]
  },
  {
   "cell_type": "code",
   "execution_count": 28,
   "id": "79e8ae86-2d19-49e1-a089-0a2df9d234cf",
   "metadata": {},
   "outputs": [
    {
     "data": {
      "text/html": [
       "<pre style=\"margin: 0.1em;\n",
       "padding-left: 0.25em;\n",
       "border-left-style: solid;\n",
       "font-family: var(--jp-code-font-family);\n",
       "font-size: var(--jp-code-font-size);\n",
       "line-height: var(--jp-code-line-height);\n",
       "\"><span style=\"color: var(--jp-warn-color2)\">Script</span> <span style=\"color: var(--jp-info-color0)\">INFO</span>: STOP -- Evaluate the Rotator Controller Performance -- LVV-T2539 -- VEL_LOOP_KP = 106 -- Stopping Time: 2022-06-01 14:29:25.188547 UTC</pre>"
      ],
      "text/plain": [
       "<IPython.core.display.HTML object>"
      ]
     },
     "metadata": {},
     "output_type": "display_data"
    }
   ],
   "source": [
    "time_stop = script_log_stop(script, test_title, \"VEL_LOOP_KP = 106\")"
   ]
  },
  {
   "cell_type": "markdown",
   "id": "51a70471-727f-456b-a9a3-2c03cbf3c260",
   "metadata": {},
   "source": [
    "VEL_LOOP_KP = 80"
   ]
  },
  {
   "cell_type": "code",
   "execution_count": 29,
   "id": "68a95063-c6c1-406c-9451-95e5b7d815cb",
   "metadata": {},
   "outputs": [
    {
     "data": {
      "text/html": [
       "<pre style=\"margin: 0.1em;\n",
       "padding-left: 0.25em;\n",
       "border-left-style: solid;\n",
       "font-family: var(--jp-code-font-family);\n",
       "font-size: var(--jp-code-font-size);\n",
       "line-height: var(--jp-code-line-height);\n",
       "\"><span style=\"color: var(--jp-warn-color2)\">Script</span> <span style=\"color: var(--jp-info-color0)\">INFO</span>: START -- Evaluate the Rotator Controller Performance -- LVV-T2539 -- VEL_LOOP_KP = 80 -- Starting Time: 2022-06-01 14:29:53.140111 UTC</pre>"
      ],
      "text/plain": [
       "<IPython.core.display.HTML object>"
      ]
     },
     "metadata": {},
     "output_type": "display_data"
    }
   ],
   "source": [
    "time_start = script_log_start(script, test_title, \"VEL_LOOP_KP = 80\")"
   ]
  },
  {
   "cell_type": "code",
   "execution_count": null,
   "id": "1f2ac52a-e59d-4616-8b8b-37081533d8f6",
   "metadata": {},
   "outputs": [],
   "source": [
    "await track_targets(rotator)"
   ]
  },
  {
   "cell_type": "code",
   "execution_count": 30,
   "id": "6148368b-77e2-4511-afd1-c0a7f4b509f3",
   "metadata": {},
   "outputs": [
    {
     "data": {
      "text/html": [
       "<pre style=\"margin: 0.1em;\n",
       "padding-left: 0.25em;\n",
       "border-left-style: solid;\n",
       "font-family: var(--jp-code-font-family);\n",
       "font-size: var(--jp-code-font-size);\n",
       "line-height: var(--jp-code-line-height);\n",
       "\"><span style=\"color: var(--jp-warn-color2)\">Script</span> <span style=\"color: var(--jp-info-color0)\">INFO</span>: STOP -- Evaluate the Rotator Controller Performance -- LVV-T2539 -- VEL_LOOP_KP = 80 -- Stopping Time: 2022-06-01 14:30:03.438084 UTC</pre>"
      ],
      "text/plain": [
       "<IPython.core.display.HTML object>"
      ]
     },
     "metadata": {},
     "output_type": "display_data"
    }
   ],
   "source": [
    "time_stop = script_log_stop(script, test_title, \"VEL_LOOP_KP = 80\")"
   ]
  },
  {
   "cell_type": "markdown",
   "id": "24ed5963-4966-4e57-b64e-1cf8916f3744",
   "metadata": {},
   "source": [
    "**Modify VEL_LOOP_TI**"
   ]
  },
  {
   "cell_type": "markdown",
   "id": "938d3cc1-5770-40d2-a1a6-bf28c34b048f",
   "metadata": {},
   "source": [
    "VEL_LOOP_TI = 0.11"
   ]
  },
  {
   "cell_type": "code",
   "execution_count": 31,
   "id": "9447db64-a2a5-4176-8c9d-a6b22dc4dff2",
   "metadata": {},
   "outputs": [
    {
     "data": {
      "text/html": [
       "<pre style=\"margin: 0.1em;\n",
       "padding-left: 0.25em;\n",
       "border-left-style: solid;\n",
       "font-family: var(--jp-code-font-family);\n",
       "font-size: var(--jp-code-font-size);\n",
       "line-height: var(--jp-code-line-height);\n",
       "\"><span style=\"color: var(--jp-warn-color2)\">Script</span> <span style=\"color: var(--jp-info-color0)\">INFO</span>: START -- Evaluate the Rotator Controller Performance -- LVV-T2539 -- VEL_LOOP_TI = 0.11 -- Starting Time: 2022-06-01 14:30:58.076330 UTC</pre>"
      ],
      "text/plain": [
       "<IPython.core.display.HTML object>"
      ]
     },
     "metadata": {},
     "output_type": "display_data"
    }
   ],
   "source": [
    "time_start = script_log_start(script, test_title, \"VEL_LOOP_TI = 0.11\")"
   ]
  },
  {
   "cell_type": "code",
   "execution_count": null,
   "id": "c3f58af1-8331-41b8-9956-90f99929c459",
   "metadata": {},
   "outputs": [],
   "source": [
    "await track_targets(rotator)"
   ]
  },
  {
   "cell_type": "code",
   "execution_count": 32,
   "id": "0a51dc7e-f1e2-406c-b2f7-3f06f7a5a669",
   "metadata": {},
   "outputs": [
    {
     "data": {
      "text/html": [
       "<pre style=\"margin: 0.1em;\n",
       "padding-left: 0.25em;\n",
       "border-left-style: solid;\n",
       "font-family: var(--jp-code-font-family);\n",
       "font-size: var(--jp-code-font-size);\n",
       "line-height: var(--jp-code-line-height);\n",
       "\"><span style=\"color: var(--jp-warn-color2)\">Script</span> <span style=\"color: var(--jp-info-color0)\">INFO</span>: STOP -- Evaluate the Rotator Controller Performance -- LVV-T2539 -- VEL_LOOP_TI = 0.11 -- Stopping Time: 2022-06-01 14:31:11.324419 UTC</pre>"
      ],
      "text/plain": [
       "<IPython.core.display.HTML object>"
      ]
     },
     "metadata": {},
     "output_type": "display_data"
    }
   ],
   "source": [
    "time_stop = script_log_stop(script, test_title, \"VEL_LOOP_TI = 0.11\")"
   ]
  },
  {
   "cell_type": "markdown",
   "id": "2649319a-9cfa-4b97-b087-1c9bba893356",
   "metadata": {},
   "source": [
    "VEL_LOOP_TI = 0.09"
   ]
  },
  {
   "cell_type": "code",
   "execution_count": 33,
   "id": "2778cb1f-c6f6-4e4e-bf5c-b0b445f784ed",
   "metadata": {},
   "outputs": [
    {
     "data": {
      "text/html": [
       "<pre style=\"margin: 0.1em;\n",
       "padding-left: 0.25em;\n",
       "border-left-style: solid;\n",
       "font-family: var(--jp-code-font-family);\n",
       "font-size: var(--jp-code-font-size);\n",
       "line-height: var(--jp-code-line-height);\n",
       "\"><span style=\"color: var(--jp-warn-color2)\">Script</span> <span style=\"color: var(--jp-info-color0)\">INFO</span>: START -- Evaluate the Rotator Controller Performance -- LVV-T2539 -- VEL_LOOP_TI = 0.09 -- Starting Time: 2022-06-01 14:31:22.468220 UTC</pre>"
      ],
      "text/plain": [
       "<IPython.core.display.HTML object>"
      ]
     },
     "metadata": {},
     "output_type": "display_data"
    }
   ],
   "source": [
    "time_start = script_log_start(script, test_title, \"VEL_LOOP_TI = 0.09\")"
   ]
  },
  {
   "cell_type": "code",
   "execution_count": null,
   "id": "9a51b87e-e5c6-42ab-91c0-284766b605f9",
   "metadata": {},
   "outputs": [],
   "source": [
    "await track_targets(rotator)"
   ]
  },
  {
   "cell_type": "code",
   "execution_count": 34,
   "id": "4fb7538d-2be7-4b3d-bf11-20dd83741176",
   "metadata": {},
   "outputs": [
    {
     "data": {
      "text/html": [
       "<pre style=\"margin: 0.1em;\n",
       "padding-left: 0.25em;\n",
       "border-left-style: solid;\n",
       "font-family: var(--jp-code-font-family);\n",
       "font-size: var(--jp-code-font-size);\n",
       "line-height: var(--jp-code-line-height);\n",
       "\"><span style=\"color: var(--jp-warn-color2)\">Script</span> <span style=\"color: var(--jp-info-color0)\">INFO</span>: STOP -- Evaluate the Rotator Controller Performance -- LVV-T2539 -- VEL_LOOP_TI = 0.09 -- Stopping Time: 2022-06-01 14:31:32.124224 UTC</pre>"
      ],
      "text/plain": [
       "<IPython.core.display.HTML object>"
      ]
     },
     "metadata": {},
     "output_type": "display_data"
    }
   ],
   "source": [
    "time_stop = script_log_stop(script, test_title, \"VEL_LOOP_TI = 0.09\")"
   ]
  },
  {
   "cell_type": "markdown",
   "id": "0e0c4823-b2ea-4323-8198-bda43ed491eb",
   "metadata": {},
   "source": [
    "**Modify POS_LOOP_KV**"
   ]
  },
  {
   "cell_type": "markdown",
   "id": "5e727ffc-514a-4ae1-af07-132f8aadd3ff",
   "metadata": {},
   "source": [
    "POS_LOOP_KV = 34"
   ]
  },
  {
   "cell_type": "code",
   "execution_count": 35,
   "id": "3b46461c-6e6e-452b-8a95-ad389791c462",
   "metadata": {},
   "outputs": [
    {
     "data": {
      "text/html": [
       "<pre style=\"margin: 0.1em;\n",
       "padding-left: 0.25em;\n",
       "border-left-style: solid;\n",
       "font-family: var(--jp-code-font-family);\n",
       "font-size: var(--jp-code-font-size);\n",
       "line-height: var(--jp-code-line-height);\n",
       "\"><span style=\"color: var(--jp-warn-color2)\">Script</span> <span style=\"color: var(--jp-info-color0)\">INFO</span>: START -- Evaluate the Rotator Controller Performance -- LVV-T2539 -- POS_LOOP_KV = 34 -- Starting Time: 2022-06-01 14:31:55.493800 UTC</pre>"
      ],
      "text/plain": [
       "<IPython.core.display.HTML object>"
      ]
     },
     "metadata": {},
     "output_type": "display_data"
    }
   ],
   "source": [
    "time_start = script_log_start(script, test_title, \"POS_LOOP_KV = 34\")"
   ]
  },
  {
   "cell_type": "code",
   "execution_count": null,
   "id": "c916a461-1ec5-4daf-992b-b7f221bb6f64",
   "metadata": {},
   "outputs": [],
   "source": [
    "await track_targets(rotator)"
   ]
  },
  {
   "cell_type": "code",
   "execution_count": 36,
   "id": "5ae7168e-9cbb-49f7-91f3-0a5712dcda71",
   "metadata": {},
   "outputs": [
    {
     "data": {
      "text/html": [
       "<pre style=\"margin: 0.1em;\n",
       "padding-left: 0.25em;\n",
       "border-left-style: solid;\n",
       "font-family: var(--jp-code-font-family);\n",
       "font-size: var(--jp-code-font-size);\n",
       "line-height: var(--jp-code-line-height);\n",
       "\"><span style=\"color: var(--jp-warn-color2)\">Script</span> <span style=\"color: var(--jp-info-color0)\">INFO</span>: STOP -- Evaluate the Rotator Controller Performance -- LVV-T2539 -- POS_LOOP_KV = 34 -- Stopping Time: 2022-06-01 14:32:18.381512 UTC</pre>"
      ],
      "text/plain": [
       "<IPython.core.display.HTML object>"
      ]
     },
     "metadata": {},
     "output_type": "display_data"
    }
   ],
   "source": [
    "time_stop = script_log_stop(script, test_title, \"POS_LOOP_KV = 34\")"
   ]
  },
  {
   "cell_type": "markdown",
   "id": "bb2f0948-53cb-419b-b359-38e53a156517",
   "metadata": {},
   "source": [
    "POS_LOOP_KV = 28"
   ]
  },
  {
   "cell_type": "code",
   "execution_count": 37,
   "id": "0e271f7e-07c0-470f-8162-a340bb36e6f9",
   "metadata": {},
   "outputs": [
    {
     "data": {
      "text/html": [
       "<pre style=\"margin: 0.1em;\n",
       "padding-left: 0.25em;\n",
       "border-left-style: solid;\n",
       "font-family: var(--jp-code-font-family);\n",
       "font-size: var(--jp-code-font-size);\n",
       "line-height: var(--jp-code-line-height);\n",
       "\"><span style=\"color: var(--jp-warn-color2)\">Script</span> <span style=\"color: var(--jp-info-color0)\">INFO</span>: START -- Evaluate the Rotator Controller Performance -- LVV-T2539 -- POS_LOOP_KV = 28 -- Starting Time: 2022-06-01 14:32:27.202688 UTC</pre>"
      ],
      "text/plain": [
       "<IPython.core.display.HTML object>"
      ]
     },
     "metadata": {},
     "output_type": "display_data"
    }
   ],
   "source": [
    "time_start = script_log_start(script, test_title, \"POS_LOOP_KV = 28\")"
   ]
  },
  {
   "cell_type": "code",
   "execution_count": null,
   "id": "c9d7edac-0fe4-44e4-94ea-7becf11b8c8b",
   "metadata": {},
   "outputs": [],
   "source": [
    "await track_targets(rotator)"
   ]
  },
  {
   "cell_type": "code",
   "execution_count": 38,
   "id": "f61570bd-6075-4cb9-b43b-01b0d0d76e1a",
   "metadata": {},
   "outputs": [
    {
     "data": {
      "text/html": [
       "<pre style=\"margin: 0.1em;\n",
       "padding-left: 0.25em;\n",
       "border-left-style: solid;\n",
       "font-family: var(--jp-code-font-family);\n",
       "font-size: var(--jp-code-font-size);\n",
       "line-height: var(--jp-code-line-height);\n",
       "\"><span style=\"color: var(--jp-warn-color2)\">Script</span> <span style=\"color: var(--jp-info-color0)\">INFO</span>: STOP -- Evaluate the Rotator Controller Performance -- LVV-T2539 -- POS_LOOP_KV = 28 -- Stopping Time: 2022-06-01 14:32:39.301361 UTC</pre>"
      ],
      "text/plain": [
       "<IPython.core.display.HTML object>"
      ]
     },
     "metadata": {},
     "output_type": "display_data"
    }
   ],
   "source": [
    "time_stop = script_log_stop(script, test_title, \"POS_LOOP_KV = 28\")"
   ]
  },
  {
   "cell_type": "markdown",
   "id": "f30c7999-0fcd-4422-bd5f-9629b940cef8",
   "metadata": {},
   "source": [
    "**Modify ENABLE_FFV**"
   ]
  },
  {
   "cell_type": "markdown",
   "id": "a45cc58e-d8db-4aef-aa06-b8edd3aaca75",
   "metadata": {},
   "source": [
    "ENABLE_FFV = 0"
   ]
  },
  {
   "cell_type": "code",
   "execution_count": 39,
   "id": "0634e6d0-fda6-48fd-b22e-45f90875d3bb",
   "metadata": {},
   "outputs": [
    {
     "data": {
      "text/html": [
       "<pre style=\"margin: 0.1em;\n",
       "padding-left: 0.25em;\n",
       "border-left-style: solid;\n",
       "font-family: var(--jp-code-font-family);\n",
       "font-size: var(--jp-code-font-size);\n",
       "line-height: var(--jp-code-line-height);\n",
       "\"><span style=\"color: var(--jp-warn-color2)\">Script</span> <span style=\"color: var(--jp-info-color0)\">INFO</span>: START -- Evaluate the Rotator Controller Performance -- LVV-T2539 -- ENABLE_FFV = 0 -- Starting Time: 2022-06-01 14:32:55.534511 UTC</pre>"
      ],
      "text/plain": [
       "<IPython.core.display.HTML object>"
      ]
     },
     "metadata": {},
     "output_type": "display_data"
    }
   ],
   "source": [
    "time_start = script_log_start(script, test_title, \"ENABLE_FFV = 0\")"
   ]
  },
  {
   "cell_type": "code",
   "execution_count": null,
   "id": "753a1e81-1ed6-4516-98f2-b154d907305b",
   "metadata": {},
   "outputs": [],
   "source": [
    "await track_targets(rotator)"
   ]
  },
  {
   "cell_type": "code",
   "execution_count": 40,
   "id": "8780bedd-b078-424a-9d2a-0cae6fc8ed4b",
   "metadata": {},
   "outputs": [
    {
     "data": {
      "text/html": [
       "<pre style=\"margin: 0.1em;\n",
       "padding-left: 0.25em;\n",
       "border-left-style: solid;\n",
       "font-family: var(--jp-code-font-family);\n",
       "font-size: var(--jp-code-font-size);\n",
       "line-height: var(--jp-code-line-height);\n",
       "\"><span style=\"color: var(--jp-warn-color2)\">Script</span> <span style=\"color: var(--jp-info-color0)\">INFO</span>: STOP -- Evaluate the Rotator Controller Performance -- LVV-T2539 -- ENABLE_FFV = 0 -- Stopping Time: 2022-06-01 14:33:09.981800 UTC</pre>"
      ],
      "text/plain": [
       "<IPython.core.display.HTML object>"
      ]
     },
     "metadata": {},
     "output_type": "display_data"
    }
   ],
   "source": [
    "time_stop = script_log_stop(script, test_title, \"ENABLE_FFV = 0\")"
   ]
  },
  {
   "cell_type": "markdown",
   "id": "8d453869-9313-4d32-b414-c38d6f57b248",
   "metadata": {},
   "source": [
    "**Modify PRELOAD_KP**"
   ]
  },
  {
   "cell_type": "markdown",
   "id": "42f9ba0f-7471-4478-8cc0-7747f41e312c",
   "metadata": {},
   "source": [
    "PRELOAD_KP = 0.11"
   ]
  },
  {
   "cell_type": "code",
   "execution_count": 41,
   "id": "a02b52fa-bb5b-417c-a9e1-5f38bb6a0805",
   "metadata": {},
   "outputs": [
    {
     "data": {
      "text/html": [
       "<pre style=\"margin: 0.1em;\n",
       "padding-left: 0.25em;\n",
       "border-left-style: solid;\n",
       "font-family: var(--jp-code-font-family);\n",
       "font-size: var(--jp-code-font-size);\n",
       "line-height: var(--jp-code-line-height);\n",
       "\"><span style=\"color: var(--jp-warn-color2)\">Script</span> <span style=\"color: var(--jp-info-color0)\">INFO</span>: START -- Evaluate the Rotator Controller Performance -- LVV-T2539 -- PRELOAD_KP = 0.11 -- Starting Time: 2022-06-01 14:36:56.862426 UTC</pre>"
      ],
      "text/plain": [
       "<IPython.core.display.HTML object>"
      ]
     },
     "metadata": {},
     "output_type": "display_data"
    }
   ],
   "source": [
    "time_start = script_log_start(script, test_title, \"PRELOAD_KP = 0.11\")"
   ]
  },
  {
   "cell_type": "code",
   "execution_count": null,
   "id": "94a5d8bc-7233-493b-9f81-7673374fa7d3",
   "metadata": {},
   "outputs": [],
   "source": [
    "await track_targets(rotator)"
   ]
  },
  {
   "cell_type": "code",
   "execution_count": 42,
   "id": "a4936d61-2132-49ed-89b3-854d1cfa2b5d",
   "metadata": {},
   "outputs": [
    {
     "data": {
      "text/html": [
       "<pre style=\"margin: 0.1em;\n",
       "padding-left: 0.25em;\n",
       "border-left-style: solid;\n",
       "font-family: var(--jp-code-font-family);\n",
       "font-size: var(--jp-code-font-size);\n",
       "line-height: var(--jp-code-line-height);\n",
       "\"><span style=\"color: var(--jp-warn-color2)\">Script</span> <span style=\"color: var(--jp-info-color0)\">INFO</span>: STOP -- Evaluate the Rotator Controller Performance -- LVV-T2539 -- PRELOAD_KP = 0.11 -- Stopping Time: 2022-06-01 14:37:13.645378 UTC</pre>"
      ],
      "text/plain": [
       "<IPython.core.display.HTML object>"
      ]
     },
     "metadata": {},
     "output_type": "display_data"
    }
   ],
   "source": [
    "time_stop = script_log_stop(script, test_title, \"PRELOAD_KP = 0.11\")"
   ]
  },
  {
   "cell_type": "markdown",
   "id": "62a51ad1-66d1-4ba0-9f04-cc00b800e30f",
   "metadata": {},
   "source": [
    "PRELOAD_KP = 0.09"
   ]
  },
  {
   "cell_type": "code",
   "execution_count": 43,
   "id": "102aa86c-7b7e-487e-ae4a-e29d28e9e56a",
   "metadata": {},
   "outputs": [
    {
     "data": {
      "text/html": [
       "<pre style=\"margin: 0.1em;\n",
       "padding-left: 0.25em;\n",
       "border-left-style: solid;\n",
       "font-family: var(--jp-code-font-family);\n",
       "font-size: var(--jp-code-font-size);\n",
       "line-height: var(--jp-code-line-height);\n",
       "\"><span style=\"color: var(--jp-warn-color2)\">Script</span> <span style=\"color: var(--jp-info-color0)\">INFO</span>: START -- Evaluate the Rotator Controller Performance -- LVV-T2539 -- PRELOAD_KP = 0.09 -- Starting Time: 2022-06-01 14:37:33.476947 UTC</pre>"
      ],
      "text/plain": [
       "<IPython.core.display.HTML object>"
      ]
     },
     "metadata": {},
     "output_type": "display_data"
    }
   ],
   "source": [
    "time_start = script_log_start(script, test_title, \"PRELOAD_KP = 0.09\")"
   ]
  },
  {
   "cell_type": "code",
   "execution_count": null,
   "id": "f7be0e00-74f2-4b80-ac81-4343dc370f6b",
   "metadata": {},
   "outputs": [],
   "source": [
    "await track_targets(rotator)"
   ]
  },
  {
   "cell_type": "code",
   "execution_count": 44,
   "id": "c183d59f-1ad4-402f-b481-9e0d4a6996f7",
   "metadata": {},
   "outputs": [
    {
     "data": {
      "text/html": [
       "<pre style=\"margin: 0.1em;\n",
       "padding-left: 0.25em;\n",
       "border-left-style: solid;\n",
       "font-family: var(--jp-code-font-family);\n",
       "font-size: var(--jp-code-font-size);\n",
       "line-height: var(--jp-code-line-height);\n",
       "\"><span style=\"color: var(--jp-warn-color2)\">Script</span> <span style=\"color: var(--jp-info-color0)\">INFO</span>: STOP -- Evaluate the Rotator Controller Performance -- LVV-T2539 -- PRELOAD_KP = 0.09 -- Stopping Time: 2022-06-01 14:37:39.812736 UTC</pre>"
      ],
      "text/plain": [
       "<IPython.core.display.HTML object>"
      ]
     },
     "metadata": {},
     "output_type": "display_data"
    }
   ],
   "source": [
    "time_stop = script_log_stop(script, test_title, \"PRELOAD_KP = 0.09\")"
   ]
  },
  {
   "cell_type": "markdown",
   "id": "50b0f3fd-1e87-4dbe-84f7-3bab6e854e6c",
   "metadata": {},
   "source": [
    "**Modify PRELOAD_TI**"
   ]
  },
  {
   "cell_type": "markdown",
   "id": "219398af-7af3-4083-afda-34a11fd0456c",
   "metadata": {},
   "source": [
    "PRELOAD_TI = 5.5"
   ]
  },
  {
   "cell_type": "code",
   "execution_count": 45,
   "id": "8ea3c1f5-ade4-4809-a621-633ecc678a47",
   "metadata": {},
   "outputs": [
    {
     "data": {
      "text/html": [
       "<pre style=\"margin: 0.1em;\n",
       "padding-left: 0.25em;\n",
       "border-left-style: solid;\n",
       "font-family: var(--jp-code-font-family);\n",
       "font-size: var(--jp-code-font-size);\n",
       "line-height: var(--jp-code-line-height);\n",
       "\"><span style=\"color: var(--jp-warn-color2)\">Script</span> <span style=\"color: var(--jp-info-color0)\">INFO</span>: START -- Evaluate the Rotator Controller Performance -- LVV-T2539 -- PRELOAD_TI = 5.5 -- Starting Time: 2022-06-01 14:37:57.844900 UTC</pre>"
      ],
      "text/plain": [
       "<IPython.core.display.HTML object>"
      ]
     },
     "metadata": {},
     "output_type": "display_data"
    }
   ],
   "source": [
    "time_start = script_log_start(script, test_title, \"PRELOAD_TI = 5.5\")"
   ]
  },
  {
   "cell_type": "code",
   "execution_count": null,
   "id": "3381e3b5-4a4e-468e-be14-b2c1581c71a7",
   "metadata": {},
   "outputs": [],
   "source": [
    "await track_targets(rotator)"
   ]
  },
  {
   "cell_type": "code",
   "execution_count": 46,
   "id": "43a763a0-5cf9-4e2d-9e89-094e1eccd61b",
   "metadata": {},
   "outputs": [
    {
     "data": {
      "text/html": [
       "<pre style=\"margin: 0.1em;\n",
       "padding-left: 0.25em;\n",
       "border-left-style: solid;\n",
       "font-family: var(--jp-code-font-family);\n",
       "font-size: var(--jp-code-font-size);\n",
       "line-height: var(--jp-code-line-height);\n",
       "\"><span style=\"color: var(--jp-warn-color2)\">Script</span> <span style=\"color: var(--jp-info-color0)\">INFO</span>: STOP -- Evaluate the Rotator Controller Performance -- LVV-T2539 -- PRELOAD_TI = 5.5 -- Stopping Time: 2022-06-01 14:38:11.735674 UTC</pre>"
      ],
      "text/plain": [
       "<IPython.core.display.HTML object>"
      ]
     },
     "metadata": {},
     "output_type": "display_data"
    }
   ],
   "source": [
    "time_stop = script_log_stop(script, test_title, \"PRELOAD_TI = 5.5\")"
   ]
  },
  {
   "cell_type": "markdown",
   "id": "56558372-4316-4e8a-9995-79d9816bfe83",
   "metadata": {},
   "source": [
    "PRELOAD_TI = 4.5"
   ]
  },
  {
   "cell_type": "code",
   "execution_count": 47,
   "id": "7423c0c9-1d72-42f9-8c3d-42ffec8ebdc6",
   "metadata": {},
   "outputs": [
    {
     "data": {
      "text/html": [
       "<pre style=\"margin: 0.1em;\n",
       "padding-left: 0.25em;\n",
       "border-left-style: solid;\n",
       "font-family: var(--jp-code-font-family);\n",
       "font-size: var(--jp-code-font-size);\n",
       "line-height: var(--jp-code-line-height);\n",
       "\"><span style=\"color: var(--jp-warn-color2)\">Script</span> <span style=\"color: var(--jp-info-color0)\">INFO</span>: START -- Evaluate the Rotator Controller Performance -- LVV-T2539 -- PRELOAD_TI = 4.5 -- Starting Time: 2022-06-01 14:38:28.275628 UTC</pre>"
      ],
      "text/plain": [
       "<IPython.core.display.HTML object>"
      ]
     },
     "metadata": {},
     "output_type": "display_data"
    }
   ],
   "source": [
    "time_start = script_log_start(script, test_title, \"PRELOAD_TI = 4.5\")"
   ]
  },
  {
   "cell_type": "code",
   "execution_count": null,
   "id": "04005d5b-79a1-4dc2-b586-54fd4e543a0d",
   "metadata": {},
   "outputs": [],
   "source": [
    "await track_targets(rotator)"
   ]
  },
  {
   "cell_type": "code",
   "execution_count": 48,
   "id": "1a7bde8e-8cc4-496f-af99-28639d77592c",
   "metadata": {},
   "outputs": [
    {
     "data": {
      "text/html": [
       "<pre style=\"margin: 0.1em;\n",
       "padding-left: 0.25em;\n",
       "border-left-style: solid;\n",
       "font-family: var(--jp-code-font-family);\n",
       "font-size: var(--jp-code-font-size);\n",
       "line-height: var(--jp-code-line-height);\n",
       "\"><span style=\"color: var(--jp-warn-color2)\">Script</span> <span style=\"color: var(--jp-info-color0)\">INFO</span>: STOP -- Evaluate the Rotator Controller Performance -- LVV-T2539 -- PRELOAD_TI = 4.5 -- Stopping Time: 2022-06-01 14:38:34.308514 UTC</pre>"
      ],
      "text/plain": [
       "<IPython.core.display.HTML object>"
      ]
     },
     "metadata": {},
     "output_type": "display_data"
    }
   ],
   "source": [
    "time_stop = script_log_stop(script, test_title, \"PRELOAD_TI = 4.5\")"
   ]
  },
  {
   "cell_type": "markdown",
   "id": "ffb12b67-2716-4010-b9cb-df1ccbf047de",
   "metadata": {},
   "source": [
    "**Modify PRELOAD_TQ**"
   ]
  },
  {
   "cell_type": "markdown",
   "id": "be79bdcb-8009-4aac-a518-a1b72088ffef",
   "metadata": {},
   "source": [
    "PRELOAD_TQ = 0.17"
   ]
  },
  {
   "cell_type": "code",
   "execution_count": 49,
   "id": "0537d68e-9cfe-4317-aab5-408cd38a0032",
   "metadata": {},
   "outputs": [
    {
     "data": {
      "text/html": [
       "<pre style=\"margin: 0.1em;\n",
       "padding-left: 0.25em;\n",
       "border-left-style: solid;\n",
       "font-family: var(--jp-code-font-family);\n",
       "font-size: var(--jp-code-font-size);\n",
       "line-height: var(--jp-code-line-height);\n",
       "\"><span style=\"color: var(--jp-warn-color2)\">Script</span> <span style=\"color: var(--jp-info-color0)\">INFO</span>: START -- Evaluate the Rotator Controller Performance -- LVV-T2539 -- PRELOAD_TQ = 0.17 -- Starting Time: 2022-06-01 14:38:48.732662 UTC</pre>"
      ],
      "text/plain": [
       "<IPython.core.display.HTML object>"
      ]
     },
     "metadata": {},
     "output_type": "display_data"
    }
   ],
   "source": [
    "time_start = script_log_start(script, test_title, \"PRELOAD_TQ = 0.17\")"
   ]
  },
  {
   "cell_type": "code",
   "execution_count": null,
   "id": "7ab0c0dd-40aa-4a5d-adc7-d515c0844e66",
   "metadata": {},
   "outputs": [],
   "source": [
    "await track_targets(rotator)"
   ]
  },
  {
   "cell_type": "code",
   "execution_count": 50,
   "id": "c7cf7650-f55f-4b6a-b94c-963b89f06125",
   "metadata": {},
   "outputs": [
    {
     "data": {
      "text/html": [
       "<pre style=\"margin: 0.1em;\n",
       "padding-left: 0.25em;\n",
       "border-left-style: solid;\n",
       "font-family: var(--jp-code-font-family);\n",
       "font-size: var(--jp-code-font-size);\n",
       "line-height: var(--jp-code-line-height);\n",
       "\"><span style=\"color: var(--jp-warn-color2)\">Script</span> <span style=\"color: var(--jp-info-color0)\">INFO</span>: STOP -- Evaluate the Rotator Controller Performance -- LVV-T2539 -- PRELOAD_TQ = 0.17 -- Stopping Time: 2022-06-01 14:39:01.156322 UTC</pre>"
      ],
      "text/plain": [
       "<IPython.core.display.HTML object>"
      ]
     },
     "metadata": {},
     "output_type": "display_data"
    }
   ],
   "source": [
    "time_stop = script_log_stop(script, test_title, \"PRELOAD_TQ = 0.17\")"
   ]
  },
  {
   "cell_type": "markdown",
   "id": "f5d8ba01-69f4-468a-ae2e-9bfcd6a0be80",
   "metadata": {},
   "source": [
    "PRELOAD_TQ = 0.19"
   ]
  },
  {
   "cell_type": "code",
   "execution_count": 51,
   "id": "a5d3f5d8-dc7b-4ac6-961e-4173d6b47cb4",
   "metadata": {},
   "outputs": [
    {
     "data": {
      "text/html": [
       "<pre style=\"margin: 0.1em;\n",
       "padding-left: 0.25em;\n",
       "border-left-style: solid;\n",
       "font-family: var(--jp-code-font-family);\n",
       "font-size: var(--jp-code-font-size);\n",
       "line-height: var(--jp-code-line-height);\n",
       "\"><span style=\"color: var(--jp-warn-color2)\">Script</span> <span style=\"color: var(--jp-info-color0)\">INFO</span>: START -- Evaluate the Rotator Controller Performance -- LVV-T2539 -- PRELOAD_TQ = 0.19 -- Starting Time: 2022-06-01 14:39:12.420269 UTC</pre>"
      ],
      "text/plain": [
       "<IPython.core.display.HTML object>"
      ]
     },
     "metadata": {},
     "output_type": "display_data"
    }
   ],
   "source": [
    "time_start = script_log_start(script, test_title, \"PRELOAD_TQ = 0.19\")"
   ]
  },
  {
   "cell_type": "code",
   "execution_count": null,
   "id": "cf33ddc1-babd-4250-a3ab-52dbe204c763",
   "metadata": {},
   "outputs": [],
   "source": [
    "await track_targets(rotator)"
   ]
  },
  {
   "cell_type": "code",
   "execution_count": 52,
   "id": "3d2ccfce-d76f-4542-ae69-321b2da8ed4d",
   "metadata": {},
   "outputs": [
    {
     "data": {
      "text/html": [
       "<pre style=\"margin: 0.1em;\n",
       "padding-left: 0.25em;\n",
       "border-left-style: solid;\n",
       "font-family: var(--jp-code-font-family);\n",
       "font-size: var(--jp-code-font-size);\n",
       "line-height: var(--jp-code-line-height);\n",
       "\"><span style=\"color: var(--jp-warn-color2)\">Script</span> <span style=\"color: var(--jp-info-color0)\">INFO</span>: STOP -- Evaluate the Rotator Controller Performance -- LVV-T2539 -- PRELOAD_TQ = 0.19 -- Stopping Time: 2022-06-01 14:39:18.286085 UTC</pre>"
      ],
      "text/plain": [
       "<IPython.core.display.HTML object>"
      ]
     },
     "metadata": {},
     "output_type": "display_data"
    }
   ],
   "source": [
    "time_stop = script_log_stop(script, test_title, \"PRELOAD_TQ = 0.19\")"
   ]
  },
  {
   "cell_type": "code",
   "execution_count": null,
   "id": "5beac88c-e335-4e3e-9e39-b69fe65f1e73",
   "metadata": {},
   "outputs": [],
   "source": []
  }
 ],
 "metadata": {
  "kernelspec": {
   "display_name": "LSST",
   "language": "python",
   "name": "lsst"
  },
  "language_info": {
   "codemirror_mode": {
    "name": "ipython",
    "version": 3
   },
   "file_extension": ".py",
   "mimetype": "text/x-python",
   "name": "python",
   "nbconvert_exporter": "python",
   "pygments_lexer": "ipython3",
   "version": "3.8.13"
  }
 },
 "nbformat": 4,
 "nbformat_minor": 5
}
