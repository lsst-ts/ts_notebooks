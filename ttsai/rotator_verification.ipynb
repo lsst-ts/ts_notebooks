{
 "cells": [
  {
   "cell_type": "markdown",
   "id": "50cf51b7-2f25-4360-af22-fd9322b26b34",
   "metadata": {},
   "source": [
    "**Rotator Trajectory Verification**\n",
    "\n",
    "This Jupyter notebook is used to verify the updated rotator trajectory generator by Tekniker.\n",
    "The test will be performed on summit with the real hardware.\n",
    "Before that, the Tucson test stand is used to develop the test procedure.\n",
    "The rotator commandable SAL component (CSC) is used to control the rotator hardware.\n",
    "The published event and telemetry are stored in the engineering facility database (EFD).\n",
    "\n",
    "It is noted that the **MTMount** telemetry data is required.\n",
    "If there is none, you need to create the fake data.\n",
    "Otherwise, the rotator CSC will put the low-level controller into the **Fault** state.\n",
    "\n",
    "The **setup** notebook can be used to bring up rotator and mount/CCW."
   ]
  },
  {
   "cell_type": "markdown",
   "id": "77635002-44f9-4e1e-9432-a15b032f3fe7",
   "metadata": {},
   "source": [
    "**Import Modules**"
   ]
  },
  {
   "cell_type": "code",
   "execution_count": 1,
   "id": "bd51ca47-ee1d-412d-914a-9fe431e6fdca",
   "metadata": {},
   "outputs": [
    {
     "data": {
      "text/html": [
       "<pre style=\"margin: 0.1em;\n",
       "padding-left: 0.25em;\n",
       "border-left-style: solid;\n",
       "font-family: var(--jp-code-font-family);\n",
       "font-size: var(--jp-code-font-size);\n",
       "line-height: var(--jp-code-line-height);\n",
       "\"><span style=\"color: var(--jp-warn-color2)\">lsst.ts.utils.tai</span> <span style=\"color: var(--jp-info-color0)\">INFO</span>: Update leap second table</pre>"
      ],
      "text/plain": [
       "<IPython.core.display.HTML object>"
      ]
     },
     "metadata": {},
     "output_type": "display_data"
    },
    {
     "data": {
      "text/html": [
       "<pre style=\"margin: 0.1em;\n",
       "padding-left: 0.25em;\n",
       "border-left-style: solid;\n",
       "font-family: var(--jp-code-font-family);\n",
       "font-size: var(--jp-code-font-size);\n",
       "line-height: var(--jp-code-line-height);\n",
       "\"><span style=\"color: var(--jp-warn-color2)\">lsst.ts.utils.tai</span> <span style=\"color: var(--jp-info-color0)\">INFO</span>: current_tai uses the system TAI clock</pre>"
      ],
      "text/plain": [
       "<IPython.core.display.HTML object>"
      ]
     },
     "metadata": {},
     "output_type": "display_data"
    }
   ],
   "source": [
    "%matplotlib inline\n",
    "import asyncio\n",
    "import time\n",
    "from astropy.time import Time\n",
    "import pandas as pd\n",
    "import numpy as np\n",
    "import matplotlib.pyplot as plt\n",
    "from datetime import datetime, timedelta\n",
    "\n",
    "from lsst.ts import salobj\n",
    "from lsst.ts import simactuators\n",
    "from lsst_efd_client import EfdClient"
   ]
  },
  {
   "cell_type": "markdown",
   "id": "da828c63-1f59-4de3-9216-8fb2aa99f11a",
   "metadata": {},
   "source": [
    "**Custom Functions**"
   ]
  },
  {
   "cell_type": "code",
   "execution_count": 2,
   "id": "33ee5f92-537c-4aae-93bc-ecae213d0d4b",
   "metadata": {},
   "outputs": [],
   "source": [
    "def retrieve_efd_client(is_summit=True):\n",
    "    \"\"\"\n",
    "    Retrieves a client to EFD.\n",
    "\n",
    "    Parameters\n",
    "    ----------\n",
    "    is_summit : bool, optional\n",
    "        This notebook is running on the summit or not. If not, the returned object will point\n",
    "        to the test stand at Tucson.\n",
    "\n",
    "    Returns\n",
    "    -------\n",
    "    EfdClient : The interface object between the Nublado and summit/Tucson EFD.\n",
    "    \"\"\"\n",
    "    efd_name = \"summit_efd\" if is_summit else \"tucson_teststand_efd\"        \n",
    "    return EfdClient(efd_name)"
   ]
  },
  {
   "cell_type": "code",
   "execution_count": 3,
   "id": "80fee146-19c9-4032-8120-7730bb07acd6",
   "metadata": {},
   "outputs": [],
   "source": [
    "async def print_summary_state(csc):\n",
    "    \"\"\"\n",
    "    Print the summary state of rotator.\n",
    "\n",
    "    Parameters\n",
    "    ----------\n",
    "    csc : lsst.ts.salobj.remote.Remote\n",
    "        Remote object of the rotator CSC.\n",
    "    \"\"\"\n",
    "    data = await csc.evt_summaryState.aget(timeout=30)\n",
    "    print(salobj.State(data.summaryState))"
   ]
  },
  {
   "cell_type": "code",
   "execution_count": 4,
   "id": "b3cde69c-2286-4930-8b57-47187d926b86",
   "metadata": {},
   "outputs": [],
   "source": [
    "async def print_rotator_position(csc):\n",
    "    \"\"\"\n",
    "    Print the rotator position in degree.\n",
    "\n",
    "    Parameters\n",
    "    ----------\n",
    "    csc : lsst.ts.salobj.remote.Remote\n",
    "        Remote object of the rotator CSC.\n",
    "    \"\"\"\n",
    "    data = await csc.tel_rotation.aget(timeout=15)\n",
    "    print(f\"Rotator is at {data.actualPosition} degree.\")"
   ]
  },
  {
   "cell_type": "code",
   "execution_count": 5,
   "id": "112b097d-8a2e-474f-9a93-8864fd107cd3",
   "metadata": {},
   "outputs": [],
   "source": [
    "async def print_rotator_latest_message(csc):\n",
    "    \"\"\"\n",
    "    Print the latest message of rotator.\n",
    "\n",
    "    Parameters\n",
    "    ----------\n",
    "    csc : lsst.ts.salobj.remote.Remote\n",
    "        Remote object of the rotator CSC.\n",
    "    \"\"\"\n",
    "    data = await csc.evt_logMessage.aget(timeout=15)\n",
    "    print(data.message)"
   ]
  },
  {
   "cell_type": "code",
   "execution_count": 6,
   "id": "a4df096c-cbb8-4097-ab3e-aa60807d4de3",
   "metadata": {},
   "outputs": [],
   "source": [
    "async def create_fake_mtmount_data(mtmount_controller, rotator_csc, period):\n",
    "    \"\"\"Create the fake MTMount data for the rotator CSC to subscribe.\n",
    "\n",
    "    TODO: Remove this workaround method after DM-33967.\n",
    "\n",
    "    Parameters\n",
    "    ----------\n",
    "    mtmount_controller : lsst.ts.salobj.controller.Controller\n",
    "        MTMount controller object.\n",
    "    rotator_csc : lsst.ts.salobj.remote.Remote\n",
    "        Remote object of the rotator CSC.\n",
    "    period : float\n",
    "        Period to generate the fake MTMount telemetry data in second.\n",
    "    \"\"\"\n",
    "    # 20 Hz is 0.05 sec\n",
    "    sleep_time = 0.05\n",
    "\n",
    "    # Fake the MTMount data in the period\n",
    "    counts = int(period / sleep_time)\n",
    "\n",
    "    print(\"Begin to fake the MTMount telemetry.\")\n",
    "    for count in range(0, counts):\n",
    "        data = await rotator_csc.tel_rotation.aget(timeout=1)\n",
    "        mtmount_controller.tel_cameraCableWrap.set_put(\n",
    "            actualPosition=data.actualPosition,\n",
    "            actualVelocity=data.actualVelocity,\n",
    "            timestamp=data.timestamp,\n",
    "        )\n",
    "        await asyncio.sleep(sleep_time)\n",
    "\n",
    "    print(\"Finish the faking of MTMount telemetry.\")"
   ]
  },
  {
   "cell_type": "code",
   "execution_count": 7,
   "id": "c551494f-5f0f-4e28-bb0e-9d416fe303dc",
   "metadata": {},
   "outputs": [],
   "source": [
    "def task_create_fake_mtmount_data(mtmount_controller, rotator_csc, period):\n",
    "    \"\"\"Task to create the fake MTMount data for the rotator CSC to subscribe in the background.\n",
    "\n",
    "    TODO: Remove this workaround method after DM-33967.\n",
    "\n",
    "    Parameters\n",
    "    ----------\n",
    "    mtmount_controller : lsst.ts.salobj.controller.Controller\n",
    "        MTMount controller object.\n",
    "    rotator_csc : lsst.ts.salobj.remote.Remote\n",
    "        Remote object of the rotator CSC.\n",
    "    period : float\n",
    "        Period to generate the fake MTMount telemetry data in second.\n",
    "    \"\"\"\n",
    "    asyncio.create_task(create_fake_mtmount_data(mtmount_controller, rotator_csc, period))"
   ]
  },
  {
   "cell_type": "code",
   "execution_count": 8,
   "id": "b0e1f89c-1dc6-4f97-8e9f-837be355d9da",
   "metadata": {},
   "outputs": [],
   "source": [
    "def get_time():\n",
    "    \"\"\"Get the time object used to query the EFD.\n",
    "\n",
    "    Returns\n",
    "    -------\n",
    "    astropy.time.core.Time\n",
    "        Time object.\n",
    "    \"\"\"\n",
    "    time_str = time.strftime(\"%Y-%m-%dT%H:%M:%S\", time.gmtime())\n",
    "    return Time(time_str, scale=\"utc\", format=\"isot\")"
   ]
  },
  {
   "cell_type": "code",
   "execution_count": 9,
   "id": "63cd3df1-1515-4712-8d4c-18070e6c18eb",
   "metadata": {},
   "outputs": [],
   "source": [
    "def print_and_get_time():\n",
    "    \"\"\"Print and get the time object used to query the EFD.\n",
    "\n",
    "    Returns\n",
    "    -------\n",
    "    astropy.time.core.Time\n",
    "        Time object.\n",
    "    \"\"\"\n",
    "    time = get_time()\n",
    "    print(f\"Time is {time} right now.\")\n",
    "\n",
    "    return time"
   ]
  },
  {
   "cell_type": "code",
   "execution_count": 10,
   "id": "7db5c908-bf35-4764-a978-47d1faaece10",
   "metadata": {},
   "outputs": [],
   "source": [
    "def generate_tracking_target(position, velocity, period):\n",
    "    \"\"\"\n",
    "    Generate the tracking target.\n",
    "\n",
    "    Parameters\n",
    "    ----------\n",
    "    position : float\n",
    "        Initial position of target in deg.\n",
    "    velocity : float\n",
    "        Velocity of the target in deg/sec.\n",
    "    period : float\n",
    "        Period to track in second.\n",
    "\n",
    "    Returns\n",
    "    -------\n",
    "    list_position : list\n",
    "        List of the position.\n",
    "    list_velocity : list\n",
    "        List of the velocity.\n",
    "    \"\"\"\n",
    "    # 20 Hz is 0.05 s\n",
    "    delta_t = 0.05\n",
    "    number_total_commands = int(period / delta_t)\n",
    "    \n",
    "    list_position = [position + velocity * idx for idx in range(0, number_total_commands)]\n",
    "    list_velocity = [velocity] *  number_total_commands\n",
    "    return list_position, list_velocity"
   ]
  },
  {
   "cell_type": "code",
   "execution_count": 11,
   "id": "596d4468-6f38-42ca-8794-279e3f4204be",
   "metadata": {},
   "outputs": [],
   "source": [
    "async def slew_test(csc, position, est_time_wait, est_time_stop):\n",
    "    \"\"\"\n",
    "    Slew test. The rototator will move in the positive and negative directions.\n",
    "    It will stop in the final movement.\n",
    "\n",
    "    Parameters\n",
    "    ----------\n",
    "    csc : lsst.ts.salobj.remote.Remote\n",
    "        Remote object of the rotator CSC.\n",
    "    est_time_wait : float\n",
    "        Estimated time to wait of movement in second.\n",
    "    est_time_stop : float\n",
    "        Estimated time to stop in the final in second.\n",
    "    \"\"\"\n",
    "    # Move in one direction\n",
    "    await csc.cmd_move.set_start(position=position, timeout=60)\n",
    "    await asyncio.sleep(est_time_wait)\n",
    "\n",
    "    # Move back to the origin\n",
    "    await csc.cmd_move.set_start(position=0, timeout=60)\n",
    "    await asyncio.sleep(est_time_wait)\n",
    "\n",
    "    # Move to the other direction\n",
    "    await csc.cmd_move.set_start(position=-position, timeout=60)\n",
    "    await asyncio.sleep(est_time_wait)\n",
    "\n",
    "    # Move and stop before the end of movement\n",
    "    await csc.cmd_move.set_start(position=position, timeout=60)\n",
    "    await asyncio.sleep(est_time_stop)\n",
    "    await csc.cmd_stop.set_start(timeout=60)"
   ]
  },
  {
   "cell_type": "code",
   "execution_count": 12,
   "id": "efe2d6d8-c238-462e-8a7b-cb0b04e7b631",
   "metadata": {},
   "outputs": [],
   "source": [
    "async def track_target(csc, start_position, end_position, velocity):\n",
    "    \"\"\"Track the target.\n",
    "\n",
    "    Parameters\n",
    "    ----------\n",
    "    start_position : float\n",
    "        Starting position of ramp (deg).\n",
    "    end_position : float\n",
    "        Ending position of ramp (deg).\n",
    "    velocity : float\n",
    "        Velocity of motion along the ramp (deg/sec).\n",
    "    \"\"\"\n",
    "    # 20 Hz is 0.05 ms\n",
    "    track_advance_time = 0.05\n",
    "    ramp_generator = simactuators.RampGenerator(\n",
    "        [start_position], [end_position], [velocity], track_advance_time)\n",
    "\n",
    "    await csc.cmd_trackStart.start(timeout=15)\n",
    "    await asyncio.sleep(0.1)\n",
    "    for positions, velocities, tai in ramp_generator():\n",
    "        await csc.cmd_track.set_start(\n",
    "            angle=positions[0],\n",
    "            velocity=velocities[0],\n",
    "            tai=tai,\n",
    "            timeout=5,\n",
    "        )\n",
    "        await asyncio.sleep(0.1)"
   ]
  },
  {
   "cell_type": "code",
   "execution_count": 67,
   "id": "e7a4f96d-cce4-43b2-8400-be0b1c8851b1",
   "metadata": {},
   "outputs": [],
   "source": [
    "async def track_slew_test(csc):\n",
    "    \"\"\"\n",
    "    Track slew sequence test.\n",
    "\n",
    "    Parameters\n",
    "    ----------\n",
    "    csc : lsst.ts.salobj.remote.Remote\n",
    "        Remote object of the rotator CSC.\n",
    "    \"\"\"\n",
    "    # 20 Hz is 0.05 ms\n",
    "    track_advance_time = 0.05\n",
    "    ramp_generator_1 = simactuators.RampGenerator([0.7], [1.5], [0.068], track_advance_time)\n",
    "    ramp_generator_2 = simactuators.RampGenerator([0.7], [0], [-0.068], track_advance_time)\n",
    "    ramp_generator_3 = simactuators.RampGenerator([5], [4.7], [-0.01], track_advance_time)\n",
    "    ramp_generator_4 = simactuators.RampGenerator([-5], [-4.6], [0.0042], track_advance_time)\n",
    "\n",
    "    # Track the first target\n",
    "    await csc.cmd_trackStart.start(timeout=15)\n",
    "    await asyncio.sleep(0.1)\n",
    "\n",
    "    is_stopped = False\n",
    "    time_start = time.monotonic()\n",
    "    for positions, velocities, tai in ramp_generator_1():\n",
    "        await csc.cmd_track.set_start(\n",
    "            angle=positions[0],\n",
    "            velocity=velocities[0],\n",
    "            tai=tai,\n",
    "            timeout=5,\n",
    "        )\n",
    "        await asyncio.sleep(0.1)\n",
    "\n",
    "        # Stop the rotator in the tracking\n",
    "        delta_time = time.monotonic() - time_start\n",
    "        if (3 <= delta_time <= 3.5) and (not is_stopped):\n",
    "            await csc.cmd_stop.set_start(timeout=10)\n",
    "            \n",
    "            await asyncio.sleep(1)\n",
    "            is_stopped = True\n",
    "\n",
    "        # Allow the tracking again\n",
    "        if is_stopped:\n",
    "            await csc.cmd_trackStart.start(timeout=15)\n",
    "            is_stopped = False\n",
    "\n",
    "    # Track the second target\n",
    "    for positions, velocities, tai in ramp_generator_2():\n",
    "        await csc.cmd_track.set_start(\n",
    "            angle=positions[0],\n",
    "            velocity=velocities[0],\n",
    "            tai=tai,\n",
    "            timeout=5,\n",
    "        )\n",
    "        await asyncio.sleep(0.1)\n",
    "\n",
    "    # Track the third target\n",
    "    for positions, velocities, tai in ramp_generator_3():\n",
    "        await csc.cmd_track.set_start(\n",
    "            angle=positions[0],\n",
    "            velocity=velocities[0],\n",
    "            tai=tai,\n",
    "            timeout=5,\n",
    "        )\n",
    "        await asyncio.sleep(0.1)\n",
    "\n",
    "    # Track the fourth target\n",
    "    for positions, velocities, tai in ramp_generator_4():\n",
    "        await csc.cmd_track.set_start(\n",
    "            angle=positions[0],\n",
    "            velocity=velocities[0],\n",
    "            tai=tai,\n",
    "            timeout=5,\n",
    "        )\n",
    "        await asyncio.sleep(0.1)"
   ]
  },
  {
   "cell_type": "code",
   "execution_count": 104,
   "id": "3c727501-e927-4c64-b1ac-7828d8e544c2",
   "metadata": {},
   "outputs": [],
   "source": [
    "async def slew_supersession_test(csc):\n",
    "    \"\"\"\n",
    "    Slew supersession test.\n",
    "\n",
    "    Parameters\n",
    "    ----------\n",
    "    csc : lsst.ts.salobj.remote.Remote\n",
    "        Remote object of the rotator CSC.\n",
    "    \"\"\"\n",
    "    # 20 Hz is 0.05 ms\n",
    "    track_advance_time = 0.05\n",
    "    ramp_generator_1 = simactuators.RampGenerator([50], [85], [0.068], track_advance_time)\n",
    "    ramp_generator_2 = simactuators.RampGenerator([-60], [-62], [-0.05], track_advance_time)\n",
    "\n",
    "    # Track the first target\n",
    "    await csc.cmd_trackStart.start(timeout=15)\n",
    "    await asyncio.sleep(0.1)\n",
    "    \n",
    "    is_stopped = False\n",
    "    time_start = time.monotonic()\n",
    "    for positions, velocities, tai in ramp_generator_1():\n",
    "        await csc.cmd_track.set_start(\n",
    "            angle=positions[0],\n",
    "            velocity=velocities[0],\n",
    "            tai=tai,\n",
    "            timeout=5,\n",
    "        )\n",
    "        await asyncio.sleep(0.1)\n",
    "\n",
    "        # Break the tracking of this target to test the supersession of slew\n",
    "        if (time.monotonic() - time_start) > 8:\n",
    "            break\n",
    "\n",
    "    # Track the second target\n",
    "    for positions, velocities, tai in ramp_generator_2():\n",
    "        await csc.cmd_track.set_start(\n",
    "            angle=positions[0],\n",
    "            velocity=velocities[0],\n",
    "            tai=tai,\n",
    "            timeout=5,\n",
    "        )\n",
    "        await asyncio.sleep(0.1)"
   ]
  },
  {
   "cell_type": "code",
   "execution_count": 110,
   "id": "7aba4222-b353-4190-89c4-b7ef4c6223e6",
   "metadata": {},
   "outputs": [],
   "source": [
    "async def track_slew_multiple_stop_test(csc):\n",
    "    \"\"\"\n",
    "    Track slew sequence test with multiple stops.\n",
    "\n",
    "    Parameters\n",
    "    ----------\n",
    "    csc : lsst.ts.salobj.remote.Remote\n",
    "        Remote object of the rotator CSC.\n",
    "    \"\"\"\n",
    "    # 20 Hz is 0.05 ms\n",
    "    track_advance_time = 0.05\n",
    "    ramp_generator_1 = simactuators.RampGenerator([0.7], [1.5], [0.068], track_advance_time)\n",
    "    ramp_generator_2 = simactuators.RampGenerator([0.7], [0], [-0.068], track_advance_time)\n",
    "\n",
    "    # Track the first target\n",
    "    await csc.cmd_trackStart.start(timeout=15)\n",
    "    await asyncio.sleep(0.15)\n",
    "    is_stopped = False\n",
    "    time_start = time.monotonic()\n",
    "    for positions, velocities, tai in ramp_generator_1():\n",
    "        await csc.cmd_track.set_start(\n",
    "            angle=positions[0],\n",
    "            velocity=velocities[0],\n",
    "            tai=tai,\n",
    "            timeout=5,\n",
    "        )\n",
    "        await asyncio.sleep(0.1)\n",
    "\n",
    "        # Stop the rotator in the tracking\n",
    "        delta_time = time.monotonic() - time_start\n",
    "        if ((3 <= delta_time <= 3.5) or (6 <= delta_time <= 6.5)) and (not is_stopped):\n",
    "            await csc.cmd_stop.set_start(timeout=10)\n",
    "            \n",
    "            await asyncio.sleep(1)\n",
    "            is_stopped = True\n",
    "\n",
    "        # Allow the tracking again\n",
    "        if is_stopped:\n",
    "            await csc.cmd_trackStart.start(timeout=15)\n",
    "            is_stopped = False\n",
    "\n",
    "    # Track the second target\n",
    "    for positions, velocities, tai in ramp_generator_2():\n",
    "        await csc.cmd_track.set_start(\n",
    "            angle=positions[0],\n",
    "            velocity=velocities[0],\n",
    "            tai=tai,\n",
    "            timeout=5,\n",
    "        )\n",
    "        await asyncio.sleep(0.1)"
   ]
  },
  {
   "cell_type": "code",
   "execution_count": 16,
   "id": "a0c039ec-3184-4c1f-b663-6de6e2538f2c",
   "metadata": {},
   "outputs": [],
   "source": [
    "async def plot_path_generator(efd_client, time_start, time_end):\n",
    "    \"\"\"\n",
    "    Plot the data of path generator.\n",
    "\n",
    "    Parameters\n",
    "    ----------\n",
    "    efd_client : lsst_efd_client.efd_helper.EfdClient\n",
    "        EFD client.\n",
    "    time_start : astropy.time.core.Time\n",
    "        Start time.\n",
    "    time_end : astropy.time.core.Time\n",
    "        End time.\n",
    "    \"\"\"\n",
    "    # Get the data from EFD\n",
    "    data = await efd_client.select_time_series(\n",
    "        \"lsst.sal.MTRotator.rotation\", \n",
    "        fields=[\"demandPosition\", \"demandVelocity\", \"demandAcceleration\", \"actualPosition\", \"actualVelocity\", \"timestamp\"], \n",
    "        start=time_start, \n",
    "        end=time_end)\n",
    "\n",
    "    # Realign the time origin to 0\n",
    "    time_operation = np.array(data.timestamp.subtract(data.timestamp[0]))\n",
    "\n",
    "    # Plots\n",
    "    plt.subplot(3, 1, 1)\n",
    "    plt.plot(time_operation, data.demandPosition)\n",
    "    plt.plot(time_operation, data.actualPosition, \"x-\")\n",
    "    plt.title(\"Path Generator\")\n",
    "    plt.ylabel(\"P (deg)\")\n",
    "\n",
    "    plt.subplot(3, 1, 2)\n",
    "    plt.plot(time_operation, data.demandVelocity)\n",
    "    plt.plot(time_operation, data.actualVelocity, \"x-\")\n",
    "    plt.ylabel(\"V (deg/s)\")\n",
    "\n",
    "    plt.subplot(3, 1, 3)\n",
    "    plt.plot(time_operation, data.demandAcceleration)\n",
    "    plt.xlabel(\"Time (s)\")\n",
    "    plt.ylabel(\"A (deg/s^2)\")"
   ]
  },
  {
   "cell_type": "code",
   "execution_count": 17,
   "id": "d9986542-6e9d-4a35-ab7d-461770c95ecc",
   "metadata": {},
   "outputs": [],
   "source": [
    "async def get_event_data(efd_client, time_start, time_end):\n",
    "    \"\"\"\n",
    "    Get the event data.\n",
    "\n",
    "    Parameters\n",
    "    ----------\n",
    "    efd_client : lsst_efd_client.efd_helper.EfdClient\n",
    "        EFD client.\n",
    "    time_start : astropy.time.core.Time\n",
    "        Start time.\n",
    "    time_end : astropy.time.core.Time\n",
    "        End time.\n",
    "\n",
    "    Returns\n",
    "    -------\n",
    "    data_controller_state : pandas.core.frame.DataFrame\n",
    "        Data of the controller state event.\n",
    "    data_in_position : pandas.core.frame.DataFrame\n",
    "        Data of the inPosition event.\n",
    "    data_tracking : pandas.core.frame.DataFrame\n",
    "        Data of the tracking event.\n",
    "    \"\"\"\n",
    "\n",
    "    # Get the data from EFD\n",
    "    data_controller_state = await efd_client.select_time_series(\n",
    "        \"lsst.sal.MTRotator.logevent_controllerState\", \n",
    "        fields=[\"controllerState\", \"enabledSubstate\"], \n",
    "        start=time_start,\n",
    "        end=time_end)\n",
    "    \n",
    "    # The inPosition field is a combination of Flags_moveSuccess and Flags_trackingSuccess in Simulink telemetry\n",
    "    data_in_position = await efd_client.select_time_series(\n",
    "        \"lsst.sal.MTRotator.logevent_inPosition\", \n",
    "        fields=\"inPosition\",\n",
    "        start=time_start,\n",
    "        end=time_end)\n",
    "    \n",
    "    # The tracking field is Flags_trackingSuccess in Simulink telemetry\n",
    "    # The lost field is Flags_trackingLost in Simulink telemetry\n",
    "    # The noNewCommand field is Flags_noNewTrackCmdError in Simulink telemetry\n",
    "    data_tracking = await efd_client.select_time_series(\n",
    "        \"lsst.sal.MTRotator.logevent_tracking\", \n",
    "        fields=[\"tracking\", \"lost\", \"noNewCommand\"],\n",
    "        start=time_start,\n",
    "        end=time_end)\n",
    "\n",
    "    # Add the column of time difference in seconds\n",
    "    add_column_time_differece(data_controller_state, time_start)\n",
    "    add_column_time_differece(data_in_position, time_start)\n",
    "    add_column_time_differece(data_tracking, time_start)\n",
    "\n",
    "    return data_controller_state, data_in_position, data_tracking"
   ]
  },
  {
   "cell_type": "code",
   "execution_count": 18,
   "id": "a78ebfd4-a879-4070-9ec4-2afd6317ad97",
   "metadata": {},
   "outputs": [],
   "source": [
    "def add_column_time_differece(data_frame, time_start):\n",
    "    \"\"\"\n",
    "    Add the column of time difference in second.\n",
    "\n",
    "    Parameters\n",
    "    ----------\n",
    "    data_frame : pandas.core.frame.DataFrame\n",
    "        Data frame.\n",
    "    time_start : astropy.time.core.Time\n",
    "        Start time.\n",
    "    \"\"\"\n",
    "    if (len(data_frame.values) != 0):\n",
    "        timestamp_start = pd.Timestamp(time_start.value, tz=\"utc\")\n",
    "        diff_time = data_frame.index - pd.Timestamp(time_start.value, tz=\"utc\")\n",
    "        diff_time_sec = [element.seconds + element.microseconds * 1e-6 for element in diff_time]\n",
    "        data_frame[\"time_difference\"] = diff_time_sec"
   ]
  },
  {
   "cell_type": "markdown",
   "id": "1f500072-b08e-463a-911f-2696aac1ebef",
   "metadata": {},
   "source": [
    "**Instantiate the EFD and CSC**\n",
    "\n",
    "Need to make sure **ospl** is running for the data distribution system (DDS) communication."
   ]
  },
  {
   "cell_type": "code",
   "execution_count": 19,
   "id": "45e04d50-73d5-446c-a463-0d31750d0ca1",
   "metadata": {},
   "outputs": [
    {
     "data": {
      "text/html": [
       "<pre style=\"margin: 0.1em;\n",
       "padding-left: 0.25em;\n",
       "border-left-style: solid;\n",
       "font-family: var(--jp-code-font-family);\n",
       "font-size: var(--jp-code-font-size);\n",
       "line-height: var(--jp-code-line-height);\n",
       "\"><span style=\"color: var(--jp-warn-color2)\">MTRotator</span> <span style=\"color: var(--jp-info-color0)\">INFO</span>: Read historical data in 0.00 sec</pre>"
      ],
      "text/plain": [
       "<IPython.core.display.HTML object>"
      ]
     },
     "metadata": {},
     "output_type": "display_data"
    },
    {
     "data": {
      "text/plain": [
       "<ddsutil.MTRotator_ackcmd_f04f56ad at 0x7f76f08c1fd0>"
      ]
     },
     "execution_count": 19,
     "metadata": {},
     "output_type": "execute_result"
    }
   ],
   "source": [
    "efd_client = retrieve_efd_client(is_summit=True)\n",
    "rotator = salobj.Remote(salobj.Domain(), \"MTRotator\")\n",
    "await rotator.start_task\n",
    "await rotator.cmd_setLogLevel.set_start(level=10)"
   ]
  },
  {
   "cell_type": "markdown",
   "id": "b3b8ca1e-d9f9-4d53-a2f1-9cb7ba997ebd",
   "metadata": {},
   "source": [
    "**MTMount** controller is used to generate the fake data if needed."
   ]
  },
  {
   "cell_type": "code",
   "execution_count": 20,
   "id": "9021361d-4c5b-462d-a35a-787080c056af",
   "metadata": {},
   "outputs": [],
   "source": [
    "# Run the following code if there is the problem of MTMount to follow the rotator\n",
    "\n",
    "# mtmount_controller = salobj.Controller(\"MTMount\")\n",
    "# await mtmount_controller.start_task"
   ]
  },
  {
   "cell_type": "markdown",
   "id": "3663f0fb-3799-4474-8763-17562baf6679",
   "metadata": {},
   "source": [
    "Put the rotator CSC into **Enabled** state before the test.\n",
    "At this moment, we need to do the workaround before DM-33967.\n",
    "At Tucson teststand, we can use *tts_test.yaml* to workaround the following error of rotator and camera cable wrapper (CCW)."
   ]
  },
  {
   "cell_type": "code",
   "execution_count": null,
   "id": "1e482d51-550b-4bc7-a774-05349bd03b85",
   "metadata": {},
   "outputs": [],
   "source": [
    "# Run the following code if there is the problem of MTMount to follow the rotator\n",
    "\n",
    "# await salobj.set_summary_state(rotator, salobj.State.DISABLED, timeout=30)\n",
    "# task_create_fake_mtmount_data(mtmount_controller, rotator, 240)\n",
    "# await asyncio.sleep(2)\n",
    "# await salobj.set_summary_state(rotator, salobj.State.ENABLED, timeout=30)"
   ]
  },
  {
   "cell_type": "code",
   "execution_count": null,
   "id": "efb04322-4e74-43ab-a12d-7a2f9538262c",
   "metadata": {},
   "outputs": [],
   "source": [
    "# \"tts_test.yaml\" is the configuration file at Tucson teststand to increase the tolerance in the\n",
    "# difference between the rotator and CCW \n",
    "await salobj.set_summary_state(\n",
    "    rotator, salobj.State.ENABLED,\n",
    "    timeout=30,\n",
    "    settingsToApply=\"tts_test.yaml\"\n",
    ")"
   ]
  },
  {
   "cell_type": "markdown",
   "id": "9e2bbc33-d271-411d-a356-59dc2b87ca26",
   "metadata": {},
   "source": [
    "**Check the rotator condition**\n",
    "\n",
    "After each test case, execute this cell to get the **time_now**, which is used in the query of EFD data."
   ]
  },
  {
   "cell_type": "code",
   "execution_count": 115,
   "id": "9da4d932-3c1b-4a29-a4a8-b8a5e33ae6bb",
   "metadata": {},
   "outputs": [
    {
     "name": "stdout",
     "output_type": "stream",
     "text": [
      "Time is 2022-05-20T20:08:03.000 right now.\n",
      "Rotator is at 0.005667898527320858 degree.\n",
      "State.FAULT\n",
      "Fault! errorCode=1, errorReport='Low-level controller went to FAULT state'\n"
     ]
    }
   ],
   "source": [
    "time_now = print_and_get_time()\n",
    "\n",
    "await print_rotator_position(rotator)\n",
    "await print_summary_state(rotator)\n",
    "await print_rotator_latest_message(rotator)"
   ]
  },
  {
   "cell_type": "markdown",
   "id": "83272968-a4ed-498b-af5a-74ac85bb1a43",
   "metadata": {},
   "source": [
    "**Put the rotator back to origin**\n",
    "\n",
    "Before each test, put the rotator back to origin.\n",
    "This is easier for the data analysis."
   ]
  },
  {
   "cell_type": "code",
   "execution_count": 80,
   "id": "34ae86ed-9a2e-4cfd-b7bc-2c188a6ca637",
   "metadata": {},
   "outputs": [
    {
     "data": {
      "text/plain": [
       "<ddsutil.MTRotator_ackcmd_f04f56ad at 0x7f76f088d4c0>"
      ]
     },
     "execution_count": 80,
     "metadata": {},
     "output_type": "execute_result"
    }
   ],
   "source": [
    "await rotator.cmd_move.set_start(position=0, timeout=60)"
   ]
  },
  {
   "cell_type": "code",
   "execution_count": 56,
   "id": "83e96625-c8db-4434-834d-f90507292b39",
   "metadata": {},
   "outputs": [
    {
     "data": {
      "text/plain": [
       "<ddsutil.MTRotator_ackcmd_f04f56ad at 0x7f76f08e8d60>"
      ]
     },
     "execution_count": 56,
     "metadata": {},
     "output_type": "execute_result"
    }
   ],
   "source": [
    "await rotator.cmd_stop.set_start(timeout=60)"
   ]
  },
  {
   "cell_type": "markdown",
   "id": "e3bad4e6",
   "metadata": {},
   "source": [
    "**Setup the Script**"
   ]
  },
  {
   "cell_type": "code",
   "execution_count": 25,
   "id": "71e075e3",
   "metadata": {},
   "outputs": [
    {
     "data": {
      "text/html": [
       "<pre style=\"margin: 0.1em;\n",
       "padding-left: 0.25em;\n",
       "border-left-style: solid;\n",
       "font-family: var(--jp-code-font-family);\n",
       "font-size: var(--jp-code-font-size);\n",
       "line-height: var(--jp-code-line-height);\n",
       "\"><span style=\"color: var(--jp-warn-color2)\">Script</span> <span style=\"color: var(--jp-info-color0)\">INFO</span>: Read historical data in 0.00 sec</pre>"
      ],
      "text/plain": [
       "<IPython.core.display.HTML object>"
      ]
     },
     "metadata": {},
     "output_type": "display_data"
    },
    {
     "name": "stdout",
     "output_type": "stream",
     "text": [
      "Time to start the verification is 0:00:10.060931 [s]\n"
     ]
    }
   ],
   "source": [
    "time_start_verification = datetime.now()\n",
    "test_message = \"Rotator New Trjectory Verification Test\"\n",
    "script = salobj.Controller(\"Script\", index=10)\n",
    "\n",
    "# Wait 10 second may help with DDS problems; closing all other kernels may help too\n",
    "await asyncio.sleep(10)\n",
    "print(f\"Time to start the verification is {datetime.now() - time_start_verification} [s]\")"
   ]
  },
  {
   "cell_type": "markdown",
   "id": "ff9f0d62-42bd-407a-a40d-a4921b045567",
   "metadata": {},
   "source": [
    "**Test Case (small slewing test)**\n",
    "\n",
    "Test the positive and negative directions."
   ]
  },
  {
   "cell_type": "code",
   "execution_count": 78,
   "id": "b8aeac24",
   "metadata": {},
   "outputs": [
    {
     "data": {
      "text/html": [
       "<pre style=\"margin: 0.1em;\n",
       "padding-left: 0.25em;\n",
       "border-left-style: solid;\n",
       "font-family: var(--jp-code-font-family);\n",
       "font-size: var(--jp-code-font-size);\n",
       "line-height: var(--jp-code-line-height);\n",
       "\"><span style=\"color: var(--jp-warn-color2)\">Script</span> <span style=\"color: var(--jp-info-color0)\">INFO</span>: START -- Rotator New Trjectory Verification Test -- LVV-T2539 -- Test step desciption -- Starting Time: 2022-05-20 19:36:56.456723 UTC</pre>"
      ],
      "text/plain": [
       "<IPython.core.display.HTML object>"
      ]
     },
     "metadata": {},
     "output_type": "display_data"
    }
   ],
   "source": [
    "script.log.info(f\"START -- {test_message} -- LVV-T2539 -- Test step desciption -- Starting Time: {datetime.now()} UTC\")"
   ]
  },
  {
   "cell_type": "code",
   "execution_count": null,
   "id": "94abea8c-858d-4b60-b19a-42315434f9c1",
   "metadata": {},
   "outputs": [],
   "source": [
    "time_start = print_and_get_time()\n",
    "await slew_test(rotator, 0.7, 5, 0.1)"
   ]
  },
  {
   "cell_type": "code",
   "execution_count": 79,
   "id": "d26db438",
   "metadata": {},
   "outputs": [
    {
     "data": {
      "text/html": [
       "<pre style=\"margin: 0.1em;\n",
       "padding-left: 0.25em;\n",
       "border-left-style: solid;\n",
       "font-family: var(--jp-code-font-family);\n",
       "font-size: var(--jp-code-font-size);\n",
       "line-height: var(--jp-code-line-height);\n",
       "\"><span style=\"color: var(--jp-warn-color2)\">Script</span> <span style=\"color: var(--jp-info-color0)\">INFO</span>: START -- Rotator New Trjectory Verification Test -- LVV-T2539 -- Test step desciption -- Stopping Time: 2022-05-20 19:37:03.107061 UTC</pre>"
      ],
      "text/plain": [
       "<IPython.core.display.HTML object>"
      ]
     },
     "metadata": {},
     "output_type": "display_data"
    }
   ],
   "source": [
    "script.log.info(f\"START -- {test_message} -- LVV-T2539 -- Test step desciption -- Stopping Time: {datetime.now()} UTC\")"
   ]
  },
  {
   "cell_type": "code",
   "execution_count": null,
   "id": "3ce0d6a8-2974-4996-ac3a-f8ed099344c0",
   "metadata": {},
   "outputs": [],
   "source": [
    "await plot_path_generator(efd_client, time_start, time_now)"
   ]
  },
  {
   "cell_type": "code",
   "execution_count": null,
   "id": "5e5bf483-0864-47d5-9643-ea3afedb2a90",
   "metadata": {},
   "outputs": [],
   "source": [
    "time_now = print_and_get_time()\n",
    "data_controller_state, data_in_position, data_tracking = await get_event_data(\n",
    "    efd_client, time_start, time_now)"
   ]
  },
  {
   "cell_type": "code",
   "execution_count": null,
   "id": "848250ec-ac79-4d96-a1d9-10adf5325a8d",
   "metadata": {},
   "outputs": [],
   "source": [
    "data_controller_state"
   ]
  },
  {
   "cell_type": "code",
   "execution_count": null,
   "id": "5fb5c22c-03dc-4f8d-aaad-c2257129feb0",
   "metadata": {},
   "outputs": [],
   "source": [
    "data_in_position"
   ]
  },
  {
   "cell_type": "code",
   "execution_count": null,
   "id": "2a4e8ffd-c649-47bb-9ae6-2697f2b5087f",
   "metadata": {},
   "outputs": [],
   "source": [
    "data_tracking"
   ]
  },
  {
   "cell_type": "markdown",
   "id": "fec71607-4c2b-4df3-9c9c-ecbb2f591f08",
   "metadata": {},
   "source": [
    "**Test Case (long slew test + constant speed test)**\n",
    "\n",
    "Test the positive and negative directions.\n",
    "The behavior of trajectory generator should be the same for these two tests.\n",
    "Note the CSC does not support the command of constant speed move."
   ]
  },
  {
   "cell_type": "code",
   "execution_count": null,
   "id": "e1803534",
   "metadata": {},
   "outputs": [],
   "source": [
    "script.log.info(f\"START -- {test_message} -- LVV-T2539 -- Test step desciption -- Starting Time: {datetime.now()} UTC\")"
   ]
  },
  {
   "cell_type": "code",
   "execution_count": null,
   "id": "62955458-d3f7-4b1b-99a1-485da7e0a887",
   "metadata": {},
   "outputs": [],
   "source": [
    "time_start = print_and_get_time()\n",
    "await slew_test(rotator, 85, 35, 10)"
   ]
  },
  {
   "cell_type": "code",
   "execution_count": null,
   "id": "5ca54686",
   "metadata": {},
   "outputs": [],
   "source": [
    "script.log.info(f\"START -- {test_message} -- LVV-T2539 -- Test step desciption -- Stopping Time: {datetime.now()} UTC\")"
   ]
  },
  {
   "cell_type": "code",
   "execution_count": null,
   "id": "e9a64495-bf30-44d3-9936-615bf6eb6eb4",
   "metadata": {},
   "outputs": [],
   "source": [
    "time_now = print_and_get_time()\n",
    "await plot_path_generator(efd_client, time_start, time_now)"
   ]
  },
  {
   "cell_type": "code",
   "execution_count": null,
   "id": "239ec61f-1923-4d35-91d6-cf00904730fa",
   "metadata": {},
   "outputs": [],
   "source": [
    "time_now = print_and_get_time()\n",
    "data_controller_state, data_in_position, data_tracking = await get_event_data(\n",
    "    efd_client, time_start, time_now)"
   ]
  },
  {
   "cell_type": "code",
   "execution_count": null,
   "id": "38668e45-7735-4298-b360-55a09932d28e",
   "metadata": {},
   "outputs": [],
   "source": [
    "data_controller_state"
   ]
  },
  {
   "cell_type": "code",
   "execution_count": null,
   "id": "c96f55dc-faa1-4845-ad30-5db15aa4075a",
   "metadata": {},
   "outputs": [],
   "source": [
    "data_in_position"
   ]
  },
  {
   "cell_type": "code",
   "execution_count": null,
   "id": "095f49d5-fb2f-4d62-9e15-99550ca7fe60",
   "metadata": {},
   "outputs": [],
   "source": [
    "data_tracking"
   ]
  },
  {
   "cell_type": "markdown",
   "id": "9756a90e-95a8-4068-add7-4d17259db004",
   "metadata": {},
   "source": [
    "**Test Case (rotation range test)**\n",
    "\n",
    "Note the CSC does not support the command of constant speed move."
   ]
  },
  {
   "cell_type": "code",
   "execution_count": null,
   "id": "310739f3",
   "metadata": {},
   "outputs": [],
   "source": [
    "script.log.info(f\"START -- {test_message} -- LVV-T2539 -- Test step desciption -- Starting Time: {datetime.now()} UTC\")"
   ]
  },
  {
   "cell_type": "markdown",
   "id": "24895a87",
   "metadata": {},
   "source": [
    "The configuration file of controller can update the following parameters: Parameters_upperPosLimit_deg, Parameters_lowerPosLimit_deg, Parameters_PositionErrorThresh, Parameters_FollowingErrorThreshold_deg, Parameters_trackingSuccessPositionThreshold_deg, and Parameters_trackingLostTimeout_sec in the Simulink model."
   ]
  },
  {
   "cell_type": "code",
   "execution_count": null,
   "id": "05b70bc4-e8f2-4bb5-9db0-6e0a41e42d90",
   "metadata": {},
   "outputs": [],
   "source": [
    "# Test the move position is out of range\n",
    "time_start = print_and_get_time()\n",
    "\n",
    "try:\n",
    "    await rotator.cmd_move.set_start(position=91, timeout=60)\n",
    "except salobj.AckError as error:\n",
    "    print(error)\n",
    "\n",
    "try:\n",
    "    await rotator.cmd_move.set_start(position=-91, timeout=60)\n",
    "except salobj.AckError as error:\n",
    "    print(error)"
   ]
  },
  {
   "cell_type": "code",
   "execution_count": null,
   "id": "715e4fe6",
   "metadata": {},
   "outputs": [],
   "source": [
    "script.log.info(f\"START -- {test_message} -- LVV-T2539 -- Test step desciption -- Stopping Time: {datetime.now()} UTC\")"
   ]
  },
  {
   "cell_type": "code",
   "execution_count": null,
   "id": "02bfef3b-fcd5-4fa3-90cf-49e30dcf321a",
   "metadata": {},
   "outputs": [],
   "source": [
    "await plot_path_generator(efd_client, time_start, time_now)"
   ]
  },
  {
   "cell_type": "code",
   "execution_count": null,
   "id": "cf6e4d5b-e4c8-4711-a3a5-48d831b2fc90",
   "metadata": {},
   "outputs": [],
   "source": [
    "time_now = print_and_get_time()\n",
    "data_controller_state, data_in_position, data_tracking = await get_event_data(\n",
    "    efd_client, time_start, time_now)"
   ]
  },
  {
   "cell_type": "code",
   "execution_count": null,
   "id": "7a1733e3-bb84-402c-9591-30e3d64e9abe",
   "metadata": {},
   "outputs": [],
   "source": [
    "data_controller_state"
   ]
  },
  {
   "cell_type": "code",
   "execution_count": null,
   "id": "67a1ea67-643d-4eef-9f79-4bec59c02188",
   "metadata": {},
   "outputs": [],
   "source": [
    "data_in_position"
   ]
  },
  {
   "cell_type": "code",
   "execution_count": null,
   "id": "4422d522-110a-449c-b4d3-ddeb3e1f9db6",
   "metadata": {},
   "outputs": [],
   "source": [
    "data_tracking"
   ]
  },
  {
   "cell_type": "markdown",
   "id": "b0bcab5c-8707-4b74-8530-17e1297b222b",
   "metadata": {},
   "source": [
    "**Test Case (position accuracy)**\n",
    "\n",
    "The **slewingAndTracking** operation will be tested.\n",
    "Note the rotator will transition to Fault state in the final if there is no new track command.\n",
    "This behaviour can be used to verify the test case of \"no tracking commands\".\n",
    "In addition, the trajectory generator will do the extrapolation in a small time period before the transition to **Fault** state."
   ]
  },
  {
   "cell_type": "markdown",
   "id": "c5d96ac6-63dd-4ee5-bc13-eb924623748b",
   "metadata": {},
   "source": [
    "Target is moving in the positive direction."
   ]
  },
  {
   "cell_type": "code",
   "execution_count": 26,
   "id": "ed129305",
   "metadata": {},
   "outputs": [
    {
     "data": {
      "text/html": [
       "<pre style=\"margin: 0.1em;\n",
       "padding-left: 0.25em;\n",
       "border-left-style: solid;\n",
       "font-family: var(--jp-code-font-family);\n",
       "font-size: var(--jp-code-font-size);\n",
       "line-height: var(--jp-code-line-height);\n",
       "\"><span style=\"color: var(--jp-warn-color2)\">Script</span> <span style=\"color: var(--jp-info-color0)\">INFO</span>: START -- Rotator New Trjectory Verification Test -- LVV-T2539 -- Test step desciption -- Starting Time: 2022-05-20 19:07:39.290472 UTC</pre>"
      ],
      "text/plain": [
       "<IPython.core.display.HTML object>"
      ]
     },
     "metadata": {},
     "output_type": "display_data"
    }
   ],
   "source": [
    "script.log.info(f\"START -- {test_message} -- LVV-T2539 -- Test step desciption -- Starting Time: {datetime.now()} UTC\")"
   ]
  },
  {
   "cell_type": "code",
   "execution_count": 27,
   "id": "d2b11c05-4e76-4bcb-be95-a031769bb067",
   "metadata": {},
   "outputs": [
    {
     "name": "stdout",
     "output_type": "stream",
     "text": [
      "Time is 2022-05-20T19:07:40.000 right now.\n"
     ]
    }
   ],
   "source": [
    "time_start = print_and_get_time()\n",
    "await track_target(rotator, 30, 30.5, 0.03)"
   ]
  },
  {
   "cell_type": "code",
   "execution_count": 28,
   "id": "8569f805",
   "metadata": {},
   "outputs": [
    {
     "data": {
      "text/html": [
       "<pre style=\"margin: 0.1em;\n",
       "padding-left: 0.25em;\n",
       "border-left-style: solid;\n",
       "font-family: var(--jp-code-font-family);\n",
       "font-size: var(--jp-code-font-size);\n",
       "line-height: var(--jp-code-line-height);\n",
       "\"><span style=\"color: var(--jp-warn-color2)\">Script</span> <span style=\"color: var(--jp-info-color0)\">INFO</span>: START -- Rotator New Trjectory Verification Test -- LVV-T2539 -- Test step desciption -- Stopping Time: 2022-05-20 19:07:58.047504 UTC</pre>"
      ],
      "text/plain": [
       "<IPython.core.display.HTML object>"
      ]
     },
     "metadata": {},
     "output_type": "display_data"
    }
   ],
   "source": [
    "script.log.info(f\"START -- {test_message} -- LVV-T2539 -- Test step desciption -- Stopping Time: {datetime.now()} UTC\")"
   ]
  },
  {
   "cell_type": "code",
   "execution_count": 58,
   "id": "aad8abfe-8b65-42cb-8616-73086d59eddd",
   "metadata": {},
   "outputs": [
    {
     "name": "stdout",
     "output_type": "stream",
     "text": [
      "Time is 2022-05-20T19:27:03.000 right now.\n"
     ]
    },
    {
     "data": {
      "image/png": "[encoded data removed]",
      "text/plain": [
       "<Figure size 432x288 with 3 Axes>"
      ]
     },
     "metadata": {
      "needs_background": "light"
     },
     "output_type": "display_data"
    },
    {
     "data": {
      "text/html": [
       "<pre style=\"margin: 0.1em;\n",
       "padding-left: 0.25em;\n",
       "border-left-style: solid;\n",
       "font-family: var(--jp-code-font-family);\n",
       "font-size: var(--jp-code-font-size);\n",
       "line-height: var(--jp-code-line-height);\n",
       "\"><span style=\"color: var(--jp-warn-color2)\">MTRotator.motors</span> <span style=\"color: var(--jp-warn-color0)\">WARNING</span>: tel_motors DDS read queue is filling: 10 of 100 elements</pre>"
      ],
      "text/plain": [
       "<IPython.core.display.HTML object>"
      ]
     },
     "metadata": {},
     "output_type": "display_data"
    },
    {
     "data": {
      "text/html": [
       "<pre style=\"margin: 0.1em;\n",
       "padding-left: 0.25em;\n",
       "border-left-style: solid;\n",
       "font-family: var(--jp-code-font-family);\n",
       "font-size: var(--jp-code-font-size);\n",
       "line-height: var(--jp-code-line-height);\n",
       "\"><span style=\"color: var(--jp-warn-color2)\">MTRotator.electrical</span> <span style=\"color: var(--jp-warn-color0)\">WARNING</span>: tel_electrical DDS read queue is filling: 10 of 100 elements</pre>"
      ],
      "text/plain": [
       "<IPython.core.display.HTML object>"
      ]
     },
     "metadata": {},
     "output_type": "display_data"
    },
    {
     "data": {
      "text/html": [
       "<pre style=\"margin: 0.1em;\n",
       "padding-left: 0.25em;\n",
       "border-left-style: solid;\n",
       "font-family: var(--jp-code-font-family);\n",
       "font-size: var(--jp-code-font-size);\n",
       "line-height: var(--jp-code-line-height);\n",
       "\"><span style=\"color: var(--jp-warn-color2)\">MTRotator.ccwFollowingError</span> <span style=\"color: var(--jp-warn-color0)\">WARNING</span>: tel_ccwFollowingError DDS read queue is filling: 10 of 100 elements</pre>"
      ],
      "text/plain": [
       "<IPython.core.display.HTML object>"
      ]
     },
     "metadata": {},
     "output_type": "display_data"
    }
   ],
   "source": [
    "time_now = print_and_get_time()\n",
    "await plot_path_generator(efd_client, time_start, time_now)"
   ]
  },
  {
   "cell_type": "code",
   "execution_count": 30,
   "id": "e0235286-20df-41fb-9eff-dd62a8145ee8",
   "metadata": {},
   "outputs": [],
   "source": [
    "data_controller_state, data_in_position, data_tracking = await get_event_data(\n",
    "    efd_client, time_start, time_now)"
   ]
  },
  {
   "cell_type": "code",
   "execution_count": 31,
   "id": "7487398f-d544-4edd-af2b-89671dcce1d2",
   "metadata": {},
   "outputs": [
    {
     "data": {
      "text/html": [
       "<div>\n",
       "<style scoped>\n",
       "    .dataframe tbody tr th:only-of-type {\n",
       "        vertical-align: middle;\n",
       "    }\n",
       "\n",
       "    .dataframe tbody tr th {\n",
       "        vertical-align: top;\n",
       "    }\n",
       "\n",
       "    .dataframe thead th {\n",
       "        text-align: right;\n",
       "    }\n",
       "</style>\n",
       "<table border=\"1\" class=\"dataframe\">\n",
       "  <thead>\n",
       "    <tr style=\"text-align: right;\">\n",
       "      <th></th>\n",
       "    </tr>\n",
       "  </thead>\n",
       "  <tbody>\n",
       "  </tbody>\n",
       "</table>\n",
       "</div>"
      ],
      "text/plain": [
       "Empty DataFrame\n",
       "Columns: []\n",
       "Index: []"
      ]
     },
     "execution_count": 31,
     "metadata": {},
     "output_type": "execute_result"
    }
   ],
   "source": [
    "data_controller_state"
   ]
  },
  {
   "cell_type": "code",
   "execution_count": 32,
   "id": "ba2f9544-0be2-4452-b3ae-a833a86d6788",
   "metadata": {},
   "outputs": [
    {
     "data": {
      "text/html": [
       "<div>\n",
       "<style scoped>\n",
       "    .dataframe tbody tr th:only-of-type {\n",
       "        vertical-align: middle;\n",
       "    }\n",
       "\n",
       "    .dataframe tbody tr th {\n",
       "        vertical-align: top;\n",
       "    }\n",
       "\n",
       "    .dataframe thead th {\n",
       "        text-align: right;\n",
       "    }\n",
       "</style>\n",
       "<table border=\"1\" class=\"dataframe\">\n",
       "  <thead>\n",
       "    <tr style=\"text-align: right;\">\n",
       "      <th></th>\n",
       "    </tr>\n",
       "  </thead>\n",
       "  <tbody>\n",
       "  </tbody>\n",
       "</table>\n",
       "</div>"
      ],
      "text/plain": [
       "Empty DataFrame\n",
       "Columns: []\n",
       "Index: []"
      ]
     },
     "execution_count": 32,
     "metadata": {},
     "output_type": "execute_result"
    }
   ],
   "source": [
    "data_in_position"
   ]
  },
  {
   "cell_type": "code",
   "execution_count": 33,
   "id": "0f325e18-771c-46c2-aab5-6ebc69c955fd",
   "metadata": {},
   "outputs": [
    {
     "data": {
      "text/html": [
       "<div>\n",
       "<style scoped>\n",
       "    .dataframe tbody tr th:only-of-type {\n",
       "        vertical-align: middle;\n",
       "    }\n",
       "\n",
       "    .dataframe tbody tr th {\n",
       "        vertical-align: top;\n",
       "    }\n",
       "\n",
       "    .dataframe thead th {\n",
       "        text-align: right;\n",
       "    }\n",
       "</style>\n",
       "<table border=\"1\" class=\"dataframe\">\n",
       "  <thead>\n",
       "    <tr style=\"text-align: right;\">\n",
       "      <th></th>\n",
       "    </tr>\n",
       "  </thead>\n",
       "  <tbody>\n",
       "  </tbody>\n",
       "</table>\n",
       "</div>"
      ],
      "text/plain": [
       "Empty DataFrame\n",
       "Columns: []\n",
       "Index: []"
      ]
     },
     "execution_count": 33,
     "metadata": {},
     "output_type": "execute_result"
    }
   ],
   "source": [
    "data_tracking"
   ]
  },
  {
   "cell_type": "markdown",
   "id": "359c86b6-d90e-4dab-9b55-9473dddf396c",
   "metadata": {},
   "source": [
    "Target is moving in the negative direction."
   ]
  },
  {
   "cell_type": "code",
   "execution_count": 48,
   "id": "c908aff0",
   "metadata": {},
   "outputs": [
    {
     "data": {
      "text/html": [
       "<pre style=\"margin: 0.1em;\n",
       "padding-left: 0.25em;\n",
       "border-left-style: solid;\n",
       "font-family: var(--jp-code-font-family);\n",
       "font-size: var(--jp-code-font-size);\n",
       "line-height: var(--jp-code-line-height);\n",
       "\"><span style=\"color: var(--jp-warn-color2)\">Script</span> <span style=\"color: var(--jp-info-color0)\">INFO</span>: START -- Rotator New Trjectory Verification Test -- LVV-T2539 -- Test step desciption -- Starting Time: 2022-05-20 19:20:00.071913 UTC</pre>"
      ],
      "text/plain": [
       "<IPython.core.display.HTML object>"
      ]
     },
     "metadata": {},
     "output_type": "display_data"
    }
   ],
   "source": [
    "script.log.info(f\"START -- {test_message} -- LVV-T2539 -- Test step desciption -- Starting Time: {datetime.now()} UTC\")"
   ]
  },
  {
   "cell_type": "code",
   "execution_count": 49,
   "id": "25a726d7-c0f1-45b0-8a5c-e59c9171944c",
   "metadata": {},
   "outputs": [
    {
     "name": "stdout",
     "output_type": "stream",
     "text": [
      "Time is 2022-05-20T19:20:02.000 right now.\n"
     ]
    }
   ],
   "source": [
    "time_start = print_and_get_time()\n",
    "await track_target(rotator, -30, -31.1, -0.068)"
   ]
  },
  {
   "cell_type": "code",
   "execution_count": 50,
   "id": "7e53cee0",
   "metadata": {},
   "outputs": [
    {
     "data": {
      "text/html": [
       "<pre style=\"margin: 0.1em;\n",
       "padding-left: 0.25em;\n",
       "border-left-style: solid;\n",
       "font-family: var(--jp-code-font-family);\n",
       "font-size: var(--jp-code-font-size);\n",
       "line-height: var(--jp-code-line-height);\n",
       "\"><span style=\"color: var(--jp-warn-color2)\">Script</span> <span style=\"color: var(--jp-info-color0)\">INFO</span>: START -- Rotator New Trjectory Verification Test -- LVV-T2539 -- Test step desciption -- Stopping Time: 2022-05-20 19:20:20.307472 UTC</pre>"
      ],
      "text/plain": [
       "<IPython.core.display.HTML object>"
      ]
     },
     "metadata": {},
     "output_type": "display_data"
    }
   ],
   "source": [
    "script.log.info(f\"START -- {test_message} -- LVV-T2539 -- Test step desciption -- Stopping Time: {datetime.now()} UTC\")"
   ]
  },
  {
   "cell_type": "code",
   "execution_count": 63,
   "id": "5bb499b1-6ad8-4113-ae63-008325bf775e",
   "metadata": {},
   "outputs": [
    {
     "name": "stdout",
     "output_type": "stream",
     "text": [
      "Time is 2022-05-20T19:29:31.000 right now.\n"
     ]
    },
    {
     "data": {
      "image/png": "[encoded data removed]",
      "text/plain": [
       "<Figure size 432x288 with 3 Axes>"
      ]
     },
     "metadata": {
      "needs_background": "light"
     },
     "output_type": "display_data"
    }
   ],
   "source": [
    "time_now = print_and_get_time()\n",
    "await plot_path_generator(efd_client, time_start, time_now)"
   ]
  },
  {
   "cell_type": "code",
   "execution_count": 59,
   "id": "7ba6361d-8c35-4577-b133-85065e35cc0c",
   "metadata": {},
   "outputs": [
    {
     "name": "stdout",
     "output_type": "stream",
     "text": [
      "Time is 2022-05-20T19:29:14.000 right now.\n"
     ]
    }
   ],
   "source": [
    "time_now = print_and_get_time()\n",
    "data_controller_state, data_in_position, data_tracking = await get_event_data(\n",
    "    efd_client, time_start, time_now)"
   ]
  },
  {
   "cell_type": "code",
   "execution_count": 60,
   "id": "4f679cb4-77aa-4eca-ac93-b6363d5d939f",
   "metadata": {},
   "outputs": [
    {
     "data": {
      "text/html": [
       "<div>\n",
       "<style scoped>\n",
       "    .dataframe tbody tr th:only-of-type {\n",
       "        vertical-align: middle;\n",
       "    }\n",
       "\n",
       "    .dataframe tbody tr th {\n",
       "        vertical-align: top;\n",
       "    }\n",
       "\n",
       "    .dataframe thead th {\n",
       "        text-align: right;\n",
       "    }\n",
       "</style>\n",
       "<table border=\"1\" class=\"dataframe\">\n",
       "  <thead>\n",
       "    <tr style=\"text-align: right;\">\n",
       "      <th></th>\n",
       "      <th>controllerState</th>\n",
       "      <th>enabledSubstate</th>\n",
       "      <th>time_difference</th>\n",
       "    </tr>\n",
       "  </thead>\n",
       "  <tbody>\n",
       "    <tr>\n",
       "      <th>2022-05-20 19:20:03.097000+00:00</th>\n",
       "      <td>2</td>\n",
       "      <td>2</td>\n",
       "      <td>1.097</td>\n",
       "    </tr>\n",
       "    <tr>\n",
       "      <th>2022-05-20 19:20:20.501000+00:00</th>\n",
       "      <td>2</td>\n",
       "      <td>3</td>\n",
       "      <td>18.501</td>\n",
       "    </tr>\n",
       "    <tr>\n",
       "      <th>2022-05-20 19:20:20.802000+00:00</th>\n",
       "      <td>4</td>\n",
       "      <td>0</td>\n",
       "      <td>18.802</td>\n",
       "    </tr>\n",
       "    <tr>\n",
       "      <th>2022-05-20 19:22:56.537000+00:00</th>\n",
       "      <td>0</td>\n",
       "      <td>0</td>\n",
       "      <td>174.537</td>\n",
       "    </tr>\n",
       "    <tr>\n",
       "      <th>2022-05-20 19:22:59.588000+00:00</th>\n",
       "      <td>1</td>\n",
       "      <td>0</td>\n",
       "      <td>177.588</td>\n",
       "    </tr>\n",
       "    <tr>\n",
       "      <th>2022-05-20 19:23:02.688000+00:00</th>\n",
       "      <td>2</td>\n",
       "      <td>0</td>\n",
       "      <td>180.688</td>\n",
       "    </tr>\n",
       "    <tr>\n",
       "      <th>2022-05-20 19:24:25.658000+00:00</th>\n",
       "      <td>2</td>\n",
       "      <td>1</td>\n",
       "      <td>263.658</td>\n",
       "    </tr>\n",
       "    <tr>\n",
       "      <th>2022-05-20 19:24:26.658000+00:00</th>\n",
       "      <td>2</td>\n",
       "      <td>0</td>\n",
       "      <td>264.658</td>\n",
       "    </tr>\n",
       "    <tr>\n",
       "      <th>2022-05-20 19:24:44.812000+00:00</th>\n",
       "      <td>2</td>\n",
       "      <td>0</td>\n",
       "      <td>282.812</td>\n",
       "    </tr>\n",
       "    <tr>\n",
       "      <th>2022-05-20 19:24:45.812000+00:00</th>\n",
       "      <td>2</td>\n",
       "      <td>0</td>\n",
       "      <td>283.812</td>\n",
       "    </tr>\n",
       "    <tr>\n",
       "      <th>2022-05-20 19:24:49.813000+00:00</th>\n",
       "      <td>1</td>\n",
       "      <td>0</td>\n",
       "      <td>287.813</td>\n",
       "    </tr>\n",
       "    <tr>\n",
       "      <th>2022-05-20 19:24:58.715000+00:00</th>\n",
       "      <td>0</td>\n",
       "      <td>0</td>\n",
       "      <td>296.715</td>\n",
       "    </tr>\n",
       "    <tr>\n",
       "      <th>2022-05-20 19:25:02.566000+00:00</th>\n",
       "      <td>3</td>\n",
       "      <td>0</td>\n",
       "      <td>300.566</td>\n",
       "    </tr>\n",
       "    <tr>\n",
       "      <th>2022-05-20 19:25:09.518000+00:00</th>\n",
       "      <td>3</td>\n",
       "      <td>0</td>\n",
       "      <td>307.518</td>\n",
       "    </tr>\n",
       "    <tr>\n",
       "      <th>2022-05-20 19:29:01.971000+00:00</th>\n",
       "      <td>0</td>\n",
       "      <td>0</td>\n",
       "      <td>539.971</td>\n",
       "    </tr>\n",
       "    <tr>\n",
       "      <th>2022-05-20 19:29:05.072000+00:00</th>\n",
       "      <td>1</td>\n",
       "      <td>0</td>\n",
       "      <td>543.072</td>\n",
       "    </tr>\n",
       "    <tr>\n",
       "      <th>2022-05-20 19:29:08.172000+00:00</th>\n",
       "      <td>2</td>\n",
       "      <td>0</td>\n",
       "      <td>546.172</td>\n",
       "    </tr>\n",
       "  </tbody>\n",
       "</table>\n",
       "</div>"
      ],
      "text/plain": [
       "                                  controllerState  enabledSubstate  \\\n",
       "2022-05-20 19:20:03.097000+00:00                2                2   \n",
       "2022-05-20 19:20:20.501000+00:00                2                3   \n",
       "2022-05-20 19:20:20.802000+00:00                4                0   \n",
       "2022-05-20 19:22:56.537000+00:00                0                0   \n",
       "2022-05-20 19:22:59.588000+00:00                1                0   \n",
       "2022-05-20 19:23:02.688000+00:00                2                0   \n",
       "2022-05-20 19:24:25.658000+00:00                2                1   \n",
       "2022-05-20 19:24:26.658000+00:00                2                0   \n",
       "2022-05-20 19:24:44.812000+00:00                2                0   \n",
       "2022-05-20 19:24:45.812000+00:00                2                0   \n",
       "2022-05-20 19:24:49.813000+00:00                1                0   \n",
       "2022-05-20 19:24:58.715000+00:00                0                0   \n",
       "2022-05-20 19:25:02.566000+00:00                3                0   \n",
       "2022-05-20 19:25:09.518000+00:00                3                0   \n",
       "2022-05-20 19:29:01.971000+00:00                0                0   \n",
       "2022-05-20 19:29:05.072000+00:00                1                0   \n",
       "2022-05-20 19:29:08.172000+00:00                2                0   \n",
       "\n",
       "                                  time_difference  \n",
       "2022-05-20 19:20:03.097000+00:00            1.097  \n",
       "2022-05-20 19:20:20.501000+00:00           18.501  \n",
       "2022-05-20 19:20:20.802000+00:00           18.802  \n",
       "2022-05-20 19:22:56.537000+00:00          174.537  \n",
       "2022-05-20 19:22:59.588000+00:00          177.588  \n",
       "2022-05-20 19:23:02.688000+00:00          180.688  \n",
       "2022-05-20 19:24:25.658000+00:00          263.658  \n",
       "2022-05-20 19:24:26.658000+00:00          264.658  \n",
       "2022-05-20 19:24:44.812000+00:00          282.812  \n",
       "2022-05-20 19:24:45.812000+00:00          283.812  \n",
       "2022-05-20 19:24:49.813000+00:00          287.813  \n",
       "2022-05-20 19:24:58.715000+00:00          296.715  \n",
       "2022-05-20 19:25:02.566000+00:00          300.566  \n",
       "2022-05-20 19:25:09.518000+00:00          307.518  \n",
       "2022-05-20 19:29:01.971000+00:00          539.971  \n",
       "2022-05-20 19:29:05.072000+00:00          543.072  \n",
       "2022-05-20 19:29:08.172000+00:00          546.172  "
      ]
     },
     "execution_count": 60,
     "metadata": {},
     "output_type": "execute_result"
    }
   ],
   "source": [
    "data_controller_state"
   ]
  },
  {
   "cell_type": "code",
   "execution_count": 61,
   "id": "54ffbdaa-4d7a-4852-b81a-a7f61ca5080f",
   "metadata": {},
   "outputs": [
    {
     "data": {
      "text/html": [
       "<div>\n",
       "<style scoped>\n",
       "    .dataframe tbody tr th:only-of-type {\n",
       "        vertical-align: middle;\n",
       "    }\n",
       "\n",
       "    .dataframe tbody tr th {\n",
       "        vertical-align: top;\n",
       "    }\n",
       "\n",
       "    .dataframe thead th {\n",
       "        text-align: right;\n",
       "    }\n",
       "</style>\n",
       "<table border=\"1\" class=\"dataframe\">\n",
       "  <thead>\n",
       "    <tr style=\"text-align: right;\">\n",
       "      <th></th>\n",
       "      <th>inPosition</th>\n",
       "      <th>time_difference</th>\n",
       "    </tr>\n",
       "  </thead>\n",
       "  <tbody>\n",
       "    <tr>\n",
       "      <th>2022-05-20 19:20:03.098000+00:00</th>\n",
       "      <td>False</td>\n",
       "      <td>1.098</td>\n",
       "    </tr>\n",
       "    <tr>\n",
       "      <th>2022-05-20 19:20:03.248000+00:00</th>\n",
       "      <td>True</td>\n",
       "      <td>1.248</td>\n",
       "    </tr>\n",
       "    <tr>\n",
       "      <th>2022-05-20 19:20:04.348000+00:00</th>\n",
       "      <td>False</td>\n",
       "      <td>2.348</td>\n",
       "    </tr>\n",
       "    <tr>\n",
       "      <th>2022-05-20 19:24:26.458000+00:00</th>\n",
       "      <td>True</td>\n",
       "      <td>264.458</td>\n",
       "    </tr>\n",
       "    <tr>\n",
       "      <th>2022-05-20 19:24:49.814000+00:00</th>\n",
       "      <td>False</td>\n",
       "      <td>287.814</td>\n",
       "    </tr>\n",
       "    <tr>\n",
       "      <th>2022-05-20 19:29:08.173000+00:00</th>\n",
       "      <td>True</td>\n",
       "      <td>546.173</td>\n",
       "    </tr>\n",
       "  </tbody>\n",
       "</table>\n",
       "</div>"
      ],
      "text/plain": [
       "                                  inPosition  time_difference\n",
       "2022-05-20 19:20:03.098000+00:00       False            1.098\n",
       "2022-05-20 19:20:03.248000+00:00        True            1.248\n",
       "2022-05-20 19:20:04.348000+00:00       False            2.348\n",
       "2022-05-20 19:24:26.458000+00:00        True          264.458\n",
       "2022-05-20 19:24:49.814000+00:00       False          287.814\n",
       "2022-05-20 19:29:08.173000+00:00        True          546.173"
      ]
     },
     "execution_count": 61,
     "metadata": {},
     "output_type": "execute_result"
    }
   ],
   "source": [
    "data_in_position"
   ]
  },
  {
   "cell_type": "code",
   "execution_count": 62,
   "id": "ba7e832e-dbd6-4716-bff0-8e0e611c4051",
   "metadata": {},
   "outputs": [
    {
     "data": {
      "text/html": [
       "<div>\n",
       "<style scoped>\n",
       "    .dataframe tbody tr th:only-of-type {\n",
       "        vertical-align: middle;\n",
       "    }\n",
       "\n",
       "    .dataframe tbody tr th {\n",
       "        vertical-align: top;\n",
       "    }\n",
       "\n",
       "    .dataframe thead th {\n",
       "        text-align: right;\n",
       "    }\n",
       "</style>\n",
       "<table border=\"1\" class=\"dataframe\">\n",
       "  <thead>\n",
       "    <tr style=\"text-align: right;\">\n",
       "      <th></th>\n",
       "      <th>tracking</th>\n",
       "      <th>lost</th>\n",
       "      <th>noNewCommand</th>\n",
       "      <th>time_difference</th>\n",
       "    </tr>\n",
       "  </thead>\n",
       "  <tbody>\n",
       "    <tr>\n",
       "      <th>2022-05-20 19:20:03.098000+00:00</th>\n",
       "      <td>False</td>\n",
       "      <td>True</td>\n",
       "      <td>False</td>\n",
       "      <td>1.098</td>\n",
       "    </tr>\n",
       "    <tr>\n",
       "      <th>2022-05-20 19:20:03.248000+00:00</th>\n",
       "      <td>True</td>\n",
       "      <td>True</td>\n",
       "      <td>False</td>\n",
       "      <td>1.248</td>\n",
       "    </tr>\n",
       "    <tr>\n",
       "      <th>2022-05-20 19:20:04.348000+00:00</th>\n",
       "      <td>False</td>\n",
       "      <td>True</td>\n",
       "      <td>False</td>\n",
       "      <td>2.348</td>\n",
       "    </tr>\n",
       "    <tr>\n",
       "      <th>2022-05-20 19:20:20.502000+00:00</th>\n",
       "      <td>False</td>\n",
       "      <td>False</td>\n",
       "      <td>True</td>\n",
       "      <td>18.502</td>\n",
       "    </tr>\n",
       "    <tr>\n",
       "      <th>2022-05-20 19:22:56.537000+00:00</th>\n",
       "      <td>False</td>\n",
       "      <td>False</td>\n",
       "      <td>False</td>\n",
       "      <td>174.537</td>\n",
       "    </tr>\n",
       "  </tbody>\n",
       "</table>\n",
       "</div>"
      ],
      "text/plain": [
       "                                  tracking   lost  noNewCommand  \\\n",
       "2022-05-20 19:20:03.098000+00:00     False   True         False   \n",
       "2022-05-20 19:20:03.248000+00:00      True   True         False   \n",
       "2022-05-20 19:20:04.348000+00:00     False   True         False   \n",
       "2022-05-20 19:20:20.502000+00:00     False  False          True   \n",
       "2022-05-20 19:22:56.537000+00:00     False  False         False   \n",
       "\n",
       "                                  time_difference  \n",
       "2022-05-20 19:20:03.098000+00:00            1.098  \n",
       "2022-05-20 19:20:03.248000+00:00            1.248  \n",
       "2022-05-20 19:20:04.348000+00:00            2.348  \n",
       "2022-05-20 19:20:20.502000+00:00           18.502  \n",
       "2022-05-20 19:22:56.537000+00:00          174.537  "
      ]
     },
     "execution_count": 62,
     "metadata": {},
     "output_type": "execute_result"
    }
   ],
   "source": [
    "data_tracking"
   ]
  },
  {
   "cell_type": "markdown",
   "id": "ac63e78d-b2d0-41f1-a550-628715a91a41",
   "metadata": {},
   "source": [
    "**Test Case (tracking / slewing sequence test)**\n",
    "\n",
    "Track two targets and stop in between."
   ]
  },
  {
   "cell_type": "code",
   "execution_count": 65,
   "id": "d761c66f",
   "metadata": {},
   "outputs": [
    {
     "data": {
      "text/html": [
       "<pre style=\"margin: 0.1em;\n",
       "padding-left: 0.25em;\n",
       "border-left-style: solid;\n",
       "font-family: var(--jp-code-font-family);\n",
       "font-size: var(--jp-code-font-size);\n",
       "line-height: var(--jp-code-line-height);\n",
       "\"><span style=\"color: var(--jp-warn-color2)\">Script</span> <span style=\"color: var(--jp-info-color0)\">INFO</span>: START -- Rotator New Trjectory Verification Test -- LVV-T2539 -- Test step desciption -- Starting Time: 2022-05-20 19:30:15.739956 UTC</pre>"
      ],
      "text/plain": [
       "<IPython.core.display.HTML object>"
      ]
     },
     "metadata": {},
     "output_type": "display_data"
    }
   ],
   "source": [
    "script.log.info(f\"START -- {test_message} -- LVV-T2539 -- Test step desciption -- Starting Time: {datetime.now()} UTC\")"
   ]
  },
  {
   "cell_type": "code",
   "execution_count": 70,
   "id": "a674e841-f71d-48a1-bce5-e0e2b8f10059",
   "metadata": {},
   "outputs": [],
   "source": [
    "await track_slew_test(rotator)"
   ]
  },
  {
   "cell_type": "code",
   "execution_count": 71,
   "id": "9a542200",
   "metadata": {},
   "outputs": [
    {
     "data": {
      "text/html": [
       "<pre style=\"margin: 0.1em;\n",
       "padding-left: 0.25em;\n",
       "border-left-style: solid;\n",
       "font-family: var(--jp-code-font-family);\n",
       "font-size: var(--jp-code-font-size);\n",
       "line-height: var(--jp-code-line-height);\n",
       "\"><span style=\"color: var(--jp-warn-color2)\">Script</span> <span style=\"color: var(--jp-info-color0)\">INFO</span>: START -- Rotator New Trjectory Verification Test -- LVV-T2539 -- Test step desciption -- Stopping Time: 2022-05-20 19:34:19.901735 UTC</pre>"
      ],
      "text/plain": [
       "<IPython.core.display.HTML object>"
      ]
     },
     "metadata": {},
     "output_type": "display_data"
    }
   ],
   "source": [
    "script.log.info(f\"START -- {test_message} -- LVV-T2539 -- Test step desciption -- Stopping Time: {datetime.now()} UTC\")"
   ]
  },
  {
   "cell_type": "code",
   "execution_count": 72,
   "id": "bac37507-a0b1-4d1a-a958-5004c9d63882",
   "metadata": {},
   "outputs": [
    {
     "name": "stdout",
     "output_type": "stream",
     "text": [
      "Time is 2022-05-20T19:34:25.000 right now.\n"
     ]
    },
    {
     "data": {
      "image/png": "[encoded data removed]",
      "text/plain": [
       "<Figure size 432x288 with 3 Axes>"
      ]
     },
     "metadata": {
      "needs_background": "light"
     },
     "output_type": "display_data"
    }
   ],
   "source": [
    "time_now = print_and_get_time()\n",
    "await plot_path_generator(efd_client, time_start, time_now)"
   ]
  },
  {
   "cell_type": "code",
   "execution_count": 73,
   "id": "e6c29d7f-7a9a-46b6-a5d8-a9ae395c9695",
   "metadata": {},
   "outputs": [
    {
     "name": "stdout",
     "output_type": "stream",
     "text": [
      "Time is 2022-05-20T19:34:26.000 right now.\n"
     ]
    },
    {
     "data": {
      "text/html": [
       "<pre style=\"margin: 0.1em;\n",
       "padding-left: 0.25em;\n",
       "border-left-style: solid;\n",
       "font-family: var(--jp-code-font-family);\n",
       "font-size: var(--jp-code-font-size);\n",
       "line-height: var(--jp-code-line-height);\n",
       "\"><span style=\"color: var(--jp-warn-color2)\">MTRotator.rotation</span> <span style=\"color: var(--jp-warn-color0)\">WARNING</span>: tel_rotation DDS read queue is filling: 10 of 100 elements</pre>"
      ],
      "text/plain": [
       "<IPython.core.display.HTML object>"
      ]
     },
     "metadata": {},
     "output_type": "display_data"
    },
    {
     "data": {
      "text/html": [
       "<pre style=\"margin: 0.1em;\n",
       "padding-left: 0.25em;\n",
       "border-left-style: solid;\n",
       "font-family: var(--jp-code-font-family);\n",
       "font-size: var(--jp-code-font-size);\n",
       "line-height: var(--jp-code-line-height);\n",
       "\"><span style=\"color: var(--jp-warn-color2)\">MTRotator.motors</span> <span style=\"color: var(--jp-warn-color0)\">WARNING</span>: tel_motors DDS read queue is filling: 11 of 100 elements</pre>"
      ],
      "text/plain": [
       "<IPython.core.display.HTML object>"
      ]
     },
     "metadata": {},
     "output_type": "display_data"
    },
    {
     "data": {
      "text/html": [
       "<pre style=\"margin: 0.1em;\n",
       "padding-left: 0.25em;\n",
       "border-left-style: solid;\n",
       "font-family: var(--jp-code-font-family);\n",
       "font-size: var(--jp-code-font-size);\n",
       "line-height: var(--jp-code-line-height);\n",
       "\"><span style=\"color: var(--jp-warn-color2)\">MTRotator.electrical</span> <span style=\"color: var(--jp-warn-color0)\">WARNING</span>: tel_electrical DDS read queue is filling: 11 of 100 elements</pre>"
      ],
      "text/plain": [
       "<IPython.core.display.HTML object>"
      ]
     },
     "metadata": {},
     "output_type": "display_data"
    },
    {
     "data": {
      "text/html": [
       "<pre style=\"margin: 0.1em;\n",
       "padding-left: 0.25em;\n",
       "border-left-style: solid;\n",
       "font-family: var(--jp-code-font-family);\n",
       "font-size: var(--jp-code-font-size);\n",
       "line-height: var(--jp-code-line-height);\n",
       "\"><span style=\"color: var(--jp-warn-color2)\">MTRotator.ccwFollowingError</span> <span style=\"color: var(--jp-warn-color0)\">WARNING</span>: tel_ccwFollowingError DDS read queue is filling: 11 of 100 elements</pre>"
      ],
      "text/plain": [
       "<IPython.core.display.HTML object>"
      ]
     },
     "metadata": {},
     "output_type": "display_data"
    }
   ],
   "source": [
    "time_now = print_and_get_time()\n",
    "data_controller_state, data_in_position, data_tracking = await get_event_data(\n",
    "    efd_client, time_start, time_now)"
   ]
  },
  {
   "cell_type": "code",
   "execution_count": 74,
   "id": "370054ec-3fe4-49b1-b432-4f218bf20f5a",
   "metadata": {},
   "outputs": [
    {
     "data": {
      "text/html": [
       "<div>\n",
       "<style scoped>\n",
       "    .dataframe tbody tr th:only-of-type {\n",
       "        vertical-align: middle;\n",
       "    }\n",
       "\n",
       "    .dataframe tbody tr th {\n",
       "        vertical-align: top;\n",
       "    }\n",
       "\n",
       "    .dataframe thead th {\n",
       "        text-align: right;\n",
       "    }\n",
       "</style>\n",
       "<table border=\"1\" class=\"dataframe\">\n",
       "  <thead>\n",
       "    <tr style=\"text-align: right;\">\n",
       "      <th></th>\n",
       "      <th>controllerState</th>\n",
       "      <th>enabledSubstate</th>\n",
       "      <th>time_difference</th>\n",
       "    </tr>\n",
       "  </thead>\n",
       "  <tbody>\n",
       "    <tr>\n",
       "      <th>2022-05-20 19:20:03.097000+00:00</th>\n",
       "      <td>2</td>\n",
       "      <td>2</td>\n",
       "      <td>1.097</td>\n",
       "    </tr>\n",
       "    <tr>\n",
       "      <th>2022-05-20 19:20:20.501000+00:00</th>\n",
       "      <td>2</td>\n",
       "      <td>3</td>\n",
       "      <td>18.501</td>\n",
       "    </tr>\n",
       "    <tr>\n",
       "      <th>2022-05-20 19:20:20.802000+00:00</th>\n",
       "      <td>4</td>\n",
       "      <td>0</td>\n",
       "      <td>18.802</td>\n",
       "    </tr>\n",
       "    <tr>\n",
       "      <th>2022-05-20 19:22:56.537000+00:00</th>\n",
       "      <td>0</td>\n",
       "      <td>0</td>\n",
       "      <td>174.537</td>\n",
       "    </tr>\n",
       "    <tr>\n",
       "      <th>2022-05-20 19:22:59.588000+00:00</th>\n",
       "      <td>1</td>\n",
       "      <td>0</td>\n",
       "      <td>177.588</td>\n",
       "    </tr>\n",
       "    <tr>\n",
       "      <th>2022-05-20 19:23:02.688000+00:00</th>\n",
       "      <td>2</td>\n",
       "      <td>0</td>\n",
       "      <td>180.688</td>\n",
       "    </tr>\n",
       "    <tr>\n",
       "      <th>2022-05-20 19:24:25.658000+00:00</th>\n",
       "      <td>2</td>\n",
       "      <td>1</td>\n",
       "      <td>263.658</td>\n",
       "    </tr>\n",
       "    <tr>\n",
       "      <th>2022-05-20 19:24:26.658000+00:00</th>\n",
       "      <td>2</td>\n",
       "      <td>0</td>\n",
       "      <td>264.658</td>\n",
       "    </tr>\n",
       "    <tr>\n",
       "      <th>2022-05-20 19:24:44.812000+00:00</th>\n",
       "      <td>2</td>\n",
       "      <td>0</td>\n",
       "      <td>282.812</td>\n",
       "    </tr>\n",
       "    <tr>\n",
       "      <th>2022-05-20 19:24:45.812000+00:00</th>\n",
       "      <td>2</td>\n",
       "      <td>0</td>\n",
       "      <td>283.812</td>\n",
       "    </tr>\n",
       "    <tr>\n",
       "      <th>2022-05-20 19:24:49.813000+00:00</th>\n",
       "      <td>1</td>\n",
       "      <td>0</td>\n",
       "      <td>287.813</td>\n",
       "    </tr>\n",
       "    <tr>\n",
       "      <th>2022-05-20 19:24:58.715000+00:00</th>\n",
       "      <td>0</td>\n",
       "      <td>0</td>\n",
       "      <td>296.715</td>\n",
       "    </tr>\n",
       "    <tr>\n",
       "      <th>2022-05-20 19:25:02.566000+00:00</th>\n",
       "      <td>3</td>\n",
       "      <td>0</td>\n",
       "      <td>300.566</td>\n",
       "    </tr>\n",
       "    <tr>\n",
       "      <th>2022-05-20 19:25:09.518000+00:00</th>\n",
       "      <td>3</td>\n",
       "      <td>0</td>\n",
       "      <td>307.518</td>\n",
       "    </tr>\n",
       "    <tr>\n",
       "      <th>2022-05-20 19:29:01.971000+00:00</th>\n",
       "      <td>0</td>\n",
       "      <td>0</td>\n",
       "      <td>539.971</td>\n",
       "    </tr>\n",
       "    <tr>\n",
       "      <th>2022-05-20 19:29:05.072000+00:00</th>\n",
       "      <td>1</td>\n",
       "      <td>0</td>\n",
       "      <td>543.072</td>\n",
       "    </tr>\n",
       "    <tr>\n",
       "      <th>2022-05-20 19:29:08.172000+00:00</th>\n",
       "      <td>2</td>\n",
       "      <td>0</td>\n",
       "      <td>546.172</td>\n",
       "    </tr>\n",
       "    <tr>\n",
       "      <th>2022-05-20 19:29:56.333000+00:00</th>\n",
       "      <td>2</td>\n",
       "      <td>1</td>\n",
       "      <td>594.333</td>\n",
       "    </tr>\n",
       "    <tr>\n",
       "      <th>2022-05-20 19:30:08.936000+00:00</th>\n",
       "      <td>2</td>\n",
       "      <td>0</td>\n",
       "      <td>606.936</td>\n",
       "    </tr>\n",
       "    <tr>\n",
       "      <th>2022-05-20 19:30:29.191000+00:00</th>\n",
       "      <td>2</td>\n",
       "      <td>2</td>\n",
       "      <td>627.191</td>\n",
       "    </tr>\n",
       "    <tr>\n",
       "      <th>2022-05-20 19:30:31.942000+00:00</th>\n",
       "      <td>2</td>\n",
       "      <td>3</td>\n",
       "      <td>629.942</td>\n",
       "    </tr>\n",
       "    <tr>\n",
       "      <th>2022-05-20 19:30:32.242000+00:00</th>\n",
       "      <td>4</td>\n",
       "      <td>0</td>\n",
       "      <td>630.242</td>\n",
       "    </tr>\n",
       "    <tr>\n",
       "      <th>2022-05-20 19:31:34.406000+00:00</th>\n",
       "      <td>0</td>\n",
       "      <td>0</td>\n",
       "      <td>692.406</td>\n",
       "    </tr>\n",
       "    <tr>\n",
       "      <th>2022-05-20 19:31:37.457000+00:00</th>\n",
       "      <td>1</td>\n",
       "      <td>0</td>\n",
       "      <td>695.457</td>\n",
       "    </tr>\n",
       "    <tr>\n",
       "      <th>2022-05-20 19:31:40.557000+00:00</th>\n",
       "      <td>2</td>\n",
       "      <td>0</td>\n",
       "      <td>698.557</td>\n",
       "    </tr>\n",
       "    <tr>\n",
       "      <th>2022-05-20 19:31:48.859000+00:00</th>\n",
       "      <td>2</td>\n",
       "      <td>2</td>\n",
       "      <td>706.859</td>\n",
       "    </tr>\n",
       "    <tr>\n",
       "      <th>2022-05-20 19:31:52.060000+00:00</th>\n",
       "      <td>2</td>\n",
       "      <td>3</td>\n",
       "      <td>710.060</td>\n",
       "    </tr>\n",
       "    <tr>\n",
       "      <th>2022-05-20 19:31:52.310000+00:00</th>\n",
       "      <td>2</td>\n",
       "      <td>0</td>\n",
       "      <td>710.310</td>\n",
       "    </tr>\n",
       "    <tr>\n",
       "      <th>2022-05-20 19:31:53.110000+00:00</th>\n",
       "      <td>2</td>\n",
       "      <td>2</td>\n",
       "      <td>711.110</td>\n",
       "    </tr>\n",
       "    <tr>\n",
       "      <th>2022-05-20 19:34:20.146000+00:00</th>\n",
       "      <td>2</td>\n",
       "      <td>3</td>\n",
       "      <td>858.146</td>\n",
       "    </tr>\n",
       "    <tr>\n",
       "      <th>2022-05-20 19:34:20.346000+00:00</th>\n",
       "      <td>4</td>\n",
       "      <td>0</td>\n",
       "      <td>858.346</td>\n",
       "    </tr>\n",
       "  </tbody>\n",
       "</table>\n",
       "</div>"
      ],
      "text/plain": [
       "                                  controllerState  enabledSubstate  \\\n",
       "2022-05-20 19:20:03.097000+00:00                2                2   \n",
       "2022-05-20 19:20:20.501000+00:00                2                3   \n",
       "2022-05-20 19:20:20.802000+00:00                4                0   \n",
       "2022-05-20 19:22:56.537000+00:00                0                0   \n",
       "2022-05-20 19:22:59.588000+00:00                1                0   \n",
       "2022-05-20 19:23:02.688000+00:00                2                0   \n",
       "2022-05-20 19:24:25.658000+00:00                2                1   \n",
       "2022-05-20 19:24:26.658000+00:00                2                0   \n",
       "2022-05-20 19:24:44.812000+00:00                2                0   \n",
       "2022-05-20 19:24:45.812000+00:00                2                0   \n",
       "2022-05-20 19:24:49.813000+00:00                1                0   \n",
       "2022-05-20 19:24:58.715000+00:00                0                0   \n",
       "2022-05-20 19:25:02.566000+00:00                3                0   \n",
       "2022-05-20 19:25:09.518000+00:00                3                0   \n",
       "2022-05-20 19:29:01.971000+00:00                0                0   \n",
       "2022-05-20 19:29:05.072000+00:00                1                0   \n",
       "2022-05-20 19:29:08.172000+00:00                2                0   \n",
       "2022-05-20 19:29:56.333000+00:00                2                1   \n",
       "2022-05-20 19:30:08.936000+00:00                2                0   \n",
       "2022-05-20 19:30:29.191000+00:00                2                2   \n",
       "2022-05-20 19:30:31.942000+00:00                2                3   \n",
       "2022-05-20 19:30:32.242000+00:00                4                0   \n",
       "2022-05-20 19:31:34.406000+00:00                0                0   \n",
       "2022-05-20 19:31:37.457000+00:00                1                0   \n",
       "2022-05-20 19:31:40.557000+00:00                2                0   \n",
       "2022-05-20 19:31:48.859000+00:00                2                2   \n",
       "2022-05-20 19:31:52.060000+00:00                2                3   \n",
       "2022-05-20 19:31:52.310000+00:00                2                0   \n",
       "2022-05-20 19:31:53.110000+00:00                2                2   \n",
       "2022-05-20 19:34:20.146000+00:00                2                3   \n",
       "2022-05-20 19:34:20.346000+00:00                4                0   \n",
       "\n",
       "                                  time_difference  \n",
       "2022-05-20 19:20:03.097000+00:00            1.097  \n",
       "2022-05-20 19:20:20.501000+00:00           18.501  \n",
       "2022-05-20 19:20:20.802000+00:00           18.802  \n",
       "2022-05-20 19:22:56.537000+00:00          174.537  \n",
       "2022-05-20 19:22:59.588000+00:00          177.588  \n",
       "2022-05-20 19:23:02.688000+00:00          180.688  \n",
       "2022-05-20 19:24:25.658000+00:00          263.658  \n",
       "2022-05-20 19:24:26.658000+00:00          264.658  \n",
       "2022-05-20 19:24:44.812000+00:00          282.812  \n",
       "2022-05-20 19:24:45.812000+00:00          283.812  \n",
       "2022-05-20 19:24:49.813000+00:00          287.813  \n",
       "2022-05-20 19:24:58.715000+00:00          296.715  \n",
       "2022-05-20 19:25:02.566000+00:00          300.566  \n",
       "2022-05-20 19:25:09.518000+00:00          307.518  \n",
       "2022-05-20 19:29:01.971000+00:00          539.971  \n",
       "2022-05-20 19:29:05.072000+00:00          543.072  \n",
       "2022-05-20 19:29:08.172000+00:00          546.172  \n",
       "2022-05-20 19:29:56.333000+00:00          594.333  \n",
       "2022-05-20 19:30:08.936000+00:00          606.936  \n",
       "2022-05-20 19:30:29.191000+00:00          627.191  \n",
       "2022-05-20 19:30:31.942000+00:00          629.942  \n",
       "2022-05-20 19:30:32.242000+00:00          630.242  \n",
       "2022-05-20 19:31:34.406000+00:00          692.406  \n",
       "2022-05-20 19:31:37.457000+00:00          695.457  \n",
       "2022-05-20 19:31:40.557000+00:00          698.557  \n",
       "2022-05-20 19:31:48.859000+00:00          706.859  \n",
       "2022-05-20 19:31:52.060000+00:00          710.060  \n",
       "2022-05-20 19:31:52.310000+00:00          710.310  \n",
       "2022-05-20 19:31:53.110000+00:00          711.110  \n",
       "2022-05-20 19:34:20.146000+00:00          858.146  \n",
       "2022-05-20 19:34:20.346000+00:00          858.346  "
      ]
     },
     "execution_count": 74,
     "metadata": {},
     "output_type": "execute_result"
    }
   ],
   "source": [
    "data_controller_state"
   ]
  },
  {
   "cell_type": "code",
   "execution_count": 75,
   "id": "01014f0d-2a5f-4d99-a0da-c44c0afc773c",
   "metadata": {},
   "outputs": [
    {
     "data": {
      "text/html": [
       "<div>\n",
       "<style scoped>\n",
       "    .dataframe tbody tr th:only-of-type {\n",
       "        vertical-align: middle;\n",
       "    }\n",
       "\n",
       "    .dataframe tbody tr th {\n",
       "        vertical-align: top;\n",
       "    }\n",
       "\n",
       "    .dataframe thead th {\n",
       "        text-align: right;\n",
       "    }\n",
       "</style>\n",
       "<table border=\"1\" class=\"dataframe\">\n",
       "  <thead>\n",
       "    <tr style=\"text-align: right;\">\n",
       "      <th></th>\n",
       "      <th>inPosition</th>\n",
       "      <th>time_difference</th>\n",
       "    </tr>\n",
       "  </thead>\n",
       "  <tbody>\n",
       "    <tr>\n",
       "      <th>2022-05-20 19:20:03.098000+00:00</th>\n",
       "      <td>False</td>\n",
       "      <td>1.098</td>\n",
       "    </tr>\n",
       "    <tr>\n",
       "      <th>2022-05-20 19:20:03.248000+00:00</th>\n",
       "      <td>True</td>\n",
       "      <td>1.248</td>\n",
       "    </tr>\n",
       "    <tr>\n",
       "      <th>2022-05-20 19:20:04.348000+00:00</th>\n",
       "      <td>False</td>\n",
       "      <td>2.348</td>\n",
       "    </tr>\n",
       "    <tr>\n",
       "      <th>2022-05-20 19:24:26.458000+00:00</th>\n",
       "      <td>True</td>\n",
       "      <td>264.458</td>\n",
       "    </tr>\n",
       "    <tr>\n",
       "      <th>2022-05-20 19:24:49.814000+00:00</th>\n",
       "      <td>False</td>\n",
       "      <td>287.814</td>\n",
       "    </tr>\n",
       "    <tr>\n",
       "      <th>2022-05-20 19:29:08.173000+00:00</th>\n",
       "      <td>True</td>\n",
       "      <td>546.173</td>\n",
       "    </tr>\n",
       "    <tr>\n",
       "      <th>2022-05-20 19:29:56.284000+00:00</th>\n",
       "      <td>False</td>\n",
       "      <td>594.284</td>\n",
       "    </tr>\n",
       "    <tr>\n",
       "      <th>2022-05-20 19:30:08.686000+00:00</th>\n",
       "      <td>True</td>\n",
       "      <td>606.686</td>\n",
       "    </tr>\n",
       "    <tr>\n",
       "      <th>2022-05-20 19:30:29.192000+00:00</th>\n",
       "      <td>False</td>\n",
       "      <td>627.192</td>\n",
       "    </tr>\n",
       "    <tr>\n",
       "      <th>2022-05-20 19:31:49.010000+00:00</th>\n",
       "      <td>True</td>\n",
       "      <td>707.010</td>\n",
       "    </tr>\n",
       "    <tr>\n",
       "      <th>2022-05-20 19:31:50.160000+00:00</th>\n",
       "      <td>False</td>\n",
       "      <td>708.160</td>\n",
       "    </tr>\n",
       "  </tbody>\n",
       "</table>\n",
       "</div>"
      ],
      "text/plain": [
       "                                  inPosition  time_difference\n",
       "2022-05-20 19:20:03.098000+00:00       False            1.098\n",
       "2022-05-20 19:20:03.248000+00:00        True            1.248\n",
       "2022-05-20 19:20:04.348000+00:00       False            2.348\n",
       "2022-05-20 19:24:26.458000+00:00        True          264.458\n",
       "2022-05-20 19:24:49.814000+00:00       False          287.814\n",
       "2022-05-20 19:29:08.173000+00:00        True          546.173\n",
       "2022-05-20 19:29:56.284000+00:00       False          594.284\n",
       "2022-05-20 19:30:08.686000+00:00        True          606.686\n",
       "2022-05-20 19:30:29.192000+00:00       False          627.192\n",
       "2022-05-20 19:31:49.010000+00:00        True          707.010\n",
       "2022-05-20 19:31:50.160000+00:00       False          708.160"
      ]
     },
     "execution_count": 75,
     "metadata": {},
     "output_type": "execute_result"
    }
   ],
   "source": [
    "data_in_position"
   ]
  },
  {
   "cell_type": "code",
   "execution_count": 76,
   "id": "af508a4a-17dd-42e9-9e42-4701049006b8",
   "metadata": {},
   "outputs": [
    {
     "data": {
      "text/html": [
       "<div>\n",
       "<style scoped>\n",
       "    .dataframe tbody tr th:only-of-type {\n",
       "        vertical-align: middle;\n",
       "    }\n",
       "\n",
       "    .dataframe tbody tr th {\n",
       "        vertical-align: top;\n",
       "    }\n",
       "\n",
       "    .dataframe thead th {\n",
       "        text-align: right;\n",
       "    }\n",
       "</style>\n",
       "<table border=\"1\" class=\"dataframe\">\n",
       "  <thead>\n",
       "    <tr style=\"text-align: right;\">\n",
       "      <th></th>\n",
       "      <th>tracking</th>\n",
       "      <th>lost</th>\n",
       "      <th>noNewCommand</th>\n",
       "      <th>time_difference</th>\n",
       "    </tr>\n",
       "  </thead>\n",
       "  <tbody>\n",
       "    <tr>\n",
       "      <th>2022-05-20 19:20:03.098000+00:00</th>\n",
       "      <td>False</td>\n",
       "      <td>True</td>\n",
       "      <td>False</td>\n",
       "      <td>1.098</td>\n",
       "    </tr>\n",
       "    <tr>\n",
       "      <th>2022-05-20 19:20:03.248000+00:00</th>\n",
       "      <td>True</td>\n",
       "      <td>True</td>\n",
       "      <td>False</td>\n",
       "      <td>1.248</td>\n",
       "    </tr>\n",
       "    <tr>\n",
       "      <th>2022-05-20 19:20:04.348000+00:00</th>\n",
       "      <td>False</td>\n",
       "      <td>True</td>\n",
       "      <td>False</td>\n",
       "      <td>2.348</td>\n",
       "    </tr>\n",
       "    <tr>\n",
       "      <th>2022-05-20 19:20:20.502000+00:00</th>\n",
       "      <td>False</td>\n",
       "      <td>False</td>\n",
       "      <td>True</td>\n",
       "      <td>18.502</td>\n",
       "    </tr>\n",
       "    <tr>\n",
       "      <th>2022-05-20 19:22:56.537000+00:00</th>\n",
       "      <td>False</td>\n",
       "      <td>False</td>\n",
       "      <td>False</td>\n",
       "      <td>174.537</td>\n",
       "    </tr>\n",
       "    <tr>\n",
       "      <th>2022-05-20 19:30:29.192000+00:00</th>\n",
       "      <td>False</td>\n",
       "      <td>True</td>\n",
       "      <td>False</td>\n",
       "      <td>627.192</td>\n",
       "    </tr>\n",
       "    <tr>\n",
       "      <th>2022-05-20 19:30:31.942000+00:00</th>\n",
       "      <td>False</td>\n",
       "      <td>False</td>\n",
       "      <td>True</td>\n",
       "      <td>629.942</td>\n",
       "    </tr>\n",
       "    <tr>\n",
       "      <th>2022-05-20 19:31:34.406000+00:00</th>\n",
       "      <td>False</td>\n",
       "      <td>False</td>\n",
       "      <td>False</td>\n",
       "      <td>692.406</td>\n",
       "    </tr>\n",
       "    <tr>\n",
       "      <th>2022-05-20 19:31:48.860000+00:00</th>\n",
       "      <td>False</td>\n",
       "      <td>True</td>\n",
       "      <td>False</td>\n",
       "      <td>706.860</td>\n",
       "    </tr>\n",
       "    <tr>\n",
       "      <th>2022-05-20 19:31:49.010000+00:00</th>\n",
       "      <td>True</td>\n",
       "      <td>True</td>\n",
       "      <td>False</td>\n",
       "      <td>707.010</td>\n",
       "    </tr>\n",
       "    <tr>\n",
       "      <th>2022-05-20 19:31:50.160000+00:00</th>\n",
       "      <td>False</td>\n",
       "      <td>True</td>\n",
       "      <td>False</td>\n",
       "      <td>708.160</td>\n",
       "    </tr>\n",
       "    <tr>\n",
       "      <th>2022-05-20 19:31:52.061000+00:00</th>\n",
       "      <td>False</td>\n",
       "      <td>False</td>\n",
       "      <td>False</td>\n",
       "      <td>710.061</td>\n",
       "    </tr>\n",
       "    <tr>\n",
       "      <th>2022-05-20 19:31:53.111000+00:00</th>\n",
       "      <td>False</td>\n",
       "      <td>True</td>\n",
       "      <td>False</td>\n",
       "      <td>711.111</td>\n",
       "    </tr>\n",
       "    <tr>\n",
       "      <th>2022-05-20 19:34:20.147000+00:00</th>\n",
       "      <td>False</td>\n",
       "      <td>False</td>\n",
       "      <td>True</td>\n",
       "      <td>858.147</td>\n",
       "    </tr>\n",
       "  </tbody>\n",
       "</table>\n",
       "</div>"
      ],
      "text/plain": [
       "                                  tracking   lost  noNewCommand  \\\n",
       "2022-05-20 19:20:03.098000+00:00     False   True         False   \n",
       "2022-05-20 19:20:03.248000+00:00      True   True         False   \n",
       "2022-05-20 19:20:04.348000+00:00     False   True         False   \n",
       "2022-05-20 19:20:20.502000+00:00     False  False          True   \n",
       "2022-05-20 19:22:56.537000+00:00     False  False         False   \n",
       "2022-05-20 19:30:29.192000+00:00     False   True         False   \n",
       "2022-05-20 19:30:31.942000+00:00     False  False          True   \n",
       "2022-05-20 19:31:34.406000+00:00     False  False         False   \n",
       "2022-05-20 19:31:48.860000+00:00     False   True         False   \n",
       "2022-05-20 19:31:49.010000+00:00      True   True         False   \n",
       "2022-05-20 19:31:50.160000+00:00     False   True         False   \n",
       "2022-05-20 19:31:52.061000+00:00     False  False         False   \n",
       "2022-05-20 19:31:53.111000+00:00     False   True         False   \n",
       "2022-05-20 19:34:20.147000+00:00     False  False          True   \n",
       "\n",
       "                                  time_difference  \n",
       "2022-05-20 19:20:03.098000+00:00            1.098  \n",
       "2022-05-20 19:20:03.248000+00:00            1.248  \n",
       "2022-05-20 19:20:04.348000+00:00            2.348  \n",
       "2022-05-20 19:20:20.502000+00:00           18.502  \n",
       "2022-05-20 19:22:56.537000+00:00          174.537  \n",
       "2022-05-20 19:30:29.192000+00:00          627.192  \n",
       "2022-05-20 19:30:31.942000+00:00          629.942  \n",
       "2022-05-20 19:31:34.406000+00:00          692.406  \n",
       "2022-05-20 19:31:48.860000+00:00          706.860  \n",
       "2022-05-20 19:31:49.010000+00:00          707.010  \n",
       "2022-05-20 19:31:50.160000+00:00          708.160  \n",
       "2022-05-20 19:31:52.061000+00:00          710.061  \n",
       "2022-05-20 19:31:53.111000+00:00          711.111  \n",
       "2022-05-20 19:34:20.147000+00:00          858.147  "
      ]
     },
     "execution_count": 76,
     "metadata": {},
     "output_type": "execute_result"
    }
   ],
   "source": [
    "data_tracking"
   ]
  },
  {
   "cell_type": "markdown",
   "id": "a762a505-d126-4178-8e11-c0e0b921a45a",
   "metadata": {},
   "source": [
    "**Test Case (tracking without initial slewing)**\n",
    "\n",
    "No initial slewing is applied to the rotator."
   ]
  },
  {
   "cell_type": "code",
   "execution_count": 81,
   "id": "52e8e018",
   "metadata": {},
   "outputs": [
    {
     "data": {
      "text/html": [
       "<pre style=\"margin: 0.1em;\n",
       "padding-left: 0.25em;\n",
       "border-left-style: solid;\n",
       "font-family: var(--jp-code-font-family);\n",
       "font-size: var(--jp-code-font-size);\n",
       "line-height: var(--jp-code-line-height);\n",
       "\"><span style=\"color: var(--jp-warn-color2)\">Script</span> <span style=\"color: var(--jp-info-color0)\">INFO</span>: START -- Rotator New Trjectory Verification Test -- LVV-T2539 -- Test step desciption -- Starting Time: 2022-05-20 19:37:47.640094 UTC</pre>"
      ],
      "text/plain": [
       "<IPython.core.display.HTML object>"
      ]
     },
     "metadata": {},
     "output_type": "display_data"
    }
   ],
   "source": [
    "script.log.info(f\"START -- {test_message} -- LVV-T2539 -- Test step desciption -- Starting Time: {datetime.now()} UTC\")"
   ]
  },
  {
   "cell_type": "code",
   "execution_count": 82,
   "id": "32c8a193-59f6-44ef-828d-4bf6a2f050dd",
   "metadata": {},
   "outputs": [
    {
     "name": "stdout",
     "output_type": "stream",
     "text": [
      "Time is 2022-05-20T19:38:02.000 right now.\n"
     ]
    }
   ],
   "source": [
    "time_start = print_and_get_time()\n",
    "\n",
    "data = await rotator.tel_rotation.aget(timeout=15)\n",
    "await track_target(rotator, data.actualPosition, data.actualPosition + 0.5, 0.068)"
   ]
  },
  {
   "cell_type": "code",
   "execution_count": 83,
   "id": "0b8a814b",
   "metadata": {},
   "outputs": [
    {
     "data": {
      "text/html": [
       "<pre style=\"margin: 0.1em;\n",
       "padding-left: 0.25em;\n",
       "border-left-style: solid;\n",
       "font-family: var(--jp-code-font-family);\n",
       "font-size: var(--jp-code-font-size);\n",
       "line-height: var(--jp-code-line-height);\n",
       "\"><span style=\"color: var(--jp-warn-color2)\">Script</span> <span style=\"color: var(--jp-info-color0)\">INFO</span>: START -- Rotator New Trjectory Verification Test -- LVV-T2539 -- Test step desciption -- Stopping Time: 2022-05-20 19:38:11.304930 UTC</pre>"
      ],
      "text/plain": [
       "<IPython.core.display.HTML object>"
      ]
     },
     "metadata": {},
     "output_type": "display_data"
    }
   ],
   "source": [
    "script.log.info(f\"START -- {test_message} -- LVV-T2539 -- Test step desciption -- Stopping Time: {datetime.now()} UTC\")"
   ]
  },
  {
   "cell_type": "code",
   "execution_count": 85,
   "id": "b2c544c4-6cd7-4d3a-99bc-4ce98185207b",
   "metadata": {},
   "outputs": [
    {
     "name": "stdout",
     "output_type": "stream",
     "text": [
      "Time is 2022-05-20T19:38:43.000 right now.\n"
     ]
    },
    {
     "data": {
      "image/png": "[encoded data removed]",
      "text/plain": [
       "<Figure size 432x288 with 3 Axes>"
      ]
     },
     "metadata": {
      "needs_background": "light"
     },
     "output_type": "display_data"
    }
   ],
   "source": [
    "time_now = print_and_get_time()\n",
    "\n",
    "await plot_path_generator(efd_client, time_start, time_now)"
   ]
  },
  {
   "cell_type": "code",
   "execution_count": 86,
   "id": "46dc7213-06a6-4a8b-904b-a2c06f85d3fb",
   "metadata": {},
   "outputs": [
    {
     "name": "stdout",
     "output_type": "stream",
     "text": [
      "Time is 2022-05-20T19:38:50.000 right now.\n"
     ]
    }
   ],
   "source": [
    "time_now = print_and_get_time()\n",
    "data_controller_state, data_in_position, data_tracking = await get_event_data(\n",
    "    efd_client, time_start, time_now)"
   ]
  },
  {
   "cell_type": "code",
   "execution_count": 87,
   "id": "d7e5eab2-969d-48db-a7d7-644d981f9b44",
   "metadata": {},
   "outputs": [
    {
     "data": {
      "text/html": [
       "<div>\n",
       "<style scoped>\n",
       "    .dataframe tbody tr th:only-of-type {\n",
       "        vertical-align: middle;\n",
       "    }\n",
       "\n",
       "    .dataframe tbody tr th {\n",
       "        vertical-align: top;\n",
       "    }\n",
       "\n",
       "    .dataframe thead th {\n",
       "        text-align: right;\n",
       "    }\n",
       "</style>\n",
       "<table border=\"1\" class=\"dataframe\">\n",
       "  <thead>\n",
       "    <tr style=\"text-align: right;\">\n",
       "      <th></th>\n",
       "      <th>controllerState</th>\n",
       "      <th>enabledSubstate</th>\n",
       "      <th>time_difference</th>\n",
       "    </tr>\n",
       "  </thead>\n",
       "  <tbody>\n",
       "    <tr>\n",
       "      <th>2022-05-20 19:38:02.748000+00:00</th>\n",
       "      <td>2</td>\n",
       "      <td>2</td>\n",
       "      <td>0.748</td>\n",
       "    </tr>\n",
       "    <tr>\n",
       "      <th>2022-05-20 19:38:11.500000+00:00</th>\n",
       "      <td>2</td>\n",
       "      <td>3</td>\n",
       "      <td>9.500</td>\n",
       "    </tr>\n",
       "    <tr>\n",
       "      <th>2022-05-20 19:38:11.850000+00:00</th>\n",
       "      <td>4</td>\n",
       "      <td>0</td>\n",
       "      <td>9.850</td>\n",
       "    </tr>\n",
       "  </tbody>\n",
       "</table>\n",
       "</div>"
      ],
      "text/plain": [
       "                                  controllerState  enabledSubstate  \\\n",
       "2022-05-20 19:38:02.748000+00:00                2                2   \n",
       "2022-05-20 19:38:11.500000+00:00                2                3   \n",
       "2022-05-20 19:38:11.850000+00:00                4                0   \n",
       "\n",
       "                                  time_difference  \n",
       "2022-05-20 19:38:02.748000+00:00            0.748  \n",
       "2022-05-20 19:38:11.500000+00:00            9.500  \n",
       "2022-05-20 19:38:11.850000+00:00            9.850  "
      ]
     },
     "execution_count": 87,
     "metadata": {},
     "output_type": "execute_result"
    }
   ],
   "source": [
    "data_controller_state"
   ]
  },
  {
   "cell_type": "code",
   "execution_count": 88,
   "id": "6678a4ed-33c0-446b-b898-2957b4dbcbcd",
   "metadata": {},
   "outputs": [
    {
     "data": {
      "text/html": [
       "<div>\n",
       "<style scoped>\n",
       "    .dataframe tbody tr th:only-of-type {\n",
       "        vertical-align: middle;\n",
       "    }\n",
       "\n",
       "    .dataframe tbody tr th {\n",
       "        vertical-align: top;\n",
       "    }\n",
       "\n",
       "    .dataframe thead th {\n",
       "        text-align: right;\n",
       "    }\n",
       "</style>\n",
       "<table border=\"1\" class=\"dataframe\">\n",
       "  <thead>\n",
       "    <tr style=\"text-align: right;\">\n",
       "      <th></th>\n",
       "      <th>inPosition</th>\n",
       "      <th>time_difference</th>\n",
       "    </tr>\n",
       "  </thead>\n",
       "  <tbody>\n",
       "    <tr>\n",
       "      <th>2022-05-20 19:38:02.748000+00:00</th>\n",
       "      <td>False</td>\n",
       "      <td>0.748</td>\n",
       "    </tr>\n",
       "    <tr>\n",
       "      <th>2022-05-20 19:38:02.898000+00:00</th>\n",
       "      <td>True</td>\n",
       "      <td>0.898</td>\n",
       "    </tr>\n",
       "    <tr>\n",
       "      <th>2022-05-20 19:38:04.048000+00:00</th>\n",
       "      <td>False</td>\n",
       "      <td>2.048</td>\n",
       "    </tr>\n",
       "  </tbody>\n",
       "</table>\n",
       "</div>"
      ],
      "text/plain": [
       "                                  inPosition  time_difference\n",
       "2022-05-20 19:38:02.748000+00:00       False            0.748\n",
       "2022-05-20 19:38:02.898000+00:00        True            0.898\n",
       "2022-05-20 19:38:04.048000+00:00       False            2.048"
      ]
     },
     "execution_count": 88,
     "metadata": {},
     "output_type": "execute_result"
    }
   ],
   "source": [
    "data_in_position"
   ]
  },
  {
   "cell_type": "code",
   "execution_count": 89,
   "id": "aa86dffd-fade-4052-bef9-cf70b3a19e3a",
   "metadata": {},
   "outputs": [
    {
     "data": {
      "text/html": [
       "<div>\n",
       "<style scoped>\n",
       "    .dataframe tbody tr th:only-of-type {\n",
       "        vertical-align: middle;\n",
       "    }\n",
       "\n",
       "    .dataframe tbody tr th {\n",
       "        vertical-align: top;\n",
       "    }\n",
       "\n",
       "    .dataframe thead th {\n",
       "        text-align: right;\n",
       "    }\n",
       "</style>\n",
       "<table border=\"1\" class=\"dataframe\">\n",
       "  <thead>\n",
       "    <tr style=\"text-align: right;\">\n",
       "      <th></th>\n",
       "      <th>tracking</th>\n",
       "      <th>lost</th>\n",
       "      <th>noNewCommand</th>\n",
       "      <th>time_difference</th>\n",
       "    </tr>\n",
       "  </thead>\n",
       "  <tbody>\n",
       "    <tr>\n",
       "      <th>2022-05-20 19:38:02.748000+00:00</th>\n",
       "      <td>False</td>\n",
       "      <td>True</td>\n",
       "      <td>False</td>\n",
       "      <td>0.748</td>\n",
       "    </tr>\n",
       "    <tr>\n",
       "      <th>2022-05-20 19:38:02.898000+00:00</th>\n",
       "      <td>True</td>\n",
       "      <td>True</td>\n",
       "      <td>False</td>\n",
       "      <td>0.898</td>\n",
       "    </tr>\n",
       "    <tr>\n",
       "      <th>2022-05-20 19:38:04.048000+00:00</th>\n",
       "      <td>False</td>\n",
       "      <td>True</td>\n",
       "      <td>False</td>\n",
       "      <td>2.048</td>\n",
       "    </tr>\n",
       "    <tr>\n",
       "      <th>2022-05-20 19:38:11.500000+00:00</th>\n",
       "      <td>False</td>\n",
       "      <td>True</td>\n",
       "      <td>True</td>\n",
       "      <td>9.500</td>\n",
       "    </tr>\n",
       "    <tr>\n",
       "      <th>2022-05-20 19:38:11.550000+00:00</th>\n",
       "      <td>False</td>\n",
       "      <td>False</td>\n",
       "      <td>True</td>\n",
       "      <td>9.550</td>\n",
       "    </tr>\n",
       "  </tbody>\n",
       "</table>\n",
       "</div>"
      ],
      "text/plain": [
       "                                  tracking   lost  noNewCommand  \\\n",
       "2022-05-20 19:38:02.748000+00:00     False   True         False   \n",
       "2022-05-20 19:38:02.898000+00:00      True   True         False   \n",
       "2022-05-20 19:38:04.048000+00:00     False   True         False   \n",
       "2022-05-20 19:38:11.500000+00:00     False   True          True   \n",
       "2022-05-20 19:38:11.550000+00:00     False  False          True   \n",
       "\n",
       "                                  time_difference  \n",
       "2022-05-20 19:38:02.748000+00:00            0.748  \n",
       "2022-05-20 19:38:02.898000+00:00            0.898  \n",
       "2022-05-20 19:38:04.048000+00:00            2.048  \n",
       "2022-05-20 19:38:11.500000+00:00            9.500  \n",
       "2022-05-20 19:38:11.550000+00:00            9.550  "
      ]
     },
     "execution_count": 89,
     "metadata": {},
     "output_type": "execute_result"
    }
   ],
   "source": [
    "data_tracking"
   ]
  },
  {
   "cell_type": "code",
   "execution_count": 99,
   "id": "64db2269-b7ea-48f6-b3b2-f0fffd2a1345",
   "metadata": {},
   "outputs": [
    {
     "data": {
      "text/plain": [
       "<ddsutil.MTRotator_ackcmd_f04f56ad at 0x7f76f08a1310>"
      ]
     },
     "execution_count": 99,
     "metadata": {},
     "output_type": "execute_result"
    }
   ],
   "source": [
    "await rotator.cmd_move.set_start(position=0, timeout=60)"
   ]
  },
  {
   "cell_type": "markdown",
   "id": "b8fec7d8-b442-4606-b917-2ddcf744a6ae",
   "metadata": {},
   "source": [
    "**Test Case (slewing supersession)**\n",
    "\n",
    "Test the slewing supersession capability of the rotator."
   ]
  },
  {
   "cell_type": "code",
   "execution_count": 102,
   "id": "4af30ac5",
   "metadata": {},
   "outputs": [
    {
     "data": {
      "text/html": [
       "<pre style=\"margin: 0.1em;\n",
       "padding-left: 0.25em;\n",
       "border-left-style: solid;\n",
       "font-family: var(--jp-code-font-family);\n",
       "font-size: var(--jp-code-font-size);\n",
       "line-height: var(--jp-code-line-height);\n",
       "\"><span style=\"color: var(--jp-warn-color2)\">Script</span> <span style=\"color: var(--jp-info-color0)\">INFO</span>: START -- Rotator New Trjectory Verification Test -- LVV-T2539 -- Test step desciption -- Starting Time: 2022-05-20 19:57:57.527375 UTC</pre>"
      ],
      "text/plain": [
       "<IPython.core.display.HTML object>"
      ]
     },
     "metadata": {},
     "output_type": "display_data"
    }
   ],
   "source": [
    "script.log.info(f\"START -- {test_message} -- LVV-T2539 -- Test step desciption -- Starting Time: {datetime.now()} UTC\")"
   ]
  },
  {
   "cell_type": "code",
   "execution_count": 103,
   "id": "ce116647-20d9-4575-9a9b-9c910aac3649",
   "metadata": {},
   "outputs": [
    {
     "name": "stdout",
     "output_type": "stream",
     "text": [
      "Time is 2022-05-20T19:57:58.000 right now.\n"
     ]
    },
    {
     "ename": "AckError",
     "evalue": "msg='Command failed', ackcmd=(ackcmd private_seqNum=1871562460, ack=<SalRetCode.CMD_FAILED: -302>, error=1, result='Failed: Low-level controller in substate 3.0 instead of 2')",
     "output_type": "error",
     "traceback": [
      "\u001b[0;31m---------------------------------------------------------------------------\u001b[0m",
      "\u001b[0;31mAckError\u001b[0m                                  Traceback (most recent call last)",
      "Input \u001b[0;32mIn [103]\u001b[0m, in \u001b[0;36m<cell line: 2>\u001b[0;34m()\u001b[0m\n\u001b[1;32m      1\u001b[0m time_start \u001b[38;5;241m=\u001b[39m print_and_get_time()\n\u001b[0;32m----> 2\u001b[0m \u001b[38;5;28;01mawait\u001b[39;00m slew_supersession_test(rotator)\n",
      "Input \u001b[0;32mIn [96]\u001b[0m, in \u001b[0;36mslew_supersession_test\u001b[0;34m(csc)\u001b[0m\n\u001b[1;32m     34\u001b[0m \u001b[38;5;66;03m# Track the second target\u001b[39;00m\n\u001b[1;32m     35\u001b[0m \u001b[38;5;28;01mfor\u001b[39;00m positions, velocities, tai \u001b[38;5;129;01min\u001b[39;00m ramp_generator_2():\n\u001b[0;32m---> 36\u001b[0m     \u001b[38;5;28;01mawait\u001b[39;00m csc\u001b[38;5;241m.\u001b[39mcmd_track\u001b[38;5;241m.\u001b[39mset_start(\n\u001b[1;32m     37\u001b[0m         angle\u001b[38;5;241m=\u001b[39mpositions[\u001b[38;5;241m0\u001b[39m],\n\u001b[1;32m     38\u001b[0m         velocity\u001b[38;5;241m=\u001b[39mvelocities[\u001b[38;5;241m0\u001b[39m],\n\u001b[1;32m     39\u001b[0m         tai\u001b[38;5;241m=\u001b[39mtai,\n\u001b[1;32m     40\u001b[0m         timeout\u001b[38;5;241m=\u001b[39m\u001b[38;5;241m5\u001b[39m,\n\u001b[1;32m     41\u001b[0m     )\n\u001b[1;32m     42\u001b[0m     \u001b[38;5;28;01mawait\u001b[39;00m asyncio\u001b[38;5;241m.\u001b[39msleep(\u001b[38;5;241m0.1\u001b[39m)\n",
      "File \u001b[0;32m/opt/lsst/software/stack/conda/miniconda3-py38_4.9.2/envs/lsst-scipipe-3.0.0/lib/python3.8/site-packages/lsst/ts/salobj/topics/remote_command.py:418\u001b[0m, in \u001b[0;36mRemoteCommand.set_start\u001b[0;34m(self, timeout, wait_done, **kwargs)\u001b[0m\n\u001b[1;32m    377\u001b[0m \u001b[38;5;124;03m\"\"\"Create a new ``self.data``, set zero or more fields,\u001b[39;00m\n\u001b[1;32m    378\u001b[0m \u001b[38;5;124;03mand start the command.\u001b[39;00m\n\u001b[1;32m    379\u001b[0m \n\u001b[0;32m   (...)\u001b[0m\n\u001b[1;32m    415\u001b[0m \u001b[38;5;124;03m    If ``data`` is not None and not an instance of `DataType`.\u001b[39;00m\n\u001b[1;32m    416\u001b[0m \u001b[38;5;124;03m\"\"\"\u001b[39;00m\n\u001b[1;32m    417\u001b[0m \u001b[38;5;28mself\u001b[39m\u001b[38;5;241m.\u001b[39mset(\u001b[38;5;241m*\u001b[39m\u001b[38;5;241m*\u001b[39mkwargs)\n\u001b[0;32m--> 418\u001b[0m \u001b[38;5;28;01mreturn\u001b[39;00m \u001b[38;5;28;01mawait\u001b[39;00m \u001b[38;5;28mself\u001b[39m\u001b[38;5;241m.\u001b[39mstart(timeout\u001b[38;5;241m=\u001b[39mtimeout, wait_done\u001b[38;5;241m=\u001b[39mwait_done)\n",
      "File \u001b[0;32m/opt/lsst/software/stack/conda/miniconda3-py38_4.9.2/envs/lsst-scipipe-3.0.0/lib/python3.8/site-packages/lsst/ts/salobj/topics/remote_command.py:485\u001b[0m, in \u001b[0;36mRemoteCommand.start\u001b[0;34m(self, data, timeout, wait_done)\u001b[0m\n\u001b[1;32m    481\u001b[0m cmd_info \u001b[38;5;241m=\u001b[39m CommandInfo(\n\u001b[1;32m    482\u001b[0m     remote_command\u001b[38;5;241m=\u001b[39m\u001b[38;5;28mself\u001b[39m, seq_num\u001b[38;5;241m=\u001b[39mseq_num, wait_done\u001b[38;5;241m=\u001b[39mwait_done\n\u001b[1;32m    483\u001b[0m )\n\u001b[1;32m    484\u001b[0m \u001b[38;5;28mself\u001b[39m\u001b[38;5;241m.\u001b[39msalinfo\u001b[38;5;241m.\u001b[39m_running_cmds[seq_num] \u001b[38;5;241m=\u001b[39m cmd_info\n\u001b[0;32m--> 485\u001b[0m \u001b[38;5;28;01mreturn\u001b[39;00m \u001b[38;5;28;01mawait\u001b[39;00m cmd_info\u001b[38;5;241m.\u001b[39mnext_ackcmd(timeout\u001b[38;5;241m=\u001b[39mtimeout)\n",
      "File \u001b[0;32m/opt/lsst/software/stack/conda/miniconda3-py38_4.9.2/envs/lsst-scipipe-3.0.0/lib/python3.8/site-packages/lsst/ts/salobj/topics/remote_command.py:195\u001b[0m, in \u001b[0;36mCommandInfo.next_ackcmd\u001b[0;34m(self, timeout)\u001b[0m\n\u001b[1;32m    193\u001b[0m     ackcmd \u001b[38;5;241m=\u001b[39m \u001b[38;5;28;01mawait\u001b[39;00m \u001b[38;5;28mself\u001b[39m\u001b[38;5;241m.\u001b[39m_wait_task\n\u001b[1;32m    194\u001b[0m     \u001b[38;5;28;01mif\u001b[39;00m ackcmd\u001b[38;5;241m.\u001b[39mack \u001b[38;5;129;01min\u001b[39;00m \u001b[38;5;28mself\u001b[39m\u001b[38;5;241m.\u001b[39mfailed_ack_codes:\n\u001b[0;32m--> 195\u001b[0m         \u001b[38;5;28;01mraise\u001b[39;00m base\u001b[38;5;241m.\u001b[39mAckError(msg\u001b[38;5;241m=\u001b[39m\u001b[38;5;124m\"\u001b[39m\u001b[38;5;124mCommand failed\u001b[39m\u001b[38;5;124m\"\u001b[39m, ackcmd\u001b[38;5;241m=\u001b[39mackcmd)\n\u001b[1;32m    196\u001b[0m     \u001b[38;5;28;01mreturn\u001b[39;00m ackcmd\n\u001b[1;32m    197\u001b[0m \u001b[38;5;28;01mexcept\u001b[39;00m asyncio\u001b[38;5;241m.\u001b[39mTimeoutError:\n",
      "\u001b[0;31mAckError\u001b[0m: msg='Command failed', ackcmd=(ackcmd private_seqNum=1871562460, ack=<SalRetCode.CMD_FAILED: -302>, error=1, result='Failed: Low-level controller in substate 3.0 instead of 2')"
     ]
    }
   ],
   "source": [
    "time_start = print_and_get_time()\n",
    "await slew_supersession_test(rotator)"
   ]
  },
  {
   "cell_type": "code",
   "execution_count": null,
   "id": "9a71d745",
   "metadata": {},
   "outputs": [],
   "source": [
    "script.log.info(f\"START -- {test_message} -- LVV-T2539 -- Test step desciption -- Stopping Time: {datetime.now()} UTC\")"
   ]
  },
  {
   "cell_type": "code",
   "execution_count": null,
   "id": "006647a9-60ad-454f-a41a-f5c5ccf8bbf5",
   "metadata": {},
   "outputs": [],
   "source": [
    "await plot_path_generator(efd_client, time_start, time_now)"
   ]
  },
  {
   "cell_type": "code",
   "execution_count": null,
   "id": "1a064213-8beb-4217-9e24-83ef9dc951d7",
   "metadata": {},
   "outputs": [],
   "source": [
    "data_controller_state, data_in_position, data_tracking = await get_event_data(\n",
    "    efd_client, time_start, time_now)"
   ]
  },
  {
   "cell_type": "code",
   "execution_count": null,
   "id": "5e5af1a2-7ae1-41c2-a20e-897957926d36",
   "metadata": {},
   "outputs": [],
   "source": [
    "data_controller_state"
   ]
  },
  {
   "cell_type": "code",
   "execution_count": null,
   "id": "d54151f4-08c9-4405-8907-1824a2801cea",
   "metadata": {},
   "outputs": [],
   "source": [
    "data_in_position"
   ]
  },
  {
   "cell_type": "code",
   "execution_count": null,
   "id": "e35622ca-204a-41a8-9f73-226555428801",
   "metadata": {},
   "outputs": [],
   "source": [
    "data_tracking"
   ]
  },
  {
   "cell_type": "code",
   "execution_count": 107,
   "id": "a4f97536-c659-4973-9d33-eefa08b429fe",
   "metadata": {},
   "outputs": [
    {
     "data": {
      "text/plain": [
       "<ddsutil.MTRotator_ackcmd_f04f56ad at 0x7f76f08852b0>"
      ]
     },
     "execution_count": 107,
     "metadata": {},
     "output_type": "execute_result"
    }
   ],
   "source": [
    "await rotator.cmd_move.set_start(position=0, timeout=60)"
   ]
  },
  {
   "cell_type": "markdown",
   "id": "b8efad31-4c89-47b9-b154-d8b6f108afa4",
   "metadata": {},
   "source": [
    "**Test Case (tracking / slewing with multiple stops)**"
   ]
  },
  {
   "cell_type": "code",
   "execution_count": 108,
   "id": "f0a02dd9",
   "metadata": {},
   "outputs": [
    {
     "data": {
      "text/html": [
       "<pre style=\"margin: 0.1em;\n",
       "padding-left: 0.25em;\n",
       "border-left-style: solid;\n",
       "font-family: var(--jp-code-font-family);\n",
       "font-size: var(--jp-code-font-size);\n",
       "line-height: var(--jp-code-line-height);\n",
       "\"><span style=\"color: var(--jp-warn-color2)\">Script</span> <span style=\"color: var(--jp-info-color0)\">INFO</span>: START -- Rotator New Trjectory Verification Test -- LVV-T2539 -- Test step desciption -- Starting Time: 2022-05-20 20:05:15.263257 UTC</pre>"
      ],
      "text/plain": [
       "<IPython.core.display.HTML object>"
      ]
     },
     "metadata": {},
     "output_type": "display_data"
    }
   ],
   "source": [
    "script.log.info(f\"START -- {test_message} -- LVV-T2539 -- Test step desciption -- Starting Time: {datetime.now()} UTC\")"
   ]
  },
  {
   "cell_type": "code",
   "execution_count": 112,
   "id": "354cc778-b8a9-4cba-9af7-62c3894def3c",
   "metadata": {},
   "outputs": [],
   "source": [
    "time_start = print_and_get_time()\n",
    "await track_slew_multiple_stop_test(rotator)"
   ]
  },
  {
   "cell_type": "code",
   "execution_count": 113,
   "id": "d797d147",
   "metadata": {},
   "outputs": [
    {
     "data": {
      "text/html": [
       "<pre style=\"margin: 0.1em;\n",
       "padding-left: 0.25em;\n",
       "border-left-style: solid;\n",
       "font-family: var(--jp-code-font-family);\n",
       "font-size: var(--jp-code-font-size);\n",
       "line-height: var(--jp-code-line-height);\n",
       "\"><span style=\"color: var(--jp-warn-color2)\">Script</span> <span style=\"color: var(--jp-info-color0)\">INFO</span>: START -- Rotator New Trjectory Verification Test -- LVV-T2539 -- Test step desciption -- Stopping Time: 2022-05-20 20:07:35.575465 UTC</pre>"
      ],
      "text/plain": [
       "<IPython.core.display.HTML object>"
      ]
     },
     "metadata": {},
     "output_type": "display_data"
    }
   ],
   "source": [
    "script.log.info(f\"START -- {test_message} -- LVV-T2539 -- Test step desciption -- Stopping Time: {datetime.now()} UTC\")"
   ]
  },
  {
   "cell_type": "code",
   "execution_count": 117,
   "id": "491cab5f-53c2-4c17-986b-9d7d06f36c02",
   "metadata": {},
   "outputs": [
    {
     "name": "stdout",
     "output_type": "stream",
     "text": [
      "Time is 2022-05-20T20:09:12.000 right now.\n",
      "Time is 2022-05-20T20:09:12.000 right now.\n"
     ]
    },
    {
     "ename": "AttributeError",
     "evalue": "'DataFrame' object has no attribute 'timestamp'",
     "output_type": "error",
     "traceback": [
      "\u001b[0;31m---------------------------------------------------------------------------\u001b[0m",
      "\u001b[0;31mAttributeError\u001b[0m                            Traceback (most recent call last)",
      "Input \u001b[0;32mIn [117]\u001b[0m, in \u001b[0;36m<cell line: 4>\u001b[0;34m()\u001b[0m\n\u001b[1;32m      1\u001b[0m time_start \u001b[38;5;241m=\u001b[39m print_and_get_time()\n\u001b[1;32m      2\u001b[0m time_now \u001b[38;5;241m=\u001b[39m print_and_get_time()\n\u001b[0;32m----> 4\u001b[0m \u001b[38;5;28;01mawait\u001b[39;00m plot_path_generator(efd_client, time_start, time_now)\n",
      "Input \u001b[0;32mIn [16]\u001b[0m, in \u001b[0;36mplot_path_generator\u001b[0;34m(efd_client, time_start, time_end)\u001b[0m\n\u001b[1;32m     15\u001b[0m data \u001b[38;5;241m=\u001b[39m \u001b[38;5;28;01mawait\u001b[39;00m efd_client\u001b[38;5;241m.\u001b[39mselect_time_series(\n\u001b[1;32m     16\u001b[0m     \u001b[38;5;124m\"\u001b[39m\u001b[38;5;124mlsst.sal.MTRotator.rotation\u001b[39m\u001b[38;5;124m\"\u001b[39m, \n\u001b[1;32m     17\u001b[0m     fields\u001b[38;5;241m=\u001b[39m[\u001b[38;5;124m\"\u001b[39m\u001b[38;5;124mdemandPosition\u001b[39m\u001b[38;5;124m\"\u001b[39m, \u001b[38;5;124m\"\u001b[39m\u001b[38;5;124mdemandVelocity\u001b[39m\u001b[38;5;124m\"\u001b[39m, \u001b[38;5;124m\"\u001b[39m\u001b[38;5;124mdemandAcceleration\u001b[39m\u001b[38;5;124m\"\u001b[39m, \u001b[38;5;124m\"\u001b[39m\u001b[38;5;124mactualPosition\u001b[39m\u001b[38;5;124m\"\u001b[39m, \u001b[38;5;124m\"\u001b[39m\u001b[38;5;124mactualVelocity\u001b[39m\u001b[38;5;124m\"\u001b[39m, \u001b[38;5;124m\"\u001b[39m\u001b[38;5;124mtimestamp\u001b[39m\u001b[38;5;124m\"\u001b[39m], \n\u001b[1;32m     18\u001b[0m     start\u001b[38;5;241m=\u001b[39mtime_start, \n\u001b[1;32m     19\u001b[0m     end\u001b[38;5;241m=\u001b[39mtime_end)\n\u001b[1;32m     21\u001b[0m \u001b[38;5;66;03m# Realign the time origin to 0\u001b[39;00m\n\u001b[0;32m---> 22\u001b[0m time_operation \u001b[38;5;241m=\u001b[39m np\u001b[38;5;241m.\u001b[39marray(\u001b[43mdata\u001b[49m\u001b[38;5;241;43m.\u001b[39;49m\u001b[43mtimestamp\u001b[49m\u001b[38;5;241m.\u001b[39msubtract(data\u001b[38;5;241m.\u001b[39mtimestamp[\u001b[38;5;241m0\u001b[39m]))\n\u001b[1;32m     24\u001b[0m \u001b[38;5;66;03m# Plots\u001b[39;00m\n\u001b[1;32m     25\u001b[0m plt\u001b[38;5;241m.\u001b[39msubplot(\u001b[38;5;241m3\u001b[39m, \u001b[38;5;241m1\u001b[39m, \u001b[38;5;241m1\u001b[39m)\n",
      "File \u001b[0;32m/opt/lsst/software/stack/conda/miniconda3-py38_4.9.2/envs/lsst-scipipe-3.0.0/lib/python3.8/site-packages/pandas/core/generic.py:5583\u001b[0m, in \u001b[0;36mNDFrame.__getattr__\u001b[0;34m(self, name)\u001b[0m\n\u001b[1;32m   5576\u001b[0m \u001b[38;5;28;01mif\u001b[39;00m (\n\u001b[1;32m   5577\u001b[0m     name \u001b[38;5;129;01mnot\u001b[39;00m \u001b[38;5;129;01min\u001b[39;00m \u001b[38;5;28mself\u001b[39m\u001b[38;5;241m.\u001b[39m_internal_names_set\n\u001b[1;32m   5578\u001b[0m     \u001b[38;5;129;01mand\u001b[39;00m name \u001b[38;5;129;01mnot\u001b[39;00m \u001b[38;5;129;01min\u001b[39;00m \u001b[38;5;28mself\u001b[39m\u001b[38;5;241m.\u001b[39m_metadata\n\u001b[1;32m   5579\u001b[0m     \u001b[38;5;129;01mand\u001b[39;00m name \u001b[38;5;129;01mnot\u001b[39;00m \u001b[38;5;129;01min\u001b[39;00m \u001b[38;5;28mself\u001b[39m\u001b[38;5;241m.\u001b[39m_accessors\n\u001b[1;32m   5580\u001b[0m     \u001b[38;5;129;01mand\u001b[39;00m \u001b[38;5;28mself\u001b[39m\u001b[38;5;241m.\u001b[39m_info_axis\u001b[38;5;241m.\u001b[39m_can_hold_identifiers_and_holds_name(name)\n\u001b[1;32m   5581\u001b[0m ):\n\u001b[1;32m   5582\u001b[0m     \u001b[38;5;28;01mreturn\u001b[39;00m \u001b[38;5;28mself\u001b[39m[name]\n\u001b[0;32m-> 5583\u001b[0m \u001b[38;5;28;01mreturn\u001b[39;00m \u001b[38;5;28;43mobject\u001b[39;49m\u001b[38;5;241;43m.\u001b[39;49m\u001b[38;5;21;43m__getattribute__\u001b[39;49m\u001b[43m(\u001b[49m\u001b[38;5;28;43mself\u001b[39;49m\u001b[43m,\u001b[49m\u001b[43m \u001b[49m\u001b[43mname\u001b[49m\u001b[43m)\u001b[49m\n",
      "\u001b[0;31mAttributeError\u001b[0m: 'DataFrame' object has no attribute 'timestamp'"
     ]
    }
   ],
   "source": [
    "\n",
    "time_now = print_and_get_time()\n",
    "await plot_path_generator(efd_client, time_start, time_now)"
   ]
  },
  {
   "cell_type": "code",
   "execution_count": null,
   "id": "33e74090-6b67-4e23-9728-843c00230afe",
   "metadata": {},
   "outputs": [],
   "source": [
    "data_controller_state, data_in_position, data_tracking = await get_event_data(\n",
    "    efd_client, time_start, time_now)"
   ]
  },
  {
   "cell_type": "code",
   "execution_count": null,
   "id": "5b523e46-231e-4798-bca9-2cbc52fa2262",
   "metadata": {},
   "outputs": [],
   "source": [
    "data_controller_state"
   ]
  },
  {
   "cell_type": "code",
   "execution_count": null,
   "id": "4c27b8fd-4890-427b-8213-5dbde39f83ff",
   "metadata": {},
   "outputs": [],
   "source": [
    "data_in_position"
   ]
  },
  {
   "cell_type": "code",
   "execution_count": null,
   "id": "9686dd71-c1c2-462d-a7fb-cf8abf9b2847",
   "metadata": {},
   "outputs": [],
   "source": [
    "data_tracking"
   ]
  },
  {
   "cell_type": "code",
   "execution_count": null,
   "id": "37ffa251-f95e-40a6-8e9a-b67955606dde",
   "metadata": {},
   "outputs": [],
   "source": []
  }
 ],
 "metadata": {
  "kernelspec": {
   "display_name": "LSST",
   "language": "python",
   "name": "lsst"
  },
  "language_info": {
   "codemirror_mode": {
    "name": "ipython",
    "version": 3
   },
   "file_extension": ".py",
   "mimetype": "text/x-python",
   "name": "python",
   "nbconvert_exporter": "python",
   "pygments_lexer": "ipython3",
   "version": "3.8.13"
  }
 },
 "nbformat": 4,
 "nbformat_minor": 5
}
