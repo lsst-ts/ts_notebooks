{
 "cells": [
  {
   "cell_type": "markdown",
   "id": "50cf51b7-2f25-4360-af22-fd9322b26b34",
   "metadata": {},
   "source": [
    "**Rotator Trajectory Verification**\n",
    "\n",
    "This Jupyter notebook is used to verify the updated rotator trajectory generator by Tekniker.\n",
    "The test will be performed on summit with the real hardware.\n",
    "Before that, the Tucson test stand is used to develop the test procedure.\n",
    "The rotator commandable SAL component (CSC) is used to control the rotator hardware.\n",
    "The published event and telemetry are stored in the engineering facility database (EFD).\n",
    "\n",
    "It is noted that the **MTMount** telemetry data is required.\n",
    "Otherwise, the rotator CSC will put the low-level controller into the **Fault** state.\n",
    "\n",
    "The **setup** notebook can be used to bring up rotator and mount/CCW."
   ]
  },
  {
   "cell_type": "markdown",
   "id": "77635002-44f9-4e1e-9432-a15b032f3fe7",
   "metadata": {},
   "source": [
    "**Import Modules**"
   ]
  },
  {
   "cell_type": "code",
   "execution_count": 121,
   "id": "bd51ca47-ee1d-412d-914a-9fe431e6fdca",
   "metadata": {},
   "outputs": [],
   "source": [
    "%matplotlib inline\n",
    "%matplotlib widget\n",
    "import asyncio\n",
    "from datetime import datetime\n",
    "import time\n",
    "from astropy.time import Time\n",
    "import pandas as pd\n",
    "import numpy as np\n",
    "import matplotlib.pyplot as plt\n",
    "\n",
    "from lsst.ts import salobj\n",
    "from lsst.ts import simactuators\n",
    "from lsst_efd_client import EfdClient"
   ]
  },
  {
   "cell_type": "markdown",
   "id": "da828c63-1f59-4de3-9216-8fb2aa99f11a",
   "metadata": {},
   "source": [
    "**Custom Functions**"
   ]
  },
  {
   "cell_type": "code",
   "execution_count": 2,
   "id": "33ee5f92-537c-4aae-93bc-ecae213d0d4b",
   "metadata": {},
   "outputs": [],
   "source": [
    "def retrieve_efd_client(is_summit=True):\n",
    "    \"\"\"\n",
    "    Retrieves a client to EFD.\n",
    "\n",
    "    Parameters\n",
    "    ----------\n",
    "    is_summit : bool, optional\n",
    "        This notebook is running on the summit or not. If not, the returned object will point\n",
    "        to the test stand at Tucson.\n",
    "\n",
    "    Returns\n",
    "    -------\n",
    "    EfdClient : The interface object between the Nublado and summit/Tucson EFD.\n",
    "    \"\"\"\n",
    "    efd_name = \"summit_efd\" if is_summit else \"tucson_teststand_efd\"        \n",
    "    return EfdClient(efd_name)"
   ]
  },
  {
   "cell_type": "code",
   "execution_count": 3,
   "id": "80fee146-19c9-4032-8120-7730bb07acd6",
   "metadata": {},
   "outputs": [],
   "source": [
    "async def print_summary_state(csc):\n",
    "    \"\"\"\n",
    "    Print the summary state of rotator.\n",
    "\n",
    "    Parameters\n",
    "    ----------\n",
    "    csc : lsst.ts.salobj.remote.Remote\n",
    "        Remote object of the rotator CSC.\n",
    "    \"\"\"\n",
    "    data = await csc.evt_summaryState.aget(timeout=30)\n",
    "    print(salobj.State(data.summaryState))"
   ]
  },
  {
   "cell_type": "code",
   "execution_count": 4,
   "id": "b3cde69c-2286-4930-8b57-47187d926b86",
   "metadata": {},
   "outputs": [],
   "source": [
    "async def print_rotator_position(csc):\n",
    "    \"\"\"\n",
    "    Print the rotator position in degree.\n",
    "\n",
    "    Parameters\n",
    "    ----------\n",
    "    csc : lsst.ts.salobj.remote.Remote\n",
    "        Remote object of the rotator CSC.\n",
    "    \"\"\"\n",
    "    data = await csc.tel_rotation.aget(timeout=15)\n",
    "    print(f\"Rotator is at {data.actualPosition} degree.\")"
   ]
  },
  {
   "cell_type": "code",
   "execution_count": 5,
   "id": "112b097d-8a2e-474f-9a93-8864fd107cd3",
   "metadata": {},
   "outputs": [],
   "source": [
    "async def print_rotator_latest_message(csc):\n",
    "    \"\"\"\n",
    "    Print the latest message of rotator.\n",
    "\n",
    "    Parameters\n",
    "    ----------\n",
    "    csc : lsst.ts.salobj.remote.Remote\n",
    "        Remote object of the rotator CSC.\n",
    "    \"\"\"\n",
    "    data = await csc.evt_logMessage.aget(timeout=15)\n",
    "    print(data.message)"
   ]
  },
  {
   "cell_type": "code",
   "execution_count": 106,
   "id": "2e6b9d74-abe3-4f9d-b637-e4da3af61675",
   "metadata": {},
   "outputs": [],
   "source": [
    "def script_log_start(controller_script, test_title, test_detail):\n",
    "    \"\"\"Log the start of test case in script controller.\n",
    "\n",
    "    Parameters\n",
    "    ----------\n",
    "    controller_script : lsst.ts.salobj.controller.Controller\n",
    "        Script controller.\n",
    "    test_title : str\n",
    "        Test title.\n",
    "    test_detail : str\n",
    "        Test detail.\n",
    "\n",
    "    Returns\n",
    "    -------\n",
    "    astropy.time.core.Time\n",
    "        Time object.\n",
    "    \"\"\"\n",
    "    time_now = datetime.now()\n",
    "    controller_script.log.info(f\"START -- {test_title} -- LVV-T2539 -- {test_detail} -- Starting Time: {time_now} UTC\")\n",
    "    return Time(time_now.isoformat(), scale=\"utc\", format=\"isot\")"
   ]
  },
  {
   "cell_type": "code",
   "execution_count": 107,
   "id": "2c999d2f-f15c-4592-9a70-1ba4afc0c084",
   "metadata": {},
   "outputs": [],
   "source": [
    "def script_log_stop(controller_script, test_title, test_detail):\n",
    "    \"\"\"Log the stop of test case in script controller.\n",
    "\n",
    "    Parameters\n",
    "    ----------\n",
    "    controller_script : lsst.ts.salobj.controller.Controller\n",
    "        Script controller.\n",
    "    test_title : str\n",
    "        Test title.\n",
    "    test_detail : str\n",
    "        Test detail.\n",
    "\n",
    "    Returns\n",
    "    -------\n",
    "    astropy.time.core.Time\n",
    "        Time object.\n",
    "    \"\"\"\n",
    "    time_now = datetime.now()\n",
    "    controller_script.log.info(f\"STOP -- {test_title} -- LVV-T2539 -- {test_detail} -- Starting Time: {time_now} UTC\")\n",
    "    return Time(time_now.isoformat(), scale=\"utc\", format=\"isot\")"
   ]
  },
  {
   "cell_type": "code",
   "execution_count": 8,
   "id": "7db5c908-bf35-4764-a978-47d1faaece10",
   "metadata": {},
   "outputs": [],
   "source": [
    "def generate_tracking_target(position, velocity, period):\n",
    "    \"\"\"\n",
    "    Generate the tracking target.\n",
    "\n",
    "    Parameters\n",
    "    ----------\n",
    "    position : float\n",
    "        Initial position of target in deg.\n",
    "    velocity : float\n",
    "        Velocity of the target in deg/sec.\n",
    "    period : float\n",
    "        Period to track in second.\n",
    "\n",
    "    Returns\n",
    "    -------\n",
    "    list_position : list\n",
    "        List of the position.\n",
    "    list_velocity : list\n",
    "        List of the velocity.\n",
    "    \"\"\"\n",
    "    # 20 Hz is 0.05 s\n",
    "    delta_t = 0.05\n",
    "    number_total_commands = int(period / delta_t)\n",
    "    \n",
    "    list_position = [position + velocity * idx for idx in range(0, number_total_commands)]\n",
    "    list_velocity = [velocity] *  number_total_commands\n",
    "    return list_position, list_velocity"
   ]
  },
  {
   "cell_type": "code",
   "execution_count": 9,
   "id": "596d4468-6f38-42ca-8794-279e3f4204be",
   "metadata": {},
   "outputs": [],
   "source": [
    "async def slew_test(csc, position, est_time_wait, est_time_stop):\n",
    "    \"\"\"\n",
    "    Slew test. The rototator will move in the positive and negative directions.\n",
    "    It will stop in the final movement.\n",
    "\n",
    "    Parameters\n",
    "    ----------\n",
    "    csc : lsst.ts.salobj.remote.Remote\n",
    "        Remote object of the rotator CSC.\n",
    "    est_time_wait : float\n",
    "        Estimated time to wait of movement in second.\n",
    "    est_time_stop : float\n",
    "        Estimated time to stop in the final in second.\n",
    "    \"\"\"\n",
    "    # Move in one direction\n",
    "    await csc.cmd_move.set_start(position=position, timeout=60)\n",
    "    await asyncio.sleep(est_time_wait)\n",
    "\n",
    "    # Move back to the origin\n",
    "    await csc.cmd_move.set_start(position=0, timeout=60)\n",
    "    await asyncio.sleep(est_time_wait)\n",
    "\n",
    "    # Move to the other direction\n",
    "    await csc.cmd_move.set_start(position=-position, timeout=60)\n",
    "    await asyncio.sleep(est_time_wait)\n",
    "\n",
    "    # Move and stop before the end of movement\n",
    "    await csc.cmd_move.set_start(position=position, timeout=60)\n",
    "    await asyncio.sleep(est_time_stop)\n",
    "    await csc.cmd_stop.set_start(timeout=60)"
   ]
  },
  {
   "cell_type": "code",
   "execution_count": 10,
   "id": "efe2d6d8-c238-462e-8a7b-cb0b04e7b631",
   "metadata": {},
   "outputs": [],
   "source": [
    "async def track_target(csc, start_position, end_position, velocity):\n",
    "    \"\"\"Track the target.\n",
    "\n",
    "    Parameters\n",
    "    ----------\n",
    "    start_position : float\n",
    "        Starting position of ramp (deg).\n",
    "    end_position : float\n",
    "        Ending position of ramp (deg).\n",
    "    velocity : float\n",
    "        Velocity of motion along the ramp (deg/sec).\n",
    "    \"\"\"\n",
    "    # 20 Hz is 0.05 ms\n",
    "    track_advance_time = 0.05\n",
    "    ramp_generator = simactuators.RampGenerator(\n",
    "        [start_position], [end_position], [velocity], track_advance_time)\n",
    "\n",
    "    await csc.cmd_trackStart.start(timeout=15)\n",
    "    for positions, velocities, tai in ramp_generator():\n",
    "        await csc.cmd_track.set_start(\n",
    "            angle=positions[0],\n",
    "            velocity=velocities[0],\n",
    "            tai=tai,\n",
    "            timeout=5,\n",
    "        )\n",
    "        await asyncio.sleep(0.1)"
   ]
  },
  {
   "cell_type": "code",
   "execution_count": 11,
   "id": "e7a4f96d-cce4-43b2-8400-be0b1c8851b1",
   "metadata": {},
   "outputs": [],
   "source": [
    "async def track_slew_test(csc):\n",
    "    \"\"\"\n",
    "    Track slew sequence test.\n",
    "\n",
    "    Parameters\n",
    "    ----------\n",
    "    csc : lsst.ts.salobj.remote.Remote\n",
    "        Remote object of the rotator CSC.\n",
    "    \"\"\"\n",
    "    # 20 Hz is 0.05 ms\n",
    "    track_advance_time = 0.05\n",
    "    ramp_generator_1 = simactuators.RampGenerator([0.7], [1.5], [0.068], track_advance_time)\n",
    "    ramp_generator_2 = simactuators.RampGenerator([0.7], [0], [-0.068], track_advance_time)\n",
    "    ramp_generator_3 = simactuators.RampGenerator([5], [4.7], [-0.01], track_advance_time)\n",
    "    ramp_generator_4 = simactuators.RampGenerator([-5], [-4.6], [0.0042], track_advance_time)\n",
    "\n",
    "    # Track the first target\n",
    "    await csc.cmd_trackStart.start(timeout=15)\n",
    "\n",
    "    is_stopped = False\n",
    "    time_start = time.monotonic()\n",
    "    for positions, velocities, tai in ramp_generator_1():\n",
    "        await csc.cmd_track.set_start(\n",
    "            angle=positions[0],\n",
    "            velocity=velocities[0],\n",
    "            tai=tai,\n",
    "            timeout=5,\n",
    "        )\n",
    "        await asyncio.sleep(0.1)\n",
    "\n",
    "        # Stop the rotator in the tracking\n",
    "        delta_time = time.monotonic() - time_start\n",
    "        if (3 <= delta_time <= 3.5) and (not is_stopped):\n",
    "            await csc.cmd_stop.set_start(timeout=10)\n",
    "            \n",
    "            await asyncio.sleep(1)\n",
    "            is_stopped = True\n",
    "\n",
    "        # Allow the tracking again\n",
    "        if is_stopped:\n",
    "            await csc.cmd_trackStart.start(timeout=15)\n",
    "            is_stopped = False\n",
    "\n",
    "    # Track the second target\n",
    "    for positions, velocities, tai in ramp_generator_2():\n",
    "        await csc.cmd_track.set_start(\n",
    "            angle=positions[0],\n",
    "            velocity=velocities[0],\n",
    "            tai=tai,\n",
    "            timeout=5,\n",
    "        )\n",
    "        await asyncio.sleep(0.1)\n",
    "\n",
    "    # Track the third target\n",
    "    for positions, velocities, tai in ramp_generator_3():\n",
    "        await csc.cmd_track.set_start(\n",
    "            angle=positions[0],\n",
    "            velocity=velocities[0],\n",
    "            tai=tai,\n",
    "            timeout=5,\n",
    "        )\n",
    "        await asyncio.sleep(0.1)\n",
    "\n",
    "    # Track the fourth target\n",
    "    for positions, velocities, tai in ramp_generator_4():\n",
    "        await csc.cmd_track.set_start(\n",
    "            angle=positions[0],\n",
    "            velocity=velocities[0],\n",
    "            tai=tai,\n",
    "            timeout=5,\n",
    "        )\n",
    "        await asyncio.sleep(0.1)"
   ]
  },
  {
   "cell_type": "code",
   "execution_count": 12,
   "id": "3c727501-e927-4c64-b1ac-7828d8e544c2",
   "metadata": {},
   "outputs": [],
   "source": [
    "async def slew_supersession_test(csc):\n",
    "    \"\"\"\n",
    "    Slew supersession test.\n",
    "\n",
    "    Parameters\n",
    "    ----------\n",
    "    csc : lsst.ts.salobj.remote.Remote\n",
    "        Remote object of the rotator CSC.\n",
    "    \"\"\"\n",
    "    # 20 Hz is 0.05 ms\n",
    "    track_advance_time = 0.05\n",
    "    ramp_generator_1 = simactuators.RampGenerator([60], [62], [0.068], track_advance_time)\n",
    "    ramp_generator_2 = simactuators.RampGenerator([-60], [-62], [-0.05], track_advance_time)\n",
    "\n",
    "    # Track the first target\n",
    "    await csc.cmd_trackStart.start(timeout=15)\n",
    "\n",
    "    is_stopped = False\n",
    "    time_start = time.monotonic()\n",
    "    for positions, velocities, tai in ramp_generator_1():\n",
    "        await csc.cmd_track.set_start(\n",
    "            angle=positions[0],\n",
    "            velocity=velocities[0],\n",
    "            tai=tai,\n",
    "            timeout=5,\n",
    "        )\n",
    "        await asyncio.sleep(0.1)\n",
    "\n",
    "        # Break the tracking of this target to test the supersession of slew\n",
    "        if (time.monotonic() - time_start) > 8:\n",
    "            break\n",
    "\n",
    "    # Track the second target\n",
    "    for positions, velocities, tai in ramp_generator_2():\n",
    "        await csc.cmd_track.set_start(\n",
    "            angle=positions[0],\n",
    "            velocity=velocities[0],\n",
    "            tai=tai,\n",
    "            timeout=5,\n",
    "        )\n",
    "        await asyncio.sleep(0.1)"
   ]
  },
  {
   "cell_type": "code",
   "execution_count": 13,
   "id": "7aba4222-b353-4190-89c4-b7ef4c6223e6",
   "metadata": {},
   "outputs": [],
   "source": [
    "async def track_slew_multiple_stop_test(csc):\n",
    "    \"\"\"\n",
    "    Track slew sequence test with multiple stops.\n",
    "\n",
    "    Parameters\n",
    "    ----------\n",
    "    csc : lsst.ts.salobj.remote.Remote\n",
    "        Remote object of the rotator CSC.\n",
    "    \"\"\"\n",
    "    # 20 Hz is 0.05 ms\n",
    "    track_advance_time = 0.05\n",
    "    ramp_generator_1 = simactuators.RampGenerator([0.7], [1.5], [0.068], track_advance_time)\n",
    "    ramp_generator_2 = simactuators.RampGenerator([0.7], [0], [-0.068], track_advance_time)\n",
    "\n",
    "    # Track the first target\n",
    "    await csc.cmd_trackStart.start(timeout=15)\n",
    "\n",
    "    is_stopped = False\n",
    "    time_start = time.monotonic()\n",
    "    for positions, velocities, tai in ramp_generator_1():\n",
    "        await csc.cmd_track.set_start(\n",
    "            angle=positions[0],\n",
    "            velocity=velocities[0],\n",
    "            tai=tai,\n",
    "            timeout=5,\n",
    "        )\n",
    "        await asyncio.sleep(0.1)\n",
    "\n",
    "        # Stop the rotator in the tracking\n",
    "        delta_time = time.monotonic() - time_start\n",
    "        if ((3 <= delta_time <= 3.5) or (6 <= delta_time <= 6.5)) and (not is_stopped):\n",
    "            await csc.cmd_stop.set_start(timeout=10)\n",
    "            \n",
    "            await asyncio.sleep(1)\n",
    "            is_stopped = True\n",
    "\n",
    "        # Allow the tracking again\n",
    "        if is_stopped:\n",
    "            await csc.cmd_trackStart.start(timeout=15)\n",
    "            is_stopped = False\n",
    "\n",
    "    # Track the second target\n",
    "    for positions, velocities, tai in ramp_generator_2():\n",
    "        await csc.cmd_track.set_start(\n",
    "            angle=positions[0],\n",
    "            velocity=velocities[0],\n",
    "            tai=tai,\n",
    "            timeout=5,\n",
    "        )\n",
    "        await asyncio.sleep(0.1)"
   ]
  },
  {
   "cell_type": "code",
   "execution_count": 76,
   "id": "a0c039ec-3184-4c1f-b663-6de6e2538f2c",
   "metadata": {},
   "outputs": [],
   "source": [
    "async def plot_path_generator(efd_client, time_start, time_end, filename=None):\n",
    "    \"\"\"\n",
    "    Plot the data of path generator.\n",
    "\n",
    "    Parameters\n",
    "    ----------\n",
    "    efd_client : lsst_efd_client.efd_helper.EfdClient\n",
    "        EFD client.\n",
    "    time_start : astropy.time.core.Time\n",
    "        Start time.\n",
    "    time_end : astropy.time.core.Time\n",
    "        End time.\n",
    "    filename : str or None\n",
    "        Save the data to csv file if filename is not None. (the default is None.)\n",
    "    \"\"\"\n",
    "    # Get the data from EFD\n",
    "    data_path = await efd_client.select_time_series(\n",
    "        \"lsst.sal.MTRotator.rotation\", \n",
    "        fields=[\"demandPosition\", \"demandVelocity\", \"demandAcceleration\", \"actualPosition\", \"actualVelocity\", \"timestamp\"], \n",
    "        start=time_start, \n",
    "        end=time_end)\n",
    "\n",
    "    data_torque = await efd_client.select_time_series(\n",
    "        \"lsst.sal.MTRotator.motors\", \n",
    "        fields=[\"torque0\", \"torque1\"], \n",
    "        start=time_start, \n",
    "        end=time_end)\n",
    "    \n",
    "    # Realign the time origin to 0\n",
    "    time_operation = np.array(data_path.timestamp.subtract(data_path.timestamp[0]))\n",
    "\n",
    "    # Plots\n",
    "    plt.figure()\n",
    "    plt.subplot(5, 1, 1)\n",
    "    plt.plot(time_operation, data_path.demandPosition)\n",
    "    plt.plot(time_operation, data_path.actualPosition, \"x-\")\n",
    "    plt.title(\"Path Generator\")\n",
    "    plt.ylabel(\"P\")\n",
    "\n",
    "    plt.subplot(5, 1, 2)\n",
    "    plt.plot(time_operation, data_path.demandPosition - data_path.actualPosition)\n",
    "    plt.ylabel(\"dP\")\n",
    "\n",
    "    plt.subplot(5, 1, 3)\n",
    "    plt.plot(time_operation, data_path.demandVelocity)\n",
    "    plt.plot(time_operation, data_path.actualVelocity, \"x-\")\n",
    "    plt.ylabel(\"V\")\n",
    "\n",
    "    plt.subplot(5, 1, 4)\n",
    "    plt.plot(time_operation, data_path.demandVelocity - data_path.actualVelocity)\n",
    "    plt.ylabel(\"dV\")\n",
    "\n",
    "    plt.subplot(5, 1, 5)\n",
    "    plt.plot(time_operation, data_path.demandAcceleration)\n",
    "    plt.xlabel(\"Time (s)\")\n",
    "    plt.ylabel(\"A\")\n",
    "\n",
    "    plt.figure()\n",
    "    plt.subplot(2, 1, 1)\n",
    "    plt.plot(time_operation, data_torque.torque0, \"r\")\n",
    "    plt.plot(time_operation, data_torque.torque1, \"b-\")\n",
    "    plt.title(\"Motor Torque\")\n",
    "    plt.ylabel(\"T\")\n",
    "    \n",
    "    plt.subplot(2, 1, 2)\n",
    "    plt.plot(time_operation, data_torque.torque0 - data_torque.torque1)\n",
    "    plt.xlabel(\"Time (s)\")\n",
    "    plt.ylabel(\"dT\")\n",
    "    \n",
    "    print(\"Units: P (deg), V (deg/s), A (deg/s^2), Torque T (N * m)\")\n",
    "    \n",
    "    # Save the file\n",
    "    if filename is not None:\n",
    "        data_path.to_csv(path_or_buf=f\"path_{filename}.csv\")\n",
    "        data_torque.to_csv(path_or_buf=f\"torque_{filename}.csv\")"
   ]
  },
  {
   "cell_type": "code",
   "execution_count": 15,
   "id": "d9986542-6e9d-4a35-ab7d-461770c95ecc",
   "metadata": {},
   "outputs": [],
   "source": [
    "async def get_event_data(efd_client, time_start, time_end):\n",
    "    \"\"\"\n",
    "    Get the event data.\n",
    "\n",
    "    Parameters\n",
    "    ----------\n",
    "    efd_client : lsst_efd_client.efd_helper.EfdClient\n",
    "        EFD client.\n",
    "    time_start : astropy.time.core.Time\n",
    "        Start time.\n",
    "    time_end : astropy.time.core.Time\n",
    "        End time.\n",
    "\n",
    "    Returns\n",
    "    -------\n",
    "    data_controller_state : pandas.core.frame.DataFrame\n",
    "        Data of the controller state event.\n",
    "    data_in_position : pandas.core.frame.DataFrame\n",
    "        Data of the inPosition event.\n",
    "    data_tracking : pandas.core.frame.DataFrame\n",
    "        Data of the tracking event.\n",
    "    \"\"\"\n",
    "\n",
    "    # Get the data from EFD\n",
    "    data_controller_state = await efd_client.select_time_series(\n",
    "        \"lsst.sal.MTRotator.logevent_controllerState\", \n",
    "        fields=[\"controllerState\", \"enabledSubstate\"], \n",
    "        start=time_start,\n",
    "        end=time_end)\n",
    "    \n",
    "    # The inPosition field is a combination of Flags_moveSuccess and Flags_trackingSuccess in Simulink telemetry\n",
    "    data_in_position = await efd_client.select_time_series(\n",
    "        \"lsst.sal.MTRotator.logevent_inPosition\", \n",
    "        fields=\"inPosition\",\n",
    "        start=time_start,\n",
    "        end=time_end)\n",
    "    \n",
    "    # The tracking field is Flags_trackingSuccess in Simulink telemetry\n",
    "    # The lost field is Flags_trackingLost in Simulink telemetry\n",
    "    # The noNewCommand field is Flags_noNewTrackCmdError in Simulink telemetry\n",
    "    data_tracking = await efd_client.select_time_series(\n",
    "        \"lsst.sal.MTRotator.logevent_tracking\", \n",
    "        fields=[\"tracking\", \"lost\", \"noNewCommand\"],\n",
    "        start=time_start,\n",
    "        end=time_end)\n",
    "\n",
    "    # Add the column of time difference in seconds\n",
    "    add_column_time_differece(data_controller_state, time_start)\n",
    "    add_column_time_differece(data_in_position, time_start)\n",
    "    add_column_time_differece(data_tracking, time_start)\n",
    "\n",
    "    return data_controller_state, data_in_position, data_tracking"
   ]
  },
  {
   "cell_type": "code",
   "execution_count": 16,
   "id": "a78ebfd4-a879-4070-9ec4-2afd6317ad97",
   "metadata": {},
   "outputs": [],
   "source": [
    "def add_column_time_differece(data_frame, time_start):\n",
    "    \"\"\"\n",
    "    Add the column of time difference in second.\n",
    "\n",
    "    Parameters\n",
    "    ----------\n",
    "    data_frame : pandas.core.frame.DataFrame\n",
    "        Data frame.\n",
    "    time_start : astropy.time.core.Time\n",
    "        Start time.\n",
    "    \"\"\"\n",
    "    if (len(data_frame.values) != 0):\n",
    "        timestamp_start = pd.Timestamp(time_start.value, tz=\"utc\")\n",
    "        diff_time = data_frame.index - pd.Timestamp(time_start.value, tz=\"utc\")\n",
    "        diff_time_sec = [element.seconds + element.microseconds * 1e-6 for element in diff_time]\n",
    "        data_frame[\"time_difference\"] = diff_time_sec"
   ]
  },
  {
   "cell_type": "markdown",
   "id": "1f500072-b08e-463a-911f-2696aac1ebef",
   "metadata": {},
   "source": [
    "**Instantiate the EFD and CSC**\n",
    "\n",
    "Need to make sure **ospl** is running for the data distribution system (DDS) communication."
   ]
  },
  {
   "cell_type": "code",
   "execution_count": 17,
   "id": "45e04d50-73d5-446c-a463-0d31750d0ca1",
   "metadata": {},
   "outputs": [
    {
     "data": {
      "text/html": [
       "<pre style=\"margin: 0.1em;\n",
       "padding-left: 0.25em;\n",
       "border-left-style: solid;\n",
       "font-family: var(--jp-code-font-family);\n",
       "font-size: var(--jp-code-font-size);\n",
       "line-height: var(--jp-code-line-height);\n",
       "\"><span style=\"color: var(--jp-warn-color2)\">MTRotator</span> <span style=\"color: var(--jp-info-color0)\">INFO</span>: Read historical data in 0.20 sec</pre>"
      ],
      "text/plain": [
       "<IPython.core.display.HTML object>"
      ]
     },
     "metadata": {},
     "output_type": "display_data"
    },
    {
     "data": {
      "text/plain": [
       "<ddsutil.MTRotator_ackcmd_f04f56ad at 0x7f0bd17bca90>"
      ]
     },
     "execution_count": 17,
     "metadata": {},
     "output_type": "execute_result"
    }
   ],
   "source": [
    "is_summit = False\n",
    "efd_client = retrieve_efd_client(is_summit=is_summit)\n",
    "domain = salobj.Domain()\n",
    "rotator = salobj.Remote(domain, \"MTRotator\")\n",
    "await rotator.start_task\n",
    "await rotator.cmd_setLogLevel.set_start(level=10)"
   ]
  },
  {
   "cell_type": "markdown",
   "id": "b3b8ca1e-d9f9-4d53-a2f1-9cb7ba997ebd",
   "metadata": {},
   "source": [
    "**MTMount** controller is used to run the camera cable wrapper (CCW)."
   ]
  },
  {
   "cell_type": "code",
   "execution_count": 18,
   "id": "9021361d-4c5b-462d-a35a-787080c056af",
   "metadata": {},
   "outputs": [
    {
     "data": {
      "text/html": [
       "<pre style=\"margin: 0.1em;\n",
       "padding-left: 0.25em;\n",
       "border-left-style: solid;\n",
       "font-family: var(--jp-code-font-family);\n",
       "font-size: var(--jp-code-font-size);\n",
       "line-height: var(--jp-code-line-height);\n",
       "\"><span style=\"color: var(--jp-warn-color2)\">MTMount</span> <span style=\"color: var(--jp-info-color0)\">INFO</span>: Read historical data in 0.10 sec</pre>"
      ],
      "text/plain": [
       "<IPython.core.display.HTML object>"
      ]
     },
     "metadata": {},
     "output_type": "display_data"
    },
    {
     "data": {
      "text/html": [
       "<pre style=\"margin: 0.1em;\n",
       "padding-left: 0.25em;\n",
       "border-left-style: solid;\n",
       "font-family: var(--jp-code-font-family);\n",
       "font-size: var(--jp-code-font-size);\n",
       "line-height: var(--jp-code-line-height);\n",
       "\"><span style=\"color: var(--jp-warn-color2)\">MTMount.logevent_elevationMotionState</span> <span style=\"color: var(--jp-warn-color0)\">WARNING</span>: elevationMotionState DDS read queue is filling: 35 of 100 elements</pre>"
      ],
      "text/plain": [
       "<IPython.core.display.HTML object>"
      ]
     },
     "metadata": {},
     "output_type": "display_data"
    },
    {
     "data": {
      "text/plain": [
       "<ddsutil.MTMount_ackcmd_d68fb318 at 0x7f0bd16546a0>"
      ]
     },
     "execution_count": 18,
     "metadata": {},
     "output_type": "execute_result"
    },
    {
     "data": {
      "text/html": [
       "<pre style=\"margin: 0.1em;\n",
       "padding-left: 0.25em;\n",
       "border-left-style: solid;\n",
       "font-family: var(--jp-code-font-family);\n",
       "font-size: var(--jp-code-font-size);\n",
       "line-height: var(--jp-code-line-height);\n",
       "\"><span style=\"color: var(--jp-warn-color2)\">MTMount.logevent_target</span> <span style=\"color: var(--jp-warn-color0)\">WARNING</span>: target DDS read queue is filling: 11 of 100 elements</pre>"
      ],
      "text/plain": [
       "<IPython.core.display.HTML object>"
      ]
     },
     "metadata": {},
     "output_type": "display_data"
    },
    {
     "data": {
      "text/html": [
       "<pre style=\"margin: 0.1em;\n",
       "padding-left: 0.25em;\n",
       "border-left-style: solid;\n",
       "font-family: var(--jp-code-font-family);\n",
       "font-size: var(--jp-code-font-size);\n",
       "line-height: var(--jp-code-line-height);\n",
       "\"><span style=\"color: var(--jp-warn-color2)\">MTMount.logevent_target</span> <span style=\"color: var(--jp-warn-color0)\">WARNING</span>: target DDS read queue is filling: 87 of 100 elements</pre>"
      ],
      "text/plain": [
       "<IPython.core.display.HTML object>"
      ]
     },
     "metadata": {},
     "output_type": "display_data"
    }
   ],
   "source": [
    "mtmount = salobj.Remote(domain, \"MTMount\")\n",
    "await mtmount.start_task\n",
    "\n",
    "state_mtmount = await mtmount.evt_summaryState.aget(timeout=10)\n",
    "if state_mtmount != salobj.State.ENABLED:\n",
    "    await salobj.set_summary_state(mtmount, salobj.State.ENABLED, timeout=10)\n",
    "\n",
    "await mtmount.cmd_enableCameraCableWrapFollowing.set_start()"
   ]
  },
  {
   "cell_type": "markdown",
   "id": "3663f0fb-3799-4474-8763-17562baf6679",
   "metadata": {},
   "source": [
    "Put the rotator CSC into **Enabled** state before the test.\n",
    "At this moment, we need to do the workaround before DM-33967.\n",
    "At Tucson teststand, we can use *tts_test.yaml* to workaround the following error of rotator and camera cable wrapper (CCW)."
   ]
  },
  {
   "cell_type": "code",
   "execution_count": 19,
   "id": "efb04322-4e74-43ab-a12d-7a2f9538262c",
   "metadata": {},
   "outputs": [
    {
     "data": {
      "text/plain": [
       "[<State.ENABLED: 2>]"
      ]
     },
     "execution_count": 19,
     "metadata": {},
     "output_type": "execute_result"
    }
   ],
   "source": [
    "# \"tts_test.yaml\" is the configuration file at Tucson teststand to increase the tolerance in the\n",
    "# difference between the rotator and CCW\n",
    "settingsToApply = \"\" if is_summit else \"tts_test.yaml\" \n",
    "await salobj.set_summary_state(\n",
    "    rotator, salobj.State.ENABLED,\n",
    "    timeout=30,\n",
    "    settingsToApply=settingsToApply\n",
    ")"
   ]
  },
  {
   "cell_type": "markdown",
   "id": "9e2bbc33-d271-411d-a356-59dc2b87ca26",
   "metadata": {},
   "source": [
    "**Check the rotator condition**\n",
    "\n",
    "After each test case, execute this cell to get the **time_now**, which is used in the query of EFD data."
   ]
  },
  {
   "cell_type": "code",
   "execution_count": 101,
   "id": "9da4d932-3c1b-4a29-a4a8-b8a5e33ae6bb",
   "metadata": {},
   "outputs": [
    {
     "name": "stdout",
     "output_type": "stream",
     "text": [
      "Rotator is at -0.6890433003307858 degree.\n",
      "State.ENABLED\n",
      "run_command: sync_pattern=0x5555; counter=1192814; command=<CommandCode.SET_ENABLED_SUBSTATE: 32770>; param1=3.0; param2=0.0; param3=0.0; param4=0.0; param5=0.0; param6=0.0\n"
     ]
    }
   ],
   "source": [
    "await print_rotator_position(rotator)\n",
    "await print_summary_state(rotator)\n",
    "await print_rotator_latest_message(rotator)"
   ]
  },
  {
   "cell_type": "markdown",
   "id": "83272968-a4ed-498b-af5a-74ac85bb1a43",
   "metadata": {},
   "source": [
    "**Put the rotator back to origin**\n",
    "\n",
    "Before each test, put the rotator back to origin.\n",
    "This is easier for the data analysis."
   ]
  },
  {
   "cell_type": "code",
   "execution_count": 119,
   "id": "34ae86ed-9a2e-4cfd-b7bc-2c188a6ca637",
   "metadata": {},
   "outputs": [
    {
     "data": {
      "text/plain": [
       "<ddsutil.MTRotator_ackcmd_f04f56ad at 0x7f09346b2970>"
      ]
     },
     "execution_count": 119,
     "metadata": {},
     "output_type": "execute_result"
    }
   ],
   "source": [
    "await rotator.cmd_move.set_start(position=0, timeout=60)"
   ]
  },
  {
   "cell_type": "markdown",
   "id": "e3bad4e6",
   "metadata": {},
   "source": [
    "**Setup the Script**"
   ]
  },
  {
   "cell_type": "code",
   "execution_count": 102,
   "id": "71e075e3",
   "metadata": {},
   "outputs": [
    {
     "data": {
      "text/html": [
       "<pre style=\"margin: 0.1em;\n",
       "padding-left: 0.25em;\n",
       "border-left-style: solid;\n",
       "font-family: var(--jp-code-font-family);\n",
       "font-size: var(--jp-code-font-size);\n",
       "line-height: var(--jp-code-line-height);\n",
       "\"><span style=\"color: var(--jp-warn-color2)\">Script</span> <span style=\"color: var(--jp-info-color0)\">INFO</span>: Read historical data in 0.00 sec</pre>"
      ],
      "text/plain": [
       "<IPython.core.display.HTML object>"
      ]
     },
     "metadata": {},
     "output_type": "display_data"
    },
    {
     "name": "stdout",
     "output_type": "stream",
     "text": [
      "Time to start the verification is 0:00:10.101490 [s]\n"
     ]
    }
   ],
   "source": [
    "time_start_verification = datetime.now()\n",
    "test_title = \"Rotator New Trajectory Verification Test\"\n",
    "script = salobj.Controller(\"Script\", index=10)\n",
    "\n",
    "# Wait 10 second may help with DDS problems; closing all other kernels may help too\n",
    "await asyncio.sleep(10)\n",
    "print(f\"Time to start the verification is {datetime.now() - time_start_verification} [s]\")"
   ]
  },
  {
   "cell_type": "markdown",
   "id": "ff9f0d62-42bd-407a-a40d-a4921b045567",
   "metadata": {},
   "source": [
    "**Test Case (small slewing test)**\n",
    "\n",
    "Test the positive and negative directions."
   ]
  },
  {
   "cell_type": "code",
   "execution_count": 111,
   "id": "b8aeac24",
   "metadata": {},
   "outputs": [
    {
     "data": {
      "text/html": [
       "<pre style=\"margin: 0.1em;\n",
       "padding-left: 0.25em;\n",
       "border-left-style: solid;\n",
       "font-family: var(--jp-code-font-family);\n",
       "font-size: var(--jp-code-font-size);\n",
       "line-height: var(--jp-code-line-height);\n",
       "\"><span style=\"color: var(--jp-warn-color2)\">Script</span> <span style=\"color: var(--jp-info-color0)\">INFO</span>: START -- Rotator New Trajectory Verification Test -- LVV-T2539 -- small slewing test -- Starting Time: 2022-03-21 13:27:28.814683 UTC</pre>"
      ],
      "text/plain": [
       "<IPython.core.display.HTML object>"
      ]
     },
     "metadata": {},
     "output_type": "display_data"
    }
   ],
   "source": [
    "time_start = script_log_start(script, test_title, \"small slewing test\")"
   ]
  },
  {
   "cell_type": "code",
   "execution_count": 112,
   "id": "94abea8c-858d-4b60-b19a-42315434f9c1",
   "metadata": {},
   "outputs": [],
   "source": [
    "await slew_test(rotator, 0.7, 2, 0.1)"
   ]
  },
  {
   "cell_type": "code",
   "execution_count": 113,
   "id": "d26db438",
   "metadata": {},
   "outputs": [
    {
     "data": {
      "text/html": [
       "<pre style=\"margin: 0.1em;\n",
       "padding-left: 0.25em;\n",
       "border-left-style: solid;\n",
       "font-family: var(--jp-code-font-family);\n",
       "font-size: var(--jp-code-font-size);\n",
       "line-height: var(--jp-code-line-height);\n",
       "\"><span style=\"color: var(--jp-warn-color2)\">Script</span> <span style=\"color: var(--jp-info-color0)\">INFO</span>: STOP -- Rotator New Trajectory Verification Test -- LVV-T2539 -- small slewing test -- Starting Time: 2022-03-21 13:27:54.533887 UTC</pre>"
      ],
      "text/plain": [
       "<IPython.core.display.HTML object>"
      ]
     },
     "metadata": {},
     "output_type": "display_data"
    }
   ],
   "source": [
    "time_stop = script_log_stop(script, test_title, \"small slewing test\")"
   ]
  },
  {
   "cell_type": "code",
   "execution_count": 122,
   "id": "3ce0d6a8-2974-4996-ac3a-f8ed099344c0",
   "metadata": {},
   "outputs": [
    {
     "name": "stdout",
     "output_type": "stream",
     "text": [
      "Units: P (deg), V (deg/s), A (deg/s^2), Torque T (N * m)\n"
     ]
    },
    {
     "data": {
      "application/vnd.jupyter.widget-view+json": {
       "model_id": "7c102383ad57423d91c5df2156b0bcc2",
       "version_major": 2,
       "version_minor": 0
      },
      "image/png": "[encoded data removed]",
      "text/html": [
       "\n",
       "            <div style=\"display: inline-block;\">\n",
       "                <div class=\"jupyter-widgets widget-label\" style=\"text-align: center;\">\n",
       "                    Figure\n",
       "                </div>\n",
       "                <img src='data:image/png;base64,iVBORw0KGgoAAAANSUhEUgAAAbAAAAEgCAYAAADVKCZpAAAAOXRFWHRTb2Z0d2FyZQBNYXRwbG90bGliIHZlcnNpb24zLjUuMSwgaHR0cHM6Ly9tYXRwbG90bGliLm9yZy/YYfK9AAAACXBIWXMAAAsTAAALEwEAmpwYAABsgUlEQVR4nO2dd3hc1Zm432/6qMuS5d4AGzDGNNMCmE6AkCWhJJBKNvtjs9m0zWY3yaaR7JJND+kJWViyCYRAAgkh9GocIGAbXLAxtnGVXCRbXdPn/P6499y5M5qRRrLajM77PHpGc+fec8+55XznK+c7opTCYDAYDIZSwzPeFTAYDAaDYTgYAWYwGAyGksQIMIPBYDCUJEaAGQwGg6EkMQLMYDAYDCWJEWAGg8FgKEmMADMYDAZDSWIEmMFgMBhKEiPADAaDwVCSGAFmMBgMhpLECDCDwWAwlCRGgBkMBoOhJDECzGAwGAwliRFgBoPBYChJjAAzGAwGQ0liBJjBYDAYShIjwAwGg8FQkhgBZjAYDIaSxAgwg8GFiCgROWq862EwGAbHCDBDySMiO0QkIiI9IrJfRP5XRKqKOO4ZEfmHwzz3QhG5W0RaRaRLRLaIyI9EZPbhlDsaiMgNIrJyvOthMIwURoAZyoW3K6WqgJOBU4EvjvYJbU3tb0ALcJJSqgY4C9gGnD3a58+pi68czmEwDAUjwAxlhVKqGXgYWCIi9SLyoK0dtdv/zwYQkZuBc4Af25rbj13FXGRrUu0i8hMRkQKnuwn4q1Lq00qpPfb5DyilblFK3a13EpErRORVEekQkedFZKnrtx0i8hkRWScinSLyOxEJDeHYz4rIOqBXRHwi8jkR2SYi3SKyUUTeae97LPBz4Ey7vR329loR+T/7Gu0UkS+KiMf+7QYR+auIfF9EDtntNRgmDEaAGcoKEZkDXA68gvV8/y8wD5gLRIAfAyilvgA8B3xMKVWllPqYq5grsLS4E4B3AW8tcLqLgD8MUp+TgduBfwQagF8AD4hI0LXbu4BLgQXAUuCGIRx7PfA2oE4plcTS/s4BaoGvAr8RkRlKqU3AR4AX7PbW2cf/yN73COBc4APAh1zlnw68CTQBNw/UVoNhrDECzFAu/NHWKlYCzwJfV0odVEr9QSnVp5TqxuqAzy2irG8opTqUUruAp4ETC+zXCOzTX0TkY7am1CMiv7Q3/z/gF0qpvymlUkqpXwEx4AxXOT9USrUopQ4Bf3adr9hjdyulIgBKqXvtstJKqd8BW4DT8lVeRLzAu4HPK6W6lVI7gO8C73ft1qKU+pFSKqnPYTBMFIwAM5QL71BK1Sml5imlPqqUiohIhYj8wjaNdQErgDq74x6Ifa7/+4BCASEHgRn6i1Lqx7ZmcwvgtzfPA/7VFmwdtpCdA8ws4nzFHLvbXSER+YDL5NgBLMEStPloBALATte2ncCsQuUbDBMJI8AM5cy/AkcDp9sBFsvt7dqnpQ6z/CeBqwbZZzdwsy1c9V+FUuq3RZRfzLFOG0RkHvBL4GNAgy1MN1C4vW1AAktQauYCzfnKNxgmGkaAGcqZaiy/V4eITAG+kvP7fizfz3C5CThHRL4nIrMARKQRONa1zy+Bj4jI6WJRKSJvE5HqIsof6rGVWAKn1a7Lh7A0MM1+YLaIBACUUingHuBmEam2BeCngd8U2X6DYVwxAsxQztwChLE0jReBR3J+/wFwjR1t+MOhFq6UegPLHzUbWCsi3cBfscLqv2TvswrLl/VjoB3Yih2kUUT5QzpWKbURy4f1ApawOt6uj+Yp4DVgn4i02ds+DvRiBWqsBO7CChwxGCY8opSxEBgMBoOh9DAamMFgMBhKEiPADAaDwVCSGAFmMBgMhpLECDCDwWAwlCRGgBkMBoOhJCnb7NKNjY1q/vz5412N8aVnPyDQYyd6qF9AsrsVX7xzgIMERKB6Rua4qumAgqppo1xhg8Ew3qxevbpNKTV1vOtRDGUrwObPn8+qVavGuxrjx8pbwOODld9DnfVdUk/+J970Pjslw8BLZSkATx/inwbnfhZWfg+uvQMWLB/wOIPBUPqIyM7B95oYTAgToohcKiKbRWSriHwuz+/n2UtNvGr/fXk86lkyuIRX5OQbST1+E750LJNPyOO3/iDzJz4U0OupQQBJJ+gJTc8IL12uwWAwTBDGXYDZiVV/AlwGLAauF5HFeXZ9Til1ov33tTGtZKkx62RY+T16Tvh7Aiu/iUclAVC2CJN0AhEP4g1awsrjR1QS8fipTHeh8KCAqs43aAvPt8q89wZbKN4yDg0yGAyG/oy7AMNa6mGrUupNpVQcuBu4cpzrVJqsvAW2r4AFy+m59AeEX/guotJ4LCmFeAMw61Tw+EGl4Yjz4JKbYfpSmLXMKsPrRxZeDLaG1tC2mtSvr4azP21pY7NOHr/2GQwGg4uJIMBmkb1kwx6yl3PQnCkia0XkYRE5bmyqVkJos+G9N5De9gxbH/5xRnj5qyBQBRd+GdrfhItughPfC/PeAm/5GNz4FBz7djjpvXDhTdC8Cnn/faTmnoMIeFJx0k9/PeMH277CaGIGg2HcmQgCLN9y7bkJGtcA85RSJ2CtIPvHvAWJ3Cgiq0RkVWtr68jWcqJjmw05+9Ok7ryOEyMvIgJMORL8wUwwxtmfhnQS/u4HcPanMsef/Sl4+w+s32yfl69tI4n6hYhAKhEhOv0US3gZc6LBYJgATAQBtgdrkT7NbKxs3g5KqS6lVI/9/0OA3162gpz9blVKLVNKLZs6tSSiQEcGLUiuvYPUs9/Gm7IXzq2aAZ9YYwkkt/ByC65c9G/33gBnfxp/7BC9lXPxkyb5neOc7cacaDAYxpuJIMBeBhaKyAJ7naLrgAfcO4jIdBER+//TsOp9cMxrOlGZdTLcewMqrehKCB4BhQdJ9Do+Ma69Y3DhpWlekxFS195B5b+tJyYhqlLtRL1VJjLRYDBMCMZdgCmlklgryD4KbALuUUq9JiIfEZGP2LtdA2wQkbXAD4HrlFkHxsKlfaV/czX16XbSeBCf3zIb3ntDRogVI7zA2k+bEm2fl99vBXWEuneSPuICa797bzBamMFgGDfKdj2wZcuWqUkxkdn2SfWc8PdUvvBtBFC+MHLBF4s3GxZRPmd/mtTjX8GrkihA/BXwnt9Z+zSvGX75BoNhQiEiq5VSy8a7HsUw7hqY4TBwaV/hF74DypqkLKRhxtKhmQ0L4TInei/+Kik8lpBMxmDvOqOFGQyGccMIsFJEz/eyfV87H/8pXhQiIB4fXPBlS7DA4WtGbnPijKWIx8rYoVQK9dTXjC/MYDCMG0aAlRqu+V4Azaf8G3ObH7aEijcAXn9G+2peMzLndEUmei76Cmnx4wHSyUS2FmbmhxkMhjFkQgiwInIhioj80P59nYhMTpuVK8chZ3+a1N3vp+m5/7ASyANy1qfgujtHTvty07zG0cK8gTApPHhJk37sixktzMwPMxgMY8i4B3HYuRDfAC7GmhP2MnC9Umqja5/LgY8DlwOnAz9QSp0+ULlDDuJYeQu0b4clV1uddft26NoLh7ZDsBqWXAUb7oNYd+aYsd4eqoH962HBeaR3rIRELx7skPnln4FVt2WEyWgEVuiAjmvvILX1abx//R4AMU8lAUkiJ70P1v4Wmo6DqL1ky7y3wPFXw/o/ZMqZssAEfRgME5RSCuKYCALsTOAmpdRb7e+fB1BK/bdrn18Azyilfmt/3wycp5TaW6jcIQuw7Svg7vda/5/7WXj6Zkj0Wd89fkgnMp+acdiuvEHS6TSedAIRK0GvBKstzQscATMqS5+svCUTsHHvDSRP/ACe579vC1ELWXQZvPGwqw0+EK+Ve1E84LOzgqSTVlkmgtFgmFCUkgAryoQoIiER+ZSI/FhE/lFERnIdsWJyIRabL3H4LFgO191JKpkg9fhXSCWiKCCNB5VOWD6mdII0Mq7bScXwKkt4pQM1lvDS871gZH1fubizdFx7B76FFyDBGtLY+cAUqDcezmlDEpWKkbY/U3POtEyg2o9nTI4Gg2GYFOsD+xWwDFiPtezJd0ewDsXkQixmn8PPhbhgOXvDC/GqJF7SCOCxP/Wfx16UZDy2p5DMml618/Doycp6vlfzmqFNWB4O2hcGcO8NyLmfxROsIRVqsKIgC7TB2bb1UXqSPtRz38tk+zBCzGAwDINiBdhipdT7lFK/wMqKcc4I1mHQXIhF7nP4uRC3r2BWfDvKF8os+KjDxvWfvfDjmG/3+PBpmS0+JNqeEQCHO1l5KJz9KUtIutNNnftZvCphmQoBJZ48bbBEbwIvVfH9JCIdpJ79thFiBoNh2BQrwBzHjJ36aSQZNBei/f0DdjTiGUDnQP6vYWH7wEQEueBLiNdvr0xsLfSYtfDjeGxP25fdG4SLv2r9/+w3x1Z4udHzw87+tFWPdBIClbDoMkSlM23wheyFMxWIBz8pEp4wAVIQ6yD17LeMEDMYDMOiWF/WCSLSZf8vQNj+LoBSStUMtwJKqaSI6FyIXuB2nQvR/v3nwENYEYhbgT7gQ8M9X0Ga11gRfzoKcem7Jl4U4pQFUD3DEhbX3WlF9o2H8NKc/SlL4Cy5yvqur51KW9cNrDrvegGmHw/71yN18/C3vUHKX4030U0q1kl6xbfxLP+37CTBBoPBMAjjHoU4WkyaXIgTHR252LwmM4dt8Ttg7W9JekP4oodI4MEXrkPe9avMgpkmOtFgGBfKLgrRYBg22mfmNjlu/COc/wV8HiHur8FPmt5YKiO8TH5Fg8FQBEaAGcYOtxCzg08Cfj8xT5iqdCdd3z8jM48NjD/MYDAMiBFghrElV4hdewee636DAmo6N5GYd661n9HCDAbDIIyrABORKSLyuIhssT/rC+y3Q0TWi8irImIcW6VOzoKZfn8A5fED4N10v5URxWhhBoNhEMZbA/sc8KRSaiHwpP29EOcrpU4sFeeiYRC0b8z2eXkuuok0ggdFOuFaa8yE1hsMhgKMtwC7EivLB/bnO8avKoZxwZXlHm/QmqqdjqGe/FrGzGhMiQaDIQ/jLcCm6QnJ9mdTgf0U8JiIrBaRG8esdobRx73W2Pvupa9ilpUcOBW3JkgbU6LBYCjASCblzYuIPAFMz/PTF4ZQzFlKqRYRaQIeF5HXlVIr8pzrRuBGgLlz5w6rvoZxwJVfsTLV7ZgSoxIkBJnIRDM/zGAwuBh1DUwpdZFSakmevz8B+0VkBoD9eaBAGS325wHgfuC0AvsdXi5Ew/jgznJ/7meRQBVpIBhpJf1/7zALZhoMhryMugY2CA8AHwS+YX/+KXcHEakEPEqpbvv/S4CvjWktDaOPKzmwXH8Xfev+TOUrt0I6Rfy3HyCQ6oOT3met09Z0HLxir382UdJ8me3Fb69stP7vbZs4dSqX7ZWNVro5sNK4lfmae+OaSkpEGoB7gLnALuBapdQhEZkJ/I9S6nIROQJL6wJL4N6llLp5sLJNKqkSJGfBzJ5F76Ty1f+xEm4CIMiiS3MWzJw4i42a7UPYnvv/RKhTuWz3BjMLx+r8okNY4LaUUkmVdS7EpUuX8uCDD9LU1MSGDRsOu8xdu3bxD//wD+zevRsR4aGHHmL+/PmHX1lDBp1KyjYbqt++BxXvzlr1WeFBSDufONtxhJ17ATmzfWJun4h1KpftXbOWU9v+2rBWZy8lATbeUYijyg033MAjjzwyYuV94AMf4N/+7d/YtGkTL730Ek1NhYImDcMmd8HM8z6HJ1hDIlDrWhyz0GKjEMePx7VNb48RMNsn2PaJWKdy2V7bvAKWfXjIwqvUKGsBtnz5cqZMmZK1bdu2bVx66aWccsopnHPOObz++utFlbVx40aSySQXX3wxAFVVVVRUVIx4nSc9BRbM9IsC8dqLY+ZbMBPw+Ahim1LceHyEiJvtE237RKxTWWxPwNJ3w6rbLItGGVO2JkQRaQV2AgFgIfCa/dMie3sMqARmAW/kHN4ItOVsq7O3KyAIdGGtFF0O5GvvuDOzWqYphZpeJTOxLSa9cbqrg9TpfRQoAdGfg25XKJEh7G+2j8r23P8nQp3KZbsCpRTpfT2qZVqVzNjenn6zM4Yr6mNQ5imlSiKMu2wFmEZE5gMPKqWWiEgV0Apsdu0SVEodKyJXkYluPBLYZv/frJR6q4hcA9wGnIQVcPI74CGl1G1j0Y7RRERWlYrN+3AxbS1fJlN7J1NbB2K8w+jHGg/QoZQ6MfcHpdR9wH1Q8OHYA7yilHrT3uePwBlYQs1gMBgMY0xZ+8ByUUp1AdtF5FoAsTihyMNfBupFRKvWFwAbR6GaBoPBYCiCshZgIvJb4AXgaBHZIyIfBt4LfFhE1mL5xa7Mc+ituRuUUingM8CTIrIeywb9y1Gr/NjSr71ljGlr+TKZ2juZ2lqQsveBGQwGg6E8KWsNzGAwGAzlixFgOYjIpSKyWUS2ishAC2yWPOW+0rWI3C4iB0Rkg2tbUauAlxoF2nqTiDTb9/dVEbl8POs4UojIHBF5WkQ2ichrIvJJe3vZ3dsB2lqW93aolK0JsbGxUZk0T+VNLJnG6xF8Hun3WzyZtibs+YY2RksrRWckQX1FYIRqadDkSyVlmHisXr26rVTmgZVtGP38+fMxyXzHj/1dURqrgnjzCJeR4vSvP8Eli6fzn+9Y0u+3G/73JboiCe776FlDKvP3q/fwmXvX8pXrT+LtJ8wcqaryyIa9VAR8LF80MfqFtbs7qAx6OaqpOmv7L57dxoy6MH83Qm1v7ojw6IZ9vPeMuZzx9Sf52pVLRvS6jhR3/HU796zaw0OfPIfnt7Vx8tx6Qn7veFdrXBCRneNdh2IxJsQhsKOtlw/e/hKdkcTgOwOv7u7gnG89RWdfcfuXC519CZZ/62keXNcyaueIJVPs74qx61Bf3t/bemK09cSHXO5uu7xbV7zJSFonvv3oZn6xYtvgO44R//77dXzrkc39tt/+1+088GrziJ3nwbUtfO3BjbzZ2kt7X4I3W3sHPWZvZ4RrfvY8B3tiBff5/eo9vLT90IjV86Y/b2Tj3i72dUZ5zy//xp9yroFSit++tGvE3uXX93VxqHfoz6chm5IRYPls/GPNi28e5Nk3WnnxzYNF7f/KrnZ2H4oU7GQnAq3dMXa0WZ1KPJnm0ltW8NTr+w+rzL1dEWLJNHvaIyNRxSze2N/Nmf/9JBuaOwHY1xnNu19nJFH0QMNNS4dV5/XNnazZ1T78iuawvytGxzA7vw3Nnbznly8e9n1x09IZoTuazNoWT6Y50B2jL54asfNEElZZ+j71xpMD7Q5Y2uGqne1s3m9lP3pp+yEefW1f1j7feXQzv3h2ZAYEbqF0oNuqZ3vOvdp5sI/P37eeP6wZmexxH7jtJX769NYRKctNTyzJY6/tY39X/vei3CgZAQbcAVw6VidLptLctnI7ba5R4EF7xPTKro6iyjjQbR07nI50tNne1kssmeLanz/Ped95hnRa0dYT4/V93by6u/Owyj5kaz5do9Duzfu62dsZ5anXrcW79xV4UTv6EnRFE6TTQ9OimjsiTKsJArD1QA9gjb4PRxvriSXpiSWHJcC2tfZw/S9f5IU3D/LhX60aESHWF0/SHU3Sl8gWVPs6oyiVETojgS5rrxZgscEFmL5OEVuQ/vDJLXz70WxtsTee5M22XrqiCV7ecXia2LNbWp3/tVbUl1NP/ZwNNhj9zYs7OesbT5Ea5Lnr6Es4/UkuW/Z38/q+rgGPj8RTvP+2v/HG/uwUh3va+7jx16tZtWPkBl8TmZIRYEqpFcDI2QwG4Y7nd/CfD27k/17ImINbbYH06u7iHg69f1d0YgmwSDzFZT9YwT2r9rDjoPVCrt3T4by8nX3FmzbiyXS/zl2/mKPR7j57BL9mZwdgDQ4iORpDKq3ojiZRin5axpf+uIHP/WFdwfJbOiIsnlEDQFfEOva2ldu5+PuFs3q39cQ499tPs3lf/nypejQ8nIHMyi1tdEeT/PljZ+MRGZGO6UCX9VxGcrShZlv7zL2eK95oZXtbxvQXTaT44ZNbiBYh6KJxLcCssosSYPZ10prgrkN9WXVSStEXT7HrUB/v+vkLXPvzF4gnrXXhfvjklgGFfDKV7mcGfMYeDAG0289+Tyy7bXowOpgAe2HbQZo7IjQPYH1IptLEU2m6C7wf/3rvWj5/3/oBz7PrUB/PbWnj8Y3ZbdXXrCIwOfx3JSPAxor23jgbmjv55XNvAtbLsq21h837up2Oed2ezkFHWDBxNbCOSJxoIk1rd8zprJ/YtN8RYB1F1rcvnmTRFx/mx09lm0IcQThC7XYLyF67Y1m7p8PZtq8ryt7OCJ/47Sv0xZNZml9HJFsYb2jpZENLfg0znVa0dERZNK0aj2QE8Ma9XWw90EMqrUim0lzxo+f43cu7nOM27+tm58G+gqNmLcB6YkkSqXTefQrRY3f4C6dVUeH3joh2pOuTayrUAsy9vaUjwgduf4kLv/sMd79ktfmFbQf53uNvFGVK74tna2C5giEf+rmJJFIkU2laOiJZ7Y4l06TSilRa8bo9aIjEUyil+Pmz23hw3d6CZd/10i7O+87TWfdh+8GMcD7Uq4VntqA9UKQGps2eWw5kBjN/XtvCPat2O9+jtrDVg6tUWvE3+1p2RxNsaO5kb8fAJsCemFVPrYGl7WdTC/qwEWClh4jcKCKrRGRVa2vr4Afk4afPbOWKH610hE9bT4yv/Ok1PnPvWtrsbX3xVD/VPR+OBpbTkffEkjyyYe+wzFIHuqJD7gQf37ifVS4zi9YsookUATvM/ImNB4YsePR+3308ezUaRwOLDD7aLoZ3/PR5fvDEFiDTsbg72X2dUZ5+vZUH1rbwxv6erPrntqUvlnKEYC5tvTHiqTSz6sPUhP3OfdPXpTuaYPXOdjY0d/HM5szzpf0muZpLNJHi5r9szNLMcuvz4LoWnttS+FntjiYJeD0EfV7CAW+/c6zf0znk52h/t9bAsstqySPAXthmdawhv5fH7NG+FkbFPCcZE+IQNDCXCXFvZ5RkWmXVNZ+Pri+RpCuapC+eGlAz3NMeob0vkaUhtfXEqAlZAdntvVoDy65na09GAytklo4lU44/WZufwTIr3rriTee7rp8WYE+/foB33/oi6/d0smZXB2llnW8g87ceCLyx3zrP/6x8k0t/8JzRwEoZpdStSqllSqllU6cOL1z5nSfN5hfvP4XH/2U5x0yvprU7zu72PnYc7OVgb4yjmqoA2LQ3e7Td0RfntJufyHL8t3bnf9F/+vRWPvKbNazYMvgSXE+/foCf2M7eDc2dnPb1J7l95fasfQ4M4rD9f/+3imt+/oLzXZsu+uJJ52XavL+bN1t77LYUq4Hl7yjaR1ADS6cVrzV3OgOGXtc5xY7Q398VdUbG3dHs4I3ctvTGk/06J43u1GbVhakJ+emyO5iDPZn26E7cLZT2d2UGNm5e3d3BL5/bzm2u++WuTyqt+Nhdr/D+214q2P6eWIIqu3OtCHizzrFlfzdv//FKVm4d2lJuBwpoYFqAuQXA89sOUl/h56S5dY55TfuDivFxRnN9YAMEcSRTaeLJNJ221twXT7G73bqvkUTKEdT5hGAkniqoWYJlWnxy035nALTTfl6UUrR1x5nbYC1Oe6gvnreMVvse60CXfGxv6yVpC50tLgEWSaRo6Yg49dfCWD+HurwNLZ28bEdWptKqoI/MfQ22tVqWgTdbe9ne1uu0zwiwScrimTW89bjpHNVUzdTqIK3dUfZ2RumOJtl5sI9F0ywB1hVJcKg3zmd/v45/vmsNe9ojHOiOOYItmUoX9AXpcdWzmwfXEu9ZtZvbVm4nmkjxybtfAXDMJgB3/W0Xp339SVbvHNw3oh/uLkeApeiLp5zJvhtarLoXK3jco+Iv/XEDX/6TFSB6aAR9YIf64iTTyqmT27l+5FTrXuztjDrh793RZJYJtDOSyPI1ROKpfg56TYtttplZF6Ym7HPO6ZhW+xI8ttGKhttxsNdpv+44c817ers7GrPTZdJ0m0EL0R1NUhW0BFgox4SoNfzWAh1qIdz1dY/yMybEpBO48sK2Ns48soH6ioAjfPfbwqgrOrg2lRuFWGjwAPDVP2/khv99yaWBJZ37ChBNpLPKdNNna2vWcf1/v23ldh5ctzfjV7PNhr3xFJFEijn1lgArpIEd6I45A6adB/NPBdDaUGNVMEuA9cYszVA/T1qo63NoM/fmfd1ZASlas9dtcrsteuxrH0+m2Xmwl+5YkpTrPQkHynaKbxYlI8AKZJYfVabaD6J2EMeSaeY3VAJWx/KlP23gd6t285d1ex1zgH6ADvbG0ZadzhxTmtd+E57fNvjIeV9XlJ5YktdaOtlmz6HRo7y+eJL/uN9y9m5zvTCF0IEP2rQXsV9eLQh0aHpHkUEc7lHqr1/c6QS8HOwdOd9fbgCEWwOb31BJdcjH/q4oOw9Z1yZXA3tkwz5O+trjTufcG0/SG0/lNc80d1id5ax6WwNz7qXVnrV7Oth9KMI5CxtJq4yfIxMUkV+AuXFrYCvesAYwM2tDBdvf4xJgFTkmxG67AyzGLJddr4zAiyYz5elrlFbWs77rUB8tnVHOPMISYLkaWFEmRLu++lkZqK6b93WzobnTuUZ98RS7D2WEvxZcugxxzZGPJlLss82UuQIunVZ0RROWILFNbzvt4CXtFpgzxdbAdBRiPMltK7fzrUdeByxhcvQ0a9J3IT/YG/u68XqEixc3se1Aj6Nx6bY7QTKOCTGBUhmhs2rnIV7Z3cHJc+usc9r3SSnFJbc8y89d0wbcAvaN/T2OQNPtqZgkk7BLRoAppa5XSs1QSvmVUrPHYiXkqdXBfqaE6bUhQn4P3bEkuw5mHmRtI9fC4YCrk8h90bVG8Pq+bsdsU4j9nVHiybTjXPZ6xHlIf+2KkMztLFs6Iiz/1tNZdfzbdsuf4dbAovGUYxZ1B50UE35eyBzkaGCRxGFPBtbX0dHAXOecVhNkek2IvZ0Rp53d0WRWFOWKN1pJphVb9neTSitnFJ8bQg6WBlYd9FET8tsmxIRtZrWO2bTXEliXHz8DyGjChUxX+zozz8CsujCQX4AFB+hsumNJlwnRl9V+3WkVExjhxv2s6DorpWjpiBDwWl1CxCU8Fk2rpr7CT2ckQSqtMoOKIkzNkUS2v7aQ/xEsIdEVTWZ19G5hoTt+XeePX7CQG94y39mmr3fuQKI7ZkWk9sYzUwd0uXqazJx66/7oZ7c3luKx1/Zxz6o9dt1inDinDo9Yk93TOX45sAIq5jdUsHhmLT2xZL+pA1rD18clUopYMu0MlDY0dxFPpnnfGfOc6wHawhDJigR1DwS27O92BJruh0wQh4Gp1cF+2xqrglQF/XRHk1kmMj3609v0w1cd8tEVSfCLZ7exfo+l4bhDuwfyX6TTyhEqetQ7r6GCg72Wg/fOv+3itAVTaKgM0NKZLQhf39fFrkN9rGvucLY9v01HOmU0sL5Eiln1YSeYA6wReHcRo/rcFzhsd8S6E0irbI1pKOw62Mf7/udvjpBwNLBYCp2dqqk6xIy6MBuauxxzVlc06ezr94rTjn2d0ayReT4z4p72CLPsjqwm7KMrknT8X5DRck+ZV0/I73H8YPt1EEciu0y3oDh6ujV673CZkV7d3WG3qfC17okmqc4yIWYEQk8eDWxPex83/2VjvyjZWDLFa3b0pduH4/bHRBNpZk8J221JOeVXhXzUVQRQyhqUFNLAlFJsaM4OKskNqOiNJ3lgbQs/eyajTWxs6SKaSDmmUCcKMZ4jwHK0uEsWT+OaU2Y79d3X1T8IBTKCtjeWcqYO6HL1OWfbGpjWMnvteXttPTFau61J6DPrwjRWBdnfFePbj23m2C8/ktW+HQd7OWJqlSMM93ZGnZB/yPgY3c9hdzR7fmBDZYDLllgDJK0pa7eE+3r3xJIEfB4aKgPs7Yo6g5nW7jgeGXoO0FJlcrRymLgFmE4Y21gVpCbkozuaoCuSoK7CD2Sc1Ho0pV+Mo5qq2NcZ5b8ffp37XrFGc13RJMdMr6Ym5OOVXe38+Kkt3PHX7MAMsKLitLlQC8j5DZW09cT567Y2dh3q472nz2VmXdgZ3WnabY1NazDTa0Ks3tnOijdanTp2Ra0RdWXA28+MVczoWr+Yf/nE2Xz0vCOdsOf2voRz7QqZmWLJVF5fheb+V5pZubWNB9Za6ai67UnJffEki6ZVE/B5WDitiuULG50Ru96vM5Ig7PfSUJm5fy2d0Syhlc8X09IRYaatKWkNzO1I32oHuUyrCbFoWjWb93WjlHKucW7Hub8ryuIZNYhYAkwkM8duT3sfaQVTKgN5r8PH7lrD1x/aRE+WBubNmrul2+Buy6Ov7eeXz23vNw/pT6+08PYfraS1O8b+rigz7Put66wHAO7tWlBUBX3UV2aec93h5t7bF948yBU/Wpk1dzK3bUrBr1/Ywf+9sAOAVTsOcfkPn+OO53f0G+xYWlWUevsd08JCC4CKgNcJVrBMiNGs/TSZwU/S0QB3HeqzAjgcDUwLsMy+Wpjp6QJN1UGqQz564kkeWr/XaTNYg82dB/tY0FjJlEorEXR7b5x4Ku28w3qQ6a5fT8wacGnN96JjpxEOeKmv8DuDYC3AunIEWHXQR23Y0ozdGlhFwIfI5EibPGICTEROF5G1ItIjIi+IyOKRKtsuf8yXOZlaZXWAAa/HGUE3VAWoDvlsDSzJzFqrw8v11ehR7lFTq5wRa4+jJSSoCfs5aW49L2w7yI+f3sp9r/TPP7ffZYLS5pH5DZW098W5/5VmakI+3nrcdGbUhpwwZY1++XQ9/vmCo1jQWMmX/7TB+U13zuGAz+m4dQeWO38qH7ozbaoOOdnb93ZGSaUVC2xfYVckQXtvvF/eunf94kWO/fIjBct+9g1rcql+edMKeuJJemIpZtdX8MLnLuCyJdP5uxNn4s4XrEe0tWG/M7gA2NsRyRIw+SLVmjsijqmvJuynL57KivA81Bsn4PVQE/KxoLGSHQd76Yokidk+0n4mxK4oi6ZV8b83nMrfn7WAmpDf0cB2tFkawOIZNfTaQRMapRTPbG5l9c52S4AF80chak3arYHpDjk3gKalM0JaWX7OvniKBY2Vdp1t363dcU+rse5/JJ5yTMSVQUsDA9i8PxN9myvAdAf7u5czc57yBVxsb+vlYE+cVFpx059fA8g7p6wvkaIjEme6/Y5l/GhagPkcU5k7iCP3PnS4ohrdZsjWnhitPXFEYLatNWnNtTeecgS1FlJNNUGqQn56okmWzKoF4MlNVlTqvq4osWSaeQ0VzrvQ3hfPEuB6kBl1a9H283rqgnrOXTSV959pmQ+bqkMuDczS9N1BM72xJJVBH7UVlq9WC7C27tikMR/CyGpgPwE+AzQA3wO+P1IFi4jXLv8yYDFw/UgLyHw02lrE9NoQc20TQ2NVkCo7cCCVVk7HvzcnMmvlljbmTAk7ZUBmpNwdTVIT8nPy3Hp2HOwjmkj306AgO02SHo3NnRJGKXhx20GWzq4j5Pcysy7cb+Kjfvn0cfUVfv7fOUew42Cf80JoU1/YLgNwOrZiHPTuOSeVdierTTPucr716GbefesLWdFba23z2Y62/hFdnX0Jx7yWu70vnqQq6KWhKoiI0FQd4pyF1pSJWXVhRwOrq/BTE3YJsM5ols8uVwPTI+GMBma1Z0dOxNnUauu88xoqaemIOGHekD2y1prZtNoQ5x3dxNTqIHUVfue+6HKPnVHtBE1oWjqtwJ22npgVxBHKH4WoJ7O626UT4Oa2T5/3RdsPqgdkEUcDs36fXqM1sMx0g6qgz+mUX7efnabqYP85dnZZG/d2OT7UfAKsrcfSTB7fuJ8NzV14BNbkiaLtjCSIJtLOoCojfOxQ8aCXCr/PaUeh6Epdz55Ykr540rEO7D4Uoa0nxpSKACG/t9+yPHF7vuXTdqaOGbVhqoM+a0K6fb+e2nQApZRzP+c3VDoDp46+RJZWmd+EaD2v02pC/OrvT3MEY1NN0Bl8FtLAKm0NrKPPJcB6YpMmhB5GVoB5lFKPK6ViSql7gZFcN+I0YKtS6k2lVBy4G7hyBMvPi9bAptdaJqPasJ+akI/qoN8xW82qs14uHVrcHUmweuchXtpxiA+9xRp1azICLEFNyMfJ8+qc39p6YsSS/Ufwzv+dUaqCPprsDqalM8qRUy0hMaM2RHcs2yentSxtyqwIeJlvz3XRc6r0aLPCZULUgid3/tR9a/ZkhfVCpsMK+71UBq2XxhFgdt3aemL8ZV2LbTrKmJa0VpEvY/1ft7WRVpnAB20N6Ywk6I2lqAhmhwj/21uP5rOXHsP02pATRl8T9lNnC7Cgz0NLZ7YGlut30p1LxgdmHasd57ouekAyv6GCtMKZvhD0ebLKb+9LEE+lHYEAUBfOaGA7D/ZRE8povu5j9f3Z2xklnko7PrDcKMR8QRw6A39uCi3dib/4pqUJL7Ij6hwTYiRHA0tYJkSvRwj6PI4Zb5Pt9zt6enW/eWDu7+ubrWw1cZdgrsq5b3qQsnhmTb+QfL9XnHdqem1GKwSXBub3EgpYXVh7X5z2voRzrdwDAncAkFv7PNAVpbU7RqP9nocLBNPs7YxyxNRKjpleTVXQR080I9xbOqNsa+11NOr5jZVUBX34PMKhvrhjtg77vRkBlhNJ2hmxLAZumqpDHOiKEomn2H6wF5HCJsR99mBat7tQO8qRkRRgdSJylf7L8/1wmAXsdn3fY28bVWrDfvxeYWZtiI+ceyR/+cTZiIhjQgScDsgdwXf7yh3UVfi57rQ5WQ+mfkm7o0mqQz4nqqnSHjG5TYbWd5cA67IEWENlZqHFI+3owRl2Hf7t3rVOiiNHA+vSAszndM7ulxtwtDhwCTDXy7L7UB+fvmct97y8O+u4vniSsN+LxyNO57TH1kjm2Rrrn15toSuaZM6UML9btdsZPev97/zbLn781BaSruwi6/Z04vcK1y6zHPRa++2KWBpYZc4Ic8msWv7pvCMzpt1Igrqw37n2y+bXs7cjmiW0emLJLO0vd0CiBx7b23oJ+jyOFqAHNfNsE+lf7SCc+Q2V/bKDAFkCrLYi4PjAdhzsZX5jJZX2fB13dOEWW4Dpzr/arktFwEsybaU2e2n7oawgjpd3HGJDc6dLA8sWLnpAo6dKOAIske0DcwuL3liKyoAXEXFMiPr4o6dVO3OPNG4h9Owbrf18UTpJskYHlSybN8XZdoT9/E2vDTkDJn0NdXl9iSRBnwef10PA68HrEWeunQ7GcF9P/S4kUoqeWNI5x/6uKG09MRqrrbaF8mguOhji+lPnIiJUhSwNrDuadDSd/V1Rdh7sJeDzMKMm5Fyvjr64o4EtnlnDPvt8bg2s09aecgXYnClh9ndF+evWNpSC42bWZF3v3liKyqCX2rC/3zxAo4ENj2eBK+y/t7u+v93+PBzyeST7xWePRCopNx6P8OGzj+DKE2cRDniZbTt6tUkHMiN27ajtiibY0NLJWUc1UhHwURPO7Ntjz/voiSWpDvmpDvm57YZT+dqV1oKMzTkh9fu6oo5/pzuapDLozTJJ6vlbWnt69LX93G0LmYwPzOoEKgJeZtSGyefbDQe8TiYCbVpyh6LrkXJzR38NTL8sFXZHrIMHdHmPb9xPY1WAL1y+mO5o0jFfdkcTzK63zKHfeewNx88AVsDKtJoQx9vmlIVNmQg+65z5J2lWh/yOSaY27KfeFvZnLGiwotRcA4I/r23hgu8+40yUzWThsOpda2scO9r6aKgMOB3MVLuz09rsU68foLEqyKLp1VkBFtqc1ZSjgW3a282lt6xg094u5jdUUhHM+HA0ekKsxj2RGeBbj7zOR+9ck+UD+9IfN/D1hzYV1MB0J55KK6pDPpegsv2ykVwTYirL/1YT8uH1CId64yxorHQGPO5J4l2RBBUBL8dMr+blHYecjloPOKbnBAq91tJFQ2XAmcbhETjOvuczasJo2Ti9JseEGMs8dyJC2O917u3MHHOju21gBZHMqgvj9wr7umKWABtAAzv9iAZCfg9XnTzLuRfdUUvo6DmhbT0xdhzsZe6UCjz2Czul0k97b8LRwK5YOgOlLJ+ZW7Dvsd/5uhwBdvqCBtIKfvDkFkTgwmOmZV1vbULMPQ4mTwg9jOyKzO51urRwEfIImmGwB5jj+j4b6Gd7UkrdCtwKsGzZshFZjfBzlx3Tb1u1yyw4w3YwaxIpxe5DfU4orHtk1WPPyNedCMD5RzexzY5uyw3E2N8VZe6UCidjfFXIT2NlfwGmNTCArfutCZQ6mkp/VgR8BHwemqqDWRNZrd+8LJtXz/9+6FTOPqqRioA3y4So/VW59YvEU87Lojs6LYT1xFCA954+j5m2ZnOo13Le98ZT/MM5s/nwOQs44auP8equDvZ2RlnYZAW9TK8JsWRWLT6PcOKcWp7YtN/xM2pzZS7VIR/tfdaE1anVQd61bA7HTK8m6LP2d+enW7unk7SyUvHMmVJBS0cEn0cc/4jWwPZ1RVkyqyYjwOzObkplgOqgj+5YkrOPaujnn9Id0wxXp336EVPY0NLJttYeEinF/IYKpyPOTRHl84gzKHLPAwPYpX03dmSgfq66IgnaegsJsMyAZE59hTPRtS/HB9Zka0l9tglR+zZFhLqwn4O9cU6YXetcD8vfGHDKqAn5WTa/nvvXNDsmzqaaENvbeh3zpOZQb5zjZtY4GnZDVdAJQXcLu2k5EZO98WTWICbk9zrmdn3c89sOsn7Pm3ztyuP6+eoqgz6aqkO0dETY2xFl1lLrnFqAua/9v7/1aOorAzTY973a1sACPg/Hzqhm415rYcodbX2OQAOosyd+aw3slHn1zK4P89hr+1nQWEnA6yGeSjsWi9qKbEF00tw6gj4P65s7WTKrxnmf7nppF2t2dtiDYF+Wn1cT9k+OLBwwshpYlf13CvBPwEz77yNYgReHw8vAQhFZICIB4DrggcMsc9hUu2z5DZUBQv7sy5hWmagm/aL7vUJ3NOl0LG4hqCMZ93ZmazgHumKOSU+ftybsw+8VKgNexyQzrTrISXPrOPuoRrrtCZS52TR0p699Oe42hP2Wmej8o5ucjqq9L8Ezmw9w1U//6swfy5107dbAdPnN7RH8Xskq/+/PWuCEFh/qjTmmr+qQNWn4qKlVPLX5AJ+/bz2/fO5N9tvBD9NqQjz+6XN5/xnzretjn7+wBmalf0qmFfMbK5nfWMlVJ89mhi089UABMr7Blo4oT28+wPPbDjKjLoTXHkG7NeeFTdVOB6MFnIgwr9HqVM5ZOJWQPztCcN3uDqZUBrIE2HtPn8dT/3oeHzzTas+8hkqnLXqkrpRiy4Eels6uzbTL5QOzrrHV6elsEp2RBO19cVrsSe+QEWBf/fNr/OTprVkm4TlTwlnRe2BNwK8K+pyBSNTWwCpd91EHJ5w4py5LgGm6Iklqwj5OnT+F3nhmnpsW+rkCDCztap6tzU6tCvJ3J87kH889wrlnkBkERF0amHsQUxHwOoMrve+fXm3m1y/uZNehvn7+3IqAl6aaIKt3tjvPCmRMiA1VGTN9U03QeWfAGqillRXBO7u+wkos0GOtDD7XNWirr/DT3hd3TJmVQR+XLJ7Oc1vbONgbpzrkI+jzOKbPXBNiyO9l2fx6wLIg6N//+EozT2zaz8GeGJUBX7/jdPsmCyMmwJRSX1VKfRVoBE5WSn1GKfWvWAJt9mGWnQQ+BjwKbALuUUq9drh1Hi7VLhNiTdhPVbD/Q6QF2ILGSk6eW8cli6fTF085Ib3uMsIBL3UV/n4C4mCvFUKs54hUBa35HQ2VQY5sqnLmevi8Hu7/6Fl84sKFgJWYtz1HgOloLW0GbXL5I3JNDtNrQ+xp7+OZza2s2dXBRjsKKjfSsS+RcnKu6Y5vX1eU2nAAEeGaU2bzxbcdS22F35mTdbA37phBtJZz4pw6XtnVQSqt2NHWx77OqGM2WtBYSU3YMl8NpoG5A2bco2HdqelUXG4z6s5Dvfzjr1fz6u4OFtmmytyy3nfGPKej0OYmyPjBzl7Y2C/A4pXdHZw0py7vfJxPXLSQD5+9gPOPaXI6Gz1Sb+uJ0xdPcer8jF/IHYUIGV9TzCWschOe6Gv82Gv7eXjDXjpt8x5YGljQ58Ej2fkxa0K+jEC154FVZQkwq2M/YU6dI9CzBJitgZ0yz+p4n7OTVWuh7/YH6nKn14aYWRfGI9Z+x0yv4fOXHes8r/qaez2SCeLI0cDCfq8Tmq6FpDYJr93T2U8DCwe8TKsOOdYC7RML2f4u9z2uCweyjtX3QinLrFpfEWDbgV4iiZRjZQDs1FsJZ4BQGfDxliMbiCfTrN3TQcjvpTrkc+pZm3MegLcc2QjAmUc2OFGx+hlOq+zpDW6MADs85gLu3jMOzD/cQpVSDymlFimljlRK3Xy45R0Obu2pOuRzhJF74rMWFNUhP/d99CxOsvObaSGQq/rPqA2ztzNKe2+cK3/yV7a19tDeF6ehMuB02PrlufDYJt563PR+9dKJhtfv6cyaawIZITUrj4km1/Z/xNQq3mzr5U1XkMOxM2r6RTpG4knHFKUjA9MqM1L/zrUn8A/nHOGcP+z3cqgn7tJCrWNOmlvvlLnlQDeRRCpLcxERasN+Z5Q9kAammd+YGQ03VVua1e72PkRgiuulf37rQeLJNF9827H85L0nO9vdncDJc+tcPrDMPb7qpFl8+OwFTKsJOQEWVjb1BFsP9Dj3PJeakJ8vXbGYKZUBl8Cwrok2KZ0wJ3NsVY4G5qbQfNWemDW3rLUnxhv7elDKuodgmXdFxE5NlYlCrAn78XqEgM9DX8IyS7oHC/UVVlDT4pk1+TUwe37jrLow02tCvLAtW4Bpi0Ft2O88fzNqQ/i9Ho6ZXsNC2xeW29aakI+wy0QbcWn+kD0A0yZ9PS1l3e4OZ1qFpjLgy3r+tQYWdjQwq55VQV9Whhq9zf1/Y1WA9XZgi1tTc4I4YpmQfz1o3NMeIRzwUhX0OUI0nyZ1zSmzueEt8znrqEanv3AHzVSHsjUwv1f6XY9yZzSMpb8GXhKR+7H8X+8EfjUK5xk33JkR/F6P81DPrAs7pin3wwyZzlXPxnd3tmA5n5s7Imzc28Xa3R08uWk/qbSioSpAle3b0ee5+Z3H561XXUWAqdVBZ9KwiDVS9HvFeRF1vdzmnP4CrJLfr95DOt3JWUc1ML+hksUza/jC/RvY2xGlZrr10vTGUsyotSPkXGXkcyyD5Tc61JsRYFWOAKsDtNklO5xbYwkwWwMbRIBVBryO2Qqs/JHTqoO0dEapDHipCvmcSdy68zl9QYOj4VjXTvjcZcdw6vwp9ryvCvxeyfLtXXjsNC481nKua000Ek85WebdgrkQuT4wbVI6cmqVE1Xpft5yaagMOpOXNT6P2NGYyaww9lPnT2H1znaOsQN13OuLdUYSjtZZEfDmNSFesng6c6dUEvR5C5oQj5pqWQkWNFY6gTnaRKgFfVN1kIaqAFsPZO7zvR85E783IyzcvlWf15Nlou2Np7I0D7fvSpv/9ByudbYGNqM27JgStQkRLPOsjuzV5TTa3+sq+j/HbgFWHfLTUBVw0p3NdL3zUyr9JFIqM43F73U0u7gOdXe/M3nONa0mxE1/dxyQX8DpeWCaJlurnEwa2IgLMKXUzSLyMHCOvelDSqlXRvo844nuKPXDox/qWXUh1u6GxqpAv1GQ1tocDSxHgM2oC7FqZ7sTNbjRXtpkSmXA6bBz59Hk4+hp1U5WAyvRbTRLY9GmzSwBllPXIxqtkfDB3jjL5k3hXy5exOqdllBs6YxY+exebbHC6O1jPR7LL5fbubhpqApkmRD1NTlmejX/eeVxVAZ9fPqetVbdcyLWasJ+Z05WRaEgDtuUO6+hsp/pbkZdmJbOKOGAL68Gd2RTZb9tHzn3SOf/849u4q+fu4Cm6vyZ43XnF0mkWL2zHRGy/FiFqHSZ7ABnYvSs+jBTq4LWlAu7XaE8UXLTa/sLsLlTKuiJJvvN2zttQT0fOPMCp6N1Z/boiiadKQQVtrDojSWzBgvvOjUTR1Ub9uOR7MzsWgOD7M789AUN/OUTZ3PczFoqgz6mVgedCFGtMVXmPNv6eup3LBzw0NEX52fPbONQb8yxNli/ZfbN7bw3tHTa2me1MyFYmxDBmq+onxVHgNka42ACrCrky0pX5vbb6XdgT0eEgB3y7/athf1efN7MM5pPQLnJF6zRT4DVBG0BZoI4Dgul1Bql1A/sv7ISXpARPnrEqkfIOhhjVn1Fv2P0g6/9XG4zJFgvcmckwXZ7QqQON7eSB/uyzjMQp86f4kRQaWHlfqnPPLKBT1+8iAuPaQIsLS038aeeIA2WNqbrB9aSFx+7cw13PL+DPe2RrA5Od0L5Xnzor4HpgYCI8P4z5zu+E8j2l0D2Cz6YBuY2H2q0SbIy6KXKFoB6/zlTwoO+9DrrRyH0NW7riXHn33ZxxoKGfvc4H04wRUybECPUV/ht85Tl+9FBQvlG1u7rpEP75zVU0BVN9Ft4sa4ikCVYwi6tpsulgYUCXjsKMdVPsGhCfi/nLJzKg2v3kk5ba4e5y5hVlz1AOm6mJcznTalg0bRqR8uZXts/Yba7rbrjDvu9PLnpAN985HX2d8WyfWBagFX4swZjtXY6MMs/FXaV7XMGcG5fqQ7iqAlZgVL1eQZi7newOuhzhFLA68mKENbHNrdHnGkEQZ/X6TtCAS8fPe8o3nb8DK4/bU6W9pmPyoDXmVKjg3qqgz7nXXPX10xknkCIyLUi8pqIpEVk2XjXB3CCNnSkmn6gdDi7FhxZxwxiQtSmvXW2+Uknjp1SGXA6kWI0sHe7Rsk6Qam74wv6vHziwoXOCLjCjkB0M7ehwnlZtDbWZI9Kv/Hw67TYprxkWmV1GI4AG8yEGMsWYJpZdWEnnU9TzqTXk13+pEImEi0w3J2SRndgVtaQbN/bQlfwxnDR1+GWJ96grSfGZ/NMv8hHwOfB7xVnQvGe9ojjP22sDjiBO5Df96c74oDXw/Gz66iv8FNfEaA7jwaWe18qAl4ng75be6oIeOmKWJlEqgpouwBXnTyL5o4IL+04ZK2xpjLvRK6g1PzmH07nPy4/lum1YbwecfIc5pLRqnz2d59jFtR1zC2/NuzPOte7ls1myayafvWpCHgdwemO8tXHhuxnJJ8lodoVsFUd8jtmwRl1IWcOGOBkLsnViLR2F/J5OHthIz9578n891VL814DNyLi3J+3HNUAWO9byO8l4PNQGfQ5z/VkMiFOeAGGNb/sKmDFeFdEU11AA6sL+5kzJcySmf1NR3rktbczitcj/UZJWkPQc660s7ahKuAIrtwOPx9u05sWpPlG0fohz+fwDfoyk7a1NuPzehw/2kfPy5jWKrIEmPV/IQ2soTLAwd5YvyhEjc/rYe6UChoqA87cLc1VJ2UCWQtpBU01QXweK8ggF62puF90LRQXusxRw0Vfhyc2HeD8o6dyoisIY/BjfS4NrM+5b+cf3cRlSzLBOu5nRj8vul0NVQE+fsFRfPuaE5xsEToLi45izdUodBBHOm1NrtfPaIXf5/huCl1rsHxilQGvlW0lkm0WLiTAdIf73jPmcveNZxQclOlO3zEh5kxVcectrAjkF2Cz6yu4/6Nn8Z1rT+Ddy+Y4g7KKgJc5Uyq48JgmLrJ9mO56VgR8XHfqXC53XXuNWwOzTIjaFJqtnesBYmt3LCsQxpk0PQwhU2sH2ejoRF1ubdhvT4Eo/E6XKxPeWKqU2gRMqOUBKmx1vibHB1YZ9PH4v5yb1xygtbaWjgh1YX+/9ugXvj1nzkp9hSsKsQgNDOCJTy/n3tV7nHyE+UwK7tFmPo6cWkk0kcoyg93/0bcQ8nuZU1/Bz5/dRlrlCDDd6RTwgU2pDBJNpDnQFcNn59jL5diZNbTmTLSGTGYPKDzCbKwKsuLfz+/XmQBOiHNFwOuYdM48ooEfyJa8A46h4r7GJ84ZPHjDjfZFKaVobo84neq1y+Zw7bKMRu3umI6eXs3ezqgzybexKsiiadUsmlbNK7utLPYHumOE/V7mNVTw+r7ufn6UcMBLW0/MWfDRMdcFvE4E6kACLBzwcsr8Kby6u8OJTq1xBFjmHuh8hW5qQv6sqQL9ys71geU8pzpfZO6+Or1UPJWmvjKA3+tx1gyrDFgTzysCPoI+L7fdcGq/9lifnrwJDCB7Ckd1yOdELM7MCdqaVRd26uHWwKYOkndxIGpCfmbUKq5YOoO9nZkVoutswabPM5l8YJOnpSOIiDCjNux0lHpUVh3yFRQIep9ESjnpmtxMqwk5UYMaKxejZ0gmRICjmqr5/GXH8sRGa6mHfJ2QflkLCYN/veTofsEBx7k6+hm1YZo7Ik70nbt+9QNoYAA7D/ZSHcq/ZtF/X3U8yVT+JCq/+fDp3Ldmz4CL9eV2JO76QiZzvgicPK+ex/9luWMmPRyyhcvQytMCrLUnRiyZzmuCBsvcqLNEHD2tmmc2t2ZpYJrqkJ+UvT5VU03QyTTi9WRf74qAl60Helj+raeBbH+TvveDPXOLZ9Rw27Y3OWSnsNImRH29PZLRAIeCOzDD/X35oql4BT5uz3l0/6ZNpCG/JTim5AykKoPWWl65iQc0+t0dSLgEfZYGGU+mqQr6nAn6uVHHIb+XE+bU8vKO9hwNLJB1rqFwzPRqYsk0DVXBLAHbUBVAEGdgNplMiBNCgInIE0B/fR2+oJT60xDKuRG4EWDu3LkjVLv8/P6fznRGm9UuDawQlq/JElB6yQQ3AZ+Hxqogrd0xQn4P0UTa6ZSqiig/H3r/fCYFnQS10Muar45u5k6p6BeyW+H4wAppYFqA9RUMcMg1K7o5e2EjZy9sHLBehdARYpUBH+88aRbTaqz5R0eNgP8Lske9R0/vb8Ic7Ni+eNKJPJ2Xx4enCfu9IFaYvdeTCet3T77Vz8ubbT00VQe59pTZzhwwNxcvnkZrd8zJtKKf46yAmUGeuWNnVJNIKV6xTd/6/lXaAQaJZHpY1pOKHAGmO/yFTVV86YrsxD652lpFwEdXNOkswumUGfRSEe3v880tZzDhUh300aUSWUme3Vk4NKfOn8LLO9oRVyrXwzEhfvvaE/Ju17lUn7KXfTEmxDFGKXXRCJUz4rkQC+HOgTjFjj7KHfG50Rnbu12L4eUyszZEa3eMY2fU8MquDkdjGYoPzI17XlQuIkKF3zvsh33ulApeePNglgCrGsQHpv0COw725u1QR5PGyiABr4eKoJels+tYOrtuRMt3X4d8ndlgx/bGUzywtoXqkI/TFwxgWgtY9+ydJ8/i+Nm1jrbmFmD6vr/Z2sux02u45LjpXJJn4vsVS2dyxdKZrN3dwdce3Og8l6cfMYXfrdoNMGAQB1gaGGQWpHSbKWfWhvsFkhTLlMoA02qszByQub5z8min+hmuydHWplRmv49VQR9dA5jXwrapczDzXlXIh8J6h2bWhbn3I2dyQp7n6bQFU/jpM9uceWKQCeIYyUhBvbLA3+z5n0YDMwyJS46bxl3/7/QsP00+qm0BdnwBATajNszaPZ0cP6vWFmDWw75wWhW1YX9WJ1UMmaik/LdZZ8cYDrqt7uMrA/1H8G60+SSthi6MDxePR/jPdxyXZQYdSdyj9lxT3WBUBLzsaY/wWnMnb1s6Y0ANoCLgpa7C8u3oQcC3r1nK6QsanH3c19adOaQQJ8yp4w//9Bbn+/JFmaX8BtPAFjRWEvR5WLXDWhfNfe9n1oX7rQxdLCG/l7/9R2Zcq5+zOXkGB/q3upww8v5BK94BO3f9ngzW5qqgL8vUX8iXp6eFuJd2GWztscNhTn3YseRMFia8ABORdwI/wlog8y8i8qpS6q3jXK0s/F6PExk0EFUhH1VRn7NWVi7azKVHwlPsDv+CY6ax9iuXDLleA6UgAqujG6pZUpMvwtGJxiyggc2ur2B+g5VdP1/+yNHm3aeOnln5cEa94YCXLXam/HecOPAyd3UVgX7rarkDPSB7juFAgRKFcHeAhebcaXxeD0dPr2bdnk7edvyMLK3nI+ce0S9B9XAZUIDl8ZdVBLz9BgKNVcF+a+G5OXfRVP77quMdrbIQxfqiq0N+/vMdS1jqGrA6PrBR0JLOXTSVl//jon6Z7cuZCS/AlFL3A/ePdz1Ggum1YWbUhrPmi7jRE6GPm1lDRcBb0JlfLNUhHwGvp58pRfP1dx5f8LfBOOuoRt563DSOc4Wsv+PEWdTY65zlw+sR/vHcI/n8feuddEvlgt/r4a3HTRtUABU6FuAdJ87kjCMaBtz3++8+ccAgFrD8RGccMYUPnjmfy46fMeT6gKWFrXijNW8GiFzOXTSVZErxjauzU5wtG4bwLESTnYZqTp4kAfp5089yRcCb97n+8tsXE0sUFmAhv5frTxt8kPOe0+dmJW4eiPefMS/r++z6CgJea+HLkUZEJpXwAhCVm8a6TFi2bJlatWrVeFcji0O9cYSMLyiXnQd7+fmz2/jalUvY0x5hek3osB2y6/d0smBqZdGjxtEmlkxx9Bcf4RMXLuTTFy8a7+pMCHYf6mNbaw/nLpo6YaaLRBMpXmvpysqOMhBKqVGtezyZpq0nljfKNJlK85f1e3n70pl4PMJ/P7yJvR1Rfnj9SaNWn8PhYE+MKZWBCXOvcxGR1UqpCZE0YjCMADOMOam0GrKfyGAwjA1GgE0ARKQV2DnMwxuBthGszkRnMrXXtLV8mUztHc22zlNKTR18t/GnbAXY4SAiq0plBDISTKb2mraWL5OpvZOprQNRCrkQDQaDwWDohxFgBoPBYChJjADLz63jXYExZjK117S1fJlM7Z1MbS2I8YEZDAaDoSQxGpjBYDAYShIjwHIQkUtFZLOIbBWRz413fUYTEdkhIutF5FURKbtJcyJyu4gcEJENrm1TRORxEdlifw5t8a4JSoG23iQizfb9fVVELh/POo4UIjJHRJ4WkU32au2ftLeX3b0doK1leW+HStmaEBsbG9X8+fPHuxqjT89+8FdCog+6mkn5q/CmIhCogngv1C+A4OGvd2UwGCYHq1evbiuVeWATI7/QKDB//nwmRSaO7Svg3htoO/vrTHn0n/EIpAnjCVbCdX+09mleA2d/ajxraTAYSgQRGW4CiDHHmBBLmZW3WJ/X3kHdY59AAIV1Uw/V2ov+3XsDzDp5XKpnMBgMo4kRYKXMrJPh3hvY9+I9+Eihc4MqoP7Ai6i73g3X3gELlluamhZ4BoPBUAZMCAE2WOCEiJwnIp0uh+WXx6OeE44Fy0lffTtNm3+NwhJc4q+gu/YYSxtLRKz9bDOj0cQMBkM5Me4CTES8wE+Ay4DFwPUisjjPrs8ppU60/742ppWcaKy8xRJKwObn/4QHEECmL4Xzv0B152ZiBBAUyYc+awmva+/IHGswGAxlwLgLMOA0YKtS6k2lVBy4G7hynOs0sbFNh5HXHmL+tl+TQlC+MBzcCs9+E7nkv4gtuAgU+Fo3wlH20uxGCzMYDGXERBBgs4Ddru977G25nCkia0XkYRE5bmyqNgFxBW74f/8BwiTAE0CWvhuWvsv6bcZSapb/E2nxoBSo9b+Hu99rtDCDwVBWTAQBlm9lw9zJaWuw1qg5AfgR8Me8BYncKCKrRGRVa2vryNZyomBrX237diPpJABejweOvxre/gO47k5Y/we49waib/kMCIhKQSoBe9cZLcxgMJQNE0GA7QHmuL7PBlrcOyilupRSPfb/DwF+EWnMLUgpdatSaplSatnUqSUxD29ouMPmH/04HhTK4wfSmX0WLIcpC+DaO6hceA5p8QKQTiXgqa8ZLcxgMJQNE0GAvQwsFJEFIhIArgMecO8gItNFrCBxETkNq94Hx7ym440Om/9bJmxePD644MuWZmUHdjiTlu+9AXXBl0gDHpVE4TFamMFgKBvGXYAppZLAx4BHgU3APUqp10TkIyLyEXu3a4ANIrIW+CFwnSrXHFiFsDWm9NW30/S6HTbvDQBpmLHU0qya12T2b14D196Bb/YpKE8IAJWMZ7SwBcvHuAEGg8EwspRtLsRly5apskolZc/l2ll3KvNaHrG2+cJwwRdh5ffyCyX7GHXMFXS8+gD16XaUN4S8717rd5NiymAw5CAiq5VSy8a7HsUw7hqYoQhs7avv8h8xp+UR0gyifWlsLUwaF1GX7iCtIJVOwfM/NmZEg8FQ8kwIAVZEJg4RkR/av68TkcnV89q+r/2PfgcP1k0T8WZ8X5Bfk9LbVn4PueS/UOLFk06gtjwGZ3+69FNMrbwF/vzJjO8PrP8f+GTptslgMBTNuGejd2XiuBgrIvFlEXlAKbXRtdtlwEL773TgZ/bnyLHyFmjfDkuutjSX9u3QtRcObYdgNSy5CjbcB7HuzDFjtb1tC5G6o5nf/DxKB254/dnaVyGflq2FsWA5iR0vEnrjz8TxEdhwn9XZ73oBzv2s1elrpiwYvmlRX0fNkqutz/V/GPnyGxZa12zdPaiaWaRjPXh794N44cgLwOMbv3tmthfeXmkHEPe2TZw6lcv2ykaonmFtn7LAGvyWsatgUB+YiPwYuEsp9fyoVEDkTOAmpdRb7e+fB1BK/bdrn18Azyilfmt/3wycp5TaW6jcIfvAtq+wJvuC1aE/fbO1xhaAxw/pROZTM1bbvUFSqTgepayEvUvfDSe9L5MiqpiADNsf1pGuoC66mzSCBwW+EIhLEff4rLlkQw3yWHlLxiR593shnYR0Ckhb7RiN8gGaFqOa7fussOa9eYPW91Rs/O6Z2T7w9tz/J0KdymW7Nwi+oNWPFfKPD0C5+cC2AN+1V+/9poicOMJ1KCYTR7HZOobPguVw3Z0kE1HSj32RdKIPhTXDSqUTVtRfOmF9H+vtqRhelDXle+m7YesTVp0L+b5y0cl8r72Din9ZRZdUW3PIAJWMohJ9pBMRlFu4DNW0aJs5AQ6c/TVSiSgqFUOlElb5yfjwhZerfJVWvHHkDaQSEVSiD9W8ysoDCZZwV5BOxaxzM473zGwfePtErFO5bE/FaK9fMizhVWoMKsCUUj9QSp0JnAscAv7XXt76yyKyaATqUEwmjmL2OfxMHAuWs3/qWXisGVP0SnUmUa79N17bAdLHXQNX3Wo9lAP5vnJxmREDLS9RHfLT66nJOa/iYNXCjPAaSpCHa4J16u73UfvEZ/CQzi5fJelcdNXwhKOr/ORd17Fo4w/xoLKujfL4UL4QSmTC3DOzfeDtE7FO5bK9ft/zsOzDZS28YAhBHEqpnUqpbyqlTgLeA7wTa97W4TJoJo4i9zn8TBzbVzCrYzX4w+AJUKW6s81fAB7fuG33bn3M6vwXLC9e+wJLyLkEk5zzr1T6cc6hR3INB1eTuufvh5693qUdHUyGCIpt3nOVrxRUrv/18CIg7fL7ertJpFKZ7XaWEevfAHLiey2zaC7jeM/M9gG2T8Q6lcX2HstSs+q27ACnMqRoASYifhF5u4jcCTwMvAFcPQJ1GDQTh/39A3Y04hlA50D+r2Hh9oGd/0Xw2vEt2rYMto05OfbbvUHwBqzf7n5vRogN1THbvMaKPnz2m1ZZXj/4QojHjxI/Ang3/mFo2etd2lH6znfRlNqvXVEgHvBXWD4pAR8p1GNfGFoEpKv8wB8+SAWx7PJnnQr+Csvftuo265p5vNYfjN89M9sH3j4R61Qu270B2Pyw9Z65M/SUIYNGIYrIxcD1wNuAl7CWO7lRKdU7EhVQSiVFRGfi8AK360wc9u8/Bx4CLge2An3Ah0bi3Fk0r7EieXQU4tJ3TagoxH51HY5p4OxPWQJhyVWZbXaUoPf5H5Pe8iiigPV/QDY/bPmrwDqmkLC0taPEGR/Hm45a28QLM0+Gfevg/C/AjKWoBz6OtO8ggRdfMo7H5ZcbELv8jsXvoTadAMGaQjDzZGjbDBd92drv8ZusaxeshhnHW9t0lOJEixSb7NtNFOLobXdHIaaTg0cplzjFRCE+DdwF/EEpdWhMajUClF0mjtFERygufg+1L//ICoYYLMsHZEUGpn71DrykSIsPj9cL7/29tU/zGkcI9RKisq+Z1trjmZpoyQivQmG+WeX/HR6lwOtHPJ7s8ss0RNhgGA/KKgpRKXW+UuqXpSS8DEPEDvKoO+4SUrY5Iit7faHRmxZMW57DoyzflMfrz55graMTr72Diqt/Rhphaud64nPtMgcyU9rH7n3ht3hR/ZMXgxFeBsMkpmgf2GggIlNE5HER2WJ/1hfYb4eIrBeRV0XEqFUjjSt7fXrJNUTxZ7LXQ35flcs3FXr+OwCZpV3cE6xdEZDiEfD4UAp8r/9x4EU27e+pq25j2ht3FZ8+y2AwTBrGVYABnwOeVEotBJ60vxfifKXUiaWi2pYctqAJzFhCEGuSZEqpwlGDtnZ08JU/41HpwtpRTgSk56KbSIsHD4p0MlZ4eRe7/D2P/3Ro6bMMBsOkYVyz0bszaojIDKxsG0fn2W8HsEwp1VZs2cYHNgxsIZOeeQpq6+PECRAijlzyX5bWozWeWSfDguWobc+ifn0lggLxIYGKTOBHrm/K5c9K//pqJBW35mz5Atn+LFf5vesfJPwHKzJUPD7EP0D5BoNhRCgrH9goM02Hw9ufTQX2U8BjIrJaRG4cs9pNNmwtzHPWxxGPnzAxWisXWlGQWkvSPq3tK9i25qnMhOLjr7aESyHtyGWm9Fz0FdIen6WFpVW2FuYqf8fT/4soW/taMkj5BoNh0jHqGpiIPAFMz/PTF4BfKaXqXPu2K6X6+cFEZKZSqkVEmoDHgY8rpfpNbrCF240Ac+fOPWXnzp0j1IpJxvYV8JtrnPyLKliF5/rfwoY/WEOJ469G3XMDiUgnfpKoacfj6R5aVKH6zdWoVBwA8QWR9/4+q/zU3e9Hoh2WaXL6CdC1Z/DyDQbDYWM0MBdKqYuUUkvy/P0J2G+bDrE/DxQoo8X+PADcD5xWYL/Dy8RhyKSRuvDLVnYLARXvs7SkDffBa/cB0OabSoCktUTLpV8vLr2VSwuTC7+C8vjxAOlUql/5HUk/HsGanPnW/xp6+iyDwVD2jPdyKg8AHwS+YX/+KXcHEakEPEqpbvv/S4CvjWktJxM6ahDw+IKkU3G8pEk/cROe91vCJX3ntTQmo6QBT6DSOs6d3mqgSZPu8v1h0rGEFfH4+JeRi78GM5aS+vXVNKTjVsZ8j2do5RsMhknDePvAvgFcLCJbsNYD+wZYJkMRecjeZxqwUkTWYmUC+YtS6pFxqe1kwKUlcd2dJI95h/U9nUC1rIW965BkFAH65l0Mx12VSVdTTHortxZ23Z10zzkfAdIqDc9+k9T6+/CkM6ZFJ+pwuOmzDAZD2TKuUYijiYlCPAzca2/dewM9aT9V0X0oPCjxIOkknYEm6hIH4JKbMxGKxQqX3PKjcSpT3SSrZ+Pr2WMJNPHi8fpMxg2DYYwxPjBDaePWwq69g/A1PycNCGlEJUmKh9pEq7Vcw8rvZR8zjPJTl38fAH/PHmcX8QbMnC+DwTAgRoAZ8uPKoOH1elHesLVdgZ80svRdcMX3hp8Rw1V+bcM0J4UVCtLiQ7x+k3HDYDAMiBFghvzkZNDwvu8eWisXWYl+xWct13A4fqmc8tW5nyeNIGLnUzz3s0b7MhgMA2IEmGFgtKa0dx1Te7dYC+UFKmDumSOz1pBdvr97FxKshuX/bq1T1rbFaF8Gg2FAyjaIQ0RageHOZG4Eik5bVQYM2N7aINVH1HuO2tejmvf2qAO1QaoX1HuO2N+j9oogLd1q/+GcXJe3vT39ZmeM7tzvh1N2HibTvZ1MbYXJ1d7RbOs8pVRJTKQtWwF2OIjIqlKJwhkJJlN7TVvLl8nU3snU1oEwJkSDwWAwlCRGgBkMBoOhJDECLD+3jncFxpjJ1F7T1vJlMrV3MrW1IGPmAxORS4EfAF7gf5RS38j5XezfLwf6gBuUUmvs33YA3UAKSBrbr8FgMBjGJJmviHiBn2DlO9wDvCwiDyilNrp2uwxYaP+dDvzM/tScP5QFLQ0Gg8FQ3oyVCfE0YKtS6k2lVBy4G7gyZ58rgf9TFi8CdXqplbFERC4Vkc0islVEPjfW5x9LRGSHiKwXkVdFpOwSR4rI7SJyQEQ2uLZNEZHHRWSL/dlv/blSpEBbbxKRZvv+vioil49nHUcKEZkjIk+LyCYReU1EPmlvL7t7O0Bby/LeDpUxMSGKyDXApUqpf7C/vx84XSn1Mdc+DwLfUEqttL8/CXxWKbVKRLYD7VjLHf5CKTWo/bexsVHNnz9/5BtjMBgMZczq1avbSmUe2FitByZ5tuVKzoH2Ocu9IrOIvF7EisyYbPQGg8EwNESkZJayHysT4h5gjuv7bKCl2H3MiswGg8FgyGWsBNjLwEIRWSAiAeA6rNWY3TwAfEAszgA6lVJ7RaRSRKrBWZ35EmADBoPBYJjUjIkJUSmVFJGPAY9ihdHfrpR6TUQ+Yv/+c+AhrBD6rVhh9B+yD58G3G9F2eMD7jIrMhsMBoOhbHMhmhWZDQaDYeiYFZkNBoPBYBhljAAzGAwGQ0liBJjBYDAYShIjwAwGg8FQkhgBZjAYDIaSxAgwg8FgMJQkRoAZDAaDoSRxBJiI+MezIgaDwWAwDAW3BtYsIr8UkQvsxSVHlMGWKbFTSP3Q/n2diJxc7LEGg8FgmHy4BdixwCrgS8BuEblFRE7Pf9jQcC1oeRmwGLheRBbn7OZe0PJGrAUtiz3WYDAYDJMMR4AppQ4qpX6hlDofK9v7duAWEdkmIjcf5nkOZ0HLYo41GAwGwyQjbzJfe+2t27AWkfw08A/AFw7jPLOA3a7ve4Bc7S7fPrOKPHbE+OqfX2NjS9doFW8wGAyjzuKZNXzl7ceNdzVGnawoRBEJici1InIfsA24EPg8MPMwz3M4C1oWc6xVgMiNIrJKRFa1trYOsYoGg8FgKCUcDUxE7gIuAlYAdwLvUUpFR+g8h7OgZaCIYwFrQUvgVrCy0Q+nopNh1GIwGAzlgNuEuBrYhLUW1zzgo+5gRKXU9w7jPM6ClkAz1oKW78nZ5wHgYyJyN5aJUC9o2VrEsQaDwWCYZLgFWJX9eQpwKpkVk9+OpZUNm8NZ0LLQsYdTH4PBYDCUPv0WtBSRx4CrlVLd9vdq4F6l1KXjUL9hYxa0NBgMhqFT6gtazgXiru9xYP6Y1MZgMBgMhiLJF0b/a+AlEbkfK9rvncCvxrRWBoPBYDAMQj8BppS6WUQeBs6xN31IKfXK2FbLYDAYDIaBKTSReQ2wZozrYjAYDAZD0ZjlVAwGg8FQkhgBZjAYDIaSxAgwg8FgMJQkRoAZDAaDoSQZdQEmIlNE5HER2WJ/1hfYL++ilSJyk4g0i8ir9t/lo11ng8FgMEx8xkID+xzwpFJqIfCk/T2LIhat/L5S6kT776ExqLPBYDAYJjhjIcCuJDMR+lfAO/LsYxatNBgMBsOQGAsBNk0ptRfA/mzKs0+hxSw1HxORdSJyeyETpMFgMBgmFyMiwETkCRHZkOevWC1qoEUrfwYcCZwI7AW+O0A9zIKWBoPBMEnIm4ljqCilLir0m4jsF5EZ9tpeM4ADeXYruOClUmq/q6xfAg8OUI/DXtDSYDAYDKXBiAiwQXgA+CDwDfvzT3n2KbjgpRZ+9n7vBDYUc9LVq1e3icjOYda5EWgb5rGlyGRqr2lr+TKZ2juabZ03SuWOOP3WAxvxE4g0APdgLdOyC7hWKXVIRGYC/6OUutze73LgFjKLVt5sb/81lvlQATuAf3QJtNGq86pSWQ9nJJhM7TVtLV8mU3snU1sHYtQ1MKXUQeDCPNtbsFZg1t8fwlqVOXe/949qBQ0Gg8FQkphMHAaDwWAoSYwAy8+t412BMWYytde0tXyZTO2dTG0tyKj7wEYKEbkduAI4oJRaMt71MRgMBsP4Ukoa2B3ApeNdCYPBYDBMDEpGgCmlVgCHRvs8hZIKlyMiskNE1ttJkleNd31GGjtzywER2eDaVlRy6VKjQFvLMhG2iMwRkadFZJOIvCYin7S3l929HaCtZXlvh0rJmBABRGQ+8GAxJsTGxkY1f/78Ua/TWKEUtPbESKcHvl+1YT/hgHfU6hGJp+iMJAbcx+MRplYFkXz5VQahL56iq5jyq4NO+pZ4Kk0knqI27B/6CQ0GQxarV69uU0pNHe96FMNYTGQeM0TkRuBGgLlz57JqVfkoFS/vOMS1P3+BoFfwFJAMsWSac46bzs/ff8qo1eOf71zDX9bvJejLr7ynlSKRUvzsH8/ktAVThlz+39/xMk+9fmDQ8v/no2/hpLnWAPsbD7/OrSu28fLXL0eGIzUNBoPDYSSAGHPKSoCVcyqp9t44APd/9CyWzKrNu8+VP/krfYnUqNajL55kyawaHvz4OXl/39DcyRU/Wkl7X3zY5Z86v557P/KWvL+/squdd/70eTr6Mlpae2+ctLIEeMg/etqnwWCYWJSMD2yy02Gb1QYyk4V8HqKjLMCiiTQhX2Ehoes3mJlxwPIHEEJ1FQEAOiIZAanPNdptNxgME4uSEWAi8lvgBeBoEdkjIh8e7zqNJZ22xlFXMYAA83uJjbYAS6YGETC2AOsbrgBLERxAQNbZAtKtgWlhFk2kh3VOg8FQmpSMCVEpdf1412E86YjE8XqEqmDhWxbye0a9E48m0jRUFh73VAV9eD2SpSENBcsMWLj8mnwCzP4/ljQamMEwmSgZDWyy09GXoC7sHzBIIeT3Eh3lTjyWSBEcQAMTEerC/iwBMxSiiYE1PK9HqAn5skyUGROi0cAMhsmEEWAlQkckQe0A5kOAkM87Bj6w1IA+MIDaCr/jsxtW+QNoYGD5wTpcQSJaWBofmMEwuTACrETotDWwgRgTE+IgJj6w/FTD94ENHCQClp+twxW4EbEFlxFgBsPkwgiwEqEjEnci8AoR8o+RBjZIqHpdRWBYPjCl1KBBImBFOmqtyz3pOZo0JkSDYTJhBFiJ0NGXGDTTRNDvJZZMM1rZVZRSRZn4aofpA4un0ihFUeVrv5fbF2Y0MINhcmEEWInQWYQA0x1/bJQ0kURKkVYM7gMbpglRmz8H1/D8jg+swwgwg2HSYgRYCZBMpemOJQecAwYZwTJaHbmOcCxGwHTHkiRSQxOkeg7bQFGOAHXhAJ2RBOm0ytL0YiYK0WCYVBgBVgJ0RZMARQRxaAE2Oh25FozFBHEAgybl7V++rYEVyIPolF/hJ62gJ57MikYc7SkEBoNhYlEyAmwyLXOSi+6kBw/isG7naGlgWsMZVENy0j0NUYAVqeE56ar6EsYHZjBMYkpCgImIF/gJcBmwGLheRBaPb63GDicP4mAmRK2BjZImktHABp8HBgw5kKPY8h0B2Zegoy+BR/TxxoRoMEwmRlWAichZIvKTESjqNGCrUupNpVQcuBu4cgTKLQmcPIhFBnGMngmxSBOfk9B3aKH0mSCOwU2IYE0t0NMLfB4xGpjBMMkY8VyIInIi8B7gXcB24L4RKHYWsNv1fQ9w+giU24+VW9pYtXPUF34eEpv3dQNFmBCHEMTx+9V72NPeB8DJc+tZvmjw9euKD+Kw6nnvqj2s29PJ6QsaOPPIhsHLL1YDswXk3S/vZtuBHurCfuLJNNFEml+/uJODPbFBz2UwlDOXHz+DRdOqx7sao86ICDARWQRcB1wPHAR+h7Xa8/kjUT6QLwFgv8lOuQtaDoeVW9v4+bPbhnXsaDK1Osj0mtCA+wT9xQmwrmiCz9y71vk+d0oFK/598FtVrICZXhOiqTrIwxv28fCGfRw7Yz8PfzL/+mF5yx8kTH9GXZjGqgB/WbcXgCtPnMlft7ax5UA3t/91+6DnMRjKnYVN1UaADYHXgeeAtyultgKIyL+MUNlgaVxzXN9nAy25O43EgpafvfRoPnvp0cM5dNQZbLXhYk2IHb2WSfLb1yzltZYu/rBmT1HnL9bEFw54+dt/XAjAv/9+HSu3thVXfrK48quCPl7+wkVZ287+5tO0dEQAuO2Dy7jgmKaizmkwGEqXkRJgV2NpYE+LyCNYPqqRXNv9ZWChiCwAmu1zvWcEy3co5SXptWY02LIiOs1TfUWA2rCf7miSZCqNzzuw4ChWA4PMdbQmHRcXzDGc8jVBv4f9XTH7nIGSvo8Gg6E4RiSIQyl1v1Lq3cAxwDPAvwDTRORnInLJCJSfBD4GPApsAu5RSr12uOWWG6EiTYgdrsUx6+2ACD3XbCCKNfG5qasIEEmkivLLZSYyD/2xDPm89MTs+XKDRGsaDIbyYESjEJVSvUqpO5VSV2CZ+V4FRmTOllLqIaXUIqXUkUqpm0eizHJDRwcOakKMZARYJiR98IjBYk18bmqHMKm52FRS+XDXabBoTYPBUB6MWhi9UuqQUuoXSqkLRuschmyK1cD05N/acCAzZ6sIAVNsqic3dUMofzgansYt9AbLGWkwGMqDkpjIbCiOYlNJddraVm3Yn5mzVYSfqthUUm7qwplJx4OWn0zhEfB7h+6/0m2vDvoG9eUZDIbywLzpZYTXI/i9Mmgmjo6+BBUBLwGfx5X2qQgTYiKNCASGICAcDawYE2UiTcjvHVYAhhaqg2UrMRgM5YMRYGVGyDf4opYdkczqzvqzKA0pkSLkG5qA0ea8Yk2Iw/F/QcbsaAI4DIbJgxFgZUbQ7x08iKMvQa2tedUMRYAlB1/MMhctUIozUaYHTVNVCO2X0yZLg8FQ/hgBVmaE/B4n2KIQnZG4o3l5PUJNyJeV1b0Q2sQ3FKqCPrweKc5EmTwMDcyYEA2GSYcRYGVGyO8tygfmNrXVVQSK9FENXcCICHXh4iYzxxKpIUU4ugk5GpgRYAbDZMEIsDIj5PcUNQ8sW4D5i/RRpQkOw8RXO4Tyh2qi1BgfmMEw+ZjwAkxErhWR10QkLSLLxrs+E53BgjiUUnT2Jah1+Ypqw37ai9GQkinCgaFrSHVhf9Fh+uHDNCEaH5jBMHmY8AIM2ABcBawY74qUAiH/wAIskkgRT6X7mRA7izUhDmOScV1FYAx8YNZxxgdmMEweJrwAU0ptUkptHu96lAqDmRC1L8qdraIuPLomvmJ9YIdlQnQ0MCPADIbJwogvaGkYX4J+Lwe6o9y6Iv+aZq3ddsb2cLYPrDOSKHiMZl9XlNn14SHXqbbCT1tPbNDy23piLJ1VO+TywRXEMciinwaDoXyYEAJMRJ4Apuf56QtKqT8NoZzDXtCy1DlyahV/WbeXrz/0esF9/F7hiKlVzvejp1ejFAMeozliauWQ63Ts9BqiifSolQ9WuxsqA8xvrBjW8QaDofQQpYa17uOYIyLPAJ9RSq0qZv9ly5apVauK2rXs6I0NvDSKzysEc3xZkXiKdBHPQmVweGOeYsoXgYrAhBhTGQyTFhFZrZQqiYC5su0tVq9e3SYiO4d5eCNQ3DLC5cFkaq9pa/kymdo7mm2dN0rljjgTXgMTkXcCPwKmAh3Aq0qpt47yOVeVyghkJJhM7TVtLV8mU3snU1sHYsJrYEqp+4H7x7seBoPBYJhYTPgweoPBYDAY8mEEWH5uHe8KjDGTqb2mreXLZGrvZGprQSa8D8xgMBgMhnwYDcxgMBgMJYkRYDmIyKUisllEtorI58a7PqOJiOwQkfUi8qqIlN2kORG5XUQOiMgG17YpIvK4iGyxP+vHs44jRYG23iQizfb9fVVELh/POo4UIjJHRJ4WkU12ou9P2tvL7t4O0NayvLdDxZgQXYiIF3gDuBjYA7wMXK+U2jiuFRslRGQHsEwpVZZzZ0RkOdAD/J9Saom97VvAIaXUN+wBSr1S6rPjWc+RoEBbbwJ6lFLfGc+6jTQiMgOYoZRaIyLVwGrgHcANlNm9HaCt76IM7+1QMRpYNqcBW5VSbyql4sDdwJXjXCfDMFFKrQAO5Wy+EviV/f+vsDqDkqdAW8sSpdRepdQa+/9uYBMwizK8twO01YARYLnMAna7vu+hvB8WBTwmIqvtPJKTgWlKqb1gdQ5A0zjXZ7T5mIiss02MJW9Sy0VE5gMnAX+jzO9tTluhzO9tMRgBlo3k2VbONtazlFInA5cB/2yboQzlw8+AI4ETgb3Ad8e1NiOMiFQBfwA+pZTqGu/6jCZ52lrW97ZYjADLZg8wx/V9NtAyTnUZdZRSLfbnAaxsJ6eNb43GhP22X0H7Fw6Mc31GDaXUfqVUSimVBn5JGd1fEfFjdeh3KqXuszeX5b3N19ZyvrdDwQiwbF4GForIAhEJANcBD4xznUYFEam0ncKISCVwCdbq1+XOA8AH7f8/CBS9XE+poTtzm3dSJvdXRAS4DdiklPqe66eyu7eF2lqu93aomCjEHOxw1FsAL3C7Uurm8a3R6CAiR5DJMekD7iq3torIb4HzsDJ37we+AvwRuAeYC+wCrlVKlXzwQ4G2nodlYlLADuAftY+olBGRs4HngPWAXn78P7B8Q2V1bwdo6/WU4b0dKkaAGQwGg6EkMSZEg8FgMJQkRoAZDAaDoSQxAsxgMBgMJYkRYAaDwWAoSYwAMxgMBkNJYgSYwTAIItLgyvq9z5UFvEdEfjpK5/yUiHxggN+vEJGvjsa5DYZSwYTRGwxDYCwyvIuID1gDnKyUShbYR+x9zlJK9Y1WXQyGiYzRwAyGYSIi54nIg/b/N4nIr0TkMXudtatE5Fv2emuP2OmAEJFTRORZO4HyozkZFTQXAGu08BKRT4jIRjtx690Ayhp5PgNcMSaNNRgmIEaAGQwjx5HA27CW9fgN8LRS6nggArzNFmI/Aq5RSp0C3A7ky35yFta6T5rPAScppZYCH3FtXwWcM+KtMBhKBN94V8BgKCMeVkolRGQ9ViqyR+zt64H5wNHAEuBxywKIFyuTeC4zsNZ90qwD7hSRP2KlwtIcAGaOXPUNhtLCCDCDYeSIASil0iKSUBkHcxrrXRPgNaXUmYOUEwFCru9vA5YDfwd8SUSOs82LIXtfg2FSYkyIBsPYsRmYKiJngrVMhogcl2e/TcBR9j4eYI5S6mng34E6oMrebxGTNAu5wQBGgBkMY4ZSKg5cA3xTRNYCrwJvybPrw1gaF1hmxt/YZslXgO8rpTrs384H/jKadTYYJjImjN5gmICIyP3AvyulthT4fRrWEjgXjm3NDIaJgxFgBsMERESOBqYppVYU+P1UIKGUenVMK2YwTCCMADMYDAZDSWJ8YAaDwWAoSYwAMxgMBkNJYgSYwWAwGEoSI8AMBoPBUJL8f4gYQOo0aid1AAAAAElFTkSuQmCC' width=432.0/>\n",
       "            </div>\n",
       "        "
      ],
      "text/plain": [
       "Canvas(toolbar=Toolbar(toolitems=[('Home', 'Reset original view', 'home', 'home'), ('Back', 'Back to previous …"
      ]
     },
     "metadata": {},
     "output_type": "display_data"
    },
    {
     "data": {
      "application/vnd.jupyter.widget-view+json": {
       "model_id": "ac7397823e5e451a8b3ecb162b527a94",
       "version_major": 2,
       "version_minor": 0
      },
      "image/png": "[encoded data removed]",
      "text/html": [
       "\n",
       "            <div style=\"display: inline-block;\">\n",
       "                <div class=\"jupyter-widgets widget-label\" style=\"text-align: center;\">\n",
       "                    Figure\n",
       "                </div>\n",
       "                <img src='data:image/png;base64,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' width=432.0/>\n",
       "            </div>\n",
       "        "
      ],
      "text/plain": [
       "Canvas(toolbar=Toolbar(toolitems=[('Home', 'Reset original view', 'home', 'home'), ('Back', 'Back to previous …"
      ]
     },
     "metadata": {},
     "output_type": "display_data"
    }
   ],
   "source": [
    "await plot_path_generator(efd_client, time_start, time_stop, filename=\"small_slew_test\")"
   ]
  },
  {
   "cell_type": "code",
   "execution_count": 123,
   "id": "5e5bf483-0864-47d5-9643-ea3afedb2a90",
   "metadata": {},
   "outputs": [],
   "source": [
    "data_controller_state, data_in_position, data_tracking = await get_event_data(\n",
    "    efd_client, time_start, time_stop)"
   ]
  },
  {
   "cell_type": "code",
   "execution_count": 124,
   "id": "848250ec-ac79-4d96-a1d9-10adf5325a8d",
   "metadata": {},
   "outputs": [
    {
     "data": {
      "text/html": [
       "<div>\n",
       "<style scoped>\n",
       "    .dataframe tbody tr th:only-of-type {\n",
       "        vertical-align: middle;\n",
       "    }\n",
       "\n",
       "    .dataframe tbody tr th {\n",
       "        vertical-align: top;\n",
       "    }\n",
       "\n",
       "    .dataframe thead th {\n",
       "        text-align: right;\n",
       "    }\n",
       "</style>\n",
       "<table border=\"1\" class=\"dataframe\">\n",
       "  <thead>\n",
       "    <tr style=\"text-align: right;\">\n",
       "      <th></th>\n",
       "      <th>controllerState</th>\n",
       "      <th>enabledSubstate</th>\n",
       "      <th>time_difference</th>\n",
       "    </tr>\n",
       "  </thead>\n",
       "  <tbody>\n",
       "    <tr>\n",
       "      <th>2022-03-21 13:27:32.071000+00:00</th>\n",
       "      <td>2</td>\n",
       "      <td>1</td>\n",
       "      <td>3.256</td>\n",
       "    </tr>\n",
       "    <tr>\n",
       "      <th>2022-03-21 13:27:33.586000+00:00</th>\n",
       "      <td>2</td>\n",
       "      <td>0</td>\n",
       "      <td>4.771</td>\n",
       "    </tr>\n",
       "    <tr>\n",
       "      <th>2022-03-21 13:27:33.989000+00:00</th>\n",
       "      <td>2</td>\n",
       "      <td>1</td>\n",
       "      <td>5.174</td>\n",
       "    </tr>\n",
       "    <tr>\n",
       "      <th>2022-03-21 13:27:35.605000+00:00</th>\n",
       "      <td>2</td>\n",
       "      <td>0</td>\n",
       "      <td>6.790</td>\n",
       "    </tr>\n",
       "    <tr>\n",
       "      <th>2022-03-21 13:27:36.007000+00:00</th>\n",
       "      <td>2</td>\n",
       "      <td>1</td>\n",
       "      <td>7.192</td>\n",
       "    </tr>\n",
       "    <tr>\n",
       "      <th>2022-03-21 13:27:37.525000+00:00</th>\n",
       "      <td>2</td>\n",
       "      <td>0</td>\n",
       "      <td>8.710</td>\n",
       "    </tr>\n",
       "    <tr>\n",
       "      <th>2022-03-21 13:27:38.029000+00:00</th>\n",
       "      <td>2</td>\n",
       "      <td>1</td>\n",
       "      <td>9.214</td>\n",
       "    </tr>\n",
       "    <tr>\n",
       "      <th>2022-03-21 13:27:38.130000+00:00</th>\n",
       "      <td>2</td>\n",
       "      <td>0</td>\n",
       "      <td>9.315</td>\n",
       "    </tr>\n",
       "  </tbody>\n",
       "</table>\n",
       "</div>"
      ],
      "text/plain": [
       "                                  controllerState  enabledSubstate  \\\n",
       "2022-03-21 13:27:32.071000+00:00                2                1   \n",
       "2022-03-21 13:27:33.586000+00:00                2                0   \n",
       "2022-03-21 13:27:33.989000+00:00                2                1   \n",
       "2022-03-21 13:27:35.605000+00:00                2                0   \n",
       "2022-03-21 13:27:36.007000+00:00                2                1   \n",
       "2022-03-21 13:27:37.525000+00:00                2                0   \n",
       "2022-03-21 13:27:38.029000+00:00                2                1   \n",
       "2022-03-21 13:27:38.130000+00:00                2                0   \n",
       "\n",
       "                                  time_difference  \n",
       "2022-03-21 13:27:32.071000+00:00            3.256  \n",
       "2022-03-21 13:27:33.586000+00:00            4.771  \n",
       "2022-03-21 13:27:33.989000+00:00            5.174  \n",
       "2022-03-21 13:27:35.605000+00:00            6.790  \n",
       "2022-03-21 13:27:36.007000+00:00            7.192  \n",
       "2022-03-21 13:27:37.525000+00:00            8.710  \n",
       "2022-03-21 13:27:38.029000+00:00            9.214  \n",
       "2022-03-21 13:27:38.130000+00:00            9.315  "
      ]
     },
     "execution_count": 124,
     "metadata": {},
     "output_type": "execute_result"
    }
   ],
   "source": [
    "data_controller_state"
   ]
  },
  {
   "cell_type": "code",
   "execution_count": 125,
   "id": "5fb5c22c-03dc-4f8d-aaad-c2257129feb0",
   "metadata": {},
   "outputs": [
    {
     "data": {
      "text/html": [
       "<div>\n",
       "<style scoped>\n",
       "    .dataframe tbody tr th:only-of-type {\n",
       "        vertical-align: middle;\n",
       "    }\n",
       "\n",
       "    .dataframe tbody tr th {\n",
       "        vertical-align: top;\n",
       "    }\n",
       "\n",
       "    .dataframe thead th {\n",
       "        text-align: right;\n",
       "    }\n",
       "</style>\n",
       "<table border=\"1\" class=\"dataframe\">\n",
       "  <thead>\n",
       "    <tr style=\"text-align: right;\">\n",
       "      <th></th>\n",
       "      <th>inPosition</th>\n",
       "      <th>time_difference</th>\n",
       "    </tr>\n",
       "  </thead>\n",
       "  <tbody>\n",
       "    <tr>\n",
       "      <th>2022-03-21 13:27:33.587000+00:00</th>\n",
       "      <td>True</td>\n",
       "      <td>4.772</td>\n",
       "    </tr>\n",
       "    <tr>\n",
       "      <th>2022-03-21 13:27:33.687000+00:00</th>\n",
       "      <td>False</td>\n",
       "      <td>4.872</td>\n",
       "    </tr>\n",
       "    <tr>\n",
       "      <th>2022-03-21 13:27:35.606000+00:00</th>\n",
       "      <td>True</td>\n",
       "      <td>6.791</td>\n",
       "    </tr>\n",
       "    <tr>\n",
       "      <th>2022-03-21 13:27:35.706000+00:00</th>\n",
       "      <td>False</td>\n",
       "      <td>6.891</td>\n",
       "    </tr>\n",
       "    <tr>\n",
       "      <th>2022-03-21 13:27:37.526000+00:00</th>\n",
       "      <td>True</td>\n",
       "      <td>8.711</td>\n",
       "    </tr>\n",
       "    <tr>\n",
       "      <th>2022-03-21 13:27:37.627000+00:00</th>\n",
       "      <td>False</td>\n",
       "      <td>8.812</td>\n",
       "    </tr>\n",
       "  </tbody>\n",
       "</table>\n",
       "</div>"
      ],
      "text/plain": [
       "                                  inPosition  time_difference\n",
       "2022-03-21 13:27:33.587000+00:00        True            4.772\n",
       "2022-03-21 13:27:33.687000+00:00       False            4.872\n",
       "2022-03-21 13:27:35.606000+00:00        True            6.791\n",
       "2022-03-21 13:27:35.706000+00:00       False            6.891\n",
       "2022-03-21 13:27:37.526000+00:00        True            8.711\n",
       "2022-03-21 13:27:37.627000+00:00       False            8.812"
      ]
     },
     "execution_count": 125,
     "metadata": {},
     "output_type": "execute_result"
    }
   ],
   "source": [
    "data_in_position"
   ]
  },
  {
   "cell_type": "code",
   "execution_count": 126,
   "id": "2a4e8ffd-c649-47bb-9ae6-2697f2b5087f",
   "metadata": {},
   "outputs": [
    {
     "data": {
      "text/html": [
       "<div>\n",
       "<style scoped>\n",
       "    .dataframe tbody tr th:only-of-type {\n",
       "        vertical-align: middle;\n",
       "    }\n",
       "\n",
       "    .dataframe tbody tr th {\n",
       "        vertical-align: top;\n",
       "    }\n",
       "\n",
       "    .dataframe thead th {\n",
       "        text-align: right;\n",
       "    }\n",
       "</style>\n",
       "<table border=\"1\" class=\"dataframe\">\n",
       "  <thead>\n",
       "    <tr style=\"text-align: right;\">\n",
       "      <th></th>\n",
       "    </tr>\n",
       "  </thead>\n",
       "  <tbody>\n",
       "  </tbody>\n",
       "</table>\n",
       "</div>"
      ],
      "text/plain": [
       "Empty DataFrame\n",
       "Columns: []\n",
       "Index: []"
      ]
     },
     "execution_count": 126,
     "metadata": {},
     "output_type": "execute_result"
    }
   ],
   "source": [
    "data_tracking"
   ]
  },
  {
   "cell_type": "markdown",
   "id": "fec71607-4c2b-4df3-9c9c-ecbb2f591f08",
   "metadata": {},
   "source": [
    "**Test Case (long slew test + constant speed test)**\n",
    "\n",
    "Test the positive and negative directions.\n",
    "The behavior of trajectory generator should be the same for these two tests.\n",
    "Note the CSC does not support the command of constant speed move."
   ]
  },
  {
   "cell_type": "code",
   "execution_count": null,
   "id": "e1803534",
   "metadata": {},
   "outputs": [],
   "source": [
    "time_start = script_log_start(script, test_title, \"long slew / constant speed test\")"
   ]
  },
  {
   "cell_type": "code",
   "execution_count": null,
   "id": "62955458-d3f7-4b1b-99a1-485da7e0a887",
   "metadata": {},
   "outputs": [],
   "source": [
    "await slew_test(rotator, 90, 35, 10)"
   ]
  },
  {
   "cell_type": "code",
   "execution_count": null,
   "id": "5ca54686",
   "metadata": {},
   "outputs": [],
   "source": [
    "time_stop = script_log_stop(script, test_title, \"long slew / constant speed test\")"
   ]
  },
  {
   "cell_type": "code",
   "execution_count": null,
   "id": "e9a64495-bf30-44d3-9936-615bf6eb6eb4",
   "metadata": {},
   "outputs": [],
   "source": [
    "await plot_path_generator(efd_client, time_start, time_stop, filename=\"long_slew_constant_speed\")"
   ]
  },
  {
   "cell_type": "code",
   "execution_count": null,
   "id": "239ec61f-1923-4d35-91d6-cf00904730fa",
   "metadata": {},
   "outputs": [],
   "source": [
    "data_controller_state, data_in_position, data_tracking = await get_event_data(\n",
    "    efd_client, time_start, time_stop)"
   ]
  },
  {
   "cell_type": "code",
   "execution_count": null,
   "id": "38668e45-7735-4298-b360-55a09932d28e",
   "metadata": {},
   "outputs": [],
   "source": [
    "data_controller_state"
   ]
  },
  {
   "cell_type": "code",
   "execution_count": null,
   "id": "c96f55dc-faa1-4845-ad30-5db15aa4075a",
   "metadata": {},
   "outputs": [],
   "source": [
    "data_in_position"
   ]
  },
  {
   "cell_type": "code",
   "execution_count": null,
   "id": "095f49d5-fb2f-4d62-9e15-99550ca7fe60",
   "metadata": {},
   "outputs": [],
   "source": [
    "data_tracking"
   ]
  },
  {
   "cell_type": "markdown",
   "id": "9756a90e-95a8-4068-add7-4d17259db004",
   "metadata": {},
   "source": [
    "**Test Case (rotation range test)**\n",
    "\n",
    "Note the CSC does not support the command of constant speed move."
   ]
  },
  {
   "cell_type": "code",
   "execution_count": null,
   "id": "310739f3",
   "metadata": {},
   "outputs": [],
   "source": [
    "time_start = script_log_start(script, test_title, \"rotation range test\")"
   ]
  },
  {
   "cell_type": "markdown",
   "id": "24895a87",
   "metadata": {},
   "source": [
    "The configuration file of controller can update the following parameters: Parameters_upperPosLimit_deg, Parameters_lowerPosLimit_deg, Parameters_PositionErrorThresh, Parameters_FollowingErrorThreshold_deg, Parameters_trackingSuccessPositionThreshold_deg, and Parameters_trackingLostTimeout_sec in the Simulink model."
   ]
  },
  {
   "cell_type": "code",
   "execution_count": null,
   "id": "05b70bc4-e8f2-4bb5-9db0-6e0a41e42d90",
   "metadata": {},
   "outputs": [],
   "source": [
    "# Test the move position is out of range\n",
    "try:\n",
    "    await rotator.cmd_move.set_start(position=91, timeout=60)\n",
    "except salobj.AckError as error:\n",
    "    print(error)\n",
    "\n",
    "try:\n",
    "    await rotator.cmd_move.set_start(position=-91, timeout=60)\n",
    "except salobj.AckError as error:\n",
    "    print(error)"
   ]
  },
  {
   "cell_type": "code",
   "execution_count": null,
   "id": "715e4fe6",
   "metadata": {},
   "outputs": [],
   "source": [
    "time_stop = script_log_stop(script, test_title, \"rotation range test\")"
   ]
  },
  {
   "cell_type": "code",
   "execution_count": null,
   "id": "02bfef3b-fcd5-4fa3-90cf-49e30dcf321a",
   "metadata": {},
   "outputs": [],
   "source": [
    "await plot_path_generator(efd_client, time_start, time_stop, filename=\"rotation_range\")"
   ]
  },
  {
   "cell_type": "code",
   "execution_count": null,
   "id": "cf6e4d5b-e4c8-4711-a3a5-48d831b2fc90",
   "metadata": {},
   "outputs": [],
   "source": [
    "data_controller_state, data_in_position, data_tracking = await get_event_data(\n",
    "    efd_client, time_start, time_stop)"
   ]
  },
  {
   "cell_type": "code",
   "execution_count": null,
   "id": "7a1733e3-bb84-402c-9591-30e3d64e9abe",
   "metadata": {},
   "outputs": [],
   "source": [
    "data_controller_state"
   ]
  },
  {
   "cell_type": "code",
   "execution_count": null,
   "id": "67a1ea67-643d-4eef-9f79-4bec59c02188",
   "metadata": {},
   "outputs": [],
   "source": [
    "data_in_position"
   ]
  },
  {
   "cell_type": "code",
   "execution_count": null,
   "id": "4422d522-110a-449c-b4d3-ddeb3e1f9db6",
   "metadata": {},
   "outputs": [],
   "source": [
    "data_tracking"
   ]
  },
  {
   "cell_type": "markdown",
   "id": "b0bcab5c-8707-4b74-8530-17e1297b222b",
   "metadata": {},
   "source": [
    "**Test Case (position accuracy)**\n",
    "\n",
    "The **slewingAndTracking** operation will be tested.\n",
    "Note the rotator will transition to Fault state in the final if there is no new track command.\n",
    "This behaviour can be used to verify the test case of \"no tracking commands\".\n",
    "In addition, the trajectory generator will do the extrapolation in a small time period before the transition to **Fault** state."
   ]
  },
  {
   "cell_type": "markdown",
   "id": "c5d96ac6-63dd-4ee5-bc13-eb924623748b",
   "metadata": {},
   "source": [
    "Target is moving in the positive direction."
   ]
  },
  {
   "cell_type": "code",
   "execution_count": null,
   "id": "ed129305",
   "metadata": {},
   "outputs": [],
   "source": [
    "time_start = script_log_start(script, test_title, \"position accuracy (positive)\")"
   ]
  },
  {
   "cell_type": "code",
   "execution_count": null,
   "id": "d2b11c05-4e76-4bcb-be95-a031769bb067",
   "metadata": {},
   "outputs": [],
   "source": [
    "await track_target(rotator, 30, 30.5, 0.03)"
   ]
  },
  {
   "cell_type": "code",
   "execution_count": null,
   "id": "8569f805",
   "metadata": {},
   "outputs": [],
   "source": [
    "time_stop = script_log_stop(script, test_title, \"position accuracy (positive)\")"
   ]
  },
  {
   "cell_type": "code",
   "execution_count": null,
   "id": "aad8abfe-8b65-42cb-8616-73086d59eddd",
   "metadata": {},
   "outputs": [],
   "source": [
    "await plot_path_generator(efd_client, time_start, time_stop, filename=\"position_accuracy_positive\")"
   ]
  },
  {
   "cell_type": "code",
   "execution_count": null,
   "id": "e0235286-20df-41fb-9eff-dd62a8145ee8",
   "metadata": {},
   "outputs": [],
   "source": [
    "data_controller_state, data_in_position, data_tracking = await get_event_data(\n",
    "    efd_client, time_start, time_stop)"
   ]
  },
  {
   "cell_type": "code",
   "execution_count": null,
   "id": "7487398f-d544-4edd-af2b-89671dcce1d2",
   "metadata": {},
   "outputs": [],
   "source": [
    "data_controller_state"
   ]
  },
  {
   "cell_type": "code",
   "execution_count": null,
   "id": "ba2f9544-0be2-4452-b3ae-a833a86d6788",
   "metadata": {},
   "outputs": [],
   "source": [
    "data_in_position"
   ]
  },
  {
   "cell_type": "code",
   "execution_count": null,
   "id": "0f325e18-771c-46c2-aab5-6ebc69c955fd",
   "metadata": {},
   "outputs": [],
   "source": [
    "data_tracking"
   ]
  },
  {
   "cell_type": "markdown",
   "id": "359c86b6-d90e-4dab-9b55-9473dddf396c",
   "metadata": {},
   "source": [
    "Target is moving in the negative direction."
   ]
  },
  {
   "cell_type": "code",
   "execution_count": null,
   "id": "c908aff0",
   "metadata": {},
   "outputs": [],
   "source": [
    "time_start = script_log_start(script, test_title, \"position accuracy (negative)\")"
   ]
  },
  {
   "cell_type": "code",
   "execution_count": null,
   "id": "25a726d7-c0f1-45b0-8a5c-e59c9171944c",
   "metadata": {},
   "outputs": [],
   "source": [
    "await track_target(rotator, -30, -31.1, -0.068)"
   ]
  },
  {
   "cell_type": "code",
   "execution_count": null,
   "id": "7e53cee0",
   "metadata": {},
   "outputs": [],
   "source": [
    "time_stop = script_log_stop(script, test_title, \"position accuracy (negative)\")"
   ]
  },
  {
   "cell_type": "code",
   "execution_count": null,
   "id": "5bb499b1-6ad8-4113-ae63-008325bf775e",
   "metadata": {},
   "outputs": [],
   "source": [
    "await plot_path_generator(efd_client, time_start, time_stop, filename=\"position_accuracy_negative\")"
   ]
  },
  {
   "cell_type": "code",
   "execution_count": null,
   "id": "7ba6361d-8c35-4577-b133-85065e35cc0c",
   "metadata": {},
   "outputs": [],
   "source": [
    "data_controller_state, data_in_position, data_tracking = await get_event_data(\n",
    "    efd_client, time_start, time_stop)"
   ]
  },
  {
   "cell_type": "code",
   "execution_count": null,
   "id": "4f679cb4-77aa-4eca-ac93-b6363d5d939f",
   "metadata": {},
   "outputs": [],
   "source": [
    "data_controller_state"
   ]
  },
  {
   "cell_type": "code",
   "execution_count": null,
   "id": "54ffbdaa-4d7a-4852-b81a-a7f61ca5080f",
   "metadata": {},
   "outputs": [],
   "source": [
    "data_in_position"
   ]
  },
  {
   "cell_type": "code",
   "execution_count": null,
   "id": "ba7e832e-dbd6-4716-bff0-8e0e611c4051",
   "metadata": {},
   "outputs": [],
   "source": [
    "data_tracking"
   ]
  },
  {
   "cell_type": "markdown",
   "id": "ac63e78d-b2d0-41f1-a550-628715a91a41",
   "metadata": {},
   "source": [
    "**Test Case (tracking / slewing sequence test)**\n",
    "\n",
    "Track two targets and stop in between."
   ]
  },
  {
   "cell_type": "code",
   "execution_count": null,
   "id": "d761c66f",
   "metadata": {},
   "outputs": [],
   "source": [
    "time_start = script_log_start(script, test_title, \"tracking/slewing sequence test\")"
   ]
  },
  {
   "cell_type": "code",
   "execution_count": null,
   "id": "a674e841-f71d-48a1-bce5-e0e2b8f10059",
   "metadata": {},
   "outputs": [],
   "source": [
    "await track_slew_test(rotator)"
   ]
  },
  {
   "cell_type": "code",
   "execution_count": null,
   "id": "9a542200",
   "metadata": {},
   "outputs": [],
   "source": [
    "time_stop = script_log_stop(script, test_title, \"tracking/slewing sequence test\")"
   ]
  },
  {
   "cell_type": "code",
   "execution_count": null,
   "id": "bac37507-a0b1-4d1a-a958-5004c9d63882",
   "metadata": {},
   "outputs": [],
   "source": [
    "await plot_path_generator(efd_client, time_start, time_stop, filename=\"tracking_slewing_sequence\")"
   ]
  },
  {
   "cell_type": "code",
   "execution_count": null,
   "id": "e6c29d7f-7a9a-46b6-a5d8-a9ae395c9695",
   "metadata": {},
   "outputs": [],
   "source": [
    "data_controller_state, data_in_position, data_tracking = await get_event_data(\n",
    "    efd_client, time_start, time_stop)"
   ]
  },
  {
   "cell_type": "code",
   "execution_count": null,
   "id": "370054ec-3fe4-49b1-b432-4f218bf20f5a",
   "metadata": {},
   "outputs": [],
   "source": [
    "data_controller_state"
   ]
  },
  {
   "cell_type": "code",
   "execution_count": null,
   "id": "01014f0d-2a5f-4d99-a0da-c44c0afc773c",
   "metadata": {},
   "outputs": [],
   "source": [
    "data_in_position"
   ]
  },
  {
   "cell_type": "code",
   "execution_count": null,
   "id": "af508a4a-17dd-42e9-9e42-4701049006b8",
   "metadata": {},
   "outputs": [],
   "source": [
    "data_tracking"
   ]
  },
  {
   "cell_type": "markdown",
   "id": "a762a505-d126-4178-8e11-c0e0b921a45a",
   "metadata": {},
   "source": [
    "**Test Case (tracking without initial slewing)**\n",
    "\n",
    "No initial slewing is applied to the rotator."
   ]
  },
  {
   "cell_type": "code",
   "execution_count": null,
   "id": "52e8e018",
   "metadata": {},
   "outputs": [],
   "source": [
    "time_start = script_log_start(script, test_title, \"tracking w/o initial slewing\")"
   ]
  },
  {
   "cell_type": "code",
   "execution_count": null,
   "id": "32c8a193-59f6-44ef-828d-4bf6a2f050dd",
   "metadata": {},
   "outputs": [],
   "source": [
    "data = await rotator.tel_rotation.aget(timeout=15)\n",
    "await track_target(rotator, data.actualPosition, data.actualPosition + 0.5, 0.068)"
   ]
  },
  {
   "cell_type": "code",
   "execution_count": null,
   "id": "0b8a814b",
   "metadata": {},
   "outputs": [],
   "source": [
    "time_stop = script_log_stop(script, test_title, \"tracking w/o initial slewing\")"
   ]
  },
  {
   "cell_type": "code",
   "execution_count": null,
   "id": "b2c544c4-6cd7-4d3a-99bc-4ce98185207b",
   "metadata": {},
   "outputs": [],
   "source": [
    "await plot_path_generator(efd_client, time_start, time_stop, filename=\"tracking_no_initial_slewing\")"
   ]
  },
  {
   "cell_type": "code",
   "execution_count": null,
   "id": "46dc7213-06a6-4a8b-904b-a2c06f85d3fb",
   "metadata": {},
   "outputs": [],
   "source": [
    "data_controller_state, data_in_position, data_tracking = await get_event_data(\n",
    "    efd_client, time_start, time_stop)"
   ]
  },
  {
   "cell_type": "code",
   "execution_count": null,
   "id": "d7e5eab2-969d-48db-a7d7-644d981f9b44",
   "metadata": {},
   "outputs": [],
   "source": [
    "data_controller_state"
   ]
  },
  {
   "cell_type": "code",
   "execution_count": null,
   "id": "6678a4ed-33c0-446b-b898-2957b4dbcbcd",
   "metadata": {},
   "outputs": [],
   "source": [
    "data_in_position"
   ]
  },
  {
   "cell_type": "code",
   "execution_count": null,
   "id": "aa86dffd-fade-4052-bef9-cf70b3a19e3a",
   "metadata": {},
   "outputs": [],
   "source": [
    "data_tracking"
   ]
  },
  {
   "cell_type": "markdown",
   "id": "b8fec7d8-b442-4606-b917-2ddcf744a6ae",
   "metadata": {},
   "source": [
    "**Test Case (slewing supersession)**\n",
    "\n",
    "Test the slewing supersession capability of the rotator."
   ]
  },
  {
   "cell_type": "code",
   "execution_count": null,
   "id": "4af30ac5",
   "metadata": {},
   "outputs": [],
   "source": [
    "time_start = script_log_start(script, test_title, \"slewing supersession\")"
   ]
  },
  {
   "cell_type": "code",
   "execution_count": null,
   "id": "ce116647-20d9-4575-9a9b-9c910aac3649",
   "metadata": {},
   "outputs": [],
   "source": [
    "await slew_supersession_test(rotator)"
   ]
  },
  {
   "cell_type": "code",
   "execution_count": null,
   "id": "9a71d745",
   "metadata": {},
   "outputs": [],
   "source": [
    "time_stop = script_log_stop(script, test_title, \"slewing supersession\")"
   ]
  },
  {
   "cell_type": "code",
   "execution_count": null,
   "id": "006647a9-60ad-454f-a41a-f5c5ccf8bbf5",
   "metadata": {},
   "outputs": [],
   "source": [
    "await plot_path_generator(efd_client, time_start, time_stop, filename=\"slewing_supersession\")"
   ]
  },
  {
   "cell_type": "code",
   "execution_count": null,
   "id": "1a064213-8beb-4217-9e24-83ef9dc951d7",
   "metadata": {},
   "outputs": [],
   "source": [
    "data_controller_state, data_in_position, data_tracking = await get_event_data(\n",
    "    efd_client, time_start, time_stop)"
   ]
  },
  {
   "cell_type": "code",
   "execution_count": null,
   "id": "5e5af1a2-7ae1-41c2-a20e-897957926d36",
   "metadata": {},
   "outputs": [],
   "source": [
    "data_controller_state"
   ]
  },
  {
   "cell_type": "code",
   "execution_count": null,
   "id": "d54151f4-08c9-4405-8907-1824a2801cea",
   "metadata": {},
   "outputs": [],
   "source": [
    "data_in_position"
   ]
  },
  {
   "cell_type": "code",
   "execution_count": null,
   "id": "e35622ca-204a-41a8-9f73-226555428801",
   "metadata": {},
   "outputs": [],
   "source": [
    "data_tracking"
   ]
  },
  {
   "cell_type": "markdown",
   "id": "b8efad31-4c89-47b9-b154-d8b6f108afa4",
   "metadata": {},
   "source": [
    "**Test Case (tracking / slewing with multiple stops)**"
   ]
  },
  {
   "cell_type": "code",
   "execution_count": null,
   "id": "f0a02dd9",
   "metadata": {},
   "outputs": [],
   "source": [
    "time_start = script_log_start(script, test_title, \"tracking/slewing with multiple stops\")"
   ]
  },
  {
   "cell_type": "code",
   "execution_count": null,
   "id": "354cc778-b8a9-4cba-9af7-62c3894def3c",
   "metadata": {},
   "outputs": [],
   "source": [
    "await track_slew_multiple_stop_test(rotator)"
   ]
  },
  {
   "cell_type": "code",
   "execution_count": null,
   "id": "d797d147",
   "metadata": {},
   "outputs": [],
   "source": [
    "time_stop = script_log_stop(script, test_title, \"tracking/slewing with multiple stops\")"
   ]
  },
  {
   "cell_type": "code",
   "execution_count": null,
   "id": "491cab5f-53c2-4c17-986b-9d7d06f36c02",
   "metadata": {},
   "outputs": [],
   "source": [
    "await plot_path_generator(efd_client, time_start, time_stop, filename=\"tracking_slewing_multiple_stops\")"
   ]
  },
  {
   "cell_type": "code",
   "execution_count": null,
   "id": "33e74090-6b67-4e23-9728-843c00230afe",
   "metadata": {},
   "outputs": [],
   "source": [
    "data_controller_state, data_in_position, data_tracking = await get_event_data(\n",
    "    efd_client, time_start, time_stop)"
   ]
  },
  {
   "cell_type": "code",
   "execution_count": null,
   "id": "5b523e46-231e-4798-bca9-2cbc52fa2262",
   "metadata": {},
   "outputs": [],
   "source": [
    "data_controller_state"
   ]
  },
  {
   "cell_type": "code",
   "execution_count": null,
   "id": "4c27b8fd-4890-427b-8213-5dbde39f83ff",
   "metadata": {},
   "outputs": [],
   "source": [
    "data_in_position"
   ]
  },
  {
   "cell_type": "code",
   "execution_count": null,
   "id": "9686dd71-c1c2-462d-a7fb-cf8abf9b2847",
   "metadata": {},
   "outputs": [],
   "source": [
    "data_tracking"
   ]
  },
  {
   "cell_type": "code",
   "execution_count": null,
   "id": "4af5b98c-daaa-4235-b9ef-938147964119",
   "metadata": {},
   "outputs": [],
   "source": []
  }
 ],
 "metadata": {
  "kernelspec": {
   "display_name": "LSST",
   "language": "python",
   "name": "lsst"
  },
  "language_info": {
   "codemirror_mode": {
    "name": "ipython",
    "version": 3
   },
   "file_extension": ".py",
   "mimetype": "text/x-python",
   "name": "python",
   "nbconvert_exporter": "python",
   "pygments_lexer": "ipython3",
   "version": "3.8.12"
  }
 },
 "nbformat": 4,
 "nbformat_minor": 5
}
