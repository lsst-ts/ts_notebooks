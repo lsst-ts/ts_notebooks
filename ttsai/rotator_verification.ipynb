{
 "cells": [
  {
   "cell_type": "markdown",
   "id": "50cf51b7-2f25-4360-af22-fd9322b26b34",
   "metadata": {},
   "source": [
    "**Rotator Trajectory Verification**\n",
    "\n",
    "This Jupyter notebook is used to verify the updated rotator trajectory generator by Tekniker.\n",
    "The test will be performed on summit with the real hardware.\n",
    "Before that, the Tucson test stand is used to develop the test procedure.\n",
    "The rotator commandable SAL component (CSC) is used to control the rotator hardware.\n",
    "The published event and telemetry are stored in the engineering facility database (EFD).\n",
    "\n",
    "It is noted that the **MTMount** telemetry data is required.\n",
    "Otherwise, the rotator CSC will put the low-level controller into the **Fault** state.\n",
    "\n",
    "The **setup** notebook can be used to bring up rotator and mount/CCW."
   ]
  },
  {
   "cell_type": "markdown",
   "id": "77635002-44f9-4e1e-9432-a15b032f3fe7",
   "metadata": {},
   "source": [
    "**Import Modules**"
   ]
  },
  {
   "cell_type": "code",
   "execution_count": 1,
   "id": "bd51ca47-ee1d-412d-914a-9fe431e6fdca",
   "metadata": {},
   "outputs": [
    {
     "data": {
      "text/html": [
       "<pre style=\"margin: 0.1em;\n",
       "padding-left: 0.25em;\n",
       "border-left-style: solid;\n",
       "font-family: var(--jp-code-font-family);\n",
       "font-size: var(--jp-code-font-size);\n",
       "line-height: var(--jp-code-line-height);\n",
       "\"><span style=\"color: var(--jp-warn-color2)\">lsst.ts.utils.tai</span> <span style=\"color: var(--jp-info-color0)\">INFO</span>: Update leap second table</pre>"
      ],
      "text/plain": [
       "<IPython.core.display.HTML object>"
      ]
     },
     "metadata": {},
     "output_type": "display_data"
    },
    {
     "data": {
      "text/html": [
       "<pre style=\"margin: 0.1em;\n",
       "padding-left: 0.25em;\n",
       "border-left-style: solid;\n",
       "font-family: var(--jp-code-font-family);\n",
       "font-size: var(--jp-code-font-size);\n",
       "line-height: var(--jp-code-line-height);\n",
       "\"><span style=\"color: var(--jp-warn-color2)\">lsst.ts.utils.tai</span> <span style=\"color: var(--jp-info-color0)\">INFO</span>: current_tai uses the system TAI clock</pre>"
      ],
      "text/plain": [
       "<IPython.core.display.HTML object>"
      ]
     },
     "metadata": {},
     "output_type": "display_data"
    }
   ],
   "source": [
    "%matplotlib inline\n",
    "%matplotlib widget\n",
    "import asyncio\n",
    "from datetime import datetime\n",
    "import time\n",
    "from astropy.time import Time\n",
    "import pandas as pd\n",
    "import numpy as np\n",
    "import matplotlib.pyplot as plt\n",
    "\n",
    "from lsst.ts import salobj\n",
    "from lsst.ts import simactuators\n",
    "from lsst_efd_client import EfdClient"
   ]
  },
  {
   "cell_type": "markdown",
   "id": "da828c63-1f59-4de3-9216-8fb2aa99f11a",
   "metadata": {},
   "source": [
    "**Custom Functions**"
   ]
  },
  {
   "cell_type": "code",
   "execution_count": 2,
   "id": "33ee5f92-537c-4aae-93bc-ecae213d0d4b",
   "metadata": {},
   "outputs": [],
   "source": [
    "def retrieve_efd_client(is_summit=True):\n",
    "    \"\"\"\n",
    "    Retrieves a client to EFD.\n",
    "\n",
    "    Parameters\n",
    "    ----------\n",
    "    is_summit : bool, optional\n",
    "        This notebook is running on the summit or not. If not, the returned object will point\n",
    "        to the test stand at Tucson.\n",
    "\n",
    "    Returns\n",
    "    -------\n",
    "    EfdClient : The interface object between the Nublado and summit/Tucson EFD.\n",
    "    \"\"\"\n",
    "    efd_name = \"summit_efd\" if is_summit else \"tucson_teststand_efd\"        \n",
    "    return EfdClient(efd_name)"
   ]
  },
  {
   "cell_type": "code",
   "execution_count": 3,
   "id": "80fee146-19c9-4032-8120-7730bb07acd6",
   "metadata": {},
   "outputs": [],
   "source": [
    "async def print_summary_state(csc):\n",
    "    \"\"\"\n",
    "    Print the summary state of rotator.\n",
    "\n",
    "    Parameters\n",
    "    ----------\n",
    "    csc : lsst.ts.salobj.remote.Remote\n",
    "        Remote object of the rotator CSC.\n",
    "    \"\"\"\n",
    "    data = await csc.evt_summaryState.aget(timeout=30)\n",
    "    print(salobj.State(data.summaryState))"
   ]
  },
  {
   "cell_type": "code",
   "execution_count": 4,
   "id": "b3cde69c-2286-4930-8b57-47187d926b86",
   "metadata": {},
   "outputs": [],
   "source": [
    "async def print_rotator_position(csc):\n",
    "    \"\"\"\n",
    "    Print the rotator position in degree.\n",
    "\n",
    "    Parameters\n",
    "    ----------\n",
    "    csc : lsst.ts.salobj.remote.Remote\n",
    "        Remote object of the rotator CSC.\n",
    "    \"\"\"\n",
    "    data = await csc.tel_rotation.aget(timeout=15)\n",
    "    print(f\"Rotator is at {data.actualPosition} degree.\")"
   ]
  },
  {
   "cell_type": "code",
   "execution_count": 5,
   "id": "112b097d-8a2e-474f-9a93-8864fd107cd3",
   "metadata": {},
   "outputs": [],
   "source": [
    "async def print_rotator_latest_message(csc):\n",
    "    \"\"\"\n",
    "    Print the latest message of rotator.\n",
    "\n",
    "    Parameters\n",
    "    ----------\n",
    "    csc : lsst.ts.salobj.remote.Remote\n",
    "        Remote object of the rotator CSC.\n",
    "    \"\"\"\n",
    "    data = await csc.evt_logMessage.aget(timeout=15)\n",
    "    print(data.message)"
   ]
  },
  {
   "cell_type": "code",
   "execution_count": 6,
   "id": "2e6b9d74-abe3-4f9d-b637-e4da3af61675",
   "metadata": {},
   "outputs": [],
   "source": [
    "def script_log_start(controller_script, test_title, test_detail):\n",
    "    \"\"\"Log the start of test case in script controller.\n",
    "\n",
    "    Parameters\n",
    "    ----------\n",
    "    controller_script : lsst.ts.salobj.controller.Controller\n",
    "        Script controller.\n",
    "    test_title : str\n",
    "        Test title.\n",
    "    test_detail : str\n",
    "        Test detail.\n",
    "\n",
    "    Returns\n",
    "    -------\n",
    "    astropy.time.core.Time\n",
    "        Time object.\n",
    "    \"\"\"\n",
    "    time_now = datetime.now()\n",
    "    controller_script.log.info(f\"START -- {test_title} -- LVV-T2539 -- {test_detail} -- Starting Time: {time_now} UTC\")\n",
    "    return Time(time_now.isoformat(), scale=\"utc\", format=\"isot\")"
   ]
  },
  {
   "cell_type": "code",
   "execution_count": 7,
   "id": "2c999d2f-f15c-4592-9a70-1ba4afc0c084",
   "metadata": {},
   "outputs": [],
   "source": [
    "def script_log_stop(controller_script, test_title, test_detail):\n",
    "    \"\"\"Log the stop of test case in script controller.\n",
    "\n",
    "    Parameters\n",
    "    ----------\n",
    "    controller_script : lsst.ts.salobj.controller.Controller\n",
    "        Script controller.\n",
    "    test_title : str\n",
    "        Test title.\n",
    "    test_detail : str\n",
    "        Test detail.\n",
    "\n",
    "    Returns\n",
    "    -------\n",
    "    astropy.time.core.Time\n",
    "        Time object.\n",
    "    \"\"\"\n",
    "    time_now = datetime.now()\n",
    "    controller_script.log.info(f\"STOP -- {test_title} -- LVV-T2539 -- {test_detail} -- Starting Time: {time_now} UTC\")\n",
    "    return Time(time_now.isoformat(), scale=\"utc\", format=\"isot\")"
   ]
  },
  {
   "cell_type": "code",
   "execution_count": 8,
   "id": "7db5c908-bf35-4764-a978-47d1faaece10",
   "metadata": {},
   "outputs": [],
   "source": [
    "def generate_tracking_target(position, velocity, period):\n",
    "    \"\"\"\n",
    "    Generate the tracking target.\n",
    "\n",
    "    Parameters\n",
    "    ----------\n",
    "    position : float\n",
    "        Initial position of target in deg.\n",
    "    velocity : float\n",
    "        Velocity of the target in deg/sec.\n",
    "    period : float\n",
    "        Period to track in second.\n",
    "\n",
    "    Returns\n",
    "    -------\n",
    "    list_position : list\n",
    "        List of the position.\n",
    "    list_velocity : list\n",
    "        List of the velocity.\n",
    "    \"\"\"\n",
    "    # 20 Hz is 0.05 s\n",
    "    delta_t = 0.05\n",
    "    number_total_commands = int(period / delta_t)\n",
    "    \n",
    "    list_position = [position + velocity * idx for idx in range(0, number_total_commands)]\n",
    "    list_velocity = [velocity] *  number_total_commands\n",
    "    return list_position, list_velocity"
   ]
  },
  {
   "cell_type": "code",
   "execution_count": 9,
   "id": "596d4468-6f38-42ca-8794-279e3f4204be",
   "metadata": {},
   "outputs": [],
   "source": [
    "async def slew_test(csc, position, est_time_wait, est_time_stop):\n",
    "    \"\"\"\n",
    "    Slew test. The rototator will move in the positive and negative directions.\n",
    "    It will stop in the final movement.\n",
    "\n",
    "    Parameters\n",
    "    ----------\n",
    "    csc : lsst.ts.salobj.remote.Remote\n",
    "        Remote object of the rotator CSC.\n",
    "    est_time_wait : float\n",
    "        Estimated time to wait of movement in second.\n",
    "    est_time_stop : float\n",
    "        Estimated time to stop in the final in second.\n",
    "    \"\"\"\n",
    "    # Move in one direction\n",
    "    await csc.cmd_move.set_start(position=position, timeout=60)\n",
    "    await asyncio.sleep(est_time_wait)\n",
    "\n",
    "    # Move back to the origin\n",
    "    await csc.cmd_move.set_start(position=0, timeout=60)\n",
    "    await asyncio.sleep(est_time_wait)\n",
    "\n",
    "    # Move to the other direction\n",
    "    await csc.cmd_move.set_start(position=-position, timeout=60)\n",
    "    await asyncio.sleep(est_time_wait)\n",
    "\n",
    "    # Move and stop before the end of movement\n",
    "    await csc.cmd_move.set_start(position=position, timeout=60)\n",
    "    await asyncio.sleep(est_time_stop)\n",
    "    await csc.cmd_stop.set_start(timeout=60)"
   ]
  },
  {
   "cell_type": "code",
   "execution_count": 10,
   "id": "efe2d6d8-c238-462e-8a7b-cb0b04e7b631",
   "metadata": {},
   "outputs": [],
   "source": [
    "async def track_target(csc, start_position, end_position, velocity):\n",
    "    \"\"\"Track the target.\n",
    "\n",
    "    Parameters\n",
    "    ----------\n",
    "    start_position : float\n",
    "        Starting position of ramp (deg).\n",
    "    end_position : float\n",
    "        Ending position of ramp (deg).\n",
    "    velocity : float\n",
    "        Velocity of motion along the ramp (deg/sec).\n",
    "    \"\"\"\n",
    "    # 20 Hz is 0.05 ms\n",
    "    track_advance_time = 0.05\n",
    "    ramp_generator = simactuators.RampGenerator(\n",
    "        [start_position], [end_position], [velocity], track_advance_time)\n",
    "\n",
    "    await csc.cmd_trackStart.start(timeout=15)\n",
    "    for positions, velocities, tai in ramp_generator():\n",
    "        await csc.cmd_track.set_start(\n",
    "            angle=positions[0],\n",
    "            velocity=velocities[0],\n",
    "            tai=tai,\n",
    "            timeout=5,\n",
    "        )\n",
    "        await asyncio.sleep(0.1)"
   ]
  },
  {
   "cell_type": "code",
   "execution_count": 11,
   "id": "e7a4f96d-cce4-43b2-8400-be0b1c8851b1",
   "metadata": {},
   "outputs": [],
   "source": [
    "async def track_slew_test(csc):\n",
    "    \"\"\"\n",
    "    Track slew sequence test.\n",
    "\n",
    "    Parameters\n",
    "    ----------\n",
    "    csc : lsst.ts.salobj.remote.Remote\n",
    "        Remote object of the rotator CSC.\n",
    "    \"\"\"\n",
    "    # 20 Hz is 0.05 ms\n",
    "    track_advance_time = 0.05\n",
    "    ramp_generator_1 = simactuators.RampGenerator([0.7], [1.5], [0.068], track_advance_time)\n",
    "    ramp_generator_2 = simactuators.RampGenerator([0.7], [0], [-0.068], track_advance_time)\n",
    "    ramp_generator_3 = simactuators.RampGenerator([5], [4.7], [-0.01], track_advance_time)\n",
    "    ramp_generator_4 = simactuators.RampGenerator([-5], [-4.6], [0.0042], track_advance_time)\n",
    "\n",
    "    # Track the first target\n",
    "    await csc.cmd_trackStart.start(timeout=15)\n",
    "\n",
    "    is_stopped = False\n",
    "    time_start = time.monotonic()\n",
    "    for positions, velocities, tai in ramp_generator_1():\n",
    "        await csc.cmd_track.set_start(\n",
    "            angle=positions[0],\n",
    "            velocity=velocities[0],\n",
    "            tai=tai,\n",
    "            timeout=5,\n",
    "        )\n",
    "        await asyncio.sleep(0.1)\n",
    "\n",
    "        # Stop the rotator in the tracking\n",
    "        delta_time = time.monotonic() - time_start\n",
    "        if (3 <= delta_time <= 3.5) and (not is_stopped):\n",
    "            await csc.cmd_stop.set_start(timeout=10)\n",
    "            \n",
    "            await asyncio.sleep(1)\n",
    "            is_stopped = True\n",
    "\n",
    "        # Allow the tracking again\n",
    "        if is_stopped:\n",
    "            await csc.cmd_trackStart.start(timeout=15)\n",
    "            is_stopped = False\n",
    "\n",
    "    # Track the second target\n",
    "    for positions, velocities, tai in ramp_generator_2():\n",
    "        await csc.cmd_track.set_start(\n",
    "            angle=positions[0],\n",
    "            velocity=velocities[0],\n",
    "            tai=tai,\n",
    "            timeout=5,\n",
    "        )\n",
    "        await asyncio.sleep(0.1)\n",
    "\n",
    "    # Track the third target\n",
    "    for positions, velocities, tai in ramp_generator_3():\n",
    "        await csc.cmd_track.set_start(\n",
    "            angle=positions[0],\n",
    "            velocity=velocities[0],\n",
    "            tai=tai,\n",
    "            timeout=5,\n",
    "        )\n",
    "        await asyncio.sleep(0.1)\n",
    "\n",
    "    # Track the fourth target\n",
    "    for positions, velocities, tai in ramp_generator_4():\n",
    "        await csc.cmd_track.set_start(\n",
    "            angle=positions[0],\n",
    "            velocity=velocities[0],\n",
    "            tai=tai,\n",
    "            timeout=5,\n",
    "        )\n",
    "        await asyncio.sleep(0.1)"
   ]
  },
  {
   "cell_type": "code",
   "execution_count": 12,
   "id": "3c727501-e927-4c64-b1ac-7828d8e544c2",
   "metadata": {},
   "outputs": [],
   "source": [
    "async def slew_supersession_test(csc):\n",
    "    \"\"\"\n",
    "    Slew supersession test.\n",
    "\n",
    "    Parameters\n",
    "    ----------\n",
    "    csc : lsst.ts.salobj.remote.Remote\n",
    "        Remote object of the rotator CSC.\n",
    "    \"\"\"\n",
    "    # 20 Hz is 0.05 ms\n",
    "    track_advance_time = 0.05\n",
    "    ramp_generator_1 = simactuators.RampGenerator([60], [62], [0.068], track_advance_time)\n",
    "    ramp_generator_2 = simactuators.RampGenerator([-60], [-62], [-0.05], track_advance_time)\n",
    "\n",
    "    # Track the first target\n",
    "    await csc.cmd_trackStart.start(timeout=15)\n",
    "\n",
    "    is_stopped = False\n",
    "    time_start = time.monotonic()\n",
    "    for positions, velocities, tai in ramp_generator_1():\n",
    "        await csc.cmd_track.set_start(\n",
    "            angle=positions[0],\n",
    "            velocity=velocities[0],\n",
    "            tai=tai,\n",
    "            timeout=5,\n",
    "        )\n",
    "        await asyncio.sleep(0.1)\n",
    "\n",
    "        # Break the tracking of this target to test the supersession of slew\n",
    "        if (time.monotonic() - time_start) > 8:\n",
    "            break\n",
    "\n",
    "    # Track the second target\n",
    "    for positions, velocities, tai in ramp_generator_2():\n",
    "        await csc.cmd_track.set_start(\n",
    "            angle=positions[0],\n",
    "            velocity=velocities[0],\n",
    "            tai=tai,\n",
    "            timeout=5,\n",
    "        )\n",
    "        await asyncio.sleep(0.1)"
   ]
  },
  {
   "cell_type": "code",
   "execution_count": 13,
   "id": "7aba4222-b353-4190-89c4-b7ef4c6223e6",
   "metadata": {},
   "outputs": [],
   "source": [
    "async def track_slew_multiple_stop_test(csc):\n",
    "    \"\"\"\n",
    "    Track slew sequence test with multiple stops.\n",
    "\n",
    "    Parameters\n",
    "    ----------\n",
    "    csc : lsst.ts.salobj.remote.Remote\n",
    "        Remote object of the rotator CSC.\n",
    "    \"\"\"\n",
    "    # 20 Hz is 0.05 ms\n",
    "    track_advance_time = 0.05\n",
    "    ramp_generator_1 = simactuators.RampGenerator([0.7], [1.5], [0.068], track_advance_time)\n",
    "    ramp_generator_2 = simactuators.RampGenerator([0.7], [0], [-0.068], track_advance_time)\n",
    "\n",
    "    # Track the first target\n",
    "    await csc.cmd_trackStart.start(timeout=15)\n",
    "\n",
    "    is_stopped = False\n",
    "    time_start = time.monotonic()\n",
    "    for positions, velocities, tai in ramp_generator_1():\n",
    "        await csc.cmd_track.set_start(\n",
    "            angle=positions[0],\n",
    "            velocity=velocities[0],\n",
    "            tai=tai,\n",
    "            timeout=5,\n",
    "        )\n",
    "        await asyncio.sleep(0.1)\n",
    "\n",
    "        # Stop the rotator in the tracking\n",
    "        delta_time = time.monotonic() - time_start\n",
    "        if ((3 <= delta_time <= 3.5) or (6 <= delta_time <= 6.5)) and (not is_stopped):\n",
    "            await csc.cmd_stop.set_start(timeout=10)\n",
    "            \n",
    "            await asyncio.sleep(1)\n",
    "            is_stopped = True\n",
    "\n",
    "        # Allow the tracking again\n",
    "        if is_stopped:\n",
    "            await csc.cmd_trackStart.start(timeout=15)\n",
    "            is_stopped = False\n",
    "\n",
    "    # Track the second target\n",
    "    for positions, velocities, tai in ramp_generator_2():\n",
    "        await csc.cmd_track.set_start(\n",
    "            angle=positions[0],\n",
    "            velocity=velocities[0],\n",
    "            tai=tai,\n",
    "            timeout=5,\n",
    "        )\n",
    "        await asyncio.sleep(0.1)"
   ]
  },
  {
   "cell_type": "code",
   "execution_count": 14,
   "id": "a0c039ec-3184-4c1f-b663-6de6e2538f2c",
   "metadata": {},
   "outputs": [],
   "source": [
    "async def plot_path_generator(efd_client, time_start, time_end, filename=None):\n",
    "    \"\"\"\n",
    "    Plot the data of path generator.\n",
    "\n",
    "    Parameters\n",
    "    ----------\n",
    "    efd_client : lsst_efd_client.efd_helper.EfdClient\n",
    "        EFD client.\n",
    "    time_start : astropy.time.core.Time\n",
    "        Start time.\n",
    "    time_end : astropy.time.core.Time\n",
    "        End time.\n",
    "    filename : str or None\n",
    "        Save the data to csv file if filename is not None. (the default is None.)\n",
    "    \"\"\"\n",
    "    # Get the data from EFD\n",
    "    data_path = await efd_client.select_time_series(\n",
    "        \"lsst.sal.MTRotator.rotation\", \n",
    "        fields=[\"demandPosition\", \"demandVelocity\", \"demandAcceleration\", \"actualPosition\", \"actualVelocity\", \"timestamp\"], \n",
    "        start=time_start, \n",
    "        end=time_end)\n",
    "\n",
    "    data_torque = await efd_client.select_time_series(\n",
    "        \"lsst.sal.MTRotator.motors\", \n",
    "        fields=[\"torque0\", \"torque1\"], \n",
    "        start=time_start, \n",
    "        end=time_end)\n",
    "    \n",
    "    # Realign the time origin to 0\n",
    "    time_operation = np.array(data_path.timestamp.subtract(data_path.timestamp[0]))\n",
    "\n",
    "    # Calculate the acceleration and jerk\n",
    "    # Note the Simulink model had applied the low-pass filter for the calculation of velocity already \n",
    "    acceleration, jerk = calc_acceleration_and_jerk(time_operation, data_path.actualVelocity)\n",
    "\n",
    "    # Plots\n",
    "    plt.figure()\n",
    "    plt.subplot(7, 1, 1)\n",
    "    plt.plot(time_operation, data_path.demandPosition)\n",
    "    plt.plot(time_operation, data_path.actualPosition, \"x-\")\n",
    "    plt.title(\"Path Generator\")\n",
    "    plt.ylabel(\"P\")\n",
    "\n",
    "    plt.subplot(7, 1, 2)\n",
    "    plt.plot(time_operation, data_path.demandPosition - data_path.actualPosition)\n",
    "    plt.ylabel(\"dP\")\n",
    "\n",
    "    plt.subplot(7, 1, 3)\n",
    "    plt.plot(time_operation, data_path.demandVelocity)\n",
    "    plt.plot(time_operation, data_path.actualVelocity, \"x-\")\n",
    "    plt.ylabel(\"V\")\n",
    "\n",
    "    plt.subplot(7, 1, 4)\n",
    "    plt.plot(time_operation, data_path.demandVelocity - data_path.actualVelocity)\n",
    "    plt.ylabel(\"dV\")\n",
    "\n",
    "    plt.subplot(7, 1, 5)\n",
    "    plt.plot(time_operation, data_path.demandAcceleration)\n",
    "    plt.plot(time_operation, acceleration, \"x-\")\n",
    "    plt.ylabel(\"A\")\n",
    "\n",
    "    plt.subplot(7, 1, 6)\n",
    "    plt.plot(time_operation, data_path.demandAcceleration - acceleration)\n",
    "    plt.ylabel(\"dA\")\n",
    "\n",
    "    plt.subplot(7, 1, 7)\n",
    "    plt.plot(time_operation, jerk)\n",
    "    plt.ylabel(\"J\")\n",
    "    plt.xlabel(\"Time (s)\")\n",
    "\n",
    "    plt.figure()\n",
    "    plt.subplot(2, 1, 1)\n",
    "    plt.plot(time_operation, data_torque.torque0, \"r\")\n",
    "    plt.plot(time_operation, data_torque.torque1, \"b-\")\n",
    "    plt.title(\"Motor Torque\")\n",
    "    plt.ylabel(\"T\")\n",
    "    \n",
    "    plt.subplot(2, 1, 2)\n",
    "    plt.plot(time_operation, data_torque.torque0 - data_torque.torque1)\n",
    "    plt.xlabel(\"Time (s)\")\n",
    "    plt.ylabel(\"dT\")\n",
    "    \n",
    "    print(\"Units: P (deg), V (deg/s), A (deg/s^2), J (deg/s^3), Torque T (N * m)\")\n",
    "    \n",
    "    # Save the file\n",
    "    if filename is not None:\n",
    "        data_path.to_csv(path_or_buf=f\"path_{filename}.csv\")\n",
    "        data_torque.to_csv(path_or_buf=f\"torque_{filename}.csv\")"
   ]
  },
  {
   "cell_type": "code",
   "execution_count": 15,
   "id": "19467d80-236e-4d36-82e2-214bcef7ef6a",
   "metadata": {},
   "outputs": [],
   "source": [
    "def calc_acceleration_and_jerk(time, velocity):\n",
    "    \"\"\"\n",
    "    Calculate the acceleratioin and jerk.\n",
    "\n",
    "    Parameters\n",
    "    ----------\n",
    "    time : numpy.ndarray\n",
    "        Time in second.\n",
    "    velocity : pandas.core.series.Series\n",
    "        velocity (deg/sec).\n",
    "\n",
    "    Returns\n",
    "    ----------\n",
    "    acceleration : numpy.ndarray\n",
    "        Acceleration in deg/sec^2.\n",
    "    jerk : numpy.ndarray\n",
    "        Jerk in deg/sec^3.\n",
    "    \"\"\"\n",
    "\n",
    "    acceleration = np.gradient(velocity, time)\n",
    "    jerk = np.gradient(acceleration, time)\n",
    "\n",
    "    return acceleration, jerk"
   ]
  },
  {
   "cell_type": "code",
   "execution_count": 16,
   "id": "d9986542-6e9d-4a35-ab7d-461770c95ecc",
   "metadata": {},
   "outputs": [],
   "source": [
    "async def get_event_data(efd_client, time_start, time_end):\n",
    "    \"\"\"\n",
    "    Get the event data.\n",
    "\n",
    "    Parameters\n",
    "    ----------\n",
    "    efd_client : lsst_efd_client.efd_helper.EfdClient\n",
    "        EFD client.\n",
    "    time_start : astropy.time.core.Time\n",
    "        Start time.\n",
    "    time_end : astropy.time.core.Time\n",
    "        End time.\n",
    "\n",
    "    Returns\n",
    "    -------\n",
    "    data_controller_state : pandas.core.frame.DataFrame\n",
    "        Data of the controller state event.\n",
    "    data_in_position : pandas.core.frame.DataFrame\n",
    "        Data of the inPosition event.\n",
    "    data_tracking : pandas.core.frame.DataFrame\n",
    "        Data of the tracking event.\n",
    "    \"\"\"\n",
    "\n",
    "    # Get the data from EFD\n",
    "    data_controller_state = await efd_client.select_time_series(\n",
    "        \"lsst.sal.MTRotator.logevent_controllerState\", \n",
    "        fields=[\"controllerState\", \"enabledSubstate\"], \n",
    "        start=time_start,\n",
    "        end=time_end)\n",
    "    \n",
    "    # The inPosition field is a combination of Flags_moveSuccess and Flags_trackingSuccess in Simulink telemetry\n",
    "    data_in_position = await efd_client.select_time_series(\n",
    "        \"lsst.sal.MTRotator.logevent_inPosition\", \n",
    "        fields=\"inPosition\",\n",
    "        start=time_start,\n",
    "        end=time_end)\n",
    "    \n",
    "    # The tracking field is Flags_trackingSuccess in Simulink telemetry\n",
    "    # The lost field is Flags_trackingLost in Simulink telemetry\n",
    "    # The noNewCommand field is Flags_noNewTrackCmdError in Simulink telemetry\n",
    "    data_tracking = await efd_client.select_time_series(\n",
    "        \"lsst.sal.MTRotator.logevent_tracking\", \n",
    "        fields=[\"tracking\", \"lost\", \"noNewCommand\"],\n",
    "        start=time_start,\n",
    "        end=time_end)\n",
    "\n",
    "    # Add the column of time difference in seconds\n",
    "    add_column_time_differece(data_controller_state, time_start)\n",
    "    add_column_time_differece(data_in_position, time_start)\n",
    "    add_column_time_differece(data_tracking, time_start)\n",
    "\n",
    "    return data_controller_state, data_in_position, data_tracking"
   ]
  },
  {
   "cell_type": "code",
   "execution_count": 17,
   "id": "a78ebfd4-a879-4070-9ec4-2afd6317ad97",
   "metadata": {},
   "outputs": [],
   "source": [
    "def add_column_time_differece(data_frame, time_start):\n",
    "    \"\"\"\n",
    "    Add the column of time difference in second.\n",
    "\n",
    "    Parameters\n",
    "    ----------\n",
    "    data_frame : pandas.core.frame.DataFrame\n",
    "        Data frame.\n",
    "    time_start : astropy.time.core.Time\n",
    "        Start time.\n",
    "    \"\"\"\n",
    "    if (len(data_frame.values) != 0):\n",
    "        timestamp_start = pd.Timestamp(time_start.value, tz=\"utc\")\n",
    "        diff_time = data_frame.index - pd.Timestamp(time_start.value, tz=\"utc\")\n",
    "        diff_time_sec = [element.seconds + element.microseconds * 1e-6 for element in diff_time]\n",
    "        data_frame[\"time_difference\"] = diff_time_sec"
   ]
  },
  {
   "cell_type": "markdown",
   "id": "1f500072-b08e-463a-911f-2696aac1ebef",
   "metadata": {},
   "source": [
    "**Instantiate the EFD and CSC**\n",
    "\n",
    "Need to make sure **ospl** is running for the data distribution system (DDS) communication."
   ]
  },
  {
   "cell_type": "code",
   "execution_count": 18,
   "id": "45e04d50-73d5-446c-a463-0d31750d0ca1",
   "metadata": {},
   "outputs": [
    {
     "data": {
      "text/html": [
       "<pre style=\"margin: 0.1em;\n",
       "padding-left: 0.25em;\n",
       "border-left-style: solid;\n",
       "font-family: var(--jp-code-font-family);\n",
       "font-size: var(--jp-code-font-size);\n",
       "line-height: var(--jp-code-line-height);\n",
       "\"><span style=\"color: var(--jp-warn-color2)\">MTRotator</span> <span style=\"color: var(--jp-info-color0)\">INFO</span>: Read historical data in 0.25 sec</pre>"
      ],
      "text/plain": [
       "<IPython.core.display.HTML object>"
      ]
     },
     "metadata": {},
     "output_type": "display_data"
    },
    {
     "data": {
      "text/plain": [
       "<ddsutil.MTRotator_ackcmd_f04f56ad at 0x7f0f65113e50>"
      ]
     },
     "execution_count": 18,
     "metadata": {},
     "output_type": "execute_result"
    }
   ],
   "source": [
    "is_summit = True\n",
    "efd_client = retrieve_efd_client(is_summit=is_summit)\n",
    "domain = salobj.Domain()\n",
    "rotator = salobj.Remote(domain, \"MTRotator\")\n",
    "await rotator.start_task\n",
    "await rotator.cmd_setLogLevel.set_start(level=10)"
   ]
  },
  {
   "cell_type": "markdown",
   "id": "b3b8ca1e-d9f9-4d53-a2f1-9cb7ba997ebd",
   "metadata": {},
   "source": [
    "**MTMount** controller is used to run the camera cable wrapper (CCW)."
   ]
  },
  {
   "cell_type": "code",
   "execution_count": 54,
   "id": "9021361d-4c5b-462d-a35a-787080c056af",
   "metadata": {},
   "outputs": [
    {
     "data": {
      "text/html": [
       "<pre style=\"margin: 0.1em;\n",
       "padding-left: 0.25em;\n",
       "border-left-style: solid;\n",
       "font-family: var(--jp-code-font-family);\n",
       "font-size: var(--jp-code-font-size);\n",
       "line-height: var(--jp-code-line-height);\n",
       "\"><span style=\"color: var(--jp-warn-color2)\">MTMount</span> <span style=\"color: var(--jp-info-color0)\">INFO</span>: Read historical data in 0.18 sec</pre>"
      ],
      "text/plain": [
       "<IPython.core.display.HTML object>"
      ]
     },
     "metadata": {},
     "output_type": "display_data"
    },
    {
     "data": {
      "text/html": [
       "<pre style=\"margin: 0.1em;\n",
       "padding-left: 0.25em;\n",
       "border-left-style: solid;\n",
       "font-family: var(--jp-code-font-family);\n",
       "font-size: var(--jp-code-font-size);\n",
       "line-height: var(--jp-code-line-height);\n",
       "\"><span style=\"color: var(--jp-warn-color2)\">MTMount.logevent_azimuthMotionState</span> <span style=\"color: var(--jp-warn-color0)\">WARNING</span>: azimuthMotionState DDS read queue is filling: 15 of 100 elements</pre>"
      ],
      "text/plain": [
       "<IPython.core.display.HTML object>"
      ]
     },
     "metadata": {},
     "output_type": "display_data"
    },
    {
     "data": {
      "text/html": [
       "<pre style=\"margin: 0.1em;\n",
       "padding-left: 0.25em;\n",
       "border-left-style: solid;\n",
       "font-family: var(--jp-code-font-family);\n",
       "font-size: var(--jp-code-font-size);\n",
       "line-height: var(--jp-code-line-height);\n",
       "\"><span style=\"color: var(--jp-warn-color2)\">MTMount.logevent_cameraCableWrapInPosition</span> <span style=\"color: var(--jp-warn-color0)\">WARNING</span>: cameraCableWrapInPosition DDS read queue is filling: 16 of 100 elements</pre>"
      ],
      "text/plain": [
       "<IPython.core.display.HTML object>"
      ]
     },
     "metadata": {},
     "output_type": "display_data"
    },
    {
     "data": {
      "text/html": [
       "<pre style=\"margin: 0.1em;\n",
       "padding-left: 0.25em;\n",
       "border-left-style: solid;\n",
       "font-family: var(--jp-code-font-family);\n",
       "font-size: var(--jp-code-font-size);\n",
       "line-height: var(--jp-code-line-height);\n",
       "\"><span style=\"color: var(--jp-warn-color2)\">MTMount.logevent_azimuthMotionState</span> <span style=\"color: var(--jp-warn-color0)\">WARNING</span>: azimuthMotionState DDS read queue is filling: 75 of 100 elements</pre>"
      ],
      "text/plain": [
       "<IPython.core.display.HTML object>"
      ]
     },
     "metadata": {},
     "output_type": "display_data"
    },
    {
     "data": {
      "text/html": [
       "<pre style=\"margin: 0.1em;\n",
       "padding-left: 0.25em;\n",
       "border-left-style: solid;\n",
       "font-family: var(--jp-code-font-family);\n",
       "font-size: var(--jp-code-font-size);\n",
       "line-height: var(--jp-code-line-height);\n",
       "\"><span style=\"color: var(--jp-warn-color2)\">MTMount.logevent_cameraCableWrapInPosition</span> <span style=\"color: var(--jp-warn-color0)\">WARNING</span>: cameraCableWrapInPosition DDS read queue is filling: 84 of 100 elements</pre>"
      ],
      "text/plain": [
       "<IPython.core.display.HTML object>"
      ]
     },
     "metadata": {},
     "output_type": "display_data"
    },
    {
     "data": {
      "text/html": [
       "<pre style=\"margin: 0.1em;\n",
       "padding-left: 0.25em;\n",
       "border-left-style: solid;\n",
       "font-family: var(--jp-code-font-family);\n",
       "font-size: var(--jp-code-font-size);\n",
       "line-height: var(--jp-code-line-height);\n",
       "\"><span style=\"color: var(--jp-warn-color2)\">MTMount.logevent_azimuthToppleBlock</span> <span style=\"color: var(--jp-error-color2)\">ERROR</span>: azimuthToppleBlock DDS read queue is full (100 elements); data may be lost</pre>"
      ],
      "text/plain": [
       "<IPython.core.display.HTML object>"
      ]
     },
     "metadata": {},
     "output_type": "display_data"
    },
    {
     "data": {
      "text/html": [
       "<pre style=\"margin: 0.1em;\n",
       "padding-left: 0.25em;\n",
       "border-left-style: solid;\n",
       "font-family: var(--jp-code-font-family);\n",
       "font-size: var(--jp-code-font-size);\n",
       "line-height: var(--jp-code-line-height);\n",
       "\"><span style=\"color: var(--jp-warn-color2)\">MTMount.logevent_azimuthInPosition</span> <span style=\"color: var(--jp-error-color2)\">ERROR</span>: azimuthInPosition DDS read queue is full (100 elements); data may be lost</pre>"
      ],
      "text/plain": [
       "<IPython.core.display.HTML object>"
      ]
     },
     "metadata": {},
     "output_type": "display_data"
    },
    {
     "data": {
      "text/html": [
       "<pre style=\"margin: 0.1em;\n",
       "padding-left: 0.25em;\n",
       "border-left-style: solid;\n",
       "font-family: var(--jp-code-font-family);\n",
       "font-size: var(--jp-code-font-size);\n",
       "line-height: var(--jp-code-line-height);\n",
       "\"><span style=\"color: var(--jp-warn-color2)\">MTMount.logevent_heartbeat</span> <span style=\"color: var(--jp-warn-color0)\">WARNING</span>: heartbeat DDS read queue is filling: 45 of 100 elements</pre>"
      ],
      "text/plain": [
       "<IPython.core.display.HTML object>"
      ]
     },
     "metadata": {},
     "output_type": "display_data"
    },
    {
     "data": {
      "text/html": [
       "<pre style=\"margin: 0.1em;\n",
       "padding-left: 0.25em;\n",
       "border-left-style: solid;\n",
       "font-family: var(--jp-code-font-family);\n",
       "font-size: var(--jp-code-font-size);\n",
       "line-height: var(--jp-code-line-height);\n",
       "\"><span style=\"color: var(--jp-warn-color2)\">MTMount.logevent_heartbeat</span> <span style=\"color: var(--jp-warn-color0)\">WARNING</span>: heartbeat DDS read queue is filling: 54 of 100 elements</pre>"
      ],
      "text/plain": [
       "<IPython.core.display.HTML object>"
      ]
     },
     "metadata": {},
     "output_type": "display_data"
    },
    {
     "data": {
      "text/html": [
       "<pre style=\"margin: 0.1em;\n",
       "padding-left: 0.25em;\n",
       "border-left-style: solid;\n",
       "font-family: var(--jp-code-font-family);\n",
       "font-size: var(--jp-code-font-size);\n",
       "line-height: var(--jp-code-line-height);\n",
       "\"><span style=\"color: var(--jp-warn-color2)\">MTMount.logevent_logMessage</span> <span style=\"color: var(--jp-warn-color0)\">WARNING</span>: logMessage DDS read queue is filling: 14 of 100 elements</pre>"
      ],
      "text/plain": [
       "<IPython.core.display.HTML object>"
      ]
     },
     "metadata": {},
     "output_type": "display_data"
    },
    {
     "data": {
      "text/html": [
       "<pre style=\"margin: 0.1em;\n",
       "padding-left: 0.25em;\n",
       "border-left-style: solid;\n",
       "font-family: var(--jp-code-font-family);\n",
       "font-size: var(--jp-code-font-size);\n",
       "line-height: var(--jp-code-line-height);\n",
       "\"><span style=\"color: var(--jp-warn-color2)\">MTMount.logevent_target</span> <span style=\"color: var(--jp-error-color2)\">ERROR</span>: target DDS read queue is full (100 elements); data may be lost</pre>"
      ],
      "text/plain": [
       "<IPython.core.display.HTML object>"
      ]
     },
     "metadata": {},
     "output_type": "display_data"
    },
    {
     "data": {
      "text/plain": [
       "<ddsutil.MTMount_ackcmd_d68fb318 at 0x7f063539d970>"
      ]
     },
     "execution_count": 54,
     "metadata": {},
     "output_type": "execute_result"
    }
   ],
   "source": [
    "mtmount = salobj.Remote(domain, \"MTMount\")\n",
    "await mtmount.start_task\n",
    "\n",
    "state_mtmount = await mtmount.evt_summaryState.aget(timeout=10)\n",
    "if state_mtmount != salobj.State.ENABLED:\n",
    "    await salobj.set_summary_state(mtmount, salobj.State.ENABLED, timeout=10)\n",
    "\n",
    "await mtmount.cmd_enableCameraCableWrapFollowing.set_start()"
   ]
  },
  {
   "cell_type": "markdown",
   "id": "3663f0fb-3799-4474-8763-17562baf6679",
   "metadata": {},
   "source": [
    "Put the rotator CSC into **Enabled** state before the test.\n",
    "At this moment, we need to do the workaround before DM-33967.\n",
    "At Tucson teststand, we can use *tts_test.yaml* to workaround the following error of rotator and camera cable wrapper (CCW)."
   ]
  },
  {
   "cell_type": "code",
   "execution_count": 55,
   "id": "efb04322-4e74-43ab-a12d-7a2f9538262c",
   "metadata": {},
   "outputs": [
    {
     "data": {
      "text/plain": [
       "[<State.ENABLED: 2>]"
      ]
     },
     "execution_count": 55,
     "metadata": {},
     "output_type": "execute_result"
    }
   ],
   "source": [
    "# \"tts_test.yaml\" is the configuration file at Tucson teststand to increase the tolerance in the\n",
    "# difference between the rotator and CCW\n",
    "# settingsToApply = \"\" if is_summit else \"tts_test.yaml\" \n",
    "# await salobj.set_summary_state(\n",
    "#     rotator, salobj.State.ENABLED,\n",
    "#     timeout=30,\n",
    "#     settingsToApply=settingsToApply\n",
    "# )"
   ]
  },
  {
   "cell_type": "markdown",
   "id": "f96f902a-1fed-4fe9-8889-87228b9a89cd",
   "metadata": {},
   "source": [
    "The followings are the code to workaround the rotator CSC telemetry problem.\n",
    "This should not be needed after people deployed the correct version of rotator CSC on summit."
   ]
  },
  {
   "cell_type": "code",
   "execution_count": null,
   "id": "afd48072-6dc4-46a0-a796-3d0df217e133",
   "metadata": {},
   "outputs": [],
   "source": [
    "await rotator.cmd_start.set_start(timeout=15)\n",
    "await asyncio.sleep(10)\n",
    "await rotator.cmd_enable.set_start(timeout=30)"
   ]
  },
  {
   "cell_type": "markdown",
   "id": "9e2bbc33-d271-411d-a356-59dc2b87ca26",
   "metadata": {},
   "source": [
    "**Check the rotator condition**\n",
    "\n",
    "After each test case, execute this cell to get the **time_now**, which is used in the query of EFD data."
   ]
  },
  {
   "cell_type": "code",
   "execution_count": 60,
   "id": "9da4d932-3c1b-4a29-a4a8-b8a5e33ae6bb",
   "metadata": {},
   "outputs": [
    {
     "name": "stdout",
     "output_type": "stream",
     "text": [
      "Rotator is at -2.6742314077486696e-07 degree.\n",
      "State.ENABLED\n",
      "run_command: sync_pattern=0x5555; counter=1260684; command=<CommandCode.SET_ENABLED_SUBSTATE: 32770>; param1=1.0; param2=0.0; param3=0.0; param4=0.0; param5=0.0; param6=0.0\n"
     ]
    }
   ],
   "source": [
    "await print_rotator_position(rotator)\n",
    "await print_summary_state(rotator)\n",
    "await print_rotator_latest_message(rotator)"
   ]
  },
  {
   "cell_type": "markdown",
   "id": "83272968-a4ed-498b-af5a-74ac85bb1a43",
   "metadata": {},
   "source": [
    "**Put the rotator back to origin**\n",
    "\n",
    "Before each test, put the rotator back to origin.\n",
    "This is easier for the data analysis."
   ]
  },
  {
   "cell_type": "code",
   "execution_count": 57,
   "id": "34ae86ed-9a2e-4cfd-b7bc-2c188a6ca637",
   "metadata": {},
   "outputs": [
    {
     "data": {
      "text/plain": [
       "<ddsutil.MTRotator_ackcmd_f04f56ad at 0x7f063531b130>"
      ]
     },
     "execution_count": 57,
     "metadata": {},
     "output_type": "execute_result"
    }
   ],
   "source": [
    "await rotator.cmd_move.set_start(position=0, timeout=60)"
   ]
  },
  {
   "cell_type": "markdown",
   "id": "e3bad4e6",
   "metadata": {},
   "source": [
    "**Setup the Script**"
   ]
  },
  {
   "cell_type": "code",
   "execution_count": 61,
   "id": "71e075e3",
   "metadata": {},
   "outputs": [
    {
     "data": {
      "text/html": [
       "<pre style=\"margin: 0.1em;\n",
       "padding-left: 0.25em;\n",
       "border-left-style: solid;\n",
       "font-family: var(--jp-code-font-family);\n",
       "font-size: var(--jp-code-font-size);\n",
       "line-height: var(--jp-code-line-height);\n",
       "\"><span style=\"color: var(--jp-warn-color2)\">Script</span> <span style=\"color: var(--jp-info-color0)\">INFO</span>: Read historical data in 0.00 sec</pre>"
      ],
      "text/plain": [
       "<IPython.core.display.HTML object>"
      ]
     },
     "metadata": {},
     "output_type": "display_data"
    },
    {
     "name": "stdout",
     "output_type": "stream",
     "text": [
      "Time to start the verification is 0:00:10.087761 [s]\n"
     ]
    }
   ],
   "source": [
    "time_start_verification = datetime.now()\n",
    "test_title = \"Rotator New Trajectory Verification Test\"\n",
    "script = salobj.Controller(\"Script\", index=10)\n",
    "\n",
    "# Wait 10 second may help with DDS problems; closing all other kernels may help too\n",
    "await asyncio.sleep(10)\n",
    "print(f\"Time to start the verification is {datetime.now() - time_start_verification} [s]\")"
   ]
  },
  {
   "cell_type": "markdown",
   "id": "ff9f0d62-42bd-407a-a40d-a4921b045567",
   "metadata": {},
   "source": [
    "**Test Case (small slewing test)**\n",
    "\n",
    "Test the positive and negative directions."
   ]
  },
  {
   "cell_type": "code",
   "execution_count": 62,
   "id": "b8aeac24",
   "metadata": {},
   "outputs": [
    {
     "data": {
      "text/html": [
       "<pre style=\"margin: 0.1em;\n",
       "padding-left: 0.25em;\n",
       "border-left-style: solid;\n",
       "font-family: var(--jp-code-font-family);\n",
       "font-size: var(--jp-code-font-size);\n",
       "line-height: var(--jp-code-line-height);\n",
       "\"><span style=\"color: var(--jp-warn-color2)\">Script</span> <span style=\"color: var(--jp-info-color0)\">INFO</span>: START -- Rotator New Trajectory Verification Test -- LVV-T2539 -- small slewing test -- Starting Time: 2022-03-25 13:38:46.260607 UTC</pre>"
      ],
      "text/plain": [
       "<IPython.core.display.HTML object>"
      ]
     },
     "metadata": {},
     "output_type": "display_data"
    }
   ],
   "source": [
    "time_start = script_log_start(script, test_title, \"small slewing test\")"
   ]
  },
  {
   "cell_type": "code",
   "execution_count": 63,
   "id": "94abea8c-858d-4b60-b19a-42315434f9c1",
   "metadata": {},
   "outputs": [],
   "source": [
    "await slew_test(rotator, 0.7, 2, 0.1)"
   ]
  },
  {
   "cell_type": "code",
   "execution_count": 64,
   "id": "d26db438",
   "metadata": {},
   "outputs": [
    {
     "data": {
      "text/html": [
       "<pre style=\"margin: 0.1em;\n",
       "padding-left: 0.25em;\n",
       "border-left-style: solid;\n",
       "font-family: var(--jp-code-font-family);\n",
       "font-size: var(--jp-code-font-size);\n",
       "line-height: var(--jp-code-line-height);\n",
       "\"><span style=\"color: var(--jp-warn-color2)\">Script</span> <span style=\"color: var(--jp-info-color0)\">INFO</span>: STOP -- Rotator New Trajectory Verification Test -- LVV-T2539 -- small slewing test -- Starting Time: 2022-03-25 13:39:08.695552 UTC</pre>"
      ],
      "text/plain": [
       "<IPython.core.display.HTML object>"
      ]
     },
     "metadata": {},
     "output_type": "display_data"
    }
   ],
   "source": [
    "time_stop = script_log_stop(script, test_title, \"small slewing test\")"
   ]
  },
  {
   "cell_type": "code",
   "execution_count": 79,
   "id": "3ce0d6a8-2974-4996-ac3a-f8ed099344c0",
   "metadata": {},
   "outputs": [
    {
     "name": "stdout",
     "output_type": "stream",
     "text": [
      "Units: P (deg), V (deg/s), A (deg/s^2), J (deg/s^3), Torque T (N * m)\n"
     ]
    },
    {
     "data": {
      "application/vnd.jupyter.widget-view+json": {
       "model_id": "60689168996e483c8e4598d73d164969",
       "version_major": 2,
       "version_minor": 0
      },
      "image/png": "[encoded data removed]",
      "text/html": [
       "\n",
       "            <div style=\"display: inline-block;\">\n",
       "                <div class=\"jupyter-widgets widget-label\" style=\"text-align: center;\">\n",
       "                    Figure\n",
       "                </div>\n",
       "                <img src='data:image/png;base64,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' width=432.0/>\n",
       "            </div>\n",
       "        "
      ],
      "text/plain": [
       "Canvas(toolbar=Toolbar(toolitems=[('Home', 'Reset original view', 'home', 'home'), ('Back', 'Back to previous …"
      ]
     },
     "metadata": {},
     "output_type": "display_data"
    },
    {
     "data": {
      "application/vnd.jupyter.widget-view+json": {
       "model_id": "86944da303fe43b0ac16eef91a2321bf",
       "version_major": 2,
       "version_minor": 0
      },
      "image/png": "[encoded data removed]",
      "text/html": [
       "\n",
       "            <div style=\"display: inline-block;\">\n",
       "                <div class=\"jupyter-widgets widget-label\" style=\"text-align: center;\">\n",
       "                    Figure\n",
       "                </div>\n",
       "                <img src='data:image/png;base64,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' width=432.0/>\n",
       "            </div>\n",
       "        "
      ],
      "text/plain": [
       "Canvas(toolbar=Toolbar(toolitems=[('Home', 'Reset original view', 'home', 'home'), ('Back', 'Back to previous …"
      ]
     },
     "metadata": {},
     "output_type": "display_data"
    }
   ],
   "source": [
    "await plot_path_generator(efd_client, time_start, time_stop, filename=\"small_slew_test\")"
   ]
  },
  {
   "cell_type": "code",
   "execution_count": 123,
   "id": "5e5bf483-0864-47d5-9643-ea3afedb2a90",
   "metadata": {},
   "outputs": [],
   "source": [
    "data_controller_state, data_in_position, data_tracking = await get_event_data(\n",
    "    efd_client, time_start, time_stop)"
   ]
  },
  {
   "cell_type": "code",
   "execution_count": 124,
   "id": "848250ec-ac79-4d96-a1d9-10adf5325a8d",
   "metadata": {},
   "outputs": [
    {
     "data": {
      "text/html": [
       "<div>\n",
       "<style scoped>\n",
       "    .dataframe tbody tr th:only-of-type {\n",
       "        vertical-align: middle;\n",
       "    }\n",
       "\n",
       "    .dataframe tbody tr th {\n",
       "        vertical-align: top;\n",
       "    }\n",
       "\n",
       "    .dataframe thead th {\n",
       "        text-align: right;\n",
       "    }\n",
       "</style>\n",
       "<table border=\"1\" class=\"dataframe\">\n",
       "  <thead>\n",
       "    <tr style=\"text-align: right;\">\n",
       "      <th></th>\n",
       "      <th>controllerState</th>\n",
       "      <th>enabledSubstate</th>\n",
       "      <th>time_difference</th>\n",
       "    </tr>\n",
       "  </thead>\n",
       "  <tbody>\n",
       "    <tr>\n",
       "      <th>2022-03-21 13:27:32.071000+00:00</th>\n",
       "      <td>2</td>\n",
       "      <td>1</td>\n",
       "      <td>3.256</td>\n",
       "    </tr>\n",
       "    <tr>\n",
       "      <th>2022-03-21 13:27:33.586000+00:00</th>\n",
       "      <td>2</td>\n",
       "      <td>0</td>\n",
       "      <td>4.771</td>\n",
       "    </tr>\n",
       "    <tr>\n",
       "      <th>2022-03-21 13:27:33.989000+00:00</th>\n",
       "      <td>2</td>\n",
       "      <td>1</td>\n",
       "      <td>5.174</td>\n",
       "    </tr>\n",
       "    <tr>\n",
       "      <th>2022-03-21 13:27:35.605000+00:00</th>\n",
       "      <td>2</td>\n",
       "      <td>0</td>\n",
       "      <td>6.790</td>\n",
       "    </tr>\n",
       "    <tr>\n",
       "      <th>2022-03-21 13:27:36.007000+00:00</th>\n",
       "      <td>2</td>\n",
       "      <td>1</td>\n",
       "      <td>7.192</td>\n",
       "    </tr>\n",
       "    <tr>\n",
       "      <th>2022-03-21 13:27:37.525000+00:00</th>\n",
       "      <td>2</td>\n",
       "      <td>0</td>\n",
       "      <td>8.710</td>\n",
       "    </tr>\n",
       "    <tr>\n",
       "      <th>2022-03-21 13:27:38.029000+00:00</th>\n",
       "      <td>2</td>\n",
       "      <td>1</td>\n",
       "      <td>9.214</td>\n",
       "    </tr>\n",
       "    <tr>\n",
       "      <th>2022-03-21 13:27:38.130000+00:00</th>\n",
       "      <td>2</td>\n",
       "      <td>0</td>\n",
       "      <td>9.315</td>\n",
       "    </tr>\n",
       "  </tbody>\n",
       "</table>\n",
       "</div>"
      ],
      "text/plain": [
       "                                  controllerState  enabledSubstate  \\\n",
       "2022-03-21 13:27:32.071000+00:00                2                1   \n",
       "2022-03-21 13:27:33.586000+00:00                2                0   \n",
       "2022-03-21 13:27:33.989000+00:00                2                1   \n",
       "2022-03-21 13:27:35.605000+00:00                2                0   \n",
       "2022-03-21 13:27:36.007000+00:00                2                1   \n",
       "2022-03-21 13:27:37.525000+00:00                2                0   \n",
       "2022-03-21 13:27:38.029000+00:00                2                1   \n",
       "2022-03-21 13:27:38.130000+00:00                2                0   \n",
       "\n",
       "                                  time_difference  \n",
       "2022-03-21 13:27:32.071000+00:00            3.256  \n",
       "2022-03-21 13:27:33.586000+00:00            4.771  \n",
       "2022-03-21 13:27:33.989000+00:00            5.174  \n",
       "2022-03-21 13:27:35.605000+00:00            6.790  \n",
       "2022-03-21 13:27:36.007000+00:00            7.192  \n",
       "2022-03-21 13:27:37.525000+00:00            8.710  \n",
       "2022-03-21 13:27:38.029000+00:00            9.214  \n",
       "2022-03-21 13:27:38.130000+00:00            9.315  "
      ]
     },
     "execution_count": 124,
     "metadata": {},
     "output_type": "execute_result"
    }
   ],
   "source": [
    "data_controller_state"
   ]
  },
  {
   "cell_type": "code",
   "execution_count": 125,
   "id": "5fb5c22c-03dc-4f8d-aaad-c2257129feb0",
   "metadata": {},
   "outputs": [
    {
     "data": {
      "text/html": [
       "<div>\n",
       "<style scoped>\n",
       "    .dataframe tbody tr th:only-of-type {\n",
       "        vertical-align: middle;\n",
       "    }\n",
       "\n",
       "    .dataframe tbody tr th {\n",
       "        vertical-align: top;\n",
       "    }\n",
       "\n",
       "    .dataframe thead th {\n",
       "        text-align: right;\n",
       "    }\n",
       "</style>\n",
       "<table border=\"1\" class=\"dataframe\">\n",
       "  <thead>\n",
       "    <tr style=\"text-align: right;\">\n",
       "      <th></th>\n",
       "      <th>inPosition</th>\n",
       "      <th>time_difference</th>\n",
       "    </tr>\n",
       "  </thead>\n",
       "  <tbody>\n",
       "    <tr>\n",
       "      <th>2022-03-21 13:27:33.587000+00:00</th>\n",
       "      <td>True</td>\n",
       "      <td>4.772</td>\n",
       "    </tr>\n",
       "    <tr>\n",
       "      <th>2022-03-21 13:27:33.687000+00:00</th>\n",
       "      <td>False</td>\n",
       "      <td>4.872</td>\n",
       "    </tr>\n",
       "    <tr>\n",
       "      <th>2022-03-21 13:27:35.606000+00:00</th>\n",
       "      <td>True</td>\n",
       "      <td>6.791</td>\n",
       "    </tr>\n",
       "    <tr>\n",
       "      <th>2022-03-21 13:27:35.706000+00:00</th>\n",
       "      <td>False</td>\n",
       "      <td>6.891</td>\n",
       "    </tr>\n",
       "    <tr>\n",
       "      <th>2022-03-21 13:27:37.526000+00:00</th>\n",
       "      <td>True</td>\n",
       "      <td>8.711</td>\n",
       "    </tr>\n",
       "    <tr>\n",
       "      <th>2022-03-21 13:27:37.627000+00:00</th>\n",
       "      <td>False</td>\n",
       "      <td>8.812</td>\n",
       "    </tr>\n",
       "  </tbody>\n",
       "</table>\n",
       "</div>"
      ],
      "text/plain": [
       "                                  inPosition  time_difference\n",
       "2022-03-21 13:27:33.587000+00:00        True            4.772\n",
       "2022-03-21 13:27:33.687000+00:00       False            4.872\n",
       "2022-03-21 13:27:35.606000+00:00        True            6.791\n",
       "2022-03-21 13:27:35.706000+00:00       False            6.891\n",
       "2022-03-21 13:27:37.526000+00:00        True            8.711\n",
       "2022-03-21 13:27:37.627000+00:00       False            8.812"
      ]
     },
     "execution_count": 125,
     "metadata": {},
     "output_type": "execute_result"
    }
   ],
   "source": [
    "data_in_position"
   ]
  },
  {
   "cell_type": "code",
   "execution_count": 126,
   "id": "2a4e8ffd-c649-47bb-9ae6-2697f2b5087f",
   "metadata": {},
   "outputs": [
    {
     "data": {
      "text/html": [
       "<div>\n",
       "<style scoped>\n",
       "    .dataframe tbody tr th:only-of-type {\n",
       "        vertical-align: middle;\n",
       "    }\n",
       "\n",
       "    .dataframe tbody tr th {\n",
       "        vertical-align: top;\n",
       "    }\n",
       "\n",
       "    .dataframe thead th {\n",
       "        text-align: right;\n",
       "    }\n",
       "</style>\n",
       "<table border=\"1\" class=\"dataframe\">\n",
       "  <thead>\n",
       "    <tr style=\"text-align: right;\">\n",
       "      <th></th>\n",
       "    </tr>\n",
       "  </thead>\n",
       "  <tbody>\n",
       "  </tbody>\n",
       "</table>\n",
       "</div>"
      ],
      "text/plain": [
       "Empty DataFrame\n",
       "Columns: []\n",
       "Index: []"
      ]
     },
     "execution_count": 126,
     "metadata": {},
     "output_type": "execute_result"
    }
   ],
   "source": [
    "data_tracking"
   ]
  },
  {
   "cell_type": "markdown",
   "id": "fec71607-4c2b-4df3-9c9c-ecbb2f591f08",
   "metadata": {},
   "source": [
    "**Test Case (long slew test + constant speed test)**\n",
    "\n",
    "Test the positive and negative directions.\n",
    "The behavior of trajectory generator should be the same for these two tests.\n",
    "Note the CSC does not support the command of constant speed move."
   ]
  },
  {
   "cell_type": "code",
   "execution_count": null,
   "id": "e1803534",
   "metadata": {},
   "outputs": [],
   "source": [
    "time_start = script_log_start(script, test_title, \"long slew / constant speed test\")"
   ]
  },
  {
   "cell_type": "code",
   "execution_count": null,
   "id": "62955458-d3f7-4b1b-99a1-485da7e0a887",
   "metadata": {},
   "outputs": [],
   "source": [
    "await slew_test(rotator, 90, 35, 10)"
   ]
  },
  {
   "cell_type": "code",
   "execution_count": null,
   "id": "5ca54686",
   "metadata": {},
   "outputs": [],
   "source": [
    "time_stop = script_log_stop(script, test_title, \"long slew / constant speed test\")"
   ]
  },
  {
   "cell_type": "code",
   "execution_count": null,
   "id": "e9a64495-bf30-44d3-9936-615bf6eb6eb4",
   "metadata": {},
   "outputs": [],
   "source": [
    "await plot_path_generator(efd_client, time_start, time_stop, filename=\"long_slew_constant_speed\")"
   ]
  },
  {
   "cell_type": "code",
   "execution_count": null,
   "id": "239ec61f-1923-4d35-91d6-cf00904730fa",
   "metadata": {},
   "outputs": [],
   "source": [
    "data_controller_state, data_in_position, data_tracking = await get_event_data(\n",
    "    efd_client, time_start, time_stop)"
   ]
  },
  {
   "cell_type": "code",
   "execution_count": null,
   "id": "38668e45-7735-4298-b360-55a09932d28e",
   "metadata": {},
   "outputs": [],
   "source": [
    "data_controller_state"
   ]
  },
  {
   "cell_type": "code",
   "execution_count": null,
   "id": "c96f55dc-faa1-4845-ad30-5db15aa4075a",
   "metadata": {},
   "outputs": [],
   "source": [
    "data_in_position"
   ]
  },
  {
   "cell_type": "code",
   "execution_count": null,
   "id": "095f49d5-fb2f-4d62-9e15-99550ca7fe60",
   "metadata": {},
   "outputs": [],
   "source": [
    "data_tracking"
   ]
  },
  {
   "cell_type": "markdown",
   "id": "9756a90e-95a8-4068-add7-4d17259db004",
   "metadata": {},
   "source": [
    "**Test Case (rotation range test)**\n",
    "\n",
    "Note the CSC does not support the command of constant speed move."
   ]
  },
  {
   "cell_type": "code",
   "execution_count": null,
   "id": "310739f3",
   "metadata": {},
   "outputs": [],
   "source": [
    "time_start = script_log_start(script, test_title, \"rotation range test\")"
   ]
  },
  {
   "cell_type": "markdown",
   "id": "24895a87",
   "metadata": {},
   "source": [
    "The configuration file of controller can update the following parameters: Parameters_upperPosLimit_deg, Parameters_lowerPosLimit_deg, Parameters_PositionErrorThresh, Parameters_FollowingErrorThreshold_deg, Parameters_trackingSuccessPositionThreshold_deg, and Parameters_trackingLostTimeout_sec in the Simulink model."
   ]
  },
  {
   "cell_type": "code",
   "execution_count": null,
   "id": "05b70bc4-e8f2-4bb5-9db0-6e0a41e42d90",
   "metadata": {},
   "outputs": [],
   "source": [
    "# Test the move position is out of range\n",
    "# Need to modify the configuration file in the rotator controller to have the max/min of +/-45 degree\n",
    "# before the test\n",
    "try:\n",
    "    await rotator.cmd_move.set_start(position=46, timeout=60)\n",
    "except salobj.AckError as error:\n",
    "    print(error)\n",
    "\n",
    "try:\n",
    "    await rotator.cmd_move.set_start(position=-46, timeout=60)\n",
    "except salobj.AckError as error:\n",
    "    print(error)"
   ]
  },
  {
   "cell_type": "code",
   "execution_count": null,
   "id": "715e4fe6",
   "metadata": {},
   "outputs": [],
   "source": [
    "time_stop = script_log_stop(script, test_title, \"rotation range test\")"
   ]
  },
  {
   "cell_type": "code",
   "execution_count": null,
   "id": "02bfef3b-fcd5-4fa3-90cf-49e30dcf321a",
   "metadata": {},
   "outputs": [],
   "source": [
    "await plot_path_generator(efd_client, time_start, time_stop, filename=\"rotation_range\")"
   ]
  },
  {
   "cell_type": "code",
   "execution_count": null,
   "id": "cf6e4d5b-e4c8-4711-a3a5-48d831b2fc90",
   "metadata": {},
   "outputs": [],
   "source": [
    "data_controller_state, data_in_position, data_tracking = await get_event_data(\n",
    "    efd_client, time_start, time_stop)"
   ]
  },
  {
   "cell_type": "code",
   "execution_count": null,
   "id": "7a1733e3-bb84-402c-9591-30e3d64e9abe",
   "metadata": {},
   "outputs": [],
   "source": [
    "data_controller_state"
   ]
  },
  {
   "cell_type": "code",
   "execution_count": null,
   "id": "67a1ea67-643d-4eef-9f79-4bec59c02188",
   "metadata": {},
   "outputs": [],
   "source": [
    "data_in_position"
   ]
  },
  {
   "cell_type": "code",
   "execution_count": null,
   "id": "4422d522-110a-449c-b4d3-ddeb3e1f9db6",
   "metadata": {},
   "outputs": [],
   "source": [
    "data_tracking"
   ]
  },
  {
   "cell_type": "markdown",
   "id": "b0bcab5c-8707-4b74-8530-17e1297b222b",
   "metadata": {},
   "source": [
    "**Test Case (position accuracy)**\n",
    "\n",
    "The **slewingAndTracking** operation will be tested.\n",
    "Note the rotator will transition to Fault state in the final if there is no new track command.\n",
    "This behaviour can be used to verify the test case of \"no tracking commands\".\n",
    "In addition, the trajectory generator will do the extrapolation in a small time period before the transition to **Fault** state."
   ]
  },
  {
   "cell_type": "markdown",
   "id": "c5d96ac6-63dd-4ee5-bc13-eb924623748b",
   "metadata": {},
   "source": [
    "Target is moving in the positive direction."
   ]
  },
  {
   "cell_type": "code",
   "execution_count": null,
   "id": "ed129305",
   "metadata": {},
   "outputs": [],
   "source": [
    "time_start = script_log_start(script, test_title, \"position accuracy (positive)\")"
   ]
  },
  {
   "cell_type": "code",
   "execution_count": null,
   "id": "d2b11c05-4e76-4bcb-be95-a031769bb067",
   "metadata": {},
   "outputs": [],
   "source": [
    "await track_target(rotator, 30, 30.5, 0.03)"
   ]
  },
  {
   "cell_type": "code",
   "execution_count": null,
   "id": "8569f805",
   "metadata": {},
   "outputs": [],
   "source": [
    "time_stop = script_log_stop(script, test_title, \"position accuracy (positive)\")"
   ]
  },
  {
   "cell_type": "code",
   "execution_count": null,
   "id": "aad8abfe-8b65-42cb-8616-73086d59eddd",
   "metadata": {},
   "outputs": [],
   "source": [
    "await plot_path_generator(efd_client, time_start, time_stop, filename=\"position_accuracy_positive\")"
   ]
  },
  {
   "cell_type": "code",
   "execution_count": null,
   "id": "e0235286-20df-41fb-9eff-dd62a8145ee8",
   "metadata": {},
   "outputs": [],
   "source": [
    "data_controller_state, data_in_position, data_tracking = await get_event_data(\n",
    "    efd_client, time_start, time_stop)"
   ]
  },
  {
   "cell_type": "code",
   "execution_count": null,
   "id": "7487398f-d544-4edd-af2b-89671dcce1d2",
   "metadata": {},
   "outputs": [],
   "source": [
    "data_controller_state"
   ]
  },
  {
   "cell_type": "code",
   "execution_count": null,
   "id": "ba2f9544-0be2-4452-b3ae-a833a86d6788",
   "metadata": {},
   "outputs": [],
   "source": [
    "data_in_position"
   ]
  },
  {
   "cell_type": "code",
   "execution_count": null,
   "id": "0f325e18-771c-46c2-aab5-6ebc69c955fd",
   "metadata": {},
   "outputs": [],
   "source": [
    "data_tracking"
   ]
  },
  {
   "cell_type": "markdown",
   "id": "359c86b6-d90e-4dab-9b55-9473dddf396c",
   "metadata": {},
   "source": [
    "Target is moving in the negative direction."
   ]
  },
  {
   "cell_type": "code",
   "execution_count": null,
   "id": "c908aff0",
   "metadata": {},
   "outputs": [],
   "source": [
    "time_start = script_log_start(script, test_title, \"position accuracy (negative)\")"
   ]
  },
  {
   "cell_type": "code",
   "execution_count": null,
   "id": "25a726d7-c0f1-45b0-8a5c-e59c9171944c",
   "metadata": {},
   "outputs": [],
   "source": [
    "await track_target(rotator, -30, -31.1, -0.068)"
   ]
  },
  {
   "cell_type": "code",
   "execution_count": null,
   "id": "7e53cee0",
   "metadata": {},
   "outputs": [],
   "source": [
    "time_stop = script_log_stop(script, test_title, \"position accuracy (negative)\")"
   ]
  },
  {
   "cell_type": "code",
   "execution_count": null,
   "id": "5bb499b1-6ad8-4113-ae63-008325bf775e",
   "metadata": {},
   "outputs": [],
   "source": [
    "await plot_path_generator(efd_client, time_start, time_stop, filename=\"position_accuracy_negative\")"
   ]
  },
  {
   "cell_type": "code",
   "execution_count": null,
   "id": "7ba6361d-8c35-4577-b133-85065e35cc0c",
   "metadata": {},
   "outputs": [],
   "source": [
    "data_controller_state, data_in_position, data_tracking = await get_event_data(\n",
    "    efd_client, time_start, time_stop)"
   ]
  },
  {
   "cell_type": "code",
   "execution_count": null,
   "id": "4f679cb4-77aa-4eca-ac93-b6363d5d939f",
   "metadata": {},
   "outputs": [],
   "source": [
    "data_controller_state"
   ]
  },
  {
   "cell_type": "code",
   "execution_count": null,
   "id": "54ffbdaa-4d7a-4852-b81a-a7f61ca5080f",
   "metadata": {},
   "outputs": [],
   "source": [
    "data_in_position"
   ]
  },
  {
   "cell_type": "code",
   "execution_count": null,
   "id": "ba7e832e-dbd6-4716-bff0-8e0e611c4051",
   "metadata": {},
   "outputs": [],
   "source": [
    "data_tracking"
   ]
  },
  {
   "cell_type": "markdown",
   "id": "ac63e78d-b2d0-41f1-a550-628715a91a41",
   "metadata": {},
   "source": [
    "**Test Case (tracking / slewing sequence test)**\n",
    "\n",
    "Track two targets and stop in between."
   ]
  },
  {
   "cell_type": "code",
   "execution_count": null,
   "id": "d761c66f",
   "metadata": {},
   "outputs": [],
   "source": [
    "time_start = script_log_start(script, test_title, \"tracking/slewing sequence test\")"
   ]
  },
  {
   "cell_type": "code",
   "execution_count": null,
   "id": "a674e841-f71d-48a1-bce5-e0e2b8f10059",
   "metadata": {},
   "outputs": [],
   "source": [
    "await track_slew_test(rotator)"
   ]
  },
  {
   "cell_type": "code",
   "execution_count": null,
   "id": "9a542200",
   "metadata": {},
   "outputs": [],
   "source": [
    "time_stop = script_log_stop(script, test_title, \"tracking/slewing sequence test\")"
   ]
  },
  {
   "cell_type": "code",
   "execution_count": null,
   "id": "bac37507-a0b1-4d1a-a958-5004c9d63882",
   "metadata": {},
   "outputs": [],
   "source": [
    "await plot_path_generator(efd_client, time_start, time_stop, filename=\"tracking_slewing_sequence\")"
   ]
  },
  {
   "cell_type": "code",
   "execution_count": null,
   "id": "e6c29d7f-7a9a-46b6-a5d8-a9ae395c9695",
   "metadata": {},
   "outputs": [],
   "source": [
    "data_controller_state, data_in_position, data_tracking = await get_event_data(\n",
    "    efd_client, time_start, time_stop)"
   ]
  },
  {
   "cell_type": "code",
   "execution_count": null,
   "id": "370054ec-3fe4-49b1-b432-4f218bf20f5a",
   "metadata": {},
   "outputs": [],
   "source": [
    "data_controller_state"
   ]
  },
  {
   "cell_type": "code",
   "execution_count": null,
   "id": "01014f0d-2a5f-4d99-a0da-c44c0afc773c",
   "metadata": {},
   "outputs": [],
   "source": [
    "data_in_position"
   ]
  },
  {
   "cell_type": "code",
   "execution_count": null,
   "id": "af508a4a-17dd-42e9-9e42-4701049006b8",
   "metadata": {},
   "outputs": [],
   "source": [
    "data_tracking"
   ]
  },
  {
   "cell_type": "markdown",
   "id": "a762a505-d126-4178-8e11-c0e0b921a45a",
   "metadata": {},
   "source": [
    "**Test Case (tracking without initial slewing)**\n",
    "\n",
    "No initial slewing is applied to the rotator."
   ]
  },
  {
   "cell_type": "code",
   "execution_count": null,
   "id": "52e8e018",
   "metadata": {},
   "outputs": [],
   "source": [
    "time_start = script_log_start(script, test_title, \"tracking w/o initial slewing\")"
   ]
  },
  {
   "cell_type": "code",
   "execution_count": null,
   "id": "32c8a193-59f6-44ef-828d-4bf6a2f050dd",
   "metadata": {},
   "outputs": [],
   "source": [
    "data = await rotator.tel_rotation.aget(timeout=15)\n",
    "await track_target(rotator, data.actualPosition, data.actualPosition + 0.5, 0.068)"
   ]
  },
  {
   "cell_type": "code",
   "execution_count": null,
   "id": "0b8a814b",
   "metadata": {},
   "outputs": [],
   "source": [
    "time_stop = script_log_stop(script, test_title, \"tracking w/o initial slewing\")"
   ]
  },
  {
   "cell_type": "code",
   "execution_count": null,
   "id": "b2c544c4-6cd7-4d3a-99bc-4ce98185207b",
   "metadata": {},
   "outputs": [],
   "source": [
    "await plot_path_generator(efd_client, time_start, time_stop, filename=\"tracking_no_initial_slewing\")"
   ]
  },
  {
   "cell_type": "code",
   "execution_count": null,
   "id": "46dc7213-06a6-4a8b-904b-a2c06f85d3fb",
   "metadata": {},
   "outputs": [],
   "source": [
    "data_controller_state, data_in_position, data_tracking = await get_event_data(\n",
    "    efd_client, time_start, time_stop)"
   ]
  },
  {
   "cell_type": "code",
   "execution_count": null,
   "id": "d7e5eab2-969d-48db-a7d7-644d981f9b44",
   "metadata": {},
   "outputs": [],
   "source": [
    "data_controller_state"
   ]
  },
  {
   "cell_type": "code",
   "execution_count": null,
   "id": "6678a4ed-33c0-446b-b898-2957b4dbcbcd",
   "metadata": {},
   "outputs": [],
   "source": [
    "data_in_position"
   ]
  },
  {
   "cell_type": "code",
   "execution_count": null,
   "id": "aa86dffd-fade-4052-bef9-cf70b3a19e3a",
   "metadata": {},
   "outputs": [],
   "source": [
    "data_tracking"
   ]
  },
  {
   "cell_type": "markdown",
   "id": "b8fec7d8-b442-4606-b917-2ddcf744a6ae",
   "metadata": {},
   "source": [
    "**Test Case (slewing supersession)**\n",
    "\n",
    "Test the slewing supersession capability of the rotator."
   ]
  },
  {
   "cell_type": "code",
   "execution_count": null,
   "id": "4af30ac5",
   "metadata": {},
   "outputs": [],
   "source": [
    "time_start = script_log_start(script, test_title, \"slewing supersession\")"
   ]
  },
  {
   "cell_type": "code",
   "execution_count": null,
   "id": "ce116647-20d9-4575-9a9b-9c910aac3649",
   "metadata": {},
   "outputs": [],
   "source": [
    "await slew_supersession_test(rotator)"
   ]
  },
  {
   "cell_type": "code",
   "execution_count": null,
   "id": "9a71d745",
   "metadata": {},
   "outputs": [],
   "source": [
    "time_stop = script_log_stop(script, test_title, \"slewing supersession\")"
   ]
  },
  {
   "cell_type": "code",
   "execution_count": null,
   "id": "006647a9-60ad-454f-a41a-f5c5ccf8bbf5",
   "metadata": {},
   "outputs": [],
   "source": [
    "await plot_path_generator(efd_client, time_start, time_stop, filename=\"slewing_supersession\")"
   ]
  },
  {
   "cell_type": "code",
   "execution_count": null,
   "id": "1a064213-8beb-4217-9e24-83ef9dc951d7",
   "metadata": {},
   "outputs": [],
   "source": [
    "data_controller_state, data_in_position, data_tracking = await get_event_data(\n",
    "    efd_client, time_start, time_stop)"
   ]
  },
  {
   "cell_type": "code",
   "execution_count": null,
   "id": "5e5af1a2-7ae1-41c2-a20e-897957926d36",
   "metadata": {},
   "outputs": [],
   "source": [
    "data_controller_state"
   ]
  },
  {
   "cell_type": "code",
   "execution_count": null,
   "id": "d54151f4-08c9-4405-8907-1824a2801cea",
   "metadata": {},
   "outputs": [],
   "source": [
    "data_in_position"
   ]
  },
  {
   "cell_type": "code",
   "execution_count": null,
   "id": "e35622ca-204a-41a8-9f73-226555428801",
   "metadata": {},
   "outputs": [],
   "source": [
    "data_tracking"
   ]
  },
  {
   "cell_type": "markdown",
   "id": "b8efad31-4c89-47b9-b154-d8b6f108afa4",
   "metadata": {},
   "source": [
    "**Test Case (tracking / slewing with multiple stops)**"
   ]
  },
  {
   "cell_type": "code",
   "execution_count": null,
   "id": "f0a02dd9",
   "metadata": {},
   "outputs": [],
   "source": [
    "time_start = script_log_start(script, test_title, \"tracking/slewing with multiple stops\")"
   ]
  },
  {
   "cell_type": "code",
   "execution_count": null,
   "id": "354cc778-b8a9-4cba-9af7-62c3894def3c",
   "metadata": {},
   "outputs": [],
   "source": [
    "await track_slew_multiple_stop_test(rotator)"
   ]
  },
  {
   "cell_type": "code",
   "execution_count": null,
   "id": "d797d147",
   "metadata": {},
   "outputs": [],
   "source": [
    "time_stop = script_log_stop(script, test_title, \"tracking/slewing with multiple stops\")"
   ]
  },
  {
   "cell_type": "code",
   "execution_count": null,
   "id": "491cab5f-53c2-4c17-986b-9d7d06f36c02",
   "metadata": {},
   "outputs": [],
   "source": [
    "await plot_path_generator(efd_client, time_start, time_stop, filename=\"tracking_slewing_multiple_stops\")"
   ]
  },
  {
   "cell_type": "code",
   "execution_count": null,
   "id": "33e74090-6b67-4e23-9728-843c00230afe",
   "metadata": {},
   "outputs": [],
   "source": [
    "data_controller_state, data_in_position, data_tracking = await get_event_data(\n",
    "    efd_client, time_start, time_stop)"
   ]
  },
  {
   "cell_type": "code",
   "execution_count": null,
   "id": "5b523e46-231e-4798-bca9-2cbc52fa2262",
   "metadata": {},
   "outputs": [],
   "source": [
    "data_controller_state"
   ]
  },
  {
   "cell_type": "code",
   "execution_count": null,
   "id": "4c27b8fd-4890-427b-8213-5dbde39f83ff",
   "metadata": {},
   "outputs": [],
   "source": [
    "data_in_position"
   ]
  },
  {
   "cell_type": "code",
   "execution_count": null,
   "id": "9686dd71-c1c2-462d-a7fb-cf8abf9b2847",
   "metadata": {},
   "outputs": [],
   "source": [
    "data_tracking"
   ]
  },
  {
   "cell_type": "code",
   "execution_count": null,
   "id": "2a0ece1e-f6ed-424c-a863-569bec9d1223",
   "metadata": {},
   "outputs": [],
   "source": []
  }
 ],
 "metadata": {
  "kernelspec": {
   "display_name": "LSST",
   "language": "python",
   "name": "lsst"
  },
  "language_info": {
   "codemirror_mode": {
    "name": "ipython",
    "version": 3
   },
   "file_extension": ".py",
   "mimetype": "text/x-python",
   "name": "python",
   "nbconvert_exporter": "python",
   "pygments_lexer": "ipython3",
   "version": "3.8.12"
  }
 },
 "nbformat": 4,
 "nbformat_minor": 5
}
