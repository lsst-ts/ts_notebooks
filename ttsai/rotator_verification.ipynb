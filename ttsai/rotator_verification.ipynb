{
 "cells": [
  {
   "cell_type": "markdown",
   "id": "50cf51b7-2f25-4360-af22-fd9322b26b34",
   "metadata": {},
   "source": [
    "**Rotator Trajectory Verification**\n",
    "\n",
    "This Jupyter notebook is used to verify the updated rotator trajectory generator by Tekniker.\n",
    "The test will be performed on summit with the real hardware.\n",
    "Before that, the Tucson test stand is used to develop the test procedure.\n",
    "The rotator commandable SAL component (CSC) is used to control the rotator hardware.\n",
    "The published event and telemetry are stored in the engineering facility database (EFD).\n",
    "\n",
    "It is noted that the **MTMount** telemetry data is required.\n",
    "If there is none, you need to create the fake data.\n",
    "Otherwise, the rotator CSC will put the low-level controller into the **Fault** state."
   ]
  },
  {
   "cell_type": "markdown",
   "id": "77635002-44f9-4e1e-9432-a15b032f3fe7",
   "metadata": {},
   "source": [
    "**Import Modules**"
   ]
  },
  {
   "cell_type": "code",
   "execution_count": 438,
   "id": "bd51ca47-ee1d-412d-914a-9fe431e6fdca",
   "metadata": {},
   "outputs": [],
   "source": [
    "%matplotlib inline\n",
    "import asyncio\n",
    "import time\n",
    "from astropy.time import Time\n",
    "import pandas as pd\n",
    "import numpy as np\n",
    "import matplotlib.pyplot as plt\n",
    "\n",
    "from lsst.ts import salobj\n",
    "from lsst.ts import simactuators\n",
    "from lsst_efd_client import EfdClient"
   ]
  },
  {
   "cell_type": "markdown",
   "id": "da828c63-1f59-4de3-9216-8fb2aa99f11a",
   "metadata": {},
   "source": [
    "**Custom Functions**"
   ]
  },
  {
   "cell_type": "code",
   "execution_count": 439,
   "id": "33ee5f92-537c-4aae-93bc-ecae213d0d4b",
   "metadata": {},
   "outputs": [],
   "source": [
    "def retrieve_efd_client(is_summit=True):\n",
    "    \"\"\"\n",
    "    Retrieves a client to EFD.\n",
    "\n",
    "    Parameters\n",
    "    ----------\n",
    "    is_summit : bool, optional\n",
    "        This notebook is running on the summit or not. If not, the returned object will point\n",
    "        to the test stand at Tucson.\n",
    "\n",
    "    Returns\n",
    "    -------\n",
    "    EfdClient : The interface object between the Nublado and summit/Tucson EFD.\n",
    "    \"\"\"\n",
    "    efd_name = \"summit_efd\" if is_summit else \"tucson_teststand_efd\"        \n",
    "    return EfdClient(efd_name)"
   ]
  },
  {
   "cell_type": "code",
   "execution_count": 440,
   "id": "80fee146-19c9-4032-8120-7730bb07acd6",
   "metadata": {},
   "outputs": [],
   "source": [
    "async def print_summary_state(csc):\n",
    "    \"\"\"\n",
    "    Print the summary state of rotator.\n",
    "\n",
    "    Parameters\n",
    "    ----------\n",
    "    csc : lsst.ts.salobj.remote.Remote\n",
    "        Remote object of the rotator CSC.\n",
    "    \"\"\"\n",
    "    data = await csc.evt_summaryState.aget(timeout=30)\n",
    "    print(salobj.State(data.summaryState))"
   ]
  },
  {
   "cell_type": "code",
   "execution_count": 441,
   "id": "b3cde69c-2286-4930-8b57-47187d926b86",
   "metadata": {},
   "outputs": [],
   "source": [
    "async def print_rotator_position(csc):\n",
    "    \"\"\"\n",
    "    Print the rotator position in degree.\n",
    "\n",
    "    Parameters\n",
    "    ----------\n",
    "    csc : lsst.ts.salobj.remote.Remote\n",
    "        Remote object of the rotator CSC.\n",
    "    \"\"\"\n",
    "    data = await csc.tel_rotation.aget(timeout=15)\n",
    "    print(f\"Rotator is at {data.actualPosition} degree.\")"
   ]
  },
  {
   "cell_type": "code",
   "execution_count": 442,
   "id": "112b097d-8a2e-474f-9a93-8864fd107cd3",
   "metadata": {},
   "outputs": [],
   "source": [
    "async def print_rotator_latest_message(csc):\n",
    "    \"\"\"\n",
    "    Print the latest message of rotator.\n",
    "\n",
    "    Parameters\n",
    "    ----------\n",
    "    csc : lsst.ts.salobj.remote.Remote\n",
    "        Remote object of the rotator CSC.\n",
    "    \"\"\"\n",
    "    data = await csc.evt_logMessage.aget(timeout=15)\n",
    "    print(data.message)"
   ]
  },
  {
   "cell_type": "code",
   "execution_count": 443,
   "id": "a4df096c-cbb8-4097-ab3e-aa60807d4de3",
   "metadata": {},
   "outputs": [],
   "source": [
    "async def create_fake_mtmount_data(mtmount_controller, rotator_csc, period):\n",
    "    \"\"\"Create the fake MTMount data for the rotator CSC to subscribe.\n",
    "\n",
    "    TODO: Remove this workaround method after DM-33967.\n",
    "\n",
    "    Parameters\n",
    "    ----------\n",
    "    mtmount_controller : lsst.ts.salobj.controller.Controller\n",
    "        MTMount controller object.\n",
    "    rotator_csc : lsst.ts.salobj.remote.Remote\n",
    "        Remote object of the rotator CSC.\n",
    "    period : float\n",
    "        Period to generate the fake MTMount telemetry data in second.\n",
    "    \"\"\"\n",
    "    # 20 Hz is 0.05 sec\n",
    "    sleep_time = 0.05\n",
    "\n",
    "    # Fake the MTMount data in the period\n",
    "    counts = int(period / sleep_time)\n",
    "\n",
    "    print(\"Begin to fake the MTMount telemetry.\")\n",
    "    for count in range(0, counts):\n",
    "        data = await rotator_csc.tel_rotation.aget(timeout=1)\n",
    "        mtmount_controller.tel_cameraCableWrap.set_put(\n",
    "            actualPosition=data.actualPosition,\n",
    "            actualVelocity=data.actualVelocity,\n",
    "            timestamp=data.timestamp,\n",
    "        )\n",
    "        await asyncio.sleep(sleep_time)\n",
    "\n",
    "    print(\"Finish the faking of MTMount telemetry.\")"
   ]
  },
  {
   "cell_type": "code",
   "execution_count": 444,
   "id": "c551494f-5f0f-4e28-bb0e-9d416fe303dc",
   "metadata": {},
   "outputs": [],
   "source": [
    "def task_create_fake_mtmount_data(mtmount_controller, rotator_csc, period):\n",
    "    \"\"\"Task to create the fake MTMount data for the rotator CSC to subscribe in the background.\n",
    "\n",
    "    TODO: Remove this workaround method after DM-33967.\n",
    "\n",
    "    Parameters\n",
    "    ----------\n",
    "    mtmount_controller : lsst.ts.salobj.controller.Controller\n",
    "        MTMount controller object.\n",
    "    rotator_csc : lsst.ts.salobj.remote.Remote\n",
    "        Remote object of the rotator CSC.\n",
    "    period : float\n",
    "        Period to generate the fake MTMount telemetry data in second.\n",
    "    \"\"\"\n",
    "    asyncio.create_task(create_fake_mtmount_data(mtmount_controller, rotator_csc, period))"
   ]
  },
  {
   "cell_type": "code",
   "execution_count": 445,
   "id": "b0e1f89c-1dc6-4f97-8e9f-837be355d9da",
   "metadata": {},
   "outputs": [],
   "source": [
    "def get_time():\n",
    "    \"\"\"Get the time object used to query the EFD.\n",
    "\n",
    "    Returns\n",
    "    -------\n",
    "    astropy.time.core.Time\n",
    "        Time object.\n",
    "    \"\"\"\n",
    "    time_str = time.strftime(\"%Y-%m-%dT%H:%M:%S\", time.gmtime())\n",
    "    return Time(time_str, scale=\"utc\", format=\"isot\")"
   ]
  },
  {
   "cell_type": "code",
   "execution_count": 446,
   "id": "63cd3df1-1515-4712-8d4c-18070e6c18eb",
   "metadata": {},
   "outputs": [],
   "source": [
    "def print_and_get_time():\n",
    "    \"\"\"Print and get the time object used to query the EFD.\n",
    "\n",
    "    Returns\n",
    "    -------\n",
    "    astropy.time.core.Time\n",
    "        Time object.\n",
    "    \"\"\"\n",
    "    time = get_time()\n",
    "    print(f\"Time is {time} right now.\")\n",
    "\n",
    "    return time"
   ]
  },
  {
   "cell_type": "code",
   "execution_count": 447,
   "id": "7db5c908-bf35-4764-a978-47d1faaece10",
   "metadata": {},
   "outputs": [],
   "source": [
    "def generate_tracking_target(position, velocity, period):\n",
    "    \"\"\"\n",
    "    Generate the tracking target.\n",
    "\n",
    "    Parameters\n",
    "    ----------\n",
    "    position : float\n",
    "        Initial position of target in deg.\n",
    "    velocity : float\n",
    "        Velocity of the target in deg/sec.\n",
    "    period : float\n",
    "        Period to track in second.\n",
    "\n",
    "    Returns\n",
    "    -------\n",
    "    list_position : list\n",
    "        List of the position.\n",
    "    list_velocity : list\n",
    "        List of the velocity.\n",
    "    \"\"\"\n",
    "    # 20 Hz is 0.05 s\n",
    "    delta_t = 0.05\n",
    "    number_total_commands = int(period / delta_t)\n",
    "    \n",
    "    list_position = [position + velocity * idx for idx in range(0, number_total_commands)]\n",
    "    list_velocity = [velocity] *  number_total_commands\n",
    "    return list_position, list_velocity"
   ]
  },
  {
   "cell_type": "code",
   "execution_count": 11,
   "id": "596d4468-6f38-42ca-8794-279e3f4204be",
   "metadata": {},
   "outputs": [],
   "source": [
    "async def slew_test(csc, position, est_time_wait, est_time_stop):\n",
    "    \"\"\"\n",
    "    Slew test. The rototator will move in the positive and negative directions.\n",
    "    It will stop in the final movement.\n",
    "\n",
    "    Parameters\n",
    "    ----------\n",
    "    csc : lsst.ts.salobj.remote.Remote\n",
    "        Remote object of the rotator CSC.\n",
    "    est_time_wait : float\n",
    "        Estimated time to wait of movement in second.\n",
    "    est_time_stop : float\n",
    "        Estimated time to stop in the final in second.\n",
    "    \"\"\"\n",
    "    # Move in one direction\n",
    "    await csc.cmd_move.set_start(position=position, timeout=60)\n",
    "    await asyncio.sleep(est_time_wait)\n",
    "\n",
    "    # Move back to the origin\n",
    "    await csc.cmd_move.set_start(position=0, timeout=60)\n",
    "    await asyncio.sleep(est_time_wait)\n",
    "\n",
    "    # Move to the other direction\n",
    "    await csc.cmd_move.set_start(position=-position, timeout=60)\n",
    "    await asyncio.sleep(est_time_wait)\n",
    "\n",
    "    # Move and stop before the end of movement\n",
    "    await csc.cmd_move.set_start(position=position, timeout=60)\n",
    "    await asyncio.sleep(est_time_stop)\n",
    "    await csc.cmd_stop.set_start(timeout=60)"
   ]
  },
  {
   "cell_type": "code",
   "execution_count": 448,
   "id": "efe2d6d8-c238-462e-8a7b-cb0b04e7b631",
   "metadata": {},
   "outputs": [],
   "source": [
    "async def track_target(csc, start_position, end_position, velocity):\n",
    "    \"\"\"Track the target.\n",
    "\n",
    "    Parameters\n",
    "    ----------\n",
    "    start_position : float\n",
    "        Starting position of ramp (deg).\n",
    "    end_position : float\n",
    "        Ending position of ramp (deg).\n",
    "    velocity : float\n",
    "        Velocity of motion along the ramp (deg/sec).\n",
    "    \"\"\"\n",
    "    # 20 Hz is 0.05 ms\n",
    "    track_advance_time = 0.05\n",
    "    ramp_generator = simactuators.RampGenerator(\n",
    "        [start_position], [end_position], [velocity], track_advance_time)\n",
    "\n",
    "    await csc.cmd_trackStart.start(timeout=15)\n",
    "    for positions, velocities, tai in ramp_generator():\n",
    "        await csc.cmd_track.set_start(\n",
    "            angle=positions[0],\n",
    "            velocity=velocities[0],\n",
    "            tai=tai,\n",
    "            timeout=5,\n",
    "        )\n",
    "        await asyncio.sleep(0.1)"
   ]
  },
  {
   "cell_type": "code",
   "execution_count": 507,
   "id": "e7a4f96d-cce4-43b2-8400-be0b1c8851b1",
   "metadata": {},
   "outputs": [],
   "source": [
    "async def track_slew_test(csc):\n",
    "    \"\"\"\n",
    "    Track slew sequence test.\n",
    "\n",
    "    Parameters\n",
    "    ----------\n",
    "    csc : lsst.ts.salobj.remote.Remote\n",
    "        Remote object of the rotator CSC.\n",
    "    \"\"\"\n",
    "    # 20 Hz is 0.05 ms\n",
    "    track_advance_time = 0.05\n",
    "    ramp_generator_1 = simactuators.RampGenerator([0.7], [1.5], [0.068], track_advance_time)\n",
    "    ramp_generator_2 = simactuators.RampGenerator([0.7], [0], [-0.068], track_advance_time)\n",
    "    ramp_generator_3 = simactuators.RampGenerator([5], [4.7], [-0.01], track_advance_time)\n",
    "    ramp_generator_4 = simactuators.RampGenerator([-5], [-4.6], [0.0042], track_advance_time)\n",
    "\n",
    "    # Track the first target\n",
    "    await csc.cmd_trackStart.start(timeout=15)\n",
    "\n",
    "    is_stopped = False\n",
    "    time_start = time.monotonic()\n",
    "    for positions, velocities, tai in ramp_generator_1():\n",
    "        await csc.cmd_track.set_start(\n",
    "            angle=positions[0],\n",
    "            velocity=velocities[0],\n",
    "            tai=tai,\n",
    "            timeout=5,\n",
    "        )\n",
    "        await asyncio.sleep(0.1)\n",
    "\n",
    "        # Stop the rotator in the tracking\n",
    "        delta_time = time.monotonic() - time_start\n",
    "        if (3 <= delta_time <= 3.5) and (not is_stopped):\n",
    "            await csc.cmd_stop.set_start(timeout=10)\n",
    "            \n",
    "            await asyncio.sleep(1)\n",
    "            is_stopped = True\n",
    "\n",
    "        # Allow the tracking again\n",
    "        if is_stopped:\n",
    "            await csc.cmd_trackStart.start(timeout=15)\n",
    "            is_stopped = False\n",
    "\n",
    "    # Track the second target\n",
    "    for positions, velocities, tai in ramp_generator_2():\n",
    "        await csc.cmd_track.set_start(\n",
    "            angle=positions[0],\n",
    "            velocity=velocities[0],\n",
    "            tai=tai,\n",
    "            timeout=5,\n",
    "        )\n",
    "        await asyncio.sleep(0.1)\n",
    "\n",
    "    # Track the third target\n",
    "    for positions, velocities, tai in ramp_generator_3():\n",
    "        await csc.cmd_track.set_start(\n",
    "            angle=positions[0],\n",
    "            velocity=velocities[0],\n",
    "            tai=tai,\n",
    "            timeout=5,\n",
    "        )\n",
    "        await asyncio.sleep(0.1)\n",
    "\n",
    "    # Track the fourth target\n",
    "    for positions, velocities, tai in ramp_generator_4():\n",
    "        await csc.cmd_track.set_start(\n",
    "            angle=positions[0],\n",
    "            velocity=velocities[0],\n",
    "            tai=tai,\n",
    "            timeout=5,\n",
    "        )\n",
    "        await asyncio.sleep(0.1)"
   ]
  },
  {
   "cell_type": "code",
   "execution_count": 492,
   "id": "3c727501-e927-4c64-b1ac-7828d8e544c2",
   "metadata": {},
   "outputs": [],
   "source": [
    "async def slew_supersession_test(csc):\n",
    "    \"\"\"\n",
    "    Slew supersession test.\n",
    "\n",
    "    Parameters\n",
    "    ----------\n",
    "    csc : lsst.ts.salobj.remote.Remote\n",
    "        Remote object of the rotator CSC.\n",
    "    \"\"\"\n",
    "    # 20 Hz is 0.05 ms\n",
    "    track_advance_time = 0.05\n",
    "    ramp_generator_1 = simactuators.RampGenerator([60], [62], [0.068], track_advance_time)\n",
    "    ramp_generator_2 = simactuators.RampGenerator([-60], [-62], [-0.05], track_advance_time)\n",
    "\n",
    "    # Track the first target\n",
    "    await csc.cmd_trackStart.start(timeout=15)\n",
    "\n",
    "    is_stopped = False\n",
    "    time_start = time.monotonic()\n",
    "    for positions, velocities, tai in ramp_generator_1():\n",
    "        await csc.cmd_track.set_start(\n",
    "            angle=positions[0],\n",
    "            velocity=velocities[0],\n",
    "            tai=tai,\n",
    "            timeout=5,\n",
    "        )\n",
    "        await asyncio.sleep(0.1)\n",
    "\n",
    "        # Break the tracking of this target to test the supersession of slew\n",
    "        if (time.monotonic() - time_start) > 8:\n",
    "            break\n",
    "\n",
    "    # Track the second target\n",
    "    for positions, velocities, tai in ramp_generator_2():\n",
    "        await csc.cmd_track.set_start(\n",
    "            angle=positions[0],\n",
    "            velocity=velocities[0],\n",
    "            tai=tai,\n",
    "            timeout=5,\n",
    "        )\n",
    "        await asyncio.sleep(0.1)"
   ]
  },
  {
   "cell_type": "code",
   "execution_count": 13,
   "id": "7aba4222-b353-4190-89c4-b7ef4c6223e6",
   "metadata": {},
   "outputs": [],
   "source": [
    "async def track_slew_multiple_stop_test(csc):\n",
    "    \"\"\"\n",
    "    Track slew sequence test with multiple stops.\n",
    "\n",
    "    Parameters\n",
    "    ----------\n",
    "    csc : lsst.ts.salobj.remote.Remote\n",
    "        Remote object of the rotator CSC.\n",
    "    \"\"\"\n",
    "    # 20 Hz is 0.05 ms\n",
    "    track_advance_time = 0.05\n",
    "    ramp_generator_1 = simactuators.RampGenerator([0.7], [1.5], [0.068], track_advance_time)\n",
    "    ramp_generator_2 = simactuators.RampGenerator([0.7], [0], [-0.068], track_advance_time)\n",
    "\n",
    "    # Track the first target\n",
    "    await csc.cmd_trackStart.start(timeout=15)\n",
    "\n",
    "    is_stopped = False\n",
    "    time_start = time.monotonic()\n",
    "    for positions, velocities, tai in ramp_generator_1():\n",
    "        await csc.cmd_track.set_start(\n",
    "            angle=positions[0],\n",
    "            velocity=velocities[0],\n",
    "            tai=tai,\n",
    "            timeout=5,\n",
    "        )\n",
    "        await asyncio.sleep(0.1)\n",
    "\n",
    "        # Stop the rotator in the tracking\n",
    "        delta_time = time.monotonic() - time_start\n",
    "        if ((3 <= delta_time <= 3.5) or (6 <= delta_time <= 6.5)) and (not is_stopped):\n",
    "            await csc.cmd_stop.set_start(timeout=10)\n",
    "            \n",
    "            await asyncio.sleep(1)\n",
    "            is_stopped = True\n",
    "\n",
    "        # Allow the tracking again\n",
    "        if is_stopped:\n",
    "            await csc.cmd_trackStart.start(timeout=15)\n",
    "            is_stopped = False\n",
    "\n",
    "    # Track the second target\n",
    "    for positions, velocities, tai in ramp_generator_2():\n",
    "        await csc.cmd_track.set_start(\n",
    "            angle=positions[0],\n",
    "            velocity=velocities[0],\n",
    "            tai=tai,\n",
    "            timeout=5,\n",
    "        )\n",
    "        await asyncio.sleep(0.1)"
   ]
  },
  {
   "cell_type": "code",
   "execution_count": 450,
   "id": "a0c039ec-3184-4c1f-b663-6de6e2538f2c",
   "metadata": {},
   "outputs": [],
   "source": [
    "async def plot_path_generator(efd_client, time_start, time_end):\n",
    "    \"\"\"\n",
    "    Plot the data of path generator.\n",
    "\n",
    "    Parameters\n",
    "    ----------\n",
    "    efd_client : lsst_efd_client.efd_helper.EfdClient\n",
    "        EFD client.\n",
    "    time_start : astropy.time.core.Time\n",
    "        Start time.\n",
    "    time_end : astropy.time.core.Time\n",
    "        End time.\n",
    "    \"\"\"\n",
    "    # Get the data from EFD\n",
    "    data = await efd_client.select_time_series(\n",
    "        \"lsst.sal.MTRotator.rotation\", \n",
    "        fields=[\"demandPosition\", \"demandVelocity\", \"demandAcceleration\", \"actualPosition\", \"actualVelocity\", \"timestamp\"], \n",
    "        start=time_start, \n",
    "        end=time_end)\n",
    "\n",
    "    # Realign the time origin to 0\n",
    "    time_operation = np.array(data.timestamp.subtract(data.timestamp[0]))\n",
    "\n",
    "    # Plots\n",
    "    plt.subplot(3, 1, 1)\n",
    "    plt.plot(time_operation, data.demandPosition)\n",
    "    plt.plot(time_operation, data.actualPosition, \"x-\")\n",
    "    plt.title(\"Path Generator\")\n",
    "    plt.ylabel(\"P (deg)\")\n",
    "\n",
    "    plt.subplot(3, 1, 2)\n",
    "    plt.plot(time_operation, data.demandVelocity)\n",
    "    plt.plot(time_operation, data.actualVelocity, \"x-\")\n",
    "    plt.ylabel(\"V (deg/s)\")\n",
    "\n",
    "    plt.subplot(3, 1, 3)\n",
    "    plt.plot(time_operation, data.demandAcceleration)\n",
    "    plt.xlabel(\"Time (s)\")\n",
    "    plt.ylabel(\"A (deg/s^2)\")"
   ]
  },
  {
   "cell_type": "code",
   "execution_count": 329,
   "id": "d9986542-6e9d-4a35-ab7d-461770c95ecc",
   "metadata": {},
   "outputs": [],
   "source": [
    "async def get_event_data(efd_client, time_start, time_end):\n",
    "    \"\"\"\n",
    "    Get the event data.\n",
    "\n",
    "    Parameters\n",
    "    ----------\n",
    "    efd_client : lsst_efd_client.efd_helper.EfdClient\n",
    "        EFD client.\n",
    "    time_start : astropy.time.core.Time\n",
    "        Start time.\n",
    "    time_end : astropy.time.core.Time\n",
    "        End time.\n",
    "\n",
    "    Returns\n",
    "    -------\n",
    "    data_controller_state : pandas.core.frame.DataFrame\n",
    "        Data of the controller state event.\n",
    "    data_in_position : pandas.core.frame.DataFrame\n",
    "        Data of the inPosition event.\n",
    "    data_tracking : pandas.core.frame.DataFrame\n",
    "        Data of the tracking event.\n",
    "    \"\"\"\n",
    "\n",
    "    # Get the data from EFD\n",
    "    data_controller_state = await efd_client.select_time_series(\n",
    "        \"lsst.sal.MTRotator.logevent_controllerState\", \n",
    "        fields=[\"controllerState\", \"enabledSubstate\"], \n",
    "        start=time_start,\n",
    "        end=time_end)\n",
    "    data_in_position = await efd_client.select_time_series(\n",
    "        \"lsst.sal.MTRotator.logevent_inPosition\", \n",
    "        fields=\"inPosition\",\n",
    "        start=time_start,\n",
    "        end=time_end)\n",
    "    data_tracking = await efd_client.select_time_series(\n",
    "        \"lsst.sal.MTRotator.logevent_tracking\", \n",
    "        fields=[\"tracking\", \"lost\", \"noNewCommand\"],\n",
    "        start=time_start,\n",
    "        end=time_end)\n",
    "\n",
    "    # Add the column of time difference in seconds\n",
    "    add_column_time_differece(data_controller_state, time_start)\n",
    "    add_column_time_differece(data_in_position, time_start)\n",
    "    add_column_time_differece(data_tracking, time_start)\n",
    "\n",
    "    return data_controller_state, data_in_position, data_tracking"
   ]
  },
  {
   "cell_type": "code",
   "execution_count": 451,
   "id": "a78ebfd4-a879-4070-9ec4-2afd6317ad97",
   "metadata": {},
   "outputs": [],
   "source": [
    "def add_column_time_differece(data_frame, time_start):\n",
    "    \"\"\"\n",
    "    Add the column of time difference in second.\n",
    "\n",
    "    Parameters\n",
    "    ----------\n",
    "    data_frame : pandas.core.frame.DataFrame\n",
    "        Data frame.\n",
    "    time_start : astropy.time.core.Time\n",
    "        Start time.\n",
    "    \"\"\"\n",
    "    if (len(data_frame.values) != 0):\n",
    "        timestamp_start = pd.Timestamp(time_start.value, tz=\"utc\")\n",
    "        diff_time = data_frame.index - pd.Timestamp(time_start.value, tz=\"utc\")\n",
    "        diff_time_sec = [element.seconds + element.microseconds * 1e-6 for element in diff_time]\n",
    "        data_frame[\"time_difference\"] = diff_time_sec"
   ]
  },
  {
   "cell_type": "markdown",
   "id": "1f500072-b08e-463a-911f-2696aac1ebef",
   "metadata": {},
   "source": [
    "**Instantiate the EFD and CSC**\n",
    "\n",
    "Need to make sure **ospl** is running for the data distribution system (DDS) communication."
   ]
  },
  {
   "cell_type": "code",
   "execution_count": 452,
   "id": "45e04d50-73d5-446c-a463-0d31750d0ca1",
   "metadata": {},
   "outputs": [
    {
     "data": {
      "text/html": [
       "<pre style=\"margin: 0.1em;\n",
       "padding-left: 0.25em;\n",
       "border-left-style: solid;\n",
       "font-family: var(--jp-code-font-family);\n",
       "font-size: var(--jp-code-font-size);\n",
       "line-height: var(--jp-code-line-height);\n",
       "\"><span style=\"color: var(--jp-warn-color2)\">MTRotator</span> <span style=\"color: var(--jp-info-color0)\">INFO</span>: Read historical data in 0.00 sec</pre>"
      ],
      "text/plain": [
       "<IPython.core.display.HTML object>"
      ]
     },
     "metadata": {},
     "output_type": "display_data"
    },
    {
     "data": {
      "text/plain": [
       "<ddsutil.MTRotator_ackcmd_f04f56ad at 0x7ff96a3814c0>"
      ]
     },
     "execution_count": 452,
     "metadata": {},
     "output_type": "execute_result"
    }
   ],
   "source": [
    "efd_client = retrieve_efd_client(is_summit=False)\n",
    "rotator = salobj.Remote(salobj.Domain(), \"MTRotator\")\n",
    "await rotator.start_task\n",
    "await rotator.cmd_setLogLevel.set_start(level=10)"
   ]
  },
  {
   "cell_type": "markdown",
   "id": "b3b8ca1e-d9f9-4d53-a2f1-9cb7ba997ebd",
   "metadata": {},
   "source": [
    "**MTMount** controller is used to generate the fake data if needed."
   ]
  },
  {
   "cell_type": "code",
   "execution_count": 462,
   "id": "9021361d-4c5b-462d-a35a-787080c056af",
   "metadata": {},
   "outputs": [],
   "source": [
    "# Run the following code if there is the problem of MTMount to follow the rotator\n",
    "\n",
    "# mtmount_controller = salobj.Controller(\"MTMount\")\n",
    "# await mtmount_controller.start_task"
   ]
  },
  {
   "cell_type": "markdown",
   "id": "3663f0fb-3799-4474-8763-17562baf6679",
   "metadata": {},
   "source": [
    "Put the rotator CSC into **Enabled** state before the test.\n",
    "At this moment, we need to do the workaround before DM-33967.\n",
    "At Tucson teststand, we can use *tts_test.yaml* to workaround the following error of rotator and camera cable wrapper (CCW)."
   ]
  },
  {
   "cell_type": "code",
   "execution_count": 460,
   "id": "1e482d51-550b-4bc7-a774-05349bd03b85",
   "metadata": {},
   "outputs": [],
   "source": [
    "# Run the following code if there is the problem of MTMount to follow the rotator\n",
    "\n",
    "# await salobj.set_summary_state(rotator, salobj.State.DISABLED, timeout=30)\n",
    "# task_create_fake_mtmount_data(mtmount_controller, rotator, 240)\n",
    "# await asyncio.sleep(2)\n",
    "# await salobj.set_summary_state(rotator, salobj.State.ENABLED, timeout=30)"
   ]
  },
  {
   "cell_type": "code",
   "execution_count": 526,
   "id": "efb04322-4e74-43ab-a12d-7a2f9538262c",
   "metadata": {},
   "outputs": [
    {
     "data": {
      "text/html": [
       "<pre style=\"margin: 0.1em;\n",
       "padding-left: 0.25em;\n",
       "border-left-style: solid;\n",
       "font-family: var(--jp-code-font-family);\n",
       "font-size: var(--jp-code-font-size);\n",
       "line-height: var(--jp-code-line-height);\n",
       "\"><span style=\"color: var(--jp-warn-color2)\">MTRotator.logevent_logMessage</span> <span style=\"color: var(--jp-warn-color0)\">WARNING</span>: logMessage DDS read queue is filling: 11 of 100 elements</pre>"
      ],
      "text/plain": [
       "<IPython.core.display.HTML object>"
      ]
     },
     "metadata": {},
     "output_type": "display_data"
    },
    {
     "data": {
      "text/html": [
       "<pre style=\"margin: 0.1em;\n",
       "padding-left: 0.25em;\n",
       "border-left-style: solid;\n",
       "font-family: var(--jp-code-font-family);\n",
       "font-size: var(--jp-code-font-size);\n",
       "line-height: var(--jp-code-line-height);\n",
       "\"><span style=\"color: var(--jp-warn-color2)\">MTRotator.logevent_logMessage</span> <span style=\"color: var(--jp-warn-color0)\">WARNING</span>: logMessage DDS read queue is filling: 14 of 100 elements</pre>"
      ],
      "text/plain": [
       "<IPython.core.display.HTML object>"
      ]
     },
     "metadata": {},
     "output_type": "display_data"
    },
    {
     "data": {
      "text/plain": [
       "[<State.FAULT: 3>, <State.STANDBY: 5>, <State.DISABLED: 1>, <State.ENABLED: 2>]"
      ]
     },
     "execution_count": 526,
     "metadata": {},
     "output_type": "execute_result"
    }
   ],
   "source": [
    "# \"tts_test.yaml\" is the configuration file at Tucson teststand to increase the tolerance in the\n",
    "# difference between the rotator and CCW \n",
    "await salobj.set_summary_state(\n",
    "    rotator, salobj.State.ENABLED,\n",
    "    timeout=30,\n",
    "    settingsToApply=\"tts_test.yaml\"\n",
    ")"
   ]
  },
  {
   "cell_type": "markdown",
   "id": "9e2bbc33-d271-411d-a356-59dc2b87ca26",
   "metadata": {},
   "source": [
    "**Check the rotator condition**\n",
    "\n",
    "After each test case, execute this cell to get the **time_now**, which is used in the query of EFD data."
   ]
  },
  {
   "cell_type": "code",
   "execution_count": 520,
   "id": "9da4d932-3c1b-4a29-a4a8-b8a5e33ae6bb",
   "metadata": {},
   "outputs": [
    {
     "name": "stdout",
     "output_type": "stream",
     "text": [
      "Time is 2022-03-09T17:31:11.000 right now.\n",
      "Rotator is at -4.600001218763845 degree.\n",
      "State.FAULT\n",
      "Fault! errorCode=1, errorReport='Low-level controller went to FAULT state'\n"
     ]
    }
   ],
   "source": [
    "time_now = print_and_get_time()\n",
    "\n",
    "await print_rotator_position(rotator)\n",
    "await print_summary_state(rotator)\n",
    "await print_rotator_latest_message(rotator)"
   ]
  },
  {
   "cell_type": "markdown",
   "id": "83272968-a4ed-498b-af5a-74ac85bb1a43",
   "metadata": {},
   "source": [
    "**Put the rotator back to origin**\n",
    "\n",
    "Before each test, put the rotator back to origin.\n",
    "This is easier for the data analysis."
   ]
  },
  {
   "cell_type": "code",
   "execution_count": 516,
   "id": "34ae86ed-9a2e-4cfd-b7bc-2c188a6ca637",
   "metadata": {},
   "outputs": [
    {
     "data": {
      "text/plain": [
       "<ddsutil.MTRotator_ackcmd_f04f56ad at 0x7ff96a6d17f0>"
      ]
     },
     "execution_count": 516,
     "metadata": {},
     "output_type": "execute_result"
    }
   ],
   "source": [
    "await rotator.cmd_move.set_start(position=0, timeout=60)"
   ]
  },
  {
   "cell_type": "markdown",
   "id": "ff9f0d62-42bd-407a-a40d-a4921b045567",
   "metadata": {},
   "source": [
    "**Test Case (small slewing test)**\n",
    "\n",
    "Test the positive and negative directions."
   ]
  },
  {
   "cell_type": "code",
   "execution_count": 212,
   "id": "94abea8c-858d-4b60-b19a-42315434f9c1",
   "metadata": {},
   "outputs": [
    {
     "name": "stdout",
     "output_type": "stream",
     "text": [
      "Time is 2022-03-09T13:38:20.000 right now.\n"
     ]
    }
   ],
   "source": [
    "time_start = print_and_get_time()\n",
    "await slew_test(rotator, 0.7, 2, 0.1)"
   ]
  },
  {
   "cell_type": "code",
   "execution_count": 225,
   "id": "3ce0d6a8-2974-4996-ac3a-f8ed099344c0",
   "metadata": {},
   "outputs": [
    {
     "data": {
      "image/png": "[encoded data removed]",
      "text/plain": [
       "<Figure size 432x288 with 3 Axes>"
      ]
     },
     "metadata": {
      "needs_background": "light"
     },
     "output_type": "display_data"
    }
   ],
   "source": [
    "await plot_path_generator(efd_client, time_start, time_now)"
   ]
  },
  {
   "cell_type": "code",
   "execution_count": 226,
   "id": "5e5bf483-0864-47d5-9643-ea3afedb2a90",
   "metadata": {},
   "outputs": [],
   "source": [
    "data_controller_state, data_in_position, data_tracking = await get_event_data(\n",
    "    efd_client, time_start, time_now)"
   ]
  },
  {
   "cell_type": "code",
   "execution_count": 231,
   "id": "848250ec-ac79-4d96-a1d9-10adf5325a8d",
   "metadata": {},
   "outputs": [
    {
     "data": {
      "text/html": [
       "<div>\n",
       "<style scoped>\n",
       "    .dataframe tbody tr th:only-of-type {\n",
       "        vertical-align: middle;\n",
       "    }\n",
       "\n",
       "    .dataframe tbody tr th {\n",
       "        vertical-align: top;\n",
       "    }\n",
       "\n",
       "    .dataframe thead th {\n",
       "        text-align: right;\n",
       "    }\n",
       "</style>\n",
       "<table border=\"1\" class=\"dataframe\">\n",
       "  <thead>\n",
       "    <tr style=\"text-align: right;\">\n",
       "      <th></th>\n",
       "      <th>controllerState</th>\n",
       "      <th>enabledSubstate</th>\n",
       "      <th>time_difference</th>\n",
       "    </tr>\n",
       "  </thead>\n",
       "  <tbody>\n",
       "    <tr>\n",
       "      <th>2022-03-09 13:38:20.648000+00:00</th>\n",
       "      <td>2</td>\n",
       "      <td>1</td>\n",
       "      <td>0.648</td>\n",
       "    </tr>\n",
       "    <tr>\n",
       "      <th>2022-03-09 13:38:22.173000+00:00</th>\n",
       "      <td>2</td>\n",
       "      <td>0</td>\n",
       "      <td>2.173</td>\n",
       "    </tr>\n",
       "    <tr>\n",
       "      <th>2022-03-09 13:38:22.677000+00:00</th>\n",
       "      <td>2</td>\n",
       "      <td>1</td>\n",
       "      <td>2.677</td>\n",
       "    </tr>\n",
       "    <tr>\n",
       "      <th>2022-03-09 13:38:24.193000+00:00</th>\n",
       "      <td>2</td>\n",
       "      <td>0</td>\n",
       "      <td>4.193</td>\n",
       "    </tr>\n",
       "    <tr>\n",
       "      <th>2022-03-09 13:38:24.698000+00:00</th>\n",
       "      <td>2</td>\n",
       "      <td>1</td>\n",
       "      <td>4.698</td>\n",
       "    </tr>\n",
       "    <tr>\n",
       "      <th>2022-03-09 13:38:26.216000+00:00</th>\n",
       "      <td>2</td>\n",
       "      <td>0</td>\n",
       "      <td>6.216</td>\n",
       "    </tr>\n",
       "    <tr>\n",
       "      <th>2022-03-09 13:38:26.723000+00:00</th>\n",
       "      <td>2</td>\n",
       "      <td>1</td>\n",
       "      <td>6.723</td>\n",
       "    </tr>\n",
       "    <tr>\n",
       "      <th>2022-03-09 13:38:26.825000+00:00</th>\n",
       "      <td>2</td>\n",
       "      <td>0</td>\n",
       "      <td>6.825</td>\n",
       "    </tr>\n",
       "  </tbody>\n",
       "</table>\n",
       "</div>"
      ],
      "text/plain": [
       "                                  controllerState  enabledSubstate  \\\n",
       "2022-03-09 13:38:20.648000+00:00                2                1   \n",
       "2022-03-09 13:38:22.173000+00:00                2                0   \n",
       "2022-03-09 13:38:22.677000+00:00                2                1   \n",
       "2022-03-09 13:38:24.193000+00:00                2                0   \n",
       "2022-03-09 13:38:24.698000+00:00                2                1   \n",
       "2022-03-09 13:38:26.216000+00:00                2                0   \n",
       "2022-03-09 13:38:26.723000+00:00                2                1   \n",
       "2022-03-09 13:38:26.825000+00:00                2                0   \n",
       "\n",
       "                                  time_difference  \n",
       "2022-03-09 13:38:20.648000+00:00            0.648  \n",
       "2022-03-09 13:38:22.173000+00:00            2.173  \n",
       "2022-03-09 13:38:22.677000+00:00            2.677  \n",
       "2022-03-09 13:38:24.193000+00:00            4.193  \n",
       "2022-03-09 13:38:24.698000+00:00            4.698  \n",
       "2022-03-09 13:38:26.216000+00:00            6.216  \n",
       "2022-03-09 13:38:26.723000+00:00            6.723  \n",
       "2022-03-09 13:38:26.825000+00:00            6.825  "
      ]
     },
     "execution_count": 231,
     "metadata": {},
     "output_type": "execute_result"
    }
   ],
   "source": [
    "data_controller_state"
   ]
  },
  {
   "cell_type": "code",
   "execution_count": 232,
   "id": "5fb5c22c-03dc-4f8d-aaad-c2257129feb0",
   "metadata": {},
   "outputs": [
    {
     "data": {
      "text/html": [
       "<div>\n",
       "<style scoped>\n",
       "    .dataframe tbody tr th:only-of-type {\n",
       "        vertical-align: middle;\n",
       "    }\n",
       "\n",
       "    .dataframe tbody tr th {\n",
       "        vertical-align: top;\n",
       "    }\n",
       "\n",
       "    .dataframe thead th {\n",
       "        text-align: right;\n",
       "    }\n",
       "</style>\n",
       "<table border=\"1\" class=\"dataframe\">\n",
       "  <thead>\n",
       "    <tr style=\"text-align: right;\">\n",
       "      <th></th>\n",
       "      <th>inPosition</th>\n",
       "      <th>time_difference</th>\n",
       "    </tr>\n",
       "  </thead>\n",
       "  <tbody>\n",
       "    <tr>\n",
       "      <th>2022-03-09 13:38:22.174000+00:00</th>\n",
       "      <td>True</td>\n",
       "      <td>2.174</td>\n",
       "    </tr>\n",
       "    <tr>\n",
       "      <th>2022-03-09 13:38:22.275000+00:00</th>\n",
       "      <td>False</td>\n",
       "      <td>2.275</td>\n",
       "    </tr>\n",
       "    <tr>\n",
       "      <th>2022-03-09 13:38:24.194000+00:00</th>\n",
       "      <td>True</td>\n",
       "      <td>4.194</td>\n",
       "    </tr>\n",
       "    <tr>\n",
       "      <th>2022-03-09 13:38:24.296000+00:00</th>\n",
       "      <td>False</td>\n",
       "      <td>4.296</td>\n",
       "    </tr>\n",
       "    <tr>\n",
       "      <th>2022-03-09 13:38:26.217000+00:00</th>\n",
       "      <td>True</td>\n",
       "      <td>6.217</td>\n",
       "    </tr>\n",
       "    <tr>\n",
       "      <th>2022-03-09 13:38:26.319000+00:00</th>\n",
       "      <td>False</td>\n",
       "      <td>6.319</td>\n",
       "    </tr>\n",
       "  </tbody>\n",
       "</table>\n",
       "</div>"
      ],
      "text/plain": [
       "                                  inPosition  time_difference\n",
       "2022-03-09 13:38:22.174000+00:00        True            2.174\n",
       "2022-03-09 13:38:22.275000+00:00       False            2.275\n",
       "2022-03-09 13:38:24.194000+00:00        True            4.194\n",
       "2022-03-09 13:38:24.296000+00:00       False            4.296\n",
       "2022-03-09 13:38:26.217000+00:00        True            6.217\n",
       "2022-03-09 13:38:26.319000+00:00       False            6.319"
      ]
     },
     "execution_count": 232,
     "metadata": {},
     "output_type": "execute_result"
    }
   ],
   "source": [
    "data_in_position"
   ]
  },
  {
   "cell_type": "code",
   "execution_count": 233,
   "id": "2a4e8ffd-c649-47bb-9ae6-2697f2b5087f",
   "metadata": {},
   "outputs": [
    {
     "data": {
      "text/html": [
       "<div>\n",
       "<style scoped>\n",
       "    .dataframe tbody tr th:only-of-type {\n",
       "        vertical-align: middle;\n",
       "    }\n",
       "\n",
       "    .dataframe tbody tr th {\n",
       "        vertical-align: top;\n",
       "    }\n",
       "\n",
       "    .dataframe thead th {\n",
       "        text-align: right;\n",
       "    }\n",
       "</style>\n",
       "<table border=\"1\" class=\"dataframe\">\n",
       "  <thead>\n",
       "    <tr style=\"text-align: right;\">\n",
       "      <th></th>\n",
       "    </tr>\n",
       "  </thead>\n",
       "  <tbody>\n",
       "  </tbody>\n",
       "</table>\n",
       "</div>"
      ],
      "text/plain": [
       "Empty DataFrame\n",
       "Columns: []\n",
       "Index: []"
      ]
     },
     "execution_count": 233,
     "metadata": {},
     "output_type": "execute_result"
    }
   ],
   "source": [
    "data_tracking"
   ]
  },
  {
   "cell_type": "markdown",
   "id": "fec71607-4c2b-4df3-9c9c-ecbb2f591f08",
   "metadata": {},
   "source": [
    "**Test Case (long slew test + constant speed test)**\n",
    "\n",
    "Test the positive and negative directions.\n",
    "The behavior of trajectory generator should be the same for these two tests.\n",
    "Note the CSC does not support the command of constant speed move."
   ]
  },
  {
   "cell_type": "code",
   "execution_count": 239,
   "id": "62955458-d3f7-4b1b-99a1-485da7e0a887",
   "metadata": {},
   "outputs": [
    {
     "name": "stdout",
     "output_type": "stream",
     "text": [
      "Time is 2022-03-09T13:53:01.000 right now.\n"
     ]
    }
   ],
   "source": [
    "time_start = print_and_get_time()\n",
    "await slew_test(rotator, 90, 35, 10)"
   ]
  },
  {
   "cell_type": "code",
   "execution_count": 241,
   "id": "e9a64495-bf30-44d3-9936-615bf6eb6eb4",
   "metadata": {},
   "outputs": [
    {
     "data": {
      "image/png": "[encoded data removed]",
      "text/plain": [
       "<Figure size 432x288 with 3 Axes>"
      ]
     },
     "metadata": {
      "needs_background": "light"
     },
     "output_type": "display_data"
    }
   ],
   "source": [
    "await plot_path_generator(efd_client, time_start, time_now)"
   ]
  },
  {
   "cell_type": "code",
   "execution_count": 242,
   "id": "239ec61f-1923-4d35-91d6-cf00904730fa",
   "metadata": {},
   "outputs": [],
   "source": [
    "data_controller_state, data_in_position, data_tracking = await get_event_data(\n",
    "    efd_client, time_start, time_now)"
   ]
  },
  {
   "cell_type": "code",
   "execution_count": 243,
   "id": "38668e45-7735-4298-b360-55a09932d28e",
   "metadata": {},
   "outputs": [
    {
     "data": {
      "text/html": [
       "<div>\n",
       "<style scoped>\n",
       "    .dataframe tbody tr th:only-of-type {\n",
       "        vertical-align: middle;\n",
       "    }\n",
       "\n",
       "    .dataframe tbody tr th {\n",
       "        vertical-align: top;\n",
       "    }\n",
       "\n",
       "    .dataframe thead th {\n",
       "        text-align: right;\n",
       "    }\n",
       "</style>\n",
       "<table border=\"1\" class=\"dataframe\">\n",
       "  <thead>\n",
       "    <tr style=\"text-align: right;\">\n",
       "      <th></th>\n",
       "      <th>controllerState</th>\n",
       "      <th>enabledSubstate</th>\n",
       "      <th>time_difference</th>\n",
       "    </tr>\n",
       "  </thead>\n",
       "  <tbody>\n",
       "    <tr>\n",
       "      <th>2022-03-09 13:53:01.605000+00:00</th>\n",
       "      <td>2</td>\n",
       "      <td>1</td>\n",
       "      <td>0.605</td>\n",
       "    </tr>\n",
       "    <tr>\n",
       "      <th>2022-03-09 13:53:34.402000+00:00</th>\n",
       "      <td>2</td>\n",
       "      <td>0</td>\n",
       "      <td>33.402</td>\n",
       "    </tr>\n",
       "    <tr>\n",
       "      <th>2022-03-09 13:53:36.637000+00:00</th>\n",
       "      <td>2</td>\n",
       "      <td>1</td>\n",
       "      <td>35.637</td>\n",
       "    </tr>\n",
       "    <tr>\n",
       "      <th>2022-03-09 13:54:09.416000+00:00</th>\n",
       "      <td>2</td>\n",
       "      <td>0</td>\n",
       "      <td>68.416</td>\n",
       "    </tr>\n",
       "    <tr>\n",
       "      <th>2022-03-09 13:54:11.644000+00:00</th>\n",
       "      <td>2</td>\n",
       "      <td>1</td>\n",
       "      <td>70.644</td>\n",
       "    </tr>\n",
       "    <tr>\n",
       "      <th>2022-03-09 13:54:44.417000+00:00</th>\n",
       "      <td>2</td>\n",
       "      <td>0</td>\n",
       "      <td>103.417</td>\n",
       "    </tr>\n",
       "    <tr>\n",
       "      <th>2022-03-09 13:54:46.638000+00:00</th>\n",
       "      <td>2</td>\n",
       "      <td>1</td>\n",
       "      <td>105.638</td>\n",
       "    </tr>\n",
       "    <tr>\n",
       "      <th>2022-03-09 13:54:56.649000+00:00</th>\n",
       "      <td>2</td>\n",
       "      <td>0</td>\n",
       "      <td>115.649</td>\n",
       "    </tr>\n",
       "  </tbody>\n",
       "</table>\n",
       "</div>"
      ],
      "text/plain": [
       "                                  controllerState  enabledSubstate  \\\n",
       "2022-03-09 13:53:01.605000+00:00                2                1   \n",
       "2022-03-09 13:53:34.402000+00:00                2                0   \n",
       "2022-03-09 13:53:36.637000+00:00                2                1   \n",
       "2022-03-09 13:54:09.416000+00:00                2                0   \n",
       "2022-03-09 13:54:11.644000+00:00                2                1   \n",
       "2022-03-09 13:54:44.417000+00:00                2                0   \n",
       "2022-03-09 13:54:46.638000+00:00                2                1   \n",
       "2022-03-09 13:54:56.649000+00:00                2                0   \n",
       "\n",
       "                                  time_difference  \n",
       "2022-03-09 13:53:01.605000+00:00            0.605  \n",
       "2022-03-09 13:53:34.402000+00:00           33.402  \n",
       "2022-03-09 13:53:36.637000+00:00           35.637  \n",
       "2022-03-09 13:54:09.416000+00:00           68.416  \n",
       "2022-03-09 13:54:11.644000+00:00           70.644  \n",
       "2022-03-09 13:54:44.417000+00:00          103.417  \n",
       "2022-03-09 13:54:46.638000+00:00          105.638  \n",
       "2022-03-09 13:54:56.649000+00:00          115.649  "
      ]
     },
     "execution_count": 243,
     "metadata": {},
     "output_type": "execute_result"
    }
   ],
   "source": [
    "data_controller_state"
   ]
  },
  {
   "cell_type": "code",
   "execution_count": 244,
   "id": "c96f55dc-faa1-4845-ad30-5db15aa4075a",
   "metadata": {},
   "outputs": [
    {
     "data": {
      "text/html": [
       "<div>\n",
       "<style scoped>\n",
       "    .dataframe tbody tr th:only-of-type {\n",
       "        vertical-align: middle;\n",
       "    }\n",
       "\n",
       "    .dataframe tbody tr th {\n",
       "        vertical-align: top;\n",
       "    }\n",
       "\n",
       "    .dataframe thead th {\n",
       "        text-align: right;\n",
       "    }\n",
       "</style>\n",
       "<table border=\"1\" class=\"dataframe\">\n",
       "  <thead>\n",
       "    <tr style=\"text-align: right;\">\n",
       "      <th></th>\n",
       "      <th>inPosition</th>\n",
       "      <th>time_difference</th>\n",
       "    </tr>\n",
       "  </thead>\n",
       "  <tbody>\n",
       "    <tr>\n",
       "      <th>2022-03-09 13:53:34.403000+00:00</th>\n",
       "      <td>True</td>\n",
       "      <td>33.403</td>\n",
       "    </tr>\n",
       "    <tr>\n",
       "      <th>2022-03-09 13:53:34.504000+00:00</th>\n",
       "      <td>False</td>\n",
       "      <td>33.504</td>\n",
       "    </tr>\n",
       "    <tr>\n",
       "      <th>2022-03-09 13:54:09.417000+00:00</th>\n",
       "      <td>True</td>\n",
       "      <td>68.417</td>\n",
       "    </tr>\n",
       "    <tr>\n",
       "      <th>2022-03-09 13:54:09.517000+00:00</th>\n",
       "      <td>False</td>\n",
       "      <td>68.517</td>\n",
       "    </tr>\n",
       "    <tr>\n",
       "      <th>2022-03-09 13:54:44.418000+00:00</th>\n",
       "      <td>True</td>\n",
       "      <td>103.418</td>\n",
       "    </tr>\n",
       "    <tr>\n",
       "      <th>2022-03-09 13:54:44.519000+00:00</th>\n",
       "      <td>False</td>\n",
       "      <td>103.519</td>\n",
       "    </tr>\n",
       "  </tbody>\n",
       "</table>\n",
       "</div>"
      ],
      "text/plain": [
       "                                  inPosition  time_difference\n",
       "2022-03-09 13:53:34.403000+00:00        True           33.403\n",
       "2022-03-09 13:53:34.504000+00:00       False           33.504\n",
       "2022-03-09 13:54:09.417000+00:00        True           68.417\n",
       "2022-03-09 13:54:09.517000+00:00       False           68.517\n",
       "2022-03-09 13:54:44.418000+00:00        True          103.418\n",
       "2022-03-09 13:54:44.519000+00:00       False          103.519"
      ]
     },
     "execution_count": 244,
     "metadata": {},
     "output_type": "execute_result"
    }
   ],
   "source": [
    "data_in_position"
   ]
  },
  {
   "cell_type": "code",
   "execution_count": 245,
   "id": "095f49d5-fb2f-4d62-9e15-99550ca7fe60",
   "metadata": {},
   "outputs": [
    {
     "data": {
      "text/html": [
       "<div>\n",
       "<style scoped>\n",
       "    .dataframe tbody tr th:only-of-type {\n",
       "        vertical-align: middle;\n",
       "    }\n",
       "\n",
       "    .dataframe tbody tr th {\n",
       "        vertical-align: top;\n",
       "    }\n",
       "\n",
       "    .dataframe thead th {\n",
       "        text-align: right;\n",
       "    }\n",
       "</style>\n",
       "<table border=\"1\" class=\"dataframe\">\n",
       "  <thead>\n",
       "    <tr style=\"text-align: right;\">\n",
       "      <th></th>\n",
       "    </tr>\n",
       "  </thead>\n",
       "  <tbody>\n",
       "  </tbody>\n",
       "</table>\n",
       "</div>"
      ],
      "text/plain": [
       "Empty DataFrame\n",
       "Columns: []\n",
       "Index: []"
      ]
     },
     "execution_count": 245,
     "metadata": {},
     "output_type": "execute_result"
    },
    {
     "name": "stdout",
     "output_type": "stream",
     "text": [
      "Finish the faking of MTMount telemetry.\n"
     ]
    }
   ],
   "source": [
    "data_tracking"
   ]
  },
  {
   "cell_type": "markdown",
   "id": "9756a90e-95a8-4068-add7-4d17259db004",
   "metadata": {},
   "source": [
    "**Test Case (rotation range test)**\n",
    "\n",
    "Note the CSC does not support the command of constant speed move."
   ]
  },
  {
   "cell_type": "code",
   "execution_count": 293,
   "id": "05b70bc4-e8f2-4bb5-9db0-6e0a41e42d90",
   "metadata": {},
   "outputs": [
    {
     "name": "stdout",
     "output_type": "stream",
     "text": [
      "Time is 2022-03-08T17:26:00.000 right now\n",
      "msg='Command failed', ackcmd=(ackcmd private_seqNum=1021312672, ack=<SalRetCode.CMD_FAILED: -302>, error=1, result='Failed: position 91.0 not in range [-90.0, 90.0]')\n",
      "msg='Command failed', ackcmd=(ackcmd private_seqNum=1021312673, ack=<SalRetCode.CMD_FAILED: -302>, error=1, result='Failed: position -91.0 not in range [-90.0, 90.0]')\n"
     ]
    }
   ],
   "source": [
    "# Test the move position is out of range\n",
    "time_start = print_and_get_time()\n",
    "\n",
    "try:\n",
    "    await rotator.cmd_move.set_start(position=91, timeout=60)\n",
    "except salobj.AckError as error:\n",
    "    print(error)\n",
    "\n",
    "try:\n",
    "    await rotator.cmd_move.set_start(position=-91, timeout=60)\n",
    "except salobj.AckError as error:\n",
    "    print(error)"
   ]
  },
  {
   "cell_type": "code",
   "execution_count": null,
   "id": "02bfef3b-fcd5-4fa3-90cf-49e30dcf321a",
   "metadata": {},
   "outputs": [],
   "source": [
    "await plot_path_generator(efd_client, time_start, time_now)"
   ]
  },
  {
   "cell_type": "code",
   "execution_count": null,
   "id": "cf6e4d5b-e4c8-4711-a3a5-48d831b2fc90",
   "metadata": {},
   "outputs": [],
   "source": [
    "data_controller_state, data_in_position, data_tracking = await get_event_data(\n",
    "    efd_client, time_start, time_now)"
   ]
  },
  {
   "cell_type": "code",
   "execution_count": null,
   "id": "7a1733e3-bb84-402c-9591-30e3d64e9abe",
   "metadata": {},
   "outputs": [],
   "source": [
    "data_controller_state"
   ]
  },
  {
   "cell_type": "code",
   "execution_count": null,
   "id": "67a1ea67-643d-4eef-9f79-4bec59c02188",
   "metadata": {},
   "outputs": [],
   "source": [
    "data_in_position"
   ]
  },
  {
   "cell_type": "code",
   "execution_count": null,
   "id": "4422d522-110a-449c-b4d3-ddeb3e1f9db6",
   "metadata": {},
   "outputs": [],
   "source": [
    "data_tracking"
   ]
  },
  {
   "cell_type": "markdown",
   "id": "b0bcab5c-8707-4b74-8530-17e1297b222b",
   "metadata": {},
   "source": [
    "**Test Case (position accuracy)**\n",
    "\n",
    "The **slewingAndTracking** operation will be tested.\n",
    "Note the rotator will transition to Fault state in the final if there is no new track command.\n",
    "This behaviour can be used to verify the test case of \"no tracking commands\".\n",
    "In addition, the trajectory generator will do the extrapolation in a small time period before the transition to **Fault** state."
   ]
  },
  {
   "cell_type": "markdown",
   "id": "c5d96ac6-63dd-4ee5-bc13-eb924623748b",
   "metadata": {},
   "source": [
    "Target is moving in the positive direction."
   ]
  },
  {
   "cell_type": "code",
   "execution_count": 252,
   "id": "d2b11c05-4e76-4bcb-be95-a031769bb067",
   "metadata": {},
   "outputs": [
    {
     "name": "stdout",
     "output_type": "stream",
     "text": [
      "Time is 2022-03-09T14:04:27.000 right now.\n"
     ]
    }
   ],
   "source": [
    "time_start = print_and_get_time()\n",
    "await track_target(rotator, 30, 30.5, 0.03)"
   ]
  },
  {
   "cell_type": "code",
   "execution_count": 255,
   "id": "aad8abfe-8b65-42cb-8616-73086d59eddd",
   "metadata": {},
   "outputs": [
    {
     "data": {
      "image/png": "[encoded data removed]",
      "text/plain": [
       "<Figure size 432x288 with 3 Axes>"
      ]
     },
     "metadata": {
      "needs_background": "light"
     },
     "output_type": "display_data"
    }
   ],
   "source": [
    "await plot_path_generator(efd_client, time_start, time_now)"
   ]
  },
  {
   "cell_type": "code",
   "execution_count": 256,
   "id": "e0235286-20df-41fb-9eff-dd62a8145ee8",
   "metadata": {},
   "outputs": [],
   "source": [
    "data_controller_state, data_in_position, data_tracking = await get_event_data(\n",
    "    efd_client, time_start, time_now)"
   ]
  },
  {
   "cell_type": "code",
   "execution_count": 257,
   "id": "7487398f-d544-4edd-af2b-89671dcce1d2",
   "metadata": {},
   "outputs": [
    {
     "data": {
      "text/html": [
       "<div>\n",
       "<style scoped>\n",
       "    .dataframe tbody tr th:only-of-type {\n",
       "        vertical-align: middle;\n",
       "    }\n",
       "\n",
       "    .dataframe tbody tr th {\n",
       "        vertical-align: top;\n",
       "    }\n",
       "\n",
       "    .dataframe thead th {\n",
       "        text-align: right;\n",
       "    }\n",
       "</style>\n",
       "<table border=\"1\" class=\"dataframe\">\n",
       "  <thead>\n",
       "    <tr style=\"text-align: right;\">\n",
       "      <th></th>\n",
       "      <th>controllerState</th>\n",
       "      <th>enabledSubstate</th>\n",
       "      <th>time_difference</th>\n",
       "    </tr>\n",
       "  </thead>\n",
       "  <tbody>\n",
       "    <tr>\n",
       "      <th>2022-03-09 14:04:27.612000+00:00</th>\n",
       "      <td>2</td>\n",
       "      <td>2</td>\n",
       "      <td>0.612</td>\n",
       "    </tr>\n",
       "    <tr>\n",
       "      <th>2022-03-09 14:04:45.696000+00:00</th>\n",
       "      <td>4</td>\n",
       "      <td>0</td>\n",
       "      <td>18.696</td>\n",
       "    </tr>\n",
       "  </tbody>\n",
       "</table>\n",
       "</div>"
      ],
      "text/plain": [
       "                                  controllerState  enabledSubstate  \\\n",
       "2022-03-09 14:04:27.612000+00:00                2                2   \n",
       "2022-03-09 14:04:45.696000+00:00                4                0   \n",
       "\n",
       "                                  time_difference  \n",
       "2022-03-09 14:04:27.612000+00:00            0.612  \n",
       "2022-03-09 14:04:45.696000+00:00           18.696  "
      ]
     },
     "execution_count": 257,
     "metadata": {},
     "output_type": "execute_result"
    }
   ],
   "source": [
    "data_controller_state"
   ]
  },
  {
   "cell_type": "code",
   "execution_count": 258,
   "id": "ba2f9544-0be2-4452-b3ae-a833a86d6788",
   "metadata": {},
   "outputs": [
    {
     "data": {
      "text/html": [
       "<div>\n",
       "<style scoped>\n",
       "    .dataframe tbody tr th:only-of-type {\n",
       "        vertical-align: middle;\n",
       "    }\n",
       "\n",
       "    .dataframe tbody tr th {\n",
       "        vertical-align: top;\n",
       "    }\n",
       "\n",
       "    .dataframe thead th {\n",
       "        text-align: right;\n",
       "    }\n",
       "</style>\n",
       "<table border=\"1\" class=\"dataframe\">\n",
       "  <thead>\n",
       "    <tr style=\"text-align: right;\">\n",
       "      <th></th>\n",
       "      <th>inPosition</th>\n",
       "      <th>time_difference</th>\n",
       "    </tr>\n",
       "  </thead>\n",
       "  <tbody>\n",
       "    <tr>\n",
       "      <th>2022-03-09 14:04:41.457000+00:00</th>\n",
       "      <td>True</td>\n",
       "      <td>14.457</td>\n",
       "    </tr>\n",
       "    <tr>\n",
       "      <th>2022-03-09 14:04:45.697000+00:00</th>\n",
       "      <td>False</td>\n",
       "      <td>18.697</td>\n",
       "    </tr>\n",
       "  </tbody>\n",
       "</table>\n",
       "</div>"
      ],
      "text/plain": [
       "                                  inPosition  time_difference\n",
       "2022-03-09 14:04:41.457000+00:00        True           14.457\n",
       "2022-03-09 14:04:45.697000+00:00       False           18.697"
      ]
     },
     "execution_count": 258,
     "metadata": {},
     "output_type": "execute_result"
    }
   ],
   "source": [
    "data_in_position"
   ]
  },
  {
   "cell_type": "code",
   "execution_count": 259,
   "id": "0f325e18-771c-46c2-aab5-6ebc69c955fd",
   "metadata": {},
   "outputs": [
    {
     "data": {
      "text/html": [
       "<div>\n",
       "<style scoped>\n",
       "    .dataframe tbody tr th:only-of-type {\n",
       "        vertical-align: middle;\n",
       "    }\n",
       "\n",
       "    .dataframe tbody tr th {\n",
       "        vertical-align: top;\n",
       "    }\n",
       "\n",
       "    .dataframe thead th {\n",
       "        text-align: right;\n",
       "    }\n",
       "</style>\n",
       "<table border=\"1\" class=\"dataframe\">\n",
       "  <thead>\n",
       "    <tr style=\"text-align: right;\">\n",
       "      <th></th>\n",
       "      <th>tracking</th>\n",
       "      <th>lost</th>\n",
       "      <th>noNewCommand</th>\n",
       "      <th>time_difference</th>\n",
       "    </tr>\n",
       "  </thead>\n",
       "  <tbody>\n",
       "    <tr>\n",
       "      <th>2022-03-09 14:04:41.458000+00:00</th>\n",
       "      <td>True</td>\n",
       "      <td>False</td>\n",
       "      <td>False</td>\n",
       "      <td>14.458</td>\n",
       "    </tr>\n",
       "    <tr>\n",
       "      <th>2022-03-09 14:04:45.697000+00:00</th>\n",
       "      <td>False</td>\n",
       "      <td>False</td>\n",
       "      <td>True</td>\n",
       "      <td>18.697</td>\n",
       "    </tr>\n",
       "  </tbody>\n",
       "</table>\n",
       "</div>"
      ],
      "text/plain": [
       "                                  tracking   lost  noNewCommand  \\\n",
       "2022-03-09 14:04:41.458000+00:00      True  False         False   \n",
       "2022-03-09 14:04:45.697000+00:00     False  False          True   \n",
       "\n",
       "                                  time_difference  \n",
       "2022-03-09 14:04:41.458000+00:00           14.458  \n",
       "2022-03-09 14:04:45.697000+00:00           18.697  "
      ]
     },
     "execution_count": 259,
     "metadata": {},
     "output_type": "execute_result"
    },
    {
     "name": "stdout",
     "output_type": "stream",
     "text": [
      "Finish the faking of MTMount telemetry.\n"
     ]
    }
   ],
   "source": [
    "data_tracking"
   ]
  },
  {
   "cell_type": "markdown",
   "id": "359c86b6-d90e-4dab-9b55-9473dddf396c",
   "metadata": {},
   "source": [
    "Target is moving in the negative direction."
   ]
  },
  {
   "cell_type": "code",
   "execution_count": 264,
   "id": "25a726d7-c0f1-45b0-8a5c-e59c9171944c",
   "metadata": {},
   "outputs": [
    {
     "name": "stdout",
     "output_type": "stream",
     "text": [
      "Time is 2022-03-09T14:16:30.000 right now.\n"
     ]
    }
   ],
   "source": [
    "time_start = print_and_get_time()\n",
    "await track_target(rotator, -30, -31.1, -0.068)"
   ]
  },
  {
   "cell_type": "code",
   "execution_count": 266,
   "id": "5bb499b1-6ad8-4113-ae63-008325bf775e",
   "metadata": {},
   "outputs": [
    {
     "data": {
      "image/png": "[encoded data removed]",
      "text/plain": [
       "<Figure size 432x288 with 3 Axes>"
      ]
     },
     "metadata": {
      "needs_background": "light"
     },
     "output_type": "display_data"
    }
   ],
   "source": [
    "await plot_path_generator(efd_client, time_start, time_now)"
   ]
  },
  {
   "cell_type": "code",
   "execution_count": 267,
   "id": "7ba6361d-8c35-4577-b133-85065e35cc0c",
   "metadata": {},
   "outputs": [],
   "source": [
    "data_controller_state, data_in_position, data_tracking = await get_event_data(\n",
    "    efd_client, time_start, time_now)"
   ]
  },
  {
   "cell_type": "code",
   "execution_count": 268,
   "id": "4f679cb4-77aa-4eca-ac93-b6363d5d939f",
   "metadata": {},
   "outputs": [
    {
     "data": {
      "text/html": [
       "<div>\n",
       "<style scoped>\n",
       "    .dataframe tbody tr th:only-of-type {\n",
       "        vertical-align: middle;\n",
       "    }\n",
       "\n",
       "    .dataframe tbody tr th {\n",
       "        vertical-align: top;\n",
       "    }\n",
       "\n",
       "    .dataframe thead th {\n",
       "        text-align: right;\n",
       "    }\n",
       "</style>\n",
       "<table border=\"1\" class=\"dataframe\">\n",
       "  <thead>\n",
       "    <tr style=\"text-align: right;\">\n",
       "      <th></th>\n",
       "      <th>controllerState</th>\n",
       "      <th>enabledSubstate</th>\n",
       "      <th>time_difference</th>\n",
       "    </tr>\n",
       "  </thead>\n",
       "  <tbody>\n",
       "    <tr>\n",
       "      <th>2022-03-09 14:16:30.997000+00:00</th>\n",
       "      <td>2</td>\n",
       "      <td>2</td>\n",
       "      <td>0.997</td>\n",
       "    </tr>\n",
       "    <tr>\n",
       "      <th>2022-03-09 14:16:48.572000+00:00</th>\n",
       "      <td>4</td>\n",
       "      <td>0</td>\n",
       "      <td>18.572</td>\n",
       "    </tr>\n",
       "  </tbody>\n",
       "</table>\n",
       "</div>"
      ],
      "text/plain": [
       "                                  controllerState  enabledSubstate  \\\n",
       "2022-03-09 14:16:30.997000+00:00                2                2   \n",
       "2022-03-09 14:16:48.572000+00:00                4                0   \n",
       "\n",
       "                                  time_difference  \n",
       "2022-03-09 14:16:30.997000+00:00            0.997  \n",
       "2022-03-09 14:16:48.572000+00:00           18.572  "
      ]
     },
     "execution_count": 268,
     "metadata": {},
     "output_type": "execute_result"
    }
   ],
   "source": [
    "data_controller_state"
   ]
  },
  {
   "cell_type": "code",
   "execution_count": 269,
   "id": "54ffbdaa-4d7a-4852-b81a-a7f61ca5080f",
   "metadata": {},
   "outputs": [
    {
     "data": {
      "text/html": [
       "<div>\n",
       "<style scoped>\n",
       "    .dataframe tbody tr th:only-of-type {\n",
       "        vertical-align: middle;\n",
       "    }\n",
       "\n",
       "    .dataframe tbody tr th {\n",
       "        vertical-align: top;\n",
       "    }\n",
       "\n",
       "    .dataframe thead th {\n",
       "        text-align: right;\n",
       "    }\n",
       "</style>\n",
       "<table border=\"1\" class=\"dataframe\">\n",
       "  <thead>\n",
       "    <tr style=\"text-align: right;\">\n",
       "      <th></th>\n",
       "      <th>inPosition</th>\n",
       "      <th>time_difference</th>\n",
       "    </tr>\n",
       "  </thead>\n",
       "  <tbody>\n",
       "    <tr>\n",
       "      <th>2022-03-09 14:16:44.127000+00:00</th>\n",
       "      <td>True</td>\n",
       "      <td>14.127</td>\n",
       "    </tr>\n",
       "    <tr>\n",
       "      <th>2022-03-09 14:16:44.227000+00:00</th>\n",
       "      <td>False</td>\n",
       "      <td>14.227</td>\n",
       "    </tr>\n",
       "    <tr>\n",
       "      <th>2022-03-09 14:16:45.036000+00:00</th>\n",
       "      <td>True</td>\n",
       "      <td>15.036</td>\n",
       "    </tr>\n",
       "    <tr>\n",
       "      <th>2022-03-09 14:16:48.573000+00:00</th>\n",
       "      <td>False</td>\n",
       "      <td>18.573</td>\n",
       "    </tr>\n",
       "  </tbody>\n",
       "</table>\n",
       "</div>"
      ],
      "text/plain": [
       "                                  inPosition  time_difference\n",
       "2022-03-09 14:16:44.127000+00:00        True           14.127\n",
       "2022-03-09 14:16:44.227000+00:00       False           14.227\n",
       "2022-03-09 14:16:45.036000+00:00        True           15.036\n",
       "2022-03-09 14:16:48.573000+00:00       False           18.573"
      ]
     },
     "execution_count": 269,
     "metadata": {},
     "output_type": "execute_result"
    }
   ],
   "source": [
    "data_in_position"
   ]
  },
  {
   "cell_type": "code",
   "execution_count": 270,
   "id": "ba7e832e-dbd6-4716-bff0-8e0e611c4051",
   "metadata": {},
   "outputs": [
    {
     "data": {
      "text/html": [
       "<div>\n",
       "<style scoped>\n",
       "    .dataframe tbody tr th:only-of-type {\n",
       "        vertical-align: middle;\n",
       "    }\n",
       "\n",
       "    .dataframe tbody tr th {\n",
       "        vertical-align: top;\n",
       "    }\n",
       "\n",
       "    .dataframe thead th {\n",
       "        text-align: right;\n",
       "    }\n",
       "</style>\n",
       "<table border=\"1\" class=\"dataframe\">\n",
       "  <thead>\n",
       "    <tr style=\"text-align: right;\">\n",
       "      <th></th>\n",
       "      <th>tracking</th>\n",
       "      <th>lost</th>\n",
       "      <th>noNewCommand</th>\n",
       "      <th>time_difference</th>\n",
       "    </tr>\n",
       "  </thead>\n",
       "  <tbody>\n",
       "    <tr>\n",
       "      <th>2022-03-09 14:16:44.127000+00:00</th>\n",
       "      <td>True</td>\n",
       "      <td>False</td>\n",
       "      <td>False</td>\n",
       "      <td>14.127</td>\n",
       "    </tr>\n",
       "    <tr>\n",
       "      <th>2022-03-09 14:16:44.227000+00:00</th>\n",
       "      <td>False</td>\n",
       "      <td>False</td>\n",
       "      <td>False</td>\n",
       "      <td>14.227</td>\n",
       "    </tr>\n",
       "    <tr>\n",
       "      <th>2022-03-09 14:16:45.036000+00:00</th>\n",
       "      <td>True</td>\n",
       "      <td>False</td>\n",
       "      <td>False</td>\n",
       "      <td>15.036</td>\n",
       "    </tr>\n",
       "    <tr>\n",
       "      <th>2022-03-09 14:16:48.573000+00:00</th>\n",
       "      <td>False</td>\n",
       "      <td>False</td>\n",
       "      <td>True</td>\n",
       "      <td>18.573</td>\n",
       "    </tr>\n",
       "  </tbody>\n",
       "</table>\n",
       "</div>"
      ],
      "text/plain": [
       "                                  tracking   lost  noNewCommand  \\\n",
       "2022-03-09 14:16:44.127000+00:00      True  False         False   \n",
       "2022-03-09 14:16:44.227000+00:00     False  False         False   \n",
       "2022-03-09 14:16:45.036000+00:00      True  False         False   \n",
       "2022-03-09 14:16:48.573000+00:00     False  False          True   \n",
       "\n",
       "                                  time_difference  \n",
       "2022-03-09 14:16:44.127000+00:00           14.127  \n",
       "2022-03-09 14:16:44.227000+00:00           14.227  \n",
       "2022-03-09 14:16:45.036000+00:00           15.036  \n",
       "2022-03-09 14:16:48.573000+00:00           18.573  "
      ]
     },
     "execution_count": 270,
     "metadata": {},
     "output_type": "execute_result"
    },
    {
     "name": "stdout",
     "output_type": "stream",
     "text": [
      "Finish the faking of MTMount telemetry.\n"
     ]
    }
   ],
   "source": [
    "data_tracking"
   ]
  },
  {
   "cell_type": "markdown",
   "id": "ac63e78d-b2d0-41f1-a550-628715a91a41",
   "metadata": {},
   "source": [
    "**Test Case (tracking / slewing sequence test)**\n",
    "\n",
    "Track two targets and stop in between."
   ]
  },
  {
   "cell_type": "code",
   "execution_count": 518,
   "id": "a674e841-f71d-48a1-bce5-e0e2b8f10059",
   "metadata": {},
   "outputs": [
    {
     "name": "stdout",
     "output_type": "stream",
     "text": [
      "Time is 2022-03-09T17:28:38.000 right now.\n"
     ]
    }
   ],
   "source": [
    "time_start = print_and_get_time()\n",
    "await track_slew_test(rotator)"
   ]
  },
  {
   "cell_type": "code",
   "execution_count": 521,
   "id": "bac37507-a0b1-4d1a-a958-5004c9d63882",
   "metadata": {},
   "outputs": [
    {
     "data": {
      "image/png": "[encoded data removed]",
      "text/plain": [
       "<Figure size 432x288 with 3 Axes>"
      ]
     },
     "metadata": {
      "needs_background": "light"
     },
     "output_type": "display_data"
    }
   ],
   "source": [
    "await plot_path_generator(efd_client, time_start, time_now)"
   ]
  },
  {
   "cell_type": "code",
   "execution_count": 522,
   "id": "e6c29d7f-7a9a-46b6-a5d8-a9ae395c9695",
   "metadata": {},
   "outputs": [],
   "source": [
    "data_controller_state, data_in_position, data_tracking = await get_event_data(\n",
    "    efd_client, time_start, time_now)"
   ]
  },
  {
   "cell_type": "code",
   "execution_count": 523,
   "id": "370054ec-3fe4-49b1-b432-4f218bf20f5a",
   "metadata": {},
   "outputs": [
    {
     "data": {
      "text/html": [
       "<div>\n",
       "<style scoped>\n",
       "    .dataframe tbody tr th:only-of-type {\n",
       "        vertical-align: middle;\n",
       "    }\n",
       "\n",
       "    .dataframe tbody tr th {\n",
       "        vertical-align: top;\n",
       "    }\n",
       "\n",
       "    .dataframe thead th {\n",
       "        text-align: right;\n",
       "    }\n",
       "</style>\n",
       "<table border=\"1\" class=\"dataframe\">\n",
       "  <thead>\n",
       "    <tr style=\"text-align: right;\">\n",
       "      <th></th>\n",
       "      <th>controllerState</th>\n",
       "      <th>enabledSubstate</th>\n",
       "      <th>time_difference</th>\n",
       "    </tr>\n",
       "  </thead>\n",
       "  <tbody>\n",
       "    <tr>\n",
       "      <th>2022-03-09 17:28:38.695000+00:00</th>\n",
       "      <td>2</td>\n",
       "      <td>2</td>\n",
       "      <td>0.695</td>\n",
       "    </tr>\n",
       "    <tr>\n",
       "      <th>2022-03-09 17:28:41.823000+00:00</th>\n",
       "      <td>2</td>\n",
       "      <td>0</td>\n",
       "      <td>3.823</td>\n",
       "    </tr>\n",
       "    <tr>\n",
       "      <th>2022-03-09 17:28:42.833000+00:00</th>\n",
       "      <td>2</td>\n",
       "      <td>2</td>\n",
       "      <td>4.833</td>\n",
       "    </tr>\n",
       "    <tr>\n",
       "      <th>2022-03-09 17:31:09.290000+00:00</th>\n",
       "      <td>4</td>\n",
       "      <td>0</td>\n",
       "      <td>151.290</td>\n",
       "    </tr>\n",
       "  </tbody>\n",
       "</table>\n",
       "</div>"
      ],
      "text/plain": [
       "                                  controllerState  enabledSubstate  \\\n",
       "2022-03-09 17:28:38.695000+00:00                2                2   \n",
       "2022-03-09 17:28:41.823000+00:00                2                0   \n",
       "2022-03-09 17:28:42.833000+00:00                2                2   \n",
       "2022-03-09 17:31:09.290000+00:00                4                0   \n",
       "\n",
       "                                  time_difference  \n",
       "2022-03-09 17:28:38.695000+00:00            0.695  \n",
       "2022-03-09 17:28:41.823000+00:00            3.823  \n",
       "2022-03-09 17:28:42.833000+00:00            4.833  \n",
       "2022-03-09 17:31:09.290000+00:00          151.290  "
      ]
     },
     "execution_count": 523,
     "metadata": {},
     "output_type": "execute_result"
    }
   ],
   "source": [
    "data_controller_state"
   ]
  },
  {
   "cell_type": "code",
   "execution_count": 524,
   "id": "01014f0d-2a5f-4d99-a0da-c44c0afc773c",
   "metadata": {},
   "outputs": [
    {
     "data": {
      "text/html": [
       "<div>\n",
       "<style scoped>\n",
       "    .dataframe tbody tr th:only-of-type {\n",
       "        vertical-align: middle;\n",
       "    }\n",
       "\n",
       "    .dataframe tbody tr th {\n",
       "        vertical-align: top;\n",
       "    }\n",
       "\n",
       "    .dataframe thead th {\n",
       "        text-align: right;\n",
       "    }\n",
       "</style>\n",
       "<table border=\"1\" class=\"dataframe\">\n",
       "  <thead>\n",
       "    <tr style=\"text-align: right;\">\n",
       "      <th></th>\n",
       "      <th>inPosition</th>\n",
       "      <th>time_difference</th>\n",
       "    </tr>\n",
       "  </thead>\n",
       "  <tbody>\n",
       "    <tr>\n",
       "      <th>2022-03-09 17:28:40.411000+00:00</th>\n",
       "      <td>True</td>\n",
       "      <td>2.411</td>\n",
       "    </tr>\n",
       "    <tr>\n",
       "      <th>2022-03-09 17:28:41.824000+00:00</th>\n",
       "      <td>False</td>\n",
       "      <td>3.824</td>\n",
       "    </tr>\n",
       "    <tr>\n",
       "      <th>2022-03-09 17:28:43.340000+00:00</th>\n",
       "      <td>True</td>\n",
       "      <td>5.340</td>\n",
       "    </tr>\n",
       "    <tr>\n",
       "      <th>2022-03-09 17:28:51.111000+00:00</th>\n",
       "      <td>False</td>\n",
       "      <td>13.111</td>\n",
       "    </tr>\n",
       "    <tr>\n",
       "      <th>2022-03-09 17:28:52.827000+00:00</th>\n",
       "      <td>True</td>\n",
       "      <td>14.827</td>\n",
       "    </tr>\n",
       "    <tr>\n",
       "      <th>2022-03-09 17:29:01.909000+00:00</th>\n",
       "      <td>False</td>\n",
       "      <td>23.909</td>\n",
       "    </tr>\n",
       "    <tr>\n",
       "      <th>2022-03-09 17:29:06.753000+00:00</th>\n",
       "      <td>True</td>\n",
       "      <td>28.753</td>\n",
       "    </tr>\n",
       "    <tr>\n",
       "      <th>2022-03-09 17:29:32.581000+00:00</th>\n",
       "      <td>False</td>\n",
       "      <td>54.581</td>\n",
       "    </tr>\n",
       "    <tr>\n",
       "      <th>2022-03-09 17:29:39.246000+00:00</th>\n",
       "      <td>True</td>\n",
       "      <td>61.246</td>\n",
       "    </tr>\n",
       "    <tr>\n",
       "      <th>2022-03-09 17:31:09.291000+00:00</th>\n",
       "      <td>False</td>\n",
       "      <td>151.291</td>\n",
       "    </tr>\n",
       "  </tbody>\n",
       "</table>\n",
       "</div>"
      ],
      "text/plain": [
       "                                  inPosition  time_difference\n",
       "2022-03-09 17:28:40.411000+00:00        True            2.411\n",
       "2022-03-09 17:28:41.824000+00:00       False            3.824\n",
       "2022-03-09 17:28:43.340000+00:00        True            5.340\n",
       "2022-03-09 17:28:51.111000+00:00       False           13.111\n",
       "2022-03-09 17:28:52.827000+00:00        True           14.827\n",
       "2022-03-09 17:29:01.909000+00:00       False           23.909\n",
       "2022-03-09 17:29:06.753000+00:00        True           28.753\n",
       "2022-03-09 17:29:32.581000+00:00       False           54.581\n",
       "2022-03-09 17:29:39.246000+00:00        True           61.246\n",
       "2022-03-09 17:31:09.291000+00:00       False          151.291"
      ]
     },
     "execution_count": 524,
     "metadata": {},
     "output_type": "execute_result"
    }
   ],
   "source": [
    "data_in_position"
   ]
  },
  {
   "cell_type": "code",
   "execution_count": 525,
   "id": "af508a4a-17dd-42e9-9e42-4701049006b8",
   "metadata": {},
   "outputs": [
    {
     "data": {
      "text/html": [
       "<div>\n",
       "<style scoped>\n",
       "    .dataframe tbody tr th:only-of-type {\n",
       "        vertical-align: middle;\n",
       "    }\n",
       "\n",
       "    .dataframe tbody tr th {\n",
       "        vertical-align: top;\n",
       "    }\n",
       "\n",
       "    .dataframe thead th {\n",
       "        text-align: right;\n",
       "    }\n",
       "</style>\n",
       "<table border=\"1\" class=\"dataframe\">\n",
       "  <thead>\n",
       "    <tr style=\"text-align: right;\">\n",
       "      <th></th>\n",
       "      <th>tracking</th>\n",
       "      <th>lost</th>\n",
       "      <th>noNewCommand</th>\n",
       "      <th>time_difference</th>\n",
       "    </tr>\n",
       "  </thead>\n",
       "  <tbody>\n",
       "    <tr>\n",
       "      <th>2022-03-09 17:28:40.411000+00:00</th>\n",
       "      <td>True</td>\n",
       "      <td>False</td>\n",
       "      <td>False</td>\n",
       "      <td>2.411</td>\n",
       "    </tr>\n",
       "    <tr>\n",
       "      <th>2022-03-09 17:28:41.824000+00:00</th>\n",
       "      <td>False</td>\n",
       "      <td>False</td>\n",
       "      <td>False</td>\n",
       "      <td>3.824</td>\n",
       "    </tr>\n",
       "    <tr>\n",
       "      <th>2022-03-09 17:28:43.340000+00:00</th>\n",
       "      <td>True</td>\n",
       "      <td>False</td>\n",
       "      <td>False</td>\n",
       "      <td>5.340</td>\n",
       "    </tr>\n",
       "    <tr>\n",
       "      <th>2022-03-09 17:28:51.112000+00:00</th>\n",
       "      <td>False</td>\n",
       "      <td>False</td>\n",
       "      <td>False</td>\n",
       "      <td>13.112</td>\n",
       "    </tr>\n",
       "    <tr>\n",
       "      <th>2022-03-09 17:28:52.827000+00:00</th>\n",
       "      <td>True</td>\n",
       "      <td>False</td>\n",
       "      <td>False</td>\n",
       "      <td>14.827</td>\n",
       "    </tr>\n",
       "    <tr>\n",
       "      <th>2022-03-09 17:29:01.909000+00:00</th>\n",
       "      <td>False</td>\n",
       "      <td>False</td>\n",
       "      <td>False</td>\n",
       "      <td>23.909</td>\n",
       "    </tr>\n",
       "    <tr>\n",
       "      <th>2022-03-09 17:29:06.753000+00:00</th>\n",
       "      <td>True</td>\n",
       "      <td>False</td>\n",
       "      <td>False</td>\n",
       "      <td>28.753</td>\n",
       "    </tr>\n",
       "    <tr>\n",
       "      <th>2022-03-09 17:29:32.581000+00:00</th>\n",
       "      <td>False</td>\n",
       "      <td>False</td>\n",
       "      <td>False</td>\n",
       "      <td>54.581</td>\n",
       "    </tr>\n",
       "    <tr>\n",
       "      <th>2022-03-09 17:29:39.246000+00:00</th>\n",
       "      <td>True</td>\n",
       "      <td>False</td>\n",
       "      <td>False</td>\n",
       "      <td>61.246</td>\n",
       "    </tr>\n",
       "    <tr>\n",
       "      <th>2022-03-09 17:31:09.291000+00:00</th>\n",
       "      <td>False</td>\n",
       "      <td>False</td>\n",
       "      <td>True</td>\n",
       "      <td>151.291</td>\n",
       "    </tr>\n",
       "  </tbody>\n",
       "</table>\n",
       "</div>"
      ],
      "text/plain": [
       "                                  tracking   lost  noNewCommand  \\\n",
       "2022-03-09 17:28:40.411000+00:00      True  False         False   \n",
       "2022-03-09 17:28:41.824000+00:00     False  False         False   \n",
       "2022-03-09 17:28:43.340000+00:00      True  False         False   \n",
       "2022-03-09 17:28:51.112000+00:00     False  False         False   \n",
       "2022-03-09 17:28:52.827000+00:00      True  False         False   \n",
       "2022-03-09 17:29:01.909000+00:00     False  False         False   \n",
       "2022-03-09 17:29:06.753000+00:00      True  False         False   \n",
       "2022-03-09 17:29:32.581000+00:00     False  False         False   \n",
       "2022-03-09 17:29:39.246000+00:00      True  False         False   \n",
       "2022-03-09 17:31:09.291000+00:00     False  False          True   \n",
       "\n",
       "                                  time_difference  \n",
       "2022-03-09 17:28:40.411000+00:00            2.411  \n",
       "2022-03-09 17:28:41.824000+00:00            3.824  \n",
       "2022-03-09 17:28:43.340000+00:00            5.340  \n",
       "2022-03-09 17:28:51.112000+00:00           13.112  \n",
       "2022-03-09 17:28:52.827000+00:00           14.827  \n",
       "2022-03-09 17:29:01.909000+00:00           23.909  \n",
       "2022-03-09 17:29:06.753000+00:00           28.753  \n",
       "2022-03-09 17:29:32.581000+00:00           54.581  \n",
       "2022-03-09 17:29:39.246000+00:00           61.246  \n",
       "2022-03-09 17:31:09.291000+00:00          151.291  "
      ]
     },
     "execution_count": 525,
     "metadata": {},
     "output_type": "execute_result"
    }
   ],
   "source": [
    "data_tracking"
   ]
  },
  {
   "cell_type": "markdown",
   "id": "a762a505-d126-4178-8e11-c0e0b921a45a",
   "metadata": {},
   "source": [
    "**Test Case (tracking without initial slewing)**\n",
    "\n",
    "No initial slewing is applied to the rotator."
   ]
  },
  {
   "cell_type": "code",
   "execution_count": 349,
   "id": "32c8a193-59f6-44ef-828d-4bf6a2f050dd",
   "metadata": {},
   "outputs": [
    {
     "name": "stdout",
     "output_type": "stream",
     "text": [
      "Time is 2022-03-09T14:52:33.000 right now.\n"
     ]
    }
   ],
   "source": [
    "time_start = print_and_get_time()\n",
    "\n",
    "data = await rotator.tel_rotation.aget(timeout=15)\n",
    "await track_target(rotator, data.actualPosition, data.actualPosition + 0.5, 0.068)"
   ]
  },
  {
   "cell_type": "code",
   "execution_count": 352,
   "id": "b2c544c4-6cd7-4d3a-99bc-4ce98185207b",
   "metadata": {},
   "outputs": [
    {
     "data": {
      "image/png": "[encoded data removed]",
      "text/plain": [
       "<Figure size 432x288 with 3 Axes>"
      ]
     },
     "metadata": {
      "needs_background": "light"
     },
     "output_type": "display_data"
    }
   ],
   "source": [
    "await plot_path_generator(efd_client, time_start, time_now)"
   ]
  },
  {
   "cell_type": "code",
   "execution_count": 353,
   "id": "46dc7213-06a6-4a8b-904b-a2c06f85d3fb",
   "metadata": {},
   "outputs": [],
   "source": [
    "data_controller_state, data_in_position, data_tracking = await get_event_data(\n",
    "    efd_client, time_start, time_now)"
   ]
  },
  {
   "cell_type": "code",
   "execution_count": 354,
   "id": "d7e5eab2-969d-48db-a7d7-644d981f9b44",
   "metadata": {},
   "outputs": [
    {
     "data": {
      "text/html": [
       "<div>\n",
       "<style scoped>\n",
       "    .dataframe tbody tr th:only-of-type {\n",
       "        vertical-align: middle;\n",
       "    }\n",
       "\n",
       "    .dataframe tbody tr th {\n",
       "        vertical-align: top;\n",
       "    }\n",
       "\n",
       "    .dataframe thead th {\n",
       "        text-align: right;\n",
       "    }\n",
       "</style>\n",
       "<table border=\"1\" class=\"dataframe\">\n",
       "  <thead>\n",
       "    <tr style=\"text-align: right;\">\n",
       "      <th></th>\n",
       "      <th>controllerState</th>\n",
       "      <th>enabledSubstate</th>\n",
       "      <th>time_difference</th>\n",
       "    </tr>\n",
       "  </thead>\n",
       "  <tbody>\n",
       "    <tr>\n",
       "      <th>2022-03-09 14:52:33.963000+00:00</th>\n",
       "      <td>2</td>\n",
       "      <td>2</td>\n",
       "      <td>0.963</td>\n",
       "    </tr>\n",
       "    <tr>\n",
       "      <th>2022-03-09 14:52:42.840000+00:00</th>\n",
       "      <td>4</td>\n",
       "      <td>0</td>\n",
       "      <td>9.840</td>\n",
       "    </tr>\n",
       "  </tbody>\n",
       "</table>\n",
       "</div>"
      ],
      "text/plain": [
       "                                  controllerState  enabledSubstate  \\\n",
       "2022-03-09 14:52:33.963000+00:00                2                2   \n",
       "2022-03-09 14:52:42.840000+00:00                4                0   \n",
       "\n",
       "                                  time_difference  \n",
       "2022-03-09 14:52:33.963000+00:00            0.963  \n",
       "2022-03-09 14:52:42.840000+00:00            9.840  "
      ]
     },
     "execution_count": 354,
     "metadata": {},
     "output_type": "execute_result"
    }
   ],
   "source": [
    "data_controller_state"
   ]
  },
  {
   "cell_type": "code",
   "execution_count": 355,
   "id": "6678a4ed-33c0-446b-b898-2957b4dbcbcd",
   "metadata": {},
   "outputs": [
    {
     "data": {
      "text/html": [
       "<div>\n",
       "<style scoped>\n",
       "    .dataframe tbody tr th:only-of-type {\n",
       "        vertical-align: middle;\n",
       "    }\n",
       "\n",
       "    .dataframe tbody tr th {\n",
       "        vertical-align: top;\n",
       "    }\n",
       "\n",
       "    .dataframe thead th {\n",
       "        text-align: right;\n",
       "    }\n",
       "</style>\n",
       "<table border=\"1\" class=\"dataframe\">\n",
       "  <thead>\n",
       "    <tr style=\"text-align: right;\">\n",
       "      <th></th>\n",
       "      <th>inPosition</th>\n",
       "      <th>time_difference</th>\n",
       "    </tr>\n",
       "  </thead>\n",
       "  <tbody>\n",
       "    <tr>\n",
       "      <th>2022-03-09 14:52:33.964000+00:00</th>\n",
       "      <td>True</td>\n",
       "      <td>0.964</td>\n",
       "    </tr>\n",
       "    <tr>\n",
       "      <th>2022-03-09 14:52:42.841000+00:00</th>\n",
       "      <td>False</td>\n",
       "      <td>9.841</td>\n",
       "    </tr>\n",
       "  </tbody>\n",
       "</table>\n",
       "</div>"
      ],
      "text/plain": [
       "                                  inPosition  time_difference\n",
       "2022-03-09 14:52:33.964000+00:00        True            0.964\n",
       "2022-03-09 14:52:42.841000+00:00       False            9.841"
      ]
     },
     "execution_count": 355,
     "metadata": {},
     "output_type": "execute_result"
    }
   ],
   "source": [
    "data_in_position"
   ]
  },
  {
   "cell_type": "code",
   "execution_count": 356,
   "id": "aa86dffd-fade-4052-bef9-cf70b3a19e3a",
   "metadata": {},
   "outputs": [
    {
     "data": {
      "text/html": [
       "<div>\n",
       "<style scoped>\n",
       "    .dataframe tbody tr th:only-of-type {\n",
       "        vertical-align: middle;\n",
       "    }\n",
       "\n",
       "    .dataframe tbody tr th {\n",
       "        vertical-align: top;\n",
       "    }\n",
       "\n",
       "    .dataframe thead th {\n",
       "        text-align: right;\n",
       "    }\n",
       "</style>\n",
       "<table border=\"1\" class=\"dataframe\">\n",
       "  <thead>\n",
       "    <tr style=\"text-align: right;\">\n",
       "      <th></th>\n",
       "      <th>tracking</th>\n",
       "      <th>lost</th>\n",
       "      <th>noNewCommand</th>\n",
       "      <th>time_difference</th>\n",
       "    </tr>\n",
       "  </thead>\n",
       "  <tbody>\n",
       "    <tr>\n",
       "      <th>2022-03-09 14:52:33.964000+00:00</th>\n",
       "      <td>True</td>\n",
       "      <td>False</td>\n",
       "      <td>False</td>\n",
       "      <td>0.964</td>\n",
       "    </tr>\n",
       "    <tr>\n",
       "      <th>2022-03-09 14:52:42.841000+00:00</th>\n",
       "      <td>False</td>\n",
       "      <td>False</td>\n",
       "      <td>True</td>\n",
       "      <td>9.841</td>\n",
       "    </tr>\n",
       "  </tbody>\n",
       "</table>\n",
       "</div>"
      ],
      "text/plain": [
       "                                  tracking   lost  noNewCommand  \\\n",
       "2022-03-09 14:52:33.964000+00:00      True  False         False   \n",
       "2022-03-09 14:52:42.841000+00:00     False  False          True   \n",
       "\n",
       "                                  time_difference  \n",
       "2022-03-09 14:52:33.964000+00:00            0.964  \n",
       "2022-03-09 14:52:42.841000+00:00            9.841  "
      ]
     },
     "execution_count": 356,
     "metadata": {},
     "output_type": "execute_result"
    },
    {
     "name": "stdout",
     "output_type": "stream",
     "text": [
      "Finish the faking of MTMount telemetry.\n"
     ]
    }
   ],
   "source": [
    "data_tracking"
   ]
  },
  {
   "cell_type": "markdown",
   "id": "b8fec7d8-b442-4606-b917-2ddcf744a6ae",
   "metadata": {},
   "source": [
    "**Test Case (slewing supersession)**\n",
    "\n",
    "Test the slewing supersession capability of the rotator."
   ]
  },
  {
   "cell_type": "code",
   "execution_count": 493,
   "id": "ce116647-20d9-4575-9a9b-9c910aac3649",
   "metadata": {},
   "outputs": [
    {
     "name": "stdout",
     "output_type": "stream",
     "text": [
      "Time is 2022-03-09T17:17:37.000 right now.\n"
     ]
    }
   ],
   "source": [
    "time_start = print_and_get_time()\n",
    "await slew_supersession_test(rotator)"
   ]
  },
  {
   "cell_type": "code",
   "execution_count": 501,
   "id": "006647a9-60ad-454f-a41a-f5c5ccf8bbf5",
   "metadata": {},
   "outputs": [
    {
     "data": {
      "image/png": "[encoded data removed]",
      "text/plain": [
       "<Figure size 432x288 with 3 Axes>"
      ]
     },
     "metadata": {
      "needs_background": "light"
     },
     "output_type": "display_data"
    }
   ],
   "source": [
    "await plot_path_generator(efd_client, time_start, time_now)"
   ]
  },
  {
   "cell_type": "code",
   "execution_count": 502,
   "id": "1a064213-8beb-4217-9e24-83ef9dc951d7",
   "metadata": {},
   "outputs": [],
   "source": [
    "data_controller_state, data_in_position, data_tracking = await get_event_data(\n",
    "    efd_client, time_start, time_now)"
   ]
  },
  {
   "cell_type": "code",
   "execution_count": 503,
   "id": "5e5af1a2-7ae1-41c2-a20e-897957926d36",
   "metadata": {},
   "outputs": [
    {
     "data": {
      "text/html": [
       "<div>\n",
       "<style scoped>\n",
       "    .dataframe tbody tr th:only-of-type {\n",
       "        vertical-align: middle;\n",
       "    }\n",
       "\n",
       "    .dataframe tbody tr th {\n",
       "        vertical-align: top;\n",
       "    }\n",
       "\n",
       "    .dataframe thead th {\n",
       "        text-align: right;\n",
       "    }\n",
       "</style>\n",
       "<table border=\"1\" class=\"dataframe\">\n",
       "  <thead>\n",
       "    <tr style=\"text-align: right;\">\n",
       "      <th></th>\n",
       "      <th>controllerState</th>\n",
       "      <th>enabledSubstate</th>\n",
       "      <th>time_difference</th>\n",
       "    </tr>\n",
       "  </thead>\n",
       "  <tbody>\n",
       "    <tr>\n",
       "      <th>2022-03-09 17:17:37.505000+00:00</th>\n",
       "      <td>2</td>\n",
       "      <td>2</td>\n",
       "      <td>0.505</td>\n",
       "    </tr>\n",
       "    <tr>\n",
       "      <th>2022-03-09 17:18:26.958000+00:00</th>\n",
       "      <td>4</td>\n",
       "      <td>0</td>\n",
       "      <td>49.958</td>\n",
       "    </tr>\n",
       "  </tbody>\n",
       "</table>\n",
       "</div>"
      ],
      "text/plain": [
       "                                  controllerState  enabledSubstate  \\\n",
       "2022-03-09 17:17:37.505000+00:00                2                2   \n",
       "2022-03-09 17:18:26.958000+00:00                4                0   \n",
       "\n",
       "                                  time_difference  \n",
       "2022-03-09 17:17:37.505000+00:00            0.505  \n",
       "2022-03-09 17:18:26.958000+00:00           49.958  "
      ]
     },
     "execution_count": 503,
     "metadata": {},
     "output_type": "execute_result"
    }
   ],
   "source": [
    "data_controller_state"
   ]
  },
  {
   "cell_type": "code",
   "execution_count": 504,
   "id": "d54151f4-08c9-4405-8907-1824a2801cea",
   "metadata": {},
   "outputs": [
    {
     "data": {
      "text/html": [
       "<div>\n",
       "<style scoped>\n",
       "    .dataframe tbody tr th:only-of-type {\n",
       "        vertical-align: middle;\n",
       "    }\n",
       "\n",
       "    .dataframe tbody tr th {\n",
       "        vertical-align: top;\n",
       "    }\n",
       "\n",
       "    .dataframe thead th {\n",
       "        text-align: right;\n",
       "    }\n",
       "</style>\n",
       "<table border=\"1\" class=\"dataframe\">\n",
       "  <thead>\n",
       "    <tr style=\"text-align: right;\">\n",
       "      <th></th>\n",
       "      <th>inPosition</th>\n",
       "      <th>time_difference</th>\n",
       "    </tr>\n",
       "  </thead>\n",
       "  <tbody>\n",
       "    <tr>\n",
       "      <th>2022-03-09 17:18:21.108000+00:00</th>\n",
       "      <td>True</td>\n",
       "      <td>44.108</td>\n",
       "    </tr>\n",
       "    <tr>\n",
       "      <th>2022-03-09 17:18:26.959000+00:00</th>\n",
       "      <td>False</td>\n",
       "      <td>49.959</td>\n",
       "    </tr>\n",
       "  </tbody>\n",
       "</table>\n",
       "</div>"
      ],
      "text/plain": [
       "                                  inPosition  time_difference\n",
       "2022-03-09 17:18:21.108000+00:00        True           44.108\n",
       "2022-03-09 17:18:26.959000+00:00       False           49.959"
      ]
     },
     "execution_count": 504,
     "metadata": {},
     "output_type": "execute_result"
    }
   ],
   "source": [
    "data_in_position"
   ]
  },
  {
   "cell_type": "code",
   "execution_count": 505,
   "id": "e35622ca-204a-41a8-9f73-226555428801",
   "metadata": {},
   "outputs": [
    {
     "data": {
      "text/html": [
       "<div>\n",
       "<style scoped>\n",
       "    .dataframe tbody tr th:only-of-type {\n",
       "        vertical-align: middle;\n",
       "    }\n",
       "\n",
       "    .dataframe tbody tr th {\n",
       "        vertical-align: top;\n",
       "    }\n",
       "\n",
       "    .dataframe thead th {\n",
       "        text-align: right;\n",
       "    }\n",
       "</style>\n",
       "<table border=\"1\" class=\"dataframe\">\n",
       "  <thead>\n",
       "    <tr style=\"text-align: right;\">\n",
       "      <th></th>\n",
       "      <th>tracking</th>\n",
       "      <th>lost</th>\n",
       "      <th>noNewCommand</th>\n",
       "      <th>time_difference</th>\n",
       "    </tr>\n",
       "  </thead>\n",
       "  <tbody>\n",
       "    <tr>\n",
       "      <th>2022-03-09 17:18:21.108000+00:00</th>\n",
       "      <td>True</td>\n",
       "      <td>False</td>\n",
       "      <td>False</td>\n",
       "      <td>44.108</td>\n",
       "    </tr>\n",
       "    <tr>\n",
       "      <th>2022-03-09 17:18:26.959000+00:00</th>\n",
       "      <td>False</td>\n",
       "      <td>False</td>\n",
       "      <td>True</td>\n",
       "      <td>49.959</td>\n",
       "    </tr>\n",
       "  </tbody>\n",
       "</table>\n",
       "</div>"
      ],
      "text/plain": [
       "                                  tracking   lost  noNewCommand  \\\n",
       "2022-03-09 17:18:21.108000+00:00      True  False         False   \n",
       "2022-03-09 17:18:26.959000+00:00     False  False          True   \n",
       "\n",
       "                                  time_difference  \n",
       "2022-03-09 17:18:21.108000+00:00           44.108  \n",
       "2022-03-09 17:18:26.959000+00:00           49.959  "
      ]
     },
     "execution_count": 505,
     "metadata": {},
     "output_type": "execute_result"
    }
   ],
   "source": [
    "data_tracking"
   ]
  },
  {
   "cell_type": "markdown",
   "id": "757dcee8-d83c-4a25-b071-ba51b6c8f5e6",
   "metadata": {},
   "source": [
    "**Test Case (minimum tracking speed)**"
   ]
  },
  {
   "cell_type": "code",
   "execution_count": 418,
   "id": "53543cba-c913-4c30-992d-8087f4986de8",
   "metadata": {},
   "outputs": [
    {
     "name": "stdout",
     "output_type": "stream",
     "text": [
      "Time is 2022-03-09T15:33:13.000 right now.\n"
     ]
    }
   ],
   "source": [
    "time_start = print_and_get_time()\n",
    "await track_target(rotator, 0.7, 0.8, 0.0042)"
   ]
  },
  {
   "cell_type": "code",
   "execution_count": 421,
   "id": "c74b13dc-c7b0-4abf-9ea5-5194d0a84529",
   "metadata": {},
   "outputs": [
    {
     "data": {
      "image/png": "[encoded data removed]",
      "text/plain": [
       "<Figure size 432x288 with 3 Axes>"
      ]
     },
     "metadata": {
      "needs_background": "light"
     },
     "output_type": "display_data"
    }
   ],
   "source": [
    "await plot_path_generator(efd_client, time_start, time_now)"
   ]
  },
  {
   "cell_type": "code",
   "execution_count": 422,
   "id": "cf2d1541-8162-412e-8ff4-cdc7d7bf5418",
   "metadata": {},
   "outputs": [],
   "source": [
    "data_controller_state, data_in_position, data_tracking = await get_event_data(\n",
    "    efd_client, time_start, time_now)"
   ]
  },
  {
   "cell_type": "code",
   "execution_count": 423,
   "id": "a6c32d98-55fe-45d9-b2e1-7f27592bed23",
   "metadata": {},
   "outputs": [
    {
     "data": {
      "text/html": [
       "<div>\n",
       "<style scoped>\n",
       "    .dataframe tbody tr th:only-of-type {\n",
       "        vertical-align: middle;\n",
       "    }\n",
       "\n",
       "    .dataframe tbody tr th {\n",
       "        vertical-align: top;\n",
       "    }\n",
       "\n",
       "    .dataframe thead th {\n",
       "        text-align: right;\n",
       "    }\n",
       "</style>\n",
       "<table border=\"1\" class=\"dataframe\">\n",
       "  <thead>\n",
       "    <tr style=\"text-align: right;\">\n",
       "      <th></th>\n",
       "      <th>controllerState</th>\n",
       "      <th>enabledSubstate</th>\n",
       "      <th>time_difference</th>\n",
       "    </tr>\n",
       "  </thead>\n",
       "  <tbody>\n",
       "    <tr>\n",
       "      <th>2022-03-09 15:33:13.305000+00:00</th>\n",
       "      <td>2</td>\n",
       "      <td>2</td>\n",
       "      <td>0.305</td>\n",
       "    </tr>\n",
       "    <tr>\n",
       "      <th>2022-03-09 15:33:38.655000+00:00</th>\n",
       "      <td>4</td>\n",
       "      <td>0</td>\n",
       "      <td>25.655</td>\n",
       "    </tr>\n",
       "  </tbody>\n",
       "</table>\n",
       "</div>"
      ],
      "text/plain": [
       "                                  controllerState  enabledSubstate  \\\n",
       "2022-03-09 15:33:13.305000+00:00                2                2   \n",
       "2022-03-09 15:33:38.655000+00:00                4                0   \n",
       "\n",
       "                                  time_difference  \n",
       "2022-03-09 15:33:13.305000+00:00            0.305  \n",
       "2022-03-09 15:33:38.655000+00:00           25.655  "
      ]
     },
     "execution_count": 423,
     "metadata": {},
     "output_type": "execute_result"
    }
   ],
   "source": [
    "data_controller_state"
   ]
  },
  {
   "cell_type": "code",
   "execution_count": 424,
   "id": "a0a6834d-9e5f-44a3-9b42-92b9a369e460",
   "metadata": {},
   "outputs": [
    {
     "data": {
      "text/html": [
       "<div>\n",
       "<style scoped>\n",
       "    .dataframe tbody tr th:only-of-type {\n",
       "        vertical-align: middle;\n",
       "    }\n",
       "\n",
       "    .dataframe tbody tr th {\n",
       "        vertical-align: top;\n",
       "    }\n",
       "\n",
       "    .dataframe thead th {\n",
       "        text-align: right;\n",
       "    }\n",
       "</style>\n",
       "<table border=\"1\" class=\"dataframe\">\n",
       "  <thead>\n",
       "    <tr style=\"text-align: right;\">\n",
       "      <th></th>\n",
       "      <th>inPosition</th>\n",
       "      <th>time_difference</th>\n",
       "    </tr>\n",
       "  </thead>\n",
       "  <tbody>\n",
       "    <tr>\n",
       "      <th>2022-03-09 15:33:14.919000+00:00</th>\n",
       "      <td>True</td>\n",
       "      <td>1.919</td>\n",
       "    </tr>\n",
       "    <tr>\n",
       "      <th>2022-03-09 15:33:38.656000+00:00</th>\n",
       "      <td>False</td>\n",
       "      <td>25.656</td>\n",
       "    </tr>\n",
       "  </tbody>\n",
       "</table>\n",
       "</div>"
      ],
      "text/plain": [
       "                                  inPosition  time_difference\n",
       "2022-03-09 15:33:14.919000+00:00        True            1.919\n",
       "2022-03-09 15:33:38.656000+00:00       False           25.656"
      ]
     },
     "execution_count": 424,
     "metadata": {},
     "output_type": "execute_result"
    }
   ],
   "source": [
    "data_in_position"
   ]
  },
  {
   "cell_type": "code",
   "execution_count": 425,
   "id": "168caa92-306d-4c39-b982-2dbec83d3e98",
   "metadata": {},
   "outputs": [
    {
     "data": {
      "text/html": [
       "<div>\n",
       "<style scoped>\n",
       "    .dataframe tbody tr th:only-of-type {\n",
       "        vertical-align: middle;\n",
       "    }\n",
       "\n",
       "    .dataframe tbody tr th {\n",
       "        vertical-align: top;\n",
       "    }\n",
       "\n",
       "    .dataframe thead th {\n",
       "        text-align: right;\n",
       "    }\n",
       "</style>\n",
       "<table border=\"1\" class=\"dataframe\">\n",
       "  <thead>\n",
       "    <tr style=\"text-align: right;\">\n",
       "      <th></th>\n",
       "      <th>tracking</th>\n",
       "      <th>lost</th>\n",
       "      <th>noNewCommand</th>\n",
       "      <th>time_difference</th>\n",
       "    </tr>\n",
       "  </thead>\n",
       "  <tbody>\n",
       "    <tr>\n",
       "      <th>2022-03-09 15:33:14.919000+00:00</th>\n",
       "      <td>True</td>\n",
       "      <td>False</td>\n",
       "      <td>False</td>\n",
       "      <td>1.919</td>\n",
       "    </tr>\n",
       "    <tr>\n",
       "      <th>2022-03-09 15:33:38.656000+00:00</th>\n",
       "      <td>False</td>\n",
       "      <td>False</td>\n",
       "      <td>True</td>\n",
       "      <td>25.656</td>\n",
       "    </tr>\n",
       "  </tbody>\n",
       "</table>\n",
       "</div>"
      ],
      "text/plain": [
       "                                  tracking   lost  noNewCommand  \\\n",
       "2022-03-09 15:33:14.919000+00:00      True  False         False   \n",
       "2022-03-09 15:33:38.656000+00:00     False  False          True   \n",
       "\n",
       "                                  time_difference  \n",
       "2022-03-09 15:33:14.919000+00:00            1.919  \n",
       "2022-03-09 15:33:38.656000+00:00           25.656  "
      ]
     },
     "execution_count": 425,
     "metadata": {},
     "output_type": "execute_result"
    },
    {
     "name": "stdout",
     "output_type": "stream",
     "text": [
      "Finish the faking of MTMount telemetry.\n",
      "Finish the faking of MTMount telemetry.\n"
     ]
    }
   ],
   "source": [
    "data_tracking"
   ]
  },
  {
   "cell_type": "markdown",
   "id": "b8efad31-4c89-47b9-b154-d8b6f108afa4",
   "metadata": {},
   "source": [
    "**Test Case (tracking / slewing with multiple stops)**"
   ]
  },
  {
   "cell_type": "code",
   "execution_count": 430,
   "id": "354cc778-b8a9-4cba-9af7-62c3894def3c",
   "metadata": {},
   "outputs": [
    {
     "name": "stdout",
     "output_type": "stream",
     "text": [
      "Time is 2022-03-09T15:41:01.000 right now.\n"
     ]
    }
   ],
   "source": [
    "time_start = print_and_get_time()\n",
    "await track_slew_multiple_stop_test(rotator)"
   ]
  },
  {
   "cell_type": "code",
   "execution_count": 433,
   "id": "491cab5f-53c2-4c17-986b-9d7d06f36c02",
   "metadata": {},
   "outputs": [
    {
     "data": {
      "image/png": "[encoded data removed]",
      "text/plain": [
       "<Figure size 432x288 with 3 Axes>"
      ]
     },
     "metadata": {
      "needs_background": "light"
     },
     "output_type": "display_data"
    }
   ],
   "source": [
    "await plot_path_generator(efd_client, time_start, time_now)"
   ]
  },
  {
   "cell_type": "code",
   "execution_count": 434,
   "id": "33e74090-6b67-4e23-9728-843c00230afe",
   "metadata": {},
   "outputs": [],
   "source": [
    "data_controller_state, data_in_position, data_tracking = await get_event_data(\n",
    "    efd_client, time_start, time_now)"
   ]
  },
  {
   "cell_type": "code",
   "execution_count": 435,
   "id": "5b523e46-231e-4798-bca9-2cbc52fa2262",
   "metadata": {},
   "outputs": [
    {
     "data": {
      "text/html": [
       "<div>\n",
       "<style scoped>\n",
       "    .dataframe tbody tr th:only-of-type {\n",
       "        vertical-align: middle;\n",
       "    }\n",
       "\n",
       "    .dataframe tbody tr th {\n",
       "        vertical-align: top;\n",
       "    }\n",
       "\n",
       "    .dataframe thead th {\n",
       "        text-align: right;\n",
       "    }\n",
       "</style>\n",
       "<table border=\"1\" class=\"dataframe\">\n",
       "  <thead>\n",
       "    <tr style=\"text-align: right;\">\n",
       "      <th></th>\n",
       "      <th>controllerState</th>\n",
       "      <th>enabledSubstate</th>\n",
       "      <th>time_difference</th>\n",
       "    </tr>\n",
       "  </thead>\n",
       "  <tbody>\n",
       "    <tr>\n",
       "      <th>2022-03-09 15:41:01.648000+00:00</th>\n",
       "      <td>2</td>\n",
       "      <td>2</td>\n",
       "      <td>0.648</td>\n",
       "    </tr>\n",
       "    <tr>\n",
       "      <th>2022-03-09 15:41:04.775000+00:00</th>\n",
       "      <td>2</td>\n",
       "      <td>0</td>\n",
       "      <td>3.775</td>\n",
       "    </tr>\n",
       "    <tr>\n",
       "      <th>2022-03-09 15:41:05.784000+00:00</th>\n",
       "      <td>2</td>\n",
       "      <td>2</td>\n",
       "      <td>4.784</td>\n",
       "    </tr>\n",
       "    <tr>\n",
       "      <th>2022-03-09 15:41:07.805000+00:00</th>\n",
       "      <td>2</td>\n",
       "      <td>0</td>\n",
       "      <td>6.805</td>\n",
       "    </tr>\n",
       "    <tr>\n",
       "      <th>2022-03-09 15:41:08.813000+00:00</th>\n",
       "      <td>2</td>\n",
       "      <td>2</td>\n",
       "      <td>7.813</td>\n",
       "    </tr>\n",
       "    <tr>\n",
       "      <th>2022-03-09 15:41:25.877000+00:00</th>\n",
       "      <td>4</td>\n",
       "      <td>0</td>\n",
       "      <td>24.877</td>\n",
       "    </tr>\n",
       "  </tbody>\n",
       "</table>\n",
       "</div>"
      ],
      "text/plain": [
       "                                  controllerState  enabledSubstate  \\\n",
       "2022-03-09 15:41:01.648000+00:00                2                2   \n",
       "2022-03-09 15:41:04.775000+00:00                2                0   \n",
       "2022-03-09 15:41:05.784000+00:00                2                2   \n",
       "2022-03-09 15:41:07.805000+00:00                2                0   \n",
       "2022-03-09 15:41:08.813000+00:00                2                2   \n",
       "2022-03-09 15:41:25.877000+00:00                4                0   \n",
       "\n",
       "                                  time_difference  \n",
       "2022-03-09 15:41:01.648000+00:00            0.648  \n",
       "2022-03-09 15:41:04.775000+00:00            3.775  \n",
       "2022-03-09 15:41:05.784000+00:00            4.784  \n",
       "2022-03-09 15:41:07.805000+00:00            6.805  \n",
       "2022-03-09 15:41:08.813000+00:00            7.813  \n",
       "2022-03-09 15:41:25.877000+00:00           24.877  "
      ]
     },
     "execution_count": 435,
     "metadata": {},
     "output_type": "execute_result"
    }
   ],
   "source": [
    "data_controller_state"
   ]
  },
  {
   "cell_type": "code",
   "execution_count": 436,
   "id": "4c27b8fd-4890-427b-8213-5dbde39f83ff",
   "metadata": {},
   "outputs": [
    {
     "data": {
      "text/html": [
       "<div>\n",
       "<style scoped>\n",
       "    .dataframe tbody tr th:only-of-type {\n",
       "        vertical-align: middle;\n",
       "    }\n",
       "\n",
       "    .dataframe tbody tr th {\n",
       "        vertical-align: top;\n",
       "    }\n",
       "\n",
       "    .dataframe thead th {\n",
       "        text-align: right;\n",
       "    }\n",
       "</style>\n",
       "<table border=\"1\" class=\"dataframe\">\n",
       "  <thead>\n",
       "    <tr style=\"text-align: right;\">\n",
       "      <th></th>\n",
       "      <th>inPosition</th>\n",
       "      <th>time_difference</th>\n",
       "    </tr>\n",
       "  </thead>\n",
       "  <tbody>\n",
       "    <tr>\n",
       "      <th>2022-03-09 15:41:03.363000+00:00</th>\n",
       "      <td>True</td>\n",
       "      <td>2.363</td>\n",
       "    </tr>\n",
       "    <tr>\n",
       "      <th>2022-03-09 15:41:04.776000+00:00</th>\n",
       "      <td>False</td>\n",
       "      <td>3.776</td>\n",
       "    </tr>\n",
       "    <tr>\n",
       "      <th>2022-03-09 15:41:06.290000+00:00</th>\n",
       "      <td>True</td>\n",
       "      <td>5.290</td>\n",
       "    </tr>\n",
       "    <tr>\n",
       "      <th>2022-03-09 15:41:07.806000+00:00</th>\n",
       "      <td>False</td>\n",
       "      <td>6.806</td>\n",
       "    </tr>\n",
       "    <tr>\n",
       "      <th>2022-03-09 15:41:09.318000+00:00</th>\n",
       "      <td>True</td>\n",
       "      <td>8.318</td>\n",
       "    </tr>\n",
       "    <tr>\n",
       "      <th>2022-03-09 15:41:14.064000+00:00</th>\n",
       "      <td>False</td>\n",
       "      <td>13.064</td>\n",
       "    </tr>\n",
       "    <tr>\n",
       "      <th>2022-03-09 15:41:15.782000+00:00</th>\n",
       "      <td>True</td>\n",
       "      <td>14.782</td>\n",
       "    </tr>\n",
       "    <tr>\n",
       "      <th>2022-03-09 15:41:25.878000+00:00</th>\n",
       "      <td>False</td>\n",
       "      <td>24.878</td>\n",
       "    </tr>\n",
       "  </tbody>\n",
       "</table>\n",
       "</div>"
      ],
      "text/plain": [
       "                                  inPosition  time_difference\n",
       "2022-03-09 15:41:03.363000+00:00        True            2.363\n",
       "2022-03-09 15:41:04.776000+00:00       False            3.776\n",
       "2022-03-09 15:41:06.290000+00:00        True            5.290\n",
       "2022-03-09 15:41:07.806000+00:00       False            6.806\n",
       "2022-03-09 15:41:09.318000+00:00        True            8.318\n",
       "2022-03-09 15:41:14.064000+00:00       False           13.064\n",
       "2022-03-09 15:41:15.782000+00:00        True           14.782\n",
       "2022-03-09 15:41:25.878000+00:00       False           24.878"
      ]
     },
     "execution_count": 436,
     "metadata": {},
     "output_type": "execute_result"
    }
   ],
   "source": [
    "data_in_position"
   ]
  },
  {
   "cell_type": "code",
   "execution_count": 437,
   "id": "9686dd71-c1c2-462d-a7fb-cf8abf9b2847",
   "metadata": {},
   "outputs": [
    {
     "data": {
      "text/html": [
       "<div>\n",
       "<style scoped>\n",
       "    .dataframe tbody tr th:only-of-type {\n",
       "        vertical-align: middle;\n",
       "    }\n",
       "\n",
       "    .dataframe tbody tr th {\n",
       "        vertical-align: top;\n",
       "    }\n",
       "\n",
       "    .dataframe thead th {\n",
       "        text-align: right;\n",
       "    }\n",
       "</style>\n",
       "<table border=\"1\" class=\"dataframe\">\n",
       "  <thead>\n",
       "    <tr style=\"text-align: right;\">\n",
       "      <th></th>\n",
       "      <th>tracking</th>\n",
       "      <th>lost</th>\n",
       "      <th>noNewCommand</th>\n",
       "      <th>time_difference</th>\n",
       "    </tr>\n",
       "  </thead>\n",
       "  <tbody>\n",
       "    <tr>\n",
       "      <th>2022-03-09 15:41:03.363000+00:00</th>\n",
       "      <td>True</td>\n",
       "      <td>False</td>\n",
       "      <td>False</td>\n",
       "      <td>2.363</td>\n",
       "    </tr>\n",
       "    <tr>\n",
       "      <th>2022-03-09 15:41:04.776000+00:00</th>\n",
       "      <td>False</td>\n",
       "      <td>False</td>\n",
       "      <td>False</td>\n",
       "      <td>3.776</td>\n",
       "    </tr>\n",
       "    <tr>\n",
       "      <th>2022-03-09 15:41:06.290000+00:00</th>\n",
       "      <td>True</td>\n",
       "      <td>False</td>\n",
       "      <td>False</td>\n",
       "      <td>5.290</td>\n",
       "    </tr>\n",
       "    <tr>\n",
       "      <th>2022-03-09 15:41:07.806000+00:00</th>\n",
       "      <td>False</td>\n",
       "      <td>False</td>\n",
       "      <td>False</td>\n",
       "      <td>6.806</td>\n",
       "    </tr>\n",
       "    <tr>\n",
       "      <th>2022-03-09 15:41:09.318000+00:00</th>\n",
       "      <td>True</td>\n",
       "      <td>False</td>\n",
       "      <td>False</td>\n",
       "      <td>8.318</td>\n",
       "    </tr>\n",
       "    <tr>\n",
       "      <th>2022-03-09 15:41:14.064000+00:00</th>\n",
       "      <td>False</td>\n",
       "      <td>False</td>\n",
       "      <td>False</td>\n",
       "      <td>13.064</td>\n",
       "    </tr>\n",
       "    <tr>\n",
       "      <th>2022-03-09 15:41:15.782000+00:00</th>\n",
       "      <td>True</td>\n",
       "      <td>False</td>\n",
       "      <td>False</td>\n",
       "      <td>14.782</td>\n",
       "    </tr>\n",
       "    <tr>\n",
       "      <th>2022-03-09 15:41:25.878000+00:00</th>\n",
       "      <td>False</td>\n",
       "      <td>False</td>\n",
       "      <td>True</td>\n",
       "      <td>24.878</td>\n",
       "    </tr>\n",
       "  </tbody>\n",
       "</table>\n",
       "</div>"
      ],
      "text/plain": [
       "                                  tracking   lost  noNewCommand  \\\n",
       "2022-03-09 15:41:03.363000+00:00      True  False         False   \n",
       "2022-03-09 15:41:04.776000+00:00     False  False         False   \n",
       "2022-03-09 15:41:06.290000+00:00      True  False         False   \n",
       "2022-03-09 15:41:07.806000+00:00     False  False         False   \n",
       "2022-03-09 15:41:09.318000+00:00      True  False         False   \n",
       "2022-03-09 15:41:14.064000+00:00     False  False         False   \n",
       "2022-03-09 15:41:15.782000+00:00      True  False         False   \n",
       "2022-03-09 15:41:25.878000+00:00     False  False          True   \n",
       "\n",
       "                                  time_difference  \n",
       "2022-03-09 15:41:03.363000+00:00            2.363  \n",
       "2022-03-09 15:41:04.776000+00:00            3.776  \n",
       "2022-03-09 15:41:06.290000+00:00            5.290  \n",
       "2022-03-09 15:41:07.806000+00:00            6.806  \n",
       "2022-03-09 15:41:09.318000+00:00            8.318  \n",
       "2022-03-09 15:41:14.064000+00:00           13.064  \n",
       "2022-03-09 15:41:15.782000+00:00           14.782  \n",
       "2022-03-09 15:41:25.878000+00:00           24.878  "
      ]
     },
     "execution_count": 437,
     "metadata": {},
     "output_type": "execute_result"
    },
    {
     "name": "stdout",
     "output_type": "stream",
     "text": [
      "Finish the faking of MTMount telemetry.\n"
     ]
    }
   ],
   "source": [
    "data_tracking"
   ]
  },
  {
   "cell_type": "code",
   "execution_count": null,
   "id": "37ffa251-f95e-40a6-8e9a-b67955606dde",
   "metadata": {},
   "outputs": [],
   "source": []
  }
 ],
 "metadata": {
  "kernelspec": {
   "display_name": "LSST",
   "language": "python",
   "name": "lsst"
  },
  "language_info": {
   "codemirror_mode": {
    "name": "ipython",
    "version": 3
   },
   "file_extension": ".py",
   "mimetype": "text/x-python",
   "name": "python",
   "nbconvert_exporter": "python",
   "pygments_lexer": "ipython3",
   "version": "3.8.12"
  }
 },
 "nbformat": 4,
 "nbformat_minor": 5
}
