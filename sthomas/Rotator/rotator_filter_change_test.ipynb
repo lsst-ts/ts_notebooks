{
 "cells": [
  {
   "cell_type": "markdown",
   "metadata": {},
   "source": [
    "# Filter Change MTPtg/Rotator Integration Test"
   ]
  },
  {
   "cell_type": "markdown",
   "metadata": {},
   "source": [
    "This notebook performs a filter change scenario integration test between the Maint Telescope pointing component (MTPtg) and the Rotator with the Camera Cable Wrap tracking the Rotator. It includes enough boilerplate to allow the test to run at any time by getting current time information from the pointing and computing appropriate coordinates to slew."
   ]
  },
  {
   "cell_type": "code",
   "execution_count": 1,
   "metadata": {},
   "outputs": [],
   "source": [
    "import logging\n",
    "import yaml\n",
    "\n",
    "import os\n",
    "import sqlite3\n",
    "import pandas as pd\n",
    "\n",
    "import numpy as np\n",
    "from matplotlib import pyplot as plt\n",
    "import astropy.units as u\n",
    "from astropy.time import Time\n",
    "from astropy.coordinates import AltAz, ICRS, EarthLocation, Angle, FK5\n",
    "import asyncio\n",
    "from lsst.ts import salobj\n",
    "from lsst.ts.idl.enums import ATPtg\n",
    "\n",
    "from astropy.utils import iers\n",
    "iers.conf.auto_download = False"
   ]
  },
  {
   "cell_type": "code",
   "execution_count": 2,
   "metadata": {},
   "outputs": [],
   "source": [
    "test_message = \"Filter Change MTPtg_Rotator_CCW Integration Test\""
   ]
  },
  {
   "cell_type": "code",
   "execution_count": 3,
   "metadata": {},
   "outputs": [],
   "source": [
    "con = sqlite3.connect(os.path.expanduser(\"~/develop/one_filt_v1.4_0yrs_1.db\"))"
   ]
  },
  {
   "cell_type": "code",
   "execution_count": 4,
   "metadata": {},
   "outputs": [],
   "source": [
    "df = pd.read_sql_query(\"SELECT * from SummaryAllProps\", con)"
   ]
  },
  {
   "cell_type": "code",
   "execution_count": 5,
   "metadata": {},
   "outputs": [],
   "source": [
    "d = salobj.Domain()"
   ]
  },
  {
   "cell_type": "code",
   "execution_count": 6,
   "metadata": {},
   "outputs": [],
   "source": [
    "script = salobj.Controller(\"Script\", index=1)\n",
    "rot = salobj.Remote(d, \"Rotator\")\n",
    "mtptg = salobj.Remote(d, \"MTPtg\")"
   ]
  },
  {
   "cell_type": "code",
   "execution_count": 7,
   "metadata": {},
   "outputs": [
    {
     "name": "stderr",
     "output_type": "stream",
     "text": [
      "RemoteTelemetry(Rotator, 0, Motors) falling behind; read 11 messages\n"
     ]
    },
    {
     "data": {
      "text/plain": [
       "[None, None, None]"
      ]
     },
     "execution_count": 7,
     "metadata": {},
     "output_type": "execute_result"
    },
    {
     "name": "stderr",
     "output_type": "stream",
     "text": [
      "RemoteTelemetry(Rotator, 0, Electrical) falling behind; read 12 messages\n",
      "RemoteTelemetry(Rotator, 0, Application) falling behind; read 12 messages\n"
     ]
    }
   ],
   "source": [
    "await asyncio.gather(rot.start_task,\n",
    "                     mtptg.start_task,\n",
    "                     script.start_task)"
   ]
  },
  {
   "cell_type": "code",
   "execution_count": 8,
   "metadata": {},
   "outputs": [
    {
     "data": {
      "text/plain": [
       "[<State.STANDBY: 5>, <State.DISABLED: 1>, <State.ENABLED: 2>]"
      ]
     },
     "execution_count": 8,
     "metadata": {},
     "output_type": "execute_result"
    }
   ],
   "source": [
    "await asyncio.sleep(1.)\n",
    "await salobj.set_summary_state(mtptg, salobj.State.ENABLED)\n",
    "await salobj.set_summary_state(rot, salobj.State.ENABLED)"
   ]
  },
  {
   "cell_type": "code",
   "execution_count": 9,
   "metadata": {},
   "outputs": [],
   "source": [
    "location = EarthLocation.from_geodetic(lon=-70.747698*u.deg,\n",
    "                                       lat=-30.244728*u.deg,\n",
    "                                       height=2663.0*u.m)"
   ]
  },
  {
   "cell_type": "code",
   "execution_count": 10,
   "metadata": {},
   "outputs": [],
   "source": [
    "def parallactic_angle(location, lst, target):\n",
    "    \"\"\"\n",
    "    Calculate the parallactic angle.\n",
    "    Parameters\n",
    "    ----------\n",
    "    time : `~astropy.time.Time`\n",
    "        Observation time.\n",
    "    target : `~astroplan.FixedTarget` or `~astropy.coordinates.SkyCoord` or list\n",
    "        Target celestial object(s).\n",
    "    grid_times_targets: bool\n",
    "        If True, the target object will have extra dimensions packed onto the end,\n",
    "        so that calculations with M targets and N times will return an (M, N)\n",
    "        shaped result. Otherwise, we rely on broadcasting the shapes together\n",
    "        using standard numpy rules.\n",
    "    Returns\n",
    "    -------\n",
    "    `~astropy.coordinates.Angle`\n",
    "        Parallactic angle.\n",
    "    Notes\n",
    "    -----\n",
    "    The parallactic angle is the angle between the great circle that\n",
    "    intersects a celestial object and the zenith, and the object's hour\n",
    "    circle [1]_.\n",
    "    .. [1] https://en.wikipedia.org/wiki/Parallactic_angle\n",
    "    \"\"\"\n",
    "    # Eqn (14.1) of Meeus' Astronomical Algorithms\n",
    "    H = (lst - target.ra).radian\n",
    "    q = np.arctan2(np.sin(H),\n",
    "                   (np.tan(location.lat.radian) *\n",
    "                    np.cos(target.dec.radian) -\n",
    "                    np.sin(target.dec.radian)*np.cos(H)))*u.rad\n",
    "    return Angle(q)"
   ]
  },
  {
   "cell_type": "markdown",
   "metadata": {},
   "source": [
    "# Move to 0 deg Starting Position"
   ]
  },
  {
   "cell_type": "raw",
   "metadata": {},
   "source": [
    "await asyncio.sleep(0.1)\n",
    "\n",
    "print(\"Move to 0.0 deg for starting position\")\n",
    "\n",
    "await rot.cmd_positionSet.set_start(angle=0.0,timeout=10.)\n",
    "\n",
    "await rot.cmd_move.start(timeout=10.)"
   ]
  },
  {
   "cell_type": "code",
   "execution_count": 11,
   "metadata": {},
   "outputs": [
    {
     "name": "stdout",
     "output_type": "stream",
     "text": [
      "Move to 0.0 deg starting position\n",
      "Time error=-0.04 sec\n"
     ]
    },
    {
     "name": "stderr",
     "output_type": "stream",
     "text": [
      "WARNING: Tried to get polar motions for times after IERS data is valid. Defaulting to polar motion from the 50-yr mean for those. This may affect precision at the 10s of arcsec level [astropy.coordinates.builtin_frames.utils]\n",
      "WARNING: (some) times are outside of range covered by IERS table. Assuming UT1-UTC=0 for coordinate transformations. [astropy.coordinates.builtin_frames.utils]\n"
     ]
    },
    {
     "name": "stdout",
     "output_type": "stream",
     "text": [
      "0d00m00s\n",
      "Waiting 30s\n"
     ]
    }
   ],
   "source": [
    "print(\"Move to 0.0 deg starting position\")\n",
    "\n",
    "alt = 45. * u.deg\n",
    "az = 0. * u.deg\n",
    "rot_tel = Angle(0, unit= u.deg) \n",
    "\n",
    "target_name=\"Rotator test\"\n",
    "time_data = await mtptg.tel_timeAndDate.next(flush=True, timeout=2)\n",
    "curr_time_mtptg = Time(time_data.tai, format=\"mjd\", scale=\"tai\")\n",
    "time_err = curr_time_mtptg - Time.now()\n",
    "print(f\"Time error={time_err.sec:0.2f} sec\")\n",
    "\n",
    "# Compute RA/Dec for commanded az/el\n",
    "cmd_elaz = AltAz(alt=alt, az=az, \n",
    "                 obstime=curr_time_mtptg.tai, \n",
    "                 location=location)\n",
    "cmd_radec = cmd_elaz.transform_to(ICRS)\n",
    "\n",
    "# Calculating the other parameters     \n",
    "rot_pa = rot_tel\n",
    "print(rot_pa)\n",
    "await rot.cmd_trackStart.start(timeout=30.)\n",
    "    \n",
    "ack = await mtptg.cmd_raDecTarget.set_start(\n",
    "    targetName=target_name,\n",
    "    targetInstance=ATPtg.TargetInstances.CURRENT,\n",
    "    frame=ATPtg.CoordFrame.ICRS,\n",
    "    epoch=2000,  # should be ignored: no parallax or proper motion\n",
    "    equinox=2000,  # should be ignored for ICRS\n",
    "    ra=cmd_radec.ra.hour,\n",
    "    declination=cmd_radec.dec.deg,\n",
    "    parallax=0,\n",
    "    pmRA=0,\n",
    "    pmDec=0,\n",
    "    rv=0,\n",
    "    dRA=0,\n",
    "    dDec=0,\n",
    "    rotPA=180+rot_pa.deg,\n",
    "    rotFrame=ATPtg.RotFrame.FIXED,\n",
    "    rotMode=ATPtg.RotMode.FIELD,\n",
    "    timeout=10\n",
    ")\n",
    "\n",
    "print(\"Waiting 30s\")\n",
    "await asyncio.sleep(30.)"
   ]
  },
  {
   "cell_type": "code",
   "execution_count": 12,
   "metadata": {},
   "outputs": [
    {
     "data": {
      "text/plain": [
       "True"
      ]
     },
     "execution_count": 12,
     "metadata": {},
     "output_type": "execute_result"
    }
   ],
   "source": [
    "await mtptg.cmd_stopTracking.start(timeout=30)\n",
    "await rot.cmd_stop.start(timeout=30)\n",
    "\n",
    "script.evt_logMessage.set_put(level=logging.INFO+1,\n",
    "                              message=f\"START - {test_message}\")"
   ]
  },
  {
   "cell_type": "markdown",
   "metadata": {},
   "source": [
    "# Perform First Track"
   ]
  },
  {
   "cell_type": "code",
   "execution_count": 13,
   "metadata": {},
   "outputs": [
    {
     "name": "stdout",
     "output_type": "stream",
     "text": [
      "Alt: 73.57495921073964 deg\n",
      "Az: 4.273461703999071 deg\n",
      "RotTel: 25.191637478972904 deg\n",
      "RA: 331.50993172409915 deg\n",
      "Dec: -13.955009030902259 deg\n",
      "RotPA: 28.993384547298348 deg\n",
      "Waiting 31.0 s\n"
     ]
    }
   ],
   "source": [
    "field = 0\n",
    "target_name = df[\"note\"][field]\n",
    "alt = df['altitude'][field] * u.deg\n",
    "az = df['azimuth'][field] * u.deg\n",
    "rot_tel = Angle(df[\"rotTelPos\"][field]*u.deg)\n",
    "para_ang = Angle(df[\"paraAngle\"][field]*u.deg)\n",
    "rot_pa = para_ang-180*u.deg+rot_tel.wrap_at('180d')\n",
    "visit_time = df['visitTime'][field]  # how long the visit lasted. Usefull so you can wait between visits\n",
    "print(f\"Alt: {alt}\\nAz: {az}\\nRotTel: {rot_tel}\")\n",
    "\n",
    "#Here is a small trick to get the ra before transit. Get `timeAndDate` from the pointing component, then use `RA = lst - delta`.\n",
    "time_data = await mtptg.tel_timeAndDate.next(flush=True, timeout=2)\n",
    "curr_time_atptg = Time(time_data.tai, format=\"mjd\", scale=\"tai\")\n",
    "\n",
    "# Compute RA/Dec for commanded az/el\n",
    "cmd_elaz = AltAz(alt=alt, az=az, obstime=curr_time_atptg.tai, location=location)\n",
    "cmd_radec = cmd_elaz.transform_to(ICRS) # This is the RA/Dec of the target\n",
    "\n",
    "print(f\"RA: {cmd_radec.ra}\\nDec: {cmd_radec.dec}\\nRotPA: {rot_pa}\")\n",
    "\n",
    "await rot.cmd_trackStart.start(timeout=30.)\n",
    "\n",
    "ack = await mtptg.cmd_raDecTarget.set_start(\n",
    "    targetName=target_name,\n",
    "    targetInstance=ATPtg.TargetInstances.CURRENT,\n",
    "    frame=ATPtg.CoordFrame.ICRS,\n",
    "    epoch=2000,  # should be ignored: no parallax or proper motion\n",
    "    equinox=2000,  # should be ignored for ICRS\n",
    "    ra=cmd_radec.ra.hour,\n",
    "    declination=cmd_radec.dec.deg,\n",
    "    parallax=0,\n",
    "    pmRA=0,\n",
    "    pmDec=0,\n",
    "    rv=0,\n",
    "    dRA=0,\n",
    "    dDec=0,\n",
    "    rotPA=rot_pa.deg,\n",
    "    rotFrame=ATPtg.RotFrame.TARGET,\n",
    "    rotMode=ATPtg.RotMode.FIELD,\n",
    "    timeout=10.\n",
    ")\n",
    "\n",
    "print(\"Waiting\", visit_time, \"s\")\n",
    "await asyncio.sleep(visit_time)"
   ]
  },
  {
   "cell_type": "markdown",
   "metadata": {},
   "source": [
    "# Perform Filter Change - Move Command"
   ]
  },
  {
   "cell_type": "raw",
   "metadata": {},
   "source": [
    "await asyncio.sleep(0.1)\n",
    "\n",
    "print(\"Move to 0.0 deg for filter change\")\n",
    "\n",
    "await rot.cmd_positionSet.set_start(angle=0.0)\n",
    "\n",
    "rot.evt_inPosition.flush()\n",
    "\n",
    "await rot.cmd_move.start(timeout=30.)\n",
    "\n",
    "inPOS = await rot.evt_inPosition.aget()\n",
    "\n",
    "print(inPOS.inPosition)\n",
    "\n",
    "print(\"Rotator in position and waiting 120s\")\n",
    "\n",
    "await asyncio.sleep(120.)"
   ]
  },
  {
   "cell_type": "markdown",
   "metadata": {},
   "source": [
    "# Perform Filter Change - Track Command"
   ]
  },
  {
   "cell_type": "code",
   "execution_count": 14,
   "metadata": {},
   "outputs": [
    {
     "name": "stdout",
     "output_type": "stream",
     "text": [
      "Move to 0.0 deg for filter change\n",
      "Time error=-0.00 sec\n",
      "0d00m00s\n",
      "Waiting 30s to move to 0 deg\n"
     ]
    }
   ],
   "source": [
    "print(\"Move to 0.0 deg for filter change\")\n",
    "\n",
    "field = 1\n",
    "alt = df['altitude'][field] * u.deg\n",
    "az = df['azimuth'][field] * u.deg\n",
    "rot_tel = Angle(0, unit=u.deg)\n",
    "\n",
    "target_name=\"filter change\"\n",
    "time_data = await mtptg.tel_timeAndDate.next(flush=True, timeout=2)\n",
    "curr_time_mtptg = Time(time_data.tai, format=\"mjd\", scale=\"tai\")\n",
    "time_err = curr_time_mtptg - Time.now()\n",
    "print(f\"Time error={time_err.sec:0.2f} sec\")\n",
    "\n",
    "#Here is a small trick to get the ra before transit. Get `timeAndDate` from the pointing component, then use `RA = lst - delta`.\n",
    "time_data = await mtptg.tel_timeAndDate.next(flush=True, timeout=2)\n",
    "curr_time_atptg = Time(time_data.tai, format=\"mjd\", scale=\"tai\")\n",
    "\n",
    "# Compute RA/Dec for commanded az/el\n",
    "cmd_elaz = AltAz(alt=alt, az=az, obstime=curr_time_atptg.tai, location=location)\n",
    "cmd_radec = cmd_elaz.transform_to(ICRS) # This is the RA/Dec of the target\n",
    "\n",
    "script.evt_logMessage.set_put(level=logging.INFO+1,\n",
    "                              message=f\"{test_message}:[START]\")\n",
    "\n",
    "# Calculating the other parameters     \n",
    "rot_pa = rot_tel\n",
    "print(rot_pa)\n",
    "\n",
    "ack = await mtptg.cmd_raDecTarget.set_start(\n",
    "    targetName=target_name,\n",
    "    targetInstance=ATPtg.TargetInstances.CURRENT,\n",
    "    frame=ATPtg.CoordFrame.ICRS,\n",
    "    epoch=2000,  # should be ignored: no parallax or proper motion\n",
    "    equinox=2000,  # should be ignored for ICRS\n",
    "    ra=cmd_radec.ra.hour,\n",
    "    declination=cmd_radec.dec.deg,\n",
    "    parallax=0,\n",
    "    pmRA=0,\n",
    "    pmDec=0,\n",
    "    rv=0,\n",
    "    dRA=0,\n",
    "    dDec=0,\n",
    "    rotPA=180+rot_pa.deg,\n",
    "    rotFrame=ATPtg.RotFrame.FIXED,\n",
    "    rotMode=ATPtg.RotMode.FIELD,\n",
    "    timeout=10.\n",
    ")\n",
    "\n",
    "print(\"Waiting 30s to move to 0 deg\")\n",
    "await asyncio.sleep(30.)"
   ]
  },
  {
   "cell_type": "code",
   "execution_count": 15,
   "metadata": {},
   "outputs": [
    {
     "name": "stdout",
     "output_type": "stream",
     "text": [
      "Rotator in position and waiting 90s\n"
     ]
    }
   ],
   "source": [
    "print(\"Rotator in position and waiting 90s\")\n",
    "await asyncio.sleep(90.)"
   ]
  },
  {
   "cell_type": "markdown",
   "metadata": {},
   "source": [
    "# Perform Second Track"
   ]
  },
  {
   "cell_type": "code",
   "execution_count": 16,
   "metadata": {},
   "outputs": [
    {
     "name": "stdout",
     "output_type": "stream",
     "text": [
      "Alt: 68.83074605748851 deg\n",
      "Az: 8.315007012391357 deg\n",
      "RotTel: 25.832374501812186 deg\n",
      "Waiting 31.0 s\n"
     ]
    }
   ],
   "source": [
    "target_name = df[\"note\"][field]\n",
    "#alt = df['altitude'][field] * u.deg\n",
    "#az = df['azimuth'][field] * u.deg\n",
    "rot_tel = Angle(df[\"rotTelPos\"][field]*u.deg)\n",
    "para_ang = Angle(df[\"paraAngle\"][field]*u.deg)\n",
    "rot_pa = para_ang-180*u.deg+rot_tel.wrap_at('180d')\n",
    "visit_time = df['visitTime'][field]  # how long the visit lasted. Usefull so you can wait between visits\n",
    "print(f\"Alt: {alt}\\nAz: {az}\\nRotTel: {rot_tel}\")\n",
    "\n",
    "ack = await mtptg.cmd_raDecTarget.set_start(\n",
    "    targetName=target_name,\n",
    "    targetInstance=ATPtg.TargetInstances.CURRENT,\n",
    "    frame=ATPtg.CoordFrame.ICRS,\n",
    "    epoch=2000,  # should be ignored: no parallax or proper motion\n",
    "    equinox=2000,  # should be ignored for ICRS\n",
    "    ra=cmd_radec.ra.hour,\n",
    "    declination=cmd_radec.dec.deg,\n",
    "    parallax=0,\n",
    "    pmRA=0,\n",
    "    pmDec=0,\n",
    "    rv=0,\n",
    "    dRA=0,\n",
    "    dDec=0,\n",
    "    rotPA=rot_pa.deg,\n",
    "    rotFrame=ATPtg.RotFrame.TARGET,\n",
    "    rotMode=ATPtg.RotMode.FIELD,\n",
    "    timeout=10.\n",
    ")\n",
    "\n",
    "print(\"Waiting\", visit_time, \"s\")\n",
    "await asyncio.sleep(visit_time)"
   ]
  },
  {
   "cell_type": "markdown",
   "metadata": {},
   "source": [
    "# Move to Zero - Move Command"
   ]
  },
  {
   "cell_type": "raw",
   "metadata": {},
   "source": [
    "await asyncio.sleep(0.1)\n",
    "\n",
    "print(\"Move to 0.0 deg\")\n",
    "\n",
    "await rot.cmd_positionSet.set_start(angle=0.0)\n",
    "\n",
    "await rot.cmd_move.start(timeout=30.)\n",
    "\n",
    "tel = rot.tel_Application.get()\n",
    "cpos = tel.Position\n",
    "print(cpos)\n",
    "\n",
    "nLoop = \n",
    "\n",
    "print(\"Test complete\")\n",
    "\n",
    "script.evt_logMessage.set_put(level=logging.INFO+1,\n",
    "                              message=f\"END - {test_message}\")"
   ]
  },
  {
   "cell_type": "markdown",
   "metadata": {},
   "source": [
    "# Move to Park Position - Track Command"
   ]
  },
  {
   "cell_type": "code",
   "execution_count": 17,
   "metadata": {},
   "outputs": [
    {
     "name": "stdout",
     "output_type": "stream",
     "text": [
      "Move to 0.0 deg starting position\n",
      "Time error=-0.00 sec\n",
      "0d00m00s\n",
      "Waiting 30s\n"
     ]
    }
   ],
   "source": [
    "print(\"Move to 0.0 deg starting position\")\n",
    "\n",
    "alt = 60. * u.deg\n",
    "az = 0. * u.deg\n",
    "rot_tel = Angle(0, unit= u.deg) \n",
    "\n",
    "target_name=\"Rotator test\"\n",
    "time_data = await mtptg.tel_timeAndDate.next(flush=True, timeout=2)\n",
    "curr_time_mtptg = Time(time_data.tai, format=\"mjd\", scale=\"tai\")\n",
    "time_err = curr_time_mtptg - Time.now()\n",
    "print(f\"Time error={time_err.sec:0.2f} sec\")\n",
    "\n",
    "# Compute RA/Dec for commanded az/el\n",
    "cmd_elaz = AltAz(alt=alt, az=az, \n",
    "                 obstime=curr_time_mtptg.tai, \n",
    "                 location=location)\n",
    "cmd_radec = cmd_elaz.transform_to(ICRS)\n",
    "\n",
    "# Calculating the other parameters     \n",
    "rot_pa = rot_tel\n",
    "print(rot_pa)\n",
    "    \n",
    "ack = await mtptg.cmd_raDecTarget.set_start(\n",
    "    targetName=target_name,\n",
    "    targetInstance=ATPtg.TargetInstances.CURRENT,\n",
    "    frame=ATPtg.CoordFrame.ICRS,\n",
    "    epoch=2000,  # should be ignored: no parallax or proper motion\n",
    "    equinox=2000,  # should be ignored for ICRS\n",
    "    ra=cmd_radec.ra.hour,\n",
    "    declination=cmd_radec.dec.deg,\n",
    "    parallax=0,\n",
    "    pmRA=0,\n",
    "    pmDec=0,\n",
    "    rv=0,\n",
    "    dRA=0,\n",
    "    dDec=0,\n",
    "    rotPA=180+rot_pa.deg,\n",
    "    rotFrame=ATPtg.RotFrame.FIXED,\n",
    "    rotMode=ATPtg.RotMode.FIELD,\n",
    "    timeout=10\n",
    ")\n",
    "\n",
    "print(\"Waiting 30s\")\n",
    "await asyncio.sleep(30.)"
   ]
  },
  {
   "cell_type": "code",
   "execution_count": 18,
   "metadata": {},
   "outputs": [
    {
     "name": "stdout",
     "output_type": "stream",
     "text": [
      "Test complete\n"
     ]
    },
    {
     "data": {
      "text/plain": [
       "True"
      ]
     },
     "execution_count": 18,
     "metadata": {},
     "output_type": "execute_result"
    }
   ],
   "source": [
    "await mtptg.cmd_stopTracking.start(timeout=30)\n",
    "await rot.cmd_stop.start(timeout=30)\n",
    "\n",
    "print(\"Test complete\")\n",
    "\n",
    "script.evt_logMessage.set_put(level=logging.INFO+1,\n",
    "                              message=f\"END - {test_message}\")"
   ]
  },
  {
   "cell_type": "code",
   "execution_count": 19,
   "metadata": {},
   "outputs": [],
   "source": [
    "#await rot.cmd_clearError.start(timeout=10)"
   ]
  },
  {
   "cell_type": "code",
   "execution_count": 20,
   "metadata": {},
   "outputs": [],
   "source": [
    "# await asyncio.sleep(1.)\n",
    "# await salobj.set_summary_state(mtptg, salobj.State.STANDBY)\n",
    "# await salobj.set_summary_state(rot, salobj.State.STANDBY)"
   ]
  },
  {
   "cell_type": "code",
   "execution_count": null,
   "metadata": {},
   "outputs": [],
   "source": []
  }
 ],
 "metadata": {
  "kernelspec": {
   "display_name": "Python 3",
   "language": "python",
   "name": "python3"
  },
  "language_info": {
   "codemirror_mode": {
    "name": "ipython",
    "version": 3
   },
   "file_extension": ".py",
   "mimetype": "text/x-python",
   "name": "python",
   "nbconvert_exporter": "python",
   "pygments_lexer": "ipython3",
   "version": "3.7.2"
  }
 },
 "nbformat": 4,
 "nbformat_minor": 4
}
