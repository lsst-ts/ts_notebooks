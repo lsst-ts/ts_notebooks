{
 "cells": [
  {
   "cell_type": "markdown",
   "metadata": {},
   "source": [
    "## This is a notebook that verify the communication of the pointing kernel with the Mount\n",
    "It is part of a series of notebook that tests the communication between the pointing kernel and different components:\n",
    "- the mount\n",
    "- the rotator\n",
    "- M1M3\n",
    "- M2\n",
    "- Cam hexapod **\n",
    "- M2 hexapod **\n",
    "\n",
    "We will leave ComCam out of this notebook\n",
    "\n",
    "The goals of the exercice are \n",
    "- Check heartbeat from all components.\n",
    "- Make sure we can put all components in ENABLE state and back to STANDBY.\n",
    "- Check the EFD to ensure that the correct events/commands/telemetry is published\n",
    "\n",
    "This will ensure that we are ready to check the slew when needed\n"
   ]
  },
  {
   "cell_type": "code",
   "execution_count": null,
   "metadata": {},
   "outputs": [],
   "source": []
  },
  {
   "cell_type": "code",
   "execution_count": null,
   "metadata": {},
   "outputs": [],
   "source": [
    "#from lsst.ts.observatory.maintel import MTCS\n",
    "from lsst.ts import salobj\n",
    "from lsst.ts.idl.enums import ATPtg\n",
    "\n",
    "import asyncio\n",
    "\n",
    "import numpy as np\n",
    "from matplotlib import pyplot as plt\n",
    "import astropy.units as u\n",
    "from astropy.time import Time\n",
    "from astropy.coordinates import AltAz, ICRS, EarthLocation, Angle, FK5\n",
    "from astropy.utils import iers\n",
    "iers.conf.auto_download = False\n",
    "\n",
    "from datetime import datetime\n"
   ]
  },
  {
   "cell_type": "code",
   "execution_count": null,
   "metadata": {},
   "outputs": [],
   "source": []
  },
  {
   "cell_type": "code",
   "execution_count": null,
   "metadata": {},
   "outputs": [],
   "source": [
    "#domain = salobj.Domain()\n",
    "# I don't need this if I am calling a controller using script"
   ]
  },
  {
   "cell_type": "markdown",
   "metadata": {},
   "source": [
    "use NewMTMount to receive and send telemetry. This is associated with the CSC (and not the code that Tekniker wrote)"
   ]
  },
  {
   "cell_type": "code",
   "execution_count": null,
   "metadata": {},
   "outputs": [],
   "source": [
    "script = salobj.Controller(\"Script\", index=1)\n",
    "mtptg = salobj.Remote(script.domain, \"MTPtg\")\n",
    "mtm = salobj.Remote(script.domain, \"NewMTMount\")\n",
    "camHex = salobj.Remote(script.domain, \"Hexapod\", index = '1')\n",
    "m2Hex = salobj.Remote(script.domain, \"Hexapod\", index = '2')\n",
    "print(f'time to start is {datetime.now() - start_time} [s]')"
   ]
  },
  {
   "cell_type": "code",
   "execution_count": null,
   "metadata": {},
   "outputs": [],
   "source": [
    "await asyncio.gather(mtptg.start_task,\n",
    "                     script.start_task,\n",
    "                     mtm.start_task,\n",
    "                    camHex.start_task,\n",
    "                    m2Hex.start_task)"
   ]
  },
  {
   "cell_type": "code",
   "execution_count": null,
   "metadata": {},
   "outputs": [],
   "source": [
    "await mtm.evt_heartbeat.next(flush=True, timeout=5)"
   ]
  },
  {
   "cell_type": "code",
   "execution_count": null,
   "metadata": {},
   "outputs": [],
   "source": [
    "await m2Hex.evt_heartbeat.next(flush=True, timeout=5)"
   ]
  },
  {
   "cell_type": "code",
   "execution_count": null,
   "metadata": {},
   "outputs": [],
   "source": [
    "#Check which hexapod we are controlling\n",
    "whichHex1 = await camHex.configuration.aget(timeout=10.)\n",
    "print(\"Hexapod camHex\", whichHex1.HexapodID)\n",
    "print(camHex.salinfo.index)\n",
    "\n",
    "whichHex2 = await m2Hex.configuration.aget(timeout=10.)\n",
    "print(\"Hexapod m2Hex\", whichHex2.HexapodID)\n",
    "print(m2Hex.salinfo.index)"
   ]
  },
  {
   "cell_type": "code",
   "execution_count": null,
   "metadata": {},
   "outputs": [],
   "source": [
    "await salobj.set_summary_state(mtptg, salobj.State.ENABLED)\n",
    "await salobj.set_summary_state(mtm, salobj.State.ENABLED)\n",
    "await camHex.set_summary_state(camHex, salobj.State.ENABLED)\n",
    "await m2Hex.set_summary_state(m2Hex, salobj.State.ENABLED)"
   ]
  },
  {
   "cell_type": "code",
   "execution_count": null,
   "metadata": {},
   "outputs": [],
   "source": [
    "location = EarthLocation.from_geodetic(lon=-70.747698*u.deg,\n",
    "                                       lat=-30.244728*u.deg,\n",
    "                                       height=2663.0*u.m)"
   ]
  },
  {
   "cell_type": "code",
   "execution_count": null,
   "metadata": {},
   "outputs": [],
   "source": [
    "now = datetime.now()\n",
    "print(\"Start to point the telescope\", now)\n",
    "\n",
    "alt = 75. * u.deg\n",
    "az = 25. * u.deg\n",
    "rot_tel = Angle(20, unit= u.deg) \n",
    "\n",
    "target_name=\"TMA motion test\"\n",
    "#getting time for the pointing to ensure that we're using the time that the mount seems it is\n",
    "time_data = await mtptg.tel_timeAndDate.next(flush=True, timeout=2)\n",
    "#Convert the astropy class\n",
    "curr_time_mtptg = Time(time_data.mjd, format=\"mjd\", scale=\"tai\")\n",
    "#Check that we're getting the right time\n",
    "time_err = curr_time_mtptg - Time.now()\n",
    "print(f\"Time error={time_err.sec:0.2f} sec\")\n",
    "print(curr_time_mtptg.tai.value)\n",
    "\n",
    "#create the object with the alt az coordinate + time to be able to convert them in RA and Dec\n",
    "cmd_elaz = AltAz(alt=alt, az=az, \n",
    "                obstime=curr_time_mtptg.tai, \n",
    "                location=location)\n",
    "cmd_radec = cmd_elaz.transform_to(ICRS)\n",
    "\n",
    "# Calculating the other parameters      \n",
    "rot_pa = rot_tel\n",
    "print(rot_pa)  \n"
   ]
  },
  {
   "cell_type": "code",
   "execution_count": null,
   "metadata": {},
   "outputs": [],
   "source": [
    "#The pointing component is commanding the mount directly\n",
    "ack = await mtptg.cmd_raDecTarget.set_start(\n",
    "    targetName=target_name,\n",
    "    frame=ATPtg.CoordFrame.ICRS,\n",
    "    epoch=2000,  # should be ignored: no parallax or proper motion\n",
    "    equinox=2000,  # should be ignored for ICRS\n",
    "    ra=cmd_radec.ra.hour,\n",
    "    declination=cmd_radec.dec.deg,\n",
    "    parallax=0,\n",
    "    pmRA=0,\n",
    "    pmDec=0,\n",
    "    rv=0,\n",
    "    dRA=0,\n",
    "    dDec=0,\n",
    "    rotPA=rot_pa.deg-180,\n",
    "    rotFrame=ATPtg.RotFrame.FIXED,\n",
    "    rotMode=ATPtg.RotMode.FIELD,\n",
    "    timeout=10\n",
    ")\n",
    "\n",
    "print(\"Waiting 30s\")\n",
    "await asyncio.sleep(30.)"
   ]
  },
  {
   "cell_type": "markdown",
   "metadata": {},
   "source": [
    "Check Commands... apparently we need to check the telemetry on the mtmount instead of newmtmount"
   ]
  },
  {
   "cell_type": "code",
   "execution_count": null,
   "metadata": {},
   "outputs": [],
   "source": [
    "mtmold = salobj.Remote(script.domain, \"MTMount\")\n",
    "rot = salobj.Remote(script.domain, \"Rotator\")"
   ]
  },
  {
   "cell_type": "code",
   "execution_count": null,
   "metadata": {},
   "outputs": [],
   "source": [
    "print(mtm.salinfo.command_names)"
   ]
  },
  {
   "cell_type": "markdown",
   "metadata": {},
   "source": [
    "Check Telemetry"
   ]
  },
  {
   "cell_type": "code",
   "execution_count": null,
   "metadata": {},
   "outputs": [],
   "source": [
    "camHexPosition = await camHex.actuators.aget(timeout=10.)\n",
    "print(\"camera Hexapod positions\", camHexPosition.HexapodID,  camHexPosition.calibrated0,  camHexPosition.calibrated1,  camHexPosition.calibrated2,  camHexPosition.calibrated3,  camHexPosition.calibrated4,  camHexPosition.calibrated5)"
   ]
  },
  {
   "cell_type": "code",
   "execution_count": null,
   "metadata": {},
   "outputs": [],
   "source": [
    "m2HexPosition = await m2Hex.actuators.aget(timeout=10.)\n",
    "print(\"M2 Hexapod positions\", m2HexPosition.HexapodID,  m2HexPosition.calibrated0,  m2HexPosition.calibrated1,  m2HexPosition.calibrated2,  m2HexPosition.calibrated3,  m2HexPosition.calibrated4,  m2HexPosition.calibrated5)"
   ]
  },
  {
   "cell_type": "markdown",
   "metadata": {},
   "source": [
    "Check Events"
   ]
  },
  {
   "cell_type": "code",
   "execution_count": null,
   "metadata": {},
   "outputs": [],
   "source": [
    "print(mtm.salinfo.event_names)"
   ]
  },
  {
   "cell_type": "code",
   "execution_count": null,
   "metadata": {},
   "outputs": [],
   "source": [
    "target = await mtm.evt_target.aget() \n",
    "#mtm.tel_Elevation.aget()\n",
    "rotAngle = await rot.evt_target.aget()"
   ]
  },
  {
   "cell_type": "code",
   "execution_count": null,
   "metadata": {},
   "outputs": [],
   "source": [
    "now = datetime.now()\n",
    "print(now)\n",
    "print(\"elevation\",target.elevation)\n",
    "print(\"Azimuth\",target.azimuth)\n",
    "print(\"Rotator\",rotAngle.position)"
   ]
  },
  {
   "cell_type": "markdown",
   "metadata": {},
   "source": [
    "I now want to do the same but with a field coordinate instead of a Alt Az mount position"
   ]
  },
  {
   "cell_type": "code",
   "execution_count": null,
   "metadata": {},
   "outputs": [],
   "source": []
  },
  {
   "cell_type": "markdown",
   "metadata": {},
   "source": [
    "#what is the official way to shutdown the system."
   ]
  },
  {
   "cell_type": "code",
   "execution_count": null,
   "metadata": {},
   "outputs": [],
   "source": [
    "await mtptg.cmd_stopTracking.start(timeout=10.)"
   ]
  },
  {
   "cell_type": "code",
   "execution_count": null,
   "metadata": {},
   "outputs": [],
   "source": []
  }
 ],
 "metadata": {
  "kernelspec": {
   "display_name": "LSST",
   "language": "python",
   "name": "lsst"
  },
  "language_info": {
   "codemirror_mode": {
    "name": "ipython",
    "version": 3
   },
   "file_extension": ".py",
   "mimetype": "text/x-python",
   "name": "python",
   "nbconvert_exporter": "python",
   "pygments_lexer": "ipython3",
   "version": "3.7.6"
  }
 },
 "nbformat": 4,
 "nbformat_minor": 4
}
