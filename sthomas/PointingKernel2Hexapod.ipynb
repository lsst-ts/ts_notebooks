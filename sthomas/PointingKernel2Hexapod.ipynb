{
 "cells": [
  {
   "cell_type": "markdown",
   "metadata": {},
   "source": [
    "## This is a notebook that verify the communication of the pointing kernel with the hexapods (including the rotator and Mount)\n",
    "It is part of a series of notebook that tests the communication between the pointing kernel and different components:\n",
    "- the mount\n",
    "- the rotator\n",
    "- M1M3\n",
    "- M2\n",
    "- Cam hexapod\n",
    "- M2 hexapod\n",
    "We will leave ComCam out of this notebook\n",
    "\n",
    "The goals of the exercice are \n",
    "- Check heartbeat from all components.\n",
    "- Make sure we can put all components in ENABLE state and back to STANDBY.\n",
    "- Check the EFD to ensure that the correct events/commands/telemetry is published\n",
    "\n",
    "This will ensure that we are ready to check the slew when needed\n"
   ]
  },
  {
   "cell_type": "markdown",
   "metadata": {},
   "source": [
    "Library loading"
   ]
  },
  {
   "cell_type": "code",
   "execution_count": 1,
   "metadata": {},
   "outputs": [
    {
     "name": "stderr",
     "output_type": "stream",
     "text": [
      "\n",
      "Bad key \"text.kerning_factor\" on line 4 in\n",
      "/opt/lsst/software/stack/conda/miniconda3-py37_4.8.2/envs/lsst-scipipe-cb4e2dc/lib/python3.7/site-packages/matplotlib/mpl-data/stylelib/_classic_test_patch.mplstyle.\n",
      "You probably need to get an updated matplotlibrc file from\n",
      "http://github.com/matplotlib/matplotlib/blob/master/matplotlibrc.template\n",
      "or from the matplotlib source distribution\n"
     ]
    }
   ],
   "source": [
    "#from lsst.ts.observatory.maintel import MTCS\n",
    "from lsst.ts import salobj\n",
    "from lsst.ts.idl.enums import ATPtg\n",
    "\n",
    "import asyncio\n",
    "\n",
    "import numpy as np\n",
    "from matplotlib import pyplot as plt\n",
    "import astropy.units as u\n",
    "from astropy.time import Time\n",
    "from astropy.coordinates import AltAz, ICRS, EarthLocation, Angle, FK5\n",
    "from astropy.utils import iers\n",
    "iers.conf.auto_download = True\n",
    "\n",
    "from datetime import datetime\n"
   ]
  },
  {
   "cell_type": "markdown",
   "metadata": {},
   "source": [
    "## Set up -> things that would go into the tcs script"
   ]
  },
  {
   "cell_type": "code",
   "execution_count": null,
   "metadata": {},
   "outputs": [],
   "source": [
    "now = datetime.now()"
   ]
  },
  {
   "cell_type": "code",
   "execution_count": 46,
   "metadata": {
    "collapsed": true,
    "jupyter": {
     "outputs_hidden": true
    }
   },
   "outputs": [
    {
     "ename": "RuntimeError",
     "evalue": "Cannot find IDL file /opt/lsst/src/ts_idl/idl/sal_revCoded_NewMTMount.idl for name='NewMTMount'",
     "output_type": "error",
     "traceback": [
      "\u001b[0;31m---------------------------------------------------------------------------\u001b[0m",
      "\u001b[0;31mRuntimeError\u001b[0m                              Traceback (most recent call last)",
      "\u001b[0;32m<ipython-input-46-27cad693b8f9>\u001b[0m in \u001b[0;36masync-def-wrapper\u001b[0;34m()\u001b[0m\n\u001b[1;32m      9\u001b[0m \u001b[0mprint\u001b[0m\u001b[0;34m(\u001b[0m\u001b[0;34mf'time to start is {datetime.now() - start_time} [s]'\u001b[0m\u001b[0;34m)\u001b[0m\u001b[0;34m\u001b[0m\u001b[0;34m\u001b[0m\u001b[0m\n",
      "\u001b[0;32m/opt/lsst/src/ts_salobj/python/lsst/ts/salobj/remote.py\u001b[0m in \u001b[0;36m__init__\u001b[0;34m(self, domain, name, index, readonly, include, exclude, evt_max_history, tel_max_history, start)\u001b[0m\n\u001b[1;32m    164\u001b[0m             \u001b[0;32mraise\u001b[0m \u001b[0mTypeError\u001b[0m\u001b[0;34m(\u001b[0m\u001b[0;34mf\"domain {domain!r} must be an lsst.ts.salobj.Domain\"\u001b[0m\u001b[0;34m)\u001b[0m\u001b[0;34m\u001b[0m\u001b[0;34m\u001b[0m\u001b[0m\n\u001b[1;32m    165\u001b[0m \u001b[0;34m\u001b[0m\u001b[0m\n\u001b[0;32m--> 166\u001b[0;31m         \u001b[0mself\u001b[0m\u001b[0;34m.\u001b[0m\u001b[0msalinfo\u001b[0m \u001b[0;34m=\u001b[0m \u001b[0mSalInfo\u001b[0m\u001b[0;34m(\u001b[0m\u001b[0mdomain\u001b[0m\u001b[0;34m=\u001b[0m\u001b[0mdomain\u001b[0m\u001b[0;34m,\u001b[0m \u001b[0mname\u001b[0m\u001b[0;34m=\u001b[0m\u001b[0mname\u001b[0m\u001b[0;34m,\u001b[0m \u001b[0mindex\u001b[0m\u001b[0;34m=\u001b[0m\u001b[0mindex\u001b[0m\u001b[0;34m)\u001b[0m\u001b[0;34m\u001b[0m\u001b[0;34m\u001b[0m\u001b[0m\n\u001b[0m\u001b[1;32m    167\u001b[0m         \u001b[0;32mtry\u001b[0m\u001b[0;34m:\u001b[0m\u001b[0;34m\u001b[0m\u001b[0;34m\u001b[0m\u001b[0m\n\u001b[1;32m    168\u001b[0m             \u001b[0;32mif\u001b[0m \u001b[0;32mnot\u001b[0m \u001b[0mreadonly\u001b[0m\u001b[0;34m:\u001b[0m\u001b[0;34m\u001b[0m\u001b[0;34m\u001b[0m\u001b[0m\n",
      "\u001b[0;32m/opt/lsst/src/ts_salobj/python/lsst/ts/salobj/sal_info.py\u001b[0m in \u001b[0;36m__init__\u001b[0;34m(self, domain, name, index)\u001b[0m\n\u001b[1;32m    317\u001b[0m         \u001b[0;32mif\u001b[0m \u001b[0;32mnot\u001b[0m \u001b[0midl_path\u001b[0m\u001b[0;34m.\u001b[0m\u001b[0mis_file\u001b[0m\u001b[0;34m(\u001b[0m\u001b[0;34m)\u001b[0m\u001b[0;34m:\u001b[0m\u001b[0;34m\u001b[0m\u001b[0;34m\u001b[0m\u001b[0m\n\u001b[1;32m    318\u001b[0m             raise RuntimeError(\n\u001b[0;32m--> 319\u001b[0;31m                 \u001b[0;34mf\"Cannot find IDL file {idl_path} for name={self.name!r}\"\u001b[0m\u001b[0;34m\u001b[0m\u001b[0;34m\u001b[0m\u001b[0m\n\u001b[0m\u001b[1;32m    320\u001b[0m             )\n\u001b[1;32m    321\u001b[0m         \u001b[0mself\u001b[0m\u001b[0;34m.\u001b[0m\u001b[0mmetadata\u001b[0m \u001b[0;34m=\u001b[0m \u001b[0midl_metadata\u001b[0m\u001b[0;34m.\u001b[0m\u001b[0mparse_idl\u001b[0m\u001b[0;34m(\u001b[0m\u001b[0mname\u001b[0m\u001b[0;34m=\u001b[0m\u001b[0mself\u001b[0m\u001b[0;34m.\u001b[0m\u001b[0mname\u001b[0m\u001b[0;34m,\u001b[0m \u001b[0midl_path\u001b[0m\u001b[0;34m=\u001b[0m\u001b[0midl_path\u001b[0m\u001b[0;34m)\u001b[0m\u001b[0;34m\u001b[0m\u001b[0;34m\u001b[0m\u001b[0m\n",
      "\u001b[0;31mRuntimeError\u001b[0m: Cannot find IDL file /opt/lsst/src/ts_idl/idl/sal_revCoded_NewMTMount.idl for name='NewMTMount'"
     ]
    },
    {
     "name": "stderr",
     "output_type": "stream",
     "text": [
      "guidingAndOffsets DDS read queue is filling: 10 of 100 elements\n",
      "currentTargetStatus DDS read queue is filling: 10 of 100 elements\n"
     ]
    }
   ],
   "source": [
    "start_time = datetime.now()\n",
    "script = salobj.Controller(\"Script\", index=1)\n",
    "#add a sleep right now (january 2021)\n",
    "await asyncio.sleep(10.)\n",
    "\n",
    "mtptg = salobj.Remote(script.domain, \"MTPtg\")\n",
    "rot = salobj.Remote(script.domain, \"MTRotator\")\n",
    "print(f'time to start is {datetime.now() - start_time} [s]')"
   ]
  },
  {
   "cell_type": "code",
   "execution_count": null,
   "metadata": {},
   "outputs": [],
   "source": [
    "mtm = salobj.Remote(script.domain, \"NewMTMount\")"
   ]
  },
  {
   "cell_type": "code",
   "execution_count": 3,
   "metadata": {},
   "outputs": [
    {
     "name": "stderr",
     "output_type": "stream",
     "text": [
      "tracking DDS read queue is filling: 80 of 100 elements\n",
      "target DDS read queue is full (100 elements); data may be lost\n",
      "electrical DDS read queue is filling: 12 of 100 elements\n",
      "application DDS read queue is filling: 12 of 100 elements\n",
      "actuators DDS read queue is filling: 13 of 100 elements\n"
     ]
    }
   ],
   "source": [
    "camHex = salobj.Remote(script.domain, \"MTHexapod\", index = '1')\n",
    "m2Hex = salobj.Remote(script.domain, \"MTHexapod\", index = '2')\n",
    "#print(f'time to start is {datetime.now() - start_time} [s]')"
   ]
  },
  {
   "cell_type": "code",
   "execution_count": 5,
   "metadata": {},
   "outputs": [
    {
     "data": {
      "text/plain": [
       "[None, None, None, None, None]"
      ]
     },
     "execution_count": 5,
     "metadata": {},
     "output_type": "execute_result"
    }
   ],
   "source": [
    "await asyncio.gather(mtptg.start_task,\n",
    "                     script.start_task,\n",
    "                     rot.start_task,\n",
    "                     camHex.start_task,\n",
    "                     m2Hex.start_task)"
   ]
  },
  {
   "cell_type": "code",
   "execution_count": null,
   "metadata": {},
   "outputs": [],
   "source": [
    "await mtptg.evt_heartbeat.next(flush=True, timeout=5)"
   ]
  },
  {
   "cell_type": "code",
   "execution_count": null,
   "metadata": {},
   "outputs": [],
   "source": [
    "await rot.evt_heartbeat.next(flush=True, timeout=5)\n",
    "await camHex.evt_heartbeat.next(flush=True, timeout=5)\n",
    "await m2Hex.evt_heartbeat.next(flush=True, timeout=5)"
   ]
  },
  {
   "cell_type": "code",
   "execution_count": null,
   "metadata": {},
   "outputs": [],
   "source": [
    "summary_state =  await mtptg.evt_summaryState.aget(timeout=5)\n",
    "print(salobj.State(summary_state.summaryState))"
   ]
  },
  {
   "cell_type": "markdown",
   "metadata": {},
   "source": [
    "#await mtptg.cmd_start.start(timeout=5)\n",
    "I don't need it? depends… if the mtptg is enable, then you don’t need it\n",
    "you can replace that one with\n",
    "await salobj.set_summary_state(mtptg, salobj.State.ENABLED)\n",
    "which will make sure the CSC is in enabled state at the end…"
   ]
  },
  {
   "cell_type": "markdown",
   "metadata": {},
   "source": [
    "Check the state of the system"
   ]
  },
  {
   "cell_type": "code",
   "execution_count": 13,
   "metadata": {},
   "outputs": [
    {
     "data": {
      "text/plain": [
       "[<State.FAULT: 3>, <State.STANDBY: 5>, <State.DISABLED: 1>, <State.ENABLED: 2>]"
      ]
     },
     "execution_count": 13,
     "metadata": {},
     "output_type": "execute_result"
    }
   ],
   "source": [
    "await salobj.set_summary_state(mtptg, salobj.State.ENABLED)"
   ]
  },
  {
   "cell_type": "code",
   "execution_count": 14,
   "metadata": {},
   "outputs": [
    {
     "data": {
      "text/plain": [
       "[<State.STANDBY: 5>, <State.DISABLED: 1>, <State.ENABLED: 2>]"
      ]
     },
     "execution_count": 14,
     "metadata": {},
     "output_type": "execute_result"
    }
   ],
   "source": [
    "await salobj.set_summary_state(rot, salobj.State.ENABLED)"
   ]
  },
  {
   "cell_type": "code",
   "execution_count": null,
   "metadata": {},
   "outputs": [],
   "source": [
    "await salobj.set_summary_state(m2Hex, salobj.State.ENABLED)"
   ]
  },
  {
   "cell_type": "code",
   "execution_count": null,
   "metadata": {},
   "outputs": [],
   "source": [
    "await salobj.set_summary_state(camHex, salobj.State.ENABLED)"
   ]
  },
  {
   "cell_type": "code",
   "execution_count": null,
   "metadata": {},
   "outputs": [],
   "source": [
    "await salobj.set_summary_state(m1m3, salobj.State.STANDBY, timeout=5)"
   ]
  },
  {
   "cell_type": "code",
   "execution_count": null,
   "metadata": {},
   "outputs": [],
   "source": [
    "await salobj.set_summary_state(m1m3, salobj.State.ENABLED, settingsToApply=\"Default\", timeout=5)"
   ]
  },
  {
   "cell_type": "code",
   "execution_count": null,
   "metadata": {},
   "outputs": [],
   "source": [
    "await m1m3.cmd_setLogLevel.set_start(level=50)"
   ]
  },
  {
   "cell_type": "code",
   "execution_count": null,
   "metadata": {},
   "outputs": [],
   "source": [
    "#Check which hexapod we are controlling\n",
    "whichHex1 = await camHex.evt_configuration.aget(timeout=10.)\n",
    "print(\"Hexapod camHex\", whichHex1.MTHexapodID)\n",
    "print(camHex.salinfo.index)\n",
    "\n",
    "whichHex2 = await m2Hex.evt_configuration.aget(timeout=10.)\n",
    "print(\"Hexapod m2Hex\", whichHex2.MTHexapodID)\n",
    "print(m2Hex.salinfo.index)"
   ]
  },
  {
   "cell_type": "code",
   "execution_count": null,
   "metadata": {},
   "outputs": [],
   "source": [
    "print(whichHex1)"
   ]
  },
  {
   "cell_type": "code",
   "execution_count": null,
   "metadata": {},
   "outputs": [],
   "source": [
    "camHexPosition0 = await camHex.tel_actuators.aget(timeout=10.)\n",
    "print(camHexPosition0)"
   ]
  },
  {
   "cell_type": "code",
   "execution_count": null,
   "metadata": {},
   "outputs": [],
   "source": [
    "#print(\"camera Hexapod positions\", camHexPosition.MTHexapodID,  camHexPosition.calibrated0,  camHexPosition.calibrated1,  camHexPosition.calibrated2,  camHexPosition.calibrated3,  camHexPosition.calibrated4,  camHexPosition.calibrated5)\n",
    "print(\"camera Hexapod positions\", camHexPosition0.MTHexapodID,  camHexPosition0.calibrated)"
   ]
  },
  {
   "cell_type": "code",
   "execution_count": null,
   "metadata": {},
   "outputs": [],
   "source": [
    "m2HexPosition0 = await m2Hex.tel_actuators.aget(timeout=10.)\n",
    "print(\"M2 Hexapod positions\", m2HexPosition0.MTHexapodID,  m2HexPosition0.calibrated)"
   ]
  },
  {
   "cell_type": "markdown",
   "metadata": {},
   "source": [
    "Enter the location for the telescope for the pointing"
   ]
  },
  {
   "cell_type": "code",
   "execution_count": 15,
   "metadata": {},
   "outputs": [],
   "source": [
    "location = EarthLocation.from_geodetic(lon=-70.747698*u.deg,\n",
    "                                       lat=-30.244728*u.deg,\n",
    "                                       height=2663.0*u.m)"
   ]
  },
  {
   "cell_type": "code",
   "execution_count": null,
   "metadata": {},
   "outputs": [],
   "source": [
    "#Get the elevation and rotator angle at the beginning of a run.\n"
   ]
  },
  {
   "cell_type": "code",
   "execution_count": null,
   "metadata": {},
   "outputs": [],
   "source": [
    "mtptgDemand0 = await mtptg.tel_currentTargetStatus.aget(timeout=10.)\n",
    "print(\"Current target status\")\n",
    "print(\"Az\", mtptgDemand0.demandAz, \"El\", mtptgDemand0.demandEl, \"Rot\", mtptgDemand0.demandRot )"
   ]
  },
  {
   "cell_type": "code",
   "execution_count": null,
   "metadata": {},
   "outputs": [],
   "source": [
    "# enable the hexapods LUT compensation\n",
    "await m2Hex.cmd_setCompensationMode.set_start(enable=1, timeout=10)\n",
    "await camHex.cmd_setCompensationMode.set_start(enable=1, timeout=10)"
   ]
  },
  {
   "cell_type": "markdown",
   "metadata": {},
   "source": [
    "## Start of a first slew. Elevation of 80"
   ]
  },
  {
   "cell_type": "code",
   "execution_count": 16,
   "metadata": {},
   "outputs": [
    {
     "name": "stdout",
     "output_type": "stream",
     "text": [
      "Start to point the telescope 2021-02-05 22:20:18.701361\n",
      "Time error=27.00 sec\n",
      "59250.9315136765\n",
      "0d00m00s\n"
     ]
    }
   ],
   "source": [
    "now = datetime.now()\n",
    "print(\"Start to point the telescope\", now)\n",
    "\n",
    "alt = 70. * u.deg\n",
    "az = 25. * u.deg\n",
    "rot_tel = Angle(0, unit= u.deg) \n",
    "\n",
    "target_name=\"TMA motion test\"\n",
    "#getting time for the pointing to ensure that we're using the time that the mount seems it is\n",
    "time_data = await mtptg.tel_timeAndDate.next(flush=True, timeout=2)\n",
    "#Convert the astropy class\n",
    "curr_time_mtptg = Time(time_data.mjd, format=\"mjd\", scale=\"tai\")\n",
    "#Check that we're getting the right time\n",
    "time_err = curr_time_mtptg - Time.now()\n",
    "print(f\"Time error={time_err.sec:0.2f} sec\")\n",
    "print(curr_time_mtptg.tai.value)\n",
    "\n",
    "#create the object with the alt az coordinate + time to be able to convert them in RA and Dec\n",
    "cmd_elaz = AltAz(alt=alt, az=az, \n",
    "                obstime=curr_time_mtptg.tai, \n",
    "                location=location)\n",
    "cmd_radec = cmd_elaz.transform_to(ICRS)\n",
    "\n",
    "# Calculating the other parameters      \n",
    "rot_pa = rot_tel\n",
    "print(rot_pa)  \n"
   ]
  },
  {
   "cell_type": "code",
   "execution_count": null,
   "metadata": {},
   "outputs": [],
   "source": [
    "mtptgDemand = await mtptg.tel_currentTargetStatus.aget(timeout=10.)\n",
    "print(\"Current target status\")\n",
    "print(\"Az\", mtptgDemand.demandAz, \"El\", mtptgDemand.demandEl, \"Rot\", mtptgDemand.demandRot )"
   ]
  },
  {
   "cell_type": "code",
   "execution_count": 17,
   "metadata": {},
   "outputs": [
    {
     "name": "stdout",
     "output_type": "stream",
     "text": [
      "Waiting 30s\n",
      "System Ready\n"
     ]
    }
   ],
   "source": [
    "#The pointing component is commanding the mount directly\n",
    "ack = await mtptg.cmd_raDecTarget.set_start(\n",
    "    targetName=target_name,\n",
    "    frame=ATPtg.CoordFrame.ICRS,\n",
    "    epoch=2000,  # should be ignored: no parallax or proper motion\n",
    "    equinox=2000,  # should be ignored for ICRS\n",
    "    ra=cmd_radec.ra.hour,\n",
    "    declination=cmd_radec.dec.deg,\n",
    "    parallax=0,\n",
    "    pmRA=0,\n",
    "    pmDec=0,\n",
    "    rv=0,\n",
    "    dRA=0,\n",
    "    dDec=0,\n",
    "    rotPA=rot_pa.deg-180,\n",
    "    rotFrame=ATPtg.RotFrame.FIXED,\n",
    "    rotMode=ATPtg.RotMode.FIELD,\n",
    "    timeout=10\n",
    ")\n",
    "\n",
    "print(\"Waiting 30s\")\n",
    "await asyncio.sleep(30.)\n",
    "print(\"System Ready\")"
   ]
  },
  {
   "cell_type": "markdown",
   "metadata": {},
   "source": [
    "## Check telemetry, only if no"
   ]
  },
  {
   "cell_type": "code",
   "execution_count": null,
   "metadata": {},
   "outputs": [],
   "source": [
    "print(camHex.salinfo.command_names)"
   ]
  },
  {
   "cell_type": "code",
   "execution_count": 26,
   "metadata": {},
   "outputs": [
    {
     "name": "stdout",
     "output_type": "stream",
     "text": [
      "('actuatorInPosition', 'appliedSettingsMatchStart', 'authList', 'commandableByDDS', 'compensatedPosition', 'compensationMode', 'compensationOffset', 'configuration', 'connected', 'controllerState', 'errorCode', 'heartbeat', 'inPosition', 'interlock', 'logLevel', 'logMessage', 'settingVersions', 'settingsApplied', 'simulationMode', 'softwareVersions', 'summaryState', 'uncompensatedPosition')\n"
     ]
    }
   ],
   "source": [
    "print(camHex.salinfo.event_names)"
   ]
  },
  {
   "cell_type": "code",
   "execution_count": null,
   "metadata": {},
   "outputs": [],
   "source": [
    "mtptgDemand = await mtptg.tel_currentTargetStatus.aget(timeout=10.)\n",
    "print(\"Current target status\")\n",
    "print(\"Az\", mtptgDemand.demandAz, \"El\", mtptgDemand.demandEl, \"Rot\", mtptgDemand.demandRot )\n",
    "ElMat = np.array(mtptgDemand.demandEl)\n",
    "\n",
    "rotAngle = await rot.tel_rotation.aget()\n",
    "print(rotAngle.actualPosition)\n",
    "\n",
    "#print(\"camera Hexapod positions\", camHexPosition.MTHexapodID,  camHexPosition.calibrated0,  camHexPosition.calibrated1,  camHexPosition.calibrated2,  camHexPosition.calibrated3,  camHexPosition.calibrated4,  camHexPosition.calibrated5)\n",
    "camHexPosition = await camHex.tel_actuators.aget(timeout=10.)\n",
    "print(\"camera Hexapod positions\", camHexPosition.MTHexapodID,  camHexPosition.calibrated)\n",
    "camHexPosMat = np.array(camHexPosition.calibrated)\n",
    "\n",
    "m2HexPosition = await m2Hex.tel_actuators.aget(timeout=10.)\n",
    "print(\"M2 Hexapod positions\", m2HexPosition.MTHexapodID,  m2HexPosition.calibrated)\n",
    "m2HexPosMat = np.array(m2HexPosition.calibrated)\n",
    "\n",
    "#Comparison between the actuator position before and after the move\n",
    "#m2DiffHexpos = list(set(m2HexPosition.calibrated) - set(m2HexPosition0.calibrated))\n",
    "#print(\"M2 Hex motion\", m2DiffHexpos)\n",
    "#camDiffHexpos = list(set(camHexPosition.calibrated) - set(camHexPosition0.calibrated))\n",
    "#print(\"Cam Hex motion\", camDiffHexpos)"
   ]
  },
  {
   "cell_type": "raw",
   "metadata": {},
   "source": [
    "mtptgDemand = await mtptg.tel_currentTargetStatus.aget(timeout=10.)\n",
    "ElMat = np.array(mtptgDemand.demandEl)\n",
    "camHexPosition = await camHex.tel_actuators.aget(timeout=10.)\n",
    "camHexPosMat = np.array(camHexPosition.calibrated)\n",
    "m2HexPosition = await m2Hex.tel_actuators.aget(timeout=10.)\n",
    "m2HexPosMat = np.array(m2HexPosition.calibrated)"
   ]
  },
  {
   "cell_type": "markdown",
   "metadata": {},
   "source": [
    "# Start to loop a few Elevations"
   ]
  },
  {
   "cell_type": "code",
   "execution_count": 21,
   "metadata": {},
   "outputs": [
    {
     "name": "stdout",
     "output_type": "stream",
     "text": [
      "[80 70 60 50 40 30 20]\n"
     ]
    }
   ],
   "source": [
    "ElInputMat = np.arange(80,40,-10)\n",
    "print(ElInputMat)"
   ]
  },
  {
   "cell_type": "code",
   "execution_count": 22,
   "metadata": {},
   "outputs": [
    {
     "name": "stdout",
     "output_type": "stream",
     "text": [
      "Start to point the telescope 2021-02-05 22:23:43.849834\n",
      "Elevation is 80\n",
      "Time error=27.00 sec\n",
      "59250.93388928543\n",
      "0d00m00s\n",
      "Waiting 30s\n",
      "System Ready\n",
      "Current target status\n",
      "Az 24.385540253830357 El 80.04689232339828 Rot -4.1382008930668235e-11\n",
      "Start to point the telescope 2021-02-05 22:24:14.062621\n",
      "Elevation is 70\n",
      "Time error=27.00 sec\n",
      "59250.934236885354\n",
      "0d00m00s\n",
      "Waiting 30s\n",
      "System Ready\n",
      "Current target status\n",
      "Az 24.671204363929544 El 70.04935617446937 Rot 1.5722117901410456e-10\n",
      "Start to point the telescope 2021-02-05 22:24:44.103422\n",
      "Elevation is 60\n",
      "Time error=26.99 sec\n",
      "59250.93458453569\n",
      "0d00m00s\n",
      "Waiting 30s\n",
      "System Ready\n",
      "Current target status\n",
      "Az 24.76982798281744 El 60.05203154736684 Rot 6.284776050571909e-11\n",
      "Start to point the telescope 2021-02-05 22:25:14.145345\n",
      "Elevation is 50\n",
      "Time error=27.00 sec\n",
      "59250.93493451153\n",
      "0d00m00s\n",
      "Waiting 30s\n",
      "System Ready\n",
      "Current target status\n",
      "Az 24.822239931417176 El 50.05525084832555 Rot 2.1388594121905857e-10\n",
      "Start to point the telescope 2021-02-05 22:25:44.375506\n",
      "Elevation is 40\n",
      "Time error=27.00 sec\n",
      "59250.93528217255\n",
      "0d00m00s\n",
      "Waiting 30s\n",
      "System Ready\n",
      "Current target status\n",
      "Az 24.85643588147379 El 40.05954285421443 Rot -5.633182809106074e-11\n",
      "Start to point the telescope 2021-02-05 22:26:14.415143\n",
      "Elevation is 30\n",
      "Time error=27.00 sec\n",
      "59250.9356298161\n",
      "0d00m00s\n",
      "Waiting 30s\n",
      "System Ready\n",
      "Current target status\n",
      "Az 24.88199598831427 El 30.06599036762217 Rot -3.597051545511931e-10\n",
      "Start to point the telescope 2021-02-05 22:26:44.447025\n",
      "Elevation is 20\n",
      "Time error=27.00 sec\n",
      "59250.93597744302\n",
      "0d00m00s\n",
      "Waiting 30s\n",
      "System Ready\n",
      "Current target status\n",
      "Az 24.90260760977557 El 20.078076757394264 Rot 6.076131663467903e-11\n",
      "End of loop\n"
     ]
    }
   ],
   "source": [
    "ElMat = []\n",
    "camHexPosMat = [] \n",
    "m2HexPosMat = [] \n",
    "camHexPosDemMat = [] \n",
    "m2HexPosDemMat = [] \n",
    "\n",
    "for El in ElInputMat: \n",
    "    now = datetime.now()\n",
    "    print(\"Start to point the telescope\", now) \n",
    "    print(\"Elevation is\", El)\n",
    "\n",
    "    alt = El * u.deg\n",
    "    az = 25. * u.deg\n",
    "    rot_tel = Angle(0, unit= u.deg) \n",
    "\n",
    "    target_name=\"TMA motion test\"\n",
    "    #getting time for the pointing to ensure that we're using the time that the mount seems it is\n",
    "    time_data = await mtptg.tel_timeAndDate.next(flush=True, timeout=2)\n",
    "    #Convert the astropy class\n",
    "    curr_time_mtptg = Time(time_data.mjd, format=\"mjd\", scale=\"tai\")\n",
    "    #Check that we're getting the right time\n",
    "    time_err = curr_time_mtptg - Time.now()\n",
    "    print(f\"Time error={time_err.sec:0.2f} sec\")\n",
    "    print(curr_time_mtptg.tai.value)\n",
    "\n",
    "    #create the object with the alt az coordinate + time to be able to convert them in RA and Dec\n",
    "    cmd_elaz = AltAz(alt=alt, az=az, \n",
    "                obstime=curr_time_mtptg.tai, \n",
    "                location=location)\n",
    "    cmd_radec = cmd_elaz.transform_to(ICRS)\n",
    "\n",
    "    # Calculating the other parameters      \n",
    "    rot_pa = rot_tel\n",
    "    print(rot_pa)\n",
    "    \n",
    "    #The pointing component is commanding the mount directly\n",
    "    ack = await mtptg.cmd_raDecTarget.set_start(\n",
    "        targetName=target_name,\n",
    "        frame=ATPtg.CoordFrame.ICRS,\n",
    "        epoch=2000,  # should be ignored: no parallax or proper motion\n",
    "        equinox=2000,  # should be ignored for ICRS\n",
    "        ra=cmd_radec.ra.hour,\n",
    "        declination=cmd_radec.dec.deg,\n",
    "        parallax=0,\n",
    "        pmRA=0,\n",
    "        pmDec=0,\n",
    "        rv=0,\n",
    "        dRA=0,\n",
    "        dDec=0,\n",
    "        rotPA=rot_pa.deg-180,\n",
    "        rotFrame=ATPtg.RotFrame.FIXED,\n",
    "        rotMode=ATPtg.RotMode.FIELD,\n",
    "        timeout=10\n",
    "    )\n",
    "\n",
    "    print(\"Waiting 30s\")\n",
    "    await asyncio.sleep(30.)\n",
    "    print(\"System Ready\")\n",
    "    \n",
    "    \n",
    "    ## Check telemetry\n",
    "\n",
    "    mtptgDemand = await mtptg.tel_currentTargetStatus.aget(timeout=10.)\n",
    "    print(\"Current target status\")\n",
    "    print(\"Az\", mtptgDemand.demandAz, \"El\", mtptgDemand.demandEl, \"Rot\", mtptgDemand.demandRot )\n",
    "    ElMat = np.append(ElMat,np.array(mtptgDemand.demandEl))\n",
    "\n",
    "    #Evolution of the actuator position as a function of elevation the move\n",
    "    camHexPosition = await camHex.tel_actuators.aget(timeout=10.)\n",
    "    m2HexPosition = await m2Hex.tel_actuators.aget(timeout=10.)\n",
    "    \n",
    "    m2HexPosMat = np.append(m2HexPosMat, np.array(m2HexPosition.calibrated))\n",
    "    camHexPosMat = np.append(camHexPosMat, np.array(camHexPosition.calibrated))\n",
    "\n",
    "   #Evolution of the demanded actuator position as a function of elevation the move\n",
    "    camHexPosition = await camHex.tel_actuators.aget(timeout=10.)\n",
    "    m2HexPosition = await m2Hex.tel_actuators.aget(timeout=10.)\n",
    "    \n",
    "    m2HexPosMat = np.append(m2HexPosMat, np.array(m2HexPosition.calibrated))\n",
    "    camHexPosMat = np.append(camHexPosMat, np.array(camHexPosition.calibrated))\n",
    "    \n",
    "    \n",
    "    compensationOffset\n",
    "    \n",
    "print(\"End of loop\")    "
   ]
  },
  {
   "cell_type": "markdown",
   "metadata": {},
   "source": [
    "## Plot of the evolution as a function of elevation"
   ]
  },
  {
   "cell_type": "code",
   "execution_count": 23,
   "metadata": {},
   "outputs": [
    {
     "name": "stdout",
     "output_type": "stream",
     "text": [
      "[[ 0.0166996   0.04421101  0.03338751 -0.01712617  0.00518884 -0.0102292 ]\n",
      " [ 0.04127951 -0.02720807  0.02294873 -0.04618353  0.04055954 -0.01016538]\n",
      " [ 0.04310654  0.04602008  0.01066748  0.04760403 -0.03310702  0.00506725]\n",
      " [-0.04929592 -0.00230314 -0.0453621   0.04559318  0.03166249  0.03545096]\n",
      " [ 0.01383064  0.02642035 -0.04240757  0.04721412 -0.03049139  0.02736028]\n",
      " [ 0.03595117 -0.0083958   0.04578388  0.01032187 -0.01042706  0.01353829]\n",
      " [ 0.00739975  0.02020089  0.02469375 -0.03694363  0.01325218  0.00221152]]\n",
      "[80.04689232 70.04935617 60.05203155 50.05525085 40.05954285 30.06599037\n",
      " 20.07807676]\n"
     ]
    }
   ],
   "source": [
    "m2HexPosMat = np.reshape(m2HexPosMat,(-1,6))\n",
    "print(m2HexPosMat)\n",
    "print(ElMat)\n",
    "plt.plot(ElMat, m2HexPosMat)\n",
    "plt.show()"
   ]
  },
  {
   "cell_type": "code",
   "execution_count": 36,
   "metadata": {},
   "outputs": [
    {
     "name": "stdout",
     "output_type": "stream",
     "text": [
      "[[ 0.00109151 -0.03115183 -0.00737149 -0.02901956 -0.02892928 -0.01132065]\n",
      " [-0.02469072  0.0132445  -0.03269304  0.03922763  0.03230629 -0.02323356]\n",
      " [ 0.02498998 -0.00968918 -0.0180674   0.01535666  0.04181721 -0.04787306]\n",
      " [-0.04821776  0.01956951  0.01657585  0.00699495  0.00163737  0.01016815]\n",
      " [ 0.01549903  0.04326078 -0.01876916  0.04321206  0.03887981  0.00520495]\n",
      " [ 0.04509715 -0.02720715  0.02773178 -0.03134873  0.00190792 -0.03764099]\n",
      " [-0.01016818 -0.008225   -0.01020394  0.00801122  0.03816186 -0.02863835]]\n",
      "[80.04689232 70.04935617 60.05203155 50.05525085 40.05954285 30.06599037\n",
      " 20.07807676]\n"
     ]
    },
    {
     "data": {
      "image/png": "[encoded data removed]",
      "text/plain": [
       "<Figure size 432x288 with 1 Axes>"
      ]
     },
     "metadata": {
      "needs_background": "light"
     },
     "output_type": "display_data"
    }
   ],
   "source": [
    "camHexPosMat = np.reshape(camHexPosMat,(-1,6))\n",
    "print(camHexPosMat)\n",
    "print(ElMat)\n",
    "plt.plot(ElMat, camHexPosMat)\n",
    "plt.show()"
   ]
  },
  {
   "cell_type": "code",
   "execution_count": null,
   "metadata": {},
   "outputs": [],
   "source": []
  },
  {
   "cell_type": "code",
   "execution_count": 45,
   "metadata": {},
   "outputs": [
    {
     "name": "stdout",
     "output_type": "stream",
     "text": [
      "MTHexapodID: 1, private_revCode: 68a842aa, private_sndStamp: 1612557402.1604373, private_rcvStamp: 1612563208.693136, private_seqNum: 2, private_identity: MTHexapod:1, private_origin: 35070, private_host: 0, enabled: True, priority: 0\n"
     ]
    }
   ],
   "source": [
    "mode = await camHex.evt_compensationMode.aget(timeout=10)\n",
    "print(mode)"
   ]
  },
  {
   "cell_type": "code",
   "execution_count": 44,
   "metadata": {},
   "outputs": [
    {
     "ename": "TimeoutError",
     "evalue": "",
     "output_type": "error",
     "traceback": [
      "\u001b[0;31m---------------------------------------------------------------------------\u001b[0m",
      "\u001b[0;31mTimeoutError\u001b[0m                              Traceback (most recent call last)",
      "\u001b[0;32m<ipython-input-44-bbc850bef780>\u001b[0m in \u001b[0;36masync-def-wrapper\u001b[0;34m()\u001b[0m\n\u001b[1;32m      2\u001b[0m \u001b[0mprint\u001b[0m\u001b[0;34m(\u001b[0m\u001b[0moffsetValue\u001b[0m\u001b[0;34m)\u001b[0m\u001b[0;34m\u001b[0m\u001b[0;34m\u001b[0m\u001b[0m\n",
      "\u001b[0;32m/opt/lsst/src/ts_salobj/python/lsst/ts/salobj/topics/read_topic.py\u001b[0m in \u001b[0;36maget\u001b[0;34m(self, timeout)\u001b[0m\n\u001b[1;32m    493\u001b[0m             \u001b[0;32mif\u001b[0m \u001b[0mself\u001b[0m\u001b[0;34m.\u001b[0m\u001b[0m_next_task\u001b[0m\u001b[0;34m.\u001b[0m\u001b[0mdone\u001b[0m\u001b[0;34m(\u001b[0m\u001b[0;34m)\u001b[0m\u001b[0;34m:\u001b[0m\u001b[0;34m\u001b[0m\u001b[0;34m\u001b[0m\u001b[0m\n\u001b[1;32m    494\u001b[0m                 \u001b[0mself\u001b[0m\u001b[0;34m.\u001b[0m\u001b[0m_next_task\u001b[0m \u001b[0;34m=\u001b[0m \u001b[0masyncio\u001b[0m\u001b[0;34m.\u001b[0m\u001b[0mFuture\u001b[0m\u001b[0;34m(\u001b[0m\u001b[0;34m)\u001b[0m\u001b[0;34m\u001b[0m\u001b[0;34m\u001b[0m\u001b[0m\n\u001b[0;32m--> 495\u001b[0;31m             \u001b[0;32mawait\u001b[0m \u001b[0masyncio\u001b[0m\u001b[0;34m.\u001b[0m\u001b[0mwait_for\u001b[0m\u001b[0;34m(\u001b[0m\u001b[0mself\u001b[0m\u001b[0;34m.\u001b[0m\u001b[0m_next_task\u001b[0m\u001b[0;34m,\u001b[0m \u001b[0mtimeout\u001b[0m\u001b[0;34m=\u001b[0m\u001b[0mtimeout\u001b[0m\u001b[0;34m)\u001b[0m\u001b[0;34m\u001b[0m\u001b[0;34m\u001b[0m\u001b[0m\n\u001b[0m\u001b[1;32m    496\u001b[0m         \u001b[0;32mreturn\u001b[0m \u001b[0mself\u001b[0m\u001b[0;34m.\u001b[0m\u001b[0m_current_data\u001b[0m\u001b[0;34m\u001b[0m\u001b[0;34m\u001b[0m\u001b[0m\n\u001b[1;32m    497\u001b[0m \u001b[0;34m\u001b[0m\u001b[0m\n",
      "\u001b[0;32m/opt/lsst/software/stack/conda/miniconda3-py37_4.8.2/envs/lsst-scipipe-cb4e2dc/lib/python3.7/asyncio/tasks.py\u001b[0m in \u001b[0;36mwait_for\u001b[0;34m(fut, timeout, loop)\u001b[0m\n\u001b[1;32m    447\u001b[0m             \u001b[0;31m# See https://bugs.python.org/issue32751\u001b[0m\u001b[0;34m\u001b[0m\u001b[0;34m\u001b[0m\u001b[0;34m\u001b[0m\u001b[0m\n\u001b[1;32m    448\u001b[0m             \u001b[0;32mawait\u001b[0m \u001b[0m_cancel_and_wait\u001b[0m\u001b[0;34m(\u001b[0m\u001b[0mfut\u001b[0m\u001b[0;34m,\u001b[0m \u001b[0mloop\u001b[0m\u001b[0;34m=\u001b[0m\u001b[0mloop\u001b[0m\u001b[0;34m)\u001b[0m\u001b[0;34m\u001b[0m\u001b[0;34m\u001b[0m\u001b[0m\n\u001b[0;32m--> 449\u001b[0;31m             \u001b[0;32mraise\u001b[0m \u001b[0mfutures\u001b[0m\u001b[0;34m.\u001b[0m\u001b[0mTimeoutError\u001b[0m\u001b[0;34m(\u001b[0m\u001b[0;34m)\u001b[0m\u001b[0;34m\u001b[0m\u001b[0;34m\u001b[0m\u001b[0m\n\u001b[0m\u001b[1;32m    450\u001b[0m     \u001b[0;32mfinally\u001b[0m\u001b[0;34m:\u001b[0m\u001b[0;34m\u001b[0m\u001b[0;34m\u001b[0m\u001b[0m\n\u001b[1;32m    451\u001b[0m         \u001b[0mtimeout_handle\u001b[0m\u001b[0;34m.\u001b[0m\u001b[0mcancel\u001b[0m\u001b[0;34m(\u001b[0m\u001b[0;34m)\u001b[0m\u001b[0;34m\u001b[0m\u001b[0;34m\u001b[0m\u001b[0m\n",
      "\u001b[0;31mTimeoutError\u001b[0m: "
     ]
    }
   ],
   "source": [
    "offsetValue = await camHex.evt_compensatedPosition.aget(timeout=30)\n",
    "print(offsetValue)"
   ]
  },
  {
   "cell_type": "code",
   "execution_count": 40,
   "metadata": {},
   "outputs": [
    {
     "name": "stdout",
     "output_type": "stream",
     "text": [
      "MTHexapodID: 1, private_revCode: bf49d316, private_sndStamp: 1611954682.7134175, private_rcvStamp: 1612563209.0176404, private_seqNum: 6, private_identity: MTHexapod:1, private_origin: 35070, private_host: 0, name: MTHexapod, level: 20, message: Read historical data in 0.00 sec, traceback: , filePath: /opt/lsst/software/stack/miniconda/lib/python3.7/site-packages/lsst/ts/salobj/sal_info.py, functionName: start, lineNumber: 676, process: 35070, priority: 0\n"
     ]
    }
   ],
   "source": [
    "LogMessages = await camHex.evt_logMessage.aget(timeout=10)\n",
    "print(LogMessages)"
   ]
  },
  {
   "cell_type": "code",
   "execution_count": 41,
   "metadata": {},
   "outputs": [
    {
     "name": "stdout",
     "output_type": "stream",
     "text": [
      "('actuatorInPosition', 'appliedSettingsMatchStart', 'authList', 'commandableByDDS', 'compensatedPosition', 'compensationMode', 'compensationOffset', 'configuration', 'connected', 'controllerState', 'errorCode', 'heartbeat', 'inPosition', 'interlock', 'logLevel', 'logMessage', 'settingVersions', 'settingsApplied', 'simulationMode', 'softwareVersions', 'summaryState', 'uncompensatedPosition')\n"
     ]
    }
   ],
   "source": [
    "print(camHex.salinfo.event_names)"
   ]
  },
  {
   "cell_type": "markdown",
   "metadata": {},
   "source": [
    "### Questions \n",
    "Does the Hexapod tracks as soon as I send a pointing value?\n",
    "How do you get the hexapod to apply the lookup table as a function of the elevation?"
   ]
  },
  {
   "cell_type": "markdown",
   "metadata": {},
   "source": [
    "## Stop the system: stop the pointing kernel?"
   ]
  },
  {
   "cell_type": "code",
   "execution_count": null,
   "metadata": {},
   "outputs": [],
   "source": [
    "await mtptg.cmd_stopTracking.start(timeout=10.)\n",
    "#send the telescope to Park. Does not exist yet"
   ]
  },
  {
   "cell_type": "code",
   "execution_count": null,
   "metadata": {},
   "outputs": [],
   "source": []
  },
  {
   "cell_type": "code",
   "execution_count": null,
   "metadata": {},
   "outputs": [],
   "source": [
    "await rot.cmd_stop.start(timeout=10.)"
   ]
  },
  {
   "cell_type": "code",
   "execution_count": null,
   "metadata": {},
   "outputs": [],
   "source": []
  }
 ],
 "metadata": {
  "kernelspec": {
   "display_name": "LSST",
   "language": "python",
   "name": "lsst"
  },
  "language_info": {
   "codemirror_mode": {
    "name": "ipython",
    "version": 3
   },
   "file_extension": ".py",
   "mimetype": "text/x-python",
   "name": "python",
   "nbconvert_exporter": "python",
   "pygments_lexer": "ipython3",
   "version": "3.7.8"
  }
 },
 "nbformat": 4,
 "nbformat_minor": 4
}
