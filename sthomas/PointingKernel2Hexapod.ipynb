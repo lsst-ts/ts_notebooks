{
 "cells": [
  {
   "cell_type": "markdown",
   "metadata": {},
   "source": [
    "## This is a notebook that verify the communication of the pointing kernel with M1M3 (including the rotator)\n",
    "It is part of a series of notebook that tests the communication between the pointing kernel and different components:\n",
    "- the mount\n",
    "- the rotator\n",
    "- M1M3\n",
    "- M2\n",
    "- Cam hexapod\n",
    "- M2 hexapod\n",
    "We will leave ComCam out of this notebook\n",
    "\n",
    "The goals of the exercice are \n",
    "- Check heartbeat from all components.\n",
    "- Make sure we can put all components in ENABLE state and back to STANDBY.\n",
    "- Check the EFD to ensure that the correct events/commands/telemetry is published\n",
    "\n",
    "This will ensure that we are ready to check the slew when needed\n"
   ]
  },
  {
   "cell_type": "markdown",
   "metadata": {},
   "source": [
    "Library loading"
   ]
  },
  {
   "cell_type": "code",
   "execution_count": null,
   "metadata": {},
   "outputs": [],
   "source": [
    "#from lsst.ts.observatory.maintel import MTCS\n",
    "from lsst.ts import salobj\n",
    "from lsst.ts.idl.enums import ATPtg\n",
    "\n",
    "import asyncio\n",
    "\n",
    "import numpy as np\n",
    "from matplotlib import pyplot as plt\n",
    "import astropy.units as u\n",
    "from astropy.time import Time\n",
    "from astropy.coordinates import AltAz, ICRS, EarthLocation, Angle, FK5\n",
    "from astropy.utils import iers\n",
    "iers.conf.auto_download = False\n",
    "\n",
    "from datetime import datetime\n"
   ]
  },
  {
   "cell_type": "markdown",
   "metadata": {},
   "source": [
    "## Set up -> things that would go into the tcs script"
   ]
  },
  {
   "cell_type": "code",
   "execution_count": null,
   "metadata": {},
   "outputs": [],
   "source": [
    "now = datetime.now()"
   ]
  },
  {
   "cell_type": "code",
   "execution_count": null,
   "metadata": {},
   "outputs": [],
   "source": [
    "start_time = datetime.now()\n",
    "script = salobj.Controller(\"Script\", index=1)\n",
    "mtptg = salobj.Remote(script.domain, \"MTPtg\")\n",
    "rot = salobj.Remote(script.domain, \"Rotator\")\n",
    "m1m3 = salobj.Remote(script.domain, \"M1M3\")\n",
    "print(f'time to start is {datetime.now() - start_time} [s]')"
   ]
  },
  {
   "cell_type": "code",
   "execution_count": null,
   "metadata": {},
   "outputs": [],
   "source": [
    "await asyncio.gather(mtptg.start_task,\n",
    "                     script.start_task,\n",
    "                     rot.start_task,\n",
    "                     m1m3.start_task)"
   ]
  },
  {
   "cell_type": "code",
   "execution_count": null,
   "metadata": {},
   "outputs": [],
   "source": [
    "await mtptg.evt_heartbeat.next(flush=True, timeout=5)"
   ]
  },
  {
   "cell_type": "code",
   "execution_count": null,
   "metadata": {},
   "outputs": [],
   "source": [
    "await mtptg.evt_summaryState.aget(timeout=5)"
   ]
  },
  {
   "cell_type": "code",
   "execution_count": null,
   "metadata": {},
   "outputs": [],
   "source": [
    "await mtptg.cmd_start.start(timeout=5)"
   ]
  },
  {
   "cell_type": "markdown",
   "metadata": {},
   "source": [
    "Check the state of the system"
   ]
  },
  {
   "cell_type": "code",
   "execution_count": null,
   "metadata": {},
   "outputs": [],
   "source": [
    "await salobj.set_summary_state(mtptg, salobj.State.ENABLED)"
   ]
  },
  {
   "cell_type": "code",
   "execution_count": null,
   "metadata": {},
   "outputs": [],
   "source": [
    "await salobj.set_summary_state(rot, salobj.State.ENABLED)"
   ]
  },
  {
   "cell_type": "code",
   "execution_count": null,
   "metadata": {},
   "outputs": [],
   "source": [
    "await salobj.set_summary_state(m1m3, settingsToApply = \"Default\", salobj.State.ENABLED)"
   ]
  },
  {
   "cell_type": "markdown",
   "metadata": {},
   "source": [
    "Raise the mirror M1M3"
   ]
  },
  {
   "cell_type": "code",
   "execution_count": null,
   "metadata": {},
   "outputs": [],
   "source": [
    "await m1m3.cmd_raiseM1M3.set_start(raiseM1M3=True, timeout = 30)"
   ]
  },
  {
   "cell_type": "markdown",
   "metadata": {},
   "source": [
    "Enter the location for the telescope for the pointing"
   ]
  },
  {
   "cell_type": "code",
   "execution_count": null,
   "metadata": {},
   "outputs": [],
   "source": [
    "location = EarthLocation.from_geodetic(lon=-70.747698*u.deg,\n",
    "                                       lat=-30.244728*u.deg,\n",
    "                                       height=2663.0*u.m)"
   ]
  },
  {
   "cell_type": "markdown",
   "metadata": {},
   "source": [
    "## Start of a slew"
   ]
  },
  {
   "cell_type": "code",
   "execution_count": null,
   "metadata": {},
   "outputs": [],
   "source": [
    "now = datetime.now()\n",
    "print(\"Start to point the telescope\", now)\n",
    "\n",
    "alt = 60. * u.deg\n",
    "az = 0. * u.deg\n",
    "rot_tel = Angle(0, unit= u.deg) "
   ]
  },
  {
   "cell_type": "code",
   "execution_count": null,
   "metadata": {},
   "outputs": [],
   "source": [
    "#This will become a function with Az, El and rot as an input and decide to start tracking\n",
    "target_name=\"TMA motion test\"\n",
    "time_data = await mtptg.tel_timeAndDate.next(flush=True, timeout=2)\n",
    "curr_time_mtptg = Time(time_data.mjd, format=\"mjd\", scale=\"tai\")\n",
    "time_err = curr_time_mtptg - Time.now()\n",
    "print(f\"Time error={time_err.sec:0.2f} sec\")\n",
    "\n",
    "print(curr_time_mtptg.tai.value)\n",
    "\n",
    "cmd_elaz = AltAz(alt=alt, az=az, \n",
    "                obstime=curr_time_mtptg.tai, \n",
    "                location=location)\n",
    "cmd_radec = cmd_elaz.transform_to(ICRS)\n",
    "# Calculating the other parameters     \n",
    "rot_pa = rot_tel\n",
    "await rot.cmd_trackStart.start(timeout=30.)\n"
   ]
  },
  {
   "cell_type": "code",
   "execution_count": null,
   "metadata": {},
   "outputs": [],
   "source": [
    "#The pointing component is commanding the mount directly\n",
    "ack = await mtptg.cmd_raDecTarget.set_start(\n",
    "    targetName=target_name,\n",
    "    frame=ATPtg.CoordFrame.ICRS,\n",
    "    epoch=2000,  # should be ignored: no parallax or proper motion\n",
    "    equinox=2000,  # should be ignored for ICRS\n",
    "    ra=cmd_radec.ra.hour,\n",
    "    declination=cmd_radec.dec.deg,\n",
    "    parallax=0,\n",
    "    pmRA=0,\n",
    "    pmDec=0,\n",
    "    rv=0,\n",
    "    dRA=0,\n",
    "    dDec=0,\n",
    "    rotPA=rot_pa.deg-180,\n",
    "    rotFrame=ATPtg.RotFrame.FIXED,\n",
    "    rotMode=ATPtg.RotMode.FIELD,\n",
    "    timeout=10\n",
    ")\n",
    "\n",
    "print(\"Waiting 30s\")\n",
    "await asyncio.sleep(30.)\n",
    "print(\"System Ready\")"
   ]
  },
  {
   "cell_type": "markdown",
   "metadata": {},
   "source": [
    "## Check telemetry"
   ]
  },
  {
   "cell_type": "code",
   "execution_count": null,
   "metadata": {},
   "outputs": [],
   "source": [
    "target = await mtm.evt_target.aget() \n",
    "print('Target', target.tel_Elevation.aget()\n",
    "rotAngle = await rot.evt_target.aget()"
   ]
  },
  {
   "cell_type": "code",
   "execution_count": null,
   "metadata": {},
   "outputs": [],
   "source": [
    "m1m3Angle = await m1m3.tel_inclinometerData.aget()\n",
    "print(\"m1m3Angle\", m1m3Angle.inclinometerAngle)"
   ]
  },
  {
   "cell_type": "code",
   "execution_count": null,
   "metadata": {},
   "outputs": [],
   "source": [
    "m1m3Position = await m1m3.imsData.aget()\n",
    "print(\"m1m3Position x, y and z\", m1m3Position.xPosition, m1m3Position.yPosition, m1m3Position.zPosition)"
   ]
  },
  {
   "cell_type": "markdown",
   "metadata": {},
   "source": [
    "## Stop the system: stop the pointing kernel, lower the mirror what else?"
   ]
  },
  {
   "cell_type": "code",
   "execution_count": null,
   "metadata": {},
   "outputs": [],
   "source": [
    "await mtptg.cmd_stopTracking.start(timeout=10.)\n",
    "#send the telescope to Park. Does not exist yet"
   ]
  },
  {
   "cell_type": "code",
   "execution_count": null,
   "metadata": {},
   "outputs": [],
   "source": [
    "await m1m3.cmd_lowerM1M3(timeout=10.)\n",
    "await m1m3.cmd_shutdown(timeout=10.)"
   ]
  },
  {
   "cell_type": "code",
   "execution_count": null,
   "metadata": {},
   "outputs": [],
   "source": []
  },
  {
   "cell_type": "code",
   "execution_count": null,
   "metadata": {},
   "outputs": [],
   "source": []
  }
 ],
 "metadata": {
  "kernelspec": {
   "display_name": "LSST",
   "language": "python",
   "name": "lsst"
  },
  "language_info": {
   "codemirror_mode": {
    "name": "ipython",
    "version": 3
   },
   "file_extension": ".py",
   "mimetype": "text/x-python",
   "name": "python",
   "nbconvert_exporter": "python",
   "pygments_lexer": "ipython3",
   "version": "3.7.6"
  }
 },
 "nbformat": 4,
 "nbformat_minor": 4
}
