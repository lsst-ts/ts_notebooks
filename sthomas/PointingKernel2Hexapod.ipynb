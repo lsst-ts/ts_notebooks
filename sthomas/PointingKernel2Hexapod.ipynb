{
 "cells": [
  {
   "cell_type": "markdown",
   "metadata": {},
   "source": [
    "## This is a notebook that verify the communication of the pointing kernel with the hexapods (including the rotator and Mount)\n",
    "It is part of a series of notebook that tests the communication between the pointing kernel and different components:\n",
    "- the mount\n",
    "- the rotator\n",
    "- M1M3\n",
    "- M2\n",
    "- Cam hexapod\n",
    "- M2 hexapod\n",
    "We will leave ComCam out of this notebook\n",
    "\n",
    "The goals of the exercice are \n",
    "- Check heartbeat from all components.\n",
    "- Make sure we can put all components in ENABLE state and back to STANDBY.\n",
    "- Check the EFD to ensure that the correct events/commands/telemetry is published\n",
    "\n",
    "This will ensure that we are ready to check the slew when needed\n"
   ]
  },
  {
   "cell_type": "markdown",
   "metadata": {},
   "source": [
    "Library loading"
   ]
  },
  {
   "cell_type": "code",
   "execution_count": null,
   "metadata": {},
   "outputs": [],
   "source": [
    "#from lsst.ts.observatory.maintel import MTCS\n",
    "from lsst.ts import salobj\n",
    "from lsst.ts.idl.enums import ATPtg\n",
    "\n",
    "import asyncio\n",
    "\n",
    "import numpy as np\n",
    "from matplotlib import pyplot as plt\n",
    "import astropy.units as u\n",
    "from astropy.time import Time\n",
    "from astropy.coordinates import AltAz, ICRS, EarthLocation, Angle, FK5\n",
    "from astropy.utils import iers\n",
    "iers.conf.auto_download = True\n",
    "\n",
    "from datetime import datetime\n"
   ]
  },
  {
   "cell_type": "markdown",
   "metadata": {},
   "source": [
    "## Set up -> things that would go into the tcs script"
   ]
  },
  {
   "cell_type": "code",
   "execution_count": null,
   "metadata": {},
   "outputs": [],
   "source": [
    "now = datetime.now()"
   ]
  },
  {
   "cell_type": "code",
   "execution_count": null,
   "metadata": {},
   "outputs": [],
   "source": [
    "start_time = datetime.now()\n",
    "script = salobj.Controller(\"Script\", index=1)\n",
    "#add a sleep right now (january 2021)\n",
    "await asyncio.sleep(10.)\n",
    "\n",
    "mtptg = salobj.Remote(script.domain, \"MTPtg\")\n",
    "rot = salobj.Remote(script.domain, \"MTRotator\")\n",
    "print(f'time to start is {datetime.now() - start_time} [s]')"
   ]
  },
  {
   "cell_type": "code",
   "execution_count": null,
   "metadata": {},
   "outputs": [],
   "source": [
    "mtm = salobj.Remote(script.domain, \"NewMTMount\")"
   ]
  },
  {
   "cell_type": "code",
   "execution_count": null,
   "metadata": {},
   "outputs": [],
   "source": [
    "camHex = salobj.Remote(script.domain, \"MTHexapod\", index = '1')\n",
    "m2Hex = salobj.Remote(script.domain, \"MTHexapod\", index = '2')\n",
    "#print(f'time to start is {datetime.now() - start_time} [s]')"
   ]
  },
  {
   "cell_type": "code",
   "execution_count": null,
   "metadata": {},
   "outputs": [],
   "source": [
    "await asyncio.gather(mtptg.start_task,\n",
    "                     script.start_task,\n",
    "                     rot.start_task,\n",
    "                     camHex.start_task,\n",
    "                     m2Hex.start_task)"
   ]
  },
  {
   "cell_type": "code",
   "execution_count": null,
   "metadata": {},
   "outputs": [],
   "source": [
    "await mtptg.evt_heartbeat.next(flush=True, timeout=5)"
   ]
  },
  {
   "cell_type": "code",
   "execution_count": null,
   "metadata": {},
   "outputs": [],
   "source": [
    "await rot.evt_heartbeat.next(flush=True, timeout=5)\n",
    "await camHex.evt_heartbeat.next(flush=True, timeout=5)\n",
    "await m2Hex.evt_heartbeat.next(flush=True, timeout=5)"
   ]
  },
  {
   "cell_type": "code",
   "execution_count": null,
   "metadata": {},
   "outputs": [],
   "source": [
    "summary_state =  await mtptg.evt_summaryState.aget(timeout=5)\n",
    "print(salobj.State(summary_state.summaryState))"
   ]
  },
  {
   "cell_type": "markdown",
   "metadata": {},
   "source": [
    "#await mtptg.cmd_start.start(timeout=5)\n",
    "I don't need it? depends… if the mtptg is enable, then you don’t need it\n",
    "you can replace that one with\n",
    "await salobj.set_summary_state(mtptg, salobj.State.ENABLED)\n",
    "which will make sure the CSC is in enabled state at the end…"
   ]
  },
  {
   "cell_type": "markdown",
   "metadata": {},
   "source": [
    "Check the state of the system"
   ]
  },
  {
   "cell_type": "code",
   "execution_count": null,
   "metadata": {},
   "outputs": [],
   "source": [
    "await salobj.set_summary_state(mtptg, salobj.State.ENABLED)"
   ]
  },
  {
   "cell_type": "code",
   "execution_count": null,
   "metadata": {},
   "outputs": [],
   "source": [
    "await salobj.set_summary_state(rot, salobj.State.ENABLED)"
   ]
  },
  {
   "cell_type": "code",
   "execution_count": null,
   "metadata": {},
   "outputs": [],
   "source": [
    "await salobj.set_summary_state(m2Hex, salobj.State.STANDBY)\n",
    "await salobj.set_summary_state(camHex, salobj.State.STANDBY)"
   ]
  },
  {
   "cell_type": "code",
   "execution_count": null,
   "metadata": {},
   "outputs": [],
   "source": [
    "await salobj.set_summary_state(m2Hex, state = salobj.State.ENABLED)\n",
    "await salobj.set_summary_state(camHex, state = salobj.State.ENABLED)"
   ]
  },
  {
   "cell_type": "code",
   "execution_count": null,
   "metadata": {},
   "outputs": [],
   "source": [
    "await salobj.set_summary_state(m2Hex, state = salobj.State.ENABLED, settingsToApply=\"default\")"
   ]
  },
  {
   "cell_type": "code",
   "execution_count": null,
   "metadata": {},
   "outputs": [],
   "source": [
    "await salobj.set_summary_state(camHex, state = salobj.State.ENABLED, settingsToApply=\"default\")"
   ]
  },
  {
   "cell_type": "code",
   "execution_count": null,
   "metadata": {},
   "outputs": [],
   "source": [
    "#Check which hexapod we are controlling\n",
    "whichHex1 = await camHex.evt_configuration.aget(timeout=10.)\n",
    "print(\"Hexapod camHex\", whichHex1.MTHexapodID)\n",
    "print(camHex.salinfo.index)\n",
    "\n",
    "whichHex2 = await m2Hex.evt_configuration.aget(timeout=10.)\n",
    "print(\"Hexapod m2Hex\", whichHex2.MTHexapodID)\n",
    "print(m2Hex.salinfo.index)"
   ]
  },
  {
   "cell_type": "code",
   "execution_count": null,
   "metadata": {},
   "outputs": [],
   "source": [
    "print(whichHex1)"
   ]
  },
  {
   "cell_type": "code",
   "execution_count": null,
   "metadata": {},
   "outputs": [],
   "source": [
    "camHexPosition0 = await camHex.tel_actuators.aget(timeout=10.)\n",
    "print(camHexPosition0)"
   ]
  },
  {
   "cell_type": "code",
   "execution_count": null,
   "metadata": {},
   "outputs": [],
   "source": [
    "#print(\"camera Hexapod positions\", camHexPosition.MTHexapodID,  camHexPosition.calibrated0,  camHexPosition.calibrated1,  camHexPosition.calibrated2,  camHexPosition.calibrated3,  camHexPosition.calibrated4,  camHexPosition.calibrated5)\n",
    "print(\"camera Hexapod positions\", camHexPosition0.MTHexapodID,  camHexPosition0.calibrated)"
   ]
  },
  {
   "cell_type": "code",
   "execution_count": null,
   "metadata": {},
   "outputs": [],
   "source": [
    "m2HexPosition0 = await m2Hex.tel_actuators.aget(timeout=10.)\n",
    "print(\"M2 Hexapod positions\", m2HexPosition0.MTHexapodID,  m2HexPosition0.calibrated)"
   ]
  },
  {
   "cell_type": "markdown",
   "metadata": {},
   "source": [
    "Enter the location for the telescope for the pointing"
   ]
  },
  {
   "cell_type": "code",
   "execution_count": null,
   "metadata": {},
   "outputs": [],
   "source": [
    "location = EarthLocation.from_geodetic(lon=-70.747698*u.deg,\n",
    "                                       lat=-30.244728*u.deg,\n",
    "                                       height=2663.0*u.m)"
   ]
  },
  {
   "cell_type": "code",
   "execution_count": null,
   "metadata": {},
   "outputs": [],
   "source": [
    "#Get the elevation and rotator angle at the beginning of a run.\n"
   ]
  },
  {
   "cell_type": "code",
   "execution_count": null,
   "metadata": {},
   "outputs": [],
   "source": [
    "mtptgDemand0 = await mtptg.tel_currentTargetStatus.aget(timeout=10.)\n",
    "print(\"Current target status\")\n",
    "print(\"Az\", mtptgDemand0.demandAz, \"El\", mtptgDemand0.demandEl, \"Rot\", mtptgDemand0.demandRot )"
   ]
  },
  {
   "cell_type": "code",
   "execution_count": null,
   "metadata": {},
   "outputs": [],
   "source": [
    "# enable the hexapods LUT compensation\n",
    "await m2Hex.cmd_setCompensationMode.set_start(enable=1, timeout=10)\n",
    "await camHex.cmd_setCompensationMode.set_start(enable=1, timeout=10)"
   ]
  },
  {
   "cell_type": "code",
   "execution_count": null,
   "metadata": {},
   "outputs": [],
   "source": [
    "m2hex_mode = await m2Hex.evt_compensationMode.aget(timeout=10)\n",
    "print(\"M2 compsensation mode enabled?\",m2hex_mode.enabled)\n",
    "camhex_mode = await camHex.evt_compensationMode.aget(timeout=10)\n",
    "print(\"Cam compsensation mode enabled?\",camhex_mode.enabled)"
   ]
  },
  {
   "cell_type": "markdown",
   "metadata": {},
   "source": [
    "## Start of a first slew. Elevation of 80"
   ]
  },
  {
   "cell_type": "code",
   "execution_count": null,
   "metadata": {},
   "outputs": [],
   "source": [
    "now = datetime.now()\n",
    "print(\"Start to point the telescope\", now)\n",
    "\n",
    "alt = 70. * u.deg\n",
    "az = 25. * u.deg\n",
    "rot_tel = Angle(0, unit= u.deg) \n",
    "\n",
    "target_name=\"TMA motion test\"\n",
    "#getting time for the pointing to ensure that we're using the time that the mount seems it is\n",
    "time_data = await mtptg.tel_timeAndDate.next(flush=True, timeout=2)\n",
    "#Convert the astropy class\n",
    "curr_time_mtptg = Time(time_data.mjd, format=\"mjd\", scale=\"tai\")\n",
    "#Check that we're getting the right time\n",
    "time_err = curr_time_mtptg - Time.now()\n",
    "print(f\"Time error={time_err.sec:0.2f} sec\")\n",
    "print(curr_time_mtptg.tai.value)\n",
    "\n",
    "#create the object with the alt az coordinate + time to be able to convert them in RA and Dec\n",
    "cmd_elaz = AltAz(alt=alt, az=az, \n",
    "                obstime=curr_time_mtptg.tai, \n",
    "                location=location)\n",
    "cmd_radec = cmd_elaz.transform_to(ICRS)\n",
    "\n",
    "# Calculating the other parameters      \n",
    "rot_pa = rot_tel\n",
    "print(rot_pa)  \n"
   ]
  },
  {
   "cell_type": "code",
   "execution_count": null,
   "metadata": {},
   "outputs": [],
   "source": [
    "mtptgDemand = await mtptg.tel_currentTargetStatus.aget(timeout=10.)\n",
    "print(\"Current target status\")\n",
    "print(\"Az\", mtptgDemand.demandAz, \"El\", mtptgDemand.demandEl, \"Rot\", mtptgDemand.demandRot )"
   ]
  },
  {
   "cell_type": "code",
   "execution_count": null,
   "metadata": {},
   "outputs": [],
   "source": [
    "#The pointing component is commanding the mount directly\n",
    "ack = await mtptg.cmd_raDecTarget.set_start(\n",
    "    targetName=target_name,\n",
    "    frame=ATPtg.CoordFrame.ICRS,\n",
    "    epoch=2000,  # should be ignored: no parallax or proper motion\n",
    "    equinox=2000,  # should be ignored for ICRS\n",
    "    ra=cmd_radec.ra.hour,\n",
    "    declination=cmd_radec.dec.deg,\n",
    "    parallax=0,\n",
    "    pmRA=0,\n",
    "    pmDec=0,\n",
    "    rv=0,\n",
    "    dRA=0,\n",
    "    dDec=0,\n",
    "    rotPA=rot_pa.deg-180,\n",
    "    rotFrame=ATPtg.RotFrame.FIXED,\n",
    "    rotMode=ATPtg.RotMode.FIELD,\n",
    "    timeout=10\n",
    ")\n",
    "\n",
    "print(\"Waiting 30s\")\n",
    "await asyncio.sleep(30.)\n",
    "print(\"System Ready\")\n",
    "\n",
    "await m2Hex.cmd_move.set_start(x=0,y=0,z=0,u=0,v=0,w=0,sync=True, timeout=10)\n",
    "await camHex.cmd_move.set_start(x=0,y=0,z=0,u=0,v=0,w=0,sync=True, timeout=10)"
   ]
  },
  {
   "cell_type": "code",
   "execution_count": null,
   "metadata": {},
   "outputs": [],
   "source": [
    "mtptgDemand = await mtptg.tel_currentTargetStatus.aget(timeout=10.)\n",
    "print(\"Current target status\")\n",
    "print(\"Az\", mtptgDemand.demandAz, \"El\", mtptgDemand.demandEl, \"Rot\", mtptgDemand.demandRot )"
   ]
  },
  {
   "cell_type": "code",
   "execution_count": null,
   "metadata": {},
   "outputs": [],
   "source": [
    "m2hex_mode = await m2Hex.evt_compensationMode.aget(timeout=10)\n",
    "print(\"M2 compsensation mode enabled?\",m2hex_mode.enabled)\n",
    "camhex_mode = await camHex.evt_compensationMode.aget(timeout=10)\n",
    "print(\"Cam compsensation mode enabled?\",camhex_mode.enabled)"
   ]
  },
  {
   "cell_type": "markdown",
   "metadata": {},
   "source": [
    "## Check telemetry"
   ]
  },
  {
   "cell_type": "code",
   "execution_count": null,
   "metadata": {},
   "outputs": [],
   "source": [
    "print(camHex.salinfo.command_names)"
   ]
  },
  {
   "cell_type": "code",
   "execution_count": null,
   "metadata": {},
   "outputs": [],
   "source": [
    "print(camHex.salinfo.event_names)"
   ]
  },
  {
   "cell_type": "code",
   "execution_count": null,
   "metadata": {},
   "outputs": [],
   "source": [
    "mtptgDemand = await mtptg.tel_currentTargetStatus.aget(timeout=10.)\n",
    "print(\"Current target status\")\n",
    "print(\"Az\", mtptgDemand.demandAz, \"El\", mtptgDemand.demandEl, \"Rot\", mtptgDemand.demandRot )\n",
    "ElMat = np.array(mtptgDemand.demandEl)\n",
    "\n",
    "rotAngle = await rot.tel_rotation.aget()\n",
    "print(rotAngle.actualPosition)\n",
    "\n",
    "#print(\"camera Hexapod positions\", camHexPosition.MTHexapodID,  camHexPosition.calibrated0,  camHexPosition.calibrated1,  camHexPosition.calibrated2,  camHexPosition.calibrated3,  camHexPosition.calibrated4,  camHexPosition.calibrated5)\n",
    "camHexPosition = await camHex.tel_actuators.aget(timeout=10.)\n",
    "print(\"camera Hexapod positions\", camHexPosition.MTHexapodID,  camHexPosition.calibrated)\n",
    "camHexPosMat = np.array(camHexPosition.calibrated)\n",
    "\n",
    "m2HexPosition = await m2Hex.tel_actuators.aget(timeout=10.)\n",
    "print(\"M2 Hexapod positions\", m2HexPosition.MTHexapodID,  m2HexPosition.calibrated)\n",
    "m2HexPosMat = np.array(m2HexPosition.calibrated)\n",
    "\n",
    "#Comparison between the actuator position before and after the move\n",
    "#m2DiffHexpos = list(set(m2HexPosition.calibrated) - set(m2HexPosition0.calibrated))\n",
    "#print(\"M2 Hex motion\", m2DiffHexpos)\n",
    "#camDiffHexpos = list(set(camHexPosition.calibrated) - set(camHexPosition0.calibrated))\n",
    "#print(\"Cam Hex motion\", camDiffHexpos)"
   ]
  },
  {
   "cell_type": "code",
   "execution_count": null,
   "metadata": {},
   "outputs": [],
   "source": [
    "#check the compensation offset\n",
    "compensationDataCam = await camHex.evt_compensationOffset.aget(timeout=10)\n",
    "print(\"Elevation used by the camera Hexapod\", compensationDataCam.elevation)\n",
    "compensationDataM2 = await m2Hex.evt_compensationOffset.aget(timeout=10)\n",
    "print(\"Elevation used by the M2 Hexapod\", compensationDataM2.elevation)"
   ]
  },
  {
   "cell_type": "code",
   "execution_count": null,
   "metadata": {},
   "outputs": [],
   "source": [
    "#Check the offsets sent\n",
    "print(\"M2 Hex LUT sent\",compensationDataM2.x,compensationDataM2.y,compensationDataM2.z,compensationDataM2.u,compensationDataM2.v,compensationDataM2.w)\n",
    "print(\"Cam Hex LUT sent\",compensationDataCam.x,compensationDataCam.y,compensationDataCam.z,compensationDataCam.u,compensationDataCam.v,compensationDataCam.w)"
   ]
  },
  {
   "cell_type": "code",
   "execution_count": null,
   "metadata": {},
   "outputs": [],
   "source": [
    "camHex_input_position = await camHex.evt_compensatedPosition.aget(timeout=10.)\n",
    "m2Hex_input_position = await m2Hex.evt_compensatedPosition.aget(timeout=10.)\n",
    "print(\"M2 Hex position sent\",m2Hex_input_position.x,m2Hex_input_position.y,m2Hex_input_position.z,m2Hex_input_position.u,m2Hex_input_position.v,m2Hex_input_position.w)\n",
    "print(\"Camera Hex position sent\",camHex_input_position.x,camHex_input_position.y,camHex_input_position.z,camHex_input_position.u,camHex_input_position.v,camHex_input_position.w)"
   ]
  },
  {
   "cell_type": "code",
   "execution_count": null,
   "metadata": {},
   "outputs": [],
   "source": [
    "camHex_input_uncomp_position = await camHex.evt_uncompensatedPosition.aget(timeout=10.)\n",
    "m2Hex_input_uncomp_position = await m2Hex.evt_uncompensatedPosition.aget(timeout=10.)\n",
    "print(\"M2 Hex position sent\",m2Hex_input_uncomp_position.x,m2Hex_input_uncomp_position.y,m2Hex_input_uncomp_position.z,m2Hex_input_uncomp_position.u,m2Hex_input_uncomp_position.v,m2Hex_input_uncomp_position.w)\n",
    "print(\"Camera Hex position sent\",camHex_input_uncomp_position.x,camHex_input_uncomp_position.y,camHex_input_uncomp_position.z,camHex_input_uncomp_position.u,camHex_input_uncomp_position.v,camHex_input_uncomp_position.w)"
   ]
  },
  {
   "cell_type": "code",
   "execution_count": null,
   "metadata": {},
   "outputs": [],
   "source": []
  },
  {
   "cell_type": "raw",
   "metadata": {},
   "source": [
    "mtptgDemand = await mtptg.tel_currentTargetStatus.aget(timeout=10.)\n",
    "ElMat = np.array(mtptgDemand.demandEl)\n",
    "camHexPosition = await camHex.tel_actuators.aget(timeout=10.)\n",
    "camHexPosMat = np.array(camHexPosition.calibrated)\n",
    "m2HexPosition = await m2Hex.tel_actuators.aget(timeout=10.)\n",
    "m2HexPosMat = np.array(m2HexPosition.calibrated)"
   ]
  },
  {
   "cell_type": "markdown",
   "metadata": {},
   "source": [
    "# Start to loop a few Elevations"
   ]
  },
  {
   "cell_type": "code",
   "execution_count": null,
   "metadata": {},
   "outputs": [],
   "source": [
    "ElInputMat = np.arange(80,10,-10)\n",
    "print(ElInputMat)"
   ]
  },
  {
   "cell_type": "code",
   "execution_count": null,
   "metadata": {},
   "outputs": [],
   "source": [
    "ElMat = []\n",
    "camHexPosMat = [] \n",
    "m2HexPosMat = [] \n",
    "camHex_input_pos_mat = [] \n",
    "m2Hex_input_pos_mat = [] \n",
    "\n",
    "\n",
    "for El in ElInputMat: \n",
    "    now = datetime.now()\n",
    "    print(\"Start to point the telescope\", now) \n",
    "    print(\"Elevation is\", El)\n",
    "\n",
    "    alt = El * u.deg\n",
    "    az = 25. * u.deg\n",
    "    rot_tel = Angle(0, unit= u.deg) \n",
    "\n",
    "    target_name=\"TMA motion test\"\n",
    "    #getting time for the pointing to ensure that we're using the time that the mount seems it is\n",
    "    time_data = await mtptg.tel_timeAndDate.next(flush=True, timeout=2)\n",
    "    #Convert the astropy class\n",
    "    curr_time_mtptg = Time(time_data.mjd, format=\"mjd\", scale=\"tai\")\n",
    "    #Check that we're getting the right time\n",
    "    time_err = curr_time_mtptg - Time.now()\n",
    "    print(f\"Time error={time_err.sec:0.2f} sec\")\n",
    "    print(curr_time_mtptg.tai.value)\n",
    "\n",
    "    #create the object with the alt az coordinate + time to be able to convert them in RA and Dec\n",
    "    cmd_elaz = AltAz(alt=alt, az=az, \n",
    "                obstime=curr_time_mtptg.tai, \n",
    "                location=location)\n",
    "    cmd_radec = cmd_elaz.transform_to(ICRS)\n",
    "\n",
    "    # Calculating the other parameters      \n",
    "    rot_pa = rot_tel\n",
    "    print(rot_pa)\n",
    "    \n",
    "    #The pointing component is commanding the mount directly\n",
    "    ack = await mtptg.cmd_raDecTarget.set_start(\n",
    "        targetName=target_name,\n",
    "        frame=ATPtg.CoordFrame.ICRS,\n",
    "        epoch=2000,  # should be ignored: no parallax or proper motion\n",
    "        equinox=2000,  # should be ignored for ICRS\n",
    "        ra=cmd_radec.ra.hour,\n",
    "        declination=cmd_radec.dec.deg,\n",
    "        parallax=0,\n",
    "        pmRA=0,\n",
    "        pmDec=0,\n",
    "        rv=0,\n",
    "        dRA=0,\n",
    "        dDec=0,\n",
    "        rotPA=rot_pa.deg-180,\n",
    "        rotFrame=ATPtg.RotFrame.FIXED,\n",
    "        rotMode=ATPtg.RotMode.FIELD,\n",
    "        timeout=10\n",
    "    )\n",
    "\n",
    "    print(\"Waiting 10s\")\n",
    "    await asyncio.sleep(10.)\n",
    "    print(\"System Ready\")\n",
    "    \n",
    "    \n",
    "    ## Make sure the Hexapods take into account the elevation\n",
    "    await m2Hex.cmd_move.set_start(x=0,y=0,z=0,u=0,v=0,w=0,sync=True, timeout=10)\n",
    "    await camHex.cmd_move.set_start(x=0,y=0,z=0,u=0,v=0,w=0,sync=True, timeout=10)\n",
    "    \n",
    "    ## Check telemetry\n",
    "\n",
    "    mtptgDemand = await mtptg.tel_currentTargetStatus.aget(timeout=10.)\n",
    "    print(\"Current target status\")\n",
    "    print(\"Az\", mtptgDemand.demandAz, \"El\", mtptgDemand.demandEl, \"Rot\", mtptgDemand.demandRot )\n",
    "    ElMat = np.append(ElMat,np.array(mtptgDemand.demandEl))\n",
    "\n",
    "    #check the compensation offset\n",
    "    compensationDataCam = await camHex.evt_compensationOffset.aget(timeout=10)\n",
    "    print(\"Elevation used by the camera Hexapod\", compensationDataCam.elevation)\n",
    "    compensationDataM2 = await m2Hex.evt_compensationOffset.aget(timeout=10)\n",
    "    print(\"Elevation used by the M2 Hexapod\", compensationDataM2.elevation)\n",
    "    \n",
    "    \n",
    "    #Evolution of the compensated position as a function of elevation \n",
    "    camHex_input_position = await camHex.evt_compensatedPosition.aget(timeout=10.)\n",
    "    m2Hex_input_position = await m2Hex.evt_compensatedPosition.aget(timeout=10.)\n",
    "   \n",
    "    tmp_m2=[m2Hex_input_position.x,m2Hex_input_position.y,m2Hex_input_position.z,m2Hex_input_position.u,m2Hex_input_position.v,m2Hex_input_position.w]\n",
    "    tmp_cam=[camHex_input_position.x,camHex_input_position.y,camHex_input_position.z,camHex_input_position.u,camHex_input_position.v,camHex_input_position.w] \n",
    "\n",
    " #   tmp_m2=[compensationDataM2.x,compensationDataM2.y,compensationDataM2.z,compensationDataM2.u,compensationDataM2.v,compensationDataM2.w]\n",
    " #   tmp_cam=[compensationDataCam.x,compensationDataCam.y,compensationDataCam.z,compensationDataCam.u,compensationDataCam.v,compensationDataCam.w] \n",
    "    m2Hex_input_pos_mat = np.append(m2Hex_input_pos_mat,np.array(tmp_m2) )\n",
    "    camHex_input_pos_mat= np.append(camHex_input_pos_mat, np.array(tmp_cam))\n",
    "   \n",
    "   #Evolution of the actuator position as a function of elevation \n",
    "    camHexPosition = await camHex.tel_actuators.aget(timeout=10.)\n",
    "    m2HexPosition = await m2Hex.tel_actuators.aget(timeout=10.)\n",
    "    \n",
    "    m2HexPosMat = np.append(m2HexPosMat, np.array(m2HexPosition.calibrated))\n",
    "    camHexPosMat = np.append(camHexPosMat, np.array(camHexPosition.calibrated))\n",
    "        \n",
    "    \n",
    "print(\"End of loop\")    "
   ]
  },
  {
   "cell_type": "markdown",
   "metadata": {},
   "source": [
    "## Plot of the evolution as a function of elevation"
   ]
  },
  {
   "cell_type": "code",
   "execution_count": null,
   "metadata": {},
   "outputs": [],
   "source": [
    "m2HexPosMat = np.reshape(m2HexPosMat,(-1,6))\n",
    "print(m2HexPosMat)\n",
    "print(ElMat)\n",
    "plt.plot(ElMat, m2HexPosMat)\n",
    "plt.show()"
   ]
  },
  {
   "cell_type": "code",
   "execution_count": null,
   "metadata": {},
   "outputs": [],
   "source": [
    "m2Hex_input_pos_mat = np.reshape(m2Hex_input_pos_mat,(-1,6))\n",
    "#print(m2Hex_input_pos_mat)\n",
    "print(ElMat)\n",
    "fig=plt.figure(figsize=(30, 20))\n",
    "#fig, axs = plt.subplots(2, 3)\n",
    "\n",
    "ax11 = fig.add_subplot(231)\n",
    "ax12= fig.add_subplot(232)\n",
    "ax13= fig.add_subplot(233)\n",
    "ax21 = fig.add_subplot(234)\n",
    "ax22= fig.add_subplot(235)\n",
    "ax23= fig.add_subplot(236)\n",
    "\n",
    "ax11.plot(ElMat, m2Hex_input_pos_mat[:,0])\n",
    "ax11.set_title('x')\n",
    "ax11.set(xlabel='Elevation in deg', ylabel = \"Position in microns\")\n",
    "ax12.plot(ElMat, m2Hex_input_pos_mat[:,1])\n",
    "ax12.set_title('y')\n",
    "ax12.set(xlabel='Elevation in deg', ylabel = \"Position in microns\")\n",
    "ax13.plot(ElMat, m2Hex_input_pos_mat[:,2])\n",
    "ax13.set_title('z')\n",
    "ax13.set(xlabel='Elevation in deg', ylabel = \"Position in microns\")\n",
    "ax21.plot(ElMat, m2Hex_input_pos_mat[:,3])\n",
    "ax21.set_title('u')\n",
    "ax21.set(xlabel='Elevation in deg', ylabel = \"Rotation in deg\")\n",
    "ax22.plot(ElMat, m2Hex_input_pos_mat[:,4])\n",
    "ax22.set_title('v')\n",
    "ax22.set(xlabel='Elevation in deg', ylabel = \"Rotation in deg\")\n",
    "ax23.plot(ElMat, m2Hex_input_pos_mat[:,5])\n",
    "ax23.set_title('w')\n",
    "ax23.set(xlabel='Elevation in deg', ylabel = \"Rotation in deg\")\n",
    "\n",
    "#plt.plot(ElMat, m2Hex_input_pos_mat)\n",
    "plt.show()"
   ]
  },
  {
   "cell_type": "code",
   "execution_count": null,
   "metadata": {},
   "outputs": [],
   "source": [
    "camHexPosMat = np.reshape(camHexPosMat,(-1,6))\n",
    "print(camHexPosMat)\n",
    "print(ElMat) \n",
    "plt.plot(ElMat, camHexPosMat)\n",
    "plt.show()"
   ]
  },
  {
   "cell_type": "code",
   "execution_count": null,
   "metadata": {},
   "outputs": [],
   "source": [
    "camHex_input_pos_mat = np.reshape(camHex_input_pos_mat,(-1,6))\n",
    "#print(camHex_input_pos_mat)\n",
    "print(ElMat)\n",
    "fig, axs = plt.subplots(2, 3)\n",
    "\n",
    "#fig, axs = plt.subplots(2, 3, gridspec_kw={ 'width_ratios': [2, 2,1],  'height_ratios': [2, 1]})\n",
    "\n",
    "axs[0, 0].plot(ElMat, camHex_input_pos_mat[:,0])\n",
    "axs[0, 0].set_title('x')\n",
    "axs[0, 1].plot(ElMat, camHex_input_pos_mat[:,1])\n",
    "axs[0, 1].set_title('y')\n",
    "axs[0, 2].plot(ElMat, camHex_input_pos_mat[:,2])\n",
    "axs[0, 2].set_title('z')\n",
    "axs[1, 0].plot(ElMat, camHex_input_pos_mat[:,3])\n",
    "axs[1, 0].set_title('u')\n",
    "axs[1, 1].plot(ElMat, camHex_input_pos_mat[:,4])\n",
    "axs[1, 1].set_title('v')\n",
    "axs[1, 2].plot(ElMat, camHex_input_pos_mat[:,5])\n",
    "axs[1, 2].set_title('w')\n",
    "\n",
    "#plt.plot(ElMat, m2Hex_input_pos_mat)\n",
    "plt.show()\n",
    "\n",
    "\n",
    "camHex_input_pos_mat = np.reshape(camHex_input_pos_mat,(-1,6))\n",
    "#print(m2Hex_input_pos_mat)\n",
    "print(ElMat)\n",
    "fig=plt.figure(figsize=(30, 20))\n",
    "#fig, axs = plt.subplots(2, 3)\n",
    "\n",
    "ax11 = fig.add_subplot(231)\n",
    "ax12= fig.add_subplot(232)\n",
    "ax13= fig.add_subplot(233)\n",
    "ax21 = fig.add_subplot(234)\n",
    "ax22= fig.add_subplot(235)\n",
    "ax23= fig.add_subplot(236)\n",
    "\n",
    "ax11.plot(ElMat, camHex_input_pos_mat[:,0])\n",
    "ax11.set_title('x')\n",
    "ax11.set(xlabel='Elevation in deg', ylabel = \"Position in microns\")\n",
    "ax12.plot(ElMat, camHex_input_pos_mat[:,1])\n",
    "ax12.set_title('y')\n",
    "ax12.set(xlabel='Elevation in deg', ylabel = \"Position in microns\")\n",
    "ax13.plot(ElMat, camHex_input_pos_mat[:,2])\n",
    "ax13.set_title('z')\n",
    "ax13.set(xlabel='Elevation in deg', ylabel = \"Position in microns\")\n",
    "ax21.plot(ElMat, camHex_input_pos_mat[:,3])\n",
    "ax21.set_title('u')\n",
    "ax21.set(xlabel='Elevation in deg', ylabel = \"Rotation in deg\")\n",
    "ax22.plot(ElMat, camHex_input_pos_mat[:,4])\n",
    "ax22.set_title('v')\n",
    "ax22.set(xlabel='Elevation in deg', ylabel = \"Rotation in deg\")\n",
    "ax23.plot(ElMat, camHex_input_pos_mat[:,5])\n",
    "ax23.set_title('w')\n",
    "ax23.set(xlabel='Elevation in deg', ylabel = \"Rotation in deg\")\n",
    "\n",
    "#plt.plot(ElMat, m2Hex_input_pos_mat)\n",
    "plt.show()"
   ]
  },
  {
   "cell_type": "code",
   "execution_count": null,
   "metadata": {},
   "outputs": [],
   "source": []
  },
  {
   "cell_type": "code",
   "execution_count": null,
   "metadata": {},
   "outputs": [],
   "source": [
    "mode = await camHex.evt_compensationMode.aget(timeout=10)\n",
    "print(mode)"
   ]
  },
  {
   "cell_type": "code",
   "execution_count": null,
   "metadata": {},
   "outputs": [],
   "source": [
    "offsetValue = await camHex.evt_compensatedPosition.aget(timeout=30)\n",
    "print(offsetValue)"
   ]
  },
  {
   "cell_type": "code",
   "execution_count": null,
   "metadata": {},
   "outputs": [],
   "source": [
    "LogMessages = await camHex.evt_logMessage.aget(timeout=10)\n",
    "print(LogMessages)"
   ]
  },
  {
   "cell_type": "code",
   "execution_count": null,
   "metadata": {},
   "outputs": [],
   "source": [
    "print(camHex.salinfo.event_names)"
   ]
  },
  {
   "cell_type": "markdown",
   "metadata": {},
   "source": [
    "### Questions \n",
    "Does the Hexapod tracks as soon as I send a pointing value?\n",
    "How do you get the hexapod to apply the lookup table as a function of the elevation?"
   ]
  },
  {
   "cell_type": "markdown",
   "metadata": {},
   "source": [
    "## Stop the system: stop the pointing kernel?"
   ]
  },
  {
   "cell_type": "code",
   "execution_count": null,
   "metadata": {},
   "outputs": [],
   "source": [
    "await mtptg.cmd_stopTracking.start(timeout=10.)\n",
    "#send the telescope to Park. Does not exist yet"
   ]
  },
  {
   "cell_type": "code",
   "execution_count": null,
   "metadata": {},
   "outputs": [],
   "source": []
  },
  {
   "cell_type": "code",
   "execution_count": null,
   "metadata": {},
   "outputs": [],
   "source": [
    "await rot.cmd_stop.start(timeout=10.)"
   ]
  },
  {
   "cell_type": "code",
   "execution_count": null,
   "metadata": {},
   "outputs": [],
   "source": []
  }
 ],
 "metadata": {
  "kernelspec": {
   "display_name": "LSST",
   "language": "python",
   "name": "lsst"
  },
  "language_info": {
   "codemirror_mode": {
    "name": "ipython",
    "version": 3
   },
   "file_extension": ".py",
   "mimetype": "text/x-python",
   "name": "python",
   "nbconvert_exporter": "python",
   "pygments_lexer": "ipython3",
   "version": "3.7.8"
  }
 },
 "nbformat": 4,
 "nbformat_minor": 4
}
