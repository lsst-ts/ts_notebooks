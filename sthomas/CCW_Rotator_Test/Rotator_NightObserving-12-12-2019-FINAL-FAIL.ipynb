{
 "cells": [
  {
   "cell_type": "code",
   "execution_count": 1,
   "metadata": {},
   "outputs": [],
   "source": [
    "import logging\n",
    "import yaml\n",
    "\n",
    "import os\n",
    "import sqlite3\n",
    "import pandas as pd\n",
    "\n",
    "import numpy as np\n",
    "from matplotlib import pyplot as plt\n",
    "import astropy.units as u\n",
    "from astropy.time import Time\n",
    "from astropy.coordinates import AltAz, ICRS, EarthLocation, Angle, FK5\n",
    "import asyncio\n",
    "from lsst.ts import salobj\n",
    "from lsst.ts.idl.enums import ATPtg\n",
    "\n",
    "from astropy.utils import iers\n",
    "iers.conf.auto_download = False\n",
    "\n",
    "from datetime import datetime"
   ]
  },
  {
   "cell_type": "code",
   "execution_count": 2,
   "metadata": {},
   "outputs": [],
   "source": [
    "test_message = \"Rotator Night Observing integration test\""
   ]
  },
  {
   "cell_type": "markdown",
   "metadata": {},
   "source": [
    "The next cell opens the database for query. "
   ]
  },
  {
   "cell_type": "code",
   "execution_count": 3,
   "metadata": {},
   "outputs": [],
   "source": [
    "con = sqlite3.connect(os.path.expanduser(\"~/develop/one_filt_v1.4_0yrs_1.db\"))"
   ]
  },
  {
   "cell_type": "markdown",
   "metadata": {},
   "source": [
    "Once the database is opened/connected we can query for all the entries in the `SummaryAllProps` database, which contains the information about each target observed. "
   ]
  },
  {
   "cell_type": "code",
   "execution_count": 4,
   "metadata": {},
   "outputs": [],
   "source": [
    "df = pd.read_sql_query(\"SELECT * from SummaryAllProps\", con)"
   ]
  },
  {
   "cell_type": "code",
   "execution_count": 5,
   "metadata": {},
   "outputs": [],
   "source": [
    "d = salobj.Domain()"
   ]
  },
  {
   "cell_type": "code",
   "execution_count": 6,
   "metadata": {},
   "outputs": [],
   "source": [
    "script = salobj.Controller(\"Script\", index=1)\n",
    "rot = salobj.Remote(d, \"Rotator\")\n",
    "mtptg = salobj.Remote(d, \"MTPtg\")\n",
    "mtm = salobj.Remote(d, \"MTMount\")"
   ]
  },
  {
   "cell_type": "code",
   "execution_count": 14,
   "metadata": {},
   "outputs": [
    {
     "data": {
      "text/plain": [
       "[None, None, None, None]"
      ]
     },
     "execution_count": 14,
     "metadata": {},
     "output_type": "execute_result"
    },
    {
     "name": "stderr",
     "output_type": "stream",
     "text": [
      "RemoteTelemetry(Rotator, 0, Motors) falling behind; read 100 messages\n",
      "RemoteTelemetry(Rotator, 0, Electrical) falling behind; read 100 messages\n"
     ]
    }
   ],
   "source": [
    "await asyncio.gather(rot.start_task,\n",
    "                     mtptg.start_task,\n",
    "                     script.start_task,\n",
    "                     mtm.start_task)"
   ]
  },
  {
   "cell_type": "code",
   "execution_count": null,
   "metadata": {},
   "outputs": [],
   "source": [
    "await asyncio.sleep(1.)\n",
    "await salobj.set_summary_state(mtptg, salobj.State.ENABLED)\n",
    "await salobj.set_summary_state(rot, salobj.State.ENABLED)"
   ]
  },
  {
   "cell_type": "code",
   "execution_count": null,
   "metadata": {},
   "outputs": [],
   "source": [
    "await mtm.cmd_enterControl.start(timeout=10.)\n",
    "await mtm.cmd_start.start(timeout=10.)\n",
    "await mtm.cmd_enable.start(timeout=10.)"
   ]
  },
  {
   "cell_type": "markdown",
   "metadata": {},
   "source": [
    "Start the loop on the different field positions df given by the scheduler"
   ]
  },
  {
   "cell_type": "code",
   "execution_count": 8,
   "metadata": {},
   "outputs": [
    {
     "name": "stdout",
     "output_type": "stream",
     "text": [
      "Number of visits: 971\n"
     ]
    }
   ],
   "source": [
    "### Read the scheduler output positions for the next 8 hours\n",
    "print(\"Number of visits:\", len(df))"
   ]
  },
  {
   "cell_type": "code",
   "execution_count": 9,
   "metadata": {},
   "outputs": [],
   "source": [
    "location = EarthLocation.from_geodetic(lon=-70.747698*u.deg,\n",
    "                                       lat=-30.244728*u.deg,\n",
    "                                       height=2663.0*u.m)"
   ]
  },
  {
   "cell_type": "markdown",
   "metadata": {},
   "source": [
    "# Move to 0 deg Starting Position"
   ]
  },
  {
   "cell_type": "code",
   "execution_count": 22,
   "metadata": {},
   "outputs": [
    {
     "name": "stderr",
     "output_type": "stream",
     "text": [
      "RemoteTelemetry(Rotator, 0, Application) falling behind; read 100 messages\n",
      "RemoteTelemetry(MTMount, 0, Camera_Cable_Wrap) falling behind; read 100 messages\n",
      "RemoteTelemetry(MTPtg, 0, timeAndDate) falling behind; read 100 messages\n"
     ]
    },
    {
     "name": "stdout",
     "output_type": "stream",
     "text": [
      "Start from Park position 2019-12-12 18:31:35.603497\n"
     ]
    },
    {
     "name": "stderr",
     "output_type": "stream",
     "text": [
      "RemoteTelemetry(Rotator, 0, Motors) falling behind; read 100 messages\n",
      "RemoteTelemetry(Rotator, 0, Electrical) falling behind; read 100 messages\n",
      "RemoteTelemetry(MTPtg, 0, mountStatus) falling behind; read 100 messages\n",
      "RemoteEvent(Rotator, 0, heartbeat) falling behind; read 30 messages\n",
      "RemoteTelemetry(MTPtg, 0, guidingAndOffsets) falling behind; read 100 messages\n",
      "RemoteTelemetry(MTPtg, 0, currentTargetStatus) falling behind; read 100 messages\n"
     ]
    },
    {
     "name": "stdout",
     "output_type": "stream",
     "text": [
      "Time error=-56.99 sec\n",
      "0d00m00s\n",
      "Waiting 30s\n"
     ]
    }
   ],
   "source": [
    "now = datetime.now()\n",
    "print(\"Start from Park position\", now)\n",
    "\n",
    "alt = 60. * u.deg\n",
    "az = 0. * u.deg\n",
    "rot_tel = Angle(0, unit= u.deg) \n",
    "\n",
    "target_name=\"Rotator test\"\n",
    "time_data = await mtptg.tel_timeAndDate.next(flush=True, timeout=2)\n",
    "curr_time_mtptg = Time(time_data.tai, format=\"mjd\", scale=\"tai\")\n",
    "time_err = curr_time_mtptg - Time.now()\n",
    "print(f\"Time error={time_err.sec:0.2f} sec\")\n",
    "\n",
    "# Compute RA/Dec for commanded az/el\n",
    "cmd_elaz = AltAz(alt=alt, az=az, \n",
    "                 obstime=curr_time_mtptg.tai, \n",
    "                 location=location)\n",
    "cmd_radec = cmd_elaz.transform_to(ICRS)\n",
    "\n",
    "# Calculating the other parameters     \n",
    "rot_pa = rot_tel\n",
    "print(rot_pa)  \n",
    "\n",
    "await rot.cmd_trackStart.start(timeout=30.)\n",
    "\n",
    "ack = await mtptg.cmd_raDecTarget.set_start(\n",
    "    targetName=target_name,\n",
    "    targetInstance=ATPtg.TargetInstances.CURRENT,\n",
    "    frame=ATPtg.CoordFrame.ICRS,\n",
    "    epoch=2000,  # should be ignored: no parallax or proper motion\n",
    "    equinox=2000,  # should be ignored for ICRS\n",
    "    ra=cmd_radec.ra.hour,\n",
    "    declination=cmd_radec.dec.deg,\n",
    "    parallax=0,\n",
    "    pmRA=0,\n",
    "    pmDec=0,\n",
    "    rv=0,\n",
    "    dRA=0,\n",
    "    dDec=0,\n",
    "    rotPA=rot_pa.deg-180,\n",
    "    rotFrame=ATPtg.RotFrame.FIXED,\n",
    "    rotMode=ATPtg.RotMode.FIELD,\n",
    "    timeout=10\n",
    ")\n",
    "\n",
    "print(\"Waiting 30s\")\n",
    "await asyncio.sleep(30.)"
   ]
  },
  {
   "cell_type": "code",
   "execution_count": 23,
   "metadata": {},
   "outputs": [],
   "source": [
    "await mtptg.cmd_stopTracking.start(timeout=10.)\n",
    "await mtm.cmd_stop.start(timeout=10.)\n",
    "await rot.cmd_stop.start(timeout=10.)\n",
    "await asyncio.sleep(0.5)"
   ]
  },
  {
   "cell_type": "markdown",
   "metadata": {},
   "source": [
    "# Start Test"
   ]
  },
  {
   "cell_type": "code",
   "execution_count": 24,
   "metadata": {},
   "outputs": [
    {
     "name": "stdout",
     "output_type": "stream",
     "text": [
      "Start Test 2019-12-12 18:32:27.874176\n"
     ]
    },
    {
     "data": {
      "text/plain": [
       "False"
      ]
     },
     "execution_count": 24,
     "metadata": {},
     "output_type": "execute_result"
    }
   ],
   "source": [
    "now = datetime.now()\n",
    "print(\"Start Test\", now)\n",
    "script.evt_logMessage.set_put(level=logging.INFO+1,\n",
    "                              message=f\"START - {test_message}\")"
   ]
  },
  {
   "cell_type": "code",
   "execution_count": 25,
   "metadata": {},
   "outputs": [
    {
     "name": "stderr",
     "output_type": "stream",
     "text": [
      "RemoteTelemetry(MTMount, 0, Camera_Cable_Wrap) falling behind; read 100 messages\n",
      "RemoteTelemetry(Rotator, 0, Application) falling behind; read 100 messages\n",
      "RemoteTelemetry(MTPtg, 0, currentTargetStatus) falling behind; read 81 messages\n"
     ]
    },
    {
     "name": "stdout",
     "output_type": "stream",
     "text": [
      "0\n",
      "Alt: 73.57495921073964 deg\n",
      "Az: 4.273461703999071 deg\n",
      "RotTel: 25.191637478972904 deg\n"
     ]
    },
    {
     "name": "stderr",
     "output_type": "stream",
     "text": [
      "RemoteTelemetry(Rotator, 0, Motors) falling behind; read 100 messages\n",
      "RemoteTelemetry(MTPtg, 0, timeAndDate) falling behind; read 82 messages\n",
      "RemoteTelemetry(Rotator, 0, Electrical) falling behind; read 100 messages\n",
      "RemoteTelemetry(MTPtg, 0, mountStatus) falling behind; read 83 messages\n",
      "RemoteEvent(Rotator, 0, heartbeat) falling behind; read 17 messages\n",
      "RemoteTelemetry(MTPtg, 0, guidingAndOffsets) falling behind; read 83 messages\n"
     ]
    },
    {
     "name": "stdout",
     "output_type": "stream",
     "text": [
      "RA: 289.285339575777 deg\n",
      "Dec: -13.896206862587672 deg\n",
      "RotPA: 28.993384547298348 deg\n",
      "Waiting 31.0 s\n",
      "1\n",
      "Alt: 68.83074605748851 deg\n",
      "Az: 8.315007012391357 deg\n",
      "RotTel: 25.832374501812186 deg\n",
      "RA: 291.30618345598793 deg\n",
      "Dec: -9.306030608975567 deg\n",
      "RotPA: 33.10452967576464 deg\n",
      "Waiting 31.0 s\n",
      "2\n",
      "Alt: 66.59882514695401 deg\n",
      "Az: 13.502094205548591 deg\n",
      "RotTel: 25.87354311047927 deg\n",
      "RA: 293.79417544706337 deg\n",
      "Dec: -7.4357595341524405 deg\n",
      "RotPA: 37.60883293952574 deg\n"
     ]
    },
    {
     "ename": "AckError",
     "evalue": "msg='Command failed', ackcmd=(ackcmd private_seqNum=1952084016, ack=<SalRetCode.CMD_FAILED: -302>, error=1, result='Failed: Low-level controller in substate 2.0 instead of <EnabledSubstate.STATIONARY: 0>')",
     "output_type": "error",
     "traceback": [
      "\u001b[0;31m---------------------------------------------------------------------------\u001b[0m",
      "\u001b[0;31mAckError\u001b[0m                                  Traceback (most recent call last)",
      "\u001b[0;32m<ipython-input-25-29d0da51fa5d>\u001b[0m in \u001b[0;36masync-def-wrapper\u001b[0;34m()\u001b[0m\n\u001b[1;32m     28\u001b[0m \u001b[0;34m\u001b[0m\u001b[0m\n\u001b[1;32m     29\u001b[0m     ack = await mtptg.cmd_raDecTarget.set_start(\n\u001b[0;32m---> 30\u001b[0;31m        \u001b[0mtargetName\u001b[0m\u001b[0;34m=\u001b[0m\u001b[0mtarget_name\u001b[0m\u001b[0;34m,\u001b[0m\u001b[0;34m\u001b[0m\u001b[0;34m\u001b[0m\u001b[0m\n\u001b[0m\u001b[1;32m     31\u001b[0m        \u001b[0mtargetInstance\u001b[0m\u001b[0;34m=\u001b[0m\u001b[0mATPtg\u001b[0m\u001b[0;34m.\u001b[0m\u001b[0mTargetInstances\u001b[0m\u001b[0;34m.\u001b[0m\u001b[0mCURRENT\u001b[0m\u001b[0;34m,\u001b[0m\u001b[0;34m\u001b[0m\u001b[0;34m\u001b[0m\u001b[0m\n\u001b[1;32m     32\u001b[0m        \u001b[0mframe\u001b[0m\u001b[0;34m=\u001b[0m\u001b[0mATPtg\u001b[0m\u001b[0;34m.\u001b[0m\u001b[0mCoordFrame\u001b[0m\u001b[0;34m.\u001b[0m\u001b[0mICRS\u001b[0m\u001b[0;34m,\u001b[0m\u001b[0;34m\u001b[0m\u001b[0;34m\u001b[0m\u001b[0m\n",
      "\u001b[0;32m~/repos/ts_salobj/python/lsst/ts/salobj/topics/remote_command.py\u001b[0m in \u001b[0;36mstart\u001b[0;34m(self, data, timeout, wait_done)\u001b[0m\n\u001b[1;32m    360\u001b[0m         \u001b[0mcmd_info\u001b[0m \u001b[0;34m=\u001b[0m \u001b[0m_CommandInfo\u001b[0m\u001b[0;34m(\u001b[0m\u001b[0mremote_command\u001b[0m\u001b[0;34m=\u001b[0m\u001b[0mself\u001b[0m\u001b[0;34m,\u001b[0m \u001b[0mseq_num\u001b[0m\u001b[0;34m=\u001b[0m\u001b[0mseq_num\u001b[0m\u001b[0;34m,\u001b[0m \u001b[0mwait_done\u001b[0m\u001b[0;34m=\u001b[0m\u001b[0mwait_done\u001b[0m\u001b[0;34m)\u001b[0m\u001b[0;34m\u001b[0m\u001b[0;34m\u001b[0m\u001b[0m\n\u001b[1;32m    361\u001b[0m         \u001b[0mself\u001b[0m\u001b[0;34m.\u001b[0m\u001b[0msalinfo\u001b[0m\u001b[0;34m.\u001b[0m\u001b[0m_running_cmds\u001b[0m\u001b[0;34m[\u001b[0m\u001b[0mseq_num\u001b[0m\u001b[0;34m]\u001b[0m \u001b[0;34m=\u001b[0m \u001b[0mcmd_info\u001b[0m\u001b[0;34m\u001b[0m\u001b[0;34m\u001b[0m\u001b[0m\n\u001b[0;32m--> 362\u001b[0;31m         \u001b[0;32mreturn\u001b[0m \u001b[0;32mawait\u001b[0m \u001b[0mcmd_info\u001b[0m\u001b[0;34m.\u001b[0m\u001b[0mnext_ackcmd\u001b[0m\u001b[0;34m(\u001b[0m\u001b[0mtimeout\u001b[0m\u001b[0;34m=\u001b[0m\u001b[0mtimeout\u001b[0m\u001b[0;34m)\u001b[0m\u001b[0;34m\u001b[0m\u001b[0;34m\u001b[0m\u001b[0m\n\u001b[0m",
      "\u001b[0;32m~/repos/ts_salobj/python/lsst/ts/salobj/topics/remote_command.py\u001b[0m in \u001b[0;36mnext_ackcmd\u001b[0;34m(self, timeout)\u001b[0m\n\u001b[1;32m    163\u001b[0m             \u001b[0;31m# print(f\"next_ackcmd got {ackcmd.ack} from _basic_next_ack\")\u001b[0m\u001b[0;34m\u001b[0m\u001b[0;34m\u001b[0m\u001b[0;34m\u001b[0m\u001b[0m\n\u001b[1;32m    164\u001b[0m             \u001b[0;32mif\u001b[0m \u001b[0mackcmd\u001b[0m\u001b[0;34m.\u001b[0m\u001b[0mack\u001b[0m \u001b[0;32min\u001b[0m \u001b[0mself\u001b[0m\u001b[0;34m.\u001b[0m\u001b[0mfailed_ack_codes\u001b[0m\u001b[0;34m:\u001b[0m\u001b[0;34m\u001b[0m\u001b[0;34m\u001b[0m\u001b[0m\n\u001b[0;32m--> 165\u001b[0;31m                 \u001b[0;32mraise\u001b[0m \u001b[0mbase\u001b[0m\u001b[0;34m.\u001b[0m\u001b[0mAckError\u001b[0m\u001b[0;34m(\u001b[0m\u001b[0mmsg\u001b[0m\u001b[0;34m=\u001b[0m\u001b[0;34m\"Command failed\"\u001b[0m\u001b[0;34m,\u001b[0m \u001b[0mackcmd\u001b[0m\u001b[0;34m=\u001b[0m\u001b[0mackcmd\u001b[0m\u001b[0;34m)\u001b[0m\u001b[0;34m\u001b[0m\u001b[0;34m\u001b[0m\u001b[0m\n\u001b[0m\u001b[1;32m    166\u001b[0m             \u001b[0;32mreturn\u001b[0m \u001b[0mackcmd\u001b[0m\u001b[0;34m\u001b[0m\u001b[0;34m\u001b[0m\u001b[0m\n\u001b[1;32m    167\u001b[0m         \u001b[0;32mexcept\u001b[0m \u001b[0masyncio\u001b[0m\u001b[0;34m.\u001b[0m\u001b[0mTimeoutError\u001b[0m\u001b[0;34m:\u001b[0m\u001b[0;34m\u001b[0m\u001b[0;34m\u001b[0m\u001b[0m\n",
      "\u001b[0;31mAckError\u001b[0m: msg='Command failed', ackcmd=(ackcmd private_seqNum=1952084016, ack=<SalRetCode.CMD_FAILED: -302>, error=1, result='Failed: Low-level controller in substate 2.0 instead of <EnabledSubstate.STATIONARY: 0>')"
     ]
    }
   ],
   "source": [
    "## start the loop that take a sky position one at the time and point and track\n",
    "\n",
    "#for field in range(len(df)): \n",
    "for field in range(3): \n",
    "    print(field)\n",
    "    target_name = df[\"note\"][field]\n",
    "    alt = df['altitude'][field] * u.deg\n",
    "    az = df['azimuth'][field] * u.deg\n",
    "    rot_tel = Angle(df[\"rotTelPos\"][field]*u.deg)\n",
    "    para_ang = Angle(df[\"paraAngle\"][field]*u.deg)\n",
    "    rot_pa = para_ang-180*u.deg+rot_tel.wrap_at('180d')\n",
    "    visit_time = df['visitTime'][field]  # how long the visit lasted. Usefull so you can wait between visits\n",
    "    print(f\"Alt: {alt}\\nAz: {az}\\nRotTel: {rot_tel}\")\n",
    "\n",
    "#Here is a small trick to get the ra before transit. Get `timeAndDate` from the pointing component, then use `RA = lst - delta`.\n",
    "    time_data = await mtptg.tel_timeAndDate.next(flush=True, timeout=2)\n",
    "    curr_time_atptg = Time(time_data.tai, format=\"mjd\", scale=\"tai\")\n",
    "\n",
    "# Compute RA/Dec for commanded az/el\n",
    "    cmd_elaz = AltAz(alt=alt, az=az, \n",
    "                 obstime=curr_time_atptg.tai, \n",
    "                 location=location)\n",
    "    cmd_radec = cmd_elaz.transform_to(ICRS) # This is the RA/Dec of the target\n",
    "\n",
    "    print(f\"RA: {cmd_radec.ra}\\nDec: {cmd_radec.dec}\\nRotPA: {rot_pa}\")\n",
    "    \n",
    "    await rot.cmd_trackStart.start(timeout=30.)\n",
    "    \n",
    "    ack = await mtptg.cmd_raDecTarget.set_start(\n",
    "       targetName=target_name,\n",
    "       targetInstance=ATPtg.TargetInstances.CURRENT,\n",
    "       frame=ATPtg.CoordFrame.ICRS,\n",
    "        epoch=2000,  # should be ignored: no parallax or proper motion\n",
    "        equinox=2000,  # should be ignored for ICRS\n",
    "        ra=cmd_radec.ra.hour,\n",
    "        declination=cmd_radec.dec.deg,\n",
    "        parallax=0,\n",
    "        pmRA=0,\n",
    "        pmDec=0,\n",
    "        rv=0,\n",
    "        dRA=0,\n",
    "        dDec=0,\n",
    "        rotPA=rot_pa.deg,\n",
    "        rotFrame=ATPtg.RotFrame.TARGET,\n",
    "        rotMode=ATPtg.RotMode.FIELD,\n",
    "        timeout=10.\n",
    "    )\n",
    "\n",
    "    print(\"Waiting\", visit_time, \"s\")\n",
    "    await asyncio.sleep(visit_time)\n",
    "    \n",
    "    #Workaround for Rotator failing between targets\n",
    "    await mtptg.cmd_stopTracking.start(timeout=10.)\n",
    "    await mtm.cmd_stop.start(timeout=10.)\n",
    "    await rot.cmd_stop.start(timeout=10.)\n",
    "    await asyncio.sleep(0.5)\n",
    "          \n",
    "now = datetime.now()\n",
    "print(\"This is the end of the observing run\", now)"
   ]
  },
  {
   "cell_type": "markdown",
   "metadata": {},
   "source": [
    "# Move to Park position "
   ]
  },
  {
   "cell_type": "code",
   "execution_count": null,
   "metadata": {},
   "outputs": [],
   "source": [
    "now = datetime.now()\n",
    "print(\"Move to park position\", now)\n",
    "\n",
    "alt = 60. * u.deg\n",
    "az = 0. * u.deg\n",
    "rot_tel = Angle(0, unit= u.deg) \n",
    "\n",
    "target_name=\"Rotator test\"\n",
    "time_data = await mtptg.tel_timeAndDate.next(flush=True, timeout=2)\n",
    "curr_time_mtptg = Time(time_data.tai, format=\"mjd\", scale=\"tai\")\n",
    "time_err = curr_time_mtptg - Time.now()\n",
    "print(f\"Time error={time_err.sec:0.2f} sec\")\n",
    "\n",
    "# Compute RA/Dec for commanded az/el\n",
    "cmd_elaz = AltAz(alt=alt, az=az, \n",
    "                 obstime=curr_time_mtptg.tai, \n",
    "                 location=location)\n",
    "cmd_radec = cmd_elaz.transform_to(ICRS)\n",
    "\n",
    "# Calculating the other parameters     \n",
    "rot_pa = rot_tel\n",
    "print(rot_pa)\n",
    "\n",
    "await rot.cmd_trackStart.start(timeout=30.)\n",
    "    \n",
    "ack = await mtptg.cmd_raDecTarget.set_start(\n",
    "    targetName=target_name,\n",
    "    targetInstance=ATPtg.TargetInstances.CURRENT,\n",
    "    frame=ATPtg.CoordFrame.ICRS,\n",
    "    epoch=2000,  # should be ignored: no parallax or proper motion\n",
    "    equinox=2000,  # should be ignored for ICRS\n",
    "    ra=cmd_radec.ra.hour,\n",
    "    declination=cmd_radec.dec.deg,\n",
    "    parallax=0,\n",
    "    pmRA=0,\n",
    "    pmDec=0,\n",
    "    rv=0,\n",
    "    dRA=0,\n",
    "    dDec=0,\n",
    "    rotPA=rot_pa.deg-180,\n",
    "    rotFrame=ATPtg.RotFrame.FIXED,\n",
    "    rotMode=ATPtg.RotMode.FIELD,\n",
    "    timeout=10\n",
    ")\n",
    "\n",
    "print(\"Waiting 1s\")\n",
    "await asyncio.sleep(1.)"
   ]
  },
  {
   "cell_type": "code",
   "execution_count": null,
   "metadata": {},
   "outputs": [],
   "source": [
    "now = datetime.now()\n",
    "print(\"Stopping tracking\", now)\n",
    "\n",
    "#we need to stop the pointing commands before stopping the rotator. This will be integrated in the pointing code\n",
    "await mtptg.cmd_stopTracking.start(timeout=10.)\n",
    "await mtm.cmd_stop.start(timeout=10.)\n",
    "await rot.cmd_stop.start(timeout=10.)"
   ]
  },
  {
   "cell_type": "markdown",
   "metadata": {},
   "source": [
    "# Test Complete"
   ]
  },
  {
   "cell_type": "code",
   "execution_count": null,
   "metadata": {},
   "outputs": [],
   "source": [
    "now = datetime.now()\n",
    "print(\"Test Complete\",now)\n",
    "\n",
    "script.evt_logMessage.set_put(level=logging.INFO+1,\n",
    "                          message=f\"END - {test_message}\")"
   ]
  },
  {
   "cell_type": "markdown",
   "metadata": {},
   "source": [
    "# Additional Error Handling Commands"
   ]
  },
  {
   "cell_type": "markdown",
   "metadata": {},
   "source": [
    "# Bring the Rotator and CCW back to enabled state"
   ]
  },
  {
   "cell_type": "code",
   "execution_count": null,
   "metadata": {},
   "outputs": [],
   "source": [
    "await mtm.cmd_clearerror.start(timeout=30)"
   ]
  },
  {
   "cell_type": "markdown",
   "metadata": {},
   "source": [
    "Wait for override off"
   ]
  },
  {
   "cell_type": "code",
   "execution_count": null,
   "metadata": {},
   "outputs": [],
   "source": [
    "await rot.cmd_clearError.start(timeout=30)"
   ]
  },
  {
   "cell_type": "code",
   "execution_count": 17,
   "metadata": {},
   "outputs": [
    {
     "name": "stderr",
     "output_type": "stream",
     "text": [
      "RemoteTelemetry(MTPtg, 0, mountStatus) falling behind; read 42 messages\n",
      "RemoteTelemetry(MTPtg, 0, guidingAndOffsets) falling behind; read 43 messages\n"
     ]
    },
    {
     "data": {
      "text/plain": [
       "[<State.STANDBY: 5>, <State.DISABLED: 1>, <State.ENABLED: 2>]"
      ]
     },
     "execution_count": 17,
     "metadata": {},
     "output_type": "execute_result"
    }
   ],
   "source": [
    "await salobj.set_summary_state(rot, salobj.State.ENABLED)"
   ]
  },
  {
   "cell_type": "code",
   "execution_count": 21,
   "metadata": {},
   "outputs": [
    {
     "name": "stderr",
     "output_type": "stream",
     "text": [
      "RemoteTelemetry(Rotator, 0, Application) falling behind; read 100 messages\n",
      "RemoteTelemetry(MTMount, 0, Camera_Cable_Wrap) falling behind; read 100 messages\n",
      "RemoteEvent(MTMount, 0, mountState) falling behind; read 24 messages\n",
      "RemoteTelemetry(Rotator, 0, Electrical) falling behind; read 100 messages\n",
      "RemoteEvent(Rotator, 0, heartbeat) falling behind; read 40 messages\n",
      "RemoteTelemetry(MTPtg, 0, currentTargetStatus) falling behind; read 100 messages\n"
     ]
    },
    {
     "data": {
      "text/plain": [
       "<lsst.ts.salobj.ddsutil.MTMount_ackcmd_f692f41c at 0x7fd61e95b9b0>"
      ]
     },
     "execution_count": 21,
     "metadata": {},
     "output_type": "execute_result"
    }
   ],
   "source": [
    "await mtm.cmd_enterControl.start(timeout=30.)\n",
    "await mtm.cmd_start.start(timeout=30.)\n",
    "await mtm.cmd_enable.start(timeout=30.)"
   ]
  },
  {
   "cell_type": "markdown",
   "metadata": {},
   "source": [
    "# Move to sync position with CCW"
   ]
  },
  {
   "cell_type": "code",
   "execution_count": null,
   "metadata": {},
   "outputs": [],
   "source": [
    "print(\"Move to X.X deg starting position\")\n",
    "\n",
    "await rot.cmd_positionSet.set_start(angle=19.04,timeout=30.)\n",
    "\n",
    "await rot.cmd_move.start(timeout=30.)"
   ]
  },
  {
   "cell_type": "code",
   "execution_count": null,
   "metadata": {},
   "outputs": [],
   "source": [
    "await rot.cmd_clearError.start(timeout=10)"
   ]
  },
  {
   "cell_type": "code",
   "execution_count": null,
   "metadata": {},
   "outputs": [],
   "source": [
    "await rot.cmd_exitControl.start(timeout=10.)"
   ]
  },
  {
   "cell_type": "code",
   "execution_count": 16,
   "metadata": {},
   "outputs": [
    {
     "name": "stderr",
     "output_type": "stream",
     "text": [
      "RemoteTelemetry(MTPtg, 0, currentTimesToLimits) falling behind; read 89 messages\n",
      "RemoteEvent(MTPtg, 0, weatherDataApplied) falling behind; read 44 messages\n"
     ]
    },
    {
     "data": {
      "text/plain": [
       "<lsst.ts.salobj.ddsutil.Rotator_ackcmd_ab645545 at 0x7fd6842f9710>"
      ]
     },
     "execution_count": 16,
     "metadata": {},
     "output_type": "execute_result"
    }
   ],
   "source": [
    "await rot.cmd_enterControl.start(timeout=10.)"
   ]
  },
  {
   "cell_type": "code",
   "execution_count": null,
   "metadata": {},
   "outputs": [],
   "source": [
    "await salobj.set_summary_state(rot, salobj.State.ENABLED)"
   ]
  },
  {
   "cell_type": "code",
   "execution_count": null,
   "metadata": {},
   "outputs": [],
   "source": [
    "await rot.cmd_stop.start(timeout=10.)"
   ]
  },
  {
   "cell_type": "code",
   "execution_count": null,
   "metadata": {},
   "outputs": [],
   "source": [
    "await mtm.cmd_clearerror.start(timeout=10)"
   ]
  },
  {
   "cell_type": "code",
   "execution_count": null,
   "metadata": {},
   "outputs": [],
   "source": [
    "await mtptg.cmd_stopTracking.start(timeout=10)\n",
    "await mtm.cmd_stop.start(timeout=10)"
   ]
  },
  {
   "cell_type": "code",
   "execution_count": null,
   "metadata": {},
   "outputs": [],
   "source": [
    "await mtm.cmd_stop.start(timeout=10)"
   ]
  },
  {
   "cell_type": "markdown",
   "metadata": {},
   "source": [
    "Bring CCW Down"
   ]
  },
  {
   "cell_type": "code",
   "execution_count": 20,
   "metadata": {},
   "outputs": [
    {
     "name": "stderr",
     "output_type": "stream",
     "text": [
      "RemoteTelemetry(MTPtg, 0, timeAndDate) falling behind; read 100 messages\n",
      "RemoteTelemetry(MTMount, 0, Camera_Cable_Wrap) falling behind; read 100 messages\n",
      "RemoteTelemetry(Rotator, 0, Application) falling behind; read 100 messages\n",
      "RemoteTelemetry(Rotator, 0, Motors) falling behind; read 100 messages\n",
      "RemoteEvent(MTMount, 0, mountState) falling behind; read 11 messages\n",
      "RemoteTelemetry(Rotator, 0, Electrical) falling behind; read 100 messages\n",
      "RemoteEvent(Rotator, 0, heartbeat) falling behind; read 100 messages\n",
      "RemoteTelemetry(MTPtg, 0, mountStatus) falling behind; read 100 messages\n",
      "RemoteTelemetry(MTPtg, 0, guidingAndOffsets) falling behind; read 100 messages\n",
      "RemoteTelemetry(MTPtg, 0, currentTargetStatus) falling behind; read 100 messages\n",
      "RemoteEvent(MTPtg, 0, weatherDataApplied) falling behind; read 11 messages\n"
     ]
    },
    {
     "data": {
      "text/plain": [
       "<lsst.ts.salobj.ddsutil.MTMount_ackcmd_f692f41c at 0x7fd61dd7e5f8>"
      ]
     },
     "execution_count": 20,
     "metadata": {},
     "output_type": "execute_result"
    }
   ],
   "source": [
    "await mtm.cmd_disable.start(timeout=30.)\n",
    "await mtm.cmd_standby.start(timeout=30.)\n",
    "await mtm.cmd_exitControl.start(timeout=30.)"
   ]
  },
  {
   "cell_type": "markdown",
   "metadata": {},
   "source": [
    "Wait for override off"
   ]
  },
  {
   "cell_type": "code",
   "execution_count": null,
   "metadata": {},
   "outputs": [],
   "source": [
    "await mtm.cmd_enterControl.start(timeout=30.)\n",
    "await mtm.cmd_start.start(timeout=30.)\n",
    "await mtm.cmd_enable.start(timeout=30.)"
   ]
  },
  {
   "cell_type": "code",
   "execution_count": 26,
   "metadata": {},
   "outputs": [
    {
     "name": "stderr",
     "output_type": "stream",
     "text": [
      "RemoteTelemetry(MTMount, 0, Camera_Cable_Wrap) falling behind; read 100 messages\n",
      "RemoteTelemetry(MTPtg, 0, currentTargetStatus) falling behind; read 100 messages\n",
      "RemoteEvent(Rotator, 0, heartbeat) falling behind; read 100 messages\n",
      "RemoteTelemetry(MTPtg, 0, timeAndDate) falling behind; read 100 messages\n",
      "RemoteTelemetry(MTPtg, 0, skyEnvironment) falling behind; read 36 messages\n",
      "RemoteTelemetry(MTPtg, 0, mountStatus) falling behind; read 100 messages\n",
      "RemoteTelemetry(MTPtg, 0, guidingAndOffsets) falling behind; read 100 messages\n",
      "RemoteTelemetry(MTPtg, 0, currentTimesToLimits) falling behind; read 36 messages\n",
      "RemoteEvent(MTPtg, 0, weatherDataApplied) falling behind; read 18 messages\n"
     ]
    },
    {
     "data": {
      "text/plain": [
       "<lsst.ts.salobj.ddsutil.MTPtg_ackcmd_f4c345cf at 0x7fd684bc47f0>"
      ]
     },
     "execution_count": 26,
     "metadata": {},
     "output_type": "execute_result"
    }
   ],
   "source": [
    "await mtptg.cmd_stopTracking.start(timeout=30)"
   ]
  },
  {
   "cell_type": "code",
   "execution_count": null,
   "metadata": {},
   "outputs": [],
   "source": [
    "await salobj.set_summary_state(mtptg, salobj.State.ENABLED)"
   ]
  },
  {
   "cell_type": "code",
   "execution_count": null,
   "metadata": {},
   "outputs": [],
   "source": []
  }
 ],
 "metadata": {
  "kernelspec": {
   "display_name": "Python 3",
   "language": "python",
   "name": "python3"
  },
  "language_info": {
   "codemirror_mode": {
    "name": "ipython",
    "version": 3
   },
   "file_extension": ".py",
   "mimetype": "text/x-python",
   "name": "python",
   "nbconvert_exporter": "python",
   "pygments_lexer": "ipython3",
   "version": "3.7.2"
  }
 },
 "nbformat": 4,
 "nbformat_minor": 4
}
