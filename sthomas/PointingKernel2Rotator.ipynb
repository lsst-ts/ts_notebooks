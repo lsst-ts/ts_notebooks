{
 "cells": [
  {
   "cell_type": "markdown",
   "metadata": {},
   "source": [
    "## This is a notebook that verify the communication of the pointing kernel with the Rotator\n",
    "It is part of a series of notebook that tests the communication between the pointing kernel and different components:\n",
    "- the mount\n",
    "- the rotator\n",
    "- M1M3\n",
    "- M2\n",
    "- Cam hexapod\n",
    "- M2 hexapod\n",
    "We will leave ComCam out of this notebook\n",
    "\n",
    "The goals of the exercice are \n",
    "- Check heartbeat from all components.\n",
    "- Make sure we can put all components in ENABLE state and back to STANDBY.\n",
    "- Check the EFD to ensure that the correct events/commands/telemetry is published\n",
    "\n",
    "This will ensure that we are ready to check the slew when needed\n"
   ]
  },
  {
   "cell_type": "markdown",
   "metadata": {},
   "source": [
    "For M1M3, the only thing that needs to be done is to enable the mirror and all the rest is done internally to the M1M3. As soon as we put the mirror in enable position, the M1M3 will be already in closed-loop. The mirror is raised when it's enable. \n",
    "Needs to add the tma for this simulator. \n"
   ]
  },
  {
   "cell_type": "code",
   "execution_count": 1,
   "metadata": {},
   "outputs": [],
   "source": [
    "#from lsst.ts.observatory.maintel import MTCS\n",
    "from lsst.ts import salobj\n",
    "from lsst.ts.idl.enums import ATPtg\n",
    "\n",
    "import asyncio\n",
    "\n",
    "import numpy as np\n",
    "from matplotlib import pyplot as plt\n",
    "import astropy.units as u\n",
    "from astropy.time import Time\n",
    "from astropy.coordinates import AltAz, ICRS, EarthLocation, Angle, FK5\n",
    "from astropy.utils import iers\n",
    "iers.conf.auto_download = False\n",
    "\n",
    "from datetime import datetime\n"
   ]
  },
  {
   "cell_type": "code",
   "execution_count": null,
   "metadata": {},
   "outputs": [],
   "source": [
    "#domain = salobj.Domain()\n",
    "# I don't need this if I am calling a controller using script"
   ]
  },
  {
   "cell_type": "code",
   "execution_count": 2,
   "metadata": {},
   "outputs": [],
   "source": [
    "now = datetime.now()"
   ]
  },
  {
   "cell_type": "code",
   "execution_count": null,
   "metadata": {},
   "outputs": [],
   "source": []
  },
  {
   "cell_type": "code",
   "execution_count": null,
   "metadata": {},
   "outputs": [],
   "source": []
  },
  {
   "cell_type": "code",
   "execution_count": 3,
   "metadata": {},
   "outputs": [
    {
     "name": "stdout",
     "output_type": "stream",
     "text": [
      "time to start is 0:00:07.280574 [s]\n"
     ]
    }
   ],
   "source": [
    "start_time = datetime.now()\n",
    "script = salobj.Controller(\"Script\", index=1)\n",
    "mtptg = salobj.Remote(script.domain, \"MTPtg\")\n",
    "rot = salobj.Remote(script.domain, \"Rotator\")\n",
    "print(f'time to start is {datetime.now() - start_time} [s]')"
   ]
  },
  {
   "cell_type": "code",
   "execution_count": null,
   "metadata": {},
   "outputs": [],
   "source": []
  },
  {
   "cell_type": "code",
   "execution_count": null,
   "metadata": {},
   "outputs": [],
   "source": []
  },
  {
   "cell_type": "code",
   "execution_count": 4,
   "metadata": {},
   "outputs": [
    {
     "data": {
      "text/plain": [
       "[None, None, None]"
      ]
     },
     "execution_count": 4,
     "metadata": {},
     "output_type": "execute_result"
    }
   ],
   "source": [
    "await asyncio.gather(mtptg.start_task,\n",
    "                     script.start_task,\n",
    "                     rot.start_task)"
   ]
  },
  {
   "cell_type": "code",
   "execution_count": null,
   "metadata": {},
   "outputs": [],
   "source": []
  },
  {
   "cell_type": "code",
   "execution_count": 6,
   "metadata": {},
   "outputs": [
    {
     "data": {
      "text/plain": [
       "<ddsutil.MTPtg_logevent_heartbeat_4d2be8e1 at 0x7f2e426b7390>"
      ]
     },
     "execution_count": 6,
     "metadata": {},
     "output_type": "execute_result"
    }
   ],
   "source": [
    "await mtptg.evt_heartbeat.next(flush=True, timeout=5)"
   ]
  },
  {
   "cell_type": "code",
   "execution_count": 8,
   "metadata": {},
   "outputs": [
    {
     "data": {
      "text/plain": [
       "<ddsutil.Rotator_logevent_heartbeat_7382c2e8 at 0x7f2e42c9dd50>"
      ]
     },
     "execution_count": 8,
     "metadata": {},
     "output_type": "execute_result"
    }
   ],
   "source": [
    "await rot.evt_heartbeat.next(flush=True, timeout=5)"
   ]
  },
  {
   "cell_type": "code",
   "execution_count": 7,
   "metadata": {},
   "outputs": [
    {
     "data": {
      "text/plain": [
       "<ddsutil.MTPtg_logevent_summaryState_22de30e4 at 0x7f2e426d2e10>"
      ]
     },
     "execution_count": 7,
     "metadata": {},
     "output_type": "execute_result"
    }
   ],
   "source": [
    "await mtptg.evt_summaryState.aget(timeout=5)"
   ]
  },
  {
   "cell_type": "code",
   "execution_count": 18,
   "metadata": {},
   "outputs": [
    {
     "name": "stdout",
     "output_type": "stream",
     "text": [
      "private_revCode: a25c3281, private_sndStamp: 1592852148.7455082, private_rcvStamp: 1592883095.4188397, private_seqNum: 4, private_origin: 31, private_host: 251090770, summaryState: 2, priority: 0\n"
     ]
    },
    {
     "data": {
      "text/plain": [
       "<State.ENABLED: 2>"
      ]
     },
     "execution_count": 18,
     "metadata": {},
     "output_type": "execute_result"
    }
   ],
   "source": [
    "#tells me what the state of the component is\n",
    "tmp= await rot.evt_summaryState.aget(timeout=5)\n",
    "print(tmp)\n",
    "salobj.State(tmp.summaryState)"
   ]
  },
  {
   "cell_type": "code",
   "execution_count": 19,
   "metadata": {
    "collapsed": true,
    "jupyter": {
     "outputs_hidden": true
    }
   },
   "outputs": [
    {
     "name": "stdout",
     "output_type": "stream",
     "text": [
      "Help on RemoteCommand in module lsst.ts.salobj.topics.remote_command object:\n",
      "\n",
      "class RemoteCommand(lsst.ts.salobj.topics.write_topic.WriteTopic)\n",
      " |  RemoteCommand(salinfo, name)\n",
      " |  \n",
      " |  Issue a specific command topic and wait for acknowldgement.\n",
      " |  \n",
      " |  Parameters\n",
      " |  ----------\n",
      " |  salinfo : `.SalInfo`\n",
      " |      SAL component information\n",
      " |  name : `str`\n",
      " |      Command name\n",
      " |  \n",
      " |  Method resolution order:\n",
      " |      RemoteCommand\n",
      " |      lsst.ts.salobj.topics.write_topic.WriteTopic\n",
      " |      lsst.ts.salobj.topics.base_topic.BaseTopic\n",
      " |      abc.ABC\n",
      " |      builtins.object\n",
      " |  \n",
      " |  Methods defined here:\n",
      " |  \n",
      " |  __init__(self, salinfo, name)\n",
      " |      Initialize self.  See help(type(self)) for accurate signature.\n",
      " |  \n",
      " |  next_ackcmd(self, ackcmd, timeout=3600, wait_done=True)\n",
      " |      Wait for the next acknowledement for the command\n",
      " |      \n",
      " |      Parameters\n",
      " |      ----------\n",
      " |      ackcmd : `SalInfo.AckCmdType`\n",
      " |          The command acknowledgement returned by\n",
      " |          the previous wait (e.g. from `start`).\n",
      " |      timeout : `float` (optional)\n",
      " |          Time limit, in seconds. If None then no time limit.\n",
      " |          This time limit is for the entire command if wait_done\n",
      " |          is true, else it is for the first acknowledgement\n",
      " |          after the initial \"SAL__CMD_ACK\".\n",
      " |      wait_done : `bool` (optional)\n",
      " |          If True then wait for final command acknowledgement.\n",
      " |          If False then wait until the next command acknowledgement;\n",
      " |          if that acknowledgement is not final (the ack code is not in\n",
      " |          ``done_ack_codes``), then you will almost certainly want to\n",
      " |          await `next_ackcmd` again.\n",
      " |      \n",
      " |      Returns\n",
      " |      -------\n",
      " |      ackcmd : `SalInfo.AckCmdType`\n",
      " |          Command acknowledgement.\n",
      " |      \n",
      " |      Raises\n",
      " |      ------\n",
      " |      salobj.AckError\n",
      " |          If the command fails or times out.\n",
      " |      RuntimeError\n",
      " |          If the command specified by ``seq_num`` is unknown\n",
      " |          or has already finished.\n",
      " |  \n",
      " |  set(self, **kwargs)\n",
      " |      Create a new ``self.data`` and set one or more fields.\n",
      " |      \n",
      " |      Parameters\n",
      " |      ----------\n",
      " |      **kwargs : `dict` [`str`, ``any``]\n",
      " |          Dict of field name: new value for that field:\n",
      " |      \n",
      " |          * Any key whose value is `None` is checked for existence,\n",
      " |            but the value of the field is not changed.\n",
      " |          * If the field being set is an array then the value must either\n",
      " |            be an array of the same length or a scalar (which replaces\n",
      " |            every element of the array).\n",
      " |      \n",
      " |      Returns\n",
      " |      -------\n",
      " |      did_change : `bool`\n",
      " |          True if data was changed or if this was the first call to `set`.\n",
      " |      \n",
      " |      Raises\n",
      " |      ------\n",
      " |      AttributeError\n",
      " |          If the topic does not have the specified field.\n",
      " |      ValueError\n",
      " |          If the field cannot be set to the specified value.\n",
      " |      \n",
      " |      Notes\n",
      " |      -----\n",
      " |      If one or more fields cannot be set, the data may be partially updated.\n",
      " |  \n",
      " |  set_start(self, timeout=3600, wait_done=True, **kwargs)\n",
      " |      Create a new ``self.data``, set zero or more fields,\n",
      " |      and start the command.\n",
      " |      \n",
      " |      Parameters\n",
      " |      ----------\n",
      " |      timeout : `float` (optional)\n",
      " |          Time limit, in seconds. If None then no time limit.\n",
      " |          This time limit is for the entire command if wait_done\n",
      " |          is true, else it is for the first acknowledgement\n",
      " |          after the initial \"SAL__CMD_ACK\".\n",
      " |      wait_done : `bool` (optional)\n",
      " |          If True then wait for final command acknowledgement.\n",
      " |          If False then wait for the first acknowledgement after the\n",
      " |          initial \"SAL__CMD_ACK\"; if that acknowledgement is not final\n",
      " |          (the ack code is not in done_ack_codes), then you will almost\n",
      " |          certainly want to await `next_ackcmd`.\n",
      " |      **kwargs : `dict` [`str`, ``any``]\n",
      " |          The remaining keyword arguments are\n",
      " |          field name = new value for that field.\n",
      " |          See `set` for more information about values.\n",
      " |      \n",
      " |      Returns\n",
      " |      -------\n",
      " |      ackcmd : `SalInfo.AckCmdType`\n",
      " |          Command acknowledgement.\n",
      " |      \n",
      " |      Raises\n",
      " |      ------\n",
      " |      salobj.AckError\n",
      " |          If the command fails.\n",
      " |      salobj.AckTimeoutError\n",
      " |          If the command times out.\n",
      " |      TypeError\n",
      " |          If ``data`` is not None and not an instance of `DataType`.\n",
      " |  \n",
      " |  start(self, data=None, timeout=3600, wait_done=True)\n",
      " |      Start a command.\n",
      " |      \n",
      " |      Parameters\n",
      " |      ----------\n",
      " |      data : ``self.DataType`` (optional)\n",
      " |          Command data. If None then send the current data.\n",
      " |      timeout : `float` (optional)\n",
      " |          Time limit, in seconds. If None then no time limit.\n",
      " |          This time limit is for the entire command if wait_done\n",
      " |          is true, else it is for the first acknowledgement\n",
      " |          after the initial \"SAL__CMD_ACK\".\n",
      " |      wait_done : `bool` (optional)\n",
      " |          If True then wait for final command acknowledgement.\n",
      " |          If False then wait for the first acknowledgement after the\n",
      " |          initial \"SAL__CMD_ACK\"; if that acknowledgement is not final\n",
      " |          (the ack code is not in done_ack_codes), then you will almost\n",
      " |          certainly want to await `next_ackcmd`.\n",
      " |      \n",
      " |      Returns\n",
      " |      -------\n",
      " |      ackcmd : `SalInfo.AckCmdType`\n",
      " |          Command acknowledgement.\n",
      " |      \n",
      " |      Raises\n",
      " |      ------\n",
      " |      salobj.AckError\n",
      " |          If the command fails.\n",
      " |      salobj.AckTimeoutError\n",
      " |          If the command times out.\n",
      " |      RuntimeError\n",
      " |          If the ``salinfo`` has not started reading.\n",
      " |      TypeError\n",
      " |          If ``data`` is not None and not an instance of `DataType`.\n",
      " |  \n",
      " |  ----------------------------------------------------------------------\n",
      " |  Data and other attributes defined here:\n",
      " |  \n",
      " |  __abstractmethods__ = frozenset()\n",
      " |  \n",
      " |  ----------------------------------------------------------------------\n",
      " |  Methods inherited from lsst.ts.salobj.topics.write_topic.WriteTopic:\n",
      " |  \n",
      " |  close(self)\n",
      " |      Shut down and release resources.\n",
      " |      \n",
      " |      Intended to be called by SalInfo.close(),\n",
      " |      since that tracks all topics.\n",
      " |  \n",
      " |  put(self, data=None, priority=0)\n",
      " |      Output this topic.\n",
      " |      \n",
      " |      Parameters\n",
      " |      ----------\n",
      " |      data : ``self.DataType`` or `None`\n",
      " |          New data to replace ``self.data``, if any.\n",
      " |      priority : `int` (optional)\n",
      " |          Priority; used to set the priority field of events.\n",
      " |          Ignored for commands and telemetry.\n",
      " |      \n",
      " |      Raises\n",
      " |      ------\n",
      " |      TypeError\n",
      " |          If ``data`` is not None and not an instance of `DataType`.\n",
      " |  \n",
      " |  ----------------------------------------------------------------------\n",
      " |  Data descriptors inherited from lsst.ts.salobj.topics.write_topic.WriteTopic:\n",
      " |  \n",
      " |  data\n",
      " |      Get or set internally cached data.\n",
      " |      \n",
      " |      Parameters\n",
      " |      ----------\n",
      " |      data : `DataType`\n",
      " |          New data.\n",
      " |      \n",
      " |      Raises\n",
      " |      ------\n",
      " |      TypeError\n",
      " |          If ``data`` is not an instance of `DataType`\n",
      " |      \n",
      " |      Notes\n",
      " |      -----\n",
      " |      You must not modify the returned data, nor assume that it will be\n",
      " |      constant. If you need a copy then make it yourself.\n",
      " |  \n",
      " |  has_data\n",
      " |      Has `data` ever been set?\n",
      " |  \n",
      " |  ----------------------------------------------------------------------\n",
      " |  Methods inherited from lsst.ts.salobj.topics.base_topic.BaseTopic:\n",
      " |  \n",
      " |  __repr__(self)\n",
      " |      Return repr(self).\n",
      " |  \n",
      " |  ----------------------------------------------------------------------\n",
      " |  Data descriptors inherited from lsst.ts.salobj.topics.base_topic.BaseTopic:\n",
      " |  \n",
      " |  DataType\n",
      " |      The class of data for this topic.\n",
      " |  \n",
      " |  __dict__\n",
      " |      dictionary for instance variables (if defined)\n",
      " |  \n",
      " |  __weakref__\n",
      " |      list of weak references to the object (if defined)\n",
      " |  \n",
      " |  metadata\n",
      " |      Get topic metadata as a `TopicMetadata`, if available, else `None`.\n",
      "\n"
     ]
    }
   ],
   "source": [
    "#This gives what is after start\n",
    "help(mtptg.cmd_start)"
   ]
  },
  {
   "cell_type": "code",
   "execution_count": null,
   "metadata": {},
   "outputs": [],
   "source": []
  },
  {
   "cell_type": "code",
   "execution_count": 2,
   "metadata": {},
   "outputs": [
    {
     "ename": "NameError",
     "evalue": "name 'mtptg' is not defined",
     "output_type": "error",
     "traceback": [
      "\u001b[0;31m---------------------------------------------------------------------------\u001b[0m",
      "\u001b[0;31mNameError\u001b[0m                                 Traceback (most recent call last)",
      "\u001b[0;32m<ipython-input-2-6b550cb2165a>\u001b[0m in \u001b[0;36masync-def-wrapper\u001b[0;34m()\u001b[0m\n",
      "\u001b[0;31mNameError\u001b[0m: name 'mtptg' is not defined"
     ]
    }
   ],
   "source": [
    "#use this command if we want to force the start and check how bad the communication\n",
    "await mtptg.cmd_start.start(timeout=5)"
   ]
  },
  {
   "cell_type": "code",
   "execution_count": null,
   "metadata": {},
   "outputs": [],
   "source": [
    "#if not enabled do the following: these are always safe to run"
   ]
  },
  {
   "cell_type": "code",
   "execution_count": 5,
   "metadata": {},
   "outputs": [
    {
     "data": {
      "text/plain": [
       "[<State.ENABLED: 2>]"
      ]
     },
     "execution_count": 5,
     "metadata": {},
     "output_type": "execute_result"
    }
   ],
   "source": [
    "await salobj.set_summary_state(mtptg, salobj.State.ENABLED)"
   ]
  },
  {
   "cell_type": "code",
   "execution_count": 14,
   "metadata": {
    "collapsed": true,
    "jupyter": {
     "outputs_hidden": true
    }
   },
   "outputs": [
    {
     "ename": "RuntimeError",
     "evalue": "Cannot get summaryState from Rotator",
     "output_type": "error",
     "traceback": [
      "\u001b[0;31m---------------------------------------------------------------------------\u001b[0m",
      "\u001b[0;31mTimeoutError\u001b[0m                              Traceback (most recent call last)",
      "\u001b[0;32m/opt/lsst/src/ts_salobj/python/lsst/ts/salobj/csc_utils.py\u001b[0m in \u001b[0;36mset_summary_state\u001b[0;34m(remote, state, settingsToApply, timeout)\u001b[0m\n\u001b[1;32m    114\u001b[0m     \u001b[0;32mtry\u001b[0m\u001b[0;34m:\u001b[0m\u001b[0;34m\u001b[0m\u001b[0;34m\u001b[0m\u001b[0m\n\u001b[0;32m--> 115\u001b[0;31m         \u001b[0mstate_data\u001b[0m \u001b[0;34m=\u001b[0m \u001b[0;32mawait\u001b[0m \u001b[0mremote\u001b[0m\u001b[0;34m.\u001b[0m\u001b[0mevt_summaryState\u001b[0m\u001b[0;34m.\u001b[0m\u001b[0maget\u001b[0m\u001b[0;34m(\u001b[0m\u001b[0mtimeout\u001b[0m\u001b[0;34m=\u001b[0m\u001b[0mtimeout\u001b[0m\u001b[0;34m)\u001b[0m\u001b[0;34m\u001b[0m\u001b[0;34m\u001b[0m\u001b[0m\n\u001b[0m\u001b[1;32m    116\u001b[0m     \u001b[0;32mexcept\u001b[0m \u001b[0masyncio\u001b[0m\u001b[0;34m.\u001b[0m\u001b[0mTimeoutError\u001b[0m\u001b[0;34m:\u001b[0m\u001b[0;34m\u001b[0m\u001b[0;34m\u001b[0m\u001b[0m\n",
      "\u001b[0;32m/opt/lsst/src/ts_salobj/python/lsst/ts/salobj/topics/read_topic.py\u001b[0m in \u001b[0;36maget\u001b[0;34m(self, timeout)\u001b[0m\n\u001b[1;32m    402\u001b[0m             \u001b[0;32mreturn\u001b[0m \u001b[0mself\u001b[0m\u001b[0;34m.\u001b[0m\u001b[0m_current_data\u001b[0m\u001b[0;34m\u001b[0m\u001b[0;34m\u001b[0m\u001b[0m\n\u001b[0;32m--> 403\u001b[0;31m         \u001b[0;32mreturn\u001b[0m \u001b[0;32mawait\u001b[0m \u001b[0mself\u001b[0m\u001b[0;34m.\u001b[0m\u001b[0m_next\u001b[0m\u001b[0;34m(\u001b[0m\u001b[0mtimeout\u001b[0m\u001b[0;34m=\u001b[0m\u001b[0mtimeout\u001b[0m\u001b[0;34m)\u001b[0m\u001b[0;34m\u001b[0m\u001b[0;34m\u001b[0m\u001b[0m\n\u001b[0m\u001b[1;32m    404\u001b[0m \u001b[0;34m\u001b[0m\u001b[0m\n",
      "\u001b[0;32m/opt/lsst/src/ts_salobj/python/lsst/ts/salobj/topics/read_topic.py\u001b[0m in \u001b[0;36m_next\u001b[0;34m(self, timeout)\u001b[0m\n\u001b[1;32m    513\u001b[0m             \u001b[0mself\u001b[0m\u001b[0;34m.\u001b[0m\u001b[0m_next_task\u001b[0m \u001b[0;34m=\u001b[0m \u001b[0masyncio\u001b[0m\u001b[0;34m.\u001b[0m\u001b[0mFuture\u001b[0m\u001b[0;34m(\u001b[0m\u001b[0;34m)\u001b[0m\u001b[0;34m\u001b[0m\u001b[0;34m\u001b[0m\u001b[0m\n\u001b[0;32m--> 514\u001b[0;31m         \u001b[0;32mawait\u001b[0m \u001b[0masyncio\u001b[0m\u001b[0;34m.\u001b[0m\u001b[0mwait_for\u001b[0m\u001b[0;34m(\u001b[0m\u001b[0mself\u001b[0m\u001b[0;34m.\u001b[0m\u001b[0m_next_task\u001b[0m\u001b[0;34m,\u001b[0m \u001b[0mtimeout\u001b[0m\u001b[0;34m=\u001b[0m\u001b[0mtimeout\u001b[0m\u001b[0;34m)\u001b[0m\u001b[0;34m\u001b[0m\u001b[0;34m\u001b[0m\u001b[0m\n\u001b[0m\u001b[1;32m    515\u001b[0m         \u001b[0;32mreturn\u001b[0m \u001b[0mself\u001b[0m\u001b[0;34m.\u001b[0m\u001b[0m_data_queue\u001b[0m\u001b[0;34m.\u001b[0m\u001b[0mpopleft\u001b[0m\u001b[0;34m(\u001b[0m\u001b[0;34m)\u001b[0m\u001b[0;34m\u001b[0m\u001b[0;34m\u001b[0m\u001b[0m\n",
      "\u001b[0;32m/opt/lsst/software/stack/python/miniconda3-4.7.12/envs/lsst-scipipe-973126a/lib/python3.7/asyncio/tasks.py\u001b[0m in \u001b[0;36mwait_for\u001b[0;34m(fut, timeout, loop)\u001b[0m\n\u001b[1;32m    448\u001b[0m             \u001b[0;32mawait\u001b[0m \u001b[0m_cancel_and_wait\u001b[0m\u001b[0;34m(\u001b[0m\u001b[0mfut\u001b[0m\u001b[0;34m,\u001b[0m \u001b[0mloop\u001b[0m\u001b[0;34m=\u001b[0m\u001b[0mloop\u001b[0m\u001b[0;34m)\u001b[0m\u001b[0;34m\u001b[0m\u001b[0;34m\u001b[0m\u001b[0m\n\u001b[0;32m--> 449\u001b[0;31m             \u001b[0;32mraise\u001b[0m \u001b[0mfutures\u001b[0m\u001b[0;34m.\u001b[0m\u001b[0mTimeoutError\u001b[0m\u001b[0;34m(\u001b[0m\u001b[0;34m)\u001b[0m\u001b[0;34m\u001b[0m\u001b[0;34m\u001b[0m\u001b[0m\n\u001b[0m\u001b[1;32m    450\u001b[0m     \u001b[0;32mfinally\u001b[0m\u001b[0;34m:\u001b[0m\u001b[0;34m\u001b[0m\u001b[0;34m\u001b[0m\u001b[0m\n",
      "\u001b[0;31mTimeoutError\u001b[0m: ",
      "\nDuring handling of the above exception, another exception occurred:\n",
      "\u001b[0;31mRuntimeError\u001b[0m                              Traceback (most recent call last)",
      "\u001b[0;32m<ipython-input-14-73233dbbb91a>\u001b[0m in \u001b[0;36masync-def-wrapper\u001b[0;34m()\u001b[0m\n",
      "\u001b[0;32m/opt/lsst/src/ts_salobj/python/lsst/ts/salobj/csc_utils.py\u001b[0m in \u001b[0;36mset_summary_state\u001b[0;34m(remote, state, settingsToApply, timeout)\u001b[0m\n\u001b[1;32m    115\u001b[0m         \u001b[0mstate_data\u001b[0m \u001b[0;34m=\u001b[0m \u001b[0;32mawait\u001b[0m \u001b[0mremote\u001b[0m\u001b[0;34m.\u001b[0m\u001b[0mevt_summaryState\u001b[0m\u001b[0;34m.\u001b[0m\u001b[0maget\u001b[0m\u001b[0;34m(\u001b[0m\u001b[0mtimeout\u001b[0m\u001b[0;34m=\u001b[0m\u001b[0mtimeout\u001b[0m\u001b[0;34m)\u001b[0m\u001b[0;34m\u001b[0m\u001b[0;34m\u001b[0m\u001b[0m\n\u001b[1;32m    116\u001b[0m     \u001b[0;32mexcept\u001b[0m \u001b[0masyncio\u001b[0m\u001b[0;34m.\u001b[0m\u001b[0mTimeoutError\u001b[0m\u001b[0;34m:\u001b[0m\u001b[0;34m\u001b[0m\u001b[0;34m\u001b[0m\u001b[0m\n\u001b[0;32m--> 117\u001b[0;31m         \u001b[0;32mraise\u001b[0m \u001b[0mRuntimeError\u001b[0m\u001b[0;34m(\u001b[0m\u001b[0;34mf\"Cannot get summaryState from {remote.salinfo.name}\"\u001b[0m\u001b[0;34m)\u001b[0m\u001b[0;34m\u001b[0m\u001b[0;34m\u001b[0m\u001b[0m\n\u001b[0m\u001b[1;32m    118\u001b[0m     \u001b[0mcurrent_state\u001b[0m \u001b[0;34m=\u001b[0m \u001b[0mState\u001b[0m\u001b[0;34m(\u001b[0m\u001b[0mstate_data\u001b[0m\u001b[0;34m.\u001b[0m\u001b[0msummaryState\u001b[0m\u001b[0;34m)\u001b[0m\u001b[0;34m\u001b[0m\u001b[0;34m\u001b[0m\u001b[0m\n\u001b[1;32m    119\u001b[0m \u001b[0;34m\u001b[0m\u001b[0m\n",
      "\u001b[0;31mRuntimeError\u001b[0m: Cannot get summaryState from Rotator"
     ]
    }
   ],
   "source": [
    "await salobj.set_summary_state(rot, salobj.State.ENABLED)"
   ]
  },
  {
   "cell_type": "code",
   "execution_count": 6,
   "metadata": {},
   "outputs": [],
   "source": [
    "location = EarthLocation.from_geodetic(lon=-70.747698*u.deg,\n",
    "                                       lat=-30.244728*u.deg,\n",
    "                                       height=2663.0*u.m)"
   ]
  },
  {
   "cell_type": "code",
   "execution_count": null,
   "metadata": {},
   "outputs": [],
   "source": [
    "#Where do I start tracking here?"
   ]
  },
  {
   "cell_type": "code",
   "execution_count": 7,
   "metadata": {},
   "outputs": [
    {
     "name": "stdout",
     "output_type": "stream",
     "text": [
      "Start to point the telescope 2020-06-23 21:19:15.801427\n",
      "Time error=27.00 sec\n",
      "59023.889119612686\n"
     ]
    },
    {
     "name": "stderr",
     "output_type": "stream",
     "text": [
      "WARNING: Tried to get polar motions for times after IERS data is valid. Defaulting to polar motion from the 50-yr mean for those. This may affect precision at the 10s of arcsec level [astropy.coordinates.builtin_frames.utils]\n",
      "WARNING: (some) times are outside of range covered by IERS table. Assuming UT1-UTC=0 for coordinate transformations. [astropy.coordinates.builtin_frames.utils]\n"
     ]
    }
   ],
   "source": [
    "now = datetime.now()\n",
    "print(\"Start to point the telescope\", now)\n",
    "\n",
    "alt = 60. * u.deg\n",
    "az = 0. * u.deg\n",
    "rot_tel = Angle(20, unit= u.deg) \n",
    "\n",
    "target_name=\"TMA motion test\"\n",
    "time_data = await mtptg.tel_timeAndDate.next(flush=True, timeout=2)\n",
    "curr_time_mtptg = Time(time_data.mjd, format=\"mjd\", scale=\"tai\")\n",
    "time_err = curr_time_mtptg - Time.now()\n",
    "print(f\"Time error={time_err.sec:0.2f} sec\")\n",
    "\n",
    "print(curr_time_mtptg.tai.value)\n",
    "\n",
    "cmd_elaz = AltAz(alt=alt, az=az, \n",
    "                obstime=curr_time_mtptg.tai, \n",
    "                location=location)\n",
    "cmd_radec = cmd_elaz.transform_to(ICRS)\n",
    "# Calculating the other parameters     \n",
    "rot_pa = rot_tel"
   ]
  },
  {
   "cell_type": "code",
   "execution_count": 8,
   "metadata": {},
   "outputs": [
    {
     "name": "stdout",
     "output_type": "stream",
     "text": [
      "Waiting 30s\n"
     ]
    }
   ],
   "source": [
    "#The pointing component is commanding the rot directly\n",
    "ack = await mtptg.cmd_raDecTarget.set_start(\n",
    "    targetName=target_name,\n",
    "    frame=ATPtg.CoordFrame.ICRS,\n",
    "    epoch=2000,  # should be ignored: no parallax or proper motion\n",
    "    equinox=2000,  # should be ignored for ICRS\n",
    "    ra=cmd_radec.ra.hour,\n",
    "    declination=cmd_radec.dec.deg,\n",
    "    parallax=0,\n",
    "    pmRA=0,\n",
    "    pmDec=0,\n",
    "    rv=0,\n",
    "    dRA=0,\n",
    "    dDec=0,\n",
    "    rotPA=rot_pa.deg-180,\n",
    "    rotFrame=ATPtg.RotFrame.FIXED,\n",
    "    rotMode=ATPtg.RotMode.FIELD,\n",
    "    timeout=10\n",
    ")\n",
    "\n",
    "print(\"Waiting 30s\")\n",
    "await asyncio.sleep(30.)"
   ]
  },
  {
   "cell_type": "code",
   "execution_count": 33,
   "metadata": {},
   "outputs": [],
   "source": [
    "rot_tel = Angle(40, unit= u.deg) \n",
    "rot_pa = rot_tel"
   ]
  },
  {
   "cell_type": "code",
   "execution_count": 35,
   "metadata": {},
   "outputs": [],
   "source": [
    "#it did take a while to show on chronograph so I will try sleep 1s. with rot = 60\n",
    "rot_tel = Angle(60, unit= u.deg) \n",
    "rot_pa = rot_tel"
   ]
  },
  {
   "cell_type": "code",
   "execution_count": null,
   "metadata": {},
   "outputs": [],
   "source": []
  },
  {
   "cell_type": "code",
   "execution_count": 36,
   "metadata": {},
   "outputs": [
    {
     "name": "stdout",
     "output_type": "stream",
     "text": [
      "Waiting 1s 2020-06-23 03:57:37.076113\n",
      "End 1s 2020-06-23 03:57:38.077181\n"
     ]
    }
   ],
   "source": [
    "ack = await mtptg.cmd_raDecTarget.set_start(\n",
    "    targetName=target_name,\n",
    "    frame=ATPtg.CoordFrame.ICRS,\n",
    "    epoch=2000,  # should be ignored: no parallax or proper motion\n",
    "    equinox=2000,  # should be ignored for ICRS\n",
    "    ra=cmd_radec.ra.hour,\n",
    "    declination=cmd_radec.dec.deg,\n",
    "    parallax=0,\n",
    "    pmRA=0,\n",
    "    pmDec=0,\n",
    "    rv=0,\n",
    "    dRA=0,\n",
    "    dDec=0,\n",
    "    rotPA=rot_pa.deg-180,\n",
    "    rotFrame=ATPtg.RotFrame.FIXED,\n",
    "    rotMode=ATPtg.RotMode.FIELD,\n",
    "    timeout=10\n",
    ")\n",
    "now = datetime.now()\n",
    "print(\"Waiting 1s\", now)\n",
    "await asyncio.sleep(1.)\n",
    "now = datetime.now()\n",
    "print(\"End 1s\", now)"
   ]
  },
  {
   "cell_type": "code",
   "execution_count": null,
   "metadata": {},
   "outputs": [],
   "source": [
    "#It still took a while... "
   ]
  },
  {
   "cell_type": "code",
   "execution_count": 37,
   "metadata": {},
   "outputs": [
    {
     "name": "stdout",
     "output_type": "stream",
     "text": [
      "when Chrono showed 2020-06-23 03:58:20.550662\n"
     ]
    }
   ],
   "source": [
    "now = datetime.now()\n",
    "print(\"when Chrono showed\", now)"
   ]
  },
  {
   "cell_type": "markdown",
   "metadata": {},
   "source": [
    "Check telemetry"
   ]
  },
  {
   "cell_type": "code",
   "execution_count": 25,
   "metadata": {},
   "outputs": [
    {
     "name": "stdout",
     "output_type": "stream",
     "text": [
      "private_revCode: c25b8c34, private_sndStamp: 1592884262.465725, private_rcvStamp: 1592884262.4660184, private_seqNum: 14, private_origin: 31, private_host: 251090770, inPosition: True, priority: 0\n"
     ]
    }
   ],
   "source": [
    "inPosition = await rot.evt_inPosition.aget(timeout = 300)\n",
    "print(inPosition)"
   ]
  },
  {
   "cell_type": "code",
   "execution_count": 38,
   "metadata": {},
   "outputs": [
    {
     "ename": "AttributeError",
     "evalue": "'RemoteCommand' object has no attribute 'angle'",
     "output_type": "error",
     "traceback": [
      "\u001b[0;31m---------------------------------------------------------------------------\u001b[0m",
      "\u001b[0;31mAttributeError\u001b[0m                            Traceback (most recent call last)",
      "\u001b[0;32m<ipython-input-38-561b3d388340>\u001b[0m in \u001b[0;36masync-def-wrapper\u001b[0;34m()\u001b[0m\n",
      "\u001b[0;31mAttributeError\u001b[0m: 'RemoteCommand' object has no attribute 'angle'"
     ]
    }
   ],
   "source": [
    "rotAngle = await rot.cmd_track.angle(timeout=10. )"
   ]
  },
  {
   "cell_type": "code",
   "execution_count": 39,
   "metadata": {
    "collapsed": true,
    "jupyter": {
     "outputs_hidden": true
    }
   },
   "outputs": [
    {
     "name": "stdout",
     "output_type": "stream",
     "text": [
      "Help on RemoteCommand in module lsst.ts.salobj.topics.remote_command object:\n",
      "\n",
      "class RemoteCommand(lsst.ts.salobj.topics.write_topic.WriteTopic)\n",
      " |  RemoteCommand(salinfo, name)\n",
      " |  \n",
      " |  Issue a specific command topic and wait for acknowldgement.\n",
      " |  \n",
      " |  Parameters\n",
      " |  ----------\n",
      " |  salinfo : `.SalInfo`\n",
      " |      SAL component information\n",
      " |  name : `str`\n",
      " |      Command name\n",
      " |  \n",
      " |  Method resolution order:\n",
      " |      RemoteCommand\n",
      " |      lsst.ts.salobj.topics.write_topic.WriteTopic\n",
      " |      lsst.ts.salobj.topics.base_topic.BaseTopic\n",
      " |      abc.ABC\n",
      " |      builtins.object\n",
      " |  \n",
      " |  Methods defined here:\n",
      " |  \n",
      " |  __init__(self, salinfo, name)\n",
      " |      Initialize self.  See help(type(self)) for accurate signature.\n",
      " |  \n",
      " |  next_ackcmd(self, ackcmd, timeout=3600, wait_done=True)\n",
      " |      Wait for the next acknowledement for the command\n",
      " |      \n",
      " |      Parameters\n",
      " |      ----------\n",
      " |      ackcmd : `SalInfo.AckCmdType`\n",
      " |          The command acknowledgement returned by\n",
      " |          the previous wait (e.g. from `start`).\n",
      " |      timeout : `float` (optional)\n",
      " |          Time limit, in seconds. If None then no time limit.\n",
      " |          This time limit is for the entire command if wait_done\n",
      " |          is true, else it is for the first acknowledgement\n",
      " |          after the initial \"SAL__CMD_ACK\".\n",
      " |      wait_done : `bool` (optional)\n",
      " |          If True then wait for final command acknowledgement.\n",
      " |          If False then wait until the next command acknowledgement;\n",
      " |          if that acknowledgement is not final (the ack code is not in\n",
      " |          ``done_ack_codes``), then you will almost certainly want to\n",
      " |          await `next_ackcmd` again.\n",
      " |      \n",
      " |      Returns\n",
      " |      -------\n",
      " |      ackcmd : `SalInfo.AckCmdType`\n",
      " |          Command acknowledgement.\n",
      " |      \n",
      " |      Raises\n",
      " |      ------\n",
      " |      salobj.AckError\n",
      " |          If the command fails or times out.\n",
      " |      RuntimeError\n",
      " |          If the command specified by ``seq_num`` is unknown\n",
      " |          or has already finished.\n",
      " |  \n",
      " |  set(self, **kwargs)\n",
      " |      Create a new ``self.data`` and set one or more fields.\n",
      " |      \n",
      " |      Parameters\n",
      " |      ----------\n",
      " |      **kwargs : `dict` [`str`, ``any``]\n",
      " |          Dict of field name: new value for that field:\n",
      " |      \n",
      " |          * Any key whose value is `None` is checked for existence,\n",
      " |            but the value of the field is not changed.\n",
      " |          * If the field being set is an array then the value must either\n",
      " |            be an array of the same length or a scalar (which replaces\n",
      " |            every element of the array).\n",
      " |      \n",
      " |      Returns\n",
      " |      -------\n",
      " |      did_change : `bool`\n",
      " |          True if data was changed or if this was the first call to `set`.\n",
      " |      \n",
      " |      Raises\n",
      " |      ------\n",
      " |      AttributeError\n",
      " |          If the topic does not have the specified field.\n",
      " |      ValueError\n",
      " |          If the field cannot be set to the specified value.\n",
      " |      \n",
      " |      Notes\n",
      " |      -----\n",
      " |      If one or more fields cannot be set, the data may be partially updated.\n",
      " |  \n",
      " |  set_start(self, timeout=3600, wait_done=True, **kwargs)\n",
      " |      Create a new ``self.data``, set zero or more fields,\n",
      " |      and start the command.\n",
      " |      \n",
      " |      Parameters\n",
      " |      ----------\n",
      " |      timeout : `float` (optional)\n",
      " |          Time limit, in seconds. If None then no time limit.\n",
      " |          This time limit is for the entire command if wait_done\n",
      " |          is true, else it is for the first acknowledgement\n",
      " |          after the initial \"SAL__CMD_ACK\".\n",
      " |      wait_done : `bool` (optional)\n",
      " |          If True then wait for final command acknowledgement.\n",
      " |          If False then wait for the first acknowledgement after the\n",
      " |          initial \"SAL__CMD_ACK\"; if that acknowledgement is not final\n",
      " |          (the ack code is not in done_ack_codes), then you will almost\n",
      " |          certainly want to await `next_ackcmd`.\n",
      " |      **kwargs : `dict` [`str`, ``any``]\n",
      " |          The remaining keyword arguments are\n",
      " |          field name = new value for that field.\n",
      " |          See `set` for more information about values.\n",
      " |      \n",
      " |      Returns\n",
      " |      -------\n",
      " |      ackcmd : `SalInfo.AckCmdType`\n",
      " |          Command acknowledgement.\n",
      " |      \n",
      " |      Raises\n",
      " |      ------\n",
      " |      salobj.AckError\n",
      " |          If the command fails.\n",
      " |      salobj.AckTimeoutError\n",
      " |          If the command times out.\n",
      " |      TypeError\n",
      " |          If ``data`` is not None and not an instance of `DataType`.\n",
      " |  \n",
      " |  start(self, data=None, timeout=3600, wait_done=True)\n",
      " |      Start a command.\n",
      " |      \n",
      " |      Parameters\n",
      " |      ----------\n",
      " |      data : ``self.DataType`` (optional)\n",
      " |          Command data. If None then send the current data.\n",
      " |      timeout : `float` (optional)\n",
      " |          Time limit, in seconds. If None then no time limit.\n",
      " |          This time limit is for the entire command if wait_done\n",
      " |          is true, else it is for the first acknowledgement\n",
      " |          after the initial \"SAL__CMD_ACK\".\n",
      " |      wait_done : `bool` (optional)\n",
      " |          If True then wait for final command acknowledgement.\n",
      " |          If False then wait for the first acknowledgement after the\n",
      " |          initial \"SAL__CMD_ACK\"; if that acknowledgement is not final\n",
      " |          (the ack code is not in done_ack_codes), then you will almost\n",
      " |          certainly want to await `next_ackcmd`.\n",
      " |      \n",
      " |      Returns\n",
      " |      -------\n",
      " |      ackcmd : `SalInfo.AckCmdType`\n",
      " |          Command acknowledgement.\n",
      " |      \n",
      " |      Raises\n",
      " |      ------\n",
      " |      salobj.AckError\n",
      " |          If the command fails.\n",
      " |      salobj.AckTimeoutError\n",
      " |          If the command times out.\n",
      " |      RuntimeError\n",
      " |          If the ``salinfo`` has not started reading.\n",
      " |      TypeError\n",
      " |          If ``data`` is not None and not an instance of `DataType`.\n",
      " |  \n",
      " |  ----------------------------------------------------------------------\n",
      " |  Data and other attributes defined here:\n",
      " |  \n",
      " |  __abstractmethods__ = frozenset()\n",
      " |  \n",
      " |  ----------------------------------------------------------------------\n",
      " |  Methods inherited from lsst.ts.salobj.topics.write_topic.WriteTopic:\n",
      " |  \n",
      " |  close(self)\n",
      " |      Shut down and release resources.\n",
      " |      \n",
      " |      Intended to be called by SalInfo.close(),\n",
      " |      since that tracks all topics.\n",
      " |  \n",
      " |  put(self, data=None, priority=0)\n",
      " |      Output this topic.\n",
      " |      \n",
      " |      Parameters\n",
      " |      ----------\n",
      " |      data : ``self.DataType`` or `None`\n",
      " |          New data to replace ``self.data``, if any.\n",
      " |      priority : `int` (optional)\n",
      " |          Priority; used to set the priority field of events.\n",
      " |          Ignored for commands and telemetry.\n",
      " |      \n",
      " |      Raises\n",
      " |      ------\n",
      " |      TypeError\n",
      " |          If ``data`` is not None and not an instance of `DataType`.\n",
      " |  \n",
      " |  ----------------------------------------------------------------------\n",
      " |  Data descriptors inherited from lsst.ts.salobj.topics.write_topic.WriteTopic:\n",
      " |  \n",
      " |  data\n",
      " |      Get or set internally cached data.\n",
      " |      \n",
      " |      Parameters\n",
      " |      ----------\n",
      " |      data : `DataType`\n",
      " |          New data.\n",
      " |      \n",
      " |      Raises\n",
      " |      ------\n",
      " |      TypeError\n",
      " |          If ``data`` is not an instance of `DataType`\n",
      " |      \n",
      " |      Notes\n",
      " |      -----\n",
      " |      You must not modify the returned data, nor assume that it will be\n",
      " |      constant. If you need a copy then make it yourself.\n",
      " |  \n",
      " |  has_data\n",
      " |      Has `data` ever been set?\n",
      " |  \n",
      " |  ----------------------------------------------------------------------\n",
      " |  Methods inherited from lsst.ts.salobj.topics.base_topic.BaseTopic:\n",
      " |  \n",
      " |  __repr__(self)\n",
      " |      Return repr(self).\n",
      " |  \n",
      " |  ----------------------------------------------------------------------\n",
      " |  Data descriptors inherited from lsst.ts.salobj.topics.base_topic.BaseTopic:\n",
      " |  \n",
      " |  DataType\n",
      " |      The class of data for this topic.\n",
      " |  \n",
      " |  __dict__\n",
      " |      dictionary for instance variables (if defined)\n",
      " |  \n",
      " |  __weakref__\n",
      " |      list of weak references to the object (if defined)\n",
      " |  \n",
      " |  metadata\n",
      " |      Get topic metadata as a `TopicMetadata`, if available, else `None`.\n",
      "\n"
     ]
    }
   ],
   "source": [
    "help(rot.cmd_track)   \n",
    "#why is there no angle? but there is one in the EFD?"
   ]
  },
  {
   "cell_type": "code",
   "execution_count": null,
   "metadata": {},
   "outputs": [],
   "source": []
  },
  {
   "cell_type": "code",
   "execution_count": null,
   "metadata": {},
   "outputs": [],
   "source": []
  },
  {
   "cell_type": "code",
   "execution_count": null,
   "metadata": {},
   "outputs": [],
   "source": []
  },
  {
   "cell_type": "code",
   "execution_count": 40,
   "metadata": {},
   "outputs": [
    {
     "data": {
      "text/plain": [
       "<ddsutil.MTPtg_ackcmd_f4c345cf at 0x7f2e28f43d10>"
      ]
     },
     "execution_count": 40,
     "metadata": {},
     "output_type": "execute_result"
    }
   ],
   "source": [
    "await mtptg.cmd_stopTracking.start(timeout=10.)"
   ]
  },
  {
   "cell_type": "markdown",
   "metadata": {},
   "source": [
    "# does this put the rotator back to 0 or leave it where it is? seems to leave it where it is... is it what we want?\n"
   ]
  },
  {
   "cell_type": "code",
   "execution_count": null,
   "metadata": {},
   "outputs": [],
   "source": []
  },
  {
   "cell_type": "code",
   "execution_count": null,
   "metadata": {},
   "outputs": [],
   "source": []
  },
  {
   "cell_type": "code",
   "execution_count": null,
   "metadata": {},
   "outputs": [],
   "source": []
  }
 ],
 "metadata": {
  "kernelspec": {
   "display_name": "LSST",
   "language": "python",
   "name": "lsst"
  },
  "language_info": {
   "codemirror_mode": {
    "name": "ipython",
    "version": 3
   },
   "file_extension": ".py",
   "mimetype": "text/x-python",
   "name": "python",
   "nbconvert_exporter": "python",
   "pygments_lexer": "ipython3",
   "version": "3.7.6"
  }
 },
 "nbformat": 4,
 "nbformat_minor": 4
}
