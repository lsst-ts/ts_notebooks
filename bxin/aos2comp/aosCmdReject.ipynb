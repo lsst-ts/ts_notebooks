{
 "cells": [
  {
   "cell_type": "markdown",
   "metadata": {},
   "source": [
    "## This notebook is used for testing MTAOS communication with the AOS components: M1M3, M2, and hexapods\n",
    "\n",
    "Step-by-step description of what we do can be found in \n",
    "Jira test case: https://jira.lsstcorp.org/secure/Tests.jspa#/testCase/LVV-T???? "
   ]
  },
  {
   "cell_type": "markdown",
   "metadata": {},
   "source": [
    "test on NTS first:\n",
    "\n",
    "* Do all the callback messages look right?\n",
    "* Look at the EFD notebooks at the same time. Is everything as expected?"
   ]
  },
  {
   "cell_type": "code",
   "execution_count": null,
   "metadata": {},
   "outputs": [],
   "source": [
    "%load_ext autoreload\n",
    "%autoreload 2"
   ]
  },
  {
   "cell_type": "code",
   "execution_count": null,
   "metadata": {},
   "outputs": [],
   "source": [
    "import rubin_jupyter_utils.lab.notebook as nb\n",
    "nb.utils.get_node()"
   ]
  },
  {
   "cell_type": "code",
   "execution_count": null,
   "metadata": {},
   "outputs": [],
   "source": [
    "from lsst.ts import salobj\n",
    "import asyncio\n",
    "import os\n",
    "\n",
    "import numpy as np\n",
    "from matplotlib import pyplot as plt\n",
    "from astropy.time import Time\n",
    "from datetime import datetime, timedelta\n",
    "import pandas as pd\n",
    "import yaml\n",
    "\n",
    "from lsst.ts.observatory.control.maintel.mtcs import MTCS, MTCSUsages\n",
    "from lsst.ts.observatory.control import RotType\n",
    "from astropy.coordinates import AltAz, ICRS, EarthLocation, Angle, FK5\n",
    "import astropy.units as u\n",
    "\n",
    "from aosTools import *\n",
    "\n",
    "plt.jet();"
   ]
  },
  {
   "cell_type": "code",
   "execution_count": null,
   "metadata": {},
   "outputs": [],
   "source": [
    "print(os.environ[\"OSPL_URI\"])\n",
    "print(os.environ[\"LSST_DDS_PARTITION_PREFIX\"])\n",
    "print(os.environ[\"LSST_DDS_DOMAIN_ID\"])"
   ]
  },
  {
   "cell_type": "code",
   "execution_count": null,
   "metadata": {},
   "outputs": [],
   "source": [
    "#index is an integter which helps avoid multple users starting same controller\n",
    "script = salobj.Controller(\"Script\", index=7)"
   ]
  },
  {
   "cell_type": "code",
   "execution_count": null,
   "metadata": {},
   "outputs": [],
   "source": [
    "mtcs = MTCS(script.domain)\n",
    "mtcs.set_rem_loglevel(40)"
   ]
  },
  {
   "cell_type": "code",
   "execution_count": null,
   "metadata": {},
   "outputs": [],
   "source": [
    "await mtcs.start_task"
   ]
  },
  {
   "cell_type": "code",
   "execution_count": null,
   "metadata": {},
   "outputs": [],
   "source": [
    "mtcs.components_attr"
   ]
  },
  {
   "cell_type": "code",
   "execution_count": null,
   "metadata": {},
   "outputs": [],
   "source": [
    "camhex = mtcs.rem.mthexapod_1\n",
    "m2hex = mtcs.rem.mthexapod_2\n",
    "m1m3 = mtcs.rem.mtm1m3\n",
    "m2 = mtcs.rem.mtm2\n",
    "aos = mtcs.rem.mtaos\n",
    "mount = mtcs.rem.mtmount\n",
    "rot = mtcs.rem.mtrotator"
   ]
  },
  {
   "cell_type": "code",
   "execution_count": null,
   "metadata": {},
   "outputs": [],
   "source": [
    "def printLogMessage(data):\n",
    "    print(f\"{data.level}: {data.message}\")\n",
    "aos.evt_logMessage.callback = printLogMessage  #None\n",
    "await aos.cmd_setLogLevel.set_start(level=10, timeout=5)"
   ]
  },
  {
   "cell_type": "code",
   "execution_count": null,
   "metadata": {},
   "outputs": [],
   "source": [
    "await aos.evt_heartbeat.next(flush=True, timeout=5)"
   ]
  },
  {
   "cell_type": "code",
   "execution_count": null,
   "metadata": {},
   "outputs": [],
   "source": [
    "await salobj.set_summary_state(aos, salobj.State.ENABLED) #, settingsToApply='default') #leave this out!!\n",
    "#two levels of defaults: csc defaults, config repo; right now csc defaults, they will move to config repo; \n",
    "#but to load defaults from config repo, we do not need to supply settingsToApply"
   ]
  },
  {
   "cell_type": "code",
   "execution_count": null,
   "metadata": {},
   "outputs": [],
   "source": [
    "#summit = 1 #use this for summit testing\n",
    "summit = 0 #use this for NCSA"
   ]
  },
  {
   "cell_type": "code",
   "execution_count": null,
   "metadata": {},
   "outputs": [],
   "source": [
    "from lsst_efd_client import EfdClient\n",
    "\n",
    "if summit:\n",
    "    client = EfdClient('summit_efd')\n",
    "else:\n",
    "    client = EfdClient('ncsa_teststand_efd')\n",
    "csc_index = 1"
   ]
  },
  {
   "cell_type": "markdown",
   "metadata": {},
   "source": [
    "#### Check summary state of each CSC"
   ]
  },
  {
   "cell_type": "code",
   "execution_count": null,
   "metadata": {},
   "outputs": [],
   "source": [
    "await checkAOSSummaryStates(aos, m1m3, m2, camhex, m2hex)"
   ]
  },
  {
   "cell_type": "markdown",
   "metadata": {},
   "source": [
    "### Get M1M3 Ready: raise mirorr, turn on FB, clear forces"
   ]
  },
  {
   "cell_type": "code",
   "execution_count": null,
   "metadata": {},
   "outputs": [],
   "source": [
    "await m1m3.evt_heartbeat.next(flush=True, timeout=5)"
   ]
  },
  {
   "cell_type": "code",
   "execution_count": null,
   "metadata": {},
   "outputs": [],
   "source": [
    "print('Re-enabling M1M3')\n",
    "#await salobj.set_summary_state(m1m3, salobj.State.STANDBY) \n",
    "await salobj.set_summary_state(m1m3, salobj.State.ENABLED, settingsToApply = 'Default') #enable m1m3"
   ]
  },
  {
   "cell_type": "code",
   "execution_count": null,
   "metadata": {},
   "outputs": [],
   "source": [
    "await readyM1M3(m1m3)"
   ]
  },
  {
   "cell_type": "markdown",
   "metadata": {},
   "source": [
    "### Get M2 Ready: turn on FB, clear forces"
   ]
  },
  {
   "cell_type": "code",
   "execution_count": null,
   "metadata": {},
   "outputs": [],
   "source": [
    "await m2.evt_heartbeat.next(flush=True, timeout=5)"
   ]
  },
  {
   "cell_type": "code",
   "execution_count": null,
   "metadata": {},
   "outputs": [],
   "source": [
    "await salobj.set_summary_state(m2, salobj.State.ENABLED) \n",
    "#await salobj.set_summary_state(m1m3, salobj.State.ENABLED, settingsToApply = 'Default') #enable m1m3"
   ]
  },
  {
   "cell_type": "code",
   "execution_count": null,
   "metadata": {},
   "outputs": [],
   "source": [
    "await readyM2(m2)"
   ]
  },
  {
   "cell_type": "markdown",
   "metadata": {},
   "source": [
    "### Get cam hex Ready: check config; make sure LUT is on, and has valid inputs; make sure hex is at LUT position"
   ]
  },
  {
   "cell_type": "code",
   "execution_count": null,
   "metadata": {},
   "outputs": [],
   "source": [
    "await camhex.evt_heartbeat.next(flush=True, timeout=5)"
   ]
  },
  {
   "cell_type": "code",
   "execution_count": null,
   "metadata": {},
   "outputs": [],
   "source": [
    "await mount.cmd_moveToTarget.set_start(elevation=75, azimuth=0)"
   ]
  },
  {
   "cell_type": "code",
   "execution_count": null,
   "metadata": {},
   "outputs": [],
   "source": [
    "await rot.cmd_move.set_start(position=0)"
   ]
  },
  {
   "cell_type": "code",
   "execution_count": null,
   "metadata": {},
   "outputs": [],
   "source": [
    "#await camhex.cmd_move.set_start(x=0,y=0,z=100, u=0,v=0,w=0,sync=True)"
   ]
  },
  {
   "cell_type": "code",
   "execution_count": null,
   "metadata": {},
   "outputs": [],
   "source": [
    "await readyHexaForAOS(camhex)"
   ]
  },
  {
   "cell_type": "code",
   "execution_count": null,
   "metadata": {},
   "outputs": [],
   "source": [
    "await camhex.cmd_move.set_start(x=0,y=0,z=0, u=0,v=0,w=0,sync=True)"
   ]
  },
  {
   "cell_type": "code",
   "execution_count": null,
   "metadata": {},
   "outputs": [],
   "source": [
    "await salobj.set_summary_state(camhex, salobj.State.STANDBY)"
   ]
  },
  {
   "cell_type": "code",
   "execution_count": null,
   "metadata": {},
   "outputs": [],
   "source": [
    "await salobj.set_summary_state(camhex, salobj.State.ENABLED, settingsToApply=\"default\")"
   ]
  },
  {
   "cell_type": "code",
   "execution_count": null,
   "metadata": {},
   "outputs": [],
   "source": [
    "state = await camhex.evt_summaryState.aget(timeout=5)\n",
    "print('staring with: cam hex state', salobj.State(state.summaryState), pd.to_datetime(state.private_sndStamp, unit='s'))\n",
    "dstate = await camhex.evt_controllerState.aget(timeout=5)\n",
    "print('          cam hex state', MTHexapod.EnabledSubstate(dstate.enabledSubstate), \n",
    "  pd.to_datetime(dstate.private_sndStamp, unit='s'))"
   ]
  },
  {
   "cell_type": "code",
   "execution_count": null,
   "metadata": {},
   "outputs": [],
   "source": [
    "mount_angle = await mount.tel_elevation.next(flush=False, timeout=10.)\n",
    "print(\"mount elevation angle\", mount_angle.actualPosition)\n",
    "elev = mount_angle.actualPosition"
   ]
  },
  {
   "cell_type": "markdown",
   "metadata": {},
   "source": [
    "### Get M2 hex Ready: check config; make sure LUT is on, and has valid inputs; make sure hex is at LUT position"
   ]
  },
  {
   "cell_type": "code",
   "execution_count": null,
   "metadata": {},
   "outputs": [],
   "source": [
    "await m2hex.evt_heartbeat.next(flush=True, timeout=5)"
   ]
  },
  {
   "cell_type": "code",
   "execution_count": null,
   "metadata": {},
   "outputs": [],
   "source": [
    "#await m2hex.cmd_move.set_start(x=0,y=0,z=100, u=0,v=0,w=0,sync=True)"
   ]
  },
  {
   "cell_type": "code",
   "execution_count": null,
   "metadata": {},
   "outputs": [],
   "source": [
    "await readyHexaForAOS(m2hex)"
   ]
  },
  {
   "cell_type": "code",
   "execution_count": null,
   "metadata": {},
   "outputs": [],
   "source": [
    "await salobj.set_summary_state(m2hex, salobj.State.ENABLED, settingsToApply=\"default\")"
   ]
  },
  {
   "cell_type": "code",
   "execution_count": null,
   "metadata": {},
   "outputs": [],
   "source": [
    "await aos.cmd_resetCorrection.set_start()\n",
    "await aos.cmd_issueCorrection.set_start() "
   ]
  },
  {
   "cell_type": "markdown",
   "metadata": {},
   "source": [
    "### Step 1: add aberrations via OFC"
   ]
  },
  {
   "cell_type": "code",
   "execution_count": null,
   "metadata": {},
   "outputs": [],
   "source": [
    "zernikes = np.zeros(19)\n",
    "zerIdx = np.arange(4, 23)\n",
    "zernikes[7-4] = 1 #add 1um of z7\n",
    "print(zerIdx)\n",
    "print(zernikes)"
   ]
  },
  {
   "cell_type": "code",
   "execution_count": null,
   "metadata": {},
   "outputs": [],
   "source": [
    "#x0 makes sure corrections double when same aberrations are added twice\n",
    "config = {\"xref\": \"x0\"}  \n",
    "config_yaml = yaml.safe_dump(config)"
   ]
  },
  {
   "cell_type": "code",
   "execution_count": null,
   "metadata": {},
   "outputs": [],
   "source": [
    "await aos.cmd_addAberration.set_start(wf = zernikes, config=config_yaml)"
   ]
  },
  {
   "cell_type": "code",
   "execution_count": null,
   "metadata": {},
   "outputs": [],
   "source": [
    "ofc_dict =  await ofcSentApplied(aos, m1m3, m2, camhex, m2hex, make_plot = True)"
   ]
  },
  {
   "cell_type": "code",
   "execution_count": null,
   "metadata": {},
   "outputs": [],
   "source": [
    "await aos.cmd_issueCorrection.set_start() "
   ]
  },
  {
   "cell_type": "code",
   "execution_count": null,
   "metadata": {},
   "outputs": [],
   "source": [
    "ofc_dict =  await ofcSentApplied(aos, m1m3, m2, camhex, m2hex, make_plot = True)"
   ]
  },
  {
   "cell_type": "markdown",
   "metadata": {},
   "source": [
    "#### Look at telemetry to verify the changes in the DOFs"
   ]
  },
  {
   "cell_type": "code",
   "execution_count": null,
   "metadata": {},
   "outputs": [],
   "source": [
    "end = Time(datetime.now(), scale='tai')\n",
    "#end = Time('2021-05-14T18:25:30', scale = 'tai')\n",
    "start = end - timedelta(seconds=100)\n",
    "\n",
    "dfm = await client.select_time_series('lsst.sal.MTMount.elevation', '*', start, end, csc_index)\n",
    "dfm1m3 = await client.select_time_series('lsst.sal.MTM1M3.logevent_appliedActiveOpticForces', '*', start, end, csc_index)\n",
    "dfm2 = await client.select_time_series('lsst.sal.MTM2.axialForce', '*', start, end, csc_index)\n",
    "dfh = await client.select_time_series('lsst.sal.MTHexapod.logevent_uncompensatedPosition', '*', start, end, csc_index)\n",
    "\n",
    "idx1=dfh.MTHexapodID==1\n",
    "dfh1 = dfh[idx1]\n",
    "idx2=dfh.MTHexapodID==2\n",
    "dfh2 = dfh[idx2]"
   ]
  },
  {
   "cell_type": "code",
   "execution_count": null,
   "metadata": {},
   "outputs": [],
   "source": [
    "fig, ax = plt.subplots(1,1, figsize=(15,4))\n",
    "#plt.plot(dfm.actualPosition, '--', label='mount elevation')\n",
    "plt.plot(dfm1m3.zForces0*1e3, label='M1M3 aos force 101 (x1000N)')\n",
    "plt.plot(dfm2.applied0*1e2, label='M2 aos force B1 (x100N)')\n",
    "plt.plot(dfh1.y, '*', label='Camera hexapod y (microns)')\n",
    "plt.plot(dfh2.y, 'o', label='M2 hexapod y (microns)')\n",
    "plt.grid()\n",
    "plt.legend()"
   ]
  },
  {
   "cell_type": "markdown",
   "metadata": {},
   "source": [
    "### Step 2: disable M2 hexapod, then try to add same aberrations again. The corrections will be rejected by M2 hexapod."
   ]
  },
  {
   "cell_type": "code",
   "execution_count": null,
   "metadata": {},
   "outputs": [],
   "source": [
    "#put M2 hexapod in DISABLED state (so that we can test command rejection)\n",
    "await salobj.set_summary_state(m2hex, salobj.State.DISABLED)"
   ]
  },
  {
   "cell_type": "code",
   "execution_count": null,
   "metadata": {},
   "outputs": [],
   "source": [
    "#rejection only happens when we issue corrections\n",
    "await aos.cmd_addAberration.set_start(wf = zernikes, config=config_yaml)"
   ]
  },
  {
   "cell_type": "code",
   "execution_count": null,
   "metadata": {},
   "outputs": [],
   "source": [
    "ofc_dict2 =  await ofcSentApplied(aos, m1m3, m2, camhex, m2hex, make_plot = True)"
   ]
  },
  {
   "cell_type": "code",
   "execution_count": null,
   "metadata": {},
   "outputs": [],
   "source": [
    "#expect to see an error with this command\n",
    "await aos.cmd_issueCorrection.set_start() "
   ]
  },
  {
   "cell_type": "code",
   "execution_count": null,
   "metadata": {},
   "outputs": [],
   "source": [
    "ofc_dict2 = await ofcSentApplied(aos, m1m3, m2, camhex, m2hex, make_plot=True)"
   ]
  },
  {
   "cell_type": "markdown",
   "metadata": {},
   "source": [
    "#### What to expect from the above plot? Everything on the component side is undone, and the corrections are rejected.\n",
    "\n",
    "Ref:\n",
    "https://github.com/lsst-ts/ts_MTAOS/blob/a420c25ab868a932c2cbc6fd45fcbb66f0176c65/python/lsst/ts/MTAOS/mtaos.py#L268\n",
    "\n",
    "For now, let's examine what happened during and after the rejection."
   ]
  },
  {
   "cell_type": "code",
   "execution_count": null,
   "metadata": {},
   "outputs": [],
   "source": [
    "lastCmd = await aos.evt_rejectedM2HexapodCorrection.aget(timeout=5.)\n",
    "end = Time(pd.to_datetime(lastCmd.private_sndStamp+0.5, unit='s'), scale= 'tai')\n",
    "start = end - timedelta(seconds=1)\n",
    "\n",
    "dfissue = await client.select_time_series('lsst.sal.MTAOS.command_issueCorrection', '*', start, end, csc_index)\n",
    "\n",
    "dfdof = await client.select_time_series('lsst.sal.MTAOS.logevent_degreeOfFreedom', '*', \n",
    "                                        start-timedelta(minutes=30), end, csc_index) #this is from earlier\n",
    "dfreject = await client.select_time_series('lsst.sal.MTAOS.logevent_rejectedDegreeOfFreedom', '*', start, end, csc_index)\n",
    "\n",
    "dfC = await client.select_time_series('lsst.sal.MTAOS.logevent_m2HexapodCorrection', '*', start, end, csc_index)\n",
    "dfCm2 = await client.select_time_series('lsst.sal.MTAOS.logevent_m2Correction', '*', start, end, csc_index)\n",
    "dfrejectC = await client.select_time_series('lsst.sal.MTAOS.logevent_rejectedM2HexapodCorrection', '*', start, end, csc_index)\n",
    "\n",
    "cmdm1m3 = await client.select_time_series('lsst.sal.MTM1M3.command_applyActiveOpticForces', '*', start, end, csc_index)\n",
    "cmdm2 = await client.select_time_series('lsst.sal.MTM2.command_applyForces', '*', start, end, csc_index)\n",
    "dfh = await client.select_time_series('lsst.sal.MTHexapod.command_move', '*', start, end, csc_index)\n",
    "\n",
    "idx1=dfh.MTHexapodID==1\n",
    "cmdh1 = dfh[idx1]\n",
    "idx2=dfh.MTHexapodID==2\n",
    "cmdh2 = dfh[idx2]\n",
    "\n",
    "dfm1m3 = await client.select_time_series('lsst.sal.MTM1M3.logevent_appliedActiveOpticForces', '*', start, end, csc_index)\n",
    "dfm2 = await client.select_time_series('lsst.sal.MTM2.axialForce', '*', \n",
    "                                       start-timedelta(seconds=0.5), end+timedelta(seconds=0.5), csc_index)\n",
    "dfh = await client.select_time_series('lsst.sal.MTHexapod.logevent_uncompensatedPosition', '*', start, end, csc_index)\n",
    "\n",
    "idx1=dfh.MTHexapodID==1\n",
    "dfh1 = dfh[idx1]\n",
    "idx2=dfh.MTHexapodID==2\n",
    "dfh2 = dfh[idx2]"
   ]
  },
  {
   "cell_type": "code",
   "execution_count": null,
   "metadata": {},
   "outputs": [],
   "source": [
    "#check that the rejected DOF matches the latest DOF event\n",
    "a1=np.array([dfdof['aggregatedDoF%d'%i][-1] for i in range(50)])\n",
    "v1=np.array([dfdof['visitDoF%d'%i][-1] for i in range(50)])\n",
    "a2=np.array([dfreject['aggregatedDoF%d'%i][-1] for i in range(50)])\n",
    "v2=np.array([dfreject['visitDoF%d'%i][-1] for i in range(50)])\n",
    "plt.plot(a1, label='agg dof')\n",
    "plt.plot(v1,'-*', label='visit dof')\n",
    "plt.plot(a2,'o', label='rejected agg')\n",
    "plt.plot(v2,'x', label='rejected visit')\n",
    "plt.legend()"
   ]
  },
  {
   "cell_type": "code",
   "execution_count": null,
   "metadata": {},
   "outputs": [],
   "source": [
    "#in M2 simulator, we only publish telemetry at 1Hz; This makes it impossible to see if M2 forces changed or not.\n",
    "dfm2"
   ]
  },
  {
   "cell_type": "code",
   "execution_count": null,
   "metadata": {},
   "outputs": [],
   "source": [
    "fig, ax = plt.subplots(1,1, figsize=(15,4))\n",
    "plt.plot(dfissue.private_host,'v',label='issueCorrection')\n",
    "plt.plot(dfm1m3.zForces0*1e3, label='M1M3 aos force 101 (x1000N)')\n",
    "plt.plot(dfm2.applied0*1e2, label='M2 aos force B1 (x100N)')\n",
    "plt.plot(dfh1.y, '-*', label='Camera hexapod y (microns)')\n",
    "plt.plot(dfh2.y, '-o', label='M2 hexapod y (microns)')\n",
    "plt.plot(cmdm1m3.zForces0*1e3,'x', label='M1M3 cmd')\n",
    "plt.plot(cmdm2.axial0*1e2,'v', label='M2 cmd')\n",
    "plt.plot(cmdh1.y,'*', label='camhex cmd')\n",
    "plt.plot(cmdh2.y,'o', label='M2 hex cmd')\n",
    "plt.grid()\n",
    "plt.legend()"
   ]
  },
  {
   "cell_type": "markdown",
   "metadata": {},
   "source": [
    "camhex `evt_uncompensatedPosition` comes before `cmd_move`? Time synchronization issue? Do we need to care?\n",
    "\n",
    "No command issued when undoing camera hexapod?"
   ]
  },
  {
   "cell_type": "code",
   "execution_count": null,
   "metadata": {},
   "outputs": [],
   "source": [
    "cmdh1"
   ]
  },
  {
   "cell_type": "code",
   "execution_count": null,
   "metadata": {},
   "outputs": [],
   "source": [
    "#we did not even issue M2 hex command; we checked M2 hex status before we issue the cmd\n",
    "cmdh2"
   ]
  },
  {
   "cell_type": "markdown",
   "metadata": {},
   "source": [
    "### Step 3. Fix the issue, and re-issue the corrections\n",
    "\n",
    "Previous corrections have been rejected using `cmd_rejectCorrection`, as part of the error handling. \n",
    "We need to do `cmd_addAberration` again.\n",
    "(even though there is no updated events such as `aos.evt_m1m3Correction`)\n",
    "\n",
    "Ref:\n",
    "https://github.com/lsst-ts/ts_MTAOS/blob/a420c25ab868a932c2cbc6fd45fcbb66f0176c65/python/lsst/ts/MTAOS/mtaos.py#L533"
   ]
  },
  {
   "cell_type": "code",
   "execution_count": null,
   "metadata": {},
   "outputs": [],
   "source": [
    "#fix the issue\n",
    "await salobj.set_summary_state(m2hex, salobj.State.ENABLED, settingsToApply=\"default\")"
   ]
  },
  {
   "cell_type": "code",
   "execution_count": null,
   "metadata": {},
   "outputs": [],
   "source": [
    "await readyHexaForAOS(m2hex)"
   ]
  },
  {
   "cell_type": "code",
   "execution_count": null,
   "metadata": {},
   "outputs": [],
   "source": [
    "await aos.cmd_addAberration.set_start(wf = zernikes, config=config_yaml)"
   ]
  },
  {
   "cell_type": "code",
   "execution_count": null,
   "metadata": {},
   "outputs": [],
   "source": [
    "await aos.cmd_issueCorrection.set_start() "
   ]
  },
  {
   "cell_type": "code",
   "execution_count": null,
   "metadata": {},
   "outputs": [],
   "source": [
    "ofc_dict3 = await ofcSentApplied(aos, m1m3, m2, camhex, m2hex, make_plot=True)"
   ]
  },
  {
   "cell_type": "code",
   "execution_count": null,
   "metadata": {},
   "outputs": [],
   "source": [
    "config_yaml"
   ]
  },
  {
   "cell_type": "markdown",
   "metadata": {},
   "source": [
    "This depends on the control strategy we are using. For x00, do not expect 2 or 1."
   ]
  },
  {
   "cell_type": "code",
   "execution_count": null,
   "metadata": {},
   "outputs": [],
   "source": [
    "ofc_dict['visit_dof'][2], ofc_dict3['visit_dof'][2]"
   ]
  },
  {
   "cell_type": "code",
   "execution_count": null,
   "metadata": {},
   "outputs": [],
   "source": [
    "#expect 2\n",
    "ofc_dict3['camhexC'][:5]/ofc_dict['camhexC'][:5]"
   ]
  },
  {
   "cell_type": "code",
   "execution_count": null,
   "metadata": {},
   "outputs": [],
   "source": [
    "#expect 2\n",
    "ofc_dict3['m2hexC'][:5]/ofc_dict['m2hexC'][:5]"
   ]
  },
  {
   "cell_type": "code",
   "execution_count": null,
   "metadata": {},
   "outputs": [],
   "source": [
    "#expect 2\n",
    "plt.plot(ofc_dict3['aggregated_dof']/ofc_dict['aggregated_dof'])"
   ]
  },
  {
   "cell_type": "code",
   "execution_count": null,
   "metadata": {},
   "outputs": [],
   "source": [
    "#expect 1\n",
    "plt.plot(ofc_dict3['visit_dof']/ofc_dict['visit_dof'])"
   ]
  },
  {
   "cell_type": "markdown",
   "metadata": {},
   "source": [
    "### Step 4. Reject the last `cmd_addAberration`.\n",
    "\n",
    "If the corrections were applied successfully, and we want to recalculate the corrections, we need to do `cmd_rejectCorrection` first.\n",
    "`cmd_rejectCorrection` resets the `aggregatedDOF` back to last visit, then we can recalculate the corrections\n",
    "If the corrections had been applied without error, this will supersede the corrections on the component side as well.\n",
    "\n",
    "Ref:\n",
    "https://github.com/lsst-ts/ts_MTAOS/blob/a420c25ab868a932c2cbc6fd45fcbb66f0176c65/python/lsst/ts/MTAOS/mtaos.py#L300\n",
    "\n",
    "If we simply want to revert back to the system state from last visit, just do `cmd_issueCorrection` after `cmd_rejectCorrection`.\n",
    "\n",
    "If after `cmd_rejectCorrection`, we simply want to look at the wavefront measurements, and say, I want to try adding 1um of M1M3 bending #5. How do I do that? This is unlikely, because the better thing to do is to let OFC determine the magnitude of this bending mode, by freezing all the other DOFs. If you really want to specify a hand-picked number, perhaps the best way is to use a MTAOS controller, to publish correction events, then do `cmd_issueCorrection`.\n",
    "The correction events include DOF events and correction events.\n",
    "You will need to write a function. You pass it a 50x1 array for DOF. \n",
    "It loads OFC libaries, calculates forces etc, and publish all the events that `cmd_issueCorrection` needs."
   ]
  },
  {
   "cell_type": "code",
   "execution_count": null,
   "metadata": {},
   "outputs": [],
   "source": [
    "await aos.cmd_rejectCorrection.set_start()"
   ]
  },
  {
   "cell_type": "markdown",
   "metadata": {},
   "source": [
    "#### has `cmd_rejectCorrection` reverted both DOFs and the corrections to be sent? (it is not expected to change anything on the component side)"
   ]
  },
  {
   "cell_type": "code",
   "execution_count": null,
   "metadata": {},
   "outputs": [],
   "source": [
    "#cmd_rejectCorrection does not publish new DOF event. Should it?\n",
    "ofc_dict4 =  await ofcSentApplied(aos, m1m3, m2, camhex, m2hex, make_plot = True)"
   ]
  },
  {
   "cell_type": "code",
   "execution_count": null,
   "metadata": {},
   "outputs": [],
   "source": [
    "#expect this to be 1.\n",
    "plt.plot(ofc_dict4['aggregated_dof']/ofc_dict['aggregated_dof'])"
   ]
  },
  {
   "cell_type": "code",
   "execution_count": null,
   "metadata": {},
   "outputs": [],
   "source": [
    "#expect this to be 1/2.\n",
    "plt.plot(ofc_dict4['aggregated_dof']/ofc_dict3['aggregated_dof'])"
   ]
  },
  {
   "cell_type": "markdown",
   "metadata": {},
   "source": [
    "### Step 5. add twice aberration. The resulting `aggregatedDOF` should be 3 times the original."
   ]
  },
  {
   "cell_type": "code",
   "execution_count": null,
   "metadata": {},
   "outputs": [],
   "source": [
    "zernikes[7-4] = 2 # z7 = 2um"
   ]
  },
  {
   "cell_type": "code",
   "execution_count": null,
   "metadata": {},
   "outputs": [],
   "source": [
    "await aos.cmd_addAberration.set_start(wf = zernikes, config=config_yaml)"
   ]
  },
  {
   "cell_type": "code",
   "execution_count": null,
   "metadata": {},
   "outputs": [],
   "source": [
    "await aos.cmd_issueCorrection.set_start()"
   ]
  },
  {
   "cell_type": "code",
   "execution_count": null,
   "metadata": {},
   "outputs": [],
   "source": [
    "ofc_dict5 =  await ofcSentApplied(aos, m1m3, m2, camhex, m2hex, make_plot = True)"
   ]
  },
  {
   "cell_type": "code",
   "execution_count": null,
   "metadata": {},
   "outputs": [],
   "source": [
    "#expect this to be 3.\n",
    "plt.plot(ofc_dict5['aggregated_dof']/ofc_dict['aggregated_dof'])\n",
    "plt.ylim([2,4])"
   ]
  },
  {
   "cell_type": "code",
   "execution_count": null,
   "metadata": {},
   "outputs": [],
   "source": []
  },
  {
   "cell_type": "markdown",
   "metadata": {},
   "source": [
    "### Close up"
   ]
  },
  {
   "cell_type": "code",
   "execution_count": null,
   "metadata": {},
   "outputs": [],
   "source": [
    "#if we started with enabled state, we need to put it back\n",
    "await salobj.set_summary_state(m1m3, salobj.State.ENABLED,  settingsToApply='Default')"
   ]
  },
  {
   "cell_type": "code",
   "execution_count": null,
   "metadata": {},
   "outputs": [],
   "source": [
    "await salobj.set_summary_state(m2, salobj.State.OFFLINE)"
   ]
  },
  {
   "cell_type": "code",
   "execution_count": null,
   "metadata": {},
   "outputs": [],
   "source": [
    "await salobj.set_summary_state(m1m3, salobj.State.STANDBY)"
   ]
  },
  {
   "cell_type": "code",
   "execution_count": null,
   "metadata": {},
   "outputs": [],
   "source": [
    "await salobj.set_summary_state(camhex, salobj.State.STANDBY)"
   ]
  },
  {
   "cell_type": "code",
   "execution_count": null,
   "metadata": {},
   "outputs": [],
   "source": [
    "await salobj.set_summary_state(aos, salobj.State.STANDBY)"
   ]
  },
  {
   "cell_type": "code",
   "execution_count": null,
   "metadata": {},
   "outputs": [],
   "source": [
    "await lowerM1M3(m1m3)"
   ]
  },
  {
   "cell_type": "markdown",
   "metadata": {},
   "source": [
    "### Check if the telescope is in tracking mode. If yes, need to stop stacking. \n",
    "The alternative is to check \"MT Mount status\" dash board on Chronograf. Make sure there are three \"False\"."
   ]
  },
  {
   "cell_type": "code",
   "execution_count": null,
   "metadata": {},
   "outputs": [],
   "source": [
    "mountStatus = await mount.evt_axesInPosition.aget(timeout=5.)\n",
    "rotStatus = await rot.evt_inPosition.aget(timeout=5.)\n",
    "trackingStatus = mountStatus.elevation and mountStatus.azimuth and rotStatus.inPosition\n",
    "print('Are we tracking?', trackingStatus)"
   ]
  },
  {
   "cell_type": "code",
   "execution_count": null,
   "metadata": {},
   "outputs": [],
   "source": [
    "await ptg.cmd_stopTracking.set_start(timeout=5.)"
   ]
  }
 ],
 "metadata": {
  "kernelspec": {
   "display_name": "LSST",
   "language": "python",
   "name": "lsst"
  },
  "language_info": {
   "codemirror_mode": {
    "name": "ipython",
    "version": 3
   },
   "file_extension": ".py",
   "mimetype": "text/x-python",
   "name": "python",
   "nbconvert_exporter": "python",
   "pygments_lexer": "ipython3",
   "version": "3.8.8"
  }
 },
 "nbformat": 4,
 "nbformat_minor": 4
}
