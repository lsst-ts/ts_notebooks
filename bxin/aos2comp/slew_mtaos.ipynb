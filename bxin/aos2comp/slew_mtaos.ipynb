{
 "cells": [
  {
   "cell_type": "markdown",
   "id": "e20eeda3",
   "metadata": {},
   "source": [
    "## This notebook does slew simulations, check all aos components (M1M3, M2, hexapods) behavior during the slew-and-track process, and applies MTAOS corrections for each visit.\n",
    "\n",
    "This is expected to work both for SUMMIT and NCSA"
   ]
  },
  {
   "cell_type": "code",
   "execution_count": null,
   "id": "4ae7515a",
   "metadata": {},
   "outputs": [],
   "source": [
    "%load_ext autoreload\n",
    "%autoreload 2"
   ]
  },
  {
   "cell_type": "code",
   "execution_count": 2,
   "id": "aaaa72b4",
   "metadata": {},
   "outputs": [
    {
     "name": "stderr",
     "output_type": "stream",
     "text": [
      "Patching auth into notebook.base.handlers.IPythonHandler(notebook.base.handlers.AuthenticatedHandler) -> IPythonHandler(jupyterhub.singleuser.mixins.HubAuthenticatedHandler, notebook.base.handlers.AuthenticatedHandler)\n"
     ]
    },
    {
     "data": {
      "text/plain": [
       "'andes06.cp.lsst.org'"
      ]
     },
     "execution_count": 2,
     "metadata": {},
     "output_type": "execute_result"
    }
   ],
   "source": [
    "import rubin_jupyter_utils.lab.notebook as nb\n",
    "nb.utils.get_node()"
   ]
  },
  {
   "cell_type": "code",
   "execution_count": 3,
   "id": "8e1b76bf",
   "metadata": {},
   "outputs": [
    {
     "name": "stderr",
     "output_type": "stream",
     "text": [
      "Update leap second table\n",
      "current_tai uses the system TAI clock\n",
      "Note: NumExpr detected 32 cores but \"NUMEXPR_MAX_THREADS\" not set, so enforcing safe limit of 8.\n",
      "NumExpr defaulting to 8 threads.\n"
     ]
    },
    {
     "data": {
      "text/plain": [
       "<Figure size 432x288 with 0 Axes>"
      ]
     },
     "metadata": {},
     "output_type": "display_data"
    }
   ],
   "source": [
    "from lsst.ts import salobj\n",
    "import asyncio\n",
    "import os\n",
    "import yaml\n",
    "\n",
    "import numpy as np\n",
    "from matplotlib import pyplot as plt\n",
    "from astropy.time import Time\n",
    "from datetime import datetime, timedelta\n",
    "import pandas as pd\n",
    "import logging\n",
    "\n",
    "from lsst.ts.idl.enums import MTHexapod\n",
    "\n",
    "from lsst.ts.observatory.control.maintel.mtcs import MTCS, MTCSUsages\n",
    "from lsst.ts.observatory.control import RotType\n",
    "from astropy.coordinates import AltAz, ICRS, EarthLocation, Angle, FK5\n",
    "import astropy.units as u\n",
    "\n",
    "from aosTools import *\n",
    "\n",
    "plt.jet();"
   ]
  },
  {
   "cell_type": "code",
   "execution_count": 4,
   "id": "5bc2c603",
   "metadata": {},
   "outputs": [],
   "source": [
    "summit = 1 #use this for summit testing\n",
    "#summit = 0 #use this for NCSA"
   ]
  },
  {
   "cell_type": "code",
   "execution_count": 5,
   "id": "504f7ffe",
   "metadata": {},
   "outputs": [
    {
     "name": "stdout",
     "output_type": "stream",
     "text": [
      "file:///home/b1quint/WORK/ts_ddsconfig/config/ospl-shmem.xml\n",
      "summit\n",
      "0\n"
     ]
    }
   ],
   "source": [
    "import os\n",
    "print(os.environ[\"OSPL_URI\"])\n",
    "print(os.environ[\"LSST_DDS_PARTITION_PREFIX\"])\n",
    "print(os.environ[\"LSST_DDS_DOMAIN_ID\"])"
   ]
  },
  {
   "cell_type": "code",
   "execution_count": 6,
   "id": "5d9be05c",
   "metadata": {},
   "outputs": [],
   "source": [
    "logging.basicConfig(format=\"%(name)s:%(message)s\", level=logging.DEBUG)"
   ]
  },
  {
   "cell_type": "code",
   "execution_count": 7,
   "id": "08d80dc3",
   "metadata": {},
   "outputs": [],
   "source": [
    "from lsst_efd_client import EfdClient\n",
    "\n",
    "if summit:\n",
    "    client = EfdClient('summit_efd')\n",
    "else:\n",
    "    client = EfdClient('ncsa_teststand_efd')\n",
    "csc_index = 1"
   ]
  },
  {
   "cell_type": "code",
   "execution_count": 8,
   "id": "502e70bb",
   "metadata": {},
   "outputs": [
    {
     "name": "stderr",
     "output_type": "stream",
     "text": [
      "Read historical data in 0.00 sec\n"
     ]
    }
   ],
   "source": [
    "#index is an integter which helps avoid multple users starting same controller\n",
    "script = salobj.Controller(\"Script\", index=8)"
   ]
  },
  {
   "cell_type": "code",
   "execution_count": 9,
   "id": "0c256e4b",
   "metadata": {
    "scrolled": true
   },
   "outputs": [],
   "source": [
    "mtcs = MTCS(script.domain)\n",
    "#mtcs.set_rem_loglevel(40)\n",
    "mtcs.set_rem_loglevel(logging.CRITICAL) "
   ]
  },
  {
   "cell_type": "code",
   "execution_count": 10,
   "id": "ae258aff",
   "metadata": {},
   "outputs": [
    {
     "name": "stderr",
     "output_type": "stream",
     "text": [
      "Read historical data in 0.12 sec\n",
      "Read historical data in 0.13 sec\n",
      "electrical DDS read queue is full (100 elements); data may be lost\n",
      "electrical DDS read queue is filling: 79 of 100 elements\n",
      "application DDS read queue is full (100 elements); data may be lost\n",
      "application DDS read queue is filling: 81 of 100 elements\n",
      "actuators DDS read queue is full (100 elements); data may be lost\n",
      "actuators DDS read queue is filling: 82 of 100 elements\n"
     ]
    }
   ],
   "source": [
    "mtcs.set_rem_loglevel(logging.CRITICAL)\n"
   ]
  },
  {
   "cell_type": "code",
   "execution_count": 11,
   "id": "f48d4cb6",
   "metadata": {
    "scrolled": true
   },
   "outputs": [
    {
     "data": {
      "text/plain": [
       "[None, None, None, None, None, None, None, None, None, None]"
      ]
     },
     "execution_count": 11,
     "metadata": {},
     "output_type": "execute_result"
    }
   ],
   "source": [
    "await mtcs.start_task"
   ]
  },
  {
   "cell_type": "code",
   "execution_count": 12,
   "id": "e1f23f47",
   "metadata": {
    "scrolled": true
   },
   "outputs": [
    {
     "data": {
      "text/plain": [
       "['mtmount',\n",
       " 'mtptg',\n",
       " 'mtaos',\n",
       " 'mtm1m3',\n",
       " 'mtm2',\n",
       " 'mthexapod_1',\n",
       " 'mthexapod_2',\n",
       " 'mtrotator',\n",
       " 'mtdome',\n",
       " 'mtdometrajectory']"
      ]
     },
     "execution_count": 12,
     "metadata": {},
     "output_type": "execute_result"
    }
   ],
   "source": [
    "mtcs.components_attr"
   ]
  },
  {
   "cell_type": "code",
   "execution_count": 14,
   "id": "83849cb2",
   "metadata": {
    "scrolled": true
   },
   "outputs": [],
   "source": [
    "ptg = mtcs.rem.mtptg\n",
    "mount = mtcs.rem.mtmount\n",
    "rot = mtcs.rem.mtrotator\n",
    "camhex = mtcs.rem.mthexapod_1\n",
    "m2hex = mtcs.rem.mthexapod_2\n",
    "m1m3 = mtcs.rem.mtm1m3\n",
    "m2 = mtcs.rem.mtm2\n",
    "aos = mtcs.rem.mtaos"
   ]
  },
  {
   "cell_type": "markdown",
   "id": "8d714cc0",
   "metadata": {},
   "source": [
    "### Get Ptg ready"
   ]
  },
  {
   "cell_type": "code",
   "execution_count": 15,
   "id": "d88c68b9",
   "metadata": {
    "scrolled": true
   },
   "outputs": [
    {
     "data": {
      "text/plain": [
       "<ddsutil.MTPtg_logevent_heartbeat_9be8ac81 at 0x7ff54132a3d0>"
      ]
     },
     "execution_count": 15,
     "metadata": {},
     "output_type": "execute_result"
    }
   ],
   "source": [
    "await ptg.evt_heartbeat.next(flush=True, timeout=5)"
   ]
  },
  {
   "cell_type": "code",
   "execution_count": null,
   "id": "bfacb58b",
   "metadata": {
    "scrolled": true
   },
   "outputs": [],
   "source": [
    "await ptg.cmd_start.set_start()"
   ]
  },
  {
   "cell_type": "code",
   "execution_count": null,
   "id": "b8e442aa",
   "metadata": {
    "scrolled": true
   },
   "outputs": [],
   "source": [
    "await salobj.set_summary_state(ptg, salobj.State.ENABLED)"
   ]
  },
  {
   "cell_type": "markdown",
   "id": "489146f6",
   "metadata": {},
   "source": [
    "### Get Mount ready"
   ]
  },
  {
   "cell_type": "code",
   "execution_count": 16,
   "id": "0acb1660",
   "metadata": {
    "scrolled": true
   },
   "outputs": [
    {
     "data": {
      "text/plain": [
       "<ddsutil.MTMount_logevent_heartbeat_a499b5c4 at 0x7ff5417117c0>"
      ]
     },
     "execution_count": 16,
     "metadata": {},
     "output_type": "execute_result"
    }
   ],
   "source": [
    "await mount.evt_heartbeat.next(flush=True, timeout=5)"
   ]
  },
  {
   "cell_type": "code",
   "execution_count": 17,
   "id": "dcc597e4",
   "metadata": {
    "scrolled": true
   },
   "outputs": [
    {
     "name": "stdout",
     "output_type": "stream",
     "text": [
      "simulation mode?  1 2021-07-29 23:37:43.372763648\n"
     ]
    }
   ],
   "source": [
    "sim_evt = await mount.evt_simulationMode.aget(timeout=5)\n",
    "print('simulation mode? ', sim_evt.mode, pd.to_datetime(sim_evt.private_sndStamp, unit='s'))"
   ]
  },
  {
   "cell_type": "code",
   "execution_count": 18,
   "id": "cf64181d",
   "metadata": {
    "scrolled": true
   },
   "outputs": [
    {
     "name": "stdout",
     "output_type": "stream",
     "text": [
      "software version?  0.18.1 2021-07-29 23:37:43.397038592\n"
     ]
    }
   ],
   "source": [
    "a = await mount.evt_softwareVersions.aget(timeout=5)\n",
    "print('software version? ', a.cscVersion, pd.to_datetime(a.private_sndStamp, unit='s'))"
   ]
  },
  {
   "cell_type": "code",
   "execution_count": 39,
   "id": "220ee2d3",
   "metadata": {
    "scrolled": true
   },
   "outputs": [
    {
     "name": "stdout",
     "output_type": "stream",
     "text": [
      "1 2021-08-03 16:50:31.988113920\n"
     ]
    }
   ],
   "source": [
    "a = await mount.evt_cameraCableWrapFollowing.aget()\n",
    "print(a.enabled, pd.to_datetime(a.private_sndStamp, unit='s'))"
   ]
  },
  {
   "cell_type": "markdown",
   "id": "c6a8049e",
   "metadata": {},
   "source": [
    "The CCW is part of the mount. We need the CCW to follow the rotator. For that, we need to enable the CCW following. "
   ]
  },
  {
   "cell_type": "code",
   "execution_count": 37,
   "id": "ac8157b8",
   "metadata": {},
   "outputs": [
    {
     "data": {
      "text/plain": [
       "[<State.ENABLED: 2>,\n",
       " <State.DISABLED: 1>,\n",
       " <State.STANDBY: 5>,\n",
       " <State.OFFLINE: 4>]"
      ]
     },
     "execution_count": 37,
     "metadata": {},
     "output_type": "execute_result"
    }
   ],
   "source": [
    "await salobj.set_summary_state(mount, salobj.State.OFFLINE)"
   ]
  },
  {
   "cell_type": "markdown",
   "id": "97514ab6",
   "metadata": {},
   "source": [
    "To bring the Mount online again, you need to log in to https://summit-lsp.lsst.codes/argo-cd. You can do it with GitHub. You will need special permissions for that. "
   ]
  },
  {
   "cell_type": "code",
   "execution_count": 20,
   "id": "73864b7a",
   "metadata": {},
   "outputs": [
    {
     "data": {
      "text/plain": [
       "[<State.ENABLED: 2>, <State.DISABLED: 1>, <State.STANDBY: 5>]"
      ]
     },
     "execution_count": 20,
     "metadata": {},
     "output_type": "execute_result"
    }
   ],
   "source": [
    "await salobj.set_summary_state(mount, salobj.State.STANDBY)"
   ]
  },
  {
   "cell_type": "code",
   "execution_count": null,
   "id": "3b96a93b",
   "metadata": {},
   "outputs": [],
   "source": [
    "await mount.cmd_start.set_start()"
   ]
  },
  {
   "cell_type": "code",
   "execution_count": 38,
   "id": "63bc1012",
   "metadata": {
    "scrolled": true
   },
   "outputs": [
    {
     "data": {
      "text/plain": [
       "[<State.STANDBY: 5>, <State.DISABLED: 1>, <State.ENABLED: 2>]"
      ]
     },
     "execution_count": 38,
     "metadata": {},
     "output_type": "execute_result"
    }
   ],
   "source": [
    "await salobj.set_summary_state(mount, salobj.State.ENABLED)"
   ]
  },
  {
   "cell_type": "markdown",
   "id": "c7665628",
   "metadata": {},
   "source": [
    "### Get Rotator ready"
   ]
  },
  {
   "cell_type": "code",
   "execution_count": 23,
   "id": "e64b202c",
   "metadata": {
    "scrolled": true
   },
   "outputs": [
    {
     "name": "stdout",
     "output_type": "stream",
     "text": [
      "staring with: ptg state State.ENABLED 2021-08-03 14:41:48.886216960\n",
      "staring with: mount state State.ENABLED 2021-08-03 15:59:32.787378688\n",
      "staring with: rot state State.STANDBY 2021-08-03 15:22:22.420904448\n"
     ]
    }
   ],
   "source": [
    "await checkSlewCompStates(ptg, mount, rot)"
   ]
  },
  {
   "cell_type": "code",
   "execution_count": null,
   "id": "5f002526",
   "metadata": {},
   "outputs": [],
   "source": [
    "await salobj.set_summary_state(rot, salobj.State.OFFLINE)"
   ]
  },
  {
   "cell_type": "code",
   "execution_count": 32,
   "id": "de8471d9",
   "metadata": {},
   "outputs": [
    {
     "data": {
      "text/plain": [
       "<ddsutil.MTRotator_ackcmd_55ad33c7 at 0x7ff492452fd0>"
      ]
     },
     "execution_count": 32,
     "metadata": {},
     "output_type": "execute_result"
    }
   ],
   "source": [
    "await rot.cmd_clearError.set_start()"
   ]
  },
  {
   "cell_type": "code",
   "execution_count": 41,
   "id": "60681c05",
   "metadata": {},
   "outputs": [
    {
     "data": {
      "text/plain": [
       "[<State.OFFLINE: 4>,\n",
       " <State.STANDBY: 5>,\n",
       " <State.DISABLED: 1>,\n",
       " <State.ENABLED: 2>]"
      ]
     },
     "execution_count": 41,
     "metadata": {},
     "output_type": "execute_result"
    }
   ],
   "source": [
    "await salobj.set_summary_state(rot, salobj.State.ENABLED)"
   ]
  },
  {
   "cell_type": "code",
   "execution_count": 40,
   "id": "e058487d",
   "metadata": {},
   "outputs": [
    {
     "name": "stdout",
     "output_type": "stream",
     "text": [
      "2021-08-03 16:51:47.511231232 0.0\n"
     ]
    }
   ],
   "source": [
    "a=await mount.tel_cameraCableWrap.next(flush=True, timeout=5)\n",
    "print(pd.to_datetime(a.private_sndStamp, unit='s'), a.actualPosition)"
   ]
  },
  {
   "cell_type": "code",
   "execution_count": null,
   "id": "90181398",
   "metadata": {},
   "outputs": [],
   "source": [
    "sim_evt = await rot.evt_simulationMode.aget(timeout=5)\n",
    "print('simulation mode? ', sim_evt.mode, pd.to_datetime(sim_evt.private_sndStamp, unit='s'))"
   ]
  },
  {
   "cell_type": "code",
   "execution_count": null,
   "id": "7ac7d1cc",
   "metadata": {},
   "outputs": [],
   "source": [
    "a = await mount.tel_elevation.next(flush=True, timeout=5)\n",
    "print(\"mount elevation Angle = \", a.actualPosition)\n",
    "a = await mount.tel_azimuth.next(flush=True, timeout=5)\n",
    "print(\"mount azimuth angle = \", a.actualPosition)\n",
    "a = await mount.tel_cameraCableWrap.next(flush=True, timeout=5)\n",
    "print(\"CCW angle = \", a.actualPosition, \" Needs to be within 2.2 deg of rotator angle \")\n",
    "b = await rot.tel_rotation.next(flush=True, timeout=5)\n",
    "print(\"rot angle = \", b.actualPosition, \"   diff = \", (b.actualPosition - a.actualPosition))"
   ]
  },
  {
   "cell_type": "code",
   "execution_count": 34,
   "id": "f36409f3",
   "metadata": {},
   "outputs": [
    {
     "name": "stdout",
     "output_type": "stream",
     "text": [
      "Camera cable wrap telemetry is too old: dt=6092.18333530426; abs(dt) > 1 2021-08-03 16:32:34.461083904\n"
     ]
    }
   ],
   "source": [
    "a = await rot.evt_errorCode.aget()\n",
    "print(a.errorReport, pd.to_datetime(a.private_sndStamp, unit='s'))"
   ]
  },
  {
   "cell_type": "code",
   "execution_count": null,
   "id": "a1db5e99",
   "metadata": {},
   "outputs": [],
   "source": [
    "a = await mount.evt_cameraCableWrapFollowing.aget(timeout=5.)\n",
    "print(a.enabled)"
   ]
  },
  {
   "cell_type": "markdown",
   "id": "f29c73bb",
   "metadata": {},
   "source": [
    "If the Camera Cable Warp is not following:\n",
    "Transition the MTMount to StandbyState, wait 10 seconds, transition to EnableState"
   ]
  },
  {
   "cell_type": "code",
   "execution_count": null,
   "id": "73962b86",
   "metadata": {},
   "outputs": [],
   "source": [
    "await mount.cmd_enableCameraCableWrapFollowing.set_start()"
   ]
  },
  {
   "cell_type": "code",
   "execution_count": null,
   "id": "232abfe7",
   "metadata": {},
   "outputs": [],
   "source": [
    "await rot.cmd_clearError.set_start()"
   ]
  },
  {
   "cell_type": "code",
   "execution_count": null,
   "id": "1e3bd660",
   "metadata": {},
   "outputs": [],
   "source": [
    "await rot.cmd_start.set_start()"
   ]
  },
  {
   "cell_type": "code",
   "execution_count": null,
   "id": "7946969b",
   "metadata": {},
   "outputs": [],
   "source": [
    "await salobj.set_summary_state(mount, salobj.State.DISABLED)\n",
    "await salobj.set_summary_state(mount, salobj.State.ENABLED)\n",
    "a = await mount.evt_cameraCableWrapFollowing.aget()\n",
    "print('CCW folowing? ', a.enabled, pd.to_datetime(a.private_sndStamp, unit='s'))"
   ]
  },
  {
   "cell_type": "code",
   "execution_count": null,
   "id": "b1162471",
   "metadata": {},
   "outputs": [],
   "source": [
    "await rot.cmd_move.set_start(0)"
   ]
  },
  {
   "cell_type": "markdown",
   "id": "82c22859",
   "metadata": {},
   "source": [
    "### Get MTAOS Ready"
   ]
  },
  {
   "cell_type": "code",
   "execution_count": 25,
   "id": "0dc0177b",
   "metadata": {},
   "outputs": [
    {
     "data": {
      "text/plain": [
       "<ddsutil.MTAOS_logevent_heartbeat_d9313cce at 0x7ff5415bffa0>"
      ]
     },
     "execution_count": 25,
     "metadata": {},
     "output_type": "execute_result"
    }
   ],
   "source": [
    "await aos.evt_heartbeat.next(flush=True, timeout=5)"
   ]
  },
  {
   "cell_type": "code",
   "execution_count": 26,
   "id": "3934f516",
   "metadata": {},
   "outputs": [
    {
     "data": {
      "text/plain": [
       "[<State.STANDBY: 5>, <State.DISABLED: 1>, <State.ENABLED: 2>]"
      ]
     },
     "execution_count": 26,
     "metadata": {},
     "output_type": "execute_result"
    }
   ],
   "source": [
    "await salobj.set_summary_state(aos, salobj.State.ENABLED) #, settingsToApply='default') #leave this out!!\n",
    "#two levels of defaults: csc defaults, config repo; right now csc defaults, they will move to config repo; \n",
    "#but to load defaults from config repo, we do not need to supply settingsToApply"
   ]
  },
  {
   "cell_type": "code",
   "execution_count": 27,
   "id": "04cbb754",
   "metadata": {},
   "outputs": [
    {
     "name": "stdout",
     "output_type": "stream",
     "text": [
      "software version?  v0.7.1 2021-07-29 23:37:54.709229824\n"
     ]
    }
   ],
   "source": [
    "a = await aos.evt_softwareVersions.aget(timeout=5)\n",
    "print('software version? ', a.cscVersion, pd.to_datetime(a.private_sndStamp, unit='s'))\n",
    "\n",
    "#this is MTAOS version. How do I get OFC version? and WEP version?"
   ]
  },
  {
   "cell_type": "code",
   "execution_count": 28,
   "id": "81dded84",
   "metadata": {},
   "outputs": [
    {
     "data": {
      "text/plain": [
       "<ddsutil.MTAOS_ackcmd_8e276e56 at 0x7ff54140f910>"
      ]
     },
     "execution_count": 28,
     "metadata": {},
     "output_type": "execute_result"
    }
   ],
   "source": [
    "def printLogMessage(data):\n",
    "    print(f\"{data.level}: {data.message}\")\n",
    "aos.evt_logMessage.callback = printLogMessage\n",
    "await aos.cmd_setLogLevel.set_start(level=10, timeout=5)"
   ]
  },
  {
   "cell_type": "code",
   "execution_count": null,
   "id": "ad6f5bce",
   "metadata": {},
   "outputs": [],
   "source": []
  },
  {
   "cell_type": "code",
   "execution_count": null,
   "id": "3800e0ef",
   "metadata": {},
   "outputs": [],
   "source": []
  },
  {
   "cell_type": "markdown",
   "id": "d840c70a",
   "metadata": {},
   "source": [
    "### Check that all components are ready"
   ]
  },
  {
   "cell_type": "code",
   "execution_count": 29,
   "id": "3edc04f2",
   "metadata": {},
   "outputs": [
    {
     "ename": "TimeoutError",
     "evalue": "",
     "output_type": "error",
     "traceback": [
      "\u001b[0;31m---------------------------------------------------------------------------\u001b[0m",
      "\u001b[0;31mTimeoutError\u001b[0m                              Traceback (most recent call last)",
      "\u001b[0;32m<ipython-input-29-6cabb5dc52d6>\u001b[0m in \u001b[0;36m<module>\u001b[0;34m\u001b[0m\n\u001b[0;32m----> 1\u001b[0;31m \u001b[0;32mawait\u001b[0m \u001b[0mcheckAOSCompStates\u001b[0m\u001b[0;34m(\u001b[0m\u001b[0mm1m3\u001b[0m\u001b[0;34m,\u001b[0m \u001b[0mm2\u001b[0m\u001b[0;34m,\u001b[0m \u001b[0mcamhex\u001b[0m\u001b[0;34m,\u001b[0m \u001b[0mm2hex\u001b[0m\u001b[0;34m)\u001b[0m\u001b[0;34m\u001b[0m\u001b[0;34m\u001b[0m\u001b[0m\n\u001b[0m",
      "\u001b[0;32m~/ts_notebooks/bxin/aos2comp/aosTools.py\u001b[0m in \u001b[0;36mcheckAOSCompStates\u001b[0;34m(m1m3, m2, camhex, m2hex)\u001b[0m\n\u001b[1;32m     49\u001b[0m \u001b[0;34m\u001b[0m\u001b[0m\n\u001b[1;32m     50\u001b[0m     \u001b[0;31m#m1m3\u001b[0m\u001b[0;34m\u001b[0m\u001b[0;34m\u001b[0m\u001b[0;34m\u001b[0m\u001b[0m\n\u001b[0;32m---> 51\u001b[0;31m     \u001b[0msstate\u001b[0m \u001b[0;34m=\u001b[0m \u001b[0;32mawait\u001b[0m \u001b[0mm1m3\u001b[0m\u001b[0;34m.\u001b[0m\u001b[0mevt_summaryState\u001b[0m\u001b[0;34m.\u001b[0m\u001b[0maget\u001b[0m\u001b[0;34m(\u001b[0m\u001b[0mtimeout\u001b[0m\u001b[0;34m=\u001b[0m\u001b[0;36m5\u001b[0m\u001b[0;34m)\u001b[0m\u001b[0;34m\u001b[0m\u001b[0;34m\u001b[0m\u001b[0m\n\u001b[0m\u001b[1;32m     52\u001b[0m     \u001b[0mprint\u001b[0m\u001b[0;34m(\u001b[0m\u001b[0;34m'starting with: M1M3 state'\u001b[0m\u001b[0;34m,\u001b[0m\u001b[0msalobj\u001b[0m\u001b[0;34m.\u001b[0m\u001b[0mState\u001b[0m\u001b[0;34m(\u001b[0m\u001b[0msstate\u001b[0m\u001b[0;34m.\u001b[0m\u001b[0msummaryState\u001b[0m\u001b[0;34m)\u001b[0m\u001b[0;34m,\u001b[0m \u001b[0mpd\u001b[0m\u001b[0;34m.\u001b[0m\u001b[0mto_datetime\u001b[0m\u001b[0;34m(\u001b[0m\u001b[0msstate\u001b[0m\u001b[0;34m.\u001b[0m\u001b[0mprivate_sndStamp\u001b[0m\u001b[0;34m,\u001b[0m \u001b[0munit\u001b[0m\u001b[0;34m=\u001b[0m\u001b[0;34m's'\u001b[0m\u001b[0;34m)\u001b[0m\u001b[0;34m)\u001b[0m\u001b[0;34m\u001b[0m\u001b[0;34m\u001b[0m\u001b[0m\n\u001b[1;32m     53\u001b[0m     \u001b[0mdstate\u001b[0m \u001b[0;34m=\u001b[0m \u001b[0;32mawait\u001b[0m \u001b[0mm1m3\u001b[0m\u001b[0;34m.\u001b[0m\u001b[0mevt_detailedState\u001b[0m\u001b[0;34m.\u001b[0m\u001b[0maget\u001b[0m\u001b[0;34m(\u001b[0m\u001b[0mtimeout\u001b[0m\u001b[0;34m=\u001b[0m\u001b[0;36m200\u001b[0m\u001b[0;34m)\u001b[0m\u001b[0;34m\u001b[0m\u001b[0;34m\u001b[0m\u001b[0m\n",
      "\u001b[0;32m/opt/lsst/software/stack/conda/miniconda3-py38_4.9.2/envs/lsst-scipipe-0.6.0/lib/python3.8/site-packages/lsst/ts/salobj/topics/read_topic.py\u001b[0m in \u001b[0;36maget\u001b[0;34m(self, timeout)\u001b[0m\n\u001b[1;32m    493\u001b[0m             \u001b[0;32mif\u001b[0m \u001b[0mself\u001b[0m\u001b[0;34m.\u001b[0m\u001b[0m_next_task\u001b[0m\u001b[0;34m.\u001b[0m\u001b[0mdone\u001b[0m\u001b[0;34m(\u001b[0m\u001b[0;34m)\u001b[0m\u001b[0;34m:\u001b[0m\u001b[0;34m\u001b[0m\u001b[0;34m\u001b[0m\u001b[0m\n\u001b[1;32m    494\u001b[0m                 \u001b[0mself\u001b[0m\u001b[0;34m.\u001b[0m\u001b[0m_next_task\u001b[0m \u001b[0;34m=\u001b[0m \u001b[0masyncio\u001b[0m\u001b[0;34m.\u001b[0m\u001b[0mFuture\u001b[0m\u001b[0;34m(\u001b[0m\u001b[0;34m)\u001b[0m\u001b[0;34m\u001b[0m\u001b[0;34m\u001b[0m\u001b[0m\n\u001b[0;32m--> 495\u001b[0;31m             \u001b[0;32mawait\u001b[0m \u001b[0masyncio\u001b[0m\u001b[0;34m.\u001b[0m\u001b[0mwait_for\u001b[0m\u001b[0;34m(\u001b[0m\u001b[0mself\u001b[0m\u001b[0;34m.\u001b[0m\u001b[0m_next_task\u001b[0m\u001b[0;34m,\u001b[0m \u001b[0mtimeout\u001b[0m\u001b[0;34m=\u001b[0m\u001b[0mtimeout\u001b[0m\u001b[0;34m)\u001b[0m\u001b[0;34m\u001b[0m\u001b[0;34m\u001b[0m\u001b[0m\n\u001b[0m\u001b[1;32m    496\u001b[0m         \u001b[0;32mreturn\u001b[0m \u001b[0mself\u001b[0m\u001b[0;34m.\u001b[0m\u001b[0m_current_data\u001b[0m\u001b[0;34m\u001b[0m\u001b[0;34m\u001b[0m\u001b[0m\n\u001b[1;32m    497\u001b[0m \u001b[0;34m\u001b[0m\u001b[0m\n",
      "\u001b[0;32m/opt/lsst/software/stack/conda/miniconda3-py38_4.9.2/envs/lsst-scipipe-0.6.0/lib/python3.8/asyncio/tasks.py\u001b[0m in \u001b[0;36mwait_for\u001b[0;34m(fut, timeout, loop)\u001b[0m\n\u001b[1;32m    499\u001b[0m             \u001b[0;31m# See https://bugs.python.org/issue32751\u001b[0m\u001b[0;34m\u001b[0m\u001b[0;34m\u001b[0m\u001b[0;34m\u001b[0m\u001b[0m\n\u001b[1;32m    500\u001b[0m             \u001b[0;32mawait\u001b[0m \u001b[0m_cancel_and_wait\u001b[0m\u001b[0;34m(\u001b[0m\u001b[0mfut\u001b[0m\u001b[0;34m,\u001b[0m \u001b[0mloop\u001b[0m\u001b[0;34m=\u001b[0m\u001b[0mloop\u001b[0m\u001b[0;34m)\u001b[0m\u001b[0;34m\u001b[0m\u001b[0;34m\u001b[0m\u001b[0m\n\u001b[0;32m--> 501\u001b[0;31m             \u001b[0;32mraise\u001b[0m \u001b[0mexceptions\u001b[0m\u001b[0;34m.\u001b[0m\u001b[0mTimeoutError\u001b[0m\u001b[0;34m(\u001b[0m\u001b[0;34m)\u001b[0m\u001b[0;34m\u001b[0m\u001b[0;34m\u001b[0m\u001b[0m\n\u001b[0m\u001b[1;32m    502\u001b[0m     \u001b[0;32mfinally\u001b[0m\u001b[0;34m:\u001b[0m\u001b[0;34m\u001b[0m\u001b[0;34m\u001b[0m\u001b[0m\n\u001b[1;32m    503\u001b[0m         \u001b[0mtimeout_handle\u001b[0m\u001b[0;34m.\u001b[0m\u001b[0mcancel\u001b[0m\u001b[0;34m(\u001b[0m\u001b[0;34m)\u001b[0m\u001b[0;34m\u001b[0m\u001b[0;34m\u001b[0m\u001b[0m\n",
      "\u001b[0;31mTimeoutError\u001b[0m: "
     ]
    }
   ],
   "source": [
    "await checkAOSCompStates(m1m3, m2, camhex, m2hex)"
   ]
  },
  {
   "cell_type": "code",
   "execution_count": 30,
   "id": "a57c11ef",
   "metadata": {},
   "outputs": [
    {
     "name": "stdout",
     "output_type": "stream",
     "text": [
      "staring with: ptg state State.ENABLED 2021-08-03 14:41:48.886216960\n",
      "staring with: mount state State.ENABLED 2021-08-03 15:59:32.787378688\n",
      "staring with: rot state State.STANDBY 2021-08-03 15:22:22.420904448\n"
     ]
    }
   ],
   "source": [
    "await checkSlewCompStates(ptg, mount, rot)"
   ]
  },
  {
   "cell_type": "code",
   "execution_count": null,
   "id": "e7c5a739",
   "metadata": {},
   "outputs": [],
   "source": [
    "await checkAOSSummaryStates(aos, m1m3,m2,camhex,m2hex)"
   ]
  },
  {
   "cell_type": "markdown",
   "id": "54119596",
   "metadata": {},
   "source": [
    "### Get M1M3 ready (Mount telemetry mode)\n",
    "\n",
    "@bxin\n",
    "\n",
    "Here is a bit of cheating so we can actually perform these tests without having M1M3 installed on the MTMount. We need to move the telescope to Zenith before we lift the mirror. If the Mount is nearly Zenith, but not quite at Zenith, it will think we should have forces applied to the mirror. Now, M1M3 is sitting on Level-3 pointing up. \n",
    "\n",
    "So, before we can start \"slewing\" (remember that we are in a partially simulated environment), we need to tell the (simulated) Mount to go to Zenith, then we can lift M1M3. "
   ]
  },
  {
   "cell_type": "code",
   "execution_count": null,
   "id": "f80e0452",
   "metadata": {},
   "outputs": [],
   "source": [
    "#Move to zenith (so that we can start m1m3 with LUT in mount telemetry mode)\n",
    "await mount.cmd_moveToTarget.set_start(azimuth=0, elevation=90)"
   ]
  },
  {
   "cell_type": "code",
   "execution_count": null,
   "id": "4c1897dd",
   "metadata": {},
   "outputs": [],
   "source": [
    "await m1m3.evt_heartbeat.next(flush=True, timeout=5)"
   ]
  },
  {
   "cell_type": "markdown",
   "id": "b3833366",
   "metadata": {},
   "source": [
    "Check that the M1M3 is in mount telemetry mode.  For this you have to login to m1m3-crio-ss.cp.lsst.org!!"
   ]
  },
  {
   "cell_type": "code",
   "execution_count": null,
   "id": "28fee4c8",
   "metadata": {},
   "outputs": [],
   "source": [
    "await salobj.set_summary_state(m1m3, salobj.State.STANDBY)"
   ]
  },
  {
   "cell_type": "code",
   "execution_count": null,
   "id": "8b88cbfe",
   "metadata": {},
   "outputs": [],
   "source": [
    "print('Re-enabling M1M3')\n",
    "#await salobj.set_summary_state(m1m3, salobj.State.STANDBY) \n",
    "await salobj.set_summary_state(m1m3, salobj.State.ENABLED, settingsToApply = 'Default') #enable m1m3"
   ]
  },
  {
   "cell_type": "code",
   "execution_count": null,
   "id": "06e6ccc3",
   "metadata": {},
   "outputs": [],
   "source": [
    "await readyM1M3(m1m3)"
   ]
  },
  {
   "cell_type": "code",
   "execution_count": null,
   "id": "4a2483fe",
   "metadata": {},
   "outputs": [],
   "source": [
    "await m1m3.cmd_abortRaiseM1M3.set_start(timeout=15.)"
   ]
  },
  {
   "cell_type": "code",
   "execution_count": null,
   "id": "234d7373",
   "metadata": {},
   "outputs": [],
   "source": [
    "await checkM1M3Error(m1m3)"
   ]
  },
  {
   "cell_type": "code",
   "execution_count": null,
   "id": "07519df5",
   "metadata": {},
   "outputs": [],
   "source": [
    "await lowerM1M3(m1m3)"
   ]
  },
  {
   "cell_type": "code",
   "execution_count": null,
   "id": "3f57197e",
   "metadata": {},
   "outputs": [],
   "source": [
    "m1m3."
   ]
  },
  {
   "cell_type": "markdown",
   "id": "c41b786f",
   "metadata": {},
   "source": [
    "### Get M2 ready"
   ]
  },
  {
   "cell_type": "code",
   "execution_count": null,
   "id": "3b0ea679",
   "metadata": {},
   "outputs": [],
   "source": [
    "await m2.evt_heartbeat.next(flush=True, timeout=5)"
   ]
  },
  {
   "cell_type": "code",
   "execution_count": null,
   "id": "58926a98",
   "metadata": {},
   "outputs": [],
   "source": [
    "await checkAOSCompStates(m1m3,m2,camhex,m2hex)"
   ]
  },
  {
   "cell_type": "code",
   "execution_count": null,
   "id": "9053ad20",
   "metadata": {},
   "outputs": [],
   "source": [
    "await salobj.set_summary_state(m2, salobj.State.OFFLINE) "
   ]
  },
  {
   "cell_type": "code",
   "execution_count": null,
   "id": "1cb86474",
   "metadata": {},
   "outputs": [],
   "source": [
    "await salobj.set_summary_state(m2, salobj.State.STANDBY) "
   ]
  },
  {
   "cell_type": "code",
   "execution_count": null,
   "id": "c89f0033",
   "metadata": {},
   "outputs": [],
   "source": [
    "await salobj.set_summary_state(m2, salobj.State.DISABLED) "
   ]
  },
  {
   "cell_type": "code",
   "execution_count": null,
   "id": "72adddb3",
   "metadata": {},
   "outputs": [],
   "source": [
    "#remember to reset interlock\n",
    "await salobj.set_summary_state(m2, salobj.State.ENABLED) "
   ]
  },
  {
   "cell_type": "code",
   "execution_count": null,
   "id": "4631be41",
   "metadata": {},
   "outputs": [],
   "source": [
    "a = await m2.evt_errorCode.aget()\n",
    "print(a.errorCode, a.errorReport, pd.to_datetime(a.private_sndStamp, unit='s'))"
   ]
  },
  {
   "cell_type": "code",
   "execution_count": null,
   "id": "77590028",
   "metadata": {},
   "outputs": [],
   "source": [
    "await m2.cmd_enterControl.set_start(timeout=.5)"
   ]
  },
  {
   "cell_type": "code",
   "execution_count": null,
   "id": "d69abb9a",
   "metadata": {},
   "outputs": [],
   "source": [
    "await m2.cmd_exitControl.set_start(timeout=.5)"
   ]
  },
  {
   "cell_type": "code",
   "execution_count": null,
   "id": "2f658ec5",
   "metadata": {},
   "outputs": [],
   "source": [
    "await m2.cmd_enable.set_start(timeout=5.)"
   ]
  },
  {
   "cell_type": "code",
   "execution_count": null,
   "id": "e3e41d1f",
   "metadata": {},
   "outputs": [],
   "source": [
    "await m2.cmd_disable.set_start(timeout=5.)"
   ]
  },
  {
   "cell_type": "code",
   "execution_count": null,
   "id": "ef99531a",
   "metadata": {},
   "outputs": [],
   "source": [
    "await m2.cmd_clearErrors.set_start(timeout=15.)"
   ]
  },
  {
   "cell_type": "code",
   "execution_count": null,
   "id": "ab2b0d8f",
   "metadata": {},
   "outputs": [],
   "source": [
    "await readyM2(m2)"
   ]
  },
  {
   "cell_type": "markdown",
   "id": "39783117",
   "metadata": {},
   "source": [
    "### Get camHex ready"
   ]
  },
  {
   "cell_type": "code",
   "execution_count": null,
   "id": "a620d13f",
   "metadata": {},
   "outputs": [],
   "source": [
    "target_evt = await mount.evt_target.aget(timeout=5.)\n",
    "print(\"Mount target elevation = \", target_evt.elevation, \"  @  \", pd.to_datetime(target_evt.private_sndStamp, unit='s'))\n",
    "print(\"Mount target azimuth   = \", target_evt.azimuth, \"  @  \", pd.to_datetime(target_evt.private_sndStamp, unit='s'))\n",
    "target_evt = await rot.evt_target.aget(timeout=5.)\n",
    "print(\"Rotator target position = \", target_evt.position, \"  @  \", pd.to_datetime(target_evt.private_sndStamp, unit='s'))"
   ]
  },
  {
   "cell_type": "code",
   "execution_count": null,
   "id": "5d0bb118",
   "metadata": {},
   "outputs": [],
   "source": [
    "#if any of the above doesn't work\n",
    "#await mount.cmd_moveToTarget.set_start(azimuth=0, elevation=81)\n",
    "await rot.cmd_move.set_start(position=0)"
   ]
  },
  {
   "cell_type": "code",
   "execution_count": null,
   "id": "9f489509",
   "metadata": {},
   "outputs": [],
   "source": [
    "await camhex.evt_heartbeat.next(flush=True, timeout=5)"
   ]
  },
  {
   "cell_type": "code",
   "execution_count": null,
   "id": "44833be5",
   "metadata": {},
   "outputs": [],
   "source": [
    "sim_evt = await camhex.evt_simulationMode.aget(timeout=5)\n",
    "print('simulation mode? ', sim_evt.mode, pd.to_datetime(sim_evt.private_sndStamp, unit='s'))"
   ]
  },
  {
   "cell_type": "code",
   "execution_count": null,
   "id": "d4d96e0e",
   "metadata": {},
   "outputs": [],
   "source": [
    "await salobj.set_summary_state(camhex, salobj.State.STANDBY)"
   ]
  },
  {
   "cell_type": "code",
   "execution_count": null,
   "id": "0d3051ec",
   "metadata": {},
   "outputs": [],
   "source": [
    "await camhex.cmd_clearError.set_start()"
   ]
  },
  {
   "cell_type": "code",
   "execution_count": null,
   "id": "226a658f",
   "metadata": {},
   "outputs": [],
   "source": [
    "await salobj.set_summary_state(camhex, salobj.State.DISABLED, settingsToApply='default')"
   ]
  },
  {
   "cell_type": "code",
   "execution_count": null,
   "id": "c2e95744",
   "metadata": {},
   "outputs": [],
   "source": [
    "await salobj.set_summary_state(camhex, salobj.State.ENABLED, settingsToApply='default')"
   ]
  },
  {
   "cell_type": "markdown",
   "id": "3ad709ab",
   "metadata": {},
   "source": [
    "Move the Pivot point by 100um to make sure that the configuration event gets published"
   ]
  },
  {
   "cell_type": "code",
   "execution_count": null,
   "id": "a9499642",
   "metadata": {},
   "outputs": [],
   "source": [
    "await camhex.cmd_setPivot.set_start(x=0,y=0,z=-2758300)"
   ]
  },
  {
   "cell_type": "code",
   "execution_count": null,
   "id": "d4423286",
   "metadata": {},
   "outputs": [],
   "source": [
    "await camhex.cmd_setPivot.set_start(x=0,y=0,z=-2758400)"
   ]
  },
  {
   "cell_type": "code",
   "execution_count": null,
   "id": "c7515d62",
   "metadata": {},
   "outputs": [],
   "source": [
    "await readyHexaForAOS(camhex)"
   ]
  },
  {
   "cell_type": "code",
   "execution_count": null,
   "id": "9499c8e9",
   "metadata": {},
   "outputs": [],
   "source": [
    "await printHexaUncompensatedAndCompensated(m2hex)"
   ]
  },
  {
   "cell_type": "code",
   "execution_count": null,
   "id": "7cfc7b87",
   "metadata": {},
   "outputs": [],
   "source": [
    "await printHexaUncompensatedAndCompensated(camhex)"
   ]
  },
  {
   "cell_type": "markdown",
   "id": "799ce123",
   "metadata": {},
   "source": [
    "### Get m2Hex ready"
   ]
  },
  {
   "cell_type": "code",
   "execution_count": null,
   "id": "1c927745",
   "metadata": {},
   "outputs": [],
   "source": [
    "await salobj.set_summary_state(m2hex, salobj.State.ENABLED, settingsToApply='default') #works if it is offline"
   ]
  },
  {
   "cell_type": "code",
   "execution_count": null,
   "id": "b4cc3dc8",
   "metadata": {},
   "outputs": [],
   "source": [
    "sim_evt = await m2hex.evt_simulationMode.aget(timeout=5)\n",
    "print('simulation mode? ', sim_evt.mode, pd.to_datetime(sim_evt.private_sndStamp, unit='s'))"
   ]
  },
  {
   "cell_type": "code",
   "execution_count": null,
   "id": "7ca6426f",
   "metadata": {},
   "outputs": [],
   "source": [
    "await readyHexaForAOS(m2hex)"
   ]
  },
  {
   "cell_type": "code",
   "execution_count": null,
   "id": "0f1c83f1",
   "metadata": {},
   "outputs": [],
   "source": []
  },
  {
   "cell_type": "code",
   "execution_count": null,
   "id": "a1702988",
   "metadata": {},
   "outputs": [],
   "source": [
    "end = Time(datetime.now(), scale='tai')\n",
    "start = end - timedelta(seconds=1000)\n",
    "df = await client.select_time_series('lsst.sal.ESS.temperature8Ch', '*', start, end, csc_index)\n",
    "if len(df)>0:\n",
    "    fig, ax = plt.subplots(1,1, figsize=(15,4))\n",
    "    for i in range(1,7):\n",
    "        plt.plot(getattr(df, 'temperatureC%02d'%i))\n",
    "    plt.grid()\n",
    "else:\n",
    "    print('No temperature data on the camera hexapod in the past 1000s.')"
   ]
  },
  {
   "cell_type": "markdown",
   "id": "d8023c7b",
   "metadata": {},
   "source": [
    "### Do a few slews"
   ]
  },
  {
   "cell_type": "code",
   "execution_count": null,
   "id": "6cf9dabe",
   "metadata": {},
   "outputs": [],
   "source": [
    "await m1m1.error"
   ]
  },
  {
   "cell_type": "markdown",
   "id": "36b5c30d",
   "metadata": {},
   "source": [
    "#### Do 4 slews, then stop tracking"
   ]
  },
  {
   "cell_type": "code",
   "execution_count": null,
   "id": "019f275e",
   "metadata": {},
   "outputs": [],
   "source": [
    "#comment and uncomment the below depending on which components are expected to be on\n",
    "#by default, MTCS checks on every component (during the slew).\n",
    "mtcs.check.mtaos = False\n",
    "mtcs.check.mtm1m3 = True\n",
    "mtcs.check.mtm2 = True\n",
    "mtcs.check.mthexapod_1 = True\n",
    "mtcs.check.mthexapod_2 = True\n",
    "mtcs.check.mtdome = False\n",
    "mtcs.check.mtdometrajectory = False"
   ]
  },
  {
   "cell_type": "code",
   "execution_count": null,
   "id": "d257ad0c",
   "metadata": {},
   "outputs": [],
   "source": [
    "def printLogMessage(data):\n",
    "    print(f\"{data.level}: {data.message}\")\n",
    "aos.evt_logMessage.callback = printLogMessage\n",
    "await aos.cmd_setLogLevel.set_start(level=10, timeout=5)"
   ]
  },
  {
   "cell_type": "code",
   "execution_count": null,
   "id": "aed0e944",
   "metadata": {},
   "outputs": [],
   "source": [
    "dec = -34.\n",
    "for j in range(2):\n",
    "    for i in range(2):\n",
    "        \n",
    "        a = await mount.evt_cameraCableWrapFollowing.aget()\n",
    "        print('CCW folowing? ', a.enabled, pd.to_datetime(a.private_sndStamp, unit='s'))\n",
    "        if not a.enabled:\n",
    "            break\n",
    "        time_and_date = await mtcs.rem.mtptg.tel_timeAndDate.next(flush=True, timeout=5)\n",
    "        ra = time_and_date.lst + 0.5 - 3.5/15.0 * i\n",
    "        \n",
    "        aa = await mount.tel_elevation.next(flush=True, timeout=5.)\n",
    "        current_el = aa.actualPosition\n",
    "        \n",
    "        obs_time = salobj.astropy_time_from_tai_unix(salobj.current_tai() + 0.) #with 0s delay\n",
    "        azel = mtcs.azel_from_radec(ra=ra, dec=dec, time=obs_time)\n",
    "        target_el = azel.alt.value\n",
    "        \n",
    "        while abs(target_el - current_el)>0.3:\n",
    "            print('moving from elevation %.1f deg to %.1f deg'%(current_el, target_el), Time.now())\n",
    "            await moveMountConstantV(mount, current_el, target_el)\n",
    "        \n",
    "            aa = await mount.tel_elevation.next(flush=True, timeout=5.)\n",
    "            current_el = aa.actualPosition\n",
    "        \n",
    "            time_and_date = await mtcs.rem.mtptg.tel_timeAndDate.next(flush=True, timeout=5)\n",
    "            ra = time_and_date.lst + 0.5 - 3.5/15.0 * i\n",
    "    \n",
    "            obs_time = salobj.astropy_time_from_tai_unix(salobj.current_tai() + 0.) #with 0s delay\n",
    "            azel = mtcs.azel_from_radec(ra=ra, dec=dec, time=obs_time)\n",
    "            target_el = azel.alt.value\n",
    "        \n",
    "        await moveRotTo0(rot, 10.0)\n",
    "        \n",
    "        print('start a slew, elevation diff = ', abs(target_el - current_el), Time.now())\n",
    "        a = await mount.evt_cameraCableWrapFollowing.aget()\n",
    "        print('CCW folowing? ', a.enabled, pd.to_datetime(a.private_sndStamp, unit='s'))\n",
    "        if not a.enabled:\n",
    "            break\n",
    "            \n",
    "        await aos.cmd_resetCorrection.set_start()\n",
    "        await aos.cmd_issueCorrection.set_start() \n",
    "        k = j*2+i\n",
    "        zernikes = np.zeros(19)\n",
    "        if k==0:\n",
    "            zernikes[4-4] = 1 #add 1um of z4\n",
    "        elif k==1:\n",
    "            zernikes[5-4] = 1 #add 1um of z5\n",
    "        elif k==2:\n",
    "            zernikes[7-4] = 1 #add 1um of z7\n",
    "        elif k==3:\n",
    "            zernikes[9-4] = 1 #add 1um of z9\n",
    "        await aos.cmd_addAberration.set_start(wf = zernikes)\n",
    "        await aos.cmd_issueCorrection.set_start() \n",
    "        await asyncio.sleep(2.0)\n",
    "\n",
    "        ofc_dict =  await ofcSentApplied(aos, m1m3, m2, camhex, m2hex, make_plot = True)\n",
    "\n",
    "        rotAngle = 10.0\n",
    "        print('zero-indexed: ', k, 'rot = ', rotAngle)\n",
    "        #b = await mount.tel_cameraCableWrap.next(flush=True, timeout=5) #CCW doesn't follow rotator!!!\n",
    "        # await mtcs.slew_icrs(ra=ra, dec=dec, rot=b.actualPosition, rot_type=RotType.PhysicalSky)\n",
    "        await mtcs.slew_icrs(ra=ra, dec=dec, rot=rotAngle, rot_type=RotType.PhysicalSky)\n",
    "        #await mtcs.slew_icrs(ra=ra, dec=dec, rot=0.0, rot_type=RotType.Physical)\n",
    "        await asyncio.sleep(39.)\n",
    "        await mtcs.stop_tracking()"
   ]
  },
  {
   "cell_type": "code",
   "execution_count": null,
   "id": "4e9a67b3",
   "metadata": {},
   "outputs": [],
   "source": [
    "await mtcs.stop_tracking()"
   ]
  },
  {
   "cell_type": "code",
   "execution_count": null,
   "id": "fe02b36f",
   "metadata": {},
   "outputs": [],
   "source": []
  },
  {
   "cell_type": "markdown",
   "id": "ec1adf85",
   "metadata": {},
   "source": [
    "#### Plot the above process"
   ]
  },
  {
   "cell_type": "code",
   "execution_count": null,
   "id": "86daedd5",
   "metadata": {},
   "outputs": [],
   "source": [
    "#end = Time(datetime.now(), scale='tai')\n",
    "end = Time('2021-07-13T19:18:00', scale='tai')\n",
    "start = end - timedelta(seconds=1000)"
   ]
  },
  {
   "cell_type": "code",
   "execution_count": null,
   "id": "11964326",
   "metadata": {},
   "outputs": [],
   "source": [
    "dfm2"
   ]
  },
  {
   "cell_type": "code",
   "execution_count": null,
   "id": "6025e19e",
   "metadata": {},
   "outputs": [],
   "source": [
    "dfm = await client.select_time_series('lsst.sal.MTMount.elevation', '*', start, end, csc_index)\n",
    "dfm1m3 = await client.select_time_series('lsst.sal.MTM1M3.logevent_appliedElevationForces', '*', start, end, csc_index)\n",
    "dfm2 = await client.select_time_series('lsst.sal.MTM2.axialForce', '*', start, end, csc_index)\n",
    "dfh = await client.select_time_series('lsst.sal.MTHexapod.application', '*', start, end, csc_index)\n",
    "\n",
    "idx1=dfh.MTHexapodID==1\n",
    "dfh1 = dfh[idx1]\n",
    "idx2=dfh.MTHexapodID==2\n",
    "dfh2 = dfh[idx2]"
   ]
  },
  {
   "cell_type": "code",
   "execution_count": null,
   "id": "5aeb99b3",
   "metadata": {},
   "outputs": [],
   "source": [
    "fig, ax = plt.subplots(1,1, figsize=(15,4))\n",
    "plt.plot((dfm.actualPosition-dfm.actualPosition[0])*100, '--', label='mount elevation x 100 (deg)')\n",
    "plt.plot(dfm1m3.yForces0-dfm1m3.yForces0[0], label='M1M3 elevation y-force 101 (N)')\n",
    "plt.plot((dfm2.lutGravity0-dfm2.lutGravity0[0])*10, label='M2 elevation force B1 x 10 (N)')\n",
    "plt.plot(dfh1.position1-dfh1.position1[0], label='Camera hexapod y (um)')\n",
    "plt.plot(dfh2.position1-dfh2.position1[0], label='M2 hexapod y (um)')\n",
    "plt.grid()\n",
    "plt.legend()\n",
    "plt.title('Changes in telemetry')"
   ]
  },
  {
   "cell_type": "markdown",
   "id": "3880b96c",
   "metadata": {},
   "source": [
    "#### Check if the telescope is in tracking mode. If yes, need to stop stacking.\n",
    "\n",
    "The alternative is to check \"MT Mount status\" dash board on Chronograf. Make sure there are three \"False\"."
   ]
  },
  {
   "cell_type": "code",
   "execution_count": null,
   "id": "9ac2b459",
   "metadata": {},
   "outputs": [],
   "source": [
    "mountStatus = await mount.evt_axesInPosition.aget(timeout=5.)\n",
    "rotStatus = await rot.evt_inPosition.aget(timeout=5.)\n",
    "trackingStatus = mountStatus.elevation and mountStatus.azimuth and rotStatus.inPosition\n",
    "print('Are we tracking?', trackingStatus)"
   ]
  },
  {
   "cell_type": "code",
   "execution_count": null,
   "id": "4e1e1237",
   "metadata": {},
   "outputs": [],
   "source": [
    "await mtcs.stop_tracking()"
   ]
  },
  {
   "cell_type": "markdown",
   "id": "47976c15",
   "metadata": {},
   "source": [
    "### put mount elevation back to 90 deg, so that we can lower M1M3"
   ]
  },
  {
   "cell_type": "code",
   "execution_count": null,
   "id": "00cb5f35",
   "metadata": {},
   "outputs": [],
   "source": [
    "aa = await mount.tel_elevation.next(flush=True, timeout=5.)\n",
    "current_el = aa.actualPosition"
   ]
  },
  {
   "cell_type": "code",
   "execution_count": null,
   "id": "4e1b3a13",
   "metadata": {},
   "outputs": [],
   "source": [
    "await moveMountConstantV(mount,current_el, 90)"
   ]
  },
  {
   "cell_type": "code",
   "execution_count": null,
   "id": "38d16bfc",
   "metadata": {},
   "outputs": [],
   "source": [
    "await lowerM1M3(m1m3)"
   ]
  },
  {
   "cell_type": "markdown",
   "id": "c166b0b1",
   "metadata": {},
   "source": [
    "#### Close up. Put all simulators to standby"
   ]
  },
  {
   "cell_type": "code",
   "execution_count": null,
   "id": "c2ef7680",
   "metadata": {},
   "outputs": [],
   "source": [
    "await mtcs.stop_tracking()"
   ]
  },
  {
   "cell_type": "code",
   "execution_count": null,
   "id": "b43ac766",
   "metadata": {},
   "outputs": [],
   "source": [
    "await salobj.set_summary_state(aos, salobj.State.STANDBY)"
   ]
  },
  {
   "cell_type": "code",
   "execution_count": null,
   "id": "661b68db",
   "metadata": {},
   "outputs": [],
   "source": [
    "await salobj.set_summary_state(ptg, salobj.State.STANDBY)"
   ]
  },
  {
   "cell_type": "code",
   "execution_count": null,
   "id": "c5497dd5",
   "metadata": {},
   "outputs": [],
   "source": [
    "await salobj.set_summary_state(rot, salobj.State.OFFLINE)"
   ]
  },
  {
   "cell_type": "code",
   "execution_count": null,
   "id": "67bf470c",
   "metadata": {},
   "outputs": [],
   "source": [
    "await salobj.set_summary_state(camhex, salobj.State.STANDBY)"
   ]
  },
  {
   "cell_type": "code",
   "execution_count": null,
   "id": "d1ff33ad",
   "metadata": {},
   "outputs": [],
   "source": [
    "await camhex.cmd_disable.set_start()"
   ]
  },
  {
   "cell_type": "code",
   "execution_count": null,
   "id": "d8b54d54",
   "metadata": {},
   "outputs": [],
   "source": [
    "await salobj.set_summary_state(camhex, salobj.State.DISABLED)"
   ]
  },
  {
   "cell_type": "code",
   "execution_count": null,
   "id": "961ece7e",
   "metadata": {},
   "outputs": [],
   "source": [
    "await salobj.set_summary_state(m2hex, salobj.State.STANDBY)"
   ]
  },
  {
   "cell_type": "code",
   "execution_count": null,
   "id": "4e78f714",
   "metadata": {},
   "outputs": [],
   "source": [
    "await salobj.set_summary_state(m2, salobj.State.DISABLED)"
   ]
  },
  {
   "cell_type": "code",
   "execution_count": null,
   "id": "67706959",
   "metadata": {},
   "outputs": [],
   "source": [
    "await salobj.set_summary_state(m2, salobj.State.STANDBY)"
   ]
  },
  {
   "cell_type": "code",
   "execution_count": null,
   "id": "b31b4d8d",
   "metadata": {},
   "outputs": [],
   "source": [
    "await salobj.set_summary_state(m2, salobj.State.OFFLINE)"
   ]
  },
  {
   "cell_type": "code",
   "execution_count": null,
   "id": "273e7877",
   "metadata": {},
   "outputs": [],
   "source": [
    "await lowerM1M3(m1m3)"
   ]
  },
  {
   "cell_type": "code",
   "execution_count": null,
   "id": "273fea1f",
   "metadata": {},
   "outputs": [],
   "source": [
    "await salobj.set_summary_state(m1m3, salobj.State.OFFLINE)"
   ]
  },
  {
   "cell_type": "code",
   "execution_count": null,
   "id": "ecd3e388",
   "metadata": {},
   "outputs": [],
   "source": [
    "await salobj.set_summary_state(mount, salobj.State.STANDBY)"
   ]
  },
  {
   "cell_type": "code",
   "execution_count": null,
   "id": "bba01935",
   "metadata": {},
   "outputs": [],
   "source": [
    "await rot.cmd_clearError.set_start()"
   ]
  },
  {
   "cell_type": "code",
   "execution_count": null,
   "id": "edbf241f",
   "metadata": {},
   "outputs": [],
   "source": [
    "await m2.cmd_exitControl.set_start()"
   ]
  },
  {
   "cell_type": "code",
   "execution_count": null,
   "id": "ec17ae81",
   "metadata": {},
   "outputs": [],
   "source": [
    "await checkAOSCompStates(m1m3,m2,camhex, m2hex)"
   ]
  },
  {
   "cell_type": "code",
   "execution_count": null,
   "id": "4c451aa8",
   "metadata": {},
   "outputs": [],
   "source": [
    "await checkSlewCompStates(ptg,mount, rot)"
   ]
  },
  {
   "cell_type": "code",
   "execution_count": null,
   "id": "9f5094b2",
   "metadata": {},
   "outputs": [],
   "source": []
  }
 ],
 "metadata": {
  "kernelspec": {
   "display_name": "LSST",
   "language": "python",
   "name": "lsst"
  },
  "language_info": {
   "codemirror_mode": {
    "name": "ipython",
    "version": 3
   },
   "file_extension": ".py",
   "mimetype": "text/x-python",
   "name": "python",
   "nbconvert_exporter": "python",
   "pygments_lexer": "ipython3",
   "version": "3.8.8"
  }
 },
 "nbformat": 4,
 "nbformat_minor": 5
}
