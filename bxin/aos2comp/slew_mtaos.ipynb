{
 "cells": [
  {
   "cell_type": "markdown",
   "id": "1d5dd84b",
   "metadata": {},
   "source": [
    "## This notebook does slew simulations, check all aos components (M1M3, M2, hexapods) behavior during the slew-and-track process, and applies MTAOS corrections for each visit.\n",
    "\n",
    "This is expected to work both for SUMMIT and NCSA"
   ]
  },
  {
   "cell_type": "code",
   "execution_count": null,
   "id": "dddb05f3",
   "metadata": {},
   "outputs": [],
   "source": [
    "%load_ext autoreload\n",
    "%autoreload 2"
   ]
  },
  {
   "cell_type": "code",
   "execution_count": null,
   "id": "dcbb0eeb",
   "metadata": {},
   "outputs": [],
   "source": [
    "import rubin_jupyter_utils.lab.notebook as nb\n",
    "nb.utils.get_node()"
   ]
  },
  {
   "cell_type": "code",
   "execution_count": null,
   "id": "6d64a280",
   "metadata": {},
   "outputs": [],
   "source": [
    "from lsst.ts import salobj\n",
    "import asyncio\n",
    "import os\n",
    "import yaml\n",
    "\n",
    "import numpy as np\n",
    "from matplotlib import pyplot as plt\n",
    "from astropy.time import Time\n",
    "from datetime import datetime, timedelta\n",
    "import pandas as pd\n",
    "import logging\n",
    "\n",
    "from lsst.ts.idl.enums import MTHexapod\n",
    "\n",
    "from lsst.ts.observatory.control.maintel.mtcs import MTCS, MTCSUsages\n",
    "from lsst.ts.observatory.control import RotType\n",
    "from astropy.coordinates import AltAz, ICRS, EarthLocation, Angle, FK5\n",
    "import astropy.units as u\n",
    "\n",
    "from aosTools import *\n",
    "\n",
    "plt.jet();"
   ]
  },
  {
   "cell_type": "code",
   "execution_count": null,
   "id": "8a42d3bd",
   "metadata": {},
   "outputs": [],
   "source": [
    "summit = 1 #use this for summit testing\n",
    "#summit = 0 #use this for NCSA"
   ]
  },
  {
   "cell_type": "code",
   "execution_count": null,
   "id": "901a668d",
   "metadata": {},
   "outputs": [],
   "source": [
    "print(os.environ[\"OSPL_URI\"])\n",
    "print(os.environ[\"LSST_DDS_PARTITION_PREFIX\"])\n",
    "print(os.environ[\"LSST_DDS_DOMAIN_ID\"])"
   ]
  },
  {
   "cell_type": "code",
   "execution_count": null,
   "id": "6e827952",
   "metadata": {},
   "outputs": [],
   "source": [
    "logging.basicConfig(format=\"%(name)s:%(message)s\", level=logging.DEBUG)"
   ]
  },
  {
   "cell_type": "code",
   "execution_count": null,
   "id": "82478c80",
   "metadata": {},
   "outputs": [],
   "source": [
    "from lsst_efd_client import EfdClient\n",
    "\n",
    "if summit:\n",
    "    client = EfdClient('summit_efd')\n",
    "else:\n",
    "    client = EfdClient('ncsa_teststand_efd')\n",
    "csc_index = 1"
   ]
  },
  {
   "cell_type": "code",
   "execution_count": null,
   "id": "6aa8d848",
   "metadata": {},
   "outputs": [],
   "source": [
    "#index is an integter which helps avoid multple users starting same controller\n",
    "script = salobj.Controller(\"Script\", index=8)"
   ]
  },
  {
   "cell_type": "code",
   "execution_count": null,
   "id": "c176fccd",
   "metadata": {
    "scrolled": true
   },
   "outputs": [],
   "source": [
    "mtcs = MTCS(script.domain)\n",
    "#mtcs.set_rem_loglevel(40)\n",
    "mtcs.set_rem_loglevel(logging.CRITICAL) "
   ]
  },
  {
   "cell_type": "code",
   "execution_count": null,
   "id": "a8ec79af",
   "metadata": {},
   "outputs": [],
   "source": [
    "mtcs.set_rem_loglevel(logging.CRITICAL)\n"
   ]
  },
  {
   "cell_type": "code",
   "execution_count": null,
   "id": "ddce9d6b",
   "metadata": {
    "scrolled": true
   },
   "outputs": [],
   "source": [
    "await mtcs.start_task"
   ]
  },
  {
   "cell_type": "code",
   "execution_count": null,
   "id": "e7670868",
   "metadata": {
    "scrolled": true
   },
   "outputs": [],
   "source": [
    "mtcs.components_attr"
   ]
  },
  {
   "cell_type": "code",
   "execution_count": null,
   "id": "af1fb8a6",
   "metadata": {
    "scrolled": true
   },
   "outputs": [],
   "source": [
    "ptg = mtcs.rem.mtptg\n",
    "mount = mtcs.rem.mtmount\n",
    "rot = mtcs.rem.mtrotator\n",
    "camhex = mtcs.rem.mthexapod_1\n",
    "m2hex = mtcs.rem.mthexapod_2\n",
    "m1m3 = mtcs.rem.mtm1m3\n",
    "m2 = mtcs.rem.mtm2\n",
    "aos = mtcs.rem.mtaos"
   ]
  },
  {
   "cell_type": "markdown",
   "id": "dd732a98",
   "metadata": {},
   "source": [
    "### Get Ptg ready"
   ]
  },
  {
   "cell_type": "code",
   "execution_count": null,
   "id": "be9b4601",
   "metadata": {
    "scrolled": true
   },
   "outputs": [],
   "source": [
    "await ptg.evt_heartbeat.next(flush=True, timeout=5)"
   ]
  },
  {
   "cell_type": "code",
   "execution_count": null,
   "id": "2bb973b4",
   "metadata": {
    "scrolled": true
   },
   "outputs": [],
   "source": [
    "await ptg.cmd_start.set_start()"
   ]
  },
  {
   "cell_type": "code",
   "execution_count": null,
   "id": "cf3b058f",
   "metadata": {
    "scrolled": true
   },
   "outputs": [],
   "source": [
    "await salobj.set_summary_state(ptg, salobj.State.ENABLED)"
   ]
  },
  {
   "cell_type": "markdown",
   "id": "ac17462d",
   "metadata": {},
   "source": [
    "### Get Mount ready"
   ]
  },
  {
   "cell_type": "code",
   "execution_count": null,
   "id": "700768a4",
   "metadata": {
    "scrolled": true
   },
   "outputs": [],
   "source": [
    "await mount.evt_heartbeat.next(flush=True, timeout=5)"
   ]
  },
  {
   "cell_type": "code",
   "execution_count": null,
   "id": "b7da1177",
   "metadata": {
    "scrolled": true
   },
   "outputs": [],
   "source": [
    "sim_evt = await mount.evt_simulationMode.aget(timeout=5)\n",
    "print('simulation mode? ', sim_evt.mode, pd.to_datetime(sim_evt.private_sndStamp, unit='s'))"
   ]
  },
  {
   "cell_type": "code",
   "execution_count": null,
   "id": "c0568be7",
   "metadata": {
    "scrolled": true
   },
   "outputs": [],
   "source": [
    "a = await mount.evt_softwareVersions.aget(timeout=5)\n",
    "print('software version? ', a.cscVersion, pd.to_datetime(a.private_sndStamp, unit='s'))"
   ]
  },
  {
   "cell_type": "code",
   "execution_count": null,
   "id": "849ff3a4",
   "metadata": {
    "scrolled": true
   },
   "outputs": [],
   "source": [
    "a = await mount.evt_cameraCableWrapFollowing.aget()\n",
    "print(a.enabled, pd.to_datetime(a.private_sndStamp, unit='s'))"
   ]
  },
  {
   "cell_type": "code",
   "execution_count": null,
   "id": "9280bb26",
   "metadata": {},
   "outputs": [],
   "source": [
    "await salobj.set_summary_state(mount, salobj.State.STANDBY)"
   ]
  },
  {
   "cell_type": "code",
   "execution_count": null,
   "id": "282dd6f0",
   "metadata": {},
   "outputs": [],
   "source": [
    "await mount.cmd_start.set_start()"
   ]
  },
  {
   "cell_type": "code",
   "execution_count": null,
   "id": "b1ffd080",
   "metadata": {
    "scrolled": true
   },
   "outputs": [],
   "source": [
    "await salobj.set_summary_state(mount, salobj.State.ENABLED)"
   ]
  },
  {
   "cell_type": "markdown",
   "id": "27367b89",
   "metadata": {},
   "source": [
    "### Get Rotator ready"
   ]
  },
  {
   "cell_type": "code",
   "execution_count": null,
   "id": "e622c0f1",
   "metadata": {
    "scrolled": true
   },
   "outputs": [],
   "source": [
    "await checkSlewCompStates(ptg, mount, rot)"
   ]
  },
  {
   "cell_type": "code",
   "execution_count": null,
   "id": "ef6142a1",
   "metadata": {},
   "outputs": [],
   "source": [
    "await salobj.set_summary_state(rot, salobj.State.OFFLINE)"
   ]
  },
  {
   "cell_type": "code",
   "execution_count": null,
   "id": "fce50d98",
   "metadata": {},
   "outputs": [],
   "source": [
    "await salobj.set_summary_state(rot, salobj.State.ENABLED)"
   ]
  },
  {
   "cell_type": "code",
   "execution_count": null,
   "id": "37fe2668",
   "metadata": {},
   "outputs": [],
   "source": [
    "sim_evt = await rot.evt_simulationMode.aget(timeout=5)\n",
    "print('simulation mode? ', sim_evt.mode, pd.to_datetime(sim_evt.private_sndStamp, unit='s'))"
   ]
  },
  {
   "cell_type": "code",
   "execution_count": null,
   "id": "d3d690ae",
   "metadata": {},
   "outputs": [],
   "source": [
    "a = await mount.tel_elevation.next(flush=True, timeout=5)\n",
    "print(\"mount elevation Angle = \", a.actualPosition)\n",
    "a = await mount.tel_azimuth.next(flush=True, timeout=5)\n",
    "print(\"mount azimuth angle = \", a.actualPosition)\n",
    "a = await mount.tel_cameraCableWrap.next(flush=True, timeout=5)\n",
    "print(\"CCW angle = \", a.actualPosition, \" Needs to be within 2.2 deg of rotator angle \")\n",
    "b = await rot.tel_rotation.next(flush=True, timeout=5)\n",
    "print(\"rot angle = \", b.actualPosition, \"   diff = \", (b.actualPosition - a.actualPosition))"
   ]
  },
  {
   "cell_type": "code",
   "execution_count": null,
   "id": "e20f4a08",
   "metadata": {},
   "outputs": [],
   "source": [
    "a = await rot.evt_errorCode.aget()\n",
    "print(a.errorReport, pd.to_datetime(a.private_sndStamp, unit='s'))"
   ]
  },
  {
   "cell_type": "code",
   "execution_count": null,
   "id": "572c502b",
   "metadata": {},
   "outputs": [],
   "source": [
    "a = await mount.evt_cameraCableWrapFollowing.aget(timeout=5.)\n",
    "print(a.enabled)"
   ]
  },
  {
   "cell_type": "markdown",
   "id": "e912fabc",
   "metadata": {},
   "source": [
    "If the Camera Cable Warp is not following:\n",
    "Transition the MTMount to StandbyState, wait 10 seconds, transition to EnableState"
   ]
  },
  {
   "cell_type": "code",
   "execution_count": null,
   "id": "5d782637",
   "metadata": {},
   "outputs": [],
   "source": [
    "await mount.cmd_enableCameraCableWrapFollowing.set_start()"
   ]
  },
  {
   "cell_type": "code",
   "execution_count": null,
   "id": "bf8c3b66",
   "metadata": {},
   "outputs": [],
   "source": [
    "await rot.cmd_clearError.set_start()"
   ]
  },
  {
   "cell_type": "code",
   "execution_count": null,
   "id": "00b72f01",
   "metadata": {},
   "outputs": [],
   "source": [
    "await rot.cmd_start.set_start()"
   ]
  },
  {
   "cell_type": "code",
   "execution_count": null,
   "id": "60e33922",
   "metadata": {},
   "outputs": [],
   "source": [
    "await salobj.set_summary_state(mount, salobj.State.DISABLED)\n",
    "await salobj.set_summary_state(mount, salobj.State.ENABLED)\n",
    "a = await mount.evt_cameraCableWrapFollowing.aget()\n",
    "print('CCW folowing? ', a.enabled, pd.to_datetime(a.private_sndStamp, unit='s'))"
   ]
  },
  {
   "cell_type": "code",
   "execution_count": null,
   "id": "1065b65f",
   "metadata": {},
   "outputs": [],
   "source": [
    "await rot.cmd_move.set_start(0)"
   ]
  },
  {
   "cell_type": "markdown",
   "id": "a677977e",
   "metadata": {},
   "source": [
    "### Get MTAOS Ready"
   ]
  },
  {
   "cell_type": "code",
   "execution_count": null,
   "id": "890cf3e7",
   "metadata": {},
   "outputs": [],
   "source": [
    "await aos.evt_heartbeat.next(flush=True, timeout=5)"
   ]
  },
  {
   "cell_type": "code",
   "execution_count": null,
   "id": "c19f199c",
   "metadata": {},
   "outputs": [],
   "source": [
    "await salobj.set_summary_state(aos, salobj.State.ENABLED) #, settingsToApply='default') #leave this out!!\n",
    "#two levels of defaults: csc defaults, config repo; right now csc defaults, they will move to config repo; \n",
    "#but to load defaults from config repo, we do not need to supply settingsToApply"
   ]
  },
  {
   "cell_type": "code",
   "execution_count": null,
   "id": "df460aa4",
   "metadata": {},
   "outputs": [],
   "source": [
    "a = await aos.evt_softwareVersions.aget(timeout=5)\n",
    "print('software version? ', a.cscVersion, pd.to_datetime(a.private_sndStamp, unit='s'))\n",
    "\n",
    "#this is MTAOS version. How do I get OFC version? and WEP version?"
   ]
  },
  {
   "cell_type": "code",
   "execution_count": null,
   "id": "4aa962ae",
   "metadata": {},
   "outputs": [],
   "source": [
    "def printLogMessage(data):\n",
    "    print(f\"{data.level}: {data.message}\")\n",
    "aos.evt_logMessage.callback = printLogMessage\n",
    "await aos.cmd_setLogLevel.set_start(level=10, timeout=5)"
   ]
  },
  {
   "cell_type": "code",
   "execution_count": null,
   "id": "f24b0c65",
   "metadata": {},
   "outputs": [],
   "source": []
  },
  {
   "cell_type": "code",
   "execution_count": null,
   "id": "6e467266",
   "metadata": {},
   "outputs": [],
   "source": []
  },
  {
   "cell_type": "markdown",
   "id": "01fd1d08",
   "metadata": {},
   "source": [
    "### Check that all components are ready"
   ]
  },
  {
   "cell_type": "code",
   "execution_count": null,
   "id": "b7801349",
   "metadata": {},
   "outputs": [],
   "source": [
    "await checkAOSCompStates(m1m3, m2, camhex, m2hex)"
   ]
  },
  {
   "cell_type": "code",
   "execution_count": null,
   "id": "6f06b1be",
   "metadata": {},
   "outputs": [],
   "source": [
    "await checkSlewCompStates(ptg, mount, rot)"
   ]
  },
  {
   "cell_type": "code",
   "execution_count": null,
   "id": "5e044e3b",
   "metadata": {},
   "outputs": [],
   "source": [
    "await checkAOSSummaryStates(aos, m1m3,m2,camhex,m2hex)"
   ]
  },
  {
   "cell_type": "markdown",
   "id": "50ca96d6",
   "metadata": {},
   "source": [
    "### Get M1M3 ready (Mount telemetry mode)"
   ]
  },
  {
   "cell_type": "code",
   "execution_count": null,
   "id": "57ad3895",
   "metadata": {},
   "outputs": [],
   "source": [
    "#Move to zenith (so that we can start m1m3 with LUT in mount telemetry mode)\n",
    "await mount.cmd_moveToTarget.set_start(azimuth=0, elevation=90)"
   ]
  },
  {
   "cell_type": "code",
   "execution_count": null,
   "id": "8200744b",
   "metadata": {},
   "outputs": [],
   "source": [
    "await m1m3.evt_heartbeat.next(flush=True, timeout=5)"
   ]
  },
  {
   "cell_type": "markdown",
   "id": "0b165feb",
   "metadata": {},
   "source": [
    "Check that the M1M3 is in mount telemetry mode.  For this you have to login to m1m3-crio-ss.cp.lsst.org!!"
   ]
  },
  {
   "cell_type": "code",
   "execution_count": null,
   "id": "68c2ec53",
   "metadata": {},
   "outputs": [],
   "source": [
    "await salobj.set_summary_state(m1m3, salobj.State.STANDBY)"
   ]
  },
  {
   "cell_type": "code",
   "execution_count": null,
   "id": "827ce44e",
   "metadata": {},
   "outputs": [],
   "source": [
    "print('Re-enabling M1M3')\n",
    "#await salobj.set_summary_state(m1m3, salobj.State.STANDBY) \n",
    "await salobj.set_summary_state(m1m3, salobj.State.ENABLED, settingsToApply = 'Default') #enable m1m3"
   ]
  },
  {
   "cell_type": "code",
   "execution_count": null,
   "id": "ca047d06",
   "metadata": {},
   "outputs": [],
   "source": [
    "await readyM1M3(m1m3)"
   ]
  },
  {
   "cell_type": "code",
   "execution_count": null,
   "id": "42818938",
   "metadata": {},
   "outputs": [],
   "source": [
    "await m1m3.cmd_abortRaiseM1M3.set_start(timeout=15.)"
   ]
  },
  {
   "cell_type": "code",
   "execution_count": null,
   "id": "89b2184f",
   "metadata": {},
   "outputs": [],
   "source": [
    "await checkM1M3Error(m1m3)"
   ]
  },
  {
   "cell_type": "code",
   "execution_count": null,
   "id": "587b5611",
   "metadata": {},
   "outputs": [],
   "source": [
    "await lowerM1M3(m1m3)"
   ]
  },
  {
   "cell_type": "code",
   "execution_count": null,
   "id": "83a165ef",
   "metadata": {},
   "outputs": [],
   "source": [
    "m1m3."
   ]
  },
  {
   "cell_type": "markdown",
   "id": "1e26c7d7",
   "metadata": {},
   "source": [
    "### Get M2 ready"
   ]
  },
  {
   "cell_type": "code",
   "execution_count": null,
   "id": "09cd1dbf",
   "metadata": {},
   "outputs": [],
   "source": [
    "await m2.evt_heartbeat.next(flush=True, timeout=5)"
   ]
  },
  {
   "cell_type": "code",
   "execution_count": null,
   "id": "9ec7320e",
   "metadata": {},
   "outputs": [],
   "source": [
    "await checkAOSCompStates(m1m3,m2,camhex,m2hex)"
   ]
  },
  {
   "cell_type": "code",
   "execution_count": null,
   "id": "93711a33",
   "metadata": {},
   "outputs": [],
   "source": [
    "await salobj.set_summary_state(m2, salobj.State.OFFLINE) "
   ]
  },
  {
   "cell_type": "code",
   "execution_count": null,
   "id": "85d0c5a5",
   "metadata": {},
   "outputs": [],
   "source": [
    "await salobj.set_summary_state(m2, salobj.State.STANDBY) "
   ]
  },
  {
   "cell_type": "code",
   "execution_count": null,
   "id": "5a7eb578",
   "metadata": {},
   "outputs": [],
   "source": [
    "await salobj.set_summary_state(m2, salobj.State.DISABLED) "
   ]
  },
  {
   "cell_type": "code",
   "execution_count": null,
   "id": "b2cfa69c",
   "metadata": {},
   "outputs": [],
   "source": [
    "#remember to reset interlock\n",
    "await salobj.set_summary_state(m2, salobj.State.ENABLED) "
   ]
  },
  {
   "cell_type": "code",
   "execution_count": null,
   "id": "d713513c",
   "metadata": {},
   "outputs": [],
   "source": [
    "a = await m2.evt_errorCode.aget()\n",
    "print(a.errorCode, a.errorReport, pd.to_datetime(a.private_sndStamp, unit='s'))"
   ]
  },
  {
   "cell_type": "code",
   "execution_count": null,
   "id": "325f90b7",
   "metadata": {},
   "outputs": [],
   "source": [
    "await m2.cmd_enterControl.set_start(timeout=.5)"
   ]
  },
  {
   "cell_type": "code",
   "execution_count": null,
   "id": "36534d15",
   "metadata": {},
   "outputs": [],
   "source": [
    "await m2.cmd_exitControl.set_start(timeout=.5)"
   ]
  },
  {
   "cell_type": "code",
   "execution_count": null,
   "id": "fc85257f",
   "metadata": {},
   "outputs": [],
   "source": [
    "await m2.cmd_enable.set_start(timeout=5.)"
   ]
  },
  {
   "cell_type": "code",
   "execution_count": null,
   "id": "7bbeb5b6",
   "metadata": {},
   "outputs": [],
   "source": [
    "await m2.cmd_disable.set_start(timeout=5.)"
   ]
  },
  {
   "cell_type": "code",
   "execution_count": null,
   "id": "e9a8e716",
   "metadata": {},
   "outputs": [],
   "source": [
    "await m2.cmd_clearErrors.set_start(timeout=15.)"
   ]
  },
  {
   "cell_type": "code",
   "execution_count": null,
   "id": "a55a4f78",
   "metadata": {},
   "outputs": [],
   "source": [
    "await readyM2(m2)"
   ]
  },
  {
   "cell_type": "markdown",
   "id": "b0bbdd20",
   "metadata": {},
   "source": [
    "### Get camHex ready"
   ]
  },
  {
   "cell_type": "code",
   "execution_count": null,
   "id": "9dfaaaaf",
   "metadata": {},
   "outputs": [],
   "source": [
    "target_evt = await mount.evt_target.aget(timeout=5.)\n",
    "print(\"Mount target elevation = \", target_evt.elevation, \"  @  \", pd.to_datetime(target_evt.private_sndStamp, unit='s'))\n",
    "print(\"Mount target azimuth   = \", target_evt.azimuth, \"  @  \", pd.to_datetime(target_evt.private_sndStamp, unit='s'))\n",
    "target_evt = await rot.evt_target.aget(timeout=5.)\n",
    "print(\"Rotator target position = \", target_evt.position, \"  @  \", pd.to_datetime(target_evt.private_sndStamp, unit='s'))"
   ]
  },
  {
   "cell_type": "code",
   "execution_count": null,
   "id": "c05658c2",
   "metadata": {},
   "outputs": [],
   "source": [
    "#if any of the above doesn't work\n",
    "#await mount.cmd_moveToTarget.set_start(azimuth=0, elevation=81)\n",
    "await rot.cmd_move.set_start(position=0)"
   ]
  },
  {
   "cell_type": "code",
   "execution_count": null,
   "id": "4dc7804b",
   "metadata": {},
   "outputs": [],
   "source": [
    "await camhex.evt_heartbeat.next(flush=True, timeout=5)"
   ]
  },
  {
   "cell_type": "code",
   "execution_count": null,
   "id": "f88e5130",
   "metadata": {},
   "outputs": [],
   "source": [
    "sim_evt = await camhex.evt_simulationMode.aget(timeout=5)\n",
    "print('simulation mode? ', sim_evt.mode, pd.to_datetime(sim_evt.private_sndStamp, unit='s'))"
   ]
  },
  {
   "cell_type": "code",
   "execution_count": null,
   "id": "f97d4245",
   "metadata": {},
   "outputs": [],
   "source": [
    "await salobj.set_summary_state(camhex, salobj.State.STANDBY)"
   ]
  },
  {
   "cell_type": "code",
   "execution_count": null,
   "id": "8692f121",
   "metadata": {},
   "outputs": [],
   "source": [
    "await camhex.cmd_clearError.set_start()"
   ]
  },
  {
   "cell_type": "code",
   "execution_count": null,
   "id": "ab665a80",
   "metadata": {},
   "outputs": [],
   "source": [
    "await salobj.set_summary_state(camhex, salobj.State.DISABLED, settingsToApply='default')"
   ]
  },
  {
   "cell_type": "code",
   "execution_count": null,
   "id": "477991d3",
   "metadata": {},
   "outputs": [],
   "source": [
    "await salobj.set_summary_state(camhex, salobj.State.ENABLED, settingsToApply='default')"
   ]
  },
  {
   "cell_type": "markdown",
   "id": "53ce051f",
   "metadata": {},
   "source": [
    "Move the Pivot point by 100um to make sure that the configuration event gets published"
   ]
  },
  {
   "cell_type": "code",
   "execution_count": null,
   "id": "fae435f5",
   "metadata": {},
   "outputs": [],
   "source": [
    "await camhex.cmd_setPivot.set_start(x=0,y=0,z=-2758300)"
   ]
  },
  {
   "cell_type": "code",
   "execution_count": null,
   "id": "91295cd6",
   "metadata": {},
   "outputs": [],
   "source": [
    "await camhex.cmd_setPivot.set_start(x=0,y=0,z=-2758400)"
   ]
  },
  {
   "cell_type": "code",
   "execution_count": null,
   "id": "8569247d",
   "metadata": {},
   "outputs": [],
   "source": [
    "await readyHexaForAOS(camhex)"
   ]
  },
  {
   "cell_type": "code",
   "execution_count": null,
   "id": "723cafc8",
   "metadata": {},
   "outputs": [],
   "source": [
    "await printHexaUncompensatedAndCompensated(m2hex)"
   ]
  },
  {
   "cell_type": "code",
   "execution_count": null,
   "id": "c1b8f2d8",
   "metadata": {},
   "outputs": [],
   "source": [
    "await printHexaUncompensatedAndCompensated(camhex)"
   ]
  },
  {
   "cell_type": "markdown",
   "id": "f8155d17",
   "metadata": {},
   "source": [
    "### Get m2Hex ready"
   ]
  },
  {
   "cell_type": "code",
   "execution_count": null,
   "id": "be3d52d0",
   "metadata": {},
   "outputs": [],
   "source": [
    "await salobj.set_summary_state(m2hex, salobj.State.ENABLED, settingsToApply='default') #works if it is offline"
   ]
  },
  {
   "cell_type": "code",
   "execution_count": null,
   "id": "504ddb10",
   "metadata": {},
   "outputs": [],
   "source": [
    "sim_evt = await m2hex.evt_simulationMode.aget(timeout=5)\n",
    "print('simulation mode? ', sim_evt.mode, pd.to_datetime(sim_evt.private_sndStamp, unit='s'))"
   ]
  },
  {
   "cell_type": "code",
   "execution_count": null,
   "id": "680095bb",
   "metadata": {},
   "outputs": [],
   "source": [
    "await readyHexaForAOS(m2hex)"
   ]
  },
  {
   "cell_type": "code",
   "execution_count": null,
   "id": "1a59c6b9",
   "metadata": {},
   "outputs": [],
   "source": []
  },
  {
   "cell_type": "code",
   "execution_count": null,
   "id": "11d5762d",
   "metadata": {},
   "outputs": [],
   "source": [
    "end = Time(datetime.now(), scale='tai')\n",
    "start = end - timedelta(seconds=1000)\n",
    "df = await client.select_time_series('lsst.sal.ESS.temperature8Ch', '*', start, end, csc_index)\n",
    "if len(df)>0:\n",
    "    fig, ax = plt.subplots(1,1, figsize=(15,4))\n",
    "    for i in range(1,7):\n",
    "        plt.plot(getattr(df, 'temperatureC%02d'%i))\n",
    "    plt.grid()\n",
    "else:\n",
    "    print('No temperature data on the camera hexapod in the past 1000s.')"
   ]
  },
  {
   "cell_type": "markdown",
   "id": "3fb60420",
   "metadata": {},
   "source": [
    "### Do a few slews"
   ]
  },
  {
   "cell_type": "code",
   "execution_count": null,
   "id": "e8b7157d",
   "metadata": {},
   "outputs": [],
   "source": [
    "await m1m1.error"
   ]
  },
  {
   "cell_type": "markdown",
   "id": "bc12a1dd",
   "metadata": {},
   "source": [
    "#### Do 4 slews, then stop tracking"
   ]
  },
  {
   "cell_type": "code",
   "execution_count": null,
   "id": "84f9dd3d",
   "metadata": {},
   "outputs": [],
   "source": [
    "#comment and uncomment the below depending on which components are expected to be on\n",
    "#by default, MTCS checks on every component (during the slew).\n",
    "mtcs.check.mtaos = False\n",
    "mtcs.check.mtm1m3 = True\n",
    "mtcs.check.mtm2 = True\n",
    "mtcs.check.mthexapod_1 = True\n",
    "mtcs.check.mthexapod_2 = True\n",
    "mtcs.check.mtdome = False\n",
    "mtcs.check.mtdometrajectory = False"
   ]
  },
  {
   "cell_type": "code",
   "execution_count": null,
   "id": "0c0c811f",
   "metadata": {},
   "outputs": [],
   "source": [
    "def printLogMessage(data):\n",
    "    print(f\"{data.level}: {data.message}\")\n",
    "aos.evt_logMessage.callback = printLogMessage\n",
    "await aos.cmd_setLogLevel.set_start(level=10, timeout=5)"
   ]
  },
  {
   "cell_type": "code",
   "execution_count": null,
   "id": "382292d3",
   "metadata": {},
   "outputs": [],
   "source": [
    "dec = -34.\n",
    "for j in range(2):\n",
    "    for i in range(2):\n",
    "        \n",
    "        a = await mount.evt_cameraCableWrapFollowing.aget()\n",
    "        print('CCW folowing? ', a.enabled, pd.to_datetime(a.private_sndStamp, unit='s'))\n",
    "        if not a.enabled:\n",
    "            break\n",
    "        time_and_date = await mtcs.rem.mtptg.tel_timeAndDate.next(flush=True, timeout=5)\n",
    "        ra = time_and_date.lst + 0.5 - 3.5/15.0 * i\n",
    "        \n",
    "        aa = await mount.tel_elevation.next(flush=True, timeout=5.)\n",
    "        current_el = aa.actualPosition\n",
    "        \n",
    "        obs_time = salobj.astropy_time_from_tai_unix(salobj.current_tai() + 0.) #with 0s delay\n",
    "        azel = mtcs.azel_from_radec(ra=ra, dec=dec, time=obs_time)\n",
    "        target_el = azel.alt.value\n",
    "        \n",
    "        while abs(target_el - current_el)>0.3:\n",
    "            print('moving from elevation %.1f deg to %.1f deg'%(current_el, target_el), Time.now())\n",
    "            await moveMountConstantV(mount, current_el, target_el)\n",
    "        \n",
    "            aa = await mount.tel_elevation.next(flush=True, timeout=5.)\n",
    "            current_el = aa.actualPosition\n",
    "        \n",
    "            time_and_date = await mtcs.rem.mtptg.tel_timeAndDate.next(flush=True, timeout=5)\n",
    "            ra = time_and_date.lst + 0.5 - 3.5/15.0 * i\n",
    "    \n",
    "            obs_time = salobj.astropy_time_from_tai_unix(salobj.current_tai() + 0.) #with 0s delay\n",
    "            azel = mtcs.azel_from_radec(ra=ra, dec=dec, time=obs_time)\n",
    "            target_el = azel.alt.value\n",
    "        \n",
    "        await moveRotTo0(rot, 10.0)\n",
    "        \n",
    "        print('start a slew, elevation diff = ', abs(target_el - current_el), Time.now())\n",
    "        a = await mount.evt_cameraCableWrapFollowing.aget()\n",
    "        print('CCW folowing? ', a.enabled, pd.to_datetime(a.private_sndStamp, unit='s'))\n",
    "        if not a.enabled:\n",
    "            break\n",
    "            \n",
    "        await aos.cmd_resetCorrection.set_start()\n",
    "        await aos.cmd_issueCorrection.set_start() \n",
    "        k = j*2+i\n",
    "        zernikes = np.zeros(19)\n",
    "        if k==0:\n",
    "            zernikes[4-4] = 1 #add 1um of z4\n",
    "        elif k==1:\n",
    "            zernikes[5-4] = 1 #add 1um of z5\n",
    "        elif k==2:\n",
    "            zernikes[7-4] = 1 #add 1um of z7\n",
    "        elif k==3:\n",
    "            zernikes[9-4] = 1 #add 1um of z9\n",
    "        await aos.cmd_addAberration.set_start(wf = zernikes)\n",
    "        await aos.cmd_issueCorrection.set_start() \n",
    "        await asyncio.sleep(2.0)\n",
    "\n",
    "        ofc_dict =  await ofcSentApplied(aos, m1m3, m2, camhex, m2hex, make_plot = True)\n",
    "\n",
    "        rotAngle = 10.0\n",
    "        print('zero-indexed: ', k, 'rot = ', rotAngle)\n",
    "        #b = await mount.tel_cameraCableWrap.next(flush=True, timeout=5) #CCW doesn't follow rotator!!!\n",
    "        # await mtcs.slew_icrs(ra=ra, dec=dec, rot=b.actualPosition, rot_type=RotType.PhysicalSky)\n",
    "        await mtcs.slew_icrs(ra=ra, dec=dec, rot=rotAngle, rot_type=RotType.PhysicalSky)\n",
    "        #await mtcs.slew_icrs(ra=ra, dec=dec, rot=0.0, rot_type=RotType.Physical)\n",
    "        await asyncio.sleep(39.)\n",
    "        await mtcs.stop_tracking()"
   ]
  },
  {
   "cell_type": "code",
   "execution_count": null,
   "id": "02bec746",
   "metadata": {},
   "outputs": [],
   "source": [
    "await mtcs.stop_tracking()"
   ]
  },
  {
   "cell_type": "code",
   "execution_count": null,
   "id": "70747be9",
   "metadata": {},
   "outputs": [],
   "source": []
  },
  {
   "cell_type": "markdown",
   "id": "61872127",
   "metadata": {},
   "source": [
    "#### Plot the above process"
   ]
  },
  {
   "cell_type": "code",
   "execution_count": null,
   "id": "4e67843e",
   "metadata": {},
   "outputs": [],
   "source": [
    "#end = Time(datetime.now(), scale='tai')\n",
    "end = Time('2021-07-13T19:18:00', scale='tai')\n",
    "start = end - timedelta(seconds=1000)"
   ]
  },
  {
   "cell_type": "code",
   "execution_count": null,
   "id": "e265420a",
   "metadata": {},
   "outputs": [],
   "source": [
    "dfm2"
   ]
  },
  {
   "cell_type": "code",
   "execution_count": null,
   "id": "554f8c1d",
   "metadata": {},
   "outputs": [],
   "source": [
    "dfm = await client.select_time_series('lsst.sal.MTMount.elevation', '*', start, end, csc_index)\n",
    "dfm1m3 = await client.select_time_series('lsst.sal.MTM1M3.logevent_appliedElevationForces', '*', start, end, csc_index)\n",
    "dfm2 = await client.select_time_series('lsst.sal.MTM2.axialForce', '*', start, end, csc_index)\n",
    "dfh = await client.select_time_series('lsst.sal.MTHexapod.application', '*', start, end, csc_index)\n",
    "\n",
    "idx1=dfh.MTHexapodID==1\n",
    "dfh1 = dfh[idx1]\n",
    "idx2=dfh.MTHexapodID==2\n",
    "dfh2 = dfh[idx2]"
   ]
  },
  {
   "cell_type": "code",
   "execution_count": null,
   "id": "b5efa7ed",
   "metadata": {},
   "outputs": [],
   "source": [
    "fig, ax = plt.subplots(1,1, figsize=(15,4))\n",
    "plt.plot((dfm.actualPosition-dfm.actualPosition[0])*100, '--', label='mount elevation x 100 (deg)')\n",
    "plt.plot(dfm1m3.yForces0-dfm1m3.yForces0[0], label='M1M3 elevation y-force 101 (N)')\n",
    "plt.plot((dfm2.lutGravity0-dfm2.lutGravity0[0])*10, label='M2 elevation force B1 x 10 (N)')\n",
    "plt.plot(dfh1.position1-dfh1.position1[0], label='Camera hexapod y (um)')\n",
    "plt.plot(dfh2.position1-dfh2.position1[0], label='M2 hexapod y (um)')\n",
    "plt.grid()\n",
    "plt.legend()\n",
    "plt.title('Changes in telemetry')"
   ]
  },
  {
   "cell_type": "markdown",
   "id": "7eba8efd",
   "metadata": {},
   "source": [
    "#### Check if the telescope is in tracking mode. If yes, need to stop stacking.\n",
    "\n",
    "The alternative is to check \"MT Mount status\" dash board on Chronograf. Make sure there are three \"False\"."
   ]
  },
  {
   "cell_type": "code",
   "execution_count": null,
   "id": "30c7f4ee",
   "metadata": {},
   "outputs": [],
   "source": [
    "mountStatus = await mount.evt_axesInPosition.aget(timeout=5.)\n",
    "rotStatus = await rot.evt_inPosition.aget(timeout=5.)\n",
    "trackingStatus = mountStatus.elevation and mountStatus.azimuth and rotStatus.inPosition\n",
    "print('Are we tracking?', trackingStatus)"
   ]
  },
  {
   "cell_type": "code",
   "execution_count": null,
   "id": "d470d568",
   "metadata": {},
   "outputs": [],
   "source": [
    "await mtcs.stop_tracking()"
   ]
  },
  {
   "cell_type": "markdown",
   "id": "7a4a30d7",
   "metadata": {},
   "source": [
    "### put mount elevation back to 90 deg, so that we can lower M1M3"
   ]
  },
  {
   "cell_type": "code",
   "execution_count": null,
   "id": "54cbb21b",
   "metadata": {},
   "outputs": [],
   "source": [
    "aa = await mount.tel_elevation.next(flush=True, timeout=5.)\n",
    "current_el = aa.actualPosition"
   ]
  },
  {
   "cell_type": "code",
   "execution_count": null,
   "id": "aa225285",
   "metadata": {},
   "outputs": [],
   "source": [
    "await moveMountConstantV(mount,current_el, 90)"
   ]
  },
  {
   "cell_type": "code",
   "execution_count": null,
   "id": "b2073a3c",
   "metadata": {},
   "outputs": [],
   "source": [
    "await lowerM1M3(m1m3)"
   ]
  },
  {
   "cell_type": "markdown",
   "id": "8265a1e0",
   "metadata": {},
   "source": [
    "#### Close up. Put all simulators to standby"
   ]
  },
  {
   "cell_type": "code",
   "execution_count": null,
   "id": "df4baa81",
   "metadata": {},
   "outputs": [],
   "source": [
    "await mtcs.stop_tracking()"
   ]
  },
  {
   "cell_type": "code",
   "execution_count": null,
   "id": "0c754e9d",
   "metadata": {},
   "outputs": [],
   "source": [
    "await salobj.set_summary_state(aos, salobj.State.STANDBY)"
   ]
  },
  {
   "cell_type": "code",
   "execution_count": null,
   "id": "f5e0eb16",
   "metadata": {},
   "outputs": [],
   "source": [
    "await salobj.set_summary_state(ptg, salobj.State.STANDBY)"
   ]
  },
  {
   "cell_type": "code",
   "execution_count": null,
   "id": "20fdf492",
   "metadata": {},
   "outputs": [],
   "source": [
    "await salobj.set_summary_state(rot, salobj.State.OFFLINE)"
   ]
  },
  {
   "cell_type": "code",
   "execution_count": null,
   "id": "5dc08e20",
   "metadata": {},
   "outputs": [],
   "source": [
    "await salobj.set_summary_state(camhex, salobj.State.STANDBY)"
   ]
  },
  {
   "cell_type": "code",
   "execution_count": null,
   "id": "990171a9",
   "metadata": {},
   "outputs": [],
   "source": [
    "await camhex.cmd_disable.set_start()"
   ]
  },
  {
   "cell_type": "code",
   "execution_count": null,
   "id": "ca570421",
   "metadata": {},
   "outputs": [],
   "source": [
    "await salobj.set_summary_state(camhex, salobj.State.DISABLED)"
   ]
  },
  {
   "cell_type": "code",
   "execution_count": null,
   "id": "fd411474",
   "metadata": {},
   "outputs": [],
   "source": [
    "await salobj.set_summary_state(m2hex, salobj.State.STANDBY)"
   ]
  },
  {
   "cell_type": "code",
   "execution_count": null,
   "id": "be32f51f",
   "metadata": {},
   "outputs": [],
   "source": [
    "await salobj.set_summary_state(m2, salobj.State.DISABLED)"
   ]
  },
  {
   "cell_type": "code",
   "execution_count": null,
   "id": "41659a79",
   "metadata": {},
   "outputs": [],
   "source": [
    "await salobj.set_summary_state(m2, salobj.State.STANDBY)"
   ]
  },
  {
   "cell_type": "code",
   "execution_count": null,
   "id": "ae619860",
   "metadata": {},
   "outputs": [],
   "source": [
    "await salobj.set_summary_state(m2, salobj.State.OFFLINE)"
   ]
  },
  {
   "cell_type": "code",
   "execution_count": null,
   "id": "4545b99d",
   "metadata": {},
   "outputs": [],
   "source": [
    "await lowerM1M3(m1m3)"
   ]
  },
  {
   "cell_type": "code",
   "execution_count": null,
   "id": "af568424",
   "metadata": {},
   "outputs": [],
   "source": [
    "await salobj.set_summary_state(m1m3, salobj.State.OFFLINE)"
   ]
  },
  {
   "cell_type": "code",
   "execution_count": null,
   "id": "f886d2e8",
   "metadata": {},
   "outputs": [],
   "source": [
    "await salobj.set_summary_state(mount, salobj.State.STANDBY)"
   ]
  },
  {
   "cell_type": "code",
   "execution_count": null,
   "id": "f2ef9c7d",
   "metadata": {},
   "outputs": [],
   "source": [
    "await rot.cmd_clearError.set_start()"
   ]
  },
  {
   "cell_type": "code",
   "execution_count": null,
   "id": "6be17e59",
   "metadata": {},
   "outputs": [],
   "source": [
    "await m2.cmd_exitControl.set_start()"
   ]
  },
  {
   "cell_type": "code",
   "execution_count": null,
   "id": "e2ade033",
   "metadata": {},
   "outputs": [],
   "source": [
    "await checkAOSCompStates(m1m3,m2,camhex, m2hex)"
   ]
  },
  {
   "cell_type": "code",
   "execution_count": null,
   "id": "4061a0e8",
   "metadata": {},
   "outputs": [],
   "source": [
    "await checkSlewCompStates(ptg,mount, rot)"
   ]
  },
  {
   "cell_type": "code",
   "execution_count": null,
   "id": "647a85f1",
   "metadata": {},
   "outputs": [],
   "source": []
  }
 ],
 "metadata": {
  "kernelspec": {
   "display_name": "LSST",
   "language": "python",
   "name": "lsst"
  },
  "language_info": {
   "codemirror_mode": {
    "name": "ipython",
    "version": 3
   },
   "file_extension": ".py",
   "mimetype": "text/x-python",
   "name": "python",
   "nbconvert_exporter": "python",
   "pygments_lexer": "ipython3",
   "version": "3.8.8"
  }
 },
 "nbformat": 4,
 "nbformat_minor": 5
}
