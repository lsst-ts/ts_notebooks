{
 "cells": [
  {
   "cell_type": "markdown",
   "id": "7a3e8c5e",
   "metadata": {},
   "source": [
    "## This notebook does slew simulations, and check all aos components (M1M3, M2, hexapods) behavior during the slew-and-track process\n",
    "\n",
    "This is expected to work both for SUMMIT and NCSA"
   ]
  },
  {
   "cell_type": "code",
   "execution_count": 1,
   "id": "f11c4bf1",
   "metadata": {},
   "outputs": [],
   "source": [
    "%load_ext autoreload\n",
    "%autoreload 2"
   ]
  },
  {
   "cell_type": "code",
   "execution_count": 2,
   "id": "f7dd12af",
   "metadata": {},
   "outputs": [
    {
     "name": "stderr",
     "output_type": "stream",
     "text": [
      "Patching auth into notebook.base.handlers.IPythonHandler(notebook.base.handlers.AuthenticatedHandler) -> IPythonHandler(jupyterhub.singleuser.mixins.HubAuthenticatedHandler, notebook.base.handlers.AuthenticatedHandler)\n"
     ]
    },
    {
     "data": {
      "text/plain": [
       "'andes06.cp.lsst.org'"
      ]
     },
     "execution_count": 2,
     "metadata": {},
     "output_type": "execute_result"
    }
   ],
   "source": [
    "import rubin_jupyter_utils.lab.notebook as nb\n",
    "nb.utils.get_node()"
   ]
  },
  {
   "cell_type": "code",
   "execution_count": 3,
   "id": "f42ec289",
   "metadata": {},
   "outputs": [
    {
     "name": "stderr",
     "output_type": "stream",
     "text": [
      "Update leap second table\n",
      "current_tai uses the system TAI clock\n"
     ]
    },
    {
     "data": {
      "text/plain": [
       "<Figure size 432x288 with 0 Axes>"
      ]
     },
     "metadata": {},
     "output_type": "display_data"
    }
   ],
   "source": [
    "from lsst.ts import salobj\n",
    "import asyncio\n",
    "import os\n",
    "import yaml\n",
    "\n",
    "import numpy as np\n",
    "from matplotlib import pyplot as plt\n",
    "from astropy.time import Time\n",
    "from datetime import datetime, timedelta\n",
    "import pandas as pd\n",
    "import logging\n",
    "\n",
    "from lsst.ts.idl.enums import MTHexapod\n",
    "\n",
    "from lsst.ts.observatory.control.maintel.mtcs import MTCS, MTCSUsages\n",
    "from lsst.ts.observatory.control import RotType\n",
    "from astropy.coordinates import AltAz, ICRS, EarthLocation, Angle, FK5\n",
    "import astropy.units as u\n",
    "\n",
    "from aosTools import *\n",
    "\n",
    "plt.jet();"
   ]
  },
  {
   "cell_type": "code",
   "execution_count": 4,
   "id": "0e7c1d98",
   "metadata": {},
   "outputs": [],
   "source": [
    "summit = 1 #use this for summit testing\n",
    "#summit = 0 #use this for NCSA"
   ]
  },
  {
   "cell_type": "code",
   "execution_count": 5,
   "id": "009449e1",
   "metadata": {},
   "outputs": [
    {
     "name": "stdout",
     "output_type": "stream",
     "text": [
      "file:///home/hdrass/WORK/ts_ddsconfig/config/ospl-shmem.xml\n",
      "summit\n",
      "0\n"
     ]
    }
   ],
   "source": [
    "print(os.environ[\"OSPL_URI\"])\n",
    "print(os.environ[\"LSST_DDS_PARTITION_PREFIX\"])\n",
    "print(os.environ[\"LSST_DDS_DOMAIN_ID\"])"
   ]
  },
  {
   "cell_type": "code",
   "execution_count": 6,
   "id": "ac695d1e",
   "metadata": {},
   "outputs": [],
   "source": [
    "logging.basicConfig(format=\"%(name)s:%(message)s\", level=logging.DEBUG)"
   ]
  },
  {
   "cell_type": "code",
   "execution_count": 7,
   "id": "27e5118d",
   "metadata": {},
   "outputs": [],
   "source": [
    "from lsst_efd_client import EfdClient\n",
    "\n",
    "if summit:\n",
    "    client = EfdClient('summit_efd')\n",
    "else:\n",
    "    client = EfdClient('ncsa_teststand_efd')\n",
    "csc_index = 1"
   ]
  },
  {
   "cell_type": "code",
   "execution_count": 8,
   "id": "a989a9f4",
   "metadata": {},
   "outputs": [
    {
     "name": "stderr",
     "output_type": "stream",
     "text": [
      "Read historical data in 0.00 sec\n"
     ]
    }
   ],
   "source": [
    "#index is an integter which helps avoid multple users starting same controller\n",
    "script = salobj.Controller(\"Script\", index=7)"
   ]
  },
  {
   "cell_type": "code",
   "execution_count": 9,
   "id": "89877967",
   "metadata": {},
   "outputs": [],
   "source": [
    "mtcs = MTCS(script.domain)\n",
    "mtcs.set_rem_loglevel(40)"
   ]
  },
  {
   "cell_type": "code",
   "execution_count": 10,
   "id": "4dc0c705",
   "metadata": {},
   "outputs": [
    {
     "name": "stderr",
     "output_type": "stream",
     "text": [
      "elevation DDS read queue is full (100 elements); data may be lost\n",
      "cameraCableWrap DDS read queue is full (100 elements); data may be lost\n",
      "azimuth DDS read queue is full (100 elements); data may be lost\n",
      "Read historical data in 0.15 sec\n",
      "Read historical data in 0.20 sec\n",
      "powerSupplyData DDS read queue is full (100 elements); data may be lost\n",
      "timeAndDate DDS read queue is full (100 elements); data may be lost\n",
      "zenithAngle DDS read queue is full (100 elements); data may be lost\n",
      "electrical DDS read queue is filling: 86 of 100 elements\n"
     ]
    },
    {
     "data": {
      "text/plain": [
       "[None, None, None, None, None, None, None, None, None, None]"
      ]
     },
     "execution_count": 10,
     "metadata": {},
     "output_type": "execute_result"
    },
    {
     "name": "stderr",
     "output_type": "stream",
     "text": [
      "electrical DDS read queue is full (100 elements); data may be lost\n",
      "rotation DDS read queue is full (100 elements); data may be lost\n",
      "pidData DDS read queue is full (100 elements); data may be lost\n",
      "mountStatus DDS read queue is full (100 elements); data may be lost\n",
      "temperature DDS read queue is full (100 elements); data may be lost\n"
     ]
    }
   ],
   "source": [
    "await mtcs.start_task"
   ]
  },
  {
   "cell_type": "code",
   "execution_count": 11,
   "id": "1ababfb5",
   "metadata": {},
   "outputs": [
    {
     "name": "stderr",
     "output_type": "stream",
     "text": [
      "application DDS read queue is filling: 89 of 100 elements\n",
      "motors DDS read queue is full (100 elements); data may be lost\n",
      "application DDS read queue is full (100 elements); data may be lost\n",
      "inclinometerData DDS read queue is full (100 elements); data may be lost\n",
      "mountPosition DDS read queue is full (100 elements); data may be lost\n",
      "tangentForce DDS read queue is full (100 elements); data may be lost\n",
      "actuators DDS read queue is filling: 90 of 100 elements\n",
      "electrical DDS read queue is full (100 elements); data may be lost\n",
      "actuators DDS read queue is full (100 elements); data may be lost\n",
      "imsData DDS read queue is full (100 elements); data may be lost\n",
      "tangentEncoderPositions DDS read queue is full (100 elements); data may be lost\n",
      "currentTargetStatus DDS read queue is full (100 elements); data may be lost\n",
      "ccwFollowingError DDS read queue is full (100 elements); data may be lost\n",
      "tangentActuatorSteps DDS read queue is full (100 elements); data may be lost\n",
      "hardpointMonitorData DDS read queue is full (100 elements); data may be lost\n",
      "powerStatus DDS read queue is full (100 elements); data may be lost\n",
      "positionIMS DDS read queue is full (100 elements); data may be lost\n",
      "hardpointActuatorData DDS read queue is full (100 elements); data may be lost\n",
      "position DDS read queue is full (100 elements); data may be lost\n",
      "netMomentsTotal DDS read queue is full (100 elements); data may be lost\n",
      "forceActuatorData DDS read queue is full (100 elements); data may be lost\n",
      "netForcesTotal DDS read queue is full (100 elements); data may be lost\n",
      "accelerometerData DDS read queue is full (100 elements); data may be lost\n",
      "ilcData DDS read queue is full (100 elements); data may be lost\n",
      "forceBalance DDS read queue is full (100 elements); data may be lost\n",
      "displacementSensors DDS read queue is full (100 elements); data may be lost\n",
      "axialForce DDS read queue is full (100 elements); data may be lost\n",
      "axialEncoderPositions DDS read queue is full (100 elements); data may be lost\n",
      "axialActuatorSteps DDS read queue is full (100 elements); data may be lost\n",
      "appliedAberrationForces DDS read queue is full (100 elements); data may be lost\n"
     ]
    },
    {
     "data": {
      "text/plain": [
       "['mtmount',\n",
       " 'mtptg',\n",
       " 'mtaos',\n",
       " 'mtm1m3',\n",
       " 'mtm2',\n",
       " 'mthexapod_1',\n",
       " 'mthexapod_2',\n",
       " 'mtrotator',\n",
       " 'mtdome',\n",
       " 'mtdometrajectory']"
      ]
     },
     "execution_count": 11,
     "metadata": {},
     "output_type": "execute_result"
    }
   ],
   "source": [
    "mtcs.components_attr"
   ]
  },
  {
   "cell_type": "code",
   "execution_count": 12,
   "id": "2c3e7669",
   "metadata": {},
   "outputs": [],
   "source": [
    "ptg = mtcs.rem.mtptg\n",
    "mount = mtcs.rem.mtmount\n",
    "rot = mtcs.rem.mtrotator\n",
    "camhex = mtcs.rem.mthexapod_1\n",
    "m2hex = mtcs.rem.mthexapod_2\n",
    "m1m3 = mtcs.rem.mtm1m3\n",
    "m2 = mtcs.rem.mtm2\n",
    "#aos = mtcs.rem.mtaos"
   ]
  },
  {
   "cell_type": "markdown",
   "id": "10e14549",
   "metadata": {},
   "source": [
    "### Get Ptg ready"
   ]
  },
  {
   "cell_type": "code",
   "execution_count": null,
   "id": "9df8399a",
   "metadata": {},
   "outputs": [],
   "source": [
    "await ptg.evt_heartbeat.next(flush=True, timeout=5)"
   ]
  },
  {
   "cell_type": "code",
   "execution_count": null,
   "id": "556c9da3",
   "metadata": {},
   "outputs": [],
   "source": [
    "await ptg.cmd_start.set_start()"
   ]
  },
  {
   "cell_type": "code",
   "execution_count": null,
   "id": "afca1339",
   "metadata": {},
   "outputs": [],
   "source": [
    "await salobj.set_summary_state(ptg, salobj.State.ENABLED)"
   ]
  },
  {
   "cell_type": "markdown",
   "id": "ba98fc05",
   "metadata": {},
   "source": [
    "### Get Mount ready"
   ]
  },
  {
   "cell_type": "code",
   "execution_count": null,
   "id": "273b8fee",
   "metadata": {},
   "outputs": [],
   "source": [
    "await mount.evt_heartbeat.next(flush=True, timeout=5)"
   ]
  },
  {
   "cell_type": "code",
   "execution_count": null,
   "id": "d503d84b",
   "metadata": {},
   "outputs": [],
   "source": [
    "sim_evt = await mount.evt_simulationMode.aget(timeout=5)\n",
    "print('simulation mode? ', sim_evt.mode, pd.to_datetime(sim_evt.private_sndStamp, unit='s'))"
   ]
  },
  {
   "cell_type": "code",
   "execution_count": null,
   "id": "c376db51",
   "metadata": {},
   "outputs": [],
   "source": [
    "a = await mount.evt_softwareVersions.aget(timeout=5)\n",
    "print('simulation mode? ', a.cscVersion, pd.to_datetime(a.private_sndStamp, unit='s'))"
   ]
  },
  {
   "cell_type": "code",
   "execution_count": null,
   "id": "e83d5c43",
   "metadata": {},
   "outputs": [],
   "source": [
    "a = await mount.evt_cameraCableWrapFollowing.aget()\n",
    "print(a.enabled, pd.to_datetime(a.private_sndStamp, unit='s'))"
   ]
  },
  {
   "cell_type": "code",
   "execution_count": null,
   "id": "19a4d1e9",
   "metadata": {},
   "outputs": [],
   "source": [
    "await salobj.set_summary_state(mount, salobj.State.OFFLINE)"
   ]
  },
  {
   "cell_type": "code",
   "execution_count": null,
   "id": "7e4b6b58",
   "metadata": {},
   "outputs": [],
   "source": [
    "await mount.cmd_start.set_start()"
   ]
  },
  {
   "cell_type": "code",
   "execution_count": 50,
   "id": "89cde3a4",
   "metadata": {},
   "outputs": [
    {
     "data": {
      "text/plain": [
       "[<State.STANDBY: 5>, <State.DISABLED: 1>, <State.ENABLED: 2>]"
      ]
     },
     "execution_count": 50,
     "metadata": {},
     "output_type": "execute_result"
    }
   ],
   "source": [
    "await salobj.set_summary_state(mount, salobj.State.ENABLED)"
   ]
  },
  {
   "cell_type": "code",
   "execution_count": null,
   "id": "9aa8a251",
   "metadata": {},
   "outputs": [],
   "source": [
    "await showSlewError(ptg, mount, rot)"
   ]
  },
  {
   "cell_type": "markdown",
   "id": "e9d72d93",
   "metadata": {},
   "source": [
    "### Get Rotator ready"
   ]
  },
  {
   "cell_type": "code",
   "execution_count": null,
   "id": "76136529",
   "metadata": {},
   "outputs": [],
   "source": [
    "await checkSlewCompStates(ptg, mount, rot)"
   ]
  },
  {
   "cell_type": "code",
   "execution_count": null,
   "id": "1841aa1a",
   "metadata": {},
   "outputs": [],
   "source": [
    "await salobj.set_summary_state(rot, salobj.State.OFFLINE)"
   ]
  },
  {
   "cell_type": "code",
   "execution_count": null,
   "id": "5cb5b4e0",
   "metadata": {},
   "outputs": [],
   "source": [
    "await salobj.set_summary_state(rot, salobj.State.ENABLED)"
   ]
  },
  {
   "cell_type": "code",
   "execution_count": null,
   "id": "ffd7036b",
   "metadata": {},
   "outputs": [],
   "source": [
    "a = await mount.tel_elevation.next(flush=True, timeout=5)\n",
    "print(\"mount elevation Angle = \", a.actualPosition)\n",
    "a = await mount.tel_azimuth.next(flush=True, timeout=5)\n",
    "print(\"mount azimuth angle = \", a.actualPosition)\n",
    "a = await mount.tel_cameraCableWrap.next(flush=True, timeout=5)\n",
    "print(\"CCW angle = \", a.actualPosition, \" Needs to be within 2.2 deg of rotator angle \")\n",
    "b = await rot.tel_rotation.next(flush=True, timeout=5)\n",
    "print(\"rot angle = \", b.actualPosition, \"   diff = \", (b.actualPosition - a.actualPosition))"
   ]
  },
  {
   "cell_type": "code",
   "execution_count": null,
   "id": "f282ab81",
   "metadata": {},
   "outputs": [],
   "source": [
    "a = await rot.evt_errorCode.aget()\n",
    "print(a.errorReport, pd.to_datetime(a.private_sndStamp, unit='s'))"
   ]
  },
  {
   "cell_type": "code",
   "execution_count": null,
   "id": "ee13e2a4",
   "metadata": {},
   "outputs": [],
   "source": [
    "#if you get the \"CCW telemetry too old\", check the below. The CSC checks timestamp, not private_sndStamp\n",
    "a=await mount.tel_cameraCableWrap.next(flush=True, timeout=5)\n",
    "print(pd.to_datetime(a.private_sndStamp, unit='s'), a.actualPosition)\n",
    "print(pd.to_datetime(a.timestamp, unit='s'), a.actualPosition)\n",
    "a=await rot.tel_rotation.next(flush=True, timeout=5)\n",
    "print(pd.to_datetime(a.private_sndStamp, unit='s'), a.actualPosition)\n",
    "print(pd.to_datetime(a.timestamp, unit='s'), a.actualPosition)"
   ]
  },
  {
   "cell_type": "code",
   "execution_count": null,
   "id": "26e6d29a",
   "metadata": {},
   "outputs": [],
   "source": [
    "sim_evt = await rot.evt_simulationMode.aget(timeout=5)\n",
    "print('simulation mode? ', sim_evt.mode, pd.to_datetime(sim_evt.private_sndStamp, unit='s'))"
   ]
  },
  {
   "cell_type": "code",
   "execution_count": null,
   "id": "95a29704",
   "metadata": {},
   "outputs": [],
   "source": [
    "#a = await mount.evt_cameraCableWrapState.aget(timeout=5.)\n",
    "#print(a.state)\n",
    "a = await mount.evt_cameraCableWrapFollowing.aget(timeout=5.)\n",
    "print(a.enabled)"
   ]
  },
  {
   "cell_type": "code",
   "execution_count": null,
   "id": "9207f592",
   "metadata": {},
   "outputs": [],
   "source": [
    "await mount.cmd_enableCameraCableWrapFollowing.set_start()"
   ]
  },
  {
   "cell_type": "code",
   "execution_count": null,
   "id": "174b0c30",
   "metadata": {},
   "outputs": [],
   "source": [
    "await rot.cmd_clearError.set_start()"
   ]
  },
  {
   "cell_type": "code",
   "execution_count": null,
   "id": "eae9ea31",
   "metadata": {},
   "outputs": [],
   "source": [
    "await rot.cmd_start.set_start()"
   ]
  },
  {
   "cell_type": "code",
   "execution_count": null,
   "id": "5f72b358",
   "metadata": {},
   "outputs": [],
   "source": [
    "await salobj.set_summary_state(mount, salobj.State.DISABLED)\n",
    "await salobj.set_summary_state(mount, salobj.State.ENABLED)\n",
    "a = await mount.evt_cameraCableWrapFollowing.aget()\n",
    "print('CCW folowing? ', a.enabled, pd.to_datetime(a.private_sndStamp, unit='s'))"
   ]
  },
  {
   "cell_type": "code",
   "execution_count": null,
   "id": "9158f52e",
   "metadata": {},
   "outputs": [],
   "source": [
    "await rot.cmd_move.set_start(0)"
   ]
  },
  {
   "cell_type": "markdown",
   "id": "52f3bd7b",
   "metadata": {},
   "source": [
    "### test the slew simulations without AOS components"
   ]
  },
  {
   "cell_type": "code",
   "execution_count": null,
   "id": "50920b9b",
   "metadata": {},
   "outputs": [],
   "source": [
    "#comment and uncomment the below depending on which components are expected to be on\n",
    "#by default, MTCS checks on every component (during the slew).\n",
    "mtcs.check.mtaos = False\n",
    "mtcs.check.mtm1m3 = False\n",
    "mtcs.check.mtm2 = False\n",
    "mtcs.check.mthexapod_1 = False\n",
    "mtcs.check.mthexapod_2 = False\n",
    "mtcs.check.mtdome = False\n",
    "mtcs.check.mtdometrajectory = False"
   ]
  },
  {
   "cell_type": "code",
   "execution_count": null,
   "id": "6f760d63",
   "metadata": {},
   "outputs": [],
   "source": [
    "dec = -34.\n",
    "for j in range(2):\n",
    "    time_and_date = await mtcs.rem.mtptg.tel_timeAndDate.next(flush=True, timeout=5)\n",
    "    ra = time_and_date.lst + 0.5\n",
    "    for i in range(2):\n",
    "        print(ra, dec)\n",
    "        await mtcs.slew_icrs(ra=ra, dec=dec, rot=0., rot_type=RotType.PhysicalSky)\n",
    "        await asyncio.sleep(39.)\n",
    "        ra -= 3.5/15.0\n",
    "\n",
    "await mtcs.stop_tracking()"
   ]
  },
  {
   "cell_type": "code",
   "execution_count": null,
   "id": "170e9052",
   "metadata": {},
   "outputs": [],
   "source": [
    "a =await mount.evt_target.aget(timeout=5.)\n",
    "print(a.elevation)"
   ]
  },
  {
   "cell_type": "code",
   "execution_count": null,
   "id": "802bc841",
   "metadata": {},
   "outputs": [],
   "source": [
    "await mtcs.stop_tracking()"
   ]
  },
  {
   "cell_type": "code",
   "execution_count": null,
   "id": "42d75b29",
   "metadata": {},
   "outputs": [],
   "source": [
    "await mtcs.slew_icrs(ra=ra, dec=dec, rot=0.0, rot_type=RotType.Physical)"
   ]
  },
  {
   "cell_type": "code",
   "execution_count": null,
   "id": "b74d83ec",
   "metadata": {},
   "outputs": [],
   "source": [
    "dec = -34.\n",
    "for j in range(2):\n",
    "    for i in range(2):\n",
    "        \n",
    "        time_and_date = await mtcs.rem.mtptg.tel_timeAndDate.next(flush=True, timeout=5)\n",
    "        ra = time_and_date.lst + 0.5 - 3.5/15.0 * i\n",
    "        \n",
    "        aa = await mount.tel_elevation.next(flush=True, timeout=5.)\n",
    "        current_el = aa.actualPosition\n",
    "        \n",
    "        obs_time = salobj.astropy_time_from_tai_unix(salobj.current_tai() + 0.) #with 0s delay\n",
    "        azel = mtcs.azel_from_radec(ra=ra, dec=dec, time=obs_time)\n",
    "        target_el = azel.alt.value\n",
    "        \n",
    "        while abs(target_el - current_el)>0.3:\n",
    "            print('moving from elevation %.1f deg to %.1f deg'%(current_el, target_el), Time.now())\n",
    "            await moveMountConstantV(mount, current_el, target_el)\n",
    "        \n",
    "            aa = await mount.tel_elevation.next(flush=True, timeout=5.)\n",
    "            current_el = aa.actualPosition\n",
    "        \n",
    "            time_and_date = await mtcs.rem.mtptg.tel_timeAndDate.next(flush=True, timeout=5)\n",
    "            ra = time_and_date.lst + 0.5 - 3.5/15.0 * i\n",
    "    \n",
    "            obs_time = salobj.astropy_time_from_tai_unix(salobj.current_tai() + 0.) #with 0s delay\n",
    "            azel = mtcs.azel_from_radec(ra=ra, dec=dec, time=obs_time)\n",
    "            target_el = azel.alt.value\n",
    "        \n",
    "        print('start a slew, elevation diff = ', abs(target_el - current_el), Time.now())\n",
    "\n",
    "        #b = await mount.tel_cameraCableWrap.next(flush=True, timeout=5) #CCW doesn't follow rotator!!!\n",
    "        #await mtcs.slew_icrs(ra=ra, dec=dec, rot=b.actualPosition, rot_type=RotType.PhysicalSky)\n",
    "        await mtcs.slew_icrs(ra=ra, dec=dec, rot=0.0, rot_type=RotType.Physical)\n",
    "        await asyncio.sleep(39.)\n",
    "        await mtcs.stop_tracking()"
   ]
  },
  {
   "cell_type": "markdown",
   "id": "24b08bd2",
   "metadata": {},
   "source": [
    "### Check that all components are ready"
   ]
  },
  {
   "cell_type": "code",
   "execution_count": null,
   "id": "82b0eb08",
   "metadata": {},
   "outputs": [],
   "source": [
    "await checkAOSCompStates(m1m3, m2, camhex, m2hex)"
   ]
  },
  {
   "cell_type": "code",
   "execution_count": null,
   "id": "a12cbe3d",
   "metadata": {},
   "outputs": [],
   "source": [
    "await checkSlewCompStates(ptg, mount, rot)"
   ]
  },
  {
   "cell_type": "markdown",
   "id": "b2aed8f6",
   "metadata": {},
   "source": [
    "### Get M1M3 ready (Mount telemetry mode)"
   ]
  },
  {
   "cell_type": "code",
   "execution_count": 51,
   "id": "f6f759fe",
   "metadata": {},
   "outputs": [
    {
     "data": {
      "text/plain": [
       "<ddsutil.MTMount_ackcmd_99f86545 at 0x7fbb7d37aeb0>"
      ]
     },
     "execution_count": 51,
     "metadata": {},
     "output_type": "execute_result"
    }
   ],
   "source": [
    "#Move to zenith (so that we can start m1m3 with LUT in mount telemetry mode)\n",
    "await mount.cmd_moveToTarget.set_start(azimuth=0, elevation=90)"
   ]
  },
  {
   "cell_type": "code",
   "execution_count": 52,
   "id": "35078d3d",
   "metadata": {},
   "outputs": [
    {
     "data": {
      "text/plain": [
       "<ddsutil.MTM1M3_logevent_heartbeat_5826283f at 0x7fbac81c7eb0>"
      ]
     },
     "execution_count": 52,
     "metadata": {},
     "output_type": "execute_result"
    }
   ],
   "source": [
    "await m1m3.evt_heartbeat.next(flush=True, timeout=5)"
   ]
  },
  {
   "cell_type": "code",
   "execution_count": null,
   "id": "7b3cc0d1",
   "metadata": {},
   "outputs": [],
   "source": [
    "await salobj.set_summary_state(m1m3, salobj.State.STANDBY)"
   ]
  },
  {
   "cell_type": "code",
   "execution_count": null,
   "id": "24afbddc",
   "metadata": {},
   "outputs": [],
   "source": [
    "print('Re-enabling M1M3')\n",
    "#await salobj.set_summary_state(m1m3, salobj.State.STANDBY) \n",
    "await salobj.set_summary_state(m1m3, salobj.State.ENABLED, settingsToApply = 'Default') #enable m1m3"
   ]
  },
  {
   "cell_type": "code",
   "execution_count": null,
   "id": "5764eed8",
   "metadata": {},
   "outputs": [],
   "source": [
    "await readyM1M3(m1m3)"
   ]
  },
  {
   "cell_type": "code",
   "execution_count": null,
   "id": "cd9d4f96",
   "metadata": {},
   "outputs": [],
   "source": [
    "await m1m3.cmd_abortRaiseM1M3.set_start(timeout=15.)"
   ]
  },
  {
   "cell_type": "code",
   "execution_count": null,
   "id": "5d6cab2b",
   "metadata": {},
   "outputs": [],
   "source": [
    "a = await m1m3.evt_errorCode.aget()\n",
    "print(a.errorReport, pd.to_datetime(a.private_sndStamp, unit='s'))"
   ]
  },
  {
   "cell_type": "code",
   "execution_count": null,
   "id": "4c3b6772",
   "metadata": {},
   "outputs": [],
   "source": []
  },
  {
   "cell_type": "code",
   "execution_count": 53,
   "id": "5662303b",
   "metadata": {},
   "outputs": [
    {
     "name": "stdout",
     "output_type": "stream",
     "text": [
      "m1m3 state DetailedState.LOWERING 2021-07-20 17:58:16.603898880\n",
      "m1m3 state DetailedState.PARKED 2021-07-20 18:00:43.783618048\n"
     ]
    }
   ],
   "source": [
    "await lowerM1M3(m1m3)"
   ]
  },
  {
   "cell_type": "markdown",
   "id": "4ad8d712",
   "metadata": {},
   "source": [
    "### Get M2 ready"
   ]
  },
  {
   "cell_type": "code",
   "execution_count": null,
   "id": "85a9fdee",
   "metadata": {},
   "outputs": [],
   "source": [
    "await m2.evt_heartbeat.next(flush=True, timeout=5)"
   ]
  },
  {
   "cell_type": "code",
   "execution_count": null,
   "id": "ba85697d",
   "metadata": {},
   "outputs": [],
   "source": [
    "await checkAOSCompStates(m1m3,m2,camhex,m2hex)"
   ]
  },
  {
   "cell_type": "code",
   "execution_count": null,
   "id": "44bcbfa7",
   "metadata": {},
   "outputs": [],
   "source": [
    "await salobj.set_summary_state(m2, salobj.State.OFFLINE) "
   ]
  },
  {
   "cell_type": "code",
   "execution_count": null,
   "id": "111b095c",
   "metadata": {},
   "outputs": [],
   "source": [
    "await salobj.set_summary_state(m2, salobj.State.STANDBY) "
   ]
  },
  {
   "cell_type": "code",
   "execution_count": null,
   "id": "ae2b178c",
   "metadata": {},
   "outputs": [],
   "source": [
    "await salobj.set_summary_state(m2, salobj.State.DISABLED) "
   ]
  },
  {
   "cell_type": "code",
   "execution_count": null,
   "id": "267c52b8",
   "metadata": {},
   "outputs": [],
   "source": [
    "#remember to reset interlock\n",
    "await salobj.set_summary_state(m2, salobj.State.ENABLED) "
   ]
  },
  {
   "cell_type": "code",
   "execution_count": null,
   "id": "9145b6db",
   "metadata": {},
   "outputs": [],
   "source": [
    "a = await m2.evt_errorCode.aget()\n",
    "print(a.errorCode, a.errorReport, pd.to_datetime(a.private_sndStamp, unit='s'))"
   ]
  },
  {
   "cell_type": "code",
   "execution_count": null,
   "id": "bf107962",
   "metadata": {},
   "outputs": [],
   "source": [
    "await m2.cmd_enterControl.set_start(timeout=.5)"
   ]
  },
  {
   "cell_type": "code",
   "execution_count": null,
   "id": "f4bc1f84",
   "metadata": {},
   "outputs": [],
   "source": [
    "await m2.cmd_exitControl.set_start(timeout=.5)"
   ]
  },
  {
   "cell_type": "code",
   "execution_count": null,
   "id": "a9719614",
   "metadata": {},
   "outputs": [],
   "source": [
    "await m2.cmd_enable.set_start(timeout=5.)"
   ]
  },
  {
   "cell_type": "code",
   "execution_count": null,
   "id": "012f66bd",
   "metadata": {},
   "outputs": [],
   "source": [
    "await m2.cmd_disable.set_start(timeout=5.)"
   ]
  },
  {
   "cell_type": "code",
   "execution_count": null,
   "id": "481aea72",
   "metadata": {},
   "outputs": [],
   "source": [
    "await m2.cmd_clearErrors.set_start(timeout=15.)"
   ]
  },
  {
   "cell_type": "code",
   "execution_count": null,
   "id": "d1794ddb",
   "metadata": {},
   "outputs": [],
   "source": [
    "await readyM2(m2)"
   ]
  },
  {
   "cell_type": "markdown",
   "id": "2e66f3ca",
   "metadata": {},
   "source": [
    "### Get camHex ready"
   ]
  },
  {
   "cell_type": "code",
   "execution_count": null,
   "id": "54a742dc",
   "metadata": {},
   "outputs": [],
   "source": [
    "target_evt = await mount.evt_target.aget(timeout=5.)\n",
    "print(\"Mount target elevation = \", target_evt.elevation, \"  @  \", pd.to_datetime(target_evt.private_sndStamp, unit='s'))\n",
    "print(\"Mount target azimuth   = \", target_evt.azimuth, \"  @  \", pd.to_datetime(target_evt.private_sndStamp, unit='s'))\n",
    "target_evt = await rot.evt_target.aget(timeout=5.)\n",
    "print(\"Rotator target position = \", target_evt.position, \"  @  \", pd.to_datetime(target_evt.private_sndStamp, unit='s'))"
   ]
  },
  {
   "cell_type": "code",
   "execution_count": null,
   "id": "d66cd3fb",
   "metadata": {},
   "outputs": [],
   "source": [
    "#if any of the above doesn't work\n",
    "await mount.cmd_moveToTarget.set_start(azimuth=0, elevation=90)\n",
    "await rot.cmd_move.set_start(position=0)"
   ]
  },
  {
   "cell_type": "code",
   "execution_count": null,
   "id": "03eae3de",
   "metadata": {},
   "outputs": [],
   "source": [
    "a=await mount.tel_cameraCableWrap.next(flush=True, timeout=5)\n",
    "print(pd.to_datetime(a.private_sndStamp, unit='s'), a.actualPosition)\n",
    "print(pd.to_datetime(a.timestamp, unit='s'), a.actualPosition)\n",
    "a=await camhex.tel_application.next(flush=True, timeout=5)\n",
    "print(pd.to_datetime(a.private_sndStamp, unit='s'), a.position[0])\n",
    "#print(pd.to_datetime(a.timestamp, unit='s'), a.position[0])"
   ]
  },
  {
   "cell_type": "code",
   "execution_count": null,
   "id": "5d374bbf",
   "metadata": {},
   "outputs": [],
   "source": [
    "await camhex.evt_heartbeat.next(flush=True, timeout=5)"
   ]
  },
  {
   "cell_type": "code",
   "execution_count": null,
   "id": "d14c5d25",
   "metadata": {},
   "outputs": [],
   "source": [
    "sim_evt = await camhex.evt_simulationMode.aget(timeout=5)\n",
    "print('simulation mode? ', sim_evt.mode, pd.to_datetime(sim_evt.private_sndStamp, unit='s'))"
   ]
  },
  {
   "cell_type": "code",
   "execution_count": null,
   "id": "f127b0b8",
   "metadata": {},
   "outputs": [],
   "source": [
    "await salobj.set_summary_state(camhex, salobj.State.STANDBY)"
   ]
  },
  {
   "cell_type": "code",
   "execution_count": null,
   "id": "fdac61d7",
   "metadata": {},
   "outputs": [],
   "source": [
    "await camhex.cmd_clearError.set_start()"
   ]
  },
  {
   "cell_type": "code",
   "execution_count": null,
   "id": "ec9d66fe",
   "metadata": {},
   "outputs": [],
   "source": [
    "await salobj.set_summary_state(camhex, salobj.State.ENABLED, settingsToApply='default')"
   ]
  },
  {
   "cell_type": "code",
   "execution_count": 30,
   "id": "bd702a31",
   "metadata": {},
   "outputs": [
    {
     "name": "stdout",
     "output_type": "stream",
     "text": [
      "settingsVersion =  default.yaml:v0.7.4-0-g70e7a58 2021-07-20 16:13:41.833638400\n",
      "pivot at (0, 0, -2758400) microns \n",
      "maxXY =  11400.0 microns, maxZ=  13100.0  microns\n",
      "maxUV =  0.36 deg, maxW=  0.1  deg\n",
      "compsensation mode enabled? True 2021-07-20 16:17:32.289535744\n",
      "hexa in position? False 2021-07-20 17:34:20.636253440\n",
      "hexa in position? True 2021-07-20 17:34:22.167686912\n",
      "Current Hexapod position\n",
      "     -1.07    -559.48     394.29  -0.015243   0.000005  -0.000003\n",
      "hexa in position? False 2021-07-20 17:34:22.347900160\n",
      "hexa in position? True 2021-07-20 17:34:23.879484416\n",
      "Current Hexapod position\n",
      "     -0.92    -559.93     293.69  -0.015255   0.000001  -0.000010\n",
      "Uncompensated position\n",
      "      0.00       0.00       0.00      0.000000   0.000000   0.000000    2021-07-20 17:34:22.216455168\n",
      "Compensated position\n",
      "     -0.91    -559.36     293.93      -0.015243   0.000000   0.000000    2021-07-20 17:34:22.216644096\n",
      "Does the hexapod has enough inputs to do LUT compensation? (If the below times out, we do not.)\n",
      "mount elevation =  85.9432982226241\n",
      "mount azimth =  161.35673547855703\n",
      "rotator angle =  -3.5873620074882524\n",
      "? temperature =  0.0\n",
      "x,y,z,u,v,w =  -0.9095252988320657 -559.3607703592844 293.9347562760928 -0.015242624892622299 0.0 0.0\n"
     ]
    }
   ],
   "source": [
    "await readyHexaForAOS(camhex)"
   ]
  },
  {
   "cell_type": "code",
   "execution_count": 38,
   "id": "ad3a8f8f",
   "metadata": {},
   "outputs": [
    {
     "name": "stdout",
     "output_type": "stream",
     "text": [
      "Uncompensated position\n",
      "      0.00       0.00       0.00      0.000000   0.000000   0.000000    2021-07-20 17:45:47.753095680\n",
      "Compensated position\n",
      "     -2.15    -491.08     307.31      -0.005733   0.000000   0.000000    2021-07-20 17:45:47.753287424\n"
     ]
    }
   ],
   "source": [
    "await printHexaUncompensatedAndCompensated(m2hex)"
   ]
  },
  {
   "cell_type": "code",
   "execution_count": 39,
   "id": "5484ceee",
   "metadata": {},
   "outputs": [
    {
     "name": "stdout",
     "output_type": "stream",
     "text": [
      "Uncompensated position\n",
      "      0.00       0.00       0.00      0.000000   0.000000   0.000000    2021-07-20 17:45:47.755436544\n",
      "Compensated position\n",
      "     -0.91    -560.92     294.00      -0.015284   0.000000   0.000000    2021-07-20 17:45:47.755623936\n"
     ]
    }
   ],
   "source": [
    "await printHexaUncompensatedAndCompensated(camhex)"
   ]
  },
  {
   "cell_type": "code",
   "execution_count": null,
   "id": "c30bb56a",
   "metadata": {},
   "outputs": [],
   "source": [
    "import lsst.ts.idl.enums.MTHexapod as enum_hex\n",
    "a = await camhex.evt_controllerState.aget()\n",
    "print(a.applicationStatus, pd.to_datetime(a.private_sndStamp, unit='s'))\n",
    "enum_hex.ApplicationStatus(a.applicationStatus[0])"
   ]
  },
  {
   "cell_type": "markdown",
   "id": "95be9d20",
   "metadata": {},
   "source": [
    "### Get m2Hex ready"
   ]
  },
  {
   "cell_type": "code",
   "execution_count": null,
   "id": "48e9656f",
   "metadata": {},
   "outputs": [],
   "source": [
    "await salobj.set_summary_state(m2hex, salobj.State.ENABLED, settingsToApply='default') #works if it is offline"
   ]
  },
  {
   "cell_type": "code",
   "execution_count": null,
   "id": "d00fac82",
   "metadata": {},
   "outputs": [],
   "source": [
    "sim_evt = await m2hex.evt_simulationMode.aget(timeout=5)\n",
    "print('simulation mode? ', sim_evt.mode, pd.to_datetime(sim_evt.private_sndStamp, unit='s'))"
   ]
  },
  {
   "cell_type": "code",
   "execution_count": null,
   "id": "289f9c1c",
   "metadata": {},
   "outputs": [],
   "source": [
    "await readyHexaForAOS(m2hex)"
   ]
  },
  {
   "cell_type": "code",
   "execution_count": null,
   "id": "3000c09b",
   "metadata": {},
   "outputs": [],
   "source": []
  },
  {
   "cell_type": "code",
   "execution_count": null,
   "id": "ee1d0a8b",
   "metadata": {},
   "outputs": [],
   "source": [
    "end = Time(datetime.now(), scale='tai')\n",
    "start = end - timedelta(seconds=1000)\n",
    "df = await client.select_time_series('lsst.sal.ESS.temperature8Ch', '*', start, end, csc_index)\n",
    "if len(df)>0:\n",
    "    fig, ax = plt.subplots(1,1, figsize=(15,4))\n",
    "    for i in range(8):\n",
    "        plt.plot(getattr(df, 'temperatureC%02d'%i))\n",
    "    plt.grid()\n",
    "else:\n",
    "    print('No temperature data on the camera hexapod in the past 1000s.')"
   ]
  },
  {
   "cell_type": "code",
   "execution_count": null,
   "id": "6941c087",
   "metadata": {},
   "outputs": [],
   "source": []
  },
  {
   "cell_type": "markdown",
   "id": "250e54d7",
   "metadata": {},
   "source": [
    "### Do a few slews"
   ]
  },
  {
   "cell_type": "code",
   "execution_count": 13,
   "id": "391857e0",
   "metadata": {},
   "outputs": [],
   "source": [
    "#comment and uncomment the below depending on which components are expected to be on\n",
    "#by default, MTCS checks on every component (during the slew).\n",
    "mtcs.check.mtaos = False\n",
    "mtcs.check.mtm1m3 = True\n",
    "mtcs.check.mtm2 = True\n",
    "mtcs.check.mthexapod_1 = True\n",
    "mtcs.check.mthexapod_2 = True\n",
    "mtcs.check.mtdome = False\n",
    "mtcs.check.mtdometrajectory = False"
   ]
  },
  {
   "cell_type": "code",
   "execution_count": 14,
   "id": "875dbd7f",
   "metadata": {
    "scrolled": true
   },
   "outputs": [
    {
     "data": {
      "text/plain": [
       "<ddsutil.MTMount_ackcmd_99f86545 at 0x7fbb28afee20>"
      ]
     },
     "execution_count": 14,
     "metadata": {},
     "output_type": "execute_result"
    },
    {
     "name": "stdout",
     "output_type": "stream",
     "text": [
      "10: Read {'id': 1, 'timestamp': 1626799596.8100486, 'parameters': {'commander': 1, 'sequenceId': 23785, 'timeout': -1}}\n",
      "10: Read {'id': 1, 'timestamp': 1626799596.9604461, 'parameters': {'commander': 1, 'sequenceId': 23786, 'timeout': -1}}\n",
      "10: Read {'id': 1, 'timestamp': 1626799597.1103418, 'parameters': {'commander': 1, 'sequenceId': 23787, 'timeout': -1}}\n",
      "10: Read {'id': 1, 'timestamp': 1626799597.260606, 'parameters': {'commander': 1, 'sequenceId': 23788, 'timeout': -1}}\n",
      "10: Read {'id': 1, 'timestamp': 1626799597.4105654, 'parameters': {'commander': 1, 'sequenceId': 23789, 'timeout': -1}}\n",
      "10: Read {'id': 1, 'timestamp': 1626799597.5614, 'parameters': {'commander': 1, 'sequenceId': 23790, 'timeout': -1}}\n",
      "10: Read {'id': 1, 'timestamp': 1626799597.7105758, 'parameters': {'commander': 1, 'sequenceId': 23791, 'timeout': -1}}\n",
      "10: Read {'id': 1, 'timestamp': 1626799597.8605685, 'parameters': {'commander': 1, 'sequenceId': 23792, 'timeout': -1}}\n",
      "10: Read {'id': 1, 'timestamp': 1626799598.0104704, 'parameters': {'commander': 1, 'sequenceId': 23793, 'timeout': -1}}\n",
      "10: Read {'id': 1, 'timestamp': 1626799598.160418, 'parameters': {'commander': 1, 'sequenceId': 23794, 'timeout': -1}}\n",
      "10: Read {'id': 1, 'timestamp': 1626799598.3110743, 'parameters': {'commander': 1, 'sequenceId': 23795, 'timeout': -1}}\n",
      "10: Read {'id': 1, 'timestamp': 1626799598.4605274, 'parameters': {'commander': 1, 'sequenceId': 23796, 'timeout': -1}}\n",
      "10: Read {'id': 1, 'timestamp': 1626799598.610561, 'parameters': {'commander': 1, 'sequenceId': 23797, 'timeout': -1}}\n",
      "10: Read {'id': 1, 'timestamp': 1626799598.7607026, 'parameters': {'commander': 1, 'sequenceId': 23798, 'timeout': -1}}\n",
      "10: Read {'id': 1, 'timestamp': 1626799598.910784, 'parameters': {'commander': 1, 'sequenceId': 23799, 'timeout': -1}}\n",
      "10: Read {'id': 1, 'timestamp': 1626799599.0610032, 'parameters': {'commander': 1, 'sequenceId': 23800, 'timeout': -1}}\n",
      "10: Read {'id': 1, 'timestamp': 1626799599.210741, 'parameters': {'commander': 1, 'sequenceId': 23801, 'timeout': -1}}\n",
      "10: Read {'id': 1, 'timestamp': 1626799599.3605723, 'parameters': {'commander': 1, 'sequenceId': 23802, 'timeout': -1}}\n",
      "10: Read {'id': 1, 'timestamp': 1626799599.5104804, 'parameters': {'commander': 1, 'sequenceId': 23803, 'timeout': -1}}\n",
      "10: Read {'id': 1, 'timestamp': 1626799599.6608677, 'parameters': {'commander': 1, 'sequenceId': 23804, 'timeout': -1}}\n",
      "10: Read {'id': 1, 'timestamp': 1626799599.8108537, 'parameters': {'commander': 1, 'sequenceId': 23805, 'timeout': -1}}\n",
      "10: Read {'id': 1, 'timestamp': 1626799599.9608083, 'parameters': {'commander': 1, 'sequenceId': 23806, 'timeout': -1}}\n",
      "10: Read {'id': 1, 'timestamp': 1626799600.1108522, 'parameters': {'commander': 1, 'sequenceId': 23807, 'timeout': -1}}\n",
      "10: Read {'id': 1, 'timestamp': 1626799600.2608678, 'parameters': {'commander': 1, 'sequenceId': 23808, 'timeout': -1}}\n",
      "10: Read {'id': 1, 'timestamp': 1626799600.4108703, 'parameters': {'commander': 1, 'sequenceId': 23809, 'timeout': -1}}\n",
      "10: Read {'id': 1, 'timestamp': 1626799600.5607963, 'parameters': {'commander': 1, 'sequenceId': 23810, 'timeout': -1}}\n",
      "10: Read {'id': 1, 'timestamp': 1626799600.7108774, 'parameters': {'commander': 1, 'sequenceId': 23811, 'timeout': -1}}\n",
      "10: Read {'id': 1, 'timestamp': 1626799600.861081, 'parameters': {'commander': 1, 'sequenceId': 23812, 'timeout': -1}}\n",
      "10: Read {'id': 1, 'timestamp': 1626799601.0107512, 'parameters': {'commander': 1, 'sequenceId': 23813, 'timeout': -1}}\n",
      "10: Read {'id': 1, 'timestamp': 1626799601.1607542, 'parameters': {'commander': 1, 'sequenceId': 23814, 'timeout': -1}}\n",
      "10: Read {'id': 1, 'timestamp': 1626799601.3110383, 'parameters': {'commander': 1, 'sequenceId': 23815, 'timeout': -1}}\n",
      "10: Read {'id': 1, 'timestamp': 1626799601.460693, 'parameters': {'commander': 1, 'sequenceId': 23816, 'timeout': -1}}\n",
      "10: Read {'id': 1, 'timestamp': 1626799601.6107237, 'parameters': {'commander': 1, 'sequenceId': 23817, 'timeout': -1}}\n",
      "10: Read {'id': 1, 'timestamp': 1626799601.7606318, 'parameters': {'commander': 1, 'sequenceId': 23818, 'timeout': -1}}\n",
      "10: Read {'id': 1, 'timestamp': 1626799601.9110527, 'parameters': {'commander': 1, 'sequenceId': 23819, 'timeout': -1}}\n",
      "10: Read {'id': 1, 'timestamp': 1626799602.0608664, 'parameters': {'commander': 1, 'sequenceId': 23820, 'timeout': -1}}\n",
      "10: Read {'id': 1, 'timestamp': 1626799602.2109618, 'parameters': {'commander': 1, 'sequenceId': 23821, 'timeout': -1}}\n",
      "10: Read {'id': 1, 'timestamp': 1626799602.3609357, 'parameters': {'commander': 1, 'sequenceId': 23822, 'timeout': -1}}\n",
      "10: Read {'id': 1, 'timestamp': 1626799602.510957, 'parameters': {'commander': 1, 'sequenceId': 23823, 'timeout': -1}}\n",
      "10: Read {'id': 1, 'timestamp': 1626799602.6610858, 'parameters': {'commander': 1, 'sequenceId': 23824, 'timeout': -1}}\n",
      "10: Read {'id': 1, 'timestamp': 1626799602.8109562, 'parameters': {'commander': 1, 'sequenceId': 23825, 'timeout': -1}}\n",
      "10: Read {'id': 1, 'timestamp': 1626799602.9608326, 'parameters': {'commander': 1, 'sequenceId': 23826, 'timeout': -1}}\n",
      "10: Read {'id': 1, 'timestamp': 1626799603.1108532, 'parameters': {'commander': 1, 'sequenceId': 23827, 'timeout': -1}}\n",
      "10: Read {'id': 1, 'timestamp': 1626799603.2611268, 'parameters': {'commander': 1, 'sequenceId': 23828, 'timeout': -1}}\n",
      "10: Read {'id': 1, 'timestamp': 1626799603.4109433, 'parameters': {'commander': 1, 'sequenceId': 23829, 'timeout': -1}}\n",
      "10: Read {'id': 1, 'timestamp': 1626799603.561812, 'parameters': {'commander': 1, 'sequenceId': 23830, 'timeout': -1}}\n",
      "10: Read {'id': 1, 'timestamp': 1626799603.7110767, 'parameters': {'commander': 1, 'sequenceId': 23831, 'timeout': -1}}\n",
      "10: Read {'id': 1, 'timestamp': 1626799603.861042, 'parameters': {'commander': 1, 'sequenceId': 23832, 'timeout': -1}}\n",
      "10: Read {'id': 1, 'timestamp': 1626799604.0110555, 'parameters': {'commander': 1, 'sequenceId': 23833, 'timeout': -1}}\n",
      "10: Read {'id': 1, 'timestamp': 1626799604.1608224, 'parameters': {'commander': 1, 'sequenceId': 23834, 'timeout': -1}}\n",
      "10: Read {'id': 1, 'timestamp': 1626799604.310903, 'parameters': {'commander': 1, 'sequenceId': 23835, 'timeout': -1}}\n",
      "10: Read {'id': 1, 'timestamp': 1626799604.4615057, 'parameters': {'commander': 1, 'sequenceId': 23836, 'timeout': -1}}\n",
      "10: Read {'id': 1, 'timestamp': 1626799604.6111512, 'parameters': {'commander': 1, 'sequenceId': 23837, 'timeout': -1}}\n",
      "10: Read {'id': 1, 'timestamp': 1626799604.761177, 'parameters': {'commander': 1, 'sequenceId': 23838, 'timeout': -1}}\n",
      "10: Read {'id': 1, 'timestamp': 1626799604.9112892, 'parameters': {'commander': 1, 'sequenceId': 23839, 'timeout': -1}}\n",
      "10: Read {'id': 1, 'timestamp': 1626799605.061194, 'parameters': {'commander': 1, 'sequenceId': 23840, 'timeout': -1}}\n",
      "10: Read {'id': 1, 'timestamp': 1626799605.211308, 'parameters': {'commander': 1, 'sequenceId': 23841, 'timeout': -1}}\n",
      "10: Read {'id': 1, 'timestamp': 1626799605.3615465, 'parameters': {'commander': 1, 'sequenceId': 23842, 'timeout': -1}}\n",
      "10: Read {'id': 1, 'timestamp': 1626799605.511223, 'parameters': {'commander': 1, 'sequenceId': 23843, 'timeout': -1}}\n",
      "10: Read {'id': 1, 'timestamp': 1626799605.6612635, 'parameters': {'commander': 1, 'sequenceId': 23844, 'timeout': -1}}\n",
      "10: Read {'id': 1, 'timestamp': 1626799605.8110647, 'parameters': {'commander': 1, 'sequenceId': 23845, 'timeout': -1}}\n",
      "10: Read {'id': 1, 'timestamp': 1626799605.961899, 'parameters': {'commander': 1, 'sequenceId': 23846, 'timeout': -1}}\n",
      "10: Read {'id': 1, 'timestamp': 1626799606.1111157, 'parameters': {'commander': 1, 'sequenceId': 23847, 'timeout': -1}}\n",
      "10: Read {'id': 1, 'timestamp': 1626799606.2612293, 'parameters': {'commander': 1, 'sequenceId': 23848, 'timeout': -1}}\n",
      "10: Read {'id': 1, 'timestamp': 1626799606.410989, 'parameters': {'commander': 1, 'sequenceId': 23849, 'timeout': -1}}\n",
      "10: Read {'id': 1, 'timestamp': 1626799606.5613627, 'parameters': {'commander': 1, 'sequenceId': 23850, 'timeout': -1}}\n",
      "10: Read {'id': 1, 'timestamp': 1626799606.7112002, 'parameters': {'commander': 1, 'sequenceId': 23851, 'timeout': -1}}\n",
      "10: Read {'id': 1, 'timestamp': 1626799606.8614984, 'parameters': {'commander': 1, 'sequenceId': 23852, 'timeout': -1}}\n",
      "10: Read {'id': 1, 'timestamp': 1626799607.0112047, 'parameters': {'commander': 1, 'sequenceId': 23853, 'timeout': -1}}\n",
      "10: Read {'id': 1, 'timestamp': 1626799607.1615005, 'parameters': {'commander': 1, 'sequenceId': 23854, 'timeout': -1}}\n",
      "10: Read {'id': 1, 'timestamp': 1626799607.3114696, 'parameters': {'commander': 1, 'sequenceId': 23855, 'timeout': -1}}\n",
      "10: Read {'id': 1, 'timestamp': 1626799607.4615107, 'parameters': {'commander': 1, 'sequenceId': 23856, 'timeout': -1}}\n",
      "10: Read {'id': 1, 'timestamp': 1626799607.611291, 'parameters': {'commander': 1, 'sequenceId': 23857, 'timeout': -1}}\n",
      "10: Read {'id': 1, 'timestamp': 1626799607.7615106, 'parameters': {'commander': 1, 'sequenceId': 23858, 'timeout': -1}}\n",
      "10: Read {'id': 1, 'timestamp': 1626799607.9112267, 'parameters': {'commander': 1, 'sequenceId': 23859, 'timeout': -1}}\n",
      "10: Read {'id': 1, 'timestamp': 1626799608.0613358, 'parameters': {'commander': 1, 'sequenceId': 23860, 'timeout': -1}}\n",
      "10: Read {'id': 1, 'timestamp': 1626799608.2114077, 'parameters': {'commander': 1, 'sequenceId': 23861, 'timeout': -1}}\n",
      "10: Read {'id': 1, 'timestamp': 1626799608.361597, 'parameters': {'commander': 1, 'sequenceId': 23862, 'timeout': -1}}\n",
      "10: Read {'id': 1, 'timestamp': 1626799608.5113583, 'parameters': {'commander': 1, 'sequenceId': 23863, 'timeout': -1}}\n",
      "10: Read {'id': 1, 'timestamp': 1626799608.6616306, 'parameters': {'commander': 1, 'sequenceId': 23864, 'timeout': -1}}\n",
      "10: Read {'id': 1, 'timestamp': 1626799608.8114736, 'parameters': {'commander': 1, 'sequenceId': 23865, 'timeout': -1}}\n",
      "10: Read {'id': 1, 'timestamp': 1626799608.961618, 'parameters': {'commander': 1, 'sequenceId': 23866, 'timeout': -1}}\n",
      "10: Read {'id': 1, 'timestamp': 1626799609.1113687, 'parameters': {'commander': 1, 'sequenceId': 23867, 'timeout': -1}}\n",
      "10: Read {'id': 1, 'timestamp': 1626799609.2615263, 'parameters': {'commander': 1, 'sequenceId': 23868, 'timeout': -1}}\n"
     ]
    }
   ],
   "source": [
    "def printLogMessage(data):\n",
    "    print(f\"{data.level}: {data.message}\")\n",
    "    \n",
    "await salobj.set_summary_state(mount, salobj.State.DISABLED)\n",
    "await asyncio.sleep(1.0)\n",
    "await salobj.set_summary_state(mount, salobj.State.ENABLED)\n",
    "\n",
    "mount.evt_logMessage.callback = printLogMessage\n",
    "await mount.cmd_setLogLevel.set_start(level=10, timeout=5)"
   ]
  },
  {
   "cell_type": "code",
   "execution_count": 17,
   "id": "a0dbd7aa",
   "metadata": {},
   "outputs": [
    {
     "name": "stdout",
     "output_type": "stream",
     "text": [
      "10: Read {'id': 1, 'timestamp': 1626799696.0687265, 'parameters': {'commander': 1, 'sequenceId': 24447, 'timeout': -1}}\n"
     ]
    }
   ],
   "source": [
    "mount.evt_logMessage.callback = None"
   ]
  },
  {
   "cell_type": "code",
   "execution_count": 15,
   "id": "b90fb7c6",
   "metadata": {
    "scrolled": true
   },
   "outputs": [
    {
     "name": "stdout",
     "output_type": "stream",
     "text": [
      "10: Read {'id': 1, 'timestamp': 1626799609.411364, 'parameters': {'commander': 1, 'sequenceId': 23869, 'timeout': -1}}\n",
      "1 2021-07-20 16:46:36.794967552\n",
      "10: Read {'id': 1, 'timestamp': 1626799609.5616634, 'parameters': {'commander': 1, 'sequenceId': 23870, 'timeout': -1}}\n",
      "10: Read {'id': 1, 'timestamp': 1626799609.7114975, 'parameters': {'commander': 1, 'sequenceId': 23871, 'timeout': -1}}\n",
      "10: Read {'id': 1, 'timestamp': 1626799609.8616621, 'parameters': {'commander': 1, 'sequenceId': 23872, 'timeout': -1}}\n",
      "10: Read {'id': 1, 'timestamp': 1626799610.0114996, 'parameters': {'commander': 1, 'sequenceId': 23873, 'timeout': -1}}\n",
      "10: Read {'id': 1, 'timestamp': 1626799610.1620517, 'parameters': {'commander': 1, 'sequenceId': 23874, 'timeout': -1}}\n",
      "10: Read {'id': 1, 'timestamp': 1626799610.3115995, 'parameters': {'commander': 1, 'sequenceId': 23875, 'timeout': -1}}\n",
      "10: Read {'id': 1, 'timestamp': 1626799610.4614668, 'parameters': {'commander': 1, 'sequenceId': 23876, 'timeout': -1}}\n",
      "10: Read {'id': 1, 'timestamp': 1626799610.6114593, 'parameters': {'commander': 1, 'sequenceId': 23877, 'timeout': -1}}\n",
      "10: Read {'id': 1, 'timestamp': 1626799610.7617993, 'parameters': {'commander': 1, 'sequenceId': 23878, 'timeout': -1}}\n",
      "10: Read {'id': 1, 'timestamp': 1626799610.9116669, 'parameters': {'commander': 1, 'sequenceId': 23879, 'timeout': -1}}\n",
      "10: Read {'id': 1, 'timestamp': 1626799611.0614948, 'parameters': {'commander': 1, 'sequenceId': 23880, 'timeout': -1}}\n",
      "10: Read {'id': 1, 'timestamp': 1626799611.2113366, 'parameters': {'commander': 1, 'sequenceId': 23881, 'timeout': -1}}\n",
      "10: Read {'id': 1, 'timestamp': 1626799611.3620207, 'parameters': {'commander': 1, 'sequenceId': 23882, 'timeout': -1}}\n",
      "10: Read {'id': 1, 'timestamp': 1626799611.5116723, 'parameters': {'commander': 1, 'sequenceId': 23883, 'timeout': -1}}\n",
      "10: Read {'id': 1, 'timestamp': 1626799611.6615665, 'parameters': {'commander': 1, 'sequenceId': 23884, 'timeout': -1}}\n",
      "10: Read {'id': 1, 'timestamp': 1626799611.8114915, 'parameters': {'commander': 1, 'sequenceId': 23885, 'timeout': -1}}\n",
      "10: Read {'id': 1, 'timestamp': 1626799611.9617937, 'parameters': {'commander': 1, 'sequenceId': 23886, 'timeout': -1}}\n",
      "10: Read {'id': 1, 'timestamp': 1626799612.1117876, 'parameters': {'commander': 1, 'sequenceId': 23887, 'timeout': -1}}\n",
      "10: Read {'id': 1, 'timestamp': 1626799612.261822, 'parameters': {'commander': 1, 'sequenceId': 23888, 'timeout': -1}}\n",
      "10: Read {'id': 1, 'timestamp': 1626799612.4115415, 'parameters': {'commander': 1, 'sequenceId': 23889, 'timeout': -1}}\n",
      "10: Read {'id': 1, 'timestamp': 1626799612.5616105, 'parameters': {'commander': 1, 'sequenceId': 23890, 'timeout': -1}}\n",
      "10: Read {'id': 1, 'timestamp': 1626799612.712404, 'parameters': {'commander': 1, 'sequenceId': 23891, 'timeout': -1}}\n",
      "10: Read {'id': 1, 'timestamp': 1626799612.8617904, 'parameters': {'commander': 1, 'sequenceId': 23892, 'timeout': -1}}\n",
      "10: Read {'id': 1, 'timestamp': 1626799613.0113745, 'parameters': {'commander': 1, 'sequenceId': 23893, 'timeout': -1}}\n",
      "10: Read {'id': 1, 'timestamp': 1626799613.16163, 'parameters': {'commander': 1, 'sequenceId': 23894, 'timeout': -1}}\n",
      "10: Read {'id': 1, 'timestamp': 1626799613.311581, 'parameters': {'commander': 1, 'sequenceId': 23895, 'timeout': -1}}\n",
      "10: Read {'id': 1, 'timestamp': 1626799613.4615757, 'parameters': {'commander': 1, 'sequenceId': 23896, 'timeout': -1}}\n",
      "10: Read {'id': 1, 'timestamp': 1626799613.6118152, 'parameters': {'commander': 1, 'sequenceId': 23897, 'timeout': -1}}\n",
      "10: Read {'id': 1, 'timestamp': 1626799613.761944, 'parameters': {'commander': 1, 'sequenceId': 23898, 'timeout': -1}}\n",
      "10: Read {'id': 1, 'timestamp': 1626799613.9119184, 'parameters': {'commander': 1, 'sequenceId': 23899, 'timeout': -1}}\n",
      "10: Read {'id': 1, 'timestamp': 1626799614.0618272, 'parameters': {'commander': 1, 'sequenceId': 23900, 'timeout': -1}}\n",
      "10: Read {'id': 1, 'timestamp': 1626799614.211863, 'parameters': {'commander': 1, 'sequenceId': 23901, 'timeout': -1}}\n",
      "10: Read {'id': 1, 'timestamp': 1626799614.361847, 'parameters': {'commander': 1, 'sequenceId': 23902, 'timeout': -1}}\n",
      "10: Read {'id': 1, 'timestamp': 1626799614.5118556, 'parameters': {'commander': 1, 'sequenceId': 23903, 'timeout': -1}}\n",
      "10: Read {'id': 1, 'timestamp': 1626799614.6620636, 'parameters': {'commander': 1, 'sequenceId': 23904, 'timeout': -1}}\n",
      "10: Read {'id': 1, 'timestamp': 1626799614.8121588, 'parameters': {'commander': 1, 'sequenceId': 23905, 'timeout': -1}}\n",
      "10: Read {'id': 1, 'timestamp': 1626799614.9620755, 'parameters': {'commander': 1, 'sequenceId': 23906, 'timeout': -1}}\n",
      "10: Read {'id': 1, 'timestamp': 1626799615.1117442, 'parameters': {'commander': 1, 'sequenceId': 23907, 'timeout': -1}}\n",
      "10: Read {'id': 1, 'timestamp': 1626799615.261941, 'parameters': {'commander': 1, 'sequenceId': 23908, 'timeout': -1}}\n",
      "10: Read {'id': 1, 'timestamp': 1626799615.411841, 'parameters': {'commander': 1, 'sequenceId': 23909, 'timeout': -1}}\n",
      "10: Read {'id': 1, 'timestamp': 1626799615.5621328, 'parameters': {'commander': 1, 'sequenceId': 23910, 'timeout': -1}}\n",
      "10: Read {'id': 1, 'timestamp': 1626799615.7120085, 'parameters': {'commander': 1, 'sequenceId': 23911, 'timeout': -1}}\n",
      "10: Read {'id': 1, 'timestamp': 1626799615.8619642, 'parameters': {'commander': 1, 'sequenceId': 23912, 'timeout': -1}}\n",
      "10: Read {'id': 1, 'timestamp': 1626799616.012106, 'parameters': {'commander': 1, 'sequenceId': 23913, 'timeout': -1}}\n",
      "10: Read {'id': 1, 'timestamp': 1626799616.162122, 'parameters': {'commander': 1, 'sequenceId': 23914, 'timeout': -1}}\n",
      "10: Read {'id': 1, 'timestamp': 1626799616.3121493, 'parameters': {'commander': 1, 'sequenceId': 23915, 'timeout': -1}}\n",
      "10: Read {'id': 1, 'timestamp': 1626799616.4620292, 'parameters': {'commander': 1, 'sequenceId': 23916, 'timeout': -1}}\n",
      "10: Read {'id': 1, 'timestamp': 1626799616.6121376, 'parameters': {'commander': 1, 'sequenceId': 23917, 'timeout': -1}}\n",
      "10: Read {'id': 1, 'timestamp': 1626799616.7622721, 'parameters': {'commander': 1, 'sequenceId': 23918, 'timeout': -1}}\n",
      "10: Read {'id': 1, 'timestamp': 1626799616.91279, 'parameters': {'commander': 1, 'sequenceId': 23919, 'timeout': -1}}\n",
      "10: Read {'id': 1, 'timestamp': 1626799617.0621936, 'parameters': {'commander': 1, 'sequenceId': 23920, 'timeout': -1}}\n",
      "10: Read {'id': 1, 'timestamp': 1626799617.2125926, 'parameters': {'commander': 1, 'sequenceId': 23921, 'timeout': -1}}\n",
      "10: Read {'id': 1, 'timestamp': 1626799617.3620536, 'parameters': {'commander': 1, 'sequenceId': 23922, 'timeout': -1}}\n",
      "10: Read {'id': 1, 'timestamp': 1626799617.5131698, 'parameters': {'commander': 1, 'sequenceId': 23923, 'timeout': -1}}\n",
      "10: Read {'id': 1, 'timestamp': 1626799617.6621258, 'parameters': {'commander': 1, 'sequenceId': 23924, 'timeout': -1}}\n",
      "10: Read {'id': 1, 'timestamp': 1626799617.812263, 'parameters': {'commander': 1, 'sequenceId': 23925, 'timeout': -1}}\n",
      "10: Read {'id': 1, 'timestamp': 1626799617.9622524, 'parameters': {'commander': 1, 'sequenceId': 23926, 'timeout': -1}}\n",
      "10: Read {'id': 1, 'timestamp': 1626799618.1120663, 'parameters': {'commander': 1, 'sequenceId': 23927, 'timeout': -1}}\n",
      "10: Read {'id': 1, 'timestamp': 1626799618.2622962, 'parameters': {'commander': 1, 'sequenceId': 23928, 'timeout': -1}}\n",
      "10: Read {'id': 1, 'timestamp': 1626799618.4124162, 'parameters': {'commander': 1, 'sequenceId': 23929, 'timeout': -1}}\n",
      "10: Read {'id': 1, 'timestamp': 1626799618.562326, 'parameters': {'commander': 1, 'sequenceId': 23930, 'timeout': -1}}\n",
      "10: Read {'id': 1, 'timestamp': 1626799618.712443, 'parameters': {'commander': 1, 'sequenceId': 23931, 'timeout': -1}}\n",
      "10: Read {'id': 1, 'timestamp': 1626799618.8620985, 'parameters': {'commander': 1, 'sequenceId': 23932, 'timeout': -1}}\n",
      "10: Read {'id': 1, 'timestamp': 1626799619.0122147, 'parameters': {'commander': 1, 'sequenceId': 23933, 'timeout': -1}}\n",
      "10: Read {'id': 1, 'timestamp': 1626799619.162229, 'parameters': {'commander': 1, 'sequenceId': 23934, 'timeout': -1}}\n",
      "10: Read {'id': 1, 'timestamp': 1626799619.3125322, 'parameters': {'commander': 1, 'sequenceId': 23935, 'timeout': -1}}\n",
      "10: Read {'id': 1, 'timestamp': 1626799619.4621801, 'parameters': {'commander': 1, 'sequenceId': 23936, 'timeout': -1}}\n",
      "10: Read {'id': 1, 'timestamp': 1626799619.6124341, 'parameters': {'commander': 1, 'sequenceId': 23937, 'timeout': -1}}\n",
      "10: Read {'id': 1, 'timestamp': 1626799619.7626255, 'parameters': {'commander': 1, 'sequenceId': 23938, 'timeout': -1}}\n",
      "10: Read {'id': 1, 'timestamp': 1626799619.9123294, 'parameters': {'commander': 1, 'sequenceId': 23939, 'timeout': -1}}\n",
      "10: Read {'id': 1, 'timestamp': 1626799620.06217, 'parameters': {'commander': 1, 'sequenceId': 23940, 'timeout': -1}}\n",
      "10: Read {'id': 1, 'timestamp': 1626799620.2124782, 'parameters': {'commander': 1, 'sequenceId': 23941, 'timeout': -1}}\n",
      "10: Read {'id': 1, 'timestamp': 1626799620.3623474, 'parameters': {'commander': 1, 'sequenceId': 23942, 'timeout': -1}}\n",
      "10: Read {'id': 1, 'timestamp': 1626799620.5123565, 'parameters': {'commander': 1, 'sequenceId': 23943, 'timeout': -1}}\n",
      "10: Read {'id': 1, 'timestamp': 1626799620.662754, 'parameters': {'commander': 1, 'sequenceId': 23944, 'timeout': -1}}\n",
      "10: Read {'id': 1, 'timestamp': 1626799620.8125188, 'parameters': {'commander': 1, 'sequenceId': 23945, 'timeout': -1}}\n",
      "10: Read {'id': 1, 'timestamp': 1626799620.9168344, 'parameters': {'commander': 1, 'sequenceId': 23946, 'timeout': -1}}\n",
      "10: Read {'id': 1, 'timestamp': 1626799621.0628595, 'parameters': {'commander': 1, 'sequenceId': 23947, 'timeout': -1}}\n",
      "10: Read {'id': 1, 'timestamp': 1626799621.2125022, 'parameters': {'commander': 1, 'sequenceId': 23948, 'timeout': -1}}\n",
      "10: Read {'id': 1, 'timestamp': 1626799621.362604, 'parameters': {'commander': 1, 'sequenceId': 23949, 'timeout': -1}}\n",
      "10: Read {'id': 1, 'timestamp': 1626799621.5124092, 'parameters': {'commander': 1, 'sequenceId': 23950, 'timeout': -1}}\n",
      "10: Read {'id': 1, 'timestamp': 1626799621.6624782, 'parameters': {'commander': 1, 'sequenceId': 23951, 'timeout': -1}}\n",
      "10: Read {'id': 1, 'timestamp': 1626799621.8130722, 'parameters': {'commander': 1, 'sequenceId': 23952, 'timeout': -1}}\n",
      "10: Read {'id': 1, 'timestamp': 1626799621.9625928, 'parameters': {'commander': 1, 'sequenceId': 23953, 'timeout': -1}}\n",
      "10: Read {'id': 1, 'timestamp': 1626799622.112713, 'parameters': {'commander': 1, 'sequenceId': 23954, 'timeout': -1}}\n",
      "10: Read {'id': 1, 'timestamp': 1626799622.2626407, 'parameters': {'commander': 1, 'sequenceId': 23955, 'timeout': -1}}\n",
      "10: Read {'id': 1, 'timestamp': 1626799622.4125361, 'parameters': {'commander': 1, 'sequenceId': 23956, 'timeout': -1}}\n",
      "10: Read {'id': 1, 'timestamp': 1626799622.5624952, 'parameters': {'commander': 1, 'sequenceId': 23957, 'timeout': -1}}\n",
      "10: Read {'id': 1, 'timestamp': 1626799622.7125237, 'parameters': {'commander': 1, 'sequenceId': 23958, 'timeout': -1}}\n",
      "10: Read {'id': 1, 'timestamp': 1626799622.862739, 'parameters': {'commander': 1, 'sequenceId': 23959, 'timeout': -1}}\n",
      "10: Read {'id': 1, 'timestamp': 1626799623.0126224, 'parameters': {'commander': 1, 'sequenceId': 23960, 'timeout': -1}}\n",
      "10: Read {'id': 1, 'timestamp': 1626799623.1627097, 'parameters': {'commander': 1, 'sequenceId': 23961, 'timeout': -1}}\n",
      "10: Read {'id': 1, 'timestamp': 1626799623.3127453, 'parameters': {'commander': 1, 'sequenceId': 23962, 'timeout': -1}}\n",
      "10: Read {'id': 1, 'timestamp': 1626799623.462619, 'parameters': {'commander': 1, 'sequenceId': 23963, 'timeout': -1}}\n",
      "10: Read {'id': 1, 'timestamp': 1626799623.612573, 'parameters': {'commander': 1, 'sequenceId': 23964, 'timeout': -1}}\n",
      "10: Read {'id': 1, 'timestamp': 1626799623.762764, 'parameters': {'commander': 1, 'sequenceId': 23965, 'timeout': -1}}\n",
      "10: Read {'id': 1, 'timestamp': 1626799623.9126184, 'parameters': {'commander': 1, 'sequenceId': 23966, 'timeout': -1}}\n",
      "10: Read {'id': 1, 'timestamp': 1626799624.0650096, 'parameters': {'commander': 1, 'sequenceId': 23967, 'timeout': -1}}\n",
      "10: Read {'id': 1, 'timestamp': 1626799624.2127573, 'parameters': {'commander': 1, 'sequenceId': 23968, 'timeout': -1}}\n",
      "10: Read {'id': 1, 'timestamp': 1626799624.362968, 'parameters': {'commander': 1, 'sequenceId': 23969, 'timeout': -1}}\n",
      "10: Read {'id': 1, 'timestamp': 1626799624.5127907, 'parameters': {'commander': 1, 'sequenceId': 23970, 'timeout': -1}}\n",
      "10: Read {'id': 1, 'timestamp': 1626799624.6631863, 'parameters': {'commander': 1, 'sequenceId': 23971, 'timeout': -1}}\n",
      "10: Read {'id': 1, 'timestamp': 1626799624.8128178, 'parameters': {'commander': 1, 'sequenceId': 23972, 'timeout': -1}}\n",
      "10: Read {'id': 1, 'timestamp': 1626799624.962626, 'parameters': {'commander': 1, 'sequenceId': 23973, 'timeout': -1}}\n",
      "10: Read {'id': 1, 'timestamp': 1626799625.1128395, 'parameters': {'commander': 1, 'sequenceId': 23974, 'timeout': -1}}\n",
      "10: Read {'id': 1, 'timestamp': 1626799625.263049, 'parameters': {'commander': 1, 'sequenceId': 23975, 'timeout': -1}}\n",
      "10: Read {'id': 1, 'timestamp': 1626799625.412791, 'parameters': {'commander': 1, 'sequenceId': 23976, 'timeout': -1}}\n",
      "10: Read {'id': 1, 'timestamp': 1626799625.562803, 'parameters': {'commander': 1, 'sequenceId': 23977, 'timeout': -1}}\n",
      "10: Read {'id': 1, 'timestamp': 1626799625.7127671, 'parameters': {'commander': 1, 'sequenceId': 23978, 'timeout': -1}}\n",
      "10: Read {'id': 1, 'timestamp': 1626799625.863109, 'parameters': {'commander': 1, 'sequenceId': 23979, 'timeout': -1}}\n",
      "10: Read {'id': 1, 'timestamp': 1626799626.013043, 'parameters': {'commander': 1, 'sequenceId': 23980, 'timeout': -1}}\n",
      "10: Read {'id': 1, 'timestamp': 1626799626.1628513, 'parameters': {'commander': 1, 'sequenceId': 23981, 'timeout': -1}}\n",
      "10: Read {'id': 1, 'timestamp': 1626799626.31292, 'parameters': {'commander': 1, 'sequenceId': 23982, 'timeout': -1}}\n",
      "10: Read {'id': 1, 'timestamp': 1626799626.4629624, 'parameters': {'commander': 1, 'sequenceId': 23983, 'timeout': -1}}\n",
      "10: Read {'id': 1, 'timestamp': 1626799626.61272, 'parameters': {'commander': 1, 'sequenceId': 23984, 'timeout': -1}}\n",
      "10: Read {'id': 1, 'timestamp': 1626799626.7632701, 'parameters': {'commander': 1, 'sequenceId': 23985, 'timeout': -1}}\n",
      "10: Read {'id': 1, 'timestamp': 1626799626.913144, 'parameters': {'commander': 1, 'sequenceId': 23986, 'timeout': -1}}\n",
      "10: Read {'id': 1, 'timestamp': 1626799627.0630736, 'parameters': {'commander': 1, 'sequenceId': 23987, 'timeout': -1}}\n",
      "10: Read {'id': 1, 'timestamp': 1626799627.2130306, 'parameters': {'commander': 1, 'sequenceId': 23988, 'timeout': -1}}\n",
      "10: Read {'id': 1, 'timestamp': 1626799627.3629768, 'parameters': {'commander': 1, 'sequenceId': 23989, 'timeout': -1}}\n",
      "10: Read {'id': 1, 'timestamp': 1626799627.5131543, 'parameters': {'commander': 1, 'sequenceId': 23990, 'timeout': -1}}\n",
      "10: Read {'id': 1, 'timestamp': 1626799627.6629577, 'parameters': {'commander': 1, 'sequenceId': 23991, 'timeout': -1}}\n",
      "10: Read {'id': 1, 'timestamp': 1626799627.8130252, 'parameters': {'commander': 1, 'sequenceId': 23992, 'timeout': -1}}\n",
      "10: Read {'id': 1, 'timestamp': 1626799627.9630451, 'parameters': {'commander': 1, 'sequenceId': 23993, 'timeout': -1}}\n",
      "10: Read {'id': 1, 'timestamp': 1626799628.1129448, 'parameters': {'commander': 1, 'sequenceId': 23994, 'timeout': -1}}\n",
      "10: Read {'id': 1, 'timestamp': 1626799628.263013, 'parameters': {'commander': 1, 'sequenceId': 23995, 'timeout': -1}}\n",
      "10: Read {'id': 1, 'timestamp': 1626799628.4131403, 'parameters': {'commander': 1, 'sequenceId': 23996, 'timeout': -1}}\n",
      "10: Read {'id': 1, 'timestamp': 1626799628.5629866, 'parameters': {'commander': 1, 'sequenceId': 23997, 'timeout': -1}}\n",
      "10: Read {'id': 1, 'timestamp': 1626799628.7130709, 'parameters': {'commander': 1, 'sequenceId': 23998, 'timeout': -1}}\n",
      "10: Read {'id': 1, 'timestamp': 1626799628.8634598, 'parameters': {'commander': 1, 'sequenceId': 23999, 'timeout': -1}}\n",
      "10: Read {'id': 1, 'timestamp': 1626799629.0127666, 'parameters': {'commander': 1, 'sequenceId': 24000, 'timeout': -1}}\n",
      "10: Read {'id': 1, 'timestamp': 1626799629.1634815, 'parameters': {'commander': 1, 'sequenceId': 24001, 'timeout': -1}}\n",
      "10: Read {'id': 1, 'timestamp': 1626799629.313419, 'parameters': {'commander': 1, 'sequenceId': 24002, 'timeout': -1}}\n",
      "10: Read {'id': 1, 'timestamp': 1626799629.4635632, 'parameters': {'commander': 1, 'sequenceId': 24003, 'timeout': -1}}\n",
      "10: Read {'id': 1, 'timestamp': 1626799629.6134346, 'parameters': {'commander': 1, 'sequenceId': 24004, 'timeout': -1}}\n",
      "10: Read {'id': 1, 'timestamp': 1626799629.7633686, 'parameters': {'commander': 1, 'sequenceId': 24005, 'timeout': -1}}\n",
      "10: Read {'id': 1, 'timestamp': 1626799629.9135637, 'parameters': {'commander': 1, 'sequenceId': 24006, 'timeout': -1}}\n",
      "10: Read {'id': 1, 'timestamp': 1626799630.0634553, 'parameters': {'commander': 1, 'sequenceId': 24007, 'timeout': -1}}\n",
      "10: Read {'id': 1, 'timestamp': 1626799630.2132537, 'parameters': {'commander': 1, 'sequenceId': 24008, 'timeout': -1}}\n",
      "10: Read {'id': 1, 'timestamp': 1626799630.3631935, 'parameters': {'commander': 1, 'sequenceId': 24009, 'timeout': -1}}\n",
      "10: Read {'id': 1, 'timestamp': 1626799630.5133533, 'parameters': {'commander': 1, 'sequenceId': 24010, 'timeout': -1}}\n",
      "10: Read {'id': 1, 'timestamp': 1626799630.6632972, 'parameters': {'commander': 1, 'sequenceId': 24011, 'timeout': -1}}\n",
      "10: Read {'id': 1, 'timestamp': 1626799630.8131843, 'parameters': {'commander': 1, 'sequenceId': 24012, 'timeout': -1}}\n",
      "10: Read {'id': 1, 'timestamp': 1626799630.96285, 'parameters': {'commander': 1, 'sequenceId': 24013, 'timeout': -1}}\n",
      "10: Read {'id': 1, 'timestamp': 1626799631.1131516, 'parameters': {'commander': 1, 'sequenceId': 24014, 'timeout': -1}}\n",
      "10: Read {'id': 1, 'timestamp': 1626799631.2633207, 'parameters': {'commander': 1, 'sequenceId': 24015, 'timeout': -1}}\n",
      "10: Read {'id': 1, 'timestamp': 1626799631.413353, 'parameters': {'commander': 1, 'sequenceId': 24016, 'timeout': -1}}\n",
      "10: Read {'id': 1, 'timestamp': 1626799631.5634155, 'parameters': {'commander': 1, 'sequenceId': 24017, 'timeout': -1}}\n",
      "10: Read {'id': 1, 'timestamp': 1626799631.7135828, 'parameters': {'commander': 1, 'sequenceId': 24018, 'timeout': -1}}\n",
      "10: Read {'id': 1, 'timestamp': 1626799631.8634467, 'parameters': {'commander': 1, 'sequenceId': 24019, 'timeout': -1}}\n",
      "10: Read {'id': 1, 'timestamp': 1626799632.0133736, 'parameters': {'commander': 1, 'sequenceId': 24020, 'timeout': -1}}\n",
      "10: Read {'id': 1, 'timestamp': 1626799632.163423, 'parameters': {'commander': 1, 'sequenceId': 24021, 'timeout': -1}}\n",
      "10: Read {'id': 1, 'timestamp': 1626799632.3136709, 'parameters': {'commander': 1, 'sequenceId': 24022, 'timeout': -1}}\n",
      "10: Read {'id': 1, 'timestamp': 1626799632.463629, 'parameters': {'commander': 1, 'sequenceId': 24023, 'timeout': -1}}\n",
      "10: Read {'id': 1, 'timestamp': 1626799632.6133459, 'parameters': {'commander': 1, 'sequenceId': 24024, 'timeout': -1}}\n",
      "10: Read {'id': 1, 'timestamp': 1626799632.7633154, 'parameters': {'commander': 1, 'sequenceId': 24025, 'timeout': -1}}\n",
      "10: Read {'id': 1, 'timestamp': 1626799632.9134946, 'parameters': {'commander': 1, 'sequenceId': 24026, 'timeout': -1}}\n",
      "10: Read {'id': 1, 'timestamp': 1626799633.0633605, 'parameters': {'commander': 1, 'sequenceId': 24027, 'timeout': -1}}\n",
      "10: Read {'id': 1, 'timestamp': 1626799633.213343, 'parameters': {'commander': 1, 'sequenceId': 24028, 'timeout': -1}}\n",
      "10: Read {'id': 1, 'timestamp': 1626799633.363315, 'parameters': {'commander': 1, 'sequenceId': 24029, 'timeout': -1}}\n",
      "10: Read {'id': 1, 'timestamp': 1626799633.5135522, 'parameters': {'commander': 1, 'sequenceId': 24030, 'timeout': -1}}\n",
      "10: Read {'id': 1, 'timestamp': 1626799633.6635542, 'parameters': {'commander': 1, 'sequenceId': 24031, 'timeout': -1}}\n",
      "10: Read {'id': 1, 'timestamp': 1626799633.8136976, 'parameters': {'commander': 1, 'sequenceId': 24032, 'timeout': -1}}\n",
      "10: Read {'id': 1, 'timestamp': 1626799633.9635022, 'parameters': {'commander': 1, 'sequenceId': 24033, 'timeout': -1}}\n",
      "10: Read {'id': 1, 'timestamp': 1626799634.113617, 'parameters': {'commander': 1, 'sequenceId': 24034, 'timeout': -1}}\n",
      "10: Read {'id': 1, 'timestamp': 1626799634.263493, 'parameters': {'commander': 1, 'sequenceId': 24035, 'timeout': -1}}\n",
      "10: Read {'id': 1, 'timestamp': 1626799634.4136035, 'parameters': {'commander': 1, 'sequenceId': 24036, 'timeout': -1}}\n",
      "10: Read {'id': 1, 'timestamp': 1626799634.563218, 'parameters': {'commander': 1, 'sequenceId': 24037, 'timeout': -1}}\n",
      "10: Read {'id': 1, 'timestamp': 1626799634.7137809, 'parameters': {'commander': 1, 'sequenceId': 24038, 'timeout': -1}}\n",
      "10: Read {'id': 1, 'timestamp': 1626799634.8638456, 'parameters': {'commander': 1, 'sequenceId': 24039, 'timeout': -1}}\n",
      "10: Read {'id': 1, 'timestamp': 1626799635.0135245, 'parameters': {'commander': 1, 'sequenceId': 24040, 'timeout': -1}}\n",
      "10: Read {'id': 1, 'timestamp': 1626799635.163564, 'parameters': {'commander': 1, 'sequenceId': 24041, 'timeout': -1}}\n",
      "10: Read {'id': 1, 'timestamp': 1626799635.3138452, 'parameters': {'commander': 1, 'sequenceId': 24042, 'timeout': -1}}\n",
      "10: Read {'id': 1, 'timestamp': 1626799635.463535, 'parameters': {'commander': 1, 'sequenceId': 24043, 'timeout': -1}}\n",
      "10: Read {'id': 1, 'timestamp': 1626799635.6137247, 'parameters': {'commander': 1, 'sequenceId': 24044, 'timeout': -1}}\n",
      "10: Read {'id': 1, 'timestamp': 1626799635.763924, 'parameters': {'commander': 1, 'sequenceId': 24045, 'timeout': -1}}\n",
      "10: Read {'id': 1, 'timestamp': 1626799635.9135492, 'parameters': {'commander': 1, 'sequenceId': 24046, 'timeout': -1}}\n",
      "10: Read {'id': 1, 'timestamp': 1626799636.0637171, 'parameters': {'commander': 1, 'sequenceId': 24047, 'timeout': -1}}\n",
      "10: Read {'id': 1, 'timestamp': 1626799636.2136438, 'parameters': {'commander': 1, 'sequenceId': 24048, 'timeout': -1}}\n",
      "10: Read {'id': 1, 'timestamp': 1626799636.3636549, 'parameters': {'commander': 1, 'sequenceId': 24049, 'timeout': -1}}\n",
      "10: Read {'id': 1, 'timestamp': 1626799636.5139887, 'parameters': {'commander': 1, 'sequenceId': 24050, 'timeout': -1}}\n",
      "10: Read {'id': 1, 'timestamp': 1626799636.6639216, 'parameters': {'commander': 1, 'sequenceId': 24051, 'timeout': -1}}\n",
      "10: Read {'id': 1, 'timestamp': 1626799636.813859, 'parameters': {'commander': 1, 'sequenceId': 24052, 'timeout': -1}}\n",
      "10: Read {'id': 1, 'timestamp': 1626799636.9640315, 'parameters': {'commander': 1, 'sequenceId': 24053, 'timeout': -1}}\n",
      "10: Read {'id': 1, 'timestamp': 1626799637.113671, 'parameters': {'commander': 1, 'sequenceId': 24054, 'timeout': -1}}\n",
      "10: Read {'id': 1, 'timestamp': 1626799637.2637146, 'parameters': {'commander': 1, 'sequenceId': 24055, 'timeout': -1}}\n",
      "10: Read {'id': 1, 'timestamp': 1626799637.413806, 'parameters': {'commander': 1, 'sequenceId': 24056, 'timeout': -1}}\n",
      "10: Read {'id': 1, 'timestamp': 1626799637.5638192, 'parameters': {'commander': 1, 'sequenceId': 24057, 'timeout': -1}}\n",
      "10: Read {'id': 1, 'timestamp': 1626799637.7136395, 'parameters': {'commander': 1, 'sequenceId': 24058, 'timeout': -1}}\n",
      "10: Read {'id': 1, 'timestamp': 1626799637.863994, 'parameters': {'commander': 1, 'sequenceId': 24059, 'timeout': -1}}\n",
      "10: Read {'id': 1, 'timestamp': 1626799638.0137467, 'parameters': {'commander': 1, 'sequenceId': 24060, 'timeout': -1}}\n",
      "10: Read {'id': 1, 'timestamp': 1626799638.1638265, 'parameters': {'commander': 1, 'sequenceId': 24061, 'timeout': -1}}\n",
      "10: Read {'id': 1, 'timestamp': 1626799638.313935, 'parameters': {'commander': 1, 'sequenceId': 24062, 'timeout': -1}}\n",
      "10: Read {'id': 1, 'timestamp': 1626799638.4638433, 'parameters': {'commander': 1, 'sequenceId': 24063, 'timeout': -1}}\n",
      "10: Read {'id': 1, 'timestamp': 1626799638.6138365, 'parameters': {'commander': 1, 'sequenceId': 24064, 'timeout': -1}}\n",
      "10: Read {'id': 1, 'timestamp': 1626799638.7641065, 'parameters': {'commander': 1, 'sequenceId': 24065, 'timeout': -1}}\n",
      "10: Read {'id': 1, 'timestamp': 1626799638.91415, 'parameters': {'commander': 1, 'sequenceId': 24066, 'timeout': -1}}\n",
      "10: Read {'id': 1, 'timestamp': 1626799639.0644267, 'parameters': {'commander': 1, 'sequenceId': 24067, 'timeout': -1}}\n",
      "10: Read {'id': 1, 'timestamp': 1626799639.2140715, 'parameters': {'commander': 1, 'sequenceId': 24068, 'timeout': -1}}\n",
      "10: Read {'id': 1, 'timestamp': 1626799639.3640742, 'parameters': {'commander': 1, 'sequenceId': 24069, 'timeout': -1}}\n",
      "10: Read {'id': 1, 'timestamp': 1626799639.5143971, 'parameters': {'commander': 1, 'sequenceId': 24070, 'timeout': -1}}\n",
      "10: Read {'id': 1, 'timestamp': 1626799639.6639774, 'parameters': {'commander': 1, 'sequenceId': 24071, 'timeout': -1}}\n",
      "10: Read {'id': 1, 'timestamp': 1626799639.814015, 'parameters': {'commander': 1, 'sequenceId': 24072, 'timeout': -1}}\n",
      "10: Read {'id': 1, 'timestamp': 1626799639.9642136, 'parameters': {'commander': 1, 'sequenceId': 24073, 'timeout': -1}}\n",
      "10: Read {'id': 1, 'timestamp': 1626799640.1141412, 'parameters': {'commander': 1, 'sequenceId': 24074, 'timeout': -1}}\n",
      "10: Read {'id': 1, 'timestamp': 1626799640.2641578, 'parameters': {'commander': 1, 'sequenceId': 24075, 'timeout': -1}}\n",
      "10: Read {'id': 1, 'timestamp': 1626799640.4140565, 'parameters': {'commander': 1, 'sequenceId': 24076, 'timeout': -1}}\n",
      "10: Read {'id': 1, 'timestamp': 1626799640.5641706, 'parameters': {'commander': 1, 'sequenceId': 24077, 'timeout': -1}}\n",
      "10: Read {'id': 1, 'timestamp': 1626799640.7140687, 'parameters': {'commander': 1, 'sequenceId': 24078, 'timeout': -1}}\n",
      "10: Read {'id': 1, 'timestamp': 1626799640.864337, 'parameters': {'commander': 1, 'sequenceId': 24079, 'timeout': -1}}\n",
      "10: Read {'id': 1, 'timestamp': 1626799641.01369, 'parameters': {'commander': 1, 'sequenceId': 24080, 'timeout': -1}}\n",
      "10: Read {'id': 1, 'timestamp': 1626799641.164079, 'parameters': {'commander': 1, 'sequenceId': 24081, 'timeout': -1}}\n",
      "10: Read {'id': 1, 'timestamp': 1626799641.3140326, 'parameters': {'commander': 1, 'sequenceId': 24082, 'timeout': -1}}\n",
      "10: Read {'id': 1, 'timestamp': 1626799641.464226, 'parameters': {'commander': 1, 'sequenceId': 24083, 'timeout': -1}}\n",
      "10: Read {'id': 1, 'timestamp': 1626799641.614066, 'parameters': {'commander': 1, 'sequenceId': 24084, 'timeout': -1}}\n",
      "10: Read {'id': 1, 'timestamp': 1626799641.7642946, 'parameters': {'commander': 1, 'sequenceId': 24085, 'timeout': -1}}\n",
      "10: Read {'id': 1, 'timestamp': 1626799641.9141235, 'parameters': {'commander': 1, 'sequenceId': 24086, 'timeout': -1}}\n",
      "10: Read {'id': 1, 'timestamp': 1626799642.0641754, 'parameters': {'commander': 1, 'sequenceId': 24087, 'timeout': -1}}\n",
      "10: Read {'id': 1, 'timestamp': 1626799642.2142723, 'parameters': {'commander': 1, 'sequenceId': 24088, 'timeout': -1}}\n",
      "10: Read {'id': 1, 'timestamp': 1626799642.364245, 'parameters': {'commander': 1, 'sequenceId': 24089, 'timeout': -1}}\n",
      "10: Read {'id': 1, 'timestamp': 1626799642.5143576, 'parameters': {'commander': 1, 'sequenceId': 24090, 'timeout': -1}}\n",
      "10: Read {'id': 1, 'timestamp': 1626799642.6644514, 'parameters': {'commander': 1, 'sequenceId': 24091, 'timeout': -1}}\n",
      "10: Read {'id': 1, 'timestamp': 1626799642.814357, 'parameters': {'commander': 1, 'sequenceId': 24092, 'timeout': -1}}\n",
      "10: Read {'id': 1, 'timestamp': 1626799642.964471, 'parameters': {'commander': 1, 'sequenceId': 24093, 'timeout': -1}}\n",
      "10: Read {'id': 1, 'timestamp': 1626799643.1142519, 'parameters': {'commander': 1, 'sequenceId': 24094, 'timeout': -1}}\n",
      "10: Read {'id': 1, 'timestamp': 1626799643.2643301, 'parameters': {'commander': 1, 'sequenceId': 24095, 'timeout': -1}}\n",
      "10: Read {'id': 1, 'timestamp': 1626799643.4141805, 'parameters': {'commander': 1, 'sequenceId': 24096, 'timeout': -1}}\n",
      "10: Read {'id': 1, 'timestamp': 1626799643.5645998, 'parameters': {'commander': 1, 'sequenceId': 24097, 'timeout': -1}}\n",
      "10: Read {'id': 1, 'timestamp': 1626799643.714285, 'parameters': {'commander': 1, 'sequenceId': 24098, 'timeout': -1}}\n",
      "10: Read {'id': 1, 'timestamp': 1626799643.8648336, 'parameters': {'commander': 1, 'sequenceId': 24099, 'timeout': -1}}\n",
      "10: Read {'id': 1, 'timestamp': 1626799644.0145302, 'parameters': {'commander': 1, 'sequenceId': 24100, 'timeout': -1}}\n",
      "10: Read {'id': 1, 'timestamp': 1626799644.1643977, 'parameters': {'commander': 1, 'sequenceId': 24101, 'timeout': -1}}\n",
      "10: Read {'id': 1, 'timestamp': 1626799644.3144042, 'parameters': {'commander': 1, 'sequenceId': 24102, 'timeout': -1}}\n",
      "10: Read {'id': 1, 'timestamp': 1626799644.4642248, 'parameters': {'commander': 1, 'sequenceId': 24103, 'timeout': -1}}\n",
      "10: Read {'id': 1, 'timestamp': 1626799644.614361, 'parameters': {'commander': 1, 'sequenceId': 24104, 'timeout': -1}}\n",
      "10: Read {'id': 1, 'timestamp': 1626799644.764989, 'parameters': {'commander': 1, 'sequenceId': 24105, 'timeout': -1}}\n",
      "10: Read {'id': 1, 'timestamp': 1626799644.9145803, 'parameters': {'commander': 1, 'sequenceId': 24106, 'timeout': -1}}\n",
      "10: Read {'id': 1, 'timestamp': 1626799645.0645063, 'parameters': {'commander': 1, 'sequenceId': 24107, 'timeout': -1}}\n",
      "10: Read {'id': 1, 'timestamp': 1626799645.2141244, 'parameters': {'commander': 1, 'sequenceId': 24108, 'timeout': -1}}\n",
      "10: Read {'id': 1, 'timestamp': 1626799645.3644524, 'parameters': {'commander': 1, 'sequenceId': 24109, 'timeout': -1}}\n",
      "10: Read {'id': 1, 'timestamp': 1626799645.5144129, 'parameters': {'commander': 1, 'sequenceId': 24110, 'timeout': -1}}\n",
      "10: Read {'id': 1, 'timestamp': 1626799645.6643887, 'parameters': {'commander': 1, 'sequenceId': 24111, 'timeout': -1}}\n",
      "10: Read {'id': 1, 'timestamp': 1626799645.8145118, 'parameters': {'commander': 1, 'sequenceId': 24112, 'timeout': -1}}\n",
      "10: Read {'id': 1, 'timestamp': 1626799645.9645755, 'parameters': {'commander': 1, 'sequenceId': 24113, 'timeout': -1}}\n",
      "10: Read {'id': 1, 'timestamp': 1626799646.1143656, 'parameters': {'commander': 1, 'sequenceId': 24114, 'timeout': -1}}\n",
      "10: Read {'id': 1, 'timestamp': 1626799646.2646456, 'parameters': {'commander': 1, 'sequenceId': 24115, 'timeout': -1}}\n",
      "10: Read {'id': 1, 'timestamp': 1626799646.4148781, 'parameters': {'commander': 1, 'sequenceId': 24116, 'timeout': -1}}\n",
      "10: Read {'id': 1, 'timestamp': 1626799646.5647187, 'parameters': {'commander': 1, 'sequenceId': 24117, 'timeout': -1}}\n",
      "10: Read {'id': 1, 'timestamp': 1626799646.7146738, 'parameters': {'commander': 1, 'sequenceId': 24118, 'timeout': -1}}\n",
      "10: Read {'id': 1, 'timestamp': 1626799646.8644767, 'parameters': {'commander': 1, 'sequenceId': 24119, 'timeout': -1}}\n",
      "10: Read {'id': 1, 'timestamp': 1626799647.0148435, 'parameters': {'commander': 1, 'sequenceId': 24120, 'timeout': -1}}\n",
      "10: Read {'id': 1, 'timestamp': 1626799647.1644444, 'parameters': {'commander': 1, 'sequenceId': 24121, 'timeout': -1}}\n",
      "10: Read {'id': 1, 'timestamp': 1626799647.3144553, 'parameters': {'commander': 1, 'sequenceId': 24122, 'timeout': -1}}\n",
      "10: Read {'id': 1, 'timestamp': 1626799647.4643834, 'parameters': {'commander': 1, 'sequenceId': 24123, 'timeout': -1}}\n",
      "10: Read {'id': 1, 'timestamp': 1626799647.6143954, 'parameters': {'commander': 1, 'sequenceId': 24124, 'timeout': -1}}\n",
      "10: Read {'id': 1, 'timestamp': 1626799647.7646325, 'parameters': {'commander': 1, 'sequenceId': 24125, 'timeout': -1}}\n",
      "10: Read {'id': 1, 'timestamp': 1626799647.9146461, 'parameters': {'commander': 1, 'sequenceId': 24126, 'timeout': -1}}\n",
      "10: Read {'id': 1, 'timestamp': 1626799648.0644722, 'parameters': {'commander': 1, 'sequenceId': 24127, 'timeout': -1}}\n",
      "10: Read {'id': 1, 'timestamp': 1626799648.214464, 'parameters': {'commander': 1, 'sequenceId': 24128, 'timeout': -1}}\n",
      "10: Read {'id': 1, 'timestamp': 1626799648.3645165, 'parameters': {'commander': 1, 'sequenceId': 24129, 'timeout': -1}}\n",
      "10: Read {'id': 1, 'timestamp': 1626799648.5147457, 'parameters': {'commander': 1, 'sequenceId': 24130, 'timeout': -1}}\n",
      "10: Read {'id': 1, 'timestamp': 1626799648.6644545, 'parameters': {'commander': 1, 'sequenceId': 24131, 'timeout': -1}}\n",
      "10: Read {'id': 1, 'timestamp': 1626799648.8148258, 'parameters': {'commander': 1, 'sequenceId': 24132, 'timeout': -1}}\n",
      "10: Read {'id': 1, 'timestamp': 1626799648.9647644, 'parameters': {'commander': 1, 'sequenceId': 24133, 'timeout': -1}}\n",
      "10: Read {'id': 1, 'timestamp': 1626799649.115258, 'parameters': {'commander': 1, 'sequenceId': 24134, 'timeout': -1}}\n",
      "10: Read {'id': 1, 'timestamp': 1626799649.2647252, 'parameters': {'commander': 1, 'sequenceId': 24135, 'timeout': -1}}\n",
      "10: Read {'id': 1, 'timestamp': 1626799649.4146624, 'parameters': {'commander': 1, 'sequenceId': 24136, 'timeout': -1}}\n",
      "10: Read {'id': 1, 'timestamp': 1626799649.564789, 'parameters': {'commander': 1, 'sequenceId': 24137, 'timeout': -1}}\n",
      "10: Read {'id': 1, 'timestamp': 1626799649.7147672, 'parameters': {'commander': 1, 'sequenceId': 24138, 'timeout': -1}}\n",
      "10: Read {'id': 1, 'timestamp': 1626799649.8647327, 'parameters': {'commander': 1, 'sequenceId': 24139, 'timeout': -1}}\n",
      "10: Read {'id': 1, 'timestamp': 1626799650.0149283, 'parameters': {'commander': 1, 'sequenceId': 24140, 'timeout': -1}}\n",
      "10: Read {'id': 1, 'timestamp': 1626799650.1647267, 'parameters': {'commander': 1, 'sequenceId': 24141, 'timeout': -1}}\n",
      "10: Read {'id': 1, 'timestamp': 1626799650.3147995, 'parameters': {'commander': 1, 'sequenceId': 24142, 'timeout': -1}}\n",
      "10: Read {'id': 1, 'timestamp': 1626799650.4648716, 'parameters': {'commander': 1, 'sequenceId': 24143, 'timeout': -1}}\n",
      "10: Read {'id': 1, 'timestamp': 1626799650.6151667, 'parameters': {'commander': 1, 'sequenceId': 24144, 'timeout': -1}}\n",
      "10: Read {'id': 1, 'timestamp': 1626799650.764517, 'parameters': {'commander': 1, 'sequenceId': 24145, 'timeout': -1}}\n",
      "10: Read {'id': 1, 'timestamp': 1626799650.9148245, 'parameters': {'commander': 1, 'sequenceId': 24146, 'timeout': -1}}\n",
      "10: Read {'id': 1, 'timestamp': 1626799651.0649345, 'parameters': {'commander': 1, 'sequenceId': 24147, 'timeout': -1}}\n",
      "10: Read {'id': 1, 'timestamp': 1626799651.2148159, 'parameters': {'commander': 1, 'sequenceId': 24148, 'timeout': -1}}\n",
      "10: Read {'id': 1, 'timestamp': 1626799651.3649552, 'parameters': {'commander': 1, 'sequenceId': 24149, 'timeout': -1}}\n",
      "10: Read {'id': 1, 'timestamp': 1626799651.5149667, 'parameters': {'commander': 1, 'sequenceId': 24150, 'timeout': -1}}\n",
      "10: Read {'id': 1, 'timestamp': 1626799651.6650689, 'parameters': {'commander': 1, 'sequenceId': 24151, 'timeout': -1}}\n",
      "10: Read {'id': 1, 'timestamp': 1626799651.8149893, 'parameters': {'commander': 1, 'sequenceId': 24152, 'timeout': -1}}\n",
      "10: Read {'id': 1, 'timestamp': 1626799651.9649248, 'parameters': {'commander': 1, 'sequenceId': 24153, 'timeout': -1}}\n",
      "10: Read {'id': 1, 'timestamp': 1626799652.1149433, 'parameters': {'commander': 1, 'sequenceId': 24154, 'timeout': -1}}\n",
      "10: Read {'id': 1, 'timestamp': 1626799652.2649102, 'parameters': {'commander': 1, 'sequenceId': 24155, 'timeout': -1}}\n",
      "10: Read {'id': 1, 'timestamp': 1626799652.4148788, 'parameters': {'commander': 1, 'sequenceId': 24156, 'timeout': -1}}\n",
      "10: Read {'id': 1, 'timestamp': 1626799652.5650945, 'parameters': {'commander': 1, 'sequenceId': 24157, 'timeout': -1}}\n",
      "10: Read {'id': 1, 'timestamp': 1626799652.715046, 'parameters': {'commander': 1, 'sequenceId': 24158, 'timeout': -1}}\n",
      "10: Read {'id': 1, 'timestamp': 1626799652.8649883, 'parameters': {'commander': 1, 'sequenceId': 24159, 'timeout': -1}}\n",
      "10: Read {'id': 1, 'timestamp': 1626799653.015005, 'parameters': {'commander': 1, 'sequenceId': 24160, 'timeout': -1}}\n",
      "10: Read {'id': 1, 'timestamp': 1626799653.1650112, 'parameters': {'commander': 1, 'sequenceId': 24161, 'timeout': -1}}\n",
      "10: Read {'id': 1, 'timestamp': 1626799653.3150132, 'parameters': {'commander': 1, 'sequenceId': 24162, 'timeout': -1}}\n",
      "10: Read {'id': 1, 'timestamp': 1626799653.4651046, 'parameters': {'commander': 1, 'sequenceId': 24163, 'timeout': -1}}\n",
      "10: Read {'id': 1, 'timestamp': 1626799653.6151109, 'parameters': {'commander': 1, 'sequenceId': 24164, 'timeout': -1}}\n",
      "10: Read {'id': 1, 'timestamp': 1626799653.7653089, 'parameters': {'commander': 1, 'sequenceId': 24165, 'timeout': -1}}\n",
      "10: Read {'id': 1, 'timestamp': 1626799653.915378, 'parameters': {'commander': 1, 'sequenceId': 24166, 'timeout': -1}}\n",
      "10: Read {'id': 1, 'timestamp': 1626799654.0656471, 'parameters': {'commander': 1, 'sequenceId': 24167, 'timeout': -1}}\n",
      "10: Read {'id': 1, 'timestamp': 1626799654.2153637, 'parameters': {'commander': 1, 'sequenceId': 24168, 'timeout': -1}}\n",
      "10: Read {'id': 1, 'timestamp': 1626799654.3650355, 'parameters': {'commander': 1, 'sequenceId': 24169, 'timeout': -1}}\n",
      "10: Read {'id': 1, 'timestamp': 1626799654.5154762, 'parameters': {'commander': 1, 'sequenceId': 24170, 'timeout': -1}}\n",
      "10: Read {'id': 1, 'timestamp': 1626799654.6652334, 'parameters': {'commander': 1, 'sequenceId': 24171, 'timeout': -1}}\n",
      "10: Read {'id': 1, 'timestamp': 1626799654.815396, 'parameters': {'commander': 1, 'sequenceId': 24172, 'timeout': -1}}\n",
      "10: Read {'id': 1, 'timestamp': 1626799654.9651108, 'parameters': {'commander': 1, 'sequenceId': 24173, 'timeout': -1}}\n",
      "10: Read {'id': 1, 'timestamp': 1626799655.115098, 'parameters': {'commander': 1, 'sequenceId': 24174, 'timeout': -1}}\n",
      "10: Read {'id': 1, 'timestamp': 1626799655.2651675, 'parameters': {'commander': 1, 'sequenceId': 24175, 'timeout': -1}}\n",
      "10: Read {'id': 1, 'timestamp': 1626799655.4157815, 'parameters': {'commander': 1, 'sequenceId': 24176, 'timeout': -1}}\n",
      "10: Read {'id': 1, 'timestamp': 1626799655.565338, 'parameters': {'commander': 1, 'sequenceId': 24177, 'timeout': -1}}\n",
      "10: Read {'id': 1, 'timestamp': 1626799655.7152913, 'parameters': {'commander': 1, 'sequenceId': 24178, 'timeout': -1}}\n",
      "10: Read {'id': 1, 'timestamp': 1626799655.865519, 'parameters': {'commander': 1, 'sequenceId': 24179, 'timeout': -1}}\n",
      "10: Read {'id': 1, 'timestamp': 1626799656.015424, 'parameters': {'commander': 1, 'sequenceId': 24180, 'timeout': -1}}\n",
      "10: Read {'id': 1, 'timestamp': 1626799656.1653593, 'parameters': {'commander': 1, 'sequenceId': 24181, 'timeout': -1}}\n",
      "10: Read {'id': 1, 'timestamp': 1626799656.3153825, 'parameters': {'commander': 1, 'sequenceId': 24182, 'timeout': -1}}\n",
      "10: Read {'id': 1, 'timestamp': 1626799656.4654834, 'parameters': {'commander': 1, 'sequenceId': 24183, 'timeout': -1}}\n",
      "10: Read {'id': 1, 'timestamp': 1626799656.6156185, 'parameters': {'commander': 1, 'sequenceId': 24184, 'timeout': -1}}\n",
      "10: Read {'id': 1, 'timestamp': 1626799656.7655146, 'parameters': {'commander': 1, 'sequenceId': 24185, 'timeout': -1}}\n",
      "10: Read {'id': 1, 'timestamp': 1626799656.915457, 'parameters': {'commander': 1, 'sequenceId': 24186, 'timeout': -1}}\n",
      "10: Read {'id': 1, 'timestamp': 1626799657.0653677, 'parameters': {'commander': 1, 'sequenceId': 24187, 'timeout': -1}}\n",
      "10: Read {'id': 1, 'timestamp': 1626799657.215386, 'parameters': {'commander': 1, 'sequenceId': 24188, 'timeout': -1}}\n",
      "10: Read {'id': 1, 'timestamp': 1626799657.3653831, 'parameters': {'commander': 1, 'sequenceId': 24189, 'timeout': -1}}\n",
      "10: Read {'id': 1, 'timestamp': 1626799657.5152164, 'parameters': {'commander': 1, 'sequenceId': 24190, 'timeout': -1}}\n",
      "10: Read {'id': 1, 'timestamp': 1626799657.66537, 'parameters': {'commander': 1, 'sequenceId': 24191, 'timeout': -1}}\n",
      "10: Read {'id': 1, 'timestamp': 1626799657.8152478, 'parameters': {'commander': 1, 'sequenceId': 24192, 'timeout': -1}}\n",
      "10: Read {'id': 1, 'timestamp': 1626799657.965537, 'parameters': {'commander': 1, 'sequenceId': 24193, 'timeout': -1}}\n",
      "10: Read {'id': 1, 'timestamp': 1626799658.1155016, 'parameters': {'commander': 1, 'sequenceId': 24194, 'timeout': -1}}\n",
      "10: Read {'id': 1, 'timestamp': 1626799658.2653496, 'parameters': {'commander': 1, 'sequenceId': 24195, 'timeout': -1}}\n",
      "10: Read {'id': 1, 'timestamp': 1626799658.4152691, 'parameters': {'commander': 1, 'sequenceId': 24196, 'timeout': -1}}\n",
      "10: Read {'id': 1, 'timestamp': 1626799658.5655875, 'parameters': {'commander': 1, 'sequenceId': 24197, 'timeout': -1}}\n",
      "10: Read {'id': 1, 'timestamp': 1626799658.7158542, 'parameters': {'commander': 1, 'sequenceId': 24198, 'timeout': -1}}\n",
      "10: Read {'id': 1, 'timestamp': 1626799658.8655577, 'parameters': {'commander': 1, 'sequenceId': 24199, 'timeout': -1}}\n",
      "10: Read {'id': 1, 'timestamp': 1626799659.0156815, 'parameters': {'commander': 1, 'sequenceId': 24200, 'timeout': -1}}\n",
      "10: Read {'id': 1, 'timestamp': 1626799659.1656938, 'parameters': {'commander': 1, 'sequenceId': 24201, 'timeout': -1}}\n",
      "10: Read {'id': 1, 'timestamp': 1626799659.3155298, 'parameters': {'commander': 1, 'sequenceId': 24202, 'timeout': -1}}\n",
      "10: Read {'id': 1, 'timestamp': 1626799659.4657145, 'parameters': {'commander': 1, 'sequenceId': 24203, 'timeout': -1}}\n",
      "10: Read {'id': 1, 'timestamp': 1626799659.6156492, 'parameters': {'commander': 1, 'sequenceId': 24204, 'timeout': -1}}\n",
      "10: Read {'id': 1, 'timestamp': 1626799659.765762, 'parameters': {'commander': 1, 'sequenceId': 24205, 'timeout': -1}}\n",
      "10: Read {'id': 1, 'timestamp': 1626799659.9157088, 'parameters': {'commander': 1, 'sequenceId': 24206, 'timeout': -1}}\n",
      "10: Read {'id': 1, 'timestamp': 1626799660.0658324, 'parameters': {'commander': 1, 'sequenceId': 24207, 'timeout': -1}}\n",
      "10: Read {'id': 1, 'timestamp': 1626799660.2157724, 'parameters': {'commander': 1, 'sequenceId': 24208, 'timeout': -1}}\n",
      "10: Read {'id': 1, 'timestamp': 1626799660.365658, 'parameters': {'commander': 1, 'sequenceId': 24209, 'timeout': -1}}\n",
      "10: Read {'id': 1, 'timestamp': 1626799660.5156877, 'parameters': {'commander': 1, 'sequenceId': 24210, 'timeout': -1}}\n",
      "10: Read {'id': 1, 'timestamp': 1626799660.66602, 'parameters': {'commander': 1, 'sequenceId': 24211, 'timeout': -1}}\n",
      "10: Read {'id': 1, 'timestamp': 1626799660.8157945, 'parameters': {'commander': 1, 'sequenceId': 24212, 'timeout': -1}}\n",
      "10: Read {'id': 1, 'timestamp': 1626799660.9656284, 'parameters': {'commander': 1, 'sequenceId': 24213, 'timeout': -1}}\n",
      "10: Read {'id': 1, 'timestamp': 1626799661.116044, 'parameters': {'commander': 1, 'sequenceId': 24214, 'timeout': -1}}\n",
      "10: Read {'id': 1, 'timestamp': 1626799661.2661307, 'parameters': {'commander': 1, 'sequenceId': 24215, 'timeout': -1}}\n",
      "10: Read {'id': 1, 'timestamp': 1626799661.415618, 'parameters': {'commander': 1, 'sequenceId': 24216, 'timeout': -1}}\n",
      "10: Read {'id': 1, 'timestamp': 1626799661.5658634, 'parameters': {'commander': 1, 'sequenceId': 24217, 'timeout': -1}}\n",
      "10: Read {'id': 1, 'timestamp': 1626799661.7156637, 'parameters': {'commander': 1, 'sequenceId': 24218, 'timeout': -1}}\n",
      "10: Read {'id': 1, 'timestamp': 1626799661.8655112, 'parameters': {'commander': 1, 'sequenceId': 24219, 'timeout': -1}}\n",
      "10: Read {'id': 1, 'timestamp': 1626799662.0158532, 'parameters': {'commander': 1, 'sequenceId': 24220, 'timeout': -1}}\n",
      "10: Read {'id': 1, 'timestamp': 1626799662.1656048, 'parameters': {'commander': 1, 'sequenceId': 24221, 'timeout': -1}}\n",
      "10: Read {'id': 1, 'timestamp': 1626799662.3157773, 'parameters': {'commander': 1, 'sequenceId': 24222, 'timeout': -1}}\n",
      "10: Read {'id': 1, 'timestamp': 1626799662.465714, 'parameters': {'commander': 1, 'sequenceId': 24223, 'timeout': -1}}\n",
      "10: Read {'id': 1, 'timestamp': 1626799662.6157708, 'parameters': {'commander': 1, 'sequenceId': 24224, 'timeout': -1}}\n",
      "10: Read {'id': 1, 'timestamp': 1626799662.7655258, 'parameters': {'commander': 1, 'sequenceId': 24225, 'timeout': -1}}\n",
      "10: Read {'id': 1, 'timestamp': 1626799662.915983, 'parameters': {'commander': 1, 'sequenceId': 24226, 'timeout': -1}}\n",
      "10: Read {'id': 1, 'timestamp': 1626799663.0657625, 'parameters': {'commander': 1, 'sequenceId': 24227, 'timeout': -1}}\n",
      "10: Read {'id': 1, 'timestamp': 1626799663.2159986, 'parameters': {'commander': 1, 'sequenceId': 24228, 'timeout': -1}}\n",
      "10: Read {'id': 1, 'timestamp': 1626799663.3656807, 'parameters': {'commander': 1, 'sequenceId': 24229, 'timeout': -1}}\n",
      "10: Read {'id': 1, 'timestamp': 1626799663.515814, 'parameters': {'commander': 1, 'sequenceId': 24230, 'timeout': -1}}\n",
      "10: Read {'id': 1, 'timestamp': 1626799663.6662958, 'parameters': {'commander': 1, 'sequenceId': 24231, 'timeout': -1}}\n",
      "10: Read {'id': 1, 'timestamp': 1626799663.8163726, 'parameters': {'commander': 1, 'sequenceId': 24232, 'timeout': -1}}\n",
      "10: Read {'id': 1, 'timestamp': 1626799663.9664767, 'parameters': {'commander': 1, 'sequenceId': 24233, 'timeout': -1}}\n",
      "10: Read {'id': 1, 'timestamp': 1626799664.1159353, 'parameters': {'commander': 1, 'sequenceId': 24234, 'timeout': -1}}\n",
      "10: Read {'id': 1, 'timestamp': 1626799664.2659678, 'parameters': {'commander': 1, 'sequenceId': 24235, 'timeout': -1}}\n",
      "10: Read {'id': 1, 'timestamp': 1626799664.4159641, 'parameters': {'commander': 1, 'sequenceId': 24236, 'timeout': -1}}\n",
      "10: Read {'id': 1, 'timestamp': 1626799664.5658383, 'parameters': {'commander': 1, 'sequenceId': 24237, 'timeout': -1}}\n",
      "10: Read {'id': 1, 'timestamp': 1626799664.7161403, 'parameters': {'commander': 1, 'sequenceId': 24238, 'timeout': -1}}\n",
      "10: Read {'id': 1, 'timestamp': 1626799664.8660946, 'parameters': {'commander': 1, 'sequenceId': 24239, 'timeout': -1}}\n",
      "10: Read {'id': 1, 'timestamp': 1626799665.0160494, 'parameters': {'commander': 1, 'sequenceId': 24240, 'timeout': -1}}\n",
      "10: Read {'id': 1, 'timestamp': 1626799665.166284, 'parameters': {'commander': 1, 'sequenceId': 24241, 'timeout': -1}}\n",
      "10: Read {'id': 1, 'timestamp': 1626799665.316284, 'parameters': {'commander': 1, 'sequenceId': 24242, 'timeout': -1}}\n",
      "10: Read {'id': 1, 'timestamp': 1626799665.4660623, 'parameters': {'commander': 1, 'sequenceId': 24243, 'timeout': -1}}\n",
      "10: Read {'id': 1, 'timestamp': 1626799665.615918, 'parameters': {'commander': 1, 'sequenceId': 24244, 'timeout': -1}}\n",
      "10: Read {'id': 1, 'timestamp': 1626799665.7662284, 'parameters': {'commander': 1, 'sequenceId': 24245, 'timeout': -1}}\n",
      "10: Read {'id': 1, 'timestamp': 1626799665.916194, 'parameters': {'commander': 1, 'sequenceId': 24246, 'timeout': -1}}\n",
      "10: Read {'id': 1, 'timestamp': 1626799666.0661755, 'parameters': {'commander': 1, 'sequenceId': 24247, 'timeout': -1}}\n",
      "10: Read {'id': 1, 'timestamp': 1626799666.2163966, 'parameters': {'commander': 1, 'sequenceId': 24248, 'timeout': -1}}\n",
      "10: Read {'id': 1, 'timestamp': 1626799666.366757, 'parameters': {'commander': 1, 'sequenceId': 24249, 'timeout': -1}}\n",
      "10: Read {'id': 1, 'timestamp': 1626799666.5163686, 'parameters': {'commander': 1, 'sequenceId': 24250, 'timeout': -1}}\n",
      "10: Read {'id': 1, 'timestamp': 1626799666.6661453, 'parameters': {'commander': 1, 'sequenceId': 24251, 'timeout': -1}}\n",
      "10: Read {'id': 1, 'timestamp': 1626799666.8163424, 'parameters': {'commander': 1, 'sequenceId': 24252, 'timeout': -1}}\n",
      "10: Read {'id': 1, 'timestamp': 1626799666.9663157, 'parameters': {'commander': 1, 'sequenceId': 24253, 'timeout': -1}}\n",
      "10: Read {'id': 1, 'timestamp': 1626799667.116172, 'parameters': {'commander': 1, 'sequenceId': 24254, 'timeout': -1}}\n",
      "10: Read {'id': 1, 'timestamp': 1626799667.266163, 'parameters': {'commander': 1, 'sequenceId': 24255, 'timeout': -1}}\n",
      "10: Read {'id': 1, 'timestamp': 1626799667.416199, 'parameters': {'commander': 1, 'sequenceId': 24256, 'timeout': -1}}\n",
      "10: Read {'id': 1, 'timestamp': 1626799667.5662332, 'parameters': {'commander': 1, 'sequenceId': 24257, 'timeout': -1}}\n",
      "10: Read {'id': 1, 'timestamp': 1626799667.7162657, 'parameters': {'commander': 1, 'sequenceId': 24258, 'timeout': -1}}\n",
      "10: Read {'id': 1, 'timestamp': 1626799667.8662465, 'parameters': {'commander': 1, 'sequenceId': 24259, 'timeout': -1}}\n",
      "10: Read {'id': 1, 'timestamp': 1626799668.016267, 'parameters': {'commander': 1, 'sequenceId': 24260, 'timeout': -1}}\n",
      "10: Read {'id': 1, 'timestamp': 1626799668.166427, 'parameters': {'commander': 1, 'sequenceId': 24261, 'timeout': -1}}\n",
      "10: Read {'id': 1, 'timestamp': 1626799668.316339, 'parameters': {'commander': 1, 'sequenceId': 24262, 'timeout': -1}}\n",
      "10: Read {'id': 1, 'timestamp': 1626799668.4664154, 'parameters': {'commander': 1, 'sequenceId': 24263, 'timeout': -1}}\n",
      "10: Read {'id': 1, 'timestamp': 1626799668.6166284, 'parameters': {'commander': 1, 'sequenceId': 24264, 'timeout': -1}}\n",
      "10: Read {'id': 1, 'timestamp': 1626799668.7670238, 'parameters': {'commander': 1, 'sequenceId': 24265, 'timeout': -1}}\n",
      "10: Read {'id': 1, 'timestamp': 1626799668.917017, 'parameters': {'commander': 1, 'sequenceId': 24266, 'timeout': -1}}\n",
      "10: Read {'id': 1, 'timestamp': 1626799669.0665112, 'parameters': {'commander': 1, 'sequenceId': 24267, 'timeout': -1}}\n",
      "10: Read {'id': 1, 'timestamp': 1626799669.2164974, 'parameters': {'commander': 1, 'sequenceId': 24268, 'timeout': -1}}\n",
      "10: Read {'id': 1, 'timestamp': 1626799669.3664312, 'parameters': {'commander': 1, 'sequenceId': 24269, 'timeout': -1}}\n",
      "10: Read {'id': 1, 'timestamp': 1626799669.5162315, 'parameters': {'commander': 1, 'sequenceId': 24270, 'timeout': -1}}\n",
      "10: Read {'id': 1, 'timestamp': 1626799669.666499, 'parameters': {'commander': 1, 'sequenceId': 24271, 'timeout': -1}}\n",
      "10: Read {'id': 1, 'timestamp': 1626799669.8165505, 'parameters': {'commander': 1, 'sequenceId': 24272, 'timeout': -1}}\n",
      "10: Read {'id': 1, 'timestamp': 1626799669.9665668, 'parameters': {'commander': 1, 'sequenceId': 24273, 'timeout': -1}}\n",
      "10: Read {'id': 1, 'timestamp': 1626799670.1164794, 'parameters': {'commander': 1, 'sequenceId': 24274, 'timeout': -1}}\n",
      "10: Read {'id': 1, 'timestamp': 1626799670.266529, 'parameters': {'commander': 1, 'sequenceId': 24275, 'timeout': -1}}\n",
      "10: Read {'id': 1, 'timestamp': 1626799670.4165113, 'parameters': {'commander': 1, 'sequenceId': 24276, 'timeout': -1}}\n",
      "10: Read {'id': 1, 'timestamp': 1626799670.5665295, 'parameters': {'commander': 1, 'sequenceId': 24277, 'timeout': -1}}\n",
      "10: Read {'id': 1, 'timestamp': 1626799670.716433, 'parameters': {'commander': 1, 'sequenceId': 24278, 'timeout': -1}}\n",
      "10: Read {'id': 1, 'timestamp': 1626799670.8666637, 'parameters': {'commander': 1, 'sequenceId': 24279, 'timeout': -1}}\n",
      "10: Read {'id': 1, 'timestamp': 1626799671.0166655, 'parameters': {'commander': 1, 'sequenceId': 24280, 'timeout': -1}}\n",
      "10: Read {'id': 1, 'timestamp': 1626799671.166701, 'parameters': {'commander': 1, 'sequenceId': 24281, 'timeout': -1}}\n",
      "10: Read {'id': 1, 'timestamp': 1626799671.3166428, 'parameters': {'commander': 1, 'sequenceId': 24282, 'timeout': -1}}\n",
      "10: Read {'id': 1, 'timestamp': 1626799671.4665916, 'parameters': {'commander': 1, 'sequenceId': 24283, 'timeout': -1}}\n",
      "10: Read {'id': 1, 'timestamp': 1626799671.6185799, 'parameters': {'commander': 1, 'sequenceId': 24284, 'timeout': -1}}\n",
      "10: Read {'id': 1, 'timestamp': 1626799671.7665198, 'parameters': {'commander': 1, 'sequenceId': 24285, 'timeout': -1}}\n",
      "10: Read {'id': 1, 'timestamp': 1626799671.9164712, 'parameters': {'commander': 1, 'sequenceId': 24286, 'timeout': -1}}\n",
      "10: Read {'id': 1, 'timestamp': 1626799672.0665534, 'parameters': {'commander': 1, 'sequenceId': 24287, 'timeout': -1}}\n",
      "10: Read {'id': 1, 'timestamp': 1626799672.216477, 'parameters': {'commander': 1, 'sequenceId': 24288, 'timeout': -1}}\n",
      "10: Read {'id': 1, 'timestamp': 1626799672.3665512, 'parameters': {'commander': 1, 'sequenceId': 24289, 'timeout': -1}}\n",
      "10: Read {'id': 1, 'timestamp': 1626799672.5170588, 'parameters': {'commander': 1, 'sequenceId': 24290, 'timeout': -1}}\n",
      "10: Read {'id': 1, 'timestamp': 1626799672.6668372, 'parameters': {'commander': 1, 'sequenceId': 24291, 'timeout': -1}}\n",
      "10: Read {'id': 1, 'timestamp': 1626799672.816708, 'parameters': {'commander': 1, 'sequenceId': 24292, 'timeout': -1}}\n",
      "10: Read {'id': 1, 'timestamp': 1626799672.966777, 'parameters': {'commander': 1, 'sequenceId': 24293, 'timeout': -1}}\n",
      "10: Read {'id': 1, 'timestamp': 1626799673.1166542, 'parameters': {'commander': 1, 'sequenceId': 24294, 'timeout': -1}}\n",
      "10: Read {'id': 1, 'timestamp': 1626799673.2666464, 'parameters': {'commander': 1, 'sequenceId': 24295, 'timeout': -1}}\n",
      "10: Read {'id': 1, 'timestamp': 1626799673.4165747, 'parameters': {'commander': 1, 'sequenceId': 24296, 'timeout': -1}}\n",
      "10: Read {'id': 1, 'timestamp': 1626799673.5667436, 'parameters': {'commander': 1, 'sequenceId': 24297, 'timeout': -1}}\n",
      "10: Read {'id': 1, 'timestamp': 1626799673.719676, 'parameters': {'commander': 1, 'sequenceId': 24298, 'timeout': -1}}\n",
      "10: Read {'id': 1, 'timestamp': 1626799673.8673077, 'parameters': {'commander': 1, 'sequenceId': 24299, 'timeout': -1}}\n",
      "10: Read {'id': 1, 'timestamp': 1626799674.017032, 'parameters': {'commander': 1, 'sequenceId': 24300, 'timeout': -1}}\n",
      "10: Read {'id': 1, 'timestamp': 1626799674.1667564, 'parameters': {'commander': 1, 'sequenceId': 24301, 'timeout': -1}}\n",
      "10: Read {'id': 1, 'timestamp': 1626799674.316732, 'parameters': {'commander': 1, 'sequenceId': 24302, 'timeout': -1}}\n",
      "10: Read {'id': 1, 'timestamp': 1626799674.4667377, 'parameters': {'commander': 1, 'sequenceId': 24303, 'timeout': -1}}\n",
      "10: Read {'id': 1, 'timestamp': 1626799674.6168134, 'parameters': {'commander': 1, 'sequenceId': 24304, 'timeout': -1}}\n",
      "10: Read {'id': 1, 'timestamp': 1626799674.7669623, 'parameters': {'commander': 1, 'sequenceId': 24305, 'timeout': -1}}\n",
      "10: Read {'id': 1, 'timestamp': 1626799674.916821, 'parameters': {'commander': 1, 'sequenceId': 24306, 'timeout': -1}}\n",
      "10: Read {'id': 1, 'timestamp': 1626799675.066769, 'parameters': {'commander': 1, 'sequenceId': 24307, 'timeout': -1}}\n",
      "10: Read {'id': 1, 'timestamp': 1626799675.2169304, 'parameters': {'commander': 1, 'sequenceId': 24308, 'timeout': -1}}\n",
      "10: Read {'id': 1, 'timestamp': 1626799675.366973, 'parameters': {'commander': 1, 'sequenceId': 24309, 'timeout': -1}}\n",
      "10: Read {'id': 1, 'timestamp': 1626799675.5170593, 'parameters': {'commander': 1, 'sequenceId': 24310, 'timeout': -1}}\n",
      "10: Read {'id': 1, 'timestamp': 1626799675.666917, 'parameters': {'commander': 1, 'sequenceId': 24311, 'timeout': -1}}\n",
      "10: Read {'id': 1, 'timestamp': 1626799675.8168445, 'parameters': {'commander': 1, 'sequenceId': 24312, 'timeout': -1}}\n",
      "10: Read {'id': 1, 'timestamp': 1626799675.9672182, 'parameters': {'commander': 1, 'sequenceId': 24313, 'timeout': -1}}\n",
      "10: Read {'id': 1, 'timestamp': 1626799676.1169133, 'parameters': {'commander': 1, 'sequenceId': 24314, 'timeout': -1}}\n",
      "10: Read {'id': 1, 'timestamp': 1626799676.2669213, 'parameters': {'commander': 1, 'sequenceId': 24315, 'timeout': -1}}\n",
      "10: Read {'id': 1, 'timestamp': 1626799676.4170506, 'parameters': {'commander': 1, 'sequenceId': 24316, 'timeout': -1}}\n",
      "10: Read {'id': 1, 'timestamp': 1626799676.566946, 'parameters': {'commander': 1, 'sequenceId': 24317, 'timeout': -1}}\n",
      "10: Read {'id': 1, 'timestamp': 1626799676.7169092, 'parameters': {'commander': 1, 'sequenceId': 24318, 'timeout': -1}}\n",
      "10: Read {'id': 1, 'timestamp': 1626799676.8668494, 'parameters': {'commander': 1, 'sequenceId': 24319, 'timeout': -1}}\n",
      "10: Read {'id': 1, 'timestamp': 1626799677.0170865, 'parameters': {'commander': 1, 'sequenceId': 24320, 'timeout': -1}}\n",
      "10: Read {'id': 1, 'timestamp': 1626799677.1670523, 'parameters': {'commander': 1, 'sequenceId': 24321, 'timeout': -1}}\n",
      "10: Read {'id': 1, 'timestamp': 1626799677.3170469, 'parameters': {'commander': 1, 'sequenceId': 24322, 'timeout': -1}}\n",
      "10: Read {'id': 1, 'timestamp': 1626799677.4868608, 'parameters': {'commander': 1, 'sequenceId': 24323, 'timeout': -1}}\n",
      "10: Read {'id': 1, 'timestamp': 1626799677.6171052, 'parameters': {'commander': 1, 'sequenceId': 24324, 'timeout': -1}}\n",
      "10: Read {'id': 1, 'timestamp': 1626799677.7670424, 'parameters': {'commander': 1, 'sequenceId': 24325, 'timeout': -1}}\n",
      "10: Read {'id': 1, 'timestamp': 1626799677.9172032, 'parameters': {'commander': 1, 'sequenceId': 24326, 'timeout': -1}}\n",
      "10: Read {'id': 1, 'timestamp': 1626799678.0670578, 'parameters': {'commander': 1, 'sequenceId': 24327, 'timeout': -1}}\n",
      "10: Read {'id': 1, 'timestamp': 1626799678.2175107, 'parameters': {'commander': 1, 'sequenceId': 24328, 'timeout': -1}}\n",
      "10: Read {'id': 1, 'timestamp': 1626799678.3673227, 'parameters': {'commander': 1, 'sequenceId': 24329, 'timeout': -1}}\n",
      "10: Read {'id': 1, 'timestamp': 1626799678.5173538, 'parameters': {'commander': 1, 'sequenceId': 24330, 'timeout': -1}}\n",
      "10: Read {'id': 1, 'timestamp': 1626799678.6671631, 'parameters': {'commander': 1, 'sequenceId': 24331, 'timeout': -1}}\n",
      "10: Read {'id': 1, 'timestamp': 1626799678.8174262, 'parameters': {'commander': 1, 'sequenceId': 24332, 'timeout': -1}}\n",
      "10: Read {'id': 1, 'timestamp': 1626799678.967278, 'parameters': {'commander': 1, 'sequenceId': 24333, 'timeout': -1}}\n",
      "10: Read {'id': 1, 'timestamp': 1626799679.1173847, 'parameters': {'commander': 1, 'sequenceId': 24334, 'timeout': -1}}\n",
      "10: Read {'id': 1, 'timestamp': 1626799679.267322, 'parameters': {'commander': 1, 'sequenceId': 24335, 'timeout': -1}}\n",
      "10: Read {'id': 1, 'timestamp': 1626799679.4171658, 'parameters': {'commander': 1, 'sequenceId': 24336, 'timeout': -1}}\n",
      "10: Read {'id': 1, 'timestamp': 1626799679.5668797, 'parameters': {'commander': 1, 'sequenceId': 24337, 'timeout': -1}}\n",
      "10: Read {'id': 1, 'timestamp': 1626799679.7171903, 'parameters': {'commander': 1, 'sequenceId': 24338, 'timeout': -1}}\n",
      "10: Read {'id': 1, 'timestamp': 1626799679.8674805, 'parameters': {'commander': 1, 'sequenceId': 24339, 'timeout': -1}}\n",
      "10: Read {'id': 1, 'timestamp': 1626799680.0177982, 'parameters': {'commander': 1, 'sequenceId': 24340, 'timeout': -1}}\n",
      "10: Read {'id': 1, 'timestamp': 1626799680.1673377, 'parameters': {'commander': 1, 'sequenceId': 24341, 'timeout': -1}}\n",
      "10: Read {'id': 1, 'timestamp': 1626799680.3172324, 'parameters': {'commander': 1, 'sequenceId': 24342, 'timeout': -1}}\n",
      "10: Read {'id': 1, 'timestamp': 1626799680.4673214, 'parameters': {'commander': 1, 'sequenceId': 24343, 'timeout': -1}}\n",
      "10: Read {'id': 1, 'timestamp': 1626799680.6173046, 'parameters': {'commander': 1, 'sequenceId': 24344, 'timeout': -1}}\n",
      "10: Read {'id': 1, 'timestamp': 1626799680.7673383, 'parameters': {'commander': 1, 'sequenceId': 24345, 'timeout': -1}}\n",
      "10: Read {'id': 1, 'timestamp': 1626799680.917615, 'parameters': {'commander': 1, 'sequenceId': 24346, 'timeout': -1}}\n",
      "10: Read {'id': 1, 'timestamp': 1626799681.0678484, 'parameters': {'commander': 1, 'sequenceId': 24347, 'timeout': -1}}\n",
      "10: Read {'id': 1, 'timestamp': 1626799681.217685, 'parameters': {'commander': 1, 'sequenceId': 24348, 'timeout': -1}}\n",
      "10: Read {'id': 1, 'timestamp': 1626799681.3673084, 'parameters': {'commander': 1, 'sequenceId': 24349, 'timeout': -1}}\n",
      "10: Read {'id': 1, 'timestamp': 1626799681.5173914, 'parameters': {'commander': 1, 'sequenceId': 24350, 'timeout': -1}}\n",
      "10: Read {'id': 1, 'timestamp': 1626799681.6675453, 'parameters': {'commander': 1, 'sequenceId': 24351, 'timeout': -1}}\n",
      "10: Read {'id': 1, 'timestamp': 1626799681.8174875, 'parameters': {'commander': 1, 'sequenceId': 24352, 'timeout': -1}}\n",
      "10: Read {'id': 1, 'timestamp': 1626799681.9679708, 'parameters': {'commander': 1, 'sequenceId': 24353, 'timeout': -1}}\n",
      "10: Read {'id': 1, 'timestamp': 1626799682.11739, 'parameters': {'commander': 1, 'sequenceId': 24354, 'timeout': -1}}\n",
      "10: Read {'id': 1, 'timestamp': 1626799682.267369, 'parameters': {'commander': 1, 'sequenceId': 24355, 'timeout': -1}}\n",
      "10: Read {'id': 1, 'timestamp': 1626799682.4174058, 'parameters': {'commander': 1, 'sequenceId': 24356, 'timeout': -1}}\n",
      "10: Read {'id': 1, 'timestamp': 1626799682.5675406, 'parameters': {'commander': 1, 'sequenceId': 24357, 'timeout': -1}}\n",
      "10: Read {'id': 1, 'timestamp': 1626799682.7173452, 'parameters': {'commander': 1, 'sequenceId': 24358, 'timeout': -1}}\n",
      "10: Read {'id': 1, 'timestamp': 1626799682.8676333, 'parameters': {'commander': 1, 'sequenceId': 24359, 'timeout': -1}}\n",
      "10: Read {'id': 1, 'timestamp': 1626799683.01757, 'parameters': {'commander': 1, 'sequenceId': 24360, 'timeout': -1}}\n",
      "10: Read {'id': 1, 'timestamp': 1626799683.1677277, 'parameters': {'commander': 1, 'sequenceId': 24361, 'timeout': -1}}\n",
      "10: Read {'id': 1, 'timestamp': 1626799683.3175945, 'parameters': {'commander': 1, 'sequenceId': 24362, 'timeout': -1}}\n",
      "10: Read {'id': 1, 'timestamp': 1626799683.4677832, 'parameters': {'commander': 1, 'sequenceId': 24363, 'timeout': -1}}\n",
      "10: Read {'id': 1, 'timestamp': 1626799683.617782, 'parameters': {'commander': 1, 'sequenceId': 24364, 'timeout': -1}}\n",
      "10: Read {'id': 1, 'timestamp': 1626799683.7676854, 'parameters': {'commander': 1, 'sequenceId': 24365, 'timeout': -1}}\n",
      "10: Read {'id': 1, 'timestamp': 1626799683.9175377, 'parameters': {'commander': 1, 'sequenceId': 24366, 'timeout': -1}}\n",
      "10: Read {'id': 1, 'timestamp': 1626799684.0675445, 'parameters': {'commander': 1, 'sequenceId': 24367, 'timeout': -1}}\n",
      "10: Read {'id': 1, 'timestamp': 1626799684.2175589, 'parameters': {'commander': 1, 'sequenceId': 24368, 'timeout': -1}}\n",
      "10: Read {'id': 1, 'timestamp': 1626799684.3676047, 'parameters': {'commander': 1, 'sequenceId': 24369, 'timeout': -1}}\n",
      "10: Read {'id': 1, 'timestamp': 1626799684.517557, 'parameters': {'commander': 1, 'sequenceId': 24370, 'timeout': -1}}\n",
      "10: Read {'id': 1, 'timestamp': 1626799684.667786, 'parameters': {'commander': 1, 'sequenceId': 24371, 'timeout': -1}}\n",
      "10: Read {'id': 1, 'timestamp': 1626799684.81758, 'parameters': {'commander': 1, 'sequenceId': 24372, 'timeout': -1}}\n",
      "10: Read {'id': 1, 'timestamp': 1626799684.967757, 'parameters': {'commander': 1, 'sequenceId': 24373, 'timeout': -1}}\n",
      "10: Read {'id': 1, 'timestamp': 1626799685.1175425, 'parameters': {'commander': 1, 'sequenceId': 24374, 'timeout': -1}}\n",
      "10: Read {'id': 1, 'timestamp': 1626799685.26794, 'parameters': {'commander': 1, 'sequenceId': 24375, 'timeout': -1}}\n",
      "10: Read {'id': 1, 'timestamp': 1626799685.4176075, 'parameters': {'commander': 1, 'sequenceId': 24376, 'timeout': -1}}\n",
      "10: Read {'id': 1, 'timestamp': 1626799685.5678756, 'parameters': {'commander': 1, 'sequenceId': 24377, 'timeout': -1}}\n",
      "10: Read {'id': 1, 'timestamp': 1626799685.7177253, 'parameters': {'commander': 1, 'sequenceId': 24378, 'timeout': -1}}\n",
      "10: Read {'id': 1, 'timestamp': 1626799685.8680232, 'parameters': {'commander': 1, 'sequenceId': 24379, 'timeout': -1}}\n",
      "10: Read {'id': 1, 'timestamp': 1626799686.018259, 'parameters': {'commander': 1, 'sequenceId': 24380, 'timeout': -1}}\n",
      "10: Read {'id': 1, 'timestamp': 1626799686.1679914, 'parameters': {'commander': 1, 'sequenceId': 24381, 'timeout': -1}}\n",
      "10: Read {'id': 1, 'timestamp': 1626799686.3179526, 'parameters': {'commander': 1, 'sequenceId': 24382, 'timeout': -1}}\n",
      "10: Read {'id': 1, 'timestamp': 1626799686.4678082, 'parameters': {'commander': 1, 'sequenceId': 24383, 'timeout': -1}}\n",
      "10: Read {'id': 1, 'timestamp': 1626799686.6179273, 'parameters': {'commander': 1, 'sequenceId': 24384, 'timeout': -1}}\n",
      "10: Read {'id': 1, 'timestamp': 1626799686.7677693, 'parameters': {'commander': 1, 'sequenceId': 24385, 'timeout': -1}}\n",
      "10: Read {'id': 1, 'timestamp': 1626799686.9181159, 'parameters': {'commander': 1, 'sequenceId': 24386, 'timeout': -1}}\n",
      "10: Read {'id': 1, 'timestamp': 1626799687.0678346, 'parameters': {'commander': 1, 'sequenceId': 24387, 'timeout': -1}}\n",
      "10: Read {'id': 1, 'timestamp': 1626799687.2178504, 'parameters': {'commander': 1, 'sequenceId': 24388, 'timeout': -1}}\n",
      "10: Read {'id': 1, 'timestamp': 1626799687.367959, 'parameters': {'commander': 1, 'sequenceId': 24389, 'timeout': -1}}\n",
      "10: Read {'id': 1, 'timestamp': 1626799687.5178792, 'parameters': {'commander': 1, 'sequenceId': 24390, 'timeout': -1}}\n",
      "10: Read {'id': 1, 'timestamp': 1626799687.6678433, 'parameters': {'commander': 1, 'sequenceId': 24391, 'timeout': -1}}\n",
      "10: Read {'id': 1, 'timestamp': 1626799687.8179975, 'parameters': {'commander': 1, 'sequenceId': 24392, 'timeout': -1}}\n",
      "10: Read {'id': 1, 'timestamp': 1626799687.9679213, 'parameters': {'commander': 1, 'sequenceId': 24393, 'timeout': -1}}\n",
      "10: Read {'id': 1, 'timestamp': 1626799688.1178765, 'parameters': {'commander': 1, 'sequenceId': 24394, 'timeout': -1}}\n",
      "10: Read {'id': 1, 'timestamp': 1626799688.2680864, 'parameters': {'commander': 1, 'sequenceId': 24395, 'timeout': -1}}\n",
      "10: Read {'id': 1, 'timestamp': 1626799688.4180312, 'parameters': {'commander': 1, 'sequenceId': 24396, 'timeout': -1}}\n",
      "10: Read {'id': 1, 'timestamp': 1626799688.5682561, 'parameters': {'commander': 1, 'sequenceId': 24397, 'timeout': -1}}\n"
     ]
    }
   ],
   "source": [
    "a = await mount.evt_cameraCableWrapFollowing.aget()\n",
    "print(a.enabled, pd.to_datetime(a.private_sndStamp, unit='s'))\n",
    "\n",
    "#a = await mount.tel_elevation.next(flush=True, timeout=5.)\n",
    "#await mount.cmd_moveToTarget.set_start(azimuth=0, elevation=a.actualPosition-1)\n",
    "#await asyncio.sleep(1.0)\n",
    "#a = await mount.evt_cameraCableWrapFollowing.aget()\n",
    "#print(a.enabled, pd.to_datetime(a.private_sndStamp, unit='s'))"
   ]
  },
  {
   "cell_type": "code",
   "execution_count": null,
   "id": "13e31d07",
   "metadata": {},
   "outputs": [],
   "source": [
    "a = await mount.evt_logMessage.aget()\n",
    "print(a.message)"
   ]
  },
  {
   "cell_type": "markdown",
   "id": "3c36b32c",
   "metadata": {},
   "source": [
    "#### Do 4 slews, then stop tracking"
   ]
  },
  {
   "cell_type": "code",
   "execution_count": 18,
   "id": "cfb47b8d",
   "metadata": {},
   "outputs": [
    {
     "data": {
      "text/plain": [
       "<ddsutil.MTRotator_ackcmd_55ad33c7 at 0x7fbb7d2e11f0>"
      ]
     },
     "execution_count": 18,
     "metadata": {},
     "output_type": "execute_result"
    }
   ],
   "source": [
    "await rot.cmd_move.set_start(position=0, timeout=30.)"
   ]
  },
  {
   "cell_type": "code",
   "execution_count": 19,
   "id": "7e7b4899",
   "metadata": {},
   "outputs": [
    {
     "name": "stdout",
     "output_type": "stream",
     "text": [
      "rot in position? False 2021-07-20 16:48:42.069686528\n",
      "rot in position? True 2021-07-20 16:48:48.419933184\n"
     ]
    }
   ],
   "source": [
    "rot.evt_inPosition.flush()\n",
    "await rot.cmd_move.set_start(position=10., timeout = 30)\n",
    "while True:\n",
    "    state = await rot.evt_inPosition.next(flush=False, timeout=30)\n",
    "    print('rot in position?', state.inPosition, pd.to_datetime(state.private_sndStamp, unit='s'))\n",
    "    if (state.inPosition):\n",
    "        break"
   ]
  },
  {
   "cell_type": "code",
   "execution_count": 23,
   "id": "b622b2d8",
   "metadata": {},
   "outputs": [
    {
     "name": "stdout",
     "output_type": "stream",
     "text": [
      "CCW folowing?  1 2021-07-20 16:46:36.794967552\n",
      "No inPosition event seen. Continuing\n",
      "start a slew, elevation diff =  0.07696001442772626 2021-07-20 16:58:35.452298\n",
      "CCW folowing?  1 2021-07-20 16:46:36.794967552\n",
      "rot =  10.0\n"
     ]
    },
    {
     "name": "stderr",
     "output_type": "stream",
     "text": [
      "Got False\n",
      "Got True\n",
      "Rotator in position.\n",
      "Waiting for telescope to settle.\n",
      "Telescope in position.\n"
     ]
    },
    {
     "name": "stdout",
     "output_type": "stream",
     "text": [
      "CCW folowing?  1 2021-07-20 16:46:36.794967552\n",
      "moving from elevation 82.7 deg to 84.8 deg 2021-07-20 16:59:42.334291\n",
      "This will run for 98 seconds\n",
      "rot in position? True 2021-07-20 17:02:24.687124736\n",
      "start a slew, elevation diff =  0.07748745930851442 2021-07-20 17:01:47.695666\n",
      "CCW folowing?  1 2021-07-20 16:46:36.794967552\n",
      "rot =  10.0\n"
     ]
    },
    {
     "name": "stderr",
     "output_type": "stream",
     "text": [
      "Got False\n",
      "Got True\n",
      "Rotator in position.\n",
      "Waiting for telescope to settle.\n",
      "Telescope in position.\n"
     ]
    },
    {
     "name": "stdout",
     "output_type": "stream",
     "text": [
      "CCW folowing?  1 2021-07-20 16:46:36.794967552\n",
      "moving from elevation 84.9 deg to 82.4 deg 2021-07-20 17:02:56.377883\n",
      "This will run for 120 seconds\n",
      "rot in position? True 2021-07-20 17:06:23.556926208\n",
      "start a slew, elevation diff =  0.07255114417604602 2021-07-20 17:05:46.564718\n",
      "CCW folowing?  1 2021-07-20 16:46:36.794967552\n",
      "rot =  10.0\n"
     ]
    },
    {
     "name": "stderr",
     "output_type": "stream",
     "text": [
      "Got False\n",
      "Got True\n",
      "Rotator in position.\n",
      "Waiting for telescope to settle.\n",
      "Telescope in position.\n"
     ]
    },
    {
     "name": "stdout",
     "output_type": "stream",
     "text": [
      "CCW folowing?  1 2021-07-20 16:46:36.794967552\n",
      "moving from elevation 82.6 deg to 84.8 deg 2021-07-20 17:06:53.081753\n",
      "This will run for 102 seconds\n",
      "rot in position? True 2021-07-20 17:10:00.224952064\n",
      "start a slew, elevation diff =  0.09281566069735447 2021-07-20 17:09:23.233408\n",
      "CCW folowing?  1 2021-07-20 16:46:36.794967552\n",
      "rot =  10.0\n"
     ]
    },
    {
     "name": "stderr",
     "output_type": "stream",
     "text": [
      "Got False\n",
      "Got True\n",
      "Rotator in position.\n",
      "Waiting for telescope to settle.\n",
      "Telescope in position.\n"
     ]
    }
   ],
   "source": [
    "dec = -34.\n",
    "for j in range(2):\n",
    "    for i in range(2):\n",
    "        \n",
    "        a = await mount.evt_cameraCableWrapFollowing.aget()\n",
    "        print('CCW folowing? ', a.enabled, pd.to_datetime(a.private_sndStamp, unit='s'))\n",
    "        if not a.enabled:\n",
    "            break\n",
    "        time_and_date = await mtcs.rem.mtptg.tel_timeAndDate.next(flush=True, timeout=5)\n",
    "        ra = time_and_date.lst + 0.5 - 3.5/15.0 * i\n",
    "        \n",
    "        aa = await mount.tel_elevation.next(flush=True, timeout=5.)\n",
    "        current_el = aa.actualPosition\n",
    "        \n",
    "        obs_time = salobj.astropy_time_from_tai_unix(salobj.current_tai() + 0.) #with 0s delay\n",
    "        azel = mtcs.azel_from_radec(ra=ra, dec=dec, time=obs_time)\n",
    "        target_el = azel.alt.value\n",
    "        \n",
    "        while abs(target_el - current_el)>0.3:\n",
    "            print('moving from elevation %.1f deg to %.1f deg'%(current_el, target_el), Time.now())\n",
    "            await moveMountConstantV(mount, current_el, target_el)\n",
    "        \n",
    "            aa = await mount.tel_elevation.next(flush=True, timeout=5.)\n",
    "            current_el = aa.actualPosition\n",
    "        \n",
    "            time_and_date = await mtcs.rem.mtptg.tel_timeAndDate.next(flush=True, timeout=5)\n",
    "            ra = time_and_date.lst + 0.5 - 3.5/15.0 * i\n",
    "    \n",
    "            obs_time = salobj.astropy_time_from_tai_unix(salobj.current_tai() + 0.) #with 0s delay\n",
    "            azel = mtcs.azel_from_radec(ra=ra, dec=dec, time=obs_time)\n",
    "            target_el = azel.alt.value\n",
    "        \n",
    "        rot.evt_inPosition.flush()\n",
    "        await rot.cmd_move.set_start(position=10., timeout = 30)\n",
    "        while True:\n",
    "            try:\n",
    "                state = await rot.evt_inPosition.next(flush=False, timeout=30)\n",
    "            except asyncio.TimeoutError:\n",
    "                print(\"No inPosition event seen. Continuing\")    \n",
    "                break\n",
    "            print('rot in position?', state.inPosition, pd.to_datetime(state.private_sndStamp, unit='s'))\n",
    "            if (state.inPosition):\n",
    "                break\n",
    "        \n",
    "        print('start a slew, elevation diff = ', abs(target_el - current_el), Time.now())\n",
    "        a = await mount.evt_cameraCableWrapFollowing.aget()\n",
    "        print('CCW folowing? ', a.enabled, pd.to_datetime(a.private_sndStamp, unit='s'))\n",
    "        if not a.enabled:\n",
    "            break\n",
    "        rotAngle = 10.0\n",
    "        print('rot = ', rotAngle)\n",
    "        #b = await mount.tel_cameraCableWrap.next(flush=True, timeout=5) #CCW doesn't follow rotator!!!\n",
    "        # await mtcs.slew_icrs(ra=ra, dec=dec, rot=b.actualPosition, rot_type=RotType.PhysicalSky)\n",
    "        await mtcs.slew_icrs(ra=ra, dec=dec, rot=rotAngle, rot_type=RotType.PhysicalSky)\n",
    "        #await mtcs.slew_icrs(ra=ra, dec=dec, rot=0.0, rot_type=RotType.Physical)\n",
    "        await asyncio.sleep(39.)\n",
    "        await mtcs.stop_tracking()"
   ]
  },
  {
   "cell_type": "code",
   "execution_count": 29,
   "id": "eb98bf72",
   "metadata": {},
   "outputs": [
    {
     "name": "stdout",
     "output_type": "stream",
     "text": [
      "CCW folowing?  1 2021-07-20 16:46:36.794967552\n",
      "rot in position? True 2021-07-20 17:23:52.793615872\n",
      "start a slew, elevation diff =  0.17188417604749873 2021-07-20 17:23:15.808775\n",
      "CCW folowing?  1 2021-07-20 16:46:36.794967552\n",
      "rot =  10.0\n"
     ]
    },
    {
     "name": "stderr",
     "output_type": "stream",
     "text": [
      "Got False\n",
      "Waiting for telescope to settle.\n",
      "Telescope in position.\n",
      "Got True\n",
      "Rotator in position.\n"
     ]
    }
   ],
   "source": [
    "#Send the telescope to tracking\n",
    "a = await mount.evt_cameraCableWrapFollowing.aget()\n",
    "print('CCW folowing? ', a.enabled, pd.to_datetime(a.private_sndStamp, unit='s'))\n",
    "#if not a.enabled:\n",
    "#    break\n",
    "time_and_date = await mtcs.rem.mtptg.tel_timeAndDate.next(flush=True, timeout=5)\n",
    "ra = time_and_date.lst + 0.5 - 3.5/15.0 * i\n",
    "\n",
    "aa = await mount.tel_elevation.next(flush=True, timeout=5.)\n",
    "current_el = aa.actualPosition\n",
    "\n",
    "obs_time = salobj.astropy_time_from_tai_unix(salobj.current_tai() + 0.) #with 0s delay\n",
    "azel = mtcs.azel_from_radec(ra=ra, dec=dec, time=obs_time)\n",
    "target_el = azel.alt.value\n",
    "\n",
    "while abs(target_el - current_el)>0.3:\n",
    "    print('moving from elevation %.1f deg to %.1f deg'%(current_el, target_el), Time.now())\n",
    "    await moveMountConstantV(mount, current_el, target_el)\n",
    "\n",
    "    aa = await mount.tel_elevation.next(flush=True, timeout=5.)\n",
    "    current_el = aa.actualPosition\n",
    "\n",
    "    time_and_date = await mtcs.rem.mtptg.tel_timeAndDate.next(flush=True, timeout=5)\n",
    "    ra = time_and_date.lst + 0.5 - 3.5/15.0 * i\n",
    "\n",
    "    obs_time = salobj.astropy_time_from_tai_unix(salobj.current_tai() + 0.) #with 0s delay\n",
    "    azel = mtcs.azel_from_radec(ra=ra, dec=dec, time=obs_time)\n",
    "    target_el = azel.alt.value\n",
    "\n",
    "rot.evt_inPosition.flush()\n",
    "await rot.cmd_move.set_start(position=10., timeout = 30)\n",
    "while True:\n",
    "    try:\n",
    "        state = await rot.evt_inPosition.next(flush=False, timeout=30)\n",
    "    except asyncio.TimeoutError:\n",
    "        print(\"No inPosition event seen. Continuing\")    \n",
    "        break\n",
    "    print('rot in position?', state.inPosition, pd.to_datetime(state.private_sndStamp, unit='s'))\n",
    "    if (state.inPosition):\n",
    "        break\n",
    "\n",
    "print('start a slew, elevation diff = ', abs(target_el - current_el), Time.now())\n",
    "a = await mount.evt_cameraCableWrapFollowing.aget()\n",
    "print('CCW folowing? ', a.enabled, pd.to_datetime(a.private_sndStamp, unit='s'))\n",
    "#if not a.enabled:\n",
    "    #break\n",
    "rotAngle = 10.0\n",
    "print('rot = ', rotAngle)\n",
    "#b = await mount.tel_cameraCableWrap.next(flush=True, timeout=5) #CCW doesn't follow rotator!!!\n",
    "# await mtcs.slew_icrs(ra=ra, dec=dec, rot=b.actualPosition, rot_type=RotType.PhysicalSky)\n",
    "await mtcs.slew_icrs(ra=ra, dec=dec, rot=rotAngle, rot_type=RotType.PhysicalSky)\n",
    "#await mtcs.slew_icrs(ra=ra, dec=dec, rot=0.0, rot_type=RotType.Physical)\n",
    "await asyncio.sleep(39.)"
   ]
  },
  {
   "cell_type": "code",
   "execution_count": 40,
   "id": "7bcd3416",
   "metadata": {},
   "outputs": [],
   "source": [
    "await mtcs.stop_tracking()"
   ]
  },
  {
   "cell_type": "code",
   "execution_count": 24,
   "id": "bb9b2d35",
   "metadata": {},
   "outputs": [
    {
     "name": "stdout",
     "output_type": "stream",
     "text": [
      "Camera cable wrap telemetry is too old: dt=1861.51021027565; abs(dt) > 1 2021-07-15 16:04:09.869033216\n",
      "CCW folowing?  1 2021-07-20 16:46:36.794967552\n"
     ]
    }
   ],
   "source": [
    "await showSlewError(ptg, mount, rot)"
   ]
  },
  {
   "cell_type": "code",
   "execution_count": 25,
   "id": "e951e510",
   "metadata": {},
   "outputs": [
    {
     "name": "stdout",
     "output_type": "stream",
     "text": [
      "staring with: ptg state State.ENABLED 2021-07-20 16:38:09.801031168\n",
      "staring with: mount state State.ENABLED 2021-07-20 16:46:36.796051456\n",
      "staring with: rot state State.ENABLED 2021-07-20 16:37:52.965134080\n"
     ]
    }
   ],
   "source": [
    "await checkSlewCompStates(ptg, mount, rot)"
   ]
  },
  {
   "cell_type": "code",
   "execution_count": null,
   "id": "377bee70",
   "metadata": {},
   "outputs": [],
   "source": [
    "a = await rot.evt_errorCode.aget()\n",
    "print(a.errorReport, pd.to_datetime(a.private_sndStamp, unit='s'))\n",
    "a = await rot.evt_logMessage.aget()\n",
    "print(a.message, pd.to_datetime(a.private_sndStamp, unit='s'))\n",
    "import lsst.ts.idl.enums.MTRotator as enum_rot\n",
    "a = await rot.evt_controllerState.aget()\n",
    "print(a.applicationStatus, pd.to_datetime(a.private_sndStamp, unit='s'))\n",
    "enum_rot.ApplicationStatus(a.applicationStatus)"
   ]
  },
  {
   "cell_type": "code",
   "execution_count": null,
   "id": "ddce2d18",
   "metadata": {},
   "outputs": [],
   "source": [
    "a = await camhex.evt_errorCode.aget()\n",
    "print(a.errorReport, pd.to_datetime(a.private_sndStamp, unit='s'))"
   ]
  },
  {
   "cell_type": "code",
   "execution_count": null,
   "id": "da9a5674",
   "metadata": {},
   "outputs": [],
   "source": [
    "import lsst.ts.idl.enums.MTHexapod as enum_hex\n",
    "a = await camhex.evt_controllerState.aget()\n",
    "print(a.applicationStatus, pd.to_datetime(a.private_sndStamp, unit='s'))\n",
    "enum_hex.ApplicationStatus(a.applicationStatus[0])"
   ]
  },
  {
   "cell_type": "code",
   "execution_count": null,
   "id": "cd9fc251",
   "metadata": {},
   "outputs": [],
   "source": [
    "await rot.cmd_clearError.set_start()"
   ]
  },
  {
   "cell_type": "code",
   "execution_count": null,
   "id": "f9ae0044",
   "metadata": {},
   "outputs": [],
   "source": [
    "await checkSlewCompStates(ptg, mount, rot)"
   ]
  },
  {
   "cell_type": "code",
   "execution_count": null,
   "id": "30b12c08",
   "metadata": {},
   "outputs": [],
   "source": [
    "await salobj.set_summary_state(rot, state=salobj.State.ENABLED)"
   ]
  },
  {
   "cell_type": "code",
   "execution_count": null,
   "id": "1ff1a857",
   "metadata": {},
   "outputs": [],
   "source": [
    "await salobj.set_summary_state(ptg, state=salobj.State.ENABLED)"
   ]
  },
  {
   "cell_type": "code",
   "execution_count": null,
   "id": "2f4b652c",
   "metadata": {},
   "outputs": [],
   "source": [
    "await salobj.set_summary_state(mount, state=salobj.State.DISABLED)"
   ]
  },
  {
   "cell_type": "code",
   "execution_count": null,
   "id": "26e387a0",
   "metadata": {},
   "outputs": [],
   "source": [
    "await salobj.set_summary_state(mount, state=salobj.State.ENABLED)"
   ]
  },
  {
   "cell_type": "code",
   "execution_count": null,
   "id": "8d2eaaf2",
   "metadata": {},
   "outputs": [],
   "source": []
  },
  {
   "cell_type": "code",
   "execution_count": null,
   "id": "e3742d3f",
   "metadata": {},
   "outputs": [],
   "source": [
    "await mount.cmd_enableCameraCableWrapFollowing.set_start()"
   ]
  },
  {
   "cell_type": "code",
   "execution_count": null,
   "id": "a2cf8513",
   "metadata": {},
   "outputs": [],
   "source": [
    "await mtcs.enable_ccw_following()"
   ]
  },
  {
   "cell_type": "code",
   "execution_count": null,
   "id": "ca78c4d9",
   "metadata": {},
   "outputs": [],
   "source": []
  },
  {
   "cell_type": "code",
   "execution_count": null,
   "id": "a31b8d6a",
   "metadata": {},
   "outputs": [],
   "source": [
    "def printLogMessage(data):\n",
    "    print(f\"{data.level}: {data.message}\")\n",
    "rot.evt_logMessage.callback = printLogMessage\n",
    "await rot.cmd_setLogLevel.set_start(level=10, timeout=5)"
   ]
  },
  {
   "cell_type": "code",
   "execution_count": null,
   "id": "8af77586",
   "metadata": {},
   "outputs": [],
   "source": []
  },
  {
   "cell_type": "code",
   "execution_count": null,
   "id": "e97c7674",
   "metadata": {},
   "outputs": [],
   "source": [
    "await camhex.cmd_clearError.set_start()"
   ]
  },
  {
   "cell_type": "code",
   "execution_count": null,
   "id": "e89403f4",
   "metadata": {},
   "outputs": [],
   "source": [
    "await checkAOSCompStates(m1m3,m2,camhex,m2hex)"
   ]
  },
  {
   "cell_type": "code",
   "execution_count": null,
   "id": "58cc0f88",
   "metadata": {},
   "outputs": [],
   "source": [
    "await salobj.set_summary_state(camhex, state=salobj.State.ENABLED)"
   ]
  },
  {
   "cell_type": "code",
   "execution_count": null,
   "id": "473dbe54",
   "metadata": {},
   "outputs": [],
   "source": []
  },
  {
   "cell_type": "code",
   "execution_count": null,
   "id": "2156281e",
   "metadata": {},
   "outputs": [],
   "source": [
    "await mtcs.stop_tracking()"
   ]
  },
  {
   "cell_type": "code",
   "execution_count": null,
   "id": "24d9daf4",
   "metadata": {},
   "outputs": [],
   "source": []
  },
  {
   "cell_type": "code",
   "execution_count": null,
   "id": "48b10fe5",
   "metadata": {},
   "outputs": [],
   "source": [
    "await mtcs.enable_ccw_following()"
   ]
  },
  {
   "cell_type": "code",
   "execution_count": null,
   "id": "027f1925",
   "metadata": {},
   "outputs": [],
   "source": [
    "a =await mount.evt_logMessage.aget()\n",
    "a.message, pd.to_datetime(a.private_sndStamp, unit='s')"
   ]
  },
  {
   "cell_type": "code",
   "execution_count": null,
   "id": "0c24f974",
   "metadata": {},
   "outputs": [],
   "source": [
    "a = await rot.evt_errorCode.aget()\n",
    "print(a.errorReport, pd.to_datetime(a.private_sndStamp, unit='s'))"
   ]
  },
  {
   "cell_type": "code",
   "execution_count": null,
   "id": "cb1aa58c",
   "metadata": {},
   "outputs": [],
   "source": [
    "from lsst.ts.idl.enums.MTRotator import ApplicationStatus\n",
    "a = await rot.evt_controllerState.aget()\n",
    "print(a.applicationStatus, pd.to_datetime(a.private_sndStamp, unit='s'))"
   ]
  },
  {
   "cell_type": "code",
   "execution_count": null,
   "id": "8b3a8feb",
   "metadata": {},
   "outputs": [],
   "source": [
    "ApplicationStatus(a.applicationStatus)"
   ]
  },
  {
   "cell_type": "code",
   "execution_count": null,
   "id": "a3dd0a6a",
   "metadata": {},
   "outputs": [],
   "source": [
    "await rot.cmd_clearError.set_start()"
   ]
  },
  {
   "cell_type": "code",
   "execution_count": null,
   "id": "efe76b61",
   "metadata": {},
   "outputs": [],
   "source": [
    "a = await m1m3.evt_errorCode.aget()\n",
    "print(a.errorReport, pd.to_datetime(a.private_sndStamp, unit='s'))"
   ]
  },
  {
   "cell_type": "markdown",
   "id": "12e8a27c",
   "metadata": {},
   "source": [
    "#### Plot the above process"
   ]
  },
  {
   "cell_type": "code",
   "execution_count": null,
   "id": "f593b50a",
   "metadata": {},
   "outputs": [],
   "source": [
    "#end = Time(datetime.now(), scale='tai')\n",
    "end = Time('2021-07-13T19:18:00', scale='tai')\n",
    "start = end - timedelta(seconds=1000)"
   ]
  },
  {
   "cell_type": "code",
   "execution_count": null,
   "id": "9bdceb64",
   "metadata": {},
   "outputs": [],
   "source": [
    "dfm2"
   ]
  },
  {
   "cell_type": "code",
   "execution_count": null,
   "id": "487b344b",
   "metadata": {},
   "outputs": [],
   "source": [
    "dfm = await client.select_time_series('lsst.sal.MTMount.elevation', '*', start, end, csc_index)\n",
    "dfm1m3 = await client.select_time_series('lsst.sal.MTM1M3.logevent_appliedElevationForces', '*', start, end, csc_index)\n",
    "dfm2 = await client.select_time_series('lsst.sal.MTM2.axialForce', '*', start, end, csc_index)\n",
    "dfh = await client.select_time_series('lsst.sal.MTHexapod.application', '*', start, end, csc_index)\n",
    "\n",
    "idx1=dfh.MTHexapodID==1\n",
    "dfh1 = dfh[idx1]\n",
    "idx2=dfh.MTHexapodID==2\n",
    "dfh2 = dfh[idx2]"
   ]
  },
  {
   "cell_type": "code",
   "execution_count": null,
   "id": "9e6fb40c",
   "metadata": {},
   "outputs": [],
   "source": [
    "fig, ax = plt.subplots(1,1, figsize=(15,4))\n",
    "plt.plot((dfm.actualPosition-dfm.actualPosition[0])*100, '--', label='mount elevation x 100 (deg)')\n",
    "plt.plot(dfm1m3.yForces0-dfm1m3.yForces0[0], label='M1M3 elevation y-force 101 (N)')\n",
    "plt.plot((dfm2.lutGravity0-dfm2.lutGravity0[0])*10, label='M2 elevation force B1 x 10 (N)')\n",
    "plt.plot(dfh1.position1-dfh1.position1[0], label='Camera hexapod y (um)')\n",
    "plt.plot(dfh2.position1-dfh2.position1[0], label='M2 hexapod y (um)')\n",
    "plt.grid()\n",
    "plt.legend()\n",
    "plt.title('Changes in telemetry')"
   ]
  },
  {
   "cell_type": "markdown",
   "id": "7dbf3f4d",
   "metadata": {},
   "source": [
    "#### Check if the telescope is in tracking mode. If yes, need to stop stacking.\n",
    "\n",
    "The alternative is to check \"MT Mount status\" dash board on Chronograf. Make sure there are three \"False\"."
   ]
  },
  {
   "cell_type": "code",
   "execution_count": null,
   "id": "7ac42f5f",
   "metadata": {},
   "outputs": [],
   "source": [
    "mountStatus = await mount.evt_axesInPosition.aget(timeout=5.)\n",
    "rotStatus = await rot.evt_inPosition.aget(timeout=5.)\n",
    "trackingStatus = mountStatus.elevation and mountStatus.azimuth and rotStatus.inPosition\n",
    "print('Are we tracking?', trackingStatus)"
   ]
  },
  {
   "cell_type": "code",
   "execution_count": null,
   "id": "b089f19d",
   "metadata": {},
   "outputs": [],
   "source": [
    "await mtcs.stop_tracking()"
   ]
  },
  {
   "cell_type": "markdown",
   "id": "78ae5b02",
   "metadata": {},
   "source": [
    "### put mount elevation back to 90 deg, so that we can lower M1M3"
   ]
  },
  {
   "cell_type": "code",
   "execution_count": null,
   "id": "5fe27744",
   "metadata": {},
   "outputs": [],
   "source": [
    "aa = await mount.tel_elevation.next(flush=True, timeout=5.)\n",
    "current_el = aa.actualPosition"
   ]
  },
  {
   "cell_type": "code",
   "execution_count": null,
   "id": "e3e8638c",
   "metadata": {},
   "outputs": [],
   "source": [
    "await moveMountConstantV(mount,current_el, 90)"
   ]
  },
  {
   "cell_type": "code",
   "execution_count": null,
   "id": "6b6ec474",
   "metadata": {},
   "outputs": [],
   "source": [
    "await lowerM1M3(m1m3)"
   ]
  },
  {
   "cell_type": "markdown",
   "id": "ed925ac8",
   "metadata": {},
   "source": [
    "#### Close up. Put all simulators to standby"
   ]
  },
  {
   "cell_type": "code",
   "execution_count": 40,
   "id": "65a4b978",
   "metadata": {},
   "outputs": [],
   "source": [
    "await mtcs.stop_tracking()"
   ]
  },
  {
   "cell_type": "code",
   "execution_count": 41,
   "id": "b6bb52e0",
   "metadata": {},
   "outputs": [
    {
     "data": {
      "text/plain": [
       "[<State.FAULT: 3>, <State.STANDBY: 5>]"
      ]
     },
     "execution_count": 41,
     "metadata": {},
     "output_type": "execute_result"
    }
   ],
   "source": [
    "await salobj.set_summary_state(ptg, salobj.State.STANDBY)"
   ]
  },
  {
   "cell_type": "code",
   "execution_count": 42,
   "id": "d230e679",
   "metadata": {},
   "outputs": [
    {
     "ename": "RuntimeError",
     "evalue": "Error on cmd=cmd_disable, initial_state=2: msg='Command failed', ackcmd=(ackcmd private_seqNum=480200103, ack=<SalRetCode.CMD_FAILED: -302>, error=1, result='Failed: Controller is not connected')",
     "output_type": "error",
     "traceback": [
      "\u001b[0;31m---------------------------------------------------------------------------\u001b[0m",
      "\u001b[0;31mAckError\u001b[0m                                  Traceback (most recent call last)",
      "\u001b[0;32m/opt/lsst/software/stack/conda/miniconda3-py38_4.9.2/envs/lsst-scipipe-0.6.0/lib/python3.8/site-packages/lsst/ts/salobj/csc_utils.py\u001b[0m in \u001b[0;36mset_summary_state\u001b[0;34m(remote, state, settingsToApply, timeout)\u001b[0m\n\u001b[1;32m    147\u001b[0m             \u001b[0;32mtry\u001b[0m\u001b[0;34m:\u001b[0m\u001b[0;34m\u001b[0m\u001b[0;34m\u001b[0m\u001b[0m\n\u001b[0;32m--> 148\u001b[0;31m                 \u001b[0;32mawait\u001b[0m \u001b[0mcmd\u001b[0m\u001b[0;34m.\u001b[0m\u001b[0mstart\u001b[0m\u001b[0;34m(\u001b[0m\u001b[0mtimeout\u001b[0m\u001b[0;34m=\u001b[0m\u001b[0mtimeout\u001b[0m\u001b[0;34m)\u001b[0m\u001b[0;34m\u001b[0m\u001b[0;34m\u001b[0m\u001b[0m\n\u001b[0m\u001b[1;32m    149\u001b[0m             \u001b[0;32mexcept\u001b[0m \u001b[0mException\u001b[0m \u001b[0;32mas\u001b[0m \u001b[0me\u001b[0m\u001b[0;34m:\u001b[0m\u001b[0;34m\u001b[0m\u001b[0;34m\u001b[0m\u001b[0m\n",
      "\u001b[0;32m/opt/lsst/software/stack/conda/miniconda3-py38_4.9.2/envs/lsst-scipipe-0.6.0/lib/python3.8/site-packages/lsst/ts/salobj/topics/remote_command.py\u001b[0m in \u001b[0;36mstart\u001b[0;34m(self, data, timeout, wait_done)\u001b[0m\n\u001b[1;32m    448\u001b[0m         \u001b[0mself\u001b[0m\u001b[0;34m.\u001b[0m\u001b[0msalinfo\u001b[0m\u001b[0;34m.\u001b[0m\u001b[0m_running_cmds\u001b[0m\u001b[0;34m[\u001b[0m\u001b[0mseq_num\u001b[0m\u001b[0;34m]\u001b[0m \u001b[0;34m=\u001b[0m \u001b[0mcmd_info\u001b[0m\u001b[0;34m\u001b[0m\u001b[0;34m\u001b[0m\u001b[0m\n\u001b[0;32m--> 449\u001b[0;31m         \u001b[0;32mreturn\u001b[0m \u001b[0;32mawait\u001b[0m \u001b[0mcmd_info\u001b[0m\u001b[0;34m.\u001b[0m\u001b[0mnext_ackcmd\u001b[0m\u001b[0;34m(\u001b[0m\u001b[0mtimeout\u001b[0m\u001b[0;34m=\u001b[0m\u001b[0mtimeout\u001b[0m\u001b[0;34m)\u001b[0m\u001b[0;34m\u001b[0m\u001b[0;34m\u001b[0m\u001b[0m\n\u001b[0m",
      "\u001b[0;32m/opt/lsst/software/stack/conda/miniconda3-py38_4.9.2/envs/lsst-scipipe-0.6.0/lib/python3.8/site-packages/lsst/ts/salobj/topics/remote_command.py\u001b[0m in \u001b[0;36mnext_ackcmd\u001b[0;34m(self, timeout)\u001b[0m\n\u001b[1;32m    181\u001b[0m             \u001b[0;32mif\u001b[0m \u001b[0mackcmd\u001b[0m\u001b[0;34m.\u001b[0m\u001b[0mack\u001b[0m \u001b[0;32min\u001b[0m \u001b[0mself\u001b[0m\u001b[0;34m.\u001b[0m\u001b[0mfailed_ack_codes\u001b[0m\u001b[0;34m:\u001b[0m\u001b[0;34m\u001b[0m\u001b[0;34m\u001b[0m\u001b[0m\n\u001b[0;32m--> 182\u001b[0;31m                 \u001b[0;32mraise\u001b[0m \u001b[0mbase\u001b[0m\u001b[0;34m.\u001b[0m\u001b[0mAckError\u001b[0m\u001b[0;34m(\u001b[0m\u001b[0mmsg\u001b[0m\u001b[0;34m=\u001b[0m\u001b[0;34m\"Command failed\"\u001b[0m\u001b[0;34m,\u001b[0m \u001b[0mackcmd\u001b[0m\u001b[0;34m=\u001b[0m\u001b[0mackcmd\u001b[0m\u001b[0;34m)\u001b[0m\u001b[0;34m\u001b[0m\u001b[0;34m\u001b[0m\u001b[0m\n\u001b[0m\u001b[1;32m    183\u001b[0m             \u001b[0;32mreturn\u001b[0m \u001b[0mackcmd\u001b[0m\u001b[0;34m\u001b[0m\u001b[0;34m\u001b[0m\u001b[0m\n",
      "\u001b[0;31mAckError\u001b[0m: msg='Command failed', ackcmd=(ackcmd private_seqNum=480200103, ack=<SalRetCode.CMD_FAILED: -302>, error=1, result='Failed: Controller is not connected')",
      "\nThe above exception was the direct cause of the following exception:\n",
      "\u001b[0;31mRuntimeError\u001b[0m                              Traceback (most recent call last)",
      "\u001b[0;32m<ipython-input-42-7527129f927b>\u001b[0m in \u001b[0;36m<module>\u001b[0;34m\u001b[0m\n\u001b[0;32m----> 1\u001b[0;31m \u001b[0;32mawait\u001b[0m \u001b[0msalobj\u001b[0m\u001b[0;34m.\u001b[0m\u001b[0mset_summary_state\u001b[0m\u001b[0;34m(\u001b[0m\u001b[0mrot\u001b[0m\u001b[0;34m,\u001b[0m \u001b[0msalobj\u001b[0m\u001b[0;34m.\u001b[0m\u001b[0mState\u001b[0m\u001b[0;34m.\u001b[0m\u001b[0mOFFLINE\u001b[0m\u001b[0;34m)\u001b[0m\u001b[0;34m\u001b[0m\u001b[0;34m\u001b[0m\u001b[0m\n\u001b[0m",
      "\u001b[0;32m/opt/lsst/software/stack/conda/miniconda3-py38_4.9.2/envs/lsst-scipipe-0.6.0/lib/python3.8/site-packages/lsst/ts/salobj/csc_utils.py\u001b[0m in \u001b[0;36mset_summary_state\u001b[0;34m(remote, state, settingsToApply, timeout)\u001b[0m\n\u001b[1;32m    148\u001b[0m                 \u001b[0;32mawait\u001b[0m \u001b[0mcmd\u001b[0m\u001b[0;34m.\u001b[0m\u001b[0mstart\u001b[0m\u001b[0;34m(\u001b[0m\u001b[0mtimeout\u001b[0m\u001b[0;34m=\u001b[0m\u001b[0mtimeout\u001b[0m\u001b[0;34m)\u001b[0m\u001b[0;34m\u001b[0m\u001b[0;34m\u001b[0m\u001b[0m\n\u001b[1;32m    149\u001b[0m             \u001b[0;32mexcept\u001b[0m \u001b[0mException\u001b[0m \u001b[0;32mas\u001b[0m \u001b[0me\u001b[0m\u001b[0;34m:\u001b[0m\u001b[0;34m\u001b[0m\u001b[0;34m\u001b[0m\u001b[0m\n\u001b[0;32m--> 150\u001b[0;31m                 raise RuntimeError(\n\u001b[0m\u001b[1;32m    151\u001b[0m                     \u001b[0;34mf\"Error on cmd=cmd_{command}, initial_state={current_state}: {e}\"\u001b[0m\u001b[0;34m\u001b[0m\u001b[0;34m\u001b[0m\u001b[0m\n\u001b[1;32m    152\u001b[0m                 ) from e\n",
      "\u001b[0;31mRuntimeError\u001b[0m: Error on cmd=cmd_disable, initial_state=2: msg='Command failed', ackcmd=(ackcmd private_seqNum=480200103, ack=<SalRetCode.CMD_FAILED: -302>, error=1, result='Failed: Controller is not connected')"
     ]
    }
   ],
   "source": [
    "await salobj.set_summary_state(rot, salobj.State.OFFLINE)"
   ]
  },
  {
   "cell_type": "code",
   "execution_count": 44,
   "id": "bba0f2eb",
   "metadata": {},
   "outputs": [
    {
     "data": {
      "text/plain": [
       "[<State.ENABLED: 2>, <State.DISABLED: 1>, <State.STANDBY: 5>]"
      ]
     },
     "execution_count": 44,
     "metadata": {},
     "output_type": "execute_result"
    }
   ],
   "source": [
    "await salobj.set_summary_state(camhex, salobj.State.STANDBY)"
   ]
  },
  {
   "cell_type": "code",
   "execution_count": 45,
   "id": "665759eb",
   "metadata": {},
   "outputs": [
    {
     "data": {
      "text/plain": [
       "[<State.ENABLED: 2>, <State.DISABLED: 1>, <State.STANDBY: 5>]"
      ]
     },
     "execution_count": 45,
     "metadata": {},
     "output_type": "execute_result"
    }
   ],
   "source": [
    "await salobj.set_summary_state(m2hex, salobj.State.STANDBY)"
   ]
  },
  {
   "cell_type": "code",
   "execution_count": 46,
   "id": "34cb5980",
   "metadata": {},
   "outputs": [
    {
     "ename": "RuntimeError",
     "evalue": "Error on cmd=cmd_standby, initial_state=2: msg='Command failed', ackcmd=(ackcmd private_seqNum=1839302522, ack=<SalRetCode.CMD_FAILED: -302>, error=0, result='Complete : Failed')",
     "output_type": "error",
     "traceback": [
      "\u001b[0;31m---------------------------------------------------------------------------\u001b[0m",
      "\u001b[0;31mAckError\u001b[0m                                  Traceback (most recent call last)",
      "\u001b[0;32m/opt/lsst/software/stack/conda/miniconda3-py38_4.9.2/envs/lsst-scipipe-0.6.0/lib/python3.8/site-packages/lsst/ts/salobj/csc_utils.py\u001b[0m in \u001b[0;36mset_summary_state\u001b[0;34m(remote, state, settingsToApply, timeout)\u001b[0m\n\u001b[1;32m    147\u001b[0m             \u001b[0;32mtry\u001b[0m\u001b[0;34m:\u001b[0m\u001b[0;34m\u001b[0m\u001b[0;34m\u001b[0m\u001b[0m\n\u001b[0;32m--> 148\u001b[0;31m                 \u001b[0;32mawait\u001b[0m \u001b[0mcmd\u001b[0m\u001b[0;34m.\u001b[0m\u001b[0mstart\u001b[0m\u001b[0;34m(\u001b[0m\u001b[0mtimeout\u001b[0m\u001b[0;34m=\u001b[0m\u001b[0mtimeout\u001b[0m\u001b[0;34m)\u001b[0m\u001b[0;34m\u001b[0m\u001b[0;34m\u001b[0m\u001b[0m\n\u001b[0m\u001b[1;32m    149\u001b[0m             \u001b[0;32mexcept\u001b[0m \u001b[0mException\u001b[0m \u001b[0;32mas\u001b[0m \u001b[0me\u001b[0m\u001b[0;34m:\u001b[0m\u001b[0;34m\u001b[0m\u001b[0;34m\u001b[0m\u001b[0m\n",
      "\u001b[0;32m/opt/lsst/software/stack/conda/miniconda3-py38_4.9.2/envs/lsst-scipipe-0.6.0/lib/python3.8/site-packages/lsst/ts/salobj/topics/remote_command.py\u001b[0m in \u001b[0;36mstart\u001b[0;34m(self, data, timeout, wait_done)\u001b[0m\n\u001b[1;32m    448\u001b[0m         \u001b[0mself\u001b[0m\u001b[0;34m.\u001b[0m\u001b[0msalinfo\u001b[0m\u001b[0;34m.\u001b[0m\u001b[0m_running_cmds\u001b[0m\u001b[0;34m[\u001b[0m\u001b[0mseq_num\u001b[0m\u001b[0;34m]\u001b[0m \u001b[0;34m=\u001b[0m \u001b[0mcmd_info\u001b[0m\u001b[0;34m\u001b[0m\u001b[0;34m\u001b[0m\u001b[0m\n\u001b[0;32m--> 449\u001b[0;31m         \u001b[0;32mreturn\u001b[0m \u001b[0;32mawait\u001b[0m \u001b[0mcmd_info\u001b[0m\u001b[0;34m.\u001b[0m\u001b[0mnext_ackcmd\u001b[0m\u001b[0;34m(\u001b[0m\u001b[0mtimeout\u001b[0m\u001b[0;34m=\u001b[0m\u001b[0mtimeout\u001b[0m\u001b[0;34m)\u001b[0m\u001b[0;34m\u001b[0m\u001b[0;34m\u001b[0m\u001b[0m\n\u001b[0m",
      "\u001b[0;32m/opt/lsst/software/stack/conda/miniconda3-py38_4.9.2/envs/lsst-scipipe-0.6.0/lib/python3.8/site-packages/lsst/ts/salobj/topics/remote_command.py\u001b[0m in \u001b[0;36mnext_ackcmd\u001b[0;34m(self, timeout)\u001b[0m\n\u001b[1;32m    181\u001b[0m             \u001b[0;32mif\u001b[0m \u001b[0mackcmd\u001b[0m\u001b[0;34m.\u001b[0m\u001b[0mack\u001b[0m \u001b[0;32min\u001b[0m \u001b[0mself\u001b[0m\u001b[0;34m.\u001b[0m\u001b[0mfailed_ack_codes\u001b[0m\u001b[0;34m:\u001b[0m\u001b[0;34m\u001b[0m\u001b[0;34m\u001b[0m\u001b[0m\n\u001b[0;32m--> 182\u001b[0;31m                 \u001b[0;32mraise\u001b[0m \u001b[0mbase\u001b[0m\u001b[0;34m.\u001b[0m\u001b[0mAckError\u001b[0m\u001b[0;34m(\u001b[0m\u001b[0mmsg\u001b[0m\u001b[0;34m=\u001b[0m\u001b[0;34m\"Command failed\"\u001b[0m\u001b[0;34m,\u001b[0m \u001b[0mackcmd\u001b[0m\u001b[0;34m=\u001b[0m\u001b[0mackcmd\u001b[0m\u001b[0;34m)\u001b[0m\u001b[0;34m\u001b[0m\u001b[0;34m\u001b[0m\u001b[0m\n\u001b[0m\u001b[1;32m    183\u001b[0m             \u001b[0;32mreturn\u001b[0m \u001b[0mackcmd\u001b[0m\u001b[0;34m\u001b[0m\u001b[0;34m\u001b[0m\u001b[0m\n",
      "\u001b[0;31mAckError\u001b[0m: msg='Command failed', ackcmd=(ackcmd private_seqNum=1839302522, ack=<SalRetCode.CMD_FAILED: -302>, error=0, result='Complete : Failed')",
      "\nThe above exception was the direct cause of the following exception:\n",
      "\u001b[0;31mRuntimeError\u001b[0m                              Traceback (most recent call last)",
      "\u001b[0;32m<ipython-input-46-f0e8a8ad674f>\u001b[0m in \u001b[0;36m<module>\u001b[0;34m\u001b[0m\n\u001b[0;32m----> 1\u001b[0;31m \u001b[0;32mawait\u001b[0m \u001b[0msalobj\u001b[0m\u001b[0;34m.\u001b[0m\u001b[0mset_summary_state\u001b[0m\u001b[0;34m(\u001b[0m\u001b[0mm2\u001b[0m\u001b[0;34m,\u001b[0m \u001b[0msalobj\u001b[0m\u001b[0;34m.\u001b[0m\u001b[0mState\u001b[0m\u001b[0;34m.\u001b[0m\u001b[0mOFFLINE\u001b[0m\u001b[0;34m)\u001b[0m\u001b[0;34m\u001b[0m\u001b[0;34m\u001b[0m\u001b[0m\n\u001b[0m",
      "\u001b[0;32m/opt/lsst/software/stack/conda/miniconda3-py38_4.9.2/envs/lsst-scipipe-0.6.0/lib/python3.8/site-packages/lsst/ts/salobj/csc_utils.py\u001b[0m in \u001b[0;36mset_summary_state\u001b[0;34m(remote, state, settingsToApply, timeout)\u001b[0m\n\u001b[1;32m    148\u001b[0m                 \u001b[0;32mawait\u001b[0m \u001b[0mcmd\u001b[0m\u001b[0;34m.\u001b[0m\u001b[0mstart\u001b[0m\u001b[0;34m(\u001b[0m\u001b[0mtimeout\u001b[0m\u001b[0;34m=\u001b[0m\u001b[0mtimeout\u001b[0m\u001b[0;34m)\u001b[0m\u001b[0;34m\u001b[0m\u001b[0;34m\u001b[0m\u001b[0m\n\u001b[1;32m    149\u001b[0m             \u001b[0;32mexcept\u001b[0m \u001b[0mException\u001b[0m \u001b[0;32mas\u001b[0m \u001b[0me\u001b[0m\u001b[0;34m:\u001b[0m\u001b[0;34m\u001b[0m\u001b[0;34m\u001b[0m\u001b[0m\n\u001b[0;32m--> 150\u001b[0;31m                 raise RuntimeError(\n\u001b[0m\u001b[1;32m    151\u001b[0m                     \u001b[0;34mf\"Error on cmd=cmd_{command}, initial_state={current_state}: {e}\"\u001b[0m\u001b[0;34m\u001b[0m\u001b[0;34m\u001b[0m\u001b[0m\n\u001b[1;32m    152\u001b[0m                 ) from e\n",
      "\u001b[0;31mRuntimeError\u001b[0m: Error on cmd=cmd_standby, initial_state=2: msg='Command failed', ackcmd=(ackcmd private_seqNum=1839302522, ack=<SalRetCode.CMD_FAILED: -302>, error=0, result='Complete : Failed')"
     ]
    }
   ],
   "source": [
    "await salobj.set_summary_state(m2, salobj.State.DISABLED)"
   ]
  },
  {
   "cell_type": "code",
   "execution_count": 47,
   "id": "583f6c9e",
   "metadata": {},
   "outputs": [
    {
     "data": {
      "text/plain": [
       "[<State.DISABLED: 1>, <State.STANDBY: 5>]"
      ]
     },
     "execution_count": 47,
     "metadata": {},
     "output_type": "execute_result"
    }
   ],
   "source": [
    "await salobj.set_summary_state(m2, salobj.State.STANDBY)"
   ]
  },
  {
   "cell_type": "code",
   "execution_count": 48,
   "id": "94ecdd2d",
   "metadata": {},
   "outputs": [
    {
     "data": {
      "text/plain": [
       "[<State.STANDBY: 5>, <State.OFFLINE: 4>]"
      ]
     },
     "execution_count": 48,
     "metadata": {},
     "output_type": "execute_result"
    }
   ],
   "source": [
    "await salobj.set_summary_state(m2, salobj.State.OFFLINE)"
   ]
  },
  {
   "cell_type": "code",
   "execution_count": null,
   "id": "d6d00544",
   "metadata": {},
   "outputs": [
    {
     "name": "stdout",
     "output_type": "stream",
     "text": [
      "m1m3 state DetailedState.LOWERING 2021-07-20 17:58:16.603898880\n"
     ]
    }
   ],
   "source": [
    "await lowerM1M3(m1m3)"
   ]
  },
  {
   "cell_type": "code",
   "execution_count": 54,
   "id": "d0ff9f28",
   "metadata": {},
   "outputs": [
    {
     "data": {
      "text/plain": [
       "[<State.ENABLED: 2>,\n",
       " <State.DISABLED: 1>,\n",
       " <State.STANDBY: 5>,\n",
       " <State.OFFLINE: 4>]"
      ]
     },
     "execution_count": 54,
     "metadata": {},
     "output_type": "execute_result"
    }
   ],
   "source": [
    "await salobj.set_summary_state(m1m3, salobj.State.STANDBY)"
   ]
  },
  {
   "cell_type": "code",
   "execution_count": 55,
   "id": "72877878",
   "metadata": {},
   "outputs": [
    {
     "data": {
      "text/plain": [
       "[<State.ENABLED: 2>, <State.DISABLED: 1>, <State.STANDBY: 5>]"
      ]
     },
     "execution_count": 55,
     "metadata": {},
     "output_type": "execute_result"
    }
   ],
   "source": [
    "await salobj.set_summary_state(mount, salobj.State.STANDBY)"
   ]
  },
  {
   "cell_type": "code",
   "execution_count": null,
   "id": "00c00afd",
   "metadata": {},
   "outputs": [],
   "source": [
    "await rot.cmd_clearError.set_start()"
   ]
  },
  {
   "cell_type": "code",
   "execution_count": null,
   "id": "5b305c98",
   "metadata": {},
   "outputs": [],
   "source": [
    "await m2.cmd_exitControl.set_start()"
   ]
  },
  {
   "cell_type": "code",
   "execution_count": null,
   "id": "8206d92f",
   "metadata": {},
   "outputs": [],
   "source": [
    "await checkAOSCompStates(m1m3,m2,camhex, m2hex)"
   ]
  },
  {
   "cell_type": "code",
   "execution_count": null,
   "id": "d4834917",
   "metadata": {},
   "outputs": [],
   "source": [
    "await checkSlewCompStates(ptg,mount, rot)"
   ]
  },
  {
   "cell_type": "code",
   "execution_count": null,
   "id": "fb59c241",
   "metadata": {},
   "outputs": [],
   "source": []
  }
 ],
 "metadata": {
  "kernelspec": {
   "display_name": "LSST",
   "language": "python",
   "name": "lsst"
  },
  "language_info": {
   "codemirror_mode": {
    "name": "ipython",
    "version": 3
   },
   "file_extension": ".py",
   "mimetype": "text/x-python",
   "name": "python",
   "nbconvert_exporter": "python",
   "pygments_lexer": "ipython3",
   "version": "3.8.8"
  }
 },
 "nbformat": 4,
 "nbformat_minor": 5
}
