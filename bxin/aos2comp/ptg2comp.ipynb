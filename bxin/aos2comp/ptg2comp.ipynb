{
 "cells": [
  {
   "cell_type": "markdown",
   "id": "7a31070a",
   "metadata": {},
   "source": [
    "## This notebook does slew simulations, and check all aos components (M1M3, M2, hexapods) behavior during the slew-and-track process\n",
    "\n",
    "This is expected to work both for SUMMIT and NCSA"
   ]
  },
  {
   "cell_type": "code",
   "execution_count": null,
   "id": "197ce4f6",
   "metadata": {},
   "outputs": [],
   "source": [
    "%load_ext autoreload\n",
    "%autoreload 2"
   ]
  },
  {
   "cell_type": "code",
   "execution_count": null,
   "id": "0415d7dd",
   "metadata": {},
   "outputs": [],
   "source": [
    "from lsst.ts import salobj\n",
    "import asyncio\n",
    "import os\n",
    "import yaml\n",
    "\n",
    "import numpy as np\n",
    "from matplotlib import pyplot as plt\n",
    "from astropy.time import Time\n",
    "from datetime import datetime, timedelta\n",
    "import pandas as pd\n",
    "\n",
    "from lsst.ts.idl.enums import MTHexapod\n",
    "\n",
    "from lsst.ts.observatory.control.maintel.mtcs import MTCS, MTCSUsages\n",
    "from lsst.ts.observatory.control import RotType\n",
    "from astropy.coordinates import AltAz, ICRS, EarthLocation, Angle, FK5\n",
    "import astropy.units as u\n",
    "\n",
    "from aosTools import *\n",
    "\n",
    "plt.jet();"
   ]
  },
  {
   "cell_type": "code",
   "execution_count": null,
   "id": "5f4bd8ce",
   "metadata": {},
   "outputs": [],
   "source": [
    "#summit = 1 #use this for summit testing\n",
    "summit = 0 #use this for NCSA"
   ]
  },
  {
   "cell_type": "code",
   "execution_count": null,
   "id": "2df7e0dc",
   "metadata": {},
   "outputs": [],
   "source": [
    "print(os.environ[\"OSPL_URI\"])\n",
    "print(os.environ[\"LSST_DDS_PARTITION_PREFIX\"])\n",
    "print(os.environ[\"LSST_DDS_DOMAIN_ID\"])"
   ]
  },
  {
   "cell_type": "code",
   "execution_count": null,
   "id": "85f22d58",
   "metadata": {},
   "outputs": [],
   "source": [
    "from lsst_efd_client import EfdClient\n",
    "\n",
    "if summit:\n",
    "    client = EfdClient('summit_efd')\n",
    "else:\n",
    "    client = EfdClient('ncsa_teststand_efd')\n",
    "csc_index = 1"
   ]
  },
  {
   "cell_type": "code",
   "execution_count": null,
   "id": "8433defa",
   "metadata": {},
   "outputs": [],
   "source": [
    "#index is an integter which helps avoid multple users starting same controller\n",
    "script = salobj.Controller(\"Script\", index=7)"
   ]
  },
  {
   "cell_type": "code",
   "execution_count": null,
   "id": "e2bcef09",
   "metadata": {},
   "outputs": [],
   "source": [
    "mtcs = MTCS(script.domain)\n",
    "mtcs.set_rem_loglevel(40)"
   ]
  },
  {
   "cell_type": "code",
   "execution_count": null,
   "id": "95c70e60",
   "metadata": {},
   "outputs": [],
   "source": [
    "await mtcs.start_task"
   ]
  },
  {
   "cell_type": "code",
   "execution_count": null,
   "id": "e3929e00",
   "metadata": {},
   "outputs": [],
   "source": [
    "mtcs.components_attr"
   ]
  },
  {
   "cell_type": "code",
   "execution_count": null,
   "id": "1f380e1f",
   "metadata": {},
   "outputs": [],
   "source": [
    "ptg = mtcs.rem.mtptg\n",
    "mount = mtcs.rem.mtmount\n",
    "rot = mtcs.rem.mtrotator\n",
    "camhex = mtcs.rem.mthexapod_1\n",
    "m2hex = mtcs.rem.mthexapod_2\n",
    "m1m3 = mtcs.rem.mtm1m3\n",
    "m2 = mtcs.rem.mtm2\n",
    "#aos = mtcs.rem.mtaos"
   ]
  },
  {
   "cell_type": "code",
   "execution_count": null,
   "id": "8b452eaa",
   "metadata": {},
   "outputs": [],
   "source": [
    "#Move to zenith (so that we can start m1m3 with LUT in mount telemetry mode)\n",
    "await mount.cmd_moveToTarget.set_start(azimuth=0, elevation=75)"
   ]
  },
  {
   "cell_type": "markdown",
   "id": "c3b32b85",
   "metadata": {},
   "source": [
    "### Check that all components are ready"
   ]
  },
  {
   "cell_type": "code",
   "execution_count": null,
   "id": "0f5d96c1",
   "metadata": {},
   "outputs": [],
   "source": [
    "await checkAOSCompStates(m1m3, m2, camhex, m2hex)"
   ]
  },
  {
   "cell_type": "code",
   "execution_count": null,
   "id": "572e9cb7",
   "metadata": {},
   "outputs": [],
   "source": [
    "await checkSlewCompStates(ptg, mount, rot)"
   ]
  },
  {
   "cell_type": "code",
   "execution_count": null,
   "id": "a2288009",
   "metadata": {},
   "outputs": [],
   "source": [
    "#await salobj.set_summary_state(mount, salobj.State.STANDBY)"
   ]
  },
  {
   "cell_type": "code",
   "execution_count": null,
   "id": "61ec0700",
   "metadata": {},
   "outputs": [],
   "source": [
    "await readyM1M3(m1m3)"
   ]
  },
  {
   "cell_type": "code",
   "execution_count": null,
   "id": "3cfad954",
   "metadata": {},
   "outputs": [],
   "source": [
    "await readyM2(m2)"
   ]
  },
  {
   "cell_type": "code",
   "execution_count": null,
   "id": "ac5fa49c",
   "metadata": {},
   "outputs": [],
   "source": [
    "await readyHexForAOS(camhex)"
   ]
  },
  {
   "cell_type": "code",
   "execution_count": null,
   "id": "4796aad4",
   "metadata": {},
   "outputs": [],
   "source": [
    "await readyHexForAOS(m2hex)"
   ]
  },
  {
   "cell_type": "code",
   "execution_count": null,
   "id": "e82f5323",
   "metadata": {},
   "outputs": [],
   "source": [
    "end = Time(datetime.now(), scale='tai')\n",
    "start = end - timedelta(seconds=1000)\n",
    "df = await client.select_time_series('lsst.sal.ESS.temperature8Ch', '*', start, end, csc_index)\n",
    "if len(df)>0:\n",
    "    fig, ax = plt.subplots(1,1, figsize=(15,4))\n",
    "    for i in range(8):\n",
    "        plt.plot(getattr(df, 'temperatureC%02d'%i))\n",
    "    plt.grid()\n",
    "else:\n",
    "    print('No temperature data on the camera hexapod in the past 1000s.')"
   ]
  },
  {
   "cell_type": "markdown",
   "id": "936b4eba",
   "metadata": {},
   "source": [
    "### Do a few slews"
   ]
  },
  {
   "cell_type": "code",
   "execution_count": null,
   "id": "36e18959",
   "metadata": {},
   "outputs": [],
   "source": [
    "#comment and uncomment the below depending on which components are expected to be on\n",
    "#by default, MTCS checks on every component (during the slew).\n",
    "mtcs.check.mtaos = False\n",
    "mtcs.check.mtm1m3 = True\n",
    "mtcs.check.mtm2 = True\n",
    "mtcs.check.mthexapod_1 = True\n",
    "mtcs.check.mthexapod_2 = True\n",
    "mtcs.check.mtdome = False\n",
    "mtcs.check.mtdometrajectory = False"
   ]
  },
  {
   "cell_type": "markdown",
   "id": "944c788d",
   "metadata": {},
   "source": [
    "#### Do 4 slews, then stop tracking"
   ]
  },
  {
   "cell_type": "code",
   "execution_count": null,
   "id": "279f870d",
   "metadata": {},
   "outputs": [],
   "source": [
    "dec = -34.\n",
    "for j in range(2):\n",
    "    time_and_date = await mtcs.rem.mtptg.tel_timeAndDate.next(flush=True, timeout=5)\n",
    "    ra = time_and_date.lst + 0.5\n",
    "    for i in range(2):\n",
    "        \n",
    "        aa = await mount.tel_elevation.aget()\n",
    "        current_el = aa.actualPosition\n",
    "        \n",
    "        obs_time = salobj.astropy_time_from_tai_unix(salobj.current_tai() + 1.) #with 1s delay\n",
    "        azel = mtcs.azel_from_radec(ra=ra, dec=dec, time=obs_time)\n",
    "        target_el = azel.alt.value\n",
    "        \n",
    "        print('moving from elevation %.1f deg to %.1f deg'%(current_el, target_el))\n",
    "        await moveMountConstantV(mount, current_el, target_el)\n",
    "        print('start a slew')\n",
    "        await mtcs.slew_icrs(ra=ra, dec=dec, rot=0., rot_type=RotType.PhysicalSky)\n",
    "        await asyncio.sleep(39.)\n",
    "        ra -= 3.5/15.0\n",
    "\n",
    "await ptg.cmd_stopTracking.set_start(timeout=5.)"
   ]
  },
  {
   "cell_type": "markdown",
   "id": "0e399c61",
   "metadata": {},
   "source": [
    "#### Plot the above process"
   ]
  },
  {
   "cell_type": "code",
   "execution_count": null,
   "id": "a1a7d9c8",
   "metadata": {},
   "outputs": [],
   "source": [
    "end = Time(datetime.now(), scale='tai')\n",
    "start = end - timedelta(seconds=1000)\n",
    "\n",
    "dfm = await client.select_time_series('lsst.sal.MTMount.elevation', '*', start, end, csc_index)\n",
    "dfm1m3 = await client.select_time_series('lsst.sal.MTM1M3.logevent_appliedElevationForces', '*', start, end, csc_index)\n",
    "dfm2 = await client.select_time_series('lsst.sal.MTM2.axialForce', '*', start, end, csc_index)\n",
    "dfh = await client.select_time_series('lsst.sal.MTHexapod.application', '*', start, end, csc_index)\n",
    "\n",
    "idx1=dfh.MTHexapodID==1\n",
    "dfh1 = dfh[idx1]\n",
    "idx2=dfh.MTHexapodID==2\n",
    "dfh2 = dfh[idx2]\n",
    "\n",
    "fig, ax = plt.subplots(1,1, figsize=(15,4))\n",
    "plt.plot(dfm.actualPosition, '--', label='mount elevation')\n",
    "plt.plot(dfm1m3.yForces0, label='M1M3 elevation y-force 101')\n",
    "plt.plot(dfm2.lutGravity0, label='M2 elevation force B1')\n",
    "plt.plot(dfh1.position1, label='Camera hexapod y')\n",
    "plt.plot(dfh2.position1, label='M2 hexapod y')\n",
    "plt.grid()\n",
    "plt.legend()"
   ]
  },
  {
   "cell_type": "markdown",
   "id": "f1fa0669",
   "metadata": {},
   "source": [
    "#### Check if the telescope is in tracking mode. If yes, need to stop stacking.\n",
    "\n",
    "The alternative is to check \"MT Mount status\" dash board on Chronograf. Make sure there are three \"False\"."
   ]
  },
  {
   "cell_type": "code",
   "execution_count": null,
   "id": "83b3d2e8",
   "metadata": {},
   "outputs": [],
   "source": [
    "mountStatus = await mount.evt_axesInPosition.aget(timeout=5.)\n",
    "rotStatus = await rot.evt_inPosition.aget(timeout=5.)\n",
    "trackingStatus = mountStatus.elevation and mountStatus.azimuth and rotStatus.inPosition\n",
    "print('Are we tracking?', trackingStatus)"
   ]
  },
  {
   "cell_type": "code",
   "execution_count": null,
   "id": "cf6fc521",
   "metadata": {},
   "outputs": [],
   "source": [
    "await ptg.cmd_stopTracking.set_start(timeout=5.)"
   ]
  },
  {
   "cell_type": "markdown",
   "id": "53088052",
   "metadata": {},
   "source": [
    "#### Close up. Put all simulators to standby"
   ]
  },
  {
   "cell_type": "code",
   "execution_count": null,
   "id": "fd5abc8b",
   "metadata": {},
   "outputs": [],
   "source": [
    "await salobj.set_summary_state(ptg, salobj.State.STANDBY)"
   ]
  },
  {
   "cell_type": "code",
   "execution_count": null,
   "id": "f010a6d3",
   "metadata": {},
   "outputs": [],
   "source": [
    "await salobj.set_summary_state(rot, salobj.State.STANDBY)"
   ]
  },
  {
   "cell_type": "code",
   "execution_count": null,
   "id": "c2251036",
   "metadata": {},
   "outputs": [],
   "source": [
    "await salobj.set_summary_state(mount, salobj.State.STANDBY)"
   ]
  }
 ],
 "metadata": {
  "kernelspec": {
   "display_name": "LSST",
   "language": "python",
   "name": "lsst"
  },
  "language_info": {
   "codemirror_mode": {
    "name": "ipython",
    "version": 3
   },
   "file_extension": ".py",
   "mimetype": "text/x-python",
   "name": "python",
   "nbconvert_exporter": "python",
   "pygments_lexer": "ipython3",
   "version": "3.8.8"
  }
 },
 "nbformat": 4,
 "nbformat_minor": 5
}
