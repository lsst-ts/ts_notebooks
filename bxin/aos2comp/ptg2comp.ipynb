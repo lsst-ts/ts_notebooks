{
 "cells": [
  {
   "cell_type": "markdown",
   "id": "e5dfc977",
   "metadata": {},
   "source": [
    "## This notebook does slew simulations, and check all aos components (M1M3, M2, hexapods) behavior during the slew-and-track process\n",
    "\n",
    "This is expected to work both for SUMMIT and NCSA"
   ]
  },
  {
   "cell_type": "code",
   "execution_count": 1,
   "id": "d4885fd6",
   "metadata": {},
   "outputs": [],
   "source": [
    "%load_ext autoreload\n",
    "%autoreload 2"
   ]
  },
  {
   "cell_type": "code",
   "execution_count": 2,
   "id": "42a2d188",
   "metadata": {},
   "outputs": [
    {
     "data": {
      "text/plain": [
       "<Figure size 432x288 with 0 Axes>"
      ]
     },
     "metadata": {},
     "output_type": "display_data"
    }
   ],
   "source": [
    "from lsst.ts import salobj\n",
    "import asyncio\n",
    "import os\n",
    "import yaml\n",
    "\n",
    "import numpy as np\n",
    "from matplotlib import pyplot as plt\n",
    "from astropy.time import Time\n",
    "from datetime import datetime, timedelta\n",
    "import pandas as pd\n",
    "\n",
    "from lsst.ts.idl.enums import MTHexapod\n",
    "\n",
    "from lsst.ts.observatory.control.maintel.mtcs import MTCS, MTCSUsages\n",
    "from lsst.ts.observatory.control import RotType\n",
    "from astropy.coordinates import AltAz, ICRS, EarthLocation, Angle, FK5\n",
    "import astropy.units as u\n",
    "\n",
    "from aosTools import *\n",
    "\n",
    "plt.jet();"
   ]
  },
  {
   "cell_type": "code",
   "execution_count": 3,
   "id": "1adb2883",
   "metadata": {},
   "outputs": [],
   "source": [
    "#summit = 1 #use this for summit testing\n",
    "summit = 0 #use this for NCSA"
   ]
  },
  {
   "cell_type": "code",
   "execution_count": 4,
   "id": "1713bf32",
   "metadata": {},
   "outputs": [
    {
     "name": "stdout",
     "output_type": "stream",
     "text": [
      "file:///home/bxin/ts_ddsconfig/config/ospl-shmem.xml\n",
      "ncsa\n",
      "0\n"
     ]
    }
   ],
   "source": [
    "print(os.environ[\"OSPL_URI\"])\n",
    "print(os.environ[\"LSST_DDS_PARTITION_PREFIX\"])\n",
    "print(os.environ[\"LSST_DDS_DOMAIN_ID\"])"
   ]
  },
  {
   "cell_type": "code",
   "execution_count": 5,
   "id": "01001840",
   "metadata": {},
   "outputs": [],
   "source": [
    "from lsst_efd_client import EfdClient\n",
    "\n",
    "if summit:\n",
    "    client = EfdClient('summit_efd')\n",
    "else:\n",
    "    client = EfdClient('ncsa_teststand_efd')\n",
    "csc_index = 1"
   ]
  },
  {
   "cell_type": "code",
   "execution_count": 6,
   "id": "9eb9ed46",
   "metadata": {},
   "outputs": [],
   "source": [
    "#index is an integter which helps avoid multple users starting same controller\n",
    "script = salobj.Controller(\"Script\", index=7)"
   ]
  },
  {
   "cell_type": "code",
   "execution_count": 7,
   "id": "e7e869af",
   "metadata": {},
   "outputs": [],
   "source": [
    "mtcs = MTCS(script.domain)\n",
    "mtcs.set_rem_loglevel(40)"
   ]
  },
  {
   "cell_type": "code",
   "execution_count": 8,
   "id": "56247b98",
   "metadata": {},
   "outputs": [
    {
     "name": "stderr",
     "output_type": "stream",
     "text": [
      "electrical DDS read queue is filling: 73 of 100 elements\n",
      "electrical DDS read queue is full (100 elements); data may be lost\n",
      "elevation DDS read queue is full (100 elements); data may be lost\n",
      "application DDS read queue is filling: 75 of 100 elements\n",
      "application DDS read queue is full (100 elements); data may be lost\n",
      "cameraCableWrap DDS read queue is full (100 elements); data may be lost\n",
      "actuators DDS read queue is filling: 76 of 100 elements\n",
      "actuators DDS read queue is full (100 elements); data may be lost\n",
      "azimuth DDS read queue is full (100 elements); data may be lost\n",
      "timeAndDate DDS read queue is full (100 elements); data may be lost\n",
      "powerSupplyData DDS read queue is full (100 elements); data may be lost\n"
     ]
    },
    {
     "data": {
      "text/plain": [
       "[None, None, None, None, None, None, None, None, None, None]"
      ]
     },
     "execution_count": 8,
     "metadata": {},
     "output_type": "execute_result"
    },
    {
     "name": "stderr",
     "output_type": "stream",
     "text": [
      "mountStatus DDS read queue is full (100 elements); data may be lost\n",
      "pidData DDS read queue is full (100 elements); data may be lost\n",
      "mountPosition DDS read queue is full (100 elements); data may be lost\n",
      "inclinometerData DDS read queue is full (100 elements); data may be lost\n"
     ]
    }
   ],
   "source": [
    "await mtcs.start_task"
   ]
  },
  {
   "cell_type": "code",
   "execution_count": 9,
   "id": "ebf9ec64",
   "metadata": {},
   "outputs": [
    {
     "name": "stderr",
     "output_type": "stream",
     "text": [
      "imsData DDS read queue is full (100 elements); data may be lost\n",
      "currentTargetStatus DDS read queue is full (100 elements); data may be lost\n",
      "hardpointMonitorData DDS read queue is full (100 elements); data may be lost\n",
      "hardpointActuatorData DDS read queue is full (100 elements); data may be lost\n",
      "gyroData DDS read queue is full (100 elements); data may be lost\n",
      "forceActuatorData DDS read queue is full (100 elements); data may be lost\n",
      "accelerometerData DDS read queue is full (100 elements); data may be lost\n"
     ]
    },
    {
     "data": {
      "text/plain": [
       "['mtmount',\n",
       " 'mtptg',\n",
       " 'mtaos',\n",
       " 'mtm1m3',\n",
       " 'mtm2',\n",
       " 'mthexapod_1',\n",
       " 'mthexapod_2',\n",
       " 'mtrotator',\n",
       " 'mtdome',\n",
       " 'mtdometrajectory']"
      ]
     },
     "execution_count": 9,
     "metadata": {},
     "output_type": "execute_result"
    }
   ],
   "source": [
    "mtcs.components_attr"
   ]
  },
  {
   "cell_type": "code",
   "execution_count": 10,
   "id": "18799f94",
   "metadata": {},
   "outputs": [],
   "source": [
    "ptg = mtcs.rem.mtptg\n",
    "mount = mtcs.rem.mtmount\n",
    "rot = mtcs.rem.mtrotator\n",
    "camhex = mtcs.rem.mthexapod_1\n",
    "m2hex = mtcs.rem.mthexapod_2\n",
    "m1m3 = mtcs.rem.mtm1m3\n",
    "m2 = mtcs.rem.mtm2\n",
    "#aos = mtcs.rem.mtaos"
   ]
  },
  {
   "cell_type": "markdown",
   "id": "8b317325",
   "metadata": {},
   "source": [
    "### Check that all components are ready"
   ]
  },
  {
   "cell_type": "code",
   "execution_count": 12,
   "id": "0d358472",
   "metadata": {},
   "outputs": [
    {
     "name": "stdout",
     "output_type": "stream",
     "text": [
      "starting with: M1M3 state State.ENABLED 2021-05-18 16:56:45.545589248\n",
      "          detailed state DetailedState.ACTIVE 2021-05-18 16:56:45.545640192\n",
      "staring with: m2 state State.ENABLED 2021-05-06 17:22:57.171261184\n",
      "staring with: cam hex state State.ENABLED 2021-05-18 17:34:17.355547392\n",
      "          cam hex state EnabledSubstate.STATIONARY 2021-05-18 17:34:17.355837952\n",
      "staring with: M2 hex state State.ENABLED 2021-05-18 17:34:17.709411072\n",
      "          hex state EnabledSubstate.STATIONARY 2021-05-18 17:34:17.709662720\n"
     ]
    }
   ],
   "source": [
    "await checkAOSCompStates(m1m3, m2, camhex, m2hex)"
   ]
  },
  {
   "cell_type": "code",
   "execution_count": 13,
   "id": "94499ff8",
   "metadata": {},
   "outputs": [
    {
     "name": "stdout",
     "output_type": "stream",
     "text": [
      "staring with: ptg state State.ENABLED 2021-05-07 15:26:01.249896960\n",
      "staring with: mount state State.ENABLED 2021-05-13 16:52:45.512967168\n",
      "staring with: rot state State.ENABLED 2021-05-13 16:52:58.822613760\n"
     ]
    }
   ],
   "source": [
    "await checkSlewCompStates(ptg, mount, rot)"
   ]
  },
  {
   "cell_type": "markdown",
   "id": "2aaf4bca",
   "metadata": {},
   "source": [
    "### Get Ptg ready"
   ]
  },
  {
   "cell_type": "code",
   "execution_count": 121,
   "id": "6a784207",
   "metadata": {},
   "outputs": [
    {
     "data": {
      "text/plain": [
       "[<State.FAULT: 3>, <State.STANDBY: 5>, <State.DISABLED: 1>, <State.ENABLED: 2>]"
      ]
     },
     "execution_count": 121,
     "metadata": {},
     "output_type": "execute_result"
    }
   ],
   "source": [
    "await salobj.set_summary_state(ptg, salobj.State.ENABLED)"
   ]
  },
  {
   "cell_type": "markdown",
   "id": "cff1c596",
   "metadata": {},
   "source": [
    "### Get Mount ready"
   ]
  },
  {
   "cell_type": "code",
   "execution_count": 85,
   "id": "c7c37afb",
   "metadata": {},
   "outputs": [
    {
     "data": {
      "text/plain": [
       "[<State.ENABLED: 2>, <State.DISABLED: 1>, <State.STANDBY: 5>]"
      ]
     },
     "execution_count": 85,
     "metadata": {},
     "output_type": "execute_result"
    }
   ],
   "source": [
    "await salobj.set_summary_state(mount, salobj.State.STANDBY)"
   ]
  },
  {
   "cell_type": "code",
   "execution_count": 122,
   "id": "61045710",
   "metadata": {},
   "outputs": [
    {
     "data": {
      "text/plain": [
       "[<State.STANDBY: 5>, <State.DISABLED: 1>, <State.ENABLED: 2>]"
      ]
     },
     "execution_count": 122,
     "metadata": {},
     "output_type": "execute_result"
    }
   ],
   "source": [
    "await salobj.set_summary_state(mount, salobj.State.ENABLED)"
   ]
  },
  {
   "cell_type": "markdown",
   "id": "b9e0cd52",
   "metadata": {},
   "source": [
    "### Get Rotator ready"
   ]
  },
  {
   "cell_type": "code",
   "execution_count": 123,
   "id": "fb90a87b",
   "metadata": {},
   "outputs": [
    {
     "name": "stdout",
     "output_type": "stream",
     "text": [
      "mount elevation Angle =  80.0\n",
      "mount azimuth angle =  0.0\n",
      "CCW angle =  -7.318164786410081  Needs to be within 2.2 deg of rotator angle \n",
      "rot angle =  -27.44068801303646    diff =  -20.122523226626377\n"
     ]
    }
   ],
   "source": [
    "a = await mount.tel_elevation.next(flush=True, timeout=5)\n",
    "print(\"mount elevation Angle = \", a.actualPosition)\n",
    "a = await mount.tel_azimuth.next(flush=True, timeout=5)\n",
    "print(\"mount azimuth angle = \", a.actualPosition)\n",
    "a = await mount.tel_cameraCableWrap.next(flush=True, timeout=5)\n",
    "print(\"CCW angle = \", a.actualPosition, \" Needs to be within 2.2 deg of rotator angle \")\n",
    "b = await rot.tel_rotation.next(flush=True, timeout=5)\n",
    "print(\"rot angle = \", b.actualPosition, \"   diff = \", (b.actualPosition - a.actualPosition))"
   ]
  },
  {
   "cell_type": "code",
   "execution_count": 72,
   "id": "c4d580a1",
   "metadata": {},
   "outputs": [
    {
     "name": "stdout",
     "output_type": "stream",
     "text": [
      "Camera cable wrap not following closely enough: error # 7 = -5.382058246874115 > 2.2 deg\n"
     ]
    }
   ],
   "source": [
    "a = await rot.evt_errorCode.aget()\n",
    "print(a.errorReport)"
   ]
  },
  {
   "cell_type": "code",
   "execution_count": 71,
   "id": "fed421bc",
   "metadata": {
    "collapsed": true,
    "jupyter": {
     "outputs_hidden": true
    }
   },
   "outputs": [
    {
     "ename": "TimeoutError",
     "evalue": "",
     "output_type": "error",
     "traceback": [
      "\u001b[0;31m---------------------------------------------------------------------------\u001b[0m",
      "\u001b[0;31mTimeoutError\u001b[0m                              Traceback (most recent call last)",
      "\u001b[0;32m<ipython-input-71-a6a712c91c50>\u001b[0m in \u001b[0;36m<module>\u001b[0;34m\u001b[0m\n\u001b[0;32m----> 1\u001b[0;31m \u001b[0ma\u001b[0m \u001b[0;34m=\u001b[0m \u001b[0;32mawait\u001b[0m \u001b[0mmount\u001b[0m\u001b[0;34m.\u001b[0m\u001b[0mevt_cameraCableWrapState\u001b[0m\u001b[0;34m.\u001b[0m\u001b[0maget\u001b[0m\u001b[0;34m(\u001b[0m\u001b[0mtimeout\u001b[0m\u001b[0;34m=\u001b[0m\u001b[0;36m5.\u001b[0m\u001b[0;34m)\u001b[0m\u001b[0;34m\u001b[0m\u001b[0;34m\u001b[0m\u001b[0m\n\u001b[0m\u001b[1;32m      2\u001b[0m \u001b[0mprint\u001b[0m\u001b[0;34m(\u001b[0m\u001b[0ma\u001b[0m\u001b[0;34m.\u001b[0m\u001b[0mstate\u001b[0m\u001b[0;34m)\u001b[0m\u001b[0;34m\u001b[0m\u001b[0;34m\u001b[0m\u001b[0m\n\u001b[1;32m      3\u001b[0m \u001b[0ma\u001b[0m \u001b[0;34m=\u001b[0m \u001b[0;32mawait\u001b[0m \u001b[0mmount\u001b[0m\u001b[0;34m.\u001b[0m\u001b[0mevt_cameraCableWrapFollowing\u001b[0m\u001b[0;34m.\u001b[0m\u001b[0maget\u001b[0m\u001b[0;34m(\u001b[0m\u001b[0mtimeout\u001b[0m\u001b[0;34m=\u001b[0m\u001b[0;36m5.\u001b[0m\u001b[0;34m)\u001b[0m\u001b[0;34m\u001b[0m\u001b[0;34m\u001b[0m\u001b[0m\n\u001b[1;32m      4\u001b[0m \u001b[0mprint\u001b[0m\u001b[0;34m(\u001b[0m\u001b[0ma\u001b[0m\u001b[0;34m.\u001b[0m\u001b[0menabled\u001b[0m\u001b[0;34m)\u001b[0m\u001b[0;34m\u001b[0m\u001b[0;34m\u001b[0m\u001b[0m\n",
      "\u001b[0;32m/opt/lsst/src/ts_salobj/python/lsst/ts/salobj/topics/read_topic.py\u001b[0m in \u001b[0;36maget\u001b[0;34m(self, timeout)\u001b[0m\n\u001b[1;32m    493\u001b[0m             \u001b[0;32mif\u001b[0m \u001b[0mself\u001b[0m\u001b[0;34m.\u001b[0m\u001b[0m_next_task\u001b[0m\u001b[0;34m.\u001b[0m\u001b[0mdone\u001b[0m\u001b[0;34m(\u001b[0m\u001b[0;34m)\u001b[0m\u001b[0;34m:\u001b[0m\u001b[0;34m\u001b[0m\u001b[0;34m\u001b[0m\u001b[0m\n\u001b[1;32m    494\u001b[0m                 \u001b[0mself\u001b[0m\u001b[0;34m.\u001b[0m\u001b[0m_next_task\u001b[0m \u001b[0;34m=\u001b[0m \u001b[0masyncio\u001b[0m\u001b[0;34m.\u001b[0m\u001b[0mFuture\u001b[0m\u001b[0;34m(\u001b[0m\u001b[0;34m)\u001b[0m\u001b[0;34m\u001b[0m\u001b[0;34m\u001b[0m\u001b[0m\n\u001b[0;32m--> 495\u001b[0;31m             \u001b[0;32mawait\u001b[0m \u001b[0masyncio\u001b[0m\u001b[0;34m.\u001b[0m\u001b[0mwait_for\u001b[0m\u001b[0;34m(\u001b[0m\u001b[0mself\u001b[0m\u001b[0;34m.\u001b[0m\u001b[0m_next_task\u001b[0m\u001b[0;34m,\u001b[0m \u001b[0mtimeout\u001b[0m\u001b[0;34m=\u001b[0m\u001b[0mtimeout\u001b[0m\u001b[0;34m)\u001b[0m\u001b[0;34m\u001b[0m\u001b[0;34m\u001b[0m\u001b[0m\n\u001b[0m\u001b[1;32m    496\u001b[0m         \u001b[0;32mreturn\u001b[0m \u001b[0mself\u001b[0m\u001b[0;34m.\u001b[0m\u001b[0m_current_data\u001b[0m\u001b[0;34m\u001b[0m\u001b[0;34m\u001b[0m\u001b[0m\n\u001b[1;32m    497\u001b[0m \u001b[0;34m\u001b[0m\u001b[0m\n",
      "\u001b[0;32m/opt/lsst/software/stack/conda/miniconda3-py38_4.9.2/envs/lsst-scipipe-0.6.0/lib/python3.8/asyncio/tasks.py\u001b[0m in \u001b[0;36mwait_for\u001b[0;34m(fut, timeout, loop)\u001b[0m\n\u001b[1;32m    499\u001b[0m             \u001b[0;31m# See https://bugs.python.org/issue32751\u001b[0m\u001b[0;34m\u001b[0m\u001b[0;34m\u001b[0m\u001b[0;34m\u001b[0m\u001b[0m\n\u001b[1;32m    500\u001b[0m             \u001b[0;32mawait\u001b[0m \u001b[0m_cancel_and_wait\u001b[0m\u001b[0;34m(\u001b[0m\u001b[0mfut\u001b[0m\u001b[0;34m,\u001b[0m \u001b[0mloop\u001b[0m\u001b[0;34m=\u001b[0m\u001b[0mloop\u001b[0m\u001b[0;34m)\u001b[0m\u001b[0;34m\u001b[0m\u001b[0;34m\u001b[0m\u001b[0m\n\u001b[0;32m--> 501\u001b[0;31m             \u001b[0;32mraise\u001b[0m \u001b[0mexceptions\u001b[0m\u001b[0;34m.\u001b[0m\u001b[0mTimeoutError\u001b[0m\u001b[0;34m(\u001b[0m\u001b[0;34m)\u001b[0m\u001b[0;34m\u001b[0m\u001b[0;34m\u001b[0m\u001b[0m\n\u001b[0m\u001b[1;32m    502\u001b[0m     \u001b[0;32mfinally\u001b[0m\u001b[0;34m:\u001b[0m\u001b[0;34m\u001b[0m\u001b[0;34m\u001b[0m\u001b[0m\n\u001b[1;32m    503\u001b[0m         \u001b[0mtimeout_handle\u001b[0m\u001b[0;34m.\u001b[0m\u001b[0mcancel\u001b[0m\u001b[0;34m(\u001b[0m\u001b[0;34m)\u001b[0m\u001b[0;34m\u001b[0m\u001b[0;34m\u001b[0m\u001b[0m\n",
      "\u001b[0;31mTimeoutError\u001b[0m: "
     ]
    }
   ],
   "source": [
    "a = await mount.evt_cameraCableWrapState.aget(timeout=5.)\n",
    "print(a.state)\n",
    "a = await mount.evt_cameraCableWrapFollowing.aget(timeout=5.)\n",
    "print(a.enabled)"
   ]
  },
  {
   "cell_type": "code",
   "execution_count": 55,
   "id": "eae12959",
   "metadata": {
    "collapsed": true,
    "jupyter": {
     "outputs_hidden": true
    }
   },
   "outputs": [
    {
     "ename": "AckError",
     "evalue": "msg='Command failed', ackcmd=(ackcmd private_seqNum=690344821, ack=<SalRetCode.CMD_FAILED: -302>, error=1, result=\"Failed: RuntimeError('<DeviceId.CAMERA_CABLE_WRAP: 4> off')\")",
     "output_type": "error",
     "traceback": [
      "\u001b[0;31m---------------------------------------------------------------------------\u001b[0m",
      "\u001b[0;31mAckError\u001b[0m                                  Traceback (most recent call last)",
      "\u001b[0;32m<ipython-input-55-3a2b80d37f7f>\u001b[0m in \u001b[0;36m<module>\u001b[0;34m\u001b[0m\n\u001b[0;32m----> 1\u001b[0;31m \u001b[0;32mawait\u001b[0m \u001b[0mmount\u001b[0m\u001b[0;34m.\u001b[0m\u001b[0mcmd_enableCameraCableWrapFollowing\u001b[0m\u001b[0;34m.\u001b[0m\u001b[0mset_start\u001b[0m\u001b[0;34m(\u001b[0m\u001b[0;34m)\u001b[0m\u001b[0;34m\u001b[0m\u001b[0;34m\u001b[0m\u001b[0m\n\u001b[0m",
      "\u001b[0;32m/opt/lsst/src/ts_salobj/python/lsst/ts/salobj/topics/remote_command.py\u001b[0m in \u001b[0;36mset_start\u001b[0;34m(self, timeout, wait_done, **kwargs)\u001b[0m\n\u001b[1;32m    392\u001b[0m         \"\"\"\n\u001b[1;32m    393\u001b[0m         \u001b[0mself\u001b[0m\u001b[0;34m.\u001b[0m\u001b[0mset\u001b[0m\u001b[0;34m(\u001b[0m\u001b[0;34m**\u001b[0m\u001b[0mkwargs\u001b[0m\u001b[0;34m)\u001b[0m\u001b[0;34m\u001b[0m\u001b[0;34m\u001b[0m\u001b[0m\n\u001b[0;32m--> 394\u001b[0;31m         \u001b[0;32mreturn\u001b[0m \u001b[0;32mawait\u001b[0m \u001b[0mself\u001b[0m\u001b[0;34m.\u001b[0m\u001b[0mstart\u001b[0m\u001b[0;34m(\u001b[0m\u001b[0mtimeout\u001b[0m\u001b[0;34m=\u001b[0m\u001b[0mtimeout\u001b[0m\u001b[0;34m,\u001b[0m \u001b[0mwait_done\u001b[0m\u001b[0;34m=\u001b[0m\u001b[0mwait_done\u001b[0m\u001b[0;34m)\u001b[0m\u001b[0;34m\u001b[0m\u001b[0;34m\u001b[0m\u001b[0m\n\u001b[0m\u001b[1;32m    395\u001b[0m \u001b[0;34m\u001b[0m\u001b[0m\n\u001b[1;32m    396\u001b[0m     \u001b[0;32masync\u001b[0m \u001b[0;32mdef\u001b[0m \u001b[0mstart\u001b[0m\u001b[0;34m(\u001b[0m\u001b[0mself\u001b[0m\u001b[0;34m,\u001b[0m \u001b[0mdata\u001b[0m\u001b[0;34m=\u001b[0m\u001b[0;32mNone\u001b[0m\u001b[0;34m,\u001b[0m \u001b[0mtimeout\u001b[0m\u001b[0;34m=\u001b[0m\u001b[0mDEFAULT_TIMEOUT\u001b[0m\u001b[0;34m,\u001b[0m \u001b[0mwait_done\u001b[0m\u001b[0;34m=\u001b[0m\u001b[0;32mTrue\u001b[0m\u001b[0;34m)\u001b[0m\u001b[0;34m:\u001b[0m\u001b[0;34m\u001b[0m\u001b[0;34m\u001b[0m\u001b[0m\n",
      "\u001b[0;32m/opt/lsst/src/ts_salobj/python/lsst/ts/salobj/topics/remote_command.py\u001b[0m in \u001b[0;36mstart\u001b[0;34m(self, data, timeout, wait_done)\u001b[0m\n\u001b[1;32m    447\u001b[0m         )\n\u001b[1;32m    448\u001b[0m         \u001b[0mself\u001b[0m\u001b[0;34m.\u001b[0m\u001b[0msalinfo\u001b[0m\u001b[0;34m.\u001b[0m\u001b[0m_running_cmds\u001b[0m\u001b[0;34m[\u001b[0m\u001b[0mseq_num\u001b[0m\u001b[0;34m]\u001b[0m \u001b[0;34m=\u001b[0m \u001b[0mcmd_info\u001b[0m\u001b[0;34m\u001b[0m\u001b[0;34m\u001b[0m\u001b[0m\n\u001b[0;32m--> 449\u001b[0;31m         \u001b[0;32mreturn\u001b[0m \u001b[0;32mawait\u001b[0m \u001b[0mcmd_info\u001b[0m\u001b[0;34m.\u001b[0m\u001b[0mnext_ackcmd\u001b[0m\u001b[0;34m(\u001b[0m\u001b[0mtimeout\u001b[0m\u001b[0;34m=\u001b[0m\u001b[0mtimeout\u001b[0m\u001b[0;34m)\u001b[0m\u001b[0;34m\u001b[0m\u001b[0;34m\u001b[0m\u001b[0m\n\u001b[0m",
      "\u001b[0;32m/opt/lsst/src/ts_salobj/python/lsst/ts/salobj/topics/remote_command.py\u001b[0m in \u001b[0;36mnext_ackcmd\u001b[0;34m(self, timeout)\u001b[0m\n\u001b[1;32m    180\u001b[0m             \u001b[0mackcmd\u001b[0m \u001b[0;34m=\u001b[0m \u001b[0;32mawait\u001b[0m \u001b[0mself\u001b[0m\u001b[0;34m.\u001b[0m\u001b[0m_wait_task\u001b[0m\u001b[0;34m\u001b[0m\u001b[0;34m\u001b[0m\u001b[0m\n\u001b[1;32m    181\u001b[0m             \u001b[0;32mif\u001b[0m \u001b[0mackcmd\u001b[0m\u001b[0;34m.\u001b[0m\u001b[0mack\u001b[0m \u001b[0;32min\u001b[0m \u001b[0mself\u001b[0m\u001b[0;34m.\u001b[0m\u001b[0mfailed_ack_codes\u001b[0m\u001b[0;34m:\u001b[0m\u001b[0;34m\u001b[0m\u001b[0;34m\u001b[0m\u001b[0m\n\u001b[0;32m--> 182\u001b[0;31m                 \u001b[0;32mraise\u001b[0m \u001b[0mbase\u001b[0m\u001b[0;34m.\u001b[0m\u001b[0mAckError\u001b[0m\u001b[0;34m(\u001b[0m\u001b[0mmsg\u001b[0m\u001b[0;34m=\u001b[0m\u001b[0;34m\"Command failed\"\u001b[0m\u001b[0;34m,\u001b[0m \u001b[0mackcmd\u001b[0m\u001b[0;34m=\u001b[0m\u001b[0mackcmd\u001b[0m\u001b[0;34m)\u001b[0m\u001b[0;34m\u001b[0m\u001b[0;34m\u001b[0m\u001b[0m\n\u001b[0m\u001b[1;32m    183\u001b[0m             \u001b[0;32mreturn\u001b[0m \u001b[0mackcmd\u001b[0m\u001b[0;34m\u001b[0m\u001b[0;34m\u001b[0m\u001b[0m\n\u001b[1;32m    184\u001b[0m         \u001b[0;32mexcept\u001b[0m \u001b[0masyncio\u001b[0m\u001b[0;34m.\u001b[0m\u001b[0mTimeoutError\u001b[0m\u001b[0;34m:\u001b[0m\u001b[0;34m\u001b[0m\u001b[0;34m\u001b[0m\u001b[0m\n",
      "\u001b[0;31mAckError\u001b[0m: msg='Command failed', ackcmd=(ackcmd private_seqNum=690344821, ack=<SalRetCode.CMD_FAILED: -302>, error=1, result=\"Failed: RuntimeError('<DeviceId.CAMERA_CABLE_WRAP: 4> off')\")"
     ]
    }
   ],
   "source": [
    "await mount.cmd_enableCameraCableWrapFollowing.set_start()"
   ]
  },
  {
   "cell_type": "code",
   "execution_count": 124,
   "id": "4ddaabae",
   "metadata": {},
   "outputs": [
    {
     "data": {
      "text/plain": [
       "<ddsutil.MTRotator_ackcmd_55ad33c7 at 0x7f231db803a0>"
      ]
     },
     "execution_count": 124,
     "metadata": {},
     "output_type": "execute_result"
    }
   ],
   "source": [
    "await rot.cmd_clearError.set_start()"
   ]
  },
  {
   "cell_type": "code",
   "execution_count": 125,
   "id": "24abdeda",
   "metadata": {},
   "outputs": [
    {
     "data": {
      "text/plain": [
       "[<State.STANDBY: 5>, <State.DISABLED: 1>, <State.ENABLED: 2>]"
      ]
     },
     "execution_count": 125,
     "metadata": {},
     "output_type": "execute_result"
    }
   ],
   "source": [
    "await salobj.set_summary_state(rot, salobj.State.ENABLED)"
   ]
  },
  {
   "cell_type": "markdown",
   "id": "11b4de98",
   "metadata": {},
   "source": [
    "### Get M1M3 ready (Mount telemetry mode)"
   ]
  },
  {
   "cell_type": "code",
   "execution_count": 92,
   "id": "b48c35e8",
   "metadata": {},
   "outputs": [
    {
     "data": {
      "text/plain": [
       "<ddsutil.MTMount_ackcmd_99f86545 at 0x7f232603db50>"
      ]
     },
     "execution_count": 92,
     "metadata": {},
     "output_type": "execute_result"
    }
   ],
   "source": [
    "#Move to zenith (so that we can start m1m3 with LUT in mount telemetry mode)\n",
    "await mount.cmd_moveToTarget.set_start(azimuth=0, elevation=90)"
   ]
  },
  {
   "cell_type": "code",
   "execution_count": 16,
   "id": "be722fff",
   "metadata": {},
   "outputs": [
    {
     "data": {
      "text/plain": [
       "<ddsutil.MTM1M3_logevent_heartbeat_5826283f at 0x7f2378740d00>"
      ]
     },
     "execution_count": 16,
     "metadata": {},
     "output_type": "execute_result"
    }
   ],
   "source": [
    "await m1m3.evt_heartbeat.next(flush=True, timeout=5)"
   ]
  },
  {
   "cell_type": "code",
   "execution_count": null,
   "id": "344303c8",
   "metadata": {},
   "outputs": [],
   "source": [
    "print('Re-enabling M1M3')\n",
    "#await salobj.set_summary_state(m1m3, salobj.State.STANDBY) \n",
    "await salobj.set_summary_state(m1m3, salobj.State.ENABLED, settingsToApply = 'Default') #enable m1m3"
   ]
  },
  {
   "cell_type": "code",
   "execution_count": 14,
   "id": "f9d2178c",
   "metadata": {},
   "outputs": [
    {
     "name": "stdout",
     "output_type": "stream",
     "text": [
      "m1m3 inclinometer Angle =  90.0\n",
      "M1M3 is raised\n",
      "m1m3 z position =  0.0\n",
      "Magnitude of the m1m3 force balance system 3479.10546875\n"
     ]
    }
   ],
   "source": [
    "await readyM1M3(m1m3)"
   ]
  },
  {
   "cell_type": "markdown",
   "id": "4810d297",
   "metadata": {},
   "source": [
    "### Get M2 ready"
   ]
  },
  {
   "cell_type": "code",
   "execution_count": 17,
   "id": "6975364b",
   "metadata": {},
   "outputs": [
    {
     "data": {
      "text/plain": [
       "<ddsutil.MTM2_logevent_heartbeat_453ad6b1 at 0x7f23787bac40>"
      ]
     },
     "execution_count": 17,
     "metadata": {},
     "output_type": "execute_result"
    }
   ],
   "source": [
    "await m2.evt_heartbeat.next(flush=True, timeout=5)"
   ]
  },
  {
   "cell_type": "code",
   "execution_count": null,
   "id": "166f2e77",
   "metadata": {},
   "outputs": [],
   "source": [
    "await salobj.set_summary_state(m2, salobj.State.ENABLED) "
   ]
  },
  {
   "cell_type": "code",
   "execution_count": 15,
   "id": "9c95f7fc",
   "metadata": {},
   "outputs": [
    {
     "name": "stdout",
     "output_type": "stream",
     "text": [
      "m2 inclinometer angle =  0.033274132462053685\n",
      "Status of the M2 force balance system True\n",
      "clear any M2 activeopticForces (or any other hunman-applied forces)\n"
     ]
    }
   ],
   "source": [
    "await readyM2(m2)"
   ]
  },
  {
   "cell_type": "markdown",
   "id": "43bca6d6",
   "metadata": {},
   "source": [
    "### Get camHex ready"
   ]
  },
  {
   "cell_type": "code",
   "execution_count": 26,
   "id": "4a5fc1cb",
   "metadata": {},
   "outputs": [
    {
     "name": "stdout",
     "output_type": "stream",
     "text": [
      "Mount target elevation =  90.0   @   2021-05-25 22:18:23.944214272\n",
      "Mount target azimuth   =  0.0   @   2021-05-25 22:18:23.944214272\n",
      "Rotator target position =  21.329276563855764   @   2021-05-07 12:51:27.033421312\n"
     ]
    }
   ],
   "source": [
    "target_evt = await mount.evt_target.aget(timeout=5.)\n",
    "print(\"Mount target elevation = \", target_evt.elevation, \"  @  \", pd.to_datetime(target_evt.private_sndStamp, unit='s'))\n",
    "print(\"Mount target azimuth   = \", target_evt.azimuth, \"  @  \", pd.to_datetime(target_evt.private_sndStamp, unit='s'))\n",
    "target_evt = await rot.evt_target.aget(timeout=5.)\n",
    "print(\"Rotator target position = \", target_evt.position, \"  @  \", pd.to_datetime(target_evt.private_sndStamp, unit='s'))"
   ]
  },
  {
   "cell_type": "code",
   "execution_count": null,
   "id": "016c51f5",
   "metadata": {},
   "outputs": [],
   "source": [
    "#if any of the above doesn't work\n",
    "await mount.cmd_moveToTarget.set_start(azimuth=0, elevation=90)\n",
    "await rot.cmd_move.set_start(position=0)"
   ]
  },
  {
   "cell_type": "code",
   "execution_count": 27,
   "id": "05b39c8a",
   "metadata": {},
   "outputs": [
    {
     "data": {
      "text/plain": [
       "<ddsutil.MTHexapod_logevent_heartbeat_8799b696 at 0x7f231db5aee0>"
      ]
     },
     "execution_count": 27,
     "metadata": {},
     "output_type": "execute_result"
    }
   ],
   "source": [
    "await camhex.evt_heartbeat.next(flush=True, timeout=5)"
   ]
  },
  {
   "cell_type": "code",
   "execution_count": 29,
   "id": "52a9a1f4",
   "metadata": {},
   "outputs": [
    {
     "name": "stdout",
     "output_type": "stream",
     "text": [
      "settingsVersion =  default.yaml:v0.7.2-0-g4375e27 2021-05-18 17:34:17.151204864\n",
      "pivot at (0, 0, 500000) microns \n",
      "maxXY =  11400.0 microns, maxZ=  13100.0  microns\n",
      "maxUV =  0.36 deg, maxW=  0.1  deg\n",
      "compsensation mode enabled? True 2021-05-18 17:36:34.992618752\n",
      "hexa in position? True 2021-05-25 22:52:24.580910592\n",
      "Current Hexapod position\n",
      "     -0.94    -652.94     395.57  -0.017752   0.000000  -0.000000\n",
      "hexa in position? False 2021-05-25 22:52:24.780633088\n",
      "hexa in position? True 2021-05-25 22:52:24.881603072\n",
      "Current Hexapod position\n",
      "     -0.88    -652.98     295.58  -0.017751  -0.000000   0.000000\n",
      "Uncompensated position\n",
      "      0.00       0.00       0.00      0.000000   0.000000   0.000000    2021-05-25 22:52:24.691219456\n",
      "Compensated position\n",
      "     -0.93    -652.98     295.56      -0.017752   0.000000   0.000000    2021-05-25 22:52:24.691528448\n",
      "Does the hexapod has enough inputs to do LUT compensation? (If the below times out, we do not.)\n",
      "mount elevation =  90.0\n",
      "mount azimth =  0.0\n",
      "rotator angle =  21.329276563855757\n",
      "? temperature =  0.0\n",
      "x,y,z,u,v,w =  -0.9277953986561538 -652.9817603435698 295.55616187160695 -0.017751637213551698 0.0 0.0\n"
     ]
    }
   ],
   "source": [
    "await readyHexaForAOS(camhex)"
   ]
  },
  {
   "cell_type": "markdown",
   "id": "6eee3874",
   "metadata": {},
   "source": [
    "### Get m2Hex ready"
   ]
  },
  {
   "cell_type": "code",
   "execution_count": 31,
   "id": "3a20f9f1",
   "metadata": {},
   "outputs": [
    {
     "name": "stdout",
     "output_type": "stream",
     "text": [
      "settingsVersion =  default.yaml:v0.7.2-0-g4375e27 2021-05-18 17:34:17.503598336\n",
      "pivot at (0, 0, 500000) microns \n",
      "maxXY =  10500.0 microns, maxZ=  8900.0  microns\n",
      "maxUV =  0.175 deg, maxW=  0.05  deg\n",
      "compsensation mode enabled? True 2021-05-18 17:38:00.095350528\n",
      "hexa in position? True 2021-05-25 22:52:52.921856768\n",
      "Current Hexapod position\n",
      "     -1.84    -572.58     404.65  -0.006649   0.000000   0.000000\n",
      "hexa in position? False 2021-05-25 22:52:53.124936704\n",
      "hexa in position? True 2021-05-25 22:52:53.226160640\n",
      "Current Hexapod position\n",
      "     -1.87    -572.60     304.68  -0.006649  -0.000000   0.000000\n",
      "Uncompensated position\n",
      "      0.00       0.00       0.00      0.000000   0.000000   0.000000    2021-05-25 22:52:53.029085952\n",
      "Compensated position\n",
      "     -1.84    -572.60     304.70      -0.006649   0.000000   0.000000    2021-05-25 22:52:53.029367552\n",
      "Does the hexapod has enough inputs to do LUT compensation? (If the below times out, we do not.)\n",
      "mount elevation =  90.0\n",
      "mount azimth =  0.0\n",
      "rotator angle =  21.329276563855757\n",
      "? temperature =  0.0\n",
      "x,y,z,u,v,w =  -1.8441913988085497 -572.5952409225999 304.69898977203695 -0.006648937907186499 0.0 0.0\n"
     ]
    }
   ],
   "source": [
    "await readyHexaForAOS(m2hex)"
   ]
  },
  {
   "cell_type": "code",
   "execution_count": null,
   "id": "791a3dca",
   "metadata": {},
   "outputs": [],
   "source": []
  },
  {
   "cell_type": "code",
   "execution_count": 32,
   "id": "1dda4983",
   "metadata": {},
   "outputs": [
    {
     "name": "stdout",
     "output_type": "stream",
     "text": [
      "No temperature data on the camera hexapod in the past 1000s.\n"
     ]
    }
   ],
   "source": [
    "end = Time(datetime.now(), scale='tai')\n",
    "start = end - timedelta(seconds=1000)\n",
    "df = await client.select_time_series('lsst.sal.ESS.temperature8Ch', '*', start, end, csc_index)\n",
    "if len(df)>0:\n",
    "    fig, ax = plt.subplots(1,1, figsize=(15,4))\n",
    "    for i in range(8):\n",
    "        plt.plot(getattr(df, 'temperatureC%02d'%i))\n",
    "    plt.grid()\n",
    "else:\n",
    "    print('No temperature data on the camera hexapod in the past 1000s.')"
   ]
  },
  {
   "cell_type": "code",
   "execution_count": null,
   "id": "b9b261e9",
   "metadata": {},
   "outputs": [],
   "source": []
  },
  {
   "cell_type": "code",
   "execution_count": null,
   "id": "af21097a",
   "metadata": {},
   "outputs": [],
   "source": []
  },
  {
   "cell_type": "code",
   "execution_count": null,
   "id": "ece66cdf",
   "metadata": {},
   "outputs": [],
   "source": []
  },
  {
   "cell_type": "markdown",
   "id": "cea47975",
   "metadata": {},
   "source": [
    "### Do a few slews"
   ]
  },
  {
   "cell_type": "code",
   "execution_count": 33,
   "id": "47a554e4",
   "metadata": {},
   "outputs": [],
   "source": [
    "#comment and uncomment the below depending on which components are expected to be on\n",
    "#by default, MTCS checks on every component (during the slew).\n",
    "mtcs.check.mtaos = False\n",
    "mtcs.check.mtm1m3 = True\n",
    "mtcs.check.mtm2 = True\n",
    "mtcs.check.mthexapod_1 = True\n",
    "mtcs.check.mthexapod_2 = True\n",
    "mtcs.check.mtdome = False\n",
    "mtcs.check.mtdometrajectory = False"
   ]
  },
  {
   "cell_type": "markdown",
   "id": "56c61965",
   "metadata": {},
   "source": [
    "#### Do 4 slews, then stop tracking"
   ]
  },
  {
   "cell_type": "code",
   "execution_count": 101,
   "id": "52d66c6f",
   "metadata": {
    "collapsed": true,
    "jupyter": {
     "outputs_hidden": true
    }
   },
   "outputs": [
    {
     "name": "stdout",
     "output_type": "stream",
     "text": [
      "15.760852914598091 -34.0\n",
      "15.527519581264759 -34.0\n",
      "15.793479625278861 -34.0\n",
      "15.560146291945529 -34.0\n"
     ]
    },
    {
     "ename": "NameError",
     "evalue": "name 'usePtg' is not defined",
     "output_type": "error",
     "traceback": [
      "\u001b[0;31m---------------------------------------------------------------------------\u001b[0m",
      "\u001b[0;31mNameError\u001b[0m                                 Traceback (most recent call last)",
      "\u001b[0;32m<ipython-input-101-5b05b334f848>\u001b[0m in \u001b[0;36m<module>\u001b[0;34m\u001b[0m\n\u001b[1;32m      8\u001b[0m         \u001b[0;32mawait\u001b[0m \u001b[0masyncio\u001b[0m\u001b[0;34m.\u001b[0m\u001b[0msleep\u001b[0m\u001b[0;34m(\u001b[0m\u001b[0;36m39.\u001b[0m\u001b[0;34m)\u001b[0m\u001b[0;34m\u001b[0m\u001b[0;34m\u001b[0m\u001b[0m\n\u001b[1;32m      9\u001b[0m         \u001b[0mra\u001b[0m \u001b[0;34m-=\u001b[0m \u001b[0;36m3.5\u001b[0m\u001b[0;34m/\u001b[0m\u001b[0;36m15.0\u001b[0m\u001b[0;34m\u001b[0m\u001b[0;34m\u001b[0m\u001b[0m\n\u001b[0;32m---> 10\u001b[0;31m \u001b[0;32mif\u001b[0m \u001b[0musePtg\u001b[0m\u001b[0;34m:\u001b[0m\u001b[0;34m\u001b[0m\u001b[0;34m\u001b[0m\u001b[0m\n\u001b[0m\u001b[1;32m     11\u001b[0m     \u001b[0;32mawait\u001b[0m \u001b[0mptg\u001b[0m\u001b[0;34m.\u001b[0m\u001b[0mcmd_stopTracking\u001b[0m\u001b[0;34m.\u001b[0m\u001b[0mset_start\u001b[0m\u001b[0;34m(\u001b[0m\u001b[0mtimeout\u001b[0m\u001b[0;34m=\u001b[0m\u001b[0;36m5.\u001b[0m\u001b[0;34m)\u001b[0m\u001b[0;34m\u001b[0m\u001b[0;34m\u001b[0m\u001b[0m\n",
      "\u001b[0;31mNameError\u001b[0m: name 'usePtg' is not defined"
     ]
    }
   ],
   "source": [
    "if not summit: #the large slews here will cause M1M3 fault on the summit\n",
    "    dec = -34.\n",
    "    for j in range(2):\n",
    "        time_and_date = await mtcs.rem.mtptg.tel_timeAndDate.next(flush=True, timeout=5)\n",
    "        ra = time_and_date.lst + 0.5\n",
    "        for i in range(2):\n",
    "            print(ra, dec)\n",
    "            await mtcs.slew_icrs(ra=ra, dec=dec, rot=0., rot_type=RotType.PhysicalSky)\n",
    "            await asyncio.sleep(39.)\n",
    "            ra -= 3.5/15.0\n",
    "\n",
    "    await ptg.cmd_stopTracking.set_start(timeout=5.)"
   ]
  },
  {
   "cell_type": "code",
   "execution_count": 118,
   "id": "682e3d5e",
   "metadata": {},
   "outputs": [
    {
     "name": "stdout",
     "output_type": "stream",
     "text": [
      "moving from elevation 80.9 deg to 82.3 deg\n",
      "This will run for 25 seconds\n",
      "81.0229462346934 0.0 0.016689006487528482\n",
      "81.14900240913062 0.0 0.041900241374969484\n",
      "81.2812037429713 0.0 0.06834050814310709\n",
      "81.41393345211971 0.0 0.09488644997278849\n",
      "81.5468292794131 0.0 0.1214656154314677\n",
      "81.67983934894232 0.0 0.1480676293373108\n",
      "81.81275093173015 0.0 0.17464994589487712\n",
      "81.93950120225577 0.0 0.2\n",
      "81.93950120225577 0.0 0.2\n",
      "81.93950120225577 0.0 0.2\n",
      "81.93950120225577 0.0 0.2\n",
      "81.93950120225577 0.0 0.2\n",
      "81.98000392928748 1.0 0.00810054540634153\n",
      "82.09840066845247 1.0 0.03177989323933916\n",
      "82.22937259689002 1.0 0.05797427892684931\n",
      "82.36211945230791 1.0 0.08452365001042678\n",
      "start a slew\n",
      "moving from elevation 82.6 deg to 84.9 deg\n",
      "This will run for 41 seconds\n",
      "82.70728518782227 0.0 0.016695070266723632\n",
      "83.84029253540604 1.0 0.04329653978347775\n",
      "84.03536755063304 1.0 0.0823115428288777\n",
      "84.17531170664398 1.0 0.11030037403106685\n",
      "84.30900595802235 1.0 0.1370392243067423\n",
      "84.44200603383946 1.0 0.16363923947016396\n",
      "84.5748791517632 1.0 0.19021386305491123\n",
      "84.62380983648865 1.0 0.2\n",
      "84.62380983648865 1.0 0.2\n",
      "84.62380983648865 1.0 0.2\n",
      "84.62380983648865 1.0 0.2\n",
      "84.62971282222041 2.0 0.0011805971463519915\n",
      "84.73701103745071 2.0 0.022640240192413286\n",
      "84.86674597082703 2.0 0.04858722686767569\n",
      "start a slew\n"
     ]
    },
    {
     "ename": "AckError",
     "evalue": "msg='Command failed', ackcmd=(ackcmd private_seqNum=2070072708, ack=<SalRetCode.CMD_FAILED: -302>, error=6612, result='Rejected : command not allowed in current state')",
     "output_type": "error",
     "traceback": [
      "\u001b[0;31m---------------------------------------------------------------------------\u001b[0m",
      "\u001b[0;31mAckError\u001b[0m                                  Traceback (most recent call last)",
      "\u001b[0;32m<ipython-input-118-34898ab19f71>\u001b[0m in \u001b[0;36m<module>\u001b[0;34m\u001b[0m\n\u001b[1;32m     19\u001b[0m         \u001b[0;32mawait\u001b[0m \u001b[0mmtcs\u001b[0m\u001b[0;34m.\u001b[0m\u001b[0mslew_icrs\u001b[0m\u001b[0;34m(\u001b[0m\u001b[0mra\u001b[0m\u001b[0;34m=\u001b[0m\u001b[0mra\u001b[0m\u001b[0;34m,\u001b[0m \u001b[0mdec\u001b[0m\u001b[0;34m=\u001b[0m\u001b[0mdec\u001b[0m\u001b[0;34m,\u001b[0m \u001b[0mrot\u001b[0m\u001b[0;34m=\u001b[0m\u001b[0mb\u001b[0m\u001b[0;34m.\u001b[0m\u001b[0mactualPosition\u001b[0m\u001b[0;34m,\u001b[0m \u001b[0mrot_type\u001b[0m\u001b[0;34m=\u001b[0m\u001b[0mRotType\u001b[0m\u001b[0;34m.\u001b[0m\u001b[0mPhysicalSky\u001b[0m\u001b[0;34m)\u001b[0m\u001b[0;34m\u001b[0m\u001b[0;34m\u001b[0m\u001b[0m\n\u001b[1;32m     20\u001b[0m         \u001b[0;32mawait\u001b[0m \u001b[0masyncio\u001b[0m\u001b[0;34m.\u001b[0m\u001b[0msleep\u001b[0m\u001b[0;34m(\u001b[0m\u001b[0;36m39.\u001b[0m\u001b[0;34m)\u001b[0m\u001b[0;34m\u001b[0m\u001b[0;34m\u001b[0m\u001b[0m\n\u001b[0;32m---> 21\u001b[0;31m         \u001b[0;32mawait\u001b[0m \u001b[0mptg\u001b[0m\u001b[0;34m.\u001b[0m\u001b[0mcmd_stopTracking\u001b[0m\u001b[0;34m.\u001b[0m\u001b[0mset_start\u001b[0m\u001b[0;34m(\u001b[0m\u001b[0mtimeout\u001b[0m\u001b[0;34m=\u001b[0m\u001b[0;36m5.\u001b[0m\u001b[0;34m)\u001b[0m\u001b[0;34m\u001b[0m\u001b[0;34m\u001b[0m\u001b[0m\n\u001b[0m\u001b[1;32m     22\u001b[0m         \u001b[0mra\u001b[0m \u001b[0;34m-=\u001b[0m \u001b[0;36m3.5\u001b[0m\u001b[0;34m/\u001b[0m\u001b[0;36m15.0\u001b[0m\u001b[0;34m\u001b[0m\u001b[0;34m\u001b[0m\u001b[0m\n\u001b[1;32m     23\u001b[0m     \u001b[0;32mbreak\u001b[0m\u001b[0;34m\u001b[0m\u001b[0;34m\u001b[0m\u001b[0m\n",
      "\u001b[0;32m/opt/lsst/src/ts_salobj/python/lsst/ts/salobj/topics/remote_command.py\u001b[0m in \u001b[0;36mset_start\u001b[0;34m(self, timeout, wait_done, **kwargs)\u001b[0m\n\u001b[1;32m    392\u001b[0m         \"\"\"\n\u001b[1;32m    393\u001b[0m         \u001b[0mself\u001b[0m\u001b[0;34m.\u001b[0m\u001b[0mset\u001b[0m\u001b[0;34m(\u001b[0m\u001b[0;34m**\u001b[0m\u001b[0mkwargs\u001b[0m\u001b[0;34m)\u001b[0m\u001b[0;34m\u001b[0m\u001b[0;34m\u001b[0m\u001b[0m\n\u001b[0;32m--> 394\u001b[0;31m         \u001b[0;32mreturn\u001b[0m \u001b[0;32mawait\u001b[0m \u001b[0mself\u001b[0m\u001b[0;34m.\u001b[0m\u001b[0mstart\u001b[0m\u001b[0;34m(\u001b[0m\u001b[0mtimeout\u001b[0m\u001b[0;34m=\u001b[0m\u001b[0mtimeout\u001b[0m\u001b[0;34m,\u001b[0m \u001b[0mwait_done\u001b[0m\u001b[0;34m=\u001b[0m\u001b[0mwait_done\u001b[0m\u001b[0;34m)\u001b[0m\u001b[0;34m\u001b[0m\u001b[0;34m\u001b[0m\u001b[0m\n\u001b[0m\u001b[1;32m    395\u001b[0m \u001b[0;34m\u001b[0m\u001b[0m\n\u001b[1;32m    396\u001b[0m     \u001b[0;32masync\u001b[0m \u001b[0;32mdef\u001b[0m \u001b[0mstart\u001b[0m\u001b[0;34m(\u001b[0m\u001b[0mself\u001b[0m\u001b[0;34m,\u001b[0m \u001b[0mdata\u001b[0m\u001b[0;34m=\u001b[0m\u001b[0;32mNone\u001b[0m\u001b[0;34m,\u001b[0m \u001b[0mtimeout\u001b[0m\u001b[0;34m=\u001b[0m\u001b[0mDEFAULT_TIMEOUT\u001b[0m\u001b[0;34m,\u001b[0m \u001b[0mwait_done\u001b[0m\u001b[0;34m=\u001b[0m\u001b[0;32mTrue\u001b[0m\u001b[0;34m)\u001b[0m\u001b[0;34m:\u001b[0m\u001b[0;34m\u001b[0m\u001b[0;34m\u001b[0m\u001b[0m\n",
      "\u001b[0;32m/opt/lsst/src/ts_salobj/python/lsst/ts/salobj/topics/remote_command.py\u001b[0m in \u001b[0;36mstart\u001b[0;34m(self, data, timeout, wait_done)\u001b[0m\n\u001b[1;32m    447\u001b[0m         )\n\u001b[1;32m    448\u001b[0m         \u001b[0mself\u001b[0m\u001b[0;34m.\u001b[0m\u001b[0msalinfo\u001b[0m\u001b[0;34m.\u001b[0m\u001b[0m_running_cmds\u001b[0m\u001b[0;34m[\u001b[0m\u001b[0mseq_num\u001b[0m\u001b[0;34m]\u001b[0m \u001b[0;34m=\u001b[0m \u001b[0mcmd_info\u001b[0m\u001b[0;34m\u001b[0m\u001b[0;34m\u001b[0m\u001b[0m\n\u001b[0;32m--> 449\u001b[0;31m         \u001b[0;32mreturn\u001b[0m \u001b[0;32mawait\u001b[0m \u001b[0mcmd_info\u001b[0m\u001b[0;34m.\u001b[0m\u001b[0mnext_ackcmd\u001b[0m\u001b[0;34m(\u001b[0m\u001b[0mtimeout\u001b[0m\u001b[0;34m=\u001b[0m\u001b[0mtimeout\u001b[0m\u001b[0;34m)\u001b[0m\u001b[0;34m\u001b[0m\u001b[0;34m\u001b[0m\u001b[0m\n\u001b[0m",
      "\u001b[0;32m/opt/lsst/src/ts_salobj/python/lsst/ts/salobj/topics/remote_command.py\u001b[0m in \u001b[0;36mnext_ackcmd\u001b[0;34m(self, timeout)\u001b[0m\n\u001b[1;32m    180\u001b[0m             \u001b[0mackcmd\u001b[0m \u001b[0;34m=\u001b[0m \u001b[0;32mawait\u001b[0m \u001b[0mself\u001b[0m\u001b[0;34m.\u001b[0m\u001b[0m_wait_task\u001b[0m\u001b[0;34m\u001b[0m\u001b[0;34m\u001b[0m\u001b[0m\n\u001b[1;32m    181\u001b[0m             \u001b[0;32mif\u001b[0m \u001b[0mackcmd\u001b[0m\u001b[0;34m.\u001b[0m\u001b[0mack\u001b[0m \u001b[0;32min\u001b[0m \u001b[0mself\u001b[0m\u001b[0;34m.\u001b[0m\u001b[0mfailed_ack_codes\u001b[0m\u001b[0;34m:\u001b[0m\u001b[0;34m\u001b[0m\u001b[0;34m\u001b[0m\u001b[0m\n\u001b[0;32m--> 182\u001b[0;31m                 \u001b[0;32mraise\u001b[0m \u001b[0mbase\u001b[0m\u001b[0;34m.\u001b[0m\u001b[0mAckError\u001b[0m\u001b[0;34m(\u001b[0m\u001b[0mmsg\u001b[0m\u001b[0;34m=\u001b[0m\u001b[0;34m\"Command failed\"\u001b[0m\u001b[0;34m,\u001b[0m \u001b[0mackcmd\u001b[0m\u001b[0;34m=\u001b[0m\u001b[0mackcmd\u001b[0m\u001b[0;34m)\u001b[0m\u001b[0;34m\u001b[0m\u001b[0;34m\u001b[0m\u001b[0m\n\u001b[0m\u001b[1;32m    183\u001b[0m             \u001b[0;32mreturn\u001b[0m \u001b[0mackcmd\u001b[0m\u001b[0;34m\u001b[0m\u001b[0;34m\u001b[0m\u001b[0m\n\u001b[1;32m    184\u001b[0m         \u001b[0;32mexcept\u001b[0m \u001b[0masyncio\u001b[0m\u001b[0;34m.\u001b[0m\u001b[0mTimeoutError\u001b[0m\u001b[0;34m:\u001b[0m\u001b[0;34m\u001b[0m\u001b[0;34m\u001b[0m\u001b[0m\n",
      "\u001b[0;31mAckError\u001b[0m: msg='Command failed', ackcmd=(ackcmd private_seqNum=2070072708, ack=<SalRetCode.CMD_FAILED: -302>, error=6612, result='Rejected : command not allowed in current state')"
     ]
    }
   ],
   "source": [
    "dec = -34.\n",
    "for j in range(2):\n",
    "    time_and_date = await mtcs.rem.mtptg.tel_timeAndDate.next(flush=True, timeout=5)\n",
    "    ra = time_and_date.lst + 0.5\n",
    "    for i in range(2):\n",
    "        \n",
    "        aa = await mount.tel_elevation.next(flush=True, timeout=5.)\n",
    "        current_el = aa.actualPosition\n",
    "        \n",
    "        obs_time = salobj.astropy_time_from_tai_unix(salobj.current_tai() + 0.) #with 0s delay\n",
    "        azel = mtcs.azel_from_radec(ra=ra, dec=dec, time=obs_time)\n",
    "        target_el = azel.alt.value\n",
    "        \n",
    "        print('moving from elevation %.1f deg to %.1f deg'%(current_el, target_el), Time.now())\n",
    "        await moveMountConstantV(mount, current_el, target_el)\n",
    "        print('start a slew', Time.now())\n",
    "\n",
    "        b = await mount.tel_cameraCableWrap.next(flush=True, timeout=5) #CCW doesn't follow rotator!!!\n",
    "        await mtcs.slew_icrs(ra=ra, dec=dec, rot=b.actualPosition, rot_type=RotType.PhysicalSky)\n",
    "        await asyncio.sleep(39.)\n",
    "        await ptg.cmd_stopTracking.set_start(timeout=5.)\n",
    "        ra -= 3.5/15.0\n",
    "    break"
   ]
  },
  {
   "cell_type": "code",
   "execution_count": 120,
   "id": "5afca183",
   "metadata": {},
   "outputs": [
    {
     "name": "stdout",
     "output_type": "stream",
     "text": [
      "2021-05-26 04:36:05.671703\n"
     ]
    }
   ],
   "source": [
    "print(Time.now())"
   ]
  },
  {
   "cell_type": "markdown",
   "id": "2042d58a",
   "metadata": {},
   "source": [
    "#### Plot the above process"
   ]
  },
  {
   "cell_type": "code",
   "execution_count": null,
   "id": "f51ef6cc",
   "metadata": {},
   "outputs": [],
   "source": [
    "end = Time(datetime.now(), scale='tai')\n",
    "start = end - timedelta(seconds=1000)\n",
    "\n",
    "dfm = await client.select_time_series('lsst.sal.MTMount.elevation', '*', start, end, csc_index)\n",
    "dfm1m3 = await client.select_time_series('lsst.sal.MTM1M3.logevent_appliedElevationForces', '*', start, end, csc_index)\n",
    "dfm2 = await client.select_time_series('lsst.sal.MTM2.axialForce', '*', start, end, csc_index)\n",
    "dfh = await client.select_time_series('lsst.sal.MTHexapod.application', '*', start, end, csc_index)\n",
    "\n",
    "idx1=dfh.MTHexapodID==1\n",
    "dfh1 = dfh[idx1]\n",
    "idx2=dfh.MTHexapodID==2\n",
    "dfh2 = dfh[idx2]\n",
    "\n",
    "fig, ax = plt.subplots(1,1, figsize=(15,4))\n",
    "plt.plot(dfm.actualPosition, '--', label='mount elevation')\n",
    "plt.plot(dfm1m3.yForces0, label='M1M3 elevation y-force 101')\n",
    "plt.plot(dfm2.lutGravity0, label='M2 elevation force B1')\n",
    "plt.plot(dfh1.position1, label='Camera hexapod y')\n",
    "plt.plot(dfh2.position1, label='M2 hexapod y')\n",
    "plt.grid()\n",
    "plt.legend()"
   ]
  },
  {
   "cell_type": "markdown",
   "id": "3e037982",
   "metadata": {},
   "source": [
    "#### Check if the telescope is in tracking mode. If yes, need to stop stacking.\n",
    "\n",
    "The alternative is to check \"MT Mount status\" dash board on Chronograf. Make sure there are three \"False\"."
   ]
  },
  {
   "cell_type": "code",
   "execution_count": null,
   "id": "095262b7",
   "metadata": {},
   "outputs": [],
   "source": [
    "mountStatus = await mount.evt_axesInPosition.aget(timeout=5.)\n",
    "rotStatus = await rot.evt_inPosition.aget(timeout=5.)\n",
    "trackingStatus = mountStatus.elevation and mountStatus.azimuth and rotStatus.inPosition\n",
    "print('Are we tracking?', trackingStatus)"
   ]
  },
  {
   "cell_type": "code",
   "execution_count": 115,
   "id": "3fd3f069",
   "metadata": {},
   "outputs": [
    {
     "data": {
      "text/plain": [
       "<ddsutil.MTPtg_ackcmd_3098b1b6 at 0x7f231ddb47f0>"
      ]
     },
     "execution_count": 115,
     "metadata": {},
     "output_type": "execute_result"
    }
   ],
   "source": [
    "await ptg.cmd_stopTracking.set_start(timeout=5.)"
   ]
  },
  {
   "cell_type": "markdown",
   "id": "d8e5fd55",
   "metadata": {},
   "source": [
    "#### Close up. Put all simulators to standby"
   ]
  },
  {
   "cell_type": "code",
   "execution_count": null,
   "id": "244ad8d5",
   "metadata": {},
   "outputs": [],
   "source": [
    "await salobj.set_summary_state(ptg, salobj.State.STANDBY)"
   ]
  },
  {
   "cell_type": "code",
   "execution_count": null,
   "id": "213aca4f",
   "metadata": {},
   "outputs": [],
   "source": [
    "await salobj.set_summary_state(rot, salobj.State.STANDBY)"
   ]
  },
  {
   "cell_type": "code",
   "execution_count": null,
   "id": "ff54c5fb",
   "metadata": {},
   "outputs": [],
   "source": [
    "await salobj.set_summary_state(mount, salobj.State.STANDBY)"
   ]
  }
 ],
 "metadata": {
  "kernelspec": {
   "display_name": "LSST",
   "language": "python",
   "name": "lsst"
  },
  "language_info": {
   "codemirror_mode": {
    "name": "ipython",
    "version": 3
   },
   "file_extension": ".py",
   "mimetype": "text/x-python",
   "name": "python",
   "nbconvert_exporter": "python",
   "pygments_lexer": "ipython3",
   "version": "3.8.8"
  }
 },
 "nbformat": 4,
 "nbformat_minor": 5
}
