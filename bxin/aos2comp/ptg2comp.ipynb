{
 "cells": [
  {
   "cell_type": "markdown",
   "id": "7c8ee091",
   "metadata": {},
   "source": [
    "## This notebook does slew simulations, and check all aos components (M1M3, M2, hexapods) behavior during the slew-and-track process\n",
    "\n",
    "This is expected to work both for SUMMIT and NCSA"
   ]
  },
  {
   "cell_type": "code",
   "execution_count": 1,
   "id": "c5ea0540",
   "metadata": {},
   "outputs": [],
   "source": [
    "%load_ext autoreload\n",
    "%autoreload 2"
   ]
  },
  {
   "cell_type": "code",
   "execution_count": 2,
   "id": "c46ee190",
   "metadata": {},
   "outputs": [
    {
     "name": "stderr",
     "output_type": "stream",
     "text": [
      "Patching auth into notebook.base.handlers.IPythonHandler(notebook.base.handlers.AuthenticatedHandler) -> IPythonHandler(jupyterhub.singleuser.mixins.HubAuthenticatedHandler, notebook.base.handlers.AuthenticatedHandler)\n"
     ]
    },
    {
     "data": {
      "text/plain": [
       "'andes03.cp.lsst.org'"
      ]
     },
     "execution_count": 2,
     "metadata": {},
     "output_type": "execute_result"
    }
   ],
   "source": [
    "import rubin_jupyter_utils.lab.notebook as nb\n",
    "nb.utils.get_node()"
   ]
  },
  {
   "cell_type": "code",
   "execution_count": 3,
   "id": "153f0657",
   "metadata": {},
   "outputs": [
    {
     "name": "stderr",
     "output_type": "stream",
     "text": [
      "Update leap second table\n",
      "current_tai uses the system TAI clock\n",
      "Note: NumExpr detected 32 cores but \"NUMEXPR_MAX_THREADS\" not set, so enforcing safe limit of 8.\n",
      "NumExpr defaulting to 8 threads.\n"
     ]
    },
    {
     "data": {
      "text/plain": [
       "<Figure size 432x288 with 0 Axes>"
      ]
     },
     "metadata": {},
     "output_type": "display_data"
    }
   ],
   "source": [
    "from lsst.ts import salobj\n",
    "import asyncio\n",
    "import os\n",
    "import yaml\n",
    "\n",
    "import numpy as np\n",
    "from matplotlib import pyplot as plt\n",
    "from astropy.time import Time\n",
    "from datetime import datetime, timedelta\n",
    "import pandas as pd\n",
    "import logging\n",
    "\n",
    "from lsst.ts.idl.enums import MTHexapod\n",
    "\n",
    "from lsst.ts.observatory.control.maintel.mtcs import MTCS, MTCSUsages\n",
    "from lsst.ts.observatory.control import RotType\n",
    "from astropy.coordinates import AltAz, ICRS, EarthLocation, Angle, FK5\n",
    "import astropy.units as u\n",
    "\n",
    "from aosTools import *\n",
    "\n",
    "plt.jet();"
   ]
  },
  {
   "cell_type": "code",
   "execution_count": 4,
   "id": "352a5d35",
   "metadata": {},
   "outputs": [],
   "source": [
    "summit = 1 #use this for summit testing\n",
    "#summit = 0 #use this for NCSA"
   ]
  },
  {
   "cell_type": "code",
   "execution_count": 5,
   "id": "614360b9",
   "metadata": {},
   "outputs": [
    {
     "name": "stdout",
     "output_type": "stream",
     "text": [
      "file:///home/bxin/WORK/ts_ddsconfig/config/ospl-shmem.xml\n",
      "summit\n",
      "0\n"
     ]
    }
   ],
   "source": [
    "print(os.environ[\"OSPL_URI\"])\n",
    "print(os.environ[\"LSST_DDS_PARTITION_PREFIX\"])\n",
    "print(os.environ[\"LSST_DDS_DOMAIN_ID\"])"
   ]
  },
  {
   "cell_type": "code",
   "execution_count": 6,
   "id": "bb85e7bd",
   "metadata": {},
   "outputs": [],
   "source": [
    "logging.basicConfig(format=\"%(name)s:%(message)s\", level=logging.DEBUG)"
   ]
  },
  {
   "cell_type": "code",
   "execution_count": 7,
   "id": "f13c6e4d",
   "metadata": {},
   "outputs": [],
   "source": [
    "from lsst_efd_client import EfdClient\n",
    "\n",
    "if summit:\n",
    "    client = EfdClient('summit_efd')\n",
    "else:\n",
    "    client = EfdClient('ncsa_teststand_efd')\n",
    "csc_index = 1"
   ]
  },
  {
   "cell_type": "code",
   "execution_count": 8,
   "id": "5a186cc8",
   "metadata": {},
   "outputs": [
    {
     "name": "stderr",
     "output_type": "stream",
     "text": [
      "Read historical data in 0.00 sec\n"
     ]
    }
   ],
   "source": [
    "#index is an integter which helps avoid multple users starting same controller\n",
    "script = salobj.Controller(\"Script\", index=7)"
   ]
  },
  {
   "cell_type": "code",
   "execution_count": 9,
   "id": "2a416173",
   "metadata": {},
   "outputs": [
    {
     "name": "stderr",
     "output_type": "stream",
     "text": [
      "Read historical data in 0.09 sec\n",
      "Read historical data in 0.16 sec\n",
      "elevation DDS read queue is full (100 elements); data may be lost\n",
      "electrical DDS read queue is full (100 elements); data may be lost\n",
      "cameraCableWrap DDS read queue is full (100 elements); data may be lost\n",
      "electrical DDS read queue is filling: 76 of 100 elements\n",
      "timeAndDate DDS read queue is full (100 elements); data may be lost\n",
      "rotation DDS read queue is full (100 elements); data may be lost\n",
      "application DDS read queue is full (100 elements); data may be lost\n",
      "azimuth DDS read queue is full (100 elements); data may be lost\n",
      "application DDS read queue is filling: 78 of 100 elements\n",
      "motors DDS read queue is full (100 elements); data may be lost\n",
      "mountStatus DDS read queue is full (100 elements); data may be lost\n",
      "actuators DDS read queue is full (100 elements); data may be lost\n",
      "actuators DDS read queue is filling: 78 of 100 elements\n",
      "electrical DDS read queue is full (100 elements); data may be lost\n",
      "mountPosition DDS read queue is full (100 elements); data may be lost\n",
      "ccwFollowingError DDS read queue is full (100 elements); data may be lost\n",
      "currentTargetStatus DDS read queue is full (100 elements); data may be lost\n"
     ]
    }
   ],
   "source": [
    "mtcs = MTCS(script.domain)\n",
    "mtcs.set_rem_loglevel(40)"
   ]
  },
  {
   "cell_type": "code",
   "execution_count": 10,
   "id": "3e5118fb",
   "metadata": {},
   "outputs": [
    {
     "data": {
      "text/plain": [
       "[None, None, None, None, None, None, None, None, None, None]"
      ]
     },
     "execution_count": 10,
     "metadata": {},
     "output_type": "execute_result"
    }
   ],
   "source": [
    "await mtcs.start_task"
   ]
  },
  {
   "cell_type": "code",
   "execution_count": 11,
   "id": "c4762906",
   "metadata": {},
   "outputs": [
    {
     "data": {
      "text/plain": [
       "['mtmount',\n",
       " 'mtptg',\n",
       " 'mtaos',\n",
       " 'mtm1m3',\n",
       " 'mtm2',\n",
       " 'mthexapod_1',\n",
       " 'mthexapod_2',\n",
       " 'mtrotator',\n",
       " 'mtdome',\n",
       " 'mtdometrajectory']"
      ]
     },
     "execution_count": 11,
     "metadata": {},
     "output_type": "execute_result"
    }
   ],
   "source": [
    "mtcs.components_attr"
   ]
  },
  {
   "cell_type": "code",
   "execution_count": 12,
   "id": "77ecf984",
   "metadata": {},
   "outputs": [],
   "source": [
    "ptg = mtcs.rem.mtptg\n",
    "mount = mtcs.rem.mtmount\n",
    "rot = mtcs.rem.mtrotator\n",
    "camhex = mtcs.rem.mthexapod_1\n",
    "m2hex = mtcs.rem.mthexapod_2\n",
    "m1m3 = mtcs.rem.mtm1m3\n",
    "m2 = mtcs.rem.mtm2\n",
    "#aos = mtcs.rem.mtaos"
   ]
  },
  {
   "cell_type": "markdown",
   "id": "c724aecc",
   "metadata": {},
   "source": [
    "### Get Ptg ready"
   ]
  },
  {
   "cell_type": "code",
   "execution_count": 13,
   "id": "43bc10f4",
   "metadata": {},
   "outputs": [
    {
     "data": {
      "text/plain": [
       "<ddsutil.MTPtg_logevent_heartbeat_9be8ac81 at 0x7f0249d83cd0>"
      ]
     },
     "execution_count": 13,
     "metadata": {},
     "output_type": "execute_result"
    }
   ],
   "source": [
    "await ptg.evt_heartbeat.next(flush=True, timeout=5)"
   ]
  },
  {
   "cell_type": "code",
   "execution_count": 20,
   "id": "55ca8bab",
   "metadata": {},
   "outputs": [
    {
     "data": {
      "text/plain": [
       "<ddsutil.MTPtg_ackcmd_3098b1b6 at 0x7f81db162280>"
      ]
     },
     "execution_count": 20,
     "metadata": {},
     "output_type": "execute_result"
    }
   ],
   "source": [
    "await ptg.cmd_start.set_start()"
   ]
  },
  {
   "cell_type": "code",
   "execution_count": 101,
   "id": "5da6cc71",
   "metadata": {},
   "outputs": [
    {
     "data": {
      "text/plain": [
       "[<State.FAULT: 3>, <State.STANDBY: 5>, <State.DISABLED: 1>, <State.ENABLED: 2>]"
      ]
     },
     "execution_count": 101,
     "metadata": {},
     "output_type": "execute_result"
    }
   ],
   "source": [
    "await salobj.set_summary_state(ptg, salobj.State.ENABLED)"
   ]
  },
  {
   "cell_type": "markdown",
   "id": "52d3ad49",
   "metadata": {},
   "source": [
    "### Get Mount ready"
   ]
  },
  {
   "cell_type": "code",
   "execution_count": 15,
   "id": "0a52e514",
   "metadata": {},
   "outputs": [
    {
     "data": {
      "text/plain": [
       "<ddsutil.MTMount_logevent_heartbeat_a499b5c4 at 0x7f024aaa8a90>"
      ]
     },
     "execution_count": 15,
     "metadata": {},
     "output_type": "execute_result"
    }
   ],
   "source": [
    "await mount.evt_heartbeat.next(flush=True, timeout=5)"
   ]
  },
  {
   "cell_type": "code",
   "execution_count": 16,
   "id": "1609aab9",
   "metadata": {},
   "outputs": [
    {
     "name": "stdout",
     "output_type": "stream",
     "text": [
      "simulation mode?  1 2021-07-08 21:58:51.159002112\n"
     ]
    }
   ],
   "source": [
    "sim_evt = await mount.evt_simulationMode.aget(timeout=5)\n",
    "print('simulation mode? ', sim_evt.mode, pd.to_datetime(sim_evt.private_sndStamp, unit='s'))"
   ]
  },
  {
   "cell_type": "code",
   "execution_count": 17,
   "id": "ae66fdaf",
   "metadata": {},
   "outputs": [
    {
     "name": "stdout",
     "output_type": "stream",
     "text": [
      "simulation mode?  0.18.1 2021-07-08 21:58:51.174109440\n"
     ]
    }
   ],
   "source": [
    "a = await mount.evt_softwareVersions.aget(timeout=5)\n",
    "print('simulation mode? ', a.cscVersion, pd.to_datetime(a.private_sndStamp, unit='s'))"
   ]
  },
  {
   "cell_type": "code",
   "execution_count": null,
   "id": "5abf7535",
   "metadata": {},
   "outputs": [],
   "source": [
    "a = await mount.evt_cameraCableWrapFollowing.aget()\n",
    "print(a.enabled, pd.to_datetime(a.private_sndStamp, unit='s'))"
   ]
  },
  {
   "cell_type": "code",
   "execution_count": 41,
   "id": "4ac83fc5",
   "metadata": {},
   "outputs": [
    {
     "data": {
      "text/plain": [
       "[<State.STANDBY: 5>, <State.OFFLINE: 4>]"
      ]
     },
     "execution_count": 41,
     "metadata": {},
     "output_type": "execute_result"
    }
   ],
   "source": [
    "await salobj.set_summary_state(mount, salobj.State.OFFLINE)"
   ]
  },
  {
   "cell_type": "code",
   "execution_count": 25,
   "id": "368dda4a",
   "metadata": {},
   "outputs": [
    {
     "data": {
      "text/plain": [
       "<ddsutil.MTMount_ackcmd_99f86545 at 0x7f81af555d00>"
      ]
     },
     "execution_count": 25,
     "metadata": {},
     "output_type": "execute_result"
    }
   ],
   "source": [
    "await mount.cmd_start.set_start()"
   ]
  },
  {
   "cell_type": "code",
   "execution_count": 95,
   "id": "8740e4aa",
   "metadata": {},
   "outputs": [
    {
     "data": {
      "text/plain": [
       "[<State.DISABLED: 1>, <State.ENABLED: 2>]"
      ]
     },
     "execution_count": 95,
     "metadata": {},
     "output_type": "execute_result"
    }
   ],
   "source": [
    "await salobj.set_summary_state(mount, salobj.State.ENABLED)"
   ]
  },
  {
   "cell_type": "code",
   "execution_count": 106,
   "id": "7c164799",
   "metadata": {},
   "outputs": [
    {
     "name": "stdout",
     "output_type": "stream",
     "text": [
      "Camera cable wrap not following closely enough: error # 52 = -5.304842182718602 > 2.2 deg 2021-07-06 17:33:07.067059200\n",
      "CCW folowing?  0 2021-07-06 17:50:10.558529536\n"
     ]
    }
   ],
   "source": [
    "await showSlewError(ptg, mount, rot)"
   ]
  },
  {
   "cell_type": "markdown",
   "id": "7a828b52",
   "metadata": {},
   "source": [
    "### Get Rotator ready"
   ]
  },
  {
   "cell_type": "code",
   "execution_count": 59,
   "id": "9e826ece",
   "metadata": {},
   "outputs": [
    {
     "name": "stdout",
     "output_type": "stream",
     "text": [
      "staring with: ptg state State.ENABLED 2021-07-13 13:09:57.814151168\n",
      "staring with: mount state State.ENABLED 2021-07-13 16:50:30.308591104\n",
      "staring with: rot state State.STANDBY 2021-07-13 18:12:01.383107072\n"
     ]
    }
   ],
   "source": [
    "await checkSlewCompStates(ptg, mount, rot)"
   ]
  },
  {
   "cell_type": "code",
   "execution_count": 62,
   "id": "09397bba",
   "metadata": {},
   "outputs": [
    {
     "data": {
      "text/plain": [
       "[<State.ENABLED: 2>,\n",
       " <State.DISABLED: 1>,\n",
       " <State.STANDBY: 5>,\n",
       " <State.OFFLINE: 4>]"
      ]
     },
     "execution_count": 62,
     "metadata": {},
     "output_type": "execute_result"
    }
   ],
   "source": [
    "await salobj.set_summary_state(rot, salobj.State.OFFLINE)"
   ]
  },
  {
   "cell_type": "code",
   "execution_count": 60,
   "id": "eecb6724",
   "metadata": {},
   "outputs": [
    {
     "data": {
      "text/plain": [
       "[<State.STANDBY: 5>, <State.DISABLED: 1>, <State.ENABLED: 2>]"
      ]
     },
     "execution_count": 60,
     "metadata": {},
     "output_type": "execute_result"
    }
   ],
   "source": [
    "await salobj.set_summary_state(rot, salobj.State.ENABLED)"
   ]
  },
  {
   "cell_type": "code",
   "execution_count": 61,
   "id": "1cbdc3bf",
   "metadata": {},
   "outputs": [
    {
     "name": "stdout",
     "output_type": "stream",
     "text": [
      "mount elevation Angle =  90.0\n",
      "mount azimuth angle =  0.0\n",
      "CCW angle =  9.091558690357138  Needs to be within 2.2 deg of rotator angle \n",
      "rot angle =  9.091220857172544    diff =  -0.0003378331845933502\n"
     ]
    }
   ],
   "source": [
    "a = await mount.tel_elevation.next(flush=True, timeout=5)\n",
    "print(\"mount elevation Angle = \", a.actualPosition)\n",
    "a = await mount.tel_azimuth.next(flush=True, timeout=5)\n",
    "print(\"mount azimuth angle = \", a.actualPosition)\n",
    "a = await mount.tel_cameraCableWrap.next(flush=True, timeout=5)\n",
    "print(\"CCW angle = \", a.actualPosition, \" Needs to be within 2.2 deg of rotator angle \")\n",
    "b = await rot.tel_rotation.next(flush=True, timeout=5)\n",
    "print(\"rot angle = \", b.actualPosition, \"   diff = \", (b.actualPosition - a.actualPosition))"
   ]
  },
  {
   "cell_type": "code",
   "execution_count": 78,
   "id": "a8bd715e",
   "metadata": {},
   "outputs": [
    {
     "name": "stdout",
     "output_type": "stream",
     "text": [
      "Camera cable wrap telemetry is too old: dt=1.0466656684875488; abs(dt) > 1 2021-07-13 19:47:07.063443200\n"
     ]
    }
   ],
   "source": [
    "a = await rot.evt_errorCode.aget()\n",
    "print(a.errorReport, pd.to_datetime(a.private_sndStamp, unit='s'))"
   ]
  },
  {
   "cell_type": "code",
   "execution_count": 22,
   "id": "65964021",
   "metadata": {},
   "outputs": [
    {
     "name": "stdout",
     "output_type": "stream",
     "text": [
      "2021-07-13 16:00:51.067101696 9.091310131847155\n",
      "2021-07-13 16:00:51.064381952 9.091310131847155\n",
      "2021-07-13 16:00:51.112577536 9.091326966411486\n",
      "2021-07-13 16:00:51.112210176 9.091326966411486\n"
     ]
    }
   ],
   "source": [
    "#if you get the \"CCW telemetry too old\", check the below. The CSC checks timestamp, not private_sndStamp\n",
    "a=await mount.tel_cameraCableWrap.next(flush=True, timeout=5)\n",
    "print(pd.to_datetime(a.private_sndStamp, unit='s'), a.actualPosition)\n",
    "print(pd.to_datetime(a.timestamp, unit='s'), a.actualPosition)\n",
    "a=await rot.tel_rotation.next(flush=True, timeout=5)\n",
    "print(pd.to_datetime(a.private_sndStamp, unit='s'), a.actualPosition)\n",
    "print(pd.to_datetime(a.timestamp, unit='s'), a.actualPosition)"
   ]
  },
  {
   "cell_type": "code",
   "execution_count": 23,
   "id": "62eb972f",
   "metadata": {},
   "outputs": [
    {
     "name": "stdout",
     "output_type": "stream",
     "text": [
      "simulation mode?  0 2021-06-30 20:44:27.553741568\n"
     ]
    }
   ],
   "source": [
    "sim_evt = await rot.evt_simulationMode.aget(timeout=5)\n",
    "print('simulation mode? ', sim_evt.mode, pd.to_datetime(sim_evt.private_sndStamp, unit='s'))"
   ]
  },
  {
   "cell_type": "code",
   "execution_count": 63,
   "id": "08ededa5",
   "metadata": {},
   "outputs": [
    {
     "name": "stdout",
     "output_type": "stream",
     "text": [
      "0\n"
     ]
    }
   ],
   "source": [
    "#a = await mount.evt_cameraCableWrapState.aget(timeout=5.)\n",
    "#print(a.state)\n",
    "a = await mount.evt_cameraCableWrapFollowing.aget(timeout=5.)\n",
    "print(a.enabled)"
   ]
  },
  {
   "cell_type": "code",
   "execution_count": 64,
   "id": "bfaa3bb1",
   "metadata": {},
   "outputs": [
    {
     "ename": "AckError",
     "evalue": "msg='Command failed', ackcmd=(ackcmd private_seqNum=690344821, ack=<SalRetCode.CMD_FAILED: -302>, error=1, result=\"Failed: RuntimeError('<DeviceId.CAMERA_CABLE_WRAP: 4> off')\")",
     "output_type": "error",
     "traceback": [
      "\u001b[0;31m---------------------------------------------------------------------------\u001b[0m",
      "\u001b[0;31mAckError\u001b[0m                                  Traceback (most recent call last)",
      "\u001b[0;32m/tmp/ipykernel_1150/1631905521.py\u001b[0m in \u001b[0;36m<module>\u001b[0;34m\u001b[0m\n\u001b[0;32m----> 1\u001b[0;31m \u001b[0;32mawait\u001b[0m \u001b[0mmount\u001b[0m\u001b[0;34m.\u001b[0m\u001b[0mcmd_enableCameraCableWrapFollowing\u001b[0m\u001b[0;34m.\u001b[0m\u001b[0mset_start\u001b[0m\u001b[0;34m(\u001b[0m\u001b[0;34m)\u001b[0m\u001b[0;34m\u001b[0m\u001b[0;34m\u001b[0m\u001b[0m\n\u001b[0m",
      "\u001b[0;32m/opt/lsst/software/stack/conda/miniconda3-py38_4.9.2/envs/lsst-scipipe-0.6.0/lib/python3.8/site-packages/lsst/ts/salobj/topics/remote_command.py\u001b[0m in \u001b[0;36mset_start\u001b[0;34m(self, timeout, wait_done, **kwargs)\u001b[0m\n\u001b[1;32m    392\u001b[0m         \"\"\"\n\u001b[1;32m    393\u001b[0m         \u001b[0mself\u001b[0m\u001b[0;34m.\u001b[0m\u001b[0mset\u001b[0m\u001b[0;34m(\u001b[0m\u001b[0;34m**\u001b[0m\u001b[0mkwargs\u001b[0m\u001b[0;34m)\u001b[0m\u001b[0;34m\u001b[0m\u001b[0;34m\u001b[0m\u001b[0m\n\u001b[0;32m--> 394\u001b[0;31m         \u001b[0;32mreturn\u001b[0m \u001b[0;32mawait\u001b[0m \u001b[0mself\u001b[0m\u001b[0;34m.\u001b[0m\u001b[0mstart\u001b[0m\u001b[0;34m(\u001b[0m\u001b[0mtimeout\u001b[0m\u001b[0;34m=\u001b[0m\u001b[0mtimeout\u001b[0m\u001b[0;34m,\u001b[0m \u001b[0mwait_done\u001b[0m\u001b[0;34m=\u001b[0m\u001b[0mwait_done\u001b[0m\u001b[0;34m)\u001b[0m\u001b[0;34m\u001b[0m\u001b[0;34m\u001b[0m\u001b[0m\n\u001b[0m\u001b[1;32m    395\u001b[0m \u001b[0;34m\u001b[0m\u001b[0m\n\u001b[1;32m    396\u001b[0m     \u001b[0;32masync\u001b[0m \u001b[0;32mdef\u001b[0m \u001b[0mstart\u001b[0m\u001b[0;34m(\u001b[0m\u001b[0mself\u001b[0m\u001b[0;34m,\u001b[0m \u001b[0mdata\u001b[0m\u001b[0;34m=\u001b[0m\u001b[0;32mNone\u001b[0m\u001b[0;34m,\u001b[0m \u001b[0mtimeout\u001b[0m\u001b[0;34m=\u001b[0m\u001b[0mDEFAULT_TIMEOUT\u001b[0m\u001b[0;34m,\u001b[0m \u001b[0mwait_done\u001b[0m\u001b[0;34m=\u001b[0m\u001b[0;32mTrue\u001b[0m\u001b[0;34m)\u001b[0m\u001b[0;34m:\u001b[0m\u001b[0;34m\u001b[0m\u001b[0;34m\u001b[0m\u001b[0m\n",
      "\u001b[0;32m/opt/lsst/software/stack/conda/miniconda3-py38_4.9.2/envs/lsst-scipipe-0.6.0/lib/python3.8/site-packages/lsst/ts/salobj/topics/remote_command.py\u001b[0m in \u001b[0;36mstart\u001b[0;34m(self, data, timeout, wait_done)\u001b[0m\n\u001b[1;32m    447\u001b[0m         )\n\u001b[1;32m    448\u001b[0m         \u001b[0mself\u001b[0m\u001b[0;34m.\u001b[0m\u001b[0msalinfo\u001b[0m\u001b[0;34m.\u001b[0m\u001b[0m_running_cmds\u001b[0m\u001b[0;34m[\u001b[0m\u001b[0mseq_num\u001b[0m\u001b[0;34m]\u001b[0m \u001b[0;34m=\u001b[0m \u001b[0mcmd_info\u001b[0m\u001b[0;34m\u001b[0m\u001b[0;34m\u001b[0m\u001b[0m\n\u001b[0;32m--> 449\u001b[0;31m         \u001b[0;32mreturn\u001b[0m \u001b[0;32mawait\u001b[0m \u001b[0mcmd_info\u001b[0m\u001b[0;34m.\u001b[0m\u001b[0mnext_ackcmd\u001b[0m\u001b[0;34m(\u001b[0m\u001b[0mtimeout\u001b[0m\u001b[0;34m=\u001b[0m\u001b[0mtimeout\u001b[0m\u001b[0;34m)\u001b[0m\u001b[0;34m\u001b[0m\u001b[0;34m\u001b[0m\u001b[0m\n\u001b[0m",
      "\u001b[0;32m/opt/lsst/software/stack/conda/miniconda3-py38_4.9.2/envs/lsst-scipipe-0.6.0/lib/python3.8/site-packages/lsst/ts/salobj/topics/remote_command.py\u001b[0m in \u001b[0;36mnext_ackcmd\u001b[0;34m(self, timeout)\u001b[0m\n\u001b[1;32m    180\u001b[0m             \u001b[0mackcmd\u001b[0m \u001b[0;34m=\u001b[0m \u001b[0;32mawait\u001b[0m \u001b[0mself\u001b[0m\u001b[0;34m.\u001b[0m\u001b[0m_wait_task\u001b[0m\u001b[0;34m\u001b[0m\u001b[0;34m\u001b[0m\u001b[0m\n\u001b[1;32m    181\u001b[0m             \u001b[0;32mif\u001b[0m \u001b[0mackcmd\u001b[0m\u001b[0;34m.\u001b[0m\u001b[0mack\u001b[0m \u001b[0;32min\u001b[0m \u001b[0mself\u001b[0m\u001b[0;34m.\u001b[0m\u001b[0mfailed_ack_codes\u001b[0m\u001b[0;34m:\u001b[0m\u001b[0;34m\u001b[0m\u001b[0;34m\u001b[0m\u001b[0m\n\u001b[0;32m--> 182\u001b[0;31m                 \u001b[0;32mraise\u001b[0m \u001b[0mbase\u001b[0m\u001b[0;34m.\u001b[0m\u001b[0mAckError\u001b[0m\u001b[0;34m(\u001b[0m\u001b[0mmsg\u001b[0m\u001b[0;34m=\u001b[0m\u001b[0;34m\"Command failed\"\u001b[0m\u001b[0;34m,\u001b[0m \u001b[0mackcmd\u001b[0m\u001b[0;34m=\u001b[0m\u001b[0mackcmd\u001b[0m\u001b[0;34m)\u001b[0m\u001b[0;34m\u001b[0m\u001b[0;34m\u001b[0m\u001b[0m\n\u001b[0m\u001b[1;32m    183\u001b[0m             \u001b[0;32mreturn\u001b[0m \u001b[0mackcmd\u001b[0m\u001b[0;34m\u001b[0m\u001b[0;34m\u001b[0m\u001b[0m\n\u001b[1;32m    184\u001b[0m         \u001b[0;32mexcept\u001b[0m \u001b[0masyncio\u001b[0m\u001b[0;34m.\u001b[0m\u001b[0mTimeoutError\u001b[0m\u001b[0;34m:\u001b[0m\u001b[0;34m\u001b[0m\u001b[0;34m\u001b[0m\u001b[0m\n",
      "\u001b[0;31mAckError\u001b[0m: msg='Command failed', ackcmd=(ackcmd private_seqNum=690344821, ack=<SalRetCode.CMD_FAILED: -302>, error=1, result=\"Failed: RuntimeError('<DeviceId.CAMERA_CABLE_WRAP: 4> off')\")"
     ]
    }
   ],
   "source": [
    "await mount.cmd_enableCameraCableWrapFollowing.set_start()"
   ]
  },
  {
   "cell_type": "code",
   "execution_count": 57,
   "id": "ea5690f1",
   "metadata": {},
   "outputs": [
    {
     "ename": "AckError",
     "evalue": "msg='Command failed', ackcmd=(ackcmd private_seqNum=127523492, ack=<SalRetCode.CMD_FAILED: -302>, error=1, result='Failed: Failed: final state is <State.FAULT: 3> instead of <State.STANDBY: 5>')",
     "output_type": "error",
     "traceback": [
      "\u001b[0;31m---------------------------------------------------------------------------\u001b[0m",
      "\u001b[0;31mAckError\u001b[0m                                  Traceback (most recent call last)",
      "\u001b[0;32m/tmp/ipykernel_1150/4033535738.py\u001b[0m in \u001b[0;36m<module>\u001b[0;34m\u001b[0m\n\u001b[0;32m----> 1\u001b[0;31m \u001b[0;32mawait\u001b[0m \u001b[0mrot\u001b[0m\u001b[0;34m.\u001b[0m\u001b[0mcmd_clearError\u001b[0m\u001b[0;34m.\u001b[0m\u001b[0mset_start\u001b[0m\u001b[0;34m(\u001b[0m\u001b[0;34m)\u001b[0m\u001b[0;34m\u001b[0m\u001b[0;34m\u001b[0m\u001b[0m\n\u001b[0m",
      "\u001b[0;32m/opt/lsst/software/stack/conda/miniconda3-py38_4.9.2/envs/lsst-scipipe-0.6.0/lib/python3.8/site-packages/lsst/ts/salobj/topics/remote_command.py\u001b[0m in \u001b[0;36mset_start\u001b[0;34m(self, timeout, wait_done, **kwargs)\u001b[0m\n\u001b[1;32m    392\u001b[0m         \"\"\"\n\u001b[1;32m    393\u001b[0m         \u001b[0mself\u001b[0m\u001b[0;34m.\u001b[0m\u001b[0mset\u001b[0m\u001b[0;34m(\u001b[0m\u001b[0;34m**\u001b[0m\u001b[0mkwargs\u001b[0m\u001b[0;34m)\u001b[0m\u001b[0;34m\u001b[0m\u001b[0;34m\u001b[0m\u001b[0m\n\u001b[0;32m--> 394\u001b[0;31m         \u001b[0;32mreturn\u001b[0m \u001b[0;32mawait\u001b[0m \u001b[0mself\u001b[0m\u001b[0;34m.\u001b[0m\u001b[0mstart\u001b[0m\u001b[0;34m(\u001b[0m\u001b[0mtimeout\u001b[0m\u001b[0;34m=\u001b[0m\u001b[0mtimeout\u001b[0m\u001b[0;34m,\u001b[0m \u001b[0mwait_done\u001b[0m\u001b[0;34m=\u001b[0m\u001b[0mwait_done\u001b[0m\u001b[0;34m)\u001b[0m\u001b[0;34m\u001b[0m\u001b[0;34m\u001b[0m\u001b[0m\n\u001b[0m\u001b[1;32m    395\u001b[0m \u001b[0;34m\u001b[0m\u001b[0m\n\u001b[1;32m    396\u001b[0m     \u001b[0;32masync\u001b[0m \u001b[0;32mdef\u001b[0m \u001b[0mstart\u001b[0m\u001b[0;34m(\u001b[0m\u001b[0mself\u001b[0m\u001b[0;34m,\u001b[0m \u001b[0mdata\u001b[0m\u001b[0;34m=\u001b[0m\u001b[0;32mNone\u001b[0m\u001b[0;34m,\u001b[0m \u001b[0mtimeout\u001b[0m\u001b[0;34m=\u001b[0m\u001b[0mDEFAULT_TIMEOUT\u001b[0m\u001b[0;34m,\u001b[0m \u001b[0mwait_done\u001b[0m\u001b[0;34m=\u001b[0m\u001b[0;32mTrue\u001b[0m\u001b[0;34m)\u001b[0m\u001b[0;34m:\u001b[0m\u001b[0;34m\u001b[0m\u001b[0;34m\u001b[0m\u001b[0m\n",
      "\u001b[0;32m/opt/lsst/software/stack/conda/miniconda3-py38_4.9.2/envs/lsst-scipipe-0.6.0/lib/python3.8/site-packages/lsst/ts/salobj/topics/remote_command.py\u001b[0m in \u001b[0;36mstart\u001b[0;34m(self, data, timeout, wait_done)\u001b[0m\n\u001b[1;32m    447\u001b[0m         )\n\u001b[1;32m    448\u001b[0m         \u001b[0mself\u001b[0m\u001b[0;34m.\u001b[0m\u001b[0msalinfo\u001b[0m\u001b[0;34m.\u001b[0m\u001b[0m_running_cmds\u001b[0m\u001b[0;34m[\u001b[0m\u001b[0mseq_num\u001b[0m\u001b[0;34m]\u001b[0m \u001b[0;34m=\u001b[0m \u001b[0mcmd_info\u001b[0m\u001b[0;34m\u001b[0m\u001b[0;34m\u001b[0m\u001b[0m\n\u001b[0;32m--> 449\u001b[0;31m         \u001b[0;32mreturn\u001b[0m \u001b[0;32mawait\u001b[0m \u001b[0mcmd_info\u001b[0m\u001b[0;34m.\u001b[0m\u001b[0mnext_ackcmd\u001b[0m\u001b[0;34m(\u001b[0m\u001b[0mtimeout\u001b[0m\u001b[0;34m=\u001b[0m\u001b[0mtimeout\u001b[0m\u001b[0;34m)\u001b[0m\u001b[0;34m\u001b[0m\u001b[0;34m\u001b[0m\u001b[0m\n\u001b[0m",
      "\u001b[0;32m/opt/lsst/software/stack/conda/miniconda3-py38_4.9.2/envs/lsst-scipipe-0.6.0/lib/python3.8/site-packages/lsst/ts/salobj/topics/remote_command.py\u001b[0m in \u001b[0;36mnext_ackcmd\u001b[0;34m(self, timeout)\u001b[0m\n\u001b[1;32m    180\u001b[0m             \u001b[0mackcmd\u001b[0m \u001b[0;34m=\u001b[0m \u001b[0;32mawait\u001b[0m \u001b[0mself\u001b[0m\u001b[0;34m.\u001b[0m\u001b[0m_wait_task\u001b[0m\u001b[0;34m\u001b[0m\u001b[0;34m\u001b[0m\u001b[0m\n\u001b[1;32m    181\u001b[0m             \u001b[0;32mif\u001b[0m \u001b[0mackcmd\u001b[0m\u001b[0;34m.\u001b[0m\u001b[0mack\u001b[0m \u001b[0;32min\u001b[0m \u001b[0mself\u001b[0m\u001b[0;34m.\u001b[0m\u001b[0mfailed_ack_codes\u001b[0m\u001b[0;34m:\u001b[0m\u001b[0;34m\u001b[0m\u001b[0;34m\u001b[0m\u001b[0m\n\u001b[0;32m--> 182\u001b[0;31m                 \u001b[0;32mraise\u001b[0m \u001b[0mbase\u001b[0m\u001b[0;34m.\u001b[0m\u001b[0mAckError\u001b[0m\u001b[0;34m(\u001b[0m\u001b[0mmsg\u001b[0m\u001b[0;34m=\u001b[0m\u001b[0;34m\"Command failed\"\u001b[0m\u001b[0;34m,\u001b[0m \u001b[0mackcmd\u001b[0m\u001b[0;34m=\u001b[0m\u001b[0mackcmd\u001b[0m\u001b[0;34m)\u001b[0m\u001b[0;34m\u001b[0m\u001b[0;34m\u001b[0m\u001b[0m\n\u001b[0m\u001b[1;32m    183\u001b[0m             \u001b[0;32mreturn\u001b[0m \u001b[0mackcmd\u001b[0m\u001b[0;34m\u001b[0m\u001b[0;34m\u001b[0m\u001b[0m\n\u001b[1;32m    184\u001b[0m         \u001b[0;32mexcept\u001b[0m \u001b[0masyncio\u001b[0m\u001b[0;34m.\u001b[0m\u001b[0mTimeoutError\u001b[0m\u001b[0;34m:\u001b[0m\u001b[0;34m\u001b[0m\u001b[0;34m\u001b[0m\u001b[0m\n",
      "\u001b[0;31mAckError\u001b[0m: msg='Command failed', ackcmd=(ackcmd private_seqNum=127523492, ack=<SalRetCode.CMD_FAILED: -302>, error=1, result='Failed: Failed: final state is <State.FAULT: 3> instead of <State.STANDBY: 5>')"
     ]
    }
   ],
   "source": [
    "await rot.cmd_clearError.set_start()"
   ]
  },
  {
   "cell_type": "code",
   "execution_count": 29,
   "id": "0af81a4c",
   "metadata": {},
   "outputs": [
    {
     "data": {
      "text/plain": [
       "<ddsutil.MTRotator_ackcmd_55ad33c7 at 0x7f3810a6cfa0>"
      ]
     },
     "execution_count": 29,
     "metadata": {},
     "output_type": "execute_result"
    }
   ],
   "source": [
    "await rot.cmd_start.set_start()"
   ]
  },
  {
   "cell_type": "code",
   "execution_count": 65,
   "id": "0b2cd4c1",
   "metadata": {},
   "outputs": [
    {
     "name": "stdout",
     "output_type": "stream",
     "text": [
      "CCW folowing?  1 2021-07-13 18:17:59.953999872\n"
     ]
    }
   ],
   "source": [
    "await salobj.set_summary_state(mount, salobj.State.DISABLED)\n",
    "await salobj.set_summary_state(mount, salobj.State.ENABLED)\n",
    "a = await mount.evt_cameraCableWrapFollowing.aget()\n",
    "print('CCW folowing? ', a.enabled, pd.to_datetime(a.private_sndStamp, unit='s'))"
   ]
  },
  {
   "cell_type": "code",
   "execution_count": 185,
   "id": "f1e5c9c0",
   "metadata": {
    "collapsed": true,
    "jupyter": {
     "outputs_hidden": true
    }
   },
   "outputs": [
    {
     "ename": "AckTimeoutError",
     "evalue": "msg='Timed out waiting for command acknowledgement', ackcmd=(ackcmd private_seqNum=1147273772, ack=<SalRetCode.CMD_NOACK: -301>, error=0, result='No command acknowledgement seen')",
     "output_type": "error",
     "traceback": [
      "\u001b[0;31m---------------------------------------------------------------------------\u001b[0m",
      "\u001b[0;31mCancelledError\u001b[0m                            Traceback (most recent call last)",
      "\u001b[0;32m/opt/lsst/software/stack/conda/miniconda3-py38_4.9.2/envs/lsst-scipipe-0.6.0/lib/python3.8/asyncio/tasks.py\u001b[0m in \u001b[0;36mwait_for\u001b[0;34m(fut, timeout, loop)\u001b[0m\n\u001b[1;32m    464\u001b[0m         \u001b[0;32mtry\u001b[0m\u001b[0;34m:\u001b[0m\u001b[0;34m\u001b[0m\u001b[0;34m\u001b[0m\u001b[0m\n\u001b[0;32m--> 465\u001b[0;31m             \u001b[0mfut\u001b[0m\u001b[0;34m.\u001b[0m\u001b[0mresult\u001b[0m\u001b[0;34m(\u001b[0m\u001b[0;34m)\u001b[0m\u001b[0;34m\u001b[0m\u001b[0;34m\u001b[0m\u001b[0m\n\u001b[0m\u001b[1;32m    466\u001b[0m         \u001b[0;32mexcept\u001b[0m \u001b[0mexceptions\u001b[0m\u001b[0;34m.\u001b[0m\u001b[0mCancelledError\u001b[0m \u001b[0;32mas\u001b[0m \u001b[0mexc\u001b[0m\u001b[0;34m:\u001b[0m\u001b[0;34m\u001b[0m\u001b[0;34m\u001b[0m\u001b[0m\n",
      "\u001b[0;31mCancelledError\u001b[0m: ",
      "\nThe above exception was the direct cause of the following exception:\n",
      "\u001b[0;31mTimeoutError\u001b[0m                              Traceback (most recent call last)",
      "\u001b[0;32m/opt/lsst/software/stack/conda/miniconda3-py38_4.9.2/envs/lsst-scipipe-0.6.0/lib/python3.8/site-packages/lsst/ts/salobj/topics/remote_command.py\u001b[0m in \u001b[0;36mnext_ackcmd\u001b[0;34m(self, timeout)\u001b[0m\n\u001b[1;32m    179\u001b[0m             )\n\u001b[0;32m--> 180\u001b[0;31m             \u001b[0mackcmd\u001b[0m \u001b[0;34m=\u001b[0m \u001b[0;32mawait\u001b[0m \u001b[0mself\u001b[0m\u001b[0;34m.\u001b[0m\u001b[0m_wait_task\u001b[0m\u001b[0;34m\u001b[0m\u001b[0;34m\u001b[0m\u001b[0m\n\u001b[0m\u001b[1;32m    181\u001b[0m             \u001b[0;32mif\u001b[0m \u001b[0mackcmd\u001b[0m\u001b[0;34m.\u001b[0m\u001b[0mack\u001b[0m \u001b[0;32min\u001b[0m \u001b[0mself\u001b[0m\u001b[0;34m.\u001b[0m\u001b[0mfailed_ack_codes\u001b[0m\u001b[0;34m:\u001b[0m\u001b[0;34m\u001b[0m\u001b[0;34m\u001b[0m\u001b[0m\n",
      "\u001b[0;32m/opt/lsst/software/stack/conda/miniconda3-py38_4.9.2/envs/lsst-scipipe-0.6.0/lib/python3.8/site-packages/lsst/ts/salobj/topics/remote_command.py\u001b[0m in \u001b[0;36m_basic_next_ackcmd\u001b[0;34m(self, timeout)\u001b[0m\n\u001b[1;32m    204\u001b[0m         \u001b[0;32mwhile\u001b[0m \u001b[0;32mTrue\u001b[0m\u001b[0;34m:\u001b[0m\u001b[0;34m\u001b[0m\u001b[0;34m\u001b[0m\u001b[0m\n\u001b[0;32m--> 205\u001b[0;31m             ackcmd = await asyncio.wait_for(\n\u001b[0m\u001b[1;32m    206\u001b[0m                 \u001b[0mself\u001b[0m\u001b[0;34m.\u001b[0m\u001b[0m_get_next_ackcmd\u001b[0m\u001b[0;34m(\u001b[0m\u001b[0;34m)\u001b[0m\u001b[0;34m,\u001b[0m \u001b[0mtimeout\u001b[0m\u001b[0;34m=\u001b[0m\u001b[0mtimeout\u001b[0m \u001b[0;34m-\u001b[0m \u001b[0melapsed_time\u001b[0m\u001b[0;34m\u001b[0m\u001b[0;34m\u001b[0m\u001b[0m\n",
      "\u001b[0;32m/opt/lsst/software/stack/conda/miniconda3-py38_4.9.2/envs/lsst-scipipe-0.6.0/lib/python3.8/asyncio/tasks.py\u001b[0m in \u001b[0;36mwait_for\u001b[0;34m(fut, timeout, loop)\u001b[0m\n\u001b[1;32m    466\u001b[0m         \u001b[0;32mexcept\u001b[0m \u001b[0mexceptions\u001b[0m\u001b[0;34m.\u001b[0m\u001b[0mCancelledError\u001b[0m \u001b[0;32mas\u001b[0m \u001b[0mexc\u001b[0m\u001b[0;34m:\u001b[0m\u001b[0;34m\u001b[0m\u001b[0;34m\u001b[0m\u001b[0m\n\u001b[0;32m--> 467\u001b[0;31m             \u001b[0;32mraise\u001b[0m \u001b[0mexceptions\u001b[0m\u001b[0;34m.\u001b[0m\u001b[0mTimeoutError\u001b[0m\u001b[0;34m(\u001b[0m\u001b[0;34m)\u001b[0m \u001b[0;32mfrom\u001b[0m \u001b[0mexc\u001b[0m\u001b[0;34m\u001b[0m\u001b[0;34m\u001b[0m\u001b[0m\n\u001b[0m\u001b[1;32m    468\u001b[0m         \u001b[0;32melse\u001b[0m\u001b[0;34m:\u001b[0m\u001b[0;34m\u001b[0m\u001b[0;34m\u001b[0m\u001b[0m\n",
      "\u001b[0;31mTimeoutError\u001b[0m: ",
      "\nDuring handling of the above exception, another exception occurred:\n",
      "\u001b[0;31mAckTimeoutError\u001b[0m                           Traceback (most recent call last)",
      "\u001b[0;32m<ipython-input-185-c4cc6ced4105>\u001b[0m in \u001b[0;36m<module>\u001b[0;34m\u001b[0m\n\u001b[0;32m----> 1\u001b[0;31m \u001b[0;32mawait\u001b[0m \u001b[0mrot\u001b[0m\u001b[0;34m.\u001b[0m\u001b[0mcmd_move\u001b[0m\u001b[0;34m.\u001b[0m\u001b[0mset_start\u001b[0m\u001b[0;34m(\u001b[0m\u001b[0;36m0\u001b[0m\u001b[0;34m)\u001b[0m\u001b[0;34m\u001b[0m\u001b[0;34m\u001b[0m\u001b[0m\n\u001b[0m",
      "\u001b[0;32m/opt/lsst/software/stack/conda/miniconda3-py38_4.9.2/envs/lsst-scipipe-0.6.0/lib/python3.8/site-packages/lsst/ts/salobj/topics/remote_command.py\u001b[0m in \u001b[0;36mset_start\u001b[0;34m(self, timeout, wait_done, **kwargs)\u001b[0m\n\u001b[1;32m    392\u001b[0m         \"\"\"\n\u001b[1;32m    393\u001b[0m         \u001b[0mself\u001b[0m\u001b[0;34m.\u001b[0m\u001b[0mset\u001b[0m\u001b[0;34m(\u001b[0m\u001b[0;34m**\u001b[0m\u001b[0mkwargs\u001b[0m\u001b[0;34m)\u001b[0m\u001b[0;34m\u001b[0m\u001b[0;34m\u001b[0m\u001b[0m\n\u001b[0;32m--> 394\u001b[0;31m         \u001b[0;32mreturn\u001b[0m \u001b[0;32mawait\u001b[0m \u001b[0mself\u001b[0m\u001b[0;34m.\u001b[0m\u001b[0mstart\u001b[0m\u001b[0;34m(\u001b[0m\u001b[0mtimeout\u001b[0m\u001b[0;34m=\u001b[0m\u001b[0mtimeout\u001b[0m\u001b[0;34m,\u001b[0m \u001b[0mwait_done\u001b[0m\u001b[0;34m=\u001b[0m\u001b[0mwait_done\u001b[0m\u001b[0;34m)\u001b[0m\u001b[0;34m\u001b[0m\u001b[0;34m\u001b[0m\u001b[0m\n\u001b[0m\u001b[1;32m    395\u001b[0m \u001b[0;34m\u001b[0m\u001b[0m\n\u001b[1;32m    396\u001b[0m     \u001b[0;32masync\u001b[0m \u001b[0;32mdef\u001b[0m \u001b[0mstart\u001b[0m\u001b[0;34m(\u001b[0m\u001b[0mself\u001b[0m\u001b[0;34m,\u001b[0m \u001b[0mdata\u001b[0m\u001b[0;34m=\u001b[0m\u001b[0;32mNone\u001b[0m\u001b[0;34m,\u001b[0m \u001b[0mtimeout\u001b[0m\u001b[0;34m=\u001b[0m\u001b[0mDEFAULT_TIMEOUT\u001b[0m\u001b[0;34m,\u001b[0m \u001b[0mwait_done\u001b[0m\u001b[0;34m=\u001b[0m\u001b[0;32mTrue\u001b[0m\u001b[0;34m)\u001b[0m\u001b[0;34m:\u001b[0m\u001b[0;34m\u001b[0m\u001b[0;34m\u001b[0m\u001b[0m\n",
      "\u001b[0;32m/opt/lsst/software/stack/conda/miniconda3-py38_4.9.2/envs/lsst-scipipe-0.6.0/lib/python3.8/site-packages/lsst/ts/salobj/topics/remote_command.py\u001b[0m in \u001b[0;36mstart\u001b[0;34m(self, data, timeout, wait_done)\u001b[0m\n\u001b[1;32m    447\u001b[0m         )\n\u001b[1;32m    448\u001b[0m         \u001b[0mself\u001b[0m\u001b[0;34m.\u001b[0m\u001b[0msalinfo\u001b[0m\u001b[0;34m.\u001b[0m\u001b[0m_running_cmds\u001b[0m\u001b[0;34m[\u001b[0m\u001b[0mseq_num\u001b[0m\u001b[0;34m]\u001b[0m \u001b[0;34m=\u001b[0m \u001b[0mcmd_info\u001b[0m\u001b[0;34m\u001b[0m\u001b[0;34m\u001b[0m\u001b[0m\n\u001b[0;32m--> 449\u001b[0;31m         \u001b[0;32mreturn\u001b[0m \u001b[0;32mawait\u001b[0m \u001b[0mcmd_info\u001b[0m\u001b[0;34m.\u001b[0m\u001b[0mnext_ackcmd\u001b[0m\u001b[0;34m(\u001b[0m\u001b[0mtimeout\u001b[0m\u001b[0;34m=\u001b[0m\u001b[0mtimeout\u001b[0m\u001b[0;34m)\u001b[0m\u001b[0;34m\u001b[0m\u001b[0;34m\u001b[0m\u001b[0m\n\u001b[0m",
      "\u001b[0;32m/opt/lsst/software/stack/conda/miniconda3-py38_4.9.2/envs/lsst-scipipe-0.6.0/lib/python3.8/site-packages/lsst/ts/salobj/topics/remote_command.py\u001b[0m in \u001b[0;36mnext_ackcmd\u001b[0;34m(self, timeout)\u001b[0m\n\u001b[1;32m    194\u001b[0m             \u001b[0;32mif\u001b[0m \u001b[0mself\u001b[0m\u001b[0;34m.\u001b[0m\u001b[0mseq_num\u001b[0m \u001b[0;32min\u001b[0m \u001b[0mself\u001b[0m\u001b[0;34m.\u001b[0m\u001b[0mremote_command\u001b[0m\u001b[0;34m.\u001b[0m\u001b[0msalinfo\u001b[0m\u001b[0;34m.\u001b[0m\u001b[0m_running_cmds\u001b[0m\u001b[0;34m:\u001b[0m\u001b[0;34m\u001b[0m\u001b[0;34m\u001b[0m\u001b[0m\n\u001b[1;32m    195\u001b[0m                 \u001b[0mself\u001b[0m\u001b[0;34m.\u001b[0m\u001b[0mremote_command\u001b[0m\u001b[0;34m.\u001b[0m\u001b[0msalinfo\u001b[0m\u001b[0;34m.\u001b[0m\u001b[0m_running_cmds\u001b[0m\u001b[0;34m.\u001b[0m\u001b[0mpop\u001b[0m\u001b[0;34m(\u001b[0m\u001b[0mself\u001b[0m\u001b[0;34m.\u001b[0m\u001b[0mseq_num\u001b[0m\u001b[0;34m)\u001b[0m\u001b[0;34m\u001b[0m\u001b[0;34m\u001b[0m\u001b[0m\n\u001b[0;32m--> 196\u001b[0;31m             raise base.AckTimeoutError(\n\u001b[0m\u001b[1;32m    197\u001b[0m                 \u001b[0mmsg\u001b[0m\u001b[0;34m=\u001b[0m\u001b[0;34m\"Timed out waiting for command acknowledgement\"\u001b[0m\u001b[0;34m,\u001b[0m \u001b[0mackcmd\u001b[0m\u001b[0;34m=\u001b[0m\u001b[0mlast_ackcmd\u001b[0m\u001b[0;34m\u001b[0m\u001b[0;34m\u001b[0m\u001b[0m\n\u001b[1;32m    198\u001b[0m             )\n",
      "\u001b[0;31mAckTimeoutError\u001b[0m: msg='Timed out waiting for command acknowledgement', ackcmd=(ackcmd private_seqNum=1147273772, ack=<SalRetCode.CMD_NOACK: -301>, error=0, result='No command acknowledgement seen')"
     ]
    }
   ],
   "source": [
    "await rot.cmd_move.set_start(0)"
   ]
  },
  {
   "cell_type": "markdown",
   "id": "b3e83aed",
   "metadata": {},
   "source": [
    "### test the slew simulations without AOS components"
   ]
  },
  {
   "cell_type": "code",
   "execution_count": 21,
   "id": "fbdcc8d9",
   "metadata": {},
   "outputs": [],
   "source": [
    "#comment and uncomment the below depending on which components are expected to be on\n",
    "#by default, MTCS checks on every component (during the slew).\n",
    "mtcs.check.mtaos = False\n",
    "mtcs.check.mtm1m3 = False\n",
    "mtcs.check.mtm2 = False\n",
    "mtcs.check.mthexapod_1 = False\n",
    "mtcs.check.mthexapod_2 = False\n",
    "mtcs.check.mtdome = False\n",
    "mtcs.check.mtdometrajectory = False"
   ]
  },
  {
   "cell_type": "code",
   "execution_count": 22,
   "id": "3875beab",
   "metadata": {},
   "outputs": [
    {
     "name": "stdout",
     "output_type": "stream",
     "text": [
      "7.040823611268903 -34.0\n"
     ]
    },
    {
     "name": "stderr",
     "output_type": "stream",
     "text": [
      "Got True\n",
      "Rotator in position.\n",
      "Waiting for telescope to settle.\n",
      "Telescope in position.\n"
     ]
    },
    {
     "name": "stdout",
     "output_type": "stream",
     "text": [
      "6.807490277935569 -34.0\n"
     ]
    },
    {
     "name": "stderr",
     "output_type": "stream",
     "text": [
      "Got True\n",
      "Rotator in position.\n",
      "Waiting for telescope to settle.\n",
      "Telescope in position.\n"
     ]
    },
    {
     "name": "stdout",
     "output_type": "stream",
     "text": [
      "7.074120978262743 -34.0\n"
     ]
    },
    {
     "name": "stderr",
     "output_type": "stream",
     "text": [
      "Got True\n",
      "Rotator in position.\n",
      "Waiting for telescope to settle.\n",
      "Telescope in position.\n"
     ]
    },
    {
     "name": "stdout",
     "output_type": "stream",
     "text": [
      "6.84078764492941 -34.0\n"
     ]
    },
    {
     "name": "stderr",
     "output_type": "stream",
     "text": [
      "Got True\n",
      "Rotator in position.\n",
      "Waiting for telescope to settle.\n",
      "Telescope in position.\n"
     ]
    }
   ],
   "source": [
    "dec = -34.\n",
    "for j in range(2):\n",
    "    time_and_date = await mtcs.rem.mtptg.tel_timeAndDate.next(flush=True, timeout=5)\n",
    "    ra = time_and_date.lst + 0.5\n",
    "    for i in range(2):\n",
    "        print(ra, dec)\n",
    "        await mtcs.slew_icrs(ra=ra, dec=dec, rot=0., rot_type=RotType.PhysicalSky)\n",
    "        await asyncio.sleep(39.)\n",
    "        ra -= 3.5/15.0\n",
    "\n",
    "await mtcs.stop_tracking()"
   ]
  },
  {
   "cell_type": "code",
   "execution_count": 24,
   "id": "170276d1",
   "metadata": {},
   "outputs": [
    {
     "name": "stdout",
     "output_type": "stream",
     "text": [
      "85.05965471331558\n"
     ]
    }
   ],
   "source": [
    "a =await mount.evt_target.aget(timeout=5.)\n",
    "print(a.elevation)"
   ]
  },
  {
   "cell_type": "code",
   "execution_count": 46,
   "id": "af76f140",
   "metadata": {},
   "outputs": [
    {
     "name": "stderr",
     "output_type": "stream",
     "text": [
      "MTCS:Stop tracking.\n"
     ]
    }
   ],
   "source": [
    "await mtcs.stop_tracking()"
   ]
  },
  {
   "cell_type": "code",
   "execution_count": 42,
   "id": "f97af982",
   "metadata": {},
   "outputs": [
    {
     "data": {
      "text/plain": [
       "(<ICRS Coordinate: (ra, dec) in deg\n",
       "     (59.5686106, -34.)>,\n",
       " <Angle 0. deg>)"
      ]
     },
     "execution_count": 42,
     "metadata": {},
     "output_type": "execute_result"
    }
   ],
   "source": [
    "await mtcs.slew_icrs(ra=ra, dec=dec, rot=0.0, rot_type=RotType.Physical)"
   ]
  },
  {
   "cell_type": "code",
   "execution_count": 22,
   "id": "593f2225",
   "metadata": {
    "collapsed": true,
    "jupyter": {
     "outputs_hidden": true
    }
   },
   "outputs": [
    {
     "name": "stdout",
     "output_type": "stream",
     "text": [
      "moving from elevation 89.9 deg to 82.5 deg 2021-06-07 15:18:31.547522\n",
      "This will run for 355 seconds\n",
      "89.86938467561717 0.0 0.016666666666666666 0.016666666666666666\n",
      "89.83605134228384 0.0 0.03333333333333333 0.03333333333333333\n",
      "89.8027180089505 0.0 0.05 0.05\n",
      "89.76938467561716 0.0 0.06666666666666667 0.06666666666666667\n",
      "89.73605134228383 0.0 0.08333333333333333 0.08333333333333333\n",
      "89.7027180089505 0.0 0.09999999999999999 0.09999999999999999\n",
      "89.66938467561717 0.0 0.11666666666666665 0.11666666666666665\n",
      "89.63605134228384 0.0 0.13333333333333333 0.13333333333333333\n",
      "89.6027180089505 0.0 0.15 0.15\n",
      "89.56938467561717 0.0 0.16666666666666666 0.16666666666666666\n",
      "89.53605134228384 0.0 0.18333333333333332 0.18333333333333332\n",
      "89.5027180089505 0.0 0.19999999999999998 0.19999999999999998\n",
      "89.46938467561716 0.0 0.21666666666666665 0.21666666666666665\n",
      "89.43605134228383 0.0 0.2333333333333333 0.2333333333333333\n",
      "89.4027180089505 0.0 0.24999999999999997 0.24999999999999997\n",
      "89.36938467561717 0.0 0.26666666666666666 0.26666666666666666\n",
      "89.33605134228384 0.0 0.2833333333333333 0.2833333333333333\n",
      "89.3027180089505 0.0 0.3 0.3\n",
      "89.26938467561716 0.0 0.31666666666666665 0.31666666666666665\n",
      "89.23605134228383 0.0 0.3333333333333333 0.3333333333333333\n",
      "89.2027180089505 0.0 0.35 0.35\n",
      "89.16938467561717 0.0 0.36666666666666664 0.36666666666666664\n",
      "89.13605134228384 0.0 0.3833333333333333 0.3833333333333333\n",
      "89.1027180089505 0.0 0.39999999999999997 0.39999999999999997\n",
      "89.06938467561717 0.0 0.41666666666666663 0.41666666666666663\n",
      "89.03605134228384 0.0 0.4333333333333333 0.4333333333333333\n",
      "89.0027180089505 0.0 0.44999999999999996 0.44999999999999996\n",
      "88.96938467561716 0.0 0.4666666666666666 0.4666666666666666\n",
      "88.93605134228383 0.0 0.4833333333333333 0.4833333333333333\n",
      "88.9027180089505 0.0 0.49999999999999994 0.49999999999999994\n",
      "88.9027180089505 0.0 0.5 0.5166666666666666\n",
      "88.9027180089505 0.0 0.5 0.5333333333333333\n",
      "88.9027180089505 0.0 0.5 0.55\n",
      "88.9027180089505 0.0 0.5 0.5666666666666668\n",
      "88.9027180089505 0.0 0.5 0.5833333333333335\n",
      "88.9027180089505 0.0 0.5 0.6000000000000002\n",
      "88.9027180089505 0.0 0.5 0.6166666666666669\n",
      "88.9027180089505 0.0 0.5 0.6333333333333336\n",
      "88.9027180089505 0.0 0.5 0.6500000000000004\n",
      "88.9027180089505 0.0 0.5 0.6666666666666671\n",
      "88.9027180089505 0.0 0.5 0.6833333333333338\n",
      "88.9027180089505 0.0 0.5 0.7000000000000005\n",
      "88.9027180089505 0.0 0.5 0.7166666666666672\n",
      "88.9027180089505 0.0 0.5 0.733333333333334\n",
      "88.9027180089505 0.0 0.5 0.7500000000000007\n",
      "88.9027180089505 0.0 0.5 0.7666666666666674\n",
      "88.9027180089505 0.0 0.5 0.7833333333333341\n",
      "88.9027180089505 1.0 7.771561172376096e-16 0.8000000000000008\n",
      "88.86938467561717 1.0 0.016666666666667496 0.8166666666666675\n",
      "88.83605134228384 1.0 0.033333333333334214 0.8333333333333343\n",
      "88.80271800895049 1.0 0.05000000000000093 0.850000000000001\n",
      "88.76938467561716 1.0 0.06666666666666765 0.8666666666666677\n",
      "88.73605134228383 1.0 0.08333333333333437 0.8833333333333344\n",
      "88.7027180089505 1.0 0.10000000000000109 0.9000000000000011\n",
      "88.66938467561717 1.0 0.1166666666666678 0.9166666666666679\n",
      "88.63605134228384 1.0 0.13333333333333452 0.9333333333333346\n",
      "88.6027180089505 1.0 0.15000000000000124 0.9500000000000013\n",
      "88.56938467561716 1.0 0.16666666666666796 0.966666666666668\n",
      "88.53605134228383 1.0 0.18333333333333468 0.9833333333333347\n",
      "88.5027180089505 1.0 0.2000000000000013 1.0000000000000013\n",
      "88.46938467561716 1.0 0.2166666666666679 1.016666666666668\n",
      "88.43605134228383 1.0 0.2333333333333345 1.0333333333333345\n",
      "88.4027180089505 1.0 0.2500000000000011 1.0500000000000012\n",
      "88.36938467561717 1.0 0.2666666666666677 1.0666666666666678\n",
      "88.33605134228384 1.0 0.2833333333333343 1.0833333333333344\n",
      "88.30271800895049 1.0 0.30000000000000093 1.100000000000001\n",
      "88.26938467561716 1.0 0.31666666666666754 1.1166666666666676\n",
      "88.23605134228383 1.0 0.33333333333333415 1.1333333333333342\n",
      "88.2027180089505 1.0 0.35000000000000075 1.1500000000000008\n",
      "88.16938467561717 1.0 0.36666666666666736 1.1666666666666674\n",
      "88.13605134228384 1.0 0.38333333333333397 1.183333333333334\n",
      "88.1027180089505 1.0 0.4000000000000006 1.2000000000000006\n",
      "88.06938467561717 1.0 0.4166666666666672 1.2166666666666672\n",
      "88.03605134228383 1.0 0.4333333333333338 1.2333333333333338\n",
      "88.0027180089505 1.0 0.4500000000000004 1.2500000000000004\n",
      "87.96938467561716 1.0 0.466666666666667 1.266666666666667\n",
      "87.93605134228383 1.0 0.4833333333333336 1.2833333333333337\n",
      "87.9027180089505 1.0 0.5 1.3000000000000003\n",
      "87.9027180089505 1.0 0.5 1.3166666666666669\n",
      "87.9027180089505 1.0 0.5 1.3333333333333335\n",
      "87.9027180089505 1.0 0.5 1.35\n",
      "87.9027180089505 1.0 0.5 1.3666666666666667\n",
      "87.9027180089505 1.0 0.5 1.3833333333333333\n",
      "87.9027180089505 1.0 0.5 1.4\n",
      "87.9027180089505 1.0 0.5 1.4166666666666665\n",
      "87.9027180089505 1.0 0.5 1.4333333333333331\n",
      "87.9027180089505 1.0 0.5 1.4499999999999997\n",
      "87.9027180089505 1.0 0.5 1.4666666666666663\n",
      "87.9027180089505 1.0 0.5 1.483333333333333\n",
      "87.9027180089505 1.0 0.5 1.4999999999999996\n",
      "87.9027180089505 1.0 0.5 1.5166666666666662\n",
      "87.9027180089505 1.0 0.5 1.5333333333333328\n",
      "87.9027180089505 1.0 0.5 1.5499999999999994\n",
      "87.9027180089505 1.0 0.5 1.566666666666666\n",
      "87.9027180089505 1.0 0.5 1.5833333333333326\n",
      "87.9027180089505 1.0 0.5 1.5999999999999992\n",
      "87.86938467561717 2.0 0.01666666666666572 1.6166666666666658\n",
      "87.83605134228384 2.0 0.03333333333333233 1.6333333333333324\n",
      "87.8027180089505 2.0 0.049999999999998934 1.649999999999999\n",
      "87.76938467561718 2.0 0.06666666666666554 1.6666666666666656\n",
      "87.73605134228384 2.0 0.08333333333333215 1.6833333333333322\n",
      "87.7027180089505 2.0 0.09999999999999876 1.6999999999999988\n",
      "87.66938467561717 2.0 0.11666666666666536 1.7166666666666655\n",
      "87.63605134228384 2.0 0.13333333333333197 1.733333333333332\n",
      "87.6027180089505 2.0 0.14999999999999858 1.7499999999999987\n",
      "87.56938467561717 2.0 0.1666666666666652 1.7666666666666653\n",
      "87.53605134228384 2.0 0.1833333333333318 1.7833333333333319\n",
      "87.50271800895051 2.0 0.1999999999999984 1.7999999999999985\n",
      "87.46938467561716 2.0 0.216666666666665 1.816666666666665\n",
      "87.43605134228383 2.0 0.23333333333333162 1.8333333333333317\n",
      "87.4027180089505 2.0 0.24999999999999822 1.8499999999999983\n",
      "87.36938467561717 2.0 0.26666666666666483 1.866666666666665\n",
      "87.33605134228384 2.0 0.28333333333333144 1.8833333333333315\n",
      "87.3027180089505 2.0 0.29999999999999805 1.8999999999999981\n",
      "87.26938467561718 2.0 0.31666666666666465 1.9166666666666647\n",
      "87.23605134228384 2.0 0.33333333333333126 1.9333333333333313\n",
      "87.20271800895051 2.0 0.34999999999999787 1.949999999999998\n",
      "87.16938467561717 2.0 0.3666666666666645 1.9666666666666646\n",
      "87.13605134228384 2.0 0.3833333333333311 1.9833333333333312\n",
      "87.1027180089505 2.0 0.3999999999999977 1.9999999999999978\n",
      "87.06938467561717 2.0 0.4166666666666643 2.0166666666666644\n",
      "87.03605134228384 2.0 0.4333333333333309 2.033333333333331\n",
      "87.00271800895051 2.0 0.4499999999999975 2.0499999999999976\n",
      "86.96938467561718 2.0 0.4666666666666641 2.066666666666664\n",
      "86.93605134228383 2.0 0.48333333333333073 2.083333333333331\n",
      "86.9027180089505 2.0 0.49999999999999734 2.0999999999999974\n",
      "86.9027180089505 2.0 0.5 2.116666666666664\n",
      "86.9027180089505 2.0 0.5 2.1333333333333306\n",
      "86.9027180089505 2.0 0.5 2.1499999999999972\n",
      "86.9027180089505 2.0 0.5 2.166666666666664\n",
      "86.9027180089505 2.0 0.5 2.1833333333333305\n",
      "86.9027180089505 2.0 0.5 2.199999999999997\n",
      "86.9027180089505 2.0 0.5 2.2166666666666637\n",
      "86.9027180089505 2.0 0.5 2.2333333333333303\n",
      "86.9027180089505 2.0 0.5 2.249999999999997\n",
      "86.9027180089505 2.0 0.5 2.2666666666666635\n",
      "86.9027180089505 2.0 0.5 2.28333333333333\n",
      "86.9027180089505 2.0 0.5 2.2999999999999967\n",
      "86.9027180089505 2.0 0.5 2.3166666666666633\n",
      "86.9027180089505 2.0 0.5 2.33333333333333\n",
      "86.9027180089505 2.0 0.5 2.3499999999999965\n",
      "86.9027180089505 2.0 0.5 2.366666666666663\n",
      "86.9027180089505 2.0 0.5 2.3833333333333298\n",
      "86.9027180089505 2.0 0.5 2.3999999999999964\n",
      "86.86938467561717 3.0 0.01666666666666261 2.416666666666663\n",
      "86.83605134228384 3.0 0.03333333333332922 2.4333333333333296\n",
      "86.8027180089505 3.0 0.049999999999995826 2.449999999999996\n",
      "86.76938467561718 3.0 0.06666666666666243 2.466666666666663\n",
      "86.73605134228384 3.0 0.08333333333332904 2.4833333333333294\n",
      "86.70271800895051 3.0 0.09999999999999565 2.499999999999996\n",
      "86.66938467561718 3.0 0.11666666666666226 2.5166666666666626\n",
      "86.63605134228385 3.0 0.13333333333332886 2.533333333333329\n",
      "86.6027180089505 3.0 0.14999999999999547 2.549999999999996\n",
      "86.56938467561717 3.0 0.16666666666666208 2.5666666666666624\n",
      "86.53605134228384 3.0 0.18333333333332869 2.583333333333329\n",
      "86.50271800895051 3.0 0.1999999999999953 2.5999999999999956\n",
      "86.46938467561718 3.0 0.2166666666666619 2.6166666666666623\n",
      "86.43605134228385 3.0 0.2333333333333285 2.633333333333329\n",
      "86.40271800895052 3.0 0.24999999999999512 2.6499999999999955\n",
      "86.36938467561718 3.0 0.2666666666666617 2.666666666666662\n",
      "86.33605134228384 3.0 0.28333333333332833 2.6833333333333287\n",
      "86.3027180089505 3.0 0.29999999999999494 2.6999999999999953\n",
      "86.26938467561718 3.0 0.31666666666666154 2.716666666666662\n",
      "86.23605134228384 3.0 0.33333333333332815 2.7333333333333285\n",
      "86.20271800895051 3.0 0.34999999999999476 2.749999999999995\n",
      "86.16938467561718 3.0 0.36666666666666137 2.7666666666666617\n",
      "86.13605134228385 3.0 0.383333333333328 2.7833333333333283\n",
      "86.10271800895052 3.0 0.3999999999999946 2.799999999999995\n",
      "86.06938467561717 3.0 0.4166666666666612 2.8166666666666615\n",
      "86.03605134228384 3.0 0.4333333333333278 2.833333333333328\n",
      "86.00271800895051 3.0 0.4499999999999944 2.8499999999999948\n",
      "85.96938467561718 3.0 0.466666666666661 2.8666666666666614\n",
      "85.93605134228385 3.0 0.4833333333333276 2.883333333333328\n",
      "85.90271800895052 3.0 0.4999999999999942 2.8999999999999946\n",
      "85.9027180089505 3.0 0.5 2.916666666666661\n",
      "85.9027180089505 3.0 0.5 2.933333333333328\n",
      "85.9027180089505 3.0 0.5 2.9499999999999944\n",
      "85.9027180089505 3.0 0.5 2.966666666666661\n",
      "85.9027180089505 3.0 0.5 2.9833333333333276\n",
      "85.9027180089505 3.0 0.5 2.9999999999999942\n",
      "85.9027180089505 3.0 0.5 3.016666666666661\n",
      "85.9027180089505 3.0 0.5 3.0333333333333274\n",
      "85.9027180089505 3.0 0.5 3.049999999999994\n",
      "85.9027180089505 3.0 0.5 3.0666666666666607\n",
      "85.9027180089505 3.0 0.5 3.0833333333333273\n",
      "85.9027180089505 3.0 0.5 3.099999999999994\n",
      "85.9027180089505 3.0 0.5 3.1166666666666605\n",
      "85.9027180089505 3.0 0.5 3.133333333333327\n",
      "85.9027180089505 3.0 0.5 3.1499999999999937\n",
      "85.9027180089505 3.0 0.5 3.1666666666666603\n",
      "85.9027180089505 3.0 0.5 3.183333333333327\n",
      "85.9027180089505 3.0 0.5 3.1999999999999935\n",
      "85.86938467561718 4.0 0.016666666666659946 3.21666666666666\n",
      "85.83605134228385 4.0 0.033333333333326554 3.2333333333333267\n",
      "85.80271800895052 4.0 0.04999999999999316 3.2499999999999933\n",
      "85.76938467561718 4.0 0.06666666666665977 3.26666666666666\n",
      "85.73605134228384 4.0 0.08333333333332638 3.2833333333333266\n",
      "85.70271800895051 4.0 0.09999999999999298 3.299999999999993\n",
      "85.66938467561718 4.0 0.11666666666665959 3.3166666666666598\n",
      "85.63605134228385 4.0 0.1333333333333262 3.3333333333333264\n",
      "85.60271800895052 4.0 0.1499999999999928 3.349999999999993\n",
      "85.56938467561719 4.0 0.1666666666666594 3.3666666666666596\n",
      "85.53605134228386 4.0 0.18333333333332602 3.383333333333326\n",
      "85.50271800895051 4.0 0.19999999999999263 3.399999999999993\n",
      "85.46938467561718 4.0 0.21666666666665924 3.4166666666666594\n",
      "85.43605134228385 4.0 0.23333333333332584 3.433333333333326\n",
      "85.40271800895052 4.0 0.24999999999999245 3.4499999999999926\n",
      "85.36938467561718 4.0 0.26666666666665906 3.4666666666666592\n",
      "85.33605134228385 4.0 0.28333333333332567 3.483333333333326\n",
      "85.30271800895052 4.0 0.2999999999999923 3.4999999999999925\n",
      "85.26938467561719 4.0 0.3166666666666589 3.516666666666659\n",
      "85.23605134228384 4.0 0.3333333333333255 3.5333333333333257\n",
      "85.20271800895051 4.0 0.3499999999999921 3.5499999999999923\n",
      "85.16938467561718 4.0 0.3666666666666587 3.566666666666659\n",
      "85.13605134228385 4.0 0.3833333333333253 3.5833333333333255\n",
      "85.10271800895052 4.0 0.3999999999999919 3.599999999999992\n",
      "85.06938467561719 4.0 0.4166666666666585 3.6166666666666587\n",
      "85.03605134228386 4.0 0.43333333333332513 3.6333333333333253\n",
      "85.00271800895052 4.0 0.44999999999999174 3.649999999999992\n",
      "84.96938467561718 4.0 0.46666666666665835 3.6666666666666585\n",
      "84.93605134228385 4.0 0.48333333333332495 3.683333333333325\n",
      "84.90271800895052 4.0 0.49999999999999156 3.6999999999999917\n",
      "84.9027180089505 4.0 0.5 3.7166666666666583\n",
      "84.9027180089505 4.0 0.5 3.733333333333325\n",
      "84.9027180089505 4.0 0.5 3.7499999999999916\n",
      "84.9027180089505 4.0 0.5 3.766666666666658\n",
      "84.9027180089505 4.0 0.5 3.7833333333333248\n",
      "84.9027180089505 4.0 0.5 3.7999999999999914\n",
      "84.9027180089505 4.0 0.5 3.816666666666658\n",
      "84.9027180089505 4.0 0.5 3.8333333333333246\n",
      "84.9027180089505 4.0 0.5 3.849999999999991\n",
      "84.9027180089505 4.0 0.5 3.866666666666658\n",
      "84.9027180089505 4.0 0.5 3.8833333333333244\n",
      "84.9027180089505 4.0 0.5 3.899999999999991\n",
      "84.9027180089505 4.0 0.5 3.9166666666666576\n",
      "84.9027180089505 4.0 0.5 3.9333333333333242\n",
      "84.9027180089505 4.0 0.5 3.949999999999991\n",
      "84.9027180089505 4.0 0.5 3.9666666666666575\n",
      "84.9027180089505 4.0 0.5 3.983333333333324\n",
      "84.9027180089505 4.0 0.5 3.9999999999999907\n",
      "84.86938467561718 5.0 0.016666666666657726 4.016666666666658\n",
      "84.83605134228385 5.0 0.03333333333332433 4.033333333333324\n",
      "84.80271800895052 5.0 0.04999999999999094 4.049999999999991\n",
      "84.76938467561719 5.0 0.06666666666665755 4.0666666666666575\n",
      "84.73605134228386 5.0 0.08333333333332416 4.083333333333324\n",
      "84.70271800895051 5.0 0.09999999999999076 4.099999999999991\n",
      "84.66938467561718 5.0 0.11666666666665737 4.116666666666657\n",
      "84.63605134228385 5.0 0.13333333333332398 4.133333333333324\n",
      "84.60271800895052 5.0 0.14999999999999059 4.149999999999991\n",
      "84.56938467561719 5.0 0.1666666666666572 4.166666666666657\n",
      "84.53605134228386 5.0 0.1833333333333238 4.183333333333324\n",
      "84.50271800895052 5.0 0.1999999999999904 4.19999999999999\n",
      "84.46938467561719 5.0 0.21666666666665702 4.216666666666657\n",
      "84.43605134228386 5.0 0.23333333333332362 4.233333333333324\n",
      "84.40271800895052 5.0 0.24999999999999023 4.24999999999999\n",
      "84.36938467561718 5.0 0.26666666666665684 4.266666666666657\n",
      "84.33605134228385 5.0 0.28333333333332344 4.2833333333333234\n",
      "84.30271800895052 5.0 0.29999999999999005 4.29999999999999\n",
      "84.26938467561719 5.0 0.31666666666665666 4.316666666666657\n",
      "84.23605134228386 5.0 0.33333333333332327 4.333333333333323\n",
      "84.20271800895053 5.0 0.3499999999999899 4.34999999999999\n",
      "84.16938467561718 5.0 0.3666666666666565 4.3666666666666565\n",
      "84.13605134228385 5.0 0.3833333333333231 4.383333333333323\n",
      "84.10271800895052 5.0 0.3999999999999897 4.39999999999999\n",
      "84.06938467561719 5.0 0.4166666666666563 4.416666666666656\n",
      "84.03605134228386 5.0 0.4333333333333229 4.433333333333323\n",
      "84.00271800895052 5.0 0.4499999999999895 4.4499999999999895\n",
      "83.96938467561719 5.0 0.4666666666666561 4.466666666666656\n",
      "83.93605134228386 5.0 0.48333333333332273 4.483333333333323\n",
      "83.90271800895053 5.0 0.49999999999998934 4.499999999999989\n",
      "83.9027180089505 5.0 0.5 4.516666666666656\n",
      "83.9027180089505 5.0 0.5 4.533333333333323\n",
      "83.9027180089505 5.0 0.5 4.549999999999989\n",
      "83.9027180089505 5.0 0.5 4.566666666666656\n",
      "83.9027180089505 5.0 0.5 4.583333333333322\n",
      "83.9027180089505 5.0 0.5 4.599999999999989\n",
      "83.9027180089505 5.0 0.5 4.616666666666656\n",
      "83.9027180089505 5.0 0.5 4.633333333333322\n",
      "83.9027180089505 5.0 0.5 4.649999999999989\n",
      "83.9027180089505 5.0 0.5 4.666666666666655\n",
      "83.9027180089505 5.0 0.5 4.683333333333322\n",
      "83.9027180089505 5.0 0.5 4.699999999999989\n",
      "83.9027180089505 5.0 0.5 4.716666666666655\n",
      "83.9027180089505 5.0 0.5 4.733333333333322\n",
      "83.9027180089505 5.0 0.5 4.7499999999999885\n",
      "83.9027180089505 5.0 0.5 4.766666666666655\n",
      "83.9027180089505 5.0 0.5 4.783333333333322\n",
      "83.9027180089505 5.0 0.5 4.799999999999988\n",
      "83.8693846756172 6.0 0.016666666666654173 4.816666666666655\n",
      "83.83605134228387 6.0 0.03333333333332078 4.8333333333333215\n",
      "83.80271800895052 6.0 0.04999999999998739 4.849999999999988\n",
      "83.76938467561719 6.0 0.066666666666654 4.866666666666655\n",
      "83.73605134228386 6.0 0.0833333333333206 4.883333333333321\n",
      "83.70271800895053 6.0 0.09999999999998721 4.899999999999988\n",
      "83.6693846756172 6.0 0.11666666666665382 4.9166666666666545\n",
      "83.63605134228386 6.0 0.13333333333332043 4.933333333333321\n",
      "83.60271800895053 6.0 0.14999999999998703 4.949999999999988\n",
      "83.56938467561719 6.0 0.16666666666665364 4.966666666666654\n",
      "83.53605134228386 6.0 0.18333333333332025 4.983333333333321\n",
      "83.50271800895052 6.0 0.19999999999998685 4.999999999999988\n",
      "83.46938467561719 6.0 0.21666666666665346 5.016666666666654\n",
      "83.43605134228386 6.0 0.23333333333332007 5.033333333333321\n",
      "83.40271800895053 6.0 0.24999999999998668 5.049999999999987\n",
      "83.3693846756172 6.0 0.2666666666666533 5.066666666666654\n",
      "83.33605134228387 6.0 0.2833333333333199 5.083333333333321\n",
      "83.30271800895054 6.0 0.2999999999999865 5.099999999999987\n",
      "83.26938467561719 6.0 0.3166666666666531 5.116666666666654\n",
      "83.23605134228386 6.0 0.3333333333333197 5.13333333333332\n",
      "83.20271800895053 6.0 0.3499999999999863 5.149999999999987\n",
      "83.1693846756172 6.0 0.36666666666665293 5.166666666666654\n",
      "83.13605134228386 6.0 0.38333333333331954 5.18333333333332\n",
      "83.10271800895053 6.0 0.39999999999998614 5.199999999999987\n",
      "83.0693846756172 6.0 0.41666666666665275 5.2166666666666535\n",
      "83.03605134228386 6.0 0.43333333333331936 5.23333333333332\n",
      "83.00271800895052 6.0 0.44999999999998597 5.249999999999987\n",
      "82.96938467561719 6.0 0.4666666666666526 5.266666666666653\n",
      "82.93605134228386 6.0 0.4833333333333192 5.28333333333332\n",
      "82.90271800895053 6.0 0.4999999999999858 5.2999999999999865\n",
      "82.9027180089505 6.0 0.5 5.316666666666653\n",
      "82.9027180089505 6.0 0.5 5.33333333333332\n",
      "82.9027180089505 6.0 0.5 5.349999999999986\n",
      "82.9027180089505 6.0 0.5 5.366666666666653\n",
      "82.9027180089505 6.0 0.5 5.3833333333333195\n",
      "82.9027180089505 6.0 0.5 5.399999999999986\n",
      "82.9027180089505 6.0 0.5 5.416666666666653\n",
      "82.9027180089505 6.0 0.5 5.433333333333319\n",
      "82.9027180089505 6.0 0.5 5.449999999999986\n",
      "82.9027180089505 6.0 0.5 5.466666666666653\n",
      "82.9027180089505 6.0 0.5 5.483333333333319\n",
      "82.9027180089505 6.0 0.5 5.499999999999986\n",
      "82.9027180089505 6.0 0.5 5.516666666666652\n",
      "82.9027180089505 6.0 0.5 5.533333333333319\n",
      "82.9027180089505 6.0 0.5 5.549999999999986\n",
      "82.9027180089505 6.0 0.5 5.566666666666652\n",
      "82.9027180089505 6.0 0.5 5.583333333333319\n",
      "82.9027180089505 6.0 0.5 5.599999999999985\n",
      "82.8693846756172 7.0 0.01666666666665151 5.616666666666652\n",
      "82.83605134228387 7.0 0.033333333333318116 5.633333333333319\n",
      "82.80271800895054 7.0 0.04999999999998472 5.649999999999985\n",
      "82.7693846756172 7.0 0.06666666666665133 5.666666666666652\n",
      "82.73605134228387 7.0 0.08333333333331794 5.6833333333333185\n",
      "82.70271800895053 7.0 0.09999999999998455 5.699999999999985\n",
      "82.6693846756172 7.0 0.11666666666665115 5.716666666666652\n",
      "82.63605134228386 7.0 0.13333333333331776 5.733333333333318\n",
      "82.60271800895053 7.0 0.14999999999998437 5.749999999999985\n",
      "start a slew, elevation diff =  0.09401366723164983 2021-06-07 15:26:11.786394\n"
     ]
    },
    {
     "name": "stderr",
     "output_type": "stream",
     "text": [
      "Got True\n",
      "Rotator in position.\n",
      "Waiting for telescope to settle.\n",
      "Telescope in position.\n"
     ]
    },
    {
     "name": "stdout",
     "output_type": "stream",
     "text": [
      "moving from elevation 82.7 deg to 84.9 deg 2021-06-07 15:27:18.101754\n",
      "This will run for 104 seconds\n",
      "82.74483240724156 0.0 0.016666666666666666 0.016666666666666666\n",
      "82.77816574057489 0.0 0.03333333333333333 0.03333333333333333\n",
      "82.81149907390822 0.0 0.05 0.05\n",
      "82.84483240724157 0.0 0.06666666666666667 0.06666666666666667\n",
      "82.8781657405749 0.0 0.08333333333333333 0.08333333333333333\n",
      "82.91149907390823 0.0 0.09999999999999999 0.09999999999999999\n",
      "82.94483240724156 0.0 0.11666666666666665 0.11666666666666665\n",
      "82.9781657405749 0.0 0.13333333333333333 0.13333333333333333\n",
      "83.01149907390823 0.0 0.15 0.15\n",
      "83.04483240724156 0.0 0.16666666666666666 0.16666666666666666\n",
      "83.07816574057489 0.0 0.18333333333333332 0.18333333333333332\n",
      "83.11149907390823 0.0 0.19999999999999998 0.19999999999999998\n",
      "83.14483240724157 0.0 0.21666666666666665 0.21666666666666665\n",
      "83.1781657405749 0.0 0.2333333333333333 0.2333333333333333\n",
      "83.21149907390823 0.0 0.24999999999999997 0.24999999999999997\n",
      "83.24483240724156 0.0 0.26666666666666666 0.26666666666666666\n",
      "83.27816574057489 0.0 0.2833333333333333 0.2833333333333333\n",
      "83.31149907390822 0.0 0.3 0.3\n",
      "83.34483240724157 0.0 0.31666666666666665 0.31666666666666665\n",
      "83.3781657405749 0.0 0.3333333333333333 0.3333333333333333\n",
      "83.41149907390823 0.0 0.35 0.35\n",
      "83.44483240724156 0.0 0.36666666666666664 0.36666666666666664\n",
      "83.4781657405749 0.0 0.3833333333333333 0.3833333333333333\n",
      "83.51149907390823 0.0 0.39999999999999997 0.39999999999999997\n",
      "83.54483240724156 0.0 0.41666666666666663 0.41666666666666663\n",
      "83.57816574057489 0.0 0.4333333333333333 0.4333333333333333\n",
      "83.61149907390823 0.0 0.44999999999999996 0.44999999999999996\n",
      "83.64483240724157 0.0 0.4666666666666666 0.4666666666666666\n",
      "83.6781657405749 0.0 0.4833333333333333 0.4833333333333333\n",
      "83.71149907390823 0.0 0.49999999999999994 0.49999999999999994\n",
      "83.71149907390823 0.0 0.5 0.5166666666666666\n",
      "83.71149907390823 0.0 0.5 0.5333333333333333\n",
      "83.71149907390823 0.0 0.5 0.55\n",
      "83.71149907390823 0.0 0.5 0.5666666666666668\n",
      "83.71149907390823 0.0 0.5 0.5833333333333335\n",
      "83.71149907390823 0.0 0.5 0.6000000000000002\n",
      "83.71149907390823 0.0 0.5 0.6166666666666669\n",
      "83.71149907390823 0.0 0.5 0.6333333333333336\n",
      "83.71149907390823 0.0 0.5 0.6500000000000004\n",
      "83.71149907390823 0.0 0.5 0.6666666666666671\n",
      "83.71149907390823 0.0 0.5 0.6833333333333338\n",
      "83.71149907390823 0.0 0.5 0.7000000000000005\n",
      "83.71149907390823 0.0 0.5 0.7166666666666672\n",
      "83.71149907390823 0.0 0.5 0.733333333333334\n",
      "83.71149907390823 0.0 0.5 0.7500000000000007\n",
      "83.71149907390823 0.0 0.5 0.7666666666666674\n",
      "83.71149907390823 0.0 0.5 0.7833333333333341\n",
      "83.71149907390823 1.0 7.771561172376096e-16 0.8000000000000008\n",
      "83.74483240724156 1.0 0.016666666666667496 0.8166666666666675\n",
      "83.77816574057489 1.0 0.033333333333334214 0.8333333333333343\n",
      "83.81149907390824 1.0 0.05000000000000093 0.850000000000001\n",
      "83.84483240724157 1.0 0.06666666666666765 0.8666666666666677\n",
      "83.8781657405749 1.0 0.08333333333333437 0.8833333333333344\n",
      "83.91149907390823 1.0 0.10000000000000109 0.9000000000000011\n",
      "83.94483240724156 1.0 0.1166666666666678 0.9166666666666679\n",
      "83.9781657405749 1.0 0.13333333333333452 0.9333333333333346\n",
      "84.01149907390823 1.0 0.15000000000000124 0.9500000000000013\n",
      "84.04483240724157 1.0 0.16666666666666796 0.966666666666668\n",
      "84.0781657405749 1.0 0.18333333333333468 0.9833333333333347\n",
      "84.11149907390823 1.0 0.2000000000000013 1.0000000000000013\n",
      "84.14483240724157 1.0 0.2166666666666679 1.016666666666668\n",
      "84.1781657405749 1.0 0.2333333333333345 1.0333333333333345\n",
      "84.21149907390823 1.0 0.2500000000000011 1.0500000000000012\n",
      "84.24483240724156 1.0 0.2666666666666677 1.0666666666666678\n",
      "84.27816574057489 1.0 0.2833333333333343 1.0833333333333344\n",
      "84.31149907390824 1.0 0.30000000000000093 1.100000000000001\n",
      "84.34483240724157 1.0 0.31666666666666754 1.1166666666666676\n",
      "84.3781657405749 1.0 0.33333333333333415 1.1333333333333342\n",
      "84.41149907390823 1.0 0.35000000000000075 1.1500000000000008\n",
      "84.44483240724156 1.0 0.36666666666666736 1.1666666666666674\n",
      "84.4781657405749 1.0 0.38333333333333397 1.183333333333334\n",
      "84.51149907390823 1.0 0.4000000000000006 1.2000000000000006\n",
      "84.54483240724156 1.0 0.4166666666666672 1.2166666666666672\n",
      "84.5781657405749 1.0 0.4333333333333338 1.2333333333333338\n",
      "84.61149907390823 1.0 0.4500000000000004 1.2500000000000004\n",
      "84.64483240724157 1.0 0.466666666666667 1.266666666666667\n",
      "84.6781657405749 1.0 0.4833333333333336 1.2833333333333337\n",
      "84.71149907390823 1.0 0.5 1.3000000000000003\n",
      "84.71149907390823 1.0 0.5 1.3166666666666669\n",
      "84.71149907390823 1.0 0.5 1.3333333333333335\n",
      "84.71149907390823 1.0 0.5 1.35\n",
      "84.71149907390823 1.0 0.5 1.3666666666666667\n",
      "84.71149907390823 1.0 0.5 1.3833333333333333\n",
      "84.71149907390823 1.0 0.5 1.4\n",
      "84.71149907390823 1.0 0.5 1.4166666666666665\n",
      "84.71149907390823 1.0 0.5 1.4333333333333331\n",
      "84.71149907390823 1.0 0.5 1.4499999999999997\n",
      "84.71149907390823 1.0 0.5 1.4666666666666663\n",
      "84.71149907390823 1.0 0.5 1.483333333333333\n",
      "84.71149907390823 1.0 0.5 1.4999999999999996\n",
      "84.71149907390823 1.0 0.5 1.5166666666666662\n",
      "84.71149907390823 1.0 0.5 1.5333333333333328\n",
      "84.71149907390823 1.0 0.5 1.5499999999999994\n",
      "84.71149907390823 1.0 0.5 1.566666666666666\n",
      "84.71149907390823 1.0 0.5 1.5833333333333326\n",
      "84.71149907390823 1.0 0.5 1.5999999999999992\n",
      "84.74483240724156 2.0 0.01666666666666572 1.6166666666666658\n",
      "84.77816574057489 2.0 0.03333333333333233 1.6333333333333324\n",
      "start a slew, elevation diff =  0.09457178629261875 2021-06-07 15:29:47.126596\n"
     ]
    },
    {
     "name": "stderr",
     "output_type": "stream",
     "text": [
      "Got True\n",
      "Rotator in position.\n",
      "Waiting for telescope to settle.\n",
      "Telescope in position.\n"
     ]
    },
    {
     "name": "stdout",
     "output_type": "stream",
     "text": [
      "moving from elevation 85.0 deg to 82.5 deg 2021-06-07 15:30:55.975354\n",
      "This will run for 121 seconds\n",
      "85.00424732897483 0.0 0.016666666666666666 0.016666666666666666\n",
      "84.9709139956415 0.0 0.03333333333333333 0.03333333333333333\n",
      "84.93758066230816 0.0 0.05 0.05\n",
      "84.90424732897482 0.0 0.06666666666666667 0.06666666666666667\n",
      "84.87091399564149 0.0 0.08333333333333333 0.08333333333333333\n",
      "84.83758066230816 0.0 0.09999999999999999 0.09999999999999999\n",
      "84.80424732897482 0.0 0.11666666666666665 0.11666666666666665\n",
      "84.7709139956415 0.0 0.13333333333333333 0.13333333333333333\n",
      "84.73758066230816 0.0 0.15 0.15\n",
      "84.70424732897483 0.0 0.16666666666666666 0.16666666666666666\n",
      "84.6709139956415 0.0 0.18333333333333332 0.18333333333333332\n",
      "84.63758066230815 0.0 0.19999999999999998 0.19999999999999998\n",
      "84.60424732897482 0.0 0.21666666666666665 0.21666666666666665\n",
      "84.57091399564149 0.0 0.2333333333333333 0.2333333333333333\n",
      "84.53758066230816 0.0 0.24999999999999997 0.24999999999999997\n",
      "84.50424732897483 0.0 0.26666666666666666 0.26666666666666666\n",
      "84.4709139956415 0.0 0.2833333333333333 0.2833333333333333\n",
      "84.43758066230816 0.0 0.3 0.3\n",
      "84.40424732897482 0.0 0.31666666666666665 0.31666666666666665\n",
      "84.37091399564149 0.0 0.3333333333333333 0.3333333333333333\n",
      "84.33758066230816 0.0 0.35 0.35\n",
      "84.30424732897482 0.0 0.36666666666666664 0.36666666666666664\n",
      "84.2709139956415 0.0 0.3833333333333333 0.3833333333333333\n",
      "84.23758066230816 0.0 0.39999999999999997 0.39999999999999997\n",
      "84.20424732897483 0.0 0.41666666666666663 0.41666666666666663\n",
      "84.1709139956415 0.0 0.4333333333333333 0.4333333333333333\n",
      "84.13758066230815 0.0 0.44999999999999996 0.44999999999999996\n",
      "84.10424732897482 0.0 0.4666666666666666 0.4666666666666666\n",
      "84.07091399564149 0.0 0.4833333333333333 0.4833333333333333\n",
      "84.03758066230816 0.0 0.49999999999999994 0.49999999999999994\n",
      "84.03758066230816 0.0 0.5 0.5166666666666666\n",
      "84.03758066230816 0.0 0.5 0.5333333333333333\n",
      "84.03758066230816 0.0 0.5 0.55\n",
      "84.03758066230816 0.0 0.5 0.5666666666666668\n",
      "84.03758066230816 0.0 0.5 0.5833333333333335\n",
      "84.03758066230816 0.0 0.5 0.6000000000000002\n",
      "84.03758066230816 0.0 0.5 0.6166666666666669\n",
      "84.03758066230816 0.0 0.5 0.6333333333333336\n",
      "84.03758066230816 0.0 0.5 0.6500000000000004\n",
      "84.03758066230816 0.0 0.5 0.6666666666666671\n",
      "84.03758066230816 0.0 0.5 0.6833333333333338\n",
      "84.03758066230816 0.0 0.5 0.7000000000000005\n",
      "84.03758066230816 0.0 0.5 0.7166666666666672\n",
      "84.03758066230816 0.0 0.5 0.733333333333334\n",
      "84.03758066230816 0.0 0.5 0.7500000000000007\n",
      "84.03758066230816 0.0 0.5 0.7666666666666674\n",
      "84.03758066230816 0.0 0.5 0.7833333333333341\n",
      "84.03758066230816 1.0 7.771561172376096e-16 0.8000000000000008\n",
      "84.00424732897483 1.0 0.016666666666667496 0.8166666666666675\n",
      "83.9709139956415 1.0 0.033333333333334214 0.8333333333333343\n",
      "83.93758066230815 1.0 0.05000000000000093 0.850000000000001\n",
      "83.90424732897482 1.0 0.06666666666666765 0.8666666666666677\n",
      "83.87091399564149 1.0 0.08333333333333437 0.8833333333333344\n",
      "83.83758066230816 1.0 0.10000000000000109 0.9000000000000011\n",
      "83.80424732897482 1.0 0.1166666666666678 0.9166666666666679\n",
      "83.7709139956415 1.0 0.13333333333333452 0.9333333333333346\n",
      "83.73758066230816 1.0 0.15000000000000124 0.9500000000000013\n",
      "83.70424732897482 1.0 0.16666666666666796 0.966666666666668\n",
      "83.67091399564148 1.0 0.18333333333333468 0.9833333333333347\n",
      "83.63758066230815 1.0 0.2000000000000013 1.0000000000000013\n",
      "83.60424732897482 1.0 0.2166666666666679 1.016666666666668\n",
      "83.57091399564149 1.0 0.2333333333333345 1.0333333333333345\n",
      "83.53758066230816 1.0 0.2500000000000011 1.0500000000000012\n",
      "83.50424732897483 1.0 0.2666666666666677 1.0666666666666678\n",
      "83.4709139956415 1.0 0.2833333333333343 1.0833333333333344\n",
      "83.43758066230815 1.0 0.30000000000000093 1.100000000000001\n",
      "83.40424732897482 1.0 0.31666666666666754 1.1166666666666676\n",
      "83.37091399564149 1.0 0.33333333333333415 1.1333333333333342\n",
      "83.33758066230816 1.0 0.35000000000000075 1.1500000000000008\n",
      "83.30424732897482 1.0 0.36666666666666736 1.1666666666666674\n",
      "83.2709139956415 1.0 0.38333333333333397 1.183333333333334\n",
      "83.23758066230816 1.0 0.4000000000000006 1.2000000000000006\n",
      "83.20424732897483 1.0 0.4166666666666672 1.2166666666666672\n",
      "83.17091399564148 1.0 0.4333333333333338 1.2333333333333338\n",
      "83.13758066230815 1.0 0.4500000000000004 1.2500000000000004\n",
      "83.10424732897482 1.0 0.466666666666667 1.266666666666667\n",
      "83.07091399564149 1.0 0.4833333333333336 1.2833333333333337\n",
      "83.03758066230816 1.0 0.5 1.3000000000000003\n",
      "83.03758066230816 1.0 0.5 1.3166666666666669\n",
      "83.03758066230816 1.0 0.5 1.3333333333333335\n",
      "83.03758066230816 1.0 0.5 1.35\n",
      "83.03758066230816 1.0 0.5 1.3666666666666667\n",
      "83.03758066230816 1.0 0.5 1.3833333333333333\n",
      "83.03758066230816 1.0 0.5 1.4\n",
      "83.03758066230816 1.0 0.5 1.4166666666666665\n",
      "83.03758066230816 1.0 0.5 1.4333333333333331\n",
      "83.03758066230816 1.0 0.5 1.4499999999999997\n",
      "83.03758066230816 1.0 0.5 1.4666666666666663\n",
      "83.03758066230816 1.0 0.5 1.483333333333333\n",
      "83.03758066230816 1.0 0.5 1.4999999999999996\n",
      "83.03758066230816 1.0 0.5 1.5166666666666662\n",
      "83.03758066230816 1.0 0.5 1.5333333333333328\n",
      "83.03758066230816 1.0 0.5 1.5499999999999994\n",
      "83.03758066230816 1.0 0.5 1.566666666666666\n",
      "83.03758066230816 1.0 0.5 1.5833333333333326\n",
      "83.03758066230816 1.0 0.5 1.5999999999999992\n",
      "83.00424732897483 2.0 0.01666666666666572 1.6166666666666658\n",
      "82.9709139956415 2.0 0.03333333333333233 1.6333333333333324\n",
      "82.93758066230816 2.0 0.049999999999998934 1.649999999999999\n",
      "82.90424732897483 2.0 0.06666666666666554 1.6666666666666656\n",
      "82.8709139956415 2.0 0.08333333333333215 1.6833333333333322\n",
      "82.83758066230816 2.0 0.09999999999999876 1.6999999999999988\n",
      "82.80424732897482 2.0 0.11666666666666536 1.7166666666666655\n",
      "82.7709139956415 2.0 0.13333333333333197 1.733333333333332\n",
      "82.73758066230816 2.0 0.14999999999999858 1.7499999999999987\n",
      "82.70424732897483 2.0 0.1666666666666652 1.7666666666666653\n",
      "82.6709139956415 2.0 0.1833333333333318 1.7833333333333319\n",
      "82.63758066230817 2.0 0.1999999999999984 1.7999999999999985\n",
      "82.60424732897482 2.0 0.216666666666665 1.816666666666665\n",
      "start a slew, elevation diff =  0.09637092981078865 2021-06-07 15:33:42.696204\n"
     ]
    },
    {
     "name": "stderr",
     "output_type": "stream",
     "text": [
      "Got True\n",
      "Rotator in position.\n",
      "Waiting for telescope to settle.\n",
      "Telescope in position.\n"
     ]
    },
    {
     "name": "stdout",
     "output_type": "stream",
     "text": [
      "moving from elevation 82.7 deg to 84.9 deg 2021-06-07 15:34:49.339407\n",
      "This will run for 104 seconds\n",
      "82.74434681444616 0.0 0.016666666666666666 0.016666666666666666\n",
      "82.77768014777949 0.0 0.03333333333333333 0.03333333333333333\n",
      "82.81101348111282 0.0 0.05 0.05\n",
      "82.84434681444617 0.0 0.06666666666666667 0.06666666666666667\n",
      "82.8776801477795 0.0 0.08333333333333333 0.08333333333333333\n",
      "82.91101348111283 0.0 0.09999999999999999 0.09999999999999999\n",
      "82.94434681444616 0.0 0.11666666666666665 0.11666666666666665\n",
      "82.9776801477795 0.0 0.13333333333333333 0.13333333333333333\n",
      "83.01101348111283 0.0 0.15 0.15\n",
      "83.04434681444616 0.0 0.16666666666666666 0.16666666666666666\n",
      "83.07768014777949 0.0 0.18333333333333332 0.18333333333333332\n",
      "83.11101348111283 0.0 0.19999999999999998 0.19999999999999998\n",
      "83.14434681444617 0.0 0.21666666666666665 0.21666666666666665\n",
      "83.1776801477795 0.0 0.2333333333333333 0.2333333333333333\n",
      "83.21101348111283 0.0 0.24999999999999997 0.24999999999999997\n",
      "83.24434681444616 0.0 0.26666666666666666 0.26666666666666666\n",
      "83.27768014777949 0.0 0.2833333333333333 0.2833333333333333\n",
      "83.31101348111282 0.0 0.3 0.3\n",
      "83.34434681444617 0.0 0.31666666666666665 0.31666666666666665\n",
      "83.3776801477795 0.0 0.3333333333333333 0.3333333333333333\n",
      "83.41101348111283 0.0 0.35 0.35\n",
      "83.44434681444616 0.0 0.36666666666666664 0.36666666666666664\n",
      "83.4776801477795 0.0 0.3833333333333333 0.3833333333333333\n",
      "83.51101348111283 0.0 0.39999999999999997 0.39999999999999997\n",
      "83.54434681444616 0.0 0.41666666666666663 0.41666666666666663\n",
      "83.57768014777949 0.0 0.4333333333333333 0.4333333333333333\n",
      "83.61101348111283 0.0 0.44999999999999996 0.44999999999999996\n",
      "83.64434681444617 0.0 0.4666666666666666 0.4666666666666666\n",
      "83.6776801477795 0.0 0.4833333333333333 0.4833333333333333\n",
      "83.71101348111283 0.0 0.49999999999999994 0.49999999999999994\n",
      "83.71101348111283 0.0 0.5 0.5166666666666666\n",
      "83.71101348111283 0.0 0.5 0.5333333333333333\n",
      "83.71101348111283 0.0 0.5 0.55\n",
      "83.71101348111283 0.0 0.5 0.5666666666666668\n",
      "83.71101348111283 0.0 0.5 0.5833333333333335\n",
      "83.71101348111283 0.0 0.5 0.6000000000000002\n",
      "83.71101348111283 0.0 0.5 0.6166666666666669\n",
      "83.71101348111283 0.0 0.5 0.6333333333333336\n",
      "83.71101348111283 0.0 0.5 0.6500000000000004\n",
      "83.71101348111283 0.0 0.5 0.6666666666666671\n",
      "83.71101348111283 0.0 0.5 0.6833333333333338\n",
      "83.71101348111283 0.0 0.5 0.7000000000000005\n",
      "83.71101348111283 0.0 0.5 0.7166666666666672\n",
      "83.71101348111283 0.0 0.5 0.733333333333334\n",
      "83.71101348111283 0.0 0.5 0.7500000000000007\n",
      "83.71101348111283 0.0 0.5 0.7666666666666674\n",
      "83.71101348111283 0.0 0.5 0.7833333333333341\n",
      "83.71101348111283 1.0 7.771561172376096e-16 0.8000000000000008\n",
      "83.74434681444616 1.0 0.016666666666667496 0.8166666666666675\n",
      "83.77768014777949 1.0 0.033333333333334214 0.8333333333333343\n",
      "83.81101348111284 1.0 0.05000000000000093 0.850000000000001\n",
      "83.84434681444617 1.0 0.06666666666666765 0.8666666666666677\n",
      "83.8776801477795 1.0 0.08333333333333437 0.8833333333333344\n",
      "83.91101348111283 1.0 0.10000000000000109 0.9000000000000011\n",
      "83.94434681444616 1.0 0.1166666666666678 0.9166666666666679\n",
      "83.9776801477795 1.0 0.13333333333333452 0.9333333333333346\n",
      "84.01101348111283 1.0 0.15000000000000124 0.9500000000000013\n",
      "84.04434681444617 1.0 0.16666666666666796 0.966666666666668\n",
      "84.0776801477795 1.0 0.18333333333333468 0.9833333333333347\n",
      "84.11101348111283 1.0 0.2000000000000013 1.0000000000000013\n",
      "84.14434681444617 1.0 0.2166666666666679 1.016666666666668\n",
      "84.1776801477795 1.0 0.2333333333333345 1.0333333333333345\n",
      "84.21101348111283 1.0 0.2500000000000011 1.0500000000000012\n",
      "84.24434681444616 1.0 0.2666666666666677 1.0666666666666678\n",
      "84.27768014777949 1.0 0.2833333333333343 1.0833333333333344\n",
      "84.31101348111284 1.0 0.30000000000000093 1.100000000000001\n",
      "84.34434681444617 1.0 0.31666666666666754 1.1166666666666676\n",
      "84.3776801477795 1.0 0.33333333333333415 1.1333333333333342\n",
      "84.41101348111283 1.0 0.35000000000000075 1.1500000000000008\n",
      "84.44434681444616 1.0 0.36666666666666736 1.1666666666666674\n",
      "84.4776801477795 1.0 0.38333333333333397 1.183333333333334\n",
      "84.51101348111283 1.0 0.4000000000000006 1.2000000000000006\n",
      "84.54434681444616 1.0 0.4166666666666672 1.2166666666666672\n",
      "84.5776801477795 1.0 0.4333333333333338 1.2333333333333338\n",
      "84.61101348111283 1.0 0.4500000000000004 1.2500000000000004\n",
      "84.64434681444617 1.0 0.466666666666667 1.266666666666667\n",
      "84.6776801477795 1.0 0.4833333333333336 1.2833333333333337\n",
      "84.71101348111283 1.0 0.5 1.3000000000000003\n",
      "84.71101348111283 1.0 0.5 1.3166666666666669\n",
      "84.71101348111283 1.0 0.5 1.3333333333333335\n",
      "84.71101348111283 1.0 0.5 1.35\n",
      "84.71101348111283 1.0 0.5 1.3666666666666667\n",
      "84.71101348111283 1.0 0.5 1.3833333333333333\n",
      "84.71101348111283 1.0 0.5 1.4\n",
      "84.71101348111283 1.0 0.5 1.4166666666666665\n",
      "84.71101348111283 1.0 0.5 1.4333333333333331\n",
      "84.71101348111283 1.0 0.5 1.4499999999999997\n",
      "84.71101348111283 1.0 0.5 1.4666666666666663\n",
      "84.71101348111283 1.0 0.5 1.483333333333333\n",
      "84.71101348111283 1.0 0.5 1.4999999999999996\n",
      "84.71101348111283 1.0 0.5 1.5166666666666662\n",
      "84.71101348111283 1.0 0.5 1.5333333333333328\n",
      "84.71101348111283 1.0 0.5 1.5499999999999994\n",
      "84.71101348111283 1.0 0.5 1.566666666666666\n",
      "84.71101348111283 1.0 0.5 1.5833333333333326\n",
      "84.71101348111283 1.0 0.5 1.5999999999999992\n",
      "84.74434681444616 2.0 0.01666666666666572 1.6166666666666658\n",
      "84.77768014777949 2.0 0.03333333333333233 1.6333333333333324\n",
      "start a slew, elevation diff =  0.09329579915022634 2021-06-07 15:37:18.437644\n"
     ]
    },
    {
     "name": "stderr",
     "output_type": "stream",
     "text": [
      "Got True\n",
      "Rotator in position.\n",
      "Waiting for telescope to settle.\n",
      "Telescope in position.\n"
     ]
    }
   ],
   "source": [
    "dec = -34.\n",
    "for j in range(2):\n",
    "    for i in range(2):\n",
    "        \n",
    "        time_and_date = await mtcs.rem.mtptg.tel_timeAndDate.next(flush=True, timeout=5)\n",
    "        ra = time_and_date.lst + 0.5 - 3.5/15.0 * i\n",
    "        \n",
    "        aa = await mount.tel_elevation.next(flush=True, timeout=5.)\n",
    "        current_el = aa.actualPosition\n",
    "        \n",
    "        obs_time = salobj.astropy_time_from_tai_unix(salobj.current_tai() + 0.) #with 0s delay\n",
    "        azel = mtcs.azel_from_radec(ra=ra, dec=dec, time=obs_time)\n",
    "        target_el = azel.alt.value\n",
    "        \n",
    "        while abs(target_el - current_el)>0.3:\n",
    "            print('moving from elevation %.1f deg to %.1f deg'%(current_el, target_el), Time.now())\n",
    "            await moveMountConstantV(mount, current_el, target_el)\n",
    "        \n",
    "            aa = await mount.tel_elevation.next(flush=True, timeout=5.)\n",
    "            current_el = aa.actualPosition\n",
    "        \n",
    "            time_and_date = await mtcs.rem.mtptg.tel_timeAndDate.next(flush=True, timeout=5)\n",
    "            ra = time_and_date.lst + 0.5 - 3.5/15.0 * i\n",
    "    \n",
    "            obs_time = salobj.astropy_time_from_tai_unix(salobj.current_tai() + 0.) #with 0s delay\n",
    "            azel = mtcs.azel_from_radec(ra=ra, dec=dec, time=obs_time)\n",
    "            target_el = azel.alt.value\n",
    "        \n",
    "        print('start a slew, elevation diff = ', abs(target_el - current_el), Time.now())\n",
    "\n",
    "        #b = await mount.tel_cameraCableWrap.next(flush=True, timeout=5) #CCW doesn't follow rotator!!!\n",
    "        #await mtcs.slew_icrs(ra=ra, dec=dec, rot=b.actualPosition, rot_type=RotType.PhysicalSky)\n",
    "        await mtcs.slew_icrs(ra=ra, dec=dec, rot=0.0, rot_type=RotType.Physical)\n",
    "        await asyncio.sleep(39.)\n",
    "        await mtcs.stop_tracking()"
   ]
  },
  {
   "cell_type": "markdown",
   "id": "17e80556",
   "metadata": {},
   "source": [
    "### Check that all components are ready"
   ]
  },
  {
   "cell_type": "code",
   "execution_count": 24,
   "id": "39648fb0",
   "metadata": {},
   "outputs": [
    {
     "name": "stdout",
     "output_type": "stream",
     "text": [
      "starting with: M1M3 state State.STANDBY 2021-07-13 15:31:47.368913152\n",
      "          detailed state DetailedState.STANDBY 2021-07-13 15:31:47.369053440\n"
     ]
    },
    {
     "ename": "TimeoutError",
     "evalue": "",
     "output_type": "error",
     "traceback": [
      "\u001b[0;31m---------------------------------------------------------------------------\u001b[0m",
      "\u001b[0;31mTimeoutError\u001b[0m                              Traceback (most recent call last)",
      "\u001b[0;32m/tmp/ipykernel_1150/484684785.py\u001b[0m in \u001b[0;36m<module>\u001b[0;34m\u001b[0m\n\u001b[0;32m----> 1\u001b[0;31m \u001b[0;32mawait\u001b[0m \u001b[0mcheckAOSCompStates\u001b[0m\u001b[0;34m(\u001b[0m\u001b[0mm1m3\u001b[0m\u001b[0;34m,\u001b[0m \u001b[0mm2\u001b[0m\u001b[0;34m,\u001b[0m \u001b[0mcamhex\u001b[0m\u001b[0;34m,\u001b[0m \u001b[0mm2hex\u001b[0m\u001b[0;34m)\u001b[0m\u001b[0;34m\u001b[0m\u001b[0;34m\u001b[0m\u001b[0m\n\u001b[0m",
      "\u001b[0;32m~/notebooks/ts_notebooks/bxin/aos2comp/aosTools.py\u001b[0m in \u001b[0;36mcheckAOSCompStates\u001b[0;34m(m1m3, m2, camhex, m2hex)\u001b[0m\n\u001b[1;32m     54\u001b[0m \u001b[0;34m\u001b[0m\u001b[0m\n\u001b[1;32m     55\u001b[0m     \u001b[0;31m#m2\u001b[0m\u001b[0;34m\u001b[0m\u001b[0;34m\u001b[0m\u001b[0;34m\u001b[0m\u001b[0m\n\u001b[0;32m---> 56\u001b[0;31m     \u001b[0msstate\u001b[0m \u001b[0;34m=\u001b[0m \u001b[0;32mawait\u001b[0m \u001b[0mm2\u001b[0m\u001b[0;34m.\u001b[0m\u001b[0mevt_summaryState\u001b[0m\u001b[0;34m.\u001b[0m\u001b[0maget\u001b[0m\u001b[0;34m(\u001b[0m\u001b[0mtimeout\u001b[0m\u001b[0;34m=\u001b[0m\u001b[0;36m5\u001b[0m\u001b[0;34m)\u001b[0m\u001b[0;34m\u001b[0m\u001b[0;34m\u001b[0m\u001b[0m\n\u001b[0m\u001b[1;32m     57\u001b[0m     \u001b[0mprint\u001b[0m\u001b[0;34m(\u001b[0m\u001b[0;34m'staring with: m2 state'\u001b[0m\u001b[0;34m,\u001b[0m\u001b[0msalobj\u001b[0m\u001b[0;34m.\u001b[0m\u001b[0mState\u001b[0m\u001b[0;34m(\u001b[0m\u001b[0msstate\u001b[0m\u001b[0;34m.\u001b[0m\u001b[0msummaryState\u001b[0m\u001b[0;34m)\u001b[0m\u001b[0;34m,\u001b[0m \u001b[0mpd\u001b[0m\u001b[0;34m.\u001b[0m\u001b[0mto_datetime\u001b[0m\u001b[0;34m(\u001b[0m\u001b[0msstate\u001b[0m\u001b[0;34m.\u001b[0m\u001b[0mprivate_sndStamp\u001b[0m\u001b[0;34m,\u001b[0m \u001b[0munit\u001b[0m\u001b[0;34m=\u001b[0m\u001b[0;34m's'\u001b[0m\u001b[0;34m)\u001b[0m\u001b[0;34m)\u001b[0m\u001b[0;34m\u001b[0m\u001b[0;34m\u001b[0m\u001b[0m\n\u001b[1;32m     58\u001b[0m \u001b[0;34m\u001b[0m\u001b[0m\n",
      "\u001b[0;32m/opt/lsst/software/stack/conda/miniconda3-py38_4.9.2/envs/lsst-scipipe-0.6.0/lib/python3.8/site-packages/lsst/ts/salobj/topics/read_topic.py\u001b[0m in \u001b[0;36maget\u001b[0;34m(self, timeout)\u001b[0m\n\u001b[1;32m    493\u001b[0m             \u001b[0;32mif\u001b[0m \u001b[0mself\u001b[0m\u001b[0;34m.\u001b[0m\u001b[0m_next_task\u001b[0m\u001b[0;34m.\u001b[0m\u001b[0mdone\u001b[0m\u001b[0;34m(\u001b[0m\u001b[0;34m)\u001b[0m\u001b[0;34m:\u001b[0m\u001b[0;34m\u001b[0m\u001b[0;34m\u001b[0m\u001b[0m\n\u001b[1;32m    494\u001b[0m                 \u001b[0mself\u001b[0m\u001b[0;34m.\u001b[0m\u001b[0m_next_task\u001b[0m \u001b[0;34m=\u001b[0m \u001b[0masyncio\u001b[0m\u001b[0;34m.\u001b[0m\u001b[0mFuture\u001b[0m\u001b[0;34m(\u001b[0m\u001b[0;34m)\u001b[0m\u001b[0;34m\u001b[0m\u001b[0;34m\u001b[0m\u001b[0m\n\u001b[0;32m--> 495\u001b[0;31m             \u001b[0;32mawait\u001b[0m \u001b[0masyncio\u001b[0m\u001b[0;34m.\u001b[0m\u001b[0mwait_for\u001b[0m\u001b[0;34m(\u001b[0m\u001b[0mself\u001b[0m\u001b[0;34m.\u001b[0m\u001b[0m_next_task\u001b[0m\u001b[0;34m,\u001b[0m \u001b[0mtimeout\u001b[0m\u001b[0;34m=\u001b[0m\u001b[0mtimeout\u001b[0m\u001b[0;34m)\u001b[0m\u001b[0;34m\u001b[0m\u001b[0;34m\u001b[0m\u001b[0m\n\u001b[0m\u001b[1;32m    496\u001b[0m         \u001b[0;32mreturn\u001b[0m \u001b[0mself\u001b[0m\u001b[0;34m.\u001b[0m\u001b[0m_current_data\u001b[0m\u001b[0;34m\u001b[0m\u001b[0;34m\u001b[0m\u001b[0m\n\u001b[1;32m    497\u001b[0m \u001b[0;34m\u001b[0m\u001b[0m\n",
      "\u001b[0;32m/opt/lsst/software/stack/conda/miniconda3-py38_4.9.2/envs/lsst-scipipe-0.6.0/lib/python3.8/asyncio/tasks.py\u001b[0m in \u001b[0;36mwait_for\u001b[0;34m(fut, timeout, loop)\u001b[0m\n\u001b[1;32m    499\u001b[0m             \u001b[0;31m# See https://bugs.python.org/issue32751\u001b[0m\u001b[0;34m\u001b[0m\u001b[0;34m\u001b[0m\u001b[0;34m\u001b[0m\u001b[0m\n\u001b[1;32m    500\u001b[0m             \u001b[0;32mawait\u001b[0m \u001b[0m_cancel_and_wait\u001b[0m\u001b[0;34m(\u001b[0m\u001b[0mfut\u001b[0m\u001b[0;34m,\u001b[0m \u001b[0mloop\u001b[0m\u001b[0;34m=\u001b[0m\u001b[0mloop\u001b[0m\u001b[0;34m)\u001b[0m\u001b[0;34m\u001b[0m\u001b[0;34m\u001b[0m\u001b[0m\n\u001b[0;32m--> 501\u001b[0;31m             \u001b[0;32mraise\u001b[0m \u001b[0mexceptions\u001b[0m\u001b[0;34m.\u001b[0m\u001b[0mTimeoutError\u001b[0m\u001b[0;34m(\u001b[0m\u001b[0;34m)\u001b[0m\u001b[0;34m\u001b[0m\u001b[0;34m\u001b[0m\u001b[0m\n\u001b[0m\u001b[1;32m    502\u001b[0m     \u001b[0;32mfinally\u001b[0m\u001b[0;34m:\u001b[0m\u001b[0;34m\u001b[0m\u001b[0;34m\u001b[0m\u001b[0m\n\u001b[1;32m    503\u001b[0m         \u001b[0mtimeout_handle\u001b[0m\u001b[0;34m.\u001b[0m\u001b[0mcancel\u001b[0m\u001b[0;34m(\u001b[0m\u001b[0;34m)\u001b[0m\u001b[0;34m\u001b[0m\u001b[0;34m\u001b[0m\u001b[0m\n",
      "\u001b[0;31mTimeoutError\u001b[0m: "
     ]
    }
   ],
   "source": [
    "await checkAOSCompStates(m1m3, m2, camhex, m2hex)"
   ]
  },
  {
   "cell_type": "code",
   "execution_count": 99,
   "id": "63c73f39",
   "metadata": {},
   "outputs": [
    {
     "name": "stdout",
     "output_type": "stream",
     "text": [
      "staring with: ptg state State.FAULT 2021-07-06 17:49:01.893497344\n",
      "staring with: mount state State.ENABLED 2021-07-06 17:44:00.675299072\n",
      "staring with: rot state State.STANDBY 2021-07-06 17:43:18.963350016\n"
     ]
    }
   ],
   "source": [
    "await checkSlewCompStates(ptg, mount, rot)"
   ]
  },
  {
   "cell_type": "markdown",
   "id": "ecad0013",
   "metadata": {},
   "source": [
    "### Get M1M3 ready (Mount telemetry mode)"
   ]
  },
  {
   "cell_type": "code",
   "execution_count": 70,
   "id": "63979c78",
   "metadata": {},
   "outputs": [
    {
     "data": {
      "text/plain": [
       "<ddsutil.MTMount_ackcmd_99f86545 at 0x7f0249c71730>"
      ]
     },
     "execution_count": 70,
     "metadata": {},
     "output_type": "execute_result"
    }
   ],
   "source": [
    "#Move to zenith (so that we can start m1m3 with LUT in mount telemetry mode)\n",
    "await mount.cmd_moveToTarget.set_start(azimuth=0, elevation=90)"
   ]
  },
  {
   "cell_type": "code",
   "execution_count": 26,
   "id": "df042f8f",
   "metadata": {},
   "outputs": [
    {
     "data": {
      "text/plain": [
       "<ddsutil.MTM1M3_logevent_heartbeat_5826283f at 0x7f0249e40a60>"
      ]
     },
     "execution_count": 26,
     "metadata": {},
     "output_type": "execute_result"
    }
   ],
   "source": [
    "await m1m3.evt_heartbeat.next(flush=True, timeout=5)"
   ]
  },
  {
   "cell_type": "code",
   "execution_count": 72,
   "id": "7cea5dce",
   "metadata": {},
   "outputs": [
    {
     "data": {
      "text/plain": [
       "[<State.FAULT: 3>, <State.STANDBY: 5>]"
      ]
     },
     "execution_count": 72,
     "metadata": {},
     "output_type": "execute_result"
    }
   ],
   "source": [
    "await salobj.set_summary_state(m1m3, salobj.State.STANDBY)"
   ]
  },
  {
   "cell_type": "code",
   "execution_count": 55,
   "id": "83917560",
   "metadata": {},
   "outputs": [
    {
     "name": "stdout",
     "output_type": "stream",
     "text": [
      "Re-enabling M1M3\n"
     ]
    },
    {
     "name": "stderr",
     "output_type": "stream",
     "text": [
      "forceActuatorForceWarning DDS read queue is full (100 elements); data may be lost\n"
     ]
    },
    {
     "data": {
      "text/plain": [
       "[<State.STANDBY: 5>, <State.DISABLED: 1>, <State.ENABLED: 2>]"
      ]
     },
     "execution_count": 55,
     "metadata": {},
     "output_type": "execute_result"
    }
   ],
   "source": [
    "print('Re-enabling M1M3')\n",
    "#await salobj.set_summary_state(m1m3, salobj.State.STANDBY) \n",
    "await salobj.set_summary_state(m1m3, salobj.State.ENABLED, settingsToApply = 'Default') #enable m1m3"
   ]
  },
  {
   "cell_type": "code",
   "execution_count": 56,
   "id": "45adcf40",
   "metadata": {},
   "outputs": [
    {
     "name": "stdout",
     "output_type": "stream",
     "text": [
      "m1m3 inclinometer Angle =  90.00399780273438\n",
      "m1m3 state DetailedState.RAISING 2021-07-13 16:59:28.446536192\n",
      "m1m3 state DetailedState.ACTIVE 2021-07-13 17:04:42.364613120\n",
      "m1m3 z position =  0.0\n",
      "Magnitude of the m1m3 force balance system 177.1709747314453\n"
     ]
    }
   ],
   "source": [
    "await readyM1M3(m1m3)"
   ]
  },
  {
   "cell_type": "code",
   "execution_count": 73,
   "id": "8ec2f359",
   "metadata": {},
   "outputs": [
    {
     "data": {
      "text/plain": [
       "<ddsutil.MTM1M3_ackcmd_c8c90ef3 at 0x7f2219dd8e20>"
      ]
     },
     "execution_count": 73,
     "metadata": {},
     "output_type": "execute_result"
    }
   ],
   "source": [
    "await m1m3.cmd_abortRaiseM1M3.set_start(timeout=15.)"
   ]
  },
  {
   "cell_type": "code",
   "execution_count": 50,
   "id": "ac09ebfa",
   "metadata": {},
   "outputs": [
    {
     "name": "stdout",
     "output_type": "stream",
     "text": [
      "TMA Azimuth timeouted (-0.502s) 2021-07-13 16:50:06.858978048\n"
     ]
    }
   ],
   "source": [
    "a = await m1m3.evt_errorCode.aget()\n",
    "print(a.errorReport, pd.to_datetime(a.private_sndStamp, unit='s'))"
   ]
  },
  {
   "cell_type": "code",
   "execution_count": null,
   "id": "c9ea9c7e",
   "metadata": {},
   "outputs": [],
   "source": []
  },
  {
   "cell_type": "code",
   "execution_count": 71,
   "id": "992c50b9",
   "metadata": {},
   "outputs": [
    {
     "ename": "AckError",
     "evalue": "msg='Command failed', ackcmd=(ackcmd private_seqNum=1093916491, ack=<SalRetCode.CMD_FAILED: -302>, error=0, result='Failed: The command LowerM1M3 is not valid in the FaultState.')",
     "output_type": "error",
     "traceback": [
      "\u001b[0;31m---------------------------------------------------------------------------\u001b[0m",
      "\u001b[0;31mAckError\u001b[0m                                  Traceback (most recent call last)",
      "\u001b[0;32m/tmp/ipykernel_1150/600622860.py\u001b[0m in \u001b[0;36m<module>\u001b[0;34m\u001b[0m\n\u001b[0;32m----> 1\u001b[0;31m \u001b[0;32mawait\u001b[0m \u001b[0mlowerM1M3\u001b[0m\u001b[0;34m(\u001b[0m\u001b[0mm1m3\u001b[0m\u001b[0;34m)\u001b[0m\u001b[0;34m\u001b[0m\u001b[0;34m\u001b[0m\u001b[0m\n\u001b[0m",
      "\u001b[0;32m~/notebooks/ts_notebooks/bxin/aos2comp/aosTools.py\u001b[0m in \u001b[0;36mlowerM1M3\u001b[0;34m(m1m3)\u001b[0m\n\u001b[1;32m     91\u001b[0m \u001b[0;32masync\u001b[0m \u001b[0;32mdef\u001b[0m \u001b[0mlowerM1M3\u001b[0m\u001b[0;34m(\u001b[0m\u001b[0mm1m3\u001b[0m\u001b[0;34m)\u001b[0m\u001b[0;34m:\u001b[0m\u001b[0;34m\u001b[0m\u001b[0;34m\u001b[0m\u001b[0m\n\u001b[1;32m     92\u001b[0m     \u001b[0mm1m3\u001b[0m\u001b[0;34m.\u001b[0m\u001b[0mevt_detailedState\u001b[0m\u001b[0;34m.\u001b[0m\u001b[0mflush\u001b[0m\u001b[0;34m(\u001b[0m\u001b[0;34m)\u001b[0m\u001b[0;34m\u001b[0m\u001b[0;34m\u001b[0m\u001b[0m\n\u001b[0;32m---> 93\u001b[0;31m     \u001b[0;32mawait\u001b[0m \u001b[0mm1m3\u001b[0m\u001b[0;34m.\u001b[0m\u001b[0mcmd_lowerM1M3\u001b[0m\u001b[0;34m.\u001b[0m\u001b[0mset_start\u001b[0m\u001b[0;34m(\u001b[0m\u001b[0mlowerM1M3\u001b[0m\u001b[0;34m=\u001b[0m\u001b[0;32mTrue\u001b[0m\u001b[0;34m,\u001b[0m \u001b[0mtimeout\u001b[0m \u001b[0;34m=\u001b[0m \u001b[0;36m30\u001b[0m\u001b[0;34m)\u001b[0m\u001b[0;34m\u001b[0m\u001b[0;34m\u001b[0m\u001b[0m\n\u001b[0m\u001b[1;32m     94\u001b[0m     \u001b[0;32mwhile\u001b[0m \u001b[0;32mTrue\u001b[0m\u001b[0;34m:\u001b[0m\u001b[0;34m\u001b[0m\u001b[0;34m\u001b[0m\u001b[0m\n\u001b[1;32m     95\u001b[0m         \u001b[0mstate\u001b[0m \u001b[0;34m=\u001b[0m \u001b[0;32mawait\u001b[0m \u001b[0mm1m3\u001b[0m\u001b[0;34m.\u001b[0m\u001b[0mevt_detailedState\u001b[0m\u001b[0;34m.\u001b[0m\u001b[0mnext\u001b[0m\u001b[0;34m(\u001b[0m\u001b[0mflush\u001b[0m\u001b[0;34m=\u001b[0m\u001b[0;32mFalse\u001b[0m\u001b[0;34m,\u001b[0m \u001b[0mtimeout\u001b[0m\u001b[0;34m=\u001b[0m\u001b[0;36m300\u001b[0m\u001b[0;34m)\u001b[0m\u001b[0;34m\u001b[0m\u001b[0;34m\u001b[0m\u001b[0m\n",
      "\u001b[0;32m/opt/lsst/software/stack/conda/miniconda3-py38_4.9.2/envs/lsst-scipipe-0.6.0/lib/python3.8/site-packages/lsst/ts/salobj/topics/remote_command.py\u001b[0m in \u001b[0;36mset_start\u001b[0;34m(self, timeout, wait_done, **kwargs)\u001b[0m\n\u001b[1;32m    392\u001b[0m         \"\"\"\n\u001b[1;32m    393\u001b[0m         \u001b[0mself\u001b[0m\u001b[0;34m.\u001b[0m\u001b[0mset\u001b[0m\u001b[0;34m(\u001b[0m\u001b[0;34m**\u001b[0m\u001b[0mkwargs\u001b[0m\u001b[0;34m)\u001b[0m\u001b[0;34m\u001b[0m\u001b[0;34m\u001b[0m\u001b[0m\n\u001b[0;32m--> 394\u001b[0;31m         \u001b[0;32mreturn\u001b[0m \u001b[0;32mawait\u001b[0m \u001b[0mself\u001b[0m\u001b[0;34m.\u001b[0m\u001b[0mstart\u001b[0m\u001b[0;34m(\u001b[0m\u001b[0mtimeout\u001b[0m\u001b[0;34m=\u001b[0m\u001b[0mtimeout\u001b[0m\u001b[0;34m,\u001b[0m \u001b[0mwait_done\u001b[0m\u001b[0;34m=\u001b[0m\u001b[0mwait_done\u001b[0m\u001b[0;34m)\u001b[0m\u001b[0;34m\u001b[0m\u001b[0;34m\u001b[0m\u001b[0m\n\u001b[0m\u001b[1;32m    395\u001b[0m \u001b[0;34m\u001b[0m\u001b[0m\n\u001b[1;32m    396\u001b[0m     \u001b[0;32masync\u001b[0m \u001b[0;32mdef\u001b[0m \u001b[0mstart\u001b[0m\u001b[0;34m(\u001b[0m\u001b[0mself\u001b[0m\u001b[0;34m,\u001b[0m \u001b[0mdata\u001b[0m\u001b[0;34m=\u001b[0m\u001b[0;32mNone\u001b[0m\u001b[0;34m,\u001b[0m \u001b[0mtimeout\u001b[0m\u001b[0;34m=\u001b[0m\u001b[0mDEFAULT_TIMEOUT\u001b[0m\u001b[0;34m,\u001b[0m \u001b[0mwait_done\u001b[0m\u001b[0;34m=\u001b[0m\u001b[0;32mTrue\u001b[0m\u001b[0;34m)\u001b[0m\u001b[0;34m:\u001b[0m\u001b[0;34m\u001b[0m\u001b[0;34m\u001b[0m\u001b[0m\n",
      "\u001b[0;32m/opt/lsst/software/stack/conda/miniconda3-py38_4.9.2/envs/lsst-scipipe-0.6.0/lib/python3.8/site-packages/lsst/ts/salobj/topics/remote_command.py\u001b[0m in \u001b[0;36mstart\u001b[0;34m(self, data, timeout, wait_done)\u001b[0m\n\u001b[1;32m    447\u001b[0m         )\n\u001b[1;32m    448\u001b[0m         \u001b[0mself\u001b[0m\u001b[0;34m.\u001b[0m\u001b[0msalinfo\u001b[0m\u001b[0;34m.\u001b[0m\u001b[0m_running_cmds\u001b[0m\u001b[0;34m[\u001b[0m\u001b[0mseq_num\u001b[0m\u001b[0;34m]\u001b[0m \u001b[0;34m=\u001b[0m \u001b[0mcmd_info\u001b[0m\u001b[0;34m\u001b[0m\u001b[0;34m\u001b[0m\u001b[0m\n\u001b[0;32m--> 449\u001b[0;31m         \u001b[0;32mreturn\u001b[0m \u001b[0;32mawait\u001b[0m \u001b[0mcmd_info\u001b[0m\u001b[0;34m.\u001b[0m\u001b[0mnext_ackcmd\u001b[0m\u001b[0;34m(\u001b[0m\u001b[0mtimeout\u001b[0m\u001b[0;34m=\u001b[0m\u001b[0mtimeout\u001b[0m\u001b[0;34m)\u001b[0m\u001b[0;34m\u001b[0m\u001b[0;34m\u001b[0m\u001b[0m\n\u001b[0m",
      "\u001b[0;32m/opt/lsst/software/stack/conda/miniconda3-py38_4.9.2/envs/lsst-scipipe-0.6.0/lib/python3.8/site-packages/lsst/ts/salobj/topics/remote_command.py\u001b[0m in \u001b[0;36mnext_ackcmd\u001b[0;34m(self, timeout)\u001b[0m\n\u001b[1;32m    180\u001b[0m             \u001b[0mackcmd\u001b[0m \u001b[0;34m=\u001b[0m \u001b[0;32mawait\u001b[0m \u001b[0mself\u001b[0m\u001b[0;34m.\u001b[0m\u001b[0m_wait_task\u001b[0m\u001b[0;34m\u001b[0m\u001b[0;34m\u001b[0m\u001b[0m\n\u001b[1;32m    181\u001b[0m             \u001b[0;32mif\u001b[0m \u001b[0mackcmd\u001b[0m\u001b[0;34m.\u001b[0m\u001b[0mack\u001b[0m \u001b[0;32min\u001b[0m \u001b[0mself\u001b[0m\u001b[0;34m.\u001b[0m\u001b[0mfailed_ack_codes\u001b[0m\u001b[0;34m:\u001b[0m\u001b[0;34m\u001b[0m\u001b[0;34m\u001b[0m\u001b[0m\n\u001b[0;32m--> 182\u001b[0;31m                 \u001b[0;32mraise\u001b[0m \u001b[0mbase\u001b[0m\u001b[0;34m.\u001b[0m\u001b[0mAckError\u001b[0m\u001b[0;34m(\u001b[0m\u001b[0mmsg\u001b[0m\u001b[0;34m=\u001b[0m\u001b[0;34m\"Command failed\"\u001b[0m\u001b[0;34m,\u001b[0m \u001b[0mackcmd\u001b[0m\u001b[0;34m=\u001b[0m\u001b[0mackcmd\u001b[0m\u001b[0;34m)\u001b[0m\u001b[0;34m\u001b[0m\u001b[0;34m\u001b[0m\u001b[0m\n\u001b[0m\u001b[1;32m    183\u001b[0m             \u001b[0;32mreturn\u001b[0m \u001b[0mackcmd\u001b[0m\u001b[0;34m\u001b[0m\u001b[0;34m\u001b[0m\u001b[0m\n\u001b[1;32m    184\u001b[0m         \u001b[0;32mexcept\u001b[0m \u001b[0masyncio\u001b[0m\u001b[0;34m.\u001b[0m\u001b[0mTimeoutError\u001b[0m\u001b[0;34m:\u001b[0m\u001b[0;34m\u001b[0m\u001b[0;34m\u001b[0m\u001b[0m\n",
      "\u001b[0;31mAckError\u001b[0m: msg='Command failed', ackcmd=(ackcmd private_seqNum=1093916491, ack=<SalRetCode.CMD_FAILED: -302>, error=0, result='Failed: The command LowerM1M3 is not valid in the FaultState.')"
     ]
    }
   ],
   "source": [
    "await lowerM1M3(m1m3)"
   ]
  },
  {
   "cell_type": "markdown",
   "id": "6e43502b",
   "metadata": {},
   "source": [
    "### Get M2 ready"
   ]
  },
  {
   "cell_type": "code",
   "execution_count": 29,
   "id": "9c8464de",
   "metadata": {},
   "outputs": [
    {
     "data": {
      "text/plain": [
       "<ddsutil.MTM2_logevent_heartbeat_453ad6b1 at 0x7f0249df2310>"
      ]
     },
     "execution_count": 29,
     "metadata": {},
     "output_type": "execute_result"
    }
   ],
   "source": [
    "await m2.evt_heartbeat.next(flush=True, timeout=5)"
   ]
  },
  {
   "cell_type": "code",
   "execution_count": 33,
   "id": "fcc5bea1",
   "metadata": {},
   "outputs": [
    {
     "name": "stdout",
     "output_type": "stream",
     "text": [
      "starting with: M1M3 state State.ENABLED 2021-07-13 16:08:32.152454912\n",
      "          detailed state DetailedState.ACTIVE 2021-07-13 16:08:32.152486400\n",
      "staring with: m2 state State.ENABLED 2021-07-13 16:29:22.351926016\n",
      "staring with: cam hex state State.ENABLED 2021-07-13 15:31:53.177814528\n",
      "          cam hex state EnabledSubstate.STATIONARY 2021-07-13 15:32:08.343293440\n",
      "staring with: M2 hex state State.STANDBY 2021-07-06 21:32:55.996532224\n",
      "          hex state EnabledSubstate.STATIONARY 2021-07-06 21:32:55.996777216\n"
     ]
    }
   ],
   "source": [
    "await checkAOSCompStates(m1m3,m2,camhex,m2hex)"
   ]
  },
  {
   "cell_type": "code",
   "execution_count": 124,
   "id": "860a825f",
   "metadata": {},
   "outputs": [
    {
     "data": {
      "text/plain": [
       "[<State.DISABLED: 1>, <State.STANDBY: 5>, <State.OFFLINE: 4>]"
      ]
     },
     "execution_count": 124,
     "metadata": {},
     "output_type": "execute_result"
    }
   ],
   "source": [
    "await salobj.set_summary_state(m2, salobj.State.OFFLINE) "
   ]
  },
  {
   "cell_type": "code",
   "execution_count": 69,
   "id": "4fb9bfb9",
   "metadata": {},
   "outputs": [
    {
     "data": {
      "text/plain": [
       "[<State.OFFLINE: 4>, <State.STANDBY: 5>]"
      ]
     },
     "execution_count": 69,
     "metadata": {},
     "output_type": "execute_result"
    }
   ],
   "source": [
    "await salobj.set_summary_state(m2, salobj.State.STANDBY) "
   ]
  },
  {
   "cell_type": "code",
   "execution_count": 70,
   "id": "dd455a51",
   "metadata": {},
   "outputs": [
    {
     "data": {
      "text/plain": [
       "[<State.STANDBY: 5>, <State.DISABLED: 1>]"
      ]
     },
     "execution_count": 70,
     "metadata": {},
     "output_type": "execute_result"
    }
   ],
   "source": [
    "await salobj.set_summary_state(m2, salobj.State.DISABLED) "
   ]
  },
  {
   "cell_type": "code",
   "execution_count": 32,
   "id": "9ac5b7a1",
   "metadata": {},
   "outputs": [
    {
     "data": {
      "text/plain": [
       "[<State.DISABLED: 1>, <State.ENABLED: 2>]"
      ]
     },
     "execution_count": 32,
     "metadata": {},
     "output_type": "execute_result"
    }
   ],
   "source": [
    "#remember to reset interlock\n",
    "await salobj.set_summary_state(m2, salobj.State.ENABLED) "
   ]
  },
  {
   "cell_type": "code",
   "execution_count": 68,
   "id": "095bd560",
   "metadata": {},
   "outputs": [
    {
     "name": "stdout",
     "output_type": "stream",
     "text": [
      "6052  2021-07-06 17:16:49.473226752\n"
     ]
    }
   ],
   "source": [
    "a = await m2.evt_errorCode.aget()\n",
    "print(a.errorCode, a.errorReport, pd.to_datetime(a.private_sndStamp, unit='s'))"
   ]
  },
  {
   "cell_type": "code",
   "execution_count": 33,
   "id": "32b4f387",
   "metadata": {},
   "outputs": [
    {
     "data": {
      "text/plain": [
       "<ddsutil.MTM2_ackcmd_e1052973 at 0x7fbe1a5affa0>"
      ]
     },
     "execution_count": 33,
     "metadata": {},
     "output_type": "execute_result"
    }
   ],
   "source": [
    "await m2.cmd_enterControl.set_start(timeout=.5)"
   ]
  },
  {
   "cell_type": "code",
   "execution_count": 34,
   "id": "1af70079",
   "metadata": {},
   "outputs": [
    {
     "data": {
      "text/plain": [
       "<ddsutil.MTM2_ackcmd_e1052973 at 0x7fbe1a5afac0>"
      ]
     },
     "execution_count": 34,
     "metadata": {},
     "output_type": "execute_result"
    }
   ],
   "source": [
    "await m2.cmd_exitControl.set_start(timeout=.5)"
   ]
  },
  {
   "cell_type": "code",
   "execution_count": 36,
   "id": "a3c6c68a",
   "metadata": {
    "collapsed": true,
    "jupyter": {
     "outputs_hidden": true
    }
   },
   "outputs": [
    {
     "ename": "AckTimeoutError",
     "evalue": "msg='Timed out waiting for command acknowledgement', ackcmd=(ackcmd private_seqNum=568344813, ack=<SalRetCode.CMD_ACK: 300>, error=0, result='SAL ACK')",
     "output_type": "error",
     "traceback": [
      "\u001b[0;31m---------------------------------------------------------------------------\u001b[0m",
      "\u001b[0;31mTimeoutError\u001b[0m                              Traceback (most recent call last)",
      "\u001b[0;32m/opt/lsst/src/ts_salobj/python/lsst/ts/salobj/topics/remote_command.py\u001b[0m in \u001b[0;36mnext_ackcmd\u001b[0;34m(self, timeout)\u001b[0m\n\u001b[1;32m    179\u001b[0m             )\n\u001b[0;32m--> 180\u001b[0;31m             \u001b[0mackcmd\u001b[0m \u001b[0;34m=\u001b[0m \u001b[0;32mawait\u001b[0m \u001b[0mself\u001b[0m\u001b[0;34m.\u001b[0m\u001b[0m_wait_task\u001b[0m\u001b[0;34m\u001b[0m\u001b[0;34m\u001b[0m\u001b[0m\n\u001b[0m\u001b[1;32m    181\u001b[0m             \u001b[0;32mif\u001b[0m \u001b[0mackcmd\u001b[0m\u001b[0;34m.\u001b[0m\u001b[0mack\u001b[0m \u001b[0;32min\u001b[0m \u001b[0mself\u001b[0m\u001b[0;34m.\u001b[0m\u001b[0mfailed_ack_codes\u001b[0m\u001b[0;34m:\u001b[0m\u001b[0;34m\u001b[0m\u001b[0;34m\u001b[0m\u001b[0m\n",
      "\u001b[0;32m/opt/lsst/src/ts_salobj/python/lsst/ts/salobj/topics/remote_command.py\u001b[0m in \u001b[0;36m_basic_next_ackcmd\u001b[0;34m(self, timeout)\u001b[0m\n\u001b[1;32m    204\u001b[0m         \u001b[0;32mwhile\u001b[0m \u001b[0;32mTrue\u001b[0m\u001b[0;34m:\u001b[0m\u001b[0;34m\u001b[0m\u001b[0;34m\u001b[0m\u001b[0m\n\u001b[0;32m--> 205\u001b[0;31m             ackcmd = await asyncio.wait_for(\n\u001b[0m\u001b[1;32m    206\u001b[0m                 \u001b[0mself\u001b[0m\u001b[0;34m.\u001b[0m\u001b[0m_get_next_ackcmd\u001b[0m\u001b[0;34m(\u001b[0m\u001b[0;34m)\u001b[0m\u001b[0;34m,\u001b[0m \u001b[0mtimeout\u001b[0m\u001b[0;34m=\u001b[0m\u001b[0mtimeout\u001b[0m \u001b[0;34m-\u001b[0m \u001b[0melapsed_time\u001b[0m\u001b[0;34m\u001b[0m\u001b[0;34m\u001b[0m\u001b[0m\n",
      "\u001b[0;32m/opt/lsst/software/stack/conda/miniconda3-py38_4.9.2/envs/lsst-scipipe-0.6.0/lib/python3.8/asyncio/tasks.py\u001b[0m in \u001b[0;36mwait_for\u001b[0;34m(fut, timeout, loop)\u001b[0m\n\u001b[1;32m    500\u001b[0m             \u001b[0;32mawait\u001b[0m \u001b[0m_cancel_and_wait\u001b[0m\u001b[0;34m(\u001b[0m\u001b[0mfut\u001b[0m\u001b[0;34m,\u001b[0m \u001b[0mloop\u001b[0m\u001b[0;34m=\u001b[0m\u001b[0mloop\u001b[0m\u001b[0;34m)\u001b[0m\u001b[0;34m\u001b[0m\u001b[0;34m\u001b[0m\u001b[0m\n\u001b[0;32m--> 501\u001b[0;31m             \u001b[0;32mraise\u001b[0m \u001b[0mexceptions\u001b[0m\u001b[0;34m.\u001b[0m\u001b[0mTimeoutError\u001b[0m\u001b[0;34m(\u001b[0m\u001b[0;34m)\u001b[0m\u001b[0;34m\u001b[0m\u001b[0;34m\u001b[0m\u001b[0m\n\u001b[0m\u001b[1;32m    502\u001b[0m     \u001b[0;32mfinally\u001b[0m\u001b[0;34m:\u001b[0m\u001b[0;34m\u001b[0m\u001b[0;34m\u001b[0m\u001b[0m\n",
      "\u001b[0;31mTimeoutError\u001b[0m: ",
      "\nDuring handling of the above exception, another exception occurred:\n",
      "\u001b[0;31mAckTimeoutError\u001b[0m                           Traceback (most recent call last)",
      "\u001b[0;32m<ipython-input-36-6387d944d4a3>\u001b[0m in \u001b[0;36m<module>\u001b[0;34m\u001b[0m\n\u001b[0;32m----> 1\u001b[0;31m \u001b[0;32mawait\u001b[0m \u001b[0mm2\u001b[0m\u001b[0;34m.\u001b[0m\u001b[0mcmd_enable\u001b[0m\u001b[0;34m.\u001b[0m\u001b[0mset_start\u001b[0m\u001b[0;34m(\u001b[0m\u001b[0mtimeout\u001b[0m\u001b[0;34m=\u001b[0m\u001b[0;36m5.\u001b[0m\u001b[0;34m)\u001b[0m\u001b[0;34m\u001b[0m\u001b[0;34m\u001b[0m\u001b[0m\n\u001b[0m",
      "\u001b[0;32m/opt/lsst/src/ts_salobj/python/lsst/ts/salobj/topics/remote_command.py\u001b[0m in \u001b[0;36mset_start\u001b[0;34m(self, timeout, wait_done, **kwargs)\u001b[0m\n\u001b[1;32m    392\u001b[0m         \"\"\"\n\u001b[1;32m    393\u001b[0m         \u001b[0mself\u001b[0m\u001b[0;34m.\u001b[0m\u001b[0mset\u001b[0m\u001b[0;34m(\u001b[0m\u001b[0;34m**\u001b[0m\u001b[0mkwargs\u001b[0m\u001b[0;34m)\u001b[0m\u001b[0;34m\u001b[0m\u001b[0;34m\u001b[0m\u001b[0m\n\u001b[0;32m--> 394\u001b[0;31m         \u001b[0;32mreturn\u001b[0m \u001b[0;32mawait\u001b[0m \u001b[0mself\u001b[0m\u001b[0;34m.\u001b[0m\u001b[0mstart\u001b[0m\u001b[0;34m(\u001b[0m\u001b[0mtimeout\u001b[0m\u001b[0;34m=\u001b[0m\u001b[0mtimeout\u001b[0m\u001b[0;34m,\u001b[0m \u001b[0mwait_done\u001b[0m\u001b[0;34m=\u001b[0m\u001b[0mwait_done\u001b[0m\u001b[0;34m)\u001b[0m\u001b[0;34m\u001b[0m\u001b[0;34m\u001b[0m\u001b[0m\n\u001b[0m\u001b[1;32m    395\u001b[0m \u001b[0;34m\u001b[0m\u001b[0m\n\u001b[1;32m    396\u001b[0m     \u001b[0;32masync\u001b[0m \u001b[0;32mdef\u001b[0m \u001b[0mstart\u001b[0m\u001b[0;34m(\u001b[0m\u001b[0mself\u001b[0m\u001b[0;34m,\u001b[0m \u001b[0mdata\u001b[0m\u001b[0;34m=\u001b[0m\u001b[0;32mNone\u001b[0m\u001b[0;34m,\u001b[0m \u001b[0mtimeout\u001b[0m\u001b[0;34m=\u001b[0m\u001b[0mDEFAULT_TIMEOUT\u001b[0m\u001b[0;34m,\u001b[0m \u001b[0mwait_done\u001b[0m\u001b[0;34m=\u001b[0m\u001b[0;32mTrue\u001b[0m\u001b[0;34m)\u001b[0m\u001b[0;34m:\u001b[0m\u001b[0;34m\u001b[0m\u001b[0;34m\u001b[0m\u001b[0m\n",
      "\u001b[0;32m/opt/lsst/src/ts_salobj/python/lsst/ts/salobj/topics/remote_command.py\u001b[0m in \u001b[0;36mstart\u001b[0;34m(self, data, timeout, wait_done)\u001b[0m\n\u001b[1;32m    447\u001b[0m         )\n\u001b[1;32m    448\u001b[0m         \u001b[0mself\u001b[0m\u001b[0;34m.\u001b[0m\u001b[0msalinfo\u001b[0m\u001b[0;34m.\u001b[0m\u001b[0m_running_cmds\u001b[0m\u001b[0;34m[\u001b[0m\u001b[0mseq_num\u001b[0m\u001b[0;34m]\u001b[0m \u001b[0;34m=\u001b[0m \u001b[0mcmd_info\u001b[0m\u001b[0;34m\u001b[0m\u001b[0;34m\u001b[0m\u001b[0m\n\u001b[0;32m--> 449\u001b[0;31m         \u001b[0;32mreturn\u001b[0m \u001b[0;32mawait\u001b[0m \u001b[0mcmd_info\u001b[0m\u001b[0;34m.\u001b[0m\u001b[0mnext_ackcmd\u001b[0m\u001b[0;34m(\u001b[0m\u001b[0mtimeout\u001b[0m\u001b[0;34m=\u001b[0m\u001b[0mtimeout\u001b[0m\u001b[0;34m)\u001b[0m\u001b[0;34m\u001b[0m\u001b[0;34m\u001b[0m\u001b[0m\n\u001b[0m",
      "\u001b[0;32m/opt/lsst/src/ts_salobj/python/lsst/ts/salobj/topics/remote_command.py\u001b[0m in \u001b[0;36mnext_ackcmd\u001b[0;34m(self, timeout)\u001b[0m\n\u001b[1;32m    194\u001b[0m             \u001b[0;32mif\u001b[0m \u001b[0mself\u001b[0m\u001b[0;34m.\u001b[0m\u001b[0mseq_num\u001b[0m \u001b[0;32min\u001b[0m \u001b[0mself\u001b[0m\u001b[0;34m.\u001b[0m\u001b[0mremote_command\u001b[0m\u001b[0;34m.\u001b[0m\u001b[0msalinfo\u001b[0m\u001b[0;34m.\u001b[0m\u001b[0m_running_cmds\u001b[0m\u001b[0;34m:\u001b[0m\u001b[0;34m\u001b[0m\u001b[0;34m\u001b[0m\u001b[0m\n\u001b[1;32m    195\u001b[0m                 \u001b[0mself\u001b[0m\u001b[0;34m.\u001b[0m\u001b[0mremote_command\u001b[0m\u001b[0;34m.\u001b[0m\u001b[0msalinfo\u001b[0m\u001b[0;34m.\u001b[0m\u001b[0m_running_cmds\u001b[0m\u001b[0;34m.\u001b[0m\u001b[0mpop\u001b[0m\u001b[0;34m(\u001b[0m\u001b[0mself\u001b[0m\u001b[0;34m.\u001b[0m\u001b[0mseq_num\u001b[0m\u001b[0;34m)\u001b[0m\u001b[0;34m\u001b[0m\u001b[0;34m\u001b[0m\u001b[0m\n\u001b[0;32m--> 196\u001b[0;31m             raise base.AckTimeoutError(\n\u001b[0m\u001b[1;32m    197\u001b[0m                 \u001b[0mmsg\u001b[0m\u001b[0;34m=\u001b[0m\u001b[0;34m\"Timed out waiting for command acknowledgement\"\u001b[0m\u001b[0;34m,\u001b[0m \u001b[0mackcmd\u001b[0m\u001b[0;34m=\u001b[0m\u001b[0mlast_ackcmd\u001b[0m\u001b[0;34m\u001b[0m\u001b[0;34m\u001b[0m\u001b[0m\n\u001b[1;32m    198\u001b[0m             )\n",
      "\u001b[0;31mAckTimeoutError\u001b[0m: msg='Timed out waiting for command acknowledgement', ackcmd=(ackcmd private_seqNum=568344813, ack=<SalRetCode.CMD_ACK: 300>, error=0, result='SAL ACK')"
     ]
    }
   ],
   "source": [
    "await m2.cmd_enable.set_start(timeout=5.)"
   ]
  },
  {
   "cell_type": "code",
   "execution_count": 20,
   "id": "446f1358",
   "metadata": {},
   "outputs": [
    {
     "data": {
      "text/plain": [
       "<ddsutil.MTM2_ackcmd_e1052973 at 0x7fbe5f81f910>"
      ]
     },
     "execution_count": 20,
     "metadata": {},
     "output_type": "execute_result"
    }
   ],
   "source": [
    "await m2.cmd_disable.set_start(timeout=5.)"
   ]
  },
  {
   "cell_type": "code",
   "execution_count": 67,
   "id": "d46a7725",
   "metadata": {
    "collapsed": true,
    "jupyter": {
     "outputs_hidden": true
    }
   },
   "outputs": [
    {
     "ename": "AckTimeoutError",
     "evalue": "msg='Timed out waiting for command acknowledgement', ackcmd=(ackcmd private_seqNum=277343345, ack=<SalRetCode.CMD_ACK: 300>, error=0, result='Ack : OK')",
     "output_type": "error",
     "traceback": [
      "\u001b[0;31m---------------------------------------------------------------------------\u001b[0m",
      "\u001b[0;31mTimeoutError\u001b[0m                              Traceback (most recent call last)",
      "\u001b[0;32m/opt/lsst/software/stack/conda/miniconda3-py38_4.9.2/envs/lsst-scipipe-0.6.0/lib/python3.8/site-packages/lsst/ts/salobj/topics/remote_command.py\u001b[0m in \u001b[0;36mnext_ackcmd\u001b[0;34m(self, timeout)\u001b[0m\n\u001b[1;32m    179\u001b[0m             )\n\u001b[0;32m--> 180\u001b[0;31m             \u001b[0mackcmd\u001b[0m \u001b[0;34m=\u001b[0m \u001b[0;32mawait\u001b[0m \u001b[0mself\u001b[0m\u001b[0;34m.\u001b[0m\u001b[0m_wait_task\u001b[0m\u001b[0;34m\u001b[0m\u001b[0;34m\u001b[0m\u001b[0m\n\u001b[0m\u001b[1;32m    181\u001b[0m             \u001b[0;32mif\u001b[0m \u001b[0mackcmd\u001b[0m\u001b[0;34m.\u001b[0m\u001b[0mack\u001b[0m \u001b[0;32min\u001b[0m \u001b[0mself\u001b[0m\u001b[0;34m.\u001b[0m\u001b[0mfailed_ack_codes\u001b[0m\u001b[0;34m:\u001b[0m\u001b[0;34m\u001b[0m\u001b[0;34m\u001b[0m\u001b[0m\n",
      "\u001b[0;32m/opt/lsst/software/stack/conda/miniconda3-py38_4.9.2/envs/lsst-scipipe-0.6.0/lib/python3.8/site-packages/lsst/ts/salobj/topics/remote_command.py\u001b[0m in \u001b[0;36m_basic_next_ackcmd\u001b[0;34m(self, timeout)\u001b[0m\n\u001b[1;32m    204\u001b[0m         \u001b[0;32mwhile\u001b[0m \u001b[0;32mTrue\u001b[0m\u001b[0;34m:\u001b[0m\u001b[0;34m\u001b[0m\u001b[0;34m\u001b[0m\u001b[0m\n\u001b[0;32m--> 205\u001b[0;31m             ackcmd = await asyncio.wait_for(\n\u001b[0m\u001b[1;32m    206\u001b[0m                 \u001b[0mself\u001b[0m\u001b[0;34m.\u001b[0m\u001b[0m_get_next_ackcmd\u001b[0m\u001b[0;34m(\u001b[0m\u001b[0;34m)\u001b[0m\u001b[0;34m,\u001b[0m \u001b[0mtimeout\u001b[0m\u001b[0;34m=\u001b[0m\u001b[0mtimeout\u001b[0m \u001b[0;34m-\u001b[0m \u001b[0melapsed_time\u001b[0m\u001b[0;34m\u001b[0m\u001b[0;34m\u001b[0m\u001b[0m\n",
      "\u001b[0;32m/opt/lsst/software/stack/conda/miniconda3-py38_4.9.2/envs/lsst-scipipe-0.6.0/lib/python3.8/asyncio/tasks.py\u001b[0m in \u001b[0;36mwait_for\u001b[0;34m(fut, timeout, loop)\u001b[0m\n\u001b[1;32m    500\u001b[0m             \u001b[0;32mawait\u001b[0m \u001b[0m_cancel_and_wait\u001b[0m\u001b[0;34m(\u001b[0m\u001b[0mfut\u001b[0m\u001b[0;34m,\u001b[0m \u001b[0mloop\u001b[0m\u001b[0;34m=\u001b[0m\u001b[0mloop\u001b[0m\u001b[0;34m)\u001b[0m\u001b[0;34m\u001b[0m\u001b[0;34m\u001b[0m\u001b[0m\n\u001b[0;32m--> 501\u001b[0;31m             \u001b[0;32mraise\u001b[0m \u001b[0mexceptions\u001b[0m\u001b[0;34m.\u001b[0m\u001b[0mTimeoutError\u001b[0m\u001b[0;34m(\u001b[0m\u001b[0;34m)\u001b[0m\u001b[0;34m\u001b[0m\u001b[0;34m\u001b[0m\u001b[0m\n\u001b[0m\u001b[1;32m    502\u001b[0m     \u001b[0;32mfinally\u001b[0m\u001b[0;34m:\u001b[0m\u001b[0;34m\u001b[0m\u001b[0;34m\u001b[0m\u001b[0m\n",
      "\u001b[0;31mTimeoutError\u001b[0m: ",
      "\nDuring handling of the above exception, another exception occurred:\n",
      "\u001b[0;31mAckTimeoutError\u001b[0m                           Traceback (most recent call last)",
      "\u001b[0;32m<ipython-input-67-a71d775768cd>\u001b[0m in \u001b[0;36m<module>\u001b[0;34m\u001b[0m\n\u001b[0;32m----> 1\u001b[0;31m \u001b[0;32mawait\u001b[0m \u001b[0mm2\u001b[0m\u001b[0;34m.\u001b[0m\u001b[0mcmd_clearErrors\u001b[0m\u001b[0;34m.\u001b[0m\u001b[0mset_start\u001b[0m\u001b[0;34m(\u001b[0m\u001b[0mtimeout\u001b[0m\u001b[0;34m=\u001b[0m\u001b[0;36m15.\u001b[0m\u001b[0;34m)\u001b[0m\u001b[0;34m\u001b[0m\u001b[0;34m\u001b[0m\u001b[0m\n\u001b[0m",
      "\u001b[0;32m/opt/lsst/software/stack/conda/miniconda3-py38_4.9.2/envs/lsst-scipipe-0.6.0/lib/python3.8/site-packages/lsst/ts/salobj/topics/remote_command.py\u001b[0m in \u001b[0;36mset_start\u001b[0;34m(self, timeout, wait_done, **kwargs)\u001b[0m\n\u001b[1;32m    392\u001b[0m         \"\"\"\n\u001b[1;32m    393\u001b[0m         \u001b[0mself\u001b[0m\u001b[0;34m.\u001b[0m\u001b[0mset\u001b[0m\u001b[0;34m(\u001b[0m\u001b[0;34m**\u001b[0m\u001b[0mkwargs\u001b[0m\u001b[0;34m)\u001b[0m\u001b[0;34m\u001b[0m\u001b[0;34m\u001b[0m\u001b[0m\n\u001b[0;32m--> 394\u001b[0;31m         \u001b[0;32mreturn\u001b[0m \u001b[0;32mawait\u001b[0m \u001b[0mself\u001b[0m\u001b[0;34m.\u001b[0m\u001b[0mstart\u001b[0m\u001b[0;34m(\u001b[0m\u001b[0mtimeout\u001b[0m\u001b[0;34m=\u001b[0m\u001b[0mtimeout\u001b[0m\u001b[0;34m,\u001b[0m \u001b[0mwait_done\u001b[0m\u001b[0;34m=\u001b[0m\u001b[0mwait_done\u001b[0m\u001b[0;34m)\u001b[0m\u001b[0;34m\u001b[0m\u001b[0;34m\u001b[0m\u001b[0m\n\u001b[0m\u001b[1;32m    395\u001b[0m \u001b[0;34m\u001b[0m\u001b[0m\n\u001b[1;32m    396\u001b[0m     \u001b[0;32masync\u001b[0m \u001b[0;32mdef\u001b[0m \u001b[0mstart\u001b[0m\u001b[0;34m(\u001b[0m\u001b[0mself\u001b[0m\u001b[0;34m,\u001b[0m \u001b[0mdata\u001b[0m\u001b[0;34m=\u001b[0m\u001b[0;32mNone\u001b[0m\u001b[0;34m,\u001b[0m \u001b[0mtimeout\u001b[0m\u001b[0;34m=\u001b[0m\u001b[0mDEFAULT_TIMEOUT\u001b[0m\u001b[0;34m,\u001b[0m \u001b[0mwait_done\u001b[0m\u001b[0;34m=\u001b[0m\u001b[0;32mTrue\u001b[0m\u001b[0;34m)\u001b[0m\u001b[0;34m:\u001b[0m\u001b[0;34m\u001b[0m\u001b[0;34m\u001b[0m\u001b[0m\n",
      "\u001b[0;32m/opt/lsst/software/stack/conda/miniconda3-py38_4.9.2/envs/lsst-scipipe-0.6.0/lib/python3.8/site-packages/lsst/ts/salobj/topics/remote_command.py\u001b[0m in \u001b[0;36mstart\u001b[0;34m(self, data, timeout, wait_done)\u001b[0m\n\u001b[1;32m    447\u001b[0m         )\n\u001b[1;32m    448\u001b[0m         \u001b[0mself\u001b[0m\u001b[0;34m.\u001b[0m\u001b[0msalinfo\u001b[0m\u001b[0;34m.\u001b[0m\u001b[0m_running_cmds\u001b[0m\u001b[0;34m[\u001b[0m\u001b[0mseq_num\u001b[0m\u001b[0;34m]\u001b[0m \u001b[0;34m=\u001b[0m \u001b[0mcmd_info\u001b[0m\u001b[0;34m\u001b[0m\u001b[0;34m\u001b[0m\u001b[0m\n\u001b[0;32m--> 449\u001b[0;31m         \u001b[0;32mreturn\u001b[0m \u001b[0;32mawait\u001b[0m \u001b[0mcmd_info\u001b[0m\u001b[0;34m.\u001b[0m\u001b[0mnext_ackcmd\u001b[0m\u001b[0;34m(\u001b[0m\u001b[0mtimeout\u001b[0m\u001b[0;34m=\u001b[0m\u001b[0mtimeout\u001b[0m\u001b[0;34m)\u001b[0m\u001b[0;34m\u001b[0m\u001b[0;34m\u001b[0m\u001b[0m\n\u001b[0m",
      "\u001b[0;32m/opt/lsst/software/stack/conda/miniconda3-py38_4.9.2/envs/lsst-scipipe-0.6.0/lib/python3.8/site-packages/lsst/ts/salobj/topics/remote_command.py\u001b[0m in \u001b[0;36mnext_ackcmd\u001b[0;34m(self, timeout)\u001b[0m\n\u001b[1;32m    194\u001b[0m             \u001b[0;32mif\u001b[0m \u001b[0mself\u001b[0m\u001b[0;34m.\u001b[0m\u001b[0mseq_num\u001b[0m \u001b[0;32min\u001b[0m \u001b[0mself\u001b[0m\u001b[0;34m.\u001b[0m\u001b[0mremote_command\u001b[0m\u001b[0;34m.\u001b[0m\u001b[0msalinfo\u001b[0m\u001b[0;34m.\u001b[0m\u001b[0m_running_cmds\u001b[0m\u001b[0;34m:\u001b[0m\u001b[0;34m\u001b[0m\u001b[0;34m\u001b[0m\u001b[0m\n\u001b[1;32m    195\u001b[0m                 \u001b[0mself\u001b[0m\u001b[0;34m.\u001b[0m\u001b[0mremote_command\u001b[0m\u001b[0;34m.\u001b[0m\u001b[0msalinfo\u001b[0m\u001b[0;34m.\u001b[0m\u001b[0m_running_cmds\u001b[0m\u001b[0;34m.\u001b[0m\u001b[0mpop\u001b[0m\u001b[0;34m(\u001b[0m\u001b[0mself\u001b[0m\u001b[0;34m.\u001b[0m\u001b[0mseq_num\u001b[0m\u001b[0;34m)\u001b[0m\u001b[0;34m\u001b[0m\u001b[0;34m\u001b[0m\u001b[0m\n\u001b[0;32m--> 196\u001b[0;31m             raise base.AckTimeoutError(\n\u001b[0m\u001b[1;32m    197\u001b[0m                 \u001b[0mmsg\u001b[0m\u001b[0;34m=\u001b[0m\u001b[0;34m\"Timed out waiting for command acknowledgement\"\u001b[0m\u001b[0;34m,\u001b[0m \u001b[0mackcmd\u001b[0m\u001b[0;34m=\u001b[0m\u001b[0mlast_ackcmd\u001b[0m\u001b[0;34m\u001b[0m\u001b[0;34m\u001b[0m\u001b[0m\n\u001b[1;32m    198\u001b[0m             )\n",
      "\u001b[0;31mAckTimeoutError\u001b[0m: msg='Timed out waiting for command acknowledgement', ackcmd=(ackcmd private_seqNum=277343345, ack=<SalRetCode.CMD_ACK: 300>, error=0, result='Ack : OK')"
     ]
    }
   ],
   "source": [
    "await m2.cmd_clearErrors.set_start(timeout=15.)"
   ]
  },
  {
   "cell_type": "code",
   "execution_count": 34,
   "id": "1212d9af",
   "metadata": {},
   "outputs": [
    {
     "name": "stdout",
     "output_type": "stream",
     "text": [
      "m2 inclinometer angle =  0.40800231933593434\n",
      "Inclinometer Source InclinationTelemetrySource.MTMOUNT  ,event time =  2021-07-13 16:25:59.604194048\n",
      "Status of the M2 force balance system True\n",
      "clear any M2 activeopticForces (or any other hunman-applied forces)\n"
     ]
    }
   ],
   "source": [
    "await readyM2(m2)"
   ]
  },
  {
   "cell_type": "markdown",
   "id": "f4a61e7d",
   "metadata": {},
   "source": [
    "### Get camHex ready"
   ]
  },
  {
   "cell_type": "code",
   "execution_count": 35,
   "id": "9c0253fc",
   "metadata": {},
   "outputs": [
    {
     "name": "stdout",
     "output_type": "stream",
     "text": [
      "Mount target elevation =  90.0   @   2021-07-13 16:03:25.066260480\n",
      "Mount target azimuth   =  0.0   @   2021-07-13 16:03:25.066260480\n",
      "Rotator target position =  10.009884332662548   @   2021-07-06 21:03:56.538422784\n"
     ]
    }
   ],
   "source": [
    "target_evt = await mount.evt_target.aget(timeout=5.)\n",
    "print(\"Mount target elevation = \", target_evt.elevation, \"  @  \", pd.to_datetime(target_evt.private_sndStamp, unit='s'))\n",
    "print(\"Mount target azimuth   = \", target_evt.azimuth, \"  @  \", pd.to_datetime(target_evt.private_sndStamp, unit='s'))\n",
    "target_evt = await rot.evt_target.aget(timeout=5.)\n",
    "print(\"Rotator target position = \", target_evt.position, \"  @  \", pd.to_datetime(target_evt.private_sndStamp, unit='s'))"
   ]
  },
  {
   "cell_type": "code",
   "execution_count": null,
   "id": "4a092eaf",
   "metadata": {},
   "outputs": [],
   "source": [
    "#if any of the above doesn't work\n",
    "await mount.cmd_moveToTarget.set_start(azimuth=0, elevation=90)\n",
    "await rot.cmd_move.set_start(position=0)"
   ]
  },
  {
   "cell_type": "code",
   "execution_count": 33,
   "id": "41c1ea22",
   "metadata": {},
   "outputs": [
    {
     "name": "stdout",
     "output_type": "stream",
     "text": [
      "2021-07-02 16:52:19.725534720 -1.3146883442912014\n",
      "2021-07-02 16:52:19.724618496 -1.3146883442912014\n",
      "2021-07-02 16:52:19.801730048 0.04023863026391933\n"
     ]
    }
   ],
   "source": [
    "a=await mount.tel_cameraCableWrap.next(flush=True, timeout=5)\n",
    "print(pd.to_datetime(a.private_sndStamp, unit='s'), a.actualPosition)\n",
    "print(pd.to_datetime(a.timestamp, unit='s'), a.actualPosition)\n",
    "a=await camhex.tel_application.next(flush=True, timeout=5)\n",
    "print(pd.to_datetime(a.private_sndStamp, unit='s'), a.position[0])\n",
    "#print(pd.to_datetime(a.timestamp, unit='s'), a.position[0])"
   ]
  },
  {
   "cell_type": "code",
   "execution_count": 36,
   "id": "a0cbe2d4",
   "metadata": {},
   "outputs": [
    {
     "data": {
      "text/plain": [
       "<ddsutil.MTHexapod_logevent_heartbeat_8799b696 at 0x7f02499f71c0>"
      ]
     },
     "execution_count": 36,
     "metadata": {},
     "output_type": "execute_result"
    }
   ],
   "source": [
    "await camhex.evt_heartbeat.next(flush=True, timeout=5)"
   ]
  },
  {
   "cell_type": "code",
   "execution_count": 37,
   "id": "e21b4a25",
   "metadata": {},
   "outputs": [
    {
     "name": "stdout",
     "output_type": "stream",
     "text": [
      "simulation mode?  0 2021-06-30 20:47:01.529544448\n"
     ]
    }
   ],
   "source": [
    "sim_evt = await camhex.evt_simulationMode.aget(timeout=5)\n",
    "print('simulation mode? ', sim_evt.mode, pd.to_datetime(sim_evt.private_sndStamp, unit='s'))"
   ]
  },
  {
   "cell_type": "code",
   "execution_count": 82,
   "id": "f4ecb637",
   "metadata": {},
   "outputs": [
    {
     "data": {
      "text/plain": [
       "[<State.ENABLED: 2>, <State.DISABLED: 1>, <State.STANDBY: 5>]"
      ]
     },
     "execution_count": 82,
     "metadata": {},
     "output_type": "execute_result"
    }
   ],
   "source": [
    "await salobj.set_summary_state(camhex, salobj.State.STANDBY)"
   ]
  },
  {
   "cell_type": "code",
   "execution_count": 129,
   "id": "64ce932e",
   "metadata": {},
   "outputs": [
    {
     "data": {
      "text/plain": [
       "<ddsutil.MTHexapod_ackcmd_da0a635d at 0x7f9102094bb0>"
      ]
     },
     "execution_count": 129,
     "metadata": {},
     "output_type": "execute_result"
    }
   ],
   "source": [
    "await camhex.cmd_clearError.set_start()"
   ]
  },
  {
   "cell_type": "code",
   "execution_count": 84,
   "id": "8f7a4f5e",
   "metadata": {},
   "outputs": [
    {
     "data": {
      "text/plain": [
       "[<State.ENABLED: 2>]"
      ]
     },
     "execution_count": 84,
     "metadata": {},
     "output_type": "execute_result"
    }
   ],
   "source": [
    "await salobj.set_summary_state(camhex, salobj.State.ENABLED, settingsToApply='default')"
   ]
  },
  {
   "cell_type": "code",
   "execution_count": 38,
   "id": "779fb73b",
   "metadata": {},
   "outputs": [
    {
     "name": "stdout",
     "output_type": "stream",
     "text": [
      "settingsVersion =  default.yaml:v0.7.4-0-g70e7a58 2021-07-13 13:37:21.582045696\n",
      "pivot at (0, 0, -2758400) microns \n",
      "maxXY =  11400.0 microns, maxZ=  13100.0  microns\n",
      "maxUV =  0.36 deg, maxW=  0.1  deg\n",
      "compsensation mode enabled? True 2021-07-13 16:31:33.257118208\n",
      "hexa in position? False 2021-07-13 16:31:33.398373632\n",
      "hexa in position? True 2021-07-13 16:31:36.330668032\n",
      "Current Hexapod position\n",
      "     -1.17    -653.03     395.93  -0.017750   0.000007   0.000000\n",
      "hexa in position? False 2021-07-13 16:31:36.550862336\n",
      "hexa in position? True 2021-07-13 16:31:38.082689280\n",
      "Current Hexapod position\n",
      "     -1.12    -653.36     295.26  -0.017759   0.000007  -0.000009\n",
      "Uncompensated position\n",
      "      0.00       0.00       0.00      0.000000   0.000000   0.000000    2021-07-13 16:31:36.377239808\n",
      "Compensated position\n",
      "     -0.93    -652.98     295.56      -0.017752   0.000000   0.000000    2021-07-13 16:31:36.377444352\n",
      "Does the hexapod has enough inputs to do LUT compensation? (If the below times out, we do not.)\n",
      "mount elevation =  90.0\n",
      "mount azimth =  0.0\n",
      "rotator angle =  10.009884332662551\n",
      "? temperature =  0.0\n",
      "x,y,z,u,v,w =  -0.9277953986561538 -652.9817603435698 295.55616187160695 -0.017751637213551698 0.0 0.0\n"
     ]
    }
   ],
   "source": [
    "await readyHexaForAOS(camhex)"
   ]
  },
  {
   "cell_type": "code",
   "execution_count": 37,
   "id": "d7b1cb23",
   "metadata": {},
   "outputs": [
    {
     "name": "stdout",
     "output_type": "stream",
     "text": [
      "[1026, 0, 0, 0, 0, 0] 2021-07-02 16:52:44.256530432\n"
     ]
    },
    {
     "data": {
      "text/plain": [
       "<ApplicationStatus.DDS_COMMAND_SOURCE|MOVE_COMPLETE: 1026>"
      ]
     },
     "execution_count": 37,
     "metadata": {},
     "output_type": "execute_result"
    }
   ],
   "source": [
    "import lsst.ts.idl.enums.MTHexapod as enum_hex\n",
    "a = await camhex.evt_controllerState.aget()\n",
    "print(a.applicationStatus, pd.to_datetime(a.private_sndStamp, unit='s'))\n",
    "enum_hex.ApplicationStatus(a.applicationStatus[0])"
   ]
  },
  {
   "cell_type": "markdown",
   "id": "4242cc2b",
   "metadata": {},
   "source": [
    "### Get m2Hex ready"
   ]
  },
  {
   "cell_type": "code",
   "execution_count": 41,
   "id": "2f601a3a",
   "metadata": {},
   "outputs": [
    {
     "data": {
      "text/plain": [
       "[<State.STANDBY: 5>, <State.DISABLED: 1>, <State.ENABLED: 2>]"
      ]
     },
     "execution_count": 41,
     "metadata": {},
     "output_type": "execute_result"
    }
   ],
   "source": [
    "await salobj.set_summary_state(m2hex, salobj.State.ENABLED, settingsToApply='default') #works if it is offline"
   ]
  },
  {
   "cell_type": "code",
   "execution_count": 39,
   "id": "edfadd90",
   "metadata": {},
   "outputs": [
    {
     "name": "stdout",
     "output_type": "stream",
     "text": [
      "simulation mode?  1 2021-07-01 16:44:55.176457472\n"
     ]
    }
   ],
   "source": [
    "sim_evt = await m2hex.evt_simulationMode.aget(timeout=5)\n",
    "print('simulation mode? ', sim_evt.mode, pd.to_datetime(sim_evt.private_sndStamp, unit='s'))"
   ]
  },
  {
   "cell_type": "code",
   "execution_count": 42,
   "id": "e54f4ae4",
   "metadata": {},
   "outputs": [
    {
     "name": "stdout",
     "output_type": "stream",
     "text": [
      "settingsVersion =  default.yaml:v0.7.4-0-g70e7a58 2021-07-01 16:48:37.845231872\n",
      "pivot at (0, 0, 500000) microns \n",
      "maxXY =  10500.0 microns, maxZ=  8900.0  microns\n",
      "maxUV =  0.175 deg, maxW=  0.05  deg\n",
      "compsensation mode enabled? True 2021-07-13 16:33:15.983985408\n",
      "hexa in position? True 2021-07-13 16:33:16.030857216\n",
      "Current Hexapod position\n",
      "     -1.87    -572.58     404.72  -0.006649  -0.000000  -0.000000\n",
      "hexa in position? True 2021-07-13 16:33:16.535939072\n",
      "Current Hexapod position\n",
      "     -1.80    -572.60     304.67  -0.006649   0.000000  -0.000000\n",
      "Uncompensated position\n",
      "      0.00       0.00       0.00      0.000000   0.000000   0.000000    2021-07-13 16:33:16.737339136\n",
      "Compensated position\n",
      "     -1.84    -572.60     304.70      -0.006649   0.000000   0.000000    2021-07-13 16:33:16.737540096\n",
      "Does the hexapod has enough inputs to do LUT compensation? (If the below times out, we do not.)\n",
      "mount elevation =  90.0\n",
      "mount azimth =  0.0\n",
      "rotator angle =  10.009884332662551\n",
      "? temperature =  0.0\n",
      "x,y,z,u,v,w =  -1.8441913988085497 -572.5952409225999 304.69898977203695 -0.006648937907186499 0.0 0.0\n"
     ]
    }
   ],
   "source": [
    "await readyHexaForAOS(m2hex)"
   ]
  },
  {
   "cell_type": "code",
   "execution_count": null,
   "id": "34acd5b6",
   "metadata": {},
   "outputs": [],
   "source": []
  },
  {
   "cell_type": "code",
   "execution_count": 78,
   "id": "83bc8bfa",
   "metadata": {},
   "outputs": [
    {
     "name": "stdout",
     "output_type": "stream",
     "text": [
      "No temperature data on the camera hexapod in the past 1000s.\n"
     ]
    }
   ],
   "source": [
    "end = Time(datetime.now(), scale='tai')\n",
    "start = end - timedelta(seconds=1000)\n",
    "df = await client.select_time_series('lsst.sal.ESS.temperature8Ch', '*', start, end, csc_index)\n",
    "if len(df)>0:\n",
    "    fig, ax = plt.subplots(1,1, figsize=(15,4))\n",
    "    for i in range(8):\n",
    "        plt.plot(getattr(df, 'temperatureC%02d'%i))\n",
    "    plt.grid()\n",
    "else:\n",
    "    print('No temperature data on the camera hexapod in the past 1000s.')"
   ]
  },
  {
   "cell_type": "code",
   "execution_count": null,
   "id": "ec8a6e65",
   "metadata": {},
   "outputs": [],
   "source": []
  },
  {
   "cell_type": "markdown",
   "id": "0d5b3a42",
   "metadata": {},
   "source": [
    "### Do a few slews"
   ]
  },
  {
   "cell_type": "code",
   "execution_count": 43,
   "id": "b96089cb",
   "metadata": {},
   "outputs": [],
   "source": [
    "#comment and uncomment the below depending on which components are expected to be on\n",
    "#by default, MTCS checks on every component (during the slew).\n",
    "mtcs.check.mtaos = False\n",
    "mtcs.check.mtm1m3 = True\n",
    "mtcs.check.mtm2 = True\n",
    "mtcs.check.mthexapod_1 = True\n",
    "mtcs.check.mthexapod_2 = True\n",
    "mtcs.check.mtdome = False\n",
    "mtcs.check.mtdometrajectory = False"
   ]
  },
  {
   "cell_type": "code",
   "execution_count": 46,
   "id": "bbce81b4",
   "metadata": {},
   "outputs": [
    {
     "data": {
      "text/plain": [
       "<ddsutil.MTMount_ackcmd_99f86545 at 0x7f2365dbb2b0>"
      ]
     },
     "execution_count": 46,
     "metadata": {},
     "output_type": "execute_result"
    }
   ],
   "source": [
    "def printLogMessage(data):\n",
    "    print(f\"{data.level}: {data.message}\")\n",
    "    \n",
    "await salobj.set_summary_state(mount, salobj.State.DISABLED)\n",
    "await asyncio.sleep(1.0)\n",
    "await salobj.set_summary_state(mount, salobj.State.ENABLED)\n",
    "\n",
    "mount.evt_logMessage.callback = printLogMessage\n",
    "await mount.cmd_setLogLevel.set_start(level=10, timeout=5)"
   ]
  },
  {
   "cell_type": "code",
   "execution_count": 62,
   "id": "ab8a74f3",
   "metadata": {},
   "outputs": [
    {
     "name": "stdout",
     "output_type": "stream",
     "text": [
      "0 2021-07-13 16:55:24.430684160\n"
     ]
    }
   ],
   "source": [
    "a = await mount.evt_cameraCableWrapFollowing.aget()\n",
    "print(a.enabled, pd.to_datetime(a.private_sndStamp, unit='s'))\n",
    "\n",
    "#a = await mount.tel_elevation.next(flush=True, timeout=5.)\n",
    "#await mount.cmd_moveToTarget.set_start(azimuth=0, elevation=a.actualPosition-1)\n",
    "#await asyncio.sleep(1.0)\n",
    "#a = await mount.evt_cameraCableWrapFollowing.aget()\n",
    "#print(a.enabled, pd.to_datetime(a.private_sndStamp, unit='s'))"
   ]
  },
  {
   "cell_type": "code",
   "execution_count": 14,
   "id": "69055608",
   "metadata": {},
   "outputs": [
    {
     "name": "stdout",
     "output_type": "stream",
     "text": [
      "Failed to send command CameraCableWrapStop(sequence_id=68553, command_code=<CommandCode.CAMERA_CABLE_WRAP_STOP: 1002>, source=<Source.CSC: 1>, timestamp=1625600545.4500663): ExpectedError(\"RuntimeError('<DeviceId.CAMERA_CABLE_WRAP: 4> off')\")\n"
     ]
    }
   ],
   "source": [
    "a = await mount.evt_logMessage.aget()\n",
    "print(a.message)"
   ]
  },
  {
   "cell_type": "markdown",
   "id": "9c7de691",
   "metadata": {},
   "source": [
    "#### Do 4 slews, then stop tracking"
   ]
  },
  {
   "cell_type": "code",
   "execution_count": 66,
   "id": "bbb5b99e",
   "metadata": {},
   "outputs": [
    {
     "data": {
      "text/plain": [
       "<ddsutil.MTRotator_ackcmd_55ad33c7 at 0x7f01718713a0>"
      ]
     },
     "execution_count": 66,
     "metadata": {},
     "output_type": "execute_result"
    }
   ],
   "source": [
    "await rot.cmd_move.set_start(position=0, timeout=30.)"
   ]
  },
  {
   "cell_type": "code",
   "execution_count": 67,
   "id": "8b9b931d",
   "metadata": {},
   "outputs": [
    {
     "name": "stdout",
     "output_type": "stream",
     "text": [
      "rot in position? False 2021-07-13 18:32:37.763851520\n",
      "rot in position? True 2021-07-13 18:32:44.163464960\n"
     ]
    }
   ],
   "source": [
    "rot.evt_inPosition.flush()\n",
    "await rot.cmd_move.set_start(position=10., timeout = 30)\n",
    "while True:\n",
    "    state = await rot.evt_inPosition.next(flush=False, timeout=30)\n",
    "    print('rot in position?', state.inPosition, pd.to_datetime(state.private_sndStamp, unit='s'))\n",
    "    if (state.inPosition):\n",
    "        break"
   ]
  },
  {
   "cell_type": "code",
   "execution_count": 69,
   "id": "7f6a92ea",
   "metadata": {},
   "outputs": [
    {
     "name": "stdout",
     "output_type": "stream",
     "text": [
      "CCW folowing?  1 2021-07-13 18:17:59.953999872\n",
      "moving from elevation 84.9 deg to 82.4 deg 2021-07-13 18:58:51.704319\n",
      "This will run for 121 seconds\n",
      "rot in position? True 2021-07-13 19:02:18.513651200\n",
      "start a slew, elevation diff =  0.08016567128784402 2021-07-13 19:01:41.522233\n",
      "CCW folowing?  1 2021-07-13 18:17:59.953999872\n",
      "rot =  10.0\n"
     ]
    },
    {
     "name": "stderr",
     "output_type": "stream",
     "text": [
      "Got False\n",
      "Got True\n",
      "Rotator in position.\n",
      "Waiting for telescope to settle.\n",
      "Telescope in position.\n"
     ]
    },
    {
     "name": "stdout",
     "output_type": "stream",
     "text": [
      "CCW folowing?  1 2021-07-13 18:17:59.953999872\n",
      "moving from elevation 82.6 deg to 84.7 deg 2021-07-13 19:02:48.017838\n",
      "This will run for 102 seconds\n",
      "rot in position? True 2021-07-13 19:05:54.601592320\n",
      "start a slew, elevation diff =  0.08938484923064038 2021-07-13 19:05:17.612815\n",
      "CCW folowing?  1 2021-07-13 18:17:59.953999872\n",
      "rot =  10.0\n"
     ]
    },
    {
     "name": "stderr",
     "output_type": "stream",
     "text": [
      "Got False\n",
      "Waiting for telescope to settle.\n",
      "Telescope in position.\n",
      "Got True\n",
      "Rotator in position.\n"
     ]
    },
    {
     "name": "stdout",
     "output_type": "stream",
     "text": [
      "CCW folowing?  1 2021-07-13 18:17:59.953999872\n",
      "moving from elevation 85.0 deg to 82.4 deg 2021-07-13 19:07:24.851823\n",
      "This will run for 126 seconds\n",
      "rot in position? True 2021-07-13 19:10:57.134646272\n",
      "start a slew, elevation diff =  0.10066321941829415 2021-07-13 19:10:20.137816\n",
      "CCW folowing?  1 2021-07-13 18:17:59.953999872\n",
      "rot =  10.0\n"
     ]
    },
    {
     "name": "stderr",
     "output_type": "stream",
     "text": [
      "Got False\n",
      "Got True\n",
      "Rotator in position.\n",
      "Waiting for telescope to settle.\n",
      "Telescope in position.\n"
     ]
    },
    {
     "name": "stdout",
     "output_type": "stream",
     "text": [
      "CCW folowing?  1 2021-07-13 18:17:59.953999872\n",
      "moving from elevation 82.6 deg to 84.7 deg 2021-07-13 19:11:26.811802\n",
      "This will run for 102 seconds\n",
      "rot in position? True 2021-07-13 19:14:33.272543488\n",
      "start a slew, elevation diff =  0.08589738563405547 2021-07-13 19:13:56.290386\n",
      "CCW folowing?  1 2021-07-13 18:17:59.953999872\n",
      "rot =  10.0\n"
     ]
    },
    {
     "name": "stderr",
     "output_type": "stream",
     "text": [
      "Got False\n",
      "Got True\n",
      "Rotator in position.\n",
      "Waiting for telescope to settle.\n",
      "Telescope in position.\n"
     ]
    }
   ],
   "source": [
    "dec = -34.\n",
    "for j in range(2):\n",
    "    for i in range(2):\n",
    "        \n",
    "        a = await mount.evt_cameraCableWrapFollowing.aget()\n",
    "        print('CCW folowing? ', a.enabled, pd.to_datetime(a.private_sndStamp, unit='s'))\n",
    "        if not a.enabled:\n",
    "            break\n",
    "        time_and_date = await mtcs.rem.mtptg.tel_timeAndDate.next(flush=True, timeout=5)\n",
    "        ra = time_and_date.lst + 0.5 - 3.5/15.0 * i\n",
    "        \n",
    "        aa = await mount.tel_elevation.next(flush=True, timeout=5.)\n",
    "        current_el = aa.actualPosition\n",
    "        \n",
    "        obs_time = salobj.astropy_time_from_tai_unix(salobj.current_tai() + 0.) #with 0s delay\n",
    "        azel = mtcs.azel_from_radec(ra=ra, dec=dec, time=obs_time)\n",
    "        target_el = azel.alt.value\n",
    "        \n",
    "        while abs(target_el - current_el)>0.3:\n",
    "            print('moving from elevation %.1f deg to %.1f deg'%(current_el, target_el), Time.now())\n",
    "            await moveMountConstantV(mount, current_el, target_el)\n",
    "        \n",
    "            aa = await mount.tel_elevation.next(flush=True, timeout=5.)\n",
    "            current_el = aa.actualPosition\n",
    "        \n",
    "            time_and_date = await mtcs.rem.mtptg.tel_timeAndDate.next(flush=True, timeout=5)\n",
    "            ra = time_and_date.lst + 0.5 - 3.5/15.0 * i\n",
    "    \n",
    "            obs_time = salobj.astropy_time_from_tai_unix(salobj.current_tai() + 0.) #with 0s delay\n",
    "            azel = mtcs.azel_from_radec(ra=ra, dec=dec, time=obs_time)\n",
    "            target_el = azel.alt.value\n",
    "        \n",
    "        rot.evt_inPosition.flush()\n",
    "        await rot.cmd_move.set_start(position=10., timeout = 30)\n",
    "        while True:\n",
    "            state = await rot.evt_inPosition.next(flush=False, timeout=30)\n",
    "            print('rot in position?', state.inPosition, pd.to_datetime(state.private_sndStamp, unit='s'))\n",
    "            if (state.inPosition):\n",
    "                break\n",
    "        \n",
    "        print('start a slew, elevation diff = ', abs(target_el - current_el), Time.now())\n",
    "        a = await mount.evt_cameraCableWrapFollowing.aget()\n",
    "        print('CCW folowing? ', a.enabled, pd.to_datetime(a.private_sndStamp, unit='s'))\n",
    "        if not a.enabled:\n",
    "            break\n",
    "        rotAngle = 10.0\n",
    "        print('rot = ', rotAngle)\n",
    "        #b = await mount.tel_cameraCableWrap.next(flush=True, timeout=5) #CCW doesn't follow rotator!!!\n",
    "        # await mtcs.slew_icrs(ra=ra, dec=dec, rot=b.actualPosition, rot_type=RotType.PhysicalSky)\n",
    "        await mtcs.slew_icrs(ra=ra, dec=dec, rot=rotAngle, rot_type=RotType.PhysicalSky)\n",
    "        #await mtcs.slew_icrs(ra=ra, dec=dec, rot=0.0, rot_type=RotType.Physical)\n",
    "        await asyncio.sleep(39.)\n",
    "        await mtcs.stop_tracking()"
   ]
  },
  {
   "cell_type": "code",
   "execution_count": 43,
   "id": "4b20a7e5",
   "metadata": {},
   "outputs": [
    {
     "name": "stdout",
     "output_type": "stream",
     "text": [
      "Camera cable wrap not following closely enough: error # 52 = -5.304842182718602 > 2.2 deg 2021-07-06 17:33:07.067059200\n",
      "CCW folowing?  1 2021-07-06 20:56:59.276886528\n"
     ]
    }
   ],
   "source": [
    "await showSlewError(ptg, mount, rot)"
   ]
  },
  {
   "cell_type": "code",
   "execution_count": 44,
   "id": "533bad61",
   "metadata": {},
   "outputs": [
    {
     "name": "stdout",
     "output_type": "stream",
     "text": [
      "staring with: ptg state State.FAULT 2021-07-06 21:03:56.588785408\n",
      "staring with: mount state State.ENABLED 2021-07-06 20:56:59.277519616\n",
      "staring with: rot state State.FAULT 2021-07-06 21:03:56.547283456\n"
     ]
    }
   ],
   "source": [
    "await checkSlewCompStates(ptg, mount, rot)"
   ]
  },
  {
   "cell_type": "code",
   "execution_count": 45,
   "id": "6e30369d",
   "metadata": {},
   "outputs": [
    {
     "name": "stdout",
     "output_type": "stream",
     "text": [
      "Camera cable wrap not following closely enough: error # 52 = -5.304842182718602 > 2.2 deg 2021-07-06 17:33:07.067059200\n"
     ]
    },
    {
     "ename": "RuntimeError",
     "evalue": "Not allowed because there is a callback function",
     "output_type": "error",
     "traceback": [
      "\u001b[0;31m---------------------------------------------------------------------------\u001b[0m",
      "\u001b[0;31mRuntimeError\u001b[0m                              Traceback (most recent call last)",
      "\u001b[0;32m<ipython-input-45-13616ca3793f>\u001b[0m in \u001b[0;36m<module>\u001b[0;34m\u001b[0m\n\u001b[1;32m      1\u001b[0m \u001b[0ma\u001b[0m \u001b[0;34m=\u001b[0m \u001b[0;32mawait\u001b[0m \u001b[0mrot\u001b[0m\u001b[0;34m.\u001b[0m\u001b[0mevt_errorCode\u001b[0m\u001b[0;34m.\u001b[0m\u001b[0maget\u001b[0m\u001b[0;34m(\u001b[0m\u001b[0;34m)\u001b[0m\u001b[0;34m\u001b[0m\u001b[0;34m\u001b[0m\u001b[0m\n\u001b[1;32m      2\u001b[0m \u001b[0mprint\u001b[0m\u001b[0;34m(\u001b[0m\u001b[0ma\u001b[0m\u001b[0;34m.\u001b[0m\u001b[0merrorReport\u001b[0m\u001b[0;34m,\u001b[0m \u001b[0mpd\u001b[0m\u001b[0;34m.\u001b[0m\u001b[0mto_datetime\u001b[0m\u001b[0;34m(\u001b[0m\u001b[0ma\u001b[0m\u001b[0;34m.\u001b[0m\u001b[0mprivate_sndStamp\u001b[0m\u001b[0;34m,\u001b[0m \u001b[0munit\u001b[0m\u001b[0;34m=\u001b[0m\u001b[0;34m's'\u001b[0m\u001b[0;34m)\u001b[0m\u001b[0;34m)\u001b[0m\u001b[0;34m\u001b[0m\u001b[0;34m\u001b[0m\u001b[0m\n\u001b[0;32m----> 3\u001b[0;31m \u001b[0ma\u001b[0m \u001b[0;34m=\u001b[0m \u001b[0;32mawait\u001b[0m \u001b[0mrot\u001b[0m\u001b[0;34m.\u001b[0m\u001b[0mevt_logMessage\u001b[0m\u001b[0;34m.\u001b[0m\u001b[0maget\u001b[0m\u001b[0;34m(\u001b[0m\u001b[0;34m)\u001b[0m\u001b[0;34m\u001b[0m\u001b[0;34m\u001b[0m\u001b[0m\n\u001b[0m\u001b[1;32m      4\u001b[0m \u001b[0mprint\u001b[0m\u001b[0;34m(\u001b[0m\u001b[0ma\u001b[0m\u001b[0;34m.\u001b[0m\u001b[0mmessage\u001b[0m\u001b[0;34m,\u001b[0m \u001b[0mpd\u001b[0m\u001b[0;34m.\u001b[0m\u001b[0mto_datetime\u001b[0m\u001b[0;34m(\u001b[0m\u001b[0ma\u001b[0m\u001b[0;34m.\u001b[0m\u001b[0mprivate_sndStamp\u001b[0m\u001b[0;34m,\u001b[0m \u001b[0munit\u001b[0m\u001b[0;34m=\u001b[0m\u001b[0;34m's'\u001b[0m\u001b[0;34m)\u001b[0m\u001b[0;34m)\u001b[0m\u001b[0;34m\u001b[0m\u001b[0;34m\u001b[0m\u001b[0m\n\u001b[1;32m      5\u001b[0m \u001b[0;32mimport\u001b[0m \u001b[0mlsst\u001b[0m\u001b[0;34m.\u001b[0m\u001b[0mts\u001b[0m\u001b[0;34m.\u001b[0m\u001b[0midl\u001b[0m\u001b[0;34m.\u001b[0m\u001b[0menums\u001b[0m\u001b[0;34m.\u001b[0m\u001b[0mMTRotator\u001b[0m \u001b[0;32mas\u001b[0m \u001b[0menum_rot\u001b[0m\u001b[0;34m\u001b[0m\u001b[0;34m\u001b[0m\u001b[0m\n",
      "\u001b[0;32m/opt/lsst/software/stack/conda/miniconda3-py38_4.9.2/envs/lsst-scipipe-0.6.0/lib/python3.8/site-packages/lsst/ts/salobj/topics/read_topic.py\u001b[0m in \u001b[0;36maget\u001b[0;34m(self, timeout)\u001b[0m\n\u001b[1;32m    489\u001b[0m         \u001b[0mself\u001b[0m\u001b[0;34m.\u001b[0m\u001b[0msalinfo\u001b[0m\u001b[0;34m.\u001b[0m\u001b[0massert_started\u001b[0m\u001b[0;34m(\u001b[0m\u001b[0;34m)\u001b[0m\u001b[0;34m\u001b[0m\u001b[0;34m\u001b[0m\u001b[0m\n\u001b[1;32m    490\u001b[0m         \u001b[0;32mif\u001b[0m \u001b[0mself\u001b[0m\u001b[0;34m.\u001b[0m\u001b[0mhas_callback\u001b[0m\u001b[0;34m:\u001b[0m\u001b[0;34m\u001b[0m\u001b[0;34m\u001b[0m\u001b[0m\n\u001b[0;32m--> 491\u001b[0;31m             \u001b[0;32mraise\u001b[0m \u001b[0mRuntimeError\u001b[0m\u001b[0;34m(\u001b[0m\u001b[0;34m\"Not allowed because there is a callback function\"\u001b[0m\u001b[0;34m)\u001b[0m\u001b[0;34m\u001b[0m\u001b[0;34m\u001b[0m\u001b[0m\n\u001b[0m\u001b[1;32m    492\u001b[0m         \u001b[0;32mif\u001b[0m \u001b[0mself\u001b[0m\u001b[0;34m.\u001b[0m\u001b[0m_current_data\u001b[0m \u001b[0;32mis\u001b[0m \u001b[0;32mNone\u001b[0m\u001b[0;34m:\u001b[0m\u001b[0;34m\u001b[0m\u001b[0;34m\u001b[0m\u001b[0m\n\u001b[1;32m    493\u001b[0m             \u001b[0;32mif\u001b[0m \u001b[0mself\u001b[0m\u001b[0;34m.\u001b[0m\u001b[0m_next_task\u001b[0m\u001b[0;34m.\u001b[0m\u001b[0mdone\u001b[0m\u001b[0;34m(\u001b[0m\u001b[0;34m)\u001b[0m\u001b[0;34m:\u001b[0m\u001b[0;34m\u001b[0m\u001b[0;34m\u001b[0m\u001b[0m\n",
      "\u001b[0;31mRuntimeError\u001b[0m: Not allowed because there is a callback function"
     ]
    }
   ],
   "source": [
    "a = await rot.evt_errorCode.aget()\n",
    "print(a.errorReport, pd.to_datetime(a.private_sndStamp, unit='s'))\n",
    "a = await rot.evt_logMessage.aget()\n",
    "print(a.message, pd.to_datetime(a.private_sndStamp, unit='s'))\n",
    "import lsst.ts.idl.enums.MTRotator as enum_rot\n",
    "a = await rot.evt_controllerState.aget()\n",
    "print(a.applicationStatus, pd.to_datetime(a.private_sndStamp, unit='s'))\n",
    "enum_rot.ApplicationStatus(a.applicationStatus)"
   ]
  },
  {
   "cell_type": "code",
   "execution_count": 128,
   "id": "9036e5be",
   "metadata": {
    "collapsed": true,
    "jupyter": {
     "outputs_hidden": true
    }
   },
   "outputs": [
    {
     "ename": "CancelledError",
     "evalue": "",
     "output_type": "error",
     "traceback": [
      "\u001b[0;31m---------------------------------------------------------------------------\u001b[0m",
      "\u001b[0;31mCancelledError\u001b[0m                            Traceback (most recent call last)",
      "\u001b[0;32m<ipython-input-128-0ee18e49e975>\u001b[0m in \u001b[0;36m<module>\u001b[0;34m\u001b[0m\n\u001b[0;32m----> 1\u001b[0;31m \u001b[0ma\u001b[0m \u001b[0;34m=\u001b[0m \u001b[0;32mawait\u001b[0m \u001b[0mcamhex\u001b[0m\u001b[0;34m.\u001b[0m\u001b[0mevt_errorCode\u001b[0m\u001b[0;34m.\u001b[0m\u001b[0maget\u001b[0m\u001b[0;34m(\u001b[0m\u001b[0;34m)\u001b[0m\u001b[0;34m\u001b[0m\u001b[0;34m\u001b[0m\u001b[0m\n\u001b[0m\u001b[1;32m      2\u001b[0m \u001b[0mprint\u001b[0m\u001b[0;34m(\u001b[0m\u001b[0ma\u001b[0m\u001b[0;34m.\u001b[0m\u001b[0merrorReport\u001b[0m\u001b[0;34m,\u001b[0m \u001b[0mpd\u001b[0m\u001b[0;34m.\u001b[0m\u001b[0mto_datetime\u001b[0m\u001b[0;34m(\u001b[0m\u001b[0ma\u001b[0m\u001b[0;34m.\u001b[0m\u001b[0mprivate_sndStamp\u001b[0m\u001b[0;34m,\u001b[0m \u001b[0munit\u001b[0m\u001b[0;34m=\u001b[0m\u001b[0;34m's'\u001b[0m\u001b[0;34m)\u001b[0m\u001b[0;34m)\u001b[0m\u001b[0;34m\u001b[0m\u001b[0;34m\u001b[0m\u001b[0m\n",
      "\u001b[0;32m/opt/lsst/software/stack/conda/miniconda3-py38_4.9.2/envs/lsst-scipipe-0.6.0/lib/python3.8/site-packages/lsst/ts/salobj/topics/read_topic.py\u001b[0m in \u001b[0;36maget\u001b[0;34m(self, timeout)\u001b[0m\n\u001b[1;32m    493\u001b[0m             \u001b[0;32mif\u001b[0m \u001b[0mself\u001b[0m\u001b[0;34m.\u001b[0m\u001b[0m_next_task\u001b[0m\u001b[0;34m.\u001b[0m\u001b[0mdone\u001b[0m\u001b[0;34m(\u001b[0m\u001b[0;34m)\u001b[0m\u001b[0;34m:\u001b[0m\u001b[0;34m\u001b[0m\u001b[0;34m\u001b[0m\u001b[0m\n\u001b[1;32m    494\u001b[0m                 \u001b[0mself\u001b[0m\u001b[0;34m.\u001b[0m\u001b[0m_next_task\u001b[0m \u001b[0;34m=\u001b[0m \u001b[0masyncio\u001b[0m\u001b[0;34m.\u001b[0m\u001b[0mFuture\u001b[0m\u001b[0;34m(\u001b[0m\u001b[0;34m)\u001b[0m\u001b[0;34m\u001b[0m\u001b[0;34m\u001b[0m\u001b[0m\n\u001b[0;32m--> 495\u001b[0;31m             \u001b[0;32mawait\u001b[0m \u001b[0masyncio\u001b[0m\u001b[0;34m.\u001b[0m\u001b[0mwait_for\u001b[0m\u001b[0;34m(\u001b[0m\u001b[0mself\u001b[0m\u001b[0;34m.\u001b[0m\u001b[0m_next_task\u001b[0m\u001b[0;34m,\u001b[0m \u001b[0mtimeout\u001b[0m\u001b[0;34m=\u001b[0m\u001b[0mtimeout\u001b[0m\u001b[0;34m)\u001b[0m\u001b[0;34m\u001b[0m\u001b[0;34m\u001b[0m\u001b[0m\n\u001b[0m\u001b[1;32m    496\u001b[0m         \u001b[0;32mreturn\u001b[0m \u001b[0mself\u001b[0m\u001b[0;34m.\u001b[0m\u001b[0m_current_data\u001b[0m\u001b[0;34m\u001b[0m\u001b[0;34m\u001b[0m\u001b[0m\n\u001b[1;32m    497\u001b[0m \u001b[0;34m\u001b[0m\u001b[0m\n",
      "\u001b[0;32m/opt/lsst/software/stack/conda/miniconda3-py38_4.9.2/envs/lsst-scipipe-0.6.0/lib/python3.8/asyncio/tasks.py\u001b[0m in \u001b[0;36mwait_for\u001b[0;34m(fut, timeout, loop)\u001b[0m\n\u001b[1;32m    453\u001b[0m \u001b[0;34m\u001b[0m\u001b[0m\n\u001b[1;32m    454\u001b[0m     \u001b[0;32mif\u001b[0m \u001b[0mtimeout\u001b[0m \u001b[0;32mis\u001b[0m \u001b[0;32mNone\u001b[0m\u001b[0;34m:\u001b[0m\u001b[0;34m\u001b[0m\u001b[0;34m\u001b[0m\u001b[0m\n\u001b[0;32m--> 455\u001b[0;31m         \u001b[0;32mreturn\u001b[0m \u001b[0;32mawait\u001b[0m \u001b[0mfut\u001b[0m\u001b[0;34m\u001b[0m\u001b[0;34m\u001b[0m\u001b[0m\n\u001b[0m\u001b[1;32m    456\u001b[0m \u001b[0;34m\u001b[0m\u001b[0m\n\u001b[1;32m    457\u001b[0m     \u001b[0;32mif\u001b[0m \u001b[0mtimeout\u001b[0m \u001b[0;34m<=\u001b[0m \u001b[0;36m0\u001b[0m\u001b[0;34m:\u001b[0m\u001b[0;34m\u001b[0m\u001b[0;34m\u001b[0m\u001b[0m\n",
      "\u001b[0;31mCancelledError\u001b[0m: "
     ]
    }
   ],
   "source": [
    "a = await camhex.evt_errorCode.aget()\n",
    "print(a.errorReport, pd.to_datetime(a.private_sndStamp, unit='s'))"
   ]
  },
  {
   "cell_type": "code",
   "execution_count": 132,
   "id": "43f31641",
   "metadata": {},
   "outputs": [
    {
     "name": "stdout",
     "output_type": "stream",
     "text": [
      "[29700, 0, 0, 0, 0, 0] 2021-07-06 18:46:42.994284544\n"
     ]
    },
    {
     "data": {
      "text/plain": [
       "<ApplicationStatus.SIMULINK_FAULT|DRIVE_FAULT|DDS_CONNECTED|DDS_COMMAND_SOURCE|EUI_CONNECTED: 29700>"
      ]
     },
     "execution_count": 132,
     "metadata": {},
     "output_type": "execute_result"
    }
   ],
   "source": [
    "import lsst.ts.idl.enums.MTHexapod as enum_hex\n",
    "a = await camhex.evt_controllerState.aget()\n",
    "print(a.applicationStatus, pd.to_datetime(a.private_sndStamp, unit='s'))\n",
    "enum_hex.ApplicationStatus(a.applicationStatus[0])"
   ]
  },
  {
   "cell_type": "code",
   "execution_count": 34,
   "id": "401ef6ae",
   "metadata": {},
   "outputs": [
    {
     "data": {
      "text/plain": [
       "<ddsutil.MTRotator_ackcmd_55ad33c7 at 0x7f6904589c70>"
      ]
     },
     "execution_count": 34,
     "metadata": {},
     "output_type": "execute_result"
    }
   ],
   "source": [
    "await rot.cmd_clearError.set_start()"
   ]
  },
  {
   "cell_type": "code",
   "execution_count": 39,
   "id": "2092d94d",
   "metadata": {},
   "outputs": [
    {
     "name": "stdout",
     "output_type": "stream",
     "text": [
      "staring with: ptg state State.ENABLED 2021-07-06 20:56:53.481703168\n",
      "staring with: mount state State.ENABLED 2021-07-06 20:56:59.277519616\n",
      "staring with: rot state State.ENABLED 2021-07-06 20:56:49.864164352\n"
     ]
    }
   ],
   "source": [
    "await checkSlewCompStates(ptg, mount, rot)"
   ]
  },
  {
   "cell_type": "code",
   "execution_count": 35,
   "id": "ca9ddc1d",
   "metadata": {},
   "outputs": [
    {
     "data": {
      "text/plain": [
       "[<State.STANDBY: 5>, <State.DISABLED: 1>, <State.ENABLED: 2>]"
      ]
     },
     "execution_count": 35,
     "metadata": {},
     "output_type": "execute_result"
    }
   ],
   "source": [
    "await salobj.set_summary_state(rot, state=salobj.State.ENABLED)"
   ]
  },
  {
   "cell_type": "code",
   "execution_count": 36,
   "id": "c3eb4869",
   "metadata": {},
   "outputs": [
    {
     "data": {
      "text/plain": [
       "[<State.FAULT: 3>, <State.STANDBY: 5>, <State.DISABLED: 1>, <State.ENABLED: 2>]"
      ]
     },
     "execution_count": 36,
     "metadata": {},
     "output_type": "execute_result"
    }
   ],
   "source": [
    "await salobj.set_summary_state(ptg, state=salobj.State.ENABLED)"
   ]
  },
  {
   "cell_type": "code",
   "execution_count": 37,
   "id": "97c4d925",
   "metadata": {},
   "outputs": [
    {
     "data": {
      "text/plain": [
       "[<State.ENABLED: 2>, <State.DISABLED: 1>]"
      ]
     },
     "execution_count": 37,
     "metadata": {},
     "output_type": "execute_result"
    }
   ],
   "source": [
    "await salobj.set_summary_state(mount, state=salobj.State.DISABLED)"
   ]
  },
  {
   "cell_type": "code",
   "execution_count": 38,
   "id": "276a6ee7",
   "metadata": {},
   "outputs": [
    {
     "data": {
      "text/plain": [
       "[<State.DISABLED: 1>, <State.ENABLED: 2>]"
      ]
     },
     "execution_count": 38,
     "metadata": {},
     "output_type": "execute_result"
    }
   ],
   "source": [
    "await salobj.set_summary_state(mount, state=salobj.State.ENABLED)"
   ]
  },
  {
   "cell_type": "code",
   "execution_count": null,
   "id": "1e6c3363",
   "metadata": {},
   "outputs": [],
   "source": []
  },
  {
   "cell_type": "code",
   "execution_count": 163,
   "id": "34b7f5e5",
   "metadata": {
    "collapsed": true,
    "jupyter": {
     "outputs_hidden": true
    }
   },
   "outputs": [
    {
     "ename": "AckError",
     "evalue": "msg='Command failed', ackcmd=(ackcmd private_seqNum=690344821, ack=<SalRetCode.CMD_FAILED: -302>, error=1, result=\"Failed: RuntimeError('<DeviceId.CAMERA_CABLE_WRAP: 4> off')\")",
     "output_type": "error",
     "traceback": [
      "\u001b[0;31m---------------------------------------------------------------------------\u001b[0m",
      "\u001b[0;31mAckError\u001b[0m                                  Traceback (most recent call last)",
      "\u001b[0;32m<ipython-input-163-3a2b80d37f7f>\u001b[0m in \u001b[0;36m<module>\u001b[0;34m\u001b[0m\n\u001b[0;32m----> 1\u001b[0;31m \u001b[0;32mawait\u001b[0m \u001b[0mmount\u001b[0m\u001b[0;34m.\u001b[0m\u001b[0mcmd_enableCameraCableWrapFollowing\u001b[0m\u001b[0;34m.\u001b[0m\u001b[0mset_start\u001b[0m\u001b[0;34m(\u001b[0m\u001b[0;34m)\u001b[0m\u001b[0;34m\u001b[0m\u001b[0;34m\u001b[0m\u001b[0m\n\u001b[0m",
      "\u001b[0;32m/opt/lsst/software/stack/conda/miniconda3-py38_4.9.2/envs/lsst-scipipe-0.6.0/lib/python3.8/site-packages/lsst/ts/salobj/topics/remote_command.py\u001b[0m in \u001b[0;36mset_start\u001b[0;34m(self, timeout, wait_done, **kwargs)\u001b[0m\n\u001b[1;32m    392\u001b[0m         \"\"\"\n\u001b[1;32m    393\u001b[0m         \u001b[0mself\u001b[0m\u001b[0;34m.\u001b[0m\u001b[0mset\u001b[0m\u001b[0;34m(\u001b[0m\u001b[0;34m**\u001b[0m\u001b[0mkwargs\u001b[0m\u001b[0;34m)\u001b[0m\u001b[0;34m\u001b[0m\u001b[0;34m\u001b[0m\u001b[0m\n\u001b[0;32m--> 394\u001b[0;31m         \u001b[0;32mreturn\u001b[0m \u001b[0;32mawait\u001b[0m \u001b[0mself\u001b[0m\u001b[0;34m.\u001b[0m\u001b[0mstart\u001b[0m\u001b[0;34m(\u001b[0m\u001b[0mtimeout\u001b[0m\u001b[0;34m=\u001b[0m\u001b[0mtimeout\u001b[0m\u001b[0;34m,\u001b[0m \u001b[0mwait_done\u001b[0m\u001b[0;34m=\u001b[0m\u001b[0mwait_done\u001b[0m\u001b[0;34m)\u001b[0m\u001b[0;34m\u001b[0m\u001b[0;34m\u001b[0m\u001b[0m\n\u001b[0m\u001b[1;32m    395\u001b[0m \u001b[0;34m\u001b[0m\u001b[0m\n\u001b[1;32m    396\u001b[0m     \u001b[0;32masync\u001b[0m \u001b[0;32mdef\u001b[0m \u001b[0mstart\u001b[0m\u001b[0;34m(\u001b[0m\u001b[0mself\u001b[0m\u001b[0;34m,\u001b[0m \u001b[0mdata\u001b[0m\u001b[0;34m=\u001b[0m\u001b[0;32mNone\u001b[0m\u001b[0;34m,\u001b[0m \u001b[0mtimeout\u001b[0m\u001b[0;34m=\u001b[0m\u001b[0mDEFAULT_TIMEOUT\u001b[0m\u001b[0;34m,\u001b[0m \u001b[0mwait_done\u001b[0m\u001b[0;34m=\u001b[0m\u001b[0;32mTrue\u001b[0m\u001b[0;34m)\u001b[0m\u001b[0;34m:\u001b[0m\u001b[0;34m\u001b[0m\u001b[0;34m\u001b[0m\u001b[0m\n",
      "\u001b[0;32m/opt/lsst/software/stack/conda/miniconda3-py38_4.9.2/envs/lsst-scipipe-0.6.0/lib/python3.8/site-packages/lsst/ts/salobj/topics/remote_command.py\u001b[0m in \u001b[0;36mstart\u001b[0;34m(self, data, timeout, wait_done)\u001b[0m\n\u001b[1;32m    447\u001b[0m         )\n\u001b[1;32m    448\u001b[0m         \u001b[0mself\u001b[0m\u001b[0;34m.\u001b[0m\u001b[0msalinfo\u001b[0m\u001b[0;34m.\u001b[0m\u001b[0m_running_cmds\u001b[0m\u001b[0;34m[\u001b[0m\u001b[0mseq_num\u001b[0m\u001b[0;34m]\u001b[0m \u001b[0;34m=\u001b[0m \u001b[0mcmd_info\u001b[0m\u001b[0;34m\u001b[0m\u001b[0;34m\u001b[0m\u001b[0m\n\u001b[0;32m--> 449\u001b[0;31m         \u001b[0;32mreturn\u001b[0m \u001b[0;32mawait\u001b[0m \u001b[0mcmd_info\u001b[0m\u001b[0;34m.\u001b[0m\u001b[0mnext_ackcmd\u001b[0m\u001b[0;34m(\u001b[0m\u001b[0mtimeout\u001b[0m\u001b[0;34m=\u001b[0m\u001b[0mtimeout\u001b[0m\u001b[0;34m)\u001b[0m\u001b[0;34m\u001b[0m\u001b[0;34m\u001b[0m\u001b[0m\n\u001b[0m",
      "\u001b[0;32m/opt/lsst/software/stack/conda/miniconda3-py38_4.9.2/envs/lsst-scipipe-0.6.0/lib/python3.8/site-packages/lsst/ts/salobj/topics/remote_command.py\u001b[0m in \u001b[0;36mnext_ackcmd\u001b[0;34m(self, timeout)\u001b[0m\n\u001b[1;32m    180\u001b[0m             \u001b[0mackcmd\u001b[0m \u001b[0;34m=\u001b[0m \u001b[0;32mawait\u001b[0m \u001b[0mself\u001b[0m\u001b[0;34m.\u001b[0m\u001b[0m_wait_task\u001b[0m\u001b[0;34m\u001b[0m\u001b[0;34m\u001b[0m\u001b[0m\n\u001b[1;32m    181\u001b[0m             \u001b[0;32mif\u001b[0m \u001b[0mackcmd\u001b[0m\u001b[0;34m.\u001b[0m\u001b[0mack\u001b[0m \u001b[0;32min\u001b[0m \u001b[0mself\u001b[0m\u001b[0;34m.\u001b[0m\u001b[0mfailed_ack_codes\u001b[0m\u001b[0;34m:\u001b[0m\u001b[0;34m\u001b[0m\u001b[0;34m\u001b[0m\u001b[0m\n\u001b[0;32m--> 182\u001b[0;31m                 \u001b[0;32mraise\u001b[0m \u001b[0mbase\u001b[0m\u001b[0;34m.\u001b[0m\u001b[0mAckError\u001b[0m\u001b[0;34m(\u001b[0m\u001b[0mmsg\u001b[0m\u001b[0;34m=\u001b[0m\u001b[0;34m\"Command failed\"\u001b[0m\u001b[0;34m,\u001b[0m \u001b[0mackcmd\u001b[0m\u001b[0;34m=\u001b[0m\u001b[0mackcmd\u001b[0m\u001b[0;34m)\u001b[0m\u001b[0;34m\u001b[0m\u001b[0;34m\u001b[0m\u001b[0m\n\u001b[0m\u001b[1;32m    183\u001b[0m             \u001b[0;32mreturn\u001b[0m \u001b[0mackcmd\u001b[0m\u001b[0;34m\u001b[0m\u001b[0;34m\u001b[0m\u001b[0m\n\u001b[1;32m    184\u001b[0m         \u001b[0;32mexcept\u001b[0m \u001b[0masyncio\u001b[0m\u001b[0;34m.\u001b[0m\u001b[0mTimeoutError\u001b[0m\u001b[0;34m:\u001b[0m\u001b[0;34m\u001b[0m\u001b[0;34m\u001b[0m\u001b[0m\n",
      "\u001b[0;31mAckError\u001b[0m: msg='Command failed', ackcmd=(ackcmd private_seqNum=690344821, ack=<SalRetCode.CMD_FAILED: -302>, error=1, result=\"Failed: RuntimeError('<DeviceId.CAMERA_CABLE_WRAP: 4> off')\")"
     ]
    }
   ],
   "source": [
    "await mount.cmd_enableCameraCableWrapFollowing.set_start()"
   ]
  },
  {
   "cell_type": "code",
   "execution_count": 16,
   "id": "9d63784d",
   "metadata": {
    "collapsed": true,
    "jupyter": {
     "outputs_hidden": true
    }
   },
   "outputs": [
    {
     "name": "stderr",
     "output_type": "stream",
     "text": [
      "Enabling CCW following.\n"
     ]
    },
    {
     "ename": "AckError",
     "evalue": "msg='Command failed', ackcmd=(ackcmd private_seqNum=690344821, ack=<SalRetCode.CMD_FAILED: -302>, error=1, result=\"Failed: RuntimeError('<DeviceId.CAMERA_CABLE_WRAP: 4> off')\")",
     "output_type": "error",
     "traceback": [
      "\u001b[0;31m---------------------------------------------------------------------------\u001b[0m",
      "\u001b[0;31mAckError\u001b[0m                                  Traceback (most recent call last)",
      "\u001b[0;32m<ipython-input-16-6d5b6a4c7592>\u001b[0m in \u001b[0;36m<module>\u001b[0;34m\u001b[0m\n\u001b[0;32m----> 1\u001b[0;31m \u001b[0;32mawait\u001b[0m \u001b[0mmtcs\u001b[0m\u001b[0;34m.\u001b[0m\u001b[0menable_ccw_following\u001b[0m\u001b[0;34m(\u001b[0m\u001b[0;34m)\u001b[0m\u001b[0;34m\u001b[0m\u001b[0;34m\u001b[0m\u001b[0m\n\u001b[0m",
      "\u001b[0;32m~/WORK/ts_observatory_control/python/lsst/ts/observatory/control/maintel/mtcs.py\u001b[0m in \u001b[0;36menable_ccw_following\u001b[0;34m(self)\u001b[0m\n\u001b[1;32m    149\u001b[0m         \u001b[0mself\u001b[0m\u001b[0;34m.\u001b[0m\u001b[0mlog\u001b[0m\u001b[0;34m.\u001b[0m\u001b[0minfo\u001b[0m\u001b[0;34m(\u001b[0m\u001b[0;34m\"Enabling CCW following.\"\u001b[0m\u001b[0;34m)\u001b[0m\u001b[0;34m\u001b[0m\u001b[0;34m\u001b[0m\u001b[0m\n\u001b[1;32m    150\u001b[0m \u001b[0;34m\u001b[0m\u001b[0m\n\u001b[0;32m--> 151\u001b[0;31m         await self.rem.mtmount.cmd_enableCameraCableWrapFollowing.start(\n\u001b[0m\u001b[1;32m    152\u001b[0m             \u001b[0mtimeout\u001b[0m\u001b[0;34m=\u001b[0m\u001b[0mself\u001b[0m\u001b[0;34m.\u001b[0m\u001b[0mfast_timeout\u001b[0m\u001b[0;34m\u001b[0m\u001b[0;34m\u001b[0m\u001b[0m\n\u001b[1;32m    153\u001b[0m         )\n",
      "\u001b[0;32m/opt/lsst/software/stack/conda/miniconda3-py38_4.9.2/envs/lsst-scipipe-0.6.0/lib/python3.8/site-packages/lsst/ts/salobj/topics/remote_command.py\u001b[0m in \u001b[0;36mstart\u001b[0;34m(self, data, timeout, wait_done)\u001b[0m\n\u001b[1;32m    447\u001b[0m         )\n\u001b[1;32m    448\u001b[0m         \u001b[0mself\u001b[0m\u001b[0;34m.\u001b[0m\u001b[0msalinfo\u001b[0m\u001b[0;34m.\u001b[0m\u001b[0m_running_cmds\u001b[0m\u001b[0;34m[\u001b[0m\u001b[0mseq_num\u001b[0m\u001b[0;34m]\u001b[0m \u001b[0;34m=\u001b[0m \u001b[0mcmd_info\u001b[0m\u001b[0;34m\u001b[0m\u001b[0;34m\u001b[0m\u001b[0m\n\u001b[0;32m--> 449\u001b[0;31m         \u001b[0;32mreturn\u001b[0m \u001b[0;32mawait\u001b[0m \u001b[0mcmd_info\u001b[0m\u001b[0;34m.\u001b[0m\u001b[0mnext_ackcmd\u001b[0m\u001b[0;34m(\u001b[0m\u001b[0mtimeout\u001b[0m\u001b[0;34m=\u001b[0m\u001b[0mtimeout\u001b[0m\u001b[0;34m)\u001b[0m\u001b[0;34m\u001b[0m\u001b[0;34m\u001b[0m\u001b[0m\n\u001b[0m",
      "\u001b[0;32m/opt/lsst/software/stack/conda/miniconda3-py38_4.9.2/envs/lsst-scipipe-0.6.0/lib/python3.8/site-packages/lsst/ts/salobj/topics/remote_command.py\u001b[0m in \u001b[0;36mnext_ackcmd\u001b[0;34m(self, timeout)\u001b[0m\n\u001b[1;32m    180\u001b[0m             \u001b[0mackcmd\u001b[0m \u001b[0;34m=\u001b[0m \u001b[0;32mawait\u001b[0m \u001b[0mself\u001b[0m\u001b[0;34m.\u001b[0m\u001b[0m_wait_task\u001b[0m\u001b[0;34m\u001b[0m\u001b[0;34m\u001b[0m\u001b[0m\n\u001b[1;32m    181\u001b[0m             \u001b[0;32mif\u001b[0m \u001b[0mackcmd\u001b[0m\u001b[0;34m.\u001b[0m\u001b[0mack\u001b[0m \u001b[0;32min\u001b[0m \u001b[0mself\u001b[0m\u001b[0;34m.\u001b[0m\u001b[0mfailed_ack_codes\u001b[0m\u001b[0;34m:\u001b[0m\u001b[0;34m\u001b[0m\u001b[0;34m\u001b[0m\u001b[0m\n\u001b[0;32m--> 182\u001b[0;31m                 \u001b[0;32mraise\u001b[0m \u001b[0mbase\u001b[0m\u001b[0;34m.\u001b[0m\u001b[0mAckError\u001b[0m\u001b[0;34m(\u001b[0m\u001b[0mmsg\u001b[0m\u001b[0;34m=\u001b[0m\u001b[0;34m\"Command failed\"\u001b[0m\u001b[0;34m,\u001b[0m \u001b[0mackcmd\u001b[0m\u001b[0;34m=\u001b[0m\u001b[0mackcmd\u001b[0m\u001b[0;34m)\u001b[0m\u001b[0;34m\u001b[0m\u001b[0;34m\u001b[0m\u001b[0m\n\u001b[0m\u001b[1;32m    183\u001b[0m             \u001b[0;32mreturn\u001b[0m \u001b[0mackcmd\u001b[0m\u001b[0;34m\u001b[0m\u001b[0;34m\u001b[0m\u001b[0m\n\u001b[1;32m    184\u001b[0m         \u001b[0;32mexcept\u001b[0m \u001b[0masyncio\u001b[0m\u001b[0;34m.\u001b[0m\u001b[0mTimeoutError\u001b[0m\u001b[0;34m:\u001b[0m\u001b[0;34m\u001b[0m\u001b[0;34m\u001b[0m\u001b[0m\n",
      "\u001b[0;31mAckError\u001b[0m: msg='Command failed', ackcmd=(ackcmd private_seqNum=690344821, ack=<SalRetCode.CMD_FAILED: -302>, error=1, result=\"Failed: RuntimeError('<DeviceId.CAMERA_CABLE_WRAP: 4> off')\")"
     ]
    }
   ],
   "source": [
    "await mtcs.enable_ccw_following()"
   ]
  },
  {
   "cell_type": "code",
   "execution_count": null,
   "id": "f4c3c30c",
   "metadata": {},
   "outputs": [],
   "source": []
  },
  {
   "cell_type": "code",
   "execution_count": 22,
   "id": "9d1fc091",
   "metadata": {},
   "outputs": [
    {
     "data": {
      "text/plain": [
       "<ddsutil.MTRotator_ackcmd_55ad33c7 at 0x7f69045e2430>"
      ]
     },
     "execution_count": 22,
     "metadata": {},
     "output_type": "execute_result"
    }
   ],
   "source": [
    "def printLogMessage(data):\n",
    "    print(f\"{data.level}: {data.message}\")\n",
    "rot.evt_logMessage.callback = printLogMessage\n",
    "await rot.cmd_setLogLevel.set_start(level=10, timeout=5)"
   ]
  },
  {
   "cell_type": "code",
   "execution_count": null,
   "id": "756a9e5d",
   "metadata": {},
   "outputs": [],
   "source": []
  },
  {
   "cell_type": "code",
   "execution_count": 139,
   "id": "98fac1f3",
   "metadata": {},
   "outputs": [
    {
     "ename": "AckError",
     "evalue": "msg='Command failed', ackcmd=(ackcmd private_seqNum=172607481, ack=<SalRetCode.CMD_FAILED: -302>, error=1, result='Failed: Failed: final state is <State.FAULT: 3> instead of <State.STANDBY: 5>')",
     "output_type": "error",
     "traceback": [
      "\u001b[0;31m---------------------------------------------------------------------------\u001b[0m",
      "\u001b[0;31mAckError\u001b[0m                                  Traceback (most recent call last)",
      "\u001b[0;32m<ipython-input-139-0975b1acb96c>\u001b[0m in \u001b[0;36m<module>\u001b[0;34m\u001b[0m\n\u001b[0;32m----> 1\u001b[0;31m \u001b[0;32mawait\u001b[0m \u001b[0mcamhex\u001b[0m\u001b[0;34m.\u001b[0m\u001b[0mcmd_clearError\u001b[0m\u001b[0;34m.\u001b[0m\u001b[0mset_start\u001b[0m\u001b[0;34m(\u001b[0m\u001b[0;34m)\u001b[0m\u001b[0;34m\u001b[0m\u001b[0;34m\u001b[0m\u001b[0m\n\u001b[0m",
      "\u001b[0;32m/opt/lsst/software/stack/conda/miniconda3-py38_4.9.2/envs/lsst-scipipe-0.6.0/lib/python3.8/site-packages/lsst/ts/salobj/topics/remote_command.py\u001b[0m in \u001b[0;36mset_start\u001b[0;34m(self, timeout, wait_done, **kwargs)\u001b[0m\n\u001b[1;32m    392\u001b[0m         \"\"\"\n\u001b[1;32m    393\u001b[0m         \u001b[0mself\u001b[0m\u001b[0;34m.\u001b[0m\u001b[0mset\u001b[0m\u001b[0;34m(\u001b[0m\u001b[0;34m**\u001b[0m\u001b[0mkwargs\u001b[0m\u001b[0;34m)\u001b[0m\u001b[0;34m\u001b[0m\u001b[0;34m\u001b[0m\u001b[0m\n\u001b[0;32m--> 394\u001b[0;31m         \u001b[0;32mreturn\u001b[0m \u001b[0;32mawait\u001b[0m \u001b[0mself\u001b[0m\u001b[0;34m.\u001b[0m\u001b[0mstart\u001b[0m\u001b[0;34m(\u001b[0m\u001b[0mtimeout\u001b[0m\u001b[0;34m=\u001b[0m\u001b[0mtimeout\u001b[0m\u001b[0;34m,\u001b[0m \u001b[0mwait_done\u001b[0m\u001b[0;34m=\u001b[0m\u001b[0mwait_done\u001b[0m\u001b[0;34m)\u001b[0m\u001b[0;34m\u001b[0m\u001b[0;34m\u001b[0m\u001b[0m\n\u001b[0m\u001b[1;32m    395\u001b[0m \u001b[0;34m\u001b[0m\u001b[0m\n\u001b[1;32m    396\u001b[0m     \u001b[0;32masync\u001b[0m \u001b[0;32mdef\u001b[0m \u001b[0mstart\u001b[0m\u001b[0;34m(\u001b[0m\u001b[0mself\u001b[0m\u001b[0;34m,\u001b[0m \u001b[0mdata\u001b[0m\u001b[0;34m=\u001b[0m\u001b[0;32mNone\u001b[0m\u001b[0;34m,\u001b[0m \u001b[0mtimeout\u001b[0m\u001b[0;34m=\u001b[0m\u001b[0mDEFAULT_TIMEOUT\u001b[0m\u001b[0;34m,\u001b[0m \u001b[0mwait_done\u001b[0m\u001b[0;34m=\u001b[0m\u001b[0;32mTrue\u001b[0m\u001b[0;34m)\u001b[0m\u001b[0;34m:\u001b[0m\u001b[0;34m\u001b[0m\u001b[0;34m\u001b[0m\u001b[0m\n",
      "\u001b[0;32m/opt/lsst/software/stack/conda/miniconda3-py38_4.9.2/envs/lsst-scipipe-0.6.0/lib/python3.8/site-packages/lsst/ts/salobj/topics/remote_command.py\u001b[0m in \u001b[0;36mstart\u001b[0;34m(self, data, timeout, wait_done)\u001b[0m\n\u001b[1;32m    447\u001b[0m         )\n\u001b[1;32m    448\u001b[0m         \u001b[0mself\u001b[0m\u001b[0;34m.\u001b[0m\u001b[0msalinfo\u001b[0m\u001b[0;34m.\u001b[0m\u001b[0m_running_cmds\u001b[0m\u001b[0;34m[\u001b[0m\u001b[0mseq_num\u001b[0m\u001b[0;34m]\u001b[0m \u001b[0;34m=\u001b[0m \u001b[0mcmd_info\u001b[0m\u001b[0;34m\u001b[0m\u001b[0;34m\u001b[0m\u001b[0m\n\u001b[0;32m--> 449\u001b[0;31m         \u001b[0;32mreturn\u001b[0m \u001b[0;32mawait\u001b[0m \u001b[0mcmd_info\u001b[0m\u001b[0;34m.\u001b[0m\u001b[0mnext_ackcmd\u001b[0m\u001b[0;34m(\u001b[0m\u001b[0mtimeout\u001b[0m\u001b[0;34m=\u001b[0m\u001b[0mtimeout\u001b[0m\u001b[0;34m)\u001b[0m\u001b[0;34m\u001b[0m\u001b[0;34m\u001b[0m\u001b[0m\n\u001b[0m",
      "\u001b[0;32m/opt/lsst/software/stack/conda/miniconda3-py38_4.9.2/envs/lsst-scipipe-0.6.0/lib/python3.8/site-packages/lsst/ts/salobj/topics/remote_command.py\u001b[0m in \u001b[0;36mnext_ackcmd\u001b[0;34m(self, timeout)\u001b[0m\n\u001b[1;32m    180\u001b[0m             \u001b[0mackcmd\u001b[0m \u001b[0;34m=\u001b[0m \u001b[0;32mawait\u001b[0m \u001b[0mself\u001b[0m\u001b[0;34m.\u001b[0m\u001b[0m_wait_task\u001b[0m\u001b[0;34m\u001b[0m\u001b[0;34m\u001b[0m\u001b[0m\n\u001b[1;32m    181\u001b[0m             \u001b[0;32mif\u001b[0m \u001b[0mackcmd\u001b[0m\u001b[0;34m.\u001b[0m\u001b[0mack\u001b[0m \u001b[0;32min\u001b[0m \u001b[0mself\u001b[0m\u001b[0;34m.\u001b[0m\u001b[0mfailed_ack_codes\u001b[0m\u001b[0;34m:\u001b[0m\u001b[0;34m\u001b[0m\u001b[0;34m\u001b[0m\u001b[0m\n\u001b[0;32m--> 182\u001b[0;31m                 \u001b[0;32mraise\u001b[0m \u001b[0mbase\u001b[0m\u001b[0;34m.\u001b[0m\u001b[0mAckError\u001b[0m\u001b[0;34m(\u001b[0m\u001b[0mmsg\u001b[0m\u001b[0;34m=\u001b[0m\u001b[0;34m\"Command failed\"\u001b[0m\u001b[0;34m,\u001b[0m \u001b[0mackcmd\u001b[0m\u001b[0;34m=\u001b[0m\u001b[0mackcmd\u001b[0m\u001b[0;34m)\u001b[0m\u001b[0;34m\u001b[0m\u001b[0;34m\u001b[0m\u001b[0m\n\u001b[0m\u001b[1;32m    183\u001b[0m             \u001b[0;32mreturn\u001b[0m \u001b[0mackcmd\u001b[0m\u001b[0;34m\u001b[0m\u001b[0;34m\u001b[0m\u001b[0m\n\u001b[1;32m    184\u001b[0m         \u001b[0;32mexcept\u001b[0m \u001b[0masyncio\u001b[0m\u001b[0;34m.\u001b[0m\u001b[0mTimeoutError\u001b[0m\u001b[0;34m:\u001b[0m\u001b[0;34m\u001b[0m\u001b[0;34m\u001b[0m\u001b[0m\n",
      "\u001b[0;31mAckError\u001b[0m: msg='Command failed', ackcmd=(ackcmd private_seqNum=172607481, ack=<SalRetCode.CMD_FAILED: -302>, error=1, result='Failed: Failed: final state is <State.FAULT: 3> instead of <State.STANDBY: 5>')"
     ]
    }
   ],
   "source": [
    "await camhex.cmd_clearError.set_start()"
   ]
  },
  {
   "cell_type": "code",
   "execution_count": 135,
   "id": "ff19aab9",
   "metadata": {},
   "outputs": [
    {
     "name": "stdout",
     "output_type": "stream",
     "text": [
      "starting with: M1M3 state State.ENABLED 2021-07-06 17:12:17.919976192\n",
      "          detailed state DetailedState.ACTIVE 2021-07-06 17:12:17.920011008\n",
      "staring with: m2 state State.ENABLED 2021-07-06 17:17:37.340900864\n",
      "staring with: cam hex state State.FAULT 2021-07-06 18:46:42.993954304\n",
      "          cam hex state EnabledSubstate.STATIONARY 2021-07-06 18:46:42.994284544\n",
      "staring with: M2 hex state State.ENABLED 2021-07-06 15:48:02.461323520\n",
      "          hex state EnabledSubstate.STATIONARY 2021-07-06 17:22:52.649073920\n"
     ]
    }
   ],
   "source": [
    "await checkAOSCompStates(m1m3,m2,camhex,m2hex)"
   ]
  },
  {
   "cell_type": "code",
   "execution_count": 138,
   "id": "576a1dc1",
   "metadata": {},
   "outputs": [
    {
     "ename": "RuntimeError",
     "evalue": "Error on cmd=cmd_standby, initial_state=3: msg='Command failed', ackcmd=(ackcmd private_seqNum=1874305940, ack=<SalRetCode.CMD_FAILED: -302>, error=1, result='Failed: You must use the clearError command or the engineering user interface to clear a rotator fault.')",
     "output_type": "error",
     "traceback": [
      "\u001b[0;31m---------------------------------------------------------------------------\u001b[0m",
      "\u001b[0;31mAckError\u001b[0m                                  Traceback (most recent call last)",
      "\u001b[0;32m/opt/lsst/software/stack/conda/miniconda3-py38_4.9.2/envs/lsst-scipipe-0.6.0/lib/python3.8/site-packages/lsst/ts/salobj/csc_utils.py\u001b[0m in \u001b[0;36mset_summary_state\u001b[0;34m(remote, state, settingsToApply, timeout)\u001b[0m\n\u001b[1;32m    147\u001b[0m             \u001b[0;32mtry\u001b[0m\u001b[0;34m:\u001b[0m\u001b[0;34m\u001b[0m\u001b[0;34m\u001b[0m\u001b[0m\n\u001b[0;32m--> 148\u001b[0;31m                 \u001b[0;32mawait\u001b[0m \u001b[0mcmd\u001b[0m\u001b[0;34m.\u001b[0m\u001b[0mstart\u001b[0m\u001b[0;34m(\u001b[0m\u001b[0mtimeout\u001b[0m\u001b[0;34m=\u001b[0m\u001b[0mtimeout\u001b[0m\u001b[0;34m)\u001b[0m\u001b[0;34m\u001b[0m\u001b[0;34m\u001b[0m\u001b[0m\n\u001b[0m\u001b[1;32m    149\u001b[0m             \u001b[0;32mexcept\u001b[0m \u001b[0mException\u001b[0m \u001b[0;32mas\u001b[0m \u001b[0me\u001b[0m\u001b[0;34m:\u001b[0m\u001b[0;34m\u001b[0m\u001b[0;34m\u001b[0m\u001b[0m\n",
      "\u001b[0;32m/opt/lsst/software/stack/conda/miniconda3-py38_4.9.2/envs/lsst-scipipe-0.6.0/lib/python3.8/site-packages/lsst/ts/salobj/topics/remote_command.py\u001b[0m in \u001b[0;36mstart\u001b[0;34m(self, data, timeout, wait_done)\u001b[0m\n\u001b[1;32m    448\u001b[0m         \u001b[0mself\u001b[0m\u001b[0;34m.\u001b[0m\u001b[0msalinfo\u001b[0m\u001b[0;34m.\u001b[0m\u001b[0m_running_cmds\u001b[0m\u001b[0;34m[\u001b[0m\u001b[0mseq_num\u001b[0m\u001b[0;34m]\u001b[0m \u001b[0;34m=\u001b[0m \u001b[0mcmd_info\u001b[0m\u001b[0;34m\u001b[0m\u001b[0;34m\u001b[0m\u001b[0m\n\u001b[0;32m--> 449\u001b[0;31m         \u001b[0;32mreturn\u001b[0m \u001b[0;32mawait\u001b[0m \u001b[0mcmd_info\u001b[0m\u001b[0;34m.\u001b[0m\u001b[0mnext_ackcmd\u001b[0m\u001b[0;34m(\u001b[0m\u001b[0mtimeout\u001b[0m\u001b[0;34m=\u001b[0m\u001b[0mtimeout\u001b[0m\u001b[0;34m)\u001b[0m\u001b[0;34m\u001b[0m\u001b[0;34m\u001b[0m\u001b[0m\n\u001b[0m",
      "\u001b[0;32m/opt/lsst/software/stack/conda/miniconda3-py38_4.9.2/envs/lsst-scipipe-0.6.0/lib/python3.8/site-packages/lsst/ts/salobj/topics/remote_command.py\u001b[0m in \u001b[0;36mnext_ackcmd\u001b[0;34m(self, timeout)\u001b[0m\n\u001b[1;32m    181\u001b[0m             \u001b[0;32mif\u001b[0m \u001b[0mackcmd\u001b[0m\u001b[0;34m.\u001b[0m\u001b[0mack\u001b[0m \u001b[0;32min\u001b[0m \u001b[0mself\u001b[0m\u001b[0;34m.\u001b[0m\u001b[0mfailed_ack_codes\u001b[0m\u001b[0;34m:\u001b[0m\u001b[0;34m\u001b[0m\u001b[0;34m\u001b[0m\u001b[0m\n\u001b[0;32m--> 182\u001b[0;31m                 \u001b[0;32mraise\u001b[0m \u001b[0mbase\u001b[0m\u001b[0;34m.\u001b[0m\u001b[0mAckError\u001b[0m\u001b[0;34m(\u001b[0m\u001b[0mmsg\u001b[0m\u001b[0;34m=\u001b[0m\u001b[0;34m\"Command failed\"\u001b[0m\u001b[0;34m,\u001b[0m \u001b[0mackcmd\u001b[0m\u001b[0;34m=\u001b[0m\u001b[0mackcmd\u001b[0m\u001b[0;34m)\u001b[0m\u001b[0;34m\u001b[0m\u001b[0;34m\u001b[0m\u001b[0m\n\u001b[0m\u001b[1;32m    183\u001b[0m             \u001b[0;32mreturn\u001b[0m \u001b[0mackcmd\u001b[0m\u001b[0;34m\u001b[0m\u001b[0;34m\u001b[0m\u001b[0m\n",
      "\u001b[0;31mAckError\u001b[0m: msg='Command failed', ackcmd=(ackcmd private_seqNum=1874305940, ack=<SalRetCode.CMD_FAILED: -302>, error=1, result='Failed: You must use the clearError command or the engineering user interface to clear a rotator fault.')",
      "\nThe above exception was the direct cause of the following exception:\n",
      "\u001b[0;31mRuntimeError\u001b[0m                              Traceback (most recent call last)",
      "\u001b[0;32m<ipython-input-138-7eb801c834d5>\u001b[0m in \u001b[0;36m<module>\u001b[0;34m\u001b[0m\n\u001b[0;32m----> 1\u001b[0;31m \u001b[0;32mawait\u001b[0m \u001b[0msalobj\u001b[0m\u001b[0;34m.\u001b[0m\u001b[0mset_summary_state\u001b[0m\u001b[0;34m(\u001b[0m\u001b[0mcamhex\u001b[0m\u001b[0;34m,\u001b[0m \u001b[0mstate\u001b[0m\u001b[0;34m=\u001b[0m\u001b[0msalobj\u001b[0m\u001b[0;34m.\u001b[0m\u001b[0mState\u001b[0m\u001b[0;34m.\u001b[0m\u001b[0mENABLED\u001b[0m\u001b[0;34m)\u001b[0m\u001b[0;34m\u001b[0m\u001b[0;34m\u001b[0m\u001b[0m\n\u001b[0m",
      "\u001b[0;32m/opt/lsst/software/stack/conda/miniconda3-py38_4.9.2/envs/lsst-scipipe-0.6.0/lib/python3.8/site-packages/lsst/ts/salobj/csc_utils.py\u001b[0m in \u001b[0;36mset_summary_state\u001b[0;34m(remote, state, settingsToApply, timeout)\u001b[0m\n\u001b[1;32m    148\u001b[0m                 \u001b[0;32mawait\u001b[0m \u001b[0mcmd\u001b[0m\u001b[0;34m.\u001b[0m\u001b[0mstart\u001b[0m\u001b[0;34m(\u001b[0m\u001b[0mtimeout\u001b[0m\u001b[0;34m=\u001b[0m\u001b[0mtimeout\u001b[0m\u001b[0;34m)\u001b[0m\u001b[0;34m\u001b[0m\u001b[0;34m\u001b[0m\u001b[0m\n\u001b[1;32m    149\u001b[0m             \u001b[0;32mexcept\u001b[0m \u001b[0mException\u001b[0m \u001b[0;32mas\u001b[0m \u001b[0me\u001b[0m\u001b[0;34m:\u001b[0m\u001b[0;34m\u001b[0m\u001b[0;34m\u001b[0m\u001b[0m\n\u001b[0;32m--> 150\u001b[0;31m                 raise RuntimeError(\n\u001b[0m\u001b[1;32m    151\u001b[0m                     \u001b[0;34mf\"Error on cmd=cmd_{command}, initial_state={current_state}: {e}\"\u001b[0m\u001b[0;34m\u001b[0m\u001b[0;34m\u001b[0m\u001b[0m\n\u001b[1;32m    152\u001b[0m                 ) from e\n",
      "\u001b[0;31mRuntimeError\u001b[0m: Error on cmd=cmd_standby, initial_state=3: msg='Command failed', ackcmd=(ackcmd private_seqNum=1874305940, ack=<SalRetCode.CMD_FAILED: -302>, error=1, result='Failed: You must use the clearError command or the engineering user interface to clear a rotator fault.')"
     ]
    }
   ],
   "source": [
    "await salobj.set_summary_state(camhex, state=salobj.State.ENABLED)"
   ]
  },
  {
   "cell_type": "code",
   "execution_count": null,
   "id": "936cd81f",
   "metadata": {},
   "outputs": [],
   "source": []
  },
  {
   "cell_type": "code",
   "execution_count": 137,
   "id": "a489cad3",
   "metadata": {},
   "outputs": [],
   "source": [
    "await mtcs.stop_tracking()"
   ]
  },
  {
   "cell_type": "code",
   "execution_count": null,
   "id": "a23d2d72",
   "metadata": {},
   "outputs": [],
   "source": []
  },
  {
   "cell_type": "code",
   "execution_count": 29,
   "id": "3bb0d4d6",
   "metadata": {},
   "outputs": [
    {
     "name": "stderr",
     "output_type": "stream",
     "text": [
      "Enabling CCW following.\n"
     ]
    },
    {
     "ename": "AckError",
     "evalue": "msg='Command failed', ackcmd=(ackcmd private_seqNum=690344822, ack=<SalRetCode.CMD_FAILED: -302>, error=1, result=\"Failed: RuntimeError('<DeviceId.CAMERA_CABLE_WRAP: 4> off')\")",
     "output_type": "error",
     "traceback": [
      "\u001b[0;31m---------------------------------------------------------------------------\u001b[0m",
      "\u001b[0;31mAckError\u001b[0m                                  Traceback (most recent call last)",
      "\u001b[0;32m<ipython-input-29-6d5b6a4c7592>\u001b[0m in \u001b[0;36m<module>\u001b[0;34m\u001b[0m\n\u001b[0;32m----> 1\u001b[0;31m \u001b[0;32mawait\u001b[0m \u001b[0mmtcs\u001b[0m\u001b[0;34m.\u001b[0m\u001b[0menable_ccw_following\u001b[0m\u001b[0;34m(\u001b[0m\u001b[0;34m)\u001b[0m\u001b[0;34m\u001b[0m\u001b[0;34m\u001b[0m\u001b[0m\n\u001b[0m",
      "\u001b[0;32m~/WORK/ts_observatory_control/python/lsst/ts/observatory/control/maintel/mtcs.py\u001b[0m in \u001b[0;36menable_ccw_following\u001b[0;34m(self)\u001b[0m\n\u001b[1;32m    149\u001b[0m         \u001b[0mself\u001b[0m\u001b[0;34m.\u001b[0m\u001b[0mlog\u001b[0m\u001b[0;34m.\u001b[0m\u001b[0minfo\u001b[0m\u001b[0;34m(\u001b[0m\u001b[0;34m\"Enabling CCW following.\"\u001b[0m\u001b[0;34m)\u001b[0m\u001b[0;34m\u001b[0m\u001b[0;34m\u001b[0m\u001b[0m\n\u001b[1;32m    150\u001b[0m \u001b[0;34m\u001b[0m\u001b[0m\n\u001b[0;32m--> 151\u001b[0;31m         await self.rem.mtmount.cmd_enableCameraCableWrapFollowing.start(\n\u001b[0m\u001b[1;32m    152\u001b[0m             \u001b[0mtimeout\u001b[0m\u001b[0;34m=\u001b[0m\u001b[0mself\u001b[0m\u001b[0;34m.\u001b[0m\u001b[0mfast_timeout\u001b[0m\u001b[0;34m\u001b[0m\u001b[0;34m\u001b[0m\u001b[0m\n\u001b[1;32m    153\u001b[0m         )\n",
      "\u001b[0;32m/opt/lsst/software/stack/conda/miniconda3-py38_4.9.2/envs/lsst-scipipe-0.6.0/lib/python3.8/site-packages/lsst/ts/salobj/topics/remote_command.py\u001b[0m in \u001b[0;36mstart\u001b[0;34m(self, data, timeout, wait_done)\u001b[0m\n\u001b[1;32m    447\u001b[0m         )\n\u001b[1;32m    448\u001b[0m         \u001b[0mself\u001b[0m\u001b[0;34m.\u001b[0m\u001b[0msalinfo\u001b[0m\u001b[0;34m.\u001b[0m\u001b[0m_running_cmds\u001b[0m\u001b[0;34m[\u001b[0m\u001b[0mseq_num\u001b[0m\u001b[0;34m]\u001b[0m \u001b[0;34m=\u001b[0m \u001b[0mcmd_info\u001b[0m\u001b[0;34m\u001b[0m\u001b[0;34m\u001b[0m\u001b[0m\n\u001b[0;32m--> 449\u001b[0;31m         \u001b[0;32mreturn\u001b[0m \u001b[0;32mawait\u001b[0m \u001b[0mcmd_info\u001b[0m\u001b[0;34m.\u001b[0m\u001b[0mnext_ackcmd\u001b[0m\u001b[0;34m(\u001b[0m\u001b[0mtimeout\u001b[0m\u001b[0;34m=\u001b[0m\u001b[0mtimeout\u001b[0m\u001b[0;34m)\u001b[0m\u001b[0;34m\u001b[0m\u001b[0;34m\u001b[0m\u001b[0m\n\u001b[0m",
      "\u001b[0;32m/opt/lsst/software/stack/conda/miniconda3-py38_4.9.2/envs/lsst-scipipe-0.6.0/lib/python3.8/site-packages/lsst/ts/salobj/topics/remote_command.py\u001b[0m in \u001b[0;36mnext_ackcmd\u001b[0;34m(self, timeout)\u001b[0m\n\u001b[1;32m    180\u001b[0m             \u001b[0mackcmd\u001b[0m \u001b[0;34m=\u001b[0m \u001b[0;32mawait\u001b[0m \u001b[0mself\u001b[0m\u001b[0;34m.\u001b[0m\u001b[0m_wait_task\u001b[0m\u001b[0;34m\u001b[0m\u001b[0;34m\u001b[0m\u001b[0m\n\u001b[1;32m    181\u001b[0m             \u001b[0;32mif\u001b[0m \u001b[0mackcmd\u001b[0m\u001b[0;34m.\u001b[0m\u001b[0mack\u001b[0m \u001b[0;32min\u001b[0m \u001b[0mself\u001b[0m\u001b[0;34m.\u001b[0m\u001b[0mfailed_ack_codes\u001b[0m\u001b[0;34m:\u001b[0m\u001b[0;34m\u001b[0m\u001b[0;34m\u001b[0m\u001b[0m\n\u001b[0;32m--> 182\u001b[0;31m                 \u001b[0;32mraise\u001b[0m \u001b[0mbase\u001b[0m\u001b[0;34m.\u001b[0m\u001b[0mAckError\u001b[0m\u001b[0;34m(\u001b[0m\u001b[0mmsg\u001b[0m\u001b[0;34m=\u001b[0m\u001b[0;34m\"Command failed\"\u001b[0m\u001b[0;34m,\u001b[0m \u001b[0mackcmd\u001b[0m\u001b[0;34m=\u001b[0m\u001b[0mackcmd\u001b[0m\u001b[0;34m)\u001b[0m\u001b[0;34m\u001b[0m\u001b[0;34m\u001b[0m\u001b[0m\n\u001b[0m\u001b[1;32m    183\u001b[0m             \u001b[0;32mreturn\u001b[0m \u001b[0mackcmd\u001b[0m\u001b[0;34m\u001b[0m\u001b[0;34m\u001b[0m\u001b[0m\n\u001b[1;32m    184\u001b[0m         \u001b[0;32mexcept\u001b[0m \u001b[0masyncio\u001b[0m\u001b[0;34m.\u001b[0m\u001b[0mTimeoutError\u001b[0m\u001b[0;34m:\u001b[0m\u001b[0;34m\u001b[0m\u001b[0;34m\u001b[0m\u001b[0m\n",
      "\u001b[0;31mAckError\u001b[0m: msg='Command failed', ackcmd=(ackcmd private_seqNum=690344822, ack=<SalRetCode.CMD_FAILED: -302>, error=1, result=\"Failed: RuntimeError('<DeviceId.CAMERA_CABLE_WRAP: 4> off')\")"
     ]
    }
   ],
   "source": [
    "await mtcs.enable_ccw_following()"
   ]
  },
  {
   "cell_type": "code",
   "execution_count": 52,
   "id": "4bf9f64d",
   "metadata": {},
   "outputs": [
    {
     "data": {
      "text/plain": [
       "('Failed to send command CameraCableWrapStop(sequence_id=452433, command_code=<CommandCode.CAMERA_CABLE_WRAP_STOP: 1002>, source=<Source.CSC: 1>, timestamp=1625245739.1863241): ExpectedError(\"RuntimeError(\\'<DeviceId.CAMERA_CABLE_WRAP: 4> off\\')\")',\n",
       " Timestamp('2021-07-02 17:08:59.187008768'))"
      ]
     },
     "execution_count": 52,
     "metadata": {},
     "output_type": "execute_result"
    }
   ],
   "source": [
    "a =await mount.evt_logMessage.aget()\n",
    "a.message, pd.to_datetime(a.private_sndStamp, unit='s')"
   ]
  },
  {
   "cell_type": "code",
   "execution_count": 107,
   "id": "b463d75a",
   "metadata": {},
   "outputs": [
    {
     "name": "stdout",
     "output_type": "stream",
     "text": [
      "Cannot read cameraCableWrap telemetry 2021-07-01 13:34:10.587981568\n"
     ]
    }
   ],
   "source": [
    "a = await rot.evt_errorCode.aget()\n",
    "print(a.errorReport, pd.to_datetime(a.private_sndStamp, unit='s'))"
   ]
  },
  {
   "cell_type": "code",
   "execution_count": 122,
   "id": "bf0ea7f6",
   "metadata": {},
   "outputs": [
    {
     "name": "stdout",
     "output_type": "stream",
     "text": [
      "21508 2021-07-01 20:43:40.728502016\n"
     ]
    }
   ],
   "source": [
    "from lsst.ts.idl.enums.MTRotator import ApplicationStatus\n",
    "a = await rot.evt_controllerState.aget()\n",
    "print(a.applicationStatus, pd.to_datetime(a.private_sndStamp, unit='s'))"
   ]
  },
  {
   "cell_type": "code",
   "execution_count": 121,
   "id": "30a34489",
   "metadata": {},
   "outputs": [
    {
     "data": {
      "text/plain": [
       "<ApplicationStatus.SIMULINK_FAULT|DDS_CONNECTED|DDS_COMMAND_SOURCE|EUI_CONNECTED: 21508>"
      ]
     },
     "execution_count": 121,
     "metadata": {},
     "output_type": "execute_result"
    }
   ],
   "source": [
    "ApplicationStatus(a.applicationStatus)"
   ]
  },
  {
   "cell_type": "code",
   "execution_count": 48,
   "id": "b891edec",
   "metadata": {},
   "outputs": [
    {
     "data": {
      "text/plain": [
       "<ddsutil.MTRotator_ackcmd_55ad33c7 at 0x7f6904463880>"
      ]
     },
     "execution_count": 48,
     "metadata": {},
     "output_type": "execute_result"
    }
   ],
   "source": [
    "await rot.cmd_clearError.set_start()"
   ]
  },
  {
   "cell_type": "code",
   "execution_count": 54,
   "id": "5d3c02c2",
   "metadata": {},
   "outputs": [
    {
     "name": "stdout",
     "output_type": "stream",
     "text": [
      "Hardpoint Actuator #2 Measured Forces 50\n"
     ]
    }
   ],
   "source": [
    "a = await m1m3.evt_errorCode.aget()\n",
    "print(a.errorReport, pd.to_datetime(a.private_sndStamp, unit='s'))"
   ]
  },
  {
   "cell_type": "markdown",
   "id": "0fc6c387",
   "metadata": {},
   "source": [
    "#### Plot the above process"
   ]
  },
  {
   "cell_type": "code",
   "execution_count": 27,
   "id": "39872edf",
   "metadata": {},
   "outputs": [],
   "source": [
    "end = Time(datetime.now(), scale='tai')\n",
    "start = end - timedelta(seconds=1000)"
   ]
  },
  {
   "cell_type": "code",
   "execution_count": 30,
   "id": "172e4d4d",
   "metadata": {},
   "outputs": [
    {
     "data": {
      "text/html": [
       "<div>\n",
       "<style scoped>\n",
       "    .dataframe tbody tr th:only-of-type {\n",
       "        vertical-align: middle;\n",
       "    }\n",
       "\n",
       "    .dataframe tbody tr th {\n",
       "        vertical-align: top;\n",
       "    }\n",
       "\n",
       "    .dataframe thead th {\n",
       "        text-align: right;\n",
       "    }\n",
       "</style>\n",
       "<table border=\"1\" class=\"dataframe\">\n",
       "  <thead>\n",
       "    <tr style=\"text-align: right;\">\n",
       "      <th></th>\n",
       "      <th>applied0</th>\n",
       "      <th>applied1</th>\n",
       "      <th>applied10</th>\n",
       "      <th>applied11</th>\n",
       "      <th>applied12</th>\n",
       "      <th>applied13</th>\n",
       "      <th>applied14</th>\n",
       "      <th>applied15</th>\n",
       "      <th>applied16</th>\n",
       "      <th>applied17</th>\n",
       "      <th>...</th>\n",
       "      <th>measured8</th>\n",
       "      <th>measured9</th>\n",
       "      <th>private_host</th>\n",
       "      <th>private_identity</th>\n",
       "      <th>private_kafkaStamp</th>\n",
       "      <th>private_origin</th>\n",
       "      <th>private_rcvStamp</th>\n",
       "      <th>private_revCode</th>\n",
       "      <th>private_seqNum</th>\n",
       "      <th>private_sndStamp</th>\n",
       "    </tr>\n",
       "  </thead>\n",
       "  <tbody>\n",
       "    <tr>\n",
       "      <th>2021-05-26 23:31:28.527000+00:00</th>\n",
       "      <td>0</td>\n",
       "      <td>0</td>\n",
       "      <td>0</td>\n",
       "      <td>0</td>\n",
       "      <td>0</td>\n",
       "      <td>0</td>\n",
       "      <td>0</td>\n",
       "      <td>0</td>\n",
       "      <td>0</td>\n",
       "      <td>0</td>\n",
       "      <td>...</td>\n",
       "      <td>200.567169</td>\n",
       "      <td>174.139038</td>\n",
       "      <td>1</td>\n",
       "      <td>MTM2</td>\n",
       "      <td>1.622072e+09</td>\n",
       "      <td>14447</td>\n",
       "      <td>1.622072e+09</td>\n",
       "      <td>1272f82f</td>\n",
       "      <td>361524</td>\n",
       "      <td>1.622072e+09</td>\n",
       "    </tr>\n",
       "    <tr>\n",
       "      <th>2021-05-26 23:31:28.577000+00:00</th>\n",
       "      <td>0</td>\n",
       "      <td>0</td>\n",
       "      <td>0</td>\n",
       "      <td>0</td>\n",
       "      <td>0</td>\n",
       "      <td>0</td>\n",
       "      <td>0</td>\n",
       "      <td>0</td>\n",
       "      <td>0</td>\n",
       "      <td>0</td>\n",
       "      <td>...</td>\n",
       "      <td>200.607941</td>\n",
       "      <td>174.093338</td>\n",
       "      <td>1</td>\n",
       "      <td>MTM2</td>\n",
       "      <td>1.622072e+09</td>\n",
       "      <td>14447</td>\n",
       "      <td>1.622072e+09</td>\n",
       "      <td>1272f82f</td>\n",
       "      <td>361525</td>\n",
       "      <td>1.622072e+09</td>\n",
       "    </tr>\n",
       "    <tr>\n",
       "      <th>2021-05-26 23:31:28.627000+00:00</th>\n",
       "      <td>0</td>\n",
       "      <td>0</td>\n",
       "      <td>0</td>\n",
       "      <td>0</td>\n",
       "      <td>0</td>\n",
       "      <td>0</td>\n",
       "      <td>0</td>\n",
       "      <td>0</td>\n",
       "      <td>0</td>\n",
       "      <td>0</td>\n",
       "      <td>...</td>\n",
       "      <td>200.602844</td>\n",
       "      <td>174.184723</td>\n",
       "      <td>1</td>\n",
       "      <td>MTM2</td>\n",
       "      <td>1.622072e+09</td>\n",
       "      <td>14447</td>\n",
       "      <td>1.622072e+09</td>\n",
       "      <td>1272f82f</td>\n",
       "      <td>361526</td>\n",
       "      <td>1.622072e+09</td>\n",
       "    </tr>\n",
       "    <tr>\n",
       "      <th>2021-05-26 23:31:28.677000+00:00</th>\n",
       "      <td>0</td>\n",
       "      <td>0</td>\n",
       "      <td>0</td>\n",
       "      <td>0</td>\n",
       "      <td>0</td>\n",
       "      <td>0</td>\n",
       "      <td>0</td>\n",
       "      <td>0</td>\n",
       "      <td>0</td>\n",
       "      <td>0</td>\n",
       "      <td>...</td>\n",
       "      <td>200.613037</td>\n",
       "      <td>174.174576</td>\n",
       "      <td>1</td>\n",
       "      <td>MTM2</td>\n",
       "      <td>1.622072e+09</td>\n",
       "      <td>14447</td>\n",
       "      <td>1.622072e+09</td>\n",
       "      <td>1272f82f</td>\n",
       "      <td>361527</td>\n",
       "      <td>1.622072e+09</td>\n",
       "    </tr>\n",
       "    <tr>\n",
       "      <th>2021-05-26 23:31:28.727000+00:00</th>\n",
       "      <td>0</td>\n",
       "      <td>0</td>\n",
       "      <td>0</td>\n",
       "      <td>0</td>\n",
       "      <td>0</td>\n",
       "      <td>0</td>\n",
       "      <td>0</td>\n",
       "      <td>0</td>\n",
       "      <td>0</td>\n",
       "      <td>0</td>\n",
       "      <td>...</td>\n",
       "      <td>200.679321</td>\n",
       "      <td>174.184723</td>\n",
       "      <td>1</td>\n",
       "      <td>MTM2</td>\n",
       "      <td>1.622072e+09</td>\n",
       "      <td>14447</td>\n",
       "      <td>1.622072e+09</td>\n",
       "      <td>1272f82f</td>\n",
       "      <td>361528</td>\n",
       "      <td>1.622072e+09</td>\n",
       "    </tr>\n",
       "    <tr>\n",
       "      <th>...</th>\n",
       "      <td>...</td>\n",
       "      <td>...</td>\n",
       "      <td>...</td>\n",
       "      <td>...</td>\n",
       "      <td>...</td>\n",
       "      <td>...</td>\n",
       "      <td>...</td>\n",
       "      <td>...</td>\n",
       "      <td>...</td>\n",
       "      <td>...</td>\n",
       "      <td>...</td>\n",
       "      <td>...</td>\n",
       "      <td>...</td>\n",
       "      <td>...</td>\n",
       "      <td>...</td>\n",
       "      <td>...</td>\n",
       "      <td>...</td>\n",
       "      <td>...</td>\n",
       "      <td>...</td>\n",
       "      <td>...</td>\n",
       "      <td>...</td>\n",
       "    </tr>\n",
       "    <tr>\n",
       "      <th>2021-05-26 23:48:08.282000+00:00</th>\n",
       "      <td>0</td>\n",
       "      <td>0</td>\n",
       "      <td>0</td>\n",
       "      <td>0</td>\n",
       "      <td>0</td>\n",
       "      <td>0</td>\n",
       "      <td>0</td>\n",
       "      <td>0</td>\n",
       "      <td>0</td>\n",
       "      <td>0</td>\n",
       "      <td>...</td>\n",
       "      <td>195.311356</td>\n",
       "      <td>178.657639</td>\n",
       "      <td>1</td>\n",
       "      <td>MTM2</td>\n",
       "      <td>1.622073e+09</td>\n",
       "      <td>14447</td>\n",
       "      <td>1.622073e+09</td>\n",
       "      <td>1272f82f</td>\n",
       "      <td>381519</td>\n",
       "      <td>1.622073e+09</td>\n",
       "    </tr>\n",
       "    <tr>\n",
       "      <th>2021-05-26 23:48:08.331000+00:00</th>\n",
       "      <td>0</td>\n",
       "      <td>0</td>\n",
       "      <td>0</td>\n",
       "      <td>0</td>\n",
       "      <td>0</td>\n",
       "      <td>0</td>\n",
       "      <td>0</td>\n",
       "      <td>0</td>\n",
       "      <td>0</td>\n",
       "      <td>0</td>\n",
       "      <td>...</td>\n",
       "      <td>195.382721</td>\n",
       "      <td>178.738876</td>\n",
       "      <td>1</td>\n",
       "      <td>MTM2</td>\n",
       "      <td>1.622073e+09</td>\n",
       "      <td>14447</td>\n",
       "      <td>1.622073e+09</td>\n",
       "      <td>1272f82f</td>\n",
       "      <td>381520</td>\n",
       "      <td>1.622073e+09</td>\n",
       "    </tr>\n",
       "    <tr>\n",
       "      <th>2021-05-26 23:48:08.379000+00:00</th>\n",
       "      <td>0</td>\n",
       "      <td>0</td>\n",
       "      <td>0</td>\n",
       "      <td>0</td>\n",
       "      <td>0</td>\n",
       "      <td>0</td>\n",
       "      <td>0</td>\n",
       "      <td>0</td>\n",
       "      <td>0</td>\n",
       "      <td>0</td>\n",
       "      <td>...</td>\n",
       "      <td>195.290955</td>\n",
       "      <td>178.708420</td>\n",
       "      <td>1</td>\n",
       "      <td>MTM2</td>\n",
       "      <td>1.622073e+09</td>\n",
       "      <td>14447</td>\n",
       "      <td>1.622073e+09</td>\n",
       "      <td>1272f82f</td>\n",
       "      <td>381521</td>\n",
       "      <td>1.622073e+09</td>\n",
       "    </tr>\n",
       "    <tr>\n",
       "      <th>2021-05-26 23:48:08.431000+00:00</th>\n",
       "      <td>0</td>\n",
       "      <td>0</td>\n",
       "      <td>0</td>\n",
       "      <td>0</td>\n",
       "      <td>0</td>\n",
       "      <td>0</td>\n",
       "      <td>0</td>\n",
       "      <td>0</td>\n",
       "      <td>0</td>\n",
       "      <td>0</td>\n",
       "      <td>...</td>\n",
       "      <td>195.398010</td>\n",
       "      <td>178.769333</td>\n",
       "      <td>1</td>\n",
       "      <td>MTM2</td>\n",
       "      <td>1.622073e+09</td>\n",
       "      <td>14447</td>\n",
       "      <td>1.622073e+09</td>\n",
       "      <td>1272f82f</td>\n",
       "      <td>381522</td>\n",
       "      <td>1.622073e+09</td>\n",
       "    </tr>\n",
       "    <tr>\n",
       "      <th>2021-05-26 23:48:08.481000+00:00</th>\n",
       "      <td>0</td>\n",
       "      <td>0</td>\n",
       "      <td>0</td>\n",
       "      <td>0</td>\n",
       "      <td>0</td>\n",
       "      <td>0</td>\n",
       "      <td>0</td>\n",
       "      <td>0</td>\n",
       "      <td>0</td>\n",
       "      <td>0</td>\n",
       "      <td>...</td>\n",
       "      <td>195.438797</td>\n",
       "      <td>178.809952</td>\n",
       "      <td>1</td>\n",
       "      <td>MTM2</td>\n",
       "      <td>1.622073e+09</td>\n",
       "      <td>14447</td>\n",
       "      <td>1.622073e+09</td>\n",
       "      <td>1272f82f</td>\n",
       "      <td>381523</td>\n",
       "      <td>1.622073e+09</td>\n",
       "    </tr>\n",
       "  </tbody>\n",
       "</table>\n",
       "<p>20000 rows × 368 columns</p>\n",
       "</div>"
      ],
      "text/plain": [
       "                                  applied0  applied1  applied10  applied11  \\\n",
       "2021-05-26 23:31:28.527000+00:00         0         0          0          0   \n",
       "2021-05-26 23:31:28.577000+00:00         0         0          0          0   \n",
       "2021-05-26 23:31:28.627000+00:00         0         0          0          0   \n",
       "2021-05-26 23:31:28.677000+00:00         0         0          0          0   \n",
       "2021-05-26 23:31:28.727000+00:00         0         0          0          0   \n",
       "...                                    ...       ...        ...        ...   \n",
       "2021-05-26 23:48:08.282000+00:00         0         0          0          0   \n",
       "2021-05-26 23:48:08.331000+00:00         0         0          0          0   \n",
       "2021-05-26 23:48:08.379000+00:00         0         0          0          0   \n",
       "2021-05-26 23:48:08.431000+00:00         0         0          0          0   \n",
       "2021-05-26 23:48:08.481000+00:00         0         0          0          0   \n",
       "\n",
       "                                  applied12  applied13  applied14  applied15  \\\n",
       "2021-05-26 23:31:28.527000+00:00          0          0          0          0   \n",
       "2021-05-26 23:31:28.577000+00:00          0          0          0          0   \n",
       "2021-05-26 23:31:28.627000+00:00          0          0          0          0   \n",
       "2021-05-26 23:31:28.677000+00:00          0          0          0          0   \n",
       "2021-05-26 23:31:28.727000+00:00          0          0          0          0   \n",
       "...                                     ...        ...        ...        ...   \n",
       "2021-05-26 23:48:08.282000+00:00          0          0          0          0   \n",
       "2021-05-26 23:48:08.331000+00:00          0          0          0          0   \n",
       "2021-05-26 23:48:08.379000+00:00          0          0          0          0   \n",
       "2021-05-26 23:48:08.431000+00:00          0          0          0          0   \n",
       "2021-05-26 23:48:08.481000+00:00          0          0          0          0   \n",
       "\n",
       "                                  applied16  applied17  ...   measured8  \\\n",
       "2021-05-26 23:31:28.527000+00:00          0          0  ...  200.567169   \n",
       "2021-05-26 23:31:28.577000+00:00          0          0  ...  200.607941   \n",
       "2021-05-26 23:31:28.627000+00:00          0          0  ...  200.602844   \n",
       "2021-05-26 23:31:28.677000+00:00          0          0  ...  200.613037   \n",
       "2021-05-26 23:31:28.727000+00:00          0          0  ...  200.679321   \n",
       "...                                     ...        ...  ...         ...   \n",
       "2021-05-26 23:48:08.282000+00:00          0          0  ...  195.311356   \n",
       "2021-05-26 23:48:08.331000+00:00          0          0  ...  195.382721   \n",
       "2021-05-26 23:48:08.379000+00:00          0          0  ...  195.290955   \n",
       "2021-05-26 23:48:08.431000+00:00          0          0  ...  195.398010   \n",
       "2021-05-26 23:48:08.481000+00:00          0          0  ...  195.438797   \n",
       "\n",
       "                                   measured9  private_host  private_identity  \\\n",
       "2021-05-26 23:31:28.527000+00:00  174.139038             1              MTM2   \n",
       "2021-05-26 23:31:28.577000+00:00  174.093338             1              MTM2   \n",
       "2021-05-26 23:31:28.627000+00:00  174.184723             1              MTM2   \n",
       "2021-05-26 23:31:28.677000+00:00  174.174576             1              MTM2   \n",
       "2021-05-26 23:31:28.727000+00:00  174.184723             1              MTM2   \n",
       "...                                      ...           ...               ...   \n",
       "2021-05-26 23:48:08.282000+00:00  178.657639             1              MTM2   \n",
       "2021-05-26 23:48:08.331000+00:00  178.738876             1              MTM2   \n",
       "2021-05-26 23:48:08.379000+00:00  178.708420             1              MTM2   \n",
       "2021-05-26 23:48:08.431000+00:00  178.769333             1              MTM2   \n",
       "2021-05-26 23:48:08.481000+00:00  178.809952             1              MTM2   \n",
       "\n",
       "                                  private_kafkaStamp  private_origin  \\\n",
       "2021-05-26 23:31:28.527000+00:00        1.622072e+09           14447   \n",
       "2021-05-26 23:31:28.577000+00:00        1.622072e+09           14447   \n",
       "2021-05-26 23:31:28.627000+00:00        1.622072e+09           14447   \n",
       "2021-05-26 23:31:28.677000+00:00        1.622072e+09           14447   \n",
       "2021-05-26 23:31:28.727000+00:00        1.622072e+09           14447   \n",
       "...                                              ...             ...   \n",
       "2021-05-26 23:48:08.282000+00:00        1.622073e+09           14447   \n",
       "2021-05-26 23:48:08.331000+00:00        1.622073e+09           14447   \n",
       "2021-05-26 23:48:08.379000+00:00        1.622073e+09           14447   \n",
       "2021-05-26 23:48:08.431000+00:00        1.622073e+09           14447   \n",
       "2021-05-26 23:48:08.481000+00:00        1.622073e+09           14447   \n",
       "\n",
       "                                  private_rcvStamp  private_revCode  \\\n",
       "2021-05-26 23:31:28.527000+00:00      1.622072e+09         1272f82f   \n",
       "2021-05-26 23:31:28.577000+00:00      1.622072e+09         1272f82f   \n",
       "2021-05-26 23:31:28.627000+00:00      1.622072e+09         1272f82f   \n",
       "2021-05-26 23:31:28.677000+00:00      1.622072e+09         1272f82f   \n",
       "2021-05-26 23:31:28.727000+00:00      1.622072e+09         1272f82f   \n",
       "...                                            ...              ...   \n",
       "2021-05-26 23:48:08.282000+00:00      1.622073e+09         1272f82f   \n",
       "2021-05-26 23:48:08.331000+00:00      1.622073e+09         1272f82f   \n",
       "2021-05-26 23:48:08.379000+00:00      1.622073e+09         1272f82f   \n",
       "2021-05-26 23:48:08.431000+00:00      1.622073e+09         1272f82f   \n",
       "2021-05-26 23:48:08.481000+00:00      1.622073e+09         1272f82f   \n",
       "\n",
       "                                  private_seqNum  private_sndStamp  \n",
       "2021-05-26 23:31:28.527000+00:00          361524      1.622072e+09  \n",
       "2021-05-26 23:31:28.577000+00:00          361525      1.622072e+09  \n",
       "2021-05-26 23:31:28.627000+00:00          361526      1.622072e+09  \n",
       "2021-05-26 23:31:28.677000+00:00          361527      1.622072e+09  \n",
       "2021-05-26 23:31:28.727000+00:00          361528      1.622072e+09  \n",
       "...                                          ...               ...  \n",
       "2021-05-26 23:48:08.282000+00:00          381519      1.622073e+09  \n",
       "2021-05-26 23:48:08.331000+00:00          381520      1.622073e+09  \n",
       "2021-05-26 23:48:08.379000+00:00          381521      1.622073e+09  \n",
       "2021-05-26 23:48:08.431000+00:00          381522      1.622073e+09  \n",
       "2021-05-26 23:48:08.481000+00:00          381523      1.622073e+09  \n",
       "\n",
       "[20000 rows x 368 columns]"
      ]
     },
     "execution_count": 30,
     "metadata": {},
     "output_type": "execute_result"
    }
   ],
   "source": [
    "dfm2"
   ]
  },
  {
   "cell_type": "code",
   "execution_count": 28,
   "id": "75a8ae8e",
   "metadata": {
    "collapsed": true,
    "jupyter": {
     "outputs_hidden": true
    }
   },
   "outputs": [
    {
     "name": "stderr",
     "output_type": "stream",
     "text": [
      "powerSupplyData DDS read queue is full (100 elements); data may be lost\n",
      "tangentEncoderPositions DDS read queue is full (100 elements); data may be lost\n",
      "application DDS read queue is filling: 72 of 100 elements\n",
      "actuators DDS read queue is filling: 70 of 100 elements\n",
      "pidData DDS read queue is full (100 elements); data may be lost\n",
      "tangentActuatorSteps DDS read queue is full (100 elements); data may be lost\n",
      "actuators DDS read queue is filling: 78 of 100 elements\n",
      "electrical DDS read queue is filling: 80 of 100 elements\n",
      "inclinometerData DDS read queue is full (100 elements); data may be lost\n",
      "electrical DDS read queue is filling: 76 of 100 elements\n",
      "netMomentsTotal DDS read queue is full (100 elements); data may be lost\n",
      "application DDS read queue is filling: 81 of 100 elements\n",
      "imsData DDS read queue is full (100 elements); data may be lost\n",
      "netForcesTotal DDS read queue is full (100 elements); data may be lost\n",
      "hardpointMonitorData DDS read queue is full (100 elements); data may be lost\n",
      "ilcData DDS read queue is full (100 elements); data may be lost\n",
      "hardpointActuatorData DDS read queue is full (100 elements); data may be lost\n",
      "forceBalance DDS read queue is full (100 elements); data may be lost\n",
      "displacementSensors DDS read queue is full (100 elements); data may be lost\n",
      "forceActuatorData DDS read queue is full (100 elements); data may be lost\n",
      "axialEncoderPositions DDS read queue is full (100 elements); data may be lost\n",
      "accelerometerData DDS read queue is full (100 elements); data may be lost\n",
      "axialActuatorSteps DDS read queue is full (100 elements); data may be lost\n",
      "zenithAngle DDS read queue is full (100 elements); data may be lost\n",
      "temperature DDS read queue is full (100 elements); data may be lost\n",
      "tangentForce DDS read queue is full (100 elements); data may be lost\n",
      "powerStatus DDS read queue is full (100 elements); data may be lost\n",
      "positionIMS DDS read queue is full (100 elements); data may be lost\n",
      "position DDS read queue is full (100 elements); data may be lost\n",
      "axialForce DDS read queue is full (100 elements); data may be lost\n",
      "forceActuatorWarning DDS read queue is full (100 elements); data may be lost\n",
      "appliedThermalForces DDS read queue is full (100 elements); data may be lost\n",
      "appliedStaticForces DDS read queue is full (100 elements); data may be lost\n",
      "appliedForces DDS read queue is full (100 elements); data may be lost\n",
      "appliedElevationForces DDS read queue is full (100 elements); data may be lost\n",
      "appliedCylinderForces DDS read queue is full (100 elements); data may be lost\n",
      "appliedBalanceForces DDS read queue is full (100 elements); data may be lost\n",
      "appliedAzimuthForces DDS read queue is full (100 elements); data may be lost\n",
      "appliedActiveOpticForces DDS read queue is full (100 elements); data may be lost\n",
      "appliedAberrationForces DDS read queue is full (100 elements); data may be lost\n",
      "electrical DDS read queue is filling: 15 of 100 elements\n",
      "electrical DDS read queue is filling: 33 of 100 elements\n",
      "application DDS read queue is filling: 36 of 100 elements\n",
      "powerSupplyData DDS read queue is full (100 elements); data may be lost\n",
      "application DDS read queue is filling: 36 of 100 elements\n",
      "actuators DDS read queue is filling: 36 of 100 elements\n",
      "actuators DDS read queue is filling: 37 of 100 elements\n",
      "pidData DDS read queue is full (100 elements); data may be lost\n",
      "inclinometerData DDS read queue is full (100 elements); data may be lost\n",
      "imsData DDS read queue is full (100 elements); data may be lost\n",
      "hardpointMonitorData DDS read queue is full (100 elements); data may be lost\n",
      "hardpointActuatorData DDS read queue is full (100 elements); data may be lost\n",
      "forceActuatorData DDS read queue is full (100 elements); data may be lost\n",
      "accelerometerData DDS read queue is full (100 elements); data may be lost\n",
      "forceActuatorWarning DDS read queue is full (100 elements); data may be lost\n",
      "appliedThermalForces DDS read queue is full (100 elements); data may be lost\n",
      "appliedStaticForces DDS read queue is full (100 elements); data may be lost\n",
      "appliedForces DDS read queue is full (100 elements); data may be lost\n",
      "appliedElevationForces DDS read queue is full (100 elements); data may be lost\n",
      "appliedCylinderForces DDS read queue is full (100 elements); data may be lost\n",
      "appliedBalanceForces DDS read queue is full (100 elements); data may be lost\n",
      "appliedAzimuthForces DDS read queue is full (100 elements); data may be lost\n",
      "appliedActiveOpticForces DDS read queue is full (100 elements); data may be lost\n",
      "appliedAberrationForces DDS read queue is full (100 elements); data may be lost\n",
      "Note: NumExpr detected 32 cores but \"NUMEXPR_MAX_THREADS\" not set, so enforcing safe limit of 8.\n",
      "NumExpr defaulting to 8 threads.\n"
     ]
    },
    {
     "data": {
      "text/plain": [
       "<matplotlib.legend.Legend at 0x7fee715c77c0>"
      ]
     },
     "execution_count": 28,
     "metadata": {},
     "output_type": "execute_result"
    },
    {
     "data": {
      "image/png": "[encoded data removed]",
      "text/plain": [
       "<Figure size 1080x288 with 1 Axes>"
      ]
     },
     "metadata": {
      "needs_background": "light"
     },
     "output_type": "display_data"
    }
   ],
   "source": [
    "dfm = await client.select_time_series('lsst.sal.MTMount.elevation', '*', start, end, csc_index)\n",
    "dfm1m3 = await client.select_time_series('lsst.sal.MTM1M3.logevent_appliedElevationForces', '*', start, end, csc_index)\n",
    "dfm2 = await client.select_time_series('lsst.sal.MTM2.axialForce', '*', start, end, csc_index)\n",
    "dfh = await client.select_time_series('lsst.sal.MTHexapod.application', '*', start, end, csc_index)\n",
    "\n",
    "idx1=dfh.MTHexapodID==1\n",
    "dfh1 = dfh[idx1]\n",
    "idx2=dfh.MTHexapodID==2\n",
    "dfh2 = dfh[idx2]"
   ]
  },
  {
   "cell_type": "code",
   "execution_count": 35,
   "id": "17f030e0",
   "metadata": {},
   "outputs": [
    {
     "data": {
      "text/plain": [
       "Text(0.5, 1.0, 'Changes in telemetry')"
      ]
     },
     "execution_count": 35,
     "metadata": {},
     "output_type": "execute_result"
    },
    {
     "data": {
      "image/png": "[encoded data removed]",
      "text/plain": [
       "<Figure size 1080x288 with 1 Axes>"
      ]
     },
     "metadata": {
      "needs_background": "light"
     },
     "output_type": "display_data"
    }
   ],
   "source": [
    "fig, ax = plt.subplots(1,1, figsize=(15,4))\n",
    "plt.plot((dfm.actualPosition-dfm.actualPosition[0])*100, '--', label='mount elevation x 100 (deg)')\n",
    "plt.plot(dfm1m3.yForces0-dfm1m3.yForces0[0], label='M1M3 elevation y-force 101 (N)')\n",
    "plt.plot((dfm2.lutGravity0-dfm2.lutGravity0[0])*10, label='M2 elevation force B1 x 10 (N)')\n",
    "plt.plot(dfh1.position1-dfh1.position1[0], label='Camera hexapod y (um)')\n",
    "plt.plot(dfh2.position1-dfh2.position1[0], label='M2 hexapod y (um)')\n",
    "plt.grid()\n",
    "plt.legend()\n",
    "plt.title('Changes in telemetry')"
   ]
  },
  {
   "cell_type": "markdown",
   "id": "20279db7",
   "metadata": {},
   "source": [
    "#### Check if the telescope is in tracking mode. If yes, need to stop stacking.\n",
    "\n",
    "The alternative is to check \"MT Mount status\" dash board on Chronograf. Make sure there are three \"False\"."
   ]
  },
  {
   "cell_type": "code",
   "execution_count": 79,
   "id": "889df026",
   "metadata": {},
   "outputs": [
    {
     "name": "stdout",
     "output_type": "stream",
     "text": [
      "Are we tracking? False\n"
     ]
    }
   ],
   "source": [
    "mountStatus = await mount.evt_axesInPosition.aget(timeout=5.)\n",
    "rotStatus = await rot.evt_inPosition.aget(timeout=5.)\n",
    "trackingStatus = mountStatus.elevation and mountStatus.azimuth and rotStatus.inPosition\n",
    "print('Are we tracking?', trackingStatus)"
   ]
  },
  {
   "cell_type": "code",
   "execution_count": 72,
   "id": "611d0c91",
   "metadata": {},
   "outputs": [],
   "source": [
    "await mtcs.stop_tracking()"
   ]
  },
  {
   "cell_type": "markdown",
   "id": "65ef2dd4",
   "metadata": {},
   "source": [
    "### put mount elevation back to 90 deg, so that we can lower M1M3"
   ]
  },
  {
   "cell_type": "code",
   "execution_count": 150,
   "id": "d0912275",
   "metadata": {},
   "outputs": [],
   "source": [
    "aa = await mount.tel_elevation.next(flush=True, timeout=5.)\n",
    "current_el = aa.actualPosition"
   ]
  },
  {
   "cell_type": "code",
   "execution_count": 46,
   "id": "aeb79f56",
   "metadata": {},
   "outputs": [
    {
     "name": "stdout",
     "output_type": "stream",
     "text": [
      "This will run for 356 seconds\n"
     ]
    }
   ],
   "source": [
    "await moveMountConstantV(mount,current_el, 90)"
   ]
  },
  {
   "cell_type": "code",
   "execution_count": 47,
   "id": "aaedeb10",
   "metadata": {},
   "outputs": [
    {
     "name": "stdout",
     "output_type": "stream",
     "text": [
      "m1m3 state DetailedState.LOWERING 2021-07-06 21:28:49.669873408\n",
      "m1m3 state DetailedState.PARKED 2021-07-06 21:31:08.029315584\n"
     ]
    }
   ],
   "source": [
    "await lowerM1M3(m1m3)"
   ]
  },
  {
   "cell_type": "markdown",
   "id": "2884f68c",
   "metadata": {},
   "source": [
    "#### Close up. Put all simulators to standby"
   ]
  },
  {
   "cell_type": "code",
   "execution_count": 77,
   "id": "ef5a53f7",
   "metadata": {},
   "outputs": [
    {
     "data": {
      "text/plain": [
       "[<State.ENABLED: 2>, <State.DISABLED: 1>, <State.STANDBY: 5>]"
      ]
     },
     "execution_count": 77,
     "metadata": {},
     "output_type": "execute_result"
    }
   ],
   "source": [
    "await salobj.set_summary_state(ptg, salobj.State.STANDBY)"
   ]
  },
  {
   "cell_type": "code",
   "execution_count": 50,
   "id": "1e8ee27e",
   "metadata": {},
   "outputs": [
    {
     "data": {
      "text/plain": [
       "[<State.STANDBY: 5>, <State.OFFLINE: 4>]"
      ]
     },
     "execution_count": 50,
     "metadata": {},
     "output_type": "execute_result"
    }
   ],
   "source": [
    "await salobj.set_summary_state(rot, salobj.State.OFFLINE)"
   ]
  },
  {
   "cell_type": "code",
   "execution_count": 51,
   "id": "94b1b9b9",
   "metadata": {},
   "outputs": [
    {
     "data": {
      "text/plain": [
       "[<State.ENABLED: 2>, <State.DISABLED: 1>, <State.STANDBY: 5>]"
      ]
     },
     "execution_count": 51,
     "metadata": {},
     "output_type": "execute_result"
    },
    {
     "name": "stdout",
     "output_type": "stream",
     "text": [
      "30: Camera cable wrap telemetry is too old: dt=1.007572889328003; abs(dt) > 1\n"
     ]
    }
   ],
   "source": [
    "await salobj.set_summary_state(mount, salobj.State.STANDBY)"
   ]
  },
  {
   "cell_type": "code",
   "execution_count": 169,
   "id": "30af8bb7",
   "metadata": {},
   "outputs": [
    {
     "data": {
      "text/plain": [
       "[<State.STANDBY: 5>, <State.OFFLINE: 4>]"
      ]
     },
     "execution_count": 169,
     "metadata": {},
     "output_type": "execute_result"
    }
   ],
   "source": [
    "await salobj.set_summary_state(camhex, salobj.State.STANDBY)"
   ]
  },
  {
   "cell_type": "code",
   "execution_count": 73,
   "id": "ae47ef91",
   "metadata": {},
   "outputs": [
    {
     "data": {
      "text/plain": [
       "[<State.ENABLED: 2>, <State.DISABLED: 1>, <State.STANDBY: 5>]"
      ]
     },
     "execution_count": 73,
     "metadata": {},
     "output_type": "execute_result"
    }
   ],
   "source": [
    "await salobj.set_summary_state(m2hex, salobj.State.STANDBY)"
   ]
  },
  {
   "cell_type": "code",
   "execution_count": 75,
   "id": "0380b4b1",
   "metadata": {},
   "outputs": [
    {
     "ename": "RuntimeError",
     "evalue": "Error on cmd=cmd_standby, initial_state=2: msg='Command failed', ackcmd=(ackcmd private_seqNum=1839302522, ack=<SalRetCode.CMD_FAILED: -302>, error=0, result='Complete : Failed')",
     "output_type": "error",
     "traceback": [
      "\u001b[0;31m---------------------------------------------------------------------------\u001b[0m",
      "\u001b[0;31mAckError\u001b[0m                                  Traceback (most recent call last)",
      "\u001b[0;32m/opt/lsst/software/stack/conda/miniconda3-py38_4.9.2/envs/lsst-scipipe-0.6.0/lib/python3.8/site-packages/lsst/ts/salobj/csc_utils.py\u001b[0m in \u001b[0;36mset_summary_state\u001b[0;34m(remote, state, settingsToApply, timeout)\u001b[0m\n\u001b[1;32m    147\u001b[0m             \u001b[0;32mtry\u001b[0m\u001b[0;34m:\u001b[0m\u001b[0;34m\u001b[0m\u001b[0;34m\u001b[0m\u001b[0m\n\u001b[0;32m--> 148\u001b[0;31m                 \u001b[0;32mawait\u001b[0m \u001b[0mcmd\u001b[0m\u001b[0;34m.\u001b[0m\u001b[0mstart\u001b[0m\u001b[0;34m(\u001b[0m\u001b[0mtimeout\u001b[0m\u001b[0;34m=\u001b[0m\u001b[0mtimeout\u001b[0m\u001b[0;34m)\u001b[0m\u001b[0;34m\u001b[0m\u001b[0;34m\u001b[0m\u001b[0m\n\u001b[0m\u001b[1;32m    149\u001b[0m             \u001b[0;32mexcept\u001b[0m \u001b[0mException\u001b[0m \u001b[0;32mas\u001b[0m \u001b[0me\u001b[0m\u001b[0;34m:\u001b[0m\u001b[0;34m\u001b[0m\u001b[0;34m\u001b[0m\u001b[0m\n",
      "\u001b[0;32m/opt/lsst/software/stack/conda/miniconda3-py38_4.9.2/envs/lsst-scipipe-0.6.0/lib/python3.8/site-packages/lsst/ts/salobj/topics/remote_command.py\u001b[0m in \u001b[0;36mstart\u001b[0;34m(self, data, timeout, wait_done)\u001b[0m\n\u001b[1;32m    448\u001b[0m         \u001b[0mself\u001b[0m\u001b[0;34m.\u001b[0m\u001b[0msalinfo\u001b[0m\u001b[0;34m.\u001b[0m\u001b[0m_running_cmds\u001b[0m\u001b[0;34m[\u001b[0m\u001b[0mseq_num\u001b[0m\u001b[0;34m]\u001b[0m \u001b[0;34m=\u001b[0m \u001b[0mcmd_info\u001b[0m\u001b[0;34m\u001b[0m\u001b[0;34m\u001b[0m\u001b[0m\n\u001b[0;32m--> 449\u001b[0;31m         \u001b[0;32mreturn\u001b[0m \u001b[0;32mawait\u001b[0m \u001b[0mcmd_info\u001b[0m\u001b[0;34m.\u001b[0m\u001b[0mnext_ackcmd\u001b[0m\u001b[0;34m(\u001b[0m\u001b[0mtimeout\u001b[0m\u001b[0;34m=\u001b[0m\u001b[0mtimeout\u001b[0m\u001b[0;34m)\u001b[0m\u001b[0;34m\u001b[0m\u001b[0;34m\u001b[0m\u001b[0m\n\u001b[0m",
      "\u001b[0;32m/opt/lsst/software/stack/conda/miniconda3-py38_4.9.2/envs/lsst-scipipe-0.6.0/lib/python3.8/site-packages/lsst/ts/salobj/topics/remote_command.py\u001b[0m in \u001b[0;36mnext_ackcmd\u001b[0;34m(self, timeout)\u001b[0m\n\u001b[1;32m    181\u001b[0m             \u001b[0;32mif\u001b[0m \u001b[0mackcmd\u001b[0m\u001b[0;34m.\u001b[0m\u001b[0mack\u001b[0m \u001b[0;32min\u001b[0m \u001b[0mself\u001b[0m\u001b[0;34m.\u001b[0m\u001b[0mfailed_ack_codes\u001b[0m\u001b[0;34m:\u001b[0m\u001b[0;34m\u001b[0m\u001b[0;34m\u001b[0m\u001b[0m\n\u001b[0;32m--> 182\u001b[0;31m                 \u001b[0;32mraise\u001b[0m \u001b[0mbase\u001b[0m\u001b[0;34m.\u001b[0m\u001b[0mAckError\u001b[0m\u001b[0;34m(\u001b[0m\u001b[0mmsg\u001b[0m\u001b[0;34m=\u001b[0m\u001b[0;34m\"Command failed\"\u001b[0m\u001b[0;34m,\u001b[0m \u001b[0mackcmd\u001b[0m\u001b[0;34m=\u001b[0m\u001b[0mackcmd\u001b[0m\u001b[0;34m)\u001b[0m\u001b[0;34m\u001b[0m\u001b[0;34m\u001b[0m\u001b[0m\n\u001b[0m\u001b[1;32m    183\u001b[0m             \u001b[0;32mreturn\u001b[0m \u001b[0mackcmd\u001b[0m\u001b[0;34m\u001b[0m\u001b[0;34m\u001b[0m\u001b[0m\n",
      "\u001b[0;31mAckError\u001b[0m: msg='Command failed', ackcmd=(ackcmd private_seqNum=1839302522, ack=<SalRetCode.CMD_FAILED: -302>, error=0, result='Complete : Failed')",
      "\nThe above exception was the direct cause of the following exception:\n",
      "\u001b[0;31mRuntimeError\u001b[0m                              Traceback (most recent call last)",
      "\u001b[0;32m/tmp/ipykernel_1150/133457585.py\u001b[0m in \u001b[0;36m<module>\u001b[0;34m\u001b[0m\n\u001b[0;32m----> 1\u001b[0;31m \u001b[0;32mawait\u001b[0m \u001b[0msalobj\u001b[0m\u001b[0;34m.\u001b[0m\u001b[0mset_summary_state\u001b[0m\u001b[0;34m(\u001b[0m\u001b[0mm2\u001b[0m\u001b[0;34m,\u001b[0m \u001b[0msalobj\u001b[0m\u001b[0;34m.\u001b[0m\u001b[0mState\u001b[0m\u001b[0;34m.\u001b[0m\u001b[0mOFFLINE\u001b[0m\u001b[0;34m)\u001b[0m\u001b[0;34m\u001b[0m\u001b[0;34m\u001b[0m\u001b[0m\n\u001b[0m",
      "\u001b[0;32m/opt/lsst/software/stack/conda/miniconda3-py38_4.9.2/envs/lsst-scipipe-0.6.0/lib/python3.8/site-packages/lsst/ts/salobj/csc_utils.py\u001b[0m in \u001b[0;36mset_summary_state\u001b[0;34m(remote, state, settingsToApply, timeout)\u001b[0m\n\u001b[1;32m    148\u001b[0m                 \u001b[0;32mawait\u001b[0m \u001b[0mcmd\u001b[0m\u001b[0;34m.\u001b[0m\u001b[0mstart\u001b[0m\u001b[0;34m(\u001b[0m\u001b[0mtimeout\u001b[0m\u001b[0;34m=\u001b[0m\u001b[0mtimeout\u001b[0m\u001b[0;34m)\u001b[0m\u001b[0;34m\u001b[0m\u001b[0;34m\u001b[0m\u001b[0m\n\u001b[1;32m    149\u001b[0m             \u001b[0;32mexcept\u001b[0m \u001b[0mException\u001b[0m \u001b[0;32mas\u001b[0m \u001b[0me\u001b[0m\u001b[0;34m:\u001b[0m\u001b[0;34m\u001b[0m\u001b[0;34m\u001b[0m\u001b[0m\n\u001b[0;32m--> 150\u001b[0;31m                 raise RuntimeError(\n\u001b[0m\u001b[1;32m    151\u001b[0m                     \u001b[0;34mf\"Error on cmd=cmd_{command}, initial_state={current_state}: {e}\"\u001b[0m\u001b[0;34m\u001b[0m\u001b[0;34m\u001b[0m\u001b[0m\n\u001b[1;32m    152\u001b[0m                 ) from e\n",
      "\u001b[0;31mRuntimeError\u001b[0m: Error on cmd=cmd_standby, initial_state=2: msg='Command failed', ackcmd=(ackcmd private_seqNum=1839302522, ack=<SalRetCode.CMD_FAILED: -302>, error=0, result='Complete : Failed')"
     ]
    }
   ],
   "source": [
    "await salobj.set_summary_state(m2, salobj.State.OFFLINE)"
   ]
  },
  {
   "cell_type": "code",
   "execution_count": 76,
   "id": "97b1de12",
   "metadata": {},
   "outputs": [
    {
     "data": {
      "text/plain": [
       "[<State.STANDBY: 5>, <State.OFFLINE: 4>]"
      ]
     },
     "execution_count": 76,
     "metadata": {},
     "output_type": "execute_result"
    }
   ],
   "source": [
    "await salobj.set_summary_state(m1m3, salobj.State.OFFLINE)"
   ]
  },
  {
   "cell_type": "code",
   "execution_count": 179,
   "id": "6ba256ce",
   "metadata": {},
   "outputs": [
    {
     "data": {
      "text/plain": [
       "<ddsutil.MTRotator_ackcmd_55ad33c7 at 0x7f90f96f28b0>"
      ]
     },
     "execution_count": 179,
     "metadata": {},
     "output_type": "execute_result"
    }
   ],
   "source": [
    "await rot.cmd_clearError.set_start()"
   ]
  },
  {
   "cell_type": "code",
   "execution_count": 49,
   "id": "2a2efd19",
   "metadata": {},
   "outputs": [
    {
     "data": {
      "text/plain": [
       "<ddsutil.MTM2_ackcmd_e1052973 at 0x7fedb280c430>"
      ]
     },
     "execution_count": 49,
     "metadata": {},
     "output_type": "execute_result"
    }
   ],
   "source": [
    "await m2.cmd_exitControl.set_start()"
   ]
  },
  {
   "cell_type": "code",
   "execution_count": 172,
   "id": "fdfc0c00",
   "metadata": {},
   "outputs": [
    {
     "name": "stdout",
     "output_type": "stream",
     "text": [
      "starting with: M1M3 state State.OFFLINE 2021-07-01 23:39:29.483944192\n",
      "          detailed state DetailedState.OFFLINE 2021-07-01 23:39:29.484043008\n",
      "staring with: m2 state State.OFFLINE 2021-07-01 23:44:36.723612672\n",
      "staring with: cam hex state State.OFFLINE 2021-07-01 23:46:19.115761152\n",
      "          cam hex state EnabledSubstate.STATIONARY 2021-07-01 23:46:19.115953152\n",
      "staring with: M2 hex state State.STANDBY 2021-07-01 23:46:48.398805248\n",
      "          hex state EnabledSubstate.STATIONARY 2021-07-01 23:46:48.399011072\n"
     ]
    }
   ],
   "source": [
    "await checkAOSCompStates(m1m3,m2,camhex, m2hex)"
   ]
  },
  {
   "cell_type": "code",
   "execution_count": 192,
   "id": "d76c668c",
   "metadata": {},
   "outputs": [
    {
     "name": "stdout",
     "output_type": "stream",
     "text": [
      "staring with: ptg state State.STANDBY 2021-07-02 00:00:40.821129984\n",
      "staring with: mount state State.STANDBY 2021-07-02 00:00:36.661783552\n",
      "staring with: rot state State.OFFLINE 2021-07-02 00:00:25.158798336\n"
     ]
    }
   ],
   "source": [
    "await checkSlewCompStates(ptg,mount, rot)"
   ]
  },
  {
   "cell_type": "code",
   "execution_count": null,
   "id": "14efdb38",
   "metadata": {},
   "outputs": [],
   "source": []
  }
 ],
 "metadata": {
  "kernelspec": {
   "display_name": "LSST",
   "language": "python",
   "name": "lsst"
  },
  "language_info": {
   "codemirror_mode": {
    "name": "ipython",
    "version": 3
   },
   "file_extension": ".py",
   "mimetype": "text/x-python",
   "name": "python",
   "nbconvert_exporter": "python",
   "pygments_lexer": "ipython3",
   "version": "3.8.8"
  }
 },
 "nbformat": 4,
 "nbformat_minor": 5
}
