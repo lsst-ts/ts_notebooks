{
 "cells": [
  {
   "cell_type": "markdown",
   "id": "611db2ad",
   "metadata": {},
   "source": [
    "### This notebooks uses EFD data to demonstrate the unexpected behavior we see when we issue the addAberration command twice in a row."
   ]
  },
  {
   "cell_type": "markdown",
   "id": "8f37fae9",
   "metadata": {},
   "source": [
    "use summit = 2 to demonstrate following potential problems:\n",
    "* evt_m2HexapodCorrection should correspond to aggregatedDOF instead of visitDOF\n",
    "\n",
    "use summit = 1 to demonstrate following potential problems:\n",
    "* 24s time off on MTAOS?\n",
    "* m1m3 ao force logevent is published at 50Hz?\n",
    "* are new corrections applied when I issue the z7 correction for the 2nd time?"
   ]
  },
  {
   "cell_type": "code",
   "execution_count": null,
   "id": "132cec93",
   "metadata": {},
   "outputs": [],
   "source": [
    "from astropy.time import Time\n",
    "import numpy as np\n",
    "import pandas as pd\n",
    "from matplotlib import pyplot as plt"
   ]
  },
  {
   "cell_type": "code",
   "execution_count": null,
   "id": "877f1fb8",
   "metadata": {},
   "outputs": [],
   "source": [
    "#summit = 1 #use this for summit testing\n",
    "summit = 2\n",
    "#summit = 0 #use this for NCSA"
   ]
  },
  {
   "cell_type": "code",
   "execution_count": null,
   "id": "a83c08f0",
   "metadata": {},
   "outputs": [],
   "source": [
    "from lsst_efd_client import EfdClient\n",
    "\n",
    "if summit:\n",
    "    #client = EfdClient('summit_efd')\n",
    "    client = EfdClient('ldf_stable_efd')\n",
    "    if summit == 1:\n",
    "        start = Time('2021-05-14T18:23:30', scale = 'tai')\n",
    "        end = Time('2021-05-14T18:28:30', scale = 'tai')\n",
    "    else:\n",
    "        start = Time('2021-05-14T18:32:30', scale = 'tai')\n",
    "        end = Time('2021-05-14T18:37:30', scale = 'tai')\n",
    "else:\n",
    "    client = EfdClient('ncsa_teststand_efd')\n",
    "    start = Time('2021-05-14T18:23:30', scale = 'tai')\n",
    "    end = Time('2021-05-14T18:25:30', scale = 'tai')\n",
    "csc_index = 1"
   ]
  },
  {
   "cell_type": "code",
   "execution_count": null,
   "id": "3606938a",
   "metadata": {},
   "outputs": [],
   "source": [
    "dfca = await client.select_time_series('lsst.sal.MTAOS.command_addAberration', '*', start, end, csc_index)\n",
    "dfci = await client.select_time_series('lsst.sal.MTAOS.command_issueCorrection', '*', start, end, csc_index)\n",
    "dfdof = await client.select_time_series('lsst.sal.MTAOS.logevent_degreeOfFreedom','*', start, end, csc_index)\n",
    "dfsent = await client.select_time_series('lsst.sal.MTAOS.logevent_m2HexapodCorrection','*', start, end, csc_index)\n",
    "dfapp = await client.select_time_series('lsst.sal.MTHexapod.logevent_uncompensatedPosition','*', start, end, csc_index)\n",
    "dfapp = dfapp[dfapp.MTHexapodID==2]"
   ]
  },
  {
   "cell_type": "code",
   "execution_count": null,
   "id": "85560969",
   "metadata": {},
   "outputs": [],
   "source": [
    "fig, ax = plt.subplots(1,1, figsize=(15,4))\n",
    "plt.plot(dfca.wf3, 'x', label='addAberration Z7')\n",
    "plt.plot(dfci.private_host, 'v', label='issueCorrection')\n",
    "plt.plot(dfdof.aggregatedDoF2, 'o', markersize=20, label='aggregated M2 hexapod y motion (aggregatedDOF)')\n",
    "plt.plot(dfdof.visitDoF2, 'o', markersize=15, label='newly-commanded M2 hexapod y motion (visitDOF)')\n",
    "plt.plot(dfsent.y, 'o', label='M2 hexapod y correction calculated (evt_m2Correction)')\n",
    "plt.plot(dfapp.y, 'o', label='M2 hexapod y correction applied (hex.evt_uncompensatedPosition)')\n",
    "plt.legend(loc='lower center')\n",
    "plt.grid();"
   ]
  },
  {
   "cell_type": "code",
   "execution_count": null,
   "id": "a3f78f6f",
   "metadata": {},
   "outputs": [],
   "source": [
    "#was a new move command issued? summit = 1: No; summit = 2: yes\n",
    "dfapp"
   ]
  },
  {
   "cell_type": "markdown",
   "id": "0227e934",
   "metadata": {},
   "source": [
    "m2 hexapod did not receive a new move command?\n",
    "Let's check M2 forces"
   ]
  },
  {
   "cell_type": "code",
   "execution_count": null,
   "id": "2b1d1778",
   "metadata": {},
   "outputs": [],
   "source": [
    "dfsent = await client.select_time_series('lsst.sal.MTAOS.logevent_m2Correction','*', start, end, csc_index)\n",
    "dfapp = await client.select_time_series('lsst.sal.MTM2.axialForce','*', start, end, csc_index)"
   ]
  },
  {
   "cell_type": "code",
   "execution_count": null,
   "id": "4cec68ae",
   "metadata": {},
   "outputs": [],
   "source": [
    "fig, ax = plt.subplots(1,1, figsize=(15,4))\n",
    "plt.plot(dfca.wf3, 'x', label='addAberration Z7')\n",
    "plt.plot(dfci.private_host, 'v', label='issueCorrection')\n",
    "plt.plot(dfdof.aggregatedDoF35, 'o', markersize=20, label='aggregated M2 bending mode 6')\n",
    "plt.plot(dfdof.visitDoF35, 'o', markersize=15, label='newly-commanded M2 bending mode 6')\n",
    "plt.plot(dfsent.zForces10, 'o', label='M2 act 10 force calculated')\n",
    "plt.plot(dfapp.applied10, 'o', label='M2 act 10 force applied')\n",
    "plt.legend()\n",
    "plt.grid();"
   ]
  },
  {
   "cell_type": "code",
   "execution_count": null,
   "id": "5dad0b3b",
   "metadata": {},
   "outputs": [],
   "source": [
    "a = np.array(dfapp.applied10)\n",
    "idx = np.argmax(a>0.1)\n",
    "dfapp.index[idx]-dfsent.index[0]"
   ]
  },
  {
   "cell_type": "markdown",
   "id": "cd31c97b",
   "metadata": {},
   "source": [
    "M2 doesn't acknowledge new force commands anyway. Let's look at M1M3"
   ]
  },
  {
   "cell_type": "code",
   "execution_count": null,
   "id": "7843ce3a",
   "metadata": {},
   "outputs": [],
   "source": [
    "dfsent = await client.select_time_series('lsst.sal.MTAOS.logevent_m1m3Correction','*', start, end, csc_index)\n",
    "dfapp = await client.select_time_series('lsst.sal.MTM1M3.logevent_appliedActiveOpticForces','*', start, end, csc_index)"
   ]
  },
  {
   "cell_type": "code",
   "execution_count": null,
   "id": "a39e677e",
   "metadata": {},
   "outputs": [],
   "source": [
    "fig, ax = plt.subplots(1,1, figsize=(15,4))\n",
    "plt.plot(dfca.wf3, 'x', label='addAberration Z7')\n",
    "plt.plot(dfci.private_host, 'v', label='issueCorrection')\n",
    "plt.plot(dfdof.aggregatedDoF16, 'o', markersize=20, label='aggregated M1M3 bending mode 7')\n",
    "plt.plot(dfdof.visitDoF16, 'o', markersize=15, label='newly-commanded M1M3 bending mode 7')\n",
    "plt.plot(dfsent.zForces19, 'o', label='M1M3 act 20 force calculated')\n",
    "plt.plot(dfapp.zForces19, 'o', label='M1M3 act 20 force applied')\n",
    "plt.legend()\n",
    "plt.grid();"
   ]
  },
  {
   "cell_type": "code",
   "execution_count": null,
   "id": "ca0ff3ac",
   "metadata": {},
   "outputs": [],
   "source": [
    "ddd = await client.select_time_series('lsst.sal.MTM1M3.logevent_appliedActiveOpticForces','*', start, end, csc_index)"
   ]
  },
  {
   "cell_type": "code",
   "execution_count": null,
   "id": "4eb86e55",
   "metadata": {},
   "outputs": [],
   "source": [
    "dfapp"
   ]
  },
  {
   "cell_type": "code",
   "execution_count": null,
   "id": "4154c459",
   "metadata": {},
   "outputs": [],
   "source": [
    "ddd = await client.select_time_series('lsst.sal.MTM1M3.logevent_appliedActiveOpticForces','*', start, end, csc_index)"
   ]
  },
  {
   "cell_type": "code",
   "execution_count": null,
   "id": "b4b3bf56",
   "metadata": {},
   "outputs": [],
   "source": [
    "a = np.array(dfapp.zForces19)\n",
    "idx = np.argmax(a>1)\n",
    "dfapp.index[idx]-dfsent.index[0]"
   ]
  },
  {
   "cell_type": "code",
   "execution_count": null,
   "id": "95c45831",
   "metadata": {},
   "outputs": [],
   "source": [
    "dfapp.private_sndStamp[idx]-dfsent.private_sndStamp[0]"
   ]
  },
  {
   "cell_type": "markdown",
   "id": "4d6dcdeb",
   "metadata": {},
   "source": [
    "Are we continuously publishing logevent_appliedActiveOpticForces? We shouldn't."
   ]
  }
 ],
 "metadata": {
  "kernelspec": {
   "display_name": "LSST",
   "language": "python",
   "name": "lsst"
  },
  "language_info": {
   "codemirror_mode": {
    "name": "ipython",
    "version": 3
   },
   "file_extension": ".py",
   "mimetype": "text/x-python",
   "name": "python",
   "nbconvert_exporter": "python",
   "pygments_lexer": "ipython3",
   "version": "3.8.8"
  }
 },
 "nbformat": 4,
 "nbformat_minor": 5
}
