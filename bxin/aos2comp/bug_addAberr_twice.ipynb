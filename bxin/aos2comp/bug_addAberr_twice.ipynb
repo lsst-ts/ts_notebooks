{
 "cells": [
  {
   "cell_type": "markdown",
   "id": "7ced34fe",
   "metadata": {},
   "source": [
    "### This notebooks uses EFD data to demonstrate the unexpected behavior we see when we issue the addAberration command twice in a row."
   ]
  },
  {
   "cell_type": "markdown",
   "id": "b1a516e5",
   "metadata": {},
   "source": [
    "* 24s time off on MTAOS?\n",
    "* m1m3 ao force logevent is published at 50Hz?\n",
    "* are new corrections applied when I issue the z7 correction for the 2nd time?"
   ]
  },
  {
   "cell_type": "code",
   "execution_count": 83,
   "id": "65466bad",
   "metadata": {},
   "outputs": [],
   "source": [
    "from astropy.time import Time\n",
    "import numpy as np\n",
    "import pandas as pd\n",
    "from matplotlib import pyplot as plt"
   ]
  },
  {
   "cell_type": "code",
   "execution_count": 15,
   "id": "d9acfe13",
   "metadata": {},
   "outputs": [],
   "source": [
    "summit = 1 #use this for summit testing\n",
    "#summit = 0 #use this for NCSA"
   ]
  },
  {
   "cell_type": "code",
   "execution_count": 66,
   "id": "0e7f806f",
   "metadata": {},
   "outputs": [],
   "source": [
    "from lsst_efd_client import EfdClient\n",
    "\n",
    "if summit:\n",
    "    client = EfdClient('summit_efd')\n",
    "    start = Time('2021-05-14T18:23:30', scale = 'tai')\n",
    "    end = Time('2021-05-14T18:28:30', scale = 'tai')\n",
    "else:\n",
    "    client = EfdClient('ncsa_teststand_efd')\n",
    "    start = Time('2021-05-14T18:23:30', scale = 'tai')\n",
    "    end = Time('2021-05-14T18:25:30', scale = 'tai')\n",
    "csc_index = 1"
   ]
  },
  {
   "cell_type": "code",
   "execution_count": 67,
   "id": "993ed6e6",
   "metadata": {},
   "outputs": [],
   "source": [
    "dfca = await client.select_time_series('lsst.sal.MTAOS.command_addAberration', '*', start, end, csc_index)\n",
    "dfci = await client.select_time_series('lsst.sal.MTAOS.command_issueCorrection', '*', start, end, csc_index)\n",
    "dfdof = await client.select_time_series('lsst.sal.MTAOS.logevent_degreeOfFreedom','*', start, end, csc_index)\n",
    "dfsent = await client.select_time_series('lsst.sal.MTAOS.logevent_m2HexapodCorrection','*', start, end, csc_index)\n",
    "dfapp = await client.select_time_series('lsst.sal.MTHexapod.logevent_uncompensatedPosition','*', start, end, csc_index)\n",
    "dfapp = dfapp[dfapp.MTHexapodID==2]"
   ]
  },
  {
   "cell_type": "code",
   "execution_count": 68,
   "id": "a213474c",
   "metadata": {},
   "outputs": [
    {
     "data": {
      "text/plain": [
       "<matplotlib.legend.Legend at 0x7f79e5a9b7c0>"
      ]
     },
     "execution_count": 68,
     "metadata": {},
     "output_type": "execute_result"
    },
    {
     "data": {
      "image/png": "[encoded data removed]",
      "text/plain": [
       "<Figure size 1080x288 with 1 Axes>"
      ]
     },
     "metadata": {
      "needs_background": "light"
     },
     "output_type": "display_data"
    }
   ],
   "source": [
    "fig, ax = plt.subplots(1,1, figsize=(15,4))\n",
    "plt.plot(dfca.wf3, 'x', label='addAberration Z7')\n",
    "plt.plot(dfci.private_host, 'v', label='issueCorrection')\n",
    "plt.plot(dfdof.aggregatedDoF2, 'o', markersize=20, label='aggregated M2 hexapod y motion')\n",
    "plt.plot(dfdof.visitDoF2, 'o', markersize=15, label='newly-commanded M2 hexapod y motion')\n",
    "plt.plot(dfsent.y, 'o', label='M2 hexapod y correction calculated')\n",
    "plt.plot(dfapp.y, 'o', label='M2 hexapod y correction applied')\n",
    "plt.legend()\n",
    "plt.grid();"
   ]
  },
  {
   "cell_type": "code",
   "execution_count": 70,
   "id": "c0e805e7",
   "metadata": {},
   "outputs": [
    {
     "data": {
      "text/html": [
       "<div>\n",
       "<style scoped>\n",
       "    .dataframe tbody tr th:only-of-type {\n",
       "        vertical-align: middle;\n",
       "    }\n",
       "\n",
       "    .dataframe tbody tr th {\n",
       "        vertical-align: top;\n",
       "    }\n",
       "\n",
       "    .dataframe thead th {\n",
       "        text-align: right;\n",
       "    }\n",
       "</style>\n",
       "<table border=\"1\" class=\"dataframe\">\n",
       "  <thead>\n",
       "    <tr style=\"text-align: right;\">\n",
       "      <th></th>\n",
       "      <th>MTHexapodID</th>\n",
       "      <th>priority</th>\n",
       "      <th>private_host</th>\n",
       "      <th>private_identity</th>\n",
       "      <th>private_kafkaStamp</th>\n",
       "      <th>private_origin</th>\n",
       "      <th>private_rcvStamp</th>\n",
       "      <th>private_revCode</th>\n",
       "      <th>private_seqNum</th>\n",
       "      <th>private_sndStamp</th>\n",
       "      <th>u</th>\n",
       "      <th>v</th>\n",
       "      <th>w</th>\n",
       "      <th>x</th>\n",
       "      <th>y</th>\n",
       "      <th>z</th>\n",
       "    </tr>\n",
       "  </thead>\n",
       "  <tbody>\n",
       "    <tr>\n",
       "      <th>2021-05-14 18:24:43.192000+00:00</th>\n",
       "      <td>2</td>\n",
       "      <td>0</td>\n",
       "      <td>0</td>\n",
       "      <td>MTHexapod:2</td>\n",
       "      <td>1.621017e+09</td>\n",
       "      <td>28024</td>\n",
       "      <td>1.621017e+09</td>\n",
       "      <td>3723d561</td>\n",
       "      <td>8</td>\n",
       "      <td>1.621017e+09</td>\n",
       "      <td>0.003293</td>\n",
       "      <td>0.000002</td>\n",
       "      <td>0</td>\n",
       "      <td>-0.054919</td>\n",
       "      <td>-71.85236</td>\n",
       "      <td>-0.169121</td>\n",
       "    </tr>\n",
       "  </tbody>\n",
       "</table>\n",
       "</div>"
      ],
      "text/plain": [
       "                                  MTHexapodID  priority  private_host  \\\n",
       "2021-05-14 18:24:43.192000+00:00            2         0             0   \n",
       "\n",
       "                                 private_identity  private_kafkaStamp  \\\n",
       "2021-05-14 18:24:43.192000+00:00      MTHexapod:2        1.621017e+09   \n",
       "\n",
       "                                  private_origin  private_rcvStamp  \\\n",
       "2021-05-14 18:24:43.192000+00:00           28024      1.621017e+09   \n",
       "\n",
       "                                 private_revCode  private_seqNum  \\\n",
       "2021-05-14 18:24:43.192000+00:00        3723d561               8   \n",
       "\n",
       "                                  private_sndStamp         u         v  w  \\\n",
       "2021-05-14 18:24:43.192000+00:00      1.621017e+09  0.003293  0.000002  0   \n",
       "\n",
       "                                         x         y         z  \n",
       "2021-05-14 18:24:43.192000+00:00 -0.054919 -71.85236 -0.169121  "
      ]
     },
     "execution_count": 70,
     "metadata": {},
     "output_type": "execute_result"
    }
   ],
   "source": [
    "#was a new move command issued? No\n",
    "dfapp"
   ]
  },
  {
   "cell_type": "markdown",
   "id": "34e4046c",
   "metadata": {},
   "source": [
    "m2 hexapod did not receive a new move command?\n",
    "Let's check M2 forces"
   ]
  },
  {
   "cell_type": "code",
   "execution_count": 71,
   "id": "7c05f446",
   "metadata": {},
   "outputs": [
    {
     "name": "stderr",
     "output_type": "stream",
     "text": [
      "Unclosed client session\n",
      "client_session: <aiohttp.client.ClientSession object at 0x7f79ebebbd30>\n"
     ]
    }
   ],
   "source": [
    "dfsent = await client.select_time_series('lsst.sal.MTAOS.logevent_m2Correction','*', start, end, csc_index)\n",
    "dfapp = await client.select_time_series('lsst.sal.MTM2.axialForce','*', start, end, csc_index)"
   ]
  },
  {
   "cell_type": "code",
   "execution_count": 99,
   "id": "336615a0",
   "metadata": {},
   "outputs": [
    {
     "data": {
      "image/png": "[encoded data removed]",
      "text/plain": [
       "<Figure size 1080x288 with 1 Axes>"
      ]
     },
     "metadata": {
      "needs_background": "light"
     },
     "output_type": "display_data"
    }
   ],
   "source": [
    "fig, ax = plt.subplots(1,1, figsize=(15,4))\n",
    "plt.plot(dfca.wf3, 'x', label='addAberration Z7')\n",
    "plt.plot(dfci.private_host, 'v', label='issueCorrection')\n",
    "plt.plot(dfdof.aggregatedDoF35, 'o', markersize=20, label='aggregated M2 bending mode 6')\n",
    "plt.plot(dfdof.visitDoF35, 'o', markersize=15, label='newly-commanded M2 bending mode 6')\n",
    "plt.plot(dfsent.zForces10, 'o', label='M2 act 10 force calculated')\n",
    "plt.plot(dfapp.applied10, 'o', label='M2 act 10 force applied')\n",
    "plt.legend()\n",
    "plt.grid();"
   ]
  },
  {
   "cell_type": "code",
   "execution_count": 98,
   "id": "85fc7d20",
   "metadata": {},
   "outputs": [
    {
     "data": {
      "text/plain": [
       "Timedelta('0 days 00:00:24.356000')"
      ]
     },
     "execution_count": 98,
     "metadata": {},
     "output_type": "execute_result"
    }
   ],
   "source": [
    "a = np.array(dfapp.applied10)\n",
    "idx = np.argmax(a>0.1)\n",
    "dfapp.index[idx]-dfsent.index[0]"
   ]
  },
  {
   "cell_type": "markdown",
   "id": "f6b9a674",
   "metadata": {},
   "source": [
    "M2 doesn't acknowledge new force commands anyway. Let's look at M1M3"
   ]
  },
  {
   "cell_type": "code",
   "execution_count": 111,
   "id": "29e6fce8",
   "metadata": {},
   "outputs": [],
   "source": [
    "dfsent = await client.select_time_series('lsst.sal.MTAOS.logevent_m1m3Correction','*', start, end, csc_index)\n",
    "dfapp = await client.select_time_series('lsst.sal.MTM1M3.logevent_appliedActiveOpticForces','*', start, end, csc_index)"
   ]
  },
  {
   "cell_type": "code",
   "execution_count": 113,
   "id": "c9fad266",
   "metadata": {},
   "outputs": [
    {
     "data": {
      "image/png": "[encoded data removed]",
      "text/plain": [
       "<Figure size 1080x288 with 1 Axes>"
      ]
     },
     "metadata": {
      "needs_background": "light"
     },
     "output_type": "display_data"
    }
   ],
   "source": [
    "fig, ax = plt.subplots(1,1, figsize=(15,4))\n",
    "plt.plot(dfca.wf3, 'x', label='addAberration Z7')\n",
    "plt.plot(dfci.private_host, 'v', label='issueCorrection')\n",
    "plt.plot(dfdof.aggregatedDoF16, 'o', markersize=20, label='aggregated M1M3 bending mode 7')\n",
    "plt.plot(dfdof.visitDoF16, 'o', markersize=15, label='newly-commanded M1M3 bending mode 7')\n",
    "plt.plot(dfsent.zForces19, 'o', label='M1M3 act 20 force calculated')\n",
    "plt.plot(dfapp.zForces19, 'o', label='M1M3 act 20 force applied')\n",
    "plt.legend()\n",
    "plt.grid();"
   ]
  },
  {
   "cell_type": "code",
   "execution_count": null,
   "id": "c0bc64f5",
   "metadata": {},
   "outputs": [],
   "source": [
    "ddd = await client.select_time_series('lsst.sal.MTM1M3.logevent_appliedActiveOpticForces','*', start, end, csc_index)"
   ]
  },
  {
   "cell_type": "code",
   "execution_count": 118,
   "id": "0c6b8480",
   "metadata": {},
   "outputs": [
    {
     "data": {
      "text/html": [
       "<div>\n",
       "<style scoped>\n",
       "    .dataframe tbody tr th:only-of-type {\n",
       "        vertical-align: middle;\n",
       "    }\n",
       "\n",
       "    .dataframe tbody tr th {\n",
       "        vertical-align: top;\n",
       "    }\n",
       "\n",
       "    .dataframe thead th {\n",
       "        text-align: right;\n",
       "    }\n",
       "</style>\n",
       "<table border=\"1\" class=\"dataframe\">\n",
       "  <thead>\n",
       "    <tr style=\"text-align: right;\">\n",
       "      <th></th>\n",
       "      <th>fz</th>\n",
       "      <th>mx</th>\n",
       "      <th>my</th>\n",
       "      <th>priority</th>\n",
       "      <th>private_host</th>\n",
       "      <th>private_identity</th>\n",
       "      <th>private_kafkaStamp</th>\n",
       "      <th>private_origin</th>\n",
       "      <th>private_rcvStamp</th>\n",
       "      <th>private_revCode</th>\n",
       "      <th>...</th>\n",
       "      <th>zForces90</th>\n",
       "      <th>zForces91</th>\n",
       "      <th>zForces92</th>\n",
       "      <th>zForces93</th>\n",
       "      <th>zForces94</th>\n",
       "      <th>zForces95</th>\n",
       "      <th>zForces96</th>\n",
       "      <th>zForces97</th>\n",
       "      <th>zForces98</th>\n",
       "      <th>zForces99</th>\n",
       "    </tr>\n",
       "  </thead>\n",
       "  <tbody>\n",
       "    <tr>\n",
       "      <th>2021-05-14 18:23:30.006000+00:00</th>\n",
       "      <td>0.000000</td>\n",
       "      <td>0.000000</td>\n",
       "      <td>0.000000</td>\n",
       "      <td>0</td>\n",
       "      <td>1</td>\n",
       "      <td>MTM1M3</td>\n",
       "      <td>1.621017e+09</td>\n",
       "      <td>816</td>\n",
       "      <td>1.621017e+09</td>\n",
       "      <td>903d068f</td>\n",
       "      <td>...</td>\n",
       "      <td>0.000000</td>\n",
       "      <td>0.000000</td>\n",
       "      <td>0.000000</td>\n",
       "      <td>0.000000</td>\n",
       "      <td>0.000000</td>\n",
       "      <td>0.000000</td>\n",
       "      <td>0.00000</td>\n",
       "      <td>0.000000</td>\n",
       "      <td>0.000000</td>\n",
       "      <td>0.000000</td>\n",
       "    </tr>\n",
       "    <tr>\n",
       "      <th>2021-05-14 18:23:30.026000+00:00</th>\n",
       "      <td>0.000000</td>\n",
       "      <td>0.000000</td>\n",
       "      <td>0.000000</td>\n",
       "      <td>0</td>\n",
       "      <td>1</td>\n",
       "      <td>MTM1M3</td>\n",
       "      <td>1.621017e+09</td>\n",
       "      <td>816</td>\n",
       "      <td>1.621017e+09</td>\n",
       "      <td>903d068f</td>\n",
       "      <td>...</td>\n",
       "      <td>0.000000</td>\n",
       "      <td>0.000000</td>\n",
       "      <td>0.000000</td>\n",
       "      <td>0.000000</td>\n",
       "      <td>0.000000</td>\n",
       "      <td>0.000000</td>\n",
       "      <td>0.00000</td>\n",
       "      <td>0.000000</td>\n",
       "      <td>0.000000</td>\n",
       "      <td>0.000000</td>\n",
       "    </tr>\n",
       "    <tr>\n",
       "      <th>2021-05-14 18:23:30.046000+00:00</th>\n",
       "      <td>0.000000</td>\n",
       "      <td>0.000000</td>\n",
       "      <td>0.000000</td>\n",
       "      <td>0</td>\n",
       "      <td>1</td>\n",
       "      <td>MTM1M3</td>\n",
       "      <td>1.621017e+09</td>\n",
       "      <td>816</td>\n",
       "      <td>1.621017e+09</td>\n",
       "      <td>903d068f</td>\n",
       "      <td>...</td>\n",
       "      <td>0.000000</td>\n",
       "      <td>0.000000</td>\n",
       "      <td>0.000000</td>\n",
       "      <td>0.000000</td>\n",
       "      <td>0.000000</td>\n",
       "      <td>0.000000</td>\n",
       "      <td>0.00000</td>\n",
       "      <td>0.000000</td>\n",
       "      <td>0.000000</td>\n",
       "      <td>0.000000</td>\n",
       "    </tr>\n",
       "    <tr>\n",
       "      <th>2021-05-14 18:23:30.066000+00:00</th>\n",
       "      <td>0.000000</td>\n",
       "      <td>0.000000</td>\n",
       "      <td>0.000000</td>\n",
       "      <td>0</td>\n",
       "      <td>1</td>\n",
       "      <td>MTM1M3</td>\n",
       "      <td>1.621017e+09</td>\n",
       "      <td>816</td>\n",
       "      <td>1.621017e+09</td>\n",
       "      <td>903d068f</td>\n",
       "      <td>...</td>\n",
       "      <td>0.000000</td>\n",
       "      <td>0.000000</td>\n",
       "      <td>0.000000</td>\n",
       "      <td>0.000000</td>\n",
       "      <td>0.000000</td>\n",
       "      <td>0.000000</td>\n",
       "      <td>0.00000</td>\n",
       "      <td>0.000000</td>\n",
       "      <td>0.000000</td>\n",
       "      <td>0.000000</td>\n",
       "    </tr>\n",
       "    <tr>\n",
       "      <th>2021-05-14 18:23:30.086000+00:00</th>\n",
       "      <td>0.000000</td>\n",
       "      <td>0.000000</td>\n",
       "      <td>0.000000</td>\n",
       "      <td>0</td>\n",
       "      <td>1</td>\n",
       "      <td>MTM1M3</td>\n",
       "      <td>1.621017e+09</td>\n",
       "      <td>816</td>\n",
       "      <td>1.621017e+09</td>\n",
       "      <td>903d068f</td>\n",
       "      <td>...</td>\n",
       "      <td>0.000000</td>\n",
       "      <td>0.000000</td>\n",
       "      <td>0.000000</td>\n",
       "      <td>0.000000</td>\n",
       "      <td>0.000000</td>\n",
       "      <td>0.000000</td>\n",
       "      <td>0.00000</td>\n",
       "      <td>0.000000</td>\n",
       "      <td>0.000000</td>\n",
       "      <td>0.000000</td>\n",
       "    </tr>\n",
       "    <tr>\n",
       "      <th>...</th>\n",
       "      <td>...</td>\n",
       "      <td>...</td>\n",
       "      <td>...</td>\n",
       "      <td>...</td>\n",
       "      <td>...</td>\n",
       "      <td>...</td>\n",
       "      <td>...</td>\n",
       "      <td>...</td>\n",
       "      <td>...</td>\n",
       "      <td>...</td>\n",
       "      <td>...</td>\n",
       "      <td>...</td>\n",
       "      <td>...</td>\n",
       "      <td>...</td>\n",
       "      <td>...</td>\n",
       "      <td>...</td>\n",
       "      <td>...</td>\n",
       "      <td>...</td>\n",
       "      <td>...</td>\n",
       "      <td>...</td>\n",
       "      <td>...</td>\n",
       "    </tr>\n",
       "    <tr>\n",
       "      <th>2021-05-14 18:28:29.908000+00:00</th>\n",
       "      <td>0.000036</td>\n",
       "      <td>-0.000038</td>\n",
       "      <td>-0.000008</td>\n",
       "      <td>0</td>\n",
       "      <td>1</td>\n",
       "      <td>MTM1M3</td>\n",
       "      <td>1.621017e+09</td>\n",
       "      <td>816</td>\n",
       "      <td>1.621017e+09</td>\n",
       "      <td>903d068f</td>\n",
       "      <td>...</td>\n",
       "      <td>-11.661302</td>\n",
       "      <td>-11.331948</td>\n",
       "      <td>-9.270344</td>\n",
       "      <td>-5.895171</td>\n",
       "      <td>-2.168063</td>\n",
       "      <td>1.233521</td>\n",
       "      <td>2.49719</td>\n",
       "      <td>-14.729892</td>\n",
       "      <td>-12.314339</td>\n",
       "      <td>-8.315075</td>\n",
       "    </tr>\n",
       "    <tr>\n",
       "      <th>2021-05-14 18:28:29.928000+00:00</th>\n",
       "      <td>0.000036</td>\n",
       "      <td>-0.000038</td>\n",
       "      <td>-0.000008</td>\n",
       "      <td>0</td>\n",
       "      <td>1</td>\n",
       "      <td>MTM1M3</td>\n",
       "      <td>1.621017e+09</td>\n",
       "      <td>816</td>\n",
       "      <td>1.621017e+09</td>\n",
       "      <td>903d068f</td>\n",
       "      <td>...</td>\n",
       "      <td>-11.661302</td>\n",
       "      <td>-11.331948</td>\n",
       "      <td>-9.270344</td>\n",
       "      <td>-5.895171</td>\n",
       "      <td>-2.168063</td>\n",
       "      <td>1.233521</td>\n",
       "      <td>2.49719</td>\n",
       "      <td>-14.729892</td>\n",
       "      <td>-12.314339</td>\n",
       "      <td>-8.315075</td>\n",
       "    </tr>\n",
       "    <tr>\n",
       "      <th>2021-05-14 18:28:29.948000+00:00</th>\n",
       "      <td>0.000036</td>\n",
       "      <td>-0.000038</td>\n",
       "      <td>-0.000008</td>\n",
       "      <td>0</td>\n",
       "      <td>1</td>\n",
       "      <td>MTM1M3</td>\n",
       "      <td>1.621017e+09</td>\n",
       "      <td>816</td>\n",
       "      <td>1.621017e+09</td>\n",
       "      <td>903d068f</td>\n",
       "      <td>...</td>\n",
       "      <td>-11.661302</td>\n",
       "      <td>-11.331948</td>\n",
       "      <td>-9.270344</td>\n",
       "      <td>-5.895171</td>\n",
       "      <td>-2.168063</td>\n",
       "      <td>1.233521</td>\n",
       "      <td>2.49719</td>\n",
       "      <td>-14.729892</td>\n",
       "      <td>-12.314339</td>\n",
       "      <td>-8.315075</td>\n",
       "    </tr>\n",
       "    <tr>\n",
       "      <th>2021-05-14 18:28:29.968000+00:00</th>\n",
       "      <td>0.000036</td>\n",
       "      <td>-0.000038</td>\n",
       "      <td>-0.000008</td>\n",
       "      <td>0</td>\n",
       "      <td>1</td>\n",
       "      <td>MTM1M3</td>\n",
       "      <td>1.621017e+09</td>\n",
       "      <td>816</td>\n",
       "      <td>1.621017e+09</td>\n",
       "      <td>903d068f</td>\n",
       "      <td>...</td>\n",
       "      <td>-11.661302</td>\n",
       "      <td>-11.331948</td>\n",
       "      <td>-9.270344</td>\n",
       "      <td>-5.895171</td>\n",
       "      <td>-2.168063</td>\n",
       "      <td>1.233521</td>\n",
       "      <td>2.49719</td>\n",
       "      <td>-14.729892</td>\n",
       "      <td>-12.314339</td>\n",
       "      <td>-8.315075</td>\n",
       "    </tr>\n",
       "    <tr>\n",
       "      <th>2021-05-14 18:28:29.988000+00:00</th>\n",
       "      <td>0.000036</td>\n",
       "      <td>-0.000038</td>\n",
       "      <td>-0.000008</td>\n",
       "      <td>0</td>\n",
       "      <td>1</td>\n",
       "      <td>MTM1M3</td>\n",
       "      <td>1.621017e+09</td>\n",
       "      <td>816</td>\n",
       "      <td>1.621017e+09</td>\n",
       "      <td>903d068f</td>\n",
       "      <td>...</td>\n",
       "      <td>-11.661302</td>\n",
       "      <td>-11.331948</td>\n",
       "      <td>-9.270344</td>\n",
       "      <td>-5.895171</td>\n",
       "      <td>-2.168063</td>\n",
       "      <td>1.233521</td>\n",
       "      <td>2.49719</td>\n",
       "      <td>-14.729892</td>\n",
       "      <td>-12.314339</td>\n",
       "      <td>-8.315075</td>\n",
       "    </tr>\n",
       "  </tbody>\n",
       "</table>\n",
       "<p>15000 rows × 169 columns</p>\n",
       "</div>"
      ],
      "text/plain": [
       "                                        fz        mx        my  priority  \\\n",
       "2021-05-14 18:23:30.006000+00:00  0.000000  0.000000  0.000000         0   \n",
       "2021-05-14 18:23:30.026000+00:00  0.000000  0.000000  0.000000         0   \n",
       "2021-05-14 18:23:30.046000+00:00  0.000000  0.000000  0.000000         0   \n",
       "2021-05-14 18:23:30.066000+00:00  0.000000  0.000000  0.000000         0   \n",
       "2021-05-14 18:23:30.086000+00:00  0.000000  0.000000  0.000000         0   \n",
       "...                                    ...       ...       ...       ...   \n",
       "2021-05-14 18:28:29.908000+00:00  0.000036 -0.000038 -0.000008         0   \n",
       "2021-05-14 18:28:29.928000+00:00  0.000036 -0.000038 -0.000008         0   \n",
       "2021-05-14 18:28:29.948000+00:00  0.000036 -0.000038 -0.000008         0   \n",
       "2021-05-14 18:28:29.968000+00:00  0.000036 -0.000038 -0.000008         0   \n",
       "2021-05-14 18:28:29.988000+00:00  0.000036 -0.000038 -0.000008         0   \n",
       "\n",
       "                                  private_host private_identity  \\\n",
       "2021-05-14 18:23:30.006000+00:00             1           MTM1M3   \n",
       "2021-05-14 18:23:30.026000+00:00             1           MTM1M3   \n",
       "2021-05-14 18:23:30.046000+00:00             1           MTM1M3   \n",
       "2021-05-14 18:23:30.066000+00:00             1           MTM1M3   \n",
       "2021-05-14 18:23:30.086000+00:00             1           MTM1M3   \n",
       "...                                        ...              ...   \n",
       "2021-05-14 18:28:29.908000+00:00             1           MTM1M3   \n",
       "2021-05-14 18:28:29.928000+00:00             1           MTM1M3   \n",
       "2021-05-14 18:28:29.948000+00:00             1           MTM1M3   \n",
       "2021-05-14 18:28:29.968000+00:00             1           MTM1M3   \n",
       "2021-05-14 18:28:29.988000+00:00             1           MTM1M3   \n",
       "\n",
       "                                  private_kafkaStamp  private_origin  \\\n",
       "2021-05-14 18:23:30.006000+00:00        1.621017e+09             816   \n",
       "2021-05-14 18:23:30.026000+00:00        1.621017e+09             816   \n",
       "2021-05-14 18:23:30.046000+00:00        1.621017e+09             816   \n",
       "2021-05-14 18:23:30.066000+00:00        1.621017e+09             816   \n",
       "2021-05-14 18:23:30.086000+00:00        1.621017e+09             816   \n",
       "...                                              ...             ...   \n",
       "2021-05-14 18:28:29.908000+00:00        1.621017e+09             816   \n",
       "2021-05-14 18:28:29.928000+00:00        1.621017e+09             816   \n",
       "2021-05-14 18:28:29.948000+00:00        1.621017e+09             816   \n",
       "2021-05-14 18:28:29.968000+00:00        1.621017e+09             816   \n",
       "2021-05-14 18:28:29.988000+00:00        1.621017e+09             816   \n",
       "\n",
       "                                  private_rcvStamp private_revCode  ...  \\\n",
       "2021-05-14 18:23:30.006000+00:00      1.621017e+09        903d068f  ...   \n",
       "2021-05-14 18:23:30.026000+00:00      1.621017e+09        903d068f  ...   \n",
       "2021-05-14 18:23:30.046000+00:00      1.621017e+09        903d068f  ...   \n",
       "2021-05-14 18:23:30.066000+00:00      1.621017e+09        903d068f  ...   \n",
       "2021-05-14 18:23:30.086000+00:00      1.621017e+09        903d068f  ...   \n",
       "...                                            ...             ...  ...   \n",
       "2021-05-14 18:28:29.908000+00:00      1.621017e+09        903d068f  ...   \n",
       "2021-05-14 18:28:29.928000+00:00      1.621017e+09        903d068f  ...   \n",
       "2021-05-14 18:28:29.948000+00:00      1.621017e+09        903d068f  ...   \n",
       "2021-05-14 18:28:29.968000+00:00      1.621017e+09        903d068f  ...   \n",
       "2021-05-14 18:28:29.988000+00:00      1.621017e+09        903d068f  ...   \n",
       "\n",
       "                                  zForces90  zForces91  zForces92  zForces93  \\\n",
       "2021-05-14 18:23:30.006000+00:00   0.000000   0.000000   0.000000   0.000000   \n",
       "2021-05-14 18:23:30.026000+00:00   0.000000   0.000000   0.000000   0.000000   \n",
       "2021-05-14 18:23:30.046000+00:00   0.000000   0.000000   0.000000   0.000000   \n",
       "2021-05-14 18:23:30.066000+00:00   0.000000   0.000000   0.000000   0.000000   \n",
       "2021-05-14 18:23:30.086000+00:00   0.000000   0.000000   0.000000   0.000000   \n",
       "...                                     ...        ...        ...        ...   \n",
       "2021-05-14 18:28:29.908000+00:00 -11.661302 -11.331948  -9.270344  -5.895171   \n",
       "2021-05-14 18:28:29.928000+00:00 -11.661302 -11.331948  -9.270344  -5.895171   \n",
       "2021-05-14 18:28:29.948000+00:00 -11.661302 -11.331948  -9.270344  -5.895171   \n",
       "2021-05-14 18:28:29.968000+00:00 -11.661302 -11.331948  -9.270344  -5.895171   \n",
       "2021-05-14 18:28:29.988000+00:00 -11.661302 -11.331948  -9.270344  -5.895171   \n",
       "\n",
       "                                  zForces94  zForces95  zForces96  zForces97  \\\n",
       "2021-05-14 18:23:30.006000+00:00   0.000000   0.000000    0.00000   0.000000   \n",
       "2021-05-14 18:23:30.026000+00:00   0.000000   0.000000    0.00000   0.000000   \n",
       "2021-05-14 18:23:30.046000+00:00   0.000000   0.000000    0.00000   0.000000   \n",
       "2021-05-14 18:23:30.066000+00:00   0.000000   0.000000    0.00000   0.000000   \n",
       "2021-05-14 18:23:30.086000+00:00   0.000000   0.000000    0.00000   0.000000   \n",
       "...                                     ...        ...        ...        ...   \n",
       "2021-05-14 18:28:29.908000+00:00  -2.168063   1.233521    2.49719 -14.729892   \n",
       "2021-05-14 18:28:29.928000+00:00  -2.168063   1.233521    2.49719 -14.729892   \n",
       "2021-05-14 18:28:29.948000+00:00  -2.168063   1.233521    2.49719 -14.729892   \n",
       "2021-05-14 18:28:29.968000+00:00  -2.168063   1.233521    2.49719 -14.729892   \n",
       "2021-05-14 18:28:29.988000+00:00  -2.168063   1.233521    2.49719 -14.729892   \n",
       "\n",
       "                                  zForces98  zForces99  \n",
       "2021-05-14 18:23:30.006000+00:00   0.000000   0.000000  \n",
       "2021-05-14 18:23:30.026000+00:00   0.000000   0.000000  \n",
       "2021-05-14 18:23:30.046000+00:00   0.000000   0.000000  \n",
       "2021-05-14 18:23:30.066000+00:00   0.000000   0.000000  \n",
       "2021-05-14 18:23:30.086000+00:00   0.000000   0.000000  \n",
       "...                                     ...        ...  \n",
       "2021-05-14 18:28:29.908000+00:00 -12.314339  -8.315075  \n",
       "2021-05-14 18:28:29.928000+00:00 -12.314339  -8.315075  \n",
       "2021-05-14 18:28:29.948000+00:00 -12.314339  -8.315075  \n",
       "2021-05-14 18:28:29.968000+00:00 -12.314339  -8.315075  \n",
       "2021-05-14 18:28:29.988000+00:00 -12.314339  -8.315075  \n",
       "\n",
       "[15000 rows x 169 columns]"
      ]
     },
     "execution_count": 118,
     "metadata": {},
     "output_type": "execute_result"
    }
   ],
   "source": [
    "dfapp"
   ]
  },
  {
   "cell_type": "code",
   "execution_count": 120,
   "id": "35591bda",
   "metadata": {},
   "outputs": [],
   "source": [
    "ddd = await client.select_time_series('lsst.sal.MTM1M3.logevent_appliedActiveOpticForces','*', start, end, csc_index)"
   ]
  },
  {
   "cell_type": "code",
   "execution_count": 123,
   "id": "4ed7e4cb",
   "metadata": {},
   "outputs": [
    {
     "data": {
      "text/plain": [
       "Timedelta('0 days 00:00:24.279000')"
      ]
     },
     "execution_count": 123,
     "metadata": {},
     "output_type": "execute_result"
    }
   ],
   "source": [
    "a = np.array(dfapp.zForces19)\n",
    "idx = np.argmax(a>1)\n",
    "dfapp.index[idx]-dfsent.index[0]"
   ]
  },
  {
   "cell_type": "code",
   "execution_count": 125,
   "id": "e2e396d5",
   "metadata": {},
   "outputs": [
    {
     "data": {
      "text/plain": [
       "24.278987169265747"
      ]
     },
     "execution_count": 125,
     "metadata": {},
     "output_type": "execute_result"
    }
   ],
   "source": [
    "dfapp.private_sndStamp[idx]-dfsent.private_sndStamp[0]"
   ]
  },
  {
   "cell_type": "markdown",
   "id": "7a4b6d03",
   "metadata": {},
   "source": [
    "Are we continuously publishing logevent_appliedActiveOpticForces? We shouldn't."
   ]
  }
 ],
 "metadata": {
  "kernelspec": {
   "display_name": "LSST",
   "language": "python",
   "name": "lsst"
  },
  "language_info": {
   "codemirror_mode": {
    "name": "ipython",
    "version": 3
   },
   "file_extension": ".py",
   "mimetype": "text/x-python",
   "name": "python",
   "nbconvert_exporter": "python",
   "pygments_lexer": "ipython3",
   "version": "3.8.8"
  }
 },
 "nbformat": 4,
 "nbformat_minor": 5
}
