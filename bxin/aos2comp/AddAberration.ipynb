{
 "cells": [
  {
   "cell_type": "markdown",
   "id": "48dc2b48",
   "metadata": {},
   "source": [
    "# MTAOS addAberration\n",
    "\n",
    "Notebooks to show how the addAberration command in MTAOS works.\n",
    "\n",
    "(using OFC code before Tiago's rewrite in April 2021)"
   ]
  },
  {
   "cell_type": "code",
   "execution_count": null,
   "id": "d27cb151",
   "metadata": {},
   "outputs": [],
   "source": [
    "%load_ext autoreload\n",
    "%autoreload 2"
   ]
  },
  {
   "cell_type": "code",
   "execution_count": null,
   "id": "27510437",
   "metadata": {},
   "outputs": [],
   "source": [
    "import numpy as np\n",
    "\n",
    "from lsst.ts.ofc.ctrlIntf.OFCCalculationFactory import OFCCalculationFactory\n",
    "from lsst.ts.wep.Utility import CamType\n",
    "from lsst.ts.ofc.Utility import getConfigDir, DofGroup, InstName\n",
    "from lsst.ts.ofc.ctrlIntf.FWHMSensorData import FWHMSensorData\n",
    "from lsst.ts.wep.ctrlIntf.MapSensorNameAndId import MapSensorNameAndId\n",
    "from lsst.ts.wep.ctrlIntf.SensorWavefrontError import SensorWavefrontError\n",
    "from lsst.ts.wep.Utility import FilterType\n",
    "from lsst.ts.wep.bsc.CamFactory import CamFactory\n",
    "from lsst.ts.MTAOS.CollOfListOfWfErr import CollOfListOfWfErr"
   ]
  },
  {
   "cell_type": "code",
   "execution_count": null,
   "id": "74cee38d",
   "metadata": {},
   "outputs": [],
   "source": [
    "getConfigDir()"
   ]
  },
  {
   "cell_type": "code",
   "execution_count": null,
   "id": "92a3c146",
   "metadata": {},
   "outputs": [],
   "source": [
    "#watch out, do not use from lsst.ts.wep.Utility.CamType.ComCam\n",
    "ofc = OFCCalculationFactory.getCalculator(InstName.COMCAM, None)"
   ]
  },
  {
   "cell_type": "code",
   "execution_count": null,
   "id": "494687dd",
   "metadata": {},
   "outputs": [],
   "source": [
    "ofc.ztaac.dataShare.getDofIdx()"
   ]
  },
  {
   "cell_type": "code",
   "execution_count": null,
   "id": "602acae2",
   "metadata": {},
   "outputs": [],
   "source": [
    "comcam = CamFactory.createCam(CamType.ComCam)"
   ]
  },
  {
   "cell_type": "code",
   "execution_count": null,
   "id": "fdf72007",
   "metadata": {},
   "outputs": [],
   "source": [
    "detectorList = comcam.getWfsCcdList()"
   ]
  },
  {
   "cell_type": "code",
   "execution_count": null,
   "id": "3a047626",
   "metadata": {},
   "outputs": [],
   "source": [
    "sensorIdList = ofc.ztaac.mapSensorNameToId(detectorList)"
   ]
  },
  {
   "cell_type": "code",
   "execution_count": null,
   "id": "9b6da095",
   "metadata": {},
   "outputs": [],
   "source": [
    "intrinsic_zk = ofc.ztaac.dataShare.getIntrinsicZk(FilterType.REF, ofc.ztaac.dataShare.getFieldIdx(detectorList))"
   ]
  },
  {
   "cell_type": "markdown",
   "id": "31e25274",
   "metadata": {},
   "source": [
    "## If you pass Intrinsic aberrations to OFC, you get all corrections = 0"
   ]
  },
  {
   "cell_type": "code",
   "execution_count": null,
   "id": "7f1c71c0",
   "metadata": {},
   "outputs": [],
   "source": [
    "listOfWfErr = []\n",
    "for sensorId, annularZernikePoly in zip(sensorIdList, intrinsic_zk):\n",
    "    #print(sensorId)\n",
    "    sensorWavefrontError = SensorWavefrontError(numOfZk=19)\n",
    "    sensorWavefrontError.setSensorId(sensorId)\n",
    "    sensorWavefrontError.setAnnularZernikePoly(annularZernikePoly)\n",
    "    listOfWfErr.append(sensorWavefrontError)"
   ]
  },
  {
   "cell_type": "code",
   "execution_count": null,
   "id": "13bb9f8b",
   "metadata": {},
   "outputs": [],
   "source": [
    "(\n",
    "    m2HexapodCorrection,\n",
    "    cameraHexapodCorrection,\n",
    "    m1m3Correction,\n",
    "    m2Correction,\n",
    ") = ofc.calculateCorrections(listOfWfErr)"
   ]
  },
  {
   "cell_type": "code",
   "execution_count": null,
   "id": "a62d8281",
   "metadata": {},
   "outputs": [],
   "source": [
    "print(m2HexapodCorrection.getCorrection())\n",
    "print(cameraHexapodCorrection.getCorrection())\n",
    "print(m1m3Correction.getZForces())\n",
    "print(m2Correction.getZForces())"
   ]
  },
  {
   "cell_type": "markdown",
   "id": "e593538b",
   "metadata": {},
   "source": [
    "### Add 1um z7 (We tell OFC that we measure intrinsic - (1um z7), so that it adds 1um z7 to go back to intrinsic"
   ]
  },
  {
   "cell_type": "code",
   "execution_count": null,
   "id": "d051e274",
   "metadata": {},
   "outputs": [],
   "source": [
    "add_coma = np.array(intrinsic_zk, copy=True)\n",
    "add_coma[:, 7-4] -= 1 #z4 has index 0\n",
    "\n",
    "listOfWfErr_coma = []\n",
    "for sensorId, annularZernikePoly in zip(sensorIdList, add_coma):\n",
    "    #print(sensorId)\n",
    "    sensorWavefrontError = SensorWavefrontError(numOfZk=19)\n",
    "    sensorWavefrontError.setSensorId(sensorId)\n",
    "    sensorWavefrontError.setAnnularZernikePoly(annularZernikePoly)\n",
    "    listOfWfErr_coma.append(sensorWavefrontError)\n",
    "    \n",
    "ofc = OFCCalculationFactory.getCalculator(InstName.COMCAM, None)\n",
    "\n",
    "(\n",
    "    m2HexapodCorrection_cx1,\n",
    "    cameraHexapodCorrection_cx1,\n",
    "    m1m3Correction_cx1,\n",
    "    m2Correction_cx1,\n",
    ") = ofc.calculateCorrections(listOfWfErr_coma)"
   ]
  },
  {
   "cell_type": "code",
   "execution_count": null,
   "id": "94c312e4",
   "metadata": {},
   "outputs": [],
   "source": [
    "print(m2HexapodCorrection_cx1.getCorrection())\n",
    "print(cameraHexapodCorrection_cx1.getCorrection())\n",
    "print(m1m3Correction_cx1.getZForces())\n",
    "print(m2Correction_cx1.getZForces())"
   ]
  },
  {
   "cell_type": "code",
   "execution_count": null,
   "id": "9ae6f21d",
   "metadata": {},
   "outputs": [],
   "source": [
    "(\n",
    "    m2HexapodCorrection_cx2,\n",
    "    cameraHexapodCorrection_cx2,\n",
    "    m1m3Correction_cx2,\n",
    "    m2Correction_cx2,\n",
    ") = ofc.calculateCorrections(listOfWfErr_coma)\n",
    "\n",
    "print(np.array(m2HexapodCorrection_cx2.getCorrection())[:5]/np.array(m2HexapodCorrection_cx1.getCorrection())[:5])"
   ]
  },
  {
   "cell_type": "markdown",
   "id": "c5407bd2",
   "metadata": {},
   "source": [
    "### This is because the default control strategy is \"x00\""
   ]
  },
  {
   "cell_type": "code",
   "execution_count": null,
   "id": "e65b5d9f",
   "metadata": {},
   "outputs": [],
   "source": [
    "ofc.ztaac.dataShare.xRef"
   ]
  },
  {
   "cell_type": "code",
   "execution_count": null,
   "id": "4f4b630a",
   "metadata": {},
   "outputs": [],
   "source": [
    "dofIdx = ofc.ztaac.dataShare.getDofIdx()\n",
    "print(ofc.ztaac.optCtrl.getState0(dofIdx))\n",
    "print(ofc.ztaac.optCtrl.getState(dofIdx))"
   ]
  },
  {
   "cell_type": "code",
   "execution_count": null,
   "id": "a0a23a25",
   "metadata": {},
   "outputs": [],
   "source": [
    "add_coma = np.array(intrinsic_zk, copy=True)\n",
    "add_coma[:, 7-4] -= 1 #z4 has index 0\n",
    "\n",
    "listOfWfErr_coma = []\n",
    "for sensorId, annularZernikePoly in zip(sensorIdList, add_coma):\n",
    "    #print(sensorId)\n",
    "    sensorWavefrontError = SensorWavefrontError(numOfZk=19)\n",
    "    sensorWavefrontError.setSensorId(sensorId)\n",
    "    sensorWavefrontError.setAnnularZernikePoly(annularZernikePoly)\n",
    "    listOfWfErr_coma.append(sensorWavefrontError)\n",
    "    \n",
    "ofc = OFCCalculationFactory.getCalculator(InstName.COMCAM, None)\n",
    "\n",
    "(\n",
    "    m2HexapodCorrection_cx1,\n",
    "    cameraHexapodCorrection_cx1,\n",
    "    m1m3Correction_cx1,\n",
    "    m2Correction_cx1,\n",
    ") = ofc.calculateCorrections(listOfWfErr_coma)\n",
    "\n",
    "state0 = np.zeros(ofc.ztaac.optCtrl.getNumOfState0())\n",
    "ofc.ztaac.optCtrl.setState(state0)\n",
    "\n",
    "(\n",
    "    m2HexapodCorrection_cx2,\n",
    "    cameraHexapodCorrection_cx2,\n",
    "    m1m3Correction_cx2,\n",
    "    m2Correction_cx2,\n",
    ") = ofc.calculateCorrections(listOfWfErr_coma)\n",
    "\n",
    "print(np.array(m2HexapodCorrection_cx2.getCorrection())[:5]/np.array(m2HexapodCorrection_cx1.getCorrection())[:5])"
   ]
  },
  {
   "cell_type": "markdown",
   "id": "400128c3",
   "metadata": {},
   "source": [
    "### What happens if we set control strategy to \"x0\""
   ]
  },
  {
   "cell_type": "code",
   "execution_count": null,
   "id": "15e0ba38",
   "metadata": {},
   "outputs": [],
   "source": [
    "ofc.ztaac.dataShare.xRef "
   ]
  },
  {
   "cell_type": "code",
   "execution_count": null,
   "id": "8bdf7951",
   "metadata": {},
   "outputs": [],
   "source": [
    "add_coma = np.array(intrinsic_zk, copy=True)\n",
    "add_coma[:, 7-4] -= 1 #z4 has index 0\n",
    "\n",
    "listOfWfErr_coma = []\n",
    "for sensorId, annularZernikePoly in zip(sensorIdList, add_coma):\n",
    "    #print(sensorId)\n",
    "    sensorWavefrontError = SensorWavefrontError(numOfZk=19)\n",
    "    sensorWavefrontError.setSensorId(sensorId)\n",
    "    sensorWavefrontError.setAnnularZernikePoly(annularZernikePoly)\n",
    "    listOfWfErr_coma.append(sensorWavefrontError)\n",
    "    \n",
    "ofc = OFCCalculationFactory.getCalculator(InstName.COMCAM, None)\n",
    "ofc.ztaac.dataShare.xRef = 'x0'\n",
    "\n",
    "(\n",
    "    m2HexapodCorrection_cx1,\n",
    "    cameraHexapodCorrection_cx1,\n",
    "    m1m3Correction_cx1,\n",
    "    m2Correction_cx1,\n",
    ") = ofc.calculateCorrections(listOfWfErr_coma)\n",
    "\n",
    "#state0 = np.zeros(ofc.ztaac.optCtrl.getNumOfState0())\n",
    "#ofc.ztaac.optCtrl.setState(state0)\n",
    "\n",
    "(\n",
    "    m2HexapodCorrection_cx2,\n",
    "    cameraHexapodCorrection_cx2,\n",
    "    m1m3Correction_cx2,\n",
    "    m2Correction_cx2,\n",
    ") = ofc.calculateCorrections(listOfWfErr_coma)\n",
    "\n",
    "print(np.array(m2HexapodCorrection_cx2.getCorrection())[:5]/np.array(m2HexapodCorrection_cx1.getCorrection())[:5])"
   ]
  },
  {
   "cell_type": "code",
   "execution_count": null,
   "id": "530132f7",
   "metadata": {},
   "outputs": [],
   "source": []
  },
  {
   "cell_type": "code",
   "execution_count": null,
   "id": "432baecb",
   "metadata": {},
   "outputs": [],
   "source": [
    "(\n",
    "    m2HexapodCorrection,\n",
    "    cameraHexapodCorrection,\n",
    "    m1m3Correction,\n",
    "    m2Correction,\n",
    ") = ofc.resetOfcState()"
   ]
  },
  {
   "cell_type": "code",
   "execution_count": null,
   "id": "acc466e5",
   "metadata": {},
   "outputs": [],
   "source": [
    "print(m2HexapodCorrection.getCorrection())\n",
    "print(cameraHexapodCorrection.getCorrection())\n",
    "print(m1m3Correction.getZForces())\n",
    "print(m2Correction.getZForces())"
   ]
  },
  {
   "cell_type": "code",
   "execution_count": null,
   "id": "c7f52b16",
   "metadata": {},
   "outputs": [],
   "source": []
  }
 ],
 "metadata": {
  "kernelspec": {
   "display_name": "LSST",
   "language": "python",
   "name": "lsst"
  },
  "language_info": {
   "codemirror_mode": {
    "name": "ipython",
    "version": 3
   },
   "file_extension": ".py",
   "mimetype": "text/x-python",
   "name": "python",
   "nbconvert_exporter": "python",
   "pygments_lexer": "ipython3",
   "version": "3.8.8"
  }
 },
 "nbformat": 4,
 "nbformat_minor": 5
}
