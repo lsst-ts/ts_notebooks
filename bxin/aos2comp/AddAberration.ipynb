{
 "cells": [
  {
   "cell_type": "markdown",
   "id": "aed2c038",
   "metadata": {},
   "source": [
    "# MTAOS addAberration\n",
    "\n",
    "Notebooks to show how the addAberration command in MTAOS works.\n",
    "\n",
    "(using OFC code before Tiago's rewrite in April 2021)"
   ]
  },
  {
   "cell_type": "code",
   "execution_count": null,
   "id": "4289f923",
   "metadata": {},
   "outputs": [],
   "source": [
    "%load_ext autoreload\n",
    "%autoreload 2"
   ]
  },
  {
   "cell_type": "code",
   "execution_count": 1,
   "id": "5d8862e4",
   "metadata": {},
   "outputs": [],
   "source": [
    "import numpy as np\n",
    "\n",
    "from lsst.ts.ofc.ctrlIntf.OFCCalculationFactory import OFCCalculationFactory\n",
    "from lsst.ts.wep.Utility import CamType\n",
    "from lsst.ts.ofc.Utility import getConfigDir, DofGroup, InstName\n",
    "from lsst.ts.ofc.ctrlIntf.FWHMSensorData import FWHMSensorData\n",
    "from lsst.ts.wep.ctrlIntf.MapSensorNameAndId import MapSensorNameAndId\n",
    "from lsst.ts.wep.ctrlIntf.SensorWavefrontError import SensorWavefrontError\n",
    "from lsst.ts.wep.Utility import FilterType\n",
    "from lsst.ts.wep.bsc.CamFactory import CamFactory\n",
    "from lsst.ts.MTAOS.CollOfListOfWfErr import CollOfListOfWfErr"
   ]
  },
  {
   "cell_type": "code",
   "execution_count": 2,
   "id": "d2c64670",
   "metadata": {},
   "outputs": [
    {
     "data": {
      "text/plain": [
       "'/home/bxin/lsst_stack/ts_ofc/policy'"
      ]
     },
     "execution_count": 2,
     "metadata": {},
     "output_type": "execute_result"
    }
   ],
   "source": [
    "getConfigDir()"
   ]
  },
  {
   "cell_type": "code",
   "execution_count": 3,
   "id": "2485ed7a",
   "metadata": {},
   "outputs": [],
   "source": [
    "#watch out, do not use from lsst.ts.wep.Utility.CamType.ComCam\n",
    "ofc = OFCCalculationFactory.getCalculator(InstName.COMCAM, None)"
   ]
  },
  {
   "cell_type": "code",
   "execution_count": 4,
   "id": "88d82b86",
   "metadata": {},
   "outputs": [
    {
     "data": {
      "text/plain": [
       "array([ 0,  1,  2,  3,  4,  5,  6,  7,  8,  9, 10, 11, 12, 13, 14, 15, 16,\n",
       "       17, 18, 19, 20, 21, 22, 23, 24, 25, 26, 27, 28, 29, 30, 31, 32, 33,\n",
       "       34, 35, 36, 37, 38, 39, 40, 41, 42, 43, 44, 45, 46, 47, 48, 49])"
      ]
     },
     "execution_count": 4,
     "metadata": {},
     "output_type": "execute_result"
    }
   ],
   "source": [
    "ofc.ztaac.dataShare.getDofIdx()"
   ]
  },
  {
   "cell_type": "code",
   "execution_count": 5,
   "id": "c50d7086",
   "metadata": {},
   "outputs": [
    {
     "name": "stderr",
     "output_type": "stream",
     "text": [
      "/home/bxin/lsst_stack/ts_wep/python/lsst/ts/wep/bsc/ComCam.py:34: FutureWarning: Gen2 Butler has been deprecated (LsstCamMapper). It will be removed sometime after v23.0 but no earlier than the end of 2021.\n",
      "  super(ComCam, self).__init__(LsstCamMapper().camera)\n"
     ]
    }
   ],
   "source": [
    "comcam = CamFactory.createCam(CamType.ComCam)"
   ]
  },
  {
   "cell_type": "code",
   "execution_count": 6,
   "id": "2a8c2e2b",
   "metadata": {},
   "outputs": [],
   "source": [
    "detectorList = comcam.getWfsCcdList()"
   ]
  },
  {
   "cell_type": "code",
   "execution_count": 7,
   "id": "625e2242",
   "metadata": {},
   "outputs": [],
   "source": [
    "sensorIdList = ofc.ztaac.mapSensorNameToId(detectorList)"
   ]
  },
  {
   "cell_type": "code",
   "execution_count": 8,
   "id": "eaf30ba1",
   "metadata": {},
   "outputs": [],
   "source": [
    "intrinsic_zk = ofc.ztaac.dataShare.getIntrinsicZk(FilterType.REF, ofc.ztaac.dataShare.getFieldIdx(detectorList))"
   ]
  },
  {
   "cell_type": "markdown",
   "id": "29857d05",
   "metadata": {},
   "source": [
    "## If you pass Intrinsic aberrations to OFC, you get all corrections = 0"
   ]
  },
  {
   "cell_type": "code",
   "execution_count": 9,
   "id": "76d60871",
   "metadata": {},
   "outputs": [],
   "source": [
    "listOfWfErr = []\n",
    "for sensorId, annularZernikePoly in zip(sensorIdList, intrinsic_zk):\n",
    "    #print(sensorId)\n",
    "    sensorWavefrontError = SensorWavefrontError(numOfZk=19)\n",
    "    sensorWavefrontError.setSensorId(sensorId)\n",
    "    sensorWavefrontError.setAnnularZernikePoly(annularZernikePoly)\n",
    "    listOfWfErr.append(sensorWavefrontError)"
   ]
  },
  {
   "cell_type": "code",
   "execution_count": 10,
   "id": "ed754aa9",
   "metadata": {},
   "outputs": [],
   "source": [
    "(\n",
    "    m2HexapodCorrection,\n",
    "    cameraHexapodCorrection,\n",
    "    m1m3Correction,\n",
    "    m2Correction,\n",
    ") = ofc.calculateCorrections(listOfWfErr)"
   ]
  },
  {
   "cell_type": "code",
   "execution_count": 11,
   "id": "1a9d0c54",
   "metadata": {},
   "outputs": [
    {
     "name": "stdout",
     "output_type": "stream",
     "text": [
      "(0.0, 0.0, 0.0, 0.0, 0.0, 0.0)\n",
      "(0.0, 0.0, 0.0, 0.0, 0.0, 0.0)\n",
      "[0. 0. 0. 0. 0. 0. 0. 0. 0. 0. 0. 0. 0. 0. 0. 0. 0. 0. 0. 0. 0. 0. 0. 0.\n",
      " 0. 0. 0. 0. 0. 0. 0. 0. 0. 0. 0. 0. 0. 0. 0. 0. 0. 0. 0. 0. 0. 0. 0. 0.\n",
      " 0. 0. 0. 0. 0. 0. 0. 0. 0. 0. 0. 0. 0. 0. 0. 0. 0. 0. 0. 0. 0. 0. 0. 0.\n",
      " 0. 0. 0. 0. 0. 0. 0. 0. 0. 0. 0. 0. 0. 0. 0. 0. 0. 0. 0. 0. 0. 0. 0. 0.\n",
      " 0. 0. 0. 0. 0. 0. 0. 0. 0. 0. 0. 0. 0. 0. 0. 0. 0. 0. 0. 0. 0. 0. 0. 0.\n",
      " 0. 0. 0. 0. 0. 0. 0. 0. 0. 0. 0. 0. 0. 0. 0. 0. 0. 0. 0. 0. 0. 0. 0. 0.\n",
      " 0. 0. 0. 0. 0. 0. 0. 0. 0. 0. 0. 0.]\n",
      "[0. 0. 0. 0. 0. 0. 0. 0. 0. 0. 0. 0. 0. 0. 0. 0. 0. 0. 0. 0. 0. 0. 0. 0.\n",
      " 0. 0. 0. 0. 0. 0. 0. 0. 0. 0. 0. 0. 0. 0. 0. 0. 0. 0. 0. 0. 0. 0. 0. 0.\n",
      " 0. 0. 0. 0. 0. 0. 0. 0. 0. 0. 0. 0. 0. 0. 0. 0. 0. 0. 0. 0. 0. 0. 0. 0.]\n"
     ]
    }
   ],
   "source": [
    "print(m2HexapodCorrection.getCorrection())\n",
    "print(cameraHexapodCorrection.getCorrection())\n",
    "print(m1m3Correction.getZForces())\n",
    "print(m2Correction.getZForces())"
   ]
  },
  {
   "cell_type": "markdown",
   "id": "d3246f6c",
   "metadata": {},
   "source": [
    "### Add 1um z7 (We tell OFC that we measure intrinsic - (1um z7), so that it adds 1um z7 to go back to intrinsic"
   ]
  },
  {
   "cell_type": "code",
   "execution_count": 12,
   "id": "b0e6cb67",
   "metadata": {},
   "outputs": [],
   "source": [
    "add_coma = np.array(intrinsic_zk, copy=True)\n",
    "add_coma[:, 7-4] -= 1 #z4 has index 0\n",
    "\n",
    "listOfWfErr_coma = []\n",
    "for sensorId, annularZernikePoly in zip(sensorIdList, add_coma):\n",
    "    #print(sensorId)\n",
    "    sensorWavefrontError = SensorWavefrontError(numOfZk=19)\n",
    "    sensorWavefrontError.setSensorId(sensorId)\n",
    "    sensorWavefrontError.setAnnularZernikePoly(annularZernikePoly)\n",
    "    listOfWfErr_coma.append(sensorWavefrontError)\n",
    "    \n",
    "ofc = OFCCalculationFactory.getCalculator(InstName.COMCAM, None)\n",
    "\n",
    "(\n",
    "    m2HexapodCorrection_cx1,\n",
    "    cameraHexapodCorrection_cx1,\n",
    "    m1m3Correction_cx1,\n",
    "    m2Correction_cx1,\n",
    ") = ofc.calculateCorrections(listOfWfErr_coma)"
   ]
  },
  {
   "cell_type": "code",
   "execution_count": 13,
   "id": "3d949879",
   "metadata": {},
   "outputs": [
    {
     "name": "stdout",
     "output_type": "stream",
     "text": [
      "(-0.05491948079476481, -71.8523602612489, -0.16912072688512814, 0.003293368961278743, 2.2676602850106736e-06, 0.0)\n",
      "(0.025150067821742523, 37.96873264721965, -0.008264539229012947, 0.00011663343158918227, 6.679176306937749e-07, 0.0)\n",
      "[ 1.80604649e-02 -2.28653820e-02 -2.78958470e-02 -2.29876715e-03\n",
      "  2.71762902e-02  4.98860752e-02  5.30540370e+00  5.58094341e+00\n",
      "  4.46250156e+00  2.58714223e+00  6.42585435e-01 -9.55541778e-01\n",
      "  1.15409302e+01  1.12497049e+01  9.23964800e+00  5.91740508e+00\n",
      "  2.22455424e+00 -1.15694359e+00 -2.40849502e+00  1.46352660e+01\n",
      "  1.22675876e+01  8.31374163e+00  3.52358705e+00 -1.24463344e+00\n",
      " -3.70137508e+00  1.31810208e+01  1.17674648e+01  8.16786179e+00\n",
      "  3.15621799e+00 -2.12836414e+00 -5.26547944e+00  7.16293880e+00\n",
      "  4.52300704e+00  2.51386719e-01 -4.50111134e+00 -6.59903821e+00\n",
      " -1.07200509e+00 -2.62840955e+00 -3.10125963e+00 -8.20224182e+00\n",
      " -9.76642508e+00 -9.37503030e+00 -8.88022064e+00  5.19863025e+00\n",
      "  5.48261576e+00  4.46030384e+00  2.63015538e+00  6.74518034e-01\n",
      " -9.54530488e-01  1.10700806e+01  9.10475313e+00  5.87705653e+00\n",
      "  2.23318900e+00 -1.14071769e+00 -2.40484336e+00  1.45059298e+01\n",
      "  1.20696099e+01  8.18454109e+00  3.48820642e+00 -1.22205085e+00\n",
      " -3.67078335e+00  1.16160082e+01  8.01661975e+00  3.08886975e+00\n",
      " -2.10811340e+00 -5.20275346e+00  7.09332542e+00  4.41054903e+00\n",
      "  1.82283934e-01 -4.48808929e+00 -6.53635430e+00 -1.09388860e+00\n",
      " -2.69069349e+00 -3.15688773e+00 -8.19677845e+00 -9.78571407e+00\n",
      " -9.41045576e+00 -8.90374749e+00 -5.87058798e-02 -1.23596478e-02\n",
      "  4.59774840e-02  6.47383945e-02  5.35145101e-02  4.05634195e-02\n",
      " -5.35880649e+00 -5.62662846e+00 -4.46360564e+00 -2.53935780e+00\n",
      " -5.66238801e-01  1.04392626e+00 -1.16613017e+01 -1.13319484e+01\n",
      " -9.27034410e+00 -5.89517127e+00 -2.16806337e+00  1.23352110e+00\n",
      "  2.49719055e+00 -1.47298915e+01 -1.23143389e+01 -8.31507505e+00\n",
      " -3.48894896e+00  1.30583881e+00  3.78174339e+00 -1.32592782e+01\n",
      " -1.18097163e+01 -8.17910708e+00 -3.13614563e+00  2.17705496e+00\n",
      "  5.33403914e+00 -7.19240500e+00 -4.52750746e+00 -2.32588465e-01\n",
      "  4.54384829e+00  6.65594237e+00  1.06198278e+00  2.64089383e+00\n",
      "  3.12740009e+00  8.24744353e+00  9.78223258e+00  9.40795855e+00\n",
      "  8.92103488e+00 -5.27696161e+00 -5.56276495e+00 -4.48889898e+00\n",
      " -2.60486830e+00 -6.15376273e-01  1.03166258e+00 -1.11981919e+01\n",
      " -9.18182056e+00 -5.89186083e+00 -2.20520239e+00  1.19821923e+00\n",
      "  2.48042461e+00 -1.46317646e+01 -1.21703322e+01 -8.23356249e+00\n",
      " -3.48650655e+00  1.26195470e+00  3.73823883e+00 -1.17037653e+01\n",
      " -8.08199181e+00 -3.10987112e+00  2.13164515e+00  5.25853725e+00\n",
      " -7.15073979e+00 -4.46835980e+00 -2.16042096e-01  4.49466681e+00\n",
      "  6.57159016e+00  1.07033996e+00  2.65659484e+00  3.12689501e+00\n",
      "  8.19157093e+00  9.78111471e+00  9.39272853e+00  8.88615976e+00]\n",
      "[-0.75918788 -0.74121886 -0.7043677  -0.63018212 -0.51826691 -0.39022147\n",
      " -0.24021156 -0.07901989  0.08376124  0.2417422   0.38842054  0.51632249\n",
      "  0.63131809  0.70852034  0.74466792  0.7583255   0.73764364  0.69937714\n",
      "  0.62593214  0.5168757   0.39255934  0.24556502  0.08541448 -0.07799886\n",
      " -0.23729783 -0.38515634 -0.51336478 -0.62811739 -0.70546685 -0.74305209\n",
      "  0.72252647  0.6779661   0.56878689  0.4186686   0.26150049  0.09210907\n",
      " -0.09004059 -0.26093361 -0.41809916 -0.56561648 -0.67310767 -0.72052619\n",
      " -0.72413614 -0.68063801 -0.57087408 -0.41862215 -0.25918656 -0.08902703\n",
      "  0.09224525  0.26179249  0.4183557   0.56627634  0.6740612   0.72058038\n",
      "  0.84060679  0.77878095  0.60951314  0.38963861  0.13690017 -0.13984047\n",
      " -0.39142101 -0.6081287  -0.77651794 -0.84347648 -0.78214311 -0.61251821\n",
      " -0.39157174 -0.13874263  0.13660961  0.38704577  0.60422502  0.77366344]\n"
     ]
    }
   ],
   "source": [
    "print(m2HexapodCorrection_cx1.getCorrection())\n",
    "print(cameraHexapodCorrection_cx1.getCorrection())\n",
    "print(m1m3Correction_cx1.getZForces())\n",
    "print(m2Correction_cx1.getZForces())"
   ]
  },
  {
   "cell_type": "code",
   "execution_count": 14,
   "id": "587671b7",
   "metadata": {},
   "outputs": [
    {
     "name": "stdout",
     "output_type": "stream",
     "text": [
      "[1.35653437 1.78411044 1.2802434  1.70934537 1.49842256]\n"
     ]
    }
   ],
   "source": [
    "(\n",
    "    m2HexapodCorrection_cx2,\n",
    "    cameraHexapodCorrection_cx2,\n",
    "    m1m3Correction_cx2,\n",
    "    m2Correction_cx2,\n",
    ") = ofc.calculateCorrections(listOfWfErr_coma)\n",
    "\n",
    "print(np.array(m2HexapodCorrection_cx2.getCorrection())[:5]/np.array(m2HexapodCorrection_cx1.getCorrection())[:5])"
   ]
  },
  {
   "cell_type": "markdown",
   "id": "bd7c82fe",
   "metadata": {},
   "source": [
    "### This is because the default control strategy is \"x00\""
   ]
  },
  {
   "cell_type": "code",
   "execution_count": 15,
   "id": "a92cc3ac",
   "metadata": {},
   "outputs": [
    {
     "data": {
      "text/plain": [
       "'x00'"
      ]
     },
     "execution_count": 15,
     "metadata": {},
     "output_type": "execute_result"
    }
   ],
   "source": [
    "ofc.ztaac.dataShare.xRef"
   ]
  },
  {
   "cell_type": "code",
   "execution_count": 16,
   "id": "93fd456d",
   "metadata": {},
   "outputs": [
    {
     "name": "stdout",
     "output_type": "stream",
     "text": [
      "[0. 0. 0. 0. 0. 0. 0. 0. 0. 0. 0. 0. 0. 0. 0. 0. 0. 0. 0. 0. 0. 0. 0. 0.\n",
      " 0. 0. 0. 0. 0. 0. 0. 0. 0. 0. 0. 0. 0. 0. 0. 0. 0. 0. 0. 0. 0. 0. 0. 0.\n",
      " 0. 0.]\n",
      "[ 2.16515694e-01  7.45001633e-02 -1.28192546e+02 -2.02662179e+01\n",
      " -1.22324880e-02  9.04618131e-02 -3.90641994e-02  6.26129880e+01\n",
      "  1.82867534e-02 -2.87636267e-03 -2.06499997e-03 -2.97754236e-03\n",
      " -1.14015241e-03 -5.73029598e-03  8.61930665e-04 -2.15364361e-04\n",
      " -1.21787455e-01  8.07079750e-05  1.05782488e-05  6.83577137e-05\n",
      " -3.26392478e-05  2.40825301e-05 -3.09977646e-05  7.01907222e-04\n",
      "  1.03628070e-05  9.92030986e-03  8.01354006e-05 -1.94247268e-04\n",
      " -4.32246368e-06 -5.79635275e-06 -4.77743092e-03 -2.62055528e-03\n",
      " -8.24667360e-04 -6.84649210e-03  2.33999229e-04 -1.32821214e-01\n",
      "  4.62806684e-02  3.45093041e-05 -1.41707803e-04 -3.02489046e-05\n",
      " -4.52796488e-05 -1.56063529e-05  8.04855697e-05  1.95730293e-05\n",
      "  3.71909769e-04  1.03984610e-07  8.45550548e-08 -1.93550467e-06\n",
      "  6.67533042e-04  1.88646674e-03]\n"
     ]
    }
   ],
   "source": [
    "dofIdx = ofc.ztaac.dataShare.getDofIdx()\n",
    "print(ofc.ztaac.optCtrl.getState0(dofIdx))\n",
    "print(ofc.ztaac.optCtrl.getState(dofIdx))"
   ]
  },
  {
   "cell_type": "code",
   "execution_count": 17,
   "id": "01070644",
   "metadata": {},
   "outputs": [
    {
     "name": "stdout",
     "output_type": "stream",
     "text": [
      "[1. 1. 1. 1. 1.]\n"
     ]
    }
   ],
   "source": [
    "add_coma = np.array(intrinsic_zk, copy=True)\n",
    "add_coma[:, 7-4] -= 1 #z4 has index 0\n",
    "\n",
    "listOfWfErr_coma = []\n",
    "for sensorId, annularZernikePoly in zip(sensorIdList, add_coma):\n",
    "    #print(sensorId)\n",
    "    sensorWavefrontError = SensorWavefrontError(numOfZk=19)\n",
    "    sensorWavefrontError.setSensorId(sensorId)\n",
    "    sensorWavefrontError.setAnnularZernikePoly(annularZernikePoly)\n",
    "    listOfWfErr_coma.append(sensorWavefrontError)\n",
    "    \n",
    "ofc = OFCCalculationFactory.getCalculator(InstName.COMCAM, None)\n",
    "\n",
    "(\n",
    "    m2HexapodCorrection_cx1,\n",
    "    cameraHexapodCorrection_cx1,\n",
    "    m1m3Correction_cx1,\n",
    "    m2Correction_cx1,\n",
    ") = ofc.calculateCorrections(listOfWfErr_coma)\n",
    "\n",
    "state0 = np.zeros(ofc.ztaac.optCtrl.getNumOfState0())\n",
    "ofc.ztaac.optCtrl.setState(state0)\n",
    "\n",
    "(\n",
    "    m2HexapodCorrection_cx2,\n",
    "    cameraHexapodCorrection_cx2,\n",
    "    m1m3Correction_cx2,\n",
    "    m2Correction_cx2,\n",
    ") = ofc.calculateCorrections(listOfWfErr_coma)\n",
    "\n",
    "print(np.array(m2HexapodCorrection_cx2.getCorrection())[:5]/np.array(m2HexapodCorrection_cx1.getCorrection())[:5])"
   ]
  },
  {
   "cell_type": "markdown",
   "id": "e212352e",
   "metadata": {},
   "source": [
    "### What happens if we set control strategy to \"x0\""
   ]
  },
  {
   "cell_type": "code",
   "execution_count": 18,
   "id": "979cea64",
   "metadata": {},
   "outputs": [
    {
     "data": {
      "text/plain": [
       "'x00'"
      ]
     },
     "execution_count": 18,
     "metadata": {},
     "output_type": "execute_result"
    }
   ],
   "source": [
    "ofc.ztaac.dataShare.xRef "
   ]
  },
  {
   "cell_type": "code",
   "execution_count": 19,
   "id": "f795f868",
   "metadata": {},
   "outputs": [
    {
     "name": "stdout",
     "output_type": "stream",
     "text": [
      "[2. 2. 2. 2. 2.]\n"
     ]
    }
   ],
   "source": [
    "add_coma = np.array(intrinsic_zk, copy=True)\n",
    "add_coma[:, 7-4] -= 1 #z4 has index 0\n",
    "\n",
    "listOfWfErr_coma = []\n",
    "for sensorId, annularZernikePoly in zip(sensorIdList, add_coma):\n",
    "    #print(sensorId)\n",
    "    sensorWavefrontError = SensorWavefrontError(numOfZk=19)\n",
    "    sensorWavefrontError.setSensorId(sensorId)\n",
    "    sensorWavefrontError.setAnnularZernikePoly(annularZernikePoly)\n",
    "    listOfWfErr_coma.append(sensorWavefrontError)\n",
    "    \n",
    "ofc = OFCCalculationFactory.getCalculator(InstName.COMCAM, None)\n",
    "ofc.ztaac.dataShare.xRef = 'x0'\n",
    "\n",
    "(\n",
    "    m2HexapodCorrection_cx1,\n",
    "    cameraHexapodCorrection_cx1,\n",
    "    m1m3Correction_cx1,\n",
    "    m2Correction_cx1,\n",
    ") = ofc.calculateCorrections(listOfWfErr_coma)\n",
    "\n",
    "#state0 = np.zeros(ofc.ztaac.optCtrl.getNumOfState0())\n",
    "#ofc.ztaac.optCtrl.setState(state0)\n",
    "\n",
    "(\n",
    "    m2HexapodCorrection_cx2,\n",
    "    cameraHexapodCorrection_cx2,\n",
    "    m1m3Correction_cx2,\n",
    "    m2Correction_cx2,\n",
    ") = ofc.calculateCorrections(listOfWfErr_coma)\n",
    "\n",
    "print(np.array(m2HexapodCorrection_cx2.getCorrection())[:5]/np.array(m2HexapodCorrection_cx1.getCorrection())[:5])"
   ]
  },
  {
   "cell_type": "code",
   "execution_count": null,
   "id": "8f423356",
   "metadata": {},
   "outputs": [],
   "source": []
  },
  {
   "cell_type": "code",
   "execution_count": 20,
   "id": "caad2ba4",
   "metadata": {},
   "outputs": [],
   "source": [
    "(\n",
    "    m2HexapodCorrection,\n",
    "    cameraHexapodCorrection,\n",
    "    m1m3Correction,\n",
    "    m2Correction,\n",
    ") = ofc.resetOfcState()"
   ]
  },
  {
   "cell_type": "code",
   "execution_count": 21,
   "id": "a850a08e",
   "metadata": {},
   "outputs": [
    {
     "name": "stdout",
     "output_type": "stream",
     "text": [
      "(0.0, 0.0, 0.0, 0.0, 0.0, 0.0)\n",
      "(0.0, 0.0, 0.0, 0.0, 0.0, 0.0)\n",
      "[0. 0. 0. 0. 0. 0. 0. 0. 0. 0. 0. 0. 0. 0. 0. 0. 0. 0. 0. 0. 0. 0. 0. 0.\n",
      " 0. 0. 0. 0. 0. 0. 0. 0. 0. 0. 0. 0. 0. 0. 0. 0. 0. 0. 0. 0. 0. 0. 0. 0.\n",
      " 0. 0. 0. 0. 0. 0. 0. 0. 0. 0. 0. 0. 0. 0. 0. 0. 0. 0. 0. 0. 0. 0. 0. 0.\n",
      " 0. 0. 0. 0. 0. 0. 0. 0. 0. 0. 0. 0. 0. 0. 0. 0. 0. 0. 0. 0. 0. 0. 0. 0.\n",
      " 0. 0. 0. 0. 0. 0. 0. 0. 0. 0. 0. 0. 0. 0. 0. 0. 0. 0. 0. 0. 0. 0. 0. 0.\n",
      " 0. 0. 0. 0. 0. 0. 0. 0. 0. 0. 0. 0. 0. 0. 0. 0. 0. 0. 0. 0. 0. 0. 0. 0.\n",
      " 0. 0. 0. 0. 0. 0. 0. 0. 0. 0. 0. 0.]\n",
      "[0. 0. 0. 0. 0. 0. 0. 0. 0. 0. 0. 0. 0. 0. 0. 0. 0. 0. 0. 0. 0. 0. 0. 0.\n",
      " 0. 0. 0. 0. 0. 0. 0. 0. 0. 0. 0. 0. 0. 0. 0. 0. 0. 0. 0. 0. 0. 0. 0. 0.\n",
      " 0. 0. 0. 0. 0. 0. 0. 0. 0. 0. 0. 0. 0. 0. 0. 0. 0. 0. 0. 0. 0. 0. 0. 0.]\n"
     ]
    }
   ],
   "source": [
    "print(m2HexapodCorrection.getCorrection())\n",
    "print(cameraHexapodCorrection.getCorrection())\n",
    "print(m1m3Correction.getZForces())\n",
    "print(m2Correction.getZForces())"
   ]
  },
  {
   "cell_type": "code",
   "execution_count": null,
   "id": "93dc88bc",
   "metadata": {},
   "outputs": [],
   "source": []
  }
 ],
 "metadata": {
  "kernelspec": {
   "display_name": "LSST",
   "language": "python",
   "name": "lsst"
  },
  "language_info": {
   "codemirror_mode": {
    "name": "ipython",
    "version": 3
   },
   "file_extension": ".py",
   "mimetype": "text/x-python",
   "name": "python",
   "nbconvert_exporter": "python",
   "pygments_lexer": "ipython3",
   "version": "3.8.8"
  }
 },
 "nbformat": 4,
 "nbformat_minor": 5
}
