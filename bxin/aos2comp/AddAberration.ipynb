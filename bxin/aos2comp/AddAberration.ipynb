{
 "cells": [
  {
   "cell_type": "markdown",
   "id": "2761feb0",
   "metadata": {},
   "source": [
    "# MTAOS addAberration\n",
    "\n",
    "Notebooks to show how the addAberration command in MTAOS works.\n",
    "\n",
    "(using OFC code before Tiago's rewrite in April 2021)"
   ]
  },
  {
   "cell_type": "code",
   "execution_count": null,
   "id": "8f6b0e56",
   "metadata": {},
   "outputs": [],
   "source": [
    "%load_ext autoreload\n",
    "%autoreload 2"
   ]
  },
  {
   "cell_type": "code",
   "execution_count": null,
   "id": "39a829ed",
   "metadata": {},
   "outputs": [],
   "source": [
    "import numpy as np\n",
    "\n",
    "from lsst.ts.ofc.ctrlIntf.OFCCalculationFactory import OFCCalculationFactory\n",
    "from lsst.ts.wep.Utility import CamType\n",
    "from lsst.ts.ofc.Utility import getConfigDir, DofGroup, InstName\n",
    "from lsst.ts.ofc.ctrlIntf.FWHMSensorData import FWHMSensorData\n",
    "from lsst.ts.wep.ctrlIntf.MapSensorNameAndId import MapSensorNameAndId\n",
    "from lsst.ts.wep.ctrlIntf.SensorWavefrontError import SensorWavefrontError\n",
    "from lsst.ts.wep.Utility import FilterType\n",
    "from lsst.ts.wep.bsc.CamFactory import CamFactory\n",
    "from lsst.ts.MTAOS.CollOfListOfWfErr import CollOfListOfWfErr"
   ]
  },
  {
   "cell_type": "code",
   "execution_count": null,
   "id": "cb9b0ee9",
   "metadata": {},
   "outputs": [],
   "source": [
    "getConfigDir()"
   ]
  },
  {
   "cell_type": "code",
   "execution_count": null,
   "id": "7fb96db0",
   "metadata": {},
   "outputs": [],
   "source": [
    "#watch out, do not use from lsst.ts.wep.Utility.CamType.ComCam\n",
    "ofc = OFCCalculationFactory.getCalculator(InstName.COMCAM, None)"
   ]
  },
  {
   "cell_type": "code",
   "execution_count": null,
   "id": "d4ab4b48",
   "metadata": {},
   "outputs": [],
   "source": [
    "ofc.ztaac.dataShare.getDofIdx()"
   ]
  },
  {
   "cell_type": "code",
   "execution_count": null,
   "id": "0ffb1a4d",
   "metadata": {},
   "outputs": [],
   "source": [
    "comcam = CamFactory.createCam(CamType.ComCam)"
   ]
  },
  {
   "cell_type": "code",
   "execution_count": null,
   "id": "aa9dcc41",
   "metadata": {},
   "outputs": [],
   "source": [
    "detectorList = comcam.getWfsCcdList()"
   ]
  },
  {
   "cell_type": "code",
   "execution_count": null,
   "id": "8852e23e",
   "metadata": {},
   "outputs": [],
   "source": [
    "sensorIdList = ofc.ztaac.mapSensorNameToId(detectorList)"
   ]
  },
  {
   "cell_type": "code",
   "execution_count": null,
   "id": "af1f11dd",
   "metadata": {},
   "outputs": [],
   "source": [
    "intrinsic_zk = ofc.ztaac.dataShare.getIntrinsicZk(FilterType.REF, ofc.ztaac.dataShare.getFieldIdx(detectorList))"
   ]
  },
  {
   "cell_type": "markdown",
   "id": "9e8ba31e",
   "metadata": {},
   "source": [
    "## If you pass Intrinsic aberrations to OFC, you get all corrections = 0"
   ]
  },
  {
   "cell_type": "code",
   "execution_count": null,
   "id": "e0f5642f",
   "metadata": {},
   "outputs": [],
   "source": [
    "listOfWfErr = []\n",
    "for sensorId, annularZernikePoly in zip(sensorIdList, intrinsic_zk):\n",
    "    #print(sensorId)\n",
    "    sensorWavefrontError = SensorWavefrontError(numOfZk=19)\n",
    "    sensorWavefrontError.setSensorId(sensorId)\n",
    "    sensorWavefrontError.setAnnularZernikePoly(annularZernikePoly)\n",
    "    listOfWfErr.append(sensorWavefrontError)"
   ]
  },
  {
   "cell_type": "code",
   "execution_count": null,
   "id": "99e1c037",
   "metadata": {},
   "outputs": [],
   "source": [
    "(\n",
    "    m2HexapodCorrection,\n",
    "    cameraHexapodCorrection,\n",
    "    m1m3Correction,\n",
    "    m2Correction,\n",
    ") = ofc.calculateCorrections(listOfWfErr)"
   ]
  },
  {
   "cell_type": "code",
   "execution_count": null,
   "id": "e8f7bc7e",
   "metadata": {},
   "outputs": [],
   "source": [
    "print(m2HexapodCorrection.getCorrection())\n",
    "print(cameraHexapodCorrection.getCorrection())\n",
    "print(m1m3Correction.getZForces())\n",
    "print(m2Correction.getZForces())"
   ]
  },
  {
   "cell_type": "markdown",
   "id": "6cbd9c89",
   "metadata": {},
   "source": [
    "### Add 1um z7 (We tell OFC that we measure intrinsic - (1um z7), so that it adds 1um z7 to go back to intrinsic"
   ]
  },
  {
   "cell_type": "code",
   "execution_count": null,
   "id": "a6b0275a",
   "metadata": {},
   "outputs": [],
   "source": [
    "add_coma = np.array(intrinsic_zk, copy=True)\n",
    "add_coma[:, 7-4] -= 1 #z4 has index 0\n",
    "\n",
    "listOfWfErr_coma = []\n",
    "for sensorId, annularZernikePoly in zip(sensorIdList, add_coma):\n",
    "    #print(sensorId)\n",
    "    sensorWavefrontError = SensorWavefrontError(numOfZk=19)\n",
    "    sensorWavefrontError.setSensorId(sensorId)\n",
    "    sensorWavefrontError.setAnnularZernikePoly(annularZernikePoly)\n",
    "    listOfWfErr_coma.append(sensorWavefrontError)\n",
    "    \n",
    "ofc = OFCCalculationFactory.getCalculator(InstName.COMCAM, None)\n",
    "\n",
    "(\n",
    "    m2HexapodCorrection_cx1,\n",
    "    cameraHexapodCorrection_cx1,\n",
    "    m1m3Correction_cx1,\n",
    "    m2Correction_cx1,\n",
    ") = ofc.calculateCorrections(listOfWfErr_coma)"
   ]
  },
  {
   "cell_type": "code",
   "execution_count": null,
   "id": "128b490c",
   "metadata": {},
   "outputs": [],
   "source": [
    "print(m2HexapodCorrection_cx1.getCorrection())\n",
    "print(cameraHexapodCorrection_cx1.getCorrection())\n",
    "print(m1m3Correction_cx1.getZForces())\n",
    "print(m2Correction_cx1.getZForces())"
   ]
  },
  {
   "cell_type": "code",
   "execution_count": null,
   "id": "b4104000",
   "metadata": {},
   "outputs": [],
   "source": [
    "(\n",
    "    m2HexapodCorrection_cx2,\n",
    "    cameraHexapodCorrection_cx2,\n",
    "    m1m3Correction_cx2,\n",
    "    m2Correction_cx2,\n",
    ") = ofc.calculateCorrections(listOfWfErr_coma)\n",
    "\n",
    "print(np.array(m2HexapodCorrection_cx2.getCorrection())[:5]/np.array(m2HexapodCorrection_cx1.getCorrection())[:5])"
   ]
  },
  {
   "cell_type": "markdown",
   "id": "eedeea51",
   "metadata": {},
   "source": [
    "### This is because the default control strategy is \"x00\""
   ]
  },
  {
   "cell_type": "code",
   "execution_count": null,
   "id": "aad96fb4",
   "metadata": {},
   "outputs": [],
   "source": [
    "ofc.ztaac.dataShare.xRef"
   ]
  },
  {
   "cell_type": "code",
   "execution_count": null,
   "id": "08ef3916",
   "metadata": {},
   "outputs": [],
   "source": [
    "dofIdx = ofc.ztaac.dataShare.getDofIdx()\n",
    "print(ofc.ztaac.optCtrl.getState0(dofIdx))\n",
    "print(ofc.ztaac.optCtrl.getState(dofIdx))"
   ]
  },
  {
   "cell_type": "code",
   "execution_count": null,
   "id": "c2bc12c4",
   "metadata": {},
   "outputs": [],
   "source": [
    "add_coma = np.array(intrinsic_zk, copy=True)\n",
    "add_coma[:, 7-4] -= 1 #z4 has index 0\n",
    "\n",
    "listOfWfErr_coma = []\n",
    "for sensorId, annularZernikePoly in zip(sensorIdList, add_coma):\n",
    "    #print(sensorId)\n",
    "    sensorWavefrontError = SensorWavefrontError(numOfZk=19)\n",
    "    sensorWavefrontError.setSensorId(sensorId)\n",
    "    sensorWavefrontError.setAnnularZernikePoly(annularZernikePoly)\n",
    "    listOfWfErr_coma.append(sensorWavefrontError)\n",
    "    \n",
    "ofc = OFCCalculationFactory.getCalculator(InstName.COMCAM, None)\n",
    "\n",
    "(\n",
    "    m2HexapodCorrection_cx1,\n",
    "    cameraHexapodCorrection_cx1,\n",
    "    m1m3Correction_cx1,\n",
    "    m2Correction_cx1,\n",
    ") = ofc.calculateCorrections(listOfWfErr_coma)\n",
    "\n",
    "state0 = np.zeros(ofc.ztaac.optCtrl.getNumOfState0())\n",
    "ofc.ztaac.optCtrl.setState(state0)\n",
    "\n",
    "(\n",
    "    m2HexapodCorrection_cx2,\n",
    "    cameraHexapodCorrection_cx2,\n",
    "    m1m3Correction_cx2,\n",
    "    m2Correction_cx2,\n",
    ") = ofc.calculateCorrections(listOfWfErr_coma)\n",
    "\n",
    "print(np.array(m2HexapodCorrection_cx2.getCorrection())[:5]/np.array(m2HexapodCorrection_cx1.getCorrection())[:5])"
   ]
  },
  {
   "cell_type": "markdown",
   "id": "08207737",
   "metadata": {},
   "source": [
    "### What happens if we set control strategy to \"x0\""
   ]
  },
  {
   "cell_type": "code",
   "execution_count": null,
   "id": "9ab24000",
   "metadata": {},
   "outputs": [],
   "source": [
    "ofc.ztaac.dataShare.xRef "
   ]
  },
  {
   "cell_type": "code",
   "execution_count": null,
   "id": "074736c3",
   "metadata": {},
   "outputs": [],
   "source": [
    "add_coma = np.array(intrinsic_zk, copy=True)\n",
    "add_coma[:, 7-4] -= 1 #z4 has index 0\n",
    "\n",
    "listOfWfErr_coma = []\n",
    "for sensorId, annularZernikePoly in zip(sensorIdList, add_coma):\n",
    "    #print(sensorId)\n",
    "    sensorWavefrontError = SensorWavefrontError(numOfZk=19)\n",
    "    sensorWavefrontError.setSensorId(sensorId)\n",
    "    sensorWavefrontError.setAnnularZernikePoly(annularZernikePoly)\n",
    "    listOfWfErr_coma.append(sensorWavefrontError)\n",
    "    \n",
    "ofc = OFCCalculationFactory.getCalculator(InstName.COMCAM, None)\n",
    "ofc.ztaac.dataShare.xRef = 'x0'\n",
    "\n",
    "(\n",
    "    m2HexapodCorrection_cx1,\n",
    "    cameraHexapodCorrection_cx1,\n",
    "    m1m3Correction_cx1,\n",
    "    m2Correction_cx1,\n",
    ") = ofc.calculateCorrections(listOfWfErr_coma)\n",
    "\n",
    "#state0 = np.zeros(ofc.ztaac.optCtrl.getNumOfState0())\n",
    "#ofc.ztaac.optCtrl.setState(state0)\n",
    "\n",
    "(\n",
    "    m2HexapodCorrection_cx2,\n",
    "    cameraHexapodCorrection_cx2,\n",
    "    m1m3Correction_cx2,\n",
    "    m2Correction_cx2,\n",
    ") = ofc.calculateCorrections(listOfWfErr_coma)\n",
    "\n",
    "print(np.array(m2HexapodCorrection_cx2.getCorrection())[:5]/np.array(m2HexapodCorrection_cx1.getCorrection())[:5])"
   ]
  },
  {
   "cell_type": "code",
   "execution_count": null,
   "id": "36960f6e",
   "metadata": {},
   "outputs": [],
   "source": []
  },
  {
   "cell_type": "code",
   "execution_count": null,
   "id": "45336b24",
   "metadata": {},
   "outputs": [],
   "source": [
    "(\n",
    "    m2HexapodCorrection,\n",
    "    cameraHexapodCorrection,\n",
    "    m1m3Correction,\n",
    "    m2Correction,\n",
    ") = ofc.resetOfcState()"
   ]
  },
  {
   "cell_type": "code",
   "execution_count": null,
   "id": "5fe4f0f6",
   "metadata": {},
   "outputs": [],
   "source": [
    "print(m2HexapodCorrection.getCorrection())\n",
    "print(cameraHexapodCorrection.getCorrection())\n",
    "print(m1m3Correction.getZForces())\n",
    "print(m2Correction.getZForces())"
   ]
  },
  {
   "cell_type": "code",
   "execution_count": null,
   "id": "6da929a2",
   "metadata": {},
   "outputs": [],
   "source": []
  }
 ],
 "metadata": {
  "kernelspec": {
   "display_name": "LSST",
   "language": "python",
   "name": "lsst"
  },
  "language_info": {
   "codemirror_mode": {
    "name": "ipython",
    "version": 3
   },
   "file_extension": ".py",
   "mimetype": "text/x-python",
   "name": "python",
   "nbconvert_exporter": "python",
   "pygments_lexer": "ipython3",
   "version": "3.8.8"
  }
 },
 "nbformat": 4,
 "nbformat_minor": 5
}
