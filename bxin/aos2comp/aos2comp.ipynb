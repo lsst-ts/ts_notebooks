{
 "cells": [
  {
   "cell_type": "markdown",
   "metadata": {},
   "source": [
    "## This notebook is used for testing MTAOS communication with the AOS components: M1M3, M2, and hexapods\n",
    "\n",
    "Step-by-step description of what we do can be found in \n",
    "Jira test case: https://jira.lsstcorp.org/secure/Tests.jspa#/testCase/LVV-T???? "
   ]
  },
  {
   "cell_type": "code",
   "execution_count": null,
   "metadata": {},
   "outputs": [],
   "source": [
    "%load_ext autoreload\n",
    "%autoreload 2"
   ]
  },
  {
   "cell_type": "code",
   "execution_count": null,
   "metadata": {},
   "outputs": [],
   "source": [
    "import rubin_jupyter_utils.lab.notebook as nb\n",
    "nb.utils.get_node()"
   ]
  },
  {
   "cell_type": "code",
   "execution_count": null,
   "metadata": {},
   "outputs": [],
   "source": [
    "from lsst.ts import salobj\n",
    "import asyncio\n",
    "import os\n",
    "\n",
    "import numpy as np\n",
    "from matplotlib import pyplot as plt\n",
    "from astropy.time import Time\n",
    "from datetime import datetime, timedelta\n",
    "import pandas as pd\n",
    "\n",
    "from lsst.ts.idl.enums import MTM1M3\n",
    "\n",
    "from lsst.ts.observatory.control.maintel.mtcs import MTCS, MTCSUsages\n",
    "from lsst.ts.observatory.control import RotType\n",
    "from astropy.coordinates import AltAz, ICRS, EarthLocation, Angle, FK5\n",
    "import astropy.units as u\n",
    "\n",
    "from aosTools import *\n",
    "\n",
    "plt.jet();"
   ]
  },
  {
   "cell_type": "code",
   "execution_count": null,
   "metadata": {},
   "outputs": [],
   "source": [
    "print(os.environ[\"OSPL_URI\"])\n",
    "print(os.environ[\"LSST_DDS_PARTITION_PREFIX\"])\n",
    "print(os.environ[\"LSST_DDS_DOMAIN_ID\"])"
   ]
  },
  {
   "cell_type": "code",
   "execution_count": null,
   "metadata": {},
   "outputs": [],
   "source": [
    "#index is an integter which helps avoid multple users starting same controller\n",
    "script = salobj.Controller(\"Script\", index=7)"
   ]
  },
  {
   "cell_type": "code",
   "execution_count": null,
   "metadata": {},
   "outputs": [],
   "source": [
    "mtcs = MTCS(script.domain)\n",
    "mtcs.set_rem_loglevel(40)"
   ]
  },
  {
   "cell_type": "code",
   "execution_count": null,
   "metadata": {},
   "outputs": [],
   "source": [
    "await mtcs.start_task"
   ]
  },
  {
   "cell_type": "code",
   "execution_count": null,
   "metadata": {},
   "outputs": [],
   "source": [
    "mtcs.components_attr"
   ]
  },
  {
   "cell_type": "code",
   "execution_count": null,
   "metadata": {},
   "outputs": [],
   "source": [
    "camhex = mtcs.rem.mthexapod_1\n",
    "m2hex = mtcs.rem.mthexapod_2\n",
    "m1m3 = mtcs.rem.mtm1m3\n",
    "m2 = mtcs.rem.mtm2\n",
    "aos = mtcs.rem.mtaos"
   ]
  },
  {
   "cell_type": "code",
   "execution_count": null,
   "metadata": {},
   "outputs": [],
   "source": [
    "def printLogMessage(data):\n",
    "    print(f\"{data.level}: {data.message}\")\n",
    "aos.evt_logMessage.callback = printLogMessage\n",
    "await aos.cmd_setLogLevel.set_start(level=10, timeout=5)"
   ]
  },
  {
   "cell_type": "code",
   "execution_count": null,
   "metadata": {},
   "outputs": [],
   "source": [
    "await aos.evt_heartbeat.next(flush=True, timeout=5)"
   ]
  },
  {
   "cell_type": "code",
   "execution_count": null,
   "metadata": {},
   "outputs": [],
   "source": [
    "await salobj.set_summary_state(aos, salobj.State.STANDBY)"
   ]
  },
  {
   "cell_type": "code",
   "execution_count": null,
   "metadata": {},
   "outputs": [],
   "source": [
    "await salobj.set_summary_state(aos, salobj.State.ENABLED) #, settingsToApply='default') #leave this out!!"
   ]
  },
  {
   "cell_type": "markdown",
   "metadata": {},
   "source": [
    "#### Check summary state of each CSC"
   ]
  },
  {
   "cell_type": "code",
   "execution_count": null,
   "metadata": {},
   "outputs": [],
   "source": [
    "await checkAOSSummaryStates(aos, m1m3, m2, camhex, m2hex)"
   ]
  },
  {
   "cell_type": "markdown",
   "metadata": {},
   "source": [
    "### Get M1M3 Ready: raise mirorr, turn on FB, clear forces"
   ]
  },
  {
   "cell_type": "code",
   "execution_count": null,
   "metadata": {},
   "outputs": [],
   "source": [
    "print('Re-enabling M1M3')\n",
    "await salobj.set_summary_state(m1m3, salobj.State.STANDBY) \n",
    "await salobj.set_summary_state(m1m3, salobj.State.ENABLED, settingsToApply = 'Default') #enable m1m3"
   ]
  },
  {
   "cell_type": "code",
   "execution_count": null,
   "metadata": {},
   "outputs": [],
   "source": [
    "await readyM1M3(m1m3)"
   ]
  },
  {
   "cell_type": "code",
   "execution_count": null,
   "metadata": {},
   "outputs": [],
   "source": [
    "#%matplotlib inline\n",
    "await plotM1M3Forces(m1m3)"
   ]
  },
  {
   "cell_type": "markdown",
   "metadata": {},
   "source": [
    "### Get M2 Ready: turn on FB, clear forces"
   ]
  },
  {
   "cell_type": "code",
   "execution_count": null,
   "metadata": {},
   "outputs": [],
   "source": [
    "await salobj.set_summary_state(m2, salobj.State.STANDBY) \n",
    "#await salobj.set_summary_state(m1m3, salobj.State.ENABLED, settingsToApply = 'Default') #enable m1m3"
   ]
  },
  {
   "cell_type": "code",
   "execution_count": null,
   "metadata": {},
   "outputs": [],
   "source": [
    "await readyM2(m2)"
   ]
  },
  {
   "cell_type": "code",
   "execution_count": null,
   "metadata": {},
   "outputs": [],
   "source": [
    "await plotM2Forces(m2)"
   ]
  },
  {
   "cell_type": "markdown",
   "metadata": {},
   "source": [
    "### Get cam hex Ready: check config; make sure LUT is on, and has valid inputs; make sure hex is at LUT position"
   ]
  },
  {
   "cell_type": "code",
   "execution_count": null,
   "metadata": {},
   "outputs": [],
   "source": [
    "await readyHexForAOS(camhex)"
   ]
  },
  {
   "cell_type": "code",
   "execution_count": null,
   "metadata": {},
   "outputs": [],
   "source": [
    "lutMode = await camhex.evt_compensationMode.aget(timeout=10)\n",
    "if not lutMode.enabled:\n",
    "    await camhex.cmd_setCompensationMode.set_start(enable=1, timeout=10)\n",
    "print(\"compsensation mode enabled?\",lutMode.enabled, pd.to_datetime(lutMode.private_sndStamp, unit='s'))\n",
    "print(\"Does the hexapod has enough inputs to do LUT compensation?\")\n",
    "#Note: the target events are what the hex CSC checks; if one is missing, the entire LUT will not be applied\n",
    "a = camhex.evt_compensationOffset.get()\n",
    "print('mount elevation = ', a.elevation)\n",
    "print('mount azimth = ', a.azimuth)\n",
    "print('rotator angle = ', a.rotation)\n",
    "print('? temperature = ', a.temperature)\n",
    "print('x,y,z,u,v,w = ', a.x, a.y, a.z, a.u, a.v, a.w)"
   ]
  },
  {
   "cell_type": "code",
   "execution_count": null,
   "metadata": {},
   "outputs": [],
   "source": [
    "posU = await camhex.evt_uncompensatedPosition.aget(timeout=10.)"
   ]
  },
  {
   "cell_type": "code",
   "execution_count": null,
   "metadata": {},
   "outputs": [],
   "source": [
    "abs(max([getattr(posU, i) for i in 'xyzuvw']))"
   ]
  },
  {
   "cell_type": "code",
   "execution_count": null,
   "metadata": {},
   "outputs": [],
   "source": [
    "await printHexUncompensatedAndCompensated(camhex)"
   ]
  },
  {
   "cell_type": "code",
   "execution_count": null,
   "metadata": {},
   "outputs": [],
   "source": [
    "await camhex.cmd_move.set_start(x=0,y=0,z=100, u=0,v=0,w=0,sync=True) #to avoid the timeout if it is already at 0.\n",
    "await asyncio.sleep(5.)\n",
    "await moveHexTo0(camhex)"
   ]
  },
  {
   "cell_type": "code",
   "execution_count": null,
   "metadata": {},
   "outputs": [],
   "source": [
    "await printHexUncompensatedAndCompensated(camhex)"
   ]
  },
  {
   "cell_type": "code",
   "execution_count": null,
   "metadata": {},
   "outputs": [],
   "source": [
    "mountAngle = await mount.tel_elevation.aget(timeout=10.)\n",
    "print(\"mount elevation angle\", mountAngle.actualPosition)\n",
    "elev = mountAngle.actualPosition"
   ]
  },
  {
   "cell_type": "markdown",
   "metadata": {},
   "source": [
    "### Get M2 hex Ready: check config; make sure LUT is on, and has valid inputs; make sure hex is at LUT position"
   ]
  },
  {
   "cell_type": "code",
   "execution_count": null,
   "metadata": {},
   "outputs": [],
   "source": [
    "await readyHexForAOS(m2hex)"
   ]
  },
  {
   "cell_type": "code",
   "execution_count": null,
   "metadata": {},
   "outputs": [],
   "source": [
    "await printHexUncompensatedAndCompensated(m2hex)"
   ]
  },
  {
   "cell_type": "code",
   "execution_count": null,
   "metadata": {},
   "outputs": [],
   "source": [
    "#await m2hex.cmd_move.set_start(x=0,y=0,z=100, u=0,v=0,w=0,sync=True) #to avoid the timeout if it is already at 0.\n",
    "#await asyncio.sleep(5.)\n",
    "await moveHexTo0(m2hex)"
   ]
  },
  {
   "cell_type": "code",
   "execution_count": null,
   "metadata": {},
   "outputs": [],
   "source": [
    "await printHexUncompensatedAndCompensated(m2hex)"
   ]
  },
  {
   "cell_type": "markdown",
   "metadata": {},
   "source": [
    "### Step 1: add aberrations via OFC"
   ]
  },
  {
   "cell_type": "code",
   "execution_count": null,
   "metadata": {},
   "outputs": [],
   "source": [
    "zernikes = np.zeros(19)\n",
    "zerIdx = np.arange(4, 23)\n",
    "zernikes[7-4] = 1 #add 1um of z7\n",
    "print(zerIdx)\n",
    "print(zernikes)"
   ]
  },
  {
   "cell_type": "code",
   "execution_count": null,
   "metadata": {},
   "outputs": [],
   "source": [
    "await aos.cmd_addAberration.set_start(wf = zernikes) #config=??"
   ]
  },
  {
   "cell_type": "code",
   "execution_count": null,
   "metadata": {},
   "outputs": [],
   "source": [
    "def compSentApplied(aos, m1m3, m2, camhex, m2hex):\n",
    "    dof = aos.evt_degreeOfFreedom.get()\n",
    "    m1m3C = aos.evt_m1m3Correction.get()\n",
    "    m2C = aos.evt_m2Correction.get()\n",
    "    camhexC = aos.evt_cameraHexapodCorrection.get()\n",
    "    m2hexC = aos.evt_m2HexapodCorrection.get()\n",
    "    print(pd.to_datetime(dof.private_sndStamp, unit='s'))\n",
    "    fig, ax = plt.subplots(2,3, figsize=(19,8) )\n",
    "\n",
    "    aa = np.array(dof.aggregatedDoF)\n",
    "    vv = np.array(dof.visitDoF)\n",
    "\n",
    "    ##--------------------------------------\n",
    "    ax[0][0].plot(aa[:10],'-bo', label='aggregatedDoF')\n",
    "    ax[0][0].plot(vv[:10],'-rx', label='visitDoF')\n",
    "    ax[0][0].set_title('hexapod DoF')\n",
    "    ax[0][0].legend()\n",
    "\n",
    "    ax[0][1].plot(aa[10:], '-bo', label='aggregatedDoF')\n",
    "    ax[0][1].plot(vv[10:],'-rx', label='visitDoF')\n",
    "    ax[0][1].set_title('Mirrors DoF')\n",
    "    ax[0][1].legend()\n",
    "\n",
    "    ##--------------------------------------\n",
    "    aa = m1m3.evt_appliedActiveOpticForces.get()\n",
    "    ax[0][2].plot(m1m3C.zForces,'-o', label='forces sent')\n",
    "    ax[0][2].plot(aa.zForces, '-rx', label='forces applied')\n",
    "    ax[0][2].set_title('M1M3 Forces')\n",
    "    ax[0][2].legend()\n",
    "\n",
    "    aa = m2.tel_axialForce.get()\n",
    "    ax[1][0].plot(m2C.zForces,'-o', label='forces sent')\n",
    "    ax[1][0].plot(aa.applied, '-x', label='forces applied')\n",
    "    ax[1][0].set_title('M2 Forces')\n",
    "    ax[1][0].legend()\n",
    "\n",
    "    ##--------------------------------------\n",
    "    aa = np.array([getattr(camhexC,i) for i in ['x', 'y', 'z', 'u','v','w']])\n",
    "    aam2 = np.array([getattr(m2hexC,i) for i in ['x', 'y', 'z', 'u','v','w']])\n",
    "    uu = np.array([getattr(camhex.evt_uncompensatedPosition.get(),i) for i in ['x','y','z', 'u','v','w']])\n",
    "    uum2 = np.array([getattr(m2hex.evt_uncompensatedPosition.get(),i) for i in ['u','v','z', 'u','v','w']])\n",
    "\n",
    "    ax[1][1].plot(aa[:3], '-ro', label='cam hex xyz Sent', markersize=8)\n",
    "    ax[1][1].plot(aam2[:3],'-bx', label='m2 hex xyz Sent')\n",
    "    ax[1][1].plot(uu[:3], '-o',  label='cam hex xyz Applied')\n",
    "    ax[1][1].plot(aam2[:3], '-v', label='m2 hex xyz Applied')\n",
    "    ax[1][1].set_title('Hex xyz')\n",
    "    ax[1][1].legend()\n",
    "\n",
    "    ax[1][2].plot(aa[3:], '-ro', label='cam hex uvw Sent')\n",
    "    ax[1][2].plot(aam2[3:], '-bx', label='m2 hex uvw Sent')\n",
    "    ax[1][2].plot(uu[3:], '-o', label='cam hex uvw Applied')\n",
    "    ax[1][2].plot(uum2[3:], '-v', label='m2 hex uvw Applied')\n",
    "    ax[1][2].set_title('M2 Hex xyzuvw')\n",
    "    ax[1][2].legend()\n",
    "    \n",
    "    return dof, aa, aam2, uu, uum2    \n",
    "\n",
    "dof, camsent, m2sent, camrvd, m2rvd =  compSentApplied(aos, m1m3, m2, camhex, m2hex)"
   ]
  },
  {
   "cell_type": "markdown",
   "metadata": {},
   "source": [
    "### Step 2: add same aberrations twice. Are the aggregateDOF accumulating?"
   ]
  },
  {
   "cell_type": "code",
   "execution_count": null,
   "metadata": {},
   "outputs": [],
   "source": [
    "await aos.cmd_addAberration.set_start(wf = zernikes) #config=??"
   ]
  },
  {
   "cell_type": "code",
   "execution_count": null,
   "metadata": {},
   "outputs": [],
   "source": [
    "dof2, camsent2, m2sent2, camrvd2, m2rvd2 = compSentApplied(aos, m1m3, m2, camhex, m2hex)"
   ]
  },
  {
   "cell_type": "markdown",
   "metadata": {},
   "source": [
    "This depends on the control strategy we are using. For x00, do not expect 2 or 1."
   ]
  },
  {
   "cell_type": "code",
   "execution_count": null,
   "metadata": {},
   "outputs": [],
   "source": [
    "camsent2[:5]/camsent[:5]"
   ]
  },
  {
   "cell_type": "code",
   "execution_count": null,
   "metadata": {},
   "outputs": [],
   "source": [
    "m2sent2[:5]/m2sent[:5]"
   ]
  },
  {
   "cell_type": "code",
   "execution_count": null,
   "metadata": {},
   "outputs": [],
   "source": [
    "plt.plot(np.array(dof2.aggregatedDoF[:10])/np.array(dof.aggregatedDoF[:10]))"
   ]
  },
  {
   "cell_type": "code",
   "execution_count": null,
   "metadata": {},
   "outputs": [],
   "source": [
    "plt.plot(np.array(dof2.visitDoF[:10])/np.array(dof.visitDoF[:10]))"
   ]
  },
  {
   "cell_type": "markdown",
   "metadata": {},
   "source": [
    "### Step 3: Reset the corrections"
   ]
  },
  {
   "cell_type": "code",
   "execution_count": null,
   "metadata": {},
   "outputs": [],
   "source": [
    "await aos.cmd_resetCorrection.set_start()"
   ]
  },
  {
   "cell_type": "code",
   "execution_count": null,
   "metadata": {},
   "outputs": [],
   "source": [
    "##the following should be done by cmd_resetCorrection, but right now this is not the case\n",
    "await aos.cmd_issueCorrection.set_start() \n",
    "#issue the resetted correction, which should be equivalent to the below\n",
    "#await m1m3.cmd_applyActiveOpticForces.set_start(zForces=[0]*156)\n",
    "#await m2.cmd_resetForceOffsets.set_start()\n",
    "#await camhex.cmd_move.set_start(x=0,y=0,z=0, u=0,v=0,w=0,sync=True)\n",
    "#await m2hex.cmd_move.set_start(x=0,y=0,z=0, u=0,v=0,w=0,sync=True)"
   ]
  },
  {
   "cell_type": "code",
   "execution_count": null,
   "metadata": {},
   "outputs": [],
   "source": [
    "plt.plot(aos.evt_m1m3Correction.get().zForces)\n",
    "plt.plot(m1m3.evt_appliedActiveOpticForces.get().zForces);"
   ]
  },
  {
   "cell_type": "markdown",
   "metadata": {},
   "source": [
    "### Step 4: Double the aberration, do the corrections double? yes"
   ]
  },
  {
   "cell_type": "code",
   "execution_count": null,
   "metadata": {},
   "outputs": [],
   "source": [
    "zernikes[7-4] = 2 # z7 = 2um"
   ]
  },
  {
   "cell_type": "code",
   "execution_count": null,
   "metadata": {},
   "outputs": [],
   "source": [
    "await aos.cmd_addAberration.set_start(wf = zernikes) #config=??"
   ]
  },
  {
   "cell_type": "code",
   "execution_count": null,
   "metadata": {},
   "outputs": [],
   "source": [
    "dof3, camsent3, m2sent3, camrvd3, m2rvd3 = compSentApplied(aos, m1m3, m2, camhex, m2hex)"
   ]
  },
  {
   "cell_type": "code",
   "execution_count": null,
   "metadata": {},
   "outputs": [],
   "source": [
    "camsent3[:5]/camsent[:5]"
   ]
  },
  {
   "cell_type": "code",
   "execution_count": null,
   "metadata": {},
   "outputs": [],
   "source": [
    "m2sent3[:5]/m2sent[:5]"
   ]
  },
  {
   "cell_type": "markdown",
   "metadata": {},
   "source": [
    "### Step 5: Observe the corrections being rejected"
   ]
  },
  {
   "cell_type": "code",
   "execution_count": null,
   "metadata": {},
   "outputs": [],
   "source": [
    "await lowerM1M3(m1m3)"
   ]
  },
  {
   "cell_type": "code",
   "execution_count": null,
   "metadata": {},
   "outputs": [],
   "source": [
    "#save the forces and positions before attempting adding aberrations\n",
    "m1m3F0 = m1m3.evt_appliedActiveOpticForces.get().zForces\n",
    "m2F0 = m2.tel_axialForce.get().applied\n",
    "camhexP0 = np.array([getattr(camhex.evt_uncompensatedPosition.get(),i) for i in ['x','y','z', 'u','v','w']])\n",
    "m2hexP0 = np.array([getattr(m2hex.evt_uncompensatedPosition.get(),i) for i in ['u','v','z', 'u','v','w']])"
   ]
  },
  {
   "cell_type": "code",
   "execution_count": null,
   "metadata": {},
   "outputs": [],
   "source": [
    "#save MTAOS corrections before attempting adding aberrations\n",
    "dofa0 = aos.evt_degreeOfFreedom.get().aggregatedDoF\n",
    "dofv0 = aos.evt_degreeOfFreedom.get().visitDoF\n",
    "m1m3C0 = aos.evt_m1m3Correction.get().zForces\n",
    "m2C0 = aos.evt_m2Correction.get().zForces\n",
    "camhexC0 = np.array([getattr(aos.evt_cameraHexapodCorrection.get(),i) for i in ['x','y','z', 'u','v','w']])\n",
    "m2hexC0 = np.array([getattr(aos.evt_m2HexapodCorrection.get(),i) for i in ['x','y','z', 'u','v','w']])"
   ]
  },
  {
   "cell_type": "code",
   "execution_count": null,
   "metadata": {},
   "outputs": [],
   "source": [
    "plt.plot(m1m3C0); #this should be same as plot above (a few cells back). We simply just saved the data"
   ]
  },
  {
   "cell_type": "code",
   "execution_count": null,
   "metadata": {},
   "outputs": [],
   "source": [
    "#Expect this command to be rejected, because M1M3 is parked\n",
    "zernikes[7-4] = 1\n",
    "await aos.cmd_addAberration.set_start(wf = zernikes) #config=??"
   ]
  },
  {
   "cell_type": "markdown",
   "metadata": {},
   "source": [
    "#### the addAberration command is supposed to have undone corrections to M2, camhex, and m2hex. Let's check that"
   ]
  },
  {
   "cell_type": "code",
   "execution_count": null,
   "metadata": {},
   "outputs": [],
   "source": [
    "#save the forces and positions before attempting adding aberrations\n",
    "m1m3F1 = m1m3.evt_appliedActiveOpticForces.get().zForces\n",
    "m2F1 = m2.tel_axialForce.get().applied\n",
    "camhexP1 = np.array([getattr(camhex.evt_uncompensatedPosition.get(),i) for i in ['x','y','z', 'u','v','w']])\n",
    "m2hexP1 = np.array([getattr(m2hex.evt_uncompensatedPosition.get(),i) for i in ['u','v','z', 'u','v','w']])"
   ]
  },
  {
   "cell_type": "code",
   "execution_count": null,
   "metadata": {},
   "outputs": [],
   "source": [
    "print(np.array(m1m3F1)- np.array(m1m3F0))\n",
    "print(np.array(m2F1)- np.array(m2F0))\n",
    "print(camhexP1-camhexP0)\n",
    "print(m2hexP1-m2hexP0)"
   ]
  },
  {
   "cell_type": "code",
   "execution_count": null,
   "metadata": {},
   "outputs": [],
   "source": [
    "plt.plot(m2F1)\n",
    "plt.plot(m2F0);"
   ]
  },
  {
   "cell_type": "code",
   "execution_count": null,
   "metadata": {},
   "outputs": [],
   "source": [
    "plt.plot(camhexP1)\n",
    "plt.plot(camhexP0)"
   ]
  },
  {
   "cell_type": "code",
   "execution_count": null,
   "metadata": {},
   "outputs": [],
   "source": [
    "plt.plot(m2hexP1)\n",
    "plt.plot(m2hexP0)"
   ]
  },
  {
   "cell_type": "markdown",
   "metadata": {},
   "source": [
    "#### What about MTAOS corrections?"
   ]
  },
  {
   "cell_type": "code",
   "execution_count": null,
   "metadata": {},
   "outputs": [],
   "source": [
    "dofa1 = aos.evt_degreeOfFreedom.get().aggregatedDoF\n",
    "dofv1 = aos.evt_degreeOfFreedom.get().visitDoF\n",
    "m1m3C1 = aos.evt_m1m3Correction.get().zForces\n",
    "m2C1 = aos.evt_m2Correction.get().zForces\n",
    "camhexC1 = np.array([getattr(aos.evt_cameraHexapodCorrection.get(),i) for i in ['x','y','z', 'u','v','w']])\n",
    "m2hexC1 = np.array([getattr(aos.evt_m2HexapodCorrection.get(),i) for i in ['x','y','z', 'u','v','w']])"
   ]
  },
  {
   "cell_type": "code",
   "execution_count": null,
   "metadata": {},
   "outputs": [],
   "source": [
    "print(np.array(dofa1)-np.array(dofa0))\n",
    "print(np.array(dofv1)-np.array(dofv0))\n",
    "print(np.array(m1m3C1)-np.array(m1m3C0))\n",
    "print(np.array(m2C1)-np.array(m2C0))\n",
    "print(np.array(camhexC1)-np.array(camhexC0))\n",
    "print(np.array(m2hexC1)-np.array(m2hexC0))\n",
    "#The expectation is that these have changed even when the command got rejected. ??\n",
    "#We need the rejectCorrection command to MTAOS to the correction from last visit. ??"
   ]
  },
  {
   "cell_type": "markdown",
   "metadata": {},
   "source": [
    "### rejectCorrection \n",
    "\n",
    "This makes sure OFC does proper accounting when commands are rejected."
   ]
  },
  {
   "cell_type": "code",
   "execution_count": null,
   "metadata": {},
   "outputs": [],
   "source": [
    "await aos.cmd_rejectCorrection.set_start()"
   ]
  },
  {
   "cell_type": "code",
   "execution_count": null,
   "metadata": {},
   "outputs": [],
   "source": [
    "dofa2 = aos.evt_degreeOfFreedom.get().aggregatedDoF\n",
    "dofv2 = aos.evt_degreeOfFreedom.get().visitDoF\n",
    "m1m3C2 = aos.evt_m1m3Correction.get().zForces\n",
    "m2C2 = aos.evt_m2Correction.get().zForces\n",
    "camhexC2 = np.array([getattr(aos.evt_cameraHexapodCorrection.get(),i) for i in ['x','y','z', 'u','v','w']])\n",
    "m2hexC2 = np.array([getattr(aos.evt_m2HexapodCorrection.get(),i) for i in ['x','y','z', 'u','v','w']])"
   ]
  },
  {
   "cell_type": "code",
   "execution_count": null,
   "metadata": {},
   "outputs": [],
   "source": [
    "print(np.array(dofa2)-np.array(dofa0))\n",
    "print(np.array(dofv2)-np.array(dofv0))\n",
    "print(np.array(m1m3C2)-np.array(m1m3C0))\n",
    "print(np.array(m2C2)-np.array(m2C0))\n",
    "print(np.array(camhexC2)-np.array(camhexC0))\n",
    "print(np.array(m2hexC2)-np.array(m2hexC0))"
   ]
  },
  {
   "cell_type": "code",
   "execution_count": null,
   "metadata": {},
   "outputs": [],
   "source": [
    "## check the forces and hexapod motions"
   ]
  },
  {
   "cell_type": "markdown",
   "metadata": {},
   "source": [
    "### Close up"
   ]
  },
  {
   "cell_type": "code",
   "execution_count": null,
   "metadata": {},
   "outputs": [],
   "source": [
    "#if we started with enabled state, we need to put it back\n",
    "await salobj.set_summary_state(m1m3, salobj.State.ENABLED,  settingsToApply='Default')"
   ]
  },
  {
   "cell_type": "code",
   "execution_count": null,
   "metadata": {},
   "outputs": [],
   "source": [
    "await salobj.set_summary_state(mount, salobj.State.ENABLED)"
   ]
  },
  {
   "cell_type": "markdown",
   "metadata": {},
   "source": [
    "### Check if the telescope is in tracking mode. If yes, need to stop stacking. \n",
    "The alternative is to check \"MT Mount status\" dash board on Chronograf. Make sure there are three \"False\"."
   ]
  },
  {
   "cell_type": "code",
   "execution_count": null,
   "metadata": {},
   "outputs": [],
   "source": [
    "mountStatus = await mount.evt_axesInPosition.aget(timeout=5.)\n",
    "rotStatus = await rot.evt_inPosition.aget(timeout=5.)\n",
    "trackingStatus = mountStatus.elevation and mountStatus.azimuth and rotStatus.inPosition\n",
    "print('Are we tracking?', trackingStatus)"
   ]
  },
  {
   "cell_type": "code",
   "execution_count": null,
   "metadata": {},
   "outputs": [],
   "source": [
    "await ptg.cmd_stopTracking.set_start(timeout=5.)"
   ]
  }
 ],
 "metadata": {
  "kernelspec": {
   "display_name": "LSST",
   "language": "python",
   "name": "lsst"
  },
  "language_info": {
   "codemirror_mode": {
    "name": "ipython",
    "version": 3
   },
   "file_extension": ".py",
   "mimetype": "text/x-python",
   "name": "python",
   "nbconvert_exporter": "python",
   "pygments_lexer": "ipython3",
   "version": "3.8.8"
  }
 },
 "nbformat": 4,
 "nbformat_minor": 4
}
