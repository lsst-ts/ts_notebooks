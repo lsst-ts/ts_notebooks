{
 "cells": [
  {
   "cell_type": "markdown",
   "metadata": {},
   "source": [
    "## This notebook is used for testing OFC configurations\n",
    "\n",
    "Step-by-step description of what we do can be found in \n",
    "Jira test case: https://jira.lsstcorp.org/secure/Tests.jspa#/testCase/LVV-T???? "
   ]
  },
  {
   "cell_type": "code",
   "execution_count": 1,
   "metadata": {},
   "outputs": [],
   "source": [
    "%load_ext autoreload\n",
    "%autoreload 2"
   ]
  },
  {
   "cell_type": "code",
   "execution_count": 2,
   "metadata": {},
   "outputs": [
    {
     "data": {
      "text/plain": [
       "'lsst-nts-kub06'"
      ]
     },
     "execution_count": 2,
     "metadata": {},
     "output_type": "execute_result"
    }
   ],
   "source": [
    "import rubin_jupyter_utils.lab.notebook as nb\n",
    "nb.utils.get_node()"
   ]
  },
  {
   "cell_type": "code",
   "execution_count": 3,
   "metadata": {},
   "outputs": [
    {
     "name": "stderr",
     "output_type": "stream",
     "text": [
      "Update leap second table\n",
      "current_tai uses the system TAI clock\n"
     ]
    },
    {
     "data": {
      "text/plain": [
       "<Figure size 432x288 with 0 Axes>"
      ]
     },
     "metadata": {},
     "output_type": "display_data"
    }
   ],
   "source": [
    "from lsst.ts import salobj\n",
    "import asyncio\n",
    "import os\n",
    "\n",
    "import numpy as np\n",
    "from matplotlib import pyplot as plt\n",
    "from astropy.time import Time\n",
    "from datetime import datetime, timedelta\n",
    "import pandas as pd\n",
    "import yaml\n",
    "\n",
    "from lsst.ts.observatory.control.maintel.mtcs import MTCS, MTCSUsages\n",
    "from lsst.ts.observatory.control import RotType\n",
    "from astropy.coordinates import AltAz, ICRS, EarthLocation, Angle, FK5\n",
    "import astropy.units as u\n",
    "\n",
    "from aosTools import *\n",
    "\n",
    "plt.jet();"
   ]
  },
  {
   "cell_type": "code",
   "execution_count": 4,
   "metadata": {},
   "outputs": [
    {
     "name": "stdout",
     "output_type": "stream",
     "text": [
      "file:///home/bxin/ts_ddsconfig/config/ospl-shmem.xml\n",
      "ncsa\n",
      "0\n"
     ]
    }
   ],
   "source": [
    "print(os.environ[\"OSPL_URI\"])\n",
    "print(os.environ[\"LSST_DDS_PARTITION_PREFIX\"])\n",
    "print(os.environ[\"LSST_DDS_DOMAIN_ID\"])"
   ]
  },
  {
   "cell_type": "code",
   "execution_count": 5,
   "metadata": {},
   "outputs": [
    {
     "name": "stderr",
     "output_type": "stream",
     "text": [
      "Read historical data in 0.00 sec\n"
     ]
    }
   ],
   "source": [
    "#index is an integter which helps avoid multple users starting same controller\n",
    "script = salobj.Controller(\"Script\", index=7)"
   ]
  },
  {
   "cell_type": "code",
   "execution_count": 6,
   "metadata": {},
   "outputs": [
    {
     "name": "stderr",
     "output_type": "stream",
     "text": [
      "Read historical data in 0.16 sec\n"
     ]
    }
   ],
   "source": [
    "aos = salobj.Remote(script.domain, \"MTAOS\")"
   ]
  },
  {
   "cell_type": "code",
   "execution_count": 7,
   "metadata": {},
   "outputs": [],
   "source": [
    "await aos.start_task"
   ]
  },
  {
   "cell_type": "code",
   "execution_count": 58,
   "metadata": {},
   "outputs": [
    {
     "data": {
      "text/plain": [
       "<ddsutil.MTAOS_ackcmd_8e276e56 at 0x7f40b085fd00>"
      ]
     },
     "execution_count": 58,
     "metadata": {},
     "output_type": "execute_result"
    }
   ],
   "source": [
    "def printLogMessage(data):\n",
    "    print(f\"{data.level}: {data.message}\")\n",
    "aos.evt_logMessage.callback = printLogMessage\n",
    "#await aos.cmd_setLogLevel.set_start(level=10, timeout=5)\n",
    "await aos.cmd_setLogLevel.set_start(level=30, timeout=5)"
   ]
  },
  {
   "cell_type": "code",
   "execution_count": 9,
   "metadata": {},
   "outputs": [
    {
     "data": {
      "text/plain": [
       "<ddsutil.MTAOS_logevent_heartbeat_d9313cce at 0x7f40d2986f10>"
      ]
     },
     "execution_count": 9,
     "metadata": {},
     "output_type": "execute_result"
    }
   ],
   "source": [
    "await aos.evt_heartbeat.next(flush=True, timeout=5)"
   ]
  },
  {
   "cell_type": "code",
   "execution_count": 10,
   "metadata": {},
   "outputs": [],
   "source": [
    "#summit = 1 #use this for summit testing\n",
    "summit = 0 #use this for NCSA"
   ]
  },
  {
   "cell_type": "code",
   "execution_count": 11,
   "metadata": {},
   "outputs": [],
   "source": [
    "from lsst_efd_client import EfdClient\n",
    "\n",
    "if summit:\n",
    "    client = EfdClient('summit_efd')\n",
    "else:\n",
    "    client = EfdClient('ncsa_teststand_efd')\n",
    "csc_index = 1"
   ]
  },
  {
   "cell_type": "markdown",
   "metadata": {},
   "source": [
    "### play with re-configuring OFC\n",
    "\n",
    "https://github.com/lsst-ts/ts_ofc/blob/develop/python/lsst/ts/ofc/ofc_data/base_ofc_data.py#L54\n",
    "\n",
    "https://github.com/lsst-ts/ts_ofc/blob/develop/python/lsst/ts/ofc/ofc_data/ofc_data.py#L64"
   ]
  },
  {
   "cell_type": "code",
   "execution_count": 12,
   "metadata": {},
   "outputs": [
    {
     "name": "stdout",
     "output_type": "stream",
     "text": [
      "[ 4  5  6  7  8  9 10 11 12 13 14 15 16 17 18 19 20 21 22]\n",
      "[0. 0. 0. 1. 0. 0. 0. 0. 0. 0. 0. 0. 0. 0. 0. 0. 0. 0. 0.]\n"
     ]
    }
   ],
   "source": [
    "zernikes = np.zeros(19)\n",
    "zerIdx = np.arange(4, 23)\n",
    "zernikes[7-4] = 1 #add 1um of z7\n",
    "print(zerIdx)\n",
    "print(zernikes)"
   ]
  },
  {
   "cell_type": "code",
   "execution_count": 26,
   "metadata": {},
   "outputs": [
    {
     "name": "stdout",
     "output_type": "stream",
     "text": [
      "10: Currently configured with comcam instrument.\n",
      "10: Assuming white light filter to compute aberration.\n",
      "10: Error setting pssn gain. Using default: 0.7.\n",
      "20: Execute pubEvent_degreeOfFreedom().\n",
      "20: Execute pubEvent_m2HexapodCorrection().\n",
      "20: Execute pubEvent_cameraHexapodCorrection().\n",
      "20: Execute pubEvent_m1m3Correction().\n",
      "20: Execute pubEvent_m2Correction().\n",
      "20: Execute do_resetCorrection().\n",
      "20: Execute pubEvent_degreeOfFreedom().\n",
      "20: Execute pubEvent_m2HexapodCorrection().\n",
      "20: Execute pubEvent_cameraHexapodCorrection().\n",
      "20: Execute pubEvent_m1m3Correction().\n",
      "20: Execute pubEvent_m2Correction().\n"
     ]
    },
    {
     "data": {
      "text/plain": [
       "<ddsutil.MTAOS_ackcmd_8e276e56 at 0x7f40b0a840a0>"
      ]
     },
     "execution_count": 26,
     "metadata": {},
     "output_type": "execute_result"
    }
   ],
   "source": [
    "await aos.cmd_addAberration.set_start(wf = zernikes)\n",
    "dof = await aos.evt_degreeOfFreedom.aget(timeout = 5.)\n",
    "await aos.cmd_resetCorrection.set_start()"
   ]
  },
  {
   "cell_type": "code",
   "execution_count": 29,
   "metadata": {},
   "outputs": [
    {
     "data": {
      "text/plain": [
       "[<matplotlib.lines.Line2D at 0x7f40b09bf610>]"
      ]
     },
     "execution_count": 29,
     "metadata": {},
     "output_type": "execute_result"
    },
    {
     "data": {
      "image/png": "[encoded data removed]",
      "text/plain": [
       "<Figure size 432x288 with 1 Axes>"
      ]
     },
     "metadata": {
      "needs_background": "light"
     },
     "output_type": "display_data"
    }
   ],
   "source": [
    "plt.plot(dof.aggregatedDoF)\n",
    "plt.plot(dof.visitDoF)"
   ]
  },
  {
   "cell_type": "code",
   "execution_count": null,
   "metadata": {},
   "outputs": [],
   "source": [
    "config = {}"
   ]
  },
  {
   "cell_type": "markdown",
   "metadata": {},
   "source": [
    "#### alpha : `np.array` of `float`\n",
    "        Alpha coefficient for the normalized point-source sensitivity (PSSN).\n",
    "\n",
    "This won't be used often. But test whether we can change it and whether the change makes sense."
   ]
  },
  {
   "cell_type": "code",
   "execution_count": 43,
   "metadata": {},
   "outputs": [],
   "source": [
    "alpha = np.array(\n",
    "        [\n",
    "            6.6906168e-03,\n",
    "            9.4460611e-04,\n",
    "            9.4460611e-04,\n",
    "            6.1240430e-03,\n",
    "            6.1240430e-03,\n",
    "            1.7516747e-03,\n",
    "            1.7516747e-03,\n",
    "            4.9218300e-02,\n",
    "            9.4518035e-03,\n",
    "            9.4518035e-03,\n",
    "            3.0979027e-03,\n",
    "            3.0979027e-03,\n",
    "            4.5078901e-02,\n",
    "            4.5078901e-02,\n",
    "            1.2438449e-02,\n",
    "            1.2438449e-02,\n",
    "            4.5678764e-03,\n",
    "            4.5678764e-03,\n",
    "            3.6438430e-01,\n",
    "        ]\n",
    "    )\n",
    "config[\"alpha\"] = (alpha/2).tolist()\n",
    "config_yaml = yaml.safe_dump(config)"
   ]
  },
  {
   "cell_type": "code",
   "execution_count": 44,
   "metadata": {},
   "outputs": [
    {
     "name": "stdout",
     "output_type": "stream",
     "text": [
      "10: Customizing OFC parameters.\n",
      "10: Overriding ofc_data parameter alpha.\n",
      "10: Currently configured with comcam instrument.\n",
      "10: Assuming white light filter to compute aberration.\n",
      "10: Error setting pssn gain. Using default: 0.7.\n",
      "10: Restoring ofc_data values.\n",
      "10: Overriding ofc_data parameter alpha.\n",
      "20: Execute pubEvent_degreeOfFreedom().\n",
      "20: Execute pubEvent_m2HexapodCorrection().\n",
      "20: Execute pubEvent_cameraHexapodCorrection().\n",
      "20: Execute pubEvent_m1m3Correction().\n",
      "20: Execute pubEvent_m2Correction().\n",
      "20: Execute do_resetCorrection().\n",
      "20: Execute pubEvent_degreeOfFreedom().\n",
      "20: Execute pubEvent_m2HexapodCorrection().\n",
      "20: Execute pubEvent_cameraHexapodCorrection().\n",
      "20: Execute pubEvent_m1m3Correction().\n",
      "20: Execute pubEvent_m2Correction().\n"
     ]
    },
    {
     "data": {
      "text/plain": [
       "<ddsutil.MTAOS_ackcmd_8e276e56 at 0x7f409ff24310>"
      ]
     },
     "execution_count": 44,
     "metadata": {},
     "output_type": "execute_result"
    }
   ],
   "source": [
    "await aos.cmd_addAberration.set_start(wf = zernikes, config=config_yaml)\n",
    "dof_alpha = await aos.evt_degreeOfFreedom.aget(timeout = 5.)\n",
    "await aos.cmd_resetCorrection.set_start()"
   ]
  },
  {
   "cell_type": "code",
   "execution_count": 45,
   "metadata": {},
   "outputs": [
    {
     "data": {
      "image/png": "[encoded data removed]",
      "text/plain": [
       "<Figure size 432x288 with 1 Axes>"
      ]
     },
     "metadata": {
      "needs_background": "light"
     },
     "output_type": "display_data"
    }
   ],
   "source": [
    "plt.plot(dof.aggregatedDoF, label='old')\n",
    "plt.plot(dof_alpha.aggregatedDoF, label='new')\n",
    "plt.legend();"
   ]
  },
  {
   "cell_type": "markdown",
   "metadata": {},
   "source": [
    "Does the above make sense?\n",
    "\n",
    "$$ \n",
    "J = x^T Q x + \\rho (u-u_r)^T H (u-u_r)\n",
    "$$\n",
    "\n",
    "$\\alpha$'s are the diagonal elements of Q.\n",
    "\n",
    "Yes. If $\\alpha$'s and $\\rho$ decrease at the same time, the results wouldn't change. (we will check that next)\n",
    "\n",
    "Decreasing $\\alpha$'s alone is equivalent to increasing $\\rho$ by itself without changing anything else. Of course, increasing the penalty on the motions will publish the motions and results in smaller motions."
   ]
  },
  {
   "cell_type": "markdown",
   "metadata": {},
   "source": [
    "#### Now we decrease $\\alpha$'s and $\\rho$ at the same time, the corrections should be the same as no change\n",
    "\n",
    "#### motion_penalty : `float`\n",
    "        Penalty on control motion as a whole.\n",
    "        \n",
    "        Note: the $\\rho$ above is this `motion_penalty` SQUARED.\n",
    "\n",
    "Penalty on control motion as a whole.\n",
    "The common language (reference) is M2 hexapod piston in um.\n",
    "How many microns of M2 piston does pssn degradation of 1 correspond to?\n",
    "It turns out 1000um is a good number. (so that is 1um for 0.001 of PSSN.)\n",
    "But this penalty below is applied on motion, instead of IQ, so we need to invert 1/1000 = 0.001\n",
    "Use 0, if you accept whatever motion needed to produce best image quality.\n",
    "Use 1e100, if you absolutely hate anything that moves."
   ]
  },
  {
   "cell_type": "code",
   "execution_count": 46,
   "metadata": {},
   "outputs": [],
   "source": [
    "motion_penalty: float = 0.001"
   ]
  },
  {
   "cell_type": "code",
   "execution_count": 54,
   "metadata": {},
   "outputs": [],
   "source": [
    "config[\"motion_penalty\"] = motion_penalty/np.sqrt(2.0)  # add config as needed\n",
    "config_yaml = yaml.safe_dump(config)"
   ]
  },
  {
   "cell_type": "code",
   "execution_count": 55,
   "metadata": {},
   "outputs": [
    {
     "name": "stdout",
     "output_type": "stream",
     "text": [
      "10: Customizing OFC parameters.\n",
      "10: Overriding ofc_data parameter alpha.\n",
      "10: Overriding ofc_data parameter motion_penalty.\n",
      "10: Currently configured with comcam instrument.\n",
      "10: Assuming white light filter to compute aberration.\n",
      "10: Error setting pssn gain. Using default: 0.7.\n",
      "10: Restoring ofc_data values.\n",
      "10: Overriding ofc_data parameter alpha.\n",
      "10: Overriding ofc_data parameter motion_penalty.\n",
      "20: Execute pubEvent_degreeOfFreedom().\n",
      "20: Execute pubEvent_m2HexapodCorrection().\n",
      "20: Execute pubEvent_cameraHexapodCorrection().\n",
      "20: Execute pubEvent_m1m3Correction().\n",
      "20: Execute pubEvent_m2Correction().\n",
      "20: Execute do_resetCorrection().\n",
      "20: Execute pubEvent_degreeOfFreedom().\n",
      "20: Execute pubEvent_m2HexapodCorrection().\n",
      "20: Execute pubEvent_cameraHexapodCorrection().\n",
      "20: Execute pubEvent_m1m3Correction().\n",
      "20: Execute pubEvent_m2Correction().\n"
     ]
    },
    {
     "data": {
      "text/plain": [
       "<ddsutil.MTAOS_ackcmd_8e276e56 at 0x7f409ff51220>"
      ]
     },
     "execution_count": 55,
     "metadata": {},
     "output_type": "execute_result"
    }
   ],
   "source": [
    "await aos.cmd_addAberration.set_start(wf = zernikes, config=config_yaml)\n",
    "dof_alpha_rho = await aos.evt_degreeOfFreedom.aget(timeout = 5.)\n",
    "await aos.cmd_resetCorrection.set_start()"
   ]
  },
  {
   "cell_type": "code",
   "execution_count": 56,
   "metadata": {},
   "outputs": [
    {
     "data": {
      "image/png": "[encoded data removed]",
      "text/plain": [
       "<Figure size 432x288 with 1 Axes>"
      ]
     },
     "metadata": {
      "needs_background": "light"
     },
     "output_type": "display_data"
    }
   ],
   "source": [
    "plt.plot(dof.aggregatedDoF, label='old')\n",
    "plt.plot(dof_alpha_rho.aggregatedDoF, label='new')\n",
    "plt.legend();"
   ]
  },
  {
   "cell_type": "code",
   "execution_count": null,
   "metadata": {},
   "outputs": [],
   "source": [
    "async def ofcUpdateConfig(aos, zernikes, config, dof0):\n",
    "    config_yaml = yaml.safe_dump(config)\n",
    "\n",
    "    await aos.cmd_addAberration.set_start(wf = zernikes, config=config_yaml)\n",
    "    dof = await aos.evt_degreeOfFreedom.aget(timeout = 5.)\n",
    "    await aos.cmd_resetCorrection.set_start()\n",
    "\n",
    "    plt.plot(dof0.aggregatedDoF, label='old')\n",
    "    plt.plot(dof.aggregatedDoF, label='new')\n",
    "    plt.legend();\n",
    "    \n",
    "return dof"
   ]
  },
  {
   "cell_type": "code",
   "execution_count": null,
   "metadata": {},
   "outputs": [],
   "source": [
    "# try rho = 0\n"
   ]
  },
  {
   "cell_type": "code",
   "execution_count": null,
   "metadata": {},
   "outputs": [],
   "source": [
    "# try rho = 1e100\n"
   ]
  },
  {
   "cell_type": "markdown",
   "metadata": {},
   "source": [
    "#### control_strategy : `string`\n",
    "        Name of the control strategy.\n",
    "        \n",
    "# We can set rho = 0 to achieve control_strategy = null. yes.\n",
    "# If we keep control_strategy, we need to make a list with available options. Or, we can get rid of it.\n",
    "# This is listed in both OFCdata and baseOFCData. Is that intended?"
   ]
  },
  {
   "cell_type": "code",
   "execution_count": 60,
   "metadata": {},
   "outputs": [
    {
     "data": {
      "image/png": "[encoded data removed]",
      "text/plain": [
       "<Figure size 432x288 with 1 Axes>"
      ]
     },
     "metadata": {
      "needs_background": "light"
     },
     "output_type": "display_data"
    }
   ],
   "source": [
    "config['control_strategy'] = 'null'\n",
    "dof_strategy = ofcUpdateConfig(aos, zernikes, config, dof0)"
   ]
  },
  {
   "cell_type": "code",
   "execution_count": null,
   "metadata": {},
   "outputs": [],
   "source": [
    "config['control_strategy'] = 'optiPSSN'\n",
    "config['motion_penalty'] = 0\n",
    "dof_penalty_0 = ofcUpdateConfig(aos, zernikes, config, dof0)"
   ]
  },
  {
   "cell_type": "code",
   "execution_count": 2,
   "metadata": {
    "collapsed": true,
    "jupyter": {
     "outputs_hidden": true
    }
   },
   "outputs": [
    {
     "ename": "NameError",
     "evalue": "name 'config_yaml' is not defined",
     "output_type": "error",
     "traceback": [
      "\u001b[0;31m---------------------------------------------------------------------------\u001b[0m",
      "\u001b[0;31mNameError\u001b[0m                                 Traceback (most recent call last)",
      "\u001b[0;32m<ipython-input-2-2c7df3338151>\u001b[0m in \u001b[0;36m<module>\u001b[0;34m\u001b[0m\n\u001b[0;32m----> 1\u001b[0;31m \u001b[0mconfig_yaml\u001b[0m\u001b[0;34m\u001b[0m\u001b[0;34m\u001b[0m\u001b[0m\n\u001b[0m",
      "\u001b[0;31mNameError\u001b[0m: name 'config_yaml' is not defined"
     ]
    }
   ],
   "source": [
    "print(config)"
   ]
  },
  {
   "cell_type": "markdown",
   "metadata": {},
   "source": [
    "###     xref : `string` Default is x00\n",
    "        Define how the control strategy will handle the reference point.\n",
    "###     xref_list : `list` of `string` Default is {\"x00\", \"x0\", \"0\"}\n",
    "        Available reference point strategies.\n",
    "\n",
    "# What I write below need to be tested in this notebook\n",
    "\n",
    "x0: It references the current state, i.e., current positions of the hexapods and current forces on the mirrors. With this, `dof_state0_filename` will NOT make any difference. \n",
    "\n",
    "x00: this references where x0 started at iteration 0. The starting position is defined by `dof_state0_filename`. \n",
    "Moving back to `dof_state0` is most preferable, i.e., u=-aggregatedDOF is the most preferable.\n",
    "So `aggregatedDOF` is all that the OFC needs. `dof_state0_filename` will NOT make any difference. \n",
    "\n",
    "0: It references the zero position of the hexapods, zero aos forces on the mirrors. This will be useful if drifting becomes a main concern.\n",
    "Because moving back to 0, i.e., u=-x0, is most preferable, OFC needs to know x0, i.e., it needs to know where we are. The OFC knows where we are from (dof_state0 + aggreatedDOF). So, `dof_state0_filename` should make a difference.\n",
    "Right now, these are put as all zeros, which makes this option same as \"x00\" above. \n",
    "But the planned usage is that I will set the mirror bending modes as all zeros, and hexapod state0 at their LUT positions (get them from `evt_compensationOffset`).\n",
    "\n",
    "Note that even though the mirrors absorb bending modes into their LUTs, they are applied as individual forces; the mirrors know nothing about bending modes. And, those bending modes absorbed into the mirror LUTs are supposed to reduce stress on the glass.\n",
    "\n",
    "In principle, we can use this feature to reference any position. If you want to reference state X, put -X in `dof_state0_filename`.\n",
    "But in reality, what makes most sense is to use the hexapod compensationOffset as described above."
   ]
  },
  {
   "cell_type": "code",
   "execution_count": null,
   "metadata": {},
   "outputs": [],
   "source": [
    "## add same aberration twice, the corrections do NOT double\n",
    "\n",
    "await aos.cmd_resetCorrection.set_start()"
   ]
  },
  {
   "cell_type": "code",
   "execution_count": null,
   "metadata": {},
   "outputs": [],
   "source": [
    "## Double the aberration, do the corrections double? yes\n",
    "zernikes[7-4] = 2 # z7 = 2um\n",
    "\n",
    "await aos.cmd_resetCorrection.set_start()"
   ]
  },
  {
   "cell_type": "code",
   "execution_count": 97,
   "metadata": {},
   "outputs": [],
   "source": [
    "#change xref, dof will be different\n",
    "config[\"xref\"] = \"x0\"  # add config as needed\n",
    "dof_xref_x0 = ofcUpdateConfig(aos, zernikes, config, dof0)"
   ]
  },
  {
   "cell_type": "code",
   "execution_count": null,
   "metadata": {},
   "outputs": [],
   "source": [
    "## add same aberration twice, the corrections now double\n",
    "\n",
    "await aos.cmd_resetCorrection.set_start()"
   ]
  },
  {
   "cell_type": "markdown",
   "metadata": {},
   "source": [
    "### dof_state0_filename : `string`\n",
    "        Name of the file with the initial degrees of freedom.\n",
    "\n",
    "# Next, need to talk to Tiago, to pass `dof_state0_filename` as a dictionary, not a file. "
   ]
  },
  {
   "cell_type": "code",
   "execution_count": null,
   "metadata": {},
   "outputs": [],
   "source": [
    "dof_state0_filename: str = \"state0inDof.yaml\""
   ]
  },
  {
   "cell_type": "markdown",
   "metadata": {},
   "source": [
    "### eff_wavelength : `dict` of `string`\n",
    "        Effective wavelength in um for each filter.\n",
    "The only reason the eff_wavelength matters is that (1-PSSN) is proportional to Zernike square in radian.\n",
    "\n",
    "This enters as $Q=(2\\pi/\\lambda)^2O$. So if we double $\\lambda$, it is like increasing penalty on motions. \n",
    "If we double $\\lambda$ and multiple $\\alpha$ by 4, output will stay the same."
   ]
  },
  {
   "cell_type": "code",
   "execution_count": 4,
   "metadata": {},
   "outputs": [
    {
     "data": {
      "text/plain": [
       "2.3548200450309493"
      ]
     },
     "execution_count": 4,
     "metadata": {},
     "output_type": "execute_result"
    }
   ],
   "source": [
    "config[\"eff_wavelength\"] = 1.0\n",
    "dof_effwave_1 = ofcUpdateConfig(aos, zernikes, config, dof0)"
   ]
  },
  {
   "cell_type": "code",
   "execution_count": null,
   "metadata": {},
   "outputs": [],
   "source": [
    "config[\"alpha\"] = (alpha*4.).tolist()\n",
    "dof_effwave_alpha = ofcUpdateConfig(aos, zernikes, config, dof0)"
   ]
  },
  {
   "cell_type": "markdown",
   "metadata": {},
   "source": [
    "### intrinsic_zk_filename_root : `string`\n",
    "        Filename root string for the intrinsic zernike coefficients.\n",
    "        \n",
    "These matter if the inputs to OFC are measured Zernikes. They should not matter for `cmd_addAberration`.\n",
    "        \n",
    "# Where do we make copies of these files? login onto the kb pods???"
   ]
  },
  {
   "cell_type": "code",
   "execution_count": null,
   "metadata": {},
   "outputs": [],
   "source": []
  },
  {
   "cell_type": "markdown",
   "metadata": {},
   "source": [
    "#### iqw_filename : `str`\n",
    "        Image quality weight filename.\n",
    "These are the GQ weights. They will make differences to the OFC output. For example, if we set all fields other than field center to zero weight, the resulting motions will only be optimizing the field center."
   ]
  },
  {
   "cell_type": "code",
   "execution_count": null,
   "metadata": {},
   "outputs": [],
   "source": []
  },
  {
   "cell_type": "code",
   "execution_count": null,
   "metadata": {},
   "outputs": [],
   "source": []
  },
  {
   "cell_type": "markdown",
   "metadata": {},
   "source": [
    "### m1m3_actuator_penalty : `float`\n",
    "        M1M3 actuator penalty factor.\n",
    "\n",
    "The common language (reference) is M2 hexapod piston in um.\n",
    "\n",
    "How many microns of M2 piston does 1N rms force correspond to?\n",
    "\n",
    "The bigger the number, the bigger the penalty\n",
    "\n",
    " 13.2584 below = 5900/445. \n",
    " \n",
    "445 means 445N, rms reaching 445N is as bad as M2 piston reaching 5900um\n",
    "\n",
    "M1M3_actuator_penalty   13.2584\n",
    "\n",
    "If we double this number, M1M3 forces will decrease."
   ]
  },
  {
   "cell_type": "code",
   "execution_count": null,
   "metadata": {},
   "outputs": [],
   "source": [
    "config[\"M1M3_actuator_penalty\"] =   13.2584"
   ]
  },
  {
   "cell_type": "code",
   "execution_count": null,
   "metadata": {},
   "outputs": [],
   "source": []
  },
  {
   "cell_type": "markdown",
   "metadata": {},
   "source": [
    "### m2_actuator_penalty : `float`\n",
    "        M2 actuator penalty factor.\n",
    "The common language (reference) is M2 hexapod piston in um.\n",
    "\n",
    "How many microns of M2 piston does 1N rms force correspond to?\n",
    "\n",
    "The bigger the number, the bigger the penalty\n",
    "\n",
    "M2 F budget for AOS = 44N. 5900/44 = 134\n",
    "\n",
    "M2_actuator_penalty   134"
   ]
  },
  {
   "cell_type": "code",
   "execution_count": null,
   "metadata": {},
   "outputs": [],
   "source": [
    "config[\"M2_actuator_penalty\"] = 134"
   ]
  },
  {
   "cell_type": "code",
   "execution_count": null,
   "metadata": {},
   "outputs": [],
   "source": []
  },
  {
   "cell_type": "markdown",
   "metadata": {},
   "source": [
    "### rb_stroke : `np.array` of `float`\n",
    "        Allowed moving range of rigid body of M2 hexapod and Camera hexapod in\n",
    "        the unit of um. e.g. rbStroke[0] means the M2 piston is allowed to move\n",
    "        +5900 um to -5900 um.\n",
    "These can be used to adjust the relative weighting between the 10 rigid body DOFs of the two hexapods.\n",
    "\n",
    "H = block_diag(mHr, rhoM13**2*mHM13, rhoM2**2*mHM2)"
   ]
  },
  {
   "cell_type": "code",
   "execution_count": null,
   "metadata": {},
   "outputs": [],
   "source": [
    "rb_stroke: np.ndarray = np.array(\n",
    "        [5900, 6700, 6700, 432, 432, 8700, 7600, 7600, 864, 864]\n",
    "    )"
   ]
  },
  {
   "cell_type": "code",
   "execution_count": null,
   "metadata": {},
   "outputs": [],
   "source": []
  },
  {
   "cell_type": "markdown",
   "metadata": {},
   "source": [
    "### sen_m_filename_root : `string`\n",
    "        Filename root string for the sensitivity matrix M.\n",
    "        \n",
    "If we double all elements, only half of the motion will be needed.\n",
    "\n",
    "# Should we simply have `sensitivity_matrix_file`?"
   ]
  },
  {
   "cell_type": "code",
   "execution_count": null,
   "metadata": {},
   "outputs": [],
   "source": [
    "sen_m_filename_root: str = \"senM\""
   ]
  },
  {
   "cell_type": "markdown",
   "metadata": {},
   "source": [
    "### sensor_mapping_filename : `string`\n",
    "        Name of the file with the mapping between the sensor name and field\n",
    "        index.\n",
    "comcam has 9 rows.\n",
    "\n",
    "lsstfam has 189 rows.\n",
    "\n",
    "# lsst has 201 rows: 189+12 sensors are mapped to 35 field points? how? Te-Wei?\n",
    "\n",
    "These will never need to be reconfigured."
   ]
  },
  {
   "cell_type": "code",
   "execution_count": null,
   "metadata": {},
   "outputs": [],
   "source": []
  },
  {
   "cell_type": "markdown",
   "metadata": {},
   "source": [
    "# How do I change instrument? using the below?\n",
    "\n",
    "###     name : `string`\n",
    "        Name of the instrument configuration. This is used to define where\n",
    "        `intrinsic_zk` and `y2` will be read from.\n",
    "\n",
    "# not just intrinsic_zk and y2 right? there are more files in those folders."
   ]
  },
  {
   "cell_type": "code",
   "execution_count": null,
   "metadata": {},
   "outputs": [],
   "source": [
    "config[\"name\"] = \"lsst\""
   ]
  },
  {
   "cell_type": "code",
   "execution_count": null,
   "metadata": {},
   "outputs": [],
   "source": []
  },
  {
   "cell_type": "markdown",
   "metadata": {},
   "source": [
    "### y2_filename : `string`\n",
    "        Name of the file where `y2_correction` is read from.\n",
    "comcam: 9x19, for z4-z22\n",
    "\n",
    "lsst: 35x19, for z4-z22\n",
    "\n",
    "lsstfam: 189x19, for z4-z22\n",
    "\n",
    "This y2 characterizes the difference between field center and corner wavefronts.\n",
    "This difference is mostly produced by the uncontrolled DOFs such as those internal to the camera. The difference in the design aberration contributes to the difference between center and corner as well, but on a much less significant level.\n",
    "The common component (between corner and center) produced by the uncontrolled DOF is already captured in the estimated system state (x^hat). This y2 here captures the part that differs between corner and the field center.\n",
    "\n",
    "y2 for comcam and lsstfam are not really needed, because there is no concept of field center vs corner. They should always stay at all zeros. For `lsst`, we will need to calibrate and put in non-zero values.\n",
    "\n",
    "What we need to do in reality is that we will produce maps of Zn across the focal plane, including corner and field center. We then subtract the averages of the corners for each Zn, so that on the new maps the corner wavefront for each Zernike averages to zero. If the center turns out to be negative that means we need to reduce the wavefront estimates from CWFS before they are used for state estimation.\n",
    "\n",
    "As a test, we can make the following change to `lsst` y2: leave fields 32-35 at 0, make fields 1-31 to be -1um of z7.\n",
    "But, this is not expected to have any effect on `cmd_addAberration`.\n",
    "This command attempts to add 1um of Z7 to each of the 4 corners. y2 will only have an impact on OFC when the input wavefront errors are from `evt_wavefrontError`."
   ]
  },
  {
   "cell_type": "code",
   "execution_count": null,
   "metadata": {},
   "outputs": [],
   "source": []
  },
  {
   "cell_type": "markdown",
   "metadata": {},
   "source": [
    "###     zn3_idx : `np.array` of `bool`\n",
    "        Index of annular Zernike polynomials (z3-z22) (`True`: in use, `False`:\n",
    "        not in use).\n",
    "Test: with the 1um z7 `cmd_addAberration`, if we use `zn3_idx` to set z7 to False, we should get some crazy corrections. It shouldn't be zero, because it may attempt using other Zernikes such as z17 to add z7.\n",
    "\n",
    "# The below is how this is initialized in the code. Do we need to make it an array of ones and zeros???"
   ]
  },
  {
   "cell_type": "code",
   "execution_count": null,
   "metadata": {},
   "outputs": [],
   "source": [
    "zn3_idx: np.ndarray = np.arange(19)"
   ]
  },
  {
   "cell_type": "code",
   "execution_count": 1,
   "metadata": {},
   "outputs": [],
   "source": [
    "import numpy as np"
   ]
  },
  {
   "cell_type": "code",
   "execution_count": 6,
   "metadata": {},
   "outputs": [
    {
     "data": {
      "text/plain": [
       "array([1., 1., 1., 1., 1., 1., 1., 1., 1., 1., 1., 1., 1., 1., 1., 1., 1.,\n",
       "       1., 1.])"
      ]
     },
     "execution_count": 6,
     "metadata": {},
     "output_type": "execute_result"
    }
   ],
   "source": [
    "np.ones(19)*True"
   ]
  },
  {
   "cell_type": "code",
   "execution_count": null,
   "metadata": {},
   "outputs": [],
   "source": []
  },
  {
   "cell_type": "markdown",
   "metadata": {},
   "source": [
    "### zn3_idx_in_intrinsic_zn_file : `int`\n",
    "        Specify where the zernike data starts when reading the intrinsic\n",
    "        zernike coefficients.\n",
    "# Does this need to be reconfigured?"
   ]
  },
  {
   "cell_type": "code",
   "execution_count": null,
   "metadata": {},
   "outputs": [],
   "source": []
  },
  {
   "cell_type": "markdown",
   "metadata": {},
   "source": [
    "### znmax : `int`\n",
    "        Max number of zernikes used (to be filtered with `zn3_idx`).\n",
    "Try to use znmax = 23, does that work? I recall z23 was never implemented. So it should give an error\n",
    "\n",
    "Try to use znmax = 6. This should produce some crazy results because it is not possible to add z7 using znmax=6."
   ]
  },
  {
   "cell_type": "code",
   "execution_count": null,
   "metadata": {},
   "outputs": [],
   "source": []
  },
  {
   "cell_type": "markdown",
   "metadata": {},
   "source": [
    "### bend_mode : `dict`\n",
    "        Dictionary to hold bending mode data. The data is read alongside the\n",
    "        other files when the name is set.\n",
    "# Should we get rid of the rotMatxxx.yaml? Are they being used? or just a note to ourselves. The explanations about the coordinate systems are confusing, which makes users more confused. Why do we have \"act: 1.0\"? shouldn't we have 3 numbers for x,y, and z, if they are for coordinate transformation?\n",
    "\n",
    "If we make all the bending modes half of their size. The corrections in DOF will be about double? No, these bending modes are just for sending out force commands, and determining control authority. How will the output DOFs change?: we will see mirror DOFs increase, because reducing these is simply reducing the penalties on the bending modes. Do not forget, updating these bending modes requires updating the senM at the same time, or it doesn't make sense.\n",
    "\n",
    "Reduce `rb_stroke` by half at the same time would keep the output DOFs unchanged."
   ]
  },
  {
   "cell_type": "code",
   "execution_count": null,
   "metadata": {},
   "outputs": [],
   "source": [
    "self.bend_mode = {\n",
    "    \"M1M3\": {\n",
    "        \"force\": {\"filename\": \"M1M3_1um_156_force.yaml\"},\n",
    "        \"rot\": {\"filename\": \"rotMatM1M3.yaml\"},\n",
    "    },\n",
    "    \"M2\": {\n",
    "        \"force\": {\"filename\": \"M2_1um_72_force.yaml\"},\n",
    "        \"rot\": {\"filename\": \"rotMatM2.yaml\"},\n",
    "    },\n",
    "}"
   ]
  },
  {
   "cell_type": "code",
   "execution_count": null,
   "metadata": {},
   "outputs": [],
   "source": []
  },
  {
   "cell_type": "markdown",
   "metadata": {},
   "source": [
    "### config_dir : `pathlib.Path`\n",
    "        Path to the directory storing configuration files.\n",
    "\n",
    "# Make a copy of `policy`, call it `policy_whatever`, and point it this?\n",
    "\n",
    "# While trying to redefine this, do we need to supply the full path as seen on the kb pod???\n",
    "\n",
    "Test: \n",
    "\n",
    "* give a non-existent path, observe the error message\n",
    "* the folder only has M1M3, and empty, observe the error message\n",
    "* the folder only has M1M3, with one file, observe the error message\n",
    "* the folder only has M1M3, with two files, observe the error message\n",
    "* do the same for M2, step by step.\n",
    "* do the same for comcam, step by step.\n",
    "* double senM, save it to the new folder. OFC outputs should all be reduced by half."
   ]
  },
  {
   "cell_type": "code",
   "execution_count": null,
   "metadata": {},
   "outputs": [],
   "source": []
  },
  {
   "cell_type": "markdown",
   "metadata": {},
   "source": [
    "###     dof_idx : `dict` of `string`\n",
    "        Index of Degree of Freedom (DOF).\n",
    "        \n",
    "# what is dof_idx vs comp_dof_idx??"
   ]
  },
  {
   "cell_type": "code",
   "execution_count": 75,
   "metadata": {
    "collapsed": true,
    "jupyter": {
     "outputs_hidden": true
    }
   },
   "outputs": [
    {
     "name": "stdout",
     "output_type": "stream",
     "text": [
      "40: Error setting value in ofc_data. Restoring original values.\n"
     ]
    },
    {
     "ename": "AckError",
     "evalue": "msg='Command failed', ackcmd=(ackcmd private_seqNum=219186663, ack=<SalRetCode.CMD_FAILED: -302>, error=1, result='Failed: Size of input vector (4) different than expected (5).')",
     "output_type": "error",
     "traceback": [
      "\u001b[0;31m---------------------------------------------------------------------------\u001b[0m",
      "\u001b[0;31mAckError\u001b[0m                                  Traceback (most recent call last)",
      "\u001b[0;32m<ipython-input-75-c5c4b8781715>\u001b[0m in \u001b[0;36m<module>\u001b[0;34m\u001b[0m\n\u001b[1;32m      8\u001b[0m \u001b[0mconfig\u001b[0m \u001b[0;34m=\u001b[0m \u001b[0;34m{\u001b[0m\u001b[0;34m\"comp_dof_idx\"\u001b[0m\u001b[0;34m:\u001b[0m\u001b[0mnew_comp_dof_idx\u001b[0m\u001b[0;34m}\u001b[0m\u001b[0;34m\u001b[0m\u001b[0;34m\u001b[0m\u001b[0m\n\u001b[1;32m      9\u001b[0m \u001b[0mconfig_yaml\u001b[0m \u001b[0;34m=\u001b[0m \u001b[0myaml\u001b[0m\u001b[0;34m.\u001b[0m\u001b[0msafe_dump\u001b[0m\u001b[0;34m(\u001b[0m\u001b[0mconfig\u001b[0m\u001b[0;34m)\u001b[0m\u001b[0;34m\u001b[0m\u001b[0;34m\u001b[0m\u001b[0m\n\u001b[0;32m---> 10\u001b[0;31m \u001b[0;32mawait\u001b[0m \u001b[0maos\u001b[0m\u001b[0;34m.\u001b[0m\u001b[0mcmd_addAberration\u001b[0m\u001b[0;34m.\u001b[0m\u001b[0mset_start\u001b[0m\u001b[0;34m(\u001b[0m\u001b[0mwf\u001b[0m \u001b[0;34m=\u001b[0m \u001b[0mzernikes\u001b[0m\u001b[0;34m,\u001b[0m \u001b[0mconfig\u001b[0m\u001b[0;34m=\u001b[0m\u001b[0mconfig_yaml\u001b[0m\u001b[0;34m)\u001b[0m\u001b[0;34m\u001b[0m\u001b[0;34m\u001b[0m\u001b[0m\n\u001b[0m",
      "\u001b[0;32m/opt/lsst/src/ts_salobj/python/lsst/ts/salobj/topics/remote_command.py\u001b[0m in \u001b[0;36mset_start\u001b[0;34m(self, timeout, wait_done, **kwargs)\u001b[0m\n\u001b[1;32m    392\u001b[0m         \"\"\"\n\u001b[1;32m    393\u001b[0m         \u001b[0mself\u001b[0m\u001b[0;34m.\u001b[0m\u001b[0mset\u001b[0m\u001b[0;34m(\u001b[0m\u001b[0;34m**\u001b[0m\u001b[0mkwargs\u001b[0m\u001b[0;34m)\u001b[0m\u001b[0;34m\u001b[0m\u001b[0;34m\u001b[0m\u001b[0m\n\u001b[0;32m--> 394\u001b[0;31m         \u001b[0;32mreturn\u001b[0m \u001b[0;32mawait\u001b[0m \u001b[0mself\u001b[0m\u001b[0;34m.\u001b[0m\u001b[0mstart\u001b[0m\u001b[0;34m(\u001b[0m\u001b[0mtimeout\u001b[0m\u001b[0;34m=\u001b[0m\u001b[0mtimeout\u001b[0m\u001b[0;34m,\u001b[0m \u001b[0mwait_done\u001b[0m\u001b[0;34m=\u001b[0m\u001b[0mwait_done\u001b[0m\u001b[0;34m)\u001b[0m\u001b[0;34m\u001b[0m\u001b[0;34m\u001b[0m\u001b[0m\n\u001b[0m\u001b[1;32m    395\u001b[0m \u001b[0;34m\u001b[0m\u001b[0m\n\u001b[1;32m    396\u001b[0m     \u001b[0;32masync\u001b[0m \u001b[0;32mdef\u001b[0m \u001b[0mstart\u001b[0m\u001b[0;34m(\u001b[0m\u001b[0mself\u001b[0m\u001b[0;34m,\u001b[0m \u001b[0mdata\u001b[0m\u001b[0;34m=\u001b[0m\u001b[0;32mNone\u001b[0m\u001b[0;34m,\u001b[0m \u001b[0mtimeout\u001b[0m\u001b[0;34m=\u001b[0m\u001b[0mDEFAULT_TIMEOUT\u001b[0m\u001b[0;34m,\u001b[0m \u001b[0mwait_done\u001b[0m\u001b[0;34m=\u001b[0m\u001b[0;32mTrue\u001b[0m\u001b[0;34m)\u001b[0m\u001b[0;34m:\u001b[0m\u001b[0;34m\u001b[0m\u001b[0;34m\u001b[0m\u001b[0m\n",
      "\u001b[0;32m/opt/lsst/src/ts_salobj/python/lsst/ts/salobj/topics/remote_command.py\u001b[0m in \u001b[0;36mstart\u001b[0;34m(self, data, timeout, wait_done)\u001b[0m\n\u001b[1;32m    447\u001b[0m         )\n\u001b[1;32m    448\u001b[0m         \u001b[0mself\u001b[0m\u001b[0;34m.\u001b[0m\u001b[0msalinfo\u001b[0m\u001b[0;34m.\u001b[0m\u001b[0m_running_cmds\u001b[0m\u001b[0;34m[\u001b[0m\u001b[0mseq_num\u001b[0m\u001b[0;34m]\u001b[0m \u001b[0;34m=\u001b[0m \u001b[0mcmd_info\u001b[0m\u001b[0;34m\u001b[0m\u001b[0;34m\u001b[0m\u001b[0m\n\u001b[0;32m--> 449\u001b[0;31m         \u001b[0;32mreturn\u001b[0m \u001b[0;32mawait\u001b[0m \u001b[0mcmd_info\u001b[0m\u001b[0;34m.\u001b[0m\u001b[0mnext_ackcmd\u001b[0m\u001b[0;34m(\u001b[0m\u001b[0mtimeout\u001b[0m\u001b[0;34m=\u001b[0m\u001b[0mtimeout\u001b[0m\u001b[0;34m)\u001b[0m\u001b[0;34m\u001b[0m\u001b[0;34m\u001b[0m\u001b[0m\n\u001b[0m",
      "\u001b[0;32m/opt/lsst/src/ts_salobj/python/lsst/ts/salobj/topics/remote_command.py\u001b[0m in \u001b[0;36mnext_ackcmd\u001b[0;34m(self, timeout)\u001b[0m\n\u001b[1;32m    180\u001b[0m             \u001b[0mackcmd\u001b[0m \u001b[0;34m=\u001b[0m \u001b[0;32mawait\u001b[0m \u001b[0mself\u001b[0m\u001b[0;34m.\u001b[0m\u001b[0m_wait_task\u001b[0m\u001b[0;34m\u001b[0m\u001b[0;34m\u001b[0m\u001b[0m\n\u001b[1;32m    181\u001b[0m             \u001b[0;32mif\u001b[0m \u001b[0mackcmd\u001b[0m\u001b[0;34m.\u001b[0m\u001b[0mack\u001b[0m \u001b[0;32min\u001b[0m \u001b[0mself\u001b[0m\u001b[0;34m.\u001b[0m\u001b[0mfailed_ack_codes\u001b[0m\u001b[0;34m:\u001b[0m\u001b[0;34m\u001b[0m\u001b[0;34m\u001b[0m\u001b[0m\n\u001b[0;32m--> 182\u001b[0;31m                 \u001b[0;32mraise\u001b[0m \u001b[0mbase\u001b[0m\u001b[0;34m.\u001b[0m\u001b[0mAckError\u001b[0m\u001b[0;34m(\u001b[0m\u001b[0mmsg\u001b[0m\u001b[0;34m=\u001b[0m\u001b[0;34m\"Command failed\"\u001b[0m\u001b[0;34m,\u001b[0m \u001b[0mackcmd\u001b[0m\u001b[0;34m=\u001b[0m\u001b[0mackcmd\u001b[0m\u001b[0;34m)\u001b[0m\u001b[0;34m\u001b[0m\u001b[0;34m\u001b[0m\u001b[0m\n\u001b[0m\u001b[1;32m    183\u001b[0m             \u001b[0;32mreturn\u001b[0m \u001b[0mackcmd\u001b[0m\u001b[0;34m\u001b[0m\u001b[0;34m\u001b[0m\u001b[0m\n\u001b[1;32m    184\u001b[0m         \u001b[0;32mexcept\u001b[0m \u001b[0masyncio\u001b[0m\u001b[0;34m.\u001b[0m\u001b[0mTimeoutError\u001b[0m\u001b[0;34m:\u001b[0m\u001b[0;34m\u001b[0m\u001b[0;34m\u001b[0m\u001b[0m\n",
      "\u001b[0;31mAckError\u001b[0m: msg='Command failed', ackcmd=(ackcmd private_seqNum=219186663, ack=<SalRetCode.CMD_FAILED: -302>, error=1, result='Failed: Size of input vector (4) different than expected (5).')"
     ]
    },
    {
     "name": "stdout",
     "output_type": "stream",
     "text": [
      "40: Callback <bound method MTAOS.do_addAberration of <lsst.ts.MTAOS.mtaos.MTAOS object at 0x7f57eaeeee50>> failed with data=private_revCode: 8adfd49b, private_sndStamp: 1621014608.1501071, private_rcvStamp: 1621014608.1506572, private_seqNum: 219186663, private_identity: Script:7, private_origin: 7807, private_host: 0, wf: [0.0, 0.0, 0.0, 1.0, 0.0, 0.0, 0.0, 0.0, 0.0, 0.0, 0.0, 0.0, 0.0, 0.0, 0.0, 0.0, 0.0, 0.0, 0.0], config: comp_dof_idx:\n",
      "  M1M3Bend:\n",
      "  - false\n",
      "  - false\n",
      "  - false\n",
      "  - false\n",
      "  - false\n",
      "  - false\n",
      "  - false\n",
      "  - false\n",
      "  - false\n",
      "  - false\n",
      "  - false\n",
      "  - false\n",
      "  - false\n",
      "  - false\n",
      "  - false\n",
      "  - false\n",
      "  - false\n",
      "  - false\n",
      "  - false\n",
      "  - false\n",
      "  M2Bend:\n",
      "  - false\n",
      "  - false\n",
      "  - false\n",
      "  - false\n",
      "  - false\n",
      "  - false\n",
      "  - false\n",
      "  - false\n",
      "  - false\n",
      "  - false\n",
      "  - false\n",
      "  - false\n",
      "  - false\n",
      "  - false\n",
      "  - false\n",
      "  - false\n",
      "  - false\n",
      "  - false\n",
      "  - false\n",
      "  - false\n",
      "  camHexPos:\n",
      "  - true\n",
      "  - true\n",
      "  - true\n",
      "  - true\n",
      "  - true\n",
      "  m2HexPos:\n",
      "  - false\n",
      "  - false\n",
      "  - false\n",
      "  - false\n",
      "  - false\n",
      "\n"
     ]
    }
   ],
   "source": [
    "# Disable all corrections except camera hexapod\n",
    "new_comp_dof_idx = dict(\n",
    "    m2HexPos=np.zeros(5, dtype=bool).tolist(),\n",
    "    camHexPos=np.ones(5, dtype=bool).tolist(),\n",
    "    M1M3Bend=np.zeros(20, dtype=bool).tolist(),\n",
    "    M2Bend=np.zeros(20, dtype=bool).tolist(),\n",
    ")\n",
    "config = {\"comp_dof_idx\":new_comp_dof_idx}\n",
    "config_yaml = yaml.safe_dump(config)\n",
    "await aos.cmd_addAberration.set_start(wf = zernikes, config=config_yaml) "
   ]
  },
  {
   "cell_type": "code",
   "execution_count": null,
   "metadata": {},
   "outputs": [],
   "source": []
  },
  {
   "cell_type": "code",
   "execution_count": null,
   "metadata": {},
   "outputs": [],
   "source": []
  },
  {
   "cell_type": "markdown",
   "metadata": {},
   "source": [
    "    field_idx : `dict` of `string`\n",
    "        Mapping between sensor name and field index.\n",
    "        --- how is this different from `sensor_mapping_filename`?\n",
    "    idx_dof : `dict` of `string`\n",
    "        Index of Degree of Freedom (DOF)\n",
    "        --- how is this different from `dof_idx`?\n",
    "    intrinsic_zk : `dict` of `string`\n",
    "        Intrinsic zernike coefficients per band per detector for a specific\n",
    "        instrument configuration.\n",
    "        --- vs `intrinsic_zk_filename_root`\n",
    "    log : `logging.Logger`\n",
    "        Logger class used for logging operations.\n",
    "        --- do I need to configure this?\n",
    "    sensitivity_matrix : `np.ndarray` of `float`\n",
    "        Sensitivity matrix M.\n",
    "        --- vs. sen_m_filename_root?\n",
    "    start_task : `asyncio.Future`\n",
    "        Asyncio future that tracks whether the class is setup and ready or not.\n",
    "        --- do I need to configure this?\n",
    "    y2_correction : `np.ndarray` of `float`\n",
    "        Y2 correction.\n",
    "        --- vs `y2_filename`?"
   ]
  },
  {
   "cell_type": "code",
   "execution_count": null,
   "metadata": {},
   "outputs": [],
   "source": []
  },
  {
   "cell_type": "markdown",
   "metadata": {},
   "source": [
    "# Go through all the .esti and .ctrl files in IM, and see if anything is missing"
   ]
  },
  {
   "cell_type": "markdown",
   "metadata": {},
   "source": [
    "# should we let the user pass a H matrix? we may need to configure individual off-diagonal elements."
   ]
  },
  {
   "cell_type": "markdown",
   "metadata": {},
   "source": [
    "#### Useful configs:\n",
    "\n",
    "1. motion_penalty = 0.001\n",
    "2. control_strategy = optiPSSN"
   ]
  },
  {
   "cell_type": "code",
   "execution_count": 76,
   "metadata": {
    "collapsed": true,
    "jupyter": {
     "outputs_hidden": true
    }
   },
   "outputs": [
    {
     "data": {
      "text/plain": [
       "'comp_dof_idx:\\n  M1M3Bend:\\n  - false\\n  - false\\n  - false\\n  - false\\n  - false\\n  - false\\n  - false\\n  - false\\n  - false\\n  - false\\n  - false\\n  - false\\n  - false\\n  - false\\n  - false\\n  - false\\n  - false\\n  - false\\n  - false\\n  - false\\n  M2Bend:\\n  - false\\n  - false\\n  - false\\n  - false\\n  - false\\n  - false\\n  - false\\n  - false\\n  - false\\n  - false\\n  - false\\n  - false\\n  - false\\n  - false\\n  - false\\n  - false\\n  - false\\n  - false\\n  - false\\n  - false\\n  camHexPos:\\n  - true\\n  - true\\n  - true\\n  - true\\n  - true\\n  m2HexPos:\\n  - false\\n  - false\\n  - false\\n  - false\\n  - false\\n'"
      ]
     },
     "execution_count": 76,
     "metadata": {},
     "output_type": "execute_result"
    }
   ],
   "source": [
    "config_yaml"
   ]
  },
  {
   "cell_type": "markdown",
   "metadata": {},
   "source": [
    "### Close up"
   ]
  },
  {
   "cell_type": "code",
   "execution_count": 129,
   "metadata": {},
   "outputs": [
    {
     "data": {
      "text/plain": [
       "[<State.ENABLED: 2>, <State.DISABLED: 1>, <State.STANDBY: 5>]"
      ]
     },
     "execution_count": 129,
     "metadata": {},
     "output_type": "execute_result"
    }
   ],
   "source": [
    "await salobj.set_summary_state(aos, salobj.State.STANDBY)"
   ]
  }
 ],
 "metadata": {
  "kernelspec": {
   "display_name": "LSST",
   "language": "python",
   "name": "lsst"
  },
  "language_info": {
   "codemirror_mode": {
    "name": "ipython",
    "version": 3
   },
   "file_extension": ".py",
   "mimetype": "text/x-python",
   "name": "python",
   "nbconvert_exporter": "python",
   "pygments_lexer": "ipython3",
   "version": "3.8.8"
  }
 },
 "nbformat": 4,
 "nbformat_minor": 4
}
