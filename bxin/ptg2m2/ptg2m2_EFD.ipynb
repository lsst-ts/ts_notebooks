{
 "cells": [
  {
   "cell_type": "markdown",
   "metadata": {},
   "source": [
    "### This notebook is for NTS and the summit\n",
    "### We get the LUT force info from the EFD\n",
    "### we compare the M2 simulator LUT implementation with Harris csv files, before and after the slew"
   ]
  },
  {
   "cell_type": "code",
   "execution_count": null,
   "metadata": {},
   "outputs": [],
   "source": [
    "from openpyxl import load_workbook\n",
    "\n",
    "from astropy.time import Time\n",
    "from datetime import timedelta, datetime\n",
    "from lsst_efd_client import EfdClient\n",
    "\n",
    "import matplotlib.pyplot as plt\n",
    "import scipy.io\n",
    "import numpy as np\n",
    "import pandas as pd\n",
    "import os\n",
    "\n",
    "from pandas.plotting import register_matplotlib_converters\n",
    "register_matplotlib_converters()"
   ]
  },
  {
   "cell_type": "code",
   "execution_count": null,
   "metadata": {},
   "outputs": [],
   "source": [
    "summit = 1 #use this for summit testing\n",
    "#summit = 0 #use this for NCSA"
   ]
  },
  {
   "cell_type": "code",
   "execution_count": null,
   "metadata": {},
   "outputs": [],
   "source": [
    "if summit:\n",
    "    #start = Time('2021-03-25T15:10:00', scale = 'tai') #this is UTC\n",
    "    #end   = Time('2021-03-25T15:11:00', scale = 'tai') \n",
    "    start = Time('2021-04-20T15:49:00', scale = 'tai') #this is UTC\n",
    "    end   = Time('2021-04-20T15:50:00', scale = 'tai') \n",
    "    client = EfdClient('summit_efd')\n",
    "else:\n",
    "    #NCSA\n",
    "    start = Time('2021-03-23T22:25:00', scale = 'tai') \n",
    "    end   = Time('2021-03-23T22:26:00', scale = 'tai') \n",
    "    client = EfdClient('ncsa_teststand_efd')\n",
    "\n",
    "csc_index = 1\n",
    "aF = await client.select_time_series('lsst.sal.MTM2.axialForce', '*', start, end, csc_index)\n",
    "tF = await client.select_time_series('lsst.sal.MTM2.tangentForce', '*', start, end, csc_index)\n",
    "temp = await client.select_time_series('lsst.sal.MTM2.temperature', '*', start, end, csc_index)\n",
    "zA = await client.select_time_series('lsst.sal.MTM2.zenithAngle', '*', start, end, csc_index)\n",
    "#for the testing on 4/20/21, we always used mount telemetry for M2 LUT - so the below is needed\n",
    "#zA = await client.select_time_series('lsst.sal.MTMount.elevation', '*', start, end, csc_index)\n",
    "#zA['measured'] = 90 - zA.actualPosition"
   ]
  },
  {
   "cell_type": "code",
   "execution_count": null,
   "metadata": {},
   "outputs": [],
   "source": [
    "if summit:\n",
    "    #start = Time('2021-03-25T16:10:00', scale = 'tai') #this is UTC\n",
    "    #end   = Time('2021-03-25T16:11:00', scale = 'tai') \n",
    "    start = Time('2021-04-20T15:51:30', scale = 'tai') #this is UTC\n",
    "    end   = Time('2021-04-20T15:55:00', scale = 'tai') \n",
    "    client = EfdClient('summit_efd')\n",
    "else:\n",
    "    #NCSA\n",
    "    start = Time('2021-03-23T22:29:00', scale = 'tai') \n",
    "    end   = Time('2021-03-23T22:30:00', scale = 'tai') \n",
    "    client = EfdClient('ncsa_teststand_efd')\n",
    "\n",
    "aF2 = await client.select_time_series('lsst.sal.MTM2.axialForce', '*', start, end, csc_index)\n",
    "tF2 = await client.select_time_series('lsst.sal.MTM2.tangentForce', '*', start, end, csc_index)\n",
    "temp2 = await client.select_time_series('lsst.sal.MTM2.temperature', '*', start, end, csc_index)\n",
    "if summit:\n",
    "    zA2 = await client.select_time_series('lsst.sal.MTMount.elevation', '*', start, end, csc_index)\n",
    "    zA2['measured'] = 90 - zA2.actualPosition\n",
    "else:\n",
    "    zA2 = await client.select_time_series('lsst.sal.MTM2.zenithAngle', '*', start, end, csc_index)"
   ]
  },
  {
   "cell_type": "code",
   "execution_count": null,
   "metadata": {},
   "outputs": [],
   "source": [
    "len(aF), len(aF2)"
   ]
  },
  {
   "cell_type": "markdown",
   "metadata": {},
   "source": [
    "### do things change with time, for example, LUT gravity?"
   ]
  },
  {
   "cell_type": "code",
   "execution_count": null,
   "metadata": {},
   "outputs": [],
   "source": [
    "x01 = zA.private_sndStamp - zA.private_sndStamp[0]\n",
    "x02 = zA2.private_sndStamp - zA2.private_sndStamp[0]\n",
    "fig, ax = plt.subplots(figsize=(15,3))\n",
    "plt.plot(x01, 90-zA.measured, label='before elevation change')\n",
    "plt.plot(x02, 90-zA2.measured, label='after elevation change')\n",
    "plt.title('elevation ')\n",
    "plt.xlabel('time (in seconds)')\n",
    "plt.legend()\n",
    "plt.grid();"
   ]
  },
  {
   "cell_type": "code",
   "execution_count": null,
   "metadata": {},
   "outputs": [],
   "source": [
    "x02 = aF2.private_sndStamp - aF2.private_sndStamp[0]\n",
    "fig, ax = plt.subplots(figsize=(15,3))\n",
    "i = 0\n",
    "plt.plot(x01, aF['lutGravity%d'%i], label='before elevation change')\n",
    "plt.plot(x02, aF2['lutGravity%d'%i], label='after elevation change')\n",
    "plt.title('gravity LUT force on first actuator')\n",
    "plt.xlabel('time (in seconds)')\n",
    "plt.legend()\n",
    "plt.grid();"
   ]
  },
  {
   "cell_type": "code",
   "execution_count": null,
   "metadata": {},
   "outputs": [],
   "source": [
    "#plot temperatures before and after\n",
    "fig, ax = plt.subplots(figsize=(15,3))\n",
    "plt.plot([temp['ring%d'%i][0] for i in range(12)], label='ring')\n",
    "plt.plot([temp.intake0[0], temp.intake1[0]],'-o', label = 'intake')\n",
    "plt.plot([temp.exhaust0[0], temp.exhaust1[0]],'-*', label = 'exhaust')\n",
    "plt.plot([temp2['ring%d'%i][0] for i in range(12)], label='ring 2')\n",
    "plt.plot([temp2.intake0[0], temp.intake1[0]],'-o', label = 'intake 2')\n",
    "plt.plot([temp2.exhaust0[0], temp.exhaust1[0]],'-*', label = 'exhaust 2')\n",
    "plt.title('temperature')\n",
    "plt.legend()\n",
    "plt.grid() "
   ]
  },
  {
   "cell_type": "markdown",
   "metadata": {},
   "source": [
    "#### FinalHandingLUTs vs FinalOpticalLUTs \n",
    "* https://github.com/lsst-ts/ts_mtm2_cell/tree/master/configuration/lsst-m2/config/parameter_files/luts\n",
    "* There are 8 files in each subfolder: FinalHandingLUTs vs FinalOpticalLUTs. The only file that is different is F_F.csv\n",
    "* This is easily understandable, because the optical LUT cares about mirror shape at any zenith angle. While the other one is used for on-cart rotation.\n",
    "* Which one did we use for the 2020 Feb summit test? Te-Wei says we used HandlingLUTs.\n",
    "* Do we know how to switch? Yes. By the high level configuration file."
   ]
  },
  {
   "cell_type": "code",
   "execution_count": null,
   "metadata": {},
   "outputs": [],
   "source": [
    "LUTfolder = '%s/notebooks/M2_summit_2003/harrisLUT/FinalHandlingLUTs'%(os.environ[\"HOME\"])\n",
    "dfe = pd.read_csv('%s/F_E.csv'%LUTfolder)\n",
    "FE = np.float64(dfe)\n",
    "df0 = pd.read_csv('%s/F_0.csv'%LUTfolder)\n",
    "F0 = np.float64(df0)\n",
    "dff = pd.read_csv('%s/F_F.csv'%LUTfolder)\n",
    "FF = np.float64(dff)\n",
    "dfa = pd.read_csv('%s/F_A.csv'%LUTfolder)\n",
    "FA = np.float64(dfa)\n",
    "elev = np.float64(dfe.keys()) # the columns are labelled with elevation angle.\n",
    "dtr = pd.read_csv('%s/Tr.csv'%LUTfolder, header=None)\n",
    "Tr = np.float64(dtr)\n",
    "dtu = pd.read_csv('%s/Tu.csv'%LUTfolder, header=None)\n",
    "Tu = np.float64(dtu)\n",
    "dtx = pd.read_csv('%s/Tx.csv'%LUTfolder, header=None)\n",
    "Tx = np.float64(dtx)\n",
    "dty = pd.read_csv('%s/Ty.csv'%LUTfolder, header=None)\n",
    "Ty = np.float64(dty)\n",
    "\n",
    "LUTfolder = '%s/notebooks/M2_summit_2003/harrisLUT/FinalOpticalLUTs'%(os.environ[\"HOME\"])\n",
    "dff = pd.read_csv('%s/F_F.csv'%LUTfolder)\n",
    "FF1 = np.float64(dff)"
   ]
  },
  {
   "cell_type": "code",
   "execution_count": null,
   "metadata": {},
   "outputs": [],
   "source": [
    "M2Weight = 15578 #Newton\n",
    "def lookUpGravity(summit, lutInAngle, FE, FA,elevA):\n",
    "    '''\n",
    "    input:\n",
    "        lutInAngle is the angle used to define the LUT, which is the elevation angle.\n",
    "        elevA is the actual measured elevation angle.\n",
    "    output:\n",
    "        gravity LUT force\n",
    "    '''\n",
    "    myfe = np.zeros(78)\n",
    "    myfa = np.zeros(78)\n",
    "    myf0 = np.zeros(78)\n",
    "    myff = np.zeros(78)\n",
    "    for i in range(72):\n",
    "        myfe[i] = np.interp(elevA, lutInAngle, FE[i,:])\n",
    "        myf0[i] = np.interp(elevA, lutInAngle, F0[i,:])\n",
    "        myff[i] = np.interp(elevA, lutInAngle, FF[i,:])\n",
    "    F2 = M2Weight* np.sin(np.radians(90-elevA))/2/np.sqrt(3)\n",
    "    myfe[73] = F2\n",
    "    myfe[74] = F2\n",
    "    myfe[76] = -F2\n",
    "    myfe[77] = -F2\n",
    "    for i in range(78):\n",
    "        myfa[i] = np.interp(elevA, lutInAngle, FA[i,:])\n",
    "    myf = myfe + myfa \n",
    "    if summit: \n",
    "        #with TeWei's summit implementation, we also included f0 and ff in lutGravity\n",
    "        myf = myf + myf0 + myff\n",
    "    else:\n",
    "        #The tangent forces in the M2 simulator has a known bug (DM-28515) - all the tangent force should have reversed sign.\n",
    "        myfe[72:] = -myfe[72:]\n",
    "    return myf\n",
    "\n",
    "def lookUpTemperature(Tr, Tx, Ty, Tu, tempInv, efdT):\n",
    "    '''\n",
    "    input:\n",
    "        efdT is the list of temperature values ordered as [0-11, intake0, intake1, exhaust0, exhaust1]\n",
    "    output:\n",
    "        thermal LUT force\n",
    "    '''\n",
    "    #Order temperature data based on a12_temperature.ipynb\n",
    "    binT = efdT[[0,1,2,3, 12,15,14,13, 8,9,10,11, 4,5,6,7]]\n",
    "    lutT = binT[ [1, 2, 3, 12, 9, 8, 13, 14, 15, 11, 10, 0]]\n",
    "    tref = 21 #deg C. \n",
    "    tcoef = tempInv.dot(lutT-tref)\n",
    "    \n",
    "    for i in range(72):\n",
    "        myft = tcoef[0]*Tr + tcoef[1]*Tx + tcoef[2]*Ty + tcoef[3]*Tu\n",
    "    myf = np.squeeze(myft)\n",
    "    return myf"
   ]
  },
  {
   "cell_type": "code",
   "execution_count": null,
   "metadata": {},
   "outputs": [],
   "source": [
    "zA.measured[0]"
   ]
  },
  {
   "cell_type": "code",
   "execution_count": null,
   "metadata": {},
   "outputs": [],
   "source": [
    "zA2.measured[0]"
   ]
  },
  {
   "cell_type": "code",
   "execution_count": null,
   "metadata": {},
   "outputs": [],
   "source": [
    "#check lutGravity against expectation\n",
    "myFEa = [aF['lutGravity%d'%i][0] for i in range(72)] \n",
    "myFEt = [tF['lutGravity%d'%i][0] for i in range(6)]\n",
    "myFEa2 = [aF2['lutGravity%d'%i][0] for i in range(72)] \n",
    "myFEt2 = [tF2['lutGravity%d'%i][0] for i in range(6)]\n",
    "Felev = lookUpGravity(summit, elev, FE, FA, 90-zA.measured[0])\n",
    "Felev2 = lookUpGravity(summit, elev, FE, FA, 90-zA2.measured[0])\n",
    "fig, ax = plt.subplots(2,1, sharex = False, figsize=(15,6))\n",
    "ax[0].plot(myFEa ,'bo', label='EFD 1')\n",
    "ax[0].plot(Felev[:72], label='expected 1')\n",
    "ax[0].plot(myFEa2 ,'ro', label='EFD 2')\n",
    "ax[0].plot(Felev2[:72], '-', label='expected 2')\n",
    "ax[0].grid()\n",
    "ax[0].legend()\n",
    "ax[0].set_title('Axial')\n",
    "ax[1].plot(myFEt,'b*', markersize= 15, label='EFD 1')\n",
    "ax[1].plot(Felev[72:], label='expected 1')\n",
    "ax[1].plot(myFEt2,'ro', label='EFD 2')\n",
    "ax[1].plot(Felev2[72:], '-', label='expected 2')\n",
    "ax[1].grid()\n",
    "#ax[1].set_ylim([-1,1])\n",
    "ax[1].legend()\n",
    "ax[1].set_title('Tangent')\n",
    "plt.suptitle('LUT Gravity');\n",
    "#The tangent forces in the M2 simulator has a known bug (DM-28515) - all the tangent force should have reversed sign."
   ]
  },
  {
   "cell_type": "code",
   "execution_count": null,
   "metadata": {},
   "outputs": [],
   "source": [
    "tempInv = np.loadtxt('%s/notebooks/M2_summit_2003/harrisLUT/temp_inv.txt'%(os.environ[\"HOME\"]))"
   ]
  },
  {
   "cell_type": "markdown",
   "metadata": {},
   "source": [
    "### thermal LUT"
   ]
  },
  {
   "cell_type": "code",
   "execution_count": null,
   "metadata": {},
   "outputs": [],
   "source": [
    "#The intake and exhaust temps are not use for LUT\n",
    "tt = [temp['ring%d'%i][0] for i in range(4)] + [0,0,0,0] + \\\n",
    "    [temp['ring%d'%i][0] for i in range(8,12)] + [temp['ring%d'%i][0] for i in range(4,8)]\n",
    "idx = [1, 2, 3, 12, 9, 8, 13, 14, 15, 11, 10, 0]\n",
    "myt= np.array([tt[i] for i in idx])\n",
    "\n",
    "tref = 21 #deg C. \n",
    "tcoef = tempInv.dot(myt-tref)\n",
    "FT = tcoef[0]*Tr + tcoef[1]*Tx + tcoef[2]*Ty + tcoef[3]*Tu\n",
    "\n",
    "tt = [temp2['ring%d'%i][0] for i in range(4)] + [0,0,0,0] + \\\n",
    "    [temp2['ring%d'%i][0] for i in range(8,12)] + [temp2['ring%d'%i][0] for i in range(4,8)]\n",
    "myt= np.array([tt[i] for i in idx])\n",
    "\n",
    "tcoef = tempInv.dot(myt-tref)\n",
    "FT2 = tcoef[0]*Tr + tcoef[1]*Tx + tcoef[2]*Ty + tcoef[3]*Tu"
   ]
  },
  {
   "cell_type": "code",
   "execution_count": null,
   "metadata": {},
   "outputs": [],
   "source": [
    "#check lutTemperature against expectation\n",
    "myFTa = [aF['lutTemperature%d'%i][0] for i in range(72)] \n",
    "myFTt = [tF['lutTemperature%d'%i][0] for i in range(6)]\n",
    "myFTa2 = [aF2['lutTemperature%d'%i][0] for i in range(72)] \n",
    "myFTt2 = [tF2['lutTemperature%d'%i][0] for i in range(6)]\n",
    "fig, ax = plt.subplots(2,1, sharex = False, figsize=(15,6))\n",
    "ax[0].plot(myFTa ,'ro', label='EFD')\n",
    "ax[0].plot(FT[:,0], label='expected')\n",
    "ax[0].plot(myFTa2 ,'ro', label='EFD')\n",
    "ax[0].plot(FT2[:,0], '-.', label='expected')\n",
    "ax[0].grid()\n",
    "ax[0].legend()\n",
    "ax[0].set_title('Axial')\n",
    "ax[1].plot(myFTt,'ro', label='EFD')\n",
    "ax[1].plot([0]*6, label='expected')\n",
    "ax[1].plot(myFTt2,'ro', label='EFD')\n",
    "ax[1].plot([0]*6, '-.', label='expected')\n",
    "ax[1].grid()\n",
    "#ax[1].set_ylim([-1,1])\n",
    "ax[1].legend()\n",
    "ax[1].set_title('Tangent')\n",
    "plt.suptitle('LUT Temperature');"
   ]
  },
  {
   "cell_type": "code",
   "execution_count": null,
   "metadata": {},
   "outputs": [],
   "source": [
    "plt.plot([aF['hardpointCorrection%d'%i][0] for i in range(72)], label='before elevation change')\n",
    "plt.plot([aF2['hardpointCorrection%d'%i][0] for i in range(72)], label='after elevation change')\n",
    "plt.legend();"
   ]
  },
  {
   "cell_type": "code",
   "execution_count": null,
   "metadata": {},
   "outputs": [],
   "source": []
  }
 ],
 "metadata": {
  "kernelspec": {
   "display_name": "LSST",
   "language": "python",
   "name": "lsst"
  },
  "language_info": {
   "codemirror_mode": {
    "name": "ipython",
    "version": 3
   },
   "file_extension": ".py",
   "mimetype": "text/x-python",
   "name": "python",
   "nbconvert_exporter": "python",
   "pygments_lexer": "ipython3",
   "version": "3.8.8"
  }
 },
 "nbformat": 4,
 "nbformat_minor": 4
}
