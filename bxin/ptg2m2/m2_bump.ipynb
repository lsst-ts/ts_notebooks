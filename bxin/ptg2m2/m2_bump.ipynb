{
 "cells": [
  {
   "cell_type": "code",
   "execution_count": null,
   "metadata": {},
   "outputs": [],
   "source": [
    "from lsst.ts import salobj\n",
    "import asyncio\n",
    "import os\n",
    "\n",
    "import numpy as np\n",
    "from matplotlib import pyplot as plt\n",
    "from astropy.time import Time\n",
    "from datetime import datetime, timedelta\n",
    "import pandas as pd"
   ]
  },
  {
   "cell_type": "code",
   "execution_count": null,
   "metadata": {},
   "outputs": [],
   "source": [
    "summit = 1 #use this for summit testing\n",
    "#summit = 0 #use this for NCSA"
   ]
  },
  {
   "cell_type": "code",
   "execution_count": null,
   "metadata": {},
   "outputs": [],
   "source": [
    "if summit:\n",
    "    print(os.environ[\"OSPL_URI\"])\n",
    "    print(os.environ[\"LSST_DDS_PARTITION_PREFIX\"])\n",
    "    print(os.environ[\"LSST_DDS_DOMAIN_ID\"])\n",
    "else:\n",
    "    import os\n",
    "    print(os.environ[\"OSPL_URI\"])\n",
    "    if os.environ.get(\"LSST_DDS_ALIGNER\", \"false\") != \"false\":\n",
    "        print(\"LSST_DDS_ALIGNER is mis-configured\")"
   ]
  },
  {
   "cell_type": "code",
   "execution_count": null,
   "metadata": {},
   "outputs": [],
   "source": [
    "start_time = datetime.now()\n",
    "script = salobj.Controller(\"Script\", index=1)\n",
    "#await asyncio.sleep(10) #wait 10 second may help with DDS problems; closing all other kernels may help too\n",
    "m2 = salobj.Remote(script.domain, \"MTM2\")\n",
    "print(f'time to start is {datetime.now() - start_time} [s]')\n",
    "\n",
    "await m2.start_task"
   ]
  },
  {
   "cell_type": "code",
   "execution_count": null,
   "metadata": {},
   "outputs": [],
   "source": [
    "#As long as you get something for the payload its OK. we dont' care about h.heartbeat\n",
    "await m2.evt_heartbeat.next(flush=True, timeout=5)"
   ]
  },
  {
   "cell_type": "code",
   "execution_count": null,
   "metadata": {},
   "outputs": [],
   "source": [
    "state = await m2.evt_summaryState.aget(timeout=5)\n",
    "print('starting m2 state', state.summaryState,pd.to_datetime(state.private_sndStamp, unit='s'))\n",
    "if not state.summaryState == 2:\n",
    "    await salobj.set_summary_state(m2, salobj.State.ENABLED) #enable m2\n",
    "    await asyncio.sleep(3)\n",
    "    state = await m2.evt_summaryState.aget(timeout=5)\n",
    "    print('m2 state', state.summaryState,pd.to_datetime(state.private_sndStamp, unit='s'))"
   ]
  },
  {
   "cell_type": "code",
   "execution_count": null,
   "metadata": {},
   "outputs": [],
   "source": [
    "fa = [0]*72\n",
    "ft = [0]*6\n",
    "await m2.cmd_applyForces.set_start(axial=fa, tangent=ft)"
   ]
  },
  {
   "cell_type": "code",
   "execution_count": null,
   "metadata": {},
   "outputs": [],
   "source": [
    "holdTime = 5 #the M2 simulator publishes telemetry at 1Hz\n",
    "fa = [0]*72\n",
    "ft = [0]*6\n",
    "start_time = datetime.now()\n",
    "print('start time: ', start_time)\n",
    "for i in range(72):\n",
    "    fa[i] = 20\n",
    "    await m2.cmd_applyForces.set_start(axial=fa, tangent=ft)\n",
    "    print('axial %d: +'%i, end='')\n",
    "    await asyncio.sleep(holdTime)\n",
    "    fa[i] = -20\n",
    "    await m2.cmd_applyForces.set_start(axial=fa, tangent=ft)\n",
    "    print(' -', end='')\n",
    "    await asyncio.sleep(holdTime)\n",
    "    fa[i] = 0\n",
    "    await m2.cmd_applyForces.set_start(axial=fa, tangent=ft)\n",
    "    print(' 0 ', end='')\n",
    "    await asyncio.sleep(holdTime)\n",
    "    \n",
    "for i in range(6):\n",
    "    ft[i] = 20\n",
    "    await m2.cmd_applyForces.set_start(axial=fa, tangent=ft)\n",
    "    print('tangent A%d: +'%i, end='')\n",
    "    await asyncio.sleep(holdTime)\n",
    "    ft[i] = -20\n",
    "    await m2.cmd_applyForces.set_start(axial=fa, tangent=ft)\n",
    "    print(' -', end='')\n",
    "    await asyncio.sleep(holdTime)\n",
    "    ft[i] = 0\n",
    "    await m2.cmd_applyForces.set_start(axial=fa, tangent=ft)\n",
    "    print(' 0 ', end='')\n",
    "    await asyncio.sleep(holdTime)    \n",
    "print(f'\\n time elapsed: {datetime.now() - start_time} [s]')"
   ]
  },
  {
   "cell_type": "code",
   "execution_count": null,
   "metadata": {},
   "outputs": [],
   "source": [
    "#if we started with disabled state, we need to put it back\n",
    "await salobj.set_summary_state(m2, salobj.State.OFFLINE) "
   ]
  }
 ],
 "metadata": {
  "kernelspec": {
   "display_name": "LSST",
   "language": "python",
   "name": "lsst"
  },
  "language_info": {
   "codemirror_mode": {
    "name": "ipython",
    "version": 3
   },
   "file_extension": ".py",
   "mimetype": "text/x-python",
   "name": "python",
   "nbconvert_exporter": "python",
   "pygments_lexer": "ipython3",
   "version": "3.8.8"
  }
 },
 "nbformat": 4,
 "nbformat_minor": 4
}
