{
 "cells": [
  {
   "cell_type": "markdown",
   "metadata": {},
   "source": [
    "### Bump test at NCSA\n",
    "* performed on 1/23/21 (hold each force for 5s; telemetry was at 1Hz)"
   ]
  },
  {
   "cell_type": "code",
   "execution_count": null,
   "metadata": {},
   "outputs": [],
   "source": [
    "#from openpyxl import load_workbook\n",
    "\n",
    "from astropy.time import Time\n",
    "from datetime import timedelta, datetime\n",
    "from lsst_efd_client import EfdClient\n",
    "\n",
    "import matplotlib.pyplot as plt\n",
    "import scipy.io\n",
    "import numpy as np\n",
    "import pandas as pd\n",
    "plt.jet()\n",
    "\n",
    "from pandas.plotting import register_matplotlib_converters\n",
    "register_matplotlib_converters();"
   ]
  },
  {
   "cell_type": "code",
   "execution_count": null,
   "metadata": {},
   "outputs": [],
   "source": [
    "summit = 1 #use this for summit testing\n",
    "#summit = 0 #use this for NCSA"
   ]
  },
  {
   "cell_type": "code",
   "execution_count": null,
   "metadata": {},
   "outputs": [],
   "source": [
    "if summit:\n",
    "    client = EfdClient('summit_efd')\n",
    "else:\n",
    "    client = EfdClient('ncsa_teststand_efd')\n",
    "csc_index = 1"
   ]
  },
  {
   "cell_type": "code",
   "execution_count": null,
   "metadata": {},
   "outputs": [],
   "source": [
    "if summit:\n",
    "    start = Time('2021-04-20T16:14:00') #this is UTC\n",
    "else:\n",
    "    start = Time('2021-01-24T00:35:00') #this is UTC\n",
    "end = start+timedelta(minutes=22)"
   ]
  },
  {
   "cell_type": "code",
   "execution_count": null,
   "metadata": {},
   "outputs": [],
   "source": [
    "df = await client.select_time_series('lsst.sal.MTM2.axialForce', '*', \n",
    "                                     (start-timedelta(seconds=37)).tai, (end-timedelta(seconds=37)).tai, csc_index)"
   ]
  },
  {
   "cell_type": "code",
   "execution_count": null,
   "metadata": {},
   "outputs": [],
   "source": [
    "fig, ax = plt.subplots(figsize=(15,8))\n",
    "for i in range(72):\n",
    "    plt.plot(pd.to_datetime(df.private_sndStamp, unit='s'), df['measured%d'%i]-df['measured%d'%i][0])"
   ]
  },
  {
   "cell_type": "code",
   "execution_count": null,
   "metadata": {},
   "outputs": [],
   "source": [
    "len(df)"
   ]
  },
  {
   "cell_type": "code",
   "execution_count": null,
   "metadata": {},
   "outputs": [],
   "source": [
    "startIdx = np.argmax(np.array(df['measured0'] -df['measured0'][0])>10) - 10\n",
    "fig, ax = plt.subplots(figsize=(15,8))\n",
    "for i in range(7):\n",
    "    plt.plot(pd.to_datetime(df.private_sndStamp[startIdx:startIdx+600], unit='s'), \n",
    "             df['measured%d'%i][startIdx:startIdx+600]-df['measured%d'%i][0],'-o')\n",
    "plt.grid()"
   ]
  },
  {
   "cell_type": "code",
   "execution_count": null,
   "metadata": {},
   "outputs": [],
   "source": [
    "dft = await client.select_time_series('lsst.sal.MTM2.tangentForce', '*', \n",
    "                                     (start-timedelta(seconds=37)).tai, (end-timedelta(seconds=37)).tai, csc_index)"
   ]
  },
  {
   "cell_type": "code",
   "execution_count": null,
   "metadata": {},
   "outputs": [],
   "source": [
    "fig, ax = plt.subplots(figsize=(15,8))\n",
    "for i in range(6):\n",
    "    plt.plot(dft['measured%d'%i]-dft['measured%d'%i][0])"
   ]
  },
  {
   "cell_type": "code",
   "execution_count": null,
   "metadata": {},
   "outputs": [],
   "source": [
    "i = 0\n",
    "aa = np.array(dft['measured%d'%(i)]-dft['measured%d'%(i)][0])\n",
    "nn = len(aa)\n",
    "aa[:round(nn/2)] = 0\n",
    "startIdx = np.argmax(aa>10) - 10"
   ]
  },
  {
   "cell_type": "code",
   "execution_count": null,
   "metadata": {},
   "outputs": [],
   "source": [
    "rr = 600\n",
    "fig, ax = plt.subplots(figsize=(15,8))\n",
    "for i in np.arange(6):\n",
    "    plt.plot(pd.to_datetime(dft.private_sndStamp[startIdx:startIdx+rr], unit='s'), \n",
    "             dft['measured%d'%(i)][startIdx:startIdx+rr]-dft['measured%d'%(i)][0],'-o')\n",
    "plt.grid()\n",
    "aa = np.array(dft['measured%d'%(i)][startIdx:startIdx+rr]-dft['measured%d'%(i)][0])"
   ]
  },
  {
   "cell_type": "code",
   "execution_count": null,
   "metadata": {},
   "outputs": [],
   "source": []
  }
 ],
 "metadata": {
  "kernelspec": {
   "display_name": "LSST",
   "language": "python",
   "name": "lsst"
  },
  "language_info": {
   "codemirror_mode": {
    "name": "ipython",
    "version": 3
   },
   "file_extension": ".py",
   "mimetype": "text/x-python",
   "name": "python",
   "nbconvert_exporter": "python",
   "pygments_lexer": "ipython3",
   "version": "3.8.8"
  }
 },
 "nbformat": 4,
 "nbformat_minor": 4
}
