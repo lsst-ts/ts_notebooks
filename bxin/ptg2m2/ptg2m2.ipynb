{
 "cells": [
  {
   "cell_type": "markdown",
   "metadata": {},
   "source": [
    "## This is a notebook that verify the communication of the pointing kernel with M2 (the rotator is also used)\n",
    "\n",
    "In this notebook, we \n",
    "* point the telescope to a particular pointing, \n",
    "* make sure the mt telemetry is correct\n",
    "* make sure that the zenith angle is picked up by M2 via the subscription\n",
    "* check that M2 LUT forces vary with the zenith angle acccordingly\n",
    "\n",
    "When we run this on the summit, we do not use the pointing component. We simply use a mount Controller to publish the mount elevation angle."
   ]
  },
  {
   "cell_type": "code",
   "execution_count": null,
   "metadata": {},
   "outputs": [],
   "source": [
    "from lsst.ts import salobj\n",
    "import asyncio\n",
    "import os\n",
    "\n",
    "import numpy as np\n",
    "from matplotlib import pyplot as plt\n",
    "import astropy.units as u\n",
    "from astropy.time import Time\n",
    "from datetime import datetime, timedelta\n",
    "import pandas as pd\n",
    "\n",
    "from astropy.coordinates import AltAz, ICRS, EarthLocation, Angle, FK5\n",
    "from astropy.utils import iers\n",
    "#iers.conf.auto_download = True\n",
    "\n",
    "from lsst.ts.observatory.control.maintel.mtcs import MTCS, MTCSUsages\n",
    "from lsst.ts.observatory.control import RotType\n",
    "from astropy.coordinates import AltAz, ICRS, EarthLocation, Angle, FK5\n",
    "import astropy.units as u\n",
    "\n",
    "from lsst.ts.idl.enums import MTM2\n",
    "\n",
    "plt.jet();"
   ]
  },
  {
   "cell_type": "code",
   "execution_count": null,
   "metadata": {},
   "outputs": [],
   "source": [
    "summit = 1 #use this for summit testing\n",
    "#summit = 0 #use this for NCSA\n",
    "\n",
    "usePtg = 1 #if using ptg+mount for telemetry change\n",
    "#usePtg = 0 "
   ]
  },
  {
   "cell_type": "code",
   "execution_count": null,
   "metadata": {},
   "outputs": [],
   "source": [
    "if summit:\n",
    "    print(os.environ[\"OSPL_URI\"])\n",
    "    print(os.environ[\"LSST_DDS_PARTITION_PREFIX\"])\n",
    "    print(os.environ[\"LSST_DDS_DOMAIN_ID\"])\n",
    "else:\n",
    "    print(os.environ[\"OSPL_URI\"])\n",
    "    if os.environ.get(\"LSST_DDS_ALIGNER\", \"false\") != \"false\":\n",
    "        print(\"LSST_DDS_ALIGNER is mis-configured\")"
   ]
  },
  {
   "cell_type": "code",
   "execution_count": null,
   "metadata": {},
   "outputs": [],
   "source": [
    "#index is an integter which helps avoid multple users starting same controller\n",
    "script = salobj.Controller(\"Script\", index=7) "
   ]
  },
  {
   "cell_type": "code",
   "execution_count": null,
   "metadata": {},
   "outputs": [],
   "source": [
    "if usePtg:\n",
    "    mtcs = MTCS(script.domain)\n",
    "    mtcs.set_rem_loglevel(40)"
   ]
  },
  {
   "cell_type": "code",
   "execution_count": null,
   "metadata": {},
   "outputs": [],
   "source": [
    "if usePtg:\n",
    "    await mtcs.start_task"
   ]
  },
  {
   "cell_type": "code",
   "execution_count": null,
   "metadata": {},
   "outputs": [],
   "source": [
    "mtcs.components_attr"
   ]
  },
  {
   "cell_type": "code",
   "execution_count": null,
   "metadata": {},
   "outputs": [],
   "source": [
    "m2 = mtcs.rem.mtm2\n",
    "ptg = mtcs.rem.mtptg\n",
    "mount = mtcs.rem.mtmount\n",
    "rot = mtcs.rem.mtrotator"
   ]
  },
  {
   "cell_type": "code",
   "execution_count": null,
   "metadata": {},
   "outputs": [],
   "source": [
    "await ptg.evt_heartbeat.next(flush=True, timeout=5)"
   ]
  },
  {
   "cell_type": "code",
   "execution_count": null,
   "metadata": {},
   "outputs": [],
   "source": [
    "await m2.evt_heartbeat.next(flush=True, timeout=5)"
   ]
  },
  {
   "cell_type": "code",
   "execution_count": null,
   "metadata": {},
   "outputs": [],
   "source": [
    "sstate = await m2.evt_summaryState.aget(timeout=5)\n",
    "print('starting with: m2 state',salobj.State(sstate.summaryState), pd.to_datetime(sstate.private_sndStamp, unit='s'))"
   ]
  },
  {
   "cell_type": "code",
   "execution_count": null,
   "metadata": {},
   "outputs": [],
   "source": [
    "if summit:\n",
    "    if sstate.summaryState == salobj.State.OFFLINE:\n",
    "        dstate = await m2.evt_detailedState.aget(timeout=5)\n",
    "        print('m2 state', dstate.detailedState, pd.to_datetime(dstate.private_sndStamp, unit='s'))\n",
    "if usePtg:\n",
    "    state = await ptg.evt_summaryState.aget(timeout=5)\n",
    "    print('ptg', salobj.State(state.summaryState),pd.to_datetime(state.private_sndStamp, unit='s'))\n",
    "    state = await rot.evt_summaryState.aget(timeout=5)\n",
    "    print('rot', salobj.State(state.summaryState),pd.to_datetime(state.private_sndStamp, unit='s'))\n",
    "    state = await mount.evt_summaryState.aget(timeout=5)\n",
    "    print('mount', salobj.State(state.summaryState),pd.to_datetime(state.private_sndStamp, unit='s'))"
   ]
  },
  {
   "cell_type": "code",
   "execution_count": null,
   "metadata": {},
   "outputs": [],
   "source": [
    "#execute once to get the state UP one level\n",
    "m2.evt_summaryState.flush()\n",
    "if sstate.summaryState == salobj.State.FAULT:\n",
    "    await m2.cmd_clearError.set_start()\n",
    "elif sstate.summaryState == salobj.State.OFFLINE:\n",
    "    await m2.cmd_enterControl.set_start()\n",
    "elif sstate.summaryState == salobj.State.STANDBY:#system starts applying LUT forces once in STANDBY\n",
    "    await m2.cmd_start.set_start()\n",
    "elif sstate.summaryState == salobj.State.DISABLED:#system starts applying FB forces once in DISABLED\n",
    "    await m2.cmd_enable.set_start()\n",
    "sstate = await m2.evt_summaryState.next(flush=False, timeout=5)\n",
    "print('starting with: m2 state',salobj.State(sstate.summaryState), pd.to_datetime(sstate.private_sndStamp, unit='s'))"
   ]
  },
  {
   "cell_type": "code",
   "execution_count": null,
   "metadata": {},
   "outputs": [],
   "source": [
    "#execute once to get the state OUT one level\n",
    "if sstate.summaryState == salobj.State.ENABLED:\n",
    "    await m2.cmd_disable.set_start()\n",
    "elif sstate.summaryState == salobj.State.DISABLED:\n",
    "    await m2.cmd_standby.set_start()\n",
    "elif sstate.summaryState == salobj.State.STANDBY:\n",
    "    #the below would shut down the CSC; be ready to restart it if you want to try.\n",
    "    await m2.cmd_exitControl.set_start()\n",
    "sstate = await m2.evt_summaryState.next(flush=True, timeout=5)\n",
    "print('starting with: m2 state',salobj.State(sstate.summaryState), pd.to_datetime(sstate.private_sndStamp, unit='s'))"
   ]
  },
  {
   "cell_type": "code",
   "execution_count": null,
   "metadata": {},
   "outputs": [],
   "source": [
    "#should work, but doesn't so far, unless we are already in disabled state. A bug that Tiago will talk to TW about.\n",
    "await salobj.set_summary_state(m2, salobj.State.ENABLED) "
   ]
  },
  {
   "cell_type": "markdown",
   "metadata": {},
   "source": [
    "Check the state of the system"
   ]
  },
  {
   "cell_type": "code",
   "execution_count": null,
   "metadata": {},
   "outputs": [],
   "source": [
    "axialForces = await m2.tel_axialForce.aget(timeout=2)\n",
    "tangentForces = await m2.tel_tangentForce.aget(timeout=2)"
   ]
  },
  {
   "cell_type": "code",
   "execution_count": null,
   "metadata": {},
   "outputs": [],
   "source": [
    "m2ForceBalance = await m2.evt_forceBalanceSystemStatus.aget(timeout=10.)\n",
    "print(\"starting with Status of the M2 force balance system ---\", m2ForceBalance.status, \"----\",\n",
    "      pd.to_datetime(m2ForceBalance.private_sndStamp, unit='s'))"
   ]
  },
  {
   "cell_type": "code",
   "execution_count": null,
   "metadata": {},
   "outputs": [],
   "source": [
    "if not m2ForceBalance.status:\n",
    "    await m2.cmd_switchForceBalanceSystem.set_start(status=True, timeout=10)\n",
    "    m2ForceBalance = await m2.evt_forceBalanceSystemStatus.aget(timeout=10.)\n",
    "    print(\"Status of the M2 force balance system\", m2ForceBalance.status)"
   ]
  },
  {
   "cell_type": "code",
   "execution_count": null,
   "metadata": {},
   "outputs": [],
   "source": [
    "m2Angle = await m2.tel_zenithAngle.aget(timeout=10.)\n",
    "print(\"elevation from the source\", 90 - m2Angle.measured)\n",
    "\n",
    "mountAngle = await mount.tel_elevation.aget(timeout=10.)\n",
    "print(\"mount elevation angle\", mountAngle.actualPosition)"
   ]
  },
  {
   "cell_type": "markdown",
   "metadata": {},
   "source": [
    "### Do a slew (only for NCSA)"
   ]
  },
  {
   "cell_type": "code",
   "execution_count": null,
   "metadata": {},
   "outputs": [],
   "source": [
    "if summit and usePtg:\n",
    "    #comment and uncomment the below depending on which components are expected to be on\n",
    "    #by default, MTCS checks on every component (during the slew).\n",
    "    mtcs.check.mtaos = False\n",
    "    mtcs.check.mtm1m3 = False\n",
    "    mtcs.check.mtm2 = False\n",
    "    mtcs.check.mthexapod_1 = False\n",
    "    mtcs.check.mthexapod_2 = False\n",
    "    mtcs.check.mtdome = False\n",
    "    mtcs.check.mtdometrajectory = False"
   ]
  },
  {
   "cell_type": "code",
   "execution_count": null,
   "metadata": {},
   "outputs": [],
   "source": [
    "if usePtg:\n",
    "    alt = 84 * u.deg\n",
    "    az = -0 * u.deg\n",
    "\n",
    "    target_name=\"TMA motion test\"\n",
    "    time_data = await ptg.tel_timeAndDate.next(flush=True, timeout=2)\n",
    "    curr_time_ptg = Time(time_data.mjd, format=\"mjd\", scale=\"tai\")\n",
    "    time_err = curr_time_ptg - Time.now()\n",
    "    print(f\"Time error={time_err.sec:0.2f} sec\")\n",
    "\n",
    "    print(curr_time_ptg.tai.value)\n",
    "\n",
    "    cmd_elaz = AltAz(alt=alt, az=az, \n",
    "                    obstime=curr_time_ptg.tai, \n",
    "                    location=mtcs.location)\n",
    "    cmd_radec = cmd_elaz.transform_to(ICRS)\n",
    "    await mtcs.slew_icrs(ra=cmd_radec.ra, dec=cmd_radec.dec, rot=0., rot_type=RotType.PhysicalSky)"
   ]
  },
  {
   "cell_type": "code",
   "execution_count": null,
   "metadata": {},
   "outputs": [],
   "source": [
    "#if on the summit, \n",
    "#   watch chronograf to make sure the elevation angle is well above 82 deg. (We know M2 will fault below that.)\n",
    "#.  ask Te-Wei to switch on M2 with mount telemetry as source of elevation angle, if we haven't done so."
   ]
  },
  {
   "cell_type": "code",
   "execution_count": null,
   "metadata": {},
   "outputs": [],
   "source": [
    "#the below gets rejected, with an \"elevation out of range\" error. \n",
    "#even though it is our understanding that this target will never be higher than 86 deg.\n",
    "#. and the limit has been set at 86.5 deg.\n",
    "#With newer versions of MTCS, the error will tell us what is the elevation calculated, vs the range limit\n",
    "# With the example below, lowering the dec to -34.5 works.\n",
    "time_and_date = await mtcs.rem.mtptg.tel_timeAndDate.next(flush=True, timeout=5)\n",
    "ra = time_and_date.lst -0.2\n",
    "dec = -34\n",
    "print(ra)\n",
    "await mtcs.slew_icrs(ra=ra, dec=dec, rot=0., rot_type=RotType.PhysicalSky)"
   ]
  },
  {
   "cell_type": "code",
   "execution_count": null,
   "metadata": {},
   "outputs": [],
   "source": [
    "dec = -34.\n",
    "for j in range(2):\n",
    "    time_and_date = await mtcs.rem.mtptg.tel_timeAndDate.next(flush=True, timeout=5)\n",
    "    ra = time_and_date.lst + 0.5\n",
    "    for i in range(2):\n",
    "        print(ra, dec)\n",
    "        await mtcs.slew_icrs(ra=ra, dec=dec, rot=0., rot_type=RotType.PhysicalSky)\n",
    "        await asyncio.sleep(39.)\n",
    "        ra -= 3.5/15.0\n",
    "if usePtg:\n",
    "    await ptg.cmd_stopTracking.set_start(timeout=5.)"
   ]
  },
  {
   "cell_type": "code",
   "execution_count": null,
   "metadata": {},
   "outputs": [],
   "source": [
    "mtcs.slew_icrs?"
   ]
  },
  {
   "cell_type": "code",
   "execution_count": null,
   "metadata": {},
   "outputs": [],
   "source": [
    "if usePtg:\n",
    "    mountStatus = await mount.evt_axesInPosition.aget(timeout=5.)\n",
    "    rotStatus = await rot.evt_inPosition.aget(timeout=5.)\n",
    "    print('Are we tracking?', mountStatus.elevation , mountStatus.azimuth , rotStatus.inPosition)"
   ]
  },
  {
   "cell_type": "code",
   "execution_count": null,
   "metadata": {},
   "outputs": [],
   "source": [
    "await mtcs.stop_tracking()"
   ]
  },
  {
   "cell_type": "markdown",
   "metadata": {},
   "source": [
    "### Check telemetry: list here what we want to check once the slew is done"
   ]
  },
  {
   "cell_type": "code",
   "execution_count": null,
   "metadata": {},
   "outputs": [],
   "source": [
    "# Check that the mirror is in Position --  this check is a little more tricky if we are in closed loop. \n",
    "m2InPosition = await m2.evt_m2AssemblyInPosition.aget(timeout=10.)\n",
    "print(\"Is the m2 in Position after a slew?\", m2InPosition.inPosition)"
   ]
  },
  {
   "cell_type": "code",
   "execution_count": null,
   "metadata": {},
   "outputs": [],
   "source": [
    "mountAngle = await mount.tel_elevation.aget(timeout=10.)\n",
    "print(\"mount elevation angle\", mountAngle.actualPosition)"
   ]
  },
  {
   "cell_type": "markdown",
   "metadata": {},
   "source": [
    "### Alternatively, we could create a Controller object to send mount telemetry (for NCSA OR summit)\n",
    "\n",
    "If we are to use the Controller object, we need to \n",
    "\n",
    "* take the mount out of the disabled/enabled states so that it stops sending telemetry data. (check the mount telemetry, via EFD or here in the notebook)\n",
    "* Get fake telemetry ready (using mountTelGenerator.ipynb) - dAngle is figured out from m2_diagnostics_EFD.ipynb\n",
    "* Then we need to point m2 to the fake mount elevation"
   ]
  },
  {
   "cell_type": "code",
   "execution_count": null,
   "metadata": {},
   "outputs": [],
   "source": [
    "mountAngle = await mount.tel_elevation.aget(timeout=10.)\n",
    "print(\"mount elevation angle\", mountAngle.actualPosition)"
   ]
  },
  {
   "cell_type": "code",
   "execution_count": null,
   "metadata": {},
   "outputs": [],
   "source": [
    "m2AngleSource = await m2.evt_inclinationTelemetrySource.aget(timeout=10.)\n",
    "print(\"Inclinometer Source\", MTM2.InclinationTelemetrySource(m2AngleSource.source), \n",
    "     pd.to_datetime(m2AngleSource.private_sndStamp, unit='s'))"
   ]
  },
  {
   "cell_type": "code",
   "execution_count": null,
   "metadata": {},
   "outputs": [],
   "source": [
    "if not summit:\n",
    "    await m2.cmd_selectInclinationSource.set_start(source = MTM2.InclinationTelemetrySource.MTMOUNT)\n",
    "#await m2.cmd_selectInclinationSource.set_start(source = MTM2.InclinationTelemetrySource.ONBOARD)"
   ]
  },
  {
   "cell_type": "code",
   "execution_count": null,
   "metadata": {},
   "outputs": [],
   "source": [
    "m2AngleSource = await m2.evt_inclinationTelemetrySource.aget(timeout=10.)\n",
    "print(\"Inclinometer Source\", MTM2.InclinationTelemetrySource(m2AngleSource.source))"
   ]
  },
  {
   "cell_type": "code",
   "execution_count": null,
   "metadata": {},
   "outputs": [],
   "source": [
    "m2ForceBalance = await m2.evt_forceBalanceSystemStatus.aget(timeout=10.)\n",
    "print(\"starting with Status of the M2 force balance system ---\", m2ForceBalance.status, \"----\",\n",
    "      pd.to_datetime(m2ForceBalance.private_sndStamp, unit='s'))\n",
    "if not m2ForceBalance.status:\n",
    "    await m2.cmd_switchForceBalanceSystem.set_start(status=True, timeout=10)\n",
    "    m2ForceBalance = await m2.evt_forceBalanceSystemStatus.aget(timeout=10.)\n",
    "    print(\"Status of the M2 force balance system\", m2ForceBalance.status)"
   ]
  },
  {
   "cell_type": "code",
   "execution_count": null,
   "metadata": {},
   "outputs": [],
   "source": [
    "m2Angle = await m2.tel_zenithAngle.aget(timeout=10.)\n",
    "print(\"elevation from the source\", 90 - m2Angle.measured)\n",
    "\n",
    "mountAngle = await mount.tel_elevation.aget(timeout=10.)\n",
    "print(\"mount elevation angle\", mountAngle.actualPosition)"
   ]
  },
  {
   "cell_type": "code",
   "execution_count": null,
   "metadata": {},
   "outputs": [],
   "source": [
    "axialForces = await m2.tel_axialForce.aget(timeout=2)\n",
    "print(pd.to_datetime(axialForces.private_sndStamp, unit='s'))\n",
    "tangentForces = await m2.tel_tangentForce.aget(timeout=2)"
   ]
  },
  {
   "cell_type": "code",
   "execution_count": null,
   "metadata": {},
   "outputs": [],
   "source": [
    "plt.plot(axialForces.measured)"
   ]
  },
  {
   "cell_type": "code",
   "execution_count": null,
   "metadata": {},
   "outputs": [],
   "source": [
    "plt.plot(tangentForces.measured)"
   ]
  },
  {
   "cell_type": "code",
   "execution_count": null,
   "metadata": {},
   "outputs": [],
   "source": [
    "plt.plot(axialForces.hardpointCorrection)"
   ]
  },
  {
   "cell_type": "code",
   "execution_count": null,
   "metadata": {},
   "outputs": [],
   "source": [
    "plt.plot(tangentForces.hardpointCorrection)"
   ]
  },
  {
   "cell_type": "code",
   "execution_count": null,
   "metadata": {},
   "outputs": [],
   "source": [
    "axialSteps = await m2.tel_axialActuatorSteps.aget(timeout=2)\n",
    "print(pd.to_datetime(axialSteps.private_sndStamp, unit='s'))\n",
    "tangentSteps = await m2.tel_tangentActuatorSteps.aget(timeout=2)\n",
    "axialEncoder = await m2.tel_axialEncoderPositions.aget(timeout=2)\n",
    "tangentEncoder = await m2.tel_tangentEncoderPositions.aget(timeout=2)"
   ]
  },
  {
   "cell_type": "code",
   "execution_count": null,
   "metadata": {},
   "outputs": [],
   "source": [
    "plt.plot(axialEncoder.position)"
   ]
  },
  {
   "cell_type": "code",
   "execution_count": null,
   "metadata": {},
   "outputs": [],
   "source": [
    "plt.plot(tangentEncoder.position)"
   ]
  },
  {
   "cell_type": "markdown",
   "metadata": {},
   "source": [
    "### try a different dAngle:\n",
    "\n",
    "## Now \n",
    "\n",
    "set it using mountTelGenerator.ipynb"
   ]
  },
  {
   "cell_type": "code",
   "execution_count": null,
   "metadata": {},
   "outputs": [],
   "source": [
    "m2Angle = await m2.tel_zenithAngle.aget(timeout=10.)\n",
    "print(\"elevation from the source\", 90 - m2Angle.measured)\n",
    "\n",
    "mountAngle = await mount.tel_elevation.aget(timeout=10.)\n",
    "print(\"mount elevation angle\", mountAngle.actualPosition)\n",
    "\n",
    "#this gives enough time for us to collect later to be analyzed later\n",
    "await asyncio.sleep(15)"
   ]
  },
  {
   "cell_type": "code",
   "execution_count": null,
   "metadata": {},
   "outputs": [],
   "source": [
    "errorCode = await m2.evt_errorCode.aget(timeout=10.)\n",
    "print(errorCode.errorCode, pd.to_datetime(errorCode.private_sndStamp, unit='s'))\n",
    "print(errorCode.errorReport, pd.to_datetime(errorCode.private_sndStamp, unit='s'))"
   ]
  },
  {
   "cell_type": "code",
   "execution_count": null,
   "metadata": {},
   "outputs": [],
   "source": [
    "sstate = await m2.evt_summaryState.aget(timeout=5)\n",
    "print('starting with: m2 state',salobj.State(sstate.summaryState), pd.to_datetime(sstate.private_sndStamp, unit='s'))"
   ]
  },
  {
   "cell_type": "markdown",
   "metadata": {},
   "source": [
    "## Stop the system: stop tracking, bring everything else back to enabled (NCSA), or OFFLINE (summit hardware) and STANDBY (summit simulator)."
   ]
  },
  {
   "cell_type": "code",
   "execution_count": null,
   "metadata": {},
   "outputs": [],
   "source": [
    "await ptg.cmd_stopTracking.start(timeout=10.)"
   ]
  },
  {
   "cell_type": "code",
   "execution_count": null,
   "metadata": {},
   "outputs": [],
   "source": [
    "#the rotator was in fault state\n",
    "await rot.cmd_clearError.set_start()\n",
    "#await salobj.set_summary_state(rot, salobj.State.DISABLED)\n",
    "# you may not be able to enable the rotator (it goes to fault) if mount is not publishing CCW telemetry\n",
    "await salobj.set_summary_state(rot, salobj.State.ENABLED) #,settingsToApply=\"default\") #enable "
   ]
  },
  {
   "cell_type": "code",
   "execution_count": null,
   "metadata": {},
   "outputs": [],
   "source": [
    "await salobj.set_summary_state(ptg, salobj.State.STANDBY)"
   ]
  },
  {
   "cell_type": "code",
   "execution_count": null,
   "metadata": {},
   "outputs": [],
   "source": [
    "await salobj.set_summary_state(rot, salobj.State.STANDBY)"
   ]
  },
  {
   "cell_type": "code",
   "execution_count": null,
   "metadata": {},
   "outputs": [],
   "source": [
    "await salobj.set_summary_state(mount, salobj.State.STANDBY)"
   ]
  },
  {
   "cell_type": "code",
   "execution_count": null,
   "metadata": {},
   "outputs": [],
   "source": []
  }
 ],
 "metadata": {
  "kernelspec": {
   "display_name": "LSST",
   "language": "python",
   "name": "lsst"
  },
  "language_info": {
   "codemirror_mode": {
    "name": "ipython",
    "version": 3
   },
   "file_extension": ".py",
   "mimetype": "text/x-python",
   "name": "python",
   "nbconvert_exporter": "python",
   "pygments_lexer": "ipython3",
   "version": "3.8.8"
  }
 },
 "nbformat": 4,
 "nbformat_minor": 4
}
