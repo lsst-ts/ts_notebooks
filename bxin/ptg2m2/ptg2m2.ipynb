{
 "cells": [
  {
   "cell_type": "markdown",
   "metadata": {},
   "source": [
    "## This is a notebook that verify the communication of the pointing kernel with M2 (the rotator is also used)\n",
    "\n",
    "In this notebook, we \n",
    "* point the telescope to a particular pointing, \n",
    "* make sure the mt telemetry is correct\n",
    "* make sure that the zenith angle is picked up by M2 via the subscription\n",
    "* check that M2 LUT forces vary with the zenith angle acccordingly\n",
    "\n",
    "When we run this on the summit, we do not use the pointing component. We simply use a mount Controller to publish the mount elevation angle."
   ]
  },
  {
   "cell_type": "code",
   "execution_count": null,
   "metadata": {},
   "outputs": [],
   "source": [
    "from lsst.ts import salobj\n",
    "import asyncio\n",
    "import os\n",
    "\n",
    "import numpy as np\n",
    "from matplotlib import pyplot as plt\n",
    "import astropy.units as u\n",
    "from astropy.time import Time\n",
    "from datetime import datetime, timedelta\n",
    "import pandas as pd\n",
    "\n",
    "from astropy.coordinates import AltAz, ICRS, EarthLocation, Angle, FK5\n",
    "from astropy.utils import iers\n",
    "iers.conf.auto_download = False\n",
    "\n",
    "from lsst.ts.observatory.control.maintel.mtcs import MTCS, MTCSUsages\n",
    "from lsst.ts.observatory.control import RotType\n",
    "from astropy.coordinates import AltAz, ICRS, EarthLocation, Angle, FK5\n",
    "import astropy.units as u\n",
    "\n",
    "from lsst.ts.idl.enums import MTM2\n",
    "\n",
    "plt.jet();"
   ]
  },
  {
   "cell_type": "code",
   "execution_count": null,
   "metadata": {},
   "outputs": [],
   "source": [
    "#summit = 1 #use this for summit testing\n",
    "summit = 0 #use this for NCSA"
   ]
  },
  {
   "cell_type": "code",
   "execution_count": null,
   "metadata": {},
   "outputs": [],
   "source": [
    "if summit:\n",
    "    os.environ[\"OSPL_URI\"]=\"file:///home/bxin/WORK/ts_ddsconfig/config/ospl-sp.xml\"\n",
    "    os.environ[\"LSST_DDS_DOMAIN_ID\"] = \"11\"\n",
    "    print(os.environ[\"OSPL_URI\"])\n",
    "    print(os.environ[\"LSST_DDS_PARTITION_PREFIX\"])\n",
    "    print(os.environ[\"LSST_DDS_DOMAIN_ID\"])\n",
    "else:\n",
    "    import os\n",
    "    print(os.environ[\"OSPL_URI\"])\n",
    "    if os.environ.get(\"LSST_DDS_ALIGNER\", \"false\") != \"false\":\n",
    "        print(\"LSST_DDS_ALIGNER is mis-configured\")"
   ]
  },
  {
   "cell_type": "code",
   "execution_count": null,
   "metadata": {},
   "outputs": [],
   "source": [
    "start_time = datetime.now()\n",
    "script = salobj.Controller(\"Script\", index=1)\n",
    "if not summit:\n",
    "    await asyncio.sleep(10) #no need to wait on summit since we use the daemon\n",
    "    ptg = salobj.Remote(script.domain, \"MTPtg\")\n",
    "    rot = salobj.Remote(script.domain, \"MTRotator\")\n",
    "mount = salobj.Remote(script.domain, \"MTMount\") #we still need it on the summit, to check (not generate) fake mount telemetry!\n",
    "m2 = salobj.Remote(script.domain, \"MTM2\", exclude=['logMessage'])\n",
    "print(f'time to start is {datetime.now() - start_time} [s]')"
   ]
  },
  {
   "cell_type": "code",
   "execution_count": null,
   "metadata": {},
   "outputs": [],
   "source": [
    "if summit:\n",
    "    await asyncio.gather(m2.start_task,\n",
    "                         mount.start_task)\n",
    "else:\n",
    "    await asyncio.gather(ptg.start_task,\n",
    "                         mount.start_task,\n",
    "                         script.start_task, #                     \n",
    "                         rot.start_task,\n",
    "                         m2.start_task)"
   ]
  },
  {
   "cell_type": "code",
   "execution_count": null,
   "metadata": {},
   "outputs": [],
   "source": [
    "if not summit:\n",
    "    await ptg.evt_heartbeat.next(flush=True, timeout=5)"
   ]
  },
  {
   "cell_type": "code",
   "execution_count": null,
   "metadata": {},
   "outputs": [],
   "source": [
    "await m2.evt_heartbeat.next(flush=True, timeout=5)"
   ]
  },
  {
   "cell_type": "code",
   "execution_count": null,
   "metadata": {},
   "outputs": [],
   "source": [
    "sstate = await m2.evt_summaryState.aget(timeout=5)\n",
    "print('staring with: m2 state',salobj.State(sstate.summaryState), pd.to_datetime(sstate.private_sndStamp, unit='s'))\n",
    "dstate = await m2.evt_detailedState.aget(timeout=200)\n",
    "print('m2 state', MTM2.DetailedState(dstate.detailedState), pd.to_datetime(dstate.private_sndStamp, unit='s'))\n",
    "if not summit:\n",
    "    state = await ptg.evt_summaryState.aget(timeout=5)\n",
    "    print('ptg', salobj.State(state.summaryState),pd.to_datetime(state.private_sndStamp, unit='s'))\n",
    "    state = await rot.evt_summaryState.aget(timeout=5)\n",
    "    print('rot', salobj.State(state.summaryState),pd.to_datetime(state.private_sndStamp, unit='s'))\n",
    "    state = await mount.evt_summaryState.aget(timeout=5)\n",
    "    print('mount', state.summaryState,pd.to_datetime(state.private_sndStamp, unit='s'))"
   ]
  },
  {
   "cell_type": "code",
   "execution_count": null,
   "metadata": {},
   "outputs": [],
   "source": [
    "#execute once to get the state UP one level\n",
    "if sstate.summaryState == salobj.State.FAULT:\n",
    "    await m2.cmd_clearErrors.set_start()\n",
    "if sstate.summaryState == salobj.State.OFFLINE:\n",
    "    await salobj.enterControl.set_start()    \n",
    "if sstate.summaryState == salobj.State.STANDBY:\n",
    "    await m2.cmd_start.set_start()\n",
    "if sstate.summaryState == salobj.State.DISABLED:\n",
    "    await m2.cmd_enable.set_start() \n",
    "sstate = await m2.evt_summaryState.aget(timeout=5)\n",
    "print('starting with: m2 state',salobj.State(sstate.summaryState), pd.to_datetime(sstate.private_sndStamp, unit='s'))"
   ]
  },
  {
   "cell_type": "code",
   "execution_count": null,
   "metadata": {},
   "outputs": [],
   "source": [
    "#if ptg is in standby (5), enable it\n",
    "if not summit:\n",
    "    await salobj.set_summary_state(ptg, salobj.State.ENABLED)"
   ]
  },
  {
   "cell_type": "markdown",
   "metadata": {},
   "source": [
    "Check the state of the system"
   ]
  },
  {
   "cell_type": "code",
   "execution_count": null,
   "metadata": {},
   "outputs": [],
   "source": [
    "axialForces = await m2.tel_axialForce.aget(timeout=2)\n",
    "tangentForces = await m2.tel_tangentForce.aget(timeout=2)"
   ]
  },
  {
   "cell_type": "code",
   "execution_count": null,
   "metadata": {},
   "outputs": [],
   "source": [
    "m2ForceBalance = await m2.evt_forceBalanceSystemStatus.aget(timeout=10.)\n",
    "print(\"starting with Status of the M2 force balance system ---\", m2ForceBalance.status, \"----\",\n",
    "      pd.to_datetime(m2ForceBalance.private_sndStamp, unit='s'))\n",
    "if not m2ForceBalance.status:\n",
    "    await m2.cmd_switchForceBalanceSystem.set_start(status=True, timeout=10)\n",
    "    m2ForceBalance = await m2.evt_forceBalanceSystemStatus.aget(timeout=10.)\n",
    "    print(\"Status of the M2 force balance system\", m2ForceBalance.status)"
   ]
  },
  {
   "cell_type": "markdown",
   "metadata": {},
   "source": [
    "### Do a slew (only for NCSA)"
   ]
  },
  {
   "cell_type": "code",
   "execution_count": null,
   "metadata": {},
   "outputs": [],
   "source": [
    "mtcs = MTCS(script.domain)\n",
    "mtcs.set_rem_loglevel(40)"
   ]
  },
  {
   "cell_type": "code",
   "execution_count": null,
   "metadata": {},
   "outputs": [],
   "source": [
    "await mtcs.start_task"
   ]
  },
  {
   "cell_type": "code",
   "execution_count": null,
   "metadata": {},
   "outputs": [],
   "source": [
    "alt = 40 * u.deg\n",
    "az = 0 * u.deg\n",
    "\n",
    "target_name=\"TMA motion test\"\n",
    "time_data = await ptg.tel_timeAndDate.next(flush=True, timeout=2)\n",
    "curr_time_ptg = Time(time_data.mjd, format=\"mjd\", scale=\"tai\")\n",
    "time_err = curr_time_ptg - Time.now()\n",
    "print(f\"Time error={time_err.sec:0.2f} sec\")\n",
    "\n",
    "print(curr_time_ptg.tai.value)\n",
    "\n",
    "cmd_elaz = AltAz(alt=alt, az=az, \n",
    "                obstime=curr_time_ptg.tai, \n",
    "                location=mtcs.location)\n",
    "cmd_radec = cmd_elaz.transform_to(ICRS)\n",
    "await mtcs.slew_icrs(ra=cmd_radec.ra, dec=cmd_radec.dec, rot=0., rot_type=RotType.PhysicalSky)"
   ]
  },
  {
   "cell_type": "code",
   "execution_count": null,
   "metadata": {},
   "outputs": [],
   "source": [
    "if not summit:\n",
    "    mountStatus = await mount.evt_axesInPosition.aget(timeout=5.)\n",
    "    rotStatus = await rot.evt_inPosition.aget(timeout=5.)\n",
    "    print('Are we tracking?', mountStatus.elevation , mountStatus.azimuth , rotStatus.inPosition)"
   ]
  },
  {
   "cell_type": "code",
   "execution_count": null,
   "metadata": {},
   "outputs": [],
   "source": [
    "if not summit:\n",
    "    await ptg.cmd_stopTracking.set_start(timeout=5.)"
   ]
  },
  {
   "cell_type": "markdown",
   "metadata": {},
   "source": [
    "### Check telemetry: list here what we want to check once the slew is done"
   ]
  },
  {
   "cell_type": "code",
   "execution_count": null,
   "metadata": {},
   "outputs": [],
   "source": [
    "# Check that the mirror is in Position --  this check is a little more tricky if we are in closed loop. \n",
    "m2InPosition = await m2.evt_m2AssemblyInPosition.aget(timeout=10.)\n",
    "print(\"Is the m2 in Position after a slew?\", m2InPosition.inPosition)"
   ]
  },
  {
   "cell_type": "code",
   "execution_count": null,
   "metadata": {},
   "outputs": [],
   "source": [
    "mountAngle = await mount.tel_elevation.aget(timeout=10.)\n",
    "print(\"mount elevation angle\", mountAngle.angleActual)"
   ]
  },
  {
   "cell_type": "markdown",
   "metadata": {},
   "source": [
    "### Alternatively, we could create a Controller object to send mount telemetry (for NCSA OR summit)\n",
    "\n",
    "If we are to use the Controller object, we need to \n",
    "\n",
    "* take the mount out of the disabled/enabled states so that it stops sending telemetry data. (check the mount telemetry, via EFD or here in the notebook)\n",
    "* Get fake telemetry ready (using mountTelGenerator.ipynb) - dAngle is figured out from m2_diagnostics_EFD.ipynb\n",
    "* Then we need to point m2 to the fake mount elevation"
   ]
  },
  {
   "cell_type": "code",
   "execution_count": null,
   "metadata": {},
   "outputs": [],
   "source": [
    "m2AngleSource = await m2.evt_inclinationTelemetrySource.aget(timeout=10.)\n",
    "print(\"Inclinometer Source\", MTM2.InclinationTelemetrySource(m2AngleSource.source))"
   ]
  },
  {
   "cell_type": "code",
   "execution_count": null,
   "metadata": {},
   "outputs": [],
   "source": [
    "await m2.cmd_selectInclinationTelemetrySource(status = MTM2.inclinationTelemetrySource.MTMount)\n",
    "#await m2.cmd_selectInclinationTelemetrySource(status = MTM2.inclinationTelemetrySource.OnBoard)"
   ]
  },
  {
   "cell_type": "code",
   "execution_count": null,
   "metadata": {},
   "outputs": [],
   "source": [
    "m2AngleSource = await m2.evt_inclinationTelemetrySource.aget(timeout=10.)\n",
    "print(\"Inclinometer Source\", MTM2.InclinationTelemetrySource(m2AngleSource.source))"
   ]
  },
  {
   "cell_type": "code",
   "execution_count": null,
   "metadata": {},
   "outputs": [],
   "source": [
    "m2ForceBalance = await m2.evt_forceBalanceSystemStatus.aget(timeout=10.)\n",
    "print(\"starting with Status of the M2 force balance system ---\", m2ForceBalance.status, \"----\",\n",
    "      pd.to_datetime(m2ForceBalance.private_sndStamp, unit='s'))\n",
    "if not m2ForceBalance.status:\n",
    "    await m2.cmd_switchForceBalanceSystem.set_start(status=True, timeout=10)\n",
    "    m2ForceBalance = await m2.evt_forceBalanceSystemStatus.aget(timeout=10.)\n",
    "    print(\"Status of the M2 force balance system\", m2ForceBalance.status)"
   ]
  },
  {
   "cell_type": "code",
   "execution_count": null,
   "metadata": {},
   "outputs": [],
   "source": [
    "m2Angle = await m2.tel_zenithAngle.aget(timeout=10.)\n",
    "print(\"elevation from the source\", 90 - m2Angle.measured)\n",
    "\n",
    "mountAngle = await mount.tel_elevation.aget(timeout=10.)\n",
    "print(\"mount elevation angle\", mountAngle.angleActual)"
   ]
  },
  {
   "cell_type": "markdown",
   "metadata": {},
   "source": [
    "try a different dAngle:\n",
    "\n",
    "Now set it using mountTelGenerator.ipynb"
   ]
  },
  {
   "cell_type": "code",
   "execution_count": null,
   "metadata": {},
   "outputs": [],
   "source": [
    "m2Angle = await m2.tel_zenithAngle.aget(timeout=10.)\n",
    "print(\"elevation from the source\", 90 - m2Angle.measured)\n",
    "\n",
    "mountAngle = await mount.tel_elevation.aget(timeout=10.)\n",
    "print(\"mount elevation angle\", mountAngle.angleActual)\n",
    "\n",
    "#this gives enough time for us to collect later to be analyzed later\n",
    "await asyncio.sleep(15)"
   ]
  },
  {
   "cell_type": "markdown",
   "metadata": {},
   "source": [
    "## Stop the system: stop tracking, what else?"
   ]
  },
  {
   "cell_type": "code",
   "execution_count": null,
   "metadata": {},
   "outputs": [],
   "source": [
    "await ptg.cmd_stopTracking.start(timeout=10.)"
   ]
  },
  {
   "cell_type": "code",
   "execution_count": null,
   "metadata": {},
   "outputs": [],
   "source": []
  },
  {
   "cell_type": "code",
   "execution_count": null,
   "metadata": {},
   "outputs": [],
   "source": []
  }
 ],
 "metadata": {
  "kernelspec": {
   "display_name": "LSST",
   "language": "python",
   "name": "lsst"
  },
  "language_info": {
   "codemirror_mode": {
    "name": "ipython",
    "version": 3
   },
   "file_extension": ".py",
   "mimetype": "text/x-python",
   "name": "python",
   "nbconvert_exporter": "python",
   "pygments_lexer": "ipython3",
   "version": "3.8.6"
  }
 },
 "nbformat": 4,
 "nbformat_minor": 4
}
