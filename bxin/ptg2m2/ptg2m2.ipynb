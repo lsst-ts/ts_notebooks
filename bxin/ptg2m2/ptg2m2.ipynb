{
 "cells": [
  {
   "cell_type": "markdown",
   "metadata": {},
   "source": [
    "## This is a notebook that verify the communication of the pointing kernel with M2 (using the rotator)\n",
    "\n",
    "In this notebook, we \n",
    "* point the telescope to a particular pointing, \n",
    "* make sure the mt telemetry is correct\n",
    "* make sure that the zenith angle is picked up by M2 via the subscription\n",
    "* check that M2 LUT forces vary with the zenith angle acccordingly\n"
   ]
  },
  {
   "cell_type": "code",
   "execution_count": null,
   "metadata": {},
   "outputs": [],
   "source": [
    "#from lsst.ts.observatory.maintel import MTCS\n",
    "from lsst.ts import salobj\n",
    "from lsst.ts.idl.enums import ATPtg\n",
    "\n",
    "import asyncio\n",
    "\n",
    "import numpy as np\n",
    "from matplotlib import pyplot as plt\n",
    "import astropy.units as u\n",
    "from astropy.time import Time\n",
    "from astropy.coordinates import AltAz, ICRS, EarthLocation, Angle, FK5\n",
    "from astropy.utils import iers\n",
    "iers.conf.auto_download = False\n",
    "\n",
    "from datetime import datetime\n",
    "import pandas as pd"
   ]
  },
  {
   "cell_type": "code",
   "execution_count": null,
   "metadata": {},
   "outputs": [],
   "source": [
    "import os\n",
    "print(os.environ[\"OSPL_URI\"])"
   ]
  },
  {
   "cell_type": "code",
   "execution_count": null,
   "metadata": {},
   "outputs": [],
   "source": [
    "start_time = datetime.now()\n",
    "script = salobj.Controller(\"Script\", index=1)\n",
    "#await asyncio.sleep(10)"
   ]
  },
  {
   "cell_type": "code",
   "execution_count": null,
   "metadata": {},
   "outputs": [],
   "source": [
    "ptg = salobj.Remote(script.domain, \"MTPtg\")\n",
    "rot = salobj.Remote(script.domain, \"MTRotator\")\n",
    "m2 = salobj.Remote(script.domain, \"MTM2\")\n",
    "mount = salobj.Remote(script.domain, \"MTMount\")\n",
    "print(f'time to start is {datetime.now() - start_time} [s]')"
   ]
  },
  {
   "cell_type": "code",
   "execution_count": null,
   "metadata": {},
   "outputs": [],
   "source": [
    "await asyncio.gather(ptg.start_task,\n",
    "                     mount.start_task,\n",
    "                     script.start_task, #                     \n",
    "                     rot.start_task,\n",
    "                     m2.start_task)"
   ]
  },
  {
   "cell_type": "code",
   "execution_count": null,
   "metadata": {},
   "outputs": [],
   "source": [
    "h = await ptg.evt_heartbeat.next(flush=True, timeout=5)\n",
    "print(h.heartbeat)"
   ]
  },
  {
   "cell_type": "code",
   "execution_count": null,
   "metadata": {},
   "outputs": [],
   "source": [
    "#As long as you get something for the payload its OK.\n",
    "h = await m2.evt_heartbeat.next(flush=True, timeout=5)\n",
    "print(h.heartbeat)"
   ]
  },
  {
   "cell_type": "code",
   "execution_count": null,
   "metadata": {},
   "outputs": [],
   "source": [
    "state = await ptg.evt_summaryState.aget(timeout=5)\n",
    "print('ptg', salobj.State(state.summaryState),pd.to_datetime(state.private_sndStamp, unit='s'))\n",
    "state = await m2.evt_summaryState.aget(timeout=5)\n",
    "print('m2',salobj.State(state.summaryState),pd.to_datetime(state.private_sndStamp, unit='s'))\n",
    "state = await rot.evt_summaryState.aget(timeout=5)\n",
    "print('rot', salobj.State(state.summaryState),pd.to_datetime(state.private_sndStamp, unit='s'))\n",
    "#state = await mount.evt_summaryState.aget(timeout=5)\n",
    "#print('mount', state.summaryState,pd.to_datetime(state.private_sndStamp, unit='s'))"
   ]
  },
  {
   "cell_type": "code",
   "execution_count": null,
   "metadata": {},
   "outputs": [],
   "source": [
    "#await salobj.set_summary_state(m2, salobj.State.DISABLED)\n",
    "await salobj.set_summary_state(m2, salobj.State.ENABLED)"
   ]
  },
  {
   "cell_type": "code",
   "execution_count": null,
   "metadata": {},
   "outputs": [],
   "source": [
    "#if ptg is in standby (5), enable it\n",
    "await salobj.set_summary_state(ptg, salobj.State.ENABLED)"
   ]
  },
  {
   "cell_type": "markdown",
   "metadata": {},
   "source": [
    "Check the state of the system"
   ]
  },
  {
   "cell_type": "code",
   "execution_count": null,
   "metadata": {},
   "outputs": [],
   "source": [
    "axialForces = await m2.tel_axialForce.next(flush=True, timeout=2)\n",
    "tangentForces = await m2.tel_tangentForce.next(flush=True, timeout=2)"
   ]
  },
  {
   "cell_type": "code",
   "execution_count": null,
   "metadata": {},
   "outputs": [],
   "source": [
    "m2ForceBalance = await m2.evt_forceBalanceSystemStatus.aget(timeout=10.)\n",
    "print(\"starting with Status of the M2 force balance system ---\", m2ForceBalance.status, \"----\",\n",
    "      pd.to_datetime(m2ForceBalance.private_sndStamp, unit='s'))\n",
    "if not m2ForceBalance.status:\n",
    "    await m2.cmd_switchForceBalanceSystem.set_start(status=True, timeout=10)\n",
    "    m2ForceBalance = await m2.evt_forceBalanceSystemStatus.aget(timeout=10.)\n",
    "    print(\"Status of the M2 force balance system\", m2ForceBalance.status)"
   ]
  },
  {
   "cell_type": "markdown",
   "metadata": {},
   "source": [
    "### Enter the location for the telescope for the pointing"
   ]
  },
  {
   "cell_type": "code",
   "execution_count": null,
   "metadata": {},
   "outputs": [],
   "source": [
    "location = EarthLocation.from_geodetic(lon=-70.747698*u.deg,\n",
    "                                       lat=-30.244728*u.deg,\n",
    "                                       height=2663.0*u.m)"
   ]
  },
  {
   "cell_type": "markdown",
   "metadata": {},
   "source": [
    "## Start of a slew"
   ]
  },
  {
   "cell_type": "code",
   "execution_count": null,
   "metadata": {},
   "outputs": [],
   "source": [
    "now = datetime.now()\n",
    "print(\"Start to point the telescope\", now)\n",
    "\n",
    "alt = 60. * u.deg\n",
    "az = 0. * u.deg\n",
    "rot_tel = Angle(0, unit= u.deg) "
   ]
  },
  {
   "cell_type": "code",
   "execution_count": null,
   "metadata": {},
   "outputs": [],
   "source": [
    "target_name=\"TMA motion test\"\n",
    "time_data = await ptg.tel_timeAndDate.next(flush=True, timeout=2)\n",
    "curr_time_ptg = Time(time_data.mjd, format=\"mjd\", scale=\"tai\")\n",
    "time_err = curr_time_ptg - Time.now()\n",
    "print(f\"Time error={time_err.sec:0.2f} sec\")\n",
    "\n",
    "print(curr_time_ptg.tai.value)\n",
    "\n",
    "cmd_elaz = AltAz(alt=alt, az=az, \n",
    "                obstime=curr_time_ptg.tai, \n",
    "                location=location)\n",
    "cmd_radec = cmd_elaz.transform_to(ICRS)\n",
    "# Calculating the other parameters     \n",
    "rot_pa = rot_tel\n",
    "await rot.cmd_trackStart.start(timeout=30.)\n"
   ]
  },
  {
   "cell_type": "code",
   "execution_count": null,
   "metadata": {},
   "outputs": [],
   "source": [
    "#The pointing component is commanding the mount directly\n",
    "ack = await ptg.cmd_raDecTarget.set_start(\n",
    "    targetName=target_name,\n",
    "    frame=ATPtg.CoordFrame.ICRS,\n",
    "    epoch=2000,  # should be ignored: no parallax or proper motion\n",
    "    equinox=2000,  # should be ignored for ICRS\n",
    "    ra=cmd_radec.ra.hour,\n",
    "    declination=cmd_radec.dec.deg,\n",
    "    parallax=0,\n",
    "    pmRA=0,\n",
    "    pmDec=0,\n",
    "    rv=0,\n",
    "    dRA=0,\n",
    "    dDec=0,\n",
    "    rotPA=rot_pa.deg-180,\n",
    "    rotFrame=ATPtg.RotFrame.FIXED,\n",
    "    rotMode=ATPtg.RotMode.FIELD,\n",
    "    timeout=10\n",
    ")\n",
    "\n",
    "print(\"Waiting 30s\")\n",
    "await asyncio.sleep(30.)\n",
    "print(\"System Ready\")"
   ]
  },
  {
   "cell_type": "markdown",
   "metadata": {},
   "source": [
    "## Check telemetry: list here what we want to check once the slew is done"
   ]
  },
  {
   "cell_type": "code",
   "execution_count": null,
   "metadata": {},
   "outputs": [],
   "source": [
    "# Check that the mirror is in Position --  this check is a little more tricky if we are in closed loop. \n",
    "m2InPosition = await m2.evt_m2AssemblyInPosition.aget(timeout=10.)\n",
    "print(\"Is the m2 in Position after a slew?\", m2InPosition.inPosition)"
   ]
  },
  {
   "cell_type": "code",
   "execution_count": null,
   "metadata": {},
   "outputs": [],
   "source": [
    "from lsst.ts.idl.enums import MTM2"
   ]
  },
  {
   "cell_type": "code",
   "execution_count": null,
   "metadata": {},
   "outputs": [],
   "source": [
    "m2AngleSource = await m2.evt_inclinationTelemetrySource.aget(timeout=10.)\n",
    "print(\"Inclinometer Source\", MTM2.InclinationTelemetrySource(m2AngleSource.source))\n",
    "\n",
    "#zenithAngleData is old and observing\n",
    "m2Angle = await m2.tel_zenithAngle.aget(timeout=10.)\n",
    "print(\"elevation from the source\", 90 - m2Angle.measured)\n",
    "\n",
    "mountAngle = await mount.tel_elevation.aget(timeout=10.)\n",
    "print(\"mount elevation angle\", mountAngle.angleActual)"
   ]
  },
  {
   "cell_type": "markdown",
   "metadata": {},
   "source": [
    "## Stop the system: stop tracking, what else?"
   ]
  },
  {
   "cell_type": "code",
   "execution_count": null,
   "metadata": {},
   "outputs": [],
   "source": [
    "await ptg.cmd_stopTracking.start(timeout=10.)"
   ]
  },
  {
   "cell_type": "code",
   "execution_count": null,
   "metadata": {},
   "outputs": [],
   "source": []
  },
  {
   "cell_type": "code",
   "execution_count": null,
   "metadata": {},
   "outputs": [],
   "source": []
  }
 ],
 "metadata": {
  "kernelspec": {
   "display_name": "LSST",
   "language": "python",
   "name": "lsst"
  },
  "language_info": {
   "codemirror_mode": {
    "name": "ipython",
    "version": 3
   },
   "file_extension": ".py",
   "mimetype": "text/x-python",
   "name": "python",
   "nbconvert_exporter": "python",
   "pygments_lexer": "ipython3",
   "version": "3.7.8"
  }
 },
 "nbformat": 4,
 "nbformat_minor": 4
}
