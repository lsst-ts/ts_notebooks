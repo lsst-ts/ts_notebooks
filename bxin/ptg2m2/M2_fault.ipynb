{
 "cells": [
  {
   "cell_type": "markdown",
   "id": "sexual-civilization",
   "metadata": {},
   "source": [
    "### This notebook is for debugging M2 faults\n",
    "\n",
    "The user needs to provide a few timestamps (2nd cell), each corresponding to a point in time that we want to use in the comparison. Typically the first timestamp should be when the M2 was last known to be working properly.\n",
    "\n",
    "The notebook goes through all the M2 telemetry, trying to imform the user whether certain info has changed before and after the system faulted."
   ]
  },
  {
   "cell_type": "code",
   "execution_count": null,
   "id": "outdoor-nevada",
   "metadata": {},
   "outputs": [],
   "source": [
    "from openpyxl import load_workbook\n",
    "\n",
    "from astropy.time import Time\n",
    "from datetime import timedelta, datetime\n",
    "from lsst_efd_client import EfdClient\n",
    "\n",
    "import matplotlib.pyplot as plt\n",
    "import scipy.io\n",
    "import numpy as np\n",
    "import pandas as pd\n",
    "import os\n",
    "\n",
    "from pandas.plotting import register_matplotlib_converters\n",
    "register_matplotlib_converters()"
   ]
  },
  {
   "cell_type": "code",
   "execution_count": null,
   "id": "joined-paste",
   "metadata": {},
   "outputs": [],
   "source": [
    "timeTitle = ['inclinometer', '85 deg', '75 deg', 'power cycle']\n",
    "start = [Time('2021-03-25T15:00:00', scale = 'tai'), #8am\n",
    "         Time('2021-03-25T16:10:00', scale = 'tai'), #9:10\n",
    "         Time('2021-03-25T16:30:00', scale = 'tai'), #9:30\n",
    "         Time('2021-03-25T18:04:00', scale = 'tai')] #11:04\n",
    "end = []\n",
    "nc = len(start) #number of comparison\n",
    "for i in range(nc):\n",
    "    end.append(start[i]+ timedelta(seconds=5)) #5s is the length of each data series."
   ]
  },
  {
   "cell_type": "code",
   "execution_count": null,
   "id": "existing-trade",
   "metadata": {},
   "outputs": [],
   "source": [
    "client = EfdClient('summit_efd')\n",
    "csc_index = 1\n",
    "\n",
    "aF = []\n",
    "tF = []\n",
    "temp = []\n",
    "zA = []\n",
    "\n",
    "aS = []\n",
    "tS = []\n",
    "aE = []\n",
    "tE = []\n",
    "\n",
    "p =[]\n",
    "pI = []\n",
    "disp = []\n",
    "\n",
    "power = []\n",
    "ilc = []\n",
    "\n",
    "for i in range(nc):\n",
    "    aF.append(await  client.select_time_series('lsst.sal.MTM2.axialForce', '*', start[i], end[i],  csc_index))\n",
    "    tF.append(await  client.select_time_series('lsst.sal.MTM2.tangentForce', '*', start[i], end[i],  csc_index))\n",
    "    temp.append(await  client.select_time_series('lsst.sal.MTM2.temperature', '*', start[i], end[i],  csc_index))\n",
    "    zA.append(await  client.select_time_series('lsst.sal.MTM2.zenithAngle', '*', start[i], end[i],  csc_index))\n",
    "\n",
    "    aS.append(await  client.select_time_series('lsst.sal.MTM2.axialActuatorSteps', '*', start[i], end[i],  csc_index))\n",
    "    tS.append(await  client.select_time_series('lsst.sal.MTM2.tangentActuatorSteps', '*', start[i], end[i],  csc_index))\n",
    "    aE.append(await  client.select_time_series('lsst.sal.MTM2.axialEncoderPositions', '*', start[i], end[i],  csc_index))\n",
    "    tE.append(await  client.select_time_series('lsst.sal.MTM2.tangentEncoderPositions', '*', start[i], end[i],  csc_index))\n",
    "\n",
    "    p.append(await  client.select_time_series('lsst.sal.MTM2.position', '*', start[i], end[i],  csc_index))\n",
    "    pI.append(await  client.select_time_series('lsst.sal.MTM2.positionIMS', '*', start[i], end[i],  csc_index))\n",
    "    disp.append(await  client.select_time_series('lsst.sal.MTM2.displacementSensors', '*', start[i], end[i],  csc_index))\n",
    "\n",
    "    power.append(await  client.select_time_series('lsst.sal.MTM2.powerStatus', '*', start[i], end[i],  csc_index))\n",
    "    ilc.append(await  client.select_time_series('lsst.sal.MTM2.ilcData', '*', start[i], end[i],  csc_index))"
   ]
  },
  {
   "cell_type": "code",
   "execution_count": null,
   "id": "previous-positive",
   "metadata": {},
   "outputs": [],
   "source": [
    "#make sure we got data from each timestamp\n",
    "for i in range(nc):\n",
    "    print(len(tF[i]))"
   ]
  },
  {
   "cell_type": "code",
   "execution_count": null,
   "id": "magnetic-transfer",
   "metadata": {},
   "outputs": [],
   "source": [
    "fig, ax = plt.subplots(1,nc,figsize=(15,4))\n",
    "for a in range(nc):\n",
    "    for i in range(6):\n",
    "        ax[a].plot(tF[a]['measured%d'%i])\n",
    "    ax[a].set_title('tangent force measured, %s'%timeTitle[a])"
   ]
  },
  {
   "cell_type": "code",
   "execution_count": null,
   "id": "golden-prairie",
   "metadata": {},
   "outputs": [],
   "source": [
    "fig, ax = plt.subplots(1,nc,figsize=(15,4))\n",
    "for a in range(nc):\n",
    "    for i in range(72):\n",
    "        ax[a].plot(aF[a]['measured%d'%i])\n",
    "    ax[a].set_title('axial force measured, %s'%timeTitle[a])"
   ]
  },
  {
   "cell_type": "code",
   "execution_count": null,
   "id": "continuing-modification",
   "metadata": {},
   "outputs": [],
   "source": [
    "fig, ax = plt.subplots(1,nc,figsize=(15,4))\n",
    "for a in range(nc):\n",
    "    for i in range(6):\n",
    "        ax[a].plot(tF[a]['lutGravity%d'%i])\n",
    "    ax[a].set_title('tangent force lutG, %s'%timeTitle[a])"
   ]
  },
  {
   "cell_type": "code",
   "execution_count": null,
   "id": "eight-omaha",
   "metadata": {},
   "outputs": [],
   "source": [
    "fig, ax = plt.subplots(1,nc,figsize=(15,4))\n",
    "for a in range(nc):\n",
    "    for i in range(72):\n",
    "        ax[a].plot(aF[a]['lutGravity%d'%i])\n",
    "    ax[a].set_title('axial force lutG, %s'%timeTitle[a])"
   ]
  },
  {
   "cell_type": "code",
   "execution_count": null,
   "id": "specialized-shock",
   "metadata": {},
   "outputs": [],
   "source": [
    "fig, ax = plt.subplots(1,nc,figsize=(15,4))\n",
    "for a in range(nc):\n",
    "    for i in range(6):\n",
    "        ax[a].plot(tF[a]['hardpointCorrection%d'%i])\n",
    "    ax[a].set_title('tangent FB, %s'%timeTitle[a])"
   ]
  },
  {
   "cell_type": "code",
   "execution_count": null,
   "id": "dated-reynolds",
   "metadata": {},
   "outputs": [],
   "source": [
    "fig, ax = plt.subplots(1,nc,figsize=(15,4))\n",
    "for a in range(nc):\n",
    "    for i in range(72):\n",
    "        ax[a].plot(aF[a]['hardpointCorrection%d'%i])\n",
    "    ax[a].set_title('axial FB, %s'%timeTitle[a])"
   ]
  },
  {
   "cell_type": "code",
   "execution_count": null,
   "id": "catholic-shift",
   "metadata": {},
   "outputs": [],
   "source": [
    "a = 2\n",
    "for i in range(72):\n",
    "    if aF[a]['hardpointCorrection%d'%i][0]<20:\n",
    "        print('%02d, %.2f'%(i+1,aF[a]['hardpointCorrection%d'%i][0]))\n",
    "plt.plot([aF[a]['hardpointCorrection%d'%i][0] for i in range(72)],'.')\n",
    "plt.grid()"
   ]
  },
  {
   "cell_type": "code",
   "execution_count": null,
   "id": "conditional-garden",
   "metadata": {},
   "outputs": [],
   "source": [
    "fig, ax = plt.subplots(1,nc,figsize=(15,4))\n",
    "for a in range(nc):\n",
    "    for i in range(12):\n",
    "        ax[a].plot(temp[a]['ring%d'%i])\n",
    "        ax[a].set_title('Ring temperature, %s'%timeTitle[a])"
   ]
  },
  {
   "cell_type": "code",
   "execution_count": null,
   "id": "statewide-royal",
   "metadata": {},
   "outputs": [],
   "source": [
    "fig, ax = plt.subplots(1,nc,figsize=(15,4))\n",
    "for a in range(nc):\n",
    "    ax[a].plot(zA[a]['measured']);\n",
    "    ax[a].set_title('inclinometer reading, %s'%timeTitle[a])"
   ]
  },
  {
   "cell_type": "code",
   "execution_count": null,
   "id": "distinct-trauma",
   "metadata": {},
   "outputs": [],
   "source": [
    "fig, ax = plt.subplots(1,nc,figsize=(15,4))\n",
    "for a in range(nc):\n",
    "    for i in range(72):\n",
    "        ax[a].plot(aS[a]['steps%d'%i])\n",
    "        ax[a].set_title('axial actuator steps, %s'%timeTitle[a])"
   ]
  },
  {
   "cell_type": "code",
   "execution_count": null,
   "id": "confused-photography",
   "metadata": {},
   "outputs": [],
   "source": [
    "fig, ax = plt.subplots(1,nc,figsize=(15,4))\n",
    "for a in range(nc):\n",
    "    for i in range(72):\n",
    "        ax[a].plot(aE[a]['position%d'%i])\n",
    "        ax[a].set_title('axial encoder positions, %s'%timeTitle[a])"
   ]
  },
  {
   "cell_type": "code",
   "execution_count": null,
   "id": "mediterranean-geneva",
   "metadata": {},
   "outputs": [],
   "source": [
    "fig, ax = plt.subplots(1,nc,figsize=(15,4))\n",
    "for a in range(nc):\n",
    "    for i in range(6):\n",
    "        ax[a].plot(tS[a]['steps%d'%i])\n",
    "        ax[a].set_title('tangent actuator steps, %s'%timeTitle[a])"
   ]
  },
  {
   "cell_type": "code",
   "execution_count": null,
   "id": "extreme-upper",
   "metadata": {},
   "outputs": [],
   "source": [
    "fig, ax = plt.subplots(1,nc,figsize=(15,4))\n",
    "for a in range(nc):\n",
    "    for i in range(6):\n",
    "        ax[a].plot(tE[a]['position%d'%i])\n",
    "        ax[a].set_title('tangent encoder positions, %s'%timeTitle[a])"
   ]
  },
  {
   "cell_type": "code",
   "execution_count": null,
   "id": "sustainable-external",
   "metadata": {},
   "outputs": [],
   "source": [
    "fig, ax = plt.subplots(1,nc,figsize=(15,4))\n",
    "for a in range(nc):\n",
    "    for x in ['x','y','z', 'xRot', 'yRot', 'zRot']:\n",
    "        ax[a].plot(p[a][x])\n",
    "        ax[a].set_title('position, %s'%timeTitle[a])"
   ]
  },
  {
   "cell_type": "code",
   "execution_count": null,
   "id": "atomic-runner",
   "metadata": {},
   "outputs": [],
   "source": [
    "fig, ax = plt.subplots(1,nc,figsize=(15,4))\n",
    "for a in range(nc):\n",
    "    for x in ['x','y','z', 'xRot', 'yRot', 'zRot']:\n",
    "        ax[a].plot(pI[a][x])\n",
    "        ax[a].set_title('positionIMS, %s'%timeTitle[a])"
   ]
  },
  {
   "cell_type": "code",
   "execution_count": null,
   "id": "unsigned-affiliate",
   "metadata": {},
   "outputs": [],
   "source": [
    "fig, ax = plt.subplots(1,nc,figsize=(15,4))\n",
    "for a in range(nc):\n",
    "    for i in range(6):\n",
    "        ax[a].plot(disp[a]['deltaZ%d'%i])\n",
    "        ax[a].plot(disp[a]['thetaZ%d'%i])\n",
    "        ax[a].set_title('disp sensors, %s'%timeTitle[a])"
   ]
  },
  {
   "cell_type": "code",
   "execution_count": null,
   "id": "documented-ground",
   "metadata": {},
   "outputs": [],
   "source": [
    "fig, ax = plt.subplots(1,nc,figsize=(15,4))\n",
    "for a in range(nc):\n",
    "    for i in range(78):\n",
    "        j = np.mod(ilc[a]['status%d'%i],16)\n",
    "        ax[a].plot(j)\n",
    "        ax[a].plot( (ilc[a]['status%d'%i] - j)/16., '-.')\n",
    "    ax[a].grid()\n",
    "    ax[a].set_title('ILC status, %s'%timeTitle[a])"
   ]
  },
  {
   "cell_type": "code",
   "execution_count": null,
   "id": "complimentary-morris",
   "metadata": {},
   "outputs": [],
   "source": [
    "a= 3 # No 1 out of nc\n",
    "i = 0 #only look at first ILC, since all ILCs are the same in the above plot\n",
    "j = np.mod(ilc[a]['status%d'%i],16)\n",
    "print((ilc[a]['status%d'%i] - j)/16.) #this is communication counter"
   ]
  },
  {
   "cell_type": "code",
   "execution_count": null,
   "id": "going-harmony",
   "metadata": {},
   "outputs": [],
   "source": [
    "fig, ax = plt.subplots(1,nc,figsize=(15,4))\n",
    "for a in range(nc):\n",
    "    for i in ['commVoltage', 'motorVoltage', 'commCurrent', 'motorCurrent']:\n",
    "        ax[a].plot(power[a][i])\n",
    "        ax[a].set_title('power status, %s'%timeTitle[a])"
   ]
  },
  {
   "cell_type": "code",
   "execution_count": null,
   "id": "organizational-resort",
   "metadata": {},
   "outputs": [],
   "source": [
    "for i in ['commVoltage', 'motorVoltage', 'commCurrent', 'motorCurrent']:\n",
    "    for a in range(nc):\n",
    "        print(i, a, power[a][i][0])"
   ]
  },
  {
   "cell_type": "code",
   "execution_count": null,
   "id": "growing-knock",
   "metadata": {},
   "outputs": [],
   "source": []
  }
 ],
 "metadata": {
  "kernelspec": {
   "display_name": "LSST",
   "language": "python",
   "name": "lsst"
  },
  "language_info": {
   "codemirror_mode": {
    "name": "ipython",
    "version": 3
   },
   "file_extension": ".py",
   "mimetype": "text/x-python",
   "name": "python",
   "nbconvert_exporter": "python",
   "pygments_lexer": "ipython3",
   "version": "3.8.8"
  }
 },
 "nbformat": 4,
 "nbformat_minor": 5
}
