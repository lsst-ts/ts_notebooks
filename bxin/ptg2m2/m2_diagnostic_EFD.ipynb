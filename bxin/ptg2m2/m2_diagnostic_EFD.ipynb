{
 "cells": [
  {
   "cell_type": "markdown",
   "metadata": {},
   "source": [
    "### This notebook is for M2 (NTS or Summit)\n",
    "### We get the LUT force info from the EFD\n",
    "### we compare the M2 simulator LUT implementation with Harris csv files, for one zenith angle."
   ]
  },
  {
   "cell_type": "code",
   "execution_count": null,
   "metadata": {},
   "outputs": [],
   "source": [
    "from openpyxl import load_workbook\n",
    "\n",
    "from astropy.time import Time\n",
    "from datetime import timedelta, datetime\n",
    "from lsst_efd_client import EfdClient\n",
    "\n",
    "import matplotlib.pyplot as plt\n",
    "import scipy.io\n",
    "import numpy as np\n",
    "import pandas as pd\n",
    "import os\n",
    "\n",
    "from pandas.plotting import register_matplotlib_converters\n",
    "register_matplotlib_converters()\n",
    "\n",
    "plt.jet();"
   ]
  },
  {
   "cell_type": "code",
   "execution_count": null,
   "metadata": {},
   "outputs": [],
   "source": [
    "summit = 1 #use this for summit testing\n",
    "#summit = 0 #use this for NCSA"
   ]
  },
  {
   "cell_type": "code",
   "execution_count": null,
   "metadata": {},
   "outputs": [],
   "source": [
    "if summit:\n",
    "    start = Time('2021-03-25T15:19:00', scale = 'tai') #these are after we applied the +2/-2N forces.\n",
    "    end   = Time('2021-03-25T15:21:00', scale = 'tai') \n",
    "    client = EfdClient('summit_efd')\n",
    "else:\n",
    "    # NCSA\n",
    "    start = Time('2021-03-23T00:50:00', scale = 'tai') \n",
    "    end   = Time('2021-03-23T00:52:00', scale = 'tai') \n",
    "    client = EfdClient('ncsa_teststand_efd')\n",
    "\n",
    "csc_index = 1\n",
    "aF = await client.select_time_series('lsst.sal.MTM2.axialForce', '*', start, end, csc_index)\n",
    "tF = await client.select_time_series('lsst.sal.MTM2.tangentForce', '*', start, end, csc_index)\n",
    "temp = await client.select_time_series('lsst.sal.MTM2.temperature', '*', start, end, csc_index)\n",
    "zA = await client.select_time_series('lsst.sal.MTM2.zenithAngle', '*', start, end, csc_index)"
   ]
  },
  {
   "cell_type": "code",
   "execution_count": null,
   "metadata": {},
   "outputs": [],
   "source": [
    "len(aF)"
   ]
  },
  {
   "cell_type": "markdown",
   "metadata": {},
   "source": [
    "### do things change with time, for example, LUT gravity?"
   ]
  },
  {
   "cell_type": "code",
   "execution_count": null,
   "metadata": {},
   "outputs": [],
   "source": [
    "fig, ax = plt.subplots(figsize=(15,3))\n",
    "plt.plot(90-zA.measured)\n",
    "plt.title('elevation ')\n",
    "plt.grid() "
   ]
  },
  {
   "cell_type": "code",
   "execution_count": null,
   "metadata": {
    "scrolled": true
   },
   "outputs": [],
   "source": [
    "fig, ax = plt.subplots(figsize=(15,3))\n",
    "for i in range(72):\n",
    "    plt.plot(aF['lutGravity%d'%i])\n",
    "plt.title('gravity LUT')\n",
    "plt.grid() "
   ]
  },
  {
   "cell_type": "code",
   "execution_count": null,
   "metadata": {},
   "outputs": [],
   "source": [
    "fig, ax = plt.subplots(figsize=(15,3))\n",
    "plt.plot([temp['ring%d'%i][0] for i in range(12)], label='ring')\n",
    "plt.plot([temp.intake0[0], temp.intake1[-1]],'-o', label = 'intake')\n",
    "plt.plot([temp.exhaust0[0], temp.exhaust1[-1]],'-*', label = 'exhaust')\n",
    "plt.title('temperature')\n",
    "plt.legend()\n",
    "plt.grid() "
   ]
  },
  {
   "cell_type": "markdown",
   "metadata": {},
   "source": [
    "#### FinalHandingLUTs vs FinalOpticalLUTs \n",
    "* https://github.com/lsst-ts/ts_mtm2_cell/tree/master/configuration/lsst-m2/config/parameter_files/luts\n",
    "* There are 8 files in each subfolder: FinalHandingLUTs vs FinalOpticalLUTs. The only file that is different is F_F.csv\n",
    "* This is easily understandable, because the optical LUT cares about mirror shape at any zenith angle. While the other one is used for on-cart rotation.\n",
    "* Which one did we use for the 2020 Feb summit test? Te-Wei says we used HandlingLUTs.\n",
    "* Do we know how to switch? Yes. By the high level configuration file."
   ]
  },
  {
   "cell_type": "code",
   "execution_count": null,
   "metadata": {},
   "outputs": [],
   "source": [
    "LUTfolder = '%s/notebooks/M2_summit_2003/harrisLUT/FinalHandlingLUTs'%(os.environ[\"HOME\"])\n",
    "dfe = pd.read_csv('%s/F_E.csv'%LUTfolder)\n",
    "FE = np.float64(dfe)\n",
    "df0 = pd.read_csv('%s/F_0.csv'%LUTfolder)\n",
    "F0 = np.float64(df0)\n",
    "dff = pd.read_csv('%s/F_F.csv'%LUTfolder)\n",
    "FF = np.float64(dff)\n",
    "dfa = pd.read_csv('%s/F_A.csv'%LUTfolder)\n",
    "FA = np.float64(dfa)\n",
    "elev = np.float64(dfe.keys()) # the columns are labelled with elevation angle.\n",
    "dtr = pd.read_csv('%s/Tr.csv'%LUTfolder, header=None)\n",
    "Tr = np.float64(dtr)\n",
    "dtu = pd.read_csv('%s/Tu.csv'%LUTfolder, header=None)\n",
    "Tu = np.float64(dtu)\n",
    "dtx = pd.read_csv('%s/Tx.csv'%LUTfolder, header=None)\n",
    "Tx = np.float64(dtx)\n",
    "dty = pd.read_csv('%s/Ty.csv'%LUTfolder, header=None)\n",
    "Ty = np.float64(dty)\n",
    "\n",
    "LUTfolder = '%s/notebooks/M2_summit_2003/harrisLUT/FinalOpticalLUTs'%(os.environ[\"HOME\"])\n",
    "dff = pd.read_csv('%s/F_F.csv'%LUTfolder)\n",
    "FF1 = np.float64(dff)"
   ]
  },
  {
   "cell_type": "code",
   "execution_count": null,
   "metadata": {},
   "outputs": [],
   "source": [
    "#73 columns, each column for one angle (-270 - 90)\n",
    "print(FE.shape, F0.shape, FF.shape, FA.shape, Tr.shape, Tu.shape, Tx.shape, Ty.shape)\n",
    "#FA (actuator weight component) is the only one that includes the tangent links. Why???"
   ]
  },
  {
   "cell_type": "code",
   "execution_count": null,
   "metadata": {},
   "outputs": [],
   "source": [
    "# The below refers to the correctability document from Harris -\n",
    "# according to Harris page 26, 0-90 is telescope operating range.\n",
    "# according to Harris page 32, 0 deg is horizon, 90 deg is zenith.\n",
    "# positive z goes into M2, to the sky. The angle refers to the z axis.\n",
    "# Harris page 29 shows it cares a lot about zenith, which is z pointing up (90 deg from x axis.)\n",
    "\n",
    "fig, ax = plt.subplots(2,3, figsize=(15,8))\n",
    "s1 = ax[0][0].plot(elev, F0.transpose())\n",
    "ax[0][0].set_title('F0: 0g correction')\n",
    "ax[0][0].grid()\n",
    "s2 = ax[0][1].plot(elev, FE.transpose())\n",
    "ax[0][1].set_title('FE: elevation component')\n",
    "ax[0][1].grid()\n",
    "s3 = ax[1][0].plot(elev, FF1.transpose())\n",
    "ax[1][0].set_title('FF1: figure correction')\n",
    "ax[1][0].grid()\n",
    "s4 = ax[1][1].plot(elev, FA[:72,:].transpose())\n",
    "ax[1][1].set_title('FA: actuator weight')\n",
    "ax[1][1].grid()\n",
    "\n",
    "ax[0][2].plot(Tr, label='Tr')\n",
    "ax[0][2].plot(Tu, label='Tu')\n",
    "ax[0][2].legend()\n",
    "ax[1][2].plot(Tx, label='Tx')\n",
    "ax[1][2].plot(Ty, label='Ty')\n",
    "ax[1][2].legend();"
   ]
  },
  {
   "cell_type": "code",
   "execution_count": null,
   "metadata": {},
   "outputs": [],
   "source": [
    "sum(FA[:72,0])"
   ]
  },
  {
   "cell_type": "code",
   "execution_count": null,
   "metadata": {},
   "outputs": [],
   "source": [
    "np.std(FF1[:,0])"
   ]
  },
  {
   "cell_type": "code",
   "execution_count": null,
   "metadata": {},
   "outputs": [],
   "source": [
    "FA[72:,0]"
   ]
  },
  {
   "cell_type": "code",
   "execution_count": null,
   "metadata": {},
   "outputs": [],
   "source": [
    "M2Weight = 15578 #Newton\n",
    "def lookUpGravity(summit, lutInAngle, FE, FA,elevA):\n",
    "    '''\n",
    "    input:\n",
    "        lutInAngle is the angle used to define the LUT, which is the elevation angle.\n",
    "        elevA is the actual measured elevation angle.\n",
    "    output:\n",
    "        gravity LUT force\n",
    "    '''\n",
    "    myfe = np.zeros(78)\n",
    "    myfa = np.zeros(78)\n",
    "    myf0 = np.zeros(78)\n",
    "    myff = np.zeros(78)\n",
    "    for i in range(72):\n",
    "        myfe[i] = np.interp(elevA, lutInAngle, FE[i,:])\n",
    "        myf0[i] = np.interp(elevA, lutInAngle, F0[i,:])\n",
    "        myff[i] = np.interp(elevA, lutInAngle, FF[i,:])\n",
    "    F2 = M2Weight* np.sin(np.radians(90-elevA))/2/np.sqrt(3)\n",
    "    myfe[73] = F2\n",
    "    myfe[74] = F2\n",
    "    myfe[76] = -F2\n",
    "    myfe[77] = -F2\n",
    "    for i in range(78):\n",
    "        myfa[i] = np.interp(elevA, lutInAngle, FA[i,:])\n",
    "    myf = myfe + myfa \n",
    "    if summit: \n",
    "        #with TeWei's summit implementation, we also included f0 and ff in lutGravity\n",
    "        myf = myf + myf0 + myff\n",
    "    else:\n",
    "        #The tangent forces in the M2 simulator has a known bug (DM-28515) - all the tangent force should have reversed sign.\n",
    "        myfe[72:] = -myfe[72:]\n",
    "    return myf\n",
    "\n",
    "def lookUpTemperature(Tr, Tx, Ty, Tu, tempInv, efdT):\n",
    "    '''\n",
    "    input:\n",
    "        efdT is the list of temperature values ordered as [0-11, intake0, intake1, exhaust0, exhaust1]\n",
    "    output:\n",
    "        thermal LUT force\n",
    "    '''\n",
    "    #Order temperature data based on a12_temperature.ipynb\n",
    "    binT = efdT[[0,1,2,3, 12,15,14,13, 8,9,10,11, 4,5,6,7]]\n",
    "    lutT = binT[ [1, 2, 3, 12, 9, 8, 13, 14, 15, 11, 10, 0]]\n",
    "    tref = 21 #deg C. \n",
    "    tcoef = tempInv.dot(lutT-tref)\n",
    "    \n",
    "    for i in range(72):\n",
    "        myft = tcoef[0]*Tr + tcoef[1]*Tx + tcoef[2]*Ty + tcoef[3]*Tu\n",
    "    myf = np.squeeze(myft)\n",
    "    return myf"
   ]
  },
  {
   "cell_type": "code",
   "execution_count": null,
   "metadata": {},
   "outputs": [],
   "source": [
    "#check lutGravity against expectation\n",
    "dAngle = -5\n",
    "myFE1 = [aF['lutGravity%d'%i][0] for i in range(72)] \n",
    "myFE2 = [tF['lutGravity%d'%i][0] for i in range(6)]\n",
    "Felev = lookUpGravity(summit, elev, FE, FA, 90-zA.measured[0])\n",
    "FelevD = lookUpGravity(summit, elev, FE, FA, 90-zA.measured[0]+dAngle)\n",
    "fig, ax = plt.subplots(3,1, sharex = False, figsize=(15,6))\n",
    "ax[0].plot(myFE1 ,'-ro', label='EFD')\n",
    "ax[0].plot(Felev[:72], label='expected')\n",
    "ax[0].grid()\n",
    "ax[0].legend()\n",
    "ax[0].set_title('Axial, max diff = %.1fN'%max(abs(myFE1-Felev[:72])))\n",
    "ax[1].plot(myFE2,'-ro', label='EFD')\n",
    "ax[1].plot(Felev[72:], label='expected')\n",
    "ax[1].grid()\n",
    "#ax[1].set_ylim([-1,1])\n",
    "ax[1].legend()\n",
    "ax[1].set_title('Tangent')\n",
    "plt.suptitle('LUT Gravity');\n",
    "#on the summit: the tangent mismatch should be due to that the calculation is based on a perfect model\n",
    "\n",
    "ax[2].plot(Felev[:72] - FelevD[:72], label = 'force change (%.1f --> %.1f) deg'%(90-zA.measured[0], 90-zA.measured[0]+dAngle))\n",
    "ax[2].grid();\n",
    "ax[2].legend();"
   ]
  },
  {
   "cell_type": "code",
   "execution_count": null,
   "metadata": {},
   "outputs": [],
   "source": [
    "tempInv = np.loadtxt('%s/notebooks/M2_summit_2003/harrisLUT/temp_inv.txt'%(os.environ[\"HOME\"]))\n",
    "tempInv.shape"
   ]
  },
  {
   "cell_type": "markdown",
   "metadata": {},
   "source": [
    "### Next, the question is, how are the 16 temps ordered. Accordiing to Te-Wei\n",
    "* according to https://github.com/lsst-ts/ts_xml/blob/0708391562e358cd5a11818420f24f9f44a5d6e9/sal_interfaces/MTM2/MTM2_Telemetry.xml#L184, in the EFD, the ordering is Ring temperatures: LG2-1, LG2-2, LG2-3, LG2-4, LG3-1, LG3-2, LG3-3, LG3-4, LG4-1, LG4-2, LG4-3, and LG4-4.\n",
    "* https://github.com/lsst-ts/ts_mtm2/issues/17 To use them with tempInv matrix, we need to order them as \"LG2-2, LG2-3, LG2-4, LG3-1, LG4-2, LG4-1, LG3-2, LG3-3, LG3-4, LG4-4, LG4-3, LG2-1\".\n",
    "* https://jira.lsstcorp.org/browse/DM-23523?filter=17301 an alternative is to order them as (same ordering as in the binary outputs)\n",
    "               LG2-1\n",
    "               LG2-2\n",
    "               LG2-3\n",
    "               LG2-4\n",
    "               Intake #1\n",
    "               Exhaust #1\n",
    "               Exhaust #2\n",
    "               Intake #2\n",
    "                LG4-1\n",
    "                LG4-2\n",
    "              LG4-3\n",
    "              LG4-4\n",
    "              LG3-1\n",
    "              LG3-2\n",
    "              LG3-3\n",
    "              LG3-4\n",
    "then use the index array: [1, 2, 3, 12, 9, 8, 13, 14, 15, 11, 10, 0]. (index begins from 0). "
   ]
  },
  {
   "cell_type": "code",
   "execution_count": null,
   "metadata": {},
   "outputs": [],
   "source": [
    "#The intake and exhaust temps are not used for LUT\n",
    "tt = [temp['ring%d'%i][0] for i in range(4)] + [0,0,0,0] + \\\n",
    "    [temp['ring%d'%i][0] for i in range(8,12)] + [temp['ring%d'%i][0] for i in range(4,8)]\n",
    "idx = [1, 2, 3, 12, 9, 8, 13, 14, 15, 11, 10, 0]\n",
    "myt= np.array([tt[i] for i in idx])"
   ]
  },
  {
   "cell_type": "code",
   "execution_count": null,
   "metadata": {},
   "outputs": [],
   "source": [
    "tref = 21 #deg C. \n",
    "tcoef = tempInv.dot(myt-tref)\n",
    "FT = tcoef[0]*Tr + tcoef[1]*Tx + tcoef[2]*Ty + tcoef[3]*Tu"
   ]
  },
  {
   "cell_type": "code",
   "execution_count": null,
   "metadata": {},
   "outputs": [],
   "source": [
    "#check lutTemperature against expectation\n",
    "myFT1 = [aF['lutTemperature%d'%i][0] for i in range(72)] \n",
    "myFT2 = [tF['lutTemperature%d'%i][0] for i in range(6)]\n",
    "fig, ax = plt.subplots(2,1, sharex = False, figsize=(15,6))\n",
    "ax[0].plot(myFT1 ,'-ro', label='EFD')\n",
    "ax[0].plot(FT[:,0], label='expected')\n",
    "ax[0].grid()\n",
    "ax[0].legend()\n",
    "ax[0].set_title('Axial, max diff = %.1fN'%max(abs(FT[:,0]-myFT1)))\n",
    "ax[1].plot(myFT2,'-ro', label='EFD')\n",
    "ax[1].plot([0]*6, label='expected')\n",
    "ax[1].grid()\n",
    "#ax[1].set_ylim([-1,1])\n",
    "ax[1].legend()\n",
    "ax[1].set_title('Tangent, max diff = %.1fN'%max(abs(np.array(myFT2))))\n",
    "plt.suptitle('LUT Temperature');"
   ]
  },
  {
   "cell_type": "code",
   "execution_count": null,
   "metadata": {},
   "outputs": [],
   "source": [
    "aa = np.loadtxt('%s/notebooks/M2_FEA/data/M2_1um_72_force.txt'%os.environ['HOME'])\n",
    "# these are now in M2 CS (used to be in M2 FEA CS)\n",
    "xact = aa[:,1]\n",
    "yact = aa[:,2]"
   ]
  },
  {
   "cell_type": "code",
   "execution_count": null,
   "metadata": {},
   "outputs": [],
   "source": [
    "#plot the balance forces\n",
    "myFB1 = np.array([aF['hardpointCorrection%d'%i][0] for i in range(72)] )\n",
    "myFB2 = np.array([tF['hardpointCorrection%d'%i][0] for i in range(6)])\n",
    "fig, ax = plt.subplots(2,1, sharex = False, figsize=(15,6))\n",
    "ax[0].plot(myFB1 ,'-ro', label='EFD')\n",
    "ax[0].grid()\n",
    "ax[0].legend()\n",
    "ax[0].set_title('Axial')\n",
    "ax[1].plot(myFB2,'-ro', label='EFD')\n",
    "ax[1].grid()\n",
    "#ax[1].set_ylim([-1,1])\n",
    "ax[1].legend()\n",
    "ax[1].set_title('Tangent')\n",
    "plt.suptitle('FB forces');"
   ]
  },
  {
   "cell_type": "code",
   "execution_count": null,
   "metadata": {},
   "outputs": [],
   "source": [
    "#plot the applied forces\n",
    "myFA1 = [aF['applied%d'%i][0] for i in range(72)] \n",
    "myFA2 = [tF['applied%d'%i][0] for i in range(6)]\n",
    "fig, ax = plt.subplots(2,1, sharex = False, figsize=(15,6))\n",
    "ax[0].plot(myFA1 ,'-ro', label='EFD')\n",
    "ax[0].grid()\n",
    "ax[0].legend()\n",
    "ax[0].set_title('Axial')\n",
    "ax[1].plot(myFA2,'-ro', label='EFD')\n",
    "ax[1].grid()\n",
    "#ax[1].set_ylim([-1,1])\n",
    "ax[1].legend()\n",
    "ax[1].set_title('Tangent')\n",
    "plt.suptitle('Applied forces');"
   ]
  },
  {
   "cell_type": "code",
   "execution_count": null,
   "metadata": {},
   "outputs": [],
   "source": [
    "#check the sum of the different categories of forces against the measured forces\n",
    "myFM1 = [aF['measured%d'%i][0] for i in range(72)] \n",
    "myFM2 = [tF['measured%d'%i][0] for i in range(6)]\n",
    "fig, ax = plt.subplots(2,1, sharex = False, figsize=(15,6))\n",
    "\n",
    "sumF1 = np.array(myFE1)+myFT1+myFB1+myFA1 \n",
    "ax[0].plot(myFM1 ,'-ro', label='measured')\n",
    "ax[0].plot(sumF1, label='sum')\n",
    "ax[0].grid()\n",
    "ax[0].legend()\n",
    "ax[0].set_title('Axial, max diff = %.1fN'%max(abs(sumF1-myFM1)))\n",
    "\n",
    "sumF2 = np.array(myFE2)+myFT2+myFB2+myFA2\n",
    "ax[1].plot(myFM2,'-ro', label='measured')\n",
    "ax[1].plot(sumF2, label='sum')\n",
    "ax[1].grid()\n",
    "#ax[1].set_ylim([-1,1])\n",
    "ax[1].legend()\n",
    "ax[1].set_title('Tangent, max diff = %.1fN'%max(abs(sumF2-myFM2)))\n",
    "plt.suptitle('Total forces');"
   ]
  },
  {
   "cell_type": "code",
   "execution_count": null,
   "metadata": {},
   "outputs": [],
   "source": [
    "#with the simulator, this is expected to be a normal distribution with rms = 0.5N\n",
    "#for real M2, axial force accuracy = 1N, tangent force accuracy = 10N\n",
    "plt.hist(np.hstack((sumF1-myFM1, sumF2-myFM2)),10);"
   ]
  },
  {
   "cell_type": "code",
   "execution_count": null,
   "metadata": {},
   "outputs": [],
   "source": []
  }
 ],
 "metadata": {
  "kernelspec": {
   "display_name": "LSST",
   "language": "python",
   "name": "lsst"
  },
  "language_info": {
   "codemirror_mode": {
    "name": "ipython",
    "version": 3
   },
   "file_extension": ".py",
   "mimetype": "text/x-python",
   "name": "python",
   "nbconvert_exporter": "python",
   "pygments_lexer": "ipython3",
   "version": "3.8.8"
  }
 },
 "nbformat": 4,
 "nbformat_minor": 4
}
