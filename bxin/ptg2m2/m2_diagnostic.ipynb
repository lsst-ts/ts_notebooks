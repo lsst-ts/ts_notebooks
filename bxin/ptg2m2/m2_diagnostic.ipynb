{
 "cells": [
  {
   "cell_type": "markdown",
   "metadata": {},
   "source": [
    "## This notebook check the M2 state transitions and force commands"
   ]
  },
  {
   "cell_type": "code",
   "execution_count": null,
   "metadata": {},
   "outputs": [],
   "source": [
    "from lsst.ts import salobj\n",
    "import asyncio\n",
    "import os\n",
    "\n",
    "import numpy as np\n",
    "from matplotlib import pyplot as plt\n",
    "from astropy.time import Time\n",
    "from datetime import datetime, timedelta\n",
    "import pandas as pd\n",
    "\n",
    "from lsst.ts.idl.enums import MTM2"
   ]
  },
  {
   "cell_type": "code",
   "execution_count": null,
   "metadata": {},
   "outputs": [],
   "source": [
    "summit = 1 #use this for summit testing\n",
    "#summit = 0 #use this for NCSA"
   ]
  },
  {
   "cell_type": "code",
   "execution_count": null,
   "metadata": {},
   "outputs": [],
   "source": [
    "if summit:\n",
    "    os.environ[\"OSPL_URI\"]=\"file:///home/bxin/WORK/ts_ddsconfig/config/ospl-sp.xml\"\n",
    "    os.environ[\"LSST_DDS_DOMAIN_ID\"] = \"11\"\n",
    "    print(os.environ[\"OSPL_URI\"])\n",
    "    print(os.environ[\"LSST_DDS_PARTITION_PREFIX\"])\n",
    "    print(os.environ[\"LSST_DDS_DOMAIN_ID\"])\n",
    "else:\n",
    "    import os\n",
    "    print(os.environ[\"OSPL_URI\"])\n",
    "    if os.environ.get(\"LSST_DDS_ALIGNER\", \"false\") != \"false\":\n",
    "        print(\"LSST_DDS_ALIGNER is mis-configured\")"
   ]
  },
  {
   "cell_type": "code",
   "execution_count": null,
   "metadata": {},
   "outputs": [],
   "source": [
    "start_time = datetime.now()\n",
    "script = salobj.Controller(\"Script\", index=1)\n",
    "if not summit:\n",
    "    await asyncio.sleep(10) #no need to wait on summit since we use the daemon\n",
    "    ptg = salobj.Remote(script.domain, \"MTPtg\")\n",
    "    rot = salobj.Remote(script.domain, \"MTRotator\")\n",
    "mount = salobj.Remote(script.domain, \"MTMount\") #we still need it on the summit, to check (not generate) fake mount telemetry!\n",
    "m2 = salobj.Remote(script.domain, \"MTM2\", exclude=['logMessage'])\n",
    "print(f'time to start is {datetime.now() - start_time} [s]')"
   ]
  },
  {
   "cell_type": "code",
   "execution_count": null,
   "metadata": {},
   "outputs": [],
   "source": [
    "if summit:\n",
    "    await asyncio.gather(m2.start_task,\n",
    "                         mount.start_task)\n",
    "else:\n",
    "    await asyncio.gather(ptg.start_task,\n",
    "                         mount.start_task,\n",
    "                         script.start_task, #                     \n",
    "                         rot.start_task,\n",
    "                         m2.start_task)"
   ]
  },
  {
   "cell_type": "code",
   "execution_count": null,
   "metadata": {},
   "outputs": [],
   "source": [
    "await m2.evt_heartbeat.next(flush=True, timeout=5)"
   ]
  },
  {
   "cell_type": "markdown",
   "metadata": {},
   "source": [
    "### test state transition. If m2 is already enabled, disable then enable it."
   ]
  },
  {
   "cell_type": "code",
   "execution_count": null,
   "metadata": {},
   "outputs": [],
   "source": [
    "if summit:\n",
    "    await m2.cmd_enterControl.set_start() "
   ]
  },
  {
   "cell_type": "code",
   "execution_count": null,
   "metadata": {},
   "outputs": [],
   "source": [
    "sstate = await m2.evt_summaryState.aget(timeout=5)\n",
    "print('staring with: m2 state',salobj.State(sstate.summaryState), pd.to_datetime(sstate.private_sndStamp, unit='s'))\n",
    "if summit and sstate.summaryState == salobj.State.OFFLINE:\n",
    "    #only available in offline on the summit\n",
    "    dstate = await m2.evt_detailedState.aget(timeout=5)\n",
    "    print('m2 detailed state', dstate.detailedState, pd.to_datetime(dstate.private_sndStamp, unit='s'))\n",
    "    #print('m2 state', MTM2.DetailedState(dstate.detailedState), pd.to_datetime(dstate.private_sndStamp, unit='s'))"
   ]
  },
  {
   "cell_type": "code",
   "execution_count": null,
   "metadata": {},
   "outputs": [],
   "source": [
    "sstate = await m2.evt_summaryState.aget(timeout=5)\n",
    "print('staring with: m2 state',salobj.State(sstate.summaryState), pd.to_datetime(sstate.private_sndStamp, unit='s'))"
   ]
  },
  {
   "cell_type": "code",
   "execution_count": null,
   "metadata": {},
   "outputs": [],
   "source": [
    "#enums is not yet implemented.\n",
    "\n",
    "#Te-Wei:\n",
    "#publishOnly = 1\n",
    "#Available = 2\n",
    "#When you see 2, this means the M2 is DDS contrallable.\n",
    "\n",
    "#for i in range(1,3):\n",
    "#    print(i, MTM2.DetailedState(i))"
   ]
  },
  {
   "cell_type": "markdown",
   "metadata": {},
   "source": [
    "Depending on what state M2 is in, we need to use the TWO cells below repeatedly to get to the state we want"
   ]
  },
  {
   "cell_type": "code",
   "execution_count": null,
   "metadata": {},
   "outputs": [],
   "source": [
    "#execute once to get the state OUT one level\n",
    "if sstate.summaryState == salobj.State.ENABLED:\n",
    "    await m2.cmd_disable.set_start()\n",
    "if sstate.summaryState == salobj.State.DISABLED:\n",
    "    await m2.cmd_standby.set_start()\n",
    "#the below would shut down the CSC; be ready to restart it if you want to try.\n",
    "if sstate.summaryState == salobj.State.STANDBY:\n",
    "    await m2.cmd_exitControl.set_start()\n",
    "sstate = await m2.evt_summaryState.next(flush=True, timeout=5)\n",
    "print('starting with: m2 state',salobj.State(sstate.summaryState), pd.to_datetime(sstate.private_sndStamp, unit='s'))"
   ]
  },
  {
   "cell_type": "code",
   "execution_count": null,
   "metadata": {},
   "outputs": [],
   "source": [
    "#execute once to get the state UP one level\n",
    "if sstate.summaryState == salobj.State.FAULT:\n",
    "    await m2.cmd_clearErrors.set_start()\n",
    "if sstate.summaryState == salobj.State.OFFLINE:\n",
    "    await m2.cmd_enterControl.set_start()    \n",
    "if sstate.summaryState == salobj.State.STANDBY:\n",
    "    await m2.cmd_start.set_start() #go to DISABLE\n",
    "if sstate.summaryState == salobj.State.DISABLED:\n",
    "    await m2.cmd_enable.set_start() #go to ENABLE = closed loop\n",
    "sstate = await m2.evt_summaryState.next(flush=True, timeout=5) \n",
    "print('starting with: m2 state',salobj.State(sstate.summaryState), pd.to_datetime(sstate.private_sndStamp, unit='s'))"
   ]
  },
  {
   "cell_type": "markdown",
   "metadata": {},
   "source": [
    "Check that EFD has the state transition events"
   ]
  },
  {
   "cell_type": "code",
   "execution_count": null,
   "metadata": {},
   "outputs": [],
   "source": [
    "from lsst_efd_client import EfdClient\n",
    "\n",
    "if summit:\n",
    "    client = EfdClient('summit_efd')\n",
    "else:\n",
    "    client = EfdClient('ncsa_teststand_efd')\n",
    "csc_index = 1\n",
    "while True:\n",
    "    end = Time(datetime.now(), scale='tai')\n",
    "    start = end - timedelta(hours=1)\n",
    "    dfe = await client.select_time_series('lsst.sal.MTM2.logevent_summaryState', '*', start, end, csc_index)\n",
    "    #print(start, end, len(dfe))\n",
    "    if len(dfe)>0:\n",
    "        break\n",
    "#to check messages in Kafka, go to https://lsst-kafka-0-nts-efd.ncsa.illinois.edu/\n",
    "##we cannot get time series data from DDS. We have to query the EFD"
   ]
  },
  {
   "cell_type": "code",
   "execution_count": null,
   "metadata": {},
   "outputs": [],
   "source": [
    "dfe"
   ]
  },
  {
   "cell_type": "markdown",
   "metadata": {},
   "source": [
    "### check the forces"
   ]
  },
  {
   "cell_type": "code",
   "execution_count": null,
   "metadata": {},
   "outputs": [],
   "source": [
    "m2ForceBalance = await m2.evt_forceBalanceSystemStatus.aget(timeout=10.)\n",
    "print(\"starting with Status of the M2 force balance system ---\", m2ForceBalance.status, \"----\",\n",
    "      pd.to_datetime(m2ForceBalance.private_sndStamp, unit='s'))\n",
    "if not m2ForceBalance.status:\n",
    "    await m2.cmd_switchForceBalanceSystem.set_start(status=True, timeout=10)\n",
    "    m2ForceBalance = await m2.evt_forceBalanceSystemStatus.aget(timeout=10.)\n",
    "    print(\"Status of the M2 force balance system\", m2ForceBalance.status)"
   ]
  },
  {
   "cell_type": "code",
   "execution_count": null,
   "metadata": {},
   "outputs": [],
   "source": [
    "fa = [0]*72\n",
    "ft = [0]*6\n",
    "await m2.cmd_applyForces.set_start(axial=fa, tangent=ft)"
   ]
  },
  {
   "cell_type": "code",
   "execution_count": null,
   "metadata": {},
   "outputs": [],
   "source": [
    "await m2.cmd_resetForceOffsets.set_start()"
   ]
  },
  {
   "cell_type": "code",
   "execution_count": null,
   "metadata": {},
   "outputs": [],
   "source": [
    "axialForces = await m2.tel_axialForce.aget(timeout=2)\n",
    "tangentForces = await m2.tel_tangentForce.aget(timeout=2)"
   ]
  },
  {
   "cell_type": "code",
   "execution_count": null,
   "metadata": {},
   "outputs": [],
   "source": [
    "def plotForces(axialForces, tangentForces):\n",
    "    fig, ax = plt.subplots(2,1, figsize=(15,8))\n",
    "    ax[0].plot(axialForces.measured, label='measured');\n",
    "    ax[0].plot(axialForces.applied, label='applied');\n",
    "    ax[0].plot(axialForces.hardpointCorrection,'.', label='FB');\n",
    "    ax[0].plot(axialForces.lutGravity, label='LUT G');\n",
    "    ax[0].legend()\n",
    "    ax[1].plot(tangentForces.measured, label='measured');\n",
    "    ax[1].plot(tangentForces.applied, label='applied');\n",
    "    ax[1].plot(tangentForces.hardpointCorrection, 'o', label='FB');\n",
    "    ax[1].plot(tangentForces.lutGravity, label='LUT G');\n",
    "    ax[1].legend()\n",
    "\n",
    "    aa = np.loadtxt('%s/notebooks/M2_FEA/data/M2_1um_72_force.txt'%(os.environ[\"HOME\"]))\n",
    "    # to have +x going to right, and +y going up, we need to transpose and reverse x and y\n",
    "    xact = -aa[:,2]\n",
    "    yact = -aa[:,1]\n",
    "\n",
    "    fig2, ax=plt.subplots( 1,2, figsize = [10,4])\n",
    "    aa = np.array(axialForces.measured)\n",
    "    img = ax[0].scatter(xact, yact, c=aa, s=abs(aa)*2)\n",
    "    #plt.jet()\n",
    "    ax[0].axis('equal')\n",
    "    ax[0].set_title('measured forces')\n",
    "    fig.colorbar(img, ax=ax[0])\n",
    "\n",
    "    aa = np.array(axialForces.applied)\n",
    "    img = ax[1].scatter(xact, yact, c=aa, s=abs(aa)*2)\n",
    "    #plt.jet()\n",
    "    ax[1].axis('equal')\n",
    "    ax[1].set_title('applied forces')\n",
    "    fig.colorbar(img, ax=ax[1])"
   ]
  },
  {
   "cell_type": "code",
   "execution_count": null,
   "metadata": {},
   "outputs": [],
   "source": [
    "plotForces(axialForces, tangentForces)"
   ]
  },
  {
   "cell_type": "code",
   "execution_count": null,
   "metadata": {},
   "outputs": [],
   "source": [
    "fa = [2]*72\n",
    "ft = [-2]*6\n",
    "await m2.cmd_applyForces.set_start(axial=fa, tangent=ft)"
   ]
  },
  {
   "cell_type": "code",
   "execution_count": null,
   "metadata": {},
   "outputs": [],
   "source": [
    "axialForces = await m2.tel_axialForce.aget(timeout=2)\n",
    "tangentForces = await m2.tel_tangentForce.aget(timeout=2)\n",
    "plotForces(axialForces, tangentForces)"
   ]
  },
  {
   "cell_type": "code",
   "execution_count": null,
   "metadata": {},
   "outputs": [],
   "source": [
    "zAngle = await m2.tel_zenithAngle.aget(timeout=5)\n",
    "print('zenith angle = ', zAngle.measured)"
   ]
  },
  {
   "cell_type": "markdown",
   "metadata": {},
   "source": [
    "### Close up"
   ]
  },
  {
   "cell_type": "code",
   "execution_count": null,
   "metadata": {},
   "outputs": [],
   "source": [
    "#if we started with enabled state, we need to put it back\n",
    "await salobj.set_summary_state(m2, salobj.State.ENABLED) #enable m2"
   ]
  },
  {
   "cell_type": "code",
   "execution_count": null,
   "metadata": {},
   "outputs": [],
   "source": []
  }
 ],
 "metadata": {
  "kernelspec": {
   "display_name": "LSST",
   "language": "python",
   "name": "lsst"
  },
  "language_info": {
   "codemirror_mode": {
    "name": "ipython",
    "version": 3
   },
   "file_extension": ".py",
   "mimetype": "text/x-python",
   "name": "python",
   "nbconvert_exporter": "python",
   "pygments_lexer": "ipython3",
   "version": "3.8.8"
  }
 },
 "nbformat": 4,
 "nbformat_minor": 4
}
