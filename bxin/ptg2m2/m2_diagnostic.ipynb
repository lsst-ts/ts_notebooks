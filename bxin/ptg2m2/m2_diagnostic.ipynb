{
 "cells": [
  {
   "cell_type": "markdown",
   "metadata": {},
   "source": [
    "## This notebook check the M2 state transitions and force commands"
   ]
  },
  {
   "cell_type": "code",
   "execution_count": null,
   "metadata": {},
   "outputs": [],
   "source": [
    "from lsst.ts import salobj\n",
    "import asyncio\n",
    "import os\n",
    "\n",
    "import numpy as np\n",
    "from matplotlib import pyplot as plt\n",
    "from astropy.time import Time\n",
    "from datetime import datetime, timedelta\n",
    "import pandas as pd\n",
    "\n",
    "#import os\n",
    "#print(os.environ[\"OSPL_URI\"])\n",
    "#print(os.environ[\"LSST_DDS_ALIGNER\"]) #this should give an keyError. If not, something wrong with the DDS"
   ]
  },
  {
   "cell_type": "code",
   "execution_count": null,
   "metadata": {},
   "outputs": [],
   "source": [
    "start_time = datetime.now()\n",
    "script = salobj.Controller(\"Script\", index=1)\n",
    "#await asyncio.sleep(10) #wait 10 second may help with DDS problems; closing all other kernels may help too\n",
    "m2 = salobj.Remote(script.domain, \"MTM2\")\n",
    "print(f'time to start is {datetime.now() - start_time} [s]')"
   ]
  },
  {
   "cell_type": "code",
   "execution_count": null,
   "metadata": {},
   "outputs": [],
   "source": [
    "await m2.start_task"
   ]
  },
  {
   "cell_type": "code",
   "execution_count": null,
   "metadata": {},
   "outputs": [],
   "source": [
    "#As long as you get something for the payload its OK. we dont' care about h.heartbeat\n",
    "await m2.evt_heartbeat.next(flush=True, timeout=5)"
   ]
  },
  {
   "cell_type": "markdown",
   "metadata": {},
   "source": [
    "### test state transition. If m2 is already enabled, disable then enable it."
   ]
  },
  {
   "cell_type": "code",
   "execution_count": null,
   "metadata": {},
   "outputs": [],
   "source": [
    "state = await m2.evt_summaryState.aget(timeout=5)\n",
    "print('staring with: m2 state', salobj.State(state.summaryState), pd.to_datetime(state.private_sndStamp, unit='s'))\n",
    "if state.summaryState == 2:\n",
    "    await salobj.set_summary_state(m2, salobj.State.DISABLED) #disable m2\n",
    "    await asyncio.sleep(3)\n",
    "    state = await m2.evt_summaryState.aget(timeout=5)\n",
    "    print('m2 state', salobj.State(state.summaryState), pd.to_datetime(state.private_sndStamp, unit='s'))\n",
    "\n",
    "await salobj.set_summary_state(m2, salobj.State.ENABLED) #enable m2\n",
    "state = await m2.evt_summaryState.aget(timeout=5)\n",
    "print('m2 state', salobj.State(state.summaryState), pd.to_datetime(state.private_sndStamp, unit='s'))"
   ]
  },
  {
   "cell_type": "code",
   "execution_count": null,
   "metadata": {},
   "outputs": [],
   "source": [
    "#may need to wait a few seconds before event shows up in EFD\n",
    "await asyncio.sleep(5.)\n",
    "from lsst_efd_client import EfdClient\n",
    "\n",
    "client = EfdClient('ncsa_teststand_efd')\n",
    "csc_index = 1\n",
    "end = Time(datetime.now())\n",
    "start = end - timedelta(hours=1)\n",
    "dfe = await client.select_time_series('lsst.sal.MTM2.logevent_summaryState', '*', \n",
    "                                     (start-timedelta(seconds=37)).tai, (end-timedelta(seconds=37)).tai, csc_index)\n",
    "#to check messages in Kafka, go to https://lsst-kafka-0-nts-efd.ncsa.illinois.edu/\n",
    "#we cannot get time series data from DDS. We have to query the EFD"
   ]
  },
  {
   "cell_type": "code",
   "execution_count": null,
   "metadata": {},
   "outputs": [],
   "source": [
    "dfe"
   ]
  },
  {
   "cell_type": "markdown",
   "metadata": {},
   "source": [
    "### check the forces"
   ]
  },
  {
   "cell_type": "code",
   "execution_count": null,
   "metadata": {},
   "outputs": [],
   "source": [
    "m2ForceBalance = await m2.evt_forceBalanceSystemStatus.aget(timeout=10.)\n",
    "print(\"starting with Status of the M2 force balance system ---\", m2ForceBalance.status, \"----\",\n",
    "      pd.to_datetime(m2ForceBalance.private_sndStamp, unit='s'))\n",
    "if not m2ForceBalance.status:\n",
    "    await m2.cmd_switchForceBalanceSystem.set_start(status=True, timeout=10)\n",
    "    m2ForceBalance = await m2.evt_forceBalanceSystemStatus.aget(timeout=10.)\n",
    "    print(\"Status of the M2 force balance system\", m2ForceBalance.status)"
   ]
  },
  {
   "cell_type": "code",
   "execution_count": null,
   "metadata": {},
   "outputs": [],
   "source": [
    "fa = [0]*72\n",
    "ft = [0]*6\n",
    "await m2.cmd_applyForces.set_start(axial=fa, tangent=ft)"
   ]
  },
  {
   "cell_type": "code",
   "execution_count": null,
   "metadata": {},
   "outputs": [],
   "source": [
    "axialForces = await m2.tel_axialForce.next(flush=True, timeout=2)\n",
    "tangentForces = await m2.tel_tangentForce.next(flush=True, timeout=2)"
   ]
  },
  {
   "cell_type": "code",
   "execution_count": null,
   "metadata": {},
   "outputs": [],
   "source": [
    "def plotForces(axialForces, tangentForces):\n",
    "    fig, ax = plt.subplots(2,1, figsize=(15,8))\n",
    "    ax[0].plot(axialForces.measured, label='measured');\n",
    "    ax[0].plot(axialForces.applied, label='applied');\n",
    "    ax[0].plot(axialForces.hardpointCorrection,'.', label='FB');\n",
    "    ax[0].plot(axialForces.lutGravity, label='LUT G');\n",
    "    ax[0].legend()\n",
    "    ax[1].plot(tangentForces.measured, label='measured');\n",
    "    ax[1].plot(tangentForces.applied, label='applied');\n",
    "    ax[1].plot(tangentForces.hardpointCorrection, 'o', label='FB');\n",
    "    ax[1].plot(tangentForces.lutGravity, label='LUT G');\n",
    "    ax[1].legend()\n",
    "\n",
    "    aa = np.loadtxt('%s/notebooks/M2_FEA/data/M2_1um_72_force.txt'%(os.environ[\"HOME\"]))\n",
    "    # to have +x going to right, and +y going up, we need to transpose and reverse x and y\n",
    "    xact = -aa[:,2]\n",
    "    yact = -aa[:,1]\n",
    "\n",
    "    fig2, ax=plt.subplots( 1,2, figsize = [10,4])\n",
    "    aa = np.array(axialForces.measured)\n",
    "    img = ax[0].scatter(xact, yact, c=aa, s=abs(aa)*2)\n",
    "    #plt.jet()\n",
    "    ax[0].axis('equal')\n",
    "    ax[0].set_title('measured forces')\n",
    "    fig.colorbar(img, ax=ax[0])\n",
    "\n",
    "    aa = np.array(axialForces.applied)\n",
    "    img = ax[1].scatter(xact, yact, c=aa, s=abs(aa)*2)\n",
    "    #plt.jet()\n",
    "    ax[1].axis('equal')\n",
    "    ax[1].set_title('applied forces')\n",
    "    fig.colorbar(img, ax=ax[1])\n",
    "    \n",
    "plotForces(axialForces, tangentForces)"
   ]
  },
  {
   "cell_type": "code",
   "execution_count": null,
   "metadata": {},
   "outputs": [],
   "source": [
    "fa = [2]*72\n",
    "ft = [-2]*6\n",
    "await m2.cmd_applyForces.set_start(axial=fa, tangent=ft)"
   ]
  },
  {
   "cell_type": "code",
   "execution_count": null,
   "metadata": {},
   "outputs": [],
   "source": [
    "axialForces = await m2.tel_axialForce.next(flush=True, timeout=2)\n",
    "tangentForces = await m2.tel_tangentForce.next(flush=True, timeout=2)\n",
    "plotForces(axialForces, tangentForces)"
   ]
  },
  {
   "cell_type": "code",
   "execution_count": null,
   "metadata": {},
   "outputs": [],
   "source": [
    "zAngle = await m2.tel_zenithAngle.aget(timeout=5)\n",
    "print('zenith angle = ', zAngle.measured)"
   ]
  },
  {
   "cell_type": "code",
   "execution_count": null,
   "metadata": {},
   "outputs": [],
   "source": [
    "#if we started with enabled state, we need to put it back\n",
    "await salobj.set_summary_state(m2, salobj.State.ENABLED) #enable m2"
   ]
  },
  {
   "cell_type": "code",
   "execution_count": null,
   "metadata": {},
   "outputs": [],
   "source": []
  }
 ],
 "metadata": {
  "kernelspec": {
   "display_name": "LSST",
   "language": "python",
   "name": "lsst"
  },
  "language_info": {
   "codemirror_mode": {
    "name": "ipython",
    "version": 3
   },
   "file_extension": ".py",
   "mimetype": "text/x-python",
   "name": "python",
   "nbconvert_exporter": "python",
   "pygments_lexer": "ipython3",
   "version": "3.7.8"
  }
 },
 "nbformat": 4,
 "nbformat_minor": 4
}
