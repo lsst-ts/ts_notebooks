{
 "cells": [
  {
   "cell_type": "code",
   "execution_count": null,
   "id": "aa2b32a6",
   "metadata": {},
   "outputs": [],
   "source": [
    "import numpy as np\n",
    "from matplotlib import pyplot as plt\n",
    "from astropy.time import Time\n",
    "from datetime import datetime, timedelta\n",
    "import pandas as pd"
   ]
  },
  {
   "cell_type": "code",
   "execution_count": null,
   "id": "346f59cd",
   "metadata": {},
   "outputs": [],
   "source": [
    "summit = 1 #use this for summit testing\n",
    "#summit = 0 #use this for NCSA\n",
    "\n",
    "usePtg = 1 #if using ptg+mount for telemetry change\n",
    "#usePtg = 0"
   ]
  },
  {
   "cell_type": "code",
   "execution_count": null,
   "id": "ffae2504",
   "metadata": {},
   "outputs": [],
   "source": [
    "from lsst_efd_client import EfdClient\n",
    "\n",
    "if summit:\n",
    "    client = EfdClient('summit_efd')\n",
    "else:\n",
    "    client = EfdClient('ncsa_teststand_efd')\n",
    "csc_index = 1"
   ]
  },
  {
   "cell_type": "code",
   "execution_count": null,
   "id": "534585c6",
   "metadata": {},
   "outputs": [],
   "source": [
    "start = Time('2021-04-27T17:07:00', scale='tai')\n",
    "end = start + timedelta(minutes=5)\n",
    "dfm = await client.select_time_series('lsst.sal.MTMount.elevation', '*', start, end, csc_index)\n",
    "dfh = await client.select_time_series('lsst.sal.MTHexapod.application', '*', start, end, csc_index)\n",
    "\n",
    "\n",
    "idx=dfh.MTHexapodID==1\n",
    "dfh = dfh[idx]\n",
    "\n",
    "fig, ax = plt.subplots(1,1, figsize=(15,4))\n",
    "plt.plot(dfm.actualPosition, '--', label='mount elevation')\n",
    "plt.plot(dfh.position1, label='hexapod y')\n",
    "plt.plot(dfh.position2, label='hexapod z')\n",
    "plt.grid()\n",
    "plt.legend()"
   ]
  },
  {
   "cell_type": "code",
   "execution_count": null,
   "id": "1c136a20",
   "metadata": {},
   "outputs": [],
   "source": [
    "len(dfm.actualPosition)"
   ]
  },
  {
   "cell_type": "code",
   "execution_count": null,
   "id": "bcc710e6",
   "metadata": {},
   "outputs": [],
   "source": [
    "start = Time('2021-04-27T17:23:00', scale='tai')\n",
    "end = start + timedelta(minutes=5)\n",
    "dfm = await client.select_time_series('lsst.sal.MTMount.elevation', '*', start, end, csc_index)\n",
    "dfh = await client.select_time_series('lsst.sal.MTHexapod.application', '*', start, end, csc_index)\n",
    "\n",
    "\n",
    "idx=dfh.MTHexapodID==1\n",
    "dfh = dfh[idx]\n",
    "\n",
    "fig, ax = plt.subplots(1,1, figsize=(15,4))\n",
    "plt.plot(dfm.actualPosition*10, '--', label='mount elevation (x 10 deg)')\n",
    "plt.plot(dfh.position1, label='hexapod y')\n",
    "plt.plot(dfh.position2, label='hexapod z')\n",
    "plt.grid()\n",
    "plt.legend()"
   ]
  },
  {
   "cell_type": "code",
   "execution_count": null,
   "id": "dec870ed",
   "metadata": {},
   "outputs": [],
   "source": []
  }
 ],
 "metadata": {
  "kernelspec": {
   "display_name": "LSST",
   "language": "python",
   "name": "lsst"
  },
  "language_info": {
   "codemirror_mode": {
    "name": "ipython",
    "version": 3
   },
   "file_extension": ".py",
   "mimetype": "text/x-python",
   "name": "python",
   "nbconvert_exporter": "python",
   "pygments_lexer": "ipython3",
   "version": "3.8.8"
  }
 },
 "nbformat": 4,
 "nbformat_minor": 5
}
