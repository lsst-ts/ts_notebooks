{
 "cells": [
  {
   "cell_type": "markdown",
   "metadata": {},
   "source": [
    "## This notebook check the hexapod state transitions and move/offset commands\n",
    "## It also checks the LUT against the input polynomials, before and after a slew\n",
    "\n",
    "This notebook works with both hexapods.\n",
    "\n",
    "To switch between the hexapods, change the cell below."
   ]
  },
  {
   "cell_type": "code",
   "execution_count": null,
   "metadata": {},
   "outputs": [],
   "source": [
    "hexIdx = 1 #camera hexapod\n",
    "#hexIdx = 2 #M2 hexapod"
   ]
  },
  {
   "cell_type": "code",
   "execution_count": null,
   "metadata": {},
   "outputs": [],
   "source": [
    "summit = 1 #use this for summit testing\n",
    "#summit = 0 #use this for NCSA\n",
    "\n",
    "usePtg = 1 #if using ptg+mount for telemetry change\n",
    "#usePtg = 0"
   ]
  },
  {
   "cell_type": "code",
   "execution_count": null,
   "metadata": {},
   "outputs": [],
   "source": [
    "from lsst.ts import salobj\n",
    "import asyncio\n",
    "import os\n",
    "import yaml\n",
    "\n",
    "import numpy as np\n",
    "from matplotlib import pyplot as plt\n",
    "from astropy.time import Time\n",
    "from datetime import datetime, timedelta\n",
    "import pandas as pd\n",
    "\n",
    "from lsst.ts.idl.enums import MTHexapod\n",
    "\n",
    "from lsst.ts.observatory.control.maintel.mtcs import MTCS, MTCSUsages\n",
    "from lsst.ts.observatory.control import RotType\n",
    "from astropy.coordinates import AltAz, ICRS, EarthLocation, Angle, FK5\n",
    "import astropy.units as u"
   ]
  },
  {
   "cell_type": "code",
   "execution_count": null,
   "metadata": {},
   "outputs": [],
   "source": [
    "if summit:\n",
    "    print(os.environ[\"OSPL_URI\"])\n",
    "    print(os.environ[\"LSST_DDS_PARTITION_PREFIX\"])\n",
    "    print(os.environ[\"LSST_DDS_DOMAIN_ID\"])\n",
    "else:\n",
    "    print(os.environ[\"OSPL_URI\"])\n",
    "    if os.environ.get(\"LSST_DDS_ALIGNER\", \"false\") != \"false\":\n",
    "        print(\"LSST_DDS_ALIGNER is mis-configured\")"
   ]
  },
  {
   "cell_type": "code",
   "execution_count": null,
   "metadata": {},
   "outputs": [],
   "source": [
    "from lsst_efd_client import EfdClient\n",
    "\n",
    "if summit:\n",
    "    client = EfdClient('summit_efd')\n",
    "else:\n",
    "    client = EfdClient('ncsa_teststand_efd')\n",
    "csc_index = 1"
   ]
  },
  {
   "cell_type": "code",
   "execution_count": null,
   "metadata": {},
   "outputs": [],
   "source": [
    "#index is an integter which helps avoid multple users starting same controller\n",
    "script = salobj.Controller(\"Script\", index=7)"
   ]
  },
  {
   "cell_type": "code",
   "execution_count": null,
   "metadata": {},
   "outputs": [],
   "source": [
    "mtcs = MTCS(script.domain)\n",
    "mtcs.set_rem_loglevel(40)"
   ]
  },
  {
   "cell_type": "code",
   "execution_count": null,
   "metadata": {},
   "outputs": [],
   "source": [
    "await mtcs.start_task"
   ]
  },
  {
   "cell_type": "code",
   "execution_count": null,
   "metadata": {},
   "outputs": [],
   "source": [
    "mtcs.components_attr"
   ]
  },
  {
   "cell_type": "code",
   "execution_count": null,
   "metadata": {},
   "outputs": [],
   "source": [
    "hex = mtcs.rem.mthexapod_1\n",
    "ptg = mtcs.rem.mtptg\n",
    "mount = mtcs.rem.mtmount\n",
    "rot = mtcs.rem.mtrotator"
   ]
  },
  {
   "cell_type": "code",
   "execution_count": null,
   "metadata": {},
   "outputs": [],
   "source": [
    "#As long as you get something its OK. we dont' care about h.heartbeat\n",
    "await hex.evt_heartbeat.next(flush=True, timeout=5)"
   ]
  },
  {
   "cell_type": "code",
   "execution_count": null,
   "metadata": {},
   "outputs": [],
   "source": [
    "#Check some configurations\n",
    "hexConfig = await hex.evt_configuration.aget(timeout=10.)\n",
    "print(\"pivot at (%.0f, %.0f, %.0f) microns \"%(hexConfig.pivotX, hexConfig.pivotY, hexConfig.pivotZ))\n",
    "print(\"maxXY = \", hexConfig.maxXY, \"microns, maxZ= \", hexConfig.maxZ, \" microns\")\n",
    "print(\"maxUV = \", hexConfig.maxUV, \"deg, maxW= \", hexConfig.maxW, \" deg\")"
   ]
  },
  {
   "cell_type": "code",
   "execution_count": null,
   "metadata": {},
   "outputs": [],
   "source": [
    "settings = hex.evt_settingsApplied.get()\n",
    "hasSettings = 0\n",
    "if hasattr(settings, 'settingsVersion'):\n",
    "    print(settings.settingsVersion)\n",
    "    hasSettings = 1\n",
    "if (not hasSettings) or (not settings.settingsVersion[:12] == 'default.yaml'):\n",
    "    print('YOU NEED TO SEND THIS HEXAPOD TO STANDBY, THEN LOAD THE PROPER CONFIG')"
   ]
  },
  {
   "cell_type": "code",
   "execution_count": null,
   "metadata": {},
   "outputs": [],
   "source": [
    "#only print the first 10 messages; if more than 10, ignore the rest\n",
    "class MyLogHandler:\n",
    "    def __init__(self, nmsg):\n",
    "        self.nmsg = nmsg\n",
    "        self.nprint = 0\n",
    "    def printLogMessage(self, data):\n",
    "        if self.nprint < self.nmsg:\n",
    "            print(f\"{data.level}: {data.message}\")\n",
    "        self.nprint += 1\n",
    "my_log10 = MyLogHandler(10)\n",
    "hex.evt_logMessage.callback = my_log10.printLogMessage\n",
    "await hex.cmd_setLogLevel.set_start(level=10, timeout=5)"
   ]
  },
  {
   "cell_type": "markdown",
   "metadata": {},
   "source": [
    "### Temperature"
   ]
  },
  {
   "cell_type": "code",
   "execution_count": null,
   "metadata": {},
   "outputs": [],
   "source": [
    "ess = salobj.Remote(script.domain, \"ESS\")"
   ]
  },
  {
   "cell_type": "code",
   "execution_count": null,
   "metadata": {},
   "outputs": [],
   "source": [
    "await ess.start_task"
   ]
  },
  {
   "cell_type": "code",
   "execution_count": null,
   "metadata": {},
   "outputs": [],
   "source": [
    "temp = await ess.tel_temperature8Ch.next(flush=True, timeout=5)"
   ]
  },
  {
   "cell_type": "code",
   "execution_count": null,
   "metadata": {},
   "outputs": [],
   "source": [
    "print([getattr(temp,'temperature%2d'%i) for i in range(8)])"
   ]
  },
  {
   "cell_type": "code",
   "execution_count": null,
   "metadata": {},
   "outputs": [],
   "source": [
    "end = Time(datetime.now(), scale='tai')\n",
    "start = end - timedelta(seconds=1000)\n",
    "df = await client.select_time_series('lsst.sal.ESS.temperature8Ch', '*', start, end, csc_index)\n",
    "fig, ax = plt.subplots(1,1, figsize=(15,4))\n",
    "for i in range(8):\n",
    "    plt.plot(getattr(df, 'temperatureC%02d'%i)\n",
    "plt.grid()"
   ]
  },
  {
   "cell_type": "markdown",
   "metadata": {},
   "source": [
    "### test state transition. If hex is already enabled, disable then enable it."
   ]
  },
  {
   "cell_type": "code",
   "execution_count": null,
   "metadata": {},
   "outputs": [],
   "source": [
    "state = await hex.evt_summaryState.aget(timeout=5)\n",
    "print('starting with: hex state', salobj.State(state.summaryState), pd.to_datetime(state.private_sndStamp, unit='s'))\n",
    "dstate = await hex.evt_controllerState.aget(timeout=5)\n",
    "print('starting with: hex state', MTHexapod.EnabledSubstate(dstate.enabledSubstate), \n",
    "      pd.to_datetime(dstate.private_sndStamp, unit='s'))"
   ]
  },
  {
   "cell_type": "code",
   "execution_count": null,
   "metadata": {},
   "outputs": [],
   "source": [
    "#the below requires setting the hexapod to commandablebyDDS using the EUI\n",
    "await salobj.set_summary_state(remote=hex, state=salobj.State.STANDBY)"
   ]
  },
  {
   "cell_type": "code",
   "execution_count": null,
   "metadata": {},
   "outputs": [],
   "source": [
    "await salobj.set_summary_state(hex, salobj.State.ENABLED, settingsToApply=\"default\") #enable hex"
   ]
  },
  {
   "cell_type": "code",
   "execution_count": null,
   "metadata": {},
   "outputs": [],
   "source": [
    "lutMode = await hex.evt_compensationMode.aget(timeout=10)\n",
    "print(\"compsensation mode enabled?\",lutMode.enabled)"
   ]
  },
  {
   "cell_type": "code",
   "execution_count": null,
   "metadata": {},
   "outputs": [],
   "source": [
    "end = Time(datetime.now(), scale='tai')\n",
    "start = end - timedelta(seconds=1000)\n",
    "df = await client.select_time_series('lsst.sal.MTHexapod.logevent_controllerState', '*', start, end, csc_index)\n",
    "if len(df) == 0:\n",
    "    print('no record')\n",
    "else:\n",
    "    idx=df.MTHexapodID==1\n",
    "    df = df[idx]\n",
    "    fig, ax = plt.subplots(1,1, figsize=(15,4))\n",
    "    plt.plot(df.enabledSubstate, '-o')\n",
    "    plt.grid()"
   ]
  },
  {
   "cell_type": "code",
   "execution_count": null,
   "metadata": {},
   "outputs": [],
   "source": [
    "df"
   ]
  },
  {
   "cell_type": "code",
   "execution_count": null,
   "metadata": {},
   "outputs": [],
   "source": [
    "while True: #may need to wait a few seconds before event shows up in EFD\n",
    "    end = Time(datetime.now(), scale='tai')\n",
    "    start = end - timedelta(hours=1)\n",
    "    dfe = await client.select_time_series('lsst.sal.MTHexapod.logevent_summaryState', '*', start, end, csc_index)\n",
    "    if len(dfe)>0:\n",
    "        break"
   ]
  },
  {
   "cell_type": "code",
   "execution_count": null,
   "metadata": {},
   "outputs": [],
   "source": [
    "dfe"
   ]
  },
  {
   "cell_type": "markdown",
   "metadata": {},
   "source": [
    "### check the behavior when LUT is disabled."
   ]
  },
  {
   "cell_type": "code",
   "execution_count": null,
   "metadata": {},
   "outputs": [],
   "source": [
    "lutMode = await hex.evt_compensationMode.aget(timeout=10)\n",
    "print(\"compsensation mode enabled?\",lutMode.enabled)"
   ]
  },
  {
   "cell_type": "code",
   "execution_count": null,
   "metadata": {},
   "outputs": [],
   "source": [
    "async def printHexPosition(hex):\n",
    "    pos = await hex.tel_application.next(flush=True, timeout=10.)\n",
    "    print(\"Current Hexapod position\")\n",
    "    print(\" \".join(f\"{p:10.2f}\" for p in pos.position[:3]), end = ' ') \n",
    "    print(\" \".join(f\"{p:10.6f}\" for p in pos.position[3:]) )\n",
    "await printHexPosition(hex)"
   ]
  },
  {
   "cell_type": "markdown",
   "metadata": {},
   "source": [
    "If you want to observe the motions in chronograf, consider using \"AND MTHexapodID={hexId}\" to filter out telemetry from the other hexapod"
   ]
  },
  {
   "cell_type": "code",
   "execution_count": null,
   "metadata": {},
   "outputs": [],
   "source": [
    "async def moveHexTo0(hex):\n",
    "    ### command it to collimated position (based on LUT)\n",
    "    hex.evt_inPosition.flush()\n",
    "    #according to XML, units are micron and degree\n",
    "    await hex.cmd_move.set_start(x=0,y=0,z=0, u=0,v=0,w=0,sync=True)\n",
    "    while True:\n",
    "        state = await hex.evt_inPosition.next(flush=False, timeout=10)\n",
    "        print(\"hex in position?\",state.inPosition, pd.to_datetime(state.private_sndStamp, unit='s'))\n",
    "        if state.inPosition:\n",
    "            break\n",
    "    await printHexPosition(hex)"
   ]
  },
  {
   "cell_type": "code",
   "execution_count": null,
   "metadata": {},
   "outputs": [],
   "source": [
    "await moveHexTo0(hex)"
   ]
  },
  {
   "cell_type": "code",
   "execution_count": null,
   "metadata": {},
   "outputs": [],
   "source": [
    "hex.evt_inPosition.flush()\n",
    "for step in range(5,-1,-1):\n",
    "    await hex.cmd_move.set_start(x=0,y=0,z=-50*step, u=0,v=0,w=0,sync=True)\n",
    "    while True:\n",
    "        state = await hex.evt_inPosition.next(flush=False, timeout=10)\n",
    "        print(\"hex in position?\",state.inPosition, pd.to_datetime(state.private_sndStamp, unit='s'))\n",
    "        if state.inPosition:\n",
    "            break\n",
    "    await printHexPosition(hex)"
   ]
  },
  {
   "cell_type": "code",
   "execution_count": null,
   "metadata": {},
   "outputs": [],
   "source": [
    "hex.evt_inPosition.flush()\n",
    "for step in [1,2,3,-3,-2,-1]:\n",
    "    #according to XML, units are micron and degree\n",
    "    await hex.cmd_offset.set_start(x=0,y=0,z=50*step, u=0,v=0,w=0,sync=True)\n",
    "    while True:\n",
    "        state = await hex.evt_inPosition.next(flush=False, timeout=10)\n",
    "        print(\"hex in position?\",state.inPosition, pd.to_datetime(state.private_sndStamp, unit='s'))\n",
    "        if state.inPosition:\n",
    "            break\n",
    "    await printHexPosition(hex)\n",
    "end = Time(datetime.now(), scale='tai')"
   ]
  },
  {
   "cell_type": "code",
   "execution_count": null,
   "metadata": {},
   "outputs": [],
   "source": [
    "#end = Time('2021-04-26T17:08:30', scale = 'tai')\n",
    "end = Time(datetime.now(), scale='tai')\n",
    "end = end+timedelta(seconds=37)\n",
    "start = end - timedelta(seconds=160)\n",
    "df = await client.select_time_series('lsst.sal.MTHexapod.application', '*', start, end, csc_index)\n",
    "idx=df.MTHexapodID==1\n",
    "df = df[idx]\n",
    "print(end)\n",
    "print(datetime.now())\n",
    "\n",
    "dfip = await client.select_time_series('lsst.sal.MTHexapod.logevent_inPosition', '*', start, end, csc_index)\n",
    "idx=dfip.MTHexapodID==1\n",
    "dfip = dfip[idx]\n",
    "\n",
    "fig, ax = plt.subplots(figsize=(19,3))\n",
    "plt.plot(df.position2, label='zPosition')\n",
    "plt.plot(dfip.inPosition*100, label='inPosition (1 or 0) x 100')\n",
    "plt.grid()\n",
    "plt.legend()"
   ]
  },
  {
   "cell_type": "code",
   "execution_count": null,
   "metadata": {},
   "outputs": [],
   "source": [
    "len(dfip)"
   ]
  },
  {
   "cell_type": "markdown",
   "metadata": {},
   "source": [
    "### Before we enable the LUT, use the mount controller to publish \n",
    "\n",
    "* mount target elevation \n",
    "* mount actual elevation \n",
    "\n",
    "The hexapod LUT needs the target elevation, target azimuth, temperature, and rotator angle. The only thing matters right now is the target elevation (everything else is set to zero). Check evt_compensationOffset to make sure the LUT is being calculated using the proper inputs."
   ]
  },
  {
   "cell_type": "markdown",
   "metadata": {},
   "source": [
    "### When the LUT is enabled"
   ]
  },
  {
   "cell_type": "code",
   "execution_count": null,
   "metadata": {},
   "outputs": [],
   "source": [
    "await hex.cmd_setCompensationMode.set_start(enable=1, timeout=10)"
   ]
  },
  {
   "cell_type": "code",
   "execution_count": null,
   "metadata": {},
   "outputs": [],
   "source": [
    "lutMode = await hex.evt_compensationMode.aget(timeout=10)\n",
    "print(\"compsensation mode enabled?\",lutMode.enabled, pd.to_datetime(lutMode.private_sndStamp, unit='s'))"
   ]
  },
  {
   "cell_type": "code",
   "execution_count": null,
   "metadata": {},
   "outputs": [],
   "source": [
    "end = Time(datetime.now()+timedelta(seconds=37), scale='tai')\n",
    "start = end - timedelta(seconds=100)\n",
    "df = await client.select_time_series('lsst.sal.MTHexapod.logevent_controllerState', '*', start, end, csc_index)\n",
    "if len(df) == 0:\n",
    "    print('no record')\n",
    "else:\n",
    "    idx=df.MTHexapodID==1\n",
    "    df = df[idx]\n",
    "    fig, ax = plt.subplots(1,1, figsize=(15,4))\n",
    "    plt.plot(df.enabledSubstate, '-o')\n",
    "    plt.grid()\n",
    "#as of 4/27/21, this shows the enabledSubstate oscillating between Stationary and MovingPointToPoint."
   ]
  },
  {
   "cell_type": "code",
   "execution_count": null,
   "metadata": {},
   "outputs": [],
   "source": [
    "async def printHexUncompensatedAndCompensated(hex):\n",
    "    posU = await hex.evt_uncompensatedPosition.aget(timeout=10.)\n",
    "    print('Uncompensated position')\n",
    "    print(\" \".join(f\"{p:10.2f}\" for p in [getattr(posU, i) for i in 'xyz']), end = '    ')\n",
    "    print(\" \".join(f\"{p:10.6f}\" for p in [getattr(posU, i) for i in 'uvw']),'  ',\n",
    "         pd.to_datetime(posU.private_sndStamp, unit='s'))    \n",
    "    posC = await hex.evt_compensatedPosition.aget(timeout=10.)\n",
    "    print('Compensated position')\n",
    "    print(\" \".join(f\"{p:10.2f}\" for p in [getattr(posC, i) for i in 'xyz']), end = '     ')\n",
    "    print(\" \".join(f\"{p:10.6f}\" for p in [getattr(posC, i) for i in 'uvw']),'  ',\n",
    "         pd.to_datetime(posC.private_sndStamp, unit='s'))"
   ]
  },
  {
   "cell_type": "code",
   "execution_count": null,
   "metadata": {},
   "outputs": [],
   "source": [
    "await printHexPosition(hex)\n",
    "await printHexUncompensatedAndCompensated(hex)"
   ]
  },
  {
   "cell_type": "markdown",
   "metadata": {},
   "source": [
    "The inputs to the LUT are currently -\n",
    "* elevation (from mount telemetry) \n",
    "* temperature (mount truss? not implemented yet)\n",
    "* azimuth (not implemented)\n",
    "* rotator angle (not implemented)"
   ]
  },
  {
   "cell_type": "code",
   "execution_count": null,
   "metadata": {},
   "outputs": [],
   "source": [
    "a = hex.evt_compensationOffset.get()\n",
    "print(a.elevation, a.azimuth, a.rotation, a.temperature, pd.to_datetime(a.private_sndStamp, unit='s'))\n",
    "print('x,y,z,u,v,w = ', a.x, a.y, a.z, a.u, a.v, a.w)"
   ]
  },
  {
   "cell_type": "code",
   "execution_count": null,
   "metadata": {},
   "outputs": [],
   "source": [
    "mountAngle = await mount.tel_elevation.aget(timeout=10.)\n",
    "print(\"mount elevation angle\", mountAngle.actualPosition)\n",
    "elev = mountAngle.actualPosition"
   ]
  },
  {
   "cell_type": "markdown",
   "metadata": {},
   "source": [
    "### 1st way to change elevation: command the simulated mount (may need mount controller to get the evt_target() )"
   ]
  },
  {
   "cell_type": "code",
   "execution_count": null,
   "metadata": {},
   "outputs": [],
   "source": [
    "await mount.cmd_moveToTarget.set_start(azimuth=0, elevation=75)"
   ]
  },
  {
   "cell_type": "code",
   "execution_count": null,
   "metadata": {},
   "outputs": [],
   "source": [
    "mount.cmd_trackTarget.set_start(azimuth=0, elevation=82) \n",
    "#Russell: this should output evt_target; \n",
    "#Tiago: may need to set up a constant stream of trackTargets"
   ]
  },
  {
   "cell_type": "code",
   "execution_count": null,
   "metadata": {},
   "outputs": [],
   "source": [
    "print(mount.evt_target.get())"
   ]
  },
  {
   "cell_type": "code",
   "execution_count": null,
   "metadata": {},
   "outputs": [],
   "source": [
    "mountAngle = await mount.tel_elevation.aget(timeout=10.)\n",
    "print(\"mount elevation angle\", mountAngle.actualPosition)\n",
    "elev = mountAngle.actualPosition"
   ]
  },
  {
   "cell_type": "code",
   "execution_count": null,
   "metadata": {},
   "outputs": [],
   "source": [
    "mount.cmd_stopTracking.set_start()"
   ]
  },
  {
   "cell_type": "code",
   "execution_count": null,
   "metadata": {},
   "outputs": [],
   "source": [
    "LUTfile = '%s/notebooks/ts_config_mttcs/MTHexapod/v1/default.yaml'%(os.environ[\"HOME\"])\n",
    "with open(LUTfile, 'r') as stream:\n",
    "    aa = yaml.safe_load(stream)\n",
    "if hex.salinfo.index == 1:\n",
    "    elevCoeff = aa['camera_config']['elevation_coeffs']\n",
    "    tCoeff = aa['camera_config']['temperature_coeffs']\n",
    "elif hex.salinfo.index == 2:\n",
    "    elevCoeff = aa['m2_config']['elevation_coeffs']\n",
    "    tCoeff = aa['m2_config']['temperature_coeffs']"
   ]
  },
  {
   "cell_type": "code",
   "execution_count": null,
   "metadata": {},
   "outputs": [],
   "source": [
    "a = hex.evt_compensationOffset.get()\n",
    "print(a.elevation, a.azimuth, a.rotation, a.temperature, pd.to_datetime(a.private_sndStamp, unit='s'))\n",
    "print('x,y,z,u,v,w = ', a.x, a.y, a.z, a.u, a.v, a.w)"
   ]
  },
  {
   "cell_type": "code",
   "execution_count": null,
   "metadata": {},
   "outputs": [],
   "source": [
    "mtTarget = await mount.evt_target.next(flush=False, timeout=10.)"
   ]
  },
  {
   "cell_type": "code",
   "execution_count": null,
   "metadata": {},
   "outputs": [],
   "source": [
    "print(mount.evt_target.get())"
   ]
  },
  {
   "cell_type": "code",
   "execution_count": null,
   "metadata": {},
   "outputs": [],
   "source": [
    "elev = a.elevation\n",
    "async def printPredictedComp(elevCoeff, elev):\n",
    "    '''\n",
    "    This function deals with the elevation component of the LUT only, for now.\n",
    "    We will add temperature, azimuth, and rotator angle when they are implemented.\n",
    "    '''\n",
    "    pred = []\n",
    "    print('Predicted LUT compensation:')\n",
    "    for i in range(6):\n",
    "        coeff = elevCoeff[i] #starts with C0\n",
    "        mypoly = np.polynomial.Polynomial(coeff)\n",
    "        #mypoly = np.poly1d(coeff[::-1]) #if you use poly1d, be aware: it needs C5 first\n",
    "        pred.append(mypoly(elev))\n",
    "    print(\" \".join(f\"{p:10.2f}\" for p in pred))\n",
    "await printHexPosition(hex)    \n",
    "await printPredictedComp(elevCoeff, elev)\n",
    "await printHexUncompensatedAndCompensated(hex)"
   ]
  },
  {
   "cell_type": "code",
   "execution_count": null,
   "metadata": {},
   "outputs": [],
   "source": [
    "await moveHexTo0(hex)"
   ]
  },
  {
   "cell_type": "code",
   "execution_count": null,
   "metadata": {},
   "outputs": [],
   "source": [
    "await printHexPosition(hex)    \n",
    "await printPredictedComp(elevCoeff, elev)\n",
    "await printHexUncompensatedAndCompensated(hex)"
   ]
  },
  {
   "cell_type": "markdown",
   "metadata": {},
   "source": [
    "### Now change the target (using mount controller), and move to the target (below, manually)"
   ]
  },
  {
   "cell_type": "code",
   "execution_count": null,
   "metadata": {},
   "outputs": [],
   "source": [
    "await mount.cmd_moveToTarget.set_start(azimuth=0, elevation=45)"
   ]
  },
  {
   "cell_type": "code",
   "execution_count": null,
   "metadata": {},
   "outputs": [],
   "source": [
    "mountAngle = await mount.tel_elevation.aget(timeout=10.)\n",
    "print(\"mount elevation angle\", mountAngle.actualPosition)\n",
    "elev = mountAngle.actualPosition"
   ]
  },
  {
   "cell_type": "code",
   "execution_count": null,
   "metadata": {},
   "outputs": [],
   "source": [
    "await printHexPosition(hex)\n",
    "await printPredictedComp(elevCoeff, elev)\n",
    "await printHexUncompensatedAndCompensated(hex)"
   ]
  },
  {
   "cell_type": "code",
   "execution_count": null,
   "metadata": {},
   "outputs": [],
   "source": [
    "end = Time(datetime.now(), scale='tai')\n",
    "start = end - timedelta(seconds=10)\n",
    "df = await client.select_time_series('lsst.sal.MTHexapod.logevent_controllerState', '*', start, end, csc_index)\n",
    "idx=df.MTHexapodID==1\n",
    "df = df[idx]\n",
    "\n",
    "fig, ax = plt.subplots(1,1, figsize=(15,4))\n",
    "plt.plot(df.enabledSubstate, '-o')\n",
    "plt.grid()"
   ]
  },
  {
   "cell_type": "markdown",
   "metadata": {},
   "source": [
    "### 2nd way to change elevation: Do a slew, then check the LUT again"
   ]
  },
  {
   "cell_type": "code",
   "execution_count": null,
   "metadata": {},
   "outputs": [],
   "source": [
    "if summit and usePtg:\n",
    "    #comment and uncomment the below depending on which components are expected to be on\n",
    "    #by default, MTCS checks on every component (during the slew).\n",
    "    mtcs.check.mtaos = False\n",
    "    mtcs.check.mtm1m3 = False\n",
    "    mtcs.check.mtm2 = False\n",
    "    mtcs.check.mthexapod_1 = False\n",
    "    mtcs.check.mthexapod_2 = False\n",
    "    mtcs.check.mtdome = False\n",
    "    mtcs.check.mtdometrajectory = False"
   ]
  },
  {
   "cell_type": "code",
   "execution_count": null,
   "metadata": {},
   "outputs": [],
   "source": [
    "await salobj.set_summary_state(ptg, salobj.State.ENABLED)"
   ]
  },
  {
   "cell_type": "code",
   "execution_count": null,
   "metadata": {},
   "outputs": [],
   "source": [
    "await salobj.set_summary_state(mount, salobj.State.STANDBY)"
   ]
  },
  {
   "cell_type": "code",
   "execution_count": null,
   "metadata": {},
   "outputs": [],
   "source": [
    "await salobj.set_summary_state(rot, salobj.State.ENABLED)"
   ]
  },
  {
   "cell_type": "code",
   "execution_count": null,
   "metadata": {},
   "outputs": [],
   "source": [
    "if usePtg:\n",
    "    alt = 34 * u.deg\n",
    "    az = 0 * u.deg\n",
    "\n",
    "    target_name=\"TMA motion test\"\n",
    "    time_data = await ptg.tel_timeAndDate.next(flush=True, timeout=2)\n",
    "    curr_time_ptg = Time(time_data.mjd, format=\"mjd\", scale=\"tai\")\n",
    "    time_err = curr_time_ptg - Time.now()\n",
    "    print(f\"Time error={time_err.sec:0.2f} sec\")\n",
    "\n",
    "    print(curr_time_ptg.tai.value)\n",
    "\n",
    "    cmd_elaz = AltAz(alt=alt, az=az, \n",
    "                    obstime=curr_time_ptg.tai, \n",
    "                    location=mtcs.location)\n",
    "    cmd_radec = cmd_elaz.transform_to(ICRS)\n",
    "    await mtcs.slew_icrs(ra=cmd_radec.ra, dec=cmd_radec.dec, rot=0., rot_type=RotType.PhysicalSky)"
   ]
  },
  {
   "cell_type": "code",
   "execution_count": null,
   "metadata": {},
   "outputs": [],
   "source": [
    "time_and_date = await mtcs.rem.mtptg.tel_timeAndDate.next(flush=True, timeout=5)\n",
    "ra = time_and_date.lst +0.5\n",
    "dec = -34\n",
    "print(ra)\n",
    "await mtcs.slew_icrs(ra=ra, dec=dec, rot=0., rot_type=RotType.PhysicalSky)"
   ]
  },
  {
   "cell_type": "code",
   "execution_count": null,
   "metadata": {},
   "outputs": [],
   "source": [
    "dec = -34.\n",
    "for j in range(2):\n",
    "    time_and_date = await mtcs.rem.mtptg.tel_timeAndDate.next(flush=True, timeout=5)\n",
    "    ra = time_and_date.lst + 0.5\n",
    "    for i in range(2):\n",
    "        print(ra, dec)\n",
    "        await mtcs.slew_icrs(ra=ra, dec=dec, rot=0., rot_type=RotType.PhysicalSky)\n",
    "        await asyncio.sleep(39.)\n",
    "        ra -= 3.5/15.0\n",
    "if usePtg:\n",
    "    await ptg.cmd_stopTracking.set_start(timeout=5.)"
   ]
  },
  {
   "cell_type": "code",
   "execution_count": null,
   "metadata": {},
   "outputs": [],
   "source": [
    "mountStatus = await mount.evt_axesInPosition.aget(timeout=5.)\n",
    "rotStatus = await rot.evt_inPosition.aget(timeout=5.)\n",
    "print('Are we tracking?', mountStatus.elevation , mountStatus.azimuth , rotStatus.inPosition)"
   ]
  },
  {
   "cell_type": "code",
   "execution_count": null,
   "metadata": {},
   "outputs": [],
   "source": [
    "await ptg.cmd_stopTracking.set_start(timeout=5.)"
   ]
  },
  {
   "cell_type": "code",
   "execution_count": null,
   "metadata": {},
   "outputs": [],
   "source": [
    "async def moveHexTo100(hex):\n",
    "    ### command it to collimated position (based on LUT)\n",
    "    hex.evt_inPosition.flush()\n",
    "    #according to XML, units are micron and degree\n",
    "    await hex.cmd_move.set_start(x=0,y=0,z=100, u=0,v=0,w=0,sync=True)\n",
    "    while True:\n",
    "        state = await hex.evt_inPosition.next(flush=False, timeout=10)\n",
    "        print(\"hex in position?\",state.inPosition, pd.to_datetime(state.private_sndStamp, unit='s'))\n",
    "        if state.inPosition:\n",
    "            break\n",
    "    await printHexPosition(hex)"
   ]
  },
  {
   "cell_type": "code",
   "execution_count": null,
   "metadata": {},
   "outputs": [],
   "source": [
    "await moveHexTo100(hex)"
   ]
  },
  {
   "cell_type": "code",
   "execution_count": null,
   "metadata": {},
   "outputs": [],
   "source": [
    "await printHexPosition(hex)\n",
    "await printPredictedComp(elevCoeff, elev)\n",
    "await printHexUncompensatedAndCompensated(hex)"
   ]
  },
  {
   "cell_type": "code",
   "execution_count": null,
   "metadata": {},
   "outputs": [],
   "source": [
    "state = await hex.evt_summaryState.aget(timeout=5)\n",
    "print('staring with: hex state', salobj.State(state.summaryState), pd.to_datetime(state.private_sndStamp, unit='s'))\n",
    "dstate = await hex.evt_controllerState.aget(timeout=5)\n",
    "print('staring with: hex state', MTHexapod.EnabledSubstate(dstate.enabledSubstate), \n",
    "      pd.to_datetime(dstate.private_sndStamp, unit='s'))"
   ]
  },
  {
   "cell_type": "markdown",
   "metadata": {},
   "source": [
    "### check angle and LUT after the slew"
   ]
  },
  {
   "cell_type": "code",
   "execution_count": null,
   "metadata": {},
   "outputs": [],
   "source": [
    "mountAngle = await mount.tel_elevation.aget(timeout=10.)\n",
    "print(\"mount elevation angle\", mountAngle.angleActual)\n",
    "elev = mountAngle.angleActual"
   ]
  },
  {
   "cell_type": "code",
   "execution_count": null,
   "metadata": {},
   "outputs": [],
   "source": [
    "await printHexPosition(hex)\n",
    "await printPredictedComp(elevCoeff, elev)\n",
    "await printHexUncompensatedAndCompensated(hex)"
   ]
  },
  {
   "cell_type": "markdown",
   "metadata": {},
   "source": [
    "### Check if the telescope is in tracking mode. If yes, need to stop stacking. \n",
    "The alternative is to check \"MT Mount status\" dash board on Chronograf. Make sure there are three \"False\"."
   ]
  },
  {
   "cell_type": "code",
   "execution_count": null,
   "metadata": {},
   "outputs": [],
   "source": [
    "mountStatus = await mount.evt_axesInPosition.aget(timeout=5.)\n",
    "rotStatus = await rot.evt_inPosition.aget(timeout=5.)\n",
    "trackingStatus = mountStatus.elevation and mountStatus.azimuth and rotStatus.inPosition\n",
    "print('Are we tracking?', trackingStatus)"
   ]
  },
  {
   "cell_type": "code",
   "execution_count": null,
   "metadata": {},
   "outputs": [],
   "source": [
    "await ptg.cmd_stopTracking.set_start(timeout=5.)"
   ]
  },
  {
   "cell_type": "code",
   "execution_count": null,
   "metadata": {},
   "outputs": [],
   "source": [
    "await salobj.set_summary_state(mount, salobj.State.STANDBY)"
   ]
  },
  {
   "cell_type": "markdown",
   "metadata": {},
   "source": [
    "### When a new move command is issued before a previous move finishes, the desired behavior is to stop the first, reset a new target position, and move to the new target position. The below is used for testing this behavior."
   ]
  },
  {
   "cell_type": "code",
   "execution_count": null,
   "metadata": {},
   "outputs": [],
   "source": [
    "await hex.cmd_setCompensationMode.set_start(enable=0, timeout=10)"
   ]
  },
  {
   "cell_type": "code",
   "execution_count": null,
   "metadata": {},
   "outputs": [],
   "source": [
    "await moveHexTo0(hex)"
   ]
  },
  {
   "cell_type": "code",
   "execution_count": null,
   "metadata": {},
   "outputs": [],
   "source": [
    "#await hex.cmd_move.set_start(x=5660,y=0,z=7730,u=0.07,v=0,w=0,sync=True)\n",
    "await hex.cmd_move.set_start(x=5660,y=0,z=-7730,u=0,v=0.17,w=0,sync=True)\n",
    "await asyncio.sleep(.1)\n",
    "await hex.cmd_move.set_start(x=0,y=0,z=0,u=0,v=0,w=0,sync=True)\n",
    "#await hex.cmd_move.set_start(x=5660,y=0,z=-7730,u=0,v=0.17,w=0,sync=True)\n",
    "#await moveHexTo0(hex)\n",
    "#await asyncio.sleep(39)"
   ]
  },
  {
   "cell_type": "code",
   "execution_count": null,
   "metadata": {},
   "outputs": [],
   "source": [
    "await hex.cmd_move.set_start(x=5660,y=0,z=-7730,u=0,v=0.17,w=0,sync=True)\n",
    "await hex.cmd_stop.set_start()"
   ]
  },
  {
   "cell_type": "code",
   "execution_count": null,
   "metadata": {},
   "outputs": [],
   "source": [
    "await hex.cmd_move.set_start(x=0,y=0,z=0,u=0,v=0,w=0,sync=True)\n",
    "await asyncio.sleep(.1)\n",
    "await hex.cmd_stop.set_start()"
   ]
  },
  {
   "cell_type": "code",
   "execution_count": null,
   "metadata": {},
   "outputs": [],
   "source": [
    "await hex.cmd_move.set_start(x=0,y=0,z=-50,u=0,v=0.0,w=0,sync=True)\n",
    "await hex.cmd_stop.set_start()"
   ]
  },
  {
   "cell_type": "code",
   "execution_count": null,
   "metadata": {},
   "outputs": [],
   "source": [
    "#await hex.cmd_move.set_start(x=0,y=0,z=-50,u=0,v=0.0,w=0,sync=True)\n",
    "await hex.cmd_move.set_start(x=0,y=0,z=-200,u=0,v=0.0,w=0,sync=True)"
   ]
  },
  {
   "cell_type": "code",
   "execution_count": null,
   "metadata": {},
   "outputs": [],
   "source": [
    "end = Time(datetime.now(), scale='tai')\n",
    "end = end+timedelta(seconds=37)\n",
    "start = end - timedelta(seconds=160)\n",
    "df = await client.select_time_series('lsst.sal.MTHexapod.application', '*', start, end, csc_index)\n",
    "idx=df.MTHexapodID==1\n",
    "df = df[idx]\n",
    "print(end)\n",
    "print(datetime.now())\n",
    "\n",
    "#dfip = await client.select_time_series('lsst.sal.MTHexapod.logevent_inPosition', '*', start, end, csc_index)\n",
    "#idx=dfip.MTHexapodID==1\n",
    "#dfip = dfip[idx]\n",
    "\n",
    "fig, ax = plt.subplots(figsize=(19,3))\n",
    "plt.plot(df.position2, label='zPosition')\n",
    "#plt.plot(dfip.inPosition*100, label='inPosition (1 or 0) x 100')\n",
    "plt.grid()\n",
    "plt.legend()"
   ]
  },
  {
   "cell_type": "code",
   "execution_count": null,
   "metadata": {},
   "outputs": [],
   "source": []
  }
 ],
 "metadata": {
  "kernelspec": {
   "display_name": "LSST",
   "language": "python",
   "name": "lsst"
  },
  "language_info": {
   "codemirror_mode": {
    "name": "ipython",
    "version": 3
   },
   "file_extension": ".py",
   "mimetype": "text/x-python",
   "name": "python",
   "nbconvert_exporter": "python",
   "pygments_lexer": "ipython3",
   "version": "3.8.8"
  }
 },
 "nbformat": 4,
 "nbformat_minor": 4
}
