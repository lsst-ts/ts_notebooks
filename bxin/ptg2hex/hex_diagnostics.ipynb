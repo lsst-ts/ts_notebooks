{
 "cells": [
  {
   "cell_type": "markdown",
   "metadata": {},
   "source": [
    "## This notebook check the hexapod state transitions and move/offset commands\n",
    "## It also checks the LUT against the input polynomials, before and after a slew\n",
    "\n",
    "This notebook works with both hexapods.\n",
    "\n",
    "To switch between the hexapods, change the cell below."
   ]
  },
  {
   "cell_type": "code",
   "execution_count": 1,
   "metadata": {},
   "outputs": [],
   "source": [
    "from lsst.ts import salobj\n",
    "import asyncio\n",
    "import os\n",
    "import yaml\n",
    "\n",
    "import numpy as np\n",
    "from matplotlib import pyplot as plt\n",
    "from astropy.time import Time\n",
    "from datetime import datetime, timedelta\n",
    "import pandas as pd\n",
    "\n",
    "from lsst.ts.idl.enums import ATPtg\n",
    "from astropy.coordinates import AltAz, ICRS, EarthLocation, Angle, FK5\n",
    "import astropy.units as u\n",
    "\n",
    "from lsst_efd_client import EfdClient"
   ]
  },
  {
   "cell_type": "code",
   "execution_count": 2,
   "metadata": {},
   "outputs": [],
   "source": [
    "hexIdx = 1 #camera hexapod\n",
    "#hexIdx = 2 #M2 hexapod"
   ]
  },
  {
   "cell_type": "code",
   "execution_count": 3,
   "metadata": {},
   "outputs": [
    {
     "name": "stdout",
     "output_type": "stream",
     "text": [
      "file:///home/hdrass/WORK/ts_ddsconfig/config/ospl-sp.xml\n"
     ]
    }
   ],
   "source": [
    "import os\n",
    "print(os.environ[\"OSPL_URI\"])\n",
    "if os.environ.get(\"LSST_DDS_ALIGNER\", \"false\") != \"false\":\n",
    "    print(\"LSST_DDS_ALIGNER is mis-configured\")"
   ]
  },
  {
   "cell_type": "code",
   "execution_count": 4,
   "metadata": {},
   "outputs": [],
   "source": [
    "start_time = datetime.now()\n",
    "script = salobj.Controller(\"Script\", index=42658887)\n",
    "\n",
    "#wait 10 second may help with DDS problems; closing all other kernels may help too\n",
    "#This is to avoid a race condition between when the domain register the master and the readers are registered.\n",
    "await asyncio.sleep(25) "
   ]
  },
  {
   "cell_type": "code",
   "execution_count": 5,
   "metadata": {},
   "outputs": [],
   "source": [
    "#Only needed wht doing a test with the telescope slewing\n",
    "#ptg = salobj.Remote(script.domain, \"MTPtg\")"
   ]
  },
  {
   "cell_type": "code",
   "execution_count": 6,
   "metadata": {},
   "outputs": [
    {
     "name": "stderr",
     "output_type": "stream",
     "text": [
      "electrical DDS read queue is full (100 elements); data may be lost\n",
      "application DDS read queue is full (100 elements); data may be lost\n",
      "actuators DDS read queue is full (100 elements); data may be lost\n",
      "actuators DDS read queue is filling: 17 of 100 elements\n",
      "application DDS read queue is filling: 13 of 100 elements\n",
      "electrical DDS read queue is filling: 28 of 100 elements\n",
      "actuators DDS read queue is filling: 18 of 100 elements\n",
      "electrical DDS read queue is filling: 18 of 100 elements\n",
      "electrical DDS read queue is filling: 22 of 100 elements\n",
      "actuators DDS read queue is filling: 26 of 100 elements\n",
      "application DDS read queue is filling: 20 of 100 elements\n",
      "actuators DDS read queue is filling: 30 of 100 elements\n",
      "actuators DDS read queue is filling: 10 of 100 elements\n",
      "actuators DDS read queue is filling: 27 of 100 elements\n",
      "electrical DDS read queue is filling: 14 of 100 elements\n",
      "application DDS read queue is filling: 24 of 100 elements\n",
      "actuators DDS read queue is filling: 29 of 100 elements\n",
      "application DDS read queue is filling: 20 of 100 elements\n",
      "actuators DDS read queue is filling: 31 of 100 elements\n",
      "actuators DDS read queue is filling: 11 of 100 elements\n",
      "electrical DDS read queue is filling: 12 of 100 elements\n",
      "application DDS read queue is filling: 32 of 100 elements\n",
      "application DDS read queue is filling: 11 of 100 elements\n",
      "electrical DDS read queue is filling: 14 of 100 elements\n",
      "application DDS read queue is filling: 10 of 100 elements\n",
      "electrical DDS read queue is filling: 10 of 100 elements\n",
      "electrical DDS read queue is filling: 11 of 100 elements\n"
     ]
    }
   ],
   "source": [
    " hex = salobj.Remote(script.domain, \"MTHexapod\", index=hexIdx) #1 for camera hexapod and 2 for m2 hexapod"
   ]
  },
  {
   "cell_type": "code",
   "execution_count": null,
   "metadata": {},
   "outputs": [],
   "source": [
    "#mount = salobj.Remote(script.domain, \"MTMount\")"
   ]
  },
  {
   "cell_type": "code",
   "execution_count": null,
   "metadata": {},
   "outputs": [],
   "source": [
    "#Start a controller instead of the Mount simulator\n",
    "#mount = salobj.Controller(name=\"MTMount\", index=0)"
   ]
  },
  {
   "cell_type": "code",
   "execution_count": 13,
   "metadata": {},
   "outputs": [
    {
     "name": "stdout",
     "output_type": "stream",
     "text": [
      "time to start is 0:03:57.238255 [s]\n"
     ]
    }
   ],
   "source": [
    "rot = salobj.Remote(script.domain, \"MTRotator\")\n",
    "print(f'time to start is {datetime.now() - start_time} [s]')"
   ]
  },
  {
   "cell_type": "code",
   "execution_count": 14,
   "metadata": {},
   "outputs": [
    {
     "data": {
      "text/plain": [
       "[None, None, None]"
      ]
     },
     "execution_count": 14,
     "metadata": {},
     "output_type": "execute_result"
    }
   ],
   "source": [
    "await asyncio.gather(#ptg.start_task,#mount.start_task,\n",
    "                     script.start_task, #                     \n",
    "                     rot.start_task,\n",
    "                     hex.start_task)"
   ]
  },
  {
   "cell_type": "code",
   "execution_count": null,
   "metadata": {},
   "outputs": [],
   "source": [
    "#This only works on domain 0\n",
    "#await ptg.start_task"
   ]
  },
  {
   "cell_type": "code",
   "execution_count": 15,
   "metadata": {},
   "outputs": [
    {
     "data": {
      "text/plain": [
       "<ddsutil.MTHexapod_logevent_heartbeat_8799b696 at 0x7f50b7dacf70>"
      ]
     },
     "execution_count": 15,
     "metadata": {},
     "output_type": "execute_result"
    }
   ],
   "source": [
    "#As long as you get something its OK. we dont' care about h.heartbeat\n",
    "await hex.evt_heartbeat.next(flush=True, timeout=5)"
   ]
  },
  {
   "cell_type": "code",
   "execution_count": 16,
   "metadata": {},
   "outputs": [],
   "source": [
    "#This only works on domain 0\n",
    "#await ptg.evt_heartbeat.next(flush=True, timeout=5)"
   ]
  },
  {
   "cell_type": "code",
   "execution_count": 17,
   "metadata": {},
   "outputs": [
    {
     "data": {
      "text/plain": [
       "<ddsutil.MTRotator_logevent_heartbeat_3a397884 at 0x7f50b7b99a30>"
      ]
     },
     "execution_count": 17,
     "metadata": {},
     "output_type": "execute_result"
    }
   ],
   "source": [
    "await rot.evt_heartbeat.next(flush=True, timeout=5)"
   ]
  },
  {
   "cell_type": "code",
   "execution_count": 18,
   "metadata": {},
   "outputs": [
    {
     "name": "stdout",
     "output_type": "stream",
     "text": [
      "pivot at (0, 0, -2758400) microns \n",
      "maxXY =  11400.0 microns, maxZ=  13100.0  microns\n",
      "maxUV =  0.36 deg, maxW=  0.1  deg\n"
     ]
    }
   ],
   "source": [
    "#Check some configurations\n",
    "hexConfig = await hex.evt_configuration.aget(timeout=10.)\n",
    "print(\"pivot at (%.0f, %.0f, %.0f) microns \"%(hexConfig.pivotX, hexConfig.pivotY, hexConfig.pivotZ))\n",
    "print(\"maxXY = \", hexConfig.maxXY, \"microns, maxZ= \", hexConfig.maxZ, \" microns\")\n",
    "print(\"maxUV = \", hexConfig.maxUV, \"deg, maxW= \", hexConfig.maxW, \" deg\")"
   ]
  },
  {
   "cell_type": "markdown",
   "metadata": {},
   "source": [
    "### test state transition. If hex is already enabled, disable then enable it."
   ]
  },
  {
   "cell_type": "code",
   "execution_count": null,
   "metadata": {},
   "outputs": [],
   "source": [
    "state = await hex.evt_summaryState.aget(timeout=5)\n",
    "print('staring with: hex state', salobj.State(state.summaryState), pd.to_datetime(state.private_sndStamp, unit='s'))\n",
    "if state.summaryState == 2:\n",
    "    await salobj.set_summary_state(hex, salobj.State.DISABLED) #disable hex"
   ]
  },
  {
   "cell_type": "code",
   "execution_count": 28,
   "metadata": {},
   "outputs": [
    {
     "data": {
      "text/plain": [
       "[<State.STANDBY: 5>]"
      ]
     },
     "execution_count": 28,
     "metadata": {},
     "output_type": "execute_result"
    }
   ],
   "source": [
    "await salobj.set_summary_state(remote=hex, state=salobj.State.STANDBY)\n"
   ]
  },
  {
   "cell_type": "code",
   "execution_count": 33,
   "metadata": {},
   "outputs": [
    {
     "data": {
      "text/plain": [
       "[<State.STANDBY: 5>, <State.DISABLED: 1>]"
      ]
     },
     "execution_count": 33,
     "metadata": {},
     "output_type": "execute_result"
    }
   ],
   "source": [
    "await salobj.set_summary_state(remote=hex, state=salobj.State.DISABLED)"
   ]
  },
  {
   "cell_type": "code",
   "execution_count": 34,
   "metadata": {},
   "outputs": [
    {
     "data": {
      "text/plain": [
       "[<State.DISABLED: 1>, <State.ENABLED: 2>]"
      ]
     },
     "execution_count": 34,
     "metadata": {},
     "output_type": "execute_result"
    }
   ],
   "source": [
    "await salobj.set_summary_state(hex, salobj.State.ENABLED, settingsToApply=\"default\") #enable hex"
   ]
  },
  {
   "cell_type": "code",
   "execution_count": 19,
   "metadata": {},
   "outputs": [],
   "source": [
    "client = EfdClient('summit_efd')"
   ]
  },
  {
   "cell_type": "code",
   "execution_count": 20,
   "metadata": {},
   "outputs": [],
   "source": [
    "# the next line only work if information were sent to the EFD during the time spann \"timedelta\"!\n",
    "csc_index = 1\n",
    "end = Time(datetime.now(), scale='tai')\n",
    "start = end - timedelta(hours=6)\n",
    "while True: #may need to wait a few seconds before event shows up in EFD\n",
    "    dfe = await client.select_time_series('lsst.sal.MTHexapod.logevent_summaryState', '*', start, end, csc_index)\n",
    "    #dfe = await client.select_time_series('lsst.sal.MTMount.elevation', '*', start, end)\n",
    "    if len(dfe)>0:\n",
    "        break\n",
    "#to check messages in Kafka, go to https://lsst-kafka-0-nts-efd.ncsa.illinois.edu/\n",
    "#we cannot get time series data from DDS. We have to query the EFD"
   ]
  },
  {
   "cell_type": "code",
   "execution_count": 21,
   "metadata": {},
   "outputs": [
    {
     "data": {
      "text/html": [
       "<div>\n",
       "<style scoped>\n",
       "    .dataframe tbody tr th:only-of-type {\n",
       "        vertical-align: middle;\n",
       "    }\n",
       "\n",
       "    .dataframe tbody tr th {\n",
       "        vertical-align: top;\n",
       "    }\n",
       "\n",
       "    .dataframe thead th {\n",
       "        text-align: right;\n",
       "    }\n",
       "</style>\n",
       "<table border=\"1\" class=\"dataframe\">\n",
       "  <thead>\n",
       "    <tr style=\"text-align: right;\">\n",
       "      <th></th>\n",
       "      <th>MTHexapodID</th>\n",
       "      <th>priority</th>\n",
       "      <th>private_host</th>\n",
       "      <th>private_identity</th>\n",
       "      <th>private_kafkaStamp</th>\n",
       "      <th>private_origin</th>\n",
       "      <th>private_rcvStamp</th>\n",
       "      <th>private_revCode</th>\n",
       "      <th>private_seqNum</th>\n",
       "      <th>private_sndStamp</th>\n",
       "      <th>summaryState</th>\n",
       "    </tr>\n",
       "  </thead>\n",
       "  <tbody>\n",
       "    <tr>\n",
       "      <th>2021-03-25 13:13:30.119000+00:00</th>\n",
       "      <td>1</td>\n",
       "      <td>0</td>\n",
       "      <td>0</td>\n",
       "      <td>MTHexapod:1</td>\n",
       "      <td>1.616678e+09</td>\n",
       "      <td>6024</td>\n",
       "      <td>1.616678e+09</td>\n",
       "      <td>959a0a03</td>\n",
       "      <td>12</td>\n",
       "      <td>1.616678e+09</td>\n",
       "      <td>3</td>\n",
       "    </tr>\n",
       "    <tr>\n",
       "      <th>2021-03-25 15:13:45.902000+00:00</th>\n",
       "      <td>1</td>\n",
       "      <td>0</td>\n",
       "      <td>0</td>\n",
       "      <td>MTHexapod:1</td>\n",
       "      <td>1.616685e+09</td>\n",
       "      <td>6024</td>\n",
       "      <td>1.616685e+09</td>\n",
       "      <td>959a0a03</td>\n",
       "      <td>13</td>\n",
       "      <td>1.616685e+09</td>\n",
       "      <td>4</td>\n",
       "    </tr>\n",
       "    <tr>\n",
       "      <th>2021-03-25 15:14:04.533000+00:00</th>\n",
       "      <td>1</td>\n",
       "      <td>0</td>\n",
       "      <td>0</td>\n",
       "      <td>MTHexapod:1</td>\n",
       "      <td>1.616685e+09</td>\n",
       "      <td>6024</td>\n",
       "      <td>1.616685e+09</td>\n",
       "      <td>959a0a03</td>\n",
       "      <td>14</td>\n",
       "      <td>1.616685e+09</td>\n",
       "      <td>5</td>\n",
       "    </tr>\n",
       "    <tr>\n",
       "      <th>2021-03-25 15:27:34.851000+00:00</th>\n",
       "      <td>1</td>\n",
       "      <td>0</td>\n",
       "      <td>0</td>\n",
       "      <td>MTHexapod:1</td>\n",
       "      <td>1.616686e+09</td>\n",
       "      <td>6024</td>\n",
       "      <td>1.616686e+09</td>\n",
       "      <td>959a0a03</td>\n",
       "      <td>15</td>\n",
       "      <td>1.616686e+09</td>\n",
       "      <td>1</td>\n",
       "    </tr>\n",
       "    <tr>\n",
       "      <th>2021-03-25 15:27:38.986000+00:00</th>\n",
       "      <td>1</td>\n",
       "      <td>0</td>\n",
       "      <td>0</td>\n",
       "      <td>MTHexapod:1</td>\n",
       "      <td>1.616686e+09</td>\n",
       "      <td>6024</td>\n",
       "      <td>1.616686e+09</td>\n",
       "      <td>959a0a03</td>\n",
       "      <td>16</td>\n",
       "      <td>1.616686e+09</td>\n",
       "      <td>2</td>\n",
       "    </tr>\n",
       "  </tbody>\n",
       "</table>\n",
       "</div>"
      ],
      "text/plain": [
       "                                  MTHexapodID  priority  private_host  \\\n",
       "2021-03-25 13:13:30.119000+00:00            1         0             0   \n",
       "2021-03-25 15:13:45.902000+00:00            1         0             0   \n",
       "2021-03-25 15:14:04.533000+00:00            1         0             0   \n",
       "2021-03-25 15:27:34.851000+00:00            1         0             0   \n",
       "2021-03-25 15:27:38.986000+00:00            1         0             0   \n",
       "\n",
       "                                 private_identity  private_kafkaStamp  \\\n",
       "2021-03-25 13:13:30.119000+00:00      MTHexapod:1        1.616678e+09   \n",
       "2021-03-25 15:13:45.902000+00:00      MTHexapod:1        1.616685e+09   \n",
       "2021-03-25 15:14:04.533000+00:00      MTHexapod:1        1.616685e+09   \n",
       "2021-03-25 15:27:34.851000+00:00      MTHexapod:1        1.616686e+09   \n",
       "2021-03-25 15:27:38.986000+00:00      MTHexapod:1        1.616686e+09   \n",
       "\n",
       "                                  private_origin  private_rcvStamp  \\\n",
       "2021-03-25 13:13:30.119000+00:00            6024      1.616678e+09   \n",
       "2021-03-25 15:13:45.902000+00:00            6024      1.616685e+09   \n",
       "2021-03-25 15:14:04.533000+00:00            6024      1.616685e+09   \n",
       "2021-03-25 15:27:34.851000+00:00            6024      1.616686e+09   \n",
       "2021-03-25 15:27:38.986000+00:00            6024      1.616686e+09   \n",
       "\n",
       "                                 private_revCode  private_seqNum  \\\n",
       "2021-03-25 13:13:30.119000+00:00        959a0a03              12   \n",
       "2021-03-25 15:13:45.902000+00:00        959a0a03              13   \n",
       "2021-03-25 15:14:04.533000+00:00        959a0a03              14   \n",
       "2021-03-25 15:27:34.851000+00:00        959a0a03              15   \n",
       "2021-03-25 15:27:38.986000+00:00        959a0a03              16   \n",
       "\n",
       "                                  private_sndStamp  summaryState  \n",
       "2021-03-25 13:13:30.119000+00:00      1.616678e+09             3  \n",
       "2021-03-25 15:13:45.902000+00:00      1.616685e+09             4  \n",
       "2021-03-25 15:14:04.533000+00:00      1.616685e+09             5  \n",
       "2021-03-25 15:27:34.851000+00:00      1.616686e+09             1  \n",
       "2021-03-25 15:27:38.986000+00:00      1.616686e+09             2  "
      ]
     },
     "execution_count": 21,
     "metadata": {},
     "output_type": "execute_result"
    }
   ],
   "source": [
    "dfe"
   ]
  },
  {
   "cell_type": "markdown",
   "metadata": {},
   "source": [
    "### check the behavior when LUT is disabled."
   ]
  },
  {
   "cell_type": "code",
   "execution_count": 46,
   "metadata": {},
   "outputs": [
    {
     "name": "stdout",
     "output_type": "stream",
     "text": [
      "compsensation mode enabled? False\n"
     ]
    }
   ],
   "source": [
    "lutMode = await hex.evt_compensationMode.aget(timeout=10)\n",
    "print(\"compsensation mode enabled?\",lutMode.enabled)"
   ]
  },
  {
   "cell_type": "code",
   "execution_count": 47,
   "metadata": {},
   "outputs": [
    {
     "name": "stdout",
     "output_type": "stream",
     "text": [
      "Current Hexapod position\n",
      "      0.18       0.04     -49.70      -0.00      -0.00       0.00\n"
     ]
    }
   ],
   "source": [
    "async def printPosition(hex):\n",
    "    pos = await hex.tel_application.next(flush=True, timeout=10.)\n",
    "    print(\"Current Hexapod position\")\n",
    "    print(\" \".join(f\"{p:10.2f}\" for p in pos.position))\n",
    "await printPosition(hex)"
   ]
  },
  {
   "cell_type": "code",
   "execution_count": 24,
   "metadata": {},
   "outputs": [],
   "source": [
    "test_message = \"Camera Hexapod Integration Test\""
   ]
  },
  {
   "cell_type": "code",
   "execution_count": 38,
   "metadata": {},
   "outputs": [
    {
     "data": {
      "text/plain": [
       "<ddsutil.MTHexapod_ackcmd_da0a635d at 0x7f50b7c0c4f0>"
      ]
     },
     "execution_count": 38,
     "metadata": {},
     "output_type": "execute_result"
    }
   ],
   "source": [
    "#This command is to set the Hexapod to zero position\n",
    "now = datetime.now()\n",
    "script.log.info(f\"START- {test_message} -- LVV-T1600 -- Move to Zero- Starting time: {now} UTC\")\n",
    "await hex.cmd_move.set_start(x=0,y=0,z=0, u=0,v=0,w=0,sync=True)"
   ]
  },
  {
   "cell_type": "code",
   "execution_count": 49,
   "metadata": {},
   "outputs": [
    {
     "data": {
      "text/plain": [
       "<ddsutil.MTHexapod_ackcmd_da0a635d at 0x7f5084623c40>"
      ]
     },
     "execution_count": 49,
     "metadata": {},
     "output_type": "execute_result"
    }
   ],
   "source": [
    "#To stop the Hexapod\n",
    "await hex.cmd_stop.set_start()"
   ]
  },
  {
   "cell_type": "markdown",
   "metadata": {},
   "source": [
    "If you want to observe the motions in chronograf, consider using \"AND MTHexapodID={hexId}\" to filter out telemetry from the other hexapod"
   ]
  },
  {
   "cell_type": "code",
   "execution_count": 50,
   "metadata": {},
   "outputs": [],
   "source": [
    "now = datetime.now()\n",
    "script.log.info(f\"START- {test_message} -- LVV-T1600 Compensation mode test Step 17- Starting time: {now} UTC\")\n",
    "hex.evt_inPosition.flush()\n",
    "for step in range(5,-1,-1):\n",
    "    #await hex.cmd_move.set_start(x=0,y=0,z=100*step, u=0,v=0,w=0,sync=True)\n",
    "    #Steps made smaller make sure to not go into fault\n",
    "    await hex.cmd_move.set_start(x=0,y=0,z=-50*step, u=0,v=0,w=0,sync=True)\n",
    "    ''' InPosition event is not generated at the moment\n",
    "    while True:\n",
    "        state = await hex.evt_inPosition.next(flush=False, timeout=10)\n",
    "        print(\"hex in position?\",state.inPosition, pd.to_datetime(state.private_sndStamp, unit='s'))\n",
    "        if state.inPosition:\n",
    "            break\n",
    "    '''\n",
    "    "
   ]
  },
  {
   "cell_type": "code",
   "execution_count": 51,
   "metadata": {},
   "outputs": [
    {
     "name": "stdout",
     "output_type": "stream",
     "text": [
      "Current Hexapod position\n",
      "     -0.74       0.03    -250.21       0.00       0.00      -0.00\n"
     ]
    }
   ],
   "source": [
    "await printPosition(hex)"
   ]
  },
  {
   "cell_type": "code",
   "execution_count": 52,
   "metadata": {},
   "outputs": [
    {
     "name": "stdout",
     "output_type": "stream",
     "text": [
      "Current Hexapod position\n",
      "     -0.75       0.03    -250.21       0.00       0.00      -0.00\n",
      "Current Hexapod position\n",
      "     -0.75       0.03    -250.21       0.00       0.00      -0.00\n",
      "Current Hexapod position\n",
      "     -0.76       0.04    -250.21       0.00       0.00      -0.00\n"
     ]
    },
    {
     "ename": "AckError",
     "evalue": "msg='Command failed', ackcmd=(ackcmd private_seqNum=1043327302, ack=<SalRetCode.CMD_FAILED: -302>, error=1, result='Failed: Low-level controller in substate 1.0 instead of <EnabledSubstate.STATIONARY: 0>')",
     "output_type": "error",
     "traceback": [
      "\u001b[0;31m---------------------------------------------------------------------------\u001b[0m",
      "\u001b[0;31mAckError\u001b[0m                                  Traceback (most recent call last)",
      "\u001b[0;32m<ipython-input-52-71ea2319e693>\u001b[0m in \u001b[0;36m<module>\u001b[0;34m\u001b[0m\n\u001b[1;32m      4\u001b[0m     \u001b[0;31m#await hex.cmd_offset.set_start(x=0,y=0,z=100*step, u=0,v=0,w=0,sync=True)\u001b[0m\u001b[0;34m\u001b[0m\u001b[0;34m\u001b[0m\u001b[0;34m\u001b[0m\u001b[0m\n\u001b[1;32m      5\u001b[0m     \u001b[0;31m#Steps made smaller make sure to not go into fault\u001b[0m\u001b[0;34m\u001b[0m\u001b[0;34m\u001b[0m\u001b[0;34m\u001b[0m\u001b[0m\n\u001b[0;32m----> 6\u001b[0;31m     \u001b[0;32mawait\u001b[0m \u001b[0mhex\u001b[0m\u001b[0;34m.\u001b[0m\u001b[0mcmd_move\u001b[0m\u001b[0;34m.\u001b[0m\u001b[0mset_start\u001b[0m\u001b[0;34m(\u001b[0m\u001b[0mx\u001b[0m\u001b[0;34m=\u001b[0m\u001b[0;36m0\u001b[0m\u001b[0;34m,\u001b[0m\u001b[0my\u001b[0m\u001b[0;34m=\u001b[0m\u001b[0;36m0\u001b[0m\u001b[0;34m,\u001b[0m\u001b[0mz\u001b[0m\u001b[0;34m=\u001b[0m\u001b[0;34m-\u001b[0m\u001b[0;36m50\u001b[0m\u001b[0;34m*\u001b[0m\u001b[0mstep\u001b[0m\u001b[0;34m,\u001b[0m \u001b[0mu\u001b[0m\u001b[0;34m=\u001b[0m\u001b[0;36m0\u001b[0m\u001b[0;34m,\u001b[0m\u001b[0mv\u001b[0m\u001b[0;34m=\u001b[0m\u001b[0;36m0\u001b[0m\u001b[0;34m,\u001b[0m\u001b[0mw\u001b[0m\u001b[0;34m=\u001b[0m\u001b[0;36m0\u001b[0m\u001b[0;34m,\u001b[0m\u001b[0msync\u001b[0m\u001b[0;34m=\u001b[0m\u001b[0;32mTrue\u001b[0m\u001b[0;34m)\u001b[0m\u001b[0;34m\u001b[0m\u001b[0;34m\u001b[0m\u001b[0m\n\u001b[0m\u001b[1;32m      7\u001b[0m     ''' InPosition event is not generated at the moment\n\u001b[1;32m      8\u001b[0m     \u001b[0;32mwhile\u001b[0m \u001b[0;32mTrue\u001b[0m\u001b[0;34m:\u001b[0m\u001b[0;34m\u001b[0m\u001b[0;34m\u001b[0m\u001b[0m\n",
      "\u001b[0;32m/opt/lsst/src/ts_salobj/python/lsst/ts/salobj/topics/remote_command.py\u001b[0m in \u001b[0;36mset_start\u001b[0;34m(self, timeout, wait_done, **kwargs)\u001b[0m\n\u001b[1;32m    389\u001b[0m         \"\"\"\n\u001b[1;32m    390\u001b[0m         \u001b[0mself\u001b[0m\u001b[0;34m.\u001b[0m\u001b[0mset\u001b[0m\u001b[0;34m(\u001b[0m\u001b[0;34m**\u001b[0m\u001b[0mkwargs\u001b[0m\u001b[0;34m)\u001b[0m\u001b[0;34m\u001b[0m\u001b[0;34m\u001b[0m\u001b[0m\n\u001b[0;32m--> 391\u001b[0;31m         \u001b[0;32mreturn\u001b[0m \u001b[0;32mawait\u001b[0m \u001b[0mself\u001b[0m\u001b[0;34m.\u001b[0m\u001b[0mstart\u001b[0m\u001b[0;34m(\u001b[0m\u001b[0mtimeout\u001b[0m\u001b[0;34m=\u001b[0m\u001b[0mtimeout\u001b[0m\u001b[0;34m,\u001b[0m \u001b[0mwait_done\u001b[0m\u001b[0;34m=\u001b[0m\u001b[0mwait_done\u001b[0m\u001b[0;34m)\u001b[0m\u001b[0;34m\u001b[0m\u001b[0;34m\u001b[0m\u001b[0m\n\u001b[0m\u001b[1;32m    392\u001b[0m \u001b[0;34m\u001b[0m\u001b[0m\n\u001b[1;32m    393\u001b[0m     \u001b[0;32masync\u001b[0m \u001b[0;32mdef\u001b[0m \u001b[0mstart\u001b[0m\u001b[0;34m(\u001b[0m\u001b[0mself\u001b[0m\u001b[0;34m,\u001b[0m \u001b[0mdata\u001b[0m\u001b[0;34m=\u001b[0m\u001b[0;32mNone\u001b[0m\u001b[0;34m,\u001b[0m \u001b[0mtimeout\u001b[0m\u001b[0;34m=\u001b[0m\u001b[0mDEFAULT_TIMEOUT\u001b[0m\u001b[0;34m,\u001b[0m \u001b[0mwait_done\u001b[0m\u001b[0;34m=\u001b[0m\u001b[0;32mTrue\u001b[0m\u001b[0;34m)\u001b[0m\u001b[0;34m:\u001b[0m\u001b[0;34m\u001b[0m\u001b[0;34m\u001b[0m\u001b[0m\n",
      "\u001b[0;32m/opt/lsst/src/ts_salobj/python/lsst/ts/salobj/topics/remote_command.py\u001b[0m in \u001b[0;36mstart\u001b[0;34m(self, data, timeout, wait_done)\u001b[0m\n\u001b[1;32m    444\u001b[0m         )\n\u001b[1;32m    445\u001b[0m         \u001b[0mself\u001b[0m\u001b[0;34m.\u001b[0m\u001b[0msalinfo\u001b[0m\u001b[0;34m.\u001b[0m\u001b[0m_running_cmds\u001b[0m\u001b[0;34m[\u001b[0m\u001b[0mseq_num\u001b[0m\u001b[0;34m]\u001b[0m \u001b[0;34m=\u001b[0m \u001b[0mcmd_info\u001b[0m\u001b[0;34m\u001b[0m\u001b[0;34m\u001b[0m\u001b[0m\n\u001b[0;32m--> 446\u001b[0;31m         \u001b[0;32mreturn\u001b[0m \u001b[0;32mawait\u001b[0m \u001b[0mcmd_info\u001b[0m\u001b[0;34m.\u001b[0m\u001b[0mnext_ackcmd\u001b[0m\u001b[0;34m(\u001b[0m\u001b[0mtimeout\u001b[0m\u001b[0;34m=\u001b[0m\u001b[0mtimeout\u001b[0m\u001b[0;34m)\u001b[0m\u001b[0;34m\u001b[0m\u001b[0;34m\u001b[0m\u001b[0m\n\u001b[0m",
      "\u001b[0;32m/opt/lsst/src/ts_salobj/python/lsst/ts/salobj/topics/remote_command.py\u001b[0m in \u001b[0;36mnext_ackcmd\u001b[0;34m(self, timeout)\u001b[0m\n\u001b[1;32m    181\u001b[0m             \u001b[0mackcmd\u001b[0m \u001b[0;34m=\u001b[0m \u001b[0;32mawait\u001b[0m \u001b[0mself\u001b[0m\u001b[0;34m.\u001b[0m\u001b[0m_wait_task\u001b[0m\u001b[0;34m\u001b[0m\u001b[0;34m\u001b[0m\u001b[0m\n\u001b[1;32m    182\u001b[0m             \u001b[0;32mif\u001b[0m \u001b[0mackcmd\u001b[0m\u001b[0;34m.\u001b[0m\u001b[0mack\u001b[0m \u001b[0;32min\u001b[0m \u001b[0mself\u001b[0m\u001b[0;34m.\u001b[0m\u001b[0mfailed_ack_codes\u001b[0m\u001b[0;34m:\u001b[0m\u001b[0;34m\u001b[0m\u001b[0;34m\u001b[0m\u001b[0m\n\u001b[0;32m--> 183\u001b[0;31m                 \u001b[0;32mraise\u001b[0m \u001b[0mbase\u001b[0m\u001b[0;34m.\u001b[0m\u001b[0mAckError\u001b[0m\u001b[0;34m(\u001b[0m\u001b[0mmsg\u001b[0m\u001b[0;34m=\u001b[0m\u001b[0;34m\"Command failed\"\u001b[0m\u001b[0;34m,\u001b[0m \u001b[0mackcmd\u001b[0m\u001b[0;34m=\u001b[0m\u001b[0mackcmd\u001b[0m\u001b[0;34m)\u001b[0m\u001b[0;34m\u001b[0m\u001b[0;34m\u001b[0m\u001b[0m\n\u001b[0m\u001b[1;32m    184\u001b[0m             \u001b[0;32mreturn\u001b[0m \u001b[0mackcmd\u001b[0m\u001b[0;34m\u001b[0m\u001b[0;34m\u001b[0m\u001b[0m\n\u001b[1;32m    185\u001b[0m         \u001b[0;32mexcept\u001b[0m \u001b[0masyncio\u001b[0m\u001b[0;34m.\u001b[0m\u001b[0mTimeoutError\u001b[0m\u001b[0;34m:\u001b[0m\u001b[0;34m\u001b[0m\u001b[0;34m\u001b[0m\u001b[0m\n",
      "\u001b[0;31mAckError\u001b[0m: msg='Command failed', ackcmd=(ackcmd private_seqNum=1043327302, ack=<SalRetCode.CMD_FAILED: -302>, error=1, result='Failed: Low-level controller in substate 1.0 instead of <EnabledSubstate.STATIONARY: 0>')"
     ]
    }
   ],
   "source": [
    "hex.evt_inPosition.flush()\n",
    "for step in [1,2,3,-3,-2,-1]:\n",
    "    #according to XML, units are micron and degree\n",
    "    #await hex.cmd_offset.set_start(x=0,y=0,z=100*step, u=0,v=0,w=0,sync=True)\n",
    "    #Steps made smaller make sure to not go into fault\n",
    "    await hex.cmd_move.set_start(x=0,y=0,z=-50*step, u=0,v=0,w=0,sync=True)\n",
    "    ''' InPosition event is not generated at the moment\n",
    "    while True:\n",
    "        state = await hex.evt_inPosition.next(flush=False, timeout=10)\n",
    "        print(\"hex in position?\",state.inPosition, pd.to_datetime(state.private_sndStamp, unit='s'))\n",
    "        if state.inPosition:\n",
    "            break\n",
    "    ''' \n",
    "    await printPosition(hex)\n",
    "    \n",
    "    end = Time(datetime.now(), scale='tai')"
   ]
  },
  {
   "cell_type": "code",
   "execution_count": 53,
   "metadata": {},
   "outputs": [],
   "source": [
    "start = end - timedelta(seconds=600)\n",
    "df = await client.select_time_series('lsst.sal.MTHexapod.application', '*', start, end, csc_index)\n",
    "idx=df.MTHexapodID==1\n",
    "df = df[idx]"
   ]
  },
  {
   "cell_type": "code",
   "execution_count": 54,
   "metadata": {},
   "outputs": [
    {
     "data": {
      "image/png": "[encoded data removed]",
      "text/plain": [
       "<Figure size 1368x216 with 1 Axes>"
      ]
     },
     "metadata": {
      "needs_background": "light"
     },
     "output_type": "display_data"
    }
   ],
   "source": [
    "fig, ax = plt.subplots(figsize=(19,3))\n",
    "plt.plot(df.position2)\n",
    "plt.grid()"
   ]
  },
  {
   "cell_type": "markdown",
   "metadata": {},
   "source": [
    "### When the LUT is enabled"
   ]
  },
  {
   "cell_type": "code",
   "execution_count": 70,
   "metadata": {},
   "outputs": [
    {
     "name": "stdout",
     "output_type": "stream",
     "text": [
      "compsensation mode enabled? True\n"
     ]
    }
   ],
   "source": [
    "await hex.cmd_setCompensationMode.set_start(enable=1, timeout=10)\n",
    "lutMode = await hex.evt_compensationMode.aget(timeout=10)\n",
    "print(\"compsensation mode enabled?\",lutMode.enabled)"
   ]
  },
  {
   "cell_type": "code",
   "execution_count": 71,
   "metadata": {},
   "outputs": [
    {
     "name": "stdout",
     "output_type": "stream",
     "text": [
      "compsensation mode enabled? False\n"
     ]
    }
   ],
   "source": [
    "#Switch compensation mode off:\n",
    "await hex.cmd_setCompensationMode.set_start(enable=0, timeout=10)\n",
    "lutMode = await hex.evt_compensationMode.aget(timeout=10)\n",
    "print(\"compsensation mode enabled?\",lutMode.enabled)"
   ]
  },
  {
   "cell_type": "code",
   "execution_count": 58,
   "metadata": {},
   "outputs": [
    {
     "name": "stdout",
     "output_type": "stream",
     "text": [
      "Current Hexapod position\n",
      "     -0.30      -0.25    -150.17      -0.00       0.00      -0.00\n"
     ]
    }
   ],
   "source": [
    "await printPosition(hex)"
   ]
  },
  {
   "cell_type": "code",
   "execution_count": 59,
   "metadata": {},
   "outputs": [
    {
     "name": "stdout",
     "output_type": "stream",
     "text": [
      "Uncompensated position\n",
      "      0.00       0.00    -150.00       0.00       0.00       0.00\n",
      "Compensated position\n",
      "      0.00       0.00    -150.00       0.00       0.00       0.00\n"
     ]
    }
   ],
   "source": [
    "async def printUncompensatedAndCompensated(hex):\n",
    "    posU = await hex.evt_uncompensatedPosition.aget(timeout=10.)\n",
    "    print('Uncompensated position')\n",
    "    print(\" \".join(f\"{p:10.2f}\" for p in [getattr(posU, i) for i in 'xyzuvw']))\n",
    "    posC = await hex.evt_compensatedPosition.aget(timeout=10.)\n",
    "    print('Compensated position')\n",
    "    print(\" \".join(f\"{p:10.2f}\" for p in [getattr(posC, i) for i in 'xyzuvw']))\n",
    "\n",
    "await printUncompensatedAndCompensated(hex)"
   ]
  },
  {
   "cell_type": "markdown",
   "metadata": {},
   "source": [
    "The inputs to the LUT are currently -\n",
    "* elevation (from mount telemetry) \n",
    "* temperature (mount truss? not implemented yet)\n",
    "* azimuth (not implemented)\n",
    "* rotator angle (not implemented)"
   ]
  },
  {
   "cell_type": "code",
   "execution_count": 60,
   "metadata": {},
   "outputs": [],
   "source": [
    "#Mount needs to be prepared\n",
    "#await salobj.set_summary_state(mount, salobj.State.ENABLED)"
   ]
  },
  {
   "cell_type": "code",
   "execution_count": 61,
   "metadata": {},
   "outputs": [],
   "source": [
    "#Only works when mount or mount simulator are active.Best on domain 1\n",
    "#mountAngle = await mount.tel_elevation.aget(timeout=10.)\n",
    "#print(\"mount elevation angle\", mountAngle.angleActual)\n",
    "#elev = mountAngle.angleActual"
   ]
  },
  {
   "cell_type": "code",
   "execution_count": 62,
   "metadata": {},
   "outputs": [],
   "source": [
    "#To set the elevation for a controller\n",
    "#mount.evt_target.set_put(elevation=45)"
   ]
  },
  {
   "cell_type": "code",
   "execution_count": 63,
   "metadata": {},
   "outputs": [],
   "source": [
    "end = Time(datetime.now())\n",
    "start = end - timedelta(hours=3)\n",
    "#logeventTarget = await client.select_time_series('lsst.sal.MTMount.logevent_target', '*', start.tai, end.tai)\n",
    "#With this we can get the elevation when a controller is running\n",
    "MTMountElevation = await client.select_time_series('lsst.sal.MTMount.elevation', '*', start.tai, end.tai)\n",
    "MTMountAzimuth = await client.select_time_series('lsst.sal.MTMount.azimuth', '*', start.tai, end.tai)"
   ]
  },
  {
   "cell_type": "code",
   "execution_count": 64,
   "metadata": {},
   "outputs": [
    {
     "name": "stdout",
     "output_type": "stream",
     "text": [
      "Mount controller elevation from the EFD:\n"
     ]
    },
    {
     "data": {
      "text/plain": [
       "2021-03-25 14:46:27.478000+00:00    89.5\n",
       "2021-03-25 14:46:28.480000+00:00    89.5\n",
       "2021-03-25 14:46:29.484000+00:00    89.5\n",
       "2021-03-25 14:46:30.491000+00:00    89.5\n",
       "2021-03-25 14:46:31.493000+00:00    89.5\n",
       "                                    ... \n",
       "2021-03-25 17:46:22.006000+00:00    86.0\n",
       "2021-03-25 17:46:23.009000+00:00    86.0\n",
       "2021-03-25 17:46:24.012000+00:00    86.0\n",
       "2021-03-25 17:46:25.017000+00:00    86.0\n",
       "2021-03-25 17:46:26.020000+00:00    86.0\n",
       "Name: actualPosition, Length: 4583, dtype: float64"
      ]
     },
     "execution_count": 64,
     "metadata": {},
     "output_type": "execute_result"
    }
   ],
   "source": [
    "#get the elevation into a variable\n",
    "elev=MTMountElevation.actualPosition\n",
    "print(\"Mount controller elevation from the EFD:\")\n",
    "elev"
   ]
  },
  {
   "cell_type": "code",
   "execution_count": 65,
   "metadata": {},
   "outputs": [
    {
     "name": "stdout",
     "output_type": "stream",
     "text": [
      "Mount controller azimuth from the EFD:\n"
     ]
    },
    {
     "data": {
      "text/plain": [
       "2021-03-25 16:27:08.768000+00:00    45\n",
       "2021-03-25 16:27:09.773000+00:00    45\n",
       "2021-03-25 16:27:10.777000+00:00    45\n",
       "2021-03-25 16:27:11.780000+00:00    45\n",
       "2021-03-25 16:27:12.784000+00:00    45\n",
       "                                    ..\n",
       "2021-03-25 17:46:22.007000+00:00    45\n",
       "2021-03-25 17:46:23.009000+00:00    45\n",
       "2021-03-25 17:46:24.013000+00:00    45\n",
       "2021-03-25 17:46:25.017000+00:00    45\n",
       "2021-03-25 17:46:26.020000+00:00    45\n",
       "Name: actualPosition, Length: 2427, dtype: int64"
      ]
     },
     "execution_count": 65,
     "metadata": {},
     "output_type": "execute_result"
    }
   ],
   "source": [
    "azimuth = MTMountAzimuth.actualPosition\n",
    "print(\"Mount controller azimuth from the EFD:\")\n",
    "azimuth"
   ]
  },
  {
   "cell_type": "code",
   "execution_count": 66,
   "metadata": {},
   "outputs": [],
   "source": [
    "elevationFixed=86.0"
   ]
  },
  {
   "cell_type": "code",
   "execution_count": 67,
   "metadata": {},
   "outputs": [],
   "source": [
    "LUTfile = '%s/notebooks/ts_config_mttcs/MTHexapod/v1/default.yaml'%(os.environ[\"HOME\"])\n",
    "with open(LUTfile, 'r') as stream:\n",
    "    aa = yaml.safe_load(stream)\n",
    "if hex.salinfo.index == 1:\n",
    "    elevCoeff = aa['camera_config']['elevation_coeffs']\n",
    "    tCoeff = aa['camera_config']['temperature_coeffs']\n",
    "elif hex.salinfo.index == 2:\n",
    "    elevCoeff = aa['m2_config']['elevation_coeffs']\n",
    "    tCoeff = aa['m2_config']['temperature_coeffs']"
   ]
  },
  {
   "cell_type": "code",
   "execution_count": 68,
   "metadata": {},
   "outputs": [
    {
     "name": "stdout",
     "output_type": "stream",
     "text": [
      "Predicted LUT compensation:\n",
      "     -0.91    -560.67     293.99      -0.02       0.00       0.00\n",
      "Uncompensated position\n",
      "      0.00       0.00    -150.00       0.00       0.00       0.00\n",
      "Compensated position\n",
      "      0.00       0.00    -150.00       0.00       0.00       0.00\n"
     ]
    }
   ],
   "source": [
    "async def printPredictedComp(elevCoeff, elev):\n",
    "    '''\n",
    "    This function deals with the elevation component of the LUT only, for now.\n",
    "    We will add temperature, azimuth, and rotator angle when they are implemented.\n",
    "    '''\n",
    "    pred = []\n",
    "    print('Predicted LUT compensation:')\n",
    "    for i in range(6):\n",
    "        coeff = elevCoeff[i] #starts with C0\n",
    "        mypoly = np.polynomial.Polynomial(coeff)\n",
    "        #mypoly = np.poly1d(coeff[::-1]) #if you use poly1d, be aware: it needs C5 first\n",
    "        pred.append(mypoly(elev))\n",
    "    print(\" \".join(f\"{p:10.2f}\" for p in pred))\n",
    "await printPredictedComp(elevCoeff, elevationFixed)\n",
    "await printUncompensatedAndCompensated(hex)"
   ]
  },
  {
   "cell_type": "markdown",
   "metadata": {},
   "source": [
    "### Do a slew, then check the LUT again"
   ]
  },
  {
   "cell_type": "code",
   "execution_count": null,
   "metadata": {},
   "outputs": [],
   "source": [
    "location = EarthLocation.from_geodetic(lon=-70.747698*u.deg,\n",
    "                                       lat=-30.244728*u.deg,\n",
    "                                       height=2663.0*u.m)\n",
    "print(\"Current elevation angle = \", elev)"
   ]
  },
  {
   "cell_type": "code",
   "execution_count": null,
   "metadata": {},
   "outputs": [],
   "source": [
    "now = datetime.now()\n",
    "print(\"Start to point the telescope\", now)\n",
    "\n",
    "alt = 80. * u.deg\n",
    "az = 0. * u.deg\n",
    "rot_tel = Angle(0, unit= u.deg) "
   ]
  },
  {
   "cell_type": "code",
   "execution_count": null,
   "metadata": {},
   "outputs": [],
   "source": [
    "target_name=\"TMA motion test\"\n",
    "time_data = await ptg.tel_timeAndDate.next(flush=True, timeout=2)\n",
    "curr_time_ptg = Time(time_data.mjd, format=\"mjd\", scale=\"tai\")\n",
    "time_err = curr_time_ptg - Time.now()\n",
    "print(f\"Time error={time_err.sec:0.2f} sec\")\n",
    "\n",
    "print(curr_time_ptg.tai.value)\n",
    "\n",
    "cmd_elaz = AltAz(alt=alt, az=az, \n",
    "                obstime=curr_time_ptg.tai, \n",
    "                location=location)\n",
    "cmd_radec = cmd_elaz.transform_to(ICRS)\n",
    "# Calculating the other parameters     \n",
    "rot_pa = rot_tel"
   ]
  },
  {
   "cell_type": "code",
   "execution_count": null,
   "metadata": {},
   "outputs": [],
   "source": [
    "#The pointing component is commanding the mount directly\n",
    "await ptg.cmd_raDecTarget.set_start(\n",
    "    targetName=target_name,\n",
    "    frame=ATPtg.CoordFrame.ICRS,\n",
    "    epoch=2000,  # should be ignored: no parallax or proper motion\n",
    "    equinox=2000,  # should be ignored for ICRS\n",
    "    ra=cmd_radec.ra.hour,\n",
    "    declination=cmd_radec.dec.deg,\n",
    "    parallax=0,\n",
    "    pmRA=0,\n",
    "    pmDec=0,\n",
    "    rv=0,\n",
    "    dRA=0,\n",
    "    dDec=0,\n",
    "    rotPA=rot_pa.deg-180,\n",
    "    rotFrame=ATPtg.RotFrame.FIXED,\n",
    "    rotMode=ATPtg.RotMode.FIELD,\n",
    "    timeout=10\n",
    ")\n",
    "\n",
    "print(\" Now, Waiting 30s\")\n",
    "await asyncio.sleep(30.)\n",
    "print(\"System Ready\")"
   ]
  },
  {
   "cell_type": "code",
   "execution_count": null,
   "metadata": {},
   "outputs": [],
   "source": [
    "mountStatus = await mount.evt_axesInPosition.aget(timeout=5.)\n",
    "rotStatus = await rot.evt_inPosition.aget(timeout=5.)\n",
    "print('Are we tracking?', mountStatus.elevation , mountStatus.azimuth , rotStatus.inPosition)"
   ]
  },
  {
   "cell_type": "code",
   "execution_count": null,
   "metadata": {},
   "outputs": [],
   "source": [
    "await ptg.cmd_stopTracking.set_start(timeout=5.)"
   ]
  },
  {
   "cell_type": "markdown",
   "metadata": {},
   "source": [
    "### check angle and LUT after the slew"
   ]
  },
  {
   "cell_type": "code",
   "execution_count": null,
   "metadata": {},
   "outputs": [],
   "source": [
    "mountAngle = await mount.tel_elevation.aget(timeout=10.)\n",
    "print(\"mount elevation angle\", mountAngle.angleActual)\n",
    "elev = mountAngle.angleActual"
   ]
  },
  {
   "cell_type": "code",
   "execution_count": null,
   "metadata": {},
   "outputs": [],
   "source": [
    "await printPosition(hex)\n",
    "await printUncompensatedAndCompensated(hex)\n",
    "await printPredictedComp(elevCoeff, elev)"
   ]
  },
  {
   "cell_type": "markdown",
   "metadata": {},
   "source": [
    "### Check if the telescope is in tracking mode. If yes, need to stop stacking. \n",
    "The alternative is to check \"MT Mount status\" dash board on Chronograf. Make sure there are three \"False\"."
   ]
  },
  {
   "cell_type": "code",
   "execution_count": null,
   "metadata": {},
   "outputs": [],
   "source": [
    "mountStatus = await mount.evt_axesInPosition.aget(timeout=5.)\n",
    "rotStatus = await rot.evt_inPosition.aget(timeout=5.)\n",
    "trackingStatus = mountStatus.elevation and mountStatus.azimuth and rotStatus.inPosition\n",
    "print('Are we tracking?', trackingStatus)"
   ]
  },
  {
   "cell_type": "code",
   "execution_count": null,
   "metadata": {},
   "outputs": [],
   "source": [
    "await ptg.cmd_stopTracking.set_start(timeout=5.)"
   ]
  },
  {
   "cell_type": "code",
   "execution_count": null,
   "metadata": {},
   "outputs": [],
   "source": [
    "#Stop the MTMount controller\n",
    "await mount.close()"
   ]
  },
  {
   "cell_type": "code",
   "execution_count": null,
   "metadata": {},
   "outputs": [],
   "source": []
  }
 ],
 "metadata": {
  "kernelspec": {
   "display_name": "LSST",
   "language": "python",
   "name": "lsst"
  },
  "language_info": {
   "codemirror_mode": {
    "name": "ipython",
    "version": 3
   },
   "file_extension": ".py",
   "mimetype": "text/x-python",
   "name": "python",
   "nbconvert_exporter": "python",
   "pygments_lexer": "ipython3",
   "version": "3.8.8"
  }
 },
 "nbformat": 4,
 "nbformat_minor": 4
}
