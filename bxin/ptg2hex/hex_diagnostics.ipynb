{
 "cells": [
  {
   "cell_type": "markdown",
   "metadata": {},
   "source": [
    "## This notebook check the hexapod state transitions and move/offset commands\n",
    "## It also checks the LUT against the input polynomials, before and after a slew\n",
    "\n",
    "This notebook works with both hexapods.\n",
    "\n",
    "To switch between the hexapods, change the cell below."
   ]
  },
  {
   "cell_type": "code",
   "execution_count": 1,
   "metadata": {},
   "outputs": [],
   "source": [
    "hexIdx = 1 #camera hexapod\n",
    "#hexIdx = 2 #M2 hexapod"
   ]
  },
  {
   "cell_type": "code",
   "execution_count": 2,
   "metadata": {},
   "outputs": [],
   "source": [
    "from lsst.ts import salobj\n",
    "import asyncio\n",
    "import os\n",
    "import yaml\n",
    "\n",
    "import numpy as np\n",
    "from matplotlib import pyplot as plt\n",
    "from astropy.time import Time\n",
    "from datetime import datetime, timedelta\n",
    "import pandas as pd\n",
    "\n",
    "from lsst.ts.idl.enums import ATPtg\n",
    "from astropy.coordinates import AltAz, ICRS, EarthLocation, Angle, FK5\n",
    "import astropy.units as u"
   ]
  },
  {
   "cell_type": "code",
   "execution_count": 3,
   "metadata": {},
   "outputs": [
    {
     "name": "stdout",
     "output_type": "stream",
     "text": [
      "file:///home/hdrass/WORK/ts_ddsconfig/config/ospl-sp.xml\n"
     ]
    }
   ],
   "source": [
    "import os\n",
    "print(os.environ[\"OSPL_URI\"])\n",
    "if os.environ.get(\"LSST_DDS_ALIGNER\", \"false\") != \"false\":\n",
    "    print(\"LSST_DDS_ALIGNER is mis-configured\")"
   ]
  },
  {
   "cell_type": "code",
   "execution_count": 4,
   "metadata": {},
   "outputs": [
    {
     "name": "stdout",
     "output_type": "stream",
     "text": [
      "time to start is 0:00:22.733806 [s]\n"
     ]
    },
    {
     "name": "stderr",
     "output_type": "stream",
     "text": [
      "rotation DDS read queue is filling: 64 of 100 elements\n",
      "motors DDS read queue is full (100 elements); data may be lost\n",
      "electrical DDS read queue is full (100 elements); data may be lost\n",
      "electrical DDS read queue is filling: 10 of 100 elements\n",
      "rotation DDS read queue is filling: 10 of 100 elements\n",
      "rotation DDS read queue is filling: 13 of 100 elements\n",
      "target DDS read queue is filling: 13 of 100 elements\n",
      "motors DDS read queue is filling: 75 of 100 elements\n",
      "target DDS read queue is filling: 81 of 100 elements\n",
      "electrical DDS read queue is filling: 64 of 100 elements\n",
      "summaryState DDS read queue is filling: 21 of 100 elements\n",
      "rotation DDS read queue is filling: 64 of 100 elements\n",
      "motors DDS read queue is filling: 12 of 100 elements\n",
      "electrical DDS read queue is filling: 17 of 100 elements\n",
      "motors DDS read queue is filling: 12 of 100 elements\n",
      "rotation DDS read queue is filling: 10 of 100 elements\n",
      "motors DDS read queue is filling: 18 of 100 elements\n",
      "electrical DDS read queue is filling: 20 of 100 elements\n",
      "rotation DDS read queue is filling: 12 of 100 elements\n",
      "rotation DDS read queue is filling: 13 of 100 elements\n",
      "motors DDS read queue is filling: 19 of 100 elements\n",
      "electrical DDS read queue is filling: 12 of 100 elements\n",
      "rotation DDS read queue is filling: 10 of 100 elements\n",
      "motors DDS read queue is filling: 18 of 100 elements\n",
      "rotation DDS read queue is filling: 15 of 100 elements\n",
      "motors DDS read queue is filling: 13 of 100 elements\n",
      "motors DDS read queue is filling: 10 of 100 elements\n",
      "electrical DDS read queue is filling: 18 of 100 elements\n",
      "rotation DDS read queue is filling: 22 of 100 elements\n",
      "electrical DDS read queue is filling: 10 of 100 elements\n",
      "motors DDS read queue is filling: 10 of 100 elements\n",
      "rotation DDS read queue is filling: 15 of 100 elements\n",
      "electrical DDS read queue is filling: 10 of 100 elements\n",
      "rotation DDS read queue is filling: 10 of 100 elements\n",
      "electrical DDS read queue is filling: 11 of 100 elements\n",
      "electrical DDS read queue is filling: 10 of 100 elements\n",
      "rotation DDS read queue is filling: 10 of 100 elements\n",
      "motors DDS read queue is filling: 10 of 100 elements\n",
      "motors DDS read queue is filling: 10 of 100 elements\n",
      "motors DDS read queue is filling: 10 of 100 elements\n",
      "rotation DDS read queue is filling: 15 of 100 elements\n",
      "rotation DDS read queue is filling: 10 of 100 elements\n",
      "motors DDS read queue is filling: 15 of 100 elements\n",
      "electrical DDS read queue is filling: 10 of 100 elements\n",
      "rotation DDS read queue is filling: 10 of 100 elements\n",
      "electrical DDS read queue is filling: 10 of 100 elements\n",
      "motors DDS read queue is filling: 10 of 100 elements\n",
      "rotation DDS read queue is filling: 17 of 100 elements\n",
      "electrical DDS read queue is filling: 10 of 100 elements\n",
      "rotation DDS read queue is filling: 10 of 100 elements\n",
      "electrical DDS read queue is filling: 10 of 100 elements\n",
      "rotation DDS read queue is filling: 10 of 100 elements\n",
      "electrical DDS read queue is filling: 10 of 100 elements\n",
      "rotation DDS read queue is filling: 10 of 100 elements\n",
      "electrical DDS read queue is filling: 11 of 100 elements\n",
      "motors DDS read queue is filling: 13 of 100 elements\n",
      "electrical DDS read queue is filling: 10 of 100 elements\n",
      "motors DDS read queue is filling: 14 of 100 elements\n",
      "motors DDS read queue is filling: 10 of 100 elements\n",
      "electrical DDS read queue is filling: 13 of 100 elements\n",
      "electrical DDS read queue is filling: 11 of 100 elements\n",
      "motors DDS read queue is filling: 10 of 100 elements\n",
      "rotation DDS read queue is filling: 11 of 100 elements\n",
      "electrical DDS read queue is filling: 10 of 100 elements\n",
      "motors DDS read queue is filling: 10 of 100 elements\n",
      "electrical DDS read queue is filling: 10 of 100 elements\n",
      "motors DDS read queue is filling: 10 of 100 elements\n",
      "rotation DDS read queue is filling: 10 of 100 elements\n",
      "electrical DDS read queue is filling: 23 of 100 elements\n",
      "motors DDS read queue is filling: 10 of 100 elements\n",
      "electrical DDS read queue is filling: 10 of 100 elements\n",
      "rotation DDS read queue is filling: 10 of 100 elements\n",
      "electrical DDS read queue is filling: 11 of 100 elements\n",
      "rotation DDS read queue is filling: 10 of 100 elements\n",
      "electrical DDS read queue is filling: 10 of 100 elements\n",
      "motors DDS read queue is filling: 24 of 100 elements\n",
      "electrical DDS read queue is filling: 10 of 100 elements\n",
      "motors DDS read queue is filling: 11 of 100 elements\n",
      "rotation DDS read queue is filling: 11 of 100 elements\n",
      "electrical DDS read queue is filling: 23 of 100 elements\n",
      "motors DDS read queue is filling: 15 of 100 elements\n",
      "rotation DDS read queue is filling: 10 of 100 elements\n",
      "motors DDS read queue is filling: 10 of 100 elements\n",
      "motors DDS read queue is filling: 10 of 100 elements\n",
      "electrical DDS read queue is filling: 10 of 100 elements\n",
      "electrical DDS read queue is filling: 10 of 100 elements\n",
      "motors DDS read queue is filling: 20 of 100 elements\n",
      "rotation DDS read queue is filling: 21 of 100 elements\n",
      "motors DDS read queue is filling: 10 of 100 elements\n",
      "rotation DDS read queue is filling: 10 of 100 elements\n",
      "motors DDS read queue is filling: 10 of 100 elements\n",
      "electrical DDS read queue is filling: 12 of 100 elements\n",
      "motors DDS read queue is filling: 14 of 100 elements\n",
      "rotation DDS read queue is filling: 10 of 100 elements\n",
      "motors DDS read queue is filling: 10 of 100 elements\n",
      "rotation DDS read queue is filling: 10 of 100 elements\n",
      "motors DDS read queue is filling: 10 of 100 elements\n",
      "electrical DDS read queue is filling: 10 of 100 elements\n",
      "electrical DDS read queue is filling: 11 of 100 elements\n",
      "motors DDS read queue is filling: 10 of 100 elements\n",
      "rotation DDS read queue is filling: 26 of 100 elements\n",
      "electrical DDS read queue is filling: 10 of 100 elements\n",
      "rotation DDS read queue is filling: 10 of 100 elements\n",
      "motors DDS read queue is filling: 10 of 100 elements\n",
      "rotation DDS read queue is filling: 14 of 100 elements\n",
      "electrical DDS read queue is filling: 11 of 100 elements\n",
      "rotation DDS read queue is filling: 10 of 100 elements\n",
      "motors DDS read queue is filling: 10 of 100 elements\n",
      "rotation DDS read queue is filling: 10 of 100 elements\n",
      "rotation DDS read queue is filling: 10 of 100 elements\n",
      "electrical DDS read queue is filling: 13 of 100 elements\n",
      "motors DDS read queue is filling: 15 of 100 elements\n",
      "motors DDS read queue is filling: 10 of 100 elements\n",
      "rotation DDS read queue is filling: 14 of 100 elements\n",
      "rotation DDS read queue is filling: 12 of 100 elements\n",
      "motors DDS read queue is filling: 10 of 100 elements\n",
      "rotation DDS read queue is filling: 10 of 100 elements\n",
      "electrical DDS read queue is filling: 10 of 100 elements\n",
      "motors DDS read queue is filling: 10 of 100 elements\n",
      "electrical DDS read queue is filling: 10 of 100 elements\n",
      "rotation DDS read queue is filling: 10 of 100 elements\n",
      "motors DDS read queue is filling: 10 of 100 elements\n",
      "electrical DDS read queue is filling: 10 of 100 elements\n",
      "motors DDS read queue is filling: 10 of 100 elements\n",
      "motors DDS read queue is filling: 10 of 100 elements\n",
      "rotation DDS read queue is filling: 11 of 100 elements\n",
      "electrical DDS read queue is filling: 23 of 100 elements\n",
      "electrical DDS read queue is filling: 10 of 100 elements\n",
      "electrical DDS read queue is filling: 10 of 100 elements\n",
      "motors DDS read queue is filling: 12 of 100 elements\n",
      "rotation DDS read queue is filling: 12 of 100 elements\n",
      "electrical DDS read queue is filling: 10 of 100 elements\n",
      "motors DDS read queue is filling: 11 of 100 elements\n",
      "electrical DDS read queue is filling: 10 of 100 elements\n",
      "electrical DDS read queue is filling: 10 of 100 elements\n",
      "electrical DDS read queue is filling: 10 of 100 elements\n",
      "motors DDS read queue is filling: 16 of 100 elements\n",
      "rotation DDS read queue is filling: 16 of 100 elements\n",
      "electrical DDS read queue is filling: 10 of 100 elements\n",
      "motors DDS read queue is filling: 11 of 100 elements\n",
      "rotation DDS read queue is filling: 13 of 100 elements\n",
      "electrical DDS read queue is filling: 10 of 100 elements\n",
      "motors DDS read queue is filling: 10 of 100 elements\n",
      "motors DDS read queue is filling: 10 of 100 elements\n",
      "rotation DDS read queue is filling: 10 of 100 elements\n",
      "electrical DDS read queue is filling: 24 of 100 elements\n",
      "motors DDS read queue is filling: 11 of 100 elements\n",
      "motors DDS read queue is filling: 10 of 100 elements\n",
      "electrical DDS read queue is filling: 10 of 100 elements\n"
     ]
    }
   ],
   "source": [
    "start_time = datetime.now()\n",
    "script = salobj.Controller(\"Script\", index=1)\n",
    "\n",
    "#wait 10 second may help with DDS problems; closing all other kernels may help too\n",
    "#This is to avoid a race condition between when the domain register the master and the readers are registered.\n",
    "await asyncio.sleep(10) \n",
    "\n",
    "ptg = salobj.Remote(script.domain, \"MTPtg\")\n",
    "hex = salobj.Remote(script.domain, \"MTHexapod\", index=hexIdx) #1 for camera hexapod and 2 for m2 hexapod\n",
    "mount = salobj.Remote(script.domain, \"MTMount\")\n",
    "rot = salobj.Remote(script.domain, \"MTRotator\")\n",
    "print(f'time to start is {datetime.now() - start_time} [s]')"
   ]
  },
  {
   "cell_type": "code",
   "execution_count": null,
   "metadata": {},
   "outputs": [],
   "source": [
    "await asyncio.gather(ptg.start_task,\n",
    "                     mount.start_task,\n",
    "                     script.start_task, #                     \n",
    "                     rot.start_task,\n",
    "                     hex.start_task)"
   ]
  },
  {
   "cell_type": "code",
   "execution_count": null,
   "metadata": {},
   "outputs": [],
   "source": [
    "#As long as you get something its OK. we dont' care about h.heartbeat\n",
    "await hex.evt_heartbeat.next(flush=True, timeout=5)"
   ]
  },
  {
   "cell_type": "code",
   "execution_count": null,
   "metadata": {},
   "outputs": [],
   "source": [
    "#Check some configurations\n",
    "hexConfig = await hex.evt_configuration.aget(timeout=10.)\n",
    "print(\"pivot at (%.0f, %.0f, %.0f) microns \"%(hexConfig.pivotX, hexConfig.pivotY, hexConfig.pivotZ))\n",
    "print(\"maxXY = \", hexConfig.maxXY, \"microns, maxZ= \", hexConfig.maxZ, \" microns\")\n",
    "print(\"maxUV = \", hexConfig.maxUV, \"deg, maxW= \", hexConfig.maxW, \" deg\")"
   ]
  },
  {
   "cell_type": "markdown",
   "metadata": {},
   "source": [
    "### test state transition. If hex is already enabled, disable then enable it."
   ]
  },
  {
   "cell_type": "code",
   "execution_count": null,
   "metadata": {},
   "outputs": [],
   "source": [
    "state = await hex.evt_summaryState.aget(timeout=5)\n",
    "print('staring with: hex state', salobj.State(state.summaryState), pd.to_datetime(state.private_sndStamp, unit='s'))\n",
    "if state.summaryState == 2:\n",
    "    await salobj.set_summary_state(hex, salobj.State.DISABLED) #disable hex\n",
    "await salobj.set_summary_state(remote=hex, state=salobj.State.STANDBY)\n",
    "await salobj.set_summary_state(hex, salobj.State.ENABLED, settingsToApply=\"default\") #enable hex"
   ]
  },
  {
   "cell_type": "code",
   "execution_count": null,
   "metadata": {},
   "outputs": [],
   "source": [
    "from lsst_efd_client import EfdClient\n",
    "\n",
    "client = EfdClient('ncsa_teststand_efd')\n",
    "csc_index = 1\n",
    "end = Time(datetime.now(), scale='tai')\n",
    "start = end - timedelta(hours=1)\n",
    "while True: #may need to wait a few seconds before event shows up in EFD\n",
    "    dfe = await client.select_time_series('lsst.sal.MTHexapod.logevent_summaryState', '*', start, end, csc_index)\n",
    "    if len(dfe)>0:\n",
    "        break\n",
    "#to check messages in Kafka, go to https://lsst-kafka-0-nts-efd.ncsa.illinois.edu/\n",
    "#we cannot get time series data from DDS. We have to query the EFD"
   ]
  },
  {
   "cell_type": "code",
   "execution_count": null,
   "metadata": {},
   "outputs": [],
   "source": [
    "dfe"
   ]
  },
  {
   "cell_type": "markdown",
   "metadata": {},
   "source": [
    "### check the behavior when LUT is disabled."
   ]
  },
  {
   "cell_type": "code",
   "execution_count": null,
   "metadata": {},
   "outputs": [],
   "source": [
    "lutMode = await hex.evt_compensationMode.aget(timeout=10)\n",
    "print(\"compsensation mode enabled?\",lutMode.enabled)"
   ]
  },
  {
   "cell_type": "code",
   "execution_count": null,
   "metadata": {},
   "outputs": [],
   "source": [
    "async def printPosition(hex):\n",
    "    pos = await hex.tel_application.next(flush=True, timeout=10.)\n",
    "    print(\"Current Hexapod position\")\n",
    "    print(\" \".join(f\"{p:10.2f}\" for p in pos.position))\n",
    "await printPosition(hex)"
   ]
  },
  {
   "cell_type": "markdown",
   "metadata": {},
   "source": [
    "If you want to observe the motions in chronograf, consider using \"AND MTHexapodID={hexId}\" to filter out telemetry from the other hexapod"
   ]
  },
  {
   "cell_type": "code",
   "execution_count": null,
   "metadata": {},
   "outputs": [],
   "source": [
    "hex.evt_inPosition.flush()\n",
    "for step in range(5,-1,-1):\n",
    "    await hex.cmd_move.set_start(x=0,y=0,z=100*step, u=0,v=0,w=0,sync=True)\n",
    "    while True:\n",
    "        state = await hex.evt_inPosition.next(flush=False, timeout=10)\n",
    "        print(\"hex in position?\",state.inPosition, pd.to_datetime(state.private_sndStamp, unit='s'))\n",
    "        if state.inPosition:\n",
    "            break\n",
    "    await printPosition(hex)"
   ]
  },
  {
   "cell_type": "code",
   "execution_count": null,
   "metadata": {},
   "outputs": [],
   "source": [
    "hex.evt_inPosition.flush()\n",
    "for step in [1,2,3,-3,-2,-1]:\n",
    "    #according to XML, units are micron and degree\n",
    "    await hex.cmd_offset.set_start(x=0,y=0,z=100*step, u=0,v=0,w=0,sync=True)\n",
    "    while True:\n",
    "        state = await hex.evt_inPosition.next(flush=False, timeout=10)\n",
    "        print(\"hex in position?\",state.inPosition, pd.to_datetime(state.private_sndStamp, unit='s'))\n",
    "        if state.inPosition:\n",
    "            break\n",
    "    await printPosition(hex)\n",
    "    end = Time(datetime.now(), scale='tai')"
   ]
  },
  {
   "cell_type": "code",
   "execution_count": null,
   "metadata": {},
   "outputs": [],
   "source": [
    "start = end - timedelta(seconds=30)\n",
    "df = await client.select_time_series('lsst.sal.MTHexapod.application', '*', start, end, csc_index)\n",
    "idx=df.MTHexapodID==1\n",
    "df = df[idx]"
   ]
  },
  {
   "cell_type": "code",
   "execution_count": null,
   "metadata": {},
   "outputs": [],
   "source": [
    "fig, ax = plt.subplots(figsize=(19,3))\n",
    "plt.plot(df.position2)\n",
    "plt.grid()"
   ]
  },
  {
   "cell_type": "markdown",
   "metadata": {},
   "source": [
    "### When the LUT is enabled"
   ]
  },
  {
   "cell_type": "code",
   "execution_count": null,
   "metadata": {},
   "outputs": [],
   "source": [
    "await hex.cmd_setCompensationMode.set_start(enable=1, timeout=10)\n",
    "lutMode = await hex.evt_compensationMode.aget(timeout=10)\n",
    "print(\"compsensation mode enabled?\",lutMode.enabled)"
   ]
  },
  {
   "cell_type": "code",
   "execution_count": null,
   "metadata": {},
   "outputs": [],
   "source": [
    "await printPosition(hex)"
   ]
  },
  {
   "cell_type": "code",
   "execution_count": null,
   "metadata": {},
   "outputs": [],
   "source": [
    "async def printUncompensatedAndCompensated(hex):\n",
    "    posU = await hex.evt_uncompensatedPosition.aget(timeout=10.)\n",
    "    print('Uncompensated position')\n",
    "    print(\" \".join(f\"{p:10.2f}\" for p in [getattr(posU, i) for i in 'xyzuvw']))\n",
    "    posC = await hex.evt_compensatedPosition.aget(timeout=10.)\n",
    "    print('Compensated position')\n",
    "    print(\" \".join(f\"{p:10.2f}\" for p in [getattr(posC, i) for i in 'xyzuvw']))\n",
    "\n",
    "await printUncompensatedAndCompensated(hex)"
   ]
  },
  {
   "cell_type": "markdown",
   "metadata": {},
   "source": [
    "The inputs to the LUT are currently -\n",
    "* elevation (from mount telemetry) \n",
    "* temperature (mount truss? not implemented yet)\n",
    "* azimuth (not implemented)\n",
    "* rotator angle (not implemented)"
   ]
  },
  {
   "cell_type": "code",
   "execution_count": null,
   "metadata": {},
   "outputs": [],
   "source": [
    "mountAngle = await mount.tel_elevation.aget(timeout=10.)\n",
    "print(\"mount elevation angle\", mountAngle.angleActual)\n",
    "elev = mountAngle.angleActual"
   ]
  },
  {
   "cell_type": "code",
   "execution_count": null,
   "metadata": {},
   "outputs": [],
   "source": [
    "LUTfile = '%s/notebooks/ts_config_mttcs/MTHexapod/v1/default.yaml'%(os.environ[\"HOME\"])\n",
    "with open(LUTfile, 'r') as stream:\n",
    "    aa = yaml.safe_load(stream)\n",
    "if hex.salinfo.index == 1:\n",
    "    elevCoeff = aa['camera_config']['elevation_coeffs']\n",
    "    tCoeff = aa['camera_config']['temperature_coeffs']\n",
    "elif hex.salinfo.index == 2:\n",
    "    elevCoeff = aa['m2_config']['elevation_coeffs']\n",
    "    tCoeff = aa['m2_config']['temperature_coeffs']"
   ]
  },
  {
   "cell_type": "code",
   "execution_count": null,
   "metadata": {},
   "outputs": [],
   "source": [
    "async def printPredictedComp(elevCoeff, elev):\n",
    "    '''\n",
    "    This function deals with the elevation component of the LUT only, for now.\n",
    "    We will add temperature, azimuth, and rotator angle when they are implemented.\n",
    "    '''\n",
    "    pred = []\n",
    "    print('Predicted LUT compensation:')\n",
    "    for i in range(6):\n",
    "        coeff = elevCoeff[i] #starts with C0\n",
    "        mypoly = np.polynomial.Polynomial(coeff)\n",
    "        #mypoly = np.poly1d(coeff[::-1]) #if you use poly1d, be aware: it needs C5 first\n",
    "        pred.append(mypoly(elev))\n",
    "    print(\" \".join(f\"{p:10.2f}\" for p in pred))\n",
    "await printPredictedComp(elevCoeff, elev)\n",
    "await printUncompensatedAndCompensated(hex)"
   ]
  },
  {
   "cell_type": "markdown",
   "metadata": {},
   "source": [
    "### Do a slew, then check the LUT again"
   ]
  },
  {
   "cell_type": "code",
   "execution_count": null,
   "metadata": {},
   "outputs": [],
   "source": [
    "location = EarthLocation.from_geodetic(lon=-70.747698*u.deg,\n",
    "                                       lat=-30.244728*u.deg,\n",
    "                                       height=2663.0*u.m)\n",
    "print(\"Current elevation angle = \", elev)"
   ]
  },
  {
   "cell_type": "code",
   "execution_count": null,
   "metadata": {},
   "outputs": [],
   "source": [
    "now = datetime.now()\n",
    "print(\"Start to point the telescope\", now)\n",
    "\n",
    "alt = 80. * u.deg\n",
    "az = 0. * u.deg\n",
    "rot_tel = Angle(0, unit= u.deg) "
   ]
  },
  {
   "cell_type": "code",
   "execution_count": null,
   "metadata": {},
   "outputs": [],
   "source": [
    "target_name=\"TMA motion test\"\n",
    "time_data = await ptg.tel_timeAndDate.next(flush=True, timeout=2)\n",
    "curr_time_ptg = Time(time_data.mjd, format=\"mjd\", scale=\"tai\")\n",
    "time_err = curr_time_ptg - Time.now()\n",
    "print(f\"Time error={time_err.sec:0.2f} sec\")\n",
    "\n",
    "print(curr_time_ptg.tai.value)\n",
    "\n",
    "cmd_elaz = AltAz(alt=alt, az=az, \n",
    "                obstime=curr_time_ptg.tai, \n",
    "                location=location)\n",
    "cmd_radec = cmd_elaz.transform_to(ICRS)\n",
    "# Calculating the other parameters     \n",
    "rot_pa = rot_tel"
   ]
  },
  {
   "cell_type": "code",
   "execution_count": null,
   "metadata": {},
   "outputs": [],
   "source": [
    "#The pointing component is commanding the mount directly\n",
    "await ptg.cmd_raDecTarget.set_start(\n",
    "    targetName=target_name,\n",
    "    frame=ATPtg.CoordFrame.ICRS,\n",
    "    epoch=2000,  # should be ignored: no parallax or proper motion\n",
    "    equinox=2000,  # should be ignored for ICRS\n",
    "    ra=cmd_radec.ra.hour,\n",
    "    declination=cmd_radec.dec.deg,\n",
    "    parallax=0,\n",
    "    pmRA=0,\n",
    "    pmDec=0,\n",
    "    rv=0,\n",
    "    dRA=0,\n",
    "    dDec=0,\n",
    "    rotPA=rot_pa.deg-180,\n",
    "    rotFrame=ATPtg.RotFrame.FIXED,\n",
    "    rotMode=ATPtg.RotMode.FIELD,\n",
    "    timeout=10\n",
    ")\n",
    "\n",
    "print(\" Now, Waiting 30s\")\n",
    "await asyncio.sleep(30.)\n",
    "print(\"System Ready\")"
   ]
  },
  {
   "cell_type": "code",
   "execution_count": null,
   "metadata": {},
   "outputs": [],
   "source": [
    "mountStatus = await mount.evt_axesInPosition.aget(timeout=5.)\n",
    "rotStatus = await rot.evt_inPosition.aget(timeout=5.)\n",
    "print('Are we tracking?', mountStatus.elevation , mountStatus.azimuth , rotStatus.inPosition)"
   ]
  },
  {
   "cell_type": "code",
   "execution_count": null,
   "metadata": {},
   "outputs": [],
   "source": [
    "await ptg.cmd_stopTracking.set_start(timeout=5.)"
   ]
  },
  {
   "cell_type": "markdown",
   "metadata": {},
   "source": [
    "### check angle and LUT after the slew"
   ]
  },
  {
   "cell_type": "code",
   "execution_count": null,
   "metadata": {},
   "outputs": [],
   "source": [
    "mountAngle = await mount.tel_elevation.aget(timeout=10.)\n",
    "print(\"mount elevation angle\", mountAngle.angleActual)\n",
    "elev = mountAngle.angleActual"
   ]
  },
  {
   "cell_type": "code",
   "execution_count": null,
   "metadata": {},
   "outputs": [],
   "source": [
    "await printPosition(hex)\n",
    "await printUncompensatedAndCompensated(hex)\n",
    "await printPredictedComp(elevCoeff, elev)"
   ]
  },
  {
   "cell_type": "markdown",
   "metadata": {},
   "source": [
    "### Check if the telescope is in tracking mode. If yes, need to stop stacking. \n",
    "The alternative is to check \"MT Mount status\" dash board on Chronograf. Make sure there are three \"False\"."
   ]
  },
  {
   "cell_type": "code",
   "execution_count": null,
   "metadata": {},
   "outputs": [],
   "source": [
    "mountStatus = await mount.evt_axesInPosition.aget(timeout=5.)\n",
    "rotStatus = await rot.evt_inPosition.aget(timeout=5.)\n",
    "trackingStatus = mountStatus.elevation and mountStatus.azimuth and rotStatus.inPosition\n",
    "print('Are we tracking?', trackingStatus)"
   ]
  },
  {
   "cell_type": "code",
   "execution_count": null,
   "metadata": {},
   "outputs": [],
   "source": [
    "await ptg.cmd_stopTracking.set_start(timeout=5.)"
   ]
  },
  {
   "cell_type": "code",
   "execution_count": null,
   "metadata": {},
   "outputs": [],
   "source": []
  }
 ],
 "metadata": {
  "kernelspec": {
   "display_name": "LSST",
   "language": "python",
   "name": "lsst"
  },
  "language_info": {
   "codemirror_mode": {
    "name": "ipython",
    "version": 3
   },
   "file_extension": ".py",
   "mimetype": "text/x-python",
   "name": "python",
   "nbconvert_exporter": "python",
   "pygments_lexer": "ipython3",
   "version": "3.8.8"
  }
 },
 "nbformat": 4,
 "nbformat_minor": 4
}
