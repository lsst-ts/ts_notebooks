{
 "cells": [
  {
   "cell_type": "markdown",
   "metadata": {},
   "source": [
    "## This notebook is used for testing M1M3 communication with the pointing component\n",
    "\n",
    "Step-by-step description of what we do can be found in \n",
    "Jira test case: https://jira.lsstcorp.org/secure/Tests.jspa#/testCase/LVV-T2173\n",
    "\n",
    "In summary:\n",
    "\n",
    "It check the M1M3 state transitions and force commands\n",
    "\n",
    "It also checks the LUT against the input polynomials, before and after a slew"
   ]
  },
  {
   "cell_type": "code",
   "execution_count": null,
   "metadata": {},
   "outputs": [],
   "source": [
    "from lsst.ts import salobj\n",
    "import asyncio\n",
    "import os\n",
    "\n",
    "import numpy as np\n",
    "from matplotlib import pyplot as plt\n",
    "from astropy.time import Time\n",
    "from datetime import datetime, timedelta\n",
    "import pandas as pd\n",
    "\n",
    "from lsst.ts.idl.enums import MTM1M3\n",
    "from M1M3tools import *\n",
    "\n",
    "from lsst.ts.observatory.control.maintel.mtcs import MTCS, MTCSUsages\n",
    "from lsst.ts.observatory.control import RotType\n",
    "from astropy.coordinates import AltAz, ICRS, EarthLocation, Angle, FK5\n",
    "import astropy.units as u\n",
    "\n",
    "plt.jet();"
   ]
  },
  {
   "cell_type": "code",
   "execution_count": null,
   "metadata": {},
   "outputs": [],
   "source": [
    "#summit = 1 #use this for summit testing\n",
    "summit = 0 #use this for NCSA"
   ]
  },
  {
   "cell_type": "code",
   "execution_count": null,
   "metadata": {},
   "outputs": [],
   "source": [
    "#Tiago suggested not to run this on the summit; this is only for NCSA debugging DDS\n",
    "if not summit:\n",
    "    import os\n",
    "    print(os.environ[\"OSPL_URI\"])\n",
    "    if os.environ.get(\"LSST_DDS_ALIGNER\", \"false\") != \"false\":\n",
    "        print(\"LSST_DDS_ALIGNER is mis-configured\")"
   ]
  },
  {
   "cell_type": "code",
   "execution_count": null,
   "metadata": {},
   "outputs": [],
   "source": [
    "start_time = datetime.now()\n",
    "script = salobj.Controller(\"Script\", index=1)\n",
    "if not summit:\n",
    "    await asyncio.sleep(10) #not need to wait on summit since we use the daemon\n",
    "    ptg = salobj.Remote(script.domain, \"MTPtg\")\n",
    "    rot = salobj.Remote(script.domain, \"MTRotator\")\n",
    "mount = salobj.Remote(script.domain, \"MTMount\") #we still need it on the summit, to check fake mount telemetry!\n",
    "m1m3 = salobj.Remote(script.domain, \"MTM1M3\", exclude=['logMessage'])\n",
    "print(f'time to start is {datetime.now() - start_time} [s]')"
   ]
  },
  {
   "cell_type": "code",
   "execution_count": null,
   "metadata": {},
   "outputs": [],
   "source": [
    "if summit:\n",
    "    await m1m3.start_task\n",
    "else:\n",
    "    await asyncio.gather(ptg.start_task,\n",
    "                         mount.start_task,\n",
    "                         script.start_task, #                     \n",
    "                         rot.start_task,\n",
    "                         m1m3.start_task)"
   ]
  },
  {
   "cell_type": "code",
   "execution_count": null,
   "metadata": {},
   "outputs": [],
   "source": [
    "await m1m3.evt_heartbeat.next(flush=True, timeout=5)"
   ]
  },
  {
   "cell_type": "markdown",
   "metadata": {},
   "source": [
    "### test state transition. If m1m3 is already enabled, disable then enable it."
   ]
  },
  {
   "cell_type": "code",
   "execution_count": null,
   "metadata": {},
   "outputs": [],
   "source": [
    "sstate = await m1m3.evt_summaryState.aget(timeout=5)\n",
    "print('staring with: m1m3 state',salobj.State(sstate.summaryState), pd.to_datetime(sstate.private_sndStamp, unit='s'))\n",
    "dstate = await m1m3.evt_detailedState.aget(timeout=200)\n",
    "print('m1m3 state', MTM1M3.DetailedState(dstate.detailedState), pd.to_datetime(dstate.private_sndStamp, unit='s'))"
   ]
  },
  {
   "cell_type": "code",
   "execution_count": null,
   "metadata": {},
   "outputs": [],
   "source": [
    "async def lowerMirror(m1m3):\n",
    "    m1m3.evt_detailedState.flush()\n",
    "    await m1m3.cmd_lowerM1M3.set_start(lowerM1M3=True, timeout = 30)\n",
    "    while True:\n",
    "        state = await m1m3.evt_detailedState.next(flush=False, timeout=300)\n",
    "        print('m1m3 state', MTM1M3.DetailedState(state.detailedState), pd.to_datetime(state.private_sndStamp, unit='s'))\n",
    "        if (MTM1M3.DetailedState(state.detailedState) == MTM1M3.DetailedState.PARKED\n",
    "                or MTM1M3.DetailedState(state.detailedState) == MTM1M3.DetailedState.PARKEDENGINEERING):\n",
    "            break\n",
    "\n",
    "async def raiseMirror(m1m3):\n",
    "    m1m3.evt_detailedState.flush()\n",
    "    await m1m3.cmd_raiseM1M3.set_start(raiseM1M3=True, timeout = 30)\n",
    "    while True:\n",
    "        state = await m1m3.evt_detailedState.next(flush=False, timeout=300)\n",
    "        print('m1m3 state', MTM1M3.DetailedState(state.detailedState), pd.to_datetime(state.private_sndStamp, unit='s'))\n",
    "        if (MTM1M3.DetailedState(state.detailedState) == MTM1M3.DetailedState.ACTIVE\n",
    "                or MTM1M3.DetailedState(state.detailedState) == MTM1M3.DetailedState.ACTIVEENGINEERING):\n",
    "            break\n",
    "        \n",
    "if (MTM1M3.DetailedState(dstate.detailedState) == MTM1M3.DetailedState.ACTIVEENGINEERING\n",
    "        or MTM1M3.DetailedState(dstate.detailedState) == MTM1M3.DetailedState.ACTIVE):\n",
    "    await lowerMirror(m1m3)"
   ]
  },
  {
   "cell_type": "code",
   "execution_count": null,
   "metadata": {},
   "outputs": [],
   "source": [
    "if sstate.summaryState == salobj.State.ENABLED:\n",
    "    await salobj.set_summary_state(m1m3, salobj.State.DISABLED) #disable m1m3\n",
    "if sstate.summaryState == salobj.State.FAULT:\n",
    "    await m1m3.cmd_clearErrors.set_start()\n",
    "if sstate.summaryState == salobj.State.STANDBY:\n",
    "    await m1m3.cmd_start.set_start(settingsToApply=\"Default\")\n",
    "await salobj.set_summary_state(m1m3, salobj.State.ENABLED) #enable m1m3"
   ]
  },
  {
   "cell_type": "code",
   "execution_count": null,
   "metadata": {},
   "outputs": [],
   "source": [
    "#may need to wait a few seconds before event shows up in EFD\n",
    "await asyncio.sleep(10.)\n",
    "from lsst_efd_client import EfdClient\n",
    "\n",
    "if summit:\n",
    "    client = EfdClient('summit_efd')\n",
    "else:\n",
    "    client = EfdClient('ncsa_teststand_efd')\n",
    "csc_index = 1\n",
    "end = Time(datetime.now(), scale='tai')\n",
    "start = end - timedelta(hours=1)\n",
    "dfe = await client.select_time_series('lsst.sal.MTM1M3.logevent_summaryState', '*', start, end, csc_index)\n",
    "#to check messages in Kafka, go to https://lsst-kafka-0-nts-efd.ncsa.illinois.edu/\n",
    "##we cannot get time series data from DDS. We have to query the EFD"
   ]
  },
  {
   "cell_type": "code",
   "execution_count": null,
   "metadata": {},
   "outputs": [],
   "source": [
    "dfe.tail(5)"
   ]
  },
  {
   "cell_type": "markdown",
   "metadata": {},
   "source": [
    "### Raise M1M3"
   ]
  },
  {
   "cell_type": "code",
   "execution_count": null,
   "metadata": {},
   "outputs": [],
   "source": [
    "m1m3Angle = await m1m3.tel_inclinometerData.aget()\n",
    "print(\"m1m3Angle\", m1m3Angle.inclinometerAngle)"
   ]
  },
  {
   "cell_type": "code",
   "execution_count": null,
   "metadata": {},
   "outputs": [],
   "source": [
    "m1m3HP = await m1m3.tel_hardpointActuatorData.aget()\n",
    "print(\"m1m3 z\", m1m3HP.zPosition)"
   ]
  },
  {
   "cell_type": "code",
   "execution_count": null,
   "metadata": {},
   "outputs": [],
   "source": [
    "await raiseMirror(m1m3)"
   ]
  },
  {
   "cell_type": "code",
   "execution_count": null,
   "metadata": {},
   "outputs": [],
   "source": [
    "#if you want to examine the test we did on the summit, you need to go to the Jira test execution and grap the timestamps\n",
    "end = Time(datetime.now()) #- timedelta(minutes=75)\n",
    "#end = Time('2021-02-04T22:50:00')\n",
    "#end = Time('2021-02-12T22:24:00')\n",
    "start = end - timedelta(minutes=10)\n",
    "dfz = await client.select_time_series('lsst.sal.MTM1M3.hardpointActuatorData', '*', \n",
    "                                     (start-timedelta(seconds=37)).tai, (end-timedelta(seconds=37)).tai, csc_index)\n",
    "dfr = await client.select_time_series('lsst.sal.MTM1M3.command_raiseM1M3', '*', \n",
    "                                     (start-timedelta(seconds=37)).tai, (end-timedelta(seconds=37)).tai, csc_index)\n",
    "dfl = await client.select_time_series('lsst.sal.MTM1M3.command_lowerM1M3', '*', \n",
    "                                     (start-timedelta(seconds=37)).tai, (end-timedelta(seconds=37)).tai, csc_index)\n",
    "dfe = await client.select_time_series('lsst.sal.MTM1M3.logevent_summaryState', '*', \n",
    "                                     (start-timedelta(seconds=37)).tai, (end-timedelta(seconds=37)).tai, csc_index)\n",
    "dfd = await client.select_time_series('lsst.sal.MTM1M3.logevent_detailedState', '*', \n",
    "                                     (start-timedelta(seconds=37)).tai, (end-timedelta(seconds=37)).tai, csc_index)"
   ]
  },
  {
   "cell_type": "code",
   "execution_count": null,
   "metadata": {},
   "outputs": [],
   "source": [
    "print(len(dfz), len(dfr), len(dfl))"
   ]
  },
  {
   "cell_type": "code",
   "execution_count": null,
   "metadata": {},
   "outputs": [],
   "source": [
    "dfr"
   ]
  },
  {
   "cell_type": "code",
   "execution_count": null,
   "metadata": {},
   "outputs": [],
   "source": [
    "zFactor = 1000 #we magnify the zPosition (unit = micron) by this factor to make it visible on the plot below\n",
    "fig, ax = plt.subplots(figsize=(15,8))\n",
    "plt.plot(dfz.zPosition*zFactor, label='zPosition (mm)')\n",
    "plt.plot(dfr.raiseM1M3, 'o', label='raise command', markersize=20)\n",
    "if len(dfl)>0:\n",
    "    plt.plot(dfl.lowerM1M3, 'v', label='lower command', markersize=20)\n",
    "plt.plot(dfe.summaryState, '*', label='summary state', markersize=20)\n",
    "plt.plot(dfd.detailedState, 'x', label='detailed state', markersize=20)\n",
    "plt.legend(fontsize=15)\n",
    "plt.grid();"
   ]
  },
  {
   "cell_type": "code",
   "execution_count": null,
   "metadata": {},
   "outputs": [],
   "source": [
    "for i in range(1,13):\n",
    "    print(i, MTM1M3.DetailedState(i))"
   ]
  },
  {
   "cell_type": "markdown",
   "metadata": {},
   "source": [
    "### check the forces"
   ]
  },
  {
   "cell_type": "code",
   "execution_count": null,
   "metadata": {},
   "outputs": [],
   "source": [
    "#If magnitude = 0.0 then it is off\n",
    "m1m3ForceBalance = await m1m3.evt_appliedBalanceForces.aget(timeout=10.)\n",
    "print(\"starting with magnitude of the m1m3 balance force ---\", m1m3ForceBalance.forceMagnitude, \"----\",\n",
    "      pd.to_datetime(m1m3ForceBalance.private_sndStamp, unit='s'))"
   ]
  },
  {
   "cell_type": "code",
   "execution_count": null,
   "metadata": {},
   "outputs": [],
   "source": [
    "m1m3ForceBalance = await m1m3.evt_appliedBalanceForces.aget(timeout=10.)\n",
    "if not m1m3ForceBalance.forceMagnitude:\n",
    "    await m1m3.cmd_enableHardpointCorrections.set_start(timeout=10)\n",
    "    await asyncio.sleep(3.)\n",
    "    m1m3ForceBalance = await m1m3.evt_appliedBalanceForces.aget(timeout=10.)\n",
    "    print(\"Magnitude of the m1m3 force balance system\", m1m3ForceBalance.forceMagnitude)"
   ]
  },
  {
   "cell_type": "code",
   "execution_count": null,
   "metadata": {},
   "outputs": [],
   "source": [
    "fx = [0]*12\n",
    "fy = [0]*100\n",
    "fz = [0]*156\n",
    "#offsetForces not valid in ActiveState; Petr is working on enabling this for summit as well\n",
    "#await m1m3.cmd_applyOffsetForces.set_start(xForces=fx, yForces=fy, zForces=fz) \n",
    "await m1m3.cmd_applyAberrationForces.set_start(zForces=fz) \n",
    "await m1m3.cmd_applyActiveOpticForces.set_start(zForces=fz)"
   ]
  },
  {
   "cell_type": "code",
   "execution_count": null,
   "metadata": {},
   "outputs": [],
   "source": [
    "fel = await m1m3.evt_appliedElevationForces.aget(timeout=10.)\n",
    "faz = await m1m3.evt_appliedAzimuthForces.aget(timeout=10.)\n",
    "fth = await m1m3.evt_appliedThermalForces.aget(timeout=10.)\n",
    "fba = await m1m3.evt_appliedBalanceForces.aget(timeout=10.)\n",
    "fac = await m1m3.evt_appliedAccelerationForces.aget(timeout=10.)\n",
    "fve = await m1m3.evt_appliedVelocityForces.aget(timeout=10.)\n",
    "fst = await m1m3.evt_appliedStaticForces.aget(timeout=10.)\n",
    "fab = await m1m3.evt_appliedAberrationForces.aget(timeout=10.)\n",
    "fof = await m1m3.evt_appliedOffsetForces.aget(timeout=10.)\n",
    "fao = await m1m3.evt_appliedActiveOpticForces.aget(timeout=10.)\n",
    "fapp = await m1m3.evt_appliedForces.aget(timeout=10.)"
   ]
  },
  {
   "cell_type": "code",
   "execution_count": null,
   "metadata": {},
   "outputs": [],
   "source": [
    "ftel = await m1m3.tel_forceActuatorData.aget(timeout=10.)"
   ]
  },
  {
   "cell_type": "code",
   "execution_count": null,
   "metadata": {},
   "outputs": [],
   "source": [
    "def plotForces(fel, fba, fst, fao):\n",
    "    fig, ax = plt.subplots(3,1, figsize=(15,8))\n",
    "    ax[0].plot(fel.xForces, '-o', label='elevation');\n",
    "    ax[0].plot(fba.xForces, label='FB')\n",
    "    ax[0].plot(fst.xForces, label='static')\n",
    "    ax[0].plot(ftel.xForce, '-v', label='measured')\n",
    "    ax[0].legend()\n",
    "    ax[0].set_title('XForces')\n",
    "    ax[1].plot(fel.yForces, '-o', label='elevation');\n",
    "    #ax[1].plot(fba.yForces, label='FB')\n",
    "    #ax[1].plot(fst.yForces, label='static')\n",
    "    ax[1].plot(ftel.yForce, '-v', label='measured')\n",
    "    ax[1].legend()\n",
    "    ax[1].set_title('YForces')\n",
    "    ax[2].plot(fel.zForces, '-o', label='elevation');\n",
    "    ax[2].plot(fba.zForces, label='FB')\n",
    "    ax[2].plot(fst.zForces, label='static')\n",
    "    ax[2].plot(fao.zForces, label='AOS')\n",
    "    ax[2].plot(ftel.zForce, '-v', label='measured')\n",
    "    ax[2].set_title('ZForces')\n",
    "    ax[2].legend()\n",
    "    \n",
    "    fig2, ax=plt.subplots( 1,3, figsize = [15,4])\n",
    "    aa = np.array(fao.zForces)\n",
    "    img = ax[0].scatter(xact, yact, c=aa, s=abs(aa)*2)\n",
    "    #plt.jet()\n",
    "    ax[0].axis('equal')\n",
    "    ax[0].set_title('AOS forces')\n",
    "    fig.colorbar(img, ax=ax[0])\n",
    "\n",
    "    aa = np.array(fel.zForces)\n",
    "    img = ax[1].scatter(xact, yact, c=aa, s=abs(aa)*0.1)\n",
    "    #plt.jet()\n",
    "    ax[1].axis('equal')\n",
    "    ax[1].set_title('elevation forces')\n",
    "    fig.colorbar(img, ax=ax[1])\n",
    "    \n",
    "    aa = np.array(fst.zForces)\n",
    "    img = ax[2].scatter(xact, yact, c=aa, s=abs(aa)*10)\n",
    "    #plt.jet()\n",
    "    ax[2].axis('equal')\n",
    "    ax[2].set_title('static forces')\n",
    "    fig.colorbar(img, ax=ax[2])"
   ]
  },
  {
   "cell_type": "code",
   "execution_count": null,
   "metadata": {},
   "outputs": [],
   "source": [
    "plotForces(fel, fba, fst, fao)"
   ]
  },
  {
   "cell_type": "markdown",
   "metadata": {},
   "source": [
    "apply some nonzero forces"
   ]
  },
  {
   "cell_type": "code",
   "execution_count": null,
   "metadata": {},
   "outputs": [],
   "source": [
    "fx = [2]*12\n",
    "fy = [3]*100\n",
    "fz = [-5]*156\n",
    "#offsetForces not valid in ActiveState; Petr is working on enabling this for summit as well\n",
    "#await m1m3.cmd_applyOffsetForces.set_start(xForces=fx, yForces=fy, zForces=fz)\n",
    "await m1m3.cmd_applyAberrationForces.set_start(zForces=fz)\n",
    "await m1m3.cmd_applyActiveOpticForces.set_start(zForces=fz)"
   ]
  },
  {
   "cell_type": "code",
   "execution_count": null,
   "metadata": {},
   "outputs": [],
   "source": [
    "fel = await m1m3.evt_appliedElevationForces.aget(timeout=10.)\n",
    "faz = await m1m3.evt_appliedAzimuthForces.aget(timeout=10.)\n",
    "fth = await m1m3.evt_appliedThermalForces.aget(timeout=10.)\n",
    "fba = await m1m3.evt_appliedBalanceForces.aget(timeout=10.)\n",
    "fac = await m1m3.evt_appliedAccelerationForces.aget(timeout=10.)\n",
    "fve = await m1m3.evt_appliedVelocityForces.aget(timeout=10.)\n",
    "fst = await m1m3.evt_appliedStaticForces.aget(timeout=10.)\n",
    "fab = await m1m3.evt_appliedAberrationForces.aget(timeout=10.)\n",
    "fof = await m1m3.evt_appliedOffsetForces.aget(timeout=10.)\n",
    "fao = await m1m3.evt_appliedActiveOpticForces.aget(timeout=10.)\n",
    "fapp = await m1m3.evt_appliedForces.aget(timeout=10.)\n",
    "ftel = await m1m3.tel_forceActuatorData.aget(timeout=10.)\n",
    "plotForces(fel, fba, fst, fao)"
   ]
  },
  {
   "cell_type": "code",
   "execution_count": null,
   "metadata": {},
   "outputs": [],
   "source": [
    "max(abs(np.array(fao.zForces)))"
   ]
  },
  {
   "cell_type": "markdown",
   "metadata": {},
   "source": [
    "### Check the forces add up as expected"
   ]
  },
  {
   "cell_type": "code",
   "execution_count": null,
   "metadata": {},
   "outputs": [],
   "source": [
    "xyz = 'xyz'\n",
    "nForce = [12, 100, 156]\n",
    "for i in range(3):\n",
    "    print('%s diff'%xyz[i], end=\" \")\n",
    "    for j in range(nForce[i]):\n",
    "        diff = \\\n",
    "        getattr(fel, '%sForces'%(xyz[i]))[j] + getattr(faz, '%sForces'%(xyz[i]))[j] + getattr(fth, '%sForces'%(xyz[i]))[j] + \\\n",
    "        getattr(fba, '%sForces'%(xyz[i]))[j] + getattr(fac, '%sForces'%(xyz[i]))[j] + getattr(fve, '%sForces'%(xyz[i]))[j] + \\\n",
    "        getattr(fst, '%sForces'%(xyz[i]))[j] + getattr(fof, '%sForces'%(xyz[i]))[j]  \\\n",
    "           - getattr(ftel, '%sForce'%(xyz[i]))[j] # - getattr(fapp, '%sForces'%(xyz[i]))[j] #\n",
    "        if i==2: #only for z forces\n",
    "            diff = diff + getattr(fao, '%sForces'%(xyz[i]))[j] + getattr(fab, '%sForces'%(xyz[i]))[j] \n",
    "        print('%d, %.1f'%(j,diff), end=\" | \")\n",
    "        if abs(diff)>1:\n",
    "            print('\\nfel faz fth fba fac, fve fst fof ftel, (fao fab) ')\n",
    "            print('%d -------------------------------------------------'%j)\n",
    "            print('%.1f, %.1f, %.1f, %.1f, %.1f, %.1f, %.1f, %.1f, %.1f, '%(\n",
    "                getattr(fel, '%sForces'%(xyz[i]))[j], getattr(faz, '%sForces'%(xyz[i]))[j], getattr(fth, '%sForces'%(xyz[i]))[j],\n",
    "                getattr(fba, '%sForces'%(xyz[i]))[j], getattr(fac, '%sForces'%(xyz[i]))[j], getattr(fve, '%sForces'%(xyz[i]))[j],\n",
    "                getattr(fst, '%sForces'%(xyz[i]))[j], getattr(fof, '%sForces'%(xyz[i]))[j],\n",
    "                getattr(ftel, '%sForce'%(xyz[i]))[j] ), end=\"\")\n",
    "            if i==2:\n",
    "                print('%.1f, %.1f,'%(getattr(fao, '%sForces'%(xyz[i]))[j], getattr(fab, '%sForces'%(xyz[i]))[j]))\n",
    "            break\n",
    "    print('\\n')"
   ]
  },
  {
   "cell_type": "markdown",
   "metadata": {},
   "source": [
    "### check the force components against expectations"
   ]
  },
  {
   "cell_type": "code",
   "execution_count": null,
   "metadata": {},
   "outputs": [],
   "source": [
    "m1m3Angle = await m1m3.tel_inclinometerData.aget()\n",
    "eA = m1m3Angle.inclinometerAngle #elevation angle\n",
    "print(\"m1m3 elevation Angle\", eA, pd.to_datetime(m1m3Angle.private_sndStamp, unit='s'))"
   ]
  },
  {
   "cell_type": "code",
   "execution_count": null,
   "metadata": {},
   "outputs": [],
   "source": [
    "lutFile = '%s/notebooks/ts_m1m3support/SettingFiles/Tables/ElevationZTable.csv'%os.environ['HOME']\n",
    "lutel = pd.read_csv(lutFile)"
   ]
  },
  {
   "cell_type": "code",
   "execution_count": null,
   "metadata": {},
   "outputs": [],
   "source": [
    "def lookUpElevation(lute, zA):\n",
    "    '''\n",
    "    the input to the LUT is zenith angle\n",
    "    '''\n",
    "    eForces = np.zeros(156)\n",
    "    for i in range(156):\n",
    "        coeff = [lute['Coefficient %d'%j][i] for j in range(5,-1,-1)]\n",
    "        mypoly = np.poly1d(coeff)\n",
    "        eForces[i] = mypoly(zA)\n",
    "    return eForces\n",
    "eForces = lookUpElevation(lutel, 90-eA) "
   ]
  },
  {
   "cell_type": "code",
   "execution_count": null,
   "metadata": {},
   "outputs": [],
   "source": [
    "dAngle = 0.3 #deg"
   ]
  },
  {
   "cell_type": "code",
   "execution_count": null,
   "metadata": {},
   "outputs": [],
   "source": [
    "# if the predicted change in LUT forces is not satisfactory, go back and change dAngle. \n",
    "# Around zenith pointing, we found each 0.1 deg gives max force difference of ~1N.\n",
    "eForces1 = lookUpElevation(lutel, 90-eA+dAngle)\n",
    "fig, ax = plt.subplots(1,2, figsize=(15,5))\n",
    "ax[0].plot(eForces, label = 'expected')\n",
    "ax[0].plot([fel.zForces[i] for i in range(156)], '--', label='EFD')\n",
    "ax[0].legend()\n",
    "ax[0].set_title('Elevation Z Forces')\n",
    "\n",
    "ax[1].plot(fel.zForces - eForces, label='measured-expected')\n",
    "ax[1].plot(eForces1 - eForces, label='force change due to %.1f deg change in angle'%dAngle)\n",
    "ax[1].legend();"
   ]
  },
  {
   "cell_type": "code",
   "execution_count": null,
   "metadata": {},
   "outputs": [],
   "source": [
    "lutFile = '%s/notebooks/ts_m1m3support/SettingFiles/Tables/StaticZTable.csv'%os.environ['HOME']\n",
    "lutst = pd.read_csv(lutFile)"
   ]
  },
  {
   "cell_type": "code",
   "execution_count": null,
   "metadata": {},
   "outputs": [],
   "source": [
    "plt.plot(lutst['ZForce'], label = 'expected')\n",
    "plt.plot([fst.zForces[i] for i in range(156)], label='EFD')\n",
    "plt.legend()\n",
    "plt.title('Static Z Forces');"
   ]
  },
  {
   "cell_type": "markdown",
   "metadata": {},
   "source": [
    "## Do a slew, then check the LUT again (only for NCSA testing)\n",
    "We can either do this by commanding the mount using the ptg, or we can create a Controller object to send mount telemetry."
   ]
  },
  {
   "cell_type": "code",
   "execution_count": null,
   "metadata": {},
   "outputs": [],
   "source": [
    "mtcs = MTCS(script.domain)\n",
    "mtcs.set_rem_loglevel(40)"
   ]
  },
  {
   "cell_type": "code",
   "execution_count": null,
   "metadata": {},
   "outputs": [],
   "source": [
    "await mtcs.start_task"
   ]
  },
  {
   "cell_type": "code",
   "execution_count": null,
   "metadata": {},
   "outputs": [],
   "source": [
    "alt = 40 * u.deg\n",
    "az = 0 * u.deg\n",
    "\n",
    "target_name=\"TMA motion test\"\n",
    "time_data = await ptg.tel_timeAndDate.next(flush=True, timeout=2)\n",
    "curr_time_ptg = Time(time_data.mjd, format=\"mjd\", scale=\"tai\")\n",
    "time_err = curr_time_ptg - Time.now()\n",
    "print(f\"Time error={time_err.sec:0.2f} sec\")\n",
    "\n",
    "print(curr_time_ptg.tai.value)\n",
    "\n",
    "cmd_elaz = AltAz(alt=alt, az=az, \n",
    "                obstime=curr_time_ptg.tai, \n",
    "                location=mtcs.location)\n",
    "cmd_radec = cmd_elaz.transform_to(ICRS)\n",
    "await mtcs.slew_icrs(ra=cmd_radec.ra, dec=cmd_radec.dec, rot=0., rot_type=RotType.PhysicalSky)"
   ]
  },
  {
   "cell_type": "code",
   "execution_count": null,
   "metadata": {},
   "outputs": [],
   "source": [
    "if not summit:\n",
    "    mountStatus = await mount.evt_axesInPosition.aget(timeout=5.)\n",
    "    rotStatus = await rot.evt_inPosition.aget(timeout=5.)\n",
    "    print('Are we tracking?', mountStatus.elevation , mountStatus.azimuth , rotStatus.inPosition)"
   ]
  },
  {
   "cell_type": "code",
   "execution_count": null,
   "metadata": {},
   "outputs": [],
   "source": [
    "if not summit:\n",
    "    await ptg.cmd_stopTracking.set_start(timeout=5.)"
   ]
  },
  {
   "cell_type": "markdown",
   "metadata": {},
   "source": [
    "#### check angle and LUT after the slew"
   ]
  },
  {
   "cell_type": "code",
   "execution_count": null,
   "metadata": {},
   "outputs": [],
   "source": [
    "if not summit:\n",
    "    mountAngle = await mount.tel_elevation.aget(timeout=10.)\n",
    "    print(\"mount elevation angle\", mountAngle.actualPosition)\n",
    "    elev = mountAngle.actualPosition"
   ]
  },
  {
   "cell_type": "code",
   "execution_count": null,
   "metadata": {},
   "outputs": [],
   "source": [
    "if not summit:\n",
    "    m1m3Angle = await m1m3.tel_inclinometerData.aget()\n",
    "    eA = m1m3Angle.inclinometerAngle\n",
    "    print(\"m1m3 elevation Angle\", eA)\n",
    "\n",
    "    eForces = lookUpElevation(lutel, 90-eA)"
   ]
  },
  {
   "cell_type": "markdown",
   "metadata": {},
   "source": [
    "## create a Controller object to send mount telemetry (for NCSA OR summit)"
   ]
  },
  {
   "cell_type": "markdown",
   "metadata": {},
   "source": [
    "#### If we are to use the Controller object, we need to take the mount out of the disabled/enabled states so that it stops sending telemetry data.\n",
    "Get fake telemetry ready first (using mountTelGenerator.ipynb)"
   ]
  },
  {
   "cell_type": "markdown",
   "metadata": {},
   "source": [
    "Then we need to point m1m3 to the fake mount elevation"
   ]
  },
  {
   "cell_type": "code",
   "execution_count": null,
   "metadata": {},
   "outputs": [],
   "source": [
    "#take m1m3 to standby\n",
    "await lowerMirror(m1m3)\n",
    "await salobj.set_summary_state(m1m3, salobj.State.STANDBY)"
   ]
  },
  {
   "cell_type": "code",
   "execution_count": null,
   "metadata": {},
   "outputs": [],
   "source": [
    "#if not summit:\n",
    "#     on a terminal, log onto the teststand, enter the container, edit the config so that M1M3 uses the mount telemetry for its LUT\n",
    "#     [bxin@lsst-teststand-ts2 MT]$ docker exec -it mtm1m3_sim bash\n",
    "# else:\n",
    "#    ask Petr to do this.\n",
    "\n",
    "#[saluser@4fc00c04ac94 ~]$ vi ts_m1m3support/SettingFiles/Sets/Default/1/ForceActuatorSettings.xml\n",
    "# we need: <UseInclinometer>0</UseInclinometer>"
   ]
  },
  {
   "cell_type": "code",
   "execution_count": null,
   "metadata": {},
   "outputs": [],
   "source": [
    "await salobj.set_summary_state(m1m3, salobj.State.ENABLED,  settingsToApply='Default')"
   ]
  },
  {
   "cell_type": "code",
   "execution_count": null,
   "metadata": {},
   "outputs": [],
   "source": [
    "await raiseMirror(m1m3)"
   ]
  },
  {
   "cell_type": "code",
   "execution_count": null,
   "metadata": {},
   "outputs": [],
   "source": [
    "# only in case that we need to abort the raise\n",
    "# await m1m3.cmd_abortRaiseM1M3.set_start(timeout = 30)"
   ]
  },
  {
   "cell_type": "code",
   "execution_count": null,
   "metadata": {},
   "outputs": [],
   "source": [
    "m1m3ForceBalance = await m1m3.evt_appliedBalanceForces.aget(timeout=10.)\n",
    "if not m1m3ForceBalance.forceMagnitude:\n",
    "    await m1m3.cmd_enableHardpointCorrections.set_start(timeout=10)\n",
    "    await asyncio.sleep(3.)\n",
    "    m1m3ForceBalance = await m1m3.evt_appliedBalanceForces.aget(timeout=10.)\n",
    "    print(\"Magnitude of the m1m3 force balance system\", m1m3ForceBalance.forceMagnitude)"
   ]
  },
  {
   "cell_type": "code",
   "execution_count": null,
   "metadata": {},
   "outputs": [],
   "source": [
    "mountAngle = await mount.tel_elevation.aget(timeout=10.)\n",
    "print(\"mount elevation angle\", mountAngle.angleActual, pd.to_datetime(mountAngle.private_sndStamp, unit='s'))"
   ]
  },
  {
   "cell_type": "code",
   "execution_count": null,
   "metadata": {},
   "outputs": [],
   "source": [
    "fel2 = await m1m3.evt_appliedElevationForces.aget(timeout=10.)\n",
    "faz2 = await m1m3.evt_appliedAzimuthForces.aget(timeout=10.)\n",
    "fth2 = await m1m3.evt_appliedThermalForces.aget(timeout=10.)\n",
    "fba2 = await m1m3.evt_appliedBalanceForces.aget(timeout=10.)\n",
    "fac2 = await m1m3.evt_appliedAccelerationForces.aget(timeout=10.)\n",
    "fve2 = await m1m3.evt_appliedVelocityForces.aget(timeout=10.)\n",
    "fst2 = await m1m3.evt_appliedStaticForces.aget(timeout=10.)\n",
    "fab2 = await m1m3.evt_appliedAberrationForces.aget(timeout=10.)\n",
    "fof2 = await m1m3.evt_appliedOffsetForces.aget(timeout=10.)\n",
    "fao2 = await m1m3.evt_appliedActiveOpticForces.aget(timeout=10.)\n",
    "ftel2 = await m1m3.tel_forceActuatorData.aget(timeout=10.)\n",
    "eForces2 = lookUpElevation(lutel, 90 - mountAngle.angleActual) #Input to LUT is zenith angle, need to change!"
   ]
  },
  {
   "cell_type": "code",
   "execution_count": null,
   "metadata": {},
   "outputs": [],
   "source": [
    "fig, ax = plt.subplots(1,2, figsize=(15,5))\n",
    "ax[0].plot([fel.zForces[i] for i in range(156)] - eForces, '-', label='EFD - expected')\n",
    "ax[0].plot([fel2.zForces[i] for i in range(156)] - eForces2, '-o', label='EFD2 - expected2')\n",
    "ax[0].legend()\n",
    "\n",
    "ax[1].plot(eForces - eForces2, label='expected2-expected')\n",
    "ax[1].legend();"
   ]
  },
  {
   "cell_type": "code",
   "execution_count": null,
   "metadata": {},
   "outputs": [],
   "source": [
    "#check the change in the balance forces\n",
    "plotForces(fel2, fba2, fst2, fao2)"
   ]
  },
  {
   "cell_type": "code",
   "execution_count": null,
   "metadata": {},
   "outputs": [],
   "source": [
    "plt.plot(fba.zForces, label='before')\n",
    "plt.plot(fba2.zForces, label='now')\n",
    "plt.grid()\n",
    "plt.title('Balanced forces - z')\n",
    "plt.legend();"
   ]
  },
  {
   "cell_type": "markdown",
   "metadata": {},
   "source": [
    "#### repeat the above using 89.5 deg elevation angle"
   ]
  },
  {
   "cell_type": "code",
   "execution_count": null,
   "metadata": {},
   "outputs": [],
   "source": [
    "#need to go to mountTelGenerator.ipynb, stop the telemetry, and resend as 89.5 deg\n",
    "mountAngle = await mount.tel_elevation.aget(timeout=10.)\n",
    "print(\"mount elevation angle\", mountAngle.angleActual, pd.to_datetime(mountAngle.private_sndStamp, unit='s'))"
   ]
  },
  {
   "cell_type": "code",
   "execution_count": null,
   "metadata": {},
   "outputs": [],
   "source": [
    "fel3 = await m1m3.evt_appliedElevationForces.aget(timeout=10.)\n",
    "faz3 = await m1m3.evt_appliedAzimuthForces.aget(timeout=10.)\n",
    "fth3 = await m1m3.evt_appliedThermalForces.aget(timeout=10.)\n",
    "fba3 = await m1m3.evt_appliedBalanceForces.aget(timeout=10.)\n",
    "fac3 = await m1m3.evt_appliedAccelerationForces.aget(timeout=10.)\n",
    "fve3 = await m1m3.evt_appliedVelocityForces.aget(timeout=10.)\n",
    "fst3 = await m1m3.evt_appliedStaticForces.aget(timeout=10.)\n",
    "fab3 = await m1m3.evt_appliedAberrationForces.aget(timeout=10.)\n",
    "fof3 = await m1m3.evt_appliedOffsetForces.aget(timeout=10.)\n",
    "fao3 = await m1m3.evt_appliedActiveOpticForces.aget(timeout=10.)\n",
    "ftel3 = await m1m3.tel_forceActuatorData.aget(timeout=10.)\n",
    "eForces3 = lookUpElevation(lutel, 90-mountAngle.angleActual)"
   ]
  },
  {
   "cell_type": "code",
   "execution_count": null,
   "metadata": {},
   "outputs": [],
   "source": [
    "fig, ax = plt.subplots(1,2, figsize=(15,5))\n",
    "ax[0].plot([fel.zForces[i] for i in range(156)] - eForces, '-', label='EFD - expected')\n",
    "ax[0].plot([fel2.zForces[i] for i in range(156)] - eForces2, '-o', label='EFD2 - expected2')\n",
    "ax[0].plot([fel3.zForces[i] for i in range(156)] - eForces3, '-', label='EFD3 - expected3')\n",
    "ax[0].legend()\n",
    "\n",
    "ax[1].plot(eForces - eForces2, label='expected2-expected')\n",
    "ax[1].plot(eForces - eForces3, label='expected3-expected')\n",
    "ax[1].grid()\n",
    "ax[1].legend();"
   ]
  },
  {
   "cell_type": "code",
   "execution_count": null,
   "metadata": {},
   "outputs": [],
   "source": [
    "fig, ax = plt.subplots(1,1, figsize=(15,10))\n",
    "plt.plot(fba.zForces, label='90 deg')\n",
    "plt.plot(fba2.zForces, label='89.7 deg')\n",
    "plt.plot(fba3.zForces, 'o', label='now (89.5 deg)')\n",
    "plt.grid()\n",
    "plt.title('Balanced forces - z')\n",
    "plt.legend();"
   ]
  },
  {
   "cell_type": "code",
   "execution_count": null,
   "metadata": {},
   "outputs": [],
   "source": []
  },
  {
   "cell_type": "markdown",
   "metadata": {},
   "source": [
    "### Close up"
   ]
  },
  {
   "cell_type": "code",
   "execution_count": null,
   "metadata": {},
   "outputs": [],
   "source": [
    "#if we started with enabled state, we need to put it back\n",
    "await salobj.set_summary_state(m1m3, salobj.State.ENABLED,  settingsToApply='Default')"
   ]
  },
  {
   "cell_type": "code",
   "execution_count": null,
   "metadata": {},
   "outputs": [],
   "source": [
    "await salobj.set_summary_state(mount, salobj.State.ENABLED)"
   ]
  },
  {
   "cell_type": "markdown",
   "metadata": {},
   "source": [
    "### Check if the telescope is in tracking mode. If yes, need to stop stacking. \n",
    "The alternative is to check \"MT Mount status\" dash board on Chronograf. Make sure there are three \"False\"."
   ]
  },
  {
   "cell_type": "code",
   "execution_count": null,
   "metadata": {},
   "outputs": [],
   "source": [
    "mountStatus = await mount.evt_axesInPosition.aget(timeout=5.)\n",
    "rotStatus = await rot.evt_inPosition.aget(timeout=5.)\n",
    "trackingStatus = mountStatus.elevation and mountStatus.azimuth and rotStatus.inPosition\n",
    "print('Are we tracking?', trackingStatus)"
   ]
  },
  {
   "cell_type": "code",
   "execution_count": null,
   "metadata": {},
   "outputs": [],
   "source": [
    "await ptg.cmd_stopTracking.set_start(timeout=5.)"
   ]
  }
 ],
 "metadata": {
  "kernelspec": {
   "display_name": "LSST",
   "language": "python",
   "name": "lsst"
  },
  "language_info": {
   "codemirror_mode": {
    "name": "ipython",
    "version": 3
   },
   "file_extension": ".py",
   "mimetype": "text/x-python",
   "name": "python",
   "nbconvert_exporter": "python",
   "pygments_lexer": "ipython3",
   "version": "3.8.6"
  }
 },
 "nbformat": 4,
 "nbformat_minor": 4
}
