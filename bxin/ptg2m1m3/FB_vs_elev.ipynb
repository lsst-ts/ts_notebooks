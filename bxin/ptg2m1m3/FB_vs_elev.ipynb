{
 "cells": [
  {
   "cell_type": "markdown",
   "id": "inner-review",
   "metadata": {},
   "source": [
    "### Check how the FB system responded during https://jira.lsstcorp.org/browse/SUMMIT-5078\n",
    "\n",
    "With M1M3 sitting at zenith, we let it use mount telemetry elevatino angle to determine its elevation forces. \n",
    "The created imbalance in the system, which we relied on the FB system to cancel out.\n",
    "The system faulted with elevation angle at about 79.5 deg. Actuator 319 near-neighbor check was triggered."
   ]
  },
  {
   "cell_type": "code",
   "execution_count": null,
   "id": "inclusive-tolerance",
   "metadata": {},
   "outputs": [],
   "source": [
    "summit = 1 #use this for summit testing\n",
    "#summit = 0 #use this for NCSA"
   ]
  },
  {
   "cell_type": "code",
   "execution_count": null,
   "id": "interim-occasion",
   "metadata": {},
   "outputs": [],
   "source": [
    "import numpy as np\n",
    "from matplotlib import pyplot as plt\n",
    "from astropy.time import Time\n",
    "from datetime import datetime, timedelta\n",
    "import pandas as pd\n",
    "\n",
    "from lsst.ts.idl.enums import MTM1M3\n",
    "from M1M3tools import *\n",
    "from lsst_efd_client import EfdClient\n",
    "\n",
    "plt.jet();"
   ]
  },
  {
   "cell_type": "code",
   "execution_count": null,
   "id": "plastic-granny",
   "metadata": {},
   "outputs": [],
   "source": [
    "if summit:\n",
    "    client = EfdClient('summit_efd')\n",
    "else:\n",
    "    client = EfdClient('ncsa_teststand_efd')\n",
    "csc_index = 1"
   ]
  },
  {
   "cell_type": "code",
   "execution_count": null,
   "id": "other-accreditation",
   "metadata": {},
   "outputs": [],
   "source": [
    "end = Time('2021-04-01T16:06:00')\n",
    "start = end - timedelta(minutes=5)\n",
    "df = await client.select_time_series('lsst.sal.MTM1M3.forceActuatorData', '*', \n",
    "                                     (start-timedelta(seconds=37)).tai, (end-timedelta(seconds=37)).tai, csc_index)\n",
    "dfm = await client.select_time_series('lsst.sal.MTMount.elevation', '*', \n",
    "                                     (start-timedelta(seconds=37)).tai, (end-timedelta(seconds=37)).tai, csc_index)"
   ]
  },
  {
   "cell_type": "markdown",
   "id": "foster-senegal",
   "metadata": {},
   "source": [
    "### Find out the exact elevation angle where we faulted"
   ]
  },
  {
   "cell_type": "code",
   "execution_count": null,
   "id": "turkish-comfort",
   "metadata": {},
   "outputs": [],
   "source": [
    "#find where we started faulting. 170000 is mirror weight in Newton\n",
    "aa = np.array(df.forceMagnitude)\n",
    "idx = np.argmax(aa<170000)\n",
    "tt = df.private_sndStamp[idx] #mount telemetry was published at 1Hz\n",
    "idxm = np.logical_and(dfm.private_sndStamp >tt-1, dfm.private_sndStamp <tt+1)"
   ]
  },
  {
   "cell_type": "code",
   "execution_count": null,
   "id": "biological-turkish",
   "metadata": {},
   "outputs": [],
   "source": [
    "plt.plot(np.arange(20), df.forceMagnitude[idx-10:idx+10],'-o')\n",
    "plt.grid();"
   ]
  },
  {
   "cell_type": "code",
   "execution_count": null,
   "id": "former-humanity",
   "metadata": {},
   "outputs": [],
   "source": [
    "#what was the mount elevation angle when we faulted\n",
    "dfm.actualPosition[idxm]"
   ]
  },
  {
   "cell_type": "markdown",
   "id": "smart-windsor",
   "metadata": {},
   "source": [
    "### Check the forces at the time we faulted"
   ]
  },
  {
   "cell_type": "code",
   "execution_count": null,
   "id": "mechanical-finland",
   "metadata": {},
   "outputs": [],
   "source": [
    "idIdx = []\n",
    "#https://github.com/lsst-ts/ts_m1m3support/blob/develop/SettingFiles/Tables/ForceActuatorNearNeighborZTable.csv\n",
    "myID = [319, 312, 318, 325, 311] \n",
    "for i in myID:\n",
    "    idIdx.append(np.argmax(actID==i))"
   ]
  },
  {
   "cell_type": "code",
   "execution_count": null,
   "id": "heated-consumer",
   "metadata": {},
   "outputs": [],
   "source": [
    "testIdx = idx\n",
    "for i, j in zip(idIdx,myID):\n",
    "    print(j, fat[i, FATABLE_TYPE], end = ' ')\n",
    "    print(df['zForce%d'%i][testIdx])\n",
    "    if j == 319:\n",
    "        centerF = df['zForce%d'%i][testIdx]\n",
    "        outsideF = []\n",
    "    else:\n",
    "        outsideF.append(df['zForce%d'%i][testIdx])\n",
    "print('near neighbor check: ', centerF - np.mean(outsideF))"
   ]
  },
  {
   "cell_type": "markdown",
   "id": "ideal-sellers",
   "metadata": {},
   "source": [
    "### Check how the forces changed during the entire process"
   ]
  },
  {
   "cell_type": "code",
   "execution_count": null,
   "id": "fuzzy-surge",
   "metadata": {},
   "outputs": [],
   "source": [
    "end = Time('2021-04-01T16:06:00')\n",
    "start = end - timedelta(minutes=40)\n",
    "dflist = []\n",
    "for i in idIdx:\n",
    "    print(i)\n",
    "    dflist.append(await client.select_time_series('lsst.sal.MTM1M3.forceActuatorData', 'zForce%d'%i, \n",
    "                                     (start-timedelta(seconds=37)).tai, (end-timedelta(seconds=37)).tai, csc_index))"
   ]
  },
  {
   "cell_type": "code",
   "execution_count": null,
   "id": "marine-signature",
   "metadata": {},
   "outputs": [],
   "source": [
    "fig, ax = plt.subplots(1,1, figsize=(15,4))\n",
    "for i,j in enumerate(myID):\n",
    "    plt.plot(dflist[i], label='%d'%j)\n",
    "plt.plot(dflist[0] - np.mean(dflist[1:]), label='near-neighbor diff')\n",
    "plt.legend()"
   ]
  },
  {
   "cell_type": "code",
   "execution_count": null,
   "id": "magnetic-fantasy",
   "metadata": {},
   "outputs": [],
   "source": [
    "dfm = await client.select_time_series('lsst.sal.MTMount.elevation', '*', \n",
    "                                     (start-timedelta(seconds=37)).tai, (end-timedelta(seconds=37)).tai, csc_index)"
   ]
  },
  {
   "cell_type": "code",
   "execution_count": null,
   "id": "entire-fundamental",
   "metadata": {},
   "outputs": [],
   "source": [
    "fig, ax = plt.subplots(1,1, figsize=(15,4))\n",
    "plt.plot(dfm.actualPosition)\n",
    "plt.grid();"
   ]
  },
  {
   "cell_type": "markdown",
   "id": "material-groove",
   "metadata": {},
   "source": [
    "319, 311, 318 forces were decreasing. While 312, 325 forces were increasing. This feels a bit strange. They are all at negative x and negative y. The balance force distributions are all linear. Why would that affect these 5 actuators differetly.\n",
    "\n",
    "![title](fault319.png)"
   ]
  },
  {
   "cell_type": "code",
   "execution_count": null,
   "id": "homeless-queue",
   "metadata": {},
   "outputs": [],
   "source": [
    "dflist = []\n",
    "for i in idIdx:\n",
    "    print(i)\n",
    "    dflist.append(await client.select_time_series('lsst.sal.MTM1M3.logevent_appliedElevationForces', 'zForces%d'%i, \n",
    "                                     (start-timedelta(seconds=37)).tai, (end-timedelta(seconds=37)).tai, csc_index))\n",
    "fig, ax = plt.subplots(1,1, figsize=(15,4))\n",
    "for i,j in enumerate(myID):\n",
    "    plt.plot(dflist[i], label='%d'%j)\n",
    "plt.legend()"
   ]
  },
  {
   "cell_type": "code",
   "execution_count": null,
   "id": "nonprofit-motivation",
   "metadata": {},
   "outputs": [],
   "source": [
    "dflist = []\n",
    "for i in idIdx:\n",
    "    print(i)\n",
    "    dflist.append(await client.select_time_series('lsst.sal.MTM1M3.logevent_appliedBalanceForces', 'zForces%d'%i, \n",
    "                                     (start-timedelta(seconds=37)).tai, (end-timedelta(seconds=37)).tai, csc_index))\n",
    "fig, ax = plt.subplots(1,1, figsize=(15,4))\n",
    "for i,j in enumerate(myID):\n",
    "    plt.plot(dflist[i], label='%d'%j)\n",
    "plt.legend()"
   ]
  },
  {
   "cell_type": "code",
   "execution_count": null,
   "id": "detected-nicholas",
   "metadata": {},
   "outputs": [],
   "source": []
  }
 ],
 "metadata": {
  "kernelspec": {
   "display_name": "LSST",
   "language": "python",
   "name": "lsst"
  },
  "language_info": {
   "codemirror_mode": {
    "name": "ipython",
    "version": 3
   },
   "file_extension": ".py",
   "mimetype": "text/x-python",
   "name": "python",
   "nbconvert_exporter": "python",
   "pygments_lexer": "ipython3",
   "version": "3.8.8"
  }
 },
 "nbformat": 4,
 "nbformat_minor": 5
}
