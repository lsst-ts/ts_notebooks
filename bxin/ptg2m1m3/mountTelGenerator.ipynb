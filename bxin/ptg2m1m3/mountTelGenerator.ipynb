{
 "cells": [
  {
   "cell_type": "markdown",
   "metadata": {},
   "source": [
    "## Mount elevation telemetry generator"
   ]
  },
  {
   "cell_type": "code",
   "execution_count": null,
   "metadata": {},
   "outputs": [],
   "source": [
    "from lsst.ts import salobj\n",
    "import asyncio\n",
    "import os\n",
    "\n",
    "import numpy as np\n",
    "from matplotlib import pyplot as plt\n",
    "from astropy.time import Time\n",
    "from datetime import datetime, timedelta\n",
    "import pandas as pd\n",
    "import time"
   ]
  },
  {
   "cell_type": "code",
   "execution_count": null,
   "metadata": {},
   "outputs": [],
   "source": [
    "summit = 1 #use this for summit testing\n",
    "#summit = 0 #use this for NCSA"
   ]
  },
  {
   "cell_type": "code",
   "execution_count": null,
   "metadata": {},
   "outputs": [],
   "source": [
    "if summit:\n",
    "    os.environ[\"OSPL_URI\"]=\"file:///home/bxin/WORK/ts_ddsconfig/config/ospl-sp.xml\"\n",
    "    os.environ[\"LSST_DDS_DOMAIN_ID\"] = \"11\"\n",
    "    print(os.environ[\"OSPL_URI\"])\n",
    "    print(os.environ[\"LSST_DDS_PARTITION_PREFIX\"])\n",
    "    print(os.environ[\"LSST_DDS_DOMAIN_ID\"])\n",
    "else:\n",
    "    import os\n",
    "    print(os.environ[\"OSPL_URI\"])\n",
    "    if os.environ.get(\"LSST_DDS_ALIGNER\", \"false\") != \"false\":\n",
    "        print(\"LSST_DDS_ALIGNER is mis-configured\")"
   ]
  },
  {
   "cell_type": "markdown",
   "metadata": {},
   "source": [
    "## Go to step 3 if you do not have a mount CSC running"
   ]
  },
  {
   "cell_type": "markdown",
   "metadata": {},
   "source": [
    "#### 0. set up mount remote"
   ]
  },
  {
   "cell_type": "code",
   "execution_count": null,
   "metadata": {},
   "outputs": [],
   "source": [
    "start_time = datetime.now()\n",
    "script = salobj.Controller(\"Script\", index=1)\n",
    "await asyncio.sleep(10) #wait 10 second may help with DDS problems; closing all other kernels may help too\n",
    "mount = salobj.Remote(script.domain, \"MTMount\")\n",
    "print(f'time to start is {datetime.now() - start_time} [s]')"
   ]
  },
  {
   "cell_type": "code",
   "execution_count": null,
   "metadata": {},
   "outputs": [],
   "source": [
    "await mount.start_task"
   ]
  },
  {
   "cell_type": "markdown",
   "metadata": {},
   "source": [
    "#### 1. mount status"
   ]
  },
  {
   "cell_type": "code",
   "execution_count": null,
   "metadata": {},
   "outputs": [],
   "source": [
    "sstate = await mount.evt_summaryState.aget(timeout=5)\n",
    "print('mount state',salobj.State(sstate.summaryState), pd.to_datetime(sstate.private_sndStamp, unit='s'))"
   ]
  },
  {
   "cell_type": "code",
   "execution_count": null,
   "metadata": {},
   "outputs": [],
   "source": [
    "await mount.evt_heartbeat.next(flush=True, timeout=5)"
   ]
  },
  {
   "cell_type": "code",
   "execution_count": null,
   "metadata": {},
   "outputs": [],
   "source": [
    "mountAngle = await mount.tel_elevation.aget(timeout=10.)\n",
    "print(\"mount elevation angle\", mountAngle.actualPosition, pd.to_datetime(mountAngle.private_sndStamp, unit='s'))"
   ]
  },
  {
   "cell_type": "markdown",
   "metadata": {},
   "source": [
    "#### 2. Put Mount into STANDBY"
   ]
  },
  {
   "cell_type": "code",
   "execution_count": null,
   "metadata": {},
   "outputs": [],
   "source": [
    "async def checkMountTel(mount):\n",
    "    print('-------------------------------------------------------')\n",
    "    for i in range(3):\n",
    "        await asyncio.sleep(1.0)\n",
    "        mountAngle = await mount.tel_elevation.aget(timeout=10.)\n",
    "        print(\"mount elevation angle\", mountAngle.actualPosition, pd.to_datetime(mountAngle.private_sndStamp, unit='s'))\n",
    "\n",
    "await checkMountTel(mount)\n",
    "await salobj.set_summary_state(mount, salobj.State.STANDBY)\n",
    "await checkMountTel(mount)"
   ]
  },
  {
   "cell_type": "markdown",
   "metadata": {},
   "source": [
    "#### 3. Initiate Mount Controller object"
   ]
  },
  {
   "cell_type": "code",
   "execution_count": null,
   "metadata": {},
   "outputs": [],
   "source": [
    "mountCtrl = salobj.Controller(name=\"MTMount\")\n",
    "await mountCtrl.start_task"
   ]
  },
  {
   "cell_type": "code",
   "execution_count": null,
   "metadata": {},
   "outputs": [],
   "source": [
    "#for setting constant elevation and azimuth angles.\n",
    "start_time = Time(datetime.now())\n",
    "freq = 1 #Hz\n",
    "end_time = start_time + timedelta(minutes=80)\n",
    "while Time(datetime.now())< end_time:\n",
    "    await asyncio.sleep(1.0/freq)\n",
    "    #mountCtrl.tel_elevation.set_put(angleActual=mountAngle.angleActual+dAngle)\n",
    "    #mountCtrl.tel_elevation.set_put(angleActual=89.5)\n",
    "    #mountCtrl.tel_elevation.set_put(actualPosition=75)\n",
    "    mountCtrl.tel_elevation.set_put(actualPosition=88)\n",
    "    mountCtrl.tel_azimuth.set_put(actualPosition=45.0)"
   ]
  },
  {
   "cell_type": "code",
   "execution_count": null,
   "metadata": {},
   "outputs": [],
   "source": [
    "#this cell is used when we do not know how much we can deviate \n",
    "#from the real elevation angle (as measured by the inclinometer)\n",
    "# we change the angle as a function of time, and stop at round numbers\n",
    "\n",
    "freq = 1 #Hz\n",
    "startAngle = 86\n",
    "stopAngle = 75\n",
    "vAngle = 1 #1 deg change per minute\n",
    "holdMinutes = 2 #how long to hold at integeter values of the elevation angle\n",
    "angleStepSize = 1 #each time we change by 1 deg, before we hold in place\n",
    "\n",
    "rampMinutes = angleStepSize/vAngle\n",
    "print('This will run for %.0f minutes'%((startAngle - stopAngle)*(rampMinutes+holdMinutes)))\n",
    "start_time = Time(datetime.now())\n",
    "startTime = time.time()\n",
    "end_time = start_time + timedelta(minutes=80)\n",
    "demandAngle = startAngle\n",
    "while demandAngle > stopAngle-0.01:\n",
    "    await asyncio.sleep(1.0/freq)\n",
    "    \n",
    "    timeNow = time.time()\n",
    "    minutesEllapsed = (timeNow - startTime)/60\n",
    "    cyclePassed = np.floor(minutesEllapsed/(rampMinutes+holdMinutes))\n",
    "    minutesIntoThisCycle = min(rampMinutes, minutesEllapsed - cyclePassed*(rampMinutes+holdMinutes))\n",
    "    demandAngle = startAngle -  cyclePassed*angleStepSize - minutesIntoThisCycle * vAngle\n",
    "    print(demandAngle, cyclePassed, minutesIntoThisCycle)\n",
    "    #mountCtrl.tel_elevation.set_put(actualPosition=demandAngle)"
   ]
  },
  {
   "cell_type": "markdown",
   "metadata": {},
   "source": [
    "### Close up"
   ]
  },
  {
   "cell_type": "code",
   "execution_count": null,
   "metadata": {},
   "outputs": [],
   "source": [
    "await mountCtrl.close()"
   ]
  },
  {
   "cell_type": "code",
   "execution_count": null,
   "metadata": {},
   "outputs": [],
   "source": [
    "await salobj.set_summary_state(mount, salobj.State.STANDBY)"
   ]
  },
  {
   "cell_type": "code",
   "execution_count": null,
   "metadata": {},
   "outputs": [],
   "source": [
    "await salobj.set_summary_state(mount, salobj.State.ENABLED)"
   ]
  },
  {
   "cell_type": "code",
   "execution_count": null,
   "metadata": {},
   "outputs": [],
   "source": []
  }
 ],
 "metadata": {
  "kernelspec": {
   "display_name": "LSST",
   "language": "python",
   "name": "lsst"
  },
  "language_info": {
   "codemirror_mode": {
    "name": "ipython",
    "version": 3
   },
   "file_extension": ".py",
   "mimetype": "text/x-python",
   "name": "python",
   "nbconvert_exporter": "python",
   "pygments_lexer": "ipython3",
   "version": "3.8.8"
  }
 },
 "nbformat": 4,
 "nbformat_minor": 4
}
