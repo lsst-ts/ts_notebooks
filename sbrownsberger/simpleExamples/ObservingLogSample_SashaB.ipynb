{
 "cells": [
  {
   "cell_type": "markdown",
   "metadata": {},
   "source": [
    "Continuous log of some measurements taken. "
   ]
  },
  {
   "cell_type": "code",
   "execution_count": 1,
   "metadata": {},
   "outputs": [],
   "source": [
    "import sys\n",
    "import asyncio\n",
    "import logging\n",
    "import time\n",
    "\n",
    "import numpy as np\n",
    "\n",
    "from lsst.ts import salobj\n",
    "\n",
    "\n",
    "from lsst.ts.standardscripts.auxtel.attcs import ATTCS\n",
    "from lsst.ts.standardscripts.auxtel.latiss import LATISS"
   ]
  },
  {
   "cell_type": "code",
   "execution_count": 2,
   "metadata": {},
   "outputs": [],
   "source": [
    "stream_handler = logging.StreamHandler(sys.stdout)\n",
    "logger = logging.getLogger()\n",
    "logger.addHandler(stream_handler)\n",
    "logger.level = logging.DEBUG"
   ]
  },
  {
   "cell_type": "code",
   "execution_count": 3,
   "metadata": {},
   "outputs": [
    {
     "name": "stdout",
     "output_type": "stream",
     "text": [
      "Read historical data in 0.01 sec\n",
      "Read historical data in 0.27 sec\n",
      "Read historical data in 0.97 sec\n",
      "Read historical data in 1.57 sec\n",
      "Read historical data in 1.85 sec\n",
      "Read historical data in 2.59 sec\n",
      "Read historical data in 2.83 sec\n",
      "Read historical data in 3.51 sec\n",
      "Read historical data in 4.58 sec\n",
      "Read historical data in 5.10 sec\n",
      "Read historical data in 6.01 sec\n"
     ]
    }
   ],
   "source": [
    "attcs = ATTCS()\n",
    "latiss = LATISS(attcs.domain) "
   ]
  },
  {
   "cell_type": "code",
   "execution_count": 4,
   "metadata": {},
   "outputs": [
    {
     "name": "stdout",
     "output_type": "stream",
     "text": [
      "RemoteTelemetry(ATDome, 0, position) falling behind; read 28 messages\n",
      "RemoteEvent(ATSpectrograph, 0, heartbeat) falling behind; read 16 messages\n",
      "RemoteTelemetry(ATPtg, 0, timeAndDate) falling behind; read 12 messages\n"
     ]
    },
    {
     "data": {
      "text/plain": [
       "[None, None, None, None, None, None, None]"
      ]
     },
     "execution_count": 4,
     "metadata": {},
     "output_type": "execute_result"
    },
    {
     "name": "stdout",
     "output_type": "stream",
     "text": [
      "RemoteTelemetry(ATPtg, 0, mountStatus) falling behind; read 13 messages\n",
      "RemoteTelemetry(ATPtg, 0, guidingAndOffsets) falling behind; read 14 messages\n",
      "RemoteTelemetry(ATPtg, 0, currentTargetStatus) falling behind; read 15 messages\n",
      "RemoteEvent(ATMCS, 0, target) falling behind; read 100 messages\n",
      "RemoteTelemetry(ATMCS, 0, trajectory) falling behind; read 15 messages\n",
      "RemoteTelemetry(ATMCS, 0, torqueDemand) falling behind; read 13 messages\n",
      "RemoteEvent(ATDomeTrajectory, 0, logMessage) falling behind; read 17 messages\n",
      "RemoteTelemetry(ATMCS, 0, nasymth_m3_mountMotorEncoders) falling behind; read 24 messages\n",
      "RemoteTelemetry(ATMCS, 0, measuredTorque) falling behind; read 25 messages\n",
      "RemoteTelemetry(ATMCS, 0, measuredMotorVelocity) falling behind; read 26 messages\n",
      "RemoteTelemetry(ATMCS, 0, azEl_mountMotorEncoders) falling behind; read 26 messages\n",
      "RemoteEvent(ATMCS, 0, heartbeat) falling behind; read 26 messages\n",
      "RemoteTelemetry(ATMCS, 0, mount_Nasmyth_Encoders) falling behind; read 18 messages\n",
      "RemoteTelemetry(ATMCS, 0, mount_AzEl_Encoders) falling behind; read 18 messages\n"
     ]
    }
   ],
   "source": [
    "await attcs.start_task"
   ]
  },
  {
   "cell_type": "code",
   "execution_count": 5,
   "metadata": {},
   "outputs": [
    {
     "name": "stdout",
     "output_type": "stream",
     "text": [
      "Gathering settings.\n",
      "No settings for atmcs.\n",
      "Using                                                                                                                                 from settingVersions event.\n",
      "No settings for atptg.\n",
      "Couldn't get settingVersions event. Using empty settings.\n",
      "No settings for ataos.\n",
      "Using current from settingVersions event.\n",
      "No settings for atpneumatics.\n",
      "Using                                                                                                                                 from settingVersions event.\n",
      "No settings for athexapod.\n",
      "Using current from settingVersions event.\n",
      "No settings for atdome.\n",
      "Using test from settingVersions event.\n",
      "No settings for atdometrajectory.\n",
      "Using  from settingVersions event.\n",
      "Settings versions: {'atmcs': '                                                                                                                               ', 'atptg': '', 'ataos': 'current', 'atpneumatics': '                                                                                                                               ', 'athexapod': 'current', 'atdome': 'test', 'atdometrajectory': ''}\n",
      "Enabling all components\n",
      "Enabling  atmcs\n",
      "Enabling  atptg\n",
      "Enabling  ataos\n",
      "Enabling  atpneumatics\n",
      "Enabling  athexapod\n",
      "Enabling  atdome\n",
      "Enabling  atdometrajectory\n",
      "[atmcs]::[<State.ENABLED: 2>]\n",
      "[atptg]::[<State.ENABLED: 2>]\n",
      "[ataos]::[<State.ENABLED: 2>]\n",
      "[atpneumatics]::[<State.ENABLED: 2>]\n",
      "[athexapod]::[<State.ENABLED: 2>]\n",
      "[atdome]::[<State.ENABLED: 2>]\n",
      "[atdometrajectory]::[<State.DISABLED: 1>, <State.ENABLED: 2>]\n",
      "All components enabled.\n",
      "Gathering settings.\n",
      "No settings for atcamera.\n",
      "Couldn't get settingVersions event. Using empty settings.\n",
      "No settings for atspectrograph.\n",
      "Using current from settingVersions event.\n",
      "No settings for atheaderservice.\n",
      "Couldn't get settingVersions event. Using empty settings.\n",
      "No settings for atarchiver.\n",
      "Using normal from settingVersions event.\n",
      "Settings versions: {'atcamera': '', 'atspectrograph': 'current', 'atheaderservice': '', 'atarchiver': 'normal'}\n",
      "Enabling all components\n",
      "Enabling  atcamera\n",
      "Enabling  atspectrograph\n",
      "Enabling  atheaderservice\n",
      "Enabling  atarchiver\n",
      "[atcamera]::[<State.ENABLED: 2>]\n",
      "[atspectrograph]::[<State.ENABLED: 2>]\n",
      "[atheaderservice]::[<State.ENABLED: 2>]\n",
      "[atarchiver]::[<State.ENABLED: 2>]\n",
      "All components enabled.\n"
     ]
    }
   ],
   "source": [
    "await attcs.enable()\n",
    "await latiss.enable() "
   ]
  },
  {
   "cell_type": "code",
   "execution_count": 5,
   "metadata": {},
   "outputs": [
    {
     "data": {
      "text/plain": [
       "<lsst.ts.salobj.ddsutil.ATPtg_ackcmd_2d655b72 at 0x7f8738378ef0>"
      ]
     },
     "execution_count": 5,
     "metadata": {},
     "output_type": "execute_result"
    }
   ],
   "source": [
    "await salobj.set_summary_state(attcs.atptg, salobj.State.STANDBY)\n",
    "await salobj.set_summary_state(attcs.atptg, salobj.State.ENABLED)\n",
    "await attcs.atptg.cmd_focusName.set_start(focus=3)"
   ]
  },
  {
   "cell_type": "code",
   "execution_count": 6,
   "metadata": {},
   "outputs": [
    {
     "name": "stdout",
     "output_type": "stream",
     "text": [
      "Starting new HTTP connection (1): simbad.u-strasbg.fr:80\n",
      "http://simbad.u-strasbg.fr:80 \"POST /simbad/sim-script HTTP/1.1\" 200 None\n",
      "Slewing to HD 20894: 03 21 24.0043 -23 38 06.552\n",
      "Parallactic angle: -110.05413804414718 | Sky Angle: -110.05413804414718\n",
      "Sending command\n",
      "Stop tracking.\n",
      "Mount tracking state is 8\n",
      "In Position: False.\n",
      "Scheduling check coroutines\n",
      "process as completed...\n",
      "Got False\n",
      "Telescope not in position\n",
      "atmcs: <State.ENABLED: 2>\n",
      "atptg: <State.ENABLED: 2>\n",
      "ataos: <State.ENABLED: 2>\n",
      "atpneumatics: <State.ENABLED: 2>\n",
      "athexapod: <State.ENABLED: 2>\n",
      "atdome: <State.ENABLED: 2>\n",
      "atdometrajectory: <State.ENABLED: 2>\n",
      "[Telescope] delta Alt = +021.311 | delta Az= -120.737 [Dome] delta Az = +066.047\n",
      "[Telescope] delta Alt = +021.114 | delta Az= -118.143 [Dome] delta Az = +065.207\n",
      "[Telescope] delta Alt = +019.983 | delta Az= -114.148 [Dome] delta Az = +063.447\n",
      "[Telescope] delta Alt = +017.650 | delta Az= -110.159 [Dome] delta Az = +060.767\n",
      "[Telescope] delta Alt = +014.294 | delta Az= -106.164 [Dome] delta Az = +057.567\n",
      "[Telescope] delta Alt = +010.380 | delta Az= -102.168 [Dome] delta Az = +053.137\n",
      "[Telescope] delta Alt = +006.524 | delta Az= -098.174 [Dome] delta Az = +047.807\n",
      "[Telescope] delta Alt = +003.323 | delta Az= -094.179 [Dome] delta Az = +041.577\n",
      "[Telescope] delta Alt = +001.200 | delta Az= -090.184 [Dome] delta Az = +034.697\n",
      "[Telescope] delta Alt = +000.265 | delta Az= -086.192 [Dome] delta Az = +027.837\n",
      "[Telescope] delta Alt = +000.131 | delta Az= -082.194 [Dome] delta Az = +021.657\n",
      "[Telescope] delta Alt = +000.130 | delta Az= -078.202 [Dome] delta Az = +014.737\n",
      "[Telescope] delta Alt = +000.131 | delta Az= -074.206 [Dome] delta Az = +007.857\n",
      "[Telescope] delta Alt = +000.131 | delta Az= -070.212 [Dome] delta Az = +001.327\n",
      "[Telescope] delta Alt = +000.131 | delta Az= -066.218 [Dome] delta Az = -002.353\n",
      "[Telescope] delta Alt = +000.131 | delta Az= -062.223 [Dome] delta Az = -003.053\n",
      "[Telescope] delta Alt = +000.131 | delta Az= -058.228 [Dome] delta Az = -003.053\n",
      "[Telescope] delta Alt = +000.131 | delta Az= -054.233 [Dome] delta Az = -003.053\n",
      "[Telescope] delta Alt = +000.131 | delta Az= -050.238 [Dome] delta Az = -003.053\n",
      "[Telescope] delta Alt = +000.131 | delta Az= -046.244 [Dome] delta Az = -003.053\n",
      "[Telescope] delta Alt = +000.131 | delta Az= -042.249 [Dome] delta Az = -003.053\n",
      "[Telescope] delta Alt = +000.131 | delta Az= -038.254 [Dome] delta Az = -003.053\n",
      "[Telescope] delta Alt = +000.134 | delta Az= -036.259 [Dome] delta Az = -003.053\n",
      "[Telescope] delta Alt = +000.131 | delta Az= -032.262 [Dome] delta Az = -003.053\n",
      "[Telescope] delta Alt = +000.131 | delta Az= -028.269 [Dome] delta Az = -003.053\n",
      "[Telescope] delta Alt = +000.131 | delta Az= -024.300 [Dome] delta Az = -003.053\n",
      "[Telescope] delta Alt = +000.131 | delta Az= -020.405 [Dome] delta Az = -003.053\n",
      "[Telescope] delta Alt = +000.131 | delta Az= -016.652 [Dome] delta Az = -003.053\n",
      "[Telescope] delta Alt = +000.131 | delta Az= -013.123 [Dome] delta Az = -003.053\n",
      "[Telescope] delta Alt = +000.131 | delta Az= -009.905 [Dome] delta Az = -003.053\n",
      "[Telescope] delta Alt = +000.131 | delta Az= -007.077 [Dome] delta Az = -003.053\n",
      "[Telescope] delta Alt = +000.131 | delta Az= -004.708 [Dome] delta Az = -003.053\n",
      "[Telescope] delta Alt = +000.131 | delta Az= -002.843 [Dome] delta Az = -003.053\n",
      "[Telescope] delta Alt = +000.130 | delta Az= -001.498 [Dome] delta Az = -003.053\n",
      "[Telescope] delta Alt = +000.131 | delta Az= -000.647 [Dome] delta Az = -003.053\n",
      "[Telescope] delta Alt = +000.131 | delta Az= -000.226 [Dome] delta Az = -003.053\n",
      "[Telescope] delta Alt = +000.131 | delta Az= -000.103 [Dome] delta Az = -003.053\n",
      "[Telescope] delta Alt = +000.131 | delta Az= -000.098 [Dome] delta Az = -003.053\n",
      "Got True\n",
      "Waiting for telescope to settle.\n",
      "[Telescope] delta Alt = +000.131 | delta Az= -000.098 [Dome] delta Az = -003.053\n",
      "Telescope in position.\n",
      "ATDome in position.\n",
      "['Telescope in position.', 'ATDome in position.']\n"
     ]
    }
   ],
   "source": [
    "await attcs.slew_object(name=\"HD 20894\", pa_ang=0.)"
   ]
  },
  {
   "cell_type": "code",
   "execution_count": 5,
   "metadata": {},
   "outputs": [
    {
     "name": "stdout",
     "output_type": "stream",
     "text": [
      "Slewing to SA94 251: 02 57 46.9802 +00 16 02.711\n",
      "Parallactic angle: -152.63518183795526 | Sky Angle: -132.7110310640952\n",
      "Sending command\n",
      "Stop tracking.\n",
      "Mount tracking state is 9\n",
      "RemoteTelemetry(ATPtg, 0, guidingAndOffsets) falling behind; read 12 messages\n",
      "RemoteEvent(ATDomeTrajectory, 0, logMessage) falling behind; read 42 messages\n",
      "RemoteTelemetry(ATDome, 0, position) falling behind; read 10 messages\n",
      "RemoteTelemetry(ATPtg, 0, timeAndDate) falling behind; read 11 messages\n",
      "RemoteTelemetry(ATPtg, 0, mountStatus) falling behind; read 11 messages\n",
      "RemoteTelemetry(ATPtg, 0, currentTargetStatus) falling behind; read 12 messages\n",
      "RemoteEvent(ATMCS, 0, target) falling behind; read 42 messages\n",
      "Tracking state: 10.\n",
      "Tracking state: 8.\n",
      "In Position: True.\n",
      "In Position: False.\n",
      "Scheduling check coroutines\n",
      "process as completed...\n",
      "Got False\n",
      "Telescope not in position\n",
      "atmcs: <State.ENABLED: 2>\n",
      "atptg: <State.ENABLED: 2>\n",
      "ataos: <State.ENABLED: 2>\n",
      "atpneumatics: <State.ENABLED: 2>\n",
      "athexapod: <State.ENABLED: 2>\n",
      "atdome: <State.ENABLED: 2>\n",
      "atdometrajectory: <State.ENABLED: 2>\n",
      "[Telescope] delta Alt = +000.078 | delta Az= -000.258 [Dome] delta Az = +002.944\n",
      "[Telescope] delta Alt = +000.071 | delta Az= -000.236 [Dome] delta Az = +002.944\n",
      "[Telescope] delta Alt = +000.071 | delta Az= -000.236 [Dome] delta Az = +002.944\n",
      "[Telescope] delta Alt = +000.071 | delta Az= -000.236 [Dome] delta Az = +002.944\n",
      "[Telescope] delta Alt = +000.071 | delta Az= -000.236 [Dome] delta Az = +002.944\n",
      "[Telescope] delta Alt = +000.070 | delta Az= -000.235 [Dome] delta Az = +002.944\n",
      "[Telescope] delta Alt = +000.070 | delta Az= -000.235 [Dome] delta Az = +002.944\n",
      "[Telescope] delta Alt = +000.071 | delta Az= -000.236 [Dome] delta Az = +002.944\n",
      "[Telescope] delta Alt = +000.071 | delta Az= -000.236 [Dome] delta Az = +002.944\n",
      "[Telescope] delta Alt = +000.071 | delta Az= -000.236 [Dome] delta Az = +002.944\n",
      "[Telescope] delta Alt = +000.070 | delta Az= -000.235 [Dome] delta Az = +002.944\n",
      "[Telescope] delta Alt = +000.070 | delta Az= -000.235 [Dome] delta Az = +002.944\n",
      "[Telescope] delta Alt = +000.070 | delta Az= -000.236 [Dome] delta Az = +002.944\n",
      "[Telescope] delta Alt = +000.070 | delta Az= -000.236 [Dome] delta Az = +002.944\n",
      "[Telescope] delta Alt = +000.070 | delta Az= -000.237 [Dome] delta Az = +002.944\n",
      "[Telescope] delta Alt = +000.071 | delta Az= -000.237 [Dome] delta Az = +002.944\n",
      "[Telescope] delta Alt = +000.070 | delta Az= -000.236 [Dome] delta Az = +002.944\n",
      "[Telescope] delta Alt = +000.070 | delta Az= -000.236 [Dome] delta Az = +002.944\n",
      "[Telescope] delta Alt = +000.070 | delta Az= -000.236 [Dome] delta Az = +002.944\n",
      "[Telescope] delta Alt = +000.070 | delta Az= -000.236 [Dome] delta Az = +002.944\n",
      "[Telescope] delta Alt = +000.070 | delta Az= -000.237 [Dome] delta Az = +002.944\n",
      "[Telescope] delta Alt = +000.070 | delta Az= -000.236 [Dome] delta Az = +002.944\n",
      "[Telescope] delta Alt = +000.070 | delta Az= -000.236 [Dome] delta Az = +002.944\n",
      "[Telescope] delta Alt = +000.070 | delta Az= -000.236 [Dome] delta Az = +002.944\n",
      "[Telescope] delta Alt = +000.070 | delta Az= -000.237 [Dome] delta Az = +002.944\n",
      "[Telescope] delta Alt = +000.070 | delta Az= -000.235 [Dome] delta Az = +002.944\n",
      "[Telescope] delta Alt = +000.070 | delta Az= -000.233 [Dome] delta Az = +002.944\n",
      "[Telescope] delta Alt = +000.070 | delta Az= -000.236 [Dome] delta Az = +002.944\n",
      "[Telescope] delta Alt = +000.070 | delta Az= -000.237 [Dome] delta Az = +002.944\n",
      "[Telescope] delta Alt = +000.070 | delta Az= -000.238 [Dome] delta Az = +002.944\n",
      "Got True\n",
      "Waiting for telescope to settle.\n",
      "[Telescope] delta Alt = +000.070 | delta Az= -000.236 [Dome] delta Az = +002.944\n",
      "[Telescope] delta Alt = +000.070 | delta Az= -000.236 [Dome] delta Az = +002.944\n",
      "Telescope in position.\n",
      "ATDome in position.\n",
      "['Telescope in position.', 'ATDome in position.']\n"
     ]
    }
   ],
   "source": [
    "await attcs.slew_object(name=\"SA94 251\", pa_ang=0.)"
   ]
  },
  {
   "cell_type": "code",
   "execution_count": 6,
   "metadata": {},
   "outputs": [
    {
     "name": "stdout",
     "output_type": "stream",
     "text": [
      "Slewing to HD 45348: 06 23 57.1098 -52 41 44.381\n",
      "Parallactic angle: -94.07492407615646 | Sky Angle: -111.96805368305085\n",
      "Sending command\n",
      "Stop tracking.\n",
      "Mount tracking state is 9\n",
      "Tracking state: 10.\n",
      "Tracking state: 8.\n",
      "In Position: True.\n",
      "In Position: False.\n",
      "Scheduling check coroutines\n",
      "process as completed...\n",
      "Got False\n",
      "Telescope not in position\n",
      "atmcs: <State.ENABLED: 2>\n",
      "atptg: <State.ENABLED: 2>\n",
      "ataos: <State.ENABLED: 2>\n",
      "atpneumatics: <State.ENABLED: 2>\n",
      "athexapod: <State.ENABLED: 2>\n",
      "atdome: <State.ENABLED: 2>\n",
      "atdometrajectory: <State.ENABLED: 2>\n",
      "[Telescope] delta Alt = -019.031 | delta Az= +103.387 [Dome] delta Az = +104.353\n",
      "[Telescope] delta Alt = -018.682 | delta Az= +100.503 [Dome] delta Az = +103.413\n",
      "[Telescope] delta Alt = -017.174 | delta Az= +096.512 [Dome] delta Az = +101.553\n",
      "[Telescope] delta Alt = -014.373 | delta Az= +092.506 [Dome] delta Az = +098.783\n",
      "[Telescope] delta Alt = -010.653 | delta Az= +088.501 [Dome] delta Az = +095.083\n",
      "[Telescope] delta Alt = -006.705 | delta Az= +084.506 [Dome] delta Az = +090.463\n",
      "[Telescope] delta Alt = -003.291 | delta Az= +080.502 [Dome] delta Az = +085.523\n",
      "[Telescope] delta Alt = -001.000 | delta Az= +076.508 [Dome] delta Az = +079.183\n",
      "[Telescope] delta Alt = -000.021 | delta Az= +072.499 [Dome] delta Az = +072.313\n",
      "[Telescope] delta Alt = +000.094 | delta Az= +068.508 [Dome] delta Az = +065.413\n",
      "[Telescope] delta Alt = +000.092 | delta Az= +064.507 [Dome] delta Az = +058.533\n",
      "[Telescope] delta Alt = +000.092 | delta Az= +060.505 [Dome] delta Az = +051.623\n",
      "[Telescope] delta Alt = +000.092 | delta Az= +056.505 [Dome] delta Az = +045.433\n",
      "[Telescope] delta Alt = +000.092 | delta Az= +052.505 [Dome] delta Az = +038.553\n",
      "[Telescope] delta Alt = +000.092 | delta Az= +048.506 [Dome] delta Az = +031.653\n",
      "[Telescope] delta Alt = +000.092 | delta Az= +044.504 [Dome] delta Az = +024.753\n",
      "[Telescope] delta Alt = +000.092 | delta Az= +040.497 [Dome] delta Az = +017.873\n",
      "[Telescope] delta Alt = +000.092 | delta Az= +036.500 [Dome] delta Az = +010.993\n",
      "[Telescope] delta Alt = +000.092 | delta Az= +032.504 [Dome] delta Az = +004.823\n",
      "[Telescope] delta Alt = +000.092 | delta Az= +028.500 [Dome] delta Az = -000.627\n",
      "[Telescope] delta Alt = +000.092 | delta Az= +024.526 [Dome] delta Az = -002.857\n",
      "[Telescope] delta Alt = +000.092 | delta Az= +020.615 [Dome] delta Az = -002.937\n",
      "[Telescope] delta Alt = +000.092 | delta Az= +016.845 [Dome] delta Az = -002.937\n",
      "[Telescope] delta Alt = +000.092 | delta Az= +013.286 [Dome] delta Az = -002.937\n",
      "[Telescope] delta Alt = +000.092 | delta Az= +010.040 [Dome] delta Az = -002.937\n",
      "[Telescope] delta Alt = +000.092 | delta Az= +007.179 [Dome] delta Az = -002.937\n",
      "[Telescope] delta Alt = +000.092 | delta Az= +004.769 [Dome] delta Az = -002.937\n",
      "[Telescope] delta Alt = +000.092 | delta Az= +002.859 [Dome] delta Az = -002.937\n",
      "[Telescope] delta Alt = +000.092 | delta Az= +001.474 [Dome] delta Az = -002.937\n",
      "[Telescope] delta Alt = +000.092 | delta Az= +000.589 [Dome] delta Az = -002.937\n",
      "[Telescope] delta Alt = +000.092 | delta Az= +000.140 [Dome] delta Az = -002.937\n",
      "[Telescope] delta Alt = +000.092 | delta Az= +000.000 [Dome] delta Az = -002.937\n",
      "[Telescope] delta Alt = +000.092 | delta Az= -000.008 [Dome] delta Az = -002.937\n",
      "Got True\n",
      "Waiting for telescope to settle.\n",
      "[Telescope] delta Alt = +000.092 | delta Az= -000.008 [Dome] delta Az = -002.937\n",
      "[Telescope] delta Alt = +000.092 | delta Az= -000.008 [Dome] delta Az = -002.937\n",
      "Telescope in position.\n",
      "ATDome in position.\n",
      "['Telescope in position.', 'ATDome in position.']\n"
     ]
    }
   ],
   "source": [
    "await attcs.slew_object(name=\"HD 45348\", pa_ang=0.)"
   ]
  },
  {
   "cell_type": "code",
   "execution_count": 7,
   "metadata": {},
   "outputs": [
    {
     "name": "stdout",
     "output_type": "stream",
     "text": [
      "Parallactic angle: 161.29596621270554 | Sky Angle: 176.48236378327192\n",
      "Sending command\n",
      "Stop tracking.\n",
      "Mount tracking state is 9\n",
      "Tracking state: 10.\n",
      "Tracking state: 8.\n",
      "In Position: True.\n",
      "In Position: False.\n",
      "Scheduling check coroutines\n",
      "process as completed...\n",
      "Got False\n",
      "Telescope not in position\n",
      "atmcs: <State.ENABLED: 2>\n",
      "atptg: <State.ENABLED: 2>\n",
      "ataos: <State.ENABLED: 2>\n",
      "atpneumatics: <State.ENABLED: 2>\n",
      "athexapod: <State.ENABLED: 2>\n",
      "atdome: <State.ENABLED: 2>\n",
      "atdometrajectory: <State.ENABLED: 2>\n",
      "[Telescope] delta Alt = +016.121 | delta Az= -156.849 [Dome] delta Az = -159.821\n",
      "[Telescope] delta Alt = +015.753 | delta Az= -155.362 [Dome] delta Az = -159.281\n",
      "[Telescope] delta Alt = +014.003 | delta Az= -151.420 [Dome] delta Az = -157.811\n",
      "[Telescope] delta Alt = +010.811 | delta Az= -147.431 [Dome] delta Az = -155.411\n",
      "[Telescope] delta Alt = +006.889 | delta Az= -143.446 [Dome] delta Az = -152.441\n",
      "[Telescope] delta Alt = +003.275 | delta Az= -139.453 [Dome] delta Az = -148.291\n",
      "[Telescope] delta Alt = +000.874 | delta Az= -135.470 [Dome] delta Az = -143.231\n",
      "[Telescope] delta Alt = -000.005 | delta Az= -131.476 [Dome] delta Az = -137.241\n",
      "[Telescope] delta Alt = -000.049 | delta Az= -127.495 [Dome] delta Az = -130.481\n",
      "[Telescope] delta Alt = -000.048 | delta Az= -123.505 [Dome] delta Az = -123.571\n",
      "[Telescope] delta Alt = -000.048 | delta Az= -119.518 [Dome] delta Az = -116.671\n",
      "[Telescope] delta Alt = -000.048 | delta Az= -115.534 [Dome] delta Az = -110.481\n",
      "[Telescope] delta Alt = -000.048 | delta Az= -111.546 [Dome] delta Az = -103.581\n",
      "[Telescope] delta Alt = -000.048 | delta Az= -107.558 [Dome] delta Az = -096.701\n",
      "[Telescope] delta Alt = -000.048 | delta Az= -103.574 [Dome] delta Az = -089.801\n",
      "[Telescope] delta Alt = -000.048 | delta Az= -099.585 [Dome] delta Az = -082.871\n",
      "[Telescope] delta Alt = -000.048 | delta Az= -095.601 [Dome] delta Az = -076.001\n",
      "[Telescope] delta Alt = -000.048 | delta Az= -091.613 [Dome] delta Az = -069.811\n",
      "[Telescope] delta Alt = -000.048 | delta Az= -087.623 [Dome] delta Az = -062.921\n",
      "[Telescope] delta Alt = -000.048 | delta Az= -083.638 [Dome] delta Az = -056.061\n",
      "[Telescope] delta Alt = -000.048 | delta Az= -079.649 [Dome] delta Az = -049.151\n",
      "[Telescope] delta Alt = -000.048 | delta Az= -075.663 [Dome] delta Az = -042.291\n",
      "[Telescope] delta Alt = -000.049 | delta Az= -071.675 [Dome] delta Az = -035.431\n",
      "[Telescope] delta Alt = -000.049 | delta Az= -067.690 [Dome] delta Az = -029.201\n",
      "[Telescope] delta Alt = -000.048 | delta Az= -063.704 [Dome] delta Az = -022.311\n",
      "[Telescope] delta Alt = -000.048 | delta Az= -059.716 [Dome] delta Az = -015.421\n",
      "[Telescope] delta Alt = -000.048 | delta Az= -055.730 [Dome] delta Az = -008.561\n",
      "[Telescope] delta Alt = -000.048 | delta Az= -051.749 [Dome] delta Az = -001.881\n",
      "[Telescope] delta Alt = -000.049 | delta Az= -047.755 [Dome] delta Az = +002.079\n",
      "[Telescope] delta Alt = -000.049 | delta Az= -043.770 [Dome] delta Az = +002.969\n",
      "[Telescope] delta Alt = -000.048 | delta Az= -039.781 [Dome] delta Az = +002.969\n",
      "[Telescope] delta Alt = -000.048 | delta Az= -035.792 [Dome] delta Az = +002.969\n",
      "[Telescope] delta Alt = -000.049 | delta Az= -031.806 [Dome] delta Az = +002.969\n",
      "[Telescope] delta Alt = -000.049 | delta Az= -027.823 [Dome] delta Az = +002.969\n",
      "[Telescope] delta Alt = -000.049 | delta Az= -023.868 [Dome] delta Az = +002.969\n",
      "[Telescope] delta Alt = -000.049 | delta Az= -019.991 [Dome] delta Az = +002.969\n",
      "[Telescope] delta Alt = -000.049 | delta Az= -016.263 [Dome] delta Az = +002.969\n",
      "[Telescope] delta Alt = -000.049 | delta Az= -012.777 [Dome] delta Az = +002.969\n",
      "[Telescope] delta Alt = -000.049 | delta Az= -009.616 [Dome] delta Az = +002.969\n",
      "[Telescope] delta Alt = -000.049 | delta Az= -006.844 [Dome] delta Az = +002.969\n",
      "[Telescope] delta Alt = -000.049 | delta Az= -004.545 [Dome] delta Az = +002.969\n",
      "[Telescope] delta Alt = -000.049 | delta Az= -002.750 [Dome] delta Az = +002.969\n",
      "[Telescope] delta Alt = -000.049 | delta Az= -001.478 [Dome] delta Az = +002.969\n",
      "[Telescope] delta Alt = -000.049 | delta Az= -000.697 [Dome] delta Az = +002.969\n",
      "[Telescope] delta Alt = -000.049 | delta Az= -000.329 [Dome] delta Az = +002.969\n",
      "[Telescope] delta Alt = -000.049 | delta Az= -000.238 [Dome] delta Az = +002.969\n",
      "[Telescope] delta Alt = -000.049 | delta Az= -000.236 [Dome] delta Az = +002.969\n",
      "Got True\n",
      "Waiting for telescope to settle.\n",
      "[Telescope] delta Alt = -000.049 | delta Az= -000.236 [Dome] delta Az = +002.969\n",
      "Telescope in position.\n",
      "ATDome in position.\n",
      "['Telescope in position.', 'ATDome in position.']\n",
      "RemoteEvent(ATMCS, 0, target) falling behind; read 20 messages\n",
      "RemoteEvent(ATDomeTrajectory, 0, logMessage) falling behind; read 11 messages\n",
      "RemoteEvent(ATMCS, 0, target) falling behind; read 31 messages\n",
      "RemoteEvent(ATDomeTrajectory, 0, logMessage) falling behind; read 11 messages\n",
      "RemoteEvent(ATDomeTrajectory, 0, logMessage) falling behind; read 12 messages\n",
      "RemoteEvent(ATMCS, 0, target) falling behind; read 11 messages\n",
      "RemoteEvent(ATHeaderService, 0, logMessage) falling behind; read 10 messages\n",
      "RemoteEvent(ATHeaderService, 0, logMessage) falling behind; read 14 messages\n",
      "RemoteEvent(ATHeaderService, 0, logMessage) falling behind; read 11 messages\n",
      "RemoteEvent(ATHeaderService, 0, logMessage) falling behind; read 12 messages\n",
      "RemoteEvent(ATHeaderService, 0, logMessage) falling behind; read 10 messages\n",
      "RemoteEvent(ATHeaderService, 0, logMessage) falling behind; read 10 messages\n",
      "RemoteEvent(ATHeaderService, 0, logMessage) falling behind; read 11 messages\n",
      "RemoteEvent(ATHeaderService, 0, logMessage) falling behind; read 13 messages\n"
     ]
    }
   ],
   "source": [
    "await attcs.slew_icrs(ra=1, dec=5, pa_ang=0.)"
   ]
  },
  {
   "cell_type": "code",
   "execution_count": 8,
   "metadata": {},
   "outputs": [
    {
     "name": "stdout",
     "output_type": "stream",
     "text": [
      "Generating group_id\n",
      "DARK 0001 - 0010\n",
      "RemoteEvent(ATHeaderService, 0, logMessage) falling behind; read 16 messages\n",
      "Waiting for header service LFO before continuing\n",
      "RemoteEvent(ATHeaderService, 0, logMessage) falling behind; read 12 messages\n",
      "DARK 0002 - 0010\n",
      "Waiting for header service LFO before continuing\n",
      "RemoteEvent(ATHeaderService, 0, logMessage) falling behind; read 19 messages\n",
      "DARK 0003 - 0010\n",
      "Waiting for header service LFO before continuing\n",
      "DARK 0004 - 0010\n",
      "Waiting for header service LFO before continuing\n",
      "DARK 0005 - 0010\n",
      "Waiting for header service LFO before continuing\n",
      "DARK 0006 - 0010\n",
      "Waiting for header service LFO before continuing\n",
      "DARK 0007 - 0010\n",
      "Waiting for header service LFO before continuing\n",
      "RemoteEvent(ATHeaderService, 0, logMessage) falling behind; read 10 messages\n",
      "DARK 0008 - 0010\n",
      "Waiting for header service LFO before continuing\n",
      "DARK 0009 - 0010\n",
      "RemoteEvent(ATHeaderService, 0, logMessage) falling behind; read 10 messages\n",
      "Waiting for header service LFO before continuing\n",
      "RemoteEvent(ATHeaderService, 0, logMessage) falling behind; read 11 messages\n",
      "DARK 0010 - 0010\n",
      "Waiting for header service LFO before continuing\n",
      "The dark data id(s) are: [2020022000079 2020022000080 2020022000081 2020022000082 2020022000083\n",
      " 2020022000084 2020022000085 2020022000086 2020022000087 2020022000088]\n"
     ]
    }
   ],
   "source": [
    "dark_data_id_list = await latiss.take_darks(exptime=10, ndarks=10) #10, 30, 120\n",
    "print ('The dark data id(s) are: ' + str(dark_data_id_list)) "
   ]
  },
  {
   "cell_type": "code",
   "execution_count": 9,
   "metadata": {},
   "outputs": [
    {
     "name": "stdout",
     "output_type": "stream",
     "text": [
      "Generating group_id\n",
      "DARK 0001 - 0010\n",
      "Waiting for header service LFO before continuing\n",
      "DARK 0002 - 0010\n",
      "Waiting for header service LFO before continuing\n",
      "DARK 0003 - 0010\n",
      "Waiting for header service LFO before continuing\n",
      "DARK 0004 - 0010\n",
      "Waiting for header service LFO before continuing\n",
      "DARK 0005 - 0010\n",
      "Waiting for header service LFO before continuing\n",
      "RemoteEvent(ATHeaderService, 0, logMessage) falling behind; read 12 messages\n",
      "DARK 0006 - 0010\n",
      "Waiting for header service LFO before continuing\n",
      "RemoteEvent(ATHeaderService, 0, logMessage) falling behind; read 14 messages\n",
      "DARK 0007 - 0010\n",
      "Waiting for header service LFO before continuing\n",
      "DARK 0008 - 0010\n",
      "Waiting for header service LFO before continuing\n",
      "DARK 0009 - 0010\n",
      "RemoteEvent(ATHeaderService, 0, logMessage) falling behind; read 10 messages\n",
      "Waiting for header service LFO before continuing\n",
      "RemoteEvent(ATHeaderService, 0, logMessage) falling behind; read 11 messages\n",
      "DARK 0010 - 0010\n",
      "Waiting for header service LFO before continuing\n",
      "The dark data id(s) are: [2020022000089 2020022000090 2020022000091 2020022000092 2020022000093\n",
      " 2020022000094 2020022000095 2020022000096 2020022000097 2020022000098]\n"
     ]
    }
   ],
   "source": [
    "dark_data_id_list = await latiss.take_darks(exptime=30, ndarks=10) #10, 30, 120\n",
    "print ('The dark data id(s) are: ' + str(dark_data_id_list)) "
   ]
  },
  {
   "cell_type": "code",
   "execution_count": 6,
   "metadata": {},
   "outputs": [
    {
     "name": "stdout",
     "output_type": "stream",
     "text": [
      "Generating group_id\n",
      "DARK 0001 - 0005\n",
      "Waiting for header service LFO before continuing\n",
      "RemoteEvent(ATHeaderService, 0, logMessage) falling behind; read 10 messages\n",
      "DARK 0002 - 0005\n",
      "Waiting for header service LFO before continuing\n",
      "RemoteEvent(ATHeaderService, 0, logMessage) falling behind; read 10 messages\n",
      "DARK 0003 - 0005\n",
      "Waiting for header service LFO before continuing\n",
      "DARK 0004 - 0005\n",
      "RemoteEvent(ATHeaderService, 0, logMessage) falling behind; read 10 messages\n",
      "Waiting for header service LFO before continuing\n",
      "DARK 0005 - 0005\n",
      "Waiting for header service LFO before continuing\n",
      "RemoteEvent(ATHeaderService, 0, logMessage) falling behind; read 10 messages\n",
      "The dark data id(s) are: [2020022000101 2020022000102 2020022000103 2020022000104 2020022000105]\n"
     ]
    }
   ],
   "source": [
    "dark_data_id_list = await latiss.take_darks(exptime=120, ndarks=5) #10, 30, 120\n",
    "print ('The dark data id(s) are: ' + str(dark_data_id_list)) "
   ]
  },
  {
   "cell_type": "code",
   "execution_count": 8,
   "metadata": {},
   "outputs": [
    {
     "data": {
      "text/plain": [
       "<lsst.ts.salobj.ddsutil.ATDome_ackcmd_ff080bab at 0x7f9b6dc81cc0>"
      ]
     },
     "execution_count": 8,
     "metadata": {},
     "output_type": "execute_result"
    }
   ],
   "source": [
    "#Open lower shutter of dome\n",
    "await attcs.atdome.cmd_openShutter.start()"
   ]
  },
  {
   "cell_type": "raw",
   "metadata": {},
   "source": [
    "Plan is roughly:\n",
    "(1) A linearity test during twilight. Pick a star and observer it as sun goes down. \n",
    "(2) Way out of focus star test. Canopus\n",
    "(3) Verify Tiago's rotation tool works. \n",
    "(4) Take focus sequences w/ all combinations of filters + galaxies \n",
    "(5) Walk stars around \n",
    "sky and return to pole star often \n",
    "(6) Get focused image of planetary nebula \n",
    "(7) M104\n",
    "Throughout observations, interleave in commands by Tiago to measure pointing model.  \n",
    "Sequence will be: \n",
    "await attcs.slew_object(target_name = [target_name], pa_ang=0.0, slew_timeout=240.)  \n",
    "await latiss.take_object(exptime=[exp_time]., n=1, filter=[filter],grating=[grating])\n",
    "#Robert comes up with offsets to CENTER.\n",
    "await attcs.offset_xy(x = [dx], y = [dy]) \n",
    "#I take data point for pointing model \n",
    "await attcs.atptg.cmd_pointNewFile.start()\n",
    "#I know a fixed offset from center \n",
    "await attcs.offset_xy(x = [fixed_dx], y = [fixed_dy]) \n",
    "#Take the data. \n",
    "\n",
    "#REPEAT AS DESIRED.  Note, a new slew is important, as we need to reorient the dispersion angle.  \n"
   ]
  },
  {
   "cell_type": "code",
   "execution_count": 7,
   "metadata": {},
   "outputs": [
    {
     "data": {
      "text/plain": [
       "<lsst.ts.salobj.ddsutil.ATAOS_ackcmd_33d5c92b at 0x7f9b6dd53320>"
      ]
     },
     "execution_count": 7,
     "metadata": {},
     "output_type": "execute_result"
    }
   ],
   "source": [
    "#set focus to what it was last night. \n",
    "focus_center = -0.0155\n",
    "await attcs.ataos.cmd_applyFocusOffset.set_start(offset = focus_center)"
   ]
  },
  {
   "cell_type": "code",
   "execution_count": null,
   "metadata": {},
   "outputs": [],
   "source": [
    "#Start with a slew to star to observer for linearity during twilight. "
   ]
  },
  {
   "cell_type": "code",
   "execution_count": 11,
   "metadata": {},
   "outputs": [
    {
     "name": "stdout",
     "output_type": "stream",
     "text": [
      "Starting new HTTP connection (1): simbad.u-strasbg.fr:80\n",
      "http://simbad.u-strasbg.fr:80 \"POST /simbad/sim-script HTTP/1.1\" 200 None\n",
      "Slewing to HD 49219: 06 44 12.7904 -54 41 43.851\n",
      "Parallactic angle: -39.96980823495889 | Sky Angle: -7.407166207134452\n",
      "Sending command\n",
      "Stop tracking.\n",
      "Mount tracking state is 8\n",
      "In Position: False.\n",
      "RemoteTelemetry(ATPtg, 0, guidingAndOffsets) falling behind; read 16 messages\n",
      "RemoteTelemetry(ATDome, 0, position) falling behind; read 11 messages\n",
      "RemoteTelemetry(ATPtg, 0, timeAndDate) falling behind; read 11 messages\n",
      "RemoteTelemetry(ATPtg, 0, mountStatus) falling behind; read 11 messages\n",
      "RemoteTelemetry(ATPtg, 0, currentTargetStatus) falling behind; read 11 messages\n",
      "Scheduling check coroutines\n",
      "process as completed...\n",
      "Got False\n",
      "Telescope not in position\n",
      "atmcs: <State.ENABLED: 2>\n",
      "atptg: <State.ENABLED: 2>\n",
      "ataos: <State.ENABLED: 2>\n",
      "atpneumatics: <State.ENABLED: 2>\n",
      "athexapod: <State.ENABLED: 2>\n",
      "atdome: <State.ENABLED: 2>\n",
      "atdometrajectory: <State.ENABLED: 2>\n",
      "[Telescope] delta Alt = -018.648 | delta Az= +154.391 [Dome] delta Az = +061.338\n",
      "[Telescope] delta Alt = -018.474 | delta Az= +152.808 [Dome] delta Az = +060.778\n",
      "[Telescope] delta Alt = -017.294 | delta Az= +148.846 [Dome] delta Az = +059.288\n",
      "[Telescope] delta Alt = -014.767 | delta Az= +144.853 [Dome] delta Az = +056.868\n",
      "[Telescope] delta Alt = -011.181 | delta Az= +140.862 [Dome] delta Az = +053.528\n",
      "[Telescope] delta Alt = -007.214 | delta Az= +136.870 [Dome] delta Az = +049.748\n",
      "[Telescope] delta Alt = -003.668 | delta Az= +132.877 [Dome] delta Az = +044.688\n",
      "[Telescope] delta Alt = -001.207 | delta Az= +128.885 [Dome] delta Az = +038.708\n",
      "[Telescope] delta Alt = -000.093 | delta Az= +124.892 [Dome] delta Az = +031.928\n",
      "[Telescope] delta Alt = +000.057 | delta Az= +120.900 [Dome] delta Az = +025.008\n",
      "[Telescope] delta Alt = +000.057 | delta Az= +116.909 [Dome] delta Az = +018.138\n",
      "[Telescope] delta Alt = +000.057 | delta Az= +112.916 [Dome] delta Az = +011.958\n",
      "[Telescope] delta Alt = +000.056 | delta Az= +108.922 [Dome] delta Az = +005.078\n",
      "[Telescope] delta Alt = +000.056 | delta Az= +104.931 [Dome] delta Az = -000.572\n",
      "[Telescope] delta Alt = +000.056 | delta Az= +100.939 [Dome] delta Az = -002.972\n",
      "[Telescope] delta Alt = +000.056 | delta Az= +096.947 [Dome] delta Az = -003.082\n",
      "[Telescope] delta Alt = +000.056 | delta Az= +092.954 [Dome] delta Az = -003.082\n",
      "[Telescope] delta Alt = +000.057 | delta Az= +088.963 [Dome] delta Az = -003.082\n",
      "[Telescope] delta Alt = +000.056 | delta Az= +084.970 [Dome] delta Az = -003.082\n",
      "[Telescope] delta Alt = +000.056 | delta Az= +080.978 [Dome] delta Az = -003.082\n",
      "[Telescope] delta Alt = +000.056 | delta Az= +076.985 [Dome] delta Az = -003.082\n",
      "[Telescope] delta Alt = +000.056 | delta Az= +072.993 [Dome] delta Az = -003.082\n",
      "[Telescope] delta Alt = +000.056 | delta Az= +069.001 [Dome] delta Az = -003.082\n",
      "[Telescope] delta Alt = +000.056 | delta Az= +065.008 [Dome] delta Az = -003.082\n",
      "[Telescope] delta Alt = +000.056 | delta Az= +061.017 [Dome] delta Az = -003.082\n",
      "[Telescope] delta Alt = +000.056 | delta Az= +057.024 [Dome] delta Az = -003.082\n",
      "[Telescope] delta Alt = +000.056 | delta Az= +053.030 [Dome] delta Az = -003.082\n",
      "[Telescope] delta Alt = +000.056 | delta Az= +049.039 [Dome] delta Az = -003.082\n",
      "[Telescope] delta Alt = +000.056 | delta Az= +045.048 [Dome] delta Az = -003.082\n",
      "[Telescope] delta Alt = +000.056 | delta Az= +041.054 [Dome] delta Az = -003.082\n",
      "[Telescope] delta Alt = +000.056 | delta Az= +037.062 [Dome] delta Az = -003.082\n",
      "[Telescope] delta Alt = +000.056 | delta Az= +033.070 [Dome] delta Az = -003.082\n",
      "[Telescope] delta Alt = +000.056 | delta Az= +029.079 [Dome] delta Az = -003.082\n",
      "[Telescope] delta Alt = +000.056 | delta Az= +025.105 [Dome] delta Az = -003.082\n",
      "[Telescope] delta Alt = +000.056 | delta Az= +021.191 [Dome] delta Az = -003.082\n",
      "[Telescope] delta Alt = +000.056 | delta Az= +017.406 [Dome] delta Az = -003.082\n",
      "[Telescope] delta Alt = +000.056 | delta Az= +013.828 [Dome] delta Az = -003.082\n",
      "[Telescope] delta Alt = +000.056 | delta Az= +010.544 [Dome] delta Az = -003.082\n",
      "[Telescope] delta Alt = +000.056 | delta Az= +007.635 [Dome] delta Az = -003.082\n",
      "[Telescope] delta Alt = +000.056 | delta Az= +005.174 [Dome] delta Az = -003.082\n",
      "[Telescope] delta Alt = +000.056 | delta Az= +003.208 [Dome] delta Az = -003.082\n",
      "[Telescope] delta Alt = +000.056 | delta Az= +001.761 [Dome] delta Az = -003.082\n",
      "[Telescope] delta Alt = +000.056 | delta Az= +000.821 [Dome] delta Az = -003.082\n",
      "[Telescope] delta Alt = +000.056 | delta Az= +000.322 [Dome] delta Az = -003.082\n",
      "[Telescope] delta Alt = +000.056 | delta Az= +000.156 [Dome] delta Az = -003.082\n",
      "[Telescope] delta Alt = +000.056 | delta Az= +000.142 [Dome] delta Az = -003.082\n",
      "Got True\n",
      "Waiting for telescope to settle.\n",
      "[Telescope] delta Alt = +000.056 | delta Az= +000.142 [Dome] delta Az = -003.082\n",
      "[Telescope] delta Alt = +000.056 | delta Az= +000.142 [Dome] delta Az = -003.082\n",
      "Telescope in position.\n",
      "ATDome in position.\n",
      "['Telescope in position.', 'ATDome in position.']\n"
     ]
    }
   ],
   "source": [
    "import time \n",
    "await attcs.slew_object(name = \"HD 49219\", pa_ang=0.0, slew_timeout=240.)  "
   ]
  },
  {
   "cell_type": "code",
   "execution_count": null,
   "metadata": {},
   "outputs": [],
   "source": []
  },
  {
   "cell_type": "code",
   "execution_count": 13,
   "metadata": {},
   "outputs": [
    {
     "name": "stdout",
     "output_type": "stream",
     "text": [
      "Generating group_id\n",
      "OBJECT 0001 - 0001\n",
      "Waiting for header service LFO before continuing\n"
     ]
    },
    {
     "ename": "AttributeError",
     "evalue": "module 'time' has no attribute 'pause'",
     "output_type": "error",
     "traceback": [
      "\u001b[0;31m\u001b[0m",
      "\u001b[0;31mAttributeError\u001b[0mTraceback (most recent call last)",
      "\u001b[0;32m<ipython-input-13-7956f6696f8d>\u001b[0m in \u001b[0;36masync-def-wrapper\u001b[0;34m()\u001b[0m\n",
      "\u001b[0;31mAttributeError\u001b[0m: module 'time' has no attribute 'pause'"
     ]
    }
   ],
   "source": [
    "for i in range(1): \n",
    "    await latiss.take_object(exptime=1.0, n=1, filter='empty_1', grating='empty_1')"
   ]
  },
  {
   "cell_type": "code",
   "execution_count": 14,
   "metadata": {},
   "outputs": [
    {
     "name": "stdout",
     "output_type": "stream",
     "text": [
      "Applying Az/El offset: 180/ 0.0 \n",
      "Waiting for telescope to settle.\n",
      "Done\n"
     ]
    }
   ],
   "source": [
    "await attcs.offset_azel(az = 180  , el = 0.0 )"
   ]
  },
  {
   "cell_type": "code",
   "execution_count": 15,
   "metadata": {},
   "outputs": [
    {
     "name": "stdout",
     "output_type": "stream",
     "text": [
      "Applying Az/El offset: 648000/ 0.0 \n",
      "Waiting for telescope to settle.\n",
      "Done\n"
     ]
    }
   ],
   "source": [
    "await attcs.offset_azel(az = 180 * 3600 , el = 0.0 )"
   ]
  },
  {
   "cell_type": "code",
   "execution_count": 17,
   "metadata": {},
   "outputs": [
    {
     "name": "stdout",
     "output_type": "stream",
     "text": [
      "Cover state <MirrorCoverState.CLOSED: 6>\n",
      "Opening M1 cover.\n",
      "Sending command\n",
      "Stop tracking.\n",
      "Mount tracking state is 9\n",
      "Tracking state: 10.\n",
      "Tracking state: 8.\n",
      "In Position: False.\n",
      "Scheduling check coroutines\n",
      "process as completed...\n",
      "Got False\n",
      "Telescope not in position\n",
      "atmcs: <State.ENABLED: 2>\n",
      "atptg: <State.ENABLED: 2>\n",
      "ataos: <State.ENABLED: 2>\n",
      "atpneumatics: <State.ENABLED: 2>\n",
      "athexapod: <State.ENABLED: 2>\n",
      "atdometrajectory: <State.ENABLED: 2>\n",
      "[Telescope] delta Alt = +054.272 | delta Az= -000.000\n",
      "[Telescope] delta Alt = +052.472 | delta Az= -000.000\n",
      "[Telescope] delta Alt = +048.486 | delta Az= -000.000\n",
      "[Telescope] delta Alt = +046.483 | delta Az= -000.000\n",
      "[Telescope] delta Alt = +042.485 | delta Az= -000.000\n",
      "[Telescope] delta Alt = +038.484 | delta Az= -000.000\n",
      "[Telescope] delta Alt = +034.485 | delta Az= -000.000\n",
      "[Telescope] delta Alt = +030.486 | delta Az= -000.000\n",
      "[Telescope] delta Alt = +026.493 | delta Az= -000.000\n",
      "[Telescope] delta Alt = +022.540 | delta Az= -000.000\n",
      "[Telescope] delta Alt = +018.689 | delta Az= -000.000\n",
      "[Telescope] delta Alt = +015.014 | delta Az= -000.000\n",
      "[Telescope] delta Alt = +011.598 | delta Az= -000.000\n",
      "[Telescope] delta Alt = +008.532 | delta Az= -000.000\n",
      "[Telescope] delta Alt = +005.892 | delta Az= -000.000\n",
      "[Telescope] delta Alt = +003.730 | delta Az= -000.000\n",
      "[Telescope] delta Alt = +002.088 | delta Az= -000.000\n",
      "[Telescope] delta Alt = +000.962 | delta Az= -000.000\n",
      "[Telescope] delta Alt = +000.321 | delta Az= -000.000\n",
      "[Telescope] delta Alt = +000.045 | delta Az= -000.000\n",
      "[Telescope] delta Alt = -000.000 | delta Az= -000.000\n",
      "Axes in position.\n",
      "None\n",
      "Cover state <MirrorCoverState.CLOSED: 6>\n",
      "Cover state <MirrorCoverState.INMOTION: 8>\n",
      "Cover state <MirrorCoverState.OPENED: 7>\n"
     ]
    }
   ],
   "source": [
    "await attcs.open_m1_cover() "
   ]
  },
  {
   "cell_type": "code",
   "execution_count": 18,
   "metadata": {},
   "outputs": [
    {
     "name": "stdout",
     "output_type": "stream",
     "text": [
      "Slewing to HD 49219: 06 44 12.7904 -54 41 43.851\n",
      "Parallactic angle: -35.52430545144221 | Sky Angle: -1.0712428569477197\n",
      "Sending command\n",
      "Stop tracking.\n",
      "Mount tracking state is 9\n",
      "Tracking state: 10.\n",
      "Tracking state: 8.\n",
      "In Position: True.\n",
      "In Position: False.\n",
      "Scheduling check coroutines\n",
      "process as completed...\n",
      "Got False\n",
      "Telescope not in position\n",
      "atmcs: <State.ENABLED: 2>\n",
      "atptg: <State.ENABLED: 2>\n",
      "ataos: <State.ENABLED: 2>\n",
      "atpneumatics: <State.ENABLED: 2>\n",
      "athexapod: <State.ENABLED: 2>\n",
      "atdometrajectory: <State.ENABLED: 2>\n",
      "[Telescope] delta Alt = -007.675 | delta Az= +082.064\n",
      "[Telescope] delta Alt = -005.834 | delta Az= +079.516\n",
      "[Telescope] delta Alt = -002.046 | delta Az= +075.528\n",
      "[Telescope] delta Alt = -000.010 | delta Az= +071.536\n",
      "[Telescope] delta Alt = +000.052 | delta Az= +067.545\n",
      "[Telescope] delta Alt = +000.051 | delta Az= +063.554\n",
      "[Telescope] delta Alt = +000.051 | delta Az= +059.562\n",
      "[Telescope] delta Alt = +000.051 | delta Az= +055.569\n",
      "[Telescope] delta Alt = +000.051 | delta Az= +051.579\n",
      "[Telescope] delta Alt = +000.051 | delta Az= +047.588\n",
      "[Telescope] delta Alt = +000.051 | delta Az= +043.595\n",
      "[Telescope] delta Alt = +000.051 | delta Az= +039.604\n",
      "[Telescope] delta Alt = +000.051 | delta Az= +035.612\n",
      "[Telescope] delta Alt = +000.051 | delta Az= +031.621\n",
      "[Telescope] delta Alt = +000.051 | delta Az= +027.634\n",
      "[Telescope] delta Alt = +000.051 | delta Az= +023.674\n",
      "[Telescope] delta Alt = +000.051 | delta Az= +019.799\n",
      "[Telescope] delta Alt = +000.051 | delta Az= +016.078\n",
      "[Telescope] delta Alt = +000.050 | delta Az= +012.596\n",
      "[Telescope] delta Alt = +000.051 | delta Az= +009.438\n",
      "[Telescope] delta Alt = +000.051 | delta Az= +006.684\n",
      "[Telescope] delta Alt = +000.051 | delta Az= +004.398\n",
      "[Telescope] delta Alt = +000.051 | delta Az= +002.623\n",
      "[Telescope] delta Alt = +000.051 | delta Az= +001.367\n",
      "[Telescope] delta Alt = +000.051 | delta Az= +000.599\n",
      "[Telescope] delta Alt = +000.051 | delta Az= +000.240\n",
      "[Telescope] delta Alt = +000.051 | delta Az= +000.155\n",
      "[Telescope] delta Alt = +000.051 | delta Az= +000.154\n",
      "Got True\n",
      "Waiting for telescope to settle.\n",
      "[Telescope] delta Alt = +000.051 | delta Az= +000.154\n",
      "Telescope in position.\n",
      "['Telescope in position.']\n"
     ]
    }
   ],
   "source": [
    "await attcs.slew_object(name = \"HD 49219\", pa_ang=0.0, slew_timeout=240.)  "
   ]
  },
  {
   "cell_type": "code",
   "execution_count": 19,
   "metadata": {},
   "outputs": [
    {
     "name": "stdout",
     "output_type": "stream",
     "text": [
      "Generating group_id\n",
      "OBJECT 0001 - 0001\n",
      "Waiting for header service LFO before continuing\n"
     ]
    },
    {
     "data": {
      "text/plain": [
       "array([2020022000107])"
      ]
     },
     "execution_count": 19,
     "metadata": {},
     "output_type": "execute_result"
    }
   ],
   "source": [
    "await latiss.take_object(exptime=1.0, n=1, filter='empty_1', grating='empty_1')"
   ]
  },
  {
   "cell_type": "code",
   "execution_count": 20,
   "metadata": {},
   "outputs": [
    {
     "name": "stdout",
     "output_type": "stream",
     "text": [
      "Generating group_id\n",
      "OBJECT 0001 - 0001\n",
      "Waiting for header service LFO before continuing\n",
      "RemoteEvent(ATHeaderService, 0, logMessage) falling behind; read 19 messages\n"
     ]
    },
    {
     "data": {
      "text/plain": [
       "array([2020022000108])"
      ]
     },
     "execution_count": 20,
     "metadata": {},
     "output_type": "execute_result"
    }
   ],
   "source": [
    "await latiss.take_object(exptime=1.0, n=1, filter='empty_1', grating='empty_1')"
   ]
  },
  {
   "cell_type": "code",
   "execution_count": 21,
   "metadata": {},
   "outputs": [
    {
     "name": "stdout",
     "output_type": "stream",
     "text": [
      "Generating group_id\n",
      "OBJECT 0001 - 0001\n",
      "Waiting for header service LFO before continuing\n",
      "RemoteEvent(ATHeaderService, 0, logMessage) falling behind; read 10 messages\n"
     ]
    },
    {
     "data": {
      "text/plain": [
       "array([2020022000109])"
      ]
     },
     "execution_count": 21,
     "metadata": {},
     "output_type": "execute_result"
    }
   ],
   "source": [
    "await latiss.take_object(exptime=10.0, n=1, filter='empty_1', grating='empty_1')"
   ]
  },
  {
   "cell_type": "code",
   "execution_count": 22,
   "metadata": {},
   "outputs": [
    {
     "name": "stdout",
     "output_type": "stream",
     "text": [
      "Generating group_id\n",
      "OBJECT 0001 - 0001\n",
      "Waiting for header service LFO before continuing\n",
      "RemoteEvent(ATHeaderService, 0, logMessage) falling behind; read 10 messages\n"
     ]
    },
    {
     "data": {
      "text/plain": [
       "array([2020022000110])"
      ]
     },
     "execution_count": 22,
     "metadata": {},
     "output_type": "execute_result"
    }
   ],
   "source": [
    "await latiss.take_object(exptime=10.0, n=1, filter='empty_1', grating='empty_1')"
   ]
  },
  {
   "cell_type": "code",
   "execution_count": 23,
   "metadata": {},
   "outputs": [
    {
     "name": "stdout",
     "output_type": "stream",
     "text": [
      "Generating group_id\n",
      "OBJECT 0001 - 0001\n",
      "Waiting for header service LFO before continuing\n"
     ]
    },
    {
     "data": {
      "text/plain": [
       "array([2020022000111])"
      ]
     },
     "execution_count": 23,
     "metadata": {},
     "output_type": "execute_result"
    }
   ],
   "source": [
    "await latiss.take_object(exptime=60.0, n=1, filter='empty_1', grating='empty_1')"
   ]
  },
  {
   "cell_type": "code",
   "execution_count": null,
   "metadata": {},
   "outputs": [],
   "source": [
    "#Robert did offset "
   ]
  },
  {
   "cell_type": "code",
   "execution_count": 31,
   "metadata": {},
   "outputs": [
    {
     "name": "stdout",
     "output_type": "stream",
     "text": [
      "Generating group_id\n",
      "OBJECT 0001 - 0001\n",
      "Waiting for header service LFO before continuing\n"
     ]
    },
    {
     "data": {
      "text/plain": [
       "array([2020022000116])"
      ]
     },
     "execution_count": 31,
     "metadata": {},
     "output_type": "execute_result"
    }
   ],
   "source": [
    "await latiss.take_object(exptime=1.0, n=1, filter='empty_1', grating='empty_1')"
   ]
  },
  {
   "cell_type": "code",
   "execution_count": null,
   "metadata": {},
   "outputs": [],
   "source": [
    "#Code to take a focus sequence when we want to "
   ]
  },
  {
   "cell_type": "code",
   "execution_count": 36,
   "metadata": {},
   "outputs": [
    {
     "name": "stdout",
     "output_type": "stream",
     "text": [
      "focus_positions = [-0.1755 -0.1355 -0.0955 -0.0555 -0.0155  0.0245  0.0645  0.1045  0.1445]\n"
     ]
    }
   ],
   "source": [
    "import math \n",
    "#Focus units are given in mm \n",
    "focus_center = -0.0155\n",
    "focus_step = 0.04\n",
    "n_steps = 9\n",
    "focus_positions = np.linspace(focus_center - focus_step * math.floor(n_steps / 2), focus_center + focus_step * math.ceil(n_steps / 2 - 1), n_steps)\n",
    "#focus_positions = [0.05, -0.05, -0.100, -0.150, -0.200, -0.250, -0.300, -0.3, -0.2, -0.2, -0.24, -0.26, -0.28]\n",
    "print ('focus_positions = ' + str(focus_positions))"
   ]
  },
  {
   "cell_type": "code",
   "execution_count": 37,
   "metadata": {},
   "outputs": [
    {
     "name": "stdout",
     "output_type": "stream",
     "text": [
      "Working on focus position -0.1755\n",
      "Generating group_id\n",
      "ENGTEST 0001 - 0001\n",
      "Waiting for header service LFO before continuing\n",
      "Newest image id is = [2020022000118]\n",
      "Working on focus position -0.13549999999999998\n",
      "Generating group_id\n",
      "ENGTEST 0001 - 0001\n",
      "Waiting for header service LFO before continuing\n",
      "RemoteEvent(ATHeaderService, 0, logMessage) falling behind; read 12 messages\n",
      "Newest image id is = [2020022000119]\n",
      "Working on focus position -0.09549999999999999\n",
      "Generating group_id\n",
      "ENGTEST 0001 - 0001\n",
      "Waiting for header service LFO before continuing\n",
      "Newest image id is = [2020022000120]\n",
      "Working on focus position -0.055499999999999994\n",
      "Generating group_id\n",
      "ENGTEST 0001 - 0001\n",
      "RemoteEvent(ATHeaderService, 0, logMessage) falling behind; read 10 messages\n",
      "Waiting for header service LFO before continuing\n",
      "RemoteEvent(ATHeaderService, 0, logMessage) falling behind; read 13 messages\n",
      "Newest image id is = [2020022000121]\n",
      "Working on focus position -0.015499999999999986\n",
      "Generating group_id\n",
      "ENGTEST 0001 - 0001\n",
      "Waiting for header service LFO before continuing\n",
      "Newest image id is = [2020022000122]\n",
      "Working on focus position 0.024500000000000022\n",
      "Generating group_id\n",
      "ENGTEST 0001 - 0001\n",
      "Waiting for header service LFO before continuing\n",
      "Newest image id is = [2020022000123]\n",
      "Working on focus position 0.0645\n",
      "Generating group_id\n",
      "ENGTEST 0001 - 0001\n",
      "Waiting for header service LFO before continuing\n",
      "RemoteEvent(ATHeaderService, 0, logMessage) falling behind; read 10 messages\n",
      "Newest image id is = [2020022000124]\n",
      "Working on focus position 0.10450000000000004\n",
      "Generating group_id\n",
      "ENGTEST 0001 - 0001\n",
      "Waiting for header service LFO before continuing\n",
      "Newest image id is = [2020022000125]\n",
      "Working on focus position 0.14450000000000002\n",
      "Generating group_id\n",
      "ENGTEST 0001 - 0001\n",
      "Waiting for header service LFO before continuing\n",
      "Newest image id is = [2020022000126]\n"
     ]
    },
    {
     "data": {
      "text/plain": [
       "<lsst.ts.salobj.ddsutil.ATAOS_ackcmd_33d5c92b at 0x7f9b5298e908>"
      ]
     },
     "execution_count": 37,
     "metadata": {},
     "output_type": "execute_result"
    }
   ],
   "source": [
    "#!!!!DO NOT RUN UNLESS YOU HAVE BEEN CLEARED TO CONTROL TELESCOPE!!!!! \n",
    "focus_images = [0 for focus_pos in focus_positions]\n",
    "for i in range(len(focus_positions)): \n",
    "    focus_pos = focus_positions[i] \n",
    "    print ('Working on focus position ' + str(focus_pos))\n",
    "    attcs.athexapod.evt_positionUpdate.flush() \n",
    "    await attcs.ataos.cmd_applyFocusOffset.set_start(offset=focus_pos)\n",
    "    await attcs.athexapod.evt_positionUpdate.next(flush=False, timeout=attcs.long_timeout)\n",
    "    focus_image = await latiss.take_engtest(exptime=10., n=1, filter='empty_1', grating='ronchi90lpmm') \n",
    "    print ('Newest image id is = ' +str(focus_image) )\n",
    "    focus_images[i] = int(focus_image)\n",
    "    \n",
    "#This resets the focus position after taking this sequence: \n",
    "await attcs.ataos.cmd_applyFocusOffset.set_start(offset = focus_center)"
   ]
  },
  {
   "cell_type": "code",
   "execution_count": 39,
   "metadata": {},
   "outputs": [
    {
     "name": "stdout",
     "output_type": "stream",
     "text": [
      "focus_positions = [-0.36 -0.32 -0.28 -0.24 -0.2  -0.16 -0.12 -0.08 -0.04]\n"
     ]
    }
   ],
   "source": [
    "import math \n",
    "#Focus units are given in mm \n",
    "focus_center = -0.2\n",
    "focus_step = 0.04\n",
    "n_steps = 9\n",
    "focus_positions = np.linspace(focus_center - focus_step * math.floor(n_steps / 2), focus_center + focus_step * math.ceil(n_steps / 2 - 1), n_steps)\n",
    "#focus_positions = [0.05, -0.05, -0.100, -0.150, -0.200, -0.250, -0.300, -0.3, -0.2, -0.2, -0.24, -0.26, -0.28]\n",
    "print ('focus_positions = ' + str(focus_positions))"
   ]
  },
  {
   "cell_type": "code",
   "execution_count": 40,
   "metadata": {},
   "outputs": [
    {
     "name": "stdout",
     "output_type": "stream",
     "text": [
      "Working on focus position -0.36\n",
      "Generating group_id\n",
      "ENGTEST 0001 - 0001\n",
      "Waiting for header service LFO before continuing\n",
      "Newest image id is = [2020022000127]\n",
      "Working on focus position -0.32\n",
      "Generating group_id\n",
      "ENGTEST 0001 - 0001\n",
      "RemoteEvent(ATHeaderService, 0, logMessage) falling behind; read 30 messages\n",
      "Waiting for header service LFO before continuing\n",
      "Newest image id is = [2020022000128]\n",
      "Working on focus position -0.28\n",
      "Generating group_id\n",
      "ENGTEST 0001 - 0001\n",
      "Waiting for header service LFO before continuing\n",
      "Newest image id is = [2020022000129]\n",
      "Working on focus position -0.24\n",
      "Generating group_id\n",
      "ENGTEST 0001 - 0001\n",
      "Waiting for header service LFO before continuing\n",
      "RemoteEvent(ATHeaderService, 0, logMessage) falling behind; read 12 messages\n",
      "Newest image id is = [2020022000130]\n",
      "Working on focus position -0.2\n",
      "Generating group_id\n",
      "ENGTEST 0001 - 0001\n",
      "Waiting for header service LFO before continuing\n",
      "Newest image id is = [2020022000131]\n",
      "Working on focus position -0.16000000000000003\n",
      "Generating group_id\n",
      "ENGTEST 0001 - 0001\n",
      "Waiting for header service LFO before continuing\n",
      "Newest image id is = [2020022000132]\n",
      "Working on focus position -0.12000000000000002\n",
      "Generating group_id\n",
      "ENGTEST 0001 - 0001\n",
      "Waiting for header service LFO before continuing\n",
      "Newest image id is = [2020022000133]\n",
      "Working on focus position -0.08000000000000002\n",
      "Generating group_id\n",
      "ENGTEST 0001 - 0001\n",
      "Waiting for header service LFO before continuing\n",
      "Newest image id is = [2020022000134]\n",
      "Working on focus position -0.04000000000000001\n",
      "Generating group_id\n",
      "ENGTEST 0001 - 0001\n",
      "Waiting for header service LFO before continuing\n",
      "Newest image id is = [2020022000135]\n"
     ]
    },
    {
     "data": {
      "text/plain": [
       "<lsst.ts.salobj.ddsutil.ATAOS_ackcmd_33d5c92b at 0x7f9b48ec0908>"
      ]
     },
     "execution_count": 40,
     "metadata": {},
     "output_type": "execute_result"
    }
   ],
   "source": [
    "#!!!!DO NOT RUN UNLESS YOU HAVE BEEN CLEARED TO CONTROL TELESCOPE!!!!! \n",
    "focus_images = [0 for focus_pos in focus_positions]\n",
    "for i in range(len(focus_positions)): \n",
    "    focus_pos = focus_positions[i] \n",
    "    print ('Working on focus position ' + str(focus_pos))\n",
    "    attcs.athexapod.evt_positionUpdate.flush() \n",
    "    await attcs.ataos.cmd_applyFocusOffset.set_start(offset=focus_pos)\n",
    "    await attcs.athexapod.evt_positionUpdate.next(flush=False, timeout=attcs.long_timeout)\n",
    "    focus_image = await latiss.take_engtest(exptime=10., n=1, filter='empty_1', grating='ronchi90lpmm') \n",
    "    print ('Newest image id is = ' +str(focus_image) )\n",
    "    focus_images[i] = int(focus_image)\n",
    "    \n",
    "#This resets the focus position after taking this sequence: \n",
    "await attcs.ataos.cmd_applyFocusOffset.set_start(offset = focus_center)"
   ]
  },
  {
   "cell_type": "code",
   "execution_count": 41,
   "metadata": {},
   "outputs": [
    {
     "data": {
      "text/plain": [
       "<lsst.ts.salobj.ddsutil.ATHexapod_logevent_positionUpdate_68e9852b at 0x7f9b48fd0278>"
      ]
     },
     "execution_count": 41,
     "metadata": {},
     "output_type": "execute_result"
    }
   ],
   "source": [
    "best_fit_focus = -0.216 \n",
    "attcs.athexapod.evt_positionUpdate.flush() \n",
    "await attcs.ataos.cmd_applyFocusOffset.set_start(offset=best_fit_focus)\n",
    "await attcs.athexapod.evt_positionUpdate.next(flush=False, timeout=attcs.long_timeout)"
   ]
  },
  {
   "cell_type": "code",
   "execution_count": 42,
   "metadata": {},
   "outputs": [
    {
     "name": "stdout",
     "output_type": "stream",
     "text": [
      "Generating group_id\n",
      "ENGTEST 0001 - 0001\n",
      "Waiting for header service LFO before continuing\n"
     ]
    }
   ],
   "source": [
    "focus_image = await latiss.take_engtest(exptime=10., n=1, filter='empty_1', grating='ronchi90lpmm') "
   ]
  },
  {
   "cell_type": "code",
   "execution_count": 44,
   "metadata": {},
   "outputs": [
    {
     "name": "stdout",
     "output_type": "stream",
     "text": [
      "Resetting dropped connection: simbad.u-strasbg.fr\n",
      "http://simbad.u-strasbg.fr:80 \"POST /simbad/sim-script HTTP/1.1\" 200 None\n",
      "Slewing to HD 34816: 05 19 34.5240 -13 10 36.440\n",
      "RemoteEvent(ATMCS, 0, target) falling behind; read 16 messages\n",
      "RemoteEvent(ATDomeTrajectory, 0, logMessage) falling behind; read 16 messages\n",
      "Parallactic angle: 147.69526822523812 | Sky Angle: 196.58012793998654\n",
      "Sending command\n",
      "Stop tracking.\n",
      "Mount tracking state is 9\n",
      "Tracking state: 10.\n",
      "Tracking state: 8.\n",
      "In Position: True.\n",
      "In Position: False.\n",
      "Scheduling check coroutines\n",
      "process as completed...\n",
      "Got False\n",
      "Telescope not in position\n",
      "atmcs: <State.ENABLED: 2>\n",
      "atptg: <State.ENABLED: 2>\n",
      "ataos: <State.ENABLED: 2>\n",
      "atpneumatics: <State.ENABLED: 2>\n",
      "athexapod: <State.ENABLED: 2>\n",
      "atdometrajectory: <State.ENABLED: 2>\n",
      "[Telescope] delta Alt = +004.674 | delta Az= +155.528\n",
      "[Telescope] delta Alt = +002.344 | delta Az= +158.096\n",
      "[Telescope] delta Alt = -000.004 | delta Az= +162.072\n",
      "[Telescope] delta Alt = -000.082 | delta Az= +164.052\n",
      "[Telescope] delta Alt = -000.078 | delta Az= +168.043\n",
      "[Telescope] delta Alt = -000.078 | delta Az= +172.023\n",
      "[Telescope] delta Alt = -000.078 | delta Az= +176.004\n",
      "[Telescope] delta Alt = -000.078 | delta Az= +179.983\n",
      "[Telescope] delta Alt = -000.078 | delta Az= -176.036\n",
      "[Telescope] delta Alt = -000.078 | delta Az= -172.056\n",
      "[Telescope] delta Alt = -000.078 | delta Az= -168.075\n",
      "[Telescope] delta Alt = -000.078 | delta Az= -164.095\n",
      "[Telescope] delta Alt = -000.078 | delta Az= -160.114\n",
      "[Telescope] delta Alt = -000.080 | delta Az= -158.134\n",
      "[Telescope] delta Alt = -000.078 | delta Az= -154.143\n",
      "[Telescope] delta Alt = -000.078 | delta Az= -150.162\n",
      "[Telescope] delta Alt = -000.078 | delta Az= -146.182\n",
      "[Telescope] delta Alt = -000.078 | delta Az= -142.202\n",
      "[Telescope] delta Alt = -000.078 | delta Az= -138.222\n",
      "[Telescope] delta Alt = -000.079 | delta Az= -134.242\n",
      "[Telescope] delta Alt = -000.079 | delta Az= -130.261\n",
      "[Telescope] delta Alt = -000.079 | delta Az= -126.280\n",
      "[Telescope] delta Alt = -000.079 | delta Az= -122.301\n",
      "[Telescope] delta Alt = -000.079 | delta Az= -118.321\n",
      "[Telescope] delta Alt = -000.079 | delta Az= -114.339\n",
      "[Telescope] delta Alt = -000.079 | delta Az= -110.359\n",
      "[Telescope] delta Alt = -000.081 | delta Az= -108.377\n",
      "[Telescope] delta Alt = -000.079 | delta Az= -104.387\n",
      "[Telescope] delta Alt = -000.079 | delta Az= -100.408\n",
      "[Telescope] delta Alt = -000.079 | delta Az= -096.427\n",
      "[Telescope] delta Alt = -000.079 | delta Az= -092.445\n",
      "[Telescope] delta Alt = -000.079 | delta Az= -088.466\n",
      "[Telescope] delta Alt = -000.079 | delta Az= -084.486\n",
      "[Telescope] delta Alt = -000.079 | delta Az= -080.504\n",
      "[Telescope] delta Alt = -000.079 | delta Az= -076.524\n",
      "[Telescope] delta Alt = -000.081 | delta Az= -074.544\n",
      "[Telescope] delta Alt = -000.079 | delta Az= -070.553\n",
      "[Telescope] delta Alt = -000.079 | delta Az= -066.574\n",
      "[Telescope] delta Alt = -000.079 | delta Az= -062.593\n",
      "[Telescope] delta Alt = -000.079 | delta Az= -058.611\n",
      "[Telescope] delta Alt = -000.079 | delta Az= -054.631\n",
      "[Telescope] delta Alt = -000.079 | delta Az= -050.652\n",
      "[Telescope] delta Alt = -000.081 | delta Az= -048.669\n",
      "[Telescope] delta Alt = -000.079 | delta Az= -044.681\n",
      "[Telescope] delta Alt = -000.079 | delta Az= -040.699\n",
      "[Telescope] delta Alt = -000.079 | delta Az= -036.717\n",
      "[Telescope] delta Alt = -000.079 | delta Az= -032.738\n",
      "[Telescope] delta Alt = -000.080 | delta Az= -028.760\n",
      "[Telescope] delta Alt = -000.080 | delta Az= -024.799\n",
      "[Telescope] delta Alt = -000.080 | delta Az= -020.906\n",
      "[Telescope] delta Alt = -000.080 | delta Az= -017.148\n",
      "[Telescope] delta Alt = -000.080 | delta Az= -013.605\n",
      "[Telescope] delta Alt = -000.080 | delta Az= -010.364\n",
      "[Telescope] delta Alt = -000.080 | delta Az= -007.508\n",
      "[Telescope] delta Alt = -000.080 | delta Az= -005.106\n",
      "[Telescope] delta Alt = -000.080 | delta Az= -003.202\n",
      "[Telescope] delta Alt = -000.080 | delta Az= -001.823\n",
      "[Telescope] delta Alt = -000.080 | delta Az= -000.941\n",
      "[Telescope] delta Alt = -000.080 | delta Az= -000.492\n",
      "[Telescope] delta Alt = -000.080 | delta Az= -000.356\n",
      "[Telescope] delta Alt = -000.080 | delta Az= -000.350\n",
      "Got True\n",
      "Waiting for telescope to settle.\n",
      "[Telescope] delta Alt = -000.080 | delta Az= -000.350\n",
      "Telescope in position.\n",
      "['Telescope in position.']\n"
     ]
    }
   ],
   "source": [
    "await attcs.slew_object(name = \"HD 34816\", pa_ang=0.0, slew_timeout=240.) "
   ]
  },
  {
   "cell_type": "code",
   "execution_count": 45,
   "metadata": {},
   "outputs": [
    {
     "name": "stdout",
     "output_type": "stream",
     "text": [
      "Generating group_id\n",
      "OBJECT 0001 - 0001\n",
      "Waiting for header service LFO before continuing\n",
      "RemoteEvent(ATHeaderService, 0, logMessage) falling behind; read 10 messages\n"
     ]
    },
    {
     "data": {
      "text/plain": [
       "array([2020022000137])"
      ]
     },
     "execution_count": 45,
     "metadata": {},
     "output_type": "execute_result"
    }
   ],
   "source": [
    "await latiss.take_object(exptime=1.0, n=1, filter='empty_1', grating='empty_1')"
   ]
  },
  {
   "cell_type": "code",
   "execution_count": 46,
   "metadata": {},
   "outputs": [
    {
     "data": {
      "text/plain": [
       "<lsst.ts.salobj.ddsutil.ATPtg_ackcmd_2d655b72 at 0x7f9b6d802630>"
      ]
     },
     "execution_count": 46,
     "metadata": {},
     "output_type": "execute_result"
    }
   ],
   "source": [
    "#For Tiago's pointing model\n",
    "await attcs.atptg.cmd_pointNewFile.start()"
   ]
  },
  {
   "cell_type": "code",
   "execution_count": 47,
   "metadata": {},
   "outputs": [
    {
     "name": "stdout",
     "output_type": "stream",
     "text": [
      "Generating group_id\n",
      "OBJECT 0001 - 0001\n",
      "RemoteEvent(ATHeaderService, 0, logMessage) falling behind; read 10 messages\n",
      "Waiting for header service LFO before continuing\n"
     ]
    },
    {
     "data": {
      "text/plain": [
       "array([2020022000138])"
      ]
     },
     "execution_count": 47,
     "metadata": {},
     "output_type": "execute_result"
    }
   ],
   "source": [
    "await latiss.take_object(exptime=1.0, n=1, filter='empty_1', grating='empty_1')"
   ]
  },
  {
   "cell_type": "code",
   "execution_count": 48,
   "metadata": {},
   "outputs": [
    {
     "data": {
      "text/plain": [
       "<lsst.ts.salobj.ddsutil.ATPtg_ackcmd_2d655b72 at 0x7f9b6daa2cc0>"
      ]
     },
     "execution_count": 48,
     "metadata": {},
     "output_type": "execute_result"
    }
   ],
   "source": [
    "#For Tiago's pointing model\n",
    "await attcs.atptg.cmd_pointAddData.start()"
   ]
  },
  {
   "cell_type": "code",
   "execution_count": 49,
   "metadata": {},
   "outputs": [],
   "source": [
    "#Moving from boresight to good place"
   ]
  },
  {
   "cell_type": "code",
   "execution_count": 56,
   "metadata": {},
   "outputs": [
    {
     "name": "stdout",
     "output_type": "stream",
     "text": [
      "focus_positions = [-0.36 -0.32 -0.28 -0.24 -0.2  -0.16 -0.12 -0.08 -0.04]\n"
     ]
    }
   ],
   "source": [
    "import math \n",
    "#Focus units are given in mm \n",
    "focus_center = -0.2\n",
    "focus_step = 0.04\n",
    "n_steps = 9\n",
    "focus_positions = np.linspace(focus_center - focus_step * math.floor(n_steps / 2), focus_center + focus_step * math.ceil(n_steps / 2 - 1), n_steps)\n",
    "#focus_positions = [0.05, -0.05, -0.100, -0.150, -0.200, -0.250, -0.300, -0.3, -0.2, -0.2, -0.24, -0.26, -0.28]\n",
    "print ('focus_positions = ' + str(focus_positions))"
   ]
  },
  {
   "cell_type": "code",
   "execution_count": 51,
   "metadata": {},
   "outputs": [
    {
     "name": "stdout",
     "output_type": "stream",
     "text": [
      "Working on focus position -0.32\n",
      "Generating group_id\n",
      "ENGTEST 0001 - 0001\n",
      "Waiting for header service LFO before continuing\n",
      "RemoteEvent(ATHeaderService, 0, logMessage) falling behind; read 12 messages\n",
      "Newest image id is = [2020022000139]\n",
      "Working on focus position -0.29000000000000004\n",
      "Generating group_id\n",
      "ENGTEST 0001 - 0001\n",
      "Waiting for header service LFO before continuing\n",
      "Newest image id is = [2020022000140]\n",
      "Working on focus position -0.26\n",
      "Generating group_id\n",
      "ENGTEST 0001 - 0001\n",
      "Waiting for header service LFO before continuing\n",
      "RemoteEvent(ATHeaderService, 0, logMessage) falling behind; read 10 messages\n",
      "Newest image id is = [2020022000141]\n",
      "Working on focus position -0.23\n",
      "Generating group_id\n",
      "ENGTEST 0001 - 0001\n",
      "Waiting for header service LFO before continuing\n",
      "RemoteEvent(ATHeaderService, 0, logMessage) falling behind; read 12 messages\n",
      "Newest image id is = [2020022000142]\n",
      "Working on focus position -0.2\n",
      "Generating group_id\n",
      "ENGTEST 0001 - 0001\n",
      "Waiting for header service LFO before continuing\n",
      "Newest image id is = [2020022000143]\n",
      "Working on focus position -0.17\n",
      "Generating group_id\n",
      "ENGTEST 0001 - 0001\n",
      "Waiting for header service LFO before continuing\n",
      "RemoteEvent(ATHeaderService, 0, logMessage) falling behind; read 10 messages\n",
      "Newest image id is = [2020022000144]\n",
      "Working on focus position -0.14\n",
      "Generating group_id\n",
      "ENGTEST 0001 - 0001\n",
      "Waiting for header service LFO before continuing\n",
      "RemoteEvent(ATHeaderService, 0, logMessage) falling behind; read 15 messages\n",
      "Newest image id is = [2020022000145]\n",
      "Working on focus position -0.11000000000000001\n",
      "Generating group_id\n",
      "ENGTEST 0001 - 0001\n",
      "Waiting for header service LFO before continuing\n",
      "Newest image id is = [2020022000146]\n",
      "Working on focus position -0.08000000000000002\n",
      "Generating group_id\n",
      "ENGTEST 0001 - 0001\n",
      "Waiting for header service LFO before continuing\n",
      "Newest image id is = [2020022000147]\n"
     ]
    },
    {
     "data": {
      "text/plain": [
       "<lsst.ts.salobj.ddsutil.ATAOS_ackcmd_33d5c92b at 0x7f9b48ef1c50>"
      ]
     },
     "execution_count": 51,
     "metadata": {},
     "output_type": "execute_result"
    }
   ],
   "source": [
    "#!!!!DO NOT RUN UNLESS YOU HAVE BEEN CLEARED TO CONTROL TELESCOPE!!!!! \n",
    "focus_images = [0 for focus_pos in focus_positions]\n",
    "for i in range(len(focus_positions)): \n",
    "    focus_pos = focus_positions[i] \n",
    "    print ('Working on focus position ' + str(focus_pos))\n",
    "    attcs.athexapod.evt_positionUpdate.flush() \n",
    "    await attcs.ataos.cmd_applyFocusOffset.set_start(offset=focus_pos)\n",
    "    await attcs.athexapod.evt_positionUpdate.next(flush=False, timeout=attcs.long_timeout)\n",
    "    focus_image = await latiss.take_engtest(exptime=0.25, n=1, filter='empty_1', grating='empty_1') \n",
    "    print ('Newest image id is = ' +str(focus_image) )\n",
    "    focus_images[i] = int(focus_image)\n",
    "    \n",
    "#This resets the focus position after taking this sequence: \n",
    "await attcs.ataos.cmd_applyFocusOffset.set_start(offset = focus_center)"
   ]
  },
  {
   "cell_type": "code",
   "execution_count": 52,
   "metadata": {},
   "outputs": [
    {
     "name": "stdout",
     "output_type": "stream",
     "text": [
      "Applying x/y offset: 600/ 0 \n",
      "Applying Az/El offset: -53.61542329911296/ -597.5996874032456 \n",
      "Waiting for telescope to settle.\n",
      "Done\n"
     ]
    }
   ],
   "source": [
    "await attcs.offset_xy(x = 600, y = 0)"
   ]
  },
  {
   "cell_type": "code",
   "execution_count": 54,
   "metadata": {},
   "outputs": [
    {
     "name": "stdout",
     "output_type": "stream",
     "text": [
      "Applying x/y offset: 600/ -200 \n",
      "Applying Az/El offset: 132.74414000275738/ -618.3680079814353 \n",
      "Waiting for telescope to settle.\n",
      "Done\n"
     ]
    }
   ],
   "source": [
    "await attcs.offset_xy(x = 600, y = -200)"
   ]
  },
  {
   "cell_type": "code",
   "execution_count": 55,
   "metadata": {},
   "outputs": [
    {
     "name": "stdout",
     "output_type": "stream",
     "text": [
      "Generating group_id\n",
      "ENGTEST 0001 - 0001\n",
      "Waiting for header service LFO before continuing\n"
     ]
    }
   ],
   "source": [
    "focus_image = await latiss.take_engtest(exptime=10.0, n=1, filter='empty_1', grating='empty_1') "
   ]
  },
  {
   "cell_type": "code",
   "execution_count": 57,
   "metadata": {},
   "outputs": [
    {
     "name": "stdout",
     "output_type": "stream",
     "text": [
      "Working on focus position -0.36\n",
      "Generating group_id\n",
      "ENGTEST 0001 - 0001\n",
      "Waiting for header service LFO before continuing\n",
      "Newest image id is = [2020022000150]\n",
      "Working on focus position -0.32\n",
      "Generating group_id\n",
      "ENGTEST 0001 - 0001\n",
      "Waiting for header service LFO before continuing\n",
      "Newest image id is = [2020022000151]\n",
      "Working on focus position -0.28\n",
      "Generating group_id\n",
      "ENGTEST 0001 - 0001\n",
      "Waiting for header service LFO before continuing\n",
      "Newest image id is = [2020022000152]\n",
      "Working on focus position -0.24\n",
      "Generating group_id\n",
      "ENGTEST 0001 - 0001\n",
      "Waiting for header service LFO before continuing\n",
      "Newest image id is = [2020022000153]\n",
      "Working on focus position -0.2\n",
      "Generating group_id\n",
      "ENGTEST 0001 - 0001\n",
      "Waiting for header service LFO before continuing\n",
      "Newest image id is = [2020022000154]\n",
      "Working on focus position -0.16000000000000003\n",
      "Generating group_id\n",
      "ENGTEST 0001 - 0001\n",
      "RemoteEvent(ATHeaderService, 0, logMessage) falling behind; read 12 messages\n",
      "Waiting for header service LFO before continuing\n",
      "Newest image id is = [2020022000155]\n",
      "Working on focus position -0.12000000000000002\n",
      "Generating group_id\n",
      "ENGTEST 0001 - 0001\n",
      "RemoteEvent(ATHeaderService, 0, logMessage) falling behind; read 10 messages\n",
      "Waiting for header service LFO before continuing\n",
      "Newest image id is = [2020022000156]\n",
      "Working on focus position -0.08000000000000002\n",
      "Generating group_id\n",
      "ENGTEST 0001 - 0001\n",
      "Waiting for header service LFO before continuing\n",
      "Newest image id is = [2020022000157]\n",
      "Working on focus position -0.04000000000000001\n",
      "Generating group_id\n",
      "ENGTEST 0001 - 0001\n",
      "Waiting for header service LFO before continuing\n",
      "Newest image id is = [2020022000158]\n"
     ]
    },
    {
     "data": {
      "text/plain": [
       "<lsst.ts.salobj.ddsutil.ATAOS_ackcmd_33d5c92b at 0x7f9b52b7fc88>"
      ]
     },
     "execution_count": 57,
     "metadata": {},
     "output_type": "execute_result"
    }
   ],
   "source": [
    "#!!!!DO NOT RUN UNLESS YOU HAVE BEEN CLEARED TO CONTROL TELESCOPE!!!!! \n",
    "focus_images = [0 for focus_pos in focus_positions]\n",
    "for i in range(len(focus_positions)): \n",
    "    focus_pos = focus_positions[i] \n",
    "    print ('Working on focus position ' + str(focus_pos))\n",
    "    attcs.athexapod.evt_positionUpdate.flush() \n",
    "    await attcs.ataos.cmd_applyFocusOffset.set_start(offset=focus_pos)\n",
    "    await attcs.athexapod.evt_positionUpdate.next(flush=False, timeout=attcs.long_timeout)\n",
    "    focus_image = await latiss.take_engtest(exptime=10.0, n=1, filter='empty_1', grating='empty_1') \n",
    "    print ('Newest image id is = ' +str(focus_image) )\n",
    "    focus_images[i] = int(focus_image)\n",
    "    \n",
    "#This resets the focus position after taking this sequence: \n",
    "await attcs.ataos.cmd_applyFocusOffset.set_start(offset = focus_center)"
   ]
  },
  {
   "cell_type": "code",
   "execution_count": 58,
   "metadata": {},
   "outputs": [
    {
     "name": "stdout",
     "output_type": "stream",
     "text": [
      "Working on focus position -0.36\n",
      "Generating group_id\n",
      "ENGTEST 0001 - 0001\n",
      "Waiting for header service LFO before continuing\n",
      "RemoteEvent(ATHeaderService, 0, logMessage) falling behind; read 10 messages\n",
      "Newest image id is = [2020022000159]\n",
      "Working on focus position -0.32\n",
      "Generating group_id\n",
      "ENGTEST 0001 - 0001\n",
      "Waiting for header service LFO before continuing\n",
      "Newest image id is = [2020022000160]\n",
      "Working on focus position -0.28\n",
      "Generating group_id\n",
      "ENGTEST 0001 - 0001\n",
      "Waiting for header service LFO before continuing\n",
      "Newest image id is = [2020022000161]\n",
      "Working on focus position -0.24\n",
      "Generating group_id\n",
      "ENGTEST 0001 - 0001\n",
      "Waiting for header service LFO before continuing\n",
      "Newest image id is = [2020022000162]\n",
      "Working on focus position -0.2\n",
      "Generating group_id\n",
      "ENGTEST 0001 - 0001\n",
      "RemoteEvent(ATHeaderService, 0, logMessage) falling behind; read 13 messages\n",
      "Waiting for header service LFO before continuing\n",
      "Newest image id is = [2020022000163]\n",
      "Working on focus position -0.16000000000000003\n",
      "Generating group_id\n",
      "ENGTEST 0001 - 0001\n",
      "Waiting for header service LFO before continuing\n",
      "Newest image id is = [2020022000164]\n",
      "Working on focus position -0.12000000000000002\n",
      "Generating group_id\n",
      "ENGTEST 0001 - 0001\n",
      "Waiting for header service LFO before continuing\n",
      "RemoteEvent(ATHeaderService, 0, logMessage) falling behind; read 14 messages\n",
      "Newest image id is = [2020022000165]\n",
      "Working on focus position -0.08000000000000002\n",
      "Generating group_id\n",
      "ENGTEST 0001 - 0001\n",
      "Waiting for header service LFO before continuing\n",
      "Newest image id is = [2020022000166]\n",
      "Working on focus position -0.04000000000000001\n",
      "Generating group_id\n",
      "ENGTEST 0001 - 0001\n",
      "Waiting for header service LFO before continuing\n",
      "Newest image id is = [2020022000167]\n"
     ]
    },
    {
     "data": {
      "text/plain": [
       "<lsst.ts.salobj.ddsutil.ATAOS_ackcmd_33d5c92b at 0x7f9b52fe9ac8>"
      ]
     },
     "execution_count": 58,
     "metadata": {},
     "output_type": "execute_result"
    }
   ],
   "source": [
    "#!!!!DO NOT RUN UNLESS YOU HAVE BEEN CLEARED TO CONTROL TELESCOPE!!!!! \n",
    "focus_images = [0 for focus_pos in focus_positions]\n",
    "for i in range(len(focus_positions)): \n",
    "    focus_pos = focus_positions[i] \n",
    "    print ('Working on focus position ' + str(focus_pos))\n",
    "    attcs.athexapod.evt_positionUpdate.flush() \n",
    "    await attcs.ataos.cmd_applyFocusOffset.set_start(offset=focus_pos)\n",
    "    await attcs.athexapod.evt_positionUpdate.next(flush=False, timeout=attcs.long_timeout)\n",
    "    focus_image = await latiss.take_engtest(exptime=15.0, n=1, filter='BG40', grating='empty_1') \n",
    "    print ('Newest image id is = ' +str(focus_image) )\n",
    "    focus_images[i] = int(focus_image)\n",
    "    \n",
    "#This resets the focus position after taking this sequence: \n",
    "await attcs.ataos.cmd_applyFocusOffset.set_start(offset = focus_center)"
   ]
  },
  {
   "cell_type": "code",
   "execution_count": 59,
   "metadata": {},
   "outputs": [
    {
     "name": "stdout",
     "output_type": "stream",
     "text": [
      "Working on focus position -0.36\n",
      "Generating group_id\n",
      "ENGTEST 0001 - 0001\n",
      "Waiting for header service LFO before continuing\n",
      "Newest image id is = [2020022000168]\n",
      "Working on focus position -0.32\n",
      "Generating group_id\n",
      "ENGTEST 0001 - 0001\n",
      "Waiting for header service LFO before continuing\n",
      "Newest image id is = [2020022000169]\n",
      "Working on focus position -0.28\n",
      "Generating group_id\n",
      "ENGTEST 0001 - 0001\n",
      "Waiting for header service LFO before continuing\n",
      "Newest image id is = [2020022000170]\n",
      "Working on focus position -0.24\n",
      "Generating group_id\n",
      "ENGTEST 0001 - 0001\n",
      "Waiting for header service LFO before continuing\n",
      "Newest image id is = [2020022000171]\n",
      "Working on focus position -0.2\n",
      "Generating group_id\n",
      "ENGTEST 0001 - 0001\n",
      "Waiting for header service LFO before continuing\n",
      "RemoteEvent(ATHeaderService, 0, logMessage) falling behind; read 11 messages\n",
      "Newest image id is = [2020022000172]\n",
      "Working on focus position -0.16000000000000003\n",
      "Generating group_id\n",
      "ENGTEST 0001 - 0001\n",
      "Waiting for header service LFO before continuing\n",
      "Newest image id is = [2020022000173]\n",
      "Working on focus position -0.12000000000000002\n",
      "Generating group_id\n",
      "ENGTEST 0001 - 0001\n",
      "Waiting for header service LFO before continuing\n",
      "Newest image id is = [2020022000174]\n",
      "Working on focus position -0.08000000000000002\n",
      "Generating group_id\n",
      "ENGTEST 0001 - 0001\n",
      "RemoteEvent(ATHeaderService, 0, logMessage) falling behind; read 10 messages\n",
      "Waiting for header service LFO before continuing\n",
      "Newest image id is = [2020022000175]\n",
      "Working on focus position -0.04000000000000001\n",
      "Generating group_id\n",
      "ENGTEST 0001 - 0001\n",
      "Waiting for header service LFO before continuing\n",
      "Newest image id is = [2020022000176]\n"
     ]
    },
    {
     "data": {
      "text/plain": [
       "<lsst.ts.salobj.ddsutil.ATAOS_ackcmd_33d5c92b at 0x7f9b48ef1b00>"
      ]
     },
     "execution_count": 59,
     "metadata": {},
     "output_type": "execute_result"
    }
   ],
   "source": [
    "#!!!!DO NOT RUN UNLESS YOU HAVE BEEN CLEARED TO CONTROL TELESCOPE!!!!! \n",
    "focus_images = [0 for focus_pos in focus_positions]\n",
    "for i in range(len(focus_positions)): \n",
    "    focus_pos = focus_positions[i] \n",
    "    print ('Working on focus position ' + str(focus_pos))\n",
    "    attcs.athexapod.evt_positionUpdate.flush() \n",
    "    await attcs.ataos.cmd_applyFocusOffset.set_start(offset=focus_pos)\n",
    "    await attcs.athexapod.evt_positionUpdate.next(flush=False, timeout=attcs.long_timeout)\n",
    "    focus_image = await latiss.take_engtest(exptime=15.0, n=1, filter='RG610', grating='empty_1') \n",
    "    print ('Newest image id is = ' +str(focus_image) )\n",
    "    focus_images[i] = int(focus_image)\n",
    "    \n",
    "#This resets the focus position after taking this sequence: \n",
    "await attcs.ataos.cmd_applyFocusOffset.set_start(offset = focus_center)"
   ]
  },
  {
   "cell_type": "code",
   "execution_count": 60,
   "metadata": {},
   "outputs": [
    {
     "name": "stdout",
     "output_type": "stream",
     "text": [
      "focus_positions = [-0.36 -0.32 -0.28 -0.24 -0.2  -0.16 -0.12 -0.08 -0.04]\n"
     ]
    }
   ],
   "source": [
    "import math \n",
    "#Focus units are given in mm \n",
    "focus_center = -0.2\n",
    "focus_step = 0.04\n",
    "n_steps = 9\n",
    "focus_positions = np.linspace(focus_center - focus_step * math.floor(n_steps / 2), focus_center + focus_step * math.ceil(n_steps / 2 - 1), n_steps)\n",
    "#focus_positions = [0.05, -0.05, -0.100, -0.150, -0.200, -0.250, -0.300, -0.3, -0.2, -0.2, -0.24, -0.26, -0.28]\n",
    "print ('focus_positions = ' + str(focus_positions))"
   ]
  },
  {
   "cell_type": "code",
   "execution_count": 63,
   "metadata": {},
   "outputs": [
    {
     "name": "stdout",
     "output_type": "stream",
     "text": [
      "Generating group_id\n",
      "ENGTEST 0001 - 0001\n",
      "Waiting for header service LFO before continuing\n",
      "RemoteEvent(ATHeaderService, 0, logMessage) falling behind; read 10 messages\n"
     ]
    },
    {
     "data": {
      "text/plain": [
       "array([2020022000177])"
      ]
     },
     "execution_count": 63,
     "metadata": {},
     "output_type": "execute_result"
    }
   ],
   "source": [
    "await latiss.take_engtest(exptime=20.0, n=1, filter='BG40', grating='ronchi90lpmm') "
   ]
  },
  {
   "cell_type": "code",
   "execution_count": 64,
   "metadata": {},
   "outputs": [
    {
     "name": "stdout",
     "output_type": "stream",
     "text": [
      "Generating group_id\n",
      "ENGTEST 0001 - 0001\n",
      "Waiting for header service LFO before continuing\n"
     ]
    },
    {
     "data": {
      "text/plain": [
       "array([2020022000178])"
      ]
     },
     "execution_count": 64,
     "metadata": {},
     "output_type": "execute_result"
    }
   ],
   "source": [
    "await latiss.take_engtest(exptime=5.0, n=1, filter='RG610', grating='empty_1') "
   ]
  },
  {
   "cell_type": "code",
   "execution_count": 65,
   "metadata": {},
   "outputs": [
    {
     "name": "stdout",
     "output_type": "stream",
     "text": [
      "Generating group_id\n",
      "ENGTEST 0001 - 0001\n",
      "Waiting for header service LFO before continuing\n"
     ]
    },
    {
     "data": {
      "text/plain": [
       "array([2020022000179])"
      ]
     },
     "execution_count": 65,
     "metadata": {},
     "output_type": "execute_result"
    }
   ],
   "source": [
    "await latiss.take_engtest(exptime=5.0, n=1, filter='RG610', grating='empty_1') "
   ]
  },
  {
   "cell_type": "code",
   "execution_count": 66,
   "metadata": {},
   "outputs": [
    {
     "name": "stdout",
     "output_type": "stream",
     "text": [
      "Applying x/y offset: 21/ -24 \n",
      "Applying Az/El offset: 14.204111405484827/ -28.552464327629863 \n",
      "Waiting for telescope to settle.\n",
      "Done\n"
     ]
    }
   ],
   "source": [
    "await attcs.offset_xy(x=21, y = -24) x = 600, y = -200"
   ]
  },
  {
   "cell_type": "code",
   "execution_count": 68,
   "metadata": {},
   "outputs": [
    {
     "name": "stdout",
     "output_type": "stream",
     "text": [
      "Applying x/y offset: 621/ -224 \n",
      "Applying Az/El offset: -35.28685360062414/ -659.2206292000943 \n",
      "Waiting for telescope to settle.\n",
      "Done\n"
     ]
    }
   ],
   "source": [
    "await attcs.offset_xy(x=21 + 600, y = -24 - 200, persistent = True)"
   ]
  },
  {
   "cell_type": "code",
   "execution_count": 69,
   "metadata": {},
   "outputs": [
    {
     "name": "stdout",
     "output_type": "stream",
     "text": [
      "Generating group_id\n",
      "ENGTEST 0001 - 0001\n",
      "Waiting for header service LFO before continuing\n"
     ]
    },
    {
     "data": {
      "text/plain": [
       "array([2020022000181])"
      ]
     },
     "execution_count": 69,
     "metadata": {},
     "output_type": "execute_result"
    }
   ],
   "source": [
    "await latiss.take_engtest(exptime=5.0, n=1, filter='RG610', grating='empty_1') "
   ]
  },
  {
   "cell_type": "code",
   "execution_count": null,
   "metadata": {},
   "outputs": [],
   "source": [
    "#Robert's offsets. "
   ]
  },
  {
   "cell_type": "code",
   "execution_count": 70,
   "metadata": {},
   "outputs": [
    {
     "name": "stdout",
     "output_type": "stream",
     "text": [
      "Applying x/y offset: -57/ -59 \n",
      "Applying Az/El offset: 77.23339089664533/ 27.658693580969828 \n",
      "Waiting for telescope to settle.\n",
      "Done\n"
     ]
    }
   ],
   "source": [
    "await attcs.offset_xy(x=-57, y = -59, persistent = True)"
   ]
  },
  {
   "cell_type": "code",
   "execution_count": 71,
   "metadata": {},
   "outputs": [
    {
     "name": "stdout",
     "output_type": "stream",
     "text": [
      "Generating group_id\n",
      "ENGTEST 0001 - 0001\n",
      "Waiting for header service LFO before continuing\n"
     ]
    },
    {
     "data": {
      "text/plain": [
       "array([2020022000182])"
      ]
     },
     "execution_count": 71,
     "metadata": {},
     "output_type": "execute_result"
    }
   ],
   "source": [
    "await latiss.take_engtest(exptime=5.0, n=1, filter='RG610', grating='empty_1') "
   ]
  },
  {
   "cell_type": "code",
   "execution_count": 72,
   "metadata": {},
   "outputs": [
    {
     "name": "stdout",
     "output_type": "stream",
     "text": [
      "Applying x/y offset: -57/ -59 \n",
      "Applying Az/El offset: 77.47453475842707/ 26.975849643065494 \n",
      "Waiting for telescope to settle.\n",
      "Done\n"
     ]
    }
   ],
   "source": [
    "await attcs.offset_xy(x=-57, y = -59, persistent = True)"
   ]
  },
  {
   "cell_type": "code",
   "execution_count": 73,
   "metadata": {},
   "outputs": [
    {
     "name": "stdout",
     "output_type": "stream",
     "text": [
      "Generating group_id\n",
      "ENGTEST 0001 - 0001\n",
      "Waiting for header service LFO before continuing\n"
     ]
    },
    {
     "data": {
      "text/plain": [
       "array([2020022000183])"
      ]
     },
     "execution_count": 73,
     "metadata": {},
     "output_type": "execute_result"
    }
   ],
   "source": [
    "await latiss.take_engtest(exptime=5.0, n=1, filter='RG610', grating='empty_1') "
   ]
  },
  {
   "cell_type": "code",
   "execution_count": 74,
   "metadata": {},
   "outputs": [
    {
     "name": "stdout",
     "output_type": "stream",
     "text": [
      "Generating group_id\n",
      "ENGTEST 0001 - 0001\n",
      "Waiting for header service LFO before continuing\n",
      "RemoteEvent(ATHeaderService, 0, logMessage) falling behind; read 14 messages\n"
     ]
    },
    {
     "data": {
      "text/plain": [
       "array([2020022000184])"
      ]
     },
     "execution_count": 74,
     "metadata": {},
     "output_type": "execute_result"
    }
   ],
   "source": [
    "await latiss.take_engtest(exptime=5.0, n=1, filter='RG610', grating='empty_1') "
   ]
  },
  {
   "cell_type": "code",
   "execution_count": 75,
   "metadata": {},
   "outputs": [
    {
     "name": "stdout",
     "output_type": "stream",
     "text": [
      "Generating group_id\n",
      "ENGTEST 0001 - 0001\n",
      "RemoteEvent(ATMCS, 0, target) falling behind; read 10 messages\n",
      "RemoteEvent(ATDomeTrajectory, 0, logMessage) falling behind; read 39 messages\n",
      "RemoteEvent(ATDomeTrajectory, 0, logMessage) falling behind; read 19 messages\n",
      "Waiting for header service LFO before continuing\n"
     ]
    },
    {
     "data": {
      "text/plain": [
       "array([2020022000185])"
      ]
     },
     "execution_count": 75,
     "metadata": {},
     "output_type": "execute_result"
    }
   ],
   "source": [
    "await latiss.take_engtest(exptime=5.0, n=1, filter='RG610', grating='empty_1') "
   ]
  },
  {
   "cell_type": "code",
   "execution_count": 76,
   "metadata": {},
   "outputs": [
    {
     "name": "stdout",
     "output_type": "stream",
     "text": [
      "Generating group_id\n",
      "ENGTEST 0001 - 0001\n",
      "RemoteEvent(ATHeaderService, 0, logMessage) falling behind; read 11 messages\n",
      "Waiting for header service LFO before continuing\n"
     ]
    },
    {
     "data": {
      "text/plain": [
       "array([2020022000186])"
      ]
     },
     "execution_count": 76,
     "metadata": {},
     "output_type": "execute_result"
    }
   ],
   "source": [
    "await latiss.take_engtest(exptime=5.0, n=1, filter='RG610', grating='ronchi90lpmm') "
   ]
  },
  {
   "cell_type": "code",
   "execution_count": 77,
   "metadata": {},
   "outputs": [
    {
     "name": "stdout",
     "output_type": "stream",
     "text": [
      "focus_positions = [-0.36 -0.32 -0.28 -0.24 -0.2  -0.16 -0.12 -0.08 -0.04]\n"
     ]
    }
   ],
   "source": [
    "import math \n",
    "#Focus units are given in mm \n",
    "focus_center = -0.2\n",
    "focus_step = 0.04\n",
    "n_steps = 9\n",
    "focus_positions = np.linspace(focus_center - focus_step * math.floor(n_steps / 2), focus_center + focus_step * math.ceil(n_steps / 2 - 1), n_steps)\n",
    "#focus_positions = [0.05, -0.05, -0.100, -0.150, -0.200, -0.250, -0.300, -0.3, -0.2, -0.2, -0.24, -0.26, -0.28]\n",
    "print ('focus_positions = ' + str(focus_positions))"
   ]
  },
  {
   "cell_type": "code",
   "execution_count": 78,
   "metadata": {},
   "outputs": [
    {
     "name": "stdout",
     "output_type": "stream",
     "text": [
      "Generating group_id\n",
      "ENGTEST 0001 - 0001\n",
      "Waiting for header service LFO before continuing\n"
     ]
    },
    {
     "data": {
      "text/plain": [
       "array([2020022000187])"
      ]
     },
     "execution_count": 78,
     "metadata": {},
     "output_type": "execute_result"
    }
   ],
   "source": [
    "await latiss.take_engtest(exptime=5.0, n=1, filter='RG610', grating='ronchi90lpmm') "
   ]
  },
  {
   "cell_type": "code",
   "execution_count": 79,
   "metadata": {},
   "outputs": [
    {
     "name": "stdout",
     "output_type": "stream",
     "text": [
      "Generating group_id\n",
      "ENGTEST 0001 - 0001\n",
      "Waiting for header service LFO before continuing\n"
     ]
    },
    {
     "data": {
      "text/plain": [
       "array([2020022000188])"
      ]
     },
     "execution_count": 79,
     "metadata": {},
     "output_type": "execute_result"
    }
   ],
   "source": [
    "await latiss.take_engtest(exptime=5.0, n=1, filter='RG610', grating='ronchi90lpmm') "
   ]
  },
  {
   "cell_type": "code",
   "execution_count": 80,
   "metadata": {},
   "outputs": [
    {
     "name": "stdout",
     "output_type": "stream",
     "text": [
      "Working on focus position -0.36\n",
      "Generating group_id\n",
      "ENGTEST 0001 - 0001\n",
      "Waiting for header service LFO before continuing\n",
      "Newest image id is = [2020022000189]\n",
      "Working on focus position -0.32\n",
      "Generating group_id\n",
      "ENGTEST 0001 - 0001\n",
      "Waiting for header service LFO before continuing\n",
      "Newest image id is = [2020022000190]\n",
      "Working on focus position -0.28\n",
      "Generating group_id\n",
      "ENGTEST 0001 - 0001\n",
      "Waiting for header service LFO before continuing\n",
      "RemoteEvent(ATHeaderService, 0, logMessage) falling behind; read 10 messages\n",
      "Newest image id is = [2020022000191]\n",
      "Working on focus position -0.24\n",
      "Generating group_id\n",
      "ENGTEST 0001 - 0001\n",
      "Waiting for header service LFO before continuing\n",
      "RemoteEvent(ATHeaderService, 0, logMessage) falling behind; read 11 messages\n",
      "Newest image id is = [2020022000192]\n",
      "Working on focus position -0.2\n",
      "Generating group_id\n",
      "ENGTEST 0001 - 0001\n",
      "Waiting for header service LFO before continuing\n",
      "RemoteEvent(ATHeaderService, 0, logMessage) falling behind; read 10 messages\n",
      "Newest image id is = [2020022000193]\n",
      "Working on focus position -0.16000000000000003\n",
      "Generating group_id\n",
      "ENGTEST 0001 - 0001\n",
      "Waiting for header service LFO before continuing\n",
      "Newest image id is = [2020022000194]\n",
      "Working on focus position -0.12000000000000002\n",
      "Generating group_id\n",
      "ENGTEST 0001 - 0001\n",
      "Waiting for header service LFO before continuing\n",
      "RemoteEvent(ATHeaderService, 0, logMessage) falling behind; read 10 messages\n",
      "Newest image id is = [2020022000195]\n",
      "Working on focus position -0.08000000000000002\n",
      "Generating group_id\n",
      "ENGTEST 0001 - 0001\n",
      "Waiting for header service LFO before continuing\n",
      "Newest image id is = [2020022000196]\n",
      "Working on focus position -0.04000000000000001\n",
      "Generating group_id\n",
      "ENGTEST 0001 - 0001\n",
      "Waiting for header service LFO before continuing\n",
      "Newest image id is = [2020022000197]\n"
     ]
    },
    {
     "data": {
      "text/plain": [
       "<lsst.ts.salobj.ddsutil.ATAOS_ackcmd_33d5c92b at 0x7f9b4d89a630>"
      ]
     },
     "execution_count": 80,
     "metadata": {},
     "output_type": "execute_result"
    }
   ],
   "source": [
    "#!!!!DO NOT RUN UNLESS YOU HAVE BEEN CLEARED TO CONTROL TELESCOPE!!!!! \n",
    "focus_images = [0 for focus_pos in focus_positions]\n",
    "for i in range(len(focus_positions)): \n",
    "    focus_pos = focus_positions[i] \n",
    "    print ('Working on focus position ' + str(focus_pos))\n",
    "    attcs.athexapod.evt_positionUpdate.flush() \n",
    "    await attcs.ataos.cmd_applyFocusOffset.set_start(offset=focus_pos)\n",
    "    await attcs.athexapod.evt_positionUpdate.next(flush=False, timeout=attcs.long_timeout)\n",
    "    focus_image = await latiss.take_engtest(exptime=20.0, n=1, filter='RG610', grating='ronchi90lpmm') \n",
    "    print ('Newest image id is = ' +str(focus_image) )\n",
    "    focus_images[i] = int(focus_image)\n",
    "    \n",
    "#This resets the focus position after taking this sequence: \n",
    "await attcs.ataos.cmd_applyFocusOffset.set_start(offset = focus_center)"
   ]
  },
  {
   "cell_type": "code",
   "execution_count": 81,
   "metadata": {},
   "outputs": [
    {
     "name": "stdout",
     "output_type": "stream",
     "text": [
      "Generating group_id\n",
      "ENGTEST 0001 - 0001\n",
      "Waiting for header service LFO before continuing\n"
     ]
    },
    {
     "data": {
      "text/plain": [
       "array([2020022000198])"
      ]
     },
     "execution_count": 81,
     "metadata": {},
     "output_type": "execute_result"
    }
   ],
   "source": [
    "await latiss.take_engtest(exptime=5.0, n=1, filter='BG40', grating='ronchi90lpmm') "
   ]
  },
  {
   "cell_type": "code",
   "execution_count": 82,
   "metadata": {},
   "outputs": [
    {
     "name": "stdout",
     "output_type": "stream",
     "text": [
      "Generating group_id\n",
      "ENGTEST 0001 - 0001\n",
      "Waiting for header service LFO before continuing\n"
     ]
    },
    {
     "data": {
      "text/plain": [
       "array([2020022000199])"
      ]
     },
     "execution_count": 82,
     "metadata": {},
     "output_type": "execute_result"
    }
   ],
   "source": [
    "await latiss.take_engtest(exptime=20.0, n=1, filter='BG40', grating='ronchi90lpmm') "
   ]
  },
  {
   "cell_type": "code",
   "execution_count": 83,
   "metadata": {},
   "outputs": [
    {
     "name": "stdout",
     "output_type": "stream",
     "text": [
      "Generating group_id\n",
      "ENGTEST 0001 - 0001\n",
      "Waiting for header service LFO before continuing\n",
      "RemoteEvent(ATHeaderService, 0, logMessage) falling behind; read 12 messages\n"
     ]
    },
    {
     "data": {
      "text/plain": [
       "array([2020022000200])"
      ]
     },
     "execution_count": 83,
     "metadata": {},
     "output_type": "execute_result"
    }
   ],
   "source": [
    "await latiss.take_engtest(exptime=20.0, n=1, filter='BG40', grating='ronchi90lpmm') "
   ]
  },
  {
   "cell_type": "code",
   "execution_count": 84,
   "metadata": {},
   "outputs": [
    {
     "name": "stdout",
     "output_type": "stream",
     "text": [
      "focus_positions = [-0.36 -0.32 -0.28 -0.24 -0.2  -0.16 -0.12 -0.08 -0.04]\n"
     ]
    }
   ],
   "source": [
    "import math \n",
    "#Focus units are given in mm \n",
    "focus_center = -0.2\n",
    "focus_step = 0.04\n",
    "n_steps = 9\n",
    "focus_positions = np.linspace(focus_center - focus_step * math.floor(n_steps / 2), focus_center + focus_step * math.ceil(n_steps / 2 - 1), n_steps)\n",
    "#focus_positions = [0.05, -0.05, -0.100, -0.150, -0.200, -0.250, -0.300, -0.3, -0.2, -0.2, -0.24, -0.26, -0.28]\n",
    "print ('focus_positions = ' + str(focus_positions))"
   ]
  },
  {
   "cell_type": "code",
   "execution_count": 85,
   "metadata": {},
   "outputs": [
    {
     "name": "stdout",
     "output_type": "stream",
     "text": [
      "Working on focus position -0.36\n",
      "Generating group_id\n",
      "ENGTEST 0001 - 0001\n",
      "RemoteEvent(ATHeaderService, 0, logMessage) falling behind; read 12 messages\n",
      "Waiting for header service LFO before continuing\n",
      "Newest image id is = [2020022000201]\n",
      "Working on focus position -0.32\n",
      "Generating group_id\n",
      "ENGTEST 0001 - 0001\n",
      "Waiting for header service LFO before continuing\n",
      "Newest image id is = [2020022000202]\n",
      "Working on focus position -0.28\n",
      "Generating group_id\n",
      "ENGTEST 0001 - 0001\n",
      "Waiting for header service LFO before continuing\n",
      "Newest image id is = [2020022000203]\n",
      "Working on focus position -0.24\n",
      "Generating group_id\n",
      "ENGTEST 0001 - 0001\n",
      "RemoteEvent(ATHeaderService, 0, logMessage) falling behind; read 11 messages\n",
      "Waiting for header service LFO before continuing\n",
      "Newest image id is = [2020022000204]\n",
      "Working on focus position -0.2\n",
      "Generating group_id\n",
      "ENGTEST 0001 - 0001\n",
      "Waiting for header service LFO before continuing\n",
      "Newest image id is = [2020022000205]\n",
      "Working on focus position -0.16000000000000003\n",
      "Generating group_id\n",
      "ENGTEST 0001 - 0001\n",
      "Waiting for header service LFO before continuing\n",
      "Newest image id is = [2020022000206]\n",
      "Working on focus position -0.12000000000000002\n",
      "Generating group_id\n",
      "ENGTEST 0001 - 0001\n",
      "Waiting for header service LFO before continuing\n",
      "RemoteEvent(ATHeaderService, 0, logMessage) falling behind; read 10 messages\n",
      "Newest image id is = [2020022000207]\n",
      "Working on focus position -0.08000000000000002\n",
      "Generating group_id\n",
      "ENGTEST 0001 - 0001\n",
      "Waiting for header service LFO before continuing\n",
      "Newest image id is = [2020022000208]\n",
      "Working on focus position -0.04000000000000001\n",
      "Generating group_id\n",
      "ENGTEST 0001 - 0001\n",
      "Waiting for header service LFO before continuing\n",
      "Newest image id is = [2020022000209]\n"
     ]
    },
    {
     "data": {
      "text/plain": [
       "<lsst.ts.salobj.ddsutil.ATAOS_ackcmd_33d5c92b at 0x7f9b6d8ee9e8>"
      ]
     },
     "execution_count": 85,
     "metadata": {},
     "output_type": "execute_result"
    }
   ],
   "source": [
    "#!!!!DO NOT RUN UNLESS YOU HAVE BEEN CLEARED TO CONTROL TELESCOPE!!!!! \n",
    "focus_images = [0 for focus_pos in focus_positions]\n",
    "for i in range(len(focus_positions)): \n",
    "    focus_pos = focus_positions[i] \n",
    "    print ('Working on focus position ' + str(focus_pos))\n",
    "    attcs.athexapod.evt_positionUpdate.flush() \n",
    "    await attcs.ataos.cmd_applyFocusOffset.set_start(offset=focus_pos)\n",
    "    await attcs.athexapod.evt_positionUpdate.next(flush=False, timeout=attcs.long_timeout)\n",
    "    focus_image = await latiss.take_engtest(exptime=30.0, n=1, filter='BG40', grating='ronchi90lpmm') \n",
    "    print ('Newest image id is = ' +str(focus_image) )\n",
    "    focus_images[i] = int(focus_image)\n",
    "    \n",
    "#This resets the focus position after taking this sequence: \n",
    "await attcs.ataos.cmd_applyFocusOffset.set_start(offset = focus_center)"
   ]
  },
  {
   "cell_type": "code",
   "execution_count": 86,
   "metadata": {},
   "outputs": [
    {
     "name": "stdout",
     "output_type": "stream",
     "text": [
      "Generating group_id\n",
      "ENGTEST 0001 - 0001\n",
      "RemoteEvent(ATHeaderService, 0, logMessage) falling behind; read 10 messages\n",
      "Waiting for header service LFO before continuing\n"
     ]
    },
    {
     "data": {
      "text/plain": [
       "array([2020022000210])"
      ]
     },
     "execution_count": 86,
     "metadata": {},
     "output_type": "execute_result"
    }
   ],
   "source": [
    "await latiss.take_engtest(exptime=20.0, n=1, filter='quadnotch1', grating='ronchi90lpmm') "
   ]
  },
  {
   "cell_type": "code",
   "execution_count": 87,
   "metadata": {},
   "outputs": [
    {
     "name": "stdout",
     "output_type": "stream",
     "text": [
      "Generating group_id\n",
      "ENGTEST 0001 - 0001\n",
      "Waiting for header service LFO before continuing\n",
      "RemoteEvent(ATHeaderService, 0, logMessage) falling behind; read 14 messages\n"
     ]
    },
    {
     "data": {
      "text/plain": [
       "array([2020022000211])"
      ]
     },
     "execution_count": 87,
     "metadata": {},
     "output_type": "execute_result"
    }
   ],
   "source": [
    "await latiss.take_engtest(exptime=20.0, n=1, filter='quadnotch1', grating='ronchi90lpmm') "
   ]
  },
  {
   "cell_type": "code",
   "execution_count": 88,
   "metadata": {},
   "outputs": [
    {
     "name": "stdout",
     "output_type": "stream",
     "text": [
      "focus_positions = [-0.36 -0.32 -0.28 -0.24 -0.2  -0.16 -0.12 -0.08 -0.04]\n"
     ]
    }
   ],
   "source": [
    "import math \n",
    "#Focus units are given in mm \n",
    "focus_center = -0.2\n",
    "focus_step = 0.04\n",
    "n_steps = 9\n",
    "focus_positions = np.linspace(focus_center - focus_step * math.floor(n_steps / 2), focus_center + focus_step * math.ceil(n_steps / 2 - 1), n_steps)\n",
    "#focus_positions = [0.05, -0.05, -0.100, -0.150, -0.200, -0.250, -0.300, -0.3, -0.2, -0.2, -0.24, -0.26, -0.28]\n",
    "print ('focus_positions = ' + str(focus_positions))"
   ]
  },
  {
   "cell_type": "code",
   "execution_count": 89,
   "metadata": {},
   "outputs": [
    {
     "name": "stdout",
     "output_type": "stream",
     "text": [
      "Working on focus position -0.36\n",
      "Generating group_id\n",
      "ENGTEST 0001 - 0001\n",
      "Waiting for header service LFO before continuing\n",
      "Newest image id is = [2020022000212]\n",
      "Working on focus position -0.32\n",
      "Generating group_id\n",
      "ENGTEST 0001 - 0001\n",
      "Waiting for header service LFO before continuing\n",
      "Newest image id is = [2020022000213]\n",
      "Working on focus position -0.28\n",
      "Generating group_id\n",
      "ENGTEST 0001 - 0001\n",
      "Waiting for header service LFO before continuing\n",
      "RemoteEvent(ATHeaderService, 0, logMessage) falling behind; read 76 messages\n",
      "Newest image id is = [2020022000214]\n",
      "Working on focus position -0.24\n",
      "Generating group_id\n",
      "ENGTEST 0001 - 0001\n",
      "Waiting for header service LFO before continuing\n",
      "Newest image id is = [2020022000215]\n",
      "Working on focus position -0.2\n",
      "Generating group_id\n",
      "ENGTEST 0001 - 0001\n",
      "RemoteEvent(ATHeaderService, 0, logMessage) falling behind; read 12 messages\n",
      "Waiting for header service LFO before continuing\n",
      "RemoteEvent(ATHeaderService, 0, logMessage) falling behind; read 19 messages\n",
      "Newest image id is = [2020022000216]\n",
      "Working on focus position -0.16000000000000003\n",
      "Generating group_id\n",
      "ENGTEST 0001 - 0001\n",
      "Waiting for header service LFO before continuing\n",
      "RemoteEvent(ATHeaderService, 0, logMessage) falling behind; read 12 messages\n",
      "Newest image id is = [2020022000217]\n",
      "Working on focus position -0.12000000000000002\n",
      "Generating group_id\n",
      "ENGTEST 0001 - 0001\n",
      "Waiting for header service LFO before continuing\n",
      "RemoteEvent(ATHeaderService, 0, logMessage) falling behind; read 11 messages\n",
      "Newest image id is = [2020022000218]\n",
      "Working on focus position -0.08000000000000002\n",
      "Generating group_id\n",
      "ENGTEST 0001 - 0001\n",
      "Waiting for header service LFO before continuing\n",
      "Newest image id is = [2020022000219]\n",
      "Working on focus position -0.04000000000000001\n",
      "Generating group_id\n",
      "ENGTEST 0001 - 0001\n",
      "Waiting for header service LFO before continuing\n",
      "Newest image id is = [2020022000220]\n"
     ]
    },
    {
     "data": {
      "text/plain": [
       "<lsst.ts.salobj.ddsutil.ATAOS_ackcmd_33d5c92b at 0x7f9b6dbb72e8>"
      ]
     },
     "execution_count": 89,
     "metadata": {},
     "output_type": "execute_result"
    }
   ],
   "source": [
    "#!!!!DO NOT RUN UNLESS YOU HAVE BEEN CLEARED TO CONTROL TELESCOPE!!!!! \n",
    "focus_images = [0 for focus_pos in focus_positions]\n",
    "for i in range(len(focus_positions)): \n",
    "    focus_pos = focus_positions[i] \n",
    "    print ('Working on focus position ' + str(focus_pos))\n",
    "    attcs.athexapod.evt_positionUpdate.flush() \n",
    "    await attcs.ataos.cmd_applyFocusOffset.set_start(offset=focus_pos)\n",
    "    await attcs.athexapod.evt_positionUpdate.next(flush=False, timeout=attcs.long_timeout)\n",
    "    focus_image = await latiss.take_engtest(exptime=30.0, n=1, filter='quadnotch1', grating='ronchi90lpmm') \n",
    "    print ('Newest image id is = ' +str(focus_image) )\n",
    "    focus_images[i] = int(focus_image)\n",
    "    \n",
    "#This resets the focus position after taking this sequence: \n",
    "await attcs.ataos.cmd_applyFocusOffset.set_start(offset = focus_center)"
   ]
  },
  {
   "cell_type": "code",
   "execution_count": 90,
   "metadata": {},
   "outputs": [
    {
     "name": "stdout",
     "output_type": "stream",
     "text": [
      "Generating group_id\n",
      "ENGTEST 0001 - 0001\n",
      "Waiting for header service LFO before continuing\n"
     ]
    },
    {
     "data": {
      "text/plain": [
       "array([2020022000221])"
      ]
     },
     "execution_count": 90,
     "metadata": {},
     "output_type": "execute_result"
    }
   ],
   "source": [
    "await latiss.take_engtest(exptime=5.0, n=1, filter='quadnotch1', grating='empty_1') "
   ]
  },
  {
   "cell_type": "code",
   "execution_count": 91,
   "metadata": {},
   "outputs": [
    {
     "name": "stdout",
     "output_type": "stream",
     "text": [
      "Generating group_id\n",
      "ENGTEST 0001 - 0001\n",
      "Waiting for header service LFO before continuing\n"
     ]
    },
    {
     "data": {
      "text/plain": [
       "array([2020022000222])"
      ]
     },
     "execution_count": 91,
     "metadata": {},
     "output_type": "execute_result"
    }
   ],
   "source": [
    "await latiss.take_engtest(exptime=5.0, n=1, filter='quadnotch1', grating='empty_1') "
   ]
  },
  {
   "cell_type": "code",
   "execution_count": 92,
   "metadata": {},
   "outputs": [
    {
     "name": "stdout",
     "output_type": "stream",
     "text": [
      "focus_positions = [-0.36 -0.32 -0.28 -0.24 -0.2  -0.16 -0.12 -0.08 -0.04]\n"
     ]
    }
   ],
   "source": [
    "import math \n",
    "#Focus units are given in mm \n",
    "focus_center = -0.2\n",
    "focus_step = 0.04\n",
    "n_steps = 9\n",
    "focus_positions = np.linspace(focus_center - focus_step * math.floor(n_steps / 2), focus_center + focus_step * math.ceil(n_steps / 2 - 1), n_steps)\n",
    "#focus_positions = [0.05, -0.05, -0.100, -0.150, -0.200, -0.250, -0.300, -0.3, -0.2, -0.2, -0.24, -0.26, -0.28]\n",
    "print ('focus_positions = ' + str(focus_positions))"
   ]
  },
  {
   "cell_type": "code",
   "execution_count": 93,
   "metadata": {},
   "outputs": [
    {
     "name": "stdout",
     "output_type": "stream",
     "text": [
      "Working on focus position -0.36\n",
      "Generating group_id\n",
      "ENGTEST 0001 - 0001\n",
      "Waiting for header service LFO before continuing\n",
      "Newest image id is = [2020022000223]\n",
      "Working on focus position -0.32\n",
      "Generating group_id\n",
      "ENGTEST 0001 - 0001\n",
      "Waiting for header service LFO before continuing\n",
      "RemoteEvent(ATHeaderService, 0, logMessage) falling behind; read 10 messages\n",
      "Newest image id is = [2020022000224]\n",
      "Working on focus position -0.28\n",
      "Generating group_id\n",
      "ENGTEST 0001 - 0001\n",
      "Waiting for header service LFO before continuing\n",
      "Newest image id is = [2020022000225]\n",
      "Working on focus position -0.24\n",
      "Generating group_id\n",
      "ENGTEST 0001 - 0001\n",
      "Waiting for header service LFO before continuing\n",
      "Newest image id is = [2020022000226]\n",
      "Working on focus position -0.2\n",
      "Generating group_id\n",
      "ENGTEST 0001 - 0001\n",
      "Waiting for header service LFO before continuing\n",
      "RemoteEvent(ATHeaderService, 0, logMessage) falling behind; read 10 messages\n",
      "Newest image id is = [2020022000227]\n",
      "Working on focus position -0.16000000000000003\n",
      "Generating group_id\n",
      "ENGTEST 0001 - 0001\n",
      "Waiting for header service LFO before continuing\n",
      "Newest image id is = [2020022000228]\n",
      "Working on focus position -0.12000000000000002\n",
      "Generating group_id\n",
      "ENGTEST 0001 - 0001\n",
      "RemoteEvent(ATHeaderService, 0, logMessage) falling behind; read 10 messages\n",
      "Waiting for header service LFO before continuing\n",
      "Newest image id is = [2020022000229]\n",
      "Working on focus position -0.08000000000000002\n",
      "Generating group_id\n",
      "ENGTEST 0001 - 0001\n",
      "Waiting for header service LFO before continuing\n",
      "Newest image id is = [2020022000230]\n",
      "Working on focus position -0.04000000000000001\n",
      "Generating group_id\n",
      "ENGTEST 0001 - 0001\n",
      "Waiting for header service LFO before continuing\n",
      "RemoteEvent(ATHeaderService, 0, logMessage) falling behind; read 17 messages\n",
      "Newest image id is = [2020022000231]\n"
     ]
    },
    {
     "data": {
      "text/plain": [
       "<lsst.ts.salobj.ddsutil.ATAOS_ackcmd_33d5c92b at 0x7f9b6dbaa240>"
      ]
     },
     "execution_count": 93,
     "metadata": {},
     "output_type": "execute_result"
    }
   ],
   "source": [
    "#!!!!DO NOT RUN UNLESS YOU HAVE BEEN CLEARED TO CONTROL TELESCOPE!!!!! \n",
    "focus_images = [0 for focus_pos in focus_positions]\n",
    "for i in range(len(focus_positions)): \n",
    "    focus_pos = focus_positions[i] \n",
    "    print ('Working on focus position ' + str(focus_pos))\n",
    "    attcs.athexapod.evt_positionUpdate.flush() \n",
    "    await attcs.ataos.cmd_applyFocusOffset.set_start(offset=focus_pos)\n",
    "    await attcs.athexapod.evt_positionUpdate.next(flush=False, timeout=attcs.long_timeout)\n",
    "    focus_image = await latiss.take_engtest(exptime=10.0, n=1, filter='quadnotch1', grating='empty_1') \n",
    "    print ('Newest image id is = ' +str(focus_image) )\n",
    "    focus_images[i] = int(focus_image)\n",
    "    \n",
    "#This resets the focus position after taking this sequence: \n",
    "await attcs.ataos.cmd_applyFocusOffset.set_start(offset = focus_center)"
   ]
  },
  {
   "cell_type": "code",
   "execution_count": 96,
   "metadata": {},
   "outputs": [
    {
     "name": "stdout",
     "output_type": "stream",
     "text": [
      "Slewing to HD 34816: 05 19 34.5240 -13 10 36.440\n",
      "Parallactic angle: 125.64260401210689 | Sky Angle: 148.84099600518675\n",
      "Sending command\n",
      "Stop tracking.\n",
      "Mount tracking state is 9\n",
      "Tracking state: 10.\n",
      "Tracking state: 8.\n",
      "In Position: True.\n",
      "In Position: False.\n",
      "Scheduling check coroutines\n",
      "process as completed...\n",
      "Got False\n",
      "Telescope not in position\n",
      "atmcs: <State.ENABLED: 2>\n",
      "atptg: <State.ENABLED: 2>\n",
      "ataos: <State.ENABLED: 2>\n",
      "atpneumatics: <State.ENABLED: 2>\n",
      "athexapod: <State.ENABLED: 2>\n",
      "atdometrajectory: <State.ENABLED: 2>\n",
      "[Telescope] delta Alt = +000.012 | delta Az= -000.179\n",
      "[Telescope] delta Alt = -000.122 | delta Az= -000.157\n",
      "[Telescope] delta Alt = -000.120 | delta Az= -000.157\n",
      "[Telescope] delta Alt = -000.120 | delta Az= -000.156\n",
      "[Telescope] delta Alt = -000.120 | delta Az= -000.156\n",
      "[Telescope] delta Alt = -000.120 | delta Az= -000.156\n",
      "[Telescope] delta Alt = -000.120 | delta Az= -000.157\n",
      "[Telescope] delta Alt = -000.123 | delta Az= -000.161\n",
      "[Telescope] delta Alt = -000.120 | delta Az= -000.157\n",
      "[Telescope] delta Alt = -000.120 | delta Az= -000.156\n",
      "[Telescope] delta Alt = -000.120 | delta Az= -000.156\n",
      "[Telescope] delta Alt = -000.120 | delta Az= -000.156\n",
      "[Telescope] delta Alt = -000.120 | delta Az= -000.156\n",
      "[Telescope] delta Alt = -000.120 | delta Az= -000.156\n",
      "[Telescope] delta Alt = -000.120 | delta Az= -000.156\n",
      "[Telescope] delta Alt = -000.120 | delta Az= -000.156\n",
      "[Telescope] delta Alt = -000.120 | delta Az= -000.156\n",
      "[Telescope] delta Alt = -000.123 | delta Az= -000.160\n",
      "[Telescope] delta Alt = -000.120 | delta Az= -000.156\n",
      "[Telescope] delta Alt = -000.120 | delta Az= -000.156\n",
      "Got True\n",
      "Waiting for telescope to settle.\n",
      "[Telescope] delta Alt = -000.120 | delta Az= -000.156\n",
      "[Telescope] delta Alt = -000.120 | delta Az= -000.156\n",
      "Telescope in position.\n",
      "['Telescope in position.']\n"
     ]
    }
   ],
   "source": [
    "await attcs.slew_object(name = \"HD 34816\", pa_ang=0.0, slew_timeout=240.)"
   ]
  },
  {
   "cell_type": "code",
   "execution_count": 97,
   "metadata": {},
   "outputs": [
    {
     "name": "stdout",
     "output_type": "stream",
     "text": [
      "Generating group_id\n",
      "OBJECT 0001 - 0001\n",
      "Waiting for header service LFO before continuing\n"
     ]
    },
    {
     "data": {
      "text/plain": [
       "array([2020022000232])"
      ]
     },
     "execution_count": 97,
     "metadata": {},
     "output_type": "execute_result"
    }
   ],
   "source": [
    "await latiss.take_object(exptime=1, n=1, filter='BG40', grating='empty_1')"
   ]
  },
  {
   "cell_type": "code",
   "execution_count": 100,
   "metadata": {},
   "outputs": [
    {
     "name": "stdout",
     "output_type": "stream",
     "text": [
      "Applying Az/El offset: 0.0/ 100.0 \n",
      "Waiting for telescope to settle.\n",
      "Done\n"
     ]
    }
   ],
   "source": [
    "await attcs.offset_azel(az = 0.0, el =100.0)"
   ]
  },
  {
   "cell_type": "code",
   "execution_count": 101,
   "metadata": {},
   "outputs": [
    {
     "name": "stdout",
     "output_type": "stream",
     "text": [
      "Generating group_id\n",
      "OBJECT 0001 - 0001\n",
      "Waiting for header service LFO before continuing\n",
      "RemoteEvent(ATHeaderService, 0, logMessage) falling behind; read 10 messages\n"
     ]
    },
    {
     "data": {
      "text/plain": [
       "array([2020022000233])"
      ]
     },
     "execution_count": 101,
     "metadata": {},
     "output_type": "execute_result"
    }
   ],
   "source": [
    "await latiss.take_object(exptime=1, n=1, filter='BG40', grating='empty_1')"
   ]
  },
  {
   "cell_type": "code",
   "execution_count": 102,
   "metadata": {},
   "outputs": [
    {
     "name": "stdout",
     "output_type": "stream",
     "text": [
      "Slewing to HD 34816: 05 19 34.5240 -13 10 36.440\n",
      "Parallactic angle: 124.86840342609577 | Sky Angle: 146.02819843919514\n",
      "Sending command\n",
      "Stop tracking.\n",
      "Mount tracking state is 9\n",
      "Tracking state: 10.\n",
      "Tracking state: 8.\n",
      "In Position: True.\n",
      "In Position: False.\n",
      "Scheduling check coroutines\n",
      "process as completed...\n",
      "Got False\n",
      "Telescope not in position\n",
      "atmcs: <State.ENABLED: 2>\n",
      "atptg: <State.ENABLED: 2>\n",
      "ataos: <State.ENABLED: 2>\n",
      "atpneumatics: <State.ENABLED: 2>\n",
      "athexapod: <State.ENABLED: 2>\n",
      "atdometrajectory: <State.ENABLED: 2>\n",
      "[Telescope] delta Alt = -000.138 | delta Az= -000.166\n",
      "[Telescope] delta Alt = -000.121 | delta Az= -000.151\n",
      "[Telescope] delta Alt = -000.121 | delta Az= -000.150\n",
      "Got True\n",
      "Waiting for telescope to settle.\n",
      "[Telescope] delta Alt = -000.121 | delta Az= -000.150\n",
      "[Telescope] delta Alt = -000.121 | delta Az= -000.150\n",
      "Telescope in position.\n",
      "['Telescope in position.']\n",
      "RemoteEvent(ATHeaderService, 0, logMessage) falling behind; read 11 messages\n",
      "RemoteEvent(ATHeaderService, 0, logMessage) falling behind; read 10 messages\n",
      "RemoteEvent(ATHeaderService, 0, logMessage) falling behind; read 13 messages\n",
      "RemoteEvent(ATMCS, 0, target) falling behind; read 51 messages\n",
      "RemoteEvent(ATMCS, 0, target) falling behind; read 79 messages\n",
      "RemoteEvent(ATHeaderService, 0, logMessage) falling behind; read 10 messages\n",
      "RemoteEvent(ATHeaderService, 0, logMessage) falling behind; read 10 messages\n",
      "RemoteEvent(ATHeaderService, 0, logMessage) falling behind; read 11 messages\n",
      "RemoteEvent(ATHeaderService, 0, logMessage) falling behind; read 12 messages\n"
     ]
    }
   ],
   "source": [
    "await attcs.slew_object(name = \"HD 34816\", pa_ang=0.0, slew_timeout=240.)"
   ]
  },
  {
   "cell_type": "code",
   "execution_count": 103,
   "metadata": {},
   "outputs": [
    {
     "name": "stdout",
     "output_type": "stream",
     "text": [
      "Slewing to HD 185975: 20 28 18.7402 -87 28 19.938\n",
      "Parallactic angle: 177.45161695001514 | Sky Angle: 142.7621015679523\n",
      "Sending command\n",
      "Stop tracking.\n",
      "Mount tracking state is 9\n",
      "Tracking state: 10.\n",
      "Tracking state: 8.\n",
      "In Position: True.\n",
      "In Position: False.\n",
      "Scheduling check coroutines\n",
      "process as completed...\n",
      "Got False\n",
      "Telescope not in position\n",
      "atmcs: <State.ENABLED: 2>\n",
      "atptg: <State.ENABLED: 2>\n",
      "ataos: <State.ENABLED: 2>\n",
      "atpneumatics: <State.ENABLED: 2>\n",
      "athexapod: <State.ENABLED: 2>\n",
      "atdometrajectory: <State.ENABLED: 2>\n",
      "[Telescope] delta Alt = -037.410 | delta Az= +057.683\n",
      "[Telescope] delta Alt = -034.655 | delta Az= +054.918\n",
      "[Telescope] delta Alt = -030.654 | delta Az= +050.922\n",
      "[Telescope] delta Alt = -026.659 | delta Az= +046.921\n",
      "[Telescope] delta Alt = -024.676 | delta Az= +044.921\n",
      "[Telescope] delta Alt = -020.761 | delta Az= +040.921\n",
      "[Telescope] delta Alt = -016.979 | delta Az= +036.921\n",
      "[Telescope] delta Alt = -013.413 | delta Az= +032.921\n",
      "[Telescope] delta Alt = -010.152 | delta Az= +028.921\n",
      "[Telescope] delta Alt = -007.268 | delta Az= +024.938\n",
      "[Telescope] delta Alt = -004.841 | delta Az= +021.019\n",
      "[Telescope] delta Alt = -002.921 | delta Az= +017.228\n",
      "[Telescope] delta Alt = -001.512 | delta Az= +013.646\n",
      "[Telescope] delta Alt = -000.616 | delta Az= +010.360\n",
      "[Telescope] delta Alt = -000.155 | delta Az= +007.452\n",
      "[Telescope] delta Alt = -000.009 | delta Az= +004.991\n",
      "[Telescope] delta Alt = -000.000 | delta Az= +003.032\n",
      "[Telescope] delta Alt = -000.000 | delta Az= +001.592\n",
      "[Telescope] delta Alt = -000.000 | delta Az= +001.064\n",
      "[Telescope] delta Alt = -000.000 | delta Az= +000.362\n",
      "[Telescope] delta Alt = -000.001 | delta Az= +000.054\n",
      "[Telescope] delta Alt = -000.001 | delta Az= -000.008\n",
      "[Telescope] delta Alt = -000.001 | delta Az= -000.009\n",
      "Got True\n",
      "Waiting for telescope to settle.\n",
      "[Telescope] delta Alt = -000.001 | delta Az= -000.009\n",
      "Telescope in position.\n",
      "['Telescope in position.']\n"
     ]
    }
   ],
   "source": [
    "await attcs.slew_object(name = \"HD 185975\", pa_ang=0.0, slew_timeout=240.)"
   ]
  },
  {
   "cell_type": "code",
   "execution_count": 105,
   "metadata": {},
   "outputs": [
    {
     "name": "stdout",
     "output_type": "stream",
     "text": [
      "Generating group_id\n",
      "OBJECT 0001 - 0001\n",
      "Waiting for header service LFO before continuing\n"
     ]
    },
    {
     "data": {
      "text/plain": [
       "array([2020022000257])"
      ]
     },
     "execution_count": 105,
     "metadata": {},
     "output_type": "execute_result"
    }
   ],
   "source": [
    "await latiss.take_object(exptime=5., n=1, filter='empty_1',grating='empty_1')"
   ]
  },
  {
   "cell_type": "code",
   "execution_count": null,
   "metadata": {},
   "outputs": [],
   "source": [
    "#Robert's offset"
   ]
  },
  {
   "cell_type": "code",
   "execution_count": null,
   "metadata": {},
   "outputs": [],
   "source": []
  },
  {
   "cell_type": "code",
   "execution_count": 106,
   "metadata": {},
   "outputs": [
    {
     "name": "stdout",
     "output_type": "stream",
     "text": [
      "Generating group_id\n",
      "OBJECT 0001 - 0001\n",
      "Waiting for header service LFO before continuing\n"
     ]
    },
    {
     "data": {
      "text/plain": [
       "array([2020022000258])"
      ]
     },
     "execution_count": 106,
     "metadata": {},
     "output_type": "execute_result"
    }
   ],
   "source": [
    "await latiss.take_object(exptime=5., n=1, filter='empty_1',grating='empty_1')"
   ]
  },
  {
   "cell_type": "code",
   "execution_count": 107,
   "metadata": {},
   "outputs": [
    {
     "data": {
      "text/plain": [
       "<lsst.ts.salobj.ddsutil.ATPtg_ackcmd_2d655b72 at 0x7f9b4b0e90b8>"
      ]
     },
     "execution_count": 107,
     "metadata": {},
     "output_type": "execute_result"
    }
   ],
   "source": [
    "#Add to Tiago's pointing model \n",
    "await attcs.atptg.cmd_pointNewFile.start()"
   ]
  },
  {
   "cell_type": "code",
   "execution_count": 109,
   "metadata": {},
   "outputs": [
    {
     "name": "stdout",
     "output_type": "stream",
     "text": [
      "Generating group_id\n",
      "OBJECT 0001 - 0001\n",
      "Waiting for header service LFO before continuing\n"
     ]
    },
    {
     "data": {
      "text/plain": [
       "array([2020022000259])"
      ]
     },
     "execution_count": 109,
     "metadata": {},
     "output_type": "execute_result"
    }
   ],
   "source": [
    "await latiss.take_object(exptime=20., n=1, filter='empty_1',grating='ronchi90lpmm')"
   ]
  },
  {
   "cell_type": "code",
   "execution_count": 110,
   "metadata": {},
   "outputs": [
    {
     "name": "stdout",
     "output_type": "stream",
     "text": [
      "Generating group_id\n",
      "OBJECT 0001 - 0001\n",
      "Waiting for header service LFO before continuing\n",
      "RemoteEvent(ATHeaderService, 0, logMessage) falling behind; read 11 messages\n"
     ]
    },
    {
     "data": {
      "text/plain": [
       "array([2020022000260])"
      ]
     },
     "execution_count": 110,
     "metadata": {},
     "output_type": "execute_result"
    }
   ],
   "source": [
    "await latiss.take_object(exptime=5., n=1, filter='empty_1',grating='empty_1')"
   ]
  },
  {
   "cell_type": "code",
   "execution_count": 111,
   "metadata": {},
   "outputs": [
    {
     "name": "stdout",
     "output_type": "stream",
     "text": [
      "Generating group_id\n",
      "OBJECT 0001 - 0001\n",
      "Waiting for header service LFO before continuing\n",
      "RemoteEvent(ATHeaderService, 0, logMessage) falling behind; read 10 messages\n"
     ]
    },
    {
     "data": {
      "text/plain": [
       "array([2020022000261])"
      ]
     },
     "execution_count": 111,
     "metadata": {},
     "output_type": "execute_result"
    },
    {
     "name": "stdout",
     "output_type": "stream",
     "text": [
      "RemoteEvent(ATMCS, 0, target) falling behind; read 10 messages\n",
      "RemoteEvent(ATDomeTrajectory, 0, logMessage) falling behind; read 12 messages\n"
     ]
    }
   ],
   "source": [
    "await latiss.take_object(exptime=20., n=1, filter='empty_1',grating='ronchi90lpmm')"
   ]
  },
  {
   "cell_type": "code",
   "execution_count": 112,
   "metadata": {},
   "outputs": [
    {
     "name": "stdout",
     "output_type": "stream",
     "text": [
      "Generating group_id\n",
      "OBJECT 0001 - 0001\n",
      "Waiting for header service LFO before continuing\n"
     ]
    },
    {
     "data": {
      "text/plain": [
       "array([2020022000262])"
      ]
     },
     "execution_count": 112,
     "metadata": {},
     "output_type": "execute_result"
    }
   ],
   "source": [
    "await latiss.take_object(exptime=5., n=1, filter='empty_1',grating='empty_1')"
   ]
  },
  {
   "cell_type": "code",
   "execution_count": 113,
   "metadata": {},
   "outputs": [
    {
     "name": "stdout",
     "output_type": "stream",
     "text": [
      "Applying x/y offset: 20/ 2 \n",
      "Applying Az/El offset: -0.9077846888811527/ -20.079241194792022 \n",
      "Waiting for telescope to settle.\n",
      "Done\n"
     ]
    }
   ],
   "source": [
    "await attcs.offset_xy(x=20, y = 2, persistent = True)"
   ]
  },
  {
   "cell_type": "code",
   "execution_count": 114,
   "metadata": {},
   "outputs": [
    {
     "name": "stdout",
     "output_type": "stream",
     "text": [
      "Generating group_id\n",
      "OBJECT 0001 - 0001\n",
      "RemoteEvent(ATHeaderService, 0, logMessage) falling behind; read 11 messages\n",
      "Waiting for header service LFO before continuing\n"
     ]
    },
    {
     "data": {
      "text/plain": [
       "array([2020022000263])"
      ]
     },
     "execution_count": 114,
     "metadata": {},
     "output_type": "execute_result"
    }
   ],
   "source": [
    "await latiss.take_object(exptime=20., n=1, filter='empty_1',grating='ronchi90lpmm')"
   ]
  },
  {
   "cell_type": "code",
   "execution_count": 115,
   "metadata": {},
   "outputs": [
    {
     "name": "stdout",
     "output_type": "stream",
     "text": [
      "focus_positions = [-0.36 -0.32 -0.28 -0.24 -0.2  -0.16 -0.12 -0.08 -0.04]\n"
     ]
    }
   ],
   "source": [
    "import math \n",
    "#Focus units are given in mm \n",
    "focus_center = -0.2\n",
    "focus_step = 0.04\n",
    "n_steps = 9\n",
    "focus_positions = np.linspace(focus_center - focus_step * math.floor(n_steps / 2), focus_center + focus_step * math.ceil(n_steps / 2 - 1), n_steps)\n",
    "#focus_positions = [0.05, -0.05, -0.100, -0.150, -0.200, -0.250, -0.300, -0.3, -0.2, -0.2, -0.24, -0.26, -0.28]\n",
    "print ('focus_positions = ' + str(focus_positions))"
   ]
  },
  {
   "cell_type": "code",
   "execution_count": 116,
   "metadata": {},
   "outputs": [
    {
     "name": "stdout",
     "output_type": "stream",
     "text": [
      "Working on focus position -0.36\n",
      "Generating group_id\n",
      "ENGTEST 0001 - 0001\n",
      "Waiting for header service LFO before continuing\n",
      "Newest image id is = [2020022000264]\n",
      "Working on focus position -0.32\n",
      "Generating group_id\n",
      "ENGTEST 0001 - 0001\n",
      "Waiting for header service LFO before continuing\n",
      "Newest image id is = [2020022000265]\n",
      "Working on focus position -0.28\n",
      "Generating group_id\n",
      "ENGTEST 0001 - 0001\n",
      "Waiting for header service LFO before continuing\n",
      "Newest image id is = [2020022000266]\n",
      "Working on focus position -0.24\n",
      "Generating group_id\n",
      "ENGTEST 0001 - 0001\n",
      "Waiting for header service LFO before continuing\n",
      "RemoteEvent(ATHeaderService, 0, logMessage) falling behind; read 10 messages\n",
      "Newest image id is = [2020022000267]\n",
      "Working on focus position -0.2\n",
      "Generating group_id\n",
      "ENGTEST 0001 - 0001\n",
      "Waiting for header service LFO before continuing\n",
      "RemoteEvent(ATHeaderService, 0, logMessage) falling behind; read 11 messages\n",
      "Newest image id is = [2020022000268]\n",
      "Working on focus position -0.16000000000000003\n",
      "Generating group_id\n",
      "ENGTEST 0001 - 0001\n",
      "Waiting for header service LFO before continuing\n",
      "Newest image id is = [2020022000269]\n",
      "Working on focus position -0.12000000000000002\n",
      "Generating group_id\n",
      "ENGTEST 0001 - 0001\n",
      "Waiting for header service LFO before continuing\n",
      "RemoteEvent(ATHeaderService, 0, logMessage) falling behind; read 10 messages\n",
      "Newest image id is = [2020022000270]\n",
      "Working on focus position -0.08000000000000002\n",
      "Generating group_id\n",
      "ENGTEST 0001 - 0001\n",
      "Waiting for header service LFO before continuing\n",
      "Newest image id is = [2020022000271]\n",
      "Working on focus position -0.04000000000000001\n",
      "Generating group_id\n",
      "ENGTEST 0001 - 0001\n",
      "Waiting for header service LFO before continuing\n",
      "RemoteEvent(ATHeaderService, 0, logMessage) falling behind; read 10 messages\n",
      "Newest image id is = [2020022000272]\n"
     ]
    },
    {
     "data": {
      "text/plain": [
       "<lsst.ts.salobj.ddsutil.ATAOS_ackcmd_33d5c92b at 0x7f9b6db040b8>"
      ]
     },
     "execution_count": 116,
     "metadata": {},
     "output_type": "execute_result"
    }
   ],
   "source": [
    "#!!!!DO NOT RUN UNLESS YOU HAVE BEEN CLEARED TO CONTROL TELESCOPE!!!!! \n",
    "focus_images = [0 for focus_pos in focus_positions]\n",
    "for i in range(len(focus_positions)): \n",
    "    focus_pos = focus_positions[i] \n",
    "    print ('Working on focus position ' + str(focus_pos))\n",
    "    attcs.athexapod.evt_positionUpdate.flush() \n",
    "    await attcs.ataos.cmd_applyFocusOffset.set_start(offset=focus_pos)\n",
    "    await attcs.athexapod.evt_positionUpdate.next(flush=False, timeout=attcs.long_timeout)\n",
    "    focus_image = await latiss.take_engtest(exptime=20.0, n=1, filter='empty_1', grating='ronchi90lpmm') \n",
    "    print ('Newest image id is = ' +str(focus_image) )\n",
    "    focus_images[i] = int(focus_image)\n",
    "    \n",
    "#This resets the focus position after taking this sequence: \n",
    "await attcs.ataos.cmd_applyFocusOffset.set_start(offset = focus_center)"
   ]
  },
  {
   "cell_type": "code",
   "execution_count": 117,
   "metadata": {},
   "outputs": [
    {
     "data": {
      "text/plain": [
       "<lsst.ts.salobj.ddsutil.ATHexapod_logevent_positionUpdate_68e9852b at 0x7f9b4b1de9e8>"
      ]
     },
     "execution_count": 117,
     "metadata": {},
     "output_type": "execute_result"
    }
   ],
   "source": [
    "best_focus_offset = -0.08\n",
    "attcs.athexapod.evt_positionUpdate.flush() \n",
    "await attcs.ataos.cmd_applyFocusOffset.set_start(offset=best_focus_offset )\n",
    "await attcs.athexapod.evt_positionUpdate.next(flush=False, timeout=attcs.long_timeout)"
   ]
  },
  {
   "cell_type": "code",
   "execution_count": 118,
   "metadata": {},
   "outputs": [
    {
     "name": "stdout",
     "output_type": "stream",
     "text": [
      "Applying x/y offset: -20/ -2 \n",
      "Applying Az/El offset: -0.21402904310715032/ 20.09861168261894 \n",
      "Waiting for telescope to settle.\n",
      "Done\n"
     ]
    }
   ],
   "source": [
    "#Offset for removal of grating\n",
    "await attcs.offset_xy(x=-20, y = -2)"
   ]
  },
  {
   "cell_type": "code",
   "execution_count": 119,
   "metadata": {},
   "outputs": [
    {
     "name": "stdout",
     "output_type": "stream",
     "text": [
      "Generating group_id\n",
      "OBJECT 0001 - 0001\n",
      "Waiting for header service LFO before continuing\n"
     ]
    },
    {
     "data": {
      "text/plain": [
       "array([2020022000273])"
      ]
     },
     "execution_count": 119,
     "metadata": {},
     "output_type": "execute_result"
    }
   ],
   "source": [
    "await latiss.take_object(exptime=20. / 4, n=1, filter='empty_1',grating='empty_1')"
   ]
  },
  {
   "cell_type": "code",
   "execution_count": 120,
   "metadata": {},
   "outputs": [
    {
     "name": "stdout",
     "output_type": "stream",
     "text": [
      "Applying x/y offset: 20/ 2 \n",
      "Applying Az/El offset: 0.32205537661474515/ -20.097170953504712 \n",
      "Waiting for telescope to settle.\n",
      "Done\n"
     ]
    }
   ],
   "source": [
    "#Offset for removal of grating\n",
    "await attcs.offset_xy(x=20, y = 2, )"
   ]
  },
  {
   "cell_type": "code",
   "execution_count": 121,
   "metadata": {},
   "outputs": [
    {
     "name": "stdout",
     "output_type": "stream",
     "text": [
      "Generating group_id\n",
      "OBJECT 0001 - 0001\n",
      "Waiting for header service LFO before continuing\n",
      "RemoteEvent(ATHeaderService, 0, logMessage) falling behind; read 11 messages\n"
     ]
    },
    {
     "data": {
      "text/plain": [
       "array([2020022000274])"
      ]
     },
     "execution_count": 121,
     "metadata": {},
     "output_type": "execute_result"
    }
   ],
   "source": [
    "await latiss.take_object(exptime=20., n=1, filter='empty_1',grating='ronchi90lpmm')"
   ]
  },
  {
   "cell_type": "code",
   "execution_count": 122,
   "metadata": {},
   "outputs": [
    {
     "name": "stdout",
     "output_type": "stream",
     "text": [
      "Applying x/y offset: -20/ 0 \n",
      "Applying Az/El offset: -2.7315748518842735/ 19.812584355115145 \n",
      "Waiting for telescope to settle.\n",
      "Done\n"
     ]
    }
   ],
   "source": [
    "#Offset for removal of grating\n",
    "await attcs.offset_xy(x=-20, y =0, persistent = True)"
   ]
  },
  {
   "cell_type": "code",
   "execution_count": 123,
   "metadata": {},
   "outputs": [
    {
     "name": "stdout",
     "output_type": "stream",
     "text": [
      "Generating group_id\n",
      "OBJECT 0001 - 0001\n",
      "Waiting for header service LFO before continuing\n"
     ]
    },
    {
     "data": {
      "text/plain": [
       "array([2020022000275])"
      ]
     },
     "execution_count": 123,
     "metadata": {},
     "output_type": "execute_result"
    }
   ],
   "source": [
    "await latiss.take_object(exptime=20., n=1, filter='empty_1',grating='ronchi90lpmm')"
   ]
  },
  {
   "cell_type": "code",
   "execution_count": 124,
   "metadata": {},
   "outputs": [
    {
     "name": "stdout",
     "output_type": "stream",
     "text": [
      "Generating group_id\n",
      "OBJECT 0001 - 0010\n",
      "RemoteEvent(ATHeaderService, 0, logMessage) falling behind; read 10 messages\n",
      "Waiting for header service LFO before continuing\n",
      "OBJECT 0002 - 0010\n",
      "Waiting for header service LFO before continuing\n",
      "OBJECT 0003 - 0010\n",
      "Waiting for header service LFO before continuing\n",
      "OBJECT 0004 - 0010\n",
      "Waiting for header service LFO before continuing\n",
      "OBJECT 0005 - 0010\n",
      "Waiting for header service LFO before continuing\n",
      "OBJECT 0006 - 0010\n",
      "Waiting for header service LFO before continuing\n",
      "OBJECT 0007 - 0010\n",
      "Waiting for header service LFO before continuing\n",
      "RemoteEvent(ATHeaderService, 0, logMessage) falling behind; read 13 messages\n",
      "OBJECT 0008 - 0010\n",
      "Waiting for header service LFO before continuing\n",
      "RemoteEvent(ATHeaderService, 0, logMessage) falling behind; read 10 messages\n",
      "OBJECT 0009 - 0010\n",
      "Waiting for header service LFO before continuing\n",
      "RemoteEvent(ATHeaderService, 0, logMessage) falling behind; read 11 messages\n",
      "OBJECT 0010 - 0010\n",
      "Waiting for header service LFO before continuing\n"
     ]
    },
    {
     "data": {
      "text/plain": [
       "array([2020022000276, 2020022000277, 2020022000278, 2020022000279,\n",
       "       2020022000280, 2020022000281, 2020022000282, 2020022000283,\n",
       "       2020022000284, 2020022000285])"
      ]
     },
     "execution_count": 124,
     "metadata": {},
     "output_type": "execute_result"
    }
   ],
   "source": [
    "await latiss.take_object(exptime=20., n=10, filter='empty_1',grating='ronchi90lpmm')"
   ]
  },
  {
   "cell_type": "code",
   "execution_count": 126,
   "metadata": {},
   "outputs": [
    {
     "data": {
      "text/plain": [
       "<lsst.ts.salobj.ddsutil.ATHexapod_logevent_positionUpdate_68e9852b at 0x7f9b6ddd57b8>"
      ]
     },
     "execution_count": 126,
     "metadata": {},
     "output_type": "execute_result"
    }
   ],
   "source": [
    "best_focus_offset = -0.08\n",
    "focus_shift = 0.023\n",
    "attcs.athexapod.evt_positionUpdate.flush() \n",
    "await attcs.ataos.cmd_applyFocusOffset.set_start(offset=best_focus_offset + focus_shift) \n",
    "await attcs.athexapod.evt_positionUpdate.next(flush=False, timeout=attcs.long_timeout)"
   ]
  },
  {
   "cell_type": "code",
   "execution_count": 127,
   "metadata": {},
   "outputs": [
    {
     "name": "stdout",
     "output_type": "stream",
     "text": [
      "Generating group_id\n",
      "OBJECT 0001 - 0001\n",
      "Waiting for header service LFO before continuing\n"
     ]
    },
    {
     "data": {
      "text/plain": [
       "array([2020022000286])"
      ]
     },
     "execution_count": 127,
     "metadata": {},
     "output_type": "execute_result"
    }
   ],
   "source": [
    "await latiss.take_object(exptime=20., n=1, filter='empty_1',grating='ronchi90lpmm')"
   ]
  },
  {
   "cell_type": "code",
   "execution_count": 128,
   "metadata": {},
   "outputs": [
    {
     "name": "stdout",
     "output_type": "stream",
     "text": [
      "Generating group_id\n",
      "OBJECT 0001 - 0001\n",
      "Waiting for header service LFO before continuing\n"
     ]
    },
    {
     "data": {
      "text/plain": [
       "array([2020022000287])"
      ]
     },
     "execution_count": 128,
     "metadata": {},
     "output_type": "execute_result"
    }
   ],
   "source": [
    "await latiss.take_object(exptime=20., n=1, filter='quadnotch1',grating='ronchi90lpmm')"
   ]
  },
  {
   "cell_type": "code",
   "execution_count": 129,
   "metadata": {},
   "outputs": [
    {
     "name": "stdout",
     "output_type": "stream",
     "text": [
      "Slewing to HD 34816: 05 19 34.5240 -13 10 36.440\n",
      "Parallactic angle: 118.06069798775806 | Sky Angle: 101.5473988989828\n",
      "Sending command\n",
      "Stop tracking.\n",
      "Mount tracking state is 9\n",
      "Tracking state: 10.\n",
      "Tracking state: 8.\n",
      "In Position: True.\n",
      "In Position: False.\n",
      "Scheduling check coroutines\n",
      "process as completed...\n",
      "Got False\n",
      "Telescope not in position\n",
      "atmcs: <State.ENABLED: 2>\n",
      "atptg: <State.ENABLED: 2>\n",
      "ataos: <State.ENABLED: 2>\n",
      "atpneumatics: <State.ENABLED: 2>\n",
      "athexapod: <State.ENABLED: 2>\n",
      "atdometrajectory: <State.ENABLED: 2>\n",
      "[Telescope] delta Alt = +009.097 | delta Az= +096.405\n",
      "[Telescope] delta Alt = +008.948 | delta Az= +096.728\n",
      "[Telescope] delta Alt = +006.843 | delta Az= +100.110\n",
      "[Telescope] delta Alt = +004.972 | delta Az= +102.106\n",
      "[Telescope] delta Alt = +001.344 | delta Az= +106.102\n",
      "[Telescope] delta Alt = -000.104 | delta Az= +110.098\n",
      "[Telescope] delta Alt = -000.130 | delta Az= +114.092\n",
      "[Telescope] delta Alt = -000.130 | delta Az= +118.089\n",
      "[Telescope] delta Alt = -000.130 | delta Az= +122.084\n",
      "[Telescope] delta Alt = -000.130 | delta Az= +126.079\n",
      "[Telescope] delta Alt = -000.130 | delta Az= +130.074\n",
      "[Telescope] delta Alt = -000.130 | delta Az= +134.068\n",
      "[Telescope] delta Alt = -000.130 | delta Az= +138.064\n",
      "[Telescope] delta Alt = -000.130 | delta Az= +142.061\n",
      "[Telescope] delta Alt = -000.134 | delta Az= +144.055\n",
      "[Telescope] delta Alt = -000.130 | delta Az= +148.052\n",
      "[Telescope] delta Alt = -000.134 | delta Az= +150.048\n",
      "[Telescope] delta Alt = -000.130 | delta Az= +154.045\n",
      "[Telescope] delta Alt = -000.130 | delta Az= +158.042\n",
      "[Telescope] delta Alt = -000.130 | delta Az= +162.037\n",
      "[Telescope] delta Alt = -000.130 | delta Az= +166.031\n",
      "[Telescope] delta Alt = -000.130 | delta Az= +170.027\n",
      "[Telescope] delta Alt = -000.130 | delta Az= +174.022\n",
      "[Telescope] delta Alt = -000.130 | delta Az= +178.018\n",
      "[Telescope] delta Alt = -000.130 | delta Az= -177.987\n",
      "[Telescope] delta Alt = -000.130 | delta Az= -173.992\n",
      "[Telescope] delta Alt = -000.130 | delta Az= -169.998\n",
      "[Telescope] delta Alt = -000.134 | delta Az= -168.001\n",
      "[Telescope] delta Alt = -000.130 | delta Az= -164.004\n",
      "[Telescope] delta Alt = -000.130 | delta Az= -160.010\n",
      "[Telescope] delta Alt = -000.130 | delta Az= -156.014\n",
      "[Telescope] delta Alt = -000.134 | delta Az= -154.020\n",
      "[Telescope] delta Alt = -000.130 | delta Az= -150.021\n",
      "[Telescope] delta Alt = -000.134 | delta Az= -148.027\n",
      "[Telescope] delta Alt = -000.130 | delta Az= -144.028\n",
      "[Telescope] delta Alt = -000.130 | delta Az= -140.033\n",
      "[Telescope] delta Alt = -000.130 | delta Az= -136.039\n",
      "[Telescope] delta Alt = -000.131 | delta Az= -132.043\n",
      "[Telescope] delta Alt = -000.130 | delta Az= -128.046\n",
      "[Telescope] delta Alt = -000.130 | delta Az= -124.052\n",
      "[Telescope] delta Alt = -000.130 | delta Az= -120.057\n",
      "[Telescope] delta Alt = -000.134 | delta Az= -118.062\n",
      "[Telescope] delta Alt = -000.130 | delta Az= -114.065\n",
      "[Telescope] delta Alt = -000.134 | delta Az= -112.068\n",
      "[Telescope] delta Alt = -000.130 | delta Az= -108.071\n",
      "[Telescope] delta Alt = -000.130 | delta Az= -104.075\n",
      "[Telescope] delta Alt = -000.130 | delta Az= -100.080\n",
      "[Telescope] delta Alt = -000.130 | delta Az= -096.084\n",
      "[Telescope] delta Alt = -000.130 | delta Az= -092.090\n",
      "[Telescope] delta Alt = -000.130 | delta Az= -088.094\n",
      "[Telescope] delta Alt = -000.133 | delta Az= -086.099\n",
      "[Telescope] delta Alt = -000.130 | delta Az= -082.103\n",
      "[Telescope] delta Alt = -000.134 | delta Az= -080.107\n",
      "[Telescope] delta Alt = -000.130 | delta Az= -076.110\n",
      "[Telescope] delta Alt = -000.130 | delta Az= -072.113\n",
      "[Telescope] delta Alt = -000.134 | delta Az= -070.119\n",
      "[Telescope] delta Alt = -000.130 | delta Az= -066.122\n",
      "[Telescope] delta Alt = -000.130 | delta Az= -062.126\n",
      "[Telescope] delta Alt = -000.130 | delta Az= -058.131\n",
      "[Telescope] delta Alt = -000.130 | delta Az= -054.135\n",
      "[Telescope] delta Alt = -000.134 | delta Az= -052.140\n",
      "[Telescope] delta Alt = -000.130 | delta Az= -048.142\n",
      "[Telescope] delta Alt = -000.130 | delta Az= -044.147\n",
      "[Telescope] delta Alt = -000.130 | delta Az= -040.153\n",
      "[Telescope] delta Alt = -000.130 | delta Az= -036.157\n",
      "[Telescope] delta Alt = -000.134 | delta Az= -034.160\n",
      "[Telescope] delta Alt = -000.131 | delta Az= -030.164\n",
      "[Telescope] delta Alt = -000.134 | delta Az= -028.171\n"
     ]
    },
    {
     "ename": "TimeoutError",
     "evalue": "",
     "output_type": "error",
     "traceback": [
      "\u001b[0;31m\u001b[0m",
      "\u001b[0;31mTimeoutError\u001b[0mTraceback (most recent call last)",
      "\u001b[0;32m<ipython-input-129-501dadaebd09>\u001b[0m in \u001b[0;36masync-def-wrapper\u001b[0;34m()\u001b[0m\n",
      "\u001b[0;32m~/repos/ts_standardscripts/python/lsst/ts/standardscripts/auxtel/attcs.py\u001b[0m in \u001b[0;36mslew_object\u001b[0;34m(self, name, rot_sky, pa_ang, rot_pa, slew_timeout, track_id)\u001b[0m\n\u001b[1;32m    187\u001b[0m                              \u001b[0mtarget_name\u001b[0m\u001b[0;34m=\u001b[0m\u001b[0mname\u001b[0m\u001b[0;34m,\u001b[0m\u001b[0;34m\u001b[0m\u001b[0;34m\u001b[0m\u001b[0m\n\u001b[1;32m    188\u001b[0m                              \u001b[0mslew_timeout\u001b[0m\u001b[0;34m=\u001b[0m\u001b[0mslew_timeout\u001b[0m\u001b[0;34m,\u001b[0m\u001b[0;34m\u001b[0m\u001b[0;34m\u001b[0m\u001b[0m\n\u001b[0;32m--> 189\u001b[0;31m                              track_id=track_id)\n\u001b[0m\u001b[1;32m    190\u001b[0m \u001b[0;34m\u001b[0m\u001b[0m\n\u001b[1;32m    191\u001b[0m     async def slew_icrs(self, ra, dec, rot_sky=None, pa_ang=None, rot_pa=0.,\n",
      "\u001b[0;32m~/repos/ts_standardscripts/python/lsst/ts/standardscripts/auxtel/attcs.py\u001b[0m in \u001b[0;36mslew_icrs\u001b[0;34m(self, ra, dec, rot_sky, pa_ang, rot_pa, target_name, slew_timeout, track_id)\u001b[0m\n\u001b[1;32m    267\u001b[0m                         \u001b[0mrot_mode\u001b[0m\u001b[0;34m=\u001b[0m\u001b[0mATPtg\u001b[0m\u001b[0;34m.\u001b[0m\u001b[0mRotMode\u001b[0m\u001b[0;34m.\u001b[0m\u001b[0mFIELD\u001b[0m\u001b[0;34m,\u001b[0m\u001b[0;34m\u001b[0m\u001b[0;34m\u001b[0m\u001b[0m\n\u001b[1;32m    268\u001b[0m                         \u001b[0mslew_timeout\u001b[0m\u001b[0;34m=\u001b[0m\u001b[0mslew_timeout\u001b[0m\u001b[0;34m,\u001b[0m\u001b[0;34m\u001b[0m\u001b[0;34m\u001b[0m\u001b[0m\n\u001b[0;32m--> 269\u001b[0;31m                         track_id=track_id)\n\u001b[0m\u001b[1;32m    270\u001b[0m \u001b[0;34m\u001b[0m\u001b[0m\n\u001b[1;32m    271\u001b[0m     async def slew(self, ra, dec, rotPA=0., target_name=\"slew_icrs\",\n",
      "\u001b[0;32m~/repos/ts_standardscripts/python/lsst/ts/standardscripts/auxtel/attcs.py\u001b[0m in \u001b[0;36mslew\u001b[0;34m(self, ra, dec, rotPA, target_name, target_instance, frame, epoch, equinox, parallax, pmRA, pmDec, rv, dRA, dDec, rot_frame, rot_mode, slew_timeout, track_id)\u001b[0m\n\u001b[1;32m    313\u001b[0m \u001b[0;34m\u001b[0m\u001b[0m\n\u001b[1;32m    314\u001b[0m         await self._slew_to(self.atptg.cmd_raDecTarget,\n\u001b[0;32m--> 315\u001b[0;31m                             slew_timeout=slew_timeout)\n\u001b[0m\u001b[1;32m    316\u001b[0m \u001b[0;34m\u001b[0m\u001b[0m\n\u001b[1;32m    317\u001b[0m     async def slew_to_planet(self, planet,\n",
      "\u001b[0;32m~/repos/ts_standardscripts/python/lsst/ts/standardscripts/auxtel/attcs.py\u001b[0m in \u001b[0;36m_slew_to\u001b[0;34m(self, slew_cmd, slew_timeout)\u001b[0m\n\u001b[1;32m    833\u001b[0m         \u001b[0;32mfor\u001b[0m \u001b[0mres\u001b[0m \u001b[0;32min\u001b[0m \u001b[0masyncio\u001b[0m\u001b[0;34m.\u001b[0m\u001b[0mas_completed\u001b[0m\u001b[0;34m(\u001b[0m\u001b[0mcoro_list\u001b[0m\u001b[0;34m)\u001b[0m\u001b[0;34m:\u001b[0m\u001b[0;34m\u001b[0m\u001b[0;34m\u001b[0m\u001b[0m\n\u001b[1;32m    834\u001b[0m             \u001b[0;32mtry\u001b[0m\u001b[0;34m:\u001b[0m\u001b[0;34m\u001b[0m\u001b[0;34m\u001b[0m\u001b[0m\n\u001b[0;32m--> 835\u001b[0;31m                 \u001b[0mret_val\u001b[0m \u001b[0;34m=\u001b[0m \u001b[0;32mawait\u001b[0m \u001b[0mres\u001b[0m\u001b[0;34m\u001b[0m\u001b[0;34m\u001b[0m\u001b[0m\n\u001b[0m\u001b[1;32m    836\u001b[0m                 \u001b[0mself\u001b[0m\u001b[0;34m.\u001b[0m\u001b[0mlog\u001b[0m\u001b[0;34m.\u001b[0m\u001b[0mdebug\u001b[0m\u001b[0;34m(\u001b[0m\u001b[0mret_val\u001b[0m\u001b[0;34m)\u001b[0m\u001b[0;34m\u001b[0m\u001b[0;34m\u001b[0m\u001b[0m\n\u001b[1;32m    837\u001b[0m             \u001b[0;32mexcept\u001b[0m \u001b[0mRuntimeError\u001b[0m \u001b[0;32mas\u001b[0m \u001b[0mrte\u001b[0m\u001b[0;34m:\u001b[0m\u001b[0;34m\u001b[0m\u001b[0;34m\u001b[0m\u001b[0m\n",
      "\u001b[0;32m/opt/lsst/software/stack/python/miniconda3-4.7.10/envs/lsst-scipipe-4d7b902/lib/python3.7/asyncio/tasks.py\u001b[0m in \u001b[0;36m_wait_for_one\u001b[0;34m()\u001b[0m\n\u001b[1;32m    531\u001b[0m             \u001b[0;31m# Dummy value from _on_timeout().\u001b[0m\u001b[0;34m\u001b[0m\u001b[0;34m\u001b[0m\u001b[0;34m\u001b[0m\u001b[0m\n\u001b[1;32m    532\u001b[0m             \u001b[0;32mraise\u001b[0m \u001b[0mfutures\u001b[0m\u001b[0;34m.\u001b[0m\u001b[0mTimeoutError\u001b[0m\u001b[0;34m\u001b[0m\u001b[0;34m\u001b[0m\u001b[0m\n\u001b[0;32m--> 533\u001b[0;31m         \u001b[0;32mreturn\u001b[0m \u001b[0mf\u001b[0m\u001b[0;34m.\u001b[0m\u001b[0mresult\u001b[0m\u001b[0;34m(\u001b[0m\u001b[0;34m)\u001b[0m  \u001b[0;31m# May raise f.exception().\u001b[0m\u001b[0;34m\u001b[0m\u001b[0;34m\u001b[0m\u001b[0m\n\u001b[0m\u001b[1;32m    534\u001b[0m \u001b[0;34m\u001b[0m\u001b[0m\n\u001b[1;32m    535\u001b[0m     \u001b[0;32mfor\u001b[0m \u001b[0mf\u001b[0m \u001b[0;32min\u001b[0m \u001b[0mtodo\u001b[0m\u001b[0;34m:\u001b[0m\u001b[0;34m\u001b[0m\u001b[0;34m\u001b[0m\u001b[0m\n",
      "\u001b[0;32m~/repos/ts_standardscripts/python/lsst/ts/standardscripts/auxtel/attcs.py\u001b[0m in \u001b[0;36mmonitor_position\u001b[0;34m(self, check_atmcs, check_atdome)\u001b[0m\n\u001b[1;32m   1077\u001b[0m                                                             timeout=self.fast_timeout)\n\u001b[1;32m   1078\u001b[0m                 tel_pos = await self.atmcs.tel_mount_AzEl_Encoders.next(flush=True,\n\u001b[0;32m-> 1079\u001b[0;31m                                                                         timeout=self.fast_timeout)\n\u001b[0m\u001b[1;32m   1080\u001b[0m                 \u001b[0malt_dif\u001b[0m \u001b[0;34m=\u001b[0m \u001b[0msubtract_angles\u001b[0m\u001b[0;34m(\u001b[0m\u001b[0mcomm_pos\u001b[0m\u001b[0;34m.\u001b[0m\u001b[0melevation\u001b[0m\u001b[0;34m,\u001b[0m \u001b[0mtel_pos\u001b[0m\u001b[0;34m.\u001b[0m\u001b[0melevationCalculatedAngle\u001b[0m\u001b[0;34m[\u001b[0m\u001b[0;34m-\u001b[0m\u001b[0;36m1\u001b[0m\u001b[0;34m]\u001b[0m\u001b[0;34m)\u001b[0m\u001b[0;34m\u001b[0m\u001b[0;34m\u001b[0m\u001b[0m\n\u001b[1;32m   1081\u001b[0m                 \u001b[0maz_dif\u001b[0m \u001b[0;34m=\u001b[0m \u001b[0msubtract_angles\u001b[0m\u001b[0;34m(\u001b[0m\u001b[0mcomm_pos\u001b[0m\u001b[0;34m.\u001b[0m\u001b[0mazimuth\u001b[0m\u001b[0;34m,\u001b[0m \u001b[0mtel_pos\u001b[0m\u001b[0;34m.\u001b[0m\u001b[0mazimuthCalculatedAngle\u001b[0m\u001b[0;34m[\u001b[0m\u001b[0;34m-\u001b[0m\u001b[0;36m1\u001b[0m\u001b[0;34m]\u001b[0m\u001b[0;34m)\u001b[0m\u001b[0;34m\u001b[0m\u001b[0;34m\u001b[0m\u001b[0m\n",
      "\u001b[0;32m~/repos/ts_salobj/python/lsst/ts/salobj/topics/read_topic.py\u001b[0m in \u001b[0;36mnext\u001b[0;34m(self, flush, timeout)\u001b[0m\n\u001b[1;32m    382\u001b[0m         \u001b[0;32mif\u001b[0m \u001b[0mflush\u001b[0m\u001b[0;34m:\u001b[0m\u001b[0;34m\u001b[0m\u001b[0;34m\u001b[0m\u001b[0m\n\u001b[1;32m    383\u001b[0m             \u001b[0mself\u001b[0m\u001b[0;34m.\u001b[0m\u001b[0mflush\u001b[0m\u001b[0;34m(\u001b[0m\u001b[0;34m)\u001b[0m\u001b[0;34m\u001b[0m\u001b[0;34m\u001b[0m\u001b[0m\n\u001b[0;32m--> 384\u001b[0;31m         \u001b[0;32mreturn\u001b[0m \u001b[0;32mawait\u001b[0m \u001b[0mself\u001b[0m\u001b[0;34m.\u001b[0m\u001b[0m_next\u001b[0m\u001b[0;34m(\u001b[0m\u001b[0mtimeout\u001b[0m\u001b[0;34m=\u001b[0m\u001b[0mtimeout\u001b[0m\u001b[0;34m)\u001b[0m\u001b[0;34m\u001b[0m\u001b[0;34m\u001b[0m\u001b[0m\n\u001b[0m\u001b[1;32m    385\u001b[0m \u001b[0;34m\u001b[0m\u001b[0m\n\u001b[1;32m    386\u001b[0m     \u001b[0;32masync\u001b[0m \u001b[0;32mdef\u001b[0m \u001b[0m_next\u001b[0m\u001b[0;34m(\u001b[0m\u001b[0mself\u001b[0m\u001b[0;34m,\u001b[0m \u001b[0;34m*\u001b[0m\u001b[0;34m,\u001b[0m \u001b[0mtimeout\u001b[0m\u001b[0;34m=\u001b[0m\u001b[0;32mNone\u001b[0m\u001b[0;34m)\u001b[0m\u001b[0;34m:\u001b[0m\u001b[0;34m\u001b[0m\u001b[0;34m\u001b[0m\u001b[0m\n",
      "\u001b[0;32m~/repos/ts_salobj/python/lsst/ts/salobj/topics/read_topic.py\u001b[0m in \u001b[0;36m_next\u001b[0;34m(self, timeout)\u001b[0m\n\u001b[1;32m    395\u001b[0m         \u001b[0;32mif\u001b[0m \u001b[0mself\u001b[0m\u001b[0;34m.\u001b[0m\u001b[0m_next_task\u001b[0m\u001b[0;34m.\u001b[0m\u001b[0mdone\u001b[0m\u001b[0;34m(\u001b[0m\u001b[0;34m)\u001b[0m\u001b[0;34m:\u001b[0m\u001b[0;34m\u001b[0m\u001b[0;34m\u001b[0m\u001b[0m\n\u001b[1;32m    396\u001b[0m             \u001b[0mself\u001b[0m\u001b[0;34m.\u001b[0m\u001b[0m_next_task\u001b[0m \u001b[0;34m=\u001b[0m \u001b[0masyncio\u001b[0m\u001b[0;34m.\u001b[0m\u001b[0mFuture\u001b[0m\u001b[0;34m(\u001b[0m\u001b[0;34m)\u001b[0m\u001b[0;34m\u001b[0m\u001b[0;34m\u001b[0m\u001b[0m\n\u001b[0;32m--> 397\u001b[0;31m         \u001b[0;32mawait\u001b[0m \u001b[0masyncio\u001b[0m\u001b[0;34m.\u001b[0m\u001b[0mwait_for\u001b[0m\u001b[0;34m(\u001b[0m\u001b[0mself\u001b[0m\u001b[0;34m.\u001b[0m\u001b[0m_next_task\u001b[0m\u001b[0;34m,\u001b[0m \u001b[0mtimeout\u001b[0m\u001b[0;34m=\u001b[0m\u001b[0mtimeout\u001b[0m\u001b[0;34m)\u001b[0m\u001b[0;34m\u001b[0m\u001b[0;34m\u001b[0m\u001b[0m\n\u001b[0m\u001b[1;32m    398\u001b[0m         \u001b[0;32mreturn\u001b[0m \u001b[0mself\u001b[0m\u001b[0;34m.\u001b[0m\u001b[0m_data_queue\u001b[0m\u001b[0;34m.\u001b[0m\u001b[0mpopleft\u001b[0m\u001b[0;34m(\u001b[0m\u001b[0;34m)\u001b[0m\u001b[0;34m\u001b[0m\u001b[0;34m\u001b[0m\u001b[0m\n\u001b[1;32m    399\u001b[0m \u001b[0;34m\u001b[0m\u001b[0m\n",
      "\u001b[0;32m/opt/lsst/software/stack/python/miniconda3-4.7.10/envs/lsst-scipipe-4d7b902/lib/python3.7/asyncio/tasks.py\u001b[0m in \u001b[0;36mwait_for\u001b[0;34m(fut, timeout, loop)\u001b[0m\n\u001b[1;32m    421\u001b[0m             \u001b[0;31m# See https://bugs.python.org/issue32751\u001b[0m\u001b[0;34m\u001b[0m\u001b[0;34m\u001b[0m\u001b[0;34m\u001b[0m\u001b[0m\n\u001b[1;32m    422\u001b[0m             \u001b[0;32mawait\u001b[0m \u001b[0m_cancel_and_wait\u001b[0m\u001b[0;34m(\u001b[0m\u001b[0mfut\u001b[0m\u001b[0;34m,\u001b[0m \u001b[0mloop\u001b[0m\u001b[0;34m=\u001b[0m\u001b[0mloop\u001b[0m\u001b[0;34m)\u001b[0m\u001b[0;34m\u001b[0m\u001b[0;34m\u001b[0m\u001b[0m\n\u001b[0;32m--> 423\u001b[0;31m             \u001b[0;32mraise\u001b[0m \u001b[0mfutures\u001b[0m\u001b[0;34m.\u001b[0m\u001b[0mTimeoutError\u001b[0m\u001b[0;34m(\u001b[0m\u001b[0;34m)\u001b[0m\u001b[0;34m\u001b[0m\u001b[0;34m\u001b[0m\u001b[0m\n\u001b[0m\u001b[1;32m    424\u001b[0m     \u001b[0;32mfinally\u001b[0m\u001b[0;34m:\u001b[0m\u001b[0;34m\u001b[0m\u001b[0;34m\u001b[0m\u001b[0m\n\u001b[1;32m    425\u001b[0m         \u001b[0mtimeout_handle\u001b[0m\u001b[0;34m.\u001b[0m\u001b[0mcancel\u001b[0m\u001b[0;34m(\u001b[0m\u001b[0;34m)\u001b[0m\u001b[0;34m\u001b[0m\u001b[0;34m\u001b[0m\u001b[0m\n",
      "\u001b[0;31mTimeoutError\u001b[0m: "
     ]
    },
    {
     "name": "stdout",
     "output_type": "stream",
     "text": [
      "RemoteEvent(ATMCS, 0, target) falling behind; read 100 messages\n",
      "RemoteEvent(ATDomeTrajectory, 0, logMessage) falling behind; read 15 messages\n"
     ]
    }
   ],
   "source": [
    "await attcs.slew_object(name = \"HD 34816\", pa_ang=0.0, slew_timeout=240.)"
   ]
  },
  {
   "cell_type": "code",
   "execution_count": null,
   "metadata": {},
   "outputs": [],
   "source": []
  },
  {
   "cell_type": "code",
   "execution_count": 130,
   "metadata": {},
   "outputs": [
    {
     "name": "stdout",
     "output_type": "stream",
     "text": [
      "Slewing to HD 34816: 05 19 34.5240 -13 10 36.440\n",
      "Parallactic angle: 117.99393517209704 | Sky Angle: 100.4180006833594\n",
      "Sending command\n",
      "Stop tracking.\n",
      "Mount tracking state is 9\n",
      "atptg not in <State.ENABLED: 2>: <State.FAULT: 3>\n",
      "RemoteEvent(ATMCS, 0, target) falling behind; read 21 messages\n",
      "RemoteEvent(ATDomeTrajectory, 0, logMessage) falling behind; read 11 messages\n",
      "RemoteTelemetry(ATMCS, 0, trajectory) falling behind; read 21 messages\n",
      "RemoteTelemetry(ATMCS, 0, torqueDemand) falling behind; read 21 messages\n",
      "RemoteTelemetry(ATMCS, 0, nasymth_m3_mountMotorEncoders) falling behind; read 21 messages\n",
      "RemoteEvent(ATMCS, 0, heartbeat) falling behind; read 22 messages\n",
      "Tracking state: 10.\n",
      "Tracking state: 8.\n",
      "In Position: False.\n",
      "RemoteTelemetry(ATMCS, 0, mount_Nasmyth_Encoders) falling behind; read 20 messages\n",
      "RemoteTelemetry(ATMCS, 0, mount_AzEl_Encoders) falling behind; read 20 messages\n",
      "RemoteTelemetry(ATMCS, 0, measuredTorque) falling behind; read 20 messages\n",
      "RemoteTelemetry(ATMCS, 0, measuredMotorVelocity) falling behind; read 20 messages\n",
      "RemoteTelemetry(ATMCS, 0, azEl_mountMotorEncoders) falling behind; read 20 messages\n"
     ]
    },
    {
     "ename": "AckError",
     "evalue": "msg='Command failed', ackcmd=(ackcmd private_seqNum=1601170409, ack=<SalRetCode.CMD_FAILED: -302>, error=6612, result='Rejected : command not allowed in current state')",
     "output_type": "error",
     "traceback": [
      "\u001b[0;31m\u001b[0m",
      "\u001b[0;31mAckError\u001b[0mTraceback (most recent call last)",
      "\u001b[0;32m<ipython-input-130-501dadaebd09>\u001b[0m in \u001b[0;36masync-def-wrapper\u001b[0;34m()\u001b[0m\n",
      "\u001b[0;32m~/repos/ts_standardscripts/python/lsst/ts/standardscripts/auxtel/attcs.py\u001b[0m in \u001b[0;36mslew_object\u001b[0;34m(self, name, rot_sky, pa_ang, rot_pa, slew_timeout, track_id)\u001b[0m\n\u001b[1;32m    187\u001b[0m                              \u001b[0mtarget_name\u001b[0m\u001b[0;34m=\u001b[0m\u001b[0mname\u001b[0m\u001b[0;34m,\u001b[0m\u001b[0;34m\u001b[0m\u001b[0;34m\u001b[0m\u001b[0m\n\u001b[1;32m    188\u001b[0m                              \u001b[0mslew_timeout\u001b[0m\u001b[0;34m=\u001b[0m\u001b[0mslew_timeout\u001b[0m\u001b[0;34m,\u001b[0m\u001b[0;34m\u001b[0m\u001b[0;34m\u001b[0m\u001b[0m\n\u001b[0;32m--> 189\u001b[0;31m                              track_id=track_id)\n\u001b[0m\u001b[1;32m    190\u001b[0m \u001b[0;34m\u001b[0m\u001b[0m\n\u001b[1;32m    191\u001b[0m     async def slew_icrs(self, ra, dec, rot_sky=None, pa_ang=None, rot_pa=0.,\n",
      "\u001b[0;32m~/repos/ts_standardscripts/python/lsst/ts/standardscripts/auxtel/attcs.py\u001b[0m in \u001b[0;36mslew_icrs\u001b[0;34m(self, ra, dec, rot_sky, pa_ang, rot_pa, target_name, slew_timeout, track_id)\u001b[0m\n\u001b[1;32m    267\u001b[0m                         \u001b[0mrot_mode\u001b[0m\u001b[0;34m=\u001b[0m\u001b[0mATPtg\u001b[0m\u001b[0;34m.\u001b[0m\u001b[0mRotMode\u001b[0m\u001b[0;34m.\u001b[0m\u001b[0mFIELD\u001b[0m\u001b[0;34m,\u001b[0m\u001b[0;34m\u001b[0m\u001b[0;34m\u001b[0m\u001b[0m\n\u001b[1;32m    268\u001b[0m                         \u001b[0mslew_timeout\u001b[0m\u001b[0;34m=\u001b[0m\u001b[0mslew_timeout\u001b[0m\u001b[0;34m,\u001b[0m\u001b[0;34m\u001b[0m\u001b[0;34m\u001b[0m\u001b[0m\n\u001b[0;32m--> 269\u001b[0;31m                         track_id=track_id)\n\u001b[0m\u001b[1;32m    270\u001b[0m \u001b[0;34m\u001b[0m\u001b[0m\n\u001b[1;32m    271\u001b[0m     async def slew(self, ra, dec, rotPA=0., target_name=\"slew_icrs\",\n",
      "\u001b[0;32m~/repos/ts_standardscripts/python/lsst/ts/standardscripts/auxtel/attcs.py\u001b[0m in \u001b[0;36mslew\u001b[0;34m(self, ra, dec, rotPA, target_name, target_instance, frame, epoch, equinox, parallax, pmRA, pmDec, rv, dRA, dDec, rot_frame, rot_mode, slew_timeout, track_id)\u001b[0m\n\u001b[1;32m    313\u001b[0m \u001b[0;34m\u001b[0m\u001b[0m\n\u001b[1;32m    314\u001b[0m         await self._slew_to(self.atptg.cmd_raDecTarget,\n\u001b[0;32m--> 315\u001b[0;31m                             slew_timeout=slew_timeout)\n\u001b[0m\u001b[1;32m    316\u001b[0m \u001b[0;34m\u001b[0m\u001b[0m\n\u001b[1;32m    317\u001b[0m     async def slew_to_planet(self, planet,\n",
      "\u001b[0;32m~/repos/ts_standardscripts/python/lsst/ts/standardscripts/auxtel/attcs.py\u001b[0m in \u001b[0;36m_slew_to\u001b[0;34m(self, slew_cmd, slew_timeout)\u001b[0m\n\u001b[1;32m    817\u001b[0m             \u001b[0;32mpass\u001b[0m\u001b[0;34m\u001b[0m\u001b[0;34m\u001b[0m\u001b[0m\n\u001b[1;32m    818\u001b[0m \u001b[0;34m\u001b[0m\u001b[0m\n\u001b[0;32m--> 819\u001b[0;31m         \u001b[0mack\u001b[0m \u001b[0;34m=\u001b[0m \u001b[0;32mawait\u001b[0m \u001b[0mslew_cmd\u001b[0m\u001b[0;34m.\u001b[0m\u001b[0mstart\u001b[0m\u001b[0;34m(\u001b[0m\u001b[0mtimeout\u001b[0m\u001b[0;34m=\u001b[0m\u001b[0mslew_timeout\u001b[0m\u001b[0;34m)\u001b[0m\u001b[0;34m\u001b[0m\u001b[0;34m\u001b[0m\u001b[0m\n\u001b[0m\u001b[1;32m    820\u001b[0m         \u001b[0mself\u001b[0m\u001b[0;34m.\u001b[0m\u001b[0mdome_az_in_position\u001b[0m\u001b[0;34m.\u001b[0m\u001b[0mclear\u001b[0m\u001b[0;34m(\u001b[0m\u001b[0;34m)\u001b[0m\u001b[0;34m\u001b[0m\u001b[0;34m\u001b[0m\u001b[0m\n\u001b[1;32m    821\u001b[0m \u001b[0;34m\u001b[0m\u001b[0m\n",
      "\u001b[0;32m~/repos/ts_salobj/python/lsst/ts/salobj/topics/remote_command.py\u001b[0m in \u001b[0;36mstart\u001b[0;34m(self, data, timeout, wait_done)\u001b[0m\n\u001b[1;32m    360\u001b[0m         \u001b[0mcmd_info\u001b[0m \u001b[0;34m=\u001b[0m \u001b[0m_CommandInfo\u001b[0m\u001b[0;34m(\u001b[0m\u001b[0mremote_command\u001b[0m\u001b[0;34m=\u001b[0m\u001b[0mself\u001b[0m\u001b[0;34m,\u001b[0m \u001b[0mseq_num\u001b[0m\u001b[0;34m=\u001b[0m\u001b[0mseq_num\u001b[0m\u001b[0;34m,\u001b[0m \u001b[0mwait_done\u001b[0m\u001b[0;34m=\u001b[0m\u001b[0mwait_done\u001b[0m\u001b[0;34m)\u001b[0m\u001b[0;34m\u001b[0m\u001b[0;34m\u001b[0m\u001b[0m\n\u001b[1;32m    361\u001b[0m         \u001b[0mself\u001b[0m\u001b[0;34m.\u001b[0m\u001b[0msalinfo\u001b[0m\u001b[0;34m.\u001b[0m\u001b[0m_running_cmds\u001b[0m\u001b[0;34m[\u001b[0m\u001b[0mseq_num\u001b[0m\u001b[0;34m]\u001b[0m \u001b[0;34m=\u001b[0m \u001b[0mcmd_info\u001b[0m\u001b[0;34m\u001b[0m\u001b[0;34m\u001b[0m\u001b[0m\n\u001b[0;32m--> 362\u001b[0;31m         \u001b[0;32mreturn\u001b[0m \u001b[0;32mawait\u001b[0m \u001b[0mcmd_info\u001b[0m\u001b[0;34m.\u001b[0m\u001b[0mnext_ackcmd\u001b[0m\u001b[0;34m(\u001b[0m\u001b[0mtimeout\u001b[0m\u001b[0;34m=\u001b[0m\u001b[0mtimeout\u001b[0m\u001b[0;34m)\u001b[0m\u001b[0;34m\u001b[0m\u001b[0;34m\u001b[0m\u001b[0m\n\u001b[0m",
      "\u001b[0;32m~/repos/ts_salobj/python/lsst/ts/salobj/topics/remote_command.py\u001b[0m in \u001b[0;36mnext_ackcmd\u001b[0;34m(self, timeout)\u001b[0m\n\u001b[1;32m    163\u001b[0m             \u001b[0;31m# print(f\"next_ackcmd got {ackcmd.ack} from _basic_next_ack\")\u001b[0m\u001b[0;34m\u001b[0m\u001b[0;34m\u001b[0m\u001b[0;34m\u001b[0m\u001b[0m\n\u001b[1;32m    164\u001b[0m             \u001b[0;32mif\u001b[0m \u001b[0mackcmd\u001b[0m\u001b[0;34m.\u001b[0m\u001b[0mack\u001b[0m \u001b[0;32min\u001b[0m \u001b[0mself\u001b[0m\u001b[0;34m.\u001b[0m\u001b[0mfailed_ack_codes\u001b[0m\u001b[0;34m:\u001b[0m\u001b[0;34m\u001b[0m\u001b[0;34m\u001b[0m\u001b[0m\n\u001b[0;32m--> 165\u001b[0;31m                 \u001b[0;32mraise\u001b[0m \u001b[0mbase\u001b[0m\u001b[0;34m.\u001b[0m\u001b[0mAckError\u001b[0m\u001b[0;34m(\u001b[0m\u001b[0mmsg\u001b[0m\u001b[0;34m=\u001b[0m\u001b[0;34m\"Command failed\"\u001b[0m\u001b[0;34m,\u001b[0m \u001b[0mackcmd\u001b[0m\u001b[0;34m=\u001b[0m\u001b[0mackcmd\u001b[0m\u001b[0;34m)\u001b[0m\u001b[0;34m\u001b[0m\u001b[0;34m\u001b[0m\u001b[0m\n\u001b[0m\u001b[1;32m    166\u001b[0m             \u001b[0;32mreturn\u001b[0m \u001b[0mackcmd\u001b[0m\u001b[0;34m\u001b[0m\u001b[0;34m\u001b[0m\u001b[0m\n\u001b[1;32m    167\u001b[0m         \u001b[0;32mexcept\u001b[0m \u001b[0masyncio\u001b[0m\u001b[0;34m.\u001b[0m\u001b[0mTimeoutError\u001b[0m\u001b[0;34m:\u001b[0m\u001b[0;34m\u001b[0m\u001b[0;34m\u001b[0m\u001b[0m\n",
      "\u001b[0;31mAckError\u001b[0m: msg='Command failed', ackcmd=(ackcmd private_seqNum=1601170409, ack=<SalRetCode.CMD_FAILED: -302>, error=6612, result='Rejected : command not allowed in current state')"
     ]
    }
   ],
   "source": [
    "await attcs.slew_object(name = \"HD 34816\", pa_ang=0.0, slew_timeout=240.)"
   ]
  },
  {
   "cell_type": "code",
   "execution_count": 132,
   "metadata": {},
   "outputs": [
    {
     "name": "stdout",
     "output_type": "stream",
     "text": [
      "Gathering settings.\n",
      "No settings for atmcs.\n",
      "Using                                                                                                                                 from settingVersions event.\n",
      "No settings for atptg.\n",
      "Couldn't get settingVersions event. Using empty settings.\n",
      "No settings for ataos.\n",
      "Using current from settingVersions event.\n",
      "No settings for atpneumatics.\n",
      "Using                                                                                                                                 from settingVersions event.\n",
      "No settings for athexapod.\n",
      "Using current from settingVersions event.\n",
      "No settings for atdome.\n",
      "Using test from settingVersions event.\n",
      "No settings for atdometrajectory.\n",
      "Using  from settingVersions event.\n",
      "Settings versions: {'atmcs': '                                                                                                                               ', 'atptg': '', 'ataos': 'current', 'atpneumatics': '                                                                                                                               ', 'athexapod': 'current', 'atdome': 'test', 'atdometrajectory': ''}\n",
      "Enabling all components\n",
      "Enabling  atmcs\n",
      "Enabling  atptg\n",
      "Enabling  ataos\n",
      "Enabling  atpneumatics\n",
      "Enabling  athexapod\n",
      "Enabling  atdometrajectory\n",
      "[atmcs]::[<State.ENABLED: 2>]\n",
      "[atptg]::[<State.FAULT: 3>, <State.STANDBY: 5>, <State.DISABLED: 1>, <State.ENABLED: 2>]\n",
      "[ataos]::[<State.ENABLED: 2>]\n",
      "[atpneumatics]::[<State.ENABLED: 2>]\n",
      "[athexapod]::[<State.ENABLED: 2>]\n",
      "[atdome]::<State.ENABLED: 2>\n",
      "[atdometrajectory]::[<State.ENABLED: 2>]\n",
      "All components enabled.\n"
     ]
    }
   ],
   "source": [
    "await attcs.enable() "
   ]
  },
  {
   "cell_type": "code",
   "execution_count": 133,
   "metadata": {},
   "outputs": [
    {
     "data": {
      "text/plain": [
       "<lsst.ts.salobj.ddsutil.ATPtg_ackcmd_2d655b72 at 0x7f9b5284b7b8>"
      ]
     },
     "execution_count": 133,
     "metadata": {},
     "output_type": "execute_result"
    }
   ],
   "source": [
    "await attcs.atptg.cmd_focusName.set_start(focus=3)"
   ]
  },
  {
   "cell_type": "code",
   "execution_count": 134,
   "metadata": {},
   "outputs": [
    {
     "name": "stdout",
     "output_type": "stream",
     "text": [
      "Slewing to HD 34816: 05 19 34.5240 -13 10 36.440\n",
      "Parallactic angle: 117.84311889598054 | Sky Angle: 97.54511171472234\n",
      "Sending command\n",
      "Stop tracking.\n",
      "Mount tracking state is 8\n",
      "In Position: False.\n",
      "Scheduling check coroutines\n",
      "process as completed...\n",
      "Got False\n",
      "Telescope not in position\n",
      "atmcs: <State.ENABLED: 2>\n",
      "atptg: <State.ENABLED: 2>\n",
      "ataos: <State.ENABLED: 2>\n",
      "atpneumatics: <State.ENABLED: 2>\n",
      "athexapod: <State.ENABLED: 2>\n",
      "atdometrajectory: <State.ENABLED: 2>\n",
      "[Telescope] delta Alt = -001.534 | delta Az= -000.967\n",
      "[Telescope] delta Alt = -000.352 | delta Az= -000.118\n",
      "[Telescope] delta Alt = -000.131 | delta Az= -000.085\n",
      "[Telescope] delta Alt = -000.131 | delta Az= -000.084\n",
      "Got True\n",
      "Waiting for telescope to settle.\n",
      "[Telescope] delta Alt = -000.131 | delta Az= -000.084\n",
      "Telescope in position.\n",
      "['Telescope in position.']\n",
      "Task exception was never retrieved\n",
      "future: <Task finished coro=<BaseGroup.check_component_state() done, defined at /home/saluser/repos/ts_standardscripts/python/lsst/ts/standardscripts/base_group.py:60> exception=RuntimeError('atptg state is <State.FAULT: 3>, expected <State.ENABLED: 2>')>\n",
      "Traceback (most recent call last):\n",
      "  File \"/home/saluser/repos/ts_standardscripts/python/lsst/ts/standardscripts/base_group.py\", line 98, in check_component_state\n",
      "    raise RuntimeError(f\"{comp} state is {state!r}, \"\n",
      "RuntimeError: atptg state is <State.FAULT: 3>, expected <State.ENABLED: 2>\n",
      "Task exception was never retrieved\n",
      "future: <Task finished coro=<ATTCS.wait_for_inposition() done, defined at /home/saluser/repos/ts_standardscripts/python/lsst/ts/standardscripts/auxtel/attcs.py:905> exception=TimeoutError()>\n",
      "Traceback (most recent call last):\n",
      "  File \"/home/saluser/repos/ts_standardscripts/python/lsst/ts/standardscripts/auxtel/attcs.py\", line 921, in wait_for_inposition\n",
      "    status.append(await self.wait_for_atmcs_inposition(timeout, cmd_ack))\n",
      "  File \"/home/saluser/repos/ts_standardscripts/python/lsst/ts/standardscripts/auxtel/attcs.py\", line 956, in wait_for_atmcs_inposition\n",
      "    timeout=timeout)\n",
      "  File \"/home/saluser/repos/ts_salobj/python/lsst/ts/salobj/topics/read_topic.py\", line 384, in next\n",
      "    return await self._next(timeout=timeout)\n",
      "  File \"/home/saluser/repos/ts_salobj/python/lsst/ts/salobj/topics/read_topic.py\", line 397, in _next\n",
      "    await asyncio.wait_for(self._next_task, timeout=timeout)\n",
      "  File \"/opt/lsst/software/stack/python/miniconda3-4.7.10/envs/lsst-scipipe-4d7b902/lib/python3.7/asyncio/tasks.py\", line 423, in wait_for\n",
      "    raise futures.TimeoutError()\n",
      "concurrent.futures._base.TimeoutError\n",
      "RemoteEvent(ATMCS, 0, target) falling behind; read 79 messages\n",
      "RemoteEvent(ATDomeTrajectory, 0, logMessage) falling behind; read 11 messages\n",
      "RemoteEvent(ATDomeTrajectory, 0, logMessage) falling behind; read 11 messages\n"
     ]
    }
   ],
   "source": [
    "await attcs.slew_object(name = \"HD 34816\", pa_ang=0.0, slew_timeout=240.)"
   ]
  },
  {
   "cell_type": "code",
   "execution_count": 135,
   "metadata": {},
   "outputs": [
    {
     "name": "stdout",
     "output_type": "stream",
     "text": [
      "Generating group_id\n",
      "OBJECT 0001 - 0001\n",
      "RemoteEvent(ATDomeTrajectory, 0, logMessage) falling behind; read 39 messages\n",
      "RemoteEvent(ATDomeTrajectory, 0, heartbeat) falling behind; read 13 messages\n",
      "Waiting for header service LFO before continuing\n",
      "RemoteEvent(ATHeaderService, 0, logMessage) falling behind; read 10 messages\n"
     ]
    },
    {
     "data": {
      "text/plain": [
       "array([2020022000288])"
      ]
     },
     "execution_count": 135,
     "metadata": {},
     "output_type": "execute_result"
    }
   ],
   "source": [
    "await latiss.take_object(exptime=1., n=1, filter='empty_1',grating='empty_1')"
   ]
  },
  {
   "cell_type": "code",
   "execution_count": 136,
   "metadata": {},
   "outputs": [
    {
     "name": "stdout",
     "output_type": "stream",
     "text": [
      "Generating group_id\n",
      "OBJECT 0001 - 0001\n",
      "Waiting for header service LFO before continuing\n"
     ]
    },
    {
     "data": {
      "text/plain": [
       "array([2020022000289])"
      ]
     },
     "execution_count": 136,
     "metadata": {},
     "output_type": "execute_result"
    }
   ],
   "source": [
    "await latiss.take_object(exptime=1., n=1, filter='empty_1',grating='empty_1')"
   ]
  },
  {
   "cell_type": "code",
   "execution_count": 137,
   "metadata": {},
   "outputs": [
    {
     "data": {
      "text/plain": [
       "<lsst.ts.salobj.ddsutil.ATPtg_ackcmd_2d655b72 at 0x7f9b50530a58>"
      ]
     },
     "execution_count": 137,
     "metadata": {},
     "output_type": "execute_result"
    }
   ],
   "source": [
    "await attcs.atptg.cmd_pointNewFile.start()"
   ]
  },
  {
   "cell_type": "code",
   "execution_count": 138,
   "metadata": {},
   "outputs": [
    {
     "name": "stdout",
     "output_type": "stream",
     "text": [
      "Generating group_id\n",
      "OBJECT 0001 - 0001\n",
      "Waiting for header service LFO before continuing\n"
     ]
    },
    {
     "data": {
      "text/plain": [
       "array([2020022000290])"
      ]
     },
     "execution_count": 138,
     "metadata": {},
     "output_type": "execute_result"
    }
   ],
   "source": [
    "await latiss.take_object(exptime=1., n=1, filter='empty_1',grating='empty_1')"
   ]
  },
  {
   "cell_type": "code",
   "execution_count": 139,
   "metadata": {},
   "outputs": [
    {
     "data": {
      "text/plain": [
       "<lsst.ts.salobj.ddsutil.ATPtg_ackcmd_2d655b72 at 0x7f9b4d89afd0>"
      ]
     },
     "execution_count": 139,
     "metadata": {},
     "output_type": "execute_result"
    }
   ],
   "source": [
    "await attcs.atptg.cmd_pointNewFile.start()"
   ]
  },
  {
   "cell_type": "code",
   "execution_count": 140,
   "metadata": {},
   "outputs": [
    {
     "name": "stdout",
     "output_type": "stream",
     "text": [
      "Applying Az/El offset: 0.0/ 30.0 \n",
      "Waiting for telescope to settle.\n",
      "Done\n"
     ]
    }
   ],
   "source": [
    "await attcs.offset_azel(az = 0.0, el = 30.0 )"
   ]
  },
  {
   "cell_type": "code",
   "execution_count": 141,
   "metadata": {},
   "outputs": [
    {
     "name": "stdout",
     "output_type": "stream",
     "text": [
      "Generating group_id\n",
      "OBJECT 0001 - 0001\n",
      "Waiting for header service LFO before continuing\n"
     ]
    },
    {
     "data": {
      "text/plain": [
       "array([2020022000291])"
      ]
     },
     "execution_count": 141,
     "metadata": {},
     "output_type": "execute_result"
    },
    {
     "name": "stdout",
     "output_type": "stream",
     "text": [
      "RemoteEvent(ATMCS, 0, target) falling behind; read 100 messages\n",
      "RemoteEvent(ATDomeTrajectory, 0, logMessage) falling behind; read 11 messages\n"
     ]
    }
   ],
   "source": [
    "await latiss.take_object(exptime=1., n=1, filter='empty_1',grating='empty_1')"
   ]
  },
  {
   "cell_type": "code",
   "execution_count": 142,
   "metadata": {},
   "outputs": [
    {
     "name": "stdout",
     "output_type": "stream",
     "text": [
      "Generating group_id\n",
      "OBJECT 0001 - 0001\n",
      "RemoteEvent(ATHeaderService, 0, logMessage) falling behind; read 10 messages\n",
      "Waiting for header service LFO before continuing\n",
      "RemoteEvent(ATMCS, 0, target) falling behind; read 14 messages\n",
      "RemoteEvent(ATDomeTrajectory, 0, logMessage) falling behind; read 12 messages\n"
     ]
    },
    {
     "data": {
      "text/plain": [
       "array([2020022000292])"
      ]
     },
     "execution_count": 142,
     "metadata": {},
     "output_type": "execute_result"
    },
    {
     "name": "stdout",
     "output_type": "stream",
     "text": [
      "RemoteEvent(ATMCS, 0, target) falling behind; read 23 messages\n"
     ]
    }
   ],
   "source": [
    "await latiss.take_object(exptime=1., n=1, filter='empty_1',grating='ronchi90lpmm')"
   ]
  },
  {
   "cell_type": "code",
   "execution_count": null,
   "metadata": {},
   "outputs": [],
   "source": [
    "#Robert's shifts "
   ]
  },
  {
   "cell_type": "code",
   "execution_count": 143,
   "metadata": {},
   "outputs": [
    {
     "name": "stdout",
     "output_type": "stream",
     "text": [
      "focus_positions = [-0.36 -0.32 -0.28 -0.24 -0.2  -0.16 -0.12 -0.08 -0.04]\n"
     ]
    }
   ],
   "source": [
    "import math \n",
    "#Focus units are given in mm \n",
    "focus_center = -0.2\n",
    "focus_step = 0.04\n",
    "n_steps = 9\n",
    "focus_positions = np.linspace(focus_center - focus_step * math.floor(n_steps / 2), focus_center + focus_step * math.ceil(n_steps / 2 - 1), n_steps)\n",
    "#focus_positions = [0.05, -0.05, -0.100, -0.150, -0.200, -0.250, -0.300, -0.3, -0.2, -0.2, -0.24, -0.26, -0.28]\n",
    "print ('focus_positions = ' + str(focus_positions))"
   ]
  },
  {
   "cell_type": "code",
   "execution_count": 144,
   "metadata": {},
   "outputs": [
    {
     "data": {
      "text/plain": [
       "<lsst.ts.salobj.ddsutil.ATHexapod_logevent_positionUpdate_68e9852b at 0x7f9b6dd41cc0>"
      ]
     },
     "execution_count": 144,
     "metadata": {},
     "output_type": "execute_result"
    }
   ],
   "source": [
    "best_focus_offset = -0.08\n",
    "focus_shift = 0.0\n",
    "attcs.athexapod.evt_positionUpdate.flush() \n",
    "await attcs.ataos.cmd_applyFocusOffset.set_start(offset=best_focus_offset + focus_shift) \n",
    "await attcs.athexapod.evt_positionUpdate.next(flush=False, timeout=attcs.long_timeout)"
   ]
  },
  {
   "cell_type": "code",
   "execution_count": 145,
   "metadata": {},
   "outputs": [
    {
     "name": "stdout",
     "output_type": "stream",
     "text": [
      "Generating group_id\n",
      "OBJECT 0001 - 0001\n",
      "Waiting for header service LFO before continuing\n"
     ]
    },
    {
     "data": {
      "text/plain": [
       "array([2020022000293])"
      ]
     },
     "execution_count": 145,
     "metadata": {},
     "output_type": "execute_result"
    },
    {
     "name": "stdout",
     "output_type": "stream",
     "text": [
      "RemoteEvent(ATMCS, 0, target) falling behind; read 100 messages\n",
      "RemoteEvent(ATDomeTrajectory, 0, logMessage) falling behind; read 41 messages\n",
      "RemoteEvent(ATMCS, 0, target) falling behind; read 23 messages\n",
      "RemoteEvent(ATDomeTrajectory, 0, logMessage) falling behind; read 25 messages\n"
     ]
    }
   ],
   "source": [
    "await latiss.take_object(exptime=10., n=1, filter='empty_1',grating='ronchi90lpmm')"
   ]
  },
  {
   "cell_type": "code",
   "execution_count": null,
   "metadata": {},
   "outputs": [],
   "source": [
    "#!!!!DO NOT RUN UNLESS YOU HAVE BEEN CLEARED TO CONTROL TELESCOPE!!!!! \n",
    "focus_images = [0 for focus_pos in focus_positions]\n",
    "for i in range(len(focus_positions)): \n",
    "    focus_pos = focus_positions[i] \n",
    "    print ('Working on focus position ' + str(focus_pos))\n",
    "    attcs.athexapod.evt_positionUpdate.flush() \n",
    "    await attcs.ataos.cmd_applyFocusOffset.set_start(offset=focus_pos)\n",
    "    await attcs.athexapod.evt_positionUpdate.next(flush=False, timeout=attcs.long_timeout)\n",
    "    focus_image = await latiss.take_engtest(exptime=5.0, n=1, filter='empty_1', grating='ronchi90lpmm') \n",
    "    print ('Newest image id is = ' +str(focus_image) )\n",
    "    focus_images[i] = int(focus_image)\n",
    "    \n",
    "#This resets the focus position after taking this sequence: \n",
    "await attcs.ataos.cmd_applyFocusOffset.set_start(offset = focus_center)"
   ]
  },
  {
   "cell_type": "code",
   "execution_count": 147,
   "metadata": {},
   "outputs": [
    {
     "data": {
      "text/plain": [
       "<lsst.ts.salobj.ddsutil.ATHexapod_logevent_positionUpdate_68e9852b at 0x7f9b4d922128>"
      ]
     },
     "execution_count": 147,
     "metadata": {},
     "output_type": "execute_result"
    }
   ],
   "source": [
    "#Change focus to best fit \n",
    "best_focus_fit = -0.09\n",
    "attcs.athexapod.evt_positionUpdate.flush() \n",
    "await attcs.ataos.cmd_applyFocusOffset.set_start(offset=best_focus_fit)\n",
    "await attcs.athexapod.evt_positionUpdate.next(flush=False, timeout=attcs.long_timeout)"
   ]
  },
  {
   "cell_type": "code",
   "execution_count": 148,
   "metadata": {},
   "outputs": [
    {
     "name": "stdout",
     "output_type": "stream",
     "text": [
      "Generating group_id\n",
      "OBJECT 0001 - 0001\n",
      "Waiting for header service LFO before continuing\n",
      "RemoteEvent(ATHeaderService, 0, logMessage) falling behind; read 10 messages\n"
     ]
    },
    {
     "data": {
      "text/plain": [
       "array([2020022000303])"
      ]
     },
     "execution_count": 148,
     "metadata": {},
     "output_type": "execute_result"
    }
   ],
   "source": [
    "await latiss.take_object(exptime=10., n=1, filter='RG610',grating='ronchi90lpmm')"
   ]
  },
  {
   "cell_type": "code",
   "execution_count": 149,
   "metadata": {},
   "outputs": [
    {
     "name": "stdout",
     "output_type": "stream",
     "text": [
      "Generating group_id\n",
      "OBJECT 0001 - 0001\n",
      "Waiting for header service LFO before continuing\n"
     ]
    },
    {
     "data": {
      "text/plain": [
       "array([2020022000304])"
      ]
     },
     "execution_count": 149,
     "metadata": {},
     "output_type": "execute_result"
    }
   ],
   "source": [
    "await latiss.take_object(exptime=100., n=1, filter='empty_1',grating='ronchi90lpmm')"
   ]
  },
  {
   "cell_type": "code",
   "execution_count": 150,
   "metadata": {},
   "outputs": [
    {
     "data": {
      "text/plain": [
       "<lsst.ts.salobj.ddsutil.ATHexapod_logevent_positionUpdate_68e9852b at 0x7f9b4d922860>"
      ]
     },
     "execution_count": 150,
     "metadata": {},
     "output_type": "execute_result"
    },
    {
     "name": "stdout",
     "output_type": "stream",
     "text": [
      "RemoteEvent(ATMCS, 0, target) falling behind; read 100 messages\n",
      "RemoteEvent(ATDomeTrajectory, 0, logMessage) falling behind; read 12 messages\n"
     ]
    }
   ],
   "source": [
    "#Change focus to best fit \n",
    "best_focus_fit = -0.09\n",
    "focus_adjust = 0.023\n",
    "attcs.athexapod.evt_positionUpdate.flush() \n",
    "await attcs.ataos.cmd_applyFocusOffset.set_start(offset=best_focus_fit + focus_adjust )\n",
    "await attcs.athexapod.evt_positionUpdate.next(flush=False, timeout=attcs.long_timeout)"
   ]
  },
  {
   "cell_type": "code",
   "execution_count": 151,
   "metadata": {},
   "outputs": [
    {
     "name": "stdout",
     "output_type": "stream",
     "text": [
      "Generating group_id\n",
      "OBJECT 0001 - 0001\n",
      "Waiting for header service LFO before continuing\n",
      "RemoteEvent(ATHeaderService, 0, logMessage) falling behind; read 11 messages\n"
     ]
    },
    {
     "data": {
      "text/plain": [
       "array([2020022000305])"
      ]
     },
     "execution_count": 151,
     "metadata": {},
     "output_type": "execute_result"
    }
   ],
   "source": [
    "await latiss.take_object(exptime=10., n=1, filter='quadnotch1',grating='ronchi90lpmm')"
   ]
  },
  {
   "cell_type": "code",
   "execution_count": 152,
   "metadata": {},
   "outputs": [
    {
     "name": "stdout",
     "output_type": "stream",
     "text": [
      "Generating group_id\n",
      "OBJECT 0001 - 0001\n",
      "Waiting for header service LFO before continuing\n"
     ]
    },
    {
     "data": {
      "text/plain": [
       "array([2020022000306])"
      ]
     },
     "execution_count": 152,
     "metadata": {},
     "output_type": "execute_result"
    }
   ],
   "source": [
    "await latiss.take_object(exptime=30., n=1, filter='BG40',grating='ronchi90lpmm')"
   ]
  },
  {
   "cell_type": "code",
   "execution_count": 153,
   "metadata": {},
   "outputs": [
    {
     "name": "stdout",
     "output_type": "stream",
     "text": [
      "Generating group_id\n",
      "OBJECT 0001 - 0001\n",
      "Waiting for header service LFO before continuing\n"
     ]
    },
    {
     "data": {
      "text/plain": [
       "array([2020022000307])"
      ]
     },
     "execution_count": 153,
     "metadata": {},
     "output_type": "execute_result"
    }
   ],
   "source": [
    "await latiss.take_object(exptime=60., n=1, filter='BG40',grating='ronchi90lpmm')"
   ]
  },
  {
   "cell_type": "code",
   "execution_count": 154,
   "metadata": {},
   "outputs": [
    {
     "data": {
      "text/plain": [
       "<lsst.ts.salobj.ddsutil.ATHexapod_logevent_positionUpdate_68e9852b at 0x7f9b4b149748>"
      ]
     },
     "execution_count": 154,
     "metadata": {},
     "output_type": "execute_result"
    }
   ],
   "source": [
    "#Taking out the filter, so change the glass back. \n",
    "best_focus_fit = -0.09\n",
    "attcs.athexapod.evt_positionUpdate.flush() \n",
    "await attcs.ataos.cmd_applyFocusOffset.set_start(offset=best_focus_fit + focus_adjust )\n",
    "await attcs.athexapod.evt_positionUpdate.next(flush=False, timeout=attcs.long_timeout)"
   ]
  },
  {
   "cell_type": "code",
   "execution_count": 155,
   "metadata": {},
   "outputs": [
    {
     "name": "stdout",
     "output_type": "stream",
     "text": [
      "Generating group_id\n",
      "OBJECT 0001 - 0001\n",
      "Waiting for header service LFO before continuing\n",
      "RemoteEvent(ATHeaderService, 0, logMessage) falling behind; read 16 messages\n"
     ]
    },
    {
     "data": {
      "text/plain": [
       "array([2020022000308])"
      ]
     },
     "execution_count": 155,
     "metadata": {},
     "output_type": "execute_result"
    }
   ],
   "source": [
    "await latiss.take_object(exptime=50., n=1, filter='empty_1',grating='ronchi90lpmm')"
   ]
  },
  {
   "cell_type": "code",
   "execution_count": 158,
   "metadata": {},
   "outputs": [
    {
     "name": "stdout",
     "output_type": "stream",
     "text": [
      "Slewing to HD 185975: 20 28 18.7402 -87 28 19.938\n",
      "Parallactic angle: -163.36218415552506 | Sky Angle: -197.89679005538912\n",
      "Sending command\n",
      "Stop tracking.\n",
      "Mount tracking state is 9\n",
      "Tracking state: 10.\n",
      "Tracking state: 8.\n",
      "In Position: True.\n",
      "In Position: False.\n",
      "Scheduling check coroutines\n",
      "process as completed...\n",
      "Got False\n",
      "Telescope not in position\n",
      "atmcs: <State.ENABLED: 2>\n",
      "atptg: <State.ENABLED: 2>\n",
      "ataos: <State.ENABLED: 2>\n",
      "atpneumatics: <State.ENABLED: 2>\n",
      "athexapod: <State.ENABLED: 2>\n",
      "atdometrajectory: <State.ENABLED: 2>\n",
      "[Telescope] delta Alt = -001.210 | delta Az= -092.128\n",
      "[Telescope] delta Alt = -000.056 | delta Az= -095.036\n",
      "[Telescope] delta Alt = +000.002 | delta Az= -099.033\n",
      "[Telescope] delta Alt = +000.002 | delta Az= -103.035\n",
      "[Telescope] delta Alt = +000.002 | delta Az= -107.034\n",
      "[Telescope] delta Alt = +000.002 | delta Az= -111.034\n",
      "[Telescope] delta Alt = +000.002 | delta Az= -115.035\n",
      "[Telescope] delta Alt = +000.002 | delta Az= -119.036\n",
      "[Telescope] delta Alt = +000.002 | delta Az= -123.036\n",
      "[Telescope] delta Alt = +000.002 | delta Az= -127.036\n",
      "[Telescope] delta Alt = +000.002 | delta Az= -131.036\n",
      "[Telescope] delta Alt = +000.002 | delta Az= -135.037\n",
      "[Telescope] delta Alt = +000.002 | delta Az= -139.038\n",
      "[Telescope] delta Alt = +000.002 | delta Az= -143.038\n",
      "[Telescope] delta Alt = +000.002 | delta Az= -147.039\n",
      "[Telescope] delta Alt = +000.002 | delta Az= -151.038\n",
      "[Telescope] delta Alt = +000.002 | delta Az= -155.039\n",
      "[Telescope] delta Alt = +000.002 | delta Az= -159.041\n",
      "[Telescope] delta Alt = +000.002 | delta Az= -163.040\n",
      "[Telescope] delta Alt = +000.002 | delta Az= -167.040\n",
      "[Telescope] delta Alt = +000.002 | delta Az= -171.041\n",
      "[Telescope] delta Alt = +000.002 | delta Az= -175.042\n",
      "[Telescope] delta Alt = +000.002 | delta Az= -179.042\n",
      "[Telescope] delta Alt = +000.002 | delta Az= +176.958\n",
      "[Telescope] delta Alt = +000.002 | delta Az= +172.958\n",
      "[Telescope] delta Alt = +000.002 | delta Az= +168.957\n",
      "[Telescope] delta Alt = +000.002 | delta Az= +164.957\n",
      "[Telescope] delta Alt = +000.002 | delta Az= +160.956\n",
      "[Telescope] delta Alt = +000.002 | delta Az= +156.956\n",
      "[Telescope] delta Alt = +000.002 | delta Az= +152.956\n",
      "[Telescope] delta Alt = +000.002 | delta Az= +148.955\n",
      "[Telescope] delta Alt = +000.002 | delta Az= +144.954\n",
      "[Telescope] delta Alt = +000.002 | delta Az= +140.954\n",
      "[Telescope] delta Alt = +000.002 | delta Az= +136.955\n",
      "[Telescope] delta Alt = +000.002 | delta Az= +132.953\n",
      "[Telescope] delta Alt = +000.002 | delta Az= +128.953\n",
      "[Telescope] delta Alt = +000.002 | delta Az= +124.953\n",
      "[Telescope] delta Alt = +000.002 | delta Az= +120.952\n",
      "[Telescope] delta Alt = +000.002 | delta Az= +116.952\n",
      "[Telescope] delta Alt = +000.002 | delta Az= +112.951\n",
      "[Telescope] delta Alt = +000.002 | delta Az= +110.950\n",
      "[Telescope] delta Alt = +000.002 | delta Az= +106.950\n",
      "[Telescope] delta Alt = +000.002 | delta Az= +102.950\n",
      "[Telescope] delta Alt = +000.002 | delta Az= +098.950\n",
      "[Telescope] delta Alt = +000.002 | delta Az= +094.949\n",
      "[Telescope] delta Alt = +000.002 | delta Az= +090.948\n",
      "[Telescope] delta Alt = +000.002 | delta Az= +086.949\n",
      "[Telescope] delta Alt = +000.002 | delta Az= +082.948\n",
      "[Telescope] delta Alt = +000.002 | delta Az= +078.948\n",
      "[Telescope] delta Alt = +000.002 | delta Az= +074.948\n",
      "[Telescope] delta Alt = +000.002 | delta Az= +070.947\n",
      "[Telescope] delta Alt = +000.002 | delta Az= +066.947\n",
      "[Telescope] delta Alt = +000.002 | delta Az= +062.947\n",
      "[Telescope] delta Alt = +000.002 | delta Az= +058.946\n",
      "[Telescope] delta Alt = +000.002 | delta Az= +054.945\n",
      "[Telescope] delta Alt = +000.002 | delta Az= +050.944\n",
      "[Telescope] delta Alt = +000.002 | delta Az= +046.945\n",
      "[Telescope] delta Alt = +000.002 | delta Az= +042.944\n",
      "[Telescope] delta Alt = +000.002 | delta Az= +038.943\n",
      "[Telescope] delta Alt = +000.002 | delta Az= +036.943\n",
      "[Telescope] delta Alt = +000.002 | delta Az= +032.942\n",
      "[Telescope] delta Alt = +000.002 | delta Az= +028.944\n",
      "[Telescope] delta Alt = +000.002 | delta Az= +026.948\n",
      "[Telescope] delta Alt = +000.002 | delta Az= +022.988\n",
      "[Telescope] delta Alt = +000.002 | delta Az= +019.121\n",
      "[Telescope] delta Alt = +000.002 | delta Az= +015.421\n",
      "[Telescope] delta Alt = +000.002 | delta Az= +013.660\n",
      "[Telescope] delta Alt = +000.002 | delta Az= +010.368\n",
      "[Telescope] delta Alt = +000.002 | delta Az= +007.457\n",
      "[Telescope] delta Alt = +000.002 | delta Az= +004.993\n",
      "[Telescope] delta Alt = +000.002 | delta Az= +003.030\n",
      "[Telescope] delta Alt = +000.002 | delta Az= +001.589\n",
      "[Telescope] delta Alt = +000.002 | delta Az= +000.656\n",
      "[Telescope] delta Alt = +000.002 | delta Az= +000.167\n",
      "[Telescope] delta Alt = +000.002 | delta Az= +000.005\n",
      "[Telescope] delta Alt = +000.002 | delta Az= -000.008\n",
      "[Telescope] delta Alt = +000.002 | delta Az= -000.008\n",
      "Got True\n",
      "Waiting for telescope to settle.\n",
      "[Telescope] delta Alt = +000.002 | delta Az= -000.009\n",
      "Telescope in position.\n",
      "['Telescope in position.']\n"
     ]
    }
   ],
   "source": [
    "await attcs.slew_object(name = \"HD 185975\", pa_ang=0.0, slew_timeout=240.)"
   ]
  },
  {
   "cell_type": "code",
   "execution_count": 159,
   "metadata": {},
   "outputs": [
    {
     "name": "stdout",
     "output_type": "stream",
     "text": [
      "Generating group_id\n",
      "OBJECT 0001 - 0001\n",
      "Waiting for header service LFO before continuing\n"
     ]
    },
    {
     "data": {
      "text/plain": [
       "array([2020022000309])"
      ]
     },
     "execution_count": 159,
     "metadata": {},
     "output_type": "execute_result"
    }
   ],
   "source": [
    "await latiss.take_object(exptime=1., n=1, filter='empty_1',grating='empty_1')"
   ]
  },
  {
   "cell_type": "code",
   "execution_count": 160,
   "metadata": {},
   "outputs": [],
   "source": [
    "async def adjust_focus(best_focus_fit, focus_adjust):\n",
    "    await attcs.athexapod.evt_positionUpdate.flush() \n",
    "    await attcs.ataos.cmd_applyFocusOffset.set_start(offset=best_focus_fit + focus_adjust )\n",
    "    await attcs.athexapod.evt_positionUpdate.next(flush=False, timeout=attcs.long_timeout)\n",
    "    print ('Done changine focus!')\n",
    "    return 1 "
   ]
  },
  {
   "cell_type": "code",
   "execution_count": 161,
   "metadata": {},
   "outputs": [
    {
     "name": "stdout",
     "output_type": "stream",
     "text": [
      "Generating group_id\n",
      "OBJECT 0001 - 0001\n",
      "Waiting for header service LFO before continuing\n",
      "RemoteEvent(ATHeaderService, 0, logMessage) falling behind; read 11 messages\n"
     ]
    },
    {
     "data": {
      "text/plain": [
       "array([2020022000310])"
      ]
     },
     "execution_count": 161,
     "metadata": {},
     "output_type": "execute_result"
    }
   ],
   "source": [
    "await latiss.take_object(exptime=1., n=1, filter='empty_1',grating='empty_1')"
   ]
  },
  {
   "cell_type": "code",
   "execution_count": 162,
   "metadata": {},
   "outputs": [
    {
     "data": {
      "text/plain": [
       "<lsst.ts.salobj.ddsutil.ATPtg_ackcmd_2d655b72 at 0x7f9b4d95f9e8>"
      ]
     },
     "execution_count": 162,
     "metadata": {},
     "output_type": "execute_result"
    }
   ],
   "source": [
    "await attcs.atptg.cmd_pointNewFile.start()"
   ]
  },
  {
   "cell_type": "code",
   "execution_count": 163,
   "metadata": {},
   "outputs": [
    {
     "name": "stdout",
     "output_type": "stream",
     "text": [
      "Applying x/y offset: -28/ -20 \n",
      "Applying Az/El offset: 19.386047794468457/ 28.42852706192469 \n",
      "Waiting for telescope to settle.\n",
      "Done\n"
     ]
    }
   ],
   "source": [
    "await attcs.offset_xy(x=-28, y = -20, persistent = True)"
   ]
  },
  {
   "cell_type": "code",
   "execution_count": 164,
   "metadata": {},
   "outputs": [
    {
     "name": "stdout",
     "output_type": "stream",
     "text": [
      "Generating group_id\n",
      "OBJECT 0001 - 0001\n",
      "Waiting for header service LFO before continuing\n"
     ]
    },
    {
     "data": {
      "text/plain": [
       "array([2020022000311])"
      ]
     },
     "execution_count": 164,
     "metadata": {},
     "output_type": "execute_result"
    }
   ],
   "source": [
    "await latiss.take_object(exptime=60., n=1, filter='empty_1',grating='ronchi90lpmm') "
   ]
  },
  {
   "cell_type": "code",
   "execution_count": 165,
   "metadata": {},
   "outputs": [
    {
     "name": "stdout",
     "output_type": "stream",
     "text": [
      "Applying x/y offset: 25/ 0 \n",
      "Applying Az/El offset: 0.8579486105870784/ -24.985274146616675 \n",
      "Waiting for telescope to settle.\n",
      "Done\n"
     ]
    }
   ],
   "source": [
    "await attcs.offset_xy(x=+25, y = -0, persistent = True)"
   ]
  },
  {
   "cell_type": "code",
   "execution_count": 166,
   "metadata": {},
   "outputs": [
    {
     "name": "stdout",
     "output_type": "stream",
     "text": [
      "Generating group_id\n",
      "OBJECT 0001 - 0001\n",
      "Waiting for header service LFO before continuing\n",
      "RemoteEvent(ATHeaderService, 0, logMessage) falling behind; read 15 messages\n"
     ]
    },
    {
     "data": {
      "text/plain": [
       "array([2020022000312])"
      ]
     },
     "execution_count": 166,
     "metadata": {},
     "output_type": "execute_result"
    }
   ],
   "source": [
    "await latiss.take_object(exptime=1., n=1, filter='empty_1',grating='ronchi90lpmm') "
   ]
  },
  {
   "cell_type": "code",
   "execution_count": 167,
   "metadata": {},
   "outputs": [
    {
     "name": "stdout",
     "output_type": "stream",
     "text": [
      "Generating group_id\n",
      "OBJECT 0001 - 0001\n",
      "Waiting for header service LFO before continuing\n",
      "RemoteEvent(ATHeaderService, 0, logMessage) falling behind; read 10 messages\n"
     ]
    },
    {
     "data": {
      "text/plain": [
       "array([2020022000313])"
      ]
     },
     "execution_count": 167,
     "metadata": {},
     "output_type": "execute_result"
    }
   ],
   "source": [
    "await latiss.take_object(exptime=60., n=1, filter='empty_1',grating='ronchi90lpmm') "
   ]
  },
  {
   "cell_type": "code",
   "execution_count": 169,
   "metadata": {},
   "outputs": [
    {
     "ename": "TypeError",
     "evalue": "object NoneType can't be used in 'await' expression",
     "output_type": "error",
     "traceback": [
      "\u001b[0;31m\u001b[0m",
      "\u001b[0;31mTypeError\u001b[0mTraceback (most recent call last)",
      "\u001b[0;32m<ipython-input-169-1b850361a088>\u001b[0m in \u001b[0;36masync-def-wrapper\u001b[0;34m()\u001b[0m\n",
      "\u001b[0;32m<ipython-input-160-3e6f6d67fc03>\u001b[0m in \u001b[0;36madjust_focus\u001b[0;34m(best_focus_fit, focus_adjust)\u001b[0m\n\u001b[1;32m      1\u001b[0m \u001b[0;32masync\u001b[0m \u001b[0;32mdef\u001b[0m \u001b[0madjust_focus\u001b[0m\u001b[0;34m(\u001b[0m\u001b[0mbest_focus_fit\u001b[0m\u001b[0;34m,\u001b[0m \u001b[0mfocus_adjust\u001b[0m\u001b[0;34m)\u001b[0m\u001b[0;34m:\u001b[0m\u001b[0;34m\u001b[0m\u001b[0;34m\u001b[0m\u001b[0m\n\u001b[0;32m----> 2\u001b[0;31m     \u001b[0;32mawait\u001b[0m \u001b[0mattcs\u001b[0m\u001b[0;34m.\u001b[0m\u001b[0mathexapod\u001b[0m\u001b[0;34m.\u001b[0m\u001b[0mevt_positionUpdate\u001b[0m\u001b[0;34m.\u001b[0m\u001b[0mflush\u001b[0m\u001b[0;34m(\u001b[0m\u001b[0;34m)\u001b[0m\u001b[0;34m\u001b[0m\u001b[0;34m\u001b[0m\u001b[0m\n\u001b[0m\u001b[1;32m      3\u001b[0m     \u001b[0;32mawait\u001b[0m \u001b[0mattcs\u001b[0m\u001b[0;34m.\u001b[0m\u001b[0mataos\u001b[0m\u001b[0;34m.\u001b[0m\u001b[0mcmd_applyFocusOffset\u001b[0m\u001b[0;34m.\u001b[0m\u001b[0mset_start\u001b[0m\u001b[0;34m(\u001b[0m\u001b[0moffset\u001b[0m\u001b[0;34m=\u001b[0m\u001b[0mbest_focus_fit\u001b[0m \u001b[0;34m+\u001b[0m \u001b[0mfocus_adjust\u001b[0m \u001b[0;34m)\u001b[0m\u001b[0;34m\u001b[0m\u001b[0;34m\u001b[0m\u001b[0m\n\u001b[1;32m      4\u001b[0m     \u001b[0;32mawait\u001b[0m \u001b[0mattcs\u001b[0m\u001b[0;34m.\u001b[0m\u001b[0mathexapod\u001b[0m\u001b[0;34m.\u001b[0m\u001b[0mevt_positionUpdate\u001b[0m\u001b[0;34m.\u001b[0m\u001b[0mnext\u001b[0m\u001b[0;34m(\u001b[0m\u001b[0mflush\u001b[0m\u001b[0;34m=\u001b[0m\u001b[0;32mFalse\u001b[0m\u001b[0;34m,\u001b[0m \u001b[0mtimeout\u001b[0m\u001b[0;34m=\u001b[0m\u001b[0mattcs\u001b[0m\u001b[0;34m.\u001b[0m\u001b[0mlong_timeout\u001b[0m\u001b[0;34m)\u001b[0m\u001b[0;34m\u001b[0m\u001b[0;34m\u001b[0m\u001b[0m\n\u001b[1;32m      5\u001b[0m     \u001b[0mprint\u001b[0m \u001b[0;34m(\u001b[0m\u001b[0;34m'Done changine focus!'\u001b[0m\u001b[0;34m)\u001b[0m\u001b[0;34m\u001b[0m\u001b[0;34m\u001b[0m\u001b[0m\n",
      "\u001b[0;31mTypeError\u001b[0m: object NoneType can't be used in 'await' expression"
     ]
    }
   ],
   "source": [
    "await adjust_focus(best_focus_fit, 0.023)"
   ]
  },
  {
   "cell_type": "code",
   "execution_count": 172,
   "metadata": {},
   "outputs": [
    {
     "ename": "CancelledError",
     "evalue": "",
     "output_type": "error",
     "traceback": [
      "\u001b[0;31m\u001b[0m",
      "\u001b[0;31mCancelledError\u001b[0mTraceback (most recent call last)",
      "\u001b[0;32m<ipython-input-172-e40e872a8f89>\u001b[0m in \u001b[0;36masync-def-wrapper\u001b[0;34m()\u001b[0m\n",
      "\u001b[0;32m~/repos/ts_salobj/python/lsst/ts/salobj/topics/read_topic.py\u001b[0m in \u001b[0;36mnext\u001b[0;34m(self, flush, timeout)\u001b[0m\n\u001b[1;32m    382\u001b[0m         \u001b[0;32mif\u001b[0m \u001b[0mflush\u001b[0m\u001b[0;34m:\u001b[0m\u001b[0;34m\u001b[0m\u001b[0;34m\u001b[0m\u001b[0m\n\u001b[1;32m    383\u001b[0m             \u001b[0mself\u001b[0m\u001b[0;34m.\u001b[0m\u001b[0mflush\u001b[0m\u001b[0;34m(\u001b[0m\u001b[0;34m)\u001b[0m\u001b[0;34m\u001b[0m\u001b[0;34m\u001b[0m\u001b[0m\n\u001b[0;32m--> 384\u001b[0;31m         \u001b[0;32mreturn\u001b[0m \u001b[0;32mawait\u001b[0m \u001b[0mself\u001b[0m\u001b[0;34m.\u001b[0m\u001b[0m_next\u001b[0m\u001b[0;34m(\u001b[0m\u001b[0mtimeout\u001b[0m\u001b[0;34m=\u001b[0m\u001b[0mtimeout\u001b[0m\u001b[0;34m)\u001b[0m\u001b[0;34m\u001b[0m\u001b[0;34m\u001b[0m\u001b[0m\n\u001b[0m\u001b[1;32m    385\u001b[0m \u001b[0;34m\u001b[0m\u001b[0m\n\u001b[1;32m    386\u001b[0m     \u001b[0;32masync\u001b[0m \u001b[0;32mdef\u001b[0m \u001b[0m_next\u001b[0m\u001b[0;34m(\u001b[0m\u001b[0mself\u001b[0m\u001b[0;34m,\u001b[0m \u001b[0;34m*\u001b[0m\u001b[0;34m,\u001b[0m \u001b[0mtimeout\u001b[0m\u001b[0;34m=\u001b[0m\u001b[0;32mNone\u001b[0m\u001b[0;34m)\u001b[0m\u001b[0;34m:\u001b[0m\u001b[0;34m\u001b[0m\u001b[0;34m\u001b[0m\u001b[0m\n",
      "\u001b[0;32m~/repos/ts_salobj/python/lsst/ts/salobj/topics/read_topic.py\u001b[0m in \u001b[0;36m_next\u001b[0;34m(self, timeout)\u001b[0m\n\u001b[1;32m    395\u001b[0m         \u001b[0;32mif\u001b[0m \u001b[0mself\u001b[0m\u001b[0;34m.\u001b[0m\u001b[0m_next_task\u001b[0m\u001b[0;34m.\u001b[0m\u001b[0mdone\u001b[0m\u001b[0;34m(\u001b[0m\u001b[0;34m)\u001b[0m\u001b[0;34m:\u001b[0m\u001b[0;34m\u001b[0m\u001b[0;34m\u001b[0m\u001b[0m\n\u001b[1;32m    396\u001b[0m             \u001b[0mself\u001b[0m\u001b[0;34m.\u001b[0m\u001b[0m_next_task\u001b[0m \u001b[0;34m=\u001b[0m \u001b[0masyncio\u001b[0m\u001b[0;34m.\u001b[0m\u001b[0mFuture\u001b[0m\u001b[0;34m(\u001b[0m\u001b[0;34m)\u001b[0m\u001b[0;34m\u001b[0m\u001b[0;34m\u001b[0m\u001b[0m\n\u001b[0;32m--> 397\u001b[0;31m         \u001b[0;32mawait\u001b[0m \u001b[0masyncio\u001b[0m\u001b[0;34m.\u001b[0m\u001b[0mwait_for\u001b[0m\u001b[0;34m(\u001b[0m\u001b[0mself\u001b[0m\u001b[0;34m.\u001b[0m\u001b[0m_next_task\u001b[0m\u001b[0;34m,\u001b[0m \u001b[0mtimeout\u001b[0m\u001b[0;34m=\u001b[0m\u001b[0mtimeout\u001b[0m\u001b[0;34m)\u001b[0m\u001b[0;34m\u001b[0m\u001b[0;34m\u001b[0m\u001b[0m\n\u001b[0m\u001b[1;32m    398\u001b[0m         \u001b[0;32mreturn\u001b[0m \u001b[0mself\u001b[0m\u001b[0;34m.\u001b[0m\u001b[0m_data_queue\u001b[0m\u001b[0;34m.\u001b[0m\u001b[0mpopleft\u001b[0m\u001b[0;34m(\u001b[0m\u001b[0;34m)\u001b[0m\u001b[0;34m\u001b[0m\u001b[0;34m\u001b[0m\u001b[0m\n\u001b[1;32m    399\u001b[0m \u001b[0;34m\u001b[0m\u001b[0m\n",
      "\u001b[0;32m/opt/lsst/software/stack/python/miniconda3-4.7.10/envs/lsst-scipipe-4d7b902/lib/python3.7/asyncio/tasks.py\u001b[0m in \u001b[0;36mwait_for\u001b[0;34m(fut, timeout, loop)\u001b[0m\n\u001b[1;32m    407\u001b[0m         \u001b[0;31m# wait until the future completes or the timeout\u001b[0m\u001b[0;34m\u001b[0m\u001b[0;34m\u001b[0m\u001b[0;34m\u001b[0m\u001b[0m\n\u001b[1;32m    408\u001b[0m         \u001b[0;32mtry\u001b[0m\u001b[0;34m:\u001b[0m\u001b[0;34m\u001b[0m\u001b[0;34m\u001b[0m\u001b[0m\n\u001b[0;32m--> 409\u001b[0;31m             \u001b[0;32mawait\u001b[0m \u001b[0mwaiter\u001b[0m\u001b[0;34m\u001b[0m\u001b[0;34m\u001b[0m\u001b[0m\n\u001b[0m\u001b[1;32m    410\u001b[0m         \u001b[0;32mexcept\u001b[0m \u001b[0mfutures\u001b[0m\u001b[0;34m.\u001b[0m\u001b[0mCancelledError\u001b[0m\u001b[0;34m:\u001b[0m\u001b[0;34m\u001b[0m\u001b[0;34m\u001b[0m\u001b[0m\n\u001b[1;32m    411\u001b[0m             \u001b[0mfut\u001b[0m\u001b[0;34m.\u001b[0m\u001b[0mremove_done_callback\u001b[0m\u001b[0;34m(\u001b[0m\u001b[0mcb\u001b[0m\u001b[0;34m)\u001b[0m\u001b[0;34m\u001b[0m\u001b[0;34m\u001b[0m\u001b[0m\n",
      "\u001b[0;31mCancelledError\u001b[0m: "
     ]
    }
   ],
   "source": [
    "best_focus_fit = -0.09\n",
    "focus_adjust = 0.023\n",
    "attcs.athexapod.evt_positionUpdate.flush() \n",
    "await attcs.ataos.cmd_applyFocusOffset.set_start(offset=best_focus_fit + focus_adjust )\n",
    "await attcs.athexapod.evt_positionUpdate.next(flush=False, timeout=attcs.long_timeout)"
   ]
  },
  {
   "cell_type": "code",
   "execution_count": 173,
   "metadata": {},
   "outputs": [
    {
     "name": "stdout",
     "output_type": "stream",
     "text": [
      "Generating group_id\n",
      "OBJECT 0001 - 0001\n",
      "Waiting for header service LFO before continuing\n"
     ]
    },
    {
     "data": {
      "text/plain": [
       "array([2020022000314])"
      ]
     },
     "execution_count": 173,
     "metadata": {},
     "output_type": "execute_result"
    }
   ],
   "source": [
    "await latiss.take_object(exptime=60., n=1, filter='quadnotch1',grating='ronchi90lpmm') "
   ]
  },
  {
   "cell_type": "code",
   "execution_count": 174,
   "metadata": {},
   "outputs": [
    {
     "name": "stdout",
     "output_type": "stream",
     "text": [
      "Slewing to HD 34816: 05 19 34.5240 -13 10 36.440\n",
      "Parallactic angle: 117.4769897547289 | Sky Angle: 79.67674864378705\n",
      "Sending command\n",
      "Stop tracking.\n",
      "Mount tracking state is 9\n",
      "Tracking state: 10.\n",
      "Tracking state: 8.\n",
      "In Position: True.\n",
      "In Position: False.\n",
      "Scheduling check coroutines\n",
      "process as completed...\n",
      "Got False\n",
      "Telescope not in position\n",
      "atmcs: <State.ENABLED: 2>\n",
      "atptg: <State.ENABLED: 2>\n",
      "ataos: <State.ENABLED: 2>\n",
      "atpneumatics: <State.ENABLED: 2>\n",
      "athexapod: <State.ENABLED: 2>\n",
      "atdometrajectory: <State.ENABLED: 2>\n",
      "[Telescope] delta Alt = -001.537 | delta Az= +090.359\n",
      "[Telescope] delta Alt = -000.261 | delta Az= +087.389\n",
      "[Telescope] delta Alt = -000.131 | delta Az= +083.388\n",
      "[Telescope] delta Alt = -000.131 | delta Az= +079.384\n",
      "[Telescope] delta Alt = -000.131 | delta Az= +075.380\n",
      "[Telescope] delta Alt = -000.131 | delta Az= +071.375\n",
      "[Telescope] delta Alt = -000.131 | delta Az= +067.371\n",
      "[Telescope] delta Alt = -000.131 | delta Az= +063.367\n",
      "[Telescope] delta Alt = -000.131 | delta Az= +059.363\n",
      "[Telescope] delta Alt = -000.131 | delta Az= +055.358\n",
      "[Telescope] delta Alt = -000.131 | delta Az= +051.353\n",
      "[Telescope] delta Alt = -000.131 | delta Az= +047.350\n",
      "[Telescope] delta Alt = -000.131 | delta Az= +043.346\n",
      "[Telescope] delta Alt = -000.131 | delta Az= +039.342\n",
      "[Telescope] delta Alt = -000.131 | delta Az= +035.337\n",
      "[Telescope] delta Alt = -000.131 | delta Az= +031.333\n",
      "[Telescope] delta Alt = -000.131 | delta Az= +027.333\n",
      "[Telescope] delta Alt = -000.131 | delta Az= +023.365\n",
      "[Telescope] delta Alt = -000.131 | delta Az= +019.482\n",
      "[Telescope] delta Alt = -000.131 | delta Az= +015.759\n",
      "[Telescope] delta Alt = -000.131 | delta Az= +012.279\n",
      "[Telescope] delta Alt = -000.131 | delta Az= +009.127\n",
      "[Telescope] delta Alt = -000.131 | delta Az= +006.381\n",
      "[Telescope] delta Alt = -000.131 | delta Az= +004.109\n",
      "[Telescope] delta Alt = -000.131 | delta Az= +002.895\n",
      "[Telescope] delta Alt = -000.131 | delta Az= +002.002\n",
      "[Telescope] delta Alt = -000.131 | delta Az= +001.252\n",
      "[Telescope] delta Alt = -000.131 | delta Az= +000.661\n",
      "[Telescope] delta Alt = -000.131 | delta Az= +000.232\n",
      "[Telescope] delta Alt = -000.131 | delta Az= +000.003\n",
      "[Telescope] delta Alt = -000.131 | delta Az= -000.001\n",
      "[Telescope] delta Alt = -000.131 | delta Az= -000.005\n",
      "[Telescope] delta Alt = -000.131 | delta Az= -000.009\n",
      "[Telescope] delta Alt = -000.131 | delta Az= -000.013\n",
      "[Telescope] delta Alt = -000.131 | delta Az= -000.017\n",
      "[Telescope] delta Alt = -000.131 | delta Az= -000.021\n",
      "[Telescope] delta Alt = -000.131 | delta Az= -000.025\n",
      "[Telescope] delta Alt = -000.131 | delta Az= -000.029\n",
      "[Telescope] delta Alt = -000.131 | delta Az= -000.034\n",
      "[Telescope] delta Alt = -000.131 | delta Az= -000.038\n",
      "[Telescope] delta Alt = -000.131 | delta Az= -000.042\n",
      "[Telescope] delta Alt = -000.131 | delta Az= -000.046\n",
      "[Telescope] delta Alt = -000.131 | delta Az= -000.050\n",
      "[Telescope] delta Alt = -000.131 | delta Az= -000.054\n",
      "[Telescope] delta Alt = -000.131 | delta Az= -000.059\n",
      "[Telescope] delta Alt = -000.131 | delta Az= -000.063\n",
      "[Telescope] delta Alt = -000.131 | delta Az= -000.067\n",
      "[Telescope] delta Alt = -000.131 | delta Az= -000.071\n",
      "[Telescope] delta Alt = -000.131 | delta Az= -000.075\n",
      "[Telescope] delta Alt = -000.131 | delta Az= -000.079\n",
      "[Telescope] delta Alt = -000.131 | delta Az= -000.084\n",
      "[Telescope] delta Alt = -000.131 | delta Az= -000.088\n",
      "[Telescope] delta Alt = -000.131 | delta Az= -000.092\n",
      "[Telescope] delta Alt = -000.131 | delta Az= -000.096\n",
      "[Telescope] delta Alt = -000.131 | delta Az= -000.100\n",
      "[Telescope] delta Alt = -000.131 | delta Az= -000.104\n",
      "[Telescope] delta Alt = -000.131 | delta Az= -000.109\n",
      "[Telescope] delta Alt = -000.131 | delta Az= -000.113\n",
      "[Telescope] delta Alt = -000.131 | delta Az= -000.117\n",
      "[Telescope] delta Alt = -000.131 | delta Az= -000.121\n",
      "[Telescope] delta Alt = -000.131 | delta Az= -000.125\n",
      "[Telescope] delta Alt = -000.131 | delta Az= -000.129\n",
      "[Telescope] delta Alt = -000.131 | delta Az= -000.134\n",
      "[Telescope] delta Alt = -000.131 | delta Az= -000.138\n",
      "[Telescope] delta Alt = -000.131 | delta Az= -000.142\n",
      "[Telescope] delta Alt = -000.131 | delta Az= -000.146\n",
      "[Telescope] delta Alt = -000.131 | delta Az= -000.150\n",
      "[Telescope] delta Alt = -000.131 | delta Az= -000.154\n",
      "[Telescope] delta Alt = -000.134 | delta Az= -000.158\n",
      "[Telescope] delta Alt = -000.131 | delta Az= -000.161\n",
      "[Telescope] delta Alt = -000.131 | delta Az= -000.165\n",
      "[Telescope] delta Alt = -000.131 | delta Az= -000.169\n",
      "[Telescope] delta Alt = -000.131 | delta Az= -000.173\n",
      "[Telescope] delta Alt = -000.134 | delta Az= -000.177\n",
      "[Telescope] delta Alt = -000.131 | delta Az= -000.179\n",
      "[Telescope] delta Alt = -000.131 | delta Az= -000.184\n",
      "[Telescope] delta Alt = -000.131 | delta Az= -000.188\n",
      "[Telescope] delta Alt = -000.131 | delta Az= -000.192\n",
      "[Telescope] delta Alt = -000.131 | delta Az= -000.196\n",
      "[Telescope] delta Alt = -000.131 | delta Az= -000.200\n",
      "[Telescope] delta Alt = -000.131 | delta Az= -000.204\n",
      "[Telescope] delta Alt = -000.131 | delta Az= -000.208\n",
      "[Telescope] delta Alt = -000.131 | delta Az= -000.213\n",
      "[Telescope] delta Alt = -000.131 | delta Az= -000.217\n",
      "[Telescope] delta Alt = -000.131 | delta Az= -000.221\n",
      "[Telescope] delta Alt = -000.131 | delta Az= -000.225\n",
      "[Telescope] delta Alt = -000.131 | delta Az= -000.229\n",
      "[Telescope] delta Alt = -000.131 | delta Az= -000.233\n",
      "[Telescope] delta Alt = -000.131 | delta Az= -000.238\n",
      "[Telescope] delta Alt = -000.131 | delta Az= -000.242\n",
      "[Telescope] delta Alt = -000.134 | delta Az= -000.246\n",
      "[Telescope] delta Alt = -000.131 | delta Az= -000.248\n",
      "[Telescope] delta Alt = -000.131 | delta Az= -000.252\n",
      "[Telescope] delta Alt = -000.131 | delta Az= -000.256\n",
      "[Telescope] delta Alt = -000.131 | delta Az= -000.260\n",
      "[Telescope] delta Alt = -000.131 | delta Az= -000.265\n",
      "[Telescope] delta Alt = -000.131 | delta Az= -000.269\n",
      "[Telescope] delta Alt = -000.131 | delta Az= -000.273\n",
      "[Telescope] delta Alt = -000.131 | delta Az= -000.277\n",
      "[Telescope] delta Alt = -000.131 | delta Az= -000.281\n",
      "[Telescope] delta Alt = -000.131 | delta Az= -000.285\n",
      "[Telescope] delta Alt = -000.131 | delta Az= -000.290\n",
      "[Telescope] delta Alt = -000.131 | delta Az= -000.294\n",
      "[Telescope] delta Alt = -000.131 | delta Az= -000.298\n",
      "[Telescope] delta Alt = -000.131 | delta Az= -000.302\n",
      "[Telescope] delta Alt = -000.131 | delta Az= -000.306\n",
      "[Telescope] delta Alt = -000.131 | delta Az= -000.310\n",
      "[Telescope] delta Alt = -000.131 | delta Az= -000.314\n",
      "[Telescope] delta Alt = -000.131 | delta Az= -000.319\n",
      "[Telescope] delta Alt = -000.131 | delta Az= -000.323\n",
      "[Telescope] delta Alt = -000.131 | delta Az= -000.327\n",
      "[Telescope] delta Alt = -000.131 | delta Az= -000.331\n",
      "[Telescope] delta Alt = -000.131 | delta Az= -000.335\n",
      "[Telescope] delta Alt = -000.131 | delta Az= -000.339\n",
      "[Telescope] delta Alt = -000.131 | delta Az= -000.344\n",
      "[Telescope] delta Alt = -000.131 | delta Az= -000.348\n",
      "[Telescope] delta Alt = -000.131 | delta Az= -000.352\n",
      "[Telescope] delta Alt = -000.131 | delta Az= -000.356\n",
      "[Telescope] delta Alt = -000.131 | delta Az= -000.360\n",
      "[Telescope] delta Alt = -000.131 | delta Az= -000.364\n",
      "[Telescope] delta Alt = -000.131 | delta Az= -000.368\n"
     ]
    },
    {
     "ename": "TimeoutError",
     "evalue": "",
     "output_type": "error",
     "traceback": [
      "\u001b[0;31m\u001b[0m",
      "\u001b[0;31mTimeoutError\u001b[0mTraceback (most recent call last)",
      "\u001b[0;32m<ipython-input-174-501dadaebd09>\u001b[0m in \u001b[0;36masync-def-wrapper\u001b[0;34m()\u001b[0m\n",
      "\u001b[0;32m~/repos/ts_standardscripts/python/lsst/ts/standardscripts/auxtel/attcs.py\u001b[0m in \u001b[0;36mslew_object\u001b[0;34m(self, name, rot_sky, pa_ang, rot_pa, slew_timeout, track_id)\u001b[0m\n\u001b[1;32m    187\u001b[0m                              \u001b[0mtarget_name\u001b[0m\u001b[0;34m=\u001b[0m\u001b[0mname\u001b[0m\u001b[0;34m,\u001b[0m\u001b[0;34m\u001b[0m\u001b[0;34m\u001b[0m\u001b[0m\n\u001b[1;32m    188\u001b[0m                              \u001b[0mslew_timeout\u001b[0m\u001b[0;34m=\u001b[0m\u001b[0mslew_timeout\u001b[0m\u001b[0;34m,\u001b[0m\u001b[0;34m\u001b[0m\u001b[0;34m\u001b[0m\u001b[0m\n\u001b[0;32m--> 189\u001b[0;31m                              track_id=track_id)\n\u001b[0m\u001b[1;32m    190\u001b[0m \u001b[0;34m\u001b[0m\u001b[0m\n\u001b[1;32m    191\u001b[0m     async def slew_icrs(self, ra, dec, rot_sky=None, pa_ang=None, rot_pa=0.,\n",
      "\u001b[0;32m~/repos/ts_standardscripts/python/lsst/ts/standardscripts/auxtel/attcs.py\u001b[0m in \u001b[0;36mslew_icrs\u001b[0;34m(self, ra, dec, rot_sky, pa_ang, rot_pa, target_name, slew_timeout, track_id)\u001b[0m\n\u001b[1;32m    267\u001b[0m                         \u001b[0mrot_mode\u001b[0m\u001b[0;34m=\u001b[0m\u001b[0mATPtg\u001b[0m\u001b[0;34m.\u001b[0m\u001b[0mRotMode\u001b[0m\u001b[0;34m.\u001b[0m\u001b[0mFIELD\u001b[0m\u001b[0;34m,\u001b[0m\u001b[0;34m\u001b[0m\u001b[0;34m\u001b[0m\u001b[0m\n\u001b[1;32m    268\u001b[0m                         \u001b[0mslew_timeout\u001b[0m\u001b[0;34m=\u001b[0m\u001b[0mslew_timeout\u001b[0m\u001b[0;34m,\u001b[0m\u001b[0;34m\u001b[0m\u001b[0;34m\u001b[0m\u001b[0m\n\u001b[0;32m--> 269\u001b[0;31m                         track_id=track_id)\n\u001b[0m\u001b[1;32m    270\u001b[0m \u001b[0;34m\u001b[0m\u001b[0m\n\u001b[1;32m    271\u001b[0m     async def slew(self, ra, dec, rotPA=0., target_name=\"slew_icrs\",\n",
      "\u001b[0;32m~/repos/ts_standardscripts/python/lsst/ts/standardscripts/auxtel/attcs.py\u001b[0m in \u001b[0;36mslew\u001b[0;34m(self, ra, dec, rotPA, target_name, target_instance, frame, epoch, equinox, parallax, pmRA, pmDec, rv, dRA, dDec, rot_frame, rot_mode, slew_timeout, track_id)\u001b[0m\n\u001b[1;32m    313\u001b[0m \u001b[0;34m\u001b[0m\u001b[0m\n\u001b[1;32m    314\u001b[0m         await self._slew_to(self.atptg.cmd_raDecTarget,\n\u001b[0;32m--> 315\u001b[0;31m                             slew_timeout=slew_timeout)\n\u001b[0m\u001b[1;32m    316\u001b[0m \u001b[0;34m\u001b[0m\u001b[0m\n\u001b[1;32m    317\u001b[0m     async def slew_to_planet(self, planet,\n",
      "\u001b[0;32m~/repos/ts_standardscripts/python/lsst/ts/standardscripts/auxtel/attcs.py\u001b[0m in \u001b[0;36m_slew_to\u001b[0;34m(self, slew_cmd, slew_timeout)\u001b[0m\n\u001b[1;32m    833\u001b[0m         \u001b[0;32mfor\u001b[0m \u001b[0mres\u001b[0m \u001b[0;32min\u001b[0m \u001b[0masyncio\u001b[0m\u001b[0;34m.\u001b[0m\u001b[0mas_completed\u001b[0m\u001b[0;34m(\u001b[0m\u001b[0mcoro_list\u001b[0m\u001b[0;34m)\u001b[0m\u001b[0;34m:\u001b[0m\u001b[0;34m\u001b[0m\u001b[0;34m\u001b[0m\u001b[0m\n\u001b[1;32m    834\u001b[0m             \u001b[0;32mtry\u001b[0m\u001b[0;34m:\u001b[0m\u001b[0;34m\u001b[0m\u001b[0;34m\u001b[0m\u001b[0m\n\u001b[0;32m--> 835\u001b[0;31m                 \u001b[0mret_val\u001b[0m \u001b[0;34m=\u001b[0m \u001b[0;32mawait\u001b[0m \u001b[0mres\u001b[0m\u001b[0;34m\u001b[0m\u001b[0;34m\u001b[0m\u001b[0m\n\u001b[0m\u001b[1;32m    836\u001b[0m                 \u001b[0mself\u001b[0m\u001b[0;34m.\u001b[0m\u001b[0mlog\u001b[0m\u001b[0;34m.\u001b[0m\u001b[0mdebug\u001b[0m\u001b[0;34m(\u001b[0m\u001b[0mret_val\u001b[0m\u001b[0;34m)\u001b[0m\u001b[0;34m\u001b[0m\u001b[0;34m\u001b[0m\u001b[0m\n\u001b[1;32m    837\u001b[0m             \u001b[0;32mexcept\u001b[0m \u001b[0mRuntimeError\u001b[0m \u001b[0;32mas\u001b[0m \u001b[0mrte\u001b[0m\u001b[0;34m:\u001b[0m\u001b[0;34m\u001b[0m\u001b[0;34m\u001b[0m\u001b[0m\n",
      "\u001b[0;32m/opt/lsst/software/stack/python/miniconda3-4.7.10/envs/lsst-scipipe-4d7b902/lib/python3.7/asyncio/tasks.py\u001b[0m in \u001b[0;36m_wait_for_one\u001b[0;34m()\u001b[0m\n\u001b[1;32m    531\u001b[0m             \u001b[0;31m# Dummy value from _on_timeout().\u001b[0m\u001b[0;34m\u001b[0m\u001b[0;34m\u001b[0m\u001b[0;34m\u001b[0m\u001b[0m\n\u001b[1;32m    532\u001b[0m             \u001b[0;32mraise\u001b[0m \u001b[0mfutures\u001b[0m\u001b[0;34m.\u001b[0m\u001b[0mTimeoutError\u001b[0m\u001b[0;34m\u001b[0m\u001b[0;34m\u001b[0m\u001b[0m\n\u001b[0;32m--> 533\u001b[0;31m         \u001b[0;32mreturn\u001b[0m \u001b[0mf\u001b[0m\u001b[0;34m.\u001b[0m\u001b[0mresult\u001b[0m\u001b[0;34m(\u001b[0m\u001b[0;34m)\u001b[0m  \u001b[0;31m# May raise f.exception().\u001b[0m\u001b[0;34m\u001b[0m\u001b[0;34m\u001b[0m\u001b[0m\n\u001b[0m\u001b[1;32m    534\u001b[0m \u001b[0;34m\u001b[0m\u001b[0m\n\u001b[1;32m    535\u001b[0m     \u001b[0;32mfor\u001b[0m \u001b[0mf\u001b[0m \u001b[0;32min\u001b[0m \u001b[0mtodo\u001b[0m\u001b[0;34m:\u001b[0m\u001b[0;34m\u001b[0m\u001b[0;34m\u001b[0m\u001b[0m\n",
      "\u001b[0;32m~/repos/ts_standardscripts/python/lsst/ts/standardscripts/auxtel/attcs.py\u001b[0m in \u001b[0;36mwait_for_inposition\u001b[0;34m(self, timeout, cmd_ack)\u001b[0m\n\u001b[1;32m    919\u001b[0m \u001b[0;34m\u001b[0m\u001b[0m\n\u001b[1;32m    920\u001b[0m         \u001b[0;32mif\u001b[0m \u001b[0mself\u001b[0m\u001b[0;34m.\u001b[0m\u001b[0mcheck\u001b[0m\u001b[0;34m.\u001b[0m\u001b[0matmcs\u001b[0m\u001b[0;34m:\u001b[0m\u001b[0;34m\u001b[0m\u001b[0;34m\u001b[0m\u001b[0m\n\u001b[0;32m--> 921\u001b[0;31m             \u001b[0mstatus\u001b[0m\u001b[0;34m.\u001b[0m\u001b[0mappend\u001b[0m\u001b[0;34m(\u001b[0m\u001b[0;32mawait\u001b[0m \u001b[0mself\u001b[0m\u001b[0;34m.\u001b[0m\u001b[0mwait_for_atmcs_inposition\u001b[0m\u001b[0;34m(\u001b[0m\u001b[0mtimeout\u001b[0m\u001b[0;34m,\u001b[0m \u001b[0mcmd_ack\u001b[0m\u001b[0;34m)\u001b[0m\u001b[0;34m)\u001b[0m\u001b[0;34m\u001b[0m\u001b[0;34m\u001b[0m\u001b[0m\n\u001b[0m\u001b[1;32m    922\u001b[0m \u001b[0;34m\u001b[0m\u001b[0m\n\u001b[1;32m    923\u001b[0m         \u001b[0;32mif\u001b[0m \u001b[0mself\u001b[0m\u001b[0;34m.\u001b[0m\u001b[0mcheck\u001b[0m\u001b[0;34m.\u001b[0m\u001b[0matdome\u001b[0m\u001b[0;34m:\u001b[0m\u001b[0;34m\u001b[0m\u001b[0;34m\u001b[0m\u001b[0m\n",
      "\u001b[0;32m~/repos/ts_standardscripts/python/lsst/ts/standardscripts/auxtel/attcs.py\u001b[0m in \u001b[0;36mwait_for_atmcs_inposition\u001b[0;34m(self, timeout, cmd_ack)\u001b[0m\n\u001b[1;32m    954\u001b[0m                 \u001b[0;32mtry\u001b[0m\u001b[0;34m:\u001b[0m\u001b[0;34m\u001b[0m\u001b[0;34m\u001b[0m\u001b[0m\n\u001b[1;32m    955\u001b[0m                     in_position = await self.atmcs.evt_allAxesInPosition.next(flush=False,\n\u001b[0;32m--> 956\u001b[0;31m                                                                               timeout=timeout)\n\u001b[0m\u001b[1;32m    957\u001b[0m                 \u001b[0;32mexcept\u001b[0m \u001b[0mIndexError\u001b[0m\u001b[0;34m:\u001b[0m\u001b[0;34m\u001b[0m\u001b[0;34m\u001b[0m\u001b[0m\n\u001b[1;32m    958\u001b[0m                     \u001b[0min_position\u001b[0m \u001b[0;34m=\u001b[0m \u001b[0;32mawait\u001b[0m \u001b[0mself\u001b[0m\u001b[0;34m.\u001b[0m\u001b[0matmcs\u001b[0m\u001b[0;34m.\u001b[0m\u001b[0mevt_allAxesInPosition\u001b[0m\u001b[0;34m.\u001b[0m\u001b[0maget\u001b[0m\u001b[0;34m(\u001b[0m\u001b[0mtimeout\u001b[0m\u001b[0;34m=\u001b[0m\u001b[0mtimeout\u001b[0m\u001b[0;34m)\u001b[0m\u001b[0;34m\u001b[0m\u001b[0;34m\u001b[0m\u001b[0m\n",
      "\u001b[0;32m~/repos/ts_salobj/python/lsst/ts/salobj/topics/read_topic.py\u001b[0m in \u001b[0;36mnext\u001b[0;34m(self, flush, timeout)\u001b[0m\n\u001b[1;32m    382\u001b[0m         \u001b[0;32mif\u001b[0m \u001b[0mflush\u001b[0m\u001b[0;34m:\u001b[0m\u001b[0;34m\u001b[0m\u001b[0;34m\u001b[0m\u001b[0m\n\u001b[1;32m    383\u001b[0m             \u001b[0mself\u001b[0m\u001b[0;34m.\u001b[0m\u001b[0mflush\u001b[0m\u001b[0;34m(\u001b[0m\u001b[0;34m)\u001b[0m\u001b[0;34m\u001b[0m\u001b[0;34m\u001b[0m\u001b[0m\n\u001b[0;32m--> 384\u001b[0;31m         \u001b[0;32mreturn\u001b[0m \u001b[0;32mawait\u001b[0m \u001b[0mself\u001b[0m\u001b[0;34m.\u001b[0m\u001b[0m_next\u001b[0m\u001b[0;34m(\u001b[0m\u001b[0mtimeout\u001b[0m\u001b[0;34m=\u001b[0m\u001b[0mtimeout\u001b[0m\u001b[0;34m)\u001b[0m\u001b[0;34m\u001b[0m\u001b[0;34m\u001b[0m\u001b[0m\n\u001b[0m\u001b[1;32m    385\u001b[0m \u001b[0;34m\u001b[0m\u001b[0m\n\u001b[1;32m    386\u001b[0m     \u001b[0;32masync\u001b[0m \u001b[0;32mdef\u001b[0m \u001b[0m_next\u001b[0m\u001b[0;34m(\u001b[0m\u001b[0mself\u001b[0m\u001b[0;34m,\u001b[0m \u001b[0;34m*\u001b[0m\u001b[0;34m,\u001b[0m \u001b[0mtimeout\u001b[0m\u001b[0;34m=\u001b[0m\u001b[0;32mNone\u001b[0m\u001b[0;34m)\u001b[0m\u001b[0;34m:\u001b[0m\u001b[0;34m\u001b[0m\u001b[0;34m\u001b[0m\u001b[0m\n",
      "\u001b[0;32m~/repos/ts_salobj/python/lsst/ts/salobj/topics/read_topic.py\u001b[0m in \u001b[0;36m_next\u001b[0;34m(self, timeout)\u001b[0m\n\u001b[1;32m    395\u001b[0m         \u001b[0;32mif\u001b[0m \u001b[0mself\u001b[0m\u001b[0;34m.\u001b[0m\u001b[0m_next_task\u001b[0m\u001b[0;34m.\u001b[0m\u001b[0mdone\u001b[0m\u001b[0;34m(\u001b[0m\u001b[0;34m)\u001b[0m\u001b[0;34m:\u001b[0m\u001b[0;34m\u001b[0m\u001b[0;34m\u001b[0m\u001b[0m\n\u001b[1;32m    396\u001b[0m             \u001b[0mself\u001b[0m\u001b[0;34m.\u001b[0m\u001b[0m_next_task\u001b[0m \u001b[0;34m=\u001b[0m \u001b[0masyncio\u001b[0m\u001b[0;34m.\u001b[0m\u001b[0mFuture\u001b[0m\u001b[0;34m(\u001b[0m\u001b[0;34m)\u001b[0m\u001b[0;34m\u001b[0m\u001b[0;34m\u001b[0m\u001b[0m\n\u001b[0;32m--> 397\u001b[0;31m         \u001b[0;32mawait\u001b[0m \u001b[0masyncio\u001b[0m\u001b[0;34m.\u001b[0m\u001b[0mwait_for\u001b[0m\u001b[0;34m(\u001b[0m\u001b[0mself\u001b[0m\u001b[0;34m.\u001b[0m\u001b[0m_next_task\u001b[0m\u001b[0;34m,\u001b[0m \u001b[0mtimeout\u001b[0m\u001b[0;34m=\u001b[0m\u001b[0mtimeout\u001b[0m\u001b[0;34m)\u001b[0m\u001b[0;34m\u001b[0m\u001b[0;34m\u001b[0m\u001b[0m\n\u001b[0m\u001b[1;32m    398\u001b[0m         \u001b[0;32mreturn\u001b[0m \u001b[0mself\u001b[0m\u001b[0;34m.\u001b[0m\u001b[0m_data_queue\u001b[0m\u001b[0;34m.\u001b[0m\u001b[0mpopleft\u001b[0m\u001b[0;34m(\u001b[0m\u001b[0;34m)\u001b[0m\u001b[0;34m\u001b[0m\u001b[0;34m\u001b[0m\u001b[0m\n\u001b[1;32m    399\u001b[0m \u001b[0;34m\u001b[0m\u001b[0m\n",
      "\u001b[0;32m/opt/lsst/software/stack/python/miniconda3-4.7.10/envs/lsst-scipipe-4d7b902/lib/python3.7/asyncio/tasks.py\u001b[0m in \u001b[0;36mwait_for\u001b[0;34m(fut, timeout, loop)\u001b[0m\n\u001b[1;32m    421\u001b[0m             \u001b[0;31m# See https://bugs.python.org/issue32751\u001b[0m\u001b[0;34m\u001b[0m\u001b[0;34m\u001b[0m\u001b[0;34m\u001b[0m\u001b[0m\n\u001b[1;32m    422\u001b[0m             \u001b[0;32mawait\u001b[0m \u001b[0m_cancel_and_wait\u001b[0m\u001b[0;34m(\u001b[0m\u001b[0mfut\u001b[0m\u001b[0;34m,\u001b[0m \u001b[0mloop\u001b[0m\u001b[0;34m=\u001b[0m\u001b[0mloop\u001b[0m\u001b[0;34m)\u001b[0m\u001b[0;34m\u001b[0m\u001b[0;34m\u001b[0m\u001b[0m\n\u001b[0;32m--> 423\u001b[0;31m             \u001b[0;32mraise\u001b[0m \u001b[0mfutures\u001b[0m\u001b[0;34m.\u001b[0m\u001b[0mTimeoutError\u001b[0m\u001b[0;34m(\u001b[0m\u001b[0;34m)\u001b[0m\u001b[0;34m\u001b[0m\u001b[0;34m\u001b[0m\u001b[0m\n\u001b[0m\u001b[1;32m    424\u001b[0m     \u001b[0;32mfinally\u001b[0m\u001b[0;34m:\u001b[0m\u001b[0;34m\u001b[0m\u001b[0;34m\u001b[0m\u001b[0m\n\u001b[1;32m    425\u001b[0m         \u001b[0mtimeout_handle\u001b[0m\u001b[0;34m.\u001b[0m\u001b[0mcancel\u001b[0m\u001b[0;34m(\u001b[0m\u001b[0;34m)\u001b[0m\u001b[0;34m\u001b[0m\u001b[0;34m\u001b[0m\u001b[0m\n",
      "\u001b[0;31mTimeoutError\u001b[0m: "
     ]
    },
    {
     "name": "stdout",
     "output_type": "stream",
     "text": [
      "[Telescope] delta Alt = -000.131 | delta Az= -000.372\n",
      "[Telescope] delta Alt = -000.131 | delta Az= -000.377\n",
      "[Telescope] delta Alt = -000.131 | delta Az= -000.381\n",
      "[Telescope] delta Alt = -000.131 | delta Az= -000.385\n",
      "[Telescope] delta Alt = -000.131 | delta Az= -000.389\n",
      "[Telescope] delta Alt = -000.131 | delta Az= -000.393\n",
      "[Telescope] delta Alt = -000.131 | delta Az= -000.397\n",
      "[Telescope] delta Alt = -000.131 | delta Az= -000.401\n",
      "[Telescope] delta Alt = -000.131 | delta Az= -000.406\n",
      "[Telescope] delta Alt = -000.131 | delta Az= -000.410\n",
      "[Telescope] delta Alt = -000.131 | delta Az= -000.414\n",
      "[Telescope] delta Alt = -000.131 | delta Az= -000.418\n",
      "[Telescope] delta Alt = -000.131 | delta Az= -000.422\n",
      "[Telescope] delta Alt = -000.131 | delta Az= -000.426\n",
      "[Telescope] delta Alt = -000.131 | delta Az= -000.431\n",
      "[Telescope] delta Alt = -000.131 | delta Az= -000.435\n",
      "[Telescope] delta Alt = -000.131 | delta Az= -000.439\n",
      "[Telescope] delta Alt = -000.131 | delta Az= -000.443\n",
      "[Telescope] delta Alt = -000.131 | delta Az= -000.447\n",
      "[Telescope] delta Alt = -000.131 | delta Az= -000.451\n",
      "[Telescope] delta Alt = -000.131 | delta Az= -000.455\n",
      "[Telescope] delta Alt = -000.131 | delta Az= -000.460\n",
      "[Telescope] delta Alt = -000.131 | delta Az= -000.464\n",
      "[Telescope] delta Alt = -000.134 | delta Az= -000.468\n",
      "[Telescope] delta Alt = -000.131 | delta Az= -000.470\n",
      "[Telescope] delta Alt = -000.131 | delta Az= -000.474\n",
      "[Telescope] delta Alt = -000.131 | delta Az= -000.478\n",
      "[Telescope] delta Alt = -000.131 | delta Az= -000.482\n",
      "[Telescope] delta Alt = -000.131 | delta Az= -000.487\n",
      "[Telescope] delta Alt = -000.131 | delta Az= -000.491\n",
      "[Telescope] delta Alt = -000.131 | delta Az= -000.495\n",
      "[Telescope] delta Alt = -000.131 | delta Az= -000.499\n",
      "[Telescope] delta Alt = -000.131 | delta Az= -000.503\n",
      "[Telescope] delta Alt = -000.131 | delta Az= -000.507\n"
     ]
    }
   ],
   "source": [
    "await attcs.slew_object(name = \"HD 34816\", pa_ang=0.0, slew_timeout=240.)"
   ]
  },
  {
   "cell_type": "code",
   "execution_count": 175,
   "metadata": {},
   "outputs": [
    {
     "name": "stdout",
     "output_type": "stream",
     "text": [
      "Slewing to HD 34816: 05 19 34.5240 -13 10 36.440\n",
      "Parallactic angle: 117.49636192746486 | Sky Angle: 77.47002728662997\n",
      "Sending command\n",
      "Stop tracking.\n",
      "Mount tracking state is 9\n",
      "Tracking state: 10.\n",
      "Tracking state: 8.\n",
      "In Position: False.\n",
      "Scheduling check coroutines\n",
      "process as completed...\n",
      "Got False\n",
      "Telescope not in position\n",
      "atmcs: <State.ENABLED: 2>\n",
      "atptg: <State.ENABLED: 2>\n",
      "ataos: <State.ENABLED: 2>\n",
      "atpneumatics: <State.ENABLED: 2>\n",
      "athexapod: <State.ENABLED: 2>\n",
      "atdometrajectory: <State.ENABLED: 2>\n",
      "[Telescope] delta Alt = -000.138 | delta Az= -000.516\n",
      "[Telescope] delta Alt = -000.131 | delta Az= -000.519\n",
      "[Telescope] delta Alt = -000.131 | delta Az= -000.524\n",
      "[Telescope] delta Alt = -000.131 | delta Az= -000.528\n"
     ]
    },
    {
     "ename": "CancelledError",
     "evalue": "",
     "output_type": "error",
     "traceback": [
      "\u001b[0;31m\u001b[0m",
      "\u001b[0;31mCancelledError\u001b[0mTraceback (most recent call last)",
      "\u001b[0;32m<ipython-input-175-501dadaebd09>\u001b[0m in \u001b[0;36masync-def-wrapper\u001b[0;34m()\u001b[0m\n",
      "\u001b[0;32m~/repos/ts_standardscripts/python/lsst/ts/standardscripts/auxtel/attcs.py\u001b[0m in \u001b[0;36mslew_object\u001b[0;34m(self, name, rot_sky, pa_ang, rot_pa, slew_timeout, track_id)\u001b[0m\n\u001b[1;32m    187\u001b[0m                              \u001b[0mtarget_name\u001b[0m\u001b[0;34m=\u001b[0m\u001b[0mname\u001b[0m\u001b[0;34m,\u001b[0m\u001b[0;34m\u001b[0m\u001b[0;34m\u001b[0m\u001b[0m\n\u001b[1;32m    188\u001b[0m                              \u001b[0mslew_timeout\u001b[0m\u001b[0;34m=\u001b[0m\u001b[0mslew_timeout\u001b[0m\u001b[0;34m,\u001b[0m\u001b[0;34m\u001b[0m\u001b[0;34m\u001b[0m\u001b[0m\n\u001b[0;32m--> 189\u001b[0;31m                              track_id=track_id)\n\u001b[0m\u001b[1;32m    190\u001b[0m \u001b[0;34m\u001b[0m\u001b[0m\n\u001b[1;32m    191\u001b[0m     async def slew_icrs(self, ra, dec, rot_sky=None, pa_ang=None, rot_pa=0.,\n",
      "\u001b[0;32m~/repos/ts_standardscripts/python/lsst/ts/standardscripts/auxtel/attcs.py\u001b[0m in \u001b[0;36mslew_icrs\u001b[0;34m(self, ra, dec, rot_sky, pa_ang, rot_pa, target_name, slew_timeout, track_id)\u001b[0m\n\u001b[1;32m    267\u001b[0m                         \u001b[0mrot_mode\u001b[0m\u001b[0;34m=\u001b[0m\u001b[0mATPtg\u001b[0m\u001b[0;34m.\u001b[0m\u001b[0mRotMode\u001b[0m\u001b[0;34m.\u001b[0m\u001b[0mFIELD\u001b[0m\u001b[0;34m,\u001b[0m\u001b[0;34m\u001b[0m\u001b[0;34m\u001b[0m\u001b[0m\n\u001b[1;32m    268\u001b[0m                         \u001b[0mslew_timeout\u001b[0m\u001b[0;34m=\u001b[0m\u001b[0mslew_timeout\u001b[0m\u001b[0;34m,\u001b[0m\u001b[0;34m\u001b[0m\u001b[0;34m\u001b[0m\u001b[0m\n\u001b[0;32m--> 269\u001b[0;31m                         track_id=track_id)\n\u001b[0m\u001b[1;32m    270\u001b[0m \u001b[0;34m\u001b[0m\u001b[0m\n\u001b[1;32m    271\u001b[0m     async def slew(self, ra, dec, rotPA=0., target_name=\"slew_icrs\",\n",
      "\u001b[0;32m~/repos/ts_standardscripts/python/lsst/ts/standardscripts/auxtel/attcs.py\u001b[0m in \u001b[0;36mslew\u001b[0;34m(self, ra, dec, rotPA, target_name, target_instance, frame, epoch, equinox, parallax, pmRA, pmDec, rv, dRA, dDec, rot_frame, rot_mode, slew_timeout, track_id)\u001b[0m\n\u001b[1;32m    313\u001b[0m \u001b[0;34m\u001b[0m\u001b[0m\n\u001b[1;32m    314\u001b[0m         await self._slew_to(self.atptg.cmd_raDecTarget,\n\u001b[0;32m--> 315\u001b[0;31m                             slew_timeout=slew_timeout)\n\u001b[0m\u001b[1;32m    316\u001b[0m \u001b[0;34m\u001b[0m\u001b[0m\n\u001b[1;32m    317\u001b[0m     async def slew_to_planet(self, planet,\n",
      "\u001b[0;32m~/repos/ts_standardscripts/python/lsst/ts/standardscripts/auxtel/attcs.py\u001b[0m in \u001b[0;36m_slew_to\u001b[0;34m(self, slew_cmd, slew_timeout)\u001b[0m\n\u001b[1;32m    833\u001b[0m         \u001b[0;32mfor\u001b[0m \u001b[0mres\u001b[0m \u001b[0;32min\u001b[0m \u001b[0masyncio\u001b[0m\u001b[0;34m.\u001b[0m\u001b[0mas_completed\u001b[0m\u001b[0;34m(\u001b[0m\u001b[0mcoro_list\u001b[0m\u001b[0;34m)\u001b[0m\u001b[0;34m:\u001b[0m\u001b[0;34m\u001b[0m\u001b[0;34m\u001b[0m\u001b[0m\n\u001b[1;32m    834\u001b[0m             \u001b[0;32mtry\u001b[0m\u001b[0;34m:\u001b[0m\u001b[0;34m\u001b[0m\u001b[0;34m\u001b[0m\u001b[0m\n\u001b[0;32m--> 835\u001b[0;31m                 \u001b[0mret_val\u001b[0m \u001b[0;34m=\u001b[0m \u001b[0;32mawait\u001b[0m \u001b[0mres\u001b[0m\u001b[0;34m\u001b[0m\u001b[0;34m\u001b[0m\u001b[0m\n\u001b[0m\u001b[1;32m    836\u001b[0m                 \u001b[0mself\u001b[0m\u001b[0;34m.\u001b[0m\u001b[0mlog\u001b[0m\u001b[0;34m.\u001b[0m\u001b[0mdebug\u001b[0m\u001b[0;34m(\u001b[0m\u001b[0mret_val\u001b[0m\u001b[0;34m)\u001b[0m\u001b[0;34m\u001b[0m\u001b[0;34m\u001b[0m\u001b[0m\n\u001b[1;32m    837\u001b[0m             \u001b[0;32mexcept\u001b[0m \u001b[0mRuntimeError\u001b[0m \u001b[0;32mas\u001b[0m \u001b[0mrte\u001b[0m\u001b[0;34m:\u001b[0m\u001b[0;34m\u001b[0m\u001b[0;34m\u001b[0m\u001b[0m\n",
      "\u001b[0;32m/opt/lsst/software/stack/python/miniconda3-4.7.10/envs/lsst-scipipe-4d7b902/lib/python3.7/asyncio/tasks.py\u001b[0m in \u001b[0;36m_wait_for_one\u001b[0;34m()\u001b[0m\n\u001b[1;32m    527\u001b[0m \u001b[0;34m\u001b[0m\u001b[0m\n\u001b[1;32m    528\u001b[0m     \u001b[0;32masync\u001b[0m \u001b[0;32mdef\u001b[0m \u001b[0m_wait_for_one\u001b[0m\u001b[0;34m(\u001b[0m\u001b[0;34m)\u001b[0m\u001b[0;34m:\u001b[0m\u001b[0;34m\u001b[0m\u001b[0;34m\u001b[0m\u001b[0m\n\u001b[0;32m--> 529\u001b[0;31m         \u001b[0mf\u001b[0m \u001b[0;34m=\u001b[0m \u001b[0;32mawait\u001b[0m \u001b[0mdone\u001b[0m\u001b[0;34m.\u001b[0m\u001b[0mget\u001b[0m\u001b[0;34m(\u001b[0m\u001b[0;34m)\u001b[0m\u001b[0;34m\u001b[0m\u001b[0;34m\u001b[0m\u001b[0m\n\u001b[0m\u001b[1;32m    530\u001b[0m         \u001b[0;32mif\u001b[0m \u001b[0mf\u001b[0m \u001b[0;32mis\u001b[0m \u001b[0;32mNone\u001b[0m\u001b[0;34m:\u001b[0m\u001b[0;34m\u001b[0m\u001b[0;34m\u001b[0m\u001b[0m\n\u001b[1;32m    531\u001b[0m             \u001b[0;31m# Dummy value from _on_timeout().\u001b[0m\u001b[0;34m\u001b[0m\u001b[0;34m\u001b[0m\u001b[0;34m\u001b[0m\u001b[0m\n",
      "\u001b[0;32m/opt/lsst/software/stack/python/miniconda3-4.7.10/envs/lsst-scipipe-4d7b902/lib/python3.7/asyncio/queues.py\u001b[0m in \u001b[0;36mget\u001b[0;34m(self)\u001b[0m\n\u001b[1;32m    157\u001b[0m             \u001b[0mself\u001b[0m\u001b[0;34m.\u001b[0m\u001b[0m_getters\u001b[0m\u001b[0;34m.\u001b[0m\u001b[0mappend\u001b[0m\u001b[0;34m(\u001b[0m\u001b[0mgetter\u001b[0m\u001b[0;34m)\u001b[0m\u001b[0;34m\u001b[0m\u001b[0;34m\u001b[0m\u001b[0m\n\u001b[1;32m    158\u001b[0m             \u001b[0;32mtry\u001b[0m\u001b[0;34m:\u001b[0m\u001b[0;34m\u001b[0m\u001b[0;34m\u001b[0m\u001b[0m\n\u001b[0;32m--> 159\u001b[0;31m                 \u001b[0;32mawait\u001b[0m \u001b[0mgetter\u001b[0m\u001b[0;34m\u001b[0m\u001b[0;34m\u001b[0m\u001b[0m\n\u001b[0m\u001b[1;32m    160\u001b[0m             \u001b[0;32mexcept\u001b[0m\u001b[0;34m:\u001b[0m\u001b[0;34m\u001b[0m\u001b[0;34m\u001b[0m\u001b[0m\n\u001b[1;32m    161\u001b[0m                 \u001b[0mgetter\u001b[0m\u001b[0;34m.\u001b[0m\u001b[0mcancel\u001b[0m\u001b[0;34m(\u001b[0m\u001b[0;34m)\u001b[0m  \u001b[0;31m# Just in case getter is not done yet.\u001b[0m\u001b[0;34m\u001b[0m\u001b[0;34m\u001b[0m\u001b[0m\n",
      "\u001b[0;31mCancelledError\u001b[0m: "
     ]
    },
    {
     "name": "stdout",
     "output_type": "stream",
     "text": [
      "[Telescope] delta Alt = -000.131 | delta Az= -000.532\n",
      "[Telescope] delta Alt = -000.131 | delta Az= -000.536\n",
      "[Telescope] delta Alt = -000.131 | delta Az= -000.540\n",
      "[Telescope] delta Alt = -000.131 | delta Az= -000.544\n",
      "[Telescope] delta Alt = -000.131 | delta Az= -000.548\n",
      "[Telescope] delta Alt = -000.131 | delta Az= -000.552\n",
      "[Telescope] delta Alt = -000.131 | delta Az= -000.557\n",
      "[Telescope] delta Alt = -000.134 | delta Az= -000.561\n"
     ]
    }
   ],
   "source": [
    "await attcs.slew_object(name = \"HD 34816\", pa_ang=0.0, slew_timeout=240.)"
   ]
  },
  {
   "cell_type": "code",
   "execution_count": 176,
   "metadata": {},
   "outputs": [
    {
     "name": "stdout",
     "output_type": "stream",
     "text": [
      "Generating group_id\n",
      "OBJECT 0001 - 0001\n",
      "[Telescope] delta Alt = -000.131 | delta Az= -000.563\n",
      "[Telescope] delta Alt = -000.131 | delta Az= -000.567\n",
      "[Telescope] delta Alt = -000.131 | delta Az= -000.571\n",
      "Waiting for header service LFO before continuing\n",
      "RemoteEvent(ATHeaderService, 0, logMessage) falling behind; read 12 messages\n",
      "[Telescope] delta Alt = -000.131 | delta Az= -000.575\n",
      "[Telescope] delta Alt = -000.131 | delta Az= -000.579\n",
      "[Telescope] delta Alt = -000.131 | delta Az= -000.583\n"
     ]
    },
    {
     "data": {
      "text/plain": [
       "array([2020022000315])"
      ]
     },
     "execution_count": 176,
     "metadata": {},
     "output_type": "execute_result"
    },
    {
     "name": "stdout",
     "output_type": "stream",
     "text": [
      "[Telescope] delta Alt = -000.131 | delta Az= -000.588\n",
      "[Telescope] delta Alt = -000.131 | delta Az= -000.592\n",
      "[Telescope] delta Alt = -000.131 | delta Az= -000.596\n",
      "[Telescope] delta Alt = -000.131 | delta Az= -000.600\n",
      "[Telescope] delta Alt = -000.131 | delta Az= -000.604\n",
      "[Telescope] delta Alt = -000.131 | delta Az= -000.608\n",
      "[Telescope] delta Alt = -000.131 | delta Az= -000.613\n",
      "[Telescope] delta Alt = -000.131 | delta Az= -000.617\n",
      "[Telescope] delta Alt = -000.134 | delta Az= -000.621\n",
      "[Telescope] delta Alt = -000.131 | delta Az= -000.623\n",
      "[Telescope] delta Alt = -000.131 | delta Az= -000.627\n",
      "[Telescope] delta Alt = -000.131 | delta Az= -000.631\n",
      "[Telescope] delta Alt = -000.131 | delta Az= -000.635\n",
      "[Telescope] delta Alt = -000.131 | delta Az= -000.639\n",
      "[Telescope] delta Alt = -000.131 | delta Az= -000.644\n",
      "[Telescope] delta Alt = -000.131 | delta Az= -000.648\n",
      "[Telescope] delta Alt = -000.131 | delta Az= -000.652\n",
      "[Telescope] delta Alt = -000.131 | delta Az= -000.656\n",
      "[Telescope] delta Alt = -000.131 | delta Az= -000.660\n",
      "[Telescope] delta Alt = -000.131 | delta Az= -000.664\n",
      "[Telescope] delta Alt = -000.131 | delta Az= -000.668\n",
      "[Telescope] delta Alt = -000.131 | delta Az= -000.672\n",
      "[Telescope] delta Alt = -000.131 | delta Az= -000.677\n",
      "[Telescope] delta Alt = -000.131 | delta Az= -000.681\n",
      "[Telescope] delta Alt = -000.131 | delta Az= -000.685\n",
      "[Telescope] delta Alt = -000.131 | delta Az= -000.689\n",
      "[Telescope] delta Alt = -000.134 | delta Az= -000.693\n",
      "[Telescope] delta Alt = -000.131 | delta Az= -000.695\n",
      "[Telescope] delta Alt = -000.131 | delta Az= -000.699\n",
      "[Telescope] delta Alt = -000.131 | delta Az= -000.703\n",
      "[Telescope] delta Alt = -000.131 | delta Az= -000.707\n",
      "[Telescope] delta Alt = -000.131 | delta Az= -000.712\n",
      "[Telescope] delta Alt = -000.134 | delta Az= -000.716\n",
      "[Telescope] delta Alt = -000.131 | delta Az= -000.718\n",
      "[Telescope] delta Alt = -000.131 | delta Az= -000.722\n",
      "[Telescope] delta Alt = -000.131 | delta Az= -000.726\n",
      "[Telescope] delta Alt = -000.131 | delta Az= -000.730\n",
      "[Telescope] delta Alt = -000.131 | delta Az= -000.734\n",
      "[Telescope] delta Alt = -000.131 | delta Az= -000.738\n"
     ]
    }
   ],
   "source": [
    "await latiss.take_object(exptime=1., n=1, filter='empty_1',grating='ronchi90lpmm') "
   ]
  },
  {
   "cell_type": "code",
   "execution_count": null,
   "metadata": {},
   "outputs": [],
   "source": [
    "await attcs.slew_object(name = \"HD 34816\", pa_ang=0.0, slew_timeout=240.)"
   ]
  },
  {
   "cell_type": "code",
   "execution_count": 178,
   "metadata": {},
   "outputs": [
    {
     "name": "stdout",
     "output_type": "stream",
     "text": [
      "Applying Az/El offset: 36000/ 0.0 \n",
      "Waiting for telescope to settle.\n",
      "[Telescope] delta Alt = -000.180 | delta Az= -011.078\n",
      "Done\n",
      "[Telescope] delta Alt = -000.128 | delta Az= -010.083\n",
      "[Telescope] delta Alt = -000.128 | delta Az= -009.088\n",
      "[Telescope] delta Alt = -000.131 | delta Az= -008.590\n",
      "[Telescope] delta Alt = -000.128 | delta Az= -007.593\n",
      "[Telescope] delta Alt = -000.128 | delta Az= -006.598\n",
      "[Telescope] delta Alt = -000.128 | delta Az= -005.615\n",
      "[Telescope] delta Alt = -000.128 | delta Az= -004.658\n",
      "[Telescope] delta Alt = -000.128 | delta Az= -003.746\n",
      "[Telescope] delta Alt = -000.128 | delta Az= -002.901\n",
      "[Telescope] delta Alt = -000.128 | delta Az= -002.143\n",
      "[Telescope] delta Alt = -000.128 | delta Az= -001.493\n",
      "[Telescope] delta Alt = -000.128 | delta Az= -000.963\n",
      "[Telescope] delta Alt = -000.128 | delta Az= -000.563\n",
      "[Telescope] delta Alt = -000.128 | delta Az= -000.290\n",
      "[Telescope] delta Alt = -000.128 | delta Az= -000.135\n",
      "[Telescope] delta Alt = -000.128 | delta Az= -000.074\n",
      "[Telescope] delta Alt = -000.128 | delta Az= -000.064\n",
      "Got True\n",
      "Waiting for telescope to settle.\n",
      "[Telescope] delta Alt = -000.128 | delta Az= -000.064\n",
      "[Telescope] delta Alt = -000.128 | delta Az= -000.064\n",
      "Telescope in position.\n",
      "[Telescope] delta Alt = -000.128 | delta Az= -000.064\n",
      "[Telescope] delta Alt = -000.128 | delta Az= -000.064\n",
      "[Telescope] delta Alt = -000.128 | delta Az= -000.064\n",
      "[Telescope] delta Alt = -000.128 | delta Az= -000.064\n",
      "[Telescope] delta Alt = -000.128 | delta Az= -000.064\n",
      "[Telescope] delta Alt = -000.128 | delta Az= -000.064\n",
      "[Telescope] delta Alt = -000.128 | delta Az= -000.064\n",
      "[Telescope] delta Alt = -000.128 | delta Az= -000.064\n",
      "[Telescope] delta Alt = -000.128 | delta Az= -000.064\n",
      "[Telescope] delta Alt = -000.128 | delta Az= -000.064\n",
      "[Telescope] delta Alt = -000.128 | delta Az= -000.064\n",
      "[Telescope] delta Alt = -000.128 | delta Az= -000.064\n",
      "[Telescope] delta Alt = -000.128 | delta Az= -000.064\n",
      "[Telescope] delta Alt = -000.128 | delta Az= -000.064\n",
      "[Telescope] delta Alt = -000.128 | delta Az= -000.064\n",
      "[Telescope] delta Alt = -000.128 | delta Az= -000.064\n",
      "[Telescope] delta Alt = -000.128 | delta Az= -000.064\n",
      "[Telescope] delta Alt = -000.128 | delta Az= -000.064\n",
      "[Telescope] delta Alt = -000.128 | delta Az= -000.064\n",
      "[Telescope] delta Alt = -000.128 | delta Az= -000.064\n",
      "[Telescope] delta Alt = -000.128 | delta Az= -000.064\n",
      "[Telescope] delta Alt = -000.128 | delta Az= -000.064\n",
      "[Telescope] delta Alt = -000.128 | delta Az= -000.064\n",
      "[Telescope] delta Alt = -000.128 | delta Az= -000.064\n",
      "[Telescope] delta Alt = -000.128 | delta Az= -000.064\n",
      "[Telescope] delta Alt = -000.128 | delta Az= -000.064\n",
      "[Telescope] delta Alt = -000.128 | delta Az= -000.064\n",
      "[Telescope] delta Alt = -000.128 | delta Az= -000.064\n",
      "[Telescope] delta Alt = -000.128 | delta Az= -000.064\n",
      "[Telescope] delta Alt = -000.128 | delta Az= -000.064\n",
      "[Telescope] delta Alt = -000.128 | delta Az= -000.064\n",
      "[Telescope] delta Alt = -000.128 | delta Az= -000.064\n",
      "[Telescope] delta Alt = -000.128 | delta Az= -000.064\n",
      "[Telescope] delta Alt = -000.128 | delta Az= -000.064\n",
      "[Telescope] delta Alt = -000.131 | delta Az= -000.066\n",
      "[Telescope] delta Alt = -000.128 | delta Az= -000.064\n",
      "[Telescope] delta Alt = -000.128 | delta Az= -000.064\n",
      "[Telescope] delta Alt = -000.128 | delta Az= -000.064\n",
      "[Telescope] delta Alt = -000.128 | delta Az= -000.064\n",
      "[Telescope] delta Alt = -000.128 | delta Az= -000.064\n",
      "[Telescope] delta Alt = -000.128 | delta Az= -000.064\n",
      "[Telescope] delta Alt = -000.128 | delta Az= -000.064\n",
      "[Telescope] delta Alt = -000.128 | delta Az= -000.064\n",
      "[Telescope] delta Alt = -000.128 | delta Az= -000.064\n",
      "[Telescope] delta Alt = -000.128 | delta Az= -000.064\n",
      "[Telescope] delta Alt = -000.128 | delta Az= -000.064\n",
      "[Telescope] delta Alt = -000.128 | delta Az= -000.064\n",
      "[Telescope] delta Alt = -000.128 | delta Az= -000.064\n",
      "[Telescope] delta Alt = -000.128 | delta Az= -000.064\n",
      "[Telescope] delta Alt = -000.128 | delta Az= -000.064\n",
      "[Telescope] delta Alt = -000.128 | delta Az= -000.064\n",
      "[Telescope] delta Alt = -000.128 | delta Az= -000.064\n",
      "[Telescope] delta Alt = -000.128 | delta Az= -000.064\n",
      "[Telescope] delta Alt = -000.128 | delta Az= -000.064\n",
      "[Telescope] delta Alt = -000.128 | delta Az= -000.064\n",
      "[Telescope] delta Alt = -000.128 | delta Az= -000.064\n",
      "[Telescope] delta Alt = -000.128 | delta Az= -000.064\n",
      "[Telescope] delta Alt = -000.128 | delta Az= -000.064\n",
      "[Telescope] delta Alt = -000.128 | delta Az= -000.064\n",
      "[Telescope] delta Alt = -000.128 | delta Az= -000.064\n",
      "[Telescope] delta Alt = -000.128 | delta Az= -000.064\n",
      "[Telescope] delta Alt = -000.128 | delta Az= -000.064\n",
      "[Telescope] delta Alt = -000.128 | delta Az= -000.064\n",
      "[Telescope] delta Alt = -000.128 | delta Az= -000.064\n",
      "[Telescope] delta Alt = -000.128 | delta Az= -000.064\n",
      "[Telescope] delta Alt = -000.128 | delta Az= -000.064\n",
      "[Telescope] delta Alt = -000.128 | delta Az= -000.064\n",
      "[Telescope] delta Alt = -000.128 | delta Az= -000.064\n",
      "[Telescope] delta Alt = -000.128 | delta Az= -000.064\n",
      "[Telescope] delta Alt = -000.128 | delta Az= -000.064\n",
      "[Telescope] delta Alt = -000.131 | delta Az= -000.066\n",
      "[Telescope] delta Alt = -000.128 | delta Az= -000.064\n",
      "[Telescope] delta Alt = -000.128 | delta Az= -000.064\n",
      "[Telescope] delta Alt = -000.131 | delta Az= -000.066\n",
      "[Telescope] delta Alt = -000.128 | delta Az= -000.064\n",
      "[Telescope] delta Alt = -000.128 | delta Az= -000.064\n",
      "[Telescope] delta Alt = -000.128 | delta Az= -000.064\n",
      "[Telescope] delta Alt = -000.128 | delta Az= -000.064\n",
      "[Telescope] delta Alt = -000.128 | delta Az= -000.064\n",
      "[Telescope] delta Alt = -000.128 | delta Az= -000.064\n",
      "[Telescope] delta Alt = -000.128 | delta Az= -000.064\n",
      "[Telescope] delta Alt = -000.128 | delta Az= -000.064\n"
     ]
    }
   ],
   "source": [
    "await attcs.offset_azel(az = 10 * 3600, el = 0.0 )"
   ]
  },
  {
   "cell_type": "code",
   "execution_count": null,
   "metadata": {},
   "outputs": [],
   "source": [
    "#adjust focus to account for addition of glass "
   ]
  },
  {
   "cell_type": "code",
   "execution_count": 5,
   "metadata": {},
   "outputs": [
    {
     "name": "stdout",
     "output_type": "stream",
     "text": [
      "Slewing to HD 185975: 20 28 18.7402 -87 28 19.938\n",
      "Parallactic angle: -157.18416207415635 | Sky Angle: -191.5447356256488\n",
      "Sending command\n",
      "Stop tracking.\n",
      "Mount tracking state is 9\n",
      "RemoteEvent(ATDomeTrajectory, 0, logMessage) falling behind; read 42 messages\n",
      "RemoteTelemetry(ATDome, 0, position) falling behind; read 11 messages\n",
      "RemoteTelemetry(ATPtg, 0, currentTargetStatus) falling behind; read 11 messages\n",
      "RemoteTelemetry(ATPtg, 0, timeAndDate) falling behind; read 11 messages\n",
      "RemoteTelemetry(ATPtg, 0, mountStatus) falling behind; read 11 messages\n",
      "RemoteTelemetry(ATPtg, 0, guidingAndOffsets) falling behind; read 11 messages\n",
      "RemoteEvent(ATMCS, 0, target) falling behind; read 43 messages\n",
      "Tracking state: 10.\n",
      "Tracking state: 8.\n",
      "In Position: True.\n",
      "In Position: False.\n",
      "Scheduling check coroutines\n",
      "process as completed...\n",
      "Got False\n",
      "Telescope not in position\n",
      "atmcs: <State.ENABLED: 2>\n",
      "atptg: <State.ENABLED: 2>\n",
      "ataos: <State.ENABLED: 2>\n",
      "atpneumatics: <State.ENABLED: 2>\n",
      "athexapod: <State.ENABLED: 2>\n",
      "atdome: <State.ENABLED: 2>\n",
      "atdometrajectory: <State.ENABLED: 2>\n",
      "[Telescope] delta Alt = +000.004 | delta Az= -000.009 [Dome] delta Az = +002.936\n",
      "[Telescope] delta Alt = +000.002 | delta Az= -000.009 [Dome] delta Az = +002.936\n",
      "Got True\n",
      "Waiting for telescope to settle.\n",
      "[Telescope] delta Alt = +000.002 | delta Az= -000.009 [Dome] delta Az = +002.936\n",
      "[Telescope] delta Alt = +000.003 | delta Az= -000.006 [Dome] delta Az = +002.936\n",
      "Telescope in position.\n",
      "ATDome in position.\n",
      "['Telescope in position.', 'ATDome in position.']\n"
     ]
    }
   ],
   "source": [
    "await attcs.slew_object(name = \"HD 185975\", pa_ang=0.0, slew_timeout=240.)"
   ]
  },
  {
   "cell_type": "code",
   "execution_count": 6,
   "metadata": {},
   "outputs": [
    {
     "name": "stdout",
     "output_type": "stream",
     "text": [
      "Generating group_id\n",
      "OBJECT 0001 - 0001\n",
      "Waiting for header service LFO before continuing\n"
     ]
    },
    {
     "data": {
      "text/plain": [
       "array([2020022000316])"
      ]
     },
     "execution_count": 6,
     "metadata": {},
     "output_type": "execute_result"
    }
   ],
   "source": [
    "await latiss.take_object(exptime=1., n=1, filter='empty_1',grating='ronchi90lpmm') "
   ]
  },
  {
   "cell_type": "code",
   "execution_count": null,
   "metadata": {},
   "outputs": [],
   "source": [
    "#Robert's offset should put it in position. "
   ]
  },
  {
   "cell_type": "code",
   "execution_count": 7,
   "metadata": {},
   "outputs": [
    {
     "name": "stdout",
     "output_type": "stream",
     "text": [
      "Generating group_id\n",
      "OBJECT 0001 - 0001\n",
      "Waiting for header service LFO before continuing\n",
      "RemoteEvent(ATHeaderService, 0, logMessage) falling behind; read 11 messages\n"
     ]
    },
    {
     "data": {
      "text/plain": [
       "array([2020022000317])"
      ]
     },
     "execution_count": 7,
     "metadata": {},
     "output_type": "execute_result"
    }
   ],
   "source": [
    "await latiss.take_object(exptime=1., n=1, filter='empty_1',grating='ronchi90lpmm') "
   ]
  },
  {
   "cell_type": "code",
   "execution_count": 8,
   "metadata": {},
   "outputs": [
    {
     "name": "stdout",
     "output_type": "stream",
     "text": [
      "Generating group_id\n",
      "OBJECT 0001 - 0001\n",
      "Waiting for header service LFO before continuing\n",
      "RemoteEvent(ATHeaderService, 0, logMessage) falling behind; read 10 messages\n"
     ]
    },
    {
     "data": {
      "text/plain": [
       "array([2020022000318])"
      ]
     },
     "execution_count": 8,
     "metadata": {},
     "output_type": "execute_result"
    }
   ],
   "source": [
    "await latiss.take_object(exptime=60., n=1, filter='empty_1',grating='ronchi90lpmm') "
   ]
  },
  {
   "cell_type": "code",
   "execution_count": 9,
   "metadata": {},
   "outputs": [
    {
     "ename": "CancelledError",
     "evalue": "",
     "output_type": "error",
     "traceback": [
      "\u001b[0;31m\u001b[0m",
      "\u001b[0;31mCancelledError\u001b[0mTraceback (most recent call last)",
      "\u001b[0;32m<ipython-input-9-e40e872a8f89>\u001b[0m in \u001b[0;36masync-def-wrapper\u001b[0;34m()\u001b[0m\n",
      "\u001b[0;32m~/repos/ts_salobj/python/lsst/ts/salobj/topics/read_topic.py\u001b[0m in \u001b[0;36mnext\u001b[0;34m(self, flush, timeout)\u001b[0m\n\u001b[1;32m    382\u001b[0m         \u001b[0;32mif\u001b[0m \u001b[0mflush\u001b[0m\u001b[0;34m:\u001b[0m\u001b[0;34m\u001b[0m\u001b[0;34m\u001b[0m\u001b[0m\n\u001b[1;32m    383\u001b[0m             \u001b[0mself\u001b[0m\u001b[0;34m.\u001b[0m\u001b[0mflush\u001b[0m\u001b[0;34m(\u001b[0m\u001b[0;34m)\u001b[0m\u001b[0;34m\u001b[0m\u001b[0;34m\u001b[0m\u001b[0m\n\u001b[0;32m--> 384\u001b[0;31m         \u001b[0;32mreturn\u001b[0m \u001b[0;32mawait\u001b[0m \u001b[0mself\u001b[0m\u001b[0;34m.\u001b[0m\u001b[0m_next\u001b[0m\u001b[0;34m(\u001b[0m\u001b[0mtimeout\u001b[0m\u001b[0;34m=\u001b[0m\u001b[0mtimeout\u001b[0m\u001b[0;34m)\u001b[0m\u001b[0;34m\u001b[0m\u001b[0;34m\u001b[0m\u001b[0m\n\u001b[0m\u001b[1;32m    385\u001b[0m \u001b[0;34m\u001b[0m\u001b[0m\n\u001b[1;32m    386\u001b[0m     \u001b[0;32masync\u001b[0m \u001b[0;32mdef\u001b[0m \u001b[0m_next\u001b[0m\u001b[0;34m(\u001b[0m\u001b[0mself\u001b[0m\u001b[0;34m,\u001b[0m \u001b[0;34m*\u001b[0m\u001b[0;34m,\u001b[0m \u001b[0mtimeout\u001b[0m\u001b[0;34m=\u001b[0m\u001b[0;32mNone\u001b[0m\u001b[0;34m)\u001b[0m\u001b[0;34m:\u001b[0m\u001b[0;34m\u001b[0m\u001b[0;34m\u001b[0m\u001b[0m\n",
      "\u001b[0;32m~/repos/ts_salobj/python/lsst/ts/salobj/topics/read_topic.py\u001b[0m in \u001b[0;36m_next\u001b[0;34m(self, timeout)\u001b[0m\n\u001b[1;32m    395\u001b[0m         \u001b[0;32mif\u001b[0m \u001b[0mself\u001b[0m\u001b[0;34m.\u001b[0m\u001b[0m_next_task\u001b[0m\u001b[0;34m.\u001b[0m\u001b[0mdone\u001b[0m\u001b[0;34m(\u001b[0m\u001b[0;34m)\u001b[0m\u001b[0;34m:\u001b[0m\u001b[0;34m\u001b[0m\u001b[0;34m\u001b[0m\u001b[0m\n\u001b[1;32m    396\u001b[0m             \u001b[0mself\u001b[0m\u001b[0;34m.\u001b[0m\u001b[0m_next_task\u001b[0m \u001b[0;34m=\u001b[0m \u001b[0masyncio\u001b[0m\u001b[0;34m.\u001b[0m\u001b[0mFuture\u001b[0m\u001b[0;34m(\u001b[0m\u001b[0;34m)\u001b[0m\u001b[0;34m\u001b[0m\u001b[0;34m\u001b[0m\u001b[0m\n\u001b[0;32m--> 397\u001b[0;31m         \u001b[0;32mawait\u001b[0m \u001b[0masyncio\u001b[0m\u001b[0;34m.\u001b[0m\u001b[0mwait_for\u001b[0m\u001b[0;34m(\u001b[0m\u001b[0mself\u001b[0m\u001b[0;34m.\u001b[0m\u001b[0m_next_task\u001b[0m\u001b[0;34m,\u001b[0m \u001b[0mtimeout\u001b[0m\u001b[0;34m=\u001b[0m\u001b[0mtimeout\u001b[0m\u001b[0;34m)\u001b[0m\u001b[0;34m\u001b[0m\u001b[0;34m\u001b[0m\u001b[0m\n\u001b[0m\u001b[1;32m    398\u001b[0m         \u001b[0;32mreturn\u001b[0m \u001b[0mself\u001b[0m\u001b[0;34m.\u001b[0m\u001b[0m_data_queue\u001b[0m\u001b[0;34m.\u001b[0m\u001b[0mpopleft\u001b[0m\u001b[0;34m(\u001b[0m\u001b[0;34m)\u001b[0m\u001b[0;34m\u001b[0m\u001b[0;34m\u001b[0m\u001b[0m\n\u001b[1;32m    399\u001b[0m \u001b[0;34m\u001b[0m\u001b[0m\n",
      "\u001b[0;32m/opt/lsst/software/stack/python/miniconda3-4.7.10/envs/lsst-scipipe-4d7b902/lib/python3.7/asyncio/tasks.py\u001b[0m in \u001b[0;36mwait_for\u001b[0;34m(fut, timeout, loop)\u001b[0m\n\u001b[1;32m    407\u001b[0m         \u001b[0;31m# wait until the future completes or the timeout\u001b[0m\u001b[0;34m\u001b[0m\u001b[0;34m\u001b[0m\u001b[0;34m\u001b[0m\u001b[0m\n\u001b[1;32m    408\u001b[0m         \u001b[0;32mtry\u001b[0m\u001b[0;34m:\u001b[0m\u001b[0;34m\u001b[0m\u001b[0;34m\u001b[0m\u001b[0m\n\u001b[0;32m--> 409\u001b[0;31m             \u001b[0;32mawait\u001b[0m \u001b[0mwaiter\u001b[0m\u001b[0;34m\u001b[0m\u001b[0;34m\u001b[0m\u001b[0m\n\u001b[0m\u001b[1;32m    410\u001b[0m         \u001b[0;32mexcept\u001b[0m \u001b[0mfutures\u001b[0m\u001b[0;34m.\u001b[0m\u001b[0mCancelledError\u001b[0m\u001b[0;34m:\u001b[0m\u001b[0;34m\u001b[0m\u001b[0;34m\u001b[0m\u001b[0m\n\u001b[1;32m    411\u001b[0m             \u001b[0mfut\u001b[0m\u001b[0;34m.\u001b[0m\u001b[0mremove_done_callback\u001b[0m\u001b[0;34m(\u001b[0m\u001b[0mcb\u001b[0m\u001b[0;34m)\u001b[0m\u001b[0;34m\u001b[0m\u001b[0;34m\u001b[0m\u001b[0m\n",
      "\u001b[0;31mCancelledError\u001b[0m: "
     ]
    }
   ],
   "source": [
    "best_focus_fit = -0.09\n",
    "focus_adjust = 0.023\n",
    "attcs.athexapod.evt_positionUpdate.flush() \n",
    "await attcs.ataos.cmd_applyFocusOffset.set_start(offset=best_focus_fit + focus_adjust )\n",
    "await attcs.athexapod.evt_positionUpdate.next(flush=False, timeout=attcs.long_timeout)"
   ]
  },
  {
   "cell_type": "code",
   "execution_count": 10,
   "metadata": {},
   "outputs": [
    {
     "name": "stdout",
     "output_type": "stream",
     "text": [
      "Generating group_id\n",
      "OBJECT 0001 - 0001\n",
      "Waiting for header service LFO before continuing\n",
      "RemoteEvent(ATHeaderService, 0, logMessage) falling behind; read 10 messages\n"
     ]
    },
    {
     "data": {
      "text/plain": [
       "array([2020022000319])"
      ]
     },
     "execution_count": 10,
     "metadata": {},
     "output_type": "execute_result"
    }
   ],
   "source": [
    "await latiss.take_object(exptime=60., n=1, filter='quadnotch1',grating='ronchi90lpmm') "
   ]
  },
  {
   "cell_type": "code",
   "execution_count": 11,
   "metadata": {},
   "outputs": [
    {
     "name": "stdout",
     "output_type": "stream",
     "text": [
      "Generating group_id\n",
      "OBJECT 0001 - 0001\n",
      "Waiting for header service LFO before continuing\n"
     ]
    },
    {
     "data": {
      "text/plain": [
       "array([2020022000320])"
      ]
     },
     "execution_count": 11,
     "metadata": {},
     "output_type": "execute_result"
    }
   ],
   "source": [
    "await latiss.take_object(exptime=120., n=1, filter='empty_1',grating='ronchi90lpmm') "
   ]
  },
  {
   "cell_type": "code",
   "execution_count": 12,
   "metadata": {},
   "outputs": [
    {
     "name": "stdout",
     "output_type": "stream",
     "text": [
      "Generating group_id\n",
      "OBJECT 0001 - 0001\n",
      "Waiting for header service LFO before continuing\n"
     ]
    },
    {
     "data": {
      "text/plain": [
       "array([2020022000321])"
      ]
     },
     "execution_count": 12,
     "metadata": {},
     "output_type": "execute_result"
    }
   ],
   "source": [
    "await latiss.take_object(exptime=120., n=1, filter='quadnotch1',grating='ronchi90lpmm') "
   ]
  },
  {
   "cell_type": "code",
   "execution_count": 13,
   "metadata": {},
   "outputs": [
    {
     "name": "stdout",
     "output_type": "stream",
     "text": [
      "Generating group_id\n",
      "OBJECT 0001 - 0001\n",
      "Waiting for header service LFO before continuing\n"
     ]
    },
    {
     "data": {
      "text/plain": [
       "array([2020022000322])"
      ]
     },
     "execution_count": 13,
     "metadata": {},
     "output_type": "execute_result"
    }
   ],
   "source": [
    "await latiss.take_object(exptime=120., n=1, filter='empty_1',grating='ronchi90lpmm') "
   ]
  },
  {
   "cell_type": "code",
   "execution_count": 14,
   "metadata": {},
   "outputs": [
    {
     "name": "stdout",
     "output_type": "stream",
     "text": [
      "Generating group_id\n",
      "OBJECT 0001 - 0001\n",
      "Waiting for header service LFO before continuing\n",
      "RemoteEvent(ATHeaderService, 0, logMessage) falling behind; read 12 messages\n"
     ]
    },
    {
     "data": {
      "text/plain": [
       "array([2020022000323])"
      ]
     },
     "execution_count": 14,
     "metadata": {},
     "output_type": "execute_result"
    }
   ],
   "source": [
    "await latiss.take_object(exptime=120., n=1, filter='quadnotch1',grating='ronchi90lpmm') "
   ]
  },
  {
   "cell_type": "code",
   "execution_count": 15,
   "metadata": {},
   "outputs": [
    {
     "name": "stdout",
     "output_type": "stream",
     "text": [
      "Generating group_id\n",
      "OBJECT 0001 - 0001\n",
      "Waiting for header service LFO before continuing\n"
     ]
    },
    {
     "data": {
      "text/plain": [
       "array([2020022000324])"
      ]
     },
     "execution_count": 15,
     "metadata": {},
     "output_type": "execute_result"
    }
   ],
   "source": [
    "await latiss.take_object(exptime=120., n=1, filter='empty_1',grating='ronchi90lpmm') "
   ]
  },
  {
   "cell_type": "code",
   "execution_count": 16,
   "metadata": {},
   "outputs": [
    {
     "name": "stdout",
     "output_type": "stream",
     "text": [
      "Generating group_id\n",
      "OBJECT 0001 - 0001\n",
      "Waiting for header service LFO before continuing\n"
     ]
    },
    {
     "data": {
      "text/plain": [
       "array([2020022000325])"
      ]
     },
     "execution_count": 16,
     "metadata": {},
     "output_type": "execute_result"
    },
    {
     "name": "stdout",
     "output_type": "stream",
     "text": [
      "RemoteEvent(ATHeaderService, 0, logMessage) falling behind; read 11 messages\n",
      "RemoteEvent(ATHeaderService, 0, logMessage) falling behind; read 11 messages\n",
      "RemoteEvent(ATHeaderService, 0, logMessage) falling behind; read 12 messages\n",
      "RemoteEvent(ATMCS, 0, target) falling behind; read 100 messages\n",
      "RemoteEvent(ATDomeTrajectory, 0, logMessage) falling behind; read 46 messages\n",
      "RemoteEvent(ATHeaderService, 0, logMessage) falling behind; read 12 messages\n",
      "RemoteEvent(ATHeaderService, 0, logMessage) falling behind; read 12 messages\n",
      "RemoteEvent(ATMCS, 0, target) falling behind; read 100 messages\n",
      "RemoteEvent(ATDomeTrajectory, 0, logMessage) falling behind; read 44 messages\n",
      "RemoteEvent(ATHeaderService, 0, logMessage) falling behind; read 10 messages\n",
      "RemoteEvent(ATHeaderService, 0, logMessage) falling behind; read 15 messages\n",
      "RemoteEvent(ATMCS, 0, target) falling behind; read 62 messages\n",
      "RemoteEvent(ATMCS, 0, target) falling behind; read 47 messages\n",
      "RemoteEvent(ATDomeTrajectory, 0, logMessage) falling behind; read 21 messages\n",
      "RemoteEvent(ATDomeTrajectory, 0, logMessage) falling behind; read 15 messages\n",
      "RemoteEvent(ATMCS, 0, target) falling behind; read 98 messages\n",
      "RemoteEvent(ATDomeTrajectory, 0, logMessage) falling behind; read 10 messages\n",
      "RemoteEvent(ATMCS, 0, target) falling behind; read 28 messages\n",
      "RemoteEvent(ATDomeTrajectory, 0, logMessage) falling behind; read 24 messages\n",
      "RemoteEvent(ATMCS, 0, target) falling behind; read 10 messages\n",
      "RemoteEvent(ATMCS, 0, target) falling behind; read 22 messages\n",
      "RemoteEvent(ATHeaderService, 0, logMessage) falling behind; read 10 messages\n",
      "RemoteEvent(ATHeaderService, 0, logMessage) falling behind; read 15 messages\n",
      "RemoteEvent(ATHeaderService, 0, logMessage) falling behind; read 11 messages\n",
      "RemoteEvent(ATHeaderService, 0, logMessage) falling behind; read 12 messages\n",
      "RemoteEvent(ATHeaderService, 0, logMessage) falling behind; read 10 messages\n",
      "RemoteEvent(ATHeaderService, 0, logMessage) falling behind; read 12 messages\n",
      "RemoteEvent(ATHeaderService, 0, logMessage) falling behind; read 10 messages\n",
      "RemoteEvent(ATHeaderService, 0, logMessage) falling behind; read 13 messages\n"
     ]
    }
   ],
   "source": [
    "await latiss.take_object(exptime=120., n=1, filter='quadnotch1',grating='ronchi90lpmm') "
   ]
  },
  {
   "cell_type": "code",
   "execution_count": 19,
   "metadata": {},
   "outputs": [
    {
     "name": "stdout",
     "output_type": "stream",
     "text": [
      "Starting new HTTP connection (1): simbad.u-strasbg.fr:80\n",
      "http://simbad.u-strasbg.fr:80 \"POST /simbad/sim-script HTTP/1.1\" 200 None\n",
      "Slewing to HD 146233: 16 15 37.2703 -08 22 09.981\n",
      "RemoteEvent(ATMCS, 0, target) falling behind; read 19 messages\n",
      "RemoteEvent(ATDomeTrajectory, 0, logMessage) falling behind; read 19 messages\n",
      "Parallactic angle: -119.25079725526665 | Sky Angle: -168.340983765101\n",
      "Sending command\n",
      "Stop tracking.\n",
      "Mount tracking state is 9\n",
      "Tracking state: 10.\n",
      "Tracking state: 8.\n",
      "In Position: True.\n",
      "In Position: False.\n",
      "Scheduling check coroutines\n",
      "process as completed...\n",
      "Got False\n",
      "Telescope not in position\n",
      "atmcs: <State.ENABLED: 2>\n",
      "atptg: <State.ENABLED: 2>\n",
      "ataos: <State.ENABLED: 2>\n",
      "atpneumatics: <State.ENABLED: 2>\n",
      "athexapod: <State.ENABLED: 2>\n",
      "atdome: <State.ENABLED: 2>\n",
      "atdometrajectory: <State.ENABLED: 2>\n",
      "[Telescope] delta Alt = -042.262 | delta Az= -046.141 [Dome] delta Az = -036.828\n",
      "[Telescope] delta Alt = -040.766 | delta Az= -044.648 [Dome] delta Az = -036.268\n",
      "[Telescope] delta Alt = -036.794 | delta Az= -040.690 [Dome] delta Az = -034.768\n",
      "[Telescope] delta Alt = -032.786 | delta Az= -036.693 [Dome] delta Az = -032.638\n",
      "[Telescope] delta Alt = -028.782 | delta Az= -032.698 [Dome] delta Az = -029.378\n",
      "[Telescope] delta Alt = -024.794 | delta Az= -028.703 [Dome] delta Az = -025.218\n",
      "[Telescope] delta Alt = -020.867 | delta Az= -024.729 [Dome] delta Az = -020.128\n",
      "[Telescope] delta Alt = -017.075 | delta Az= -020.822 [Dome] delta Az = -014.168\n",
      "[Telescope] delta Alt = -013.492 | delta Az= -017.047 [Dome] delta Az = -007.398\n",
      "[Telescope] delta Alt = -010.204 | delta Az= -013.488 [Dome] delta Az = -001.508\n",
      "[Telescope] delta Alt = -007.303 | delta Az= -010.229 [Dome] delta Az = +002.242\n",
      "[Telescope] delta Alt = -004.847 | delta Az= -007.355 [Dome] delta Az = +002.982\n",
      "[Telescope] delta Alt = -002.893 | delta Az= -004.931 [Dome] delta Az = +002.982\n",
      "[Telescope] delta Alt = -001.455 | delta Az= -003.007 [Dome] delta Az = +002.982\n",
      "[Telescope] delta Alt = -000.529 | delta Az= -001.603 [Dome] delta Az = +002.982\n",
      "[Telescope] delta Alt = -000.040 | delta Az= -000.701 [Dome] delta Az = +002.982\n",
      "[Telescope] delta Alt = +000.120 | delta Az= -000.236 [Dome] delta Az = +002.982\n",
      "[Telescope] delta Alt = +000.133 | delta Az= -000.088 [Dome] delta Az = +002.982\n",
      "[Telescope] delta Alt = +000.131 | delta Az= -000.079 [Dome] delta Az = +002.982\n",
      "Got True\n",
      "Waiting for telescope to settle.\n",
      "[Telescope] delta Alt = +000.131 | delta Az= -000.079 [Dome] delta Az = +002.982\n",
      "[Telescope] delta Alt = +000.131 | delta Az= -000.079 [Dome] delta Az = +002.982\n",
      "Telescope in position.\n",
      "ATDome in position.\n",
      "['Telescope in position.', 'ATDome in position.']\n"
     ]
    }
   ],
   "source": [
    "await attcs.slew_object(name = \"HD 146233\", pa_ang=0.0, slew_timeout=240.) "
   ]
  },
  {
   "cell_type": "code",
   "execution_count": 20,
   "metadata": {},
   "outputs": [
    {
     "name": "stdout",
     "output_type": "stream",
     "text": [
      "Generating group_id\n",
      "OBJECT 0001 - 0001\n",
      "Waiting for header service LFO before continuing\n"
     ]
    },
    {
     "data": {
      "text/plain": [
       "array([2020022000355])"
      ]
     },
     "execution_count": 20,
     "metadata": {},
     "output_type": "execute_result"
    }
   ],
   "source": [
    "await latiss.take_object(exptime=1., n=1, filter='empty_1',grating='empty_1') "
   ]
  },
  {
   "cell_type": "code",
   "execution_count": 22,
   "metadata": {},
   "outputs": [
    {
     "data": {
      "text/plain": [
       "<lsst.ts.salobj.ddsutil.ATAOS_ackcmd_33d5c92b at 0x7f8bc538d860>"
      ]
     },
     "execution_count": 22,
     "metadata": {},
     "output_type": "execute_result"
    }
   ],
   "source": [
    "best_focus_fit = -0.09\n",
    "focus_adjust = 0.023\n",
    "await attcs.ataos.cmd_applyFocusOffset.set_start(offset=best_focus_fit )"
   ]
  },
  {
   "cell_type": "code",
   "execution_count": 23,
   "metadata": {},
   "outputs": [
    {
     "name": "stdout",
     "output_type": "stream",
     "text": [
      "Applying x/y offset: -50/ -70 \n",
      "Applying Az/El offset: 68.5109045276093/ 52.02168740831849 \n",
      "Waiting for telescope to settle.\n",
      "Done\n"
     ]
    }
   ],
   "source": [
    "await attcs.offset_xy(x=-50, y=-70, persistent = True)"
   ]
  },
  {
   "cell_type": "code",
   "execution_count": 24,
   "metadata": {},
   "outputs": [
    {
     "name": "stdout",
     "output_type": "stream",
     "text": [
      "Generating group_id\n",
      "OBJECT 0001 - 0001\n",
      "Waiting for header service LFO before continuing\n",
      "RemoteEvent(ATMCS, 0, target) falling behind; read 79 messages\n",
      "RemoteEvent(ATDomeTrajectory, 0, logMessage) falling behind; read 18 messages\n"
     ]
    },
    {
     "data": {
      "text/plain": [
       "array([2020022000356])"
      ]
     },
     "execution_count": 24,
     "metadata": {},
     "output_type": "execute_result"
    }
   ],
   "source": [
    "await latiss.take_object(exptime=1., n=1, filter='empty_1',grating='empty_1') "
   ]
  },
  {
   "cell_type": "code",
   "execution_count": 25,
   "metadata": {},
   "outputs": [
    {
     "data": {
      "text/plain": [
       "<lsst.ts.salobj.ddsutil.ATAOS_ackcmd_33d5c92b at 0x7f8bc4d77198>"
      ]
     },
     "execution_count": 25,
     "metadata": {},
     "output_type": "execute_result"
    }
   ],
   "source": [
    "focus_adjust = 0.023\n",
    "await attcs.ataos.cmd_applyFocusOffset.set_start(offset=0.4 )"
   ]
  },
  {
   "cell_type": "code",
   "execution_count": 26,
   "metadata": {},
   "outputs": [
    {
     "name": "stdout",
     "output_type": "stream",
     "text": [
      "Applying x/y offset: 10/ -10 \n",
      "Applying Az/El offset: 10.365862912834777/ -9.62023316101624 \n",
      "Waiting for telescope to settle.\n",
      "Done\n"
     ]
    }
   ],
   "source": [
    "await attcs.offset_xy(x=10, y=-10, persistent = True)"
   ]
  },
  {
   "cell_type": "code",
   "execution_count": 27,
   "metadata": {},
   "outputs": [
    {
     "name": "stdout",
     "output_type": "stream",
     "text": [
      "Generating group_id\n",
      "OBJECT 0001 - 0001\n",
      "Waiting for header service LFO before continuing\n",
      "RemoteEvent(ATHeaderService, 0, logMessage) falling behind; read 10 messages\n"
     ]
    },
    {
     "data": {
      "text/plain": [
       "array([2020022000357])"
      ]
     },
     "execution_count": 27,
     "metadata": {},
     "output_type": "execute_result"
    }
   ],
   "source": [
    "await latiss.take_object(exptime=1., n=1, filter='empty_1',grating='empty_1') "
   ]
  },
  {
   "cell_type": "code",
   "execution_count": 28,
   "metadata": {},
   "outputs": [
    {
     "name": "stdout",
     "output_type": "stream",
     "text": [
      "Applying x/y offset: 20/ 0 \n",
      "Applying Az/El offset: 0.9365507785403668/ -19.978059781650856 \n",
      "Waiting for telescope to settle.\n",
      "Done\n"
     ]
    }
   ],
   "source": [
    "#grating offset \n",
    "await attcs.offset_xy(x=20, y=0, persistent = True)"
   ]
  },
  {
   "cell_type": "code",
   "execution_count": 29,
   "metadata": {},
   "outputs": [
    {
     "name": "stdout",
     "output_type": "stream",
     "text": [
      "Generating group_id\n",
      "OBJECT 0001 - 0001\n",
      "RemoteEvent(ATHeaderService, 0, logMessage) falling behind; read 10 messages\n",
      "Waiting for header service LFO before continuing\n"
     ]
    },
    {
     "data": {
      "text/plain": [
       "array([2020022000358])"
      ]
     },
     "execution_count": 29,
     "metadata": {},
     "output_type": "execute_result"
    }
   ],
   "source": [
    "await latiss.take_object(exptime=10., n=1, filter='empty_1',grating='ronchi90lpmm') "
   ]
  },
  {
   "cell_type": "code",
   "execution_count": 30,
   "metadata": {},
   "outputs": [
    {
     "name": "stdout",
     "output_type": "stream",
     "text": [
      "Applying x/y offset: -10/ 0 \n",
      "Applying Az/El offset: -0.568641135720723/ 9.98381927214061 \n",
      "Waiting for telescope to settle.\n",
      "Done\n"
     ]
    }
   ],
   "source": [
    "await attcs.offset_xy(x=-10, y=0, persistent = True)"
   ]
  },
  {
   "cell_type": "code",
   "execution_count": 31,
   "metadata": {},
   "outputs": [
    {
     "name": "stdout",
     "output_type": "stream",
     "text": [
      "focus_positions = [-0.4  -0.35 -0.3  -0.25 -0.2  -0.15 -0.1  -0.05  0.  ]\n"
     ]
    }
   ],
   "source": [
    "import math \n",
    "#Focus units are given in mm \n",
    "focus_center = -0.2\n",
    "focus_step = 0.05\n",
    "n_steps = 9\n",
    "focus_positions = np.linspace(focus_center - focus_step * math.floor(n_steps / 2), focus_center + focus_step * math.ceil(n_steps / 2 - 1), n_steps)\n",
    "#focus_positions = [0.05, -0.05, -0.100, -0.150, -0.200, -0.250, -0.300, -0.3, -0.2, -0.2, -0.24, -0.26, -0.28]\n",
    "print ('focus_positions = ' + str(focus_positions))"
   ]
  },
  {
   "cell_type": "code",
   "execution_count": 32,
   "metadata": {},
   "outputs": [
    {
     "name": "stdout",
     "output_type": "stream",
     "text": [
      "Working on focus position -0.4\n",
      "Generating group_id\n",
      "ENGTEST 0001 - 0001\n",
      "Waiting for header service LFO before continuing\n",
      "Newest image id is = [2020022000359]\n",
      "Working on focus position -0.35000000000000003\n",
      "Generating group_id\n",
      "ENGTEST 0001 - 0001\n",
      "Waiting for header service LFO before continuing\n",
      "RemoteEvent(ATHeaderService, 0, logMessage) falling behind; read 14 messages\n",
      "Newest image id is = [2020022000360]\n",
      "Working on focus position -0.30000000000000004\n",
      "Generating group_id\n",
      "ENGTEST 0001 - 0001\n",
      "Waiting for header service LFO before continuing\n",
      "Newest image id is = [2020022000361]\n",
      "Working on focus position -0.25\n",
      "Generating group_id\n",
      "ENGTEST 0001 - 0001\n",
      "Waiting for header service LFO before continuing\n",
      "Newest image id is = [2020022000362]\n",
      "Working on focus position -0.2\n",
      "Generating group_id\n",
      "ENGTEST 0001 - 0001\n",
      "RemoteEvent(ATMCS, 0, target) falling behind; read 26 messages\n",
      "RemoteEvent(ATDomeTrajectory, 0, logMessage) falling behind; read 13 messages\n",
      "Waiting for header service LFO before continuing\n",
      "Newest image id is = [2020022000363]\n",
      "Working on focus position -0.15000000000000002\n",
      "Generating group_id\n",
      "ENGTEST 0001 - 0001\n",
      "RemoteEvent(ATMCS, 0, target) falling behind; read 62 messages\n",
      "RemoteEvent(ATDomeTrajectory, 0, logMessage) falling behind; read 15 messages\n",
      "RemoteEvent(ATDomeTrajectory, 0, logMessage) falling behind; read 61 messages\n",
      "Waiting for header service LFO before continuing\n",
      "RemoteEvent(ATHeaderService, 0, logMessage) falling behind; read 10 messages\n",
      "Newest image id is = [2020022000364]\n",
      "Working on focus position -0.09999999999999998\n",
      "Generating group_id\n",
      "ENGTEST 0001 - 0001\n",
      "Waiting for header service LFO before continuing\n",
      "Newest image id is = [2020022000365]\n",
      "Working on focus position -0.04999999999999999\n",
      "Generating group_id\n",
      "ENGTEST 0001 - 0001\n",
      "Waiting for header service LFO before continuing\n",
      "Newest image id is = [2020022000366]\n",
      "Working on focus position 0.0\n",
      "Generating group_id\n",
      "ENGTEST 0001 - 0001\n",
      "Waiting for header service LFO before continuing\n",
      "Newest image id is = [2020022000367]\n"
     ]
    },
    {
     "data": {
      "text/plain": [
       "<lsst.ts.salobj.ddsutil.ATAOS_ackcmd_33d5c92b at 0x7f8bdc9b6e48>"
      ]
     },
     "execution_count": 32,
     "metadata": {},
     "output_type": "execute_result"
    },
    {
     "name": "stdout",
     "output_type": "stream",
     "text": [
      "RemoteEvent(ATMCS, 0, target) falling behind; read 10 messages\n",
      "RemoteEvent(ATDomeTrajectory, 0, logMessage) falling behind; read 16 messages\n"
     ]
    }
   ],
   "source": [
    "#!!!!DO NOT RUN UNLESS YOU HAVE BEEN CLEARED TO CONTROL TELESCOPE!!!!! \n",
    "focus_images = [0 for focus_pos in focus_positions]\n",
    "for i in range(len(focus_positions)): \n",
    "    focus_pos = focus_positions[i] \n",
    "    print ('Working on focus position ' + str(focus_pos))\n",
    "    attcs.athexapod.evt_positionUpdate.flush() \n",
    "    await attcs.ataos.cmd_applyFocusOffset.set_start(offset=focus_pos)\n",
    "    await attcs.athexapod.evt_positionUpdate.next(flush=False, timeout=attcs.long_timeout)\n",
    "    focus_image = await latiss.take_engtest(exptime=10.0, n=1, filter='empty_1', grating='ronchi90lpmm') \n",
    "    print ('Newest image id is = ' +str(focus_image) )\n",
    "    focus_images[i] = int(focus_image)\n",
    "    \n",
    "#This resets the focus position after taking this sequence: \n",
    "await attcs.ataos.cmd_applyFocusOffset.set_start(offset = focus_center)"
   ]
  },
  {
   "cell_type": "code",
   "execution_count": 33,
   "metadata": {},
   "outputs": [
    {
     "name": "stdout",
     "output_type": "stream",
     "text": [
      "focus_positions = [0.   0.05 0.1  0.15 0.2  0.25 0.3  0.35 0.4 ]\n"
     ]
    }
   ],
   "source": [
    "import math \n",
    "#Focus units are given in mm \n",
    "focus_center = 0.2\n",
    "focus_step = 0.05\n",
    "n_steps = 9\n",
    "focus_positions = np.linspace(focus_center - focus_step * math.floor(n_steps / 2), focus_center + focus_step * math.ceil(n_steps / 2 - 1), n_steps)\n",
    "#focus_positions = [0.05, -0.05, -0.100, -0.150, -0.200, -0.250, -0.300, -0.3, -0.2, -0.2, -0.24, -0.26, -0.28]\n",
    "print ('focus_positions = ' + str(focus_positions))"
   ]
  },
  {
   "cell_type": "code",
   "execution_count": 34,
   "metadata": {},
   "outputs": [
    {
     "name": "stdout",
     "output_type": "stream",
     "text": [
      "Working on focus position 0.0\n",
      "Generating group_id\n",
      "ENGTEST 0001 - 0001\n",
      "Waiting for header service LFO before continuing\n",
      "RemoteEvent(ATHeaderService, 0, logMessage) falling behind; read 15 messages\n",
      "Newest image id is = [2020022000368]\n",
      "Working on focus position 0.05\n",
      "Generating group_id\n",
      "ENGTEST 0001 - 0001\n",
      "Waiting for header service LFO before continuing\n",
      "RemoteEvent(ATHeaderService, 0, logMessage) falling behind; read 41 messages\n",
      "Newest image id is = [2020022000369]\n",
      "Working on focus position 0.1\n",
      "Generating group_id\n",
      "ENGTEST 0001 - 0001\n",
      "Waiting for header service LFO before continuing\n",
      "Newest image id is = [2020022000370]\n",
      "Working on focus position 0.15000000000000002\n",
      "Generating group_id\n",
      "ENGTEST 0001 - 0001\n",
      "Waiting for header service LFO before continuing\n",
      "Newest image id is = [2020022000371]\n",
      "Working on focus position 0.2\n",
      "Generating group_id\n",
      "ENGTEST 0001 - 0001\n",
      "Waiting for header service LFO before continuing\n",
      "Newest image id is = [2020022000372]\n",
      "Working on focus position 0.25\n",
      "Generating group_id\n",
      "ENGTEST 0001 - 0001\n",
      "Waiting for header service LFO before continuing\n",
      "RemoteEvent(ATHeaderService, 0, logMessage) falling behind; read 14 messages\n",
      "Newest image id is = [2020022000373]\n",
      "Working on focus position 0.30000000000000004\n",
      "Generating group_id\n",
      "ENGTEST 0001 - 0001\n",
      "Waiting for header service LFO before continuing\n",
      "Newest image id is = [2020022000374]\n",
      "Working on focus position 0.35000000000000003\n",
      "RemoteEvent(ATMCS, 0, target) falling behind; read 61 messages\n",
      "RemoteEvent(ATDomeTrajectory, 0, logMessage) falling behind; read 14 messages\n",
      "Generating group_id\n",
      "ENGTEST 0001 - 0001\n",
      "RemoteEvent(ATDomeTrajectory, 0, logMessage) falling behind; read 10 messages\n",
      "RemoteEvent(ATHeaderService, 0, logMessage) falling behind; read 19 messages\n",
      "Waiting for header service LFO before continuing\n",
      "Newest image id is = [2020022000375]\n",
      "Working on focus position 0.4\n",
      "Generating group_id\n",
      "ENGTEST 0001 - 0001\n",
      "RemoteEvent(ATHeaderService, 0, logMessage) falling behind; read 14 messages\n",
      "Waiting for header service LFO before continuing\n",
      "Newest image id is = [2020022000376]\n"
     ]
    },
    {
     "data": {
      "text/plain": [
       "<lsst.ts.salobj.ddsutil.ATAOS_ackcmd_33d5c92b at 0x7f8bda6cc240>"
      ]
     },
     "execution_count": 34,
     "metadata": {},
     "output_type": "execute_result"
    }
   ],
   "source": [
    "#!!!!DO NOT RUN UNLESS YOU HAVE BEEN CLEARED TO CONTROL TELESCOPE!!!!! \n",
    "focus_images = [0 for focus_pos in focus_positions]\n",
    "for i in range(len(focus_positions)): \n",
    "    focus_pos = focus_positions[i] \n",
    "    print ('Working on focus position ' + str(focus_pos))\n",
    "    attcs.athexapod.evt_positionUpdate.flush() \n",
    "    await attcs.ataos.cmd_applyFocusOffset.set_start(offset=focus_pos)\n",
    "    await attcs.athexapod.evt_positionUpdate.next(flush=False, timeout=attcs.long_timeout)\n",
    "    focus_image = await latiss.take_engtest(exptime=10.0, n=1, filter='empty_1', grating='ronchi90lpmm') \n",
    "    print ('Newest image id is = ' +str(focus_image) )\n",
    "    focus_images[i] = int(focus_image)\n",
    "    \n",
    "#This resets the focus position after taking this sequence: \n",
    "await attcs.ataos.cmd_applyFocusOffset.set_start(offset = focus_center)"
   ]
  },
  {
   "cell_type": "code",
   "execution_count": 35,
   "metadata": {},
   "outputs": [
    {
     "name": "stdout",
     "output_type": "stream",
     "text": [
      "focus_positions = [0.04 0.06 0.08 0.1  0.12 0.14 0.16]\n"
     ]
    }
   ],
   "source": [
    "import math \n",
    "#Focus units are given in mm \n",
    "focus_center = 0.10\n",
    "focus_step = 0.02\n",
    "n_steps = 7\n",
    "focus_positions = np.linspace(focus_center - focus_step * math.floor(n_steps / 2), focus_center + focus_step * math.ceil(n_steps / 2 - 1), n_steps)\n",
    "#focus_positions = [0.05, -0.05, -0.100, -0.150, -0.200, -0.250, -0.300, -0.3, -0.2, -0.2, -0.24, -0.26, -0.28]\n",
    "print ('focus_positions = ' + str(focus_positions))"
   ]
  },
  {
   "cell_type": "code",
   "execution_count": 36,
   "metadata": {},
   "outputs": [
    {
     "name": "stdout",
     "output_type": "stream",
     "text": [
      "Working on focus position 0.04000000000000001\n",
      "Generating group_id\n",
      "ENGTEST 0001 - 0001\n",
      "Waiting for header service LFO before continuing\n",
      "RemoteEvent(ATHeaderService, 0, logMessage) falling behind; read 14 messages\n",
      "Newest image id is = [2020022000377]\n",
      "Working on focus position 0.06000000000000001\n",
      "Generating group_id\n",
      "ENGTEST 0001 - 0001\n",
      "Waiting for header service LFO before continuing\n",
      "Newest image id is = [2020022000378]\n",
      "Working on focus position 0.08000000000000002\n",
      "Generating group_id\n",
      "ENGTEST 0001 - 0001\n",
      "Waiting for header service LFO before continuing\n",
      "Newest image id is = [2020022000379]\n",
      "Working on focus position 0.1\n",
      "Generating group_id\n",
      "ENGTEST 0001 - 0001\n",
      "Waiting for header service LFO before continuing\n",
      "Newest image id is = [2020022000380]\n",
      "Working on focus position 0.12000000000000001\n",
      "Generating group_id\n",
      "ENGTEST 0001 - 0001\n",
      "Waiting for header service LFO before continuing\n",
      "Newest image id is = [2020022000381]\n",
      "Working on focus position 0.14\n",
      "Generating group_id\n",
      "ENGTEST 0001 - 0001\n",
      "Waiting for header service LFO before continuing\n",
      "Newest image id is = [2020022000382]\n",
      "Working on focus position 0.16\n",
      "Generating group_id\n",
      "ENGTEST 0001 - 0001\n",
      "RemoteEvent(ATHeaderService, 0, logMessage) falling behind; read 10 messages\n",
      "Waiting for header service LFO before continuing\n",
      "Newest image id is = [2020022000383]\n"
     ]
    },
    {
     "data": {
      "text/plain": [
       "<lsst.ts.salobj.ddsutil.ATAOS_ackcmd_33d5c92b at 0x7f8bec932240>"
      ]
     },
     "execution_count": 36,
     "metadata": {},
     "output_type": "execute_result"
    }
   ],
   "source": [
    "#!!!!DO NOT RUN UNLESS YOU HAVE BEEN CLEARED TO CONTROL TELESCOPE!!!!! \n",
    "focus_images = [0 for focus_pos in focus_positions]\n",
    "for i in range(len(focus_positions)): \n",
    "    focus_pos = focus_positions[i] \n",
    "    print ('Working on focus position ' + str(focus_pos))\n",
    "    attcs.athexapod.evt_positionUpdate.flush() \n",
    "    await attcs.ataos.cmd_applyFocusOffset.set_start(offset=focus_pos)\n",
    "    await attcs.athexapod.evt_positionUpdate.next(flush=False, timeout=attcs.long_timeout)\n",
    "    focus_image = await latiss.take_engtest(exptime=10.0, n=1, filter='empty_1', grating='ronchi90lpmm') \n",
    "    print ('Newest image id is = ' +str(focus_image) )\n",
    "    focus_images[i] = int(focus_image)\n",
    "    \n",
    "#This resets the focus position after taking this sequence: \n",
    "await attcs.ataos.cmd_applyFocusOffset.set_start(offset = focus_center)"
   ]
  },
  {
   "cell_type": "code",
   "execution_count": 37,
   "metadata": {},
   "outputs": [
    {
     "data": {
      "text/plain": [
       "<lsst.ts.salobj.ddsutil.ATAOS_ackcmd_33d5c92b at 0x7f8bc4cf2898>"
      ]
     },
     "execution_count": 37,
     "metadata": {},
     "output_type": "execute_result"
    }
   ],
   "source": [
    "best_focus_fit = 0.07\n",
    "await attcs.ataos.cmd_applyFocusOffset.set_start(offset=best_focus_fit )"
   ]
  },
  {
   "cell_type": "code",
   "execution_count": 38,
   "metadata": {},
   "outputs": [
    {
     "name": "stdout",
     "output_type": "stream",
     "text": [
      "Applying x/y offset: 10/ 0 \n",
      "Applying Az/El offset: 1.6889837218150725/ -9.85633471364704 \n",
      "Waiting for telescope to settle.\n",
      "Done\n"
     ]
    }
   ],
   "source": [
    "await attcs.offset_xy(x=+10, y=0, persistent = True)"
   ]
  },
  {
   "cell_type": "code",
   "execution_count": 39,
   "metadata": {},
   "outputs": [
    {
     "name": "stdout",
     "output_type": "stream",
     "text": [
      "Generating group_id\n",
      "OBJECT 0001 - 0001\n",
      "Waiting for header service LFO before continuing\n"
     ]
    },
    {
     "data": {
      "text/plain": [
       "array([2020022000384])"
      ]
     },
     "execution_count": 39,
     "metadata": {},
     "output_type": "execute_result"
    }
   ],
   "source": [
    "await latiss.take_object(exptime=1., n=1, filter='empty_1',grating='ronchi90lpmm') "
   ]
  },
  {
   "cell_type": "code",
   "execution_count": 40,
   "metadata": {},
   "outputs": [
    {
     "name": "stdout",
     "output_type": "stream",
     "text": [
      "Applying x/y offset: 0/ 10 \n",
      "Applying Az/El offset: -9.845249057162972/ -1.7524471468297167 \n",
      "Waiting for telescope to settle.\n",
      "Done\n"
     ]
    }
   ],
   "source": [
    "await attcs.offset_xy(x=0, y=10, persistent = True)"
   ]
  },
  {
   "cell_type": "code",
   "execution_count": 41,
   "metadata": {},
   "outputs": [
    {
     "name": "stdout",
     "output_type": "stream",
     "text": [
      "Generating group_id\n",
      "OBJECT 0001 - 0001\n",
      "RemoteEvent(ATHeaderService, 0, logMessage) falling behind; read 11 messages\n",
      "Waiting for header service LFO before continuing\n"
     ]
    },
    {
     "data": {
      "text/plain": [
       "array([2020022000385])"
      ]
     },
     "execution_count": 41,
     "metadata": {},
     "output_type": "execute_result"
    }
   ],
   "source": [
    "await latiss.take_object(exptime=1., n=1, filter='empty_1',grating='ronchi90lpmm') "
   ]
  },
  {
   "cell_type": "code",
   "execution_count": 42,
   "metadata": {},
   "outputs": [
    {
     "name": "stdout",
     "output_type": "stream",
     "text": [
      "Generating group_id\n",
      "OBJECT 0001 - 0001\n",
      "Waiting for header service LFO before continuing\n"
     ]
    },
    {
     "data": {
      "text/plain": [
       "array([2020022000386])"
      ]
     },
     "execution_count": 42,
     "metadata": {},
     "output_type": "execute_result"
    }
   ],
   "source": [
    "await latiss.take_object(exptime=30., n=1, filter='empty_1',grating='ronchi90lpmm') "
   ]
  },
  {
   "cell_type": "code",
   "execution_count": 43,
   "metadata": {},
   "outputs": [
    {
     "data": {
      "text/plain": [
       "<lsst.ts.salobj.ddsutil.ATAOS_ackcmd_33d5c92b at 0x7f8bc53e4b38>"
      ]
     },
     "execution_count": 43,
     "metadata": {},
     "output_type": "execute_result"
    }
   ],
   "source": [
    "best_focus_fit = 0.07\n",
    "focus_adjust = 0.023\n",
    "await attcs.ataos.cmd_applyFocusOffset.set_start(offset=best_focus_fit  + focus_adjust )"
   ]
  },
  {
   "cell_type": "code",
   "execution_count": 44,
   "metadata": {},
   "outputs": [
    {
     "name": "stdout",
     "output_type": "stream",
     "text": [
      "Generating group_id\n",
      "OBJECT 0001 - 0001\n",
      "Waiting for header service LFO before continuing\n"
     ]
    },
    {
     "data": {
      "text/plain": [
       "array([2020022000387])"
      ]
     },
     "execution_count": 44,
     "metadata": {},
     "output_type": "execute_result"
    }
   ],
   "source": [
    "await latiss.take_object(exptime=30., n=1, filter='quadnotch1',grating='ronchi90lpmm') "
   ]
  },
  {
   "cell_type": "code",
   "execution_count": 45,
   "metadata": {},
   "outputs": [
    {
     "data": {
      "text/plain": [
       "<lsst.ts.salobj.ddsutil.ATAOS_ackcmd_33d5c92b at 0x7f8bc538d940>"
      ]
     },
     "execution_count": 45,
     "metadata": {},
     "output_type": "execute_result"
    }
   ],
   "source": [
    "best_focus_fit = 0.07\n",
    "focus_adjust = 0.0\n",
    "await attcs.ataos.cmd_applyFocusOffset.set_start(offset=best_focus_fit  + focus_adjust )"
   ]
  },
  {
   "cell_type": "code",
   "execution_count": 46,
   "metadata": {},
   "outputs": [
    {
     "name": "stdout",
     "output_type": "stream",
     "text": [
      "Generating group_id\n",
      "OBJECT 0001 - 0001\n",
      "Waiting for header service LFO before continuing\n",
      "RemoteEvent(ATHeaderService, 0, logMessage) falling behind; read 11 messages\n"
     ]
    },
    {
     "data": {
      "text/plain": [
       "array([2020022000388])"
      ]
     },
     "execution_count": 46,
     "metadata": {},
     "output_type": "execute_result"
    }
   ],
   "source": [
    "await latiss.take_object(exptime=30., n=1, filter='empty_1',grating='ronchi90lpmm') "
   ]
  },
  {
   "cell_type": "code",
   "execution_count": 47,
   "metadata": {},
   "outputs": [
    {
     "data": {
      "text/plain": [
       "<lsst.ts.salobj.ddsutil.ATAOS_ackcmd_33d5c92b at 0x7f8bda563fd0>"
      ]
     },
     "execution_count": 47,
     "metadata": {},
     "output_type": "execute_result"
    }
   ],
   "source": [
    "best_focus_fit = 0.07\n",
    "focus_adjust = 0.023\n",
    "await attcs.ataos.cmd_applyFocusOffset.set_start(offset=best_focus_fit  + focus_adjust )"
   ]
  },
  {
   "cell_type": "code",
   "execution_count": 48,
   "metadata": {},
   "outputs": [
    {
     "data": {
      "text/plain": [
       "<lsst.ts.salobj.ddsutil.ATAOS_ackcmd_33d5c92b at 0x7f8bc538d5c0>"
      ]
     },
     "execution_count": 48,
     "metadata": {},
     "output_type": "execute_result"
    }
   ],
   "source": [
    "best_focus_fit = 0.07\n",
    "focus_adjust = 0.0\n",
    "await attcs.ataos.cmd_applyFocusOffset.set_start(offset=best_focus_fit  + focus_adjust )"
   ]
  },
  {
   "cell_type": "code",
   "execution_count": 49,
   "metadata": {},
   "outputs": [
    {
     "name": "stdout",
     "output_type": "stream",
     "text": [
      "Resetting dropped connection: simbad.u-strasbg.fr\n",
      "http://simbad.u-strasbg.fr:80 \"POST /simbad/sim-script HTTP/1.1\" 200 None\n",
      "Slewing to HIP 52771: 10 47 23.1625 +28 23 55.928\n",
      "RemoteEvent(ATMCS, 0, target) falling behind; read 18 messages\n",
      "RemoteEvent(ATDomeTrajectory, 0, logMessage) falling behind; read 18 messages\n",
      "Parallactic angle: 161.78046922253324 | Sky Angle: 129.6503950670746\n",
      "Sending command\n",
      "Stop tracking.\n",
      "Mount tracking state is 9\n",
      "Tracking state: 10.\n",
      "Tracking state: 8.\n",
      "In Position: True.\n",
      "In Position: False.\n",
      "Scheduling check coroutines\n",
      "process as completed...\n",
      "Got False\n",
      "Telescope not in position\n",
      "atmcs: <State.ENABLED: 2>\n",
      "atptg: <State.ENABLED: 2>\n",
      "ataos: <State.ENABLED: 2>\n",
      "atpneumatics: <State.ENABLED: 2>\n",
      "athexapod: <State.ENABLED: 2>\n",
      "atdome: <State.ENABLED: 2>\n",
      "atdometrajectory: <State.ENABLED: 2>\n",
      "[Telescope] delta Alt = +002.299 | delta Az= -102.418 [Dome] delta Az = -103.256\n",
      "[Telescope] delta Alt = +001.076 | delta Az= -100.602 [Dome] delta Az = -102.596\n",
      "[Telescope] delta Alt = -000.042 | delta Az= -096.622 [Dome] delta Az = -101.216\n",
      "[Telescope] delta Alt = -000.041 | delta Az= -092.632 [Dome] delta Az = -098.806\n",
      "[Telescope] delta Alt = -000.041 | delta Az= -088.639 [Dome] delta Az = -095.476\n",
      "[Telescope] delta Alt = -000.041 | delta Az= -084.646 [Dome] delta Az = -091.226\n",
      "[Telescope] delta Alt = -000.042 | delta Az= -080.655 [Dome] delta Az = -086.066\n",
      "[Telescope] delta Alt = -000.041 | delta Az= -076.663 [Dome] delta Az = -079.996\n",
      "[Telescope] delta Alt = -000.042 | delta Az= -072.672 [Dome] delta Az = -073.176\n",
      "[Telescope] delta Alt = -000.042 | delta Az= -068.680 [Dome] delta Az = -066.976\n",
      "[Telescope] delta Alt = -000.041 | delta Az= -064.686 [Dome] delta Az = -060.096\n",
      "[Telescope] delta Alt = -000.042 | delta Az= -060.695 [Dome] delta Az = -053.216\n",
      "[Telescope] delta Alt = -000.042 | delta Az= -056.704 [Dome] delta Az = -046.316\n",
      "[Telescope] delta Alt = -000.042 | delta Az= -052.711 [Dome] delta Az = -039.406\n",
      "[Telescope] delta Alt = -000.042 | delta Az= -048.720 [Dome] delta Az = -033.196\n",
      "[Telescope] delta Alt = -000.041 | delta Az= -044.728 [Dome] delta Az = -026.306\n",
      "[Telescope] delta Alt = -000.042 | delta Az= -040.734 [Dome] delta Az = -019.396\n",
      "[Telescope] delta Alt = -000.042 | delta Az= -036.744 [Dome] delta Az = -012.496\n",
      "[Telescope] delta Alt = -000.042 | delta Az= -032.752 [Dome] delta Az = -005.596\n",
      "[Telescope] delta Alt = -000.042 | delta Az= -028.759 [Dome] delta Az = +000.214\n",
      "[Telescope] delta Alt = -000.042 | delta Az= -024.789 [Dome] delta Az = +002.694\n",
      "[Telescope] delta Alt = -000.042 | delta Az= -020.882 [Dome] delta Az = +002.984\n",
      "[Telescope] delta Alt = -000.042 | delta Az= -017.107 [Dome] delta Az = +002.984\n",
      "[Telescope] delta Alt = -000.042 | delta Az= -013.547 [Dome] delta Az = +002.984\n",
      "[Telescope] delta Alt = -000.042 | delta Az= -010.289 [Dome] delta Az = +002.984\n",
      "[Telescope] delta Alt = -000.042 | delta Az= -007.410 [Dome] delta Az = +002.984\n",
      "[Telescope] delta Alt = -000.042 | delta Az= -004.987 [Dome] delta Az = +002.984\n",
      "[Telescope] delta Alt = -000.042 | delta Az= -003.062 [Dome] delta Az = +002.984\n",
      "[Telescope] delta Alt = -000.042 | delta Az= -001.661 [Dome] delta Az = +002.984\n",
      "[Telescope] delta Alt = -000.042 | delta Az= -000.761 [Dome] delta Az = +002.984\n",
      "[Telescope] delta Alt = -000.042 | delta Az= -000.298 [Dome] delta Az = +002.984\n",
      "[Telescope] delta Alt = -000.042 | delta Az= -000.154 [Dome] delta Az = +002.984\n",
      "[Telescope] delta Alt = -000.042 | delta Az= -000.146 [Dome] delta Az = +002.984\n",
      "Got True\n",
      "Waiting for telescope to settle.\n",
      "[Telescope] delta Alt = -000.042 | delta Az= -000.145 [Dome] delta Az = +002.984\n",
      "[Telescope] delta Alt = -000.042 | delta Az= -000.145 [Dome] delta Az = +002.984\n",
      "Telescope in position.\n",
      "ATDome in position.\n",
      "['Telescope in position.', 'ATDome in position.']\n"
     ]
    }
   ],
   "source": [
    "await attcs.slew_object(name = \"HIP 52771\", pa_ang=0.0, slew_timeout=240.) "
   ]
  },
  {
   "cell_type": "code",
   "execution_count": null,
   "metadata": {},
   "outputs": [],
   "source": []
  },
  {
   "cell_type": "code",
   "execution_count": 50,
   "metadata": {},
   "outputs": [
    {
     "name": "stdout",
     "output_type": "stream",
     "text": [
      "Generating group_id\n",
      "OBJECT 0001 - 0001\n",
      "Waiting for header service LFO before continuing\n"
     ]
    },
    {
     "data": {
      "text/plain": [
       "array([2020022000389])"
      ]
     },
     "execution_count": 50,
     "metadata": {},
     "output_type": "execute_result"
    }
   ],
   "source": [
    "await latiss.take_object(exptime=1., n=1, filter='empty_1',grating='ronchi90lpmm')  "
   ]
  },
  {
   "cell_type": "code",
   "execution_count": 51,
   "metadata": {},
   "outputs": [
    {
     "name": "stdout",
     "output_type": "stream",
     "text": [
      "Generating group_id\n",
      "OBJECT 0001 - 0001\n",
      "Waiting for header service LFO before continuing\n"
     ]
    },
    {
     "data": {
      "text/plain": [
       "array([2020022000390])"
      ]
     },
     "execution_count": 51,
     "metadata": {},
     "output_type": "execute_result"
    }
   ],
   "source": [
    "await latiss.take_object(exptime=1., n=1, filter='empty_1',grating='empty_1')  "
   ]
  },
  {
   "cell_type": "code",
   "execution_count": 63,
   "metadata": {},
   "outputs": [
    {
     "name": "stdout",
     "output_type": "stream",
     "text": [
      "focus_positions = [-0.05 -0.01  0.03  0.07  0.11  0.15  0.19]\n"
     ]
    }
   ],
   "source": [
    "import math \n",
    "#Focus units are given in mm \n",
    "focus_center = 0.07\n",
    "focus_step = 0.04\n",
    "n_steps = 7\n",
    "focus_positions = np.linspace(focus_center - focus_step * math.floor(n_steps / 2), focus_center + focus_step * math.ceil(n_steps / 2 - 1), n_steps)\n",
    "#focus_positions = [0.05, -0.05, -0.100, -0.150, -0.200, -0.250, -0.300, -0.3, -0.2, -0.2, -0.24, -0.26, -0.28]\n",
    "print ('focus_positions = ' + str(focus_positions))"
   ]
  },
  {
   "cell_type": "code",
   "execution_count": 64,
   "metadata": {},
   "outputs": [
    {
     "name": "stdout",
     "output_type": "stream",
     "text": [
      "Working on focus position -0.04999999999999999\n",
      "Generating group_id\n",
      "ENGTEST 0001 - 0001\n",
      "RemoteEvent(ATHeaderService, 0, logMessage) falling behind; read 11 messages\n",
      "Waiting for header service LFO before continuing\n",
      "Newest image id is = [2020022000395]\n",
      "Working on focus position -0.009999999999999988\n",
      "Generating group_id\n",
      "ENGTEST 0001 - 0001\n",
      "Waiting for header service LFO before continuing\n",
      "RemoteEvent(ATHeaderService, 0, logMessage) falling behind; read 10 messages\n",
      "Newest image id is = [2020022000396]\n",
      "Working on focus position 0.030000000000000013\n",
      "Generating group_id\n",
      "ENGTEST 0001 - 0001\n",
      "Waiting for header service LFO before continuing\n",
      "Newest image id is = [2020022000397]\n",
      "Working on focus position 0.07\n",
      "Generating group_id\n",
      "ENGTEST 0001 - 0001\n",
      "Waiting for header service LFO before continuing\n",
      "Newest image id is = [2020022000398]\n",
      "Working on focus position 0.11000000000000001\n",
      "Generating group_id\n",
      "ENGTEST 0001 - 0001\n",
      "Waiting for header service LFO before continuing\n",
      "RemoteEvent(ATHeaderService, 0, logMessage) falling behind; read 10 messages\n",
      "Newest image id is = [2020022000399]\n",
      "Working on focus position 0.15000000000000002\n",
      "Generating group_id\n",
      "ENGTEST 0001 - 0001\n",
      "Waiting for header service LFO before continuing\n",
      "Newest image id is = [2020022000400]\n",
      "Working on focus position 0.19\n",
      "Generating group_id\n",
      "ENGTEST 0001 - 0001\n",
      "Waiting for header service LFO before continuing\n",
      "Newest image id is = [2020022000401]\n"
     ]
    },
    {
     "data": {
      "text/plain": [
       "<lsst.ts.salobj.ddsutil.ATAOS_ackcmd_33d5c92b at 0x7f8bc4ea7400>"
      ]
     },
     "execution_count": 64,
     "metadata": {},
     "output_type": "execute_result"
    },
    {
     "name": "stdout",
     "output_type": "stream",
     "text": [
      "RemoteEvent(ATMCS, 0, target) falling behind; read 14 messages\n",
      "RemoteEvent(ATDomeTrajectory, 0, logMessage) falling behind; read 42 messages\n",
      "RemoteEvent(ATDomeTrajectory, 0, logMessage) falling behind; read 18 messages\n",
      "RemoteEvent(ATMCS, 0, target) falling behind; read 20 messages\n",
      "RemoteEvent(ATDomeTrajectory, 0, logMessage) falling behind; read 14 messages\n"
     ]
    }
   ],
   "source": [
    "#!!!!DO NOT RUN UNLESS YOU HAVE BEEN CLEARED TO CONTROL TELESCOPE!!!!! \n",
    "focus_images = [0 for focus_pos in focus_positions]\n",
    "for i in range(len(focus_positions)): \n",
    "    focus_pos = focus_positions[i] \n",
    "    print ('Working on focus position ' + str(focus_pos))\n",
    "    attcs.athexapod.evt_positionUpdate.flush() \n",
    "    await attcs.ataos.cmd_applyFocusOffset.set_start(offset=focus_pos)\n",
    "    await attcs.athexapod.evt_positionUpdate.next(flush=False, timeout=attcs.long_timeout)\n",
    "    focus_image = await latiss.take_engtest(exptime=15.0, n=1, filter='empty_1', grating='ronchi90lpmm') \n",
    "    print ('Newest image id is = ' +str(focus_image) )\n",
    "    focus_images[i] = int(focus_image)\n",
    "    \n",
    "#This resets the focus position after taking this sequence: \n",
    "await attcs.ataos.cmd_applyFocusOffset.set_start(offset = focus_center)"
   ]
  },
  {
   "cell_type": "code",
   "execution_count": 52,
   "metadata": {},
   "outputs": [
    {
     "name": "stdout",
     "output_type": "stream",
     "text": [
      "Generating group_id\n",
      "OBJECT 0001 - 0001\n",
      "Waiting for header service LFO before continuing\n",
      "RemoteEvent(ATHeaderService, 0, logMessage) falling behind; read 10 messages\n"
     ]
    },
    {
     "data": {
      "text/plain": [
       "array([2020022000391])"
      ]
     },
     "execution_count": 52,
     "metadata": {},
     "output_type": "execute_result"
    }
   ],
   "source": [
    "await latiss.take_object(exptime=1., n=1, filter='empty_1',grating='empty_1')  "
   ]
  },
  {
   "cell_type": "code",
   "execution_count": 53,
   "metadata": {},
   "outputs": [
    {
     "data": {
      "text/plain": [
       "<lsst.ts.salobj.ddsutil.ATPtg_ackcmd_2d655b72 at 0x7f8bda45ca58>"
      ]
     },
     "execution_count": 53,
     "metadata": {},
     "output_type": "execute_result"
    }
   ],
   "source": [
    "await attcs.atptg.cmd_pointNewFile.start()"
   ]
  },
  {
   "cell_type": "code",
   "execution_count": 55,
   "metadata": {},
   "outputs": [
    {
     "name": "stdout",
     "output_type": "stream",
     "text": [
      "Applying x/y offset: -20/ -2 \n",
      "Applying Az/El offset: 2.523268564615929/ 19.940740100377948 \n",
      "Waiting for telescope to settle.\n",
      "Done\n"
     ]
    }
   ],
   "source": [
    "await attcs.offset_xy(x=-20, y = -2)"
   ]
  },
  {
   "cell_type": "code",
   "execution_count": 56,
   "metadata": {},
   "outputs": [
    {
     "name": "stdout",
     "output_type": "stream",
     "text": [
      "Applying x/y offset: 20/ 2 \n",
      "Applying Az/El offset: -2.554776828611641/ -19.936727799616193 \n",
      "Waiting for telescope to settle.\n",
      "Done\n"
     ]
    }
   ],
   "source": [
    "await attcs.offset_xy(x=20, y = 2, persistent = True)"
   ]
  },
  {
   "cell_type": "code",
   "execution_count": 57,
   "metadata": {},
   "outputs": [
    {
     "name": "stdout",
     "output_type": "stream",
     "text": [
      "Generating group_id\n",
      "OBJECT 0001 - 0001\n",
      "Waiting for header service LFO before continuing\n"
     ]
    },
    {
     "data": {
      "text/plain": [
       "array([2020022000392])"
      ]
     },
     "execution_count": 57,
     "metadata": {},
     "output_type": "execute_result"
    }
   ],
   "source": [
    "await latiss.take_object(exptime=5., n=1, filter='empty_1',grating='ronchi90lpmm') "
   ]
  },
  {
   "cell_type": "code",
   "execution_count": 58,
   "metadata": {},
   "outputs": [
    {
     "name": "stdout",
     "output_type": "stream",
     "text": [
      "Applying x/y offset: 25/ 25 \n",
      "Applying Az/El offset: -25.926354394951105/ -24.037973038245127 \n",
      "Waiting for telescope to settle.\n",
      "Done\n"
     ]
    }
   ],
   "source": [
    "await attcs.offset_xy(x = 25, y = 25, persistent = True)"
   ]
  },
  {
   "cell_type": "code",
   "execution_count": 59,
   "metadata": {},
   "outputs": [
    {
     "name": "stdout",
     "output_type": "stream",
     "text": [
      "Generating group_id\n",
      "OBJECT 0001 - 0001\n",
      "Waiting for header service LFO before continuing\n"
     ]
    },
    {
     "data": {
      "text/plain": [
       "array([2020022000393])"
      ]
     },
     "execution_count": 59,
     "metadata": {},
     "output_type": "execute_result"
    }
   ],
   "source": [
    "await latiss.take_object(exptime=5., n=1, filter='empty_1',grating='ronchi90lpmm') "
   ]
  },
  {
   "cell_type": "code",
   "execution_count": 60,
   "metadata": {},
   "outputs": [
    {
     "name": "stdout",
     "output_type": "stream",
     "text": [
      "Generating group_id\n",
      "OBJECT 0001 - 0001\n",
      "RemoteEvent(ATMCS, 0, target) falling behind; read 80 messages\n",
      "RemoteEvent(ATDomeTrajectory, 0, logMessage) falling behind; read 10 messages\n",
      "Waiting for header service LFO before continuing\n"
     ]
    },
    {
     "data": {
      "text/plain": [
       "array([2020022000394])"
      ]
     },
     "execution_count": 60,
     "metadata": {},
     "output_type": "execute_result"
    }
   ],
   "source": [
    "await latiss.take_object(exptime=120., n=1, filter='empty_1',grating='ronchi90lpmm') "
   ]
  },
  {
   "cell_type": "code",
   "execution_count": 61,
   "metadata": {},
   "outputs": [
    {
     "data": {
      "text/plain": [
       "<lsst.ts.salobj.ddsutil.ATAOS_ackcmd_33d5c92b at 0x7f8bc53e4cf8>"
      ]
     },
     "execution_count": 61,
     "metadata": {},
     "output_type": "execute_result"
    }
   ],
   "source": [
    "best_focus_fit = 0.07\n",
    "focus_adjust = 0.023\n",
    "await attcs.ataos.cmd_applyFocusOffset.set_start(offset=best_focus_fit  + focus_adjust )"
   ]
  },
  {
   "cell_type": "code",
   "execution_count": null,
   "metadata": {},
   "outputs": [],
   "source": [
    "await latiss.take_object(exptime=120., n=1, filter='quadnotch1',grating='ronchi90lpmm') "
   ]
  },
  {
   "cell_type": "code",
   "execution_count": 65,
   "metadata": {},
   "outputs": [
    {
     "data": {
      "text/plain": [
       "<lsst.ts.salobj.ddsutil.ATAOS_ackcmd_33d5c92b at 0x7f8bc4d1ba58>"
      ]
     },
     "execution_count": 65,
     "metadata": {},
     "output_type": "execute_result"
    }
   ],
   "source": [
    "best_focus_fit -0.05\n",
    "focus_adjust = 0.023\n",
    "await attcs.ataos.cmd_applyFocusOffset.set_start(offset=best_focus_fit )"
   ]
  },
  {
   "cell_type": "code",
   "execution_count": 67,
   "metadata": {},
   "outputs": [
    {
     "name": "stdout",
     "output_type": "stream",
     "text": [
      "Generating group_id\n",
      "OBJECT 0001 - 0001\n",
      "Waiting for header service LFO before continuing\n"
     ]
    },
    {
     "data": {
      "text/plain": [
       "array([2020022000402])"
      ]
     },
     "execution_count": 67,
     "metadata": {},
     "output_type": "execute_result"
    }
   ],
   "source": [
    "await latiss.take_object(exptime=120., n=1, filter='empty_1',grating='ronchi90lpmm') "
   ]
  },
  {
   "cell_type": "code",
   "execution_count": 68,
   "metadata": {},
   "outputs": [
    {
     "data": {
      "text/plain": [
       "<lsst.ts.salobj.ddsutil.ATAOS_ackcmd_33d5c92b at 0x7f8bc4ce0f60>"
      ]
     },
     "execution_count": 68,
     "metadata": {},
     "output_type": "execute_result"
    }
   ],
   "source": [
    "best_focus_fit -0.05\n",
    "focus_adjust = 0.023\n",
    "await attcs.ataos.cmd_applyFocusOffset.set_start(offset=best_focus_fit + focus_adjust)"
   ]
  },
  {
   "cell_type": "code",
   "execution_count": 69,
   "metadata": {},
   "outputs": [
    {
     "name": "stdout",
     "output_type": "stream",
     "text": [
      "Generating group_id\n",
      "OBJECT 0001 - 0001\n",
      "Waiting for header service LFO before continuing\n",
      "RemoteEvent(ATHeaderService, 0, logMessage) falling behind; read 10 messages\n"
     ]
    },
    {
     "data": {
      "text/plain": [
       "array([2020022000403])"
      ]
     },
     "execution_count": 69,
     "metadata": {},
     "output_type": "execute_result"
    }
   ],
   "source": [
    "await latiss.take_object(exptime=120., n=1, filter='quadnotch1',grating='ronchi90lpmm') "
   ]
  },
  {
   "cell_type": "code",
   "execution_count": 70,
   "metadata": {},
   "outputs": [
    {
     "name": "stdout",
     "output_type": "stream",
     "text": [
      "Slewing to HD 146233: 16 15 37.2703 -08 22 09.981\n",
      "Parallactic angle: -120.92699978512026 | Sky Angle: -143.86596972593503\n",
      "Sending command\n",
      "Stop tracking.\n",
      "Mount tracking state is 9\n",
      "Tracking state: 10.\n",
      "Tracking state: 8.\n",
      "In Position: True.\n",
      "In Position: False.\n",
      "Scheduling check coroutines\n",
      "process as completed...\n",
      "Got False\n",
      "Telescope not in position\n",
      "atmcs: <State.ENABLED: 2>\n",
      "atptg: <State.ENABLED: 2>\n",
      "ataos: <State.ENABLED: 2>\n",
      "atpneumatics: <State.ENABLED: 2>\n",
      "athexapod: <State.ENABLED: 2>\n",
      "atdome: <State.ENABLED: 2>\n",
      "atdometrajectory: <State.ENABLED: 2>\n",
      "[Telescope] delta Alt = +006.979 | delta Az= +104.907 [Dome] delta Az = +103.075\n",
      "[Telescope] delta Alt = +004.758 | delta Az= +102.161 [Dome] delta Az = +102.145\n",
      "[Telescope] delta Alt = +001.124 | delta Az= +098.161 [Dome] delta Az = +100.525\n",
      "[Telescope] delta Alt = +000.129 | delta Az= +094.155 [Dome] delta Az = +097.845\n",
      "[Telescope] delta Alt = +000.129 | delta Az= +090.149 [Dome] delta Az = +094.225\n",
      "[Telescope] delta Alt = +000.129 | delta Az= +086.145 [Dome] delta Az = +089.695\n",
      "[Telescope] delta Alt = +000.129 | delta Az= +082.140 [Dome] delta Az = +084.245\n",
      "[Telescope] delta Alt = +000.129 | delta Az= +078.134 [Dome] delta Az = +078.585\n",
      "[Telescope] delta Alt = +000.129 | delta Az= +074.129 [Dome] delta Az = +071.035\n",
      "[Telescope] delta Alt = +000.129 | delta Az= +070.124 [Dome] delta Az = +064.815\n",
      "[Telescope] delta Alt = +000.129 | delta Az= +066.120 [Dome] delta Az = +057.915\n",
      "[Telescope] delta Alt = +000.129 | delta Az= +062.114 [Dome] delta Az = +051.025\n",
      "[Telescope] delta Alt = +000.129 | delta Az= +058.109 [Dome] delta Az = +044.135\n",
      "[Telescope] delta Alt = +000.129 | delta Az= +054.104 [Dome] delta Az = +037.925\n",
      "[Telescope] delta Alt = +000.129 | delta Az= +050.099 [Dome] delta Az = +030.385\n",
      "[Telescope] delta Alt = +000.129 | delta Az= +046.093 [Dome] delta Az = +024.175\n",
      "[Telescope] delta Alt = +000.129 | delta Az= +042.089 [Dome] delta Az = +017.265\n",
      "[Telescope] delta Alt = +000.129 | delta Az= +038.083 [Dome] delta Az = +010.395\n",
      "[Telescope] delta Alt = +000.129 | delta Az= +034.078 [Dome] delta Az = +003.525\n",
      "[Telescope] delta Alt = +000.129 | delta Az= +030.074 [Dome] delta Az = -001.285\n",
      "[Telescope] delta Alt = +000.129 | delta Az= +026.079 [Dome] delta Az = -002.865\n",
      "[Telescope] delta Alt = +000.129 | delta Az= +022.128 [Dome] delta Az = -002.895\n",
      "[Telescope] delta Alt = +000.129 | delta Az= +018.285 [Dome] delta Az = -002.895\n",
      "[Telescope] delta Alt = +000.129 | delta Az= +014.627 [Dome] delta Az = -002.895\n",
      "[Telescope] delta Alt = +000.129 | delta Az= +011.236 [Dome] delta Az = -002.895\n",
      "[Telescope] delta Alt = +000.129 | delta Az= +008.204 [Dome] delta Az = -002.895\n",
      "[Telescope] delta Alt = +000.129 | delta Az= +005.599 [Dome] delta Az = -002.895\n",
      "[Telescope] delta Alt = +000.129 | delta Az= +003.482 [Dome] delta Az = -002.895\n",
      "[Telescope] delta Alt = +000.129 | delta Az= +001.884 [Dome] delta Az = -002.895\n",
      "[Telescope] delta Alt = +000.129 | delta Az= +000.802 [Dome] delta Az = -002.895\n",
      "[Telescope] delta Alt = +000.129 | delta Az= +000.186 [Dome] delta Az = -002.895\n",
      "[Telescope] delta Alt = +000.129 | delta Az= -000.056 [Dome] delta Az = -002.895\n",
      "[Telescope] delta Alt = +000.129 | delta Az= -000.094 [Dome] delta Az = -002.895\n",
      "Got True\n",
      "Waiting for telescope to settle.\n",
      "[Telescope] delta Alt = +000.129 | delta Az= -000.095 [Dome] delta Az = -002.895\n",
      "[Telescope] delta Alt = +000.129 | delta Az= -000.093 [Dome] delta Az = -002.895\n",
      "Telescope in position.\n",
      "ATDome in position.\n",
      "['Telescope in position.', 'ATDome in position.']\n"
     ]
    }
   ],
   "source": [
    "await attcs.slew_object(name = \"HD 146233\", pa_ang=0.0, slew_timeout=240.)"
   ]
  },
  {
   "cell_type": "code",
   "execution_count": 71,
   "metadata": {},
   "outputs": [
    {
     "data": {
      "text/plain": [
       "<lsst.ts.salobj.ddsutil.ATAOS_ackcmd_33d5c92b at 0x7f8bc52fde48>"
      ]
     },
     "execution_count": 71,
     "metadata": {},
     "output_type": "execute_result"
    }
   ],
   "source": [
    "best_focus_fit -0.05\n",
    "focus_adjust = -0.01\n",
    "await attcs.ataos.cmd_applyFocusOffset.set_start(offset=best_focus_fit + focus_adjust)"
   ]
  },
  {
   "cell_type": "code",
   "execution_count": 72,
   "metadata": {},
   "outputs": [
    {
     "name": "stdout",
     "output_type": "stream",
     "text": [
      "Generating group_id\n",
      "OBJECT 0001 - 0001\n",
      "RemoteEvent(ATHeaderService, 0, logMessage) falling behind; read 10 messages\n",
      "Waiting for header service LFO before continuing\n"
     ]
    },
    {
     "data": {
      "text/plain": [
       "array([2020022000404])"
      ]
     },
     "execution_count": 72,
     "metadata": {},
     "output_type": "execute_result"
    }
   ],
   "source": [
    "await latiss.take_object(exptime=1., n=1, filter='empty_1',grating='empty_1')"
   ]
  },
  {
   "cell_type": "code",
   "execution_count": 73,
   "metadata": {},
   "outputs": [
    {
     "data": {
      "text/plain": [
       "<lsst.ts.salobj.ddsutil.ATAOS_ackcmd_33d5c92b at 0x7f8bc4ce2320>"
      ]
     },
     "execution_count": 73,
     "metadata": {},
     "output_type": "execute_result"
    }
   ],
   "source": [
    "best_focus_fit -0.05\n",
    "focus_adjust = -0.0\n",
    "await attcs.ataos.cmd_applyFocusOffset.set_start(offset=best_focus_fit + focus_adjust)"
   ]
  },
  {
   "cell_type": "code",
   "execution_count": 75,
   "metadata": {},
   "outputs": [
    {
     "name": "stdout",
     "output_type": "stream",
     "text": [
      "Generating group_id\n",
      "OBJECT 0001 - 0001\n",
      "Waiting for header service LFO before continuing\n"
     ]
    },
    {
     "data": {
      "text/plain": [
       "array([2020022000405])"
      ]
     },
     "execution_count": 75,
     "metadata": {},
     "output_type": "execute_result"
    }
   ],
   "source": [
    "await latiss.take_object(exptime=1., n=1, filter='empty_1',grating='ronchi90lpmm')"
   ]
  },
  {
   "cell_type": "code",
   "execution_count": 76,
   "metadata": {},
   "outputs": [
    {
     "name": "stdout",
     "output_type": "stream",
     "text": [
      "Generating group_id\n",
      "OBJECT 0001 - 0001\n",
      "RemoteEvent(ATHeaderService, 0, logMessage) falling behind; read 10 messages\n",
      "Waiting for header service LFO before continuing\n"
     ]
    },
    {
     "data": {
      "text/plain": [
       "array([2020022000406])"
      ]
     },
     "execution_count": 76,
     "metadata": {},
     "output_type": "execute_result"
    }
   ],
   "source": [
    "await latiss.take_object(exptime=1., n=1, filter='empty_1',grating='ronchi90lpmm')"
   ]
  },
  {
   "cell_type": "code",
   "execution_count": 77,
   "metadata": {},
   "outputs": [
    {
     "name": "stdout",
     "output_type": "stream",
     "text": [
      "Generating group_id\n",
      "OBJECT 0001 - 0001\n",
      "Waiting for header service LFO before continuing\n"
     ]
    },
    {
     "data": {
      "text/plain": [
       "array([2020022000407])"
      ]
     },
     "execution_count": 77,
     "metadata": {},
     "output_type": "execute_result"
    }
   ],
   "source": [
    "await latiss.take_object(exptime=1., n=1, filter='empty_1',grating='empty_1')"
   ]
  },
  {
   "cell_type": "code",
   "execution_count": 78,
   "metadata": {},
   "outputs": [
    {
     "name": "stdout",
     "output_type": "stream",
     "text": [
      "Generating group_id\n",
      "OBJECT 0001 - 0001\n",
      "Waiting for header service LFO before continuing\n"
     ]
    },
    {
     "data": {
      "text/plain": [
       "array([2020022000408])"
      ]
     },
     "execution_count": 78,
     "metadata": {},
     "output_type": "execute_result"
    }
   ],
   "source": [
    "await latiss.take_object(exptime=1., n=1, filter='empty_1',grating='ronchi90lpmm')"
   ]
  },
  {
   "cell_type": "code",
   "execution_count": 79,
   "metadata": {},
   "outputs": [
    {
     "name": "stdout",
     "output_type": "stream",
     "text": [
      "focus_positions = [-0.15 -0.1  -0.05  0.    0.05  0.1   0.15  0.2   0.25]\n"
     ]
    }
   ],
   "source": [
    "import math \n",
    "#Focus units are given in mm \n",
    "focus_center = 0.05\n",
    "focus_step = 0.05\n",
    "n_steps = 9\n",
    "focus_positions = np.linspace(focus_center - focus_step * math.floor(n_steps / 2), focus_center + focus_step * math.ceil(n_steps / 2 - 1), n_steps)\n",
    "#focus_positions = [0.05, -0.05, -0.100, -0.150, -0.200, -0.250, -0.300, -0.3, -0.2, -0.2, -0.24, -0.26, -0.28]\n",
    "print ('focus_positions = ' + str(focus_positions))"
   ]
  },
  {
   "cell_type": "code",
   "execution_count": 80,
   "metadata": {},
   "outputs": [
    {
     "name": "stdout",
     "output_type": "stream",
     "text": [
      "Working on focus position -0.15000000000000002\n",
      "Generating group_id\n",
      "ENGTEST 0001 - 0001\n",
      "Waiting for header service LFO before continuing\n",
      "Newest image id is = [2020022000409]\n",
      "Working on focus position -0.10000000000000002\n",
      "Generating group_id\n",
      "ENGTEST 0001 - 0001\n",
      "Waiting for header service LFO before continuing\n",
      "RemoteEvent(ATHeaderService, 0, logMessage) falling behind; read 10 messages\n",
      "Newest image id is = [2020022000410]\n",
      "Working on focus position -0.05000000000000002\n",
      "Generating group_id\n",
      "ENGTEST 0001 - 0001\n",
      "Waiting for header service LFO before continuing\n",
      "Newest image id is = [2020022000411]\n",
      "Working on focus position 0.0\n",
      "Generating group_id\n",
      "ENGTEST 0001 - 0001\n",
      "Waiting for header service LFO before continuing\n",
      "RemoteEvent(ATHeaderService, 0, logMessage) falling behind; read 10 messages\n",
      "Newest image id is = [2020022000412]\n",
      "Working on focus position 0.04999999999999999\n",
      "Generating group_id\n",
      "ENGTEST 0001 - 0001\n",
      "Waiting for header service LFO before continuing\n",
      "RemoteEvent(ATHeaderService, 0, logMessage) falling behind; read 11 messages\n",
      "Newest image id is = [2020022000413]\n",
      "Working on focus position 0.09999999999999998\n",
      "Generating group_id\n",
      "ENGTEST 0001 - 0001\n",
      "Waiting for header service LFO before continuing\n",
      "Newest image id is = [2020022000414]\n",
      "Working on focus position 0.15000000000000002\n",
      "Generating group_id\n",
      "ENGTEST 0001 - 0001\n",
      "Waiting for header service LFO before continuing\n",
      "Newest image id is = [2020022000415]\n",
      "Working on focus position 0.2\n",
      "Generating group_id\n",
      "ENGTEST 0001 - 0001\n",
      "Waiting for header service LFO before continuing\n",
      "Newest image id is = [2020022000416]\n",
      "Working on focus position 0.25\n",
      "Generating group_id\n",
      "ENGTEST 0001 - 0001\n",
      "Waiting for header service LFO before continuing\n",
      "Newest image id is = [2020022000417]\n"
     ]
    },
    {
     "data": {
      "text/plain": [
       "<lsst.ts.salobj.ddsutil.ATAOS_ackcmd_33d5c92b at 0x7f8bda0d38d0>"
      ]
     },
     "execution_count": 80,
     "metadata": {},
     "output_type": "execute_result"
    }
   ],
   "source": [
    "#!!!!DO NOT RUN UNLESS YOU HAVE BEEN CLEARED TO CONTROL TELESCOPE!!!!! \n",
    "focus_images = [0 for focus_pos in focus_positions]\n",
    "for i in range(len(focus_positions)): \n",
    "    focus_pos = focus_positions[i] \n",
    "    print ('Working on focus position ' + str(focus_pos))\n",
    "    attcs.athexapod.evt_positionUpdate.flush() \n",
    "    await attcs.ataos.cmd_applyFocusOffset.set_start(offset=focus_pos)\n",
    "    await attcs.athexapod.evt_positionUpdate.next(flush=False, timeout=attcs.long_timeout)\n",
    "    focus_image = await latiss.take_engtest(exptime=10.0, n=1, filter='empty_1', grating='ronchi90lpmm') \n",
    "    print ('Newest image id is = ' +str(focus_image) )\n",
    "    focus_images[i] = int(focus_image)\n",
    "    \n",
    "#This resets the focus position after taking this sequence: \n",
    "await attcs.ataos.cmd_applyFocusOffset.set_start(offset = focus_center)"
   ]
  },
  {
   "cell_type": "code",
   "execution_count": 81,
   "metadata": {},
   "outputs": [
    {
     "name": "stdout",
     "output_type": "stream",
     "text": [
      "focus_positions = [-0.27 -0.23 -0.19 -0.15 -0.11 -0.07 -0.03]\n"
     ]
    }
   ],
   "source": [
    "import math \n",
    "#Focus units are given in mm \n",
    "focus_center = -0.15\n",
    "focus_step = 0.04\n",
    "n_steps = 7\n",
    "focus_positions = np.linspace(focus_center - focus_step * math.floor(n_steps / 2), focus_center + focus_step * math.ceil(n_steps / 2 - 1), n_steps)\n",
    "#focus_positions = [0.05, -0.05, -0.100, -0.150, -0.200, -0.250, -0.300, -0.3, -0.2, -0.2, -0.24, -0.26, -0.28]\n",
    "print ('focus_positions = ' + str(focus_positions))"
   ]
  },
  {
   "cell_type": "code",
   "execution_count": 82,
   "metadata": {},
   "outputs": [
    {
     "name": "stdout",
     "output_type": "stream",
     "text": [
      "Working on focus position -0.27\n",
      "Generating group_id\n",
      "ENGTEST 0001 - 0001\n",
      "Waiting for header service LFO before continuing\n",
      "RemoteEvent(ATHeaderService, 0, logMessage) falling behind; read 11 messages\n",
      "Newest image id is = [2020022000418]\n",
      "Working on focus position -0.23\n",
      "Generating group_id\n",
      "ENGTEST 0001 - 0001\n",
      "Waiting for header service LFO before continuing\n",
      "Newest image id is = [2020022000419]\n",
      "Working on focus position -0.19\n",
      "Generating group_id\n",
      "ENGTEST 0001 - 0001\n",
      "Waiting for header service LFO before continuing\n",
      "Newest image id is = [2020022000420]\n",
      "Working on focus position -0.15000000000000002\n",
      "Generating group_id\n",
      "ENGTEST 0001 - 0001\n",
      "Waiting for header service LFO before continuing\n",
      "RemoteEvent(ATHeaderService, 0, logMessage) falling behind; read 10 messages\n",
      "Newest image id is = [2020022000421]\n",
      "Working on focus position -0.11000000000000001\n",
      "Generating group_id\n",
      "ENGTEST 0001 - 0001\n",
      "RemoteEvent(ATHeaderService, 0, logMessage) falling behind; read 15 messages\n",
      "Waiting for header service LFO before continuing\n",
      "Newest image id is = [2020022000422]\n",
      "Working on focus position -0.07\n",
      "Generating group_id\n",
      "ENGTEST 0001 - 0001\n",
      "Waiting for header service LFO before continuing\n",
      "RemoteEvent(ATHeaderService, 0, logMessage) falling behind; read 10 messages\n",
      "Newest image id is = [2020022000423]\n",
      "Working on focus position -0.03\n",
      "Generating group_id\n",
      "ENGTEST 0001 - 0001\n",
      "Waiting for header service LFO before continuing\n",
      "RemoteEvent(ATHeaderService, 0, logMessage) falling behind; read 11 messages\n",
      "Newest image id is = [2020022000424]\n"
     ]
    },
    {
     "data": {
      "text/plain": [
       "<lsst.ts.salobj.ddsutil.ATAOS_ackcmd_33d5c92b at 0x7f8bda6bd5f8>"
      ]
     },
     "execution_count": 82,
     "metadata": {},
     "output_type": "execute_result"
    }
   ],
   "source": [
    "#!!!!DO NOT RUN UNLESS YOU HAVE BEEN CLEARED TO CONTROL TELESCOPE!!!!! \n",
    "focus_images = [0 for focus_pos in focus_positions]\n",
    "for i in range(len(focus_positions)): \n",
    "    focus_pos = focus_positions[i] \n",
    "    print ('Working on focus position ' + str(focus_pos))\n",
    "    attcs.athexapod.evt_positionUpdate.flush() \n",
    "    await attcs.ataos.cmd_applyFocusOffset.set_start(offset=focus_pos)\n",
    "    await attcs.athexapod.evt_positionUpdate.next(flush=False, timeout=attcs.long_timeout)\n",
    "    focus_image = await latiss.take_engtest(exptime=10.0, n=1, filter='empty_1', grating='ronchi90lpmm') \n",
    "    print ('Newest image id is = ' +str(focus_image) )\n",
    "    focus_images[i] = int(focus_image)\n",
    "    \n",
    "#This resets the focus position after taking this sequence: \n",
    "await attcs.ataos.cmd_applyFocusOffset.set_start(offset = focus_center)"
   ]
  },
  {
   "cell_type": "code",
   "execution_count": 83,
   "metadata": {},
   "outputs": [
    {
     "data": {
      "text/plain": [
       "<lsst.ts.salobj.ddsutil.ATAOS_ackcmd_33d5c92b at 0x7f8bda0ada58>"
      ]
     },
     "execution_count": 83,
     "metadata": {},
     "output_type": "execute_result"
    }
   ],
   "source": [
    "best_focus_fit -0.17\n",
    "await attcs.ataos.cmd_applyFocusOffset.set_start(offset=best_focus_fit )"
   ]
  },
  {
   "cell_type": "code",
   "execution_count": 84,
   "metadata": {},
   "outputs": [
    {
     "name": "stdout",
     "output_type": "stream",
     "text": [
      "Generating group_id\n",
      "OBJECT 0001 - 0001\n",
      "Waiting for header service LFO before continuing\n",
      "RemoteEvent(ATHeaderService, 0, logMessage) falling behind; read 11 messages\n"
     ]
    },
    {
     "data": {
      "text/plain": [
       "array([2020022000425])"
      ]
     },
     "execution_count": 84,
     "metadata": {},
     "output_type": "execute_result"
    }
   ],
   "source": [
    "await latiss.take_object(exptime=30., n=1, filter='empty_1',grating='ronchi90lpmm')"
   ]
  },
  {
   "cell_type": "code",
   "execution_count": 85,
   "metadata": {},
   "outputs": [
    {
     "name": "stdout",
     "output_type": "stream",
     "text": [
      "focus_positions = [-0.27 -0.23 -0.19 -0.15 -0.11 -0.07 -0.03]\n"
     ]
    }
   ],
   "source": [
    "import math \n",
    "#Focus units are given in mm \n",
    "focus_center = -0.15\n",
    "focus_step = 0.04\n",
    "n_steps = 7\n",
    "focus_positions = np.linspace(focus_center - focus_step * math.floor(n_steps / 2), focus_center + focus_step * math.ceil(n_steps / 2 - 1), n_steps)\n",
    "#focus_positions = [0.05, -0.05, -0.100, -0.150, -0.200, -0.250, -0.300, -0.3, -0.2, -0.2, -0.24, -0.26, -0.28]\n",
    "print ('focus_positions = ' + str(focus_positions))"
   ]
  },
  {
   "cell_type": "code",
   "execution_count": 86,
   "metadata": {},
   "outputs": [
    {
     "name": "stdout",
     "output_type": "stream",
     "text": [
      "Working on focus position -0.27\n",
      "Generating group_id\n",
      "ENGTEST 0001 - 0001\n",
      "Waiting for header service LFO before continuing\n",
      "RemoteEvent(ATHeaderService, 0, logMessage) falling behind; read 11 messages\n",
      "Newest image id is = [2020022000426]\n",
      "Working on focus position -0.23\n",
      "Generating group_id\n",
      "ENGTEST 0001 - 0001\n",
      "Waiting for header service LFO before continuing\n",
      "Newest image id is = [2020022000427]\n",
      "Working on focus position -0.19\n",
      "Generating group_id\n",
      "ENGTEST 0001 - 0001\n",
      "Waiting for header service LFO before continuing\n",
      "Newest image id is = [2020022000428]\n",
      "Working on focus position -0.15000000000000002\n",
      "Generating group_id\n",
      "ENGTEST 0001 - 0001\n",
      "Waiting for header service LFO before continuing\n",
      "Newest image id is = [2020022000429]\n",
      "Working on focus position -0.11000000000000001\n",
      "Generating group_id\n",
      "ENGTEST 0001 - 0001\n",
      "Waiting for header service LFO before continuing\n",
      "RemoteEvent(ATHeaderService, 0, logMessage) falling behind; read 10 messages\n",
      "Newest image id is = [2020022000430]\n",
      "Working on focus position -0.07\n",
      "Generating group_id\n",
      "ENGTEST 0001 - 0001\n",
      "Waiting for header service LFO before continuing\n",
      "RemoteEvent(ATHeaderService, 0, logMessage) falling behind; read 11 messages\n",
      "Newest image id is = [2020022000431]\n",
      "Working on focus position -0.03\n",
      "Generating group_id\n",
      "ENGTEST 0001 - 0001\n",
      "Waiting for header service LFO before continuing\n",
      "RemoteEvent(ATHeaderService, 0, logMessage) falling behind; read 18 messages\n",
      "Newest image id is = [2020022000432]\n"
     ]
    },
    {
     "data": {
      "text/plain": [
       "<lsst.ts.salobj.ddsutil.ATAOS_ackcmd_33d5c92b at 0x7f8bc4dc90f0>"
      ]
     },
     "execution_count": 86,
     "metadata": {},
     "output_type": "execute_result"
    }
   ],
   "source": [
    "#!!!!DO NOT RUN UNLESS YOU HAVE BEEN CLEARED TO CONTROL TELESCOPE!!!!! \n",
    "focus_images = [0 for focus_pos in focus_positions]\n",
    "for i in range(len(focus_positions)): \n",
    "    focus_pos = focus_positions[i] \n",
    "    print ('Working on focus position ' + str(focus_pos))\n",
    "    attcs.athexapod.evt_positionUpdate.flush() \n",
    "    await attcs.ataos.cmd_applyFocusOffset.set_start(offset=focus_pos)\n",
    "    await attcs.athexapod.evt_positionUpdate.next(flush=False, timeout=attcs.long_timeout)\n",
    "    focus_image = await latiss.take_engtest(exptime=10.0, n=1, filter='empty_1', grating='ronchi90lpmm') \n",
    "    print ('Newest image id is = ' +str(focus_image) )\n",
    "    focus_images[i] = int(focus_image)\n",
    "    \n",
    "#This resets the focus position after taking this sequence: \n",
    "await attcs.ataos.cmd_applyFocusOffset.set_start(offset = focus_center)"
   ]
  },
  {
   "cell_type": "code",
   "execution_count": 87,
   "metadata": {},
   "outputs": [
    {
     "data": {
      "text/plain": [
       "<lsst.ts.salobj.ddsutil.ATAOS_ackcmd_33d5c92b at 0x7f8bc4cd8550>"
      ]
     },
     "execution_count": 87,
     "metadata": {},
     "output_type": "execute_result"
    }
   ],
   "source": [
    "best_focus_fit = -0.17\n",
    "await attcs.ataos.cmd_applyFocusOffset.set_start(offset=best_focus_fit )"
   ]
  },
  {
   "cell_type": "code",
   "execution_count": 88,
   "metadata": {},
   "outputs": [
    {
     "name": "stdout",
     "output_type": "stream",
     "text": [
      "Generating group_id\n",
      "OBJECT 0001 - 0001\n",
      "Waiting for header service LFO before continuing\n",
      "RemoteEvent(ATHeaderService, 0, logMessage) falling behind; read 11 messages\n"
     ]
    },
    {
     "data": {
      "text/plain": [
       "array([2020022000433])"
      ]
     },
     "execution_count": 88,
     "metadata": {},
     "output_type": "execute_result"
    }
   ],
   "source": [
    "await latiss.take_object(exptime=30., n=1, filter='empty_1',grating='ronchi90lpmm')"
   ]
  },
  {
   "cell_type": "code",
   "execution_count": 89,
   "metadata": {},
   "outputs": [
    {
     "data": {
      "text/plain": [
       "<lsst.ts.salobj.ddsutil.ATAOS_ackcmd_33d5c92b at 0x7f8bc4d749e8>"
      ]
     },
     "execution_count": 89,
     "metadata": {},
     "output_type": "execute_result"
    }
   ],
   "source": [
    "best_focus_fit = -0.17\n",
    "focus_adjust = 0.023\n",
    "await attcs.ataos.cmd_applyFocusOffset.set_start(offset=best_focus_fit + focus_adjust )"
   ]
  },
  {
   "cell_type": "code",
   "execution_count": 90,
   "metadata": {},
   "outputs": [
    {
     "name": "stdout",
     "output_type": "stream",
     "text": [
      "Generating group_id\n",
      "OBJECT 0001 - 0001\n",
      "Waiting for header service LFO before continuing\n"
     ]
    },
    {
     "data": {
      "text/plain": [
       "array([2020022000434])"
      ]
     },
     "execution_count": 90,
     "metadata": {},
     "output_type": "execute_result"
    }
   ],
   "source": [
    "await latiss.take_object(exptime=30., n=1, filter='quadnotch1',grating='ronchi90lpmm')"
   ]
  },
  {
   "cell_type": "code",
   "execution_count": 91,
   "metadata": {},
   "outputs": [
    {
     "data": {
      "text/plain": [
       "<lsst.ts.salobj.ddsutil.ATAOS_ackcmd_33d5c92b at 0x7f8bda6cbe10>"
      ]
     },
     "execution_count": 91,
     "metadata": {},
     "output_type": "execute_result"
    }
   ],
   "source": [
    "best_focus_fit = -0.17\n",
    "focus_adjust = 0.0\n",
    "await attcs.ataos.cmd_applyFocusOffset.set_start(offset=best_focus_fit + focus_adjust )"
   ]
  },
  {
   "cell_type": "code",
   "execution_count": 93,
   "metadata": {},
   "outputs": [
    {
     "name": "stdout",
     "output_type": "stream",
     "text": [
      "Slewing to HIP 52771: 10 47 23.1625 +28 23 55.928\n",
      "Parallactic angle: 149.05960955684245 | Sky Angle: 106.27170826074905\n",
      "Sending command\n",
      "Stop tracking.\n",
      "Mount tracking state is 9\n",
      "Tracking state: 10.\n",
      "Tracking state: 8.\n",
      "In Position: True.\n",
      "In Position: False.\n",
      "Scheduling check coroutines\n",
      "process as completed...\n",
      "Got False\n",
      "Telescope not in position\n",
      "atmcs: <State.ENABLED: 2>\n",
      "atptg: <State.ENABLED: 2>\n",
      "ataos: <State.ENABLED: 2>\n",
      "atpneumatics: <State.ENABLED: 2>\n",
      "athexapod: <State.ENABLED: 2>\n",
      "atdome: <State.ENABLED: 2>\n",
      "atdometrajectory: <State.ENABLED: 2>\n",
      "[Telescope] delta Alt = -015.416 | delta Az= -106.553 [Dome] delta Az = -113.696\n",
      "[Telescope] delta Alt = -014.865 | delta Az= -103.697 [Dome] delta Az = -112.866\n",
      "[Telescope] delta Alt = -012.777 | delta Az= -099.707 [Dome] delta Az = -111.106\n",
      "[Telescope] delta Alt = -009.292 | delta Az= -095.715 [Dome] delta Az = -108.426\n",
      "[Telescope] delta Alt = -005.358 | delta Az= -091.722 [Dome] delta Az = -104.806\n",
      "[Telescope] delta Alt = -002.122 | delta Az= -087.729 [Dome] delta Az = -100.276\n",
      "[Telescope] delta Alt = -000.396 | delta Az= -083.737 [Dome] delta Az = -095.426\n",
      "[Telescope] delta Alt = -000.068 | delta Az= -079.742 [Dome] delta Az = -089.186\n",
      "[Telescope] delta Alt = -000.068 | delta Az= -075.748 [Dome] delta Az = -082.316\n",
      "[Telescope] delta Alt = -000.068 | delta Az= -071.757 [Dome] delta Az = -075.426\n",
      "[Telescope] delta Alt = -000.068 | delta Az= -067.763 [Dome] delta Az = -068.556\n",
      "[Telescope] delta Alt = -000.068 | delta Az= -063.769 [Dome] delta Az = -061.646\n",
      "[Telescope] delta Alt = -000.069 | delta Az= -059.777 [Dome] delta Az = -055.446\n",
      "[Telescope] delta Alt = -000.068 | delta Az= -055.783 [Dome] delta Az = -048.536\n",
      "[Telescope] delta Alt = -000.068 | delta Az= -051.790 [Dome] delta Az = -041.656\n",
      "[Telescope] delta Alt = -000.068 | delta Az= -047.797 [Dome] delta Az = -034.736\n",
      "[Telescope] delta Alt = -000.069 | delta Az= -043.803 [Dome] delta Az = -027.836\n",
      "[Telescope] delta Alt = -000.069 | delta Az= -039.811 [Dome] delta Az = -020.936\n",
      "[Telescope] delta Alt = -000.069 | delta Az= -035.818 [Dome] delta Az = -014.046\n",
      "[Telescope] delta Alt = -000.069 | delta Az= -031.824 [Dome] delta Az = -007.156\n",
      "[Telescope] delta Alt = -000.069 | delta Az= -027.836 [Dome] delta Az = -001.336\n",
      "[Telescope] delta Alt = -000.069 | delta Az= -023.871 [Dome] delta Az = +002.274\n",
      "[Telescope] delta Alt = -000.069 | delta Az= -019.985 [Dome] delta Az = +002.934\n",
      "[Telescope] delta Alt = -000.069 | delta Az= -016.253 [Dome] delta Az = +002.934\n",
      "[Telescope] delta Alt = -000.069 | delta Az= -012.752 [Dome] delta Az = +002.934\n",
      "[Telescope] delta Alt = -000.069 | delta Az= -009.572 [Dome] delta Az = +002.934\n",
      "[Telescope] delta Alt = -000.069 | delta Az= -006.791 [Dome] delta Az = +002.934\n",
      "[Telescope] delta Alt = -000.069 | delta Az= -004.477 [Dome] delta Az = +002.934\n",
      "[Telescope] delta Alt = -000.069 | delta Az= -002.673 [Dome] delta Az = +002.934\n",
      "[Telescope] delta Alt = -000.069 | delta Az= -001.390 [Dome] delta Az = +002.934\n",
      "[Telescope] delta Alt = -000.069 | delta Az= -000.597 [Dome] delta Az = +002.934\n",
      "[Telescope] delta Alt = -000.069 | delta Az= -000.223 [Dome] delta Az = +002.934\n",
      "[Telescope] delta Alt = -000.069 | delta Az= -000.127 [Dome] delta Az = +002.934\n",
      "[Telescope] delta Alt = -000.069 | delta Az= -000.125 [Dome] delta Az = +002.934\n",
      "Got True\n",
      "Waiting for telescope to settle.\n",
      "[Telescope] delta Alt = -000.069 | delta Az= -000.125 [Dome] delta Az = +002.934\n",
      "Telescope in position.\n",
      "ATDome in position.\n",
      "['Telescope in position.', 'ATDome in position.']\n"
     ]
    }
   ],
   "source": [
    "await attcs.slew_object(name = 'HIP 52771', pa_ang = 0.0, slew_timeout = 240.0)"
   ]
  },
  {
   "cell_type": "code",
   "execution_count": null,
   "metadata": {},
   "outputs": [],
   "source": []
  },
  {
   "cell_type": "code",
   "execution_count": 94,
   "metadata": {},
   "outputs": [
    {
     "name": "stdout",
     "output_type": "stream",
     "text": [
      "Generating group_id\n",
      "OBJECT 0001 - 0001\n",
      "Waiting for header service LFO before continuing\n"
     ]
    },
    {
     "data": {
      "text/plain": [
       "array([2020022000435])"
      ]
     },
     "execution_count": 94,
     "metadata": {},
     "output_type": "execute_result"
    }
   ],
   "source": [
    "await latiss.take_object(exptime=5., n=1, filter='empty_1',grating='empty_1') "
   ]
  },
  {
   "cell_type": "code",
   "execution_count": 95,
   "metadata": {},
   "outputs": [
    {
     "name": "stdout",
     "output_type": "stream",
     "text": [
      "Generating group_id\n",
      "OBJECT 0001 - 0001\n",
      "Waiting for header service LFO before continuing\n"
     ]
    },
    {
     "data": {
      "text/plain": [
       "array([2020022000436])"
      ]
     },
     "execution_count": 95,
     "metadata": {},
     "output_type": "execute_result"
    }
   ],
   "source": [
    "await latiss.take_object(exptime=10., n=1, filter='empty_1',grating='ronchi90lpmm') "
   ]
  },
  {
   "cell_type": "code",
   "execution_count": 96,
   "metadata": {},
   "outputs": [
    {
     "name": "stdout",
     "output_type": "stream",
     "text": [
      "focus_positions = [-0.25 -0.2  -0.15 -0.1  -0.05  0.    0.05  0.1   0.15]\n"
     ]
    }
   ],
   "source": [
    "import math \n",
    "#Focus units are given in mm \n",
    "focus_center = -0.05\n",
    "focus_step = 0.05\n",
    "n_steps = 9\n",
    "focus_positions = np.linspace(focus_center - focus_step * math.floor(n_steps / 2), focus_center + focus_step * math.ceil(n_steps / 2 - 1), n_steps)\n",
    "print ('focus_positions = ' + str(focus_positions))"
   ]
  },
  {
   "cell_type": "code",
   "execution_count": null,
   "metadata": {},
   "outputs": [],
   "source": [
    "best_focus_fit -0.05\n",
    "focus_adjust = -0.0\n",
    "await attcs.ataos.cmd_applyFocusOffset.set_start(offset=best_focus_fit + focus_adjust)"
   ]
  },
  {
   "cell_type": "code",
   "execution_count": 97,
   "metadata": {},
   "outputs": [
    {
     "name": "stdout",
     "output_type": "stream",
     "text": [
      "Working on focus position -0.25\n",
      "Generating group_id\n",
      "ENGTEST 0001 - 0001\n",
      "Waiting for header service LFO before continuing\n",
      "Newest image id is = [2020022000437]\n",
      "Working on focus position -0.2\n",
      "Generating group_id\n",
      "ENGTEST 0001 - 0001\n",
      "Waiting for header service LFO before continuing\n",
      "Newest image id is = [2020022000438]\n",
      "Working on focus position -0.15\n",
      "Generating group_id\n",
      "ENGTEST 0001 - 0001\n",
      "Waiting for header service LFO before continuing\n",
      "Newest image id is = [2020022000439]\n",
      "Working on focus position -0.09999999999999998\n",
      "Generating group_id\n",
      "ENGTEST 0001 - 0001\n",
      "Waiting for header service LFO before continuing\n",
      "Newest image id is = [2020022000440]\n",
      "Working on focus position -0.04999999999999999\n",
      "Generating group_id\n",
      "ENGTEST 0001 - 0001\n",
      "RemoteEvent(ATHeaderService, 0, logMessage) falling behind; read 16 messages\n",
      "Waiting for header service LFO before continuing\n",
      "Newest image id is = [2020022000441]\n",
      "Working on focus position 0.0\n",
      "Generating group_id\n",
      "ENGTEST 0001 - 0001\n",
      "Waiting for header service LFO before continuing\n",
      "Newest image id is = [2020022000442]\n",
      "Working on focus position 0.050000000000000044\n",
      "Generating group_id\n",
      "ENGTEST 0001 - 0001\n",
      "Waiting for header service LFO before continuing\n",
      "RemoteEvent(ATHeaderService, 0, logMessage) falling behind; read 10 messages\n",
      "Newest image id is = [2020022000443]\n",
      "Working on focus position 0.10000000000000003\n",
      "Generating group_id\n",
      "ENGTEST 0001 - 0001\n",
      "Waiting for header service LFO before continuing\n",
      "Newest image id is = [2020022000444]\n",
      "Working on focus position 0.15000000000000002\n",
      "Generating group_id\n",
      "ENGTEST 0001 - 0001\n",
      "Waiting for header service LFO before continuing\n",
      "Newest image id is = [2020022000445]\n"
     ]
    },
    {
     "data": {
      "text/plain": [
       "<lsst.ts.salobj.ddsutil.ATAOS_ackcmd_33d5c92b at 0x7f8bc4d863c8>"
      ]
     },
     "execution_count": 97,
     "metadata": {},
     "output_type": "execute_result"
    }
   ],
   "source": [
    "#!!!!DO NOT RUN UNLESS YOU HAVE BEEN CLEARED TO CONTROL TELESCOPE!!!!! \n",
    "focus_images = [0 for focus_pos in focus_positions]\n",
    "for i in range(len(focus_positions)): \n",
    "    focus_pos = focus_positions[i] \n",
    "    print ('Working on focus position ' + str(focus_pos))\n",
    "    attcs.athexapod.evt_positionUpdate.flush() \n",
    "    await attcs.ataos.cmd_applyFocusOffset.set_start(offset=focus_pos)\n",
    "    await attcs.athexapod.evt_positionUpdate.next(flush=False, timeout=attcs.long_timeout)\n",
    "    focus_image = await latiss.take_engtest(exptime=10.0, n=1, filter='empty_1', grating='ronchi90lpmm') \n",
    "    print ('Newest image id is = ' +str(focus_image) )\n",
    "    focus_images[i] = int(focus_image)\n",
    "    \n",
    "#This resets the focus position after taking this sequence: \n",
    "await attcs.ataos.cmd_applyFocusOffset.set_start(offset = focus_center)"
   ]
  },
  {
   "cell_type": "code",
   "execution_count": 98,
   "metadata": {},
   "outputs": [
    {
     "data": {
      "text/plain": [
       "<lsst.ts.salobj.ddsutil.ATAOS_ackcmd_33d5c92b at 0x7f8bc5fee2b0>"
      ]
     },
     "execution_count": 98,
     "metadata": {},
     "output_type": "execute_result"
    }
   ],
   "source": [
    "best_focus_fit = 0.05\n",
    "focus_adjust = 0.0\n",
    "await attcs.ataos.cmd_applyFocusOffset.set_start(offset=best_focus_fit + focus_adjust)"
   ]
  },
  {
   "cell_type": "code",
   "execution_count": 99,
   "metadata": {},
   "outputs": [
    {
     "name": "stdout",
     "output_type": "stream",
     "text": [
      "Generating group_id\n",
      "OBJECT 0001 - 0001\n",
      "Waiting for header service LFO before continuing\n"
     ]
    },
    {
     "data": {
      "text/plain": [
       "array([2020022000446])"
      ]
     },
     "execution_count": 99,
     "metadata": {},
     "output_type": "execute_result"
    }
   ],
   "source": [
    "await latiss.take_object(exptime=120., n=1, filter='empty_1',grating='ronchi90lpmm') "
   ]
  },
  {
   "cell_type": "code",
   "execution_count": 100,
   "metadata": {},
   "outputs": [
    {
     "data": {
      "text/plain": [
       "<lsst.ts.salobj.ddsutil.ATAOS_ackcmd_33d5c92b at 0x7f8bc4d74208>"
      ]
     },
     "execution_count": 100,
     "metadata": {},
     "output_type": "execute_result"
    }
   ],
   "source": [
    "best_focus_fit = 0.05\n",
    "focus_adjust = 0.023\n",
    "await attcs.ataos.cmd_applyFocusOffset.set_start(offset=best_focus_fit + focus_adjust)"
   ]
  },
  {
   "cell_type": "code",
   "execution_count": 101,
   "metadata": {},
   "outputs": [
    {
     "name": "stdout",
     "output_type": "stream",
     "text": [
      "Generating group_id\n",
      "OBJECT 0001 - 0001\n",
      "Waiting for header service LFO before continuing\n"
     ]
    },
    {
     "data": {
      "text/plain": [
       "array([2020022000447])"
      ]
     },
     "execution_count": 101,
     "metadata": {},
     "output_type": "execute_result"
    }
   ],
   "source": [
    "await latiss.take_object(exptime=120., n=1, filter='quadnotch1',grating='ronchi90lpmm') "
   ]
  },
  {
   "cell_type": "code",
   "execution_count": 103,
   "metadata": {},
   "outputs": [
    {
     "name": "stdout",
     "output_type": "stream",
     "text": [
      "Slewing to HD 185975: 20 28 18.7402 -87 28 19.938\n",
      "Parallactic angle: -109.66831492446278 | Sky Angle: -141.0473869985588\n",
      "Sending command\n",
      "Stop tracking.\n",
      "Mount tracking state is 9\n",
      "Tracking state: 10.\n",
      "Tracking state: 8.\n",
      "In Position: True.\n",
      "In Position: False.\n",
      "Scheduling check coroutines\n",
      "process as completed...\n",
      "Got False\n",
      "Telescope not in position\n",
      "atmcs: <State.ENABLED: 2>\n",
      "atptg: <State.ENABLED: 2>\n",
      "ataos: <State.ENABLED: 2>\n",
      "atpneumatics: <State.ENABLED: 2>\n",
      "athexapod: <State.ENABLED: 2>\n",
      "atdome: <State.ENABLED: 2>\n",
      "atdometrajectory: <State.ENABLED: 2>\n",
      "[Telescope] delta Alt = +007.296 | delta Az= -148.524 [Dome] delta Az = -148.353\n",
      "[Telescope] delta Alt = +005.076 | delta Az= -151.439 [Dome] delta Az = -147.413\n",
      "[Telescope] delta Alt = +001.360 | delta Az= -155.435 [Dome] delta Az = -145.543\n",
      "[Telescope] delta Alt = +000.008 | delta Az= -159.435 [Dome] delta Az = -142.763\n",
      "[Telescope] delta Alt = +000.006 | delta Az= -163.436 [Dome] delta Az = -139.053\n",
      "[Telescope] delta Alt = +000.007 | delta Az= -167.436 [Dome] delta Az = -134.913\n",
      "[Telescope] delta Alt = +000.006 | delta Az= -171.436 [Dome] delta Az = -129.473\n",
      "[Telescope] delta Alt = +000.006 | delta Az= -175.435 [Dome] delta Az = -123.133\n",
      "[Telescope] delta Alt = +000.006 | delta Az= -179.436 [Dome] delta Az = -116.283\n",
      "[Telescope] delta Alt = +000.006 | delta Az= +176.563 [Dome] delta Az = -109.353\n",
      "[Telescope] delta Alt = +000.006 | delta Az= +172.564 [Dome] delta Az = -102.463\n",
      "[Telescope] delta Alt = +000.006 | delta Az= +168.564 [Dome] delta Az = -095.563\n",
      "[Telescope] delta Alt = +000.006 | delta Az= +164.563 [Dome] delta Az = -089.363\n",
      "[Telescope] delta Alt = +000.006 | delta Az= +160.563 [Dome] delta Az = -082.443\n",
      "[Telescope] delta Alt = +000.006 | delta Az= +156.563 [Dome] delta Az = -075.543\n",
      "[Telescope] delta Alt = +000.006 | delta Az= +152.563 [Dome] delta Az = -068.683\n",
      "[Telescope] delta Alt = +000.006 | delta Az= +148.563 [Dome] delta Az = -061.773\n",
      "[Telescope] delta Alt = +000.006 | delta Az= +144.562 [Dome] delta Az = -055.573\n",
      "[Telescope] delta Alt = +000.006 | delta Az= +140.562 [Dome] delta Az = -048.643\n",
      "[Telescope] delta Alt = +000.006 | delta Az= +136.562 [Dome] delta Az = -041.733\n",
      "[Telescope] delta Alt = +000.006 | delta Az= +132.562 [Dome] delta Az = -034.853\n",
      "[Telescope] delta Alt = +000.006 | delta Az= +128.563 [Dome] delta Az = -027.973\n",
      "[Telescope] delta Alt = +000.006 | delta Az= +124.561 [Dome] delta Az = -021.083\n",
      "[Telescope] delta Alt = +000.006 | delta Az= +120.560 [Dome] delta Az = -014.883\n",
      "[Telescope] delta Alt = +000.006 | delta Az= +116.562 [Dome] delta Az = -007.963\n",
      "[Telescope] delta Alt = +000.006 | delta Az= +112.562 [Dome] delta Az = -001.413\n",
      "[Telescope] delta Alt = +000.006 | delta Az= +108.561 [Dome] delta Az = +002.327\n",
      "[Telescope] delta Alt = +000.006 | delta Az= +104.561 [Dome] delta Az = +003.067\n",
      "[Telescope] delta Alt = +000.006 | delta Az= +100.561 [Dome] delta Az = +003.067\n",
      "[Telescope] delta Alt = +000.007 | delta Az= +096.562 [Dome] delta Az = +003.067\n",
      "[Telescope] delta Alt = +000.006 | delta Az= +092.561 [Dome] delta Az = +003.067\n",
      "[Telescope] delta Alt = +000.006 | delta Az= +088.560 [Dome] delta Az = +003.067\n",
      "[Telescope] delta Alt = +000.007 | delta Az= +084.561 [Dome] delta Az = +003.067\n",
      "[Telescope] delta Alt = +000.006 | delta Az= +080.560 [Dome] delta Az = +003.067\n",
      "[Telescope] delta Alt = +000.007 | delta Az= +076.560 [Dome] delta Az = +003.067\n",
      "[Telescope] delta Alt = +000.006 | delta Az= +072.561 [Dome] delta Az = +003.067\n",
      "[Telescope] delta Alt = +000.006 | delta Az= +068.560 [Dome] delta Az = +003.067\n",
      "[Telescope] delta Alt = +000.007 | delta Az= +064.559 [Dome] delta Az = +003.067\n",
      "[Telescope] delta Alt = +000.006 | delta Az= +060.559 [Dome] delta Az = +003.067\n",
      "[Telescope] delta Alt = +000.006 | delta Az= +056.560 [Dome] delta Az = +003.067\n",
      "[Telescope] delta Alt = +000.006 | delta Az= +052.558 [Dome] delta Az = +003.067\n",
      "[Telescope] delta Alt = +000.006 | delta Az= +048.558 [Dome] delta Az = +003.067\n",
      "[Telescope] delta Alt = +000.006 | delta Az= +044.559 [Dome] delta Az = +003.067\n",
      "[Telescope] delta Alt = +000.006 | delta Az= +040.558 [Dome] delta Az = +003.067\n",
      "[Telescope] delta Alt = +000.006 | delta Az= +036.558 [Dome] delta Az = +003.067\n",
      "[Telescope] delta Alt = +000.006 | delta Az= +032.558 [Dome] delta Az = +003.067\n",
      "[Telescope] delta Alt = +000.006 | delta Az= +028.559 [Dome] delta Az = +003.067\n",
      "[Telescope] delta Alt = +000.006 | delta Az= +024.582 [Dome] delta Az = +003.067\n",
      "[Telescope] delta Alt = +000.006 | delta Az= +020.671 [Dome] delta Az = +003.067\n",
      "[Telescope] delta Alt = +000.006 | delta Az= +016.896 [Dome] delta Az = +003.067\n",
      "[Telescope] delta Alt = +000.006 | delta Az= +013.339 [Dome] delta Az = +003.067\n",
      "[Telescope] delta Alt = +000.006 | delta Az= +010.085 [Dome] delta Az = +003.067\n",
      "[Telescope] delta Alt = +000.006 | delta Az= +007.217 [Dome] delta Az = +003.067\n",
      "[Telescope] delta Alt = +000.006 | delta Az= +004.802 [Dome] delta Az = +003.067\n",
      "[Telescope] delta Alt = +000.006 | delta Az= +002.888 [Dome] delta Az = +003.067\n",
      "[Telescope] delta Alt = +000.006 | delta Az= +001.494 [Dome] delta Az = +003.067\n",
      "[Telescope] delta Alt = +000.006 | delta Az= +000.602 [Dome] delta Az = +003.067\n",
      "[Telescope] delta Alt = +000.006 | delta Az= +000.149 [Dome] delta Az = +003.067\n",
      "[Telescope] delta Alt = +000.006 | delta Az= +000.006 [Dome] delta Az = +003.067\n",
      "[Telescope] delta Alt = +000.006 | delta Az= -000.003 [Dome] delta Az = +003.067\n",
      "Got True\n",
      "Waiting for telescope to settle.\n",
      "[Telescope] delta Alt = +000.006 | delta Az= -000.003 [Dome] delta Az = +003.067\n",
      "[Telescope] delta Alt = +000.006 | delta Az= -000.003 [Dome] delta Az = +003.067\n",
      "Telescope in position.\n",
      "ATDome in position.\n",
      "['Telescope in position.', 'ATDome in position.']\n"
     ]
    }
   ],
   "source": [
    "await attcs.slew_object(name = 'HD 185975', pa_ang = 0.0, slew_timeout = 240.0)"
   ]
  },
  {
   "cell_type": "code",
   "execution_count": 104,
   "metadata": {},
   "outputs": [
    {
     "name": "stdout",
     "output_type": "stream",
     "text": [
      "Generating group_id\n",
      "OBJECT 0001 - 0001\n",
      "Waiting for header service LFO before continuing\n"
     ]
    },
    {
     "data": {
      "text/plain": [
       "array([2020022000448])"
      ]
     },
     "execution_count": 104,
     "metadata": {},
     "output_type": "execute_result"
    }
   ],
   "source": [
    "await latiss.take_object(exptime=5., n=1, filter='empty_1',grating='empty_1') "
   ]
  },
  {
   "cell_type": "code",
   "execution_count": 106,
   "metadata": {},
   "outputs": [
    {
     "name": "stdout",
     "output_type": "stream",
     "text": [
      "Generating group_id\n",
      "OBJECT 0001 - 0001\n",
      "Waiting for header service LFO before continuing\n",
      "RemoteEvent(ATHeaderService, 0, logMessage) falling behind; read 14 messages\n"
     ]
    },
    {
     "data": {
      "text/plain": [
       "array([2020022000449])"
      ]
     },
     "execution_count": 106,
     "metadata": {},
     "output_type": "execute_result"
    }
   ],
   "source": [
    "await latiss.take_object(exptime=5., n=1, filter='empty_1',grating='ronchi90lpmm') "
   ]
  },
  {
   "cell_type": "code",
   "execution_count": 107,
   "metadata": {},
   "outputs": [
    {
     "name": "stdout",
     "output_type": "stream",
     "text": [
      "focus_positions = [-0.2  -0.15 -0.1  -0.05  0.    0.05  0.1   0.15  0.2 ]\n"
     ]
    }
   ],
   "source": [
    "import math \n",
    "#Focus units are given in mm \n",
    "focus_center = -0.00\n",
    "focus_step = 0.05\n",
    "n_steps = 9\n",
    "focus_positions = np.linspace(focus_center - focus_step * math.floor(n_steps / 2), focus_center + focus_step * math.ceil(n_steps / 2 - 1), n_steps)\n",
    "print ('focus_positions = ' + str(focus_positions))"
   ]
  },
  {
   "cell_type": "code",
   "execution_count": 108,
   "metadata": {},
   "outputs": [
    {
     "name": "stdout",
     "output_type": "stream",
     "text": [
      "Working on focus position -0.2\n",
      "Generating group_id\n",
      "ENGTEST 0001 - 0001\n",
      "Waiting for header service LFO before continuing\n",
      "RemoteEvent(ATHeaderService, 0, logMessage) falling behind; read 13 messages\n",
      "Newest image id is = [2020022000450]\n",
      "Working on focus position -0.15000000000000002\n",
      "Generating group_id\n",
      "ENGTEST 0001 - 0001\n",
      "Waiting for header service LFO before continuing\n",
      "RemoteEvent(ATHeaderService, 0, logMessage) falling behind; read 11 messages\n",
      "Newest image id is = [2020022000451]\n",
      "Working on focus position -0.1\n",
      "Generating group_id\n",
      "ENGTEST 0001 - 0001\n",
      "Waiting for header service LFO before continuing\n",
      "RemoteEvent(ATHeaderService, 0, logMessage) falling behind; read 12 messages\n",
      "Newest image id is = [2020022000452]\n",
      "Working on focus position -0.04999999999999999\n",
      "Generating group_id\n",
      "ENGTEST 0001 - 0001\n",
      "Waiting for header service LFO before continuing\n",
      "RemoteEvent(ATHeaderService, 0, logMessage) falling behind; read 14 messages\n",
      "Newest image id is = [2020022000453]\n",
      "Working on focus position 0.0\n",
      "Generating group_id\n",
      "ENGTEST 0001 - 0001\n"
     ]
    },
    {
     "ename": "CancelledError",
     "evalue": "",
     "output_type": "error",
     "traceback": [
      "\u001b[0;31m\u001b[0m",
      "\u001b[0;31mCancelledError\u001b[0mTraceback (most recent call last)",
      "\u001b[0;32m<ipython-input-108-87361ea0824d>\u001b[0m in \u001b[0;36masync-def-wrapper\u001b[0;34m()\u001b[0m\n\u001b[1;32m     10\u001b[0m     \u001b[0mprint\u001b[0m \u001b[0;34m(\u001b[0m\u001b[0;34m'Newest image id is = '\u001b[0m \u001b[0;34m+\u001b[0m\u001b[0mstr\u001b[0m\u001b[0;34m(\u001b[0m\u001b[0mfocus_image\u001b[0m\u001b[0;34m)\u001b[0m \u001b[0;34m)\u001b[0m\u001b[0;34m\u001b[0m\u001b[0;34m\u001b[0m\u001b[0m\n\u001b[1;32m     11\u001b[0m     \u001b[0mfocus_images\u001b[0m\u001b[0;34m[\u001b[0m\u001b[0mi\u001b[0m\u001b[0;34m]\u001b[0m \u001b[0;34m=\u001b[0m \u001b[0mint\u001b[0m\u001b[0;34m(\u001b[0m\u001b[0mfocus_image\u001b[0m\u001b[0;34m)\u001b[0m\u001b[0;34m\u001b[0m\u001b[0;34m\u001b[0m\u001b[0m\n\u001b[0;32m---> 12\u001b[0;31m \u001b[0;34m\u001b[0m\u001b[0m\n\u001b[0m\u001b[1;32m     13\u001b[0m \u001b[0;31m#This resets the focus position after taking this sequence:\u001b[0m\u001b[0;34m\u001b[0m\u001b[0;34m\u001b[0m\u001b[0;34m\u001b[0m\u001b[0m\n\u001b[1;32m     14\u001b[0m \u001b[0;32mawait\u001b[0m \u001b[0mattcs\u001b[0m\u001b[0;34m.\u001b[0m\u001b[0mataos\u001b[0m\u001b[0;34m.\u001b[0m\u001b[0mcmd_applyFocusOffset\u001b[0m\u001b[0;34m.\u001b[0m\u001b[0mset_start\u001b[0m\u001b[0;34m(\u001b[0m\u001b[0moffset\u001b[0m \u001b[0;34m=\u001b[0m \u001b[0mfocus_center\u001b[0m\u001b[0;34m)\u001b[0m\u001b[0;34m\u001b[0m\u001b[0;34m\u001b[0m\u001b[0m\n",
      "\u001b[0;32m~/repos/ts_standardscripts/python/lsst/ts/standardscripts/auxtel/latiss.py\u001b[0m in \u001b[0;36mtake_engtest\u001b[0;34m(self, exptime, n, filter, grating, linear_stage, group_id, checkpoint)\u001b[0m\n\u001b[1;32m    205\u001b[0m                                        \u001b[0mlinear_stage\u001b[0m\u001b[0;34m=\u001b[0m\u001b[0mlinear_stage\u001b[0m\u001b[0;34m,\u001b[0m\u001b[0;34m\u001b[0m\u001b[0;34m\u001b[0m\u001b[0m\n\u001b[1;32m    206\u001b[0m                                        \u001b[0mgroup_id\u001b[0m\u001b[0;34m=\u001b[0m\u001b[0mgroup_id\u001b[0m\u001b[0;34m,\u001b[0m\u001b[0;34m\u001b[0m\u001b[0;34m\u001b[0m\u001b[0m\n\u001b[0;32m--> 207\u001b[0;31m                                        checkpoint=checkpoint)\n\u001b[0m\u001b[1;32m    208\u001b[0m \u001b[0;34m\u001b[0m\u001b[0m\n\u001b[1;32m    209\u001b[0m     async def take_imgtype(self, imgtype, exptime, n,\n",
      "\u001b[0;32m~/repos/ts_standardscripts/python/lsst/ts/standardscripts/auxtel/latiss.py\u001b[0m in \u001b[0;36mtake_imgtype\u001b[0;34m(self, imgtype, exptime, n, filter, grating, linear_stage, group_id, checkpoint)\u001b[0m\n\u001b[1;32m    257\u001b[0m                                                 \u001b[0mfilter\u001b[0m\u001b[0;34m=\u001b[0m\u001b[0mfilter\u001b[0m \u001b[0;32mif\u001b[0m \u001b[0mi\u001b[0m \u001b[0;34m==\u001b[0m \u001b[0;36m0\u001b[0m \u001b[0;32melse\u001b[0m \u001b[0;32mNone\u001b[0m\u001b[0;34m,\u001b[0m\u001b[0;34m\u001b[0m\u001b[0;34m\u001b[0m\u001b[0m\n\u001b[1;32m    258\u001b[0m                                                 \u001b[0mgrating\u001b[0m\u001b[0;34m=\u001b[0m\u001b[0mgrating\u001b[0m \u001b[0;32mif\u001b[0m \u001b[0mi\u001b[0m \u001b[0;34m==\u001b[0m \u001b[0;36m0\u001b[0m \u001b[0;32melse\u001b[0m \u001b[0;32mNone\u001b[0m\u001b[0;34m,\u001b[0m\u001b[0;34m\u001b[0m\u001b[0;34m\u001b[0m\u001b[0m\n\u001b[0;32m--> 259\u001b[0;31m                                                 linear_stage=linear_stage if i == 0 else None)\n\u001b[0m\u001b[1;32m    260\u001b[0m \u001b[0;34m\u001b[0m\u001b[0m\n\u001b[1;32m    261\u001b[0m             \u001b[0;31m# parse out visitID from filename -\u001b[0m\u001b[0;34m\u001b[0m\u001b[0;34m\u001b[0m\u001b[0;34m\u001b[0m\u001b[0m\n",
      "\u001b[0;32m~/repos/ts_standardscripts/python/lsst/ts/standardscripts/auxtel/latiss.py\u001b[0m in \u001b[0;36mtake_image\u001b[0;34m(self, exptime, shutter, image_type, group_id, filter, grating, linear_stage, science, guide, wfs)\u001b[0m\n\u001b[1;32m    319\u001b[0m                                  \u001b[0mimage_type\u001b[0m\u001b[0;34m=\u001b[0m\u001b[0mimage_type\u001b[0m\u001b[0;34m,\u001b[0m\u001b[0;34m\u001b[0m\u001b[0;34m\u001b[0m\u001b[0m\n\u001b[1;32m    320\u001b[0m                                  \u001b[0mgroup_id\u001b[0m\u001b[0;34m=\u001b[0m\u001b[0mgroup_id\u001b[0m\u001b[0;34m,\u001b[0m\u001b[0;34m\u001b[0m\u001b[0;34m\u001b[0m\u001b[0m\n\u001b[0;32m--> 321\u001b[0;31m                                  science=science, guide=guide, wfs=wfs)\n\u001b[0m\u001b[1;32m    322\u001b[0m \u001b[0;34m\u001b[0m\u001b[0m\n\u001b[1;32m    323\u001b[0m     async def expose(self, exp_time, shutter, image_type, group_id,\n",
      "\u001b[0;32m~/repos/ts_standardscripts/python/lsst/ts/standardscripts/auxtel/latiss.py\u001b[0m in \u001b[0;36mexpose\u001b[0;34m(self, exp_time, shutter, image_type, group_id, science, guide, wfs)\u001b[0m\n\u001b[1;32m    368\u001b[0m             \u001b[0mself\u001b[0m\u001b[0;34m.\u001b[0m\u001b[0matcamera\u001b[0m\u001b[0;34m.\u001b[0m\u001b[0mevt_endReadout\u001b[0m\u001b[0;34m.\u001b[0m\u001b[0mflush\u001b[0m\u001b[0;34m(\u001b[0m\u001b[0;34m)\u001b[0m\u001b[0;34m\u001b[0m\u001b[0;34m\u001b[0m\u001b[0m\n\u001b[1;32m    369\u001b[0m             \u001b[0mself\u001b[0m\u001b[0;34m.\u001b[0m\u001b[0matheaderservice\u001b[0m\u001b[0;34m.\u001b[0m\u001b[0mevt_largeFileObjectAvailable\u001b[0m\u001b[0;34m.\u001b[0m\u001b[0mflush\u001b[0m\u001b[0;34m(\u001b[0m\u001b[0;34m)\u001b[0m\u001b[0;34m\u001b[0m\u001b[0;34m\u001b[0m\u001b[0m\n\u001b[0;32m--> 370\u001b[0;31m             \u001b[0;32mawait\u001b[0m \u001b[0mself\u001b[0m\u001b[0;34m.\u001b[0m\u001b[0matcamera\u001b[0m\u001b[0;34m.\u001b[0m\u001b[0mcmd_takeImages\u001b[0m\u001b[0;34m.\u001b[0m\u001b[0mstart\u001b[0m\u001b[0;34m(\u001b[0m\u001b[0mtimeout\u001b[0m\u001b[0;34m=\u001b[0m\u001b[0mtimeout\u001b[0m \u001b[0;34m+\u001b[0m \u001b[0mexp_time\u001b[0m\u001b[0;34m)\u001b[0m\u001b[0;34m\u001b[0m\u001b[0;34m\u001b[0m\u001b[0m\n\u001b[0m\u001b[1;32m    371\u001b[0m             end_readout = await self.atcamera.evt_endReadout.next(flush=False,\n\u001b[1;32m    372\u001b[0m                                                                   timeout=timeout)\n",
      "\u001b[0;32m~/repos/ts_salobj/python/lsst/ts/salobj/topics/remote_command.py\u001b[0m in \u001b[0;36mstart\u001b[0;34m(self, data, timeout, wait_done)\u001b[0m\n\u001b[1;32m    360\u001b[0m         \u001b[0mcmd_info\u001b[0m \u001b[0;34m=\u001b[0m \u001b[0m_CommandInfo\u001b[0m\u001b[0;34m(\u001b[0m\u001b[0mremote_command\u001b[0m\u001b[0;34m=\u001b[0m\u001b[0mself\u001b[0m\u001b[0;34m,\u001b[0m \u001b[0mseq_num\u001b[0m\u001b[0;34m=\u001b[0m\u001b[0mseq_num\u001b[0m\u001b[0;34m,\u001b[0m \u001b[0mwait_done\u001b[0m\u001b[0;34m=\u001b[0m\u001b[0mwait_done\u001b[0m\u001b[0;34m)\u001b[0m\u001b[0;34m\u001b[0m\u001b[0;34m\u001b[0m\u001b[0m\n\u001b[1;32m    361\u001b[0m         \u001b[0mself\u001b[0m\u001b[0;34m.\u001b[0m\u001b[0msalinfo\u001b[0m\u001b[0;34m.\u001b[0m\u001b[0m_running_cmds\u001b[0m\u001b[0;34m[\u001b[0m\u001b[0mseq_num\u001b[0m\u001b[0;34m]\u001b[0m \u001b[0;34m=\u001b[0m \u001b[0mcmd_info\u001b[0m\u001b[0;34m\u001b[0m\u001b[0;34m\u001b[0m\u001b[0m\n\u001b[0;32m--> 362\u001b[0;31m         \u001b[0;32mreturn\u001b[0m \u001b[0;32mawait\u001b[0m \u001b[0mcmd_info\u001b[0m\u001b[0;34m.\u001b[0m\u001b[0mnext_ackcmd\u001b[0m\u001b[0;34m(\u001b[0m\u001b[0mtimeout\u001b[0m\u001b[0;34m=\u001b[0m\u001b[0mtimeout\u001b[0m\u001b[0;34m)\u001b[0m\u001b[0;34m\u001b[0m\u001b[0;34m\u001b[0m\u001b[0m\n\u001b[0m",
      "\u001b[0;32m~/repos/ts_salobj/python/lsst/ts/salobj/topics/remote_command.py\u001b[0m in \u001b[0;36mnext_ackcmd\u001b[0;34m(self, timeout)\u001b[0m\n\u001b[1;32m    160\u001b[0m         \u001b[0;32mtry\u001b[0m\u001b[0;34m:\u001b[0m\u001b[0;34m\u001b[0m\u001b[0;34m\u001b[0m\u001b[0m\n\u001b[1;32m    161\u001b[0m             \u001b[0mself\u001b[0m\u001b[0;34m.\u001b[0m\u001b[0m_wait_task\u001b[0m \u001b[0;34m=\u001b[0m \u001b[0masyncio\u001b[0m\u001b[0;34m.\u001b[0m\u001b[0mensure_future\u001b[0m\u001b[0;34m(\u001b[0m\u001b[0masyncio\u001b[0m\u001b[0;34m.\u001b[0m\u001b[0mwait_for\u001b[0m\u001b[0;34m(\u001b[0m\u001b[0mself\u001b[0m\u001b[0;34m.\u001b[0m\u001b[0m_basic_next_ack\u001b[0m\u001b[0;34m(\u001b[0m\u001b[0;34m)\u001b[0m\u001b[0;34m,\u001b[0m \u001b[0mtimeout\u001b[0m\u001b[0;34m=\u001b[0m\u001b[0mtimeout\u001b[0m\u001b[0;34m)\u001b[0m\u001b[0;34m)\u001b[0m\u001b[0;34m\u001b[0m\u001b[0;34m\u001b[0m\u001b[0m\n\u001b[0;32m--> 162\u001b[0;31m             \u001b[0mackcmd\u001b[0m \u001b[0;34m=\u001b[0m \u001b[0;32mawait\u001b[0m \u001b[0mself\u001b[0m\u001b[0;34m.\u001b[0m\u001b[0m_wait_task\u001b[0m\u001b[0;34m\u001b[0m\u001b[0;34m\u001b[0m\u001b[0m\n\u001b[0m\u001b[1;32m    163\u001b[0m             \u001b[0;31m# print(f\"next_ackcmd got {ackcmd.ack} from _basic_next_ack\")\u001b[0m\u001b[0;34m\u001b[0m\u001b[0;34m\u001b[0m\u001b[0;34m\u001b[0m\u001b[0m\n\u001b[1;32m    164\u001b[0m             \u001b[0;32mif\u001b[0m \u001b[0mackcmd\u001b[0m\u001b[0;34m.\u001b[0m\u001b[0mack\u001b[0m \u001b[0;32min\u001b[0m \u001b[0mself\u001b[0m\u001b[0;34m.\u001b[0m\u001b[0mfailed_ack_codes\u001b[0m\u001b[0;34m:\u001b[0m\u001b[0;34m\u001b[0m\u001b[0;34m\u001b[0m\u001b[0m\n",
      "\u001b[0;31mCancelledError\u001b[0m: "
     ]
    }
   ],
   "source": [
    "#!!!!DO NOT RUN UNLESS YOU HAVE BEEN CLEARED TO CONTROL TELESCOPE!!!!! \n",
    "focus_images = [0 for focus_pos in focus_positions]\n",
    "for i in range(len(focus_positions)): \n",
    "    focus_pos = focus_positions[i] \n",
    "    print ('Working on focus position ' + str(focus_pos))\n",
    "    attcs.athexapod.evt_positionUpdate.flush() \n",
    "    await attcs.ataos.cmd_applyFocusOffset.set_start(offset=focus_pos)\n",
    "    await attcs.athexapod.evt_positionUpdate.next(flush=False, timeout=attcs.long_timeout)\n",
    "    focus_image = await latiss.take_engtest(exptime=15.0, n=1, filter='empty_1', grating='ronchi90lpmm') \n",
    "    print ('Newest image id is = ' +str(focus_image) )\n",
    "    focus_images[i] = int(focus_image)\n",
    "    \n",
    "#This resets the focus position after taking this sequence: \n",
    "await attcs.ataos.cmd_applyFocusOffset.set_start(offset = focus_center)"
   ]
  },
  {
   "cell_type": "code",
   "execution_count": 110,
   "metadata": {},
   "outputs": [
    {
     "name": "stdout",
     "output_type": "stream",
     "text": [
      "focus_positions = [-0.21 -0.19 -0.17 -0.15 -0.13 -0.11 -0.09]\n"
     ]
    }
   ],
   "source": [
    "import math \n",
    "#Focus units are given in mm \n",
    "focus_center = -0.15\n",
    "focus_step = 0.02\n",
    "n_steps = 7\n",
    "focus_positions = np.linspace(focus_center - focus_step * math.floor(n_steps / 2), focus_center + focus_step * math.ceil(n_steps / 2 - 1), n_steps)\n",
    "print ('focus_positions = ' + str(focus_positions))"
   ]
  },
  {
   "cell_type": "code",
   "execution_count": 111,
   "metadata": {},
   "outputs": [
    {
     "name": "stdout",
     "output_type": "stream",
     "text": [
      "Working on focus position -0.21\n",
      "Generating group_id\n",
      "ENGTEST 0001 - 0001\n",
      "Waiting for header service LFO before continuing\n",
      "RemoteEvent(ATHeaderService, 0, logMessage) falling behind; read 10 messages\n",
      "Newest image id is = [2020022000455]\n",
      "Working on focus position -0.19\n",
      "Generating group_id\n",
      "ENGTEST 0001 - 0001\n",
      "Waiting for header service LFO before continuing\n",
      "Newest image id is = [2020022000456]\n",
      "Working on focus position -0.16999999999999998\n",
      "Generating group_id\n",
      "ENGTEST 0001 - 0001\n",
      "Waiting for header service LFO before continuing\n",
      "RemoteEvent(ATHeaderService, 0, logMessage) falling behind; read 11 messages\n",
      "Newest image id is = [2020022000457]\n",
      "Working on focus position -0.15\n",
      "Generating group_id\n",
      "ENGTEST 0001 - 0001\n",
      "Waiting for header service LFO before continuing\n",
      "Newest image id is = [2020022000458]\n",
      "Working on focus position -0.13\n",
      "Generating group_id\n",
      "ENGTEST 0001 - 0001\n",
      "Waiting for header service LFO before continuing\n",
      "RemoteEvent(ATHeaderService, 0, logMessage) falling behind; read 10 messages\n",
      "Newest image id is = [2020022000459]\n",
      "Working on focus position -0.10999999999999999\n",
      "Generating group_id\n",
      "ENGTEST 0001 - 0001\n",
      "Waiting for header service LFO before continuing\n",
      "RemoteEvent(ATHeaderService, 0, logMessage) falling behind; read 10 messages\n",
      "Newest image id is = [2020022000460]\n",
      "Working on focus position -0.09\n",
      "Generating group_id\n",
      "ENGTEST 0001 - 0001\n",
      "Waiting for header service LFO before continuing\n",
      "RemoteEvent(ATHeaderService, 0, logMessage) falling behind; read 13 messages\n",
      "Newest image id is = [2020022000461]\n"
     ]
    },
    {
     "data": {
      "text/plain": [
       "<lsst.ts.salobj.ddsutil.ATAOS_ackcmd_33d5c92b at 0x7f8bc53fb898>"
      ]
     },
     "execution_count": 111,
     "metadata": {},
     "output_type": "execute_result"
    }
   ],
   "source": [
    "#!!!!DO NOT RUN UNLESS YOU HAVE BEEN CLEARED TO CONTROL TELESCOPE!!!!! \n",
    "focus_images = [0 for focus_pos in focus_positions]\n",
    "for i in range(len(focus_positions)): \n",
    "    focus_pos = focus_positions[i] \n",
    "    print ('Working on focus position ' + str(focus_pos))\n",
    "    attcs.athexapod.evt_positionUpdate.flush() \n",
    "    await attcs.ataos.cmd_applyFocusOffset.set_start(offset=focus_pos)\n",
    "    await attcs.athexapod.evt_positionUpdate.next(flush=False, timeout=attcs.long_timeout)\n",
    "    focus_image = await latiss.take_engtest(exptime=15.0, n=1, filter='empty_1', grating='ronchi90lpmm') \n",
    "    print ('Newest image id is = ' +str(focus_image) )\n",
    "    focus_images[i] = int(focus_image)\n",
    "    \n",
    "#This resets the focus position after taking this sequence: \n",
    "await attcs.ataos.cmd_applyFocusOffset.set_start(offset = focus_center)"
   ]
  },
  {
   "cell_type": "code",
   "execution_count": 112,
   "metadata": {},
   "outputs": [
    {
     "data": {
      "text/plain": [
       "<lsst.ts.salobj.ddsutil.ATAOS_ackcmd_33d5c92b at 0x7f8bc507ae80>"
      ]
     },
     "execution_count": 112,
     "metadata": {},
     "output_type": "execute_result"
    }
   ],
   "source": [
    "best_focus_fit = -0.15 \n",
    "await attcs.ataos.cmd_applyFocusOffset.set_start(offset=best_focus_fit)"
   ]
  },
  {
   "cell_type": "code",
   "execution_count": 113,
   "metadata": {},
   "outputs": [
    {
     "name": "stdout",
     "output_type": "stream",
     "text": [
      "Generating group_id\n",
      "OBJECT 0001 - 0001\n",
      "Waiting for header service LFO before continuing\n"
     ]
    },
    {
     "data": {
      "text/plain": [
       "array([2020022000462])"
      ]
     },
     "execution_count": 113,
     "metadata": {},
     "output_type": "execute_result"
    }
   ],
   "source": [
    "await latiss.take_object(exptime=100., n=1, filter='empty_1',grating='ronchi90lpmm') "
   ]
  },
  {
   "cell_type": "code",
   "execution_count": 114,
   "metadata": {},
   "outputs": [
    {
     "data": {
      "text/plain": [
       "<lsst.ts.salobj.ddsutil.ATAOS_ackcmd_33d5c92b at 0x7f8bda4712b0>"
      ]
     },
     "execution_count": 114,
     "metadata": {},
     "output_type": "execute_result"
    }
   ],
   "source": [
    "best_focus_fit = -0.15\n",
    "focus_adjust = 0.023\n",
    "await attcs.ataos.cmd_applyFocusOffset.set_start(offset=best_focus_fit + focus_adjust)"
   ]
  },
  {
   "cell_type": "code",
   "execution_count": 115,
   "metadata": {},
   "outputs": [
    {
     "name": "stdout",
     "output_type": "stream",
     "text": [
      "Generating group_id\n",
      "OBJECT 0001 - 0001\n",
      "RemoteEvent(ATMCS, 0, target) falling behind; read 25 messages\n",
      "RemoteEvent(ATDomeTrajectory, 0, logMessage) falling behind; read 12 messages\n",
      "RemoteEvent(ATDomeTrajectory, 0, logMessage) falling behind; read 38 messages\n",
      "Waiting for header service LFO before continuing\n"
     ]
    },
    {
     "data": {
      "text/plain": [
       "array([2020022000463])"
      ]
     },
     "execution_count": 115,
     "metadata": {},
     "output_type": "execute_result"
    }
   ],
   "source": [
    "await latiss.take_object(exptime=100., n=1, filter='quadnotch1',grating='ronchi90lpmm') "
   ]
  },
  {
   "cell_type": "code",
   "execution_count": 116,
   "metadata": {},
   "outputs": [
    {
     "name": "stdout",
     "output_type": "stream",
     "text": [
      "Slewing to HD 146233: 16 15 37.2703 -08 22 09.981\n",
      "Parallactic angle: -125.5297068447077 | Sky Angle: -123.75982690980342\n",
      "Sending command\n",
      "Stop tracking.\n",
      "Mount tracking state is 9\n",
      "Tracking state: 10.\n",
      "Tracking state: 8.\n",
      "In Position: True.\n",
      "In Position: False.\n",
      "Scheduling check coroutines\n",
      "process as completed...\n",
      "Got False\n",
      "Telescope not in position\n",
      "atmcs: <State.ENABLED: 2>\n",
      "atptg: <State.ENABLED: 2>\n",
      "ataos: <State.ENABLED: 2>\n",
      "atpneumatics: <State.ENABLED: 2>\n",
      "athexapod: <State.ENABLED: 2>\n",
      "atdome: <State.ENABLED: 2>\n",
      "atdometrajectory: <State.ENABLED: 2>\n",
      "[Telescope] delta Alt = +016.397 | delta Az= -108.040 [Dome] delta Az = -105.028\n",
      "[Telescope] delta Alt = +015.713 | delta Az= -105.461 [Dome] delta Az = -104.168\n",
      "[Telescope] delta Alt = +013.547 | delta Az= -101.474 [Dome] delta Az = -102.398\n",
      "[Telescope] delta Alt = +010.075 | delta Az= -097.480 [Dome] delta Az = -100.008\n",
      "[Telescope] delta Alt = +006.138 | delta Az= -093.487 [Dome] delta Az = -096.478\n",
      "[Telescope] delta Alt = +002.758 | delta Az= -089.492 [Dome] delta Az = -092.018\n",
      "[Telescope] delta Alt = +000.715 | delta Az= -085.500 [Dome] delta Az = -086.648\n",
      "[Telescope] delta Alt = +000.132 | delta Az= -081.507 [Dome] delta Az = -080.358\n",
      "[Telescope] delta Alt = +000.123 | delta Az= -077.514 [Dome] delta Az = -073.458\n",
      "[Telescope] delta Alt = +000.123 | delta Az= -073.521 [Dome] delta Az = -067.288\n",
      "[Telescope] delta Alt = +000.122 | delta Az= -069.527 [Dome] delta Az = -060.378\n",
      "[Telescope] delta Alt = +000.122 | delta Az= -065.534 [Dome] delta Az = -053.478\n",
      "[Telescope] delta Alt = +000.123 | delta Az= -061.542 [Dome] delta Az = -046.588\n",
      "[Telescope] delta Alt = +000.123 | delta Az= -057.549 [Dome] delta Az = -039.688\n",
      "[Telescope] delta Alt = +000.123 | delta Az= -053.555 [Dome] delta Az = -033.508\n",
      "[Telescope] delta Alt = +000.122 | delta Az= -049.562 [Dome] delta Az = -025.948\n",
      "[Telescope] delta Alt = +000.123 | delta Az= -045.570 [Dome] delta Az = -019.748\n",
      "[Telescope] delta Alt = +000.123 | delta Az= -041.576 [Dome] delta Az = -012.818\n",
      "[Telescope] delta Alt = +000.123 | delta Az= -037.583 [Dome] delta Az = -005.938\n",
      "[Telescope] delta Alt = +000.123 | delta Az= -033.589 [Dome] delta Az = -000.008\n",
      "[Telescope] delta Alt = +000.123 | delta Az= -029.597 [Dome] delta Az = +002.622\n",
      "[Telescope] delta Alt = +000.122 | delta Az= -025.618 [Dome] delta Az = +002.992\n",
      "[Telescope] delta Alt = +000.123 | delta Az= -021.693 [Dome] delta Az = +002.992\n",
      "[Telescope] delta Alt = +000.122 | delta Az= -017.885 [Dome] delta Az = +002.992\n",
      "[Telescope] delta Alt = +000.123 | delta Az= -014.276 [Dome] delta Az = +002.992\n",
      "[Telescope] delta Alt = +000.123 | delta Az= -010.947 [Dome] delta Az = +002.992\n",
      "[Telescope] delta Alt = +000.122 | delta Az= -007.983 [Dome] delta Az = +002.992\n",
      "[Telescope] delta Alt = +000.122 | delta Az= -005.459 [Dome] delta Az = +002.992\n",
      "[Telescope] delta Alt = +000.122 | delta Az= -003.425 [Dome] delta Az = +002.992\n",
      "[Telescope] delta Alt = +000.122 | delta Az= -001.909 [Dome] delta Az = +002.992\n",
      "[Telescope] delta Alt = +000.123 | delta Az= -000.904 [Dome] delta Az = +002.992\n",
      "[Telescope] delta Alt = +000.123 | delta Az= -000.353 [Dome] delta Az = +002.992\n",
      "[Telescope] delta Alt = +000.123 | delta Az= -000.148 [Dome] delta Az = +002.992\n",
      "[Telescope] delta Alt = +000.122 | delta Az= -000.126 [Dome] delta Az = +002.992\n",
      "Got True\n",
      "Waiting for telescope to settle.\n",
      "[Telescope] delta Alt = +000.122 | delta Az= -000.126 [Dome] delta Az = +002.992\n",
      "[Telescope] delta Alt = +000.122 | delta Az= -000.126 [Dome] delta Az = +002.992\n",
      "Telescope in position.\n",
      "ATDome in position.\n",
      "['Telescope in position.', 'ATDome in position.']\n"
     ]
    }
   ],
   "source": [
    "await attcs.slew_object(name = 'HD 146233', pa_ang = 0.0, slew_timeout = 240.0)"
   ]
  },
  {
   "cell_type": "code",
   "execution_count": 117,
   "metadata": {},
   "outputs": [
    {
     "name": "stdout",
     "output_type": "stream",
     "text": [
      "Generating group_id\n",
      "OBJECT 0001 - 0001\n",
      "RemoteEvent(ATHeaderService, 0, logMessage) falling behind; read 12 messages\n",
      "Waiting for header service LFO before continuing\n"
     ]
    },
    {
     "data": {
      "text/plain": [
       "array([2020022000464])"
      ]
     },
     "execution_count": 117,
     "metadata": {},
     "output_type": "execute_result"
    }
   ],
   "source": [
    "#setup image \n",
    "await latiss.take_object(exptime=1., n=1, filter='empty_1',grating='empty_1') "
   ]
  },
  {
   "cell_type": "code",
   "execution_count": 118,
   "metadata": {},
   "outputs": [
    {
     "name": "stdout",
     "output_type": "stream",
     "text": [
      "Generating group_id\n",
      "OBJECT 0001 - 0001\n",
      "Waiting for header service LFO before continuing\n",
      "RemoteEvent(ATHeaderService, 0, logMessage) falling behind; read 12 messages\n"
     ]
    },
    {
     "data": {
      "text/plain": [
       "array([2020022000465])"
      ]
     },
     "execution_count": 118,
     "metadata": {},
     "output_type": "execute_result"
    }
   ],
   "source": [
    "#setup image \n",
    "await latiss.take_object(exptime=1., n=1, filter='empty_1',grating='ronchi90lpmm')"
   ]
  },
  {
   "cell_type": "code",
   "execution_count": 119,
   "metadata": {},
   "outputs": [
    {
     "name": "stdout",
     "output_type": "stream",
     "text": [
      "Generating group_id\n",
      "OBJECT 0001 - 0001\n",
      "Waiting for header service LFO before continuing\n"
     ]
    },
    {
     "data": {
      "text/plain": [
       "array([2020022000466])"
      ]
     },
     "execution_count": 119,
     "metadata": {},
     "output_type": "execute_result"
    }
   ],
   "source": [
    "await latiss.take_object(exptime=30., n=1, filter='empty_1',grating='ronchi90lpmm')"
   ]
  },
  {
   "cell_type": "code",
   "execution_count": 120,
   "metadata": {},
   "outputs": [
    {
     "data": {
      "text/plain": [
       "<lsst.ts.salobj.ddsutil.ATAOS_ackcmd_33d5c92b at 0x7f8bc4dc4320>"
      ]
     },
     "execution_count": 120,
     "metadata": {},
     "output_type": "execute_result"
    }
   ],
   "source": [
    "best_focus_fit = -0.13\n",
    "focus_adjust = 0.023\n",
    "await attcs.ataos.cmd_applyFocusOffset.set_start(offset=best_focus_fit + focus_adjust)"
   ]
  },
  {
   "cell_type": "code",
   "execution_count": 121,
   "metadata": {},
   "outputs": [
    {
     "name": "stdout",
     "output_type": "stream",
     "text": [
      "Generating group_id\n",
      "OBJECT 0001 - 0001\n",
      "Waiting for header service LFO before continuing\n"
     ]
    },
    {
     "data": {
      "text/plain": [
       "array([2020022000467])"
      ]
     },
     "execution_count": 121,
     "metadata": {},
     "output_type": "execute_result"
    }
   ],
   "source": [
    "await latiss.take_object(exptime=30., n=1, filter='quadnotch1',grating='ronchi90lpmm') "
   ]
  },
  {
   "cell_type": "code",
   "execution_count": 122,
   "metadata": {},
   "outputs": [
    {
     "name": "stdout",
     "output_type": "stream",
     "text": [
      "Slewing to M104: 12 39 59.4318 -11 37 22.995\n",
      "Parallactic angle: 146.44659062673122 | Sky Angle: 191.0330712787649\n",
      "Sending command\n",
      "Stop tracking.\n",
      "Mount tracking state is 9\n",
      "Tracking state: 10.\n",
      "Tracking state: 8.\n",
      "In Position: True.\n",
      "In Position: False.\n",
      "Scheduling check coroutines\n",
      "process as completed...\n",
      "Got False\n",
      "Telescope not in position\n",
      "atmcs: <State.ENABLED: 2>\n",
      "atptg: <State.ENABLED: 2>\n",
      "ataos: <State.ENABLED: 2>\n",
      "atpneumatics: <State.ENABLED: 2>\n",
      "athexapod: <State.ENABLED: 2>\n",
      "atdome: <State.ENABLED: 2>\n",
      "atdometrajectory: <State.ENABLED: 2>\n",
      "[Telescope] delta Alt = +020.464 | delta Az= -106.436 [Dome] delta Az = -104.433\n",
      "[Telescope] delta Alt = +020.025 | delta Az= -103.620 [Dome] delta Az = -103.573\n",
      "[Telescope] delta Alt = +018.494 | delta Az= -099.643 [Dome] delta Az = -101.803\n",
      "[Telescope] delta Alt = +015.743 | delta Az= -095.659 [Dome] delta Az = -099.103\n",
      "[Telescope] delta Alt = +012.086 | delta Az= -091.677 [Dome] delta Az = -095.463\n",
      "[Telescope] delta Alt = +008.115 | delta Az= -087.696 [Dome] delta Az = -090.913\n",
      "[Telescope] delta Alt = +004.491 | delta Az= -083.713 [Dome] delta Az = -086.053\n",
      "[Telescope] delta Alt = +001.791 | delta Az= -079.732 [Dome] delta Az = -079.793\n",
      "[Telescope] delta Alt = +000.315 | delta Az= -075.748 [Dome] delta Az = -072.903\n",
      "[Telescope] delta Alt = -000.076 | delta Az= -071.765 [Dome] delta Az = -066.053\n",
      "[Telescope] delta Alt = -000.083 | delta Az= -067.784 [Dome] delta Az = -059.113\n",
      "[Telescope] delta Alt = -000.082 | delta Az= -063.802 [Dome] delta Az = -052.913\n",
      "[Telescope] delta Alt = -000.082 | delta Az= -059.818 [Dome] delta Az = -046.043\n",
      "[Telescope] delta Alt = -000.082 | delta Az= -055.836 [Dome] delta Az = -039.133\n",
      "[Telescope] delta Alt = -000.082 | delta Az= -051.854 [Dome] delta Az = -032.243\n",
      "[Telescope] delta Alt = -000.082 | delta Az= -047.872 [Dome] delta Az = -025.323\n",
      "[Telescope] delta Alt = -000.082 | delta Az= -043.890 [Dome] delta Az = -018.433\n",
      "[Telescope] delta Alt = -000.082 | delta Az= -039.907 [Dome] delta Az = -012.243\n",
      "[Telescope] delta Alt = -000.082 | delta Az= -035.924 [Dome] delta Az = -004.663\n",
      "[Telescope] delta Alt = -000.083 | delta Az= -031.943 [Dome] delta Az = +000.387\n",
      "[Telescope] delta Alt = -000.082 | delta Az= -027.963 [Dome] delta Az = +002.897\n",
      "[Telescope] delta Alt = -000.082 | delta Az= -024.011 [Dome] delta Az = +003.047\n",
      "[Telescope] delta Alt = -000.082 | delta Az= -020.138 [Dome] delta Az = +003.047\n",
      "[Telescope] delta Alt = -000.083 | delta Az= -016.415 [Dome] delta Az = +003.047\n",
      "[Telescope] delta Alt = -000.083 | delta Az= -012.926 [Dome] delta Az = +003.047\n",
      "[Telescope] delta Alt = -000.082 | delta Az= -009.754 [Dome] delta Az = +003.047\n",
      "[Telescope] delta Alt = -000.082 | delta Az= -006.982 [Dome] delta Az = +003.047\n",
      "[Telescope] delta Alt = -000.083 | delta Az= -004.672 [Dome] delta Az = +003.047\n",
      "[Telescope] delta Alt = -000.083 | delta Az= -002.872 [Dome] delta Az = +003.047\n",
      "[Telescope] delta Alt = -000.082 | delta Az= -001.587 [Dome] delta Az = +003.047\n",
      "[Telescope] delta Alt = -000.082 | delta Az= -000.797 [Dome] delta Az = +003.047\n",
      "[Telescope] delta Alt = -000.083 | delta Az= -000.418 [Dome] delta Az = +003.047\n",
      "[Telescope] delta Alt = -000.083 | delta Az= -000.323 [Dome] delta Az = +003.047\n",
      "[Telescope] delta Alt = -000.083 | delta Az= -000.319 [Dome] delta Az = +003.047\n",
      "Got True\n",
      "Waiting for telescope to settle.\n",
      "[Telescope] delta Alt = -000.083 | delta Az= -000.319 [Dome] delta Az = +003.047\n",
      "Telescope in position.\n",
      "ATDome in position.\n",
      "['Telescope in position.', 'ATDome in position.']\n"
     ]
    }
   ],
   "source": [
    "await attcs.slew_object(name = 'M104', pa_ang = 0.0, slew_timeout = 240.0)"
   ]
  },
  {
   "cell_type": "code",
   "execution_count": 123,
   "metadata": {},
   "outputs": [
    {
     "data": {
      "text/plain": [
       "<lsst.ts.salobj.ddsutil.ATAOS_ackcmd_33d5c92b at 0x7f8bc53851d0>"
      ]
     },
     "execution_count": 123,
     "metadata": {},
     "output_type": "execute_result"
    }
   ],
   "source": [
    "best_focus_fit = -0.13\n",
    "await attcs.ataos.cmd_applyFocusOffset.set_start(offset=best_focus_fit)"
   ]
  },
  {
   "cell_type": "code",
   "execution_count": 124,
   "metadata": {},
   "outputs": [
    {
     "name": "stdout",
     "output_type": "stream",
     "text": [
      "Generating group_id\n",
      "OBJECT 0001 - 0001\n",
      "Waiting for header service LFO before continuing\n"
     ]
    },
    {
     "data": {
      "text/plain": [
       "array([2020022000468])"
      ]
     },
     "execution_count": 124,
     "metadata": {},
     "output_type": "execute_result"
    }
   ],
   "source": [
    "await latiss.take_object(exptime=5., n=1, filter='empty_1',grating='empty_1')"
   ]
  },
  {
   "cell_type": "code",
   "execution_count": 125,
   "metadata": {},
   "outputs": [
    {
     "name": "stdout",
     "output_type": "stream",
     "text": [
      "Slewing to M104: 12 39 59.4318 -11 37 22.995\n",
      "Sending command\n",
      "Stop tracking.\n",
      "Mount tracking state is 9\n",
      "Tracking state: 10.\n",
      "Tracking state: 8.\n",
      "In Position: True.\n",
      "In Position: False.\n",
      "Scheduling check coroutines\n",
      "process as completed...\n",
      "Got False\n",
      "Telescope not in position\n",
      "atmcs: <State.ENABLED: 2>\n",
      "atptg: <State.ENABLED: 2>\n",
      "ataos: <State.ENABLED: 2>\n",
      "atpneumatics: <State.ENABLED: 2>\n",
      "athexapod: <State.ENABLED: 2>\n",
      "atdome: <State.ENABLED: 2>\n",
      "atdometrajectory: <State.ENABLED: 2>\n",
      "[Telescope] delta Alt = -000.091 | delta Az= -000.346 [Dome] delta Az = +003.047\n",
      "[Telescope] delta Alt = -000.084 | delta Az= -000.312 [Dome] delta Az = +003.047\n",
      "[Telescope] delta Alt = -000.084 | delta Az= -000.311 [Dome] delta Az = +003.047\n",
      "[Telescope] delta Alt = -000.084 | delta Az= -000.312 [Dome] delta Az = +003.047\n",
      "[Telescope] delta Alt = -000.085 | delta Az= -000.312 [Dome] delta Az = +003.047\n",
      "[Telescope] delta Alt = -000.085 | delta Az= -000.312 [Dome] delta Az = +003.047\n",
      "[Telescope] delta Alt = -000.085 | delta Az= -000.313 [Dome] delta Az = +003.047\n",
      "[Telescope] delta Alt = -000.084 | delta Az= -000.311 [Dome] delta Az = +003.047\n",
      "[Telescope] delta Alt = -000.084 | delta Az= -000.311 [Dome] delta Az = +003.047\n",
      "[Telescope] delta Alt = -000.085 | delta Az= -000.311 [Dome] delta Az = +003.047\n",
      "[Telescope] delta Alt = -000.085 | delta Az= -000.312 [Dome] delta Az = +003.047\n",
      "[Telescope] delta Alt = -000.085 | delta Az= -000.312 [Dome] delta Az = +003.047\n",
      "[Telescope] delta Alt = -000.085 | delta Az= -000.310 [Dome] delta Az = +003.047\n",
      "[Telescope] delta Alt = -000.085 | delta Az= -000.311 [Dome] delta Az = +003.047\n",
      "[Telescope] delta Alt = -000.085 | delta Az= -000.311 [Dome] delta Az = +003.047\n",
      "[Telescope] delta Alt = -000.085 | delta Az= -000.311 [Dome] delta Az = +003.047\n",
      "[Telescope] delta Alt = -000.085 | delta Az= -000.311 [Dome] delta Az = +003.047\n",
      "[Telescope] delta Alt = -000.085 | delta Az= -000.311 [Dome] delta Az = +003.047\n",
      "[Telescope] delta Alt = -000.085 | delta Az= -000.310 [Dome] delta Az = +003.047\n",
      "[Telescope] delta Alt = -000.085 | delta Az= -000.310 [Dome] delta Az = +003.047\n",
      "[Telescope] delta Alt = -000.085 | delta Az= -000.310 [Dome] delta Az = +003.047\n",
      "[Telescope] delta Alt = -000.085 | delta Az= -000.310 [Dome] delta Az = +003.047\n",
      "[Telescope] delta Alt = -000.085 | delta Az= -000.310 [Dome] delta Az = +003.047\n",
      "[Telescope] delta Alt = -000.087 | delta Az= -000.317 [Dome] delta Az = +003.047\n",
      "[Telescope] delta Alt = -000.085 | delta Az= -000.311 [Dome] delta Az = +003.047\n",
      "[Telescope] delta Alt = -000.085 | delta Az= -000.309 [Dome] delta Az = +003.047\n",
      "[Telescope] delta Alt = -000.085 | delta Az= -000.310 [Dome] delta Az = +003.047\n",
      "[Telescope] delta Alt = -000.085 | delta Az= -000.310 [Dome] delta Az = +003.047\n",
      "[Telescope] delta Alt = -000.085 | delta Az= -000.310 [Dome] delta Az = +003.047\n",
      "[Telescope] delta Alt = -000.085 | delta Az= -000.309 [Dome] delta Az = +003.047\n",
      "[Telescope] delta Alt = -000.085 | delta Az= -000.309 [Dome] delta Az = +003.047\n",
      "[Telescope] delta Alt = -000.085 | delta Az= -000.309 [Dome] delta Az = +003.047\n",
      "[Telescope] delta Alt = -000.085 | delta Az= -000.309 [Dome] delta Az = +003.047\n",
      "[Telescope] delta Alt = -000.085 | delta Az= -000.309 [Dome] delta Az = +003.047\n",
      "[Telescope] delta Alt = -000.086 | delta Az= -000.309 [Dome] delta Az = +003.047\n",
      "[Telescope] delta Alt = -000.085 | delta Az= -000.308 [Dome] delta Az = +003.047\n",
      "[Telescope] delta Alt = -000.085 | delta Az= -000.308 [Dome] delta Az = +003.047\n",
      "[Telescope] delta Alt = -000.085 | delta Az= -000.308 [Dome] delta Az = +003.047\n",
      "[Telescope] delta Alt = -000.086 | delta Az= -000.309 [Dome] delta Az = +003.047\n",
      "[Telescope] delta Alt = -000.086 | delta Az= -000.309 [Dome] delta Az = +003.047\n",
      "[Telescope] delta Alt = -000.085 | delta Az= -000.308 [Dome] delta Az = +003.047\n",
      "[Telescope] delta Alt = -000.086 | delta Az= -000.308 [Dome] delta Az = +003.047\n",
      "[Telescope] delta Alt = -000.086 | delta Az= -000.308 [Dome] delta Az = +003.047\n",
      "[Telescope] delta Alt = -000.086 | delta Az= -000.308 [Dome] delta Az = +003.047\n",
      "[Telescope] delta Alt = -000.086 | delta Az= -000.308 [Dome] delta Az = +003.047\n",
      "[Telescope] delta Alt = -000.086 | delta Az= -000.308 [Dome] delta Az = +003.047\n",
      "[Telescope] delta Alt = -000.086 | delta Az= -000.307 [Dome] delta Az = +003.047\n",
      "[Telescope] delta Alt = -000.086 | delta Az= -000.307 [Dome] delta Az = +003.047\n",
      "[Telescope] delta Alt = -000.086 | delta Az= -000.307 [Dome] delta Az = +003.047\n",
      "[Telescope] delta Alt = -000.086 | delta Az= -000.307 [Dome] delta Az = +003.047\n",
      "Got True\n",
      "Waiting for telescope to settle.\n",
      "[Telescope] delta Alt = -000.086 | delta Az= -000.308 [Dome] delta Az = +003.047\n",
      "[Telescope] delta Alt = -000.086 | delta Az= -000.306 [Dome] delta Az = +003.047\n",
      "Telescope in position.\n",
      "ATDome in position.\n",
      "['Telescope in position.', 'ATDome in position.']\n"
     ]
    }
   ],
   "source": [
    "await attcs.slew_object(name = 'M104', rot_sky = 0.0, slew_timeout = 240.0)"
   ]
  },
  {
   "cell_type": "code",
   "execution_count": 126,
   "metadata": {},
   "outputs": [
    {
     "name": "stdout",
     "output_type": "stream",
     "text": [
      "Generating group_id\n",
      "OBJECT 0001 - 0001\n",
      "RemoteEvent(ATHeaderService, 0, logMessage) falling behind; read 13 messages\n",
      "Waiting for header service LFO before continuing\n",
      "RemoteEvent(ATHeaderService, 0, logMessage) falling behind; read 19 messages\n"
     ]
    },
    {
     "data": {
      "text/plain": [
       "array([2020022000469])"
      ]
     },
     "execution_count": 126,
     "metadata": {},
     "output_type": "execute_result"
    }
   ],
   "source": [
    "await latiss.take_object(exptime=5., n=1, filter='empty_1',grating='empty_1')"
   ]
  },
  {
   "cell_type": "code",
   "execution_count": 127,
   "metadata": {},
   "outputs": [
    {
     "name": "stdout",
     "output_type": "stream",
     "text": [
      "Generating group_id\n",
      "OBJECT 0001 - 0001\n",
      "Waiting for header service LFO before continuing\n"
     ]
    },
    {
     "data": {
      "text/plain": [
       "array([2020022000470])"
      ]
     },
     "execution_count": 127,
     "metadata": {},
     "output_type": "execute_result"
    }
   ],
   "source": [
    "await latiss.take_object(exptime=60., n=1, filter='empty_1',grating='empty_1')"
   ]
  },
  {
   "cell_type": "code",
   "execution_count": 128,
   "metadata": {},
   "outputs": [
    {
     "data": {
      "text/plain": [
       "<lsst.ts.salobj.ddsutil.ATAOS_ackcmd_33d5c92b at 0x7f8bc5b94be0>"
      ]
     },
     "execution_count": 128,
     "metadata": {},
     "output_type": "execute_result"
    }
   ],
   "source": [
    "best_focus_fit = -0.13\n",
    "focus_offset = 0.02\n",
    "await attcs.ataos.cmd_applyFocusOffset.set_start(offset=best_focus_fit + focus_offset)"
   ]
  },
  {
   "cell_type": "code",
   "execution_count": 129,
   "metadata": {},
   "outputs": [
    {
     "name": "stdout",
     "output_type": "stream",
     "text": [
      "Generating group_id\n",
      "OBJECT 0001 - 0001\n",
      "Waiting for header service LFO before continuing\n"
     ]
    },
    {
     "data": {
      "text/plain": [
       "array([2020022000471])"
      ]
     },
     "execution_count": 129,
     "metadata": {},
     "output_type": "execute_result"
    }
   ],
   "source": [
    "await latiss.take_object(exptime=60., n=1, filter='BG40',grating='empty_1')"
   ]
  },
  {
   "cell_type": "code",
   "execution_count": 130,
   "metadata": {},
   "outputs": [
    {
     "name": "stdout",
     "output_type": "stream",
     "text": [
      "Generating group_id\n",
      "OBJECT 0001 - 0001\n",
      "Waiting for header service LFO before continuing\n",
      "RemoteEvent(ATHeaderService, 0, logMessage) falling behind; read 10 messages\n"
     ]
    },
    {
     "data": {
      "text/plain": [
       "array([2020022000472])"
      ]
     },
     "execution_count": 130,
     "metadata": {},
     "output_type": "execute_result"
    }
   ],
   "source": [
    "await latiss.take_object(exptime=60., n=1, filter='RG610',grating='empty_1')"
   ]
  },
  {
   "cell_type": "code",
   "execution_count": 131,
   "metadata": {},
   "outputs": [
    {
     "name": "stdout",
     "output_type": "stream",
     "text": [
      "Slewing to HD 83832: 09 38 47.1807 -60 05 30.742\n",
      "Parallactic angle: 83.75961877652682 | Sky Angle: 71.94035104949364\n",
      "Sending command\n",
      "Stop tracking.\n",
      "Mount tracking state is 9\n",
      "Tracking state: 10.\n",
      "Tracking state: 8.\n",
      "In Position: True.\n",
      "In Position: False.\n",
      "Scheduling check coroutines\n",
      "process as completed...\n",
      "Got False\n",
      "Telescope not in position\n",
      "atmcs: <State.ENABLED: 2>\n",
      "atptg: <State.ENABLED: 2>\n",
      "ataos: <State.ENABLED: 2>\n",
      "atpneumatics: <State.ENABLED: 2>\n",
      "athexapod: <State.ENABLED: 2>\n",
      "atdome: <State.ENABLED: 2>\n",
      "atdometrajectory: <State.ENABLED: 2>\n",
      "[Telescope] delta Alt = -026.203 | delta Az= -099.864 [Dome] delta Az = -103.556\n",
      "[Telescope] delta Alt = -025.782 | delta Az= -102.313 [Dome] delta Az = -102.826\n",
      "[Telescope] delta Alt = -024.486 | delta Az= -106.309 [Dome] delta Az = -101.146\n",
      "[Telescope] delta Alt = -022.211 | delta Az= -110.309 [Dome] delta Az = -098.536\n",
      "[Telescope] delta Alt = -019.055 | delta Az= -114.308 [Dome] delta Az = -095.026\n",
      "[Telescope] delta Alt = -015.297 | delta Az= -118.307 [Dome] delta Az = -090.576\n",
      "[Telescope] delta Alt = -011.324 | delta Az= -122.307 [Dome] delta Az = -085.196\n",
      "[Telescope] delta Alt = -007.541 | delta Az= -126.305 [Dome] delta Az = -078.956\n",
      "[Telescope] delta Alt = -004.335 | delta Az= -130.306 [Dome] delta Az = -072.766\n",
      "[Telescope] delta Alt = -001.989 | delta Az= -134.306 [Dome] delta Az = -065.876\n",
      "[Telescope] delta Alt = -000.620 | delta Az= -138.304 [Dome] delta Az = -058.986\n",
      "[Telescope] delta Alt = -000.115 | delta Az= -142.303 [Dome] delta Az = -052.056\n",
      "[Telescope] delta Alt = -000.075 | delta Az= -146.304 [Dome] delta Az = -045.156\n",
      "[Telescope] delta Alt = -000.075 | delta Az= -150.303 [Dome] delta Az = -038.286\n",
      "[Telescope] delta Alt = -000.075 | delta Az= -154.302 [Dome] delta Az = -032.086\n",
      "[Telescope] delta Alt = -000.075 | delta Az= -158.301 [Dome] delta Az = -025.186\n",
      "[Telescope] delta Alt = -000.075 | delta Az= -162.301 [Dome] delta Az = -018.296\n",
      "[Telescope] delta Alt = -000.075 | delta Az= -166.301 [Dome] delta Az = -011.406\n",
      "[Telescope] delta Alt = -000.075 | delta Az= -170.300 [Dome] delta Az = -004.506\n",
      "[Telescope] delta Alt = -000.075 | delta Az= -174.299 [Dome] delta Az = +000.874\n",
      "[Telescope] delta Alt = -000.075 | delta Az= -178.298 [Dome] delta Az = +002.924\n",
      "[Telescope] delta Alt = -000.075 | delta Az= +177.703 [Dome] delta Az = +003.044\n",
      "[Telescope] delta Alt = -000.075 | delta Az= +173.702 [Dome] delta Az = +003.044\n",
      "[Telescope] delta Alt = -000.075 | delta Az= +169.703 [Dome] delta Az = +003.044\n",
      "[Telescope] delta Alt = -000.075 | delta Az= +165.705 [Dome] delta Az = +003.044\n",
      "[Telescope] delta Alt = -000.075 | delta Az= +161.705 [Dome] delta Az = +003.044\n",
      "[Telescope] delta Alt = -000.075 | delta Az= +157.705 [Dome] delta Az = +003.044\n",
      "[Telescope] delta Alt = -000.075 | delta Az= +153.705 [Dome] delta Az = +003.044\n",
      "[Telescope] delta Alt = -000.075 | delta Az= +149.707 [Dome] delta Az = +003.044\n",
      "[Telescope] delta Alt = -000.075 | delta Az= +145.707 [Dome] delta Az = +003.044\n",
      "[Telescope] delta Alt = -000.075 | delta Az= +141.707 [Dome] delta Az = +003.044\n",
      "[Telescope] delta Alt = -000.075 | delta Az= +137.708 [Dome] delta Az = +003.044\n",
      "[Telescope] delta Alt = -000.075 | delta Az= +133.709 [Dome] delta Az = +003.044\n",
      "[Telescope] delta Alt = -000.075 | delta Az= +129.709 [Dome] delta Az = +003.044\n",
      "[Telescope] delta Alt = -000.075 | delta Az= +125.710 [Dome] delta Az = +003.044\n",
      "[Telescope] delta Alt = -000.075 | delta Az= +121.711 [Dome] delta Az = +003.044\n",
      "[Telescope] delta Alt = -000.075 | delta Az= +117.711 [Dome] delta Az = +003.044\n",
      "[Telescope] delta Alt = -000.075 | delta Az= +113.711 [Dome] delta Az = +003.044\n",
      "[Telescope] delta Alt = -000.075 | delta Az= +109.713 [Dome] delta Az = +003.044\n",
      "[Telescope] delta Alt = -000.075 | delta Az= +105.713 [Dome] delta Az = +003.044\n",
      "[Telescope] delta Alt = -000.075 | delta Az= +101.712 [Dome] delta Az = +003.044\n",
      "[Telescope] delta Alt = -000.075 | delta Az= +097.714 [Dome] delta Az = +003.044\n",
      "[Telescope] delta Alt = -000.075 | delta Az= +093.715 [Dome] delta Az = +003.044\n",
      "[Telescope] delta Alt = -000.075 | delta Az= +089.715 [Dome] delta Az = +003.044\n",
      "[Telescope] delta Alt = -000.075 | delta Az= +085.716 [Dome] delta Az = +003.044\n",
      "[Telescope] delta Alt = -000.075 | delta Az= +081.715 [Dome] delta Az = +003.044\n",
      "[Telescope] delta Alt = -000.075 | delta Az= +077.717 [Dome] delta Az = +003.044\n",
      "[Telescope] delta Alt = -000.075 | delta Az= +073.718 [Dome] delta Az = +003.044\n",
      "[Telescope] delta Alt = -000.075 | delta Az= +069.718 [Dome] delta Az = +003.044\n",
      "[Telescope] delta Alt = -000.075 | delta Az= +065.719 [Dome] delta Az = +003.044\n",
      "[Telescope] delta Alt = -000.075 | delta Az= +061.719 [Dome] delta Az = +003.044\n",
      "[Telescope] delta Alt = -000.075 | delta Az= +057.719 [Dome] delta Az = +003.044\n",
      "[Telescope] delta Alt = -000.075 | delta Az= +053.721 [Dome] delta Az = +003.044\n",
      "[Telescope] delta Alt = -000.075 | delta Az= +049.721 [Dome] delta Az = +003.044\n",
      "[Telescope] delta Alt = -000.075 | delta Az= +045.720 [Dome] delta Az = +003.044\n",
      "[Telescope] delta Alt = -000.075 | delta Az= +041.722 [Dome] delta Az = +003.044\n",
      "[Telescope] delta Alt = -000.075 | delta Az= +037.723 [Dome] delta Az = +003.044\n",
      "[Telescope] delta Alt = -000.075 | delta Az= +033.723 [Dome] delta Az = +003.044\n",
      "[Telescope] delta Alt = -000.075 | delta Az= +029.724 [Dome] delta Az = +003.044\n",
      "[Telescope] delta Alt = -000.075 | delta Az= +025.736 [Dome] delta Az = +003.044\n",
      "[Telescope] delta Alt = -000.075 | delta Az= +021.801 [Dome] delta Az = +003.044\n",
      "[Telescope] delta Alt = -000.075 | delta Az= +017.980 [Dome] delta Az = +003.044\n",
      "[Telescope] delta Alt = -000.075 | delta Az= +014.351 [Dome] delta Az = +003.044\n",
      "[Telescope] delta Alt = -000.075 | delta Az= +011.002 [Dome] delta Az = +003.044\n",
      "[Telescope] delta Alt = -000.075 | delta Az= +008.013 [Dome] delta Az = +003.044\n",
      "[Telescope] delta Alt = -000.075 | delta Az= +005.461 [Dome] delta Az = +003.044\n",
      "[Telescope] delta Alt = -000.075 | delta Az= +003.400 [Dome] delta Az = +003.044\n",
      "[Telescope] delta Alt = -000.075 | delta Az= +001.857 [Dome] delta Az = +003.044\n",
      "[Telescope] delta Alt = -000.075 | delta Az= +000.825 [Dome] delta Az = +003.044\n",
      "[Telescope] delta Alt = -000.075 | delta Az= +000.254 [Dome] delta Az = +003.044\n",
      "[Telescope] delta Alt = -000.075 | delta Az= +000.035 [Dome] delta Az = +003.044\n",
      "[Telescope] delta Alt = -000.075 | delta Az= +000.010 [Dome] delta Az = +003.044\n",
      "Got True\n",
      "Waiting for telescope to settle.\n",
      "[Telescope] delta Alt = -000.075 | delta Az= +000.010 [Dome] delta Az = +003.044\n",
      "[Telescope] delta Alt = -000.075 | delta Az= +000.010 [Dome] delta Az = +003.044\n",
      "Telescope in position.\n",
      "ATDome in position.\n",
      "['Telescope in position.', 'ATDome in position.']\n"
     ]
    }
   ],
   "source": [
    "await attcs.slew_object(name = 'HD 83832', pa_ang = 0.0, slew_timeout = 240.0)"
   ]
  },
  {
   "cell_type": "code",
   "execution_count": 132,
   "metadata": {},
   "outputs": [
    {
     "data": {
      "text/plain": [
       "<lsst.ts.salobj.ddsutil.ATAOS_ackcmd_33d5c92b at 0x7f8bda2e3eb8>"
      ]
     },
     "execution_count": 132,
     "metadata": {},
     "output_type": "execute_result"
    }
   ],
   "source": [
    "best_focus_fit = -0.13\n",
    "await attcs.ataos.cmd_applyFocusOffset.set_start(offset=best_focus_fit)"
   ]
  },
  {
   "cell_type": "code",
   "execution_count": 133,
   "metadata": {},
   "outputs": [
    {
     "name": "stdout",
     "output_type": "stream",
     "text": [
      "Generating group_id\n",
      "OBJECT 0001 - 0001\n",
      "Waiting for header service LFO before continuing\n",
      "RemoteEvent(ATHeaderService, 0, logMessage) falling behind; read 37 messages\n"
     ]
    },
    {
     "data": {
      "text/plain": [
       "array([2020022000473])"
      ]
     },
     "execution_count": 133,
     "metadata": {},
     "output_type": "execute_result"
    }
   ],
   "source": [
    "await latiss.take_object(exptime=10., n=1, filter='empty_1',grating='empty_1')"
   ]
  },
  {
   "cell_type": "code",
   "execution_count": 134,
   "metadata": {},
   "outputs": [
    {
     "name": "stdout",
     "output_type": "stream",
     "text": [
      "Applying x/y offset: 15/ -25 \n",
      "Applying Az/El offset: 24.90725414412373/ -15.15350424819392 \n",
      "Waiting for telescope to settle.\n",
      "Done\n"
     ]
    }
   ],
   "source": [
    "await attcs.offset_xy(x = +15, y = -25, persistent = True)"
   ]
  },
  {
   "cell_type": "code",
   "execution_count": 135,
   "metadata": {},
   "outputs": [
    {
     "name": "stdout",
     "output_type": "stream",
     "text": [
      "Generating group_id\n",
      "OBJECT 0001 - 0001\n",
      "Waiting for header service LFO before continuing\n"
     ]
    },
    {
     "data": {
      "text/plain": [
       "array([2020022000474])"
      ]
     },
     "execution_count": 135,
     "metadata": {},
     "output_type": "execute_result"
    }
   ],
   "source": [
    "await latiss.take_object(exptime=10., n=1, filter='empty_1',grating='empty_1')"
   ]
  },
  {
   "cell_type": "code",
   "execution_count": 136,
   "metadata": {},
   "outputs": [
    {
     "data": {
      "text/plain": [
       "<lsst.ts.salobj.ddsutil.ATPtg_ackcmd_2d655b72 at 0x7f8bc4dd1390>"
      ]
     },
     "execution_count": 136,
     "metadata": {},
     "output_type": "execute_result"
    }
   ],
   "source": [
    "await attcs.atptg.cmd_pointNewFile.start() "
   ]
  },
  {
   "cell_type": "code",
   "execution_count": 137,
   "metadata": {},
   "outputs": [
    {
     "name": "stdout",
     "output_type": "stream",
     "text": [
      "Generating group_id\n",
      "OBJECT 0001 - 0001\n",
      "RemoteEvent(ATHeaderService, 0, logMessage) falling behind; read 16 messages\n",
      "Waiting for header service LFO before continuing\n"
     ]
    },
    {
     "data": {
      "text/plain": [
       "array([2020022000475])"
      ]
     },
     "execution_count": 137,
     "metadata": {},
     "output_type": "execute_result"
    }
   ],
   "source": [
    "await latiss.take_object(exptime=10., n=1, filter='empty_1',grating='ronchi90lpmm')"
   ]
  },
  {
   "cell_type": "code",
   "execution_count": 138,
   "metadata": {},
   "outputs": [
    {
     "name": "stdout",
     "output_type": "stream",
     "text": [
      "Applying x/y offset: -20/ 0 \n",
      "Applying Az/El offset: 0.14970226112126683/ 19.99943972297762 \n",
      "Waiting for telescope to settle.\n",
      "Done\n"
     ]
    }
   ],
   "source": [
    "await attcs.offset_xy(x = -20, y = 0, persistent = True)"
   ]
  },
  {
   "cell_type": "code",
   "execution_count": 140,
   "metadata": {},
   "outputs": [
    {
     "data": {
      "text/plain": [
       "<lsst.ts.salobj.ddsutil.ATAOS_ackcmd_33d5c92b at 0x7f8bda0d3048>"
      ]
     },
     "execution_count": 140,
     "metadata": {},
     "output_type": "execute_result"
    }
   ],
   "source": [
    "best_focus_fit = -0.13\n",
    "focus_offset = 0.023\n",
    "await attcs.ataos.cmd_applyFocusOffset.set_start(offset=best_focus_fit + focus_offset)"
   ]
  },
  {
   "cell_type": "code",
   "execution_count": 141,
   "metadata": {},
   "outputs": [
    {
     "name": "stdout",
     "output_type": "stream",
     "text": [
      "Generating group_id\n",
      "OBJECT 0001 - 0001\n",
      "Waiting for header service LFO before continuing\n"
     ]
    },
    {
     "data": {
      "text/plain": [
       "array([2020022000477])"
      ]
     },
     "execution_count": 141,
     "metadata": {},
     "output_type": "execute_result"
    }
   ],
   "source": [
    "await latiss.take_object(exptime=200., n=1, filter='quadnotch1',grating='ronchi90lpmm')"
   ]
  },
  {
   "cell_type": "code",
   "execution_count": 142,
   "metadata": {},
   "outputs": [
    {
     "name": "stdout",
     "output_type": "stream",
     "text": [
      "Slewing to HD 83832: 09 38 47.1807 -60 05 30.742\n",
      "Parallactic angle: 87.18856506025836 | Sky Angle: 71.58439864040133\n",
      "Sending command\n",
      "Stop tracking.\n",
      "Mount tracking state is 9\n",
      "Tracking state: 10.\n",
      "Tracking state: 8.\n",
      "In Position: True.\n",
      "In Position: False.\n",
      "Scheduling check coroutines\n",
      "process as completed...\n",
      "Got False\n",
      "Telescope not in position\n",
      "atmcs: <State.ENABLED: 2>\n",
      "atptg: <State.ENABLED: 2>\n",
      "ataos: <State.ENABLED: 2>\n",
      "atpneumatics: <State.ENABLED: 2>\n",
      "athexapod: <State.ENABLED: 2>\n",
      "atdome: <State.ENABLED: 2>\n",
      "atdometrajectory: <State.ENABLED: 2>\n",
      "[Telescope] delta Alt = -000.078 | delta Az= +000.017 [Dome] delta Az = +003.044\n",
      "[Telescope] delta Alt = -000.075 | delta Az= +000.004 [Dome] delta Az = +003.044\n",
      "Got True\n",
      "Waiting for telescope to settle.\n",
      "[Telescope] delta Alt = -000.076 | delta Az= +000.005 [Dome] delta Az = +003.044\n",
      "[Telescope] delta Alt = -000.076 | delta Az= +000.005 [Dome] delta Az = +003.044\n",
      "Telescope in position.\n",
      "ATDome in position.\n",
      "['Telescope in position.', 'ATDome in position.']\n"
     ]
    }
   ],
   "source": [
    "await attcs.slew_object(name = 'HD 83832', pa_ang = 0.0, slew_timeout = 240.0)"
   ]
  },
  {
   "cell_type": "code",
   "execution_count": 143,
   "metadata": {},
   "outputs": [
    {
     "name": "stdout",
     "output_type": "stream",
     "text": [
      "Generating group_id\n",
      "OBJECT 0001 - 0001\n",
      "Waiting for header service LFO before continuing\n"
     ]
    },
    {
     "data": {
      "text/plain": [
       "array([2020022000478])"
      ]
     },
     "execution_count": 143,
     "metadata": {},
     "output_type": "execute_result"
    }
   ],
   "source": [
    "await latiss.take_object(exptime=10., n=1, filter='empty_1',grating='empty_1')"
   ]
  },
  {
   "cell_type": "code",
   "execution_count": 144,
   "metadata": {},
   "outputs": [
    {
     "name": "stdout",
     "output_type": "stream",
     "text": [
      "Generating group_id\n",
      "OBJECT 0001 - 0001\n",
      "Waiting for header service LFO before continuing\n"
     ]
    },
    {
     "data": {
      "text/plain": [
       "array([2020022000479])"
      ]
     },
     "execution_count": 144,
     "metadata": {},
     "output_type": "execute_result"
    }
   ],
   "source": [
    "await latiss.take_object(exptime=10., n=1, filter='empty_1',grating='ronchi90lpmm')"
   ]
  },
  {
   "cell_type": "code",
   "execution_count": 145,
   "metadata": {},
   "outputs": [
    {
     "name": "stdout",
     "output_type": "stream",
     "text": [
      "Slewing to HD 185975: 20 28 18.7402 -87 28 19.938\n",
      "Parallactic angle: -96.01909032680355 | Sky Angle: -126.19766473607139\n",
      "Sending command\n",
      "Stop tracking.\n",
      "Mount tracking state is 9\n",
      "Tracking state: 10.\n",
      "Tracking state: 8.\n",
      "In Position: True.\n",
      "In Position: False.\n",
      "Scheduling check coroutines\n",
      "process as completed...\n",
      "Got False\n",
      "Telescope not in position\n",
      "atmcs: <State.ENABLED: 2>\n",
      "atptg: <State.ENABLED: 2>\n",
      "ataos: <State.ENABLED: 2>\n",
      "atpneumatics: <State.ENABLED: 2>\n",
      "athexapod: <State.ENABLED: 2>\n",
      "atdome: <State.ENABLED: 2>\n",
      "atdometrajectory: <State.ENABLED: 2>\n",
      "[Telescope] delta Alt = -007.017 | delta Az= -038.013 [Dome] delta Az = -034.737\n",
      "[Telescope] delta Alt = -004.869 | delta Az= -035.402 [Dome] delta Az = -033.887\n",
      "[Telescope] delta Alt = -001.181 | delta Az= -031.407 [Dome] delta Az = -032.127\n",
      "[Telescope] delta Alt = +000.006 | delta Az= -027.412 [Dome] delta Az = -029.747\n",
      "[Telescope] delta Alt = +000.007 | delta Az= -023.447 [Dome] delta Az = -026.227\n",
      "[Telescope] delta Alt = +000.007 | delta Az= -019.567 [Dome] delta Az = -021.777\n",
      "[Telescope] delta Alt = +000.007 | delta Az= -015.848 [Dome] delta Az = -016.437\n",
      "[Telescope] delta Alt = +000.007 | delta Az= -012.369 [Dome] delta Az = -010.147\n",
      "[Telescope] delta Alt = +000.007 | delta Az= -009.218 [Dome] delta Az = -003.317\n",
      "[Telescope] delta Alt = +000.007 | delta Az= -006.473 [Dome] delta Az = +001.123\n",
      "[Telescope] delta Alt = +000.007 | delta Az= -004.200 [Dome] delta Az = +002.973\n",
      "[Telescope] delta Alt = +000.007 | delta Az= -002.436 [Dome] delta Az = +002.983\n",
      "[Telescope] delta Alt = +000.007 | delta Az= -001.192 [Dome] delta Az = +002.983\n",
      "[Telescope] delta Alt = +000.007 | delta Az= -000.435 [Dome] delta Az = +002.983\n",
      "[Telescope] delta Alt = +000.007 | delta Az= -000.084 [Dome] delta Az = +002.983\n",
      "[Telescope] delta Alt = +000.007 | delta Az= -000.003 [Dome] delta Az = +002.983\n",
      "[Telescope] delta Alt = +000.007 | delta Az= -000.001 [Dome] delta Az = +002.983\n",
      "Got True\n",
      "Waiting for telescope to settle.\n",
      "[Telescope] delta Alt = +000.007 | delta Az= -000.001 [Dome] delta Az = +002.983\n",
      "Telescope in position.\n",
      "ATDome in position.\n",
      "['Telescope in position.', 'ATDome in position.']\n"
     ]
    }
   ],
   "source": [
    "await attcs.slew_object(name = 'HD 185975', pa_ang = 0.0, slew_timeout = 240.0)"
   ]
  },
  {
   "cell_type": "code",
   "execution_count": 146,
   "metadata": {},
   "outputs": [
    {
     "name": "stdout",
     "output_type": "stream",
     "text": [
      "Generating group_id\n",
      "OBJECT 0001 - 0001\n",
      "Waiting for header service LFO before continuing\n"
     ]
    },
    {
     "data": {
      "text/plain": [
       "array([2020022000480])"
      ]
     },
     "execution_count": 146,
     "metadata": {},
     "output_type": "execute_result"
    }
   ],
   "source": [
    "await latiss.take_object(exptime=1., n=1, filter='empty_1',grating='empty_1')"
   ]
  },
  {
   "cell_type": "code",
   "execution_count": 147,
   "metadata": {},
   "outputs": [
    {
     "data": {
      "text/plain": [
       "<lsst.ts.salobj.ddsutil.ATAOS_ackcmd_33d5c92b at 0x7f8bc4ce0a58>"
      ]
     },
     "execution_count": 147,
     "metadata": {},
     "output_type": "execute_result"
    }
   ],
   "source": [
    "best_focus_fit = -0.15\n",
    "await attcs.ataos.cmd_applyFocusOffset.set_start(offset=best_focus_fit)"
   ]
  },
  {
   "cell_type": "code",
   "execution_count": 148,
   "metadata": {},
   "outputs": [
    {
     "name": "stdout",
     "output_type": "stream",
     "text": [
      "Generating group_id\n",
      "OBJECT 0001 - 0001\n",
      "Waiting for header service LFO before continuing\n"
     ]
    },
    {
     "data": {
      "text/plain": [
       "array([2020022000481])"
      ]
     },
     "execution_count": 148,
     "metadata": {},
     "output_type": "execute_result"
    }
   ],
   "source": [
    "await latiss.take_object(exptime=1., n=1, filter='empty_1',grating='ronchi90lpmm')"
   ]
  },
  {
   "cell_type": "code",
   "execution_count": 149,
   "metadata": {},
   "outputs": [
    {
     "name": "stdout",
     "output_type": "stream",
     "text": [
      "Generating group_id\n",
      "OBJECT 0001 - 0001\n",
      "Waiting for header service LFO before continuing\n"
     ]
    },
    {
     "data": {
      "text/plain": [
       "array([2020022000482])"
      ]
     },
     "execution_count": 149,
     "metadata": {},
     "output_type": "execute_result"
    }
   ],
   "source": [
    "await latiss.take_object(exptime=60., n=1, filter='empty_1',grating='ronchi90lpmm')"
   ]
  },
  {
   "cell_type": "code",
   "execution_count": 150,
   "metadata": {},
   "outputs": [
    {
     "name": "stdout",
     "output_type": "stream",
     "text": [
      "Generating group_id\n",
      "OBJECT 0001 - 0001\n",
      "Waiting for header service LFO before continuing\n"
     ]
    },
    {
     "data": {
      "text/plain": [
       "array([2020022000483])"
      ]
     },
     "execution_count": 150,
     "metadata": {},
     "output_type": "execute_result"
    }
   ],
   "source": [
    "await latiss.take_object(exptime=60., n=1, filter='quadnotch1',grating='ronchi90lpmm')"
   ]
  },
  {
   "cell_type": "code",
   "execution_count": 151,
   "metadata": {},
   "outputs": [
    {
     "name": "stdout",
     "output_type": "stream",
     "text": [
      "Generating group_id\n",
      "OBJECT 0001 - 0001\n",
      "Waiting for header service LFO before continuing\n"
     ]
    },
    {
     "data": {
      "text/plain": [
       "array([2020022000484])"
      ]
     },
     "execution_count": 151,
     "metadata": {},
     "output_type": "execute_result"
    }
   ],
   "source": [
    "await latiss.take_object(exptime=60., n=1, filter='empty_1',grating='ronchi90lpmm')"
   ]
  },
  {
   "cell_type": "code",
   "execution_count": 152,
   "metadata": {},
   "outputs": [
    {
     "name": "stdout",
     "output_type": "stream",
     "text": [
      "focus_positions = [-0.2  -0.15 -0.1  -0.05  0.    0.05  0.1   0.15  0.2 ]\n"
     ]
    }
   ],
   "source": [
    "import math \n",
    "#Focus units are given in mm \n",
    "focus_center = -0.00\n",
    "focus_step = 0.05\n",
    "n_steps = 9\n",
    "focus_positions = np.linspace(focus_center - focus_step * math.floor(n_steps / 2), focus_center + focus_step * math.ceil(n_steps / 2 - 1), n_steps)\n",
    "print ('focus_positions = ' + str(focus_positions))"
   ]
  },
  {
   "cell_type": "code",
   "execution_count": 153,
   "metadata": {},
   "outputs": [
    {
     "name": "stdout",
     "output_type": "stream",
     "text": [
      "Working on focus position -0.2\n",
      "Generating group_id\n",
      "ENGTEST 0001 - 0001\n",
      "Waiting for header service LFO before continuing\n",
      "RemoteEvent(ATHeaderService, 0, logMessage) falling behind; read 12 messages\n",
      "Newest image id is = [2020022000485]\n",
      "Working on focus position -0.15000000000000002\n",
      "Generating group_id\n",
      "ENGTEST 0001 - 0001\n",
      "Waiting for header service LFO before continuing\n",
      "Newest image id is = [2020022000486]\n",
      "Working on focus position -0.1\n",
      "Generating group_id\n",
      "ENGTEST 0001 - 0001\n",
      "RemoteEvent(ATHeaderService, 0, logMessage) falling behind; read 10 messages\n",
      "Waiting for header service LFO before continuing\n",
      "Newest image id is = [2020022000487]\n",
      "Working on focus position -0.04999999999999999\n",
      "Generating group_id\n",
      "ENGTEST 0001 - 0001\n",
      "Waiting for header service LFO before continuing\n",
      "Newest image id is = [2020022000488]\n",
      "Working on focus position 0.0\n",
      "Generating group_id\n",
      "ENGTEST 0001 - 0001\n",
      "Waiting for header service LFO before continuing\n",
      "Newest image id is = [2020022000489]\n",
      "Working on focus position 0.04999999999999999\n",
      "Generating group_id\n",
      "ENGTEST 0001 - 0001\n",
      "Waiting for header service LFO before continuing\n",
      "Newest image id is = [2020022000490]\n",
      "Working on focus position 0.10000000000000003\n",
      "Generating group_id\n",
      "ENGTEST 0001 - 0001\n",
      "Waiting for header service LFO before continuing\n",
      "Newest image id is = [2020022000491]\n",
      "Working on focus position 0.15000000000000002\n",
      "Generating group_id\n",
      "ENGTEST 0001 - 0001\n",
      "Waiting for header service LFO before continuing\n",
      "Newest image id is = [2020022000492]\n",
      "Working on focus position 0.2\n",
      "Generating group_id\n",
      "ENGTEST 0001 - 0001\n",
      "Waiting for header service LFO before continuing\n",
      "Newest image id is = [2020022000493]\n"
     ]
    },
    {
     "data": {
      "text/plain": [
       "<lsst.ts.salobj.ddsutil.ATAOS_ackcmd_33d5c92b at 0x7f8bda223710>"
      ]
     },
     "execution_count": 153,
     "metadata": {},
     "output_type": "execute_result"
    }
   ],
   "source": [
    "#!!!!DO NOT RUN UNLESS YOU HAVE BEEN CLEARED TO CONTROL TELESCOPE!!!!! \n",
    "focus_images = [0 for focus_pos in focus_positions]\n",
    "for i in range(len(focus_positions)): \n",
    "    focus_pos = focus_positions[i] \n",
    "    print ('Working on focus position ' + str(focus_pos))\n",
    "    attcs.athexapod.evt_positionUpdate.flush() \n",
    "    await attcs.ataos.cmd_applyFocusOffset.set_start(offset=focus_pos)\n",
    "    await attcs.athexapod.evt_positionUpdate.next(flush=False, timeout=attcs.long_timeout)\n",
    "    focus_image = await latiss.take_engtest(exptime=15.0, n=1, filter='empty_1', grating='ronchi90lpmm') \n",
    "    print ('Newest image id is = ' +str(focus_image) )\n",
    "    focus_images[i] = int(focus_image)\n",
    "    \n",
    "#This resets the focus position after taking this sequence: \n",
    "await attcs.ataos.cmd_applyFocusOffset.set_start(offset = focus_center)"
   ]
  },
  {
   "cell_type": "code",
   "execution_count": 154,
   "metadata": {},
   "outputs": [
    {
     "data": {
      "text/plain": [
       "<lsst.ts.salobj.ddsutil.ATAOS_ackcmd_33d5c92b at 0x7f8bc4d4fa90>"
      ]
     },
     "execution_count": 154,
     "metadata": {},
     "output_type": "execute_result"
    }
   ],
   "source": [
    "best_focus_fit = -0.15\n",
    "await attcs.ataos.cmd_applyFocusOffset.set_start(offset=best_focus_fit)"
   ]
  },
  {
   "cell_type": "code",
   "execution_count": 155,
   "metadata": {},
   "outputs": [
    {
     "name": "stdout",
     "output_type": "stream",
     "text": [
      "Slewing to HD 146233: 16 15 37.2703 -08 22 09.981\n",
      "Parallactic angle: -133.29443080763986 | Sky Angle: -112.48440404610666\n",
      "Sending command\n",
      "Stop tracking.\n",
      "Mount tracking state is 9\n",
      "Tracking state: 10.\n",
      "Tracking state: 8.\n",
      "In Position: True.\n",
      "In Position: False.\n",
      "Scheduling check coroutines\n",
      "process as completed...\n",
      "Got False\n",
      "Telescope not in position\n",
      "atmcs: <State.ENABLED: 2>\n",
      "atptg: <State.ENABLED: 2>\n",
      "ataos: <State.ENABLED: 2>\n",
      "atpneumatics: <State.ENABLED: 2>\n",
      "athexapod: <State.ENABLED: 2>\n",
      "atdome: <State.ENABLED: 2>\n",
      "atdometrajectory: <State.ENABLED: 2>\n",
      "[Telescope] delta Alt = +025.373 | delta Az= -120.119 [Dome] delta Az = -117.113\n",
      "[Telescope] delta Alt = +025.019 | delta Az= -117.577 [Dome] delta Az = -116.263\n",
      "[Telescope] delta Alt = +023.836 | delta Az= -113.593 [Dome] delta Az = -114.713\n",
      "[Telescope] delta Alt = +021.639 | delta Az= -109.602 [Dome] delta Az = -112.113\n",
      "[Telescope] delta Alt = +018.530 | delta Az= -105.612 [Dome] delta Az = -108.583\n",
      "[Telescope] delta Alt = +014.785 | delta Az= -101.621 [Dome] delta Az = -104.123\n",
      "[Telescope] delta Alt = +010.818 | delta Az= -097.632 [Dome] delta Az = -098.743\n",
      "[Telescope] delta Alt = +007.066 | delta Az= -093.642 [Dome] delta Az = -092.463\n",
      "[Telescope] delta Alt = +003.933 | delta Az= -089.652 [Dome] delta Az = -086.263\n",
      "[Telescope] delta Alt = +001.710 | delta Az= -085.661 [Dome] delta Az = -079.363\n",
      "[Telescope] delta Alt = +000.492 | delta Az= -081.671 [Dome] delta Az = -072.523\n",
      "[Telescope] delta Alt = +000.124 | delta Az= -077.681 [Dome] delta Az = -065.593\n",
      "[Telescope] delta Alt = +000.110 | delta Az= -073.692 [Dome] delta Az = -058.683\n",
      "[Telescope] delta Alt = +000.110 | delta Az= -069.703 [Dome] delta Az = -052.513\n",
      "[Telescope] delta Alt = +000.109 | delta Az= -065.711 [Dome] delta Az = -045.613\n",
      "[Telescope] delta Alt = +000.110 | delta Az= -061.721 [Dome] delta Az = -038.733\n",
      "[Telescope] delta Alt = +000.110 | delta Az= -057.731 [Dome] delta Az = -031.883\n",
      "[Telescope] delta Alt = +000.110 | delta Az= -053.742 [Dome] delta Az = -024.973\n",
      "[Telescope] delta Alt = +000.110 | delta Az= -049.752 [Dome] delta Az = -018.073\n",
      "[Telescope] delta Alt = +000.110 | delta Az= -045.761 [Dome] delta Az = -011.883\n",
      "[Telescope] delta Alt = +000.109 | delta Az= -041.771 [Dome] delta Az = -005.013\n",
      "[Telescope] delta Alt = +000.110 | delta Az= -037.782 [Dome] delta Az = +000.537\n",
      "[Telescope] delta Alt = +000.110 | delta Az= -033.791 [Dome] delta Az = +002.827\n",
      "[Telescope] delta Alt = +000.110 | delta Az= -029.802 [Dome] delta Az = +002.917\n",
      "[Telescope] delta Alt = +000.110 | delta Az= -025.823 [Dome] delta Az = +002.917\n",
      "[Telescope] delta Alt = +000.110 | delta Az= -021.898 [Dome] delta Az = +002.917\n",
      "[Telescope] delta Alt = +000.109 | delta Az= -018.088 [Dome] delta Az = +002.917\n",
      "[Telescope] delta Alt = +000.109 | delta Az= -014.469 [Dome] delta Az = +002.917\n",
      "[Telescope] delta Alt = +000.110 | delta Az= -011.130 [Dome] delta Az = +002.917\n",
      "[Telescope] delta Alt = +000.110 | delta Az= -008.152 [Dome] delta Az = +002.917\n",
      "[Telescope] delta Alt = +000.110 | delta Az= -005.608 [Dome] delta Az = +002.917\n",
      "[Telescope] delta Alt = +000.109 | delta Az= -003.554 [Dome] delta Az = +002.917\n",
      "[Telescope] delta Alt = +000.109 | delta Az= -002.018 [Dome] delta Az = +002.917\n",
      "[Telescope] delta Alt = +000.109 | delta Az= -000.991 [Dome] delta Az = +002.917\n",
      "[Telescope] delta Alt = +000.110 | delta Az= -000.422 [Dome] delta Az = +002.917\n",
      "[Telescope] delta Alt = +000.110 | delta Az= -000.210 [Dome] delta Az = +002.917\n",
      "[Telescope] delta Alt = +000.110 | delta Az= -000.183 [Dome] delta Az = +002.917\n",
      "Got True\n",
      "Waiting for telescope to settle.\n",
      "[Telescope] delta Alt = +000.110 | delta Az= -000.183 [Dome] delta Az = +002.917\n",
      "[Telescope] delta Alt = +000.109 | delta Az= -000.182 [Dome] delta Az = +002.917\n",
      "Telescope in position.\n",
      "ATDome in position.\n",
      "['Telescope in position.', 'ATDome in position.']\n"
     ]
    }
   ],
   "source": [
    "await attcs.slew_object(name = 'HD 146233', pa_ang = 0.0, slew_timeout = 240.0)"
   ]
  },
  {
   "cell_type": "code",
   "execution_count": 156,
   "metadata": {},
   "outputs": [
    {
     "data": {
      "text/plain": [
       "<lsst.ts.salobj.ddsutil.ATAOS_ackcmd_33d5c92b at 0x7f8bbfcbdfd0>"
      ]
     },
     "execution_count": 156,
     "metadata": {},
     "output_type": "execute_result"
    }
   ],
   "source": [
    "best_focus_fit = -0.15\n",
    "focus_offset = -0.045\n",
    "await attcs.ataos.cmd_applyFocusOffset.set_start(offset=best_focus_fit + focus_offset)"
   ]
  },
  {
   "cell_type": "code",
   "execution_count": 157,
   "metadata": {},
   "outputs": [
    {
     "name": "stdout",
     "output_type": "stream",
     "text": [
      "Generating group_id\n",
      "OBJECT 0001 - 0001\n",
      "RemoteEvent(ATHeaderService, 0, logMessage) falling behind; read 10 messages\n",
      "Waiting for header service LFO before continuing\n"
     ]
    },
    {
     "data": {
      "text/plain": [
       "array([2020022000494])"
      ]
     },
     "execution_count": 157,
     "metadata": {},
     "output_type": "execute_result"
    }
   ],
   "source": [
    "await latiss.take_object(exptime=1., n=1, filter='empty_1',grating='empty_1')"
   ]
  },
  {
   "cell_type": "code",
   "execution_count": 158,
   "metadata": {},
   "outputs": [
    {
     "name": "stdout",
     "output_type": "stream",
     "text": [
      "Generating group_id\n",
      "OBJECT 0001 - 0001\n",
      "Waiting for header service LFO before continuing\n"
     ]
    },
    {
     "data": {
      "text/plain": [
       "array([2020022000495])"
      ]
     },
     "execution_count": 158,
     "metadata": {},
     "output_type": "execute_result"
    }
   ],
   "source": [
    "await latiss.take_object(exptime=1., n=1, filter='empty_1',grating='ronchi90lpmm')"
   ]
  },
  {
   "cell_type": "code",
   "execution_count": 159,
   "metadata": {},
   "outputs": [
    {
     "data": {
      "text/plain": [
       "<lsst.ts.salobj.ddsutil.ATAOS_ackcmd_33d5c92b at 0x7f8bc507a470>"
      ]
     },
     "execution_count": 159,
     "metadata": {},
     "output_type": "execute_result"
    }
   ],
   "source": [
    "best_focus_fit = -0.15\n",
    "await attcs.ataos.cmd_applyFocusOffset.set_start(offset=best_focus_fit + focus_offset)"
   ]
  },
  {
   "cell_type": "code",
   "execution_count": 160,
   "metadata": {},
   "outputs": [
    {
     "name": "stdout",
     "output_type": "stream",
     "text": [
      "Generating group_id\n",
      "OBJECT 0001 - 0001\n",
      "Waiting for header service LFO before continuing\n",
      "RemoteEvent(ATHeaderService, 0, logMessage) falling behind; read 10 messages\n"
     ]
    },
    {
     "data": {
      "text/plain": [
       "array([2020022000496])"
      ]
     },
     "execution_count": 160,
     "metadata": {},
     "output_type": "execute_result"
    }
   ],
   "source": [
    "await latiss.take_object(exptime=1., n=1, filter='empty_1',grating='ronchi90lpmm')"
   ]
  },
  {
   "cell_type": "code",
   "execution_count": 161,
   "metadata": {},
   "outputs": [
    {
     "name": "stdout",
     "output_type": "stream",
     "text": [
      "Generating group_id\n",
      "OBJECT 0001 - 0001\n",
      "Waiting for header service LFO before continuing\n",
      "RemoteEvent(ATHeaderService, 0, logMessage) falling behind; read 16 messages\n"
     ]
    },
    {
     "data": {
      "text/plain": [
       "array([2020022000497])"
      ]
     },
     "execution_count": 161,
     "metadata": {},
     "output_type": "execute_result"
    }
   ],
   "source": [
    "await latiss.take_object(exptime=30., n=1, filter='empty_1',grating='ronchi90lpmm')"
   ]
  },
  {
   "cell_type": "code",
   "execution_count": 162,
   "metadata": {},
   "outputs": [
    {
     "data": {
      "text/plain": [
       "<lsst.ts.salobj.ddsutil.ATAOS_ackcmd_33d5c92b at 0x7f8bbf1e5f28>"
      ]
     },
     "execution_count": 162,
     "metadata": {},
     "output_type": "execute_result"
    }
   ],
   "source": [
    "best_focus_fit = -0.15\n",
    "focus_offset = 0.023\n",
    "await attcs.ataos.cmd_applyFocusOffset.set_start(offset=best_focus_fit + focus_offset)"
   ]
  },
  {
   "cell_type": "code",
   "execution_count": 163,
   "metadata": {},
   "outputs": [
    {
     "name": "stdout",
     "output_type": "stream",
     "text": [
      "Generating group_id\n",
      "OBJECT 0001 - 0001\n",
      "Waiting for header service LFO before continuing\n"
     ]
    },
    {
     "data": {
      "text/plain": [
       "array([2020022000498])"
      ]
     },
     "execution_count": 163,
     "metadata": {},
     "output_type": "execute_result"
    }
   ],
   "source": [
    "await latiss.take_object(exptime=30., n=1, filter='quadnotch1',grating='ronchi90lpmm')"
   ]
  },
  {
   "cell_type": "code",
   "execution_count": 164,
   "metadata": {},
   "outputs": [
    {
     "data": {
      "text/plain": [
       "<lsst.ts.salobj.ddsutil.ATAOS_ackcmd_33d5c92b at 0x7f8bdc8168d0>"
      ]
     },
     "execution_count": 164,
     "metadata": {},
     "output_type": "execute_result"
    }
   ],
   "source": [
    "best_focus_fit = -0.15\n",
    "focus_offset = 0.023\n",
    "await attcs.ataos.cmd_applyFocusOffset.set_start(offset=best_focus_fit )"
   ]
  },
  {
   "cell_type": "code",
   "execution_count": 165,
   "metadata": {},
   "outputs": [
    {
     "name": "stdout",
     "output_type": "stream",
     "text": [
      "Generating group_id\n",
      "OBJECT 0001 - 0001\n",
      "Waiting for header service LFO before continuing\n"
     ]
    },
    {
     "data": {
      "text/plain": [
       "array([2020022000499])"
      ]
     },
     "execution_count": 165,
     "metadata": {},
     "output_type": "execute_result"
    }
   ],
   "source": [
    "await latiss.take_object(exptime=30., n=1, filter='empty_1',grating='ronchi90lpmm')"
   ]
  },
  {
   "cell_type": "code",
   "execution_count": 167,
   "metadata": {},
   "outputs": [
    {
     "data": {
      "text/plain": [
       "<lsst.ts.salobj.ddsutil.ATAOS_ackcmd_33d5c92b at 0x7f8bda369a58>"
      ]
     },
     "execution_count": 167,
     "metadata": {},
     "output_type": "execute_result"
    }
   ],
   "source": [
    "best_focus_fit = -0.15\n",
    "focus_offset = 0.023\n",
    "await attcs.ataos.cmd_applyFocusOffset.set_start(offset=best_focus_fit + focus_offset)"
   ]
  },
  {
   "cell_type": "code",
   "execution_count": 168,
   "metadata": {},
   "outputs": [
    {
     "name": "stdout",
     "output_type": "stream",
     "text": [
      "Generating group_id\n",
      "OBJECT 0001 - 0001\n",
      "Waiting for header service LFO before continuing\n"
     ]
    },
    {
     "data": {
      "text/plain": [
       "array([2020022000500])"
      ]
     },
     "execution_count": 168,
     "metadata": {},
     "output_type": "execute_result"
    }
   ],
   "source": [
    "await latiss.take_object(exptime=30., n=1, filter='quadnotch1',grating='ronchi90lpmm')"
   ]
  },
  {
   "cell_type": "code",
   "execution_count": 171,
   "metadata": {},
   "outputs": [
    {
     "data": {
      "text/plain": [
       "<lsst.ts.salobj.ddsutil.ATAOS_ackcmd_33d5c92b at 0x7f8bc4da9358>"
      ]
     },
     "execution_count": 171,
     "metadata": {},
     "output_type": "execute_result"
    }
   ],
   "source": [
    "best_focus_fit = -0.15\n",
    "focus_offset = 0.1 + 0.023\n",
    "await attcs.ataos.cmd_applyFocusOffset.set_start(offset=best_focus_fit + focus_offset)"
   ]
  },
  {
   "cell_type": "code",
   "execution_count": 172,
   "metadata": {},
   "outputs": [
    {
     "name": "stdout",
     "output_type": "stream",
     "text": [
      "Generating group_id\n",
      "OBJECT 0001 - 0001\n",
      "RemoteEvent(ATHeaderService, 0, logMessage) falling behind; read 10 messages\n",
      "Waiting for header service LFO before continuing\n",
      "RemoteEvent(ATHeaderService, 0, logMessage) falling behind; read 10 messages\n"
     ]
    },
    {
     "data": {
      "text/plain": [
       "array([2020022000501])"
      ]
     },
     "execution_count": 172,
     "metadata": {},
     "output_type": "execute_result"
    }
   ],
   "source": [
    "await latiss.take_object(exptime=10., n=1, filter='empty_1',grating='empty_1')"
   ]
  },
  {
   "cell_type": "code",
   "execution_count": 173,
   "metadata": {},
   "outputs": [
    {
     "data": {
      "text/plain": [
       "<lsst.ts.salobj.ddsutil.ATAOS_ackcmd_33d5c92b at 0x7f8bda738588>"
      ]
     },
     "execution_count": 173,
     "metadata": {},
     "output_type": "execute_result"
    }
   ],
   "source": [
    "best_focus_fit = -0.15\n",
    "focus_offset = 3.0 + 0.023\n",
    "await attcs.ataos.cmd_applyFocusOffset.set_start(offset=best_focus_fit + focus_offset)"
   ]
  },
  {
   "cell_type": "code",
   "execution_count": 174,
   "metadata": {},
   "outputs": [
    {
     "name": "stdout",
     "output_type": "stream",
     "text": [
      "Generating group_id\n",
      "OBJECT 0001 - 0001\n",
      "RemoteEvent(ATHeaderService, 0, logMessage) falling behind; read 11 messages\n",
      "Waiting for header service LFO before continuing\n"
     ]
    },
    {
     "data": {
      "text/plain": [
       "array([2020022000502])"
      ]
     },
     "execution_count": 174,
     "metadata": {},
     "output_type": "execute_result"
    }
   ],
   "source": [
    "await latiss.take_object(exptime=10., n=1, filter='empty_1',grating='empty_1')"
   ]
  },
  {
   "cell_type": "code",
   "execution_count": 175,
   "metadata": {},
   "outputs": [
    {
     "data": {
      "text/plain": [
       "<lsst.ts.salobj.ddsutil.ATAOS_ackcmd_33d5c92b at 0x7f8bc5085f98>"
      ]
     },
     "execution_count": 175,
     "metadata": {},
     "output_type": "execute_result"
    }
   ],
   "source": [
    "best_focus_fit = -0.15\n",
    "focus_offset = 4.0 + 0.023\n",
    "await attcs.ataos.cmd_applyFocusOffset.set_start(offset=best_focus_fit + focus_offset)"
   ]
  },
  {
   "cell_type": "code",
   "execution_count": 176,
   "metadata": {},
   "outputs": [
    {
     "name": "stdout",
     "output_type": "stream",
     "text": [
      "Generating group_id\n",
      "OBJECT 0001 - 0001\n",
      "RemoteEvent(ATHeaderService, 0, logMessage) falling behind; read 10 messages\n",
      "Waiting for header service LFO before continuing\n"
     ]
    },
    {
     "data": {
      "text/plain": [
       "array([2020022000503])"
      ]
     },
     "execution_count": 176,
     "metadata": {},
     "output_type": "execute_result"
    }
   ],
   "source": [
    "await latiss.take_object(exptime=0.1, n=1, filter='empty_1',grating='empty_1')"
   ]
  },
  {
   "cell_type": "code",
   "execution_count": 177,
   "metadata": {},
   "outputs": [
    {
     "name": "stdout",
     "output_type": "stream",
     "text": [
      "Generating group_id\n",
      "OBJECT 0001 - 0010\n",
      "Waiting for header service LFO before continuing\n",
      "RemoteEvent(ATHeaderService, 0, logMessage) falling behind; read 10 messages\n",
      "OBJECT 0002 - 0010\n",
      "Waiting for header service LFO before continuing\n",
      "OBJECT 0003 - 0010\n",
      "Waiting for header service LFO before continuing\n",
      "OBJECT 0004 - 0010\n",
      "RemoteEvent(ATHeaderService, 0, logMessage) falling behind; read 14 messages\n",
      "Waiting for header service LFO before continuing\n",
      "OBJECT 0005 - 0010\n",
      "Waiting for header service LFO before continuing\n",
      "OBJECT 0006 - 0010\n",
      "Waiting for header service LFO before continuing\n",
      "OBJECT 0007 - 0010\n",
      "Waiting for header service LFO before continuing\n",
      "RemoteEvent(ATHeaderService, 0, logMessage) falling behind; read 11 messages\n",
      "OBJECT 0008 - 0010\n",
      "Waiting for header service LFO before continuing\n",
      "OBJECT 0009 - 0010\n",
      "Waiting for header service LFO before continuing\n",
      "RemoteEvent(ATHeaderService, 0, logMessage) falling behind; read 13 messages\n",
      "OBJECT 0010 - 0010\n",
      "Waiting for header service LFO before continuing\n",
      "RemoteEvent(ATHeaderService, 0, logMessage) falling behind; read 12 messages\n"
     ]
    },
    {
     "data": {
      "text/plain": [
       "array([2020022000504, 2020022000505, 2020022000506, 2020022000507,\n",
       "       2020022000508, 2020022000509, 2020022000510, 2020022000511,\n",
       "       2020022000512, 2020022000513])"
      ]
     },
     "execution_count": 177,
     "metadata": {},
     "output_type": "execute_result"
    }
   ],
   "source": [
    "await latiss.take_object(exptime=0.1, n=10, filter='empty_1',grating='empty_1')"
   ]
  },
  {
   "cell_type": "code",
   "execution_count": 178,
   "metadata": {},
   "outputs": [
    {
     "name": "stdout",
     "output_type": "stream",
     "text": [
      "Generating group_id\n",
      "OBJECT 0001 - 0001\n",
      "RemoteEvent(ATHeaderService, 0, logMessage) falling behind; read 10 messages\n",
      "Waiting for header service LFO before continuing\n",
      "RemoteEvent(ATHeaderService, 0, logMessage) falling behind; read 14 messages\n"
     ]
    },
    {
     "data": {
      "text/plain": [
       "array([2020022000514])"
      ]
     },
     "execution_count": 178,
     "metadata": {},
     "output_type": "execute_result"
    }
   ],
   "source": [
    "await latiss.take_object(exptime=100, n=1, filter='empty_1',grating='empty_1')"
   ]
  },
  {
   "cell_type": "code",
   "execution_count": null,
   "metadata": {},
   "outputs": [],
   "source": [
    "await attcs.ataos.cmd_applyFocusOffset.set_start(offset=best_focus_fit + focus_offset)"
   ]
  },
  {
   "cell_type": "code",
   "execution_count": null,
   "metadata": {},
   "outputs": [],
   "source": [
    "await attcs.offset_xy(x = , y = , persistent = True)"
   ]
  },
  {
   "cell_type": "code",
   "execution_count": null,
   "metadata": {},
   "outputs": [],
   "source": []
  },
  {
   "cell_type": "code",
   "execution_count": null,
   "metadata": {},
   "outputs": [],
   "source": [
    "#offset to center "
   ]
  },
  {
   "cell_type": "code",
   "execution_count": null,
   "metadata": {},
   "outputs": [],
   "source": [
    "#Begin single target sequence"
   ]
  },
  {
   "cell_type": "code",
   "execution_count": null,
   "metadata": {},
   "outputs": [],
   "source": [
    "target_name = "
   ]
  },
  {
   "cell_type": "code",
   "execution_count": null,
   "metadata": {},
   "outputs": [],
   "source": [
    "await attcs.slew_object(name =, pa_ang=0.0, slew_timeout=240.) "
   ]
  },
  {
   "cell_type": "code",
   "execution_count": null,
   "metadata": {},
   "outputs": [],
   "source": [
    "#Robert measures ra, dec offset\n",
    "x_offset_to_boresight = \n",
    "y_offset_to_boresight = "
   ]
  },
  {
   "cell_type": "code",
   "execution_count": null,
   "metadata": {},
   "outputs": [],
   "source": [
    "await attcs.offset_xy(x = x_offset_to_boresight , y = y_offset_to_boresight)"
   ]
  },
  {
   "cell_type": "code",
   "execution_count": null,
   "metadata": {},
   "outputs": [],
   "source": [
    "await attcs.slew_object(name = \"HD 34816\", pa_ang=0.0, slew_timeout=240.)"
   ]
  }
 ],
 "metadata": {
  "kernelspec": {
   "display_name": "Python 3",
   "language": "python",
   "name": "python3"
  },
  "language_info": {
   "codemirror_mode": {
    "name": "ipython",
    "version": 3
   },
   "file_extension": ".py",
   "mimetype": "text/x-python",
   "name": "python",
   "nbconvert_exporter": "python",
   "pygments_lexer": "ipython3",
   "version": "3.7.2"
  }
 },
 "nbformat": 4,
 "nbformat_minor": 4
}
