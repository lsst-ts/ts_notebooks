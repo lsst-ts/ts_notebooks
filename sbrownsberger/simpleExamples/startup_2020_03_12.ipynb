{
 "cells": [
  {
   "cell_type": "code",
   "execution_count": 1,
   "metadata": {},
   "outputs": [],
   "source": [
    "import os\n",
    "import sys\n",
    "import asyncio\n",
    "import time\n",
    "\n",
    "import numpy as np\n",
    "\n",
    "from lsst.ts import salobj\n",
    "\n",
    "\n",
    "from lsst.ts.standardscripts.auxtel.attcs import ATTCS\n",
    "from lsst.ts.standardscripts.auxtel.latiss import LATISS"
   ]
  },
  {
   "cell_type": "raw",
   "metadata": {},
   "source": [
    "As of 2020/03/12, you need to make the file ospl.xml in your home directory (this will hopefully be fixed in the near future). \n",
    "To do that, open a terminal and: \n",
    "$ cd ~\n",
    "$ vi ospl.xml\n",
    "\n",
    "In the resulting ospl.xml file, enter the following text: \n",
    "<OpenSplice>\n",
    "    <Domain>\n",
    "        <Name>ospl_sp_ddsi</Name>\n",
    "        <Id>0</Id>\n",
    "        <SingleProcess>true</SingleProcess>\n",
    "        <Description>Stand-alone 'single-process' deployment and standard DDSI networking.</Description>\n",
    "        <Service name=\"ddsi2\">\n",
    "            <Command>ddsi2</Command>\n",
    "        </Service>\n",
    "        <Service name=\"durability\">\n",
    "            <Command>durability</Command>\n",
    "        </Service>\n",
    "        <Service enabled=\"false\" name=\"cmsoap\">\n",
    "            <Command>cmsoap</Command>\n",
    "        </Service>\n",
    "    </Domain>\n",
    "    <DDSI2Service name=\"ddsi2\">\n",
    "        <General>\n",
    "            <NetworkInterfaceAddress>net1</NetworkInterfaceAddress>\n",
    "            <AllowMulticast>true</AllowMulticast>\n",
    "            <EnableMulticastLoopback>true</EnableMulticastLoopback>\n",
    "            <CoexistWithNativeNetworking>false</CoexistWithNativeNetworking>\n",
    "        </General>\n",
    "        <Compatibility>\n",
    "            <!-- see the release notes and/or the OpenSplice configurator on DDSI interoperability -->\n",
    "            <StandardsConformance>lax</StandardsConformance>\n",
    "            <!-- the following one is necessary only for TwinOaks CoreDX DDS compatibility -->\n",
    "            <!-- <ExplicitlyPublishQosSetToDefault>true</ExplicitlyPublishQosSetToDefault> -->\n",
    "        </Compatibility>\n",
    "        <Discovery>\n",
    "           <ParticipantIndex>none</ParticipantIndex>\n",
    "        </Discovery>\n",
    "    </DDSI2Service>\n",
    "    <DurabilityService name=\"durability\">\n",
    "        <Network>\n",
    "            <Alignment>\n",
    "                <TimeAlignment>false</TimeAlignment>\n",
    "                <RequestCombinePeriod>\n",
    "                    <Initial>2.5</Initial>\n",
    "                    <Operational>0.1</Operational>\n",
    "                </RequestCombinePeriod>\n",
    "            </Alignment>\n",
    "            <WaitForAttachment maxWaitCount=\"100\">\n",
    "                <ServiceName>ddsi2</ServiceName>\n",
    "            </WaitForAttachment>\n",
    "        </Network>\n",
    "        <NameSpaces>\n",
    "            <NameSpace name=\"defaultNamespace\">\n",
    "                <Partition>*</Partition>\n",
    "            </NameSpace>\n",
    "            <Policy alignee=\"Initial\" aligner=\"true\" durability=\"Durable\" nameSpace=\"defaultNamespace\"/>\n",
    "        </NameSpaces>\n",
    "    </DurabilityService>\n",
    "    <TunerService name=\"cmsoap\">\n",
    "        <Server>\n",
    "            <PortNr>Auto</PortNr>\n",
    "        </Server>\n",
    "    </TunerService>\n",
    "</OpenSplice>"
   ]
  },
  {
   "cell_type": "code",
   "execution_count": 2,
   "metadata": {},
   "outputs": [],
   "source": [
    "os.environ[\"LSST_DDS_DOMAIN\"] = 'lsatmcs'\n",
    "os.environ[\"OSPL_URI\"] = \"file:///home/sashabrownsberger/ospl.xml\""
   ]
  },
  {
   "cell_type": "code",
   "execution_count": 3,
   "metadata": {},
   "outputs": [
    {
     "data": {
      "text/plain": [
       "True"
      ]
     },
     "execution_count": 3,
     "metadata": {},
     "output_type": "execute_result"
    }
   ],
   "source": [
    "os.path.exists('/home/sashabrownsberger/ospl.xml')"
   ]
  },
  {
   "cell_type": "code",
   "execution_count": 4,
   "metadata": {},
   "outputs": [],
   "source": [
    "import logging\n",
    "stream_handler = logging.StreamHandler(sys.stdout)\n",
    "logger = logging.getLogger()\n",
    "logger.addHandler(stream_handler)\n",
    "logger.level = logging.DEBUG"
   ]
  },
  {
   "cell_type": "code",
   "execution_count": 5,
   "metadata": {},
   "outputs": [
    {
     "name": "stdout",
     "output_type": "stream",
     "text": [
      "Read historical data in 0.00 sec\n",
      "Read historical data in 0.18 sec\n",
      "Read historical data in 0.66 sec\n",
      "Read historical data in 1.11 sec\n",
      "Read historical data in 1.36 sec\n",
      "Read historical data in 1.88 sec\n",
      "Read historical data in 2.01 sec\n",
      "Read historical data in 2.36 sec\n",
      "Read historical data in 3.29 sec\n",
      "Read historical data in 4.65 sec\n",
      "Read historical data in 8.02 sec\n",
      "RemoteEvent(ATDomeTrajectory, 0, logMessage) falling behind; read 100 messages\n",
      "RemoteTelemetry(ATDome, 0, position) falling behind; read 31 messages\n"
     ]
    },
    {
     "data": {
      "text/plain": [
       "[[None, None, None, None, None, None, None], [None, None, None, None]]"
      ]
     },
     "execution_count": 5,
     "metadata": {},
     "output_type": "execute_result"
    },
    {
     "name": "stdout",
     "output_type": "stream",
     "text": [
      "RemoteEvent(ATDome, 0, doorEncoderExtremes) falling behind; read 35 messages\n",
      "RemoteEvent(ATMCS, 0, target) falling behind; read 66 messages\n"
     ]
    }
   ],
   "source": [
    "domain = salobj.Domain()\n",
    "attcs = ATTCS(domain)\n",
    "latiss = LATISS(domain)\n",
    "await asyncio.gather(attcs.start_task, latiss.start_task)"
   ]
  },
  {
   "cell_type": "code",
   "execution_count": 6,
   "metadata": {},
   "outputs": [
    {
     "name": "stdout",
     "output_type": "stream",
     "text": [
      "Gathering settings.\n",
      "No settings for atcamera.\n",
      "Using  from settingVersions event.\n",
      "No settings for atspectrograph.\n",
      "Using current from settingVersions event.\n",
      "No settings for atheaderservice.\n",
      "Couldn't get settingVersions event. Using empty settings.\n",
      "No settings for atarchiver.\n",
      "Using normal from settingVersions event.\n",
      "Settings versions: {'atcamera': '', 'atspectrograph': 'current', 'atheaderservice': '', 'atarchiver': 'normal'}\n",
      "Enabling all components\n",
      "Enabling  atcamera\n",
      "Enabling  atspectrograph\n",
      "Enabling  atheaderservice\n",
      "Enabling  atarchiver\n",
      "[atcamera]::[<State.ENABLED: 2>]\n",
      "[atspectrograph]::[<State.ENABLED: 2>]\n",
      "[atheaderservice]::[<State.ENABLED: 2>]\n",
      "[atarchiver]::[<State.ENABLED: 2>]\n",
      "All components enabled.\n"
     ]
    }
   ],
   "source": [
    "#Make sure to inform your team members that you are going to enable the attcs and latiss. \n",
    "await attcs.enable()\n",
    "await latiss.enable()"
   ]
  },
  {
   "cell_type": "code",
   "execution_count": 7,
   "metadata": {},
   "outputs": [
    {
     "name": "stdout",
     "output_type": "stream",
     "text": [
      "Generating group_id\n",
      "BIAS 0001 - 0010\n",
      "Waiting for header service LFO before continuing\n",
      "BIAS 0002 - 0010\n",
      "Waiting for header service LFO before continuing\n",
      "BIAS 0003 - 0010\n",
      "Waiting for header service LFO before continuing\n",
      "RemoteEvent(ATHeaderService, 0, logMessage) falling behind; read 11 messages\n",
      "BIAS 0004 - 0010\n",
      "Waiting for header service LFO before continuing\n",
      "RemoteEvent(ATHeaderService, 0, logMessage) falling behind; read 13 messages\n",
      "BIAS 0005 - 0010\n",
      "Waiting for header service LFO before continuing\n",
      "BIAS 0006 - 0010\n",
      "Waiting for header service LFO before continuing\n",
      "BIAS 0007 - 0010\n",
      "Waiting for header service LFO before continuing\n",
      "BIAS 0008 - 0010\n",
      "Waiting for header service LFO before continuing\n",
      "BIAS 0009 - 0010\n",
      "Waiting for header service LFO before continuing\n",
      "BIAS 0010 - 0010\n",
      "Waiting for header service LFO before continuing\n",
      "The bias data id(s) are: [2020031200001 2020031200002 2020031200003 2020031200004 2020031200005\n",
      " 2020031200006 2020031200007 2020031200008 2020031200009 2020031200010]\n"
     ]
    }
   ],
   "source": [
    "bias_data_id_list = await latiss.take_bias(nbias=10)\n",
    "print ('The bias data id(s) are: ' + str(bias_data_id_list)) "
   ]
  },
  {
   "cell_type": "code",
   "execution_count": 8,
   "metadata": {},
   "outputs": [
    {
     "name": "stdout",
     "output_type": "stream",
     "text": [
      "RemoteEvent(ATMCS, 0, target) falling behind; read 26 messages\n",
      "RemoteEvent(ATDomeTrajectory, 0, logMessage) falling behind; read 26 messages\n"
     ]
    }
   ],
   "source": [
    "import os\n",
    "import numpy as np\n",
    "\n",
    "import lsst.daf.persistence as dafPersist\n",
    "import lsst.afw.display as afwDisplay\n",
    "\n",
    "afwDisplay.setDefaultBackend(\"firefly\")\n",
    "os.environ['FIREFLY_URL'] = \"http://firefly01.cp.lsst.org:8080/firefly/\""
   ]
  },
  {
   "cell_type": "code",
   "execution_count": 9,
   "metadata": {},
   "outputs": [
    {
     "name": "stderr",
     "output_type": "stream",
     "text": [
      "/opt/lsst/software/stack/python/miniconda3-4.7.12/envs/lsst-scipipe-984c9f7/lib/python3.7/site-packages/ipykernel/__main__.py:10: FutureWarning: Config field doAddDistortionModel is deprecated: Camera geometry is incorporated when reading the raw files. This option no longer is used, and will be removed after v19.\n"
     ]
    },
    {
     "name": "stdout",
     "output_type": "stream",
     "text": [
      "RemoteEvent(ATMCS, 0, target) falling behind; read 22 messages\n",
      "RemoteEvent(ATDomeTrajectory, 0, logMessage) falling behind; read 22 messages\n"
     ]
    }
   ],
   "source": [
    "from lsst.ip.isr.isrTask import IsrTask\n",
    "\n",
    "isrConfig = IsrTask.ConfigClass()\n",
    "isrConfig.doLinearize = False\n",
    "isrConfig.doBias = False\n",
    "isrConfig.doFlat = False\n",
    "isrConfig.doDark = False\n",
    "isrConfig.doFringe = False\n",
    "isrConfig.doDefect = False\n",
    "isrConfig.doAddDistortionModel = False\n",
    "isrConfig.doWrite = False\n",
    "\n",
    "isrTask = IsrTask(config=isrConfig)"
   ]
  },
  {
   "cell_type": "code",
   "execution_count": 12,
   "metadata": {},
   "outputs": [
    {
     "name": "stdout",
     "output_type": "stream",
     "text": [
      "RemoteEvent(ATMCS, 0, target) falling behind; read 22 messages\n",
      "RemoteEvent(ATDomeTrajectory, 0, logMessage) falling behind; read 23 messages\n"
     ]
    }
   ],
   "source": [
    "butler = dafPersist.Butler(\"/project/shared/auxTel\")\n",
    "dataId = dict(dayObs=\"2020-03-12\") #Your observing date "
   ]
  },
  {
   "cell_type": "code",
   "execution_count": null,
   "metadata": {},
   "outputs": [],
   "source": [
    "dataId[\"seqNum\"] = 235 #Your sequence number (the last digits after the dates and. trailing 0's of the data ids printed above)\n",
    "\n",
    "try:\n",
    "    bias\n",
    "except NameError:\n",
    "    bias = butler.get('bias', dataId)\n",
    "\n",
    "exp = butler.get('raw', dataId)\n",
    "exp = isrTask.run(exp, bias=bias).exposure"
   ]
  },
  {
   "cell_type": "code",
   "execution_count": 14,
   "metadata": {},
   "outputs": [
    {
     "name": "stdout",
     "output_type": "stream",
     "text": [
      "Using translation class LSST_LATISS\n",
      "Checking for header correction file named LATISS-AT_O_20200312_000001.yaml\n",
      "AT_O_20200312_000001: Forcing detector serial to ITL-3800C-068\n",
      "AT_O_20200312_000001: Forcing blank RADESYS to 'ICRS'\n",
      "Using translation class LSST_LATISS\n",
      "Checking for header correction file named LATISS-AT_O_20200312_000001.yaml\n",
      "AT_O_20200312_000001: Forcing detector serial to ITL-3800C-068\n",
      "Using translation class LSST_LATISS\n",
      "RemoteEvent(ATMCS, 0, target) falling behind; read 100 messages\n",
      "RemoteEvent(ATDomeTrajectory, 0, logMessage) falling behind; read 100 messages\n",
      "RemoteTelemetry(ATPtg, 0, currentTargetStatus) falling behind; read 38 messages\n",
      "RemoteTelemetry(ATDome, 0, position) falling behind; read 37 messages\n",
      "RemoteTelemetry(ATPtg, 0, timeAndDate) falling behind; read 38 messages\n",
      "RemoteTelemetry(ATPtg, 0, mountStatus) falling behind; read 39 messages\n",
      "RemoteEvent(ATDome, 0, doorEncoderExtremes) falling behind; read 38 messages\n",
      "RemoteTelemetry(ATPtg, 0, guidingAndOffsets) falling behind; read 40 messages\n",
      "RemoteEvent(ATPtg, 0, mountDataWarning) falling behind; read 10 messages\n"
     ]
    }
   ],
   "source": [
    "dataId[\"seqNum\"] = 1\n",
    "exp = butler.get('raw', dataId)"
   ]
  },
  {
   "cell_type": "code",
   "execution_count": 15,
   "metadata": {},
   "outputs": [
    {
     "name": "stdout",
     "output_type": "stream",
     "text": [
      "Starting new HTTPS connection (1): summit-lsp.lsst.codes:443\n",
      "https://summit-lsp.lsst.codes:443 \"POST /portal/app/sticky/CmdSrv HTTP/1.1\" 200 38\n",
      "https://summit-lsp.lsst.codes:443 \"POST /portal/app/sticky/CmdSrv HTTP/1.1\" 200 38\n",
      "https://summit-lsp.lsst.codes:443 \"POST /portal/app/sticky/CmdSrv HTTP/1.1\" 200 38\n",
      "https://summit-lsp.lsst.codes:443 \"POST /portal/app/sticky/CmdSrv HTTP/1.1\" 200 38\n",
      "https://summit-lsp.lsst.codes:443 \"POST /portal/app/sticky/CmdSrv HTTP/1.1\" 200 38\n",
      "https://summit-lsp.lsst.codes:443 \"POST /portal/app/sticky/CmdSrv HTTP/1.1\" 200 38\n",
      "https://summit-lsp.lsst.codes:443 \"POST /portal/app/sticky/CmdSrv HTTP/1.1\" 200 38\n",
      "https://summit-lsp.lsst.codes:443 \"POST /portal/app/sticky/CmdSrv HTTP/1.1\" 200 38\n",
      "https://summit-lsp.lsst.codes:443 \"POST /portal/app/sticky/CmdSrv HTTP/1.1\" 200 38\n",
      "https://summit-lsp.lsst.codes:443 \"POST /portal/app/sticky/CmdSrv HTTP/1.1\" 200 38\n",
      "https://summit-lsp.lsst.codes:443 \"POST /portal/app/sticky/CmdSrv HTTP/1.1\" 200 38\n",
      "https://summit-lsp.lsst.codes:443 \"POST /portal/app/sticky/CmdSrv HTTP/1.1\" 200 38\n",
      "https://summit-lsp.lsst.codes:443 \"POST /portal/app/sticky/CmdSrv HTTP/1.1\" 200 38\n",
      "https://summit-lsp.lsst.codes:443 \"POST /portal/app/sticky/CmdSrv HTTP/1.1\" 200 38\n",
      "https://summit-lsp.lsst.codes:443 \"POST /portal/app/sticky/CmdSrv HTTP/1.1\" 200 38\n",
      "https://summit-lsp.lsst.codes:443 \"POST /portal/app/sticky/CmdSrv HTTP/1.1\" 200 38\n",
      "https://summit-lsp.lsst.codes:443 \"POST /portal/app/sticky/CmdSrv HTTP/1.1\" 200 38\n",
      "https://summit-lsp.lsst.codes:443 \"POST /portal/app/sticky/CmdSrv?cmd=upload&preload=true&type=FITS HTTP/1.1\" 200 73\n",
      "https://summit-lsp.lsst.codes:443 \"POST /portal/app/sticky/CmdSrv HTTP/1.1\" 200 38\n",
      "https://summit-lsp.lsst.codes:443 \"POST /portal/app/sticky/CmdSrv?cmd=upload&preload=true&type=FITS HTTP/1.1\" 200 73\n",
      "RemoteEvent(ATMCS, 0, target) falling behind; read 100 messages\n",
      "RemoteEvent(ATDomeTrajectory, 0, logMessage) falling behind; read 100 messages\n",
      "RemoteTelemetry(ATPtg, 0, timeAndDate) falling behind; read 46 messages\n",
      "RemoteTelemetry(ATDome, 0, position) falling behind; read 45 messages\n",
      "RemoteEvent(ATDomeTrajectory, 0, heartbeat) falling behind; read 10 messages\n",
      "RemoteTelemetry(ATPneumatics, 0, mainAirSourcePressure) falling behind; read 10 messages\n",
      "RemoteEvent(ATDome, 0, heartbeat) falling behind; read 10 messages\n",
      "RemoteTelemetry(ATPneumatics, 0, m2AirPressure) falling behind; read 10 messages\n",
      "RemoteEvent(ATDome, 0, doorEncoderExtremes) falling behind; read 46 messages\n",
      "RemoteTelemetry(ATPneumatics, 0, m1AirPressure) falling behind; read 10 messages\n",
      "RemoteEvent(ATPneumatics, 0, heartbeat) falling behind; read 10 messages\n",
      "RemoteTelemetry(ATPtg, 0, mountStatus) falling behind; read 47 messages\n",
      "RemoteTelemetry(ATPtg, 0, guidingAndOffsets) falling behind; read 48 messages\n",
      "RemoteTelemetry(ATPtg, 0, currentTargetStatus) falling behind; read 48 messages\n",
      "RemoteEvent(ATPtg, 0, mountDataWarning) falling behind; read 10 messages\n",
      "RemoteEvent(ATMCS, 0, heartbeat) falling behind; read 10 messages\n",
      "RemoteEvent(ATPtg, 0, heartbeat) falling behind; read 10 messages\n",
      "RemoteEvent(ATMCS, 0, target) falling behind; read 39 messages\n",
      "RemoteEvent(ATDomeTrajectory, 0, logMessage) falling behind; read 14 messages\n",
      "RemoteEvent(ATDomeTrajectory, 0, logMessage) falling behind; read 23 messages\n",
      "RemoteEvent(ATMCS, 0, target) falling behind; read 33 messages\n",
      "RemoteEvent(ATDomeTrajectory, 0, logMessage) falling behind; read 13 messages\n",
      "RemoteEvent(ATDomeTrajectory, 0, logMessage) falling behind; read 22 messages\n",
      "RemoteEvent(ATMCS, 0, target) falling behind; read 60 messages\n",
      "RemoteEvent(ATDomeTrajectory, 0, logMessage) falling behind; read 15 messages\n",
      "RemoteEvent(ATMCS, 0, target) falling behind; read 23 messages\n"
     ]
    }
   ],
   "source": [
    "disp = afwDisplay.Display(1, name='sample', reopenPlot=True)\n",
    "disp.scale('asinh', 'zscale')\n",
    "disp.mtv(exp, title=f\"{dataId}\")"
   ]
  },
  {
   "cell_type": "code",
   "execution_count": null,
   "metadata": {},
   "outputs": [],
   "source": []
  }
 ],
 "metadata": {
  "kernelspec": {
   "display_name": "LSST",
   "language": "python",
   "name": "lsst"
  },
  "language_info": {
   "codemirror_mode": {
    "name": "ipython",
    "version": 3
   },
   "file_extension": ".py",
   "mimetype": "text/x-python",
   "name": "python",
   "nbconvert_exporter": "python",
   "pygments_lexer": "ipython3",
   "version": "3.7.6"
  }
 },
 "nbformat": 4,
 "nbformat_minor": 4
}
