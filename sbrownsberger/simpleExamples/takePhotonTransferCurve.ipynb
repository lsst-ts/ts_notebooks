{
 "cells": [
  {
   "cell_type": "code",
   "execution_count": 1,
   "metadata": {},
   "outputs": [],
   "source": [
    "#Compute a Photon Transfer Curve using a script that takes pairs of images at increasing exposure times. "
   ]
  },
  {
   "cell_type": "code",
   "execution_count": 2,
   "metadata": {},
   "outputs": [],
   "source": [
    "import sys\n",
    "import asyncio\n",
    "import logging\n",
    "import time\n",
    "\n",
    "import numpy as np\n",
    "\n",
    "from lsst.ts import salobj\n",
    "\n",
    "\n",
    "from lsst.ts.standardscripts.auxtel.attcs import ATTCS\n",
    "from lsst.ts.standardscripts.auxtel.latiss import LATISS"
   ]
  },
  {
   "cell_type": "code",
   "execution_count": 3,
   "metadata": {},
   "outputs": [],
   "source": [
    "stream_handler = logging.StreamHandler(sys.stdout)\n",
    "logger = logging.getLogger()\n",
    "logger.addHandler(stream_handler)\n",
    "logger.level = logging.DEBUG"
   ]
  },
  {
   "cell_type": "code",
   "execution_count": 4,
   "metadata": {},
   "outputs": [
    {
     "name": "stdout",
     "output_type": "stream",
     "text": [
      "Read historical data in 0.01 sec\n",
      "Read historical data in 0.28 sec\n",
      "Read historical data in 1.13 sec\n",
      "Read historical data in 1.39 sec\n",
      "Read historical data in 2.06 sec\n",
      "Read historical data in 2.67 sec\n",
      "Read historical data in 3.02 sec\n",
      "Read historical data in 4.04 sec\n",
      "Read historical data in 4.66 sec\n",
      "Read historical data in 5.38 sec\n",
      "Read historical data in 6.21 sec\n"
     ]
    }
   ],
   "source": [
    "attcs = ATTCS()\n",
    "latiss = LATISS(attcs.domain) "
   ]
  },
  {
   "cell_type": "code",
   "execution_count": 5,
   "metadata": {},
   "outputs": [
    {
     "name": "stdout",
     "output_type": "stream",
     "text": [
      "RemoteTelemetry(ATDome, 0, position) falling behind; read 24 messages\n",
      "RemoteTelemetry(ATPtg, 0, timeAndDate) falling behind; read 14 messages\n",
      "Gathering settings.\n",
      "No settings for atmcs.\n",
      "Using                                                                                                                                 from settingVersions event.\n",
      "No settings for atptg.\n",
      "RemoteTelemetry(ATPtg, 0, mountStatus) falling behind; read 15 messages\n",
      "RemoteTelemetry(ATPtg, 0, guidingAndOffsets) falling behind; read 15 messages\n",
      "RemoteTelemetry(ATPtg, 0, currentTargetStatus) falling behind; read 16 messages\n",
      "Couldn't get settingVersions event. Using empty settings.\n",
      "No settings for ataos.\n",
      "Using current from settingVersions event.\n",
      "No settings for atpneumatics.\n",
      "Using                                                                                                                                 from settingVersions event.\n",
      "No settings for athexapod.\n",
      "Using current from settingVersions event.\n",
      "No settings for atdome.\n",
      "Using test from settingVersions event.\n",
      "No settings for atdometrajectory.\n",
      "Using  from settingVersions event.\n",
      "Settings versions: {'atmcs': '                                                                                                                               ', 'atptg': '', 'ataos': 'current', 'atpneumatics': '                                                                                                                               ', 'athexapod': 'current', 'atdome': 'test', 'atdometrajectory': ''}\n",
      "Enabling all components\n",
      "Enabling  atmcs\n",
      "Enabling  atptg\n",
      "Enabling  ataos\n",
      "Enabling  atpneumatics\n",
      "Enabling  athexapod\n",
      "Enabling  atdome\n",
      "Enabling  atdometrajectory\n",
      "[atmcs]::[<State.ENABLED: 2>]\n",
      "[atptg]::[<State.ENABLED: 2>]\n",
      "[ataos]::[<State.ENABLED: 2>]\n",
      "[atpneumatics]::[<State.ENABLED: 2>]\n",
      "[athexapod]::[<State.ENABLED: 2>]\n",
      "[atdome]::[<State.ENABLED: 2>]\n",
      "[atdometrajectory]::[<State.ENABLED: 2>]\n",
      "All components enabled.\n",
      "Gathering settings.\n",
      "No settings for atcamera.\n",
      "Couldn't get settingVersions event. Using empty settings.\n",
      "No settings for atspectrograph.\n",
      "Using current from settingVersions event.\n",
      "No settings for atheaderservice.\n",
      "Couldn't get settingVersions event. Using empty settings.\n",
      "No settings for atarchiver.\n",
      "Using normal from settingVersions event.\n",
      "Settings versions: {'atcamera': '', 'atspectrograph': 'current', 'atheaderservice': '', 'atarchiver': 'normal'}\n",
      "Enabling all components\n",
      "Enabling  atcamera\n",
      "Enabling  atspectrograph\n",
      "Enabling  atheaderservice\n",
      "Enabling  atarchiver\n",
      "[atcamera]::[<State.ENABLED: 2>]\n",
      "[atspectrograph]::[<State.ENABLED: 2>]\n",
      "[atheaderservice]::[<State.ENABLED: 2>]\n",
      "[atarchiver]::[<State.ENABLED: 2>]\n",
      "All components enabled.\n"
     ]
    }
   ],
   "source": [
    "await attcs.enable()\n",
    "await latiss.enable() "
   ]
  },
  {
   "cell_type": "code",
   "execution_count": 6,
   "metadata": {},
   "outputs": [
    {
     "name": "stdout",
     "output_type": "stream",
     "text": [
      "Cover state <MirrorCoverState.OPENED: 7>\n",
      "M1 cover already opened.\n",
      "Sending command\n",
      "Stop tracking.\n",
      "Mount tracking state is 8\n",
      "In Position: False.\n",
      "Scheduling check coroutines\n",
      "process as completed...\n",
      "Got False\n",
      "Telescope not in position\n",
      "atmcs: <State.ENABLED: 2>\n",
      "atptg: <State.ENABLED: 2>\n",
      "ataos: <State.ENABLED: 2>\n",
      "atpneumatics: <State.ENABLED: 2>\n",
      "athexapod: <State.ENABLED: 2>\n",
      "[Telescope] delta Alt = -018.720 | delta Az= +016.644\n",
      "[Telescope] delta Alt = -018.528 | delta Az= +016.210\n",
      "[Telescope] delta Alt = -017.320 | delta Az= +014.397\n",
      "[Telescope] delta Alt = -014.765 | delta Az= +011.188\n",
      "[Telescope] delta Alt = -011.170 | delta Az= +007.265\n",
      "[Telescope] delta Alt = -007.211 | delta Az= +003.613\n",
      "[Telescope] delta Alt = -003.683 | delta Az= +001.102\n",
      "[Telescope] delta Alt = -002.298 | delta Az= +000.416\n",
      "[Telescope] delta Alt = -000.533 | delta Az= +000.001\n",
      "[Telescope] delta Alt = -000.011 | delta Az= -000.000\n",
      "[Telescope] delta Alt = +000.000 | delta Az= -000.000\n",
      "Got True\n",
      "Waiting for telescope to settle.\n",
      "Axes in position.\n",
      "None\n",
      "Stop tracking.\n",
      "Mount tracking state is 9\n",
      "Tracking state: 10.\n",
      "Tracking state: 8.\n",
      "In Position: True.\n",
      "In Position: False.\n",
      "atdometrajectory: <State.DISABLED: 1>\n",
      "[Dome] delta Az = -024.480\n",
      "[Dome] delta Az = -024.370\n",
      "[Dome] delta Az = -024.010\n",
      "[Dome] delta Az = -023.420\n",
      "[Dome] delta Az = -022.600\n",
      "[Dome] delta Az = -021.550\n",
      "[Dome] delta Az = -020.270\n",
      "[Dome] delta Az = -018.760\n",
      "[Dome] delta Az = -017.020\n",
      "[Dome] delta Az = -015.050\n",
      "[Dome] delta Az = -012.830\n",
      "[Dome] delta Az = -010.410\n",
      "[Dome] delta Az = -007.750\n",
      "[Dome] delta Az = -004.870\n",
      "ATDome in position.\n"
     ]
    }
   ],
   "source": [
    "# !!!!!!! STOP !!!!!! \n",
    "#If the system is not already in position for flat fields and you would like to use flats as the basis for your PTC,\n",
    "# execute this cell.  Otherwise, don't bother.\n",
    "# !!!!! IF DOME IS ALREADY IN FLAT FIELD POSITION, YOU DONT'T NEED TO RUN THIS CELL \n",
    "await attcs.prepare_for_flatfield()"
   ]
  },
  {
   "cell_type": "code",
   "execution_count": 7,
   "metadata": {},
   "outputs": [],
   "source": [
    "#Select your filter and grating\n",
    "filter_str = 'empty_1'\n",
    "grating_str = 'empty_4'"
   ]
  },
  {
   "cell_type": "code",
   "execution_count": 10,
   "metadata": {},
   "outputs": [
    {
     "name": "stdout",
     "output_type": "stream",
     "text": [
      "exposure times are [0.25, 0.5, 1.0, 1.5, 2.0, 2.5, 3.0, 3.5, 4.0, 4.5, 5.0]\n"
     ]
    }
   ],
   "source": [
    "#Define your exposure times. \n",
    "#If you are not sure about your exposure times, consider taking a set with only one exposure time and basing your scaling off of that \n",
    "# (see the DisplayImage.ipynb for instructions on pulling up the flat field image that you produce). \n",
    "exp_times = [0.25 * scaling for scaling in [1.0] + np.arange(2.0, 20.5, 2.0).tolist()]\n",
    "print ('exposure times are ' + str(exp_times))"
   ]
  },
  {
   "cell_type": "code",
   "execution_count": 11,
   "metadata": {},
   "outputs": [
    {
     "name": "stdout",
     "output_type": "stream",
     "text": [
      "Generating group_id\n",
      "FLAT 0001 - 0002\n",
      "Waiting for header service LFO before continuing\n",
      "FLAT 0002 - 0002\n",
      "Waiting for header service LFO before continuing\n",
      "The PTC pair data ids for exposure time 0.25 are: [2020022000037 2020022000038]\n",
      "Generating group_id\n",
      "FLAT 0001 - 0002\n",
      "Waiting for header service LFO before continuing\n",
      "RemoteEvent(ATHeaderService, 0, logMessage) falling behind; read 10 messages\n",
      "FLAT 0002 - 0002\n",
      "Waiting for header service LFO before continuing\n",
      "The PTC pair data ids for exposure time 0.5 are: [2020022000039 2020022000040]\n",
      "Generating group_id\n",
      "FLAT 0001 - 0002\n",
      "Waiting for header service LFO before continuing\n",
      "RemoteEvent(ATHeaderService, 0, logMessage) falling behind; read 12 messages\n",
      "FLAT 0002 - 0002\n",
      "Waiting for header service LFO before continuing\n",
      "The PTC pair data ids for exposure time 1.0 are: [2020022000041 2020022000042]\n",
      "Generating group_id\n",
      "FLAT 0001 - 0002\n",
      "Waiting for header service LFO before continuing\n",
      "FLAT 0002 - 0002\n",
      "Waiting for header service LFO before continuing\n",
      "RemoteEvent(ATHeaderService, 0, logMessage) falling behind; read 13 messages\n",
      "The PTC pair data ids for exposure time 1.5 are: [2020022000043 2020022000044]\n",
      "Generating group_id\n",
      "FLAT 0001 - 0002\n",
      "Waiting for header service LFO before continuing\n",
      "RemoteEvent(ATHeaderService, 0, logMessage) falling behind; read 21 messages\n",
      "FLAT 0002 - 0002\n",
      "Waiting for header service LFO before continuing\n",
      "The PTC pair data ids for exposure time 2.0 are: [2020022000045 2020022000046]\n",
      "Generating group_id\n",
      "FLAT 0001 - 0002\n",
      "Waiting for header service LFO before continuing\n",
      "RemoteEvent(ATHeaderService, 0, logMessage) falling behind; read 14 messages\n",
      "FLAT 0002 - 0002\n",
      "Waiting for header service LFO before continuing\n",
      "The PTC pair data ids for exposure time 2.5 are: [2020022000047 2020022000048]\n",
      "Generating group_id\n",
      "FLAT 0001 - 0002\n",
      "Waiting for header service LFO before continuing\n",
      "RemoteEvent(ATHeaderService, 0, logMessage) falling behind; read 10 messages\n",
      "FLAT 0002 - 0002\n",
      "Waiting for header service LFO before continuing\n",
      "The PTC pair data ids for exposure time 3.0 are: [2020022000049 2020022000050]\n",
      "Generating group_id\n",
      "FLAT 0001 - 0002\n",
      "Waiting for header service LFO before continuing\n",
      "RemoteEvent(ATHeaderService, 0, logMessage) falling behind; read 10 messages\n",
      "FLAT 0002 - 0002\n",
      "Waiting for header service LFO before continuing\n",
      "The PTC pair data ids for exposure time 3.5 are: [2020022000051 2020022000052]\n",
      "Generating group_id\n",
      "FLAT 0001 - 0002\n",
      "Waiting for header service LFO before continuing\n",
      "RemoteEvent(ATHeaderService, 0, logMessage) falling behind; read 15 messages\n",
      "FLAT 0002 - 0002\n",
      "Waiting for header service LFO before continuing\n",
      "RemoteEvent(ATHeaderService, 0, logMessage) falling behind; read 12 messages\n",
      "The PTC pair data ids for exposure time 4.0 are: [2020022000053 2020022000054]\n",
      "Generating group_id\n",
      "FLAT 0001 - 0002\n",
      "Waiting for header service LFO before continuing\n",
      "FLAT 0002 - 0002\n",
      "Waiting for header service LFO before continuing\n",
      "The PTC pair data ids for exposure time 4.5 are: [2020022000055 2020022000056]\n",
      "Generating group_id\n",
      "FLAT 0001 - 0002\n",
      "Waiting for header service LFO before continuing\n",
      "RemoteEvent(ATHeaderService, 0, logMessage) falling behind; read 10 messages\n",
      "FLAT 0002 - 0002\n",
      "Waiting for header service LFO before continuing\n",
      "The PTC pair data ids for exposure time 5.0 are: [2020022000057 2020022000058]\n",
      "RemoteEvent(ATMCS, 0, target) falling behind; read 10 messages\n",
      "RemoteEvent(ATDomeTrajectory, 0, logMessage) falling behind; read 27 messages\n",
      "RemoteEvent(ATMCS, 0, target) falling behind; read 23 messages\n",
      "RemoteEvent(ATDomeTrajectory, 0, logMessage) falling behind; read 11 messages\n",
      "RemoteEvent(ATMCS, 0, target) falling behind; read 40 messages\n",
      "RemoteEvent(ATDomeTrajectory, 0, logMessage) falling behind; read 11 messages\n",
      "RemoteEvent(ATMCS, 0, target) falling behind; read 16 messages\n",
      "RemoteEvent(ATMCS, 0, target) falling behind; read 59 messages\n"
     ]
    }
   ],
   "source": [
    "for exp_time in exp_times: \n",
    "    PTC_pairs = await latiss.take_flats(exptime=exp_time, nflats=2, filter=filter_str, grating=grating_str)\n",
    "    print ('The PTC pair data ids for exposure time ' +str(exp_time) + ' are: '+  str(PTC_pairs)) "
   ]
  },
  {
   "cell_type": "code",
   "execution_count": null,
   "metadata": {},
   "outputs": [],
   "source": []
  }
 ],
 "metadata": {
  "kernelspec": {
   "display_name": "Python 3",
   "language": "python",
   "name": "python3"
  },
  "language_info": {
   "codemirror_mode": {
    "name": "ipython",
    "version": 3
   },
   "file_extension": ".py",
   "mimetype": "text/x-python",
   "name": "python",
   "nbconvert_exporter": "python",
   "pygments_lexer": "ipython3",
   "version": "3.7.2"
  }
 },
 "nbformat": 4,
 "nbformat_minor": 4
}
