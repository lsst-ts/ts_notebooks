{
 "cells": [
  {
   "cell_type": "code",
   "execution_count": 1,
   "metadata": {},
   "outputs": [],
   "source": [
    "#Compute a Photon Transfer Curve using a script that takes pairs of images at increasing exposure times. "
   ]
  },
  {
   "cell_type": "code",
   "execution_count": 2,
   "metadata": {},
   "outputs": [],
   "source": [
    "import sys\n",
    "import os\n",
    "import asyncio\n",
    "import logging\n",
    "import time\n",
    "\n",
    "import numpy as np\n",
    "\n",
    "from lsst.ts import salobj\n",
    "\n",
    "\n",
    "from lsst.ts.standardscripts.auxtel.attcs import ATTCS\n",
    "from lsst.ts.standardscripts.auxtel.latiss import LATISS"
   ]
  },
  {
   "cell_type": "code",
   "execution_count": 3,
   "metadata": {},
   "outputs": [],
   "source": [
    "os.environ[\"LSST_DDS_DOMAIN\"] = 'lsatmcs'\n",
    "os.environ[\"OSPL_URI\"] = \"file:///home/sashabrownsberger/ospl.xml\""
   ]
  },
  {
   "cell_type": "code",
   "execution_count": 4,
   "metadata": {},
   "outputs": [],
   "source": [
    "stream_handler = logging.StreamHandler(sys.stdout)\n",
    "logger = logging.getLogger()\n",
    "logger.addHandler(stream_handler)\n",
    "logger.level = logging.DEBUG"
   ]
  },
  {
   "cell_type": "code",
   "execution_count": 5,
   "metadata": {},
   "outputs": [
    {
     "name": "stdout",
     "output_type": "stream",
     "text": [
      "Read historical data in 0.01 sec\n",
      "Read historical data in 0.26 sec\n",
      "Read historical data in 0.44 sec\n",
      "Read historical data in 0.68 sec\n",
      "Read historical data in 1.99 sec\n",
      "Read historical data in 2.47 sec\n",
      "Read historical data in 3.35 sec\n",
      "Read historical data in 3.88 sec\n",
      "RemoteEvent(ATDomeTrajectory, 0, logMessage) falling behind; read 77 messages\n",
      "Read historical data in 4.12 sec\n",
      "Read historical data in 4.68 sec\n",
      "Read historical data in 6.09 sec\n",
      "RemoteTelemetry(ATDome, 0, position) falling behind; read 30 messages\n",
      "RemoteTelemetry(ATPtg, 0, timeAndDate) falling behind; read 19 messages\n",
      "RemoteEvent(ATDome, 0, doorEncoderExtremes) falling behind; read 34 messages\n",
      "RemoteEvent(ATDomeTrajectory, 0, heartbeat) falling behind; read 10 messages\n",
      "RemoteTelemetry(ATPtg, 0, mountStatus) falling behind; read 21 messages\n",
      "RemoteTelemetry(ATPtg, 0, guidingAndOffsets) falling behind; read 21 messages\n",
      "RemoteTelemetry(ATPtg, 0, currentTargetStatus) falling behind; read 22 messages\n",
      "RemoteEvent(ATMCS, 0, target) falling behind; read 42 messages\n"
     ]
    }
   ],
   "source": [
    "domain = salobj.Domain()\n",
    "attcs = ATTCS(domain)\n",
    "latiss = LATISS(domain)"
   ]
  },
  {
   "cell_type": "code",
   "execution_count": 6,
   "metadata": {},
   "outputs": [
    {
     "name": "stdout",
     "output_type": "stream",
     "text": [
      "Gathering settings.\n",
      "No settings for atmcs.\n",
      "Using                                                                                                                                 from settingVersions event.\n",
      "No settings for atptg.\n",
      "Couldn't get settingVersions event. Using empty settings.\n",
      "No settings for ataos.\n",
      "Using current from settingVersions event.\n",
      "No settings for atpneumatics.\n",
      "Using                                                                                                                                 from settingVersions event.\n",
      "No settings for athexapod.\n",
      "Using current from settingVersions event.\n",
      "No settings for atdome.\n",
      "Using test from settingVersions event.\n",
      "No settings for atdometrajectory.\n",
      "Using  from settingVersions event.\n",
      "Settings versions: {'atmcs': '                                                                                                                               ', 'atptg': '', 'ataos': 'current', 'atpneumatics': '                                                                                                                               ', 'athexapod': 'current', 'atdome': 'test', 'atdometrajectory': ''}\n",
      "Enabling all components\n",
      "Enabling  atmcs\n",
      "Enabling  atptg\n",
      "Enabling  ataos\n",
      "Enabling  atpneumatics\n",
      "Enabling  athexapod\n",
      "Enabling  atdome\n",
      "Enabling  atdometrajectory\n",
      "[atmcs]::[<State.ENABLED: 2>]\n",
      "[atptg]::[<State.ENABLED: 2>]\n",
      "[ataos]::[<State.ENABLED: 2>]\n",
      "[atpneumatics]::[<State.ENABLED: 2>]\n",
      "[athexapod]::[<State.ENABLED: 2>]\n",
      "[atdome]::[<State.ENABLED: 2>]\n",
      "[atdometrajectory]::[<State.DISABLED: 1>, <State.ENABLED: 2>]\n",
      "All components enabled.\n",
      "Gathering settings.\n",
      "No settings for atcamera.\n",
      "Using  from settingVersions event.\n",
      "No settings for atspectrograph.\n",
      "Using current from settingVersions event.\n",
      "No settings for atheaderservice.\n",
      "Couldn't get settingVersions event. Using empty settings.\n",
      "No settings for atarchiver.\n",
      "Using normal from settingVersions event.\n",
      "Settings versions: {'atcamera': '', 'atspectrograph': 'current', 'atheaderservice': '', 'atarchiver': 'normal'}\n",
      "Enabling all components\n",
      "Enabling  atcamera\n",
      "Enabling  atspectrograph\n",
      "Enabling  atheaderservice\n",
      "Enabling  atarchiver\n",
      "[atcamera]::[<State.ENABLED: 2>]\n",
      "[atspectrograph]::[<State.ENABLED: 2>]\n",
      "[atheaderservice]::[<State.ENABLED: 2>]\n",
      "[atarchiver]::[<State.ENABLED: 2>]\n",
      "All components enabled.\n"
     ]
    }
   ],
   "source": [
    "await asyncio.gather(attcs.start_task, latiss.start_task)\n",
    "await attcs.enable()\n",
    "await latiss.enable() "
   ]
  },
  {
   "cell_type": "code",
   "execution_count": 7,
   "metadata": {},
   "outputs": [
    {
     "name": "stdout",
     "output_type": "stream",
     "text": [
      "Cover state <MirrorCoverState.CLOSED: 6>\n",
      "Opening M1 cover.\n",
      "Cover state <MirrorCoverState.CLOSED: 6>\n",
      "Cover state <MirrorCoverState.INMOTION: 8>\n",
      "Cover state <MirrorCoverState.OPENED: 7>\n",
      "Sending command\n",
      "Stop tracking.\n",
      "Mount tracking state is 9\n",
      "Tracking state: 10.\n",
      "Tracking state: 8.\n",
      "In Position: True.\n",
      "In Position: False.\n",
      "Scheduling check coroutines\n",
      "process as completed...\n",
      "Got False\n",
      "Telescope not in position\n",
      "atmcs: <State.ENABLED: 2>\n",
      "atptg: <State.ENABLED: 2>\n",
      "ataos: <State.ENABLED: 2>\n",
      "atpneumatics: <State.ENABLED: 2>\n",
      "athexapod: <State.ENABLED: 2>\n",
      "[Telescope] delta Alt = -045.935 | delta Az= -154.361\n",
      "[Telescope] delta Alt = -044.982 | delta Az= -157.132\n",
      "[Telescope] delta Alt = -043.983 | delta Az= -161.127\n",
      "[Telescope] delta Alt = -041.632 | delta Az= -165.128\n",
      "[Telescope] delta Alt = -037.634 | delta Az= -169.127\n",
      "[Telescope] delta Alt = -033.636 | delta Az= -173.128\n",
      "[Telescope] delta Alt = -029.635 | delta Az= -177.129\n",
      "[Telescope] delta Alt = -025.651 | delta Az= +178.873\n",
      "[Telescope] delta Alt = -021.713 | delta Az= +174.873\n",
      "[Telescope] delta Alt = -017.895 | delta Az= +170.871\n",
      "[Telescope] delta Alt = -014.273 | delta Az= +166.872\n",
      "[Telescope] delta Alt = -010.927 | delta Az= +162.873\n",
      "[Telescope] delta Alt = -007.947 | delta Az= +158.873\n",
      "[Telescope] delta Alt = -006.614 | delta Az= +156.873\n",
      "[Telescope] delta Alt = -004.314 | delta Az= +152.873\n",
      "[Telescope] delta Alt = -002.517 | delta Az= +148.872\n",
      "[Telescope] delta Alt = -001.248 | delta Az= +144.873\n",
      "[Telescope] delta Alt = -000.463 | delta Az= +140.874\n",
      "[Telescope] delta Alt = -000.093 | delta Az= +136.872\n",
      "[Telescope] delta Alt = -000.002 | delta Az= +132.872\n",
      "[Telescope] delta Alt = +000.000 | delta Az= +128.872\n",
      "[Telescope] delta Alt = +000.000 | delta Az= +124.872\n",
      "[Telescope] delta Alt = +000.000 | delta Az= +120.873\n",
      "[Telescope] delta Alt = -000.000 | delta Az= +116.872\n",
      "[Telescope] delta Alt = -000.000 | delta Az= +112.872\n",
      "[Telescope] delta Alt = -000.000 | delta Az= +108.872\n",
      "[Telescope] delta Alt = -000.000 | delta Az= +104.872\n",
      "[Telescope] delta Alt = -000.000 | delta Az= +100.873\n",
      "[Telescope] delta Alt = -000.000 | delta Az= +096.873\n",
      "[Telescope] delta Alt = +000.000 | delta Az= +092.871\n",
      "[Telescope] delta Alt = -000.000 | delta Az= +088.873\n",
      "[Telescope] delta Alt = +000.000 | delta Az= +084.874\n",
      "[Telescope] delta Alt = +000.000 | delta Az= +080.871\n",
      "[Telescope] delta Alt = -000.000 | delta Az= +076.872\n",
      "[Telescope] delta Alt = +000.000 | delta Az= +072.872\n",
      "[Telescope] delta Alt = -000.000 | delta Az= +068.873\n",
      "[Telescope] delta Alt = +000.000 | delta Az= +064.873\n",
      "[Telescope] delta Alt = +000.000 | delta Az= +060.872\n",
      "[Telescope] delta Alt = -000.000 | delta Az= +056.873\n",
      "[Telescope] delta Alt = -000.000 | delta Az= +054.872\n",
      "[Telescope] delta Alt = -000.000 | delta Az= +050.873\n",
      "[Telescope] delta Alt = +000.000 | delta Az= +046.873\n",
      "[Telescope] delta Alt = -000.000 | delta Az= +042.872\n",
      "[Telescope] delta Alt = +000.000 | delta Az= +038.872\n",
      "[Telescope] delta Alt = -000.000 | delta Az= +036.872\n",
      "[Telescope] delta Alt = +000.000 | delta Az= +032.873\n",
      "[Telescope] delta Alt = +000.000 | delta Az= +028.874\n",
      "[Telescope] delta Alt = +000.000 | delta Az= +024.892\n",
      "[Telescope] delta Alt = +000.000 | delta Az= +020.972\n",
      "[Telescope] delta Alt = -000.000 | delta Az= +017.184\n",
      "[Telescope] delta Alt = +000.000 | delta Az= +013.604\n",
      "[Telescope] delta Alt = +000.000 | delta Az= +010.321\n",
      "[Telescope] delta Alt = -000.000 | delta Az= +007.417\n",
      "[Telescope] delta Alt = +000.000 | delta Az= +006.131\n",
      "[Telescope] delta Alt = +000.000 | delta Az= +003.923\n",
      "[Telescope] delta Alt = +000.000 | delta Az= +002.231\n",
      "[Telescope] delta Alt = +000.000 | delta Az= +001.054\n",
      "[Telescope] delta Alt = +000.000 | delta Az= +000.361\n",
      "[Telescope] delta Alt = +000.000 | delta Az= +000.059\n",
      "[Telescope] delta Alt = +000.000 | delta Az= +000.000\n",
      "Axes in position.\n",
      "None\n",
      "Stop tracking.\n",
      "Mount tracking state is 9\n",
      "Tracking state: 10.\n",
      "Tracking state: 8.\n",
      "In Position: False.\n",
      "atdometrajectory: <State.DISABLED: 1>\n",
      "[Dome] delta Az = +017.070\n",
      "[Dome] delta Az = +016.960\n",
      "[Dome] delta Az = +016.600\n",
      "[Dome] delta Az = +016.000\n",
      "[Dome] delta Az = +015.170\n",
      "[Dome] delta Az = +014.110\n",
      "[Dome] delta Az = +012.790\n",
      "[Dome] delta Az = +011.240\n",
      "[Dome] delta Az = +009.470\n",
      "[Dome] delta Az = +007.470\n",
      "[Dome] delta Az = +005.210\n",
      "[Dome] delta Az = +003.060\n",
      "ATDome in position.\n"
     ]
    }
   ],
   "source": [
    "# !!!!!!! STOP !!!!!! \n",
    "#If the system is not already in position for flat fields and you would like to use flats as the basis for your PTC,\n",
    "# execute this cell.  Otherwise, don't bother.\n",
    "# !!!!! IF DOME IS ALREADY IN FLAT FIELD POSITION, YOU DONT'T NEED TO RUN THIS CELL \n",
    "await attcs.prepare_for_flatfield()"
   ]
  },
  {
   "cell_type": "code",
   "execution_count": 8,
   "metadata": {},
   "outputs": [],
   "source": [
    "#Select your filter and grating\n",
    "filter_str = 'empty_1'\n",
    "grating_str = 'empty_4'"
   ]
  },
  {
   "cell_type": "code",
   "execution_count": 9,
   "metadata": {},
   "outputs": [
    {
     "name": "stdout",
     "output_type": "stream",
     "text": [
      "exposure times are [0.25, 0.5, 1.0, 1.5, 2.0, 2.5, 3.0, 3.5, 4.0, 4.5, 5.0]\n"
     ]
    }
   ],
   "source": [
    "#Define your exposure times. \n",
    "#If you are not sure about your exposure times, consider taking a set with only one exposure time and basing your scaling off of that \n",
    "# (see the DisplayImage.ipynb for instructions on pulling up the flat field image that you produce). \n",
    "exp_times = [0.25 * scaling for scaling in [1.0] + np.arange(2.0, 20.5, 2.0).tolist()]\n",
    "print ('exposure times are ' + str(exp_times))"
   ]
  },
  {
   "cell_type": "code",
   "execution_count": 10,
   "metadata": {},
   "outputs": [
    {
     "name": "stdout",
     "output_type": "stream",
     "text": [
      "Generating group_id\n",
      "FLAT 0001 - 0002\n",
      "Waiting for header service LFO before continuing\n",
      "FLAT 0002 - 0002\n",
      "Waiting for header service LFO before continuing\n",
      "The PTC pair data ids for exposure time 0.25 are: [2020031200011 2020031200012]\n",
      "Generating group_id\n",
      "FLAT 0001 - 0002\n",
      "Waiting for header service LFO before continuing\n",
      "FLAT 0002 - 0002\n",
      "Waiting for header service LFO before continuing\n",
      "The PTC pair data ids for exposure time 0.5 are: [2020031200013 2020031200014]\n",
      "Generating group_id\n",
      "FLAT 0001 - 0002\n",
      "Waiting for header service LFO before continuing\n",
      "FLAT 0002 - 0002\n",
      "Waiting for header service LFO before continuing\n",
      "The PTC pair data ids for exposure time 1.0 are: [2020031200015 2020031200016]\n",
      "Generating group_id\n",
      "FLAT 0001 - 0002\n",
      "Waiting for header service LFO before continuing\n",
      "FLAT 0002 - 0002\n",
      "Waiting for header service LFO before continuing\n",
      "The PTC pair data ids for exposure time 1.5 are: [2020031200017 2020031200018]\n",
      "Generating group_id\n",
      "FLAT 0001 - 0002\n",
      "Waiting for header service LFO before continuing\n",
      "FLAT 0002 - 0002\n",
      "Waiting for header service LFO before continuing\n",
      "The PTC pair data ids for exposure time 2.0 are: [2020031200019 2020031200020]\n",
      "Generating group_id\n",
      "FLAT 0001 - 0002\n",
      "Waiting for header service LFO before continuing\n",
      "RemoteEvent(ATHeaderService, 0, logMessage) falling behind; read 10 messages\n",
      "FLAT 0002 - 0002\n",
      "Waiting for header service LFO before continuing\n",
      "The PTC pair data ids for exposure time 2.5 are: [2020031200021 2020031200022]\n",
      "Generating group_id\n",
      "FLAT 0001 - 0002\n",
      "Waiting for header service LFO before continuing\n",
      "FLAT 0002 - 0002\n",
      "Waiting for header service LFO before continuing\n",
      "The PTC pair data ids for exposure time 3.0 are: [2020031200023 2020031200024]\n",
      "Generating group_id\n",
      "FLAT 0001 - 0002\n",
      "RemoteEvent(ATHeaderService, 0, logMessage) falling behind; read 26 messages\n",
      "Waiting for header service LFO before continuing\n",
      "RemoteEvent(ATHeaderService, 0, logMessage) falling behind; read 11 messages\n",
      "FLAT 0002 - 0002\n",
      "Waiting for header service LFO before continuing\n",
      "The PTC pair data ids for exposure time 3.5 are: [2020031200025 2020031200026]\n",
      "Generating group_id\n",
      "FLAT 0001 - 0002\n",
      "Waiting for header service LFO before continuing\n",
      "FLAT 0002 - 0002\n",
      "Waiting for header service LFO before continuing\n",
      "RemoteEvent(ATHeaderService, 0, logMessage) falling behind; read 11 messages\n",
      "The PTC pair data ids for exposure time 4.0 are: [2020031200027 2020031200028]\n",
      "Generating group_id\n",
      "FLAT 0001 - 0002\n",
      "Waiting for header service LFO before continuing\n",
      "FLAT 0002 - 0002\n",
      "Waiting for header service LFO before continuing\n",
      "The PTC pair data ids for exposure time 4.5 are: [2020031200029 2020031200030]\n",
      "Generating group_id\n",
      "FLAT 0001 - 0002\n",
      "Waiting for header service LFO before continuing\n",
      "FLAT 0002 - 0002\n",
      "Waiting for header service LFO before continuing\n",
      "The PTC pair data ids for exposure time 5.0 are: [2020031200031 2020031200032]\n"
     ]
    }
   ],
   "source": [
    "for exp_time in exp_times: \n",
    "    PTC_pairs = await latiss.take_flats(exptime=exp_time, nflats=2, filter=filter_str, grating=grating_str)\n",
    "    print ('The PTC pair data ids for exposure time ' +str(exp_time) + ' are: '+  str(PTC_pairs)) "
   ]
  },
  {
   "cell_type": "code",
   "execution_count": 11,
   "metadata": {},
   "outputs": [],
   "source": [
    "import lsst.daf.persistence as dafPersist\n",
    "import lsst.afw.display as afwDisplay\n",
    "\n",
    "afwDisplay.setDefaultBackend(\"firefly\")\n",
    "os.environ['FIREFLY_URL'] = \"http://firefly01.cp.lsst.org:8080/firefly/\""
   ]
  },
  {
   "cell_type": "code",
   "execution_count": 12,
   "metadata": {},
   "outputs": [
    {
     "name": "stderr",
     "output_type": "stream",
     "text": [
      "/opt/lsst/software/stack/python/miniconda3-4.7.12/envs/lsst-scipipe-984c9f7/lib/python3.7/site-packages/ipykernel/__main__.py:10: FutureWarning: Config field doAddDistortionModel is deprecated: Camera geometry is incorporated when reading the raw files. This option no longer is used, and will be removed after v19.\n"
     ]
    }
   ],
   "source": [
    "from lsst.ip.isr.isrTask import IsrTask\n",
    "\n",
    "isrConfig = IsrTask.ConfigClass()\n",
    "isrConfig.doLinearize = False\n",
    "isrConfig.doBias = False\n",
    "isrConfig.doFlat = False\n",
    "isrConfig.doDark = False\n",
    "isrConfig.doFringe = False\n",
    "isrConfig.doDefect = False\n",
    "isrConfig.doAddDistortionModel = False\n",
    "isrConfig.doWrite = False\n",
    "\n",
    "isrTask = IsrTask(config=isrConfig)"
   ]
  },
  {
   "cell_type": "code",
   "execution_count": 13,
   "metadata": {},
   "outputs": [],
   "source": [
    "butler = dafPersist.Butler(\"/project/shared/auxTel\")\n",
    "dataId = dict(dayObs=\"2020-03-12\") #Your observing date "
   ]
  },
  {
   "cell_type": "code",
   "execution_count": 14,
   "metadata": {},
   "outputs": [
    {
     "name": "stdout",
     "output_type": "stream",
     "text": [
      "Using translation class LSST_LATISS\n",
      "Checking for header correction file named LATISS-AT_O_20200312_000011.yaml\n",
      "AT_O_20200312_000011: Forcing detector serial to ITL-3800C-068\n",
      "AT_O_20200312_000011: Forcing SHUTTIME header to be None\n",
      "AT_O_20200312_000011: Forcing blank RADESYS to 'ICRS'\n",
      "Using translation class LSST_LATISS\n",
      "Checking for header correction file named LATISS-AT_O_20200312_000011.yaml\n",
      "AT_O_20200312_000011: Forcing detector serial to ITL-3800C-068\n",
      "Using translation class LSST_LATISS\n",
      "AT_O_20200312_000011: Dark time less than exposure time. Setting dark time to the exposure time.\n"
     ]
    }
   ],
   "source": [
    "dataId[\"seqNum\"] = 11\n",
    "exp = butler.get('raw', dataId)"
   ]
  },
  {
   "cell_type": "code",
   "execution_count": 15,
   "metadata": {},
   "outputs": [
    {
     "name": "stdout",
     "output_type": "stream",
     "text": [
      "Starting new HTTPS connection (1): summit-lsp.lsst.codes:443\n",
      "https://summit-lsp.lsst.codes:443 \"POST /portal/app/sticky/CmdSrv HTTP/1.1\" 200 38\n",
      "https://summit-lsp.lsst.codes:443 \"POST /portal/app/sticky/CmdSrv HTTP/1.1\" 200 38\n",
      "https://summit-lsp.lsst.codes:443 \"POST /portal/app/sticky/CmdSrv HTTP/1.1\" 200 38\n",
      "https://summit-lsp.lsst.codes:443 \"POST /portal/app/sticky/CmdSrv HTTP/1.1\" 200 38\n",
      "https://summit-lsp.lsst.codes:443 \"POST /portal/app/sticky/CmdSrv HTTP/1.1\" 200 38\n",
      "https://summit-lsp.lsst.codes:443 \"POST /portal/app/sticky/CmdSrv HTTP/1.1\" 200 38\n",
      "https://summit-lsp.lsst.codes:443 \"POST /portal/app/sticky/CmdSrv HTTP/1.1\" 200 38\n",
      "https://summit-lsp.lsst.codes:443 \"POST /portal/app/sticky/CmdSrv HTTP/1.1\" 200 38\n",
      "https://summit-lsp.lsst.codes:443 \"POST /portal/app/sticky/CmdSrv HTTP/1.1\" 200 38\n",
      "https://summit-lsp.lsst.codes:443 \"POST /portal/app/sticky/CmdSrv HTTP/1.1\" 200 38\n",
      "https://summit-lsp.lsst.codes:443 \"POST /portal/app/sticky/CmdSrv HTTP/1.1\" 200 38\n",
      "https://summit-lsp.lsst.codes:443 \"POST /portal/app/sticky/CmdSrv HTTP/1.1\" 200 38\n",
      "https://summit-lsp.lsst.codes:443 \"POST /portal/app/sticky/CmdSrv HTTP/1.1\" 200 38\n",
      "https://summit-lsp.lsst.codes:443 \"POST /portal/app/sticky/CmdSrv HTTP/1.1\" 200 38\n",
      "https://summit-lsp.lsst.codes:443 \"POST /portal/app/sticky/CmdSrv HTTP/1.1\" 200 38\n",
      "https://summit-lsp.lsst.codes:443 \"POST /portal/app/sticky/CmdSrv HTTP/1.1\" 200 38\n",
      "https://summit-lsp.lsst.codes:443 \"POST /portal/app/sticky/CmdSrv HTTP/1.1\" 200 38\n",
      "https://summit-lsp.lsst.codes:443 \"POST /portal/app/sticky/CmdSrv?cmd=upload&preload=true&type=FITS HTTP/1.1\" 200 74\n",
      "https://summit-lsp.lsst.codes:443 \"POST /portal/app/sticky/CmdSrv HTTP/1.1\" 200 38\n",
      "https://summit-lsp.lsst.codes:443 \"POST /portal/app/sticky/CmdSrv?cmd=upload&preload=true&type=FITS HTTP/1.1\" 200 73\n",
      "RemoteTelemetry(ATPtg, 0, timeAndDate) falling behind; read 92 messages\n",
      "RemoteTelemetry(ATDome, 0, position) falling behind; read 89 messages\n",
      "RemoteEvent(ATSpectrograph, 0, heartbeat) falling behind; read 19 messages\n",
      "RemoteEvent(ATHeaderService, 0, heartbeat) falling behind; read 18 messages\n",
      "RemoteEvent(ATMCS, 0, heartbeat) falling behind; read 18 messages\n",
      "RemoteTelemetry(ATPneumatics, 0, loadCell) falling behind; read 18 messages\n",
      "RemoteEvent(ATAOS, 0, heartbeat) falling behind; read 18 messages\n",
      "RemoteEvent(ATArchiver, 0, heartbeat) falling behind; read 18 messages\n",
      "RemoteTelemetry(ATHexapod, 0, positionStatus) falling behind; read 18 messages\n",
      "RemoteEvent(ATDomeTrajectory, 0, heartbeat) falling behind; read 18 messages\n",
      "RemoteTelemetry(ATPneumatics, 0, mainAirSourcePressure) falling behind; read 19 messages\n",
      "RemoteEvent(ATHexapod, 0, heartbeat) falling behind; read 18 messages\n",
      "RemoteTelemetry(ATPneumatics, 0, m2AirPressure) falling behind; read 19 messages\n",
      "RemoteTelemetry(ATMCS, 0, trajectory) falling behind; read 18 messages\n",
      "RemoteTelemetry(ATPneumatics, 0, m1AirPressure) falling behind; read 19 messages\n",
      "RemoteEvent(ATDome, 0, heartbeat) falling behind; read 19 messages\n",
      "RemoteTelemetry(ATMCS, 0, torqueDemand) falling behind; read 18 messages\n",
      "RemoteEvent(ATDome, 0, doorEncoderExtremes) falling behind; read 92 messages\n",
      "RemoteTelemetry(ATPtg, 0, mountStatus) falling behind; read 95 messages\n",
      "RemoteTelemetry(ATMCS, 0, nasymth_m3_mountMotorEncoders) falling behind; read 19 messages\n",
      "RemoteEvent(ATPneumatics, 0, heartbeat) falling behind; read 19 messages\n",
      "RemoteTelemetry(ATPtg, 0, guidingAndOffsets) falling behind; read 96 messages\n",
      "RemoteTelemetry(ATMCS, 0, mount_Nasmyth_Encoders) falling behind; read 19 messages\n",
      "RemoteTelemetry(ATMCS, 0, mount_AzEl_Encoders) falling behind; read 19 messages\n",
      "RemoteTelemetry(ATPtg, 0, currentTargetStatus) falling behind; read 97 messages\n",
      "RemoteTelemetry(ATMCS, 0, measuredTorque) falling behind; read 19 messages\n",
      "RemoteTelemetry(ATMCS, 0, measuredMotorVelocity) falling behind; read 19 messages\n",
      "RemoteEvent(ATPtg, 0, mountDataWarning) falling behind; read 18 messages\n",
      "RemoteTelemetry(ATMCS, 0, azEl_mountMotorEncoders) falling behind; read 19 messages\n",
      "RemoteEvent(ATPtg, 0, heartbeat) falling behind; read 20 messages\n"
     ]
    }
   ],
   "source": [
    "disp = afwDisplay.Display(1, name='sample', reopenPlot=True)\n",
    "disp.scale('asinh', 'zscale')\n",
    "disp.mtv(exp, title=f\"{dataId}\")"
   ]
  },
  {
   "cell_type": "code",
   "execution_count": null,
   "metadata": {},
   "outputs": [],
   "source": []
  }
 ],
 "metadata": {
  "kernelspec": {
   "display_name": "LSST",
   "language": "python",
   "name": "lsst"
  },
  "language_info": {
   "codemirror_mode": {
    "name": "ipython",
    "version": 3
   },
   "file_extension": ".py",
   "mimetype": "text/x-python",
   "name": "python",
   "nbconvert_exporter": "python",
   "pygments_lexer": "ipython3",
   "version": "3.7.6"
  }
 },
 "nbformat": 4,
 "nbformat_minor": 4
}
