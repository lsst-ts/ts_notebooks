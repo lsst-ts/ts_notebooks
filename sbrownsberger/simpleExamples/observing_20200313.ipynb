{
 "cells": [
  {
   "cell_type": "code",
   "execution_count": 1,
   "metadata": {},
   "outputs": [],
   "source": [
    "import sys\n",
    "import os\n",
    "import asyncio\n",
    "import logging\n",
    "import time\n",
    "\n",
    "import numpy as np\n",
    "\n",
    "from lsst.ts import salobj\n",
    "\n",
    "\n",
    "from lsst.ts.standardscripts.auxtel.attcs import ATTCS\n",
    "from lsst.ts.standardscripts.auxtel.latiss import LATISS"
   ]
  },
  {
   "cell_type": "code",
   "execution_count": 2,
   "metadata": {},
   "outputs": [],
   "source": [
    "os.environ[\"LSST_DDS_DOMAIN\"] = 'lsatmcs'\n",
    "os.environ[\"OSPL_URI\"] = \"file:///home/sashabrownsberger/ospl.xml\""
   ]
  },
  {
   "cell_type": "code",
   "execution_count": 3,
   "metadata": {},
   "outputs": [],
   "source": [
    "stream_handler = logging.StreamHandler(sys.stdout)\n",
    "logger = logging.getLogger()\n",
    "logger.addHandler(stream_handler)\n",
    "logger.level = logging.DEBUG"
   ]
  },
  {
   "cell_type": "code",
   "execution_count": 4,
   "metadata": {},
   "outputs": [],
   "source": [
    "domain = salobj.Domain()\n",
    "attcs = ATTCS(domain)\n",
    "latiss = LATISS(domain)"
   ]
  },
  {
   "cell_type": "code",
   "execution_count": 5,
   "metadata": {},
   "outputs": [
    {
     "name": "stdout",
     "output_type": "stream",
     "text": [
      "Read historical data in 17.00 sec\n",
      "Read historical data in 17.41 sec\n",
      "Read historical data in 17.74 sec\n",
      "Read historical data in 18.36 sec\n",
      "Read historical data in 18.61 sec\n",
      "Read historical data in 19.95 sec\n",
      "Read historical data in 20.94 sec\n",
      "Read historical data in 21.50 sec\n",
      "Read historical data in 22.07 sec\n",
      "Read historical data in 23.47 sec\n",
      "Read historical data in 26.77 sec\n",
      "RemoteEvent(ATHeaderService, 0, heartbeat) falling behind; read 11 messages\n",
      "RemoteEvent(ATDomeTrajectory, 0, logMessage) falling behind; read 100 messages\n",
      "RemoteTelemetry(ATHexapod, 0, positionStatus) falling behind; read 10 messages\n",
      "RemoteTelemetry(ATDome, 0, position) falling behind; read 36 messages\n",
      "RemoteEvent(ATDomeTrajectory, 0, heartbeat) falling behind; read 10 messages\n",
      "RemoteEvent(ATHexapod, 0, heartbeat) falling behind; read 11 messages\n"
     ]
    },
    {
     "data": {
      "text/plain": [
       "[[None, None, None, None, None, None, None], [None, None, None, None]]"
      ]
     },
     "execution_count": 5,
     "metadata": {},
     "output_type": "execute_result"
    },
    {
     "name": "stdout",
     "output_type": "stream",
     "text": [
      "RemoteEvent(ATDome, 0, doorEncoderExtremes) falling behind; read 40 messages\n",
      "RemoteEvent(ATPneumatics, 0, heartbeat) falling behind; read 10 messages\n"
     ]
    }
   ],
   "source": [
    "await asyncio.gather(attcs.start_task, latiss.start_task)"
   ]
  },
  {
   "cell_type": "code",
   "execution_count": 5,
   "metadata": {},
   "outputs": [
    {
     "name": "stdout",
     "output_type": "stream",
     "text": [
      "RemoteTelemetry(ATPtg, 0, timeAndDate) falling behind; read 18 messages\n",
      "RemoteEvent(ATAOS, 0, heartbeat) falling behind; read 10 messages\n",
      "RemoteEvent(ATDome, 0, doorEncoderExtremes) falling behind; read 40 messages\n",
      "RemoteTelemetry(ATPtg, 0, mountStatus) falling behind; read 20 messages\n",
      "RemoteTelemetry(ATPtg, 0, guidingAndOffsets) falling behind; read 20 messages\n",
      "Gathering settings.\n",
      "No settings for atmcs.\n",
      "Using                                                                                                                                 from settingVersions event.\n",
      "No settings for atptg.\n",
      "RemoteTelemetry(ATPtg, 0, currentTargetStatus) falling behind; read 21 messages\n",
      "Couldn't get settingVersions event. Using empty settings.\n",
      "No settings for ataos.\n",
      "Using current from settingVersions event.\n",
      "No settings for atpneumatics.\n",
      "Using                                                                                                                                 from settingVersions event.\n",
      "No settings for athexapod.\n",
      "Using current from settingVersions event.\n",
      "No settings for atdome.\n",
      "Using test from settingVersions event.\n",
      "No settings for atdometrajectory.\n",
      "Using  from settingVersions event.\n",
      "Settings versions: {'atmcs': '                                                                                                                               ', 'atptg': '', 'ataos': 'current', 'atpneumatics': '                                                                                                                               ', 'athexapod': 'current', 'atdome': 'test', 'atdometrajectory': ''}\n",
      "Enabling all components\n",
      "Enabling  atmcs\n",
      "Enabling  atptg\n",
      "Enabling  ataos\n",
      "Enabling  atpneumatics\n",
      "Enabling  athexapod\n",
      "Enabling  atdome\n",
      "Enabling  atdometrajectory\n",
      "[atmcs]::[<State.ENABLED: 2>]\n",
      "[atptg]::[<State.ENABLED: 2>]\n",
      "[ataos]::[<State.ENABLED: 2>]\n",
      "[atpneumatics]::[<State.ENABLED: 2>]\n",
      "[athexapod]::[<State.ENABLED: 2>]\n",
      "[atdome]::[<State.ENABLED: 2>]\n",
      "[atdometrajectory]::[<State.ENABLED: 2>]\n",
      "All components enabled.\n",
      "Gathering settings.\n",
      "No settings for atcamera.\n",
      "Using  from settingVersions event.\n",
      "No settings for atspectrograph.\n",
      "Using current from settingVersions event.\n",
      "No settings for atheaderservice.\n",
      "Couldn't get settingVersions event. Using empty settings.\n",
      "No settings for atarchiver.\n",
      "Using normal from settingVersions event.\n",
      "Settings versions: {'atcamera': '', 'atspectrograph': 'current', 'atheaderservice': '', 'atarchiver': 'normal'}\n",
      "Enabling all components\n",
      "Enabling  atcamera\n",
      "Enabling  atspectrograph\n",
      "Enabling  atheaderservice\n",
      "Enabling  atarchiver\n",
      "[atcamera]::[<State.ENABLED: 2>]\n",
      "[atspectrograph]::[<State.ENABLED: 2>]\n",
      "[atheaderservice]::[<State.ENABLED: 2>]\n",
      "[atarchiver]::[<State.ENABLED: 2>]\n",
      "All components enabled.\n"
     ]
    }
   ],
   "source": [
    "\n",
    "await attcs.enable()\n",
    "await latiss.enable() "
   ]
  },
  {
   "cell_type": "code",
   "execution_count": 6,
   "metadata": {},
   "outputs": [
    {
     "name": "stdout",
     "output_type": "stream",
     "text": [
      "Gathering settings.\n",
      "No settings for atmcs.\n",
      "Using                                                                                                                                 from settingVersions event.\n",
      "No settings for atptg.\n",
      "RemoteEvent(ATMCS, 0, target) falling behind; read 69 messages\n",
      "Couldn't get settingVersions event. Using empty settings.\n",
      "No settings for ataos.\n",
      "Using current from settingVersions event.\n",
      "No settings for atpneumatics.\n",
      "Using                                                                                                                                 from settingVersions event.\n",
      "No settings for athexapod.\n",
      "Using current from settingVersions event.\n",
      "No settings for atdome.\n",
      "Using test from settingVersions event.\n",
      "No settings for atdometrajectory.\n",
      "Using  from settingVersions event.\n",
      "Settings versions: {'atmcs': '                                                                                                                               ', 'atptg': '', 'ataos': 'current', 'atpneumatics': '                                                                                                                               ', 'athexapod': 'current', 'atdome': 'test', 'atdometrajectory': ''}\n",
      "Enabling all components\n",
      "Enabling  atmcs\n",
      "Enabling  atptg\n",
      "Enabling  ataos\n",
      "Enabling  atpneumatics\n",
      "Enabling  athexapod\n",
      "Enabling  atdome\n",
      "Enabling  atdometrajectory\n",
      "[atmcs]::[<State.ENABLED: 2>]\n",
      "[atptg]::[<State.ENABLED: 2>]\n",
      "[ataos]::[<State.ENABLED: 2>]\n",
      "[atpneumatics]::[<State.ENABLED: 2>]\n",
      "[athexapod]::[<State.ENABLED: 2>]\n",
      "[atdome]::[<State.ENABLED: 2>]\n",
      "[atdometrajectory]::[<State.ENABLED: 2>]\n",
      "All components enabled.\n",
      "Slew telescope to park position.\n",
      "Sending command\n",
      "Stop tracking.\n",
      "Mount tracking state is 9\n",
      "Tracking state: 10.\n",
      "Tracking state: 8.\n",
      "In Position: True.\n",
      "In Position: False.\n",
      "Scheduling check coroutines\n",
      "process as completed...\n",
      "Got False\n",
      "Telescope not in position\n",
      "atmcs: <State.ENABLED: 2>\n",
      "atptg: <State.ENABLED: 2>\n",
      "ataos: <State.ENABLED: 2>\n",
      "atpneumatics: <State.ENABLED: 2>\n",
      "athexapod: <State.ENABLED: 2>\n",
      "[Telescope] delta Alt = +025.242 | delta Az= +068.596\n",
      "[Telescope] delta Alt = +025.312 | delta Az= +066.598\n",
      "[Telescope] delta Alt = +024.851 | delta Az= +062.608\n",
      "[Telescope] delta Alt = +023.473 | delta Az= +058.608\n",
      "[Telescope] delta Alt = +022.396 | delta Az= +056.607\n",
      "RemoteEvent(ATMCS, 0, target) falling behind; read 38 messages\n",
      "[Telescope] delta Alt = +013.963 | delta Az= +046.608\n",
      "[Telescope] delta Alt = +011.967 | delta Az= +044.607\n",
      "[Telescope] delta Alt = +008.095 | delta Az= +040.608\n",
      "[Telescope] delta Alt = +004.730 | delta Az= +036.608\n",
      "[Telescope] delta Alt = +002.195 | delta Az= +032.607\n",
      "[Telescope] delta Alt = +000.668 | delta Az= +028.609\n"
     ]
    },
    {
     "ename": "CancelledError",
     "evalue": "",
     "output_type": "error",
     "traceback": [
      "\u001b[0;31m---------------------------------------------------------------------------\u001b[0m",
      "\u001b[0;31mCancelledError\u001b[0m                            Traceback (most recent call last)",
      "\u001b[0;32m<ipython-input-6-4b9d06eeed0e>\u001b[0m in \u001b[0;36masync-def-wrapper\u001b[0;34m()\u001b[0m\n\u001b[1;32m      4\u001b[0m \u001b[0;31m#You may want to verify that the dome is open\u001b[0m\u001b[0;34m\u001b[0m\u001b[0;34m\u001b[0m\u001b[0;34m\u001b[0m\u001b[0m\n",
      "\u001b[0;32m~/repos/ts_standardscripts/python/lsst/ts/standardscripts/auxtel/attcs.py\u001b[0m in \u001b[0;36mstartup\u001b[0;34m(self, settings)\u001b[0m\n\u001b[1;32m    562\u001b[0m                               \u001b[0maz\u001b[0m\u001b[0;34m=\u001b[0m\u001b[0mself\u001b[0m\u001b[0;34m.\u001b[0m\u001b[0mtel_park_az\u001b[0m\u001b[0;34m,\u001b[0m\u001b[0;34m\u001b[0m\u001b[0;34m\u001b[0m\u001b[0m\n\u001b[1;32m    563\u001b[0m                               \u001b[0mel\u001b[0m\u001b[0;34m=\u001b[0m\u001b[0mself\u001b[0m\u001b[0;34m.\u001b[0m\u001b[0mtel_park_el\u001b[0m\u001b[0;34m,\u001b[0m\u001b[0;34m\u001b[0m\u001b[0;34m\u001b[0m\u001b[0m\n\u001b[0;32m--> 564\u001b[0;31m                               wait_dome=False)\n\u001b[0m\u001b[1;32m    565\u001b[0m         \u001b[0mself\u001b[0m\u001b[0;34m.\u001b[0m\u001b[0mcheck\u001b[0m\u001b[0;34m.\u001b[0m\u001b[0matdome\u001b[0m \u001b[0;34m=\u001b[0m \u001b[0matdome_check\u001b[0m\u001b[0;34m\u001b[0m\u001b[0;34m\u001b[0m\u001b[0m\n\u001b[1;32m    566\u001b[0m \u001b[0;34m\u001b[0m\u001b[0m\n",
      "\u001b[0;32m~/repos/ts_standardscripts/python/lsst/ts/standardscripts/auxtel/attcs.py\u001b[0m in \u001b[0;36mpoint_azel\u001b[0;34m(self, az, el, rot_pa, target_name, wait_dome, slew_timeout, track_id)\u001b[0m\n\u001b[1;32m    132\u001b[0m             \u001b[0mself\u001b[0m\u001b[0;34m.\u001b[0m\u001b[0mcheck\u001b[0m\u001b[0;34m.\u001b[0m\u001b[0matdome\u001b[0m \u001b[0;34m=\u001b[0m \u001b[0mcheck_atdome\u001b[0m\u001b[0;34m\u001b[0m\u001b[0;34m\u001b[0m\u001b[0m\n\u001b[1;32m    133\u001b[0m             \u001b[0mself\u001b[0m\u001b[0;34m.\u001b[0m\u001b[0mcheck\u001b[0m\u001b[0;34m.\u001b[0m\u001b[0matdometrajectory\u001b[0m \u001b[0;34m=\u001b[0m \u001b[0mcheck_atdometrajectory\u001b[0m\u001b[0;34m\u001b[0m\u001b[0;34m\u001b[0m\u001b[0m\n\u001b[0;32m--> 134\u001b[0;31m             \u001b[0;32mraise\u001b[0m \u001b[0me\u001b[0m\u001b[0;34m\u001b[0m\u001b[0;34m\u001b[0m\u001b[0m\n\u001b[0m\u001b[1;32m    135\u001b[0m \u001b[0;34m\u001b[0m\u001b[0m\n\u001b[1;32m    136\u001b[0m     \u001b[0;32masync\u001b[0m \u001b[0;32mdef\u001b[0m \u001b[0mstart_tracking\u001b[0m\u001b[0;34m(\u001b[0m\u001b[0mself\u001b[0m\u001b[0;34m)\u001b[0m\u001b[0;34m:\u001b[0m\u001b[0;34m\u001b[0m\u001b[0;34m\u001b[0m\u001b[0m\n",
      "\u001b[0;32m~/repos/ts_standardscripts/python/lsst/ts/standardscripts/auxtel/attcs.py\u001b[0m in \u001b[0;36mpoint_azel\u001b[0;34m(self, az, el, rot_pa, target_name, wait_dome, slew_timeout, track_id)\u001b[0m\n\u001b[1;32m    128\u001b[0m         \u001b[0;32mtry\u001b[0m\u001b[0;34m:\u001b[0m\u001b[0;34m\u001b[0m\u001b[0;34m\u001b[0m\u001b[0m\n\u001b[1;32m    129\u001b[0m             await self._slew_to(self.atptg.cmd_azElTarget,\n\u001b[0;32m--> 130\u001b[0;31m                                 slew_timeout=slew_timeout)\n\u001b[0m\u001b[1;32m    131\u001b[0m         \u001b[0;32mexcept\u001b[0m \u001b[0mException\u001b[0m \u001b[0;32mas\u001b[0m \u001b[0me\u001b[0m\u001b[0;34m:\u001b[0m\u001b[0;34m\u001b[0m\u001b[0;34m\u001b[0m\u001b[0m\n\u001b[1;32m    132\u001b[0m             \u001b[0mself\u001b[0m\u001b[0;34m.\u001b[0m\u001b[0mcheck\u001b[0m\u001b[0;34m.\u001b[0m\u001b[0matdome\u001b[0m \u001b[0;34m=\u001b[0m \u001b[0mcheck_atdome\u001b[0m\u001b[0;34m\u001b[0m\u001b[0;34m\u001b[0m\u001b[0m\n",
      "\u001b[0;32m~/repos/ts_standardscripts/python/lsst/ts/standardscripts/auxtel/attcs.py\u001b[0m in \u001b[0;36m_slew_to\u001b[0;34m(self, slew_cmd, slew_timeout)\u001b[0m\n\u001b[1;32m    847\u001b[0m         \u001b[0;32mfor\u001b[0m \u001b[0mres\u001b[0m \u001b[0;32min\u001b[0m \u001b[0masyncio\u001b[0m\u001b[0;34m.\u001b[0m\u001b[0mas_completed\u001b[0m\u001b[0;34m(\u001b[0m\u001b[0mself\u001b[0m\u001b[0;34m.\u001b[0m\u001b[0mscheduled_coro\u001b[0m\u001b[0;34m)\u001b[0m\u001b[0;34m:\u001b[0m\u001b[0;34m\u001b[0m\u001b[0;34m\u001b[0m\u001b[0m\n\u001b[1;32m    848\u001b[0m             \u001b[0;32mtry\u001b[0m\u001b[0;34m:\u001b[0m\u001b[0;34m\u001b[0m\u001b[0;34m\u001b[0m\u001b[0m\n\u001b[0;32m--> 849\u001b[0;31m                 \u001b[0mret_val\u001b[0m \u001b[0;34m=\u001b[0m \u001b[0;32mawait\u001b[0m \u001b[0mres\u001b[0m\u001b[0;34m\u001b[0m\u001b[0;34m\u001b[0m\u001b[0m\n\u001b[0m\u001b[1;32m    850\u001b[0m                 \u001b[0mself\u001b[0m\u001b[0;34m.\u001b[0m\u001b[0mlog\u001b[0m\u001b[0;34m.\u001b[0m\u001b[0mdebug\u001b[0m\u001b[0;34m(\u001b[0m\u001b[0mret_val\u001b[0m\u001b[0;34m)\u001b[0m\u001b[0;34m\u001b[0m\u001b[0;34m\u001b[0m\u001b[0m\n\u001b[1;32m    851\u001b[0m             \u001b[0;32mexcept\u001b[0m \u001b[0mRuntimeError\u001b[0m \u001b[0;32mas\u001b[0m \u001b[0mrte\u001b[0m\u001b[0;34m:\u001b[0m\u001b[0;34m\u001b[0m\u001b[0;34m\u001b[0m\u001b[0m\n",
      "\u001b[0;32m/opt/lsst/software/stack/python/miniconda3-4.7.12/envs/lsst-scipipe-984c9f7/lib/python3.7/asyncio/tasks.py\u001b[0m in \u001b[0;36m_wait_for_one\u001b[0;34m()\u001b[0m\n\u001b[1;32m    554\u001b[0m \u001b[0;34m\u001b[0m\u001b[0m\n\u001b[1;32m    555\u001b[0m     \u001b[0;32masync\u001b[0m \u001b[0;32mdef\u001b[0m \u001b[0m_wait_for_one\u001b[0m\u001b[0;34m(\u001b[0m\u001b[0;34m)\u001b[0m\u001b[0;34m:\u001b[0m\u001b[0;34m\u001b[0m\u001b[0;34m\u001b[0m\u001b[0m\n\u001b[0;32m--> 556\u001b[0;31m         \u001b[0mf\u001b[0m \u001b[0;34m=\u001b[0m \u001b[0;32mawait\u001b[0m \u001b[0mdone\u001b[0m\u001b[0;34m.\u001b[0m\u001b[0mget\u001b[0m\u001b[0;34m(\u001b[0m\u001b[0;34m)\u001b[0m\u001b[0;34m\u001b[0m\u001b[0;34m\u001b[0m\u001b[0m\n\u001b[0m\u001b[1;32m    557\u001b[0m         \u001b[0;32mif\u001b[0m \u001b[0mf\u001b[0m \u001b[0;32mis\u001b[0m \u001b[0;32mNone\u001b[0m\u001b[0;34m:\u001b[0m\u001b[0;34m\u001b[0m\u001b[0;34m\u001b[0m\u001b[0m\n\u001b[1;32m    558\u001b[0m             \u001b[0;31m# Dummy value from _on_timeout().\u001b[0m\u001b[0;34m\u001b[0m\u001b[0;34m\u001b[0m\u001b[0;34m\u001b[0m\u001b[0m\n",
      "\u001b[0;32m/opt/lsst/software/stack/python/miniconda3-4.7.12/envs/lsst-scipipe-984c9f7/lib/python3.7/asyncio/queues.py\u001b[0m in \u001b[0;36mget\u001b[0;34m(self)\u001b[0m\n\u001b[1;32m    157\u001b[0m             \u001b[0mself\u001b[0m\u001b[0;34m.\u001b[0m\u001b[0m_getters\u001b[0m\u001b[0;34m.\u001b[0m\u001b[0mappend\u001b[0m\u001b[0;34m(\u001b[0m\u001b[0mgetter\u001b[0m\u001b[0;34m)\u001b[0m\u001b[0;34m\u001b[0m\u001b[0;34m\u001b[0m\u001b[0m\n\u001b[1;32m    158\u001b[0m             \u001b[0;32mtry\u001b[0m\u001b[0;34m:\u001b[0m\u001b[0;34m\u001b[0m\u001b[0;34m\u001b[0m\u001b[0m\n\u001b[0;32m--> 159\u001b[0;31m                 \u001b[0;32mawait\u001b[0m \u001b[0mgetter\u001b[0m\u001b[0;34m\u001b[0m\u001b[0;34m\u001b[0m\u001b[0m\n\u001b[0m\u001b[1;32m    160\u001b[0m             \u001b[0;32mexcept\u001b[0m\u001b[0;34m:\u001b[0m\u001b[0;34m\u001b[0m\u001b[0;34m\u001b[0m\u001b[0m\n\u001b[1;32m    161\u001b[0m                 \u001b[0mgetter\u001b[0m\u001b[0;34m.\u001b[0m\u001b[0mcancel\u001b[0m\u001b[0;34m(\u001b[0m\u001b[0;34m)\u001b[0m  \u001b[0;31m# Just in case getter is not done yet.\u001b[0m\u001b[0;34m\u001b[0m\u001b[0;34m\u001b[0m\u001b[0m\n",
      "\u001b[0;31mCancelledError\u001b[0m: "
     ]
    },
    {
     "name": "stdout",
     "output_type": "stream",
     "text": [
      "[Telescope] delta Alt = +000.063 | delta Az= +024.631\n",
      "[Telescope] delta Alt = -000.000 | delta Az= +020.719\n",
      "[Telescope] delta Alt = -000.000 | delta Az= +016.942\n",
      "[Telescope] delta Alt = -000.000 | delta Az= +013.384\n",
      "[Telescope] delta Alt = +000.000 | delta Az= +010.125\n",
      "[Telescope] delta Alt = +000.000 | delta Az= +007.252\n",
      "[Telescope] delta Alt = +000.000 | delta Az= +004.831\n",
      "[Telescope] delta Alt = +000.000 | delta Az= +002.912\n",
      "[Telescope] delta Alt = +000.000 | delta Az= +002.147\n",
      "[Telescope] delta Alt = +000.000 | delta Az= +001.004\n",
      "[Telescope] delta Alt = +000.000 | delta Az= +000.336\n",
      "[Telescope] delta Alt = +000.000 | delta Az= +000.050\n",
      "[Telescope] delta Alt = +000.000 | delta Az= -000.000\n",
      "Axes in position.\n"
     ]
    }
   ],
   "source": [
    "# !!!! STOP !!!!\n",
    "#This command will open the dome and.  Do not run until the sky is sufficiently dark! \n",
    "await attcs.startup()\n",
    "#You may want to verify that the dome is open"
   ]
  },
  {
   "cell_type": "code",
   "execution_count": 7,
   "metadata": {},
   "outputs": [
    {
     "name": "stdout",
     "output_type": "stream",
     "text": [
      "Got True\n",
      "Waiting for telescope to settle.\n",
      "Telescope in position.\n"
     ]
    },
    {
     "data": {
      "text/plain": [
       "[<ddsutil.ATPtg_ackcmd_2d655b72 at 0x7f47bdaaacd0>,\n",
       " <ddsutil.ATDome_ackcmd_ff080bab at 0x7f47a9f1f050>,\n",
       " AckTimeoutError(msg='Timed out waiting for command acknowledgement', ackcmd=(ackcmd private_seqNum=1847128462, ack=<SalRetCode.CMD_ACK: 300>, error=0, result='SAL ACK'))]"
      ]
     },
     "execution_count": 7,
     "metadata": {},
     "output_type": "execute_result"
    }
   ],
   "source": [
    "await attcs.stop_all()"
   ]
  },
  {
   "cell_type": "code",
   "execution_count": 8,
   "metadata": {},
   "outputs": [
    {
     "data": {
      "text/plain": [
       "[<Task pending coro=<ATTCS.wait_for_inposition() running at /home/sashabrownsberger/repos/ts_standardscripts/python/lsst/ts/standardscripts/auxtel/attcs.py:938> wait_for=<Future pending cb=[<TaskWakeupMethWrapper object at 0x7f47bdb7b150>()]> cb=[as_completed.<locals>._on_completion() at /opt/lsst/software/stack/python/miniconda3-4.7.12/envs/lsst-scipipe-984c9f7/lib/python3.7/asyncio/tasks.py:547]>,\n",
       " <Task finished coro=<ATTCS.monitor_position() done, defined at /home/sashabrownsberger/repos/ts_standardscripts/python/lsst/ts/standardscripts/auxtel/attcs.py:1064> result=None>,\n",
       " <Task pending coro=<BaseGroup.check_component_state() running at /home/sashabrownsberger/repos/ts_standardscripts/python/lsst/ts/standardscripts/base_group.py:92> wait_for=<Future pending cb=[<TaskWakeupMethWrapper object at 0x7f47bd983950>()]> cb=[as_completed.<locals>._on_completion() at /opt/lsst/software/stack/python/miniconda3-4.7.12/envs/lsst-scipipe-984c9f7/lib/python3.7/asyncio/tasks.py:547]>,\n",
       " <Task pending coro=<BaseGroup.check_component_state() running at /home/sashabrownsberger/repos/ts_standardscripts/python/lsst/ts/standardscripts/base_group.py:92> wait_for=<Future pending cb=[<TaskWakeupMethWrapper object at 0x7f47a9f6e210>()]> cb=[as_completed.<locals>._on_completion() at /opt/lsst/software/stack/python/miniconda3-4.7.12/envs/lsst-scipipe-984c9f7/lib/python3.7/asyncio/tasks.py:547]>,\n",
       " <Task pending coro=<BaseGroup.check_component_state() running at /home/sashabrownsberger/repos/ts_standardscripts/python/lsst/ts/standardscripts/base_group.py:92> wait_for=<Future pending cb=[<TaskWakeupMethWrapper object at 0x7f47a9f72dd0>()]> cb=[as_completed.<locals>._on_completion() at /opt/lsst/software/stack/python/miniconda3-4.7.12/envs/lsst-scipipe-984c9f7/lib/python3.7/asyncio/tasks.py:547]>,\n",
       " <Task pending coro=<BaseGroup.check_component_state() running at /home/sashabrownsberger/repos/ts_standardscripts/python/lsst/ts/standardscripts/base_group.py:92> wait_for=<Future pending cb=[<TaskWakeupMethWrapper object at 0x7f47a9f67450>()]> cb=[as_completed.<locals>._on_completion() at /opt/lsst/software/stack/python/miniconda3-4.7.12/envs/lsst-scipipe-984c9f7/lib/python3.7/asyncio/tasks.py:547]>,\n",
       " <Task pending coro=<BaseGroup.check_component_state() running at /home/sashabrownsberger/repos/ts_standardscripts/python/lsst/ts/standardscripts/base_group.py:92> wait_for=<Future pending cb=[<TaskWakeupMethWrapper object at 0x7f47bd983710>()]> cb=[as_completed.<locals>._on_completion() at /opt/lsst/software/stack/python/miniconda3-4.7.12/envs/lsst-scipipe-984c9f7/lib/python3.7/asyncio/tasks.py:547]>]"
      ]
     },
     "execution_count": 8,
     "metadata": {},
     "output_type": "execute_result"
    }
   ],
   "source": [
    "#check if tasks are pending\n",
    "attcs.scheduled_coro"
   ]
  },
  {
   "cell_type": "code",
   "execution_count": 9,
   "metadata": {},
   "outputs": [],
   "source": [
    "await attcs.cancel_not_done(attcs.scheduled_coro)"
   ]
  },
  {
   "cell_type": "code",
   "execution_count": null,
   "metadata": {},
   "outputs": [],
   "source": [
    "await attcs.atdome.cmd_openShutter.start() "
   ]
  },
  {
   "cell_type": "code",
   "execution_count": 7,
   "metadata": {},
   "outputs": [
    {
     "name": "stdout",
     "output_type": "stream",
     "text": [
      "Generating group_id\n",
      "BIAS 0001 - 0010\n",
      "Waiting for header service LFO before continuing\n",
      "BIAS 0002 - 0010\n",
      "Waiting for header service LFO before continuing\n",
      "BIAS 0003 - 0010\n",
      "RemoteEvent(ATHeaderService, 0, logMessage) falling behind; read 21 messages\n",
      "Waiting for header service LFO before continuing\n",
      "BIAS 0004 - 0010\n",
      "Waiting for header service LFO before continuing\n",
      "BIAS 0005 - 0010\n",
      "RemoteEvent(ATHeaderService, 0, logMessage) falling behind; read 10 messages\n",
      "Waiting for header service LFO before continuing\n",
      "BIAS 0006 - 0010\n",
      "Waiting for header service LFO before continuing\n",
      "BIAS 0007 - 0010\n",
      "Waiting for header service LFO before continuing\n",
      "BIAS 0008 - 0010\n",
      "Waiting for header service LFO before continuing\n",
      "BIAS 0009 - 0010\n",
      "RemoteEvent(ATHeaderService, 0, logMessage) falling behind; read 10 messages\n",
      "Waiting for header service LFO before continuing\n",
      "BIAS 0010 - 0010\n",
      "Waiting for header service LFO before continuing\n",
      "The bias data id(s) are: [2020031200033 2020031200034 2020031200035 2020031200036 2020031200037\n",
      " 2020031200038 2020031200039 2020031200040 2020031200041 2020031200042]\n"
     ]
    }
   ],
   "source": [
    "#Let's take some biases \n",
    "bias_data_id_list = await latiss.take_bias(nbias=10)\n",
    "print ('The bias data id(s) are: ' + str(bias_data_id_list)) "
   ]
  },
  {
   "cell_type": "code",
   "execution_count": 8,
   "metadata": {},
   "outputs": [
    {
     "name": "stdout",
     "output_type": "stream",
     "text": [
      "Generating group_id\n",
      "BIAS 0001 - 0010\n",
      "Waiting for header service LFO before continuing\n",
      "BIAS 0002 - 0010\n",
      "Waiting for header service LFO before continuing\n",
      "BIAS 0003 - 0010\n",
      "Waiting for header service LFO before continuing\n",
      "BIAS 0004 - 0010\n",
      "Waiting for header service LFO before continuing\n",
      "BIAS 0005 - 0010\n",
      "Waiting for header service LFO before continuing\n",
      "BIAS 0006 - 0010\n",
      "Waiting for header service LFO before continuing\n",
      "BIAS 0007 - 0010\n",
      "RemoteEvent(ATHeaderService, 0, logMessage) falling behind; read 14 messages\n",
      "Waiting for header service LFO before continuing\n",
      "BIAS 0008 - 0010\n",
      "Waiting for header service LFO before continuing\n",
      "BIAS 0009 - 0010\n",
      "Waiting for header service LFO before continuing\n",
      "BIAS 0010 - 0010\n",
      "Waiting for header service LFO before continuing\n",
      "The bias data id(s) are: [2020031200043 2020031200044 2020031200045 2020031200046 2020031200047\n",
      " 2020031200048 2020031200049 2020031200050 2020031200051 2020031200052]\n"
     ]
    }
   ],
   "source": [
    "#Let's take some biases \n",
    "bias_data_id_list = await latiss.take_bias(nbias=10)\n",
    "print ('The bias data id(s) are: ' + str(bias_data_id_list)) "
   ]
  },
  {
   "cell_type": "code",
   "execution_count": 9,
   "metadata": {},
   "outputs": [
    {
     "name": "stdout",
     "output_type": "stream",
     "text": [
      "Generating group_id\n",
      "BIAS 0001 - 0010\n",
      "Waiting for header service LFO before continuing\n",
      "BIAS 0002 - 0010\n",
      "Waiting for header service LFO before continuing\n",
      "RemoteEvent(ATHeaderService, 0, logMessage) falling behind; read 10 messages\n",
      "BIAS 0003 - 0010\n",
      "Waiting for header service LFO before continuing\n",
      "BIAS 0004 - 0010\n",
      "Waiting for header service LFO before continuing\n",
      "BIAS 0005 - 0010\n",
      "Waiting for header service LFO before continuing\n",
      "BIAS 0006 - 0010\n",
      "Waiting for header service LFO before continuing\n",
      "RemoteEvent(ATHeaderService, 0, logMessage) falling behind; read 10 messages\n",
      "BIAS 0007 - 0010\n",
      "Waiting for header service LFO before continuing\n",
      "RemoteEvent(ATHeaderService, 0, logMessage) falling behind; read 12 messages\n",
      "BIAS 0008 - 0010\n",
      "Waiting for header service LFO before continuing\n",
      "BIAS 0009 - 0010\n",
      "Waiting for header service LFO before continuing\n",
      "BIAS 0010 - 0010\n",
      "Waiting for header service LFO before continuing\n",
      "The bias data id(s) are: [2020031200053 2020031200054 2020031200055 2020031200056 2020031200057\n",
      " 2020031200058 2020031200059 2020031200060 2020031200061 2020031200062]\n"
     ]
    }
   ],
   "source": [
    "#Let's take some biases \n",
    "bias_data_id_list = await latiss.take_bias(nbias=10)\n",
    "print ('The bias data id(s) are: ' + str(bias_data_id_list)) "
   ]
  },
  {
   "cell_type": "code",
   "execution_count": 10,
   "metadata": {},
   "outputs": [
    {
     "name": "stdout",
     "output_type": "stream",
     "text": [
      "Generating group_id\n",
      "BIAS 0001 - 0010\n",
      "Waiting for header service LFO before continuing\n",
      "BIAS 0002 - 0010\n",
      "Waiting for header service LFO before continuing\n",
      "BIAS 0003 - 0010\n",
      "Waiting for header service LFO before continuing\n",
      "BIAS 0004 - 0010\n",
      "Waiting for header service LFO before continuing\n",
      "BIAS 0005 - 0010\n",
      "Waiting for header service LFO before continuing\n",
      "BIAS 0006 - 0010\n",
      "Waiting for header service LFO before continuing\n",
      "BIAS 0007 - 0010\n",
      "Waiting for header service LFO before continuing\n",
      "BIAS 0008 - 0010\n",
      "Waiting for header service LFO before continuing\n",
      "RemoteEvent(ATHeaderService, 0, logMessage) falling behind; read 11 messages\n",
      "BIAS 0009 - 0010\n",
      "Waiting for header service LFO before continuing\n",
      "BIAS 0010 - 0010\n",
      "Waiting for header service LFO before continuing\n",
      "RemoteEvent(ATHeaderService, 0, logMessage) falling behind; read 10 messages\n",
      "The bias data id(s) are: [2020031200063 2020031200064 2020031200065 2020031200066 2020031200067\n",
      " 2020031200068 2020031200069 2020031200070 2020031200071 2020031200072]\n"
     ]
    }
   ],
   "source": [
    "#Let's take some biases \n",
    "bias_data_id_list = await latiss.take_bias(nbias=10)\n",
    "print ('The bias data id(s) are: ' + str(bias_data_id_list)) "
   ]
  },
  {
   "cell_type": "code",
   "execution_count": 11,
   "metadata": {},
   "outputs": [
    {
     "name": "stdout",
     "output_type": "stream",
     "text": [
      "Generating group_id\n",
      "BIAS 0001 - 0010\n",
      "Waiting for header service LFO before continuing\n",
      "BIAS 0002 - 0010\n",
      "Waiting for header service LFO before continuing\n",
      "BIAS 0003 - 0010\n",
      "Waiting for header service LFO before continuing\n",
      "BIAS 0004 - 0010\n",
      "Waiting for header service LFO before continuing\n",
      "BIAS 0005 - 0010\n",
      "Waiting for header service LFO before continuing\n",
      "BIAS 0006 - 0010\n",
      "RemoteEvent(ATHeaderService, 0, logMessage) falling behind; read 11 messages\n",
      "Waiting for header service LFO before continuing\n",
      "BIAS 0007 - 0010\n",
      "Waiting for header service LFO before continuing\n",
      "BIAS 0008 - 0010\n",
      "Waiting for header service LFO before continuing\n",
      "BIAS 0009 - 0010\n",
      "Waiting for header service LFO before continuing\n",
      "BIAS 0010 - 0010\n",
      "Waiting for header service LFO before continuing\n",
      "The bias data id(s) are: [2020031200073 2020031200074 2020031200075 2020031200076 2020031200077\n",
      " 2020031200078 2020031200079 2020031200080 2020031200081 2020031200082]\n"
     ]
    }
   ],
   "source": [
    "#Let's take some biases \n",
    "bias_data_id_list = await latiss.take_bias(nbias=10)\n",
    "print ('The bias data id(s) are: ' + str(bias_data_id_list))"
   ]
  },
  {
   "cell_type": "code",
   "execution_count": 12,
   "metadata": {},
   "outputs": [
    {
     "name": "stdout",
     "output_type": "stream",
     "text": [
      "Generating group_id\n",
      "BIAS 0001 - 0010\n",
      "Waiting for header service LFO before continuing\n",
      "RemoteEvent(ATHeaderService, 0, logMessage) falling behind; read 14 messages\n",
      "BIAS 0002 - 0010\n",
      "Waiting for header service LFO before continuing\n",
      "BIAS 0003 - 0010\n",
      "RemoteEvent(ATHeaderService, 0, logMessage) falling behind; read 10 messages\n",
      "Waiting for header service LFO before continuing\n",
      "BIAS 0004 - 0010\n",
      "Waiting for header service LFO before continuing\n",
      "BIAS 0005 - 0010\n",
      "Waiting for header service LFO before continuing\n",
      "BIAS 0006 - 0010\n",
      "Waiting for header service LFO before continuing\n",
      "BIAS 0007 - 0010\n",
      "Waiting for header service LFO before continuing\n",
      "BIAS 0008 - 0010\n",
      "Waiting for header service LFO before continuing\n",
      "BIAS 0009 - 0010\n",
      "Waiting for header service LFO before continuing\n",
      "BIAS 0010 - 0010\n",
      "Waiting for header service LFO before continuing\n",
      "The bias data id(s) are: [2020031200083 2020031200084 2020031200085 2020031200086 2020031200087\n",
      " 2020031200088 2020031200089 2020031200090 2020031200091 2020031200092]\n"
     ]
    }
   ],
   "source": [
    "#Let's take some biases \n",
    "bias_data_id_list = await latiss.take_bias(nbias=10)\n",
    "print ('The bias data id(s) are: ' + str(bias_data_id_list)) "
   ]
  },
  {
   "cell_type": "code",
   "execution_count": 13,
   "metadata": {},
   "outputs": [
    {
     "name": "stdout",
     "output_type": "stream",
     "text": [
      "Generating group_id\n",
      "BIAS 0001 - 0010\n",
      "Waiting for header service LFO before continuing\n",
      "BIAS 0002 - 0010\n",
      "Waiting for header service LFO before continuing\n",
      "BIAS 0003 - 0010\n",
      "Waiting for header service LFO before continuing\n",
      "BIAS 0004 - 0010\n",
      "Waiting for header service LFO before continuing\n",
      "BIAS 0005 - 0010\n",
      "RemoteEvent(ATHeaderService, 0, logMessage) falling behind; read 11 messages\n",
      "Waiting for header service LFO before continuing\n",
      "BIAS 0006 - 0010\n",
      "Waiting for header service LFO before continuing\n",
      "BIAS 0007 - 0010\n",
      "Waiting for header service LFO before continuing\n",
      "BIAS 0008 - 0010\n",
      "Waiting for header service LFO before continuing\n",
      "BIAS 0009 - 0010\n",
      "Waiting for header service LFO before continuing\n",
      "BIAS 0010 - 0010\n",
      "Waiting for header service LFO before continuing\n",
      "The bias data id(s) are: [2020031200093 2020031200094 2020031200095 2020031200096 2020031200097\n",
      " 2020031200098 2020031200099 2020031200100 2020031200101 2020031200102]\n"
     ]
    }
   ],
   "source": [
    "#Let's take some biases \n",
    "bias_data_id_list = await latiss.take_bias(nbias=10)\n",
    "print ('The bias data id(s) are: ' + str(bias_data_id_list)) "
   ]
  },
  {
   "cell_type": "code",
   "execution_count": 14,
   "metadata": {},
   "outputs": [
    {
     "name": "stdout",
     "output_type": "stream",
     "text": [
      "Generating group_id\n",
      "BIAS 0001 - 0010\n",
      "Waiting for header service LFO before continuing\n",
      "BIAS 0002 - 0010\n",
      "Waiting for header service LFO before continuing\n",
      "BIAS 0003 - 0010\n",
      "Waiting for header service LFO before continuing\n",
      "BIAS 0004 - 0010\n",
      "Waiting for header service LFO before continuing\n",
      "BIAS 0005 - 0010\n",
      "Waiting for header service LFO before continuing\n",
      "RemoteEvent(ATHeaderService, 0, logMessage) falling behind; read 11 messages\n",
      "BIAS 0006 - 0010\n",
      "Waiting for header service LFO before continuing\n",
      "BIAS 0007 - 0010\n",
      "Waiting for header service LFO before continuing\n",
      "BIAS 0008 - 0010\n",
      "Waiting for header service LFO before continuing\n",
      "BIAS 0009 - 0010\n",
      "Waiting for header service LFO before continuing\n",
      "BIAS 0010 - 0010\n",
      "Waiting for header service LFO before continuing\n",
      "The bias data id(s) are: [2020031200103 2020031200104 2020031200105 2020031200106 2020031200107\n",
      " 2020031200108 2020031200109 2020031200110 2020031200111 2020031200112]\n"
     ]
    }
   ],
   "source": [
    "#Let's take some biases \n",
    "bias_data_id_list = await latiss.take_bias(nbias=10)\n",
    "print ('The bias data id(s) are: ' + str(bias_data_id_list)) "
   ]
  },
  {
   "cell_type": "code",
   "execution_count": null,
   "metadata": {},
   "outputs": [],
   "source": []
  },
  {
   "cell_type": "code",
   "execution_count": 15,
   "metadata": {},
   "outputs": [
    {
     "name": "stdout",
     "output_type": "stream",
     "text": [
      "Starting new HTTP connection (1): simbad.u-strasbg.fr:80\n",
      "http://simbad.u-strasbg.fr:80 \"POST /simbad/sim-script HTTP/1.1\" 200 None\n",
      "Slewing to HD 34816: 05 19 34.5240 -13 10 36.440\n",
      "Sending command\n",
      "Stop tracking.\n",
      "Mount tracking state is 8\n",
      "In Position: False.\n",
      "RemoteTelemetry(ATPtg, 0, guidingAndOffsets) falling behind; read 11 messages\n",
      "Scheduling check coroutines\n",
      "process as completed...\n",
      "Got False\n",
      "Telescope not in position\n",
      "atmcs: <State.ENABLED: 2>\n",
      "atptg: <State.ENABLED: 2>\n",
      "ataos: <State.ENABLED: 2>\n",
      "atpneumatics: <State.ENABLED: 2>\n",
      "athexapod: <State.ENABLED: 2>\n",
      "atdome: <State.ENABLED: 2>\n",
      "atdometrajectory: <State.ENABLED: 2>\n",
      "[Telescope] delta Alt = -010.352 | delta Az= -036.087 [Dome] delta Az = -129.078\n",
      "[Telescope] delta Alt = -009.331 | delta Az= -033.786 [Dome] delta Az = -128.308\n",
      "[Telescope] delta Alt = -006.130 | delta Az= -029.811 [Dome] delta Az = -126.818\n",
      "[Telescope] delta Alt = -002.338 | delta Az= -025.840 [Dome] delta Az = -124.238\n",
      "[Telescope] delta Alt = -000.224 | delta Az= -021.922 [Dome] delta Az = -120.698\n",
      "[Telescope] delta Alt = +000.001 | delta Az= -018.112 [Dome] delta Az = -116.248\n",
      "[Telescope] delta Alt = +000.001 | delta Az= -014.490 [Dome] delta Az = -111.408\n",
      "[Telescope] delta Alt = +000.001 | delta Az= -011.138 [Dome] delta Az = -105.198\n",
      "[Telescope] delta Alt = +000.001 | delta Az= -008.144 [Dome] delta Az = -098.258\n",
      "[Telescope] delta Alt = +000.001 | delta Az= -005.577 [Dome] delta Az = -091.988\n",
      "[Telescope] delta Alt = +000.001 | delta Az= -003.493 [Dome] delta Az = -084.998\n",
      "[Telescope] delta Alt = +000.001 | delta Az= -001.924 [Dome] delta Az = -078.048\n",
      "[Telescope] delta Alt = +000.001 | delta Az= -000.865 [Dome] delta Az = -071.078\n",
      "[Telescope] delta Alt = +000.001 | delta Az= -000.265 [Dome] delta Az = -064.768\n",
      "[Telescope] delta Alt = +000.001 | delta Az= -000.027 [Dome] delta Az = -057.798\n",
      "[Telescope] delta Alt = +000.001 | delta Az= +000.006 [Dome] delta Az = -050.818\n",
      "[Telescope] delta Alt = +000.001 | delta Az= +000.005 [Dome] delta Az = -043.838\n",
      "[Telescope] delta Alt = +000.001 | delta Az= +000.004 [Dome] delta Az = -037.538\n",
      "[Telescope] delta Alt = +000.001 | delta Az= +000.006 [Dome] delta Az = -030.558\n",
      "[Telescope] delta Alt = +000.001 | delta Az= +000.005 [Dome] delta Az = -023.578\n",
      "[Telescope] delta Alt = +000.001 | delta Az= +000.005 [Dome] delta Az = -017.278\n",
      "[Telescope] delta Alt = +000.001 | delta Az= +000.007 [Dome] delta Az = -010.298\n",
      "[Telescope] delta Alt = +000.001 | delta Az= +000.006 [Dome] delta Az = -003.368\n",
      "[Telescope] delta Alt = +000.001 | delta Az= +000.005 [Dome] delta Az = +001.452\n",
      "[Telescope] delta Alt = +000.001 | delta Az= +000.005 [Dome] delta Az = +002.962\n",
      "[Telescope] delta Alt = +000.001 | delta Az= +000.006 [Dome] delta Az = +002.972\n",
      "[Telescope] delta Alt = +000.001 | delta Az= +000.005 [Dome] delta Az = +002.972\n",
      "[Telescope] delta Alt = +000.001 | delta Az= +000.005 [Dome] delta Az = +002.972\n",
      "[Telescope] delta Alt = +000.001 | delta Az= +000.006 [Dome] delta Az = +002.972\n",
      "[Telescope] delta Alt = +000.001 | delta Az= +000.005 [Dome] delta Az = +002.972\n",
      "[Telescope] delta Alt = +000.001 | delta Az= +000.005 [Dome] delta Az = +002.972\n",
      "[Telescope] delta Alt = +000.001 | delta Az= +000.007 [Dome] delta Az = +002.972\n",
      "[Telescope] delta Alt = +000.001 | delta Az= +000.006 [Dome] delta Az = +002.972\n",
      "[Telescope] delta Alt = +000.001 | delta Az= +000.005 [Dome] delta Az = +002.972\n",
      "Got True\n",
      "Waiting for telescope to settle.\n",
      "[Telescope] delta Alt = +000.001 | delta Az= +000.007 [Dome] delta Az = +002.972\n",
      "Telescope in position.\n",
      "ATDome in position.\n",
      "['Telescope in position.', 'ATDome in position.']\n"
     ]
    }
   ],
   "source": [
    "#I'm responsible primarily for slewing the telescope.  Patrick will deal with taking the data \n",
    "await attcs.slew_object(name = \"HD 34816\",  rot_pa=0.0, slew_timeout=240.)"
   ]
  },
  {
   "cell_type": "code",
   "execution_count": 16,
   "metadata": {},
   "outputs": [
    {
     "name": "stdout",
     "output_type": "stream",
     "text": [
      "Generating group_id\n",
      "OBJECT 0001 - 0001\n",
      "Waiting for header service LFO before continuing\n",
      "[2020031200113]\n"
     ]
    }
   ],
   "source": [
    "#And we take a single exposure\n",
    "filter_str = 'empyt_1' #Optional filters are: \n",
    "grating_str = 'empty_1' #Optional gratings are: \n",
    "science_image = await latiss.take_object(exptime=1., n=1, filter='empty_1',grating='empty_1')\n",
    "print (science_image)"
   ]
  },
  {
   "cell_type": "code",
   "execution_count": 23,
   "metadata": {},
   "outputs": [],
   "source": [
    "#Try to display image... \n",
    "import os\n",
    "import numpy as np\n",
    "\n",
    "import lsst.daf.persistence as dafPersist\n",
    "import lsst.afw.display as afwDisplay\n",
    "\n",
    "afwDisplay.setDefaultBackend(\"firefly\")\n",
    "os.environ['FIREFLY_URL'] = \"http://firefly01.cp.lsst.org:8080/firefly/\""
   ]
  },
  {
   "cell_type": "code",
   "execution_count": 24,
   "metadata": {},
   "outputs": [
    {
     "name": "stderr",
     "output_type": "stream",
     "text": [
      "/opt/lsst/software/stack/python/miniconda3-4.7.12/envs/lsst-scipipe-984c9f7/lib/python3.7/site-packages/ipykernel/__main__.py:10: FutureWarning: Config field doAddDistortionModel is deprecated: Camera geometry is incorporated when reading the raw files. This option no longer is used, and will be removed after v19.\n"
     ]
    }
   ],
   "source": [
    "from lsst.ip.isr.isrTask import IsrTask\n",
    "\n",
    "isrConfig = IsrTask.ConfigClass()\n",
    "isrConfig.doLinearize = False\n",
    "isrConfig.doBias = False\n",
    "isrConfig.doFlat = False\n",
    "isrConfig.doDark = False\n",
    "isrConfig.doFringe = False\n",
    "isrConfig.doDefect = False\n",
    "isrConfig.doAddDistortionModel = False\n",
    "isrConfig.doWrite = False\n",
    "\n",
    "isrTask = IsrTask(config=isrConfig)"
   ]
  },
  {
   "cell_type": "code",
   "execution_count": 25,
   "metadata": {},
   "outputs": [
    {
     "name": "stdout",
     "output_type": "stream",
     "text": [
      "RemoteEvent(ATMCS, 0, target) falling behind; read 19 messages\n",
      "RemoteEvent(ATDomeTrajectory, 0, logMessage) falling behind; read 19 messages\n",
      "RemoteEvent(ATMCS, 0, target) falling behind; read 27 messages\n",
      "RemoteEvent(ATDomeTrajectory, 0, logMessage) falling behind; read 13 messages\n"
     ]
    }
   ],
   "source": [
    "butler = dafPersist.Butler(\"/project/shared/auxTel\")\n",
    "dataId = dict(dayObs=\"2020-03-12\") #Your observing date "
   ]
  },
  {
   "cell_type": "code",
   "execution_count": 20,
   "metadata": {},
   "outputs": [
    {
     "name": "stdout",
     "output_type": "stream",
     "text": [
      "Using translation class LSST_LATISS\n",
      "Checking for header correction file named LATISS-AT_O_20200312_000113.yaml\n",
      "AT_O_20200312_000113: Forcing detector serial to ITL-3800C-068\n",
      "AT_O_20200312_000113: Forcing SHUTTIME header to be None\n",
      "Using translation class LSST_LATISS\n",
      "Checking for header correction file named LATISS-AT_O_20200312_000113.yaml\n",
      "AT_O_20200312_000113: Forcing detector serial to ITL-3800C-068\n",
      "Using translation class LSST_LATISS\n",
      "AT_O_20200312_000113: Dark time less than exposure time. Setting dark time to the exposure time.\n",
      "RemoteEvent(ATMCS, 0, target) falling behind; read 14 messages\n",
      "RemoteEvent(ATDomeTrajectory, 0, logMessage) falling behind; read 14 messages\n"
     ]
    }
   ],
   "source": [
    "dataId[\"seqNum\"] = 113\n",
    "exp = butler.get('raw', dataId)"
   ]
  },
  {
   "cell_type": "code",
   "execution_count": 22,
   "metadata": {},
   "outputs": [
    {
     "name": "stdout",
     "output_type": "stream",
     "text": [
      "https://summit-lsp.lsst.codes:443 \"POST /portal/app/sticky/CmdSrv HTTP/1.1\" 200 38\n",
      "https://summit-lsp.lsst.codes:443 \"POST /portal/app/sticky/CmdSrv HTTP/1.1\" 200 38\n",
      "https://summit-lsp.lsst.codes:443 \"POST /portal/app/sticky/CmdSrv HTTP/1.1\" 200 38\n",
      "https://summit-lsp.lsst.codes:443 \"POST /portal/app/sticky/CmdSrv HTTP/1.1\" 200 38\n",
      "https://summit-lsp.lsst.codes:443 \"POST /portal/app/sticky/CmdSrv HTTP/1.1\" 200 38\n",
      "https://summit-lsp.lsst.codes:443 \"POST /portal/app/sticky/CmdSrv HTTP/1.1\" 200 38\n",
      "https://summit-lsp.lsst.codes:443 \"POST /portal/app/sticky/CmdSrv HTTP/1.1\" 200 38\n",
      "https://summit-lsp.lsst.codes:443 \"POST /portal/app/sticky/CmdSrv HTTP/1.1\" 200 38\n",
      "https://summit-lsp.lsst.codes:443 \"POST /portal/app/sticky/CmdSrv HTTP/1.1\" 200 38\n",
      "https://summit-lsp.lsst.codes:443 \"POST /portal/app/sticky/CmdSrv HTTP/1.1\" 200 38\n",
      "https://summit-lsp.lsst.codes:443 \"POST /portal/app/sticky/CmdSrv HTTP/1.1\" 200 38\n",
      "https://summit-lsp.lsst.codes:443 \"POST /portal/app/sticky/CmdSrv HTTP/1.1\" 200 38\n",
      "https://summit-lsp.lsst.codes:443 \"POST /portal/app/sticky/CmdSrv HTTP/1.1\" 200 38\n",
      "https://summit-lsp.lsst.codes:443 \"POST /portal/app/sticky/CmdSrv HTTP/1.1\" 200 38\n",
      "https://summit-lsp.lsst.codes:443 \"POST /portal/app/sticky/CmdSrv HTTP/1.1\" 200 38\n",
      "https://summit-lsp.lsst.codes:443 \"POST /portal/app/sticky/CmdSrv HTTP/1.1\" 200 38\n",
      "https://summit-lsp.lsst.codes:443 \"POST /portal/app/sticky/CmdSrv?cmd=upload&preload=true&type=FITS HTTP/1.1\" 200 71\n",
      "https://summit-lsp.lsst.codes:443 \"POST /portal/app/sticky/CmdSrv HTTP/1.1\" 200 38\n",
      "https://summit-lsp.lsst.codes:443 \"POST /portal/app/sticky/CmdSrv?cmd=upload&preload=true&type=FITS HTTP/1.1\" 200 74\n",
      "RemoteEvent(ATMCS, 0, target) falling behind; read 100 messages\n",
      "RemoteEvent(ATDomeTrajectory, 0, logMessage) falling behind; read 100 messages\n",
      "RemoteTelemetry(ATPtg, 0, timeAndDate) falling behind; read 70 messages\n",
      "RemoteTelemetry(ATDome, 0, position) falling behind; read 68 messages\n",
      "RemoteEvent(ATArchiver, 0, heartbeat) falling behind; read 14 messages\n",
      "RemoteEvent(ATHeaderService, 0, heartbeat) falling behind; read 14 messages\n",
      "RemoteTelemetry(ATPneumatics, 0, loadCell) falling behind; read 14 messages\n",
      "RemoteTelemetry(ATHexapod, 0, positionStatus) falling behind; read 14 messages\n",
      "RemoteEvent(ATAOS, 0, detailedState) falling behind; read 16 messages\n",
      "RemoteEvent(ATSpectrograph, 0, heartbeat) falling behind; read 14 messages\n",
      "RemoteEvent(ATDomeTrajectory, 0, heartbeat) falling behind; read 14 messages\n",
      "RemoteEvent(ATDome, 0, heartbeat) falling behind; read 14 messages\n",
      "RemoteTelemetry(ATMCS, 0, trajectory) falling behind; read 14 messages\n",
      "RemoteEvent(ATHexapod, 0, heartbeat) falling behind; read 14 messages\n",
      "RemoteTelemetry(ATPneumatics, 0, mainAirSourcePressure) falling behind; read 14 messages\n",
      "RemoteEvent(ATDome, 0, doorEncoderExtremes) falling behind; read 65 messages\n",
      "RemoteEvent(ATAOS, 0, heartbeat) falling behind; read 14 messages\n",
      "RemoteTelemetry(ATMCS, 0, torqueDemand) falling behind; read 14 messages\n",
      "RemoteTelemetry(ATPneumatics, 0, m2AirPressure) falling behind; read 15 messages\n",
      "RemoteTelemetry(ATMCS, 0, nasymth_m3_mountMotorEncoders) falling behind; read 14 messages\n",
      "RemoteTelemetry(ATPneumatics, 0, m1AirPressure) falling behind; read 15 messages\n",
      "RemoteTelemetry(ATPtg, 0, mountStatus) falling behind; read 74 messages\n",
      "RemoteTelemetry(ATMCS, 0, mount_Nasmyth_Encoders) falling behind; read 15 messages\n",
      "RemoteTelemetry(ATPtg, 0, guidingAndOffsets) falling behind; read 75 messages\n",
      "RemoteTelemetry(ATMCS, 0, mount_AzEl_Encoders) falling behind; read 15 messages\n",
      "RemoteEvent(ATPneumatics, 0, heartbeat) falling behind; read 15 messages\n",
      "RemoteTelemetry(ATMCS, 0, measuredTorque) falling behind; read 15 messages\n",
      "RemoteTelemetry(ATPtg, 0, currentTargetStatus) falling behind; read 76 messages\n",
      "RemoteTelemetry(ATMCS, 0, measuredMotorVelocity) falling behind; read 15 messages\n",
      "RemoteTelemetry(ATMCS, 0, azEl_mountMotorEncoders) falling behind; read 15 messages\n",
      "RemoteEvent(ATPtg, 0, heartbeat) falling behind; read 16 messages\n",
      "RemoteEvent(ATMCS, 0, heartbeat) falling behind; read 16 messages\n",
      "Closing message received (1000) 'b'''\n",
      "RemoteEvent(ATMCS, 0, target) falling behind; read 80 messages\n",
      "RemoteEvent(ATDomeTrajectory, 0, logMessage) falling behind; read 23 messages\n",
      "RemoteEvent(ATMCS, 0, target) falling behind; read 20 messages\n",
      "RemoteEvent(ATDomeTrajectory, 0, logMessage) falling behind; read 17 messages\n",
      "RemoteTelemetry(ATMCS, 0, measuredMotorVelocity) falling behind; read 10 messages\n",
      "RemoteEvent(ATDomeTrajectory, 0, logMessage) falling behind; read 12 messages\n",
      "RemoteTelemetry(ATMCS, 0, azEl_mountMotorEncoders) falling behind; read 10 messages\n",
      "RemoteEvent(ATMCS, 0, heartbeat) falling behind; read 11 messages\n"
     ]
    }
   ],
   "source": [
    "disp = afwDisplay.Display(1, name='sample', reopenPlot=True)\n",
    "disp.scale('asinh', 'zscale')\n",
    "disp.mtv(exp, title=f\"{dataId}\")"
   ]
  },
  {
   "cell_type": "code",
   "execution_count": null,
   "metadata": {},
   "outputs": [],
   "source": [
    "#Merlin got his display working "
   ]
  },
  {
   "cell_type": "code",
   "execution_count": 27,
   "metadata": {},
   "outputs": [],
   "source": [
    "current_pix = np.array((2245, 2216))\n",
    "target_pix = np.array((1725, 1704))"
   ]
  },
  {
   "cell_type": "code",
   "execution_count": 28,
   "metadata": {},
   "outputs": [
    {
     "name": "stdout",
     "output_type": "stream",
     "text": [
      "Applying x/y offset: -520/ -512 \n",
      "Applying Az/El offset: -355.2275970363423/ 637.4616492807909 \n",
      "Waiting for telescope to settle.\n",
      "Done\n"
     ]
    }
   ],
   "source": [
    "await attcs.offset_xy(*(target_pix - current_pix),  persistent = True)"
   ]
  },
  {
   "cell_type": "code",
   "execution_count": 29,
   "metadata": {},
   "outputs": [
    {
     "name": "stdout",
     "output_type": "stream",
     "text": [
      "Generating group_id\n",
      "OBJECT 0001 - 0001\n",
      "Waiting for header service LFO before continuing\n",
      "[2020031200114]\n"
     ]
    }
   ],
   "source": [
    "science_image = await latiss.take_object(exptime=1., n=1, filter='empty_1',grating='empty_1')\n",
    "print (science_image)"
   ]
  },
  {
   "cell_type": "code",
   "execution_count": 30,
   "metadata": {},
   "outputs": [
    {
     "name": "stdout",
     "output_type": "stream",
     "text": [
      "Applying x/y offset: 520/ 512 \n",
      "Applying Az/El offset: 338.12041110978043/ -646.6982198761282 \n",
      "Waiting for telescope to settle.\n",
      "Done\n",
      "Applying x/y offset: -52.0/ -51.2 \n",
      "Applying Az/El offset: -33.2974108254939/ 64.93629518472918 \n",
      "Waiting for telescope to settle.\n",
      "Done\n"
     ]
    }
   ],
   "source": [
    "await attcs.offset_xy(* (-1 * (target_pix - current_pix)),  persistent = True)\n",
    "await attcs.offset_xy(*((target_pix - current_pix) / 10),  persistent = True)"
   ]
  },
  {
   "cell_type": "code",
   "execution_count": 31,
   "metadata": {},
   "outputs": [
    {
     "name": "stdout",
     "output_type": "stream",
     "text": [
      "Generating group_id\n",
      "OBJECT 0001 - 0001\n",
      "Waiting for header service LFO before continuing\n",
      "[2020031200115]\n"
     ]
    }
   ],
   "source": [
    "science_image = await latiss.take_object(exptime=1., n=1, filter='empty_1',grating='empty_1')\n",
    "print (science_image)"
   ]
  },
  {
   "cell_type": "code",
   "execution_count": 32,
   "metadata": {},
   "outputs": [
    {
     "name": "stdout",
     "output_type": "stream",
     "text": [
      "Applying x/y offset: 0/ -40 \n",
      "Applying Az/El offset: 14.028666038537507/ 37.45926493111129 \n",
      "Waiting for telescope to settle.\n",
      "Done\n"
     ]
    }
   ],
   "source": [
    "await attcs.offset_xy(x = 0, y = -40, persistent = True)"
   ]
  },
  {
   "cell_type": "code",
   "execution_count": 33,
   "metadata": {},
   "outputs": [
    {
     "name": "stdout",
     "output_type": "stream",
     "text": [
      "Generating group_id\n",
      "OBJECT 0001 - 0001\n",
      "Waiting for header service LFO before continuing\n",
      "RemoteEvent(ATHeaderService, 0, logMessage) falling behind; read 14 messages\n",
      "[2020031200116]\n"
     ]
    }
   ],
   "source": [
    "science_image = await latiss.take_object(exptime=1., n=1, filter='empty_1',grating='empty_1')\n",
    "print (science_image)"
   ]
  },
  {
   "cell_type": "code",
   "execution_count": 35,
   "metadata": {},
   "outputs": [
    {
     "name": "stdout",
     "output_type": "stream",
     "text": [
      "focus_positions = [-0.2955 -0.2755 -0.2555 -0.2355 -0.2155 -0.1955 -0.1755 -0.1555 -0.1355]\n"
     ]
    }
   ],
   "source": [
    "import math\n",
    "#Let's try to get roughly in focus. \n",
    "#Focus units are given in mm \n",
    "focus_center = -0.2155\n",
    "focus_step = 0.02\n",
    "n_steps = 9\n",
    "focus_positions = np.linspace(focus_center - focus_step * math.floor(n_steps / 2), focus_center + focus_step * math.ceil(n_steps / 2 - 1), n_steps)\n",
    "#focus_positions = [0.05, -0.05, -0.100, -0.150, -0.200, -0.250, -0.300, -0.3, -0.2, -0.2, -0.24, -0.26, -0.28]\n",
    "print ('focus_positions = ' + str(focus_positions))"
   ]
  },
  {
   "cell_type": "code",
   "execution_count": 36,
   "metadata": {},
   "outputs": [
    {
     "name": "stdout",
     "output_type": "stream",
     "text": [
      "Working on focus position -0.2955\n",
      "Generating group_id\n",
      "ENGTEST 0001 - 0001\n",
      "Waiting for header service LFO before continuing\n",
      "RemoteEvent(ATHeaderService, 0, logMessage) falling behind; read 11 messages\n"
     ]
    },
    {
     "ename": "NameError",
     "evalue": "name 'focus_image' is not defined",
     "output_type": "error",
     "traceback": [
      "\u001b[0;31m---------------------------------------------------------------------------\u001b[0m",
      "\u001b[0;31mNameError\u001b[0m                                 Traceback (most recent call last)",
      "\u001b[0;32m<ipython-input-36-c4f3f7968e77>\u001b[0m in \u001b[0;36masync-def-wrapper\u001b[0;34m()\u001b[0m\n\u001b[1;32m     11\u001b[0m     \u001b[0mnon_dispersed_focus_images\u001b[0m\u001b[0;34m[\u001b[0m\u001b[0mi\u001b[0m\u001b[0;34m]\u001b[0m \u001b[0;34m=\u001b[0m \u001b[0mint\u001b[0m\u001b[0;34m(\u001b[0m\u001b[0mfocus_image\u001b[0m\u001b[0;34m)\u001b[0m\u001b[0;34m\u001b[0m\u001b[0;34m\u001b[0m\u001b[0m\n\u001b[1;32m     12\u001b[0m \u001b[0;34m\u001b[0m\u001b[0m\n\u001b[0;32m---> 13\u001b[0;31m \u001b[0;31m#This resets the focus position after taking this sequence:\u001b[0m\u001b[0;34m\u001b[0m\u001b[0;34m\u001b[0m\u001b[0;34m\u001b[0m\u001b[0m\n\u001b[0m\u001b[1;32m     14\u001b[0m \u001b[0;32mawait\u001b[0m \u001b[0mattcs\u001b[0m\u001b[0;34m.\u001b[0m\u001b[0mataos\u001b[0m\u001b[0;34m.\u001b[0m\u001b[0mcmd_applyFocusOffset\u001b[0m\u001b[0;34m.\u001b[0m\u001b[0mset_start\u001b[0m\u001b[0;34m(\u001b[0m\u001b[0moffset\u001b[0m \u001b[0;34m=\u001b[0m \u001b[0mfocus_center\u001b[0m\u001b[0;34m)\u001b[0m\u001b[0;34m\u001b[0m\u001b[0;34m\u001b[0m\u001b[0m\n",
      "\u001b[0;31mNameError\u001b[0m: name 'focus_image' is not defined"
     ]
    }
   ],
   "source": [
    "#!!!!DO NOT RUN UNLESS YOU HAVE BEEN CLEARED TO CONTROL TELESCOPE!!!!! \n",
    "focus_images = [0 for focus_pos in focus_positions]\n",
    "for i in range(len(focus_positions)): \n",
    "    focus_pos = focus_positions[i] \n",
    "    print ('Working on focus position ' + str(focus_pos))\n",
    "    attcs.athexapod.evt_positionUpdate.flush() \n",
    "    await attcs.ataos.cmd_applyFocusOffset.set_start(offset=focus_pos)\n",
    "    await attcs.athexapod.evt_positionUpdate.next(flush=False, timeout=attcs.long_timeout)\n",
    "    non_dispersed_focus_image = await latiss.take_engtest(exptime=2., n=1, filter='empty_1', grating='ronchi90lpmm') \n",
    "    print ('Newest image id is = ' +str(non_dispersed_focus_image ) )\n",
    "    non_dispersed_focus_images[i] = int(non_dispersed_focus_image )\n",
    "    \n",
    "#This resets the focus position after taking this sequence: \n",
    "await attcs.ataos.cmd_applyFocusOffset.set_start(offset = focus_center)"
   ]
  },
  {
   "cell_type": "code",
   "execution_count": 37,
   "metadata": {},
   "outputs": [
    {
     "name": "stdout",
     "output_type": "stream",
     "text": [
      "Applying x/y offset: -232/ 0.0 \n",
      "Applying Az/El offset: -210.82234887208574/ 96.83975018584349 \n",
      "Waiting for telescope to settle.\n",
      "Done\n"
     ]
    }
   ],
   "source": [
    "#Whoops.  With Ronchi grating, position is off.  Let's shift and try again... \n",
    "await attcs.offset_xy(1283 - 1515, 0.0, persistent = True)"
   ]
  },
  {
   "cell_type": "code",
   "execution_count": 39,
   "metadata": {},
   "outputs": [
    {
     "name": "stdout",
     "output_type": "stream",
     "text": [
      "Working on focus position -0.2955\n"
     ]
    },
    {
     "ename": "TimeoutError",
     "evalue": "",
     "output_type": "error",
     "traceback": [
      "\u001b[0;31m---------------------------------------------------------------------------\u001b[0m",
      "\u001b[0;31mTimeoutError\u001b[0m                              Traceback (most recent call last)",
      "\u001b[0;32m<ipython-input-39-65a8d55774fa>\u001b[0m in \u001b[0;36masync-def-wrapper\u001b[0;34m()\u001b[0m\n\u001b[1;32m      9\u001b[0m     \u001b[0mnon_dispersed_focus_image\u001b[0m \u001b[0;34m=\u001b[0m \u001b[0;32mawait\u001b[0m \u001b[0mlatiss\u001b[0m\u001b[0;34m.\u001b[0m\u001b[0mtake_engtest\u001b[0m\u001b[0;34m(\u001b[0m\u001b[0mexptime\u001b[0m\u001b[0;34m=\u001b[0m\u001b[0;36m2.\u001b[0m\u001b[0;34m,\u001b[0m \u001b[0mn\u001b[0m\u001b[0;34m=\u001b[0m\u001b[0;36m1\u001b[0m\u001b[0;34m,\u001b[0m \u001b[0mfilter\u001b[0m\u001b[0;34m=\u001b[0m\u001b[0;34m'empty_1'\u001b[0m\u001b[0;34m,\u001b[0m \u001b[0mgrating\u001b[0m\u001b[0;34m=\u001b[0m\u001b[0;34m'ronchi90lpmm'\u001b[0m\u001b[0;34m)\u001b[0m\u001b[0;34m\u001b[0m\u001b[0;34m\u001b[0m\u001b[0m\n\u001b[1;32m     10\u001b[0m     \u001b[0mprint\u001b[0m \u001b[0;34m(\u001b[0m\u001b[0;34m'Newest image id is = '\u001b[0m \u001b[0;34m+\u001b[0m \u001b[0mstr\u001b[0m\u001b[0;34m(\u001b[0m\u001b[0mnon_dispersed_focus_image\u001b[0m \u001b[0;34m)\u001b[0m \u001b[0;34m)\u001b[0m\u001b[0;34m\u001b[0m\u001b[0;34m\u001b[0m\u001b[0m\n\u001b[0;32m---> 11\u001b[0;31m     \u001b[0mnon_dispersed_focus_images\u001b[0m\u001b[0;34m[\u001b[0m\u001b[0mi\u001b[0m\u001b[0;34m]\u001b[0m \u001b[0;34m=\u001b[0m \u001b[0mint\u001b[0m\u001b[0;34m(\u001b[0m\u001b[0mnon_dispersed_focus_image\u001b[0m \u001b[0;34m)\u001b[0m\u001b[0;34m\u001b[0m\u001b[0;34m\u001b[0m\u001b[0m\n\u001b[0m\u001b[1;32m     12\u001b[0m \u001b[0;34m\u001b[0m\u001b[0m\n\u001b[1;32m     13\u001b[0m \u001b[0;31m#This resets the focus position after taking this sequence:\u001b[0m\u001b[0;34m\u001b[0m\u001b[0;34m\u001b[0m\u001b[0;34m\u001b[0m\u001b[0m\n",
      "\u001b[0;32m/opt/lsst/src/ts_salobj/python/lsst/ts/salobj/topics/read_topic.py\u001b[0m in \u001b[0;36mnext\u001b[0;34m(self, flush, timeout)\u001b[0m\n\u001b[1;32m    395\u001b[0m         \u001b[0;32mif\u001b[0m \u001b[0mflush\u001b[0m\u001b[0;34m:\u001b[0m\u001b[0;34m\u001b[0m\u001b[0;34m\u001b[0m\u001b[0m\n\u001b[1;32m    396\u001b[0m             \u001b[0mself\u001b[0m\u001b[0;34m.\u001b[0m\u001b[0mflush\u001b[0m\u001b[0;34m(\u001b[0m\u001b[0;34m)\u001b[0m\u001b[0;34m\u001b[0m\u001b[0;34m\u001b[0m\u001b[0m\n\u001b[0;32m--> 397\u001b[0;31m         \u001b[0;32mreturn\u001b[0m \u001b[0;32mawait\u001b[0m \u001b[0mself\u001b[0m\u001b[0;34m.\u001b[0m\u001b[0m_next\u001b[0m\u001b[0;34m(\u001b[0m\u001b[0mtimeout\u001b[0m\u001b[0;34m=\u001b[0m\u001b[0mtimeout\u001b[0m\u001b[0;34m)\u001b[0m\u001b[0;34m\u001b[0m\u001b[0;34m\u001b[0m\u001b[0m\n\u001b[0m\u001b[1;32m    398\u001b[0m \u001b[0;34m\u001b[0m\u001b[0m\n\u001b[1;32m    399\u001b[0m     \u001b[0;32masync\u001b[0m \u001b[0;32mdef\u001b[0m \u001b[0m_next\u001b[0m\u001b[0;34m(\u001b[0m\u001b[0mself\u001b[0m\u001b[0;34m,\u001b[0m \u001b[0;34m*\u001b[0m\u001b[0;34m,\u001b[0m \u001b[0mtimeout\u001b[0m\u001b[0;34m=\u001b[0m\u001b[0;32mNone\u001b[0m\u001b[0;34m)\u001b[0m\u001b[0;34m:\u001b[0m\u001b[0;34m\u001b[0m\u001b[0;34m\u001b[0m\u001b[0m\n",
      "\u001b[0;32m/opt/lsst/src/ts_salobj/python/lsst/ts/salobj/topics/read_topic.py\u001b[0m in \u001b[0;36m_next\u001b[0;34m(self, timeout)\u001b[0m\n\u001b[1;32m    410\u001b[0m         \u001b[0;32mif\u001b[0m \u001b[0mself\u001b[0m\u001b[0;34m.\u001b[0m\u001b[0m_next_task\u001b[0m\u001b[0;34m.\u001b[0m\u001b[0mdone\u001b[0m\u001b[0;34m(\u001b[0m\u001b[0;34m)\u001b[0m\u001b[0;34m:\u001b[0m\u001b[0;34m\u001b[0m\u001b[0;34m\u001b[0m\u001b[0m\n\u001b[1;32m    411\u001b[0m             \u001b[0mself\u001b[0m\u001b[0;34m.\u001b[0m\u001b[0m_next_task\u001b[0m \u001b[0;34m=\u001b[0m \u001b[0masyncio\u001b[0m\u001b[0;34m.\u001b[0m\u001b[0mFuture\u001b[0m\u001b[0;34m(\u001b[0m\u001b[0;34m)\u001b[0m\u001b[0;34m\u001b[0m\u001b[0;34m\u001b[0m\u001b[0m\n\u001b[0;32m--> 412\u001b[0;31m         \u001b[0;32mawait\u001b[0m \u001b[0masyncio\u001b[0m\u001b[0;34m.\u001b[0m\u001b[0mwait_for\u001b[0m\u001b[0;34m(\u001b[0m\u001b[0mself\u001b[0m\u001b[0;34m.\u001b[0m\u001b[0m_next_task\u001b[0m\u001b[0;34m,\u001b[0m \u001b[0mtimeout\u001b[0m\u001b[0;34m=\u001b[0m\u001b[0mtimeout\u001b[0m\u001b[0;34m)\u001b[0m\u001b[0;34m\u001b[0m\u001b[0;34m\u001b[0m\u001b[0m\n\u001b[0m\u001b[1;32m    413\u001b[0m         \u001b[0;32mreturn\u001b[0m \u001b[0mself\u001b[0m\u001b[0;34m.\u001b[0m\u001b[0m_data_queue\u001b[0m\u001b[0;34m.\u001b[0m\u001b[0mpopleft\u001b[0m\u001b[0;34m(\u001b[0m\u001b[0;34m)\u001b[0m\u001b[0;34m\u001b[0m\u001b[0;34m\u001b[0m\u001b[0m\n\u001b[1;32m    414\u001b[0m \u001b[0;34m\u001b[0m\u001b[0m\n",
      "\u001b[0;32m/opt/lsst/software/stack/python/miniconda3-4.7.12/envs/lsst-scipipe-984c9f7/lib/python3.7/asyncio/tasks.py\u001b[0m in \u001b[0;36mwait_for\u001b[0;34m(fut, timeout, loop)\u001b[0m\n\u001b[1;32m    447\u001b[0m             \u001b[0;31m# See https://bugs.python.org/issue32751\u001b[0m\u001b[0;34m\u001b[0m\u001b[0;34m\u001b[0m\u001b[0;34m\u001b[0m\u001b[0m\n\u001b[1;32m    448\u001b[0m             \u001b[0;32mawait\u001b[0m \u001b[0m_cancel_and_wait\u001b[0m\u001b[0;34m(\u001b[0m\u001b[0mfut\u001b[0m\u001b[0;34m,\u001b[0m \u001b[0mloop\u001b[0m\u001b[0;34m=\u001b[0m\u001b[0mloop\u001b[0m\u001b[0;34m)\u001b[0m\u001b[0;34m\u001b[0m\u001b[0;34m\u001b[0m\u001b[0m\n\u001b[0;32m--> 449\u001b[0;31m             \u001b[0;32mraise\u001b[0m \u001b[0mfutures\u001b[0m\u001b[0;34m.\u001b[0m\u001b[0mTimeoutError\u001b[0m\u001b[0;34m(\u001b[0m\u001b[0;34m)\u001b[0m\u001b[0;34m\u001b[0m\u001b[0;34m\u001b[0m\u001b[0m\n\u001b[0m\u001b[1;32m    450\u001b[0m     \u001b[0;32mfinally\u001b[0m\u001b[0;34m:\u001b[0m\u001b[0;34m\u001b[0m\u001b[0;34m\u001b[0m\u001b[0m\n\u001b[1;32m    451\u001b[0m         \u001b[0mtimeout_handle\u001b[0m\u001b[0;34m.\u001b[0m\u001b[0mcancel\u001b[0m\u001b[0;34m(\u001b[0m\u001b[0;34m)\u001b[0m\u001b[0;34m\u001b[0m\u001b[0;34m\u001b[0m\u001b[0m\n",
      "\u001b[0;31mTimeoutError\u001b[0m: "
     ]
    }
   ],
   "source": [
    "#!!!!DO NOT RUN UNLESS YOU HAVE BEEN CLEARED TO CONTROL TELESCOPE!!!!! \n",
    "focus_images = [0 for focus_pos in focus_positions]\n",
    "for i in range(len(focus_positions)): \n",
    "    focus_pos = focus_positions[i] \n",
    "    print ('Working on focus position ' + str(focus_pos))\n",
    "    attcs.athexapod.evt_positionUpdate.flush() \n",
    "    await attcs.ataos.cmd_applyFocusOffset.set_start(offset=focus_pos)\n",
    "    await attcs.athexapod.evt_positionUpdate.next(flush=False, timeout=attcs.long_timeout)\n",
    "    non_dispersed_focus_image = await latiss.take_engtest(exptime=2., n=1, filter='empty_1', grating='ronchi90lpmm') \n",
    "    print ('Newest image id is = ' + str(non_dispersed_focus_image ) )\n",
    "    non_dispersed_focus_images[i] = int(non_dispersed_focus_image )\n",
    "    \n",
    "#This resets the focus position after taking this sequence: \n",
    "await attcs.ataos.cmd_applyFocusOffset.set_start(offset = focus_center)"
   ]
  },
  {
   "cell_type": "code",
   "execution_count": 40,
   "metadata": {},
   "outputs": [],
   "source": [
    "#That's an issue that happens if I try to send a focus position to the same position it's already at.  \n",
    "\n",
    "#adjust by hand \n",
    "await attcs.focus_offset(focus_pos)"
   ]
  },
  {
   "cell_type": "code",
   "execution_count": 41,
   "metadata": {},
   "outputs": [
    {
     "name": "stdout",
     "output_type": "stream",
     "text": [
      "Working on focus position -0.2955\n",
      "Generating group_id\n",
      "ENGTEST 0001 - 0001\n",
      "Waiting for header service LFO before continuing\n",
      "Newest image id is = [2020031200118]\n"
     ]
    },
    {
     "ename": "NameError",
     "evalue": "name 'non_dispersed_focus_images' is not defined",
     "output_type": "error",
     "traceback": [
      "\u001b[0;31m---------------------------------------------------------------------------\u001b[0m",
      "\u001b[0;31mNameError\u001b[0m                                 Traceback (most recent call last)",
      "\u001b[0;32m<ipython-input-41-7fbbbd922949>\u001b[0m in \u001b[0;36masync-def-wrapper\u001b[0;34m()\u001b[0m\n\u001b[1;32m     10\u001b[0m \u001b[0;34m\u001b[0m\u001b[0m\n\u001b[1;32m     11\u001b[0m \u001b[0;31m#This resets the focus position after taking this sequence:\u001b[0m\u001b[0;34m\u001b[0m\u001b[0;34m\u001b[0m\u001b[0;34m\u001b[0m\u001b[0m\n\u001b[0;32m---> 12\u001b[0;31m \u001b[0;32mawait\u001b[0m \u001b[0mattcs\u001b[0m\u001b[0;34m.\u001b[0m\u001b[0mfocus_offset\u001b[0m\u001b[0;34m(\u001b[0m\u001b[0mfocus_pos\u001b[0m\u001b[0;34m)\u001b[0m\u001b[0;34m\u001b[0m\u001b[0;34m\u001b[0m\u001b[0m\n\u001b[0m",
      "\u001b[0;31mNameError\u001b[0m: name 'non_dispersed_focus_images' is not defined"
     ]
    }
   ],
   "source": [
    "#!!!!DO NOT RUN UNLESS YOU HAVE BEEN CLEARED TO CONTROL TELESCOPE!!!!! \n",
    "focus_images = [0 for focus_pos in focus_positions]\n",
    "for i in range(len(focus_positions)): \n",
    "    focus_pos = focus_positions[i] \n",
    "    print ('Working on focus position ' + str(focus_pos))\n",
    "    await attcs.focus_offset(focus_pos)\n",
    "    non_dispersed_focus_image = await latiss.take_engtest(exptime=2., n=1, filter='empty_1', grating='ronchi90lpmm') \n",
    "    print ('Newest image id is = ' + str(non_dispersed_focus_image ) )\n",
    "    non_dispersed_focus_images[i] = int(non_dispersed_focus_image )\n",
    "    \n",
    "#This resets the focus position after taking this sequence: \n",
    "await attcs.focus_offset(focus_pos)"
   ]
  },
  {
   "cell_type": "code",
   "execution_count": 42,
   "metadata": {},
   "outputs": [
    {
     "name": "stdout",
     "output_type": "stream",
     "text": [
      "Slewing to HD 34816: 05 19 34.5240 -13 10 36.440\n",
      "Sending command\n",
      "Stop tracking.\n",
      "Mount tracking state is 9\n",
      "Tracking state: 10.\n",
      "Tracking state: 8.\n",
      "In Position: True.\n",
      "In Position: False.\n",
      "Scheduling check coroutines\n",
      "process as completed...\n",
      "Got False\n",
      "Telescope not in position\n",
      "atmcs: <State.ENABLED: 2>\n",
      "atptg: <State.ENABLED: 2>\n",
      "ataos: <State.ENABLED: 2>\n",
      "atpneumatics: <State.ENABLED: 2>\n",
      "athexapod: <State.ENABLED: 2>\n",
      "atdome: <State.ENABLED: 2>\n",
      "atdometrajectory: <State.ENABLED: 2>\n",
      "[Telescope] delta Alt = -000.027 | delta Az= -000.117 [Dome] delta Az = -000.242\n",
      "[Telescope] delta Alt = +000.002 | delta Az= +000.003 [Dome] delta Az = -000.242\n",
      "Axes in position.\n",
      "None\n"
     ]
    }
   ],
   "source": [
    "#target off detector \n",
    "await attcs.slew_object(name = \"HD 34816\",  rot_pa=0.0, slew_timeout=240.)"
   ]
  },
  {
   "cell_type": "code",
   "execution_count": 44,
   "metadata": {},
   "outputs": [
    {
     "name": "stdout",
     "output_type": "stream",
     "text": [
      "Generating group_id\n",
      "OBJECT 0001 - 0001\n",
      "Waiting for header service LFO before continuing\n",
      "RemoteEvent(ATHeaderService, 0, logMessage) falling behind; read 13 messages\n",
      "[2020031200119]\n"
     ]
    }
   ],
   "source": [
    "science_image = await latiss.take_object(exptime=1., n=1, filter='empty_1',grating='ronchi90lpmm')\n",
    "print (science_image)"
   ]
  },
  {
   "cell_type": "code",
   "execution_count": 48,
   "metadata": {},
   "outputs": [
    {
     "name": "stdout",
     "output_type": "stream",
     "text": [
      "[-43.8 -76.8]\n"
     ]
    }
   ],
   "source": [
    "shift = ( target_pix -(np.array([2163, 2472]))) / 10\n",
    "print (shift)"
   ]
  },
  {
   "cell_type": "code",
   "execution_count": 49,
   "metadata": {},
   "outputs": [
    {
     "name": "stdout",
     "output_type": "stream",
     "text": [
      "Applying x/y offset: -43.8/ -76.8 \n",
      "Applying Az/El offset: 13.807802323633217/ 87.32711259964725 \n",
      "Waiting for telescope to settle.\n",
      "Done\n"
     ]
    }
   ],
   "source": [
    "await attcs.offset_xy(*shift, persistent = True)"
   ]
  },
  {
   "cell_type": "code",
   "execution_count": 50,
   "metadata": {},
   "outputs": [
    {
     "name": "stdout",
     "output_type": "stream",
     "text": [
      "Generating group_id\n",
      "OBJECT 0001 - 0001\n",
      "Waiting for header service LFO before continuing\n",
      "[2020031200120]\n",
      "RemoteEvent(ATMCS, 0, target) falling behind; read 40 messages\n",
      "RemoteEvent(ATDomeTrajectory, 0, logMessage) falling behind; read 10 messages\n"
     ]
    }
   ],
   "source": [
    "science_image = await latiss.take_object(exptime=1., n=1, filter='empty_1',grating='ronchi90lpmm')\n",
    "print (science_image)"
   ]
  },
  {
   "cell_type": "code",
   "execution_count": 51,
   "metadata": {},
   "outputs": [
    {
     "name": "stdout",
     "output_type": "stream",
     "text": [
      "Working on focus position -0.2955\n",
      "Generating group_id\n",
      "ENGTEST 0001 - 0001\n",
      "Waiting for header service LFO before continuing\n",
      "RemoteEvent(ATHeaderService, 0, logMessage) falling behind; read 11 messages\n",
      "Newest image id is = [2020031200121]\n",
      "Working on focus position -0.27549999999999997\n",
      "Generating group_id\n",
      "ENGTEST 0001 - 0001\n",
      "Waiting for header service LFO before continuing\n",
      "RemoteEvent(ATHeaderService, 0, logMessage) falling behind; read 10 messages\n",
      "Newest image id is = [2020031200122]\n",
      "Working on focus position -0.2555\n",
      "Generating group_id\n",
      "ENGTEST 0001 - 0001\n",
      "Waiting for header service LFO before continuing\n",
      "Newest image id is = [2020031200123]\n",
      "Working on focus position -0.2355\n",
      "Generating group_id\n",
      "ENGTEST 0001 - 0001\n",
      "Waiting for header service LFO before continuing\n",
      "RemoteEvent(ATHeaderService, 0, logMessage) falling behind; read 11 messages\n",
      "Newest image id is = [2020031200124]\n",
      "Working on focus position -0.2155\n",
      "Generating group_id\n",
      "ENGTEST 0001 - 0001\n",
      "Waiting for header service LFO before continuing\n",
      "Newest image id is = [2020031200125]\n",
      "Working on focus position -0.1955\n",
      "Generating group_id\n",
      "ENGTEST 0001 - 0001\n",
      "Waiting for header service LFO before continuing\n",
      "Newest image id is = [2020031200126]\n",
      "Working on focus position -0.1755\n",
      "Generating group_id\n",
      "ENGTEST 0001 - 0001\n",
      "Waiting for header service LFO before continuing\n",
      "Newest image id is = [2020031200127]\n",
      "Working on focus position -0.1555\n",
      "Generating group_id\n",
      "ENGTEST 0001 - 0001\n",
      "RemoteEvent(ATMCS, 0, target) falling behind; read 17 messages\n",
      "Waiting for header service LFO before continuing\n",
      "Newest image id is = [2020031200128]\n",
      "Working on focus position -0.1355\n",
      "Generating group_id\n",
      "ENGTEST 0001 - 0001\n",
      "Waiting for header service LFO before continuing\n",
      "Newest image id is = [2020031200129]\n",
      "RemoteEvent(ATMCS, 0, target) falling behind; read 60 messages\n",
      "RemoteEvent(ATDomeTrajectory, 0, logMessage) falling behind; read 19 messages\n",
      "RemoteEvent(ATMCS, 0, target) falling behind; read 59 messages\n",
      "RemoteEvent(ATDomeTrajectory, 0, logMessage) falling behind; read 20 messages\n",
      "RemoteEvent(ATMCS, 0, target) falling behind; read 100 messages\n",
      "RemoteEvent(ATDomeTrajectory, 0, logMessage) falling behind; read 10 messages\n",
      "RemoteEvent(ATDomeTrajectory, 0, logMessage) falling behind; read 10 messages\n",
      "RemoteEvent(ATMCS, 0, target) falling behind; read 100 messages\n",
      "RemoteEvent(ATMCS, 0, target) falling behind; read 10 messages\n",
      "RemoteEvent(ATDomeTrajectory, 0, logMessage) falling behind; read 18 messages\n",
      "RemoteEvent(ATDomeTrajectory, 0, logMessage) falling behind; read 23 messages\n",
      "RemoteEvent(ATMCS, 0, target) falling behind; read 19 messages\n",
      "RemoteEvent(ATHeaderService, 0, logMessage) falling behind; read 10 messages\n"
     ]
    }
   ],
   "source": [
    "#!!!!DO NOT RUN UNLESS YOU HAVE BEEN CLEARED TO CONTROL TELESCOPE!!!!! \n",
    "focus_images = [0 for focus_pos in focus_positions]\n",
    "non_dispersed_focus_images = [0 for focus_pos in focus_positions] \n",
    "for i in range(len(focus_positions)): \n",
    "    focus_pos = focus_positions[i] \n",
    "    print ('Working on focus position ' + str(focus_pos))\n",
    "    await attcs.focus_offset(focus_pos)\n",
    "    non_dispersed_focus_image = await latiss.take_engtest(exptime=2., n=1, filter='empty_1', grating='ronchi90lpmm') \n",
    "    print ('Newest image id is = ' + str(non_dispersed_focus_image ) )\n",
    "    non_dispersed_focus_images[i] = int(non_dispersed_focus_image )\n",
    "    \n",
    "#This resets the focus position after taking this sequence: \n",
    "await attcs.focus_offset(focus_pos)"
   ]
  },
  {
   "cell_type": "code",
   "execution_count": 52,
   "metadata": {},
   "outputs": [
    {
     "data": {
      "text/plain": [
       "<ddsutil.ATAOS_ackcmd_33d5c92b at 0x7f7d17e770d0>"
      ]
     },
     "execution_count": 52,
     "metadata": {},
     "output_type": "execute_result"
    }
   ],
   "source": [
    "# That worked okay, though we had atmospheric deviations. \n",
    "best_focus = -0.19\n",
    "await attcs.ataos.cmd_applyFocusOffset.set_start(offset = best_focus)"
   ]
  },
  {
   "cell_type": "code",
   "execution_count": 53,
   "metadata": {},
   "outputs": [
    {
     "name": "stdout",
     "output_type": "stream",
     "text": [
      "Generating group_id\n",
      "OBJECT 0001 - 0001\n",
      "Waiting for header service LFO before continuing\n",
      "[2020031200131]\n",
      "RemoteEvent(ATMCS, 0, target) falling behind; read 19 messages\n"
     ]
    }
   ],
   "source": [
    "#They also moved the star from underme, so I need to get it recentered\n",
    "science_image = await latiss.take_object(exptime=1., n=1, filter='empty_1',grating='ronchi90lpmm')\n",
    "print (science_image)"
   ]
  },
  {
   "cell_type": "code",
   "execution_count": 54,
   "metadata": {},
   "outputs": [
    {
     "name": "stdout",
     "output_type": "stream",
     "text": [
      "[-62.4 -53. ]\n",
      "Applying x/y offset: -62.4/ -53.0 \n",
      "Applying Az/El offset: 57.636839308972476/ 58.14425813845839 \n",
      "Waiting for telescope to settle.\n",
      "Done\n"
     ]
    }
   ],
   "source": [
    "shift = ( target_pix -(np.array([2349, 2234]))) / 10\n",
    "print (shift)\n",
    "await attcs.offset_xy(*shift, persistent = True)"
   ]
  },
  {
   "cell_type": "code",
   "execution_count": 55,
   "metadata": {},
   "outputs": [
    {
     "name": "stdout",
     "output_type": "stream",
     "text": [
      "Generating group_id\n",
      "OBJECT 0001 - 0001\n",
      "Waiting for header service LFO before continuing\n",
      "[2020031200132]\n"
     ]
    }
   ],
   "source": [
    "#They also moved the star from underme, so I need to get it recentered\n",
    "science_image = await latiss.take_object(exptime=1., n=1, filter='empty_1',grating='ronchi90lpmm')\n",
    "print (science_image)"
   ]
  },
  {
   "cell_type": "code",
   "execution_count": 56,
   "metadata": {},
   "outputs": [
    {
     "name": "stdout",
     "output_type": "stream",
     "text": [
      "Generating group_id\n",
      "OBJECT 0001 - 0001\n",
      "Waiting for header service LFO before continuing\n",
      "[2020031200133]\n"
     ]
    }
   ],
   "source": [
    "#They also moved the star from underme, so I need to get it recentered\n",
    "science_image = await latiss.take_object(exptime=20., n=1, filter='empty_1',grating='ronchi90lpmm')\n",
    "print (science_image)"
   ]
  },
  {
   "cell_type": "code",
   "execution_count": 57,
   "metadata": {},
   "outputs": [
    {
     "name": "stdout",
     "output_type": "stream",
     "text": [
      "Generating group_id\n",
      "OBJECT 0001 - 0001\n",
      "Waiting for header service LFO before continuing\n",
      "RemoteEvent(ATHeaderService, 0, logMessage) falling behind; read 11 messages\n",
      "[2020031200134]\n",
      "RemoteEvent(ATMCS, 0, target) falling behind; read 100 messages\n",
      "RemoteEvent(ATDomeTrajectory, 0, logMessage) falling behind; read 12 messages\n"
     ]
    }
   ],
   "source": [
    "#They also moved the star from underme, so I need to get it recentered\n",
    "science_image = await latiss.take_object(exptime=20., n=1, filter='quadnotch1',grating='ronchi90lpmm')\n",
    "print (science_image)"
   ]
  },
  {
   "cell_type": "code",
   "execution_count": null,
   "metadata": {},
   "outputs": [],
   "source": [
    "#They also moved the star from underme, so I need to get it recentered\n",
    "science_image = await latiss.take_object(exptime=20., n=1, filter='quadnotch1',grating='ronchi90lpmm')\n",
    "print (science_image)"
   ]
  },
  {
   "cell_type": "code",
   "execution_count": 58,
   "metadata": {},
   "outputs": [
    {
     "name": "stdout",
     "output_type": "stream",
     "text": [
      "Generating group_id\n",
      "OBJECT 0001 - 0001\n",
      "Waiting for header service LFO before continuing\n",
      "[2020031200135]\n"
     ]
    }
   ],
   "source": [
    "#They also moved the star from underme, so I need to get it recentered\n",
    "science_image = await latiss.take_object(exptime=20., n=1, filter='BG40',grating='ronchi90lpmm')\n",
    "print (science_image)"
   ]
  },
  {
   "cell_type": "code",
   "execution_count": 59,
   "metadata": {},
   "outputs": [
    {
     "name": "stdout",
     "output_type": "stream",
     "text": [
      "Generating group_id\n",
      "OBJECT 0001 - 0001\n",
      "Waiting for header service LFO before continuing\n",
      "[2020031200136]\n"
     ]
    }
   ],
   "source": [
    "#They also moved the star from underme, so I need to get it recentered\n",
    "science_image = await latiss.take_object(exptime=20., n=1, filter='RG610',grating='ronchi90lpmm')\n",
    "print (science_image)"
   ]
  },
  {
   "cell_type": "code",
   "execution_count": 60,
   "metadata": {},
   "outputs": [
    {
     "name": "stdout",
     "output_type": "stream",
     "text": [
      "Generating group_id\n",
      "OBJECT 0001 - 0001\n",
      "Waiting for header service LFO before continuing\n",
      "[2020031200137]\n",
      "RemoteEvent(ATHeaderService, 0, logMessage) falling behind; read 10 messages\n",
      "RemoteEvent(ATMCS, 0, target) falling behind; read 80 messages\n",
      "RemoteEvent(ATDomeTrajectory, 0, logMessage) falling behind; read 11 messages\n",
      "RemoteEvent(ATMCS, 0, target) falling behind; read 25 messages\n",
      "RemoteEvent(ATDomeTrajectory, 0, logMessage) falling behind; read 16 messages\n"
     ]
    }
   ],
   "source": [
    "#They also moved the star from underme, so I need to get it recentered\n",
    "science_image = await latiss.take_object(exptime=25., n=1, filter='empty_1',grating='ronchi90lpmm')\n",
    "print (science_image)"
   ]
  },
  {
   "cell_type": "code",
   "execution_count": 66,
   "metadata": {},
   "outputs": [
    {
     "data": {
      "text/plain": [
       "<ddsutil.ATAOS_ackcmd_33d5c92b at 0x7f7e8b74fc90>"
      ]
     },
     "execution_count": 66,
     "metadata": {},
     "output_type": "execute_result"
    }
   ],
   "source": [
    "# That worked okay, though we had atmospheric deviations. \n",
    "best_focus = -0.19\n",
    "empty_to_quad = +0.0265\n",
    "empty_to_BG = +0.0227\n",
    "empty_to_RG = +0.0227 \n",
    "await attcs.ataos.cmd_applyFocusOffset.set_start(offset = best_focus + empty_to_quad )"
   ]
  },
  {
   "cell_type": "code",
   "execution_count": 63,
   "metadata": {},
   "outputs": [
    {
     "name": "stdout",
     "output_type": "stream",
     "text": [
      "Generating group_id\n",
      "OBJECT 0001 - 0001\n",
      "Waiting for header service LFO before continuing\n",
      "[2020031200139]\n"
     ]
    }
   ],
   "source": [
    "#They also moved the star from underme, so I need to get it recentered\n",
    "science_image = await latiss.take_object(exptime=25., n=1, filter='quadnotch1',grating='ronchi90lpmm')\n",
    "print (science_image)"
   ]
  },
  {
   "cell_type": "code",
   "execution_count": 64,
   "metadata": {},
   "outputs": [
    {
     "name": "stdout",
     "output_type": "stream",
     "text": [
      "Generating group_id\n",
      "OBJECT 0001 - 0001\n",
      "Waiting for header service LFO before continuing\n",
      "[2020031200140]\n"
     ]
    }
   ],
   "source": [
    "await attcs.ataos.cmd_applyFocusOffset.set_start(offset = best_focus + empty_to_BG )\n",
    "#They also moved the star from underme, so I need to get it recentered\n",
    "science_image = await latiss.take_object(exptime=25., n=1, filter='BG40',grating='ronchi90lpmm')\n",
    "print (science_image)"
   ]
  },
  {
   "cell_type": "code",
   "execution_count": 67,
   "metadata": {},
   "outputs": [
    {
     "name": "stdout",
     "output_type": "stream",
     "text": [
      "Generating group_id\n",
      "OBJECT 0001 - 0001\n",
      "Waiting for header service LFO before continuing\n",
      "[2020031200141]\n"
     ]
    }
   ],
   "source": [
    "await attcs.ataos.cmd_applyFocusOffset.set_start(offset = best_focus + empty_to_RG )\n",
    "#They also moved the star from underme, so I need to get it recentered\n",
    "science_image = await latiss.take_object(exptime=25., n=1, filter='BG40',grating='ronchi90lpmm')\n",
    "print (science_image)"
   ]
  },
  {
   "cell_type": "code",
   "execution_count": 68,
   "metadata": {},
   "outputs": [
    {
     "name": "stdout",
     "output_type": "stream",
     "text": [
      "Generating group_id\n",
      "OBJECT 0001 - 0001\n",
      "Waiting for header service LFO before continuing\n",
      "[2020031200142]\n",
      "RemoteEvent(ATMCS, 0, target) falling behind; read 38 messages\n",
      "RemoteEvent(ATDomeTrajectory, 0, logMessage) falling behind; read 19 messages\n",
      "RemoteEvent(ATDomeTrajectory, 0, logMessage) falling behind; read 10 messages\n"
     ]
    }
   ],
   "source": [
    "await attcs.ataos.cmd_applyFocusOffset.set_start(offset = best_focus + empty_to_RG )\n",
    "#They also moved the star from underme, so I need to get it recentered\n",
    "science_image = await latiss.take_object(exptime=25., n=1, filter='RG610',grating='ronchi90lpmm')\n",
    "print (science_image)"
   ]
  },
  {
   "cell_type": "code",
   "execution_count": 10,
   "metadata": {},
   "outputs": [
    {
     "name": "stdout",
     "output_type": "stream",
     "text": [
      "Starting new HTTP connection (1): simbad.u-strasbg.fr:80\n",
      "http://simbad.u-strasbg.fr:80 \"POST /simbad/sim-script HTTP/1.1\" 200 None\n",
      "Slewing to HD 185975: 20 28 18.7402 -87 28 19.938\n",
      "RemoteTelemetry(ATPtg, 0, timeAndDate) falling behind; read 17 messages\n",
      "RemoteTelemetry(ATDome, 0, position) falling behind; read 16 messages\n",
      "Sending command\n",
      "Stop tracking.\n",
      "Mount tracking state is 8\n",
      "In Position: False.\n",
      "RemoteTelemetry(ATPtg, 0, mountStatus) falling behind; read 22 messages\n",
      "RemoteTelemetry(ATPtg, 0, guidingAndOffsets) falling behind; read 22 messages\n",
      "RemoteEvent(ATDome, 0, doorEncoderExtremes) falling behind; read 21 messages\n",
      "RemoteTelemetry(ATPtg, 0, currentTargetStatus) falling behind; read 23 messages\n",
      "Scheduling check coroutines\n",
      "process as completed...\n",
      "Got False\n",
      "Telescope not in position\n",
      "atmcs: <State.ENABLED: 2>\n",
      "atptg: <State.ENABLED: 2>\n",
      "ataos: <State.ENABLED: 2>\n",
      "atpneumatics: <State.ENABLED: 2>\n",
      "athexapod: <State.ENABLED: 2>\n",
      "atdome: <State.ENABLED: 2>\n",
      "[Telescope] delta Alt = -052.180 | delta Az= -179.329 [Dome] delta Az = -003.070\n",
      "[Telescope] delta Alt = -050.043 | delta Az= +178.528 [Dome] delta Az = -003.070\n",
      "[Telescope] delta Alt = -046.047 | delta Az= +174.533 [Dome] delta Az = -003.070\n",
      "[Telescope] delta Alt = -042.047 | delta Az= +170.532 [Dome] delta Az = -003.070\n",
      "[Telescope] delta Alt = -038.045 | delta Az= +166.532 [Dome] delta Az = -003.070\n",
      "[Telescope] delta Alt = -034.047 | delta Az= +162.532 [Dome] delta Az = -003.070\n",
      "[Telescope] delta Alt = -030.047 | delta Az= +158.531 [Dome] delta Az = -003.070\n",
      "[Telescope] delta Alt = -026.057 | delta Az= +154.531 [Dome] delta Az = -003.070\n",
      "[Telescope] delta Alt = -022.115 | delta Az= +150.530 [Dome] delta Az = -003.070\n",
      "[Telescope] delta Alt = -018.278 | delta Az= +146.528 [Dome] delta Az = -003.070\n",
      "[Telescope] delta Alt = -014.628 | delta Az= +142.530 [Dome] delta Az = -003.070\n",
      "[Telescope] delta Alt = -011.251 | delta Az= +138.530 [Dome] delta Az = -003.070\n",
      "[Telescope] delta Alt = -008.229 | delta Az= +134.527 [Dome] delta Az = -003.070\n",
      "[Telescope] delta Alt = -005.636 | delta Az= +130.528 [Dome] delta Az = -003.070\n",
      "[Telescope] delta Alt = -003.529 | delta Az= +126.528 [Dome] delta Az = -003.070\n",
      "[Telescope] delta Alt = -001.950 | delta Az= +122.527 [Dome] delta Az = -003.070\n",
      "[Telescope] delta Alt = -000.877 | delta Az= +118.528 [Dome] delta Az = -003.070\n",
      "[Telescope] delta Alt = -000.272 | delta Az= +114.526 [Dome] delta Az = -003.070\n",
      "[Telescope] delta Alt = -000.033 | delta Az= +110.526 [Dome] delta Az = -003.070\n",
      "[Telescope] delta Alt = +000.000 | delta Az= +106.526 [Dome] delta Az = -003.070\n",
      "[Telescope] delta Alt = +000.000 | delta Az= +102.525 [Dome] delta Az = -003.070\n",
      "[Telescope] delta Alt = +000.000 | delta Az= +098.525 [Dome] delta Az = -003.070\n",
      "[Telescope] delta Alt = +000.000 | delta Az= +094.524 [Dome] delta Az = -003.070\n",
      "[Telescope] delta Alt = -000.000 | delta Az= +090.523 [Dome] delta Az = -003.070\n",
      "[Telescope] delta Alt = -000.000 | delta Az= +086.524 [Dome] delta Az = -003.070\n",
      "[Telescope] delta Alt = -000.000 | delta Az= +082.524 [Dome] delta Az = -003.070\n",
      "[Telescope] delta Alt = +000.000 | delta Az= +078.522 [Dome] delta Az = -003.070\n",
      "[Telescope] delta Alt = -000.000 | delta Az= +074.522 [Dome] delta Az = -003.070\n",
      "[Telescope] delta Alt = +000.000 | delta Az= +070.523 [Dome] delta Az = -003.070\n",
      "[Telescope] delta Alt = +000.000 | delta Az= +066.522 [Dome] delta Az = -003.070\n",
      "[Telescope] delta Alt = -000.000 | delta Az= +062.521 [Dome] delta Az = -003.070\n",
      "[Telescope] delta Alt = +000.000 | delta Az= +058.521 [Dome] delta Az = -003.070\n",
      "[Telescope] delta Alt = +000.000 | delta Az= +054.521 [Dome] delta Az = -003.070\n",
      "[Telescope] delta Alt = -000.000 | delta Az= +050.521 [Dome] delta Az = -003.070\n",
      "[Telescope] delta Alt = +000.000 | delta Az= +046.520 [Dome] delta Az = -003.070\n",
      "[Telescope] delta Alt = -000.000 | delta Az= +042.520 [Dome] delta Az = -003.070\n",
      "[Telescope] delta Alt = +000.000 | delta Az= +038.519 [Dome] delta Az = -003.070\n",
      "[Telescope] delta Alt = +000.000 | delta Az= +034.518 [Dome] delta Az = -003.070\n",
      "[Telescope] delta Alt = -000.000 | delta Az= +030.519 [Dome] delta Az = -003.070\n",
      "[Telescope] delta Alt = +000.000 | delta Az= +026.526 [Dome] delta Az = -003.070\n",
      "[Telescope] delta Alt = +000.000 | delta Az= +022.573 [Dome] delta Az = -003.070\n",
      "[Telescope] delta Alt = +000.000 | delta Az= +018.723 [Dome] delta Az = -003.070\n",
      "[Telescope] delta Alt = -000.000 | delta Az= +015.050 [Dome] delta Az = -003.070\n",
      "[Telescope] delta Alt = -000.000 | delta Az= +011.635 [Dome] delta Az = -003.070\n",
      "[Telescope] delta Alt = +000.000 | delta Az= +008.569 [Dome] delta Az = -003.070\n",
      "[Telescope] delta Alt = +000.000 | delta Az= +005.923 [Dome] delta Az = -003.070\n",
      "[Telescope] delta Alt = +000.000 | delta Az= +003.761 [Dome] delta Az = -003.070\n",
      "[Telescope] delta Alt = +000.000 | delta Az= +002.112 [Dome] delta Az = -003.070\n",
      "[Telescope] delta Alt = +000.000 | delta Az= +000.981 [Dome] delta Az = -003.070\n",
      "[Telescope] delta Alt = +000.000 | delta Az= +000.323 [Dome] delta Az = -003.070\n",
      "[Telescope] delta Alt = +000.000 | delta Az= +000.048 [Dome] delta Az = -003.070\n",
      "[Telescope] delta Alt = +000.000 | delta Az= -000.000 [Dome] delta Az = -003.070\n",
      "Axes in position.\n",
      "None\n"
     ]
    }
   ],
   "source": [
    "#target off detector \n",
    "await attcs.slew_object(name = \"HD 185975\",  rot_pa=0.0, slew_timeout=240.)"
   ]
  },
  {
   "cell_type": "code",
   "execution_count": 11,
   "metadata": {},
   "outputs": [
    {
     "name": "stdout",
     "output_type": "stream",
     "text": [
      "Gathering settings.\n",
      "No settings for atmcs.\n",
      "Using                                                                                                                                 from settingVersions event.\n",
      "No settings for atptg.\n",
      "Couldn't get settingVersions event. Using empty settings.\n",
      "No settings for ataos.\n",
      "Using current from settingVersions event.\n",
      "No settings for atpneumatics.\n",
      "Using                                                                                                                                 from settingVersions event.\n",
      "No settings for athexapod.\n",
      "Using current from settingVersions event.\n",
      "No settings for atdome.\n",
      "Using test from settingVersions event.\n",
      "No settings for atdometrajectory.\n",
      "Using  from settingVersions event.\n",
      "Settings versions: {'atmcs': '                                                                                                                               ', 'atptg': '', 'ataos': 'current', 'atpneumatics': '                                                                                                                               ', 'athexapod': 'current', 'atdome': 'test', 'atdometrajectory': ''}\n",
      "Enabling all components\n",
      "Enabling  atmcs\n",
      "Enabling  atptg\n",
      "Enabling  ataos\n",
      "Enabling  atpneumatics\n",
      "Enabling  athexapod\n",
      "Enabling  atdome\n",
      "[atmcs]::[<State.ENABLED: 2>]\n",
      "[atptg]::[<State.ENABLED: 2>]\n",
      "[ataos]::[<State.ENABLED: 2>]\n",
      "[atpneumatics]::[<State.ENABLED: 2>]\n",
      "[athexapod]::[<State.ENABLED: 2>]\n",
      "[atdome]::[<State.ENABLED: 2>]\n",
      "[atdometrajectory]::<State.DISABLED: 1>\n",
      "All components enabled.\n",
      "Gathering settings.\n",
      "No settings for atcamera.\n",
      "Using  from settingVersions event.\n",
      "No settings for atspectrograph.\n",
      "Using current from settingVersions event.\n",
      "No settings for atheaderservice.\n",
      "Couldn't get settingVersions event. Using empty settings.\n",
      "No settings for atarchiver.\n",
      "Using normal from settingVersions event.\n",
      "Settings versions: {'atcamera': '', 'atspectrograph': 'current', 'atheaderservice': '', 'atarchiver': 'normal'}\n",
      "Enabling all components\n",
      "Enabling  atcamera\n",
      "Enabling  atspectrograph\n",
      "Enabling  atheaderservice\n",
      "Enabling  atarchiver\n",
      "[atcamera]::[<State.ENABLED: 2>]\n",
      "[atspectrograph]::[<State.ENABLED: 2>]\n",
      "[atheaderservice]::[<State.ENABLED: 2>]\n",
      "[atarchiver]::[<State.ENABLED: 2>]\n",
      "All components enabled.\n"
     ]
    }
   ],
   "source": [
    "#Because I stopped it, I need to rerun the enable again.  \n",
    "\n",
    "await attcs.enable()\n",
    "await latiss.enable() "
   ]
  },
  {
   "cell_type": "code",
   "execution_count": 12,
   "metadata": {},
   "outputs": [
    {
     "name": "stdout",
     "output_type": "stream",
     "text": [
      "RemoteEvent(ATMCS, 0, target) falling behind; read 22 messages\n",
      "RemoteEvent(ATDomeTrajectory, 0, logMessage) falling behind; read 13 messages\n",
      "RemoteEvent(ATMCS, 0, target) falling behind; read 66 messages\n",
      "RemoteEvent(ATDomeTrajectory, 0, logMessage) falling behind; read 13 messages\n"
     ]
    },
    {
     "data": {
      "text/plain": [
       "<ddsutil.ATDome_ackcmd_ff080bab at 0x7f47a99129d0>"
      ]
     },
     "execution_count": 12,
     "metadata": {},
     "output_type": "execute_result"
    }
   ],
   "source": [
    "#And we forgot to open the lower shutter...Do it now. \n",
    "await attcs.atdome.cmd_openShutter.start() "
   ]
  },
  {
   "cell_type": "code",
   "execution_count": 13,
   "metadata": {},
   "outputs": [
    {
     "name": "stdout",
     "output_type": "stream",
     "text": [
      "Generating group_id\n",
      "OBJECT 0001 - 0001\n",
      "[2020031200144]\n",
      "RemoteEvent(ATHeaderService, 0, logMessage) falling behind; read 15 messages\n"
     ]
    }
   ],
   "source": [
    "#Take a quick exposure w/ the grating to get a reference position. \n",
    "#Put to nominal best fit position \n",
    "best_focus = -0.19\n",
    "empty_to_quad = +0.0265\n",
    "empty_to_BG = +0.0227\n",
    "empty_to_RG = +0.0227 \n",
    "await attcs.ataos.cmd_applyFocusOffset.set_start(offset = best_focus + empty_to_quad )\n",
    "#They also moved the star from underme, so I need to get it recentered\n",
    "science_image = await latiss.take_object(exptime=2., n=1, filter='empty_1',grating='ronchi90lpmm')\n",
    "print (science_image)"
   ]
  },
  {
   "cell_type": "code",
   "execution_count": 14,
   "metadata": {},
   "outputs": [
    {
     "name": "stdout",
     "output_type": "stream",
     "text": [
      "Generating group_id\n",
      "OBJECT 0001 - 0001\n"
     ]
    }
   ],
   "source": [
    "#They also moved the star from underme, so I need to get it recentered\n",
    "science_image = await latiss.take_object(exptime=2., n=1, filter='empty_1',grating='ronchi90lpmm')"
   ]
  },
  {
   "cell_type": "code",
   "execution_count": 16,
   "metadata": {},
   "outputs": [
    {
     "name": "stdout",
     "output_type": "stream",
     "text": [
      "[-43.8 -76.8]\n"
     ]
    }
   ],
   "source": [
    "target_pix = np.array((1725, 1704))\n",
    "shift = ( target_pix -(np.array([2163, 2472]))) / 10\n",
    "print (shift)"
   ]
  },
  {
   "cell_type": "code",
   "execution_count": 18,
   "metadata": {},
   "outputs": [
    {
     "name": "stdout",
     "output_type": "stream",
     "text": [
      "Applying x/y offset: -43.8/ -76.8 \n",
      "Applying Az/El offset: 80.68638233855664/ 36.143985739210564 \n",
      "Waiting for telescope to settle.\n",
      "Done\n"
     ]
    }
   ],
   "source": [
    "await attcs.offset_xy(*shift, persistent = True)"
   ]
  },
  {
   "cell_type": "code",
   "execution_count": 19,
   "metadata": {},
   "outputs": [
    {
     "name": "stdout",
     "output_type": "stream",
     "text": [
      "Generating group_id\n",
      "OBJECT 0001 - 0001\n",
      "RemoteEvent(ATMCS, 0, target) falling behind; read 81 messages\n",
      "RemoteEvent(ATDomeTrajectory, 0, logMessage) falling behind; read 30 messages\n",
      "RemoteEvent(ATDomeTrajectory, 0, logMessage) falling behind; read 15 messages\n"
     ]
    }
   ],
   "source": [
    "#Did I get the position right? \n",
    "science_image = await latiss.take_object(exptime=2., n=1, filter='empty_1',grating='ronchi90lpmm')"
   ]
  },
  {
   "cell_type": "code",
   "execution_count": 20,
   "metadata": {},
   "outputs": [
    {
     "name": "stdout",
     "output_type": "stream",
     "text": [
      "[-18.6  19.3]\n"
     ]
    }
   ],
   "source": [
    "target_pix = np.array((1725, 1704))\n",
    "shift = ( target_pix -(np.array([1911, 1511]))) / 10\n",
    "print (shift)"
   ]
  },
  {
   "cell_type": "code",
   "execution_count": 21,
   "metadata": {},
   "outputs": [
    {
     "name": "stdout",
     "output_type": "stream",
     "text": [
      "Applying x/y offset: -18.6/ 19.3 \n",
      "Applying Az/El offset: -17.166498872661514/ 20.58546371726688 \n",
      "Waiting for telescope to settle.\n",
      "Done\n"
     ]
    }
   ],
   "source": [
    "await attcs.offset_xy(*shift, persistent = True)"
   ]
  },
  {
   "cell_type": "code",
   "execution_count": 22,
   "metadata": {},
   "outputs": [
    {
     "name": "stdout",
     "output_type": "stream",
     "text": [
      "Generating group_id\n",
      "OBJECT 0001 - 0001\n"
     ]
    }
   ],
   "source": [
    "#Did I get the position right? \n",
    "science_image = await latiss.take_object(exptime=2., n=1, filter='empty_1',grating='ronchi90lpmm')"
   ]
  },
  {
   "cell_type": "code",
   "execution_count": 23,
   "metadata": {},
   "outputs": [
    {
     "name": "stdout",
     "output_type": "stream",
     "text": [
      "[2020031200148]\n"
     ]
    }
   ],
   "source": [
    "print (science_image)"
   ]
  },
  {
   "cell_type": "code",
   "execution_count": null,
   "metadata": {},
   "outputs": [],
   "source": [
    "#Did I get the position right? \n",
    "science_image = await latiss.take_object(exptime=2., n=1, filter='empty_1',grating='ronchi90lpmm')"
   ]
  },
  {
   "cell_type": "code",
   "execution_count": 24,
   "metadata": {},
   "outputs": [
    {
     "name": "stdout",
     "output_type": "stream",
     "text": [
      "Generating group_id\n",
      "OBJECT 0001 - 0001\n"
     ]
    }
   ],
   "source": [
    "await attcs.ataos.cmd_applyFocusOffset.set_start(offset = best_focus )\n",
    "science_image = await latiss.take_object(exptime=30., n=1, filter='empty_1',grating='ronchi90lpmm')"
   ]
  },
  {
   "cell_type": "code",
   "execution_count": 25,
   "metadata": {},
   "outputs": [
    {
     "name": "stdout",
     "output_type": "stream",
     "text": [
      "Generating group_id\n",
      "OBJECT 0001 - 0001\n",
      "[2020031200150]\n"
     ]
    }
   ],
   "source": [
    "await attcs.ataos.cmd_applyFocusOffset.set_start(offset = best_focus + empty_to_quad )\n",
    "science_image = await latiss.take_object(exptime=30., n=1, filter='quadnotch1',grating='ronchi90lpmm')\n",
    "print (science_image)"
   ]
  },
  {
   "cell_type": "code",
   "execution_count": 26,
   "metadata": {},
   "outputs": [
    {
     "name": "stdout",
     "output_type": "stream",
     "text": [
      "Generating group_id\n",
      "OBJECT 0001 - 0001\n",
      "[2020031200151]\n"
     ]
    }
   ],
   "source": [
    "await attcs.ataos.cmd_applyFocusOffset.set_start(offset = best_focus + empty_to_BG )\n",
    "science_image = await latiss.take_object(exptime=30., n=1, filter='BG40',grating='ronchi90lpmm')\n",
    "print (science_image)"
   ]
  },
  {
   "cell_type": "code",
   "execution_count": 27,
   "metadata": {},
   "outputs": [
    {
     "name": "stdout",
     "output_type": "stream",
     "text": [
      "Generating group_id\n",
      "OBJECT 0001 - 0001\n",
      "[2020031200152]\n",
      "RemoteEvent(ATMCS, 0, target) falling behind; read 28 messages\n",
      "RemoteEvent(ATDomeTrajectory, 0, logMessage) falling behind; read 12 messages\n",
      "RemoteEvent(ATMCS, 0, target) falling behind; read 33 messages\n",
      "RemoteEvent(ATDomeTrajectory, 0, logMessage) falling behind; read 31 messages\n",
      "RemoteTelemetry(ATMCS, 0, trajectory) falling behind; read 11 messages\n",
      "RemoteTelemetry(ATMCS, 0, torqueDemand) falling behind; read 11 messages\n",
      "RemoteTelemetry(ATMCS, 0, nasymth_m3_mountMotorEncoders) falling behind; read 11 messages\n",
      "RemoteTelemetry(ATMCS, 0, mount_Nasmyth_Encoders) falling behind; read 11 messages\n",
      "RemoteTelemetry(ATMCS, 0, mount_AzEl_Encoders) falling behind; read 11 messages\n",
      "RemoteTelemetry(ATMCS, 0, measuredTorque) falling behind; read 10 messages\n",
      "RemoteTelemetry(ATMCS, 0, measuredMotorVelocity) falling behind; read 10 messages\n",
      "RemoteTelemetry(ATMCS, 0, azEl_mountMotorEncoders) falling behind; read 10 messages\n",
      "RemoteEvent(ATMCS, 0, heartbeat) falling behind; read 10 messages\n",
      "RemoteEvent(ATHeaderService, 0, logMessage) falling behind; read 12 messages\n",
      "RemoteEvent(ATHeaderService, 0, logMessage) falling behind; read 86 messages\n"
     ]
    }
   ],
   "source": [
    "await attcs.ataos.cmd_applyFocusOffset.set_start(offset = best_focus + empty_to_RG )\n",
    "science_image = await latiss.take_object(exptime=30., n=1, filter='RG610',grating='ronchi90lpmm')\n",
    "print (science_image)"
   ]
  },
  {
   "cell_type": "code",
   "execution_count": 28,
   "metadata": {},
   "outputs": [
    {
     "data": {
      "text/plain": [
       "<ddsutil.ATAOS_ackcmd_33d5c92b at 0x7f47a9a9f310>"
      ]
     },
     "execution_count": 28,
     "metadata": {},
     "output_type": "execute_result"
    },
    {
     "name": "stdout",
     "output_type": "stream",
     "text": [
      "RemoteEvent(ATHeaderService, 0, logMessage) falling behind; read 14 messages\n"
     ]
    }
   ],
   "source": [
    "await attcs.ataos.cmd_applyFocusOffset.set_start(offset = best_focus )"
   ]
  },
  {
   "cell_type": "code",
   "execution_count": null,
   "metadata": {},
   "outputs": [],
   "source": [
    "await attcs.ataos.cmd_reset"
   ]
  },
  {
   "cell_type": "code",
   "execution_count": 29,
   "metadata": {},
   "outputs": [
    {
     "name": "stdout",
     "output_type": "stream",
     "text": [
      "Slewing to HD 34816: 05 19 34.5240 -13 10 36.440\n",
      "Sending command\n",
      "Stop tracking.\n",
      "Mount tracking state is 9\n",
      "Tracking state: 10.\n",
      "Tracking state: 8.\n",
      "In Position: True.\n",
      "In Position: False.\n",
      "Scheduling check coroutines\n",
      "process as completed...\n",
      "Got False\n",
      "Telescope not in position\n",
      "atmcs: <State.ENABLED: 2>\n",
      "atptg: <State.ENABLED: 2>\n",
      "ataos: <State.ENABLED: 2>\n",
      "atpneumatics: <State.ENABLED: 2>\n",
      "athexapod: <State.ENABLED: 2>\n",
      "atdome: <State.ENABLED: 2>\n",
      "[Telescope] delta Alt = +000.002 | delta Az= +000.009 [Dome] delta Az = -000.231\n",
      "[Telescope] delta Alt = +000.002 | delta Az= -000.003 [Dome] delta Az = -000.231\n",
      "Axes in position.\n",
      "None\n"
     ]
    }
   ],
   "source": [
    "#HD60753\n",
    "#target off detector \n",
    "await attcs.slew_object(name = \"HD 34816\",  rot_pa=0.0, slew_timeout=240.)"
   ]
  },
  {
   "cell_type": "code",
   "execution_count": 30,
   "metadata": {},
   "outputs": [
    {
     "name": "stdout",
     "output_type": "stream",
     "text": [
      "Slewing to HD 34816: 05 19 34.5240 -13 10 36.440\n",
      "Sending command\n",
      "Stop tracking.\n",
      "Mount tracking state is 9\n",
      "Tracking state: 10.\n",
      "Tracking state: 8.\n",
      "In Position: True.\n",
      "In Position: False.\n",
      "Scheduling check coroutines\n",
      "process as completed...\n",
      "Got False\n",
      "Telescope not in position\n",
      "atmcs: <State.ENABLED: 2>\n",
      "atptg: <State.ENABLED: 2>\n",
      "ataos: <State.ENABLED: 2>\n",
      "atpneumatics: <State.ENABLED: 2>\n",
      "athexapod: <State.ENABLED: 2>\n",
      "atdome: <State.ENABLED: 2>\n",
      "[Telescope] delta Alt = +000.004 | delta Az= -000.008 [Dome] delta Az = -000.231\n",
      "[Telescope] delta Alt = +000.002 | delta Az= +000.001 [Dome] delta Az = -000.231\n",
      "Axes in position.\n",
      "None\n",
      "RemoteEvent(ATMCS, 0, target) falling behind; read 20 messages\n",
      "RemoteEvent(ATMCS, 0, target) falling behind; read 23 messages\n",
      "RemoteEvent(ATDomeTrajectory, 0, logMessage) falling behind; read 10 messages\n",
      "RemoteEvent(ATMCS, 0, target) falling behind; read 58 messages\n",
      "RemoteEvent(ATDomeTrajectory, 0, logMessage) falling behind; read 10 messages\n",
      "RemoteEvent(ATMCS, 0, target) falling behind; read 21 messages\n",
      "RemoteEvent(ATHeaderService, 0, logMessage) falling behind; read 11 messages\n",
      "RemoteEvent(ATHeaderService, 0, logMessage) falling behind; read 10 messages\n",
      "RemoteEvent(ATHeaderService, 0, logMessage) falling behind; read 10 messages\n",
      "RemoteEvent(ATHeaderService, 0, logMessage) falling behind; read 10 messages\n",
      "RemoteEvent(ATHeaderService, 0, logMessage) falling behind; read 11 messages\n",
      "RemoteEvent(ATHeaderService, 0, logMessage) falling behind; read 15 messages\n",
      "RemoteEvent(ATHeaderService, 0, logMessage) falling behind; read 12 messages\n",
      "RemoteEvent(ATHeaderService, 0, logMessage) falling behind; read 10 messages\n",
      "RemoteEvent(ATHeaderService, 0, logMessage) falling behind; read 11 messages\n",
      "RemoteEvent(ATHeaderService, 0, logMessage) falling behind; read 11 messages\n",
      "RemoteEvent(ATHeaderService, 0, logMessage) falling behind; read 10 messages\n",
      "RemoteEvent(ATHeaderService, 0, logMessage) falling behind; read 52 messages\n",
      "RemoteEvent(ATHeaderService, 0, logMessage) falling behind; read 12 messages\n",
      "RemoteEvent(ATHeaderService, 0, logMessage) falling behind; read 10 messages\n",
      "RemoteEvent(ATHeaderService, 0, logMessage) falling behind; read 10 messages\n"
     ]
    }
   ],
   "source": [
    "#HD60753\n",
    "#target off detector \n",
    "await attcs.slew_object(name = \"HD 34816\",  rot_pa=74.0, slew_timeout=240.)"
   ]
  },
  {
   "cell_type": "code",
   "execution_count": null,
   "metadata": {},
   "outputs": [],
   "source": []
  }
 ],
 "metadata": {
  "kernelspec": {
   "display_name": "LSST",
   "language": "python",
   "name": "lsst"
  },
  "language_info": {
   "codemirror_mode": {
    "name": "ipython",
    "version": 3
   },
   "file_extension": ".py",
   "mimetype": "text/x-python",
   "name": "python",
   "nbconvert_exporter": "python",
   "pygments_lexer": "ipython3",
   "version": "3.7.6"
  }
 },
 "nbformat": 4,
 "nbformat_minor": 4
}
