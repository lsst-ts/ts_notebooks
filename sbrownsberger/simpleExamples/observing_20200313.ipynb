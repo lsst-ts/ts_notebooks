{
 "cells": [
  {
   "cell_type": "code",
   "execution_count": 1,
   "metadata": {},
   "outputs": [],
   "source": [
    "import sys\n",
    "import os\n",
    "import asyncio\n",
    "import logging\n",
    "import time\n",
    "\n",
    "import numpy as np\n",
    "\n",
    "from lsst.ts import salobj\n",
    "\n",
    "\n",
    "from lsst.ts.standardscripts.auxtel.attcs import ATTCS\n",
    "from lsst.ts.standardscripts.auxtel.latiss import LATISS"
   ]
  },
  {
   "cell_type": "code",
   "execution_count": 2,
   "metadata": {},
   "outputs": [],
   "source": [
    "os.environ[\"LSST_DDS_DOMAIN\"] = 'lsatmcs'\n",
    "os.environ[\"OSPL_URI\"] = \"file:///home/sashabrownsberger/ospl.xml\""
   ]
  },
  {
   "cell_type": "code",
   "execution_count": 3,
   "metadata": {},
   "outputs": [],
   "source": [
    "stream_handler = logging.StreamHandler(sys.stdout)\n",
    "logger = logging.getLogger()\n",
    "logger.addHandler(stream_handler)\n",
    "logger.level = logging.DEBUG"
   ]
  },
  {
   "cell_type": "code",
   "execution_count": 4,
   "metadata": {},
   "outputs": [],
   "source": [
    "domain = salobj.Domain()\n",
    "attcs = ATTCS(domain)\n",
    "latiss = LATISS(domain)"
   ]
  },
  {
   "cell_type": "code",
   "execution_count": 5,
   "metadata": {},
   "outputs": [
    {
     "name": "stdout",
     "output_type": "stream",
     "text": [
      "Read historical data in 17.00 sec\n",
      "Read historical data in 17.41 sec\n",
      "Read historical data in 17.74 sec\n",
      "Read historical data in 18.36 sec\n",
      "Read historical data in 18.61 sec\n",
      "Read historical data in 19.95 sec\n",
      "Read historical data in 20.94 sec\n",
      "Read historical data in 21.50 sec\n",
      "Read historical data in 22.07 sec\n",
      "Read historical data in 23.47 sec\n",
      "Read historical data in 26.77 sec\n",
      "RemoteEvent(ATHeaderService, 0, heartbeat) falling behind; read 11 messages\n",
      "RemoteEvent(ATDomeTrajectory, 0, logMessage) falling behind; read 100 messages\n",
      "RemoteTelemetry(ATHexapod, 0, positionStatus) falling behind; read 10 messages\n",
      "RemoteTelemetry(ATDome, 0, position) falling behind; read 36 messages\n",
      "RemoteEvent(ATDomeTrajectory, 0, heartbeat) falling behind; read 10 messages\n",
      "RemoteEvent(ATHexapod, 0, heartbeat) falling behind; read 11 messages\n"
     ]
    },
    {
     "data": {
      "text/plain": [
       "[[None, None, None, None, None, None, None], [None, None, None, None]]"
      ]
     },
     "execution_count": 5,
     "metadata": {},
     "output_type": "execute_result"
    },
    {
     "name": "stdout",
     "output_type": "stream",
     "text": [
      "RemoteEvent(ATDome, 0, doorEncoderExtremes) falling behind; read 40 messages\n",
      "RemoteEvent(ATPneumatics, 0, heartbeat) falling behind; read 10 messages\n"
     ]
    }
   ],
   "source": [
    "await asyncio.gather(attcs.start_task, latiss.start_task)"
   ]
  },
  {
   "cell_type": "code",
   "execution_count": 5,
   "metadata": {},
   "outputs": [
    {
     "name": "stdout",
     "output_type": "stream",
     "text": [
      "RemoteTelemetry(ATPtg, 0, timeAndDate) falling behind; read 18 messages\n",
      "RemoteEvent(ATAOS, 0, heartbeat) falling behind; read 10 messages\n",
      "RemoteEvent(ATDome, 0, doorEncoderExtremes) falling behind; read 40 messages\n",
      "RemoteTelemetry(ATPtg, 0, mountStatus) falling behind; read 20 messages\n",
      "RemoteTelemetry(ATPtg, 0, guidingAndOffsets) falling behind; read 20 messages\n",
      "Gathering settings.\n",
      "No settings for atmcs.\n",
      "Using                                                                                                                                 from settingVersions event.\n",
      "No settings for atptg.\n",
      "RemoteTelemetry(ATPtg, 0, currentTargetStatus) falling behind; read 21 messages\n",
      "Couldn't get settingVersions event. Using empty settings.\n",
      "No settings for ataos.\n",
      "Using current from settingVersions event.\n",
      "No settings for atpneumatics.\n",
      "Using                                                                                                                                 from settingVersions event.\n",
      "No settings for athexapod.\n",
      "Using current from settingVersions event.\n",
      "No settings for atdome.\n",
      "Using test from settingVersions event.\n",
      "No settings for atdometrajectory.\n",
      "Using  from settingVersions event.\n",
      "Settings versions: {'atmcs': '                                                                                                                               ', 'atptg': '', 'ataos': 'current', 'atpneumatics': '                                                                                                                               ', 'athexapod': 'current', 'atdome': 'test', 'atdometrajectory': ''}\n",
      "Enabling all components\n",
      "Enabling  atmcs\n",
      "Enabling  atptg\n",
      "Enabling  ataos\n",
      "Enabling  atpneumatics\n",
      "Enabling  athexapod\n",
      "Enabling  atdome\n",
      "Enabling  atdometrajectory\n",
      "[atmcs]::[<State.ENABLED: 2>]\n",
      "[atptg]::[<State.ENABLED: 2>]\n",
      "[ataos]::[<State.ENABLED: 2>]\n",
      "[atpneumatics]::[<State.ENABLED: 2>]\n",
      "[athexapod]::[<State.ENABLED: 2>]\n",
      "[atdome]::[<State.ENABLED: 2>]\n",
      "[atdometrajectory]::[<State.ENABLED: 2>]\n",
      "All components enabled.\n",
      "Gathering settings.\n",
      "No settings for atcamera.\n",
      "Using  from settingVersions event.\n",
      "No settings for atspectrograph.\n",
      "Using current from settingVersions event.\n",
      "No settings for atheaderservice.\n",
      "Couldn't get settingVersions event. Using empty settings.\n",
      "No settings for atarchiver.\n",
      "Using normal from settingVersions event.\n",
      "Settings versions: {'atcamera': '', 'atspectrograph': 'current', 'atheaderservice': '', 'atarchiver': 'normal'}\n",
      "Enabling all components\n",
      "Enabling  atcamera\n",
      "Enabling  atspectrograph\n",
      "Enabling  atheaderservice\n",
      "Enabling  atarchiver\n",
      "[atcamera]::[<State.ENABLED: 2>]\n",
      "[atspectrograph]::[<State.ENABLED: 2>]\n",
      "[atheaderservice]::[<State.ENABLED: 2>]\n",
      "[atarchiver]::[<State.ENABLED: 2>]\n",
      "All components enabled.\n"
     ]
    }
   ],
   "source": [
    "\n",
    "await attcs.enable()\n",
    "await latiss.enable() "
   ]
  },
  {
   "cell_type": "code",
   "execution_count": 6,
   "metadata": {},
   "outputs": [
    {
     "name": "stdout",
     "output_type": "stream",
     "text": [
      "Gathering settings.\n",
      "No settings for atmcs.\n",
      "Using                                                                                                                                 from settingVersions event.\n",
      "No settings for atptg.\n",
      "RemoteEvent(ATMCS, 0, target) falling behind; read 69 messages\n",
      "Couldn't get settingVersions event. Using empty settings.\n",
      "No settings for ataos.\n",
      "Using current from settingVersions event.\n",
      "No settings for atpneumatics.\n",
      "Using                                                                                                                                 from settingVersions event.\n",
      "No settings for athexapod.\n",
      "Using current from settingVersions event.\n",
      "No settings for atdome.\n",
      "Using test from settingVersions event.\n",
      "No settings for atdometrajectory.\n",
      "Using  from settingVersions event.\n",
      "Settings versions: {'atmcs': '                                                                                                                               ', 'atptg': '', 'ataos': 'current', 'atpneumatics': '                                                                                                                               ', 'athexapod': 'current', 'atdome': 'test', 'atdometrajectory': ''}\n",
      "Enabling all components\n",
      "Enabling  atmcs\n",
      "Enabling  atptg\n",
      "Enabling  ataos\n",
      "Enabling  atpneumatics\n",
      "Enabling  athexapod\n",
      "Enabling  atdome\n",
      "Enabling  atdometrajectory\n",
      "[atmcs]::[<State.ENABLED: 2>]\n",
      "[atptg]::[<State.ENABLED: 2>]\n",
      "[ataos]::[<State.ENABLED: 2>]\n",
      "[atpneumatics]::[<State.ENABLED: 2>]\n",
      "[athexapod]::[<State.ENABLED: 2>]\n",
      "[atdome]::[<State.ENABLED: 2>]\n",
      "[atdometrajectory]::[<State.ENABLED: 2>]\n",
      "All components enabled.\n",
      "Slew telescope to park position.\n",
      "Sending command\n",
      "Stop tracking.\n",
      "Mount tracking state is 9\n",
      "Tracking state: 10.\n",
      "Tracking state: 8.\n",
      "In Position: True.\n",
      "In Position: False.\n",
      "Scheduling check coroutines\n",
      "process as completed...\n",
      "Got False\n",
      "Telescope not in position\n",
      "atmcs: <State.ENABLED: 2>\n",
      "atptg: <State.ENABLED: 2>\n",
      "ataos: <State.ENABLED: 2>\n",
      "atpneumatics: <State.ENABLED: 2>\n",
      "athexapod: <State.ENABLED: 2>\n",
      "[Telescope] delta Alt = +025.242 | delta Az= +068.596\n",
      "[Telescope] delta Alt = +025.312 | delta Az= +066.598\n",
      "[Telescope] delta Alt = +024.851 | delta Az= +062.608\n",
      "[Telescope] delta Alt = +023.473 | delta Az= +058.608\n",
      "[Telescope] delta Alt = +022.396 | delta Az= +056.607\n",
      "RemoteEvent(ATMCS, 0, target) falling behind; read 38 messages\n",
      "[Telescope] delta Alt = +013.963 | delta Az= +046.608\n",
      "[Telescope] delta Alt = +011.967 | delta Az= +044.607\n",
      "[Telescope] delta Alt = +008.095 | delta Az= +040.608\n",
      "[Telescope] delta Alt = +004.730 | delta Az= +036.608\n",
      "[Telescope] delta Alt = +002.195 | delta Az= +032.607\n",
      "[Telescope] delta Alt = +000.668 | delta Az= +028.609\n"
     ]
    },
    {
     "ename": "CancelledError",
     "evalue": "",
     "output_type": "error",
     "traceback": [
      "\u001b[0;31m---------------------------------------------------------------------------\u001b[0m",
      "\u001b[0;31mCancelledError\u001b[0m                            Traceback (most recent call last)",
      "\u001b[0;32m<ipython-input-6-4b9d06eeed0e>\u001b[0m in \u001b[0;36masync-def-wrapper\u001b[0;34m()\u001b[0m\n\u001b[1;32m      4\u001b[0m \u001b[0;31m#You may want to verify that the dome is open\u001b[0m\u001b[0;34m\u001b[0m\u001b[0;34m\u001b[0m\u001b[0;34m\u001b[0m\u001b[0m\n",
      "\u001b[0;32m~/repos/ts_standardscripts/python/lsst/ts/standardscripts/auxtel/attcs.py\u001b[0m in \u001b[0;36mstartup\u001b[0;34m(self, settings)\u001b[0m\n\u001b[1;32m    562\u001b[0m                               \u001b[0maz\u001b[0m\u001b[0;34m=\u001b[0m\u001b[0mself\u001b[0m\u001b[0;34m.\u001b[0m\u001b[0mtel_park_az\u001b[0m\u001b[0;34m,\u001b[0m\u001b[0;34m\u001b[0m\u001b[0;34m\u001b[0m\u001b[0m\n\u001b[1;32m    563\u001b[0m                               \u001b[0mel\u001b[0m\u001b[0;34m=\u001b[0m\u001b[0mself\u001b[0m\u001b[0;34m.\u001b[0m\u001b[0mtel_park_el\u001b[0m\u001b[0;34m,\u001b[0m\u001b[0;34m\u001b[0m\u001b[0;34m\u001b[0m\u001b[0m\n\u001b[0;32m--> 564\u001b[0;31m                               wait_dome=False)\n\u001b[0m\u001b[1;32m    565\u001b[0m         \u001b[0mself\u001b[0m\u001b[0;34m.\u001b[0m\u001b[0mcheck\u001b[0m\u001b[0;34m.\u001b[0m\u001b[0matdome\u001b[0m \u001b[0;34m=\u001b[0m \u001b[0matdome_check\u001b[0m\u001b[0;34m\u001b[0m\u001b[0;34m\u001b[0m\u001b[0m\n\u001b[1;32m    566\u001b[0m \u001b[0;34m\u001b[0m\u001b[0m\n",
      "\u001b[0;32m~/repos/ts_standardscripts/python/lsst/ts/standardscripts/auxtel/attcs.py\u001b[0m in \u001b[0;36mpoint_azel\u001b[0;34m(self, az, el, rot_pa, target_name, wait_dome, slew_timeout, track_id)\u001b[0m\n\u001b[1;32m    132\u001b[0m             \u001b[0mself\u001b[0m\u001b[0;34m.\u001b[0m\u001b[0mcheck\u001b[0m\u001b[0;34m.\u001b[0m\u001b[0matdome\u001b[0m \u001b[0;34m=\u001b[0m \u001b[0mcheck_atdome\u001b[0m\u001b[0;34m\u001b[0m\u001b[0;34m\u001b[0m\u001b[0m\n\u001b[1;32m    133\u001b[0m             \u001b[0mself\u001b[0m\u001b[0;34m.\u001b[0m\u001b[0mcheck\u001b[0m\u001b[0;34m.\u001b[0m\u001b[0matdometrajectory\u001b[0m \u001b[0;34m=\u001b[0m \u001b[0mcheck_atdometrajectory\u001b[0m\u001b[0;34m\u001b[0m\u001b[0;34m\u001b[0m\u001b[0m\n\u001b[0;32m--> 134\u001b[0;31m             \u001b[0;32mraise\u001b[0m \u001b[0me\u001b[0m\u001b[0;34m\u001b[0m\u001b[0;34m\u001b[0m\u001b[0m\n\u001b[0m\u001b[1;32m    135\u001b[0m \u001b[0;34m\u001b[0m\u001b[0m\n\u001b[1;32m    136\u001b[0m     \u001b[0;32masync\u001b[0m \u001b[0;32mdef\u001b[0m \u001b[0mstart_tracking\u001b[0m\u001b[0;34m(\u001b[0m\u001b[0mself\u001b[0m\u001b[0;34m)\u001b[0m\u001b[0;34m:\u001b[0m\u001b[0;34m\u001b[0m\u001b[0;34m\u001b[0m\u001b[0m\n",
      "\u001b[0;32m~/repos/ts_standardscripts/python/lsst/ts/standardscripts/auxtel/attcs.py\u001b[0m in \u001b[0;36mpoint_azel\u001b[0;34m(self, az, el, rot_pa, target_name, wait_dome, slew_timeout, track_id)\u001b[0m\n\u001b[1;32m    128\u001b[0m         \u001b[0;32mtry\u001b[0m\u001b[0;34m:\u001b[0m\u001b[0;34m\u001b[0m\u001b[0;34m\u001b[0m\u001b[0m\n\u001b[1;32m    129\u001b[0m             await self._slew_to(self.atptg.cmd_azElTarget,\n\u001b[0;32m--> 130\u001b[0;31m                                 slew_timeout=slew_timeout)\n\u001b[0m\u001b[1;32m    131\u001b[0m         \u001b[0;32mexcept\u001b[0m \u001b[0mException\u001b[0m \u001b[0;32mas\u001b[0m \u001b[0me\u001b[0m\u001b[0;34m:\u001b[0m\u001b[0;34m\u001b[0m\u001b[0;34m\u001b[0m\u001b[0m\n\u001b[1;32m    132\u001b[0m             \u001b[0mself\u001b[0m\u001b[0;34m.\u001b[0m\u001b[0mcheck\u001b[0m\u001b[0;34m.\u001b[0m\u001b[0matdome\u001b[0m \u001b[0;34m=\u001b[0m \u001b[0mcheck_atdome\u001b[0m\u001b[0;34m\u001b[0m\u001b[0;34m\u001b[0m\u001b[0m\n",
      "\u001b[0;32m~/repos/ts_standardscripts/python/lsst/ts/standardscripts/auxtel/attcs.py\u001b[0m in \u001b[0;36m_slew_to\u001b[0;34m(self, slew_cmd, slew_timeout)\u001b[0m\n\u001b[1;32m    847\u001b[0m         \u001b[0;32mfor\u001b[0m \u001b[0mres\u001b[0m \u001b[0;32min\u001b[0m \u001b[0masyncio\u001b[0m\u001b[0;34m.\u001b[0m\u001b[0mas_completed\u001b[0m\u001b[0;34m(\u001b[0m\u001b[0mself\u001b[0m\u001b[0;34m.\u001b[0m\u001b[0mscheduled_coro\u001b[0m\u001b[0;34m)\u001b[0m\u001b[0;34m:\u001b[0m\u001b[0;34m\u001b[0m\u001b[0;34m\u001b[0m\u001b[0m\n\u001b[1;32m    848\u001b[0m             \u001b[0;32mtry\u001b[0m\u001b[0;34m:\u001b[0m\u001b[0;34m\u001b[0m\u001b[0;34m\u001b[0m\u001b[0m\n\u001b[0;32m--> 849\u001b[0;31m                 \u001b[0mret_val\u001b[0m \u001b[0;34m=\u001b[0m \u001b[0;32mawait\u001b[0m \u001b[0mres\u001b[0m\u001b[0;34m\u001b[0m\u001b[0;34m\u001b[0m\u001b[0m\n\u001b[0m\u001b[1;32m    850\u001b[0m                 \u001b[0mself\u001b[0m\u001b[0;34m.\u001b[0m\u001b[0mlog\u001b[0m\u001b[0;34m.\u001b[0m\u001b[0mdebug\u001b[0m\u001b[0;34m(\u001b[0m\u001b[0mret_val\u001b[0m\u001b[0;34m)\u001b[0m\u001b[0;34m\u001b[0m\u001b[0;34m\u001b[0m\u001b[0m\n\u001b[1;32m    851\u001b[0m             \u001b[0;32mexcept\u001b[0m \u001b[0mRuntimeError\u001b[0m \u001b[0;32mas\u001b[0m \u001b[0mrte\u001b[0m\u001b[0;34m:\u001b[0m\u001b[0;34m\u001b[0m\u001b[0;34m\u001b[0m\u001b[0m\n",
      "\u001b[0;32m/opt/lsst/software/stack/python/miniconda3-4.7.12/envs/lsst-scipipe-984c9f7/lib/python3.7/asyncio/tasks.py\u001b[0m in \u001b[0;36m_wait_for_one\u001b[0;34m()\u001b[0m\n\u001b[1;32m    554\u001b[0m \u001b[0;34m\u001b[0m\u001b[0m\n\u001b[1;32m    555\u001b[0m     \u001b[0;32masync\u001b[0m \u001b[0;32mdef\u001b[0m \u001b[0m_wait_for_one\u001b[0m\u001b[0;34m(\u001b[0m\u001b[0;34m)\u001b[0m\u001b[0;34m:\u001b[0m\u001b[0;34m\u001b[0m\u001b[0;34m\u001b[0m\u001b[0m\n\u001b[0;32m--> 556\u001b[0;31m         \u001b[0mf\u001b[0m \u001b[0;34m=\u001b[0m \u001b[0;32mawait\u001b[0m \u001b[0mdone\u001b[0m\u001b[0;34m.\u001b[0m\u001b[0mget\u001b[0m\u001b[0;34m(\u001b[0m\u001b[0;34m)\u001b[0m\u001b[0;34m\u001b[0m\u001b[0;34m\u001b[0m\u001b[0m\n\u001b[0m\u001b[1;32m    557\u001b[0m         \u001b[0;32mif\u001b[0m \u001b[0mf\u001b[0m \u001b[0;32mis\u001b[0m \u001b[0;32mNone\u001b[0m\u001b[0;34m:\u001b[0m\u001b[0;34m\u001b[0m\u001b[0;34m\u001b[0m\u001b[0m\n\u001b[1;32m    558\u001b[0m             \u001b[0;31m# Dummy value from _on_timeout().\u001b[0m\u001b[0;34m\u001b[0m\u001b[0;34m\u001b[0m\u001b[0;34m\u001b[0m\u001b[0m\n",
      "\u001b[0;32m/opt/lsst/software/stack/python/miniconda3-4.7.12/envs/lsst-scipipe-984c9f7/lib/python3.7/asyncio/queues.py\u001b[0m in \u001b[0;36mget\u001b[0;34m(self)\u001b[0m\n\u001b[1;32m    157\u001b[0m             \u001b[0mself\u001b[0m\u001b[0;34m.\u001b[0m\u001b[0m_getters\u001b[0m\u001b[0;34m.\u001b[0m\u001b[0mappend\u001b[0m\u001b[0;34m(\u001b[0m\u001b[0mgetter\u001b[0m\u001b[0;34m)\u001b[0m\u001b[0;34m\u001b[0m\u001b[0;34m\u001b[0m\u001b[0m\n\u001b[1;32m    158\u001b[0m             \u001b[0;32mtry\u001b[0m\u001b[0;34m:\u001b[0m\u001b[0;34m\u001b[0m\u001b[0;34m\u001b[0m\u001b[0m\n\u001b[0;32m--> 159\u001b[0;31m                 \u001b[0;32mawait\u001b[0m \u001b[0mgetter\u001b[0m\u001b[0;34m\u001b[0m\u001b[0;34m\u001b[0m\u001b[0m\n\u001b[0m\u001b[1;32m    160\u001b[0m             \u001b[0;32mexcept\u001b[0m\u001b[0;34m:\u001b[0m\u001b[0;34m\u001b[0m\u001b[0;34m\u001b[0m\u001b[0m\n\u001b[1;32m    161\u001b[0m                 \u001b[0mgetter\u001b[0m\u001b[0;34m.\u001b[0m\u001b[0mcancel\u001b[0m\u001b[0;34m(\u001b[0m\u001b[0;34m)\u001b[0m  \u001b[0;31m# Just in case getter is not done yet.\u001b[0m\u001b[0;34m\u001b[0m\u001b[0;34m\u001b[0m\u001b[0m\n",
      "\u001b[0;31mCancelledError\u001b[0m: "
     ]
    },
    {
     "name": "stdout",
     "output_type": "stream",
     "text": [
      "[Telescope] delta Alt = +000.063 | delta Az= +024.631\n",
      "[Telescope] delta Alt = -000.000 | delta Az= +020.719\n",
      "[Telescope] delta Alt = -000.000 | delta Az= +016.942\n",
      "[Telescope] delta Alt = -000.000 | delta Az= +013.384\n",
      "[Telescope] delta Alt = +000.000 | delta Az= +010.125\n",
      "[Telescope] delta Alt = +000.000 | delta Az= +007.252\n",
      "[Telescope] delta Alt = +000.000 | delta Az= +004.831\n",
      "[Telescope] delta Alt = +000.000 | delta Az= +002.912\n",
      "[Telescope] delta Alt = +000.000 | delta Az= +002.147\n",
      "[Telescope] delta Alt = +000.000 | delta Az= +001.004\n",
      "[Telescope] delta Alt = +000.000 | delta Az= +000.336\n",
      "[Telescope] delta Alt = +000.000 | delta Az= +000.050\n",
      "[Telescope] delta Alt = +000.000 | delta Az= -000.000\n",
      "Axes in position.\n"
     ]
    }
   ],
   "source": [
    "# !!!! STOP !!!!\n",
    "#This command will open the dome and.  Do not run until the sky is sufficiently dark! \n",
    "await attcs.startup()\n",
    "#You may want to verify that the dome is open"
   ]
  },
  {
   "cell_type": "code",
   "execution_count": 7,
   "metadata": {},
   "outputs": [
    {
     "name": "stdout",
     "output_type": "stream",
     "text": [
      "Got True\n",
      "Waiting for telescope to settle.\n",
      "Telescope in position.\n"
     ]
    },
    {
     "data": {
      "text/plain": [
       "[<ddsutil.ATPtg_ackcmd_2d655b72 at 0x7f47bdaaacd0>,\n",
       " <ddsutil.ATDome_ackcmd_ff080bab at 0x7f47a9f1f050>,\n",
       " AckTimeoutError(msg='Timed out waiting for command acknowledgement', ackcmd=(ackcmd private_seqNum=1847128462, ack=<SalRetCode.CMD_ACK: 300>, error=0, result='SAL ACK'))]"
      ]
     },
     "execution_count": 7,
     "metadata": {},
     "output_type": "execute_result"
    }
   ],
   "source": [
    "await attcs.stop_all()"
   ]
  },
  {
   "cell_type": "code",
   "execution_count": 8,
   "metadata": {},
   "outputs": [
    {
     "data": {
      "text/plain": [
       "[<Task pending coro=<ATTCS.wait_for_inposition() running at /home/sashabrownsberger/repos/ts_standardscripts/python/lsst/ts/standardscripts/auxtel/attcs.py:938> wait_for=<Future pending cb=[<TaskWakeupMethWrapper object at 0x7f47bdb7b150>()]> cb=[as_completed.<locals>._on_completion() at /opt/lsst/software/stack/python/miniconda3-4.7.12/envs/lsst-scipipe-984c9f7/lib/python3.7/asyncio/tasks.py:547]>,\n",
       " <Task finished coro=<ATTCS.monitor_position() done, defined at /home/sashabrownsberger/repos/ts_standardscripts/python/lsst/ts/standardscripts/auxtel/attcs.py:1064> result=None>,\n",
       " <Task pending coro=<BaseGroup.check_component_state() running at /home/sashabrownsberger/repos/ts_standardscripts/python/lsst/ts/standardscripts/base_group.py:92> wait_for=<Future pending cb=[<TaskWakeupMethWrapper object at 0x7f47bd983950>()]> cb=[as_completed.<locals>._on_completion() at /opt/lsst/software/stack/python/miniconda3-4.7.12/envs/lsst-scipipe-984c9f7/lib/python3.7/asyncio/tasks.py:547]>,\n",
       " <Task pending coro=<BaseGroup.check_component_state() running at /home/sashabrownsberger/repos/ts_standardscripts/python/lsst/ts/standardscripts/base_group.py:92> wait_for=<Future pending cb=[<TaskWakeupMethWrapper object at 0x7f47a9f6e210>()]> cb=[as_completed.<locals>._on_completion() at /opt/lsst/software/stack/python/miniconda3-4.7.12/envs/lsst-scipipe-984c9f7/lib/python3.7/asyncio/tasks.py:547]>,\n",
       " <Task pending coro=<BaseGroup.check_component_state() running at /home/sashabrownsberger/repos/ts_standardscripts/python/lsst/ts/standardscripts/base_group.py:92> wait_for=<Future pending cb=[<TaskWakeupMethWrapper object at 0x7f47a9f72dd0>()]> cb=[as_completed.<locals>._on_completion() at /opt/lsst/software/stack/python/miniconda3-4.7.12/envs/lsst-scipipe-984c9f7/lib/python3.7/asyncio/tasks.py:547]>,\n",
       " <Task pending coro=<BaseGroup.check_component_state() running at /home/sashabrownsberger/repos/ts_standardscripts/python/lsst/ts/standardscripts/base_group.py:92> wait_for=<Future pending cb=[<TaskWakeupMethWrapper object at 0x7f47a9f67450>()]> cb=[as_completed.<locals>._on_completion() at /opt/lsst/software/stack/python/miniconda3-4.7.12/envs/lsst-scipipe-984c9f7/lib/python3.7/asyncio/tasks.py:547]>,\n",
       " <Task pending coro=<BaseGroup.check_component_state() running at /home/sashabrownsberger/repos/ts_standardscripts/python/lsst/ts/standardscripts/base_group.py:92> wait_for=<Future pending cb=[<TaskWakeupMethWrapper object at 0x7f47bd983710>()]> cb=[as_completed.<locals>._on_completion() at /opt/lsst/software/stack/python/miniconda3-4.7.12/envs/lsst-scipipe-984c9f7/lib/python3.7/asyncio/tasks.py:547]>]"
      ]
     },
     "execution_count": 8,
     "metadata": {},
     "output_type": "execute_result"
    }
   ],
   "source": [
    "#check if tasks are pending\n",
    "attcs.scheduled_coro"
   ]
  },
  {
   "cell_type": "code",
   "execution_count": 9,
   "metadata": {},
   "outputs": [],
   "source": [
    "await attcs.cancel_not_done(attcs.scheduled_coro)"
   ]
  },
  {
   "cell_type": "code",
   "execution_count": null,
   "metadata": {},
   "outputs": [],
   "source": [
    "await attcs.atdome.cmd_openShutter.start() "
   ]
  },
  {
   "cell_type": "code",
   "execution_count": 7,
   "metadata": {},
   "outputs": [
    {
     "name": "stdout",
     "output_type": "stream",
     "text": [
      "Generating group_id\n",
      "BIAS 0001 - 0010\n",
      "Waiting for header service LFO before continuing\n",
      "BIAS 0002 - 0010\n",
      "Waiting for header service LFO before continuing\n",
      "BIAS 0003 - 0010\n",
      "RemoteEvent(ATHeaderService, 0, logMessage) falling behind; read 21 messages\n",
      "Waiting for header service LFO before continuing\n",
      "BIAS 0004 - 0010\n",
      "Waiting for header service LFO before continuing\n",
      "BIAS 0005 - 0010\n",
      "RemoteEvent(ATHeaderService, 0, logMessage) falling behind; read 10 messages\n",
      "Waiting for header service LFO before continuing\n",
      "BIAS 0006 - 0010\n",
      "Waiting for header service LFO before continuing\n",
      "BIAS 0007 - 0010\n",
      "Waiting for header service LFO before continuing\n",
      "BIAS 0008 - 0010\n",
      "Waiting for header service LFO before continuing\n",
      "BIAS 0009 - 0010\n",
      "RemoteEvent(ATHeaderService, 0, logMessage) falling behind; read 10 messages\n",
      "Waiting for header service LFO before continuing\n",
      "BIAS 0010 - 0010\n",
      "Waiting for header service LFO before continuing\n",
      "The bias data id(s) are: [2020031200033 2020031200034 2020031200035 2020031200036 2020031200037\n",
      " 2020031200038 2020031200039 2020031200040 2020031200041 2020031200042]\n"
     ]
    }
   ],
   "source": [
    "#Let's take some biases \n",
    "bias_data_id_list = await latiss.take_bias(nbias=10)\n",
    "print ('The bias data id(s) are: ' + str(bias_data_id_list)) "
   ]
  },
  {
   "cell_type": "code",
   "execution_count": 8,
   "metadata": {},
   "outputs": [
    {
     "name": "stdout",
     "output_type": "stream",
     "text": [
      "Generating group_id\n",
      "BIAS 0001 - 0010\n",
      "Waiting for header service LFO before continuing\n",
      "BIAS 0002 - 0010\n",
      "Waiting for header service LFO before continuing\n",
      "BIAS 0003 - 0010\n",
      "Waiting for header service LFO before continuing\n",
      "BIAS 0004 - 0010\n",
      "Waiting for header service LFO before continuing\n",
      "BIAS 0005 - 0010\n",
      "Waiting for header service LFO before continuing\n",
      "BIAS 0006 - 0010\n",
      "Waiting for header service LFO before continuing\n",
      "BIAS 0007 - 0010\n",
      "RemoteEvent(ATHeaderService, 0, logMessage) falling behind; read 14 messages\n",
      "Waiting for header service LFO before continuing\n",
      "BIAS 0008 - 0010\n",
      "Waiting for header service LFO before continuing\n",
      "BIAS 0009 - 0010\n",
      "Waiting for header service LFO before continuing\n",
      "BIAS 0010 - 0010\n",
      "Waiting for header service LFO before continuing\n",
      "The bias data id(s) are: [2020031200043 2020031200044 2020031200045 2020031200046 2020031200047\n",
      " 2020031200048 2020031200049 2020031200050 2020031200051 2020031200052]\n"
     ]
    }
   ],
   "source": [
    "#Let's take some biases \n",
    "bias_data_id_list = await latiss.take_bias(nbias=10)\n",
    "print ('The bias data id(s) are: ' + str(bias_data_id_list)) "
   ]
  },
  {
   "cell_type": "code",
   "execution_count": 9,
   "metadata": {},
   "outputs": [
    {
     "name": "stdout",
     "output_type": "stream",
     "text": [
      "Generating group_id\n",
      "BIAS 0001 - 0010\n",
      "Waiting for header service LFO before continuing\n",
      "BIAS 0002 - 0010\n",
      "Waiting for header service LFO before continuing\n",
      "RemoteEvent(ATHeaderService, 0, logMessage) falling behind; read 10 messages\n",
      "BIAS 0003 - 0010\n",
      "Waiting for header service LFO before continuing\n",
      "BIAS 0004 - 0010\n",
      "Waiting for header service LFO before continuing\n",
      "BIAS 0005 - 0010\n",
      "Waiting for header service LFO before continuing\n",
      "BIAS 0006 - 0010\n",
      "Waiting for header service LFO before continuing\n",
      "RemoteEvent(ATHeaderService, 0, logMessage) falling behind; read 10 messages\n",
      "BIAS 0007 - 0010\n",
      "Waiting for header service LFO before continuing\n",
      "RemoteEvent(ATHeaderService, 0, logMessage) falling behind; read 12 messages\n",
      "BIAS 0008 - 0010\n",
      "Waiting for header service LFO before continuing\n",
      "BIAS 0009 - 0010\n",
      "Waiting for header service LFO before continuing\n",
      "BIAS 0010 - 0010\n",
      "Waiting for header service LFO before continuing\n",
      "The bias data id(s) are: [2020031200053 2020031200054 2020031200055 2020031200056 2020031200057\n",
      " 2020031200058 2020031200059 2020031200060 2020031200061 2020031200062]\n"
     ]
    }
   ],
   "source": [
    "#Let's take some biases \n",
    "bias_data_id_list = await latiss.take_bias(nbias=10)\n",
    "print ('The bias data id(s) are: ' + str(bias_data_id_list)) "
   ]
  },
  {
   "cell_type": "code",
   "execution_count": 10,
   "metadata": {},
   "outputs": [
    {
     "name": "stdout",
     "output_type": "stream",
     "text": [
      "Generating group_id\n",
      "BIAS 0001 - 0010\n",
      "Waiting for header service LFO before continuing\n",
      "BIAS 0002 - 0010\n",
      "Waiting for header service LFO before continuing\n",
      "BIAS 0003 - 0010\n",
      "Waiting for header service LFO before continuing\n",
      "BIAS 0004 - 0010\n",
      "Waiting for header service LFO before continuing\n",
      "BIAS 0005 - 0010\n",
      "Waiting for header service LFO before continuing\n",
      "BIAS 0006 - 0010\n",
      "Waiting for header service LFO before continuing\n",
      "BIAS 0007 - 0010\n",
      "Waiting for header service LFO before continuing\n",
      "BIAS 0008 - 0010\n",
      "Waiting for header service LFO before continuing\n",
      "RemoteEvent(ATHeaderService, 0, logMessage) falling behind; read 11 messages\n",
      "BIAS 0009 - 0010\n",
      "Waiting for header service LFO before continuing\n",
      "BIAS 0010 - 0010\n",
      "Waiting for header service LFO before continuing\n",
      "RemoteEvent(ATHeaderService, 0, logMessage) falling behind; read 10 messages\n",
      "The bias data id(s) are: [2020031200063 2020031200064 2020031200065 2020031200066 2020031200067\n",
      " 2020031200068 2020031200069 2020031200070 2020031200071 2020031200072]\n"
     ]
    }
   ],
   "source": [
    "#Let's take some biases \n",
    "bias_data_id_list = await latiss.take_bias(nbias=10)\n",
    "print ('The bias data id(s) are: ' + str(bias_data_id_list)) "
   ]
  },
  {
   "cell_type": "code",
   "execution_count": 11,
   "metadata": {},
   "outputs": [
    {
     "name": "stdout",
     "output_type": "stream",
     "text": [
      "Generating group_id\n",
      "BIAS 0001 - 0010\n",
      "Waiting for header service LFO before continuing\n",
      "BIAS 0002 - 0010\n",
      "Waiting for header service LFO before continuing\n",
      "BIAS 0003 - 0010\n",
      "Waiting for header service LFO before continuing\n",
      "BIAS 0004 - 0010\n",
      "Waiting for header service LFO before continuing\n",
      "BIAS 0005 - 0010\n",
      "Waiting for header service LFO before continuing\n",
      "BIAS 0006 - 0010\n",
      "RemoteEvent(ATHeaderService, 0, logMessage) falling behind; read 11 messages\n",
      "Waiting for header service LFO before continuing\n",
      "BIAS 0007 - 0010\n",
      "Waiting for header service LFO before continuing\n",
      "BIAS 0008 - 0010\n",
      "Waiting for header service LFO before continuing\n",
      "BIAS 0009 - 0010\n",
      "Waiting for header service LFO before continuing\n",
      "BIAS 0010 - 0010\n",
      "Waiting for header service LFO before continuing\n",
      "The bias data id(s) are: [2020031200073 2020031200074 2020031200075 2020031200076 2020031200077\n",
      " 2020031200078 2020031200079 2020031200080 2020031200081 2020031200082]\n"
     ]
    }
   ],
   "source": [
    "#Let's take some biases \n",
    "bias_data_id_list = await latiss.take_bias(nbias=10)\n",
    "print ('The bias data id(s) are: ' + str(bias_data_id_list))"
   ]
  },
  {
   "cell_type": "code",
   "execution_count": 12,
   "metadata": {},
   "outputs": [
    {
     "name": "stdout",
     "output_type": "stream",
     "text": [
      "Generating group_id\n",
      "BIAS 0001 - 0010\n",
      "Waiting for header service LFO before continuing\n",
      "RemoteEvent(ATHeaderService, 0, logMessage) falling behind; read 14 messages\n",
      "BIAS 0002 - 0010\n",
      "Waiting for header service LFO before continuing\n",
      "BIAS 0003 - 0010\n",
      "RemoteEvent(ATHeaderService, 0, logMessage) falling behind; read 10 messages\n",
      "Waiting for header service LFO before continuing\n",
      "BIAS 0004 - 0010\n",
      "Waiting for header service LFO before continuing\n",
      "BIAS 0005 - 0010\n",
      "Waiting for header service LFO before continuing\n",
      "BIAS 0006 - 0010\n",
      "Waiting for header service LFO before continuing\n",
      "BIAS 0007 - 0010\n",
      "Waiting for header service LFO before continuing\n",
      "BIAS 0008 - 0010\n",
      "Waiting for header service LFO before continuing\n",
      "BIAS 0009 - 0010\n",
      "Waiting for header service LFO before continuing\n",
      "BIAS 0010 - 0010\n",
      "Waiting for header service LFO before continuing\n",
      "The bias data id(s) are: [2020031200083 2020031200084 2020031200085 2020031200086 2020031200087\n",
      " 2020031200088 2020031200089 2020031200090 2020031200091 2020031200092]\n"
     ]
    }
   ],
   "source": [
    "#Let's take some biases \n",
    "bias_data_id_list = await latiss.take_bias(nbias=10)\n",
    "print ('The bias data id(s) are: ' + str(bias_data_id_list)) "
   ]
  },
  {
   "cell_type": "code",
   "execution_count": 13,
   "metadata": {},
   "outputs": [
    {
     "name": "stdout",
     "output_type": "stream",
     "text": [
      "Generating group_id\n",
      "BIAS 0001 - 0010\n",
      "Waiting for header service LFO before continuing\n",
      "BIAS 0002 - 0010\n",
      "Waiting for header service LFO before continuing\n",
      "BIAS 0003 - 0010\n",
      "Waiting for header service LFO before continuing\n",
      "BIAS 0004 - 0010\n",
      "Waiting for header service LFO before continuing\n",
      "BIAS 0005 - 0010\n",
      "RemoteEvent(ATHeaderService, 0, logMessage) falling behind; read 11 messages\n",
      "Waiting for header service LFO before continuing\n",
      "BIAS 0006 - 0010\n",
      "Waiting for header service LFO before continuing\n",
      "BIAS 0007 - 0010\n",
      "Waiting for header service LFO before continuing\n",
      "BIAS 0008 - 0010\n",
      "Waiting for header service LFO before continuing\n",
      "BIAS 0009 - 0010\n",
      "Waiting for header service LFO before continuing\n",
      "BIAS 0010 - 0010\n",
      "Waiting for header service LFO before continuing\n",
      "The bias data id(s) are: [2020031200093 2020031200094 2020031200095 2020031200096 2020031200097\n",
      " 2020031200098 2020031200099 2020031200100 2020031200101 2020031200102]\n"
     ]
    }
   ],
   "source": [
    "#Let's take some biases \n",
    "bias_data_id_list = await latiss.take_bias(nbias=10)\n",
    "print ('The bias data id(s) are: ' + str(bias_data_id_list)) "
   ]
  },
  {
   "cell_type": "code",
   "execution_count": 14,
   "metadata": {},
   "outputs": [
    {
     "name": "stdout",
     "output_type": "stream",
     "text": [
      "Generating group_id\n",
      "BIAS 0001 - 0010\n",
      "Waiting for header service LFO before continuing\n",
      "BIAS 0002 - 0010\n",
      "Waiting for header service LFO before continuing\n",
      "BIAS 0003 - 0010\n",
      "Waiting for header service LFO before continuing\n",
      "BIAS 0004 - 0010\n",
      "Waiting for header service LFO before continuing\n",
      "BIAS 0005 - 0010\n",
      "Waiting for header service LFO before continuing\n",
      "RemoteEvent(ATHeaderService, 0, logMessage) falling behind; read 11 messages\n",
      "BIAS 0006 - 0010\n",
      "Waiting for header service LFO before continuing\n",
      "BIAS 0007 - 0010\n",
      "Waiting for header service LFO before continuing\n",
      "BIAS 0008 - 0010\n",
      "Waiting for header service LFO before continuing\n",
      "BIAS 0009 - 0010\n",
      "Waiting for header service LFO before continuing\n",
      "BIAS 0010 - 0010\n",
      "Waiting for header service LFO before continuing\n",
      "The bias data id(s) are: [2020031200103 2020031200104 2020031200105 2020031200106 2020031200107\n",
      " 2020031200108 2020031200109 2020031200110 2020031200111 2020031200112]\n"
     ]
    }
   ],
   "source": [
    "#Let's take some biases \n",
    "bias_data_id_list = await latiss.take_bias(nbias=10)\n",
    "print ('The bias data id(s) are: ' + str(bias_data_id_list)) "
   ]
  },
  {
   "cell_type": "code",
   "execution_count": null,
   "metadata": {},
   "outputs": [],
   "source": []
  },
  {
   "cell_type": "code",
   "execution_count": 15,
   "metadata": {},
   "outputs": [
    {
     "name": "stdout",
     "output_type": "stream",
     "text": [
      "Starting new HTTP connection (1): simbad.u-strasbg.fr:80\n",
      "http://simbad.u-strasbg.fr:80 \"POST /simbad/sim-script HTTP/1.1\" 200 None\n",
      "Slewing to HD 34816: 05 19 34.5240 -13 10 36.440\n",
      "Sending command\n",
      "Stop tracking.\n",
      "Mount tracking state is 8\n",
      "In Position: False.\n",
      "RemoteTelemetry(ATPtg, 0, guidingAndOffsets) falling behind; read 11 messages\n",
      "Scheduling check coroutines\n",
      "process as completed...\n",
      "Got False\n",
      "Telescope not in position\n",
      "atmcs: <State.ENABLED: 2>\n",
      "atptg: <State.ENABLED: 2>\n",
      "ataos: <State.ENABLED: 2>\n",
      "atpneumatics: <State.ENABLED: 2>\n",
      "athexapod: <State.ENABLED: 2>\n",
      "atdome: <State.ENABLED: 2>\n",
      "atdometrajectory: <State.ENABLED: 2>\n",
      "[Telescope] delta Alt = -010.352 | delta Az= -036.087 [Dome] delta Az = -129.078\n",
      "[Telescope] delta Alt = -009.331 | delta Az= -033.786 [Dome] delta Az = -128.308\n",
      "[Telescope] delta Alt = -006.130 | delta Az= -029.811 [Dome] delta Az = -126.818\n",
      "[Telescope] delta Alt = -002.338 | delta Az= -025.840 [Dome] delta Az = -124.238\n",
      "[Telescope] delta Alt = -000.224 | delta Az= -021.922 [Dome] delta Az = -120.698\n",
      "[Telescope] delta Alt = +000.001 | delta Az= -018.112 [Dome] delta Az = -116.248\n",
      "[Telescope] delta Alt = +000.001 | delta Az= -014.490 [Dome] delta Az = -111.408\n",
      "[Telescope] delta Alt = +000.001 | delta Az= -011.138 [Dome] delta Az = -105.198\n",
      "[Telescope] delta Alt = +000.001 | delta Az= -008.144 [Dome] delta Az = -098.258\n",
      "[Telescope] delta Alt = +000.001 | delta Az= -005.577 [Dome] delta Az = -091.988\n",
      "[Telescope] delta Alt = +000.001 | delta Az= -003.493 [Dome] delta Az = -084.998\n",
      "[Telescope] delta Alt = +000.001 | delta Az= -001.924 [Dome] delta Az = -078.048\n",
      "[Telescope] delta Alt = +000.001 | delta Az= -000.865 [Dome] delta Az = -071.078\n",
      "[Telescope] delta Alt = +000.001 | delta Az= -000.265 [Dome] delta Az = -064.768\n",
      "[Telescope] delta Alt = +000.001 | delta Az= -000.027 [Dome] delta Az = -057.798\n",
      "[Telescope] delta Alt = +000.001 | delta Az= +000.006 [Dome] delta Az = -050.818\n",
      "[Telescope] delta Alt = +000.001 | delta Az= +000.005 [Dome] delta Az = -043.838\n",
      "[Telescope] delta Alt = +000.001 | delta Az= +000.004 [Dome] delta Az = -037.538\n",
      "[Telescope] delta Alt = +000.001 | delta Az= +000.006 [Dome] delta Az = -030.558\n",
      "[Telescope] delta Alt = +000.001 | delta Az= +000.005 [Dome] delta Az = -023.578\n",
      "[Telescope] delta Alt = +000.001 | delta Az= +000.005 [Dome] delta Az = -017.278\n",
      "[Telescope] delta Alt = +000.001 | delta Az= +000.007 [Dome] delta Az = -010.298\n",
      "[Telescope] delta Alt = +000.001 | delta Az= +000.006 [Dome] delta Az = -003.368\n",
      "[Telescope] delta Alt = +000.001 | delta Az= +000.005 [Dome] delta Az = +001.452\n",
      "[Telescope] delta Alt = +000.001 | delta Az= +000.005 [Dome] delta Az = +002.962\n",
      "[Telescope] delta Alt = +000.001 | delta Az= +000.006 [Dome] delta Az = +002.972\n",
      "[Telescope] delta Alt = +000.001 | delta Az= +000.005 [Dome] delta Az = +002.972\n",
      "[Telescope] delta Alt = +000.001 | delta Az= +000.005 [Dome] delta Az = +002.972\n",
      "[Telescope] delta Alt = +000.001 | delta Az= +000.006 [Dome] delta Az = +002.972\n",
      "[Telescope] delta Alt = +000.001 | delta Az= +000.005 [Dome] delta Az = +002.972\n",
      "[Telescope] delta Alt = +000.001 | delta Az= +000.005 [Dome] delta Az = +002.972\n",
      "[Telescope] delta Alt = +000.001 | delta Az= +000.007 [Dome] delta Az = +002.972\n",
      "[Telescope] delta Alt = +000.001 | delta Az= +000.006 [Dome] delta Az = +002.972\n",
      "[Telescope] delta Alt = +000.001 | delta Az= +000.005 [Dome] delta Az = +002.972\n",
      "Got True\n",
      "Waiting for telescope to settle.\n",
      "[Telescope] delta Alt = +000.001 | delta Az= +000.007 [Dome] delta Az = +002.972\n",
      "Telescope in position.\n",
      "ATDome in position.\n",
      "['Telescope in position.', 'ATDome in position.']\n"
     ]
    }
   ],
   "source": [
    "#I'm responsible primarily for slewing the telescope.  Patrick will deal with taking the data \n",
    "await attcs.slew_object(name = \"HD 34816\",  rot_pa=0.0, slew_timeout=240.)"
   ]
  },
  {
   "cell_type": "code",
   "execution_count": 16,
   "metadata": {},
   "outputs": [
    {
     "name": "stdout",
     "output_type": "stream",
     "text": [
      "Generating group_id\n",
      "OBJECT 0001 - 0001\n",
      "Waiting for header service LFO before continuing\n",
      "[2020031200113]\n"
     ]
    }
   ],
   "source": [
    "#And we take a single exposure\n",
    "filter_str = 'empyt_1' #Optional filters are: \n",
    "grating_str = 'empty_1' #Optional gratings are: \n",
    "science_image = await latiss.take_object(exptime=1., n=1, filter='empty_1',grating='empty_1')\n",
    "print (science_image)"
   ]
  },
  {
   "cell_type": "code",
   "execution_count": 23,
   "metadata": {},
   "outputs": [],
   "source": [
    "#Try to display image... \n",
    "import os\n",
    "import numpy as np\n",
    "\n",
    "import lsst.daf.persistence as dafPersist\n",
    "import lsst.afw.display as afwDisplay\n",
    "\n",
    "afwDisplay.setDefaultBackend(\"firefly\")\n",
    "os.environ['FIREFLY_URL'] = \"http://firefly01.cp.lsst.org:8080/firefly/\""
   ]
  },
  {
   "cell_type": "code",
   "execution_count": 24,
   "metadata": {},
   "outputs": [
    {
     "name": "stderr",
     "output_type": "stream",
     "text": [
      "/opt/lsst/software/stack/python/miniconda3-4.7.12/envs/lsst-scipipe-984c9f7/lib/python3.7/site-packages/ipykernel/__main__.py:10: FutureWarning: Config field doAddDistortionModel is deprecated: Camera geometry is incorporated when reading the raw files. This option no longer is used, and will be removed after v19.\n"
     ]
    }
   ],
   "source": [
    "from lsst.ip.isr.isrTask import IsrTask\n",
    "\n",
    "isrConfig = IsrTask.ConfigClass()\n",
    "isrConfig.doLinearize = False\n",
    "isrConfig.doBias = False\n",
    "isrConfig.doFlat = False\n",
    "isrConfig.doDark = False\n",
    "isrConfig.doFringe = False\n",
    "isrConfig.doDefect = False\n",
    "isrConfig.doAddDistortionModel = False\n",
    "isrConfig.doWrite = False\n",
    "\n",
    "isrTask = IsrTask(config=isrConfig)"
   ]
  },
  {
   "cell_type": "code",
   "execution_count": 25,
   "metadata": {},
   "outputs": [
    {
     "name": "stdout",
     "output_type": "stream",
     "text": [
      "RemoteEvent(ATMCS, 0, target) falling behind; read 19 messages\n",
      "RemoteEvent(ATDomeTrajectory, 0, logMessage) falling behind; read 19 messages\n",
      "RemoteEvent(ATMCS, 0, target) falling behind; read 27 messages\n",
      "RemoteEvent(ATDomeTrajectory, 0, logMessage) falling behind; read 13 messages\n"
     ]
    }
   ],
   "source": [
    "butler = dafPersist.Butler(\"/project/shared/auxTel\")\n",
    "dataId = dict(dayObs=\"2020-03-12\") #Your observing date "
   ]
  },
  {
   "cell_type": "code",
   "execution_count": 20,
   "metadata": {},
   "outputs": [
    {
     "name": "stdout",
     "output_type": "stream",
     "text": [
      "Using translation class LSST_LATISS\n",
      "Checking for header correction file named LATISS-AT_O_20200312_000113.yaml\n",
      "AT_O_20200312_000113: Forcing detector serial to ITL-3800C-068\n",
      "AT_O_20200312_000113: Forcing SHUTTIME header to be None\n",
      "Using translation class LSST_LATISS\n",
      "Checking for header correction file named LATISS-AT_O_20200312_000113.yaml\n",
      "AT_O_20200312_000113: Forcing detector serial to ITL-3800C-068\n",
      "Using translation class LSST_LATISS\n",
      "AT_O_20200312_000113: Dark time less than exposure time. Setting dark time to the exposure time.\n",
      "RemoteEvent(ATMCS, 0, target) falling behind; read 14 messages\n",
      "RemoteEvent(ATDomeTrajectory, 0, logMessage) falling behind; read 14 messages\n"
     ]
    }
   ],
   "source": [
    "dataId[\"seqNum\"] = 113\n",
    "exp = butler.get('raw', dataId)"
   ]
  },
  {
   "cell_type": "code",
   "execution_count": 22,
   "metadata": {},
   "outputs": [
    {
     "name": "stdout",
     "output_type": "stream",
     "text": [
      "https://summit-lsp.lsst.codes:443 \"POST /portal/app/sticky/CmdSrv HTTP/1.1\" 200 38\n",
      "https://summit-lsp.lsst.codes:443 \"POST /portal/app/sticky/CmdSrv HTTP/1.1\" 200 38\n",
      "https://summit-lsp.lsst.codes:443 \"POST /portal/app/sticky/CmdSrv HTTP/1.1\" 200 38\n",
      "https://summit-lsp.lsst.codes:443 \"POST /portal/app/sticky/CmdSrv HTTP/1.1\" 200 38\n",
      "https://summit-lsp.lsst.codes:443 \"POST /portal/app/sticky/CmdSrv HTTP/1.1\" 200 38\n",
      "https://summit-lsp.lsst.codes:443 \"POST /portal/app/sticky/CmdSrv HTTP/1.1\" 200 38\n",
      "https://summit-lsp.lsst.codes:443 \"POST /portal/app/sticky/CmdSrv HTTP/1.1\" 200 38\n",
      "https://summit-lsp.lsst.codes:443 \"POST /portal/app/sticky/CmdSrv HTTP/1.1\" 200 38\n",
      "https://summit-lsp.lsst.codes:443 \"POST /portal/app/sticky/CmdSrv HTTP/1.1\" 200 38\n",
      "https://summit-lsp.lsst.codes:443 \"POST /portal/app/sticky/CmdSrv HTTP/1.1\" 200 38\n",
      "https://summit-lsp.lsst.codes:443 \"POST /portal/app/sticky/CmdSrv HTTP/1.1\" 200 38\n",
      "https://summit-lsp.lsst.codes:443 \"POST /portal/app/sticky/CmdSrv HTTP/1.1\" 200 38\n",
      "https://summit-lsp.lsst.codes:443 \"POST /portal/app/sticky/CmdSrv HTTP/1.1\" 200 38\n",
      "https://summit-lsp.lsst.codes:443 \"POST /portal/app/sticky/CmdSrv HTTP/1.1\" 200 38\n",
      "https://summit-lsp.lsst.codes:443 \"POST /portal/app/sticky/CmdSrv HTTP/1.1\" 200 38\n",
      "https://summit-lsp.lsst.codes:443 \"POST /portal/app/sticky/CmdSrv HTTP/1.1\" 200 38\n",
      "https://summit-lsp.lsst.codes:443 \"POST /portal/app/sticky/CmdSrv?cmd=upload&preload=true&type=FITS HTTP/1.1\" 200 71\n",
      "https://summit-lsp.lsst.codes:443 \"POST /portal/app/sticky/CmdSrv HTTP/1.1\" 200 38\n",
      "https://summit-lsp.lsst.codes:443 \"POST /portal/app/sticky/CmdSrv?cmd=upload&preload=true&type=FITS HTTP/1.1\" 200 74\n",
      "RemoteEvent(ATMCS, 0, target) falling behind; read 100 messages\n",
      "RemoteEvent(ATDomeTrajectory, 0, logMessage) falling behind; read 100 messages\n",
      "RemoteTelemetry(ATPtg, 0, timeAndDate) falling behind; read 70 messages\n",
      "RemoteTelemetry(ATDome, 0, position) falling behind; read 68 messages\n",
      "RemoteEvent(ATArchiver, 0, heartbeat) falling behind; read 14 messages\n",
      "RemoteEvent(ATHeaderService, 0, heartbeat) falling behind; read 14 messages\n",
      "RemoteTelemetry(ATPneumatics, 0, loadCell) falling behind; read 14 messages\n",
      "RemoteTelemetry(ATHexapod, 0, positionStatus) falling behind; read 14 messages\n",
      "RemoteEvent(ATAOS, 0, detailedState) falling behind; read 16 messages\n",
      "RemoteEvent(ATSpectrograph, 0, heartbeat) falling behind; read 14 messages\n",
      "RemoteEvent(ATDomeTrajectory, 0, heartbeat) falling behind; read 14 messages\n",
      "RemoteEvent(ATDome, 0, heartbeat) falling behind; read 14 messages\n",
      "RemoteTelemetry(ATMCS, 0, trajectory) falling behind; read 14 messages\n",
      "RemoteEvent(ATHexapod, 0, heartbeat) falling behind; read 14 messages\n",
      "RemoteTelemetry(ATPneumatics, 0, mainAirSourcePressure) falling behind; read 14 messages\n",
      "RemoteEvent(ATDome, 0, doorEncoderExtremes) falling behind; read 65 messages\n",
      "RemoteEvent(ATAOS, 0, heartbeat) falling behind; read 14 messages\n",
      "RemoteTelemetry(ATMCS, 0, torqueDemand) falling behind; read 14 messages\n",
      "RemoteTelemetry(ATPneumatics, 0, m2AirPressure) falling behind; read 15 messages\n",
      "RemoteTelemetry(ATMCS, 0, nasymth_m3_mountMotorEncoders) falling behind; read 14 messages\n",
      "RemoteTelemetry(ATPneumatics, 0, m1AirPressure) falling behind; read 15 messages\n",
      "RemoteTelemetry(ATPtg, 0, mountStatus) falling behind; read 74 messages\n",
      "RemoteTelemetry(ATMCS, 0, mount_Nasmyth_Encoders) falling behind; read 15 messages\n",
      "RemoteTelemetry(ATPtg, 0, guidingAndOffsets) falling behind; read 75 messages\n",
      "RemoteTelemetry(ATMCS, 0, mount_AzEl_Encoders) falling behind; read 15 messages\n",
      "RemoteEvent(ATPneumatics, 0, heartbeat) falling behind; read 15 messages\n",
      "RemoteTelemetry(ATMCS, 0, measuredTorque) falling behind; read 15 messages\n",
      "RemoteTelemetry(ATPtg, 0, currentTargetStatus) falling behind; read 76 messages\n",
      "RemoteTelemetry(ATMCS, 0, measuredMotorVelocity) falling behind; read 15 messages\n",
      "RemoteTelemetry(ATMCS, 0, azEl_mountMotorEncoders) falling behind; read 15 messages\n",
      "RemoteEvent(ATPtg, 0, heartbeat) falling behind; read 16 messages\n",
      "RemoteEvent(ATMCS, 0, heartbeat) falling behind; read 16 messages\n",
      "Closing message received (1000) 'b'''\n",
      "RemoteEvent(ATMCS, 0, target) falling behind; read 80 messages\n",
      "RemoteEvent(ATDomeTrajectory, 0, logMessage) falling behind; read 23 messages\n",
      "RemoteEvent(ATMCS, 0, target) falling behind; read 20 messages\n",
      "RemoteEvent(ATDomeTrajectory, 0, logMessage) falling behind; read 17 messages\n",
      "RemoteTelemetry(ATMCS, 0, measuredMotorVelocity) falling behind; read 10 messages\n",
      "RemoteEvent(ATDomeTrajectory, 0, logMessage) falling behind; read 12 messages\n",
      "RemoteTelemetry(ATMCS, 0, azEl_mountMotorEncoders) falling behind; read 10 messages\n",
      "RemoteEvent(ATMCS, 0, heartbeat) falling behind; read 11 messages\n"
     ]
    }
   ],
   "source": [
    "disp = afwDisplay.Display(1, name='sample', reopenPlot=True)\n",
    "disp.scale('asinh', 'zscale')\n",
    "disp.mtv(exp, title=f\"{dataId}\")"
   ]
  },
  {
   "cell_type": "code",
   "execution_count": null,
   "metadata": {},
   "outputs": [],
   "source": [
    "#Merlin got his display working "
   ]
  },
  {
   "cell_type": "code",
   "execution_count": 27,
   "metadata": {},
   "outputs": [],
   "source": [
    "current_pix = np.array((2245, 2216))\n",
    "target_pix = np.array((1725, 1704))"
   ]
  },
  {
   "cell_type": "code",
   "execution_count": 28,
   "metadata": {},
   "outputs": [
    {
     "name": "stdout",
     "output_type": "stream",
     "text": [
      "Applying x/y offset: -520/ -512 \n",
      "Applying Az/El offset: -355.2275970363423/ 637.4616492807909 \n",
      "Waiting for telescope to settle.\n",
      "Done\n"
     ]
    }
   ],
   "source": [
    "await attcs.offset_xy(*(target_pix - current_pix),  persistent = True)"
   ]
  },
  {
   "cell_type": "code",
   "execution_count": 29,
   "metadata": {},
   "outputs": [
    {
     "name": "stdout",
     "output_type": "stream",
     "text": [
      "Generating group_id\n",
      "OBJECT 0001 - 0001\n",
      "Waiting for header service LFO before continuing\n",
      "[2020031200114]\n"
     ]
    }
   ],
   "source": [
    "science_image = await latiss.take_object(exptime=1., n=1, filter='empty_1',grating='empty_1')\n",
    "print (science_image)"
   ]
  },
  {
   "cell_type": "code",
   "execution_count": 30,
   "metadata": {},
   "outputs": [
    {
     "name": "stdout",
     "output_type": "stream",
     "text": [
      "Applying x/y offset: 520/ 512 \n",
      "Applying Az/El offset: 338.12041110978043/ -646.6982198761282 \n",
      "Waiting for telescope to settle.\n",
      "Done\n",
      "Applying x/y offset: -52.0/ -51.2 \n",
      "Applying Az/El offset: -33.2974108254939/ 64.93629518472918 \n",
      "Waiting for telescope to settle.\n",
      "Done\n"
     ]
    }
   ],
   "source": [
    "await attcs.offset_xy(* (-1 * (target_pix - current_pix)),  persistent = True)\n",
    "await attcs.offset_xy(*((target_pix - current_pix) / 10),  persistent = True)"
   ]
  },
  {
   "cell_type": "code",
   "execution_count": 31,
   "metadata": {},
   "outputs": [
    {
     "name": "stdout",
     "output_type": "stream",
     "text": [
      "Generating group_id\n",
      "OBJECT 0001 - 0001\n",
      "Waiting for header service LFO before continuing\n",
      "[2020031200115]\n"
     ]
    }
   ],
   "source": [
    "science_image = await latiss.take_object(exptime=1., n=1, filter='empty_1',grating='empty_1')\n",
    "print (science_image)"
   ]
  },
  {
   "cell_type": "code",
   "execution_count": 32,
   "metadata": {},
   "outputs": [
    {
     "name": "stdout",
     "output_type": "stream",
     "text": [
      "Applying x/y offset: 0/ -40 \n",
      "Applying Az/El offset: 14.028666038537507/ 37.45926493111129 \n",
      "Waiting for telescope to settle.\n",
      "Done\n"
     ]
    }
   ],
   "source": [
    "await attcs.offset_xy(x = 0, y = -40, persistent = True)"
   ]
  },
  {
   "cell_type": "code",
   "execution_count": 33,
   "metadata": {},
   "outputs": [
    {
     "name": "stdout",
     "output_type": "stream",
     "text": [
      "Generating group_id\n",
      "OBJECT 0001 - 0001\n",
      "Waiting for header service LFO before continuing\n",
      "RemoteEvent(ATHeaderService, 0, logMessage) falling behind; read 14 messages\n",
      "[2020031200116]\n"
     ]
    }
   ],
   "source": [
    "science_image = await latiss.take_object(exptime=1., n=1, filter='empty_1',grating='empty_1')\n",
    "print (science_image)"
   ]
  },
  {
   "cell_type": "code",
   "execution_count": 35,
   "metadata": {},
   "outputs": [
    {
     "name": "stdout",
     "output_type": "stream",
     "text": [
      "focus_positions = [-0.2955 -0.2755 -0.2555 -0.2355 -0.2155 -0.1955 -0.1755 -0.1555 -0.1355]\n"
     ]
    }
   ],
   "source": [
    "import math\n",
    "#Let's try to get roughly in focus. \n",
    "#Focus units are given in mm \n",
    "focus_center = -0.2155\n",
    "focus_step = 0.02\n",
    "n_steps = 9\n",
    "focus_positions = np.linspace(focus_center - focus_step * math.floor(n_steps / 2), focus_center + focus_step * math.ceil(n_steps / 2 - 1), n_steps)\n",
    "#focus_positions = [0.05, -0.05, -0.100, -0.150, -0.200, -0.250, -0.300, -0.3, -0.2, -0.2, -0.24, -0.26, -0.28]\n",
    "print ('focus_positions = ' + str(focus_positions))"
   ]
  },
  {
   "cell_type": "code",
   "execution_count": 36,
   "metadata": {},
   "outputs": [
    {
     "name": "stdout",
     "output_type": "stream",
     "text": [
      "Working on focus position -0.2955\n",
      "Generating group_id\n",
      "ENGTEST 0001 - 0001\n",
      "Waiting for header service LFO before continuing\n",
      "RemoteEvent(ATHeaderService, 0, logMessage) falling behind; read 11 messages\n"
     ]
    },
    {
     "ename": "NameError",
     "evalue": "name 'focus_image' is not defined",
     "output_type": "error",
     "traceback": [
      "\u001b[0;31m---------------------------------------------------------------------------\u001b[0m",
      "\u001b[0;31mNameError\u001b[0m                                 Traceback (most recent call last)",
      "\u001b[0;32m<ipython-input-36-c4f3f7968e77>\u001b[0m in \u001b[0;36masync-def-wrapper\u001b[0;34m()\u001b[0m\n\u001b[1;32m     11\u001b[0m     \u001b[0mnon_dispersed_focus_images\u001b[0m\u001b[0;34m[\u001b[0m\u001b[0mi\u001b[0m\u001b[0;34m]\u001b[0m \u001b[0;34m=\u001b[0m \u001b[0mint\u001b[0m\u001b[0;34m(\u001b[0m\u001b[0mfocus_image\u001b[0m\u001b[0;34m)\u001b[0m\u001b[0;34m\u001b[0m\u001b[0;34m\u001b[0m\u001b[0m\n\u001b[1;32m     12\u001b[0m \u001b[0;34m\u001b[0m\u001b[0m\n\u001b[0;32m---> 13\u001b[0;31m \u001b[0;31m#This resets the focus position after taking this sequence:\u001b[0m\u001b[0;34m\u001b[0m\u001b[0;34m\u001b[0m\u001b[0;34m\u001b[0m\u001b[0m\n\u001b[0m\u001b[1;32m     14\u001b[0m \u001b[0;32mawait\u001b[0m \u001b[0mattcs\u001b[0m\u001b[0;34m.\u001b[0m\u001b[0mataos\u001b[0m\u001b[0;34m.\u001b[0m\u001b[0mcmd_applyFocusOffset\u001b[0m\u001b[0;34m.\u001b[0m\u001b[0mset_start\u001b[0m\u001b[0;34m(\u001b[0m\u001b[0moffset\u001b[0m \u001b[0;34m=\u001b[0m \u001b[0mfocus_center\u001b[0m\u001b[0;34m)\u001b[0m\u001b[0;34m\u001b[0m\u001b[0;34m\u001b[0m\u001b[0m\n",
      "\u001b[0;31mNameError\u001b[0m: name 'focus_image' is not defined"
     ]
    }
   ],
   "source": [
    "#!!!!DO NOT RUN UNLESS YOU HAVE BEEN CLEARED TO CONTROL TELESCOPE!!!!! \n",
    "focus_images = [0 for focus_pos in focus_positions]\n",
    "for i in range(len(focus_positions)): \n",
    "    focus_pos = focus_positions[i] \n",
    "    print ('Working on focus position ' + str(focus_pos))\n",
    "    attcs.athexapod.evt_positionUpdate.flush() \n",
    "    await attcs.ataos.cmd_applyFocusOffset.set_start(offset=focus_pos)\n",
    "    await attcs.athexapod.evt_positionUpdate.next(flush=False, timeout=attcs.long_timeout)\n",
    "    non_dispersed_focus_image = await latiss.take_engtest(exptime=2., n=1, filter='empty_1', grating='ronchi90lpmm') \n",
    "    print ('Newest image id is = ' +str(non_dispersed_focus_image ) )\n",
    "    non_dispersed_focus_images[i] = int(non_dispersed_focus_image )\n",
    "    \n",
    "#This resets the focus position after taking this sequence: \n",
    "await attcs.ataos.cmd_applyFocusOffset.set_start(offset = focus_center)"
   ]
  },
  {
   "cell_type": "code",
   "execution_count": 37,
   "metadata": {},
   "outputs": [
    {
     "name": "stdout",
     "output_type": "stream",
     "text": [
      "Applying x/y offset: -232/ 0.0 \n",
      "Applying Az/El offset: -210.82234887208574/ 96.83975018584349 \n",
      "Waiting for telescope to settle.\n",
      "Done\n"
     ]
    }
   ],
   "source": [
    "#Whoops.  With Ronchi grating, position is off.  Let's shift and try again... \n",
    "await attcs.offset_xy(1283 - 1515, 0.0, persistent = True)"
   ]
  },
  {
   "cell_type": "code",
   "execution_count": 39,
   "metadata": {},
   "outputs": [
    {
     "name": "stdout",
     "output_type": "stream",
     "text": [
      "Working on focus position -0.2955\n"
     ]
    },
    {
     "ename": "TimeoutError",
     "evalue": "",
     "output_type": "error",
     "traceback": [
      "\u001b[0;31m---------------------------------------------------------------------------\u001b[0m",
      "\u001b[0;31mTimeoutError\u001b[0m                              Traceback (most recent call last)",
      "\u001b[0;32m<ipython-input-39-65a8d55774fa>\u001b[0m in \u001b[0;36masync-def-wrapper\u001b[0;34m()\u001b[0m\n\u001b[1;32m      9\u001b[0m     \u001b[0mnon_dispersed_focus_image\u001b[0m \u001b[0;34m=\u001b[0m \u001b[0;32mawait\u001b[0m \u001b[0mlatiss\u001b[0m\u001b[0;34m.\u001b[0m\u001b[0mtake_engtest\u001b[0m\u001b[0;34m(\u001b[0m\u001b[0mexptime\u001b[0m\u001b[0;34m=\u001b[0m\u001b[0;36m2.\u001b[0m\u001b[0;34m,\u001b[0m \u001b[0mn\u001b[0m\u001b[0;34m=\u001b[0m\u001b[0;36m1\u001b[0m\u001b[0;34m,\u001b[0m \u001b[0mfilter\u001b[0m\u001b[0;34m=\u001b[0m\u001b[0;34m'empty_1'\u001b[0m\u001b[0;34m,\u001b[0m \u001b[0mgrating\u001b[0m\u001b[0;34m=\u001b[0m\u001b[0;34m'ronchi90lpmm'\u001b[0m\u001b[0;34m)\u001b[0m\u001b[0;34m\u001b[0m\u001b[0;34m\u001b[0m\u001b[0m\n\u001b[1;32m     10\u001b[0m     \u001b[0mprint\u001b[0m \u001b[0;34m(\u001b[0m\u001b[0;34m'Newest image id is = '\u001b[0m \u001b[0;34m+\u001b[0m \u001b[0mstr\u001b[0m\u001b[0;34m(\u001b[0m\u001b[0mnon_dispersed_focus_image\u001b[0m \u001b[0;34m)\u001b[0m \u001b[0;34m)\u001b[0m\u001b[0;34m\u001b[0m\u001b[0;34m\u001b[0m\u001b[0m\n\u001b[0;32m---> 11\u001b[0;31m     \u001b[0mnon_dispersed_focus_images\u001b[0m\u001b[0;34m[\u001b[0m\u001b[0mi\u001b[0m\u001b[0;34m]\u001b[0m \u001b[0;34m=\u001b[0m \u001b[0mint\u001b[0m\u001b[0;34m(\u001b[0m\u001b[0mnon_dispersed_focus_image\u001b[0m \u001b[0;34m)\u001b[0m\u001b[0;34m\u001b[0m\u001b[0;34m\u001b[0m\u001b[0m\n\u001b[0m\u001b[1;32m     12\u001b[0m \u001b[0;34m\u001b[0m\u001b[0m\n\u001b[1;32m     13\u001b[0m \u001b[0;31m#This resets the focus position after taking this sequence:\u001b[0m\u001b[0;34m\u001b[0m\u001b[0;34m\u001b[0m\u001b[0;34m\u001b[0m\u001b[0m\n",
      "\u001b[0;32m/opt/lsst/src/ts_salobj/python/lsst/ts/salobj/topics/read_topic.py\u001b[0m in \u001b[0;36mnext\u001b[0;34m(self, flush, timeout)\u001b[0m\n\u001b[1;32m    395\u001b[0m         \u001b[0;32mif\u001b[0m \u001b[0mflush\u001b[0m\u001b[0;34m:\u001b[0m\u001b[0;34m\u001b[0m\u001b[0;34m\u001b[0m\u001b[0m\n\u001b[1;32m    396\u001b[0m             \u001b[0mself\u001b[0m\u001b[0;34m.\u001b[0m\u001b[0mflush\u001b[0m\u001b[0;34m(\u001b[0m\u001b[0;34m)\u001b[0m\u001b[0;34m\u001b[0m\u001b[0;34m\u001b[0m\u001b[0m\n\u001b[0;32m--> 397\u001b[0;31m         \u001b[0;32mreturn\u001b[0m \u001b[0;32mawait\u001b[0m \u001b[0mself\u001b[0m\u001b[0;34m.\u001b[0m\u001b[0m_next\u001b[0m\u001b[0;34m(\u001b[0m\u001b[0mtimeout\u001b[0m\u001b[0;34m=\u001b[0m\u001b[0mtimeout\u001b[0m\u001b[0;34m)\u001b[0m\u001b[0;34m\u001b[0m\u001b[0;34m\u001b[0m\u001b[0m\n\u001b[0m\u001b[1;32m    398\u001b[0m \u001b[0;34m\u001b[0m\u001b[0m\n\u001b[1;32m    399\u001b[0m     \u001b[0;32masync\u001b[0m \u001b[0;32mdef\u001b[0m \u001b[0m_next\u001b[0m\u001b[0;34m(\u001b[0m\u001b[0mself\u001b[0m\u001b[0;34m,\u001b[0m \u001b[0;34m*\u001b[0m\u001b[0;34m,\u001b[0m \u001b[0mtimeout\u001b[0m\u001b[0;34m=\u001b[0m\u001b[0;32mNone\u001b[0m\u001b[0;34m)\u001b[0m\u001b[0;34m:\u001b[0m\u001b[0;34m\u001b[0m\u001b[0;34m\u001b[0m\u001b[0m\n",
      "\u001b[0;32m/opt/lsst/src/ts_salobj/python/lsst/ts/salobj/topics/read_topic.py\u001b[0m in \u001b[0;36m_next\u001b[0;34m(self, timeout)\u001b[0m\n\u001b[1;32m    410\u001b[0m         \u001b[0;32mif\u001b[0m \u001b[0mself\u001b[0m\u001b[0;34m.\u001b[0m\u001b[0m_next_task\u001b[0m\u001b[0;34m.\u001b[0m\u001b[0mdone\u001b[0m\u001b[0;34m(\u001b[0m\u001b[0;34m)\u001b[0m\u001b[0;34m:\u001b[0m\u001b[0;34m\u001b[0m\u001b[0;34m\u001b[0m\u001b[0m\n\u001b[1;32m    411\u001b[0m             \u001b[0mself\u001b[0m\u001b[0;34m.\u001b[0m\u001b[0m_next_task\u001b[0m \u001b[0;34m=\u001b[0m \u001b[0masyncio\u001b[0m\u001b[0;34m.\u001b[0m\u001b[0mFuture\u001b[0m\u001b[0;34m(\u001b[0m\u001b[0;34m)\u001b[0m\u001b[0;34m\u001b[0m\u001b[0;34m\u001b[0m\u001b[0m\n\u001b[0;32m--> 412\u001b[0;31m         \u001b[0;32mawait\u001b[0m \u001b[0masyncio\u001b[0m\u001b[0;34m.\u001b[0m\u001b[0mwait_for\u001b[0m\u001b[0;34m(\u001b[0m\u001b[0mself\u001b[0m\u001b[0;34m.\u001b[0m\u001b[0m_next_task\u001b[0m\u001b[0;34m,\u001b[0m \u001b[0mtimeout\u001b[0m\u001b[0;34m=\u001b[0m\u001b[0mtimeout\u001b[0m\u001b[0;34m)\u001b[0m\u001b[0;34m\u001b[0m\u001b[0;34m\u001b[0m\u001b[0m\n\u001b[0m\u001b[1;32m    413\u001b[0m         \u001b[0;32mreturn\u001b[0m \u001b[0mself\u001b[0m\u001b[0;34m.\u001b[0m\u001b[0m_data_queue\u001b[0m\u001b[0;34m.\u001b[0m\u001b[0mpopleft\u001b[0m\u001b[0;34m(\u001b[0m\u001b[0;34m)\u001b[0m\u001b[0;34m\u001b[0m\u001b[0;34m\u001b[0m\u001b[0m\n\u001b[1;32m    414\u001b[0m \u001b[0;34m\u001b[0m\u001b[0m\n",
      "\u001b[0;32m/opt/lsst/software/stack/python/miniconda3-4.7.12/envs/lsst-scipipe-984c9f7/lib/python3.7/asyncio/tasks.py\u001b[0m in \u001b[0;36mwait_for\u001b[0;34m(fut, timeout, loop)\u001b[0m\n\u001b[1;32m    447\u001b[0m             \u001b[0;31m# See https://bugs.python.org/issue32751\u001b[0m\u001b[0;34m\u001b[0m\u001b[0;34m\u001b[0m\u001b[0;34m\u001b[0m\u001b[0m\n\u001b[1;32m    448\u001b[0m             \u001b[0;32mawait\u001b[0m \u001b[0m_cancel_and_wait\u001b[0m\u001b[0;34m(\u001b[0m\u001b[0mfut\u001b[0m\u001b[0;34m,\u001b[0m \u001b[0mloop\u001b[0m\u001b[0;34m=\u001b[0m\u001b[0mloop\u001b[0m\u001b[0;34m)\u001b[0m\u001b[0;34m\u001b[0m\u001b[0;34m\u001b[0m\u001b[0m\n\u001b[0;32m--> 449\u001b[0;31m             \u001b[0;32mraise\u001b[0m \u001b[0mfutures\u001b[0m\u001b[0;34m.\u001b[0m\u001b[0mTimeoutError\u001b[0m\u001b[0;34m(\u001b[0m\u001b[0;34m)\u001b[0m\u001b[0;34m\u001b[0m\u001b[0;34m\u001b[0m\u001b[0m\n\u001b[0m\u001b[1;32m    450\u001b[0m     \u001b[0;32mfinally\u001b[0m\u001b[0;34m:\u001b[0m\u001b[0;34m\u001b[0m\u001b[0;34m\u001b[0m\u001b[0m\n\u001b[1;32m    451\u001b[0m         \u001b[0mtimeout_handle\u001b[0m\u001b[0;34m.\u001b[0m\u001b[0mcancel\u001b[0m\u001b[0;34m(\u001b[0m\u001b[0;34m)\u001b[0m\u001b[0;34m\u001b[0m\u001b[0;34m\u001b[0m\u001b[0m\n",
      "\u001b[0;31mTimeoutError\u001b[0m: "
     ]
    }
   ],
   "source": [
    "#!!!!DO NOT RUN UNLESS YOU HAVE BEEN CLEARED TO CONTROL TELESCOPE!!!!! \n",
    "focus_images = [0 for focus_pos in focus_positions]\n",
    "for i in range(len(focus_positions)): \n",
    "    focus_pos = focus_positions[i] \n",
    "    print ('Working on focus position ' + str(focus_pos))\n",
    "    attcs.athexapod.evt_positionUpdate.flush() \n",
    "    await attcs.ataos.cmd_applyFocusOffset.set_start(offset=focus_pos)\n",
    "    await attcs.athexapod.evt_positionUpdate.next(flush=False, timeout=attcs.long_timeout)\n",
    "    non_dispersed_focus_image = await latiss.take_engtest(exptime=2., n=1, filter='empty_1', grating='ronchi90lpmm') \n",
    "    print ('Newest image id is = ' + str(non_dispersed_focus_image ) )\n",
    "    non_dispersed_focus_images[i] = int(non_dispersed_focus_image )\n",
    "    \n",
    "#This resets the focus position after taking this sequence: \n",
    "await attcs.ataos.cmd_applyFocusOffset.set_start(offset = focus_center)"
   ]
  },
  {
   "cell_type": "code",
   "execution_count": 40,
   "metadata": {},
   "outputs": [],
   "source": [
    "#That's an issue that happens if I try to send a focus position to the same position it's already at.  \n",
    "\n",
    "#adjust by hand \n",
    "await attcs.focus_offset(focus_pos)"
   ]
  },
  {
   "cell_type": "code",
   "execution_count": 41,
   "metadata": {},
   "outputs": [
    {
     "name": "stdout",
     "output_type": "stream",
     "text": [
      "Working on focus position -0.2955\n",
      "Generating group_id\n",
      "ENGTEST 0001 - 0001\n",
      "Waiting for header service LFO before continuing\n",
      "Newest image id is = [2020031200118]\n"
     ]
    },
    {
     "ename": "NameError",
     "evalue": "name 'non_dispersed_focus_images' is not defined",
     "output_type": "error",
     "traceback": [
      "\u001b[0;31m---------------------------------------------------------------------------\u001b[0m",
      "\u001b[0;31mNameError\u001b[0m                                 Traceback (most recent call last)",
      "\u001b[0;32m<ipython-input-41-7fbbbd922949>\u001b[0m in \u001b[0;36masync-def-wrapper\u001b[0;34m()\u001b[0m\n\u001b[1;32m     10\u001b[0m \u001b[0;34m\u001b[0m\u001b[0m\n\u001b[1;32m     11\u001b[0m \u001b[0;31m#This resets the focus position after taking this sequence:\u001b[0m\u001b[0;34m\u001b[0m\u001b[0;34m\u001b[0m\u001b[0;34m\u001b[0m\u001b[0m\n\u001b[0;32m---> 12\u001b[0;31m \u001b[0;32mawait\u001b[0m \u001b[0mattcs\u001b[0m\u001b[0;34m.\u001b[0m\u001b[0mfocus_offset\u001b[0m\u001b[0;34m(\u001b[0m\u001b[0mfocus_pos\u001b[0m\u001b[0;34m)\u001b[0m\u001b[0;34m\u001b[0m\u001b[0;34m\u001b[0m\u001b[0m\n\u001b[0m",
      "\u001b[0;31mNameError\u001b[0m: name 'non_dispersed_focus_images' is not defined"
     ]
    }
   ],
   "source": [
    "#!!!!DO NOT RUN UNLESS YOU HAVE BEEN CLEARED TO CONTROL TELESCOPE!!!!! \n",
    "focus_images = [0 for focus_pos in focus_positions]\n",
    "for i in range(len(focus_positions)): \n",
    "    focus_pos = focus_positions[i] \n",
    "    print ('Working on focus position ' + str(focus_pos))\n",
    "    await attcs.focus_offset(focus_pos)\n",
    "    non_dispersed_focus_image = await latiss.take_engtest(exptime=2., n=1, filter='empty_1', grating='ronchi90lpmm') \n",
    "    print ('Newest image id is = ' + str(non_dispersed_focus_image ) )\n",
    "    non_dispersed_focus_images[i] = int(non_dispersed_focus_image )\n",
    "    \n",
    "#This resets the focus position after taking this sequence: \n",
    "await attcs.focus_offset(focus_pos)"
   ]
  },
  {
   "cell_type": "code",
   "execution_count": 42,
   "metadata": {},
   "outputs": [
    {
     "name": "stdout",
     "output_type": "stream",
     "text": [
      "Slewing to HD 34816: 05 19 34.5240 -13 10 36.440\n",
      "Sending command\n",
      "Stop tracking.\n",
      "Mount tracking state is 9\n",
      "Tracking state: 10.\n",
      "Tracking state: 8.\n",
      "In Position: True.\n",
      "In Position: False.\n",
      "Scheduling check coroutines\n",
      "process as completed...\n",
      "Got False\n",
      "Telescope not in position\n",
      "atmcs: <State.ENABLED: 2>\n",
      "atptg: <State.ENABLED: 2>\n",
      "ataos: <State.ENABLED: 2>\n",
      "atpneumatics: <State.ENABLED: 2>\n",
      "athexapod: <State.ENABLED: 2>\n",
      "atdome: <State.ENABLED: 2>\n",
      "atdometrajectory: <State.ENABLED: 2>\n",
      "[Telescope] delta Alt = -000.027 | delta Az= -000.117 [Dome] delta Az = -000.242\n",
      "[Telescope] delta Alt = +000.002 | delta Az= +000.003 [Dome] delta Az = -000.242\n",
      "Axes in position.\n",
      "None\n"
     ]
    }
   ],
   "source": [
    "#target off detector \n",
    "await attcs.slew_object(name = \"HD 34816\",  rot_pa=0.0, slew_timeout=240.)"
   ]
  },
  {
   "cell_type": "code",
   "execution_count": 44,
   "metadata": {},
   "outputs": [
    {
     "name": "stdout",
     "output_type": "stream",
     "text": [
      "Generating group_id\n",
      "OBJECT 0001 - 0001\n",
      "Waiting for header service LFO before continuing\n",
      "RemoteEvent(ATHeaderService, 0, logMessage) falling behind; read 13 messages\n",
      "[2020031200119]\n"
     ]
    }
   ],
   "source": [
    "science_image = await latiss.take_object(exptime=1., n=1, filter='empty_1',grating='ronchi90lpmm')\n",
    "print (science_image)"
   ]
  },
  {
   "cell_type": "code",
   "execution_count": 48,
   "metadata": {},
   "outputs": [
    {
     "name": "stdout",
     "output_type": "stream",
     "text": [
      "[-43.8 -76.8]\n"
     ]
    }
   ],
   "source": [
    "shift = ( target_pix -(np.array([2163, 2472]))) / 10\n",
    "print (shift)"
   ]
  },
  {
   "cell_type": "code",
   "execution_count": 49,
   "metadata": {},
   "outputs": [
    {
     "name": "stdout",
     "output_type": "stream",
     "text": [
      "Applying x/y offset: -43.8/ -76.8 \n",
      "Applying Az/El offset: 13.807802323633217/ 87.32711259964725 \n",
      "Waiting for telescope to settle.\n",
      "Done\n"
     ]
    }
   ],
   "source": [
    "await attcs.offset_xy(*shift, persistent = True)"
   ]
  },
  {
   "cell_type": "code",
   "execution_count": 50,
   "metadata": {},
   "outputs": [
    {
     "name": "stdout",
     "output_type": "stream",
     "text": [
      "Generating group_id\n",
      "OBJECT 0001 - 0001\n",
      "Waiting for header service LFO before continuing\n",
      "[2020031200120]\n",
      "RemoteEvent(ATMCS, 0, target) falling behind; read 40 messages\n",
      "RemoteEvent(ATDomeTrajectory, 0, logMessage) falling behind; read 10 messages\n"
     ]
    }
   ],
   "source": [
    "science_image = await latiss.take_object(exptime=1., n=1, filter='empty_1',grating='ronchi90lpmm')\n",
    "print (science_image)"
   ]
  },
  {
   "cell_type": "code",
   "execution_count": 51,
   "metadata": {},
   "outputs": [
    {
     "name": "stdout",
     "output_type": "stream",
     "text": [
      "Working on focus position -0.2955\n",
      "Generating group_id\n",
      "ENGTEST 0001 - 0001\n",
      "Waiting for header service LFO before continuing\n",
      "RemoteEvent(ATHeaderService, 0, logMessage) falling behind; read 11 messages\n",
      "Newest image id is = [2020031200121]\n",
      "Working on focus position -0.27549999999999997\n",
      "Generating group_id\n",
      "ENGTEST 0001 - 0001\n",
      "Waiting for header service LFO before continuing\n",
      "RemoteEvent(ATHeaderService, 0, logMessage) falling behind; read 10 messages\n",
      "Newest image id is = [2020031200122]\n",
      "Working on focus position -0.2555\n",
      "Generating group_id\n",
      "ENGTEST 0001 - 0001\n",
      "Waiting for header service LFO before continuing\n",
      "Newest image id is = [2020031200123]\n",
      "Working on focus position -0.2355\n",
      "Generating group_id\n",
      "ENGTEST 0001 - 0001\n",
      "Waiting for header service LFO before continuing\n",
      "RemoteEvent(ATHeaderService, 0, logMessage) falling behind; read 11 messages\n",
      "Newest image id is = [2020031200124]\n",
      "Working on focus position -0.2155\n",
      "Generating group_id\n",
      "ENGTEST 0001 - 0001\n",
      "Waiting for header service LFO before continuing\n",
      "Newest image id is = [2020031200125]\n",
      "Working on focus position -0.1955\n",
      "Generating group_id\n",
      "ENGTEST 0001 - 0001\n",
      "Waiting for header service LFO before continuing\n",
      "Newest image id is = [2020031200126]\n",
      "Working on focus position -0.1755\n",
      "Generating group_id\n",
      "ENGTEST 0001 - 0001\n",
      "Waiting for header service LFO before continuing\n",
      "Newest image id is = [2020031200127]\n",
      "Working on focus position -0.1555\n",
      "Generating group_id\n",
      "ENGTEST 0001 - 0001\n",
      "RemoteEvent(ATMCS, 0, target) falling behind; read 17 messages\n",
      "Waiting for header service LFO before continuing\n",
      "Newest image id is = [2020031200128]\n",
      "Working on focus position -0.1355\n",
      "Generating group_id\n",
      "ENGTEST 0001 - 0001\n",
      "Waiting for header service LFO before continuing\n",
      "Newest image id is = [2020031200129]\n",
      "RemoteEvent(ATMCS, 0, target) falling behind; read 60 messages\n",
      "RemoteEvent(ATDomeTrajectory, 0, logMessage) falling behind; read 19 messages\n",
      "RemoteEvent(ATMCS, 0, target) falling behind; read 59 messages\n",
      "RemoteEvent(ATDomeTrajectory, 0, logMessage) falling behind; read 20 messages\n",
      "RemoteEvent(ATMCS, 0, target) falling behind; read 100 messages\n",
      "RemoteEvent(ATDomeTrajectory, 0, logMessage) falling behind; read 10 messages\n",
      "RemoteEvent(ATDomeTrajectory, 0, logMessage) falling behind; read 10 messages\n",
      "RemoteEvent(ATMCS, 0, target) falling behind; read 100 messages\n",
      "RemoteEvent(ATMCS, 0, target) falling behind; read 10 messages\n",
      "RemoteEvent(ATDomeTrajectory, 0, logMessage) falling behind; read 18 messages\n",
      "RemoteEvent(ATDomeTrajectory, 0, logMessage) falling behind; read 23 messages\n",
      "RemoteEvent(ATMCS, 0, target) falling behind; read 19 messages\n",
      "RemoteEvent(ATHeaderService, 0, logMessage) falling behind; read 10 messages\n"
     ]
    }
   ],
   "source": [
    "#!!!!DO NOT RUN UNLESS YOU HAVE BEEN CLEARED TO CONTROL TELESCOPE!!!!! \n",
    "focus_images = [0 for focus_pos in focus_positions]\n",
    "non_dispersed_focus_images = [0 for focus_pos in focus_positions] \n",
    "for i in range(len(focus_positions)): \n",
    "    focus_pos = focus_positions[i] \n",
    "    print ('Working on focus position ' + str(focus_pos))\n",
    "    await attcs.focus_offset(focus_pos)\n",
    "    non_dispersed_focus_image = await latiss.take_engtest(exptime=2., n=1, filter='empty_1', grating='ronchi90lpmm') \n",
    "    print ('Newest image id is = ' + str(non_dispersed_focus_image ) )\n",
    "    non_dispersed_focus_images[i] = int(non_dispersed_focus_image )\n",
    "    \n",
    "#This resets the focus position after taking this sequence: \n",
    "await attcs.focus_offset(focus_pos)"
   ]
  },
  {
   "cell_type": "code",
   "execution_count": 52,
   "metadata": {},
   "outputs": [
    {
     "data": {
      "text/plain": [
       "<ddsutil.ATAOS_ackcmd_33d5c92b at 0x7f7d17e770d0>"
      ]
     },
     "execution_count": 52,
     "metadata": {},
     "output_type": "execute_result"
    }
   ],
   "source": [
    "# That worked okay, though we had atmospheric deviations. \n",
    "best_focus = -0.19\n",
    "await attcs.ataos.cmd_applyFocusOffset.set_start(offset = best_focus)"
   ]
  },
  {
   "cell_type": "code",
   "execution_count": 53,
   "metadata": {},
   "outputs": [
    {
     "name": "stdout",
     "output_type": "stream",
     "text": [
      "Generating group_id\n",
      "OBJECT 0001 - 0001\n",
      "Waiting for header service LFO before continuing\n",
      "[2020031200131]\n",
      "RemoteEvent(ATMCS, 0, target) falling behind; read 19 messages\n"
     ]
    }
   ],
   "source": [
    "#They also moved the star from underme, so I need to get it recentered\n",
    "science_image = await latiss.take_object(exptime=1., n=1, filter='empty_1',grating='ronchi90lpmm')\n",
    "print (science_image)"
   ]
  },
  {
   "cell_type": "code",
   "execution_count": 54,
   "metadata": {},
   "outputs": [
    {
     "name": "stdout",
     "output_type": "stream",
     "text": [
      "[-62.4 -53. ]\n",
      "Applying x/y offset: -62.4/ -53.0 \n",
      "Applying Az/El offset: 57.636839308972476/ 58.14425813845839 \n",
      "Waiting for telescope to settle.\n",
      "Done\n"
     ]
    }
   ],
   "source": [
    "shift = ( target_pix -(np.array([2349, 2234]))) / 10\n",
    "print (shift)\n",
    "await attcs.offset_xy(*shift, persistent = True)"
   ]
  },
  {
   "cell_type": "code",
   "execution_count": 55,
   "metadata": {},
   "outputs": [
    {
     "name": "stdout",
     "output_type": "stream",
     "text": [
      "Generating group_id\n",
      "OBJECT 0001 - 0001\n",
      "Waiting for header service LFO before continuing\n",
      "[2020031200132]\n"
     ]
    }
   ],
   "source": [
    "#They also moved the star from underme, so I need to get it recentered\n",
    "science_image = await latiss.take_object(exptime=1., n=1, filter='empty_1',grating='ronchi90lpmm')\n",
    "print (science_image)"
   ]
  },
  {
   "cell_type": "code",
   "execution_count": 56,
   "metadata": {},
   "outputs": [
    {
     "name": "stdout",
     "output_type": "stream",
     "text": [
      "Generating group_id\n",
      "OBJECT 0001 - 0001\n",
      "Waiting for header service LFO before continuing\n",
      "[2020031200133]\n"
     ]
    }
   ],
   "source": [
    "#They also moved the star from underme, so I need to get it recentered\n",
    "science_image = await latiss.take_object(exptime=20., n=1, filter='empty_1',grating='ronchi90lpmm')\n",
    "print (science_image)"
   ]
  },
  {
   "cell_type": "code",
   "execution_count": 57,
   "metadata": {},
   "outputs": [
    {
     "name": "stdout",
     "output_type": "stream",
     "text": [
      "Generating group_id\n",
      "OBJECT 0001 - 0001\n",
      "Waiting for header service LFO before continuing\n",
      "RemoteEvent(ATHeaderService, 0, logMessage) falling behind; read 11 messages\n",
      "[2020031200134]\n",
      "RemoteEvent(ATMCS, 0, target) falling behind; read 100 messages\n",
      "RemoteEvent(ATDomeTrajectory, 0, logMessage) falling behind; read 12 messages\n"
     ]
    }
   ],
   "source": [
    "#They also moved the star from underme, so I need to get it recentered\n",
    "science_image = await latiss.take_object(exptime=20., n=1, filter='quadnotch1',grating='ronchi90lpmm')\n",
    "print (science_image)"
   ]
  },
  {
   "cell_type": "code",
   "execution_count": null,
   "metadata": {},
   "outputs": [],
   "source": [
    "#They also moved the star from underme, so I need to get it recentered\n",
    "science_image = await latiss.take_object(exptime=20., n=1, filter='quadnotch1',grating='ronchi90lpmm')\n",
    "print (science_image)"
   ]
  },
  {
   "cell_type": "code",
   "execution_count": 58,
   "metadata": {},
   "outputs": [
    {
     "name": "stdout",
     "output_type": "stream",
     "text": [
      "Generating group_id\n",
      "OBJECT 0001 - 0001\n",
      "Waiting for header service LFO before continuing\n",
      "[2020031200135]\n"
     ]
    }
   ],
   "source": [
    "#They also moved the star from underme, so I need to get it recentered\n",
    "science_image = await latiss.take_object(exptime=20., n=1, filter='BG40',grating='ronchi90lpmm')\n",
    "print (science_image)"
   ]
  },
  {
   "cell_type": "code",
   "execution_count": 59,
   "metadata": {},
   "outputs": [
    {
     "name": "stdout",
     "output_type": "stream",
     "text": [
      "Generating group_id\n",
      "OBJECT 0001 - 0001\n",
      "Waiting for header service LFO before continuing\n",
      "[2020031200136]\n"
     ]
    }
   ],
   "source": [
    "#They also moved the star from underme, so I need to get it recentered\n",
    "science_image = await latiss.take_object(exptime=20., n=1, filter='RG610',grating='ronchi90lpmm')\n",
    "print (science_image)"
   ]
  },
  {
   "cell_type": "code",
   "execution_count": 60,
   "metadata": {},
   "outputs": [
    {
     "name": "stdout",
     "output_type": "stream",
     "text": [
      "Generating group_id\n",
      "OBJECT 0001 - 0001\n",
      "Waiting for header service LFO before continuing\n",
      "[2020031200137]\n",
      "RemoteEvent(ATHeaderService, 0, logMessage) falling behind; read 10 messages\n",
      "RemoteEvent(ATMCS, 0, target) falling behind; read 80 messages\n",
      "RemoteEvent(ATDomeTrajectory, 0, logMessage) falling behind; read 11 messages\n",
      "RemoteEvent(ATMCS, 0, target) falling behind; read 25 messages\n",
      "RemoteEvent(ATDomeTrajectory, 0, logMessage) falling behind; read 16 messages\n"
     ]
    }
   ],
   "source": [
    "#They also moved the star from underme, so I need to get it recentered\n",
    "science_image = await latiss.take_object(exptime=25., n=1, filter='empty_1',grating='ronchi90lpmm')\n",
    "print (science_image)"
   ]
  },
  {
   "cell_type": "code",
   "execution_count": 66,
   "metadata": {},
   "outputs": [
    {
     "data": {
      "text/plain": [
       "<ddsutil.ATAOS_ackcmd_33d5c92b at 0x7f7e8b74fc90>"
      ]
     },
     "execution_count": 66,
     "metadata": {},
     "output_type": "execute_result"
    }
   ],
   "source": [
    "# That worked okay, though we had atmospheric deviations. \n",
    "best_focus = -0.19\n",
    "empty_to_quad = +0.0265\n",
    "empty_to_BG = +0.0227\n",
    "empty_to_RG = +0.0227 \n",
    "await attcs.ataos.cmd_applyFocusOffset.set_start(offset = best_focus + empty_to_quad )"
   ]
  },
  {
   "cell_type": "code",
   "execution_count": 63,
   "metadata": {},
   "outputs": [
    {
     "name": "stdout",
     "output_type": "stream",
     "text": [
      "Generating group_id\n",
      "OBJECT 0001 - 0001\n",
      "Waiting for header service LFO before continuing\n",
      "[2020031200139]\n"
     ]
    }
   ],
   "source": [
    "#They also moved the star from underme, so I need to get it recentered\n",
    "science_image = await latiss.take_object(exptime=25., n=1, filter='quadnotch1',grating='ronchi90lpmm')\n",
    "print (science_image)"
   ]
  },
  {
   "cell_type": "code",
   "execution_count": 64,
   "metadata": {},
   "outputs": [
    {
     "name": "stdout",
     "output_type": "stream",
     "text": [
      "Generating group_id\n",
      "OBJECT 0001 - 0001\n",
      "Waiting for header service LFO before continuing\n",
      "[2020031200140]\n"
     ]
    }
   ],
   "source": [
    "await attcs.ataos.cmd_applyFocusOffset.set_start(offset = best_focus + empty_to_BG )\n",
    "#They also moved the star from underme, so I need to get it recentered\n",
    "science_image = await latiss.take_object(exptime=25., n=1, filter='BG40',grating='ronchi90lpmm')\n",
    "print (science_image)"
   ]
  },
  {
   "cell_type": "code",
   "execution_count": 67,
   "metadata": {},
   "outputs": [
    {
     "name": "stdout",
     "output_type": "stream",
     "text": [
      "Generating group_id\n",
      "OBJECT 0001 - 0001\n",
      "Waiting for header service LFO before continuing\n",
      "[2020031200141]\n"
     ]
    }
   ],
   "source": [
    "await attcs.ataos.cmd_applyFocusOffset.set_start(offset = best_focus + empty_to_RG )\n",
    "#They also moved the star from underme, so I need to get it recentered\n",
    "science_image = await latiss.take_object(exptime=25., n=1, filter='BG40',grating='ronchi90lpmm')\n",
    "print (science_image)"
   ]
  },
  {
   "cell_type": "code",
   "execution_count": 68,
   "metadata": {},
   "outputs": [
    {
     "name": "stdout",
     "output_type": "stream",
     "text": [
      "Generating group_id\n",
      "OBJECT 0001 - 0001\n",
      "Waiting for header service LFO before continuing\n",
      "[2020031200142]\n",
      "RemoteEvent(ATMCS, 0, target) falling behind; read 38 messages\n",
      "RemoteEvent(ATDomeTrajectory, 0, logMessage) falling behind; read 19 messages\n",
      "RemoteEvent(ATDomeTrajectory, 0, logMessage) falling behind; read 10 messages\n"
     ]
    }
   ],
   "source": [
    "await attcs.ataos.cmd_applyFocusOffset.set_start(offset = best_focus + empty_to_RG )\n",
    "#They also moved the star from underme, so I need to get it recentered\n",
    "science_image = await latiss.take_object(exptime=25., n=1, filter='RG610',grating='ronchi90lpmm')\n",
    "print (science_image)"
   ]
  },
  {
   "cell_type": "code",
   "execution_count": 10,
   "metadata": {},
   "outputs": [
    {
     "name": "stdout",
     "output_type": "stream",
     "text": [
      "Starting new HTTP connection (1): simbad.u-strasbg.fr:80\n",
      "http://simbad.u-strasbg.fr:80 \"POST /simbad/sim-script HTTP/1.1\" 200 None\n",
      "Slewing to HD 185975: 20 28 18.7402 -87 28 19.938\n",
      "RemoteTelemetry(ATPtg, 0, timeAndDate) falling behind; read 17 messages\n",
      "RemoteTelemetry(ATDome, 0, position) falling behind; read 16 messages\n",
      "Sending command\n",
      "Stop tracking.\n",
      "Mount tracking state is 8\n",
      "In Position: False.\n",
      "RemoteTelemetry(ATPtg, 0, mountStatus) falling behind; read 22 messages\n",
      "RemoteTelemetry(ATPtg, 0, guidingAndOffsets) falling behind; read 22 messages\n",
      "RemoteEvent(ATDome, 0, doorEncoderExtremes) falling behind; read 21 messages\n",
      "RemoteTelemetry(ATPtg, 0, currentTargetStatus) falling behind; read 23 messages\n",
      "Scheduling check coroutines\n",
      "process as completed...\n",
      "Got False\n",
      "Telescope not in position\n",
      "atmcs: <State.ENABLED: 2>\n",
      "atptg: <State.ENABLED: 2>\n",
      "ataos: <State.ENABLED: 2>\n",
      "atpneumatics: <State.ENABLED: 2>\n",
      "athexapod: <State.ENABLED: 2>\n",
      "atdome: <State.ENABLED: 2>\n",
      "[Telescope] delta Alt = -052.180 | delta Az= -179.329 [Dome] delta Az = -003.070\n",
      "[Telescope] delta Alt = -050.043 | delta Az= +178.528 [Dome] delta Az = -003.070\n",
      "[Telescope] delta Alt = -046.047 | delta Az= +174.533 [Dome] delta Az = -003.070\n",
      "[Telescope] delta Alt = -042.047 | delta Az= +170.532 [Dome] delta Az = -003.070\n",
      "[Telescope] delta Alt = -038.045 | delta Az= +166.532 [Dome] delta Az = -003.070\n",
      "[Telescope] delta Alt = -034.047 | delta Az= +162.532 [Dome] delta Az = -003.070\n",
      "[Telescope] delta Alt = -030.047 | delta Az= +158.531 [Dome] delta Az = -003.070\n",
      "[Telescope] delta Alt = -026.057 | delta Az= +154.531 [Dome] delta Az = -003.070\n",
      "[Telescope] delta Alt = -022.115 | delta Az= +150.530 [Dome] delta Az = -003.070\n",
      "[Telescope] delta Alt = -018.278 | delta Az= +146.528 [Dome] delta Az = -003.070\n",
      "[Telescope] delta Alt = -014.628 | delta Az= +142.530 [Dome] delta Az = -003.070\n",
      "[Telescope] delta Alt = -011.251 | delta Az= +138.530 [Dome] delta Az = -003.070\n",
      "[Telescope] delta Alt = -008.229 | delta Az= +134.527 [Dome] delta Az = -003.070\n",
      "[Telescope] delta Alt = -005.636 | delta Az= +130.528 [Dome] delta Az = -003.070\n",
      "[Telescope] delta Alt = -003.529 | delta Az= +126.528 [Dome] delta Az = -003.070\n",
      "[Telescope] delta Alt = -001.950 | delta Az= +122.527 [Dome] delta Az = -003.070\n",
      "[Telescope] delta Alt = -000.877 | delta Az= +118.528 [Dome] delta Az = -003.070\n",
      "[Telescope] delta Alt = -000.272 | delta Az= +114.526 [Dome] delta Az = -003.070\n",
      "[Telescope] delta Alt = -000.033 | delta Az= +110.526 [Dome] delta Az = -003.070\n",
      "[Telescope] delta Alt = +000.000 | delta Az= +106.526 [Dome] delta Az = -003.070\n",
      "[Telescope] delta Alt = +000.000 | delta Az= +102.525 [Dome] delta Az = -003.070\n",
      "[Telescope] delta Alt = +000.000 | delta Az= +098.525 [Dome] delta Az = -003.070\n",
      "[Telescope] delta Alt = +000.000 | delta Az= +094.524 [Dome] delta Az = -003.070\n",
      "[Telescope] delta Alt = -000.000 | delta Az= +090.523 [Dome] delta Az = -003.070\n",
      "[Telescope] delta Alt = -000.000 | delta Az= +086.524 [Dome] delta Az = -003.070\n",
      "[Telescope] delta Alt = -000.000 | delta Az= +082.524 [Dome] delta Az = -003.070\n",
      "[Telescope] delta Alt = +000.000 | delta Az= +078.522 [Dome] delta Az = -003.070\n",
      "[Telescope] delta Alt = -000.000 | delta Az= +074.522 [Dome] delta Az = -003.070\n",
      "[Telescope] delta Alt = +000.000 | delta Az= +070.523 [Dome] delta Az = -003.070\n",
      "[Telescope] delta Alt = +000.000 | delta Az= +066.522 [Dome] delta Az = -003.070\n",
      "[Telescope] delta Alt = -000.000 | delta Az= +062.521 [Dome] delta Az = -003.070\n",
      "[Telescope] delta Alt = +000.000 | delta Az= +058.521 [Dome] delta Az = -003.070\n",
      "[Telescope] delta Alt = +000.000 | delta Az= +054.521 [Dome] delta Az = -003.070\n",
      "[Telescope] delta Alt = -000.000 | delta Az= +050.521 [Dome] delta Az = -003.070\n",
      "[Telescope] delta Alt = +000.000 | delta Az= +046.520 [Dome] delta Az = -003.070\n",
      "[Telescope] delta Alt = -000.000 | delta Az= +042.520 [Dome] delta Az = -003.070\n",
      "[Telescope] delta Alt = +000.000 | delta Az= +038.519 [Dome] delta Az = -003.070\n",
      "[Telescope] delta Alt = +000.000 | delta Az= +034.518 [Dome] delta Az = -003.070\n",
      "[Telescope] delta Alt = -000.000 | delta Az= +030.519 [Dome] delta Az = -003.070\n",
      "[Telescope] delta Alt = +000.000 | delta Az= +026.526 [Dome] delta Az = -003.070\n",
      "[Telescope] delta Alt = +000.000 | delta Az= +022.573 [Dome] delta Az = -003.070\n",
      "[Telescope] delta Alt = +000.000 | delta Az= +018.723 [Dome] delta Az = -003.070\n",
      "[Telescope] delta Alt = -000.000 | delta Az= +015.050 [Dome] delta Az = -003.070\n",
      "[Telescope] delta Alt = -000.000 | delta Az= +011.635 [Dome] delta Az = -003.070\n",
      "[Telescope] delta Alt = +000.000 | delta Az= +008.569 [Dome] delta Az = -003.070\n",
      "[Telescope] delta Alt = +000.000 | delta Az= +005.923 [Dome] delta Az = -003.070\n",
      "[Telescope] delta Alt = +000.000 | delta Az= +003.761 [Dome] delta Az = -003.070\n",
      "[Telescope] delta Alt = +000.000 | delta Az= +002.112 [Dome] delta Az = -003.070\n",
      "[Telescope] delta Alt = +000.000 | delta Az= +000.981 [Dome] delta Az = -003.070\n",
      "[Telescope] delta Alt = +000.000 | delta Az= +000.323 [Dome] delta Az = -003.070\n",
      "[Telescope] delta Alt = +000.000 | delta Az= +000.048 [Dome] delta Az = -003.070\n",
      "[Telescope] delta Alt = +000.000 | delta Az= -000.000 [Dome] delta Az = -003.070\n",
      "Axes in position.\n",
      "None\n"
     ]
    }
   ],
   "source": [
    "#target off detector \n",
    "await attcs.slew_object(name = \"HD 185975\",  rot_pa=0.0, slew_timeout=240.)"
   ]
  },
  {
   "cell_type": "code",
   "execution_count": 11,
   "metadata": {},
   "outputs": [
    {
     "name": "stdout",
     "output_type": "stream",
     "text": [
      "Gathering settings.\n",
      "No settings for atmcs.\n",
      "Using                                                                                                                                 from settingVersions event.\n",
      "No settings for atptg.\n",
      "Couldn't get settingVersions event. Using empty settings.\n",
      "No settings for ataos.\n",
      "Using current from settingVersions event.\n",
      "No settings for atpneumatics.\n",
      "Using                                                                                                                                 from settingVersions event.\n",
      "No settings for athexapod.\n",
      "Using current from settingVersions event.\n",
      "No settings for atdome.\n",
      "Using test from settingVersions event.\n",
      "No settings for atdometrajectory.\n",
      "Using  from settingVersions event.\n",
      "Settings versions: {'atmcs': '                                                                                                                               ', 'atptg': '', 'ataos': 'current', 'atpneumatics': '                                                                                                                               ', 'athexapod': 'current', 'atdome': 'test', 'atdometrajectory': ''}\n",
      "Enabling all components\n",
      "Enabling  atmcs\n",
      "Enabling  atptg\n",
      "Enabling  ataos\n",
      "Enabling  atpneumatics\n",
      "Enabling  athexapod\n",
      "Enabling  atdome\n",
      "[atmcs]::[<State.ENABLED: 2>]\n",
      "[atptg]::[<State.ENABLED: 2>]\n",
      "[ataos]::[<State.ENABLED: 2>]\n",
      "[atpneumatics]::[<State.ENABLED: 2>]\n",
      "[athexapod]::[<State.ENABLED: 2>]\n",
      "[atdome]::[<State.ENABLED: 2>]\n",
      "[atdometrajectory]::<State.DISABLED: 1>\n",
      "All components enabled.\n",
      "Gathering settings.\n",
      "No settings for atcamera.\n",
      "Using  from settingVersions event.\n",
      "No settings for atspectrograph.\n",
      "Using current from settingVersions event.\n",
      "No settings for atheaderservice.\n",
      "Couldn't get settingVersions event. Using empty settings.\n",
      "No settings for atarchiver.\n",
      "Using normal from settingVersions event.\n",
      "Settings versions: {'atcamera': '', 'atspectrograph': 'current', 'atheaderservice': '', 'atarchiver': 'normal'}\n",
      "Enabling all components\n",
      "Enabling  atcamera\n",
      "Enabling  atspectrograph\n",
      "Enabling  atheaderservice\n",
      "Enabling  atarchiver\n",
      "[atcamera]::[<State.ENABLED: 2>]\n",
      "[atspectrograph]::[<State.ENABLED: 2>]\n",
      "[atheaderservice]::[<State.ENABLED: 2>]\n",
      "[atarchiver]::[<State.ENABLED: 2>]\n",
      "All components enabled.\n"
     ]
    }
   ],
   "source": [
    "#Because I stopped it, I need to rerun the enable again.  \n",
    "\n",
    "await attcs.enable()\n",
    "await latiss.enable() "
   ]
  },
  {
   "cell_type": "code",
   "execution_count": 12,
   "metadata": {},
   "outputs": [
    {
     "name": "stdout",
     "output_type": "stream",
     "text": [
      "RemoteEvent(ATMCS, 0, target) falling behind; read 22 messages\n",
      "RemoteEvent(ATDomeTrajectory, 0, logMessage) falling behind; read 13 messages\n",
      "RemoteEvent(ATMCS, 0, target) falling behind; read 66 messages\n",
      "RemoteEvent(ATDomeTrajectory, 0, logMessage) falling behind; read 13 messages\n"
     ]
    },
    {
     "data": {
      "text/plain": [
       "<ddsutil.ATDome_ackcmd_ff080bab at 0x7f47a99129d0>"
      ]
     },
     "execution_count": 12,
     "metadata": {},
     "output_type": "execute_result"
    }
   ],
   "source": [
    "#And we forgot to open the lower shutter...Do it now. \n",
    "await attcs.atdome.cmd_openShutter.start() "
   ]
  },
  {
   "cell_type": "code",
   "execution_count": 13,
   "metadata": {},
   "outputs": [
    {
     "name": "stdout",
     "output_type": "stream",
     "text": [
      "Generating group_id\n",
      "OBJECT 0001 - 0001\n",
      "[2020031200144]\n",
      "RemoteEvent(ATHeaderService, 0, logMessage) falling behind; read 15 messages\n"
     ]
    }
   ],
   "source": [
    "#Take a quick exposure w/ the grating to get a reference position. \n",
    "#Put to nominal best fit position \n",
    "best_focus = -0.19\n",
    "empty_to_quad = +0.0265\n",
    "empty_to_BG = +0.0227\n",
    "empty_to_RG = +0.0227 \n",
    "await attcs.ataos.cmd_applyFocusOffset.set_start(offset = best_focus + empty_to_quad )\n",
    "#They also moved the star from underme, so I need to get it recentered\n",
    "science_image = await latiss.take_object(exptime=2., n=1, filter='empty_1',grating='ronchi90lpmm')\n",
    "print (science_image)"
   ]
  },
  {
   "cell_type": "code",
   "execution_count": 14,
   "metadata": {},
   "outputs": [
    {
     "name": "stdout",
     "output_type": "stream",
     "text": [
      "Generating group_id\n",
      "OBJECT 0001 - 0001\n"
     ]
    }
   ],
   "source": [
    "#They also moved the star from underme, so I need to get it recentered\n",
    "science_image = await latiss.take_object(exptime=2., n=1, filter='empty_1',grating='ronchi90lpmm')"
   ]
  },
  {
   "cell_type": "code",
   "execution_count": 16,
   "metadata": {},
   "outputs": [
    {
     "name": "stdout",
     "output_type": "stream",
     "text": [
      "[-43.8 -76.8]\n"
     ]
    }
   ],
   "source": [
    "target_pix = np.array((1725, 1704))\n",
    "shift = ( target_pix -(np.array([2163, 2472]))) / 10\n",
    "print (shift)"
   ]
  },
  {
   "cell_type": "code",
   "execution_count": 18,
   "metadata": {},
   "outputs": [
    {
     "name": "stdout",
     "output_type": "stream",
     "text": [
      "Applying x/y offset: -43.8/ -76.8 \n",
      "Applying Az/El offset: 80.68638233855664/ 36.143985739210564 \n",
      "Waiting for telescope to settle.\n",
      "Done\n"
     ]
    }
   ],
   "source": [
    "await attcs.offset_xy(*shift, persistent = True)"
   ]
  },
  {
   "cell_type": "code",
   "execution_count": 19,
   "metadata": {},
   "outputs": [
    {
     "name": "stdout",
     "output_type": "stream",
     "text": [
      "Generating group_id\n",
      "OBJECT 0001 - 0001\n",
      "RemoteEvent(ATMCS, 0, target) falling behind; read 81 messages\n",
      "RemoteEvent(ATDomeTrajectory, 0, logMessage) falling behind; read 30 messages\n",
      "RemoteEvent(ATDomeTrajectory, 0, logMessage) falling behind; read 15 messages\n"
     ]
    }
   ],
   "source": [
    "#Did I get the position right? \n",
    "science_image = await latiss.take_object(exptime=2., n=1, filter='empty_1',grating='ronchi90lpmm')"
   ]
  },
  {
   "cell_type": "code",
   "execution_count": 20,
   "metadata": {},
   "outputs": [
    {
     "name": "stdout",
     "output_type": "stream",
     "text": [
      "[-18.6  19.3]\n"
     ]
    }
   ],
   "source": [
    "target_pix = np.array((1725, 1704))\n",
    "shift = ( target_pix -(np.array([1911, 1511]))) / 10\n",
    "print (shift)"
   ]
  },
  {
   "cell_type": "code",
   "execution_count": 21,
   "metadata": {},
   "outputs": [
    {
     "name": "stdout",
     "output_type": "stream",
     "text": [
      "Applying x/y offset: -18.6/ 19.3 \n",
      "Applying Az/El offset: -17.166498872661514/ 20.58546371726688 \n",
      "Waiting for telescope to settle.\n",
      "Done\n"
     ]
    }
   ],
   "source": [
    "await attcs.offset_xy(*shift, persistent = True)"
   ]
  },
  {
   "cell_type": "code",
   "execution_count": 22,
   "metadata": {},
   "outputs": [
    {
     "name": "stdout",
     "output_type": "stream",
     "text": [
      "Generating group_id\n",
      "OBJECT 0001 - 0001\n"
     ]
    }
   ],
   "source": [
    "#Did I get the position right? \n",
    "science_image = await latiss.take_object(exptime=2., n=1, filter='empty_1',grating='ronchi90lpmm')"
   ]
  },
  {
   "cell_type": "code",
   "execution_count": 23,
   "metadata": {},
   "outputs": [
    {
     "name": "stdout",
     "output_type": "stream",
     "text": [
      "[2020031200148]\n"
     ]
    }
   ],
   "source": [
    "print (science_image)"
   ]
  },
  {
   "cell_type": "code",
   "execution_count": null,
   "metadata": {},
   "outputs": [],
   "source": [
    "#Did I get the position right? \n",
    "science_image = await latiss.take_object(exptime=2., n=1, filter='empty_1',grating='ronchi90lpmm')"
   ]
  },
  {
   "cell_type": "code",
   "execution_count": 24,
   "metadata": {},
   "outputs": [
    {
     "name": "stdout",
     "output_type": "stream",
     "text": [
      "Generating group_id\n",
      "OBJECT 0001 - 0001\n"
     ]
    }
   ],
   "source": [
    "await attcs.ataos.cmd_applyFocusOffset.set_start(offset = best_focus )\n",
    "science_image = await latiss.take_object(exptime=30., n=1, filter='empty_1',grating='ronchi90lpmm')"
   ]
  },
  {
   "cell_type": "code",
   "execution_count": 25,
   "metadata": {},
   "outputs": [
    {
     "name": "stdout",
     "output_type": "stream",
     "text": [
      "Generating group_id\n",
      "OBJECT 0001 - 0001\n",
      "[2020031200150]\n"
     ]
    }
   ],
   "source": [
    "await attcs.ataos.cmd_applyFocusOffset.set_start(offset = best_focus + empty_to_quad )\n",
    "science_image = await latiss.take_object(exptime=30., n=1, filter='quadnotch1',grating='ronchi90lpmm')\n",
    "print (science_image)"
   ]
  },
  {
   "cell_type": "code",
   "execution_count": 26,
   "metadata": {},
   "outputs": [
    {
     "name": "stdout",
     "output_type": "stream",
     "text": [
      "Generating group_id\n",
      "OBJECT 0001 - 0001\n",
      "[2020031200151]\n"
     ]
    }
   ],
   "source": [
    "await attcs.ataos.cmd_applyFocusOffset.set_start(offset = best_focus + empty_to_BG )\n",
    "science_image = await latiss.take_object(exptime=30., n=1, filter='BG40',grating='ronchi90lpmm')\n",
    "print (science_image)"
   ]
  },
  {
   "cell_type": "code",
   "execution_count": 27,
   "metadata": {},
   "outputs": [
    {
     "name": "stdout",
     "output_type": "stream",
     "text": [
      "Generating group_id\n",
      "OBJECT 0001 - 0001\n",
      "[2020031200152]\n",
      "RemoteEvent(ATMCS, 0, target) falling behind; read 28 messages\n",
      "RemoteEvent(ATDomeTrajectory, 0, logMessage) falling behind; read 12 messages\n",
      "RemoteEvent(ATMCS, 0, target) falling behind; read 33 messages\n",
      "RemoteEvent(ATDomeTrajectory, 0, logMessage) falling behind; read 31 messages\n",
      "RemoteTelemetry(ATMCS, 0, trajectory) falling behind; read 11 messages\n",
      "RemoteTelemetry(ATMCS, 0, torqueDemand) falling behind; read 11 messages\n",
      "RemoteTelemetry(ATMCS, 0, nasymth_m3_mountMotorEncoders) falling behind; read 11 messages\n",
      "RemoteTelemetry(ATMCS, 0, mount_Nasmyth_Encoders) falling behind; read 11 messages\n",
      "RemoteTelemetry(ATMCS, 0, mount_AzEl_Encoders) falling behind; read 11 messages\n",
      "RemoteTelemetry(ATMCS, 0, measuredTorque) falling behind; read 10 messages\n",
      "RemoteTelemetry(ATMCS, 0, measuredMotorVelocity) falling behind; read 10 messages\n",
      "RemoteTelemetry(ATMCS, 0, azEl_mountMotorEncoders) falling behind; read 10 messages\n",
      "RemoteEvent(ATMCS, 0, heartbeat) falling behind; read 10 messages\n",
      "RemoteEvent(ATHeaderService, 0, logMessage) falling behind; read 12 messages\n",
      "RemoteEvent(ATHeaderService, 0, logMessage) falling behind; read 86 messages\n"
     ]
    }
   ],
   "source": [
    "await attcs.ataos.cmd_applyFocusOffset.set_start(offset = best_focus + empty_to_RG )\n",
    "science_image = await latiss.take_object(exptime=30., n=1, filter='RG610',grating='ronchi90lpmm')\n",
    "print (science_image)"
   ]
  },
  {
   "cell_type": "code",
   "execution_count": 28,
   "metadata": {},
   "outputs": [
    {
     "data": {
      "text/plain": [
       "<ddsutil.ATAOS_ackcmd_33d5c92b at 0x7f47a9a9f310>"
      ]
     },
     "execution_count": 28,
     "metadata": {},
     "output_type": "execute_result"
    },
    {
     "name": "stdout",
     "output_type": "stream",
     "text": [
      "RemoteEvent(ATHeaderService, 0, logMessage) falling behind; read 14 messages\n"
     ]
    }
   ],
   "source": [
    "await attcs.ataos.cmd_applyFocusOffset.set_start(offset = best_focus )"
   ]
  },
  {
   "cell_type": "code",
   "execution_count": null,
   "metadata": {},
   "outputs": [],
   "source": [
    "await attcs.ataos.cmd_reset"
   ]
  },
  {
   "cell_type": "code",
   "execution_count": 29,
   "metadata": {},
   "outputs": [
    {
     "name": "stdout",
     "output_type": "stream",
     "text": [
      "Slewing to HD 34816: 05 19 34.5240 -13 10 36.440\n",
      "Sending command\n",
      "Stop tracking.\n",
      "Mount tracking state is 9\n",
      "Tracking state: 10.\n",
      "Tracking state: 8.\n",
      "In Position: True.\n",
      "In Position: False.\n",
      "Scheduling check coroutines\n",
      "process as completed...\n",
      "Got False\n",
      "Telescope not in position\n",
      "atmcs: <State.ENABLED: 2>\n",
      "atptg: <State.ENABLED: 2>\n",
      "ataos: <State.ENABLED: 2>\n",
      "atpneumatics: <State.ENABLED: 2>\n",
      "athexapod: <State.ENABLED: 2>\n",
      "atdome: <State.ENABLED: 2>\n",
      "[Telescope] delta Alt = +000.002 | delta Az= +000.009 [Dome] delta Az = -000.231\n",
      "[Telescope] delta Alt = +000.002 | delta Az= -000.003 [Dome] delta Az = -000.231\n",
      "Axes in position.\n",
      "None\n"
     ]
    }
   ],
   "source": [
    "#HD60753\n",
    "#target off detector \n",
    "await attcs.slew_object(name = \"HD 34816\",  rot_pa=0.0, slew_timeout=240.)"
   ]
  },
  {
   "cell_type": "code",
   "execution_count": 30,
   "metadata": {},
   "outputs": [
    {
     "name": "stdout",
     "output_type": "stream",
     "text": [
      "Slewing to HD 34816: 05 19 34.5240 -13 10 36.440\n",
      "Sending command\n",
      "Stop tracking.\n",
      "Mount tracking state is 9\n",
      "Tracking state: 10.\n",
      "Tracking state: 8.\n",
      "In Position: True.\n",
      "In Position: False.\n",
      "Scheduling check coroutines\n",
      "process as completed...\n",
      "Got False\n",
      "Telescope not in position\n",
      "atmcs: <State.ENABLED: 2>\n",
      "atptg: <State.ENABLED: 2>\n",
      "ataos: <State.ENABLED: 2>\n",
      "atpneumatics: <State.ENABLED: 2>\n",
      "athexapod: <State.ENABLED: 2>\n",
      "atdome: <State.ENABLED: 2>\n",
      "[Telescope] delta Alt = +000.004 | delta Az= -000.008 [Dome] delta Az = -000.231\n",
      "[Telescope] delta Alt = +000.002 | delta Az= +000.001 [Dome] delta Az = -000.231\n",
      "Axes in position.\n",
      "None\n",
      "RemoteEvent(ATMCS, 0, target) falling behind; read 20 messages\n",
      "RemoteEvent(ATMCS, 0, target) falling behind; read 23 messages\n",
      "RemoteEvent(ATDomeTrajectory, 0, logMessage) falling behind; read 10 messages\n",
      "RemoteEvent(ATMCS, 0, target) falling behind; read 58 messages\n",
      "RemoteEvent(ATDomeTrajectory, 0, logMessage) falling behind; read 10 messages\n",
      "RemoteEvent(ATMCS, 0, target) falling behind; read 21 messages\n",
      "RemoteEvent(ATHeaderService, 0, logMessage) falling behind; read 11 messages\n",
      "RemoteEvent(ATHeaderService, 0, logMessage) falling behind; read 10 messages\n",
      "RemoteEvent(ATHeaderService, 0, logMessage) falling behind; read 10 messages\n",
      "RemoteEvent(ATHeaderService, 0, logMessage) falling behind; read 10 messages\n",
      "RemoteEvent(ATHeaderService, 0, logMessage) falling behind; read 11 messages\n",
      "RemoteEvent(ATHeaderService, 0, logMessage) falling behind; read 15 messages\n",
      "RemoteEvent(ATHeaderService, 0, logMessage) falling behind; read 12 messages\n",
      "RemoteEvent(ATHeaderService, 0, logMessage) falling behind; read 10 messages\n",
      "RemoteEvent(ATHeaderService, 0, logMessage) falling behind; read 11 messages\n",
      "RemoteEvent(ATHeaderService, 0, logMessage) falling behind; read 11 messages\n",
      "RemoteEvent(ATHeaderService, 0, logMessage) falling behind; read 10 messages\n",
      "RemoteEvent(ATHeaderService, 0, logMessage) falling behind; read 52 messages\n",
      "RemoteEvent(ATHeaderService, 0, logMessage) falling behind; read 12 messages\n",
      "RemoteEvent(ATHeaderService, 0, logMessage) falling behind; read 10 messages\n",
      "RemoteEvent(ATHeaderService, 0, logMessage) falling behind; read 10 messages\n",
      "RemoteEvent(ATHeaderService, 0, logMessage) falling behind; read 10 messages\n",
      "RemoteEvent(ATHeaderService, 0, logMessage) falling behind; read 12 messages\n",
      "RemoteEvent(ATHeaderService, 0, logMessage) falling behind; read 12 messages\n",
      "RemoteEvent(ATHeaderService, 0, logMessage) falling behind; read 10 messages\n",
      "RemoteEvent(ATHeaderService, 0, logMessage) falling behind; read 12 messages\n",
      "RemoteEvent(ATHeaderService, 0, logMessage) falling behind; read 11 messages\n"
     ]
    }
   ],
   "source": [
    "#HD60753\n",
    "#target off detector \n",
    "await attcs.slew_object(name = \"HD 34816\",  rot_pa=74.0, slew_timeout=240.)"
   ]
  },
  {
   "cell_type": "code",
   "execution_count": 31,
   "metadata": {},
   "outputs": [
    {
     "name": "stdout",
     "output_type": "stream",
     "text": [
      "Resetting dropped connection: simbad.u-strasbg.fr\n",
      "http://simbad.u-strasbg.fr:80 \"POST /simbad/sim-script HTTP/1.1\" 200 None\n",
      "Slewing to HD 116351: 13 23 54.2476 -46 12 00.503\n",
      "RemoteEvent(ATDomeTrajectory, 0, logMessage) falling behind; read 63 messages\n",
      "RemoteEvent(ATMCS, 0, target) falling behind; read 64 messages\n",
      "RemoteTelemetry(ATPtg, 0, timeAndDate) falling behind; read 17 messages\n",
      "Sending command\n",
      "Stop tracking.\n",
      "Mount tracking state is 9\n",
      "RemoteTelemetry(ATDome, 0, position) falling behind; read 16 messages\n",
      "RemoteEvent(ATDome, 0, doorEncoderExtremes) falling behind; read 17 messages\n",
      "RemoteTelemetry(ATPtg, 0, mountStatus) falling behind; read 17 messages\n",
      "RemoteTelemetry(ATPtg, 0, guidingAndOffsets) falling behind; read 17 messages\n",
      "RemoteTelemetry(ATPtg, 0, currentTargetStatus) falling behind; read 18 messages\n",
      "Tracking state: 10.\n",
      "Tracking state: 8.\n",
      "In Position: True.\n",
      "In Position: False.\n",
      "Scheduling check coroutines\n",
      "process as completed...\n",
      "Got False\n",
      "Telescope not in position\n",
      "atmcs: <State.ENABLED: 2>\n",
      "atptg: <State.ENABLED: 2>\n",
      "ataos: <State.ENABLED: 2>\n",
      "atpneumatics: <State.ENABLED: 2>\n",
      "athexapod: <State.ENABLED: 2>\n",
      "atdome: <State.ENABLED: 2>\n",
      "[Telescope] delta Alt = +026.036 | delta Az= -103.388 [Dome] delta Az = -102.958\n",
      "[Telescope] delta Alt = +026.063 | delta Az= -101.790 [Dome] delta Az = -102.388\n",
      "[Telescope] delta Alt = +025.641 | delta Az= -097.810 [Dome] delta Az = -101.038\n",
      "[Telescope] delta Alt = +024.368 | delta Az= -093.801 [Dome] delta Az = -098.638\n",
      "[Telescope] delta Alt = +022.103 | delta Az= -089.792 [Dome] delta Az = -095.308\n",
      "[Telescope] delta Alt = +018.959 | delta Az= -085.782 [Dome] delta Az = -091.008\n",
      "[Telescope] delta Alt = +015.211 | delta Az= -081.772 [Dome] delta Az = -086.348\n",
      "[Telescope] delta Alt = +011.235 | delta Az= -077.762 [Dome] delta Az = -080.268\n",
      "[Telescope] delta Alt = +007.457 | delta Az= -073.753 [Dome] delta Az = -073.398\n",
      "[Telescope] delta Alt = +004.254 | delta Az= -069.743 [Dome] delta Az = -066.418\n",
      "[Telescope] delta Alt = +001.907 | delta Az= -065.733 [Dome] delta Az = -060.168\n",
      "[Telescope] delta Alt = +000.539 | delta Az= -061.723 [Dome] delta Az = -053.178\n",
      "[Telescope] delta Alt = +000.041 | delta Az= -057.715 [Dome] delta Az = -046.158\n",
      "[Telescope] delta Alt = -000.001 | delta Az= -053.705 [Dome] delta Az = -039.898\n",
      "[Telescope] delta Alt = -000.001 | delta Az= -049.695 [Dome] delta Az = -032.878\n",
      "[Telescope] delta Alt = -000.001 | delta Az= -045.686 [Dome] delta Az = -025.918\n",
      "[Telescope] delta Alt = -000.001 | delta Az= -041.674 [Dome] delta Az = -019.608\n",
      "[Telescope] delta Alt = -000.002 | delta Az= -037.666 [Dome] delta Az = -012.598\n",
      "[Telescope] delta Alt = -000.001 | delta Az= -033.657 [Dome] delta Az = -005.608\n",
      "[Telescope] delta Alt = -000.001 | delta Az= -029.647 [Dome] delta Az = +000.292\n",
      "[Telescope] delta Alt = -000.001 | delta Az= -025.648 [Dome] delta Az = +002.752\n",
      "[Telescope] delta Alt = -000.002 | delta Az= -021.705 [Dome] delta Az = +003.012\n",
      "[Telescope] delta Alt = -000.001 | delta Az= -017.878 [Dome] delta Az = +003.012\n",
      "[Telescope] delta Alt = -000.001 | delta Az= -014.245 [Dome] delta Az = +003.012\n",
      "[Telescope] delta Alt = -000.001 | delta Az= -010.896 [Dome] delta Az = +003.012\n",
      "[Telescope] delta Alt = -000.001 | delta Az= -007.913 [Dome] delta Az = +003.012\n",
      "[Telescope] delta Alt = -000.001 | delta Az= -005.369 [Dome] delta Az = +003.012\n",
      "[Telescope] delta Alt = -000.001 | delta Az= -003.321 [Dome] delta Az = +003.012\n",
      "[Telescope] delta Alt = -000.002 | delta Az= -001.796 [Dome] delta Az = +003.012\n",
      "[Telescope] delta Alt = -000.001 | delta Az= -000.782 [Dome] delta Az = +003.012\n",
      "[Telescope] delta Alt = -000.001 | delta Az= -000.228 [Dome] delta Az = +003.012\n",
      "[Telescope] delta Alt = -000.002 | delta Az= -000.025 [Dome] delta Az = +003.012\n",
      "[Telescope] delta Alt = -000.001 | delta Az= +000.000 [Dome] delta Az = +003.012\n",
      "Axes in position.\n",
      "None\n",
      "RemoteEvent(ATMCS, 0, target) falling behind; read 59 messages\n",
      "RemoteEvent(ATDomeTrajectory, 0, logMessage) falling behind; read 10 messages\n",
      "RemoteTelemetry(ATMCS, 0, torqueDemand) falling behind; read 10 messages\n",
      "RemoteTelemetry(ATMCS, 0, measuredTorque) falling behind; read 10 messages\n",
      "RemoteTelemetry(ATMCS, 0, measuredMotorVelocity) falling behind; read 10 messages\n",
      "RemoteTelemetry(ATMCS, 0, azEl_mountMotorEncoders) falling behind; read 10 messages\n",
      "RemoteEvent(ATMCS, 0, heartbeat) falling behind; read 10 messages\n",
      "RemoteTelemetry(ATPtg, 0, timeAndDate) falling behind; read 17 messages\n",
      "RemoteTelemetry(ATPtg, 0, mountStatus) falling behind; read 10 messages\n",
      "RemoteTelemetry(ATPtg, 0, guidingAndOffsets) falling behind; read 17 messages\n",
      "RemoteTelemetry(ATPtg, 0, currentTargetStatus) falling behind; read 16 messages\n",
      "RemoteTelemetry(ATPtg, 0, currentTargetStatus) falling behind; read 31 messages\n",
      "RemoteEvent(ATDomeTrajectory, 0, logMessage) falling behind; read 100 messages\n",
      "RemoteEvent(ATDomeTrajectory, 0, heartbeat) falling behind; read 15 messages\n",
      "RemoteEvent(ATMCS, 0, target) falling behind; read 100 messages\n",
      "RemoteEvent(ATDomeTrajectory, 0, logMessage) falling behind; read 14 messages\n"
     ]
    }
   ],
   "source": [
    "await attcs.slew_object(\"HD 116351\", rot_pa = 0.0, slew_timeout=240.)"
   ]
  },
  {
   "cell_type": "code",
   "execution_count": 32,
   "metadata": {},
   "outputs": [
    {
     "name": "stdout",
     "output_type": "stream",
     "text": [
      "Slewing to HD 116351: 13 23 54.2476 -46 12 00.503\n",
      "Sending command\n",
      "Stop tracking.\n",
      "Mount tracking state is 8\n",
      "In Position: False.\n",
      "Scheduling check coroutines\n",
      "process as completed...\n",
      "Got False\n",
      "Telescope not in position\n",
      "atmcs: <State.ENABLED: 2>\n",
      "atptg: <State.ENABLED: 2>\n",
      "ataos: <State.ENABLED: 2>\n",
      "atpneumatics: <State.ENABLED: 2>\n",
      "athexapod: <State.ENABLED: 2>\n",
      "atdome: <State.ENABLED: 2>\n",
      "[Telescope] delta Alt = +000.839 | delta Az= +002.057 [Dome] delta Az = +003.012\n",
      "[Telescope] delta Alt = +000.842 | delta Az= +002.064 [Dome] delta Az = +003.012\n",
      "[Telescope] delta Alt = +000.846 | delta Az= +002.075 [Dome] delta Az = +003.012\n",
      "[Telescope] delta Alt = +000.851 | delta Az= +002.087 [Dome] delta Az = +003.012\n",
      "[Telescope] delta Alt = +000.854 | delta Az= +002.097 [Dome] delta Az = +003.012\n",
      "[Telescope] delta Alt = +000.859 | delta Az= +002.108 [Dome] delta Az = +003.012\n",
      "[Telescope] delta Alt = +000.863 | delta Az= +002.120 [Dome] delta Az = +003.012\n",
      "[Telescope] delta Alt = +000.867 | delta Az= +002.130 [Dome] delta Az = +003.012\n",
      "[Telescope] delta Alt = +000.871 | delta Az= +002.142 [Dome] delta Az = +003.012\n",
      "[Telescope] delta Alt = +000.875 | delta Az= +002.153 [Dome] delta Az = +003.012\n",
      "[Telescope] delta Alt = +000.880 | delta Az= +002.164 [Dome] delta Az = +003.012\n",
      "[Telescope] delta Alt = +000.884 | delta Az= +002.175 [Dome] delta Az = +003.012\n",
      "[Telescope] delta Alt = +000.888 | delta Az= +002.186 [Dome] delta Az = +003.012\n",
      "[Telescope] delta Alt = +000.892 | delta Az= +002.196 [Dome] delta Az = +003.012\n",
      "[Telescope] delta Alt = +000.896 | delta Az= +002.208 [Dome] delta Az = +003.012\n",
      "[Telescope] delta Alt = +000.900 | delta Az= +002.219 [Dome] delta Az = +003.012\n",
      "[Telescope] delta Alt = +000.904 | delta Az= +002.229 [Dome] delta Az = +003.012\n",
      "[Telescope] delta Alt = +000.909 | delta Az= +002.241 [Dome] delta Az = +003.012\n",
      "[Telescope] delta Alt = +000.913 | delta Az= +002.253 [Dome] delta Az = +003.012\n",
      "[Telescope] delta Alt = +000.917 | delta Az= +002.264 [Dome] delta Az = +003.012\n",
      "[Telescope] delta Alt = +000.921 | delta Az= +002.274 [Dome] delta Az = +003.012\n",
      "[Telescope] delta Alt = +000.925 | delta Az= +002.286 [Dome] delta Az = +003.012\n",
      "[Telescope] delta Alt = +000.930 | delta Az= +002.297 [Dome] delta Az = +003.012\n"
     ]
    },
    {
     "ename": "CancelledError",
     "evalue": "",
     "output_type": "error",
     "traceback": [
      "\u001b[0;31m---------------------------------------------------------------------------\u001b[0m",
      "\u001b[0;31mCancelledError\u001b[0m                            Traceback (most recent call last)",
      "\u001b[0;32m<ipython-input-32-c2e10b4e10e0>\u001b[0m in \u001b[0;36masync-def-wrapper\u001b[0;34m()\u001b[0m\n",
      "\u001b[0;32m~/repos/ts_standardscripts/python/lsst/ts/standardscripts/auxtel/attcs.py\u001b[0m in \u001b[0;36mslew_object\u001b[0;34m(self, name, rot_sky, pa_ang, rot_pa, slew_timeout, track_id)\u001b[0m\n\u001b[1;32m    190\u001b[0m                              \u001b[0mtarget_name\u001b[0m\u001b[0;34m=\u001b[0m\u001b[0mname\u001b[0m\u001b[0;34m,\u001b[0m\u001b[0;34m\u001b[0m\u001b[0;34m\u001b[0m\u001b[0m\n\u001b[1;32m    191\u001b[0m                              \u001b[0mslew_timeout\u001b[0m\u001b[0;34m=\u001b[0m\u001b[0mslew_timeout\u001b[0m\u001b[0;34m,\u001b[0m\u001b[0;34m\u001b[0m\u001b[0;34m\u001b[0m\u001b[0m\n\u001b[0;32m--> 192\u001b[0;31m                              track_id=track_id)\n\u001b[0m\u001b[1;32m    193\u001b[0m \u001b[0;34m\u001b[0m\u001b[0m\n\u001b[1;32m    194\u001b[0m     async def slew_icrs(self, ra, dec, rot_sky=None, pa_ang=None, rot_pa=0.,\n",
      "\u001b[0;32m~/repos/ts_standardscripts/python/lsst/ts/standardscripts/auxtel/attcs.py\u001b[0m in \u001b[0;36mslew_icrs\u001b[0;34m(self, ra, dec, rot_sky, pa_ang, rot_pa, target_name, slew_timeout, track_id)\u001b[0m\n\u001b[1;32m    270\u001b[0m                         \u001b[0mrot_mode\u001b[0m\u001b[0;34m=\u001b[0m\u001b[0mATPtg\u001b[0m\u001b[0;34m.\u001b[0m\u001b[0mRotMode\u001b[0m\u001b[0;34m.\u001b[0m\u001b[0mFIELD\u001b[0m\u001b[0;34m,\u001b[0m\u001b[0;34m\u001b[0m\u001b[0;34m\u001b[0m\u001b[0m\n\u001b[1;32m    271\u001b[0m                         \u001b[0mslew_timeout\u001b[0m\u001b[0;34m=\u001b[0m\u001b[0mslew_timeout\u001b[0m\u001b[0;34m,\u001b[0m\u001b[0;34m\u001b[0m\u001b[0;34m\u001b[0m\u001b[0m\n\u001b[0;32m--> 272\u001b[0;31m                         track_id=track_id)\n\u001b[0m\u001b[1;32m    273\u001b[0m \u001b[0;34m\u001b[0m\u001b[0m\n\u001b[1;32m    274\u001b[0m     async def slew(self, ra, dec, rotPA=0., target_name=\"slew_icrs\",\n",
      "\u001b[0;32m~/repos/ts_standardscripts/python/lsst/ts/standardscripts/auxtel/attcs.py\u001b[0m in \u001b[0;36mslew\u001b[0;34m(self, ra, dec, rotPA, target_name, target_instance, frame, epoch, equinox, parallax, pmRA, pmDec, rv, dRA, dDec, rot_frame, rot_mode, slew_timeout, track_id)\u001b[0m\n\u001b[1;32m    316\u001b[0m \u001b[0;34m\u001b[0m\u001b[0m\n\u001b[1;32m    317\u001b[0m         await self._slew_to(self.atptg.cmd_raDecTarget,\n\u001b[0;32m--> 318\u001b[0;31m                             slew_timeout=slew_timeout)\n\u001b[0m\u001b[1;32m    319\u001b[0m \u001b[0;34m\u001b[0m\u001b[0m\n\u001b[1;32m    320\u001b[0m     async def slew_to_planet(self, planet,\n",
      "\u001b[0;32m~/repos/ts_standardscripts/python/lsst/ts/standardscripts/auxtel/attcs.py\u001b[0m in \u001b[0;36m_slew_to\u001b[0;34m(self, slew_cmd, slew_timeout)\u001b[0m\n\u001b[1;32m    847\u001b[0m         \u001b[0;32mfor\u001b[0m \u001b[0mres\u001b[0m \u001b[0;32min\u001b[0m \u001b[0masyncio\u001b[0m\u001b[0;34m.\u001b[0m\u001b[0mas_completed\u001b[0m\u001b[0;34m(\u001b[0m\u001b[0mself\u001b[0m\u001b[0;34m.\u001b[0m\u001b[0mscheduled_coro\u001b[0m\u001b[0;34m)\u001b[0m\u001b[0;34m:\u001b[0m\u001b[0;34m\u001b[0m\u001b[0;34m\u001b[0m\u001b[0m\n\u001b[1;32m    848\u001b[0m             \u001b[0;32mtry\u001b[0m\u001b[0;34m:\u001b[0m\u001b[0;34m\u001b[0m\u001b[0;34m\u001b[0m\u001b[0m\n\u001b[0;32m--> 849\u001b[0;31m                 \u001b[0mret_val\u001b[0m \u001b[0;34m=\u001b[0m \u001b[0;32mawait\u001b[0m \u001b[0mres\u001b[0m\u001b[0;34m\u001b[0m\u001b[0;34m\u001b[0m\u001b[0m\n\u001b[0m\u001b[1;32m    850\u001b[0m                 \u001b[0mself\u001b[0m\u001b[0;34m.\u001b[0m\u001b[0mlog\u001b[0m\u001b[0;34m.\u001b[0m\u001b[0mdebug\u001b[0m\u001b[0;34m(\u001b[0m\u001b[0mret_val\u001b[0m\u001b[0;34m)\u001b[0m\u001b[0;34m\u001b[0m\u001b[0;34m\u001b[0m\u001b[0m\n\u001b[1;32m    851\u001b[0m             \u001b[0;32mexcept\u001b[0m \u001b[0mRuntimeError\u001b[0m \u001b[0;32mas\u001b[0m \u001b[0mrte\u001b[0m\u001b[0;34m:\u001b[0m\u001b[0;34m\u001b[0m\u001b[0;34m\u001b[0m\u001b[0m\n",
      "\u001b[0;32m/opt/lsst/software/stack/python/miniconda3-4.7.12/envs/lsst-scipipe-984c9f7/lib/python3.7/asyncio/tasks.py\u001b[0m in \u001b[0;36m_wait_for_one\u001b[0;34m()\u001b[0m\n\u001b[1;32m    554\u001b[0m \u001b[0;34m\u001b[0m\u001b[0m\n\u001b[1;32m    555\u001b[0m     \u001b[0;32masync\u001b[0m \u001b[0;32mdef\u001b[0m \u001b[0m_wait_for_one\u001b[0m\u001b[0;34m(\u001b[0m\u001b[0;34m)\u001b[0m\u001b[0;34m:\u001b[0m\u001b[0;34m\u001b[0m\u001b[0;34m\u001b[0m\u001b[0m\n\u001b[0;32m--> 556\u001b[0;31m         \u001b[0mf\u001b[0m \u001b[0;34m=\u001b[0m \u001b[0;32mawait\u001b[0m \u001b[0mdone\u001b[0m\u001b[0;34m.\u001b[0m\u001b[0mget\u001b[0m\u001b[0;34m(\u001b[0m\u001b[0;34m)\u001b[0m\u001b[0;34m\u001b[0m\u001b[0;34m\u001b[0m\u001b[0m\n\u001b[0m\u001b[1;32m    557\u001b[0m         \u001b[0;32mif\u001b[0m \u001b[0mf\u001b[0m \u001b[0;32mis\u001b[0m \u001b[0;32mNone\u001b[0m\u001b[0;34m:\u001b[0m\u001b[0;34m\u001b[0m\u001b[0;34m\u001b[0m\u001b[0m\n\u001b[1;32m    558\u001b[0m             \u001b[0;31m# Dummy value from _on_timeout().\u001b[0m\u001b[0;34m\u001b[0m\u001b[0;34m\u001b[0m\u001b[0;34m\u001b[0m\u001b[0m\n",
      "\u001b[0;32m/opt/lsst/software/stack/python/miniconda3-4.7.12/envs/lsst-scipipe-984c9f7/lib/python3.7/asyncio/queues.py\u001b[0m in \u001b[0;36mget\u001b[0;34m(self)\u001b[0m\n\u001b[1;32m    157\u001b[0m             \u001b[0mself\u001b[0m\u001b[0;34m.\u001b[0m\u001b[0m_getters\u001b[0m\u001b[0;34m.\u001b[0m\u001b[0mappend\u001b[0m\u001b[0;34m(\u001b[0m\u001b[0mgetter\u001b[0m\u001b[0;34m)\u001b[0m\u001b[0;34m\u001b[0m\u001b[0;34m\u001b[0m\u001b[0m\n\u001b[1;32m    158\u001b[0m             \u001b[0;32mtry\u001b[0m\u001b[0;34m:\u001b[0m\u001b[0;34m\u001b[0m\u001b[0;34m\u001b[0m\u001b[0m\n\u001b[0;32m--> 159\u001b[0;31m                 \u001b[0;32mawait\u001b[0m \u001b[0mgetter\u001b[0m\u001b[0;34m\u001b[0m\u001b[0;34m\u001b[0m\u001b[0m\n\u001b[0m\u001b[1;32m    160\u001b[0m             \u001b[0;32mexcept\u001b[0m\u001b[0;34m:\u001b[0m\u001b[0;34m\u001b[0m\u001b[0;34m\u001b[0m\u001b[0m\n\u001b[1;32m    161\u001b[0m                 \u001b[0mgetter\u001b[0m\u001b[0;34m.\u001b[0m\u001b[0mcancel\u001b[0m\u001b[0;34m(\u001b[0m\u001b[0;34m)\u001b[0m  \u001b[0;31m# Just in case getter is not done yet.\u001b[0m\u001b[0;34m\u001b[0m\u001b[0;34m\u001b[0m\u001b[0m\n",
      "\u001b[0;31mCancelledError\u001b[0m: "
     ]
    },
    {
     "name": "stdout",
     "output_type": "stream",
     "text": [
      "[Telescope] delta Alt = +000.933 | delta Az= +002.307 [Dome] delta Az = +003.012\n",
      "[Telescope] delta Alt = +000.938 | delta Az= +002.319 [Dome] delta Az = +003.012\n",
      "[Telescope] delta Alt = +000.942 | delta Az= +002.331 [Dome] delta Az = +003.012\n",
      "[Telescope] delta Alt = +000.946 | delta Az= +002.342 [Dome] delta Az = +003.012\n",
      "[Telescope] delta Alt = +000.950 | delta Az= +002.353 [Dome] delta Az = +003.012\n",
      "[Telescope] delta Alt = +000.954 | delta Az= +002.364 [Dome] delta Az = +003.012\n",
      "[Telescope] delta Alt = +000.959 | delta Az= +002.375 [Dome] delta Az = +003.012\n",
      "[Telescope] delta Alt = +000.963 | delta Az= +002.386 [Dome] delta Az = +003.012\n",
      "[Telescope] delta Alt = +000.967 | delta Az= +002.398 [Dome] delta Az = +003.012\n",
      "[Telescope] delta Alt = +000.971 | delta Az= +002.409 [Dome] delta Az = +003.012\n",
      "[Telescope] delta Alt = +000.975 | delta Az= +002.420 [Dome] delta Az = +003.012\n"
     ]
    }
   ],
   "source": [
    "await attcs.slew_object(\"HD 116351\", rot_pa = 0.0, slew_timeout=240.)"
   ]
  },
  {
   "cell_type": "code",
   "execution_count": 33,
   "metadata": {},
   "outputs": [],
   "source": [
    "await attcs.cancel_not_done(attcs.scheduled_coro)"
   ]
  },
  {
   "cell_type": "code",
   "execution_count": 34,
   "metadata": {},
   "outputs": [
    {
     "name": "stdout",
     "output_type": "stream",
     "text": [
      "Sending command\n",
      "Stop tracking.\n",
      "Mount tracking state is 8\n",
      "In Position: False.\n",
      "Scheduling check coroutines\n",
      "process as completed...\n",
      "Got False\n",
      "Telescope not in position\n",
      "atmcs: <State.ENABLED: 2>\n",
      "atptg: <State.ENABLED: 2>\n",
      "ataos: <State.ENABLED: 2>\n",
      "atpneumatics: <State.ENABLED: 2>\n",
      "athexapod: <State.ENABLED: 2>\n",
      "[Telescope] delta Alt = -000.157 | delta Az= -002.380\n",
      "[Telescope] delta Alt = -000.157 | delta Az= -002.380\n",
      "[Telescope] delta Alt = -000.157 | delta Az= -002.380\n",
      "[Telescope] delta Alt = -000.157 | delta Az= -002.380\n",
      "[Telescope] delta Alt = -000.157 | delta Az= -002.380\n",
      "[Telescope] delta Alt = -000.157 | delta Az= -002.380\n",
      "[Telescope] delta Alt = -000.157 | delta Az= -002.380\n",
      "[Telescope] delta Alt = -000.157 | delta Az= -002.380\n",
      "[Telescope] delta Alt = -000.157 | delta Az= -002.380\n",
      "[Telescope] delta Alt = -000.157 | delta Az= -002.380\n"
     ]
    },
    {
     "ename": "CancelledError",
     "evalue": "",
     "output_type": "error",
     "traceback": [
      "\u001b[0;31m---------------------------------------------------------------------------\u001b[0m",
      "\u001b[0;31mCancelledError\u001b[0m                            Traceback (most recent call last)",
      "\u001b[0;32m<ipython-input-34-54d97cc2bc96>\u001b[0m in \u001b[0;36masync-def-wrapper\u001b[0;34m()\u001b[0m\n",
      "\u001b[0;32m~/repos/ts_standardscripts/python/lsst/ts/standardscripts/auxtel/attcs.py\u001b[0m in \u001b[0;36mpoint_azel\u001b[0;34m(self, az, el, rot_pa, target_name, wait_dome, slew_timeout, track_id)\u001b[0m\n\u001b[1;32m    132\u001b[0m             \u001b[0mself\u001b[0m\u001b[0;34m.\u001b[0m\u001b[0mcheck\u001b[0m\u001b[0;34m.\u001b[0m\u001b[0matdome\u001b[0m \u001b[0;34m=\u001b[0m \u001b[0mcheck_atdome\u001b[0m\u001b[0;34m\u001b[0m\u001b[0;34m\u001b[0m\u001b[0m\n\u001b[1;32m    133\u001b[0m             \u001b[0mself\u001b[0m\u001b[0;34m.\u001b[0m\u001b[0mcheck\u001b[0m\u001b[0;34m.\u001b[0m\u001b[0matdometrajectory\u001b[0m \u001b[0;34m=\u001b[0m \u001b[0mcheck_atdometrajectory\u001b[0m\u001b[0;34m\u001b[0m\u001b[0;34m\u001b[0m\u001b[0m\n\u001b[0;32m--> 134\u001b[0;31m             \u001b[0;32mraise\u001b[0m \u001b[0me\u001b[0m\u001b[0;34m\u001b[0m\u001b[0;34m\u001b[0m\u001b[0m\n\u001b[0m\u001b[1;32m    135\u001b[0m \u001b[0;34m\u001b[0m\u001b[0m\n\u001b[1;32m    136\u001b[0m     \u001b[0;32masync\u001b[0m \u001b[0;32mdef\u001b[0m \u001b[0mstart_tracking\u001b[0m\u001b[0;34m(\u001b[0m\u001b[0mself\u001b[0m\u001b[0;34m)\u001b[0m\u001b[0;34m:\u001b[0m\u001b[0;34m\u001b[0m\u001b[0;34m\u001b[0m\u001b[0m\n",
      "\u001b[0;32m~/repos/ts_standardscripts/python/lsst/ts/standardscripts/auxtel/attcs.py\u001b[0m in \u001b[0;36mpoint_azel\u001b[0;34m(self, az, el, rot_pa, target_name, wait_dome, slew_timeout, track_id)\u001b[0m\n\u001b[1;32m    128\u001b[0m         \u001b[0;32mtry\u001b[0m\u001b[0;34m:\u001b[0m\u001b[0;34m\u001b[0m\u001b[0;34m\u001b[0m\u001b[0m\n\u001b[1;32m    129\u001b[0m             await self._slew_to(self.atptg.cmd_azElTarget,\n\u001b[0;32m--> 130\u001b[0;31m                                 slew_timeout=slew_timeout)\n\u001b[0m\u001b[1;32m    131\u001b[0m         \u001b[0;32mexcept\u001b[0m \u001b[0mException\u001b[0m \u001b[0;32mas\u001b[0m \u001b[0me\u001b[0m\u001b[0;34m:\u001b[0m\u001b[0;34m\u001b[0m\u001b[0;34m\u001b[0m\u001b[0m\n\u001b[1;32m    132\u001b[0m             \u001b[0mself\u001b[0m\u001b[0;34m.\u001b[0m\u001b[0mcheck\u001b[0m\u001b[0;34m.\u001b[0m\u001b[0matdome\u001b[0m \u001b[0;34m=\u001b[0m \u001b[0mcheck_atdome\u001b[0m\u001b[0;34m\u001b[0m\u001b[0;34m\u001b[0m\u001b[0m\n",
      "\u001b[0;32m~/repos/ts_standardscripts/python/lsst/ts/standardscripts/auxtel/attcs.py\u001b[0m in \u001b[0;36m_slew_to\u001b[0;34m(self, slew_cmd, slew_timeout)\u001b[0m\n\u001b[1;32m    847\u001b[0m         \u001b[0;32mfor\u001b[0m \u001b[0mres\u001b[0m \u001b[0;32min\u001b[0m \u001b[0masyncio\u001b[0m\u001b[0;34m.\u001b[0m\u001b[0mas_completed\u001b[0m\u001b[0;34m(\u001b[0m\u001b[0mself\u001b[0m\u001b[0;34m.\u001b[0m\u001b[0mscheduled_coro\u001b[0m\u001b[0;34m)\u001b[0m\u001b[0;34m:\u001b[0m\u001b[0;34m\u001b[0m\u001b[0;34m\u001b[0m\u001b[0m\n\u001b[1;32m    848\u001b[0m             \u001b[0;32mtry\u001b[0m\u001b[0;34m:\u001b[0m\u001b[0;34m\u001b[0m\u001b[0;34m\u001b[0m\u001b[0m\n\u001b[0;32m--> 849\u001b[0;31m                 \u001b[0mret_val\u001b[0m \u001b[0;34m=\u001b[0m \u001b[0;32mawait\u001b[0m \u001b[0mres\u001b[0m\u001b[0;34m\u001b[0m\u001b[0;34m\u001b[0m\u001b[0m\n\u001b[0m\u001b[1;32m    850\u001b[0m                 \u001b[0mself\u001b[0m\u001b[0;34m.\u001b[0m\u001b[0mlog\u001b[0m\u001b[0;34m.\u001b[0m\u001b[0mdebug\u001b[0m\u001b[0;34m(\u001b[0m\u001b[0mret_val\u001b[0m\u001b[0;34m)\u001b[0m\u001b[0;34m\u001b[0m\u001b[0;34m\u001b[0m\u001b[0m\n\u001b[1;32m    851\u001b[0m             \u001b[0;32mexcept\u001b[0m \u001b[0mRuntimeError\u001b[0m \u001b[0;32mas\u001b[0m \u001b[0mrte\u001b[0m\u001b[0;34m:\u001b[0m\u001b[0;34m\u001b[0m\u001b[0;34m\u001b[0m\u001b[0m\n",
      "\u001b[0;32m/opt/lsst/software/stack/python/miniconda3-4.7.12/envs/lsst-scipipe-984c9f7/lib/python3.7/asyncio/tasks.py\u001b[0m in \u001b[0;36m_wait_for_one\u001b[0;34m()\u001b[0m\n\u001b[1;32m    554\u001b[0m \u001b[0;34m\u001b[0m\u001b[0m\n\u001b[1;32m    555\u001b[0m     \u001b[0;32masync\u001b[0m \u001b[0;32mdef\u001b[0m \u001b[0m_wait_for_one\u001b[0m\u001b[0;34m(\u001b[0m\u001b[0;34m)\u001b[0m\u001b[0;34m:\u001b[0m\u001b[0;34m\u001b[0m\u001b[0;34m\u001b[0m\u001b[0m\n\u001b[0;32m--> 556\u001b[0;31m         \u001b[0mf\u001b[0m \u001b[0;34m=\u001b[0m \u001b[0;32mawait\u001b[0m \u001b[0mdone\u001b[0m\u001b[0;34m.\u001b[0m\u001b[0mget\u001b[0m\u001b[0;34m(\u001b[0m\u001b[0;34m)\u001b[0m\u001b[0;34m\u001b[0m\u001b[0;34m\u001b[0m\u001b[0m\n\u001b[0m\u001b[1;32m    557\u001b[0m         \u001b[0;32mif\u001b[0m \u001b[0mf\u001b[0m \u001b[0;32mis\u001b[0m \u001b[0;32mNone\u001b[0m\u001b[0;34m:\u001b[0m\u001b[0;34m\u001b[0m\u001b[0;34m\u001b[0m\u001b[0m\n\u001b[1;32m    558\u001b[0m             \u001b[0;31m# Dummy value from _on_timeout().\u001b[0m\u001b[0;34m\u001b[0m\u001b[0;34m\u001b[0m\u001b[0;34m\u001b[0m\u001b[0m\n",
      "\u001b[0;32m/opt/lsst/software/stack/python/miniconda3-4.7.12/envs/lsst-scipipe-984c9f7/lib/python3.7/asyncio/queues.py\u001b[0m in \u001b[0;36mget\u001b[0;34m(self)\u001b[0m\n\u001b[1;32m    157\u001b[0m             \u001b[0mself\u001b[0m\u001b[0;34m.\u001b[0m\u001b[0m_getters\u001b[0m\u001b[0;34m.\u001b[0m\u001b[0mappend\u001b[0m\u001b[0;34m(\u001b[0m\u001b[0mgetter\u001b[0m\u001b[0;34m)\u001b[0m\u001b[0;34m\u001b[0m\u001b[0;34m\u001b[0m\u001b[0m\n\u001b[1;32m    158\u001b[0m             \u001b[0;32mtry\u001b[0m\u001b[0;34m:\u001b[0m\u001b[0;34m\u001b[0m\u001b[0;34m\u001b[0m\u001b[0m\n\u001b[0;32m--> 159\u001b[0;31m                 \u001b[0;32mawait\u001b[0m \u001b[0mgetter\u001b[0m\u001b[0;34m\u001b[0m\u001b[0;34m\u001b[0m\u001b[0m\n\u001b[0m\u001b[1;32m    160\u001b[0m             \u001b[0;32mexcept\u001b[0m\u001b[0;34m:\u001b[0m\u001b[0;34m\u001b[0m\u001b[0;34m\u001b[0m\u001b[0m\n\u001b[1;32m    161\u001b[0m                 \u001b[0mgetter\u001b[0m\u001b[0;34m.\u001b[0m\u001b[0mcancel\u001b[0m\u001b[0;34m(\u001b[0m\u001b[0;34m)\u001b[0m  \u001b[0;31m# Just in case getter is not done yet.\u001b[0m\u001b[0;34m\u001b[0m\u001b[0;34m\u001b[0m\u001b[0m\n",
      "\u001b[0;31mCancelledError\u001b[0m: "
     ]
    },
    {
     "name": "stdout",
     "output_type": "stream",
     "text": [
      "[Telescope] delta Alt = -000.157 | delta Az= -002.380\n",
      "[Telescope] delta Alt = -000.157 | delta Az= -002.380\n",
      "[Telescope] delta Alt = -000.157 | delta Az= -002.380\n",
      "[Telescope] delta Alt = -000.157 | delta Az= -002.380\n"
     ]
    }
   ],
   "source": [
    "await attcs.point_azel(140, 68)"
   ]
  },
  {
   "cell_type": "code",
   "execution_count": 41,
   "metadata": {},
   "outputs": [],
   "source": [
    "await attcs.cancel_not_done(attcs.scheduled_coro)"
   ]
  },
  {
   "cell_type": "code",
   "execution_count": 63,
   "metadata": {},
   "outputs": [
    {
     "name": "stdout",
     "output_type": "stream",
     "text": [
      "Sending command\n",
      "Stop tracking.\n",
      "Mount tracking state is 10\n",
      "Scheduling check coroutines\n",
      "process as completed...\n",
      "Got False\n",
      "Telescope not in position\n",
      "atmcs: <State.ENABLED: 2>\n",
      "atptg: <State.ENABLED: 2>\n",
      "ataos: <State.ENABLED: 2>\n",
      "atpneumatics: <State.ENABLED: 2>\n",
      "athexapod: <State.ENABLED: 2>\n",
      "[Telescope] delta Alt = +000.003 | delta Az= -000.000\n",
      "Axes in position.\n",
      "None\n"
     ]
    }
   ],
   "source": [
    "await attcs.point_azel(142.38, 68.16)"
   ]
  },
  {
   "cell_type": "code",
   "execution_count": 62,
   "metadata": {},
   "outputs": [],
   "source": [
    "await attcs.cancel_not_done(attcs.scheduled_coro)"
   ]
  },
  {
   "cell_type": "code",
   "execution_count": 65,
   "metadata": {},
   "outputs": [
    {
     "ename": "AckError",
     "evalue": "msg='Command failed', ackcmd=(ackcmd private_seqNum=1773338855, ack=<SalRetCode.CMD_NOPERM: -300>, error=0, result='ERROR: Command startTracking rejected while in TrackingEnabledState state.')",
     "output_type": "error",
     "traceback": [
      "\u001b[0;31m---------------------------------------------------------------------------\u001b[0m",
      "\u001b[0;31mAckError\u001b[0m                                  Traceback (most recent call last)",
      "\u001b[0;32m<ipython-input-65-63a2f98d0e41>\u001b[0m in \u001b[0;36masync-def-wrapper\u001b[0;34m()\u001b[0m\n",
      "\u001b[0;32m/opt/lsst/src/ts_salobj/python/lsst/ts/salobj/topics/remote_command.py\u001b[0m in \u001b[0;36mstart\u001b[0;34m(self, data, timeout, wait_done)\u001b[0m\n\u001b[1;32m    393\u001b[0m         )\n\u001b[1;32m    394\u001b[0m         \u001b[0mself\u001b[0m\u001b[0;34m.\u001b[0m\u001b[0msalinfo\u001b[0m\u001b[0;34m.\u001b[0m\u001b[0m_running_cmds\u001b[0m\u001b[0;34m[\u001b[0m\u001b[0mseq_num\u001b[0m\u001b[0;34m]\u001b[0m \u001b[0;34m=\u001b[0m \u001b[0mcmd_info\u001b[0m\u001b[0;34m\u001b[0m\u001b[0;34m\u001b[0m\u001b[0m\n\u001b[0;32m--> 395\u001b[0;31m         \u001b[0;32mreturn\u001b[0m \u001b[0;32mawait\u001b[0m \u001b[0mcmd_info\u001b[0m\u001b[0;34m.\u001b[0m\u001b[0mnext_ackcmd\u001b[0m\u001b[0;34m(\u001b[0m\u001b[0mtimeout\u001b[0m\u001b[0;34m=\u001b[0m\u001b[0mtimeout\u001b[0m\u001b[0;34m)\u001b[0m\u001b[0;34m\u001b[0m\u001b[0;34m\u001b[0m\u001b[0m\n\u001b[0m",
      "\u001b[0;32m/opt/lsst/src/ts_salobj/python/lsst/ts/salobj/topics/remote_command.py\u001b[0m in \u001b[0;36mnext_ackcmd\u001b[0;34m(self, timeout)\u001b[0m\n\u001b[1;32m    179\u001b[0m             \u001b[0;31m# print(f\"next_ackcmd got {ackcmd.ack} from _basic_next_ack\")\u001b[0m\u001b[0;34m\u001b[0m\u001b[0;34m\u001b[0m\u001b[0;34m\u001b[0m\u001b[0m\n\u001b[1;32m    180\u001b[0m             \u001b[0;32mif\u001b[0m \u001b[0mackcmd\u001b[0m\u001b[0;34m.\u001b[0m\u001b[0mack\u001b[0m \u001b[0;32min\u001b[0m \u001b[0mself\u001b[0m\u001b[0;34m.\u001b[0m\u001b[0mfailed_ack_codes\u001b[0m\u001b[0;34m:\u001b[0m\u001b[0;34m\u001b[0m\u001b[0;34m\u001b[0m\u001b[0m\n\u001b[0;32m--> 181\u001b[0;31m                 \u001b[0;32mraise\u001b[0m \u001b[0mbase\u001b[0m\u001b[0;34m.\u001b[0m\u001b[0mAckError\u001b[0m\u001b[0;34m(\u001b[0m\u001b[0mmsg\u001b[0m\u001b[0;34m=\u001b[0m\u001b[0;34m\"Command failed\"\u001b[0m\u001b[0;34m,\u001b[0m \u001b[0mackcmd\u001b[0m\u001b[0;34m=\u001b[0m\u001b[0mackcmd\u001b[0m\u001b[0;34m)\u001b[0m\u001b[0;34m\u001b[0m\u001b[0;34m\u001b[0m\u001b[0m\n\u001b[0m\u001b[1;32m    182\u001b[0m             \u001b[0;32mreturn\u001b[0m \u001b[0mackcmd\u001b[0m\u001b[0;34m\u001b[0m\u001b[0;34m\u001b[0m\u001b[0m\n\u001b[1;32m    183\u001b[0m         \u001b[0;32mexcept\u001b[0m \u001b[0masyncio\u001b[0m\u001b[0;34m.\u001b[0m\u001b[0mTimeoutError\u001b[0m\u001b[0;34m:\u001b[0m\u001b[0;34m\u001b[0m\u001b[0;34m\u001b[0m\u001b[0m\n",
      "\u001b[0;31mAckError\u001b[0m: msg='Command failed', ackcmd=(ackcmd private_seqNum=1773338855, ack=<SalRetCode.CMD_NOPERM: -300>, error=0, result='ERROR: Command startTracking rejected while in TrackingEnabledState state.')"
     ]
    }
   ],
   "source": [
    "await attcs.atmcs.cmd_startTracking.start()"
   ]
  },
  {
   "cell_type": "code",
   "execution_count": 50,
   "metadata": {},
   "outputs": [
    {
     "data": {
      "text/plain": [
       "<ddsutil.ATMCS_ackcmd_f0f9ad9d at 0x7f478c445f50>"
      ]
     },
     "execution_count": 50,
     "metadata": {},
     "output_type": "execute_result"
    }
   ],
   "source": [
    "await attcs.atmcs.cmd_enable.start()"
   ]
  },
  {
   "cell_type": "code",
   "execution_count": 66,
   "metadata": {},
   "outputs": [
    {
     "name": "stdout",
     "output_type": "stream",
     "text": [
      "Slewing to HD 116351: 13 23 54.2476 -46 12 00.503\n",
      "Sending command\n",
      "Stop tracking.\n",
      "Mount tracking state is 9\n",
      "Tracking state: 10.\n",
      "Tracking state: 8.\n",
      "In Position: True.\n",
      "In Position: False.\n",
      "Scheduling check coroutines\n",
      "process as completed...\n",
      "Got False\n",
      "Telescope not in position\n",
      "atmcs: <State.ENABLED: 2>\n",
      "atptg: <State.ENABLED: 2>\n",
      "ataos: <State.ENABLED: 2>\n",
      "atpneumatics: <State.ENABLED: 2>\n",
      "athexapod: <State.ENABLED: 2>\n",
      "[Telescope] delta Alt = +002.395 | delta Az= +007.113\n",
      "[Telescope] delta Alt = +000.649 | delta Az= +004.927\n",
      "[Telescope] delta Alt = -000.001 | delta Az= +001.244\n",
      "[Telescope] delta Alt = -000.001 | delta Az= -000.002\n",
      "Axes in position.\n",
      "None\n",
      "RemoteEvent(ATHeaderService, 0, logMessage) falling behind; read 15 messages\n",
      "RemoteEvent(ATMCS, 0, target) falling behind; read 59 messages\n",
      "RemoteEvent(ATDomeTrajectory, 0, logMessage) falling behind; read 20 messages\n",
      "RemoteEvent(ATHeaderService, 0, logMessage) falling behind; read 66 messages\n",
      "RemoteEvent(ATHeaderService, 0, logMessage) falling behind; read 11 messages\n",
      "RemoteEvent(ATHeaderService, 0, logMessage) falling behind; read 10 messages\n"
     ]
    }
   ],
   "source": [
    "await attcs.slew_object(\"HD 116351\", rot_pa = 0.0, slew_timeout=240.)"
   ]
  },
  {
   "cell_type": "code",
   "execution_count": 67,
   "metadata": {},
   "outputs": [
    {
     "name": "stdout",
     "output_type": "stream",
     "text": [
      "Slewing to HD 185975: 20 28 18.7402 -87 28 19.938\n",
      "Sending command\n",
      "Stop tracking.\n",
      "Mount tracking state is 9\n",
      "Tracking state: 10.\n",
      "Tracking state: 8.\n",
      "In Position: True.\n",
      "In Position: False.\n",
      "Scheduling check coroutines\n",
      "process as completed...\n",
      "Got False\n",
      "Telescope not in position\n",
      "atmcs: <State.ENABLED: 2>\n",
      "atptg: <State.ENABLED: 2>\n",
      "ataos: <State.ENABLED: 2>\n",
      "atpneumatics: <State.ENABLED: 2>\n",
      "athexapod: <State.ENABLED: 2>\n",
      "[Telescope] delta Alt = -031.683 | delta Az= -016.619\n",
      "[Telescope] delta Alt = -028.679 | delta Az= -016.130\n",
      "[Telescope] delta Alt = -024.698 | delta Az= -014.237\n",
      "[Telescope] delta Alt = -020.809 | delta Az= -010.968\n",
      "[Telescope] delta Alt = -017.090 | delta Az= -007.040\n",
      "[Telescope] delta Alt = -013.620 | delta Az= -003.434\n",
      "[Telescope] delta Alt = -010.472 | delta Az= -001.004\n",
      "[Telescope] delta Alt = -007.696 | delta Az= -000.063\n",
      "[Telescope] delta Alt = -005.345 | delta Az= -000.000\n",
      "[Telescope] delta Alt = -003.440 | delta Az= +000.000\n",
      "[Telescope] delta Alt = -001.995 | delta Az= -000.000\n",
      "[Telescope] delta Alt = -000.986 | delta Az= -000.000\n",
      "[Telescope] delta Alt = -000.371 | delta Az= -000.000\n",
      "[Telescope] delta Alt = -000.081 | delta Az= -000.000\n",
      "[Telescope] delta Alt = -000.002 | delta Az= +000.000\n",
      "Axes in position.\n",
      "None\n"
     ]
    }
   ],
   "source": [
    "#Now take some science data.  Same set of loops as before. \n",
    "await attcs.slew_object(\"HD 185975\", rot_pa = 0.0, slew_timeout=240.)"
   ]
  },
  {
   "cell_type": "code",
   "execution_count": 69,
   "metadata": {},
   "outputs": [
    {
     "name": "stdout",
     "output_type": "stream",
     "text": [
      "Generating group_id\n",
      "OBJECT 0001 - 0001\n",
      "[2020031200295]\n"
     ]
    }
   ],
   "source": [
    "science_image = await latiss.take_object(exptime=2., n=1, filter='empty_1',grating='ronchi90lpmm')\n",
    "print (science_image)"
   ]
  },
  {
   "cell_type": "code",
   "execution_count": 70,
   "metadata": {},
   "outputs": [
    {
     "name": "stdout",
     "output_type": "stream",
     "text": [
      "[ -6.9 -22.6]\n"
     ]
    }
   ],
   "source": [
    "target_pix = np.array((1770, 1704))\n",
    "shift = ( target_pix -(np.array([1839, 1930]))) / 10\n",
    "print (shift)"
   ]
  },
  {
   "cell_type": "code",
   "execution_count": 71,
   "metadata": {},
   "outputs": [
    {
     "name": "stdout",
     "output_type": "stream",
     "text": [
      "Applying x/y offset: -6.9/ -22.6 \n",
      "Applying Az/El offset: 1.765222627860761/ 23.56382798006488 \n",
      "Waiting for telescope to settle.\n",
      "Done\n"
     ]
    }
   ],
   "source": [
    "await attcs.offset_xy(*shift, persistent = True)"
   ]
  },
  {
   "cell_type": "code",
   "execution_count": 72,
   "metadata": {},
   "outputs": [
    {
     "name": "stdout",
     "output_type": "stream",
     "text": [
      "Generating group_id\n",
      "OBJECT 0001 - 0001\n",
      "[2020031200296]\n"
     ]
    }
   ],
   "source": [
    "science_image = await latiss.take_object(exptime=2., n=1, filter='empty_1',grating='ronchi90lpmm')\n",
    "print (science_image)"
   ]
  },
  {
   "cell_type": "code",
   "execution_count": 75,
   "metadata": {},
   "outputs": [
    {
     "name": "stdout",
     "output_type": "stream",
     "text": [
      "focus_positions = [-0.22999999999999998, -0.21, -0.19, -0.16999999999999998, -0.15, -0.13, -0.11, -0.09, -0.06999999999999999]\n"
     ]
    }
   ],
   "source": [
    "#Focus units are given in mm \n",
    "focus_center = -0.15\n",
    "focus_step = 0.02\n",
    "n_steps = 9\n",
    "focus_positions = np.linspace(focus_center - focus_step * np.floor(n_steps / 2), focus_center + focus_step * np.ceil(n_steps / 2 - 1), n_steps)\n",
    "#focus_positions = [0.05, -0.05, -0.100, -0.150, -0.200, -0.250, -0.300, -0.3, -0.2, -0.2, -0.24, -0.26, -0.28]\n",
    "print ('focus_positions = ' + str([pos for pos in focus_positions]))"
   ]
  },
  {
   "cell_type": "code",
   "execution_count": 77,
   "metadata": {},
   "outputs": [],
   "source": [
    "await attcs.focus_offset(focus_center)"
   ]
  },
  {
   "cell_type": "code",
   "execution_count": 78,
   "metadata": {},
   "outputs": [
    {
     "name": "stdout",
     "output_type": "stream",
     "text": [
      "Working on focus position -0.22999999999999998\n",
      "Generating group_id\n",
      "ENGTEST 0001 - 0001\n",
      "Newest image id is = [2020031200297]\n",
      "Working on focus position -0.21\n",
      "Generating group_id\n",
      "ENGTEST 0001 - 0001\n",
      "Newest image id is = [2020031200298]\n",
      "Working on focus position -0.19\n",
      "Generating group_id\n",
      "ENGTEST 0001 - 0001\n",
      "Newest image id is = [2020031200299]\n",
      "Working on focus position -0.16999999999999998\n",
      "Generating group_id\n",
      "ENGTEST 0001 - 0001\n",
      "Newest image id is = [2020031200300]\n",
      "Working on focus position -0.15\n",
      "Generating group_id\n",
      "ENGTEST 0001 - 0001\n",
      "Newest image id is = [2020031200301]\n",
      "Working on focus position -0.13\n",
      "Generating group_id\n",
      "ENGTEST 0001 - 0001\n",
      "Newest image id is = [2020031200302]\n",
      "Working on focus position -0.11\n",
      "Generating group_id\n",
      "ENGTEST 0001 - 0001\n",
      "Newest image id is = [2020031200303]\n",
      "Working on focus position -0.09\n",
      "RemoteEvent(ATHeaderService, 0, logMessage) falling behind; read 10 messages\n",
      "Generating group_id\n",
      "ENGTEST 0001 - 0001\n",
      "RemoteEvent(ATHeaderService, 0, logMessage) falling behind; read 10 messages\n",
      "Newest image id is = [2020031200304]\n",
      "Working on focus position -0.06999999999999999\n",
      "RemoteEvent(ATHeaderService, 0, logMessage) falling behind; read 12 messages\n",
      "Generating group_id\n",
      "ENGTEST 0001 - 0001\n",
      "Newest image id is = [2020031200305]\n"
     ]
    }
   ],
   "source": [
    "#!!!!DO NOT RUN UNLESS YOU HAVE BEEN CLEARED TO CONTROL TELESCOPE!!!!! \n",
    "focus_images = [0 for focus_pos in focus_positions]\n",
    "for i in range(len(focus_positions)): \n",
    "    focus_pos = focus_positions[i] \n",
    "    print ('Working on focus position ' + str(focus_pos))\n",
    "    await attcs.focus_offset(focus_pos)\n",
    "    focus_image = await latiss.take_engtest(exptime=10, n=1, filter='empty_1', grating='ronchi90lpmm') \n",
    "    print ('Newest image id is = ' + str(focus_image ) )\n",
    "    focus_images[i] = int(focus_image )\n",
    "    \n",
    "#This resets the focus position after taking this sequence: \n",
    "await attcs.focus_offset(focus_pos)"
   ]
  },
  {
   "cell_type": "code",
   "execution_count": 79,
   "metadata": {},
   "outputs": [],
   "source": [
    "best_fit = -0.12"
   ]
  },
  {
   "cell_type": "code",
   "execution_count": 80,
   "metadata": {},
   "outputs": [
    {
     "name": "stdout",
     "output_type": "stream",
     "text": [
      "focus_positions = [-0.13999999999999999, -0.13499999999999998, -0.12999999999999998, -0.12499999999999999, -0.12, -0.11499999999999999, -0.10999999999999999, -0.10499999999999998, -0.09999999999999999]\n"
     ]
    }
   ],
   "source": [
    "#I missed. Let's try to do better... \n",
    "focus_center = best_fit\n",
    "focus_step = 0.005\n",
    "n_steps = 9\n",
    "focus_positions = np.linspace(focus_center - focus_step * np.floor(n_steps / 2), focus_center + focus_step * np.ceil(n_steps / 2 - 1), n_steps)\n",
    "#focus_positions = [0.05, -0.05, -0.100, -0.150, -0.200, -0.250, -0.300, -0.3, -0.2, -0.2, -0.24, -0.26, -0.28]\n",
    "print ('focus_positions = ' + str([pos for pos in focus_positions]))"
   ]
  },
  {
   "cell_type": "code",
   "execution_count": 81,
   "metadata": {},
   "outputs": [],
   "source": [
    "await attcs.focus_offset(focus_center)"
   ]
  },
  {
   "cell_type": "code",
   "execution_count": 82,
   "metadata": {},
   "outputs": [
    {
     "name": "stdout",
     "output_type": "stream",
     "text": [
      "Working on focus position -0.13999999999999999\n",
      "Generating group_id\n",
      "ENGTEST 0001 - 0001\n",
      "Newest image id is = [2020031200306]\n",
      "Working on focus position -0.13499999999999998\n",
      "Generating group_id\n",
      "ENGTEST 0001 - 0001\n",
      "Newest image id is = [2020031200307]\n",
      "Working on focus position -0.12999999999999998\n",
      "Generating group_id\n",
      "ENGTEST 0001 - 0001\n",
      "Newest image id is = [2020031200308]\n",
      "Working on focus position -0.12499999999999999\n",
      "RemoteEvent(ATHeaderService, 0, logMessage) falling behind; read 11 messages\n",
      "Generating group_id\n",
      "ENGTEST 0001 - 0001\n",
      "Newest image id is = [2020031200309]\n",
      "Working on focus position -0.12\n",
      "Generating group_id\n",
      "ENGTEST 0001 - 0001\n",
      "Newest image id is = [2020031200310]\n",
      "Working on focus position -0.11499999999999999\n",
      "Generating group_id\n",
      "ENGTEST 0001 - 0001\n",
      "Newest image id is = [2020031200311]\n",
      "Working on focus position -0.10999999999999999\n",
      "Generating group_id\n",
      "ENGTEST 0001 - 0001\n",
      "Newest image id is = [2020031200312]\n",
      "Working on focus position -0.10499999999999998\n",
      "Generating group_id\n",
      "ENGTEST 0001 - 0001\n",
      "Newest image id is = [2020031200313]\n",
      "Working on focus position -0.09999999999999999\n",
      "Generating group_id\n",
      "ENGTEST 0001 - 0001\n",
      "Newest image id is = [2020031200314]\n"
     ]
    }
   ],
   "source": [
    "#!!!!DO NOT RUN UNLESS YOU HAVE BEEN CLEARED TO CONTROL TELESCOPE!!!!! \n",
    "focus_images = [0 for focus_pos in focus_positions]\n",
    "for i in range(len(focus_positions)): \n",
    "    focus_pos = focus_positions[i] \n",
    "    print ('Working on focus position ' + str(focus_pos))\n",
    "    await attcs.focus_offset(focus_pos)\n",
    "    focus_image = await latiss.take_engtest(exptime=10, n=1, filter='empty_1', grating='ronchi90lpmm') \n",
    "    print ('Newest image id is = ' + str(focus_image ) )\n",
    "    focus_images[i] = int(focus_image )\n",
    "    \n",
    "#This resets the focus position after taking this sequence: \n",
    "await attcs.focus_offset(focus_pos)"
   ]
  },
  {
   "cell_type": "code",
   "execution_count": 83,
   "metadata": {},
   "outputs": [],
   "source": [
    "best_fit = -0.115\n",
    "await attcs.focus_offset(best_fit)"
   ]
  },
  {
   "cell_type": "code",
   "execution_count": 84,
   "metadata": {},
   "outputs": [
    {
     "name": "stdout",
     "output_type": "stream",
     "text": [
      "Generating group_id\n",
      "OBJECT 0001 - 0001\n",
      "[2020031200315]\n"
     ]
    }
   ],
   "source": [
    "#They also moved the star from underme, so I need to get it recentered\n",
    "science_image = await latiss.take_object(exptime=60., n=1, filter='empty_1',grating='ronchi90lpmm')\n",
    "print (science_image)"
   ]
  },
  {
   "cell_type": "code",
   "execution_count": 85,
   "metadata": {},
   "outputs": [],
   "source": [
    "# That worked okay, though we had atmospheric deviations. \n",
    "best_focus = -0.19\n",
    "empty_to_quad = +0.0265\n",
    "empty_to_BG = +0.0227\n",
    "empty_to_RG = +0.0227 "
   ]
  },
  {
   "cell_type": "code",
   "execution_count": 86,
   "metadata": {},
   "outputs": [
    {
     "name": "stdout",
     "output_type": "stream",
     "text": [
      "Generating group_id\n",
      "OBJECT 0001 - 0001\n",
      "[2020031200316]\n"
     ]
    }
   ],
   "source": [
    "await attcs.focus_offset(best_focus + empty_to_quad )\n",
    "#They also moved the star from underme, so I need to get it recentered\n",
    "science_image = await latiss.take_object(exptime=60., n=1, filter='quadnotch1',grating='ronchi90lpmm')\n",
    "print (science_image)"
   ]
  },
  {
   "cell_type": "code",
   "execution_count": 87,
   "metadata": {},
   "outputs": [
    {
     "name": "stdout",
     "output_type": "stream",
     "text": [
      "Generating group_id\n",
      "OBJECT 0001 - 0001\n",
      "[2020031200317]\n"
     ]
    }
   ],
   "source": [
    "await attcs.focus_offset(best_focus + empty_to_BG )\n",
    "#They also moved the star from underme, so I need to get it recentered\n",
    "science_image = await latiss.take_object(exptime=60., n=1, filter='BG40',grating='ronchi90lpmm')\n",
    "print (science_image)"
   ]
  },
  {
   "cell_type": "code",
   "execution_count": 88,
   "metadata": {},
   "outputs": [
    {
     "name": "stdout",
     "output_type": "stream",
     "text": [
      "Generating group_id\n",
      "OBJECT 0001 - 0001\n",
      "[2020031200318]\n"
     ]
    }
   ],
   "source": [
    "await attcs.focus_offset(best_focus + empty_to_RG )\n",
    "#They also moved the star from underme, so I need to get it recentered\n",
    "science_image = await latiss.take_object(exptime=60., n=1, filter='RG610',grating='ronchi90lpmm')\n",
    "print (science_image)"
   ]
  },
  {
   "cell_type": "code",
   "execution_count": 89,
   "metadata": {},
   "outputs": [
    {
     "name": "stdout",
     "output_type": "stream",
     "text": [
      "focus_positions = [-0.135, -0.13, -0.125, -0.12000000000000001, -0.115, -0.11, -0.10500000000000001, -0.1, -0.095]\n"
     ]
    }
   ],
   "source": [
    "focus_center = best_fit\n",
    "focus_step = 0.005\n",
    "n_steps = 9\n",
    "focus_positions = np.linspace(focus_center - focus_step * np.floor(n_steps / 2), focus_center + focus_step * np.ceil(n_steps / 2 - 1), n_steps)\n",
    "#focus_positions = [0.05, -0.05, -0.100, -0.150, -0.200, -0.250, -0.300, -0.3, -0.2, -0.2, -0.24, -0.26, -0.28]\n",
    "print ('focus_positions = ' + str([pos for pos in focus_positions]))\n"
   ]
  },
  {
   "cell_type": "code",
   "execution_count": 90,
   "metadata": {},
   "outputs": [
    {
     "name": "stdout",
     "output_type": "stream",
     "text": [
      "Working on focus position -0.135\n",
      "Generating group_id\n",
      "ENGTEST 0001 - 0001\n",
      "Newest image id is = [2020031200319]\n",
      "Working on focus position -0.13\n",
      "Generating group_id\n",
      "ENGTEST 0001 - 0001\n",
      "Newest image id is = [2020031200320]\n",
      "Working on focus position -0.125\n",
      "Generating group_id\n",
      "ENGTEST 0001 - 0001\n",
      "Newest image id is = [2020031200321]\n",
      "Working on focus position -0.12000000000000001\n",
      "RemoteEvent(ATHeaderService, 0, logMessage) falling behind; read 11 messages\n",
      "Generating group_id\n",
      "ENGTEST 0001 - 0001\n",
      "Newest image id is = [2020031200322]\n",
      "Working on focus position -0.115\n",
      "Generating group_id\n",
      "ENGTEST 0001 - 0001\n",
      "Newest image id is = [2020031200323]\n",
      "Working on focus position -0.11\n",
      "Generating group_id\n",
      "ENGTEST 0001 - 0001\n",
      "Newest image id is = [2020031200324]\n",
      "Working on focus position -0.10500000000000001\n",
      "Generating group_id\n",
      "ENGTEST 0001 - 0001\n",
      "Newest image id is = [2020031200325]\n",
      "Working on focus position -0.1\n",
      "RemoteEvent(ATHeaderService, 0, logMessage) falling behind; read 13 messages\n",
      "Generating group_id\n",
      "ENGTEST 0001 - 0001\n",
      "Newest image id is = [2020031200326]\n",
      "Working on focus position -0.095\n",
      "Generating group_id\n",
      "ENGTEST 0001 - 0001\n",
      "Newest image id is = [2020031200327]\n"
     ]
    }
   ],
   "source": [
    "#!!!!DO NOT RUN UNLESS YOU HAVE BEEN CLEARED TO CONTROL TELESCOPE!!!!! \n",
    "focus_images = [0 for focus_pos in focus_positions]\n",
    "for i in range(len(focus_positions)): \n",
    "    focus_pos = focus_positions[i] \n",
    "    print ('Working on focus position ' + str(focus_pos))\n",
    "    await attcs.focus_offset(focus_pos)\n",
    "    focus_image = await latiss.take_engtest(exptime=20, n=1, filter='empty_1', grating='ronchi90lpmm') \n",
    "    print ('Newest image id is = ' + str(focus_image ) )\n",
    "    focus_images[i] = int(focus_image )\n",
    "    \n",
    "#This resets the focus position after taking this sequence: \n",
    "await attcs.focus_offset(focus_pos)"
   ]
  },
  {
   "cell_type": "code",
   "execution_count": 92,
   "metadata": {},
   "outputs": [],
   "source": [
    "#A little better \n",
    "best_focus = -0.11"
   ]
  },
  {
   "cell_type": "code",
   "execution_count": 93,
   "metadata": {},
   "outputs": [
    {
     "name": "stdout",
     "output_type": "stream",
     "text": [
      "Generating group_id\n",
      "OBJECT 0001 - 0001\n",
      "[2020031200328]\n"
     ]
    }
   ],
   "source": [
    "await attcs.focus_offset(best_focus  )\n",
    "#They also moved the star from underme, so I need to get it recentered\n",
    "science_image = await latiss.take_object(exptime=120., n=1, filter='empty_1',grating='ronchi90lpmm')\n",
    "print (science_image)"
   ]
  },
  {
   "cell_type": "code",
   "execution_count": 94,
   "metadata": {},
   "outputs": [
    {
     "name": "stdout",
     "output_type": "stream",
     "text": [
      "Generating group_id\n",
      "OBJECT 0001 - 0001\n",
      "[2020031200329]\n"
     ]
    }
   ],
   "source": [
    "await attcs.focus_offset(best_focus + empty_to_quad )\n",
    "#They also moved the star from underme, so I need to get it recentered\n",
    "science_image = await latiss.take_object(exptime=120., n=1, filter='quadnotch1',grating='ronchi90lpmm')\n",
    "print (science_image)"
   ]
  },
  {
   "cell_type": "code",
   "execution_count": 97,
   "metadata": {},
   "outputs": [
    {
     "name": "stdout",
     "output_type": "stream",
     "text": [
      "RemoteEvent(ATMCS, 0, target) falling behind; read 12 messages\n",
      "RemoteEvent(ATDomeTrajectory, 0, logMessage) falling behind; read 27 messages\n",
      "Generating group_id\n",
      "OBJECT 0001 - 0001\n",
      "RemoteEvent(ATMCS, 0, target) falling behind; read 41 messages\n",
      "RemoteEvent(ATDomeTrajectory, 0, logMessage) falling behind; read 10 messages\n",
      "RemoteEvent(ATDomeTrajectory, 0, logMessage) falling behind; read 14 messages\n",
      "RemoteEvent(ATDomeTrajectory, 0, logMessage) falling behind; read 13 messages\n",
      "[2020031200330]\n"
     ]
    }
   ],
   "source": [
    "await attcs.focus_offset(best_focus + empty_to_BG )\n",
    "#They also moved the star from underme, so I need to get it recentered\n",
    "science_image = await latiss.take_object(exptime=120., n=1, filter='BG40',grating='ronchi90lpmm')\n",
    "print (science_image)"
   ]
  },
  {
   "cell_type": "code",
   "execution_count": 99,
   "metadata": {},
   "outputs": [
    {
     "name": "stdout",
     "output_type": "stream",
     "text": [
      "Generating group_id\n",
      "OBJECT 0001 - 0001\n",
      "[2020031200331]\n",
      "RemoteEvent(ATHeaderService, 0, logMessage) falling behind; read 10 messages\n"
     ]
    }
   ],
   "source": [
    "await attcs.focus_offset(best_focus + empty_to_RG )\n",
    "#They also moved the star from underme, so I need to get it recentered\n",
    "science_image = await latiss.take_object(exptime=120., n=1, filter='RG610',grating='ronchi90lpmm')\n",
    "print (science_image)"
   ]
  },
  {
   "cell_type": "code",
   "execution_count": null,
   "metadata": {},
   "outputs": [],
   "source": [
    "#Now we slew to a new, rising target: \n",
    "await attcs.slew_object(\"HD 146233\", rot_pa = 0.0, slew_timeout=240.)"
   ]
  },
  {
   "cell_type": "code",
   "execution_count": null,
   "metadata": {},
   "outputs": [],
   "source": [
    "#Let's center on target \n",
    "science_image = await latiss.take_object(exptime=2., n=1, filter='empty_1',grating='ronchi90lpmm')\n",
    "print (science_image)"
   ]
  },
  {
   "cell_type": "code",
   "execution_count": 100,
   "metadata": {},
   "outputs": [
    {
     "name": "stdout",
     "output_type": "stream",
     "text": [
      "focus_positions = [-0.19, -0.17, -0.15, -0.13, -0.11, -0.09, -0.07, -0.04999999999999999, -0.03]\n"
     ]
    }
   ],
   "source": [
    "focus_center = best_fit\n",
    "focus_step = 0.02\n",
    "n_steps = 9\n",
    "focus_positions = np.linspace(focus_center - focus_step * np.floor(n_steps / 2), focus_center + focus_step * np.ceil(n_steps / 2 - 1), n_steps)\n",
    "#focus_positions = [0.05, -0.05, -0.100, -0.150, -0.200, -0.250, -0.300, -0.3, -0.2, -0.2, -0.24, -0.26, -0.28]\n",
    "print ('focus_positions = ' + str([pos for pos in focus_positions]))"
   ]
  },
  {
   "cell_type": "code",
   "execution_count": 101,
   "metadata": {},
   "outputs": [
    {
     "name": "stdout",
     "output_type": "stream",
     "text": [
      "Generating group_id\n",
      "OBJECT 0001 - 0001\n",
      "[2020031200340]\n"
     ]
    }
   ],
   "source": [
    "#Let's center on target \n",
    "science_image = await latiss.take_object(exptime=2., n=1, filter='empty_1',grating='ronchi90lpmm')\n",
    "print (science_image)"
   ]
  },
  {
   "cell_type": "code",
   "execution_count": 102,
   "metadata": {},
   "outputs": [
    {
     "name": "stdout",
     "output_type": "stream",
     "text": [
      "[16.7 -4.7]\n"
     ]
    }
   ],
   "source": [
    "target_pix = np.array((1770, 1704))\n",
    "shift = ( target_pix -(np.array([1603, 1751]))) / 10\n",
    "print (shift)"
   ]
  },
  {
   "cell_type": "code",
   "execution_count": 103,
   "metadata": {},
   "outputs": [
    {
     "name": "stdout",
     "output_type": "stream",
     "text": [
      "Applying x/y offset: 16.7/ -4.7 \n",
      "Applying Az/El offset: 5.052457738367569/ -16.596766877979867 \n",
      "Waiting for telescope to settle.\n",
      "Done\n"
     ]
    }
   ],
   "source": [
    "await attcs.offset_xy(*shift, persistent = True)"
   ]
  },
  {
   "cell_type": "code",
   "execution_count": 104,
   "metadata": {},
   "outputs": [
    {
     "name": "stdout",
     "output_type": "stream",
     "text": [
      "Generating group_id\n",
      "OBJECT 0001 - 0001\n",
      "[2020031200341]\n"
     ]
    }
   ],
   "source": [
    "#Let's center on target \n",
    "science_image = await latiss.take_object(exptime=2., n=1, filter='empty_1',grating='ronchi90lpmm')\n",
    "print (science_image)"
   ]
  },
  {
   "cell_type": "code",
   "execution_count": 105,
   "metadata": {},
   "outputs": [
    {
     "name": "stdout",
     "output_type": "stream",
     "text": [
      "focus_positions = [-0.28, -0.26, -0.24000000000000002, -0.22000000000000003, -0.2, -0.18, -0.16, -0.14, -0.12000000000000001]\n"
     ]
    }
   ],
   "source": [
    "focus_center = -0.20\n",
    "focus_step = 0.02\n",
    "n_steps = 9\n",
    "focus_positions = np.linspace(focus_center - focus_step * np.floor(n_steps / 2), focus_center + focus_step * np.ceil(n_steps / 2 - 1), n_steps)\n",
    "#focus_positions = [0.05, -0.05, -0.100, -0.150, -0.200, -0.250, -0.300, -0.3, -0.2, -0.2, -0.24, -0.26, -0.28]\n",
    "print ('focus_positions = ' + str([pos for pos in focus_positions]))"
   ]
  },
  {
   "cell_type": "code",
   "execution_count": 106,
   "metadata": {},
   "outputs": [
    {
     "name": "stdout",
     "output_type": "stream",
     "text": [
      "Working on focus position -0.28\n",
      "Generating group_id\n",
      "ENGTEST 0001 - 0001\n",
      "Newest image id is = [2020031200342]\n",
      "Working on focus position -0.26\n",
      "Generating group_id\n",
      "ENGTEST 0001 - 0001\n",
      "Newest image id is = [2020031200343]\n",
      "Working on focus position -0.24000000000000002\n",
      "Generating group_id\n",
      "ENGTEST 0001 - 0001\n",
      "Newest image id is = [2020031200344]\n",
      "Working on focus position -0.22000000000000003\n",
      "RemoteEvent(ATHeaderService, 0, logMessage) falling behind; read 10 messages\n",
      "Generating group_id\n",
      "ENGTEST 0001 - 0001\n",
      "Newest image id is = [2020031200345]\n",
      "Working on focus position -0.2\n",
      "Generating group_id\n",
      "ENGTEST 0001 - 0001\n",
      "Newest image id is = [2020031200346]\n",
      "Working on focus position -0.18\n",
      "Generating group_id\n",
      "ENGTEST 0001 - 0001\n",
      "Newest image id is = [2020031200347]\n",
      "Working on focus position -0.16\n",
      "Generating group_id\n",
      "ENGTEST 0001 - 0001\n",
      "Newest image id is = [2020031200348]\n",
      "Working on focus position -0.14\n",
      "RemoteEvent(ATHeaderService, 0, logMessage) falling behind; read 10 messages\n",
      "Generating group_id\n",
      "ENGTEST 0001 - 0001\n",
      "Newest image id is = [2020031200349]\n",
      "Working on focus position -0.12000000000000001\n",
      "Generating group_id\n",
      "ENGTEST 0001 - 0001\n",
      "Newest image id is = [2020031200350]\n"
     ]
    }
   ],
   "source": [
    "#!!!!DO NOT RUN UNLESS YOU HAVE BEEN CLEARED TO CONTROL TELESCOPE!!!!! \n",
    "focus_images = [0 for focus_pos in focus_positions]\n",
    "for i in range(len(focus_positions)): \n",
    "    focus_pos = focus_positions[i] \n",
    "    print ('Working on focus position ' + str(focus_pos))\n",
    "    await attcs.focus_offset(focus_pos)\n",
    "    focus_image = await latiss.take_engtest(exptime=10, n=1, filter='empty_1', grating='ronchi90lpmm') \n",
    "    print ('Newest image id is = ' + str(focus_image ) )\n",
    "    focus_images[i] = int(focus_image )\n",
    "    \n",
    "#This resets the focus position after taking this sequence: \n",
    "await attcs.focus_offset(focus_pos)"
   ]
  },
  {
   "cell_type": "code",
   "execution_count": 107,
   "metadata": {},
   "outputs": [
    {
     "name": "stdout",
     "output_type": "stream",
     "text": [
      "Generating group_id\n",
      "OBJECT 0001 - 0001\n",
      "[2020031200351]\n"
     ]
    }
   ],
   "source": [
    "best_focus = -0.20\n",
    "await attcs.focus_offset(best_focus)\n",
    "#They also moved the star from underme, so I need to get it recentered\n",
    "science_image = await latiss.take_object(exptime=60., n=1, filter='empty_1',grating='ronchi90lpmm')\n",
    "print (science_image)"
   ]
  },
  {
   "cell_type": "code",
   "execution_count": 109,
   "metadata": {},
   "outputs": [
    {
     "name": "stdout",
     "output_type": "stream",
     "text": [
      "RemoteEvent(ATMCS, 0, target) falling behind; read 61 messages\n",
      "RemoteEvent(ATDomeTrajectory, 0, logMessage) falling behind; read 10 messages\n",
      "Generating group_id\n",
      "OBJECT 0001 - 0001\n",
      "[2020031200352]\n"
     ]
    }
   ],
   "source": [
    "await attcs.focus_offset(best_focus + empty_to_quad)\n",
    "#They also moved the star from underme, so I need to get it recentered\n",
    "science_image = await latiss.take_object(exptime=60., n=1, filter='quadnotch1',grating='ronchi90lpmm')\n",
    "print (science_image)"
   ]
  },
  {
   "cell_type": "code",
   "execution_count": 110,
   "metadata": {},
   "outputs": [
    {
     "name": "stdout",
     "output_type": "stream",
     "text": [
      "Generating group_id\n",
      "OBJECT 0001 - 0001\n",
      "[2020031200353]\n"
     ]
    }
   ],
   "source": [
    "await attcs.focus_offset(best_focus + empty_to_BG)\n",
    "#They also moved the star from underme, so I need to get it recentered\n",
    "science_image = await latiss.take_object(exptime=60., n=1, filter='BG40',grating='ronchi90lpmm')\n",
    "print (science_image)"
   ]
  },
  {
   "cell_type": "code",
   "execution_count": 111,
   "metadata": {},
   "outputs": [
    {
     "name": "stdout",
     "output_type": "stream",
     "text": [
      "Generating group_id\n",
      "OBJECT 0001 - 0001\n",
      "[2020031200354]\n"
     ]
    }
   ],
   "source": [
    "await attcs.focus_offset(best_focus + empty_to_RG)\n",
    "#They also moved the star from underme, so I need to get it recentered\n",
    "science_image = await latiss.take_object(exptime=60., n=1, filter='RG610',grating='ronchi90lpmm')\n",
    "print (science_image)"
   ]
  },
  {
   "cell_type": "code",
   "execution_count": 112,
   "metadata": {},
   "outputs": [
    {
     "name": "stdout",
     "output_type": "stream",
     "text": [
      "Generating group_id\n",
      "OBJECT 0001 - 0001\n",
      "[2020031200355]\n"
     ]
    }
   ],
   "source": [
    "best_focus = -0.20\n",
    "await attcs.focus_offset(best_focus)\n",
    "#They also moved the star from underme, so I need to get it recentered\n",
    "science_image = await latiss.take_object(exptime=60., n=1, filter='empty_1',grating='ronchi90lpmm')\n",
    "print (science_image)\n"
   ]
  },
  {
   "cell_type": "code",
   "execution_count": 113,
   "metadata": {},
   "outputs": [
    {
     "name": "stdout",
     "output_type": "stream",
     "text": [
      "Generating group_id\n",
      "OBJECT 0001 - 0001\n",
      "[2020031200356]\n"
     ]
    }
   ],
   "source": [
    "await attcs.focus_offset(best_focus + empty_to_quad)\n",
    "#They also moved the star from underme, so I need to get it recentered\n",
    "science_image = await latiss.take_object(exptime=60., n=1, filter='quadnotch1',grating='ronchi90lpmm')\n",
    "print (science_image)"
   ]
  },
  {
   "cell_type": "code",
   "execution_count": 114,
   "metadata": {},
   "outputs": [
    {
     "name": "stdout",
     "output_type": "stream",
     "text": [
      "RemoteEvent(ATHeaderService, 0, logMessage) falling behind; read 13 messages\n",
      "Generating group_id\n",
      "OBJECT 0001 - 0001\n",
      "[2020031200357]\n"
     ]
    }
   ],
   "source": [
    "await attcs.focus_offset(best_focus + empty_to_BG)\n",
    "#They also moved the star from underme, so I need to get it recentered\n",
    "science_image = await latiss.take_object(exptime=60., n=1, filter='BG40',grating='ronchi90lpmm')\n",
    "print (science_image)"
   ]
  },
  {
   "cell_type": "code",
   "execution_count": 115,
   "metadata": {},
   "outputs": [
    {
     "name": "stdout",
     "output_type": "stream",
     "text": [
      "RemoteEvent(ATHeaderService, 0, logMessage) falling behind; read 10 messages\n",
      "Generating group_id\n",
      "OBJECT 0001 - 0001\n",
      "[2020031200358]\n",
      "RemoteEvent(ATHeaderService, 0, logMessage) falling behind; read 11 messages\n",
      "RemoteEvent(ATHeaderService, 0, logMessage) falling behind; read 10 messages\n",
      "RemoteEvent(ATHeaderService, 0, logMessage) falling behind; read 11 messages\n",
      "RemoteEvent(ATHeaderService, 0, logMessage) falling behind; read 10 messages\n"
     ]
    }
   ],
   "source": [
    "await attcs.focus_offset(best_focus + empty_to_RG)\n",
    "#They also moved the star from underme, so I need to get it recentered\n",
    "science_image = await latiss.take_object(exptime=60., n=1, filter='RG610',grating='ronchi90lpmm')\n",
    "print (science_image)"
   ]
  },
  {
   "cell_type": "markdown",
   "metadata": {},
   "source": [
    "# Now we slew to a new, rising target: \n",
    "await attcs.slew_object(\"HD 185975\", rot_pa = 0.0, slew_timeout=240.)"
   ]
  },
  {
   "cell_type": "code",
   "execution_count": null,
   "metadata": {},
   "outputs": [],
   "source": []
  }
 ],
 "metadata": {
  "kernelspec": {
   "display_name": "LSST",
   "language": "python",
   "name": "lsst"
  },
  "language_info": {
   "codemirror_mode": {
    "name": "ipython",
    "version": 3
   },
   "file_extension": ".py",
   "mimetype": "text/x-python",
   "name": "python",
   "nbconvert_exporter": "python",
   "pygments_lexer": "ipython3",
   "version": "3.7.6"
  }
 },
 "nbformat": 4,
 "nbformat_minor": 4
}
