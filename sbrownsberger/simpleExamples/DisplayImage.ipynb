{
 "cells": [
  {
   "cell_type": "markdown",
   "metadata": {},
   "source": [
    "How to display an image"
   ]
  },
  {
   "cell_type": "markdown",
   "metadata": {},
   "source": [
    "These are general initilizations.  User should run this cell once, and genericallynot change these lines unless they want to do something more than just display a bias-subtracted frame. "
   ]
  },
  {
   "cell_type": "code",
   "execution_count": 1,
   "metadata": {},
   "outputs": [],
   "source": [
    "import os\n",
    "import sys\n",
    "import numpy as np\n",
    "import lsst.daf.persistence as dafPersist\n",
    "import lsst.afw.image as afwImage\n",
    "import lsst.afw.display as afwDisplay\n",
    "afwDisplay.setDefaultBackend(\"matplotlib\" if False else \"firefly\" if True else \"ginga\")\n",
    "os.environ['FIREFLY_URL'] = \"http://firefly01.cp.lsst.org:8080/firefly/\"\n",
    "import matplotlib.pyplot as plt\n",
    "\n",
    "from lsst.ip.isr.isrTask import IsrTask\n",
    "#%matplotlib --list\n",
    "%matplotlib widget"
   ]
  },
  {
   "cell_type": "markdown",
   "metadata": {},
   "source": [
    "And now the user can and should change these commands as they see fit based on their needs.  The isConfig lines in particular are useful for deciding, for example, if the displayed image should be bias subtracted. "
   ]
  },
  {
   "cell_type": "code",
   "execution_count": 2,
   "metadata": {},
   "outputs": [
    {
     "name": "stderr",
     "output_type": "stream",
     "text": [
      "/opt/lsst/software/stack/python/miniconda3-4.7.10/envs/lsst-scipipe-4d7b902/lib/python3.7/site-packages/ipykernel_launcher.py:10: FutureWarning: Config field doAddDistortionModel is deprecated: Camera geometry is incorporated when reading the raw files. This option no longer is used, and will be removed after v19.\n",
      "  # Remove the CWD from sys.path while we load stuff.\n"
     ]
    }
   ],
   "source": [
    "%matplotlib widget\n",
    "plt.rcParams['figure.figsize'] = [7, 6]\n",
    "isrConfig = IsrTask.ConfigClass()\n",
    "isrConfig.doLinearize = False\n",
    "isrConfig.doBias = True\n",
    "isrConfig.doFlat = False\n",
    "isrConfig.doDark = False\n",
    "isrConfig.doFringe = False\n",
    "isrConfig.doDefect = False\n",
    "isrConfig.doAddDistortionModel = False\n",
    "isrConfig.doWrite = False\n",
    "isrTask = IsrTask(config=isrConfig)\n",
    "butler = dafPersist.Butler(\"/mnt/dmcs/oods_butler_repo/repo\")"
   ]
  },
  {
   "cell_type": "markdown",
   "metadata": {},
   "source": [
    "User specifies the below to quantities (date of observation and object name) "
   ]
  },
  {
   "cell_type": "code",
   "execution_count": 3,
   "metadata": {},
   "outputs": [],
   "source": [
    "dataId = dict(dayObs=\"2020-02-20\")\n",
    "dataId[\"seqNum\"] = 502"
   ]
  },
  {
   "cell_type": "code",
   "execution_count": 4,
   "metadata": {},
   "outputs": [
    {
     "name": "stderr",
     "output_type": "stream",
     "text": [
      "AT_O_20200220_000502: Dark time less than exposure time. Setting dark time to the exposure time.\n"
     ]
    },
    {
     "data": {
      "text/html": [
       "Open your web browser to <a href=\"http://firefly01.cp.lsst.org:8080/firefly/slate.html?__wsch=Sasha\"\" target=\"_blank\">this link</a>"
      ],
      "text/plain": [
       "<IPython.core.display.HTML object>"
      ]
     },
     "metadata": {},
     "output_type": "display_data"
    }
   ],
   "source": [
    "try:\n",
    "    bias\n",
    "except NameError:\n",
    "    bias = butler.get('bias', dataId)\n",
    "exp = butler.get('raw', dataId)\n",
    "exp = isrTask.run(exp, bias=bias).exposure\n",
    "\n",
    "disp = afwDisplay.Display(1, name='Sasha', reopenPlot=True)\n",
    "disp.scale('asinh', 'zscale')\n",
    "disp.mtv(exp, title=f\"{dataId}\")"
   ]
  },
  {
   "cell_type": "code",
   "execution_count": 6,
   "metadata": {},
   "outputs": [],
   "source": [
    "disp = afwDisplay.Display(1, name='sample', reopenPlot=True)\n",
    "disp.scale('asinh', 'zscale')\n",
    "disp.mtv(exp, title=f\"{dataId}\")"
   ]
  },
  {
   "cell_type": "markdown",
   "metadata": {},
   "source": [
    "That image should now display in Firefly.  You should pick pick a focus star.  \n",
    "\n",
    "Then, in firefly, check the \"lock by click\" box (upper right) then click on the focus star. You'll get a x, y pixel coordinate of the box.  Record it.  That coordinate will be used to determine the morphological parameters of t"
   ]
  },
  {
   "cell_type": "code",
   "execution_count": 7,
   "metadata": {},
   "outputs": [
    {
     "ename": "ModuleNotFoundError",
     "evalue": "No module named 'lsst.rapid'",
     "output_type": "error",
     "traceback": [
      "\u001b[0;31m\u001b[0m",
      "\u001b[0;31mModuleNotFoundError\u001b[0mTraceback (most recent call last)",
      "\u001b[0;32m<ipython-input-7-693e6f11afcb>\u001b[0m in \u001b[0;36m<module>\u001b[0;34m\u001b[0m\n\u001b[0;32m----> 1\u001b[0;31m \u001b[0;32mfrom\u001b[0m \u001b[0mlsst\u001b[0m\u001b[0;34m.\u001b[0m\u001b[0mrapid\u001b[0m\u001b[0;34m.\u001b[0m\u001b[0manalysis\u001b[0m\u001b[0;34m.\u001b[0m\u001b[0mnightReport\u001b[0m \u001b[0;32mimport\u001b[0m \u001b[0mNightReporter\u001b[0m\u001b[0;34m\u001b[0m\u001b[0;34m\u001b[0m\u001b[0m\n\u001b[0m\u001b[1;32m      2\u001b[0m \u001b[0mreporter\u001b[0m \u001b[0;34m=\u001b[0m \u001b[0mNightReporter\u001b[0m\u001b[0;34m(\u001b[0m\u001b[0;34m'/mnt/dmcs/oods_butler_repo/repo'\u001b[0m\u001b[0;34m,\u001b[0m \u001b[0;34m\"2020-02-21\"\u001b[0m\u001b[0;34m)\u001b[0m\u001b[0;34m\u001b[0m\u001b[0;34m\u001b[0m\u001b[0m\n\u001b[1;32m      3\u001b[0m \u001b[0mstars\u001b[0m \u001b[0;34m=\u001b[0m \u001b[0mreporter\u001b[0m\u001b[0;34m.\u001b[0m\u001b[0mgetObservedObjects\u001b[0m\u001b[0;34m(\u001b[0m\u001b[0;34m)\u001b[0m\u001b[0;34m\u001b[0m\u001b[0;34m\u001b[0m\u001b[0m\n\u001b[1;32m      4\u001b[0m \u001b[0mcolorMap\u001b[0m \u001b[0;34m=\u001b[0m \u001b[0mreporter\u001b[0m\u001b[0;34m.\u001b[0m\u001b[0mmakeStarColorMapDict\u001b[0m\u001b[0;34m(\u001b[0m\u001b[0mstars\u001b[0m\u001b[0;34m)\u001b[0m\u001b[0;34m\u001b[0m\u001b[0;34m\u001b[0m\u001b[0m\n\u001b[1;32m      5\u001b[0m \u001b[0mreporter\u001b[0m\u001b[0;34m.\u001b[0m\u001b[0mmakePolarPlotForObjects\u001b[0m\u001b[0;34m(\u001b[0m\u001b[0mstars\u001b[0m\u001b[0;34m,\u001b[0m \u001b[0mcolorMap\u001b[0m\u001b[0;34m,\u001b[0m \u001b[0mwithLines\u001b[0m\u001b[0;34m=\u001b[0m\u001b[0;32mFalse\u001b[0m\u001b[0;34m)\u001b[0m\u001b[0;34m\u001b[0m\u001b[0;34m\u001b[0m\u001b[0m\n",
      "\u001b[0;31mModuleNotFoundError\u001b[0m: No module named 'lsst.rapid'"
     ]
    }
   ],
   "source": []
  },
  {
   "cell_type": "code",
   "execution_count": null,
   "metadata": {},
   "outputs": [],
   "source": []
  }
 ],
 "metadata": {
  "kernelspec": {
   "display_name": "Python 3",
   "language": "python",
   "name": "python3"
  },
  "language_info": {
   "codemirror_mode": {
    "name": "ipython",
    "version": 3
   },
   "file_extension": ".py",
   "mimetype": "text/x-python",
   "name": "python",
   "nbconvert_exporter": "python",
   "pygments_lexer": "ipython3",
   "version": "3.7.2"
  }
 },
 "nbformat": 4,
 "nbformat_minor": 4
}
