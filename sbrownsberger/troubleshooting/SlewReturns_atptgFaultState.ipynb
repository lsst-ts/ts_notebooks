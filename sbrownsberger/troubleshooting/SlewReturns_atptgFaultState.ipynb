{
 "cells": [
  {
   "cell_type": "raw",
   "metadata": {},
   "source": [
    "Issue: on slew, you get some version of the following error:\n",
    "\n",
    "RemoteEvent(ATMCS, 0, target) falling behind; read 12 messages\n",
    "RemoteEvent(ATDomeTrajectory, 0, logMessage) falling behind; read 12 messages\n",
    "atptg not in <State.ENABLED: 2>: <State.FAULT: 3>\n",
    "RuntimeError, cancel_not_done.\n",
    "\n",
    "RuntimeErrorTraceback (most recent call last)\n",
    "<ipython-input-140-66ad61299aa3> in async-def-wrapper()\n",
    "\n",
    "~/repos/ts_standardscripts/python/lsst/ts/standardscripts/auxtel/attcs.py in slew_object(self, name, rot_sky, rot_pa, slew_timeout, track_id)\n",
    "    202                         rot_mode=ATPtg.RotMode.FIELD,\n",
    "    203                         slew_timeout=slew_timeout,\n",
    "--> 204                         track_id=track_id)\n",
    "    205 \n",
    "    206     async def slew_icrs(self, ra, dec, rot_sky=None, rot_pa=0.,\n",
    "\n",
    "~/repos/ts_standardscripts/python/lsst/ts/standardscripts/auxtel/attcs.py in slew(self, ra, dec, rotPA, target_name, target_instance, frame, epoch, equinox, parallax, pmRA, pmDec, rv, dRA, dDec, rot_frame, rot_mode, slew_timeout, track_id)\n",
    "    306 \n",
    "    307         await self._slew_to(self.atptg.cmd_raDecTarget,\n",
    "--> 308                             slew_timeout=slew_timeout)\n",
    "    309 \n",
    "    310     async def slew_to_planet(self, planet,\n",
    "\n",
    "~/repos/ts_standardscripts/python/lsst/ts/standardscripts/auxtel/attcs.py in _slew_to(self, slew_cmd, slew_timeout)\n",
    "    815                 self.log.warning(\"RuntimeError, cancel_not_done.\")\n",
    "    816                 await self.cancel_not_done(coro_list)\n",
    "--> 817                 raise rte\n",
    "    818             else:\n",
    "    819                 break\n",
    "\n",
    "~/repos/ts_standardscripts/python/lsst/ts/standardscripts/auxtel/attcs.py in _slew_to(self, slew_cmd, slew_timeout)\n",
    "    810         for res in asyncio.as_completed(coro_list):\n",
    "    811             try:\n",
    "--> 812                 ret_val = await res\n",
    "    813                 self.log.debug(ret_val)\n",
    "    814             except RuntimeError as rte:\n",
    "\n",
    "/opt/lsst/software/stack/python/miniconda3-4.7.10/envs/lsst-scipipe-4d7b902/lib/python3.7/asyncio/tasks.py in _wait_for_one()\n",
    "    531             # Dummy value from _on_timeout().\n",
    "    532             raise futures.TimeoutError\n",
    "--> 533         return f.result()  # May raise f.exception().\n",
    "    534 \n",
    "    535     for f in todo:\n",
    "\n",
    "~/repos/ts_standardscripts/python/lsst/ts/standardscripts/base_group.py in check_component_state(self, comp, desired_state)\n",
    "     96             if state != desired_state:\n",
    "     97                 self.log.warning(f\"{comp} not in {desired_state!r}: {state!r}\")\n",
    "---> 98                 raise RuntimeError(f\"{comp} state is {state!r}, \"\n",
    "     99                                    f\"expected {desired_state!r}\")\n",
    "    100             else:\n",
    "\n",
    "RuntimeError: atptg state is <State.FAULT: 3>, expected <State.ENABLED: 2>"
   ]
  },
  {
   "cell_type": "raw",
   "metadata": {},
   "source": [
    "Solution.  \n",
    "First, check object is not pushing a parameter limit. \n",
    " (pointing should check, but it's possible that it's okay when you send command, but then it becomes a invalid)\n",
    " (in that case, it will spot mount and go to fault.  Then, the pointing will go to fault) \n",
    "Check el of target. \n",
    "If that's okay, then you should go look at the reported errors for the component that gave fault (in this case, the atptg) \n",
    "open Chronograf and navigate to the Dashboards then to the Fault State Report \n",
    "    #Note: you may need to enable the \"variables\" dropdown menu to select it\n",
    "Select the component that gave fault, and navigate down to the see the most recent error. \n",
    "\n",
    "Correct as appropriate.  \n",
    "No matter what, you will need to reenable the problematic component\n",
    "For the pointing do either: \n",
    "await salobj.set_summary_state(attcs.atptg, salobj.State.ENABLED) \n",
    "or: \n",
    "attcs.enable() \n",
    "as that would enable all of the components, but it is slower. \n",
    "\n",
    "Note that for the problem encountered here, this was not sufficient and Tucson had to go deep in and force restart the system.  This is a level beyond what they would normally like an observer to do. "
   ]
  },
  {
   "cell_type": "raw",
   "metadata": {},
   "source": [
    "In the above case, we asked the rotator to go out of position.  So the solution was to issue the same slew command, but with a 180 degree offset in rot_sky. "
   ]
  },
  {
   "cell_type": "code",
   "execution_count": null,
   "metadata": {},
   "outputs": [],
   "source": []
  }
 ],
 "metadata": {
  "kernelspec": {
   "display_name": "LSST",
   "language": "python",
   "name": "lsst"
  },
  "language_info": {
   "codemirror_mode": {
    "name": "ipython",
    "version": 3
   },
   "file_extension": ".py",
   "mimetype": "text/x-python",
   "name": "python",
   "nbconvert_exporter": "python",
   "pygments_lexer": "ipython3",
   "version": "3.7.6"
  }
 },
 "nbformat": 4,
 "nbformat_minor": 4
}
