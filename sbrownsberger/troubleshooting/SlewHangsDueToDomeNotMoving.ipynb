{
 "cells": [
  {
   "cell_type": "raw",
   "metadata": {},
   "source": [
    "Issue: \n",
    " We slewed to a target, but slew command hung.  \n",
    " Survey of LOVE suggested dome was stuck (slit illustration on LOVE not moving) "
   ]
  },
  {
   "cell_type": "raw",
   "metadata": {},
   "source": [
    "Solution: \n",
    " (1) Interrupt hung slew command \n",
    " (2) Stop the tracking \n",
    "   >>> await attcs.stop_tracking() #First stop tracking\n",
    " (3) Try to move dome directly (we send it to the azimuth where it beleived it was supposed to be \n",
    "   >>> await attcs.atdome.cmd_moveAzimuth.set_start(azimuth = 150.0) \n",
    " (4) Try slewing again to the same target \n",
    "   >>> target_name = \"HD 109978\"\n",
    "   >>> await attcs.slew_object(name = target_name,  rot_pa=90.0, slew_timeout=240.)\n",
    "   NOTE: Tracking should resume automatically \n",
    "   "
   ]
  },
  {
   "cell_type": "code",
   "execution_count": null,
   "metadata": {},
   "outputs": [],
   "source": []
  },
  {
   "cell_type": "code",
   "execution_count": null,
   "metadata": {},
   "outputs": [],
   "source": []
  }
 ],
 "metadata": {
  "kernelspec": {
   "display_name": "LSST",
   "language": "python",
   "name": "lsst"
  },
  "language_info": {
   "codemirror_mode": {
    "name": "ipython",
    "version": 3
   },
   "file_extension": ".py",
   "mimetype": "text/x-python",
   "name": "python",
   "nbconvert_exporter": "python",
   "pygments_lexer": "ipython3",
   "version": "3.7.6"
  }
 },
 "nbformat": 4,
 "nbformat_minor": 4
}
