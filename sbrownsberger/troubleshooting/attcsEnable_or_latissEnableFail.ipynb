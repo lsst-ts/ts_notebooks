{
 "cells": [
  {
   "cell_type": "raw",
   "metadata": {},
   "source": [
    "On 2020/02/20, we encountered the following error when attempting to enable the ATTCS and LATISS: \n",
    "\n",
    "Ran: \n",
    "await attcs.enable()\n",
    "await latiss.enable()\n",
    "\n",
    "Returned: \n",
    "Gathering settings.\n",
    "No settings for atmcs.\n",
    "Using                                                                                                                                 from settingVersions event.\n",
    "No settings for atptg.\n",
    "Couldn't get settingVersions event. Using empty settings.\n",
    "No settings for ataos.\n",
    "Using current from settingVersions event.\n",
    "No settings for atpneumatics.\n",
    "Using                                                                                                                                 from settingVersions event.\n",
    "No settings for athexapod.\n",
    "Using current from settingVersions event.\n",
    "No settings for atdome.\n",
    "Using test from settingVersions event.\n",
    "No settings for atdometrajectory.\n",
    "Using  from settingVersions event.\n",
    "Settings versions: {'atmcs': '                                                                                                                               ', 'atptg': '', 'ataos': 'current', 'atpneumatics': '                                                                                                                               ', 'athexapod': 'current', 'atdome': 'test', 'atdometrajectory': ''}\n",
    "Enabling all components\n",
    "Enabling  atmcs\n",
    "Enabling  atptg\n",
    "Enabling  ataos\n",
    "Enabling  atpneumatics\n",
    "Enabling  athexapod\n",
    "Enabling  atdome\n",
    "Enabling  atdometrajectory\n",
    "[atmcs]::[<State.ENABLED: 2>]\n",
    "[atptg]::[<State.ENABLED: 2>]\n",
    "[ataos]::[<State.ENABLED: 2>]\n",
    "[atpneumatics]::[<State.ENABLED: 2>]\n",
    "[athexapod]::[<State.ENABLED: 2>]\n",
    "[atdome]::[<State.ENABLED: 2>]\n",
    "[atdometrajectory]::[<State.ENABLED: 2>]\n",
    "All components enabled.\n",
    "Gathering settings.\n",
    "No settings for atcamera.\n",
    "Couldn't get settingVersions event. Using empty settings.\n",
    "No settings for atspectrograph.\n",
    "Using current from settingVersions event.\n",
    "No settings for atheaderservice.\n",
    "Couldn't get settingVersions event. Using empty settings.\n",
    "No settings for atarchiver.\n",
    "Using normal from settingVersions event.\n",
    "Settings versions: {'atcamera': '', 'atspectrograph': 'current', 'atheaderservice': '', 'atarchiver': 'normal'}\n",
    "Enabling all components\n",
    "Enabling  atcamera\n",
    "Enabling  atspectrograph\n",
    "Enabling  atheaderservice\n",
    "Enabling  atarchiver\n",
    "Unable to ENABLE atcamera\n",
    "Cannot get summaryState from ATCamera\n",
    "NoneType: None\n",
    "[atspectrograph]::[<State.ENABLED: 2>]\n",
    "[atheaderservice]::[<State.ENABLED: 2>]\n",
    "[atarchiver]::[<State.STANDBY: 5>, <State.DISABLED: 1>, <State.ENABLED: 2>]\n",
    "\n",
    "With this error: \n",
    "RuntimeErrorTraceback (most recent call last)\n",
    "<ipython-input-4-c8f8eada7274> in async-def-wrapper()\n",
    "\n",
    "~/repos/ts_standardscripts/python/lsst/ts/standardscripts/base_group.py in enable(self, settings)\n",
    "    218 \n",
    "    219         if error_flag:\n",
    "--> 220             raise RuntimeError(error_msg)\n",
    "    221         else:\n",
    "    222             self.log.info(\"All components enabled.\")\n",
    "\n",
    "RuntimeError: Unable to ENABLE atcamera"
   ]
  },
  {
   "cell_type": "raw",
   "metadata": {},
   "source": [
    "The issue was these three lines: \n",
    "Unable to ENABLE atcamera\n",
    "Cannot get summaryState from ATCamera\n",
    "NoneType: None\n",
    "\n",
    "The system failed because the ATCamera was locked in an old enabled state. "
   ]
  },
  {
   "cell_type": "raw",
   "metadata": {},
   "source": [
    "We fixed the issue by directly resetting the camera's state...\n",
    "\n",
    "await latiss.atcamera.cmd_disable.start(timeout=5)"
   ]
  },
  {
   "cell_type": "raw",
   "metadata": {},
   "source": [
    "...and then rerunning the enable commands: \n",
    "await attcs.enable()\n",
    "await latiss.enable()"
   ]
  },
  {
   "cell_type": "code",
   "execution_count": null,
   "metadata": {},
   "outputs": [],
   "source": []
  }
 ],
 "metadata": {
  "kernelspec": {
   "display_name": "LSST",
   "language": "python",
   "name": "lsst"
  },
  "language_info": {
   "codemirror_mode": {
    "name": "ipython",
    "version": 3
   },
   "file_extension": ".py",
   "mimetype": "text/x-python",
   "name": "python",
   "nbconvert_exporter": "python",
   "pygments_lexer": "ipython3",
   "version": "3.7.6"
  }
 },
 "nbformat": 4,
 "nbformat_minor": 4
}
