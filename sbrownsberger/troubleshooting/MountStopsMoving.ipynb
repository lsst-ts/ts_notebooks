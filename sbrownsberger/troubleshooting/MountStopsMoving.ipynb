{
 "cells": [
  {
   "cell_type": "raw",
   "metadata": {},
   "source": [
    "The mount stopped moving.  This sometimes happens; it just gets stuck\n",
    "Our  best solution is to just nudge the mount in various directions using \n",
    "\n",
    "await attcs.adjust_altaz(XXX, YYY)\n",
    "\n",
    "We legitimately just tried various values of alt and az.  Sometimes, pushing it the opposite direciton of where it was going is best.  Sometimes, just adjusting in alt.  Sometiems, just adjusting in az.  \n",
    "\n",
    "Sometimes, try to resend it to the position where it was last.  \n",
    "\n",
    "In between every uncuccessful execution (which can be stopped by interreupting the kernel), you should execute: \n",
    "\n",
    "await attcs.cancel_not_done(attcs.scheduled_coro)\n",
    "\n",
    "To stop teh notebook from reading out continuous informaiton about how it's in the same position as before. "
   ]
  },
  {
   "cell_type": "code",
   "execution_count": null,
   "metadata": {},
   "outputs": [],
   "source": []
  }
 ],
 "metadata": {
  "kernelspec": {
   "display_name": "LSST",
   "language": "python",
   "name": "lsst"
  },
  "language_info": {
   "codemirror_mode": {
    "name": "ipython",
    "version": 3
   },
   "file_extension": ".py",
   "mimetype": "text/x-python",
   "name": "python",
   "nbconvert_exporter": "python",
   "pygments_lexer": "ipython3",
   "version": "3.7.6"
  }
 },
 "nbformat": 4,
 "nbformat_minor": 4
}
