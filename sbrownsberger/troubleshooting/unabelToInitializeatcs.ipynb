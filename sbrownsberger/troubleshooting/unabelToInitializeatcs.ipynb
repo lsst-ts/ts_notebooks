{
 "cells": [
  {
   "cell_type": "raw",
   "metadata": {},
   "source": [
    "Error description: \n",
    "When running the following cell\n",
    "###################\n",
    "await asyncio.gather(attcs.start_task, latiss.start_task)\n",
    "await attcs.enable()\n",
    "await latiss.enable() \n",
    "##################\n",
    "received error that read atcs could not be enabled.  \n",
    "Another sign that something was wrong was that it took ~60s looking for historical data, then reported a failure to do so.  \n",
    " \n",
    "\n",
    "This was solved by shutting down all Jupyter kernels and restarting the notebook of interest.  Error still somewhat mysterious. "
   ]
  },
  {
   "cell_type": "code",
   "execution_count": null,
   "metadata": {},
   "outputs": [],
   "source": []
  }
 ],
 "metadata": {
  "kernelspec": {
   "display_name": "LSST",
   "language": "python",
   "name": "lsst"
  },
  "language_info": {
   "codemirror_mode": {
    "name": "ipython",
    "version": 3
   },
   "file_extension": ".py",
   "mimetype": "text/x-python",
   "name": "python",
   "nbconvert_exporter": "python",
   "pygments_lexer": "ipython3",
   "version": "3.7.6"
  }
 },
 "nbformat": 4,
 "nbformat_minor": 4
}
