{
 "cells": [
  {
   "cell_type": "raw",
   "metadata": {},
   "source": [
    "Issue: Telescope stops tracking"
   ]
  },
  {
   "cell_type": "raw",
   "metadata": {},
   "source": [
    "Solution: send command directly to telescope to start tracking again: \n",
    "   >>> await attcs.atmcs.cmd_startTracking.start() \n",
    "Wait for tracking to resume.  You should see Mount listed as [ IN POSITION ] in LOVE display.  "
   ]
  },
  {
   "cell_type": "code",
   "execution_count": null,
   "metadata": {},
   "outputs": [],
   "source": []
  }
 ],
 "metadata": {
  "kernelspec": {
   "display_name": "LSST",
   "language": "python",
   "name": "lsst"
  },
  "language_info": {
   "codemirror_mode": {
    "name": "ipython",
    "version": 3
   },
   "file_extension": ".py",
   "mimetype": "text/x-python",
   "name": "python",
   "nbconvert_exporter": "python",
   "pygments_lexer": "ipython3",
   "version": "3.7.6"
  }
 },
 "nbformat": 4,
 "nbformat_minor": 4
}
