{
 "cells": [
  {
   "cell_type": "code",
   "execution_count": null,
   "metadata": {},
   "outputs": [],
   "source": [
    "#A continuous notebook documenting our procedures"
   ]
  },
  {
   "cell_type": "code",
   "execution_count": 1,
   "metadata": {},
   "outputs": [],
   "source": [
    "import sys\n",
    "import asyncio\n",
    "import logging\n",
    "import time\n",
    "\n",
    "import numpy as np\n",
    "\n",
    "from lsst.ts import salobj\n",
    "\n",
    "\n",
    "from lsst.ts.standardscripts.auxtel.attcs import ATTCS\n",
    "from lsst.ts.standardscripts.auxtel.latiss import LATISS"
   ]
  },
  {
   "cell_type": "code",
   "execution_count": 2,
   "metadata": {},
   "outputs": [],
   "source": [
    "stream_handler = logging.StreamHandler(sys.stdout)\n",
    "logger = logging.getLogger()\n",
    "logger.addHandler(stream_handler)\n",
    "logger.level = logging.DEBUG"
   ]
  },
  {
   "cell_type": "code",
   "execution_count": 3,
   "metadata": {},
   "outputs": [],
   "source": [
    "attcs = ATTCS()\n",
    "latiss = LATISS(attcs.domain) "
   ]
  },
  {
   "cell_type": "code",
   "execution_count": 4,
   "metadata": {},
   "outputs": [
    {
     "name": "stdout",
     "output_type": "stream",
     "text": [
      "Read historical data in 0.02 sec\n",
      "Read historical data in 1.38 sec\n",
      "Read historical data in 1.94 sec\n",
      "Read historical data in 2.85 sec\n",
      "Read historical data in 3.86 sec\n",
      "Read historical data in 4.15 sec\n",
      "Read historical data in 5.14 sec\n",
      "Read historical data in 5.86 sec\n",
      "Read historical data in 8.62 sec\n",
      "Read historical data in 9.27 sec\n",
      "Read historical data in 11.12 sec\n",
      "RemoteTelemetry(ATHexapod, 0, positionStatus) falling behind; read 12 messages\n",
      "RemoteEvent(ATDomeTrajectory, 0, logMessage) falling behind; read 100 messages\n",
      "RemoteEvent(ATAOS, 0, heartbeat) falling behind; read 11 messages\n"
     ]
    },
    {
     "data": {
      "text/plain": [
       "[None, None, None, None, None, None, None]"
      ]
     },
     "execution_count": 4,
     "metadata": {},
     "output_type": "execute_result"
    },
    {
     "name": "stdout",
     "output_type": "stream",
     "text": [
      "RemoteEvent(ATHexapod, 0, heartbeat) falling behind; read 13 messages\n",
      "RemoteEvent(ATHeaderService, 0, heartbeat) falling behind; read 10 messages\n",
      "RemoteEvent(ATDomeTrajectory, 0, heartbeat) falling behind; read 12 messages\n",
      "RemoteEvent(ATAOS, 0, detailedState) falling behind; read 11 messages\n",
      "RemoteTelemetry(ATPneumatics, 0, m2AirPressure) falling behind; read 10 messages\n",
      "RemoteTelemetry(ATDome, 0, position) falling behind; read 41 messages\n",
      "RemoteTelemetry(ATPtg, 0, timeAndDate) falling behind; read 12 messages\n",
      "RemoteTelemetry(ATPneumatics, 0, m1AirPressure) falling behind; read 10 messages\n",
      "RemoteTelemetry(ATPtg, 0, mountStatus) falling behind; read 14 messages\n",
      "RemoteTelemetry(ATPneumatics, 0, loadCell) falling behind; read 10 messages\n",
      "RemoteTelemetry(ATPtg, 0, guidingAndOffsets) falling behind; read 17 messages\n",
      "RemoteEvent(ATPneumatics, 0, heartbeat) falling behind; read 11 messages\n",
      "RemoteTelemetry(ATPtg, 0, currentTargetStatus) falling behind; read 18 messages\n"
     ]
    }
   ],
   "source": [
    "await attcs.start_task"
   ]
  },
  {
   "cell_type": "code",
   "execution_count": 5,
   "metadata": {},
   "outputs": [
    {
     "name": "stdout",
     "output_type": "stream",
     "text": [
      "Gathering settings.\n",
      "No settings for atmcs.\n",
      "Using                                                                                                                                 from settingVersions event.\n",
      "No settings for atptg.\n",
      "RemoteEvent(ATMCS, 0, target) falling behind; read 100 messages\n",
      "Couldn't get settingVersions event. Using empty settings.\n",
      "No settings for ataos.\n",
      "Using current from settingVersions event.\n",
      "No settings for atpneumatics.\n",
      "Using                                                                                                                                 from settingVersions event.\n",
      "No settings for athexapod.\n",
      "Using current from settingVersions event.\n",
      "No settings for atdome.\n",
      "Using test from settingVersions event.\n",
      "No settings for atdometrajectory.\n",
      "Using  from settingVersions event.\n",
      "Settings versions: {'atmcs': '                                                                                                                               ', 'atptg': '', 'ataos': 'current', 'atpneumatics': '                                                                                                                               ', 'athexapod': 'current', 'atdome': 'test', 'atdometrajectory': ''}\n",
      "Enabling all components\n",
      "Enabling  atmcs\n",
      "Enabling  atptg\n",
      "Enabling  ataos\n",
      "Enabling  atpneumatics\n",
      "Enabling  athexapod\n",
      "Enabling  atdome\n",
      "Enabling  atdometrajectory\n",
      "[atmcs]::[<State.ENABLED: 2>]\n",
      "[atptg]::[<State.ENABLED: 2>]\n",
      "[ataos]::[<State.ENABLED: 2>]\n",
      "[atpneumatics]::[<State.ENABLED: 2>]\n",
      "[athexapod]::[<State.ENABLED: 2>]\n",
      "[atdome]::[<State.ENABLED: 2>]\n",
      "[atdometrajectory]::[<State.ENABLED: 2>]\n",
      "All components enabled.\n",
      "Gathering settings.\n",
      "No settings for atcamera.\n",
      "Couldn't get settingVersions event. Using empty settings.\n",
      "No settings for atspectrograph.\n",
      "Using current from settingVersions event.\n",
      "No settings for atheaderservice.\n",
      "Couldn't get settingVersions event. Using empty settings.\n",
      "No settings for atarchiver.\n",
      "Using normal from settingVersions event.\n",
      "Settings versions: {'atcamera': '', 'atspectrograph': 'current', 'atheaderservice': '', 'atarchiver': 'normal'}\n",
      "Enabling all components\n",
      "Enabling  atcamera\n",
      "Enabling  atspectrograph\n",
      "Enabling  atheaderservice\n",
      "Enabling  atarchiver\n",
      "[atcamera]::[<State.ENABLED: 2>]\n",
      "[atspectrograph]::[<State.ENABLED: 2>]\n",
      "[atheaderservice]::[<State.ENABLED: 2>]\n",
      "[atarchiver]::[<State.ENABLED: 2>]\n",
      "All components enabled.\n"
     ]
    }
   ],
   "source": [
    "await attcs.enable()\n",
    "await latiss.enable() "
   ]
  },
  {
   "cell_type": "code",
   "execution_count": 6,
   "metadata": {},
   "outputs": [
    {
     "name": "stdout",
     "output_type": "stream",
     "text": [
      "Generating group_id\n",
      "BIAS 0001 - 0010\n",
      "Waiting for header service LFO before continuing\n",
      "RemoteEvent(ATHeaderService, 0, logMessage) falling behind; read 10 messages\n",
      "BIAS 0002 - 0010\n",
      "Waiting for header service LFO before continuing\n",
      "RemoteEvent(ATHeaderService, 0, logMessage) falling behind; read 17 messages\n",
      "BIAS 0003 - 0010\n",
      "Waiting for header service LFO before continuing\n",
      "RemoteEvent(ATHeaderService, 0, logMessage) falling behind; read 10 messages\n",
      "BIAS 0004 - 0010\n",
      "Waiting for header service LFO before continuing\n",
      "RemoteEvent(ATHeaderService, 0, logMessage) falling behind; read 11 messages\n",
      "BIAS 0005 - 0010\n",
      "Waiting for header service LFO before continuing\n",
      "RemoteEvent(ATHeaderService, 0, logMessage) falling behind; read 12 messages\n",
      "BIAS 0006 - 0010\n",
      "Waiting for header service LFO before continuing\n",
      "RemoteEvent(ATHeaderService, 0, logMessage) falling behind; read 10 messages\n",
      "BIAS 0007 - 0010\n",
      "Waiting for header service LFO before continuing\n",
      "RemoteEvent(ATHeaderService, 0, logMessage) falling behind; read 10 messages\n",
      "BIAS 0008 - 0010\n",
      "Waiting for header service LFO before continuing\n",
      "RemoteEvent(ATHeaderService, 0, logMessage) falling behind; read 13 messages\n",
      "BIAS 0009 - 0010\n",
      "Waiting for header service LFO before continuing\n",
      "RemoteEvent(ATHeaderService, 0, logMessage) falling behind; read 16 messages\n",
      "BIAS 0010 - 0010\n",
      "Waiting for header service LFO before continuing\n",
      "RemoteEvent(ATHeaderService, 0, logMessage) falling behind; read 11 messages\n",
      "The bias data id(s) are: [2020022100001 2020022100002 2020022100003 2020022100004 2020022100005\n",
      " 2020022100006 2020022100007 2020022100008 2020022100009 2020022100010]\n"
     ]
    }
   ],
   "source": [
    "bias_data_id_list = await latiss.take_bias(nbias=10)\n",
    "print ('The bias data id(s) are: ' + str(bias_data_id_list)) "
   ]
  },
  {
   "cell_type": "code",
   "execution_count": 7,
   "metadata": {},
   "outputs": [
    {
     "name": "stdout",
     "output_type": "stream",
     "text": [
      "Cover state <MirrorCoverState.CLOSED: 6>\n",
      "Opening M1 cover.\n",
      "Cover state <MirrorCoverState.STANDBY: 5>\n",
      "Cover state <MirrorCoverState.DISABLED: 1>\n",
      "Cover state <MirrorCoverState.CLOSED: 6>\n",
      "Cover state <MirrorCoverState.INMOTION: 8>\n",
      "Cover state <MirrorCoverState.OPENED: 7>\n",
      "Sending command\n",
      "Stop tracking.\n",
      "Mount tracking state is 10\n",
      "Tracking state: 5.\n",
      "Tracking state: 6.\n",
      "Tracking state: 10.\n",
      "Scheduling check coroutines\n",
      "process as completed...\n",
      "Got False\n",
      "Telescope not in position\n",
      "atmcs: <State.ENABLED: 2>\n",
      "atptg: <State.ENABLED: 2>\n",
      "ataos: <State.ENABLED: 2>\n",
      "atpneumatics: <State.ENABLED: 2>\n",
      "athexapod: <State.ENABLED: 2>\n",
      "[Telescope] delta Alt = -040.996 | delta Az= -154.303\n",
      "[Telescope] delta Alt = -038.816 | delta Az= -156.603\n",
      "[Telescope] delta Alt = -034.816 | delta Az= -160.599\n",
      "[Telescope] delta Alt = -032.817 | delta Az= -162.598\n",
      "[Telescope] delta Alt = -028.816 | delta Az= -166.600\n",
      "[Telescope] delta Alt = -024.838 | delta Az= -170.600\n",
      "[Telescope] delta Alt = -020.919 | delta Az= -174.599\n",
      "[Telescope] delta Alt = -019.004 | delta Az= -176.599\n",
      "[Telescope] delta Alt = -015.308 | delta Az= +179.401\n",
      "[Telescope] delta Alt = -011.873 | delta Az= +175.401\n",
      "[Telescope] delta Alt = -008.775 | delta Az= +171.400\n",
      "[Telescope] delta Alt = -006.093 | delta Az= +167.401\n",
      "[Telescope] delta Alt = -004.930 | delta Az= +165.401\n",
      "[Telescope] delta Alt = -002.991 | delta Az= +161.400\n",
      "[Telescope] delta Alt = -001.562 | delta Az= +157.401\n",
      "[Telescope] delta Alt = -000.642 | delta Az= +153.400\n",
      "[Telescope] delta Alt = -000.165 | delta Az= +149.400\n",
      "[Telescope] delta Alt = -000.010 | delta Az= +145.401\n",
      "[Telescope] delta Alt = +000.000 | delta Az= +141.401\n",
      "[Telescope] delta Alt = +000.000 | delta Az= +137.400\n",
      "[Telescope] delta Alt = +000.000 | delta Az= +133.400\n",
      "[Telescope] delta Alt = -000.000 | delta Az= +129.401\n",
      "[Telescope] delta Alt = -000.000 | delta Az= +127.400\n",
      "[Telescope] delta Alt = -000.000 | delta Az= +123.402\n",
      "[Telescope] delta Alt = -000.000 | delta Az= +119.400\n",
      "[Telescope] delta Alt = +000.000 | delta Az= +115.399\n",
      "[Telescope] delta Alt = -000.000 | delta Az= +111.401\n",
      "[Telescope] delta Alt = +000.000 | delta Az= +109.401\n",
      "[Telescope] delta Alt = -000.000 | delta Az= +105.401\n",
      "[Telescope] delta Alt = +000.000 | delta Az= +101.401\n",
      "[Telescope] delta Alt = -000.000 | delta Az= +097.400\n",
      "[Telescope] delta Alt = -000.000 | delta Az= +093.401\n",
      "[Telescope] delta Alt = +000.000 | delta Az= +089.401\n",
      "[Telescope] delta Alt = -000.000 | delta Az= +085.401\n",
      "[Telescope] delta Alt = +000.000 | delta Az= +081.400\n",
      "[Telescope] delta Alt = +000.000 | delta Az= +077.400\n",
      "[Telescope] delta Alt = -000.000 | delta Az= +073.401\n",
      "[Telescope] delta Alt = +000.000 | delta Az= +069.401\n",
      "[Telescope] delta Alt = -000.000 | delta Az= +065.400\n",
      "[Telescope] delta Alt = +000.000 | delta Az= +061.400\n",
      "[Telescope] delta Alt = +000.000 | delta Az= +057.401\n",
      "[Telescope] delta Alt = -000.000 | delta Az= +053.401\n",
      "[Telescope] delta Alt = +000.000 | delta Az= +049.400\n",
      "[Telescope] delta Alt = -000.000 | delta Az= +045.401\n",
      "[Telescope] delta Alt = +000.000 | delta Az= +041.401\n",
      "[Telescope] delta Alt = -000.000 | delta Az= +037.400\n",
      "[Telescope] delta Alt = -000.000 | delta Az= +033.402\n",
      "[Telescope] delta Alt = +000.000 | delta Az= +029.402\n",
      "[Telescope] delta Alt = -000.000 | delta Az= +027.404\n",
      "[Telescope] delta Alt = +000.000 | delta Az= +023.440\n",
      "[Telescope] delta Alt = +000.000 | delta Az= +019.560\n",
      "[Telescope] delta Alt = +000.000 | delta Az= +015.838\n",
      "[Telescope] delta Alt = +000.000 | delta Az= +012.357\n",
      "[Telescope] delta Alt = +000.000 | delta Az= +009.206\n",
      "[Telescope] delta Alt = +000.000 | delta Az= +006.461\n",
      "[Telescope] delta Alt = +000.000 | delta Az= +004.186\n",
      "[Telescope] delta Alt = +000.000 | delta Az= +002.425\n",
      "[Telescope] delta Alt = +000.000 | delta Az= +001.183\n",
      "[Telescope] delta Alt = +000.000 | delta Az= +000.749\n",
      "[Telescope] delta Alt = +000.000 | delta Az= +000.211\n",
      "[Telescope] delta Alt = +000.000 | delta Az= +000.018\n",
      "[Telescope] delta Alt = +000.000 | delta Az= -000.000\n",
      "Axes in position.\n",
      "None\n",
      "Stop tracking.\n",
      "Mount tracking state is 9\n",
      "Tracking state: 10.\n",
      "Tracking state: 8.\n",
      "In Position: False.\n",
      "atdometrajectory: <State.DISABLED: 1>\n",
      "[Dome] delta Az = +017.910\n",
      "[Dome] delta Az = +017.800\n",
      "[Dome] delta Az = +017.460\n",
      "[Dome] delta Az = +016.880\n",
      "[Dome] delta Az = +016.070\n",
      "[Dome] delta Az = +015.040\n",
      "[Dome] delta Az = +013.760\n",
      "[Dome] delta Az = +012.270\n",
      "[Dome] delta Az = +010.530\n",
      "[Dome] delta Az = +008.570\n",
      "[Dome] delta Az = +006.380\n",
      "[Dome] delta Az = +004.000\n",
      "ATDome in position.\n"
     ]
    }
   ],
   "source": [
    "await attcs.prepare_for_flatfield()"
   ]
  },
  {
   "cell_type": "code",
   "execution_count": 8,
   "metadata": {},
   "outputs": [
    {
     "name": "stdout",
     "output_type": "stream",
     "text": [
      "Dome azimuth still homing.\n",
      "Dome azimuth still homing.\n"
     ]
    }
   ],
   "source": [
    "await attcs.home_dome()"
   ]
  },
  {
   "cell_type": "code",
   "execution_count": 9,
   "metadata": {},
   "outputs": [
    {
     "name": "stdout",
     "output_type": "stream",
     "text": [
      "Cover state <MirrorCoverState.OPENED: 7>\n",
      "M1 cover already opened.\n",
      "Sending command\n",
      "Stop tracking.\n",
      "Mount tracking state is 8\n",
      "In Position: False.\n",
      "Scheduling check coroutines\n",
      "process as completed...\n",
      "Got False\n",
      "Telescope not in position\n",
      "atmcs: <State.ENABLED: 2>\n",
      "atptg: <State.ENABLED: 2>\n",
      "ataos: <State.ENABLED: 2>\n",
      "atpneumatics: <State.ENABLED: 2>\n",
      "athexapod: <State.ENABLED: 2>\n",
      "[Telescope] delta Alt = -000.003 | delta Az= +000.001\n",
      "Axes in position.\n",
      "None\n",
      "Stop tracking.\n",
      "Mount tracking state is 9\n",
      "Tracking state: 10.\n",
      "Tracking state: 8.\n",
      "In Position: False.\n",
      "atdometrajectory: <State.DISABLED: 1>\n",
      "[Dome] delta Az = +019.790\n",
      "[Dome] delta Az = +019.690\n",
      "[Dome] delta Az = +019.340\n",
      "[Dome] delta Az = +018.770\n",
      "[Dome] delta Az = +017.950\n",
      "[Dome] delta Az = +016.910\n",
      "[Dome] delta Az = +015.640\n",
      "[Dome] delta Az = +014.150\n",
      "[Dome] delta Az = +012.420\n",
      "[Dome] delta Az = +010.460\n",
      "[Dome] delta Az = +008.270\n",
      "[Dome] delta Az = +005.840\n",
      "[Dome] delta Az = +003.340\n",
      "ATDome in position.\n"
     ]
    }
   ],
   "source": [
    "await attcs.prepare_for_flatfield()"
   ]
  },
  {
   "cell_type": "code",
   "execution_count": 10,
   "metadata": {},
   "outputs": [
    {
     "name": "stdout",
     "output_type": "stream",
     "text": [
      "Generating group_id\n",
      "FLAT 0001 - 0002\n",
      "Waiting for header service LFO before continuing\n",
      "RemoteEvent(ATHeaderService, 0, logMessage) falling behind; read 10 messages\n",
      "FLAT 0002 - 0002\n",
      "Waiting for header service LFO before continuing\n",
      "RemoteEvent(ATHeaderService, 0, logMessage) falling behind; read 14 messages\n",
      "The flat data id(s) are: [2020022100011 2020022100012]\n"
     ]
    }
   ],
   "source": [
    "#Specify the filter and grating combination with which you want to take images. \n",
    "flat_data_id_list = await latiss.take_flats(exptime=0.25, nflats=2,\n",
    "                                            filter='empty_1',\n",
    "                                            grating='empty_1')\n",
    "print ('The flat data id(s) are: '+  str(flat_data_id_list)) "
   ]
  },
  {
   "cell_type": "code",
   "execution_count": 13,
   "metadata": {},
   "outputs": [
    {
     "name": "stdout",
     "output_type": "stream",
     "text": [
      "exposure times are [0.25, 0.5, 0.75, 1.0, 1.25, 1.5, 1.75, 2.0, 2.25, 2.5, 2.75, 3.0]\n"
     ]
    }
   ],
   "source": [
    "#Define your exposure times. \n",
    "#If you are not sure about your exposure times, consider taking a set with only one exposure time and basing your scaling off of that \n",
    "# (see the DisplayImage.ipynb for instructions on pulling up the flat field image that you produce). \n",
    "exp_times = [0.25 * scaling for scaling in [1.0] + np.arange(2.0, 12.5, 1.0).tolist()]\n",
    "print ('exposure times are ' + str(exp_times))"
   ]
  },
  {
   "cell_type": "code",
   "execution_count": 15,
   "metadata": {},
   "outputs": [
    {
     "name": "stdout",
     "output_type": "stream",
     "text": [
      "Generating group_id\n",
      "FLAT 0001 - 0002\n",
      "Waiting for header service LFO before continuing\n",
      "RemoteEvent(ATHeaderService, 0, logMessage) falling behind; read 12 messages\n",
      "FLAT 0002 - 0002\n",
      "Waiting for header service LFO before continuing\n",
      "RemoteEvent(ATHeaderService, 0, logMessage) falling behind; read 11 messages\n",
      "The PTC pair data ids for exposure time 0.25 are: [2020022100013 2020022100014]\n",
      "Generating group_id\n",
      "FLAT 0001 - 0002\n",
      "Waiting for header service LFO before continuing\n",
      "RemoteEvent(ATHeaderService, 0, logMessage) falling behind; read 12 messages\n",
      "FLAT 0002 - 0002\n",
      "Waiting for header service LFO before continuing\n",
      "The PTC pair data ids for exposure time 0.5 are: [2020022100015 2020022100016]\n",
      "Generating group_id\n",
      "FLAT 0001 - 0002\n",
      "Waiting for header service LFO before continuing\n",
      "RemoteEvent(ATHeaderService, 0, logMessage) falling behind; read 11 messages\n",
      "FLAT 0002 - 0002\n",
      "RemoteEvent(ATHeaderService, 0, logMessage) falling behind; read 19 messages\n",
      "Waiting for header service LFO before continuing\n",
      "RemoteEvent(ATHeaderService, 0, logMessage) falling behind; read 11 messages\n",
      "The PTC pair data ids for exposure time 0.75 are: [2020022100017 2020022100018]\n",
      "Generating group_id\n",
      "FLAT 0001 - 0002\n",
      "Waiting for header service LFO before continuing\n",
      "RemoteEvent(ATHeaderService, 0, logMessage) falling behind; read 10 messages\n",
      "FLAT 0002 - 0002\n",
      "Waiting for header service LFO before continuing\n",
      "RemoteEvent(ATHeaderService, 0, logMessage) falling behind; read 13 messages\n",
      "The PTC pair data ids for exposure time 1.0 are: [2020022100019 2020022100020]\n",
      "Generating group_id\n",
      "FLAT 0001 - 0002\n",
      "Waiting for header service LFO before continuing\n",
      "RemoteEvent(ATHeaderService, 0, logMessage) falling behind; read 11 messages\n",
      "FLAT 0002 - 0002\n",
      "Waiting for header service LFO before continuing\n",
      "RemoteEvent(ATHeaderService, 0, logMessage) falling behind; read 15 messages\n",
      "The PTC pair data ids for exposure time 1.25 are: [2020022100021 2020022100022]\n",
      "Generating group_id\n",
      "FLAT 0001 - 0002\n",
      "Waiting for header service LFO before continuing\n",
      "RemoteEvent(ATHeaderService, 0, logMessage) falling behind; read 10 messages\n",
      "FLAT 0002 - 0002\n",
      "Waiting for header service LFO before continuing\n",
      "RemoteEvent(ATHeaderService, 0, logMessage) falling behind; read 14 messages\n",
      "The PTC pair data ids for exposure time 1.5 are: [2020022100023 2020022100024]\n",
      "Generating group_id\n",
      "FLAT 0001 - 0002\n",
      "Waiting for header service LFO before continuing\n",
      "RemoteEvent(ATHeaderService, 0, logMessage) falling behind; read 15 messages\n",
      "FLAT 0002 - 0002\n",
      "Waiting for header service LFO before continuing\n",
      "RemoteEvent(ATHeaderService, 0, logMessage) falling behind; read 10 messages\n",
      "The PTC pair data ids for exposure time 1.75 are: [2020022100025 2020022100026]\n",
      "Generating group_id\n",
      "FLAT 0001 - 0002\n",
      "Waiting for header service LFO before continuing\n",
      "RemoteEvent(ATHeaderService, 0, logMessage) falling behind; read 10 messages\n",
      "FLAT 0002 - 0002\n",
      "Waiting for header service LFO before continuing\n",
      "RemoteEvent(ATHeaderService, 0, logMessage) falling behind; read 11 messages\n",
      "The PTC pair data ids for exposure time 2.0 are: [2020022100027 2020022100028]\n",
      "Generating group_id\n",
      "FLAT 0001 - 0002\n",
      "Waiting for header service LFO before continuing\n",
      "RemoteEvent(ATHeaderService, 0, logMessage) falling behind; read 10 messages\n",
      "FLAT 0002 - 0002\n",
      "Waiting for header service LFO before continuing\n",
      "RemoteEvent(ATHeaderService, 0, logMessage) falling behind; read 11 messages\n",
      "The PTC pair data ids for exposure time 2.25 are: [2020022100029 2020022100030]\n",
      "Generating group_id\n",
      "FLAT 0001 - 0002\n",
      "Waiting for header service LFO before continuing\n",
      "RemoteEvent(ATHeaderService, 0, logMessage) falling behind; read 11 messages\n",
      "FLAT 0002 - 0002\n",
      "Waiting for header service LFO before continuing\n",
      "RemoteEvent(ATHeaderService, 0, logMessage) falling behind; read 11 messages\n",
      "The PTC pair data ids for exposure time 2.5 are: [2020022100031 2020022100032]\n",
      "Generating group_id\n",
      "FLAT 0001 - 0002\n",
      "Waiting for header service LFO before continuing\n",
      "RemoteEvent(ATHeaderService, 0, logMessage) falling behind; read 69 messages\n",
      "FLAT 0002 - 0002\n",
      "Waiting for header service LFO before continuing\n",
      "RemoteEvent(ATHeaderService, 0, logMessage) falling behind; read 10 messages\n",
      "The PTC pair data ids for exposure time 2.75 are: [2020022100033 2020022100034]\n",
      "Generating group_id\n",
      "FLAT 0001 - 0002\n",
      "Waiting for header service LFO before continuing\n",
      "RemoteEvent(ATHeaderService, 0, logMessage) falling behind; read 14 messages\n",
      "FLAT 0002 - 0002\n",
      "Waiting for header service LFO before continuing\n",
      "RemoteEvent(ATHeaderService, 0, logMessage) falling behind; read 11 messages\n",
      "The PTC pair data ids for exposure time 3.0 are: [2020022100035 2020022100036]\n"
     ]
    }
   ],
   "source": [
    "filter_str = 'empty_1'\n",
    "grating_str = 'empty_1'\n",
    "for exp_time in exp_times: \n",
    "    PTC_pairs = await latiss.take_flats(exptime=exp_time, nflats=2, filter=filter_str, grating=grating_str)\n",
    "    print ('The PTC pair data ids for exposure time ' +str(exp_time) + ' are: '+  str(PTC_pairs)) "
   ]
  },
  {
   "cell_type": "code",
   "execution_count": 16,
   "metadata": {},
   "outputs": [
    {
     "name": "stdout",
     "output_type": "stream",
     "text": [
      "Generating group_id\n",
      "FLAT 0001 - 0002\n",
      "Waiting for header service LFO before continuing\n",
      "RemoteEvent(ATHeaderService, 0, logMessage) falling behind; read 15 messages\n",
      "FLAT 0002 - 0002\n",
      "Waiting for header service LFO before continuing\n",
      "RemoteEvent(ATHeaderService, 0, logMessage) falling behind; read 11 messages\n",
      "The PTC pair data ids for exposure time 0.25 are: [2020022100037 2020022100038]\n",
      "Generating group_id\n",
      "FLAT 0001 - 0002\n",
      "Waiting for header service LFO before continuing\n",
      "RemoteEvent(ATHeaderService, 0, logMessage) falling behind; read 10 messages\n",
      "FLAT 0002 - 0002\n",
      "Waiting for header service LFO before continuing\n",
      "RemoteEvent(ATHeaderService, 0, logMessage) falling behind; read 23 messages\n",
      "The PTC pair data ids for exposure time 0.5 are: [2020022100039 2020022100040]\n",
      "Generating group_id\n",
      "FLAT 0001 - 0002\n",
      "Waiting for header service LFO before continuing\n",
      "RemoteEvent(ATHeaderService, 0, logMessage) falling behind; read 13 messages\n",
      "FLAT 0002 - 0002\n",
      "Waiting for header service LFO before continuing\n",
      "RemoteEvent(ATHeaderService, 0, logMessage) falling behind; read 10 messages\n",
      "The PTC pair data ids for exposure time 0.75 are: [2020022100041 2020022100042]\n",
      "Generating group_id\n",
      "FLAT 0001 - 0002\n",
      "Waiting for header service LFO before continuing\n",
      "RemoteEvent(ATHeaderService, 0, logMessage) falling behind; read 19 messages\n",
      "FLAT 0002 - 0002\n",
      "Waiting for header service LFO before continuing\n",
      "RemoteEvent(ATHeaderService, 0, logMessage) falling behind; read 12 messages\n",
      "The PTC pair data ids for exposure time 1.0 are: [2020022100043 2020022100044]\n",
      "Generating group_id\n",
      "FLAT 0001 - 0002\n",
      "Waiting for header service LFO before continuing\n",
      "RemoteEvent(ATHeaderService, 0, logMessage) falling behind; read 13 messages\n",
      "FLAT 0002 - 0002\n",
      "Waiting for header service LFO before continuing\n",
      "The PTC pair data ids for exposure time 1.25 are: [2020022100045 2020022100046]\n",
      "Generating group_id\n",
      "FLAT 0001 - 0002\n",
      "Waiting for header service LFO before continuing\n",
      "RemoteEvent(ATHeaderService, 0, logMessage) falling behind; read 10 messages\n",
      "FLAT 0002 - 0002\n",
      "Waiting for header service LFO before continuing\n",
      "RemoteEvent(ATHeaderService, 0, logMessage) falling behind; read 10 messages\n",
      "The PTC pair data ids for exposure time 1.5 are: [2020022100047 2020022100048]\n",
      "Generating group_id\n",
      "FLAT 0001 - 0002\n",
      "Waiting for header service LFO before continuing\n",
      "RemoteEvent(ATHeaderService, 0, logMessage) falling behind; read 13 messages\n",
      "FLAT 0002 - 0002\n",
      "Waiting for header service LFO before continuing\n",
      "RemoteEvent(ATHeaderService, 0, logMessage) falling behind; read 12 messages\n",
      "The PTC pair data ids for exposure time 1.75 are: [2020022100049 2020022100050]\n",
      "Generating group_id\n",
      "FLAT 0001 - 0002\n",
      "Waiting for header service LFO before continuing\n",
      "RemoteEvent(ATHeaderService, 0, logMessage) falling behind; read 12 messages\n",
      "FLAT 0002 - 0002\n",
      "Waiting for header service LFO before continuing\n",
      "RemoteEvent(ATHeaderService, 0, logMessage) falling behind; read 10 messages\n",
      "The PTC pair data ids for exposure time 2.0 are: [2020022100051 2020022100052]\n",
      "Generating group_id\n",
      "FLAT 0001 - 0002\n",
      "Waiting for header service LFO before continuing\n",
      "RemoteEvent(ATHeaderService, 0, logMessage) falling behind; read 14 messages\n",
      "FLAT 0002 - 0002\n",
      "Waiting for header service LFO before continuing\n",
      "RemoteEvent(ATHeaderService, 0, logMessage) falling behind; read 10 messages\n",
      "The PTC pair data ids for exposure time 2.25 are: [2020022100053 2020022100054]\n",
      "Generating group_id\n",
      "FLAT 0001 - 0002\n",
      "Waiting for header service LFO before continuing\n",
      "RemoteEvent(ATHeaderService, 0, logMessage) falling behind; read 13 messages\n",
      "FLAT 0002 - 0002\n",
      "Waiting for header service LFO before continuing\n",
      "RemoteEvent(ATHeaderService, 0, logMessage) falling behind; read 15 messages\n",
      "The PTC pair data ids for exposure time 2.5 are: [2020022100055 2020022100056]\n",
      "Generating group_id\n",
      "FLAT 0001 - 0002\n",
      "Waiting for header service LFO before continuing\n",
      "RemoteEvent(ATHeaderService, 0, logMessage) falling behind; read 12 messages\n",
      "FLAT 0002 - 0002\n",
      "Waiting for header service LFO before continuing\n",
      "RemoteEvent(ATHeaderService, 0, logMessage) falling behind; read 11 messages\n",
      "The PTC pair data ids for exposure time 2.75 are: [2020022100057 2020022100058]\n",
      "Generating group_id\n",
      "FLAT 0001 - 0002\n",
      "Waiting for header service LFO before continuing\n",
      "RemoteEvent(ATHeaderService, 0, logMessage) falling behind; read 12 messages\n",
      "FLAT 0002 - 0002\n",
      "Waiting for header service LFO before continuing\n",
      "RemoteEvent(ATHeaderService, 0, logMessage) falling behind; read 17 messages\n",
      "The PTC pair data ids for exposure time 3.0 are: [2020022100059 2020022100060]\n"
     ]
    }
   ],
   "source": [
    "filter_str = 'empty_1'\n",
    "grating_str = 'empty_1'\n",
    "for exp_time in exp_times: \n",
    "    PTC_pairs = await latiss.take_flats(exptime=exp_time, nflats=2, filter=filter_str, grating=grating_str)\n",
    "    print ('The PTC pair data ids for exposure time ' +str(exp_time) + ' are: '+  str(PTC_pairs)) "
   ]
  },
  {
   "cell_type": "code",
   "execution_count": 17,
   "metadata": {},
   "outputs": [
    {
     "name": "stdout",
     "output_type": "stream",
     "text": [
      "Generating group_id\n",
      "FLAT 0001 - 0002\n",
      "Waiting for header service LFO before continuing\n",
      "RemoteEvent(ATHeaderService, 0, logMessage) falling behind; read 12 messages\n",
      "FLAT 0002 - 0002\n",
      "Waiting for header service LFO before continuing\n",
      "RemoteEvent(ATHeaderService, 0, logMessage) falling behind; read 11 messages\n",
      "The PTC pair data ids for exposure time 0.25 are: [2020022100061 2020022100062]\n",
      "Generating group_id\n",
      "FLAT 0001 - 0002\n",
      "Waiting for header service LFO before continuing\n",
      "RemoteEvent(ATHeaderService, 0, logMessage) falling behind; read 10 messages\n",
      "FLAT 0002 - 0002\n",
      "Waiting for header service LFO before continuing\n",
      "RemoteEvent(ATHeaderService, 0, logMessage) falling behind; read 10 messages\n",
      "The PTC pair data ids for exposure time 0.5 are: [2020022100063 2020022100064]\n",
      "Generating group_id\n",
      "FLAT 0001 - 0002\n",
      "RemoteEvent(ATHeaderService, 0, logMessage) falling behind; read 15 messages\n",
      "Waiting for header service LFO before continuing\n",
      "RemoteEvent(ATHeaderService, 0, logMessage) falling behind; read 12 messages\n",
      "FLAT 0002 - 0002\n",
      "Waiting for header service LFO before continuing\n",
      "RemoteEvent(ATHeaderService, 0, logMessage) falling behind; read 12 messages\n",
      "The PTC pair data ids for exposure time 0.75 are: [2020022100065 2020022100066]\n",
      "Generating group_id\n",
      "FLAT 0001 - 0002\n",
      "Waiting for header service LFO before continuing\n",
      "RemoteEvent(ATHeaderService, 0, logMessage) falling behind; read 13 messages\n",
      "FLAT 0002 - 0002\n",
      "Waiting for header service LFO before continuing\n",
      "RemoteEvent(ATHeaderService, 0, logMessage) falling behind; read 11 messages\n",
      "The PTC pair data ids for exposure time 1.0 are: [2020022100067 2020022100068]\n",
      "Generating group_id\n",
      "FLAT 0001 - 0002\n",
      "Waiting for header service LFO before continuing\n",
      "RemoteEvent(ATHeaderService, 0, logMessage) falling behind; read 10 messages\n",
      "FLAT 0002 - 0002\n",
      "Waiting for header service LFO before continuing\n",
      "RemoteEvent(ATHeaderService, 0, logMessage) falling behind; read 23 messages\n",
      "The PTC pair data ids for exposure time 1.25 are: [2020022100069 2020022100070]\n",
      "Generating group_id\n",
      "FLAT 0001 - 0002\n",
      "Waiting for header service LFO before continuing\n",
      "RemoteEvent(ATHeaderService, 0, logMessage) falling behind; read 12 messages\n",
      "FLAT 0002 - 0002\n",
      "Waiting for header service LFO before continuing\n",
      "RemoteEvent(ATHeaderService, 0, logMessage) falling behind; read 10 messages\n",
      "The PTC pair data ids for exposure time 1.5 are: [2020022100071 2020022100072]\n",
      "Generating group_id\n",
      "FLAT 0001 - 0002\n",
      "Waiting for header service LFO before continuing\n",
      "RemoteEvent(ATHeaderService, 0, logMessage) falling behind; read 14 messages\n",
      "FLAT 0002 - 0002\n",
      "Waiting for header service LFO before continuing\n",
      "RemoteEvent(ATHeaderService, 0, logMessage) falling behind; read 10 messages\n",
      "The PTC pair data ids for exposure time 1.75 are: [2020022100073 2020022100074]\n",
      "Generating group_id\n",
      "FLAT 0001 - 0002\n",
      "Waiting for header service LFO before continuing\n",
      "RemoteEvent(ATHeaderService, 0, logMessage) falling behind; read 10 messages\n",
      "FLAT 0002 - 0002\n",
      "Waiting for header service LFO before continuing\n",
      "RemoteEvent(ATHeaderService, 0, logMessage) falling behind; read 13 messages\n",
      "The PTC pair data ids for exposure time 2.0 are: [2020022100075 2020022100076]\n",
      "Generating group_id\n",
      "FLAT 0001 - 0002\n",
      "Waiting for header service LFO before continuing\n",
      "RemoteEvent(ATHeaderService, 0, logMessage) falling behind; read 12 messages\n",
      "FLAT 0002 - 0002\n",
      "Waiting for header service LFO before continuing\n",
      "RemoteEvent(ATHeaderService, 0, logMessage) falling behind; read 10 messages\n",
      "The PTC pair data ids for exposure time 2.25 are: [2020022100077 2020022100078]\n",
      "Generating group_id\n",
      "FLAT 0001 - 0002\n",
      "Waiting for header service LFO before continuing\n",
      "RemoteEvent(ATHeaderService, 0, logMessage) falling behind; read 12 messages\n",
      "FLAT 0002 - 0002\n",
      "Waiting for header service LFO before continuing\n",
      "RemoteEvent(ATHeaderService, 0, logMessage) falling behind; read 13 messages\n",
      "The PTC pair data ids for exposure time 2.5 are: [2020022100079 2020022100080]\n",
      "Generating group_id\n",
      "FLAT 0001 - 0002\n",
      "Waiting for header service LFO before continuing\n",
      "RemoteEvent(ATHeaderService, 0, logMessage) falling behind; read 12 messages\n",
      "FLAT 0002 - 0002\n",
      "Waiting for header service LFO before continuing\n",
      "RemoteEvent(ATHeaderService, 0, logMessage) falling behind; read 11 messages\n",
      "The PTC pair data ids for exposure time 2.75 are: [2020022100081 2020022100082]\n",
      "Generating group_id\n",
      "FLAT 0001 - 0002\n",
      "Waiting for header service LFO before continuing\n",
      "FLAT 0002 - 0002\n",
      "Waiting for header service LFO before continuing\n",
      "RemoteEvent(ATHeaderService, 0, logMessage) falling behind; read 10 messages\n",
      "The PTC pair data ids for exposure time 3.0 are: [2020022100083 2020022100084]\n"
     ]
    }
   ],
   "source": [
    "filter_str = 'empty_1'\n",
    "grating_str = 'empty_1'\n",
    "for exp_time in exp_times: \n",
    "    PTC_pairs = await latiss.take_flats(exptime=exp_time, nflats=2, filter=filter_str, grating=grating_str)\n",
    "    print ('The PTC pair data ids for exposure time ' +str(exp_time) + ' are: '+  str(PTC_pairs)) "
   ]
  },
  {
   "cell_type": "code",
   "execution_count": 18,
   "metadata": {},
   "outputs": [
    {
     "name": "stdout",
     "output_type": "stream",
     "text": [
      "Generating group_id\n",
      "FLAT 0001 - 0002\n",
      "Waiting for header service LFO before continuing\n",
      "RemoteEvent(ATHeaderService, 0, logMessage) falling behind; read 10 messages\n",
      "FLAT 0002 - 0002\n",
      "Waiting for header service LFO before continuing\n",
      "RemoteEvent(ATHeaderService, 0, logMessage) falling behind; read 12 messages\n",
      "The PTC pair data ids for exposure time 0.25 are: [2020022100085 2020022100086]\n",
      "Generating group_id\n",
      "FLAT 0001 - 0002\n",
      "Waiting for header service LFO before continuing\n",
      "RemoteEvent(ATHeaderService, 0, logMessage) falling behind; read 15 messages\n",
      "FLAT 0002 - 0002\n",
      "Waiting for header service LFO before continuing\n",
      "RemoteEvent(ATHeaderService, 0, logMessage) falling behind; read 11 messages\n",
      "The PTC pair data ids for exposure time 0.5 are: [2020022100087 2020022100088]\n",
      "Generating group_id\n",
      "FLAT 0001 - 0002\n",
      "Waiting for header service LFO before continuing\n",
      "RemoteEvent(ATHeaderService, 0, logMessage) falling behind; read 10 messages\n",
      "FLAT 0002 - 0002\n",
      "Waiting for header service LFO before continuing\n",
      "RemoteEvent(ATHeaderService, 0, logMessage) falling behind; read 10 messages\n",
      "The PTC pair data ids for exposure time 0.75 are: [2020022100089 2020022100090]\n",
      "Generating group_id\n",
      "FLAT 0001 - 0002\n",
      "Waiting for header service LFO before continuing\n",
      "RemoteEvent(ATHeaderService, 0, logMessage) falling behind; read 11 messages\n",
      "FLAT 0002 - 0002\n",
      "Waiting for header service LFO before continuing\n",
      "RemoteEvent(ATHeaderService, 0, logMessage) falling behind; read 12 messages\n",
      "The PTC pair data ids for exposure time 1.0 are: [2020022100091 2020022100092]\n",
      "Generating group_id\n",
      "FLAT 0001 - 0002\n",
      "RemoteEvent(ATHeaderService, 0, logMessage) falling behind; read 14 messages\n",
      "Waiting for header service LFO before continuing\n",
      "RemoteEvent(ATHeaderService, 0, logMessage) falling behind; read 10 messages\n",
      "FLAT 0002 - 0002\n",
      "Waiting for header service LFO before continuing\n",
      "The PTC pair data ids for exposure time 1.25 are: [2020022100093 2020022100094]\n",
      "Generating group_id\n",
      "FLAT 0001 - 0002\n",
      "Waiting for header service LFO before continuing\n",
      "RemoteEvent(ATHeaderService, 0, logMessage) falling behind; read 16 messages\n",
      "FLAT 0002 - 0002\n",
      "Waiting for header service LFO before continuing\n",
      "RemoteEvent(ATHeaderService, 0, logMessage) falling behind; read 13 messages\n",
      "The PTC pair data ids for exposure time 1.5 are: [2020022100095 2020022100096]\n",
      "Generating group_id\n",
      "FLAT 0001 - 0002\n",
      "Waiting for header service LFO before continuing\n",
      "RemoteEvent(ATHeaderService, 0, logMessage) falling behind; read 11 messages\n",
      "FLAT 0002 - 0002\n",
      "Waiting for header service LFO before continuing\n",
      "RemoteEvent(ATHeaderService, 0, logMessage) falling behind; read 12 messages\n",
      "The PTC pair data ids for exposure time 1.75 are: [2020022100097 2020022100098]\n",
      "Generating group_id\n",
      "FLAT 0001 - 0002\n",
      "Waiting for header service LFO before continuing\n",
      "RemoteEvent(ATHeaderService, 0, logMessage) falling behind; read 11 messages\n",
      "FLAT 0002 - 0002\n",
      "Waiting for header service LFO before continuing\n",
      "RemoteEvent(ATHeaderService, 0, logMessage) falling behind; read 11 messages\n",
      "The PTC pair data ids for exposure time 2.0 are: [2020022100099 2020022100100]\n",
      "Generating group_id\n",
      "FLAT 0001 - 0002\n",
      "Waiting for header service LFO before continuing\n",
      "RemoteEvent(ATHeaderService, 0, logMessage) falling behind; read 11 messages\n",
      "FLAT 0002 - 0002\n",
      "Waiting for header service LFO before continuing\n",
      "RemoteEvent(ATHeaderService, 0, logMessage) falling behind; read 14 messages\n",
      "The PTC pair data ids for exposure time 2.25 are: [2020022100101 2020022100102]\n",
      "Generating group_id\n",
      "FLAT 0001 - 0002\n",
      "Waiting for header service LFO before continuing\n",
      "RemoteEvent(ATHeaderService, 0, logMessage) falling behind; read 10 messages\n",
      "FLAT 0002 - 0002\n",
      "Waiting for header service LFO before continuing\n",
      "RemoteEvent(ATHeaderService, 0, logMessage) falling behind; read 11 messages\n",
      "The PTC pair data ids for exposure time 2.5 are: [2020022100103 2020022100104]\n",
      "Generating group_id\n",
      "FLAT 0001 - 0002\n",
      "Waiting for header service LFO before continuing\n",
      "RemoteEvent(ATHeaderService, 0, logMessage) falling behind; read 13 messages\n",
      "FLAT 0002 - 0002\n",
      "Waiting for header service LFO before continuing\n",
      "RemoteEvent(ATHeaderService, 0, logMessage) falling behind; read 10 messages\n",
      "The PTC pair data ids for exposure time 2.75 are: [2020022100105 2020022100106]\n",
      "Generating group_id\n",
      "FLAT 0001 - 0002\n",
      "Waiting for header service LFO before continuing\n",
      "RemoteEvent(ATHeaderService, 0, logMessage) falling behind; read 14 messages\n",
      "FLAT 0002 - 0002\n",
      "Waiting for header service LFO before continuing\n",
      "RemoteEvent(ATHeaderService, 0, logMessage) falling behind; read 15 messages\n",
      "The PTC pair data ids for exposure time 3.0 are: [2020022100107 2020022100108]\n"
     ]
    }
   ],
   "source": [
    "filter_str = 'empty_1'\n",
    "grating_str = 'empty_1'\n",
    "for exp_time in exp_times: \n",
    "    PTC_pairs = await latiss.take_flats(exptime=exp_time, nflats=2, filter=filter_str, grating=grating_str)\n",
    "    print ('The PTC pair data ids for exposure time ' +str(exp_time) + ' are: '+  str(PTC_pairs))"
   ]
  },
  {
   "cell_type": "code",
   "execution_count": 19,
   "metadata": {},
   "outputs": [
    {
     "name": "stdout",
     "output_type": "stream",
     "text": [
      "Generating group_id\n",
      "FLAT 0001 - 0002\n",
      "Waiting for header service LFO before continuing\n",
      "RemoteEvent(ATHeaderService, 0, logMessage) falling behind; read 10 messages\n",
      "FLAT 0002 - 0002\n",
      "Waiting for header service LFO before continuing\n",
      "RemoteEvent(ATHeaderService, 0, logMessage) falling behind; read 12 messages\n",
      "The PTC pair data ids for exposure time 0.25 are: [2020022100109 2020022100110]\n",
      "Generating group_id\n",
      "FLAT 0001 - 0002\n",
      "Waiting for header service LFO before continuing\n",
      "RemoteEvent(ATHeaderService, 0, logMessage) falling behind; read 13 messages\n",
      "FLAT 0002 - 0002\n",
      "Waiting for header service LFO before continuing\n",
      "RemoteEvent(ATHeaderService, 0, logMessage) falling behind; read 16 messages\n",
      "The PTC pair data ids for exposure time 0.5 are: [2020022100111 2020022100112]\n",
      "Generating group_id\n",
      "FLAT 0001 - 0002\n",
      "Waiting for header service LFO before continuing\n",
      "FLAT 0002 - 0002\n",
      "Waiting for header service LFO before continuing\n",
      "RemoteEvent(ATHeaderService, 0, logMessage) falling behind; read 13 messages\n",
      "The PTC pair data ids for exposure time 0.75 are: [2020022100113 2020022100114]\n",
      "Generating group_id\n",
      "FLAT 0001 - 0002\n",
      "Waiting for header service LFO before continuing\n",
      "RemoteEvent(ATHeaderService, 0, logMessage) falling behind; read 11 messages\n",
      "FLAT 0002 - 0002\n",
      "Waiting for header service LFO before continuing\n",
      "RemoteEvent(ATHeaderService, 0, logMessage) falling behind; read 10 messages\n",
      "The PTC pair data ids for exposure time 1.0 are: [2020022100115 2020022100116]\n",
      "Generating group_id\n",
      "FLAT 0001 - 0002\n",
      "Waiting for header service LFO before continuing\n",
      "RemoteEvent(ATHeaderService, 0, logMessage) falling behind; read 11 messages\n",
      "FLAT 0002 - 0002\n",
      "Waiting for header service LFO before continuing\n",
      "RemoteEvent(ATHeaderService, 0, logMessage) falling behind; read 13 messages\n",
      "The PTC pair data ids for exposure time 1.25 are: [2020022100117 2020022100118]\n",
      "Generating group_id\n",
      "FLAT 0001 - 0002\n",
      "Waiting for header service LFO before continuing\n",
      "RemoteEvent(ATHeaderService, 0, logMessage) falling behind; read 13 messages\n",
      "FLAT 0002 - 0002\n",
      "Waiting for header service LFO before continuing\n",
      "RemoteEvent(ATHeaderService, 0, logMessage) falling behind; read 19 messages\n",
      "The PTC pair data ids for exposure time 1.5 are: [2020022100119 2020022100120]\n",
      "Generating group_id\n",
      "FLAT 0001 - 0002\n",
      "Waiting for header service LFO before continuing\n",
      "RemoteEvent(ATHeaderService, 0, logMessage) falling behind; read 10 messages\n",
      "FLAT 0002 - 0002\n",
      "Waiting for header service LFO before continuing\n",
      "RemoteEvent(ATHeaderService, 0, logMessage) falling behind; read 11 messages\n",
      "The PTC pair data ids for exposure time 1.75 are: [2020022100121 2020022100122]\n",
      "Generating group_id\n",
      "FLAT 0001 - 0002\n",
      "Waiting for header service LFO before continuing\n",
      "RemoteEvent(ATHeaderService, 0, logMessage) falling behind; read 17 messages\n",
      "FLAT 0002 - 0002\n",
      "Waiting for header service LFO before continuing\n",
      "RemoteEvent(ATHeaderService, 0, logMessage) falling behind; read 11 messages\n",
      "The PTC pair data ids for exposure time 2.0 are: [2020022100123 2020022100124]\n",
      "Generating group_id\n",
      "FLAT 0001 - 0002\n",
      "Waiting for header service LFO before continuing\n",
      "RemoteEvent(ATHeaderService, 0, logMessage) falling behind; read 12 messages\n",
      "FLAT 0002 - 0002\n",
      "Waiting for header service LFO before continuing\n",
      "RemoteEvent(ATHeaderService, 0, logMessage) falling behind; read 13 messages\n",
      "The PTC pair data ids for exposure time 2.25 are: [2020022100125 2020022100126]\n",
      "Generating group_id\n",
      "FLAT 0001 - 0002\n",
      "Waiting for header service LFO before continuing\n",
      "RemoteEvent(ATHeaderService, 0, logMessage) falling behind; read 10 messages\n",
      "FLAT 0002 - 0002\n",
      "Waiting for header service LFO before continuing\n",
      "RemoteEvent(ATHeaderService, 0, logMessage) falling behind; read 25 messages\n",
      "The PTC pair data ids for exposure time 2.5 are: [2020022100127 2020022100128]\n",
      "Generating group_id\n",
      "FLAT 0001 - 0002\n",
      "Waiting for header service LFO before continuing\n",
      "RemoteEvent(ATHeaderService, 0, logMessage) falling behind; read 11 messages\n",
      "FLAT 0002 - 0002\n",
      "Waiting for header service LFO before continuing\n",
      "RemoteEvent(ATHeaderService, 0, logMessage) falling behind; read 10 messages\n",
      "The PTC pair data ids for exposure time 2.75 are: [2020022100129 2020022100130]\n",
      "Generating group_id\n",
      "FLAT 0001 - 0002\n",
      "Waiting for header service LFO before continuing\n",
      "RemoteEvent(ATHeaderService, 0, logMessage) falling behind; read 10 messages\n",
      "FLAT 0002 - 0002\n",
      "Waiting for header service LFO before continuing\n",
      "RemoteEvent(ATHeaderService, 0, logMessage) falling behind; read 13 messages\n",
      "The PTC pair data ids for exposure time 3.0 are: [2020022100131 2020022100132]\n"
     ]
    }
   ],
   "source": [
    "filter_str = 'empty_1'\n",
    "grating_str = 'empty_1'\n",
    "for exp_time in exp_times: \n",
    "    PTC_pairs = await latiss.take_flats(exptime=exp_time, nflats=2, filter=filter_str, grating=grating_str)\n",
    "    print ('The PTC pair data ids for exposure time ' +str(exp_time) + ' are: '+  str(PTC_pairs))"
   ]
  },
  {
   "cell_type": "code",
   "execution_count": 20,
   "metadata": {},
   "outputs": [
    {
     "name": "stdout",
     "output_type": "stream",
     "text": [
      "Generating group_id\n",
      "FLAT 0001 - 0002\n",
      "Waiting for header service LFO before continuing\n",
      "RemoteEvent(ATHeaderService, 0, logMessage) falling behind; read 13 messages\n",
      "FLAT 0002 - 0002\n",
      "Waiting for header service LFO before continuing\n",
      "RemoteEvent(ATHeaderService, 0, logMessage) falling behind; read 14 messages\n",
      "The PTC pair data ids for exposure time 0.25 are: [2020022100133 2020022100134]\n",
      "Generating group_id\n",
      "FLAT 0001 - 0002\n",
      "Waiting for header service LFO before continuing\n",
      "RemoteEvent(ATHeaderService, 0, logMessage) falling behind; read 11 messages\n",
      "FLAT 0002 - 0002\n",
      "Waiting for header service LFO before continuing\n",
      "RemoteEvent(ATHeaderService, 0, logMessage) falling behind; read 13 messages\n",
      "The PTC pair data ids for exposure time 0.5 are: [2020022100135 2020022100136]\n",
      "Generating group_id\n",
      "FLAT 0001 - 0002\n",
      "Waiting for header service LFO before continuing\n",
      "RemoteEvent(ATHeaderService, 0, logMessage) falling behind; read 12 messages\n",
      "FLAT 0002 - 0002\n",
      "Waiting for header service LFO before continuing\n",
      "RemoteEvent(ATHeaderService, 0, logMessage) falling behind; read 13 messages\n",
      "The PTC pair data ids for exposure time 0.75 are: [2020022100137 2020022100138]\n",
      "Generating group_id\n",
      "FLAT 0001 - 0002\n",
      "Waiting for header service LFO before continuing\n",
      "RemoteEvent(ATHeaderService, 0, logMessage) falling behind; read 10 messages\n",
      "FLAT 0002 - 0002\n",
      "Waiting for header service LFO before continuing\n",
      "RemoteEvent(ATHeaderService, 0, logMessage) falling behind; read 15 messages\n",
      "The PTC pair data ids for exposure time 1.0 are: [2020022100139 2020022100140]\n",
      "Generating group_id\n",
      "FLAT 0001 - 0002\n",
      "Waiting for header service LFO before continuing\n",
      "RemoteEvent(ATHeaderService, 0, logMessage) falling behind; read 14 messages\n",
      "FLAT 0002 - 0002\n",
      "Waiting for header service LFO before continuing\n",
      "RemoteEvent(ATHeaderService, 0, logMessage) falling behind; read 10 messages\n",
      "The PTC pair data ids for exposure time 1.25 are: [2020022100141 2020022100142]\n",
      "Generating group_id\n",
      "FLAT 0001 - 0002\n",
      "Waiting for header service LFO before continuing\n",
      "RemoteEvent(ATHeaderService, 0, logMessage) falling behind; read 11 messages\n",
      "FLAT 0002 - 0002\n",
      "Waiting for header service LFO before continuing\n",
      "RemoteEvent(ATHeaderService, 0, logMessage) falling behind; read 12 messages\n",
      "The PTC pair data ids for exposure time 1.5 are: [2020022100143 2020022100144]\n",
      "Generating group_id\n",
      "FLAT 0001 - 0002\n",
      "Waiting for header service LFO before continuing\n",
      "RemoteEvent(ATHeaderService, 0, logMessage) falling behind; read 11 messages\n",
      "FLAT 0002 - 0002\n",
      "Waiting for header service LFO before continuing\n",
      "RemoteEvent(ATHeaderService, 0, logMessage) falling behind; read 13 messages\n",
      "The PTC pair data ids for exposure time 1.75 are: [2020022100145 2020022100146]\n",
      "Generating group_id\n",
      "FLAT 0001 - 0002\n",
      "Waiting for header service LFO before continuing\n",
      "RemoteEvent(ATHeaderService, 0, logMessage) falling behind; read 12 messages\n",
      "FLAT 0002 - 0002\n",
      "Waiting for header service LFO before continuing\n",
      "RemoteEvent(ATHeaderService, 0, logMessage) falling behind; read 12 messages\n",
      "The PTC pair data ids for exposure time 2.0 are: [2020022100147 2020022100148]\n",
      "Generating group_id\n",
      "FLAT 0001 - 0002\n",
      "Waiting for header service LFO before continuing\n",
      "RemoteEvent(ATHeaderService, 0, logMessage) falling behind; read 10 messages\n",
      "FLAT 0002 - 0002\n",
      "Waiting for header service LFO before continuing\n",
      "RemoteEvent(ATHeaderService, 0, logMessage) falling behind; read 10 messages\n",
      "The PTC pair data ids for exposure time 2.25 are: [2020022100149 2020022100150]\n",
      "Generating group_id\n",
      "FLAT 0001 - 0002\n",
      "Waiting for header service LFO before continuing\n",
      "RemoteEvent(ATHeaderService, 0, logMessage) falling behind; read 10 messages\n",
      "FLAT 0002 - 0002\n",
      "Waiting for header service LFO before continuing\n",
      "RemoteEvent(ATHeaderService, 0, logMessage) falling behind; read 10 messages\n",
      "The PTC pair data ids for exposure time 2.5 are: [2020022100151 2020022100152]\n",
      "Generating group_id\n",
      "FLAT 0001 - 0002\n",
      "Waiting for header service LFO before continuing\n",
      "RemoteEvent(ATHeaderService, 0, logMessage) falling behind; read 14 messages\n",
      "FLAT 0002 - 0002\n",
      "Waiting for header service LFO before continuing\n",
      "RemoteEvent(ATHeaderService, 0, logMessage) falling behind; read 11 messages\n",
      "The PTC pair data ids for exposure time 2.75 are: [2020022100153 2020022100154]\n",
      "Generating group_id\n",
      "FLAT 0001 - 0002\n",
      "Waiting for header service LFO before continuing\n",
      "RemoteEvent(ATHeaderService, 0, logMessage) falling behind; read 12 messages\n",
      "FLAT 0002 - 0002\n",
      "Waiting for header service LFO before continuing\n",
      "RemoteEvent(ATHeaderService, 0, logMessage) falling behind; read 14 messages\n",
      "The PTC pair data ids for exposure time 3.0 are: [2020022100155 2020022100156]\n"
     ]
    }
   ],
   "source": [
    "filter_str = 'empty_1'\n",
    "grating_str = 'empty_1'\n",
    "for exp_time in exp_times: \n",
    "    PTC_pairs = await latiss.take_flats(exptime=exp_time, nflats=2, filter=filter_str, grating=grating_str)\n",
    "    print ('The PTC pair data ids for exposure time ' +str(exp_time) + ' are: '+  str(PTC_pairs))"
   ]
  },
  {
   "cell_type": "code",
   "execution_count": 21,
   "metadata": {},
   "outputs": [
    {
     "name": "stdout",
     "output_type": "stream",
     "text": [
      "Generating group_id\n",
      "FLAT 0001 - 0002\n",
      "Waiting for header service LFO before continuing\n",
      "RemoteEvent(ATHeaderService, 0, logMessage) falling behind; read 15 messages\n",
      "FLAT 0002 - 0002\n",
      "Waiting for header service LFO before continuing\n",
      "RemoteEvent(ATHeaderService, 0, logMessage) falling behind; read 10 messages\n",
      "The PTC pair data ids for exposure time 0.25 are: [2020022100157 2020022100158]\n",
      "Generating group_id\n",
      "FLAT 0001 - 0002\n",
      "Waiting for header service LFO before continuing\n",
      "RemoteEvent(ATHeaderService, 0, logMessage) falling behind; read 13 messages\n",
      "FLAT 0002 - 0002\n",
      "Waiting for header service LFO before continuing\n",
      "RemoteEvent(ATHeaderService, 0, logMessage) falling behind; read 10 messages\n",
      "The PTC pair data ids for exposure time 0.5 are: [2020022100159 2020022100160]\n",
      "Generating group_id\n",
      "FLAT 0001 - 0002\n",
      "Waiting for header service LFO before continuing\n",
      "RemoteEvent(ATHeaderService, 0, logMessage) falling behind; read 12 messages\n",
      "FLAT 0002 - 0002\n",
      "Waiting for header service LFO before continuing\n",
      "RemoteEvent(ATHeaderService, 0, logMessage) falling behind; read 10 messages\n",
      "The PTC pair data ids for exposure time 0.75 are: [2020022100161 2020022100162]\n",
      "Generating group_id\n",
      "FLAT 0001 - 0002\n",
      "Waiting for header service LFO before continuing\n",
      "RemoteEvent(ATHeaderService, 0, logMessage) falling behind; read 10 messages\n",
      "FLAT 0002 - 0002\n",
      "RemoteEvent(ATHeaderService, 0, logMessage) falling behind; read 18 messages\n",
      "Waiting for header service LFO before continuing\n",
      "RemoteEvent(ATHeaderService, 0, logMessage) falling behind; read 10 messages\n",
      "The PTC pair data ids for exposure time 1.0 are: [2020022100163 2020022100164]\n",
      "Generating group_id\n",
      "FLAT 0001 - 0002\n",
      "Waiting for header service LFO before continuing\n",
      "RemoteEvent(ATHeaderService, 0, logMessage) falling behind; read 19 messages\n",
      "FLAT 0002 - 0002\n",
      "Waiting for header service LFO before continuing\n",
      "RemoteEvent(ATHeaderService, 0, logMessage) falling behind; read 12 messages\n",
      "The PTC pair data ids for exposure time 1.25 are: [2020022100165 2020022100166]\n",
      "Generating group_id\n",
      "FLAT 0001 - 0002\n",
      "Waiting for header service LFO before continuing\n",
      "RemoteEvent(ATHeaderService, 0, logMessage) falling behind; read 13 messages\n",
      "FLAT 0002 - 0002\n",
      "Waiting for header service LFO before continuing\n",
      "RemoteEvent(ATHeaderService, 0, logMessage) falling behind; read 12 messages\n",
      "The PTC pair data ids for exposure time 1.5 are: [2020022100167 2020022100168]\n",
      "Generating group_id\n",
      "FLAT 0001 - 0002\n",
      "Waiting for header service LFO before continuing\n",
      "RemoteEvent(ATHeaderService, 0, logMessage) falling behind; read 14 messages\n",
      "FLAT 0002 - 0002\n",
      "Waiting for header service LFO before continuing\n",
      "RemoteEvent(ATHeaderService, 0, logMessage) falling behind; read 11 messages\n",
      "The PTC pair data ids for exposure time 1.75 are: [2020022100169 2020022100170]\n",
      "Generating group_id\n",
      "FLAT 0001 - 0002\n",
      "Waiting for header service LFO before continuing\n",
      "RemoteEvent(ATHeaderService, 0, logMessage) falling behind; read 12 messages\n",
      "FLAT 0002 - 0002\n",
      "Waiting for header service LFO before continuing\n",
      "RemoteEvent(ATHeaderService, 0, logMessage) falling behind; read 13 messages\n",
      "The PTC pair data ids for exposure time 2.0 are: [2020022100171 2020022100172]\n",
      "Generating group_id\n",
      "FLAT 0001 - 0002\n",
      "Waiting for header service LFO before continuing\n",
      "RemoteEvent(ATHeaderService, 0, logMessage) falling behind; read 11 messages\n",
      "FLAT 0002 - 0002\n",
      "Waiting for header service LFO before continuing\n",
      "RemoteEvent(ATHeaderService, 0, logMessage) falling behind; read 11 messages\n",
      "The PTC pair data ids for exposure time 2.25 are: [2020022100173 2020022100174]\n",
      "Generating group_id\n",
      "FLAT 0001 - 0002\n",
      "Waiting for header service LFO before continuing\n",
      "RemoteEvent(ATHeaderService, 0, logMessage) falling behind; read 12 messages\n",
      "FLAT 0002 - 0002\n",
      "Waiting for header service LFO before continuing\n",
      "RemoteEvent(ATHeaderService, 0, logMessage) falling behind; read 16 messages\n",
      "The PTC pair data ids for exposure time 2.5 are: [2020022100175 2020022100176]\n",
      "Generating group_id\n",
      "FLAT 0001 - 0002\n",
      "Waiting for header service LFO before continuing\n",
      "RemoteEvent(ATHeaderService, 0, logMessage) falling behind; read 12 messages\n",
      "FLAT 0002 - 0002\n",
      "Waiting for header service LFO before continuing\n",
      "RemoteEvent(ATHeaderService, 0, logMessage) falling behind; read 10 messages\n",
      "The PTC pair data ids for exposure time 2.75 are: [2020022100177 2020022100178]\n",
      "Generating group_id\n",
      "FLAT 0001 - 0002\n",
      "Waiting for header service LFO before continuing\n",
      "RemoteEvent(ATHeaderService, 0, logMessage) falling behind; read 12 messages\n",
      "FLAT 0002 - 0002\n",
      "Waiting for header service LFO before continuing\n",
      "RemoteEvent(ATHeaderService, 0, logMessage) falling behind; read 10 messages\n",
      "The PTC pair data ids for exposure time 3.0 are: [2020022100179 2020022100180]\n"
     ]
    }
   ],
   "source": [
    "filter_str = 'empty_1'\n",
    "grating_str = 'empty_1'\n",
    "for exp_time in exp_times: \n",
    "    PTC_pairs = await latiss.take_flats(exptime=exp_time, nflats=2, filter=filter_str, grating=grating_str)\n",
    "    print ('The PTC pair data ids for exposure time ' +str(exp_time) + ' are: '+  str(PTC_pairs))"
   ]
  },
  {
   "cell_type": "code",
   "execution_count": 23,
   "metadata": {},
   "outputs": [
    {
     "name": "stdout",
     "output_type": "stream",
     "text": [
      "Generating group_id\n",
      "FLAT 0001 - 0002\n",
      "Waiting for header service LFO before continuing\n",
      "RemoteEvent(ATHeaderService, 0, logMessage) falling behind; read 15 messages\n",
      "FLAT 0002 - 0002\n",
      "Waiting for header service LFO before continuing\n",
      "RemoteEvent(ATHeaderService, 0, logMessage) falling behind; read 14 messages\n",
      "The PTC pair data ids for exposure time 0.25 are: [2020022100205 2020022100206]\n",
      "Generating group_id\n",
      "FLAT 0001 - 0002\n",
      "Waiting for header service LFO before continuing\n",
      "RemoteEvent(ATHeaderService, 0, logMessage) falling behind; read 14 messages\n",
      "FLAT 0002 - 0002\n",
      "Waiting for header service LFO before continuing\n",
      "RemoteEvent(ATHeaderService, 0, logMessage) falling behind; read 11 messages\n",
      "The PTC pair data ids for exposure time 0.5 are: [2020022100207 2020022100208]\n",
      "Generating group_id\n",
      "FLAT 0001 - 0002\n",
      "Waiting for header service LFO before continuing\n",
      "RemoteEvent(ATHeaderService, 0, logMessage) falling behind; read 11 messages\n",
      "FLAT 0002 - 0002\n",
      "Waiting for header service LFO before continuing\n",
      "RemoteEvent(ATHeaderService, 0, logMessage) falling behind; read 15 messages\n",
      "The PTC pair data ids for exposure time 0.75 are: [2020022100209 2020022100210]\n",
      "Generating group_id\n",
      "FLAT 0001 - 0002\n",
      "Waiting for header service LFO before continuing\n",
      "RemoteEvent(ATHeaderService, 0, logMessage) falling behind; read 11 messages\n",
      "FLAT 0002 - 0002\n",
      "Waiting for header service LFO before continuing\n",
      "RemoteEvent(ATHeaderService, 0, logMessage) falling behind; read 11 messages\n",
      "The PTC pair data ids for exposure time 1.0 are: [2020022100211 2020022100212]\n",
      "Generating group_id\n",
      "FLAT 0001 - 0002\n",
      "Waiting for header service LFO before continuing\n",
      "RemoteEvent(ATHeaderService, 0, logMessage) falling behind; read 22 messages\n",
      "FLAT 0002 - 0002\n",
      "Waiting for header service LFO before continuing\n",
      "RemoteEvent(ATHeaderService, 0, logMessage) falling behind; read 11 messages\n",
      "The PTC pair data ids for exposure time 1.25 are: [2020022100213 2020022100214]\n",
      "Generating group_id\n",
      "FLAT 0001 - 0002\n",
      "Waiting for header service LFO before continuing\n",
      "RemoteEvent(ATHeaderService, 0, logMessage) falling behind; read 23 messages\n",
      "FLAT 0002 - 0002\n",
      "Waiting for header service LFO before continuing\n",
      "RemoteEvent(ATHeaderService, 0, logMessage) falling behind; read 10 messages\n",
      "The PTC pair data ids for exposure time 1.5 are: [2020022100215 2020022100216]\n",
      "Generating group_id\n",
      "FLAT 0001 - 0002\n",
      "Waiting for header service LFO before continuing\n",
      "RemoteEvent(ATHeaderService, 0, logMessage) falling behind; read 12 messages\n",
      "FLAT 0002 - 0002\n",
      "Waiting for header service LFO before continuing\n",
      "RemoteEvent(ATHeaderService, 0, logMessage) falling behind; read 17 messages\n",
      "The PTC pair data ids for exposure time 1.75 are: [2020022100217 2020022100218]\n",
      "Generating group_id\n",
      "FLAT 0001 - 0002\n",
      "Waiting for header service LFO before continuing\n",
      "RemoteEvent(ATHeaderService, 0, logMessage) falling behind; read 12 messages\n",
      "FLAT 0002 - 0002\n",
      "Waiting for header service LFO before continuing\n",
      "RemoteEvent(ATHeaderService, 0, logMessage) falling behind; read 14 messages\n",
      "The PTC pair data ids for exposure time 2.0 are: [2020022100219 2020022100220]\n",
      "Generating group_id\n",
      "FLAT 0001 - 0002\n",
      "Waiting for header service LFO before continuing\n",
      "RemoteEvent(ATHeaderService, 0, logMessage) falling behind; read 11 messages\n",
      "FLAT 0002 - 0002\n",
      "Waiting for header service LFO before continuing\n",
      "RemoteEvent(ATHeaderService, 0, logMessage) falling behind; read 10 messages\n",
      "The PTC pair data ids for exposure time 2.25 are: [2020022100221 2020022100222]\n",
      "Generating group_id\n",
      "FLAT 0001 - 0002\n",
      "Waiting for header service LFO before continuing\n",
      "RemoteEvent(ATHeaderService, 0, logMessage) falling behind; read 10 messages\n",
      "FLAT 0002 - 0002\n",
      "Waiting for header service LFO before continuing\n",
      "RemoteEvent(ATHeaderService, 0, logMessage) falling behind; read 11 messages\n",
      "The PTC pair data ids for exposure time 2.5 are: [2020022100223 2020022100224]\n",
      "Generating group_id\n",
      "FLAT 0001 - 0002\n",
      "RemoteEvent(ATHeaderService, 0, logMessage) falling behind; read 11 messages\n",
      "Waiting for header service LFO before continuing\n",
      "RemoteEvent(ATHeaderService, 0, logMessage) falling behind; read 10 messages\n",
      "FLAT 0002 - 0002\n",
      "Waiting for header service LFO before continuing\n",
      "RemoteEvent(ATHeaderService, 0, logMessage) falling behind; read 12 messages\n",
      "The PTC pair data ids for exposure time 2.75 are: [2020022100225 2020022100226]\n",
      "Generating group_id\n",
      "FLAT 0001 - 0002\n",
      "Waiting for header service LFO before continuing\n",
      "RemoteEvent(ATHeaderService, 0, logMessage) falling behind; read 14 messages\n",
      "FLAT 0002 - 0002\n",
      "Waiting for header service LFO before continuing\n",
      "RemoteEvent(ATHeaderService, 0, logMessage) falling behind; read 29 messages\n",
      "The PTC pair data ids for exposure time 3.0 are: [2020022100227 2020022100228]\n"
     ]
    }
   ],
   "source": [
    "filter_str = 'empty_1'\n",
    "grating_str = 'empty_1'\n",
    "for exp_time in exp_times: \n",
    "    PTC_pairs = await latiss.take_flats(exptime=exp_time, nflats=2, filter=filter_str, grating=grating_str)\n",
    "    print ('The PTC pair data ids for exposure time ' +str(exp_time) + ' are: '+  str(PTC_pairs))"
   ]
  },
  {
   "cell_type": "code",
   "execution_count": 22,
   "metadata": {},
   "outputs": [
    {
     "name": "stdout",
     "output_type": "stream",
     "text": [
      "Generating group_id\n",
      "FLAT 0001 - 0002\n",
      "Waiting for header service LFO before continuing\n",
      "RemoteEvent(ATHeaderService, 0, logMessage) falling behind; read 10 messages\n",
      "FLAT 0002 - 0002\n",
      "Waiting for header service LFO before continuing\n",
      "RemoteEvent(ATHeaderService, 0, logMessage) falling behind; read 12 messages\n",
      "The PTC pair data ids for exposure time 0.25 are: [2020022100181 2020022100182]\n",
      "Generating group_id\n",
      "FLAT 0001 - 0002\n",
      "Waiting for header service LFO before continuing\n",
      "RemoteEvent(ATHeaderService, 0, logMessage) falling behind; read 11 messages\n",
      "FLAT 0002 - 0002\n",
      "Waiting for header service LFO before continuing\n",
      "RemoteEvent(ATHeaderService, 0, logMessage) falling behind; read 10 messages\n",
      "The PTC pair data ids for exposure time 0.5 are: [2020022100183 2020022100184]\n",
      "Generating group_id\n",
      "FLAT 0001 - 0002\n",
      "Waiting for header service LFO before continuing\n",
      "RemoteEvent(ATHeaderService, 0, logMessage) falling behind; read 12 messages\n",
      "FLAT 0002 - 0002\n",
      "Waiting for header service LFO before continuing\n",
      "RemoteEvent(ATHeaderService, 0, logMessage) falling behind; read 12 messages\n",
      "The PTC pair data ids for exposure time 0.75 are: [2020022100185 2020022100186]\n",
      "Generating group_id\n",
      "FLAT 0001 - 0002\n",
      "Waiting for header service LFO before continuing\n",
      "RemoteEvent(ATHeaderService, 0, logMessage) falling behind; read 13 messages\n",
      "FLAT 0002 - 0002\n",
      "RemoteEvent(ATHeaderService, 0, logMessage) falling behind; read 10 messages\n",
      "Waiting for header service LFO before continuing\n",
      "RemoteEvent(ATHeaderService, 0, logMessage) falling behind; read 11 messages\n",
      "The PTC pair data ids for exposure time 1.0 are: [2020022100187 2020022100188]\n",
      "Generating group_id\n",
      "FLAT 0001 - 0002\n",
      "Waiting for header service LFO before continuing\n",
      "RemoteEvent(ATHeaderService, 0, logMessage) falling behind; read 10 messages\n",
      "FLAT 0002 - 0002\n",
      "Waiting for header service LFO before continuing\n",
      "RemoteEvent(ATHeaderService, 0, logMessage) falling behind; read 11 messages\n",
      "The PTC pair data ids for exposure time 1.25 are: [2020022100189 2020022100190]\n",
      "Generating group_id\n",
      "FLAT 0001 - 0002\n",
      "Waiting for header service LFO before continuing\n",
      "RemoteEvent(ATHeaderService, 0, logMessage) falling behind; read 12 messages\n",
      "FLAT 0002 - 0002\n",
      "Waiting for header service LFO before continuing\n",
      "RemoteEvent(ATHeaderService, 0, logMessage) falling behind; read 10 messages\n",
      "The PTC pair data ids for exposure time 1.5 are: [2020022100191 2020022100192]\n",
      "Generating group_id\n",
      "FLAT 0001 - 0002\n",
      "Waiting for header service LFO before continuing\n",
      "RemoteEvent(ATHeaderService, 0, logMessage) falling behind; read 10 messages\n",
      "FLAT 0002 - 0002\n",
      "Waiting for header service LFO before continuing\n",
      "RemoteEvent(ATHeaderService, 0, logMessage) falling behind; read 10 messages\n",
      "The PTC pair data ids for exposure time 1.75 are: [2020022100193 2020022100194]\n",
      "Generating group_id\n",
      "FLAT 0001 - 0002\n",
      "Waiting for header service LFO before continuing\n",
      "RemoteEvent(ATHeaderService, 0, logMessage) falling behind; read 12 messages\n",
      "FLAT 0002 - 0002\n",
      "Waiting for header service LFO before continuing\n",
      "RemoteEvent(ATHeaderService, 0, logMessage) falling behind; read 12 messages\n",
      "The PTC pair data ids for exposure time 2.0 are: [2020022100195 2020022100196]\n",
      "Generating group_id\n",
      "FLAT 0001 - 0002\n",
      "Waiting for header service LFO before continuing\n",
      "RemoteEvent(ATHeaderService, 0, logMessage) falling behind; read 12 messages\n",
      "FLAT 0002 - 0002\n",
      "Waiting for header service LFO before continuing\n",
      "RemoteEvent(ATHeaderService, 0, logMessage) falling behind; read 13 messages\n",
      "The PTC pair data ids for exposure time 2.25 are: [2020022100197 2020022100198]\n",
      "Generating group_id\n",
      "FLAT 0001 - 0002\n",
      "Waiting for header service LFO before continuing\n",
      "RemoteEvent(ATHeaderService, 0, logMessage) falling behind; read 10 messages\n",
      "FLAT 0002 - 0002\n",
      "Waiting for header service LFO before continuing\n",
      "RemoteEvent(ATHeaderService, 0, logMessage) falling behind; read 15 messages\n",
      "The PTC pair data ids for exposure time 2.5 are: [2020022100199 2020022100200]\n",
      "Generating group_id\n",
      "FLAT 0001 - 0002\n",
      "Waiting for header service LFO before continuing\n",
      "RemoteEvent(ATHeaderService, 0, logMessage) falling behind; read 10 messages\n",
      "FLAT 0002 - 0002\n",
      "Waiting for header service LFO before continuing\n",
      "RemoteEvent(ATHeaderService, 0, logMessage) falling behind; read 11 messages\n",
      "The PTC pair data ids for exposure time 2.75 are: [2020022100201 2020022100202]\n",
      "Generating group_id\n",
      "FLAT 0001 - 0002\n",
      "Waiting for header service LFO before continuing\n",
      "RemoteEvent(ATHeaderService, 0, logMessage) falling behind; read 10 messages\n",
      "FLAT 0002 - 0002\n",
      "Waiting for header service LFO before continuing\n",
      "RemoteEvent(ATHeaderService, 0, logMessage) falling behind; read 11 messages\n",
      "The PTC pair data ids for exposure time 3.0 are: [2020022100203 2020022100204]\n"
     ]
    }
   ],
   "source": [
    "filter_str = 'empty_1'\n",
    "grating_str = 'empty_1'\n",
    "for exp_time in exp_times: \n",
    "    PTC_pairs = await latiss.take_flats(exptime=exp_time, nflats=2, filter=filter_str, grating=grating_str)\n",
    "    print ('The PTC pair data ids for exposure time ' +str(exp_time) + ' are: '+  str(PTC_pairs))"
   ]
  },
  {
   "cell_type": "code",
   "execution_count": 24,
   "metadata": {},
   "outputs": [
    {
     "name": "stdout",
     "output_type": "stream",
     "text": [
      "Generating group_id\n",
      "FLAT 0001 - 0002\n",
      "Waiting for header service LFO before continuing\n",
      "RemoteEvent(ATHeaderService, 0, logMessage) falling behind; read 15 messages\n",
      "FLAT 0002 - 0002\n",
      "Waiting for header service LFO before continuing\n",
      "RemoteEvent(ATHeaderService, 0, logMessage) falling behind; read 11 messages\n",
      "The PTC pair data ids for exposure time 0.25 are: [2020022100229 2020022100230]\n",
      "Generating group_id\n",
      "FLAT 0001 - 0002\n",
      "Waiting for header service LFO before continuing\n",
      "RemoteEvent(ATHeaderService, 0, logMessage) falling behind; read 12 messages\n",
      "FLAT 0002 - 0002\n",
      "Waiting for header service LFO before continuing\n",
      "RemoteEvent(ATHeaderService, 0, logMessage) falling behind; read 11 messages\n",
      "The PTC pair data ids for exposure time 0.5 are: [2020022100231 2020022100232]\n",
      "Generating group_id\n",
      "FLAT 0001 - 0002\n",
      "Waiting for header service LFO before continuing\n",
      "RemoteEvent(ATHeaderService, 0, logMessage) falling behind; read 13 messages\n",
      "FLAT 0002 - 0002\n",
      "Waiting for header service LFO before continuing\n",
      "RemoteEvent(ATHeaderService, 0, logMessage) falling behind; read 12 messages\n",
      "The PTC pair data ids for exposure time 0.75 are: [2020022100233 2020022100234]\n",
      "Generating group_id\n",
      "FLAT 0001 - 0002\n",
      "Waiting for header service LFO before continuing\n",
      "RemoteEvent(ATHeaderService, 0, logMessage) falling behind; read 10 messages\n",
      "FLAT 0002 - 0002\n",
      "Waiting for header service LFO before continuing\n",
      "RemoteEvent(ATHeaderService, 0, logMessage) falling behind; read 10 messages\n",
      "The PTC pair data ids for exposure time 1.0 are: [2020022100235 2020022100236]\n",
      "Generating group_id\n",
      "FLAT 0001 - 0002\n",
      "Waiting for header service LFO before continuing\n",
      "RemoteEvent(ATHeaderService, 0, logMessage) falling behind; read 11 messages\n",
      "FLAT 0002 - 0002\n",
      "Waiting for header service LFO before continuing\n",
      "RemoteEvent(ATHeaderService, 0, logMessage) falling behind; read 17 messages\n",
      "The PTC pair data ids for exposure time 1.25 are: [2020022100237 2020022100238]\n",
      "Generating group_id\n",
      "FLAT 0001 - 0002\n",
      "Waiting for header service LFO before continuing\n",
      "RemoteEvent(ATHeaderService, 0, logMessage) falling behind; read 10 messages\n",
      "FLAT 0002 - 0002\n",
      "Waiting for header service LFO before continuing\n",
      "RemoteEvent(ATHeaderService, 0, logMessage) falling behind; read 23 messages\n",
      "The PTC pair data ids for exposure time 1.5 are: [2020022100239 2020022100240]\n",
      "Generating group_id\n",
      "FLAT 0001 - 0002\n",
      "Waiting for header service LFO before continuing\n",
      "RemoteEvent(ATHeaderService, 0, logMessage) falling behind; read 10 messages\n",
      "FLAT 0002 - 0002\n",
      "Waiting for header service LFO before continuing\n",
      "RemoteEvent(ATHeaderService, 0, logMessage) falling behind; read 12 messages\n",
      "The PTC pair data ids for exposure time 1.75 are: [2020022100241 2020022100242]\n",
      "Generating group_id\n",
      "FLAT 0001 - 0002\n",
      "Waiting for header service LFO before continuing\n",
      "RemoteEvent(ATHeaderService, 0, logMessage) falling behind; read 11 messages\n",
      "FLAT 0002 - 0002\n",
      "Waiting for header service LFO before continuing\n",
      "RemoteEvent(ATHeaderService, 0, logMessage) falling behind; read 13 messages\n",
      "The PTC pair data ids for exposure time 2.0 are: [2020022100243 2020022100244]\n",
      "Generating group_id\n",
      "FLAT 0001 - 0002\n",
      "Waiting for header service LFO before continuing\n",
      "RemoteEvent(ATHeaderService, 0, logMessage) falling behind; read 11 messages\n",
      "FLAT 0002 - 0002\n",
      "Waiting for header service LFO before continuing\n",
      "RemoteEvent(ATHeaderService, 0, logMessage) falling behind; read 13 messages\n",
      "The PTC pair data ids for exposure time 2.25 are: [2020022100245 2020022100246]\n",
      "Generating group_id\n",
      "FLAT 0001 - 0002\n",
      "Waiting for header service LFO before continuing\n",
      "RemoteEvent(ATHeaderService, 0, logMessage) falling behind; read 12 messages\n",
      "FLAT 0002 - 0002\n",
      "Waiting for header service LFO before continuing\n",
      "RemoteEvent(ATHeaderService, 0, logMessage) falling behind; read 10 messages\n",
      "The PTC pair data ids for exposure time 2.5 are: [2020022100247 2020022100248]\n",
      "Generating group_id\n",
      "FLAT 0001 - 0002\n",
      "Waiting for header service LFO before continuing\n",
      "RemoteEvent(ATHeaderService, 0, logMessage) falling behind; read 10 messages\n",
      "FLAT 0002 - 0002\n",
      "Waiting for header service LFO before continuing\n",
      "RemoteEvent(ATHeaderService, 0, logMessage) falling behind; read 11 messages\n",
      "The PTC pair data ids for exposure time 2.75 are: [2020022100249 2020022100250]\n",
      "Generating group_id\n",
      "FLAT 0001 - 0002\n",
      "Waiting for header service LFO before continuing\n",
      "RemoteEvent(ATHeaderService, 0, logMessage) falling behind; read 12 messages\n",
      "FLAT 0002 - 0002\n",
      "Waiting for header service LFO before continuing\n",
      "RemoteEvent(ATHeaderService, 0, logMessage) falling behind; read 10 messages\n",
      "The PTC pair data ids for exposure time 3.0 are: [2020022100251 2020022100252]\n"
     ]
    }
   ],
   "source": [
    "filter_str = 'empty_1'\n",
    "grating_str = 'empty_1'\n",
    "for exp_time in exp_times: \n",
    "    PTC_pairs = await latiss.take_flats(exptime=exp_time, nflats=2, filter=filter_str, grating=grating_str)\n",
    "    print ('The PTC pair data ids for exposure time ' +str(exp_time) + ' are: '+  str(PTC_pairs))"
   ]
  },
  {
   "cell_type": "code",
   "execution_count": 25,
   "metadata": {},
   "outputs": [
    {
     "name": "stdout",
     "output_type": "stream",
     "text": [
      "Generating group_id\n",
      "FLAT 0001 - 0002\n",
      "Waiting for header service LFO before continuing\n",
      "RemoteEvent(ATHeaderService, 0, logMessage) falling behind; read 15 messages\n",
      "FLAT 0002 - 0002\n",
      "Waiting for header service LFO before continuing\n",
      "RemoteEvent(ATHeaderService, 0, logMessage) falling behind; read 11 messages\n",
      "The PTC pair data ids for exposure time 0.25 are: [2020022100253 2020022100254]\n",
      "Generating group_id\n",
      "FLAT 0001 - 0002\n",
      "RemoteEvent(ATHeaderService, 0, logMessage) falling behind; read 13 messages\n",
      "Waiting for header service LFO before continuing\n",
      "RemoteEvent(ATHeaderService, 0, logMessage) falling behind; read 12 messages\n",
      "FLAT 0002 - 0002\n",
      "Waiting for header service LFO before continuing\n",
      "RemoteEvent(ATHeaderService, 0, logMessage) falling behind; read 12 messages\n",
      "The PTC pair data ids for exposure time 0.5 are: [2020022100255 2020022100256]\n",
      "Generating group_id\n",
      "FLAT 0001 - 0002\n",
      "Waiting for header service LFO before continuing\n",
      "RemoteEvent(ATHeaderService, 0, logMessage) falling behind; read 10 messages\n",
      "FLAT 0002 - 0002\n",
      "Waiting for header service LFO before continuing\n",
      "RemoteEvent(ATHeaderService, 0, logMessage) falling behind; read 12 messages\n",
      "The PTC pair data ids for exposure time 0.75 are: [2020022100257 2020022100258]\n",
      "Generating group_id\n",
      "FLAT 0001 - 0002\n",
      "Waiting for header service LFO before continuing\n",
      "RemoteEvent(ATHeaderService, 0, logMessage) falling behind; read 11 messages\n",
      "FLAT 0002 - 0002\n",
      "Waiting for header service LFO before continuing\n",
      "RemoteEvent(ATHeaderService, 0, logMessage) falling behind; read 13 messages\n",
      "The PTC pair data ids for exposure time 1.0 are: [2020022100259 2020022100260]\n",
      "Generating group_id\n",
      "FLAT 0001 - 0002\n",
      "Waiting for header service LFO before continuing\n",
      "RemoteEvent(ATHeaderService, 0, logMessage) falling behind; read 18 messages\n",
      "FLAT 0002 - 0002\n",
      "Waiting for header service LFO before continuing\n",
      "RemoteEvent(ATHeaderService, 0, logMessage) falling behind; read 10 messages\n",
      "The PTC pair data ids for exposure time 1.25 are: [2020022100261 2020022100262]\n",
      "Generating group_id\n",
      "FLAT 0001 - 0002\n",
      "Waiting for header service LFO before continuing\n",
      "RemoteEvent(ATHeaderService, 0, logMessage) falling behind; read 12 messages\n",
      "FLAT 0002 - 0002\n",
      "Waiting for header service LFO before continuing\n",
      "RemoteEvent(ATHeaderService, 0, logMessage) falling behind; read 10 messages\n",
      "The PTC pair data ids for exposure time 1.5 are: [2020022100263 2020022100264]\n",
      "Generating group_id\n",
      "FLAT 0001 - 0002\n",
      "Waiting for header service LFO before continuing\n",
      "RemoteEvent(ATHeaderService, 0, logMessage) falling behind; read 15 messages\n",
      "FLAT 0002 - 0002\n",
      "Waiting for header service LFO before continuing\n",
      "RemoteEvent(ATHeaderService, 0, logMessage) falling behind; read 17 messages\n",
      "The PTC pair data ids for exposure time 1.75 are: [2020022100265 2020022100266]\n",
      "Generating group_id\n",
      "FLAT 0001 - 0002\n",
      "Waiting for header service LFO before continuing\n",
      "RemoteEvent(ATHeaderService, 0, logMessage) falling behind; read 12 messages\n",
      "FLAT 0002 - 0002\n",
      "RemoteEvent(ATHeaderService, 0, logMessage) falling behind; read 10 messages\n",
      "Waiting for header service LFO before continuing\n",
      "RemoteEvent(ATHeaderService, 0, logMessage) falling behind; read 11 messages\n",
      "The PTC pair data ids for exposure time 2.0 are: [2020022100267 2020022100268]\n",
      "Generating group_id\n",
      "FLAT 0001 - 0002\n",
      "Waiting for header service LFO before continuing\n",
      "RemoteEvent(ATHeaderService, 0, logMessage) falling behind; read 10 messages\n",
      "FLAT 0002 - 0002\n",
      "Waiting for header service LFO before continuing\n",
      "RemoteEvent(ATHeaderService, 0, logMessage) falling behind; read 10 messages\n",
      "The PTC pair data ids for exposure time 2.25 are: [2020022100269 2020022100270]\n",
      "Generating group_id\n",
      "FLAT 0001 - 0002\n",
      "Waiting for header service LFO before continuing\n",
      "RemoteEvent(ATHeaderService, 0, logMessage) falling behind; read 15 messages\n",
      "FLAT 0002 - 0002\n",
      "Waiting for header service LFO before continuing\n",
      "RemoteEvent(ATHeaderService, 0, logMessage) falling behind; read 13 messages\n",
      "The PTC pair data ids for exposure time 2.5 are: [2020022100271 2020022100272]\n",
      "Generating group_id\n",
      "FLAT 0001 - 0002\n",
      "Waiting for header service LFO before continuing\n",
      "RemoteEvent(ATHeaderService, 0, logMessage) falling behind; read 12 messages\n",
      "FLAT 0002 - 0002\n",
      "Waiting for header service LFO before continuing\n",
      "RemoteEvent(ATHeaderService, 0, logMessage) falling behind; read 11 messages\n",
      "The PTC pair data ids for exposure time 2.75 are: [2020022100273 2020022100274]\n",
      "Generating group_id\n",
      "FLAT 0001 - 0002\n",
      "Waiting for header service LFO before continuing\n",
      "RemoteEvent(ATHeaderService, 0, logMessage) falling behind; read 11 messages\n",
      "FLAT 0002 - 0002\n",
      "Waiting for header service LFO before continuing\n",
      "RemoteEvent(ATHeaderService, 0, logMessage) falling behind; read 14 messages\n",
      "The PTC pair data ids for exposure time 3.0 are: [2020022100275 2020022100276]\n"
     ]
    }
   ],
   "source": [
    "filter_str = 'empty_1'\n",
    "grating_str = 'empty_1'\n",
    "for exp_time in exp_times: \n",
    "    PTC_pairs = await latiss.take_flats(exptime=exp_time, nflats=2, filter=filter_str, grating=grating_str)\n",
    "    print ('The PTC pair data ids for exposure time ' +str(exp_time) + ' are: '+  str(PTC_pairs))"
   ]
  },
  {
   "cell_type": "code",
   "execution_count": 26,
   "metadata": {},
   "outputs": [
    {
     "name": "stdout",
     "output_type": "stream",
     "text": [
      "Generating group_id\n",
      "FLAT 0001 - 0002\n",
      "Waiting for header service LFO before continuing\n",
      "RemoteEvent(ATHeaderService, 0, logMessage) falling behind; read 12 messages\n",
      "FLAT 0002 - 0002\n",
      "Waiting for header service LFO before continuing\n",
      "The PTC pair data ids for exposure time 0.25 are: [2020022100277 2020022100278]\n",
      "Generating group_id\n",
      "FLAT 0001 - 0002\n",
      "RemoteEvent(ATHeaderService, 0, logMessage) falling behind; read 11 messages\n",
      "Waiting for header service LFO before continuing\n",
      "RemoteEvent(ATHeaderService, 0, logMessage) falling behind; read 13 messages\n",
      "FLAT 0002 - 0002\n",
      "Waiting for header service LFO before continuing\n",
      "RemoteEvent(ATHeaderService, 0, logMessage) falling behind; read 13 messages\n",
      "The PTC pair data ids for exposure time 0.5 are: [2020022100279 2020022100280]\n",
      "Generating group_id\n",
      "FLAT 0001 - 0002\n",
      "Waiting for header service LFO before continuing\n",
      "RemoteEvent(ATHeaderService, 0, logMessage) falling behind; read 13 messages\n",
      "FLAT 0002 - 0002\n",
      "Waiting for header service LFO before continuing\n",
      "RemoteEvent(ATHeaderService, 0, logMessage) falling behind; read 14 messages\n",
      "The PTC pair data ids for exposure time 0.75 are: [2020022100281 2020022100282]\n",
      "Generating group_id\n",
      "FLAT 0001 - 0002\n",
      "Waiting for header service LFO before continuing\n",
      "RemoteEvent(ATHeaderService, 0, logMessage) falling behind; read 13 messages\n",
      "FLAT 0002 - 0002\n",
      "Waiting for header service LFO before continuing\n",
      "RemoteEvent(ATHeaderService, 0, logMessage) falling behind; read 12 messages\n",
      "The PTC pair data ids for exposure time 1.0 are: [2020022100283 2020022100284]\n",
      "Generating group_id\n",
      "FLAT 0001 - 0002\n",
      "Waiting for header service LFO before continuing\n",
      "RemoteEvent(ATHeaderService, 0, logMessage) falling behind; read 12 messages\n",
      "FLAT 0002 - 0002\n",
      "RemoteEvent(ATHeaderService, 0, logMessage) falling behind; read 12 messages\n",
      "Waiting for header service LFO before continuing\n",
      "RemoteEvent(ATHeaderService, 0, logMessage) falling behind; read 11 messages\n",
      "The PTC pair data ids for exposure time 1.25 are: [2020022100285 2020022100286]\n",
      "Generating group_id\n",
      "FLAT 0001 - 0002\n",
      "Waiting for header service LFO before continuing\n",
      "RemoteEvent(ATHeaderService, 0, logMessage) falling behind; read 10 messages\n",
      "FLAT 0002 - 0002\n",
      "Waiting for header service LFO before continuing\n",
      "RemoteEvent(ATHeaderService, 0, logMessage) falling behind; read 16 messages\n",
      "The PTC pair data ids for exposure time 1.5 are: [2020022100287 2020022100288]\n",
      "Generating group_id\n",
      "FLAT 0001 - 0002\n",
      "Waiting for header service LFO before continuing\n",
      "RemoteEvent(ATHeaderService, 0, logMessage) falling behind; read 10 messages\n",
      "FLAT 0002 - 0002\n",
      "Waiting for header service LFO before continuing\n",
      "RemoteEvent(ATHeaderService, 0, logMessage) falling behind; read 11 messages\n",
      "The PTC pair data ids for exposure time 1.75 are: [2020022100289 2020022100290]\n",
      "Generating group_id\n",
      "FLAT 0001 - 0002\n",
      "Waiting for header service LFO before continuing\n",
      "RemoteEvent(ATHeaderService, 0, logMessage) falling behind; read 11 messages\n",
      "FLAT 0002 - 0002\n",
      "Waiting for header service LFO before continuing\n",
      "RemoteEvent(ATHeaderService, 0, logMessage) falling behind; read 12 messages\n",
      "The PTC pair data ids for exposure time 2.0 are: [2020022100291 2020022100292]\n",
      "Generating group_id\n",
      "FLAT 0001 - 0002\n",
      "Waiting for header service LFO before continuing\n",
      "RemoteEvent(ATHeaderService, 0, logMessage) falling behind; read 10 messages\n",
      "FLAT 0002 - 0002\n",
      "Waiting for header service LFO before continuing\n",
      "RemoteEvent(ATHeaderService, 0, logMessage) falling behind; read 20 messages\n",
      "The PTC pair data ids for exposure time 2.25 are: [2020022100293 2020022100294]\n",
      "Generating group_id\n",
      "FLAT 0001 - 0002\n",
      "Waiting for header service LFO before continuing\n",
      "RemoteEvent(ATHeaderService, 0, logMessage) falling behind; read 12 messages\n",
      "FLAT 0002 - 0002\n",
      "Waiting for header service LFO before continuing\n",
      "RemoteEvent(ATHeaderService, 0, logMessage) falling behind; read 12 messages\n",
      "The PTC pair data ids for exposure time 2.5 are: [2020022100295 2020022100296]\n",
      "Generating group_id\n",
      "FLAT 0001 - 0002\n",
      "Waiting for header service LFO before continuing\n",
      "RemoteEvent(ATHeaderService, 0, logMessage) falling behind; read 14 messages\n",
      "FLAT 0002 - 0002\n",
      "Waiting for header service LFO before continuing\n",
      "The PTC pair data ids for exposure time 2.75 are: [2020022100297 2020022100298]\n",
      "Generating group_id\n",
      "FLAT 0001 - 0002\n",
      "Waiting for header service LFO before continuing\n",
      "RemoteEvent(ATHeaderService, 0, logMessage) falling behind; read 10 messages\n",
      "FLAT 0002 - 0002\n",
      "Waiting for header service LFO before continuing\n",
      "The PTC pair data ids for exposure time 3.0 are: [2020022100299 2020022100300]\n"
     ]
    }
   ],
   "source": [
    "filter_str = 'empty_1'\n",
    "grating_str = 'empty_1'\n",
    "for exp_time in exp_times: \n",
    "    PTC_pairs = await latiss.take_flats(exptime=exp_time, nflats=2, filter=filter_str, grating=grating_str)\n",
    "    print ('The PTC pair data ids for exposure time ' +str(exp_time) + ' are: '+  str(PTC_pairs))"
   ]
  },
  {
   "cell_type": "code",
   "execution_count": 27,
   "metadata": {},
   "outputs": [
    {
     "name": "stdout",
     "output_type": "stream",
     "text": [
      "Generating group_id\n",
      "FLAT 0001 - 0002\n",
      "Waiting for header service LFO before continuing\n",
      "RemoteEvent(ATHeaderService, 0, logMessage) falling behind; read 10 messages\n",
      "FLAT 0002 - 0002\n",
      "Waiting for header service LFO before continuing\n",
      "RemoteEvent(ATHeaderService, 0, logMessage) falling behind; read 14 messages\n",
      "The PTC pair data ids for exposure time 0.25 are: [2020022100301 2020022100302]\n",
      "Generating group_id\n",
      "FLAT 0001 - 0002\n",
      "Waiting for header service LFO before continuing\n",
      "RemoteEvent(ATHeaderService, 0, logMessage) falling behind; read 11 messages\n",
      "FLAT 0002 - 0002\n",
      "Waiting for header service LFO before continuing\n",
      "RemoteEvent(ATHeaderService, 0, logMessage) falling behind; read 10 messages\n",
      "The PTC pair data ids for exposure time 0.5 are: [2020022100303 2020022100304]\n",
      "Generating group_id\n",
      "FLAT 0001 - 0002\n",
      "Waiting for header service LFO before continuing\n",
      "RemoteEvent(ATHeaderService, 0, logMessage) falling behind; read 12 messages\n",
      "FLAT 0002 - 0002\n",
      "Waiting for header service LFO before continuing\n",
      "RemoteEvent(ATHeaderService, 0, logMessage) falling behind; read 12 messages\n",
      "The PTC pair data ids for exposure time 0.75 are: [2020022100305 2020022100306]\n",
      "Generating group_id\n",
      "FLAT 0001 - 0002\n",
      "Waiting for header service LFO before continuing\n",
      "RemoteEvent(ATHeaderService, 0, logMessage) falling behind; read 12 messages\n",
      "FLAT 0002 - 0002\n",
      "Waiting for header service LFO before continuing\n",
      "RemoteEvent(ATHeaderService, 0, logMessage) falling behind; read 14 messages\n",
      "The PTC pair data ids for exposure time 1.0 are: [2020022100307 2020022100308]\n",
      "Generating group_id\n",
      "FLAT 0001 - 0002\n",
      "Waiting for header service LFO before continuing\n",
      "RemoteEvent(ATHeaderService, 0, logMessage) falling behind; read 10 messages\n",
      "FLAT 0002 - 0002\n",
      "Waiting for header service LFO before continuing\n",
      "RemoteEvent(ATHeaderService, 0, logMessage) falling behind; read 19 messages\n",
      "The PTC pair data ids for exposure time 1.25 are: [2020022100309 2020022100310]\n",
      "Generating group_id\n",
      "FLAT 0001 - 0002\n",
      "Waiting for header service LFO before continuing\n",
      "RemoteEvent(ATHeaderService, 0, logMessage) falling behind; read 11 messages\n",
      "FLAT 0002 - 0002\n",
      "Waiting for header service LFO before continuing\n",
      "RemoteEvent(ATHeaderService, 0, logMessage) falling behind; read 18 messages\n",
      "The PTC pair data ids for exposure time 1.5 are: [2020022100311 2020022100312]\n",
      "Generating group_id\n",
      "FLAT 0001 - 0002\n",
      "Waiting for header service LFO before continuing\n",
      "RemoteEvent(ATHeaderService, 0, logMessage) falling behind; read 11 messages\n",
      "FLAT 0002 - 0002\n",
      "Waiting for header service LFO before continuing\n",
      "RemoteEvent(ATHeaderService, 0, logMessage) falling behind; read 15 messages\n",
      "The PTC pair data ids for exposure time 1.75 are: [2020022100313 2020022100314]\n",
      "Generating group_id\n",
      "FLAT 0001 - 0002\n",
      "Waiting for header service LFO before continuing\n",
      "RemoteEvent(ATHeaderService, 0, logMessage) falling behind; read 16 messages\n",
      "FLAT 0002 - 0002\n",
      "Waiting for header service LFO before continuing\n",
      "RemoteEvent(ATHeaderService, 0, logMessage) falling behind; read 11 messages\n",
      "The PTC pair data ids for exposure time 2.0 are: [2020022100315 2020022100316]\n",
      "Generating group_id\n",
      "FLAT 0001 - 0002\n",
      "Waiting for header service LFO before continuing\n",
      "RemoteEvent(ATHeaderService, 0, logMessage) falling behind; read 12 messages\n",
      "FLAT 0002 - 0002\n",
      "Waiting for header service LFO before continuing\n",
      "RemoteEvent(ATHeaderService, 0, logMessage) falling behind; read 10 messages\n",
      "The PTC pair data ids for exposure time 2.25 are: [2020022100317 2020022100318]\n",
      "Generating group_id\n",
      "FLAT 0001 - 0002\n",
      "Waiting for header service LFO before continuing\n",
      "FLAT 0002 - 0002\n",
      "Waiting for header service LFO before continuing\n",
      "RemoteEvent(ATHeaderService, 0, logMessage) falling behind; read 10 messages\n",
      "The PTC pair data ids for exposure time 2.5 are: [2020022100319 2020022100320]\n",
      "Generating group_id\n",
      "FLAT 0001 - 0002\n",
      "Waiting for header service LFO before continuing\n",
      "RemoteEvent(ATHeaderService, 0, logMessage) falling behind; read 11 messages\n",
      "FLAT 0002 - 0002\n",
      "Waiting for header service LFO before continuing\n",
      "RemoteEvent(ATHeaderService, 0, logMessage) falling behind; read 12 messages\n",
      "The PTC pair data ids for exposure time 2.75 are: [2020022100321 2020022100322]\n",
      "Generating group_id\n",
      "FLAT 0001 - 0002\n",
      "RemoteEvent(ATHeaderService, 0, logMessage) falling behind; read 11 messages\n",
      "Waiting for header service LFO before continuing\n",
      "RemoteEvent(ATHeaderService, 0, logMessage) falling behind; read 10 messages\n",
      "FLAT 0002 - 0002\n",
      "Waiting for header service LFO before continuing\n",
      "The PTC pair data ids for exposure time 3.0 are: [2020022100323 2020022100324]\n"
     ]
    }
   ],
   "source": [
    "filter_str = 'empty_1'\n",
    "grating_str = 'empty_1'\n",
    "for exp_time in exp_times: \n",
    "    PTC_pairs = await latiss.take_flats(exptime=exp_time, nflats=2, filter=filter_str, grating=grating_str)\n",
    "    print ('The PTC pair data ids for exposure time ' +str(exp_time) + ' are: '+  str(PTC_pairs))"
   ]
  },
  {
   "cell_type": "code",
   "execution_count": 28,
   "metadata": {},
   "outputs": [
    {
     "name": "stdout",
     "output_type": "stream",
     "text": [
      "Gathering settings.\n",
      "No settings for atmcs.\n",
      "Using                                                                                                                                 from settingVersions event.\n",
      "No settings for atptg.\n",
      "Couldn't get settingVersions event. Using empty settings.\n",
      "No settings for ataos.\n",
      "Using current from settingVersions event.\n",
      "No settings for atpneumatics.\n",
      "Using                                                                                                                                 from settingVersions event.\n",
      "No settings for athexapod.\n",
      "Using current from settingVersions event.\n",
      "No settings for atdome.\n",
      "Using test from settingVersions event.\n",
      "No settings for atdometrajectory.\n",
      "Using  from settingVersions event.\n",
      "Settings versions: {'atmcs': '                                                                                                                               ', 'atptg': '', 'ataos': 'current', 'atpneumatics': '                                                                                                                               ', 'athexapod': 'current', 'atdome': 'test', 'atdometrajectory': ''}\n",
      "Enabling all components\n",
      "Enabling  atmcs\n",
      "Enabling  atptg\n",
      "Enabling  ataos\n",
      "Enabling  atpneumatics\n",
      "Enabling  athexapod\n",
      "Enabling  atdome\n",
      "Enabling  atdometrajectory\n",
      "[atmcs]::[<State.ENABLED: 2>]\n",
      "[atptg]::[<State.ENABLED: 2>]\n",
      "[ataos]::[<State.ENABLED: 2>]\n",
      "[atpneumatics]::[<State.ENABLED: 2>]\n",
      "[athexapod]::[<State.ENABLED: 2>]\n",
      "[atdome]::[<State.ENABLED: 2>]\n",
      "[atdometrajectory]::[<State.ENABLED: 2>]\n",
      "All components enabled.\n",
      "Slew telescope to park position.\n",
      "Sending command\n",
      "Stop tracking.\n",
      "Mount tracking state is 8\n",
      "In Position: False.\n",
      "Scheduling check coroutines\n",
      "process as completed...\n",
      "Got False\n",
      "Telescope not in position\n",
      "atmcs: <State.ENABLED: 2>\n",
      "atptg: <State.ENABLED: 2>\n",
      "ataos: <State.ENABLED: 2>\n",
      "atpneumatics: <State.ENABLED: 2>\n",
      "athexapod: <State.ENABLED: 2>\n",
      "[Telescope] delta Alt = +040.850 | delta Az= +154.476\n",
      "[Telescope] delta Alt = +037.833 | delta Az= +157.592\n",
      "[Telescope] delta Alt = +033.834 | delta Az= +161.591\n",
      "[Telescope] delta Alt = +029.835 | delta Az= +165.592\n",
      "[Telescope] delta Alt = +025.845 | delta Az= +169.592\n",
      "[Telescope] delta Alt = +021.904 | delta Az= +173.590\n",
      "[Telescope] delta Alt = +018.078 | delta Az= +177.590\n",
      "[Telescope] delta Alt = +014.439 | delta Az= -178.408\n",
      "[Telescope] delta Alt = +011.076 | delta Az= -174.409\n",
      "[Telescope] delta Alt = +008.074 | delta Az= -170.409\n",
      "[Telescope] delta Alt = +005.508 | delta Az= -166.409\n",
      "[Telescope] delta Alt = +003.432 | delta Az= -162.409\n",
      "[Telescope] delta Alt = +001.872 | delta Az= -158.408\n",
      "[Telescope] delta Alt = +000.830 | delta Az= -154.410\n",
      "[Telescope] delta Alt = +000.247 | delta Az= -150.409\n",
      "[Telescope] delta Alt = +000.028 | delta Az= -146.409\n",
      "[Telescope] delta Alt = -000.000 | delta Az= -142.410\n",
      "[Telescope] delta Alt = -000.000 | delta Az= -138.408\n",
      "[Telescope] delta Alt = -000.000 | delta Az= -134.409\n",
      "[Telescope] delta Alt = -000.000 | delta Az= -130.410\n",
      "[Telescope] delta Alt = +000.000 | delta Az= -126.410\n",
      "[Telescope] delta Alt = +000.000 | delta Az= -122.408\n",
      "[Telescope] delta Alt = +000.000 | delta Az= -118.409\n",
      "[Telescope] delta Alt = +000.000 | delta Az= -114.409\n",
      "[Telescope] delta Alt = +000.000 | delta Az= -110.409\n",
      "[Telescope] delta Alt = +000.000 | delta Az= -106.409\n",
      "[Telescope] delta Alt = -000.000 | delta Az= -102.408\n",
      "[Telescope] delta Alt = +000.000 | delta Az= -098.409\n",
      "[Telescope] delta Alt = -000.000 | delta Az= -094.410\n",
      "[Telescope] delta Alt = +000.000 | delta Az= -090.409\n",
      "[Telescope] delta Alt = +000.000 | delta Az= -086.409\n",
      "[Telescope] delta Alt = +000.000 | delta Az= -084.410\n",
      "[Telescope] delta Alt = -000.000 | delta Az= -080.408\n",
      "[Telescope] delta Alt = -000.000 | delta Az= -076.409\n",
      "[Telescope] delta Alt = -000.000 | delta Az= -074.410\n",
      "[Telescope] delta Alt = +000.000 | delta Az= -070.409\n",
      "[Telescope] delta Alt = +000.000 | delta Az= -066.407\n",
      "[Telescope] delta Alt = -000.000 | delta Az= -062.408\n",
      "[Telescope] delta Alt = -000.000 | delta Az= -058.408\n",
      "[Telescope] delta Alt = -000.000 | delta Az= -054.409\n",
      "[Telescope] delta Alt = +000.000 | delta Az= -050.409\n",
      "[Telescope] delta Alt = -000.000 | delta Az= -046.408\n",
      "[Telescope] delta Alt = -000.000 | delta Az= -042.408\n",
      "[Telescope] delta Alt = -000.000 | delta Az= -038.409\n",
      "[Telescope] delta Alt = +000.000 | delta Az= -034.409\n",
      "[Telescope] delta Alt = +000.000 | delta Az= -030.409\n",
      "[Telescope] delta Alt = -000.000 | delta Az= -026.417\n",
      "[Telescope] delta Alt = +000.000 | delta Az= -022.466\n",
      "[Telescope] delta Alt = -000.000 | delta Az= -018.619\n",
      "[Telescope] delta Alt = -000.000 | delta Az= -014.946\n",
      "[Telescope] delta Alt = -000.000 | delta Az= -011.537\n",
      "[Telescope] delta Alt = -000.000 | delta Az= -008.479\n",
      "[Telescope] delta Alt = +000.000 | delta Az= -005.845\n",
      "[Telescope] delta Alt = +000.000 | delta Az= -003.695\n",
      "[Telescope] delta Alt = +000.000 | delta Az= -002.063\n",
      "[Telescope] delta Alt = +000.000 | delta Az= -000.948\n",
      "[Telescope] delta Alt = +000.000 | delta Az= -000.306\n",
      "[Telescope] delta Alt = +000.000 | delta Az= -000.042\n",
      "[Telescope] delta Alt = +000.000 | delta Az= -000.000\n",
      "Axes in position.\n",
      "None\n",
      "Stop tracking.\n",
      "Mount tracking state is 9\n",
      "Tracking state: 10.\n",
      "Tracking state: 8.\n",
      "In Position: False.\n",
      "Cover state <MirrorCoverState.OPENED: 7>\n",
      "Closing M1 cover.\n",
      "Cover state <MirrorCoverState.INMOTION: 8>\n",
      "Cover state <MirrorCoverState.CLOSED: 6>\n",
      "Homing dome azimuth.\n",
      "Dome azimuth still homing.\n",
      "Dome azimuth still homing.\n",
      "Moving dome to 90 degrees.\n",
      "atdometrajectory: <State.DISABLED: 1>\n",
      "[Dome] delta Az = +089.950\n",
      "[Dome] delta Az = +089.210\n",
      "[Dome] delta Az = +088.360\n",
      "[Dome] delta Az = +087.270\n",
      "[Dome] delta Az = +085.960\n",
      "[Dome] delta Az = +084.410\n",
      "[Dome] delta Az = +082.630\n",
      "[Dome] delta Az = +080.620\n",
      "[Dome] delta Az = +078.390\n",
      "[Dome] delta Az = +075.930\n",
      "[Dome] delta Az = +073.230\n",
      "[Dome] delta Az = +070.310\n",
      "[Dome] delta Az = +067.150\n",
      "[Dome] delta Az = +063.790\n",
      "[Dome] delta Az = +060.340\n",
      "[Dome] delta Az = +056.890\n",
      "[Dome] delta Az = +053.460\n",
      "[Dome] delta Az = +050.030\n",
      "[Dome] delta Az = +046.600\n",
      "[Dome] delta Az = +043.140\n",
      "[Dome] delta Az = +039.710\n",
      "[Dome] delta Az = +036.280\n",
      "[Dome] delta Az = +032.830\n",
      "[Dome] delta Az = +029.410\n",
      "[Dome] delta Az = +025.980\n",
      "[Dome] delta Az = +022.550\n",
      "[Dome] delta Az = +019.110\n",
      "[Dome] delta Az = +015.660\n",
      "[Dome] delta Az = +012.220\n",
      "[Dome] delta Az = +008.780\n",
      "[Dome] delta Az = +005.340\n",
      "[Dome] delta Az = +002.110\n",
      "ATDome in position.\n",
      "Check that dome CSC can communicate with shutter control box.\n",
      "Opening dome.\n",
      "atdome: <State.ENABLED: 2>\n",
      "Got: private_revCode: f1592f29, private_sndStamp: 1582327177.8859513, private_rcvStamp: 1582327177.8871365, private_seqNum: 29, private_origin: 46, private_host: -1947882776, inPosition: False, priority: 0\n",
      "ATDome shutter not in position.\n",
      "Got: private_revCode: f1592f29, private_sndStamp: 1582327406.7047405, private_rcvStamp: 1582327406.7059314, private_seqNum: 30, private_origin: 46, private_host: -1947882776, inPosition: True, priority: 0\n",
      "ATDome shutter in position.\n",
      "Open telescope cover.\n",
      "Cover state <MirrorCoverState.CLOSED: 6>\n",
      "Opening M1 cover.\n",
      "Cover state <MirrorCoverState.INMOTION: 8>\n",
      "Cover state <MirrorCoverState.OPENED: 7>\n",
      "Gathering settings.\n",
      "No settings for atmcs.\n",
      "Using                                                                                                                                 from settingVersions event.\n",
      "No settings for atptg.\n",
      "Couldn't get settingVersions event. Using empty settings.\n",
      "No settings for ataos.\n",
      "Using current from settingVersions event.\n",
      "No settings for atpneumatics.\n",
      "Using                                                                                                                                 from settingVersions event.\n",
      "No settings for athexapod.\n",
      "Using current from settingVersions event.\n",
      "No settings for atdome.\n",
      "Using test from settingVersions event.\n",
      "No settings for atdometrajectory.\n",
      "Using  from settingVersions event.\n",
      "Settings versions: {'atmcs': '                                                                                                                               ', 'atptg': '', 'ataos': 'current', 'atpneumatics': '                                                                                                                               ', 'athexapod': 'current', 'atdome': 'test', 'atdometrajectory': ''}\n",
      "Enabling all components\n",
      "Enabling  atmcs\n",
      "Enabling  atptg\n",
      "Enabling  ataos\n",
      "Enabling  atpneumatics\n",
      "Enabling  athexapod\n",
      "Enabling  atdome\n",
      "Enabling  atdometrajectory\n",
      "[atmcs]::[<State.ENABLED: 2>]\n",
      "[atptg]::[<State.ENABLED: 2>]\n",
      "[ataos]::[<State.ENABLED: 2>]\n",
      "[atpneumatics]::[<State.ENABLED: 2>]\n",
      "[athexapod]::[<State.ENABLED: 2>]\n",
      "[atdome]::[<State.ENABLED: 2>]\n",
      "[atdometrajectory]::[<State.DISABLED: 1>, <State.ENABLED: 2>]\n",
      "All components enabled.\n",
      "Enable ATAOS corrections.\n"
     ]
    }
   ],
   "source": [
    "#Time to open dome, at 2015 local time \n",
    "# !!!! STOP !!!!\n",
    "#This command will open the dome and.  Do not run until the sky is sufficiently dark! \n",
    "await attcs.startup()\n",
    "#You may want to verify that the dome is open"
   ]
  },
  {
   "cell_type": "code",
   "execution_count": 31,
   "metadata": {},
   "outputs": [
    {
     "name": "stdout",
     "output_type": "stream",
     "text": [
      "Slewing to HD 45348: 06 23 57.1098 -52 41 44.381\n",
      "Parallactic angle: -35.48081143009736 | Sky Angle: 3.1519480465341587\n",
      "Sending command\n",
      "Stop tracking.\n",
      "Mount tracking state is 8\n",
      "In Position: False.\n",
      "RemoteTelemetry(ATPtg, 0, currentTargetStatus) falling behind; read 15 messages\n",
      "RemoteTelemetry(ATDome, 0, position) falling behind; read 14 messages\n",
      "RemoteTelemetry(ATPtg, 0, timeAndDate) falling behind; read 14 messages\n",
      "RemoteTelemetry(ATPtg, 0, mountStatus) falling behind; read 16 messages\n",
      "RemoteTelemetry(ATPtg, 0, guidingAndOffsets) falling behind; read 16 messages\n",
      "Scheduling check coroutines\n",
      "process as completed...\n",
      "Got False\n",
      "Telescope not in position\n",
      "atmcs: <State.ENABLED: 2>\n",
      "atptg: <State.ENABLED: 2>\n",
      "ataos: <State.ENABLED: 2>\n",
      "atpneumatics: <State.ENABLED: 2>\n",
      "athexapod: <State.ENABLED: 2>\n",
      "atdome: <State.ENABLED: 2>\n",
      "atdometrajectory: <State.ENABLED: 2>\n",
      "[Telescope] delta Alt = -015.607 | delta Az= +155.670 [Dome] delta Az = +062.690\n",
      "[Telescope] delta Alt = -014.933 | delta Az= +152.808 [Dome] delta Az = +061.770\n",
      "[Telescope] delta Alt = -012.719 | delta Az= +148.821 [Dome] delta Az = +060.150\n",
      "[Telescope] delta Alt = -009.191 | delta Az= +144.829 [Dome] delta Az = +057.470\n",
      "[Telescope] delta Alt = -005.263 | delta Az= +140.839 [Dome] delta Az = +053.870\n",
      "[Telescope] delta Alt = -002.038 | delta Az= +136.849 [Dome] delta Az = +049.370\n",
      "[Telescope] delta Alt = -000.296 | delta Az= +132.857 [Dome] delta Az = +043.940\n",
      "[Telescope] delta Alt = +000.054 | delta Az= +128.868 [Dome] delta Az = +037.640\n",
      "[Telescope] delta Alt = +000.054 | delta Az= +124.879 [Dome] delta Az = +031.440\n",
      "[Telescope] delta Alt = +000.053 | delta Az= +120.886 [Dome] delta Az = +024.550\n",
      "[Telescope] delta Alt = +000.053 | delta Az= +116.895 [Dome] delta Az = +017.670\n",
      "[Telescope] delta Alt = +000.053 | delta Az= +112.906 [Dome] delta Az = +010.810\n",
      "[Telescope] delta Alt = +000.053 | delta Az= +108.916 [Dome] delta Az = +003.910\n",
      "[Telescope] delta Alt = +000.053 | delta Az= +104.925 [Dome] delta Az = -001.140\n",
      "[Telescope] delta Alt = +000.054 | delta Az= +100.934 [Dome] delta Az = -002.970\n",
      "[Telescope] delta Alt = +000.054 | delta Az= +096.945 [Dome] delta Az = -002.980\n",
      "[Telescope] delta Alt = +000.054 | delta Az= +092.954 [Dome] delta Az = -002.980\n",
      "[Telescope] delta Alt = +000.053 | delta Az= +088.963 [Dome] delta Az = -002.980\n",
      "[Telescope] delta Alt = +000.053 | delta Az= +084.974 [Dome] delta Az = -002.980\n",
      "[Telescope] delta Alt = +000.053 | delta Az= +080.982 [Dome] delta Az = -002.980\n",
      "[Telescope] delta Alt = +000.054 | delta Az= +076.990 [Dome] delta Az = -002.980\n",
      "[Telescope] delta Alt = +000.054 | delta Az= +073.002 [Dome] delta Az = -002.980\n",
      "[Telescope] delta Alt = +000.053 | delta Az= +069.011 [Dome] delta Az = -002.980\n",
      "[Telescope] delta Alt = +000.053 | delta Az= +065.019 [Dome] delta Az = -002.980\n",
      "[Telescope] delta Alt = +000.053 | delta Az= +061.029 [Dome] delta Az = -002.980\n",
      "[Telescope] delta Alt = +000.053 | delta Az= +057.039 [Dome] delta Az = -002.980\n",
      "[Telescope] delta Alt = +000.053 | delta Az= +053.050 [Dome] delta Az = -002.980\n",
      "[Telescope] delta Alt = +000.053 | delta Az= +049.058 [Dome] delta Az = -002.980\n",
      "[Telescope] delta Alt = +000.053 | delta Az= +045.067 [Dome] delta Az = -002.980\n",
      "[Telescope] delta Alt = +000.053 | delta Az= +041.078 [Dome] delta Az = -002.980\n",
      "[Telescope] delta Alt = +000.053 | delta Az= +037.087 [Dome] delta Az = -002.980\n",
      "[Telescope] delta Alt = +000.053 | delta Az= +033.097 [Dome] delta Az = -002.980\n",
      "[Telescope] delta Alt = +000.053 | delta Az= +029.109 [Dome] delta Az = -002.980\n",
      "[Telescope] delta Alt = +000.053 | delta Az= +025.134 [Dome] delta Az = -002.980\n",
      "[Telescope] delta Alt = +000.053 | delta Az= +021.222 [Dome] delta Az = -002.980\n",
      "[Telescope] delta Alt = +000.053 | delta Az= +017.439 [Dome] delta Az = -002.980\n",
      "[Telescope] delta Alt = +000.053 | delta Az= +013.862 [Dome] delta Az = -002.980\n",
      "[Telescope] delta Alt = +000.053 | delta Az= +010.577 [Dome] delta Az = -002.980\n",
      "[Telescope] delta Alt = +000.053 | delta Az= +007.668 [Dome] delta Az = -002.980\n",
      "[Telescope] delta Alt = +000.053 | delta Az= +005.206 [Dome] delta Az = -002.980\n",
      "[Telescope] delta Alt = +000.053 | delta Az= +003.240 [Dome] delta Az = -002.980\n",
      "[Telescope] delta Alt = +000.053 | delta Az= +001.795 [Dome] delta Az = -002.980\n",
      "[Telescope] delta Alt = +000.053 | delta Az= +000.853 [Dome] delta Az = -002.980\n",
      "[Telescope] delta Alt = +000.053 | delta Az= +000.354 [Dome] delta Az = -002.980\n",
      "[Telescope] delta Alt = +000.053 | delta Az= +000.188 [Dome] delta Az = -002.980\n",
      "[Telescope] delta Alt = +000.053 | delta Az= +000.175 [Dome] delta Az = -002.980\n",
      "Got True\n",
      "Waiting for telescope to settle.\n",
      "[Telescope] delta Alt = +000.053 | delta Az= +000.175 [Dome] delta Az = -002.980\n",
      "[Telescope] delta Alt = +000.053 | delta Az= +000.175 [Dome] delta Az = -002.980\n",
      "Telescope in position.\n",
      "ATDome in position.\n",
      "['Telescope in position.', 'ATDome in position.']\n"
     ]
    }
   ],
   "source": [
    "await attcs.slew_object(name = \"HD 45348\", pa_ang=0.0, slew_timeout=240.)"
   ]
  },
  {
   "cell_type": "code",
   "execution_count": 32,
   "metadata": {},
   "outputs": [
    {
     "name": "stdout",
     "output_type": "stream",
     "text": [
      "Generating group_id\n",
      "OBJECT 0001 - 0001\n",
      "Waiting for header service LFO before continuing\n",
      "RemoteEvent(ATHeaderService, 0, logMessage) falling behind; read 12 messages\n"
     ]
    },
    {
     "data": {
      "text/plain": [
       "array([2020022100325])"
      ]
     },
     "execution_count": 32,
     "metadata": {},
     "output_type": "execute_result"
    }
   ],
   "source": [
    "await latiss.take_object(exptime=0.1, n=1, filter='RG610',grating='empty_1')"
   ]
  },
  {
   "cell_type": "code",
   "execution_count": 33,
   "metadata": {},
   "outputs": [
    {
     "name": "stdout",
     "output_type": "stream",
     "text": [
      "Generating group_id\n",
      "OBJECT 0001 - 0001\n",
      "Waiting for header service LFO before continuing\n",
      "RemoteEvent(ATHeaderService, 0, logMessage) falling behind; read 11 messages\n"
     ]
    },
    {
     "data": {
      "text/plain": [
       "array([2020022100326])"
      ]
     },
     "execution_count": 33,
     "metadata": {},
     "output_type": "execute_result"
    }
   ],
   "source": [
    "await latiss.take_object(exptime=10.0, n=1, filter='empty_1',grating='empty_1')"
   ]
  },
  {
   "cell_type": "code",
   "execution_count": 34,
   "metadata": {},
   "outputs": [
    {
     "name": "stdout",
     "output_type": "stream",
     "text": [
      "Generating group_id\n",
      "OBJECT 0001 - 0001\n",
      "Waiting for header service LFO before continuing\n",
      "RemoteEvent(ATHeaderService, 0, logMessage) falling behind; read 12 messages\n"
     ]
    },
    {
     "data": {
      "text/plain": [
       "array([2020022100327])"
      ]
     },
     "execution_count": 34,
     "metadata": {},
     "output_type": "execute_result"
    }
   ],
   "source": [
    "await latiss.take_object(exptime=10.0, n=1, filter='empty_1',grating='empty_1')"
   ]
  },
  {
   "cell_type": "code",
   "execution_count": 37,
   "metadata": {},
   "outputs": [
    {
     "name": "stdout",
     "output_type": "stream",
     "text": [
      "Applying Az/El offset: 3600.0/ 0.0 \n",
      "Waiting for telescope to settle.\n",
      "Done\n"
     ]
    }
   ],
   "source": [
    "await attcs.offset_azel(az = 1.0 * 3600.0, el = 0.0)"
   ]
  },
  {
   "cell_type": "code",
   "execution_count": 38,
   "metadata": {},
   "outputs": [
    {
     "name": "stdout",
     "output_type": "stream",
     "text": [
      "Generating group_id\n",
      "OBJECT 0001 - 0001\n",
      "Waiting for header service LFO before continuing\n"
     ]
    },
    {
     "data": {
      "text/plain": [
       "array([2020022100328])"
      ]
     },
     "execution_count": 38,
     "metadata": {},
     "output_type": "execute_result"
    }
   ],
   "source": [
    "await latiss.take_object(exptime=10.0, n=1, filter='empty_1',grating='empty_1')"
   ]
  },
  {
   "cell_type": "code",
   "execution_count": 39,
   "metadata": {},
   "outputs": [
    {
     "name": "stdout",
     "output_type": "stream",
     "text": [
      "Generating group_id\n",
      "OBJECT 0001 - 0001\n",
      "Waiting for header service LFO before continuing\n",
      "RemoteEvent(ATHeaderService, 0, logMessage) falling behind; read 10 messages\n"
     ]
    },
    {
     "data": {
      "text/plain": [
       "array([2020022100329])"
      ]
     },
     "execution_count": 39,
     "metadata": {},
     "output_type": "execute_result"
    }
   ],
   "source": [
    "await latiss.take_object(exptime=10.0, n=1, filter='RG610',grating='empty_1')"
   ]
  },
  {
   "cell_type": "code",
   "execution_count": 40,
   "metadata": {},
   "outputs": [
    {
     "name": "stdout",
     "output_type": "stream",
     "text": [
      "Generating group_id\n",
      "OBJECT 0001 - 0001\n",
      "Waiting for header service LFO before continuing\n",
      "RemoteEvent(ATHeaderService, 0, logMessage) falling behind; read 11 messages\n"
     ]
    },
    {
     "data": {
      "text/plain": [
       "array([2020022100330])"
      ]
     },
     "execution_count": 40,
     "metadata": {},
     "output_type": "execute_result"
    }
   ],
   "source": [
    "await latiss.take_object(exptime=30.0, n=1, filter='RG610',grating='empty_1')"
   ]
  },
  {
   "cell_type": "code",
   "execution_count": 41,
   "metadata": {},
   "outputs": [
    {
     "name": "stdout",
     "output_type": "stream",
     "text": [
      "Generating group_id\n",
      "OBJECT 0001 - 0001\n",
      "Waiting for header service LFO before continuing\n",
      "RemoteEvent(ATHeaderService, 0, logMessage) falling behind; read 10 messages\n"
     ]
    },
    {
     "data": {
      "text/plain": [
       "array([2020022100331])"
      ]
     },
     "execution_count": 41,
     "metadata": {},
     "output_type": "execute_result"
    }
   ],
   "source": [
    "await latiss.take_object(exptime=30.0, n=1, filter='empty_1',grating='empty_1')"
   ]
  },
  {
   "cell_type": "code",
   "execution_count": 42,
   "metadata": {},
   "outputs": [
    {
     "name": "stdout",
     "output_type": "stream",
     "text": [
      "Generating group_id\n",
      "OBJECT 0001 - 0001\n",
      "Waiting for header service LFO before continuing\n"
     ]
    },
    {
     "data": {
      "text/plain": [
       "array([2020022100332])"
      ]
     },
     "execution_count": 42,
     "metadata": {},
     "output_type": "execute_result"
    }
   ],
   "source": [
    "await latiss.take_object(exptime=30.0, n=1, filter='empty_1',grating='empty_1')"
   ]
  },
  {
   "cell_type": "code",
   "execution_count": 43,
   "metadata": {},
   "outputs": [
    {
     "name": "stdout",
     "output_type": "stream",
     "text": [
      "Generating group_id\n",
      "OBJECT 0001 - 0001\n",
      "Waiting for header service LFO before continuing\n",
      "RemoteEvent(ATHeaderService, 0, logMessage) falling behind; read 16 messages\n"
     ]
    },
    {
     "data": {
      "text/plain": [
       "array([2020022100333])"
      ]
     },
     "execution_count": 43,
     "metadata": {},
     "output_type": "execute_result"
    }
   ],
   "source": [
    "await latiss.take_object(exptime=45.0, n=1, filter='BG40',grating='empty_1')"
   ]
  },
  {
   "cell_type": "code",
   "execution_count": 44,
   "metadata": {},
   "outputs": [
    {
     "name": "stdout",
     "output_type": "stream",
     "text": [
      "Generating group_id\n",
      "OBJECT 0001 - 0001\n",
      "Waiting for header service LFO before continuing\n",
      "RemoteEvent(ATHeaderService, 0, logMessage) falling behind; read 14 messages\n"
     ]
    },
    {
     "data": {
      "text/plain": [
       "array([2020022100334])"
      ]
     },
     "execution_count": 44,
     "metadata": {},
     "output_type": "execute_result"
    }
   ],
   "source": [
    "await latiss.take_object(exptime=45.0, n=1, filter='empty_1',grating='empty_1')"
   ]
  },
  {
   "cell_type": "code",
   "execution_count": 45,
   "metadata": {},
   "outputs": [
    {
     "name": "stdout",
     "output_type": "stream",
     "text": [
      "Generating group_id\n",
      "OBJECT 0001 - 0001\n",
      "Waiting for header service LFO before continuing\n",
      "RemoteEvent(ATHeaderService, 0, logMessage) falling behind; read 12 messages\n"
     ]
    },
    {
     "data": {
      "text/plain": [
       "array([2020022100335])"
      ]
     },
     "execution_count": 45,
     "metadata": {},
     "output_type": "execute_result"
    }
   ],
   "source": [
    "await latiss.take_object(exptime=30.0, n=1, filter='RG610',grating='empty_1')"
   ]
  },
  {
   "cell_type": "code",
   "execution_count": 46,
   "metadata": {},
   "outputs": [
    {
     "name": "stdout",
     "output_type": "stream",
     "text": [
      "Generating group_id\n",
      "OBJECT 0001 - 0001\n",
      "Waiting for header service LFO before continuing\n",
      "RemoteEvent(ATHeaderService, 0, logMessage) falling behind; read 11 messages\n"
     ]
    },
    {
     "data": {
      "text/plain": [
       "array([2020022100336])"
      ]
     },
     "execution_count": 46,
     "metadata": {},
     "output_type": "execute_result"
    }
   ],
   "source": [
    "await latiss.take_object(exptime=60.0, n=1, filter='BG40',grating='empty_1')"
   ]
  },
  {
   "cell_type": "code",
   "execution_count": 47,
   "metadata": {},
   "outputs": [
    {
     "name": "stdout",
     "output_type": "stream",
     "text": [
      "Generating group_id\n",
      "OBJECT 0001 - 0001\n",
      "Waiting for header service LFO before continuing\n",
      "RemoteEvent(ATHeaderService, 0, logMessage) falling behind; read 13 messages\n"
     ]
    },
    {
     "data": {
      "text/plain": [
       "array([2020022100337])"
      ]
     },
     "execution_count": 47,
     "metadata": {},
     "output_type": "execute_result"
    }
   ],
   "source": [
    "await latiss.take_object(exptime=45.0, n=1, filter='empty_1',grating='empty_1')"
   ]
  },
  {
   "cell_type": "code",
   "execution_count": 48,
   "metadata": {},
   "outputs": [
    {
     "name": "stdout",
     "output_type": "stream",
     "text": [
      "Generating group_id\n",
      "OBJECT 0001 - 0001\n",
      "Waiting for header service LFO before continuing\n",
      "RemoteEvent(ATHeaderService, 0, logMessage) falling behind; read 15 messages\n"
     ]
    },
    {
     "data": {
      "text/plain": [
       "array([2020022100338])"
      ]
     },
     "execution_count": 48,
     "metadata": {},
     "output_type": "execute_result"
    }
   ],
   "source": [
    "await latiss.take_object(exptime=60.0, n=1, filter='RG610',grating='empty_1')"
   ]
  },
  {
   "cell_type": "code",
   "execution_count": 49,
   "metadata": {},
   "outputs": [
    {
     "name": "stdout",
     "output_type": "stream",
     "text": [
      "Generating group_id\n",
      "OBJECT 0001 - 0001\n",
      "Waiting for header service LFO before continuing\n",
      "RemoteEvent(ATHeaderService, 0, logMessage) falling behind; read 10 messages\n"
     ]
    },
    {
     "data": {
      "text/plain": [
       "array([2020022100339])"
      ]
     },
     "execution_count": 49,
     "metadata": {},
     "output_type": "execute_result"
    }
   ],
   "source": [
    "await latiss.take_object(exptime=45.0, n=1, filter='empty_1',grating='empty_1')"
   ]
  },
  {
   "cell_type": "code",
   "execution_count": 50,
   "metadata": {},
   "outputs": [
    {
     "name": "stdout",
     "output_type": "stream",
     "text": [
      "Generating group_id\n",
      "OBJECT 0001 - 0001\n",
      "Waiting for header service LFO before continuing\n",
      "RemoteEvent(ATHeaderService, 0, logMessage) falling behind; read 11 messages\n"
     ]
    },
    {
     "data": {
      "text/plain": [
       "array([2020022100340])"
      ]
     },
     "execution_count": 50,
     "metadata": {},
     "output_type": "execute_result"
    }
   ],
   "source": [
    "await latiss.take_object(exptime=60.0, n=1, filter='BG40',grating='empty_1')"
   ]
  },
  {
   "cell_type": "code",
   "execution_count": 51,
   "metadata": {},
   "outputs": [
    {
     "name": "stdout",
     "output_type": "stream",
     "text": [
      "Slewing to HD 45348: 06 23 57.1098 -52 41 44.381\n",
      "Parallactic angle: -26.450716596768697 | Sky Angle: 15.140826032713392\n",
      "Sending command\n",
      "Stop tracking.\n",
      "Mount tracking state is 9\n",
      "Tracking state: 10.\n",
      "Tracking state: 8.\n",
      "In Position: True.\n",
      "In Position: False.\n",
      "Scheduling check coroutines\n",
      "process as completed...\n",
      "Got False\n",
      "Telescope not in position\n",
      "atmcs: <State.ENABLED: 2>\n",
      "atptg: <State.ENABLED: 2>\n",
      "ataos: <State.ENABLED: 2>\n",
      "atpneumatics: <State.ENABLED: 2>\n",
      "athexapod: <State.ENABLED: 2>\n",
      "atdome: <State.ENABLED: 2>\n",
      "atdometrajectory: <State.ENABLED: 2>\n",
      "[Telescope] delta Alt = -000.045 | delta Az= +002.653 [Dome] delta Az = -002.980\n",
      "[Telescope] delta Alt = +000.042 | delta Az= +001.647 [Dome] delta Az = -002.980\n",
      "[Telescope] delta Alt = +000.041 | delta Az= +000.211 [Dome] delta Az = -002.980\n",
      "[Telescope] delta Alt = +000.041 | delta Az= +000.201 [Dome] delta Az = -002.980\n",
      "Got True\n",
      "Waiting for telescope to settle.\n",
      "[Telescope] delta Alt = +000.041 | delta Az= +000.201 [Dome] delta Az = -002.980\n",
      "Telescope in position.\n",
      "ATDome in position.\n",
      "['Telescope in position.', 'ATDome in position.']\n"
     ]
    }
   ],
   "source": [
    "await attcs.slew_object(name = \"HD 45348\", pa_ang=0.0, slew_timeout=240.)"
   ]
  },
  {
   "cell_type": "code",
   "execution_count": 52,
   "metadata": {},
   "outputs": [
    {
     "name": "stdout",
     "output_type": "stream",
     "text": [
      "Generating group_id\n",
      "OBJECT 0001 - 0001\n",
      "Waiting for header service LFO before continuing\n",
      "RemoteEvent(ATHeaderService, 0, logMessage) falling behind; read 12 messages\n"
     ]
    },
    {
     "data": {
      "text/plain": [
       "array([2020022100341])"
      ]
     },
     "execution_count": 52,
     "metadata": {},
     "output_type": "execute_result"
    }
   ],
   "source": [
    "await latiss.take_object(exptime=0.1, n=1, filter='empty_1',grating='empty_1')"
   ]
  },
  {
   "cell_type": "code",
   "execution_count": 53,
   "metadata": {},
   "outputs": [
    {
     "data": {
      "text/plain": [
       "<lsst.ts.salobj.ddsutil.ATAOS_ackcmd_33d5c92b at 0x7f8c143e1b00>"
      ]
     },
     "execution_count": 53,
     "metadata": {},
     "output_type": "execute_result"
    }
   ],
   "source": [
    "best_focus_fit = -0.15\n",
    "focus_offset = 4.0\n",
    "await attcs.ataos.cmd_applyFocusOffset.set_start(offset=focus_offset)"
   ]
  },
  {
   "cell_type": "code",
   "execution_count": 54,
   "metadata": {},
   "outputs": [
    {
     "name": "stdout",
     "output_type": "stream",
     "text": [
      "Generating group_id\n",
      "OBJECT 0001 - 0001\n"
     ]
    },
    {
     "ename": "AckError",
     "evalue": "msg='Command failed', ackcmd=(ackcmd private_seqNum=2133383782, ack=<SalRetCode.CMD_NOPERM: -300>, error=0, result='Ack : NO Command rejected: Invalid exposure time')",
     "output_type": "error",
     "traceback": [
      "\u001b[0;31m\u001b[0m",
      "\u001b[0;31mAckError\u001b[0mTraceback (most recent call last)",
      "\u001b[0;32m<ipython-input-54-6fe4d99c9601>\u001b[0m in \u001b[0;36masync-def-wrapper\u001b[0;34m()\u001b[0m\n",
      "\u001b[0;32m~/repos/ts_standardscripts/python/lsst/ts/standardscripts/auxtel/latiss.py\u001b[0m in \u001b[0;36mtake_object\u001b[0;34m(self, exptime, n, filter, grating, linear_stage, group_id, checkpoint)\u001b[0m\n\u001b[1;32m    171\u001b[0m                                        \u001b[0mlinear_stage\u001b[0m\u001b[0;34m=\u001b[0m\u001b[0mlinear_stage\u001b[0m\u001b[0;34m,\u001b[0m\u001b[0;34m\u001b[0m\u001b[0;34m\u001b[0m\u001b[0m\n\u001b[1;32m    172\u001b[0m                                        \u001b[0mgroup_id\u001b[0m\u001b[0;34m=\u001b[0m\u001b[0mgroup_id\u001b[0m\u001b[0;34m,\u001b[0m\u001b[0;34m\u001b[0m\u001b[0;34m\u001b[0m\u001b[0m\n\u001b[0;32m--> 173\u001b[0;31m                                        checkpoint=checkpoint)\n\u001b[0m\u001b[1;32m    174\u001b[0m \u001b[0;34m\u001b[0m\u001b[0m\n\u001b[1;32m    175\u001b[0m     async def take_engtest(self, exptime, n,\n",
      "\u001b[0;32m~/repos/ts_standardscripts/python/lsst/ts/standardscripts/auxtel/latiss.py\u001b[0m in \u001b[0;36mtake_imgtype\u001b[0;34m(self, imgtype, exptime, n, filter, grating, linear_stage, group_id, checkpoint)\u001b[0m\n\u001b[1;32m    257\u001b[0m                                                 \u001b[0mfilter\u001b[0m\u001b[0;34m=\u001b[0m\u001b[0mfilter\u001b[0m \u001b[0;32mif\u001b[0m \u001b[0mi\u001b[0m \u001b[0;34m==\u001b[0m \u001b[0;36m0\u001b[0m \u001b[0;32melse\u001b[0m \u001b[0;32mNone\u001b[0m\u001b[0;34m,\u001b[0m\u001b[0;34m\u001b[0m\u001b[0;34m\u001b[0m\u001b[0m\n\u001b[1;32m    258\u001b[0m                                                 \u001b[0mgrating\u001b[0m\u001b[0;34m=\u001b[0m\u001b[0mgrating\u001b[0m \u001b[0;32mif\u001b[0m \u001b[0mi\u001b[0m \u001b[0;34m==\u001b[0m \u001b[0;36m0\u001b[0m \u001b[0;32melse\u001b[0m \u001b[0;32mNone\u001b[0m\u001b[0;34m,\u001b[0m\u001b[0;34m\u001b[0m\u001b[0;34m\u001b[0m\u001b[0m\n\u001b[0;32m--> 259\u001b[0;31m                                                 linear_stage=linear_stage if i == 0 else None)\n\u001b[0m\u001b[1;32m    260\u001b[0m \u001b[0;34m\u001b[0m\u001b[0m\n\u001b[1;32m    261\u001b[0m             \u001b[0;31m# parse out visitID from filename -\u001b[0m\u001b[0;34m\u001b[0m\u001b[0;34m\u001b[0m\u001b[0;34m\u001b[0m\u001b[0m\n",
      "\u001b[0;32m~/repos/ts_standardscripts/python/lsst/ts/standardscripts/auxtel/latiss.py\u001b[0m in \u001b[0;36mtake_image\u001b[0;34m(self, exptime, shutter, image_type, group_id, filter, grating, linear_stage, science, guide, wfs)\u001b[0m\n\u001b[1;32m    319\u001b[0m                                  \u001b[0mimage_type\u001b[0m\u001b[0;34m=\u001b[0m\u001b[0mimage_type\u001b[0m\u001b[0;34m,\u001b[0m\u001b[0;34m\u001b[0m\u001b[0;34m\u001b[0m\u001b[0m\n\u001b[1;32m    320\u001b[0m                                  \u001b[0mgroup_id\u001b[0m\u001b[0;34m=\u001b[0m\u001b[0mgroup_id\u001b[0m\u001b[0;34m,\u001b[0m\u001b[0;34m\u001b[0m\u001b[0;34m\u001b[0m\u001b[0m\n\u001b[0;32m--> 321\u001b[0;31m                                  science=science, guide=guide, wfs=wfs)\n\u001b[0m\u001b[1;32m    322\u001b[0m \u001b[0;34m\u001b[0m\u001b[0m\n\u001b[1;32m    323\u001b[0m     async def expose(self, exp_time, shutter, image_type, group_id,\n",
      "\u001b[0;32m~/repos/ts_standardscripts/python/lsst/ts/standardscripts/auxtel/latiss.py\u001b[0m in \u001b[0;36mexpose\u001b[0;34m(self, exp_time, shutter, image_type, group_id, science, guide, wfs)\u001b[0m\n\u001b[1;32m    368\u001b[0m             \u001b[0mself\u001b[0m\u001b[0;34m.\u001b[0m\u001b[0matcamera\u001b[0m\u001b[0;34m.\u001b[0m\u001b[0mevt_endReadout\u001b[0m\u001b[0;34m.\u001b[0m\u001b[0mflush\u001b[0m\u001b[0;34m(\u001b[0m\u001b[0;34m)\u001b[0m\u001b[0;34m\u001b[0m\u001b[0;34m\u001b[0m\u001b[0m\n\u001b[1;32m    369\u001b[0m             \u001b[0mself\u001b[0m\u001b[0;34m.\u001b[0m\u001b[0matheaderservice\u001b[0m\u001b[0;34m.\u001b[0m\u001b[0mevt_largeFileObjectAvailable\u001b[0m\u001b[0;34m.\u001b[0m\u001b[0mflush\u001b[0m\u001b[0;34m(\u001b[0m\u001b[0;34m)\u001b[0m\u001b[0;34m\u001b[0m\u001b[0;34m\u001b[0m\u001b[0m\n\u001b[0;32m--> 370\u001b[0;31m             \u001b[0;32mawait\u001b[0m \u001b[0mself\u001b[0m\u001b[0;34m.\u001b[0m\u001b[0matcamera\u001b[0m\u001b[0;34m.\u001b[0m\u001b[0mcmd_takeImages\u001b[0m\u001b[0;34m.\u001b[0m\u001b[0mstart\u001b[0m\u001b[0;34m(\u001b[0m\u001b[0mtimeout\u001b[0m\u001b[0;34m=\u001b[0m\u001b[0mtimeout\u001b[0m \u001b[0;34m+\u001b[0m \u001b[0mexp_time\u001b[0m\u001b[0;34m)\u001b[0m\u001b[0;34m\u001b[0m\u001b[0;34m\u001b[0m\u001b[0m\n\u001b[0m\u001b[1;32m    371\u001b[0m             end_readout = await self.atcamera.evt_endReadout.next(flush=False,\n\u001b[1;32m    372\u001b[0m                                                                   timeout=timeout)\n",
      "\u001b[0;32m~/repos/ts_salobj/python/lsst/ts/salobj/topics/remote_command.py\u001b[0m in \u001b[0;36mstart\u001b[0;34m(self, data, timeout, wait_done)\u001b[0m\n\u001b[1;32m    360\u001b[0m         \u001b[0mcmd_info\u001b[0m \u001b[0;34m=\u001b[0m \u001b[0m_CommandInfo\u001b[0m\u001b[0;34m(\u001b[0m\u001b[0mremote_command\u001b[0m\u001b[0;34m=\u001b[0m\u001b[0mself\u001b[0m\u001b[0;34m,\u001b[0m \u001b[0mseq_num\u001b[0m\u001b[0;34m=\u001b[0m\u001b[0mseq_num\u001b[0m\u001b[0;34m,\u001b[0m \u001b[0mwait_done\u001b[0m\u001b[0;34m=\u001b[0m\u001b[0mwait_done\u001b[0m\u001b[0;34m)\u001b[0m\u001b[0;34m\u001b[0m\u001b[0;34m\u001b[0m\u001b[0m\n\u001b[1;32m    361\u001b[0m         \u001b[0mself\u001b[0m\u001b[0;34m.\u001b[0m\u001b[0msalinfo\u001b[0m\u001b[0;34m.\u001b[0m\u001b[0m_running_cmds\u001b[0m\u001b[0;34m[\u001b[0m\u001b[0mseq_num\u001b[0m\u001b[0;34m]\u001b[0m \u001b[0;34m=\u001b[0m \u001b[0mcmd_info\u001b[0m\u001b[0;34m\u001b[0m\u001b[0;34m\u001b[0m\u001b[0m\n\u001b[0;32m--> 362\u001b[0;31m         \u001b[0;32mreturn\u001b[0m \u001b[0;32mawait\u001b[0m \u001b[0mcmd_info\u001b[0m\u001b[0;34m.\u001b[0m\u001b[0mnext_ackcmd\u001b[0m\u001b[0;34m(\u001b[0m\u001b[0mtimeout\u001b[0m\u001b[0;34m=\u001b[0m\u001b[0mtimeout\u001b[0m\u001b[0;34m)\u001b[0m\u001b[0;34m\u001b[0m\u001b[0;34m\u001b[0m\u001b[0m\n\u001b[0m",
      "\u001b[0;32m~/repos/ts_salobj/python/lsst/ts/salobj/topics/remote_command.py\u001b[0m in \u001b[0;36mnext_ackcmd\u001b[0;34m(self, timeout)\u001b[0m\n\u001b[1;32m    163\u001b[0m             \u001b[0;31m# print(f\"next_ackcmd got {ackcmd.ack} from _basic_next_ack\")\u001b[0m\u001b[0;34m\u001b[0m\u001b[0;34m\u001b[0m\u001b[0;34m\u001b[0m\u001b[0m\n\u001b[1;32m    164\u001b[0m             \u001b[0;32mif\u001b[0m \u001b[0mackcmd\u001b[0m\u001b[0;34m.\u001b[0m\u001b[0mack\u001b[0m \u001b[0;32min\u001b[0m \u001b[0mself\u001b[0m\u001b[0;34m.\u001b[0m\u001b[0mfailed_ack_codes\u001b[0m\u001b[0;34m:\u001b[0m\u001b[0;34m\u001b[0m\u001b[0;34m\u001b[0m\u001b[0m\n\u001b[0;32m--> 165\u001b[0;31m                 \u001b[0;32mraise\u001b[0m \u001b[0mbase\u001b[0m\u001b[0;34m.\u001b[0m\u001b[0mAckError\u001b[0m\u001b[0;34m(\u001b[0m\u001b[0mmsg\u001b[0m\u001b[0;34m=\u001b[0m\u001b[0;34m\"Command failed\"\u001b[0m\u001b[0;34m,\u001b[0m \u001b[0mackcmd\u001b[0m\u001b[0;34m=\u001b[0m\u001b[0mackcmd\u001b[0m\u001b[0;34m)\u001b[0m\u001b[0;34m\u001b[0m\u001b[0;34m\u001b[0m\u001b[0m\n\u001b[0m\u001b[1;32m    166\u001b[0m             \u001b[0;32mreturn\u001b[0m \u001b[0mackcmd\u001b[0m\u001b[0;34m\u001b[0m\u001b[0;34m\u001b[0m\u001b[0m\n\u001b[1;32m    167\u001b[0m         \u001b[0;32mexcept\u001b[0m \u001b[0masyncio\u001b[0m\u001b[0;34m.\u001b[0m\u001b[0mTimeoutError\u001b[0m\u001b[0;34m:\u001b[0m\u001b[0;34m\u001b[0m\u001b[0;34m\u001b[0m\u001b[0m\n",
      "\u001b[0;31mAckError\u001b[0m: msg='Command failed', ackcmd=(ackcmd private_seqNum=2133383782, ack=<SalRetCode.CMD_NOPERM: -300>, error=0, result='Ack : NO Command rejected: Invalid exposure time')"
     ]
    }
   ],
   "source": [
    "await latiss.take_object(exptime=0.05, n=1, filter='empty_1',grating='empty_1')"
   ]
  },
  {
   "cell_type": "code",
   "execution_count": 55,
   "metadata": {},
   "outputs": [
    {
     "name": "stdout",
     "output_type": "stream",
     "text": [
      "Generating group_id\n",
      "OBJECT 0001 - 0001\n"
     ]
    },
    {
     "ename": "AckError",
     "evalue": "msg='Command failed', ackcmd=(ackcmd private_seqNum=2133383783, ack=<SalRetCode.CMD_NOPERM: -300>, error=0, result='Ack : NO Command rejected: Invalid exposure time')",
     "output_type": "error",
     "traceback": [
      "\u001b[0;31m\u001b[0m",
      "\u001b[0;31mAckError\u001b[0mTraceback (most recent call last)",
      "\u001b[0;32m<ipython-input-55-a98323505e74>\u001b[0m in \u001b[0;36masync-def-wrapper\u001b[0;34m()\u001b[0m\n",
      "\u001b[0;32m~/repos/ts_standardscripts/python/lsst/ts/standardscripts/auxtel/latiss.py\u001b[0m in \u001b[0;36mtake_object\u001b[0;34m(self, exptime, n, filter, grating, linear_stage, group_id, checkpoint)\u001b[0m\n\u001b[1;32m    171\u001b[0m                                        \u001b[0mlinear_stage\u001b[0m\u001b[0;34m=\u001b[0m\u001b[0mlinear_stage\u001b[0m\u001b[0;34m,\u001b[0m\u001b[0;34m\u001b[0m\u001b[0;34m\u001b[0m\u001b[0m\n\u001b[1;32m    172\u001b[0m                                        \u001b[0mgroup_id\u001b[0m\u001b[0;34m=\u001b[0m\u001b[0mgroup_id\u001b[0m\u001b[0;34m,\u001b[0m\u001b[0;34m\u001b[0m\u001b[0;34m\u001b[0m\u001b[0m\n\u001b[0;32m--> 173\u001b[0;31m                                        checkpoint=checkpoint)\n\u001b[0m\u001b[1;32m    174\u001b[0m \u001b[0;34m\u001b[0m\u001b[0m\n\u001b[1;32m    175\u001b[0m     async def take_engtest(self, exptime, n,\n",
      "\u001b[0;32m~/repos/ts_standardscripts/python/lsst/ts/standardscripts/auxtel/latiss.py\u001b[0m in \u001b[0;36mtake_imgtype\u001b[0;34m(self, imgtype, exptime, n, filter, grating, linear_stage, group_id, checkpoint)\u001b[0m\n\u001b[1;32m    257\u001b[0m                                                 \u001b[0mfilter\u001b[0m\u001b[0;34m=\u001b[0m\u001b[0mfilter\u001b[0m \u001b[0;32mif\u001b[0m \u001b[0mi\u001b[0m \u001b[0;34m==\u001b[0m \u001b[0;36m0\u001b[0m \u001b[0;32melse\u001b[0m \u001b[0;32mNone\u001b[0m\u001b[0;34m,\u001b[0m\u001b[0;34m\u001b[0m\u001b[0;34m\u001b[0m\u001b[0m\n\u001b[1;32m    258\u001b[0m                                                 \u001b[0mgrating\u001b[0m\u001b[0;34m=\u001b[0m\u001b[0mgrating\u001b[0m \u001b[0;32mif\u001b[0m \u001b[0mi\u001b[0m \u001b[0;34m==\u001b[0m \u001b[0;36m0\u001b[0m \u001b[0;32melse\u001b[0m \u001b[0;32mNone\u001b[0m\u001b[0;34m,\u001b[0m\u001b[0;34m\u001b[0m\u001b[0;34m\u001b[0m\u001b[0m\n\u001b[0;32m--> 259\u001b[0;31m                                                 linear_stage=linear_stage if i == 0 else None)\n\u001b[0m\u001b[1;32m    260\u001b[0m \u001b[0;34m\u001b[0m\u001b[0m\n\u001b[1;32m    261\u001b[0m             \u001b[0;31m# parse out visitID from filename -\u001b[0m\u001b[0;34m\u001b[0m\u001b[0;34m\u001b[0m\u001b[0;34m\u001b[0m\u001b[0m\n",
      "\u001b[0;32m~/repos/ts_standardscripts/python/lsst/ts/standardscripts/auxtel/latiss.py\u001b[0m in \u001b[0;36mtake_image\u001b[0;34m(self, exptime, shutter, image_type, group_id, filter, grating, linear_stage, science, guide, wfs)\u001b[0m\n\u001b[1;32m    319\u001b[0m                                  \u001b[0mimage_type\u001b[0m\u001b[0;34m=\u001b[0m\u001b[0mimage_type\u001b[0m\u001b[0;34m,\u001b[0m\u001b[0;34m\u001b[0m\u001b[0;34m\u001b[0m\u001b[0m\n\u001b[1;32m    320\u001b[0m                                  \u001b[0mgroup_id\u001b[0m\u001b[0;34m=\u001b[0m\u001b[0mgroup_id\u001b[0m\u001b[0;34m,\u001b[0m\u001b[0;34m\u001b[0m\u001b[0;34m\u001b[0m\u001b[0m\n\u001b[0;32m--> 321\u001b[0;31m                                  science=science, guide=guide, wfs=wfs)\n\u001b[0m\u001b[1;32m    322\u001b[0m \u001b[0;34m\u001b[0m\u001b[0m\n\u001b[1;32m    323\u001b[0m     async def expose(self, exp_time, shutter, image_type, group_id,\n",
      "\u001b[0;32m~/repos/ts_standardscripts/python/lsst/ts/standardscripts/auxtel/latiss.py\u001b[0m in \u001b[0;36mexpose\u001b[0;34m(self, exp_time, shutter, image_type, group_id, science, guide, wfs)\u001b[0m\n\u001b[1;32m    368\u001b[0m             \u001b[0mself\u001b[0m\u001b[0;34m.\u001b[0m\u001b[0matcamera\u001b[0m\u001b[0;34m.\u001b[0m\u001b[0mevt_endReadout\u001b[0m\u001b[0;34m.\u001b[0m\u001b[0mflush\u001b[0m\u001b[0;34m(\u001b[0m\u001b[0;34m)\u001b[0m\u001b[0;34m\u001b[0m\u001b[0;34m\u001b[0m\u001b[0m\n\u001b[1;32m    369\u001b[0m             \u001b[0mself\u001b[0m\u001b[0;34m.\u001b[0m\u001b[0matheaderservice\u001b[0m\u001b[0;34m.\u001b[0m\u001b[0mevt_largeFileObjectAvailable\u001b[0m\u001b[0;34m.\u001b[0m\u001b[0mflush\u001b[0m\u001b[0;34m(\u001b[0m\u001b[0;34m)\u001b[0m\u001b[0;34m\u001b[0m\u001b[0;34m\u001b[0m\u001b[0m\n\u001b[0;32m--> 370\u001b[0;31m             \u001b[0;32mawait\u001b[0m \u001b[0mself\u001b[0m\u001b[0;34m.\u001b[0m\u001b[0matcamera\u001b[0m\u001b[0;34m.\u001b[0m\u001b[0mcmd_takeImages\u001b[0m\u001b[0;34m.\u001b[0m\u001b[0mstart\u001b[0m\u001b[0;34m(\u001b[0m\u001b[0mtimeout\u001b[0m\u001b[0;34m=\u001b[0m\u001b[0mtimeout\u001b[0m \u001b[0;34m+\u001b[0m \u001b[0mexp_time\u001b[0m\u001b[0;34m)\u001b[0m\u001b[0;34m\u001b[0m\u001b[0;34m\u001b[0m\u001b[0m\n\u001b[0m\u001b[1;32m    371\u001b[0m             end_readout = await self.atcamera.evt_endReadout.next(flush=False,\n\u001b[1;32m    372\u001b[0m                                                                   timeout=timeout)\n",
      "\u001b[0;32m~/repos/ts_salobj/python/lsst/ts/salobj/topics/remote_command.py\u001b[0m in \u001b[0;36mstart\u001b[0;34m(self, data, timeout, wait_done)\u001b[0m\n\u001b[1;32m    360\u001b[0m         \u001b[0mcmd_info\u001b[0m \u001b[0;34m=\u001b[0m \u001b[0m_CommandInfo\u001b[0m\u001b[0;34m(\u001b[0m\u001b[0mremote_command\u001b[0m\u001b[0;34m=\u001b[0m\u001b[0mself\u001b[0m\u001b[0;34m,\u001b[0m \u001b[0mseq_num\u001b[0m\u001b[0;34m=\u001b[0m\u001b[0mseq_num\u001b[0m\u001b[0;34m,\u001b[0m \u001b[0mwait_done\u001b[0m\u001b[0;34m=\u001b[0m\u001b[0mwait_done\u001b[0m\u001b[0;34m)\u001b[0m\u001b[0;34m\u001b[0m\u001b[0;34m\u001b[0m\u001b[0m\n\u001b[1;32m    361\u001b[0m         \u001b[0mself\u001b[0m\u001b[0;34m.\u001b[0m\u001b[0msalinfo\u001b[0m\u001b[0;34m.\u001b[0m\u001b[0m_running_cmds\u001b[0m\u001b[0;34m[\u001b[0m\u001b[0mseq_num\u001b[0m\u001b[0;34m]\u001b[0m \u001b[0;34m=\u001b[0m \u001b[0mcmd_info\u001b[0m\u001b[0;34m\u001b[0m\u001b[0;34m\u001b[0m\u001b[0m\n\u001b[0;32m--> 362\u001b[0;31m         \u001b[0;32mreturn\u001b[0m \u001b[0;32mawait\u001b[0m \u001b[0mcmd_info\u001b[0m\u001b[0;34m.\u001b[0m\u001b[0mnext_ackcmd\u001b[0m\u001b[0;34m(\u001b[0m\u001b[0mtimeout\u001b[0m\u001b[0;34m=\u001b[0m\u001b[0mtimeout\u001b[0m\u001b[0;34m)\u001b[0m\u001b[0;34m\u001b[0m\u001b[0;34m\u001b[0m\u001b[0m\n\u001b[0m",
      "\u001b[0;32m~/repos/ts_salobj/python/lsst/ts/salobj/topics/remote_command.py\u001b[0m in \u001b[0;36mnext_ackcmd\u001b[0;34m(self, timeout)\u001b[0m\n\u001b[1;32m    163\u001b[0m             \u001b[0;31m# print(f\"next_ackcmd got {ackcmd.ack} from _basic_next_ack\")\u001b[0m\u001b[0;34m\u001b[0m\u001b[0;34m\u001b[0m\u001b[0;34m\u001b[0m\u001b[0m\n\u001b[1;32m    164\u001b[0m             \u001b[0;32mif\u001b[0m \u001b[0mackcmd\u001b[0m\u001b[0;34m.\u001b[0m\u001b[0mack\u001b[0m \u001b[0;32min\u001b[0m \u001b[0mself\u001b[0m\u001b[0;34m.\u001b[0m\u001b[0mfailed_ack_codes\u001b[0m\u001b[0;34m:\u001b[0m\u001b[0;34m\u001b[0m\u001b[0;34m\u001b[0m\u001b[0m\n\u001b[0;32m--> 165\u001b[0;31m                 \u001b[0;32mraise\u001b[0m \u001b[0mbase\u001b[0m\u001b[0;34m.\u001b[0m\u001b[0mAckError\u001b[0m\u001b[0;34m(\u001b[0m\u001b[0mmsg\u001b[0m\u001b[0;34m=\u001b[0m\u001b[0;34m\"Command failed\"\u001b[0m\u001b[0;34m,\u001b[0m \u001b[0mackcmd\u001b[0m\u001b[0;34m=\u001b[0m\u001b[0mackcmd\u001b[0m\u001b[0;34m)\u001b[0m\u001b[0;34m\u001b[0m\u001b[0;34m\u001b[0m\u001b[0m\n\u001b[0m\u001b[1;32m    166\u001b[0m             \u001b[0;32mreturn\u001b[0m \u001b[0mackcmd\u001b[0m\u001b[0;34m\u001b[0m\u001b[0;34m\u001b[0m\u001b[0m\n\u001b[1;32m    167\u001b[0m         \u001b[0;32mexcept\u001b[0m \u001b[0masyncio\u001b[0m\u001b[0;34m.\u001b[0m\u001b[0mTimeoutError\u001b[0m\u001b[0;34m:\u001b[0m\u001b[0;34m\u001b[0m\u001b[0;34m\u001b[0m\u001b[0m\n",
      "\u001b[0;31mAckError\u001b[0m: msg='Command failed', ackcmd=(ackcmd private_seqNum=2133383783, ack=<SalRetCode.CMD_NOPERM: -300>, error=0, result='Ack : NO Command rejected: Invalid exposure time')"
     ]
    }
   ],
   "source": [
    "await latiss.take_object(exptime=0.09, n=1, filter='empty_1',grating='empty_1')"
   ]
  },
  {
   "cell_type": "code",
   "execution_count": 56,
   "metadata": {},
   "outputs": [
    {
     "name": "stdout",
     "output_type": "stream",
     "text": [
      "Generating group_id\n",
      "OBJECT 0001 - 0020\n",
      "Waiting for header service LFO before continuing\n",
      "RemoteEvent(ATHeaderService, 0, logMessage) falling behind; read 11 messages\n",
      "OBJECT 0002 - 0020\n",
      "Waiting for header service LFO before continuing\n",
      "RemoteEvent(ATHeaderService, 0, logMessage) falling behind; read 10 messages\n",
      "OBJECT 0003 - 0020\n",
      "Waiting for header service LFO before continuing\n",
      "RemoteEvent(ATHeaderService, 0, logMessage) falling behind; read 11 messages\n",
      "OBJECT 0004 - 0020\n",
      "Waiting for header service LFO before continuing\n",
      "RemoteEvent(ATHeaderService, 0, logMessage) falling behind; read 13 messages\n",
      "OBJECT 0005 - 0020\n",
      "Waiting for header service LFO before continuing\n",
      "RemoteEvent(ATHeaderService, 0, logMessage) falling behind; read 12 messages\n",
      "OBJECT 0006 - 0020\n",
      "Waiting for header service LFO before continuing\n",
      "RemoteEvent(ATHeaderService, 0, logMessage) falling behind; read 17 messages\n",
      "OBJECT 0007 - 0020\n",
      "Waiting for header service LFO before continuing\n",
      "RemoteEvent(ATHeaderService, 0, logMessage) falling behind; read 13 messages\n",
      "OBJECT 0008 - 0020\n",
      "Waiting for header service LFO before continuing\n",
      "RemoteEvent(ATHeaderService, 0, logMessage) falling behind; read 13 messages\n",
      "OBJECT 0009 - 0020\n",
      "Waiting for header service LFO before continuing\n",
      "RemoteEvent(ATHeaderService, 0, logMessage) falling behind; read 10 messages\n",
      "OBJECT 0010 - 0020\n",
      "Waiting for header service LFO before continuing\n",
      "RemoteEvent(ATHeaderService, 0, logMessage) falling behind; read 11 messages\n",
      "OBJECT 0011 - 0020\n",
      "Waiting for header service LFO before continuing\n",
      "RemoteEvent(ATHeaderService, 0, logMessage) falling behind; read 10 messages\n",
      "OBJECT 0012 - 0020\n",
      "Waiting for header service LFO before continuing\n",
      "RemoteEvent(ATHeaderService, 0, logMessage) falling behind; read 10 messages\n",
      "OBJECT 0013 - 0020\n",
      "Waiting for header service LFO before continuing\n",
      "RemoteEvent(ATHeaderService, 0, logMessage) falling behind; read 13 messages\n",
      "OBJECT 0014 - 0020\n",
      "Waiting for header service LFO before continuing\n",
      "RemoteEvent(ATHeaderService, 0, logMessage) falling behind; read 16 messages\n",
      "OBJECT 0015 - 0020\n",
      "Waiting for header service LFO before continuing\n",
      "RemoteEvent(ATHeaderService, 0, logMessage) falling behind; read 14 messages\n",
      "OBJECT 0016 - 0020\n",
      "Waiting for header service LFO before continuing\n",
      "RemoteEvent(ATHeaderService, 0, logMessage) falling behind; read 12 messages\n",
      "OBJECT 0017 - 0020\n",
      "Waiting for header service LFO before continuing\n",
      "OBJECT 0018 - 0020\n",
      "Waiting for header service LFO before continuing\n",
      "RemoteEvent(ATHeaderService, 0, logMessage) falling behind; read 11 messages\n",
      "OBJECT 0019 - 0020\n",
      "RemoteEvent(ATHeaderService, 0, logMessage) falling behind; read 14 messages\n",
      "Waiting for header service LFO before continuing\n",
      "RemoteEvent(ATHeaderService, 0, logMessage) falling behind; read 12 messages\n",
      "OBJECT 0020 - 0020\n",
      "Waiting for header service LFO before continuing\n",
      "RemoteEvent(ATHeaderService, 0, logMessage) falling behind; read 14 messages\n"
     ]
    },
    {
     "data": {
      "text/plain": [
       "array([2020022100342, 2020022100343, 2020022100344, 2020022100345,\n",
       "       2020022100346, 2020022100347, 2020022100348, 2020022100349,\n",
       "       2020022100350, 2020022100351, 2020022100352, 2020022100353,\n",
       "       2020022100354, 2020022100355, 2020022100356, 2020022100357,\n",
       "       2020022100358, 2020022100359, 2020022100360, 2020022100361])"
      ]
     },
     "execution_count": 56,
     "metadata": {},
     "output_type": "execute_result"
    }
   ],
   "source": [
    "await latiss.take_object(exptime=0.1, n=20, filter='empty_1',grating='empty_1')"
   ]
  },
  {
   "cell_type": "code",
   "execution_count": 57,
   "metadata": {},
   "outputs": [
    {
     "data": {
      "text/plain": [
       "<lsst.ts.salobj.ddsutil.ATAOS_ackcmd_33d5c92b at 0x7f8c14448e10>"
      ]
     },
     "execution_count": 57,
     "metadata": {},
     "output_type": "execute_result"
    }
   ],
   "source": [
    "best_focus_fit = -0.15\n",
    "focus_offset = -4.0\n",
    "await attcs.ataos.cmd_applyFocusOffset.set_start(offset=focus_offset)"
   ]
  },
  {
   "cell_type": "code",
   "execution_count": 58,
   "metadata": {},
   "outputs": [
    {
     "data": {
      "text/plain": [
       "<lsst.ts.salobj.ddsutil.ATAOS_ackcmd_33d5c92b at 0x7f8c18e9a898>"
      ]
     },
     "execution_count": 58,
     "metadata": {},
     "output_type": "execute_result"
    }
   ],
   "source": [
    "#Didn't want ot do that yet.  Shift back. \n",
    "best_focus_fit = -0.15\n",
    "focus_offset = 4.0\n",
    "await attcs.ataos.cmd_applyFocusOffset.set_start(offset=focus_offset)"
   ]
  },
  {
   "cell_type": "code",
   "execution_count": 59,
   "metadata": {},
   "outputs": [
    {
     "name": "stdout",
     "output_type": "stream",
     "text": [
      "Generating group_id\n",
      "OBJECT 0001 - 0020\n",
      "Waiting for header service LFO before continuing\n",
      "RemoteEvent(ATHeaderService, 0, logMessage) falling behind; read 16 messages\n",
      "OBJECT 0002 - 0020\n",
      "Waiting for header service LFO before continuing\n",
      "RemoteEvent(ATHeaderService, 0, logMessage) falling behind; read 10 messages\n",
      "OBJECT 0003 - 0020\n",
      "RemoteEvent(ATHeaderService, 0, logMessage) falling behind; read 10 messages\n",
      "Waiting for header service LFO before continuing\n",
      "RemoteEvent(ATHeaderService, 0, logMessage) falling behind; read 10 messages\n",
      "OBJECT 0004 - 0020\n",
      "Waiting for header service LFO before continuing\n",
      "RemoteEvent(ATHeaderService, 0, logMessage) falling behind; read 13 messages\n",
      "OBJECT 0005 - 0020\n",
      "Waiting for header service LFO before continuing\n",
      "RemoteEvent(ATHeaderService, 0, logMessage) falling behind; read 15 messages\n",
      "OBJECT 0006 - 0020\n",
      "Waiting for header service LFO before continuing\n",
      "RemoteEvent(ATHeaderService, 0, logMessage) falling behind; read 13 messages\n",
      "OBJECT 0007 - 0020\n",
      "RemoteEvent(ATHeaderService, 0, logMessage) falling behind; read 19 messages\n",
      "Waiting for header service LFO before continuing\n",
      "RemoteEvent(ATHeaderService, 0, logMessage) falling behind; read 11 messages\n",
      "OBJECT 0008 - 0020\n",
      "Waiting for header service LFO before continuing\n",
      "RemoteEvent(ATHeaderService, 0, logMessage) falling behind; read 14 messages\n",
      "OBJECT 0009 - 0020\n",
      "Waiting for header service LFO before continuing\n",
      "OBJECT 0010 - 0020\n",
      "Waiting for header service LFO before continuing\n",
      "RemoteEvent(ATHeaderService, 0, logMessage) falling behind; read 17 messages\n",
      "OBJECT 0011 - 0020\n",
      "Waiting for header service LFO before continuing\n",
      "RemoteEvent(ATHeaderService, 0, logMessage) falling behind; read 10 messages\n",
      "OBJECT 0012 - 0020\n",
      "Waiting for header service LFO before continuing\n",
      "RemoteEvent(ATHeaderService, 0, logMessage) falling behind; read 11 messages\n",
      "OBJECT 0013 - 0020\n",
      "Waiting for header service LFO before continuing\n",
      "RemoteEvent(ATHeaderService, 0, logMessage) falling behind; read 18 messages\n",
      "OBJECT 0014 - 0020\n",
      "Waiting for header service LFO before continuing\n",
      "RemoteEvent(ATHeaderService, 0, logMessage) falling behind; read 13 messages\n",
      "OBJECT 0015 - 0020\n",
      "Waiting for header service LFO before continuing\n",
      "RemoteEvent(ATHeaderService, 0, logMessage) falling behind; read 11 messages\n",
      "OBJECT 0016 - 0020\n",
      "Waiting for header service LFO before continuing\n",
      "RemoteEvent(ATHeaderService, 0, logMessage) falling behind; read 12 messages\n",
      "OBJECT 0017 - 0020\n",
      "Waiting for header service LFO before continuing\n",
      "RemoteEvent(ATHeaderService, 0, logMessage) falling behind; read 10 messages\n",
      "OBJECT 0018 - 0020\n",
      "Waiting for header service LFO before continuing\n",
      "RemoteEvent(ATHeaderService, 0, logMessage) falling behind; read 10 messages\n",
      "OBJECT 0019 - 0020\n",
      "Waiting for header service LFO before continuing\n",
      "OBJECT 0020 - 0020\n",
      "Waiting for header service LFO before continuing\n",
      "RemoteEvent(ATHeaderService, 0, logMessage) falling behind; read 13 messages\n"
     ]
    },
    {
     "data": {
      "text/plain": [
       "array([2020022100362, 2020022100363, 2020022100364, 2020022100365,\n",
       "       2020022100366, 2020022100367, 2020022100368, 2020022100369,\n",
       "       2020022100370, 2020022100371, 2020022100372, 2020022100373,\n",
       "       2020022100374, 2020022100375, 2020022100376, 2020022100377,\n",
       "       2020022100378, 2020022100379, 2020022100380, 2020022100381])"
      ]
     },
     "execution_count": 59,
     "metadata": {},
     "output_type": "execute_result"
    }
   ],
   "source": [
    "await latiss.take_object(exptime=0.1, n=20, filter='BG40',grating='empty_1')"
   ]
  },
  {
   "cell_type": "code",
   "execution_count": 60,
   "metadata": {},
   "outputs": [
    {
     "name": "stdout",
     "output_type": "stream",
     "text": [
      "Generating group_id\n",
      "OBJECT 0001 - 0020\n",
      "Waiting for header service LFO before continuing\n",
      "RemoteEvent(ATHeaderService, 0, logMessage) falling behind; read 12 messages\n",
      "OBJECT 0002 - 0020\n",
      "Waiting for header service LFO before continuing\n",
      "RemoteEvent(ATHeaderService, 0, logMessage) falling behind; read 12 messages\n",
      "OBJECT 0003 - 0020\n",
      "Waiting for header service LFO before continuing\n",
      "RemoteEvent(ATHeaderService, 0, logMessage) falling behind; read 11 messages\n",
      "OBJECT 0004 - 0020\n",
      "Waiting for header service LFO before continuing\n",
      "RemoteEvent(ATHeaderService, 0, logMessage) falling behind; read 18 messages\n",
      "OBJECT 0005 - 0020\n",
      "Waiting for header service LFO before continuing\n",
      "RemoteEvent(ATHeaderService, 0, logMessage) falling behind; read 10 messages\n",
      "OBJECT 0006 - 0020\n",
      "Waiting for header service LFO before continuing\n",
      "RemoteEvent(ATHeaderService, 0, logMessage) falling behind; read 13 messages\n",
      "OBJECT 0007 - 0020\n",
      "Waiting for header service LFO before continuing\n",
      "RemoteEvent(ATHeaderService, 0, logMessage) falling behind; read 15 messages\n",
      "OBJECT 0008 - 0020\n",
      "Waiting for header service LFO before continuing\n",
      "RemoteEvent(ATHeaderService, 0, logMessage) falling behind; read 12 messages\n",
      "OBJECT 0009 - 0020\n",
      "Waiting for header service LFO before continuing\n",
      "OBJECT 0010 - 0020\n",
      "Waiting for header service LFO before continuing\n",
      "RemoteEvent(ATHeaderService, 0, logMessage) falling behind; read 13 messages\n",
      "OBJECT 0011 - 0020\n",
      "Waiting for header service LFO before continuing\n",
      "RemoteEvent(ATHeaderService, 0, logMessage) falling behind; read 13 messages\n",
      "OBJECT 0012 - 0020\n",
      "Waiting for header service LFO before continuing\n",
      "RemoteEvent(ATHeaderService, 0, logMessage) falling behind; read 12 messages\n",
      "OBJECT 0013 - 0020\n",
      "Waiting for header service LFO before continuing\n",
      "RemoteEvent(ATHeaderService, 0, logMessage) falling behind; read 10 messages\n",
      "OBJECT 0014 - 0020\n",
      "Waiting for header service LFO before continuing\n",
      "OBJECT 0015 - 0020\n",
      "Waiting for header service LFO before continuing\n",
      "RemoteEvent(ATHeaderService, 0, logMessage) falling behind; read 21 messages\n",
      "OBJECT 0016 - 0020\n",
      "Waiting for header service LFO before continuing\n",
      "RemoteEvent(ATHeaderService, 0, logMessage) falling behind; read 10 messages\n",
      "OBJECT 0017 - 0020\n",
      "Waiting for header service LFO before continuing\n",
      "RemoteEvent(ATHeaderService, 0, logMessage) falling behind; read 21 messages\n",
      "OBJECT 0018 - 0020\n",
      "Waiting for header service LFO before continuing\n",
      "RemoteEvent(ATHeaderService, 0, logMessage) falling behind; read 14 messages\n",
      "OBJECT 0019 - 0020\n",
      "Waiting for header service LFO before continuing\n",
      "RemoteEvent(ATHeaderService, 0, logMessage) falling behind; read 13 messages\n",
      "OBJECT 0020 - 0020\n",
      "Waiting for header service LFO before continuing\n",
      "RemoteEvent(ATHeaderService, 0, logMessage) falling behind; read 25 messages\n"
     ]
    },
    {
     "data": {
      "text/plain": [
       "array([2020022100382, 2020022100383, 2020022100384, 2020022100385,\n",
       "       2020022100386, 2020022100387, 2020022100388, 2020022100389,\n",
       "       2020022100390, 2020022100391, 2020022100392, 2020022100393,\n",
       "       2020022100394, 2020022100395, 2020022100396, 2020022100397,\n",
       "       2020022100398, 2020022100399, 2020022100400, 2020022100401])"
      ]
     },
     "execution_count": 60,
     "metadata": {},
     "output_type": "execute_result"
    }
   ],
   "source": [
    "await latiss.take_object(exptime=0.1, n=20, filter='RG610',grating='empty_1')"
   ]
  },
  {
   "cell_type": "code",
   "execution_count": 61,
   "metadata": {},
   "outputs": [
    {
     "data": {
      "text/plain": [
       "<lsst.ts.salobj.ddsutil.ATAOS_ackcmd_33d5c92b at 0x7f8c14374400>"
      ]
     },
     "execution_count": 61,
     "metadata": {},
     "output_type": "execute_result"
    }
   ],
   "source": [
    "best_focus_fit = -0.15\n",
    "focus_offset = -4.0\n",
    "await attcs.ataos.cmd_applyFocusOffset.set_start(offset=focus_offset)"
   ]
  },
  {
   "cell_type": "code",
   "execution_count": 62,
   "metadata": {},
   "outputs": [
    {
     "name": "stdout",
     "output_type": "stream",
     "text": [
      "Generating group_id\n",
      "OBJECT 0001 - 0020\n",
      "Waiting for header service LFO before continuing\n",
      "RemoteEvent(ATHeaderService, 0, logMessage) falling behind; read 13 messages\n",
      "OBJECT 0002 - 0020\n",
      "Waiting for header service LFO before continuing\n",
      "RemoteEvent(ATHeaderService, 0, logMessage) falling behind; read 10 messages\n",
      "OBJECT 0003 - 0020\n",
      "Waiting for header service LFO before continuing\n",
      "RemoteEvent(ATHeaderService, 0, logMessage) falling behind; read 18 messages\n",
      "OBJECT 0004 - 0020\n",
      "Waiting for header service LFO before continuing\n",
      "OBJECT 0005 - 0020\n",
      "Waiting for header service LFO before continuing\n",
      "RemoteEvent(ATHeaderService, 0, logMessage) falling behind; read 10 messages\n",
      "OBJECT 0006 - 0020\n",
      "Waiting for header service LFO before continuing\n",
      "RemoteEvent(ATHeaderService, 0, logMessage) falling behind; read 18 messages\n",
      "OBJECT 0007 - 0020\n",
      "Waiting for header service LFO before continuing\n",
      "RemoteEvent(ATHeaderService, 0, logMessage) falling behind; read 11 messages\n",
      "OBJECT 0008 - 0020\n",
      "Waiting for header service LFO before continuing\n",
      "RemoteEvent(ATHeaderService, 0, logMessage) falling behind; read 13 messages\n",
      "OBJECT 0009 - 0020\n",
      "Waiting for header service LFO before continuing\n",
      "RemoteEvent(ATHeaderService, 0, logMessage) falling behind; read 15 messages\n",
      "OBJECT 0010 - 0020\n",
      "Waiting for header service LFO before continuing\n",
      "RemoteEvent(ATHeaderService, 0, logMessage) falling behind; read 16 messages\n",
      "OBJECT 0011 - 0020\n",
      "Waiting for header service LFO before continuing\n",
      "RemoteEvent(ATHeaderService, 0, logMessage) falling behind; read 19 messages\n",
      "OBJECT 0012 - 0020\n",
      "Waiting for header service LFO before continuing\n",
      "RemoteEvent(ATHeaderService, 0, logMessage) falling behind; read 14 messages\n",
      "OBJECT 0013 - 0020\n",
      "Waiting for header service LFO before continuing\n",
      "OBJECT 0014 - 0020\n",
      "Waiting for header service LFO before continuing\n",
      "RemoteEvent(ATHeaderService, 0, logMessage) falling behind; read 17 messages\n",
      "OBJECT 0015 - 0020\n",
      "Waiting for header service LFO before continuing\n",
      "OBJECT 0016 - 0020\n",
      "Waiting for header service LFO before continuing\n",
      "RemoteEvent(ATHeaderService, 0, logMessage) falling behind; read 12 messages\n",
      "OBJECT 0017 - 0020\n",
      "Waiting for header service LFO before continuing\n",
      "RemoteEvent(ATDomeTrajectory, 0, logMessage) falling behind; read 11 messages\n",
      "RemoteEvent(ATMCS, 0, target) falling behind; read 22 messages\n",
      "OBJECT 0018 - 0020\n",
      "Waiting for header service LFO before continuing\n",
      "RemoteEvent(ATHeaderService, 0, logMessage) falling behind; read 23 messages\n",
      "OBJECT 0019 - 0020\n",
      "Waiting for header service LFO before continuing\n",
      "OBJECT 0020 - 0020\n",
      "Waiting for header service LFO before continuing\n",
      "RemoteEvent(ATHeaderService, 0, logMessage) falling behind; read 10 messages\n"
     ]
    },
    {
     "data": {
      "text/plain": [
       "array([2020022100402, 2020022100403, 2020022100404, 2020022100405,\n",
       "       2020022100406, 2020022100407, 2020022100408, 2020022100409,\n",
       "       2020022100410, 2020022100411, 2020022100412, 2020022100413,\n",
       "       2020022100414, 2020022100415, 2020022100416, 2020022100417,\n",
       "       2020022100418, 2020022100419, 2020022100420, 2020022100421])"
      ]
     },
     "execution_count": 62,
     "metadata": {},
     "output_type": "execute_result"
    }
   ],
   "source": [
    "await latiss.take_object(exptime=0.1, n=20, filter='empty_1',grating='empty_1')"
   ]
  },
  {
   "cell_type": "code",
   "execution_count": 63,
   "metadata": {},
   "outputs": [
    {
     "data": {
      "text/plain": [
       "<lsst.ts.salobj.ddsutil.ATAOS_ackcmd_33d5c92b at 0x7f8c2d939390>"
      ]
     },
     "execution_count": 63,
     "metadata": {},
     "output_type": "execute_result"
    }
   ],
   "source": [
    "best_focus_fit = -0.0\n",
    "await attcs.ataos.cmd_applyFocusOffset.set_start(offset=focus_offset)"
   ]
  },
  {
   "cell_type": "code",
   "execution_count": 64,
   "metadata": {},
   "outputs": [
    {
     "name": "stdout",
     "output_type": "stream",
     "text": [
      "Generating group_id\n",
      "OBJECT 0001 - 0001\n",
      "Waiting for header service LFO before continuing\n",
      "RemoteEvent(ATHeaderService, 0, logMessage) falling behind; read 14 messages\n"
     ]
    },
    {
     "data": {
      "text/plain": [
       "array([2020022100422])"
      ]
     },
     "execution_count": 64,
     "metadata": {},
     "output_type": "execute_result"
    }
   ],
   "source": [
    "await latiss.take_object(exptime=0.1, n=1, filter='empty_1',grating='empty_1')"
   ]
  },
  {
   "cell_type": "code",
   "execution_count": 65,
   "metadata": {},
   "outputs": [
    {
     "data": {
      "text/plain": [
       "<lsst.ts.salobj.ddsutil.ATAOS_ackcmd_33d5c92b at 0x7f8c14440c18>"
      ]
     },
     "execution_count": 65,
     "metadata": {},
     "output_type": "execute_result"
    }
   ],
   "source": [
    "best_focus_fit = -0.0\n",
    "await attcs.ataos.cmd_applyFocusOffset.set_start(offset=best_focus_fit )"
   ]
  },
  {
   "cell_type": "code",
   "execution_count": 67,
   "metadata": {},
   "outputs": [
    {
     "data": {
      "text/plain": [
       "<lsst.ts.salobj.ddsutil.ATAOS_ackcmd_33d5c92b at 0x7f8c2db57320>"
      ]
     },
     "execution_count": 67,
     "metadata": {},
     "output_type": "execute_result"
    }
   ],
   "source": [
    "best_focus_fit = -0.5\n",
    "await attcs.ataos.cmd_applyFocusOffset.set_start(offset=best_focus_fit )"
   ]
  },
  {
   "cell_type": "code",
   "execution_count": 68,
   "metadata": {},
   "outputs": [
    {
     "name": "stdout",
     "output_type": "stream",
     "text": [
      "Generating group_id\n",
      "OBJECT 0001 - 0001\n",
      "Waiting for header service LFO before continuing\n",
      "RemoteEvent(ATHeaderService, 0, logMessage) falling behind; read 17 messages\n"
     ]
    },
    {
     "data": {
      "text/plain": [
       "array([2020022100424])"
      ]
     },
     "execution_count": 68,
     "metadata": {},
     "output_type": "execute_result"
    }
   ],
   "source": [
    "await latiss.take_object(exptime=0.1, n=1, filter='empty_1',grating='empty_1')"
   ]
  },
  {
   "cell_type": "code",
   "execution_count": null,
   "metadata": {},
   "outputs": [],
   "source": [
    "best_focus_fit = -0.5\n",
    "await attcs.ataos.cmd_applyFocusOffset.set_start(offset=best_focus_fit )"
   ]
  },
  {
   "cell_type": "code",
   "execution_count": 70,
   "metadata": {},
   "outputs": [
    {
     "name": "stdout",
     "output_type": "stream",
     "text": [
      "Applying Az/El offset: 36000.0/ 0.0 \n",
      "Waiting for telescope to settle.\n",
      "Done\n"
     ]
    }
   ],
   "source": [
    "await attcs.offset_azel(az = 10.0 * 3600.0, el = 0.0)"
   ]
  },
  {
   "cell_type": "code",
   "execution_count": 71,
   "metadata": {},
   "outputs": [
    {
     "data": {
      "text/plain": [
       "<lsst.ts.salobj.ddsutil.ATAOS_ackcmd_33d5c92b at 0x7f8c14412160>"
      ]
     },
     "execution_count": 71,
     "metadata": {},
     "output_type": "execute_result"
    }
   ],
   "source": [
    "best_focus_fit = -0.8\n",
    "await attcs.ataos.cmd_applyFocusOffset.set_start(offset=best_focus_fit )"
   ]
  },
  {
   "cell_type": "code",
   "execution_count": 72,
   "metadata": {},
   "outputs": [
    {
     "name": "stdout",
     "output_type": "stream",
     "text": [
      "Generating group_id\n",
      "OBJECT 0001 - 0001\n",
      "Waiting for header service LFO before continuing\n",
      "RemoteEvent(ATHeaderService, 0, logMessage) falling behind; read 17 messages\n"
     ]
    },
    {
     "data": {
      "text/plain": [
       "array([2020022100425])"
      ]
     },
     "execution_count": 72,
     "metadata": {},
     "output_type": "execute_result"
    }
   ],
   "source": [
    "await latiss.take_object(exptime=5, n=1, filter='empty_1',grating='empty_1')"
   ]
  },
  {
   "cell_type": "code",
   "execution_count": 73,
   "metadata": {},
   "outputs": [
    {
     "data": {
      "text/plain": [
       "<lsst.ts.salobj.ddsutil.ATAOS_ackcmd_33d5c92b at 0x7f8c2dd52b00>"
      ]
     },
     "execution_count": 73,
     "metadata": {},
     "output_type": "execute_result"
    }
   ],
   "source": [
    "best_focus_fit = -0.3\n",
    "await attcs.ataos.cmd_applyFocusOffset.set_start(offset=best_focus_fit )"
   ]
  },
  {
   "cell_type": "code",
   "execution_count": 74,
   "metadata": {},
   "outputs": [
    {
     "name": "stdout",
     "output_type": "stream",
     "text": [
      "Generating group_id\n",
      "OBJECT 0001 - 0001\n",
      "Waiting for header service LFO before continuing\n",
      "RemoteEvent(ATHeaderService, 0, logMessage) falling behind; read 16 messages\n"
     ]
    },
    {
     "data": {
      "text/plain": [
       "array([2020022100426])"
      ]
     },
     "execution_count": 74,
     "metadata": {},
     "output_type": "execute_result"
    }
   ],
   "source": [
    "await latiss.take_object(exptime=5, n=1, filter='empty_1',grating='empty_1')"
   ]
  },
  {
   "cell_type": "code",
   "execution_count": 75,
   "metadata": {},
   "outputs": [
    {
     "name": "stdout",
     "output_type": "stream",
     "text": [
      "RemoteEvent(ATHeaderService, 0, logMessage) falling behind; read 15 messages\n"
     ]
    }
   ],
   "source": [
    "#That's our best fit focus for the moment\n",
    "best_focus_fit = -0.3"
   ]
  },
  {
   "cell_type": "code",
   "execution_count": 76,
   "metadata": {},
   "outputs": [
    {
     "name": "stdout",
     "output_type": "stream",
     "text": [
      "RemoteEvent(ATHeaderService, 0, logMessage) falling behind; read 21 messages\n"
     ]
    },
    {
     "data": {
      "text/plain": [
       "<lsst.ts.salobj.ddsutil.ATDome_ackcmd_ff080bab at 0x7f8c14472588>"
      ]
     },
     "execution_count": 76,
     "metadata": {},
     "output_type": "execute_result"
    },
    {
     "name": "stdout",
     "output_type": "stream",
     "text": [
      "RemoteEvent(ATHeaderService, 0, logMessage) falling behind; read 12 messages\n",
      "RemoteEvent(ATHeaderService, 0, logMessage) falling behind; read 17 messages\n"
     ]
    }
   ],
   "source": [
    "#Open lower shutter \n",
    "await attcs.atdome.cmd_openShutter.start() "
   ]
  },
  {
   "cell_type": "code",
   "execution_count": null,
   "metadata": {},
   "outputs": [],
   "source": []
  },
  {
   "cell_type": "code",
   "execution_count": 78,
   "metadata": {},
   "outputs": [
    {
     "name": "stdout",
     "output_type": "stream",
     "text": [
      "Resetting dropped connection: simbad.u-strasbg.fr\n",
      "http://simbad.u-strasbg.fr:80 \"POST /simbad/sim-script HTTP/1.1\" 200 None\n",
      "Slewing to HD 55439: 07 12 34.8111 -09 50 42.101\n",
      "RemoteEvent(ATMCS, 0, target) falling behind; read 16 messages\n",
      "RemoteEvent(ATDomeTrajectory, 0, logMessage) falling behind; read 17 messages\n",
      "Parallactic angle: -147.45053811411998 | Sky Angle: -107.26277312647667\n",
      "Sending command\n",
      "Stop tracking.\n",
      "Mount tracking state is 9\n",
      "Tracking state: 10.\n",
      "Tracking state: 8.\n",
      "In Position: True.\n",
      "In Position: False.\n",
      "Scheduling check coroutines\n",
      "process as completed...\n",
      "Got False\n",
      "Telescope not in position\n",
      "atmcs: <State.ENABLED: 2>\n",
      "atptg: <State.ENABLED: 2>\n",
      "ataos: <State.ENABLED: 2>\n",
      "atpneumatics: <State.ENABLED: 2>\n",
      "athexapod: <State.ENABLED: 2>\n",
      "atdome: <State.ENABLED: 2>\n",
      "atdometrajectory: <State.ENABLED: 2>\n",
      "[Telescope] delta Alt = +036.873 | delta Az= -143.248 [Dome] delta Az = -146.319\n",
      "[Telescope] delta Alt = +034.100 | delta Az= -140.286 [Dome] delta Az = -145.389\n",
      "[Telescope] delta Alt = +030.104 | delta Az= -136.306 [Dome] delta Az = -143.529\n",
      "[Telescope] delta Alt = +026.119 | delta Az= -132.324 [Dome] delta Az = -140.749\n",
      "[Telescope] delta Alt = +022.180 | delta Az= -128.340 [Dome] delta Az = -137.449\n",
      "[Telescope] delta Alt = +018.351 | delta Az= -124.355 [Dome] delta Az = -132.919\n",
      "[Telescope] delta Alt = +014.709 | delta Az= -120.371 [Dome] delta Az = -127.459\n",
      "[Telescope] delta Alt = +011.336 | delta Az= -116.388 [Dome] delta Az = -121.139\n",
      "[Telescope] delta Alt = +008.318 | delta Az= -112.406 [Dome] delta Az = -114.219\n",
      "[Telescope] delta Alt = +005.731 | delta Az= -108.422 [Dome] delta Az = -108.009\n",
      "[Telescope] delta Alt = +003.628 | delta Az= -104.437 [Dome] delta Az = -101.119\n",
      "[Telescope] delta Alt = +002.043 | delta Az= -100.453 [Dome] delta Az = -094.249\n",
      "[Telescope] delta Alt = +000.970 | delta Az= -096.470 [Dome] delta Az = -087.339\n",
      "[Telescope] delta Alt = +000.357 | delta Az= -092.488 [Dome] delta Az = -080.469\n",
      "[Telescope] delta Alt = +000.117 | delta Az= -088.504 [Dome] delta Az = -073.599\n",
      "[Telescope] delta Alt = +000.081 | delta Az= -084.520 [Dome] delta Az = -066.699\n",
      "[Telescope] delta Alt = +000.082 | delta Az= -080.537 [Dome] delta Az = -060.549\n",
      "[Telescope] delta Alt = +000.081 | delta Az= -076.553 [Dome] delta Az = -053.639\n",
      "[Telescope] delta Alt = +000.081 | delta Az= -072.569 [Dome] delta Az = -046.749\n",
      "[Telescope] delta Alt = +000.081 | delta Az= -068.586 [Dome] delta Az = -039.889\n",
      "[Telescope] delta Alt = +000.081 | delta Az= -064.602 [Dome] delta Az = -033.009\n",
      "[Telescope] delta Alt = +000.081 | delta Az= -060.620 [Dome] delta Az = -026.099\n",
      "[Telescope] delta Alt = +000.081 | delta Az= -056.638 [Dome] delta Az = -019.929\n",
      "[Telescope] delta Alt = +000.081 | delta Az= -052.651 [Dome] delta Az = -013.029\n",
      "[Telescope] delta Alt = +000.081 | delta Az= -048.668 [Dome] delta Az = -006.169\n",
      "[Telescope] delta Alt = +000.081 | delta Az= -044.684 [Dome] delta Az = -000.189\n",
      "[Telescope] delta Alt = +000.081 | delta Az= -040.701 [Dome] delta Az = +002.661\n",
      "[Telescope] delta Alt = +000.081 | delta Az= -036.719 [Dome] delta Az = +002.921\n",
      "[Telescope] delta Alt = +000.081 | delta Az= -032.735 [Dome] delta Az = +002.921\n",
      "[Telescope] delta Alt = +000.081 | delta Az= -028.750 [Dome] delta Az = +002.921\n",
      "[Telescope] delta Alt = +000.081 | delta Az= -024.790 [Dome] delta Az = +002.921\n",
      "[Telescope] delta Alt = +000.081 | delta Az= -020.896 [Dome] delta Az = +002.921\n",
      "[Telescope] delta Alt = +000.081 | delta Az= -017.136 [Dome] delta Az = +002.921\n",
      "[Telescope] delta Alt = +000.081 | delta Az= -013.593 [Dome] delta Az = +002.921\n",
      "[Telescope] delta Alt = +000.080 | delta Az= -010.351 [Dome] delta Az = +002.921\n",
      "[Telescope] delta Alt = +000.080 | delta Az= -007.492 [Dome] delta Az = +002.921\n",
      "[Telescope] delta Alt = +000.080 | delta Az= -005.086 [Dome] delta Az = +002.921\n",
      "[Telescope] delta Alt = +000.081 | delta Az= -003.180 [Dome] delta Az = +002.921\n",
      "[Telescope] delta Alt = +000.081 | delta Az= -001.793 [Dome] delta Az = +002.921\n",
      "[Telescope] delta Alt = +000.081 | delta Az= -000.906 [Dome] delta Az = +002.921\n",
      "[Telescope] delta Alt = +000.080 | delta Az= -000.449 [Dome] delta Az = +002.921\n",
      "[Telescope] delta Alt = +000.080 | delta Az= -000.310 [Dome] delta Az = +002.921\n",
      "[Telescope] delta Alt = +000.080 | delta Az= -000.302 [Dome] delta Az = +002.921\n",
      "Got True\n",
      "Waiting for telescope to settle.\n",
      "[Telescope] delta Alt = +000.080 | delta Az= -000.303 [Dome] delta Az = +002.921\n",
      "[Telescope] delta Alt = +000.081 | delta Az= -000.304 [Dome] delta Az = +002.921\n",
      "Telescope in position.\n",
      "ATDome in position.\n",
      "['Telescope in position.', 'ATDome in position.']\n"
     ]
    }
   ],
   "source": [
    "await attcs.slew_object(name = \"HD 55439\", pa_ang = 0.0) "
   ]
  },
  {
   "cell_type": "code",
   "execution_count": 79,
   "metadata": {},
   "outputs": [
    {
     "name": "stdout",
     "output_type": "stream",
     "text": [
      "Resetting dropped connection: simbad.u-strasbg.fr\n",
      "http://simbad.u-strasbg.fr:80 \"POST /simbad/sim-script HTTP/1.1\" 200 None\n",
      "Slewing to HD 57682: 07 22 02.0544 -08 58 45.761\n",
      "RemoteEvent(ATMCS, 0, target) falling behind; read 16 messages\n",
      "RemoteEvent(ATDomeTrajectory, 0, logMessage) falling behind; read 17 messages\n",
      "Parallactic angle: -145.4395572232097 | Sky Angle: -108.82798911797889\n",
      "Sending command\n",
      "Stop tracking.\n",
      "Mount tracking state is 9\n",
      "Tracking state: 10.\n",
      "Tracking state: 8.\n",
      "In Position: True.\n",
      "In Position: False.\n",
      "Scheduling check coroutines\n",
      "process as completed...\n",
      "Got False\n",
      "Telescope not in position\n",
      "atmcs: <State.ENABLED: 2>\n",
      "atptg: <State.ENABLED: 2>\n",
      "ataos: <State.ENABLED: 2>\n",
      "atpneumatics: <State.ENABLED: 2>\n",
      "athexapod: <State.ENABLED: 2>\n",
      "atdome: <State.ENABLED: 2>\n",
      "atdometrajectory: <State.ENABLED: 2>\n",
      "[Telescope] delta Alt = -001.803 | delta Az= +002.906 [Dome] delta Az = +002.921\n",
      "[Telescope] delta Alt = -000.241 | delta Az= +000.758 [Dome] delta Az = +002.921\n",
      "[Telescope] delta Alt = +000.088 | delta Az= -000.272 [Dome] delta Az = +002.921\n",
      "[Telescope] delta Alt = +000.086 | delta Az= -000.277 [Dome] delta Az = +002.921\n",
      "Got True\n",
      "Waiting for telescope to settle.\n",
      "[Telescope] delta Alt = +000.086 | delta Az= -000.275 [Dome] delta Az = +002.921\n",
      "Telescope in position.\n",
      "ATDome in position.\n",
      "['Telescope in position.', 'ATDome in position.']\n"
     ]
    }
   ],
   "source": [
    "await attcs.slew_object(name = \"HD 57682\", pa_ang = 0.0, slew_timeout = 240.0) "
   ]
  },
  {
   "cell_type": "code",
   "execution_count": 80,
   "metadata": {},
   "outputs": [
    {
     "name": "stdout",
     "output_type": "stream",
     "text": [
      "focus_positions = [-0.3  -0.25 -0.2  -0.15 -0.1  -0.05  0.    0.05  0.1   0.15  0.2   0.25\n",
      "  0.3 ]\n"
     ]
    }
   ],
   "source": [
    "import math \n",
    "#Focus units are given in mm \n",
    "focus_center = -0.00\n",
    "focus_step = 0.05\n",
    "n_steps = 13\n",
    "focus_positions = np.linspace(focus_center - focus_step * math.floor(n_steps / 2), focus_center + focus_step * math.ceil(n_steps / 2 - 1), n_steps)\n",
    "print ('focus_positions = ' + str(focus_positions))"
   ]
  },
  {
   "cell_type": "code",
   "execution_count": 81,
   "metadata": {},
   "outputs": [
    {
     "name": "stdout",
     "output_type": "stream",
     "text": [
      "Working on focus position -0.30000000000000004\n",
      "Generating group_id\n",
      "ENGTEST 0001 - 0001\n",
      "Waiting for header service LFO before continuing\n",
      "RemoteEvent(ATHeaderService, 0, logMessage) falling behind; read 27 messages\n",
      "Newest image id is = [2020022100431]\n",
      "Working on focus position -0.25000000000000006\n",
      "Generating group_id\n",
      "ENGTEST 0001 - 0001\n",
      "Waiting for header service LFO before continuing\n",
      "RemoteEvent(ATHeaderService, 0, logMessage) falling behind; read 10 messages\n",
      "Newest image id is = [2020022100432]\n",
      "Working on focus position -0.2\n",
      "Generating group_id\n",
      "ENGTEST 0001 - 0001\n",
      "Waiting for header service LFO before continuing\n",
      "RemoteEvent(ATHeaderService, 0, logMessage) falling behind; read 10 messages\n",
      "Newest image id is = [2020022100433]\n",
      "Working on focus position -0.15000000000000002\n",
      "Generating group_id\n",
      "ENGTEST 0001 - 0001\n",
      "Waiting for header service LFO before continuing\n",
      "RemoteEvent(ATHeaderService, 0, logMessage) falling behind; read 14 messages\n",
      "Newest image id is = [2020022100434]\n",
      "Working on focus position -0.1\n",
      "Generating group_id\n",
      "ENGTEST 0001 - 0001\n",
      "RemoteEvent(ATHeaderService, 0, logMessage) falling behind; read 10 messages\n",
      "Waiting for header service LFO before continuing\n",
      "RemoteEvent(ATHeaderService, 0, logMessage) falling behind; read 15 messages\n",
      "Newest image id is = [2020022100435]\n",
      "Working on focus position -0.04999999999999999\n",
      "Generating group_id\n",
      "ENGTEST 0001 - 0001\n",
      "Waiting for header service LFO before continuing\n",
      "RemoteEvent(ATHeaderService, 0, logMessage) falling behind; read 15 messages\n",
      "Newest image id is = [2020022100436]\n",
      "Working on focus position 0.0\n",
      "Generating group_id\n",
      "ENGTEST 0001 - 0001\n",
      "Waiting for header service LFO before continuing\n",
      "RemoteEvent(ATHeaderService, 0, logMessage) falling behind; read 13 messages\n",
      "Newest image id is = [2020022100437]\n",
      "Working on focus position 0.050000000000000044\n",
      "Generating group_id\n",
      "ENGTEST 0001 - 0001\n",
      "Waiting for header service LFO before continuing\n",
      "RemoteEvent(ATHeaderService, 0, logMessage) falling behind; read 13 messages\n"
     ]
    },
    {
     "ename": "CancelledError",
     "evalue": "",
     "output_type": "error",
     "traceback": [
      "\u001b[0;31m\u001b[0m",
      "\u001b[0;31mCancelledError\u001b[0mTraceback (most recent call last)",
      "\u001b[0;32m<ipython-input-81-fcfe46cb4361>\u001b[0m in \u001b[0;36masync-def-wrapper\u001b[0;34m()\u001b[0m\n\u001b[1;32m     10\u001b[0m     \u001b[0mprint\u001b[0m \u001b[0;34m(\u001b[0m\u001b[0;34m'Newest image id is = '\u001b[0m \u001b[0;34m+\u001b[0m\u001b[0mstr\u001b[0m\u001b[0;34m(\u001b[0m\u001b[0mfocus_image\u001b[0m\u001b[0;34m)\u001b[0m \u001b[0;34m)\u001b[0m\u001b[0;34m\u001b[0m\u001b[0;34m\u001b[0m\u001b[0m\n\u001b[1;32m     11\u001b[0m     \u001b[0mfocus_images\u001b[0m\u001b[0;34m[\u001b[0m\u001b[0mi\u001b[0m\u001b[0;34m]\u001b[0m \u001b[0;34m=\u001b[0m \u001b[0mint\u001b[0m\u001b[0;34m(\u001b[0m\u001b[0mfocus_image\u001b[0m\u001b[0;34m)\u001b[0m\u001b[0;34m\u001b[0m\u001b[0;34m\u001b[0m\u001b[0m\n\u001b[0;32m---> 12\u001b[0;31m \u001b[0;34m\u001b[0m\u001b[0m\n\u001b[0m\u001b[1;32m     13\u001b[0m \u001b[0;31m#This resets the focus position after taking this sequence:\u001b[0m\u001b[0;34m\u001b[0m\u001b[0;34m\u001b[0m\u001b[0;34m\u001b[0m\u001b[0m\n\u001b[1;32m     14\u001b[0m \u001b[0;32mawait\u001b[0m \u001b[0mattcs\u001b[0m\u001b[0;34m.\u001b[0m\u001b[0mataos\u001b[0m\u001b[0;34m.\u001b[0m\u001b[0mcmd_applyFocusOffset\u001b[0m\u001b[0;34m.\u001b[0m\u001b[0mset_start\u001b[0m\u001b[0;34m(\u001b[0m\u001b[0moffset\u001b[0m \u001b[0;34m=\u001b[0m \u001b[0mfocus_center\u001b[0m\u001b[0;34m)\u001b[0m\u001b[0;34m\u001b[0m\u001b[0;34m\u001b[0m\u001b[0m\n",
      "\u001b[0;32m~/repos/ts_standardscripts/python/lsst/ts/standardscripts/auxtel/latiss.py\u001b[0m in \u001b[0;36mtake_engtest\u001b[0;34m(self, exptime, n, filter, grating, linear_stage, group_id, checkpoint)\u001b[0m\n\u001b[1;32m    205\u001b[0m                                        \u001b[0mlinear_stage\u001b[0m\u001b[0;34m=\u001b[0m\u001b[0mlinear_stage\u001b[0m\u001b[0;34m,\u001b[0m\u001b[0;34m\u001b[0m\u001b[0;34m\u001b[0m\u001b[0m\n\u001b[1;32m    206\u001b[0m                                        \u001b[0mgroup_id\u001b[0m\u001b[0;34m=\u001b[0m\u001b[0mgroup_id\u001b[0m\u001b[0;34m,\u001b[0m\u001b[0;34m\u001b[0m\u001b[0;34m\u001b[0m\u001b[0m\n\u001b[0;32m--> 207\u001b[0;31m                                        checkpoint=checkpoint)\n\u001b[0m\u001b[1;32m    208\u001b[0m \u001b[0;34m\u001b[0m\u001b[0m\n\u001b[1;32m    209\u001b[0m     async def take_imgtype(self, imgtype, exptime, n,\n",
      "\u001b[0;32m~/repos/ts_standardscripts/python/lsst/ts/standardscripts/auxtel/latiss.py\u001b[0m in \u001b[0;36mtake_imgtype\u001b[0;34m(self, imgtype, exptime, n, filter, grating, linear_stage, group_id, checkpoint)\u001b[0m\n\u001b[1;32m    257\u001b[0m                                                 \u001b[0mfilter\u001b[0m\u001b[0;34m=\u001b[0m\u001b[0mfilter\u001b[0m \u001b[0;32mif\u001b[0m \u001b[0mi\u001b[0m \u001b[0;34m==\u001b[0m \u001b[0;36m0\u001b[0m \u001b[0;32melse\u001b[0m \u001b[0;32mNone\u001b[0m\u001b[0;34m,\u001b[0m\u001b[0;34m\u001b[0m\u001b[0;34m\u001b[0m\u001b[0m\n\u001b[1;32m    258\u001b[0m                                                 \u001b[0mgrating\u001b[0m\u001b[0;34m=\u001b[0m\u001b[0mgrating\u001b[0m \u001b[0;32mif\u001b[0m \u001b[0mi\u001b[0m \u001b[0;34m==\u001b[0m \u001b[0;36m0\u001b[0m \u001b[0;32melse\u001b[0m \u001b[0;32mNone\u001b[0m\u001b[0;34m,\u001b[0m\u001b[0;34m\u001b[0m\u001b[0;34m\u001b[0m\u001b[0m\n\u001b[0;32m--> 259\u001b[0;31m                                                 linear_stage=linear_stage if i == 0 else None)\n\u001b[0m\u001b[1;32m    260\u001b[0m \u001b[0;34m\u001b[0m\u001b[0m\n\u001b[1;32m    261\u001b[0m             \u001b[0;31m# parse out visitID from filename -\u001b[0m\u001b[0;34m\u001b[0m\u001b[0;34m\u001b[0m\u001b[0;34m\u001b[0m\u001b[0m\n",
      "\u001b[0;32m~/repos/ts_standardscripts/python/lsst/ts/standardscripts/auxtel/latiss.py\u001b[0m in \u001b[0;36mtake_image\u001b[0;34m(self, exptime, shutter, image_type, group_id, filter, grating, linear_stage, science, guide, wfs)\u001b[0m\n\u001b[1;32m    319\u001b[0m                                  \u001b[0mimage_type\u001b[0m\u001b[0;34m=\u001b[0m\u001b[0mimage_type\u001b[0m\u001b[0;34m,\u001b[0m\u001b[0;34m\u001b[0m\u001b[0;34m\u001b[0m\u001b[0m\n\u001b[1;32m    320\u001b[0m                                  \u001b[0mgroup_id\u001b[0m\u001b[0;34m=\u001b[0m\u001b[0mgroup_id\u001b[0m\u001b[0;34m,\u001b[0m\u001b[0;34m\u001b[0m\u001b[0;34m\u001b[0m\u001b[0m\n\u001b[0;32m--> 321\u001b[0;31m                                  science=science, guide=guide, wfs=wfs)\n\u001b[0m\u001b[1;32m    322\u001b[0m \u001b[0;34m\u001b[0m\u001b[0m\n\u001b[1;32m    323\u001b[0m     async def expose(self, exp_time, shutter, image_type, group_id,\n",
      "\u001b[0;32m~/repos/ts_standardscripts/python/lsst/ts/standardscripts/auxtel/latiss.py\u001b[0m in \u001b[0;36mexpose\u001b[0;34m(self, exp_time, shutter, image_type, group_id, science, guide, wfs)\u001b[0m\n\u001b[1;32m    376\u001b[0m             await self.atheaderservice.evt_largeFileObjectAvailable.next(flush=False,\n\u001b[1;32m    377\u001b[0m                                                                          timeout=self.long_timeout)\n\u001b[0;32m--> 378\u001b[0;31m             \u001b[0;32mawait\u001b[0m \u001b[0masyncio\u001b[0m\u001b[0;34m.\u001b[0m\u001b[0msleep\u001b[0m\u001b[0;34m(\u001b[0m\u001b[0mself\u001b[0m\u001b[0;34m.\u001b[0m\u001b[0mfast_timeout\u001b[0m\u001b[0;34m)\u001b[0m\u001b[0;34m\u001b[0m\u001b[0;34m\u001b[0m\u001b[0m\n\u001b[0m\u001b[1;32m    379\u001b[0m             \u001b[0;32mreturn\u001b[0m \u001b[0mend_readout\u001b[0m\u001b[0;34m\u001b[0m\u001b[0;34m\u001b[0m\u001b[0m\n\u001b[1;32m    380\u001b[0m \u001b[0;34m\u001b[0m\u001b[0m\n",
      "\u001b[0;32m/opt/lsst/software/stack/python/miniconda3-4.7.10/envs/lsst-scipipe-4d7b902/lib/python3.7/asyncio/tasks.py\u001b[0m in \u001b[0;36msleep\u001b[0;34m(delay, result, loop)\u001b[0m\n\u001b[1;32m    566\u001b[0m                         future, result)\n\u001b[1;32m    567\u001b[0m     \u001b[0;32mtry\u001b[0m\u001b[0;34m:\u001b[0m\u001b[0;34m\u001b[0m\u001b[0;34m\u001b[0m\u001b[0m\n\u001b[0;32m--> 568\u001b[0;31m         \u001b[0;32mreturn\u001b[0m \u001b[0;32mawait\u001b[0m \u001b[0mfuture\u001b[0m\u001b[0;34m\u001b[0m\u001b[0;34m\u001b[0m\u001b[0m\n\u001b[0m\u001b[1;32m    569\u001b[0m     \u001b[0;32mfinally\u001b[0m\u001b[0;34m:\u001b[0m\u001b[0;34m\u001b[0m\u001b[0;34m\u001b[0m\u001b[0m\n\u001b[1;32m    570\u001b[0m         \u001b[0mh\u001b[0m\u001b[0;34m.\u001b[0m\u001b[0mcancel\u001b[0m\u001b[0;34m(\u001b[0m\u001b[0;34m)\u001b[0m\u001b[0;34m\u001b[0m\u001b[0;34m\u001b[0m\u001b[0m\n",
      "\u001b[0;31mCancelledError\u001b[0m: "
     ]
    }
   ],
   "source": [
    "#!!!!DO NOT RUN UNLESS YOU HAVE BEEN CLEARED TO CONTROL TELESCOPE!!!!! \n",
    "focus_images = [0 for focus_pos in focus_positions]\n",
    "for i in range(len(focus_positions)): \n",
    "    focus_pos = focus_positions[i] \n",
    "    print ('Working on focus position ' + str(focus_pos))\n",
    "    attcs.athexapod.evt_positionUpdate.flush() \n",
    "    await attcs.ataos.cmd_applyFocusOffset.set_start(offset=focus_pos)\n",
    "    await attcs.athexapod.evt_positionUpdate.next(flush=False, timeout=attcs.long_timeout)\n",
    "    focus_image = await latiss.take_engtest(exptime=10.0, n=1, filter='empty_1', grating='ronchi90lpmm') \n",
    "    print ('Newest image id is = ' +str(focus_image) )\n",
    "    focus_images[i] = int(focus_image)\n",
    "    \n",
    "#This resets the focus position after taking this sequence: \n",
    "await attcs.ataos.cmd_applyFocusOffset.set_start(offset = focus_center)"
   ]
  },
  {
   "cell_type": "code",
   "execution_count": 82,
   "metadata": {},
   "outputs": [
    {
     "name": "stdout",
     "output_type": "stream",
     "text": [
      "Slewing to HD 57682: 07 22 02.0544 -08 58 45.761\n",
      "Parallactic angle: -147.6408162323275 | Sky Angle: -109.43324088201149\n",
      "Sending command\n",
      "Stop tracking.\n",
      "Mount tracking state is 9\n",
      "Tracking state: 10.\n",
      "Tracking state: 8.\n",
      "In Position: True.\n",
      "In Position: False.\n",
      "Scheduling check coroutines\n",
      "process as completed...\n",
      "Got False\n",
      "Telescope not in position\n",
      "atmcs: <State.ENABLED: 2>\n",
      "atptg: <State.ENABLED: 2>\n",
      "ataos: <State.ENABLED: 2>\n",
      "atpneumatics: <State.ENABLED: 2>\n",
      "athexapod: <State.ENABLED: 2>\n",
      "atdome: <State.ENABLED: 2>\n",
      "atdometrajectory: <State.ENABLED: 2>\n",
      "[Telescope] delta Alt = +036.012 | delta Az= -143.423 [Dome] delta Az = -146.436\n",
      "[Telescope] delta Alt = +034.443 | delta Az= -141.737 [Dome] delta Az = -145.866\n",
      "[Telescope] delta Alt = +030.473 | delta Az= -137.771 [Dome] delta Az = -144.366\n",
      "[Telescope] delta Alt = +026.487 | delta Az= -133.787 [Dome] delta Az = -141.946\n",
      "[Telescope] delta Alt = +022.542 | delta Az= -129.802 [Dome] delta Az = -138.596\n",
      "[Telescope] delta Alt = +018.697 | delta Az= -125.819 [Dome] delta Az = -134.316\n",
      "[Telescope] delta Alt = +015.030 | delta Az= -121.837 [Dome] delta Az = -129.696\n",
      "[Telescope] delta Alt = +011.628 | delta Az= -117.850 [Dome] delta Az = -123.676\n",
      "[Telescope] delta Alt = +008.567 | delta Az= -113.866 [Dome] delta Az = -116.886\n",
      "[Telescope] delta Alt = +005.935 | delta Az= -109.883 [Dome] delta Az = -109.966\n",
      "[Telescope] delta Alt = +003.789 | delta Az= -105.899 [Dome] delta Az = -103.116\n",
      "[Telescope] delta Alt = +002.155 | delta Az= -101.915 [Dome] delta Az = -096.246\n",
      "[Telescope] delta Alt = +001.038 | delta Az= -097.931 [Dome] delta Az = -089.336\n",
      "[Telescope] delta Alt = +000.390 | delta Az= -093.948 [Dome] delta Az = -083.146\n",
      "[Telescope] delta Alt = +000.124 | delta Az= -089.962 [Dome] delta Az = -076.246\n",
      "[Telescope] delta Alt = +000.081 | delta Az= -085.978 [Dome] delta Az = -069.376\n",
      "[Telescope] delta Alt = +000.081 | delta Az= -081.996 [Dome] delta Az = -062.506\n",
      "[Telescope] delta Alt = +000.081 | delta Az= -078.010 [Dome] delta Az = -056.306\n",
      "[Telescope] delta Alt = +000.081 | delta Az= -074.024 [Dome] delta Az = -048.726\n",
      "[Telescope] delta Alt = +000.081 | delta Az= -070.045 [Dome] delta Az = -042.546\n",
      "[Telescope] delta Alt = +000.081 | delta Az= -066.059 [Dome] delta Az = -035.656\n",
      "[Telescope] delta Alt = +000.081 | delta Az= -062.074 [Dome] delta Az = -028.796\n",
      "[Telescope] delta Alt = +000.081 | delta Az= -058.091 [Dome] delta Az = -021.916\n",
      "[Telescope] delta Alt = +000.081 | delta Az= -054.107 [Dome] delta Az = -015.036\n",
      "[Telescope] delta Alt = +000.081 | delta Az= -050.123 [Dome] delta Az = -008.156\n",
      "[Telescope] delta Alt = +000.081 | delta Az= -046.140 [Dome] delta Az = -002.146\n",
      "[Telescope] delta Alt = +000.081 | delta Az= -042.153 [Dome] delta Az = +001.954\n",
      "[Telescope] delta Alt = +000.081 | delta Az= -038.171 [Dome] delta Az = +002.954\n",
      "[Telescope] delta Alt = +000.081 | delta Az= -034.187 [Dome] delta Az = +002.954\n",
      "[Telescope] delta Alt = +000.081 | delta Az= -030.203 [Dome] delta Az = +002.954\n",
      "[Telescope] delta Alt = +000.081 | delta Az= -026.231 [Dome] delta Az = +002.954\n",
      "[Telescope] delta Alt = +000.080 | delta Az= -022.302 [Dome] delta Az = +002.954\n",
      "[Telescope] delta Alt = +000.080 | delta Az= -018.485 [Dome] delta Az = +002.954\n",
      "[Telescope] delta Alt = +000.080 | delta Az= -014.855 [Dome] delta Az = +002.954\n",
      "[Telescope] delta Alt = +000.080 | delta Az= -011.494 [Dome] delta Az = +002.954\n",
      "[Telescope] delta Alt = +000.081 | delta Az= -008.486 [Dome] delta Az = +002.954\n",
      "[Telescope] delta Alt = +000.082 | delta Az= -007.145 [Dome] delta Az = +002.954\n",
      "[Telescope] delta Alt = +000.081 | delta Az= -004.799 [Dome] delta Az = +002.954\n",
      "[Telescope] delta Alt = +000.080 | delta Az= -002.961 [Dome] delta Az = +002.954\n",
      "[Telescope] delta Alt = +000.080 | delta Az= -001.641 [Dome] delta Az = +002.954\n",
      "[Telescope] delta Alt = +000.080 | delta Az= -000.816 [Dome] delta Az = +002.954\n",
      "[Telescope] delta Alt = +000.080 | delta Az= -000.408 [Dome] delta Az = +002.954\n",
      "[Telescope] delta Alt = +000.080 | delta Az= -000.297 [Dome] delta Az = +002.954\n",
      "[Telescope] delta Alt = +000.081 | delta Az= -000.294 [Dome] delta Az = +002.954\n",
      "Got True\n",
      "Waiting for telescope to settle.\n",
      "[Telescope] delta Alt = +000.080 | delta Az= -000.292 [Dome] delta Az = +002.954\n",
      "[Telescope] delta Alt = +000.080 | delta Az= -000.293 [Dome] delta Az = +002.954\n",
      "Telescope in position.\n",
      "ATDome in position.\n",
      "['Telescope in position.', 'ATDome in position.']\n"
     ]
    }
   ],
   "source": [
    "await attcs.slew_object(name = \"HD 57682\", pa_ang = 0.0, slew_timeout = 240.0) "
   ]
  },
  {
   "cell_type": "code",
   "execution_count": 83,
   "metadata": {},
   "outputs": [
    {
     "data": {
      "text/plain": [
       "<lsst.ts.salobj.ddsutil.ATAOS_ackcmd_33d5c92b at 0x7f8c18a2a748>"
      ]
     },
     "execution_count": 83,
     "metadata": {},
     "output_type": "execute_result"
    }
   ],
   "source": [
    "best_focus_fit = -0.2\n",
    "await attcs.ataos.cmd_applyFocusOffset.set_start(offset=best_focus_fit )"
   ]
  },
  {
   "cell_type": "code",
   "execution_count": 84,
   "metadata": {},
   "outputs": [
    {
     "name": "stdout",
     "output_type": "stream",
     "text": [
      "Slewing to HD 55439: 07 12 34.8111 -09 50 42.101\n",
      "Parallactic angle: -152.41634283112023 | Sky Angle: -109.36273294478181\n",
      "Sending command\n",
      "Stop tracking.\n",
      "Mount tracking state is 9\n",
      "Tracking state: 10.\n",
      "Tracking state: 8.\n",
      "In Position: True.\n",
      "In Position: False.\n",
      "Scheduling check coroutines\n",
      "process as completed...\n",
      "Got False\n",
      "Telescope not in position\n",
      "atmcs: <State.ENABLED: 2>\n",
      "atptg: <State.ENABLED: 2>\n",
      "ataos: <State.ENABLED: 2>\n",
      "atpneumatics: <State.ENABLED: 2>\n",
      "athexapod: <State.ENABLED: 2>\n",
      "atdome: <State.ENABLED: 2>\n",
      "atdometrajectory: <State.ENABLED: 2>\n",
      "[Telescope] delta Alt = +002.030 | delta Az= -004.208 [Dome] delta Az = +002.954\n",
      "[Telescope] delta Alt = +000.961 | delta Az= -002.769 [Dome] delta Az = +002.954\n",
      "[Telescope] delta Alt = +000.070 | delta Az= -000.455 [Dome] delta Az = +002.954\n",
      "[Telescope] delta Alt = +000.071 | delta Az= -000.332 [Dome] delta Az = +002.954\n",
      "Got True\n",
      "Waiting for telescope to settle.\n",
      "[Telescope] delta Alt = +000.070 | delta Az= -000.333 [Dome] delta Az = +002.954\n",
      "[Telescope] delta Alt = +000.070 | delta Az= -000.333 [Dome] delta Az = +002.954\n",
      "Telescope in position.\n",
      "ATDome in position.\n",
      "['Telescope in position.', 'ATDome in position.']\n"
     ]
    }
   ],
   "source": [
    "await attcs.slew_object(name = \"HD 55439\", pa_ang = 0.0, slew_timeout = 240.0) "
   ]
  },
  {
   "cell_type": "code",
   "execution_count": 85,
   "metadata": {},
   "outputs": [
    {
     "name": "stdout",
     "output_type": "stream",
     "text": [
      "Generating group_id\n",
      "OBJECT 0001 - 0001\n",
      "Waiting for header service LFO before continuing\n",
      "RemoteEvent(ATHeaderService, 0, logMessage) falling behind; read 12 messages\n"
     ]
    },
    {
     "data": {
      "text/plain": [
       "array([2020022100439])"
      ]
     },
     "execution_count": 85,
     "metadata": {},
     "output_type": "execute_result"
    },
    {
     "name": "stdout",
     "output_type": "stream",
     "text": [
      "RemoteEvent(ATHeaderService, 0, logMessage) falling behind; read 21 messages\n"
     ]
    }
   ],
   "source": [
    "await latiss.take_object(exptime=20, n=1, filter='empty_1',grating='ronchi90lpmm')"
   ]
  },
  {
   "cell_type": "code",
   "execution_count": null,
   "metadata": {},
   "outputs": [],
   "source": [
    "#Robert moved us to HD185975 "
   ]
  },
  {
   "cell_type": "code",
   "execution_count": 86,
   "metadata": {},
   "outputs": [
    {
     "name": "stdout",
     "output_type": "stream",
     "text": [
      "Resetting dropped connection: simbad.u-strasbg.fr\n",
      "http://simbad.u-strasbg.fr:80 \"POST /simbad/sim-script HTTP/1.1\" 200 None\n",
      "Slewing to HD 223226: 23 47 56.1711 -66 34 02.834\n",
      "RemoteEvent(ATDomeTrajectory, 0, logMessage) falling behind; read 16 messages\n",
      "RemoteEvent(ATMCS, 0, target) falling behind; read 17 messages\n",
      "Parallactic angle: 112.54407786986533 | Sky Angle: 69.3573948682515\n",
      "Sending command\n",
      "Stop tracking.\n",
      "Mount tracking state is 9\n",
      "Tracking state: 10.\n",
      "Tracking state: 8.\n",
      "In Position: True.\n",
      "In Position: False.\n",
      "Scheduling check coroutines\n",
      "process as completed...\n",
      "Got False\n",
      "Telescope not in position\n",
      "atmcs: <State.ENABLED: 2>\n",
      "atptg: <State.ENABLED: 2>\n",
      "ataos: <State.ENABLED: 2>\n",
      "atpneumatics: <State.ENABLED: 2>\n",
      "athexapod: <State.ENABLED: 2>\n",
      "atdome: <State.ENABLED: 2>\n",
      "atdometrajectory: <State.ENABLED: 2>\n",
      "[Telescope] delta Alt = -004.609 | delta Az= +023.779 [Dome] delta Az = +020.770\n",
      "[Telescope] delta Alt = -003.367 | delta Az= +023.749 [Dome] delta Az = +020.210\n",
      "[Telescope] delta Alt = -000.484 | delta Az= +023.100 [Dome] delta Az = +018.730\n",
      "[Telescope] delta Alt = -000.057 | delta Az= +021.453 [Dome] delta Az = +016.610\n",
      "[Telescope] delta Alt = -000.056 | delta Az= +018.749 [Dome] delta Az = +013.370\n",
      "[Telescope] delta Alt = -000.056 | delta Az= +015.220 [Dome] delta Az = +009.210\n",
      "[Telescope] delta Alt = -000.056 | delta Az= +011.276 [Dome] delta Az = +004.140\n",
      "[Telescope] delta Alt = -000.056 | delta Az= +007.409 [Dome] delta Az = +000.630\n",
      "[Telescope] delta Alt = -000.056 | delta Az= +004.100 [Dome] delta Az = +000.020\n",
      "[Telescope] delta Alt = -000.056 | delta Az= +001.709 [Dome] delta Az = +000.020\n",
      "[Telescope] delta Alt = -000.056 | delta Az= +000.390 [Dome] delta Az = +000.020\n",
      "[Telescope] delta Alt = -000.056 | delta Az= -000.010 [Dome] delta Az = +000.020\n",
      "[Telescope] delta Alt = -000.056 | delta Az= -000.026 [Dome] delta Az = +000.020\n",
      "Got True\n",
      "Waiting for telescope to settle.\n",
      "[Telescope] delta Alt = -000.056 | delta Az= -000.027 [Dome] delta Az = +000.020\n",
      "[Telescope] delta Alt = -000.056 | delta Az= -000.027 [Dome] delta Az = +000.020\n",
      "Telescope in position.\n",
      "ATDome in position.\n",
      "['Telescope in position.', 'ATDome in position.']\n"
     ]
    }
   ],
   "source": [
    "await attcs.slew_object(name = \"HD 223226\", pa_ang = 0.0, slew_timeout = 240.0) "
   ]
  },
  {
   "cell_type": "code",
   "execution_count": 87,
   "metadata": {},
   "outputs": [
    {
     "name": "stdout",
     "output_type": "stream",
     "text": [
      "focus_positions = [-0.36 -0.32 -0.28 -0.24 -0.2  -0.16 -0.12 -0.08 -0.04]\n"
     ]
    }
   ],
   "source": [
    "#Focus units are given in mm \n",
    "focus_center = -0.2\n",
    "focus_step = 0.04\n",
    "n_steps = 9\n",
    "focus_positions = np.linspace(focus_center - focus_step * math.floor(n_steps / 2), focus_center + focus_step * math.ceil(n_steps / 2 - 1), n_steps)\n",
    "print ('focus_positions = ' + str(focus_positions))"
   ]
  },
  {
   "cell_type": "code",
   "execution_count": null,
   "metadata": {},
   "outputs": [],
   "source": []
  },
  {
   "cell_type": "code",
   "execution_count": 88,
   "metadata": {},
   "outputs": [
    {
     "name": "stdout",
     "output_type": "stream",
     "text": [
      "Working on focus position -0.36\n",
      "Generating group_id\n",
      "ENGTEST 0001 - 0001\n",
      "Waiting for header service LFO before continuing\n",
      "RemoteEvent(ATHeaderService, 0, logMessage) falling behind; read 11 messages\n",
      "Newest image id is = [2020022100441]\n",
      "Working on focus position -0.32\n",
      "Generating group_id\n",
      "ENGTEST 0001 - 0001\n",
      "Waiting for header service LFO before continuing\n",
      "Newest image id is = [2020022100442]\n",
      "Working on focus position -0.28\n",
      "Generating group_id\n",
      "ENGTEST 0001 - 0001\n",
      "Waiting for header service LFO before continuing\n",
      "RemoteEvent(ATHeaderService, 0, logMessage) falling behind; read 22 messages\n",
      "Newest image id is = [2020022100443]\n",
      "Working on focus position -0.24\n",
      "Generating group_id\n",
      "ENGTEST 0001 - 0001\n",
      "Waiting for header service LFO before continuing\n",
      "RemoteEvent(ATHeaderService, 0, logMessage) falling behind; read 24 messages\n",
      "Newest image id is = [2020022100444]\n",
      "Working on focus position -0.2\n",
      "Generating group_id\n",
      "ENGTEST 0001 - 0001\n",
      "Waiting for header service LFO before continuing\n",
      "RemoteEvent(ATHeaderService, 0, logMessage) falling behind; read 12 messages\n",
      "Newest image id is = [2020022100445]\n",
      "Working on focus position -0.16000000000000003\n",
      "Generating group_id\n",
      "ENGTEST 0001 - 0001\n",
      "Waiting for header service LFO before continuing\n",
      "Newest image id is = [2020022100446]\n",
      "Working on focus position -0.12000000000000002\n",
      "Generating group_id\n",
      "ENGTEST 0001 - 0001\n",
      "Waiting for header service LFO before continuing\n",
      "RemoteEvent(ATHeaderService, 0, logMessage) falling behind; read 13 messages\n",
      "Newest image id is = [2020022100447]\n",
      "Working on focus position -0.08000000000000002\n",
      "Generating group_id\n",
      "ENGTEST 0001 - 0001\n",
      "Waiting for header service LFO before continuing\n",
      "Newest image id is = [2020022100448]\n",
      "Working on focus position -0.04000000000000001\n",
      "Generating group_id\n",
      "ENGTEST 0001 - 0001\n",
      "Waiting for header service LFO before continuing\n",
      "RemoteEvent(ATHeaderService, 0, logMessage) falling behind; read 16 messages\n",
      "Newest image id is = [2020022100449]\n"
     ]
    },
    {
     "data": {
      "text/plain": [
       "<lsst.ts.salobj.ddsutil.ATAOS_ackcmd_33d5c92b at 0x7f8c2d94d400>"
      ]
     },
     "execution_count": 88,
     "metadata": {},
     "output_type": "execute_result"
    }
   ],
   "source": [
    "#!!!!DO NOT RUN UNLESS YOU HAVE BEEN CLEARED TO CONTROL TELESCOPE!!!!! \n",
    "focus_images = [0 for focus_pos in focus_positions]\n",
    "for i in range(len(focus_positions)): \n",
    "    focus_pos = focus_positions[i] \n",
    "    print ('Working on focus position ' + str(focus_pos))\n",
    "    attcs.athexapod.evt_positionUpdate.flush() \n",
    "    await attcs.ataos.cmd_applyFocusOffset.set_start(offset=focus_pos)\n",
    "    await attcs.athexapod.evt_positionUpdate.next(flush=False, timeout=attcs.long_timeout)\n",
    "    focus_image = await latiss.take_engtest(exptime=10.0, n=1, filter='empty_1', grating='ronchi90lpmm') \n",
    "    print ('Newest image id is = ' +str(focus_image) )\n",
    "    focus_images[i] = int(focus_image)\n",
    "    \n",
    "#This resets the focus position after taking this sequence: \n",
    "await attcs.ataos.cmd_applyFocusOffset.set_start(offset = focus_center)"
   ]
  },
  {
   "cell_type": "code",
   "execution_count": 89,
   "metadata": {},
   "outputs": [
    {
     "name": "stdout",
     "output_type": "stream",
     "text": [
      "Resetting dropped connection: simbad.u-strasbg.fr\n",
      "http://simbad.u-strasbg.fr:80 \"POST /simbad/sim-script HTTP/1.1\" 200 None\n",
      "Slewing to HD 42443: 06 09 47.9567 -22 46 27.634\n",
      "RemoteEvent(ATMCS, 0, target) falling behind; read 17 messages\n",
      "RemoteEvent(ATDomeTrajectory, 0, logMessage) falling behind; read 17 messages\n",
      "Parallactic angle: 142.02314768752848 | Sky Angle: 212.93235047971592\n",
      "Sending command\n",
      "Stop tracking.\n",
      "Mount tracking state is 9\n",
      "Tracking state: 10.\n",
      "Tracking state: 8.\n",
      "In Position: True.\n",
      "In Position: False.\n",
      "Scheduling check coroutines\n",
      "process as completed...\n",
      "Got False\n",
      "Telescope not in position\n",
      "atmcs: <State.ENABLED: 2>\n",
      "atptg: <State.ENABLED: 2>\n",
      "ataos: <State.ENABLED: 2>\n",
      "atpneumatics: <State.ENABLED: 2>\n",
      "athexapod: <State.ENABLED: 2>\n",
      "atdome: <State.ENABLED: 2>\n",
      "atdometrajectory: <State.ENABLED: 2>\n",
      "[Telescope] delta Alt = +057.446 | delta Az= +114.561 [Dome] delta Az = +114.392\n",
      "[Telescope] delta Alt = +056.269 | delta Az= +115.975 [Dome] delta Az = +113.852\n",
      "[Telescope] delta Alt = +052.365 | delta Az= +119.890 [Dome] delta Az = +112.382\n",
      "[Telescope] delta Alt = +048.358 | delta Az= +123.851 [Dome] delta Az = +110.262\n",
      "[Telescope] delta Alt = +044.354 | delta Az= +127.818 [Dome] delta Az = +107.032\n",
      "[Telescope] delta Alt = +040.350 | delta Az= +131.782 [Dome] delta Az = +102.892\n",
      "[Telescope] delta Alt = +036.345 | delta Az= +135.744 [Dome] delta Az = +097.822\n",
      "[Telescope] delta Alt = +032.341 | delta Az= +139.707 [Dome] delta Az = +091.832\n",
      "[Telescope] delta Alt = +028.338 | delta Az= +143.668 [Dome] delta Az = +085.102\n",
      "[Telescope] delta Alt = +024.356 | delta Az= +147.632 [Dome] delta Az = +078.882\n",
      "[Telescope] delta Alt = +020.443 | delta Az= +151.599 [Dome] delta Az = +072.012\n",
      "[Telescope] delta Alt = +016.669 | delta Az= +155.563 [Dome] delta Az = +065.132\n",
      "[Telescope] delta Alt = +013.113 | delta Az= +159.523 [Dome] delta Az = +058.252\n",
      "[Telescope] delta Alt = +009.868 | delta Az= +163.487 [Dome] delta Az = +051.362\n",
      "[Telescope] delta Alt = +007.011 | delta Az= +167.451 [Dome] delta Az = +044.492\n",
      "[Telescope] delta Alt = +004.612 | delta Az= +171.412 [Dome] delta Az = +037.592\n",
      "[Telescope] delta Alt = +002.722 | delta Az= +175.375 [Dome] delta Az = +030.732\n",
      "[Telescope] delta Alt = +001.352 | delta Az= +179.338 [Dome] delta Az = +024.512\n",
      "[Telescope] delta Alt = +000.482 | delta Az= -176.694 [Dome] delta Az = +017.632\n",
      "[Telescope] delta Alt = +000.050 | delta Az= -172.732 [Dome] delta Az = +010.752\n",
      "[Telescope] delta Alt = -000.081 | delta Az= -168.768 [Dome] delta Az = +003.892\n",
      "[Telescope] delta Alt = -000.088 | delta Az= -164.805 [Dome] delta Az = -001.178\n",
      "[Telescope] delta Alt = -000.087 | delta Az= -160.844 [Dome] delta Az = -003.018\n",
      "[Telescope] delta Alt = -000.087 | delta Az= -156.879 [Dome] delta Az = -003.038\n",
      "[Telescope] delta Alt = -000.087 | delta Az= -152.911 [Dome] delta Az = -003.038\n",
      "[Telescope] delta Alt = -000.087 | delta Az= -148.951 [Dome] delta Az = -003.038\n",
      "[Telescope] delta Alt = -000.087 | delta Az= -144.987 [Dome] delta Az = -003.038\n",
      "[Telescope] delta Alt = -000.087 | delta Az= -141.023 [Dome] delta Az = -003.038\n",
      "[Telescope] delta Alt = -000.087 | delta Az= -137.059 [Dome] delta Az = -003.038\n",
      "[Telescope] delta Alt = -000.087 | delta Az= -133.092 [Dome] delta Az = -003.038\n",
      "[Telescope] delta Alt = -000.087 | delta Az= -129.130 [Dome] delta Az = -003.038\n",
      "[Telescope] delta Alt = -000.087 | delta Az= -125.167 [Dome] delta Az = -003.038\n",
      "[Telescope] delta Alt = -000.087 | delta Az= -121.202 [Dome] delta Az = -003.038\n",
      "[Telescope] delta Alt = -000.087 | delta Az= -117.239 [Dome] delta Az = -003.038\n",
      "[Telescope] delta Alt = -000.087 | delta Az= -113.272 [Dome] delta Az = -003.038\n",
      "[Telescope] delta Alt = -000.087 | delta Az= -109.308 [Dome] delta Az = -003.038\n",
      "[Telescope] delta Alt = -000.087 | delta Az= -105.347 [Dome] delta Az = -003.038\n",
      "[Telescope] delta Alt = -000.087 | delta Az= -101.382 [Dome] delta Az = -003.038\n",
      "[Telescope] delta Alt = -000.088 | delta Az= -097.417 [Dome] delta Az = -003.038\n",
      "[Telescope] delta Alt = -000.088 | delta Az= -093.455 [Dome] delta Az = -003.038\n",
      "[Telescope] delta Alt = -000.087 | delta Az= -089.488 [Dome] delta Az = -003.038\n",
      "[Telescope] delta Alt = -000.087 | delta Az= -085.523 [Dome] delta Az = -003.038\n",
      "[Telescope] delta Alt = -000.088 | delta Az= -081.559 [Dome] delta Az = -003.038\n",
      "[Telescope] delta Alt = -000.088 | delta Az= -077.595 [Dome] delta Az = -003.038\n",
      "[Telescope] delta Alt = -000.088 | delta Az= -073.632 [Dome] delta Az = -003.038\n",
      "[Telescope] delta Alt = -000.088 | delta Az= -069.668 [Dome] delta Az = -003.038\n",
      "[Telescope] delta Alt = -000.088 | delta Az= -065.700 [Dome] delta Az = -003.038\n",
      "[Telescope] delta Alt = -000.088 | delta Az= -061.735 [Dome] delta Az = -003.038\n",
      "[Telescope] delta Alt = -000.088 | delta Az= -057.772 [Dome] delta Az = -003.038\n",
      "[Telescope] delta Alt = -000.088 | delta Az= -053.808 [Dome] delta Az = -003.038\n",
      "[Telescope] delta Alt = -000.088 | delta Az= -049.845 [Dome] delta Az = -003.038\n",
      "[Telescope] delta Alt = -000.088 | delta Az= -045.875 [Dome] delta Az = -003.038\n",
      "[Telescope] delta Alt = -000.088 | delta Az= -041.910 [Dome] delta Az = -003.038\n",
      "[Telescope] delta Alt = -000.088 | delta Az= -037.948 [Dome] delta Az = -003.038\n",
      "[Telescope] delta Alt = -000.089 | delta Az= -033.985 [Dome] delta Az = -003.038\n",
      "[Telescope] delta Alt = -000.089 | delta Az= -030.019 [Dome] delta Az = -003.038\n",
      "[Telescope] delta Alt = -000.088 | delta Az= -026.063 [Dome] delta Az = -003.038\n",
      "[Telescope] delta Alt = -000.089 | delta Az= -022.164 [Dome] delta Az = -003.038\n",
      "[Telescope] delta Alt = -000.089 | delta Az= -018.376 [Dome] delta Az = -003.038\n",
      "[Telescope] delta Alt = -000.089 | delta Az= -014.781 [Dome] delta Az = -003.038\n",
      "[Telescope] delta Alt = -000.089 | delta Az= -011.465 [Dome] delta Az = -003.038\n",
      "[Telescope] delta Alt = -000.089 | delta Az= -008.508 [Dome] delta Az = -003.038\n",
      "[Telescope] delta Alt = -000.089 | delta Az= -005.983 [Dome] delta Az = -003.038\n",
      "[Telescope] delta Alt = -000.089 | delta Az= -003.948 [Dome] delta Az = -003.038\n",
      "[Telescope] delta Alt = -000.089 | delta Az= -002.431 [Dome] delta Az = -003.038\n",
      "[Telescope] delta Alt = -000.089 | delta Az= -001.420 [Dome] delta Az = -003.038\n",
      "[Telescope] delta Alt = -000.089 | delta Az= -000.866 [Dome] delta Az = -003.038\n",
      "[Telescope] delta Alt = -000.089 | delta Az= -000.657 [Dome] delta Az = -003.038\n",
      "[Telescope] delta Alt = -000.089 | delta Az= -000.632 [Dome] delta Az = -003.038\n",
      "Got True\n",
      "Waiting for telescope to settle.\n",
      "[Telescope] delta Alt = -000.089 | delta Az= -000.632 [Dome] delta Az = -003.038\n",
      "[Telescope] delta Alt = -000.089 | delta Az= -000.631 [Dome] delta Az = -003.038\n",
      "Telescope in position.\n",
      "ATDome in position.\n",
      "['Telescope in position.', 'ATDome in position.']\n"
     ]
    }
   ],
   "source": [
    "await attcs.slew_object(name = \"HD 42443\", pa_ang = 0.0, slew_timeout = 240.0) "
   ]
  },
  {
   "cell_type": "code",
   "execution_count": 90,
   "metadata": {},
   "outputs": [
    {
     "name": "stdout",
     "output_type": "stream",
     "text": [
      "Generating group_id\n",
      "OBJECT 0001 - 0001\n",
      "Waiting for header service LFO before continuing\n",
      "RemoteEvent(ATHeaderService, 0, logMessage) falling behind; read 14 messages\n"
     ]
    },
    {
     "data": {
      "text/plain": [
       "array([2020022100450])"
      ]
     },
     "execution_count": 90,
     "metadata": {},
     "output_type": "execute_result"
    },
    {
     "name": "stdout",
     "output_type": "stream",
     "text": [
      "RemoteEvent(ATMCS, 0, target) falling behind; read 11 messages\n",
      "RemoteEvent(ATDomeTrajectory, 0, logMessage) falling behind; read 47 messages\n",
      "RemoteEvent(ATMCS, 0, target) falling behind; read 12 messages\n"
     ]
    }
   ],
   "source": [
    "await latiss.take_object(exptime=20, n=1, filter='empty_1',grating='ronchi90lpmm')"
   ]
  },
  {
   "cell_type": "code",
   "execution_count": 91,
   "metadata": {},
   "outputs": [
    {
     "name": "stdout",
     "output_type": "stream",
     "text": [
      "Applying x/y offset: -25/ -100 \n",
      "Applying Az/El offset: 102.80852739193006/ 7.443567390893087 \n",
      "Waiting for telescope to settle.\n",
      "Done\n"
     ]
    }
   ],
   "source": [
    "await attcs.offset_xy(x = -25, y = -100, persistent = True )"
   ]
  },
  {
   "cell_type": "code",
   "execution_count": 92,
   "metadata": {},
   "outputs": [
    {
     "name": "stdout",
     "output_type": "stream",
     "text": [
      "Generating group_id\n",
      "OBJECT 0001 - 0001\n",
      "Waiting for header service LFO before continuing\n",
      "RemoteEvent(ATHeaderService, 0, logMessage) falling behind; read 18 messages\n"
     ]
    },
    {
     "data": {
      "text/plain": [
       "array([2020022100451])"
      ]
     },
     "execution_count": 92,
     "metadata": {},
     "output_type": "execute_result"
    }
   ],
   "source": [
    "await latiss.take_object(exptime=5, n=1, filter='empty_1',grating='ronchi90lpmm')"
   ]
  },
  {
   "cell_type": "code",
   "execution_count": 96,
   "metadata": {},
   "outputs": [
    {
     "name": "stdout",
     "output_type": "stream",
     "text": [
      "focus_positions = [-0.4  -0.35 -0.3  -0.25 -0.2  -0.15 -0.1  -0.05  0.  ]\n"
     ]
    }
   ],
   "source": [
    "#Focus units are given in mm \n",
    "focus_center = -0.2\n",
    "focus_step = 0.05\n",
    "n_steps = 9\n",
    "focus_positions = np.linspace(focus_center - focus_step * math.floor(n_steps / 2), focus_center + focus_step * math.ceil(n_steps / 2 - 1), n_steps)\n",
    "print ('focus_positions = ' + str(focus_positions))"
   ]
  },
  {
   "cell_type": "code",
   "execution_count": 94,
   "metadata": {},
   "outputs": [
    {
     "name": "stdout",
     "output_type": "stream",
     "text": [
      "Applying x/y offset: 0/ 20 \n",
      "Applying Az/El offset: -19.69473804570516/ 3.480990277356958 \n",
      "Waiting for telescope to settle.\n",
      "Done\n"
     ]
    }
   ],
   "source": [
    "await attcs.offset_xy(x = 0, y = 20, persistent = True )"
   ]
  },
  {
   "cell_type": "code",
   "execution_count": 95,
   "metadata": {},
   "outputs": [
    {
     "name": "stdout",
     "output_type": "stream",
     "text": [
      "Generating group_id\n",
      "OBJECT 0001 - 0001\n",
      "Waiting for header service LFO before continuing\n",
      "RemoteEvent(ATHeaderService, 0, logMessage) falling behind; read 10 messages\n"
     ]
    },
    {
     "data": {
      "text/plain": [
       "array([2020022100452])"
      ]
     },
     "execution_count": 95,
     "metadata": {},
     "output_type": "execute_result"
    }
   ],
   "source": [
    "await latiss.take_object(exptime=5, n=1, filter='empty_1',grating='ronchi90lpmm')"
   ]
  },
  {
   "cell_type": "code",
   "execution_count": 97,
   "metadata": {},
   "outputs": [
    {
     "name": "stdout",
     "output_type": "stream",
     "text": [
      "Working on focus position -0.4\n",
      "Generating group_id\n",
      "ENGTEST 0001 - 0001\n",
      "Waiting for header service LFO before continuing\n",
      "Newest image id is = [2020022100453]\n",
      "Working on focus position -0.35000000000000003\n",
      "Generating group_id\n",
      "ENGTEST 0001 - 0001\n",
      "Waiting for header service LFO before continuing\n",
      "RemoteEvent(ATHeaderService, 0, logMessage) falling behind; read 15 messages\n",
      "Newest image id is = [2020022100454]\n",
      "Working on focus position -0.30000000000000004\n",
      "Generating group_id\n",
      "ENGTEST 0001 - 0001\n",
      "Waiting for header service LFO before continuing\n",
      "Newest image id is = [2020022100455]\n",
      "Working on focus position -0.25\n",
      "Generating group_id\n",
      "ENGTEST 0001 - 0001\n",
      "Waiting for header service LFO before continuing\n",
      "RemoteEvent(ATHeaderService, 0, logMessage) falling behind; read 17 messages\n",
      "Newest image id is = [2020022100456]\n",
      "Working on focus position -0.2\n",
      "Generating group_id\n",
      "ENGTEST 0001 - 0001\n",
      "Waiting for header service LFO before continuing\n",
      "RemoteEvent(ATHeaderService, 0, logMessage) falling behind; read 14 messages\n",
      "Newest image id is = [2020022100457]\n",
      "Working on focus position -0.15000000000000002\n",
      "Generating group_id\n",
      "ENGTEST 0001 - 0001\n",
      "Waiting for header service LFO before continuing\n",
      "Newest image id is = [2020022100458]\n",
      "Working on focus position -0.09999999999999998\n",
      "Generating group_id\n",
      "ENGTEST 0001 - 0001\n",
      "Waiting for header service LFO before continuing\n",
      "RemoteEvent(ATHeaderService, 0, logMessage) falling behind; read 12 messages\n",
      "Newest image id is = [2020022100459]\n",
      "Working on focus position -0.04999999999999999\n",
      "Generating group_id\n",
      "ENGTEST 0001 - 0001\n",
      "Waiting for header service LFO before continuing\n",
      "RemoteEvent(ATHeaderService, 0, logMessage) falling behind; read 11 messages\n",
      "Newest image id is = [2020022100460]\n",
      "Working on focus position 0.0\n",
      "Generating group_id\n",
      "ENGTEST 0001 - 0001\n",
      "Waiting for header service LFO before continuing\n",
      "RemoteEvent(ATHeaderService, 0, logMessage) falling behind; read 13 messages\n",
      "Newest image id is = [2020022100461]\n"
     ]
    },
    {
     "data": {
      "text/plain": [
       "<lsst.ts.salobj.ddsutil.ATAOS_ackcmd_33d5c92b at 0x7f8c14617860>"
      ]
     },
     "execution_count": 97,
     "metadata": {},
     "output_type": "execute_result"
    }
   ],
   "source": [
    "#!!!!DO NOT RUN UNLESS YOU HAVE BEEN CLEARED TO CONTROL TELESCOPE!!!!! \n",
    "focus_images = [0 for focus_pos in focus_positions]\n",
    "for i in range(len(focus_positions)): \n",
    "    focus_pos = focus_positions[i] \n",
    "    print ('Working on focus position ' + str(focus_pos))\n",
    "    attcs.athexapod.evt_positionUpdate.flush() \n",
    "    await attcs.ataos.cmd_applyFocusOffset.set_start(offset=focus_pos)\n",
    "    await attcs.athexapod.evt_positionUpdate.next(flush=False, timeout=attcs.long_timeout)\n",
    "    focus_image = await latiss.take_engtest(exptime=5.0, n=1, filter='empty_1', grating='ronchi90lpmm') \n",
    "    print ('Newest image id is = ' +str(focus_image) )\n",
    "    focus_images[i] = int(focus_image)\n",
    "    \n",
    "#This resets the focus position after taking this sequence: \n",
    "await attcs.ataos.cmd_applyFocusOffset.set_start(offset = focus_center)"
   ]
  },
  {
   "cell_type": "code",
   "execution_count": 98,
   "metadata": {},
   "outputs": [
    {
     "data": {
      "text/plain": [
       "<lsst.ts.salobj.ddsutil.ATAOS_ackcmd_33d5c92b at 0x7f8c189bab00>"
      ]
     },
     "execution_count": 98,
     "metadata": {},
     "output_type": "execute_result"
    }
   ],
   "source": [
    "best_focus_fit = -0.35\n",
    "await attcs.ataos.cmd_applyFocusOffset.set_start(offset=best_focus_fit )"
   ]
  },
  {
   "cell_type": "code",
   "execution_count": 99,
   "metadata": {},
   "outputs": [
    {
     "name": "stdout",
     "output_type": "stream",
     "text": [
      "Generating group_id\n",
      "OBJECT 0001 - 0001\n",
      "Waiting for header service LFO before continuing\n",
      "RemoteEvent(ATHeaderService, 0, logMessage) falling behind; read 11 messages\n"
     ]
    },
    {
     "data": {
      "text/plain": [
       "array([2020022100462])"
      ]
     },
     "execution_count": 99,
     "metadata": {},
     "output_type": "execute_result"
    }
   ],
   "source": [
    "await latiss.take_object(exptime=20, n=1, filter='empty_1',grating='ronchi90lpmm')"
   ]
  },
  {
   "cell_type": "code",
   "execution_count": 100,
   "metadata": {},
   "outputs": [
    {
     "data": {
      "text/plain": [
       "<lsst.ts.salobj.ddsutil.ATAOS_ackcmd_33d5c92b at 0x7f8c1897dac8>"
      ]
     },
     "execution_count": 100,
     "metadata": {},
     "output_type": "execute_result"
    }
   ],
   "source": [
    "best_focus_fit = -0.35\n",
    "focus_offset = 0.023\n",
    "await attcs.ataos.cmd_applyFocusOffset.set_start(offset=best_focus_fit + focus_offset)"
   ]
  },
  {
   "cell_type": "code",
   "execution_count": 101,
   "metadata": {},
   "outputs": [
    {
     "name": "stdout",
     "output_type": "stream",
     "text": [
      "Generating group_id\n",
      "OBJECT 0001 - 0001\n",
      "Waiting for header service LFO before continuing\n",
      "RemoteEvent(ATHeaderService, 0, logMessage) falling behind; read 12 messages\n"
     ]
    },
    {
     "data": {
      "text/plain": [
       "array([2020022100463])"
      ]
     },
     "execution_count": 101,
     "metadata": {},
     "output_type": "execute_result"
    },
    {
     "name": "stdout",
     "output_type": "stream",
     "text": [
      "RemoteEvent(ATHeaderService, 0, logMessage) falling behind; read 13 messages\n",
      "RemoteEvent(ATHeaderService, 0, logMessage) falling behind; read 12 messages\n"
     ]
    }
   ],
   "source": [
    "await latiss.take_object(exptime=20, n=1, filter='quadnotch1',grating='ronchi90lpmm')"
   ]
  },
  {
   "cell_type": "code",
   "execution_count": 102,
   "metadata": {},
   "outputs": [
    {
     "name": "stdout",
     "output_type": "stream",
     "text": [
      "Resetting dropped connection: simbad.u-strasbg.fr\n",
      "http://simbad.u-strasbg.fr:80 \"POST /simbad/sim-script HTTP/1.1\" 200 None\n",
      "Slewing to HD 39945: 05 54 39.1586 -26 39 36.988\n",
      "RemoteEvent(ATMCS, 0, target) falling behind; read 19 messages\n",
      "RemoteEvent(ATDomeTrajectory, 0, logMessage) falling behind; read 20 messages\n",
      "Parallactic angle: 108.87958360887124 | Sky Angle: 172.29477827544508\n",
      "Sending command\n",
      "Stop tracking.\n",
      "Mount tracking state is 9\n",
      "Tracking state: 10.\n",
      "Tracking state: 8.\n",
      "In Position: True.\n",
      "In Position: False.\n",
      "Scheduling check coroutines\n",
      "process as completed...\n",
      "Got False\n",
      "Telescope not in position\n",
      "atmcs: <State.ENABLED: 2>\n",
      "atptg: <State.ENABLED: 2>\n",
      "ataos: <State.ENABLED: 2>\n",
      "atpneumatics: <State.ENABLED: 2>\n",
      "athexapod: <State.ENABLED: 2>\n",
      "atdome: <State.ENABLED: 2>\n",
      "atdometrajectory: <State.ENABLED: 2>\n",
      "[Telescope] delta Alt = -001.250 | delta Az= -023.541 [Dome] delta Az = -040.784\n",
      "[Telescope] delta Alt = -000.549 | delta Az= -023.294 [Dome] delta Az = -040.324\n",
      "[Telescope] delta Alt = -000.129 | delta Az= -022.165 [Dome] delta Az = -038.914\n",
      "[Telescope] delta Alt = -000.129 | delta Az= -019.937 [Dome] delta Az = -036.584\n",
      "[Telescope] delta Alt = -000.129 | delta Az= -016.737 [Dome] delta Az = -033.324\n",
      "[Telescope] delta Alt = -000.129 | delta Az= -012.922 [Dome] delta Az = -029.624\n",
      "[Telescope] delta Alt = -000.128 | delta Az= -008.971 [Dome] delta Az = -024.644\n",
      "[Telescope] delta Alt = -000.128 | delta Az= -005.400 [Dome] delta Az = -018.744\n",
      "[Telescope] delta Alt = -000.129 | delta Az= -002.639 [Dome] delta Az = -012.034\n",
      "[Telescope] delta Alt = -000.128 | delta Az= -000.936 [Dome] delta Az = -004.444\n",
      "[Telescope] delta Alt = -000.129 | delta Az= -000.262 [Dome] delta Az = +000.446\n",
      "[Telescope] delta Alt = -000.129 | delta Az= -000.190 [Dome] delta Az = +002.806\n",
      "Got True\n",
      "Waiting for telescope to settle.\n",
      "[Telescope] delta Alt = -000.129 | delta Az= -000.190 [Dome] delta Az = +002.916\n",
      "[Telescope] delta Alt = -000.128 | delta Az= -000.189 [Dome] delta Az = +002.916\n",
      "Telescope in position.\n",
      "ATDome in position.\n",
      "['Telescope in position.', 'ATDome in position.']\n"
     ]
    }
   ],
   "source": [
    "await attcs.slew_object(name = \"HD 39945\", pa_ang = 0.0, slew_timeout = 240.0)"
   ]
  },
  {
   "cell_type": "code",
   "execution_count": 103,
   "metadata": {},
   "outputs": [
    {
     "name": "stdout",
     "output_type": "stream",
     "text": [
      "Generating group_id\n",
      "OBJECT 0001 - 0001\n",
      "RemoteEvent(ATHeaderService, 0, logMessage) falling behind; read 11 messages\n",
      "Waiting for header service LFO before continuing\n",
      "RemoteEvent(ATHeaderService, 0, logMessage) falling behind; read 11 messages\n"
     ]
    },
    {
     "data": {
      "text/plain": [
       "array([2020022100466])"
      ]
     },
     "execution_count": 103,
     "metadata": {},
     "output_type": "execute_result"
    }
   ],
   "source": [
    "await latiss.take_object(exptime=5, n=1, filter='quadnotch1',grating='ronchi90lpmm')"
   ]
  },
  {
   "cell_type": "code",
   "execution_count": 105,
   "metadata": {},
   "outputs": [
    {
     "name": "stdout",
     "output_type": "stream",
     "text": [
      "Applying x/y offset: -25/ -100 \n",
      "Applying Az/El offset: 103.07081449738621/ 1.1862541234493875 \n",
      "Waiting for telescope to settle.\n",
      "Done\n"
     ]
    }
   ],
   "source": [
    "await attcs.offset_xy(x = -25, y = -100)"
   ]
  },
  {
   "cell_type": "code",
   "execution_count": 106,
   "metadata": {},
   "outputs": [
    {
     "name": "stdout",
     "output_type": "stream",
     "text": [
      "Generating group_id\n",
      "OBJECT 0001 - 0001\n",
      "Waiting for header service LFO before continuing\n",
      "RemoteEvent(ATHeaderService, 0, logMessage) falling behind; read 10 messages\n"
     ]
    },
    {
     "data": {
      "text/plain": [
       "array([2020022100467])"
      ]
     },
     "execution_count": 106,
     "metadata": {},
     "output_type": "execute_result"
    }
   ],
   "source": [
    "await latiss.take_object(exptime=5, n=1, filter='empty_1',grating='ronchi90lpmm')"
   ]
  },
  {
   "cell_type": "code",
   "execution_count": 107,
   "metadata": {},
   "outputs": [
    {
     "data": {
      "text/plain": [
       "<lsst.ts.salobj.ddsutil.ATAOS_ackcmd_33d5c92b at 0x7f8c1443bcc0>"
      ]
     },
     "execution_count": 107,
     "metadata": {},
     "output_type": "execute_result"
    }
   ],
   "source": [
    "best_focus_fit = -0.35\n",
    "focus_offset = 0.0\n",
    "await attcs.ataos.cmd_applyFocusOffset.set_start(offset=best_focus_fit + focus_offset)"
   ]
  },
  {
   "cell_type": "code",
   "execution_count": 108,
   "metadata": {},
   "outputs": [
    {
     "name": "stdout",
     "output_type": "stream",
     "text": [
      "Generating group_id\n",
      "OBJECT 0001 - 0001\n",
      "Waiting for header service LFO before continuing\n",
      "RemoteEvent(ATHeaderService, 0, logMessage) falling behind; read 19 messages\n"
     ]
    },
    {
     "data": {
      "text/plain": [
       "array([2020022100468])"
      ]
     },
     "execution_count": 108,
     "metadata": {},
     "output_type": "execute_result"
    }
   ],
   "source": [
    "await latiss.take_object(exptime=40, n=1, filter='empty_1',grating='ronchi90lpmm')"
   ]
  },
  {
   "cell_type": "code",
   "execution_count": 109,
   "metadata": {},
   "outputs": [
    {
     "data": {
      "text/plain": [
       "<lsst.ts.salobj.ddsutil.ATAOS_ackcmd_33d5c92b at 0x7f8c18b779b0>"
      ]
     },
     "execution_count": 109,
     "metadata": {},
     "output_type": "execute_result"
    }
   ],
   "source": [
    "best_focus_fit = -0.35\n",
    "focus_offset = 0.023\n",
    "await attcs.ataos.cmd_applyFocusOffset.set_start(offset=best_focus_fit + focus_offset)"
   ]
  },
  {
   "cell_type": "code",
   "execution_count": 110,
   "metadata": {},
   "outputs": [
    {
     "name": "stdout",
     "output_type": "stream",
     "text": [
      "Generating group_id\n",
      "OBJECT 0001 - 0001\n",
      "Waiting for header service LFO before continuing\n",
      "RemoteEvent(ATHeaderService, 0, logMessage) falling behind; read 19 messages\n"
     ]
    },
    {
     "data": {
      "text/plain": [
       "array([2020022100469])"
      ]
     },
     "execution_count": 110,
     "metadata": {},
     "output_type": "execute_result"
    },
    {
     "name": "stdout",
     "output_type": "stream",
     "text": [
      "RemoteEvent(ATHeaderService, 0, logMessage) falling behind; read 15 messages\n",
      "RemoteEvent(ATHeaderService, 0, logMessage) falling behind; read 11 messages\n",
      "RemoteEvent(ATHeaderService, 0, logMessage) falling behind; read 15 messages\n",
      "RemoteEvent(ATHeaderService, 0, logMessage) falling behind; read 14 messages\n"
     ]
    }
   ],
   "source": [
    "await latiss.take_object(exptime=40, n=1, filter='quadnotch1',grating='ronchi90lpmm')"
   ]
  },
  {
   "cell_type": "code",
   "execution_count": 111,
   "metadata": {},
   "outputs": [
    {
     "name": "stdout",
     "output_type": "stream",
     "text": [
      "focus_positions = [-0.55 -0.5  -0.45 -0.4  -0.35 -0.3  -0.25 -0.2  -0.15]\n"
     ]
    }
   ],
   "source": [
    "#Focus units are given in mm \n",
    "focus_center = -0.35\n",
    "focus_step = 0.05\n",
    "n_steps = 9\n",
    "focus_positions = np.linspace(focus_center - focus_step * math.floor(n_steps / 2), focus_center + focus_step * math.ceil(n_steps / 2 - 1), n_steps)\n",
    "print ('focus_positions = ' + str(focus_positions))"
   ]
  },
  {
   "cell_type": "code",
   "execution_count": 112,
   "metadata": {},
   "outputs": [
    {
     "name": "stdout",
     "output_type": "stream",
     "text": [
      "Working on focus position -0.55\n",
      "Generating group_id\n",
      "ENGTEST 0001 - 0001\n",
      "Waiting for header service LFO before continuing\n",
      "RemoteEvent(ATHeaderService, 0, logMessage) falling behind; read 11 messages\n",
      "Newest image id is = [2020022100474]\n",
      "Working on focus position -0.5\n",
      "Generating group_id\n",
      "ENGTEST 0001 - 0001\n",
      "Waiting for header service LFO before continuing\n",
      "RemoteEvent(ATHeaderService, 0, logMessage) falling behind; read 13 messages\n",
      "Newest image id is = [2020022100475]\n",
      "Working on focus position -0.45\n",
      "Generating group_id\n",
      "ENGTEST 0001 - 0001\n",
      "Waiting for header service LFO before continuing\n",
      "RemoteEvent(ATHeaderService, 0, logMessage) falling behind; read 16 messages\n",
      "Newest image id is = [2020022100476]\n",
      "Working on focus position -0.4\n",
      "Generating group_id\n",
      "ENGTEST 0001 - 0001\n",
      "Waiting for header service LFO before continuing\n",
      "RemoteEvent(ATHeaderService, 0, logMessage) falling behind; read 28 messages\n",
      "Newest image id is = [2020022100477]\n",
      "Working on focus position -0.35\n",
      "Generating group_id\n",
      "ENGTEST 0001 - 0001\n",
      "Waiting for header service LFO before continuing\n",
      "RemoteEvent(ATHeaderService, 0, logMessage) falling behind; read 16 messages\n",
      "Newest image id is = [2020022100478]\n",
      "Working on focus position -0.3\n",
      "Generating group_id\n",
      "ENGTEST 0001 - 0001\n",
      "Waiting for header service LFO before continuing\n",
      "RemoteEvent(ATHeaderService, 0, logMessage) falling behind; read 13 messages\n",
      "Newest image id is = [2020022100479]\n",
      "Working on focus position -0.25\n",
      "Generating group_id\n",
      "ENGTEST 0001 - 0001\n",
      "Waiting for header service LFO before continuing\n",
      "RemoteEvent(ATHeaderService, 0, logMessage) falling behind; read 14 messages\n",
      "Newest image id is = [2020022100480]\n",
      "Working on focus position -0.19999999999999996\n",
      "Generating group_id\n",
      "ENGTEST 0001 - 0001\n",
      "Waiting for header service LFO before continuing\n",
      "RemoteEvent(ATHeaderService, 0, logMessage) falling behind; read 12 messages\n",
      "Newest image id is = [2020022100481]\n",
      "Working on focus position -0.14999999999999997\n",
      "Generating group_id\n",
      "ENGTEST 0001 - 0001\n",
      "Waiting for header service LFO before continuing\n",
      "RemoteEvent(ATHeaderService, 0, logMessage) falling behind; read 10 messages\n",
      "Newest image id is = [2020022100482]\n"
     ]
    },
    {
     "data": {
      "text/plain": [
       "<lsst.ts.salobj.ddsutil.ATAOS_ackcmd_33d5c92b at 0x7f8c2dd4b208>"
      ]
     },
     "execution_count": 112,
     "metadata": {},
     "output_type": "execute_result"
    },
    {
     "name": "stdout",
     "output_type": "stream",
     "text": [
      "RemoteEvent(ATHeaderService, 0, logMessage) falling behind; read 10 messages\n",
      "RemoteEvent(ATHeaderService, 0, logMessage) falling behind; read 20 messages\n",
      "RemoteEvent(ATHeaderService, 0, logMessage) falling behind; read 13 messages\n",
      "RemoteEvent(ATHeaderService, 0, logMessage) falling behind; read 16 messages\n"
     ]
    }
   ],
   "source": [
    "#!!!!DO NOT RUN UNLESS YOU HAVE BEEN CLEARED TO CONTROL TELESCOPE!!!!! \n",
    "focus_images = [0 for focus_pos in focus_positions]\n",
    "for i in range(len(focus_positions)): \n",
    "    focus_pos = focus_positions[i] \n",
    "    print ('Working on focus position ' + str(focus_pos))\n",
    "    attcs.athexapod.evt_positionUpdate.flush() \n",
    "    await attcs.ataos.cmd_applyFocusOffset.set_start(offset=focus_pos)\n",
    "    await attcs.athexapod.evt_positionUpdate.next(flush=False, timeout=attcs.long_timeout)\n",
    "    focus_image = await latiss.take_engtest(exptime=5.0, n=1, filter='empty_1', grating='ronchi90lpmm') \n",
    "    print ('Newest image id is = ' +str(focus_image) )\n",
    "    focus_images[i] = int(focus_image)\n",
    "    \n",
    "#This resets the focus position after taking this sequence: \n",
    "await attcs.ataos.cmd_applyFocusOffset.set_start(offset = focus_center)"
   ]
  },
  {
   "cell_type": "code",
   "execution_count": 113,
   "metadata": {},
   "outputs": [
    {
     "data": {
      "text/plain": [
       "<lsst.ts.salobj.ddsutil.ATAOS_ackcmd_33d5c92b at 0x7f8c2dd52630>"
      ]
     },
     "execution_count": 113,
     "metadata": {},
     "output_type": "execute_result"
    }
   ],
   "source": [
    "#new focus for ronchi\n",
    "best_focus_fit = -0.2\n",
    "focus_offset = 0.0\n",
    "await attcs.ataos.cmd_applyFocusOffset.set_start(offset=best_focus_fit + focus_offset)"
   ]
  },
  {
   "cell_type": "code",
   "execution_count": 114,
   "metadata": {},
   "outputs": [
    {
     "name": "stdout",
     "output_type": "stream",
     "text": [
      "Generating group_id\n",
      "OBJECT 0001 - 0001\n",
      "RemoteEvent(ATHeaderService, 0, logMessage) falling behind; read 11 messages\n",
      "Waiting for header service LFO before continuing\n",
      "RemoteEvent(ATHeaderService, 0, logMessage) falling behind; read 11 messages\n"
     ]
    },
    {
     "data": {
      "text/plain": [
       "array([2020022100488])"
      ]
     },
     "execution_count": 114,
     "metadata": {},
     "output_type": "execute_result"
    }
   ],
   "source": [
    "await latiss.take_object(exptime=40, n=1, filter='empty_1',grating='ronchi90lpmm')"
   ]
  },
  {
   "cell_type": "code",
   "execution_count": 115,
   "metadata": {},
   "outputs": [
    {
     "data": {
      "text/plain": [
       "<lsst.ts.salobj.ddsutil.ATAOS_ackcmd_33d5c92b at 0x7f8c2d9044e0>"
      ]
     },
     "execution_count": 115,
     "metadata": {},
     "output_type": "execute_result"
    }
   ],
   "source": [
    "#new focus for ronchi\n",
    "best_focus_fit = -0.2\n",
    "focus_offset = 0.023\n",
    "await attcs.ataos.cmd_applyFocusOffset.set_start(offset=best_focus_fit + focus_offset)"
   ]
  },
  {
   "cell_type": "code",
   "execution_count": 116,
   "metadata": {},
   "outputs": [
    {
     "name": "stdout",
     "output_type": "stream",
     "text": [
      "Generating group_id\n",
      "OBJECT 0001 - 0001\n",
      "Waiting for header service LFO before continuing\n",
      "RemoteEvent(ATHeaderService, 0, logMessage) falling behind; read 11 messages\n"
     ]
    },
    {
     "data": {
      "text/plain": [
       "array([2020022100489])"
      ]
     },
     "execution_count": 116,
     "metadata": {},
     "output_type": "execute_result"
    }
   ],
   "source": [
    "await latiss.take_object(exptime=40, n=1, filter='quadnotch1',grating='ronchi90lpmm')"
   ]
  },
  {
   "cell_type": "code",
   "execution_count": 117,
   "metadata": {},
   "outputs": [
    {
     "data": {
      "text/plain": [
       "<lsst.ts.salobj.ddsutil.ATAOS_ackcmd_33d5c92b at 0x7f8c2dab1438>"
      ]
     },
     "execution_count": 117,
     "metadata": {},
     "output_type": "execute_result"
    }
   ],
   "source": [
    "#new focus for ronchi\n",
    "best_focus_fit = -0.2\n",
    "focus_offset = 0.0\n",
    "await attcs.ataos.cmd_applyFocusOffset.set_start(offset=best_focus_fit + focus_offset)"
   ]
  },
  {
   "cell_type": "code",
   "execution_count": 118,
   "metadata": {},
   "outputs": [
    {
     "name": "stdout",
     "output_type": "stream",
     "text": [
      "Generating group_id\n",
      "OBJECT 0001 - 0001\n",
      "Waiting for header service LFO before continuing\n",
      "RemoteEvent(ATHeaderService, 0, logMessage) falling behind; read 16 messages\n"
     ]
    },
    {
     "data": {
      "text/plain": [
       "array([2020022100490])"
      ]
     },
     "execution_count": 118,
     "metadata": {},
     "output_type": "execute_result"
    }
   ],
   "source": [
    "await latiss.take_object(exptime=30, n=1, filter='empty_1',grating='ronchi90lpmm')"
   ]
  },
  {
   "cell_type": "code",
   "execution_count": 119,
   "metadata": {},
   "outputs": [
    {
     "name": "stdout",
     "output_type": "stream",
     "text": [
      "Resetting dropped connection: simbad.u-strasbg.fr\n",
      "http://simbad.u-strasbg.fr:80 \"POST /simbad/sim-script HTTP/1.1\" 200 None\n",
      "Slewing to HD 39764: 05 53 06.8821 -33 48 04.900\n",
      "RemoteEvent(ATMCS, 0, target) falling behind; read 16 messages\n",
      "RemoteEvent(ATDomeTrajectory, 0, logMessage) falling behind; read 17 messages\n",
      "Parallactic angle: 85.01947592665381 | Sky Angle: 137.86439650536698\n",
      "Sending command\n",
      "Stop tracking.\n",
      "Mount tracking state is 9\n",
      "Tracking state: 10.\n",
      "Tracking state: 8.\n",
      "In Position: True.\n",
      "In Position: False.\n",
      "Scheduling check coroutines\n",
      "process as completed...\n",
      "Got False\n",
      "Telescope not in position\n",
      "atmcs: <State.ENABLED: 2>\n",
      "atptg: <State.ENABLED: 2>\n",
      "ataos: <State.ENABLED: 2>\n",
      "atpneumatics: <State.ENABLED: 2>\n",
      "athexapod: <State.ENABLED: 2>\n",
      "atdome: <State.ENABLED: 2>\n",
      "atdometrajectory: <State.ENABLED: 2>\n",
      "[Telescope] delta Alt = +000.096 | delta Az= -022.542 [Dome] delta Az = -025.640\n",
      "[Telescope] delta Alt = -000.128 | delta Az= -025.484 [Dome] delta Az = -024.700\n",
      "[Telescope] delta Alt = -000.126 | delta Az= -029.480 [Dome] delta Az = -022.850\n",
      "[Telescope] delta Alt = -000.126 | delta Az= -033.478 [Dome] delta Az = -020.390\n",
      "[Telescope] delta Alt = -000.126 | delta Az= -037.476 [Dome] delta Az = -016.350\n",
      "[Telescope] delta Alt = -000.126 | delta Az= -041.474 [Dome] delta Az = -012.230\n",
      "[Telescope] delta Alt = -000.126 | delta Az= -045.472 [Dome] delta Az = -006.770\n",
      "[Telescope] delta Alt = -000.126 | delta Az= -049.470 [Dome] delta Az = -001.200\n",
      "[Telescope] delta Alt = -000.126 | delta Az= -053.468 [Dome] delta Az = +001.330\n",
      "[Telescope] delta Alt = -000.129 | delta Az= -055.466 [Dome] delta Az = +001.640\n",
      "[Telescope] delta Alt = -000.126 | delta Az= -059.464 [Dome] delta Az = +001.640\n",
      "[Telescope] delta Alt = -000.126 | delta Az= -063.464 [Dome] delta Az = +001.640\n",
      "[Telescope] delta Alt = -000.126 | delta Az= -067.461 [Dome] delta Az = +001.640\n",
      "[Telescope] delta Alt = -000.126 | delta Az= -071.460 [Dome] delta Az = +001.640\n",
      "[Telescope] delta Alt = -000.126 | delta Az= -075.457 [Dome] delta Az = +001.640\n",
      "[Telescope] delta Alt = -000.126 | delta Az= -079.455 [Dome] delta Az = +001.640\n",
      "[Telescope] delta Alt = -000.126 | delta Az= -083.454 [Dome] delta Az = +001.640\n",
      "[Telescope] delta Alt = -000.126 | delta Az= -087.451 [Dome] delta Az = +001.640\n",
      "[Telescope] delta Alt = -000.126 | delta Az= -091.450 [Dome] delta Az = +001.640\n",
      "[Telescope] delta Alt = -000.126 | delta Az= -095.448 [Dome] delta Az = +001.640\n",
      "[Telescope] delta Alt = -000.126 | delta Az= -099.445 [Dome] delta Az = +001.640\n",
      "[Telescope] delta Alt = -000.126 | delta Az= -103.444 [Dome] delta Az = +001.640\n",
      "[Telescope] delta Alt = -000.126 | delta Az= -107.443 [Dome] delta Az = +001.640\n",
      "[Telescope] delta Alt = -000.126 | delta Az= -111.440 [Dome] delta Az = +001.640\n",
      "[Telescope] delta Alt = -000.126 | delta Az= -115.437 [Dome] delta Az = +001.640\n",
      "[Telescope] delta Alt = -000.126 | delta Az= -119.436 [Dome] delta Az = +001.640\n",
      "[Telescope] delta Alt = -000.126 | delta Az= -123.434 [Dome] delta Az = +001.640\n",
      "[Telescope] delta Alt = -000.126 | delta Az= -127.432 [Dome] delta Az = +001.640\n",
      "[Telescope] delta Alt = -000.126 | delta Az= -131.430 [Dome] delta Az = +001.640\n",
      "[Telescope] delta Alt = -000.126 | delta Az= -135.428 [Dome] delta Az = +001.640\n",
      "[Telescope] delta Alt = -000.126 | delta Az= -139.426 [Dome] delta Az = +001.640\n",
      "[Telescope] delta Alt = -000.126 | delta Az= -143.424 [Dome] delta Az = +001.640\n",
      "[Telescope] delta Alt = -000.126 | delta Az= -147.423 [Dome] delta Az = +001.640\n",
      "[Telescope] delta Alt = -000.126 | delta Az= -151.421 [Dome] delta Az = +001.640\n",
      "[Telescope] delta Alt = -000.126 | delta Az= -155.418 [Dome] delta Az = +001.640\n",
      "[Telescope] delta Alt = -000.126 | delta Az= -159.417 [Dome] delta Az = +001.640\n",
      "[Telescope] delta Alt = -000.126 | delta Az= -163.416 [Dome] delta Az = +001.640\n",
      "[Telescope] delta Alt = -000.125 | delta Az= -167.413 [Dome] delta Az = +001.640\n",
      "[Telescope] delta Alt = -000.126 | delta Az= -171.410 [Dome] delta Az = +001.640\n",
      "[Telescope] delta Alt = -000.126 | delta Az= -175.410 [Dome] delta Az = +001.640\n",
      "[Telescope] delta Alt = -000.126 | delta Az= -179.408 [Dome] delta Az = +001.640\n",
      "[Telescope] delta Alt = -000.126 | delta Az= +176.595 [Dome] delta Az = +001.640\n",
      "[Telescope] delta Alt = -000.126 | delta Az= +172.597 [Dome] delta Az = +001.640\n",
      "[Telescope] delta Alt = -000.126 | delta Az= +168.598 [Dome] delta Az = +001.640\n",
      "[Telescope] delta Alt = -000.126 | delta Az= +164.600 [Dome] delta Az = +001.640\n",
      "[Telescope] delta Alt = -000.126 | delta Az= +160.602 [Dome] delta Az = +001.640\n",
      "[Telescope] delta Alt = -000.126 | delta Az= +156.603 [Dome] delta Az = +001.640\n",
      "[Telescope] delta Alt = -000.126 | delta Az= +152.605 [Dome] delta Az = +001.640\n",
      "[Telescope] delta Alt = -000.126 | delta Az= +148.608 [Dome] delta Az = +001.640\n",
      "[Telescope] delta Alt = -000.126 | delta Az= +144.609 [Dome] delta Az = +001.640\n",
      "[Telescope] delta Alt = -000.127 | delta Az= +140.610 [Dome] delta Az = +001.640\n",
      "[Telescope] delta Alt = -000.126 | delta Az= +136.613 [Dome] delta Az = +001.640\n",
      "[Telescope] delta Alt = -000.126 | delta Az= +132.615 [Dome] delta Az = +001.640\n",
      "[Telescope] delta Alt = -000.126 | delta Az= +128.616 [Dome] delta Az = +001.640\n",
      "[Telescope] delta Alt = -000.125 | delta Az= +124.618 [Dome] delta Az = +001.640\n",
      "[Telescope] delta Alt = -000.126 | delta Az= +120.620 [Dome] delta Az = +001.640\n",
      "[Telescope] delta Alt = -000.126 | delta Az= +116.622 [Dome] delta Az = +001.640\n",
      "[Telescope] delta Alt = -000.126 | delta Az= +112.624 [Dome] delta Az = +001.640\n",
      "[Telescope] delta Alt = -000.126 | delta Az= +108.626 [Dome] delta Az = +001.640\n",
      "[Telescope] delta Alt = -000.126 | delta Az= +104.627 [Dome] delta Az = +001.640\n",
      "[Telescope] delta Alt = -000.126 | delta Az= +100.629 [Dome] delta Az = +001.640\n",
      "[Telescope] delta Alt = -000.126 | delta Az= +096.631 [Dome] delta Az = +001.640\n",
      "[Telescope] delta Alt = -000.127 | delta Az= +092.634 [Dome] delta Az = +001.640\n",
      "[Telescope] delta Alt = -000.126 | delta Az= +088.634 [Dome] delta Az = +001.640\n",
      "[Telescope] delta Alt = -000.126 | delta Az= +084.635 [Dome] delta Az = +001.640\n",
      "[Telescope] delta Alt = -000.129 | delta Az= +082.638 [Dome] delta Az = +001.640\n",
      "[Telescope] delta Alt = -000.126 | delta Az= +078.639 [Dome] delta Az = +001.640\n",
      "[Telescope] delta Alt = -000.126 | delta Az= +074.640 [Dome] delta Az = +001.640\n",
      "[Telescope] delta Alt = -000.126 | delta Az= +070.642 [Dome] delta Az = +001.640\n",
      "[Telescope] delta Alt = -000.126 | delta Az= +066.644 [Dome] delta Az = +001.640\n",
      "[Telescope] delta Alt = -000.126 | delta Az= +062.645 [Dome] delta Az = +001.640\n",
      "[Telescope] delta Alt = -000.126 | delta Az= +058.648 [Dome] delta Az = +001.640\n",
      "[Telescope] delta Alt = -000.126 | delta Az= +054.650 [Dome] delta Az = +001.640\n",
      "[Telescope] delta Alt = -000.126 | delta Az= +050.650 [Dome] delta Az = +001.640\n",
      "[Telescope] delta Alt = -000.126 | delta Az= +046.653 [Dome] delta Az = +001.640\n",
      "[Telescope] delta Alt = -000.126 | delta Az= +042.655 [Dome] delta Az = +001.640\n",
      "[Telescope] delta Alt = -000.126 | delta Az= +038.656 [Dome] delta Az = +001.640\n",
      "[Telescope] delta Alt = -000.126 | delta Az= +034.658 [Dome] delta Az = +001.640\n",
      "[Telescope] delta Alt = -000.126 | delta Az= +030.660 [Dome] delta Az = +001.640\n",
      "[Telescope] delta Alt = -000.126 | delta Az= +026.669 [Dome] delta Az = +001.640\n",
      "[Telescope] delta Alt = -000.126 | delta Az= +022.718 [Dome] delta Az = +001.640\n",
      "[Telescope] delta Alt = -000.126 | delta Az= +018.864 [Dome] delta Az = +001.640\n",
      "[Telescope] delta Alt = -000.129 | delta Az= +016.997 [Dome] delta Az = +001.640\n",
      "[Telescope] delta Alt = -000.126 | delta Az= +013.436 [Dome] delta Az = +001.640\n",
      "[Telescope] delta Alt = -000.126 | delta Az= +010.175 [Dome] delta Az = +001.640\n",
      "[Telescope] delta Alt = -000.126 | delta Az= +007.298 [Dome] delta Az = +001.640\n",
      "[Telescope] delta Alt = -000.126 | delta Az= +004.874 [Dome] delta Az = +001.640\n",
      "[Telescope] delta Alt = -000.126 | delta Az= +002.951 [Dome] delta Az = +001.640\n",
      "[Telescope] delta Alt = -000.126 | delta Az= +001.548 [Dome] delta Az = +001.640\n",
      "[Telescope] delta Alt = -000.126 | delta Az= +000.649 [Dome] delta Az = +001.640\n",
      "[Telescope] delta Alt = -000.126 | delta Az= +000.186 [Dome] delta Az = +001.640\n",
      "[Telescope] delta Alt = -000.126 | delta Az= +000.040 [Dome] delta Az = +001.640\n",
      "[Telescope] delta Alt = -000.126 | delta Az= +000.031 [Dome] delta Az = +001.640\n",
      "Got True\n",
      "Waiting for telescope to settle.\n",
      "[Telescope] delta Alt = -000.126 | delta Az= +000.031 [Dome] delta Az = +001.640\n",
      "[Telescope] delta Alt = -000.126 | delta Az= +000.031 [Dome] delta Az = +001.640\n",
      "Telescope in position.\n",
      "ATDome in position.\n",
      "['Telescope in position.', 'ATDome in position.']\n"
     ]
    }
   ],
   "source": [
    "await attcs.slew_object(name = \"HD 39764\", pa_ang = 0.0, slew_timeout = 240.0)"
   ]
  },
  {
   "cell_type": "code",
   "execution_count": 120,
   "metadata": {},
   "outputs": [
    {
     "name": "stdout",
     "output_type": "stream",
     "text": [
      "Generating group_id\n",
      "OBJECT 0001 - 0001\n",
      "Waiting for header service LFO before continuing\n",
      "RemoteEvent(ATHeaderService, 0, logMessage) falling behind; read 15 messages\n"
     ]
    },
    {
     "data": {
      "text/plain": [
       "array([2020022100491])"
      ]
     },
     "execution_count": 120,
     "metadata": {},
     "output_type": "execute_result"
    }
   ],
   "source": [
    "await latiss.take_object(exptime=5, n=1, filter='empty_1',grating='ronchi90lpmm')"
   ]
  },
  {
   "cell_type": "code",
   "execution_count": 121,
   "metadata": {},
   "outputs": [
    {
     "name": "stdout",
     "output_type": "stream",
     "text": [
      "Applying x/y offset: -30/ -90 \n",
      "Applying Az/El offset: 94.85791147825925/ -1.4059267344812092 \n",
      "Waiting for telescope to settle.\n",
      "Done\n"
     ]
    }
   ],
   "source": [
    "await attcs.offset_xy(x= -30, y = -90, persistent = True)"
   ]
  },
  {
   "cell_type": "code",
   "execution_count": 122,
   "metadata": {},
   "outputs": [
    {
     "name": "stdout",
     "output_type": "stream",
     "text": [
      "Generating group_id\n",
      "OBJECT 0001 - 0001\n",
      "Waiting for header service LFO before continuing\n",
      "RemoteEvent(ATHeaderService, 0, logMessage) falling behind; read 10 messages\n"
     ]
    },
    {
     "data": {
      "text/plain": [
       "array([2020022100492])"
      ]
     },
     "execution_count": 122,
     "metadata": {},
     "output_type": "execute_result"
    }
   ],
   "source": [
    "await latiss.take_object(exptime=5, n=1, filter='empty_1',grating='ronchi90lpmm')"
   ]
  },
  {
   "cell_type": "code",
   "execution_count": 123,
   "metadata": {},
   "outputs": [
    {
     "name": "stdout",
     "output_type": "stream",
     "text": [
      "Applying x/y offset: -10/ 0 \n",
      "Applying Az/El offset: 3.3356487081719726/ 9.427271487321804 \n",
      "Waiting for telescope to settle.\n",
      "Done\n"
     ]
    }
   ],
   "source": [
    "await attcs.offset_xy(x= -10, y = 0, persistent = True)"
   ]
  },
  {
   "cell_type": "code",
   "execution_count": 124,
   "metadata": {},
   "outputs": [
    {
     "name": "stdout",
     "output_type": "stream",
     "text": [
      "Generating group_id\n",
      "OBJECT 0001 - 0001\n",
      "Waiting for header service LFO before continuing\n",
      "RemoteEvent(ATHeaderService, 0, logMessage) falling behind; read 22 messages\n"
     ]
    },
    {
     "data": {
      "text/plain": [
       "array([2020022100493])"
      ]
     },
     "execution_count": 124,
     "metadata": {},
     "output_type": "execute_result"
    }
   ],
   "source": [
    "await latiss.take_object(exptime=20, n=1, filter='empty_1',grating='ronchi90lpmm')"
   ]
  },
  {
   "cell_type": "code",
   "execution_count": 125,
   "metadata": {},
   "outputs": [
    {
     "data": {
      "text/plain": [
       "<lsst.ts.salobj.ddsutil.ATAOS_ackcmd_33d5c92b at 0x7f8c144249b0>"
      ]
     },
     "execution_count": 125,
     "metadata": {},
     "output_type": "execute_result"
    }
   ],
   "source": [
    "#new focus for ronchi\n",
    "best_focus_fit = -0.2\n",
    "focus_offset = 0.023\n",
    "await attcs.ataos.cmd_applyFocusOffset.set_start(offset=best_focus_fit + focus_offset)"
   ]
  },
  {
   "cell_type": "code",
   "execution_count": 126,
   "metadata": {},
   "outputs": [
    {
     "name": "stdout",
     "output_type": "stream",
     "text": [
      "Generating group_id\n",
      "OBJECT 0001 - 0001\n",
      "Waiting for header service LFO before continuing\n",
      "RemoteEvent(ATHeaderService, 0, logMessage) falling behind; read 15 messages\n"
     ]
    },
    {
     "data": {
      "text/plain": [
       "array([2020022100494])"
      ]
     },
     "execution_count": 126,
     "metadata": {},
     "output_type": "execute_result"
    }
   ],
   "source": [
    "await latiss.take_object(exptime=20, n=1, filter='quadnotch1',grating='ronchi90lpmm')"
   ]
  },
  {
   "cell_type": "code",
   "execution_count": 127,
   "metadata": {},
   "outputs": [
    {
     "data": {
      "text/plain": [
       "<lsst.ts.salobj.ddsutil.ATAOS_ackcmd_33d5c92b at 0x7f8c2da137b8>"
      ]
     },
     "execution_count": 127,
     "metadata": {},
     "output_type": "execute_result"
    }
   ],
   "source": [
    "#new focus for ronchi\n",
    "best_focus_fit = -0.2\n",
    "focus_offset = 0.0\n",
    "await attcs.ataos.cmd_applyFocusOffset.set_start(offset=best_focus_fit + focus_offset)"
   ]
  },
  {
   "cell_type": "code",
   "execution_count": 128,
   "metadata": {},
   "outputs": [
    {
     "name": "stdout",
     "output_type": "stream",
     "text": [
      "Generating group_id\n",
      "OBJECT 0001 - 0001\n",
      "Waiting for header service LFO before continuing\n",
      "RemoteEvent(ATHeaderService, 0, logMessage) falling behind; read 13 messages\n"
     ]
    },
    {
     "data": {
      "text/plain": [
       "array([2020022100495])"
      ]
     },
     "execution_count": 128,
     "metadata": {},
     "output_type": "execute_result"
    }
   ],
   "source": [
    "await latiss.take_object(exptime=20, n=1, filter='empty_1',grating='ronchi90lpmm')"
   ]
  },
  {
   "cell_type": "code",
   "execution_count": 129,
   "metadata": {},
   "outputs": [
    {
     "data": {
      "text/plain": [
       "<lsst.ts.salobj.ddsutil.ATAOS_ackcmd_33d5c92b at 0x7f8c1883d320>"
      ]
     },
     "execution_count": 129,
     "metadata": {},
     "output_type": "execute_result"
    }
   ],
   "source": [
    "#new focus for ronchi\n",
    "best_focus_fit = -0.2\n",
    "focus_offset = 0.0\n",
    "await attcs.ataos.cmd_applyFocusOffset.set_start(offset=best_focus_fit + focus_offset)"
   ]
  },
  {
   "cell_type": "code",
   "execution_count": 130,
   "metadata": {},
   "outputs": [
    {
     "name": "stdout",
     "output_type": "stream",
     "text": [
      "Generating group_id\n",
      "OBJECT 0001 - 0001\n",
      "Waiting for header service LFO before continuing\n",
      "RemoteEvent(ATHeaderService, 0, logMessage) falling behind; read 19 messages\n"
     ]
    },
    {
     "data": {
      "text/plain": [
       "array([2020022100496])"
      ]
     },
     "execution_count": 130,
     "metadata": {},
     "output_type": "execute_result"
    }
   ],
   "source": [
    "await latiss.take_object(exptime=20, n=1, filter='quadnotch1',grating='ronchi90lpmm')"
   ]
  },
  {
   "cell_type": "code",
   "execution_count": 132,
   "metadata": {},
   "outputs": [
    {
     "name": "stdout",
     "output_type": "stream",
     "text": [
      "Resetting dropped connection: simbad.u-strasbg.fr\n",
      "http://simbad.u-strasbg.fr:80 \"POST /simbad/sim-script HTTP/1.1\" 200 None\n",
      "Slewing to HD 90156: 10 23 55.2739 -29 38 43.906\n",
      "RemoteEvent(ATMCS, 0, target) falling behind; read 17 messages\n",
      "RemoteEvent(ATDomeTrajectory, 0, logMessage) falling behind; read 18 messages\n",
      "Parallactic angle: -102.03494836717915 | Sky Angle: -86.6850944017658\n",
      "Sending command\n",
      "Stop tracking.\n",
      "Mount tracking state is 9\n",
      "Tracking state: 10.\n",
      "Tracking state: 8.\n",
      "In Position: True.\n",
      "In Position: False.\n",
      "Scheduling check coroutines\n",
      "process as completed...\n",
      "Got False\n",
      "Telescope not in position\n",
      "atmcs: <State.ENABLED: 2>\n",
      "atptg: <State.ENABLED: 2>\n",
      "ataos: <State.ENABLED: 2>\n",
      "atpneumatics: <State.ENABLED: 2>\n",
      "athexapod: <State.ENABLED: 2>\n",
      "atdome: <State.ENABLED: 2>\n",
      "atdometrajectory: <State.ENABLED: 2>\n",
      "[Telescope] delta Alt = -016.547 | delta Az= -153.144 [Dome] delta Az = -151.093\n",
      "[Telescope] delta Alt = -016.205 | delta Az= -151.858 [Dome] delta Az = -150.633\n",
      "[Telescope] delta Alt = -014.540 | delta Az= -147.937 [Dome] delta Az = -149.253\n",
      "[Telescope] delta Alt = -011.434 | delta Az= -143.940 [Dome] delta Az = -146.933\n",
      "[Telescope] delta Alt = -007.526 | delta Az= -139.943 [Dome] delta Az = -143.703\n",
      "[Telescope] delta Alt = -003.792 | delta Az= -135.945 [Dome] delta Az = -139.533\n",
      "[Telescope] delta Alt = -001.140 | delta Az= -131.947 [Dome] delta Az = -134.453\n",
      "[Telescope] delta Alt = +000.009 | delta Az= -127.949 [Dome] delta Az = -129.103\n",
      "[Telescope] delta Alt = +000.131 | delta Az= -123.952 [Dome] delta Az = -122.373\n",
      "[Telescope] delta Alt = +000.129 | delta Az= -119.955 [Dome] delta Az = -115.483\n",
      "[Telescope] delta Alt = +000.129 | delta Az= -115.957 [Dome] delta Az = -108.623\n",
      "[Telescope] delta Alt = +000.129 | delta Az= -111.959 [Dome] delta Az = -101.743\n",
      "[Telescope] delta Alt = +000.129 | delta Az= -107.963 [Dome] delta Az = -094.853\n",
      "[Telescope] delta Alt = +000.130 | delta Az= -103.965 [Dome] delta Az = -087.953\n",
      "[Telescope] delta Alt = +000.130 | delta Az= -099.967 [Dome] delta Az = -081.763\n",
      "[Telescope] delta Alt = +000.129 | delta Az= -095.970 [Dome] delta Az = -074.863\n",
      "[Telescope] delta Alt = +000.129 | delta Az= -091.972 [Dome] delta Az = -067.973\n",
      "[Telescope] delta Alt = +000.129 | delta Az= -087.975 [Dome] delta Az = -061.083\n",
      "[Telescope] delta Alt = +000.129 | delta Az= -083.977 [Dome] delta Az = -054.183\n",
      "[Telescope] delta Alt = +000.129 | delta Az= -079.980 [Dome] delta Az = -047.263\n",
      "[Telescope] delta Alt = +000.130 | delta Az= -075.982 [Dome] delta Az = -041.053\n",
      "[Telescope] delta Alt = +000.129 | delta Az= -071.984 [Dome] delta Az = -033.493\n",
      "[Telescope] delta Alt = +000.130 | delta Az= -067.987 [Dome] delta Az = -027.303\n",
      "[Telescope] delta Alt = +000.129 | delta Az= -063.990 [Dome] delta Az = -020.413\n",
      "[Telescope] delta Alt = +000.129 | delta Az= -059.992 [Dome] delta Az = -013.513\n",
      "[Telescope] delta Alt = +000.129 | delta Az= -055.993 [Dome] delta Az = -006.643\n",
      "[Telescope] delta Alt = +000.130 | delta Az= -051.997 [Dome] delta Az = -000.503\n",
      "[Telescope] delta Alt = +000.130 | delta Az= -048.000 [Dome] delta Az = +002.397\n",
      "[Telescope] delta Alt = +000.129 | delta Az= -044.001 [Dome] delta Az = +002.917\n",
      "[Telescope] delta Alt = +000.129 | delta Az= -040.004 [Dome] delta Az = +002.917\n",
      "[Telescope] delta Alt = +000.129 | delta Az= -036.006 [Dome] delta Az = +002.917\n",
      "[Telescope] delta Alt = +000.130 | delta Az= -032.009 [Dome] delta Az = +002.917\n",
      "[Telescope] delta Alt = +000.129 | delta Az= -028.014 [Dome] delta Az = +002.917\n",
      "[Telescope] delta Alt = +000.130 | delta Az= -024.045 [Dome] delta Az = +002.917\n",
      "[Telescope] delta Alt = +000.129 | delta Az= -020.151 [Dome] delta Az = +002.917\n",
      "[Telescope] delta Alt = +000.129 | delta Az= -016.404 [Dome] delta Az = +002.917\n",
      "[Telescope] delta Alt = +000.129 | delta Az= -012.888 [Dome] delta Az = +002.917\n",
      "[Telescope] delta Alt = +000.129 | delta Az= -009.688 [Dome] delta Az = +002.917\n",
      "[Telescope] delta Alt = +000.129 | delta Az= -006.880 [Dome] delta Az = +002.917\n",
      "[Telescope] delta Alt = +000.129 | delta Az= -004.537 [Dome] delta Az = +002.917\n",
      "[Telescope] delta Alt = +000.129 | delta Az= -002.700 [Dome] delta Az = +002.917\n",
      "[Telescope] delta Alt = +000.129 | delta Az= -001.383 [Dome] delta Az = +002.917\n",
      "[Telescope] delta Alt = +000.129 | delta Az= -000.559 [Dome] delta Az = +002.917\n",
      "[Telescope] delta Alt = +000.132 | delta Az= -000.314 [Dome] delta Az = +002.917\n",
      "[Telescope] delta Alt = +000.130 | delta Az= -000.077 [Dome] delta Az = +002.917\n",
      "[Telescope] delta Alt = +000.130 | delta Az= -000.045 [Dome] delta Az = +002.917\n",
      "Got True\n",
      "Waiting for telescope to settle.\n",
      "[Telescope] delta Alt = +000.129 | delta Az= -000.045 [Dome] delta Az = +002.917\n",
      "[Telescope] delta Alt = +000.129 | delta Az= -000.045 [Dome] delta Az = +002.917\n",
      "Telescope in position.\n",
      "ATDome in position.\n",
      "['Telescope in position.', 'ATDome in position.']\n"
     ]
    }
   ],
   "source": [
    "await attcs.slew_object(name = \"HD 90156\", pa_ang = 0.0, slew_timeout = 240.0)"
   ]
  },
  {
   "cell_type": "code",
   "execution_count": 133,
   "metadata": {},
   "outputs": [
    {
     "name": "stdout",
     "output_type": "stream",
     "text": [
      "Generating group_id\n",
      "OBJECT 0001 - 0001\n",
      "Waiting for header service LFO before continuing\n",
      "RemoteEvent(ATHeaderService, 0, logMessage) falling behind; read 16 messages\n"
     ]
    },
    {
     "data": {
      "text/plain": [
       "array([2020022100497])"
      ]
     },
     "execution_count": 133,
     "metadata": {},
     "output_type": "execute_result"
    }
   ],
   "source": [
    "await latiss.take_object(exptime=10, n=1, filter='empty_1',grating='ronchi90lpmm')"
   ]
  },
  {
   "cell_type": "code",
   "execution_count": 134,
   "metadata": {},
   "outputs": [
    {
     "name": "stdout",
     "output_type": "stream",
     "text": [
      "Applying x/y offset: -60/ 126 \n",
      "Applying Az/El offset: -65.59967942752581/ 123.17744135597982 \n",
      "Waiting for telescope to settle.\n",
      "Done\n"
     ]
    }
   ],
   "source": [
    "await attcs.offset_xy(x = -60, y = 126, persistent = True)"
   ]
  },
  {
   "cell_type": "code",
   "execution_count": 135,
   "metadata": {},
   "outputs": [
    {
     "name": "stdout",
     "output_type": "stream",
     "text": [
      "Generating group_id\n",
      "OBJECT 0001 - 0001\n",
      "Waiting for header service LFO before continuing\n",
      "RemoteEvent(ATHeaderService, 0, logMessage) falling behind; read 10 messages\n"
     ]
    },
    {
     "data": {
      "text/plain": [
       "array([2020022100498])"
      ]
     },
     "execution_count": 135,
     "metadata": {},
     "output_type": "execute_result"
    },
    {
     "name": "stdout",
     "output_type": "stream",
     "text": [
      "RemoteEvent(ATDomeTrajectory, 0, logMessage) falling behind; read 19 messages\n",
      "RemoteEvent(ATMCS, 0, target) falling behind; read 99 messages\n"
     ]
    }
   ],
   "source": [
    "await latiss.take_object(exptime=10, n=1, filter='empty_1',grating='ronchi90lpmm')"
   ]
  },
  {
   "cell_type": "code",
   "execution_count": 136,
   "metadata": {},
   "outputs": [
    {
     "name": "stdout",
     "output_type": "stream",
     "text": [
      "Applying x/y offset: 0/ -252 \n",
      "Applying Az/El offset: 203.28516639555494/ -148.9266300012578 \n",
      "Waiting for telescope to settle.\n",
      "Done\n"
     ]
    }
   ],
   "source": [
    "await attcs.offset_xy(x = 0, y = - 2 * 126, persistent = True)"
   ]
  },
  {
   "cell_type": "code",
   "execution_count": 137,
   "metadata": {},
   "outputs": [
    {
     "name": "stdout",
     "output_type": "stream",
     "text": [
      "Generating group_id\n",
      "OBJECT 0001 - 0001\n",
      "Waiting for header service LFO before continuing\n",
      "RemoteEvent(ATHeaderService, 0, logMessage) falling behind; read 15 messages\n"
     ]
    },
    {
     "data": {
      "text/plain": [
       "array([2020022100499])"
      ]
     },
     "execution_count": 137,
     "metadata": {},
     "output_type": "execute_result"
    }
   ],
   "source": [
    "await latiss.take_object(exptime=5, n=1, filter='empty_1',grating='ronchi90lpmm')"
   ]
  },
  {
   "cell_type": "code",
   "execution_count": 138,
   "metadata": {},
   "outputs": [
    {
     "name": "stdout",
     "output_type": "stream",
     "text": [
      "Generating group_id\n",
      "OBJECT 0001 - 0001\n",
      "Waiting for header service LFO before continuing\n",
      "RemoteEvent(ATHeaderService, 0, logMessage) falling behind; read 18 messages\n"
     ]
    },
    {
     "data": {
      "text/plain": [
       "array([2020022100500])"
      ]
     },
     "execution_count": 138,
     "metadata": {},
     "output_type": "execute_result"
    }
   ],
   "source": [
    "await latiss.take_object(exptime=120, n=1, filter='empty_1',grating='ronchi90lpmm')"
   ]
  },
  {
   "cell_type": "code",
   "execution_count": 139,
   "metadata": {},
   "outputs": [
    {
     "data": {
      "text/plain": [
       "<lsst.ts.salobj.ddsutil.ATAOS_ackcmd_33d5c92b at 0x7f8c145d40f0>"
      ]
     },
     "execution_count": 139,
     "metadata": {},
     "output_type": "execute_result"
    }
   ],
   "source": [
    "#new focus for ronchi\n",
    "best_focus_fit = -0.2\n",
    "focus_offset = 0.023\n",
    "await attcs.ataos.cmd_applyFocusOffset.set_start(offset=best_focus_fit + focus_offset)"
   ]
  },
  {
   "cell_type": "code",
   "execution_count": 140,
   "metadata": {},
   "outputs": [
    {
     "name": "stdout",
     "output_type": "stream",
     "text": [
      "Generating group_id\n",
      "OBJECT 0001 - 0001\n",
      "Waiting for header service LFO before continuing\n",
      "RemoteEvent(ATHeaderService, 0, logMessage) falling behind; read 10 messages\n"
     ]
    },
    {
     "data": {
      "text/plain": [
       "array([2020022100501])"
      ]
     },
     "execution_count": 140,
     "metadata": {},
     "output_type": "execute_result"
    }
   ],
   "source": [
    "await latiss.take_object(exptime=120, n=1, filter='quadnotch1',grating='ronchi90lpmm')"
   ]
  },
  {
   "cell_type": "code",
   "execution_count": 141,
   "metadata": {},
   "outputs": [
    {
     "data": {
      "text/plain": [
       "<lsst.ts.salobj.ddsutil.ATHexapod_logevent_positionUpdate_68e9852b at 0x7f8c18def358>"
      ]
     },
     "execution_count": 141,
     "metadata": {},
     "output_type": "execute_result"
    }
   ],
   "source": [
    "best_focus_fit = -0.2\n",
    "focus_offset = 0.00\n",
    "attcs.athexapod.evt_positionUpdate.flush() \n",
    "await attcs.ataos.cmd_applyFocusOffset.set_start(offset=best_focus_fit + focus_offset)\n",
    "await attcs.athexapod.evt_positionUpdate.next(flush=False, timeout=attcs.long_timeout)"
   ]
  },
  {
   "cell_type": "code",
   "execution_count": 142,
   "metadata": {},
   "outputs": [
    {
     "name": "stdout",
     "output_type": "stream",
     "text": [
      "Generating group_id\n",
      "OBJECT 0001 - 0001\n",
      "Waiting for header service LFO before continuing\n",
      "RemoteEvent(ATHeaderService, 0, logMessage) falling behind; read 14 messages\n"
     ]
    },
    {
     "data": {
      "text/plain": [
       "array([2020022100502])"
      ]
     },
     "execution_count": 142,
     "metadata": {},
     "output_type": "execute_result"
    }
   ],
   "source": [
    "await latiss.take_object(exptime=120, n=1, filter='empty_1',grating='ronchi90lpmm')"
   ]
  },
  {
   "cell_type": "code",
   "execution_count": 143,
   "metadata": {},
   "outputs": [
    {
     "data": {
      "text/plain": [
       "<lsst.ts.salobj.ddsutil.ATHexapod_logevent_positionUpdate_68e9852b at 0x7f8c18c17748>"
      ]
     },
     "execution_count": 143,
     "metadata": {},
     "output_type": "execute_result"
    }
   ],
   "source": [
    "best_focus_fit = -0.2\n",
    "focus_offset = 0.023\n",
    "attcs.athexapod.evt_positionUpdate.flush() \n",
    "await attcs.ataos.cmd_applyFocusOffset.set_start(offset=best_focus_fit + focus_offset)\n",
    "await attcs.athexapod.evt_positionUpdate.next(flush=False, timeout=attcs.long_timeout)"
   ]
  },
  {
   "cell_type": "code",
   "execution_count": 144,
   "metadata": {},
   "outputs": [
    {
     "name": "stdout",
     "output_type": "stream",
     "text": [
      "Generating group_id\n",
      "OBJECT 0001 - 0001\n",
      "Waiting for header service LFO before continuing\n",
      "RemoteEvent(ATHeaderService, 0, logMessage) falling behind; read 15 messages\n"
     ]
    },
    {
     "data": {
      "text/plain": [
       "array([2020022100503])"
      ]
     },
     "execution_count": 144,
     "metadata": {},
     "output_type": "execute_result"
    }
   ],
   "source": [
    "await latiss.take_object(exptime=120, n=1, filter='quadnotch1',grating='ronchi90lpmm')"
   ]
  },
  {
   "cell_type": "code",
   "execution_count": 145,
   "metadata": {},
   "outputs": [
    {
     "data": {
      "text/plain": [
       "<lsst.ts.salobj.ddsutil.ATHexapod_logevent_positionUpdate_68e9852b at 0x7f8c143379b0>"
      ]
     },
     "execution_count": 145,
     "metadata": {},
     "output_type": "execute_result"
    }
   ],
   "source": [
    "best_focus_fit = -0.2\n",
    "focus_offset = 0.0\n",
    "attcs.athexapod.evt_positionUpdate.flush() \n",
    "await attcs.ataos.cmd_applyFocusOffset.set_start(offset=best_focus_fit + focus_offset)\n",
    "await attcs.athexapod.evt_positionUpdate.next(flush=False, timeout=attcs.long_timeout)"
   ]
  },
  {
   "cell_type": "code",
   "execution_count": 146,
   "metadata": {},
   "outputs": [
    {
     "name": "stdout",
     "output_type": "stream",
     "text": [
      "Resetting dropped connection: simbad.u-strasbg.fr\n",
      "http://simbad.u-strasbg.fr:80 \"POST /simbad/sim-script HTTP/1.1\" 200 None\n",
      "Slewing to HD 37061: 05 35 31.3653 -05 16 02.586\n",
      "RemoteEvent(ATMCS, 0, target) falling behind; read 19 messages\n",
      "RemoteEvent(ATDomeTrajectory, 0, logMessage) falling behind; read 20 messages\n",
      "Parallactic angle: 132.8306902932773 | Sky Angle: 143.6185976812414\n",
      "Sending command\n",
      "Stop tracking.\n",
      "Mount tracking state is 9\n",
      "Tracking state: 10.\n",
      "Tracking state: 8.\n",
      "In Position: True.\n",
      "In Position: False.\n",
      "Scheduling check coroutines\n",
      "process as completed...\n",
      "Got False\n",
      "Telescope not in position\n",
      "atmcs: <State.ENABLED: 2>\n",
      "atptg: <State.ENABLED: 2>\n",
      "ataos: <State.ENABLED: 2>\n",
      "atpneumatics: <State.ENABLED: 2>\n",
      "athexapod: <State.ENABLED: 2>\n",
      "atdome: <State.ENABLED: 2>\n",
      "atdometrajectory: <State.ENABLED: 2>\n",
      "[Telescope] delta Alt = -005.369 | delta Az= -156.651 [Dome] delta Az = -154.957\n",
      "[Telescope] delta Alt = -002.883 | delta Az= -153.616 [Dome] delta Az = -154.037\n",
      "[Telescope] delta Alt = -000.245 | delta Az= -149.627 [Dome] delta Az = -152.187\n",
      "[Telescope] delta Alt = -000.111 | delta Az= -145.636 [Dome] delta Az = -149.407\n",
      "[Telescope] delta Alt = -000.111 | delta Az= -141.647 [Dome] delta Az = -145.717\n",
      "[Telescope] delta Alt = -000.111 | delta Az= -137.654 [Dome] delta Az = -141.587\n",
      "[Telescope] delta Alt = -000.111 | delta Az= -133.662 [Dome] delta Az = -136.137\n",
      "[Telescope] delta Alt = -000.111 | delta Az= -129.672 [Dome] delta Az = -129.787\n",
      "[Telescope] delta Alt = -000.111 | delta Az= -125.680 [Dome] delta Az = -122.917\n",
      "[Telescope] delta Alt = -000.111 | delta Az= -121.690 [Dome] delta Az = -116.047\n",
      "[Telescope] delta Alt = -000.111 | delta Az= -117.698 [Dome] delta Az = -109.167\n",
      "[Telescope] delta Alt = -000.111 | delta Az= -113.707 [Dome] delta Az = -102.967\n",
      "[Telescope] delta Alt = -000.111 | delta Az= -109.717 [Dome] delta Az = -096.077\n",
      "[Telescope] delta Alt = -000.111 | delta Az= -105.725 [Dome] delta Az = -089.197\n",
      "[Telescope] delta Alt = -000.111 | delta Az= -101.733 [Dome] delta Az = -082.317\n",
      "[Telescope] delta Alt = -000.111 | delta Az= -097.743 [Dome] delta Az = -075.407\n",
      "[Telescope] delta Alt = -000.111 | delta Az= -093.752 [Dome] delta Az = -069.207\n",
      "[Telescope] delta Alt = -000.111 | delta Az= -089.760 [Dome] delta Az = -061.637\n",
      "[Telescope] delta Alt = -000.111 | delta Az= -085.770 [Dome] delta Az = -055.427\n",
      "[Telescope] delta Alt = -000.111 | delta Az= -081.778 [Dome] delta Az = -048.537\n",
      "[Telescope] delta Alt = -000.111 | delta Az= -077.787 [Dome] delta Az = -041.647\n",
      "[Telescope] delta Alt = -000.111 | delta Az= -073.796 [Dome] delta Az = -034.767\n",
      "[Telescope] delta Alt = -000.111 | delta Az= -069.806 [Dome] delta Az = -027.867\n",
      "[Telescope] delta Alt = -000.111 | delta Az= -065.814 [Dome] delta Az = -021.677\n",
      "[Telescope] delta Alt = -000.111 | delta Az= -061.821 [Dome] delta Az = -014.797\n",
      "[Telescope] delta Alt = -000.111 | delta Az= -057.831 [Dome] delta Az = -007.917\n",
      "[Telescope] delta Alt = -000.111 | delta Az= -053.840 [Dome] delta Az = -001.407\n",
      "[Telescope] delta Alt = -000.111 | delta Az= -049.849 [Dome] delta Az = +002.073\n",
      "[Telescope] delta Alt = -000.114 | delta Az= -047.857 [Dome] delta Az = +002.963\n",
      "[Telescope] delta Alt = -000.111 | delta Az= -043.863 [Dome] delta Az = +003.013\n",
      "[Telescope] delta Alt = -000.112 | delta Az= -039.872 [Dome] delta Az = +003.013\n",
      "[Telescope] delta Alt = -000.111 | delta Az= -035.879 [Dome] delta Az = +003.013\n",
      "[Telescope] delta Alt = -000.111 | delta Az= -031.889 [Dome] delta Az = +003.013\n",
      "[Telescope] delta Alt = -000.111 | delta Az= -027.901 [Dome] delta Az = +003.013\n",
      "[Telescope] delta Alt = -000.111 | delta Az= -023.939 [Dome] delta Az = +003.013\n",
      "[Telescope] delta Alt = -000.111 | delta Az= -020.057 [Dome] delta Az = +003.013\n",
      "[Telescope] delta Alt = -000.112 | delta Az= -016.325 [Dome] delta Az = +003.013\n",
      "[Telescope] delta Alt = -000.111 | delta Az= -012.824 [Dome] delta Az = +003.013\n",
      "[Telescope] delta Alt = -000.111 | delta Az= -009.644 [Dome] delta Az = +003.013\n",
      "[Telescope] delta Alt = -000.111 | delta Az= -006.861 [Dome] delta Az = +003.013\n",
      "[Telescope] delta Alt = -000.111 | delta Az= -004.544 [Dome] delta Az = +003.013\n",
      "[Telescope] delta Alt = -000.112 | delta Az= -002.734 [Dome] delta Az = +003.013\n",
      "[Telescope] delta Alt = -000.111 | delta Az= -001.443 [Dome] delta Az = +003.013\n",
      "[Telescope] delta Alt = -000.111 | delta Az= -000.644 [Dome] delta Az = +003.013\n",
      "[Telescope] delta Alt = -000.111 | delta Az= -000.260 [Dome] delta Az = +003.013\n",
      "[Telescope] delta Alt = -000.111 | delta Az= -000.163 [Dome] delta Az = +003.013\n",
      "[Telescope] delta Alt = -000.111 | delta Az= -000.160 [Dome] delta Az = +003.013\n",
      "Got True\n",
      "Waiting for telescope to settle.\n",
      "[Telescope] delta Alt = -000.111 | delta Az= -000.160 [Dome] delta Az = +003.013\n",
      "Telescope in position.\n",
      "ATDome in position.\n",
      "['Telescope in position.', 'ATDome in position.']\n"
     ]
    }
   ],
   "source": [
    "await attcs.slew_object(name = \"HD 37061\", pa_ang = 0.0, slew_timeout = 240.0)"
   ]
  },
  {
   "cell_type": "code",
   "execution_count": 147,
   "metadata": {},
   "outputs": [
    {
     "name": "stdout",
     "output_type": "stream",
     "text": [
      "Generating group_id\n",
      "OBJECT 0001 - 0001\n",
      "Waiting for header service LFO before continuing\n",
      "RemoteEvent(ATHeaderService, 0, logMessage) falling behind; read 11 messages\n"
     ]
    },
    {
     "data": {
      "text/plain": [
       "array([2020022100504])"
      ]
     },
     "execution_count": 147,
     "metadata": {},
     "output_type": "execute_result"
    }
   ],
   "source": [
    "await latiss.take_object(exptime=5, n=1, filter='empty_1',grating='ronchi90lpmm')"
   ]
  },
  {
   "cell_type": "code",
   "execution_count": 148,
   "metadata": {},
   "outputs": [
    {
     "name": "stdout",
     "output_type": "stream",
     "text": [
      "Applying x/y offset: -62/ -122 \n",
      "Applying Az/El offset: 133.32504182733175/ -30.86151684120925 \n",
      "Waiting for telescope to settle.\n",
      "Done\n"
     ]
    }
   ],
   "source": [
    "await attcs.offset_xy(x=-62, y =-122, persistent = True)"
   ]
  },
  {
   "cell_type": "code",
   "execution_count": 149,
   "metadata": {},
   "outputs": [
    {
     "name": "stdout",
     "output_type": "stream",
     "text": [
      "Generating group_id\n",
      "OBJECT 0001 - 0001\n",
      "Waiting for header service LFO before continuing\n",
      "RemoteEvent(ATHeaderService, 0, logMessage) falling behind; read 10 messages\n"
     ]
    },
    {
     "data": {
      "text/plain": [
       "array([2020022100505])"
      ]
     },
     "execution_count": 149,
     "metadata": {},
     "output_type": "execute_result"
    }
   ],
   "source": [
    "await latiss.take_object(exptime=5, n=1, filter='empty_1',grating='ronchi90lpmm')"
   ]
  },
  {
   "cell_type": "code",
   "execution_count": 150,
   "metadata": {},
   "outputs": [
    {
     "name": "stdout",
     "output_type": "stream",
     "text": [
      "Generating group_id\n",
      "OBJECT 0001 - 0001\n",
      "Waiting for header service LFO before continuing\n",
      "RemoteEvent(ATHeaderService, 0, logMessage) falling behind; read 15 messages\n"
     ]
    },
    {
     "data": {
      "text/plain": [
       "array([2020022100506])"
      ]
     },
     "execution_count": 150,
     "metadata": {},
     "output_type": "execute_result"
    }
   ],
   "source": [
    "await latiss.take_object(exptime=120, n=1, filter='empty_1',grating='ronchi90lpmm')"
   ]
  },
  {
   "cell_type": "code",
   "execution_count": 151,
   "metadata": {},
   "outputs": [
    {
     "data": {
      "text/plain": [
       "<lsst.ts.salobj.ddsutil.ATHexapod_logevent_positionUpdate_68e9852b at 0x7f8c18c0bd68>"
      ]
     },
     "execution_count": 151,
     "metadata": {},
     "output_type": "execute_result"
    }
   ],
   "source": [
    "best_focus_fit = -0.2\n",
    "focus_offset = 0.023\n",
    "attcs.athexapod.evt_positionUpdate.flush() \n",
    "await attcs.ataos.cmd_applyFocusOffset.set_start(offset=best_focus_fit + focus_offset)\n",
    "await attcs.athexapod.evt_positionUpdate.next(flush=False, timeout=attcs.long_timeout)"
   ]
  },
  {
   "cell_type": "code",
   "execution_count": 153,
   "metadata": {},
   "outputs": [
    {
     "name": "stdout",
     "output_type": "stream",
     "text": [
      "Generating group_id\n",
      "OBJECT 0001 - 0001\n",
      "RemoteEvent(ATMCS, 0, target) falling behind; read 28 messages\n",
      "RemoteEvent(ATDomeTrajectory, 0, logMessage) falling behind; read 14 messages\n",
      "Waiting for header service LFO before continuing\n"
     ]
    },
    {
     "data": {
      "text/plain": [
       "array([2020022100507])"
      ]
     },
     "execution_count": 153,
     "metadata": {},
     "output_type": "execute_result"
    }
   ],
   "source": [
    "await latiss.take_object(exptime=120, n=1, filter='quadnotch1',grating='ronchi90lpmm')"
   ]
  },
  {
   "cell_type": "code",
   "execution_count": 154,
   "metadata": {},
   "outputs": [
    {
     "name": "stdout",
     "output_type": "stream",
     "text": [
      "Generating group_id\n",
      "OBJECT 0001 - 0001\n",
      "Waiting for header service LFO before continuing\n",
      "RemoteEvent(ATHeaderService, 0, logMessage) falling behind; read 12 messages\n"
     ]
    },
    {
     "data": {
      "text/plain": [
       "array([2020022100508])"
      ]
     },
     "execution_count": 154,
     "metadata": {},
     "output_type": "execute_result"
    }
   ],
   "source": [
    "await latiss.take_object(exptime=120, n=1, filter='BG40',grating='ronchi90lpmm')"
   ]
  },
  {
   "cell_type": "code",
   "execution_count": 155,
   "metadata": {},
   "outputs": [
    {
     "name": "stdout",
     "output_type": "stream",
     "text": [
      "Generating group_id\n",
      "OBJECT 0001 - 0001\n",
      "RemoteEvent(ATHeaderService, 0, logMessage) falling behind; read 12 messages\n",
      "Waiting for header service LFO before continuing\n"
     ]
    },
    {
     "data": {
      "text/plain": [
       "array([2020022100509])"
      ]
     },
     "execution_count": 155,
     "metadata": {},
     "output_type": "execute_result"
    }
   ],
   "source": [
    "await latiss.take_object(exptime=120, n=1, filter='RG610',grating='ronchi90lpmm')"
   ]
  },
  {
   "cell_type": "code",
   "execution_count": 156,
   "metadata": {},
   "outputs": [
    {
     "name": "stdout",
     "output_type": "stream",
     "text": [
      "Slewing to HD 37061: 05 35 31.3653 -05 16 02.586\n",
      "Parallactic angle: 130.36161968460925 | Sky Angle: 135.62843853238343\n",
      "Sending command\n",
      "Stop tracking.\n",
      "Mount tracking state is 3\n",
      "Tracking state: 9.\n",
      "Tracking state: 3.\n"
     ]
    },
    {
     "ename": "AckError",
     "evalue": "msg='Command failed', ackcmd=(ackcmd private_seqNum=1590284419, ack=<SalRetCode.CMD_FAILED: -302>, error=6612, result='Rejected : command not allowed in current state')",
     "output_type": "error",
     "traceback": [
      "\u001b[0;31m\u001b[0m",
      "\u001b[0;31mAckError\u001b[0mTraceback (most recent call last)",
      "\u001b[0;32m<ipython-input-156-ec573f3486ab>\u001b[0m in \u001b[0;36masync-def-wrapper\u001b[0;34m()\u001b[0m\n",
      "\u001b[0;32m~/repos/ts_standardscripts/python/lsst/ts/standardscripts/auxtel/attcs.py\u001b[0m in \u001b[0;36mslew_object\u001b[0;34m(self, name, rot_sky, pa_ang, rot_pa, slew_timeout, track_id)\u001b[0m\n\u001b[1;32m    187\u001b[0m                              \u001b[0mtarget_name\u001b[0m\u001b[0;34m=\u001b[0m\u001b[0mname\u001b[0m\u001b[0;34m,\u001b[0m\u001b[0;34m\u001b[0m\u001b[0;34m\u001b[0m\u001b[0m\n\u001b[1;32m    188\u001b[0m                              \u001b[0mslew_timeout\u001b[0m\u001b[0;34m=\u001b[0m\u001b[0mslew_timeout\u001b[0m\u001b[0;34m,\u001b[0m\u001b[0;34m\u001b[0m\u001b[0;34m\u001b[0m\u001b[0m\n\u001b[0;32m--> 189\u001b[0;31m                              track_id=track_id)\n\u001b[0m\u001b[1;32m    190\u001b[0m \u001b[0;34m\u001b[0m\u001b[0m\n\u001b[1;32m    191\u001b[0m     async def slew_icrs(self, ra, dec, rot_sky=None, pa_ang=None, rot_pa=0.,\n",
      "\u001b[0;32m~/repos/ts_standardscripts/python/lsst/ts/standardscripts/auxtel/attcs.py\u001b[0m in \u001b[0;36mslew_icrs\u001b[0;34m(self, ra, dec, rot_sky, pa_ang, rot_pa, target_name, slew_timeout, track_id)\u001b[0m\n\u001b[1;32m    267\u001b[0m                         \u001b[0mrot_mode\u001b[0m\u001b[0;34m=\u001b[0m\u001b[0mATPtg\u001b[0m\u001b[0;34m.\u001b[0m\u001b[0mRotMode\u001b[0m\u001b[0;34m.\u001b[0m\u001b[0mFIELD\u001b[0m\u001b[0;34m,\u001b[0m\u001b[0;34m\u001b[0m\u001b[0;34m\u001b[0m\u001b[0m\n\u001b[1;32m    268\u001b[0m                         \u001b[0mslew_timeout\u001b[0m\u001b[0;34m=\u001b[0m\u001b[0mslew_timeout\u001b[0m\u001b[0;34m,\u001b[0m\u001b[0;34m\u001b[0m\u001b[0;34m\u001b[0m\u001b[0m\n\u001b[0;32m--> 269\u001b[0;31m                         track_id=track_id)\n\u001b[0m\u001b[1;32m    270\u001b[0m \u001b[0;34m\u001b[0m\u001b[0m\n\u001b[1;32m    271\u001b[0m     async def slew(self, ra, dec, rotPA=0., target_name=\"slew_icrs\",\n",
      "\u001b[0;32m~/repos/ts_standardscripts/python/lsst/ts/standardscripts/auxtel/attcs.py\u001b[0m in \u001b[0;36mslew\u001b[0;34m(self, ra, dec, rotPA, target_name, target_instance, frame, epoch, equinox, parallax, pmRA, pmDec, rv, dRA, dDec, rot_frame, rot_mode, slew_timeout, track_id)\u001b[0m\n\u001b[1;32m    313\u001b[0m \u001b[0;34m\u001b[0m\u001b[0m\n\u001b[1;32m    314\u001b[0m         await self._slew_to(self.atptg.cmd_raDecTarget,\n\u001b[0;32m--> 315\u001b[0;31m                             slew_timeout=slew_timeout)\n\u001b[0m\u001b[1;32m    316\u001b[0m \u001b[0;34m\u001b[0m\u001b[0m\n\u001b[1;32m    317\u001b[0m     async def slew_to_planet(self, planet,\n",
      "\u001b[0;32m~/repos/ts_standardscripts/python/lsst/ts/standardscripts/auxtel/attcs.py\u001b[0m in \u001b[0;36m_slew_to\u001b[0;34m(self, slew_cmd, slew_timeout)\u001b[0m\n\u001b[1;32m    817\u001b[0m             \u001b[0;32mpass\u001b[0m\u001b[0;34m\u001b[0m\u001b[0;34m\u001b[0m\u001b[0m\n\u001b[1;32m    818\u001b[0m \u001b[0;34m\u001b[0m\u001b[0m\n\u001b[0;32m--> 819\u001b[0;31m         \u001b[0mack\u001b[0m \u001b[0;34m=\u001b[0m \u001b[0;32mawait\u001b[0m \u001b[0mslew_cmd\u001b[0m\u001b[0;34m.\u001b[0m\u001b[0mstart\u001b[0m\u001b[0;34m(\u001b[0m\u001b[0mtimeout\u001b[0m\u001b[0;34m=\u001b[0m\u001b[0mslew_timeout\u001b[0m\u001b[0;34m)\u001b[0m\u001b[0;34m\u001b[0m\u001b[0;34m\u001b[0m\u001b[0m\n\u001b[0m\u001b[1;32m    820\u001b[0m         \u001b[0mself\u001b[0m\u001b[0;34m.\u001b[0m\u001b[0mdome_az_in_position\u001b[0m\u001b[0;34m.\u001b[0m\u001b[0mclear\u001b[0m\u001b[0;34m(\u001b[0m\u001b[0;34m)\u001b[0m\u001b[0;34m\u001b[0m\u001b[0;34m\u001b[0m\u001b[0m\n\u001b[1;32m    821\u001b[0m \u001b[0;34m\u001b[0m\u001b[0m\n",
      "\u001b[0;32m~/repos/ts_salobj/python/lsst/ts/salobj/topics/remote_command.py\u001b[0m in \u001b[0;36mstart\u001b[0;34m(self, data, timeout, wait_done)\u001b[0m\n\u001b[1;32m    360\u001b[0m         \u001b[0mcmd_info\u001b[0m \u001b[0;34m=\u001b[0m \u001b[0m_CommandInfo\u001b[0m\u001b[0;34m(\u001b[0m\u001b[0mremote_command\u001b[0m\u001b[0;34m=\u001b[0m\u001b[0mself\u001b[0m\u001b[0;34m,\u001b[0m \u001b[0mseq_num\u001b[0m\u001b[0;34m=\u001b[0m\u001b[0mseq_num\u001b[0m\u001b[0;34m,\u001b[0m \u001b[0mwait_done\u001b[0m\u001b[0;34m=\u001b[0m\u001b[0mwait_done\u001b[0m\u001b[0;34m)\u001b[0m\u001b[0;34m\u001b[0m\u001b[0;34m\u001b[0m\u001b[0m\n\u001b[1;32m    361\u001b[0m         \u001b[0mself\u001b[0m\u001b[0;34m.\u001b[0m\u001b[0msalinfo\u001b[0m\u001b[0;34m.\u001b[0m\u001b[0m_running_cmds\u001b[0m\u001b[0;34m[\u001b[0m\u001b[0mseq_num\u001b[0m\u001b[0;34m]\u001b[0m \u001b[0;34m=\u001b[0m \u001b[0mcmd_info\u001b[0m\u001b[0;34m\u001b[0m\u001b[0;34m\u001b[0m\u001b[0m\n\u001b[0;32m--> 362\u001b[0;31m         \u001b[0;32mreturn\u001b[0m \u001b[0;32mawait\u001b[0m \u001b[0mcmd_info\u001b[0m\u001b[0;34m.\u001b[0m\u001b[0mnext_ackcmd\u001b[0m\u001b[0;34m(\u001b[0m\u001b[0mtimeout\u001b[0m\u001b[0;34m=\u001b[0m\u001b[0mtimeout\u001b[0m\u001b[0;34m)\u001b[0m\u001b[0;34m\u001b[0m\u001b[0;34m\u001b[0m\u001b[0m\n\u001b[0m",
      "\u001b[0;32m~/repos/ts_salobj/python/lsst/ts/salobj/topics/remote_command.py\u001b[0m in \u001b[0;36mnext_ackcmd\u001b[0;34m(self, timeout)\u001b[0m\n\u001b[1;32m    163\u001b[0m             \u001b[0;31m# print(f\"next_ackcmd got {ackcmd.ack} from _basic_next_ack\")\u001b[0m\u001b[0;34m\u001b[0m\u001b[0;34m\u001b[0m\u001b[0;34m\u001b[0m\u001b[0m\n\u001b[1;32m    164\u001b[0m             \u001b[0;32mif\u001b[0m \u001b[0mackcmd\u001b[0m\u001b[0;34m.\u001b[0m\u001b[0mack\u001b[0m \u001b[0;32min\u001b[0m \u001b[0mself\u001b[0m\u001b[0;34m.\u001b[0m\u001b[0mfailed_ack_codes\u001b[0m\u001b[0;34m:\u001b[0m\u001b[0;34m\u001b[0m\u001b[0;34m\u001b[0m\u001b[0m\n\u001b[0;32m--> 165\u001b[0;31m                 \u001b[0;32mraise\u001b[0m \u001b[0mbase\u001b[0m\u001b[0;34m.\u001b[0m\u001b[0mAckError\u001b[0m\u001b[0;34m(\u001b[0m\u001b[0mmsg\u001b[0m\u001b[0;34m=\u001b[0m\u001b[0;34m\"Command failed\"\u001b[0m\u001b[0;34m,\u001b[0m \u001b[0mackcmd\u001b[0m\u001b[0;34m=\u001b[0m\u001b[0mackcmd\u001b[0m\u001b[0;34m)\u001b[0m\u001b[0;34m\u001b[0m\u001b[0;34m\u001b[0m\u001b[0m\n\u001b[0m\u001b[1;32m    166\u001b[0m             \u001b[0;32mreturn\u001b[0m \u001b[0mackcmd\u001b[0m\u001b[0;34m\u001b[0m\u001b[0;34m\u001b[0m\u001b[0m\n\u001b[1;32m    167\u001b[0m         \u001b[0;32mexcept\u001b[0m \u001b[0masyncio\u001b[0m\u001b[0;34m.\u001b[0m\u001b[0mTimeoutError\u001b[0m\u001b[0;34m:\u001b[0m\u001b[0;34m\u001b[0m\u001b[0;34m\u001b[0m\u001b[0m\n",
      "\u001b[0;31mAckError\u001b[0m: msg='Command failed', ackcmd=(ackcmd private_seqNum=1590284419, ack=<SalRetCode.CMD_FAILED: -302>, error=6612, result='Rejected : command not allowed in current state')"
     ]
    }
   ],
   "source": [
    "await attcs.slew_object(name = \"HD 37061\", pa_ang = 0.0, slew_timeout = 240.0)"
   ]
  },
  {
   "cell_type": "code",
   "execution_count": 157,
   "metadata": {},
   "outputs": [
    {
     "ename": "AckError",
     "evalue": "msg='Command failed', ackcmd=(ackcmd private_seqNum=1702614574, ack=<SalRetCode.CMD_NOPERM: -300>, error=0, result='ERROR: Command startTracking rejected while in FaultState state.ate state.')",
     "output_type": "error",
     "traceback": [
      "\u001b[0;31m\u001b[0m",
      "\u001b[0;31mAckError\u001b[0mTraceback (most recent call last)",
      "\u001b[0;32m<ipython-input-157-0542b7d4da8a>\u001b[0m in \u001b[0;36masync-def-wrapper\u001b[0;34m()\u001b[0m\n",
      "\u001b[0;32m~/repos/ts_salobj/python/lsst/ts/salobj/topics/remote_command.py\u001b[0m in \u001b[0;36mstart\u001b[0;34m(self, data, timeout, wait_done)\u001b[0m\n\u001b[1;32m    360\u001b[0m         \u001b[0mcmd_info\u001b[0m \u001b[0;34m=\u001b[0m \u001b[0m_CommandInfo\u001b[0m\u001b[0;34m(\u001b[0m\u001b[0mremote_command\u001b[0m\u001b[0;34m=\u001b[0m\u001b[0mself\u001b[0m\u001b[0;34m,\u001b[0m \u001b[0mseq_num\u001b[0m\u001b[0;34m=\u001b[0m\u001b[0mseq_num\u001b[0m\u001b[0;34m,\u001b[0m \u001b[0mwait_done\u001b[0m\u001b[0;34m=\u001b[0m\u001b[0mwait_done\u001b[0m\u001b[0;34m)\u001b[0m\u001b[0;34m\u001b[0m\u001b[0;34m\u001b[0m\u001b[0m\n\u001b[1;32m    361\u001b[0m         \u001b[0mself\u001b[0m\u001b[0;34m.\u001b[0m\u001b[0msalinfo\u001b[0m\u001b[0;34m.\u001b[0m\u001b[0m_running_cmds\u001b[0m\u001b[0;34m[\u001b[0m\u001b[0mseq_num\u001b[0m\u001b[0;34m]\u001b[0m \u001b[0;34m=\u001b[0m \u001b[0mcmd_info\u001b[0m\u001b[0;34m\u001b[0m\u001b[0;34m\u001b[0m\u001b[0m\n\u001b[0;32m--> 362\u001b[0;31m         \u001b[0;32mreturn\u001b[0m \u001b[0;32mawait\u001b[0m \u001b[0mcmd_info\u001b[0m\u001b[0;34m.\u001b[0m\u001b[0mnext_ackcmd\u001b[0m\u001b[0;34m(\u001b[0m\u001b[0mtimeout\u001b[0m\u001b[0;34m=\u001b[0m\u001b[0mtimeout\u001b[0m\u001b[0;34m)\u001b[0m\u001b[0;34m\u001b[0m\u001b[0;34m\u001b[0m\u001b[0m\n\u001b[0m",
      "\u001b[0;32m~/repos/ts_salobj/python/lsst/ts/salobj/topics/remote_command.py\u001b[0m in \u001b[0;36mnext_ackcmd\u001b[0;34m(self, timeout)\u001b[0m\n\u001b[1;32m    163\u001b[0m             \u001b[0;31m# print(f\"next_ackcmd got {ackcmd.ack} from _basic_next_ack\")\u001b[0m\u001b[0;34m\u001b[0m\u001b[0;34m\u001b[0m\u001b[0;34m\u001b[0m\u001b[0m\n\u001b[1;32m    164\u001b[0m             \u001b[0;32mif\u001b[0m \u001b[0mackcmd\u001b[0m\u001b[0;34m.\u001b[0m\u001b[0mack\u001b[0m \u001b[0;32min\u001b[0m \u001b[0mself\u001b[0m\u001b[0;34m.\u001b[0m\u001b[0mfailed_ack_codes\u001b[0m\u001b[0;34m:\u001b[0m\u001b[0;34m\u001b[0m\u001b[0;34m\u001b[0m\u001b[0m\n\u001b[0;32m--> 165\u001b[0;31m                 \u001b[0;32mraise\u001b[0m \u001b[0mbase\u001b[0m\u001b[0;34m.\u001b[0m\u001b[0mAckError\u001b[0m\u001b[0;34m(\u001b[0m\u001b[0mmsg\u001b[0m\u001b[0;34m=\u001b[0m\u001b[0;34m\"Command failed\"\u001b[0m\u001b[0;34m,\u001b[0m \u001b[0mackcmd\u001b[0m\u001b[0;34m=\u001b[0m\u001b[0mackcmd\u001b[0m\u001b[0;34m)\u001b[0m\u001b[0;34m\u001b[0m\u001b[0;34m\u001b[0m\u001b[0m\n\u001b[0m\u001b[1;32m    166\u001b[0m             \u001b[0;32mreturn\u001b[0m \u001b[0mackcmd\u001b[0m\u001b[0;34m\u001b[0m\u001b[0;34m\u001b[0m\u001b[0m\n\u001b[1;32m    167\u001b[0m         \u001b[0;32mexcept\u001b[0m \u001b[0masyncio\u001b[0m\u001b[0;34m.\u001b[0m\u001b[0mTimeoutError\u001b[0m\u001b[0;34m:\u001b[0m\u001b[0;34m\u001b[0m\u001b[0;34m\u001b[0m\u001b[0m\n",
      "\u001b[0;31mAckError\u001b[0m: msg='Command failed', ackcmd=(ackcmd private_seqNum=1702614574, ack=<SalRetCode.CMD_NOPERM: -300>, error=0, result='ERROR: Command startTracking rejected while in FaultState state.ate state.')"
     ]
    }
   ],
   "source": [
    "await attcs.atmcs.cmd_startTracking.start() "
   ]
  },
  {
   "cell_type": "code",
   "execution_count": 158,
   "metadata": {},
   "outputs": [
    {
     "name": "stdout",
     "output_type": "stream",
     "text": [
      "Gathering settings.\n",
      "No settings for atmcs.\n",
      "Using                                                                                                                                 from settingVersions event.\n",
      "No settings for atptg.\n",
      "Couldn't get settingVersions event. Using empty settings.\n",
      "No settings for ataos.\n",
      "Using current from settingVersions event.\n",
      "No settings for atpneumatics.\n",
      "Using                                                                                                                                 from settingVersions event.\n",
      "No settings for athexapod.\n",
      "Using current from settingVersions event.\n",
      "No settings for atdome.\n",
      "Using test from settingVersions event.\n",
      "No settings for atdometrajectory.\n",
      "Using  from settingVersions event.\n",
      "Settings versions: {'atmcs': '                                                                                                                               ', 'atptg': '', 'ataos': 'current', 'atpneumatics': '                                                                                                                               ', 'athexapod': 'current', 'atdome': 'test', 'atdometrajectory': ''}\n",
      "Enabling all components\n",
      "Enabling  atmcs\n",
      "Enabling  atptg\n",
      "Enabling  ataos\n",
      "Enabling  atpneumatics\n",
      "Enabling  athexapod\n",
      "Enabling  atdome\n",
      "Enabling  atdometrajectory\n",
      "[atmcs]::[<State.FAULT: 3>, <State.STANDBY: 5>, <State.DISABLED: 1>, <State.ENABLED: 2>]\n",
      "[atptg]::[<State.FAULT: 3>, <State.STANDBY: 5>, <State.DISABLED: 1>, <State.ENABLED: 2>]\n",
      "[ataos]::[<State.ENABLED: 2>]\n",
      "[atpneumatics]::[<State.ENABLED: 2>]\n",
      "[athexapod]::[<State.ENABLED: 2>]\n",
      "[atdome]::[<State.ENABLED: 2>]\n",
      "[atdometrajectory]::[<State.ENABLED: 2>]\n",
      "All components enabled.\n"
     ]
    }
   ],
   "source": [
    "await attcs.enable() "
   ]
  },
  {
   "cell_type": "code",
   "execution_count": 159,
   "metadata": {},
   "outputs": [
    {
     "name": "stdout",
     "output_type": "stream",
     "text": [
      "Slewing to HD 37061: 05 35 31.3653 -05 16 02.586\n",
      "Parallactic angle: 129.61513998948044 | Sky Angle: 132.9680449171786\n",
      "Sending command\n",
      "Stop tracking.\n",
      "Mount tracking state is 10\n",
      "Tracking state: 5.\n",
      "Tracking state: 6.\n",
      "Tracking state: 10.\n",
      "Scheduling check coroutines\n",
      "process as completed...\n",
      "Got False\n",
      "Telescope not in position\n",
      "atmcs: <State.ENABLED: 2>\n",
      "atptg: <State.ENABLED: 2>\n",
      "ataos: <State.ENABLED: 2>\n",
      "atpneumatics: <State.ENABLED: 2>\n",
      "athexapod: <State.ENABLED: 2>\n",
      "atdome: <State.ENABLED: 2>\n",
      "atdometrajectory: <State.ENABLED: 2>\n",
      "[Telescope] delta Alt = -002.905 | delta Az= -002.050 [Dome] delta Az = +003.013\n",
      "atmcs not in <State.ENABLED: 2>: <State.FAULT: 3>\n",
      "RuntimeError, cancel_not_done.\n"
     ]
    },
    {
     "ename": "RuntimeError",
     "evalue": "atmcs state is <State.FAULT: 3>, expected <State.ENABLED: 2>",
     "output_type": "error",
     "traceback": [
      "\u001b[0;31m\u001b[0m",
      "\u001b[0;31mRuntimeError\u001b[0mTraceback (most recent call last)",
      "\u001b[0;32m<ipython-input-159-ec573f3486ab>\u001b[0m in \u001b[0;36masync-def-wrapper\u001b[0;34m()\u001b[0m\n",
      "\u001b[0;32m~/repos/ts_standardscripts/python/lsst/ts/standardscripts/auxtel/attcs.py\u001b[0m in \u001b[0;36mslew_object\u001b[0;34m(self, name, rot_sky, pa_ang, rot_pa, slew_timeout, track_id)\u001b[0m\n\u001b[1;32m    187\u001b[0m                              \u001b[0mtarget_name\u001b[0m\u001b[0;34m=\u001b[0m\u001b[0mname\u001b[0m\u001b[0;34m,\u001b[0m\u001b[0;34m\u001b[0m\u001b[0;34m\u001b[0m\u001b[0m\n\u001b[1;32m    188\u001b[0m                              \u001b[0mslew_timeout\u001b[0m\u001b[0;34m=\u001b[0m\u001b[0mslew_timeout\u001b[0m\u001b[0;34m,\u001b[0m\u001b[0;34m\u001b[0m\u001b[0;34m\u001b[0m\u001b[0m\n\u001b[0;32m--> 189\u001b[0;31m                              track_id=track_id)\n\u001b[0m\u001b[1;32m    190\u001b[0m \u001b[0;34m\u001b[0m\u001b[0m\n\u001b[1;32m    191\u001b[0m     async def slew_icrs(self, ra, dec, rot_sky=None, pa_ang=None, rot_pa=0.,\n",
      "\u001b[0;32m~/repos/ts_standardscripts/python/lsst/ts/standardscripts/auxtel/attcs.py\u001b[0m in \u001b[0;36mslew_icrs\u001b[0;34m(self, ra, dec, rot_sky, pa_ang, rot_pa, target_name, slew_timeout, track_id)\u001b[0m\n\u001b[1;32m    267\u001b[0m                         \u001b[0mrot_mode\u001b[0m\u001b[0;34m=\u001b[0m\u001b[0mATPtg\u001b[0m\u001b[0;34m.\u001b[0m\u001b[0mRotMode\u001b[0m\u001b[0;34m.\u001b[0m\u001b[0mFIELD\u001b[0m\u001b[0;34m,\u001b[0m\u001b[0;34m\u001b[0m\u001b[0;34m\u001b[0m\u001b[0m\n\u001b[1;32m    268\u001b[0m                         \u001b[0mslew_timeout\u001b[0m\u001b[0;34m=\u001b[0m\u001b[0mslew_timeout\u001b[0m\u001b[0;34m,\u001b[0m\u001b[0;34m\u001b[0m\u001b[0;34m\u001b[0m\u001b[0m\n\u001b[0;32m--> 269\u001b[0;31m                         track_id=track_id)\n\u001b[0m\u001b[1;32m    270\u001b[0m \u001b[0;34m\u001b[0m\u001b[0m\n\u001b[1;32m    271\u001b[0m     async def slew(self, ra, dec, rotPA=0., target_name=\"slew_icrs\",\n",
      "\u001b[0;32m~/repos/ts_standardscripts/python/lsst/ts/standardscripts/auxtel/attcs.py\u001b[0m in \u001b[0;36mslew\u001b[0;34m(self, ra, dec, rotPA, target_name, target_instance, frame, epoch, equinox, parallax, pmRA, pmDec, rv, dRA, dDec, rot_frame, rot_mode, slew_timeout, track_id)\u001b[0m\n\u001b[1;32m    313\u001b[0m \u001b[0;34m\u001b[0m\u001b[0m\n\u001b[1;32m    314\u001b[0m         await self._slew_to(self.atptg.cmd_raDecTarget,\n\u001b[0;32m--> 315\u001b[0;31m                             slew_timeout=slew_timeout)\n\u001b[0m\u001b[1;32m    316\u001b[0m \u001b[0;34m\u001b[0m\u001b[0m\n\u001b[1;32m    317\u001b[0m     async def slew_to_planet(self, planet,\n",
      "\u001b[0;32m~/repos/ts_standardscripts/python/lsst/ts/standardscripts/auxtel/attcs.py\u001b[0m in \u001b[0;36m_slew_to\u001b[0;34m(self, slew_cmd, slew_timeout)\u001b[0m\n\u001b[1;32m    838\u001b[0m                 \u001b[0mself\u001b[0m\u001b[0;34m.\u001b[0m\u001b[0mlog\u001b[0m\u001b[0;34m.\u001b[0m\u001b[0mwarning\u001b[0m\u001b[0;34m(\u001b[0m\u001b[0;34m\"RuntimeError, cancel_not_done.\"\u001b[0m\u001b[0;34m)\u001b[0m\u001b[0;34m\u001b[0m\u001b[0;34m\u001b[0m\u001b[0m\n\u001b[1;32m    839\u001b[0m                 \u001b[0;32mawait\u001b[0m \u001b[0mself\u001b[0m\u001b[0;34m.\u001b[0m\u001b[0mcancel_not_done\u001b[0m\u001b[0;34m(\u001b[0m\u001b[0mcoro_list\u001b[0m\u001b[0;34m)\u001b[0m\u001b[0;34m\u001b[0m\u001b[0;34m\u001b[0m\u001b[0m\n\u001b[0;32m--> 840\u001b[0;31m                 \u001b[0;32mraise\u001b[0m \u001b[0mrte\u001b[0m\u001b[0;34m\u001b[0m\u001b[0;34m\u001b[0m\u001b[0m\n\u001b[0m\u001b[1;32m    841\u001b[0m             \u001b[0;32melse\u001b[0m\u001b[0;34m:\u001b[0m\u001b[0;34m\u001b[0m\u001b[0;34m\u001b[0m\u001b[0m\n\u001b[1;32m    842\u001b[0m                 \u001b[0;32mbreak\u001b[0m\u001b[0;34m\u001b[0m\u001b[0;34m\u001b[0m\u001b[0m\n",
      "\u001b[0;32m~/repos/ts_standardscripts/python/lsst/ts/standardscripts/auxtel/attcs.py\u001b[0m in \u001b[0;36m_slew_to\u001b[0;34m(self, slew_cmd, slew_timeout)\u001b[0m\n\u001b[1;32m    833\u001b[0m         \u001b[0;32mfor\u001b[0m \u001b[0mres\u001b[0m \u001b[0;32min\u001b[0m \u001b[0masyncio\u001b[0m\u001b[0;34m.\u001b[0m\u001b[0mas_completed\u001b[0m\u001b[0;34m(\u001b[0m\u001b[0mcoro_list\u001b[0m\u001b[0;34m)\u001b[0m\u001b[0;34m:\u001b[0m\u001b[0;34m\u001b[0m\u001b[0;34m\u001b[0m\u001b[0m\n\u001b[1;32m    834\u001b[0m             \u001b[0;32mtry\u001b[0m\u001b[0;34m:\u001b[0m\u001b[0;34m\u001b[0m\u001b[0;34m\u001b[0m\u001b[0m\n\u001b[0;32m--> 835\u001b[0;31m                 \u001b[0mret_val\u001b[0m \u001b[0;34m=\u001b[0m \u001b[0;32mawait\u001b[0m \u001b[0mres\u001b[0m\u001b[0;34m\u001b[0m\u001b[0;34m\u001b[0m\u001b[0m\n\u001b[0m\u001b[1;32m    836\u001b[0m                 \u001b[0mself\u001b[0m\u001b[0;34m.\u001b[0m\u001b[0mlog\u001b[0m\u001b[0;34m.\u001b[0m\u001b[0mdebug\u001b[0m\u001b[0;34m(\u001b[0m\u001b[0mret_val\u001b[0m\u001b[0;34m)\u001b[0m\u001b[0;34m\u001b[0m\u001b[0;34m\u001b[0m\u001b[0m\n\u001b[1;32m    837\u001b[0m             \u001b[0;32mexcept\u001b[0m \u001b[0mRuntimeError\u001b[0m \u001b[0;32mas\u001b[0m \u001b[0mrte\u001b[0m\u001b[0;34m:\u001b[0m\u001b[0;34m\u001b[0m\u001b[0;34m\u001b[0m\u001b[0m\n",
      "\u001b[0;32m/opt/lsst/software/stack/python/miniconda3-4.7.10/envs/lsst-scipipe-4d7b902/lib/python3.7/asyncio/tasks.py\u001b[0m in \u001b[0;36m_wait_for_one\u001b[0;34m()\u001b[0m\n\u001b[1;32m    531\u001b[0m             \u001b[0;31m# Dummy value from _on_timeout().\u001b[0m\u001b[0;34m\u001b[0m\u001b[0;34m\u001b[0m\u001b[0;34m\u001b[0m\u001b[0m\n\u001b[1;32m    532\u001b[0m             \u001b[0;32mraise\u001b[0m \u001b[0mfutures\u001b[0m\u001b[0;34m.\u001b[0m\u001b[0mTimeoutError\u001b[0m\u001b[0;34m\u001b[0m\u001b[0;34m\u001b[0m\u001b[0m\n\u001b[0;32m--> 533\u001b[0;31m         \u001b[0;32mreturn\u001b[0m \u001b[0mf\u001b[0m\u001b[0;34m.\u001b[0m\u001b[0mresult\u001b[0m\u001b[0;34m(\u001b[0m\u001b[0;34m)\u001b[0m  \u001b[0;31m# May raise f.exception().\u001b[0m\u001b[0;34m\u001b[0m\u001b[0;34m\u001b[0m\u001b[0m\n\u001b[0m\u001b[1;32m    534\u001b[0m \u001b[0;34m\u001b[0m\u001b[0m\n\u001b[1;32m    535\u001b[0m     \u001b[0;32mfor\u001b[0m \u001b[0mf\u001b[0m \u001b[0;32min\u001b[0m \u001b[0mtodo\u001b[0m\u001b[0;34m:\u001b[0m\u001b[0;34m\u001b[0m\u001b[0;34m\u001b[0m\u001b[0m\n",
      "\u001b[0;32m~/repos/ts_standardscripts/python/lsst/ts/standardscripts/base_group.py\u001b[0m in \u001b[0;36mcheck_component_state\u001b[0;34m(self, comp, desired_state)\u001b[0m\n\u001b[1;32m     96\u001b[0m             \u001b[0;32mif\u001b[0m \u001b[0mstate\u001b[0m \u001b[0;34m!=\u001b[0m \u001b[0mdesired_state\u001b[0m\u001b[0;34m:\u001b[0m\u001b[0;34m\u001b[0m\u001b[0;34m\u001b[0m\u001b[0m\n\u001b[1;32m     97\u001b[0m                 \u001b[0mself\u001b[0m\u001b[0;34m.\u001b[0m\u001b[0mlog\u001b[0m\u001b[0;34m.\u001b[0m\u001b[0mwarning\u001b[0m\u001b[0;34m(\u001b[0m\u001b[0;34mf\"{comp} not in {desired_state!r}: {state!r}\"\u001b[0m\u001b[0;34m)\u001b[0m\u001b[0;34m\u001b[0m\u001b[0;34m\u001b[0m\u001b[0m\n\u001b[0;32m---> 98\u001b[0;31m                 raise RuntimeError(f\"{comp} state is {state!r}, \"\n\u001b[0m\u001b[1;32m     99\u001b[0m                                    f\"expected {desired_state!r}\")\n\u001b[1;32m    100\u001b[0m             \u001b[0;32melse\u001b[0m\u001b[0;34m:\u001b[0m\u001b[0;34m\u001b[0m\u001b[0;34m\u001b[0m\u001b[0m\n",
      "\u001b[0;31mRuntimeError\u001b[0m: atmcs state is <State.FAULT: 3>, expected <State.ENABLED: 2>"
     ]
    }
   ],
   "source": [
    "await attcs.slew_object(name = \"HD 37061\", pa_ang = 0.0, slew_timeout = 240.0)"
   ]
  },
  {
   "cell_type": "code",
   "execution_count": 160,
   "metadata": {},
   "outputs": [
    {
     "name": "stdout",
     "output_type": "stream",
     "text": [
      "Gathering settings.\n",
      "No settings for atmcs.\n",
      "Using                                                                                                                                 from settingVersions event.\n",
      "No settings for atptg.\n",
      "Couldn't get settingVersions event. Using empty settings.\n",
      "No settings for ataos.\n",
      "Using current from settingVersions event.\n",
      "No settings for atpneumatics.\n",
      "Using                                                                                                                                 from settingVersions event.\n",
      "No settings for athexapod.\n",
      "Using current from settingVersions event.\n",
      "No settings for atdome.\n",
      "Using test from settingVersions event.\n",
      "No settings for atdometrajectory.\n",
      "Using  from settingVersions event.\n",
      "Settings versions: {'atmcs': '                                                                                                                               ', 'atptg': '', 'ataos': 'current', 'atpneumatics': '                                                                                                                               ', 'athexapod': 'current', 'atdome': 'test', 'atdometrajectory': ''}\n",
      "Enabling all components\n",
      "Enabling  atmcs\n",
      "Enabling  atptg\n",
      "Enabling  ataos\n",
      "Enabling  atpneumatics\n",
      "Enabling  athexapod\n",
      "Enabling  atdome\n",
      "Enabling  atdometrajectory\n",
      "[atmcs]::[<State.FAULT: 3>, <State.STANDBY: 5>, <State.DISABLED: 1>, <State.ENABLED: 2>]\n",
      "[atptg]::[<State.FAULT: 3>, <State.STANDBY: 5>, <State.DISABLED: 1>, <State.ENABLED: 2>]\n",
      "[ataos]::[<State.ENABLED: 2>]\n",
      "[atpneumatics]::[<State.ENABLED: 2>]\n",
      "[athexapod]::[<State.ENABLED: 2>]\n",
      "[atdome]::[<State.ENABLED: 2>]\n",
      "[atdometrajectory]::[<State.ENABLED: 2>]\n",
      "All components enabled.\n"
     ]
    }
   ],
   "source": [
    "await attcs.enable()"
   ]
  },
  {
   "cell_type": "code",
   "execution_count": 163,
   "metadata": {},
   "outputs": [
    {
     "name": "stdout",
     "output_type": "stream",
     "text": [
      "Applying Az/El offset: 3600.0/ 0.0 \n"
     ]
    },
    {
     "ename": "AckError",
     "evalue": "msg='Command failed', ackcmd=(ackcmd private_seqNum=946659113, ack=<SalRetCode.CMD_FAILED: -302>, error=6611, result='Rejected : elevation out of range')",
     "output_type": "error",
     "traceback": [
      "\u001b[0;31m\u001b[0m",
      "\u001b[0;31mAckError\u001b[0mTraceback (most recent call last)",
      "\u001b[0;32m<ipython-input-163-87ef44ae72e3>\u001b[0m in \u001b[0;36masync-def-wrapper\u001b[0;34m()\u001b[0m\n",
      "\u001b[0;32m~/repos/ts_standardscripts/python/lsst/ts/standardscripts/auxtel/attcs.py\u001b[0m in \u001b[0;36moffset_azel\u001b[0;34m(self, az, el, persistent)\u001b[0m\n\u001b[1;32m    859\u001b[0m         \"\"\"\n\u001b[1;32m    860\u001b[0m         \u001b[0mself\u001b[0m\u001b[0;34m.\u001b[0m\u001b[0mlog\u001b[0m\u001b[0;34m.\u001b[0m\u001b[0mdebug\u001b[0m\u001b[0;34m(\u001b[0m\u001b[0;34mf\"Applying Az/El offset: {az}/ {el} \"\u001b[0m\u001b[0;34m)\u001b[0m\u001b[0;34m\u001b[0m\u001b[0;34m\u001b[0m\u001b[0m\n\u001b[0;32m--> 861\u001b[0;31m         \u001b[0;32mawait\u001b[0m \u001b[0mself\u001b[0m\u001b[0;34m.\u001b[0m\u001b[0matptg\u001b[0m\u001b[0;34m.\u001b[0m\u001b[0mcmd_offsetAzEl\u001b[0m\u001b[0;34m.\u001b[0m\u001b[0mset_start\u001b[0m\u001b[0;34m(\u001b[0m\u001b[0maz\u001b[0m\u001b[0;34m=\u001b[0m\u001b[0maz\u001b[0m\u001b[0;34m,\u001b[0m \u001b[0mel\u001b[0m\u001b[0;34m=\u001b[0m\u001b[0mel\u001b[0m\u001b[0;34m,\u001b[0m \u001b[0mnum\u001b[0m\u001b[0;34m=\u001b[0m\u001b[0;36m0\u001b[0m \u001b[0;32mif\u001b[0m \u001b[0;32mnot\u001b[0m \u001b[0mpersistent\u001b[0m \u001b[0;32melse\u001b[0m \u001b[0;36m1\u001b[0m\u001b[0;34m)\u001b[0m\u001b[0;34m\u001b[0m\u001b[0;34m\u001b[0m\u001b[0m\n\u001b[0m\u001b[1;32m    862\u001b[0m         \u001b[0mself\u001b[0m\u001b[0;34m.\u001b[0m\u001b[0mlog\u001b[0m\u001b[0;34m.\u001b[0m\u001b[0mdebug\u001b[0m\u001b[0;34m(\u001b[0m\u001b[0;34m\"Waiting for telescope to settle.\"\u001b[0m\u001b[0;34m)\u001b[0m\u001b[0;34m\u001b[0m\u001b[0;34m\u001b[0m\u001b[0m\n\u001b[1;32m    863\u001b[0m         \u001b[0;32mawait\u001b[0m \u001b[0masyncio\u001b[0m\u001b[0;34m.\u001b[0m\u001b[0msleep\u001b[0m\u001b[0;34m(\u001b[0m\u001b[0mself\u001b[0m\u001b[0;34m.\u001b[0m\u001b[0mtel_settle_time\u001b[0m\u001b[0;34m)\u001b[0m\u001b[0;34m\u001b[0m\u001b[0;34m\u001b[0m\u001b[0m\n",
      "\u001b[0;32m~/repos/ts_salobj/python/lsst/ts/salobj/topics/remote_command.py\u001b[0m in \u001b[0;36mset_start\u001b[0;34m(self, timeout, wait_done, **kwargs)\u001b[0m\n\u001b[1;32m    317\u001b[0m         \"\"\"\n\u001b[1;32m    318\u001b[0m         \u001b[0mself\u001b[0m\u001b[0;34m.\u001b[0m\u001b[0mset\u001b[0m\u001b[0;34m(\u001b[0m\u001b[0;34m**\u001b[0m\u001b[0mkwargs\u001b[0m\u001b[0;34m)\u001b[0m\u001b[0;34m\u001b[0m\u001b[0;34m\u001b[0m\u001b[0m\n\u001b[0;32m--> 319\u001b[0;31m         \u001b[0;32mreturn\u001b[0m \u001b[0;32mawait\u001b[0m \u001b[0mself\u001b[0m\u001b[0;34m.\u001b[0m\u001b[0mstart\u001b[0m\u001b[0;34m(\u001b[0m\u001b[0mtimeout\u001b[0m\u001b[0;34m=\u001b[0m\u001b[0mtimeout\u001b[0m\u001b[0;34m,\u001b[0m \u001b[0mwait_done\u001b[0m\u001b[0;34m=\u001b[0m\u001b[0mwait_done\u001b[0m\u001b[0;34m)\u001b[0m\u001b[0;34m\u001b[0m\u001b[0;34m\u001b[0m\u001b[0m\n\u001b[0m\u001b[1;32m    320\u001b[0m \u001b[0;34m\u001b[0m\u001b[0m\n\u001b[1;32m    321\u001b[0m     \u001b[0;32masync\u001b[0m \u001b[0;32mdef\u001b[0m \u001b[0mstart\u001b[0m\u001b[0;34m(\u001b[0m\u001b[0mself\u001b[0m\u001b[0;34m,\u001b[0m \u001b[0mdata\u001b[0m\u001b[0;34m=\u001b[0m\u001b[0;32mNone\u001b[0m\u001b[0;34m,\u001b[0m \u001b[0mtimeout\u001b[0m\u001b[0;34m=\u001b[0m\u001b[0mDEFAULT_TIMEOUT\u001b[0m\u001b[0;34m,\u001b[0m \u001b[0mwait_done\u001b[0m\u001b[0;34m=\u001b[0m\u001b[0;32mTrue\u001b[0m\u001b[0;34m)\u001b[0m\u001b[0;34m:\u001b[0m\u001b[0;34m\u001b[0m\u001b[0;34m\u001b[0m\u001b[0m\n",
      "\u001b[0;32m~/repos/ts_salobj/python/lsst/ts/salobj/topics/remote_command.py\u001b[0m in \u001b[0;36mstart\u001b[0;34m(self, data, timeout, wait_done)\u001b[0m\n\u001b[1;32m    360\u001b[0m         \u001b[0mcmd_info\u001b[0m \u001b[0;34m=\u001b[0m \u001b[0m_CommandInfo\u001b[0m\u001b[0;34m(\u001b[0m\u001b[0mremote_command\u001b[0m\u001b[0;34m=\u001b[0m\u001b[0mself\u001b[0m\u001b[0;34m,\u001b[0m \u001b[0mseq_num\u001b[0m\u001b[0;34m=\u001b[0m\u001b[0mseq_num\u001b[0m\u001b[0;34m,\u001b[0m \u001b[0mwait_done\u001b[0m\u001b[0;34m=\u001b[0m\u001b[0mwait_done\u001b[0m\u001b[0;34m)\u001b[0m\u001b[0;34m\u001b[0m\u001b[0;34m\u001b[0m\u001b[0m\n\u001b[1;32m    361\u001b[0m         \u001b[0mself\u001b[0m\u001b[0;34m.\u001b[0m\u001b[0msalinfo\u001b[0m\u001b[0;34m.\u001b[0m\u001b[0m_running_cmds\u001b[0m\u001b[0;34m[\u001b[0m\u001b[0mseq_num\u001b[0m\u001b[0;34m]\u001b[0m \u001b[0;34m=\u001b[0m \u001b[0mcmd_info\u001b[0m\u001b[0;34m\u001b[0m\u001b[0;34m\u001b[0m\u001b[0m\n\u001b[0;32m--> 362\u001b[0;31m         \u001b[0;32mreturn\u001b[0m \u001b[0;32mawait\u001b[0m \u001b[0mcmd_info\u001b[0m\u001b[0;34m.\u001b[0m\u001b[0mnext_ackcmd\u001b[0m\u001b[0;34m(\u001b[0m\u001b[0mtimeout\u001b[0m\u001b[0;34m=\u001b[0m\u001b[0mtimeout\u001b[0m\u001b[0;34m)\u001b[0m\u001b[0;34m\u001b[0m\u001b[0;34m\u001b[0m\u001b[0m\n\u001b[0m",
      "\u001b[0;32m~/repos/ts_salobj/python/lsst/ts/salobj/topics/remote_command.py\u001b[0m in \u001b[0;36mnext_ackcmd\u001b[0;34m(self, timeout)\u001b[0m\n\u001b[1;32m    163\u001b[0m             \u001b[0;31m# print(f\"next_ackcmd got {ackcmd.ack} from _basic_next_ack\")\u001b[0m\u001b[0;34m\u001b[0m\u001b[0;34m\u001b[0m\u001b[0;34m\u001b[0m\u001b[0m\n\u001b[1;32m    164\u001b[0m             \u001b[0;32mif\u001b[0m \u001b[0mackcmd\u001b[0m\u001b[0;34m.\u001b[0m\u001b[0mack\u001b[0m \u001b[0;32min\u001b[0m \u001b[0mself\u001b[0m\u001b[0;34m.\u001b[0m\u001b[0mfailed_ack_codes\u001b[0m\u001b[0;34m:\u001b[0m\u001b[0;34m\u001b[0m\u001b[0;34m\u001b[0m\u001b[0m\n\u001b[0;32m--> 165\u001b[0;31m                 \u001b[0;32mraise\u001b[0m \u001b[0mbase\u001b[0m\u001b[0;34m.\u001b[0m\u001b[0mAckError\u001b[0m\u001b[0;34m(\u001b[0m\u001b[0mmsg\u001b[0m\u001b[0;34m=\u001b[0m\u001b[0;34m\"Command failed\"\u001b[0m\u001b[0;34m,\u001b[0m \u001b[0mackcmd\u001b[0m\u001b[0;34m=\u001b[0m\u001b[0mackcmd\u001b[0m\u001b[0;34m)\u001b[0m\u001b[0;34m\u001b[0m\u001b[0;34m\u001b[0m\u001b[0m\n\u001b[0m\u001b[1;32m    166\u001b[0m             \u001b[0;32mreturn\u001b[0m \u001b[0mackcmd\u001b[0m\u001b[0;34m\u001b[0m\u001b[0;34m\u001b[0m\u001b[0m\n\u001b[1;32m    167\u001b[0m         \u001b[0;32mexcept\u001b[0m \u001b[0masyncio\u001b[0m\u001b[0;34m.\u001b[0m\u001b[0mTimeoutError\u001b[0m\u001b[0;34m:\u001b[0m\u001b[0;34m\u001b[0m\u001b[0;34m\u001b[0m\u001b[0m\n",
      "\u001b[0;31mAckError\u001b[0m: msg='Command failed', ackcmd=(ackcmd private_seqNum=946659113, ack=<SalRetCode.CMD_FAILED: -302>, error=6611, result='Rejected : elevation out of range')"
     ]
    }
   ],
   "source": [
    "await attcs.offset_azel(az = 1.0 * 3600.0, el = 0.0)"
   ]
  },
  {
   "cell_type": "code",
   "execution_count": 164,
   "metadata": {},
   "outputs": [
    {
     "name": "stdout",
     "output_type": "stream",
     "text": [
      "Applying Az/El offset: 36000.0/ 36000.0 \n"
     ]
    },
    {
     "ename": "AckError",
     "evalue": "msg='Command failed', ackcmd=(ackcmd private_seqNum=946659114, ack=<SalRetCode.CMD_FAILED: -302>, error=6611, result='Rejected : elevation out of range')",
     "output_type": "error",
     "traceback": [
      "\u001b[0;31m\u001b[0m",
      "\u001b[0;31mAckError\u001b[0mTraceback (most recent call last)",
      "\u001b[0;32m<ipython-input-164-5c213a42878a>\u001b[0m in \u001b[0;36masync-def-wrapper\u001b[0;34m()\u001b[0m\n",
      "\u001b[0;32m~/repos/ts_standardscripts/python/lsst/ts/standardscripts/auxtel/attcs.py\u001b[0m in \u001b[0;36moffset_azel\u001b[0;34m(self, az, el, persistent)\u001b[0m\n\u001b[1;32m    859\u001b[0m         \"\"\"\n\u001b[1;32m    860\u001b[0m         \u001b[0mself\u001b[0m\u001b[0;34m.\u001b[0m\u001b[0mlog\u001b[0m\u001b[0;34m.\u001b[0m\u001b[0mdebug\u001b[0m\u001b[0;34m(\u001b[0m\u001b[0;34mf\"Applying Az/El offset: {az}/ {el} \"\u001b[0m\u001b[0;34m)\u001b[0m\u001b[0;34m\u001b[0m\u001b[0;34m\u001b[0m\u001b[0m\n\u001b[0;32m--> 861\u001b[0;31m         \u001b[0;32mawait\u001b[0m \u001b[0mself\u001b[0m\u001b[0;34m.\u001b[0m\u001b[0matptg\u001b[0m\u001b[0;34m.\u001b[0m\u001b[0mcmd_offsetAzEl\u001b[0m\u001b[0;34m.\u001b[0m\u001b[0mset_start\u001b[0m\u001b[0;34m(\u001b[0m\u001b[0maz\u001b[0m\u001b[0;34m=\u001b[0m\u001b[0maz\u001b[0m\u001b[0;34m,\u001b[0m \u001b[0mel\u001b[0m\u001b[0;34m=\u001b[0m\u001b[0mel\u001b[0m\u001b[0;34m,\u001b[0m \u001b[0mnum\u001b[0m\u001b[0;34m=\u001b[0m\u001b[0;36m0\u001b[0m \u001b[0;32mif\u001b[0m \u001b[0;32mnot\u001b[0m \u001b[0mpersistent\u001b[0m \u001b[0;32melse\u001b[0m \u001b[0;36m1\u001b[0m\u001b[0;34m)\u001b[0m\u001b[0;34m\u001b[0m\u001b[0;34m\u001b[0m\u001b[0m\n\u001b[0m\u001b[1;32m    862\u001b[0m         \u001b[0mself\u001b[0m\u001b[0;34m.\u001b[0m\u001b[0mlog\u001b[0m\u001b[0;34m.\u001b[0m\u001b[0mdebug\u001b[0m\u001b[0;34m(\u001b[0m\u001b[0;34m\"Waiting for telescope to settle.\"\u001b[0m\u001b[0;34m)\u001b[0m\u001b[0;34m\u001b[0m\u001b[0;34m\u001b[0m\u001b[0m\n\u001b[1;32m    863\u001b[0m         \u001b[0;32mawait\u001b[0m \u001b[0masyncio\u001b[0m\u001b[0;34m.\u001b[0m\u001b[0msleep\u001b[0m\u001b[0;34m(\u001b[0m\u001b[0mself\u001b[0m\u001b[0;34m.\u001b[0m\u001b[0mtel_settle_time\u001b[0m\u001b[0;34m)\u001b[0m\u001b[0;34m\u001b[0m\u001b[0;34m\u001b[0m\u001b[0m\n",
      "\u001b[0;32m~/repos/ts_salobj/python/lsst/ts/salobj/topics/remote_command.py\u001b[0m in \u001b[0;36mset_start\u001b[0;34m(self, timeout, wait_done, **kwargs)\u001b[0m\n\u001b[1;32m    317\u001b[0m         \"\"\"\n\u001b[1;32m    318\u001b[0m         \u001b[0mself\u001b[0m\u001b[0;34m.\u001b[0m\u001b[0mset\u001b[0m\u001b[0;34m(\u001b[0m\u001b[0;34m**\u001b[0m\u001b[0mkwargs\u001b[0m\u001b[0;34m)\u001b[0m\u001b[0;34m\u001b[0m\u001b[0;34m\u001b[0m\u001b[0m\n\u001b[0;32m--> 319\u001b[0;31m         \u001b[0;32mreturn\u001b[0m \u001b[0;32mawait\u001b[0m \u001b[0mself\u001b[0m\u001b[0;34m.\u001b[0m\u001b[0mstart\u001b[0m\u001b[0;34m(\u001b[0m\u001b[0mtimeout\u001b[0m\u001b[0;34m=\u001b[0m\u001b[0mtimeout\u001b[0m\u001b[0;34m,\u001b[0m \u001b[0mwait_done\u001b[0m\u001b[0;34m=\u001b[0m\u001b[0mwait_done\u001b[0m\u001b[0;34m)\u001b[0m\u001b[0;34m\u001b[0m\u001b[0;34m\u001b[0m\u001b[0m\n\u001b[0m\u001b[1;32m    320\u001b[0m \u001b[0;34m\u001b[0m\u001b[0m\n\u001b[1;32m    321\u001b[0m     \u001b[0;32masync\u001b[0m \u001b[0;32mdef\u001b[0m \u001b[0mstart\u001b[0m\u001b[0;34m(\u001b[0m\u001b[0mself\u001b[0m\u001b[0;34m,\u001b[0m \u001b[0mdata\u001b[0m\u001b[0;34m=\u001b[0m\u001b[0;32mNone\u001b[0m\u001b[0;34m,\u001b[0m \u001b[0mtimeout\u001b[0m\u001b[0;34m=\u001b[0m\u001b[0mDEFAULT_TIMEOUT\u001b[0m\u001b[0;34m,\u001b[0m \u001b[0mwait_done\u001b[0m\u001b[0;34m=\u001b[0m\u001b[0;32mTrue\u001b[0m\u001b[0;34m)\u001b[0m\u001b[0;34m:\u001b[0m\u001b[0;34m\u001b[0m\u001b[0;34m\u001b[0m\u001b[0m\n",
      "\u001b[0;32m~/repos/ts_salobj/python/lsst/ts/salobj/topics/remote_command.py\u001b[0m in \u001b[0;36mstart\u001b[0;34m(self, data, timeout, wait_done)\u001b[0m\n\u001b[1;32m    360\u001b[0m         \u001b[0mcmd_info\u001b[0m \u001b[0;34m=\u001b[0m \u001b[0m_CommandInfo\u001b[0m\u001b[0;34m(\u001b[0m\u001b[0mremote_command\u001b[0m\u001b[0;34m=\u001b[0m\u001b[0mself\u001b[0m\u001b[0;34m,\u001b[0m \u001b[0mseq_num\u001b[0m\u001b[0;34m=\u001b[0m\u001b[0mseq_num\u001b[0m\u001b[0;34m,\u001b[0m \u001b[0mwait_done\u001b[0m\u001b[0;34m=\u001b[0m\u001b[0mwait_done\u001b[0m\u001b[0;34m)\u001b[0m\u001b[0;34m\u001b[0m\u001b[0;34m\u001b[0m\u001b[0m\n\u001b[1;32m    361\u001b[0m         \u001b[0mself\u001b[0m\u001b[0;34m.\u001b[0m\u001b[0msalinfo\u001b[0m\u001b[0;34m.\u001b[0m\u001b[0m_running_cmds\u001b[0m\u001b[0;34m[\u001b[0m\u001b[0mseq_num\u001b[0m\u001b[0;34m]\u001b[0m \u001b[0;34m=\u001b[0m \u001b[0mcmd_info\u001b[0m\u001b[0;34m\u001b[0m\u001b[0;34m\u001b[0m\u001b[0m\n\u001b[0;32m--> 362\u001b[0;31m         \u001b[0;32mreturn\u001b[0m \u001b[0;32mawait\u001b[0m \u001b[0mcmd_info\u001b[0m\u001b[0;34m.\u001b[0m\u001b[0mnext_ackcmd\u001b[0m\u001b[0;34m(\u001b[0m\u001b[0mtimeout\u001b[0m\u001b[0;34m=\u001b[0m\u001b[0mtimeout\u001b[0m\u001b[0;34m)\u001b[0m\u001b[0;34m\u001b[0m\u001b[0;34m\u001b[0m\u001b[0m\n\u001b[0m",
      "\u001b[0;32m~/repos/ts_salobj/python/lsst/ts/salobj/topics/remote_command.py\u001b[0m in \u001b[0;36mnext_ackcmd\u001b[0;34m(self, timeout)\u001b[0m\n\u001b[1;32m    163\u001b[0m             \u001b[0;31m# print(f\"next_ackcmd got {ackcmd.ack} from _basic_next_ack\")\u001b[0m\u001b[0;34m\u001b[0m\u001b[0;34m\u001b[0m\u001b[0;34m\u001b[0m\u001b[0m\n\u001b[1;32m    164\u001b[0m             \u001b[0;32mif\u001b[0m \u001b[0mackcmd\u001b[0m\u001b[0;34m.\u001b[0m\u001b[0mack\u001b[0m \u001b[0;32min\u001b[0m \u001b[0mself\u001b[0m\u001b[0;34m.\u001b[0m\u001b[0mfailed_ack_codes\u001b[0m\u001b[0;34m:\u001b[0m\u001b[0;34m\u001b[0m\u001b[0;34m\u001b[0m\u001b[0m\n\u001b[0;32m--> 165\u001b[0;31m                 \u001b[0;32mraise\u001b[0m \u001b[0mbase\u001b[0m\u001b[0;34m.\u001b[0m\u001b[0mAckError\u001b[0m\u001b[0;34m(\u001b[0m\u001b[0mmsg\u001b[0m\u001b[0;34m=\u001b[0m\u001b[0;34m\"Command failed\"\u001b[0m\u001b[0;34m,\u001b[0m \u001b[0mackcmd\u001b[0m\u001b[0;34m=\u001b[0m\u001b[0mackcmd\u001b[0m\u001b[0;34m)\u001b[0m\u001b[0;34m\u001b[0m\u001b[0;34m\u001b[0m\u001b[0m\n\u001b[0m\u001b[1;32m    166\u001b[0m             \u001b[0;32mreturn\u001b[0m \u001b[0mackcmd\u001b[0m\u001b[0;34m\u001b[0m\u001b[0;34m\u001b[0m\u001b[0m\n\u001b[1;32m    167\u001b[0m         \u001b[0;32mexcept\u001b[0m \u001b[0masyncio\u001b[0m\u001b[0;34m.\u001b[0m\u001b[0mTimeoutError\u001b[0m\u001b[0;34m:\u001b[0m\u001b[0;34m\u001b[0m\u001b[0;34m\u001b[0m\u001b[0m\n",
      "\u001b[0;31mAckError\u001b[0m: msg='Command failed', ackcmd=(ackcmd private_seqNum=946659114, ack=<SalRetCode.CMD_FAILED: -302>, error=6611, result='Rejected : elevation out of range')"
     ]
    }
   ],
   "source": [
    "await attcs.offset_azel(az = 10.0 * 3600.0, el = 10.0 * 3600.0)"
   ]
  },
  {
   "cell_type": "code",
   "execution_count": 165,
   "metadata": {},
   "outputs": [
    {
     "name": "stdout",
     "output_type": "stream",
     "text": [
      "Disabling ATAOS corrections\n",
      "Disable ATDomeTrajectory\n",
      "Slew telescope to Park position.\n",
      "Sending command\n",
      "Stop tracking.\n",
      "Mount tracking state is 10\n",
      "Tracking state: 9.\n",
      "Tracking state: 3.\n",
      "Tracking state: 5.\n",
      "Tracking state: 6.\n",
      "Tracking state: 10.\n",
      "Scheduling check coroutines\n",
      "process as completed...\n",
      "Got False\n",
      "Telescope not in position\n",
      "atmcs: <State.ENABLED: 2>\n",
      "atptg: <State.ENABLED: 2>\n",
      "ataos not in <State.ENABLED: 2>: <State.FAULT: 3>\n",
      "atpneumatics: <State.ENABLED: 2>\n",
      "athexapod: <State.ENABLED: 2>\n",
      "RuntimeError, cancel_not_done.\n",
      "Failed to slew telescope to park position. Continuing...\n",
      "ataos state is <State.FAULT: 3>, expected <State.ENABLED: 2>\n",
      "Traceback (most recent call last):\n",
      "  File \"/home/saluser/repos/ts_standardscripts/python/lsst/ts/standardscripts/auxtel/attcs.py\", line 637, in shutdown\n",
      "    wait_dome=False)\n",
      "  File \"/home/saluser/repos/ts_standardscripts/python/lsst/ts/standardscripts/auxtel/attcs.py\", line 131, in point_azel\n",
      "    raise e\n",
      "  File \"/home/saluser/repos/ts_standardscripts/python/lsst/ts/standardscripts/auxtel/attcs.py\", line 128, in point_azel\n",
      "    slew_timeout=slew_timeout)\n",
      "  File \"/home/saluser/repos/ts_standardscripts/python/lsst/ts/standardscripts/auxtel/attcs.py\", line 840, in _slew_to\n",
      "    raise rte\n",
      "  File \"/home/saluser/repos/ts_standardscripts/python/lsst/ts/standardscripts/auxtel/attcs.py\", line 835, in _slew_to\n",
      "    ret_val = await res\n",
      "  File \"/opt/lsst/software/stack/python/miniconda3-4.7.10/envs/lsst-scipipe-4d7b902/lib/python3.7/asyncio/tasks.py\", line 533, in _wait_for_one\n",
      "    return f.result()  # May raise f.exception().\n",
      "  File \"/home/saluser/repos/ts_standardscripts/python/lsst/ts/standardscripts/base_group.py\", line 98, in check_component_state\n",
      "    raise RuntimeError(f\"{comp} state is {state!r}, \"\n",
      "RuntimeError: ataos state is <State.FAULT: 3>, expected <State.ENABLED: 2>\n",
      "Cover state <MirrorCoverState.OPENED: 7>\n",
      "Closing M1 cover.\n",
      "Cover state <MirrorCoverState.INMOTION: 8>\n",
      "Cover state <MirrorCoverState.CLOSED: 6>\n",
      "Close dome.\n",
      "atdome: <State.ENABLED: 2>\n",
      "Got: private_revCode: f1592f29, private_sndStamp: 1582340072.203571, private_rcvStamp: 1582340072.2048056, private_seqNum: 33, private_origin: 46, private_host: -1947882776, inPosition: False, priority: 0\n",
      "ATDome shutter not in position.\n",
      "Got: private_revCode: f1592f29, private_sndStamp: 1582340302.943444, private_rcvStamp: 1582340302.9447951, private_seqNum: 34, private_origin: 46, private_host: -1947882776, inPosition: True, priority: 0\n",
      "ATDome shutter in position.\n",
      "Slew dome to Park position.\n",
      "atdometrajectory: <State.DISABLED: 1>\n",
      "[Dome] delta Az = -014.450\n",
      "[Dome] delta Az = -014.340\n",
      "[Dome] delta Az = -013.980\n",
      "[Dome] delta Az = -013.400\n",
      "[Dome] delta Az = -012.580\n",
      "[Dome] delta Az = -011.540\n",
      "[Dome] delta Az = -010.260\n",
      "[Dome] delta Az = -008.760\n",
      "[Dome] delta Az = -007.020\n",
      "[Dome] delta Az = -005.050\n",
      "ATDome in position.\n",
      "Put all CSCs in standby\n",
      "Unable to put atmcs in STANDBY\n",
      "Error on cmd=cmd_disable, initial_state=2: msg='Command failed', ackcmd=(ackcmd private_seqNum=174620968, ack=<SalRetCode.CMD_NOPERM: -300>, error=0, result='ERROR: Command disable rejected while in TrackingEnabledState state.')\n",
      "NoneType: None\n",
      "[atptg]::[<State.ENABLED: 2>, <State.DISABLED: 1>, <State.STANDBY: 5>]\n",
      "[ataos]::[<State.FAULT: 3>, <State.STANDBY: 5>]\n",
      "[atpneumatics]::[<State.ENABLED: 2>, <State.DISABLED: 1>, <State.STANDBY: 5>]\n",
      "[athexapod]::[<State.ENABLED: 2>, <State.DISABLED: 1>, <State.STANDBY: 5>]\n",
      "[atdome]::[<State.ENABLED: 2>, <State.DISABLED: 1>, <State.STANDBY: 5>]\n",
      "[atdometrajectory]::[<State.DISABLED: 1>, <State.STANDBY: 5>]\n"
     ]
    },
    {
     "ename": "RuntimeError",
     "evalue": "Unable to put atmcs in STANDBY\n",
     "output_type": "error",
     "traceback": [
      "\u001b[0;31m\u001b[0m",
      "\u001b[0;31mRuntimeError\u001b[0mTraceback (most recent call last)",
      "\u001b[0;32m<ipython-input-165-31b1abf8a67f>\u001b[0m in \u001b[0;36masync-def-wrapper\u001b[0;34m()\u001b[0m\n",
      "\u001b[0;32m~/repos/ts_standardscripts/python/lsst/ts/standardscripts/auxtel/attcs.py\u001b[0m in \u001b[0;36mshutdown\u001b[0;34m(self)\u001b[0m\n\u001b[1;32m    654\u001b[0m         \u001b[0mself\u001b[0m\u001b[0;34m.\u001b[0m\u001b[0mlog\u001b[0m\u001b[0;34m.\u001b[0m\u001b[0minfo\u001b[0m\u001b[0;34m(\u001b[0m\u001b[0;34m\"Put all CSCs in standby\"\u001b[0m\u001b[0;34m)\u001b[0m\u001b[0;34m\u001b[0m\u001b[0;34m\u001b[0m\u001b[0m\n\u001b[1;32m    655\u001b[0m \u001b[0;34m\u001b[0m\u001b[0m\n\u001b[0;32m--> 656\u001b[0;31m         \u001b[0;32mawait\u001b[0m \u001b[0mself\u001b[0m\u001b[0;34m.\u001b[0m\u001b[0mstandby\u001b[0m\u001b[0;34m(\u001b[0m\u001b[0;34m)\u001b[0m\u001b[0;34m\u001b[0m\u001b[0;34m\u001b[0m\u001b[0m\n\u001b[0m\u001b[1;32m    657\u001b[0m \u001b[0;34m\u001b[0m\u001b[0m\n\u001b[1;32m    658\u001b[0m     \u001b[0;32masync\u001b[0m \u001b[0;32mdef\u001b[0m \u001b[0mopen_dome_shutter\u001b[0m\u001b[0;34m(\u001b[0m\u001b[0mself\u001b[0m\u001b[0;34m)\u001b[0m\u001b[0;34m:\u001b[0m\u001b[0;34m\u001b[0m\u001b[0;34m\u001b[0m\u001b[0m\n",
      "\u001b[0;32m~/repos/ts_standardscripts/python/lsst/ts/standardscripts/base_group.py\u001b[0m in \u001b[0;36mstandby\u001b[0;34m(self)\u001b[0m\n\u001b[1;32m    146\u001b[0m \u001b[0;34m\u001b[0m\u001b[0m\n\u001b[1;32m    147\u001b[0m         \u001b[0;32mif\u001b[0m \u001b[0merror_flag\u001b[0m\u001b[0;34m:\u001b[0m\u001b[0;34m\u001b[0m\u001b[0;34m\u001b[0m\u001b[0m\n\u001b[0;32m--> 148\u001b[0;31m             \u001b[0;32mraise\u001b[0m \u001b[0mRuntimeError\u001b[0m\u001b[0;34m(\u001b[0m\u001b[0merror_msg\u001b[0m\u001b[0;34m)\u001b[0m\u001b[0;34m\u001b[0m\u001b[0;34m\u001b[0m\u001b[0m\n\u001b[0m\u001b[1;32m    149\u001b[0m         \u001b[0;32melse\u001b[0m\u001b[0;34m:\u001b[0m\u001b[0;34m\u001b[0m\u001b[0;34m\u001b[0m\u001b[0m\n\u001b[1;32m    150\u001b[0m             \u001b[0mself\u001b[0m\u001b[0;34m.\u001b[0m\u001b[0mlog\u001b[0m\u001b[0;34m.\u001b[0m\u001b[0minfo\u001b[0m\u001b[0;34m(\u001b[0m\u001b[0;34m\"All components in standby.\"\u001b[0m\u001b[0;34m)\u001b[0m\u001b[0;34m\u001b[0m\u001b[0;34m\u001b[0m\u001b[0m\n",
      "\u001b[0;31mRuntimeError\u001b[0m: Unable to put atmcs in STANDBY\n"
     ]
    }
   ],
   "source": [
    "await attcs.shutdown() "
   ]
  },
  {
   "cell_type": "code",
   "execution_count": 170,
   "metadata": {},
   "outputs": [
    {
     "name": "stdout",
     "output_type": "stream",
     "text": [
      "Disabling ATAOS corrections\n",
      "Disable ATDomeTrajectory\n",
      "Slew telescope to Park position.\n",
      "Sending command\n",
      "Stop tracking.\n",
      "Mount tracking state is 8\n",
      "In Position: False.\n",
      "Scheduling check coroutines\n",
      "process as completed...\n",
      "Got False\n",
      "Telescope not in position\n",
      "atmcs: <State.ENABLED: 2>\n",
      "atptg: <State.ENABLED: 2>\n",
      "ataos: <State.ENABLED: 2>\n",
      "atpneumatics: <State.ENABLED: 2>\n",
      "athexapod: <State.ENABLED: 2>\n",
      "[Telescope] delta Alt = -000.000 | delta Az= +000.001\n",
      "Axes in position.\n",
      "None\n",
      "Stop tracking.\n",
      "Mount tracking state is 9\n",
      "Tracking state: 10.\n",
      "Tracking state: 8.\n",
      "In Position: False.\n",
      "Cover state <MirrorCoverState.OPENED: 7>\n",
      "Closing M1 cover.\n",
      "Cover state <MirrorCoverState.INMOTION: 8>\n",
      "Cover state <MirrorCoverState.CLOSED: 6>\n",
      "Close dome.\n",
      "atdome: <State.ENABLED: 2>\n",
      "Got: private_revCode: f1592f29, private_sndStamp: 1582341467.7394876, private_rcvStamp: 1582341467.7409909, private_seqNum: 37, private_origin: 46, private_host: -1947882776, inPosition: False, priority: 0\n",
      "ATDome shutter not in position.\n",
      "Got: private_revCode: f1592f29, private_sndStamp: 1582341699.0088406, private_rcvStamp: 1582341699.0100849, private_seqNum: 38, private_origin: 46, private_host: -1947882776, inPosition: True, priority: 0\n",
      "ATDome shutter in position.\n",
      "Slew dome to Park position.\n",
      "atdometrajectory: <State.DISABLED: 1>\n",
      "[Dome] delta Az = -168.050\n",
      "[Dome] delta Az = -167.940\n",
      "[Dome] delta Az = -167.590\n",
      "[Dome] delta Az = -167.010\n",
      "[Dome] delta Az = -166.200\n",
      "[Dome] delta Az = -165.150\n",
      "[Dome] delta Az = -163.870\n",
      "[Dome] delta Az = -162.360\n",
      "[Dome] delta Az = -160.610\n",
      "[Dome] delta Az = -158.640\n",
      "[Dome] delta Az = -156.440\n",
      "[Dome] delta Az = -154.000\n",
      "[Dome] delta Az = -151.370\n",
      "[Dome] delta Az = -148.480\n",
      "[Dome] delta Az = -145.390\n",
      "[Dome] delta Az = -142.050\n",
      "[Dome] delta Az = -138.620\n",
      "[Dome] delta Az = -135.170\n",
      "[Dome] delta Az = -131.720\n",
      "[Dome] delta Az = -128.290\n",
      "[Dome] delta Az = -124.840\n",
      "[Dome] delta Az = -121.390\n",
      "[Dome] delta Az = -117.950\n",
      "[Dome] delta Az = -114.550\n",
      "[Dome] delta Az = -111.110\n",
      "[Dome] delta Az = -107.650\n",
      "[Dome] delta Az = -104.200\n",
      "[Dome] delta Az = -100.780\n",
      "[Dome] delta Az = -097.290\n",
      "[Dome] delta Az = -093.850\n",
      "[Dome] delta Az = -090.400\n",
      "[Dome] delta Az = -086.960\n",
      "[Dome] delta Az = -083.510\n",
      "[Dome] delta Az = -080.060\n",
      "[Dome] delta Az = -076.640\n",
      "[Dome] delta Az = -073.180\n",
      "[Dome] delta Az = -069.740\n",
      "[Dome] delta Az = -066.300\n",
      "[Dome] delta Az = -062.860\n",
      "[Dome] delta Az = -058.710\n",
      "[Dome] delta Az = -055.250\n",
      "[Dome] delta Az = -051.820\n",
      "[Dome] delta Az = -048.380\n",
      "[Dome] delta Az = -044.940\n",
      "[Dome] delta Az = -041.510\n",
      "[Dome] delta Az = -038.060\n",
      "[Dome] delta Az = -034.630\n",
      "[Dome] delta Az = -031.190\n",
      "[Dome] delta Az = -027.780\n",
      "[Dome] delta Az = -024.340\n",
      "[Dome] delta Az = -020.890\n",
      "[Dome] delta Az = -017.460\n",
      "[Dome] delta Az = -014.010\n",
      "[Dome] delta Az = -010.580\n",
      "[Dome] delta Az = -007.140\n",
      "[Dome] delta Az = -003.730\n",
      "ATDome in position.\n",
      "Put all CSCs in standby\n",
      "[atmcs]::[<State.ENABLED: 2>, <State.DISABLED: 1>, <State.STANDBY: 5>]\n",
      "[atptg]::[<State.ENABLED: 2>, <State.DISABLED: 1>, <State.STANDBY: 5>]\n",
      "[ataos]::[<State.ENABLED: 2>, <State.DISABLED: 1>, <State.STANDBY: 5>]\n",
      "[atpneumatics]::[<State.ENABLED: 2>, <State.DISABLED: 1>, <State.STANDBY: 5>]\n",
      "[athexapod]::[<State.ENABLED: 2>, <State.DISABLED: 1>, <State.STANDBY: 5>]\n",
      "[atdome]::[<State.ENABLED: 2>, <State.DISABLED: 1>, <State.STANDBY: 5>]\n",
      "[atdometrajectory]::[<State.DISABLED: 1>, <State.STANDBY: 5>]\n",
      "All components in standby.\n"
     ]
    }
   ],
   "source": [
    "await attcs.shutdown() "
   ]
  },
  {
   "cell_type": "code",
   "execution_count": 166,
   "metadata": {},
   "outputs": [
    {
     "data": {
      "text/plain": [
       "<lsst.ts.salobj.ddsutil.ATMCS_ackcmd_f0f9ad9d at 0x7f8c2dd58b00>"
      ]
     },
     "execution_count": 166,
     "metadata": {},
     "output_type": "execute_result"
    }
   ],
   "source": [
    "await attcs.atmcs.cmd_disable.start(timeout=5)"
   ]
  },
  {
   "cell_type": "code",
   "execution_count": 168,
   "metadata": {},
   "outputs": [
    {
     "name": "stdout",
     "output_type": "stream",
     "text": [
      "Gathering settings.\n",
      "No settings for atmcs.\n",
      "Using                                                                                                                                 from settingVersions event.\n",
      "No settings for atptg.\n",
      "Couldn't get settingVersions event. Using empty settings.\n",
      "No settings for ataos.\n",
      "Using current from settingVersions event.\n",
      "No settings for atpneumatics.\n",
      "Using                                                                                                                                 from settingVersions event.\n",
      "No settings for athexapod.\n",
      "Using current from settingVersions event.\n",
      "No settings for atdome.\n",
      "Using test from settingVersions event.\n",
      "No settings for atdometrajectory.\n",
      "Using  from settingVersions event.\n",
      "Settings versions: {'atmcs': '                                                                                                                               ', 'atptg': '', 'ataos': 'current', 'atpneumatics': '                                                                                                                               ', 'athexapod': 'current', 'atdome': 'test', 'atdometrajectory': ''}\n",
      "Enabling all components\n",
      "Enabling  atmcs\n",
      "Enabling  atptg\n",
      "Enabling  ataos\n",
      "Enabling  atpneumatics\n",
      "Enabling  athexapod\n",
      "Enabling  atdome\n",
      "Enabling  atdometrajectory\n",
      "[atmcs]::[<State.DISABLED: 1>, <State.ENABLED: 2>]\n",
      "[atptg]::[<State.STANDBY: 5>, <State.DISABLED: 1>, <State.ENABLED: 2>]\n",
      "[ataos]::[<State.STANDBY: 5>, <State.DISABLED: 1>, <State.ENABLED: 2>]\n",
      "[atpneumatics]::[<State.STANDBY: 5>, <State.DISABLED: 1>, <State.ENABLED: 2>]\n",
      "[athexapod]::[<State.STANDBY: 5>, <State.DISABLED: 1>, <State.ENABLED: 2>]\n",
      "[atdome]::[<State.STANDBY: 5>, <State.DISABLED: 1>, <State.ENABLED: 2>]\n",
      "[atdometrajectory]::[<State.STANDBY: 5>, <State.DISABLED: 1>, <State.ENABLED: 2>]\n",
      "All components enabled.\n"
     ]
    }
   ],
   "source": [
    "await attcs.enable() "
   ]
  },
  {
   "cell_type": "code",
   "execution_count": 169,
   "metadata": {},
   "outputs": [
    {
     "name": "stdout",
     "output_type": "stream",
     "text": [
      "Gathering settings.\n",
      "No settings for atmcs.\n",
      "Using                                                                                                                                 from settingVersions event.\n",
      "No settings for atptg.\n",
      "Couldn't get settingVersions event. Using empty settings.\n",
      "No settings for ataos.\n",
      "Using current from settingVersions event.\n",
      "No settings for atpneumatics.\n",
      "Using                                                                                                                                 from settingVersions event.\n",
      "No settings for athexapod.\n",
      "Using current from settingVersions event.\n",
      "No settings for atdome.\n",
      "Using test from settingVersions event.\n",
      "No settings for atdometrajectory.\n",
      "Using  from settingVersions event.\n",
      "Settings versions: {'atmcs': '                                                                                                                               ', 'atptg': '', 'ataos': 'current', 'atpneumatics': '                                                                                                                               ', 'athexapod': 'current', 'atdome': 'test', 'atdometrajectory': ''}\n",
      "Enabling all components\n",
      "Enabling  atmcs\n",
      "Enabling  atptg\n",
      "Enabling  ataos\n",
      "Enabling  atpneumatics\n",
      "Enabling  athexapod\n",
      "Enabling  atdome\n",
      "Enabling  atdometrajectory\n",
      "[atmcs]::[<State.ENABLED: 2>]\n",
      "[atptg]::[<State.ENABLED: 2>]\n",
      "[ataos]::[<State.ENABLED: 2>]\n",
      "[atpneumatics]::[<State.ENABLED: 2>]\n",
      "[athexapod]::[<State.ENABLED: 2>]\n",
      "[atdome]::[<State.ENABLED: 2>]\n",
      "[atdometrajectory]::[<State.ENABLED: 2>]\n",
      "All components enabled.\n",
      "Slew telescope to park position.\n",
      "Sending command\n",
      "Stop tracking.\n",
      "Mount tracking state is 10\n",
      "Tracking state: 9.\n",
      "Tracking state: 10.\n",
      "Tracking state: 8.\n",
      "In Position: False.\n",
      "Scheduling check coroutines\n",
      "process as completed...\n",
      "Got False\n",
      "Telescope not in position\n",
      "atmcs: <State.ENABLED: 2>\n",
      "atptg: <State.ENABLED: 2>\n",
      "ataos: <State.ENABLED: 2>\n",
      "atpneumatics: <State.ENABLED: 2>\n",
      "athexapod: <State.ENABLED: 2>\n",
      "[Telescope] delta Alt = -000.000 | delta Az= +000.000\n",
      "Axes in position.\n",
      "None\n",
      "Stop tracking.\n",
      "Mount tracking state is 9\n",
      "Tracking state: 10.\n",
      "Tracking state: 8.\n",
      "In Position: False.\n",
      "Cover state <MirrorCoverState.CLOSED: 6>\n",
      "M1 cover already closed.\n",
      "Homing dome azimuth.\n",
      "Dome azimuth still homing.\n",
      "Dome azimuth still homing.\n",
      "Moving dome to 90 degrees.\n",
      "atdometrajectory: <State.DISABLED: 1>\n",
      "[Dome] delta Az = +090.060\n",
      "[Dome] delta Az = +090.180\n",
      "[Dome] delta Az = +089.910\n",
      "[Dome] delta Az = +089.400\n",
      "[Dome] delta Az = +088.680\n",
      "[Dome] delta Az = +087.710\n",
      "[Dome] delta Az = +086.510\n",
      "[Dome] delta Az = +085.080\n",
      "[Dome] delta Az = +083.420\n",
      "[Dome] delta Az = +081.540\n",
      "[Dome] delta Az = +079.430\n",
      "[Dome] delta Az = +077.080\n",
      "[Dome] delta Az = +074.500\n",
      "[Dome] delta Az = +071.710\n",
      "[Dome] delta Az = +068.660\n",
      "[Dome] delta Az = +065.410\n",
      "[Dome] delta Az = +062.000\n",
      "[Dome] delta Az = +058.560\n",
      "[Dome] delta Az = +055.110\n",
      "[Dome] delta Az = +051.670\n",
      "[Dome] delta Az = +048.210\n",
      "[Dome] delta Az = +044.760\n",
      "[Dome] delta Az = +041.360\n",
      "[Dome] delta Az = +037.930\n",
      "[Dome] delta Az = +034.480\n",
      "[Dome] delta Az = +031.030\n",
      "[Dome] delta Az = +026.900\n",
      "[Dome] delta Az = +023.460\n",
      "[Dome] delta Az = +020.040\n",
      "[Dome] delta Az = +016.600\n",
      "[Dome] delta Az = +013.160\n",
      "[Dome] delta Az = +009.730\n",
      "[Dome] delta Az = +006.290\n",
      "[Dome] delta Az = +002.900\n",
      "ATDome in position.\n",
      "Check that dome CSC can communicate with shutter control box.\n",
      "Opening dome.\n",
      "atdome: <State.ENABLED: 2>\n",
      "Got: private_revCode: f1592f29, private_sndStamp: 1582340923.5191379, private_rcvStamp: 1582340923.5204449, private_seqNum: 35, private_origin: 46, private_host: -1947882776, inPosition: False, priority: 0\n",
      "ATDome shutter not in position.\n",
      "Got: private_revCode: f1592f29, private_sndStamp: 1582341152.321966, private_rcvStamp: 1582341152.3231764, private_seqNum: 36, private_origin: 46, private_host: -1947882776, inPosition: True, priority: 0\n",
      "ATDome shutter in position.\n",
      "Open telescope cover.\n",
      "Cover state <MirrorCoverState.CLOSED: 6>\n",
      "Opening M1 cover.\n",
      "Cover state <MirrorCoverState.DISABLED: 1>\n",
      "Cover state <MirrorCoverState.STANDBY: 5>\n",
      "Cover state <MirrorCoverState.DISABLED: 1>\n",
      "Cover state <MirrorCoverState.CLOSED: 6>\n",
      "Cover state <MirrorCoverState.INMOTION: 8>\n",
      "Cover state <MirrorCoverState.OPENED: 7>\n",
      "Gathering settings.\n",
      "No settings for atmcs.\n",
      "Using                                                                                                                                 from settingVersions event.\n",
      "No settings for atptg.\n",
      "Couldn't get settingVersions event. Using empty settings.\n",
      "No settings for ataos.\n",
      "Using current from settingVersions event.\n",
      "No settings for atpneumatics.\n",
      "Using                                                                                                                                 from settingVersions event.\n",
      "No settings for athexapod.\n",
      "Using current from settingVersions event.\n",
      "No settings for atdome.\n",
      "Using test from settingVersions event.\n",
      "No settings for atdometrajectory.\n",
      "Using  from settingVersions event.\n",
      "Settings versions: {'atmcs': '                                                                                                                               ', 'atptg': '', 'ataos': 'current', 'atpneumatics': '                                                                                                                               ', 'athexapod': 'current', 'atdome': 'test', 'atdometrajectory': ''}\n",
      "Enabling all components\n",
      "Enabling  atmcs\n",
      "Enabling  atptg\n",
      "Enabling  ataos\n",
      "Enabling  atpneumatics\n",
      "Enabling  athexapod\n",
      "Enabling  atdome\n",
      "Enabling  atdometrajectory\n",
      "[atmcs]::[<State.ENABLED: 2>]\n",
      "[atptg]::[<State.ENABLED: 2>]\n",
      "[ataos]::[<State.ENABLED: 2>]\n",
      "[atpneumatics]::[<State.ENABLED: 2>]\n",
      "[athexapod]::[<State.ENABLED: 2>]\n",
      "[atdome]::[<State.ENABLED: 2>]\n",
      "[atdometrajectory]::[<State.DISABLED: 1>, <State.ENABLED: 2>]\n",
      "All components enabled.\n",
      "Enable ATAOS corrections.\n"
     ]
    },
    {
     "ename": "AckError",
     "evalue": "msg='Command failed', ackcmd=(ackcmd private_seqNum=871407318, ack=<SalRetCode.CMD_FAILED: -302>, error=1, result=\"Failed: msg='Command failed', ackcmd=(ackcmd private_seqNum=1046200153, ack=<SalRetCode.CMD_NOPERM: -300>, error=0, result='ERROR: Command m1SetPressure rejected while in EnabledState state.')\")",
     "output_type": "error",
     "traceback": [
      "\u001b[0;31m\u001b[0m",
      "\u001b[0;31mAckError\u001b[0mTraceback (most recent call last)",
      "\u001b[0;32m<ipython-input-169-167bd5675ac1>\u001b[0m in \u001b[0;36masync-def-wrapper\u001b[0;34m()\u001b[0m\n",
      "\u001b[0;32m~/repos/ts_standardscripts/python/lsst/ts/standardscripts/auxtel/attcs.py\u001b[0m in \u001b[0;36mstartup\u001b[0;34m(self, settings)\u001b[0m\n\u001b[1;32m    603\u001b[0m \u001b[0;34m\u001b[0m\u001b[0m\n\u001b[1;32m    604\u001b[0m             await self.ataos.cmd_enableCorrection.set_start(m1=True,\n\u001b[0;32m--> 605\u001b[0;31m                                                             timeout=self.long_timeout)\n\u001b[0m\u001b[1;32m    606\u001b[0m \u001b[0;34m\u001b[0m\u001b[0m\n\u001b[1;32m    607\u001b[0m     \u001b[0;32masync\u001b[0m \u001b[0;32mdef\u001b[0m \u001b[0mshutdown\u001b[0m\u001b[0;34m(\u001b[0m\u001b[0mself\u001b[0m\u001b[0;34m)\u001b[0m\u001b[0;34m:\u001b[0m\u001b[0;34m\u001b[0m\u001b[0;34m\u001b[0m\u001b[0m\n",
      "\u001b[0;32m~/repos/ts_salobj/python/lsst/ts/salobj/topics/remote_command.py\u001b[0m in \u001b[0;36mset_start\u001b[0;34m(self, timeout, wait_done, **kwargs)\u001b[0m\n\u001b[1;32m    317\u001b[0m         \"\"\"\n\u001b[1;32m    318\u001b[0m         \u001b[0mself\u001b[0m\u001b[0;34m.\u001b[0m\u001b[0mset\u001b[0m\u001b[0;34m(\u001b[0m\u001b[0;34m**\u001b[0m\u001b[0mkwargs\u001b[0m\u001b[0;34m)\u001b[0m\u001b[0;34m\u001b[0m\u001b[0;34m\u001b[0m\u001b[0m\n\u001b[0;32m--> 319\u001b[0;31m         \u001b[0;32mreturn\u001b[0m \u001b[0;32mawait\u001b[0m \u001b[0mself\u001b[0m\u001b[0;34m.\u001b[0m\u001b[0mstart\u001b[0m\u001b[0;34m(\u001b[0m\u001b[0mtimeout\u001b[0m\u001b[0;34m=\u001b[0m\u001b[0mtimeout\u001b[0m\u001b[0;34m,\u001b[0m \u001b[0mwait_done\u001b[0m\u001b[0;34m=\u001b[0m\u001b[0mwait_done\u001b[0m\u001b[0;34m)\u001b[0m\u001b[0;34m\u001b[0m\u001b[0;34m\u001b[0m\u001b[0m\n\u001b[0m\u001b[1;32m    320\u001b[0m \u001b[0;34m\u001b[0m\u001b[0m\n\u001b[1;32m    321\u001b[0m     \u001b[0;32masync\u001b[0m \u001b[0;32mdef\u001b[0m \u001b[0mstart\u001b[0m\u001b[0;34m(\u001b[0m\u001b[0mself\u001b[0m\u001b[0;34m,\u001b[0m \u001b[0mdata\u001b[0m\u001b[0;34m=\u001b[0m\u001b[0;32mNone\u001b[0m\u001b[0;34m,\u001b[0m \u001b[0mtimeout\u001b[0m\u001b[0;34m=\u001b[0m\u001b[0mDEFAULT_TIMEOUT\u001b[0m\u001b[0;34m,\u001b[0m \u001b[0mwait_done\u001b[0m\u001b[0;34m=\u001b[0m\u001b[0;32mTrue\u001b[0m\u001b[0;34m)\u001b[0m\u001b[0;34m:\u001b[0m\u001b[0;34m\u001b[0m\u001b[0;34m\u001b[0m\u001b[0m\n",
      "\u001b[0;32m~/repos/ts_salobj/python/lsst/ts/salobj/topics/remote_command.py\u001b[0m in \u001b[0;36mstart\u001b[0;34m(self, data, timeout, wait_done)\u001b[0m\n\u001b[1;32m    360\u001b[0m         \u001b[0mcmd_info\u001b[0m \u001b[0;34m=\u001b[0m \u001b[0m_CommandInfo\u001b[0m\u001b[0;34m(\u001b[0m\u001b[0mremote_command\u001b[0m\u001b[0;34m=\u001b[0m\u001b[0mself\u001b[0m\u001b[0;34m,\u001b[0m \u001b[0mseq_num\u001b[0m\u001b[0;34m=\u001b[0m\u001b[0mseq_num\u001b[0m\u001b[0;34m,\u001b[0m \u001b[0mwait_done\u001b[0m\u001b[0;34m=\u001b[0m\u001b[0mwait_done\u001b[0m\u001b[0;34m)\u001b[0m\u001b[0;34m\u001b[0m\u001b[0;34m\u001b[0m\u001b[0m\n\u001b[1;32m    361\u001b[0m         \u001b[0mself\u001b[0m\u001b[0;34m.\u001b[0m\u001b[0msalinfo\u001b[0m\u001b[0;34m.\u001b[0m\u001b[0m_running_cmds\u001b[0m\u001b[0;34m[\u001b[0m\u001b[0mseq_num\u001b[0m\u001b[0;34m]\u001b[0m \u001b[0;34m=\u001b[0m \u001b[0mcmd_info\u001b[0m\u001b[0;34m\u001b[0m\u001b[0;34m\u001b[0m\u001b[0m\n\u001b[0;32m--> 362\u001b[0;31m         \u001b[0;32mreturn\u001b[0m \u001b[0;32mawait\u001b[0m \u001b[0mcmd_info\u001b[0m\u001b[0;34m.\u001b[0m\u001b[0mnext_ackcmd\u001b[0m\u001b[0;34m(\u001b[0m\u001b[0mtimeout\u001b[0m\u001b[0;34m=\u001b[0m\u001b[0mtimeout\u001b[0m\u001b[0;34m)\u001b[0m\u001b[0;34m\u001b[0m\u001b[0;34m\u001b[0m\u001b[0m\n\u001b[0m",
      "\u001b[0;32m~/repos/ts_salobj/python/lsst/ts/salobj/topics/remote_command.py\u001b[0m in \u001b[0;36mnext_ackcmd\u001b[0;34m(self, timeout)\u001b[0m\n\u001b[1;32m    163\u001b[0m             \u001b[0;31m# print(f\"next_ackcmd got {ackcmd.ack} from _basic_next_ack\")\u001b[0m\u001b[0;34m\u001b[0m\u001b[0;34m\u001b[0m\u001b[0;34m\u001b[0m\u001b[0m\n\u001b[1;32m    164\u001b[0m             \u001b[0;32mif\u001b[0m \u001b[0mackcmd\u001b[0m\u001b[0;34m.\u001b[0m\u001b[0mack\u001b[0m \u001b[0;32min\u001b[0m \u001b[0mself\u001b[0m\u001b[0;34m.\u001b[0m\u001b[0mfailed_ack_codes\u001b[0m\u001b[0;34m:\u001b[0m\u001b[0;34m\u001b[0m\u001b[0;34m\u001b[0m\u001b[0m\n\u001b[0;32m--> 165\u001b[0;31m                 \u001b[0;32mraise\u001b[0m \u001b[0mbase\u001b[0m\u001b[0;34m.\u001b[0m\u001b[0mAckError\u001b[0m\u001b[0;34m(\u001b[0m\u001b[0mmsg\u001b[0m\u001b[0;34m=\u001b[0m\u001b[0;34m\"Command failed\"\u001b[0m\u001b[0;34m,\u001b[0m \u001b[0mackcmd\u001b[0m\u001b[0;34m=\u001b[0m\u001b[0mackcmd\u001b[0m\u001b[0;34m)\u001b[0m\u001b[0;34m\u001b[0m\u001b[0;34m\u001b[0m\u001b[0m\n\u001b[0m\u001b[1;32m    166\u001b[0m             \u001b[0;32mreturn\u001b[0m \u001b[0mackcmd\u001b[0m\u001b[0;34m\u001b[0m\u001b[0;34m\u001b[0m\u001b[0m\n\u001b[1;32m    167\u001b[0m         \u001b[0;32mexcept\u001b[0m \u001b[0masyncio\u001b[0m\u001b[0;34m.\u001b[0m\u001b[0mTimeoutError\u001b[0m\u001b[0;34m:\u001b[0m\u001b[0;34m\u001b[0m\u001b[0;34m\u001b[0m\u001b[0m\n",
      "\u001b[0;31mAckError\u001b[0m: msg='Command failed', ackcmd=(ackcmd private_seqNum=871407318, ack=<SalRetCode.CMD_FAILED: -302>, error=1, result=\"Failed: msg='Command failed', ackcmd=(ackcmd private_seqNum=1046200153, ack=<SalRetCode.CMD_NOPERM: -300>, error=0, result='ERROR: Command m1SetPressure rejected while in EnabledState state.')\")"
     ]
    }
   ],
   "source": [
    "await attcs.startup()"
   ]
  },
  {
   "cell_type": "code",
   "execution_count": null,
   "metadata": {},
   "outputs": [],
   "source": [
    "await attcs.shutdown() "
   ]
  },
  {
   "cell_type": "code",
   "execution_count": 171,
   "metadata": {},
   "outputs": [
    {
     "name": "stdout",
     "output_type": "stream",
     "text": [
      "Gathering settings.\n",
      "No settings for atmcs.\n",
      "Using                                                                                                                                 from settingVersions event.\n",
      "No settings for atptg.\n",
      "Couldn't get settingVersions event. Using empty settings.\n",
      "No settings for ataos.\n",
      "Using current from settingVersions event.\n",
      "No settings for atpneumatics.\n",
      "Using                                                                                                                                 from settingVersions event.\n",
      "No settings for athexapod.\n",
      "Using current from settingVersions event.\n",
      "No settings for atdome.\n",
      "Using test from settingVersions event.\n",
      "No settings for atdometrajectory.\n",
      "Using  from settingVersions event.\n",
      "Settings versions: {'atmcs': '                                                                                                                               ', 'atptg': '', 'ataos': 'current', 'atpneumatics': '                                                                                                                               ', 'athexapod': 'current', 'atdome': 'test', 'atdometrajectory': ''}\n",
      "Enabling all components\n",
      "Enabling  atmcs\n",
      "Enabling  atptg\n",
      "Enabling  ataos\n",
      "Enabling  atpneumatics\n",
      "Enabling  athexapod\n",
      "Enabling  atdome\n",
      "Enabling  atdometrajectory\n",
      "[atmcs]::[<State.STANDBY: 5>, <State.DISABLED: 1>, <State.ENABLED: 2>]\n",
      "[atptg]::[<State.STANDBY: 5>, <State.DISABLED: 1>, <State.ENABLED: 2>]\n",
      "[ataos]::[<State.STANDBY: 5>, <State.DISABLED: 1>, <State.ENABLED: 2>]\n",
      "[atpneumatics]::[<State.STANDBY: 5>, <State.DISABLED: 1>, <State.ENABLED: 2>]\n",
      "[athexapod]::[<State.STANDBY: 5>, <State.DISABLED: 1>, <State.ENABLED: 2>]\n",
      "[atdome]::[<State.STANDBY: 5>, <State.DISABLED: 1>, <State.ENABLED: 2>]\n",
      "[atdometrajectory]::[<State.STANDBY: 5>, <State.DISABLED: 1>, <State.ENABLED: 2>]\n",
      "All components enabled.\n",
      "Slew telescope to park position.\n",
      "Sending command\n",
      "Stop tracking.\n",
      "Mount tracking state is 10\n",
      "Tracking state: 6.\n",
      "Tracking state: 5.\n",
      "Tracking state: 6.\n",
      "Tracking state: 10.\n",
      "Scheduling check coroutines\n",
      "process as completed...\n",
      "Got False\n",
      "Telescope not in position\n",
      "atmcs: <State.ENABLED: 2>\n",
      "atptg: <State.ENABLED: 2>\n",
      "ataos: <State.ENABLED: 2>\n",
      "atpneumatics: <State.ENABLED: 2>\n",
      "athexapod: <State.ENABLED: 2>\n",
      "[Telescope] delta Alt = -000.000 | delta Az= +000.001\n",
      "Axes in position.\n",
      "None\n",
      "Stop tracking.\n",
      "Mount tracking state is 9\n",
      "Tracking state: 10.\n",
      "Tracking state: 8.\n",
      "In Position: False.\n",
      "Cover state <MirrorCoverState.CLOSED: 6>\n",
      "M1 cover already closed.\n",
      "Homing dome azimuth.\n",
      "Dome azimuth still homing.\n",
      "Dome azimuth still homing.\n",
      "Moving dome to 90 degrees.\n",
      "atdometrajectory: <State.DISABLED: 1>\n",
      "[Dome] delta Az = +090.040\n",
      "[Dome] delta Az = +090.200\n",
      "[Dome] delta Az = +090.000\n",
      "[Dome] delta Az = +089.550\n",
      "[Dome] delta Az = +088.870\n",
      "[Dome] delta Az = +087.970\n",
      "[Dome] delta Az = +086.830\n",
      "[Dome] delta Az = +085.460\n",
      "[Dome] delta Az = +083.860\n",
      "[Dome] delta Az = +082.030\n",
      "[Dome] delta Az = +079.960\n",
      "[Dome] delta Az = +077.670\n",
      "[Dome] delta Az = +075.150\n",
      "[Dome] delta Az = +072.420\n",
      "[Dome] delta Az = +069.440\n",
      "[Dome] delta Az = +066.260\n",
      "[Dome] delta Az = +062.840\n",
      "[Dome] delta Az = +059.400\n",
      "[Dome] delta Az = +055.960\n",
      "[Dome] delta Az = +052.510\n",
      "[Dome] delta Az = +049.070\n",
      "[Dome] delta Az = +045.640\n",
      "[Dome] delta Az = +042.190\n",
      "[Dome] delta Az = +038.760\n",
      "[Dome] delta Az = +035.350\n",
      "[Dome] delta Az = +031.900\n",
      "[Dome] delta Az = +028.470\n",
      "[Dome] delta Az = +025.040\n",
      "[Dome] delta Az = +021.610\n",
      "[Dome] delta Az = +018.160\n",
      "[Dome] delta Az = +014.710\n",
      "[Dome] delta Az = +011.270\n",
      "[Dome] delta Az = +007.850\n",
      "[Dome] delta Az = +004.400\n",
      "ATDome in position.\n",
      "Check that dome CSC can communicate with shutter control box.\n",
      "Opening dome.\n",
      "atdome: <State.ENABLED: 2>\n",
      "Got: private_revCode: f1592f29, private_sndStamp: 1582341982.5119805, private_rcvStamp: 1582341982.5131338, private_seqNum: 39, private_origin: 46, private_host: -1947882776, inPosition: False, priority: 0\n",
      "ATDome shutter not in position.\n",
      "Got: private_revCode: f1592f29, private_sndStamp: 1582342211.3316023, private_rcvStamp: 1582342211.3327892, private_seqNum: 40, private_origin: 46, private_host: -1947882776, inPosition: True, priority: 0\n",
      "ATDome shutter in position.\n",
      "Open telescope cover.\n",
      "Cover state <MirrorCoverState.CLOSED: 6>\n",
      "Opening M1 cover.\n",
      "Cover state <MirrorCoverState.DISABLED: 1>\n",
      "Cover state <MirrorCoverState.STANDBY: 5>\n",
      "Cover state <MirrorCoverState.DISABLED: 1>\n",
      "Cover state <MirrorCoverState.CLOSED: 6>\n",
      "Cover state <MirrorCoverState.INMOTION: 8>\n",
      "Cover state <MirrorCoverState.OPENED: 7>\n",
      "Gathering settings.\n",
      "No settings for atmcs.\n",
      "Using                                                                                                                                 from settingVersions event.\n",
      "No settings for atptg.\n",
      "Couldn't get settingVersions event. Using empty settings.\n",
      "No settings for ataos.\n",
      "Using current from settingVersions event.\n",
      "No settings for atpneumatics.\n",
      "Using                                                                                                                                 from settingVersions event.\n",
      "No settings for athexapod.\n",
      "Using current from settingVersions event.\n",
      "No settings for atdome.\n",
      "Using test from settingVersions event.\n",
      "No settings for atdometrajectory.\n",
      "Using  from settingVersions event.\n",
      "Settings versions: {'atmcs': '                                                                                                                               ', 'atptg': '', 'ataos': 'current', 'atpneumatics': '                                                                                                                               ', 'athexapod': 'current', 'atdome': 'test', 'atdometrajectory': ''}\n",
      "Enabling all components\n",
      "Enabling  atmcs\n",
      "Enabling  atptg\n",
      "Enabling  ataos\n",
      "Enabling  atpneumatics\n",
      "Enabling  athexapod\n",
      "Enabling  atdome\n",
      "Enabling  atdometrajectory\n",
      "[atmcs]::[<State.ENABLED: 2>]\n",
      "[atptg]::[<State.ENABLED: 2>]\n",
      "[ataos]::[<State.ENABLED: 2>]\n",
      "[atpneumatics]::[<State.ENABLED: 2>]\n",
      "[athexapod]::[<State.ENABLED: 2>]\n",
      "[atdome]::[<State.ENABLED: 2>]\n",
      "[atdometrajectory]::[<State.DISABLED: 1>, <State.ENABLED: 2>]\n",
      "All components enabled.\n",
      "Enable ATAOS corrections.\n"
     ]
    }
   ],
   "source": [
    "#We now got a clean shutdown.  Now a clean startup. \n",
    "await attcs.startup()"
   ]
  },
  {
   "cell_type": "code",
   "execution_count": 172,
   "metadata": {},
   "outputs": [
    {
     "data": {
      "text/plain": [
       "<lsst.ts.salobj.ddsutil.ATDome_ackcmd_ff080bab at 0x7f8c18defd68>"
      ]
     },
     "execution_count": 172,
     "metadata": {},
     "output_type": "execute_result"
    },
    {
     "name": "stdout",
     "output_type": "stream",
     "text": [
      "RemoteEvent(ATHeaderService, 0, logMessage) falling behind; read 13 messages\n",
      "RemoteEvent(ATHeaderService, 0, logMessage) falling behind; read 14 messages\n",
      "RemoteEvent(ATHeaderService, 0, logMessage) falling behind; read 11 messages\n"
     ]
    }
   ],
   "source": [
    "await attcs.atdome.cmd_openShutter.start()"
   ]
  },
  {
   "cell_type": "code",
   "execution_count": null,
   "metadata": {},
   "outputs": [],
   "source": [
    "#Robert working on his new streamlined code.  "
   ]
  },
  {
   "cell_type": "code",
   "execution_count": 173,
   "metadata": {},
   "outputs": [
    {
     "name": "stdout",
     "output_type": "stream",
     "text": [
      "Generating group_id\n",
      "OBJECT 0001 - 0001\n",
      "Waiting for header service LFO before continuing\n",
      "RemoteEvent(ATHeaderService, 0, logMessage) falling behind; read 13 messages\n"
     ]
    },
    {
     "data": {
      "text/plain": [
       "array([2020022100514])"
      ]
     },
     "execution_count": 173,
     "metadata": {},
     "output_type": "execute_result"
    }
   ],
   "source": [
    "#Check position...not quite\n",
    "await latiss.take_object(exptime=1, n=1, filter='empty_1',grating='ronchi90lpmm')"
   ]
  },
  {
   "cell_type": "code",
   "execution_count": 174,
   "metadata": {},
   "outputs": [
    {
     "name": "stdout",
     "output_type": "stream",
     "text": [
      "focus_positions = [-0.4  -0.35 -0.3  -0.25 -0.2  -0.15 -0.1  -0.05  0.  ]\n",
      "RemoteEvent(ATHeaderService, 0, logMessage) falling behind; read 12 messages\n",
      "RemoteEvent(ATHeaderService, 0, logMessage) falling behind; read 13 messages\n"
     ]
    }
   ],
   "source": [
    "#Focus units are given in mm \n",
    "focus_center = -0.2\n",
    "focus_step = 0.06\n",
    "n_steps = 9\n",
    "focus_positions = np.linspace(focus_center - focus_step * math.floor(n_steps / 2), focus_center + focus_step * math.ceil(n_steps / 2 - 1), n_steps)\n",
    "print ('focus_positions = ' + str(focus_positions))"
   ]
  },
  {
   "cell_type": "code",
   "execution_count": 175,
   "metadata": {},
   "outputs": [
    {
     "name": "stdout",
     "output_type": "stream",
     "text": [
      "Generating group_id\n",
      "OBJECT 0001 - 0001\n",
      "Waiting for header service LFO before continuing\n",
      "RemoteEvent(ATHeaderService, 0, logMessage) falling behind; read 12 messages\n"
     ]
    },
    {
     "data": {
      "text/plain": [
       "array([2020022100517])"
      ]
     },
     "execution_count": 175,
     "metadata": {},
     "output_type": "execute_result"
    }
   ],
   "source": [
    "#Check position again...\n",
    "await latiss.take_object(exptime=1, n=1, filter='empty_1',grating='ronchi90lpmm')"
   ]
  },
  {
   "cell_type": "code",
   "execution_count": 177,
   "metadata": {},
   "outputs": [
    {
     "name": "stdout",
     "output_type": "stream",
     "text": [
      "Generating group_id\n",
      "OBJECT 0001 - 0001\n",
      "Waiting for header service LFO before continuing\n",
      "RemoteEvent(ATHeaderService, 0, logMessage) falling behind; read 10 messages\n"
     ]
    },
    {
     "data": {
      "text/plain": [
       "array([2020022100518])"
      ]
     },
     "execution_count": 177,
     "metadata": {},
     "output_type": "execute_result"
    }
   ],
   "source": [
    "#Check position again...\n",
    "await latiss.take_object(exptime=1, n=1, filter='empty_1',grating='ronchi90lpmm')"
   ]
  },
  {
   "cell_type": "code",
   "execution_count": 178,
   "metadata": {},
   "outputs": [
    {
     "name": "stdout",
     "output_type": "stream",
     "text": [
      "Working on focus position -0.4\n"
     ]
    },
    {
     "ename": "TimeoutError",
     "evalue": "",
     "output_type": "error",
     "traceback": [
      "\u001b[0;31m\u001b[0m",
      "\u001b[0;31mTimeoutError\u001b[0mTraceback (most recent call last)",
      "\u001b[0;32m<ipython-input-178-23cf64077499>\u001b[0m in \u001b[0;36masync-def-wrapper\u001b[0;34m()\u001b[0m\n\u001b[1;32m      9\u001b[0m     \u001b[0mfocus_image\u001b[0m \u001b[0;34m=\u001b[0m \u001b[0;32mawait\u001b[0m \u001b[0mlatiss\u001b[0m\u001b[0;34m.\u001b[0m\u001b[0mtake_engtest\u001b[0m\u001b[0;34m(\u001b[0m\u001b[0mexptime\u001b[0m\u001b[0;34m=\u001b[0m\u001b[0;36m5.0\u001b[0m\u001b[0;34m,\u001b[0m \u001b[0mn\u001b[0m\u001b[0;34m=\u001b[0m\u001b[0;36m1\u001b[0m\u001b[0;34m,\u001b[0m \u001b[0mfilter\u001b[0m\u001b[0;34m=\u001b[0m\u001b[0;34m'empty_1'\u001b[0m\u001b[0;34m,\u001b[0m \u001b[0mgrating\u001b[0m\u001b[0;34m=\u001b[0m\u001b[0;34m'ronchi90lpmm'\u001b[0m\u001b[0;34m)\u001b[0m\u001b[0;34m\u001b[0m\u001b[0;34m\u001b[0m\u001b[0m\n\u001b[1;32m     10\u001b[0m     \u001b[0mprint\u001b[0m \u001b[0;34m(\u001b[0m\u001b[0;34m'Newest image id is = '\u001b[0m \u001b[0;34m+\u001b[0m\u001b[0mstr\u001b[0m\u001b[0;34m(\u001b[0m\u001b[0mfocus_image\u001b[0m\u001b[0;34m)\u001b[0m \u001b[0;34m)\u001b[0m\u001b[0;34m\u001b[0m\u001b[0;34m\u001b[0m\u001b[0m\n\u001b[0;32m---> 11\u001b[0;31m     \u001b[0mfocus_images\u001b[0m\u001b[0;34m[\u001b[0m\u001b[0mi\u001b[0m\u001b[0;34m]\u001b[0m \u001b[0;34m=\u001b[0m \u001b[0mint\u001b[0m\u001b[0;34m(\u001b[0m\u001b[0mfocus_image\u001b[0m\u001b[0;34m)\u001b[0m\u001b[0;34m\u001b[0m\u001b[0;34m\u001b[0m\u001b[0m\n\u001b[0m\u001b[1;32m     12\u001b[0m \u001b[0;34m\u001b[0m\u001b[0m\n\u001b[1;32m     13\u001b[0m \u001b[0;31m#This resets the focus position after taking this sequence:\u001b[0m\u001b[0;34m\u001b[0m\u001b[0;34m\u001b[0m\u001b[0;34m\u001b[0m\u001b[0m\n",
      "\u001b[0;32m~/repos/ts_salobj/python/lsst/ts/salobj/topics/read_topic.py\u001b[0m in \u001b[0;36mnext\u001b[0;34m(self, flush, timeout)\u001b[0m\n\u001b[1;32m    382\u001b[0m         \u001b[0;32mif\u001b[0m \u001b[0mflush\u001b[0m\u001b[0;34m:\u001b[0m\u001b[0;34m\u001b[0m\u001b[0;34m\u001b[0m\u001b[0m\n\u001b[1;32m    383\u001b[0m             \u001b[0mself\u001b[0m\u001b[0;34m.\u001b[0m\u001b[0mflush\u001b[0m\u001b[0;34m(\u001b[0m\u001b[0;34m)\u001b[0m\u001b[0;34m\u001b[0m\u001b[0;34m\u001b[0m\u001b[0m\n\u001b[0;32m--> 384\u001b[0;31m         \u001b[0;32mreturn\u001b[0m \u001b[0;32mawait\u001b[0m \u001b[0mself\u001b[0m\u001b[0;34m.\u001b[0m\u001b[0m_next\u001b[0m\u001b[0;34m(\u001b[0m\u001b[0mtimeout\u001b[0m\u001b[0;34m=\u001b[0m\u001b[0mtimeout\u001b[0m\u001b[0;34m)\u001b[0m\u001b[0;34m\u001b[0m\u001b[0;34m\u001b[0m\u001b[0m\n\u001b[0m\u001b[1;32m    385\u001b[0m \u001b[0;34m\u001b[0m\u001b[0m\n\u001b[1;32m    386\u001b[0m     \u001b[0;32masync\u001b[0m \u001b[0;32mdef\u001b[0m \u001b[0m_next\u001b[0m\u001b[0;34m(\u001b[0m\u001b[0mself\u001b[0m\u001b[0;34m,\u001b[0m \u001b[0;34m*\u001b[0m\u001b[0;34m,\u001b[0m \u001b[0mtimeout\u001b[0m\u001b[0;34m=\u001b[0m\u001b[0;32mNone\u001b[0m\u001b[0;34m)\u001b[0m\u001b[0;34m:\u001b[0m\u001b[0;34m\u001b[0m\u001b[0;34m\u001b[0m\u001b[0m\n",
      "\u001b[0;32m~/repos/ts_salobj/python/lsst/ts/salobj/topics/read_topic.py\u001b[0m in \u001b[0;36m_next\u001b[0;34m(self, timeout)\u001b[0m\n\u001b[1;32m    395\u001b[0m         \u001b[0;32mif\u001b[0m \u001b[0mself\u001b[0m\u001b[0;34m.\u001b[0m\u001b[0m_next_task\u001b[0m\u001b[0;34m.\u001b[0m\u001b[0mdone\u001b[0m\u001b[0;34m(\u001b[0m\u001b[0;34m)\u001b[0m\u001b[0;34m:\u001b[0m\u001b[0;34m\u001b[0m\u001b[0;34m\u001b[0m\u001b[0m\n\u001b[1;32m    396\u001b[0m             \u001b[0mself\u001b[0m\u001b[0;34m.\u001b[0m\u001b[0m_next_task\u001b[0m \u001b[0;34m=\u001b[0m \u001b[0masyncio\u001b[0m\u001b[0;34m.\u001b[0m\u001b[0mFuture\u001b[0m\u001b[0;34m(\u001b[0m\u001b[0;34m)\u001b[0m\u001b[0;34m\u001b[0m\u001b[0;34m\u001b[0m\u001b[0m\n\u001b[0;32m--> 397\u001b[0;31m         \u001b[0;32mawait\u001b[0m \u001b[0masyncio\u001b[0m\u001b[0;34m.\u001b[0m\u001b[0mwait_for\u001b[0m\u001b[0;34m(\u001b[0m\u001b[0mself\u001b[0m\u001b[0;34m.\u001b[0m\u001b[0m_next_task\u001b[0m\u001b[0;34m,\u001b[0m \u001b[0mtimeout\u001b[0m\u001b[0;34m=\u001b[0m\u001b[0mtimeout\u001b[0m\u001b[0;34m)\u001b[0m\u001b[0;34m\u001b[0m\u001b[0;34m\u001b[0m\u001b[0m\n\u001b[0m\u001b[1;32m    398\u001b[0m         \u001b[0;32mreturn\u001b[0m \u001b[0mself\u001b[0m\u001b[0;34m.\u001b[0m\u001b[0m_data_queue\u001b[0m\u001b[0;34m.\u001b[0m\u001b[0mpopleft\u001b[0m\u001b[0;34m(\u001b[0m\u001b[0;34m)\u001b[0m\u001b[0;34m\u001b[0m\u001b[0;34m\u001b[0m\u001b[0m\n\u001b[1;32m    399\u001b[0m \u001b[0;34m\u001b[0m\u001b[0m\n",
      "\u001b[0;32m/opt/lsst/software/stack/python/miniconda3-4.7.10/envs/lsst-scipipe-4d7b902/lib/python3.7/asyncio/tasks.py\u001b[0m in \u001b[0;36mwait_for\u001b[0;34m(fut, timeout, loop)\u001b[0m\n\u001b[1;32m    421\u001b[0m             \u001b[0;31m# See https://bugs.python.org/issue32751\u001b[0m\u001b[0;34m\u001b[0m\u001b[0;34m\u001b[0m\u001b[0;34m\u001b[0m\u001b[0m\n\u001b[1;32m    422\u001b[0m             \u001b[0;32mawait\u001b[0m \u001b[0m_cancel_and_wait\u001b[0m\u001b[0;34m(\u001b[0m\u001b[0mfut\u001b[0m\u001b[0;34m,\u001b[0m \u001b[0mloop\u001b[0m\u001b[0;34m=\u001b[0m\u001b[0mloop\u001b[0m\u001b[0;34m)\u001b[0m\u001b[0;34m\u001b[0m\u001b[0;34m\u001b[0m\u001b[0m\n\u001b[0;32m--> 423\u001b[0;31m             \u001b[0;32mraise\u001b[0m \u001b[0mfutures\u001b[0m\u001b[0;34m.\u001b[0m\u001b[0mTimeoutError\u001b[0m\u001b[0;34m(\u001b[0m\u001b[0;34m)\u001b[0m\u001b[0;34m\u001b[0m\u001b[0;34m\u001b[0m\u001b[0m\n\u001b[0m\u001b[1;32m    424\u001b[0m     \u001b[0;32mfinally\u001b[0m\u001b[0;34m:\u001b[0m\u001b[0;34m\u001b[0m\u001b[0;34m\u001b[0m\u001b[0m\n\u001b[1;32m    425\u001b[0m         \u001b[0mtimeout_handle\u001b[0m\u001b[0;34m.\u001b[0m\u001b[0mcancel\u001b[0m\u001b[0;34m(\u001b[0m\u001b[0;34m)\u001b[0m\u001b[0;34m\u001b[0m\u001b[0;34m\u001b[0m\u001b[0m\n",
      "\u001b[0;31mTimeoutError\u001b[0m: "
     ]
    }
   ],
   "source": [
    "#!!!!DO NOT RUN UNLESS YOU HAVE BEEN CLEARED TO CONTROL TELESCOPE!!!!! \n",
    "focus_images = [0 for focus_pos in focus_positions]\n",
    "for i in range(len(focus_positions)): \n",
    "    focus_pos = focus_positions[i] \n",
    "    print ('Working on focus position ' + str(focus_pos))\n",
    "    attcs.athexapod.evt_positionUpdate.flush() \n",
    "    await attcs.ataos.cmd_applyFocusOffset.set_start(offset=focus_pos)\n",
    "    await attcs.athexapod.evt_positionUpdate.next(flush=False, timeout=attcs.long_timeout)\n",
    "    focus_image = await latiss.take_engtest(exptime=5.0, n=1, filter='empty_1', grating='ronchi90lpmm') \n",
    "    print ('Newest image id is = ' +str(focus_image) )\n",
    "    focus_images[i] = int(focus_image)\n",
    "    \n",
    "#This resets the focus position after taking this sequence: \n",
    "await attcs.ataos.cmd_applyFocusOffset.set_start(offset = focus_center)"
   ]
  },
  {
   "cell_type": "code",
   "execution_count": null,
   "metadata": {},
   "outputs": [],
   "source": [
    "#Timed out again.  \n",
    "#Do it by hand, one at a time. "
   ]
  },
  {
   "cell_type": "code",
   "execution_count": 179,
   "metadata": {},
   "outputs": [
    {
     "name": "stdout",
     "output_type": "stream",
     "text": [
      "Working on focus position -0.4\n",
      "Here 1\n",
      "Here 2\n"
     ]
    },
    {
     "ename": "TimeoutError",
     "evalue": "",
     "output_type": "error",
     "traceback": [
      "\u001b[0;31m\u001b[0m",
      "\u001b[0;31mTimeoutError\u001b[0mTraceback (most recent call last)",
      "\u001b[0;32m<ipython-input-179-ce902469e106>\u001b[0m in \u001b[0;36masync-def-wrapper\u001b[0;34m()\u001b[0m\n\u001b[1;32m      8\u001b[0m \u001b[0mprint\u001b[0m \u001b[0;34m(\u001b[0m\u001b[0;34m'Here 3'\u001b[0m\u001b[0;34m)\u001b[0m\u001b[0;34m\u001b[0m\u001b[0;34m\u001b[0m\u001b[0m\n\u001b[1;32m      9\u001b[0m \u001b[0mfocus_image\u001b[0m \u001b[0;34m=\u001b[0m \u001b[0;32mawait\u001b[0m \u001b[0mlatiss\u001b[0m\u001b[0;34m.\u001b[0m\u001b[0mtake_engtest\u001b[0m\u001b[0;34m(\u001b[0m\u001b[0mexptime\u001b[0m\u001b[0;34m=\u001b[0m\u001b[0;36m5.0\u001b[0m\u001b[0;34m,\u001b[0m \u001b[0mn\u001b[0m\u001b[0;34m=\u001b[0m\u001b[0;36m1\u001b[0m\u001b[0;34m,\u001b[0m \u001b[0mfilter\u001b[0m\u001b[0;34m=\u001b[0m\u001b[0;34m'empty_1'\u001b[0m\u001b[0;34m,\u001b[0m \u001b[0mgrating\u001b[0m\u001b[0;34m=\u001b[0m\u001b[0;34m'ronchi90lpmm'\u001b[0m\u001b[0;34m)\u001b[0m\u001b[0;34m\u001b[0m\u001b[0;34m\u001b[0m\u001b[0m\n\u001b[0;32m---> 10\u001b[0;31m \u001b[0mprint\u001b[0m \u001b[0;34m(\u001b[0m\u001b[0;34m'Here 4'\u001b[0m\u001b[0;34m)\u001b[0m\u001b[0;34m\u001b[0m\u001b[0;34m\u001b[0m\u001b[0m\n\u001b[0m\u001b[1;32m     11\u001b[0m \u001b[0mprint\u001b[0m \u001b[0;34m(\u001b[0m\u001b[0;34m'Newest image id is = '\u001b[0m \u001b[0;34m+\u001b[0m\u001b[0mstr\u001b[0m\u001b[0;34m(\u001b[0m\u001b[0mfocus_image\u001b[0m\u001b[0;34m)\u001b[0m \u001b[0;34m)\u001b[0m\u001b[0;34m\u001b[0m\u001b[0;34m\u001b[0m\u001b[0m\n\u001b[1;32m     12\u001b[0m \u001b[0mfocus_images\u001b[0m\u001b[0;34m[\u001b[0m\u001b[0mi\u001b[0m\u001b[0;34m]\u001b[0m \u001b[0;34m=\u001b[0m \u001b[0mint\u001b[0m\u001b[0;34m(\u001b[0m\u001b[0mfocus_image\u001b[0m\u001b[0;34m)\u001b[0m\u001b[0;34m\u001b[0m\u001b[0;34m\u001b[0m\u001b[0m\n",
      "\u001b[0;32m~/repos/ts_salobj/python/lsst/ts/salobj/topics/read_topic.py\u001b[0m in \u001b[0;36mnext\u001b[0;34m(self, flush, timeout)\u001b[0m\n\u001b[1;32m    382\u001b[0m         \u001b[0;32mif\u001b[0m \u001b[0mflush\u001b[0m\u001b[0;34m:\u001b[0m\u001b[0;34m\u001b[0m\u001b[0;34m\u001b[0m\u001b[0m\n\u001b[1;32m    383\u001b[0m             \u001b[0mself\u001b[0m\u001b[0;34m.\u001b[0m\u001b[0mflush\u001b[0m\u001b[0;34m(\u001b[0m\u001b[0;34m)\u001b[0m\u001b[0;34m\u001b[0m\u001b[0;34m\u001b[0m\u001b[0m\n\u001b[0;32m--> 384\u001b[0;31m         \u001b[0;32mreturn\u001b[0m \u001b[0;32mawait\u001b[0m \u001b[0mself\u001b[0m\u001b[0;34m.\u001b[0m\u001b[0m_next\u001b[0m\u001b[0;34m(\u001b[0m\u001b[0mtimeout\u001b[0m\u001b[0;34m=\u001b[0m\u001b[0mtimeout\u001b[0m\u001b[0;34m)\u001b[0m\u001b[0;34m\u001b[0m\u001b[0;34m\u001b[0m\u001b[0m\n\u001b[0m\u001b[1;32m    385\u001b[0m \u001b[0;34m\u001b[0m\u001b[0m\n\u001b[1;32m    386\u001b[0m     \u001b[0;32masync\u001b[0m \u001b[0;32mdef\u001b[0m \u001b[0m_next\u001b[0m\u001b[0;34m(\u001b[0m\u001b[0mself\u001b[0m\u001b[0;34m,\u001b[0m \u001b[0;34m*\u001b[0m\u001b[0;34m,\u001b[0m \u001b[0mtimeout\u001b[0m\u001b[0;34m=\u001b[0m\u001b[0;32mNone\u001b[0m\u001b[0;34m)\u001b[0m\u001b[0;34m:\u001b[0m\u001b[0;34m\u001b[0m\u001b[0;34m\u001b[0m\u001b[0m\n",
      "\u001b[0;32m~/repos/ts_salobj/python/lsst/ts/salobj/topics/read_topic.py\u001b[0m in \u001b[0;36m_next\u001b[0;34m(self, timeout)\u001b[0m\n\u001b[1;32m    395\u001b[0m         \u001b[0;32mif\u001b[0m \u001b[0mself\u001b[0m\u001b[0;34m.\u001b[0m\u001b[0m_next_task\u001b[0m\u001b[0;34m.\u001b[0m\u001b[0mdone\u001b[0m\u001b[0;34m(\u001b[0m\u001b[0;34m)\u001b[0m\u001b[0;34m:\u001b[0m\u001b[0;34m\u001b[0m\u001b[0;34m\u001b[0m\u001b[0m\n\u001b[1;32m    396\u001b[0m             \u001b[0mself\u001b[0m\u001b[0;34m.\u001b[0m\u001b[0m_next_task\u001b[0m \u001b[0;34m=\u001b[0m \u001b[0masyncio\u001b[0m\u001b[0;34m.\u001b[0m\u001b[0mFuture\u001b[0m\u001b[0;34m(\u001b[0m\u001b[0;34m)\u001b[0m\u001b[0;34m\u001b[0m\u001b[0;34m\u001b[0m\u001b[0m\n\u001b[0;32m--> 397\u001b[0;31m         \u001b[0;32mawait\u001b[0m \u001b[0masyncio\u001b[0m\u001b[0;34m.\u001b[0m\u001b[0mwait_for\u001b[0m\u001b[0;34m(\u001b[0m\u001b[0mself\u001b[0m\u001b[0;34m.\u001b[0m\u001b[0m_next_task\u001b[0m\u001b[0;34m,\u001b[0m \u001b[0mtimeout\u001b[0m\u001b[0;34m=\u001b[0m\u001b[0mtimeout\u001b[0m\u001b[0;34m)\u001b[0m\u001b[0;34m\u001b[0m\u001b[0;34m\u001b[0m\u001b[0m\n\u001b[0m\u001b[1;32m    398\u001b[0m         \u001b[0;32mreturn\u001b[0m \u001b[0mself\u001b[0m\u001b[0;34m.\u001b[0m\u001b[0m_data_queue\u001b[0m\u001b[0;34m.\u001b[0m\u001b[0mpopleft\u001b[0m\u001b[0;34m(\u001b[0m\u001b[0;34m)\u001b[0m\u001b[0;34m\u001b[0m\u001b[0;34m\u001b[0m\u001b[0m\n\u001b[1;32m    399\u001b[0m \u001b[0;34m\u001b[0m\u001b[0m\n",
      "\u001b[0;32m/opt/lsst/software/stack/python/miniconda3-4.7.10/envs/lsst-scipipe-4d7b902/lib/python3.7/asyncio/tasks.py\u001b[0m in \u001b[0;36mwait_for\u001b[0;34m(fut, timeout, loop)\u001b[0m\n\u001b[1;32m    421\u001b[0m             \u001b[0;31m# See https://bugs.python.org/issue32751\u001b[0m\u001b[0;34m\u001b[0m\u001b[0;34m\u001b[0m\u001b[0;34m\u001b[0m\u001b[0m\n\u001b[1;32m    422\u001b[0m             \u001b[0;32mawait\u001b[0m \u001b[0m_cancel_and_wait\u001b[0m\u001b[0;34m(\u001b[0m\u001b[0mfut\u001b[0m\u001b[0;34m,\u001b[0m \u001b[0mloop\u001b[0m\u001b[0;34m=\u001b[0m\u001b[0mloop\u001b[0m\u001b[0;34m)\u001b[0m\u001b[0;34m\u001b[0m\u001b[0;34m\u001b[0m\u001b[0m\n\u001b[0;32m--> 423\u001b[0;31m             \u001b[0;32mraise\u001b[0m \u001b[0mfutures\u001b[0m\u001b[0;34m.\u001b[0m\u001b[0mTimeoutError\u001b[0m\u001b[0;34m(\u001b[0m\u001b[0;34m)\u001b[0m\u001b[0;34m\u001b[0m\u001b[0;34m\u001b[0m\u001b[0m\n\u001b[0m\u001b[1;32m    424\u001b[0m     \u001b[0;32mfinally\u001b[0m\u001b[0;34m:\u001b[0m\u001b[0;34m\u001b[0m\u001b[0;34m\u001b[0m\u001b[0m\n\u001b[1;32m    425\u001b[0m         \u001b[0mtimeout_handle\u001b[0m\u001b[0;34m.\u001b[0m\u001b[0mcancel\u001b[0m\u001b[0;34m(\u001b[0m\u001b[0;34m)\u001b[0m\u001b[0;34m\u001b[0m\u001b[0;34m\u001b[0m\u001b[0m\n",
      "\u001b[0;31mTimeoutError\u001b[0m: "
     ]
    }
   ],
   "source": [
    "focus_pos = focus_positions[0] \n",
    "print ('Working on focus position ' + str(focus_pos))\n",
    "attcs.athexapod.evt_positionUpdate.flush() \n",
    "print ('Here 1')\n",
    "await attcs.ataos.cmd_applyFocusOffset.set_start(offset=focus_pos)\n",
    "print ('Here 2')\n",
    "await attcs.athexapod.evt_positionUpdate.next(flush=False, timeout=attcs.long_timeout)\n",
    "print ('Here 3')\n",
    "focus_image = await latiss.take_engtest(exptime=5.0, n=1, filter='empty_1', grating='ronchi90lpmm') \n",
    "print ('Here 4')\n",
    "print ('Newest image id is = ' +str(focus_image) )\n",
    "focus_images[i] = int(focus_image)"
   ]
  },
  {
   "cell_type": "code",
   "execution_count": 180,
   "metadata": {},
   "outputs": [
    {
     "data": {
      "text/plain": [
       "<lsst.ts.salobj.ddsutil.ATAOS_ackcmd_33d5c92b at 0x7f8c18c17fd0>"
      ]
     },
     "execution_count": 180,
     "metadata": {},
     "output_type": "execute_result"
    }
   ],
   "source": [
    "await attcs.ataos.cmd_applyFocusOffset.set_start(offset=0.0)"
   ]
  },
  {
   "cell_type": "code",
   "execution_count": 181,
   "metadata": {},
   "outputs": [
    {
     "data": {
      "text/plain": [
       "array([-0.4 , -0.35, -0.3 , -0.25, -0.2 , -0.15, -0.1 , -0.05,  0.  ])"
      ]
     },
     "execution_count": 181,
     "metadata": {},
     "output_type": "execute_result"
    }
   ],
   "source": [
    "focus_positions"
   ]
  },
  {
   "cell_type": "code",
   "execution_count": 182,
   "metadata": {},
   "outputs": [
    {
     "name": "stdout",
     "output_type": "stream",
     "text": [
      "Working on focus position -0.4\n"
     ]
    },
    {
     "ename": "TimeoutError",
     "evalue": "",
     "output_type": "error",
     "traceback": [
      "\u001b[0;31m\u001b[0m",
      "\u001b[0;31mTimeoutError\u001b[0mTraceback (most recent call last)",
      "\u001b[0;32m<ipython-input-182-00f5d7c18149>\u001b[0m in \u001b[0;36masync-def-wrapper\u001b[0;34m()\u001b[0m\n\u001b[1;32m     11\u001b[0m     \u001b[0mfocus_image\u001b[0m \u001b[0;34m=\u001b[0m \u001b[0;32mawait\u001b[0m \u001b[0mlatiss\u001b[0m\u001b[0;34m.\u001b[0m\u001b[0mtake_engtest\u001b[0m\u001b[0;34m(\u001b[0m\u001b[0mexptime\u001b[0m\u001b[0;34m=\u001b[0m\u001b[0;36m5.0\u001b[0m\u001b[0;34m,\u001b[0m \u001b[0mn\u001b[0m\u001b[0;34m=\u001b[0m\u001b[0;36m1\u001b[0m\u001b[0;34m,\u001b[0m \u001b[0mfilter\u001b[0m\u001b[0;34m=\u001b[0m\u001b[0;34m'empty_1'\u001b[0m\u001b[0;34m,\u001b[0m \u001b[0mgrating\u001b[0m\u001b[0;34m=\u001b[0m\u001b[0;34m'ronchi90lpmm'\u001b[0m\u001b[0;34m)\u001b[0m\u001b[0;34m\u001b[0m\u001b[0;34m\u001b[0m\u001b[0m\n\u001b[1;32m     12\u001b[0m     \u001b[0mprint\u001b[0m \u001b[0;34m(\u001b[0m\u001b[0;34m'Newest image id is = '\u001b[0m \u001b[0;34m+\u001b[0m\u001b[0mstr\u001b[0m\u001b[0;34m(\u001b[0m\u001b[0mfocus_image\u001b[0m\u001b[0;34m)\u001b[0m \u001b[0;34m)\u001b[0m\u001b[0;34m\u001b[0m\u001b[0;34m\u001b[0m\u001b[0m\n\u001b[0;32m---> 13\u001b[0;31m     \u001b[0mfocus_images\u001b[0m\u001b[0;34m[\u001b[0m\u001b[0mi\u001b[0m\u001b[0;34m]\u001b[0m \u001b[0;34m=\u001b[0m \u001b[0mint\u001b[0m\u001b[0;34m(\u001b[0m\u001b[0mfocus_image\u001b[0m\u001b[0;34m)\u001b[0m\u001b[0;34m\u001b[0m\u001b[0;34m\u001b[0m\u001b[0m\n\u001b[0m\u001b[1;32m     14\u001b[0m \u001b[0;34m\u001b[0m\u001b[0m\n\u001b[1;32m     15\u001b[0m \u001b[0;31m#This resets the focus position after taking this sequence:\u001b[0m\u001b[0;34m\u001b[0m\u001b[0;34m\u001b[0m\u001b[0;34m\u001b[0m\u001b[0m\n",
      "\u001b[0;32m~/repos/ts_salobj/python/lsst/ts/salobj/topics/read_topic.py\u001b[0m in \u001b[0;36mnext\u001b[0;34m(self, flush, timeout)\u001b[0m\n\u001b[1;32m    382\u001b[0m         \u001b[0;32mif\u001b[0m \u001b[0mflush\u001b[0m\u001b[0;34m:\u001b[0m\u001b[0;34m\u001b[0m\u001b[0;34m\u001b[0m\u001b[0m\n\u001b[1;32m    383\u001b[0m             \u001b[0mself\u001b[0m\u001b[0;34m.\u001b[0m\u001b[0mflush\u001b[0m\u001b[0;34m(\u001b[0m\u001b[0;34m)\u001b[0m\u001b[0;34m\u001b[0m\u001b[0;34m\u001b[0m\u001b[0m\n\u001b[0;32m--> 384\u001b[0;31m         \u001b[0;32mreturn\u001b[0m \u001b[0;32mawait\u001b[0m \u001b[0mself\u001b[0m\u001b[0;34m.\u001b[0m\u001b[0m_next\u001b[0m\u001b[0;34m(\u001b[0m\u001b[0mtimeout\u001b[0m\u001b[0;34m=\u001b[0m\u001b[0mtimeout\u001b[0m\u001b[0;34m)\u001b[0m\u001b[0;34m\u001b[0m\u001b[0;34m\u001b[0m\u001b[0m\n\u001b[0m\u001b[1;32m    385\u001b[0m \u001b[0;34m\u001b[0m\u001b[0m\n\u001b[1;32m    386\u001b[0m     \u001b[0;32masync\u001b[0m \u001b[0;32mdef\u001b[0m \u001b[0m_next\u001b[0m\u001b[0;34m(\u001b[0m\u001b[0mself\u001b[0m\u001b[0;34m,\u001b[0m \u001b[0;34m*\u001b[0m\u001b[0;34m,\u001b[0m \u001b[0mtimeout\u001b[0m\u001b[0;34m=\u001b[0m\u001b[0;32mNone\u001b[0m\u001b[0;34m)\u001b[0m\u001b[0;34m:\u001b[0m\u001b[0;34m\u001b[0m\u001b[0;34m\u001b[0m\u001b[0m\n",
      "\u001b[0;32m~/repos/ts_salobj/python/lsst/ts/salobj/topics/read_topic.py\u001b[0m in \u001b[0;36m_next\u001b[0;34m(self, timeout)\u001b[0m\n\u001b[1;32m    395\u001b[0m         \u001b[0;32mif\u001b[0m \u001b[0mself\u001b[0m\u001b[0;34m.\u001b[0m\u001b[0m_next_task\u001b[0m\u001b[0;34m.\u001b[0m\u001b[0mdone\u001b[0m\u001b[0;34m(\u001b[0m\u001b[0;34m)\u001b[0m\u001b[0;34m:\u001b[0m\u001b[0;34m\u001b[0m\u001b[0;34m\u001b[0m\u001b[0m\n\u001b[1;32m    396\u001b[0m             \u001b[0mself\u001b[0m\u001b[0;34m.\u001b[0m\u001b[0m_next_task\u001b[0m \u001b[0;34m=\u001b[0m \u001b[0masyncio\u001b[0m\u001b[0;34m.\u001b[0m\u001b[0mFuture\u001b[0m\u001b[0;34m(\u001b[0m\u001b[0;34m)\u001b[0m\u001b[0;34m\u001b[0m\u001b[0;34m\u001b[0m\u001b[0m\n\u001b[0;32m--> 397\u001b[0;31m         \u001b[0;32mawait\u001b[0m \u001b[0masyncio\u001b[0m\u001b[0;34m.\u001b[0m\u001b[0mwait_for\u001b[0m\u001b[0;34m(\u001b[0m\u001b[0mself\u001b[0m\u001b[0;34m.\u001b[0m\u001b[0m_next_task\u001b[0m\u001b[0;34m,\u001b[0m \u001b[0mtimeout\u001b[0m\u001b[0;34m=\u001b[0m\u001b[0mtimeout\u001b[0m\u001b[0;34m)\u001b[0m\u001b[0;34m\u001b[0m\u001b[0;34m\u001b[0m\u001b[0m\n\u001b[0m\u001b[1;32m    398\u001b[0m         \u001b[0;32mreturn\u001b[0m \u001b[0mself\u001b[0m\u001b[0;34m.\u001b[0m\u001b[0m_data_queue\u001b[0m\u001b[0;34m.\u001b[0m\u001b[0mpopleft\u001b[0m\u001b[0;34m(\u001b[0m\u001b[0;34m)\u001b[0m\u001b[0;34m\u001b[0m\u001b[0;34m\u001b[0m\u001b[0m\n\u001b[1;32m    399\u001b[0m \u001b[0;34m\u001b[0m\u001b[0m\n",
      "\u001b[0;32m/opt/lsst/software/stack/python/miniconda3-4.7.10/envs/lsst-scipipe-4d7b902/lib/python3.7/asyncio/tasks.py\u001b[0m in \u001b[0;36mwait_for\u001b[0;34m(fut, timeout, loop)\u001b[0m\n\u001b[1;32m    421\u001b[0m             \u001b[0;31m# See https://bugs.python.org/issue32751\u001b[0m\u001b[0;34m\u001b[0m\u001b[0;34m\u001b[0m\u001b[0;34m\u001b[0m\u001b[0m\n\u001b[1;32m    422\u001b[0m             \u001b[0;32mawait\u001b[0m \u001b[0m_cancel_and_wait\u001b[0m\u001b[0;34m(\u001b[0m\u001b[0mfut\u001b[0m\u001b[0;34m,\u001b[0m \u001b[0mloop\u001b[0m\u001b[0;34m=\u001b[0m\u001b[0mloop\u001b[0m\u001b[0;34m)\u001b[0m\u001b[0;34m\u001b[0m\u001b[0;34m\u001b[0m\u001b[0m\n\u001b[0;32m--> 423\u001b[0;31m             \u001b[0;32mraise\u001b[0m \u001b[0mfutures\u001b[0m\u001b[0;34m.\u001b[0m\u001b[0mTimeoutError\u001b[0m\u001b[0;34m(\u001b[0m\u001b[0;34m)\u001b[0m\u001b[0;34m\u001b[0m\u001b[0;34m\u001b[0m\u001b[0m\n\u001b[0m\u001b[1;32m    424\u001b[0m     \u001b[0;32mfinally\u001b[0m\u001b[0;34m:\u001b[0m\u001b[0;34m\u001b[0m\u001b[0;34m\u001b[0m\u001b[0m\n\u001b[1;32m    425\u001b[0m         \u001b[0mtimeout_handle\u001b[0m\u001b[0;34m.\u001b[0m\u001b[0mcancel\u001b[0m\u001b[0;34m(\u001b[0m\u001b[0;34m)\u001b[0m\u001b[0;34m\u001b[0m\u001b[0;34m\u001b[0m\u001b[0m\n",
      "\u001b[0;31mTimeoutError\u001b[0m: "
     ]
    }
   ],
   "source": [
    "focus_positions\n",
    "\n",
    "#!!!!DO NOT RUN UNLESS YOU HAVE BEEN CLEARED TO CONTROL TELESCOPE!!!!! \n",
    "focus_images = [0 for focus_pos in focus_positions]\n",
    "for i in range(len(focus_positions)): \n",
    "    focus_pos = focus_positions[i] \n",
    "    print ('Working on focus position ' + str(focus_pos))\n",
    "    attcs.athexapod.evt_positionUpdate.flush() \n",
    "    await attcs.ataos.cmd_applyFocusOffset.set_start(offset=focus_pos)\n",
    "    await attcs.athexapod.evt_positionUpdate.next(flush=False, timeout=attcs.long_timeout)\n",
    "    focus_image = await latiss.take_engtest(exptime=5.0, n=1, filter='empty_1', grating='ronchi90lpmm') \n",
    "    print ('Newest image id is = ' +str(focus_image) )\n",
    "    focus_images[i] = int(focus_image)\n",
    "    \n",
    "#This resets the focus position after taking this sequence: \n",
    "await attcs.ataos.cmd_applyFocusOffset.set_start(offset = focus_center)"
   ]
  },
  {
   "cell_type": "code",
   "execution_count": 183,
   "metadata": {},
   "outputs": [
    {
     "name": "stdout",
     "output_type": "stream",
     "text": [
      "Working on focus position -0.4\n",
      "Generating group_id\n",
      "ENGTEST 0001 - 0001\n",
      "RemoteEvent(ATMCS, 0, target) falling behind; read 100 messages\n",
      "RemoteEvent(ATDomeTrajectory, 0, logMessage) falling behind; read 100 messages\n",
      "RemoteTelemetry(ATPtg, 0, timeAndDate) falling behind; read 27 messages\n",
      "RemoteTelemetry(ATDome, 0, position) falling behind; read 27 messages\n",
      "RemoteTelemetry(ATPtg, 0, mountStatus) falling behind; read 29 messages\n",
      "RemoteTelemetry(ATPtg, 0, guidingAndOffsets) falling behind; read 29 messages\n",
      "RemoteTelemetry(ATPtg, 0, currentTargetStatus) falling behind; read 30 messages\n",
      "Waiting for header service LFO before continuing\n",
      "RemoteEvent(ATHeaderService, 0, logMessage) falling behind; read 12 messages\n",
      "Newest image id is = [2020022100519]\n",
      "Working on focus position -0.35000000000000003\n",
      "Generating group_id\n",
      "ENGTEST 0001 - 0001\n",
      "RemoteTelemetry(ATDome, 0, position) falling behind; read 25 messages\n",
      "RemoteEvent(ATMCS, 0, target) falling behind; read 100 messages\n",
      "RemoteTelemetry(ATPtg, 0, currentTargetStatus) falling behind; read 27 messages\n",
      "RemoteEvent(ATDomeTrajectory, 0, logMessage) falling behind; read 100 messages\n",
      "RemoteTelemetry(ATPtg, 0, timeAndDate) falling behind; read 27 messages\n",
      "RemoteTelemetry(ATPtg, 0, mountStatus) falling behind; read 29 messages\n",
      "RemoteTelemetry(ATPtg, 0, guidingAndOffsets) falling behind; read 29 messages\n",
      "Waiting for header service LFO before continuing\n",
      "RemoteEvent(ATHeaderService, 0, logMessage) falling behind; read 11 messages\n",
      "Newest image id is = [2020022100520]\n",
      "Working on focus position -0.30000000000000004\n",
      "Generating group_id\n",
      "ENGTEST 0001 - 0001\n",
      "RemoteEvent(ATMCS, 0, target) falling behind; read 100 messages\n",
      "RemoteEvent(ATDomeTrajectory, 0, logMessage) falling behind; read 100 messages\n",
      "RemoteTelemetry(ATPtg, 0, timeAndDate) falling behind; read 28 messages\n",
      "RemoteTelemetry(ATPtg, 0, mountStatus) falling behind; read 28 messages\n",
      "RemoteTelemetry(ATDome, 0, position) falling behind; read 27 messages\n",
      "RemoteTelemetry(ATPtg, 0, guidingAndOffsets) falling behind; read 29 messages\n",
      "RemoteTelemetry(ATPtg, 0, currentTargetStatus) falling behind; read 29 messages\n",
      "Waiting for header service LFO before continuing\n",
      "Newest image id is = [2020022100521]\n",
      "Working on focus position -0.25\n",
      "Generating group_id\n",
      "ENGTEST 0001 - 0001\n",
      "RemoteEvent(ATMCS, 0, target) falling behind; read 100 messages\n",
      "RemoteTelemetry(ATDome, 0, position) falling behind; read 26 messages\n",
      "RemoteEvent(ATDomeTrajectory, 0, logMessage) falling behind; read 100 messages\n",
      "RemoteTelemetry(ATPtg, 0, timeAndDate) falling behind; read 27 messages\n",
      "RemoteTelemetry(ATPtg, 0, mountStatus) falling behind; read 28 messages\n",
      "RemoteTelemetry(ATPtg, 0, guidingAndOffsets) falling behind; read 29 messages\n",
      "RemoteTelemetry(ATPtg, 0, currentTargetStatus) falling behind; read 29 messages\n",
      "Waiting for header service LFO before continuing\n",
      "RemoteEvent(ATHeaderService, 0, logMessage) falling behind; read 11 messages\n",
      "Newest image id is = [2020022100522]\n",
      "Working on focus position -0.2\n",
      "Generating group_id\n",
      "ENGTEST 0001 - 0001\n",
      "RemoteEvent(ATMCS, 0, target) falling behind; read 100 messages\n",
      "RemoteEvent(ATDomeTrajectory, 0, logMessage) falling behind; read 100 messages\n",
      "RemoteTelemetry(ATPtg, 0, timeAndDate) falling behind; read 28 messages\n",
      "RemoteTelemetry(ATDome, 0, position) falling behind; read 28 messages\n",
      "RemoteTelemetry(ATPtg, 0, mountStatus) falling behind; read 29 messages\n",
      "RemoteTelemetry(ATPtg, 0, guidingAndOffsets) falling behind; read 30 messages\n",
      "RemoteTelemetry(ATPtg, 0, currentTargetStatus) falling behind; read 30 messages\n",
      "Waiting for header service LFO before continuing\n",
      "Newest image id is = [2020022100523]\n",
      "Working on focus position -0.15000000000000002\n",
      "Generating group_id\n",
      "ENGTEST 0001 - 0001\n",
      "RemoteEvent(ATMCS, 0, target) falling behind; read 100 messages\n",
      "RemoteEvent(ATDomeTrajectory, 0, logMessage) falling behind; read 100 messages\n",
      "RemoteTelemetry(ATDome, 0, position) falling behind; read 27 messages\n",
      "RemoteTelemetry(ATPtg, 0, currentTargetStatus) falling behind; read 28 messages\n",
      "RemoteTelemetry(ATPtg, 0, timeAndDate) falling behind; read 28 messages\n",
      "RemoteTelemetry(ATPtg, 0, mountStatus) falling behind; read 29 messages\n",
      "RemoteTelemetry(ATPtg, 0, guidingAndOffsets) falling behind; read 29 messages\n",
      "Waiting for header service LFO before continuing\n",
      "RemoteEvent(ATHeaderService, 0, logMessage) falling behind; read 15 messages\n",
      "Newest image id is = [2020022100524]\n",
      "Working on focus position -0.09999999999999998\n",
      "Generating group_id\n",
      "ENGTEST 0001 - 0001\n",
      "RemoteEvent(ATMCS, 0, target) falling behind; read 100 messages\n",
      "RemoteEvent(ATDomeTrajectory, 0, logMessage) falling behind; read 100 messages\n",
      "RemoteTelemetry(ATDome, 0, position) falling behind; read 27 messages\n",
      "RemoteTelemetry(ATPtg, 0, timeAndDate) falling behind; read 28 messages\n",
      "RemoteTelemetry(ATPtg, 0, mountStatus) falling behind; read 28 messages\n",
      "RemoteTelemetry(ATPtg, 0, guidingAndOffsets) falling behind; read 29 messages\n",
      "RemoteTelemetry(ATPtg, 0, currentTargetStatus) falling behind; read 29 messages\n",
      "Waiting for header service LFO before continuing\n",
      "RemoteEvent(ATHeaderService, 0, logMessage) falling behind; read 14 messages\n",
      "Newest image id is = [2020022100525]\n",
      "Working on focus position -0.04999999999999999\n",
      "Generating group_id\n",
      "ENGTEST 0001 - 0001\n",
      "RemoteEvent(ATMCS, 0, target) falling behind; read 100 messages\n",
      "RemoteEvent(ATDomeTrajectory, 0, logMessage) falling behind; read 100 messages\n",
      "RemoteTelemetry(ATPtg, 0, currentTargetStatus) falling behind; read 27 messages\n",
      "RemoteTelemetry(ATDome, 0, position) falling behind; read 26 messages\n",
      "RemoteTelemetry(ATPtg, 0, timeAndDate) falling behind; read 28 messages\n",
      "RemoteTelemetry(ATPtg, 0, mountStatus) falling behind; read 29 messages\n",
      "RemoteTelemetry(ATPtg, 0, guidingAndOffsets) falling behind; read 29 messages\n",
      "Waiting for header service LFO before continuing\n",
      "RemoteEvent(ATHeaderService, 0, logMessage) falling behind; read 16 messages\n",
      "Newest image id is = [2020022100526]\n",
      "Working on focus position 0.0\n",
      "Generating group_id\n",
      "ENGTEST 0001 - 0001\n",
      "RemoteTelemetry(ATPtg, 0, timeAndDate) falling behind; read 26 messages\n",
      "RemoteEvent(ATMCS, 0, target) falling behind; read 100 messages\n",
      "RemoteEvent(ATDomeTrajectory, 0, logMessage) falling behind; read 100 messages\n",
      "RemoteTelemetry(ATDome, 0, position) falling behind; read 27 messages\n",
      "RemoteTelemetry(ATPtg, 0, mountStatus) falling behind; read 28 messages\n",
      "RemoteTelemetry(ATPtg, 0, guidingAndOffsets) falling behind; read 29 messages\n",
      "RemoteTelemetry(ATPtg, 0, currentTargetStatus) falling behind; read 29 messages\n",
      "Waiting for header service LFO before continuing\n",
      "RemoteEvent(ATHeaderService, 0, logMessage) falling behind; read 17 messages\n",
      "Newest image id is = [2020022100527]\n"
     ]
    },
    {
     "data": {
      "text/plain": [
       "<lsst.ts.salobj.ddsutil.ATAOS_ackcmd_33d5c92b at 0x7f8c13a160f0>"
      ]
     },
     "execution_count": 183,
     "metadata": {},
     "output_type": "execute_result"
    },
    {
     "name": "stdout",
     "output_type": "stream",
     "text": [
      "RemoteEvent(ATHeaderService, 0, logMessage) falling behind; read 12 messages\n",
      "RemoteTelemetry(ATPtg, 0, mountStatus) falling behind; read 33 messages\n",
      "RemoteTelemetry(ATPtg, 0, guidingAndOffsets) falling behind; read 53 messages\n",
      "RemoteEvent(ATMCS, 0, target) falling behind; read 11 messages\n",
      "RemoteTelemetry(ATPtg, 0, currentTargetStatus) falling behind; read 52 messages\n",
      "RemoteTelemetry(ATDome, 0, position) falling behind; read 47 messages\n",
      "RemoteEvent(ATDome, 0, heartbeat) falling behind; read 10 messages\n",
      "RemoteTelemetry(ATPtg, 0, timeAndDate) falling behind; read 45 messages\n",
      "RemoteEvent(ATPtg, 0, mountDataWarning) falling behind; read 16 messages\n",
      "RemoteEvent(ATDomeTrajectory, 0, logMessage) falling behind; read 37 messages\n"
     ]
    }
   ],
   "source": [
    "#!!!!DO NOT RUN UNLESS YOU HAVE BEEN CLEARED TO CONTROL TELESCOPE!!!!! \n",
    "focus_images = [0 for focus_pos in focus_positions]\n",
    "for i in range(len(focus_positions)): \n",
    "    focus_pos = focus_positions[i] \n",
    "    print ('Working on focus position ' + str(focus_pos))\n",
    "    #attcs.athexapod.evt_positionUpdate.flush() \n",
    "    await attcs.ataos.cmd_applyFocusOffset.set_start(offset=focus_pos)\n",
    "    time.sleep(5)\n",
    "    #await attcs.athexapod.evt_positionUpdate.next(flush=False, timeout=attcs.long_timeout)\n",
    "    focus_image = await latiss.take_engtest(exptime=5.0, n=1, filter='empty_1', grating='ronchi90lpmm') \n",
    "    print ('Newest image id is = ' +str(focus_image) )\n",
    "    focus_images[i] = int(focus_image)\n",
    "    \n",
    "#This resets the focus position after taking this sequence: \n",
    "await attcs.ataos.cmd_applyFocusOffset.set_start(offset = focus_center)"
   ]
  },
  {
   "cell_type": "code",
   "execution_count": 184,
   "metadata": {},
   "outputs": [
    {
     "name": "stdout",
     "output_type": "stream",
     "text": [
      "Resetting dropped connection: simbad.u-strasbg.fr\n",
      "http://simbad.u-strasbg.fr:80 \"POST /simbad/sim-script HTTP/1.1\" 200 None\n",
      "Slewing to HD 54576: 07 08 37.7400 -17 38 05.028\n",
      "RemoteEvent(ATMCS, 0, target) falling behind; read 16 messages\n",
      "RemoteEvent(ATDomeTrajectory, 0, logMessage) falling behind; read 17 messages\n",
      "Parallactic angle: 116.46293946965775 | Sky Angle: 128.04303638157998\n",
      "Sending command\n",
      "Stop tracking.\n",
      "Mount tracking state is 8\n",
      "In Position: False.\n",
      "Scheduling check coroutines\n",
      "process as completed...\n",
      "Got False\n",
      "Telescope not in position\n",
      "atmcs: <State.ENABLED: 2>\n",
      "atptg: <State.ENABLED: 2>\n",
      "ataos: <State.ENABLED: 2>\n",
      "atpneumatics: <State.ENABLED: 2>\n",
      "athexapod: <State.ENABLED: 2>\n",
      "atdome: <State.ENABLED: 2>\n",
      "atdometrajectory: <State.ENABLED: 2>\n",
      "[Telescope] delta Alt = -022.762 | delta Az= +045.863 [Dome] delta Az = +059.332\n",
      "[Telescope] delta Alt = -022.767 | delta Az= +045.859 [Dome] delta Az = +058.572\n",
      "[Telescope] delta Alt = -022.775 | delta Az= +045.853 [Dome] delta Az = +057.132\n",
      "[Telescope] delta Alt = -022.781 | delta Az= +045.848 [Dome] delta Az = +054.632\n",
      "[Telescope] delta Alt = -022.788 | delta Az= +045.842 [Dome] delta Az = +051.202\n",
      "[Telescope] delta Alt = -022.796 | delta Az= +045.836 [Dome] delta Az = +046.872\n",
      "[Telescope] delta Alt = -022.803 | delta Az= +045.831 [Dome] delta Az = +041.612\n",
      "[Telescope] delta Alt = -022.810 | delta Az= +045.825 [Dome] delta Az = +035.462\n",
      "[Telescope] delta Alt = -022.817 | delta Az= +045.819 [Dome] delta Az = +029.332\n",
      "[Telescope] delta Alt = -022.824 | delta Az= +045.814 [Dome] delta Az = +022.442\n",
      "[Telescope] delta Alt = -022.831 | delta Az= +045.809 [Dome] delta Az = +015.522\n",
      "[Telescope] delta Alt = -022.838 | delta Az= +045.803 [Dome] delta Az = +008.652\n",
      "[Telescope] delta Alt = -022.846 | delta Az= +045.797 [Dome] delta Az = +001.972\n",
      "[Telescope] delta Alt = -022.853 | delta Az= +045.792 [Dome] delta Az = -002.048\n",
      "[Telescope] delta Alt = -022.860 | delta Az= +045.786 [Dome] delta Az = -002.998\n",
      "[Telescope] delta Alt = -022.867 | delta Az= +045.781 [Dome] delta Az = -002.998\n",
      "[Telescope] delta Alt = -022.874 | delta Az= +045.775 [Dome] delta Az = -002.998\n",
      "[Telescope] delta Alt = -022.881 | delta Az= +045.769 [Dome] delta Az = -002.998\n",
      "[Telescope] delta Alt = -022.888 | delta Az= +045.764 [Dome] delta Az = -002.998\n",
      "[Telescope] delta Alt = -022.896 | delta Az= +045.758 [Dome] delta Az = -002.998\n",
      "[Telescope] delta Alt = -022.902 | delta Az= +045.753 [Dome] delta Az = -002.998\n",
      "[Telescope] delta Alt = -022.910 | delta Az= +045.747 [Dome] delta Az = -002.998\n",
      "[Telescope] delta Alt = -022.917 | delta Az= +045.742 [Dome] delta Az = -002.998\n",
      "[Telescope] delta Alt = -022.924 | delta Az= +045.736 [Dome] delta Az = -002.998\n",
      "[Telescope] delta Alt = -022.931 | delta Az= +045.730 [Dome] delta Az = -002.998\n",
      "[Telescope] delta Alt = -022.938 | delta Az= +045.725 [Dome] delta Az = -002.998\n",
      "[Telescope] delta Alt = -022.945 | delta Az= +045.719 [Dome] delta Az = -002.998\n",
      "[Telescope] delta Alt = -022.953 | delta Az= +045.714 [Dome] delta Az = -002.998\n",
      "[Telescope] delta Alt = -022.960 | delta Az= +045.708 [Dome] delta Az = -002.998\n",
      "[Telescope] delta Alt = -022.967 | delta Az= +045.702 [Dome] delta Az = -002.998\n",
      "[Telescope] delta Alt = -022.974 | delta Az= +045.697 [Dome] delta Az = -002.998\n",
      "[Telescope] delta Alt = -022.982 | delta Az= +045.691 [Dome] delta Az = -002.998\n",
      "[Telescope] delta Alt = -022.988 | delta Az= +045.686 [Dome] delta Az = -002.998\n",
      "[Telescope] delta Alt = -022.995 | delta Az= +045.680 [Dome] delta Az = -002.998\n",
      "[Telescope] delta Alt = -023.003 | delta Az= +045.675 [Dome] delta Az = -002.998\n",
      "[Telescope] delta Alt = -023.010 | delta Az= +045.669 [Dome] delta Az = -002.998\n",
      "[Telescope] delta Alt = -023.017 | delta Az= +045.664 [Dome] delta Az = -002.998\n",
      "[Telescope] delta Alt = -023.024 | delta Az= +045.658 [Dome] delta Az = -002.998\n",
      "[Telescope] delta Alt = -023.031 | delta Az= +045.652 [Dome] delta Az = -002.998\n",
      "[Telescope] delta Alt = -023.038 | delta Az= +045.647 [Dome] delta Az = -002.998\n",
      "[Telescope] delta Alt = -023.045 | delta Az= +045.641 [Dome] delta Az = -002.998\n",
      "[Telescope] delta Alt = -023.053 | delta Az= +045.635 [Dome] delta Az = -002.998\n",
      "[Telescope] delta Alt = -023.059 | delta Az= +045.630 [Dome] delta Az = -002.998\n",
      "[Telescope] delta Alt = -023.067 | delta Az= +045.625 [Dome] delta Az = -002.998\n",
      "[Telescope] delta Alt = -023.074 | delta Az= +045.619 [Dome] delta Az = -002.998\n",
      "[Telescope] delta Alt = -023.081 | delta Az= +045.613 [Dome] delta Az = -002.998\n",
      "[Telescope] delta Alt = -023.088 | delta Az= +045.608 [Dome] delta Az = -002.998\n",
      "[Telescope] delta Alt = -023.096 | delta Az= +045.602 [Dome] delta Az = -002.998\n",
      "[Telescope] delta Alt = -023.103 | delta Az= +045.596 [Dome] delta Az = -002.998\n",
      "[Telescope] delta Alt = -023.109 | delta Az= +045.591 [Dome] delta Az = -002.998\n",
      "[Telescope] delta Alt = -023.117 | delta Az= +045.586 [Dome] delta Az = -002.998\n",
      "[Telescope] delta Alt = -023.124 | delta Az= +045.580 [Dome] delta Az = -002.998\n",
      "[Telescope] delta Alt = -023.131 | delta Az= +045.574 [Dome] delta Az = -002.998\n",
      "[Telescope] delta Alt = -023.138 | delta Az= +045.569 [Dome] delta Az = -002.998\n",
      "[Telescope] delta Alt = -023.145 | delta Az= +045.564 [Dome] delta Az = -002.998\n",
      "[Telescope] delta Alt = -023.152 | delta Az= +045.558 [Dome] delta Az = -002.998\n",
      "[Telescope] delta Alt = -023.159 | delta Az= +045.552 [Dome] delta Az = -002.998\n",
      "[Telescope] delta Alt = -023.167 | delta Az= +045.547 [Dome] delta Az = -002.998\n",
      "[Telescope] delta Alt = -023.174 | delta Az= +045.541 [Dome] delta Az = -002.998\n",
      "[Telescope] delta Alt = -023.180 | delta Az= +045.536 [Dome] delta Az = -002.998\n",
      "[Telescope] delta Alt = -023.188 | delta Az= +045.530 [Dome] delta Az = -002.998\n",
      "[Telescope] delta Alt = -023.195 | delta Az= +045.525 [Dome] delta Az = -002.998\n",
      "[Telescope] delta Alt = -023.202 | delta Az= +045.519 [Dome] delta Az = -002.998\n",
      "[Telescope] delta Alt = -023.210 | delta Az= +045.513 [Dome] delta Az = -002.998\n",
      "[Telescope] delta Alt = -023.216 | delta Az= +045.508 [Dome] delta Az = -002.998\n",
      "[Telescope] delta Alt = -023.224 | delta Az= +045.502 [Dome] delta Az = -002.998\n",
      "[Telescope] delta Alt = -023.231 | delta Az= +045.497 [Dome] delta Az = -002.998\n",
      "[Telescope] delta Alt = -023.238 | delta Az= +045.491 [Dome] delta Az = -002.998\n",
      "[Telescope] delta Alt = -023.245 | delta Az= +045.486 [Dome] delta Az = -002.998\n",
      "[Telescope] delta Alt = -023.252 | delta Az= +045.480 [Dome] delta Az = -002.998\n",
      "[Telescope] delta Alt = -023.259 | delta Az= +045.475 [Dome] delta Az = -002.998\n",
      "[Telescope] delta Alt = -023.266 | delta Az= +045.470 [Dome] delta Az = -002.998\n",
      "[Telescope] delta Alt = -023.274 | delta Az= +045.464 [Dome] delta Az = -002.998\n",
      "[Telescope] delta Alt = -023.281 | delta Az= +045.458 [Dome] delta Az = -002.998\n",
      "[Telescope] delta Alt = -023.288 | delta Az= +045.453 [Dome] delta Az = -002.998\n",
      "[Telescope] delta Alt = -023.295 | delta Az= +045.447 [Dome] delta Az = -002.998\n",
      "[Telescope] delta Alt = -023.303 | delta Az= +045.441 [Dome] delta Az = -002.998\n",
      "[Telescope] delta Alt = -023.309 | delta Az= +045.437 [Dome] delta Az = -002.998\n",
      "[Telescope] delta Alt = -023.316 | delta Az= +045.431 [Dome] delta Az = -002.998\n",
      "[Telescope] delta Alt = -023.324 | delta Az= +045.425 [Dome] delta Az = -002.998\n",
      "[Telescope] delta Alt = -023.330 | delta Az= +045.420 [Dome] delta Az = -002.998\n",
      "[Telescope] delta Alt = -023.334 | delta Az= +045.417 [Dome] delta Az = -002.998\n",
      "[Telescope] delta Alt = -023.341 | delta Az= +045.412 [Dome] delta Az = -002.998\n",
      "[Telescope] delta Alt = -023.349 | delta Az= +045.406 [Dome] delta Az = -002.998\n",
      "[Telescope] delta Alt = -023.356 | delta Az= +045.401 [Dome] delta Az = -002.998\n",
      "[Telescope] delta Alt = -023.363 | delta Az= +045.395 [Dome] delta Az = -002.998\n",
      "[Telescope] delta Alt = -023.370 | delta Az= +045.389 [Dome] delta Az = -002.998\n",
      "[Telescope] delta Alt = -023.377 | delta Az= +045.384 [Dome] delta Az = -002.998\n",
      "[Telescope] delta Alt = -023.384 | delta Az= +045.379 [Dome] delta Az = -002.998\n",
      "[Telescope] delta Alt = -023.391 | delta Az= +045.373 [Dome] delta Az = -002.998\n",
      "[Telescope] delta Alt = -023.398 | delta Az= +045.367 [Dome] delta Az = -002.998\n",
      "[Telescope] delta Alt = -023.406 | delta Az= +045.362 [Dome] delta Az = -002.998\n",
      "[Telescope] delta Alt = -023.413 | delta Az= +045.356 [Dome] delta Az = -002.998\n",
      "[Telescope] delta Alt = -023.420 | delta Az= +045.351 [Dome] delta Az = -002.998\n",
      "[Telescope] delta Alt = -023.427 | delta Az= +045.346 [Dome] delta Az = -002.998\n",
      "[Telescope] delta Alt = -023.434 | delta Az= +045.340 [Dome] delta Az = -002.998\n",
      "[Telescope] delta Alt = -023.441 | delta Az= +045.335 [Dome] delta Az = -002.998\n",
      "[Telescope] delta Alt = -023.449 | delta Az= +045.329 [Dome] delta Az = -002.998\n",
      "[Telescope] delta Alt = -023.456 | delta Az= +045.323 [Dome] delta Az = -002.998\n",
      "[Telescope] delta Alt = -023.462 | delta Az= +045.318 [Dome] delta Az = -002.998\n",
      "[Telescope] delta Alt = -023.470 | delta Az= +045.313 [Dome] delta Az = -002.998\n",
      "[Telescope] delta Alt = -023.477 | delta Az= +045.307 [Dome] delta Az = -002.998\n",
      "[Telescope] delta Alt = -023.484 | delta Az= +045.301 [Dome] delta Az = -002.998\n",
      "[Telescope] delta Alt = -023.492 | delta Az= +045.296 [Dome] delta Az = -002.998\n",
      "[Telescope] delta Alt = -023.499 | delta Az= +045.290 [Dome] delta Az = -002.998\n",
      "[Telescope] delta Alt = -023.505 | delta Az= +045.285 [Dome] delta Az = -002.998\n",
      "[Telescope] delta Alt = -023.513 | delta Az= +045.280 [Dome] delta Az = -002.998\n",
      "[Telescope] delta Alt = -023.520 | delta Az= +045.274 [Dome] delta Az = -002.998\n",
      "[Telescope] delta Alt = -023.527 | delta Az= +045.268 [Dome] delta Az = -002.998\n",
      "[Telescope] delta Alt = -023.534 | delta Az= +045.263 [Dome] delta Az = -002.998\n",
      "[Telescope] delta Alt = -023.541 | delta Az= +045.258 [Dome] delta Az = -002.998\n",
      "[Telescope] delta Alt = -023.548 | delta Az= +045.252 [Dome] delta Az = -002.998\n",
      "[Telescope] delta Alt = -023.556 | delta Az= +045.247 [Dome] delta Az = -002.998\n",
      "[Telescope] delta Alt = -023.563 | delta Az= +045.241 [Dome] delta Az = -002.998\n",
      "[Telescope] delta Alt = -023.570 | delta Az= +045.236 [Dome] delta Az = -002.998\n",
      "[Telescope] delta Alt = -023.577 | delta Az= +045.230 [Dome] delta Az = -002.998\n",
      "[Telescope] delta Alt = -023.584 | delta Az= +045.225 [Dome] delta Az = -002.998\n",
      "[Telescope] delta Alt = -023.592 | delta Az= +045.219 [Dome] delta Az = -002.998\n",
      "[Telescope] delta Alt = -023.598 | delta Az= +045.214 [Dome] delta Az = -002.998\n",
      "[Telescope] delta Alt = -023.606 | delta Az= +045.208 [Dome] delta Az = -002.998\n",
      "[Telescope] delta Alt = -023.613 | delta Az= +045.203 [Dome] delta Az = -002.998\n"
     ]
    },
    {
     "ename": "TimeoutError",
     "evalue": "",
     "output_type": "error",
     "traceback": [
      "\u001b[0;31m\u001b[0m",
      "\u001b[0;31mTimeoutError\u001b[0mTraceback (most recent call last)",
      "\u001b[0;32m<ipython-input-184-fc6d6b347f88>\u001b[0m in \u001b[0;36masync-def-wrapper\u001b[0;34m()\u001b[0m\n",
      "\u001b[0;32m~/repos/ts_standardscripts/python/lsst/ts/standardscripts/auxtel/attcs.py\u001b[0m in \u001b[0;36mslew_object\u001b[0;34m(self, name, rot_sky, pa_ang, rot_pa, slew_timeout, track_id)\u001b[0m\n\u001b[1;32m    187\u001b[0m                              \u001b[0mtarget_name\u001b[0m\u001b[0;34m=\u001b[0m\u001b[0mname\u001b[0m\u001b[0;34m,\u001b[0m\u001b[0;34m\u001b[0m\u001b[0;34m\u001b[0m\u001b[0m\n\u001b[1;32m    188\u001b[0m                              \u001b[0mslew_timeout\u001b[0m\u001b[0;34m=\u001b[0m\u001b[0mslew_timeout\u001b[0m\u001b[0;34m,\u001b[0m\u001b[0;34m\u001b[0m\u001b[0;34m\u001b[0m\u001b[0m\n\u001b[0;32m--> 189\u001b[0;31m                              track_id=track_id)\n\u001b[0m\u001b[1;32m    190\u001b[0m \u001b[0;34m\u001b[0m\u001b[0m\n\u001b[1;32m    191\u001b[0m     async def slew_icrs(self, ra, dec, rot_sky=None, pa_ang=None, rot_pa=0.,\n",
      "\u001b[0;32m~/repos/ts_standardscripts/python/lsst/ts/standardscripts/auxtel/attcs.py\u001b[0m in \u001b[0;36mslew_icrs\u001b[0;34m(self, ra, dec, rot_sky, pa_ang, rot_pa, target_name, slew_timeout, track_id)\u001b[0m\n\u001b[1;32m    267\u001b[0m                         \u001b[0mrot_mode\u001b[0m\u001b[0;34m=\u001b[0m\u001b[0mATPtg\u001b[0m\u001b[0;34m.\u001b[0m\u001b[0mRotMode\u001b[0m\u001b[0;34m.\u001b[0m\u001b[0mFIELD\u001b[0m\u001b[0;34m,\u001b[0m\u001b[0;34m\u001b[0m\u001b[0;34m\u001b[0m\u001b[0m\n\u001b[1;32m    268\u001b[0m                         \u001b[0mslew_timeout\u001b[0m\u001b[0;34m=\u001b[0m\u001b[0mslew_timeout\u001b[0m\u001b[0;34m,\u001b[0m\u001b[0;34m\u001b[0m\u001b[0;34m\u001b[0m\u001b[0m\n\u001b[0;32m--> 269\u001b[0;31m                         track_id=track_id)\n\u001b[0m\u001b[1;32m    270\u001b[0m \u001b[0;34m\u001b[0m\u001b[0m\n\u001b[1;32m    271\u001b[0m     async def slew(self, ra, dec, rotPA=0., target_name=\"slew_icrs\",\n",
      "\u001b[0;32m~/repos/ts_standardscripts/python/lsst/ts/standardscripts/auxtel/attcs.py\u001b[0m in \u001b[0;36mslew\u001b[0;34m(self, ra, dec, rotPA, target_name, target_instance, frame, epoch, equinox, parallax, pmRA, pmDec, rv, dRA, dDec, rot_frame, rot_mode, slew_timeout, track_id)\u001b[0m\n\u001b[1;32m    313\u001b[0m \u001b[0;34m\u001b[0m\u001b[0m\n\u001b[1;32m    314\u001b[0m         await self._slew_to(self.atptg.cmd_raDecTarget,\n\u001b[0;32m--> 315\u001b[0;31m                             slew_timeout=slew_timeout)\n\u001b[0m\u001b[1;32m    316\u001b[0m \u001b[0;34m\u001b[0m\u001b[0m\n\u001b[1;32m    317\u001b[0m     async def slew_to_planet(self, planet,\n",
      "\u001b[0;32m~/repos/ts_standardscripts/python/lsst/ts/standardscripts/auxtel/attcs.py\u001b[0m in \u001b[0;36m_slew_to\u001b[0;34m(self, slew_cmd, slew_timeout)\u001b[0m\n\u001b[1;32m    833\u001b[0m         \u001b[0;32mfor\u001b[0m \u001b[0mres\u001b[0m \u001b[0;32min\u001b[0m \u001b[0masyncio\u001b[0m\u001b[0;34m.\u001b[0m\u001b[0mas_completed\u001b[0m\u001b[0;34m(\u001b[0m\u001b[0mcoro_list\u001b[0m\u001b[0;34m)\u001b[0m\u001b[0;34m:\u001b[0m\u001b[0;34m\u001b[0m\u001b[0;34m\u001b[0m\u001b[0m\n\u001b[1;32m    834\u001b[0m             \u001b[0;32mtry\u001b[0m\u001b[0;34m:\u001b[0m\u001b[0;34m\u001b[0m\u001b[0;34m\u001b[0m\u001b[0m\n\u001b[0;32m--> 835\u001b[0;31m                 \u001b[0mret_val\u001b[0m \u001b[0;34m=\u001b[0m \u001b[0;32mawait\u001b[0m \u001b[0mres\u001b[0m\u001b[0;34m\u001b[0m\u001b[0;34m\u001b[0m\u001b[0m\n\u001b[0m\u001b[1;32m    836\u001b[0m                 \u001b[0mself\u001b[0m\u001b[0;34m.\u001b[0m\u001b[0mlog\u001b[0m\u001b[0;34m.\u001b[0m\u001b[0mdebug\u001b[0m\u001b[0;34m(\u001b[0m\u001b[0mret_val\u001b[0m\u001b[0;34m)\u001b[0m\u001b[0;34m\u001b[0m\u001b[0;34m\u001b[0m\u001b[0m\n\u001b[1;32m    837\u001b[0m             \u001b[0;32mexcept\u001b[0m \u001b[0mRuntimeError\u001b[0m \u001b[0;32mas\u001b[0m \u001b[0mrte\u001b[0m\u001b[0;34m:\u001b[0m\u001b[0;34m\u001b[0m\u001b[0;34m\u001b[0m\u001b[0m\n",
      "\u001b[0;32m/opt/lsst/software/stack/python/miniconda3-4.7.10/envs/lsst-scipipe-4d7b902/lib/python3.7/asyncio/tasks.py\u001b[0m in \u001b[0;36m_wait_for_one\u001b[0;34m()\u001b[0m\n\u001b[1;32m    531\u001b[0m             \u001b[0;31m# Dummy value from _on_timeout().\u001b[0m\u001b[0;34m\u001b[0m\u001b[0;34m\u001b[0m\u001b[0;34m\u001b[0m\u001b[0m\n\u001b[1;32m    532\u001b[0m             \u001b[0;32mraise\u001b[0m \u001b[0mfutures\u001b[0m\u001b[0;34m.\u001b[0m\u001b[0mTimeoutError\u001b[0m\u001b[0;34m\u001b[0m\u001b[0;34m\u001b[0m\u001b[0m\n\u001b[0;32m--> 533\u001b[0;31m         \u001b[0;32mreturn\u001b[0m \u001b[0mf\u001b[0m\u001b[0;34m.\u001b[0m\u001b[0mresult\u001b[0m\u001b[0;34m(\u001b[0m\u001b[0;34m)\u001b[0m  \u001b[0;31m# May raise f.exception().\u001b[0m\u001b[0;34m\u001b[0m\u001b[0;34m\u001b[0m\u001b[0m\n\u001b[0m\u001b[1;32m    534\u001b[0m \u001b[0;34m\u001b[0m\u001b[0m\n\u001b[1;32m    535\u001b[0m     \u001b[0;32mfor\u001b[0m \u001b[0mf\u001b[0m \u001b[0;32min\u001b[0m \u001b[0mtodo\u001b[0m\u001b[0;34m:\u001b[0m\u001b[0;34m\u001b[0m\u001b[0;34m\u001b[0m\u001b[0m\n",
      "\u001b[0;32m~/repos/ts_standardscripts/python/lsst/ts/standardscripts/auxtel/attcs.py\u001b[0m in \u001b[0;36mwait_for_inposition\u001b[0;34m(self, timeout, cmd_ack)\u001b[0m\n\u001b[1;32m    919\u001b[0m \u001b[0;34m\u001b[0m\u001b[0m\n\u001b[1;32m    920\u001b[0m         \u001b[0;32mif\u001b[0m \u001b[0mself\u001b[0m\u001b[0;34m.\u001b[0m\u001b[0mcheck\u001b[0m\u001b[0;34m.\u001b[0m\u001b[0matmcs\u001b[0m\u001b[0;34m:\u001b[0m\u001b[0;34m\u001b[0m\u001b[0;34m\u001b[0m\u001b[0m\n\u001b[0;32m--> 921\u001b[0;31m             \u001b[0mstatus\u001b[0m\u001b[0;34m.\u001b[0m\u001b[0mappend\u001b[0m\u001b[0;34m(\u001b[0m\u001b[0;32mawait\u001b[0m \u001b[0mself\u001b[0m\u001b[0;34m.\u001b[0m\u001b[0mwait_for_atmcs_inposition\u001b[0m\u001b[0;34m(\u001b[0m\u001b[0mtimeout\u001b[0m\u001b[0;34m,\u001b[0m \u001b[0mcmd_ack\u001b[0m\u001b[0;34m)\u001b[0m\u001b[0;34m)\u001b[0m\u001b[0;34m\u001b[0m\u001b[0;34m\u001b[0m\u001b[0m\n\u001b[0m\u001b[1;32m    922\u001b[0m \u001b[0;34m\u001b[0m\u001b[0m\n\u001b[1;32m    923\u001b[0m         \u001b[0;32mif\u001b[0m \u001b[0mself\u001b[0m\u001b[0;34m.\u001b[0m\u001b[0mcheck\u001b[0m\u001b[0;34m.\u001b[0m\u001b[0matdome\u001b[0m\u001b[0;34m:\u001b[0m\u001b[0;34m\u001b[0m\u001b[0;34m\u001b[0m\u001b[0m\n",
      "\u001b[0;32m~/repos/ts_standardscripts/python/lsst/ts/standardscripts/auxtel/attcs.py\u001b[0m in \u001b[0;36mwait_for_atmcs_inposition\u001b[0;34m(self, timeout, cmd_ack)\u001b[0m\n\u001b[1;32m    954\u001b[0m                 \u001b[0;32mtry\u001b[0m\u001b[0;34m:\u001b[0m\u001b[0;34m\u001b[0m\u001b[0;34m\u001b[0m\u001b[0m\n\u001b[1;32m    955\u001b[0m                     in_position = await self.atmcs.evt_allAxesInPosition.next(flush=False,\n\u001b[0;32m--> 956\u001b[0;31m                                                                               timeout=timeout)\n\u001b[0m\u001b[1;32m    957\u001b[0m                 \u001b[0;32mexcept\u001b[0m \u001b[0mIndexError\u001b[0m\u001b[0;34m:\u001b[0m\u001b[0;34m\u001b[0m\u001b[0;34m\u001b[0m\u001b[0m\n\u001b[1;32m    958\u001b[0m                     \u001b[0min_position\u001b[0m \u001b[0;34m=\u001b[0m \u001b[0;32mawait\u001b[0m \u001b[0mself\u001b[0m\u001b[0;34m.\u001b[0m\u001b[0matmcs\u001b[0m\u001b[0;34m.\u001b[0m\u001b[0mevt_allAxesInPosition\u001b[0m\u001b[0;34m.\u001b[0m\u001b[0maget\u001b[0m\u001b[0;34m(\u001b[0m\u001b[0mtimeout\u001b[0m\u001b[0;34m=\u001b[0m\u001b[0mtimeout\u001b[0m\u001b[0;34m)\u001b[0m\u001b[0;34m\u001b[0m\u001b[0;34m\u001b[0m\u001b[0m\n",
      "\u001b[0;32m~/repos/ts_salobj/python/lsst/ts/salobj/topics/read_topic.py\u001b[0m in \u001b[0;36mnext\u001b[0;34m(self, flush, timeout)\u001b[0m\n\u001b[1;32m    382\u001b[0m         \u001b[0;32mif\u001b[0m \u001b[0mflush\u001b[0m\u001b[0;34m:\u001b[0m\u001b[0;34m\u001b[0m\u001b[0;34m\u001b[0m\u001b[0m\n\u001b[1;32m    383\u001b[0m             \u001b[0mself\u001b[0m\u001b[0;34m.\u001b[0m\u001b[0mflush\u001b[0m\u001b[0;34m(\u001b[0m\u001b[0;34m)\u001b[0m\u001b[0;34m\u001b[0m\u001b[0;34m\u001b[0m\u001b[0m\n\u001b[0;32m--> 384\u001b[0;31m         \u001b[0;32mreturn\u001b[0m \u001b[0;32mawait\u001b[0m \u001b[0mself\u001b[0m\u001b[0;34m.\u001b[0m\u001b[0m_next\u001b[0m\u001b[0;34m(\u001b[0m\u001b[0mtimeout\u001b[0m\u001b[0;34m=\u001b[0m\u001b[0mtimeout\u001b[0m\u001b[0;34m)\u001b[0m\u001b[0;34m\u001b[0m\u001b[0;34m\u001b[0m\u001b[0m\n\u001b[0m\u001b[1;32m    385\u001b[0m \u001b[0;34m\u001b[0m\u001b[0m\n\u001b[1;32m    386\u001b[0m     \u001b[0;32masync\u001b[0m \u001b[0;32mdef\u001b[0m \u001b[0m_next\u001b[0m\u001b[0;34m(\u001b[0m\u001b[0mself\u001b[0m\u001b[0;34m,\u001b[0m \u001b[0;34m*\u001b[0m\u001b[0;34m,\u001b[0m \u001b[0mtimeout\u001b[0m\u001b[0;34m=\u001b[0m\u001b[0;32mNone\u001b[0m\u001b[0;34m)\u001b[0m\u001b[0;34m:\u001b[0m\u001b[0;34m\u001b[0m\u001b[0;34m\u001b[0m\u001b[0m\n",
      "\u001b[0;32m~/repos/ts_salobj/python/lsst/ts/salobj/topics/read_topic.py\u001b[0m in \u001b[0;36m_next\u001b[0;34m(self, timeout)\u001b[0m\n\u001b[1;32m    395\u001b[0m         \u001b[0;32mif\u001b[0m \u001b[0mself\u001b[0m\u001b[0;34m.\u001b[0m\u001b[0m_next_task\u001b[0m\u001b[0;34m.\u001b[0m\u001b[0mdone\u001b[0m\u001b[0;34m(\u001b[0m\u001b[0;34m)\u001b[0m\u001b[0;34m:\u001b[0m\u001b[0;34m\u001b[0m\u001b[0;34m\u001b[0m\u001b[0m\n\u001b[1;32m    396\u001b[0m             \u001b[0mself\u001b[0m\u001b[0;34m.\u001b[0m\u001b[0m_next_task\u001b[0m \u001b[0;34m=\u001b[0m \u001b[0masyncio\u001b[0m\u001b[0;34m.\u001b[0m\u001b[0mFuture\u001b[0m\u001b[0;34m(\u001b[0m\u001b[0;34m)\u001b[0m\u001b[0;34m\u001b[0m\u001b[0;34m\u001b[0m\u001b[0m\n\u001b[0;32m--> 397\u001b[0;31m         \u001b[0;32mawait\u001b[0m \u001b[0masyncio\u001b[0m\u001b[0;34m.\u001b[0m\u001b[0mwait_for\u001b[0m\u001b[0;34m(\u001b[0m\u001b[0mself\u001b[0m\u001b[0;34m.\u001b[0m\u001b[0m_next_task\u001b[0m\u001b[0;34m,\u001b[0m \u001b[0mtimeout\u001b[0m\u001b[0;34m=\u001b[0m\u001b[0mtimeout\u001b[0m\u001b[0;34m)\u001b[0m\u001b[0;34m\u001b[0m\u001b[0;34m\u001b[0m\u001b[0m\n\u001b[0m\u001b[1;32m    398\u001b[0m         \u001b[0;32mreturn\u001b[0m \u001b[0mself\u001b[0m\u001b[0;34m.\u001b[0m\u001b[0m_data_queue\u001b[0m\u001b[0;34m.\u001b[0m\u001b[0mpopleft\u001b[0m\u001b[0;34m(\u001b[0m\u001b[0;34m)\u001b[0m\u001b[0;34m\u001b[0m\u001b[0;34m\u001b[0m\u001b[0m\n\u001b[1;32m    399\u001b[0m \u001b[0;34m\u001b[0m\u001b[0m\n",
      "\u001b[0;32m/opt/lsst/software/stack/python/miniconda3-4.7.10/envs/lsst-scipipe-4d7b902/lib/python3.7/asyncio/tasks.py\u001b[0m in \u001b[0;36mwait_for\u001b[0;34m(fut, timeout, loop)\u001b[0m\n\u001b[1;32m    421\u001b[0m             \u001b[0;31m# See https://bugs.python.org/issue32751\u001b[0m\u001b[0;34m\u001b[0m\u001b[0;34m\u001b[0m\u001b[0;34m\u001b[0m\u001b[0m\n\u001b[1;32m    422\u001b[0m             \u001b[0;32mawait\u001b[0m \u001b[0m_cancel_and_wait\u001b[0m\u001b[0;34m(\u001b[0m\u001b[0mfut\u001b[0m\u001b[0;34m,\u001b[0m \u001b[0mloop\u001b[0m\u001b[0;34m=\u001b[0m\u001b[0mloop\u001b[0m\u001b[0;34m)\u001b[0m\u001b[0;34m\u001b[0m\u001b[0;34m\u001b[0m\u001b[0m\n\u001b[0;32m--> 423\u001b[0;31m             \u001b[0;32mraise\u001b[0m \u001b[0mfutures\u001b[0m\u001b[0;34m.\u001b[0m\u001b[0mTimeoutError\u001b[0m\u001b[0;34m(\u001b[0m\u001b[0;34m)\u001b[0m\u001b[0;34m\u001b[0m\u001b[0;34m\u001b[0m\u001b[0m\n\u001b[0m\u001b[1;32m    424\u001b[0m     \u001b[0;32mfinally\u001b[0m\u001b[0;34m:\u001b[0m\u001b[0;34m\u001b[0m\u001b[0;34m\u001b[0m\u001b[0m\n\u001b[1;32m    425\u001b[0m         \u001b[0mtimeout_handle\u001b[0m\u001b[0;34m.\u001b[0m\u001b[0mcancel\u001b[0m\u001b[0;34m(\u001b[0m\u001b[0;34m)\u001b[0m\u001b[0;34m\u001b[0m\u001b[0;34m\u001b[0m\u001b[0m\n",
      "\u001b[0;31mTimeoutError\u001b[0m: "
     ]
    },
    {
     "name": "stdout",
     "output_type": "stream",
     "text": [
      "[Telescope] delta Alt = -023.620 | delta Az= +045.197 [Dome] delta Az = -002.998\n",
      "[Telescope] delta Alt = -023.627 | delta Az= +045.192 [Dome] delta Az = -002.998\n",
      "[Telescope] delta Alt = -023.634 | delta Az= +045.187 [Dome] delta Az = -002.998\n",
      "[Telescope] delta Alt = -023.641 | delta Az= +045.181 [Dome] delta Az = -002.998\n",
      "[Telescope] delta Alt = -023.649 | delta Az= +045.175 [Dome] delta Az = -002.998\n",
      "[Telescope] delta Alt = -023.656 | delta Az= +045.170 [Dome] delta Az = -002.998\n",
      "[Telescope] delta Alt = -023.662 | delta Az= +045.165 [Dome] delta Az = -002.998\n",
      "[Telescope] delta Alt = -023.670 | delta Az= +045.159 [Dome] delta Az = -002.998\n",
      "[Telescope] delta Alt = -023.677 | delta Az= +045.154 [Dome] delta Az = -002.998\n",
      "[Telescope] delta Alt = -023.684 | delta Az= +045.148 [Dome] delta Az = -002.998\n",
      "[Telescope] delta Alt = -023.691 | delta Az= +045.143 [Dome] delta Az = -002.998\n",
      "[Telescope] delta Alt = -023.699 | delta Az= +045.137 [Dome] delta Az = -002.998\n",
      "[Telescope] delta Alt = -023.705 | delta Az= +045.132 [Dome] delta Az = -002.998\n",
      "[Telescope] delta Alt = -023.713 | delta Az= +045.127 [Dome] delta Az = -002.998\n",
      "[Telescope] delta Alt = -023.720 | delta Az= +045.121 [Dome] delta Az = -002.998\n",
      "[Telescope] delta Alt = -023.727 | delta Az= +045.115 [Dome] delta Az = -002.998\n",
      "[Telescope] delta Alt = -023.734 | delta Az= +045.110 [Dome] delta Az = -002.998\n",
      "[Telescope] delta Alt = -023.741 | delta Az= +045.105 [Dome] delta Az = -002.998\n",
      "[Telescope] delta Alt = -023.748 | delta Az= +045.099 [Dome] delta Az = -002.998\n",
      "[Telescope] delta Alt = -023.755 | delta Az= +045.094 [Dome] delta Az = -002.998\n",
      "[Telescope] delta Alt = -023.763 | delta Az= +045.088 [Dome] delta Az = -002.998\n",
      "[Telescope] delta Alt = -023.770 | delta Az= +045.083 [Dome] delta Az = -002.998\n",
      "[Telescope] delta Alt = -023.777 | delta Az= +045.077 [Dome] delta Az = -002.998\n",
      "[Telescope] delta Alt = -023.784 | delta Az= +045.072 [Dome] delta Az = -002.998\n",
      "[Telescope] delta Alt = -023.791 | delta Az= +045.067 [Dome] delta Az = -002.998\n",
      "[Telescope] delta Alt = -023.798 | delta Az= +045.061 [Dome] delta Az = -002.998\n",
      "[Telescope] delta Alt = -023.806 | delta Az= +045.055 [Dome] delta Az = -002.998\n",
      "[Telescope] delta Alt = -023.813 | delta Az= +045.050 [Dome] delta Az = -002.998\n",
      "[Telescope] delta Alt = -023.819 | delta Az= +045.045 [Dome] delta Az = -002.998\n",
      "[Telescope] delta Alt = -023.827 | delta Az= +045.040 [Dome] delta Az = -002.998\n",
      "[Telescope] delta Alt = -023.834 | delta Az= +045.034 [Dome] delta Az = -002.998\n",
      "[Telescope] delta Alt = -023.841 | delta Az= +045.028 [Dome] delta Az = -002.998\n",
      "[Telescope] delta Alt = -023.848 | delta Az= +045.023 [Dome] delta Az = -002.998\n",
      "[Telescope] delta Alt = -023.855 | delta Az= +045.018 [Dome] delta Az = -002.998\n",
      "[Telescope] delta Alt = -023.862 | delta Az= +045.012 [Dome] delta Az = -002.998\n",
      "[Telescope] delta Alt = -023.870 | delta Az= +045.007 [Dome] delta Az = -002.998\n",
      "[Telescope] delta Alt = -023.877 | delta Az= +045.002 [Dome] delta Az = -002.998\n",
      "[Telescope] delta Alt = -023.884 | delta Az= +044.996 [Dome] delta Az = -002.998\n",
      "[Telescope] delta Alt = -023.891 | delta Az= +044.990 [Dome] delta Az = -002.998\n",
      "[Telescope] delta Alt = -023.898 | delta Az= +044.985 [Dome] delta Az = -002.998\n",
      "[Telescope] delta Alt = -023.906 | delta Az= +044.979 [Dome] delta Az = -002.998\n",
      "[Telescope] delta Alt = -023.912 | delta Az= +044.974 [Dome] delta Az = -002.998\n",
      "[Telescope] delta Alt = -023.920 | delta Az= +044.969 [Dome] delta Az = -002.998\n",
      "[Telescope] delta Alt = -023.927 | delta Az= +044.963 [Dome] delta Az = -002.998\n",
      "[Telescope] delta Alt = -023.934 | delta Az= +044.958 [Dome] delta Az = -002.998\n",
      "[Telescope] delta Alt = -023.941 | delta Az= +044.953 [Dome] delta Az = -002.998\n",
      "[Telescope] delta Alt = -023.948 | delta Az= +044.947 [Dome] delta Az = -002.998\n",
      "[Telescope] delta Alt = -023.955 | delta Az= +044.942 [Dome] delta Az = -002.998\n",
      "[Telescope] delta Alt = -023.963 | delta Az= +044.936 [Dome] delta Az = -002.998\n",
      "[Telescope] delta Alt = -023.970 | delta Az= +044.931 [Dome] delta Az = -002.998\n",
      "[Telescope] delta Alt = -023.977 | delta Az= +044.925 [Dome] delta Az = -002.998\n",
      "[Telescope] delta Alt = -023.984 | delta Az= +044.920 [Dome] delta Az = -002.998\n",
      "[Telescope] delta Alt = -023.991 | delta Az= +044.915 [Dome] delta Az = -002.998\n",
      "[Telescope] delta Alt = -023.998 | delta Az= +044.909 [Dome] delta Az = -002.998\n",
      "[Telescope] delta Alt = -024.006 | delta Az= +044.904 [Dome] delta Az = -002.998\n",
      "[Telescope] delta Alt = -024.013 | delta Az= +044.898 [Dome] delta Az = -002.998\n",
      "[Telescope] delta Alt = -024.020 | delta Az= +044.893 [Dome] delta Az = -002.998\n",
      "[Telescope] delta Alt = -024.027 | delta Az= +044.888 [Dome] delta Az = -002.998\n",
      "[Telescope] delta Alt = -024.034 | delta Az= +044.882 [Dome] delta Az = -002.998\n",
      "[Telescope] delta Alt = -024.041 | delta Az= +044.877 [Dome] delta Az = -002.998\n",
      "[Telescope] delta Alt = -024.049 | delta Az= +044.871 [Dome] delta Az = -002.998\n"
     ]
    }
   ],
   "source": [
    "await attcs.slew_object(name = \"HD 54576\", pa_ang = 0.0, slew_timeout = 240.0)"
   ]
  },
  {
   "cell_type": "code",
   "execution_count": 185,
   "metadata": {},
   "outputs": [
    {
     "data": {
      "text/plain": [
       "<lsst.ts.salobj.ddsutil.ATPtg_ackcmd_2d655b72 at 0x7f8c1443bf60>"
      ]
     },
     "execution_count": 185,
     "metadata": {},
     "output_type": "execute_result"
    },
    {
     "name": "stdout",
     "output_type": "stream",
     "text": [
      "[Telescope] delta Alt = -024.055 | delta Az= +044.866 [Dome] delta Az = -002.998\n",
      "[Telescope] delta Alt = -024.062 | delta Az= +044.861 [Dome] delta Az = -002.998\n",
      "[Telescope] delta Alt = -024.070 | delta Az= +044.855 [Dome] delta Az = -002.998\n",
      "[Telescope] delta Alt = -024.077 | delta Az= +044.850 [Dome] delta Az = -002.998\n",
      "[Telescope] delta Alt = -024.084 | delta Az= +044.844 [Dome] delta Az = -002.998\n",
      "[Telescope] delta Alt = -024.092 | delta Az= +044.839 [Dome] delta Az = -002.998\n",
      "[Telescope] delta Alt = -024.098 | delta Az= +044.834 [Dome] delta Az = -002.998\n",
      "[Telescope] delta Alt = -024.105 | delta Az= +044.829 [Dome] delta Az = -002.998\n"
     ]
    }
   ],
   "source": [
    "await attcs.atptg.cmd_focusName.set_start(focus=3)"
   ]
  },
  {
   "cell_type": "code",
   "execution_count": 186,
   "metadata": {},
   "outputs": [
    {
     "name": "stdout",
     "output_type": "stream",
     "text": [
      "Slewing to HD 54576: 07 08 37.7400 -17 38 05.028\n",
      "Parallactic angle: 116.14768655601128 | Sky Angle: 125.01756098633894\n",
      "Sending command\n",
      "Stop tracking.\n",
      "Mount tracking state is 8\n",
      "In Position: False.\n",
      "Scheduling check coroutines\n",
      "process as completed...\n",
      "Got False\n",
      "Telescope not in position\n",
      "atmcs: <State.ENABLED: 2>\n",
      "atptg: <State.ENABLED: 2>\n",
      "ataos: <State.ENABLED: 2>\n",
      "atpneumatics: <State.ENABLED: 2>\n",
      "athexapod: <State.ENABLED: 2>\n",
      "atdome: <State.ENABLED: 2>\n",
      "atdometrajectory: <State.ENABLED: 2>\n"
     ]
    },
    {
     "ename": "IndexError",
     "evalue": "pop from an empty deque",
     "output_type": "error",
     "traceback": [
      "\u001b[0;31m\u001b[0m",
      "\u001b[0;31mIndexError\u001b[0mTraceback (most recent call last)",
      "\u001b[0;32m<ipython-input-186-fc6d6b347f88>\u001b[0m in \u001b[0;36masync-def-wrapper\u001b[0;34m()\u001b[0m\n",
      "\u001b[0;32m~/repos/ts_standardscripts/python/lsst/ts/standardscripts/auxtel/attcs.py\u001b[0m in \u001b[0;36mslew_object\u001b[0;34m(self, name, rot_sky, pa_ang, rot_pa, slew_timeout, track_id)\u001b[0m\n\u001b[1;32m    187\u001b[0m                              \u001b[0mtarget_name\u001b[0m\u001b[0;34m=\u001b[0m\u001b[0mname\u001b[0m\u001b[0;34m,\u001b[0m\u001b[0;34m\u001b[0m\u001b[0;34m\u001b[0m\u001b[0m\n\u001b[1;32m    188\u001b[0m                              \u001b[0mslew_timeout\u001b[0m\u001b[0;34m=\u001b[0m\u001b[0mslew_timeout\u001b[0m\u001b[0;34m,\u001b[0m\u001b[0;34m\u001b[0m\u001b[0;34m\u001b[0m\u001b[0m\n\u001b[0;32m--> 189\u001b[0;31m                              track_id=track_id)\n\u001b[0m\u001b[1;32m    190\u001b[0m \u001b[0;34m\u001b[0m\u001b[0m\n\u001b[1;32m    191\u001b[0m     async def slew_icrs(self, ra, dec, rot_sky=None, pa_ang=None, rot_pa=0.,\n",
      "\u001b[0;32m~/repos/ts_standardscripts/python/lsst/ts/standardscripts/auxtel/attcs.py\u001b[0m in \u001b[0;36mslew_icrs\u001b[0;34m(self, ra, dec, rot_sky, pa_ang, rot_pa, target_name, slew_timeout, track_id)\u001b[0m\n\u001b[1;32m    267\u001b[0m                         \u001b[0mrot_mode\u001b[0m\u001b[0;34m=\u001b[0m\u001b[0mATPtg\u001b[0m\u001b[0;34m.\u001b[0m\u001b[0mRotMode\u001b[0m\u001b[0;34m.\u001b[0m\u001b[0mFIELD\u001b[0m\u001b[0;34m,\u001b[0m\u001b[0;34m\u001b[0m\u001b[0;34m\u001b[0m\u001b[0m\n\u001b[1;32m    268\u001b[0m                         \u001b[0mslew_timeout\u001b[0m\u001b[0;34m=\u001b[0m\u001b[0mslew_timeout\u001b[0m\u001b[0;34m,\u001b[0m\u001b[0;34m\u001b[0m\u001b[0;34m\u001b[0m\u001b[0m\n\u001b[0;32m--> 269\u001b[0;31m                         track_id=track_id)\n\u001b[0m\u001b[1;32m    270\u001b[0m \u001b[0;34m\u001b[0m\u001b[0m\n\u001b[1;32m    271\u001b[0m     async def slew(self, ra, dec, rotPA=0., target_name=\"slew_icrs\",\n",
      "\u001b[0;32m~/repos/ts_standardscripts/python/lsst/ts/standardscripts/auxtel/attcs.py\u001b[0m in \u001b[0;36mslew\u001b[0;34m(self, ra, dec, rotPA, target_name, target_instance, frame, epoch, equinox, parallax, pmRA, pmDec, rv, dRA, dDec, rot_frame, rot_mode, slew_timeout, track_id)\u001b[0m\n\u001b[1;32m    313\u001b[0m \u001b[0;34m\u001b[0m\u001b[0m\n\u001b[1;32m    314\u001b[0m         await self._slew_to(self.atptg.cmd_raDecTarget,\n\u001b[0;32m--> 315\u001b[0;31m                             slew_timeout=slew_timeout)\n\u001b[0m\u001b[1;32m    316\u001b[0m \u001b[0;34m\u001b[0m\u001b[0m\n\u001b[1;32m    317\u001b[0m     async def slew_to_planet(self, planet,\n",
      "\u001b[0;32m~/repos/ts_standardscripts/python/lsst/ts/standardscripts/auxtel/attcs.py\u001b[0m in \u001b[0;36m_slew_to\u001b[0;34m(self, slew_cmd, slew_timeout)\u001b[0m\n\u001b[1;32m    833\u001b[0m         \u001b[0;32mfor\u001b[0m \u001b[0mres\u001b[0m \u001b[0;32min\u001b[0m \u001b[0masyncio\u001b[0m\u001b[0;34m.\u001b[0m\u001b[0mas_completed\u001b[0m\u001b[0;34m(\u001b[0m\u001b[0mcoro_list\u001b[0m\u001b[0;34m)\u001b[0m\u001b[0;34m:\u001b[0m\u001b[0;34m\u001b[0m\u001b[0;34m\u001b[0m\u001b[0m\n\u001b[1;32m    834\u001b[0m             \u001b[0;32mtry\u001b[0m\u001b[0;34m:\u001b[0m\u001b[0;34m\u001b[0m\u001b[0;34m\u001b[0m\u001b[0m\n\u001b[0;32m--> 835\u001b[0;31m                 \u001b[0mret_val\u001b[0m \u001b[0;34m=\u001b[0m \u001b[0;32mawait\u001b[0m \u001b[0mres\u001b[0m\u001b[0;34m\u001b[0m\u001b[0;34m\u001b[0m\u001b[0m\n\u001b[0m\u001b[1;32m    836\u001b[0m                 \u001b[0mself\u001b[0m\u001b[0;34m.\u001b[0m\u001b[0mlog\u001b[0m\u001b[0;34m.\u001b[0m\u001b[0mdebug\u001b[0m\u001b[0;34m(\u001b[0m\u001b[0mret_val\u001b[0m\u001b[0;34m)\u001b[0m\u001b[0;34m\u001b[0m\u001b[0;34m\u001b[0m\u001b[0m\n\u001b[1;32m    837\u001b[0m             \u001b[0;32mexcept\u001b[0m \u001b[0mRuntimeError\u001b[0m \u001b[0;32mas\u001b[0m \u001b[0mrte\u001b[0m\u001b[0;34m:\u001b[0m\u001b[0;34m\u001b[0m\u001b[0;34m\u001b[0m\u001b[0m\n",
      "\u001b[0;32m/opt/lsst/software/stack/python/miniconda3-4.7.10/envs/lsst-scipipe-4d7b902/lib/python3.7/asyncio/tasks.py\u001b[0m in \u001b[0;36m_wait_for_one\u001b[0;34m()\u001b[0m\n\u001b[1;32m    531\u001b[0m             \u001b[0;31m# Dummy value from _on_timeout().\u001b[0m\u001b[0;34m\u001b[0m\u001b[0;34m\u001b[0m\u001b[0;34m\u001b[0m\u001b[0m\n\u001b[1;32m    532\u001b[0m             \u001b[0;32mraise\u001b[0m \u001b[0mfutures\u001b[0m\u001b[0;34m.\u001b[0m\u001b[0mTimeoutError\u001b[0m\u001b[0;34m\u001b[0m\u001b[0;34m\u001b[0m\u001b[0m\n\u001b[0;32m--> 533\u001b[0;31m         \u001b[0;32mreturn\u001b[0m \u001b[0mf\u001b[0m\u001b[0;34m.\u001b[0m\u001b[0mresult\u001b[0m\u001b[0;34m(\u001b[0m\u001b[0;34m)\u001b[0m  \u001b[0;31m# May raise f.exception().\u001b[0m\u001b[0;34m\u001b[0m\u001b[0;34m\u001b[0m\u001b[0m\n\u001b[0m\u001b[1;32m    534\u001b[0m \u001b[0;34m\u001b[0m\u001b[0m\n\u001b[1;32m    535\u001b[0m     \u001b[0;32mfor\u001b[0m \u001b[0mf\u001b[0m \u001b[0;32min\u001b[0m \u001b[0mtodo\u001b[0m\u001b[0;34m:\u001b[0m\u001b[0;34m\u001b[0m\u001b[0;34m\u001b[0m\u001b[0m\n",
      "\u001b[0;32m~/repos/ts_standardscripts/python/lsst/ts/standardscripts/auxtel/attcs.py\u001b[0m in \u001b[0;36mmonitor_position\u001b[0;34m(self, check_atmcs, check_atdome)\u001b[0m\n\u001b[1;32m   1077\u001b[0m                                                             timeout=self.fast_timeout)\n\u001b[1;32m   1078\u001b[0m                 tel_pos = await self.atmcs.tel_mount_AzEl_Encoders.next(flush=True,\n\u001b[0;32m-> 1079\u001b[0;31m                                                                         timeout=self.fast_timeout)\n\u001b[0m\u001b[1;32m   1080\u001b[0m                 \u001b[0malt_dif\u001b[0m \u001b[0;34m=\u001b[0m \u001b[0msubtract_angles\u001b[0m\u001b[0;34m(\u001b[0m\u001b[0mcomm_pos\u001b[0m\u001b[0;34m.\u001b[0m\u001b[0melevation\u001b[0m\u001b[0;34m,\u001b[0m \u001b[0mtel_pos\u001b[0m\u001b[0;34m.\u001b[0m\u001b[0melevationCalculatedAngle\u001b[0m\u001b[0;34m[\u001b[0m\u001b[0;34m-\u001b[0m\u001b[0;36m1\u001b[0m\u001b[0;34m]\u001b[0m\u001b[0;34m)\u001b[0m\u001b[0;34m\u001b[0m\u001b[0;34m\u001b[0m\u001b[0m\n\u001b[1;32m   1081\u001b[0m                 \u001b[0maz_dif\u001b[0m \u001b[0;34m=\u001b[0m \u001b[0msubtract_angles\u001b[0m\u001b[0;34m(\u001b[0m\u001b[0mcomm_pos\u001b[0m\u001b[0;34m.\u001b[0m\u001b[0mazimuth\u001b[0m\u001b[0;34m,\u001b[0m \u001b[0mtel_pos\u001b[0m\u001b[0;34m.\u001b[0m\u001b[0mazimuthCalculatedAngle\u001b[0m\u001b[0;34m[\u001b[0m\u001b[0;34m-\u001b[0m\u001b[0;36m1\u001b[0m\u001b[0;34m]\u001b[0m\u001b[0;34m)\u001b[0m\u001b[0;34m\u001b[0m\u001b[0;34m\u001b[0m\u001b[0m\n",
      "\u001b[0;32m~/repos/ts_salobj/python/lsst/ts/salobj/topics/read_topic.py\u001b[0m in \u001b[0;36mnext\u001b[0;34m(self, flush, timeout)\u001b[0m\n\u001b[1;32m    382\u001b[0m         \u001b[0;32mif\u001b[0m \u001b[0mflush\u001b[0m\u001b[0;34m:\u001b[0m\u001b[0;34m\u001b[0m\u001b[0;34m\u001b[0m\u001b[0m\n\u001b[1;32m    383\u001b[0m             \u001b[0mself\u001b[0m\u001b[0;34m.\u001b[0m\u001b[0mflush\u001b[0m\u001b[0;34m(\u001b[0m\u001b[0;34m)\u001b[0m\u001b[0;34m\u001b[0m\u001b[0;34m\u001b[0m\u001b[0m\n\u001b[0;32m--> 384\u001b[0;31m         \u001b[0;32mreturn\u001b[0m \u001b[0;32mawait\u001b[0m \u001b[0mself\u001b[0m\u001b[0;34m.\u001b[0m\u001b[0m_next\u001b[0m\u001b[0;34m(\u001b[0m\u001b[0mtimeout\u001b[0m\u001b[0;34m=\u001b[0m\u001b[0mtimeout\u001b[0m\u001b[0;34m)\u001b[0m\u001b[0;34m\u001b[0m\u001b[0;34m\u001b[0m\u001b[0m\n\u001b[0m\u001b[1;32m    385\u001b[0m \u001b[0;34m\u001b[0m\u001b[0m\n\u001b[1;32m    386\u001b[0m     \u001b[0;32masync\u001b[0m \u001b[0;32mdef\u001b[0m \u001b[0m_next\u001b[0m\u001b[0;34m(\u001b[0m\u001b[0mself\u001b[0m\u001b[0;34m,\u001b[0m \u001b[0;34m*\u001b[0m\u001b[0;34m,\u001b[0m \u001b[0mtimeout\u001b[0m\u001b[0;34m=\u001b[0m\u001b[0;32mNone\u001b[0m\u001b[0;34m)\u001b[0m\u001b[0;34m:\u001b[0m\u001b[0;34m\u001b[0m\u001b[0;34m\u001b[0m\u001b[0m\n",
      "\u001b[0;32m~/repos/ts_salobj/python/lsst/ts/salobj/topics/read_topic.py\u001b[0m in \u001b[0;36m_next\u001b[0;34m(self, timeout)\u001b[0m\n\u001b[1;32m    396\u001b[0m             \u001b[0mself\u001b[0m\u001b[0;34m.\u001b[0m\u001b[0m_next_task\u001b[0m \u001b[0;34m=\u001b[0m \u001b[0masyncio\u001b[0m\u001b[0;34m.\u001b[0m\u001b[0mFuture\u001b[0m\u001b[0;34m(\u001b[0m\u001b[0;34m)\u001b[0m\u001b[0;34m\u001b[0m\u001b[0;34m\u001b[0m\u001b[0m\n\u001b[1;32m    397\u001b[0m         \u001b[0;32mawait\u001b[0m \u001b[0masyncio\u001b[0m\u001b[0;34m.\u001b[0m\u001b[0mwait_for\u001b[0m\u001b[0;34m(\u001b[0m\u001b[0mself\u001b[0m\u001b[0;34m.\u001b[0m\u001b[0m_next_task\u001b[0m\u001b[0;34m,\u001b[0m \u001b[0mtimeout\u001b[0m\u001b[0;34m=\u001b[0m\u001b[0mtimeout\u001b[0m\u001b[0;34m)\u001b[0m\u001b[0;34m\u001b[0m\u001b[0;34m\u001b[0m\u001b[0m\n\u001b[0;32m--> 398\u001b[0;31m         \u001b[0;32mreturn\u001b[0m \u001b[0mself\u001b[0m\u001b[0;34m.\u001b[0m\u001b[0m_data_queue\u001b[0m\u001b[0;34m.\u001b[0m\u001b[0mpopleft\u001b[0m\u001b[0;34m(\u001b[0m\u001b[0;34m)\u001b[0m\u001b[0;34m\u001b[0m\u001b[0;34m\u001b[0m\u001b[0m\n\u001b[0m\u001b[1;32m    399\u001b[0m \u001b[0;34m\u001b[0m\u001b[0m\n\u001b[1;32m    400\u001b[0m     \u001b[0;32masync\u001b[0m \u001b[0;32mdef\u001b[0m \u001b[0m_callback_loop\u001b[0m\u001b[0;34m(\u001b[0m\u001b[0mself\u001b[0m\u001b[0;34m)\u001b[0m\u001b[0;34m:\u001b[0m\u001b[0;34m\u001b[0m\u001b[0;34m\u001b[0m\u001b[0m\n",
      "\u001b[0;31mIndexError\u001b[0m: pop from an empty deque"
     ]
    },
    {
     "name": "stdout",
     "output_type": "stream",
     "text": [
      "[Telescope] delta Alt = -024.113 | delta Az= +044.823 [Dome] delta Az = -002.998\n",
      "[Telescope] delta Alt = -024.120 | delta Az= +044.817 [Dome] delta Az = -002.998\n",
      "[Telescope] delta Alt = -024.127 | delta Az= +044.812 [Dome] delta Az = -002.998\n",
      "[Telescope] delta Alt = -024.134 | delta Az= +044.807 [Dome] delta Az = -002.998\n",
      "[Telescope] delta Alt = -024.141 | delta Az= +044.802 [Dome] delta Az = -002.998\n",
      "[Telescope] delta Alt = -024.148 | delta Az= +044.796 [Dome] delta Az = -002.998\n",
      "[Telescope] delta Alt = -024.156 | delta Az= +044.791 [Dome] delta Az = -002.998\n",
      "[Telescope] delta Alt = -024.163 | delta Az= +044.785 [Dome] delta Az = -002.998\n",
      "[Telescope] delta Alt = -024.170 | delta Az= +044.780 [Dome] delta Az = -002.998\n",
      "[Telescope] delta Alt = -024.177 | delta Az= +044.774 [Dome] delta Az = -002.998\n",
      "[Telescope] delta Alt = -024.184 | delta Az= +044.769 [Dome] delta Az = -002.998\n",
      "[Telescope] delta Alt = -024.191 | delta Az= +044.764 [Dome] delta Az = -002.998\n",
      "[Telescope] delta Alt = -024.198 | delta Az= +044.758 [Dome] delta Az = -002.998\n",
      "[Telescope] delta Alt = -024.206 | delta Az= +044.753 [Dome] delta Az = -002.998\n",
      "[Telescope] delta Alt = -024.213 | delta Az= +044.747 [Dome] delta Az = -002.998\n",
      "[Telescope] delta Alt = -024.220 | delta Az= +044.742 [Dome] delta Az = -002.998\n",
      "[Telescope] delta Alt = -024.227 | delta Az= +044.737 [Dome] delta Az = -002.998\n",
      "[Telescope] delta Alt = -024.234 | delta Az= +044.731 [Dome] delta Az = -002.998\n",
      "[Telescope] delta Alt = -024.241 | delta Az= +044.726 [Dome] delta Az = -002.998\n",
      "[Telescope] delta Alt = -024.249 | delta Az= +044.721 [Dome] delta Az = -002.998\n",
      "[Telescope] delta Alt = -024.255 | delta Az= +044.716 [Dome] delta Az = -002.998\n",
      "[Telescope] delta Alt = -024.262 | delta Az= +044.710 [Dome] delta Az = -002.998\n",
      "[Telescope] delta Alt = -024.270 | delta Az= +044.705 [Dome] delta Az = -002.998\n",
      "[Telescope] delta Alt = -024.277 | delta Az= +044.699 [Dome] delta Az = -002.998\n",
      "[Telescope] delta Alt = -024.284 | delta Az= +044.694 [Dome] delta Az = -002.998\n",
      "[Telescope] delta Alt = -024.292 | delta Az= +044.688 [Dome] delta Az = -002.998\n",
      "[Telescope] delta Alt = -024.298 | delta Az= +044.683 [Dome] delta Az = -002.998\n",
      "[Telescope] delta Alt = -024.306 | delta Az= +044.677 [Dome] delta Az = -002.998\n",
      "[Telescope] delta Alt = -024.313 | delta Az= +044.672 [Dome] delta Az = -002.998\n",
      "[Telescope] delta Alt = -024.320 | delta Az= +044.667 [Dome] delta Az = -002.998\n",
      "[Telescope] delta Alt = -024.327 | delta Az= +044.662 [Dome] delta Az = -002.998\n",
      "[Telescope] delta Alt = -024.335 | delta Az= +044.656 [Dome] delta Az = -002.998\n",
      "[Telescope] delta Alt = -024.341 | delta Az= +044.651 [Dome] delta Az = -002.998\n",
      "[Telescope] delta Alt = -024.348 | delta Az= +044.646 [Dome] delta Az = -002.998\n",
      "[Telescope] delta Alt = -024.356 | delta Az= +044.640 [Dome] delta Az = -002.998\n",
      "[Telescope] delta Alt = -024.363 | delta Az= +044.635 [Dome] delta Az = -002.998\n",
      "[Telescope] delta Alt = -024.370 | delta Az= +044.629 [Dome] delta Az = -002.998\n",
      "[Telescope] delta Alt = -024.378 | delta Az= +044.624 [Dome] delta Az = -002.998\n",
      "[Telescope] delta Alt = -024.384 | delta Az= +044.619 [Dome] delta Az = -002.998\n",
      "[Telescope] delta Alt = -024.391 | delta Az= +044.614 [Dome] delta Az = -002.998\n",
      "[Telescope] delta Alt = -024.399 | delta Az= +044.608 [Dome] delta Az = -002.998\n",
      "[Telescope] delta Alt = -024.406 | delta Az= +044.603 [Dome] delta Az = -002.998\n",
      "[Telescope] delta Alt = -024.413 | delta Az= +044.597 [Dome] delta Az = -002.998\n",
      "[Telescope] delta Alt = -024.420 | delta Az= +044.592 [Dome] delta Az = -002.998\n",
      "[Telescope] delta Alt = -024.427 | delta Az= +044.587 [Dome] delta Az = -002.998\n",
      "[Telescope] delta Alt = -024.434 | delta Az= +044.581 [Dome] delta Az = -002.998\n",
      "[Telescope] delta Alt = -024.442 | delta Az= +044.576 [Dome] delta Az = -002.998\n"
     ]
    }
   ],
   "source": [
    "await attcs.slew_object(name = \"HD 54576\", pa_ang = 0.0, slew_timeout = 240.0)"
   ]
  },
  {
   "cell_type": "code",
   "execution_count": 187,
   "metadata": {},
   "outputs": [
    {
     "name": "stdout",
     "output_type": "stream",
     "text": [
      "[Telescope] delta Alt = -024.449 | delta Az= +044.570 [Dome] delta Az = -002.998\n"
     ]
    },
    {
     "data": {
      "text/plain": [
       "<lsst.ts.salobj.ddsutil.ATMCS_ackcmd_f0f9ad9d at 0x7f8c144129b0>"
      ]
     },
     "execution_count": 187,
     "metadata": {},
     "output_type": "execute_result"
    },
    {
     "name": "stdout",
     "output_type": "stream",
     "text": [
      "[Telescope] delta Alt = -024.396 | delta Az= +045.309 [Dome] delta Az = -002.998\n",
      "[Telescope] delta Alt = -023.796 | delta Az= +049.054 [Dome] delta Az = -002.998\n",
      "[Telescope] delta Alt = -022.222 | delta Az= +053.049 [Dome] delta Az = -002.998\n",
      "[Telescope] delta Alt = -019.612 | delta Az= +057.043 [Dome] delta Az = -002.998\n",
      "[Telescope] delta Alt = -016.164 | delta Az= +061.038 [Dome] delta Az = -002.998\n",
      "[Telescope] delta Alt = -012.258 | delta Az= +065.033 [Dome] delta Az = -002.998\n",
      "[Telescope] delta Alt = -008.353 | delta Az= +069.027 [Dome] delta Az = -002.998\n",
      "[Telescope] delta Alt = -004.919 | delta Az= +073.021 [Dome] delta Az = -002.998\n",
      "[Telescope] delta Alt = -002.328 | delta Az= +077.017 [Dome] delta Az = -002.998\n",
      "[Telescope] delta Alt = -000.773 | delta Az= +081.012 [Dome] delta Az = -002.998\n",
      "[Telescope] delta Alt = -000.186 | delta Az= +085.006 [Dome] delta Az = -002.998\n",
      "[Telescope] delta Alt = -000.130 | delta Az= +089.001 [Dome] delta Az = -002.998\n"
     ]
    }
   ],
   "source": [
    "await attcs.atmcs.cmd_startTracking.start() "
   ]
  },
  {
   "cell_type": "code",
   "execution_count": 188,
   "metadata": {},
   "outputs": [
    {
     "name": "stdout",
     "output_type": "stream",
     "text": [
      "Slewing to HD 54576: 07 08 37.7400 -17 38 05.028\n",
      "Parallactic angle: 116.05815979183095 | Sky Angle: 124.07501985248592\n",
      "Sending command\n",
      "Stop tracking.\n",
      "Mount tracking state is 9\n",
      "Tracking state: 10.\n",
      "Tracking state: 8.\n",
      "In Position: False.\n",
      "Scheduling check coroutines\n",
      "process as completed...\n",
      "Got False\n",
      "Telescope not in position\n",
      "atmcs: <State.ENABLED: 2>\n",
      "atptg: <State.ENABLED: 2>\n",
      "ataos: <State.ENABLED: 2>\n",
      "atpneumatics: <State.ENABLED: 2>\n",
      "athexapod: <State.ENABLED: 2>\n",
      "atdome: <State.ENABLED: 2>\n",
      "atdometrajectory: <State.ENABLED: 2>\n",
      "[Telescope] delta Alt = -000.144 | delta Az= +092.017 [Dome] delta Az = -002.998\n",
      "[Telescope] delta Alt = -000.130 | delta Az= +094.496 [Dome] delta Az = -002.998\n",
      "[Telescope] delta Alt = -000.130 | delta Az= +098.486 [Dome] delta Az = -002.998\n",
      "[Telescope] delta Alt = -000.130 | delta Az= +102.480 [Dome] delta Az = -002.998\n",
      "[Telescope] delta Alt = -000.130 | delta Az= +106.474 [Dome] delta Az = -002.998\n",
      "[Telescope] delta Alt = -000.130 | delta Az= +110.470 [Dome] delta Az = -002.998\n",
      "[Telescope] delta Alt = -000.130 | delta Az= +114.465 [Dome] delta Az = -002.998\n",
      "[Telescope] delta Alt = -000.130 | delta Az= +118.458 [Dome] delta Az = -002.998\n",
      "[Telescope] delta Alt = -000.131 | delta Az= +122.452 [Dome] delta Az = -002.998\n",
      "[Telescope] delta Alt = -000.131 | delta Az= +126.448 [Dome] delta Az = -002.998\n",
      "[Telescope] delta Alt = -000.130 | delta Az= +130.443 [Dome] delta Az = -002.998\n",
      "[Telescope] delta Alt = -000.130 | delta Az= +134.437 [Dome] delta Az = -002.998\n",
      "[Telescope] delta Alt = -000.130 | delta Az= +138.432 [Dome] delta Az = -002.998\n",
      "[Telescope] delta Alt = -000.130 | delta Az= +142.426 [Dome] delta Az = -002.998\n",
      "[Telescope] delta Alt = -000.131 | delta Az= +146.420 [Dome] delta Az = -002.998\n",
      "[Telescope] delta Alt = -000.130 | delta Az= +150.416 [Dome] delta Az = -002.998\n",
      "[Telescope] delta Alt = -000.130 | delta Az= +154.411 [Dome] delta Az = -002.998\n",
      "[Telescope] delta Alt = -000.130 | delta Az= +158.404 [Dome] delta Az = -002.998\n",
      "[Telescope] delta Alt = -000.131 | delta Az= +162.399 [Dome] delta Az = -002.998\n",
      "[Telescope] delta Alt = -000.130 | delta Az= +166.396 [Dome] delta Az = -002.998\n",
      "[Telescope] delta Alt = -000.131 | delta Az= +170.389 [Dome] delta Az = -002.998\n",
      "[Telescope] delta Alt = -000.130 | delta Az= +174.384 [Dome] delta Az = -002.998\n",
      "[Telescope] delta Alt = -000.130 | delta Az= +178.379 [Dome] delta Az = -002.998\n",
      "[Telescope] delta Alt = -000.130 | delta Az= -177.627 [Dome] delta Az = -002.998\n",
      "[Telescope] delta Alt = -000.130 | delta Az= -173.631 [Dome] delta Az = -002.998\n",
      "[Telescope] delta Alt = -000.130 | delta Az= -169.637 [Dome] delta Az = -002.998\n",
      "[Telescope] delta Alt = -000.130 | delta Az= -165.642 [Dome] delta Az = -002.998\n",
      "[Telescope] delta Alt = -000.130 | delta Az= -161.647 [Dome] delta Az = -002.998\n",
      "[Telescope] delta Alt = -000.130 | delta Az= -157.653 [Dome] delta Az = -002.998\n",
      "[Telescope] delta Alt = -000.130 | delta Az= -153.658 [Dome] delta Az = -002.998\n",
      "[Telescope] delta Alt = -000.130 | delta Az= -149.663 [Dome] delta Az = -002.998\n",
      "[Telescope] delta Alt = -000.130 | delta Az= -145.670 [Dome] delta Az = -002.998\n",
      "[Telescope] delta Alt = -000.130 | delta Az= -141.674 [Dome] delta Az = -002.998\n",
      "[Telescope] delta Alt = -000.130 | delta Az= -137.678 [Dome] delta Az = -002.998\n",
      "[Telescope] delta Alt = -000.130 | delta Az= -133.684 [Dome] delta Az = -002.998\n",
      "[Telescope] delta Alt = -000.131 | delta Az= -129.690 [Dome] delta Az = -002.998\n",
      "[Telescope] delta Alt = -000.130 | delta Az= -125.695 [Dome] delta Az = -002.998\n",
      "[Telescope] delta Alt = -000.131 | delta Az= -121.700 [Dome] delta Az = -002.998\n",
      "[Telescope] delta Alt = -000.130 | delta Az= -117.705 [Dome] delta Az = -002.998\n",
      "[Telescope] delta Alt = -000.130 | delta Az= -113.710 [Dome] delta Az = -002.998\n",
      "[Telescope] delta Alt = -000.130 | delta Az= -109.717 [Dome] delta Az = -002.998\n",
      "[Telescope] delta Alt = -000.130 | delta Az= -105.721 [Dome] delta Az = -002.998\n",
      "[Telescope] delta Alt = -000.131 | delta Az= -101.727 [Dome] delta Az = -002.998\n",
      "[Telescope] delta Alt = -000.130 | delta Az= -097.732 [Dome] delta Az = -002.998\n",
      "[Telescope] delta Alt = -000.130 | delta Az= -093.736 [Dome] delta Az = -002.998\n",
      "[Telescope] delta Alt = -000.130 | delta Az= -089.743 [Dome] delta Az = -002.998\n",
      "[Telescope] delta Alt = -000.130 | delta Az= -085.749 [Dome] delta Az = -002.998\n",
      "[Telescope] delta Alt = -000.130 | delta Az= -081.752 [Dome] delta Az = -002.998\n",
      "[Telescope] delta Alt = -000.130 | delta Az= -077.758 [Dome] delta Az = -002.998\n",
      "[Telescope] delta Alt = -000.133 | delta Az= -075.763 [Dome] delta Az = -002.998\n",
      "[Telescope] delta Alt = -000.131 | delta Az= -071.767 [Dome] delta Az = -002.998\n",
      "[Telescope] delta Alt = -000.130 | delta Az= -067.773 [Dome] delta Az = -002.998\n",
      "[Telescope] delta Alt = -000.130 | delta Az= -063.777 [Dome] delta Az = -002.998\n",
      "[Telescope] delta Alt = -000.133 | delta Az= -061.782 [Dome] delta Az = -002.998\n",
      "[Telescope] delta Alt = -000.131 | delta Az= -057.785 [Dome] delta Az = -002.998\n",
      "[Telescope] delta Alt = -000.130 | delta Az= -053.791 [Dome] delta Az = -002.998\n",
      "[Telescope] delta Alt = -000.130 | delta Az= -049.796 [Dome] delta Az = -002.998\n",
      "[Telescope] delta Alt = -000.130 | delta Az= -045.801 [Dome] delta Az = -002.998\n",
      "[Telescope] delta Alt = -000.130 | delta Az= -041.807 [Dome] delta Az = -002.998\n",
      "[Telescope] delta Alt = -000.130 | delta Az= -037.811 [Dome] delta Az = -002.998\n"
     ]
    },
    {
     "ename": "CancelledError",
     "evalue": "",
     "output_type": "error",
     "traceback": [
      "\u001b[0;31m\u001b[0m",
      "\u001b[0;31mCancelledError\u001b[0mTraceback (most recent call last)",
      "\u001b[0;32m<ipython-input-188-fc6d6b347f88>\u001b[0m in \u001b[0;36masync-def-wrapper\u001b[0;34m()\u001b[0m\n",
      "\u001b[0;32m~/repos/ts_standardscripts/python/lsst/ts/standardscripts/auxtel/attcs.py\u001b[0m in \u001b[0;36mslew_object\u001b[0;34m(self, name, rot_sky, pa_ang, rot_pa, slew_timeout, track_id)\u001b[0m\n\u001b[1;32m    187\u001b[0m                              \u001b[0mtarget_name\u001b[0m\u001b[0;34m=\u001b[0m\u001b[0mname\u001b[0m\u001b[0;34m,\u001b[0m\u001b[0;34m\u001b[0m\u001b[0;34m\u001b[0m\u001b[0m\n\u001b[1;32m    188\u001b[0m                              \u001b[0mslew_timeout\u001b[0m\u001b[0;34m=\u001b[0m\u001b[0mslew_timeout\u001b[0m\u001b[0;34m,\u001b[0m\u001b[0;34m\u001b[0m\u001b[0;34m\u001b[0m\u001b[0m\n\u001b[0;32m--> 189\u001b[0;31m                              track_id=track_id)\n\u001b[0m\u001b[1;32m    190\u001b[0m \u001b[0;34m\u001b[0m\u001b[0m\n\u001b[1;32m    191\u001b[0m     async def slew_icrs(self, ra, dec, rot_sky=None, pa_ang=None, rot_pa=0.,\n",
      "\u001b[0;32m~/repos/ts_standardscripts/python/lsst/ts/standardscripts/auxtel/attcs.py\u001b[0m in \u001b[0;36mslew_icrs\u001b[0;34m(self, ra, dec, rot_sky, pa_ang, rot_pa, target_name, slew_timeout, track_id)\u001b[0m\n\u001b[1;32m    267\u001b[0m                         \u001b[0mrot_mode\u001b[0m\u001b[0;34m=\u001b[0m\u001b[0mATPtg\u001b[0m\u001b[0;34m.\u001b[0m\u001b[0mRotMode\u001b[0m\u001b[0;34m.\u001b[0m\u001b[0mFIELD\u001b[0m\u001b[0;34m,\u001b[0m\u001b[0;34m\u001b[0m\u001b[0;34m\u001b[0m\u001b[0m\n\u001b[1;32m    268\u001b[0m                         \u001b[0mslew_timeout\u001b[0m\u001b[0;34m=\u001b[0m\u001b[0mslew_timeout\u001b[0m\u001b[0;34m,\u001b[0m\u001b[0;34m\u001b[0m\u001b[0;34m\u001b[0m\u001b[0m\n\u001b[0;32m--> 269\u001b[0;31m                         track_id=track_id)\n\u001b[0m\u001b[1;32m    270\u001b[0m \u001b[0;34m\u001b[0m\u001b[0m\n\u001b[1;32m    271\u001b[0m     async def slew(self, ra, dec, rotPA=0., target_name=\"slew_icrs\",\n",
      "\u001b[0;32m~/repos/ts_standardscripts/python/lsst/ts/standardscripts/auxtel/attcs.py\u001b[0m in \u001b[0;36mslew\u001b[0;34m(self, ra, dec, rotPA, target_name, target_instance, frame, epoch, equinox, parallax, pmRA, pmDec, rv, dRA, dDec, rot_frame, rot_mode, slew_timeout, track_id)\u001b[0m\n\u001b[1;32m    313\u001b[0m \u001b[0;34m\u001b[0m\u001b[0m\n\u001b[1;32m    314\u001b[0m         await self._slew_to(self.atptg.cmd_raDecTarget,\n\u001b[0;32m--> 315\u001b[0;31m                             slew_timeout=slew_timeout)\n\u001b[0m\u001b[1;32m    316\u001b[0m \u001b[0;34m\u001b[0m\u001b[0m\n\u001b[1;32m    317\u001b[0m     async def slew_to_planet(self, planet,\n",
      "\u001b[0;32m~/repos/ts_standardscripts/python/lsst/ts/standardscripts/auxtel/attcs.py\u001b[0m in \u001b[0;36m_slew_to\u001b[0;34m(self, slew_cmd, slew_timeout)\u001b[0m\n\u001b[1;32m    833\u001b[0m         \u001b[0;32mfor\u001b[0m \u001b[0mres\u001b[0m \u001b[0;32min\u001b[0m \u001b[0masyncio\u001b[0m\u001b[0;34m.\u001b[0m\u001b[0mas_completed\u001b[0m\u001b[0;34m(\u001b[0m\u001b[0mcoro_list\u001b[0m\u001b[0;34m)\u001b[0m\u001b[0;34m:\u001b[0m\u001b[0;34m\u001b[0m\u001b[0;34m\u001b[0m\u001b[0m\n\u001b[1;32m    834\u001b[0m             \u001b[0;32mtry\u001b[0m\u001b[0;34m:\u001b[0m\u001b[0;34m\u001b[0m\u001b[0;34m\u001b[0m\u001b[0m\n\u001b[0;32m--> 835\u001b[0;31m                 \u001b[0mret_val\u001b[0m \u001b[0;34m=\u001b[0m \u001b[0;32mawait\u001b[0m \u001b[0mres\u001b[0m\u001b[0;34m\u001b[0m\u001b[0;34m\u001b[0m\u001b[0m\n\u001b[0m\u001b[1;32m    836\u001b[0m                 \u001b[0mself\u001b[0m\u001b[0;34m.\u001b[0m\u001b[0mlog\u001b[0m\u001b[0;34m.\u001b[0m\u001b[0mdebug\u001b[0m\u001b[0;34m(\u001b[0m\u001b[0mret_val\u001b[0m\u001b[0;34m)\u001b[0m\u001b[0;34m\u001b[0m\u001b[0;34m\u001b[0m\u001b[0m\n\u001b[1;32m    837\u001b[0m             \u001b[0;32mexcept\u001b[0m \u001b[0mRuntimeError\u001b[0m \u001b[0;32mas\u001b[0m \u001b[0mrte\u001b[0m\u001b[0;34m:\u001b[0m\u001b[0;34m\u001b[0m\u001b[0;34m\u001b[0m\u001b[0m\n",
      "\u001b[0;32m/opt/lsst/software/stack/python/miniconda3-4.7.10/envs/lsst-scipipe-4d7b902/lib/python3.7/asyncio/tasks.py\u001b[0m in \u001b[0;36m_wait_for_one\u001b[0;34m()\u001b[0m\n\u001b[1;32m    531\u001b[0m             \u001b[0;31m# Dummy value from _on_timeout().\u001b[0m\u001b[0;34m\u001b[0m\u001b[0;34m\u001b[0m\u001b[0;34m\u001b[0m\u001b[0m\n\u001b[1;32m    532\u001b[0m             \u001b[0;32mraise\u001b[0m \u001b[0mfutures\u001b[0m\u001b[0;34m.\u001b[0m\u001b[0mTimeoutError\u001b[0m\u001b[0;34m\u001b[0m\u001b[0;34m\u001b[0m\u001b[0m\n\u001b[0;32m--> 533\u001b[0;31m         \u001b[0;32mreturn\u001b[0m \u001b[0mf\u001b[0m\u001b[0;34m.\u001b[0m\u001b[0mresult\u001b[0m\u001b[0;34m(\u001b[0m\u001b[0;34m)\u001b[0m  \u001b[0;31m# May raise f.exception().\u001b[0m\u001b[0;34m\u001b[0m\u001b[0;34m\u001b[0m\u001b[0m\n\u001b[0m\u001b[1;32m    534\u001b[0m \u001b[0;34m\u001b[0m\u001b[0m\n\u001b[1;32m    535\u001b[0m     \u001b[0;32mfor\u001b[0m \u001b[0mf\u001b[0m \u001b[0;32min\u001b[0m \u001b[0mtodo\u001b[0m\u001b[0;34m:\u001b[0m\u001b[0;34m\u001b[0m\u001b[0;34m\u001b[0m\u001b[0m\n",
      "\u001b[0;31mCancelledError\u001b[0m: "
     ]
    },
    {
     "name": "stdout",
     "output_type": "stream",
     "text": [
      "[Telescope] delta Alt = -000.130 | delta Az= -033.818 [Dome] delta Az = -002.998\n",
      "[Telescope] delta Alt = -000.131 | delta Az= -029.823 [Dome] delta Az = -002.998\n",
      "[Telescope] delta Alt = -000.130 | delta Az= -025.838 [Dome] delta Az = -002.998\n",
      "[Telescope] delta Alt = -000.130 | delta Az= -021.907 [Dome] delta Az = -002.998\n",
      "[Telescope] delta Alt = -000.131 | delta Az= -018.088 [Dome] delta Az = -002.998\n",
      "[Telescope] delta Alt = -000.131 | delta Az= -014.459 [Dome] delta Az = -002.998\n",
      "[Telescope] delta Alt = -000.130 | delta Az= -011.107 [Dome] delta Az = -002.998\n",
      "[Telescope] delta Alt = -000.130 | delta Az= -008.117 [Dome] delta Az = -002.998\n",
      "[Telescope] delta Alt = -000.130 | delta Az= -005.562 [Dome] delta Az = -002.998\n",
      "[Telescope] delta Alt = -000.130 | delta Az= -003.497 [Dome] delta Az = -002.998\n",
      "[Telescope] delta Alt = -000.130 | delta Az= -001.950 [Dome] delta Az = -002.998\n",
      "[Telescope] delta Alt = -000.130 | delta Az= -000.914 [Dome] delta Az = -002.998\n",
      "[Telescope] delta Alt = -000.130 | delta Az= -000.339 [Dome] delta Az = -002.998\n",
      "[Telescope] delta Alt = -000.130 | delta Az= -000.122 [Dome] delta Az = -002.998\n",
      "[Telescope] delta Alt = -000.130 | delta Az= -000.096 [Dome] delta Az = -002.998\n",
      "[Telescope] delta Alt = -000.130 | delta Az= -000.096 [Dome] delta Az = -002.998\n",
      "[Telescope] delta Alt = -000.131 | delta Az= -000.096 [Dome] delta Az = -002.998\n",
      "[Telescope] delta Alt = -000.131 | delta Az= -000.096 [Dome] delta Az = -002.998\n",
      "[Telescope] delta Alt = -000.130 | delta Az= -000.095 [Dome] delta Az = -002.998\n",
      "[Telescope] delta Alt = -000.130 | delta Az= -000.096 [Dome] delta Az = -002.998\n",
      "[Telescope] delta Alt = -000.130 | delta Az= -000.096 [Dome] delta Az = -002.998\n",
      "[Telescope] delta Alt = -000.131 | delta Az= -000.096 [Dome] delta Az = -002.998\n",
      "[Telescope] delta Alt = -000.130 | delta Az= -000.095 [Dome] delta Az = -002.998\n",
      "[Telescope] delta Alt = -000.131 | delta Az= -000.096 [Dome] delta Az = -002.998\n",
      "[Telescope] delta Alt = -000.130 | delta Az= -000.095 [Dome] delta Az = -002.998\n",
      "[Telescope] delta Alt = -000.130 | delta Az= -000.095 [Dome] delta Az = -002.998\n",
      "[Telescope] delta Alt = -000.131 | delta Az= -000.095 [Dome] delta Az = -002.998\n",
      "[Telescope] delta Alt = -000.131 | delta Az= -000.096 [Dome] delta Az = -002.998\n",
      "[Telescope] delta Alt = -000.130 | delta Az= -000.095 [Dome] delta Az = -002.998\n",
      "[Telescope] delta Alt = -000.130 | delta Az= -000.095 [Dome] delta Az = -002.998\n",
      "[Telescope] delta Alt = -000.130 | delta Az= -000.095 [Dome] delta Az = -002.998\n",
      "[Telescope] delta Alt = -000.131 | delta Az= -000.095 [Dome] delta Az = -002.998\n",
      "[Telescope] delta Alt = -000.131 | delta Az= -000.095 [Dome] delta Az = -002.998\n",
      "[Telescope] delta Alt = -000.130 | delta Az= -000.095 [Dome] delta Az = -002.998\n",
      "[Telescope] delta Alt = -000.130 | delta Az= -000.095 [Dome] delta Az = -002.998\n",
      "[Telescope] delta Alt = -000.130 | delta Az= -000.095 [Dome] delta Az = -002.998\n",
      "[Telescope] delta Alt = -000.130 | delta Az= -000.095 [Dome] delta Az = -002.998\n",
      "[Telescope] delta Alt = -000.131 | delta Az= -000.095 [Dome] delta Az = -002.998\n",
      "[Telescope] delta Alt = -000.130 | delta Az= -000.095 [Dome] delta Az = -002.998\n",
      "[Telescope] delta Alt = -000.130 | delta Az= -000.095 [Dome] delta Az = -002.998\n",
      "[Telescope] delta Alt = -000.130 | delta Az= -000.095 [Dome] delta Az = -002.998\n",
      "[Telescope] delta Alt = -000.130 | delta Az= -000.095 [Dome] delta Az = -002.998\n",
      "[Telescope] delta Alt = -000.130 | delta Az= -000.095 [Dome] delta Az = -002.998\n",
      "[Telescope] delta Alt = -000.131 | delta Az= -000.095 [Dome] delta Az = -002.998\n",
      "[Telescope] delta Alt = -000.131 | delta Az= -000.095 [Dome] delta Az = -002.998\n",
      "[Telescope] delta Alt = -000.130 | delta Az= -000.095 [Dome] delta Az = -002.998\n",
      "[Telescope] delta Alt = -000.130 | delta Az= -000.095 [Dome] delta Az = -002.998\n",
      "[Telescope] delta Alt = -000.130 | delta Az= -000.095 [Dome] delta Az = -002.998\n",
      "[Telescope] delta Alt = -000.131 | delta Az= -000.095 [Dome] delta Az = -002.998\n",
      "[Telescope] delta Alt = -000.131 | delta Az= -000.095 [Dome] delta Az = -002.998\n",
      "[Telescope] delta Alt = -000.130 | delta Az= -000.095 [Dome] delta Az = -002.998\n",
      "[Telescope] delta Alt = -000.130 | delta Az= -000.095 [Dome] delta Az = -002.998\n",
      "[Telescope] delta Alt = -000.130 | delta Az= -000.095 [Dome] delta Az = -002.998\n",
      "[Telescope] delta Alt = -000.130 | delta Az= -000.095 [Dome] delta Az = -002.998\n",
      "[Telescope] delta Alt = -000.130 | delta Az= -000.095 [Dome] delta Az = -002.998\n",
      "[Telescope] delta Alt = -000.130 | delta Az= -000.094 [Dome] delta Az = -002.998\n",
      "[Telescope] delta Alt = -000.130 | delta Az= -000.095 [Dome] delta Az = -002.998\n",
      "[Telescope] delta Alt = -000.130 | delta Az= -000.095 [Dome] delta Az = -002.998\n",
      "[Telescope] delta Alt = -000.130 | delta Az= -000.095 [Dome] delta Az = -002.998\n",
      "[Telescope] delta Alt = -000.131 | delta Az= -000.095 [Dome] delta Az = -002.998\n",
      "[Telescope] delta Alt = -000.131 | delta Az= -000.095 [Dome] delta Az = -002.998\n",
      "[Telescope] delta Alt = -000.130 | delta Az= -000.095 [Dome] delta Az = -002.998\n",
      "[Telescope] delta Alt = -000.131 | delta Az= -000.095 [Dome] delta Az = -002.998\n",
      "[Telescope] delta Alt = -000.130 | delta Az= -000.095 [Dome] delta Az = -002.998\n",
      "[Telescope] delta Alt = -000.130 | delta Az= -000.095 [Dome] delta Az = -002.998\n",
      "[Telescope] delta Alt = -000.133 | delta Az= -000.097 [Dome] delta Az = -002.998\n",
      "[Telescope] delta Alt = -000.131 | delta Az= -000.095 [Dome] delta Az = -002.998\n",
      "[Telescope] delta Alt = -000.130 | delta Az= -000.094 [Dome] delta Az = -002.998\n",
      "[Telescope] delta Alt = -000.130 | delta Az= -000.095 [Dome] delta Az = -002.998\n",
      "[Telescope] delta Alt = -000.130 | delta Az= -000.095 [Dome] delta Az = -002.998\n",
      "[Telescope] delta Alt = -000.130 | delta Az= -000.095 [Dome] delta Az = -002.998\n",
      "[Telescope] delta Alt = -000.131 | delta Az= -000.095 [Dome] delta Az = -002.998\n",
      "[Telescope] delta Alt = -000.130 | delta Az= -000.094 [Dome] delta Az = -002.998\n",
      "[Telescope] delta Alt = -000.131 | delta Az= -000.095 [Dome] delta Az = -002.998\n",
      "[Telescope] delta Alt = -000.130 | delta Az= -000.095 [Dome] delta Az = -002.998\n",
      "[Telescope] delta Alt = -000.130 | delta Az= -000.094 [Dome] delta Az = -002.998\n",
      "[Telescope] delta Alt = -000.131 | delta Az= -000.095 [Dome] delta Az = -002.998\n",
      "[Telescope] delta Alt = -000.131 | delta Az= -000.095 [Dome] delta Az = -002.998\n",
      "[Telescope] delta Alt = -000.130 | delta Az= -000.094 [Dome] delta Az = -002.998\n",
      "[Telescope] delta Alt = -000.130 | delta Az= -000.094 [Dome] delta Az = -002.998\n",
      "[Telescope] delta Alt = -000.130 | delta Az= -000.094 [Dome] delta Az = -002.998\n",
      "[Telescope] delta Alt = -000.131 | delta Az= -000.094 [Dome] delta Az = -002.998\n",
      "[Telescope] delta Alt = -000.131 | delta Az= -000.095 [Dome] delta Az = -002.998\n",
      "[Telescope] delta Alt = -000.131 | delta Az= -000.095 [Dome] delta Az = -002.998\n",
      "[Telescope] delta Alt = -000.130 | delta Az= -000.094 [Dome] delta Az = -002.998\n",
      "[Telescope] delta Alt = -000.130 | delta Az= -000.094 [Dome] delta Az = -002.998\n",
      "[Telescope] delta Alt = -000.130 | delta Az= -000.094 [Dome] delta Az = -002.998\n",
      "[Telescope] delta Alt = -000.131 | delta Az= -000.094 [Dome] delta Az = -002.998\n",
      "[Telescope] delta Alt = -000.131 | delta Az= -000.094 [Dome] delta Az = -002.998\n",
      "[Telescope] delta Alt = -000.131 | delta Az= -000.094 [Dome] delta Az = -002.998\n",
      "[Telescope] delta Alt = -000.130 | delta Az= -000.094 [Dome] delta Az = -002.998\n",
      "[Telescope] delta Alt = -000.130 | delta Az= -000.094 [Dome] delta Az = -002.998\n",
      "[Telescope] delta Alt = -000.130 | delta Az= -000.094 [Dome] delta Az = -002.998\n",
      "[Telescope] delta Alt = -000.131 | delta Az= -000.094 [Dome] delta Az = -002.998\n",
      "[Telescope] delta Alt = -000.131 | delta Az= -000.094 [Dome] delta Az = -002.998\n",
      "[Telescope] delta Alt = -000.130 | delta Az= -000.094 [Dome] delta Az = -002.998\n",
      "[Telescope] delta Alt = -000.130 | delta Az= -000.094 [Dome] delta Az = -002.998\n",
      "[Telescope] delta Alt = -000.130 | delta Az= -000.094 [Dome] delta Az = -002.998\n",
      "[Telescope] delta Alt = -000.131 | delta Az= -000.094 [Dome] delta Az = -002.998\n",
      "[Telescope] delta Alt = -000.131 | delta Az= -000.094 [Dome] delta Az = -002.998\n",
      "[Telescope] delta Alt = -000.130 | delta Az= -000.094 [Dome] delta Az = -002.998\n",
      "[Telescope] delta Alt = -000.130 | delta Az= -000.094 [Dome] delta Az = -002.998\n",
      "[Telescope] delta Alt = -000.130 | delta Az= -000.094 [Dome] delta Az = -002.998\n",
      "[Telescope] delta Alt = -000.131 | delta Az= -000.094 [Dome] delta Az = -002.998\n",
      "[Telescope] delta Alt = -000.131 | delta Az= -000.094 [Dome] delta Az = -002.998\n",
      "[Telescope] delta Alt = -000.130 | delta Az= -000.094 [Dome] delta Az = -002.998\n",
      "[Telescope] delta Alt = -000.130 | delta Az= -000.094 [Dome] delta Az = -002.998\n",
      "[Telescope] delta Alt = -000.130 | delta Az= -000.094 [Dome] delta Az = -002.998\n",
      "[Telescope] delta Alt = -000.130 | delta Az= -000.094 [Dome] delta Az = -002.998\n",
      "[Telescope] delta Alt = -000.131 | delta Az= -000.094 [Dome] delta Az = -002.998\n",
      "[Telescope] delta Alt = -000.131 | delta Az= -000.094 [Dome] delta Az = -002.998\n",
      "[Telescope] delta Alt = -000.131 | delta Az= -000.094 [Dome] delta Az = -002.998\n",
      "[Telescope] delta Alt = -000.130 | delta Az= -000.094 [Dome] delta Az = -002.998\n",
      "[Telescope] delta Alt = -000.130 | delta Az= -000.094 [Dome] delta Az = -002.998\n",
      "[Telescope] delta Alt = -000.131 | delta Az= -000.094 [Dome] delta Az = -002.998\n",
      "[Telescope] delta Alt = -000.131 | delta Az= -000.094 [Dome] delta Az = -002.998\n",
      "[Telescope] delta Alt = -000.131 | delta Az= -000.094 [Dome] delta Az = -002.998\n",
      "[Telescope] delta Alt = -000.131 | delta Az= -000.094 [Dome] delta Az = -002.998\n",
      "[Telescope] delta Alt = -000.130 | delta Az= -000.094 [Dome] delta Az = -002.998\n",
      "[Telescope] delta Alt = -000.130 | delta Az= -000.094 [Dome] delta Az = -002.998\n",
      "[Telescope] delta Alt = -000.131 | delta Az= -000.094 [Dome] delta Az = -002.998\n",
      "[Telescope] delta Alt = -000.131 | delta Az= -000.094 [Dome] delta Az = -002.998\n",
      "[Telescope] delta Alt = -000.131 | delta Az= -000.094 [Dome] delta Az = -002.998\n",
      "[Telescope] delta Alt = -000.130 | delta Az= -000.094 [Dome] delta Az = -002.998\n",
      "[Telescope] delta Alt = -000.130 | delta Az= -000.093 [Dome] delta Az = -002.998\n",
      "[Telescope] delta Alt = -000.130 | delta Az= -000.094 [Dome] delta Az = -002.998\n",
      "[Telescope] delta Alt = -000.130 | delta Az= -000.094 [Dome] delta Az = -002.998\n",
      "[Telescope] delta Alt = -000.131 | delta Az= -000.094 [Dome] delta Az = -002.998\n",
      "[Telescope] delta Alt = -000.131 | delta Az= -000.094 [Dome] delta Az = -002.998\n",
      "[Telescope] delta Alt = -000.130 | delta Az= -000.093 [Dome] delta Az = -002.998\n",
      "[Telescope] delta Alt = -000.130 | delta Az= -000.093 [Dome] delta Az = -002.998\n",
      "[Telescope] delta Alt = -000.131 | delta Az= -000.094 [Dome] delta Az = -002.998\n",
      "[Telescope] delta Alt = -000.131 | delta Az= -000.094 [Dome] delta Az = -002.998\n",
      "[Telescope] delta Alt = -000.130 | delta Az= -000.093 [Dome] delta Az = -002.998\n",
      "[Telescope] delta Alt = -000.130 | delta Az= -000.093 [Dome] delta Az = -002.998\n",
      "[Telescope] delta Alt = -000.131 | delta Az= -000.093 [Dome] delta Az = -002.998\n",
      "[Telescope] delta Alt = -000.131 | delta Az= -000.093 [Dome] delta Az = -002.998\n",
      "[Telescope] delta Alt = -000.131 | delta Az= -000.094 [Dome] delta Az = -002.998\n",
      "[Telescope] delta Alt = -000.131 | delta Az= -000.094 [Dome] delta Az = -002.998\n",
      "[Telescope] delta Alt = -000.131 | delta Az= -000.094 [Dome] delta Az = -002.998\n",
      "[Telescope] delta Alt = -000.130 | delta Az= -000.093 [Dome] delta Az = -002.998\n",
      "[Telescope] delta Alt = -000.130 | delta Az= -000.093 [Dome] delta Az = -002.998\n",
      "[Telescope] delta Alt = -000.131 | delta Az= -000.093 [Dome] delta Az = -002.998\n",
      "[Telescope] delta Alt = -000.131 | delta Az= -000.094 [Dome] delta Az = -002.998\n",
      "[Telescope] delta Alt = -000.130 | delta Az= -000.093 [Dome] delta Az = -002.998\n",
      "[Telescope] delta Alt = -000.130 | delta Az= -000.093 [Dome] delta Az = -002.998\n",
      "[Telescope] delta Alt = -000.130 | delta Az= -000.093 [Dome] delta Az = -002.998\n",
      "[Telescope] delta Alt = -000.130 | delta Az= -000.093 [Dome] delta Az = -002.998\n",
      "[Telescope] delta Alt = -000.131 | delta Az= -000.093 [Dome] delta Az = -002.998\n",
      "[Telescope] delta Alt = -000.131 | delta Az= -000.093 [Dome] delta Az = -002.998\n",
      "[Telescope] delta Alt = -000.130 | delta Az= -000.093 [Dome] delta Az = -002.998\n",
      "[Telescope] delta Alt = -000.130 | delta Az= -000.093 [Dome] delta Az = -002.998\n",
      "[Telescope] delta Alt = -000.131 | delta Az= -000.093 [Dome] delta Az = -002.998\n",
      "[Telescope] delta Alt = -000.130 | delta Az= -000.093 [Dome] delta Az = -002.998\n",
      "[Telescope] delta Alt = -000.131 | delta Az= -000.093 [Dome] delta Az = -002.998\n",
      "[Telescope] delta Alt = -000.131 | delta Az= -000.093 [Dome] delta Az = -002.998\n",
      "[Telescope] delta Alt = -000.131 | delta Az= -000.093 [Dome] delta Az = -002.998\n",
      "[Telescope] delta Alt = -000.130 | delta Az= -000.093 [Dome] delta Az = -002.998\n",
      "[Telescope] delta Alt = -000.130 | delta Az= -000.093 [Dome] delta Az = -002.998\n",
      "[Telescope] delta Alt = -000.131 | delta Az= -000.093 [Dome] delta Az = -002.998\n",
      "[Telescope] delta Alt = -000.131 | delta Az= -000.093 [Dome] delta Az = -002.998\n",
      "[Telescope] delta Alt = -000.131 | delta Az= -000.093 [Dome] delta Az = -002.998\n",
      "[Telescope] delta Alt = -000.131 | delta Az= -000.093 [Dome] delta Az = -002.998\n",
      "[Telescope] delta Alt = -000.130 | delta Az= -000.093 [Dome] delta Az = -002.998\n",
      "[Telescope] delta Alt = -000.131 | delta Az= -000.093 [Dome] delta Az = -002.998\n",
      "[Telescope] delta Alt = -000.131 | delta Az= -000.093 [Dome] delta Az = -002.998\n",
      "[Telescope] delta Alt = -000.131 | delta Az= -000.093 [Dome] delta Az = -002.998\n",
      "[Telescope] delta Alt = -000.131 | delta Az= -000.093 [Dome] delta Az = -002.998\n",
      "[Telescope] delta Alt = -000.130 | delta Az= -000.093 [Dome] delta Az = -002.998\n"
     ]
    }
   ],
   "source": [
    "await attcs.slew_object(name = \"HD 54576\", pa_ang = 0.0, slew_timeout = 240.0)"
   ]
  },
  {
   "cell_type": "code",
   "execution_count": 6,
   "metadata": {},
   "outputs": [
    {
     "name": "stdout",
     "output_type": "stream",
     "text": [
      "Generating group_id\n",
      "OBJECT 0001 - 0001\n",
      "RemoteEvent(ATHeaderService, 0, logMessage) falling behind; read 19 messages\n",
      "Waiting for header service LFO before continuing\n",
      "RemoteEvent(ATHeaderService, 0, logMessage) falling behind; read 13 messages\n"
     ]
    },
    {
     "data": {
      "text/plain": [
       "array([2020022100529])"
      ]
     },
     "execution_count": 6,
     "metadata": {},
     "output_type": "execute_result"
    },
    {
     "name": "stdout",
     "output_type": "stream",
     "text": [
      "RemoteEvent(ATHeaderService, 0, logMessage) falling behind; read 12 messages\n",
      "RemoteEvent(ATHeaderService, 0, logMessage) falling behind; read 16 messages\n",
      "RemoteEvent(ATHeaderService, 0, logMessage) falling behind; read 13 messages\n",
      "RemoteEvent(ATMCS, 0, target) falling behind; read 60 messages\n",
      "RemoteEvent(ATDomeTrajectory, 0, logMessage) falling behind; read 41 messages\n",
      "RemoteEvent(ATDomeTrajectory, 0, logMessage) falling behind; read 13 messages\n",
      "RemoteEvent(ATMCS, 0, target) falling behind; read 95 messages\n",
      "RemoteEvent(ATDomeTrajectory, 0, logMessage) falling behind; read 44 messages\n",
      "RemoteEvent(ATHeaderService, 0, logMessage) falling behind; read 11 messages\n",
      "RemoteEvent(ATHeaderService, 0, logMessage) falling behind; read 10 messages\n",
      "RemoteEvent(ATHeaderService, 0, logMessage) falling behind; read 15 messages\n",
      "RemoteEvent(ATHeaderService, 0, logMessage) falling behind; read 10 messages\n"
     ]
    }
   ],
   "source": [
    "#Check position again...\n",
    "await latiss.take_object(exptime=1, n=1, filter='empty_1',grating='ronchi90lpmm')"
   ]
  },
  {
   "cell_type": "code",
   "execution_count": 8,
   "metadata": {},
   "outputs": [
    {
     "name": "stdout",
     "output_type": "stream",
     "text": [
      "focus_positions = [-0.4  -0.35 -0.3  -0.25 -0.2  -0.15 -0.1  -0.05  0.  ]\n"
     ]
    }
   ],
   "source": [
    "best_focus_fit = -0.2\n",
    "import math \n",
    "#Focus units are given in mm \n",
    "focus_center = -0.2\n",
    "focus_step = 0.05\n",
    "n_steps = 9\n",
    "focus_positions = np.linspace(focus_center - focus_step * math.floor(n_steps / 2), focus_center + focus_step * math.ceil(n_steps / 2 - 1), n_steps)\n",
    "print ('focus_positions = ' + str(focus_positions))"
   ]
  },
  {
   "cell_type": "code",
   "execution_count": 9,
   "metadata": {},
   "outputs": [
    {
     "name": "stdout",
     "output_type": "stream",
     "text": [
      "Working on focus position -0.4\n",
      "Generating group_id\n",
      "ENGTEST 0001 - 0001\n",
      "Waiting for header service LFO before continuing\n",
      "RemoteEvent(ATHeaderService, 0, logMessage) falling behind; read 15 messages\n",
      "Newest image id is = [2020022100537]\n",
      "Working on focus position -0.35000000000000003\n",
      "Generating group_id\n",
      "ENGTEST 0001 - 0001\n",
      "Waiting for header service LFO before continuing\n",
      "RemoteEvent(ATHeaderService, 0, logMessage) falling behind; read 10 messages\n",
      "Newest image id is = [2020022100538]\n",
      "Working on focus position -0.30000000000000004\n",
      "Generating group_id\n",
      "ENGTEST 0001 - 0001\n",
      "RemoteEvent(ATHeaderService, 0, logMessage) falling behind; read 10 messages\n",
      "Waiting for header service LFO before continuing\n",
      "Newest image id is = [2020022100539]\n",
      "Working on focus position -0.25\n",
      "Generating group_id\n",
      "ENGTEST 0001 - 0001\n",
      "Waiting for header service LFO before continuing\n",
      "RemoteEvent(ATHeaderService, 0, logMessage) falling behind; read 12 messages\n",
      "Newest image id is = [2020022100540]\n",
      "Working on focus position -0.2\n",
      "Generating group_id\n",
      "ENGTEST 0001 - 0001\n",
      "Waiting for header service LFO before continuing\n",
      "Newest image id is = [2020022100541]\n",
      "Working on focus position -0.15000000000000002\n",
      "Generating group_id\n",
      "ENGTEST 0001 - 0001\n",
      "Waiting for header service LFO before continuing\n",
      "RemoteEvent(ATHeaderService, 0, logMessage) falling behind; read 58 messages\n",
      "Newest image id is = [2020022100542]\n",
      "Working on focus position -0.09999999999999998\n",
      "Generating group_id\n",
      "ENGTEST 0001 - 0001\n",
      "Waiting for header service LFO before continuing\n",
      "RemoteEvent(ATHeaderService, 0, logMessage) falling behind; read 10 messages\n",
      "Newest image id is = [2020022100543]\n",
      "Working on focus position -0.04999999999999999\n",
      "Generating group_id\n",
      "ENGTEST 0001 - 0001\n",
      "Waiting for header service LFO before continuing\n",
      "RemoteEvent(ATHeaderService, 0, logMessage) falling behind; read 14 messages\n",
      "Newest image id is = [2020022100544]\n",
      "Working on focus position 0.0\n",
      "Generating group_id\n",
      "ENGTEST 0001 - 0001\n",
      "Waiting for header service LFO before continuing\n",
      "RemoteEvent(ATHeaderService, 0, logMessage) falling behind; read 10 messages\n",
      "Newest image id is = [2020022100545]\n"
     ]
    },
    {
     "data": {
      "text/plain": [
       "<lsst.ts.salobj.ddsutil.ATAOS_ackcmd_33d5c92b at 0x7fbe6ffa85f8>"
      ]
     },
     "execution_count": 9,
     "metadata": {},
     "output_type": "execute_result"
    },
    {
     "name": "stdout",
     "output_type": "stream",
     "text": [
      "RemoteEvent(ATHeaderService, 0, logMessage) falling behind; read 10 messages\n",
      "RemoteEvent(ATHeaderService, 0, logMessage) falling behind; read 16 messages\n",
      "RemoteEvent(ATHeaderService, 0, logMessage) falling behind; read 13 messages\n",
      "RemoteEvent(ATHeaderService, 0, logMessage) falling behind; read 17 messages\n",
      "RemoteEvent(ATHeaderService, 0, logMessage) falling behind; read 10 messages\n"
     ]
    }
   ],
   "source": [
    "#!!!!DO NOT RUN UNLESS YOU HAVE BEEN CLEARED TO CONTROL TELESCOPE!!!!! \n",
    "focus_images = [0 for focus_pos in focus_positions]\n",
    "for i in range(len(focus_positions)): \n",
    "    focus_pos = focus_positions[i] \n",
    "    print ('Working on focus position ' + str(focus_pos))\n",
    "    attcs.athexapod.evt_positionUpdate.flush() \n",
    "    await attcs.ataos.cmd_applyFocusOffset.set_start(offset=focus_pos)\n",
    "    await attcs.athexapod.evt_positionUpdate.next(flush=False, timeout=attcs.long_timeout)\n",
    "    focus_image = await latiss.take_engtest(exptime=5.0, n=1, filter='empty_1', grating='ronchi90lpmm') \n",
    "    print ('Newest image id is = ' +str(focus_image) )\n",
    "    focus_images[i] = int(focus_image)\n",
    "    \n",
    "#This resets the focus position after taking this sequence: \n",
    "await attcs.ataos.cmd_applyFocusOffset.set_start(offset = focus_center)"
   ]
  },
  {
   "cell_type": "code",
   "execution_count": 10,
   "metadata": {},
   "outputs": [
    {
     "data": {
      "text/plain": [
       "<lsst.ts.salobj.ddsutil.ATAOS_ackcmd_33d5c92b at 0x7fbe815b6a90>"
      ]
     },
     "execution_count": 10,
     "metadata": {},
     "output_type": "execute_result"
    }
   ],
   "source": [
    "best_focus = -0.1\n",
    "await attcs.ataos.cmd_applyFocusOffset.set_start(offset=best_focus)"
   ]
  },
  {
   "cell_type": "code",
   "execution_count": 11,
   "metadata": {},
   "outputs": [
    {
     "name": "stdout",
     "output_type": "stream",
     "text": [
      "Generating group_id\n",
      "OBJECT 0001 - 0001\n",
      "Waiting for header service LFO before continuing\n",
      "RemoteEvent(ATHeaderService, 0, logMessage) falling behind; read 14 messages\n"
     ]
    },
    {
     "data": {
      "text/plain": [
       "array([2020022100551])"
      ]
     },
     "execution_count": 11,
     "metadata": {},
     "output_type": "execute_result"
    }
   ],
   "source": [
    "await latiss.take_object(exptime=20, n=1, filter='empty_1',grating='ronchi90lpmm')"
   ]
  },
  {
   "cell_type": "code",
   "execution_count": 12,
   "metadata": {},
   "outputs": [
    {
     "name": "stdout",
     "output_type": "stream",
     "text": [
      "Generating group_id\n",
      "OBJECT 0001 - 0001\n",
      "Waiting for header service LFO before continuing\n",
      "RemoteEvent(ATHeaderService, 0, logMessage) falling behind; read 11 messages\n"
     ]
    },
    {
     "data": {
      "text/plain": [
       "array([2020022100552])"
      ]
     },
     "execution_count": 12,
     "metadata": {},
     "output_type": "execute_result"
    }
   ],
   "source": [
    "await latiss.take_object(exptime=20, n=1, filter='empty_1',grating='ronchi90lpmm')"
   ]
  },
  {
   "cell_type": "code",
   "execution_count": 14,
   "metadata": {},
   "outputs": [
    {
     "data": {
      "text/plain": [
       "<lsst.ts.salobj.ddsutil.ATAOS_ackcmd_33d5c92b at 0x7fbe6aef1ef0>"
      ]
     },
     "execution_count": 14,
     "metadata": {},
     "output_type": "execute_result"
    }
   ],
   "source": [
    "best_focus = -0.1\n",
    "focus_offset = 0.0265 \n",
    "await attcs.ataos.cmd_applyFocusOffset.set_start(offset=best_focus + focus_offset)"
   ]
  },
  {
   "cell_type": "code",
   "execution_count": 15,
   "metadata": {},
   "outputs": [
    {
     "name": "stdout",
     "output_type": "stream",
     "text": [
      "Generating group_id\n",
      "OBJECT 0001 - 0001\n",
      "Waiting for header service LFO before continuing\n",
      "RemoteEvent(ATHeaderService, 0, logMessage) falling behind; read 13 messages\n"
     ]
    },
    {
     "data": {
      "text/plain": [
       "array([2020022100553])"
      ]
     },
     "execution_count": 15,
     "metadata": {},
     "output_type": "execute_result"
    }
   ],
   "source": [
    "await latiss.take_object(exptime=20, n=1, filter='quadnotch1',grating='ronchi90lpmm')"
   ]
  },
  {
   "cell_type": "code",
   "execution_count": 16,
   "metadata": {},
   "outputs": [
    {
     "name": "stdout",
     "output_type": "stream",
     "text": [
      "Generating group_id\n",
      "OBJECT 0001 - 0001\n",
      "Waiting for header service LFO before continuing\n",
      "RemoteEvent(ATHeaderService, 0, logMessage) falling behind; read 12 messages\n"
     ]
    },
    {
     "data": {
      "text/plain": [
       "array([2020022100554])"
      ]
     },
     "execution_count": 16,
     "metadata": {},
     "output_type": "execute_result"
    }
   ],
   "source": [
    "await latiss.take_object(exptime=20, n=1, filter='quadnotch1',grating='ronchi90lpmm')"
   ]
  },
  {
   "cell_type": "code",
   "execution_count": 19,
   "metadata": {},
   "outputs": [
    {
     "data": {
      "text/plain": [
       "<lsst.ts.salobj.ddsutil.ATAOS_ackcmd_33d5c92b at 0x7fbe6aed9cf8>"
      ]
     },
     "execution_count": 19,
     "metadata": {},
     "output_type": "execute_result"
    }
   ],
   "source": [
    "best_focus = -0.1\n",
    "focus_offset = 0.0\n",
    "await attcs.ataos.cmd_applyFocusOffset.set_start(offset=best_focus + focus_offset)"
   ]
  },
  {
   "cell_type": "code",
   "execution_count": 20,
   "metadata": {},
   "outputs": [
    {
     "name": "stdout",
     "output_type": "stream",
     "text": [
      "Generating group_id\n",
      "OBJECT 0001 - 0002\n",
      "Waiting for header service LFO before continuing\n",
      "RemoteEvent(ATHeaderService, 0, logMessage) falling behind; read 12 messages\n",
      "OBJECT 0002 - 0002\n",
      "Waiting for header service LFO before continuing\n",
      "RemoteEvent(ATHeaderService, 0, logMessage) falling behind; read 10 messages\n"
     ]
    },
    {
     "data": {
      "text/plain": [
       "array([2020022100557, 2020022100558])"
      ]
     },
     "execution_count": 20,
     "metadata": {},
     "output_type": "execute_result"
    }
   ],
   "source": [
    "await latiss.take_object(exptime=60, n=2, filter='empty_1',grating='ronchi90lpmm')"
   ]
  },
  {
   "cell_type": "code",
   "execution_count": 21,
   "metadata": {},
   "outputs": [
    {
     "data": {
      "text/plain": [
       "<lsst.ts.salobj.ddsutil.ATAOS_ackcmd_33d5c92b at 0x7fbe6ffe77f0>"
      ]
     },
     "execution_count": 21,
     "metadata": {},
     "output_type": "execute_result"
    }
   ],
   "source": [
    "best_focus = -0.1\n",
    "focus_offset = 0.0265\n",
    "await attcs.ataos.cmd_applyFocusOffset.set_start(offset=best_focus + focus_offset)"
   ]
  },
  {
   "cell_type": "code",
   "execution_count": 22,
   "metadata": {},
   "outputs": [
    {
     "name": "stdout",
     "output_type": "stream",
     "text": [
      "Generating group_id\n",
      "OBJECT 0001 - 0001\n",
      "Waiting for header service LFO before continuing\n"
     ]
    },
    {
     "data": {
      "text/plain": [
       "array([2020022100559])"
      ]
     },
     "execution_count": 22,
     "metadata": {},
     "output_type": "execute_result"
    },
    {
     "name": "stdout",
     "output_type": "stream",
     "text": [
      "RemoteEvent(ATHeaderService, 0, logMessage) falling behind; read 12 messages\n"
     ]
    }
   ],
   "source": [
    "await latiss.take_object(exptime=60, n=1, filter='quadnotch1',grating='ronchi90lpmm')"
   ]
  },
  {
   "cell_type": "code",
   "execution_count": 24,
   "metadata": {},
   "outputs": [
    {
     "name": "stdout",
     "output_type": "stream",
     "text": [
      "Slewing to HD 146233: 16 15 37.2703 -08 22 09.981\n",
      "Parallactic angle: -119.1771885083919 | Sky Angle: -178.40196968693937\n",
      "Sending command\n",
      "Stop tracking.\n",
      "Mount tracking state is 9\n",
      "RemoteTelemetry(ATPtg, 0, guidingAndOffsets) falling behind; read 16 messages\n",
      "RemoteEvent(ATDomeTrajectory, 0, logMessage) falling behind; read 59 messages\n",
      "RemoteTelemetry(ATDome, 0, position) falling behind; read 15 messages\n",
      "RemoteTelemetry(ATPtg, 0, timeAndDate) falling behind; read 16 messages\n",
      "RemoteTelemetry(ATPtg, 0, mountStatus) falling behind; read 17 messages\n",
      "RemoteTelemetry(ATPtg, 0, currentTargetStatus) falling behind; read 17 messages\n",
      "RemoteEvent(ATMCS, 0, target) falling behind; read 60 messages\n",
      "Tracking state: 10.\n",
      "Tracking state: 8.\n",
      "In Position: True.\n",
      "In Position: False.\n"
     ]
    },
    {
     "ename": "AckError",
     "evalue": "msg='Command failed', ackcmd=(ackcmd private_seqNum=1579080120, ack=<SalRetCode.CMD_FAILED: -302>, error=6611, result='Rejected : elevation out of range')",
     "output_type": "error",
     "traceback": [
      "\u001b[0;31m\u001b[0m",
      "\u001b[0;31mAckError\u001b[0mTraceback (most recent call last)",
      "\u001b[0;32m<ipython-input-24-b68f466a5d85>\u001b[0m in \u001b[0;36masync-def-wrapper\u001b[0;34m()\u001b[0m\n",
      "\u001b[0;32m~/repos/ts_standardscripts/python/lsst/ts/standardscripts/auxtel/attcs.py\u001b[0m in \u001b[0;36mslew_object\u001b[0;34m(self, name, rot_sky, pa_ang, rot_pa, slew_timeout, track_id)\u001b[0m\n\u001b[1;32m    187\u001b[0m                              \u001b[0mtarget_name\u001b[0m\u001b[0;34m=\u001b[0m\u001b[0mname\u001b[0m\u001b[0;34m,\u001b[0m\u001b[0;34m\u001b[0m\u001b[0;34m\u001b[0m\u001b[0m\n\u001b[1;32m    188\u001b[0m                              \u001b[0mslew_timeout\u001b[0m\u001b[0;34m=\u001b[0m\u001b[0mslew_timeout\u001b[0m\u001b[0;34m,\u001b[0m\u001b[0;34m\u001b[0m\u001b[0;34m\u001b[0m\u001b[0m\n\u001b[0;32m--> 189\u001b[0;31m                              track_id=track_id)\n\u001b[0m\u001b[1;32m    190\u001b[0m \u001b[0;34m\u001b[0m\u001b[0m\n\u001b[1;32m    191\u001b[0m     async def slew_icrs(self, ra, dec, rot_sky=None, pa_ang=None, rot_pa=0.,\n",
      "\u001b[0;32m~/repos/ts_standardscripts/python/lsst/ts/standardscripts/auxtel/attcs.py\u001b[0m in \u001b[0;36mslew_icrs\u001b[0;34m(self, ra, dec, rot_sky, pa_ang, rot_pa, target_name, slew_timeout, track_id)\u001b[0m\n\u001b[1;32m    267\u001b[0m                         \u001b[0mrot_mode\u001b[0m\u001b[0;34m=\u001b[0m\u001b[0mATPtg\u001b[0m\u001b[0;34m.\u001b[0m\u001b[0mRotMode\u001b[0m\u001b[0;34m.\u001b[0m\u001b[0mFIELD\u001b[0m\u001b[0;34m,\u001b[0m\u001b[0;34m\u001b[0m\u001b[0;34m\u001b[0m\u001b[0m\n\u001b[1;32m    268\u001b[0m                         \u001b[0mslew_timeout\u001b[0m\u001b[0;34m=\u001b[0m\u001b[0mslew_timeout\u001b[0m\u001b[0;34m,\u001b[0m\u001b[0;34m\u001b[0m\u001b[0;34m\u001b[0m\u001b[0m\n\u001b[0;32m--> 269\u001b[0;31m                         track_id=track_id)\n\u001b[0m\u001b[1;32m    270\u001b[0m \u001b[0;34m\u001b[0m\u001b[0m\n\u001b[1;32m    271\u001b[0m     async def slew(self, ra, dec, rotPA=0., target_name=\"slew_icrs\",\n",
      "\u001b[0;32m~/repos/ts_standardscripts/python/lsst/ts/standardscripts/auxtel/attcs.py\u001b[0m in \u001b[0;36mslew\u001b[0;34m(self, ra, dec, rotPA, target_name, target_instance, frame, epoch, equinox, parallax, pmRA, pmDec, rv, dRA, dDec, rot_frame, rot_mode, slew_timeout, track_id)\u001b[0m\n\u001b[1;32m    313\u001b[0m \u001b[0;34m\u001b[0m\u001b[0m\n\u001b[1;32m    314\u001b[0m         await self._slew_to(self.atptg.cmd_raDecTarget,\n\u001b[0;32m--> 315\u001b[0;31m                             slew_timeout=slew_timeout)\n\u001b[0m\u001b[1;32m    316\u001b[0m \u001b[0;34m\u001b[0m\u001b[0m\n\u001b[1;32m    317\u001b[0m     async def slew_to_planet(self, planet,\n",
      "\u001b[0;32m~/repos/ts_standardscripts/python/lsst/ts/standardscripts/auxtel/attcs.py\u001b[0m in \u001b[0;36m_slew_to\u001b[0;34m(self, slew_cmd, slew_timeout)\u001b[0m\n\u001b[1;32m    817\u001b[0m             \u001b[0;32mpass\u001b[0m\u001b[0;34m\u001b[0m\u001b[0;34m\u001b[0m\u001b[0m\n\u001b[1;32m    818\u001b[0m \u001b[0;34m\u001b[0m\u001b[0m\n\u001b[0;32m--> 819\u001b[0;31m         \u001b[0mack\u001b[0m \u001b[0;34m=\u001b[0m \u001b[0;32mawait\u001b[0m \u001b[0mslew_cmd\u001b[0m\u001b[0;34m.\u001b[0m\u001b[0mstart\u001b[0m\u001b[0;34m(\u001b[0m\u001b[0mtimeout\u001b[0m\u001b[0;34m=\u001b[0m\u001b[0mslew_timeout\u001b[0m\u001b[0;34m)\u001b[0m\u001b[0;34m\u001b[0m\u001b[0;34m\u001b[0m\u001b[0m\n\u001b[0m\u001b[1;32m    820\u001b[0m         \u001b[0mself\u001b[0m\u001b[0;34m.\u001b[0m\u001b[0mdome_az_in_position\u001b[0m\u001b[0;34m.\u001b[0m\u001b[0mclear\u001b[0m\u001b[0;34m(\u001b[0m\u001b[0;34m)\u001b[0m\u001b[0;34m\u001b[0m\u001b[0;34m\u001b[0m\u001b[0m\n\u001b[1;32m    821\u001b[0m \u001b[0;34m\u001b[0m\u001b[0m\n",
      "\u001b[0;32m~/repos/ts_salobj/python/lsst/ts/salobj/topics/remote_command.py\u001b[0m in \u001b[0;36mstart\u001b[0;34m(self, data, timeout, wait_done)\u001b[0m\n\u001b[1;32m    360\u001b[0m         \u001b[0mcmd_info\u001b[0m \u001b[0;34m=\u001b[0m \u001b[0m_CommandInfo\u001b[0m\u001b[0;34m(\u001b[0m\u001b[0mremote_command\u001b[0m\u001b[0;34m=\u001b[0m\u001b[0mself\u001b[0m\u001b[0;34m,\u001b[0m \u001b[0mseq_num\u001b[0m\u001b[0;34m=\u001b[0m\u001b[0mseq_num\u001b[0m\u001b[0;34m,\u001b[0m \u001b[0mwait_done\u001b[0m\u001b[0;34m=\u001b[0m\u001b[0mwait_done\u001b[0m\u001b[0;34m)\u001b[0m\u001b[0;34m\u001b[0m\u001b[0;34m\u001b[0m\u001b[0m\n\u001b[1;32m    361\u001b[0m         \u001b[0mself\u001b[0m\u001b[0;34m.\u001b[0m\u001b[0msalinfo\u001b[0m\u001b[0;34m.\u001b[0m\u001b[0m_running_cmds\u001b[0m\u001b[0;34m[\u001b[0m\u001b[0mseq_num\u001b[0m\u001b[0;34m]\u001b[0m \u001b[0;34m=\u001b[0m \u001b[0mcmd_info\u001b[0m\u001b[0;34m\u001b[0m\u001b[0;34m\u001b[0m\u001b[0m\n\u001b[0;32m--> 362\u001b[0;31m         \u001b[0;32mreturn\u001b[0m \u001b[0;32mawait\u001b[0m \u001b[0mcmd_info\u001b[0m\u001b[0;34m.\u001b[0m\u001b[0mnext_ackcmd\u001b[0m\u001b[0;34m(\u001b[0m\u001b[0mtimeout\u001b[0m\u001b[0;34m=\u001b[0m\u001b[0mtimeout\u001b[0m\u001b[0;34m)\u001b[0m\u001b[0;34m\u001b[0m\u001b[0;34m\u001b[0m\u001b[0m\n\u001b[0m",
      "\u001b[0;32m~/repos/ts_salobj/python/lsst/ts/salobj/topics/remote_command.py\u001b[0m in \u001b[0;36mnext_ackcmd\u001b[0;34m(self, timeout)\u001b[0m\n\u001b[1;32m    163\u001b[0m             \u001b[0;31m# print(f\"next_ackcmd got {ackcmd.ack} from _basic_next_ack\")\u001b[0m\u001b[0;34m\u001b[0m\u001b[0;34m\u001b[0m\u001b[0;34m\u001b[0m\u001b[0m\n\u001b[1;32m    164\u001b[0m             \u001b[0;32mif\u001b[0m \u001b[0mackcmd\u001b[0m\u001b[0;34m.\u001b[0m\u001b[0mack\u001b[0m \u001b[0;32min\u001b[0m \u001b[0mself\u001b[0m\u001b[0;34m.\u001b[0m\u001b[0mfailed_ack_codes\u001b[0m\u001b[0;34m:\u001b[0m\u001b[0;34m\u001b[0m\u001b[0;34m\u001b[0m\u001b[0m\n\u001b[0;32m--> 165\u001b[0;31m                 \u001b[0;32mraise\u001b[0m \u001b[0mbase\u001b[0m\u001b[0;34m.\u001b[0m\u001b[0mAckError\u001b[0m\u001b[0;34m(\u001b[0m\u001b[0mmsg\u001b[0m\u001b[0;34m=\u001b[0m\u001b[0;34m\"Command failed\"\u001b[0m\u001b[0;34m,\u001b[0m \u001b[0mackcmd\u001b[0m\u001b[0;34m=\u001b[0m\u001b[0mackcmd\u001b[0m\u001b[0;34m)\u001b[0m\u001b[0;34m\u001b[0m\u001b[0;34m\u001b[0m\u001b[0m\n\u001b[0m\u001b[1;32m    166\u001b[0m             \u001b[0;32mreturn\u001b[0m \u001b[0mackcmd\u001b[0m\u001b[0;34m\u001b[0m\u001b[0;34m\u001b[0m\u001b[0m\n\u001b[1;32m    167\u001b[0m         \u001b[0;32mexcept\u001b[0m \u001b[0masyncio\u001b[0m\u001b[0;34m.\u001b[0m\u001b[0mTimeoutError\u001b[0m\u001b[0;34m:\u001b[0m\u001b[0;34m\u001b[0m\u001b[0;34m\u001b[0m\u001b[0m\n",
      "\u001b[0;31mAckError\u001b[0m: msg='Command failed', ackcmd=(ackcmd private_seqNum=1579080120, ack=<SalRetCode.CMD_FAILED: -302>, error=6611, result='Rejected : elevation out of range')"
     ]
    }
   ],
   "source": [
    "await attcs.slew_object(name = \"HD 146233\", pa_ang = 0.0, slew_timeout = 240.)"
   ]
  },
  {
   "cell_type": "code",
   "execution_count": 25,
   "metadata": {},
   "outputs": [
    {
     "name": "stdout",
     "output_type": "stream",
     "text": [
      "Slewing to HD 185975: 20 28 18.7402 -87 28 19.938\n",
      "Parallactic angle: -140.68384708902587 | Sky Angle: -174.30620805882373\n",
      "Sending command\n",
      "Stop tracking.\n",
      "Mount tracking state is 8\n",
      "In Position: False.\n",
      "Scheduling check coroutines\n",
      "process as completed...\n",
      "Got False\n",
      "Telescope not in position\n",
      "atmcs: <State.ENABLED: 2>\n",
      "atptg: <State.ENABLED: 2>\n",
      "ataos: <State.ENABLED: 2>\n",
      "atpneumatics: <State.ENABLED: 2>\n",
      "athexapod: <State.ENABLED: 2>\n",
      "atdome: <State.ENABLED: 2>\n",
      "atdometrajectory: <State.ENABLED: 2>\n",
      "[Telescope] delta Alt = +000.016 | delta Az= +000.005 [Dome] delta Az = -002.900\n",
      "[Telescope] delta Alt = +000.004 | delta Az= -000.007 [Dome] delta Az = -002.900\n",
      "[Telescope] delta Alt = +000.004 | delta Az= -000.007 [Dome] delta Az = -002.900\n",
      "[Telescope] delta Alt = +000.004 | delta Az= -000.007 [Dome] delta Az = -002.900\n",
      "[Telescope] delta Alt = +000.004 | delta Az= -000.007 [Dome] delta Az = -002.900\n",
      "[Telescope] delta Alt = +000.004 | delta Az= -000.007 [Dome] delta Az = -002.900\n",
      "[Telescope] delta Alt = +000.004 | delta Az= -000.006 [Dome] delta Az = -002.900\n",
      "[Telescope] delta Alt = +000.004 | delta Az= -000.006 [Dome] delta Az = -002.900\n",
      "[Telescope] delta Alt = +000.004 | delta Az= -000.006 [Dome] delta Az = -002.900\n",
      "[Telescope] delta Alt = +000.004 | delta Az= -000.006 [Dome] delta Az = -002.900\n",
      "[Telescope] delta Alt = +000.004 | delta Az= -000.006 [Dome] delta Az = -002.900\n",
      "[Telescope] delta Alt = +000.004 | delta Az= -000.006 [Dome] delta Az = -002.900\n",
      "[Telescope] delta Alt = +000.004 | delta Az= -000.006 [Dome] delta Az = -002.900\n",
      "[Telescope] delta Alt = +000.004 | delta Az= -000.006 [Dome] delta Az = -002.900\n",
      "[Telescope] delta Alt = +000.004 | delta Az= -000.006 [Dome] delta Az = -002.900\n",
      "[Telescope] delta Alt = +000.004 | delta Az= -000.006 [Dome] delta Az = -002.900\n",
      "[Telescope] delta Alt = +000.004 | delta Az= -000.006 [Dome] delta Az = -002.900\n",
      "[Telescope] delta Alt = +000.004 | delta Az= -000.006 [Dome] delta Az = -002.900\n",
      "[Telescope] delta Alt = +000.004 | delta Az= -000.006 [Dome] delta Az = -002.900\n",
      "[Telescope] delta Alt = +000.004 | delta Az= -000.006 [Dome] delta Az = -002.900\n",
      "[Telescope] delta Alt = +000.004 | delta Az= -000.006 [Dome] delta Az = -002.900\n",
      "[Telescope] delta Alt = +000.004 | delta Az= -000.006 [Dome] delta Az = -002.900\n",
      "[Telescope] delta Alt = +000.004 | delta Az= -000.006 [Dome] delta Az = -002.900\n",
      "[Telescope] delta Alt = +000.004 | delta Az= -000.006 [Dome] delta Az = -002.900\n",
      "[Telescope] delta Alt = +000.004 | delta Az= -000.006 [Dome] delta Az = -002.900\n",
      "[Telescope] delta Alt = +000.004 | delta Az= -000.006 [Dome] delta Az = -002.900\n",
      "[Telescope] delta Alt = +000.004 | delta Az= -000.006 [Dome] delta Az = -002.900\n",
      "[Telescope] delta Alt = +000.004 | delta Az= -000.006 [Dome] delta Az = -002.900\n",
      "[Telescope] delta Alt = +000.004 | delta Az= -000.006 [Dome] delta Az = -002.900\n",
      "[Telescope] delta Alt = +000.004 | delta Az= -000.006 [Dome] delta Az = -002.900\n",
      "[Telescope] delta Alt = +000.004 | delta Az= -000.006 [Dome] delta Az = -002.900\n",
      "[Telescope] delta Alt = +000.004 | delta Az= -000.006 [Dome] delta Az = -002.900\n",
      "[Telescope] delta Alt = +000.004 | delta Az= -000.006 [Dome] delta Az = -002.900\n",
      "[Telescope] delta Alt = +000.004 | delta Az= -000.006 [Dome] delta Az = -002.900\n",
      "[Telescope] delta Alt = +000.004 | delta Az= -000.006 [Dome] delta Az = -002.900\n",
      "[Telescope] delta Alt = +000.004 | delta Az= -000.006 [Dome] delta Az = -002.900\n",
      "[Telescope] delta Alt = +000.004 | delta Az= -000.006 [Dome] delta Az = -002.900\n",
      "[Telescope] delta Alt = +000.004 | delta Az= -000.006 [Dome] delta Az = -002.900\n",
      "[Telescope] delta Alt = +000.004 | delta Az= -000.006 [Dome] delta Az = -002.900\n",
      "[Telescope] delta Alt = +000.004 | delta Az= -000.006 [Dome] delta Az = -002.900\n",
      "[Telescope] delta Alt = +000.004 | delta Az= -000.006 [Dome] delta Az = -002.900\n",
      "[Telescope] delta Alt = +000.004 | delta Az= -000.006 [Dome] delta Az = -002.900\n",
      "[Telescope] delta Alt = +000.004 | delta Az= -000.006 [Dome] delta Az = -002.900\n",
      "[Telescope] delta Alt = +000.004 | delta Az= -000.006 [Dome] delta Az = -002.900\n",
      "[Telescope] delta Alt = +000.004 | delta Az= -000.006 [Dome] delta Az = -002.900\n",
      "[Telescope] delta Alt = +000.004 | delta Az= -000.006 [Dome] delta Az = -002.900\n",
      "[Telescope] delta Alt = +000.004 | delta Az= -000.006 [Dome] delta Az = -002.900\n",
      "[Telescope] delta Alt = +000.004 | delta Az= -000.006 [Dome] delta Az = -002.900\n",
      "[Telescope] delta Alt = +000.004 | delta Az= -000.006 [Dome] delta Az = -002.900\n",
      "[Telescope] delta Alt = +000.004 | delta Az= -000.006 [Dome] delta Az = -002.900\n",
      "Got True\n",
      "Waiting for telescope to settle.\n",
      "[Telescope] delta Alt = +000.004 | delta Az= -000.006 [Dome] delta Az = -002.900\n",
      "Telescope in position.\n",
      "ATDome in position.\n",
      "['Telescope in position.', 'ATDome in position.']\n"
     ]
    }
   ],
   "source": [
    "await attcs.slew_object(name = \"HD 185975\", pa_ang = 0.0, slew_timeout = 240.)"
   ]
  },
  {
   "cell_type": "code",
   "execution_count": 26,
   "metadata": {},
   "outputs": [
    {
     "name": "stdout",
     "output_type": "stream",
     "text": [
      "Slewing to HD 146233: 16 15 37.2703 -08 22 09.981\n",
      "Parallactic angle: -119.17130171554307 | Sky Angle: -177.1390321298061\n",
      "Sending command\n",
      "Stop tracking.\n",
      "Mount tracking state is 9\n",
      "Tracking state: 10.\n",
      "Tracking state: 8.\n",
      "In Position: True.\n",
      "In Position: False.\n",
      "Scheduling check coroutines\n",
      "process as completed...\n",
      "Got False\n",
      "Telescope not in position\n",
      "atmcs: <State.ENABLED: 2>\n",
      "atptg: <State.ENABLED: 2>\n",
      "ataos: <State.ENABLED: 2>\n",
      "atpneumatics: <State.ENABLED: 2>\n",
      "athexapod: <State.ENABLED: 2>\n",
      "atdome: <State.ENABLED: 2>\n",
      "atdometrajectory: <State.ENABLED: 2>\n",
      "[Telescope] delta Alt = -012.147 | delta Az= -087.546 [Dome] delta Az = -091.026\n",
      "[Telescope] delta Alt = -011.192 | delta Az= -084.680 [Dome] delta Az = -090.196\n",
      "[Telescope] delta Alt = -008.287 | delta Az= -080.689 [Dome] delta Az = -088.446\n",
      "[Telescope] delta Alt = -004.367 | delta Az= -076.691 [Dome] delta Az = -085.756\n",
      "[Telescope] delta Alt = -001.189 | delta Az= -072.695 [Dome] delta Az = -082.156\n",
      "[Telescope] delta Alt = +000.075 | delta Az= -068.701 [Dome] delta Az = -077.616\n",
      "[Telescope] delta Alt = +000.133 | delta Az= -064.705 [Dome] delta Az = -072.166\n",
      "[Telescope] delta Alt = +000.131 | delta Az= -060.709 [Dome] delta Az = -066.526\n",
      "[Telescope] delta Alt = +000.131 | delta Az= -056.713 [Dome] delta Az = -059.596\n",
      "[Telescope] delta Alt = +000.131 | delta Az= -052.717 [Dome] delta Az = -052.716\n",
      "[Telescope] delta Alt = +000.131 | delta Az= -048.721 [Dome] delta Az = -045.836\n",
      "[Telescope] delta Alt = +000.131 | delta Az= -044.726 [Dome] delta Az = -038.946\n",
      "[Telescope] delta Alt = +000.131 | delta Az= -040.731 [Dome] delta Az = -032.056\n",
      "[Telescope] delta Alt = +000.132 | delta Az= -036.734 [Dome] delta Az = -025.856\n",
      "[Telescope] delta Alt = +000.131 | delta Az= -032.737 [Dome] delta Az = -018.976\n",
      "[Telescope] delta Alt = +000.131 | delta Az= -028.745 [Dome] delta Az = -012.096\n",
      "[Telescope] delta Alt = +000.131 | delta Az= -024.769 [Dome] delta Az = -005.216\n",
      "[Telescope] delta Alt = +000.131 | delta Az= -020.858 [Dome] delta Az = +000.414\n",
      "[Telescope] delta Alt = +000.131 | delta Az= -017.083 [Dome] delta Az = +002.814\n",
      "[Telescope] delta Alt = +000.131 | delta Az= -013.522 [Dome] delta Az = +002.924\n",
      "[Telescope] delta Alt = +000.131 | delta Az= -010.256 [Dome] delta Az = +002.924\n",
      "[Telescope] delta Alt = +000.131 | delta Az= -007.377 [Dome] delta Az = +002.924\n",
      "[Telescope] delta Alt = +000.131 | delta Az= -004.948 [Dome] delta Az = +002.924\n",
      "[Telescope] delta Alt = +000.131 | delta Az= -003.019 [Dome] delta Az = +002.924\n",
      "[Telescope] delta Alt = +000.131 | delta Az= -001.610 [Dome] delta Az = +002.924\n",
      "[Telescope] delta Alt = +000.131 | delta Az= -000.703 [Dome] delta Az = +002.924\n",
      "[Telescope] delta Alt = +000.131 | delta Az= -000.237 [Dome] delta Az = +002.924\n",
      "[Telescope] delta Alt = +000.131 | delta Az= -000.086 [Dome] delta Az = +002.924\n",
      "[Telescope] delta Alt = +000.131 | delta Az= -000.077 [Dome] delta Az = +002.924\n",
      "Got True\n",
      "Waiting for telescope to settle.\n",
      "[Telescope] delta Alt = +000.131 | delta Az= -000.077 [Dome] delta Az = +002.924\n",
      "[Telescope] delta Alt = +000.130 | delta Az= -000.076 [Dome] delta Az = +002.924\n",
      "Telescope in position.\n",
      "ATDome in position.\n",
      "['Telescope in position.', 'ATDome in position.']\n"
     ]
    }
   ],
   "source": [
    "await attcs.slew_object(name = \"HD 146233\", pa_ang = 0.0, slew_timeout = 240.)"
   ]
  },
  {
   "cell_type": "code",
   "execution_count": 27,
   "metadata": {},
   "outputs": [
    {
     "name": "stdout",
     "output_type": "stream",
     "text": [
      "Generating group_id\n",
      "OBJECT 0001 - 0001\n",
      "Waiting for header service LFO before continuing\n",
      "RemoteEvent(ATHeaderService, 0, logMessage) falling behind; read 11 messages\n"
     ]
    },
    {
     "data": {
      "text/plain": [
       "array([2020022100561])"
      ]
     },
     "execution_count": 27,
     "metadata": {},
     "output_type": "execute_result"
    }
   ],
   "source": [
    "await latiss.take_object(exptime=10, n=1, filter='empty_1',grating='ronchi90lpmm')"
   ]
  },
  {
   "cell_type": "code",
   "execution_count": 28,
   "metadata": {},
   "outputs": [
    {
     "name": "stdout",
     "output_type": "stream",
     "text": [
      "Applying x/y offset: -28/ -146 \n",
      "Applying Az/El offset: 145.36032707815238/ 31.150847688827987 \n",
      "Waiting for telescope to settle.\n",
      "Done\n"
     ]
    }
   ],
   "source": [
    "await attcs.offset_xy(x = -28, y = -146, persistent = True)"
   ]
  },
  {
   "cell_type": "code",
   "execution_count": 29,
   "metadata": {},
   "outputs": [
    {
     "name": "stdout",
     "output_type": "stream",
     "text": [
      "Generating group_id\n",
      "OBJECT 0001 - 0001\n",
      "Waiting for header service LFO before continuing\n",
      "RemoteEvent(ATHeaderService, 0, logMessage) falling behind; read 17 messages\n"
     ]
    },
    {
     "data": {
      "text/plain": [
       "array([2020022100562])"
      ]
     },
     "execution_count": 29,
     "metadata": {},
     "output_type": "execute_result"
    }
   ],
   "source": [
    "await latiss.take_object(exptime=2, n=1, filter='empty_1',grating='ronchi90lpmm')"
   ]
  },
  {
   "cell_type": "code",
   "execution_count": 30,
   "metadata": {},
   "outputs": [
    {
     "name": "stdout",
     "output_type": "stream",
     "text": [
      "focus_positions = [-0.42 -0.34 -0.26 -0.18 -0.1  -0.02  0.06  0.14  0.22]\n"
     ]
    }
   ],
   "source": [
    "best_focus_fit = -0.1\n",
    "import math \n",
    "#Focus units are given in mm \n",
    "focus_center = -0.1\n",
    "focus_step = 0.08\n",
    "n_steps = 9\n",
    "focus_positions = np.linspace(focus_center - focus_step * math.floor(n_steps / 2), focus_center + focus_step * math.ceil(n_steps / 2 - 1), n_steps)\n",
    "print ('focus_positions = ' + str(focus_positions))"
   ]
  },
  {
   "cell_type": "code",
   "execution_count": 31,
   "metadata": {},
   "outputs": [
    {
     "name": "stdout",
     "output_type": "stream",
     "text": [
      "Working on focus position -0.42000000000000004\n",
      "Generating group_id\n",
      "ENGTEST 0001 - 0001\n",
      "Waiting for header service LFO before continuing\n",
      "RemoteEvent(ATHeaderService, 0, logMessage) falling behind; read 11 messages\n",
      "Newest image id is = [2020022100563]\n",
      "Working on focus position -0.34\n",
      "Generating group_id\n",
      "ENGTEST 0001 - 0001\n",
      "Waiting for header service LFO before continuing\n",
      "RemoteEvent(ATHeaderService, 0, logMessage) falling behind; read 23 messages\n",
      "Newest image id is = [2020022100564]\n",
      "Working on focus position -0.26\n",
      "Generating group_id\n",
      "ENGTEST 0001 - 0001\n",
      "Waiting for header service LFO before continuing\n",
      "RemoteEvent(ATHeaderService, 0, logMessage) falling behind; read 13 messages\n",
      "Newest image id is = [2020022100565]\n",
      "Working on focus position -0.18000000000000005\n",
      "Generating group_id\n",
      "ENGTEST 0001 - 0001\n",
      "Waiting for header service LFO before continuing\n",
      "RemoteEvent(ATHeaderService, 0, logMessage) falling behind; read 16 messages\n",
      "Newest image id is = [2020022100566]\n",
      "Working on focus position -0.10000000000000003\n",
      "Generating group_id\n",
      "ENGTEST 0001 - 0001\n",
      "Waiting for header service LFO before continuing\n",
      "Newest image id is = [2020022100567]\n",
      "Working on focus position -0.020000000000000018\n",
      "Generating group_id\n",
      "ENGTEST 0001 - 0001\n",
      "Waiting for header service LFO before continuing\n",
      "RemoteEvent(ATHeaderService, 0, logMessage) falling behind; read 12 messages\n",
      "Newest image id is = [2020022100568]\n",
      "Working on focus position 0.05999999999999994\n",
      "Generating group_id\n",
      "ENGTEST 0001 - 0001\n",
      "Waiting for header service LFO before continuing\n",
      "RemoteEvent(ATHeaderService, 0, logMessage) falling behind; read 14 messages\n",
      "Newest image id is = [2020022100569]\n",
      "Working on focus position 0.14\n",
      "Generating group_id\n",
      "ENGTEST 0001 - 0001\n",
      "Waiting for header service LFO before continuing\n",
      "RemoteEvent(ATHeaderService, 0, logMessage) falling behind; read 14 messages\n",
      "Newest image id is = [2020022100570]\n",
      "Working on focus position 0.22\n",
      "Generating group_id\n",
      "ENGTEST 0001 - 0001\n",
      "Waiting for header service LFO before continuing\n",
      "Newest image id is = [2020022100571]\n"
     ]
    },
    {
     "data": {
      "text/plain": [
       "<lsst.ts.salobj.ddsutil.ATAOS_ackcmd_33d5c92b at 0x7fbe8149a160>"
      ]
     },
     "execution_count": 31,
     "metadata": {},
     "output_type": "execute_result"
    },
    {
     "name": "stdout",
     "output_type": "stream",
     "text": [
      "RemoteEvent(ATDomeTrajectory, 0, logMessage) falling behind; read 10 messages\n",
      "RemoteEvent(ATMCS, 0, target) falling behind; read 100 messages\n"
     ]
    }
   ],
   "source": [
    "#!!!!DO NOT RUN UNLESS YOU HAVE BEEN CLEARED TO CONTROL TELESCOPE!!!!! \n",
    "focus_images = [0 for focus_pos in focus_positions]\n",
    "for i in range(len(focus_positions)): \n",
    "    focus_pos = focus_positions[i] \n",
    "    print ('Working on focus position ' + str(focus_pos))\n",
    "    attcs.athexapod.evt_positionUpdate.flush() \n",
    "    await attcs.ataos.cmd_applyFocusOffset.set_start(offset=focus_pos)\n",
    "    await attcs.athexapod.evt_positionUpdate.next(flush=False, timeout=attcs.long_timeout)\n",
    "    focus_image = await latiss.take_engtest(exptime=5.0, n=1, filter='empty_1', grating='ronchi90lpmm') \n",
    "    print ('Newest image id is = ' +str(focus_image) )\n",
    "    focus_images[i] = int(focus_image)\n",
    "    \n",
    "#This resets the focus position after taking this sequence: \n",
    "await attcs.ataos.cmd_applyFocusOffset.set_start(offset = focus_center)"
   ]
  },
  {
   "cell_type": "code",
   "execution_count": 32,
   "metadata": {},
   "outputs": [
    {
     "name": "stdout",
     "output_type": "stream",
     "text": [
      "Working on focus position -0.42000000000000004\n",
      "Generating group_id\n",
      "ENGTEST 0001 - 0001\n",
      "Waiting for header service LFO before continuing\n",
      "RemoteEvent(ATHeaderService, 0, logMessage) falling behind; read 10 messages\n",
      "Newest image id is = [2020022100572]\n",
      "Working on focus position -0.34\n",
      "Generating group_id\n",
      "ENGTEST 0001 - 0001\n",
      "Waiting for header service LFO before continuing\n",
      "RemoteEvent(ATHeaderService, 0, logMessage) falling behind; read 11 messages\n",
      "RemoteEvent(ATDomeTrajectory, 0, logMessage) falling behind; read 13 messages\n",
      "RemoteEvent(ATMCS, 0, target) falling behind; read 41 messages\n",
      "Newest image id is = [2020022100573]\n",
      "Working on focus position -0.26\n",
      "Generating group_id\n",
      "ENGTEST 0001 - 0001\n",
      "Waiting for header service LFO before continuing\n",
      "RemoteEvent(ATHeaderService, 0, logMessage) falling behind; read 11 messages\n",
      "Newest image id is = [2020022100574]\n",
      "Working on focus position -0.18000000000000005\n",
      "Generating group_id\n",
      "ENGTEST 0001 - 0001\n",
      "Waiting for header service LFO before continuing\n",
      "RemoteEvent(ATHeaderService, 0, logMessage) falling behind; read 10 messages\n",
      "Newest image id is = [2020022100575]\n",
      "Working on focus position -0.10000000000000003\n",
      "Generating group_id\n",
      "ENGTEST 0001 - 0001\n",
      "Waiting for header service LFO before continuing\n",
      "RemoteEvent(ATHeaderService, 0, logMessage) falling behind; read 15 messages\n",
      "Newest image id is = [2020022100576]\n",
      "Working on focus position -0.020000000000000018\n",
      "Generating group_id\n",
      "ENGTEST 0001 - 0001\n",
      "Waiting for header service LFO before continuing\n",
      "RemoteEvent(ATHeaderService, 0, logMessage) falling behind; read 12 messages\n",
      "Newest image id is = [2020022100577]\n",
      "Working on focus position 0.05999999999999994\n",
      "Generating group_id\n",
      "ENGTEST 0001 - 0001\n",
      "Waiting for header service LFO before continuing\n",
      "RemoteEvent(ATHeaderService, 0, logMessage) falling behind; read 12 messages\n",
      "Newest image id is = [2020022100578]\n",
      "Working on focus position 0.14\n",
      "Generating group_id\n",
      "ENGTEST 0001 - 0001\n",
      "RemoteEvent(ATHeaderService, 0, logMessage) falling behind; read 11 messages\n",
      "Waiting for header service LFO before continuing\n",
      "Newest image id is = [2020022100579]\n",
      "Working on focus position 0.22\n",
      "Generating group_id\n",
      "ENGTEST 0001 - 0001\n",
      "Waiting for header service LFO before continuing\n",
      "RemoteEvent(ATHeaderService, 0, logMessage) falling behind; read 11 messages\n",
      "Newest image id is = [2020022100580]\n"
     ]
    },
    {
     "data": {
      "text/plain": [
       "<lsst.ts.salobj.ddsutil.ATAOS_ackcmd_33d5c92b at 0x7fbd53f9a400>"
      ]
     },
     "execution_count": 32,
     "metadata": {},
     "output_type": "execute_result"
    }
   ],
   "source": [
    "#!!!!DO NOT RUN UNLESS YOU HAVE BEEN CLEARED TO CONTROL TELESCOPE!!!!! \n",
    "focus_images = [0 for focus_pos in focus_positions]\n",
    "for i in range(len(focus_positions)): \n",
    "    focus_pos = focus_positions[i] \n",
    "    print ('Working on focus position ' + str(focus_pos))\n",
    "    attcs.athexapod.evt_positionUpdate.flush() \n",
    "    await attcs.ataos.cmd_applyFocusOffset.set_start(offset=focus_pos)\n",
    "    await attcs.athexapod.evt_positionUpdate.next(flush=False, timeout=attcs.long_timeout)\n",
    "    focus_image = await latiss.take_engtest(exptime=5.0, n=1, filter='empty_1', grating='ronchi90lpmm') \n",
    "    print ('Newest image id is = ' +str(focus_image) )\n",
    "    focus_images[i] = int(focus_image)\n",
    "    \n",
    "#This resets the focus position after taking this sequence: \n",
    "await attcs.ataos.cmd_applyFocusOffset.set_start(offset = focus_center)"
   ]
  },
  {
   "cell_type": "code",
   "execution_count": 34,
   "metadata": {},
   "outputs": [
    {
     "data": {
      "text/plain": [
       "<lsst.ts.salobj.ddsutil.ATAOS_ackcmd_33d5c92b at 0x7fbe6ff7bcc0>"
      ]
     },
     "execution_count": 34,
     "metadata": {},
     "output_type": "execute_result"
    },
    {
     "name": "stdout",
     "output_type": "stream",
     "text": [
      "RemoteEvent(ATHeaderService, 0, logMessage) falling behind; read 11 messages\n",
      "RemoteEvent(ATHeaderService, 0, logMessage) falling behind; read 10 messages\n",
      "RemoteEvent(ATHeaderService, 0, logMessage) falling behind; read 11 messages\n",
      "RemoteEvent(ATHeaderService, 0, logMessage) falling behind; read 18 messages\n",
      "RemoteEvent(ATHeaderService, 0, logMessage) falling behind; read 11 messages\n",
      "RemoteEvent(ATHeaderService, 0, logMessage) falling behind; read 10 messages\n",
      "RemoteEvent(ATHeaderService, 0, logMessage) falling behind; read 13 messages\n",
      "RemoteEvent(ATHeaderService, 0, logMessage) falling behind; read 11 messages\n",
      "RemoteEvent(ATHeaderService, 0, logMessage) falling behind; read 12 messages\n"
     ]
    }
   ],
   "source": [
    "best_focus = 0.15\n",
    "focus_offset = 0.0\n",
    "await attcs.ataos.cmd_applyFocusOffset.set_start(offset=best_focus + focus_offset)"
   ]
  },
  {
   "cell_type": "code",
   "execution_count": 35,
   "metadata": {},
   "outputs": [
    {
     "name": "stdout",
     "output_type": "stream",
     "text": [
      "Slewing to HD 146233: 16 15 37.2703 -08 22 09.981\n",
      "Parallactic angle: -119.273342229301 | Sky Angle: -167.37104370507151\n",
      "Sending command\n",
      "Stop tracking.\n",
      "Mount tracking state is 9\n",
      "Tracking state: 10.\n",
      "Tracking state: 8.\n",
      "In Position: True.\n",
      "In Position: False.\n",
      "Scheduling check coroutines\n",
      "process as completed...\n",
      "Got False\n",
      "Telescope not in position\n",
      "atmcs: <State.ENABLED: 2>\n",
      "atptg: <State.ENABLED: 2>\n",
      "ataos: <State.ENABLED: 2>\n",
      "atpneumatics: <State.ENABLED: 2>\n",
      "athexapod: <State.ENABLED: 2>\n",
      "atdome: <State.ENABLED: 2>\n",
      "atdometrajectory: <State.ENABLED: 2>\n",
      "[Telescope] delta Alt = +000.610 | delta Az= -000.074 [Dome] delta Az = +002.924\n",
      "[Telescope] delta Alt = +000.132 | delta Az= -000.082 [Dome] delta Az = +002.924\n",
      "[Telescope] delta Alt = +000.131 | delta Az= -000.081 [Dome] delta Az = +002.924\n",
      "[Telescope] delta Alt = +000.131 | delta Az= -000.079 [Dome] delta Az = +002.924\n",
      "Got True\n",
      "Waiting for telescope to settle.\n",
      "[Telescope] delta Alt = +000.131 | delta Az= -000.078 [Dome] delta Az = +002.924\n",
      "Telescope in position.\n",
      "ATDome in position.\n",
      "['Telescope in position.', 'ATDome in position.']\n"
     ]
    }
   ],
   "source": [
    "await attcs.slew_object(name = \"HD 146233\", pa_ang = 0.0, slew_timeout = 240.)"
   ]
  },
  {
   "cell_type": "code",
   "execution_count": 36,
   "metadata": {},
   "outputs": [
    {
     "name": "stdout",
     "output_type": "stream",
     "text": [
      "Generating group_id\n",
      "OBJECT 0001 - 0001\n",
      "Waiting for header service LFO before continuing\n",
      "RemoteEvent(ATHeaderService, 0, logMessage) falling behind; read 12 messages\n"
     ]
    },
    {
     "data": {
      "text/plain": [
       "array([2020022100592])"
      ]
     },
     "execution_count": 36,
     "metadata": {},
     "output_type": "execute_result"
    },
    {
     "name": "stdout",
     "output_type": "stream",
     "text": [
      "RemoteEvent(ATHeaderService, 0, logMessage) falling behind; read 10 messages\n",
      "RemoteEvent(ATHeaderService, 0, logMessage) falling behind; read 14 messages\n",
      "RemoteEvent(ATHeaderService, 0, logMessage) falling behind; read 10 messages\n",
      "RemoteEvent(ATHeaderService, 0, logMessage) falling behind; read 12 messages\n",
      "RemoteEvent(ATHeaderService, 0, logMessage) falling behind; read 16 messages\n",
      "RemoteEvent(ATHeaderService, 0, logMessage) falling behind; read 16 messages\n",
      "RemoteEvent(ATHeaderService, 0, logMessage) falling behind; read 14 messages\n",
      "RemoteEvent(ATHeaderService, 0, logMessage) falling behind; read 10 messages\n",
      "RemoteEvent(ATHeaderService, 0, logMessage) falling behind; read 13 messages\n",
      "RemoteEvent(ATHeaderService, 0, logMessage) falling behind; read 12 messages\n",
      "RemoteEvent(ATHeaderService, 0, logMessage) falling behind; read 10 messages\n"
     ]
    }
   ],
   "source": [
    "await latiss.take_object(exptime=2, n=1, filter='empty_1',grating='ronchi90lpmm')"
   ]
  },
  {
   "cell_type": "code",
   "execution_count": 37,
   "metadata": {},
   "outputs": [
    {
     "name": "stdout",
     "output_type": "stream",
     "text": [
      "Slewing to HD 45348: 06 23 57.1098 -52 41 44.381\n",
      "Parallactic angle: 103.74986003511142 | Sky Angle: 70.4489815081518\n",
      "Sending command\n",
      "Stop tracking.\n",
      "Mount tracking state is 9\n",
      "Tracking state: 10.\n",
      "Tracking state: 8.\n",
      "In Position: True.\n",
      "In Position: False.\n",
      "Scheduling check coroutines\n",
      "process as completed...\n",
      "Got False\n",
      "Telescope not in position\n",
      "atmcs: <State.ENABLED: 2>\n",
      "atptg: <State.ENABLED: 2>\n",
      "ataos: <State.ENABLED: 2>\n",
      "atpneumatics: <State.ENABLED: 2>\n",
      "athexapod: <State.ENABLED: 2>\n",
      "atdome: <State.ENABLED: 2>\n",
      "atdometrajectory: <State.ENABLED: 2>\n",
      "[Telescope] delta Alt = +003.670 | delta Az= +137.560 [Dome] delta Az = +135.293\n",
      "[Telescope] delta Alt = +001.545 | delta Az= +134.972 [Dome] delta Az = +134.453\n",
      "[Telescope] delta Alt = -000.086 | delta Az= +130.975 [Dome] delta Az = +132.693\n",
      "[Telescope] delta Alt = -000.090 | delta Az= +126.973 [Dome] delta Az = +130.003\n",
      "[Telescope] delta Alt = -000.090 | delta Az= +122.972 [Dome] delta Az = +126.793\n",
      "[Telescope] delta Alt = -000.089 | delta Az= +118.971 [Dome] delta Az = +122.363\n",
      "[Telescope] delta Alt = -000.089 | delta Az= +114.969 [Dome] delta Az = +117.043\n",
      "[Telescope] delta Alt = -000.089 | delta Az= +110.968 [Dome] delta Az = +111.453\n",
      "[Telescope] delta Alt = -000.089 | delta Az= +106.968 [Dome] delta Az = +103.943\n",
      "[Telescope] delta Alt = -000.089 | delta Az= +102.965 [Dome] delta Az = +097.723\n",
      "[Telescope] delta Alt = -000.092 | delta Az= +100.963 [Dome] delta Az = +093.563\n",
      "[Telescope] delta Alt = -000.090 | delta Az= +096.963 [Dome] delta Az = +087.353\n",
      "[Telescope] delta Alt = -000.089 | delta Az= +092.962 [Dome] delta Az = +080.503\n",
      "[Telescope] delta Alt = -000.089 | delta Az= +088.960 [Dome] delta Az = +073.603\n",
      "[Telescope] delta Alt = -000.089 | delta Az= +084.959 [Dome] delta Az = +066.703\n",
      "[Telescope] delta Alt = -000.089 | delta Az= +080.957 [Dome] delta Az = +059.803\n",
      "[Telescope] delta Alt = -000.089 | delta Az= +076.956 [Dome] delta Az = +053.633\n",
      "[Telescope] delta Alt = -000.089 | delta Az= +072.956 [Dome] delta Az = +046.743\n",
      "[Telescope] delta Alt = -000.089 | delta Az= +068.954 [Dome] delta Az = +039.853\n",
      "[Telescope] delta Alt = -000.089 | delta Az= +064.952 [Dome] delta Az = +032.963\n",
      "[Telescope] delta Alt = -000.089 | delta Az= +060.951 [Dome] delta Az = +026.073\n",
      "[Telescope] delta Alt = -000.089 | delta Az= +056.950 [Dome] delta Az = +019.193\n",
      "[Telescope] delta Alt = -000.089 | delta Az= +052.949 [Dome] delta Az = +012.313\n",
      "[Telescope] delta Alt = -000.090 | delta Az= +048.947 [Dome] delta Az = +006.123\n",
      "[Telescope] delta Alt = -000.089 | delta Az= +044.945 [Dome] delta Az = +000.143\n",
      "[Telescope] delta Alt = -000.089 | delta Az= +040.944 [Dome] delta Az = -002.687\n",
      "[Telescope] delta Alt = -000.089 | delta Az= +036.943 [Dome] delta Az = -002.947\n",
      "[Telescope] delta Alt = -000.089 | delta Az= +032.941 [Dome] delta Az = -002.947\n",
      "[Telescope] delta Alt = -000.089 | delta Az= +028.941 [Dome] delta Az = -002.947\n",
      "[Telescope] delta Alt = -000.090 | delta Az= +024.958 [Dome] delta Az = -002.947\n",
      "[Telescope] delta Alt = -000.089 | delta Az= +021.037 [Dome] delta Az = -002.947\n",
      "[Telescope] delta Alt = -000.089 | delta Az= +017.245 [Dome] delta Az = -002.947\n",
      "[Telescope] delta Alt = -000.089 | delta Az= +013.662 [Dome] delta Az = -002.947\n",
      "[Telescope] delta Alt = -000.089 | delta Az= +010.374 [Dome] delta Az = -002.947\n",
      "[Telescope] delta Alt = -000.091 | delta Az= +008.865 [Dome] delta Az = -002.947\n",
      "[Telescope] delta Alt = -000.090 | delta Az= +006.172 [Dome] delta Az = -002.947\n",
      "[Telescope] delta Alt = -000.090 | delta Az= +003.952 [Dome] delta Az = -002.947\n",
      "[Telescope] delta Alt = -000.089 | delta Az= +002.247 [Dome] delta Az = -002.947\n",
      "[Telescope] delta Alt = -000.089 | delta Az= +001.058 [Dome] delta Az = -002.947\n",
      "[Telescope] delta Alt = -000.091 | delta Az= +000.650 [Dome] delta Az = -002.947\n",
      "[Telescope] delta Alt = -000.089 | delta Az= +000.153 [Dome] delta Az = -002.947\n",
      "[Telescope] delta Alt = -000.090 | delta Az= -000.012 [Dome] delta Az = -002.947\n",
      "[Telescope] delta Alt = -000.089 | delta Az= -000.026 [Dome] delta Az = -002.947\n",
      "Got True\n",
      "Waiting for telescope to settle.\n",
      "[Telescope] delta Alt = -000.089 | delta Az= -000.027 [Dome] delta Az = -002.947\n",
      "[Telescope] delta Alt = -000.089 | delta Az= -000.026 [Dome] delta Az = -002.947\n",
      "Telescope in position.\n",
      "ATDome in position.\n",
      "['Telescope in position.', 'ATDome in position.']\n"
     ]
    }
   ],
   "source": [
    "await attcs.slew_object(name = \"HD 45348\", pa_ang = 0.0, slew_timeout = 240.)"
   ]
  },
  {
   "cell_type": "code",
   "execution_count": 38,
   "metadata": {},
   "outputs": [
    {
     "name": "stdout",
     "output_type": "stream",
     "text": [
      "Generating group_id\n",
      "OBJECT 0001 - 0001\n",
      "Waiting for header service LFO before continuing\n",
      "RemoteEvent(ATHeaderService, 0, logMessage) falling behind; read 10 messages\n"
     ]
    },
    {
     "data": {
      "text/plain": [
       "array([2020022100605])"
      ]
     },
     "execution_count": 38,
     "metadata": {},
     "output_type": "execute_result"
    }
   ],
   "source": [
    "await latiss.take_object(exptime=0.1, n=1, filter='empty_1',grating='empty_1')"
   ]
  },
  {
   "cell_type": "code",
   "execution_count": 39,
   "metadata": {},
   "outputs": [
    {
     "name": "stdout",
     "output_type": "stream",
     "text": [
      "Applying x/y offset: 13.6/ -100 \n",
      "Applying Az/El offset: 99.85870411699239/ -14.601342817527714 \n",
      "Waiting for telescope to settle.\n",
      "Done\n"
     ]
    }
   ],
   "source": [
    "#Move it to the middle\n",
    "await attcs.offset_xy(x = 13.6, y = -100)"
   ]
  },
  {
   "cell_type": "code",
   "execution_count": 40,
   "metadata": {},
   "outputs": [
    {
     "name": "stdout",
     "output_type": "stream",
     "text": [
      "Applying x/y offset: 0/ 0 \n",
      "Applying Az/El offset: 0.0/ 0.0 \n",
      "Waiting for telescope to settle.\n",
      "Done\n"
     ]
    }
   ],
   "source": [
    "#Move it to the middle\n",
    "await attcs.offset_xy(x = 0, y = 0)"
   ]
  },
  {
   "cell_type": "code",
   "execution_count": 41,
   "metadata": {},
   "outputs": [
    {
     "name": "stdout",
     "output_type": "stream",
     "text": [
      "Applying x/y offset: 13.6/ -100 \n",
      "Applying Az/El offset: 99.84751040037703/ -14.677692831184304 \n",
      "Waiting for telescope to settle.\n",
      "Done\n"
     ]
    }
   ],
   "source": [
    "#Move it to the middle\n",
    "await attcs.offset_xy(x = 13.6, y = -100, persistent = True)"
   ]
  },
  {
   "cell_type": "code",
   "execution_count": 42,
   "metadata": {},
   "outputs": [
    {
     "name": "stdout",
     "output_type": "stream",
     "text": [
      "Generating group_id\n",
      "OBJECT 0001 - 0001\n",
      "Waiting for header service LFO before continuing\n"
     ]
    },
    {
     "data": {
      "text/plain": [
       "array([2020022100606])"
      ]
     },
     "execution_count": 42,
     "metadata": {},
     "output_type": "execute_result"
    }
   ],
   "source": [
    "await latiss.take_object(exptime=0.1, n=1, filter='empty_1',grating='empty_1')"
   ]
  },
  {
   "cell_type": "code",
   "execution_count": 43,
   "metadata": {},
   "outputs": [
    {
     "data": {
      "text/plain": [
       "<lsst.ts.salobj.ddsutil.ATPtg_ackcmd_2d655b72 at 0x7fbe6ab4d780>"
      ]
     },
     "execution_count": 43,
     "metadata": {},
     "output_type": "execute_result"
    }
   ],
   "source": [
    "await attcs.atptg.cmd_pointNewFile.start()"
   ]
  },
  {
   "cell_type": "code",
   "execution_count": 44,
   "metadata": {},
   "outputs": [
    {
     "data": {
      "text/plain": [
       "<lsst.ts.salobj.ddsutil.ATPtg_ackcmd_2d655b72 at 0x7fbe6fecd1d0>"
      ]
     },
     "execution_count": 44,
     "metadata": {},
     "output_type": "execute_result"
    }
   ],
   "source": [
    "await attcs.atptg.cmd_pointAddData.start()"
   ]
  },
  {
   "cell_type": "code",
   "execution_count": 45,
   "metadata": {},
   "outputs": [
    {
     "name": "stdout",
     "output_type": "stream",
     "text": [
      "Applying Az/El offset: 200/ 0 \n",
      "Waiting for telescope to settle.\n",
      "Done\n"
     ]
    }
   ],
   "source": [
    "await attcs.offset_azel(az = 200, el = 0)"
   ]
  },
  {
   "cell_type": "code",
   "execution_count": 46,
   "metadata": {},
   "outputs": [
    {
     "name": "stdout",
     "output_type": "stream",
     "text": [
      "Generating group_id\n",
      "OBJECT 0001 - 0001\n",
      "Waiting for header service LFO before continuing\n",
      "RemoteEvent(ATHeaderService, 0, logMessage) falling behind; read 12 messages\n"
     ]
    },
    {
     "data": {
      "text/plain": [
       "array([2020022100607])"
      ]
     },
     "execution_count": 46,
     "metadata": {},
     "output_type": "execute_result"
    }
   ],
   "source": [
    "await latiss.take_object(exptime=0.1, n=1, filter='empty_1',grating='empty_1')"
   ]
  },
  {
   "cell_type": "code",
   "execution_count": 47,
   "metadata": {},
   "outputs": [
    {
     "name": "stdout",
     "output_type": "stream",
     "text": [
      "Applying Az/El offset: 0/ 0 \n",
      "Waiting for telescope to settle.\n",
      "Done\n"
     ]
    }
   ],
   "source": [
    "await attcs.offset_azel(az = 0, el = 0)"
   ]
  },
  {
   "cell_type": "code",
   "execution_count": 48,
   "metadata": {},
   "outputs": [
    {
     "name": "stdout",
     "output_type": "stream",
     "text": [
      "Applying Az/El offset: 200/ 0 \n",
      "Waiting for telescope to settle.\n",
      "Done\n"
     ]
    }
   ],
   "source": [
    "await attcs.offset_azel(az = 200, el = 0, persistent = True)"
   ]
  },
  {
   "cell_type": "code",
   "execution_count": 49,
   "metadata": {},
   "outputs": [
    {
     "name": "stdout",
     "output_type": "stream",
     "text": [
      "Generating group_id\n",
      "OBJECT 0001 - 0001\n",
      "RemoteEvent(ATHeaderService, 0, logMessage) falling behind; read 11 messages\n",
      "Waiting for header service LFO before continuing\n",
      "RemoteEvent(ATHeaderService, 0, logMessage) falling behind; read 12 messages\n"
     ]
    },
    {
     "data": {
      "text/plain": [
       "array([2020022100608])"
      ]
     },
     "execution_count": 49,
     "metadata": {},
     "output_type": "execute_result"
    }
   ],
   "source": [
    "await latiss.take_object(exptime=30.0, n=1, filter='empty_1',grating='empty_1')"
   ]
  },
  {
   "cell_type": "code",
   "execution_count": 50,
   "metadata": {},
   "outputs": [
    {
     "name": "stdout",
     "output_type": "stream",
     "text": [
      "Applying Az/El offset: 220/ 0 \n",
      "Waiting for telescope to settle.\n",
      "Done\n"
     ]
    }
   ],
   "source": [
    "await attcs.offset_azel(az = 220, el = 0)"
   ]
  },
  {
   "cell_type": "code",
   "execution_count": 51,
   "metadata": {},
   "outputs": [
    {
     "name": "stdout",
     "output_type": "stream",
     "text": [
      "Generating group_id\n",
      "OBJECT 0001 - 0001\n",
      "Waiting for header service LFO before continuing\n",
      "RemoteEvent(ATHeaderService, 0, logMessage) falling behind; read 14 messages\n"
     ]
    },
    {
     "data": {
      "text/plain": [
       "array([2020022100609])"
      ]
     },
     "execution_count": 51,
     "metadata": {},
     "output_type": "execute_result"
    }
   ],
   "source": [
    "await latiss.take_object(exptime=30.0, n=1, filter='empty_1',grating='empty_1')"
   ]
  },
  {
   "cell_type": "code",
   "execution_count": 52,
   "metadata": {},
   "outputs": [
    {
     "name": "stdout",
     "output_type": "stream",
     "text": [
      "Applying Az/El offset: 240/ 0 \n",
      "Waiting for telescope to settle.\n",
      "Done\n"
     ]
    }
   ],
   "source": [
    "await attcs.offset_azel(az = 240, el = 0)"
   ]
  },
  {
   "cell_type": "code",
   "execution_count": 53,
   "metadata": {},
   "outputs": [
    {
     "name": "stdout",
     "output_type": "stream",
     "text": [
      "Generating group_id\n",
      "OBJECT 0001 - 0001\n",
      "Waiting for header service LFO before continuing\n"
     ]
    },
    {
     "data": {
      "text/plain": [
       "array([2020022100610])"
      ]
     },
     "execution_count": 53,
     "metadata": {},
     "output_type": "execute_result"
    }
   ],
   "source": [
    "await latiss.take_object(exptime=60.0, n=1, filter='empty_1',grating='empty_1')"
   ]
  },
  {
   "cell_type": "code",
   "execution_count": 54,
   "metadata": {},
   "outputs": [
    {
     "name": "stdout",
     "output_type": "stream",
     "text": [
      "Applying Az/El offset: 260/ 0 \n",
      "Waiting for telescope to settle.\n",
      "Done\n"
     ]
    }
   ],
   "source": [
    "await attcs.offset_azel(az = 260, el = 0)"
   ]
  },
  {
   "cell_type": "code",
   "execution_count": 55,
   "metadata": {},
   "outputs": [
    {
     "name": "stdout",
     "output_type": "stream",
     "text": [
      "Generating group_id\n",
      "OBJECT 0001 - 0001\n",
      "Waiting for header service LFO before continuing\n",
      "RemoteEvent(ATHeaderService, 0, logMessage) falling behind; read 12 messages\n"
     ]
    },
    {
     "data": {
      "text/plain": [
       "array([2020022100611])"
      ]
     },
     "execution_count": 55,
     "metadata": {},
     "output_type": "execute_result"
    }
   ],
   "source": [
    "await latiss.take_object(exptime=60.0, n=1, filter='empty_1',grating='empty_1')"
   ]
  },
  {
   "cell_type": "code",
   "execution_count": 56,
   "metadata": {},
   "outputs": [
    {
     "name": "stdout",
     "output_type": "stream",
     "text": [
      "Applying Az/El offset: 280/ 0 \n",
      "Waiting for telescope to settle.\n",
      "Done\n"
     ]
    }
   ],
   "source": [
    "await attcs.offset_azel(az = 280, el = 0)"
   ]
  },
  {
   "cell_type": "code",
   "execution_count": 57,
   "metadata": {},
   "outputs": [
    {
     "name": "stdout",
     "output_type": "stream",
     "text": [
      "Generating group_id\n",
      "OBJECT 0001 - 0001\n",
      "Waiting for header service LFO before continuing\n",
      "RemoteEvent(ATHeaderService, 0, logMessage) falling behind; read 13 messages\n"
     ]
    },
    {
     "data": {
      "text/plain": [
       "array([2020022100612])"
      ]
     },
     "execution_count": 57,
     "metadata": {},
     "output_type": "execute_result"
    }
   ],
   "source": [
    "await latiss.take_object(exptime=60.0, n=1, filter='empty_1',grating='empty_1')"
   ]
  },
  {
   "cell_type": "code",
   "execution_count": 58,
   "metadata": {},
   "outputs": [
    {
     "name": "stdout",
     "output_type": "stream",
     "text": [
      "Applying Az/El offset: 300/ 0 \n",
      "Waiting for telescope to settle.\n",
      "Done\n"
     ]
    }
   ],
   "source": [
    "await attcs.offset_azel(az = 300, el = 0)"
   ]
  },
  {
   "cell_type": "code",
   "execution_count": 59,
   "metadata": {},
   "outputs": [
    {
     "name": "stdout",
     "output_type": "stream",
     "text": [
      "Generating group_id\n",
      "OBJECT 0001 - 0001\n",
      "Waiting for header service LFO before continuing\n",
      "RemoteEvent(ATHeaderService, 0, logMessage) falling behind; read 19 messages\n"
     ]
    },
    {
     "data": {
      "text/plain": [
       "array([2020022100613])"
      ]
     },
     "execution_count": 59,
     "metadata": {},
     "output_type": "execute_result"
    }
   ],
   "source": [
    "await latiss.take_object(exptime=60.0, n=1, filter='empty_1',grating='empty_1')"
   ]
  },
  {
   "cell_type": "code",
   "execution_count": null,
   "metadata": {},
   "outputs": [],
   "source": [
    "await latiss.take_object(exptime=0.1, n=1, filter='empty_1',grating='empty_1')"
   ]
  },
  {
   "cell_type": "code",
   "execution_count": 60,
   "metadata": {},
   "outputs": [
    {
     "name": "stdout",
     "output_type": "stream",
     "text": [
      "Starting new HTTP connection (1): simbad.u-strasbg.fr:80\n",
      "http://simbad.u-strasbg.fr:80 \"POST /simbad/sim-script HTTP/1.1\" 200 None\n",
      "Slewing to HD 156233: 17 18 26.1396 -42 55 54.682\n",
      "RemoteEvent(ATMCS, 0, target) falling behind; read 19 messages\n",
      "RemoteEvent(ATDomeTrajectory, 0, logMessage) falling behind; read 20 messages\n",
      "Parallactic angle: -106.02517223453155 | Sky Angle: -139.26829308446713\n",
      "Sending command\n",
      "Stop tracking.\n",
      "Mount tracking state is 9\n",
      "Tracking state: 10.\n",
      "Tracking state: 8.\n",
      "In Position: True.\n",
      "In Position: False.\n",
      "Scheduling check coroutines\n",
      "process as completed...\n",
      "Got False\n",
      "Telescope not in position\n",
      "atmcs: <State.ENABLED: 2>\n",
      "atptg: <State.ENABLED: 2>\n",
      "ataos: <State.ENABLED: 2>\n",
      "atpneumatics: <State.ENABLED: 2>\n",
      "athexapod: <State.ENABLED: 2>\n",
      "atdome: <State.ENABLED: 2>\n",
      "atdometrajectory: <State.ENABLED: 2>\n",
      "[Telescope] delta Alt = +002.216 | delta Az= -096.430 [Dome] delta Az = -100.280\n",
      "[Telescope] delta Alt = +000.568 | delta Az= -093.549 [Dome] delta Az = -099.440\n",
      "[Telescope] delta Alt = +000.107 | delta Az= -089.556 [Dome] delta Az = -097.680\n",
      "[Telescope] delta Alt = +000.107 | delta Az= -085.557 [Dome] delta Az = -095.000\n",
      "[Telescope] delta Alt = +000.107 | delta Az= -081.559 [Dome] delta Az = -091.380\n",
      "[Telescope] delta Alt = +000.107 | delta Az= -077.560 [Dome] delta Az = -087.360\n",
      "[Telescope] delta Alt = +000.106 | delta Az= -073.561 [Dome] delta Az = -081.440\n",
      "[Telescope] delta Alt = +000.107 | delta Az= -069.564 [Dome] delta Az = -075.790\n",
      "[Telescope] delta Alt = +000.107 | delta Az= -065.566 [Dome] delta Az = -068.910\n",
      "[Telescope] delta Alt = +000.107 | delta Az= -061.569 [Dome] delta Az = -062.000\n",
      "[Telescope] delta Alt = +000.107 | delta Az= -057.570 [Dome] delta Az = -055.120\n",
      "[Telescope] delta Alt = +000.107 | delta Az= -053.571 [Dome] delta Az = -048.910\n",
      "[Telescope] delta Alt = +000.109 | delta Az= -051.574 [Dome] delta Az = -044.780\n",
      "[Telescope] delta Alt = +000.107 | delta Az= -047.576 [Dome] delta Az = -037.850\n",
      "[Telescope] delta Alt = +000.107 | delta Az= -043.577 [Dome] delta Az = -031.650\n",
      "[Telescope] delta Alt = +000.107 | delta Az= -039.580 [Dome] delta Az = -024.730\n",
      "[Telescope] delta Alt = +000.107 | delta Az= -035.581 [Dome] delta Az = -017.840\n",
      "[Telescope] delta Alt = +000.107 | delta Az= -031.582 [Dome] delta Az = -010.980\n",
      "[Telescope] delta Alt = +000.107 | delta Az= -027.589 [Dome] delta Az = -004.780\n",
      "[Telescope] delta Alt = +000.106 | delta Az= -023.624 [Dome] delta Az = +000.700\n",
      "[Telescope] delta Alt = +000.106 | delta Az= -019.741 [Dome] delta Az = +002.920\n",
      "[Telescope] delta Alt = +000.107 | delta Az= -016.016 [Dome] delta Az = +002.990\n",
      "[Telescope] delta Alt = +000.107 | delta Az= -012.528 [Dome] delta Az = +002.990\n",
      "[Telescope] delta Alt = +000.107 | delta Az= -009.363 [Dome] delta Az = +002.990\n",
      "[Telescope] delta Alt = +000.107 | delta Az= -006.603 [Dome] delta Az = +002.990\n",
      "[Telescope] delta Alt = +000.107 | delta Az= -004.310 [Dome] delta Az = +002.990\n",
      "[Telescope] delta Alt = +000.107 | delta Az= -002.527 [Dome] delta Az = +002.990\n",
      "[Telescope] delta Alt = +000.107 | delta Az= -001.263 [Dome] delta Az = +002.990\n",
      "[Telescope] delta Alt = +000.107 | delta Az= -000.490 [Dome] delta Az = +002.990\n",
      "[Telescope] delta Alt = +000.107 | delta Az= -000.126 [Dome] delta Az = +002.990\n",
      "[Telescope] delta Alt = +000.107 | delta Az= -000.037 [Dome] delta Az = +002.990\n",
      "[Telescope] delta Alt = +000.107 | delta Az= -000.035 [Dome] delta Az = +002.990\n",
      "Got True\n",
      "Waiting for telescope to settle.\n",
      "[Telescope] delta Alt = +000.107 | delta Az= -000.035 [Dome] delta Az = +002.990\n",
      "Telescope in position.\n",
      "ATDome in position.\n",
      "['Telescope in position.', 'ATDome in position.']\n"
     ]
    }
   ],
   "source": [
    "await attcs.slew_object(name = \"HD 156233\", pa_ang = 0.0, slew_timeout = 240.) "
   ]
  },
  {
   "cell_type": "code",
   "execution_count": 61,
   "metadata": {},
   "outputs": [
    {
     "name": "stdout",
     "output_type": "stream",
     "text": [
      "Generating group_id\n",
      "OBJECT 0001 - 0001\n",
      "Waiting for header service LFO before continuing\n",
      "RemoteEvent(ATHeaderService, 0, logMessage) falling behind; read 11 messages\n"
     ]
    },
    {
     "data": {
      "text/plain": [
       "array([2020022100614])"
      ]
     },
     "execution_count": 61,
     "metadata": {},
     "output_type": "execute_result"
    }
   ],
   "source": [
    "await latiss.take_object(exptime=5.0, n=1, filter='empty_1',grating='ronchi90lpmm')"
   ]
  },
  {
   "cell_type": "code",
   "execution_count": 62,
   "metadata": {},
   "outputs": [
    {
     "name": "stdout",
     "output_type": "stream",
     "text": [
      "Slewing to HD 146233: 16 15 37.2703 -08 22 09.981\n",
      "Parallactic angle: -120.05469760827916 | Sky Angle: -152.221355768727\n",
      "Sending command\n",
      "Stop tracking.\n",
      "Mount tracking state is 9\n",
      "Tracking state: 10.\n",
      "Tracking state: 8.\n",
      "In Position: True.\n",
      "In Position: False.\n",
      "Scheduling check coroutines\n",
      "process as completed...\n",
      "Got False\n",
      "Telescope not in position\n",
      "atmcs: <State.ENABLED: 2>\n",
      "atptg: <State.ENABLED: 2>\n",
      "ataos: <State.ENABLED: 2>\n",
      "atpneumatics: <State.ENABLED: 2>\n",
      "athexapod: <State.ENABLED: 2>\n",
      "atdome: <State.ENABLED: 2>\n",
      "atdometrajectory: <State.ENABLED: 2>\n",
      "[Telescope] delta Alt = +000.097 | delta Az= -042.784 [Dome] delta Az = -039.928\n",
      "[Telescope] delta Alt = +000.133 | delta Az= -041.329 [Dome] delta Az = -039.458\n",
      "[Telescope] delta Alt = +000.130 | delta Az= -037.382 [Dome] delta Az = -038.068\n",
      "[Telescope] delta Alt = +000.130 | delta Az= -033.386 [Dome] delta Az = -035.718\n",
      "[Telescope] delta Alt = +000.130 | delta Az= -029.390 [Dome] delta Az = -032.458\n",
      "[Telescope] delta Alt = +000.130 | delta Az= -025.412 [Dome] delta Az = -028.308\n",
      "[Telescope] delta Alt = +000.130 | delta Az= -021.489 [Dome] delta Az = -023.238\n",
      "[Telescope] delta Alt = +000.130 | delta Az= -017.685 [Dome] delta Az = -017.248\n",
      "[Telescope] delta Alt = +000.130 | delta Az= -014.085 [Dome] delta Az = -011.168\n",
      "[Telescope] delta Alt = +000.130 | delta Az= -010.769 [Dome] delta Az = -004.258\n",
      "[Telescope] delta Alt = +000.130 | delta Az= -007.823 [Dome] delta Az = +000.972\n",
      "[Telescope] delta Alt = +000.130 | delta Az= -005.318 [Dome] delta Az = +002.932\n",
      "[Telescope] delta Alt = +000.130 | delta Az= -003.307 [Dome] delta Az = +002.962\n",
      "[Telescope] delta Alt = +000.130 | delta Az= -001.815 [Dome] delta Az = +002.962\n",
      "[Telescope] delta Alt = +000.130 | delta Az= -000.830 [Dome] delta Az = +002.962\n",
      "[Telescope] delta Alt = +000.130 | delta Az= -000.297 [Dome] delta Az = +002.962\n",
      "[Telescope] delta Alt = +000.130 | delta Az= -000.106 [Dome] delta Az = +002.962\n",
      "[Telescope] delta Alt = +000.130 | delta Az= -000.086 [Dome] delta Az = +002.962\n",
      "Got True\n",
      "Waiting for telescope to settle.\n",
      "[Telescope] delta Alt = +000.130 | delta Az= -000.086 [Dome] delta Az = +002.962\n",
      "[Telescope] delta Alt = +000.130 | delta Az= -000.086 [Dome] delta Az = +002.962\n",
      "Telescope in position.\n",
      "ATDome in position.\n",
      "['Telescope in position.', 'ATDome in position.']\n"
     ]
    }
   ],
   "source": [
    "await attcs.slew_object(name = \"HD 146233\", pa_ang = 0.0, slew_timeout = 240.) "
   ]
  },
  {
   "cell_type": "code",
   "execution_count": 63,
   "metadata": {},
   "outputs": [
    {
     "name": "stdout",
     "output_type": "stream",
     "text": [
      "Generating group_id\n",
      "OBJECT 0001 - 0001\n",
      "Waiting for header service LFO before continuing\n",
      "RemoteEvent(ATHeaderService, 0, logMessage) falling behind; read 10 messages\n"
     ]
    },
    {
     "data": {
      "text/plain": [
       "array([2020022100615])"
      ]
     },
     "execution_count": 63,
     "metadata": {},
     "output_type": "execute_result"
    }
   ],
   "source": [
    "await latiss.take_object(exptime=2.0, n=1, filter='empty_1',grating='ronchi90lpmm')"
   ]
  },
  {
   "cell_type": "code",
   "execution_count": 64,
   "metadata": {},
   "outputs": [
    {
     "name": "stdout",
     "output_type": "stream",
     "text": [
      "Applying x/y offset: 11/ -118 \n",
      "Applying Az/El offset: 118.14537470228444/ -9.309695830520258 \n",
      "Waiting for telescope to settle.\n",
      "Done\n"
     ]
    }
   ],
   "source": [
    "await attcs.offset_xy(x = +11, y = -118, persistent = True)"
   ]
  },
  {
   "cell_type": "code",
   "execution_count": 65,
   "metadata": {},
   "outputs": [
    {
     "name": "stdout",
     "output_type": "stream",
     "text": [
      "Generating group_id\n",
      "OBJECT 0001 - 0001\n",
      "Waiting for header service LFO before continuing\n",
      "RemoteEvent(ATHeaderService, 0, logMessage) falling behind; read 14 messages\n"
     ]
    },
    {
     "data": {
      "text/plain": [
       "array([2020022100616])"
      ]
     },
     "execution_count": 65,
     "metadata": {},
     "output_type": "execute_result"
    }
   ],
   "source": [
    "await latiss.take_object(exptime=2.0, n=1, filter='empty_1',grating='ronchi90lpmm')"
   ]
  },
  {
   "cell_type": "code",
   "execution_count": 66,
   "metadata": {},
   "outputs": [
    {
     "name": "stdout",
     "output_type": "stream",
     "text": [
      "focus_positions = [-0.42 -0.34 -0.26 -0.18 -0.1  -0.02  0.06  0.14  0.22]\n"
     ]
    }
   ],
   "source": [
    "best_focus_fit = -0.1\n",
    "import math \n",
    "#Focus units are given in mm \n",
    "focus_center = -0.1\n",
    "focus_step = 0.08\n",
    "n_steps = 9\n",
    "focus_positions = np.linspace(focus_center - focus_step * math.floor(n_steps / 2), focus_center + focus_step * math.ceil(n_steps / 2 - 1), n_steps)\n",
    "print ('focus_positions = ' + str(focus_positions))"
   ]
  },
  {
   "cell_type": "code",
   "execution_count": 67,
   "metadata": {},
   "outputs": [
    {
     "name": "stdout",
     "output_type": "stream",
     "text": [
      "Working on focus position -0.42000000000000004\n",
      "Generating group_id\n",
      "ENGTEST 0001 - 0001\n",
      "Waiting for header service LFO before continuing\n",
      "RemoteEvent(ATHeaderService, 0, logMessage) falling behind; read 12 messages\n",
      "Newest image id is = [2020022100617]\n",
      "Working on focus position -0.34\n",
      "Generating group_id\n",
      "ENGTEST 0001 - 0001\n",
      "Waiting for header service LFO before continuing\n",
      "RemoteEvent(ATHeaderService, 0, logMessage) falling behind; read 11 messages\n",
      "Newest image id is = [2020022100618]\n",
      "Working on focus position -0.26\n",
      "Generating group_id\n",
      "ENGTEST 0001 - 0001\n",
      "Waiting for header service LFO before continuing\n",
      "RemoteEvent(ATHeaderService, 0, logMessage) falling behind; read 15 messages\n",
      "Newest image id is = [2020022100619]\n",
      "Working on focus position -0.18000000000000005\n",
      "Generating group_id\n",
      "ENGTEST 0001 - 0001\n",
      "RemoteEvent(ATHeaderService, 0, logMessage) falling behind; read 10 messages\n",
      "Waiting for header service LFO before continuing\n",
      "RemoteEvent(ATHeaderService, 0, logMessage) falling behind; read 10 messages\n",
      "Newest image id is = [2020022100620]\n",
      "Working on focus position -0.10000000000000003\n",
      "Generating group_id\n",
      "ENGTEST 0001 - 0001\n",
      "Waiting for header service LFO before continuing\n",
      "Newest image id is = [2020022100621]\n",
      "Working on focus position -0.020000000000000018\n",
      "Generating group_id\n",
      "ENGTEST 0001 - 0001\n",
      "Waiting for header service LFO before continuing\n",
      "RemoteEvent(ATHeaderService, 0, logMessage) falling behind; read 11 messages\n",
      "Newest image id is = [2020022100622]\n",
      "Working on focus position 0.05999999999999994\n",
      "Generating group_id\n",
      "ENGTEST 0001 - 0001\n",
      "Waiting for header service LFO before continuing\n",
      "RemoteEvent(ATHeaderService, 0, logMessage) falling behind; read 14 messages\n",
      "Newest image id is = [2020022100623]\n",
      "Working on focus position 0.14\n",
      "Generating group_id\n",
      "ENGTEST 0001 - 0001\n",
      "Waiting for header service LFO before continuing\n",
      "RemoteEvent(ATHeaderService, 0, logMessage) falling behind; read 11 messages\n",
      "Newest image id is = [2020022100624]\n",
      "Working on focus position 0.22\n",
      "Generating group_id\n",
      "ENGTEST 0001 - 0001\n",
      "Waiting for header service LFO before continuing\n",
      "RemoteEvent(ATHeaderService, 0, logMessage) falling behind; read 12 messages\n",
      "Newest image id is = [2020022100625]\n"
     ]
    },
    {
     "data": {
      "text/plain": [
       "<lsst.ts.salobj.ddsutil.ATAOS_ackcmd_33d5c92b at 0x7fbe6aad3be0>"
      ]
     },
     "execution_count": 67,
     "metadata": {},
     "output_type": "execute_result"
    }
   ],
   "source": [
    "#!!!!DO NOT RUN UNLESS YOU HAVE BEEN CLEARED TO CONTROL TELESCOPE!!!!! \n",
    "focus_images = [0 for focus_pos in focus_positions]\n",
    "for i in range(len(focus_positions)): \n",
    "    focus_pos = focus_positions[i] \n",
    "    print ('Working on focus position ' + str(focus_pos))\n",
    "    attcs.athexapod.evt_positionUpdate.flush() \n",
    "    await attcs.ataos.cmd_applyFocusOffset.set_start(offset=focus_pos)\n",
    "    await attcs.athexapod.evt_positionUpdate.next(flush=False, timeout=attcs.long_timeout)\n",
    "    focus_image = await latiss.take_engtest(exptime=5.0, n=1, filter='empty_1', grating='ronchi90lpmm') \n",
    "    print ('Newest image id is = ' +str(focus_image) )\n",
    "    focus_images[i] = int(focus_image)\n",
    "    \n",
    "#This resets the focus position after taking this sequence: \n",
    "await attcs.ataos.cmd_applyFocusOffset.set_start(offset = focus_center)"
   ]
  },
  {
   "cell_type": "code",
   "execution_count": 70,
   "metadata": {},
   "outputs": [
    {
     "name": "stdout",
     "output_type": "stream",
     "text": [
      "Generating group_id\n",
      "OBJECT 0001 - 0001\n",
      "Waiting for header service LFO before continuing\n",
      "RemoteEvent(ATHeaderService, 0, logMessage) falling behind; read 15 messages\n"
     ]
    },
    {
     "data": {
      "text/plain": [
       "array([2020022100626])"
      ]
     },
     "execution_count": 70,
     "metadata": {},
     "output_type": "execute_result"
    }
   ],
   "source": [
    "await latiss.take_object(exptime=5.0, n=1, filter='empty_1',grating='ronchi90lpmm')"
   ]
  },
  {
   "cell_type": "code",
   "execution_count": 71,
   "metadata": {},
   "outputs": [
    {
     "name": "stdout",
     "output_type": "stream",
     "text": [
      "Generating group_id\n",
      "OBJECT 0001 - 0001\n",
      "Waiting for header service LFO before continuing\n",
      "RemoteEvent(ATHeaderService, 0, logMessage) falling behind; read 18 messages\n"
     ]
    },
    {
     "data": {
      "text/plain": [
       "array([2020022100627])"
      ]
     },
     "execution_count": 71,
     "metadata": {},
     "output_type": "execute_result"
    }
   ],
   "source": [
    "await latiss.take_object(exptime=5.0, n=1, filter='quadnotch1',grating='ronchi90lpmm')"
   ]
  },
  {
   "cell_type": "code",
   "execution_count": 72,
   "metadata": {},
   "outputs": [
    {
     "data": {
      "text/plain": [
       "<lsst.ts.salobj.ddsutil.ATAOS_ackcmd_33d5c92b at 0x7fbe6ff987f0>"
      ]
     },
     "execution_count": 72,
     "metadata": {},
     "output_type": "execute_result"
    }
   ],
   "source": [
    "best_focus = -0.11\n",
    "focus_offset = 0.026\n",
    "await attcs.ataos.cmd_applyFocusOffset.set_start(offset=best_focus + focus_offset)"
   ]
  },
  {
   "cell_type": "code",
   "execution_count": 73,
   "metadata": {},
   "outputs": [
    {
     "name": "stdout",
     "output_type": "stream",
     "text": [
      "Generating group_id\n",
      "OBJECT 0001 - 0001\n",
      "Waiting for header service LFO before continuing\n"
     ]
    },
    {
     "data": {
      "text/plain": [
       "array([2020022100628])"
      ]
     },
     "execution_count": 73,
     "metadata": {},
     "output_type": "execute_result"
    }
   ],
   "source": [
    "await latiss.take_object(exptime=5.0, n=1, filter='quadnotch1',grating='ronchi90lpmm')"
   ]
  },
  {
   "cell_type": "code",
   "execution_count": 74,
   "metadata": {},
   "outputs": [
    {
     "name": "stdout",
     "output_type": "stream",
     "text": [
      "Generating group_id\n",
      "OBJECT 0001 - 0001\n",
      "Waiting for header service LFO before continuing\n",
      "RemoteEvent(ATHeaderService, 0, logMessage) falling behind; read 11 messages\n"
     ]
    },
    {
     "data": {
      "text/plain": [
       "array([2020022100629])"
      ]
     },
     "execution_count": 74,
     "metadata": {},
     "output_type": "execute_result"
    }
   ],
   "source": [
    "await latiss.take_object(exptime=5.0, n=1, filter='RG610',grating='ronchi90lpmm')"
   ]
  },
  {
   "cell_type": "code",
   "execution_count": 75,
   "metadata": {},
   "outputs": [
    {
     "name": "stdout",
     "output_type": "stream",
     "text": [
      "Generating group_id\n",
      "OBJECT 0001 - 0001\n",
      "Waiting for header service LFO before continuing\n",
      "RemoteEvent(ATHeaderService, 0, logMessage) falling behind; read 11 messages\n"
     ]
    },
    {
     "data": {
      "text/plain": [
       "array([2020022100630])"
      ]
     },
     "execution_count": 75,
     "metadata": {},
     "output_type": "execute_result"
    }
   ],
   "source": [
    "await latiss.take_object(exptime=5.0, n=1, filter='BG40',grating='ronchi90lpmm')"
   ]
  },
  {
   "cell_type": "code",
   "execution_count": 76,
   "metadata": {},
   "outputs": [
    {
     "data": {
      "text/plain": [
       "<lsst.ts.salobj.ddsutil.ATAOS_ackcmd_33d5c92b at 0x7fbe6ab20dd8>"
      ]
     },
     "execution_count": 76,
     "metadata": {},
     "output_type": "execute_result"
    }
   ],
   "source": [
    "best_focus = -0.11\n",
    "focus_offset = 0.0\n",
    "await attcs.ataos.cmd_applyFocusOffset.set_start(offset=best_focus + focus_offset)"
   ]
  },
  {
   "cell_type": "code",
   "execution_count": 77,
   "metadata": {},
   "outputs": [
    {
     "name": "stdout",
     "output_type": "stream",
     "text": [
      "Generating group_id\n",
      "OBJECT 0001 - 0001\n",
      "Waiting for header service LFO before continuing\n"
     ]
    },
    {
     "data": {
      "text/plain": [
       "array([2020022100631])"
      ]
     },
     "execution_count": 77,
     "metadata": {},
     "output_type": "execute_result"
    }
   ],
   "source": [
    "await latiss.take_object(exptime=5.0, n=1, filter='empty_1',grating='ronchi90lpmm')"
   ]
  },
  {
   "cell_type": "code",
   "execution_count": 78,
   "metadata": {},
   "outputs": [
    {
     "data": {
      "text/plain": [
       "<lsst.ts.salobj.ddsutil.ATAOS_ackcmd_33d5c92b at 0x7fbe8174f390>"
      ]
     },
     "execution_count": 78,
     "metadata": {},
     "output_type": "execute_result"
    }
   ],
   "source": [
    "best_focus = -0.11\n",
    "focus_offset = 0.026\n",
    "await attcs.ataos.cmd_applyFocusOffset.set_start(offset=best_focus + focus_offset)"
   ]
  },
  {
   "cell_type": "code",
   "execution_count": 79,
   "metadata": {},
   "outputs": [
    {
     "name": "stdout",
     "output_type": "stream",
     "text": [
      "Generating group_id\n",
      "OBJECT 0001 - 0001\n",
      "RemoteEvent(ATHeaderService, 0, logMessage) falling behind; read 10 messages\n",
      "Waiting for header service LFO before continuing\n",
      "RemoteEvent(ATHeaderService, 0, logMessage) falling behind; read 10 messages\n"
     ]
    },
    {
     "data": {
      "text/plain": [
       "array([2020022100632])"
      ]
     },
     "execution_count": 79,
     "metadata": {},
     "output_type": "execute_result"
    }
   ],
   "source": [
    "await latiss.take_object(exptime=5.0, n=1, filter='quadnotch1',grating='ronchi90lpmm')"
   ]
  },
  {
   "cell_type": "code",
   "execution_count": 80,
   "metadata": {},
   "outputs": [
    {
     "name": "stdout",
     "output_type": "stream",
     "text": [
      "Generating group_id\n",
      "OBJECT 0001 - 0001\n",
      "Waiting for header service LFO before continuing\n",
      "RemoteEvent(ATHeaderService, 0, logMessage) falling behind; read 12 messages\n"
     ]
    },
    {
     "data": {
      "text/plain": [
       "array([2020022100633])"
      ]
     },
     "execution_count": 80,
     "metadata": {},
     "output_type": "execute_result"
    }
   ],
   "source": [
    "await latiss.take_object(exptime=5.0, n=1, filter='RG610',grating='ronchi90lpmm')"
   ]
  },
  {
   "cell_type": "code",
   "execution_count": 81,
   "metadata": {},
   "outputs": [
    {
     "name": "stdout",
     "output_type": "stream",
     "text": [
      "Generating group_id\n",
      "OBJECT 0001 - 0001\n",
      "Waiting for header service LFO before continuing\n",
      "RemoteEvent(ATHeaderService, 0, logMessage) falling behind; read 15 messages\n"
     ]
    },
    {
     "data": {
      "text/plain": [
       "array([2020022100634])"
      ]
     },
     "execution_count": 81,
     "metadata": {},
     "output_type": "execute_result"
    }
   ],
   "source": [
    "await latiss.take_object(exptime=60.0, n=1, filter='quadnotch1',grating='ronchi90lpmm')"
   ]
  },
  {
   "cell_type": "code",
   "execution_count": 82,
   "metadata": {},
   "outputs": [
    {
     "data": {
      "text/plain": [
       "<lsst.ts.salobj.ddsutil.ATAOS_ackcmd_33d5c92b at 0x7fbe6af07be0>"
      ]
     },
     "execution_count": 82,
     "metadata": {},
     "output_type": "execute_result"
    }
   ],
   "source": [
    "best_focus = -0.11\n",
    "focus_offset = 0.026\n",
    "await attcs.ataos.cmd_applyFocusOffset.set_start(offset=best_focus + focus_offset)"
   ]
  },
  {
   "cell_type": "code",
   "execution_count": 83,
   "metadata": {},
   "outputs": [
    {
     "data": {
      "text/plain": [
       "<lsst.ts.salobj.ddsutil.ATAOS_ackcmd_33d5c92b at 0x7fbe6af020f0>"
      ]
     },
     "execution_count": 83,
     "metadata": {},
     "output_type": "execute_result"
    }
   ],
   "source": [
    "best_focus = -0.11\n",
    "focus_offset = 0.0\n",
    "await attcs.ataos.cmd_applyFocusOffset.set_start(offset=best_focus + focus_offset)"
   ]
  },
  {
   "cell_type": "code",
   "execution_count": 84,
   "metadata": {},
   "outputs": [
    {
     "name": "stdout",
     "output_type": "stream",
     "text": [
      "Generating group_id\n",
      "OBJECT 0001 - 0001\n",
      "Waiting for header service LFO before continuing\n",
      "RemoteEvent(ATHeaderService, 0, logMessage) falling behind; read 24 messages\n"
     ]
    },
    {
     "data": {
      "text/plain": [
       "array([2020022100635])"
      ]
     },
     "execution_count": 84,
     "metadata": {},
     "output_type": "execute_result"
    },
    {
     "name": "stdout",
     "output_type": "stream",
     "text": [
      "RemoteEvent(ATHeaderService, 0, logMessage) falling behind; read 13 messages\n",
      "RemoteEvent(ATHeaderService, 0, logMessage) falling behind; read 15 messages\n",
      "RemoteEvent(ATHeaderService, 0, logMessage) falling behind; read 12 messages\n",
      "RemoteEvent(ATHeaderService, 0, logMessage) falling behind; read 18 messages\n",
      "RemoteEvent(ATHeaderService, 0, logMessage) falling behind; read 11 messages\n",
      "RemoteEvent(ATHeaderService, 0, logMessage) falling behind; read 11 messages\n",
      "RemoteEvent(ATHeaderService, 0, logMessage) falling behind; read 11 messages\n",
      "RemoteEvent(ATHeaderService, 0, logMessage) falling behind; read 10 messages\n",
      "RemoteEvent(ATHeaderService, 0, logMessage) falling behind; read 10 messages\n",
      "RemoteEvent(ATHeaderService, 0, logMessage) falling behind; read 15 messages\n",
      "RemoteEvent(ATHeaderService, 0, logMessage) falling behind; read 11 messages\n",
      "RemoteEvent(ATHeaderService, 0, logMessage) falling behind; read 12 messages\n"
     ]
    }
   ],
   "source": [
    "await latiss.take_object(exptime=60.0, n=1, filter='empty_1',grating='ronchi90lpmm')"
   ]
  },
  {
   "cell_type": "code",
   "execution_count": 85,
   "metadata": {},
   "outputs": [
    {
     "name": "stdout",
     "output_type": "stream",
     "text": [
      "focus_positions = [-0.26 -0.22 -0.18 -0.14 -0.1  -0.06 -0.02  0.02  0.06]\n"
     ]
    }
   ],
   "source": [
    "best_focus_fit = -0.1\n",
    "import math \n",
    "#Focus units are given in mm \n",
    "focus_center = -0.1\n",
    "focus_step = 0.04\n",
    "n_steps = 9\n",
    "focus_positions = np.linspace(focus_center - focus_step * math.floor(n_steps / 2), focus_center + focus_step * math.ceil(n_steps / 2 - 1), n_steps)\n",
    "print ('focus_positions = ' + str(focus_positions))"
   ]
  },
  {
   "cell_type": "code",
   "execution_count": 86,
   "metadata": {},
   "outputs": [
    {
     "name": "stdout",
     "output_type": "stream",
     "text": [
      "Applying x/y offset: -70.0/ 9.5 \n",
      "Applying Az/El offset: -25.02283493705847/ 66.06139365554382 \n",
      "Waiting for telescope to settle.\n",
      "Done\n"
     ]
    }
   ],
   "source": [
    "await attcs.offset_xy(x = -700 / 10, y = 95 / 10, persistent = True)"
   ]
  },
  {
   "cell_type": "code",
   "execution_count": 87,
   "metadata": {},
   "outputs": [
    {
     "name": "stdout",
     "output_type": "stream",
     "text": [
      "Generating group_id\n",
      "OBJECT 0001 - 0001\n",
      "Waiting for header service LFO before continuing\n",
      "RemoteEvent(ATHeaderService, 0, logMessage) falling behind; read 14 messages\n"
     ]
    },
    {
     "data": {
      "text/plain": [
       "array([2020022100648])"
      ]
     },
     "execution_count": 87,
     "metadata": {},
     "output_type": "execute_result"
    }
   ],
   "source": [
    "await latiss.take_object(exptime=1.0, n=1, filter='empty_1',grating='ronchi90lpmm')"
   ]
  },
  {
   "cell_type": "code",
   "execution_count": 88,
   "metadata": {},
   "outputs": [
    {
     "name": "stdout",
     "output_type": "stream",
     "text": [
      "Applying x/y offset: 17.3/ 1.2 \n",
      "Applying Az/El offset: 2.968606255755028/ -17.085589743941885 \n",
      "Waiting for telescope to settle.\n",
      "Done\n"
     ]
    }
   ],
   "source": [
    "await attcs.offset_xy(x = 173 / 10, y = 12 / 10, persistent = True)"
   ]
  },
  {
   "cell_type": "code",
   "execution_count": 89,
   "metadata": {},
   "outputs": [
    {
     "name": "stdout",
     "output_type": "stream",
     "text": [
      "Generating group_id\n",
      "OBJECT 0001 - 0001\n",
      "Waiting for header service LFO before continuing\n",
      "RemoteEvent(ATHeaderService, 0, logMessage) falling behind; read 14 messages\n"
     ]
    },
    {
     "data": {
      "text/plain": [
       "array([2020022100649])"
      ]
     },
     "execution_count": 89,
     "metadata": {},
     "output_type": "execute_result"
    }
   ],
   "source": [
    "await latiss.take_object(exptime=1.0, n=1, filter='empty_1',grating='ronchi90lpmm')"
   ]
  },
  {
   "cell_type": "code",
   "execution_count": 90,
   "metadata": {},
   "outputs": [
    {
     "name": "stdout",
     "output_type": "stream",
     "text": [
      "Working on focus position -0.26\n",
      "Generating group_id\n",
      "ENGTEST 0001 - 0001\n",
      "Waiting for header service LFO before continuing\n",
      "RemoteEvent(ATHeaderService, 0, logMessage) falling behind; read 12 messages\n",
      "Newest image id is = [2020022100650]\n",
      "Working on focus position -0.22\n",
      "Generating group_id\n",
      "ENGTEST 0001 - 0001\n",
      "Waiting for header service LFO before continuing\n",
      "RemoteEvent(ATHeaderService, 0, logMessage) falling behind; read 11 messages\n",
      "Newest image id is = [2020022100651]\n",
      "Working on focus position -0.18\n",
      "Generating group_id\n",
      "ENGTEST 0001 - 0001\n",
      "Waiting for header service LFO before continuing\n",
      "RemoteEvent(ATHeaderService, 0, logMessage) falling behind; read 12 messages\n",
      "Newest image id is = [2020022100652]\n",
      "Working on focus position -0.14\n",
      "Generating group_id\n",
      "ENGTEST 0001 - 0001\n",
      "Waiting for header service LFO before continuing\n",
      "RemoteEvent(ATHeaderService, 0, logMessage) falling behind; read 12 messages\n",
      "Newest image id is = [2020022100653]\n",
      "Working on focus position -0.1\n",
      "Generating group_id\n",
      "ENGTEST 0001 - 0001\n",
      "Waiting for header service LFO before continuing\n",
      "RemoteEvent(ATHeaderService, 0, logMessage) falling behind; read 13 messages\n",
      "Newest image id is = [2020022100654]\n",
      "Working on focus position -0.06\n",
      "Generating group_id\n",
      "ENGTEST 0001 - 0001\n",
      "Waiting for header service LFO before continuing\n",
      "RemoteEvent(ATHeaderService, 0, logMessage) falling behind; read 11 messages\n",
      "Newest image id is = [2020022100655]\n",
      "Working on focus position -0.020000000000000018\n",
      "Generating group_id\n",
      "ENGTEST 0001 - 0001\n",
      "Waiting for header service LFO before continuing\n",
      "Newest image id is = [2020022100656]\n",
      "Working on focus position 0.020000000000000018\n",
      "Generating group_id\n",
      "ENGTEST 0001 - 0001\n",
      "Waiting for header service LFO before continuing\n",
      "RemoteEvent(ATHeaderService, 0, logMessage) falling behind; read 12 messages\n",
      "Newest image id is = [2020022100657]\n",
      "Working on focus position 0.06\n",
      "Generating group_id\n",
      "ENGTEST 0001 - 0001\n",
      "Waiting for header service LFO before continuing\n",
      "Newest image id is = [2020022100658]\n"
     ]
    },
    {
     "data": {
      "text/plain": [
       "<lsst.ts.salobj.ddsutil.ATAOS_ackcmd_33d5c92b at 0x7fbe6aae1d68>"
      ]
     },
     "execution_count": 90,
     "metadata": {},
     "output_type": "execute_result"
    }
   ],
   "source": [
    "#!!!!DO NOT RUN UNLESS YOU HAVE BEEN CLEARED TO CONTROL TELESCOPE!!!!! \n",
    "focus_images = [0 for focus_pos in focus_positions]\n",
    "for i in range(len(focus_positions)): \n",
    "    focus_pos = focus_positions[i] \n",
    "    print ('Working on focus position ' + str(focus_pos))\n",
    "    attcs.athexapod.evt_positionUpdate.flush() \n",
    "    await attcs.ataos.cmd_applyFocusOffset.set_start(offset=focus_pos)\n",
    "    await attcs.athexapod.evt_positionUpdate.next(flush=False, timeout=attcs.long_timeout)\n",
    "    focus_image = await latiss.take_engtest(exptime=5.0, n=1, filter='empty_1', grating='ronchi90lpmm') \n",
    "    print ('Newest image id is = ' +str(focus_image) )\n",
    "    focus_images[i] = int(focus_image)\n",
    "    \n",
    "#This resets the focus position after taking this sequence: \n",
    "await attcs.ataos.cmd_applyFocusOffset.set_start(offset = focus_center)"
   ]
  },
  {
   "cell_type": "code",
   "execution_count": 91,
   "metadata": {},
   "outputs": [
    {
     "data": {
      "text/plain": [
       "<lsst.ts.salobj.ddsutil.ATAOS_ackcmd_33d5c92b at 0x7fbe6ae9bb38>"
      ]
     },
     "execution_count": 91,
     "metadata": {},
     "output_type": "execute_result"
    }
   ],
   "source": [
    "best_focus = -0.14\n",
    "focus_offset = 0.0 \n",
    "await attcs.ataos.cmd_applyFocusOffset.set_start(offset=best_focus + focus_offset)"
   ]
  },
  {
   "cell_type": "code",
   "execution_count": 92,
   "metadata": {},
   "outputs": [
    {
     "name": "stdout",
     "output_type": "stream",
     "text": [
      "Generating group_id\n",
      "OBJECT 0001 - 0001\n",
      "Waiting for header service LFO before continuing\n"
     ]
    },
    {
     "data": {
      "text/plain": [
       "array([2020022100659])"
      ]
     },
     "execution_count": 92,
     "metadata": {},
     "output_type": "execute_result"
    }
   ],
   "source": [
    "await latiss.take_object(exptime=30.0, n=1, filter='empty_1',grating='ronchi90lpmm')"
   ]
  },
  {
   "cell_type": "code",
   "execution_count": 93,
   "metadata": {},
   "outputs": [
    {
     "data": {
      "text/plain": [
       "<lsst.ts.salobj.ddsutil.ATAOS_ackcmd_33d5c92b at 0x7fbe86094898>"
      ]
     },
     "execution_count": 93,
     "metadata": {},
     "output_type": "execute_result"
    }
   ],
   "source": [
    "best_focus = -0.14\n",
    "focus_offset = 0.0265\n",
    "await attcs.ataos.cmd_applyFocusOffset.set_start(offset=best_focus + focus_offset)"
   ]
  },
  {
   "cell_type": "code",
   "execution_count": 94,
   "metadata": {},
   "outputs": [
    {
     "name": "stdout",
     "output_type": "stream",
     "text": [
      "Generating group_id\n",
      "OBJECT 0001 - 0001\n",
      "Waiting for header service LFO before continuing\n",
      "RemoteEvent(ATHeaderService, 0, logMessage) falling behind; read 10 messages\n"
     ]
    },
    {
     "data": {
      "text/plain": [
       "array([2020022100660])"
      ]
     },
     "execution_count": 94,
     "metadata": {},
     "output_type": "execute_result"
    }
   ],
   "source": [
    "await latiss.take_object(exptime=30.0, n=1, filter='quadnotch1',grating='ronchi90lpmm')"
   ]
  },
  {
   "cell_type": "code",
   "execution_count": 95,
   "metadata": {},
   "outputs": [
    {
     "name": "stdout",
     "output_type": "stream",
     "text": [
      "Generating group_id\n",
      "OBJECT 0001 - 0001\n",
      "RemoteEvent(ATMCS, 0, target) falling behind; read 43 messages\n",
      "RemoteEvent(ATDomeTrajectory, 0, logMessage) falling behind; read 11 messages\n",
      "RemoteEvent(ATDomeTrajectory, 0, logMessage) falling behind; read 38 messages\n",
      "Waiting for header service LFO before continuing\n",
      "RemoteEvent(ATHeaderService, 0, logMessage) falling behind; read 15 messages\n"
     ]
    },
    {
     "data": {
      "text/plain": [
       "array([2020022100661])"
      ]
     },
     "execution_count": 95,
     "metadata": {},
     "output_type": "execute_result"
    }
   ],
   "source": [
    "await latiss.take_object(exptime=30.0, n=1, filter='BG40',grating='ronchi90lpmm')"
   ]
  },
  {
   "cell_type": "code",
   "execution_count": 96,
   "metadata": {},
   "outputs": [
    {
     "name": "stdout",
     "output_type": "stream",
     "text": [
      "Generating group_id\n",
      "OBJECT 0001 - 0001\n",
      "RemoteTelemetry(ATPtg, 0, timeAndDate) falling behind; read 11 messages\n",
      "RemoteTelemetry(ATPtg, 0, mountStatus) falling behind; read 11 messages\n",
      "RemoteTelemetry(ATPtg, 0, guidingAndOffsets) falling behind; read 12 messages\n",
      "RemoteTelemetry(ATPtg, 0, currentTargetStatus) falling behind; read 12 messages\n",
      "Waiting for header service LFO before continuing\n",
      "RemoteEvent(ATHeaderService, 0, logMessage) falling behind; read 11 messages\n"
     ]
    },
    {
     "data": {
      "text/plain": [
       "array([2020022100662])"
      ]
     },
     "execution_count": 96,
     "metadata": {},
     "output_type": "execute_result"
    },
    {
     "name": "stdout",
     "output_type": "stream",
     "text": [
      "RemoteEvent(ATHeaderService, 0, logMessage) falling behind; read 12 messages\n",
      "RemoteEvent(ATHeaderService, 0, logMessage) falling behind; read 12 messages\n",
      "RemoteEvent(ATHeaderService, 0, logMessage) falling behind; read 10 messages\n",
      "RemoteEvent(ATHeaderService, 0, logMessage) falling behind; read 11 messages\n",
      "RemoteEvent(ATHeaderService, 0, logMessage) falling behind; read 14 messages\n",
      "RemoteEvent(ATHeaderService, 0, logMessage) falling behind; read 23 messages\n",
      "RemoteEvent(ATHeaderService, 0, logMessage) falling behind; read 10 messages\n",
      "RemoteEvent(ATHeaderService, 0, logMessage) falling behind; read 15 messages\n",
      "RemoteEvent(ATHeaderService, 0, logMessage) falling behind; read 14 messages\n",
      "RemoteEvent(ATHeaderService, 0, logMessage) falling behind; read 12 messages\n",
      "RemoteEvent(ATHeaderService, 0, logMessage) falling behind; read 17 messages\n",
      "RemoteEvent(ATHeaderService, 0, logMessage) falling behind; read 68 messages\n",
      "RemoteEvent(ATHeaderService, 0, logMessage) falling behind; read 10 messages\n",
      "RemoteEvent(ATHeaderService, 0, logMessage) falling behind; read 10 messages\n",
      "RemoteEvent(ATHeaderService, 0, logMessage) falling behind; read 14 messages\n"
     ]
    }
   ],
   "source": [
    "await latiss.take_object(exptime=30.0, n=1, filter='RG610',grating='ronchi90lpmm')"
   ]
  },
  {
   "cell_type": "code",
   "execution_count": 98,
   "metadata": {},
   "outputs": [
    {
     "name": "stdout",
     "output_type": "stream",
     "text": [
      "focus_positions = [-0.25 -0.22 -0.19 -0.16 -0.13 -0.1  -0.07 -0.04 -0.01  0.02  0.05]\n"
     ]
    }
   ],
   "source": [
    "best_focus_fit = -0.1\n",
    "import math \n",
    "#Focus units are given in mm \n",
    "focus_center = -0.1\n",
    "focus_step = 0.03\n",
    "n_steps = 11\n",
    "focus_positions = np.linspace(focus_center - focus_step * math.floor(n_steps / 2), focus_center + focus_step * math.ceil(n_steps / 2 - 1), n_steps)\n",
    "print ('focus_positions = ' + str(focus_positions))"
   ]
  },
  {
   "cell_type": "code",
   "execution_count": 99,
   "metadata": {},
   "outputs": [
    {
     "name": "stdout",
     "output_type": "stream",
     "text": [
      "Working on focus position -0.25\n",
      "Generating group_id\n",
      "ENGTEST 0001 - 0001\n",
      "RemoteEvent(ATHeaderService, 0, logMessage) falling behind; read 11 messages\n",
      "Waiting for header service LFO before continuing\n",
      "RemoteEvent(ATHeaderService, 0, logMessage) falling behind; read 12 messages\n",
      "Newest image id is = [2020022100678]\n",
      "Working on focus position -0.22\n",
      "Generating group_id\n",
      "ENGTEST 0001 - 0001\n",
      "Waiting for header service LFO before continuing\n",
      "RemoteEvent(ATHeaderService, 0, logMessage) falling behind; read 14 messages\n",
      "Newest image id is = [2020022100679]\n",
      "Working on focus position -0.19\n",
      "Generating group_id\n",
      "ENGTEST 0001 - 0001\n",
      "Waiting for header service LFO before continuing\n",
      "RemoteEvent(ATHeaderService, 0, logMessage) falling behind; read 10 messages\n",
      "Newest image id is = [2020022100680]\n",
      "Working on focus position -0.16\n",
      "Generating group_id\n",
      "ENGTEST 0001 - 0001\n",
      "Waiting for header service LFO before continuing\n",
      "RemoteEvent(ATHeaderService, 0, logMessage) falling behind; read 14 messages\n",
      "Newest image id is = [2020022100681]\n",
      "Working on focus position -0.13\n",
      "Generating group_id\n",
      "ENGTEST 0001 - 0001\n",
      "Waiting for header service LFO before continuing\n",
      "RemoteEvent(ATHeaderService, 0, logMessage) falling behind; read 12 messages\n",
      "Newest image id is = [2020022100682]\n",
      "Working on focus position -0.1\n",
      "Generating group_id\n",
      "ENGTEST 0001 - 0001\n",
      "Waiting for header service LFO before continuing\n",
      "RemoteEvent(ATHeaderService, 0, logMessage) falling behind; read 14 messages\n",
      "Newest image id is = [2020022100683]\n",
      "Working on focus position -0.07\n",
      "Generating group_id\n",
      "ENGTEST 0001 - 0001\n",
      "Waiting for header service LFO before continuing\n",
      "RemoteEvent(ATHeaderService, 0, logMessage) falling behind; read 14 messages\n",
      "Newest image id is = [2020022100684]\n",
      "Working on focus position -0.04000000000000001\n",
      "Generating group_id\n",
      "ENGTEST 0001 - 0001\n",
      "Waiting for header service LFO before continuing\n",
      "RemoteEvent(ATHeaderService, 0, logMessage) falling behind; read 12 messages\n",
      "Newest image id is = [2020022100685]\n",
      "Working on focus position -0.010000000000000009\n",
      "Generating group_id\n",
      "ENGTEST 0001 - 0001\n",
      "Waiting for header service LFO before continuing\n",
      "RemoteEvent(ATHeaderService, 0, logMessage) falling behind; read 15 messages\n",
      "Newest image id is = [2020022100686]\n",
      "Working on focus position 0.020000000000000018\n",
      "Generating group_id\n",
      "ENGTEST 0001 - 0001\n",
      "Waiting for header service LFO before continuing\n",
      "RemoteEvent(ATHeaderService, 0, logMessage) falling behind; read 11 messages\n",
      "Newest image id is = [2020022100687]\n",
      "Working on focus position 0.04999999999999999\n",
      "Generating group_id\n",
      "ENGTEST 0001 - 0001\n",
      "Waiting for header service LFO before continuing\n",
      "RemoteEvent(ATHeaderService, 0, logMessage) falling behind; read 12 messages\n",
      "Newest image id is = [2020022100688]\n"
     ]
    },
    {
     "data": {
      "text/plain": [
       "<lsst.ts.salobj.ddsutil.ATAOS_ackcmd_33d5c92b at 0x7fbe5e15ab38>"
      ]
     },
     "execution_count": 99,
     "metadata": {},
     "output_type": "execute_result"
    },
    {
     "name": "stdout",
     "output_type": "stream",
     "text": [
      "RemoteEvent(ATMCS, 0, target) falling behind; read 40 messages\n",
      "RemoteEvent(ATDomeTrajectory, 0, logMessage) falling behind; read 15 messages\n",
      "RemoteEvent(ATHeaderService, 0, logMessage) falling behind; read 11 messages\n"
     ]
    }
   ],
   "source": [
    "#!!!!DO NOT RUN UNLESS YOU HAVE BEEN CLEARED TO CONTROL TELESCOPE!!!!! \n",
    "focus_images = [0 for focus_pos in focus_positions]\n",
    "for i in range(len(focus_positions)): \n",
    "    focus_pos = focus_positions[i] \n",
    "    print ('Working on focus position ' + str(focus_pos))\n",
    "    attcs.athexapod.evt_positionUpdate.flush() \n",
    "    await attcs.ataos.cmd_applyFocusOffset.set_start(offset=focus_pos)\n",
    "    await attcs.athexapod.evt_positionUpdate.next(flush=False, timeout=attcs.long_timeout)\n",
    "    focus_image = await latiss.take_engtest(exptime=5.0, n=1, filter='empty_1', grating='ronchi90lpmm') \n",
    "    print ('Newest image id is = ' +str(focus_image) )\n",
    "    focus_images[i] = int(focus_image)\n",
    "    \n",
    "#This resets the focus position after taking this sequence: \n",
    "await attcs.ataos.cmd_applyFocusOffset.set_start(offset = focus_center)"
   ]
  },
  {
   "cell_type": "code",
   "execution_count": 100,
   "metadata": {},
   "outputs": [
    {
     "name": "stdout",
     "output_type": "stream",
     "text": [
      "Generating group_id\n",
      "OBJECT 0001 - 0001\n",
      "Waiting for header service LFO before continuing\n",
      "RemoteEvent(ATHeaderService, 0, logMessage) falling behind; read 11 messages\n"
     ]
    },
    {
     "data": {
      "text/plain": [
       "array([2020022100690])"
      ]
     },
     "execution_count": 100,
     "metadata": {},
     "output_type": "execute_result"
    }
   ],
   "source": [
    "await latiss.take_object(exptime=2.0, n=1, filter='empty_1',grating='ronchi90lpmm')"
   ]
  },
  {
   "cell_type": "code",
   "execution_count": 101,
   "metadata": {},
   "outputs": [
    {
     "data": {
      "text/plain": [
       "<lsst.ts.salobj.ddsutil.ATAOS_ackcmd_33d5c92b at 0x7fbe6aecb550>"
      ]
     },
     "execution_count": 101,
     "metadata": {},
     "output_type": "execute_result"
    }
   ],
   "source": [
    "best_focus = -0.13\n",
    "focus_offset = 0.0\n",
    "await attcs.ataos.cmd_applyFocusOffset.set_start(offset=best_focus + focus_offset)"
   ]
  },
  {
   "cell_type": "code",
   "execution_count": 102,
   "metadata": {},
   "outputs": [
    {
     "name": "stdout",
     "output_type": "stream",
     "text": [
      "Generating group_id\n",
      "OBJECT 0001 - 0001\n",
      "Waiting for header service LFO before continuing\n",
      "RemoteEvent(ATHeaderService, 0, logMessage) falling behind; read 10 messages\n"
     ]
    },
    {
     "data": {
      "text/plain": [
       "array([2020022100691])"
      ]
     },
     "execution_count": 102,
     "metadata": {},
     "output_type": "execute_result"
    }
   ],
   "source": [
    "await latiss.take_object(exptime=45.0, n=1, filter='empty_1',grating='ronchi90lpmm')"
   ]
  },
  {
   "cell_type": "code",
   "execution_count": 103,
   "metadata": {},
   "outputs": [
    {
     "data": {
      "text/plain": [
       "<lsst.ts.salobj.ddsutil.ATAOS_ackcmd_33d5c92b at 0x7fbe6aaca080>"
      ]
     },
     "execution_count": 103,
     "metadata": {},
     "output_type": "execute_result"
    }
   ],
   "source": [
    "best_focus = -0.13\n",
    "focus_offset = 0.0265\n",
    "await attcs.ataos.cmd_applyFocusOffset.set_start(offset=best_focus + focus_offset)"
   ]
  },
  {
   "cell_type": "code",
   "execution_count": 104,
   "metadata": {},
   "outputs": [
    {
     "name": "stdout",
     "output_type": "stream",
     "text": [
      "Generating group_id\n",
      "OBJECT 0001 - 0001\n",
      "Waiting for header service LFO before continuing\n",
      "RemoteEvent(ATHeaderService, 0, logMessage) falling behind; read 10 messages\n"
     ]
    },
    {
     "data": {
      "text/plain": [
       "array([2020022100692])"
      ]
     },
     "execution_count": 104,
     "metadata": {},
     "output_type": "execute_result"
    }
   ],
   "source": [
    "await latiss.take_object(exptime=45.0, n=1, filter='quadnotch1',grating='ronchi90lpmm')"
   ]
  },
  {
   "cell_type": "code",
   "execution_count": 105,
   "metadata": {},
   "outputs": [
    {
     "name": "stdout",
     "output_type": "stream",
     "text": [
      "Generating group_id\n",
      "OBJECT 0001 - 0001\n",
      "Waiting for header service LFO before continuing\n",
      "RemoteEvent(ATHeaderService, 0, logMessage) falling behind; read 16 messages\n"
     ]
    },
    {
     "data": {
      "text/plain": [
       "array([2020022100693])"
      ]
     },
     "execution_count": 105,
     "metadata": {},
     "output_type": "execute_result"
    }
   ],
   "source": [
    "await latiss.take_object(exptime=45.0, n=1, filter='BG40',grating='ronchi90lpmm')"
   ]
  },
  {
   "cell_type": "code",
   "execution_count": 106,
   "metadata": {},
   "outputs": [
    {
     "name": "stdout",
     "output_type": "stream",
     "text": [
      "Generating group_id\n",
      "OBJECT 0001 - 0001\n",
      "RemoteEvent(ATMCS, 0, target) falling behind; read 19 messages\n",
      "RemoteEvent(ATDomeTrajectory, 0, logMessage) falling behind; read 13 messages\n",
      "Waiting for header service LFO before continuing\n",
      "RemoteEvent(ATHeaderService, 0, logMessage) falling behind; read 15 messages\n"
     ]
    },
    {
     "data": {
      "text/plain": [
       "array([2020022100694])"
      ]
     },
     "execution_count": 106,
     "metadata": {},
     "output_type": "execute_result"
    }
   ],
   "source": [
    "await latiss.take_object(exptime=45.0, n=1, filter='RG610',grating='ronchi90lpmm')"
   ]
  },
  {
   "cell_type": "code",
   "execution_count": 107,
   "metadata": {},
   "outputs": [
    {
     "data": {
      "text/plain": [
       "<lsst.ts.salobj.ddsutil.ATAOS_ackcmd_33d5c92b at 0x7fbe811237b8>"
      ]
     },
     "execution_count": 107,
     "metadata": {},
     "output_type": "execute_result"
    }
   ],
   "source": [
    "best_focus = 0.15\n",
    "focus_offset = 0.0\n",
    "await attcs.ataos.cmd_applyFocusOffset.set_start(offset=best_focus + focus_offset)"
   ]
  },
  {
   "cell_type": "code",
   "execution_count": 109,
   "metadata": {},
   "outputs": [
    {
     "name": "stdout",
     "output_type": "stream",
     "text": [
      "Generating group_id\n",
      "OBJECT 0001 - 0001\n",
      "RemoteEvent(ATDomeTrajectory, 0, logMessage) falling behind; read 14 messages\n",
      "RemoteEvent(ATMCS, 0, target) falling behind; read 100 messages\n",
      "RemoteTelemetry(ATMCS, 0, trajectory) falling behind; read 13 messages\n",
      "RemoteTelemetry(ATMCS, 0, torqueDemand) falling behind; read 13 messages\n",
      "RemoteTelemetry(ATMCS, 0, nasymth_m3_mountMotorEncoders) falling behind; read 12 messages\n",
      "RemoteTelemetry(ATMCS, 0, mount_Nasmyth_Encoders) falling behind; read 12 messages\n",
      "RemoteTelemetry(ATMCS, 0, mount_AzEl_Encoders) falling behind; read 13 messages\n",
      "RemoteTelemetry(ATMCS, 0, measuredTorque) falling behind; read 11 messages\n",
      "RemoteTelemetry(ATMCS, 0, measuredMotorVelocity) falling behind; read 10 messages\n",
      "RemoteEvent(ATMCS, 0, heartbeat) falling behind; read 14 messages\n",
      "Waiting for header service LFO before continuing\n",
      "RemoteEvent(ATHeaderService, 0, logMessage) falling behind; read 14 messages\n"
     ]
    },
    {
     "data": {
      "text/plain": [
       "array([2020022100695])"
      ]
     },
     "execution_count": 109,
     "metadata": {},
     "output_type": "execute_result"
    }
   ],
   "source": [
    "await latiss.take_object(exptime=90.0, n=1, filter='empty_1',grating='ronchi90lpmm')"
   ]
  },
  {
   "cell_type": "code",
   "execution_count": 110,
   "metadata": {},
   "outputs": [
    {
     "data": {
      "text/plain": [
       "<lsst.ts.salobj.ddsutil.ATAOS_ackcmd_33d5c92b at 0x7fbe6ae09fd0>"
      ]
     },
     "execution_count": 110,
     "metadata": {},
     "output_type": "execute_result"
    },
    {
     "name": "stdout",
     "output_type": "stream",
     "text": [
      "RemoteEvent(ATHeaderService, 0, logMessage) falling behind; read 11 messages\n",
      "RemoteEvent(ATMCS, 0, target) falling behind; read 25 messages\n",
      "RemoteEvent(ATDomeTrajectory, 0, logMessage) falling behind; read 16 messages\n",
      "RemoteEvent(ATDomeTrajectory, 0, logMessage) falling behind; read 10 messages\n",
      "RemoteEvent(ATMCS, 0, target) falling behind; read 81 messages\n",
      "RemoteEvent(ATDomeTrajectory, 0, logMessage) falling behind; read 16 messages\n",
      "RemoteEvent(ATHeaderService, 0, logMessage) falling behind; read 14 messages\n",
      "RemoteEvent(ATMCS, 0, target) falling behind; read 100 messages\n",
      "RemoteEvent(ATDomeTrajectory, 0, logMessage) falling behind; read 87 messages\n",
      "RemoteTelemetry(ATDome, 0, position) falling behind; read 37 messages\n",
      "RemoteEvent(ATDome, 0, heartbeat) falling behind; read 15 messages\n",
      "RemoteEvent(ATHeaderService, 0, logMessage) falling behind; read 12 messages\n",
      "RemoteEvent(ATDomeTrajectory, 0, logMessage) falling behind; read 12 messages\n",
      "RemoteEvent(ATMCS, 0, target) falling behind; read 100 messages\n",
      "RemoteEvent(ATMCS, 0, target) falling behind; read 40 messages\n",
      "RemoteEvent(ATDomeTrajectory, 0, logMessage) falling behind; read 11 messages\n",
      "RemoteEvent(ATHeaderService, 0, logMessage) falling behind; read 10 messages\n",
      "RemoteEvent(ATMCS, 0, target) falling behind; read 80 messages\n",
      "RemoteEvent(ATDomeTrajectory, 0, logMessage) falling behind; read 19 messages\n"
     ]
    }
   ],
   "source": [
    "best_focus = -0.13\n",
    "focus_offset = 0.0\n",
    "await attcs.ataos.cmd_applyFocusOffset.set_start(offset=best_focus + focus_offset)"
   ]
  },
  {
   "cell_type": "code",
   "execution_count": 111,
   "metadata": {},
   "outputs": [
    {
     "name": "stdout",
     "output_type": "stream",
     "text": [
      "Slewing to HD 185975: 20 28 18.7402 -87 28 19.938\n",
      "Parallactic angle: -97.16751628503559 | Sky Angle: -127.44957777505164\n",
      "Sending command\n",
      "Stop tracking.\n",
      "Mount tracking state is 9\n",
      "Tracking state: 10.\n",
      "Tracking state: 8.\n",
      "In Position: True.\n",
      "In Position: False.\n",
      "Scheduling check coroutines\n",
      "process as completed...\n",
      "Got False\n",
      "Telescope not in position\n",
      "atmcs: <State.ENABLED: 2>\n",
      "atptg: <State.ENABLED: 2>\n",
      "ataos: <State.ENABLED: 2>\n",
      "atpneumatics: <State.ENABLED: 2>\n",
      "athexapod: <State.ENABLED: 2>\n",
      "atdome: <State.ENABLED: 2>\n",
      "atdometrajectory: <State.ENABLED: 2>\n",
      "[Telescope] delta Alt = +000.009 | delta Az= +000.023 [Dome] delta Az = -002.976\n",
      "[Telescope] delta Alt = +000.007 | delta Az= -000.002 [Dome] delta Az = -002.976\n",
      "[Telescope] delta Alt = +000.007 | delta Az= -000.002 [Dome] delta Az = -002.976\n",
      "[Telescope] delta Alt = +000.007 | delta Az= -000.002 [Dome] delta Az = -002.976\n",
      "Got True\n",
      "Waiting for telescope to settle.\n",
      "[Telescope] delta Alt = +000.007 | delta Az= -000.002 [Dome] delta Az = -002.976\n",
      "Telescope in position.\n",
      "ATDome in position.\n",
      "['Telescope in position.', 'ATDome in position.']\n",
      "RemoteEvent(ATHeaderService, 0, logMessage) falling behind; read 15 messages\n",
      "RemoteEvent(ATHeaderService, 0, logMessage) falling behind; read 15 messages\n",
      "RemoteEvent(ATHeaderService, 0, logMessage) falling behind; read 12 messages\n",
      "RemoteEvent(ATHeaderService, 0, logMessage) falling behind; read 13 messages\n",
      "RemoteEvent(ATHeaderService, 0, logMessage) falling behind; read 10 messages\n",
      "RemoteEvent(ATHeaderService, 0, logMessage) falling behind; read 14 messages\n",
      "RemoteEvent(ATHeaderService, 0, logMessage) falling behind; read 14 messages\n",
      "RemoteEvent(ATHeaderService, 0, logMessage) falling behind; read 11 messages\n",
      "RemoteEvent(ATHeaderService, 0, logMessage) falling behind; read 10 messages\n",
      "RemoteEvent(ATHeaderService, 0, logMessage) falling behind; read 12 messages\n",
      "RemoteEvent(ATHeaderService, 0, logMessage) falling behind; read 15 messages\n",
      "RemoteEvent(ATHeaderService, 0, logMessage) falling behind; read 18 messages\n",
      "RemoteEvent(ATHeaderService, 0, logMessage) falling behind; read 13 messages\n",
      "RemoteEvent(ATHeaderService, 0, logMessage) falling behind; read 13 messages\n"
     ]
    }
   ],
   "source": [
    "await attcs.slew_object(name = 'HD 185975', pa_ang = 0.0 , slew_timeout = 240.)"
   ]
  },
  {
   "cell_type": "code",
   "execution_count": 112,
   "metadata": {},
   "outputs": [
    {
     "name": "stdout",
     "output_type": "stream",
     "text": [
      "focus_positions = [-0.25 -0.22 -0.19 -0.16 -0.13 -0.1  -0.07 -0.04 -0.01  0.02  0.05]\n"
     ]
    }
   ],
   "source": [
    "best_focus_fit = -0.2\n",
    "import math \n",
    "#Focus units are given in mm \n",
    "focus_center = -0.1\n",
    "focus_step = 0.03\n",
    "n_steps = 11\n",
    "focus_positions = np.linspace(focus_center - focus_step * math.floor(n_steps / 2), focus_center + focus_step * math.ceil(n_steps / 2 - 1), n_steps)\n",
    "print ('focus_positions = ' + str(focus_positions))"
   ]
  },
  {
   "cell_type": "code",
   "execution_count": 113,
   "metadata": {},
   "outputs": [
    {
     "name": "stdout",
     "output_type": "stream",
     "text": [
      "Working on focus position -0.25\n",
      "Generating group_id\n",
      "ENGTEST 0001 - 0001\n",
      "Waiting for header service LFO before continuing\n",
      "RemoteEvent(ATHeaderService, 0, logMessage) falling behind; read 10 messages\n",
      "Newest image id is = [2020022100716]\n",
      "Working on focus position -0.22\n",
      "Generating group_id\n",
      "ENGTEST 0001 - 0001\n",
      "Waiting for header service LFO before continuing\n",
      "RemoteEvent(ATHeaderService, 0, logMessage) falling behind; read 11 messages\n",
      "Newest image id is = [2020022100717]\n",
      "Working on focus position -0.19\n",
      "Generating group_id\n",
      "ENGTEST 0001 - 0001\n",
      "Waiting for header service LFO before continuing\n",
      "RemoteEvent(ATHeaderService, 0, logMessage) falling behind; read 17 messages\n",
      "Newest image id is = [2020022100718]\n",
      "Working on focus position -0.16\n",
      "Generating group_id\n",
      "ENGTEST 0001 - 0001\n",
      "Waiting for header service LFO before continuing\n",
      "Newest image id is = [2020022100719]\n",
      "Working on focus position -0.13\n",
      "Generating group_id\n",
      "ENGTEST 0001 - 0001\n",
      "Waiting for header service LFO before continuing\n",
      "RemoteEvent(ATHeaderService, 0, logMessage) falling behind; read 15 messages\n",
      "Newest image id is = [2020022100720]\n",
      "Working on focus position -0.1\n",
      "Generating group_id\n",
      "ENGTEST 0001 - 0001\n",
      "Waiting for header service LFO before continuing\n",
      "RemoteEvent(ATHeaderService, 0, logMessage) falling behind; read 12 messages\n",
      "Newest image id is = [2020022100721]\n",
      "Working on focus position -0.07\n",
      "Generating group_id\n",
      "ENGTEST 0001 - 0001\n",
      "Waiting for header service LFO before continuing\n",
      "RemoteEvent(ATHeaderService, 0, logMessage) falling behind; read 10 messages\n",
      "Newest image id is = [2020022100722]\n",
      "Working on focus position -0.04000000000000001\n",
      "Generating group_id\n",
      "ENGTEST 0001 - 0001\n",
      "Waiting for header service LFO before continuing\n",
      "RemoteEvent(ATHeaderService, 0, logMessage) falling behind; read 11 messages\n",
      "Newest image id is = [2020022100723]\n",
      "Working on focus position -0.010000000000000009\n",
      "Generating group_id\n",
      "ENGTEST 0001 - 0001\n",
      "Waiting for header service LFO before continuing\n",
      "RemoteEvent(ATHeaderService, 0, logMessage) falling behind; read 15 messages\n",
      "Newest image id is = [2020022100724]\n",
      "Working on focus position 0.020000000000000018\n",
      "Generating group_id\n",
      "ENGTEST 0001 - 0001\n",
      "Waiting for header service LFO before continuing\n",
      "RemoteEvent(ATHeaderService, 0, logMessage) falling behind; read 11 messages\n",
      "Newest image id is = [2020022100725]\n",
      "Working on focus position 0.04999999999999999\n",
      "Generating group_id\n",
      "ENGTEST 0001 - 0001\n",
      "Waiting for header service LFO before continuing\n",
      "RemoteEvent(ATHeaderService, 0, logMessage) falling behind; read 14 messages\n",
      "Newest image id is = [2020022100726]\n"
     ]
    },
    {
     "data": {
      "text/plain": [
       "<lsst.ts.salobj.ddsutil.ATAOS_ackcmd_33d5c92b at 0x7fbe860a4cf8>"
      ]
     },
     "execution_count": 113,
     "metadata": {},
     "output_type": "execute_result"
    },
    {
     "name": "stdout",
     "output_type": "stream",
     "text": [
      "RemoteEvent(ATHeaderService, 0, logMessage) falling behind; read 13 messages\n",
      "RemoteEvent(ATHeaderService, 0, logMessage) falling behind; read 13 messages\n",
      "RemoteEvent(ATHeaderService, 0, logMessage) falling behind; read 13 messages\n",
      "RemoteEvent(ATHeaderService, 0, logMessage) falling behind; read 13 messages\n",
      "RemoteEvent(ATHeaderService, 0, logMessage) falling behind; read 26 messages\n",
      "RemoteEvent(ATHeaderService, 0, logMessage) falling behind; read 13 messages\n",
      "RemoteEvent(ATHeaderService, 0, logMessage) falling behind; read 11 messages\n",
      "RemoteEvent(ATHeaderService, 0, logMessage) falling behind; read 10 messages\n",
      "RemoteEvent(ATHeaderService, 0, logMessage) falling behind; read 14 messages\n",
      "RemoteEvent(ATHeaderService, 0, logMessage) falling behind; read 14 messages\n",
      "RemoteEvent(ATHeaderService, 0, logMessage) falling behind; read 11 messages\n",
      "RemoteEvent(ATHeaderService, 0, logMessage) falling behind; read 11 messages\n",
      "RemoteEvent(ATHeaderService, 0, logMessage) falling behind; read 14 messages\n",
      "RemoteEvent(ATHeaderService, 0, logMessage) falling behind; read 16 messages\n",
      "RemoteEvent(ATHeaderService, 0, logMessage) falling behind; read 10 messages\n",
      "RemoteEvent(ATHeaderService, 0, logMessage) falling behind; read 12 messages\n",
      "RemoteEvent(ATHeaderService, 0, logMessage) falling behind; read 16 messages\n",
      "RemoteEvent(ATHeaderService, 0, logMessage) falling behind; read 15 messages\n",
      "RemoteEvent(ATHeaderService, 0, logMessage) falling behind; read 14 messages\n",
      "RemoteEvent(ATHeaderService, 0, logMessage) falling behind; read 12 messages\n",
      "RemoteEvent(ATHeaderService, 0, logMessage) falling behind; read 51 messages\n",
      "RemoteEvent(ATHeaderService, 0, logMessage) falling behind; read 10 messages\n",
      "RemoteEvent(ATHeaderService, 0, logMessage) falling behind; read 14 messages\n",
      "RemoteEvent(ATHeaderService, 0, logMessage) falling behind; read 10 messages\n",
      "RemoteEvent(ATHeaderService, 0, logMessage) falling behind; read 14 messages\n",
      "RemoteEvent(ATHeaderService, 0, logMessage) falling behind; read 13 messages\n",
      "RemoteEvent(ATHeaderService, 0, logMessage) falling behind; read 11 messages\n",
      "RemoteEvent(ATHeaderService, 0, logMessage) falling behind; read 19 messages\n",
      "RemoteEvent(ATHeaderService, 0, logMessage) falling behind; read 13 messages\n",
      "RemoteEvent(ATHeaderService, 0, logMessage) falling behind; read 12 messages\n",
      "RemoteEvent(ATHeaderService, 0, logMessage) falling behind; read 10 messages\n",
      "RemoteEvent(ATHeaderService, 0, logMessage) falling behind; read 12 messages\n",
      "RemoteEvent(ATHeaderService, 0, logMessage) falling behind; read 10 messages\n",
      "RemoteEvent(ATHeaderService, 0, logMessage) falling behind; read 10 messages\n",
      "RemoteEvent(ATHeaderService, 0, logMessage) falling behind; read 15 messages\n",
      "RemoteEvent(ATHeaderService, 0, logMessage) falling behind; read 13 messages\n",
      "RemoteEvent(ATHeaderService, 0, logMessage) falling behind; read 12 messages\n"
     ]
    }
   ],
   "source": [
    "#!!!!DO NOT RUN UNLESS YOU HAVE BEEN CLEARED TO CONTROL TELESCOPE!!!!! \n",
    "focus_images = [0 for focus_pos in focus_positions]\n",
    "for i in range(len(focus_positions)): \n",
    "    focus_pos = focus_positions[i] \n",
    "    print ('Working on focus position ' + str(focus_pos))\n",
    "    attcs.athexapod.evt_positionUpdate.flush() \n",
    "    await attcs.ataos.cmd_applyFocusOffset.set_start(offset=focus_pos)\n",
    "    await attcs.athexapod.evt_positionUpdate.next(flush=False, timeout=attcs.long_timeout)\n",
    "    focus_image = await latiss.take_engtest(exptime=3.0, n=1, filter='empty_1', grating='ronchi90lpmm') \n",
    "    print ('Newest image id is = ' +str(focus_image) )\n",
    "    focus_images[i] = int(focus_image)\n",
    "    \n",
    "#This resets the focus position after taking this sequence: \n",
    "await attcs.ataos.cmd_applyFocusOffset.set_start(offset = focus_center)"
   ]
  },
  {
   "cell_type": "code",
   "execution_count": 114,
   "metadata": {},
   "outputs": [
    {
     "name": "stdout",
     "output_type": "stream",
     "text": [
      "focus_positions = [-0.22 -0.19 -0.16 -0.13 -0.1  -0.07 -0.04 -0.01  0.02]\n",
      "RemoteEvent(ATHeaderService, 0, logMessage) falling behind; read 14 messages\n"
     ]
    }
   ],
   "source": [
    "best_focus_fit = -0.17\n",
    "import math \n",
    "#Focus units are given in mm \n",
    "focus_center = -0.1\n",
    "focus_step = 0.03\n",
    "n_steps = 9\n",
    "focus_positions = np.linspace(focus_center - focus_step * math.floor(n_steps / 2), focus_center + focus_step * math.ceil(n_steps / 2 - 1), n_steps)\n",
    "print ('focus_positions = ' + str(focus_positions))"
   ]
  },
  {
   "cell_type": "code",
   "execution_count": 115,
   "metadata": {},
   "outputs": [
    {
     "name": "stdout",
     "output_type": "stream",
     "text": [
      "Working on focus position -0.22\n",
      "Generating group_id\n",
      "ENGTEST 0001 - 0001\n",
      "Waiting for header service LFO before continuing\n",
      "RemoteEvent(ATHeaderService, 0, logMessage) falling behind; read 10 messages\n",
      "Newest image id is = [2020022100764]\n",
      "Working on focus position -0.19\n",
      "Generating group_id\n",
      "ENGTEST 0001 - 0001\n",
      "Waiting for header service LFO before continuing\n",
      "RemoteEvent(ATHeaderService, 0, logMessage) falling behind; read 10 messages\n",
      "Newest image id is = [2020022100765]\n",
      "Working on focus position -0.16\n",
      "Generating group_id\n",
      "ENGTEST 0001 - 0001\n",
      "Waiting for header service LFO before continuing\n",
      "RemoteEvent(ATHeaderService, 0, logMessage) falling behind; read 10 messages\n",
      "Newest image id is = [2020022100766]\n",
      "Working on focus position -0.13\n",
      "Generating group_id\n",
      "ENGTEST 0001 - 0001\n",
      "Waiting for header service LFO before continuing\n",
      "RemoteEvent(ATHeaderService, 0, logMessage) falling behind; read 13 messages\n",
      "Newest image id is = [2020022100767]\n",
      "Working on focus position -0.1\n",
      "Generating group_id\n",
      "ENGTEST 0001 - 0001\n",
      "Waiting for header service LFO before continuing\n",
      "RemoteEvent(ATHeaderService, 0, logMessage) falling behind; read 11 messages\n",
      "Newest image id is = [2020022100768]\n",
      "Working on focus position -0.07\n",
      "Generating group_id\n",
      "ENGTEST 0001 - 0001\n",
      "Waiting for header service LFO before continuing\n",
      "RemoteEvent(ATHeaderService, 0, logMessage) falling behind; read 10 messages\n",
      "Newest image id is = [2020022100769]\n",
      "Working on focus position -0.04000000000000001\n",
      "Generating group_id\n",
      "ENGTEST 0001 - 0001\n",
      "Waiting for header service LFO before continuing\n",
      "Newest image id is = [2020022100770]\n",
      "Working on focus position -0.010000000000000009\n",
      "Generating group_id\n",
      "ENGTEST 0001 - 0001\n",
      "Waiting for header service LFO before continuing\n",
      "RemoteEvent(ATHeaderService, 0, logMessage) falling behind; read 17 messages\n",
      "Newest image id is = [2020022100771]\n",
      "Working on focus position 0.01999999999999999\n",
      "Generating group_id\n",
      "ENGTEST 0001 - 0001\n",
      "Waiting for header service LFO before continuing\n",
      "RemoteEvent(ATHeaderService, 0, logMessage) falling behind; read 13 messages\n",
      "Newest image id is = [2020022100772]\n"
     ]
    },
    {
     "data": {
      "text/plain": [
       "<lsst.ts.salobj.ddsutil.ATAOS_ackcmd_33d5c92b at 0x7fbe5e247c50>"
      ]
     },
     "execution_count": 115,
     "metadata": {},
     "output_type": "execute_result"
    },
    {
     "name": "stdout",
     "output_type": "stream",
     "text": [
      "RemoteEvent(ATHeaderService, 0, logMessage) falling behind; read 11 messages\n",
      "RemoteEvent(ATHeaderService, 0, logMessage) falling behind; read 15 messages\n",
      "RemoteEvent(ATHeaderService, 0, logMessage) falling behind; read 12 messages\n",
      "RemoteEvent(ATHeaderService, 0, logMessage) falling behind; read 10 messages\n",
      "RemoteEvent(ATHeaderService, 0, logMessage) falling behind; read 12 messages\n",
      "RemoteEvent(ATHeaderService, 0, logMessage) falling behind; read 10 messages\n",
      "RemoteEvent(ATHeaderService, 0, logMessage) falling behind; read 10 messages\n",
      "RemoteEvent(ATHeaderService, 0, logMessage) falling behind; read 13 messages\n",
      "RemoteEvent(ATHeaderService, 0, logMessage) falling behind; read 19 messages\n",
      "RemoteEvent(ATHeaderService, 0, logMessage) falling behind; read 10 messages\n",
      "RemoteEvent(ATHeaderService, 0, logMessage) falling behind; read 11 messages\n",
      "RemoteEvent(ATHeaderService, 0, logMessage) falling behind; read 14 messages\n",
      "RemoteEvent(ATHeaderService, 0, logMessage) falling behind; read 11 messages\n",
      "RemoteEvent(ATHeaderService, 0, logMessage) falling behind; read 12 messages\n",
      "RemoteEvent(ATHeaderService, 0, logMessage) falling behind; read 14 messages\n",
      "RemoteEvent(ATHeaderService, 0, logMessage) falling behind; read 12 messages\n",
      "RemoteEvent(ATHeaderService, 0, logMessage) falling behind; read 17 messages\n",
      "RemoteEvent(ATHeaderService, 0, logMessage) falling behind; read 16 messages\n"
     ]
    }
   ],
   "source": [
    "#!!!!DO NOT RUN UNLESS YOU HAVE BEEN CLEARED TO CONTROL TELESCOPE!!!!! \n",
    "focus_images = [0 for focus_pos in focus_positions]\n",
    "for i in range(len(focus_positions)): \n",
    "    focus_pos = focus_positions[i] \n",
    "    print ('Working on focus position ' + str(focus_pos))\n",
    "    attcs.athexapod.evt_positionUpdate.flush() \n",
    "    await attcs.ataos.cmd_applyFocusOffset.set_start(offset=focus_pos)\n",
    "    await attcs.athexapod.evt_positionUpdate.next(flush=False, timeout=attcs.long_timeout)\n",
    "    focus_image = await latiss.take_engtest(exptime=3.0, n=1, filter='empty_1', grating='ronchi90lpmm') \n",
    "    print ('Newest image id is = ' +str(focus_image) )\n",
    "    focus_images[i] = int(focus_image)\n",
    "    \n",
    "#This resets the focus position after taking this sequence: \n",
    "await attcs.ataos.cmd_applyFocusOffset.set_start(offset = focus_center)"
   ]
  },
  {
   "cell_type": "code",
   "execution_count": 116,
   "metadata": {},
   "outputs": [
    {
     "name": "stdout",
     "output_type": "stream",
     "text": [
      "Generating group_id\n",
      "BIAS 0001 - 0020\n",
      "Waiting for header service LFO before continuing\n",
      "RemoteEvent(ATHeaderService, 0, logMessage) falling behind; read 13 messages\n",
      "BIAS 0002 - 0020\n",
      "Waiting for header service LFO before continuing\n",
      "RemoteEvent(ATHeaderService, 0, logMessage) falling behind; read 11 messages\n",
      "BIAS 0003 - 0020\n",
      "Waiting for header service LFO before continuing\n",
      "RemoteEvent(ATHeaderService, 0, logMessage) falling behind; read 15 messages\n",
      "BIAS 0004 - 0020\n",
      "Waiting for header service LFO before continuing\n",
      "BIAS 0005 - 0020\n",
      "Waiting for header service LFO before continuing\n",
      "RemoteEvent(ATHeaderService, 0, logMessage) falling behind; read 11 messages\n",
      "BIAS 0006 - 0020\n",
      "Waiting for header service LFO before continuing\n",
      "RemoteEvent(ATHeaderService, 0, logMessage) falling behind; read 13 messages\n",
      "BIAS 0007 - 0020\n",
      "Waiting for header service LFO before continuing\n",
      "RemoteEvent(ATHeaderService, 0, logMessage) falling behind; read 11 messages\n",
      "BIAS 0008 - 0020\n",
      "Waiting for header service LFO before continuing\n",
      "RemoteEvent(ATHeaderService, 0, logMessage) falling behind; read 11 messages\n",
      "BIAS 0009 - 0020\n",
      "Waiting for header service LFO before continuing\n",
      "RemoteEvent(ATHeaderService, 0, logMessage) falling behind; read 12 messages\n",
      "BIAS 0010 - 0020\n",
      "Waiting for header service LFO before continuing\n",
      "RemoteEvent(ATHeaderService, 0, logMessage) falling behind; read 10 messages\n",
      "BIAS 0011 - 0020\n",
      "Waiting for header service LFO before continuing\n",
      "RemoteEvent(ATHeaderService, 0, logMessage) falling behind; read 15 messages\n",
      "BIAS 0012 - 0020\n",
      "Waiting for header service LFO before continuing\n",
      "RemoteEvent(ATHeaderService, 0, logMessage) falling behind; read 12 messages\n",
      "BIAS 0013 - 0020\n",
      "Waiting for header service LFO before continuing\n",
      "RemoteEvent(ATHeaderService, 0, logMessage) falling behind; read 13 messages\n",
      "BIAS 0014 - 0020\n",
      "Waiting for header service LFO before continuing\n",
      "RemoteEvent(ATHeaderService, 0, logMessage) falling behind; read 16 messages\n",
      "BIAS 0015 - 0020\n",
      "Waiting for header service LFO before continuing\n",
      "RemoteEvent(ATHeaderService, 0, logMessage) falling behind; read 14 messages\n",
      "BIAS 0016 - 0020\n",
      "Waiting for header service LFO before continuing\n",
      "RemoteEvent(ATHeaderService, 0, logMessage) falling behind; read 16 messages\n",
      "BIAS 0017 - 0020\n",
      "Waiting for header service LFO before continuing\n",
      "RemoteEvent(ATHeaderService, 0, logMessage) falling behind; read 10 messages\n",
      "BIAS 0018 - 0020\n",
      "Waiting for header service LFO before continuing\n",
      "RemoteEvent(ATHeaderService, 0, logMessage) falling behind; read 13 messages\n",
      "BIAS 0019 - 0020\n",
      "Waiting for header service LFO before continuing\n",
      "RemoteEvent(ATHeaderService, 0, logMessage) falling behind; read 12 messages\n",
      "BIAS 0020 - 0020\n",
      "Waiting for header service LFO before continuing\n",
      "RemoteEvent(ATHeaderService, 0, logMessage) falling behind; read 13 messages\n",
      "The bias data id(s) are: [2020022100790 2020022100791 2020022100792 2020022100793 2020022100794\n",
      " 2020022100795 2020022100796 2020022100797 2020022100798 2020022100799\n",
      " 2020022100800 2020022100801 2020022100802 2020022100803 2020022100804\n",
      " 2020022100805 2020022100806 2020022100807 2020022100808 2020022100809]\n"
     ]
    }
   ],
   "source": [
    "bias_data_id_list = await latiss.take_bias(nbias=20)\n",
    "print ('The bias data id(s) are: ' + str(bias_data_id_list)) "
   ]
  },
  {
   "cell_type": "code",
   "execution_count": 117,
   "metadata": {},
   "outputs": [
    {
     "name": "stdout",
     "output_type": "stream",
     "text": [
      "Disabling ATAOS corrections\n",
      "Disable ATDomeTrajectory\n",
      "Slew telescope to Park position.\n",
      "Sending command\n",
      "Stop tracking.\n",
      "Mount tracking state is 9\n",
      "Tracking state: 10.\n",
      "Tracking state: 8.\n",
      "In Position: True.\n",
      "In Position: False.\n",
      "Scheduling check coroutines\n",
      "process as completed...\n",
      "Got False\n",
      "Telescope not in position\n",
      "atmcs: <State.ENABLED: 2>\n",
      "atptg: <State.ENABLED: 2>\n",
      "ataos: <State.ENABLED: 2>\n",
      "atpneumatics: <State.ENABLED: 2>\n",
      "athexapod: <State.ENABLED: 2>\n",
      "[Telescope] delta Alt = +049.033 | delta Az= -176.864\n",
      "[Telescope] delta Alt = +046.208 | delta Az= -174.029\n",
      "[Telescope] delta Alt = +042.210 | delta Az= -170.034\n",
      "[Telescope] delta Alt = +038.212 | delta Az= -166.034\n",
      "[Telescope] delta Alt = +034.211 | delta Az= -162.034\n",
      "[Telescope] delta Alt = +030.212 | delta Az= -158.033\n",
      "[Telescope] delta Alt = +026.220 | delta Az= -154.034\n",
      "[Telescope] delta Alt = +022.274 | delta Az= -150.033\n",
      "[Telescope] delta Alt = +018.432 | delta Az= -146.033\n",
      "[Telescope] delta Alt = +014.773 | delta Az= -142.035\n",
      "[Telescope] delta Alt = +011.379 | delta Az= -138.034\n",
      "[Telescope] delta Alt = +008.342 | delta Az= -134.032\n",
      "[Telescope] delta Alt = +005.730 | delta Az= -130.033\n",
      "[Telescope] delta Alt = +003.610 | delta Az= -126.034\n",
      "[Telescope] delta Alt = +001.999 | delta Az= -122.033\n",
      "[Telescope] delta Alt = +000.906 | delta Az= -118.033\n",
      "[Telescope] delta Alt = +000.291 | delta Az= -114.033\n",
      "[Telescope] delta Alt = +000.037 | delta Az= -110.034\n",
      "[Telescope] delta Alt = -000.000 | delta Az= -106.034\n",
      "[Telescope] delta Alt = -000.000 | delta Az= -102.033\n",
      "[Telescope] delta Alt = -000.000 | delta Az= -098.033\n",
      "[Telescope] delta Alt = +000.000 | delta Az= -094.034\n",
      "[Telescope] delta Alt = +000.000 | delta Az= -090.033\n",
      "[Telescope] delta Alt = -000.000 | delta Az= -086.035\n",
      "[Telescope] delta Alt = +000.000 | delta Az= -082.033\n",
      "[Telescope] delta Alt = +000.000 | delta Az= -078.032\n",
      "[Telescope] delta Alt = +000.000 | delta Az= -074.034\n",
      "[Telescope] delta Alt = -000.000 | delta Az= -070.034\n",
      "[Telescope] delta Alt = -000.000 | delta Az= -066.033\n",
      "[Telescope] delta Alt = +000.000 | delta Az= -062.033\n",
      "[Telescope] delta Alt = +000.000 | delta Az= -058.033\n",
      "[Telescope] delta Alt = +000.000 | delta Az= -054.033\n",
      "[Telescope] delta Alt = -000.000 | delta Az= -050.033\n",
      "[Telescope] delta Alt = +000.000 | delta Az= -046.033\n",
      "[Telescope] delta Alt = +000.000 | delta Az= -042.033\n",
      "[Telescope] delta Alt = +000.000 | delta Az= -038.033\n",
      "[Telescope] delta Alt = +000.000 | delta Az= -034.033\n",
      "[Telescope] delta Alt = -000.000 | delta Az= -030.035\n",
      "[Telescope] delta Alt = +000.000 | delta Az= -026.044\n",
      "[Telescope] delta Alt = -000.000 | delta Az= -022.101\n",
      "[Telescope] delta Alt = -000.000 | delta Az= -018.269\n",
      "[Telescope] delta Alt = +000.000 | delta Az= -014.621\n",
      "[Telescope] delta Alt = +000.000 | delta Az= -011.244\n",
      "[Telescope] delta Alt = +000.000 | delta Az= -008.226\n",
      "[Telescope] delta Alt = +000.000 | delta Az= -005.637\n",
      "[Telescope] delta Alt = +000.000 | delta Az= -003.535\n",
      "[Telescope] delta Alt = +000.000 | delta Az= -001.950\n",
      "[Telescope] delta Alt = +000.000 | delta Az= -000.879\n",
      "[Telescope] delta Alt = +000.000 | delta Az= -000.274\n",
      "[Telescope] delta Alt = +000.000 | delta Az= -000.033\n",
      "[Telescope] delta Alt = +000.000 | delta Az= -000.000\n",
      "Axes in position.\n",
      "None\n",
      "Stop tracking.\n",
      "Mount tracking state is 9\n",
      "Tracking state: 10.\n",
      "Tracking state: 8.\n",
      "In Position: False.\n",
      "Cover state <MirrorCoverState.OPENED: 7>\n",
      "Closing M1 cover.\n",
      "Cover state <MirrorCoverState.OPENED: 7>\n",
      "Cover state <MirrorCoverState.INMOTION: 8>\n",
      "Cover state <MirrorCoverState.CLOSED: 6>\n",
      "Close dome.\n",
      "atdome: <State.ENABLED: 2>\n",
      "Got: private_revCode: f1592f29, private_sndStamp: 1582366067.0615916, private_rcvStamp: 1582366067.0628014, private_seqNum: 43, private_origin: 46, private_host: -1947882776, inPosition: False, priority: 0\n",
      "ATDome shutter not in position.\n",
      "Got: private_revCode: f1592f29, private_sndStamp: 1582366298.7183287, private_rcvStamp: 1582366298.7195811, private_seqNum: 44, private_origin: 46, private_host: -1947882776, inPosition: True, priority: 0\n",
      "ATDome shutter in position.\n",
      "Slew dome to Park position.\n",
      "atdometrajectory: <State.DISABLED: 1>\n",
      "[Dome] delta Az = +105.120\n",
      "[Dome] delta Az = +105.010\n",
      "[Dome] delta Az = +104.650\n",
      "[Dome] delta Az = +104.070\n",
      "[Dome] delta Az = +103.250\n",
      "[Dome] delta Az = +102.220\n",
      "[Dome] delta Az = +100.940\n",
      "[Dome] delta Az = +099.430\n",
      "[Dome] delta Az = +097.680\n",
      "[Dome] delta Az = +095.730\n",
      "[Dome] delta Az = +093.540\n",
      "[Dome] delta Az = +091.110\n",
      "[Dome] delta Az = +088.440\n",
      "[Dome] delta Az = +085.560\n",
      "[Dome] delta Az = +082.470\n",
      "[Dome] delta Az = +079.130\n",
      "[Dome] delta Az = +075.700\n",
      "[Dome] delta Az = +072.260\n",
      "[Dome] delta Az = +068.810\n",
      "[Dome] delta Az = +065.370\n",
      "[Dome] delta Az = +061.930\n",
      "[Dome] delta Az = +058.470\n",
      "[Dome] delta Az = +055.030\n",
      "[Dome] delta Az = +050.880\n",
      "[Dome] delta Az = +047.430\n",
      "[Dome] delta Az = +044.010\n",
      "[Dome] delta Az = +040.570\n",
      "[Dome] delta Az = +037.110\n",
      "[Dome] delta Az = +033.670\n",
      "[Dome] delta Az = +030.230\n",
      "[Dome] delta Az = +026.790\n",
      "[Dome] delta Az = +023.350\n",
      "[Dome] delta Az = +019.890\n",
      "[Dome] delta Az = +016.450\n",
      "[Dome] delta Az = +013.020\n",
      "[Dome] delta Az = +009.580\n",
      "[Dome] delta Az = +006.140\n",
      "[Dome] delta Az = +002.780\n",
      "ATDome in position.\n",
      "Put all CSCs in standby\n",
      "[atmcs]::[<State.ENABLED: 2>, <State.DISABLED: 1>, <State.STANDBY: 5>]\n",
      "[atptg]::[<State.ENABLED: 2>, <State.DISABLED: 1>, <State.STANDBY: 5>]\n",
      "[ataos]::[<State.ENABLED: 2>, <State.DISABLED: 1>, <State.STANDBY: 5>]\n",
      "[atpneumatics]::[<State.ENABLED: 2>, <State.DISABLED: 1>, <State.STANDBY: 5>]\n",
      "[athexapod]::[<State.ENABLED: 2>, <State.DISABLED: 1>, <State.STANDBY: 5>]\n",
      "[atdome]::[<State.ENABLED: 2>, <State.DISABLED: 1>, <State.STANDBY: 5>]\n",
      "[atdometrajectory]::[<State.DISABLED: 1>, <State.STANDBY: 5>]\n",
      "All components in standby.\n"
     ]
    }
   ],
   "source": [
    "await attcs.shutdown()"
   ]
  },
  {
   "cell_type": "code",
   "execution_count": null,
   "metadata": {},
   "outputs": [],
   "source": [
    "await latiss.take_object(exptime=90.0, n=1, filter='empty_1',grating='ronchi90lpmm')"
   ]
  },
  {
   "cell_type": "code",
   "execution_count": 131,
   "metadata": {},
   "outputs": [
    {
     "ename": "ModuleNotFoundError",
     "evalue": "No module named 'lsst.observing'",
     "output_type": "error",
     "traceback": [
      "\u001b[0;31m\u001b[0m",
      "\u001b[0;31mModuleNotFoundError\u001b[0mTraceback (most recent call last)",
      "\u001b[0;32m<ipython-input-131-b0785aec8dd8>\u001b[0m in \u001b[0;36m<module>\u001b[0;34m\u001b[0m\n\u001b[0;32m----> 1\u001b[0;31m \u001b[0;32mimport\u001b[0m \u001b[0mlsst\u001b[0m\u001b[0;34m.\u001b[0m\u001b[0mobserving\u001b[0m\u001b[0;34m.\u001b[0m\u001b[0mutils\u001b[0m\u001b[0;34m.\u001b[0m\u001b[0maudio\u001b[0m \u001b[0;32mas\u001b[0m \u001b[0maudio\u001b[0m\u001b[0;34m\u001b[0m\u001b[0;34m\u001b[0m\u001b[0m\n\u001b[0m\u001b[1;32m      2\u001b[0m \u001b[0maudio\u001b[0m\u001b[0;34m.\u001b[0m\u001b[0mplaySound\u001b[0m\u001b[0;34m(\u001b[0m\u001b[0;34m\"bell\"\u001b[0m\u001b[0;34m)\u001b[0m\u001b[0;34m\u001b[0m\u001b[0;34m\u001b[0m\u001b[0m\n",
      "\u001b[0;31mModuleNotFoundError\u001b[0m: No module named 'lsst.observing'"
     ]
    }
   ],
   "source": [
    "import lsst.observing.utils.audio as audio\n",
    "audio.playSound(\"bell\")"
   ]
  },
  {
   "cell_type": "code",
   "execution_count": null,
   "metadata": {},
   "outputs": [],
   "source": [
    "await attcs.slew_object(name = \"HD 39764\", pa_ang = 0.0, slew_timeout = 240.0)"
   ]
  },
  {
   "cell_type": "code",
   "execution_count": null,
   "metadata": {},
   "outputs": [],
   "source": [
    "best_focus_fit = -0.1\n",
    "import math \n",
    "#Focus units are given in mm \n",
    "focus_center = -0.1\n",
    "focus_step = 0.08\n",
    "n_steps = 9\n",
    "focus_positions = np.linspace(focus_center - focus_step * math.floor(n_steps / 2), focus_center + focus_step * math.ceil(n_steps / 2 - 1), n_steps)\n",
    "print ('focus_positions = ' + str(focus_positions))"
   ]
  },
  {
   "cell_type": "code",
   "execution_count": null,
   "metadata": {},
   "outputs": [],
   "source": [
    "#!!!!DO NOT RUN UNLESS YOU HAVE BEEN CLEARED TO CONTROL TELESCOPE!!!!! \n",
    "focus_images = [0 for focus_pos in focus_positions]\n",
    "for i in range(len(focus_positions)): \n",
    "    focus_pos = focus_positions[i] \n",
    "    print ('Working on focus position ' + str(focus_pos))\n",
    "    attcs.athexapod.evt_positionUpdate.flush() \n",
    "    await attcs.ataos.cmd_applyFocusOffset.set_start(offset=focus_pos)\n",
    "    await attcs.athexapod.evt_positionUpdate.next(flush=False, timeout=attcs.long_timeout)\n",
    "    focus_image = await latiss.take_engtest(exptime=10.0, n=1, filter='empty_1', grating='ronchi90lpmm') \n",
    "    print ('Newest image id is = ' +str(focus_image) )\n",
    "    focus_images[i] = int(focus_image)\n",
    "    \n",
    "#This resets the focus position after taking this sequence: \n",
    "await attcs.ataos.cmd_applyFocusOffset.set_start(offset = focus_center)"
   ]
  },
  {
   "cell_type": "code",
   "execution_count": null,
   "metadata": {},
   "outputs": [],
   "source": [
    "#Specify the filter and grating combination with which you want to take images. \n",
    "exp_scaling = 4.0 \n",
    "flat_data_id_list = await latiss.take_flats(exptime=0.25 * exp_scaling, nflats=2,\n",
    "                                            filter='empty_1',\n",
    "                                            grating='empty_4')\n",
    "print ('The flat data id(s) are: '+  str(flat_data_id_list)) "
   ]
  },
  {
   "cell_type": "code",
   "execution_count": null,
   "metadata": {},
   "outputs": [],
   "source": [
    "#Specify the filter and grating combination with which you want to take images. \n",
    "flat_data_id_list = await latiss.take_flats(exptime=0.25, nflats=2,\n",
    "                                            filter='empty_1',\n",
    "                                            grating='empty_1')\n",
    "print ('The flat data id(s) are: '+  str(flat_data_id_list))"
   ]
  },
  {
   "cell_type": "code",
   "execution_count": null,
   "metadata": {},
   "outputs": [],
   "source": []
  }
 ],
 "metadata": {
  "kernelspec": {
   "display_name": "Python 3",
   "language": "python",
   "name": "python3"
  },
  "language_info": {
   "codemirror_mode": {
    "name": "ipython",
    "version": 3
   },
   "file_extension": ".py",
   "mimetype": "text/x-python",
   "name": "python",
   "nbconvert_exporter": "python",
   "pygments_lexer": "ipython3",
   "version": "3.6.8"
  }
 },
 "nbformat": 4,
 "nbformat_minor": 4
}
