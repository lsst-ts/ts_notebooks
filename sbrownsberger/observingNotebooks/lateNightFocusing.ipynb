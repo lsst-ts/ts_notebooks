{
 "cells": [
  {
   "cell_type": "code",
   "execution_count": 2,
   "metadata": {},
   "outputs": [
    {
     "name": "stderr",
     "output_type": "stream",
     "text": [
      "RemoteTelemetry(ATPtg, 0, timeAndDate) falling behind; read 97 messages\n",
      "RemoteEvent(ATAOS, 0, heartbeat) falling behind; read 20 messages\n",
      "RemoteEvent(ATMCS, 0, target) falling behind; read 100 messages\n",
      "RemoteEvent(ATDomeTrajectory, 0, logMessage) falling behind; read 100 messages\n",
      "RemoteTelemetry(ATDome, 0, position) falling behind; read 97 messages\n",
      "RemoteEvent(ATHexapod, 0, heartbeat) falling behind; read 20 messages\n",
      "RemoteEvent(ATArchiver, 0, heartbeat) falling behind; read 20 messages\n",
      "RemoteEvent(ATHeaderService, 0, heartbeat) falling behind; read 20 messages\n",
      "RemoteEvent(ATSpectrograph, 0, heartbeat) falling behind; read 20 messages\n",
      "RemoteTelemetry(ATPneumatics, 0, loadCell) falling behind; read 19 messages\n",
      "RemoteTelemetry(ATHexapod, 0, positionStatus) falling behind; read 27 messages\n",
      "RemoteTelemetry(ATPneumatics, 0, mainAirSourcePressure) falling behind; read 27 messages\n",
      "RemoteTelemetry(ATMCS, 0, trajectory) falling behind; read 28 messages\n",
      "RemoteEvent(ATDome, 0, heartbeat) falling behind; read 27 messages\n",
      "RemoteEvent(ATDomeTrajectory, 0, heartbeat) falling behind; read 27 messages\n",
      "RemoteTelemetry(ATPneumatics, 0, m2AirPressure) falling behind; read 27 messages\n",
      "RemoteTelemetry(ATMCS, 0, torqueDemand) falling behind; read 28 messages\n",
      "RemoteEvent(ATDomeTrajectory, 0, logMessage) falling behind; read 100 messages\n",
      "RemoteTelemetry(ATDome, 0, position) falling behind; read 27 messages\n",
      "RemoteTelemetry(ATPtg, 0, timeAndDate) falling behind; read 18 messages\n"
     ]
    },
    {
     "data": {
      "text/plain": [
       "[[None, None, None, None, None, None, None], [None, None, None, None]]"
      ]
     },
     "execution_count": 2,
     "metadata": {},
     "output_type": "execute_result"
    },
    {
     "name": "stderr",
     "output_type": "stream",
     "text": [
      "RemoteEvent(ATAOS, 0, detailedState) falling behind; read 36 messages\n",
      "RemoteTelemetry(ATPneumatics, 0, m1AirPressure) falling behind; read 27 messages\n",
      "RemoteTelemetry(ATMCS, 0, nasymth_m3_mountMotorEncoders) falling behind; read 28 messages\n",
      "RemoteTelemetry(ATPtg, 0, mountStatus) falling behind; read 100 messages\n",
      "RemoteTelemetry(ATPtg, 0, mountStatus) falling behind; read 20 messages\n",
      "RemoteTelemetry(ATMCS, 0, mount_Nasmyth_Encoders) falling behind; read 28 messages\n",
      "RemoteTelemetry(ATPtg, 0, guidingAndOffsets) falling behind; read 100 messages\n",
      "RemoteTelemetry(ATPtg, 0, guidingAndOffsets) falling behind; read 21 messages\n",
      "RemoteEvent(ATPneumatics, 0, heartbeat) falling behind; read 28 messages\n",
      "RemoteTelemetry(ATMCS, 0, mount_AzEl_Encoders) falling behind; read 29 messages\n",
      "RemoteTelemetry(ATMCS, 0, measuredTorque) falling behind; read 29 messages\n",
      "RemoteTelemetry(ATPtg, 0, currentTargetStatus) falling behind; read 100 messages\n",
      "RemoteTelemetry(ATPtg, 0, currentTargetStatus) falling behind; read 24 messages\n",
      "RemoteTelemetry(ATMCS, 0, measuredMotorVelocity) falling behind; read 29 messages\n",
      "RemoteTelemetry(ATMCS, 0, azEl_mountMotorEncoders) falling behind; read 29 messages\n",
      "RemoteEvent(ATPtg, 0, mountDataWarning) falling behind; read 24 messages\n",
      "RemoteEvent(ATMCS, 0, target) falling behind; read 57 messages\n",
      "RemoteEvent(ATMCS, 0, heartbeat) falling behind; read 29 messages\n"
     ]
    }
   ],
   "source": [
    "#Do the basic imports for general AuxTel operations\n",
    "import asyncio\n",
    "from lsst.ts import salobj\n",
    "from lsst.ts.standardscripts.auxtel.attcs import ATTCS\n",
    "from lsst.ts.standardscripts.auxtel.latiss import LATISS\n",
    "\n",
    "#And the imports needed specifically for focusing\n",
    "#import numpy as np \n",
    "import matplotlib.pyplot as plt \n",
    "import time \n",
    "import numpy as np \n",
    "import math \n",
    "import scipy.optimize as optimize\n",
    "%matplotlib inline \n",
    "\n",
    "domain = salobj.Domain()\n",
    "attcs = ATTCS(domain)\n",
    "latiss = LATISS(domain)\n",
    "await asyncio.gather(attcs.start_task, latiss.start_task)"
   ]
  },
  {
   "cell_type": "code",
   "execution_count": 2,
   "metadata": {},
   "outputs": [
    {
     "name": "stderr",
     "output_type": "stream",
     "text": [
      "RemoteTelemetry(ATDome, 0, position) falling behind; read 35 messages\n",
      "RemoteEvent(ATMCS, 0, target) falling behind; read 89 messages\n"
     ]
    }
   ],
   "source": [
    "await attcs.slew_object(name = \"HD 90994\",  rot_sky=0.0, slew_timeout=240.)"
   ]
  },
  {
   "cell_type": "code",
   "execution_count": 3,
   "metadata": {},
   "outputs": [
    {
     "name": "stderr",
     "output_type": "stream",
     "text": [
      "RemoteEvent(ATHeaderService, 0, logMessage) falling behind; read 11 messages\n"
     ]
    },
    {
     "data": {
      "text/plain": [
       "array([2020021800251])"
      ]
     },
     "execution_count": 3,
     "metadata": {},
     "output_type": "execute_result"
    }
   ],
   "source": [
    "await latiss.take_object(exptime=5., n=1, filter='empty_3',grating='ronchi90lpmm')"
   ]
  },
  {
   "cell_type": "code",
   "execution_count": 4,
   "metadata": {},
   "outputs": [],
   "source": [
    "await attcs.offset_xy(x= -45, y= -111)"
   ]
  },
  {
   "cell_type": "code",
   "execution_count": 5,
   "metadata": {},
   "outputs": [
    {
     "name": "stderr",
     "output_type": "stream",
     "text": [
      "RemoteEvent(ATHeaderService, 0, logMessage) falling behind; read 10 messages\n",
      "RemoteEvent(ATHeaderService, 0, logMessage) falling behind; read 11 messages\n",
      "RemoteEvent(ATHeaderService, 0, logMessage) falling behind; read 24 messages\n"
     ]
    },
    {
     "data": {
      "text/plain": [
       "array([2020021800252, 2020021800253, 2020021800254, 2020021800255,\n",
       "       2020021800256, 2020021800257, 2020021800258, 2020021800259,\n",
       "       2020021800260, 2020021800261])"
      ]
     },
     "execution_count": 5,
     "metadata": {},
     "output_type": "execute_result"
    }
   ],
   "source": [
    "await latiss.take_object(exptime=5., n=10, filter='empty_3',grating='ronchi90lpmm')"
   ]
  },
  {
   "cell_type": "code",
   "execution_count": 9,
   "metadata": {},
   "outputs": [
    {
     "name": "stdout",
     "output_type": "stream",
     "text": [
      "focus_positions = [-0.2955 -0.2755 -0.2555 -0.2355 -0.2155 -0.1955 -0.1755 -0.1555 -0.1355]\n"
     ]
    }
   ],
   "source": [
    "#Focus units are given in mm \n",
    "focus_center = -0.2155\n",
    "focus_step = 0.02\n",
    "n_steps = 9\n",
    "focus_positions = np.linspace(focus_center - focus_step * math.floor(n_steps / 2), focus_center + focus_step * math.ceil(n_steps / 2 - 1), n_steps)\n",
    "#focus_positions = [0.05, -0.05, -0.100, -0.150, -0.200, -0.250, -0.300, -0.3, -0.2, -0.2, -0.24, -0.26, -0.28]\n",
    "print ('focus_positions = ' + str(focus_positions))"
   ]
  },
  {
   "cell_type": "code",
   "execution_count": 7,
   "metadata": {},
   "outputs": [
    {
     "name": "stderr",
     "output_type": "stream",
     "text": [
      "RemoteEvent(ATMCS, 0, target) falling behind; read 11 messages\n",
      "RemoteEvent(ATDomeTrajectory, 0, logMessage) falling behind; read 11 messages\n"
     ]
    }
   ],
   "source": [
    "await attcs.slew_object(name = \"HD 109978\",  rot_sky=0.0, slew_timeout=240.)"
   ]
  },
  {
   "cell_type": "code",
   "execution_count": 8,
   "metadata": {},
   "outputs": [
    {
     "name": "stderr",
     "output_type": "stream",
     "text": [
      "RemoteEvent(ATHeaderService, 0, logMessage) falling behind; read 11 messages\n"
     ]
    },
    {
     "data": {
      "text/plain": [
       "array([2020021800262])"
      ]
     },
     "execution_count": 8,
     "metadata": {},
     "output_type": "execute_result"
    }
   ],
   "source": [
    "await latiss.take_object(exptime=20., n=1, filter='empty_3',grating='ronchi90lpmm')"
   ]
  },
  {
   "cell_type": "code",
   "execution_count": 9,
   "metadata": {},
   "outputs": [],
   "source": [
    "await attcs.offset_xy(x= -50, y= +43)"
   ]
  },
  {
   "cell_type": "code",
   "execution_count": null,
   "metadata": {},
   "outputs": [],
   "source": [
    "await latiss.take_object(exptime=20., n=10, filter='empty_3',grating='ronchi90lpmm')"
   ]
  },
  {
   "cell_type": "code",
   "execution_count": 10,
   "metadata": {},
   "outputs": [
    {
     "name": "stdout",
     "output_type": "stream",
     "text": [
      "Working on focus position -0.2955\n"
     ]
    },
    {
     "name": "stderr",
     "output_type": "stream",
     "text": [
      "RemoteEvent(ATHeaderService, 0, logMessage) falling behind; read 13 messages\n"
     ]
    },
    {
     "name": "stdout",
     "output_type": "stream",
     "text": [
      "Newest image id is = [2020021800263]\n",
      "Working on focus position -0.27549999999999997\n",
      "Newest image id is = [2020021800264]\n",
      "Working on focus position -0.2555\n",
      "Newest image id is = [2020021800265]\n",
      "Working on focus position -0.2355\n"
     ]
    },
    {
     "name": "stderr",
     "output_type": "stream",
     "text": [
      "RemoteEvent(ATHeaderService, 0, logMessage) falling behind; read 20 messages\n"
     ]
    },
    {
     "name": "stdout",
     "output_type": "stream",
     "text": [
      "Newest image id is = [2020021800266]\n",
      "Working on focus position -0.2155\n",
      "Newest image id is = [2020021800267]\n",
      "Working on focus position -0.1955\n",
      "Newest image id is = [2020021800268]\n",
      "Working on focus position -0.1755\n"
     ]
    },
    {
     "name": "stderr",
     "output_type": "stream",
     "text": [
      "RemoteEvent(ATHeaderService, 0, logMessage) falling behind; read 11 messages\n"
     ]
    },
    {
     "name": "stdout",
     "output_type": "stream",
     "text": [
      "Newest image id is = [2020021800269]\n",
      "Working on focus position -0.1555\n"
     ]
    },
    {
     "name": "stderr",
     "output_type": "stream",
     "text": [
      "RemoteEvent(ATHeaderService, 0, logMessage) falling behind; read 12 messages\n"
     ]
    },
    {
     "name": "stdout",
     "output_type": "stream",
     "text": [
      "Newest image id is = [2020021800270]\n",
      "Working on focus position -0.1355\n"
     ]
    },
    {
     "name": "stderr",
     "output_type": "stream",
     "text": [
      "RemoteEvent(ATDomeTrajectory, 0, logMessage) falling behind; read 17 messages\n",
      "RemoteEvent(ATMCS, 0, target) falling behind; read 18 messages\n",
      "RemoteTelemetry(ATDome, 0, position) falling behind; read 11 messages\n",
      "RemoteTelemetry(ATPtg, 0, currentTargetStatus) falling behind; read 11 messages\n",
      "RemoteEvent(ATDomeTrajectory, 0, logMessage) falling behind; read 39 messages\n",
      "RemoteTelemetry(ATPtg, 0, timeAndDate) falling behind; read 11 messages\n",
      "RemoteTelemetry(ATPtg, 0, mountStatus) falling behind; read 12 messages\n",
      "RemoteTelemetry(ATPtg, 0, guidingAndOffsets) falling behind; read 12 messages\n"
     ]
    },
    {
     "name": "stdout",
     "output_type": "stream",
     "text": [
      "Newest image id is = [2020021800271]\n"
     ]
    },
    {
     "name": "stderr",
     "output_type": "stream",
     "text": [
      "RemoteEvent(ATMCS, 0, target) falling behind; read 47 messages\n"
     ]
    },
    {
     "data": {
      "text/plain": [
       "<lsst.ts.salobj.ddsutil.ATAOS_ackcmd_33d5c92b at 0x7f4fe94e3a90>"
      ]
     },
     "execution_count": 10,
     "metadata": {},
     "output_type": "execute_result"
    }
   ],
   "source": [
    "science_images = [0 for focus_pos in focus_positions]\n",
    "for i in range(len(focus_positions)): \n",
    "    focus_pos = focus_positions[i] \n",
    "    print ('Working on focus position ' + str(focus_pos))\n",
    "    attcs.athexapod.evt_positionUpdate.flush() \n",
    "    await attcs.ataos.cmd_applyFocusOffset.set_start(offset=focus_pos)\n",
    "    await attcs.athexapod.evt_positionUpdate.next(flush=False, timeout=attcs.long_timeout)\n",
    "    science_image = await latiss.take_engtest(exptime=5., n=1, filter='empty_3', grating='ronchi90lpmm') \n",
    "    print ('Newest image id is = ' +str(science_image) )\n",
    "    science_images[i] = int(science_image)\n",
    "#This should reset the focus position after taking this sequence: \n",
    "await attcs.ataos.cmd_applyFocusOffset.set_start(offset = focus_center)"
   ]
  },
  {
   "cell_type": "code",
   "execution_count": 11,
   "metadata": {},
   "outputs": [
    {
     "name": "stdout",
     "output_type": "stream",
     "text": [
      "science_images = [2020021800263, 2020021800264, 2020021800265, 2020021800266, 2020021800267, 2020021800268, 2020021800269, 2020021800270, 2020021800271]\n"
     ]
    },
    {
     "name": "stderr",
     "output_type": "stream",
     "text": [
      "RemoteEvent(ATMCS, 0, target) falling behind; read 80 messages\n",
      "RemoteEvent(ATDomeTrajectory, 0, logMessage) falling behind; read 19 messages\n",
      "RemoteEvent(ATDomeTrajectory, 0, logMessage) falling behind; read 19 messages\n"
     ]
    }
   ],
   "source": [
    "print ('science_images = ' + str(science_images))"
   ]
  },
  {
   "cell_type": "code",
   "execution_count": 12,
   "metadata": {},
   "outputs": [
    {
     "name": "stderr",
     "output_type": "stream",
     "text": [
      "RemoteEvent(ATMCS, 0, target) falling behind; read 19 messages\n",
      "RemoteEvent(ATDomeTrajectory, 0, logMessage) falling behind; read 19 messages\n"
     ]
    },
    {
     "ename": "TimeoutError",
     "evalue": "",
     "output_type": "error",
     "traceback": [
      "\u001b[0;31m\u001b[0m",
      "\u001b[0;31mTimeoutError\u001b[0mTraceback (most recent call last)",
      "\u001b[0;32m<ipython-input-12-dea25728507d>\u001b[0m in \u001b[0;36masync-def-wrapper\u001b[0;34m()\u001b[0m\n",
      "\u001b[0;32m~/repos/ts_standardscripts/python/lsst/ts/standardscripts/auxtel/attcs.py\u001b[0m in \u001b[0;36mslew_object\u001b[0;34m(self, name, rot_sky, rot_pa, slew_timeout, track_id)\u001b[0m\n\u001b[1;32m    202\u001b[0m                         \u001b[0mrot_mode\u001b[0m\u001b[0;34m=\u001b[0m\u001b[0mATPtg\u001b[0m\u001b[0;34m.\u001b[0m\u001b[0mRotMode\u001b[0m\u001b[0;34m.\u001b[0m\u001b[0mFIELD\u001b[0m\u001b[0;34m,\u001b[0m\u001b[0;34m\u001b[0m\u001b[0;34m\u001b[0m\u001b[0m\n\u001b[1;32m    203\u001b[0m                         \u001b[0mslew_timeout\u001b[0m\u001b[0;34m=\u001b[0m\u001b[0mslew_timeout\u001b[0m\u001b[0;34m,\u001b[0m\u001b[0;34m\u001b[0m\u001b[0;34m\u001b[0m\u001b[0m\n\u001b[0;32m--> 204\u001b[0;31m                         track_id=track_id)\n\u001b[0m\u001b[1;32m    205\u001b[0m \u001b[0;34m\u001b[0m\u001b[0m\n\u001b[1;32m    206\u001b[0m     async def slew_icrs(self, ra, dec, rot_sky=None, rot_pa=0.,\n",
      "\u001b[0;32m~/repos/ts_standardscripts/python/lsst/ts/standardscripts/auxtel/attcs.py\u001b[0m in \u001b[0;36mslew\u001b[0;34m(self, ra, dec, rotPA, target_name, target_instance, frame, epoch, equinox, parallax, pmRA, pmDec, rv, dRA, dDec, rot_frame, rot_mode, slew_timeout, track_id)\u001b[0m\n\u001b[1;32m    306\u001b[0m \u001b[0;34m\u001b[0m\u001b[0m\n\u001b[1;32m    307\u001b[0m         await self._slew_to(self.atptg.cmd_raDecTarget,\n\u001b[0;32m--> 308\u001b[0;31m                             slew_timeout=slew_timeout)\n\u001b[0m\u001b[1;32m    309\u001b[0m \u001b[0;34m\u001b[0m\u001b[0m\n\u001b[1;32m    310\u001b[0m     async def slew_to_planet(self, planet,\n",
      "\u001b[0;32m~/repos/ts_standardscripts/python/lsst/ts/standardscripts/auxtel/attcs.py\u001b[0m in \u001b[0;36m_slew_to\u001b[0;34m(self, slew_cmd, slew_timeout)\u001b[0m\n\u001b[1;32m    802\u001b[0m         \u001b[0;32mfor\u001b[0m \u001b[0mres\u001b[0m \u001b[0;32min\u001b[0m \u001b[0masyncio\u001b[0m\u001b[0;34m.\u001b[0m\u001b[0mas_completed\u001b[0m\u001b[0;34m(\u001b[0m\u001b[0mcoro_list\u001b[0m\u001b[0;34m)\u001b[0m\u001b[0;34m:\u001b[0m\u001b[0;34m\u001b[0m\u001b[0;34m\u001b[0m\u001b[0m\n\u001b[1;32m    803\u001b[0m             \u001b[0;32mtry\u001b[0m\u001b[0;34m:\u001b[0m\u001b[0;34m\u001b[0m\u001b[0;34m\u001b[0m\u001b[0m\n\u001b[0;32m--> 804\u001b[0;31m                 \u001b[0mret_val\u001b[0m \u001b[0;34m=\u001b[0m \u001b[0;32mawait\u001b[0m \u001b[0mres\u001b[0m\u001b[0;34m\u001b[0m\u001b[0;34m\u001b[0m\u001b[0m\n\u001b[0m\u001b[1;32m    805\u001b[0m                 \u001b[0mself\u001b[0m\u001b[0;34m.\u001b[0m\u001b[0mlog\u001b[0m\u001b[0;34m.\u001b[0m\u001b[0mdebug\u001b[0m\u001b[0;34m(\u001b[0m\u001b[0mret_val\u001b[0m\u001b[0;34m)\u001b[0m\u001b[0;34m\u001b[0m\u001b[0;34m\u001b[0m\u001b[0m\n\u001b[1;32m    806\u001b[0m             \u001b[0;32mexcept\u001b[0m \u001b[0mRuntimeError\u001b[0m \u001b[0;32mas\u001b[0m \u001b[0mrte\u001b[0m\u001b[0;34m:\u001b[0m\u001b[0;34m\u001b[0m\u001b[0;34m\u001b[0m\u001b[0m\n",
      "\u001b[0;32m/opt/lsst/software/stack/python/miniconda3-4.7.10/envs/lsst-scipipe-4d7b902/lib/python3.7/asyncio/tasks.py\u001b[0m in \u001b[0;36m_wait_for_one\u001b[0;34m()\u001b[0m\n\u001b[1;32m    531\u001b[0m             \u001b[0;31m# Dummy value from _on_timeout().\u001b[0m\u001b[0;34m\u001b[0m\u001b[0;34m\u001b[0m\u001b[0;34m\u001b[0m\u001b[0m\n\u001b[1;32m    532\u001b[0m             \u001b[0;32mraise\u001b[0m \u001b[0mfutures\u001b[0m\u001b[0;34m.\u001b[0m\u001b[0mTimeoutError\u001b[0m\u001b[0;34m\u001b[0m\u001b[0;34m\u001b[0m\u001b[0m\n\u001b[0;32m--> 533\u001b[0;31m         \u001b[0;32mreturn\u001b[0m \u001b[0mf\u001b[0m\u001b[0;34m.\u001b[0m\u001b[0mresult\u001b[0m\u001b[0;34m(\u001b[0m\u001b[0;34m)\u001b[0m  \u001b[0;31m# May raise f.exception().\u001b[0m\u001b[0;34m\u001b[0m\u001b[0;34m\u001b[0m\u001b[0m\n\u001b[0m\u001b[1;32m    534\u001b[0m \u001b[0;34m\u001b[0m\u001b[0m\n\u001b[1;32m    535\u001b[0m     \u001b[0;32mfor\u001b[0m \u001b[0mf\u001b[0m \u001b[0;32min\u001b[0m \u001b[0mtodo\u001b[0m\u001b[0;34m:\u001b[0m\u001b[0;34m\u001b[0m\u001b[0;34m\u001b[0m\u001b[0m\n",
      "\u001b[0;32m~/repos/ts_standardscripts/python/lsst/ts/standardscripts/auxtel/attcs.py\u001b[0m in \u001b[0;36mmonitor_position\u001b[0;34m(self, check_atmcs, check_atdome)\u001b[0m\n\u001b[1;32m   1039\u001b[0m             \u001b[0;32mif\u001b[0m \u001b[0matmcs\u001b[0m\u001b[0;34m:\u001b[0m\u001b[0;34m\u001b[0m\u001b[0;34m\u001b[0m\u001b[0m\n\u001b[1;32m   1040\u001b[0m                 comm_pos = await self.atmcs.evt_target.next(flush=True,\n\u001b[0;32m-> 1041\u001b[0;31m                                                             timeout=self.fast_timeout)\n\u001b[0m\u001b[1;32m   1042\u001b[0m                 tel_pos = await self.atmcs.tel_mount_AzEl_Encoders.next(flush=True,\n\u001b[1;32m   1043\u001b[0m                                                                         timeout=self.fast_timeout)\n",
      "\u001b[0;32m~/repos/ts_salobj/python/lsst/ts/salobj/topics/read_topic.py\u001b[0m in \u001b[0;36mnext\u001b[0;34m(self, flush, timeout)\u001b[0m\n\u001b[1;32m    382\u001b[0m         \u001b[0;32mif\u001b[0m \u001b[0mflush\u001b[0m\u001b[0;34m:\u001b[0m\u001b[0;34m\u001b[0m\u001b[0;34m\u001b[0m\u001b[0m\n\u001b[1;32m    383\u001b[0m             \u001b[0mself\u001b[0m\u001b[0;34m.\u001b[0m\u001b[0mflush\u001b[0m\u001b[0;34m(\u001b[0m\u001b[0;34m)\u001b[0m\u001b[0;34m\u001b[0m\u001b[0;34m\u001b[0m\u001b[0m\n\u001b[0;32m--> 384\u001b[0;31m         \u001b[0;32mreturn\u001b[0m \u001b[0;32mawait\u001b[0m \u001b[0mself\u001b[0m\u001b[0;34m.\u001b[0m\u001b[0m_next\u001b[0m\u001b[0;34m(\u001b[0m\u001b[0mtimeout\u001b[0m\u001b[0;34m=\u001b[0m\u001b[0mtimeout\u001b[0m\u001b[0;34m)\u001b[0m\u001b[0;34m\u001b[0m\u001b[0;34m\u001b[0m\u001b[0m\n\u001b[0m\u001b[1;32m    385\u001b[0m \u001b[0;34m\u001b[0m\u001b[0m\n\u001b[1;32m    386\u001b[0m     \u001b[0;32masync\u001b[0m \u001b[0;32mdef\u001b[0m \u001b[0m_next\u001b[0m\u001b[0;34m(\u001b[0m\u001b[0mself\u001b[0m\u001b[0;34m,\u001b[0m \u001b[0;34m*\u001b[0m\u001b[0;34m,\u001b[0m \u001b[0mtimeout\u001b[0m\u001b[0;34m=\u001b[0m\u001b[0;32mNone\u001b[0m\u001b[0;34m)\u001b[0m\u001b[0;34m:\u001b[0m\u001b[0;34m\u001b[0m\u001b[0;34m\u001b[0m\u001b[0m\n",
      "\u001b[0;32m~/repos/ts_salobj/python/lsst/ts/salobj/topics/read_topic.py\u001b[0m in \u001b[0;36m_next\u001b[0;34m(self, timeout)\u001b[0m\n\u001b[1;32m    395\u001b[0m         \u001b[0;32mif\u001b[0m \u001b[0mself\u001b[0m\u001b[0;34m.\u001b[0m\u001b[0m_next_task\u001b[0m\u001b[0;34m.\u001b[0m\u001b[0mdone\u001b[0m\u001b[0;34m(\u001b[0m\u001b[0;34m)\u001b[0m\u001b[0;34m:\u001b[0m\u001b[0;34m\u001b[0m\u001b[0;34m\u001b[0m\u001b[0m\n\u001b[1;32m    396\u001b[0m             \u001b[0mself\u001b[0m\u001b[0;34m.\u001b[0m\u001b[0m_next_task\u001b[0m \u001b[0;34m=\u001b[0m \u001b[0masyncio\u001b[0m\u001b[0;34m.\u001b[0m\u001b[0mFuture\u001b[0m\u001b[0;34m(\u001b[0m\u001b[0;34m)\u001b[0m\u001b[0;34m\u001b[0m\u001b[0;34m\u001b[0m\u001b[0m\n\u001b[0;32m--> 397\u001b[0;31m         \u001b[0;32mawait\u001b[0m \u001b[0masyncio\u001b[0m\u001b[0;34m.\u001b[0m\u001b[0mwait_for\u001b[0m\u001b[0;34m(\u001b[0m\u001b[0mself\u001b[0m\u001b[0;34m.\u001b[0m\u001b[0m_next_task\u001b[0m\u001b[0;34m,\u001b[0m \u001b[0mtimeout\u001b[0m\u001b[0;34m=\u001b[0m\u001b[0mtimeout\u001b[0m\u001b[0;34m)\u001b[0m\u001b[0;34m\u001b[0m\u001b[0;34m\u001b[0m\u001b[0m\n\u001b[0m\u001b[1;32m    398\u001b[0m         \u001b[0;32mreturn\u001b[0m \u001b[0mself\u001b[0m\u001b[0;34m.\u001b[0m\u001b[0m_data_queue\u001b[0m\u001b[0;34m.\u001b[0m\u001b[0mpopleft\u001b[0m\u001b[0;34m(\u001b[0m\u001b[0;34m)\u001b[0m\u001b[0;34m\u001b[0m\u001b[0;34m\u001b[0m\u001b[0m\n\u001b[1;32m    399\u001b[0m \u001b[0;34m\u001b[0m\u001b[0m\n",
      "\u001b[0;32m/opt/lsst/software/stack/python/miniconda3-4.7.10/envs/lsst-scipipe-4d7b902/lib/python3.7/asyncio/tasks.py\u001b[0m in \u001b[0;36mwait_for\u001b[0;34m(fut, timeout, loop)\u001b[0m\n\u001b[1;32m    421\u001b[0m             \u001b[0;31m# See https://bugs.python.org/issue32751\u001b[0m\u001b[0;34m\u001b[0m\u001b[0;34m\u001b[0m\u001b[0;34m\u001b[0m\u001b[0m\n\u001b[1;32m    422\u001b[0m             \u001b[0;32mawait\u001b[0m \u001b[0m_cancel_and_wait\u001b[0m\u001b[0;34m(\u001b[0m\u001b[0mfut\u001b[0m\u001b[0;34m,\u001b[0m \u001b[0mloop\u001b[0m\u001b[0;34m=\u001b[0m\u001b[0mloop\u001b[0m\u001b[0;34m)\u001b[0m\u001b[0;34m\u001b[0m\u001b[0;34m\u001b[0m\u001b[0m\n\u001b[0;32m--> 423\u001b[0;31m             \u001b[0;32mraise\u001b[0m \u001b[0mfutures\u001b[0m\u001b[0;34m.\u001b[0m\u001b[0mTimeoutError\u001b[0m\u001b[0;34m(\u001b[0m\u001b[0;34m)\u001b[0m\u001b[0;34m\u001b[0m\u001b[0;34m\u001b[0m\u001b[0m\n\u001b[0m\u001b[1;32m    424\u001b[0m     \u001b[0;32mfinally\u001b[0m\u001b[0;34m:\u001b[0m\u001b[0;34m\u001b[0m\u001b[0;34m\u001b[0m\u001b[0m\n\u001b[1;32m    425\u001b[0m         \u001b[0mtimeout_handle\u001b[0m\u001b[0;34m.\u001b[0m\u001b[0mcancel\u001b[0m\u001b[0;34m(\u001b[0m\u001b[0;34m)\u001b[0m\u001b[0;34m\u001b[0m\u001b[0;34m\u001b[0m\u001b[0m\n",
      "\u001b[0;31mTimeoutError\u001b[0m: "
     ]
    },
    {
     "name": "stderr",
     "output_type": "stream",
     "text": [
      "RemoteEvent(ATMCS, 0, target) falling behind; read 12 messages\n",
      "RemoteEvent(ATDomeTrajectory, 0, logMessage) falling behind; read 41 messages\n",
      "RemoteEvent(ATMCS, 0, target) falling behind; read 20 messages\n",
      "RemoteEvent(ATDomeTrajectory, 0, logMessage) falling behind; read 10 messages\n"
     ]
    }
   ],
   "source": [
    "await attcs.slew_object(name = \"HD 112618\",  rot_sky=0.0, slew_timeout=240.)"
   ]
  },
  {
   "cell_type": "code",
   "execution_count": 4,
   "metadata": {},
   "outputs": [],
   "source": [
    "await attcs.slew_object(name = \"HD 107899\",  rot_sky=0.0, slew_timeout=240.)"
   ]
  },
  {
   "cell_type": "code",
   "execution_count": 5,
   "metadata": {},
   "outputs": [
    {
     "name": "stderr",
     "output_type": "stream",
     "text": [
      "RemoteEvent(ATHeaderService, 0, logMessage) falling behind; read 12 messages\n",
      "RemoteEvent(ATHeaderService, 0, logMessage) falling behind; read 23 messages\n",
      "RemoteEvent(ATHeaderService, 0, logMessage) falling behind; read 11 messages\n",
      "RemoteEvent(ATHeaderService, 0, logMessage) falling behind; read 18 messages\n",
      "RemoteEvent(ATHeaderService, 0, logMessage) falling behind; read 34 messages\n",
      "RemoteEvent(ATHeaderService, 0, logMessage) falling behind; read 11 messages\n",
      "RemoteEvent(ATHeaderService, 0, logMessage) falling behind; read 15 messages\n",
      "RemoteEvent(ATHeaderService, 0, logMessage) falling behind; read 51 messages\n",
      "RemoteEvent(ATHeaderService, 0, logMessage) falling behind; read 18 messages\n",
      "RemoteEvent(ATHeaderService, 0, logMessage) falling behind; read 36 messages\n",
      "RemoteEvent(ATHeaderService, 0, logMessage) falling behind; read 18 messages\n",
      "RemoteEvent(ATHeaderService, 0, logMessage) falling behind; read 31 messages\n"
     ]
    },
    {
     "name": "stdout",
     "output_type": "stream",
     "text": [
      "The bias data id(s) are: [2020021800272 2020021800273 2020021800274 2020021800275 2020021800276\n",
      " 2020021800277 2020021800278 2020021800279 2020021800280 2020021800281]\n"
     ]
    }
   ],
   "source": [
    "bias_data_id_list = await latiss.take_bias(nbias=10)\n",
    "print ('The bias data id(s) are: ' + str(bias_data_id_list)) "
   ]
  },
  {
   "cell_type": "code",
   "execution_count": 6,
   "metadata": {},
   "outputs": [
    {
     "name": "stderr",
     "output_type": "stream",
     "text": [
      "RemoteEvent(ATHeaderService, 0, logMessage) falling behind; read 10 messages\n"
     ]
    },
    {
     "data": {
      "text/plain": [
       "array([2020021800282])"
      ]
     },
     "execution_count": 6,
     "metadata": {},
     "output_type": "execute_result"
    }
   ],
   "source": [
    "await latiss.take_object(exptime=20., n=1, filter='empty_3',grating='ronchi90lpmm')"
   ]
  },
  {
   "cell_type": "code",
   "execution_count": 7,
   "metadata": {},
   "outputs": [],
   "source": [
    "await attcs.offset_xy(x= -19, y= +2)"
   ]
  },
  {
   "cell_type": "code",
   "execution_count": 10,
   "metadata": {},
   "outputs": [
    {
     "name": "stdout",
     "output_type": "stream",
     "text": [
      "Working on focus position -0.2955\n"
     ]
    },
    {
     "name": "stderr",
     "output_type": "stream",
     "text": [
      "RemoteEvent(ATHeaderService, 0, logMessage) falling behind; read 21 messages\n",
      "RemoteEvent(ATHeaderService, 0, logMessage) falling behind; read 10 messages\n"
     ]
    },
    {
     "name": "stdout",
     "output_type": "stream",
     "text": [
      "Newest image id is = [2020021800283]\n",
      "Working on focus position -0.27549999999999997\n",
      "Newest image id is = [2020021800284]\n",
      "Working on focus position -0.2555\n",
      "Newest image id is = [2020021800285]\n",
      "Working on focus position -0.2355\n"
     ]
    },
    {
     "name": "stderr",
     "output_type": "stream",
     "text": [
      "RemoteEvent(ATHeaderService, 0, logMessage) falling behind; read 12 messages\n"
     ]
    },
    {
     "name": "stdout",
     "output_type": "stream",
     "text": [
      "Newest image id is = [2020021800286]\n",
      "Working on focus position -0.2155\n"
     ]
    },
    {
     "name": "stderr",
     "output_type": "stream",
     "text": [
      "RemoteEvent(ATHeaderService, 0, logMessage) falling behind; read 12 messages\n",
      "RemoteEvent(ATHeaderService, 0, logMessage) falling behind; read 18 messages\n"
     ]
    },
    {
     "name": "stdout",
     "output_type": "stream",
     "text": [
      "Newest image id is = [2020021800287]\n",
      "Working on focus position -0.1955\n"
     ]
    },
    {
     "name": "stderr",
     "output_type": "stream",
     "text": [
      "RemoteEvent(ATHeaderService, 0, logMessage) falling behind; read 75 messages\n",
      "RemoteEvent(ATHeaderService, 0, logMessage) falling behind; read 75 messages\n"
     ]
    },
    {
     "name": "stdout",
     "output_type": "stream",
     "text": [
      "Newest image id is = [2020021800288]\n",
      "Working on focus position -0.1755\n"
     ]
    },
    {
     "name": "stderr",
     "output_type": "stream",
     "text": [
      "RemoteEvent(ATHeaderService, 0, logMessage) falling behind; read 15 messages\n"
     ]
    },
    {
     "name": "stdout",
     "output_type": "stream",
     "text": [
      "Newest image id is = [2020021800289]\n",
      "Working on focus position -0.1555\n"
     ]
    },
    {
     "name": "stderr",
     "output_type": "stream",
     "text": [
      "RemoteEvent(ATHeaderService, 0, logMessage) falling behind; read 25 messages\n"
     ]
    },
    {
     "name": "stdout",
     "output_type": "stream",
     "text": [
      "Newest image id is = [2020021800290]\n",
      "Working on focus position -0.1355\n"
     ]
    },
    {
     "name": "stderr",
     "output_type": "stream",
     "text": [
      "RemoteEvent(ATHeaderService, 0, logMessage) falling behind; read 10 messages\n",
      "RemoteEvent(ATHeaderService, 0, logMessage) falling behind; read 14 messages\n"
     ]
    },
    {
     "name": "stdout",
     "output_type": "stream",
     "text": [
      "Newest image id is = [2020021800291]\n"
     ]
    },
    {
     "data": {
      "text/plain": [
       "<lsst.ts.salobj.ddsutil.ATAOS_ackcmd_33d5c92b at 0x7f21e0457ef0>"
      ]
     },
     "execution_count": 10,
     "metadata": {},
     "output_type": "execute_result"
    }
   ],
   "source": [
    "science_images = [0 for focus_pos in focus_positions]\n",
    "for i in range(len(focus_positions)): \n",
    "    focus_pos = focus_positions[i] \n",
    "    print ('Working on focus position ' + str(focus_pos))\n",
    "    attcs.athexapod.evt_positionUpdate.flush() \n",
    "    await attcs.ataos.cmd_applyFocusOffset.set_start(offset=focus_pos)\n",
    "    await attcs.athexapod.evt_positionUpdate.next(flush=False, timeout=attcs.long_timeout)\n",
    "    science_image = await latiss.take_engtest(exptime=5., n=1, filter='empty_3', grating='ronchi90lpmm') \n",
    "    print ('Newest image id is = ' +str(science_image) )\n",
    "    science_images[i] = int(science_image)\n",
    "#This should reset the focus position after taking this sequence: \n",
    "await attcs.ataos.cmd_applyFocusOffset.set_start(offset = focus_center)"
   ]
  },
  {
   "cell_type": "code",
   "execution_count": 11,
   "metadata": {},
   "outputs": [
    {
     "name": "stdout",
     "output_type": "stream",
     "text": [
      "Working on focus position -0.2955\n",
      "Newest image id is = [2020021800292]\n",
      "Working on focus position -0.27549999999999997\n"
     ]
    },
    {
     "name": "stderr",
     "output_type": "stream",
     "text": [
      "RemoteEvent(ATHeaderService, 0, logMessage) falling behind; read 20 messages\n"
     ]
    },
    {
     "name": "stdout",
     "output_type": "stream",
     "text": [
      "Newest image id is = [2020021800293]\n",
      "Working on focus position -0.2555\n"
     ]
    },
    {
     "name": "stderr",
     "output_type": "stream",
     "text": [
      "RemoteEvent(ATHeaderService, 0, logMessage) falling behind; read 17 messages\n",
      "RemoteEvent(ATHeaderService, 0, logMessage) falling behind; read 22 messages\n"
     ]
    },
    {
     "name": "stdout",
     "output_type": "stream",
     "text": [
      "Newest image id is = [2020021800294]\n",
      "Working on focus position -0.2355\n",
      "Newest image id is = [2020021800295]\n",
      "Working on focus position -0.2155\n",
      "Newest image id is = [2020021800296]\n",
      "Working on focus position -0.1955\n"
     ]
    },
    {
     "name": "stderr",
     "output_type": "stream",
     "text": [
      "RemoteEvent(ATHeaderService, 0, logMessage) falling behind; read 15 messages\n"
     ]
    },
    {
     "name": "stdout",
     "output_type": "stream",
     "text": [
      "Newest image id is = [2020021800297]\n",
      "Working on focus position -0.1755\n",
      "Newest image id is = [2020021800298]\n",
      "Working on focus position -0.1555\n",
      "Newest image id is = [2020021800299]\n",
      "Working on focus position -0.1355\n"
     ]
    },
    {
     "name": "stderr",
     "output_type": "stream",
     "text": [
      "RemoteEvent(ATHeaderService, 0, logMessage) falling behind; read 20 messages\n"
     ]
    },
    {
     "name": "stdout",
     "output_type": "stream",
     "text": [
      "Newest image id is = [2020021800300]\n"
     ]
    },
    {
     "data": {
      "text/plain": [
       "<lsst.ts.salobj.ddsutil.ATAOS_ackcmd_33d5c92b at 0x7f220396e160>"
      ]
     },
     "execution_count": 11,
     "metadata": {},
     "output_type": "execute_result"
    }
   ],
   "source": [
    "science_images = [0 for focus_pos in focus_positions]\n",
    "for i in range(len(focus_positions)): \n",
    "    focus_pos = focus_positions[i] \n",
    "    print ('Working on focus position ' + str(focus_pos))\n",
    "    attcs.athexapod.evt_positionUpdate.flush() \n",
    "    await attcs.ataos.cmd_applyFocusOffset.set_start(offset=focus_pos)\n",
    "    await attcs.athexapod.evt_positionUpdate.next(flush=False, timeout=attcs.long_timeout)\n",
    "    science_image = await latiss.take_engtest(exptime=20., n=1, filter='empty_3', grating='ronchi90lpmm') \n",
    "    print ('Newest image id is = ' +str(science_image) )\n",
    "    science_images[i] = int(science_image)\n",
    "#This should reset the focus position after taking this sequence: \n",
    "await attcs.ataos.cmd_applyFocusOffset.set_start(offset = focus_center)"
   ]
  },
  {
   "cell_type": "code",
   "execution_count": 12,
   "metadata": {},
   "outputs": [],
   "source": [
    "await attcs.slew_object(name = \"HD 109978\",  rot_sky=0.0, slew_timeout=240.) "
   ]
  },
  {
   "cell_type": "code",
   "execution_count": 13,
   "metadata": {},
   "outputs": [
    {
     "name": "stderr",
     "output_type": "stream",
     "text": [
      "RemoteEvent(ATHeaderService, 0, logMessage) falling behind; read 24 messages\n"
     ]
    },
    {
     "data": {
      "text/plain": [
       "array([2020021800301])"
      ]
     },
     "execution_count": 13,
     "metadata": {},
     "output_type": "execute_result"
    }
   ],
   "source": [
    "await latiss.take_object(exptime=20., n=1, filter='empty_3',grating='ronchi90lpmm')"
   ]
  },
  {
   "cell_type": "code",
   "execution_count": 14,
   "metadata": {},
   "outputs": [],
   "source": [
    "await attcs.offset_xy(x= -13, y= -3)"
   ]
  },
  {
   "cell_type": "code",
   "execution_count": 15,
   "metadata": {},
   "outputs": [
    {
     "name": "stdout",
     "output_type": "stream",
     "text": [
      "Working on focus position -0.2955\n"
     ]
    },
    {
     "name": "stderr",
     "output_type": "stream",
     "text": [
      "RemoteEvent(ATHeaderService, 0, logMessage) falling behind; read 19 messages\n"
     ]
    },
    {
     "name": "stdout",
     "output_type": "stream",
     "text": [
      "Newest image id is = [2020021800302]\n",
      "Working on focus position -0.27549999999999997\n"
     ]
    },
    {
     "name": "stderr",
     "output_type": "stream",
     "text": [
      "RemoteEvent(ATHeaderService, 0, logMessage) falling behind; read 23 messages\n"
     ]
    },
    {
     "name": "stdout",
     "output_type": "stream",
     "text": [
      "Newest image id is = [2020021800303]\n",
      "Working on focus position -0.2555\n"
     ]
    },
    {
     "name": "stderr",
     "output_type": "stream",
     "text": [
      "RemoteEvent(ATHeaderService, 0, logMessage) falling behind; read 16 messages\n",
      "RemoteEvent(ATHeaderService, 0, logMessage) falling behind; read 10 messages\n",
      "RemoteEvent(ATHeaderService, 0, logMessage) falling behind; read 16 messages\n"
     ]
    },
    {
     "name": "stdout",
     "output_type": "stream",
     "text": [
      "Newest image id is = [2020021800304]\n",
      "Working on focus position -0.2355\n",
      "Newest image id is = [2020021800305]\n",
      "Working on focus position -0.2155\n",
      "Newest image id is = [2020021800306]\n",
      "Working on focus position -0.1955\n",
      "Newest image id is = [2020021800307]\n",
      "Working on focus position -0.1755\n",
      "Newest image id is = [2020021800308]\n",
      "Working on focus position -0.1555\n"
     ]
    },
    {
     "name": "stderr",
     "output_type": "stream",
     "text": [
      "RemoteEvent(ATHeaderService, 0, logMessage) falling behind; read 21 messages\n",
      "RemoteEvent(ATHeaderService, 0, logMessage) falling behind; read 34 messages\n"
     ]
    },
    {
     "name": "stdout",
     "output_type": "stream",
     "text": [
      "Newest image id is = [2020021800309]\n",
      "Working on focus position -0.1355\n",
      "Newest image id is = [2020021800310]\n"
     ]
    },
    {
     "data": {
      "text/plain": [
       "<lsst.ts.salobj.ddsutil.ATAOS_ackcmd_33d5c92b at 0x7f21e06af1d0>"
      ]
     },
     "execution_count": 15,
     "metadata": {},
     "output_type": "execute_result"
    }
   ],
   "source": [
    "science_images = [0 for focus_pos in focus_positions]\n",
    "for i in range(len(focus_positions)): \n",
    "    focus_pos = focus_positions[i] \n",
    "    print ('Working on focus position ' + str(focus_pos))\n",
    "    attcs.athexapod.evt_positionUpdate.flush() \n",
    "    await attcs.ataos.cmd_applyFocusOffset.set_start(offset=focus_pos)\n",
    "    await attcs.athexapod.evt_positionUpdate.next(flush=False, timeout=attcs.long_timeout)\n",
    "    science_image = await latiss.take_engtest(exptime=20., n=1, filter='empty_3', grating='ronchi90lpmm') \n",
    "    print ('Newest image id is = ' +str(science_image) )\n",
    "    science_images[i] = int(science_image)\n",
    "#This should reset the focus position after taking this sequence: \n",
    "await attcs.ataos.cmd_applyFocusOffset.set_start(offset = focus_center)"
   ]
  },
  {
   "cell_type": "code",
   "execution_count": 16,
   "metadata": {},
   "outputs": [
    {
     "name": "stderr",
     "output_type": "stream",
     "text": [
      "RemoteEvent(ATMCS, 0, target) falling behind; read 16 messages\n",
      "RemoteEvent(ATMCS, 0, target) falling behind; read 16 messages\n",
      "RemoteEvent(ATDomeTrajectory, 0, logMessage) falling behind; read 17 messages\n",
      "RemoteEvent(ATDomeTrajectory, 0, logMessage) falling behind; read 17 messages\n"
     ]
    }
   ],
   "source": [
    "await attcs.slew_object(name = \"HD 83832\",  rot_sky=0.0, slew_timeout=240.) "
   ]
  },
  {
   "cell_type": "code",
   "execution_count": 17,
   "metadata": {},
   "outputs": [
    {
     "name": "stderr",
     "output_type": "stream",
     "text": [
      "RemoteEvent(ATHeaderService, 0, logMessage) falling behind; read 10 messages\n",
      "RemoteEvent(ATHeaderService, 0, logMessage) falling behind; read 15 messages\n"
     ]
    },
    {
     "data": {
      "text/plain": [
       "array([2020021800311])"
      ]
     },
     "execution_count": 17,
     "metadata": {},
     "output_type": "execute_result"
    }
   ],
   "source": [
    "await latiss.take_object(exptime=30., n=1, filter='empty_3',grating='ronchi90lpmm')"
   ]
  },
  {
   "cell_type": "code",
   "execution_count": 18,
   "metadata": {},
   "outputs": [],
   "source": [
    "await attcs.offset_xy(x= -35, y= -29)"
   ]
  },
  {
   "cell_type": "code",
   "execution_count": 19,
   "metadata": {},
   "outputs": [
    {
     "data": {
      "text/plain": [
       "array([2020021800312])"
      ]
     },
     "execution_count": 19,
     "metadata": {},
     "output_type": "execute_result"
    }
   ],
   "source": [
    "await latiss.take_object(exptime=30., n=1, filter='empty_3',grating='ronchi90lpmm')"
   ]
  },
  {
   "cell_type": "code",
   "execution_count": 20,
   "metadata": {},
   "outputs": [
    {
     "name": "stdout",
     "output_type": "stream",
     "text": [
      "Working on focus position -0.2955\n"
     ]
    },
    {
     "name": "stderr",
     "output_type": "stream",
     "text": [
      "RemoteEvent(ATHeaderService, 0, logMessage) falling behind; read 10 messages\n",
      "RemoteEvent(ATHeaderService, 0, logMessage) falling behind; read 23 messages\n"
     ]
    },
    {
     "name": "stdout",
     "output_type": "stream",
     "text": [
      "Newest image id is = [2020021800313]\n",
      "Working on focus position -0.27549999999999997\n",
      "Newest image id is = [2020021800314]\n",
      "Working on focus position -0.2555\n",
      "Newest image id is = [2020021800315]\n",
      "Working on focus position -0.2355\n",
      "Newest image id is = [2020021800316]\n",
      "Working on focus position -0.2155\n"
     ]
    },
    {
     "name": "stderr",
     "output_type": "stream",
     "text": [
      "RemoteEvent(ATHeaderService, 0, logMessage) falling behind; read 13 messages\n",
      "RemoteEvent(ATHeaderService, 0, logMessage) falling behind; read 29 messages\n"
     ]
    },
    {
     "name": "stdout",
     "output_type": "stream",
     "text": [
      "Newest image id is = [2020021800317]\n",
      "Working on focus position -0.1955\n",
      "Newest image id is = [2020021800318]\n",
      "Working on focus position -0.1755\n",
      "Newest image id is = [2020021800319]\n",
      "Working on focus position -0.1555\n"
     ]
    },
    {
     "name": "stderr",
     "output_type": "stream",
     "text": [
      "RemoteEvent(ATDomeTrajectory, 0, logMessage) falling behind; read 20 messages\n",
      "RemoteEvent(ATDomeTrajectory, 0, logMessage) falling behind; read 20 messages\n",
      "RemoteEvent(ATMCS, 0, target) falling behind; read 100 messages\n",
      "RemoteEvent(ATMCS, 0, target) falling behind; read 100 messages\n",
      "RemoteEvent(ATHeaderService, 0, logMessage) falling behind; read 32 messages\n"
     ]
    },
    {
     "name": "stdout",
     "output_type": "stream",
     "text": [
      "Newest image id is = [2020021800320]\n",
      "Working on focus position -0.1355\n"
     ]
    },
    {
     "name": "stderr",
     "output_type": "stream",
     "text": [
      "RemoteEvent(ATHeaderService, 0, logMessage) falling behind; read 13 messages\n",
      "RemoteEvent(ATHeaderService, 0, logMessage) falling behind; read 20 messages\n"
     ]
    },
    {
     "name": "stdout",
     "output_type": "stream",
     "text": [
      "Newest image id is = [2020021800321]\n"
     ]
    },
    {
     "data": {
      "text/plain": [
       "<lsst.ts.salobj.ddsutil.ATAOS_ackcmd_33d5c92b at 0x7f21e0568160>"
      ]
     },
     "execution_count": 20,
     "metadata": {},
     "output_type": "execute_result"
    }
   ],
   "source": [
    "science_images = [0 for focus_pos in focus_positions]\n",
    "for i in range(len(focus_positions)): \n",
    "    focus_pos = focus_positions[i] \n",
    "    print ('Working on focus position ' + str(focus_pos))\n",
    "    attcs.athexapod.evt_positionUpdate.flush() \n",
    "    await attcs.ataos.cmd_applyFocusOffset.set_start(offset=focus_pos)\n",
    "    await attcs.athexapod.evt_positionUpdate.next(flush=False, timeout=attcs.long_timeout)\n",
    "    science_image = await latiss.take_engtest(exptime=30., n=1, filter='empty_3', grating='ronchi90lpmm') \n",
    "    print ('Newest image id is = ' +str(science_image) )\n",
    "    science_images[i] = int(science_image)\n",
    "#This should reset the focus position after taking this sequence: \n",
    "await attcs.ataos.cmd_applyFocusOffset.set_start(offset = focus_center)"
   ]
  },
  {
   "cell_type": "code",
   "execution_count": 22,
   "metadata": {},
   "outputs": [],
   "source": [
    "await attcs.slew_object(name = \"HD 307630\",  rot_sky=0.0, slew_timeout=240.) "
   ]
  },
  {
   "cell_type": "code",
   "execution_count": 23,
   "metadata": {},
   "outputs": [
    {
     "name": "stderr",
     "output_type": "stream",
     "text": [
      "RemoteEvent(ATHeaderService, 0, logMessage) falling behind; read 10 messages\n",
      "RemoteEvent(ATHeaderService, 0, logMessage) falling behind; read 22 messages\n"
     ]
    },
    {
     "data": {
      "text/plain": [
       "array([2020021800322])"
      ]
     },
     "execution_count": 23,
     "metadata": {},
     "output_type": "execute_result"
    }
   ],
   "source": [
    "await latiss.take_object(exptime=30., n=1, filter='empty_3',grating='ronchi90lpmm')"
   ]
  },
  {
   "cell_type": "code",
   "execution_count": 24,
   "metadata": {},
   "outputs": [],
   "source": [
    "await attcs.offset_xy(x= -32, y= -23)"
   ]
  },
  {
   "cell_type": "code",
   "execution_count": 25,
   "metadata": {},
   "outputs": [
    {
     "name": "stdout",
     "output_type": "stream",
     "text": [
      "Working on focus position -0.2955\n"
     ]
    },
    {
     "name": "stderr",
     "output_type": "stream",
     "text": [
      "RemoteEvent(ATHeaderService, 0, logMessage) falling behind; read 20 messages\n"
     ]
    },
    {
     "name": "stdout",
     "output_type": "stream",
     "text": [
      "Newest image id is = [2020021800323]\n",
      "Working on focus position -0.27549999999999997\n"
     ]
    },
    {
     "name": "stderr",
     "output_type": "stream",
     "text": [
      "RemoteEvent(ATHeaderService, 0, logMessage) falling behind; read 17 messages\n"
     ]
    },
    {
     "name": "stdout",
     "output_type": "stream",
     "text": [
      "Newest image id is = [2020021800324]\n",
      "Working on focus position -0.2555\n",
      "Newest image id is = [2020021800325]\n",
      "Working on focus position -0.2355\n"
     ]
    },
    {
     "name": "stderr",
     "output_type": "stream",
     "text": [
      "RemoteEvent(ATHeaderService, 0, logMessage) falling behind; read 11 messages\n",
      "RemoteEvent(ATHeaderService, 0, logMessage) falling behind; read 14 messages\n"
     ]
    },
    {
     "name": "stdout",
     "output_type": "stream",
     "text": [
      "Newest image id is = [2020021800326]\n",
      "Working on focus position -0.2155\n",
      "Newest image id is = [2020021800327]\n",
      "Working on focus position -0.1955\n"
     ]
    },
    {
     "name": "stderr",
     "output_type": "stream",
     "text": [
      "RemoteEvent(ATHeaderService, 0, logMessage) falling behind; read 18 messages\n",
      "RemoteEvent(ATHeaderService, 0, logMessage) falling behind; read 21 messages\n"
     ]
    },
    {
     "name": "stdout",
     "output_type": "stream",
     "text": [
      "Newest image id is = [2020021800328]\n",
      "Working on focus position -0.1755\n",
      "Newest image id is = [2020021800329]\n",
      "Working on focus position -0.1555\n"
     ]
    },
    {
     "name": "stderr",
     "output_type": "stream",
     "text": [
      "RemoteEvent(ATHeaderService, 0, logMessage) falling behind; read 23 messages\n",
      "RemoteEvent(ATHeaderService, 0, logMessage) falling behind; read 52 messages\n"
     ]
    },
    {
     "name": "stdout",
     "output_type": "stream",
     "text": [
      "Newest image id is = [2020021800330]\n",
      "Working on focus position -0.1355\n"
     ]
    },
    {
     "name": "stderr",
     "output_type": "stream",
     "text": [
      "RemoteEvent(ATHeaderService, 0, logMessage) falling behind; read 15 messages\n",
      "RemoteEvent(ATHeaderService, 0, logMessage) falling behind; read 11 messages\n"
     ]
    },
    {
     "name": "stdout",
     "output_type": "stream",
     "text": [
      "Newest image id is = [2020021800331]\n"
     ]
    },
    {
     "data": {
      "text/plain": [
       "<lsst.ts.salobj.ddsutil.ATAOS_ackcmd_33d5c92b at 0x7f21e0c967f0>"
      ]
     },
     "execution_count": 25,
     "metadata": {},
     "output_type": "execute_result"
    }
   ],
   "source": [
    "science_images = [0 for focus_pos in focus_positions]\n",
    "for i in range(len(focus_positions)): \n",
    "    focus_pos = focus_positions[i] \n",
    "    print ('Working on focus position ' + str(focus_pos))\n",
    "    attcs.athexapod.evt_positionUpdate.flush() \n",
    "    await attcs.ataos.cmd_applyFocusOffset.set_start(offset=focus_pos)\n",
    "    await attcs.athexapod.evt_positionUpdate.next(flush=False, timeout=attcs.long_timeout)\n",
    "    science_image = await latiss.take_engtest(exptime=30., n=1, filter='empty_3', grating='ronchi90lpmm') \n",
    "    print ('Newest image id is = ' +str(science_image) )\n",
    "    science_images[i] = int(science_image)\n",
    "#This should reset the focus position after taking this sequence: \n",
    "await attcs.ataos.cmd_applyFocusOffset.set_start(offset = focus_center)"
   ]
  },
  {
   "cell_type": "code",
   "execution_count": 26,
   "metadata": {},
   "outputs": [],
   "source": [
    "await attcs.slew_object(name = \"HD 112618\",  rot_sky=0.0, slew_timeout=240.) "
   ]
  },
  {
   "cell_type": "code",
   "execution_count": 27,
   "metadata": {},
   "outputs": [
    {
     "name": "stderr",
     "output_type": "stream",
     "text": [
      "RemoteEvent(ATHeaderService, 0, logMessage) falling behind; read 14 messages\n",
      "RemoteEvent(ATHeaderService, 0, logMessage) falling behind; read 19 messages\n"
     ]
    },
    {
     "data": {
      "text/plain": [
       "array([2020021800332])"
      ]
     },
     "execution_count": 27,
     "metadata": {},
     "output_type": "execute_result"
    }
   ],
   "source": [
    "await latiss.take_object(exptime=15., n=1, filter='empty_3',grating='ronchi90lpmm')"
   ]
  },
  {
   "cell_type": "code",
   "execution_count": 28,
   "metadata": {},
   "outputs": [],
   "source": [
    "await attcs.offset_xy(x= -91, y= -59)"
   ]
  },
  {
   "cell_type": "code",
   "execution_count": 29,
   "metadata": {},
   "outputs": [
    {
     "name": "stderr",
     "output_type": "stream",
     "text": [
      "RemoteEvent(ATHeaderService, 0, logMessage) falling behind; read 17 messages\n"
     ]
    },
    {
     "data": {
      "text/plain": [
       "array([2020021800333])"
      ]
     },
     "execution_count": 29,
     "metadata": {},
     "output_type": "execute_result"
    }
   ],
   "source": [
    "await latiss.take_object(exptime=15., n=1, filter='empty_3',grating='ronchi90lpmm')"
   ]
  },
  {
   "cell_type": "code",
   "execution_count": 30,
   "metadata": {},
   "outputs": [
    {
     "name": "stdout",
     "output_type": "stream",
     "text": [
      "Working on focus position -0.2955\n"
     ]
    },
    {
     "name": "stderr",
     "output_type": "stream",
     "text": [
      "RemoteEvent(ATHeaderService, 0, logMessage) falling behind; read 10 messages\n",
      "RemoteEvent(ATHeaderService, 0, logMessage) falling behind; read 16 messages\n"
     ]
    },
    {
     "name": "stdout",
     "output_type": "stream",
     "text": [
      "Newest image id is = [2020021800334]\n",
      "Working on focus position -0.27549999999999997\n",
      "Newest image id is = [2020021800335]\n",
      "Working on focus position -0.2555\n"
     ]
    },
    {
     "name": "stderr",
     "output_type": "stream",
     "text": [
      "RemoteEvent(ATHeaderService, 0, logMessage) falling behind; read 15 messages\n"
     ]
    },
    {
     "name": "stdout",
     "output_type": "stream",
     "text": [
      "Newest image id is = [2020021800336]\n",
      "Working on focus position -0.2355\n"
     ]
    },
    {
     "name": "stderr",
     "output_type": "stream",
     "text": [
      "RemoteEvent(ATHeaderService, 0, logMessage) falling behind; read 21 messages\n",
      "RemoteEvent(ATHeaderService, 0, logMessage) falling behind; read 15 messages\n"
     ]
    },
    {
     "name": "stdout",
     "output_type": "stream",
     "text": [
      "Newest image id is = [2020021800337]\n",
      "Working on focus position -0.2155\n",
      "Newest image id is = [2020021800338]\n",
      "Working on focus position -0.1955\n"
     ]
    },
    {
     "name": "stderr",
     "output_type": "stream",
     "text": [
      "RemoteEvent(ATHeaderService, 0, logMessage) falling behind; read 10 messages\n",
      "RemoteEvent(ATHeaderService, 0, logMessage) falling behind; read 16 messages\n"
     ]
    },
    {
     "name": "stdout",
     "output_type": "stream",
     "text": [
      "Newest image id is = [2020021800339]\n",
      "Working on focus position -0.1755\n"
     ]
    },
    {
     "name": "stderr",
     "output_type": "stream",
     "text": [
      "RemoteEvent(ATHeaderService, 0, logMessage) falling behind; read 21 messages\n",
      "RemoteEvent(ATHeaderService, 0, logMessage) falling behind; read 13 messages\n",
      "RemoteEvent(ATHeaderService, 0, logMessage) falling behind; read 34 messages\n"
     ]
    },
    {
     "name": "stdout",
     "output_type": "stream",
     "text": [
      "Newest image id is = [2020021800340]\n",
      "Working on focus position -0.1555\n"
     ]
    },
    {
     "name": "stderr",
     "output_type": "stream",
     "text": [
      "RemoteEvent(ATHeaderService, 0, logMessage) falling behind; read 13 messages\n",
      "RemoteEvent(ATHeaderService, 0, logMessage) falling behind; read 23 messages\n"
     ]
    },
    {
     "name": "stdout",
     "output_type": "stream",
     "text": [
      "Newest image id is = [2020021800341]\n",
      "Working on focus position -0.1355\n"
     ]
    },
    {
     "name": "stderr",
     "output_type": "stream",
     "text": [
      "RemoteEvent(ATHeaderService, 0, logMessage) falling behind; read 21 messages\n",
      "RemoteEvent(ATHeaderService, 0, logMessage) falling behind; read 41 messages\n"
     ]
    },
    {
     "name": "stdout",
     "output_type": "stream",
     "text": [
      "Newest image id is = [2020021800342]\n"
     ]
    },
    {
     "data": {
      "text/plain": [
       "<lsst.ts.salobj.ddsutil.ATAOS_ackcmd_33d5c92b at 0x7f21fea60908>"
      ]
     },
     "execution_count": 30,
     "metadata": {},
     "output_type": "execute_result"
    }
   ],
   "source": [
    "science_images = [0 for focus_pos in focus_positions]\n",
    "for i in range(len(focus_positions)): \n",
    "    focus_pos = focus_positions[i] \n",
    "    print ('Working on focus position ' + str(focus_pos))\n",
    "    attcs.athexapod.evt_positionUpdate.flush() \n",
    "    await attcs.ataos.cmd_applyFocusOffset.set_start(offset=focus_pos)\n",
    "    await attcs.athexapod.evt_positionUpdate.next(flush=False, timeout=attcs.long_timeout)\n",
    "    science_image = await latiss.take_engtest(exptime=15., n=1, filter='empty_3', grating='ronchi90lpmm') \n",
    "    print ('Newest image id is = ' +str(science_image) )\n",
    "    science_images[i] = int(science_image)\n",
    "#This should reset the focus position after taking this sequence: \n",
    "await attcs.ataos.cmd_applyFocusOffset.set_start(offset = focus_center)"
   ]
  },
  {
   "cell_type": "code",
   "execution_count": 31,
   "metadata": {},
   "outputs": [
    {
     "name": "stderr",
     "output_type": "stream",
     "text": [
      "RemoteEvent(ATMCS, 0, target) falling behind; read 18 messages\n",
      "RemoteEvent(ATMCS, 0, target) falling behind; read 19 messages\n",
      "RemoteEvent(ATDomeTrajectory, 0, logMessage) falling behind; read 19 messages\n",
      "RemoteEvent(ATDomeTrajectory, 0, logMessage) falling behind; read 19 messages\n"
     ]
    }
   ],
   "source": [
    "await attcs.slew_object(name = \"HD 185975\",  rot_sky=0.0, slew_timeout=240.) "
   ]
  },
  {
   "cell_type": "code",
   "execution_count": 32,
   "metadata": {},
   "outputs": [
    {
     "data": {
      "text/plain": [
       "array([2020021800343])"
      ]
     },
     "execution_count": 32,
     "metadata": {},
     "output_type": "execute_result"
    }
   ],
   "source": [
    "await latiss.take_object(exptime=15., n=1, filter='empty_3',grating='ronchi90lpmm')"
   ]
  },
  {
   "cell_type": "code",
   "execution_count": 33,
   "metadata": {},
   "outputs": [],
   "source": [
    "await attcs.offset_xy(x= -22, y= 5.5)"
   ]
  },
  {
   "cell_type": "code",
   "execution_count": 34,
   "metadata": {},
   "outputs": [
    {
     "name": "stdout",
     "output_type": "stream",
     "text": [
      "Working on focus position -0.2955\n"
     ]
    },
    {
     "name": "stderr",
     "output_type": "stream",
     "text": [
      "RemoteEvent(ATHeaderService, 0, logMessage) falling behind; read 13 messages\n",
      "RemoteEvent(ATHeaderService, 0, logMessage) falling behind; read 28 messages\n"
     ]
    },
    {
     "name": "stdout",
     "output_type": "stream",
     "text": [
      "Newest image id is = [2020021800344]\n",
      "Working on focus position -0.27549999999999997\n",
      "Newest image id is = [2020021800345]\n",
      "Working on focus position -0.2555\n",
      "Newest image id is = [2020021800346]\n",
      "Working on focus position -0.2355\n"
     ]
    },
    {
     "name": "stderr",
     "output_type": "stream",
     "text": [
      "RemoteEvent(ATHeaderService, 0, logMessage) falling behind; read 12 messages\n"
     ]
    },
    {
     "name": "stdout",
     "output_type": "stream",
     "text": [
      "Newest image id is = [2020021800347]\n",
      "Working on focus position -0.2155\n"
     ]
    },
    {
     "name": "stderr",
     "output_type": "stream",
     "text": [
      "RemoteEvent(ATHeaderService, 0, logMessage) falling behind; read 13 messages\n",
      "RemoteEvent(ATHeaderService, 0, logMessage) falling behind; read 19 messages\n"
     ]
    },
    {
     "name": "stdout",
     "output_type": "stream",
     "text": [
      "Newest image id is = [2020021800348]\n",
      "Working on focus position -0.1955\n",
      "Newest image id is = [2020021800349]\n",
      "Working on focus position -0.1755\n",
      "Newest image id is = [2020021800350]\n",
      "Working on focus position -0.1555\n"
     ]
    },
    {
     "name": "stderr",
     "output_type": "stream",
     "text": [
      "RemoteEvent(ATHeaderService, 0, logMessage) falling behind; read 12 messages\n"
     ]
    },
    {
     "name": "stdout",
     "output_type": "stream",
     "text": [
      "Newest image id is = [2020021800351]\n",
      "Working on focus position -0.1355\n"
     ]
    },
    {
     "name": "stderr",
     "output_type": "stream",
     "text": [
      "RemoteEvent(ATHeaderService, 0, logMessage) falling behind; read 10 messages\n",
      "RemoteEvent(ATHeaderService, 0, logMessage) falling behind; read 26 messages\n"
     ]
    },
    {
     "name": "stdout",
     "output_type": "stream",
     "text": [
      "Newest image id is = [2020021800352]\n"
     ]
    },
    {
     "data": {
      "text/plain": [
       "<lsst.ts.salobj.ddsutil.ATAOS_ackcmd_33d5c92b at 0x7f2203c9f978>"
      ]
     },
     "execution_count": 34,
     "metadata": {},
     "output_type": "execute_result"
    }
   ],
   "source": [
    "science_images = [0 for focus_pos in focus_positions]\n",
    "for i in range(len(focus_positions)): \n",
    "    focus_pos = focus_positions[i] \n",
    "    print ('Working on focus position ' + str(focus_pos))\n",
    "    attcs.athexapod.evt_positionUpdate.flush() \n",
    "    await attcs.ataos.cmd_applyFocusOffset.set_start(offset=focus_pos)\n",
    "    await attcs.athexapod.evt_positionUpdate.next(flush=False, timeout=attcs.long_timeout)\n",
    "    science_image = await latiss.take_engtest(exptime=15., n=1, filter='empty_3', grating='ronchi90lpmm') \n",
    "    print ('Newest image id is = ' +str(science_image) )\n",
    "    science_images[i] = int(science_image)\n",
    "#This should reset the focus position after taking this sequence: \n",
    "await attcs.ataos.cmd_applyFocusOffset.set_start(offset = focus_center)"
   ]
  },
  {
   "cell_type": "code",
   "execution_count": 35,
   "metadata": {},
   "outputs": [
    {
     "name": "stderr",
     "output_type": "stream",
     "text": [
      "RemoteEvent(ATDomeTrajectory, 0, logMessage) falling behind; read 12 messages\n",
      "RemoteEvent(ATDomeTrajectory, 0, logMessage) falling behind; read 12 messages\n",
      "RemoteEvent(ATMCS, 0, target) falling behind; read 12 messages\n",
      "RemoteEvent(ATMCS, 0, target) falling behind; read 12 messages\n"
     ]
    }
   ],
   "source": [
    "await attcs.slew_object(name = \"HD 116351\",  rot_sky=0.0, slew_timeout=240.) "
   ]
  },
  {
   "cell_type": "code",
   "execution_count": 36,
   "metadata": {},
   "outputs": [
    {
     "data": {
      "text/plain": [
       "array([2020021800353])"
      ]
     },
     "execution_count": 36,
     "metadata": {},
     "output_type": "execute_result"
    }
   ],
   "source": [
    "await latiss.take_object(exptime=15., n=1, filter='empty_3',grating='ronchi90lpmm')"
   ]
  },
  {
   "cell_type": "code",
   "execution_count": 37,
   "metadata": {},
   "outputs": [],
   "source": [
    "await attcs.offset_xy(x= -77, y= 12)"
   ]
  },
  {
   "cell_type": "code",
   "execution_count": 38,
   "metadata": {},
   "outputs": [
    {
     "name": "stdout",
     "output_type": "stream",
     "text": [
      "Working on focus position -0.2955\n",
      "Newest image id is = [2020021800354]\n",
      "Working on focus position -0.27549999999999997\n"
     ]
    },
    {
     "name": "stderr",
     "output_type": "stream",
     "text": [
      "RemoteEvent(ATHeaderService, 0, logMessage) falling behind; read 23 messages\n"
     ]
    },
    {
     "name": "stdout",
     "output_type": "stream",
     "text": [
      "Newest image id is = [2020021800355]\n",
      "Working on focus position -0.2555\n",
      "Newest image id is = [2020021800356]\n",
      "Working on focus position -0.2355\n"
     ]
    },
    {
     "name": "stderr",
     "output_type": "stream",
     "text": [
      "RemoteEvent(ATHeaderService, 0, logMessage) falling behind; read 21 messages\n",
      "RemoteEvent(ATHeaderService, 0, logMessage) falling behind; read 28 messages\n"
     ]
    },
    {
     "name": "stdout",
     "output_type": "stream",
     "text": [
      "Newest image id is = [2020021800357]\n",
      "Working on focus position -0.2155\n",
      "Newest image id is = [2020021800358]\n",
      "Working on focus position -0.1955\n"
     ]
    },
    {
     "name": "stderr",
     "output_type": "stream",
     "text": [
      "RemoteEvent(ATHeaderService, 0, logMessage) falling behind; read 11 messages\n",
      "RemoteEvent(ATHeaderService, 0, logMessage) falling behind; read 15 messages\n"
     ]
    },
    {
     "name": "stdout",
     "output_type": "stream",
     "text": [
      "Newest image id is = [2020021800359]\n",
      "Working on focus position -0.1755\n",
      "Newest image id is = [2020021800360]\n",
      "Working on focus position -0.1555\n"
     ]
    },
    {
     "name": "stderr",
     "output_type": "stream",
     "text": [
      "RemoteEvent(ATHeaderService, 0, logMessage) falling behind; read 25 messages\n"
     ]
    },
    {
     "name": "stdout",
     "output_type": "stream",
     "text": [
      "Newest image id is = [2020021800361]\n",
      "Working on focus position -0.1355\n"
     ]
    },
    {
     "name": "stderr",
     "output_type": "stream",
     "text": [
      "RemoteEvent(ATHeaderService, 0, logMessage) falling behind; read 10 messages\n",
      "RemoteEvent(ATHeaderService, 0, logMessage) falling behind; read 28 messages\n"
     ]
    },
    {
     "name": "stdout",
     "output_type": "stream",
     "text": [
      "Newest image id is = [2020021800362]\n"
     ]
    },
    {
     "data": {
      "text/plain": [
       "<lsst.ts.salobj.ddsutil.ATAOS_ackcmd_33d5c92b at 0x7f221f6d0cc0>"
      ]
     },
     "execution_count": 38,
     "metadata": {},
     "output_type": "execute_result"
    }
   ],
   "source": [
    "science_images = [0 for focus_pos in focus_positions]\n",
    "for i in range(len(focus_positions)): \n",
    "    focus_pos = focus_positions[i] \n",
    "    print ('Working on focus position ' + str(focus_pos))\n",
    "    attcs.athexapod.evt_positionUpdate.flush() \n",
    "    await attcs.ataos.cmd_applyFocusOffset.set_start(offset=focus_pos)\n",
    "    await attcs.athexapod.evt_positionUpdate.next(flush=False, timeout=attcs.long_timeout)\n",
    "    science_image = await latiss.take_engtest(exptime=15., n=1, filter='empty_3', grating='ronchi90lpmm') \n",
    "    print ('Newest image id is = ' +str(science_image) )\n",
    "    science_images[i] = int(science_image)\n",
    "#This should reset the focus position after taking this sequence: \n",
    "await attcs.ataos.cmd_applyFocusOffset.set_start(offset = focus_center)"
   ]
  },
  {
   "cell_type": "code",
   "execution_count": 40,
   "metadata": {},
   "outputs": [],
   "source": [
    "await attcs.slew_object(name = \"HD 116591\",  rot_sky= -180.0, slew_timeout=240.) "
   ]
  },
  {
   "cell_type": "code",
   "execution_count": 41,
   "metadata": {},
   "outputs": [
    {
     "data": {
      "text/plain": [
       "array([2020021800363])"
      ]
     },
     "execution_count": 41,
     "metadata": {},
     "output_type": "execute_result"
    }
   ],
   "source": [
    "await latiss.take_object(exptime=15., n=1, filter='empty_3',grating='ronchi90lpmm')"
   ]
  },
  {
   "cell_type": "code",
   "execution_count": 42,
   "metadata": {},
   "outputs": [],
   "source": [
    "await attcs.offset_xy(x= -14, y= -53)"
   ]
  },
  {
   "cell_type": "code",
   "execution_count": 43,
   "metadata": {},
   "outputs": [
    {
     "name": "stdout",
     "output_type": "stream",
     "text": [
      "Working on focus position -0.2955\n"
     ]
    },
    {
     "name": "stderr",
     "output_type": "stream",
     "text": [
      "RemoteEvent(ATHeaderService, 0, logMessage) falling behind; read 14 messages\n",
      "RemoteEvent(ATHeaderService, 0, logMessage) falling behind; read 42 messages\n"
     ]
    },
    {
     "name": "stdout",
     "output_type": "stream",
     "text": [
      "Newest image id is = [2020021800364]\n",
      "Working on focus position -0.27549999999999997\n"
     ]
    },
    {
     "name": "stderr",
     "output_type": "stream",
     "text": [
      "RemoteEvent(ATHeaderService, 0, logMessage) falling behind; read 23 messages\n",
      "RemoteEvent(ATHeaderService, 0, logMessage) falling behind; read 12 messages\n"
     ]
    },
    {
     "name": "stdout",
     "output_type": "stream",
     "text": [
      "Newest image id is = [2020021800365]\n",
      "Working on focus position -0.2555\n",
      "Newest image id is = [2020021800366]\n",
      "Working on focus position -0.2355\n",
      "Newest image id is = [2020021800367]\n",
      "Working on focus position -0.2155\n",
      "Newest image id is = [2020021800368]\n",
      "Working on focus position -0.1955\n"
     ]
    },
    {
     "name": "stderr",
     "output_type": "stream",
     "text": [
      "RemoteEvent(ATHeaderService, 0, logMessage) falling behind; read 17 messages\n"
     ]
    },
    {
     "name": "stdout",
     "output_type": "stream",
     "text": [
      "Newest image id is = [2020021800369]\n",
      "Working on focus position -0.1755\n",
      "Newest image id is = [2020021800370]\n",
      "Working on focus position -0.1555\n"
     ]
    },
    {
     "name": "stderr",
     "output_type": "stream",
     "text": [
      "RemoteEvent(ATHeaderService, 0, logMessage) falling behind; read 13 messages\n"
     ]
    },
    {
     "name": "stdout",
     "output_type": "stream",
     "text": [
      "Newest image id is = [2020021800371]\n",
      "Working on focus position -0.1355\n"
     ]
    },
    {
     "name": "stderr",
     "output_type": "stream",
     "text": [
      "RemoteEvent(ATHeaderService, 0, logMessage) falling behind; read 10 messages\n",
      "RemoteEvent(ATHeaderService, 0, logMessage) falling behind; read 15 messages\n"
     ]
    },
    {
     "name": "stdout",
     "output_type": "stream",
     "text": [
      "Newest image id is = [2020021800372]\n"
     ]
    },
    {
     "data": {
      "text/plain": [
       "<lsst.ts.salobj.ddsutil.ATAOS_ackcmd_33d5c92b at 0x7f21e0e87f98>"
      ]
     },
     "execution_count": 43,
     "metadata": {},
     "output_type": "execute_result"
    }
   ],
   "source": [
    "science_images = [0 for focus_pos in focus_positions]\n",
    "for i in range(len(focus_positions)): \n",
    "    focus_pos = focus_positions[i] \n",
    "    print ('Working on focus position ' + str(focus_pos))\n",
    "    attcs.athexapod.evt_positionUpdate.flush() \n",
    "    await attcs.ataos.cmd_applyFocusOffset.set_start(offset=focus_pos)\n",
    "    await attcs.athexapod.evt_positionUpdate.next(flush=False, timeout=attcs.long_timeout)\n",
    "    science_image = await latiss.take_engtest(exptime=15., n=1, filter='empty_3', grating='ronchi90lpmm') \n",
    "    print ('Newest image id is = ' +str(science_image) )\n",
    "    science_images[i] = int(science_image)\n",
    "#This should reset the focus position after taking this sequence: \n",
    "await attcs.ataos.cmd_applyFocusOffset.set_start(offset = focus_center)"
   ]
  },
  {
   "cell_type": "code",
   "execution_count": 44,
   "metadata": {},
   "outputs": [],
   "source": [
    "await attcs.slew_object(name = \"HD 109978\",  rot_sky= -180.0, slew_timeout=240.) "
   ]
  },
  {
   "cell_type": "code",
   "execution_count": 45,
   "metadata": {},
   "outputs": [
    {
     "data": {
      "text/plain": [
       "array([2020021800373])"
      ]
     },
     "execution_count": 45,
     "metadata": {},
     "output_type": "execute_result"
    }
   ],
   "source": [
    "await latiss.take_object(exptime=20., n=1, filter='empty_3',grating='ronchi90lpmm')"
   ]
  },
  {
   "cell_type": "code",
   "execution_count": 46,
   "metadata": {},
   "outputs": [],
   "source": [
    "await attcs.offset_xy(x= 17, y= -75)"
   ]
  },
  {
   "cell_type": "code",
   "execution_count": 47,
   "metadata": {},
   "outputs": [
    {
     "name": "stdout",
     "output_type": "stream",
     "text": [
      "Working on focus position -0.2955\n"
     ]
    },
    {
     "name": "stderr",
     "output_type": "stream",
     "text": [
      "RemoteEvent(ATHeaderService, 0, logMessage) falling behind; read 29 messages\n"
     ]
    },
    {
     "name": "stdout",
     "output_type": "stream",
     "text": [
      "Newest image id is = [2020021800374]\n",
      "Working on focus position -0.27549999999999997\n",
      "Newest image id is = [2020021800375]\n",
      "Working on focus position -0.2555\n"
     ]
    },
    {
     "name": "stderr",
     "output_type": "stream",
     "text": [
      "RemoteEvent(ATHeaderService, 0, logMessage) falling behind; read 16 messages\n",
      "RemoteEvent(ATHeaderService, 0, logMessage) falling behind; read 19 messages\n"
     ]
    },
    {
     "name": "stdout",
     "output_type": "stream",
     "text": [
      "Newest image id is = [2020021800376]\n",
      "Working on focus position -0.2355\n"
     ]
    },
    {
     "name": "stderr",
     "output_type": "stream",
     "text": [
      "RemoteEvent(ATHeaderService, 0, logMessage) falling behind; read 19 messages\n"
     ]
    },
    {
     "name": "stdout",
     "output_type": "stream",
     "text": [
      "Newest image id is = [2020021800377]\n",
      "Working on focus position -0.2155\n"
     ]
    },
    {
     "name": "stderr",
     "output_type": "stream",
     "text": [
      "RemoteEvent(ATHeaderService, 0, logMessage) falling behind; read 12 messages\n",
      "RemoteEvent(ATHeaderService, 0, logMessage) falling behind; read 15 messages\n",
      "RemoteEvent(ATHeaderService, 0, logMessage) falling behind; read 26 messages\n"
     ]
    },
    {
     "name": "stdout",
     "output_type": "stream",
     "text": [
      "Newest image id is = [2020021800378]\n",
      "Working on focus position -0.1955\n"
     ]
    },
    {
     "name": "stderr",
     "output_type": "stream",
     "text": [
      "RemoteEvent(ATHeaderService, 0, logMessage) falling behind; read 18 messages\n",
      "RemoteEvent(ATHeaderService, 0, logMessage) falling behind; read 20 messages\n"
     ]
    },
    {
     "name": "stdout",
     "output_type": "stream",
     "text": [
      "Newest image id is = [2020021800379]\n",
      "Working on focus position -0.1755\n"
     ]
    },
    {
     "name": "stderr",
     "output_type": "stream",
     "text": [
      "RemoteEvent(ATHeaderService, 0, logMessage) falling behind; read 10 messages\n"
     ]
    },
    {
     "name": "stdout",
     "output_type": "stream",
     "text": [
      "Newest image id is = [2020021800380]\n",
      "Working on focus position -0.1555\n",
      "Newest image id is = [2020021800381]\n",
      "Working on focus position -0.1355\n"
     ]
    },
    {
     "name": "stderr",
     "output_type": "stream",
     "text": [
      "RemoteEvent(ATHeaderService, 0, logMessage) falling behind; read 14 messages\n"
     ]
    },
    {
     "name": "stdout",
     "output_type": "stream",
     "text": [
      "Newest image id is = [2020021800382]\n"
     ]
    },
    {
     "data": {
      "text/plain": [
       "<lsst.ts.salobj.ddsutil.ATAOS_ackcmd_33d5c92b at 0x7f20bb663278>"
      ]
     },
     "execution_count": 47,
     "metadata": {},
     "output_type": "execute_result"
    }
   ],
   "source": [
    "science_images = [0 for focus_pos in focus_positions]\n",
    "for i in range(len(focus_positions)): \n",
    "    focus_pos = focus_positions[i] \n",
    "    print ('Working on focus position ' + str(focus_pos))\n",
    "    attcs.athexapod.evt_positionUpdate.flush() \n",
    "    await attcs.ataos.cmd_applyFocusOffset.set_start(offset=focus_pos)\n",
    "    await attcs.athexapod.evt_positionUpdate.next(flush=False, timeout=attcs.long_timeout)\n",
    "    science_image = await latiss.take_engtest(exptime=20., n=1, filter='empty_3', grating='ronchi90lpmm') \n",
    "    print ('Newest image id is = ' +str(science_image) )\n",
    "    science_images[i] = int(science_image)\n",
    "#This should reset the focus position after taking this sequence: \n",
    "await attcs.ataos.cmd_applyFocusOffset.set_start(offset = focus_center)"
   ]
  },
  {
   "cell_type": "code",
   "execution_count": 48,
   "metadata": {},
   "outputs": [
    {
     "name": "stderr",
     "output_type": "stream",
     "text": [
      "RemoteEvent(ATMCS, 0, target) falling behind; read 17 messages\n",
      "RemoteEvent(ATMCS, 0, target) falling behind; read 17 messages\n",
      "RemoteEvent(ATDomeTrajectory, 0, logMessage) falling behind; read 17 messages\n",
      "RemoteEvent(ATDomeTrajectory, 0, logMessage) falling behind; read 17 messages\n"
     ]
    }
   ],
   "source": [
    "await attcs.slew_object(name = \"NGC 4950\",  rot_sky= 0.0, slew_timeout=240.) "
   ]
  },
  {
   "cell_type": "code",
   "execution_count": 49,
   "metadata": {},
   "outputs": [
    {
     "data": {
      "text/plain": [
       "array([2020021800383])"
      ]
     },
     "execution_count": 49,
     "metadata": {},
     "output_type": "execute_result"
    }
   ],
   "source": [
    "await latiss.take_object(exptime=30., n=1, filter='empty_3',grating='ronchi90lpmm')"
   ]
  },
  {
   "cell_type": "code",
   "execution_count": 50,
   "metadata": {},
   "outputs": [
    {
     "name": "stderr",
     "output_type": "stream",
     "text": [
      "RemoteEvent(ATHeaderService, 0, logMessage) falling behind; read 56 messages\n",
      "RemoteEvent(ATHeaderService, 0, logMessage) falling behind; read 18 messages\n",
      "RemoteEvent(ATHeaderService, 0, logMessage) falling behind; read 29 messages\n",
      "RemoteEvent(ATHeaderService, 0, logMessage) falling behind; read 11 messages\n",
      "RemoteEvent(ATHeaderService, 0, logMessage) falling behind; read 30 messages\n",
      "RemoteEvent(ATHeaderService, 0, logMessage) falling behind; read 12 messages\n",
      "RemoteEvent(ATHeaderService, 0, logMessage) falling behind; read 18 messages\n",
      "RemoteEvent(ATHeaderService, 0, logMessage) falling behind; read 19 messages\n",
      "RemoteEvent(ATHeaderService, 0, logMessage) falling behind; read 10 messages\n",
      "RemoteEvent(ATHeaderService, 0, logMessage) falling behind; read 16 messages\n"
     ]
    },
    {
     "name": "stdout",
     "output_type": "stream",
     "text": [
      "The bias data id(s) are: [2020021800384 2020021800385 2020021800386 2020021800387 2020021800388\n",
      " 2020021800389 2020021800390 2020021800391 2020021800392 2020021800393]\n"
     ]
    }
   ],
   "source": [
    "bias_data_id_list = await latiss.take_bias(nbias=10)\n",
    "print ('The bias data id(s) are: ' + str(bias_data_id_list)) "
   ]
  },
  {
   "cell_type": "code",
   "execution_count": 52,
   "metadata": {},
   "outputs": [],
   "source": [
    "await attcs.enable()"
   ]
  },
  {
   "cell_type": "code",
   "execution_count": 53,
   "metadata": {},
   "outputs": [
    {
     "ename": "RuntimeError",
     "evalue": "Shutter Door state is 5. expected either 2 or 1",
     "output_type": "error",
     "traceback": [
      "\u001b[0;31m\u001b[0m",
      "\u001b[0;31mRuntimeError\u001b[0mTraceback (most recent call last)",
      "\u001b[0;32m<ipython-input-53-31b1abf8a67f>\u001b[0m in \u001b[0;36masync-def-wrapper\u001b[0;34m()\u001b[0m\n",
      "\u001b[0;32m~/repos/ts_standardscripts/python/lsst/ts/standardscripts/auxtel/attcs.py\u001b[0m in \u001b[0;36mshutdown\u001b[0;34m(self)\u001b[0m\n\u001b[1;32m    616\u001b[0m         \u001b[0mself\u001b[0m\u001b[0;34m.\u001b[0m\u001b[0mlog\u001b[0m\u001b[0;34m.\u001b[0m\u001b[0minfo\u001b[0m\u001b[0;34m(\u001b[0m\u001b[0;34m\"Close dome.\"\u001b[0m\u001b[0;34m)\u001b[0m\u001b[0;34m\u001b[0m\u001b[0;34m\u001b[0m\u001b[0m\n\u001b[1;32m    617\u001b[0m \u001b[0;34m\u001b[0m\u001b[0m\n\u001b[0;32m--> 618\u001b[0;31m         \u001b[0;32mawait\u001b[0m \u001b[0mself\u001b[0m\u001b[0;34m.\u001b[0m\u001b[0mclose_dome\u001b[0m\u001b[0;34m(\u001b[0m\u001b[0;34m)\u001b[0m\u001b[0;34m\u001b[0m\u001b[0;34m\u001b[0m\u001b[0m\n\u001b[0m\u001b[1;32m    619\u001b[0m \u001b[0;34m\u001b[0m\u001b[0m\n\u001b[1;32m    620\u001b[0m         \u001b[0mself\u001b[0m\u001b[0;34m.\u001b[0m\u001b[0mlog\u001b[0m\u001b[0;34m.\u001b[0m\u001b[0mdebug\u001b[0m\u001b[0;34m(\u001b[0m\u001b[0;34m\"Slew dome to Park position.\"\u001b[0m\u001b[0;34m)\u001b[0m\u001b[0;34m\u001b[0m\u001b[0;34m\u001b[0m\u001b[0m\n",
      "\u001b[0;32m~/repos/ts_standardscripts/python/lsst/ts/standardscripts/auxtel/attcs.py\u001b[0m in \u001b[0;36mclose_dome\u001b[0;34m(self)\u001b[0m\n\u001b[1;32m    695\u001b[0m             \u001b[0mself\u001b[0m\u001b[0;34m.\u001b[0m\u001b[0mlog\u001b[0m\u001b[0;34m.\u001b[0m\u001b[0minfo\u001b[0m\u001b[0;34m(\u001b[0m\u001b[0;34m\"ATDome Shutter Door is already closed. Ignoring.\"\u001b[0m\u001b[0;34m)\u001b[0m\u001b[0;34m\u001b[0m\u001b[0;34m\u001b[0m\u001b[0m\n\u001b[1;32m    696\u001b[0m         \u001b[0;32melse\u001b[0m\u001b[0;34m:\u001b[0m\u001b[0;34m\u001b[0m\u001b[0;34m\u001b[0m\u001b[0m\n\u001b[0;32m--> 697\u001b[0;31m             raise RuntimeError(f\"Shutter Door state is \"\n\u001b[0m\u001b[1;32m    698\u001b[0m                                \u001b[0;34mf\"{ATDome.ShutterDoorState(shutter_pos.state)}. \"\u001b[0m\u001b[0;34m\u001b[0m\u001b[0;34m\u001b[0m\u001b[0m\n\u001b[1;32m    699\u001b[0m                                \u001b[0;34mf\"expected either {ATDome.ShutterDoorState.OPENED} or \"\u001b[0m\u001b[0;34m\u001b[0m\u001b[0;34m\u001b[0m\u001b[0m\n",
      "\u001b[0;31mRuntimeError\u001b[0m: Shutter Door state is 5. expected either 2 or 1"
     ]
    }
   ],
   "source": [
    "await attcs.shutdown() "
   ]
  },
  {
   "cell_type": "code",
   "execution_count": null,
   "metadata": {},
   "outputs": [],
   "source": []
  }
 ],
 "metadata": {
  "kernelspec": {
   "display_name": "Python 3",
   "language": "python",
   "name": "python3"
  },
  "language_info": {
   "codemirror_mode": {
    "name": "ipython",
    "version": 3
   },
   "file_extension": ".py",
   "mimetype": "text/x-python",
   "name": "python",
   "nbconvert_exporter": "python",
   "pygments_lexer": "ipython3",
   "version": "3.7.2"
  }
 },
 "nbformat": 4,
 "nbformat_minor": 4
}
