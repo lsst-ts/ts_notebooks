{
 "cells": [
  {
   "cell_type": "code",
   "execution_count": null,
   "metadata": {},
   "outputs": [],
   "source": [
    "# This notebook just tests image display"
   ]
  },
  {
   "cell_type": "code",
   "execution_count": null,
   "metadata": {},
   "outputs": [],
   "source": [
    "import lsst.afw.display as afwDisplay\n",
    "import lsst.daf.persistence as dafPersist\n",
    "import os\n",
    "from matplotlib import pyplot as plt\n",
    "%matplotlib inline\n",
    "import time\n",
    "import numpy as np\n",
    "\n",
    "from lsst.ts import salobj\n",
    "import asyncio\n",
    "from lsst.ts.observatory.control.auxtel.latiss import LATISS\n",
    "from lsst.ts.observing.utilities.auxtel.latiss.utils import parse_visit_id, parse_obs_id"
   ]
  },
  {
   "cell_type": "code",
   "execution_count": null,
   "metadata": {},
   "outputs": [],
   "source": [
    "# for tab completion to work\n",
    "%config IPCompleter.use_jedi = False"
   ]
  },
  {
   "cell_type": "code",
   "execution_count": null,
   "metadata": {},
   "outputs": [],
   "source": [
    "from lsst.ts import salobj\n",
    "from lsst.ts import idl\n",
    "print(salobj.__file__)\n",
    "print(idl.__file__)\n",
    "print(salobj.__version__)\n",
    "print(idl.__version__)"
   ]
  },
  {
   "cell_type": "code",
   "execution_count": null,
   "metadata": {},
   "outputs": [],
   "source": [
    "print(os.environ[\"OSPL_URI\"])\n",
    "print(os.environ[\"LSST_DDS_PARTITION_PREFIX\"])"
   ]
  },
  {
   "cell_type": "code",
   "execution_count": null,
   "metadata": {},
   "outputs": [],
   "source": [
    "#get classes and start them\n",
    "domain = salobj.Domain()\n",
    "await asyncio.sleep(10) # This can be removed in the future...\n",
    "latiss = LATISS(domain)\n",
    "await asyncio.gather(latiss.start_task)"
   ]
  },
  {
   "cell_type": "code",
   "execution_count": null,
   "metadata": {},
   "outputs": [],
   "source": [
    "await latiss.enable()"
   ]
  },
  {
   "cell_type": "code",
   "execution_count": null,
   "metadata": {},
   "outputs": [],
   "source": [
    "tmp = await latiss.rem.atspectrograph.evt_heartbeat.next(flush=True)"
   ]
  },
  {
   "cell_type": "code",
   "execution_count": null,
   "metadata": {},
   "outputs": [],
   "source": [
    "tmp = await latiss.rem.atspectrograph.cmd_start.start()"
   ]
  },
  {
   "cell_type": "code",
   "execution_count": null,
   "metadata": {},
   "outputs": [],
   "source": [
    "tmp = await salobj.set_summary_state(latiss.rem.atspectrograph, salobj.State.ENABLED)"
   ]
  },
  {
   "cell_type": "code",
   "execution_count": null,
   "metadata": {},
   "outputs": [],
   "source": [
    "tmp = latiss.rem.atarchiver.evt_summaryState.get()\n",
    "print(salobj.State(tmp.summaryState))"
   ]
  },
  {
   "cell_type": "code",
   "execution_count": null,
   "metadata": {},
   "outputs": [],
   "source": [
    "# # Define a colon (:) separated playlist - files put in by Tony\n",
    "tmp = await latiss.rem.atcamera.cmd_playlist.set_start(playlist='test_take_sequence.dat', \n",
    "                                                       images='AT_O_20210218_000252',#:AT_O_20210218_000259', \n",
    "                                                       folder='emu2')"
   ]
  },
  {
   "cell_type": "code",
   "execution_count": null,
   "metadata": {},
   "outputs": [],
   "source": [
    "# # # Define a playlist - files put in by me\n",
    "# tmp = await latiss.rem.atcamera.cmd_playlist.set_start(playlist='test_pi.dat', #'latissAcquireAndTakeSequence_test_take_sequence.dat', \n",
    "#                                                        images='AT_O_20210121_000739:AT_O_20210121_000740:AT_O_20210121_000741:AT_O_20210121_000742:AT_O_20210121_000743', \n",
    "#                                                        folder='script_test_data3')"
   ]
  },
  {
   "cell_type": "code",
   "execution_count": null,
   "metadata": {},
   "outputs": [],
   "source": [
    "# # Define a playlist - files put in by me\n",
    "# tmp = await latiss.rem.atcamera.cmd_playlist.set_start(playlist='test.dat', #'latissAcquireAndTakeSequence_test_take_sequence.dat', \n",
    "#                                                        images='AT_O_20210121_000739     AT_O_20210121_000740',# AT_O_20210121_000741, AT_O_20210121_000742, AT_O_20210121_000743', \n",
    "#                                                        folder='script_test_data')"
   ]
  },
  {
   "cell_type": "code",
   "execution_count": null,
   "metadata": {},
   "outputs": [],
   "source": [
    "# Load a playlist\n",
    "tmp = await latiss.rem.atcamera.cmd_play.set_start(playlist='test_take_sequence.dat', repeat=True)\n",
    "#tmp = await latiss.rem.atcamera.cmd_play.set_start(playlist='test_pi.dat')\""
   ]
  },
  {
   "cell_type": "code",
   "execution_count": null,
   "metadata": {},
   "outputs": [],
   "source": [
    "#tmp = await latiss.rem.atcamera.cmd_takeImages.set_start(numImages=1, expTime=1, keyValueMap='groupId: asdfasdf, imageType:object')"
   ]
  },
  {
   "cell_type": "code",
   "execution_count": null,
   "metadata": {},
   "outputs": [],
   "source": [
    "tmp2 = latiss.rem.atcamera.evt_endReadout.flush()\n",
    "tmp2 = latiss.rem.atarchiver.evt_imageInOODS.flush()\n",
    "exptime=1\n",
    "tmp = await latiss.take_object(exptime=exptime)\n",
    "print('done')"
   ]
  },
  {
   "cell_type": "code",
   "execution_count": null,
   "metadata": {},
   "outputs": [],
   "source": [
    "evt = await latiss.rem.atarchiver.evt_imageInOODS.next(flush=False, timeout=exptime+10)\n",
    "print(evt)"
   ]
  },
  {
   "cell_type": "code",
   "execution_count": null,
   "metadata": {},
   "outputs": [],
   "source": []
  },
  {
   "cell_type": "code",
   "execution_count": null,
   "metadata": {},
   "outputs": [],
   "source": [
    "evt.obsid"
   ]
  },
  {
   "cell_type": "code",
   "execution_count": null,
   "metadata": {},
   "outputs": [],
   "source": [
    "# Want to display in firefly?\n",
    "afwDisplay.setDefaultBackend('firefly')\n",
    "os.environ['FIREFLY_HTML'] = \"slate.html\"\n",
    "os.environ['FIREFLY_URL'] = 'http://139.229.170.210:8080/firefly/'\n",
    "#os.environ['FIREFLY_URL'] = 'https://lsst-nts-k8s.ncsa.illinois.edu/portal/app/' # 'http://139.229.170.210:8080/firefly/'"
   ]
  },
  {
   "cell_type": "code",
   "execution_count": null,
   "metadata": {},
   "outputs": [],
   "source": [
    "plt.close('all')\n",
    "disp = afwDisplay.Display(2, reopenPlot=True, verbose=True, name='PatrickFireFly')\n",
    "# Print the link\n",
    "disp.getClient().display_url()"
   ]
  },
  {
   "cell_type": "code",
   "execution_count": null,
   "metadata": {},
   "outputs": [],
   "source": [
    "#datapath = '/project/shared/auxTel/' # for summit images\n",
    "datapath = '/lsstdata/offline/teststand/NCSA_auxTel/gen2repo'\n",
    "repo = os.path.join(datapath)#, mapper={'calibRoot': \"/home/saluser/ingest/dmcs/CALIB\"})\n",
    "butler = dafPersist.Butler(repo)"
   ]
  },
  {
   "cell_type": "code",
   "execution_count": null,
   "metadata": {},
   "outputs": [],
   "source": [
    "# # # Custom frame\n",
    "# dayObs = \"2021-02-18\"\n",
    "# seqNum = \"212\"\n",
    "# dataId = dict(dayObs=dayObs, seqNum=seqNum)\n",
    "# dataset='raw'\n",
    "# before = time.time()\n",
    "# exp = butler.get(dataset, dataId)\n",
    "# after = time.time()\n",
    "# print(f'Time to run was: {after-before:0.1f} seconds')"
   ]
  },
  {
   "cell_type": "code",
   "execution_count": null,
   "metadata": {},
   "outputs": [],
   "source": [
    "from lsst.rapid.analysis import BestEffortIsr\n",
    "bestEffort = BestEffortIsr(datapath)\n",
    "bestEffort.writePostIsrImages = False  # Don't write to butler database"
   ]
  },
  {
   "cell_type": "code",
   "execution_count": null,
   "metadata": {},
   "outputs": [],
   "source": [
    "# dataId=parse_visit_id(tmp[0])\n",
    "source, controller, dayObs, seqNum =parse_obs_id(evt.obsid)\n",
    "dataId=dict(dayObs=dayObs, seqNum=seqNum)\n",
    "print(dataId)"
   ]
  },
  {
   "cell_type": "code",
   "execution_count": null,
   "metadata": {},
   "outputs": [],
   "source": [
    "before = time.time()\n",
    "dataset='raw'\n",
    "exp = butler.get(dataset, dataId)\n",
    "#exp = bestEffort.getExposure(dataId)\n",
    "after = time.time()\n",
    "print(f'Time to run was: {after-before:0.1f} seconds')"
   ]
  },
  {
   "cell_type": "code",
   "execution_count": null,
   "metadata": {},
   "outputs": [],
   "source": [
    "exp.image.array"
   ]
  },
  {
   "cell_type": "code",
   "execution_count": null,
   "metadata": {},
   "outputs": [],
   "source": [
    "plt.imshow(exp.image.array)\n",
    "#plt.show()"
   ]
  },
  {
   "cell_type": "code",
   "execution_count": null,
   "metadata": {},
   "outputs": [],
   "source": [
    "import numpy as np\n",
    "med=np.median(exp.image.array)\n",
    "print(f'Median is {med} ADU')"
   ]
  },
  {
   "cell_type": "code",
   "execution_count": null,
   "metadata": {},
   "outputs": [],
   "source": [
    "p1=(2500,2500)\n",
    "p2=(2600,2600)\n",
    "print(f'pixels 2500,2500 and 2600,2600 are {exp.image.array[p1]} and {exp.image.array[p2]}')"
   ]
  },
  {
   "cell_type": "code",
   "execution_count": null,
   "metadata": {},
   "outputs": [],
   "source": [
    "print(f'p2-p1 is {exp.image.array[p2]-exp.image.array[p1]}')"
   ]
  },
  {
   "cell_type": "code",
   "execution_count": null,
   "metadata": {},
   "outputs": [],
   "source": [
    "import struct\n",
    "def double_to_hex(f):\n",
    "    return hex(struct.unpack('<Q', struct.pack('<d', f))[0])"
   ]
  },
  {
   "cell_type": "code",
   "execution_count": null,
   "metadata": {},
   "outputs": [],
   "source": [
    "print(double_to_hex(exp.image.array[p2]))\n",
    "print(double_to_hex(exp.image.array[p1]))"
   ]
  },
  {
   "cell_type": "code",
   "execution_count": null,
   "metadata": {},
   "outputs": [],
   "source": [
    "# hdr0=exp.getInfo()\n",
    "# hdr_meta=exp.getMetadata()\n",
    "# print(hdr_meta)"
   ]
  },
  {
   "cell_type": "code",
   "execution_count": null,
   "metadata": {},
   "outputs": [],
   "source": []
  },
  {
   "cell_type": "code",
   "execution_count": null,
   "metadata": {},
   "outputs": [],
   "source": [
    "if True: # display the image in firefly\n",
    "    #plt.close('all')\n",
    "    #disp = afwDisplay.Display(2, reopenPlot=True)\n",
    "    disp.setMaskPlaneColor('SAT', afwDisplay.IGNORE)\n",
    "    disp.setImageColormap('gray')\n",
    "    disp.scale('linear', 'zscale')\n",
    "    disp.mtv(exp, title='dayobs = {}, seqNum = {}'.format(dayObs,seqNum))\n",
    "    #cgUtils.overlayCcdBoxes(isr_corr_exposure.getDetector(), isTrimmed=True, display=disp)"
   ]
  },
  {
   "cell_type": "code",
   "execution_count": null,
   "metadata": {},
   "outputs": [],
   "source": []
  },
  {
   "cell_type": "code",
   "execution_count": null,
   "metadata": {},
   "outputs": [],
   "source": []
  },
  {
   "cell_type": "code",
   "execution_count": null,
   "metadata": {},
   "outputs": [],
   "source": []
  },
  {
   "cell_type": "code",
   "execution_count": null,
   "metadata": {},
   "outputs": [],
   "source": [
    "import time\n",
    "import lsst.daf.persistence as dafPersist\n",
    "butler = dafPersist.Butler('/project/shared/auxTel/')\n",
    "dataId = {'dayObs': '2020-03-12', 'seqNum': 197}\n",
    "for i in range(10):\n",
    "    before = time.time()\n",
    "    raw = butler.get('raw', **dataId)\n",
    "    dt = time.time() - before\n",
    "    print(f'Time = {dt:.2f}s')"
   ]
  },
  {
   "cell_type": "code",
   "execution_count": null,
   "metadata": {},
   "outputs": [],
   "source": [
    "tmp = butler.get('raw_filename', **dataId)"
   ]
  },
  {
   "cell_type": "code",
   "execution_count": null,
   "metadata": {},
   "outputs": [],
   "source": [
    "tmp"
   ]
  },
  {
   "cell_type": "code",
   "execution_count": null,
   "metadata": {},
   "outputs": [],
   "source": [
    "2*3.14*(0.03)*30"
   ]
  },
  {
   "cell_type": "code",
   "execution_count": null,
   "metadata": {},
   "outputs": [],
   "source": []
  }
 ],
 "metadata": {
  "kernelspec": {
   "display_name": "LSST",
   "language": "python",
   "name": "lsst"
  },
  "language_info": {
   "codemirror_mode": {
    "name": "ipython",
    "version": 3
   },
   "file_extension": ".py",
   "mimetype": "text/x-python",
   "name": "python",
   "nbconvert_exporter": "python",
   "pygments_lexer": "ipython3",
   "version": "3.8.8"
  }
 },
 "nbformat": 4,
 "nbformat_minor": 4
}
