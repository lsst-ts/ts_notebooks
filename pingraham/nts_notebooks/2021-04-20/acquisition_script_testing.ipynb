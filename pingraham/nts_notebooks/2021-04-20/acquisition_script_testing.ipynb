{
 "cells": [
  {
   "cell_type": "code",
   "execution_count": null,
   "id": "b973dbd7",
   "metadata": {},
   "outputs": [],
   "source": [
    "import os\n",
    "import sys\n",
    "import asyncio\n",
    "import time\n",
    "\n",
    "import numpy as np\n",
    "import logging \n",
    "import yaml\n",
    "import matplotlib.pyplot as plt\n",
    "import astropy\n",
    "\n",
    "from lsst.ts import salobj\n",
    "from lsst.ts.externalscripts.auxtel.latiss_acquire_and_take_sequence import LatissAcquireAndTakeSequence\n",
    "\n",
    "from lsst.ts.idl.enums.Script import ScriptState"
   ]
  },
  {
   "cell_type": "code",
   "execution_count": null,
   "id": "b9281955",
   "metadata": {},
   "outputs": [],
   "source": [
    "# set magnitude reference for acquisitions\n",
    "base_mag = 5.3\n",
    "base_mag_acq_exp_time = 0.5\n",
    "base_mag_seq_exp_time = 10"
   ]
  },
  {
   "cell_type": "code",
   "execution_count": null,
   "id": "95676da2",
   "metadata": {},
   "outputs": [],
   "source": [
    "class target():\n",
    "    name = \"HD 164461\"\n",
    "    mag = 5.3\n",
    "class cwfs_target():\n",
    "    name = \"HD 164461\"\n",
    "    mag = 5.3"
   ]
  },
  {
   "cell_type": "code",
   "execution_count": null,
   "id": "66f4e270",
   "metadata": {},
   "outputs": [],
   "source": [
    "print(os.environ[\"OSPL_URI\"])\n",
    "print(os.environ[\"LSST_DDS_PARTITION_PREFIX\"])"
   ]
  },
  {
   "cell_type": "code",
   "execution_count": null,
   "id": "707a0235",
   "metadata": {},
   "outputs": [],
   "source": [
    "# for autocompleted to work\n",
    "%config IPCompleter.use_jedi = False"
   ]
  },
  {
   "cell_type": "code",
   "execution_count": null,
   "id": "b5da1436",
   "metadata": {},
   "outputs": [],
   "source": [
    "stream_handler = logging.StreamHandler(sys.stdout)\n",
    "# if you want logging\n",
    "logger = logging.getLogger()\n",
    "logger.addHandler(stream_handler)\n",
    "logger.level = logging.DEBUG\n",
    "\n",
    "# turn off logging for matplotlib\n",
    "mpl_logger = logging.getLogger('matplotlib')\n",
    "mpl_logger.setLevel(logging.WARNING)"
   ]
  },
  {
   "cell_type": "code",
   "execution_count": null,
   "id": "e2bcf7ad",
   "metadata": {},
   "outputs": [],
   "source": [
    "# make sure all remotes etc are running\n",
    "script = LatissAcquireAndTakeSequence(index=1)  # this essentially calls the init method of the script\n",
    "await script.start_task"
   ]
  },
  {
   "cell_type": "code",
   "execution_count": null,
   "id": "6a45960f",
   "metadata": {},
   "outputs": [],
   "source": [
    "# scale exposure times to magnitude\n",
    "acq_exposure_time = base_mag_acq_exp_time * 10.0**((target.mag-base_mag)/2.5) # seconds\n",
    "seq_exposure_time = base_mag_seq_exp_time * 10.0**((target.mag-base_mag)/2.5)"
   ]
  },
  {
   "cell_type": "code",
   "execution_count": null,
   "id": "ffeb448d",
   "metadata": {},
   "outputs": [],
   "source": [
    "# Impose lower limits on exposure times\n",
    "if acq_exposure_time < 0.3:\n",
    "    acq_exposure_time = 0.3\n",
    "if seq_exposure_time < 5.0:\n",
    "    seq_exposure_time = 5.0"
   ]
  },
  {
   "cell_type": "code",
   "execution_count": null,
   "id": "1b5aad86",
   "metadata": {},
   "outputs": [],
   "source": [
    "print(f'Acquisition exposure time is {acq_exposure_time:0.2f} [s]')\n",
    "print(f'Ronchi exposure time is {seq_exposure_time:0.2f} [s]')"
   ]
  },
  {
   "cell_type": "code",
   "execution_count": null,
   "id": "813ffb2b",
   "metadata": {},
   "outputs": [],
   "source": [
    "# Make a list of exposures of length corresponding to the number of images/filters/gratings etc.\n",
    "exposure_time_sequence = [seq_exposure_time]*7\n",
    "exposure_time_sequence.append(1.0)"
   ]
  },
  {
   "cell_type": "code",
   "execution_count": null,
   "id": "86a7fe58",
   "metadata": {},
   "outputs": [],
   "source": [
    "seq_yaml = yaml.safe_dump({\"object_name\": target.name,\n",
    "                                \"do_acquire\": True,\n",
    "                                \"acq_filter\" : 'RG610',\n",
    "                                \"acq_grating\" : 'empty_1', \n",
    "                                \"acq_exposure_time\": acq_exposure_time ,\n",
    "                                \"max_acq_iter\": 3,\n",
    "                                \"do_take_sequence\": True,\n",
    "#                                 \"exposure_time_sequence\" : [15,15,15,15,\n",
    "#                                                             15,15,15, 1], \n",
    "                                \"exposure_time_sequence\" : exposure_time_sequence, \n",
    "                                \"filter_sequence\": ['RG610', 'RG610', 'RG610', 'RG610',\n",
    "                                                    'RG610', 'empty_1', 'empty_1', 'RG610'], \n",
    "                                    # RG610 and Ronchi\n",
    "                                \"grating_sequence\": ['ronchi90lpmm', 'ronchi90lpmm','ronchi90lpmm','ronchi90lpmm',\n",
    "                                                     'ronchi90lpmm', 'empty_1', 'empty_1', 'empty_1'],\n",
    "                                \"do_pointing_model\": False,\n",
    "                                \"dataPath\": '/project/shared/auxTel/rerun/quickLook',\n",
    "                                \"target_pointing_verification\": False})\n",
    "print(seq_yaml)"
   ]
  },
  {
   "cell_type": "code",
   "execution_count": null,
   "id": "b47cd170",
   "metadata": {},
   "outputs": [],
   "source": [
    "# Set script state to UNCONFIGURED\n",
    "# this is required to run the script a 2nd time but otherwise is a no-op\n",
    "script.set_state(ScriptState.UNCONFIGURED)\n",
    "# Configure the script, which puts the ScriptState to CONFIGURED\n",
    "seq_configuration = script.cmd_configure.DataType()\n",
    "seq_configuration.config = seq_yaml\n",
    "await script.do_configure(seq_configuration)"
   ]
  },
  {
   "cell_type": "code",
   "execution_count": null,
   "id": "6c06a96a",
   "metadata": {},
   "outputs": [],
   "source": [
    "# ATAOS must be on and corrections enabled, do as follows if required\n",
    "# await script.atcs.rem.ataos.cmd_enableCorrection.set_start(m1=True, hexapod=True, atspectrograph=True)"
   ]
  },
  {
   "cell_type": "code",
   "execution_count": null,
   "id": "8b1fda1a",
   "metadata": {},
   "outputs": [],
   "source": [
    "# get group_id_data that will be used for all images for this target\n",
    "time_for_groupID=astropy.time.Time.now().isot\n",
    "group_id_data = script.cmd_setGroupId.DataType(\n",
    "                groupId=time_for_groupID\n",
    "            )\n",
    "await script.do_setGroupId(group_id_data)"
   ]
  },
  {
   "cell_type": "code",
   "execution_count": null,
   "id": "48723713",
   "metadata": {},
   "outputs": [],
   "source": [
    "# run acquisition script\n",
    "run_acq = script.cmd_run.DataType()\n",
    "await script.do_run(run_acq)\n",
    "await script.done_task"
   ]
  },
  {
   "cell_type": "code",
   "execution_count": null,
   "id": "b8412af1",
   "metadata": {},
   "outputs": [],
   "source": [
    "await script.atcs.stop_tracking()"
   ]
  }
 ],
 "metadata": {
  "kernelspec": {
   "display_name": "LSST",
   "language": "python",
   "name": "lsst"
  },
  "language_info": {
   "codemirror_mode": {
    "name": "ipython",
    "version": 3
   },
   "file_extension": ".py",
   "mimetype": "text/x-python",
   "name": "python",
   "nbconvert_exporter": "python",
   "pygments_lexer": "ipython3",
   "version": "3.8.8"
  }
 },
 "nbformat": 4,
 "nbformat_minor": 5
}
