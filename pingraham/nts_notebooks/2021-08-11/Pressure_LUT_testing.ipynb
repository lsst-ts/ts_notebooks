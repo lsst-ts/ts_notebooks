{
 "cells": [
  {
   "cell_type": "code",
   "execution_count": null,
   "id": "3a51ae3e",
   "metadata": {},
   "outputs": [],
   "source": [
    "import sys\n",
    "import asyncio\n",
    "import time\n",
    "import os\n",
    "\n",
    "import numpy as np\n",
    "\n",
    "from lsst.ts import salobj\n",
    "\n",
    "from lsst.ts.observatory.control.auxtel.atcs import ATCS\n",
    "from lsst.ts.observatory.control.auxtel.latiss import LATISS\n",
    "\n",
    "from lsst.ts.observatory.control.utils import RotType"
   ]
  },
  {
   "cell_type": "code",
   "execution_count": null,
   "id": "8bb51574",
   "metadata": {},
   "outputs": [],
   "source": [
    "# for tab completion to work\n",
    "%config IPCompleter.use_jedi = False"
   ]
  },
  {
   "cell_type": "code",
   "execution_count": null,
   "id": "d97efda7",
   "metadata": {},
   "outputs": [],
   "source": [
    "import logging\n",
    "stream_handler = logging.StreamHandler(sys.stdout)\n",
    "logger = logging.getLogger()\n",
    "logger.addHandler(stream_handler)\n",
    "logger.level = logging.DEBUG"
   ]
  },
  {
   "cell_type": "code",
   "execution_count": null,
   "id": "4b1d896d",
   "metadata": {},
   "outputs": [],
   "source": [
    "print(os.environ[\"OSPL_URI\"])\n",
    "print(os.environ[\"LSST_DDS_PARTITION_PREFIX\"])"
   ]
  },
  {
   "cell_type": "code",
   "execution_count": null,
   "id": "e3bda15a",
   "metadata": {},
   "outputs": [],
   "source": [
    "#get classes and start them\n",
    "domain = salobj.Domain()"
   ]
  },
  {
   "cell_type": "code",
   "execution_count": null,
   "id": "bd9e14d9",
   "metadata": {},
   "outputs": [],
   "source": [
    "atcs = ATCS(domain)\n",
    "#latiss = LATISS(domain)\n",
    "await asyncio.gather(atcs.start_task,)# latiss.start_task)"
   ]
  },
  {
   "cell_type": "code",
   "execution_count": null,
   "id": "6d7587ea",
   "metadata": {},
   "outputs": [],
   "source": [
    "await atcs.enable()"
   ]
  },
  {
   "cell_type": "code",
   "execution_count": null,
   "id": "11479e34",
   "metadata": {},
   "outputs": [],
   "source": [
    "tmp=await atcs.rem.ataos.evt_settingsApplied.aget()\n",
    "print(tmp)"
   ]
  },
  {
   "cell_type": "code",
   "execution_count": null,
   "id": "3e8a7009",
   "metadata": {},
   "outputs": [],
   "source": [
    "# ATAOS\n",
    "tmp = await salobj.set_summary_state(atcs.rem.ataos, salobj.State.ENABLED, settingsToApply='m1_hex_20210810_v3.yaml')\n",
    "#tmp=await atcs.rem.ataos.cmd_enable.start()"
   ]
  },
  {
   "cell_type": "code",
   "execution_count": null,
   "id": "ec093b04",
   "metadata": {},
   "outputs": [],
   "source": [
    "tmp=await atcs.rem.ataos.evt_settingsApplied.aget()\n",
    "print(tmp)"
   ]
  },
  {
   "cell_type": "code",
   "execution_count": null,
   "id": "8451768d",
   "metadata": {},
   "outputs": [],
   "source": [
    "tmp = atcs.rem.ataos.evt_summaryState.get()\n",
    "print(salobj.State(tmp.summaryState))"
   ]
  },
  {
   "cell_type": "code",
   "execution_count": null,
   "id": "03573c1d",
   "metadata": {},
   "outputs": [],
   "source": [
    "# the following is the current LUT parameters\n",
    "fit_z=np.array([ 114351.58620133, -220485.72530885,  278187.27268067,\n",
    "        -48810.10245923])\n",
    "poly_z = np.poly1d(fit_z)"
   ]
  },
  {
   "cell_type": "code",
   "execution_count": null,
   "id": "f52f50ee",
   "metadata": {},
   "outputs": [],
   "source": [
    "# turn on corrections\n",
    "tmp = await atcs.rem.ataos.cmd_enableCorrection.set_start(m1=True, hexapod=True, atspectrograph=False)"
   ]
  },
  {
   "cell_type": "code",
   "execution_count": null,
   "id": "47de6fe8",
   "metadata": {},
   "outputs": [],
   "source": [
    "start_az=0\n",
    "start_el=83\n",
    "start_rot_pa=13.1\n",
    "await atcs.point_azel(start_az, start_el, rot_tel=start_rot_pa, wait_dome=False)"
   ]
  },
  {
   "cell_type": "code",
   "execution_count": null,
   "id": "b7b8bf0b",
   "metadata": {},
   "outputs": [],
   "source": [
    "tmp = await atcs.rem.atpneumatics.tel_m1AirPressure.next(flush=True, timeout=5)\n",
    "print(f'Measured pressure is {tmp.pressure:0.3f}')\n",
    "pressure_fit=poly_z(np.cos(np.radians(90. - start_el)))\n",
    "print(f'The theoretical value is {pressure_fit:0.3f}')"
   ]
  },
  {
   "cell_type": "code",
   "execution_count": null,
   "id": "76ff2e9c",
   "metadata": {},
   "outputs": [],
   "source": [
    "start_az=0\n",
    "start_el=86\n",
    "start_rot_pa=13.1\n",
    "await atcs.point_azel(start_az, start_el, rot_tel=start_rot_pa, wait_dome=False)"
   ]
  },
  {
   "cell_type": "code",
   "execution_count": null,
   "id": "192182f1",
   "metadata": {},
   "outputs": [],
   "source": [
    "tmp = await atcs.rem.atpneumatics.tel_m1AirPressure.next(flush=True, timeout=5)\n",
    "print(f'Measured pressure is {tmp.pressure:0.3f}')\n",
    "pressure_fit=poly_z(np.cos(np.radians(90. - start_el)))\n",
    "print(f'The theoretical value is {pressure_fit:0.3f}')"
   ]
  },
  {
   "cell_type": "code",
   "execution_count": null,
   "id": "410e090f",
   "metadata": {},
   "outputs": [],
   "source": [
    "start_az=0\n",
    "start_el=90\n",
    "start_rot_pa=13.1\n",
    "await atcs.point_azel(start_az, start_el, rot_tel=start_rot_pa, wait_dome=False)"
   ]
  },
  {
   "cell_type": "code",
   "execution_count": null,
   "id": "2d458f81",
   "metadata": {},
   "outputs": [],
   "source": [
    "tmp = await atcs.rem.atpneumatics.tel_m1AirPressure.next(flush=True, timeout=5)\n",
    "print(f'Measured pressure is {tmp.pressure:0.3f}')\n",
    "pressure_fit=poly_z(np.cos(np.radians(90. - start_el)))\n",
    "print(f'The theoretical value is {pressure_fit:0.3f}')"
   ]
  },
  {
   "cell_type": "code",
   "execution_count": null,
   "id": "7bf90cbe",
   "metadata": {},
   "outputs": [],
   "source": [
    "start_az=0\n",
    "start_el=25\n",
    "start_rot_pa=13.1\n",
    "await atcs.point_azel(start_az, start_el, rot_tel=start_rot_pa, wait_dome=False)"
   ]
  },
  {
   "cell_type": "code",
   "execution_count": null,
   "id": "472b0f5e",
   "metadata": {},
   "outputs": [],
   "source": [
    "tmp = await atcs.rem.atpneumatics.tel_m1AirPressure.next(flush=True, timeout=5)\n",
    "print(f'Measured pressure is {tmp.pressure:0.3f}')\n",
    "pressure_fit=poly_z(np.cos(np.radians(90. - start_el)))\n",
    "print(f'The theoretical value is {pressure_fit:0.3f}')"
   ]
  },
  {
   "cell_type": "code",
   "execution_count": null,
   "id": "970017d0",
   "metadata": {},
   "outputs": [],
   "source": [
    "start_az=0\n",
    "start_el=15\n",
    "start_rot_pa=13.1\n",
    "await atcs.point_azel(start_az, start_el, rot_tel=start_rot_pa, wait_dome=False)"
   ]
  },
  {
   "cell_type": "code",
   "execution_count": null,
   "id": "934ae686",
   "metadata": {},
   "outputs": [],
   "source": [
    "tmp = await atcs.rem.atpneumatics.tel_m1AirPressure.next(flush=True, timeout=5)\n",
    "print(f'Measured pressure is {tmp.pressure:0.3f}')\n",
    "pressure_fit=poly_z(np.cos(np.radians(90. - start_el)))\n",
    "print(f'The theoretical value is {pressure_fit:0.3f}')"
   ]
  },
  {
   "cell_type": "code",
   "execution_count": null,
   "id": "7f6263a9",
   "metadata": {},
   "outputs": [],
   "source": [
    "await atcs.shutdown()"
   ]
  },
  {
   "cell_type": "code",
   "execution_count": null,
   "id": "6fa2f29e",
   "metadata": {},
   "outputs": [],
   "source": []
  }
 ],
 "metadata": {
  "kernelspec": {
   "display_name": "LSST",
   "language": "python",
   "name": "lsst"
  },
  "language_info": {
   "codemirror_mode": {
    "name": "ipython",
    "version": 3
   },
   "file_extension": ".py",
   "mimetype": "text/x-python",
   "name": "python",
   "nbconvert_exporter": "python",
   "pygments_lexer": "ipython3",
   "version": "3.8.8"
  }
 },
 "nbformat": 4,
 "nbformat_minor": 5
}
