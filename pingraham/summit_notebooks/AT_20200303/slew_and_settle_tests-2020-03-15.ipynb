{
 "cells": [
  {
   "cell_type": "code",
   "execution_count": null,
   "metadata": {},
   "outputs": [],
   "source": [
    "import sys\n",
    "import asyncio\n",
    "import time\n",
    "\n",
    "import numpy as np\n",
    "\n",
    "from lsst.ts import salobj\n",
    "\n",
    "from lsst.ts.standardscripts.auxtel.attcs import ATTCS\n",
    "from lsst.ts.standardscripts.auxtel.latiss import LATISS"
   ]
  },
  {
   "cell_type": "code",
   "execution_count": null,
   "metadata": {},
   "outputs": [],
   "source": [
    "# Temporarily needed to run at summit\n",
    "import os\n",
    "os.environ[\"LSST_DDS_DOMAIN\"] = 'lsatmcs'\n",
    "os.environ[\"OSPL_URI\"] = \"file:///home/patrickingraham/ospl.xml\""
   ]
  },
  {
   "cell_type": "code",
   "execution_count": null,
   "metadata": {},
   "outputs": [],
   "source": [
    "import logging\n",
    "stream_handler = logging.StreamHandler(sys.stdout)\n",
    "logger = logging.getLogger()\n",
    "logger.addHandler(stream_handler)\n",
    "logger.level = logging.DEBUG"
   ]
  },
  {
   "cell_type": "code",
   "execution_count": null,
   "metadata": {},
   "outputs": [],
   "source": [
    "#get classes and start them\n",
    "domain = salobj.Domain()\n",
    "attcs = ATTCS(domain)\n",
    "latiss = LATISS(domain)\n",
    "await asyncio.gather(attcs.start_task, latiss.start_task)"
   ]
  },
  {
   "cell_type": "code",
   "execution_count": 5,
   "metadata": {},
   "outputs": [],
   "source": [
    "# enable components\n",
    "#await attcs.enable()\n",
    "#await latiss.enable()"
   ]
  },
  {
   "cell_type": "code",
   "execution_count": 6,
   "metadata": {},
   "outputs": [],
   "source": [
    "# take event checking out the slew commands to test telescope only\n",
    "attcs.check.atdome = False\n",
    "attcs.check.atdometrajectory = False"
   ]
  },
  {
   "cell_type": "code",
   "execution_count": 7,
   "metadata": {},
   "outputs": [
    {
     "name": "stdout",
     "output_type": "stream",
     "text": [
      "RemoteTelemetry(ATPtg, 0, currentTargetStatus) falling behind; read 33 messages\n",
      "RemoteEvent(ATMCS, 0, target) falling behind; read 49 messages\n"
     ]
    }
   ],
   "source": [
    "# send telescope to alt/az/\n",
    "#await salobj.set_summary_state(latiss.atcamera, salobj.State.ENABLED)"
   ]
  },
  {
   "cell_type": "code",
   "execution_count": 8,
   "metadata": {},
   "outputs": [
    {
     "name": "stdout",
     "output_type": "stream",
     "text": [
      "Sending command\n",
      "Stop tracking.\n",
      "Mount tracking state is 9\n",
      "Tracking state: 10.\n",
      "Tracking state: 8.\n",
      "In Position: True.\n",
      "In Position: False.\n",
      "Scheduling check coroutines\n",
      "process as completed...\n",
      "atmcs: <State.ENABLED: 2>\n",
      "atptg: <State.ENABLED: 2>\n",
      "ataos: <State.ENABLED: 2>\n",
      "atpneumatics: <State.ENABLED: 2>\n",
      "athexapod: <State.ENABLED: 2>\n",
      "atdome: <State.ENABLED: 2>\n",
      "atdometrajectory: <State.ENABLED: 2>\n",
      "[Telescope] delta Alt = -038.837 | delta Az = -000.581 delta N1 = +000.000 delta N2 = +032.843 [Dome] delta Az = +003.060\n",
      "[Telescope] delta Alt = -035.585 | delta Az = -000.001 delta N1 = +000.000 delta N2 = +027.621 [Dome] delta Az = +003.060\n",
      "[Telescope] delta Alt = -029.588 | delta Az = +000.000 delta N1 = +000.000 delta N2 = +021.717 [Dome] delta Az = +003.060\n",
      "[Telescope] delta Alt = -023.624 | delta Az = +000.000 delta N1 = +000.000 delta N2 = +016.140 [Dome] delta Az = +003.060\n",
      "[Telescope] delta Alt = -017.847 | delta Az = +000.000 delta N1 = +000.000 delta N2 = +011.128 [Dome] delta Az = +003.060\n",
      "[Telescope] delta Alt = -012.510 | delta Az = +000.000 delta N1 = +000.000 delta N2 = +006.930 [Dome] delta Az = +003.060\n",
      "[Telescope] delta Alt = -007.904 | delta Az = +000.000 delta N1 = +000.000 delta N2 = +003.702 [Dome] delta Az = +003.060\n",
      "[Telescope] delta Alt = -004.278 | delta Az = +000.000 delta N1 = +000.000 delta N2 = +002.146 [Dome] delta Az = +003.060\n",
      "[Telescope] delta Alt = -002.491 | delta Az = +000.000 delta N1 = +000.000 delta N2 = +000.673 [Dome] delta Az = +003.060\n",
      "[Telescope] delta Alt = -000.782 | delta Az = +000.000 delta N1 = +000.000 delta N2 = +000.198 [Dome] delta Az = +003.060\n",
      "[Telescope] delta Alt = -000.228 | delta Az = +000.000 delta N1 = +000.000 delta N2 = +000.001 [Dome] delta Az = +003.060\n",
      "[Telescope] delta Alt = -000.003 | delta Az = +000.000 delta N1 = +000.000 delta N2 = -000.000 [Dome] delta Az = +003.060\n",
      "Axes in position.\n",
      "None\n"
     ]
    }
   ],
   "source": [
    "# point telescope to desired starting position\n",
    "# this make take extra time as more checks are performed\n",
    "start_az=50\n",
    "start_el=20\n",
    "start_rot_pa=0\n",
    "await attcs.point_azel(start_az, start_el, rot_pa=start_rot_pa, wait_dome=True)"
   ]
  },
  {
   "cell_type": "code",
   "execution_count": 9,
   "metadata": {},
   "outputs": [],
   "source": [
    "#declare offset size\n",
    "d_az= 3.5 # degrees\n",
    "d_el = 3.5 # degrees\n",
    "d_rot= 3.5 # degrees\n",
    "\n",
    "d_az= 10 # degrees\n",
    "d_el = 10 # degrees\n",
    "d_rot= 10 # degrees\n",
    "\n",
    "d_az= 90 # degrees\n",
    "d_el = 60 # degrees\n",
    "d_rot= 90 # degrees"
   ]
  },
  {
   "cell_type": "code",
   "execution_count": 10,
   "metadata": {},
   "outputs": [],
   "source": [
    "from astropy.time import Time\n",
    "from astropy.coordinates import AltAz, ICRS, EarthLocation, Angle, FK5\n",
    "import astropy.units as u\n",
    "location = EarthLocation.from_geodetic(lon=-70.747698*u.deg,\n",
    "                                       lat=-30.244728*u.deg,\n",
    "                                       height=2663.0*u.m)"
   ]
  },
  {
   "cell_type": "code",
   "execution_count": 11,
   "metadata": {},
   "outputs": [
    {
     "name": "stdout",
     "output_type": "stream",
     "text": [
      "orig az 50.0 deg and el 20.0 deg\n",
      "Current Position is: \n",
      " <AltAz Coordinate (obstime=58924.32528101147, location=(1819093.56876225, -5208411.6827961, -3195180.61110659) m, pressure=0.0 hPa, temperature=0.0 deg_C, relative_humidity=0.0, obswl=1.0 micron): (az, alt) in deg\n",
      "    (50., 20.)>\n",
      "Current Position is: \n",
      " <ICRS Coordinate: (ra, dec) in deg\n",
      "    (270.54903191, 20.46133049)>\n",
      "target az 140.0 deg and el 80.0 deg\n",
      "Target Position is: \n",
      " <AltAz Coordinate (obstime=58924.32528101147, location=(1819093.56876225, -5208411.6827961, -3195180.61110659) m, pressure=0.0 hPa, temperature=0.0 deg_C, relative_humidity=0.0, obswl=1.0 micron): (az, alt) in deg\n",
      "    (140., 80.)>\n",
      "Target Position is: \n",
      " <ICRS Coordinate: (ra, dec) in deg\n",
      "    (228.34246068, -37.58622495)>\n",
      "RemoteEvent(ATDomeTrajectory, 0, logMessage) falling behind; read 23 messages\n",
      "RemoteEvent(ATMCS, 0, target) falling behind; read 22 messages\n"
     ]
    }
   ],
   "source": [
    "# get RA/DEC of current position\n",
    "az = Angle(start_az, unit=u.deg)\n",
    "el = Angle(start_el, unit=u.deg)\n",
    "print(f'orig az {az} and el {el}')\n",
    "time_data = await attcs.atptg.tel_timeAndDate.next(flush=True, timeout=2)\n",
    "curr_time_atptg = Time(time_data.tai, format=\"mjd\", scale=\"tai\")\n",
    "#print(curr_time_atptg)\n",
    "coord_frame_AltAz = AltAz(location=location, obstime=curr_time_atptg)\n",
    "coord_frame_radec = ICRS()\n",
    "coord_azel = AltAz(az=az, alt=el, location=location, obstime=curr_time_atptg)\n",
    "ra_dec = coord_azel.transform_to(coord_frame_radec)\n",
    "print('Current Position is: \\n {}'.format(coord_azel))\n",
    "print('Current Position is: \\n {}'.format(ra_dec))\n",
    "\n",
    "# get RA/DEC of target position\n",
    "az = Angle(start_az+d_az, unit=u.deg)\n",
    "el = Angle(start_el+d_el, unit=u.deg)\n",
    "print(f'target az {az} and el {el}')\n",
    "coord_azel_target = AltAz(az=az, alt=el, location=location, obstime=curr_time_atptg)\n",
    "ra_dec_target = coord_azel_target.transform_to(coord_frame_radec)\n",
    "print('Target Position is: \\n {}'.format(coord_azel_target))\n",
    "print('Target Position is: \\n {}'.format(ra_dec_target))\n"
   ]
  },
  {
   "cell_type": "code",
   "execution_count": null,
   "metadata": {},
   "outputs": [],
   "source": []
  },
  {
   "cell_type": "code",
   "execution_count": 12,
   "metadata": {},
   "outputs": [
    {
     "name": "stdout",
     "output_type": "stream",
     "text": [
      "Parallactic angle: -135.22149995393687 | Sky Angle: -115.18608548092668\n",
      "Sending command\n",
      "Stop tracking.\n",
      "Mount tracking state is 9\n",
      "Tracking state: 10.\n",
      "Tracking state: 8.\n",
      "In Position: True.\n",
      "In Position: False.\n",
      "Scheduling check coroutines\n",
      "process as completed...\n",
      "atmcs: <State.ENABLED: 2>\n",
      "atptg: <State.ENABLED: 2>\n",
      "ataos: <State.ENABLED: 2>\n",
      "atpneumatics: <State.ENABLED: 2>\n",
      "athexapod: <State.ENABLED: 2>\n",
      "atdome: <State.ENABLED: 2>\n",
      "atdometrajectory: <State.ENABLED: 2>\n",
      "[Telescope] delta Alt = +000.164 | delta Az = -000.131 delta N1 = +000.000 delta N2 = -000.314 [Dome] delta Az = +003.060\n",
      "[Telescope] delta Alt = -000.001 | delta Az = +000.002 delta N1 = +000.000 delta N2 = +000.001 [Dome] delta Az = +003.060\n",
      "Axes in position.\n",
      "None\n",
      "track for 2s\n",
      "Generating group_id\n",
      "ENGTEST 0001 - 0001\n",
      "Starting to Slew to target\n",
      "Parallactic angle: -43.06828420825884 | Sky Angle: 127.00338694947561\n",
      "Sending command\n",
      "Scheduling check coroutines\n",
      "process as completed...\n",
      "atmcs: <State.ENABLED: 2>\n",
      "atptg: <State.ENABLED: 2>\n",
      "ataos: <State.ENABLED: 2>\n",
      "atpneumatics: <State.ENABLED: 2>\n",
      "athexapod: <State.ENABLED: 2>\n",
      "atdome: <State.ENABLED: 2>\n",
      "atdometrajectory: <State.ENABLED: 2>\n",
      "RemoteEvent(ATHeaderService, 0, logMessage) falling behind; read 11 messages\n",
      "Got False\n",
      "Telescope not in position\n",
      "[Telescope] delta Alt = +059.854 | delta Az = +090.351 delta N1 = +000.000 delta N2 = +090.250 [Dome] delta Az = +087.937\n",
      "[Telescope] delta Alt = +055.044 | delta Az = +085.543 delta N1 = -000.000 delta N2 = +086.318 [Dome] delta Az = +086.597\n",
      "[Telescope] delta Alt = +051.050 | delta Az = +081.572 delta N1 = +000.000 delta N2 = +082.284 [Dome] delta Az = +084.307\n",
      "[Telescope] delta Alt = +047.054 | delta Az = +077.600 delta N1 = -000.000 delta N2 = +078.248 [Dome] delta Az = +081.427\n",
      "[Telescope] delta Alt = +043.059 | delta Az = +073.626 delta N1 = -000.000 delta N2 = +072.212 [Dome] delta Az = +074.947\n",
      "[Telescope] delta Alt = +037.065 | delta Az = +067.668 delta N1 = -000.000 delta N2 = +066.156 [Dome] delta Az = +066.967\n",
      "[Telescope] delta Alt = +031.072 | delta Az = +061.708 delta N1 = -000.000 delta N2 = +062.107 [Dome] delta Az = +060.247\n",
      "[Telescope] delta Alt = +027.082 | delta Az = +057.738 delta N1 = -000.000 delta N2 = +056.064 [Dome] delta Az = +049.767\n",
      "[Telescope] delta Alt = +021.176 | delta Az = +051.779 delta N1 = -000.000 delta N2 = +050.011 [Dome] delta Az = +039.987\n",
      "[Telescope] delta Alt = +015.552 | delta Az = +045.820 delta N1 = +000.000 delta N2 = +043.955 [Dome] delta Az = +029.567\n",
      "[Telescope] delta Alt = +010.486 | delta Az = +039.860 delta N1 = -000.000 delta N2 = +039.896 [Dome] delta Az = +022.587\n",
      "[Telescope] delta Alt = +007.562 | delta Az = +035.891 delta N1 = +000.000 delta N2 = +035.859 [Dome] delta Az = +016.297\n",
      "[Telescope] delta Alt = +005.083 | delta Az = +031.917 delta N1 = +000.000 delta N2 = +029.830 [Dome] delta Az = +005.817\n",
      "[Telescope] delta Alt = +002.303 | delta Az = +025.970 delta N1 = +000.000 delta N2 = +023.804 [Dome] delta Az = -001.623\n",
      "[Telescope] delta Alt = +000.688 | delta Az = +020.127 delta N1 = +000.000 delta N2 = +017.986 [Dome] delta Az = -003.033\n",
      "[Telescope] delta Alt = +000.066 | delta Az = +014.610 delta N1 = +000.000 delta N2 = +014.313 [Dome] delta Az = -003.033\n",
      "[Telescope] delta Alt = -000.001 | delta Az = +011.249 delta N1 = -000.000 delta N2 = +009.415 [Dome] delta Az = -003.033\n",
      "[Telescope] delta Alt = -000.002 | delta Az = +006.887 delta N1 = +000.000 delta N2 = +005.417 [Dome] delta Az = -003.033\n",
      "[Telescope] delta Alt = -000.001 | delta Az = +003.550 delta N1 = +000.000 delta N2 = +002.527 [Dome] delta Az = -003.033\n",
      "[Telescope] delta Alt = -000.002 | delta Az = +001.360 delta N1 = +000.000 delta N2 = +001.240 [Dome] delta Az = -003.033\n",
      "[Telescope] delta Alt = -000.001 | delta Az = +000.526 delta N1 = +000.000 delta N2 = +000.255 [Dome] delta Az = -003.033\n",
      "[Telescope] delta Alt = -000.001 | delta Az = +000.029 delta N1 = -000.000 delta N2 = +000.027 [Dome] delta Az = -003.033\n",
      "[Telescope] delta Alt = -000.002 | delta Az = -000.009 delta N1 = -000.000 delta N2 = +000.012 [Dome] delta Az = -003.033\n",
      "Got True\n",
      "Telescope in position.\n",
      "ATDome in position.\n",
      "['Telescope in position.', 'ATDome in position.']\n",
      "Time to slew is 59.54784917831421 [s]\n",
      "Generating group_id\n",
      "ENGTEST 0001 - 0001\n"
     ]
    },
    {
     "data": {
      "text/plain": [
       "array([2020031500138])"
      ]
     },
     "execution_count": 12,
     "metadata": {},
     "output_type": "execute_result"
    },
    {
     "name": "stdout",
     "output_type": "stream",
     "text": [
      "RemoteEvent(ATDomeTrajectory, 0, logMessage) falling behind; read 16 messages\n",
      "RemoteEvent(ATMCS, 0, target) falling behind; read 60 messages\n",
      "RemoteEvent(ATMCS, 0, target) falling behind; read 18 messages\n",
      "RemoteEvent(ATDomeTrajectory, 0, logMessage) falling behind; read 14 messages\n",
      "RemoteEvent(ATMCS, 0, target) falling behind; read 100 messages\n",
      "RemoteEvent(ATDomeTrajectory, 0, logMessage) falling behind; read 19 messages\n",
      "RemoteEvent(ATDomeTrajectory, 0, logMessage) falling behind; read 19 messages\n",
      "RemoteEvent(ATHeaderService, 0, logMessage) falling behind; read 10 messages\n"
     ]
    }
   ],
   "source": [
    "# Why does doing no slew at all take ~32.7 sec?\n",
    "\n",
    "#send to starting position\n",
    "await attcs.slew_icrs(ra=str(ra_dec.ra), dec=str(ra_dec.dec), rot_pa=0.0, slew_timeout=240., stop_before_slew=True)\n",
    "\n",
    "\n",
    "print('track for 2s')\n",
    "await asyncio.sleep(2)\n",
    "# take a quick image\n",
    "await latiss.take_engtest(exptime=1)\n",
    "\n",
    "print('Starting to Slew to target')\n",
    "start_time = time.time()\n",
    "await attcs.slew_icrs(ra=str(ra_dec_target.ra), dec=str(ra_dec_target.dec), rot_pa=d_rot, slew_timeout=240., stop_before_slew=False, wait_settle=False)\n",
    "end_time = time.time()\n",
    "print('Time to slew is {} [s]'.format(end_time-start_time))\n",
    "await latiss.take_engtest(exptime=1)"
   ]
  },
  {
   "cell_type": "code",
   "execution_count": 16,
   "metadata": {},
   "outputs": [
    {
     "name": "stdout",
     "output_type": "stream",
     "text": [
      "Stop tracking.\n",
      "Mount tracking state is 9\n",
      "Tracking state: 10.\n",
      "Tracking state: 8.\n",
      "In Position: True.\n",
      "In Position: False.\n",
      "RemoteEvent(ATHeaderService, 0, logMessage) falling behind; read 12 messages\n"
     ]
    }
   ],
   "source": [
    "await attcs.stop_tracking()"
   ]
  },
  {
   "cell_type": "code",
   "execution_count": null,
   "metadata": {},
   "outputs": [],
   "source": []
  },
  {
   "cell_type": "code",
   "execution_count": null,
   "metadata": {},
   "outputs": [],
   "source": []
  },
  {
   "cell_type": "code",
   "execution_count": null,
   "metadata": {},
   "outputs": [],
   "source": []
  },
  {
   "cell_type": "code",
   "execution_count": 22,
   "metadata": {},
   "outputs": [
    {
     "name": "stdout",
     "output_type": "stream",
     "text": [
      "Resetting dropped connection: simbad.u-strasbg.fr\n",
      "http://simbad.u-strasbg.fr:80 \"POST /simbad/sim-script HTTP/1.1\" 200 None\n",
      "Slewing to WD 1327-083: 13 30 13.6369 -08 34 29.470\n",
      "RemoteEvent(ATMCS, 0, target) falling behind; read 27 messages\n",
      "RemoteEvent(ATDomeTrajectory, 0, logMessage) falling behind; read 27 messages\n",
      "Parallactic angle: 129.24008215782175 | Sky Angle: 181.3509863228944\n",
      "Sending command\n",
      "Stop tracking.\n",
      "Mount tracking state is 9\n",
      "Tracking state: 10.\n",
      "Tracking state: 8.\n",
      "In Position: True.\n",
      "In Position: False.\n",
      "Scheduling check coroutines\n",
      "process as completed...\n",
      "atmcs: <State.ENABLED: 2>\n",
      "atptg: <State.ENABLED: 2>\n",
      "ataos: <State.ENABLED: 2>\n",
      "atpneumatics: <State.ENABLED: 2>\n",
      "athexapod: <State.ENABLED: 2>\n",
      "atdome: <State.ENABLED: 2>\n",
      "atdometrajectory: <State.ENABLED: 2>\n",
      "[Telescope] delta Alt = +002.333 | delta Az = +144.988 delta N1 = +000.000 delta N2 = +008.465 [Dome] delta Az = +149.742\n",
      "[Telescope] delta Alt = +000.068 | delta Az = +148.549 delta N1 = +000.000 delta N2 = +003.868 [Dome] delta Az = +147.602\n",
      "[Telescope] delta Alt = +000.002 | delta Az = +154.535 delta N1 = -000.000 delta N2 = +000.083 [Dome] delta Az = +143.592\n",
      "[Telescope] delta Alt = +000.002 | delta Az = +160.524 delta N1 = +000.000 delta N2 = -000.004 [Dome] delta Az = +139.582\n",
      "[Telescope] delta Alt = +000.002 | delta Az = +164.514 delta N1 = +000.000 delta N2 = -000.004 [Dome] delta Az = +134.672\n",
      "[Telescope] delta Alt = +000.002 | delta Az = +168.505 delta N1 = +000.000 delta N2 = -000.004 [Dome] delta Az = +128.802\n",
      "[Telescope] delta Alt = +000.002 | delta Az = +172.497 delta N1 = +000.000 delta N2 = -000.009 [Dome] delta Az = +118.572\n",
      "[Telescope] delta Alt = +000.002 | delta Az = +178.484 delta N1 = -000.000 delta N2 = -000.009 [Dome] delta Az = +109.482\n",
      "[Telescope] delta Alt = -000.001 | delta Az = -177.528 delta N1 = -000.000 delta N2 = +000.002 [Dome] delta Az = +105.312\n",
      "[Telescope] delta Alt = +000.002 | delta Az = -173.533 delta N1 = -000.000 delta N2 = -000.009 [Dome] delta Az = +095.522\n",
      "[Telescope] delta Alt = +000.002 | delta Az = -167.545 delta N1 = +000.000 delta N2 = -000.010 [Dome] delta Az = +085.072\n",
      "[Telescope] delta Alt = +000.002 | delta Az = -161.557 delta N1 = +000.000 delta N2 = -000.004 [Dome] delta Az = +078.092\n",
      "[Telescope] delta Alt = +000.002 | delta Az = -157.568 delta N1 = +000.000 delta N2 = -000.004 [Dome] delta Az = +071.802\n",
      "[Telescope] delta Alt = +000.002 | delta Az = -153.574 delta N1 = +000.000 delta N2 = -000.010 [Dome] delta Az = +061.352\n",
      "[Telescope] delta Alt = +000.002 | delta Az = -147.587 delta N1 = -000.000 delta N2 = -000.010 [Dome] delta Az = +050.862\n",
      "[Telescope] delta Alt = +000.002 | delta Az = -141.600 delta N1 = -000.000 delta N2 = -000.009 [Dome] delta Az = +041.122\n",
      "[Telescope] delta Alt = +000.002 | delta Az = -135.613 delta N1 = -000.000 delta N2 = -000.004 [Dome] delta Az = +034.132\n",
      "[Telescope] delta Alt = +000.002 | delta Az = -131.621 delta N1 = +000.000 delta N2 = -000.009 [Dome] delta Az = +024.342\n",
      "[Telescope] delta Alt = +000.002 | delta Az = -125.634 delta N1 = +000.000 delta N2 = -000.010 [Dome] delta Az = +013.872\n",
      "[Telescope] delta Alt = +000.002 | delta Az = -119.647 delta N1 = +000.000 delta N2 = -000.010 [Dome] delta Az = +004.112\n",
      "[Telescope] delta Alt = +000.003 | delta Az = -113.659 delta N1 = -000.000 delta N2 = -000.010 [Dome] delta Az = -002.458\n",
      "[Telescope] delta Alt = +000.002 | delta Az = -107.672 delta N1 = +000.000 delta N2 = -000.004 [Dome] delta Az = -003.028\n",
      "[Telescope] delta Alt = +000.002 | delta Az = -103.682 delta N1 = -000.000 delta N2 = -000.009 [Dome] delta Az = -003.028\n",
      "[Telescope] delta Alt = +000.002 | delta Az = -097.693 delta N1 = +000.000 delta N2 = -000.004 [Dome] delta Az = -003.028\n",
      "[Telescope] delta Alt = +000.002 | delta Az = -093.702 delta N1 = -000.000 delta N2 = -000.003 [Dome] delta Az = -003.028\n",
      "[Telescope] delta Alt = +000.002 | delta Az = -089.709 delta N1 = -000.000 delta N2 = -000.010 [Dome] delta Az = -003.028\n",
      "[Telescope] delta Alt = +000.002 | delta Az = -083.722 delta N1 = +000.000 delta N2 = -000.010 [Dome] delta Az = -003.028\n",
      "[Telescope] delta Alt = -000.001 | delta Az = -079.736 delta N1 = +000.000 delta N2 = +000.002 [Dome] delta Az = -003.028\n",
      "[Telescope] delta Alt = +000.002 | delta Az = -075.740 delta N1 = -000.000 delta N2 = -000.009 [Dome] delta Az = -003.028\n",
      "[Telescope] delta Alt = +000.002 | delta Az = -069.752 delta N1 = -000.000 delta N2 = -000.010 [Dome] delta Az = -003.028\n",
      "[Telescope] delta Alt = +000.002 | delta Az = -063.766 delta N1 = -000.000 delta N2 = -000.009 [Dome] delta Az = -003.028\n",
      "[Telescope] delta Alt = +000.002 | delta Az = -057.777 delta N1 = +000.000 delta N2 = -000.010 [Dome] delta Az = -003.028\n",
      "[Telescope] delta Alt = +000.002 | delta Az = -051.791 delta N1 = +000.000 delta N2 = -000.003 [Dome] delta Az = -003.028\n",
      "[Telescope] delta Alt = +000.002 | delta Az = -047.799 delta N1 = -000.000 delta N2 = -000.010 [Dome] delta Az = -003.028\n",
      "[Telescope] delta Alt = +000.002 | delta Az = -041.811 delta N1 = +000.000 delta N2 = -000.009 [Dome] delta Az = -003.028\n",
      "[Telescope] delta Alt = +000.002 | delta Az = -035.823 delta N1 = +000.000 delta N2 = -000.010 [Dome] delta Az = -003.028\n",
      "[Telescope] delta Alt = +000.002 | delta Az = -029.836 delta N1 = -000.000 delta N2 = -000.009 [Dome] delta Az = -003.028\n",
      "[Telescope] delta Alt = +000.002 | delta Az = -023.850 delta N1 = +000.000 delta N2 = -000.003 [Dome] delta Az = -003.028\n",
      "[Telescope] delta Alt = +000.002 | delta Az = -019.857 delta N1 = -000.000 delta N2 = -000.010 [Dome] delta Az = -003.028\n",
      "[Telescope] delta Alt = +000.002 | delta Az = -013.870 delta N1 = -000.000 delta N2 = -000.009 [Dome] delta Az = -003.028\n",
      "[Telescope] delta Alt = +000.002 | delta Az = -007.882 delta N1 = +000.000 delta N2 = -000.010 [Dome] delta Az = -003.028\n",
      "[Telescope] delta Alt = +000.002 | delta Az = -001.895 delta N1 = +000.000 delta N2 = -000.009 [Dome] delta Az = -003.028\n",
      "[Telescope] delta Alt = +000.002 | delta Az = +003.819 delta N1 = +000.000 delta N2 = -000.004 [Dome] delta Az = -003.028\n",
      "[Telescope] delta Alt = +000.002 | delta Az = +006.745 delta N1 = -000.000 delta N2 = -000.010 [Dome] delta Az = -003.028\n",
      "[Telescope] delta Alt = +000.002 | delta Az = +009.224 delta N1 = +000.000 delta N2 = -000.011 [Dome] delta Az = -003.028\n",
      "[Telescope] delta Alt = +000.002 | delta Az = +009.399 delta N1 = -000.000 delta N2 = -000.003 [Dome] delta Az = -003.028\n",
      "[Telescope] delta Alt = +000.002 | delta Az = +008.476 delta N1 = -000.000 delta N2 = -000.009 [Dome] delta Az = -003.028\n",
      "[Telescope] delta Alt = +000.002 | delta Az = +006.133 delta N1 = -000.000 delta N2 = -000.003 [Dome] delta Az = -003.028\n",
      "[Telescope] delta Alt = +000.002 | delta Az = +004.341 delta N1 = -000.000 delta N2 = -000.004 [Dome] delta Az = -003.028\n",
      "[Telescope] delta Alt = +000.002 | delta Az = +002.672 delta N1 = -000.000 delta N2 = -000.003 [Dome] delta Az = -003.028\n",
      "[Telescope] delta Alt = +000.002 | delta Az = +001.340 delta N1 = +000.000 delta N2 = -000.009 [Dome] delta Az = -003.028\n",
      "[Telescope] delta Alt = +000.002 | delta Az = +000.219 delta N1 = +000.000 delta N2 = -000.009 [Dome] delta Az = -003.028\n",
      "[Telescope] delta Alt = +000.002 | delta Az = +000.001 delta N1 = -000.000 delta N2 = -000.009 [Dome] delta Az = -003.028\n",
      "Got True\n",
      "Waiting for telescope to settle.\n",
      "[Telescope] delta Alt = +000.002 | delta Az = +000.002 delta N1 = +000.000 delta N2 = -000.009 [Dome] delta Az = -003.028\n",
      "Telescope in position.\n",
      "ATDome in position.\n",
      "['Telescope in position.', 'ATDome in position.']\n"
     ]
    }
   ],
   "source": [
    "# Perform tracking test by taking continous 20s exposures\n",
    "#await attcs.slew_object('HD 167060')\n",
    "await attcs.slew_object('WD 1327-083')"
   ]
  },
  {
   "cell_type": "code",
   "execution_count": 23,
   "metadata": {},
   "outputs": [
    {
     "name": "stdout",
     "output_type": "stream",
     "text": [
      "Generating group_id\n",
      "OBJECT 0001 - 0001\n"
     ]
    },
    {
     "data": {
      "text/plain": [
       "array([2020031500209])"
      ]
     },
     "execution_count": 23,
     "metadata": {},
     "output_type": "execute_result"
    }
   ],
   "source": [
    "await latiss.take_object(exptime=15, grating='empty_1', filter='RG610')"
   ]
  },
  {
   "cell_type": "code",
   "execution_count": 19,
   "metadata": {},
   "outputs": [
    {
     "name": "stdout",
     "output_type": "stream",
     "text": [
      "Generating group_id\n",
      "OBJECT 0001 - 0001\n"
     ]
    },
    {
     "data": {
      "text/plain": [
       "array([2020031500162])"
      ]
     },
     "execution_count": 19,
     "metadata": {},
     "output_type": "execute_result"
    }
   ],
   "source": [
    "await latiss.take_object(exptime=15, grating='ronchi90lpmm', filter='empty_1')"
   ]
  },
  {
   "cell_type": "code",
   "execution_count": 24,
   "metadata": {},
   "outputs": [
    {
     "name": "stdout",
     "output_type": "stream",
     "text": [
      "Generating group_id\n",
      "OBJECT 0001 - 0001\n",
      "Generating group_id\n",
      "OBJECT 0001 - 0001\n",
      "Generating group_id\n",
      "OBJECT 0001 - 0001\n",
      "Generating group_id\n",
      "OBJECT 0001 - 0001\n",
      "Generating group_id\n",
      "OBJECT 0001 - 0001\n",
      "Generating group_id\n",
      "OBJECT 0001 - 0001\n",
      "Generating group_id\n",
      "OBJECT 0001 - 0001\n",
      "RemoteEvent(ATHeaderService, 0, logMessage) falling behind; read 10 messages\n",
      "Generating group_id\n",
      "OBJECT 0001 - 0001\n",
      "Generating group_id\n",
      "OBJECT 0001 - 0001\n",
      "Generating group_id\n",
      "OBJECT 0001 - 0001\n",
      "Generating group_id\n",
      "OBJECT 0001 - 0001\n",
      "Generating group_id\n",
      "OBJECT 0001 - 0001\n",
      "Generating group_id\n",
      "OBJECT 0001 - 0001\n",
      "Generating group_id\n",
      "OBJECT 0001 - 0001\n",
      "Generating group_id\n",
      "OBJECT 0001 - 0001\n",
      "Generating group_id\n",
      "OBJECT 0001 - 0001\n",
      "RemoteEvent(ATHeaderService, 0, logMessage) falling behind; read 11 messages\n",
      "Generating group_id\n",
      "OBJECT 0001 - 0001\n",
      "Generating group_id\n",
      "OBJECT 0001 - 0001\n",
      "Generating group_id\n",
      "OBJECT 0001 - 0001\n",
      "Generating group_id\n",
      "OBJECT 0001 - 0001\n",
      "Generating group_id\n",
      "OBJECT 0001 - 0001\n",
      "Generating group_id\n",
      "OBJECT 0001 - 0001\n",
      "Generating group_id\n",
      "OBJECT 0001 - 0001\n",
      "Generating group_id\n",
      "OBJECT 0001 - 0001\n",
      "Generating group_id\n",
      "OBJECT 0001 - 0001\n",
      "Generating group_id\n",
      "OBJECT 0001 - 0001\n",
      "Generating group_id\n",
      "OBJECT 0001 - 0001\n",
      "Generating group_id\n",
      "OBJECT 0001 - 0001\n",
      "Generating group_id\n",
      "OBJECT 0001 - 0001\n",
      "Generating group_id\n",
      "OBJECT 0001 - 0001\n",
      "RemoteEvent(ATHeaderService, 0, logMessage) falling behind; read 10 messages\n",
      "Generating group_id\n",
      "OBJECT 0001 - 0001\n",
      "Generating group_id\n",
      "OBJECT 0001 - 0001\n",
      "Generating group_id\n",
      "OBJECT 0001 - 0001\n",
      "Generating group_id\n",
      "OBJECT 0001 - 0001\n",
      "Generating group_id\n",
      "OBJECT 0001 - 0001\n",
      "Generating group_id\n",
      "OBJECT 0001 - 0001\n",
      "Generating group_id\n",
      "OBJECT 0001 - 0001\n",
      "Generating group_id\n",
      "OBJECT 0001 - 0001\n",
      "Generating group_id\n",
      "OBJECT 0001 - 0001\n",
      "Generating group_id\n",
      "OBJECT 0001 - 0001\n",
      "Generating group_id\n",
      "OBJECT 0001 - 0001\n",
      "RemoteEvent(ATHeaderService, 0, logMessage) falling behind; read 12 messages\n",
      "Generating group_id\n",
      "OBJECT 0001 - 0001\n",
      "Generating group_id\n",
      "OBJECT 0001 - 0001\n",
      "RemoteEvent(ATHeaderService, 0, logMessage) falling behind; read 10 messages\n",
      "Generating group_id\n",
      "OBJECT 0001 - 0001\n",
      "Generating group_id\n",
      "OBJECT 0001 - 0001\n",
      "Generating group_id\n",
      "OBJECT 0001 - 0001\n",
      "Generating group_id\n",
      "OBJECT 0001 - 0001\n",
      "RemoteEvent(ATHeaderService, 0, logMessage) falling behind; read 41 messages\n",
      "Generating group_id\n",
      "OBJECT 0001 - 0001\n",
      "Generating group_id\n",
      "OBJECT 0001 - 0001\n",
      "Generating group_id\n",
      "OBJECT 0001 - 0001\n",
      "Generating group_id\n",
      "OBJECT 0001 - 0001\n",
      "Generating group_id\n",
      "OBJECT 0001 - 0001\n",
      "Generating group_id\n",
      "OBJECT 0001 - 0001\n",
      "Generating group_id\n",
      "OBJECT 0001 - 0001\n",
      "RemoteEvent(ATHeaderService, 0, logMessage) falling behind; read 60 messages\n",
      "Generating group_id\n",
      "OBJECT 0001 - 0001\n",
      "Generating group_id\n",
      "OBJECT 0001 - 0001\n",
      "Generating group_id\n",
      "OBJECT 0001 - 0001\n",
      "Generating group_id\n",
      "OBJECT 0001 - 0001\n",
      "Generating group_id\n",
      "OBJECT 0001 - 0001\n",
      "Generating group_id\n",
      "OBJECT 0001 - 0001\n",
      "RemoteEvent(ATHeaderService, 0, logMessage) falling behind; read 10 messages\n",
      "Generating group_id\n",
      "OBJECT 0001 - 0001\n",
      "RemoteEvent(ATHeaderService, 0, logMessage) falling behind; read 68 messages\n",
      "Generating group_id\n",
      "OBJECT 0001 - 0001\n",
      "Generating group_id\n",
      "OBJECT 0001 - 0001\n",
      "RemoteEvent(ATHeaderService, 0, logMessage) falling behind; read 12 messages\n",
      "Generating group_id\n",
      "OBJECT 0001 - 0001\n",
      "Generating group_id\n",
      "OBJECT 0001 - 0001\n",
      "Generating group_id\n",
      "OBJECT 0001 - 0001\n",
      "Generating group_id\n",
      "OBJECT 0001 - 0001\n",
      "RemoteEvent(ATHeaderService, 0, logMessage) falling behind; read 11 messages\n",
      "Generating group_id\n",
      "OBJECT 0001 - 0001\n",
      "Generating group_id\n",
      "OBJECT 0001 - 0001\n",
      "Generating group_id\n",
      "OBJECT 0001 - 0001\n",
      "Generating group_id\n",
      "OBJECT 0001 - 0001\n",
      "Generating group_id\n",
      "OBJECT 0001 - 0001\n",
      "Generating group_id\n",
      "OBJECT 0001 - 0001\n",
      "Generating group_id\n",
      "OBJECT 0001 - 0001\n",
      "Generating group_id\n",
      "OBJECT 0001 - 0001\n",
      "RemoteEvent(ATHeaderService, 0, logMessage) falling behind; read 12 messages\n",
      "RemoteEvent(ATHeaderService, 0, logMessage) falling behind; read 13 messages\n",
      "Generating group_id\n",
      "OBJECT 0001 - 0001\n",
      "Generating group_id\n",
      "OBJECT 0001 - 0001\n",
      "RemoteEvent(ATHeaderService, 0, logMessage) falling behind; read 12 messages\n"
     ]
    },
    {
     "ename": "CancelledError",
     "evalue": "",
     "output_type": "error",
     "traceback": [
      "\u001b[0;31m---------------------------------------------------------------------------\u001b[0m",
      "\u001b[0;31mCancelledError\u001b[0m                            Traceback (most recent call last)",
      "\u001b[0;32m<ipython-input-24-5ca96d012073>\u001b[0m in \u001b[0;36masync-def-wrapper\u001b[0;34m()\u001b[0m\n\u001b[1;32m      3\u001b[0m     \u001b[0;32mawait\u001b[0m \u001b[0mlatiss\u001b[0m\u001b[0;34m.\u001b[0m\u001b[0mtake_object\u001b[0m\u001b[0;34m(\u001b[0m\u001b[0mexptime\u001b[0m\u001b[0;34m=\u001b[0m\u001b[0;36m15\u001b[0m\u001b[0;34m,\u001b[0m \u001b[0mgrating\u001b[0m\u001b[0;34m=\u001b[0m\u001b[0;34m'ronchi90lpmm'\u001b[0m\u001b[0;34m,\u001b[0m \u001b[0mfilter\u001b[0m\u001b[0;34m=\u001b[0m\u001b[0;34m'empty_1'\u001b[0m\u001b[0;34m)\u001b[0m\u001b[0;34m\u001b[0m\u001b[0;34m\u001b[0m\u001b[0m\n",
      "\u001b[0;32m~/repos/ts_standardscripts/python/lsst/ts/standardscripts/auxtel/latiss.py\u001b[0m in \u001b[0;36mtake_object\u001b[0;34m(self, exptime, n, filter, grating, linear_stage, group_id, checkpoint)\u001b[0m\n\u001b[1;32m    171\u001b[0m                                        \u001b[0mlinear_stage\u001b[0m\u001b[0;34m=\u001b[0m\u001b[0mlinear_stage\u001b[0m\u001b[0;34m,\u001b[0m\u001b[0;34m\u001b[0m\u001b[0;34m\u001b[0m\u001b[0m\n\u001b[1;32m    172\u001b[0m                                        \u001b[0mgroup_id\u001b[0m\u001b[0;34m=\u001b[0m\u001b[0mgroup_id\u001b[0m\u001b[0;34m,\u001b[0m\u001b[0;34m\u001b[0m\u001b[0;34m\u001b[0m\u001b[0m\n\u001b[0;32m--> 173\u001b[0;31m                                        checkpoint=checkpoint)\n\u001b[0m\u001b[1;32m    174\u001b[0m \u001b[0;34m\u001b[0m\u001b[0m\n\u001b[1;32m    175\u001b[0m     async def take_engtest(self, exptime, n=1,\n",
      "\u001b[0;32m~/repos/ts_standardscripts/python/lsst/ts/standardscripts/auxtel/latiss.py\u001b[0m in \u001b[0;36mtake_imgtype\u001b[0;34m(self, imgtype, exptime, n, filter, grating, linear_stage, group_id, checkpoint)\u001b[0m\n\u001b[1;32m    257\u001b[0m                                                 \u001b[0mfilter\u001b[0m\u001b[0;34m=\u001b[0m\u001b[0mfilter\u001b[0m \u001b[0;32mif\u001b[0m \u001b[0mi\u001b[0m \u001b[0;34m==\u001b[0m \u001b[0;36m0\u001b[0m \u001b[0;32melse\u001b[0m \u001b[0;32mNone\u001b[0m\u001b[0;34m,\u001b[0m\u001b[0;34m\u001b[0m\u001b[0;34m\u001b[0m\u001b[0m\n\u001b[1;32m    258\u001b[0m                                                 \u001b[0mgrating\u001b[0m\u001b[0;34m=\u001b[0m\u001b[0mgrating\u001b[0m \u001b[0;32mif\u001b[0m \u001b[0mi\u001b[0m \u001b[0;34m==\u001b[0m \u001b[0;36m0\u001b[0m \u001b[0;32melse\u001b[0m \u001b[0;32mNone\u001b[0m\u001b[0;34m,\u001b[0m\u001b[0;34m\u001b[0m\u001b[0;34m\u001b[0m\u001b[0m\n\u001b[0;32m--> 259\u001b[0;31m                                                 linear_stage=linear_stage if i == 0 else None)\n\u001b[0m\u001b[1;32m    260\u001b[0m \u001b[0;34m\u001b[0m\u001b[0m\n\u001b[1;32m    261\u001b[0m             \u001b[0;31m# parse out visitID from filename -\u001b[0m\u001b[0;34m\u001b[0m\u001b[0;34m\u001b[0m\u001b[0;34m\u001b[0m\u001b[0m\n",
      "\u001b[0;32m~/repos/ts_standardscripts/python/lsst/ts/standardscripts/auxtel/latiss.py\u001b[0m in \u001b[0;36mtake_image\u001b[0;34m(self, exptime, shutter, image_type, group_id, filter, grating, linear_stage, science, guide, wfs)\u001b[0m\n\u001b[1;32m    319\u001b[0m                                  \u001b[0mimage_type\u001b[0m\u001b[0;34m=\u001b[0m\u001b[0mimage_type\u001b[0m\u001b[0;34m,\u001b[0m\u001b[0;34m\u001b[0m\u001b[0;34m\u001b[0m\u001b[0m\n\u001b[1;32m    320\u001b[0m                                  \u001b[0mgroup_id\u001b[0m\u001b[0;34m=\u001b[0m\u001b[0mgroup_id\u001b[0m\u001b[0;34m,\u001b[0m\u001b[0;34m\u001b[0m\u001b[0;34m\u001b[0m\u001b[0m\n\u001b[0;32m--> 321\u001b[0;31m                                  science=science, guide=guide, wfs=wfs)\n\u001b[0m\u001b[1;32m    322\u001b[0m \u001b[0;34m\u001b[0m\u001b[0m\n\u001b[1;32m    323\u001b[0m     async def expose(self, exp_time, shutter, image_type, group_id,\n",
      "\u001b[0;32m~/repos/ts_standardscripts/python/lsst/ts/standardscripts/auxtel/latiss.py\u001b[0m in \u001b[0;36mexpose\u001b[0;34m(self, exp_time, shutter, image_type, group_id, science, guide, wfs)\u001b[0m\n\u001b[1;32m    368\u001b[0m             \u001b[0mself\u001b[0m\u001b[0;34m.\u001b[0m\u001b[0matcamera\u001b[0m\u001b[0;34m.\u001b[0m\u001b[0mevt_endReadout\u001b[0m\u001b[0;34m.\u001b[0m\u001b[0mflush\u001b[0m\u001b[0;34m(\u001b[0m\u001b[0;34m)\u001b[0m\u001b[0;34m\u001b[0m\u001b[0;34m\u001b[0m\u001b[0m\n\u001b[1;32m    369\u001b[0m             \u001b[0mself\u001b[0m\u001b[0;34m.\u001b[0m\u001b[0matheaderservice\u001b[0m\u001b[0;34m.\u001b[0m\u001b[0mevt_largeFileObjectAvailable\u001b[0m\u001b[0;34m.\u001b[0m\u001b[0mflush\u001b[0m\u001b[0;34m(\u001b[0m\u001b[0;34m)\u001b[0m\u001b[0;34m\u001b[0m\u001b[0;34m\u001b[0m\u001b[0m\n\u001b[0;32m--> 370\u001b[0;31m             \u001b[0;32mawait\u001b[0m \u001b[0mself\u001b[0m\u001b[0;34m.\u001b[0m\u001b[0matcamera\u001b[0m\u001b[0;34m.\u001b[0m\u001b[0mcmd_takeImages\u001b[0m\u001b[0;34m.\u001b[0m\u001b[0mstart\u001b[0m\u001b[0;34m(\u001b[0m\u001b[0mtimeout\u001b[0m\u001b[0;34m=\u001b[0m\u001b[0mtimeout\u001b[0m \u001b[0;34m+\u001b[0m \u001b[0mexp_time\u001b[0m\u001b[0;34m)\u001b[0m\u001b[0;34m\u001b[0m\u001b[0;34m\u001b[0m\u001b[0m\n\u001b[0m\u001b[1;32m    371\u001b[0m             end_readout = await self.atcamera.evt_endReadout.next(flush=False,\n\u001b[1;32m    372\u001b[0m                                                                   timeout=timeout)\n",
      "\u001b[0;32m/opt/lsst/src/ts_salobj/python/lsst/ts/salobj/topics/remote_command.py\u001b[0m in \u001b[0;36mstart\u001b[0;34m(self, data, timeout, wait_done)\u001b[0m\n\u001b[1;32m    393\u001b[0m         )\n\u001b[1;32m    394\u001b[0m         \u001b[0mself\u001b[0m\u001b[0;34m.\u001b[0m\u001b[0msalinfo\u001b[0m\u001b[0;34m.\u001b[0m\u001b[0m_running_cmds\u001b[0m\u001b[0;34m[\u001b[0m\u001b[0mseq_num\u001b[0m\u001b[0;34m]\u001b[0m \u001b[0;34m=\u001b[0m \u001b[0mcmd_info\u001b[0m\u001b[0;34m\u001b[0m\u001b[0;34m\u001b[0m\u001b[0m\n\u001b[0;32m--> 395\u001b[0;31m         \u001b[0;32mreturn\u001b[0m \u001b[0;32mawait\u001b[0m \u001b[0mcmd_info\u001b[0m\u001b[0;34m.\u001b[0m\u001b[0mnext_ackcmd\u001b[0m\u001b[0;34m(\u001b[0m\u001b[0mtimeout\u001b[0m\u001b[0;34m=\u001b[0m\u001b[0mtimeout\u001b[0m\u001b[0;34m)\u001b[0m\u001b[0;34m\u001b[0m\u001b[0;34m\u001b[0m\u001b[0m\n\u001b[0m",
      "\u001b[0;32m/opt/lsst/src/ts_salobj/python/lsst/ts/salobj/topics/remote_command.py\u001b[0m in \u001b[0;36mnext_ackcmd\u001b[0;34m(self, timeout)\u001b[0m\n\u001b[1;32m    176\u001b[0m                 \u001b[0masyncio\u001b[0m\u001b[0;34m.\u001b[0m\u001b[0mwait_for\u001b[0m\u001b[0;34m(\u001b[0m\u001b[0mself\u001b[0m\u001b[0;34m.\u001b[0m\u001b[0m_basic_next_ack\u001b[0m\u001b[0;34m(\u001b[0m\u001b[0;34m)\u001b[0m\u001b[0;34m,\u001b[0m \u001b[0mtimeout\u001b[0m\u001b[0;34m=\u001b[0m\u001b[0mtimeout\u001b[0m\u001b[0;34m)\u001b[0m\u001b[0;34m\u001b[0m\u001b[0;34m\u001b[0m\u001b[0m\n\u001b[1;32m    177\u001b[0m             )\n\u001b[0;32m--> 178\u001b[0;31m             \u001b[0mackcmd\u001b[0m \u001b[0;34m=\u001b[0m \u001b[0;32mawait\u001b[0m \u001b[0mself\u001b[0m\u001b[0;34m.\u001b[0m\u001b[0m_wait_task\u001b[0m\u001b[0;34m\u001b[0m\u001b[0;34m\u001b[0m\u001b[0m\n\u001b[0m\u001b[1;32m    179\u001b[0m             \u001b[0;31m# print(f\"next_ackcmd got {ackcmd.ack} from _basic_next_ack\")\u001b[0m\u001b[0;34m\u001b[0m\u001b[0;34m\u001b[0m\u001b[0;34m\u001b[0m\u001b[0m\n\u001b[1;32m    180\u001b[0m             \u001b[0;32mif\u001b[0m \u001b[0mackcmd\u001b[0m\u001b[0;34m.\u001b[0m\u001b[0mack\u001b[0m \u001b[0;32min\u001b[0m \u001b[0mself\u001b[0m\u001b[0;34m.\u001b[0m\u001b[0mfailed_ack_codes\u001b[0m\u001b[0;34m:\u001b[0m\u001b[0;34m\u001b[0m\u001b[0;34m\u001b[0m\u001b[0m\n",
      "\u001b[0;31mCancelledError\u001b[0m: "
     ]
    }
   ],
   "source": [
    "while True:\n",
    "    await latiss.take_object(exptime=15, grating='empty_1', filter='RG610')\n",
    "    await latiss.take_object(exptime=15, grating='ronchi90lpmm', filter='empty_1')"
   ]
  },
  {
   "cell_type": "code",
   "execution_count": 27,
   "metadata": {},
   "outputs": [
    {
     "name": "stdout",
     "output_type": "stream",
     "text": [
      "Slewing to WD 1327-083: 13 30 13.6369 -08 34 29.470\n",
      "Parallactic angle: 124.77078877819811 | Sky Angle: 170.14067946777385\n",
      "Sending command\n",
      "Stop tracking.\n",
      "Mount tracking state is 8\n",
      "In Position: False.\n",
      "Scheduling check coroutines\n",
      "process as completed...\n",
      "atmcs: <State.ENABLED: 2>\n",
      "atptg: <State.ENABLED: 2>\n",
      "ataos: <State.ENABLED: 2>\n",
      "atpneumatics: <State.ENABLED: 2>\n",
      "athexapod: <State.ENABLED: 2>\n",
      "atdome: <State.ENABLED: 2>\n",
      "atdometrajectory: <State.ENABLED: 2>\n",
      "[Telescope] delta Alt = -000.453 | delta Az = -000.433 delta N1 = -000.000 delta N2 = -009.909 [Dome] delta Az = -010.237\n",
      "[Telescope] delta Alt = +000.002 | delta Az = +000.002 delta N1 = +000.000 delta N2 = -005.425 [Dome] delta Az = -007.747\n",
      "[Telescope] delta Alt = +000.002 | delta Az = +000.002 delta N1 = -000.000 delta N2 = -000.639 [Dome] delta Az = -003.827\n",
      "[Telescope] delta Alt = +000.002 | delta Az = +000.002 delta N1 = +000.000 delta N2 = -000.002 [Dome] delta Az = -002.537\n",
      "Axes in position.\n",
      "None\n"
     ]
    }
   ],
   "source": [
    "# stopped tracking elsewhere, then reslewed\n",
    "await attcs.slew_object('WD 1327-083')"
   ]
  },
  {
   "cell_type": "code",
   "execution_count": 30,
   "metadata": {},
   "outputs": [
    {
     "name": "stdout",
     "output_type": "stream",
     "text": [
      "Applying Az/El offset: -36000/ 0 \n",
      "Waiting for telescope to settle.\n",
      "Done\n"
     ]
    }
   ],
   "source": [
    "# OFFSET  AZ/EL\n",
    "await attcs.offset_azel(az=-10*60*60, el=0)"
   ]
  },
  {
   "cell_type": "code",
   "execution_count": null,
   "metadata": {},
   "outputs": [],
   "source": []
  },
  {
   "cell_type": "code",
   "execution_count": 31,
   "metadata": {},
   "outputs": [
    {
     "name": "stdout",
     "output_type": "stream",
     "text": [
      "Applying Az/El offset: -72000/ 0 \n",
      "Waiting for telescope to settle.\n",
      "Done\n"
     ]
    }
   ],
   "source": [
    "# again\n",
    "await attcs.offset_azel(az=-20*60*60, el=0)"
   ]
  },
  {
   "cell_type": "code",
   "execution_count": 32,
   "metadata": {},
   "outputs": [
    {
     "name": "stdout",
     "output_type": "stream",
     "text": [
      "Applying Az/El offset: -36000/ 0 \n",
      "Waiting for telescope to settle.\n",
      "Done\n"
     ]
    }
   ],
   "source": [
    "# OFFSET  AZ/EL\n",
    "await attcs.offset_azel(az=-10*60*60, el=0)"
   ]
  },
  {
   "cell_type": "code",
   "execution_count": 33,
   "metadata": {},
   "outputs": [
    {
     "name": "stdout",
     "output_type": "stream",
     "text": [
      "Applying Az/El offset: -18000/ 0 \n",
      "Waiting for telescope to settle.\n",
      "Done\n",
      "Applying Az/El offset: -7200/ 0 \n",
      "Waiting for telescope to settle.\n",
      "Done\n",
      "Applying Az/El offset: 0/ 0 \n",
      "Waiting for telescope to settle.\n",
      "Done\n"
     ]
    }
   ],
   "source": [
    "# OFFSET  AZ/EL\n",
    "await attcs.offset_azel(az=-5*60*60, el=0)\n",
    "await attcs.offset_azel(az=-2*60*60, el=0)\n",
    "await attcs.offset_azel(az=0, el=0)"
   ]
  },
  {
   "cell_type": "code",
   "execution_count": 34,
   "metadata": {},
   "outputs": [
    {
     "name": "stdout",
     "output_type": "stream",
     "text": [
      "Generating group_id\n",
      "OBJECT 0001 - 0001\n",
      "Generating group_id\n",
      "OBJECT 0001 - 0001\n",
      "Generating group_id\n",
      "OBJECT 0001 - 0001\n",
      "Generating group_id\n",
      "OBJECT 0001 - 0001\n",
      "Generating group_id\n",
      "OBJECT 0001 - 0001\n",
      "Generating group_id\n",
      "OBJECT 0001 - 0001\n",
      "Generating group_id\n",
      "OBJECT 0001 - 0001\n",
      "Generating group_id\n",
      "OBJECT 0001 - 0001\n",
      "RemoteEvent(ATHeaderService, 0, logMessage) falling behind; read 11 messages\n",
      "Generating group_id\n",
      "OBJECT 0001 - 0001\n",
      "Generating group_id\n",
      "OBJECT 0001 - 0001\n",
      "Generating group_id\n",
      "OBJECT 0001 - 0001\n",
      "Generating group_id\n",
      "OBJECT 0001 - 0001\n",
      "Generating group_id\n",
      "OBJECT 0001 - 0001\n",
      "Generating group_id\n",
      "OBJECT 0001 - 0001\n",
      "Generating group_id\n",
      "OBJECT 0001 - 0001\n",
      "RemoteEvent(ATHeaderService, 0, logMessage) falling behind; read 20 messages\n",
      "Generating group_id\n",
      "OBJECT 0001 - 0001\n",
      "Generating group_id\n",
      "OBJECT 0001 - 0001\n",
      "Generating group_id\n",
      "OBJECT 0001 - 0001\n",
      "Generating group_id\n",
      "OBJECT 0001 - 0001\n",
      "Generating group_id\n",
      "OBJECT 0001 - 0001\n",
      "Generating group_id\n",
      "OBJECT 0001 - 0001\n",
      "Generating group_id\n",
      "OBJECT 0001 - 0001\n",
      "Generating group_id\n",
      "OBJECT 0001 - 0001\n",
      "Generating group_id\n",
      "OBJECT 0001 - 0001\n",
      "Generating group_id\n",
      "OBJECT 0001 - 0001\n",
      "Generating group_id\n",
      "OBJECT 0001 - 0001\n",
      "Generating group_id\n",
      "OBJECT 0001 - 0001\n",
      "Generating group_id\n",
      "OBJECT 0001 - 0001\n",
      "Generating group_id\n",
      "OBJECT 0001 - 0001\n",
      "Generating group_id\n",
      "OBJECT 0001 - 0001\n",
      "Generating group_id\n",
      "OBJECT 0001 - 0001\n",
      "Generating group_id\n",
      "OBJECT 0001 - 0001\n",
      "Generating group_id\n",
      "OBJECT 0001 - 0001\n",
      "RemoteEvent(ATHeaderService, 0, logMessage) falling behind; read 11 messages\n",
      "Generating group_id\n",
      "OBJECT 0001 - 0001\n",
      "Generating group_id\n",
      "OBJECT 0001 - 0001\n",
      "Generating group_id\n",
      "OBJECT 0001 - 0001\n",
      "Generating group_id\n",
      "OBJECT 0001 - 0001\n",
      "Generating group_id\n",
      "OBJECT 0001 - 0001\n",
      "Generating group_id\n",
      "OBJECT 0001 - 0001\n",
      "Generating group_id\n",
      "OBJECT 0001 - 0001\n",
      "Generating group_id\n",
      "OBJECT 0001 - 0001\n",
      "Generating group_id\n",
      "OBJECT 0001 - 0001\n",
      "Generating group_id\n",
      "OBJECT 0001 - 0001\n",
      "Generating group_id\n",
      "OBJECT 0001 - 0001\n",
      "RemoteEvent(ATHeaderService, 0, logMessage) falling behind; read 10 messages\n",
      "Generating group_id\n",
      "OBJECT 0001 - 0001\n",
      "Generating group_id\n",
      "OBJECT 0001 - 0001\n",
      "Generating group_id\n",
      "OBJECT 0001 - 0001\n",
      "Generating group_id\n",
      "OBJECT 0001 - 0001\n",
      "Generating group_id\n",
      "OBJECT 0001 - 0001\n",
      "RemoteEvent(ATHeaderService, 0, logMessage) falling behind; read 10 messages\n",
      "Generating group_id\n",
      "OBJECT 0001 - 0001\n",
      "Generating group_id\n",
      "OBJECT 0001 - 0001\n",
      "Generating group_id\n",
      "OBJECT 0001 - 0001\n",
      "Generating group_id\n",
      "OBJECT 0001 - 0001\n",
      "Generating group_id\n",
      "OBJECT 0001 - 0001\n",
      "RemoteEvent(ATHeaderService, 0, logMessage) falling behind; read 10 messages\n",
      "Generating group_id\n",
      "OBJECT 0001 - 0001\n",
      "Generating group_id\n",
      "OBJECT 0001 - 0001\n",
      "Generating group_id\n",
      "OBJECT 0001 - 0001\n",
      "Generating group_id\n",
      "OBJECT 0001 - 0001\n"
     ]
    },
    {
     "ename": "CancelledError",
     "evalue": "",
     "output_type": "error",
     "traceback": [
      "\u001b[0;31m---------------------------------------------------------------------------\u001b[0m",
      "\u001b[0;31mCancelledError\u001b[0m                            Traceback (most recent call last)",
      "\u001b[0;32m<ipython-input-34-53bdf6bebcea>\u001b[0m in \u001b[0;36masync-def-wrapper\u001b[0;34m()\u001b[0m\n\u001b[1;32m      4\u001b[0m \u001b[0;34m\u001b[0m\u001b[0m\n",
      "\u001b[0;32m~/repos/ts_standardscripts/python/lsst/ts/standardscripts/auxtel/latiss.py\u001b[0m in \u001b[0;36mtake_object\u001b[0;34m(self, exptime, n, filter, grating, linear_stage, group_id, checkpoint)\u001b[0m\n\u001b[1;32m    171\u001b[0m                                        \u001b[0mlinear_stage\u001b[0m\u001b[0;34m=\u001b[0m\u001b[0mlinear_stage\u001b[0m\u001b[0;34m,\u001b[0m\u001b[0;34m\u001b[0m\u001b[0;34m\u001b[0m\u001b[0m\n\u001b[1;32m    172\u001b[0m                                        \u001b[0mgroup_id\u001b[0m\u001b[0;34m=\u001b[0m\u001b[0mgroup_id\u001b[0m\u001b[0;34m,\u001b[0m\u001b[0;34m\u001b[0m\u001b[0;34m\u001b[0m\u001b[0m\n\u001b[0;32m--> 173\u001b[0;31m                                        checkpoint=checkpoint)\n\u001b[0m\u001b[1;32m    174\u001b[0m \u001b[0;34m\u001b[0m\u001b[0m\n\u001b[1;32m    175\u001b[0m     async def take_engtest(self, exptime, n=1,\n",
      "\u001b[0;32m~/repos/ts_standardscripts/python/lsst/ts/standardscripts/auxtel/latiss.py\u001b[0m in \u001b[0;36mtake_imgtype\u001b[0;34m(self, imgtype, exptime, n, filter, grating, linear_stage, group_id, checkpoint)\u001b[0m\n\u001b[1;32m    257\u001b[0m                                                 \u001b[0mfilter\u001b[0m\u001b[0;34m=\u001b[0m\u001b[0mfilter\u001b[0m \u001b[0;32mif\u001b[0m \u001b[0mi\u001b[0m \u001b[0;34m==\u001b[0m \u001b[0;36m0\u001b[0m \u001b[0;32melse\u001b[0m \u001b[0;32mNone\u001b[0m\u001b[0;34m,\u001b[0m\u001b[0;34m\u001b[0m\u001b[0;34m\u001b[0m\u001b[0m\n\u001b[1;32m    258\u001b[0m                                                 \u001b[0mgrating\u001b[0m\u001b[0;34m=\u001b[0m\u001b[0mgrating\u001b[0m \u001b[0;32mif\u001b[0m \u001b[0mi\u001b[0m \u001b[0;34m==\u001b[0m \u001b[0;36m0\u001b[0m \u001b[0;32melse\u001b[0m \u001b[0;32mNone\u001b[0m\u001b[0;34m,\u001b[0m\u001b[0;34m\u001b[0m\u001b[0;34m\u001b[0m\u001b[0m\n\u001b[0;32m--> 259\u001b[0;31m                                                 linear_stage=linear_stage if i == 0 else None)\n\u001b[0m\u001b[1;32m    260\u001b[0m \u001b[0;34m\u001b[0m\u001b[0m\n\u001b[1;32m    261\u001b[0m             \u001b[0;31m# parse out visitID from filename -\u001b[0m\u001b[0;34m\u001b[0m\u001b[0;34m\u001b[0m\u001b[0;34m\u001b[0m\u001b[0m\n",
      "\u001b[0;32m~/repos/ts_standardscripts/python/lsst/ts/standardscripts/auxtel/latiss.py\u001b[0m in \u001b[0;36mtake_image\u001b[0;34m(self, exptime, shutter, image_type, group_id, filter, grating, linear_stage, science, guide, wfs)\u001b[0m\n\u001b[1;32m    314\u001b[0m         await self.setup_atspec(filter=filter,\n\u001b[1;32m    315\u001b[0m                                 \u001b[0mgrating\u001b[0m\u001b[0;34m=\u001b[0m\u001b[0mgrating\u001b[0m\u001b[0;34m,\u001b[0m\u001b[0;34m\u001b[0m\u001b[0;34m\u001b[0m\u001b[0m\n\u001b[0;32m--> 316\u001b[0;31m                                 linear_stage=linear_stage)\n\u001b[0m\u001b[1;32m    317\u001b[0m \u001b[0;34m\u001b[0m\u001b[0m\n\u001b[1;32m    318\u001b[0m         return await self.expose(exp_time=exptime, shutter=shutter,\n",
      "\u001b[0;32m~/repos/ts_standardscripts/python/lsst/ts/standardscripts/auxtel/latiss.py\u001b[0m in \u001b[0;36msetup_atspec\u001b[0;34m(self, filter, grating, linear_stage)\u001b[0m\n\u001b[1;32m    419\u001b[0m         \u001b[0;32mif\u001b[0m \u001b[0mlen\u001b[0m\u001b[0;34m(\u001b[0m\u001b[0msetup_coroutines\u001b[0m\u001b[0;34m)\u001b[0m \u001b[0;34m>\u001b[0m \u001b[0;36m0\u001b[0m\u001b[0;34m:\u001b[0m\u001b[0;34m\u001b[0m\u001b[0;34m\u001b[0m\u001b[0m\n\u001b[1;32m    420\u001b[0m             \u001b[0;32masync\u001b[0m \u001b[0;32mwith\u001b[0m \u001b[0mself\u001b[0m\u001b[0;34m.\u001b[0m\u001b[0mcmd_lock\u001b[0m\u001b[0;34m:\u001b[0m\u001b[0;34m\u001b[0m\u001b[0;34m\u001b[0m\u001b[0m\n\u001b[0;32m--> 421\u001b[0;31m                 \u001b[0;32mreturn\u001b[0m \u001b[0;32mawait\u001b[0m \u001b[0masyncio\u001b[0m\u001b[0;34m.\u001b[0m\u001b[0mgather\u001b[0m\u001b[0;34m(\u001b[0m\u001b[0;34m*\u001b[0m\u001b[0msetup_coroutines\u001b[0m\u001b[0;34m)\u001b[0m\u001b[0;34m\u001b[0m\u001b[0;34m\u001b[0m\u001b[0m\n\u001b[0m\u001b[1;32m    422\u001b[0m \u001b[0;34m\u001b[0m\u001b[0m\n\u001b[1;32m    423\u001b[0m     \u001b[0;32mdef\u001b[0m \u001b[0mnext_group_id\u001b[0m\u001b[0;34m(\u001b[0m\u001b[0mself\u001b[0m\u001b[0;34m)\u001b[0m\u001b[0;34m:\u001b[0m\u001b[0;34m\u001b[0m\u001b[0;34m\u001b[0m\u001b[0m\n",
      "\u001b[0;31mCancelledError\u001b[0m: "
     ]
    }
   ],
   "source": [
    "while True:\n",
    "    await latiss.take_object(exptime=15, grating='empty_1', filter='RG610')\n",
    "    await latiss.take_object(exptime=15, grating='ronchi90lpmm', filter='empty_1')\n",
    "    "
   ]
  },
  {
   "cell_type": "code",
   "execution_count": null,
   "metadata": {},
   "outputs": [],
   "source": []
  }
 ],
 "metadata": {
  "kernelspec": {
   "display_name": "LSST",
   "language": "python",
   "name": "lsst"
  },
  "language_info": {
   "codemirror_mode": {
    "name": "ipython",
    "version": 3
   },
   "file_extension": ".py",
   "mimetype": "text/x-python",
   "name": "python",
   "nbconvert_exporter": "python",
   "pygments_lexer": "ipython3",
   "version": "3.7.6"
  }
 },
 "nbformat": 4,
 "nbformat_minor": 4
}
