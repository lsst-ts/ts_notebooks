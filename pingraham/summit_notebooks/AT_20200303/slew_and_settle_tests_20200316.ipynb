{
 "cells": [
  {
   "cell_type": "code",
   "execution_count": 1,
   "metadata": {},
   "outputs": [],
   "source": [
    "import sys\n",
    "import asyncio\n",
    "import time\n",
    "\n",
    "import numpy as np\n",
    "\n",
    "from lsst.ts import salobj\n",
    "\n",
    "from lsst.ts.standardscripts.auxtel.attcs import ATTCS\n",
    "from lsst.ts.standardscripts.auxtel.latiss import LATISS"
   ]
  },
  {
   "cell_type": "code",
   "execution_count": 2,
   "metadata": {},
   "outputs": [],
   "source": [
    "# Temporarily needed to run at summit\n",
    "import os\n",
    "os.environ[\"LSST_DDS_DOMAIN\"] = 'lsatmcs'\n",
    "os.environ[\"OSPL_URI\"] = \"file:///home/patrickingraham/ospl.xml\""
   ]
  },
  {
   "cell_type": "code",
   "execution_count": 3,
   "metadata": {},
   "outputs": [],
   "source": [
    "import logging\n",
    "stream_handler = logging.StreamHandler(sys.stdout)\n",
    "logger = logging.getLogger()\n",
    "logger.addHandler(stream_handler)\n",
    "logger.level = logging.DEBUG"
   ]
  },
  {
   "cell_type": "code",
   "execution_count": 4,
   "metadata": {},
   "outputs": [
    {
     "name": "stdout",
     "output_type": "stream",
     "text": [
      "Read historical data in 0.01 sec\n",
      "Read historical data in 0.35 sec\n",
      "Read historical data in 0.81 sec\n",
      "Read historical data in 1.16 sec\n",
      "Read historical data in 2.09 sec\n",
      "Read historical data in 3.13 sec\n",
      "Read historical data in 4.66 sec\n",
      "Read historical data in 6.04 sec\n",
      "Read historical data in 6.88 sec\n",
      "Read historical data in 8.47 sec\n",
      "Read historical data in 9.51 sec\n",
      "RemoteEvent(ATArchiver, 0, heartbeat) falling behind; read 13 messages\n",
      "RemoteEvent(ATHeaderService, 0, heartbeat) falling behind; read 13 messages\n",
      "RemoteTelemetry(ATHexapod, 0, positionStatus) falling behind; read 11 messages\n",
      "RemoteTelemetry(ATDome, 0, position) falling behind; read 36 messages\n",
      "RemoteEvent(ATHexapod, 0, heartbeat) falling behind; read 12 messages\n",
      "RemoteEvent(ATDomeTrajectory, 0, logMessage) falling behind; read 100 messages\n"
     ]
    },
    {
     "data": {
      "text/plain": [
       "[[None, None, None, None, None, None, None], [None, None, None, None]]"
      ]
     },
     "execution_count": 4,
     "metadata": {},
     "output_type": "execute_result"
    },
    {
     "name": "stdout",
     "output_type": "stream",
     "text": [
      "RemoteTelemetry(ATPtg, 0, timeAndDate) falling behind; read 20 messages\n",
      "RemoteEvent(ATAOS, 0, heartbeat) falling behind; read 11 messages\n",
      "RemoteEvent(ATDome, 0, doorEncoderExtremes) falling behind; read 41 messages\n",
      "RemoteEvent(ATAOS, 0, detailedState) falling behind; read 19 messages\n",
      "RemoteTelemetry(ATPneumatics, 0, loadCell) falling behind; read 10 messages\n",
      "RemoteTelemetry(ATPtg, 0, mountStatus) falling behind; read 22 messages\n",
      "RemoteTelemetry(ATPtg, 0, guidingAndOffsets) falling behind; read 23 messages\n",
      "RemoteEvent(ATPneumatics, 0, heartbeat) falling behind; read 11 messages\n",
      "RemoteEvent(ATMCS, 0, target) falling behind; read 47 messages\n"
     ]
    }
   ],
   "source": [
    "#get classes and start them\n",
    "domain = salobj.Domain()\n",
    "attcs = ATTCS(domain)\n",
    "latiss = LATISS(domain)\n",
    "await asyncio.gather(attcs.start_task, latiss.start_task)"
   ]
  },
  {
   "cell_type": "code",
   "execution_count": 5,
   "metadata": {},
   "outputs": [],
   "source": [
    "# enable components\n",
    "#await attcs.enable()\n",
    "#await latiss.enable()"
   ]
  },
  {
   "cell_type": "code",
   "execution_count": 6,
   "metadata": {},
   "outputs": [],
   "source": [
    "# take event checking out the slew commands to test telescope only\n",
    "attcs.check.atdome = False\n",
    "attcs.check.atdometrajectory = False"
   ]
  },
  {
   "cell_type": "code",
   "execution_count": 7,
   "metadata": {},
   "outputs": [
    {
     "name": "stdout",
     "output_type": "stream",
     "text": [
      "RemoteTelemetry(ATPtg, 0, currentTargetStatus) falling behind; read 25 messages\n"
     ]
    }
   ],
   "source": [
    "# Perform Rotator verification (LTS-337-003)"
   ]
  },
  {
   "cell_type": "code",
   "execution_count": 8,
   "metadata": {},
   "outputs": [
    {
     "name": "stdout",
     "output_type": "stream",
     "text": [
      "Stop tracking.\n",
      "Mount tracking state is 9\n",
      "Tracking state: 10.\n",
      "Tracking state: 8.\n",
      "In Position: True.\n",
      "In Position: False.\n"
     ]
    }
   ],
   "source": [
    "await attcs.stop_tracking()"
   ]
  },
  {
   "cell_type": "code",
   "execution_count": 9,
   "metadata": {},
   "outputs": [
    {
     "name": "stdout",
     "output_type": "stream",
     "text": [
      "Sending command\n",
      "Stop tracking.\n",
      "Mount tracking state is 8\n",
      "In Position: False.\n",
      "Scheduling check coroutines\n",
      "process as completed...\n",
      "atmcs: <State.ENABLED: 2>\n",
      "atptg: <State.ENABLED: 2>\n",
      "ataos: <State.ENABLED: 2>\n",
      "atpneumatics: <State.ENABLED: 2>\n",
      "athexapod: <State.ENABLED: 2>\n",
      "atdome: <State.ENABLED: 2>\n",
      "atdometrajectory: <State.ENABLED: 2>\n",
      "[Telescope] delta Alt = -000.029 | delta Az = -000.054 delta N1 = -000.000 delta N2 = -152.528 [Dome] delta Az = -003.040\n",
      "[Telescope] delta Alt = +000.000 | delta Az = +000.001 delta N1 = -000.000 delta N2 = -146.893 [Dome] delta Az = -003.040\n",
      "[Telescope] delta Alt = -000.000 | delta Az = +000.001 delta N1 = -000.000 delta N2 = -140.891 [Dome] delta Az = -003.040\n",
      "[Telescope] delta Alt = -000.000 | delta Az = +000.000 delta N1 = -000.000 delta N2 = -134.889 [Dome] delta Az = -003.040\n",
      "[Telescope] delta Alt = -000.000 | delta Az = +000.000 delta N1 = +000.000 delta N2 = -128.895 [Dome] delta Az = -003.040\n",
      "[Telescope] delta Alt = -000.000 | delta Az = -000.000 delta N1 = -000.000 delta N2 = -122.888 [Dome] delta Az = -003.040\n",
      "[Telescope] delta Alt = -000.000 | delta Az = -000.000 delta N1 = -000.000 delta N2 = -116.895 [Dome] delta Az = -003.040\n",
      "[Telescope] delta Alt = -000.000 | delta Az = -000.000 delta N1 = -000.000 delta N2 = -110.890 [Dome] delta Az = -003.040\n",
      "[Telescope] delta Alt = -000.000 | delta Az = -000.000 delta N1 = -000.000 delta N2 = -104.896 [Dome] delta Az = -003.040\n",
      "[Telescope] delta Alt = +000.000 | delta Az = -000.000 delta N1 = +000.000 delta N2 = -098.893 [Dome] delta Az = -003.040\n",
      "[Telescope] delta Alt = -000.000 | delta Az = -000.000 delta N1 = -000.000 delta N2 = -094.892 [Dome] delta Az = -003.040\n",
      "[Telescope] delta Alt = -000.000 | delta Az = -000.000 delta N1 = +000.000 delta N2 = -088.895 [Dome] delta Az = -003.040\n",
      "[Telescope] delta Alt = +000.000 | delta Az = -000.000 delta N1 = +000.000 delta N2 = -082.890 [Dome] delta Az = -003.040\n",
      "[Telescope] delta Alt = -000.000 | delta Az = -000.000 delta N1 = +000.000 delta N2 = -078.893 [Dome] delta Az = -003.040\n",
      "[Telescope] delta Alt = -000.000 | delta Az = -000.000 delta N1 = +000.000 delta N2 = -072.895 [Dome] delta Az = -003.040\n",
      "[Telescope] delta Alt = -000.000 | delta Az = -000.000 delta N1 = +000.000 delta N2 = -066.893 [Dome] delta Az = -003.040\n",
      "[Telescope] delta Alt = -000.000 | delta Az = -000.000 delta N1 = +000.000 delta N2 = -062.899 [Dome] delta Az = -003.040\n",
      "[Telescope] delta Alt = -000.000 | delta Az = -000.000 delta N1 = -000.000 delta N2 = -056.890 [Dome] delta Az = -003.040\n",
      "[Telescope] delta Alt = -000.000 | delta Az = -000.000 delta N1 = -000.000 delta N2 = -050.897 [Dome] delta Az = -003.040\n",
      "[Telescope] delta Alt = -000.000 | delta Az = -000.000 delta N1 = -000.000 delta N2 = -046.899 [Dome] delta Az = -003.040\n",
      "[Telescope] delta Alt = -000.000 | delta Az = -000.000 delta N1 = +000.000 delta N2 = -040.888 [Dome] delta Az = -003.040\n",
      "[Telescope] delta Alt = -000.000 | delta Az = -000.000 delta N1 = +000.000 delta N2 = -036.894 [Dome] delta Az = -003.040\n",
      "[Telescope] delta Alt = -000.000 | delta Az = +000.000 delta N1 = +000.000 delta N2 = -030.893 [Dome] delta Az = -003.040\n",
      "[Telescope] delta Alt = -000.000 | delta Az = +000.000 delta N1 = +000.000 delta N2 = -024.913 [Dome] delta Az = -003.040\n",
      "[Telescope] delta Alt = +000.000 | delta Az = -000.000 delta N1 = +000.000 delta N2 = -019.078 [Dome] delta Az = -003.040\n",
      "[Telescope] delta Alt = -000.000 | delta Az = +000.000 delta N1 = -000.000 delta N2 = -015.381 [Dome] delta Az = -003.040\n",
      "[Telescope] delta Alt = -000.000 | delta Az = -000.000 delta N1 = -000.000 delta N2 = -011.933 [Dome] delta Az = -003.040\n",
      "[Telescope] delta Alt = -000.000 | delta Az = -000.000 delta N1 = -000.000 delta N2 = -007.425 [Dome] delta Az = -003.040\n",
      "[Telescope] delta Alt = -000.000 | delta Az = -000.000 delta N1 = +000.000 delta N2 = -003.926 [Dome] delta Az = -003.040\n",
      "[Telescope] delta Alt = +000.000 | delta Az = -000.000 delta N1 = +000.000 delta N2 = -001.583 [Dome] delta Az = -003.040\n",
      "[Telescope] delta Alt = +000.000 | delta Az = +000.000 delta N1 = -000.000 delta N2 = -000.363 [Dome] delta Az = -003.040\n",
      "[Telescope] delta Alt = +000.000 | delta Az = -000.000 delta N1 = -000.000 delta N2 = -000.059 [Dome] delta Az = -003.040\n",
      "[Telescope] delta Alt = +000.000 | delta Az = +000.000 delta N1 = -000.000 delta N2 = +000.000 [Dome] delta Az = -003.040\n",
      "Axes in position.\n",
      "None\n"
     ]
    }
   ],
   "source": [
    "start_az=165.5\n",
    "start_el=67.9\n",
    "start_rot_pa=-170\n",
    "await attcs.point_azel(start_az, start_el, rot_pa=start_rot_pa, wait_dome=True)"
   ]
  },
  {
   "cell_type": "code",
   "execution_count": 10,
   "metadata": {},
   "outputs": [
    {
     "name": "stdout",
     "output_type": "stream",
     "text": [
      "Sending command\n",
      "Stop tracking.\n",
      "Mount tracking state is 9\n",
      "Tracking state: 10.\n",
      "Tracking state: 8.\n",
      "In Position: True.\n",
      "In Position: False.\n",
      "Scheduling check coroutines\n",
      "process as completed...\n",
      "atmcs: <State.ENABLED: 2>\n",
      "atptg: <State.ENABLED: 2>\n",
      "ataos: <State.ENABLED: 2>\n",
      "atpneumatics: <State.ENABLED: 2>\n",
      "athexapod: <State.ENABLED: 2>\n",
      "atdome: <State.ENABLED: 2>\n",
      "atdometrajectory: <State.ENABLED: 2>\n",
      "[Telescope] delta Alt = -000.002 | delta Az = +000.000 delta N1 = +000.000 delta N2 = -020.230 [Dome] delta Az = -003.040\n",
      "[Telescope] delta Alt = +000.000 | delta Az = +000.000 delta N1 = +000.000 delta N2 = -025.440 [Dome] delta Az = -003.040\n",
      "[Telescope] delta Alt = +000.000 | delta Az = +000.000 delta N1 = +000.000 delta N2 = -031.441 [Dome] delta Az = -003.040\n",
      "[Telescope] delta Alt = +000.000 | delta Az = +000.000 delta N1 = +000.000 delta N2 = -037.438 [Dome] delta Az = -003.040\n",
      "[Telescope] delta Alt = +000.000 | delta Az = +000.000 delta N1 = -000.000 delta N2 = -043.442 [Dome] delta Az = -003.040\n",
      "[Telescope] delta Alt = +000.000 | delta Az = +000.000 delta N1 = -000.000 delta N2 = -049.440 [Dome] delta Az = -003.040\n",
      "[Telescope] delta Alt = +000.000 | delta Az = +000.000 delta N1 = +000.000 delta N2 = -055.443 [Dome] delta Az = -003.040\n",
      "[Telescope] delta Alt = -000.000 | delta Az = +000.000 delta N1 = +000.000 delta N2 = -059.442 [Dome] delta Az = -003.040\n",
      "[Telescope] delta Alt = +000.000 | delta Az = +000.000 delta N1 = -000.000 delta N2 = -065.440 [Dome] delta Az = -003.040\n",
      "[Telescope] delta Alt = +000.000 | delta Az = +000.000 delta N1 = -000.000 delta N2 = -071.442 [Dome] delta Az = -003.040\n",
      "[Telescope] delta Alt = +000.000 | delta Az = +000.000 delta N1 = -000.000 delta N2 = -077.437 [Dome] delta Az = -003.040\n",
      "[Telescope] delta Alt = -000.000 | delta Az = +000.000 delta N1 = +000.000 delta N2 = -083.445 [Dome] delta Az = -003.040\n",
      "[Telescope] delta Alt = -000.000 | delta Az = -000.000 delta N1 = +000.000 delta N2 = -089.435 [Dome] delta Az = -003.040\n",
      "[Telescope] delta Alt = -000.000 | delta Az = -000.000 delta N1 = +000.000 delta N2 = -095.442 [Dome] delta Az = -003.040\n",
      "[Telescope] delta Alt = -000.000 | delta Az = -000.000 delta N1 = +000.000 delta N2 = -101.441 [Dome] delta Az = -003.040\n",
      "[Telescope] delta Alt = -000.000 | delta Az = -000.000 delta N1 = +000.000 delta N2 = -107.440 [Dome] delta Az = -003.040\n",
      "[Telescope] delta Alt = -000.000 | delta Az = -000.000 delta N1 = +000.000 delta N2 = -113.440 [Dome] delta Az = -003.040\n",
      "[Telescope] delta Alt = -000.000 | delta Az = -000.000 delta N1 = +000.000 delta N2 = -117.440 [Dome] delta Az = -003.040\n",
      "[Telescope] delta Alt = -000.000 | delta Az = -000.000 delta N1 = +000.000 delta N2 = -121.441 [Dome] delta Az = -003.040\n",
      "[Telescope] delta Alt = +000.000 | delta Az = -000.000 delta N1 = +000.000 delta N2 = -125.443 [Dome] delta Az = -003.040\n",
      "[Telescope] delta Alt = -000.000 | delta Az = -000.000 delta N1 = +000.000 delta N2 = -131.442 [Dome] delta Az = -003.040\n",
      "[Telescope] delta Alt = +000.000 | delta Az = -000.000 delta N1 = -000.000 delta N2 = -137.447 [Dome] delta Az = -003.040\n",
      "[Telescope] delta Alt = -000.000 | delta Az = -000.000 delta N1 = +000.000 delta N2 = -143.441 [Dome] delta Az = -003.040\n",
      "[Telescope] delta Alt = -000.000 | delta Az = -000.000 delta N1 = +000.000 delta N2 = -149.438 [Dome] delta Az = -003.040\n",
      "[Telescope] delta Alt = +000.000 | delta Az = -000.000 delta N1 = -000.000 delta N2 = -155.441 [Dome] delta Az = -003.040\n",
      "[Telescope] delta Alt = +000.000 | delta Az = -000.000 delta N1 = -000.000 delta N2 = -161.441 [Dome] delta Az = -003.040\n",
      "[Telescope] delta Alt = -000.000 | delta Az = -000.000 delta N1 = -000.000 delta N2 = -167.444 [Dome] delta Az = -003.040\n",
      "[Telescope] delta Alt = +000.000 | delta Az = -000.000 delta N1 = +000.000 delta N2 = -173.439 [Dome] delta Az = -003.040\n",
      "[Telescope] delta Alt = -000.000 | delta Az = +000.000 delta N1 = +000.000 delta N2 = -179.441 [Dome] delta Az = -003.040\n",
      "[Telescope] delta Alt = -000.000 | delta Az = -000.000 delta N1 = -000.000 delta N2 = +174.558 [Dome] delta Az = -003.040\n",
      "[Telescope] delta Alt = +000.000 | delta Az = -000.000 delta N1 = -000.000 delta N2 = +168.565 [Dome] delta Az = -003.040\n",
      "[Telescope] delta Alt = +000.000 | delta Az = +000.000 delta N1 = +000.000 delta N2 = +162.557 [Dome] delta Az = -003.040\n",
      "[Telescope] delta Alt = +000.000 | delta Az = -000.000 delta N1 = -000.000 delta N2 = +156.558 [Dome] delta Az = -003.040\n",
      "[Telescope] delta Alt = +000.000 | delta Az = -000.000 delta N1 = -000.000 delta N2 = +150.559 [Dome] delta Az = -003.040\n",
      "[Telescope] delta Alt = -000.000 | delta Az = +000.000 delta N1 = +000.000 delta N2 = +146.555 [Dome] delta Az = -003.040\n",
      "[Telescope] delta Alt = -000.000 | delta Az = +000.000 delta N1 = +000.000 delta N2 = +142.561 [Dome] delta Az = -003.040\n",
      "[Telescope] delta Alt = +000.000 | delta Az = -000.000 delta N1 = -000.000 delta N2 = +136.559 [Dome] delta Az = -003.040\n",
      "[Telescope] delta Alt = +000.000 | delta Az = +000.000 delta N1 = -000.000 delta N2 = +130.559 [Dome] delta Az = -003.040\n",
      "[Telescope] delta Alt = +000.000 | delta Az = +000.000 delta N1 = +000.000 delta N2 = +124.563 [Dome] delta Az = -003.040\n",
      "[Telescope] delta Alt = +000.000 | delta Az = +000.000 delta N1 = +000.000 delta N2 = +118.556 [Dome] delta Az = -003.040\n",
      "[Telescope] delta Alt = +000.000 | delta Az = +000.000 delta N1 = +000.000 delta N2 = +112.559 [Dome] delta Az = -003.040\n",
      "[Telescope] delta Alt = +000.000 | delta Az = +000.000 delta N1 = +000.000 delta N2 = +106.558 [Dome] delta Az = -003.040\n",
      "[Telescope] delta Alt = +000.000 | delta Az = +000.000 delta N1 = +000.000 delta N2 = +100.559 [Dome] delta Az = -003.040\n",
      "[Telescope] delta Alt = +000.000 | delta Az = -000.000 delta N1 = +000.000 delta N2 = +094.563 [Dome] delta Az = -003.040\n",
      "[Telescope] delta Alt = -000.000 | delta Az = -000.000 delta N1 = +000.000 delta N2 = +088.560 [Dome] delta Az = -003.040\n",
      "[Telescope] delta Alt = -000.000 | delta Az = -000.000 delta N1 = +000.000 delta N2 = +082.563 [Dome] delta Az = -003.040\n",
      "[Telescope] delta Alt = -000.000 | delta Az = +000.000 delta N1 = -000.000 delta N2 = +076.561 [Dome] delta Az = -003.040\n",
      "[Telescope] delta Alt = -000.000 | delta Az = +000.000 delta N1 = -000.000 delta N2 = +070.561 [Dome] delta Az = -003.040\n",
      "[Telescope] delta Alt = -000.000 | delta Az = +000.000 delta N1 = -000.000 delta N2 = +064.554 [Dome] delta Az = -003.040\n",
      "[Telescope] delta Alt = -000.000 | delta Az = -000.000 delta N1 = -000.000 delta N2 = +060.559 [Dome] delta Az = -003.040\n",
      "[Telescope] delta Alt = -000.000 | delta Az = +000.000 delta N1 = -000.000 delta N2 = +054.564 [Dome] delta Az = -003.040\n",
      "[Telescope] delta Alt = -000.000 | delta Az = +000.000 delta N1 = +000.000 delta N2 = +050.555 [Dome] delta Az = -003.040\n",
      "[Telescope] delta Alt = -000.000 | delta Az = -000.000 delta N1 = +000.000 delta N2 = +044.560 [Dome] delta Az = -003.040\n",
      "[Telescope] delta Alt = -000.000 | delta Az = -000.000 delta N1 = -000.000 delta N2 = +038.554 [Dome] delta Az = -003.040\n",
      "[Telescope] delta Alt = -000.000 | delta Az = -000.000 delta N1 = +000.000 delta N2 = +032.561 [Dome] delta Az = -003.040\n",
      "[Telescope] delta Alt = -000.000 | delta Az = -000.000 delta N1 = -000.000 delta N2 = +026.569 [Dome] delta Az = -003.040\n",
      "[Telescope] delta Alt = -000.000 | delta Az = +000.000 delta N1 = +000.000 delta N2 = +020.668 [Dome] delta Az = -003.040\n",
      "[Telescope] delta Alt = -000.000 | delta Az = +000.000 delta N1 = +000.000 delta N2 = +015.068 [Dome] delta Az = -003.040\n",
      "[Telescope] delta Alt = +000.000 | delta Az = +000.000 delta N1 = +000.000 delta N2 = +010.073 [Dome] delta Az = -003.040\n",
      "[Telescope] delta Alt = -000.000 | delta Az = +000.000 delta N1 = +000.000 delta N2 = +005.945 [Dome] delta Az = -003.040\n",
      "[Telescope] delta Alt = +000.000 | delta Az = -000.000 delta N1 = +000.000 delta N2 = +002.884 [Dome] delta Az = -003.040\n",
      "[Telescope] delta Alt = -000.000 | delta Az = +000.000 delta N1 = -000.000 delta N2 = +000.983 [Dome] delta Az = -003.040\n",
      "[Telescope] delta Alt = +000.000 | delta Az = +000.000 delta N1 = -000.000 delta N2 = +000.146 [Dome] delta Az = -003.040\n",
      "[Telescope] delta Alt = +000.000 | delta Az = -000.000 delta N1 = +000.000 delta N2 = -000.000 [Dome] delta Az = -003.040\n",
      "Axes in position.\n",
      "None\n",
      "Time to perform 340 degree rotation of N2 is 191.45788860321045 seconds\n",
      "RemoteEvent(ATMCS, 0, target) falling behind; read 38 messages\n",
      "RemoteEvent(ATDomeTrajectory, 0, logMessage) falling behind; read 19 messages\n",
      "RemoteEvent(ATDomeTrajectory, 0, logMessage) falling behind; read 11 messages\n",
      "RemoteEvent(ATDomeTrajectory, 0, logMessage) falling behind; read 14 messages\n",
      "RemoteEvent(ATMCS, 0, target) falling behind; read 20 messages\n",
      "RemoteEvent(ATDomeTrajectory, 0, logMessage) falling behind; read 62 messages\n"
     ]
    }
   ],
   "source": [
    "start_az=165.5\n",
    "start_el=67.9\n",
    "start_rot_pa=170\n",
    "\n",
    "start_time =time.time()\n",
    "await attcs.point_azel(start_az, start_el, rot_pa=start_rot_pa, wait_dome=True)\n",
    "end_time = time.time()\n",
    "print(f'Time to perform {170*2} degree rotation of N2 is {end_time-start_time} seconds')"
   ]
  },
  {
   "cell_type": "code",
   "execution_count": null,
   "metadata": {},
   "outputs": [],
   "source": []
  },
  {
   "cell_type": "code",
   "execution_count": null,
   "metadata": {},
   "outputs": [],
   "source": [
    "# send telescope to alt/az/\n",
    "#await salobj.set_summary_state(latiss.atcamera, salobj.State.ENABLED)"
   ]
  },
  {
   "cell_type": "code",
   "execution_count": null,
   "metadata": {},
   "outputs": [],
   "source": [
    "# point telescope to desired starting position\n",
    "# this make take extra time as more checks are performed\n",
    "start_az=50\n",
    "start_el=20\n",
    "start_rot_pa=0\n",
    "await attcs.point_azel(start_az, start_el, rot_pa=start_rot_pa, wait_dome=True)"
   ]
  },
  {
   "cell_type": "code",
   "execution_count": null,
   "metadata": {},
   "outputs": [],
   "source": [
    "#declare offset size\n",
    "d_az= 3.5 # degrees\n",
    "d_el = 3.5 # degrees\n",
    "d_rot= 3.5 # degrees\n",
    "\n",
    "d_az= 10 # degrees\n",
    "d_el = 10 # degrees\n",
    "d_rot= 10 # degrees\n",
    "\n",
    "d_az= 90 # degrees\n",
    "d_el = 60 # degrees\n",
    "d_rot= 90 # degrees"
   ]
  },
  {
   "cell_type": "code",
   "execution_count": null,
   "metadata": {},
   "outputs": [],
   "source": [
    "from astropy.time import Time\n",
    "from astropy.coordinates import AltAz, ICRS, EarthLocation, Angle, FK5\n",
    "import astropy.units as u\n",
    "location = EarthLocation.from_geodetic(lon=-70.747698*u.deg,\n",
    "                                       lat=-30.244728*u.deg,\n",
    "                                       height=2663.0*u.m)"
   ]
  },
  {
   "cell_type": "code",
   "execution_count": null,
   "metadata": {},
   "outputs": [],
   "source": [
    "# get RA/DEC of current position\n",
    "az = Angle(start_az, unit=u.deg)\n",
    "el = Angle(start_el, unit=u.deg)\n",
    "print(f'orig az {az} and el {el}')\n",
    "time_data = await attcs.atptg.tel_timeAndDate.next(flush=True, timeout=2)\n",
    "curr_time_atptg = Time(time_data.tai, format=\"mjd\", scale=\"tai\")\n",
    "#print(curr_time_atptg)\n",
    "coord_frame_AltAz = AltAz(location=location, obstime=curr_time_atptg)\n",
    "coord_frame_radec = ICRS()\n",
    "coord_azel = AltAz(az=az, alt=el, location=location, obstime=curr_time_atptg)\n",
    "ra_dec = coord_azel.transform_to(coord_frame_radec)\n",
    "print('Current Position is: \\n {}'.format(coord_azel))\n",
    "print('Current Position is: \\n {}'.format(ra_dec))\n",
    "\n",
    "# get RA/DEC of target position\n",
    "az = Angle(start_az+d_az, unit=u.deg)\n",
    "el = Angle(start_el+d_el, unit=u.deg)\n",
    "print(f'target az {az} and el {el}')\n",
    "coord_azel_target = AltAz(az=az, alt=el, location=location, obstime=curr_time_atptg)\n",
    "ra_dec_target = coord_azel_target.transform_to(coord_frame_radec)\n",
    "print('Target Position is: \\n {}'.format(coord_azel_target))\n",
    "print('Target Position is: \\n {}'.format(ra_dec_target))\n"
   ]
  },
  {
   "cell_type": "code",
   "execution_count": null,
   "metadata": {},
   "outputs": [],
   "source": []
  },
  {
   "cell_type": "code",
   "execution_count": null,
   "metadata": {},
   "outputs": [],
   "source": [
    "# Why does doing no slew at all take ~32.7 sec?\n",
    "\n",
    "#send to starting position\n",
    "await attcs.slew_icrs(ra=str(ra_dec.ra), dec=str(ra_dec.dec), rot_pa=0.0, slew_timeout=240., stop_before_slew=True)\n",
    "\n",
    "\n",
    "print('track for 2s')\n",
    "await asyncio.sleep(2)\n",
    "# take a quick image\n",
    "await latiss.take_engtest(exptime=1)\n",
    "\n",
    "print('Starting to Slew to target')\n",
    "start_time = time.time()\n",
    "await attcs.slew_icrs(ra=str(ra_dec_target.ra), dec=str(ra_dec_target.dec), rot_pa=d_rot, slew_timeout=240., stop_before_slew=False, wait_settle=False)\n",
    "end_time = time.time()\n",
    "print('Time to slew is {} [s]'.format(end_time-start_time))\n",
    "await latiss.take_engtest(exptime=1)"
   ]
  },
  {
   "cell_type": "code",
   "execution_count": null,
   "metadata": {},
   "outputs": [],
   "source": [
    "await attcs.stop_tracking()"
   ]
  },
  {
   "cell_type": "code",
   "execution_count": null,
   "metadata": {},
   "outputs": [],
   "source": []
  },
  {
   "cell_type": "code",
   "execution_count": null,
   "metadata": {},
   "outputs": [],
   "source": []
  },
  {
   "cell_type": "code",
   "execution_count": null,
   "metadata": {},
   "outputs": [],
   "source": []
  },
  {
   "cell_type": "code",
   "execution_count": null,
   "metadata": {},
   "outputs": [],
   "source": [
    "# Perform tracking test by taking continous 20s exposures\n",
    "#await attcs.slew_object('HD 167060')\n",
    "await attcs.slew_object('WD 1327-083')"
   ]
  },
  {
   "cell_type": "code",
   "execution_count": null,
   "metadata": {},
   "outputs": [],
   "source": [
    "await latiss.take_object(exptime=15, grating='empty_1', filter='RG610')"
   ]
  },
  {
   "cell_type": "code",
   "execution_count": null,
   "metadata": {},
   "outputs": [],
   "source": [
    "await latiss.take_object(exptime=15, grating='ronchi90lpmm', filter='empty_1')"
   ]
  },
  {
   "cell_type": "code",
   "execution_count": null,
   "metadata": {},
   "outputs": [],
   "source": [
    "while True:\n",
    "    await latiss.take_object(exptime=15, grating='empty_1', filter='RG610')\n",
    "    await latiss.take_object(exptime=15, grating='ronchi90lpmm', filter='empty_1')"
   ]
  },
  {
   "cell_type": "code",
   "execution_count": null,
   "metadata": {},
   "outputs": [],
   "source": [
    "# stopped tracking elsewhere, then reslewed\n",
    "await attcs.slew_object('HD 59468')"
   ]
  },
  {
   "cell_type": "code",
   "execution_count": null,
   "metadata": {},
   "outputs": [],
   "source": [
    "# OFFSET  AZ/EL\n",
    "await attcs.offset_azel(az=-10*60*60, el=0)"
   ]
  },
  {
   "cell_type": "code",
   "execution_count": null,
   "metadata": {},
   "outputs": [],
   "source": []
  },
  {
   "cell_type": "code",
   "execution_count": null,
   "metadata": {},
   "outputs": [],
   "source": [
    "# again\n",
    "await attcs.offset_azel(az=-20*60*60, el=0)"
   ]
  },
  {
   "cell_type": "code",
   "execution_count": null,
   "metadata": {},
   "outputs": [],
   "source": [
    "# OFFSET  AZ/EL\n",
    "await attcs.offset_azel(az=-10*60*60, el=0)"
   ]
  },
  {
   "cell_type": "code",
   "execution_count": null,
   "metadata": {},
   "outputs": [],
   "source": [
    "# OFFSET  AZ/EL\n",
    "await attcs.offset_azel(az=-5*60*60, el=0)\n",
    "await attcs.offset_azel(az=-2*60*60, el=0)\n",
    "await attcs.offset_azel(az=0, el=0)"
   ]
  },
  {
   "cell_type": "code",
   "execution_count": null,
   "metadata": {},
   "outputs": [],
   "source": [
    "while True:\n",
    "    await latiss.take_object(exptime=15, grating='empty_1', filter='RG610')\n",
    "    await latiss.take_object(exptime=15, grating='ronchi90lpmm', filter='empty_1')\n",
    "    "
   ]
  },
  {
   "cell_type": "code",
   "execution_count": 11,
   "metadata": {},
   "outputs": [
    {
     "name": "stdout",
     "output_type": "stream",
     "text": [
      "Generating group_id\n",
      "BIAS 0001 - 0001\n"
     ]
    },
    {
     "data": {
      "text/plain": [
       "array([2020031600076])"
      ]
     },
     "execution_count": 11,
     "metadata": {},
     "output_type": "execute_result"
    },
    {
     "name": "stdout",
     "output_type": "stream",
     "text": [
      "RemoteEvent(ATMCS, 0, target) falling behind; read 100 messages\n",
      "RemoteEvent(ATDomeTrajectory, 0, logMessage) falling behind; read 14 messages\n",
      "RemoteEvent(ATMCS, 0, target) falling behind; read 20 messages\n"
     ]
    }
   ],
   "source": [
    "await latiss.take_bias(nbias=1)"
   ]
  },
  {
   "cell_type": "code",
   "execution_count": null,
   "metadata": {},
   "outputs": [],
   "source": [
    "#await attcs.startup()"
   ]
  },
  {
   "cell_type": "code",
   "execution_count": 12,
   "metadata": {},
   "outputs": [
    {
     "name": "stdout",
     "output_type": "stream",
     "text": [
      "Gathering settings.\n",
      "No settings for atcamera.\n",
      "Using  from settingVersions event.\n",
      "No settings for atspectrograph.\n",
      "Using current from settingVersions event.\n",
      "No settings for atheaderservice.\n",
      "Couldn't get settingVersions event. Using empty settings.\n",
      "No settings for atarchiver.\n",
      "Using normal from settingVersions event.\n",
      "Settings versions: {'atcamera': '', 'atspectrograph': 'current', 'atheaderservice': '', 'atarchiver': 'normal'}\n",
      "Enabling all components\n",
      "Enabling  atcamera\n",
      "Enabling  atspectrograph\n",
      "Enabling  atheaderservice\n",
      "Enabling  atarchiver\n",
      "[atcamera]::[<State.ENABLED: 2>]\n",
      "[atspectrograph]::[<State.ENABLED: 2>]\n",
      "[atheaderservice]::[<State.ENABLED: 2>]\n",
      "[atarchiver]::[<State.FAULT: 3>, <State.STANDBY: 5>, <State.DISABLED: 1>, <State.ENABLED: 2>]\n",
      "All components enabled.\n",
      "RemoteEvent(ATHeaderService, 0, logMessage) falling behind; read 14 messages\n",
      "RemoteEvent(ATHeaderService, 0, logMessage) falling behind; read 12 messages\n",
      "RemoteEvent(ATHeaderService, 0, logMessage) falling behind; read 12 messages\n",
      "RemoteEvent(ATHeaderService, 0, logMessage) falling behind; read 12 messages\n",
      "RemoteEvent(ATHeaderService, 0, logMessage) falling behind; read 11 messages\n",
      "RemoteEvent(ATHeaderService, 0, logMessage) falling behind; read 13 messages\n",
      "RemoteEvent(ATHeaderService, 0, logMessage) falling behind; read 13 messages\n",
      "RemoteEvent(ATHeaderService, 0, logMessage) falling behind; read 10 messages\n",
      "RemoteEvent(ATHeaderService, 0, logMessage) falling behind; read 18 messages\n",
      "RemoteEvent(ATHeaderService, 0, logMessage) falling behind; read 10 messages\n",
      "RemoteEvent(ATHeaderService, 0, logMessage) falling behind; read 13 messages\n",
      "RemoteEvent(ATHeaderService, 0, logMessage) falling behind; read 10 messages\n",
      "RemoteEvent(ATHeaderService, 0, logMessage) falling behind; read 12 messages\n",
      "RemoteEvent(ATHeaderService, 0, logMessage) falling behind; read 10 messages\n",
      "RemoteEvent(ATHeaderService, 0, logMessage) falling behind; read 13 messages\n",
      "RemoteEvent(ATHeaderService, 0, logMessage) falling behind; read 11 messages\n"
     ]
    }
   ],
   "source": [
    "await latiss.enable()"
   ]
  },
  {
   "cell_type": "code",
   "execution_count": null,
   "metadata": {},
   "outputs": [],
   "source": []
  }
 ],
 "metadata": {
  "kernelspec": {
   "display_name": "LSST",
   "language": "python",
   "name": "lsst"
  },
  "language_info": {
   "codemirror_mode": {
    "name": "ipython",
    "version": 3
   },
   "file_extension": ".py",
   "mimetype": "text/x-python",
   "name": "python",
   "nbconvert_exporter": "python",
   "pygments_lexer": "ipython3",
   "version": "3.7.6"
  }
 },
 "nbformat": 4,
 "nbformat_minor": 4
}
