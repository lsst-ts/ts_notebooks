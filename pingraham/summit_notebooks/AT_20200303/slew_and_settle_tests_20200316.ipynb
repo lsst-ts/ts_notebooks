{
 "cells": [
  {
   "cell_type": "code",
   "execution_count": null,
   "metadata": {},
   "outputs": [],
   "source": [
    "import sys\n",
    "import asyncio\n",
    "import time\n",
    "\n",
    "import numpy as np\n",
    "\n",
    "from lsst.ts import salobj\n",
    "\n",
    "from lsst.ts.standardscripts.auxtel.attcs import ATTCS\n",
    "from lsst.ts.standardscripts.auxtel.latiss import LATISS"
   ]
  },
  {
   "cell_type": "code",
   "execution_count": null,
   "metadata": {},
   "outputs": [],
   "source": [
    "# Temporarily needed to run at summit\n",
    "import os\n",
    "os.environ[\"LSST_DDS_DOMAIN\"] = 'lsatmcs'\n",
    "os.environ[\"OSPL_URI\"] = \"file:///home/patrickingraham/ospl.xml\""
   ]
  },
  {
   "cell_type": "code",
   "execution_count": null,
   "metadata": {},
   "outputs": [],
   "source": [
    "import logging\n",
    "stream_handler = logging.StreamHandler(sys.stdout)\n",
    "logger = logging.getLogger()\n",
    "logger.addHandler(stream_handler)\n",
    "logger.level = logging.DEBUG"
   ]
  },
  {
   "cell_type": "code",
   "execution_count": null,
   "metadata": {},
   "outputs": [],
   "source": [
    "#get classes and start them\n",
    "domain = salobj.Domain()\n",
    "attcs = ATTCS(domain)\n",
    "latiss = LATISS(domain)\n",
    "await asyncio.gather(attcs.start_task, latiss.start_task)"
   ]
  },
  {
   "cell_type": "code",
   "execution_count": null,
   "metadata": {},
   "outputs": [],
   "source": [
    "# enable components\n",
    "#await attcs.enable()\n",
    "#await latiss.enable()"
   ]
  },
  {
   "cell_type": "code",
   "execution_count": null,
   "metadata": {},
   "outputs": [],
   "source": [
    "# take event checking out the slew commands to test telescope only\n",
    "attcs.check.atdome = False\n",
    "attcs.check.atdometrajectory = False"
   ]
  },
  {
   "cell_type": "code",
   "execution_count": null,
   "metadata": {},
   "outputs": [],
   "source": [
    "# Perform Rotator verification (LTS-337-003)"
   ]
  },
  {
   "cell_type": "code",
   "execution_count": null,
   "metadata": {},
   "outputs": [],
   "source": [
    "await attcs.stop_tracking()"
   ]
  },
  {
   "cell_type": "code",
   "execution_count": null,
   "metadata": {},
   "outputs": [],
   "source": [
    "start_az=165.5\n",
    "start_el=67.9\n",
    "start_rot_pa=-170\n",
    "await attcs.point_azel(start_az, start_el, rot_pa=start_rot_pa, wait_dome=True)"
   ]
  },
  {
   "cell_type": "code",
   "execution_count": null,
   "metadata": {},
   "outputs": [],
   "source": [
    "start_az=165.5\n",
    "start_el=67.9\n",
    "start_rot_pa=170\n",
    "\n",
    "start_time =time.time()\n",
    "await attcs.point_azel(start_az, start_el, rot_pa=start_rot_pa, wait_dome=True)\n",
    "end_time = time.time()\n",
    "print(f'Time to perform {170*2} degree rotation of N2 is {end_time-start_time} seconds')"
   ]
  },
  {
   "cell_type": "code",
   "execution_count": null,
   "metadata": {},
   "outputs": [],
   "source": []
  },
  {
   "cell_type": "code",
   "execution_count": null,
   "metadata": {},
   "outputs": [],
   "source": [
    "# send telescope to alt/az/\n",
    "#await salobj.set_summary_state(latiss.atcamera, salobj.State.ENABLED)"
   ]
  },
  {
   "cell_type": "code",
   "execution_count": null,
   "metadata": {},
   "outputs": [],
   "source": [
    "# point telescope to desired starting position\n",
    "# this make take extra time as more checks are performed\n",
    "start_az=50\n",
    "start_el=20\n",
    "start_rot_pa=0\n",
    "await attcs.point_azel(start_az, start_el, rot_pa=start_rot_pa, wait_dome=True)"
   ]
  },
  {
   "cell_type": "code",
   "execution_count": null,
   "metadata": {},
   "outputs": [],
   "source": [
    "#declare offset size\n",
    "d_az= 3.5 # degrees\n",
    "d_el = 3.5 # degrees\n",
    "d_rot= 3.5 # degrees\n",
    "\n",
    "d_az= 10 # degrees\n",
    "d_el = 10 # degrees\n",
    "d_rot= 10 # degrees\n",
    "\n",
    "d_az= 90 # degrees\n",
    "d_el = 60 # degrees\n",
    "d_rot= 90 # degrees"
   ]
  },
  {
   "cell_type": "code",
   "execution_count": null,
   "metadata": {},
   "outputs": [],
   "source": [
    "from astropy.time import Time\n",
    "from astropy.coordinates import AltAz, ICRS, EarthLocation, Angle, FK5\n",
    "import astropy.units as u\n",
    "location = EarthLocation.from_geodetic(lon=-70.747698*u.deg,\n",
    "                                       lat=-30.244728*u.deg,\n",
    "                                       height=2663.0*u.m)"
   ]
  },
  {
   "cell_type": "code",
   "execution_count": null,
   "metadata": {},
   "outputs": [],
   "source": [
    "# get RA/DEC of current position\n",
    "az = Angle(start_az, unit=u.deg)\n",
    "el = Angle(start_el, unit=u.deg)\n",
    "print(f'orig az {az} and el {el}')\n",
    "time_data = await attcs.atptg.tel_timeAndDate.next(flush=True, timeout=2)\n",
    "curr_time_atptg = Time(time_data.tai, format=\"mjd\", scale=\"tai\")\n",
    "#print(curr_time_atptg)\n",
    "coord_frame_AltAz = AltAz(location=location, obstime=curr_time_atptg)\n",
    "coord_frame_radec = ICRS()\n",
    "coord_azel = AltAz(az=az, alt=el, location=location, obstime=curr_time_atptg)\n",
    "ra_dec = coord_azel.transform_to(coord_frame_radec)\n",
    "print('Current Position is: \\n {}'.format(coord_azel))\n",
    "print('Current Position is: \\n {}'.format(ra_dec))\n",
    "\n",
    "# get RA/DEC of target position\n",
    "az = Angle(start_az+d_az, unit=u.deg)\n",
    "el = Angle(start_el+d_el, unit=u.deg)\n",
    "print(f'target az {az} and el {el}')\n",
    "coord_azel_target = AltAz(az=az, alt=el, location=location, obstime=curr_time_atptg)\n",
    "ra_dec_target = coord_azel_target.transform_to(coord_frame_radec)\n",
    "print('Target Position is: \\n {}'.format(coord_azel_target))\n",
    "print('Target Position is: \\n {}'.format(ra_dec_target))\n"
   ]
  },
  {
   "cell_type": "code",
   "execution_count": null,
   "metadata": {},
   "outputs": [],
   "source": []
  },
  {
   "cell_type": "code",
   "execution_count": null,
   "metadata": {},
   "outputs": [],
   "source": [
    "# Why does doing no slew at all take ~32.7 sec?\n",
    "\n",
    "#send to starting position\n",
    "await attcs.slew_icrs(ra=str(ra_dec.ra), dec=str(ra_dec.dec), rot_pa=0.0, slew_timeout=240., stop_before_slew=True)\n",
    "\n",
    "\n",
    "print('track for 2s')\n",
    "await asyncio.sleep(2)\n",
    "# take a quick image\n",
    "await latiss.take_engtest(exptime=1)\n",
    "\n",
    "print('Starting to Slew to target')\n",
    "start_time = time.time()\n",
    "await attcs.slew_icrs(ra=str(ra_dec_target.ra), dec=str(ra_dec_target.dec), rot_pa=d_rot, slew_timeout=240., stop_before_slew=False, wait_settle=False)\n",
    "end_time = time.time()\n",
    "print('Time to slew is {} [s]'.format(end_time-start_time))\n",
    "await latiss.take_engtest(exptime=1)"
   ]
  },
  {
   "cell_type": "code",
   "execution_count": null,
   "metadata": {},
   "outputs": [],
   "source": [
    "await attcs.stop_tracking()"
   ]
  },
  {
   "cell_type": "code",
   "execution_count": null,
   "metadata": {},
   "outputs": [],
   "source": []
  },
  {
   "cell_type": "code",
   "execution_count": null,
   "metadata": {},
   "outputs": [],
   "source": []
  },
  {
   "cell_type": "code",
   "execution_count": null,
   "metadata": {},
   "outputs": [],
   "source": []
  },
  {
   "cell_type": "code",
   "execution_count": null,
   "metadata": {},
   "outputs": [],
   "source": [
    "# Perform tracking test by taking continous 20s exposures\n",
    "#await attcs.slew_object('HD 167060')\n",
    "await attcs.slew_object('WD 1327-083')"
   ]
  },
  {
   "cell_type": "code",
   "execution_count": null,
   "metadata": {},
   "outputs": [],
   "source": [
    "await latiss.take_object(exptime=15, grating='empty_1', filter='RG610')"
   ]
  },
  {
   "cell_type": "code",
   "execution_count": null,
   "metadata": {},
   "outputs": [],
   "source": [
    "await latiss.take_object(exptime=15, grating='ronchi90lpmm', filter='empty_1')"
   ]
  },
  {
   "cell_type": "code",
   "execution_count": null,
   "metadata": {},
   "outputs": [],
   "source": [
    "while True:\n",
    "    await latiss.take_object(exptime=15, grating='empty_1', filter='RG610')\n",
    "    await latiss.take_object(exptime=15, grating='ronchi90lpmm', filter='empty_1')"
   ]
  },
  {
   "cell_type": "code",
   "execution_count": null,
   "metadata": {},
   "outputs": [],
   "source": [
    "# stopped tracking elsewhere, then reslewed\n",
    "await attcs.slew_object('HD 59468')"
   ]
  },
  {
   "cell_type": "code",
   "execution_count": null,
   "metadata": {},
   "outputs": [],
   "source": [
    "# OFFSET  AZ/EL\n",
    "await attcs.offset_azel(az=-10*60*60, el=0)"
   ]
  },
  {
   "cell_type": "code",
   "execution_count": null,
   "metadata": {},
   "outputs": [],
   "source": []
  },
  {
   "cell_type": "code",
   "execution_count": null,
   "metadata": {},
   "outputs": [],
   "source": [
    "# again\n",
    "await attcs.offset_azel(az=-20*60*60, el=0)"
   ]
  },
  {
   "cell_type": "code",
   "execution_count": null,
   "metadata": {},
   "outputs": [],
   "source": [
    "# OFFSET  AZ/EL\n",
    "await attcs.offset_azel(az=-10*60*60, el=0)"
   ]
  },
  {
   "cell_type": "code",
   "execution_count": null,
   "metadata": {},
   "outputs": [],
   "source": [
    "# OFFSET  AZ/EL\n",
    "await attcs.offset_azel(az=-5*60*60, el=0)\n",
    "await attcs.offset_azel(az=-2*60*60, el=0)\n",
    "await attcs.offset_azel(az=0, el=0)"
   ]
  },
  {
   "cell_type": "code",
   "execution_count": null,
   "metadata": {},
   "outputs": [],
   "source": [
    "while True:\n",
    "    await latiss.take_object(exptime=15, grating='empty_1', filter='RG610')\n",
    "    await latiss.take_object(exptime=15, grating='ronchi90lpmm', filter='empty_1')\n",
    "    "
   ]
  },
  {
   "cell_type": "code",
   "execution_count": null,
   "metadata": {},
   "outputs": [],
   "source": [
    "await latiss.take_bias(nbias=1)"
   ]
  },
  {
   "cell_type": "code",
   "execution_count": null,
   "metadata": {},
   "outputs": [],
   "source": [
    "#await attcs.startup()"
   ]
  },
  {
   "cell_type": "code",
   "execution_count": null,
   "metadata": {},
   "outputs": [],
   "source": [
    "await latiss.enable()"
   ]
  },
  {
   "cell_type": "code",
   "execution_count": null,
   "metadata": {},
   "outputs": [],
   "source": []
  }
 ],
 "metadata": {
  "kernelspec": {
   "display_name": "LSST",
   "language": "python",
   "name": "lsst"
  },
  "language_info": {
   "codemirror_mode": {
    "name": "ipython",
    "version": 3
   },
   "file_extension": ".py",
   "mimetype": "text/x-python",
   "name": "python",
   "nbconvert_exporter": "python",
   "pygments_lexer": "ipython3",
   "version": "3.7.8"
  }
 },
 "nbformat": 4,
 "nbformat_minor": 4
}
