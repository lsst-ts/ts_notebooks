{
 "cells": [
  {
   "cell_type": "markdown",
   "metadata": {},
   "source": [
    "### Notebook to be used to test that ATCamera, ATHeaderService and ATArchiver are online and working"
   ]
  },
  {
   "cell_type": "code",
   "execution_count": 1,
   "metadata": {},
   "outputs": [],
   "source": [
    "import numpy as np\n",
    "from lsst.ts import salobj\n",
    "import asyncio\n",
    "from astropy.io import fits\n",
    "\n",
    "import warnings\n",
    "#import matplotlib.pyplot as plt  # imported as py above\n",
    "from astropy.modeling import models, fitting\n",
    "from scipy.ndimage.filters import gaussian_filter\n",
    "from matplotlib import pyplot as plt\n",
    "from astropy import time as astropytime\n",
    "#%matplotlib ipympl\n",
    "plt.rcParams['figure.figsize'] = [7, 6]\n",
    "\n",
    "import lsst.daf.persistence as dafPersist\n",
    "import matplotlib.pyplot as plt\n",
    "%matplotlib inline\n",
    "import lsst.afw.display as afwDisplay\n",
    "\n",
    "afwDisplay.setDefaultBackend('matplotlib')\n",
    "import time\n",
    "import lsst.afw.cameraGeom.utils as cameraGeomUtils\n",
    "import lsst.geom\n",
    "\n",
    "import os\n",
    "import logging\n",
    "logging.basicConfig(level=logging.INFO,\n",
    "                    format='%(asctime)s %(name)-12s %(levelname)-8s %(message)s')\n",
    "logger = logging.getLogger('image_display_notebook')"
   ]
  },
  {
   "cell_type": "code",
   "execution_count": 2,
   "metadata": {},
   "outputs": [],
   "source": [
    "# Want to display in firefly?\n",
    "afwDisplay.setDefaultBackend('firefly')\n",
    "os.environ['FIREFLY_HTML'] = \"slate.html\"\n",
    "os.environ['FIREFLY_URL'] = 'http://139.229.170.210:8080/firefly/'"
   ]
  },
  {
   "cell_type": "code",
   "execution_count": 3,
   "metadata": {},
   "outputs": [],
   "source": [
    "# # Setup the butler\n",
    "#accs_images = True\n",
    "accs_images = False\n",
    "if accs_images:\n",
    "    repo = os.path.join(\"/home/saluser/ingest/accs/\")#, mapper={'calibRoot': \"/home/saluser/ingest/dmcs/CALIB\"})\n",
    "    butler = dafPersist.Butler(repo)\n",
    "else:\n",
    "    #repo = os.path.join(\"/home/saluser/ingest/dmcs/\")#, mapper={'calibRoot': \"/home/saluser/ingest/dmcs/CALIB\"})\n",
    "    repo = os.path.join(\"/project/shared/auxTel/\")\n",
    "    butler = dafPersist.Butler(repo) #\n",
    "    #butler = dafPersist.Butler(repo, mapper=\"lsst.obs.lsst.auxTel.AuxTelMapper\")\n",
    "#test   \n",
    "#raw = butler.get(\"raw\", visit=2019111300004)\n",
    "#image = raw.getImage().array"
   ]
  },
  {
   "cell_type": "code",
   "execution_count": null,
   "metadata": {},
   "outputs": [],
   "source": []
  },
  {
   "cell_type": "code",
   "execution_count": 19,
   "metadata": {},
   "outputs": [
    {
     "name": "stdout",
     "output_type": "stream",
     "text": [
      "2020031600132\n"
     ]
    }
   ],
   "source": [
    "visitID = 2020031600132 #292\n",
    "print(visitID)\n"
   ]
  },
  {
   "cell_type": "code",
   "execution_count": 20,
   "metadata": {},
   "outputs": [
    {
     "name": "stderr",
     "output_type": "stream",
     "text": [
      "2020-03-17 02:22:40,046 lsst.obs.lsst.translators.latiss WARNING  AT_O_20200316_000132: Dark time less than exposure time. Setting dark time to the exposure time.\n"
     ]
    },
    {
     "name": "stdout",
     "output_type": "stream",
     "text": [
      "Caught 'LatissMapper' object has no attribute 'map_linearizer' - update your mapper?\n",
      "Running best effort isr...\n",
      "Running with bias subtraction\n",
      "Running with dark correction subtraction\n",
      "Running with defect correction\n",
      "Running cosmic ray repair\n"
     ]
    }
   ],
   "source": [
    "from lsst.rapid.analysis.bestEffort import BestEffortIsr\n",
    "REPODIR = '/project/shared/auxTel/'\n",
    "bestEffort = BestEffortIsr(REPODIR)\n",
    "isr_corr_exposure = bestEffort.getExposure(visitID)"
   ]
  },
  {
   "cell_type": "code",
   "execution_count": 21,
   "metadata": {},
   "outputs": [
    {
     "name": "stdout",
     "output_type": "stream",
     "text": [
      "Opening firefly device 2\n",
      "virtual[2]._setImageColormap(cmap=\"gray\")\n"
     ]
    }
   ],
   "source": [
    "plt.close('all')\n",
    "disp = afwDisplay.Display(2, reopenPlot=True, verbose=True)"
   ]
  },
  {
   "cell_type": "code",
   "execution_count": 22,
   "metadata": {},
   "outputs": [
    {
     "name": "stdout",
     "output_type": "stream",
     "text": [
      "virtual[2]._setImageColormap(cmap=\"gray\")\n",
      "displaying image\n",
      "region layer id is lsstRegions2\n",
      "displaying mask\n"
     ]
    }
   ],
   "source": [
    "if True: # display the image in firefly\n",
    "    #plt.close('all')\n",
    "    #disp = afwDisplay.Display(2, reopenPlot=True)\n",
    "    disp.setMaskPlaneColor('SAT', afwDisplay.IGNORE)\n",
    "    disp.setImageColormap('gray')\n",
    "    disp.scale('linear', 'zscale')\n",
    "    disp.mtv(isr_corr_exposure, title='visit = {}'.format(visitID))\n",
    "    #cgUtils.overlayCcdBoxes(isr_corr_exposure.getDetector(), isTrimmed=True, display=disp)"
   ]
  },
  {
   "cell_type": "code",
   "execution_count": null,
   "metadata": {},
   "outputs": [],
   "source": []
  },
  {
   "cell_type": "code",
   "execution_count": 23,
   "metadata": {},
   "outputs": [],
   "source": [
    "# Only here for me to debug, should be up top with other declarations\n",
    "import importlib\n",
    "import utils.findNarrowbandRonchiPeaks\n",
    "importlib.reload(utils.findNarrowbandRonchiPeaks)\n",
    "from utils.findNarrowbandRonchiPeaks import findNarrowbandRonchiPeaks\n",
    "\n",
    "import utils.fitExposure\n",
    "importlib.reload(utils.fitExposure)\n",
    "from utils.fitExposure import fit2DGaussian\n",
    "\n",
    "import utils.calc_CofM\n",
    "importlib.reload(utils.calc_CofM)\n",
    "from utils.calc_CofM import calc_CofM\n",
    "\n",
    "import utils.calc_encircled_energy\n",
    "importlib.reload(utils.calc_encircled_energy)\n",
    "from utils.calc_encircled_energy import calc_encircled_energy\n",
    "\n",
    "import utils.findBrightestSourceInBox\n",
    "importlib.reload(utils.findBrightestSourceInBox)\n",
    "from utils.findBrightestSourceInBox import findBrightestSourceInBox"
   ]
  },
  {
   "cell_type": "code",
   "execution_count": 24,
   "metadata": {},
   "outputs": [],
   "source": [
    "isr_corr_exposure.image.array -= np.median(isr_corr_exposure.image.array)"
   ]
  },
  {
   "cell_type": "code",
   "execution_count": 25,
   "metadata": {},
   "outputs": [],
   "source": [
    "# Source detection libraries\n",
    "from lsst.meas.algorithms.detection import SourceDetectionTask\n",
    "import lsst.afw.table as afwTable\n",
    "\n",
    "# create the output table for source detection\n",
    "schema = afwTable.SourceTable.makeMinimalSchema()\n",
    "config = SourceDetectionTask.ConfigClass()\n",
    "config.thresholdValue = 20  # detection threshold after smoothing\n",
    "# config.nSigmaToGrow = 1.2 # Only for doughnuts\n",
    "\n",
    "sourceDetectionTask = SourceDetectionTask(schema=schema, config=config)\n",
    "tab = afwTable.SourceTable.make(schema)\n",
    "result = sourceDetectionTask.run(tab, isr_corr_exposure, sigma=5.1)"
   ]
  },
  {
   "cell_type": "code",
   "execution_count": 26,
   "metadata": {},
   "outputs": [],
   "source": [
    "#result.sources"
   ]
  },
  {
   "cell_type": "markdown",
   "metadata": {},
   "source": [
    "## Fit a gaussian"
   ]
  },
  {
   "cell_type": "code",
   "execution_count": 27,
   "metadata": {},
   "outputs": [
    {
     "name": "stdout",
     "output_type": "stream",
     "text": [
      "<Gaussian2D(amplitude=7349.55051835, x_mean=1369.56902075, y_mean=2533.40723208, x_stddev=4.97309268, y_stddev=5.01551975, theta=0.)>\n",
      "Visit ID = 2020031600132\n"
     ]
    },
    {
     "data": {
      "image/png": "[encoded data removed]",
      "text/plain": [
       "<Figure size 936x360 with 3 Axes>"
      ]
     },
     "metadata": {
      "needs_background": "light"
     },
     "output_type": "display_data"
    }
   ],
   "source": [
    "# Find 0th and +/- 1 order peaks \n",
    "sources = result.sources\n",
    "zeroth_order_estimate = lsst.geom.Point2D(2132,2308)\n",
    "zeroth_order_estimate = lsst.geom.Point2D(1369, 2528)\n",
    "#zeroth_order_estimate = lsst.geom.Point2D(2250,1500)\n",
    "zeroth_order_star_BBox= lsst.geom.Box2I.makeCenteredBox(zeroth_order_estimate, lsst.geom.Extent2I(400,400)) \n",
    "bbox0 = lsst.geom.Box2I.makeCenteredBox(zeroth_order_estimate, lsst.geom.Extent2I(100,100)) \n",
    "wavelength= 677.0 \n",
    "dispersion =  0 #(1/0.6358) # pixels/nm\n",
    "spectral_position_angle= 0.0107 # radians clockwise from top\n",
    "#center_source, peak1, peak2 = findNarrowbandRonchiPeaks(sources, zeroth_order_star_BBox, wavelength, dispersion, spectral_position_angle)\n",
    "\n",
    "center_source, center_peak = findBrightestSourceInBox(sources, zeroth_order_star_BBox)\n",
    "\n",
    "peak0_subim = isr_corr_exposure.subset(bbox0)\n",
    "p0, x0 , y0 = fit2DGaussian(peak0_subim, plot=True)\n",
    "print('Visit ID = {}'.format(visitID))"
   ]
  },
  {
   "cell_type": "code",
   "execution_count": 28,
   "metadata": {},
   "outputs": [],
   "source": [
    "seeing = p0.x_fwhm"
   ]
  },
  {
   "cell_type": "code",
   "execution_count": 29,
   "metadata": {},
   "outputs": [
    {
     "name": "stdout",
     "output_type": "stream",
     "text": [
      "1.1827845708738842\n",
      "1.1928752901053694\n"
     ]
    }
   ],
   "source": [
    "print(p0.x_fwhm*0.101)\n",
    "print(p0.y_fwhm*0.101)"
   ]
  },
  {
   "cell_type": "code",
   "execution_count": 31,
   "metadata": {},
   "outputs": [],
   "source": [
    "# peak0_subim = isr_corr_exposure.subset(bbox0)\n",
    "# p0, x0 , y0 = fit2DGaussian(peak0_subim, plot=True)"
   ]
  },
  {
   "cell_type": "code",
   "execution_count": 87,
   "metadata": {},
   "outputs": [],
   "source": [
    "\n",
    "# # Fit peaks\n",
    "# # zeroth order\n",
    "# # variables names are weird here because I can't think of a clever way to have -1 and +1 as variable names\n",
    "\n",
    "# #bbox0 = lsst.geom.Box2I.makeCenteredBox(center_source.getFootprint().getCentroid(), lsst.geom.Extent2I(100,100)) \n",
    "\n",
    "# print('visitID is: {}'.format(visitID))\n",
    "# zeroth_order_estimate = lsst.geom.Point2D(1630,1330)\n",
    "# #zeroth_order_estimate = lsst.geom.Point2D(2025,1980)\n",
    "# bbox0 = lsst.geom.Box2I.makeCenteredBox(zeroth_order_estimate, lsst.geom.Extent2I(100,100)) \n",
    "\n",
    "# peak0_subim = isr_corr_exposure.subset(bbox0)\n",
    "# p0, x0 , y0 = fit2DGaussian(peak0_subim, plot=True)\n"
   ]
  },
  {
   "cell_type": "code",
   "execution_count": null,
   "metadata": {},
   "outputs": [],
   "source": []
  },
  {
   "cell_type": "code",
   "execution_count": 32,
   "metadata": {},
   "outputs": [
    {
     "ename": "NameError",
     "evalue": "name 'peak0_subim' is not defined",
     "output_type": "error",
     "traceback": [
      "\u001b[0;31m\u001b[0m",
      "\u001b[0;31mNameError\u001b[0mTraceback (most recent call last)",
      "\u001b[0;32m<ipython-input-32-adc37c1bc10f>\u001b[0m in \u001b[0;36m<module>\u001b[0;34m\u001b[0m\n\u001b[0;32m----> 1\u001b[0;31m \u001b[0mp0_x_CofM\u001b[0m\u001b[0;34m,\u001b[0m \u001b[0mp0_y_CofM\u001b[0m \u001b[0;34m=\u001b[0m \u001b[0mcalc_CofM\u001b[0m\u001b[0;34m(\u001b[0m\u001b[0mpeak0_subim\u001b[0m\u001b[0;34m)\u001b[0m \u001b[0;31m# 2167,3372\u001b[0m\u001b[0;34m\u001b[0m\u001b[0;34m\u001b[0m\u001b[0m\n\u001b[0m\u001b[1;32m      2\u001b[0m \u001b[0;34m\u001b[0m\u001b[0m\n\u001b[1;32m      3\u001b[0m \u001b[0;31m# Calculate EE and CofM\u001b[0m\u001b[0;34m\u001b[0m\u001b[0;34m\u001b[0m\u001b[0;34m\u001b[0m\u001b[0m\n\u001b[1;32m      4\u001b[0m \u001b[0mp0_EE_rad50_pix\u001b[0m\u001b[0;34m,\u001b[0m \u001b[0mp0_EE_rad67_pix\u001b[0m\u001b[0;34m,\u001b[0m \u001b[0mp0_EE_rad80_pix\u001b[0m \u001b[0;34m=\u001b[0m \u001b[0mcalc_encircled_energy\u001b[0m\u001b[0;34m(\u001b[0m\u001b[0mpeak0_subim\u001b[0m\u001b[0;34m,\u001b[0m \u001b[0mplot\u001b[0m\u001b[0;34m=\u001b[0m\u001b[0;32mTrue\u001b[0m\u001b[0;34m)\u001b[0m\u001b[0;34m\u001b[0m\u001b[0;34m\u001b[0m\u001b[0m\n\u001b[1;32m      5\u001b[0m \u001b[0mfit_data\u001b[0m\u001b[0;34m.\u001b[0m\u001b[0mappend\u001b[0m\u001b[0;34m(\u001b[0m\u001b[0mp0_EE_rad80_pix\u001b[0m\u001b[0;34m)\u001b[0m\u001b[0;34m\u001b[0m\u001b[0;34m\u001b[0m\u001b[0m\n",
      "\u001b[0;31mNameError\u001b[0m: name 'peak0_subim' is not defined"
     ]
    }
   ],
   "source": [
    "p0_x_CofM, p0_y_CofM = calc_CofM(peak0_subim) # 2167,3372\n",
    "\n",
    "# Calculate EE and CofM\n",
    "p0_EE_rad50_pix, p0_EE_rad67_pix, p0_EE_rad80_pix = calc_encircled_energy(peak0_subim, plot=True) \n",
    "fit_data.append(p0_EE_rad80_pix)"
   ]
  },
  {
   "cell_type": "code",
   "execution_count": null,
   "metadata": {},
   "outputs": [],
   "source": []
  }
 ],
 "metadata": {
  "kernelspec": {
   "display_name": "LSST",
   "language": "python",
   "name": "lsst"
  },
  "language_info": {
   "codemirror_mode": {
    "name": "ipython",
    "version": 3
   },
   "file_extension": ".py",
   "mimetype": "text/x-python",
   "name": "python",
   "nbconvert_exporter": "python",
   "pygments_lexer": "ipython3",
   "version": "3.7.6"
  }
 },
 "nbformat": 4,
 "nbformat_minor": 4
}
