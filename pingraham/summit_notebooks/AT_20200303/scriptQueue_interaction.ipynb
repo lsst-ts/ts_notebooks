{
 "cells": [
  {
   "cell_type": "markdown",
   "metadata": {},
   "source": [
    "# This notebook configures and launches a script to the scriptQueue\n",
    "### Note this can only be done once the scripts are loaded into the scriptQueue"
   ]
  },
  {
   "cell_type": "code",
   "execution_count": 1,
   "metadata": {},
   "outputs": [],
   "source": [
    "import os\n",
    "import sys\n",
    "import yaml\n",
    "import asyncio\n",
    "\n",
    "from lsst.ts import salobj\n",
    "\n",
    "from lsst.ts.idl.enums import ScriptQueue"
   ]
  },
  {
   "cell_type": "code",
   "execution_count": 4,
   "metadata": {},
   "outputs": [],
   "source": [
    "# Temporarily needed to run at summit\n",
    "import os\n",
    "os.environ[\"LSST_DDS_DOMAIN\"] = 'lsatmcs'\n",
    "os.environ[\"OSPL_URI\"] = \"file:///home/patrickingraham/ospl.xml\""
   ]
  },
  {
   "cell_type": "code",
   "execution_count": 5,
   "metadata": {},
   "outputs": [],
   "source": [
    "# Open a remote for the ScriptQueue\n",
    "r = salobj.Remote(salobj.Domain(), \"ScriptQueue\", index=2)"
   ]
  },
  {
   "cell_type": "code",
   "execution_count": 6,
   "metadata": {},
   "outputs": [],
   "source": [
    "await r.start_task"
   ]
  },
  {
   "cell_type": "code",
   "execution_count": 7,
   "metadata": {},
   "outputs": [],
   "source": [
    "# Enable the scriptQueue\n",
    "#await salobj.set_summary_state(r, salobj.State.ENABLED)"
   ]
  },
  {
   "cell_type": "code",
   "execution_count": 8,
   "metadata": {},
   "outputs": [],
   "source": [
    "# Open a remote for the watcher\n",
    "r1 = salobj.Remote(r.salinfo.domain, \"Watcher\")"
   ]
  },
  {
   "cell_type": "code",
   "execution_count": 9,
   "metadata": {},
   "outputs": [],
   "source": [
    "await r1.start_task"
   ]
  },
  {
   "cell_type": "code",
   "execution_count": null,
   "metadata": {},
   "outputs": [],
   "source": [
    "# enable the watcher\n",
    "#await salobj.set_summary_state(r1, salobj.State.ENABLED, settingsToApply=\"summit\")"
   ]
  },
  {
   "cell_type": "code",
   "execution_count": 10,
   "metadata": {},
   "outputs": [
    {
     "name": "stdout",
     "output_type": "stream",
     "text": [
      "dataPath: /project/shared/auxTel\n",
      "exposure_time: 2\n",
      "filter: empty_1\n",
      "grating: empty_1\n",
      "image_type: BIAS\n",
      "object_name: BS Cet\n",
      "\n"
     ]
    }
   ],
   "source": [
    "configuration = yaml.safe_dump({\"object_name\": 'BS Cet', \n",
    "                                \"exposure_time\": 2, \n",
    "                                \"filter\": 'empty_1', \n",
    "                                \"grating\": 'empty_1',\n",
    "                                \"dataPath\": '/project/shared/auxTel'})\n",
    "print(configuration)"
   ]
  },
  {
   "cell_type": "code",
   "execution_count": 11,
   "metadata": {},
   "outputs": [
    {
     "data": {
      "text/plain": [
       "<ddsutil.ScriptQueue_ackcmd_670d4914 at 0x7f7d807a77d0>"
      ]
     },
     "execution_count": 11,
     "metadata": {},
     "output_type": "execute_result"
    }
   ],
   "source": [
    "await r.cmd_setLogLevel.set_start(level=10)"
   ]
  },
  {
   "cell_type": "code",
   "execution_count": null,
   "metadata": {},
   "outputs": [],
   "source": [
    "await r.cmd_add.set_start(isStandard=True,\n",
    "                          path=\"auxtel/latiss_acquire_target.py\", \n",
    "                          config=configuration,\n",
    "                          logLevel=10, \n",
    "                          location=ScriptQueue.Location.FIRST)"
   ]
  },
  {
   "cell_type": "code",
   "execution_count": null,
   "metadata": {},
   "outputs": [],
   "source": [
    "await r.cmd_resume.start()"
   ]
  },
  {
   "cell_type": "code",
   "execution_count": null,
   "metadata": {},
   "outputs": [],
   "source": []
  }
 ],
 "metadata": {
  "kernelspec": {
   "display_name": "LSST",
   "language": "python",
   "name": "lsst"
  },
  "language_info": {
   "codemirror_mode": {
    "name": "ipython",
    "version": 3
   },
   "file_extension": ".py",
   "mimetype": "text/x-python",
   "name": "python",
   "nbconvert_exporter": "python",
   "pygments_lexer": "ipython3",
   "version": "3.7.6"
  }
 },
 "nbformat": 4,
 "nbformat_minor": 4
}
