{
 "cells": [
  {
   "cell_type": "markdown",
   "metadata": {},
   "source": [
    "# This notebook is used to verify the rotation correction in the latiss_cwfs_align script works as expected\n",
    "## It first finds the pairs of CWFS images in the EFD\n",
    "## It then fits the data a reports the zernikes"
   ]
  },
  {
   "cell_type": "code",
   "execution_count": null,
   "metadata": {},
   "outputs": [],
   "source": [
    "import asyncio \n",
    "import matplotlib\n",
    "\n",
    "import numpy as np\n",
    "import pandas as pd\n",
    "\n",
    "from matplotlib import pylab as plt\n",
    "from astropy.time import Time, TimeDelta\n",
    "\n",
    "from lsst_efd_client import EfdClient, resample\n",
    "\n",
    "%matplotlib inline"
   ]
  },
  {
   "cell_type": "code",
   "execution_count": null,
   "metadata": {},
   "outputs": [],
   "source": [
    "def get_visitID_from_filename(filename):\n",
    "    # Expects AT_O_20200218_000167.fits\n",
    "    # parse out visitID from filename - this is highly annoying\n",
    "    tmp=filename.split('_')\n",
    "    prefix=tmp[2] # dayobs without the dashes\n",
    "    suffix='{:05d}'.format(int(tmp[3].split('.')[0])) # SEQNUM, but need to trim extra 0 in obsid\n",
    "    visitID = int((prefix+suffix))\n",
    "    return visitID"
   ]
  },
  {
   "cell_type": "code",
   "execution_count": null,
   "metadata": {},
   "outputs": [],
   "source": [
    "# # Temporarily needed to run at summit\n",
    "# import os\n",
    "# os.environ[\"LSST_DDS_DOMAIN\"] = 'lsatmcs'\n",
    "# os.environ[\"OSPL_URI\"] = \"file:///home/patrickingraham/ospl.xml\""
   ]
  },
  {
   "cell_type": "code",
   "execution_count": null,
   "metadata": {},
   "outputs": [],
   "source": [
    "efd_client = EfdClient('ncsa_efd') #summit_efd currently offline"
   ]
  },
  {
   "cell_type": "markdown",
   "metadata": {},
   "source": [
    "Query for all the `endReadout` events on the timespan of the night."
   ]
  },
  {
   "cell_type": "code",
   "execution_count": null,
   "metadata": {},
   "outputs": [],
   "source": [
    "#2020031600092\n",
    "t1 = Time(\"2020-03-17T00:59\", format='isot', scale='tai')\n",
    "t2 = Time(\"2020-03-17T01:28\", format='isot', scale='tai')#+TimeDelta(8.*24.*60*60., format='sec', scale='tai')"
   ]
  },
  {
   "cell_type": "code",
   "execution_count": null,
   "metadata": {},
   "outputs": [],
   "source": []
  },
  {
   "cell_type": "code",
   "execution_count": null,
   "metadata": {},
   "outputs": [],
   "source": [
    "end_readout = await efd_client.select_time_series(\"lsst.sal.ATCamera.logevent_endReadout\", \n",
    "                                           [\"imageName\", \"exposureTime\", \"groupId\", \"imageType\"], t1, t2)"
   ]
  },
  {
   "cell_type": "code",
   "execution_count": null,
   "metadata": {},
   "outputs": [],
   "source": []
  },
  {
   "cell_type": "markdown",
   "metadata": {},
   "source": [
    "Now match each entry. For each `i` item with `intra` in the name, there must be an `i+1` with `extra` otherwise it is not a pair. "
   ]
  },
  {
   "cell_type": "code",
   "execution_count": null,
   "metadata": {},
   "outputs": [],
   "source": [
    "intra_images = []\n",
    "extra_images = []\n",
    "intra_times = []\n",
    "extra_times = []\n",
    "intra_exptimes = []\n",
    "extra_exptimes = []\n",
    "nasmyth_pos = []\n",
    "elevation_pos = []\n",
    "hex_x = []\n",
    "hex_y = []\n",
    "#hex_z = []\n",
    "\n",
    "i = 0\n",
    "npairs = 0\n",
    "nmiss = 0\n",
    "\n",
    "while i < len(end_readout)-2:\n",
    "    intra = end_readout['imageName'][i]\n",
    "    extra = end_readout['imageName'][i+1]\n",
    "    \n",
    "    #skip known bad files\n",
    "    if intra == 'AT_O_20200218_000179' and extra == 'AT_O_20200218_000180':\n",
    "        i+=2\n",
    "        continue\n",
    "    \n",
    "    # Check if consequetive pairs have the same groupID\n",
    "    if (end_readout['groupId'][i] == end_readout['groupId'][i+1]) and (end_readout['groupId'][i+1] != end_readout['groupId'][i+2]) and (end_readout['imageType'][i] == 'ENGTEST'):\n",
    "        print(f\"Got a pair: {intra} x {extra}\")\n",
    "        intra_images.append(intra)\n",
    "        extra_images.append(extra)\n",
    "        intra_times.append(end_readout.index[i])\n",
    "        extra_times.append(end_readout.index[i+1])\n",
    "        intra_exptimes.append(end_readout['exposureTime'][i])\n",
    "        extra_exptimes.append(end_readout['exposureTime'][i+1])\n",
    "\n",
    "        npairs+=1\n",
    "        # get required metadata that isn't in the header\n",
    "\n",
    "        # include ability to correct for TAI if required, but set to zero for the moment\n",
    "        offset37=0*TimeDelta(37.0, format='sec', scale='tai')\n",
    "        t_start = Time(end_readout.index[i], scale='tai')-TimeDelta(end_readout.exposureTime[i], format='sec', scale='tai')+offset37\n",
    "        t_end = Time(end_readout.index[i+1], scale='tai')+offset37\n",
    "\n",
    "#         nasmyth_vals = await efd_client.select_packed_time_series(\"lsst.sal.ATMCS.mount_Nasmyth_Encoders\", \n",
    "#                                              [\"nasmyth2CalculatedAngle\"], t_start , t_end)\n",
    "        # Nasmyth rotator 2 values\n",
    "        nasmyth_vals = await efd_client.select_time_series(\"lsst.sal.ATMCS.mount_Nasmyth_Encoders\", \n",
    "                                           [\"nasmyth2CalculatedAngle1\"], t_start , t_end) # , \"private_rcvStamp\"\n",
    "        nasmyth_pos.append(nasmyth_vals.median()[0])\n",
    "        \n",
    "        # Elevation values\n",
    "        elevation_vals = await efd_client.select_time_series(\"lsst.sal.ATMCS.mount_AzEl_Encoders\", \n",
    "                                           [\"elevationCalculatedAngle1\"], t_start , t_end)\n",
    "        elevation_pos.append(elevation_vals.median()[0])   \n",
    "        \n",
    "        # Hexapod values\n",
    "        hexapod_vals = await efd_client.select_time_series(\"lsst.sal.ATHexapod.positionStatus\", \n",
    "                                           [\"reportedPosition0\", \"reportedPosition1\", \"reportedPosition2\"], t_start , t_end)\n",
    "        hex_x.append(hexapod_vals['reportedPosition0'].median())\n",
    "        hex_y.append(hexapod_vals['reportedPosition1'].median())\n",
    "        #hex_z.append(hexapod_vals['reportedPosition2'].median())\n",
    "        \n",
    "        i+=2\n",
    "        \n",
    "    else:\n",
    "#         print(f\"No Match: {intra} x {extra}\")\n",
    "        nmiss+=1\n",
    "        i+=1\n",
    "\n",
    "print(f\"Got {npairs} pairs and {nmiss} misses.\")"
   ]
  },
  {
   "cell_type": "code",
   "execution_count": null,
   "metadata": {},
   "outputs": [],
   "source": []
  },
  {
   "cell_type": "code",
   "execution_count": null,
   "metadata": {},
   "outputs": [],
   "source": []
  },
  {
   "cell_type": "code",
   "execution_count": null,
   "metadata": {},
   "outputs": [],
   "source": [
    "#plt.hist(hexapod_vals['reportedPosition0'])\n",
    "plt.plot(hexapod_vals['reportedPosition2'], '.')\n",
    "#plt.plot(elevation_vals)"
   ]
  },
  {
   "cell_type": "code",
   "execution_count": null,
   "metadata": {},
   "outputs": [],
   "source": []
  },
  {
   "cell_type": "code",
   "execution_count": null,
   "metadata": {},
   "outputs": [],
   "source": [
    "#Time(Time(nasmyth_vals['private_rcvStamp'][0], format='unix', scale='tai')-Time(end_readout['groupId'][i], format='isot', scale='tai'), format='sec', scale='tai')"
   ]
  },
  {
   "cell_type": "code",
   "execution_count": null,
   "metadata": {},
   "outputs": [],
   "source": [
    "# for p in range(len(intra_images)):\n",
    "#     print((intra_images[p], extra_images[p], elevation_pos[p], nasmyth_pos[p]))"
   ]
  },
  {
   "cell_type": "code",
   "execution_count": null,
   "metadata": {},
   "outputs": [],
   "source": []
  },
  {
   "cell_type": "code",
   "execution_count": null,
   "metadata": {},
   "outputs": [],
   "source": [
    "# trim off files we don't want\n",
    "# easiest to just get the times and modify search\n",
    "#print(f'first time is {intra_times[0]}')\n",
    "#print(f'last image time is {intra_times[8]}')"
   ]
  },
  {
   "cell_type": "code",
   "execution_count": null,
   "metadata": {},
   "outputs": [],
   "source": [
    "import sys\n",
    "#import asyncio\n",
    "import logging\n",
    "import time"
   ]
  },
  {
   "cell_type": "code",
   "execution_count": null,
   "metadata": {},
   "outputs": [],
   "source": [
    "from lsst.ts.externalscripts.auxtel.latiss_cwfs_align import LatissCWFSAlign"
   ]
  },
  {
   "cell_type": "code",
   "execution_count": null,
   "metadata": {},
   "outputs": [],
   "source": [
    "# Need to fake a DDS domain if at NCSA\n",
    "import os\n",
    "os.environ[\"LSST_DDS_DOMAIN\"] = \"asdfawefa\""
   ]
  },
  {
   "cell_type": "code",
   "execution_count": null,
   "metadata": {},
   "outputs": [],
   "source": [
    "script = LatissCWFSAlign(index=1, remotes=False)\n",
    "script.dataPath='/project/shared/auxTel/'"
   ]
  },
  {
   "cell_type": "code",
   "execution_count": null,
   "metadata": {},
   "outputs": [],
   "source": [
    "stream_handler = logging.StreamHandler(sys.stdout)\n",
    "# if you want logging\n",
    "logger = logging.getLogger()\n",
    "logger.addHandler(stream_handler)\n",
    "logger.level = logging.DEBUG"
   ]
  },
  {
   "cell_type": "code",
   "execution_count": null,
   "metadata": {},
   "outputs": [],
   "source": [
    "# script.filter='BG40'\n",
    "# script.grating = 'empty_1'\n",
    "# script.exposure_time = 30"
   ]
  },
  {
   "cell_type": "code",
   "execution_count": null,
   "metadata": {},
   "outputs": [],
   "source": [
    "script.binning = 1\n",
    "image_size= int(script.side * 2 / script.binning)\n",
    "\n",
    "with_cross=True\n",
    "if with_cross:\n",
    "    print('Cross terms being used')\n",
    "    script.sensitivity_matrix = [\n",
    "        [1.0 / 161.0, 0.0, 0.0],\n",
    "        [0.0, -1.0 / 161.0, (107.0/161.0)/4200],\n",
    "        [0.0, 0.0, -1.0 / 4200.0]\n",
    "]\n",
    "#     script.sensitivity_matrix = [\n",
    "#         [1.0 / 206.0, 0.0, 0.0],\n",
    "#         [0.0, -1.0 / 206.0, (109.0/206.0)/4200],\n",
    "#         [0.0, 0.0, -1.0 / 4200.0]\n",
    "#         ]\n",
    "\n",
    "else:\n",
    "    print('No cross terms being used')\n",
    "    script.sensitivity_matrix = [\n",
    "        [1.0 / 161.0, 0.0, 0.0],\n",
    "        [0.0, -1.0 / 161.0, 0.0],\n",
    "        [0.0, 0.0, -1.0 / 4200.0],\n",
    "    ]\n",
    "    script.sensitivity_matrix = [\n",
    "        [1.0 / 131.0, 0.0, 0.0],\n",
    "        [0.0, -1.0 / 131.0, 0.0],\n",
    "        [0.0, 0.0, -1.0 / 4200.0],\n",
    "    ]\n",
    "    \n",
    "\n",
    "script.camera_rotation_angle=0"
   ]
  },
  {
   "cell_type": "code",
   "execution_count": null,
   "metadata": {},
   "outputs": [],
   "source": [
    "# define structured array, but leave empty for the moment. Will get converted to pandas dataframe later\n",
    "# intra, extra, elevation, N2_angle, hex_x, hex_y,meas_comaX, meas_comaY, meas_defocus, derot_comaX, derot_comaY, derot_defocus, hex_dx, hex_dy, hex_dz, dAz, dEl, drot?"
   ]
  },
  {
   "cell_type": "code",
   "execution_count": null,
   "metadata": {},
   "outputs": [],
   "source": [
    "data = np.zeros(npairs, dtype=[('intraID', '<U35'), \n",
    "                                     ('extraID', '<U35'), \n",
    "                                     ('nas_pos', float), \n",
    "                                     ('el_pos', float), \n",
    "                                     ('cam_to_bore_ang', float),\n",
    "                                     ('hex_x', float), \n",
    "                                     ('hex_y', float), \n",
    "                                     ('meas_comaX', float), \n",
    "                                     ('meas_comaY', float), \n",
    "                                     ('meas_defocus', float), \n",
    "                                     ('derot_comaX', float), \n",
    "                                     ('derot_comaY', float), \n",
    "                                     ('derot_defocus', float), \n",
    "                                     ('hex_dx', float),\n",
    "                                     ('hex_dy', float),\n",
    "                                     ('hex_dz', float),\n",
    "                                     ('dAz', float),\n",
    "                                     ('dEl', float),\n",
    "                                     ('drot', float)\n",
    "                              ])\n",
    "images = np.zeros(npairs, dtype=[('intra_image', np.float64, (image_size, image_size)),\n",
    "                                     ('extra_image', np.float64, (image_size, image_size)),\n",
    "                                     ('image_mask', np.float64, (image_size, image_size)),\n",
    "                                     ('zern_index', np.int16,(19)),\n",
    "                                     ('measured_zerns', np.float64, (19))\n",
    "                                    ] )"
   ]
  },
  {
   "cell_type": "code",
   "execution_count": null,
   "metadata": {},
   "outputs": [],
   "source": []
  },
  {
   "cell_type": "code",
   "execution_count": null,
   "metadata": {},
   "outputs": [],
   "source": [
    "#Need an enumeration for the data structure\n",
    "start_time=time.time()\n",
    "for n, (intra, extra, el_pos, nas_pos) in enumerate(zip(intra_images, extra_images, elevation_pos, nasmyth_pos)):\n",
    "    print(intra,extra)\n",
    "    script.intra_visit_id = get_visitID_from_filename(intra+'.fits')\n",
    "    script.extra_visit_id = get_visitID_from_filename(extra+'.fits')\n",
    "    script.angle = nas_pos - el_pos \n",
    "\n",
    "\n",
    "    results = await script.run_cwfs()\n",
    "    \n",
    "    # intra, extra, elevation, N2_angle, meas_comaX, meas_comaY, meas_defocus, derot_comaX, derot_comaY, derot_defocus, hex_dx, hex_dy, hex_dz, dAz, dEl, drot?\n",
    "    data[n] = (script.intra_visit_id, \n",
    "               script.extra_visit_id, \n",
    "               nas_pos,\n",
    "               el_pos,\n",
    "               script.angle, # cam_to_bore_ang\n",
    "               hex_x[n],\n",
    "               hex_y[n],\n",
    "               results['zerns'][0], # meas_comaX\n",
    "               results['zerns'][1], # meas_comaY\n",
    "               results['zerns'][2], # meas_defocus\n",
    "               results['rot_zerns'][0], # derot_comaX\n",
    "               results['rot_zerns'][1], # derot_comaY\n",
    "               results['rot_zerns'][2], # derot_defocus\n",
    "               results['hex_offset'][0], # hex_dx\n",
    "               results['hex_offset'][1], # hex_dy\n",
    "               results['hex_offset'][2], # hex_dz\n",
    "               results['tel_offset'][0], # dAz\n",
    "               results['tel_offset'][1], # dEl\n",
    "               results['tel_offset'][2] # drot ?\n",
    "              )\n",
    "    images[n] = (script.I1[0].image0,\n",
    "                 script.I2[0].image0,\n",
    "                 script.algo.pMask,\n",
    "                 np.arange(4,19+4),# zernike index\n",
    "                 script.algo.zer4UpNm # zernike value\n",
    "              )\n",
    "\n",
    "end_time=time.time()\n",
    "print('WFE fitting took {0:0.3f} seconds for {1} pairs'.format(end_time-start_time, n)) # 56.7s"
   ]
  },
  {
   "cell_type": "code",
   "execution_count": null,
   "metadata": {},
   "outputs": [],
   "source": [
    "print('done')"
   ]
  },
  {
   "cell_type": "code",
   "execution_count": null,
   "metadata": {},
   "outputs": [],
   "source": []
  },
  {
   "cell_type": "code",
   "execution_count": null,
   "metadata": {},
   "outputs": [],
   "source": [
    "# plot the fits you want\n",
    "n=2\n",
    "fig1 = plt.figure(1, figsize=(12,8))\n",
    "ax11 = fig1.add_subplot(121)\n",
    "ax11.set_title(\"defocus 0.8 - intra\")\n",
    "ax11.imshow(images['intra_image'][n])\n",
    "ax11.contour(images['image_mask'][n]) \n",
    "ax12 = fig1.add_subplot(122)\n",
    "ax12.set_title(\"defocus 0.8 - extra\")\n",
    "ax12.imshow(images['extra_image'][n])\n",
    "ax12.contour(images['image_mask'][n])"
   ]
  },
  {
   "cell_type": "code",
   "execution_count": null,
   "metadata": {},
   "outputs": [],
   "source": []
  },
  {
   "cell_type": "code",
   "execution_count": null,
   "metadata": {},
   "outputs": [],
   "source": [
    "# # print results\n",
    "# script.show_results()\n",
    "# # plot zernikes\n",
    "# x = np.arange(9)+4\n",
    "# plt.plot(x, script.algo.zer4UpNm[:9], 'o-', label=f'{script.dz}')\n",
    "# xlim = plt.xlim()\n",
    "# plt.plot(np.arange(15), np.zeros(15)+50, 'b--')\n",
    "# plt.plot(np.arange(15), np.zeros(15)-50, 'b--')\n",
    "# plt.xlim(xlim)\n",
    "# plt.ylabel(\"Zernike coeff (nm)\")\n",
    "# plt.xlabel(\"Zernike index\")\n",
    "# plt.grid()\n",
    "# plt.legend()\n",
    "\n",
    "# print(script.algo.zer4UpNm[:9])"
   ]
  },
  {
   "cell_type": "code",
   "execution_count": null,
   "metadata": {},
   "outputs": [],
   "source": [
    "# # plot image and mask\n",
    "# fig1 = plt.figure(1, figsize=(12,8))\n",
    "# ax11 = fig1.add_subplot(121)\n",
    "# ax11.set_title(\"defocus 0.8 - intra\")\n",
    "# ax11.imshow(script.I1[0].image0)\n",
    "# ax11.contour(script.algo.pMask) \n",
    "# ax12 = fig1.add_subplot(122)\n",
    "# ax12.set_title(\"defocus 0.8 - extra\")\n",
    "# ax12.imshow(script.I2[0].image0)\n",
    "# ax12.contour(script.algo.pMask) "
   ]
  },
  {
   "cell_type": "code",
   "execution_count": null,
   "metadata": {},
   "outputs": [],
   "source": [
    "# drop images from dataframe to make a pandas dataframe as it must be 1D\n",
    "df = pd.DataFrame(data)"
   ]
  },
  {
   "cell_type": "code",
   "execution_count": null,
   "metadata": {},
   "outputs": [],
   "source": []
  },
  {
   "cell_type": "code",
   "execution_count": null,
   "metadata": {},
   "outputs": [],
   "source": [
    "filename=\"20200123_CWFS_verification_bin_\"+str(script.binning)+'_sens_'+str(int(1/script.sensitivity_matrix[0][0]))+'_cross_terms_'+str(with_cross)+'_cam_rot_'+str(int(script.camera_rotation_angle))"
   ]
  },
  {
   "cell_type": "code",
   "execution_count": null,
   "metadata": {},
   "outputs": [],
   "source": [
    "print(filename)"
   ]
  },
  {
   "cell_type": "code",
   "execution_count": null,
   "metadata": {},
   "outputs": [],
   "source": [
    "#write to CSV file\n",
    "#filename=\"20200123_CWFS_verification_nominal_settings_bin1_161_no_cross-terms-neg-angle\"\n",
    "#filename=\"20200123_CWFS_verification_nominal_settings_bin1_131_no_cross-terms-neg-angle\"\n",
    "#filename=\"20200123_CWFS_verification_nominal_settings_bin1_161_with_cross-terms-neg-angle\"\n",
    "#filename=\"20200123_CWFS_verification_nominal_settings_bin2_161_with_cross-terms-neg-angle\"\n",
    "#filename='test'\n",
    "df.to_csv(filename+'.csv')\n",
    "np.save(filename, images)"
   ]
  },
  {
   "cell_type": "code",
   "execution_count": null,
   "metadata": {},
   "outputs": [],
   "source": []
  },
  {
   "cell_type": "markdown",
   "metadata": {},
   "source": [
    "# Examine results of the rotation"
   ]
  },
  {
   "cell_type": "code",
   "execution_count": null,
   "metadata": {},
   "outputs": [],
   "source": [
    "#df2 = pd.read_csv(\"20200123_CWFS_verification_angle_zero.csv\")\n",
    "#filename = \"20200123_CWFS_verification_nominal_settings_bin1_161_with_cross-terms\" # has bin=1, cross term, el-nas\n",
    "#filename=\"20200123_CWFS_verification_nominal_settings_bin1_161_with_cross-terms-neg-angle\"\n",
    "#filename=\"20200123_CWFS_verification_nominal_settings_bin2_161_with_cross-terms-neg-angle\"\n",
    "#filename='test.csv'\n",
    "df2 = pd.read_csv(filename+'.csv')\n",
    "#df2['derot_defocus']=df2['derot_focus'] # needed because of error above in naming"
   ]
  },
  {
   "cell_type": "code",
   "execution_count": null,
   "metadata": {},
   "outputs": [],
   "source": []
  },
  {
   "cell_type": "code",
   "execution_count": null,
   "metadata": {},
   "outputs": [],
   "source": [
    "# images = np.load(filename+'.npy')\n",
    "# # plot the fits you want\n",
    "# n=5\n",
    "# fig1 = plt.figure(1, figsize=(12,8))\n",
    "# ax11 = fig1.add_subplot(121)\n",
    "# ax11.set_title(\"defocus 0.8 - intra\")\n",
    "# ax11.imshow(images['intra_image'][n])\n",
    "# ax11.contour(images['image_mask'][n]) \n",
    "# ax12 = fig1.add_subplot(122)\n",
    "# ax12.set_title(\"defocus 0.8 - extra\")\n",
    "# ax12.imshow(images['extra_image'][n])\n",
    "# ax12.contour(images['image_mask'][n])"
   ]
  },
  {
   "cell_type": "code",
   "execution_count": null,
   "metadata": {},
   "outputs": [],
   "source": [
    "# Create plots wrt nasmyth position\n",
    "\n",
    "# #dd_subplot(num_rows, num_cols, subplot_location\n",
    "# mag=1.5\n",
    "# ymin=-170 ; ymax=170\n",
    "# xmin=-180 ; xmax=180\n",
    "\n",
    "# fig = plt.figure(figsize=(6*mag,8*mag))\n",
    "# ax = fig.add_subplot(2,2,1)\n",
    "# ax.plot(df2['nas_pos'], df2['meas_comaX'], marker='x')\n",
    "# ax.set_title('Measured')\n",
    "# ax.set_xlabel('nasmyth_position [deg]')\n",
    "# ax.set_ylabel('Coma-X [nm]')\n",
    "# ax.set_ylim(ymin=ymin, ymax=ymax)\n",
    "# ax.set_xlim(xmin=xmin, xmax=xmax)\n",
    "\n",
    "\n",
    "# ax2 = fig.add_subplot(2,2,2)\n",
    "# ax2.plot(df2['nas_pos'], df2['derot_comaX'], marker='x')\n",
    "# ax2.set_title('Derotated')\n",
    "# ax2.set_xlabel('nasmyth_position [deg]')\n",
    "# #ax2.set_ylabel('derotated ComaX [nm]')\n",
    "# ax2.set_ylim(ymin=ymin, ymax=ymax)\n",
    "# ax2.set_xlim(xmin=xmin, xmax=xmax)\n",
    "\n",
    "# ax3 = fig.add_subplot(2,2,3)\n",
    "# ax3.plot(df2['nas_pos'], df2['meas_comaY'], marker='x')\n",
    "# ax3.set_xlabel('nasmyth_position [deg]')\n",
    "# ax3.set_ylabel('Coma-Y [nm]')\n",
    "# ax3.set_ylim(ymin=ymin, ymax=ymax)\n",
    "# ax3.set_xlim(xmin=xmin, xmax=xmax)\n",
    "\n",
    "\n",
    "# ax4 = fig.add_subplot(2,2,4)\n",
    "# ax4.plot(df2['nas_pos'], df2['derot_comaY'], marker='x')\n",
    "# ax4.set_xlabel('nasmyth_position [deg]')\n",
    "# ax4.set_ylim(ymin=ymin, ymax=ymax)\n",
    "# ax4.set_xlim(xmin=xmin, xmax=xmax)"
   ]
  },
  {
   "cell_type": "markdown",
   "metadata": {},
   "source": [
    "## Look at measured Zernikes as a function of instrument position\n",
    "### Notably the difference in angle between the nasmyth and elevation"
   ]
  },
  {
   "cell_type": "code",
   "execution_count": null,
   "metadata": {},
   "outputs": [],
   "source": [
    "#dd_subplot(num_rows, num_cols, subplot_location\n",
    "mag=1.7\n",
    "ymin=-170 ; ymax=170\n",
    "xmin=-270 ; xmax=90\n",
    "\n",
    "nrows=4 ; ncol=2\n",
    "fig = plt.figure(figsize=(6*mag,8*mag))\n",
    "ax = fig.add_subplot(nrows,2,1)\n",
    "ax.plot(df2['cam_to_bore_ang'], df2['meas_comaX'], 'x')\n",
    "ax.set_title('Measured')\n",
    "#ax.set_xlabel('cam_to_bore_ang [deg]')\n",
    "ax.set_ylabel('Coma-X [nm]')\n",
    "ax.set_ylim(ymin=ymin, ymax=ymax)\n",
    "ax.set_xlim(xmin=xmin, xmax=xmax)\n",
    "\n",
    "ax2 = fig.add_subplot(nrows,2,2)\n",
    "xvals=df2['cam_to_bore_ang']\n",
    "yvals=df2['derot_comaX']\n",
    "ax2.plot(xvals, yvals, 'x')\n",
    "ax2.set_title('Derotated')\n",
    "#ax2.set_xlabel('cam_to_bore_ang [deg]')\n",
    "ax2.set_ylim(ymin=ymin, ymax=ymax)\n",
    "ax2.set_xlim(xmin=xmin, xmax=xmax)\n",
    "ax2.text(0.75,0.8,f\"Mean {yvals.mean():.0f}\", transform=ax2.transAxes)\n",
    "ax2.text(0.75,0.9,f\"Stdev {yvals.std():.0f}\", transform=ax2.transAxes)\n",
    "\n",
    "ax3 = fig.add_subplot(nrows,2,3)\n",
    "ax3.plot(df2['cam_to_bore_ang'], df2['meas_comaY'], 'x')\n",
    "#ax3.set_xlabel('cam_to_bore_ang [deg]')\n",
    "ax3.set_ylabel('Coma-Y [nm]')\n",
    "ax3.set_ylim(ymin=ymin, ymax=ymax)\n",
    "ax3.set_xlim(xmin=xmin, xmax=xmax)\n",
    "\n",
    "ax4 = fig.add_subplot(nrows,2,4)\n",
    "xvals=df2['cam_to_bore_ang']\n",
    "yvals=df2['derot_comaY']\n",
    "ax4.plot(xvals, yvals, 'x')\n",
    "#ax4.set_xlabel('cam_to_bore_ang [deg]')\n",
    "ax4.set_ylim(ymin=ymin, ymax=ymax)\n",
    "ax4.set_xlim(xmin=xmin, xmax=xmax)\n",
    "ax4.text(0.75,0.8,f\"Mean {yvals.mean():.0f}\", transform=ax4.transAxes)\n",
    "ax4.text(0.75,0.9,f\"Stdev {yvals.std():.0f}\", transform=ax4.transAxes)\n",
    "\n",
    "\n",
    "ymin2=0 ; ymax2=250\n",
    "xmin2=-270 ; xmax2=90\n",
    "\n",
    "ax5 = fig.add_subplot(nrows,2,5)\n",
    "ax5.plot(df2['cam_to_bore_ang'], np.sqrt(df2['meas_comaY']**2+df2['meas_comaX']**2), marker='x')\n",
    "#ax5.set_xlabel('cam_to_bore_ang [deg]')\n",
    "ax5.set_ylabel('RSS Coma X+Y [nm]')\n",
    "ax5.set_ylim(ymin=ymin2, ymax=ymax2)\n",
    "ax5.set_xlim(xmin=xmin2, xmax=xmax2)\n",
    "\n",
    "ax6 = fig.add_subplot(nrows,2,6)\n",
    "xvals=df2['cam_to_bore_ang']\n",
    "yvals=np.sqrt(df2['derot_comaY']**2+df2['derot_comaX']**2)\n",
    "ax6.plot(xvals, yvals, marker='x')\n",
    "#ax6.set_xlabel('cam_to_bore_ang [deg]')\n",
    "ax6.set_ylim(ymin=ymin2, ymax=ymax2)\n",
    "ax6.set_xlim(xmin=xmin2, xmax=xmax2)\n",
    "ax6.text(0.75,0.8,f\"Mean {yvals.mean():.0f}\", transform=ax6.transAxes)\n",
    "ax6.text(0.75,0.9,f\"Stdev {yvals.std():.0f}\", transform=ax6.transAxes)\n",
    "\n",
    "ax7 = fig.add_subplot(nrows,2,7)\n",
    "ax7.plot(df2['cam_to_bore_ang'], df2['meas_defocus'], 'x')\n",
    "ax7.set_xlabel('cam_to_bore_ang [deg]')\n",
    "ax7.set_ylabel('Defocus [nm]')\n",
    "ax7.set_ylim(ymin=ymin, ymax=ymax)\n",
    "ax7.set_xlim(xmin=xmin, xmax=xmax)\n",
    "\n",
    "ax8 = fig.add_subplot(nrows,2,8)\n",
    "xvals=df2['cam_to_bore_ang']\n",
    "yvals=df2['derot_defocus']\n",
    "ax8.plot(xvals, yvals , 'x')\n",
    "ax8.set_xlabel('cam_to_bore_ang [deg]')\n",
    "ax8.set_ylim(ymin=ymin, ymax=ymax)\n",
    "ax8.set_xlim(xmin=xmin, xmax=xmax)\n",
    "ax8.text(0.75,0.8,f\"Mean {yvals.mean():.0f}\", transform=ax8.transAxes)\n",
    "ax8.text(0.75,0.9,f\"Stdev {yvals.std():.0f}\", transform=ax8.transAxes)"
   ]
  },
  {
   "cell_type": "markdown",
   "metadata": {},
   "source": [
    "## Look at suggested hexapod corrections as a function of instrument position\n",
    "### Notably the difference in angle between the nasmyth and elevation"
   ]
  },
  {
   "cell_type": "code",
   "execution_count": null,
   "metadata": {},
   "outputs": [],
   "source": []
  },
  {
   "cell_type": "code",
   "execution_count": null,
   "metadata": {},
   "outputs": [],
   "source": [
    "# # for every 1mm of decenter, there is 107nm of WFE in defocus and 161 nm WFE in coma\n",
    "# # or for every 1nm WFE in coma there is (107/161) nm of focus\n",
    "# sensitivity_matrix = [\n",
    "#         [1.0 / 161.0, 0.0, 0.0],\n",
    "#         [0.0, -1.0 / 161.0, 0.0*(107.0/161.0)/4200],\n",
    "#         [0.0, 0.0, -1.0 / 4200.0]\n",
    "# ]"
   ]
  },
  {
   "cell_type": "code",
   "execution_count": null,
   "metadata": {},
   "outputs": [],
   "source": [
    "#np.matmul(results['rot_zerns'], sensitivity_matrix)"
   ]
  },
  {
   "cell_type": "code",
   "execution_count": null,
   "metadata": {},
   "outputs": [],
   "source": []
  },
  {
   "cell_type": "code",
   "execution_count": null,
   "metadata": {},
   "outputs": [],
   "source": [
    "#dd_subplot(num_rows, num_cols, subplot_location\n",
    "mag=1.3\n",
    "ymin=-2 ; ymax=2  # um\n",
    "xmin=-270 ; xmax=90\n",
    "\n",
    "nrows=3 ; ncols=1\n",
    "fig = plt.figure(figsize=(6*mag,8*mag))\n",
    "ax = fig.add_subplot(nrows,ncols,1)\n",
    "xvals=df2['cam_to_bore_ang']\n",
    "yvals=df2['hex_dx']\n",
    "ax.plot(xvals, yvals, marker='x')\n",
    "ax.set_title('Suggested Hexapod Relative Offsets')\n",
    "ax.set_ylabel('Hexapod dx [mm]')\n",
    "ax.set_ylim(ymin=ymin, ymax=ymax)\n",
    "ax.set_xlim(xmin=xmin, xmax=xmax)\n",
    "ax.text(0.75,0.8,f\"Mean {yvals.mean():.2f}\", transform=ax.transAxes)\n",
    "ax.text(0.75,0.9,f\"Stdev {yvals.std():.2f}\", transform=ax.transAxes)\n",
    "\n",
    "ax2 = fig.add_subplot(nrows,ncols,2)\n",
    "xvals=df2['cam_to_bore_ang']\n",
    "yvals=df2['hex_dy']\n",
    "ax2.plot(xvals, yvals, marker='x')\n",
    "ax2.set_ylabel('Hexapod dy [mm]')\n",
    "ax2.set_ylim(ymin=ymin, ymax=ymax)\n",
    "ax2.set_xlim(xmin=xmin, xmax=xmax)\n",
    "ax2.text(0.75,0.8,f\"Mean {yvals.mean():.2f}\", transform=ax2.transAxes)\n",
    "ax2.text(0.75,0.9,f\"Stdev {yvals.std():.2f}\", transform=ax2.transAxes)\n",
    "\n",
    "ymin2=-40 ; ymax2=40 #um\n",
    "\n",
    "ax3 = fig.add_subplot(nrows,ncols,3)\n",
    "xvals=df2['cam_to_bore_ang']\n",
    "yvals=df2['hex_dz'] * 1000\n",
    "ax3.plot(xvals, yvals, marker='x')\n",
    "ax3.set_xlabel('cam_to_bore_ang [deg]')\n",
    "ax3.set_ylabel('Hexapod dz [um]')\n",
    "ax3.set_ylim(ymin=ymin2, ymax=ymax2)\n",
    "ax3.set_xlim(xmin=xmin, xmax=xmax)\n",
    "ax3.text(0.75,0.8,f\"Mean {yvals.mean():.0f} [um]\", transform=ax3.transAxes)\n",
    "ax3.text(0.75,0.9,f\"Stdev {yvals.std():.0f} [um]\", transform=ax3.transAxes)"
   ]
  },
  {
   "cell_type": "code",
   "execution_count": null,
   "metadata": {},
   "outputs": [],
   "source": []
  },
  {
   "cell_type": "code",
   "execution_count": null,
   "metadata": {},
   "outputs": [],
   "source": []
  },
  {
   "cell_type": "markdown",
   "metadata": {},
   "source": [
    "## Look at effect of binning data before fitting "
   ]
  },
  {
   "cell_type": "code",
   "execution_count": null,
   "metadata": {},
   "outputs": [],
   "source": [
    "filename1=\"20200123_CWFS_verification_nominal_settings_bin1_161_with_cross-terms-neg-angle\"\n",
    "filename2=\"20200123_CWFS_verification_nominal_settings_bin2_161_with_cross-terms-neg-angle\"\n",
    "#filename='test.csv'\n",
    "df1 = pd.read_csv(filename1+'.csv')\n",
    "df2 = pd.read_csv(filename2+'.csv')\n",
    "\n",
    "#dd_subplot(num_rows, num_cols, subplot_location\n",
    "ncols=2\n",
    "nrows=4\n",
    "mag=1.5\n",
    "ymin=-10 ; ymax=10\n",
    "xmin=-270 ; xmax=90\n",
    "\n",
    "fig = plt.figure(figsize=(6*mag,8*mag))\n",
    "ax = fig.add_subplot(nrows,ncols,1)\n",
    "ax.plot(df2['cam_to_bore_ang'], df2['meas_comaX']-df1['meas_comaX'], marker='x')\n",
    "ax.set_title('Measured')\n",
    "#ax.set_xlabel('cam_to_bore_ang [deg]')\n",
    "ax.set_ylabel('Coma-X [nm]')\n",
    "ax.set_ylim(ymin=ymin, ymax=ymax)\n",
    "ax.set_xlim(xmin=xmin, xmax=xmax)\n",
    "\n",
    "ax2 = fig.add_subplot(nrows,ncols,2)\n",
    "xvals=df2['cam_to_bore_ang']\n",
    "yvals=df2['derot_comaX']-df1['derot_comaX']\n",
    "ax2.plot(xvals, yvals, marker='x')\n",
    "ax2.set_title('Derotated')\n",
    "#ax2.set_xlabel('cam_to_bore_ang [deg]')\n",
    "ax2.set_ylim(ymin=ymin, ymax=ymax)\n",
    "ax2.set_xlim(xmin=xmin, xmax=xmax)\n",
    "ax2.text(0.75,0.8,f\"Mean {yvals.mean():.0f}\", transform=ax2.transAxes)\n",
    "ax2.text(0.75,0.9,f\"Stdev {yvals.std():.0f}\", transform=ax2.transAxes)\n",
    "\n",
    "\n",
    "ax3 = fig.add_subplot(nrows,ncols,3)\n",
    "ax3.plot(df2['cam_to_bore_ang'], df2['meas_comaY']-df1['meas_comaY'], marker='x')\n",
    "#ax3.set_xlabel('cam_to_bore_ang [deg]')\n",
    "ax3.set_ylabel('Coma-Y [nm]')\n",
    "ax3.set_ylim(ymin=ymin, ymax=ymax)\n",
    "ax3.set_xlim(xmin=xmin, xmax=xmax)\n",
    "\n",
    "ax4 = fig.add_subplot(nrows,ncols,4)\n",
    "xvals = df2['cam_to_bore_ang']\n",
    "yvals = df2['derot_comaY']-df1['derot_comaY']\n",
    "ax4.plot(xvals, yvals, marker='x')\n",
    "#ax4.set_xlabel('cam_to_bore_ang [deg]')\n",
    "ax4.set_ylim(ymin=ymin, ymax=ymax)\n",
    "ax4.set_xlim(xmin=xmin, xmax=xmax)\n",
    "ax4.text(0.75,0.8,f\"Mean {yvals.mean():.0f}\", transform=ax4.transAxes)\n",
    "ax4.text(0.75,0.9,f\"Stdev {yvals.std():.0f}\", transform=ax4.transAxes)\n",
    "\n",
    "ymin2=-10 ; ymax2=10\n",
    "xmin2=-270 ; xmax2=90\n",
    "\n",
    "ax5 = fig.add_subplot(nrows,ncols,5)\n",
    "ax5.plot(df2['cam_to_bore_ang'], np.sqrt(df2['meas_comaY']**2+df2['meas_comaX']**2)-np.sqrt(df1['meas_comaY']**2+df1['meas_comaX']**2), marker='x')\n",
    "#ax5.set_xlabel('cam_to_bore_ang [deg]')\n",
    "ax5.set_ylabel('RSS Coma X+Y [nm]')\n",
    "ax5.set_ylim(ymin=ymin2, ymax=ymax2)\n",
    "ax5.set_xlim(xmin=xmin2, xmax=xmax2)\n",
    "\n",
    "ax6 = fig.add_subplot(nrows,ncols,6)\n",
    "xvals=df2['cam_to_bore_ang']\n",
    "yvals=np.sqrt(df2['derot_comaY']**2+df2['derot_comaX']**2)-np.sqrt(df1['derot_comaY']**2+df1['derot_comaX']**2)\n",
    "ax6.plot(xvals, yvals, marker='x')\n",
    "#ax6.set_xlabel('cam_to_bore_ang [deg]')\n",
    "ax6.set_ylim(ymin=ymin2, ymax=ymax2)\n",
    "ax6.set_xlim(xmin=xmin2, xmax=xmax2)\n",
    "ax6.text(0.75,0.8,f\"Mean {yvals.mean():.0f}\", transform=ax6.transAxes)\n",
    "ax6.text(0.75,0.9,f\"Stdev {yvals.std():.0f}\", transform=ax6.transAxes)\n",
    "\n",
    "ax7 = fig.add_subplot(nrows,ncols,7)\n",
    "ax7.plot(df2['cam_to_bore_ang'], df2['meas_defocus']-df1['meas_defocus'], marker='x')\n",
    "ax7.set_xlabel('cam_to_bore_ang [deg]')\n",
    "ax7.set_ylabel('Defocus [nm]')\n",
    "ax7.set_ylim(ymin=ymin, ymax=ymax)\n",
    "ax7.set_xlim(xmin=xmin, xmax=xmax)\n",
    "\n",
    "ax8 = fig.add_subplot(nrows,ncols,8)\n",
    "xvals = df2['cam_to_bore_ang']\n",
    "yvals = df2['derot_defocus']-df1['derot_defocus']\n",
    "ax8.plot(xvals, yvals, marker='x')\n",
    "ax8.set_xlabel('cam_to_bore_ang [deg]')\n",
    "ax8.set_ylim(ymin=ymin, ymax=ymax)\n",
    "ax8.set_xlim(xmin=xmin, xmax=xmax)\n",
    "ax8.text(0.75,0.8,f\"Mean {yvals.mean():.0f}\", transform=ax8.transAxes)\n",
    "ax8.text(0.75,0.9,f\"Stdev {yvals.std():.0f}\", transform=ax8.transAxes)"
   ]
  },
  {
   "cell_type": "code",
   "execution_count": null,
   "metadata": {},
   "outputs": [],
   "source": []
  },
  {
   "cell_type": "code",
   "execution_count": null,
   "metadata": {},
   "outputs": [],
   "source": []
  },
  {
   "cell_type": "code",
   "execution_count": null,
   "metadata": {},
   "outputs": [],
   "source": [
    "#write to CSV file\n",
    "df2.to_csv(\"20200123_match_zerns.csv\")"
   ]
  },
  {
   "cell_type": "markdown",
   "metadata": {},
   "source": [
    "# Fit the data"
   ]
  },
  {
   "cell_type": "code",
   "execution_count": null,
   "metadata": {},
   "outputs": [],
   "source": [
    "from scipy.optimize import curve_fit"
   ]
  },
  {
   "cell_type": "code",
   "execution_count": null,
   "metadata": {},
   "outputs": [],
   "source": [
    "def parabola(x,b, x0, a):\n",
    "    return b + a*(x-x0)**2 \n",
    "def line(x,b, m):\n",
    "    return b + m*x \n",
    "def invparabola(y,b,x0,a):\n",
    "    return x0+np.sqrt((y-b)/a)\n",
    "def invline(y,b,m):\n",
    "    return (y-b)/m"
   ]
  },
  {
   "cell_type": "code",
   "execution_count": null,
   "metadata": {},
   "outputs": [],
   "source": []
  },
  {
   "cell_type": "code",
   "execution_count": null,
   "metadata": {},
   "outputs": [],
   "source": [
    "#df3 = pd.DataFrame.from_csv(\"20200123_match_zerns.csv\")\n",
    "# use below for pandas 1.0+\n",
    "df3 = pd.read_csv(\"20200123_match_zerns.csv\")"
   ]
  },
  {
   "cell_type": "code",
   "execution_count": null,
   "metadata": {},
   "outputs": [],
   "source": [
    "df3"
   ]
  },
  {
   "cell_type": "markdown",
   "metadata": {},
   "source": [
    "### Plot Y-Coma as a function of Y-hexapod decentering"
   ]
  },
  {
   "cell_type": "code",
   "execution_count": null,
   "metadata": {},
   "outputs": [],
   "source": [
    "inds = np.arange(0,10) # drop the last value\n",
    "inds = [0,1,2,3,5,6,7,8]\n",
    "\n",
    "xdata=df3['y'][inds]\n",
    "ydata=df3['zern_ycoma_nm'][inds]\n",
    "\n",
    "plt.plot(xdata,ydata,'o')\n",
    "x=np.arange(np.min(xdata), np.max(xdata), np.abs(np.max(xdata) - np.min(xdata))/100 )\n",
    "popt,pcov = curve_fit(line, xdata, ydata)\n",
    "print('Wavefront X-Coma as a function of Hexapod displacement',popt)\n",
    "\n",
    "plt.plot(x,line(x, *popt))\n",
    "# plt.xlabel('Hexapod displacement in the plane')\n",
    "plt.ylabel('Zernike Coefficient in nm')\n",
    "plt.title('Wavefront Y-Coma as a function of hexapod Y-displacement')\n",
    "plt.show()\n",
    "\n",
    "print(popt)"
   ]
  },
  {
   "cell_type": "code",
   "execution_count": null,
   "metadata": {},
   "outputs": [],
   "source": [
    "(240+200)/ (-6 - -3)"
   ]
  },
  {
   "cell_type": "markdown",
   "metadata": {},
   "source": [
    "### Plot Defocus as a function of Y-hexapod decentering"
   ]
  },
  {
   "cell_type": "code",
   "execution_count": null,
   "metadata": {},
   "outputs": [],
   "source": [
    "#Coma as a function of x,y offset (8-23, 31-35)\n",
    "inds = np.arange(0,11)\n",
    "inds = [0,1,2,3,5,6,7,8]\n",
    "\n",
    "xdata=df3['y'][inds]\n",
    "ydata=df3['zern_defocus_nm'][inds]\n",
    "\n",
    "plt.plot(xdata,ydata,'o')\n",
    "x=np.arange(np.min(xdata), np.max(xdata), np.abs(np.max(xdata) - np.min(xdata))/100 )\n",
    "popt,pcov = curve_fit(line, xdata, ydata)\n",
    "print('Wavefront X-Coma as a function of Hexapod displacement',popt)\n",
    "\n",
    "plt.plot(x,line(x, *popt))\n",
    "# plt.xlabel('Hexapod displacement in the plane')\n",
    "plt.ylabel('Zernike Coefficient in nm')\n",
    "plt.title('Wavefront Defocus as a function of y-hexapod displacement')\n",
    "plt.show()\n",
    "\n",
    "print(popt)"
   ]
  },
  {
   "cell_type": "code",
   "execution_count": null,
   "metadata": {},
   "outputs": [],
   "source": []
  },
  {
   "cell_type": "code",
   "execution_count": null,
   "metadata": {},
   "outputs": [],
   "source": []
  }
 ],
 "metadata": {
  "kernelspec": {
   "display_name": "LSST",
   "language": "python",
   "name": "lsst"
  },
  "language_info": {
   "codemirror_mode": {
    "name": "ipython",
    "version": 3
   },
   "file_extension": ".py",
   "mimetype": "text/x-python",
   "name": "python",
   "nbconvert_exporter": "python",
   "pygments_lexer": "ipython3",
   "version": "3.7.6"
  }
 },
 "nbformat": 4,
 "nbformat_minor": 4
}
