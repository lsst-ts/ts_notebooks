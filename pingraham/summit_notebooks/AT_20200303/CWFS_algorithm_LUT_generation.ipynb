{
 "cells": [
  {
   "cell_type": "code",
   "execution_count": 1,
   "metadata": {},
   "outputs": [],
   "source": [
    "import sys\n",
    "import asyncio\n",
    "import logging\n",
    "import numpy as np\n",
    "import matplotlib.pyplot as plt\n",
    "from lsst.ts.externalscripts.auxtel.latiss_cwfs_align import LatissCWFSAlign\n",
    "import time\n",
    "from lsst.ts import salobj"
   ]
  },
  {
   "cell_type": "code",
   "execution_count": 2,
   "metadata": {},
   "outputs": [],
   "source": [
    "# Temporarily needed to run at summit\n",
    "import os\n",
    "os.environ[\"LSST_DDS_DOMAIN\"] = 'lsatmcs'\n",
    "os.environ[\"OSPL_URI\"] = \"file:///home/patrickingraham/ospl.xml\""
   ]
  },
  {
   "cell_type": "code",
   "execution_count": 3,
   "metadata": {},
   "outputs": [],
   "source": [
    "stream_handler = logging.StreamHandler(sys.stdout)\n",
    "# if you want logging\n",
    "logger = logging.getLogger()\n",
    "logger.addHandler(stream_handler)\n",
    "logger.level = logging.DEBUG"
   ]
  },
  {
   "cell_type": "code",
   "execution_count": 4,
   "metadata": {},
   "outputs": [
    {
     "name": "stdout",
     "output_type": "stream",
     "text": [
      "Read historical data in 0.01 sec\n",
      "Read historical data in 0.33 sec\n",
      "Read historical data in 0.66 sec\n",
      "Read historical data in 1.13 sec\n",
      "Read historical data in 2.02 sec\n",
      "Read historical data in 2.96 sec\n",
      "Read historical data in 4.26 sec\n",
      "Read historical data in 5.74 sec\n",
      "Read historical data in 6.53 sec\n",
      "Read historical data in 7.56 sec\n",
      "Read historical data in 9.11 sec\n",
      "RemoteEvent(ATDomeTrajectory, 0, heartbeat) falling behind; read 12 messages\n",
      "RemoteEvent(ATHeaderService, 0, heartbeat) falling behind; read 13 messages\n",
      "RemoteEvent(ATArchiver, 0, heartbeat) falling behind; read 12 messages\n",
      "RemoteTelemetry(ATHexapod, 0, positionStatus) falling behind; read 11 messages\n",
      "RemoteEvent(ATAOS, 0, heartbeat) falling behind; read 10 messages\n",
      "RemoteTelemetry(ATDome, 0, position) falling behind; read 41 messages\n"
     ]
    }
   ],
   "source": [
    "script = LatissCWFSAlign(index=1, remotes=True)\n",
    "script.dataPath='/project/shared/auxTel/'"
   ]
  },
  {
   "cell_type": "code",
   "execution_count": null,
   "metadata": {},
   "outputs": [],
   "source": []
  },
  {
   "cell_type": "code",
   "execution_count": 12,
   "metadata": {},
   "outputs": [
    {
     "name": "stdout",
     "output_type": "stream",
     "text": [
      "Slewing to HD 59468: 07 27 25.4644 -51 24 09.358\n",
      "Parallactic angle: -8.056607883535948 | Sky Angle: 60.579694171120735\n",
      "Sending command\n",
      "Stop tracking.\n",
      "Mount tracking state is 9\n",
      "RemoteEvent(ATMCS, 0, target) falling behind; read 20 messages\n",
      "RemoteEvent(ATDomeTrajectory, 0, logMessage) falling behind; read 21 messages\n",
      "Tracking state: 10.\n",
      "Tracking state: 8.\n",
      "In Position: True.\n",
      "In Position: False.\n",
      "Scheduling check coroutines\n",
      "process as completed...\n",
      "atmcs: <State.ENABLED: 2>\n",
      "atptg: <State.ENABLED: 2>\n",
      "ataos: <State.ENABLED: 2>\n",
      "atpneumatics: <State.ENABLED: 2>\n",
      "athexapod: <State.ENABLED: 2>\n",
      "atdome: <State.ENABLED: 2>\n",
      "atdometrajectory: <State.ENABLED: 2>\n",
      "[Telescope] delta Alt = +000.810 | delta Az = +008.405 delta N1 = -000.000 delta N2 = -169.345 [Dome] delta Az = +015.365\n",
      "[Telescope] delta Alt = +000.000 | delta Az = +006.024 delta N1 = -000.000 delta N2 = -164.090 [Dome] delta Az = +013.635\n",
      "[Telescope] delta Alt = -000.000 | delta Az = +000.790 delta N1 = +000.000 delta N2 = -158.133 [Dome] delta Az = +009.715\n",
      "[Telescope] delta Alt = -000.000 | delta Az = -000.004 delta N1 = +000.000 delta N2 = -152.168 [Dome] delta Az = +003.785\n",
      "[Telescope] delta Alt = -000.000 | delta Az = -000.004 delta N1 = -000.000 delta N2 = -146.192 [Dome] delta Az = +001.145\n",
      "[Telescope] delta Alt = -000.000 | delta Az = -000.005 delta N1 = -000.000 delta N2 = -142.230 [Dome] delta Az = +000.235\n",
      "[Telescope] delta Alt = -000.000 | delta Az = -000.004 delta N1 = +000.000 delta N2 = -136.245 [Dome] delta Az = +000.235\n",
      "[Telescope] delta Alt = -000.000 | delta Az = -000.004 delta N1 = -000.000 delta N2 = -132.277 [Dome] delta Az = +000.235\n",
      "[Telescope] delta Alt = -000.000 | delta Az = -000.005 delta N1 = -000.000 delta N2 = -128.298 [Dome] delta Az = +000.235\n",
      "[Telescope] delta Alt = -000.000 | delta Az = -000.004 delta N1 = +000.000 delta N2 = -122.323 [Dome] delta Az = +000.235\n",
      "[Telescope] delta Alt = -000.000 | delta Az = -000.005 delta N1 = +000.000 delta N2 = -116.345 [Dome] delta Az = +000.235\n",
      "[Telescope] delta Alt = -000.000 | delta Az = -000.004 delta N1 = -000.000 delta N2 = -110.384 [Dome] delta Az = +000.235\n",
      "[Telescope] delta Alt = -000.000 | delta Az = -000.005 delta N1 = -000.000 delta N2 = -106.407 [Dome] delta Az = +000.235\n",
      "[Telescope] delta Alt = -000.000 | delta Az = -000.004 delta N1 = -000.000 delta N2 = -100.432 [Dome] delta Az = +000.235\n",
      "[Telescope] delta Alt = -000.000 | delta Az = -000.004 delta N1 = +000.000 delta N2 = -094.463 [Dome] delta Az = +000.235\n",
      "[Telescope] delta Alt = -000.000 | delta Az = -000.005 delta N1 = +000.000 delta N2 = -088.489 [Dome] delta Az = +000.235\n",
      "[Telescope] delta Alt = -000.000 | delta Az = -000.004 delta N1 = +000.000 delta N2 = -082.530 [Dome] delta Az = +000.235\n",
      "[Telescope] delta Alt = -000.000 | delta Az = -000.005 delta N1 = +000.000 delta N2 = -078.551 [Dome] delta Az = +000.235\n",
      "[Telescope] delta Alt = -000.000 | delta Az = -000.004 delta N1 = -000.000 delta N2 = -072.572 [Dome] delta Az = +000.235\n",
      "[Telescope] delta Alt = -000.000 | delta Az = -000.003 delta N1 = +000.000 delta N2 = -066.609 [Dome] delta Az = +000.235\n",
      "[Telescope] delta Alt = -000.000 | delta Az = -000.004 delta N1 = +000.000 delta N2 = -060.631 [Dome] delta Az = +000.235\n",
      "[Telescope] delta Alt = -000.000 | delta Az = -000.005 delta N1 = -000.000 delta N2 = -054.668 [Dome] delta Az = +000.235\n",
      "[Telescope] delta Alt = -000.000 | delta Az = -000.005 delta N1 = +000.000 delta N2 = -048.700 [Dome] delta Az = +000.235\n",
      "[Telescope] delta Alt = -000.000 | delta Az = -000.005 delta N1 = -000.000 delta N2 = -042.728 [Dome] delta Az = +000.235\n",
      "[Telescope] delta Alt = -000.000 | delta Az = -000.004 delta N1 = -000.000 delta N2 = -036.758 [Dome] delta Az = +000.235\n",
      "[Telescope] delta Alt = -000.000 | delta Az = -000.004 delta N1 = -000.000 delta N2 = -030.793 [Dome] delta Az = +000.235\n",
      "[Telescope] delta Alt = -000.000 | delta Az = -000.005 delta N1 = -000.000 delta N2 = -024.838 [Dome] delta Az = +000.235\n",
      "[Telescope] delta Alt = -000.000 | delta Az = -000.004 delta N1 = +000.000 delta N2 = -019.025 [Dome] delta Az = +000.235\n",
      "[Telescope] delta Alt = -000.000 | delta Az = -000.005 delta N1 = +000.000 delta N2 = -013.593 [Dome] delta Az = +000.235\n",
      "[Telescope] delta Alt = -000.000 | delta Az = -000.004 delta N1 = +000.000 delta N2 = -008.818 [Dome] delta Az = +000.235\n",
      "[Telescope] delta Alt = -000.000 | delta Az = -000.005 delta N1 = +000.000 delta N2 = -004.968 [Dome] delta Az = +000.235\n",
      "[Telescope] delta Alt = -000.000 | delta Az = -000.004 delta N1 = +000.000 delta N2 = -002.233 [Dome] delta Az = +000.235\n",
      "[Telescope] delta Alt = -000.000 | delta Az = -000.003 delta N1 = +000.000 delta N2 = -000.647 [Dome] delta Az = +000.235\n",
      "[Telescope] delta Alt = -000.000 | delta Az = -000.004 delta N1 = -000.000 delta N2 = -000.047 [Dome] delta Az = +000.235\n",
      "[Telescope] delta Alt = -000.000 | delta Az = -000.005 delta N1 = -000.000 delta N2 = +000.018 [Dome] delta Az = +000.235\n",
      "Got True\n",
      "Waiting for telescope to settle.\n",
      "[Telescope] delta Alt = -000.000 | delta Az = -000.005 delta N1 = -000.000 delta N2 = +000.006 [Dome] delta Az = +000.235\n",
      "[Telescope] delta Alt = -000.000 | delta Az = -000.004 delta N1 = -000.000 delta N2 = +000.006 [Dome] delta Az = +000.235\n",
      "Telescope in position.\n",
      "ATDome in position.\n",
      "['Telescope in position.', 'ATDome in position.']\n"
     ]
    }
   ],
   "source": [
    "#slew to target\n",
    "await script.attcs.slew_object('HD 59468')"
   ]
  },
  {
   "cell_type": "code",
   "execution_count": 13,
   "metadata": {},
   "outputs": [],
   "source": [
    "# script.angle = 0.\n",
    "# script.intra_visit_id = 2020012800333\n",
    "# script.extra_visit_id = 2020012800334"
   ]
  },
  {
   "cell_type": "code",
   "execution_count": 19,
   "metadata": {},
   "outputs": [
    {
     "name": "stdout",
     "output_type": "stream",
     "text": [
      "Gathering settings.\n",
      "No settings for atcamera.\n",
      "Using  from settingVersions event.\n",
      "No settings for atspectrograph.\n",
      "Using current from settingVersions event.\n",
      "No settings for atheaderservice.\n",
      "Couldn't get settingVersions event. Using empty settings.\n",
      "No settings for atarchiver.\n",
      "Using normal from settingVersions event.\n",
      "Settings versions: {'atcamera': '', 'atspectrograph': 'current', 'atheaderservice': '', 'atarchiver': 'normal'}\n",
      "Enabling all components\n",
      "Enabling  atcamera\n",
      "Enabling  atspectrograph\n",
      "Enabling  atheaderservice\n",
      "Enabling  atarchiver\n",
      "[atcamera]::[<State.ENABLED: 2>]\n",
      "[atspectrograph]::[<State.ENABLED: 2>]\n",
      "[atheaderservice]::[<State.ENABLED: 2>]\n",
      "[atarchiver]::[<State.FAULT: 3>, <State.STANDBY: 5>, <State.DISABLED: 1>, <State.ENABLED: 2>]\n",
      "All components enabled.\n"
     ]
    }
   ],
   "source": [
    "#await script.attcs.stop_tracking()\n",
    "await script.latiss.enable()"
   ]
  },
  {
   "cell_type": "code",
   "execution_count": 15,
   "metadata": {},
   "outputs": [],
   "source": [
    "script.filter='BG40'\n",
    "script.grating = 'empty_1'\n",
    "script.exposure_time = 30"
   ]
  },
  {
   "cell_type": "code",
   "execution_count": 15,
   "metadata": {},
   "outputs": [],
   "source": [
    "# command to offset hexapod\n",
    "#offset = {'x':0, 'y':  0.0, 'z': -0.03035911}\n",
    "#await script.attcs.ataos.cmd_offset.set_start(**offset)"
   ]
  },
  {
   "cell_type": "code",
   "execution_count": 16,
   "metadata": {},
   "outputs": [],
   "source": [
    "#await script.attcs.offset_xy(y=0,x=60) # not cumulative (sticky) offsets!"
   ]
  },
  {
   "cell_type": "code",
   "execution_count": 31,
   "metadata": {},
   "outputs": [],
   "source": [
    "# start_time = time.time()\n",
    "# n=1\n",
    "# await script.latiss.take_bias(n)\n",
    "# end_time = time.time()\n",
    "# print(f'Time to perform {n} biases is {end_time-start_time} seconds')"
   ]
  },
  {
   "cell_type": "code",
   "execution_count": 32,
   "metadata": {},
   "outputs": [],
   "source": [
    "# await script.latiss.enable()\n",
    "# start_time = time.time()\n",
    "# exptime=2\n",
    "# await script.latiss.take_engtest(exptime=exptime, filter=script.filter, grating=script.grating)\n",
    "# end_time = time.time()\n",
    "# print(f'Time to perform {exptime} second exposure is {end_time-start_time} seconds')"
   ]
  },
  {
   "cell_type": "code",
   "execution_count": 33,
   "metadata": {},
   "outputs": [],
   "source": [
    "#apply hexapod focus offset\n",
    "#await script.hexapod_offset(-0.02458927)\n",
    "#await script.attcs.ataos.cmd_resetOffset.start()"
   ]
  },
  {
   "cell_type": "code",
   "execution_count": 34,
   "metadata": {},
   "outputs": [
    {
     "name": "stdout",
     "output_type": "stream",
     "text": [
      "Using binning factor of 1\n"
     ]
    },
    {
     "name": "stderr",
     "output_type": "stream",
     "text": [
      "Exception ignored in: <function SqlRegistry.__del__ at 0x7f7a63932950>\n",
      "Traceback (most recent call last):\n",
      "  File \"/opt/lsst/software/stack/stack/miniconda3-4.7.12-984c9f7/Linux64/daf_persistence/19.0.0-2-gf01c5b1+1/python/lsst/daf/persistence/registries.py\", line 319, in __del__\n",
      "    self.conn.close()\n",
      "sqlite3.ProgrammingError: SQLite objects created in a thread can only be used in that same thread. The object was created in thread id 140157073991424 and this is thread id 140164313515840.\n",
      "Exception ignored in: <function SqlRegistry.__del__ at 0x7f7a63932950>\n",
      "Traceback (most recent call last):\n",
      "  File \"/opt/lsst/software/stack/stack/miniconda3-4.7.12-984c9f7/Linux64/daf_persistence/19.0.0-2-gf01c5b1+1/python/lsst/daf/persistence/registries.py\", line 319, in __del__\n",
      "    self.conn.close()\n",
      "sqlite3.ProgrammingError: SQLite objects created in a thread can only be used in that same thread. The object was created in thread id 140157073991424 and this is thread id 140164313515840.\n"
     ]
    }
   ],
   "source": [
    "script.binning = 1"
   ]
  },
  {
   "cell_type": "code",
   "execution_count": 30,
   "metadata": {},
   "outputs": [
    {
     "name": "stdout",
     "output_type": "stream",
     "text": [
      "Intra/Extra images not taken. Running take image sequence.\n",
      "ENGTEST 0001 - 0001\n",
      "ENGTEST 0001 - 0001\n",
      "RemoteEvent(ATHeaderService, 0, logMessage) falling behind; read 10 messages\n",
      "intraImage expId for target: 2020031600087\n",
      "extraImage expId for target: 2020031600088\n"
     ]
    },
    {
     "name": "stderr",
     "output_type": "stream",
     "text": [
      "/home/patrickingraham/repos/ts_externalscripts/python/lsst/ts/externalscripts/auxtel/latiss_cwfs_align.py:310: FutureWarning: Config field doAddDistortionModel is deprecated: Camera geometry is incorporated when reading the raw files. This option no longer is used, and will be removed after v19.\n",
      "  isrConfig.doAddDistortionModel = False\n"
     ]
    },
    {
     "name": "stdout",
     "output_type": "stream",
     "text": [
      "Using translation class LSST_LATISS\n",
      "Checking for header correction file named LATISS-AT_O_20200316_000087.yaml\n",
      "AT_O_20200316_000087: Forcing detector serial to ITL-3800C-068\n",
      "AT_O_20200316_000087: Forcing SHUTTIME header to be None\n",
      "Using translation class LSST_LATISS\n",
      "Checking for header correction file named LATISS-AT_O_20200316_000087.yaml\n",
      "AT_O_20200316_000087: Forcing detector serial to ITL-3800C-068\n",
      "Using translation class LSST_LATISS\n",
      "AT_O_20200316_000087: Dark time less than exposure time. Setting dark time to the exposure time.\n",
      "RemoteEvent(ATMCS, 0, target) falling behind; read 27 messages\n",
      "RemoteEvent(ATDomeTrajectory, 0, logMessage) falling behind; read 27 messages\n",
      "RemoteEvent(ATMCS, 0, target) falling behind; read 27 messages\n",
      "RemoteEvent(ATDomeTrajectory, 0, logMessage) falling behind; read 23 messages\n"
     ]
    },
    {
     "name": "stderr",
     "output_type": "stream",
     "text": [
      "/home/patrickingraham/repos/ts_externalscripts/python/lsst/ts/externalscripts/auxtel/latiss_cwfs_align.py:310: FutureWarning: Config field doAddDistortionModel is deprecated: Camera geometry is incorporated when reading the raw files. This option no longer is used, and will be removed after v19.\n",
      "  isrConfig.doAddDistortionModel = False\n"
     ]
    },
    {
     "name": "stdout",
     "output_type": "stream",
     "text": [
      "Using translation class LSST_LATISS\n",
      "Checking for header correction file named LATISS-AT_O_20200316_000088.yaml\n",
      "AT_O_20200316_000088: Forcing detector serial to ITL-3800C-068\n",
      "AT_O_20200316_000088: Forcing SHUTTIME header to be None\n",
      "Using translation class LSST_LATISS\n",
      "Checking for header correction file named LATISS-AT_O_20200316_000088.yaml\n",
      "AT_O_20200316_000088: Forcing detector serial to ITL-3800C-068\n",
      "Using translation class LSST_LATISS\n",
      "AT_O_20200316_000088: Dark time less than exposure time. Setting dark time to the exposure time.\n",
      "RemoteEvent(ATMCS, 0, target) falling behind; read 27 messages\n",
      "RemoteEvent(ATDomeTrajectory, 0, logMessage) falling behind; read 28 messages\n",
      "RemoteEvent(ATDomeTrajectory, 0, logMessage) falling behind; read 10 messages\n",
      "RemoteEvent(ATMCS, 0, target) falling behind; read 49 messages\n",
      "Running source detection algorithm\n",
      "RemoteTelemetry(ATPtg, 0, currentTargetStatus) falling behind; read 42 messages\n",
      "RemoteEvent(ATAOS, 0, detailedState) falling behind; read 13 messages\n",
      "RemoteTelemetry(ATMCS, 0, torqueDemand) falling behind; read 11 messages\n",
      "RemoteEvent(ATPtg, 0, heartbeat) falling behind; read 11 messages\n",
      "RemoteTelemetry(ATPneumatics, 0, loadCell) falling behind; read 12 messages\n",
      "RemoteEvent(ATDome, 0, doorEncoderExtremes) falling behind; read 60 messages\n",
      "RemoteEvent(ATSpectrograph, 0, heartbeat) falling behind; read 11 messages\n",
      "RemoteEvent(ATHeaderService, 0, heartbeat) falling behind; read 11 messages\n",
      "RemoteTelemetry(ATMCS, 0, nasymth_m3_mountMotorEncoders) falling behind; read 12 messages\n",
      "RemoteEvent(ATArchiver, 0, heartbeat) falling behind; read 11 messages\n",
      "RemoteTelemetry(ATHexapod, 0, positionStatus) falling behind; read 11 messages\n",
      "RemoteTelemetry(ATMCS, 0, mount_Nasmyth_Encoders) falling behind; read 13 messages\n",
      "RemoteEvent(ATDomeTrajectory, 0, heartbeat) falling behind; read 12 messages\n",
      "RemoteEvent(ATHexapod, 0, heartbeat) falling behind; read 11 messages\n",
      "RemoteTelemetry(ATMCS, 0, mount_AzEl_Encoders) falling behind; read 13 messages\n",
      "RemoteTelemetry(ATPtg, 0, timeAndDate) falling behind; read 57 messages\n",
      "RemoteTelemetry(ATPneumatics, 0, mainAirSourcePressure) falling behind; read 12 messages\n",
      "RemoteTelemetry(ATDome, 0, position) falling behind; read 56 messages\n",
      "RemoteTelemetry(ATMCS, 0, measuredTorque) falling behind; read 13 messages\n",
      "RemoteTelemetry(ATPneumatics, 0, m2AirPressure) falling behind; read 12 messages\n",
      "RemoteEvent(ATAOS, 0, heartbeat) falling behind; read 12 messages\n",
      "RemoteTelemetry(ATMCS, 0, measuredMotorVelocity) falling behind; read 13 messages\n",
      "RemoteTelemetry(ATPtg, 0, mountStatus) falling behind; read 59 messages\n",
      "RemoteTelemetry(ATMCS, 0, azEl_mountMotorEncoders) falling behind; read 13 messages\n",
      "RemoteTelemetry(ATPtg, 0, guidingAndOffsets) falling behind; read 59 messages\n",
      "RemoteEvent(ATPneumatics, 0, heartbeat) falling behind; read 12 messages\n",
      "RemoteEvent(ATPtg, 0, mountDataWarning) falling behind; read 10 messages\n",
      "RemoteTelemetry(ATMCS, 0, trajectory) falling behind; read 13 messages\n",
      "RemoteEvent(ATMCS, 0, heartbeat) falling behind; read 12 messages\n",
      "==============================\n",
      "Measured zernike coeficients: [5.847811996509997, -26.77634461469567, -96.51546263286447]\n",
      "De-rotated zernike coeficients: [-26.59879516  -6.60860287 -96.51546263]\n",
      "Hexapod offset: [-0.20304424  0.05044735  0.02297987]\n",
      "Telescope offsets: [-12.18265427   3.02684101   0.        ]\n",
      "==============================\n",
      "\n",
      "WFE fitting took 119.290 seconds\n"
     ]
    }
   ],
   "source": [
    "# # To test a single pair of images just put image id's. Set to None to get new images \n",
    "# script.intra_visit_id = 2020031200289\n",
    "# script.extra_visit_id = 2020031200290\n",
    "# script.angle = 61.7-37.9 # elev - nas2 \n",
    "\n",
    "\n",
    "start_time=time.time()\n",
    "await script.run_cwfs()\n",
    "end_time=time.time()\n",
    "print('WFE fitting took {0:0.3f} seconds'.format(end_time-start_time)) # 56.7s"
   ]
  },
  {
   "cell_type": "code",
   "execution_count": 35,
   "metadata": {},
   "outputs": [
    {
     "name": "stdout",
     "output_type": "stream",
     "text": [
      "Generating group_id\n",
      "OBJECT 0001 - 0001\n"
     ]
    },
    {
     "data": {
      "text/plain": [
       "array([2020031600091])"
      ]
     },
     "execution_count": 35,
     "metadata": {},
     "output_type": "execute_result"
    },
    {
     "name": "stdout",
     "output_type": "stream",
     "text": [
      "RemoteEvent(ATHeaderService, 0, logMessage) falling behind; read 17 messages\n",
      "RemoteEvent(ATHeaderService, 0, logMessage) falling behind; read 11 messages\n",
      "RemoteEvent(ATHeaderService, 0, logMessage) falling behind; read 10 messages\n",
      "RemoteEvent(ATHeaderService, 0, logMessage) falling behind; read 10 messages\n",
      "RemoteEvent(ATHeaderService, 0, logMessage) falling behind; read 10 messages\n",
      "RemoteEvent(ATHeaderService, 0, logMessage) falling behind; read 10 messages\n",
      "RemoteEvent(ATHeaderService, 0, logMessage) falling behind; read 28 messages\n",
      "RemoteEvent(ATHeaderService, 0, logMessage) falling behind; read 11 messages\n",
      "RemoteEvent(ATHeaderService, 0, logMessage) falling behind; read 12 messages\n",
      "RemoteEvent(ATMCS, 0, target) falling behind; read 94 messages\n",
      "RemoteEvent(ATHeaderService, 0, logMessage) falling behind; read 10 messages\n",
      "RemoteEvent(ATHeaderService, 0, logMessage) falling behind; read 14 messages\n",
      "RemoteEvent(ATHeaderService, 0, logMessage) falling behind; read 10 messages\n",
      "RemoteEvent(ATMCS, 0, target) falling behind; read 100 messages\n",
      "RemoteEvent(ATDomeTrajectory, 0, logMessage) falling behind; read 11 messages\n",
      "RemoteEvent(ATHeaderService, 0, logMessage) falling behind; read 12 messages\n",
      "RemoteEvent(ATMCS, 0, target) falling behind; read 15 messages\n",
      "RemoteEvent(ATDomeTrajectory, 0, logMessage) falling behind; read 11 messages\n",
      "RemoteEvent(ATMCS, 0, target) falling behind; read 52 messages\n",
      "RemoteEvent(ATDomeTrajectory, 0, logMessage) falling behind; read 16 messages\n",
      "RemoteEvent(ATHeaderService, 0, logMessage) falling behind; read 10 messages\n",
      "RemoteEvent(ATHeaderService, 0, logMessage) falling behind; read 12 messages\n",
      "RemoteEvent(ATMCS, 0, target) falling behind; read 36 messages\n",
      "RemoteEvent(ATMCS, 0, target) falling behind; read 100 messages\n",
      "RemoteEvent(ATDomeTrajectory, 0, logMessage) falling behind; read 15 messages\n",
      "RemoteEvent(ATDomeTrajectory, 0, logMessage) falling behind; read 25 messages\n",
      "RemoteEvent(ATMCS, 0, target) falling behind; read 64 messages\n",
      "RemoteEvent(ATMCS, 0, target) falling behind; read 16 messages\n",
      "RemoteEvent(ATDomeTrajectory, 0, logMessage) falling behind; read 17 messages\n",
      "RemoteEvent(ATDomeTrajectory, 0, logMessage) falling behind; read 10 messages\n"
     ]
    }
   ],
   "source": [
    "#await script.latiss.take_engtest(exptime=2,n=1)\n",
    "await script.latiss.take_object(exptime=20)"
   ]
  },
  {
   "cell_type": "code",
   "execution_count": null,
   "metadata": {},
   "outputs": [],
   "source": [
    "# await script.attcs.ataos.cmd_applyAxisOffset.set_start(axis='y', offset=-0.2)\n",
    "# offset = {'x':-0.5 , 'y':0., 'z': 0.}\n",
    "# await script.attcs.ataos.cmd_offset.set_start(**offset)"
   ]
  },
  {
   "cell_type": "code",
   "execution_count": null,
   "metadata": {},
   "outputs": [],
   "source": [
    "#await script.attcs.slew_object('HD 107696', pa_ang=70)"
   ]
  },
  {
   "cell_type": "code",
   "execution_count": null,
   "metadata": {},
   "outputs": [],
   "source": [
    "# print results\n",
    "script.show_results()\n",
    "# plot zernikes\n",
    "x = np.arange(9)+4\n",
    "plt.plot(x, script.algo.zer4UpNm[:9], 'o-', label=f'{script.dz}')\n",
    "xlim = plt.xlim()\n",
    "plt.plot(np.arange(15), np.zeros(15)+50, 'b--')\n",
    "plt.plot(np.arange(15), np.zeros(15)-50, 'b--')\n",
    "plt.xlim(xlim)\n",
    "plt.ylabel(\"Zernike coeff (nm)\")\n",
    "plt.xlabel(\"Zernike index\")\n",
    "plt.grid()\n",
    "plt.legend()\n",
    "\n",
    "print(script.algo.zer4UpNm[:9])"
   ]
  },
  {
   "cell_type": "code",
   "execution_count": null,
   "metadata": {},
   "outputs": [],
   "source": [
    "# plot image and mask\n",
    "fig1 = plt.figure(1, figsize=(12,8))\n",
    "ax11 = fig1.add_subplot(121)\n",
    "ax11.set_title(\"defocus 0.8 - intra\")\n",
    "ax11.imshow(script.I1[0].image0)\n",
    "ax11.contour(script.algo.pMask) \n",
    "ax12 = fig1.add_subplot(122)\n",
    "ax12.set_title(\"defocus 0.8 - extra\")\n",
    "ax12.imshow(script.I2[0].image0)\n",
    "ax12.contour(script.algo.pMask) "
   ]
  },
  {
   "cell_type": "code",
   "execution_count": null,
   "metadata": {},
   "outputs": [],
   "source": []
  },
  {
   "cell_type": "markdown",
   "metadata": {},
   "source": [
    "## Take an in-focus image?"
   ]
  },
  {
   "cell_type": "code",
   "execution_count": null,
   "metadata": {},
   "outputs": [],
   "source": [
    "if True:\n",
    "    # Start a logger to publish observer notes to the EFD\n",
    "    # find it using SELECT \"message\" FROM \"efd\".\"autogen\".\"lsst.sal.Script.logevent_logMessage\" WHERE time > :dashboardTime:\n",
    "    comment_log_controller = salobj.Controller(\"Script\", index=1)\n",
    "    comment_log_controller.evt_logMessage.set_put(message=\"Starting In-focus post CWFS data on current target\")\n",
    "    #comment_log_controller.evt_logMessage.set_put(message=\"Test: {}\".format(time.time()))\n",
    "    tmp = latiss.take_object(exptime=15, n=1)\n",
    "    comment_log_controller.evt_logMessage.set_put(message=\"Finished In-focus post CWFS data current target\"))"
   ]
  },
  {
   "cell_type": "code",
   "execution_count": null,
   "metadata": {},
   "outputs": [],
   "source": [
    "tmp = await script.attcs.atptg.evt_currentTarget.next(flush=True, timeout=15)\n",
    "print(tmp)"
   ]
  },
  {
   "cell_type": "code",
   "execution_count": null,
   "metadata": {},
   "outputs": [],
   "source": [
    "tmp = await script.attcs.atptg.evt_heartbeat.next(flush=True, timeout=15)"
   ]
  },
  {
   "cell_type": "code",
   "execution_count": null,
   "metadata": {},
   "outputs": [],
   "source": [
    "print(tmp)"
   ]
  },
  {
   "cell_type": "code",
   "execution_count": null,
   "metadata": {},
   "outputs": [],
   "source": []
  },
  {
   "cell_type": "code",
   "execution_count": null,
   "metadata": {},
   "outputs": [],
   "source": []
  },
  {
   "cell_type": "code",
   "execution_count": null,
   "metadata": {},
   "outputs": [],
   "source": []
  },
  {
   "cell_type": "code",
   "execution_count": null,
   "metadata": {},
   "outputs": [],
   "source": []
  },
  {
   "cell_type": "code",
   "execution_count": null,
   "metadata": {},
   "outputs": [],
   "source": [
    "from lsst.daf.persistence import Butler\n",
    "repo='/project/shared/auxTel'\n",
    "butler = Butler(repo)\n",
    "dataId = dict(dayObs=\"2020-03-12\", seqNum='289')"
   ]
  },
  {
   "cell_type": "code",
   "execution_count": null,
   "metadata": {},
   "outputs": [],
   "source": [
    "md=butler.get('raw_md', dataId=dataId)"
   ]
  },
  {
   "cell_type": "code",
   "execution_count": null,
   "metadata": {},
   "outputs": [],
   "source": [
    "print(md['AZSTART'])\n",
    "print(md['ELSTART'])\n",
    "print(md['ROTPA'])"
   ]
  },
  {
   "cell_type": "code",
   "execution_count": 5,
   "metadata": {},
   "outputs": [
    {
     "name": "stdout",
     "output_type": "stream",
     "text": [
      "RemoteEvent(ATHexapod, 0, heartbeat) falling behind; read 12 messages\n",
      "RemoteEvent(ATAOS, 0, detailedState) falling behind; read 12 messages\n",
      "RemoteEvent(ATDome, 0, heartbeat) falling behind; read 10 messages\n",
      "RemoteTelemetry(ATPtg, 0, timeAndDate) falling behind; read 27 messages\n",
      "Disabling ATAOS corrections\n",
      "RemoteEvent(ATDome, 0, doorEncoderExtremes) falling behind; read 45 messages\n",
      "Read historical data in 0.16 sec\n",
      "RemoteTelemetry(ATPtg, 0, mountStatus) falling behind; read 28 messages\n",
      "RemoteTelemetry(ATPtg, 0, guidingAndOffsets) falling behind; read 30 messages\n",
      "RemoteTelemetry(ATPtg, 0, currentTargetStatus) falling behind; read 31 messages\n",
      "Disable ATDomeTrajectory\n",
      "Slew telescope to Park position.\n",
      "Sending command\n",
      "Stop tracking.\n",
      "Mount tracking state is 8\n",
      "In Position: False.\n",
      "Scheduling check coroutines\n",
      "process as completed...\n",
      "Got False\n",
      "Telescope not in position\n",
      "atmcs: <State.ENABLED: 2>\n",
      "atptg: <State.ENABLED: 2>\n",
      "ataos: <State.ENABLED: 2>\n",
      "atpneumatics: <State.ENABLED: 2>\n",
      "athexapod: <State.ENABLED: 2>\n",
      "[Telescope] delta Alt = +050.630 | delta Az= -177.333 delta N1 = +000.000 delta N2 = +061.911 \n",
      "[Telescope] delta Alt = +049.977 | delta Az= -176.675 delta N1 = -000.000 delta N2 = +059.805 \n",
      "[Telescope] delta Alt = +044.273 | delta Az= -170.972 delta N1 = -000.000 delta N2 = +053.798 \n",
      "[Telescope] delta Alt = +040.275 | delta Az= -166.971 delta N1 = -000.000 delta N2 = +049.803 \n",
      "[Telescope] delta Alt = +034.275 | delta Az= -160.972 delta N1 = +000.000 delta N2 = +043.802 \n",
      "[Telescope] delta Alt = +028.278 | delta Az= -154.971 delta N1 = -000.000 delta N2 = +037.801 \n",
      "Failed to slew telescope to park position. Continuing...\n",
      "\n",
      "Traceback (most recent call last):\n",
      "  File \"/home/patrickingraham/repos/ts_standardscripts/python/lsst/ts/standardscripts/auxtel/attcs.py\", line 663, in shutdown\n",
      "    wait_dome=False)\n",
      "  File \"/home/patrickingraham/repos/ts_standardscripts/python/lsst/ts/standardscripts/auxtel/attcs.py\", line 140, in point_azel\n",
      "    raise e\n",
      "  File \"/home/patrickingraham/repos/ts_standardscripts/python/lsst/ts/standardscripts/auxtel/attcs.py\", line 136, in point_azel\n",
      "    slew_timeout=slew_timeout)\n",
      "  File \"/home/patrickingraham/repos/ts_standardscripts/python/lsst/ts/standardscripts/auxtel/attcs.py\", line 940, in _slew_to\n",
      "    ret_val = await res\n",
      "  File \"/opt/lsst/software/stack/python/miniconda3-4.7.12/envs/lsst-scipipe-984c9f7/lib/python3.7/asyncio/tasks.py\", line 560, in _wait_for_one\n",
      "    return f.result()  # May raise f.exception().\n",
      "  File \"/home/patrickingraham/repos/ts_standardscripts/python/lsst/ts/standardscripts/auxtel/attcs.py\", line 1182, in monitor_position\n",
      "    timeout=self.fast_timeout)\n",
      "  File \"/opt/lsst/src/ts_salobj/python/lsst/ts/salobj/topics/read_topic.py\", line 397, in next\n",
      "    return await self._next(timeout=timeout)\n",
      "  File \"/opt/lsst/src/ts_salobj/python/lsst/ts/salobj/topics/read_topic.py\", line 412, in _next\n",
      "    await asyncio.wait_for(self._next_task, timeout=timeout)\n",
      "  File \"/opt/lsst/software/stack/python/miniconda3-4.7.12/envs/lsst-scipipe-984c9f7/lib/python3.7/asyncio/tasks.py\", line 449, in wait_for\n",
      "    raise futures.TimeoutError()\n",
      "concurrent.futures._base.TimeoutError\n",
      "Cover state <MirrorCoverState.OPENED: 7>\n",
      "Closing M1 cover.\n",
      "Cover state <MirrorCoverState.OPENED: 7>\n",
      "Cover state <MirrorCoverState.INMOTION: 8>\n",
      "RemoteEvent(ATMCS, 0, target) falling behind; read 30 messages\n",
      "RemoteEvent(ATDomeTrajectory, 0, logMessage) falling behind; read 13 messages\n",
      "Got True\n",
      "Waiting for telescope to settle.\n",
      "Telescope in position.\n",
      "Cover state <MirrorCoverState.CLOSED: 6>\n",
      "Error closing m1 vents.\n",
      "Close dome.\n",
      "atdome: <State.ENABLED: 2>\n",
      "Got: private_revCode: f1592f29, private_sndStamp: 1584420151.5332499, private_rcvStamp: 1584420151.5348127, private_seqNum: 37, private_origin: 25, private_host: 1721946909, inPosition: False, priority: 0\n",
      "ATDome shutter not in position.\n",
      "Got: private_revCode: f1592f29, private_sndStamp: 1584420381.7258759, private_rcvStamp: 1584420381.7276807, private_seqNum: 38, private_origin: 25, private_host: 1721946909, inPosition: True, priority: 0\n",
      "ATDome shutter in position.\n",
      "Slew dome to Park position.\n",
      "atdometrajectory: <State.DISABLED: 1>\n",
      "[Dome] delta Az = +107.630\n",
      "[Dome] delta Az = +107.520\n",
      "[Dome] delta Az = +107.170\n",
      "[Dome] delta Az = +106.570\n",
      "[Dome] delta Az = +105.740\n",
      "[Dome] delta Az = +104.660\n",
      "[Dome] delta Az = +103.360\n",
      "[Dome] delta Az = +101.820\n",
      "[Dome] delta Az = +100.030\n",
      "[Dome] delta Az = +098.020\n",
      "[Dome] delta Az = +095.780\n",
      "[Dome] delta Az = +093.280\n",
      "[Dome] delta Az = +090.550\n",
      "[Dome] delta Az = +087.590\n",
      "[Dome] delta Az = +084.410\n",
      "[Dome] delta Az = +081.020\n",
      "[Dome] delta Az = +077.510\n",
      "[Dome] delta Az = +074.030\n",
      "[Dome] delta Az = +070.520\n",
      "[Dome] delta Az = +067.040\n",
      "[Dome] delta Az = +063.540\n",
      "[Dome] delta Az = +060.070\n",
      "[Dome] delta Az = +056.580\n",
      "[Dome] delta Az = +053.060\n",
      "[Dome] delta Az = +049.570\n",
      "[Dome] delta Az = +046.090\n",
      "[Dome] delta Az = +042.610\n",
      "[Dome] delta Az = +039.110\n",
      "[Dome] delta Az = +035.640\n",
      "[Dome] delta Az = +032.140\n",
      "[Dome] delta Az = +028.630\n",
      "[Dome] delta Az = +025.160\n",
      "[Dome] delta Az = +021.630\n",
      "[Dome] delta Az = +018.150\n",
      "[Dome] delta Az = +014.680\n",
      "[Dome] delta Az = +011.180\n",
      "[Dome] delta Az = +007.700\n",
      "[Dome] delta Az = +004.220\n",
      "ATDome in position.\n",
      "ATDome in position.\n",
      "Put all CSCs in standby\n",
      "ataos not in <State.ENABLED: 2>: <State.DISABLED: 1>\n",
      "athexapod not in <State.ENABLED: 2>: <State.DISABLED: 1>\n",
      "atptg not in <State.ENABLED: 2>: <State.DISABLED: 1>\n",
      "atpneumatics not in <State.ENABLED: 2>: <State.DISABLED: 1>\n",
      "Unable to put atmcs in STANDBY\n",
      "Error on cmd=cmd_disable, initial_state=2: msg='Command failed', ackcmd=(ackcmd private_seqNum=221961676, ack=<SalRetCode.CMD_NOPERM: -300>, error=0, result='ERROR: Command disable rejected while in TrackingEnabledState state.')\n",
      "NoneType: None\n",
      "[atptg]::[<State.ENABLED: 2>, <State.DISABLED: 1>, <State.STANDBY: 5>]\n",
      "[ataos]::[<State.ENABLED: 2>, <State.DISABLED: 1>, <State.STANDBY: 5>]\n",
      "[atpneumatics]::[<State.ENABLED: 2>, <State.DISABLED: 1>, <State.STANDBY: 5>]\n",
      "[athexapod]::[<State.ENABLED: 2>, <State.DISABLED: 1>, <State.STANDBY: 5>]\n",
      "[atdome]::[<State.ENABLED: 2>, <State.DISABLED: 1>, <State.STANDBY: 5>]\n",
      "[atdometrajectory]::[<State.DISABLED: 1>, <State.STANDBY: 5>]\n"
     ]
    },
    {
     "ename": "RuntimeError",
     "evalue": "Unable to put atmcs in STANDBY\n",
     "output_type": "error",
     "traceback": [
      "\u001b[0;31m---------------------------------------------------------------------------\u001b[0m",
      "\u001b[0;31mRuntimeError\u001b[0m                              Traceback (most recent call last)",
      "\u001b[0;32m<ipython-input-5-4d28d2ee384e>\u001b[0m in \u001b[0;36masync-def-wrapper\u001b[0;34m()\u001b[0m\n",
      "\u001b[0;32m~/repos/ts_standardscripts/python/lsst/ts/standardscripts/auxtel/attcs.py\u001b[0m in \u001b[0;36mshutdown\u001b[0;34m(self)\u001b[0m\n\u001b[1;32m    685\u001b[0m         \u001b[0mself\u001b[0m\u001b[0;34m.\u001b[0m\u001b[0mlog\u001b[0m\u001b[0;34m.\u001b[0m\u001b[0minfo\u001b[0m\u001b[0;34m(\u001b[0m\u001b[0;34m\"Put all CSCs in standby\"\u001b[0m\u001b[0;34m)\u001b[0m\u001b[0;34m\u001b[0m\u001b[0;34m\u001b[0m\u001b[0m\n\u001b[1;32m    686\u001b[0m \u001b[0;34m\u001b[0m\u001b[0m\n\u001b[0;32m--> 687\u001b[0;31m         \u001b[0;32mawait\u001b[0m \u001b[0mself\u001b[0m\u001b[0;34m.\u001b[0m\u001b[0mstandby\u001b[0m\u001b[0;34m(\u001b[0m\u001b[0;34m)\u001b[0m\u001b[0;34m\u001b[0m\u001b[0;34m\u001b[0m\u001b[0m\n\u001b[0m\u001b[1;32m    688\u001b[0m \u001b[0;34m\u001b[0m\u001b[0m\n\u001b[1;32m    689\u001b[0m     \u001b[0;32masync\u001b[0m \u001b[0;32mdef\u001b[0m \u001b[0mopen_dome_shutter\u001b[0m\u001b[0;34m(\u001b[0m\u001b[0mself\u001b[0m\u001b[0;34m)\u001b[0m\u001b[0;34m:\u001b[0m\u001b[0;34m\u001b[0m\u001b[0;34m\u001b[0m\u001b[0m\n",
      "\u001b[0;32m~/repos/ts_standardscripts/python/lsst/ts/standardscripts/base_group.py\u001b[0m in \u001b[0;36mstandby\u001b[0;34m(self)\u001b[0m\n\u001b[1;32m    148\u001b[0m \u001b[0;34m\u001b[0m\u001b[0m\n\u001b[1;32m    149\u001b[0m         \u001b[0;32mif\u001b[0m \u001b[0merror_flag\u001b[0m\u001b[0;34m:\u001b[0m\u001b[0;34m\u001b[0m\u001b[0;34m\u001b[0m\u001b[0m\n\u001b[0;32m--> 150\u001b[0;31m             \u001b[0;32mraise\u001b[0m \u001b[0mRuntimeError\u001b[0m\u001b[0;34m(\u001b[0m\u001b[0merror_msg\u001b[0m\u001b[0;34m)\u001b[0m\u001b[0;34m\u001b[0m\u001b[0;34m\u001b[0m\u001b[0m\n\u001b[0m\u001b[1;32m    151\u001b[0m         \u001b[0;32melse\u001b[0m\u001b[0;34m:\u001b[0m\u001b[0;34m\u001b[0m\u001b[0;34m\u001b[0m\u001b[0m\n\u001b[1;32m    152\u001b[0m             \u001b[0mself\u001b[0m\u001b[0;34m.\u001b[0m\u001b[0mlog\u001b[0m\u001b[0;34m.\u001b[0m\u001b[0minfo\u001b[0m\u001b[0;34m(\u001b[0m\u001b[0;34m\"All components in standby.\"\u001b[0m\u001b[0;34m)\u001b[0m\u001b[0;34m\u001b[0m\u001b[0;34m\u001b[0m\u001b[0m\n",
      "\u001b[0;31mRuntimeError\u001b[0m: Unable to put atmcs in STANDBY\n"
     ]
    },
    {
     "name": "stdout",
     "output_type": "stream",
     "text": [
      "atmcs not in <State.ENABLED: 2>: <State.DISABLED: 1>\n"
     ]
    }
   ],
   "source": [
    "\n",
    "await script.attcs.shutdown()"
   ]
  },
  {
   "cell_type": "code",
   "execution_count": null,
   "metadata": {},
   "outputs": [],
   "source": []
  }
 ],
 "metadata": {
  "kernelspec": {
   "display_name": "LSST",
   "language": "python",
   "name": "lsst"
  },
  "language_info": {
   "codemirror_mode": {
    "name": "ipython",
    "version": 3
   },
   "file_extension": ".py",
   "mimetype": "text/x-python",
   "name": "python",
   "nbconvert_exporter": "python",
   "pygments_lexer": "ipython3",
   "version": "3.7.6"
  }
 },
 "nbformat": 4,
 "nbformat_minor": 4
}
