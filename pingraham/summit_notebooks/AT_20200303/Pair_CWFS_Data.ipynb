{
 "cells": [
  {
   "cell_type": "code",
   "execution_count": 1,
   "metadata": {},
   "outputs": [],
   "source": [
    "import asyncio \n",
    "import matplotlib\n",
    "\n",
    "import numpy as np\n",
    "import pandas as pd\n",
    "\n",
    "from matplotlib import pylab as plt\n",
    "from astropy.time import Time, TimeDelta\n",
    "\n",
    "from lsst_efd_client import EfdClient, resample\n",
    "\n",
    "%matplotlib inline"
   ]
  },
  {
   "cell_type": "code",
   "execution_count": 2,
   "metadata": {},
   "outputs": [],
   "source": [
    "efd_client = EfdClient('summit_efd')"
   ]
  },
  {
   "cell_type": "markdown",
   "metadata": {},
   "source": [
    "Query for all the `endReadout` events on the timespan of the night."
   ]
  },
  {
   "cell_type": "code",
   "execution_count": 3,
   "metadata": {},
   "outputs": [],
   "source": [
    "t1 = Time(\"2020-02-19T05:35\", format='isot', scale='tai')\n",
    "t2 = Time(\"2020-02-19T11:18\", format='isot', scale='tai')#+TimeDelta(8.*24.*60*60., format='sec', scale='tai')"
   ]
  },
  {
   "cell_type": "code",
   "execution_count": null,
   "metadata": {},
   "outputs": [],
   "source": []
  },
  {
   "cell_type": "code",
   "execution_count": 4,
   "metadata": {},
   "outputs": [],
   "source": [
    "end_readout = await efd_client.select_time_series(\"lsst.sal.ATCamera.logevent_endReadout\", \n",
    "                                           [\"imageName\", \"exposureTime\", \"groupId\", \"imageType\"], t1, t2)"
   ]
  },
  {
   "cell_type": "code",
   "execution_count": 5,
   "metadata": {},
   "outputs": [],
   "source": [
    "#end_readout['imageType']"
   ]
  },
  {
   "cell_type": "markdown",
   "metadata": {},
   "source": [
    "Now match each entry. For each `i` item with `intra` in the name, there must be an `i+1` with `extra` otherwise it is not a pair. "
   ]
  },
  {
   "cell_type": "code",
   "execution_count": 7,
   "metadata": {},
   "outputs": [
    {
     "name": "stdout",
     "output_type": "stream",
     "text": [
      "Got a pair: AT_O_20200218_000167 x AT_O_20200218_000168\n",
      "Got a pair: AT_O_20200218_000169 x AT_O_20200218_000170\n",
      "Got a pair: AT_O_20200218_000171 x AT_O_20200218_000172\n",
      "Got a pair: AT_O_20200218_000173 x AT_O_20200218_000174\n",
      "Got a pair: AT_O_20200218_000175 x AT_O_20200218_000176\n",
      "Got a pair: AT_O_20200218_000177 x AT_O_20200218_000178\n",
      "Got a pair: AT_O_20200218_000181 x AT_O_20200218_000182\n",
      "Got a pair: AT_O_20200218_000184 x AT_O_20200218_000185\n",
      "Got a pair: AT_O_20200218_000187 x AT_O_20200218_000188\n",
      "Got a pair: AT_O_20200218_000190 x AT_O_20200218_000191\n",
      "Got 10 pairs and 205 misses.\n"
     ]
    }
   ],
   "source": [
    "intra_images = []\n",
    "extra_images = []\n",
    "intra_times = []\n",
    "extra_times = []\n",
    "intra_exptimes = []\n",
    "extra_exptimes = []\n",
    "\n",
    "i = 0\n",
    "npairs = 0\n",
    "nmiss = 0\n",
    "\n",
    "while i < len(end_readout)-2:\n",
    "    intra = end_readout['imageName'][i]\n",
    "    extra = end_readout['imageName'][i+1]\n",
    "    \n",
    "    #skip known bad files\n",
    "    if intra == 'AT_O_20200218_000179' and extra == 'AT_O_20200218_000180':\n",
    "        i+=2\n",
    "        continue\n",
    "    \n",
    "    if (end_readout['groupId'][i] == end_readout['groupId'][i+1]) and (end_readout['groupId'][i+1] != end_readout['groupId'][i+2]) and (end_readout['imageType'][i] == 'ENGTEST'):\n",
    "        print(f\"Got a pair: {intra} x {extra}\")\n",
    "        intra_images.append(intra)\n",
    "        extra_images.append(extra)\n",
    "        intra_times.append(end_readout.index[i])\n",
    "        extra_times.append(end_readout.index[i+1])\n",
    "        intra_exptimes.append(end_readout['exposureTime'][i])\n",
    "        extra_exptimes.append(end_readout['exposureTime'][i+1])\n",
    "        i+=2\n",
    "        npairs+=1\n",
    "    else:\n",
    "#         print(f\"No Match: {intra} x {extra}\")\n",
    "        nmiss+=1\n",
    "        i+=1\n",
    "\n",
    "print(f\"Got {npairs} pairs and {nmiss} misses.\")"
   ]
  },
  {
   "cell_type": "code",
   "execution_count": null,
   "metadata": {},
   "outputs": [],
   "source": []
  },
  {
   "cell_type": "code",
   "execution_count": 8,
   "metadata": {},
   "outputs": [],
   "source": [
    "match_data = np.zeros(npairs, dtype=[('intra', '<U35'), \n",
    "                                     ('extra', '<U35'), \n",
    "                                     ('az', float), \n",
    "                                           ('el', float), \n",
    "                                           ('rot_pos', float),\n",
    "                                           ('x', float), \n",
    "                                           ('y', float), \n",
    "                                           ('z', float), \n",
    "                                           ('u', float), \n",
    "                                           ('v', float), \n",
    "                                           ('w', float), \n",
    "                                     ('m1_pressure', float),\n",
    "                                     ('dz', float)])"
   ]
  },
  {
   "cell_type": "code",
   "execution_count": 9,
   "metadata": {},
   "outputs": [
    {
     "name": "stdout",
     "output_type": "stream",
     "text": [
      "2020-02-19 05:35:09.133584 2020-02-19 05:39:17.791049 170.5799855261075 64.50806038907908 59.114450175708924 -5.444468975067139 0.9130426049232483 -0.5028411746025085 0.3499999940395355 0.3499999940395355 0.0 0.8\n",
      "2020-02-19 05:40:59.800241 2020-02-19 05:45:12.332355 172.4787345248951 64.69443047382143 61.664930118681546 -5.446218967437744 1.211675763130188 -0.5028411746025085 0.3499999940395355 0.3499999940395355 0.0 0.8\n",
      "2020-02-19 05:42:43.012332 2020-02-19 05:46:55.518845 173.04323748699693 64.74320718877114 63.087051484028514 -5.446631908416748 1.5113528966903687 -0.5028411746025085 0.3499999940395355 0.3499999940395355 0.0 0.8\n",
      "2020-02-19 05:44:31.036082 2020-02-19 05:48:43.247774 173.63421885266592 64.78766625250864 62.13737661445177 -5.447021007537842 1.811049222946167 -0.5028411746025085 0.3499999940395355 0.3499999940395355 0.0 0.8\n",
      "2020-02-19 05:46:14.376355 2020-02-19 05:50:26.181127 174.20018175054562 64.82633095536688 61.23311285799297 -5.44736385345459 2.110781192779541 -0.5028411746025085 0.3499999940395355 0.3499999940395355 0.0 0.8\n",
      "2020-02-19 05:48:45.822787 2020-02-19 05:52:58.264712 175.0391415210888 64.87669394254466 59.90606041486841 -5.4477996826171875 0.6104409694671631 -0.5028411746025085 0.3499999940395355 0.3499999940395355 0.0 0.8\n",
      "2020-02-19 05:52:18.693669 2020-02-19 05:56:28.012446 176.21005081709265 64.93331277986208 58.06058080380195 -5.448286056518555 0.31006088852882385 -0.5028411746025085 0.3499999940395355 0.3499999940395355 0.0 0.8\n",
      "2020-02-19 05:55:02.518997 2020-02-19 05:59:14.935442 177.13599637299004 64.96656115788991 56.61852045361788 -5.448561191558838 0.009845990687608719 -0.5028411746025085 0.3499999940395355 0.3499999940395355 0.0 0.8\n",
      "2020-02-19 05:57:15.126234 2020-02-19 06:01:25.203878 177.85999599698704 64.98455976722046 55.50008562234567 -5.448698043823242 -0.2902609705924988 -0.5028411746025085 0.3499999940395355 0.3499999940395355 0.0 0.8\n",
      "2020-02-19 06:00:28.000677 2020-02-19 06:04:40.778844 178.96794524279656 65.00332581270176 59.54940903914486 -5.4488630294799805 0.9096100330352783 -0.5028411746025085 0.3499999940395355 0.3499999940395355 0.0 0.8\n"
     ]
    }
   ],
   "source": [
    "for i in range(npairs):\n",
    "    \n",
    "    t1 = Time(intra_times[i], scale='tai') - TimeDelta(intra_exptimes[i], format='sec', scale='tai') - TimeDelta(180., format='sec', scale='tai')\n",
    "    t2 = Time(extra_times[i], scale='tai') - TimeDelta(1., format='sec', scale='tai')\n",
    "\n",
    "    azel = await efd_client.select_time_series(\"lsst.sal.ATMCS.mount_AzEl_Encoders\", \n",
    "                                               [\"elevationCalculatedAngle99\", \"azimuthCalculatedAngle99\"], t1, t2)\n",
    "    rotator = await efd_client.select_time_series(\"lsst.sal.ATMCS.mount_Nasmyth_Encoders\",\n",
    "                                                  [\"nasmyth2CalculatedAngle99\"], t1, t2)\n",
    "    hexapod = await efd_client.select_time_series(\"lsst.sal.ATHexapod.command_moveToPosition\",\n",
    "                                                  [\"x\", \"y\", \"z\", \"u\", \"v\", \"w\"], t1, t2)\n",
    "    m1_pressure = await efd_client.select_time_series(\"lsst.sal.ATPneumatics.m1AirPressure\",\n",
    "                                                  [\"pressure\"], t1, t2)\n",
    "    #offset = await efd_client.select_time_series(\"lsst.sal.ATAOS.command_applyAxisOffset\",\n",
    "    #                                             [\"*\"], t1, t2)\n",
    "    offset = await efd_client.select_time_series(\"lsst.sal.ATAOS.logevent_hexapodCorrectionCompleted\",\n",
    "                                                 [\"hexapod_x\", \"hexapod_y\", \"hexapod_z\", \"hexapod_u\", \"hexapod_v\", \"hexapod_w\"], t1, t2)\n",
    "    \n",
    "    if len(hexapod) < 2:\n",
    "         print(f\"Could not get hexapod position for pair {i+1}: {intra_images[i]} x {extra_images[i]}\")\n",
    "         continue\n",
    "\n",
    "    rot_pos = np.mean(rotator['nasmyth2CalculatedAngle99'])\n",
    "    el = np.mean(azel['elevationCalculatedAngle99'])\n",
    "    az = np.mean(azel['azimuthCalculatedAngle99'])\n",
    "    # Need to get most recently commanded hexapod correction position\n",
    "    # should always be the last two values of an the array (except for \n",
    "    # z which will move for intra/extra)\n",
    "#     x = (hexapod['x'][len(hexapod)-2]+hexapod['x'][len(hexapod)-1])/2.\n",
    "#     y = (hexapod['y'][len(hexapod)-2]+hexapod['y'][len(hexapod)-1])/2.\n",
    "#     z = (hexapod['z'][len(hexapod)-2]+hexapod['z'][len(hexapod)-1])/2.\n",
    "#     u = (hexapod['u'][len(hexapod)-2]+hexapod['u'][len(hexapod)-1])/2.\n",
    "#     v = (hexapod['v'][len(hexapod)-2]+hexapod['v'][len(hexapod)-1])/2.\n",
    "#     w = (hexapod['w'][len(hexapod)-2]+hexapod['w'][len(hexapod)-1])/2.\n",
    "\n",
    "    x = (offset['hexapod_x'][-2]+offset['hexapod_x'][-2])/2.\n",
    "    y = (offset['hexapod_y'][-2]+offset['hexapod_y'][-2])/2.\n",
    "    z = (offset['hexapod_z'][-2]+offset['hexapod_z'][-2])/2.\n",
    "    u = (offset['hexapod_u'][-2]+offset['hexapod_u'][-2])/2.\n",
    "    v = (offset['hexapod_v'][-2]+offset['hexapod_v'][-2])/2.\n",
    "    w = (offset['hexapod_w'][-2]+offset['hexapod_w'][-2])/2.\n",
    "\n",
    "    m1 = np.mean(m1_pressure['pressure'])\n",
    "    dz = round((offset['hexapod_z'][-1] - offset['hexapod_z'][-2])/2.,3)\n",
    "    match_data[i] = (f\"{intra_images[i]}.fits\", f\"{extra_images[i]}.fits\", az, el, rot_pos, x, y, z, u, u, w, m1, dz)\n",
    "\n",
    "    print(t1,t2,az, el, rot_pos, x, y, z, u, u, w,dz)\n",
    "# print(\"done\")"
   ]
  },
  {
   "cell_type": "code",
   "execution_count": 10,
   "metadata": {},
   "outputs": [],
   "source": [
    "df = pd.DataFrame(match_data)"
   ]
  },
  {
   "cell_type": "code",
   "execution_count": 11,
   "metadata": {},
   "outputs": [],
   "source": [
    "# for i in range(len(df)):\n",
    "#     print(f\"{df['intra'][i]}: {df['el'][i]+df['rot_pos'][i]}: dz={df['dz'][i]}\")\n",
    "# # df['intra'],df['el']+df['rot_pos']"
   ]
  },
  {
   "cell_type": "code",
   "execution_count": 12,
   "metadata": {},
   "outputs": [],
   "source": [
    "df.to_csv(\"20200123_match.csv\")"
   ]
  },
  {
   "cell_type": "code",
   "execution_count": null,
   "metadata": {},
   "outputs": [],
   "source": []
  },
  {
   "cell_type": "markdown",
   "metadata": {},
   "source": [
    "# Now reduce the data for each pair to get the zernikes from fitting"
   ]
  },
  {
   "cell_type": "code",
   "execution_count": 13,
   "metadata": {},
   "outputs": [
    {
     "name": "stderr",
     "output_type": "stream",
     "text": [
      "/opt/lsst/software/stack/python/miniconda3-4.7.10/envs/lsst-scipipe-4d7b902/lib/python3.7/site-packages/ipykernel_launcher.py:1: FutureWarning: from_csv is deprecated. Please use read_csv(...) instead. Note that some of the default arguments are different, so please refer to the documentation for from_csv when changing your function calls\n",
      "  \"\"\"Entry point for launching an IPython kernel.\n"
     ]
    }
   ],
   "source": [
    "df2 = pd.DataFrame.from_csv(\"20200123_match.csv\")\n",
    "# but need to add all the zernike terms from teh fitting\n",
    "df2['zern_defocus_nm'] = np.zeros(len(df2))\n",
    "df2['zern_xastig_nm'] = np.zeros(len(df2))\n",
    "df2['zern_yastig_nm'] = np.zeros(len(df2))\n",
    "df2['zern_xcoma_nm'] = np.zeros(len(df2))\n",
    "df2['zern_ycoma_nm'] = np.zeros(len(df2))\n",
    "df2['zern_xtrefoil_nm'] = np.zeros(len(df2))\n",
    "df2['zern_ytrefoil_nm'] = np.zeros(len(df2))\n",
    "df2['zern_sphereical_nm'] = np.zeros(len(df2))\n"
   ]
  },
  {
   "cell_type": "code",
   "execution_count": 14,
   "metadata": {},
   "outputs": [],
   "source": [
    "# match_data = np.zeros(npairs, dtype=[('intra', '<U35'), \n",
    "#                                      ('extra', '<U35'), \n",
    "#                                      ('az', float), \n",
    "#                                            ('el', float), \n",
    "#                                            ('rot_pos', float),\n",
    "#                                            ('x', float), \n",
    "#                                            ('y', float), \n",
    "#                                            ('z', float), \n",
    "#                                            ('u', float), \n",
    "#                                            ('v', float), \n",
    "#                                            ('w', float), \n",
    "#                                      ('m1_pressure', float),\n",
    "#                                      ('dz', float),\n",
    "#                                     ('zern_defocus_nm', float),\n",
    "#                                     ('zern_xastig_nm', float),\n",
    "#                                     ('zern_yastig_nm', float),\n",
    "#                                     ('zern_xcoma_nm', float),\n",
    "#                                     ('zern_ycoma_nm', float),\n",
    "#                                     ('zern_xtrefoil_nm', float),\n",
    "#                                     ('zern_ytrefoil_nm', float),\n",
    "#                                     ('zern_sphereical_nm', float),])"
   ]
  },
  {
   "cell_type": "code",
   "execution_count": 15,
   "metadata": {},
   "outputs": [],
   "source": [
    "# Requires new pandas version to use\n",
    "# df2 = pd.DataFrame.read_csv(\"20200123_match.csv\")"
   ]
  },
  {
   "cell_type": "code",
   "execution_count": 16,
   "metadata": {},
   "outputs": [],
   "source": [
    "import sys\n",
    "import asyncio\n",
    "import logging\n",
    "import numpy as np\n",
    "import matplotlib.pyplot as plt\n",
    "from lsst.ts.externalscripts.auxtel.latiss_cwfs_align import LatissCWFSAlign\n",
    "import time"
   ]
  },
  {
   "cell_type": "code",
   "execution_count": 17,
   "metadata": {},
   "outputs": [],
   "source": [
    "script = LatissCWFSAlign(index=1, remotes=False)"
   ]
  },
  {
   "cell_type": "code",
   "execution_count": null,
   "metadata": {},
   "outputs": [],
   "source": []
  },
  {
   "cell_type": "code",
   "execution_count": 18,
   "metadata": {},
   "outputs": [],
   "source": [
    "def get_visitID_from_filename(filename):\n",
    "    # Expects AT_O_20200218_000167.fits\n",
    "    # parse out visitID from filename - this is highly annoying\n",
    "    tmp=filename.split('_')\n",
    "    prefix=tmp[2] # dayobs without the dashes\n",
    "\n",
    "    # Don't remember why I used int here... whitespace? \n",
    "    # surely fixable but bigger fish.\n",
    "    suffix='{:05d}'.format(int(tmp[3].split('.')[0])) # SEQNUM, but need to trim extra 0 in obsid\n",
    "    visitID = int((prefix+suffix))\n",
    "    #print(visitID)\n",
    "    return visitID"
   ]
  },
  {
   "cell_type": "code",
   "execution_count": 19,
   "metadata": {},
   "outputs": [
    {
     "name": "stdout",
     "output_type": "stream",
     "text": [
      "Read historical data in 0.01 sec\n"
     ]
    }
   ],
   "source": [
    "# for logging\n",
    "stream_handler = logging.StreamHandler(sys.stdout)\n",
    "# if you want logging\n",
    "logger = logging.getLogger()\n",
    "logger.addHandler(stream_handler)\n",
    "logger.level = logging.DEBUG"
   ]
  },
  {
   "cell_type": "code",
   "execution_count": 40,
   "metadata": {},
   "outputs": [
    {
     "name": "stdout",
     "output_type": "stream",
     "text": [
      "Running cwfs in 2020021800187/2020021800188.\n"
     ]
    },
    {
     "name": "stderr",
     "output_type": "stream",
     "text": [
      "/home/saluser/repos/ts_externalscripts/python/lsst/ts/externalscripts/auxtel/latiss_cwfs_align.py:310: FutureWarning: Config field doAddDistortionModel is deprecated: Camera geometry is incorporated when reading the raw files. This option no longer is used, and will be removed after v19.\n",
      "  isrConfig.doAddDistortionModel = False\n"
     ]
    },
    {
     "name": "stdout",
     "output_type": "stream",
     "text": [
      "Using translation class LSST_LATISS\n",
      "Checking for header correction file named LATISS-AT_O_20200218_000187.yaml\n",
      "AT_O_20200218_000187: Forcing detector serial to ITL-3800C-068\n",
      "AT_O_20200218_000187: Forcing SHUTTIME header to be None\n",
      "Using translation class LSST_LATISS\n",
      "Checking for header correction file named LATISS-AT_O_20200218_000187.yaml\n",
      "AT_O_20200218_000187: Forcing detector serial to ITL-3800C-068\n",
      "Using translation class LSST_LATISS\n",
      "AT_O_20200218_000187: Dark time less than exposure time. Setting dark time to the exposure time.\n"
     ]
    },
    {
     "name": "stderr",
     "output_type": "stream",
     "text": [
      "/home/saluser/repos/ts_externalscripts/python/lsst/ts/externalscripts/auxtel/latiss_cwfs_align.py:310: FutureWarning: Config field doAddDistortionModel is deprecated: Camera geometry is incorporated when reading the raw files. This option no longer is used, and will be removed after v19.\n",
      "  isrConfig.doAddDistortionModel = False\n"
     ]
    },
    {
     "name": "stdout",
     "output_type": "stream",
     "text": [
      "Using translation class LSST_LATISS\n",
      "Checking for header correction file named LATISS-AT_O_20200218_000188.yaml\n",
      "AT_O_20200218_000188: Forcing detector serial to ITL-3800C-068\n",
      "AT_O_20200218_000188: Forcing SHUTTIME header to be None\n",
      "Using translation class LSST_LATISS\n",
      "Checking for header correction file named LATISS-AT_O_20200218_000188.yaml\n",
      "AT_O_20200218_000188: Forcing detector serial to ITL-3800C-068\n",
      "Using translation class LSST_LATISS\n",
      "AT_O_20200218_000188: Dark time less than exposure time. Setting dark time to the exposure time.\n",
      "Running source detection algorithm\n",
      "intra_square shape is (102, 102)\n",
      "extra_square shape is (102, 102)\n",
      "Running CWFS code USING BINNED IMAGES.\n",
      "==============================\n",
      "Measured zernike coeficients: [32.722461504718545, -275.8375116225095, 189.65399595487116]\n",
      "De-rotated zernike coeficients: [-275.83751162  -32.7224615   189.65399595]\n",
      "Hexapod offset: [ 2.10562986 -0.24978978 -0.04515571]\n",
      "Telescope offsets: [126.33779158 -14.98738695   0.        ]\n",
      "==============================\n",
      "\n",
      "WFE fitting for visitIDs 2020021800187 and 2020021800188 took 23.921 seconds\n"
     ]
    },
    {
     "name": "stderr",
     "output_type": "stream",
     "text": [
      "Exception ignored in: <function SqlRegistry.__del__ at 0x7fa14a035f28>\n",
      "Traceback (most recent call last):\n",
      "  File \"/opt/lsst/software/stack/stack/miniconda3-4.7.10-4d7b902/Linux64/daf_persistence/19.0.0-1-g6fe20d0+6/python/lsst/daf/persistence/registries.py\", line 319, in __del__\n",
      "    self.conn.close()\n",
      "sqlite3.ProgrammingError: SQLite objects created in a thread can only be used in that same thread. The object was created in thread id 140323426662144 and this is thread id 140331575220032.\n",
      "Exception ignored in: <function SqlRegistry.__del__ at 0x7fa14a035f28>\n",
      "Traceback (most recent call last):\n",
      "  File \"/opt/lsst/software/stack/stack/miniconda3-4.7.10-4d7b902/Linux64/daf_persistence/19.0.0-1-g6fe20d0+6/python/lsst/daf/persistence/registries.py\", line 319, in __del__\n",
      "    self.conn.close()\n",
      "sqlite3.ProgrammingError: SQLite objects created in a thread can only be used in that same thread. The object was created in thread id 140323426662144 and this is thread id 140331575220032.\n",
      "Exception ignored in: <function SqlRegistry.__del__ at 0x7fa14a035f28>\n",
      "Traceback (most recent call last):\n",
      "  File \"/opt/lsst/software/stack/stack/miniconda3-4.7.10-4d7b902/Linux64/daf_persistence/19.0.0-1-g6fe20d0+6/python/lsst/daf/persistence/registries.py\", line 319, in __del__\n",
      "    self.conn.close()\n",
      "sqlite3.ProgrammingError: SQLite objects created in a thread can only be used in that same thread. The object was created in thread id 140323426662144 and this is thread id 140331575220032.\n",
      "Exception ignored in: <function SqlRegistry.__del__ at 0x7fa14a035f28>\n",
      "Traceback (most recent call last):\n",
      "  File \"/opt/lsst/software/stack/stack/miniconda3-4.7.10-4d7b902/Linux64/daf_persistence/19.0.0-1-g6fe20d0+6/python/lsst/daf/persistence/registries.py\", line 319, in __del__\n",
      "    self.conn.close()\n",
      "sqlite3.ProgrammingError: SQLite objects created in a thread can only be used in that same thread. The object was created in thread id 140323426662144 and this is thread id 140331575220032.\n",
      "/opt/lsst/software/stack/python/miniconda3-4.7.10/envs/lsst-scipipe-4d7b902/lib/python3.7/site-packages/ipykernel_launcher.py:43: SettingWithCopyWarning: \n",
      "A value is trying to be set on a copy of a slice from a DataFrame\n",
      "\n",
      "See the caveats in the documentation: http://pandas.pydata.org/pandas-docs/stable/indexing.html#indexing-view-versus-copy\n",
      "/opt/lsst/software/stack/python/miniconda3-4.7.10/envs/lsst-scipipe-4d7b902/lib/python3.7/site-packages/ipykernel_launcher.py:44: SettingWithCopyWarning: \n",
      "A value is trying to be set on a copy of a slice from a DataFrame\n",
      "\n",
      "See the caveats in the documentation: http://pandas.pydata.org/pandas-docs/stable/indexing.html#indexing-view-versus-copy\n",
      "/opt/lsst/software/stack/python/miniconda3-4.7.10/envs/lsst-scipipe-4d7b902/lib/python3.7/site-packages/ipykernel_launcher.py:45: SettingWithCopyWarning: \n",
      "A value is trying to be set on a copy of a slice from a DataFrame\n",
      "\n",
      "See the caveats in the documentation: http://pandas.pydata.org/pandas-docs/stable/indexing.html#indexing-view-versus-copy\n",
      "/opt/lsst/software/stack/python/miniconda3-4.7.10/envs/lsst-scipipe-4d7b902/lib/python3.7/site-packages/ipykernel_launcher.py:46: SettingWithCopyWarning: \n",
      "A value is trying to be set on a copy of a slice from a DataFrame\n",
      "\n",
      "See the caveats in the documentation: http://pandas.pydata.org/pandas-docs/stable/indexing.html#indexing-view-versus-copy\n",
      "/opt/lsst/software/stack/python/miniconda3-4.7.10/envs/lsst-scipipe-4d7b902/lib/python3.7/site-packages/ipykernel_launcher.py:47: SettingWithCopyWarning: \n",
      "A value is trying to be set on a copy of a slice from a DataFrame\n",
      "\n",
      "See the caveats in the documentation: http://pandas.pydata.org/pandas-docs/stable/indexing.html#indexing-view-versus-copy\n",
      "/opt/lsst/software/stack/python/miniconda3-4.7.10/envs/lsst-scipipe-4d7b902/lib/python3.7/site-packages/ipykernel_launcher.py:48: SettingWithCopyWarning: \n",
      "A value is trying to be set on a copy of a slice from a DataFrame\n",
      "\n",
      "See the caveats in the documentation: http://pandas.pydata.org/pandas-docs/stable/indexing.html#indexing-view-versus-copy\n",
      "/opt/lsst/software/stack/python/miniconda3-4.7.10/envs/lsst-scipipe-4d7b902/lib/python3.7/site-packages/ipykernel_launcher.py:49: SettingWithCopyWarning: \n",
      "A value is trying to be set on a copy of a slice from a DataFrame\n",
      "\n",
      "See the caveats in the documentation: http://pandas.pydata.org/pandas-docs/stable/indexing.html#indexing-view-versus-copy\n",
      "/opt/lsst/software/stack/python/miniconda3-4.7.10/envs/lsst-scipipe-4d7b902/lib/python3.7/site-packages/ipykernel_launcher.py:50: SettingWithCopyWarning: \n",
      "A value is trying to be set on a copy of a slice from a DataFrame\n",
      "\n",
      "See the caveats in the documentation: http://pandas.pydata.org/pandas-docs/stable/indexing.html#indexing-view-versus-copy\n"
     ]
    }
   ],
   "source": [
    "#for n in range(len(df2)):\n",
    "for n in [len(df2)-2]:\n",
    "    script.angle = 0.\n",
    "    script.intra_visit_id = get_visitID_from_filename(df2['intra'][n])\n",
    "    script.extra_visit_id = get_visitID_from_filename(df2['extra'][n])\n",
    "\n",
    "    start_time=time.time()\n",
    "    await script.run_cwfs()\n",
    "    end_time=time.time()\n",
    "    print('WFE fitting for visitIDs {0} and {1} took {2:0.3f} seconds'.format(script.intra_visit_id, script.extra_visit_id,end_time-start_time)) # 56.7s\n",
    "\n",
    "    # Display fitting results?\n",
    "    if (True):\n",
    "        # plot zernikes\n",
    "        x = np.arange(9)+4\n",
    "        plt.plot(x, script.algo.zer4UpNm[:9], 'o-', label=f'{script.dz}')\n",
    "        xlim = plt.xlim()\n",
    "        plt.plot(np.arange(15), np.zeros(15)+50, 'b--')\n",
    "        plt.plot(np.arange(15), np.zeros(15)-50, 'b--')\n",
    "        plt.xlim(xlim)\n",
    "        plt.ylabel(\"Zernike coeff (nm)\")\n",
    "        plt.xlabel(\"Zernike index\")\n",
    "        plt.grid()\n",
    "        plt.legend()\n",
    "        \n",
    "    if (True):\n",
    "        # plot image and mask\n",
    "        fig1 = plt.figure(2, figsize=(12,8))\n",
    "        ax11 = fig1.add_subplot(121)\n",
    "        ax11.set_title(\"defocus 0.8 - intra\")\n",
    "        ax11.imshow(script.I1[0].image0)\n",
    "        ax11.contour(script.algo.pMask) \n",
    "        ax12 = fig1.add_subplot(122)\n",
    "        ax12.set_title(\"defocus 0.8 - extra\")\n",
    "        ax12.imshow(script.I2[0].image0)\n",
    "        ax12.contour(script.algo.pMask) \n",
    "        \n",
    "    # Put results into data structure\n",
    "    # This will throw errors but don't know how to do this properly!\n",
    "    df2['zern_defocus_nm'][n] = script.algo.zer4UpNm[0]\n",
    "    df2['zern_xastig_nm'][n] = script.algo.zer4UpNm[1]\n",
    "    df2['zern_yastig_nm'][n] = script.algo.zer4UpNm[2]\n",
    "    df2['zern_xcoma_nm'][n] = script.algo.zer4UpNm[3]\n",
    "    df2['zern_ycoma_nm'][n]= script.algo.zer4UpNm[4]\n",
    "    df2['zern_xtrefoil_nm'][n] = script.algo.zer4UpNm[5]\n",
    "    df2['zern_ytrefoil_nm'][n] = script.algo.zer4UpNm[6]\n",
    "    df2['zern_sphereical_nm'][n] = script.algo.zer4UpNm[7]\n"
   ]
  },
  {
   "cell_type": "code",
   "execution_count": 41,
   "metadata": {},
   "outputs": [
    {
     "name": "stdout",
     "output_type": "stream",
     "text": [
      "update_title_pos\n",
      "update_title_pos\n",
      "update_title_pos\n",
      "update_title_pos\n"
     ]
    },
    {
     "data": {
      "image/png": "[encoded data removed]",
      "text/plain": [
       "<Figure size 432x288 with 1 Axes>"
      ]
     },
     "metadata": {
      "needs_background": "light"
     },
     "output_type": "display_data"
    },
    {
     "name": "stdout",
     "output_type": "stream",
     "text": [
      "update_title_pos\n",
      "update_title_pos\n",
      "update_title_pos\n",
      "update_title_pos\n",
      "update_title_pos\n",
      "update_title_pos\n",
      "update_title_pos\n",
      "update_title_pos\n"
     ]
    },
    {
     "data": {
      "image/png": "[encoded data removed]",
      "text/plain": [
       "<Figure size 864x576 with 2 Axes>"
      ]
     },
     "metadata": {
      "needs_background": "light"
     },
     "output_type": "display_data"
    }
   ],
   "source": [
    "#click through this as the plots will appear here for reasons I don't understand\n"
   ]
  },
  {
   "cell_type": "code",
   "execution_count": null,
   "metadata": {},
   "outputs": [],
   "source": [
    "#write to CSV file\n",
    "df2.to_csv(\"20200123_match_zerns.csv\")"
   ]
  },
  {
   "cell_type": "markdown",
   "metadata": {},
   "source": [
    "# Fit the data"
   ]
  },
  {
   "cell_type": "code",
   "execution_count": 22,
   "metadata": {},
   "outputs": [],
   "source": [
    "from scipy.optimize import curve_fit\n"
   ]
  },
  {
   "cell_type": "code",
   "execution_count": 23,
   "metadata": {},
   "outputs": [],
   "source": [
    "def parabola(x,b, x0, a):\n",
    "    return b + a*(x-x0)**2 \n",
    "def line(x,b, m):\n",
    "    return b + m*x \n",
    "def invparabola(y,b,x0,a):\n",
    "    return x0+np.sqrt((y-b)/a)\n",
    "def invline(y,b,m):\n",
    "    return (y-b)/m"
   ]
  },
  {
   "cell_type": "code",
   "execution_count": null,
   "metadata": {},
   "outputs": [],
   "source": []
  },
  {
   "cell_type": "code",
   "execution_count": 24,
   "metadata": {},
   "outputs": [
    {
     "name": "stderr",
     "output_type": "stream",
     "text": [
      "/opt/lsst/software/stack/python/miniconda3-4.7.10/envs/lsst-scipipe-4d7b902/lib/python3.7/site-packages/ipykernel_launcher.py:1: FutureWarning: from_csv is deprecated. Please use read_csv(...) instead. Note that some of the default arguments are different, so please refer to the documentation for from_csv when changing your function calls\n",
      "  \"\"\"Entry point for launching an IPython kernel.\n"
     ]
    }
   ],
   "source": [
    "df3 = pd.DataFrame.from_csv(\"20200123_match_zerns.csv\")"
   ]
  },
  {
   "cell_type": "code",
   "execution_count": 25,
   "metadata": {},
   "outputs": [
    {
     "data": {
      "text/html": [
       "<div>\n",
       "<style scoped>\n",
       "    .dataframe tbody tr th:only-of-type {\n",
       "        vertical-align: middle;\n",
       "    }\n",
       "\n",
       "    .dataframe tbody tr th {\n",
       "        vertical-align: top;\n",
       "    }\n",
       "\n",
       "    .dataframe thead th {\n",
       "        text-align: right;\n",
       "    }\n",
       "</style>\n",
       "<table border=\"1\" class=\"dataframe\">\n",
       "  <thead>\n",
       "    <tr style=\"text-align: right;\">\n",
       "      <th></th>\n",
       "      <th>intra</th>\n",
       "      <th>extra</th>\n",
       "      <th>az</th>\n",
       "      <th>el</th>\n",
       "      <th>rot_pos</th>\n",
       "      <th>x</th>\n",
       "      <th>y</th>\n",
       "      <th>z</th>\n",
       "      <th>u</th>\n",
       "      <th>v</th>\n",
       "      <th>...</th>\n",
       "      <th>m1_pressure</th>\n",
       "      <th>dz</th>\n",
       "      <th>zern_defocus_nm</th>\n",
       "      <th>zern_xastig_nm</th>\n",
       "      <th>zern_yastig_nm</th>\n",
       "      <th>zern_xcoma_nm</th>\n",
       "      <th>zern_ycoma_nm</th>\n",
       "      <th>zern_xtrefoil_nm</th>\n",
       "      <th>zern_ytrefoil_nm</th>\n",
       "      <th>zern_sphereical_nm</th>\n",
       "    </tr>\n",
       "  </thead>\n",
       "  <tbody>\n",
       "    <tr>\n",
       "      <th>0</th>\n",
       "      <td>AT_O_20200218_000167.fits</td>\n",
       "      <td>AT_O_20200218_000168.fits</td>\n",
       "      <td>170.579986</td>\n",
       "      <td>64.508060</td>\n",
       "      <td>59.114450</td>\n",
       "      <td>-5.444469</td>\n",
       "      <td>0.913043</td>\n",
       "      <td>-0.502841</td>\n",
       "      <td>0.35</td>\n",
       "      <td>0.35</td>\n",
       "      <td>...</td>\n",
       "      <td>113614.719766</td>\n",
       "      <td>0.8</td>\n",
       "      <td>25.480732</td>\n",
       "      <td>-0.572628</td>\n",
       "      <td>-4.441629</td>\n",
       "      <td>45.480149</td>\n",
       "      <td>-80.684105</td>\n",
       "      <td>36.933313</td>\n",
       "      <td>-34.297332</td>\n",
       "      <td>16.903785</td>\n",
       "    </tr>\n",
       "    <tr>\n",
       "      <th>1</th>\n",
       "      <td>AT_O_20200218_000169.fits</td>\n",
       "      <td>AT_O_20200218_000170.fits</td>\n",
       "      <td>172.478735</td>\n",
       "      <td>64.694430</td>\n",
       "      <td>61.664930</td>\n",
       "      <td>-5.446219</td>\n",
       "      <td>1.211676</td>\n",
       "      <td>-0.502841</td>\n",
       "      <td>0.35</td>\n",
       "      <td>0.35</td>\n",
       "      <td>...</td>\n",
       "      <td>113764.732608</td>\n",
       "      <td>0.8</td>\n",
       "      <td>1.456428</td>\n",
       "      <td>2.080075</td>\n",
       "      <td>-14.959823</td>\n",
       "      <td>50.800466</td>\n",
       "      <td>-28.855370</td>\n",
       "      <td>64.461689</td>\n",
       "      <td>-31.345913</td>\n",
       "      <td>24.458911</td>\n",
       "    </tr>\n",
       "    <tr>\n",
       "      <th>2</th>\n",
       "      <td>AT_O_20200218_000171.fits</td>\n",
       "      <td>AT_O_20200218_000172.fits</td>\n",
       "      <td>173.043237</td>\n",
       "      <td>64.743207</td>\n",
       "      <td>63.087051</td>\n",
       "      <td>-5.446632</td>\n",
       "      <td>1.511353</td>\n",
       "      <td>-0.502841</td>\n",
       "      <td>0.35</td>\n",
       "      <td>0.35</td>\n",
       "      <td>...</td>\n",
       "      <td>113846.624105</td>\n",
       "      <td>0.8</td>\n",
       "      <td>-12.704703</td>\n",
       "      <td>-8.247517</td>\n",
       "      <td>-43.622313</td>\n",
       "      <td>53.686632</td>\n",
       "      <td>28.839761</td>\n",
       "      <td>52.692543</td>\n",
       "      <td>-33.959071</td>\n",
       "      <td>21.748832</td>\n",
       "    </tr>\n",
       "    <tr>\n",
       "      <th>3</th>\n",
       "      <td>AT_O_20200218_000173.fits</td>\n",
       "      <td>AT_O_20200218_000174.fits</td>\n",
       "      <td>173.634219</td>\n",
       "      <td>64.787666</td>\n",
       "      <td>62.137377</td>\n",
       "      <td>-5.447021</td>\n",
       "      <td>1.811049</td>\n",
       "      <td>-0.502841</td>\n",
       "      <td>0.35</td>\n",
       "      <td>0.35</td>\n",
       "      <td>...</td>\n",
       "      <td>113901.389511</td>\n",
       "      <td>0.8</td>\n",
       "      <td>-15.506401</td>\n",
       "      <td>18.259776</td>\n",
       "      <td>-11.877433</td>\n",
       "      <td>75.734402</td>\n",
       "      <td>87.877123</td>\n",
       "      <td>34.523090</td>\n",
       "      <td>-29.887300</td>\n",
       "      <td>19.856089</td>\n",
       "    </tr>\n",
       "    <tr>\n",
       "      <th>4</th>\n",
       "      <td>AT_O_20200218_000175.fits</td>\n",
       "      <td>AT_O_20200218_000176.fits</td>\n",
       "      <td>174.200182</td>\n",
       "      <td>64.826331</td>\n",
       "      <td>61.233113</td>\n",
       "      <td>-5.447364</td>\n",
       "      <td>2.110781</td>\n",
       "      <td>-0.502841</td>\n",
       "      <td>0.35</td>\n",
       "      <td>0.35</td>\n",
       "      <td>...</td>\n",
       "      <td>113946.828349</td>\n",
       "      <td>0.8</td>\n",
       "      <td>16.471192</td>\n",
       "      <td>36.971014</td>\n",
       "      <td>26.940922</td>\n",
       "      <td>92.163654</td>\n",
       "      <td>147.999736</td>\n",
       "      <td>27.072709</td>\n",
       "      <td>-44.651786</td>\n",
       "      <td>9.388226</td>\n",
       "    </tr>\n",
       "    <tr>\n",
       "      <th>5</th>\n",
       "      <td>AT_O_20200218_000177.fits</td>\n",
       "      <td>AT_O_20200218_000178.fits</td>\n",
       "      <td>175.039142</td>\n",
       "      <td>64.876694</td>\n",
       "      <td>59.906060</td>\n",
       "      <td>-5.447800</td>\n",
       "      <td>0.610441</td>\n",
       "      <td>-0.502841</td>\n",
       "      <td>0.35</td>\n",
       "      <td>0.35</td>\n",
       "      <td>...</td>\n",
       "      <td>114030.058860</td>\n",
       "      <td>0.8</td>\n",
       "      <td>60.394056</td>\n",
       "      <td>20.957517</td>\n",
       "      <td>24.460328</td>\n",
       "      <td>67.050824</td>\n",
       "      <td>-87.042289</td>\n",
       "      <td>29.749908</td>\n",
       "      <td>-32.389329</td>\n",
       "      <td>5.986120</td>\n",
       "    </tr>\n",
       "    <tr>\n",
       "      <th>6</th>\n",
       "      <td>AT_O_20200218_000181.fits</td>\n",
       "      <td>AT_O_20200218_000182.fits</td>\n",
       "      <td>176.210051</td>\n",
       "      <td>64.933313</td>\n",
       "      <td>58.060581</td>\n",
       "      <td>-5.448286</td>\n",
       "      <td>0.310061</td>\n",
       "      <td>-0.502841</td>\n",
       "      <td>0.35</td>\n",
       "      <td>0.35</td>\n",
       "      <td>...</td>\n",
       "      <td>114067.651771</td>\n",
       "      <td>0.8</td>\n",
       "      <td>109.433481</td>\n",
       "      <td>47.657685</td>\n",
       "      <td>72.722392</td>\n",
       "      <td>48.374190</td>\n",
       "      <td>-142.195907</td>\n",
       "      <td>22.628023</td>\n",
       "      <td>-17.426972</td>\n",
       "      <td>1.162984</td>\n",
       "    </tr>\n",
       "    <tr>\n",
       "      <th>7</th>\n",
       "      <td>AT_O_20200218_000184.fits</td>\n",
       "      <td>AT_O_20200218_000185.fits</td>\n",
       "      <td>177.135996</td>\n",
       "      <td>64.966561</td>\n",
       "      <td>56.618520</td>\n",
       "      <td>-5.448561</td>\n",
       "      <td>0.009846</td>\n",
       "      <td>-0.502841</td>\n",
       "      <td>0.35</td>\n",
       "      <td>0.35</td>\n",
       "      <td>...</td>\n",
       "      <td>114060.464551</td>\n",
       "      <td>0.8</td>\n",
       "      <td>169.694172</td>\n",
       "      <td>35.544933</td>\n",
       "      <td>157.570253</td>\n",
       "      <td>40.568020</td>\n",
       "      <td>-206.031954</td>\n",
       "      <td>31.373130</td>\n",
       "      <td>14.054713</td>\n",
       "      <td>-0.344853</td>\n",
       "    </tr>\n",
       "    <tr>\n",
       "      <th>8</th>\n",
       "      <td>AT_O_20200218_000187.fits</td>\n",
       "      <td>AT_O_20200218_000188.fits</td>\n",
       "      <td>177.859996</td>\n",
       "      <td>64.984560</td>\n",
       "      <td>55.500086</td>\n",
       "      <td>-5.448698</td>\n",
       "      <td>-0.290261</td>\n",
       "      <td>-0.502841</td>\n",
       "      <td>0.35</td>\n",
       "      <td>0.35</td>\n",
       "      <td>...</td>\n",
       "      <td>114086.083107</td>\n",
       "      <td>0.8</td>\n",
       "      <td>189.653996</td>\n",
       "      <td>57.960253</td>\n",
       "      <td>224.620123</td>\n",
       "      <td>32.722462</td>\n",
       "      <td>-275.837512</td>\n",
       "      <td>25.692634</td>\n",
       "      <td>62.497164</td>\n",
       "      <td>1.110683</td>\n",
       "    </tr>\n",
       "    <tr>\n",
       "      <th>9</th>\n",
       "      <td>AT_O_20200218_000190.fits</td>\n",
       "      <td>AT_O_20200218_000191.fits</td>\n",
       "      <td>178.967945</td>\n",
       "      <td>65.003326</td>\n",
       "      <td>59.549409</td>\n",
       "      <td>-5.448863</td>\n",
       "      <td>0.909610</td>\n",
       "      <td>-0.502841</td>\n",
       "      <td>0.35</td>\n",
       "      <td>0.35</td>\n",
       "      <td>...</td>\n",
       "      <td>114076.081051</td>\n",
       "      <td>0.8</td>\n",
       "      <td>156.198942</td>\n",
       "      <td>14.478752</td>\n",
       "      <td>97.478154</td>\n",
       "      <td>66.134840</td>\n",
       "      <td>-33.426607</td>\n",
       "      <td>49.106915</td>\n",
       "      <td>-22.654942</td>\n",
       "      <td>-3.264387</td>\n",
       "    </tr>\n",
       "  </tbody>\n",
       "</table>\n",
       "<p>10 rows × 21 columns</p>\n",
       "</div>"
      ],
      "text/plain": [
       "                       intra                      extra          az  \\\n",
       "0  AT_O_20200218_000167.fits  AT_O_20200218_000168.fits  170.579986   \n",
       "1  AT_O_20200218_000169.fits  AT_O_20200218_000170.fits  172.478735   \n",
       "2  AT_O_20200218_000171.fits  AT_O_20200218_000172.fits  173.043237   \n",
       "3  AT_O_20200218_000173.fits  AT_O_20200218_000174.fits  173.634219   \n",
       "4  AT_O_20200218_000175.fits  AT_O_20200218_000176.fits  174.200182   \n",
       "5  AT_O_20200218_000177.fits  AT_O_20200218_000178.fits  175.039142   \n",
       "6  AT_O_20200218_000181.fits  AT_O_20200218_000182.fits  176.210051   \n",
       "7  AT_O_20200218_000184.fits  AT_O_20200218_000185.fits  177.135996   \n",
       "8  AT_O_20200218_000187.fits  AT_O_20200218_000188.fits  177.859996   \n",
       "9  AT_O_20200218_000190.fits  AT_O_20200218_000191.fits  178.967945   \n",
       "\n",
       "          el    rot_pos         x         y         z     u     v  ...  \\\n",
       "0  64.508060  59.114450 -5.444469  0.913043 -0.502841  0.35  0.35  ...   \n",
       "1  64.694430  61.664930 -5.446219  1.211676 -0.502841  0.35  0.35  ...   \n",
       "2  64.743207  63.087051 -5.446632  1.511353 -0.502841  0.35  0.35  ...   \n",
       "3  64.787666  62.137377 -5.447021  1.811049 -0.502841  0.35  0.35  ...   \n",
       "4  64.826331  61.233113 -5.447364  2.110781 -0.502841  0.35  0.35  ...   \n",
       "5  64.876694  59.906060 -5.447800  0.610441 -0.502841  0.35  0.35  ...   \n",
       "6  64.933313  58.060581 -5.448286  0.310061 -0.502841  0.35  0.35  ...   \n",
       "7  64.966561  56.618520 -5.448561  0.009846 -0.502841  0.35  0.35  ...   \n",
       "8  64.984560  55.500086 -5.448698 -0.290261 -0.502841  0.35  0.35  ...   \n",
       "9  65.003326  59.549409 -5.448863  0.909610 -0.502841  0.35  0.35  ...   \n",
       "\n",
       "     m1_pressure   dz  zern_defocus_nm  zern_xastig_nm  zern_yastig_nm  \\\n",
       "0  113614.719766  0.8        25.480732       -0.572628       -4.441629   \n",
       "1  113764.732608  0.8         1.456428        2.080075      -14.959823   \n",
       "2  113846.624105  0.8       -12.704703       -8.247517      -43.622313   \n",
       "3  113901.389511  0.8       -15.506401       18.259776      -11.877433   \n",
       "4  113946.828349  0.8        16.471192       36.971014       26.940922   \n",
       "5  114030.058860  0.8        60.394056       20.957517       24.460328   \n",
       "6  114067.651771  0.8       109.433481       47.657685       72.722392   \n",
       "7  114060.464551  0.8       169.694172       35.544933      157.570253   \n",
       "8  114086.083107  0.8       189.653996       57.960253      224.620123   \n",
       "9  114076.081051  0.8       156.198942       14.478752       97.478154   \n",
       "\n",
       "   zern_xcoma_nm  zern_ycoma_nm  zern_xtrefoil_nm  zern_ytrefoil_nm  \\\n",
       "0      45.480149     -80.684105         36.933313        -34.297332   \n",
       "1      50.800466     -28.855370         64.461689        -31.345913   \n",
       "2      53.686632      28.839761         52.692543        -33.959071   \n",
       "3      75.734402      87.877123         34.523090        -29.887300   \n",
       "4      92.163654     147.999736         27.072709        -44.651786   \n",
       "5      67.050824     -87.042289         29.749908        -32.389329   \n",
       "6      48.374190    -142.195907         22.628023        -17.426972   \n",
       "7      40.568020    -206.031954         31.373130         14.054713   \n",
       "8      32.722462    -275.837512         25.692634         62.497164   \n",
       "9      66.134840     -33.426607         49.106915        -22.654942   \n",
       "\n",
       "   zern_sphereical_nm  \n",
       "0           16.903785  \n",
       "1           24.458911  \n",
       "2           21.748832  \n",
       "3           19.856089  \n",
       "4            9.388226  \n",
       "5            5.986120  \n",
       "6            1.162984  \n",
       "7           -0.344853  \n",
       "8            1.110683  \n",
       "9           -3.264387  \n",
       "\n",
       "[10 rows x 21 columns]"
      ]
     },
     "execution_count": 25,
     "metadata": {},
     "output_type": "execute_result"
    }
   ],
   "source": [
    "df3"
   ]
  },
  {
   "cell_type": "markdown",
   "metadata": {},
   "source": [
    "### Plot Y-Coma as a function of Y-hexapod decentering"
   ]
  },
  {
   "cell_type": "code",
   "execution_count": 58,
   "metadata": {},
   "outputs": [
    {
     "name": "stdout",
     "output_type": "stream",
     "text": [
      "Wavefront X-Coma as a function of Hexapod displacement [-210.6553293   161.20896216]\n",
      "update_title_pos\n",
      "update_title_pos\n",
      "update_title_pos\n",
      "update_title_pos\n"
     ]
    },
    {
     "data": {
      "image/png": "[encoded data removed]",
      "text/plain": [
       "<Figure size 432x288 with 1 Axes>"
      ]
     },
     "metadata": {
      "needs_background": "light"
     },
     "output_type": "display_data"
    },
    {
     "name": "stdout",
     "output_type": "stream",
     "text": [
      "[-210.6553293   161.20896216]\n"
     ]
    }
   ],
   "source": [
    "inds = np.arange(0,10) # drop the last value\n",
    "inds = [0,1,2,3,5,6,7,8]\n",
    "\n",
    "xdata=df3['y'][inds]\n",
    "ydata=df3['zern_ycoma_nm'][inds]\n",
    "\n",
    "plt.plot(xdata,ydata,'o')\n",
    "x=np.arange(np.min(xdata), np.max(xdata), np.abs(np.max(xdata) - np.min(xdata))/100 )\n",
    "popt,pcov = curve_fit(line, xdata, ydata)\n",
    "print('Wavefront X-Coma as a function of Hexapod displacement',popt)\n",
    "\n",
    "plt.plot(x,line(x, *popt))\n",
    "# plt.xlabel('Hexapod displacement in the plane')\n",
    "plt.ylabel('Zernike Coefficient in nm')\n",
    "plt.title('Wavefront Y-Coma as a function of hexapod Y-displacement')\n",
    "plt.show()\n",
    "\n",
    "print(popt)"
   ]
  },
  {
   "cell_type": "code",
   "execution_count": 59,
   "metadata": {},
   "outputs": [
    {
     "data": {
      "text/plain": [
       "-146.66666666666666"
      ]
     },
     "execution_count": 59,
     "metadata": {},
     "output_type": "execute_result"
    }
   ],
   "source": [
    "(240+200)/ (-6 - -3)"
   ]
  },
  {
   "cell_type": "markdown",
   "metadata": {},
   "source": [
    "### Plot Defocus as a function of Y-hexapod decentering"
   ]
  },
  {
   "cell_type": "code",
   "execution_count": 60,
   "metadata": {},
   "outputs": [
    {
     "name": "stdout",
     "output_type": "stream",
     "text": [
      "Wavefront X-Coma as a function of Hexapod displacement [ 147.66117236 -107.33782809]\n",
      "update_title_pos\n",
      "update_title_pos\n",
      "update_title_pos\n",
      "update_title_pos\n"
     ]
    },
    {
     "data": {
      "image/png": "[encoded data removed]",
      "text/plain": [
       "<Figure size 432x288 with 1 Axes>"
      ]
     },
     "metadata": {
      "needs_background": "light"
     },
     "output_type": "display_data"
    },
    {
     "name": "stdout",
     "output_type": "stream",
     "text": [
      "[ 147.66117236 -107.33782809]\n"
     ]
    }
   ],
   "source": [
    "#Coma as a function of x,y offset (8-23, 31-35)\n",
    "inds = np.arange(0,11)\n",
    "inds = [0,1,2,3,5,6,7,8]\n",
    "\n",
    "xdata=df3['y'][inds]\n",
    "ydata=df3['zern_defocus_nm'][inds]\n",
    "\n",
    "plt.plot(xdata,ydata,'o')\n",
    "x=np.arange(np.min(xdata), np.max(xdata), np.abs(np.max(xdata) - np.min(xdata))/100 )\n",
    "popt,pcov = curve_fit(line, xdata, ydata)\n",
    "print('Wavefront X-Coma as a function of Hexapod displacement',popt)\n",
    "\n",
    "plt.plot(x,line(x, *popt))\n",
    "# plt.xlabel('Hexapod displacement in the plane')\n",
    "plt.ylabel('Zernike Coefficient in nm')\n",
    "plt.title('Wavefront Defocus as a function of y-hexapod displacement')\n",
    "plt.show()\n",
    "\n",
    "print(popt)"
   ]
  },
  {
   "cell_type": "code",
   "execution_count": null,
   "metadata": {},
   "outputs": [],
   "source": []
  },
  {
   "cell_type": "code",
   "execution_count": null,
   "metadata": {},
   "outputs": [],
   "source": []
  }
 ],
 "metadata": {
  "kernelspec": {
   "display_name": "Python 3",
   "language": "python",
   "name": "python3"
  },
  "language_info": {
   "codemirror_mode": {
    "name": "ipython",
    "version": 3
   },
   "file_extension": ".py",
   "mimetype": "text/x-python",
   "name": "python",
   "nbconvert_exporter": "python",
   "pygments_lexer": "ipython3",
   "version": "3.7.2"
  }
 },
 "nbformat": 4,
 "nbformat_minor": 4
}
