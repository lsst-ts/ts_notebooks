{
 "cells": [
  {
   "cell_type": "code",
   "execution_count": null,
   "metadata": {},
   "outputs": [],
   "source": [
    "import sys\n",
    "import asyncio\n",
    "import logging\n",
    "import numpy as np\n",
    "import matplotlib.pyplot as plt\n",
    "from lsst.ts.externalscripts.auxtel.latiss_cwfs_align import LatissCWFSAlign\n",
    "import time\n",
    "from lsst.ts import salobj"
   ]
  },
  {
   "cell_type": "code",
   "execution_count": null,
   "metadata": {},
   "outputs": [],
   "source": [
    "# Temporarily needed to run at summit\n",
    "import os\n",
    "os.environ[\"LSST_DDS_DOMAIN\"] = 'lsatmcs'\n",
    "os.environ[\"OSPL_URI\"] = \"file:///home/patrickingraham/ospl.xml\""
   ]
  },
  {
   "cell_type": "code",
   "execution_count": null,
   "metadata": {},
   "outputs": [],
   "source": [
    "script = LatissCWFSAlign(index=1, remotes=False)\n",
    "script.dataPath='/project/shared/auxTel/'"
   ]
  },
  {
   "cell_type": "code",
   "execution_count": null,
   "metadata": {},
   "outputs": [],
   "source": [
    "stream_handler = logging.StreamHandler(sys.stdout)\n",
    "# if you want logging\n",
    "logger = logging.getLogger()\n",
    "logger.addHandler(stream_handler)\n",
    "logger.level = logging.DEBUG"
   ]
  },
  {
   "cell_type": "code",
   "execution_count": null,
   "metadata": {},
   "outputs": [],
   "source": [
    "# script.filter='BG40'\n",
    "# script.grating = 'empty_1'\n",
    "# script.exposure_time = 30"
   ]
  },
  {
   "cell_type": "code",
   "execution_count": null,
   "metadata": {},
   "outputs": [],
   "source": [
    "# offset = {'x':0.5  , 'y': 0. , 'z':  0.0}\n",
    "# await script.attcs.ataos.cmd_offset.set_start(**offset)"
   ]
  },
  {
   "cell_type": "code",
   "execution_count": null,
   "metadata": {},
   "outputs": [],
   "source": [
    "# await script.latiss.take_engtest(exptime=2,n=1)"
   ]
  },
  {
   "cell_type": "code",
   "execution_count": null,
   "metadata": {},
   "outputs": [],
   "source": [
    "#apply hexapod focus offset\n",
    "#await script.hexapod_offset(-0.02458927)\n",
    "#await script.attcs.ataos.cmd_resetOffset.start()"
   ]
  },
  {
   "cell_type": "code",
   "execution_count": null,
   "metadata": {},
   "outputs": [],
   "source": [
    "script.binning = 1"
   ]
  },
  {
   "cell_type": "code",
   "execution_count": null,
   "metadata": {},
   "outputs": [],
   "source": [
    "script.intra_visit_id = 2020031200289\n",
    "script.extra_visit_id = 2020031200290\n",
    "script.angle = 61.7-37.9 # elev - nas2 \n",
    "\n",
    "#script.intra_visit_id = 2020031200274\n",
    "#script.extra_visit_id = 2020031200275\n",
    "#script.angle = 0 # elev - nas2 \n",
    "\n",
    "\n",
    "start_time=time.time()\n",
    "await script.run_cwfs()\n",
    "end_time=time.time()\n",
    "print('WFE fitting took {0:0.3f} seconds'.format(end_time-start_time)) # 56.7s"
   ]
  },
  {
   "cell_type": "code",
   "execution_count": null,
   "metadata": {},
   "outputs": [],
   "source": [
    "# await script.latiss.take_engtest(exptime=2,n=1)"
   ]
  },
  {
   "cell_type": "code",
   "execution_count": null,
   "metadata": {},
   "outputs": [],
   "source": [
    "# await script.attcs.ataos.cmd_applyAxisOffset.set_start(axis='y', offset=-0.2)\n",
    "# offset = {'x':-0.5 , 'y':0., 'z': 0.}\n",
    "# await script.attcs.ataos.cmd_offset.set_start(**offset)"
   ]
  },
  {
   "cell_type": "code",
   "execution_count": null,
   "metadata": {},
   "outputs": [],
   "source": [
    "# await script.attcs.slew_object('HD 68450', pa_ang=70)"
   ]
  },
  {
   "cell_type": "code",
   "execution_count": null,
   "metadata": {},
   "outputs": [],
   "source": [
    "# print results\n",
    "script.show_results()\n",
    "# plot zernikes\n",
    "x = np.arange(9)+4\n",
    "plt.plot(x, script.algo.zer4UpNm[:9], 'o-', label=f'{script.dz}')\n",
    "xlim = plt.xlim()\n",
    "plt.plot(np.arange(15), np.zeros(15)+50, 'b--')\n",
    "plt.plot(np.arange(15), np.zeros(15)-50, 'b--')\n",
    "plt.xlim(xlim)\n",
    "plt.ylabel(\"Zernike coeff (nm)\")\n",
    "plt.xlabel(\"Zernike index\")\n",
    "plt.grid()\n",
    "plt.legend()\n",
    "\n",
    "print(script.algo.zer4UpNm[:9])"
   ]
  },
  {
   "cell_type": "code",
   "execution_count": null,
   "metadata": {},
   "outputs": [],
   "source": [
    "# plot image and mask\n",
    "fig1 = plt.figure(1, figsize=(12,8))\n",
    "ax11 = fig1.add_subplot(121)\n",
    "ax11.set_title(\"defocus 0.8 - intra\")\n",
    "ax11.imshow(script.I1[0].image0)\n",
    "ax11.contour(script.algo.pMask) \n",
    "ax12 = fig1.add_subplot(122)\n",
    "ax12.set_title(\"defocus 0.8 - extra\")\n",
    "ax12.imshow(script.I2[0].image0)\n",
    "ax12.contour(script.algo.pMask) "
   ]
  },
  {
   "cell_type": "code",
   "execution_count": null,
   "metadata": {},
   "outputs": [],
   "source": []
  },
  {
   "cell_type": "markdown",
   "metadata": {},
   "source": [
    "## Take an in-focus image?"
   ]
  },
  {
   "cell_type": "code",
   "execution_count": null,
   "metadata": {},
   "outputs": [],
   "source": [
    "# if True:\n",
    "#     # Start a logger to publish observer notes to the EFD\n",
    "#     # find it using SELECT \"message\" FROM \"efd\".\"autogen\".\"lsst.sal.Script.logevent_logMessage\" WHERE time > :dashboardTime:\n",
    "#     comment_log_controller = salobj.Controller(\"Script\", index=1)\n",
    "#     #comment_log_controller.evt_logMessage.set_put(message=\"Starting In-focus post CWFS data current target: {}\".format(target_name))\n",
    "#     comment_log_controller.evt_logMessage.set_put(message=\"Test: {}\".format(time.time()))\n",
    "#     tmp = latiss.take_object(exptime=15, n=1)"
   ]
  },
  {
   "cell_type": "code",
   "execution_count": null,
   "metadata": {},
   "outputs": [],
   "source": [
    "# tmp = await script.attcs.atptg.evt_currentTarget.next(flush=True, timeout=15)\n",
    "# print(tmp)"
   ]
  },
  {
   "cell_type": "code",
   "execution_count": null,
   "metadata": {},
   "outputs": [],
   "source": [
    "# tmp = await script.attcs.atptg.evt_heartbeat.next(flush=True, timeout=15)"
   ]
  }
 ],
 "metadata": {
  "kernelspec": {
   "display_name": "LSST",
   "language": "python",
   "name": "lsst"
  },
  "language_info": {
   "codemirror_mode": {
    "name": "ipython",
    "version": 3
   },
   "file_extension": ".py",
   "mimetype": "text/x-python",
   "name": "python",
   "nbconvert_exporter": "python",
   "pygments_lexer": "ipython3",
   "version": "3.7.6"
  }
 },
 "nbformat": 4,
 "nbformat_minor": 4
}
