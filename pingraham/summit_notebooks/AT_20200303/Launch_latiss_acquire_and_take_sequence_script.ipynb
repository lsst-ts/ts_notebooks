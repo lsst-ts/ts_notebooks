{
 "cells": [
  {
   "cell_type": "markdown",
   "metadata": {},
   "source": [
    "# This notebook launches the script to acquire a target and take images, meant for the scriptQueue, but via a notebook.\n",
    "## This is required to debug scripts"
   ]
  },
  {
   "cell_type": "code",
   "execution_count": 1,
   "metadata": {},
   "outputs": [],
   "source": [
    "import sys\n",
    "import asyncio\n",
    "import time\n",
    "\n",
    "import numpy as np\n",
    "import logging \n",
    "import yaml\n",
    "\n",
    "from lsst.ts import salobj\n",
    "from lsst.ts.externalscripts.auxtel.latiss_acquire_and_take_sequence import LatissAcquireAndTakeSequence\n",
    "\n",
    "from lsst.ts.idl.enums.Script import ScriptState"
   ]
  },
  {
   "cell_type": "code",
   "execution_count": 2,
   "metadata": {},
   "outputs": [],
   "source": [
    "# Temporarily needed to run at summit\n",
    "import os\n",
    "os.environ[\"LSST_DDS_DOMAIN\"] = 'lsatmcs'\n",
    "os.environ[\"OSPL_URI\"] = \"file:///home/patrickingraham/ospl.xml\""
   ]
  },
  {
   "cell_type": "code",
   "execution_count": 3,
   "metadata": {},
   "outputs": [],
   "source": [
    "stream_handler = logging.StreamHandler(sys.stdout)\n",
    "# if you want logging\n",
    "logger = logging.getLogger()\n",
    "logger.addHandler(stream_handler)\n",
    "logger.level = logging.DEBUG"
   ]
  },
  {
   "cell_type": "code",
   "execution_count": 4,
   "metadata": {},
   "outputs": [],
   "source": [
    "script = LatissAcquireAndTakeSequence(index=0)  # this essentially calls the init method"
   ]
  },
  {
   "cell_type": "code",
   "execution_count": 5,
   "metadata": {},
   "outputs": [
    {
     "data": {
      "text/plain": [
       "True"
      ]
     },
     "execution_count": 5,
     "metadata": {},
     "output_type": "execute_result"
    }
   ],
   "source": [
    "script.attcs.atptg.cmd_raDecTarget.set(azWrapStrategy=1)"
   ]
  },
  {
   "cell_type": "markdown",
   "metadata": {},
   "source": [
    "# Emulate how the scriptQueue launches scripts"
   ]
  },
  {
   "cell_type": "code",
   "execution_count": 6,
   "metadata": {},
   "outputs": [],
   "source": [
    "script.set_state(ScriptState.UNCONFIGURED)"
   ]
  },
  {
   "cell_type": "code",
   "execution_count": 7,
   "metadata": {},
   "outputs": [],
   "source": [
    "# configuration = yaml.safe_dump({\"object_name\": 'HD 74576', \n",
    "#                                 \"acq_filter\" : 'BG40',\n",
    "#                                 \"acq_grating\" : 'empty_1',\n",
    "#                                 \"exposure_time_sequence\" : [45, 45, 45, 45, 3, 20, 3, 20], \n",
    "#                                 \"filter_sequence\": ['empty_1','quadnotch1','BG40', 'BG40','RG610','RG610'], \n",
    "#                                 \"grating_sequence\": ['ronchi90lpmm','ronchi90lpmm','ronchi90lpmm','ronchi90lpmm','empty_1','empty_1','empty_1','empty_1'],\n",
    "#                                 \"doPointingModel\": False,\n",
    "#                                 \"dataPath\": '/project/shared/auxTel/rerun/quickLook'})\n",
    "# print(configuration)"
   ]
  },
  {
   "cell_type": "code",
   "execution_count": 8,
   "metadata": {},
   "outputs": [
    {
     "name": "stdout",
     "output_type": "stream",
     "text": [
      "acq_filter: BG40\n",
      "acq_grating: empty_1\n",
      "dataPath: /project/shared/auxTel/rerun/quickLook\n",
      "doPointingModel: false\n",
      "exposure_time_sequence:\n",
      "- 4\n",
      "- 4\n",
      "- 4\n",
      "- 4\n",
      "- 1\n",
      "- 2\n",
      "- 1\n",
      "- 2\n",
      "filter_sequence:\n",
      "- empty_1\n",
      "- quadnotch1\n",
      "- BG40\n",
      "- BG40\n",
      "- RG610\n",
      "- RG610\n",
      "grating_sequence:\n",
      "- ronchi90lpmm\n",
      "- ronchi90lpmm\n",
      "- ronchi90lpmm\n",
      "- ronchi90lpmm\n",
      "- empty_1\n",
      "- empty_1\n",
      "- empty_1\n",
      "- empty_1\n",
      "max_acq_iter: 0\n",
      "object_name: HD 107696\n",
      "\n"
     ]
    }
   ],
   "source": [
    "configuration = yaml.safe_dump({\"object_name\": 'HD 107696', \n",
    "                                \"acq_filter\" : 'BG40',\n",
    "                                \"acq_grating\" : 'empty_1',\n",
    "                                \"exposure_time_sequence\" : [4, 4, 4, 4, 1, 2, 1, 2], \n",
    "                                \"filter_sequence\": ['empty_1','quadnotch1','BG40', 'BG40','RG610','RG610'], \n",
    "                                \"grating_sequence\": ['ronchi90lpmm','ronchi90lpmm','ronchi90lpmm','ronchi90lpmm','empty_1','empty_1','empty_1','empty_1'],\n",
    "                                \"doPointingModel\": False,\n",
    "                                \"dataPath\": '/project/shared/auxTel/rerun/quickLook',\n",
    "                                \"max_acq_iter\": 0 })\n",
    "print(configuration)"
   ]
  },
  {
   "cell_type": "code",
   "execution_count": 9,
   "metadata": {},
   "outputs": [],
   "source": [
    "#script.updateFocus = False"
   ]
  },
  {
   "cell_type": "code",
   "execution_count": 10,
   "metadata": {},
   "outputs": [
    {
     "name": "stdout",
     "output_type": "stream",
     "text": [
      "[('empty_1', 4, 'ronchi90lpmm'), ('quadnotch1', 4, 'ronchi90lpmm'), ('BG40', 4, 'ronchi90lpmm'), ('BG40', 4, 'ronchi90lpmm'), ('RG610', 1, 'empty_1'), ('RG610', 2, 'empty_1')]\n",
      "RemoteEvent(ATMCS, 0, target) falling behind; read 64 messages\n",
      "RemoteEvent(ATDomeTrajectory, 0, logMessage) falling behind; read 65 messages\n",
      "RemoteTelemetry(ATDome, 0, position) falling behind; read 16 messages\n",
      "RemoteTelemetry(ATPtg, 0, currentTargetStatus) falling behind; read 17 messages\n",
      "RemoteTelemetry(ATPtg, 0, timeAndDate) falling behind; read 17 messages\n",
      "RemoteTelemetry(ATPtg, 0, mountStatus) falling behind; read 18 messages\n",
      "RemoteEvent(ATDome, 0, doorEncoderExtremes) falling behind; read 17 messages\n",
      "RemoteTelemetry(ATPtg, 0, guidingAndOffsets) falling behind; read 18 messages\n"
     ]
    }
   ],
   "source": [
    "config_data = script.cmd_configure.DataType()\n",
    "config_data.config = configuration\n",
    "await script.do_configure(config_data)"
   ]
  },
  {
   "cell_type": "code",
   "execution_count": 11,
   "metadata": {},
   "outputs": [],
   "source": [
    "#tmp= await script.latiss.take_bias(nbias=1)"
   ]
  },
  {
   "cell_type": "code",
   "execution_count": null,
   "metadata": {},
   "outputs": [],
   "source": []
  },
  {
   "cell_type": "code",
   "execution_count": 12,
   "metadata": {},
   "outputs": [
    {
     "name": "stdout",
     "output_type": "stream",
     "text": [
      "Slewing to HD 107696: 12 22 49.4319 -57 40 34.066\n",
      "Parallactic angle: 31.869314670627688 | Sky Angle: 61.68697402152293\n",
      "Sending command\n",
      "Stop tracking.\n",
      "Mount tracking state is 9\n",
      "RemoteEvent(ATMCS, 0, target) falling behind; read 20 messages\n",
      "RemoteEvent(ATDomeTrajectory, 0, logMessage) falling behind; read 20 messages\n",
      "Tracking state: 10.\n",
      "Tracking state: 8.\n",
      "In Position: True.\n",
      "In Position: False.\n",
      "Scheduling check coroutines\n",
      "process as completed...\n",
      "atmcs: <State.ENABLED: 2>\n",
      "atptg: <State.ENABLED: 2>\n",
      "ataos: <State.ENABLED: 2>\n",
      "atpneumatics: <State.ENABLED: 2>\n",
      "athexapod: <State.ENABLED: 2>\n",
      "atdome: <State.ENABLED: 2>\n",
      "atdometrajectory: <State.ENABLED: 2>\n",
      "[Telescope] delta Alt = -010.061 | delta Az = +007.836 delta N1 = -000.000 delta N2 = -038.845 [Dome] delta Az = +002.932\n",
      "[Telescope] delta Alt = -007.395 | delta Az = +004.469 delta N1 = -000.000 delta N2 = -033.206 [Dome] delta Az = +002.932\n",
      "[Telescope] delta Alt = -001.829 | delta Az = +000.142 delta N1 = -000.000 delta N2 = -027.220 [Dome] delta Az = +002.932\n",
      "[Telescope] delta Alt = +000.001 | delta Az = -000.002 delta N1 = -000.000 delta N2 = -021.322 [Dome] delta Az = +002.932\n",
      "[Telescope] delta Alt = +000.001 | delta Az = -000.003 delta N1 = -000.000 delta N2 = -015.700 [Dome] delta Az = +002.932\n",
      "[Telescope] delta Alt = +000.001 | delta Az = -000.002 delta N1 = +000.000 delta N2 = -010.627 [Dome] delta Az = +002.932\n",
      "[Telescope] delta Alt = +000.001 | delta Az = -000.002 delta N1 = +000.000 delta N2 = -006.381 [Dome] delta Az = +002.932\n",
      "[Telescope] delta Alt = -000.001 | delta Az = +000.004 delta N1 = +000.000 delta N2 = -004.133 [Dome] delta Az = +002.932\n",
      "[Telescope] delta Alt = -000.002 | delta Az = +000.006 delta N1 = -000.000 delta N2 = -003.205 [Dome] delta Az = +002.932\n",
      "[Telescope] delta Alt = -000.001 | delta Az = +000.003 delta N1 = -000.000 delta N2 = -001.158 [Dome] delta Az = +002.932\n",
      "[Telescope] delta Alt = -000.001 | delta Az = +000.005 delta N1 = -000.000 delta N2 = -000.165 [Dome] delta Az = +002.932\n",
      "[Telescope] delta Alt = -000.001 | delta Az = +000.003 delta N1 = -000.000 delta N2 = -000.008 [Dome] delta Az = +002.932\n",
      "Got True\n",
      "Waiting for telescope to settle.\n",
      "[Telescope] delta Alt = -000.001 | delta Az = +000.004 delta N1 = -000.000 delta N2 = -000.001 [Dome] delta Az = +002.932\n",
      "Telescope in position.\n",
      "ATDome in position.\n",
      "['Telescope in position.', 'ATDome in position.']\n",
      "hex_offset before starting sequence is private_revCode: 37b2d817, private_sndStamp: 1584338897.735766, private_rcvStamp: 1584340791.5278435, private_seqNum: 712, private_origin: 25, private_host: 1552868224, x: 0.0, y: 0.0, z: -0.07000000029802322, u: 0.0, v: 0.0, w: 0.0, m1: 0.0, m2: 0.0, priority: 0\n",
      "Applying focus offset of 0.022688399999999997 for filter empty_1 and grating ronchi90lpmm\n",
      "Applying x/y offset: 20.200000000000003/ 2.02 \n",
      "Applying Az/El offset: -2.117159466201614/ -20.190047939385213 \n",
      "Waiting for telescope to settle.\n",
      "Done\n",
      "Generating group_id\n",
      "OBJECT 0001 - 0001\n",
      "Took    4.0s exposure (empty_1/ronchi90lpmm)\n",
      "Applying focus offset of 0.0491582 for filter quadnotch1 and grating ronchi90lpmm\n",
      "Applying x/y offset: 0.0/ 0.0 \n",
      "Applying Az/El offset: 0.0/ 0.0 \n",
      "Waiting for telescope to settle.\n",
      "Done\n",
      "Generating group_id\n",
      "OBJECT 0001 - 0001\n",
      "RemoteEvent(ATMCS, 0, target) falling behind; read 40 messages\n",
      "Took    4.0s exposure (quadnotch1/ronchi90lpmm)\n",
      "Applying focus offset of 0.0453768 for filter BG40 and grating ronchi90lpmm\n",
      "Applying x/y offset: 0.0/ 0.0 \n",
      "Applying Az/El offset: 0.0/ 0.0 \n",
      "Waiting for telescope to settle.\n",
      "Done\n",
      "Generating group_id\n",
      "OBJECT 0001 - 0001\n",
      "Took    4.0s exposure (BG40/ronchi90lpmm)\n",
      "Applying focus offset of 0.0453768 for filter BG40 and grating ronchi90lpmm\n",
      "Applying x/y offset: 0.0/ 0.0 \n",
      "Applying Az/El offset: 0.0/ 0.0 \n",
      "Waiting for telescope to settle.\n",
      "Done\n",
      "Generating group_id\n",
      "OBJECT 0001 - 0001\n",
      "Took    4.0s exposure (BG40/ronchi90lpmm)\n",
      "Applying focus offset of 6.938893903907228e-18 for filter RG610 and grating empty_1\n",
      "Applying x/y offset: -20.200000000000003/ -2.02 \n",
      "Applying Az/El offset: 2.0349705791929638/ 20.19849733870862 \n",
      "Waiting for telescope to settle.\n",
      "Done\n",
      "Generating group_id\n",
      "OBJECT 0001 - 0001\n",
      "Took    1.0s exposure (RG610/empty_1)\n",
      "Applying focus offset of 6.938893903907228e-18 for filter RG610 and grating empty_1\n",
      "Applying x/y offset: 0.0/ 0.0 \n",
      "Applying Az/El offset: 0.0/ 0.0 \n",
      "Waiting for telescope to settle.\n",
      "Done\n",
      "Generating group_id\n",
      "OBJECT 0001 - 0001\n",
      "Took    2.0s exposure (RG610/empty_1)\n",
      "DONE!\n",
      "RemoteEvent(ATMCS, 0, target) falling behind; read 63 messages\n",
      "RemoteEvent(ATDomeTrajectory, 0, logMessage) falling behind; read 23 messages\n",
      "RemoteEvent(ATMCS, 0, target) falling behind; read 60 messages\n",
      "RemoteEvent(ATDomeTrajectory, 0, logMessage) falling behind; read 12 messages\n",
      "RemoteEvent(ATMCS, 0, target) falling behind; read 30 messages\n",
      "RemoteEvent(ATDomeTrajectory, 0, logMessage) falling behind; read 10 messages\n",
      "RemoteEvent(ATMCS, 0, target) falling behind; read 100 messages\n",
      "RemoteEvent(ATDomeTrajectory, 0, logMessage) falling behind; read 14 messages\n",
      "RemoteEvent(ATDomeTrajectory, 0, logMessage) falling behind; read 15 messages\n"
     ]
    }
   ],
   "source": [
    "#script.max_acq_iter = 0  # this will not perform any offsetting - but will slew.\n",
    "#script.do_acquire=True # Set this to true or it won't slew\n",
    "await script.run()\n",
    "print('DONE!')"
   ]
  },
  {
   "cell_type": "code",
   "execution_count": null,
   "metadata": {},
   "outputs": [],
   "source": []
  },
  {
   "cell_type": "code",
   "execution_count": null,
   "metadata": {},
   "outputs": [],
   "source": []
  },
  {
   "cell_type": "code",
   "execution_count": null,
   "metadata": {},
   "outputs": [],
   "source": []
  },
  {
   "cell_type": "code",
   "execution_count": 4,
   "metadata": {},
   "outputs": [],
   "source": [
    "# doesn't appear to take the offset?\n",
    "#await script.attcs.ataos.cmd_applyFocusOffset.set_start(offset=-0.07, timeout=20)"
   ]
  },
  {
   "cell_type": "code",
   "execution_count": 17,
   "metadata": {},
   "outputs": [
    {
     "data": {
      "text/plain": [
       "<ddsutil.ATAOS_ackcmd_33d5c92b at 0x7f9f58b43e50>"
      ]
     },
     "execution_count": 17,
     "metadata": {},
     "output_type": "execute_result"
    }
   ],
   "source": [
    "#await script.attcs.ataos.cmd_applyAxisOffset.set_start(axis='z', offset=-0.07, timeout=20)"
   ]
  },
  {
   "cell_type": "code",
   "execution_count": 14,
   "metadata": {},
   "outputs": [
    {
     "data": {
      "text/plain": [
       "<ddsutil.ATAOS_ackcmd_33d5c92b at 0x7f9f598e4a90>"
      ]
     },
     "execution_count": 14,
     "metadata": {},
     "output_type": "execute_result"
    }
   ],
   "source": [
    "#await script.attcs.ataos.cmd_resetOffset.start()"
   ]
  },
  {
   "cell_type": "code",
   "execution_count": null,
   "metadata": {},
   "outputs": [],
   "source": []
  },
  {
   "cell_type": "code",
   "execution_count": null,
   "metadata": {},
   "outputs": [],
   "source": []
  },
  {
   "cell_type": "code",
   "execution_count": null,
   "metadata": {},
   "outputs": [],
   "source": [
    "configuration = yaml.safe_dump({\"object_name\": 'HD 107696', \n",
    "                                \"acq_filter\" : 'BG40',\n",
    "                                \"acq_grating\" : 'empty_1',\n",
    "                                \"exposure_time_sequence\" : [4, 4, 4, 4, 1, 2, 1, 2], \n",
    "                                \"filter_sequence\": ['empty_1','quadnotch1','BG40', 'BG40','RG610','RG610'], \n",
    "                                \"grating_sequence\": ['ronchi90lpmm','ronchi90lpmm','ronchi90lpmm','ronchi90lpmm','empty_1','empty_1','empty_1','empty_1'],\n",
    "                                \"doPointingModel\": False,\n",
    "                                \"dataPath\": '/project/shared/auxTel/rerun/quickLook',\n",
    "                                \"max_acq_iter\": 0 })"
   ]
  },
  {
   "cell_type": "code",
   "execution_count": null,
   "metadata": {},
   "outputs": [],
   "source": []
  },
  {
   "cell_type": "code",
   "execution_count": null,
   "metadata": {},
   "outputs": [],
   "source": []
  },
  {
   "cell_type": "code",
   "execution_count": null,
   "metadata": {},
   "outputs": [],
   "source": []
  },
  {
   "cell_type": "code",
   "execution_count": null,
   "metadata": {},
   "outputs": [],
   "source": []
  },
  {
   "cell_type": "code",
   "execution_count": null,
   "metadata": {},
   "outputs": [],
   "source": []
  },
  {
   "cell_type": "code",
   "execution_count": null,
   "metadata": {},
   "outputs": [],
   "source": [
    "#await script.attcs.slew_object('CD-36  7018')"
   ]
  },
  {
   "cell_type": "code",
   "execution_count": null,
   "metadata": {},
   "outputs": [],
   "source": [
    "target_list=[\"BD-14  2342\", \"HD  75942\", \"HD  85754\", \"HD  92944\", \"HD 101492\"]\n",
    "# Reverse the targets?\n",
    "#target_list=target_list[::-1]\n",
    "print(target_list)"
   ]
  },
  {
   "cell_type": "code",
   "execution_count": null,
   "metadata": {},
   "outputs": [],
   "source": [
    "for target in target_list:\n",
    "    script.set_state(ScriptState.UNCONFIGURED)\n",
    "    \n",
    "    configuration = yaml.safe_dump({\"object_name\": target, \n",
    "                                \"exposure_time\": 2, \n",
    "                                \"filter\": 'empty_1', \n",
    "                                \"grating\": 'empty_1',\n",
    "                                \"doPointingModel\": True,\n",
    "                                \"dataPath\": '/project/shared/auxTel/rerun/quickLook'})\n",
    "    print(configuration)\n",
    "    \n",
    "    config_data = script.cmd_configure.DataType()\n",
    "    config_data.config = configuration\n",
    "    await script.do_configure(config_data)\n",
    "    \n",
    "    await script.run()"
   ]
  },
  {
   "cell_type": "code",
   "execution_count": null,
   "metadata": {},
   "outputs": [],
   "source": [
    "print(\"Done\")"
   ]
  },
  {
   "cell_type": "code",
   "execution_count": null,
   "metadata": {},
   "outputs": [],
   "source": []
  },
  {
   "cell_type": "code",
   "execution_count": 17,
   "metadata": {},
   "outputs": [
    {
     "data": {
      "text/plain": [
       "<ddsutil.ATMCS_ackcmd_f0f9ad9d at 0x7f3af0f3fe10>"
      ]
     },
     "execution_count": 17,
     "metadata": {},
     "output_type": "execute_result"
    }
   ],
   "source": [
    "await script.attcs.atmcs.cmd_stopTracking.start()"
   ]
  },
  {
   "cell_type": "code",
   "execution_count": 18,
   "metadata": {},
   "outputs": [
    {
     "name": "stdout",
     "output_type": "stream",
     "text": [
      "Sending command\n",
      "Stop tracking.\n",
      "Mount tracking state is 8\n",
      "In Position: False.\n",
      "Scheduling check coroutines\n",
      "process as completed...\n",
      "atmcs: <State.ENABLED: 2>\n",
      "atptg: <State.ENABLED: 2>\n",
      "ataos: <State.ENABLED: 2>\n",
      "atpneumatics: <State.ENABLED: 2>\n",
      "athexapod: <State.ENABLED: 2>\n",
      "[Telescope] delta Alt = +022.669 | delta Az= -003.841 delta N1 = +000.000 delta N2 = -000.420 \n",
      "[Telescope] delta Alt = +022.483 | delta Az= -001.235 delta N1 = -000.000 delta N2 = +000.055 \n",
      "[Telescope] delta Alt = +020.400 | delta Az= +000.000 delta N1 = +000.000 delta N2 = +000.424 \n",
      "[Telescope] delta Alt = +017.625 | delta Az= +000.000 delta N1 = +000.000 delta N2 = +000.725 \n",
      "[Telescope] delta Alt = +014.020 | delta Az= +000.000 delta N1 = +000.000 delta N2 = +000.942 \n",
      "[Telescope] delta Alt = +008.103 | delta Az= +000.000 delta N1 = +000.000 delta N2 = +000.872 \n",
      "[Telescope] delta Alt = +003.174 | delta Az= +000.000 delta N1 = +000.000 delta N2 = +000.707 \n",
      "[Telescope] delta Alt = +001.114 | delta Az= +000.000 delta N1 = -000.000 delta N2 = +000.394 \n",
      "[Telescope] delta Alt = +000.024 | delta Az= +000.000 delta N1 = -000.000 delta N2 = +000.131 \n",
      "[Telescope] delta Alt = -000.000 | delta Az= +000.000 delta N1 = -000.000 delta N2 = +000.011 \n",
      "[Telescope] delta Alt = -000.000 | delta Az= +000.000 delta N1 = -000.000 delta N2 = -000.000 \n",
      "Got True\n",
      "Waiting for telescope to settle.\n",
      "Axes in position.\n",
      "None\n"
     ]
    }
   ],
   "source": [
    "await script.attcs.point_azel(az=240,el=80)"
   ]
  },
  {
   "cell_type": "code",
   "execution_count": 14,
   "metadata": {},
   "outputs": [],
   "source": [
    "# stops the messaging output if you had to stop the above cell\n",
    "await script.attcs.cancel_not_done(script.attcs.scheduled_coro)"
   ]
  },
  {
   "cell_type": "code",
   "execution_count": 15,
   "metadata": {},
   "outputs": [
    {
     "data": {
      "text/plain": [
       "<ddsutil.ATPtg_ackcmd_2d655b72 at 0x7f1dcd713050>"
      ]
     },
     "execution_count": 15,
     "metadata": {},
     "output_type": "execute_result"
    }
   ],
   "source": [
    "await script.attcs.atptg.cmd_stopTracking.start()"
   ]
  },
  {
   "cell_type": "code",
   "execution_count": null,
   "metadata": {},
   "outputs": [],
   "source": []
  },
  {
   "cell_type": "code",
   "execution_count": null,
   "metadata": {},
   "outputs": [],
   "source": [
    "await script.latiss.take_object(exptime=2)"
   ]
  },
  {
   "cell_type": "code",
   "execution_count": null,
   "metadata": {},
   "outputs": [],
   "source": [
    "await script.attcs.offset_xy(x=45.1975, y=-48.6315)"
   ]
  },
  {
   "cell_type": "code",
   "execution_count": null,
   "metadata": {},
   "outputs": [],
   "source": [
    "await script.latiss.take_object(exptime=5, grating='empty_1', filter='BG40')"
   ]
  },
  {
   "cell_type": "code",
   "execution_count": null,
   "metadata": {},
   "outputs": [],
   "source": []
  },
  {
   "cell_type": "code",
   "execution_count": null,
   "metadata": {},
   "outputs": [],
   "source": []
  },
  {
   "cell_type": "code",
   "execution_count": null,
   "metadata": {},
   "outputs": [],
   "source": [
    "await script.latiss.take_engtest(exptime=1, grating='empty_1', filter='RG610')"
   ]
  },
  {
   "cell_type": "code",
   "execution_count": null,
   "metadata": {},
   "outputs": [],
   "source": []
  },
  {
   "cell_type": "code",
   "execution_count": null,
   "metadata": {},
   "outputs": [],
   "source": []
  },
  {
   "cell_type": "code",
   "execution_count": null,
   "metadata": {},
   "outputs": [],
   "source": [
    "configuration = yaml.safe_dump({\"object_name\": 'HD 107696', \n",
    "                                \"acq_filter\" : 'BG40',\n",
    "                                \"acq_grating\" : 'empty_1',\n",
    "                                \"exposure_time_sequence\" : [15, 15, 15, 15, 15, 15, 15, 15], \n",
    "                                \"filter_sequence\": ['empty_1','quadnotch1','BG40', 'BG40','RG610','RG610'], \n",
    "                                \"grating_sequence\": ['ronchi90lpmm','ronchi90lpmm','ronchi90lpmm','ronchi90lpmm','empty_1','empty_1','empty_1','empty_1'],\n",
    "                                \"doPointingModel\": False,\n",
    "                                \"dataPath\": '/project/shared/auxTel/rerun/quickLook',\n",
    "                                \"max_acq_iter\": 0 })"
   ]
  }
 ],
 "metadata": {
  "kernelspec": {
   "display_name": "LSST",
   "language": "python",
   "name": "lsst"
  },
  "language_info": {
   "codemirror_mode": {
    "name": "ipython",
    "version": 3
   },
   "file_extension": ".py",
   "mimetype": "text/x-python",
   "name": "python",
   "nbconvert_exporter": "python",
   "pygments_lexer": "ipython3",
   "version": "3.7.6"
  }
 },
 "nbformat": 4,
 "nbformat_minor": 4
}
