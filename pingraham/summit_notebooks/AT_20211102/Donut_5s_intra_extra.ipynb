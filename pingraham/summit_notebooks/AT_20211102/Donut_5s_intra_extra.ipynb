{
 "cells": [
  {
   "cell_type": "markdown",
   "metadata": {},
   "source": [
    "# Dataset for Andy C. of a series of 5s images on either side of focus with dz=0.8mm"
   ]
  },
  {
   "cell_type": "code",
   "execution_count": null,
   "metadata": {
    "tags": []
   },
   "outputs": [],
   "source": [
    "import sys\n",
    "import asyncio\n",
    "import time\n",
    "import os\n",
    "\n",
    "import numpy as np\n",
    "import logging \n",
    "import yaml\n",
    "import matplotlib.pyplot as plt\n",
    "import astropy\n",
    "\n",
    "from lsst.ts import salobj\n",
    "from lsst.ts.externalscripts.auxtel.latiss_cwfs_align import LatissCWFSAlign\n",
    "from lsst.ts.observatory.control.utils import RotType\n",
    "\n",
    "from lsst.ts.idl.enums.Script import ScriptState\n",
    "\n",
    "from lsst.ts.observing.utilities.decorated_logger import DecoratedLogger"
   ]
  },
  {
   "cell_type": "code",
   "execution_count": null,
   "metadata": {},
   "outputs": [],
   "source": [
    "logger = DecoratedLogger.get_decorated_logger()\n",
    "logger.level = logging.DEBUG"
   ]
  },
  {
   "cell_type": "markdown",
   "metadata": {},
   "source": [
    "## Instantiate the Script\n",
    "\n",
    "First derive and index for the script that is specific to your user"
   ]
  },
  {
   "cell_type": "code",
   "execution_count": null,
   "metadata": {},
   "outputs": [],
   "source": [
    "logger.info(f'Your UID is {os.getuid()}')\n",
    "index=os.getuid()*10+np.random.randint(0,9)\n",
    "logger.info(f'The generated index is {index}')"
   ]
  },
  {
   "cell_type": "markdown",
   "metadata": {},
   "source": [
    "Instantiate the script then start all remotes"
   ]
  },
  {
   "cell_type": "code",
   "execution_count": null,
   "metadata": {
    "tags": []
   },
   "outputs": [],
   "source": [
    "script = LatissCWFSAlign(index=index, remotes=True)  # this essentially calls the init method\n",
    "await script.start_task"
   ]
  },
  {
   "cell_type": "markdown",
   "metadata": {},
   "source": [
    "Set the script to have a DEBUG log level"
   ]
  },
  {
   "cell_type": "code",
   "execution_count": null,
   "metadata": {},
   "outputs": [],
   "source": [
    "script.log.level = logging.DEBUG"
   ]
  },
  {
   "cell_type": "markdown",
   "metadata": {},
   "source": [
    "### Slew to a target to focus the telescope\n",
    "This is not part of the actual script but seems to come in handy, so the code is here in the notebook for convenience"
   ]
  },
  {
   "cell_type": "markdown",
   "metadata": {},
   "source": [
    "Print the available instrument filter and gratings. <br>\n",
    "This is useful both for slewing and for the configuration steps below"
   ]
  },
  {
   "cell_type": "code",
   "execution_count": null,
   "metadata": {},
   "outputs": [],
   "source": [
    "inst_setup = await script.latiss.get_available_instrument_setup()\n",
    "logger.info(f'filters are: {inst_setup[0]},\\ngratings are: {inst_setup[1]}')"
   ]
  },
  {
   "cell_type": "markdown",
   "metadata": {},
   "source": [
    "Uncomment the following line to slew"
   ]
  },
  {
   "cell_type": "markdown",
   "metadata": {},
   "source": [
    "#### Find/Specify a target based on the Az/El and slew to it"
   ]
  },
  {
   "cell_type": "code",
   "execution_count": null,
   "metadata": {},
   "outputs": [],
   "source": [
    "# target = await atcs.find_target(160,60,mag_limit=6.0)"
   ]
  },
  {
   "cell_type": "code",
   "execution_count": null,
   "metadata": {
    "tags": []
   },
   "outputs": [],
   "source": [
    "target = \"\" "
   ]
  },
  {
   "cell_type": "code",
   "execution_count": null,
   "metadata": {
    "tags": []
   },
   "outputs": [],
   "source": [
    "await script.atcs.slew_object(target, rot_type=RotType.PhysicalSky)"
   ]
  },
  {
   "cell_type": "markdown",
   "metadata": {},
   "source": [
    "Check that the target is in the field"
   ]
  },
  {
   "cell_type": "code",
   "execution_count": null,
   "metadata": {
    "tags": []
   },
   "outputs": [],
   "source": [
    "await script.latiss.take_engtest(2)"
   ]
  },
  {
   "cell_type": "markdown",
   "metadata": {},
   "source": [
    "Offset the telescope (if required). <br>\n",
    "Offsets are in detector X/Y coordinates and in arcseconds"
   ]
  },
  {
   "cell_type": "code",
   "execution_count": null,
   "metadata": {},
   "outputs": [],
   "source": [
    "await script.atcs.offset_xy(x=0, y=-50)"
   ]
  },
  {
   "cell_type": "markdown",
   "metadata": {},
   "source": [
    "## Configure the script"
   ]
  },
  {
   "cell_type": "code",
   "execution_count": null,
   "metadata": {},
   "outputs": [],
   "source": [
    "configuration = yaml.safe_dump({\"filter\": 'FELH0600', \n",
    "                                \"grating\": 'empty_1',\n",
    "                                \"exposure_time\": 20,})"
   ]
  },
  {
   "cell_type": "markdown",
   "metadata": {},
   "source": [
    "Set script state to UNCONFIGURED. <br>\n",
    "The next line is not required the first time the script is run, however, in each additional instance the cell is run, an error will be thrown if it is not included. <br>\n",
    "Therefore, it is included here despite being a non-operation in the first instance."
   ]
  },
  {
   "cell_type": "code",
   "execution_count": null,
   "metadata": {},
   "outputs": [],
   "source": [
    "script.set_state(ScriptState.UNCONFIGURED)"
   ]
  },
  {
   "cell_type": "markdown",
   "metadata": {},
   "source": [
    "#### Put the ScriptState to CONFIGURED"
   ]
  },
  {
   "cell_type": "code",
   "execution_count": null,
   "metadata": {},
   "outputs": [],
   "source": [
    "config_data = script.cmd_configure.DataType()\n",
    "config_data.config = configuration\n",
    "await script.do_configure(config_data)"
   ]
  },
  {
   "cell_type": "markdown",
   "metadata": {},
   "source": [
    "Set these script parameters to None to verify a re-reduction does not happen of the images"
   ]
  },
  {
   "cell_type": "code",
   "execution_count": null,
   "metadata": {},
   "outputs": [],
   "source": [
    "script.intra_visit_id = None\n",
    "script.extra_visit_id = None\n",
    "script.short_timeout = 10"
   ]
  },
  {
   "cell_type": "markdown",
   "metadata": {},
   "source": [
    "### Set groupID and launch the script\n",
    "This sets the same group ID for all exposures taken in the script"
   ]
  },
  {
   "cell_type": "code",
   "execution_count": null,
   "metadata": {},
   "outputs": [],
   "source": [
    "group_id_data = script.cmd_setGroupId.DataType(\n",
    "                groupId=astropy.time.Time.now().isot\n",
    "            )\n",
    "await script.do_setGroupId(group_id_data)\n",
    "await script.arun()"
   ]
  },
  {
   "cell_type": "markdown",
   "metadata": {},
   "source": [
    "## Telescope is now collimated and in focus"
   ]
  },
  {
   "cell_type": "markdown",
   "metadata": {},
   "source": [
    "#### Grab focus offsets incase we need to come back into focus"
   ]
  },
  {
   "cell_type": "code",
   "execution_count": null,
   "metadata": {
    "tags": []
   },
   "outputs": [],
   "source": [
    "original_focus_offset = await script.atcs.rem.ataos.evt_focusOffsetSummary.aget()\n",
    "print(original_focus_offset)"
   ]
  },
  {
   "cell_type": "markdown",
   "metadata": {
    "tags": []
   },
   "source": [
    "## Adjust hexapod for intra-focal images\n",
    "This hexapod offset pushes it towards M1, therefore pushing the focus behind the detector.\n",
    "This means we're capturing the extra-focal image."
   ]
  },
  {
   "cell_type": "code",
   "execution_count": null,
   "metadata": {
    "tags": []
   },
   "outputs": [],
   "source": [
    "await script.rem.ataos.cmd_offset.set_start(z=0.8)"
   ]
  },
  {
   "cell_type": "code",
   "execution_count": null,
   "metadata": {},
   "outputs": [],
   "source": [
    "intra_focal_offsets = await script.atcs.rem.ataos.evt_focusOffsetSummary.aget()\n",
    "print(intra_focal_offsets)"
   ]
  },
  {
   "cell_type": "markdown",
   "metadata": {},
   "source": [
    "### Take a stack of 20 x 5 sec intra-focal images in FELH0600\n",
    "Andy asked for 18 but sometimes the mount can do funny things"
   ]
  },
  {
   "cell_type": "code",
   "execution_count": null,
   "metadata": {
    "tags": []
   },
   "outputs": [],
   "source": [
    "intra_focal_images = await script.latiss.take_engtest(\n",
    "    exptime=5, n=20, filter='FELH0600', grating='empty_1')\n",
    "\n",
    "print('Intra focal images= ' + str(intra_focal_images))"
   ]
  },
  {
   "cell_type": "code",
   "execution_count": null,
   "metadata": {
    "tags": []
   },
   "outputs": [],
   "source": []
  },
  {
   "cell_type": "markdown",
   "metadata": {
    "tags": []
   },
   "source": [
    "## Adjust hexapod for in-focus images"
   ]
  },
  {
   "cell_type": "code",
   "execution_count": null,
   "metadata": {
    "tags": []
   },
   "outputs": [],
   "source": [
    "await script.rem.ataos.cmd_offset.set_start(z=-0.8)"
   ]
  },
  {
   "cell_type": "code",
   "execution_count": null,
   "metadata": {},
   "outputs": [],
   "source": [
    "in_focus_offsets = await script.atcs.rem.ataos.evt_focusOffsetSummary.aget()\n",
    "print(in_focus_offsets)"
   ]
  },
  {
   "cell_type": "markdown",
   "metadata": {},
   "source": [
    "### Take a stack of 20 x 5 sec in-focus images in FELH0600\n",
    "Andy asked for 18 but sometimes the mount can do funny things"
   ]
  },
  {
   "cell_type": "code",
   "execution_count": null,
   "metadata": {
    "tags": []
   },
   "outputs": [],
   "source": [
    "in_focus_images = await script.latiss.take_engtest(\n",
    "    exptime=5, n=20, filter='FELH0600', grating='empty_1')\n",
    "\n",
    "print('In focus images= ' + str(in_focus_images))"
   ]
  },
  {
   "cell_type": "markdown",
   "metadata": {},
   "source": [
    "## Adjust hexapod for extra-focal images\n",
    "This hexapod offset pulls it away from M1, therefore placing the focus in-front of the detector.\n",
    "This means it's the extra-focal image."
   ]
  },
  {
   "cell_type": "code",
   "execution_count": null,
   "metadata": {
    "tags": []
   },
   "outputs": [],
   "source": [
    "await script.rem.ataos.cmd_offset.set_start(z=-0.8)"
   ]
  },
  {
   "cell_type": "code",
   "execution_count": null,
   "metadata": {},
   "outputs": [],
   "source": [
    "extra_focal_offsets = await script.atcs.rem.ataos.evt_focusOffsetSummary.aget()\n",
    "print(extra_focal_offsets)"
   ]
  },
  {
   "cell_type": "markdown",
   "metadata": {
    "tags": []
   },
   "source": [
    "### Take a stack of 20 x 5 sec images in FELH0600\n",
    "Andy asked for 18 but sometimes the mount can do funny things"
   ]
  },
  {
   "cell_type": "code",
   "execution_count": null,
   "metadata": {
    "tags": []
   },
   "outputs": [],
   "source": [
    "extra_focal_images = await script.latiss.take_engtest(\n",
    "    exptime=5, n=20, filter='FELH0600', grating='empty_1')\n",
    "\n",
    "print ('FELH0600 stack Sequence_image = ' + str(science_image))"
   ]
  },
  {
   "cell_type": "code",
   "execution_count": null,
   "metadata": {},
   "outputs": [],
   "source": []
  },
  {
   "cell_type": "markdown",
   "metadata": {},
   "source": [
    "## Put hexapod back to the focus position"
   ]
  },
  {
   "cell_type": "code",
   "execution_count": null,
   "metadata": {
    "tags": []
   },
   "outputs": [],
   "source": [
    "await script.rem.ataos.cmd_offset.set_start(z=0.8)"
   ]
  },
  {
   "cell_type": "code",
   "execution_count": null,
   "metadata": {},
   "outputs": [],
   "source": [
    "in_focus_offsets2 = await script.atcs.rem.ataos.evt_focusOffsetSummary.aget()\n",
    "print(in_focus_offsets2)"
   ]
  },
  {
   "cell_type": "code",
   "execution_count": null,
   "metadata": {},
   "outputs": [],
   "source": []
  },
  {
   "cell_type": "markdown",
   "metadata": {},
   "source": [
    "### Check that the focus offsets are the same as when we started"
   ]
  },
  {
   "cell_type": "code",
   "execution_count": null,
   "metadata": {},
   "outputs": [],
   "source": [
    "assert (in_focus_offsets2.userApplied - original_focus_offset.userApplied) < 2e-3"
   ]
  },
  {
   "cell_type": "markdown",
   "metadata": {},
   "source": [
    "Take a quick snap to verify things are ok"
   ]
  },
  {
   "cell_type": "code",
   "execution_count": null,
   "metadata": {},
   "outputs": [],
   "source": [
    "await script.latiss.take_engtest(exptime=5, n=1, filter='FELH0600', grating='empty_1')"
   ]
  }
 ],
 "metadata": {
  "kernelspec": {
   "display_name": "LSST",
   "language": "python",
   "name": "lsst"
  },
  "language_info": {
   "codemirror_mode": {
    "name": "ipython",
    "version": 3
   },
   "file_extension": ".py",
   "mimetype": "text/x-python",
   "name": "python",
   "nbconvert_exporter": "python",
   "pygments_lexer": "ipython3",
   "version": "3.8.8"
  },
  "toc-autonumbering": false
 },
 "nbformat": 4,
 "nbformat_minor": 4
}
