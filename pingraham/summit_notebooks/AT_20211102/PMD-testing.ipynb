{
 "cells": [
  {
   "cell_type": "code",
   "execution_count": null,
   "id": "4ba7a3a2",
   "metadata": {},
   "outputs": [],
   "source": [
    "import sys\n",
    "import asyncio\n",
    "import time\n",
    "import os\n",
    "\n",
    "import numpy as np\n",
    "\n",
    "from lsst.ts import salobj"
   ]
  },
  {
   "cell_type": "code",
   "execution_count": null,
   "id": "ab2eca9d",
   "metadata": {},
   "outputs": [],
   "source": [
    "domain = salobj.Domain()\n",
    "remote = salobj.Remote(name=\"PMD\", domain=domain, index=1)\n",
    "await remote.start_task"
   ]
  },
  {
   "cell_type": "code",
   "execution_count": null,
   "id": "9345a0e7",
   "metadata": {},
   "outputs": [],
   "source": [
    "tmp = await remote.evt_heartbeat.next(flush=True,timeout=5)\n",
    "print(tmp)"
   ]
  },
  {
   "cell_type": "code",
   "execution_count": null,
   "id": "7d9e6112",
   "metadata": {},
   "outputs": [],
   "source": [
    "tmp = await remote.cmd_setLogLevel.set_start(level=10)"
   ]
  },
  {
   "cell_type": "code",
   "execution_count": null,
   "id": "eb4c2539",
   "metadata": {},
   "outputs": [],
   "source": [
    "tmp = await remote.evt_summaryState.aget(timeout=5)\n",
    "print(salobj.State(tmp.summaryState))"
   ]
  },
  {
   "cell_type": "code",
   "execution_count": null,
   "id": "be3f433b",
   "metadata": {},
   "outputs": [],
   "source": []
  },
  {
   "cell_type": "code",
   "execution_count": null,
   "id": "aebd6a92",
   "metadata": {},
   "outputs": [],
   "source": [
    "tmp=await salobj.set_summary_state(remote, salobj.State.ENABLED, settingsToApply='current', timeout=30)\n",
    "print(tmp)"
   ]
  },
  {
   "cell_type": "code",
   "execution_count": null,
   "id": "4e24756b",
   "metadata": {},
   "outputs": [],
   "source": [
    "tmp = await remote.tel_position.next(flush=True, timeout=15)\n",
    "print(tmp)"
   ]
  },
  {
   "cell_type": "code",
   "execution_count": null,
   "id": "fe534ac5",
   "metadata": {},
   "outputs": [],
   "source": [
    "#tmp = await remote.cmd_exitControl.start()"
   ]
  },
  {
   "cell_type": "code",
   "execution_count": null,
   "id": "6ef3a0af",
   "metadata": {},
   "outputs": [],
   "source": [
    "# checking for movement\n",
    "tmp = await remote.tel_position.next(flush=True, timeout=25)\n",
    "print(tmp)"
   ]
  },
  {
   "cell_type": "code",
   "execution_count": null,
   "id": "2c703a04",
   "metadata": {},
   "outputs": [],
   "source": []
  },
  {
   "cell_type": "code",
   "execution_count": null,
   "id": "7e92411e",
   "metadata": {},
   "outputs": [],
   "source": [
    "# Triggering state changes manually often yeilds better error messages.\n",
    "tmp = await remote.cmd_start.set_start(settingsToApply=\"current\",timeout=10)"
   ]
  },
  {
   "cell_type": "code",
   "execution_count": null,
   "id": "cb5cba68",
   "metadata": {},
   "outputs": [],
   "source": []
  },
  {
   "cell_type": "code",
   "execution_count": null,
   "id": "2f6a7b86",
   "metadata": {},
   "outputs": [],
   "source": [
    "10/'sdf'"
   ]
  },
  {
   "cell_type": "code",
   "execution_count": null,
   "id": "0e43b770",
   "metadata": {},
   "outputs": [],
   "source": [
    "print(tmp)"
   ]
  },
  {
   "cell_type": "code",
   "execution_count": null,
   "id": "1b4f5d5d",
   "metadata": {},
   "outputs": [],
   "source": [
    "tmp = await remote.cmd_enable.start(timeout=20)"
   ]
  },
  {
   "cell_type": "code",
   "execution_count": null,
   "id": "c38dc68c",
   "metadata": {},
   "outputs": [],
   "source": [
    "tmp = await remote.cmd_disable.start(timeout=10)"
   ]
  },
  {
   "cell_type": "code",
   "execution_count": null,
   "id": "45720e2d",
   "metadata": {},
   "outputs": [],
   "source": [
    "tmp = await remote.cmd_standby.start(timeout=10)"
   ]
  },
  {
   "cell_type": "code",
   "execution_count": null,
   "id": "af346f53",
   "metadata": {},
   "outputs": [],
   "source": [
    "tmp = await remote.cmd_exitControl.start(timeout=10)"
   ]
  },
  {
   "cell_type": "code",
   "execution_count": null,
   "id": "fdf19dfa",
   "metadata": {},
   "outputs": [],
   "source": [
    "tmp = await remote.evt_pressure.next(flush=True,timeout=10)"
   ]
  },
  {
   "cell_type": "code",
   "execution_count": null,
   "id": "7a64083a",
   "metadata": {},
   "outputs": [],
   "source": []
  },
  {
   "cell_type": "code",
   "execution_count": null,
   "id": "514ebc4b",
   "metadata": {},
   "outputs": [],
   "source": []
  },
  {
   "cell_type": "code",
   "execution_count": null,
   "id": "05028d55-3d4a-4ff5-b3e7-d9324e7c1b83",
   "metadata": {},
   "outputs": [],
   "source": [
    "domain = salobj.Domain()\n",
    "adam_remote = salobj.Remote(name=\"AdamSensors\", domain=domain)\n",
    "await adam_remote.start_task"
   ]
  },
  {
   "cell_type": "code",
   "execution_count": null,
   "id": "1aed1772-c42c-4523-9d9c-57c8fa40e0e3",
   "metadata": {},
   "outputs": [],
   "source": [
    "tmp = await adam_remote.evt_heartbeat.next(flush=True,timeout=5)\n",
    "print(tmp)"
   ]
  },
  {
   "cell_type": "code",
   "execution_count": null,
   "id": "d5438a2f-8e52-473e-8fda-c2b6b54f8b4a",
   "metadata": {},
   "outputs": [],
   "source": [
    "tmp = await adam_remote.cmd_setLogLevel.set_start(level=10)"
   ]
  },
  {
   "cell_type": "code",
   "execution_count": null,
   "id": "6726b028-d69c-4ea7-b868-54d6e98aa30c",
   "metadata": {},
   "outputs": [],
   "source": [
    "tmp = await adam_remote.evt_summaryState.aget(timeout=5)\n",
    "print(salobj.State(tmp.summaryState))"
   ]
  },
  {
   "cell_type": "code",
   "execution_count": null,
   "id": "515c6901-ba36-4e03-b597-82755cceb0dc",
   "metadata": {},
   "outputs": [],
   "source": [
    "tmp = await adam_remote.evt_settingVersions.aget(timeout=5)\n",
    "print(tmp)"
   ]
  },
  {
   "cell_type": "code",
   "execution_count": null,
   "id": "455bade5-1c9b-4632-86fa-072cdc6ed508",
   "metadata": {},
   "outputs": [],
   "source": [
    "tmp=await salobj.set_summary_state(adam_remote, salobj.State.ENABLED, settingsToApply='current', timeout=30)\n",
    "print(tmp)"
   ]
  },
  {
   "cell_type": "code",
   "execution_count": null,
   "id": "60ee0758-c992-41c8-936a-a31c261a8120",
   "metadata": {},
   "outputs": [],
   "source": [
    "tmp = await adam_remote.tel_pressure.aget(timeout=5)\n",
    "print(tmp)"
   ]
  },
  {
   "cell_type": "code",
   "execution_count": null,
   "id": "ac89d4ad",
   "metadata": {},
   "outputs": [],
   "source": [
    "astropy.__version__"
   ]
  },
  {
   "cell_type": "code",
   "execution_count": null,
   "id": "621c355a",
   "metadata": {},
   "outputs": [],
   "source": []
  }
 ],
 "metadata": {
  "kernelspec": {
   "display_name": "LSST",
   "language": "python",
   "name": "lsst"
  },
  "language_info": {
   "codemirror_mode": {
    "name": "ipython",
    "version": 3
   },
   "file_extension": ".py",
   "mimetype": "text/x-python",
   "name": "python",
   "nbconvert_exporter": "python",
   "pygments_lexer": "ipython3",
   "version": "3.8.8"
  }
 },
 "nbformat": 4,
 "nbformat_minor": 5
}
