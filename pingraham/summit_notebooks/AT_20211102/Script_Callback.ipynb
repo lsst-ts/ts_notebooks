{
 "cells": [
  {
   "cell_type": "code",
   "execution_count": null,
   "id": "af617759",
   "metadata": {},
   "outputs": [],
   "source": [
    "from lsst.ts import salobj\n",
    "import asyncio\n",
    "import logging\n",
    "from lsst.ts.observatory.control.auxtel.atcs import ATCS\n",
    "import os\n",
    "import time"
   ]
  },
  {
   "cell_type": "code",
   "execution_count": null,
   "id": "a6fd4a66",
   "metadata": {},
   "outputs": [],
   "source": [
    "domain = salobj.Domain()"
   ]
  },
  {
   "cell_type": "code",
   "execution_count": null,
   "id": "34a218a0",
   "metadata": {},
   "outputs": [],
   "source": [
    "remote = salobj.Remote(name=\"Script\", domain=domain, index=0)\n",
    "#remote = salobj.Remote(name=\"PMD\", domain=domain, index=0)\n",
    "await remote.start_task"
   ]
  },
  {
   "cell_type": "code",
   "execution_count": null,
   "id": "3dafdb1c",
   "metadata": {},
   "outputs": [],
   "source": [
    "def print_logMessage(id_data):\n",
    "    print(id_data.message)"
   ]
  },
  {
   "cell_type": "code",
   "execution_count": null,
   "id": "61e8e11f",
   "metadata": {},
   "outputs": [],
   "source": [
    "remote.evt_logMessage.callback = print_logMessage\n",
    "# remote.evt_logMessage.callback = None # use this to stop it"
   ]
  },
  {
   "cell_type": "code",
   "execution_count": null,
   "id": "59d5678c",
   "metadata": {},
   "outputs": [],
   "source": []
  },
  {
   "cell_type": "code",
   "execution_count": null,
   "id": "11856661",
   "metadata": {},
   "outputs": [],
   "source": [
    "# asyncio.get_event_loop().run_forever()"
   ]
  },
  {
   "cell_type": "code",
   "execution_count": null,
   "id": "5e9e4845",
   "metadata": {},
   "outputs": [],
   "source": [
    "# How to write a message to the script "
   ]
  },
  {
   "cell_type": "code",
   "execution_count": null,
   "id": "791deacd",
   "metadata": {},
   "outputs": [],
   "source": [
    "#logging.basicConfig(format=\"%(name)s:%(message)s\", level=logging.DEBUG)"
   ]
  },
  {
   "cell_type": "code",
   "execution_count": null,
   "id": "b2c9be7c",
   "metadata": {},
   "outputs": [],
   "source": [
    "import numpy as np\n",
    "import os\n"
   ]
  },
  {
   "cell_type": "code",
   "execution_count": null,
   "id": "8fbfefd8",
   "metadata": {},
   "outputs": [],
   "source": [
    "print(f'Your UID is {os.getuid()}')\n",
    "index=os.getuid()*10+np.random.randint(0,9)\n",
    "print(f'The generated index is {index}')"
   ]
  },
  {
   "cell_type": "code",
   "execution_count": null,
   "id": "9b01b9d2",
   "metadata": {},
   "outputs": [],
   "source": [
    "index <2147483647"
   ]
  },
  {
   "cell_type": "code",
   "execution_count": null,
   "id": "47e29a3d",
   "metadata": {},
   "outputs": [],
   "source": [
    "c = salobj.Controller(name=\"Script\", index=index)"
   ]
  },
  {
   "cell_type": "code",
   "execution_count": null,
   "id": "ea90a6be",
   "metadata": {},
   "outputs": [],
   "source": [
    "c."
   ]
  },
  {
   "cell_type": "code",
   "execution_count": null,
   "id": "38dab068",
   "metadata": {},
   "outputs": [],
   "source": [
    "time.asctime()"
   ]
  },
  {
   "cell_type": "code",
   "execution_count": null,
   "id": "6c977827",
   "metadata": {},
   "outputs": [],
   "source": [
    "# This goes to the EFD, but the controller by default is set to loglevel.info, so debug won't show unless you set the controller to do so\n",
    "c.log.info(f'This is a test by Patrick from controller at INFO at time (from notebook)={time.asctime()}') # only "
   ]
  },
  {
   "cell_type": "code",
   "execution_count": null,
   "id": "a97f65c3",
   "metadata": {},
   "outputs": [],
   "source": []
  },
  {
   "cell_type": "code",
   "execution_count": null,
   "id": "6d22a5e0",
   "metadata": {},
   "outputs": [],
   "source": [
    "c.log.setLevel(logging.DEBUG)"
   ]
  },
  {
   "cell_type": "code",
   "execution_count": null,
   "id": "79cd998d",
   "metadata": {},
   "outputs": [],
   "source": [
    "c.log.debug(f'This is a test by Patrick from controller at DEBUG at time (from notebook)={time.asctime()}') "
   ]
  },
  {
   "cell_type": "code",
   "execution_count": null,
   "id": "7a463051",
   "metadata": {},
   "outputs": [],
   "source": [
    "# This log message only appears in this notebook and does not go to the EFD\n",
    "logging.info('This is a test by Patrick from logging.info')\n",
    "logging.debug('This is a test by Patrick from logging.debug')"
   ]
  },
  {
   "cell_type": "code",
   "execution_count": null,
   "id": "9eec136d",
   "metadata": {},
   "outputs": [],
   "source": []
  }
 ],
 "metadata": {
  "kernelspec": {
   "display_name": "LSST",
   "language": "python",
   "name": "lsst"
  },
  "language_info": {
   "codemirror_mode": {
    "name": "ipython",
    "version": 3
   },
   "file_extension": ".py",
   "mimetype": "text/x-python",
   "name": "python",
   "nbconvert_exporter": "python",
   "pygments_lexer": "ipython3",
   "version": "3.8.8"
  }
 },
 "nbformat": 4,
 "nbformat_minor": 5
}
