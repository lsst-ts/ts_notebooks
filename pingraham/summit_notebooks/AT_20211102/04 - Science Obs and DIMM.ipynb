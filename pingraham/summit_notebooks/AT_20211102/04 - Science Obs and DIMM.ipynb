{
 "cells": [
  {
   "cell_type": "markdown",
   "metadata": {},
   "source": [
    "# Combined science observations and telescope tracking and DIMM to focal plane seeing comparison. STARTING AT UT=0200\n",
    "\n",
    "- At UT=0200 acquire Mu Col rising on the horizon at 20 deg elevation, tell DIMM to point at Mu Col as well. \n",
    "- Do a move-the-secondary focus sequence in red filter, no disperser. \n",
    "- Set to that value adjust pointing to put Mu Col at (1750,300)\n",
    "\n",
    "- Iterate through this sequence as Mu Col rises and transits, until sky is too bright in morning twilight: Take \n",
    "                        none\tsdss g\t10 x 3\t1 min\n",
    "                        none\tFELH0600\t10 x 3\t1 min\n",
    "                        hologram\tnone\t30 x 3\t2 min\n",
    "                        hologram\tBG40\t30 x 3\t2 min\n",
    "                        hologram\tsdss g\t30 x 3\t2 min\n",
    "                        hologram \tFELH0600\t30 x 3\t2 min\n",
    "\n",
    "                        this cycle should take 10 minutes\n",
    "\n",
    "\n",
    "- Every 30 minutes:\n",
    "    - Switch to FELH0600 band, no disperser.\n",
    "    - Do move-the-mirror focus sequence, set to best focus value. \n",
    "    - Adjust centering on hologram disperser \n"
   ]
  },
  {
   "cell_type": "code",
   "execution_count": null,
   "metadata": {},
   "outputs": [],
   "source": [
    "import sys\n",
    "import asyncio\n",
    "import time\n",
    "import os\n",
    "\n",
    "import numpy as np\n",
    "import logging \n",
    "import yaml\n",
    "import matplotlib.pyplot as plt\n",
    "import astropy\n",
    "\n",
    "from lsst.ts import salobj\n",
    "from lsst.ts.externalscripts.auxtel.latiss_acquire_and_take_sequence import LatissAcquireAndTakeSequence\n",
    "from lsst.ts.observatory.control.utils import RotType\n",
    "\n",
    "from lsst.ts.idl.enums.Script import ScriptState\n",
    "\n",
    "from lsst.ts.observing.utilities.decorated_logger import DecoratedLogger"
   ]
  },
  {
   "cell_type": "code",
   "execution_count": null,
   "metadata": {},
   "outputs": [],
   "source": [
    "logger = DecoratedLogger.get_decorated_logger()\n",
    "logger.level = logging.DEBUG"
   ]
  },
  {
   "cell_type": "markdown",
   "metadata": {},
   "source": [
    "## Instantiate the Script\n",
    "\n",
    "First derive and index for the script that is specific to your user"
   ]
  },
  {
   "cell_type": "code",
   "execution_count": null,
   "metadata": {},
   "outputs": [],
   "source": [
    "logger.info(f\"Your UID is {os.getuid()}\")\n",
    "index = os.getuid() * 10 + np.random.randint(0, 9)\n",
    "logger.info(f\"The generated index is {index}\")"
   ]
  },
  {
   "cell_type": "markdown",
   "metadata": {},
   "source": [
    "Instantiate the script then start all remotes"
   ]
  },
  {
   "cell_type": "code",
   "execution_count": null,
   "metadata": {
    "tags": []
   },
   "outputs": [],
   "source": [
    "script = LatissAcquireAndTakeSequence(index=index)\n",
    "await script.start_task"
   ]
  },
  {
   "cell_type": "markdown",
   "metadata": {},
   "source": [
    "Set the script to have a DEBUG log level"
   ]
  },
  {
   "cell_type": "code",
   "execution_count": null,
   "metadata": {},
   "outputs": [],
   "source": [
    "script.log.level = logging.DEBUG"
   ]
  },
  {
   "cell_type": "markdown",
   "metadata": {},
   "source": [
    "## Slew to a target\n",
    "This is not part of the script but seems to come in handy, so it is here for convenience"
   ]
  },
  {
   "cell_type": "code",
   "execution_count": null,
   "metadata": {},
   "outputs": [],
   "source": [
    "# Check Elevation!!! Point DIMM to same source and check data is being published. \n",
    "target_name = 'HD 37795'\n",
    "await atcs.slew_object(name=target_name, rot_type=RotType.PhysicalSky)"
   ]
  },
  {
   "cell_type": "code",
   "execution_count": null,
   "metadata": {},
   "outputs": [],
   "source": [
    "# Red filter? \n",
    "test_image = await latiss.take_engtest(\n",
    "    exptime=15, n=1, filter='FELH0600', grating='empty_1')\n",
    "\n",
    "print ('Check Saturation test_image = ' + str(test_image))"
   ]
  },
  {
   "cell_type": "code",
   "execution_count": null,
   "metadata": {},
   "outputs": [],
   "source": [
    "# Focus in SDSSg --- CWFS. Paste results here for record. "
   ]
  },
  {
   "cell_type": "markdown",
   "metadata": {},
   "source": [
    "## Acquire and take science collection script"
   ]
  },
  {
   "cell_type": "code",
   "execution_count": null,
   "metadata": {},
   "outputs": [],
   "source": [
    "async def acquisition(target):\n",
    "    \"\"\"\n",
    "    ?????\n",
    "    \"\"\"\n",
    "    # Be sure to set the target, filter and grating to the appropriate setup \n",
    "    # you want to use for data taking. The position of the target on the \n",
    "    # detector is related to the grating.\n",
    "    configuration = yaml.safe_dump({\n",
    "        \"object_name\": target,\n",
    "        \"do_acquire\": True,\n",
    "        \"acq_filter\": 'FELH0600',\n",
    "        \"acq_grating\": 'empty_1',\n",
    "        \"acq_exposure_time\": 2.0,\n",
    "        \"target_pointing_tolerance\": 3.0,  # Target positioning tolerance (arcsec)\n",
    "        \"max_acq_iter\": 3,  # Maximum number of iterations to perform when acquiring\n",
    "        \"target_pointing_verification\": False,  # Takes an additional image showing the final target position\n",
    "    })\n",
    "\n",
    "    # Set script state to UNCONFIGURED\n",
    "    # this is required to run the script a 2nd time but otherwise is a no-op\n",
    "    script.set_state(ScriptState.UNCONFIGURED)\n",
    "    \n",
    "    # Configure the script, which puts the ScriptState to CONFIGURED\n",
    "    config_data = script.cmd_configure.DataType()\n",
    "    config_data.config = configuration\n",
    "    await script.do_configure(config_data)\n",
    "\n",
    "    # run script, assigning the same group ID to all the images taken in the \n",
    "    # acquisition\n",
    "    group_id_data = script.cmd_setGroupId.DataType(\n",
    "        groupId=astropy.time.Time.now().isot)\n",
    "    \n",
    "    await script.do_setGroupId(group_id_data)\n",
    "\n",
    "    await script.arun()"
   ]
  },
  {
   "cell_type": "code",
   "execution_count": null,
   "metadata": {},
   "outputs": [],
   "source": [
    "async def take_science_data_collection(target):\n",
    "    \"\"\"\n",
    "    ???\n",
    "    \"\"\"\n",
    "    configuration = yaml.safe_dump({\n",
    "        \"object_name\": target,\n",
    "        \"do_take_sequence\": True,\n",
    "        \"exposure_time_sequence\" : [10, 10, 30, 30, 30, 30] * 3, \n",
    "        \"grating_sequence\": ['none', 'none', 'holo4_003', 'holo4_003', \n",
    "                             'holo4_003','holo4_003'] * 3,\n",
    "        \"filter_sequence\": ['SDSSg', 'FELH0600', 'none,', 'BG40', \n",
    "                            'SDSSg','FELH0600'] * 3, \n",
    "    })\n",
    "    \n",
    "    # Set script state to UNCONFIGURED\n",
    "    # this is required to run the script a 2nd time but otherwise is a no-op\n",
    "    script.set_state(ScriptState.UNCONFIGURED)\n",
    "    \n",
    "    # Configure the script, which puts the ScriptState to CONFIGURED\n",
    "    config_data = script.cmd_configure.DataType()\n",
    "    config_data.config = configuration\n",
    "    await script.do_configure(config_data)\n",
    "    \n",
    "    # run script, assigning the same group ID to all the images taken in the acquisition\n",
    "    group_id_data = script.cmd_setGroupId.DataType(\n",
    "        groupId=astropy.time.Time.now().isot)\n",
    "    \n",
    "    await script.do_setGroupId(group_id_data)\n",
    "\n",
    "    await script.arun()"
   ]
  },
  {
   "cell_type": "markdown",
   "metadata": {},
   "source": [
    "## Acquire target"
   ]
  },
  {
   "cell_type": "code",
   "execution_count": null,
   "metadata": {},
   "outputs": [],
   "source": [
    "await acquisition(target)"
   ]
  },
  {
   "cell_type": "markdown",
   "metadata": {},
   "source": [
    "## Take 3 of each"
   ]
  },
  {
   "cell_type": "code",
   "execution_count": null,
   "metadata": {},
   "outputs": [],
   "source": [
    "for i in range(3): \n",
    "    await take_science_data_collection(target)"
   ]
  },
  {
   "cell_type": "markdown",
   "metadata": {},
   "source": [
    "## Every 30 minutes. Focus on FELH0600"
   ]
  },
  {
   "cell_type": "code",
   "execution_count": null,
   "metadata": {},
   "outputs": [],
   "source": [
    "test_image = await latiss.take_engtest(exptime=15, n=1, filter='FELH0600',grating='empty_1')"
   ]
  },
  {
   "cell_type": "code",
   "execution_count": null,
   "metadata": {},
   "outputs": [],
   "source": [
    "# Run CWFS on FELH0600 and paste results here:\n",
    "\n",
    "\n",
    "# Adjunt centering on the hologram disperser. "
   ]
  },
  {
   "cell_type": "code",
   "execution_count": null,
   "metadata": {},
   "outputs": [],
   "source": [
    "# Keep repeating science_data_collection until sky is too bright. "
   ]
  }
 ],
 "metadata": {
  "kernelspec": {
   "display_name": "LSST",
   "language": "python",
   "name": "lsst"
  },
  "language_info": {
   "codemirror_mode": {
    "name": "ipython",
    "version": 3
   },
   "file_extension": ".py",
   "mimetype": "text/x-python",
   "name": "python",
   "nbconvert_exporter": "python",
   "pygments_lexer": "ipython3",
   "version": "3.8.8"
  },
  "toc-autonumbering": false
 },
 "nbformat": 4,
 "nbformat_minor": 4
}
