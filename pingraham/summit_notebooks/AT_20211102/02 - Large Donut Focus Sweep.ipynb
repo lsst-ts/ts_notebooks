{
 "cells": [
  {
   "cell_type": "markdown",
   "metadata": {},
   "source": [
    "# Large Donut Focus Sweep\n",
    "### Used during 2021-11-03 night\n",
    "The script is built for the scriptQueue but can be run via this notebook"
   ]
  },
  {
   "cell_type": "markdown",
   "metadata": {},
   "source": []
  },
  {
   "cell_type": "code",
   "execution_count": null,
   "metadata": {},
   "outputs": [],
   "source": [
    "import sys\n",
    "import asyncio\n",
    "import time\n",
    "import os\n",
    "\n",
    "import numpy as np\n",
    "import logging \n",
    "import yaml\n",
    "import matplotlib.pyplot as plt\n",
    "import astropy\n",
    "\n",
    "from lsst.ts import salobj\n",
    "from lsst.ts.externalscripts.auxtel.latiss_cwfs_align import LatissCWFSAlign\n",
    "from lsst.ts.observatory.control.utils import RotType\n",
    "\n",
    "from lsst.ts.idl.enums.Script import ScriptState\n",
    "\n",
    "from lsst.ts.observing.utilities.decorated_logger import DecoratedLogger"
   ]
  },
  {
   "cell_type": "code",
   "execution_count": null,
   "metadata": {},
   "outputs": [],
   "source": [
    "logger = DecoratedLogger.get_decorated_logger()\n",
    "logger.level = logging.DEBUG"
   ]
  },
  {
   "cell_type": "markdown",
   "metadata": {},
   "source": [
    "## Instantiate the Script\n",
    "\n",
    "First derive and index for the script that is specific to your user"
   ]
  },
  {
   "cell_type": "code",
   "execution_count": null,
   "metadata": {},
   "outputs": [],
   "source": [
    "logger.info(f'Your UID is {os.getuid()}')\n",
    "index=os.getuid()*10+np.random.randint(0,9)\n",
    "logger.info(f'The generated index is {index}')"
   ]
  },
  {
   "cell_type": "markdown",
   "metadata": {},
   "source": [
    "Instantiate the script then start all remotes"
   ]
  },
  {
   "cell_type": "code",
   "execution_count": null,
   "metadata": {},
   "outputs": [],
   "source": [
    "script = LatissCWFSAlign(index=index, remotes=True)  # this essentially calls the init method\n",
    "await script.start_task"
   ]
  },
  {
   "cell_type": "markdown",
   "metadata": {},
   "source": [
    "Set the script to have a DEBUG log level"
   ]
  },
  {
   "cell_type": "code",
   "execution_count": null,
   "metadata": {},
   "outputs": [],
   "source": [
    "script.log.level = logging.DEBUG"
   ]
  },
  {
   "cell_type": "markdown",
   "metadata": {},
   "source": [
    "### Optional: Slew to a target\n",
    "This is not part of the script but seems to come in handy, so it is here for convenience"
   ]
  },
  {
   "cell_type": "markdown",
   "metadata": {},
   "source": [
    "Print the available instrument filter and gratings. <br>\n",
    "This is useful both for slewing and for the configuration steps below"
   ]
  },
  {
   "cell_type": "code",
   "execution_count": null,
   "metadata": {},
   "outputs": [],
   "source": [
    "inst_setup = await script.latiss.get_available_instrument_setup()\n",
    "logger.info(f'filters are: {inst_setup[0]},\\ngratings are: {inst_setup[1]}')"
   ]
  },
  {
   "cell_type": "markdown",
   "metadata": {},
   "source": [
    "Uncomment the following line to slew"
   ]
  },
  {
   "cell_type": "code",
   "execution_count": null,
   "metadata": {},
   "outputs": [],
   "source": [
    "target = \"HD 4040\" "
   ]
  },
  {
   "cell_type": "code",
   "execution_count": null,
   "metadata": {},
   "outputs": [],
   "source": [
    "await script.atcs.slew_object(target)"
   ]
  },
  {
   "cell_type": "markdown",
   "metadata": {},
   "source": [
    "Uncomment the following line to take a snapshot to verify the target is positioned as expected "
   ]
  },
  {
   "cell_type": "code",
   "execution_count": null,
   "metadata": {},
   "outputs": [],
   "source": [
    "await script.latiss.take_engtest(2)"
   ]
  },
  {
   "cell_type": "markdown",
   "metadata": {},
   "source": [
    "Uncomment the following line to offset the telescope (if required). <br>\n",
    "Offsets are in detector X/Y coordinates and in arcseconds"
   ]
  },
  {
   "cell_type": "code",
   "execution_count": null,
   "metadata": {},
   "outputs": [],
   "source": [
    "# await script.atcs.offset_xy(x=20, y=20)"
   ]
  },
  {
   "cell_type": "markdown",
   "metadata": {},
   "source": [
    "## Configure the script"
   ]
  },
  {
   "cell_type": "code",
   "execution_count": null,
   "metadata": {},
   "outputs": [],
   "source": [
    "configuration = yaml.safe_dump({\"filter\": 'FELH0600', \n",
    "                                \"grating\": 'empty_1',\n",
    "                                \"exposure_time\": 20,})"
   ]
  },
  {
   "cell_type": "markdown",
   "metadata": {},
   "source": [
    "Set script state to UNCONFIGURED. <br>\n",
    "The next line is not required the first time the script is run, however, in each additional instance the cell is run, an error will be thrown if it is not included. <br>\n",
    "Therefore, it is included here despite being a non-operation in the first instance."
   ]
  },
  {
   "cell_type": "code",
   "execution_count": null,
   "metadata": {},
   "outputs": [],
   "source": [
    "script.set_state(ScriptState.UNCONFIGURED)"
   ]
  },
  {
   "cell_type": "markdown",
   "metadata": {},
   "source": [
    "#### Put the ScriptState to CONFIGURED"
   ]
  },
  {
   "cell_type": "code",
   "execution_count": null,
   "metadata": {},
   "outputs": [],
   "source": [
    "config_data = script.cmd_configure.DataType()\n",
    "config_data.config = configuration\n",
    "await script.do_configure(config_data)"
   ]
  },
  {
   "cell_type": "markdown",
   "metadata": {},
   "source": [
    "Set these script parameters to None to verify a re-reduction does not happen of the images"
   ]
  },
  {
   "cell_type": "code",
   "execution_count": null,
   "metadata": {},
   "outputs": [],
   "source": [
    "script.intra_visit_id = None\n",
    "script.extra_visit_id = None\n",
    "script.short_timeout = 10"
   ]
  },
  {
   "cell_type": "markdown",
   "metadata": {},
   "source": [
    "### Set groupID and launch the script\n",
    "This sets the same group ID for all exposures taken in the script"
   ]
  },
  {
   "cell_type": "code",
   "execution_count": null,
   "metadata": {},
   "outputs": [],
   "source": [
    "group_id_data = script.cmd_setGroupId.DataType(\n",
    "                groupId=astropy.time.Time.now().isot\n",
    "            )\n",
    "await script.do_setGroupId(group_id_data)\n",
    "await script.arun()"
   ]
  },
  {
   "cell_type": "markdown",
   "metadata": {},
   "source": [
    "## Focusing and collimation are now complete"
   ]
  },
  {
   "cell_type": "markdown",
   "metadata": {},
   "source": [
    "If required, then uncomment and use the following cell to stop the telescope from tracking, but then you will lose your acquisition"
   ]
  },
  {
   "cell_type": "code",
   "execution_count": null,
   "metadata": {},
   "outputs": [],
   "source": [
    "# await script.atcs.stop_tracking()"
   ]
  },
  {
   "cell_type": "markdown",
   "metadata": {},
   "source": [
    "## Grab focus offsets incase we need to come back into focus"
   ]
  },
  {
   "cell_type": "code",
   "execution_count": null,
   "metadata": {},
   "outputs": [],
   "source": [
    "original_focus_offset = await atcs.rem.ataos.evt_focusOffsetSummary.aget()\n",
    "print(original_focus_offset)"
   ]
  },
  {
   "cell_type": "code",
   "execution_count": null,
   "metadata": {},
   "outputs": [],
   "source": []
  },
  {
   "cell_type": "markdown",
   "metadata": {
    "tags": []
   },
   "source": [
    "## Fine-step focus sweep over large range"
   ]
  },
  {
   "cell_type": "code",
   "execution_count": null,
   "metadata": {},
   "outputs": [],
   "source": [
    "starting_z_offset = - 0.05  # -4.0\n",
    "z_offset_increment = 0.007  # ~= 25 nm / 4\n",
    "nsteps = int((-2 * starting_z_offset) / z_offset_increment) + 1\n",
    "total_z_offset = 0.0"
   ]
  },
  {
   "cell_type": "code",
   "execution_count": null,
   "metadata": {},
   "outputs": [],
   "source": [
    "# offset to one end of the range\n",
    "await script.atcs.rem.ataos.cmd_offset.set_start(z=starting_z_offset)\n",
    "\n",
    "total_z_offset += starting_z_offset\n",
    "print(f\"Total z offset = {total_z_offset}\")\n",
    "await asyncio.sleep(2)\n",
    "\n",
    "# Now loop over the steps\n",
    "for i in range(nsteps):\n",
    "    await script.latiss.take_object(20.0, 1, filter='SDSSg')\n",
    "    await script.atcs.rem.ataos.cmd_offset.set_start(z=z_offset_increment)\n",
    "    total_z_offset += z_offset_increment\n",
    "    print(f\"Total z offset = {total_z_offset}\")\n",
    "\n",
    "# Put offset back where it was\n",
    "await script.atcs.rem.ataos.cmd_offset.set_start(z=-total_z_offset)\n",
    "total_z_offset -= total_z_offset\n",
    "print(f\"Total z offset = {total_z_offset}\")"
   ]
  },
  {
   "cell_type": "code",
   "execution_count": null,
   "metadata": {},
   "outputs": [],
   "source": [
    "## Check that current offset is equal to the original\n",
    "current_focus_offset = await atcs.rem.ataos.evt_focusOffsetSummary.aget()\n",
    "assert current_focus_offset == original_focus_offset, 'Now back in focus!'"
   ]
  },
  {
   "cell_type": "markdown",
   "metadata": {},
   "source": [
    "## Translate Hexapod in x by 1.5 mm"
   ]
  },
  {
   "cell_type": "code",
   "execution_count": null,
   "metadata": {},
   "outputs": [],
   "source": [
    "await atcs.rem.ataos.cmd_offset.set_start(x=1.5)"
   ]
  },
  {
   "cell_type": "code",
   "execution_count": null,
   "metadata": {},
   "outputs": [],
   "source": []
  },
  {
   "cell_type": "markdown",
   "metadata": {
    "tags": []
   },
   "source": [
    "## Fine-step focus sweep over large range"
   ]
  },
  {
   "cell_type": "code",
   "execution_count": null,
   "metadata": {},
   "outputs": [],
   "source": [
    "# reset the total offset and use same range as above\n",
    "total_z_offset = 0.0"
   ]
  },
  {
   "cell_type": "code",
   "execution_count": null,
   "metadata": {},
   "outputs": [],
   "source": [
    "# offset to one end of the range\n",
    "await script.atcs.rem.ataos.cmd_offset.set_start(z=starting_z_offset)\n",
    "\n",
    "total_z_offset += starting_z_offset\n",
    "print(f\"Total z offset = {total_z_offset}\")\n",
    "await asyncio.sleep(2)\n",
    "\n",
    "# Now loop over the steps\n",
    "for i in range(nsteps):\n",
    "    await script.latiss.take_object(20.0, 1, filter='SDSSg')\n",
    "    await script.atcs.rem.ataos.cmd_offset.set_start(z=z_offset_increment)\n",
    "    total_z_offset += z_offset_increment\n",
    "    print(f\"Total z offset = {total_z_offset}\")\n",
    "\n",
    "# Put offset back where it was\n",
    "await script.atcs.rem.ataos.cmd_offset.set_start(z=-total_z_offset)\n",
    "total_z_offset -= total_z_offset\n",
    "print(f\"Total z offset = {total_z_offset}\")"
   ]
  },
  {
   "cell_type": "code",
   "execution_count": null,
   "metadata": {},
   "outputs": [],
   "source": [
    "## Check that current offset is equal to the original\n",
    "current_focus_offset = await atcs.rem.ataos.evt_focusOffsetSummary.aget()\n",
    "assert current_focus_offset == original_focus_offset, 'Now back in focus!'"
   ]
  },
  {
   "cell_type": "code",
   "execution_count": null,
   "metadata": {},
   "outputs": [],
   "source": []
  },
  {
   "cell_type": "code",
   "execution_count": null,
   "metadata": {},
   "outputs": [],
   "source": []
  },
  {
   "cell_type": "markdown",
   "metadata": {},
   "source": [
    "## Take series of images with varying hexapod offsets in Z"
   ]
  },
  {
   "cell_type": "code",
   "execution_count": null,
   "metadata": {},
   "outputs": [],
   "source": [
    "# Take in-focus image and make sure there are numerous un-saturated stars\n",
    "# dz = 0.\n",
    "test_image = await latiss.take_engtest(exptime=10, n=1, filter='SDSSg',grating='empty_1')\n",
    "print ('Pointing test_image 9th mag= ' + str(test_image))"
   ]
  },
  {
   "cell_type": "code",
   "execution_count": null,
   "metadata": {},
   "outputs": [],
   "source": [
    "science_image = await latiss.take_engtest(exptime=10, n=11, filter='SDSSg',grating='empty_1')\n",
    "print ('dz = 0 mm = ' + str(science_image))"
   ]
  },
  {
   "cell_type": "code",
   "execution_count": null,
   "metadata": {},
   "outputs": [],
   "source": [
    "# dz = 0.5 mm. \n",
    "await atcs.rem.ataos.cmd_offset.set_start(z=0.5)\n",
    "science_image = await latiss.take_engtest(exptime=10, n=11, filter='SDSSg',grating='empty_1')\n",
    "print ('dz = 0.5 mm = ' + str(science_image))"
   ]
  },
  {
   "cell_type": "code",
   "execution_count": null,
   "metadata": {},
   "outputs": [],
   "source": [
    "# dz = 1 mm. \n",
    "await atcs.rem.ataos.cmd_offset.set_start(z=0.5)\n",
    "science_image = await latiss.take_engtest(exptime=30, n=9, filter='SDSSg',grating='empty_1')\n",
    "print ('dz = 1 mm = ' + str(science_image))"
   ]
  },
  {
   "cell_type": "code",
   "execution_count": null,
   "metadata": {},
   "outputs": [],
   "source": [
    "# dz = 2 mm. \n",
    "await atcs.rem.ataos.cmd_offset.set_start(z=1)\n",
    "science_image = await latiss.take_engtest(exptime=120, n=5, filter='SDSSg',grating='empty_1')\n",
    "print ('dz = 2 mm = ' + str(science_image))"
   ]
  },
  {
   "cell_type": "markdown",
   "metadata": {},
   "source": [
    "## Slew to a brighter star 6th magnitude\n",
    "#### This is required to get higher SNR in the larger donuts"
   ]
  },
  {
   "cell_type": "code",
   "execution_count": null,
   "metadata": {},
   "outputs": [],
   "source": [
    "# target_name = await atcs.find_target(160,60,mag_limit=6.0)\n",
    "target_name = \"HR 58\"  # mag=6.45 , another option is HIP122 (mag 4.75, but less dense field)\n",
    "print(target_name)"
   ]
  },
  {
   "cell_type": "code",
   "execution_count": null,
   "metadata": {},
   "outputs": [],
   "source": [
    "test_image = await latiss.take_engtest(exptime=10, n=1, filter='SDSSg',grating='empty_1')\n",
    "print ('Pointing test_image 6th mag= ' + str(test_image))"
   ]
  },
  {
   "cell_type": "code",
   "execution_count": null,
   "metadata": {},
   "outputs": [],
   "source": [
    "# dz = 3 mm. \n",
    "await atcs.rem.ataos.cmd_offset.set_start(z=1)\n",
    "science_image = await latiss.take_engtest(exptime=10, n=11, filter='SDSSg',grating='empty_1')\n",
    "print ('dz = 3 mm = ' + str(science_image))"
   ]
  },
  {
   "cell_type": "code",
   "execution_count": null,
   "metadata": {},
   "outputs": [],
   "source": [
    "# dz = 6 mm. \n",
    "await atcs.rem.ataos.cmd_offset.set_start(z=3)\n",
    "science_image = await latiss.take_engtest(exptime=30, n=9, filter='SDSSg',grating='empty_1')\n",
    "print ('dz = 6 mm = ' + str(science_image))"
   ]
  },
  {
   "cell_type": "code",
   "execution_count": null,
   "metadata": {},
   "outputs": [],
   "source": [
    "# dz = 8 mm. \n",
    "await atcs.rem.ataos.cmd_offset.set_start(z=2)\n",
    "science_image = await latiss.take_engtest(exptime=120, n=5, filter='SDSSg',grating='empty_1')\n",
    "print ('dz = 8 mm = ' + str(science_image))"
   ]
  },
  {
   "cell_type": "code",
   "execution_count": null,
   "metadata": {},
   "outputs": [],
   "source": [
    "# Clear offsets in x and z \n",
    "await atcs.rem.ataos.cmd_offset.set_start(x=-1.5)\n",
    "await atcs.rem.ataos.cmd_offset.set_start(z=-8)"
   ]
  }
 ],
 "metadata": {
  "kernelspec": {
   "display_name": "LSST",
   "language": "python",
   "name": "lsst"
  },
  "language_info": {
   "codemirror_mode": {
    "name": "ipython",
    "version": 3
   },
   "file_extension": ".py",
   "mimetype": "text/x-python",
   "name": "python",
   "nbconvert_exporter": "python",
   "pygments_lexer": "ipython3",
   "version": "3.8.8"
  }
 },
 "nbformat": 4,
 "nbformat_minor": 4
}
