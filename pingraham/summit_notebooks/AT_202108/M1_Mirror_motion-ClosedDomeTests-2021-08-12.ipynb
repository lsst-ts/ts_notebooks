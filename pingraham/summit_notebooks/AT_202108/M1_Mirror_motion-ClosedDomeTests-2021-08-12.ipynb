{
 "cells": [
  {
   "cell_type": "code",
   "execution_count": null,
   "id": "21f94d96",
   "metadata": {},
   "outputs": [],
   "source": [
    "# This notebooks looks at primary mirror motion as a function of elevation \n",
    "# This is used to check against mirror motion\n",
    "# this notebook is really meant to test the new LUT that was derived \n",
    "# m1_hex_20210810_v3.yaml:v0.8.2.alpha.2-0-g72c6e32\n",
    "\n",
    "# PI: 2021-08-25 - it's unclear what this notebook was used for.\n",
    "# It appears something odd happened."
   ]
  },
  {
   "cell_type": "code",
   "execution_count": null,
   "id": "8b4e44d6",
   "metadata": {},
   "outputs": [],
   "source": [
    "import asyncio \n",
    "import matplotlib\n",
    "\n",
    "import numpy as np\n",
    "import pandas as pd\n",
    "\n",
    "from matplotlib import pylab as plt\n",
    "from astropy.time import Time, TimeDelta\n",
    "from lsst_efd_client import EfdClient, rendezvous_dataframes"
   ]
  },
  {
   "cell_type": "code",
   "execution_count": null,
   "id": "8baffa9b",
   "metadata": {},
   "outputs": [],
   "source": [
    "%matplotlib inline"
   ]
  },
  {
   "cell_type": "code",
   "execution_count": null,
   "id": "476e6133",
   "metadata": {},
   "outputs": [],
   "source": [
    "#efd_client = EfdClient('summit_efd')\n",
    "efd_client = EfdClient('ldf_stable_efd') "
   ]
  },
  {
   "cell_type": "markdown",
   "id": "466a00bb",
   "metadata": {},
   "source": [
    "Query for all the `endReadout` events on the timespan of the night, elevation, and pmd data"
   ]
  },
  {
   "cell_type": "code",
   "execution_count": null,
   "id": "12520ab3",
   "metadata": {},
   "outputs": [],
   "source": [
    "date='20210812'\n",
    "test='m1_pressure_reduction_closed_dome'\n",
    "run='initial'\n",
    "\n",
    "if run == 'initial': \n",
    "# Starting Test1, Nominal LUT from m1_hex_20210810_v3.yaml:v0.8.2.alpha.2-0-g72c6e32\n",
    "# start time is 2021-08-12T21:01:52.999\n",
    "    t1 = Time(\"2021-08-12T21:01:52.999\", format='isot', scale='tai')\n",
    "    t2 = Time(\"2021-08-12T21:08:33.495\", format='isot', scale='tai')\n",
    "    scale_factor=1.0\n",
    "    start_log_msg = '[2021-07-08_Repeat_Focus_Test_START]'\n",
    "    finish_log_msg = '[2021-07-08_Repeat_Focus_Test_END]'\n",
    "elif run == 'test2':\n",
    "# Starting Test2, LUT offset by 1211.6539141845715 and is now 122385.77740478516\n",
    "# start time is 2021-08-12T21:21:00.763\n",
    "    t1 = Time(\"2021-08-12T21:21:00.763\", format='isot', scale='tai')\n",
    "    t2 = Time(\"2021-08-12T21:28:08.745\", format='isot', scale='tai')\n",
    "    scale_factor=1.01\n",
    "else:\n",
    "    raise IOError('Not a valid input')"
   ]
  },
  {
   "cell_type": "code",
   "execution_count": null,
   "id": "7d5644e2",
   "metadata": {},
   "outputs": [],
   "source": []
  },
  {
   "cell_type": "code",
   "execution_count": null,
   "id": "3f2938ff",
   "metadata": {},
   "outputs": [],
   "source": [
    "# # # day of 2021-07-08 - Test3 run with scalefactor = 1.02  - not sure this was great, so redid it\n",
    "# t1 = Time(\"2021-08-09T16:42:32.166\", format='isot', scale='tai')\n",
    "# t2 = Time(\"2021-08-09T16:48:41.015\", format='isot', scale='tai')"
   ]
  },
  {
   "cell_type": "code",
   "execution_count": null,
   "id": "70d6a480",
   "metadata": {},
   "outputs": [],
   "source": [
    "# # # day of 2021-07-08 - Test4 run with scalefactor = 1.04 - ignore, redoing\n",
    "# t1 = Time(\"2021-08-09T16:50:24.872\", format='isot', scale='tai')\n",
    "# t2 = Time(\"2021-08-09T16:59:24.872\", format='isot', scale='tai')"
   ]
  },
  {
   "cell_type": "code",
   "execution_count": null,
   "id": "a06f6a40",
   "metadata": {},
   "outputs": [],
   "source": [
    "# # day of 2021-07-08 - Test4 (didn't increment) run with scalefactor = 1.06 = BAD - Sensor dropped out\n",
    "# t1 = Time(\"2021-08-09T16:59:24.872\", format='isot', scale='tai')\n",
    "# t2 = Time(\"2021-08-09T17:05:32.895\", format='isot', scale='tai')"
   ]
  },
  {
   "cell_type": "code",
   "execution_count": null,
   "id": "6bfac3ee",
   "metadata": {},
   "outputs": [],
   "source": [
    "base0 = await efd_client.select_time_series(\"lsst.sal.Script.logevent_logMessage\", \n",
    "                                           [\"message\",\"level\"], t1, t2)\n",
    "base0"
   ]
  },
  {
   "cell_type": "code",
   "execution_count": null,
   "id": "8fa076e7",
   "metadata": {},
   "outputs": [],
   "source": [
    "t1"
   ]
  },
  {
   "cell_type": "code",
   "execution_count": null,
   "id": "17347ba8",
   "metadata": {},
   "outputs": [],
   "source": [
    "base=base0"
   ]
  },
  {
   "cell_type": "code",
   "execution_count": null,
   "id": "f601c9b9",
   "metadata": {},
   "outputs": [],
   "source": [
    "el = await efd_client.select_packed_time_series(\"lsst.sal.ATMCS.mount_AzEl_Encoders\", [\"elevationCalculatedAngle1\", ], t1, t2)\n",
    "# mount reporting incorrect timestamp for the packed time series\n",
    "el.index=el.index+pd.tseries.offsets.DateOffset(seconds=-37)"
   ]
  },
  {
   "cell_type": "code",
   "execution_count": null,
   "id": "5e71b27d",
   "metadata": {},
   "outputs": [],
   "source": [
    "el = await efd_client.select_packed_time_series(\"lsst.sal.ATMCS.mount_AzEl_Encoders\", [\"elevationCalculatedAngle1\", ], t1, t2)"
   ]
  },
  {
   "cell_type": "code",
   "execution_count": null,
   "id": "0ffafa8f",
   "metadata": {},
   "outputs": [],
   "source": [
    "pmd = await efd_client.select_time_series(\"lsst.sal.PMD.position\", [\"position0\", \"position1\", \"position2\", \"position3\", \"position4\", \"position5\"], t1, t2)"
   ]
  },
  {
   "cell_type": "code",
   "execution_count": null,
   "id": "ef7f0596",
   "metadata": {},
   "outputs": [],
   "source": [
    "pressure = await efd_client.select_time_series(\"lsst.sal.ATPneumatics.m1AirPressure\", [\"pressure\"], t1, t2)"
   ]
  },
  {
   "cell_type": "code",
   "execution_count": null,
   "id": "9cac268f",
   "metadata": {},
   "outputs": [],
   "source": [
    "#base"
   ]
  },
  {
   "cell_type": "code",
   "execution_count": null,
   "id": "6c034e47",
   "metadata": {},
   "outputs": [],
   "source": [
    "tmp = rendezvous_dataframes(base, el)"
   ]
  },
  {
   "cell_type": "code",
   "execution_count": null,
   "id": "dcb3f39a",
   "metadata": {},
   "outputs": [],
   "source": [
    "tmp2= rendezvous_dataframes(tmp, pmd)\n",
    "tmp3= rendezvous_dataframes(tmp2, pressure)\n",
    "raw_data = tmp3"
   ]
  },
  {
   "cell_type": "code",
   "execution_count": null,
   "id": "cfdc4e58",
   "metadata": {},
   "outputs": [],
   "source": [
    "position0_offset = (raw_data.position0[0])\n",
    "position1_offset = (raw_data.position1[0])\n",
    "position2_offset = (raw_data.position2[0])\n",
    "position3_offset = (raw_data.position3[0])\n",
    "position5_offset = (raw_data.position5[0]) # gauge got moved to position 5"
   ]
  },
  {
   "cell_type": "code",
   "execution_count": null,
   "id": "77feac2c",
   "metadata": {},
   "outputs": [],
   "source": [
    "raw_data=raw_data.drop_duplicates(subset=['elevationCalculatedAngle1','message','pressure'])\n",
    "print(raw_data[['elevationCalculatedAngle1','pressure']])"
   ]
  },
  {
   "cell_type": "code",
   "execution_count": null,
   "id": "3a807007",
   "metadata": {},
   "outputs": [],
   "source": [
    "raw_data"
   ]
  },
  {
   "cell_type": "code",
   "execution_count": null,
   "id": "e312cc73",
   "metadata": {},
   "outputs": [],
   "source": [
    "# from scipy import linalg\n",
    "arr_len = len(raw_data.position0)\n",
    "coeff_arr = np.zeros((arr_len,3))\n",
    "theta_arr = np.zeros((arr_len))\n",
    "phi_arr = np.zeros((arr_len))\n",
    "piston_arr = np.zeros((arr_len))\n",
    "for i in np.arange(arr_len):\n",
    "    # X, Y, Z\n",
    "    set2=np.array((  41.0, 468.0, (raw_data.position2[i]-position2_offset)))\n",
    "    set3=np.array(( 384.0,-269.0, (raw_data.position3[i]-position3_offset)))\n",
    "    set4=np.array((-425.0,-198.0, (raw_data.position5[i]-position5_offset)))\n",
    "\n",
    "    # Vector PQ crossed with Vector PR\n",
    "    normal = np.cross(set3-set2,set4-set2) # gives a,b,c\n",
    "\n",
    "    D= -normal[0]*set2[0] - normal[1]*set2[1] - normal[2]*set2[2]  # Constant in plane equation\n",
    "    # equation \n",
    "    \n",
    "    phi_from_normal = (np.pi/2+np.arctan2(normal[2], normal[1])) * 206265\n",
    "    theta_from_normal = (np.pi/2+np.arctan2(normal[2], normal[0])) * 206265\n",
    "    # find z at the origin to represent piston\n",
    "    Z_origin = -D/normal[2]\n",
    "    \n",
    "    # Measure rotation about the Y-axis (perpendicular to elevation)\n",
    "    # So this is TIP and should result in motion in azimuth\n",
    "    # get slope by looking at Y=0, X=400\n",
    "    x_pt=400; y_pt=0\n",
    "    #Z_at_x_pt= C[0]*x_pt + C[1]*0.0 + C[2]\n",
    "    Z_at_x_pt= (-D - normal[0]*x_pt - normal[1]*0.0)/normal[2]\n",
    "    theta = np.arctan2(Z_at_x_pt-Z_origin, x_pt) * 206265 # arcsec\n",
    "        \n",
    "    # Measure rotation about the X-axis (aligned to elevation)\n",
    "    # this is TILT and should result in motion in elevation\n",
    "    # get slope by looking at Y=0, X=400    \n",
    "    x_pt=0; y_pt=400\n",
    "    Z_at_y_pt= (-D - normal[0]*x_pt - normal[1]*y_pt)/normal[2]\n",
    "    phi = np.arctan2(Z_at_y_pt-Z_origin, y_pt) * 206265 # arcsec\n",
    "\n",
    "    theta_arr[i] = theta # arcsec\n",
    "    phi_arr[i] = phi    # arcsec\n",
    "    piston_arr[i] = Z_origin\n",
    "    \n",
    "#     print(f'theta_from_normal is {theta_from_normal:0.2f}, phi_from_normal is {phi_from_normal:0.2f}')\n",
    "#     print(f'theta_arr is {theta_arr[i]:0.2f} [arcsec], phi_arr is {phi_arr[i]:0.2f} [arcsec]')"
   ]
  },
  {
   "cell_type": "code",
   "execution_count": null,
   "id": "4efbf407",
   "metadata": {},
   "outputs": [],
   "source": [
    "import copy\n",
    "calc_data=copy.copy(raw_data)\n",
    "calc_data['m1_tip']=theta_arr\n",
    "calc_data['m1_tilt']=phi_arr\n",
    "calc_data['m1_piston']=piston_arr\n",
    "\n",
    "calc_data['m1_y_pos']=(raw_data.position0-position0_offset)*np.cos(10*np.pi/180)\n",
    "calc_data['m1_x_pos']=(raw_data.position1-position1_offset)*np.cos(10*np.pi/180)"
   ]
  },
  {
   "cell_type": "code",
   "execution_count": null,
   "id": "7cd97b55",
   "metadata": {},
   "outputs": [],
   "source": [
    "calc_data"
   ]
  },
  {
   "cell_type": "code",
   "execution_count": null,
   "id": "55b3192e",
   "metadata": {},
   "outputs": [],
   "source": [
    "#write data to disk\n",
    "filename=\"data/\"+date+'_'+test+\"_\"+run+\"_metadata.csv\"\n",
    "calc_data.to_csv(filename)"
   ]
  },
  {
   "cell_type": "code",
   "execution_count": null,
   "id": "b742607e",
   "metadata": {},
   "outputs": [],
   "source": [
    "fig_height=5\n",
    "fig_width=10\n",
    "nwide=2; nhigh=3\n",
    "fig, (row1,row2,row3) = plt.subplots(nhigh, nwide, figsize=(nwide+fig_width, nhigh*fig_height))\n",
    "fig.suptitle('Rows are')\n",
    "xvals = (calc_data.m1_x_pos) # um\n",
    "yvals = calc_data.elevationCalculatedAngle1\n",
    "\n",
    "row1[0].plot(xvals, yvals, 'o-')\n",
    "row1[0].set_ylabel('Elevation [deg]')\n",
    "row1[0].set_xlabel('M1 X-position [mm]')\n",
    "\n",
    "xvals = (calc_data.m1_tip) # um\n",
    "row1[1].plot(xvals, yvals, 'o-')\n",
    "row1[1].set_xlabel('M1 tip [arcsec]')\n",
    "\n",
    "xvals = (calc_data.m1_y_pos) # mm\n",
    "row2[0].plot(xvals, yvals, 'o-')\n",
    "row2[0].set_ylabel('Elevation [deg]')\n",
    "row2[0].set_xlabel('M1 X-position [mm]')\n",
    "\n",
    "xvals = (calc_data.m1_tilt) # um\n",
    "row2[1].plot(xvals, yvals, 'o-')\n",
    "row2[1].set_xlabel('M1 tilt [arcsec]')\n",
    "\n",
    "xvals = (calc_data.m1_piston) # mm\n",
    "row3[0].plot(xvals, yvals, 'o-')\n",
    "row3[0].set_ylabel('Elevation [deg]')\n",
    "row3[0].set_xlabel('M1 Z-position [mm]')\n",
    "\n",
    "xvals = (calc_data.pressure) # mm\n",
    "row3[1].plot(xvals, yvals, 'o-')\n",
    "row3[1].set_ylabel('Elevation [deg]')\n",
    "row3[1].set_xlabel('Pressure [Pa]')"
   ]
  },
  {
   "cell_type": "code",
   "execution_count": null,
   "id": "1545ffeb",
   "metadata": {},
   "outputs": [],
   "source": []
  },
  {
   "cell_type": "code",
   "execution_count": null,
   "id": "ccae160d",
   "metadata": {},
   "outputs": [],
   "source": [
    "# with pd.option_context('display.max_rows', None, 'display.max_columns', None):  # more options can be specified also\n",
    "#     hex_elevation"
   ]
  },
  {
   "cell_type": "code",
   "execution_count": null,
   "id": "3cb082fe",
   "metadata": {},
   "outputs": [],
   "source": []
  }
 ],
 "metadata": {
  "kernelspec": {
   "display_name": "LSST",
   "language": "python",
   "name": "lsst"
  },
  "language_info": {
   "codemirror_mode": {
    "name": "ipython",
    "version": 3
   },
   "file_extension": ".py",
   "mimetype": "text/x-python",
   "name": "python",
   "nbconvert_exporter": "python",
   "pygments_lexer": "ipython3",
   "version": "3.8.8"
  }
 },
 "nbformat": 4,
 "nbformat_minor": 5
}
