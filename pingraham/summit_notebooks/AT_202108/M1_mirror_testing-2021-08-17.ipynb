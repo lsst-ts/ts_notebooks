{
 "cells": [
  {
   "cell_type": "code",
   "execution_count": null,
   "id": "160fbe62",
   "metadata": {},
   "outputs": [],
   "source": [
    "# This notebook performs telescope motion tests in elevation and looks at how the mirror position changes as per the measurements by the PMD\n",
    "# This is to verify the new M1 LUT (released in v0.8.2.alpha.2)"
   ]
  },
  {
   "cell_type": "code",
   "execution_count": null,
   "id": "9d5dbbb2",
   "metadata": {},
   "outputs": [],
   "source": [
    "import sys\n",
    "import asyncio\n",
    "import time\n",
    "import os\n",
    "\n",
    "import numpy as np\n",
    "\n",
    "from lsst.ts import salobj\n",
    "\n",
    "from lsst.ts.observatory.control.auxtel.atcs import ATCS\n",
    "from lsst.ts.observatory.control.auxtel.latiss import LATISS\n",
    "\n",
    "\n",
    "from lsst.ts.observatory.control.utils import RotType\n",
    "import logging"
   ]
  },
  {
   "cell_type": "code",
   "execution_count": null,
   "id": "05658d9c",
   "metadata": {},
   "outputs": [],
   "source": [
    "from astropy.time import Time, TimeDelta"
   ]
  },
  {
   "cell_type": "code",
   "execution_count": null,
   "id": "c0209558",
   "metadata": {},
   "outputs": [],
   "source": [
    "# for tab completion to work\n",
    "%config IPCompleter.use_jedi = False"
   ]
  },
  {
   "cell_type": "code",
   "execution_count": null,
   "id": "4b76a174",
   "metadata": {},
   "outputs": [],
   "source": [
    "stream_handler = logging.StreamHandler(sys.stdout)\n",
    "logger = logging.getLogger()\n",
    "logger.addHandler(stream_handler)\n",
    "logger.level = logging.DEBUG"
   ]
  },
  {
   "cell_type": "code",
   "execution_count": null,
   "id": "9464eeac",
   "metadata": {},
   "outputs": [],
   "source": [
    "print(os.environ[\"OSPL_URI\"])\n",
    "print(os.environ[\"LSST_DDS_PARTITION_PREFIX\"])"
   ]
  },
  {
   "cell_type": "code",
   "execution_count": null,
   "id": "c74c0121",
   "metadata": {},
   "outputs": [],
   "source": [
    "domain = salobj.Domain()"
   ]
  },
  {
   "cell_type": "code",
   "execution_count": null,
   "id": "8d8132b5",
   "metadata": {},
   "outputs": [],
   "source": [
    "atcs = ATCS(domain)\n",
    "# latiss = LATISS(domain)\n",
    "# await asyncio.gather(atcs.start_task, latiss.start_task)\n",
    "await asyncio.gather(atcs.start_task)"
   ]
  },
  {
   "cell_type": "code",
   "execution_count": null,
   "id": "e611f5ea",
   "metadata": {},
   "outputs": [],
   "source": []
  },
  {
   "cell_type": "code",
   "execution_count": null,
   "id": "b1c89f6e",
   "metadata": {},
   "outputs": [],
   "source": [
    "await atcs.enable()"
   ]
  },
  {
   "cell_type": "code",
   "execution_count": null,
   "id": "fc78ae01",
   "metadata": {},
   "outputs": [],
   "source": [
    "atcs.check.atdome=False\n",
    "atcs.check.atdometrajectory=False"
   ]
  },
  {
   "cell_type": "code",
   "execution_count": null,
   "id": "287311fc",
   "metadata": {},
   "outputs": [],
   "source": [
    "tmp=await salobj.set_summary_state(atcs.rem.athexapod, salobj.State.ENABLED, settingsToApply='current', timeout=30)\n",
    "print(tmp)"
   ]
  },
  {
   "cell_type": "code",
   "execution_count": null,
   "id": "4dc30ace",
   "metadata": {},
   "outputs": [],
   "source": [
    "tmp=await salobj.set_summary_state(atcs.rem.atdometrajectory, salobj.State.STANDBY, settingsToApply='', timeout=30)\n",
    "print(tmp)"
   ]
  },
  {
   "cell_type": "code",
   "execution_count": null,
   "id": "35bf332b",
   "metadata": {},
   "outputs": [],
   "source": []
  },
  {
   "cell_type": "code",
   "execution_count": null,
   "id": "0f7149ce",
   "metadata": {},
   "outputs": [],
   "source": [
    "tmp=await atcs.rem.ataos.evt_settingsApplied.aget()\n",
    "print(tmp)"
   ]
  },
  {
   "cell_type": "markdown",
   "id": "3ca3a706",
   "metadata": {},
   "source": [
    "### bring the PMDs online"
   ]
  },
  {
   "cell_type": "code",
   "execution_count": null,
   "id": "505c250b",
   "metadata": {},
   "outputs": [],
   "source": [
    "pmd_remote = salobj.Remote(name=\"PMD\", domain=domain, index=1)\n",
    "await pmd_remote.start_task"
   ]
  },
  {
   "cell_type": "code",
   "execution_count": null,
   "id": "9fc4b41a",
   "metadata": {},
   "outputs": [],
   "source": [
    "tmp = await pmd_remote.evt_heartbeat.next(flush=True,timeout=15)\n",
    "print(tmp)"
   ]
  },
  {
   "cell_type": "code",
   "execution_count": null,
   "id": "c09cbfa8",
   "metadata": {},
   "outputs": [],
   "source": [
    "tmp = await pmd_remote.cmd_setLogLevel.set_start(level=10)"
   ]
  },
  {
   "cell_type": "code",
   "execution_count": null,
   "id": "9c44ddd4",
   "metadata": {},
   "outputs": [],
   "source": [
    "tmp = await pmd_remote.evt_summaryState.aget(timeout=15)\n",
    "print(salobj.State(tmp.summaryState))"
   ]
  },
  {
   "cell_type": "code",
   "execution_count": null,
   "id": "3b856303",
   "metadata": {},
   "outputs": [],
   "source": [
    "tmp=await salobj.set_summary_state(pmd_remote, salobj.State.ENABLED, settingsToApply='current', timeout=30)\n",
    "print(tmp)"
   ]
  },
  {
   "cell_type": "code",
   "execution_count": null,
   "id": "21f667bd",
   "metadata": {},
   "outputs": [],
   "source": [
    "tmp = await pmd_remote.tel_position.next(flush=True, timeout=25)\n",
    "print(tmp.position)"
   ]
  },
  {
   "cell_type": "code",
   "execution_count": null,
   "id": "0ab325cd",
   "metadata": {},
   "outputs": [],
   "source": []
  },
  {
   "cell_type": "markdown",
   "id": "c27ab20c",
   "metadata": {},
   "source": [
    "### Setup the script to write log messages\n",
    "#### note that the index cannot be used anywhere else!"
   ]
  },
  {
   "cell_type": "code",
   "execution_count": null,
   "id": "c1737cc3",
   "metadata": {},
   "outputs": [],
   "source": [
    "#start the controller to write script messages and grab the domain\n",
    "index = os.getuid()*100+np.random.randint(0,10)\n",
    "print(f'Starting controller using ID = {index}')\n",
    "c = salobj.Controller(name=\"Script\", index=index)"
   ]
  },
  {
   "cell_type": "code",
   "execution_count": null,
   "id": "74b8f1e7",
   "metadata": {},
   "outputs": [],
   "source": [
    "c.log.setLevel(logging.DEBUG)"
   ]
  },
  {
   "cell_type": "code",
   "execution_count": null,
   "id": "7bf3eac5",
   "metadata": {},
   "outputs": [],
   "source": [
    "c.log.info('Patrick Testing INFO level ') # only "
   ]
  },
  {
   "cell_type": "code",
   "execution_count": null,
   "id": "f2a3e52a",
   "metadata": {},
   "outputs": [],
   "source": [
    "az=0; el=80\n",
    "c.log.info(f'az,el,pos0,pos1,pos2,pos3,pos4 = {az}, {el}, {tmp.position[0]}, {tmp.position[1]}, {tmp.position[2]}, {tmp.position[3]}, {tmp.position[5]}')"
   ]
  },
  {
   "cell_type": "code",
   "execution_count": null,
   "id": "f3adc58c",
   "metadata": {},
   "outputs": [],
   "source": []
  },
  {
   "cell_type": "code",
   "execution_count": null,
   "id": "770f99d9",
   "metadata": {},
   "outputs": [],
   "source": [
    "# Turn on ataos M1 correction, have to turn on hexapod as well due to a bug\n",
    "await atcs.rem.ataos.cmd_enableCorrection.set_start(m1=True, hexapod=True, atspectrograph=False)"
   ]
  },
  {
   "cell_type": "code",
   "execution_count": null,
   "id": "934be098",
   "metadata": {},
   "outputs": [],
   "source": [
    "#verify which is enabled\n",
    "tmp=await atcs.rem.ataos.evt_correctionEnabled.aget()\n",
    "print(tmp)"
   ]
  },
  {
   "cell_type": "code",
   "execution_count": null,
   "id": "dc03f3eb",
   "metadata": {},
   "outputs": [],
   "source": [
    "el_samples2 = np.arange(16,83,7)\n",
    "el_samples1 = np.arange(83,16,-7)"
   ]
  },
  {
   "cell_type": "code",
   "execution_count": null,
   "id": "4d284fb2",
   "metadata": {},
   "outputs": [],
   "source": [
    "# print(el_samples1)\n",
    "# print(el_samples2)"
   ]
  },
  {
   "cell_type": "code",
   "execution_count": null,
   "id": "e68ea0b3",
   "metadata": {},
   "outputs": [],
   "source": [
    "el_samples=np.concatenate((el_samples1, el_samples2))"
   ]
  },
  {
   "cell_type": "code",
   "execution_count": null,
   "id": "1100de48",
   "metadata": {},
   "outputs": [],
   "source": [
    "el_samples"
   ]
  },
  {
   "cell_type": "code",
   "execution_count": null,
   "id": "e9799c60",
   "metadata": {},
   "outputs": [],
   "source": [
    "atcs.check.atdome=False\n",
    "atcs.check.atdometrajectory=False"
   ]
  },
  {
   "cell_type": "code",
   "execution_count": null,
   "id": "e42ba7f8",
   "metadata": {},
   "outputs": [],
   "source": [
    "# put telescope to starting position\n",
    "await atcs.point_azel(az=az, el=el_samples[0])"
   ]
  },
  {
   "cell_type": "code",
   "execution_count": null,
   "id": "6b491ea1",
   "metadata": {},
   "outputs": [],
   "source": [
    "# saw something quirky in the previous dataset where pressures were measured that were way outside the range while at low elevation"
   ]
  },
  {
   "cell_type": "code",
   "execution_count": null,
   "id": "83178f39",
   "metadata": {},
   "outputs": [],
   "source": [
    "await atcs.rem.ataos.cmd_resetOffset.set_start(axis='m1')"
   ]
  },
  {
   "cell_type": "code",
   "execution_count": null,
   "id": "9ca4650b",
   "metadata": {},
   "outputs": [],
   "source": [
    "#verify which is enabled\n",
    "tmp=await atcs.rem.ataos.evt_correctionEnabled.aget()\n",
    "print(tmp)"
   ]
  },
  {
   "cell_type": "code",
   "execution_count": null,
   "id": "2ce86086",
   "metadata": {},
   "outputs": [],
   "source": [
    "az=0\n",
    "test_summary='Nominal LUT from m1_hex_20210810_v3.yaml:v0.8.2.alpha.2-0-g72c6e32, low elevation test'\n",
    "c.log.info(f'Starting {test_summary}')\n",
    "time=(Time(Time.now(), format='isot', scale='tai'))\n",
    "print(f'start time is {time}')\n",
    "for el in el_samples:\n",
    "    print(f'going to az={az}, el={el}')\n",
    "    await atcs.point_azel(az=az, el=el)\n",
    "    await asyncio.sleep(3)\n",
    "    # grab the positions\n",
    "    tmp = await pmd_remote.tel_position.next(flush=True, timeout=25)\n",
    "    c.log.info(f'az,el,pos0,pos1,pos2 = {az}, {el}, {tmp.position[0]}, {tmp.position[1]}, {tmp.position[2]}, {tmp.position[3]}, {tmp.position[5]}')\n",
    "    print(f'az,el,pos0,pos1,pos2 = {az}, {el}, {tmp.position[0]}, {tmp.position[1]}, {tmp.position[2]}, {tmp.position[3]}, {tmp.position[5]}')\n",
    "\n",
    "c.log.info(f'Finished dip sequence for elevations of {el_samples}')\n",
    "c.log.info(f'End of {test_summary}')\n",
    "time=(Time(Time.now(), format='isot', scale='tai'))\n",
    "print(f'Finish time is {time}')\n",
    "\n",
    "# Now go back up\n",
    "await atcs.point_azel(az=az, el=el_samples[0])"
   ]
  },
  {
   "cell_type": "code",
   "execution_count": null,
   "id": "a225d621",
   "metadata": {},
   "outputs": [],
   "source": []
  },
  {
   "cell_type": "code",
   "execution_count": null,
   "id": "88bb82db",
   "metadata": {},
   "outputs": [],
   "source": [
    "az=0\n",
    "test_summary='Test2, Nominal LUT from m1_hex_20210810_v3.yaml:v0.8.2.alpha.2-0-g72c6e32, low elevation test'\n",
    "c.log.info(f'Starting {test_summary}')\n",
    "time=(Time(Time.now(), format='isot', scale='tai'))\n",
    "print(f'start time is {time}')\n",
    "for el in el_samples:\n",
    "    print(f'going to az={az}, el={el}')\n",
    "    await atcs.point_azel(az=az, el=el)\n",
    "    await asyncio.sleep(3)\n",
    "    # grab the positions\n",
    "    tmp = await pmd_remote.tel_position.next(flush=True, timeout=25)\n",
    "    c.log.info(f'az,el,pos0,pos1,pos2 = {az}, {el}, {tmp.position[0]}, {tmp.position[1]}, {tmp.position[2]}, {tmp.position[3]}, {tmp.position[5]}')\n",
    "    print(f'az,el,pos0,pos1,pos2 = {az}, {el}, {tmp.position[0]}, {tmp.position[1]}, {tmp.position[2]}, {tmp.position[3]}, {tmp.position[5]}')\n",
    "\n",
    "c.log.info(f'Finished dip sequence for elevations of {el_samples}')\n",
    "c.log.info(f'End of {test_summary}')\n",
    "time=(Time(Time.now(), format='isot', scale='tai'))\n",
    "print(f'Finish time is {time}')\n",
    "\n",
    "# Now go back up\n",
    "await atcs.point_azel(az=az, el=el_samples[0])"
   ]
  },
  {
   "cell_type": "code",
   "execution_count": null,
   "id": "af9d710a",
   "metadata": {},
   "outputs": [],
   "source": []
  },
  {
   "cell_type": "code",
   "execution_count": null,
   "id": "92068288",
   "metadata": {},
   "outputs": [],
   "source": []
  },
  {
   "cell_type": "code",
   "execution_count": null,
   "id": "dd096d68",
   "metadata": {},
   "outputs": [],
   "source": [
    "el_samples2 = np.arange(25,83,7)\n",
    "el_samples1 = np.arange(83,25,-7)\n",
    "el_samples=np.concatenate((el_samples1, el_samples2))\n",
    "el_samples"
   ]
  },
  {
   "cell_type": "code",
   "execution_count": null,
   "id": "ad5930bb",
   "metadata": {},
   "outputs": [],
   "source": [
    "az=0\n",
    "test_summary='Test3, Nominal LUT from m1_hex_20210810_v3.yaml:v0.8.2.alpha.2-0-g72c6e32, low elevation test, minimum adjusted higher'\n",
    "c.log.info(f'Starting {test_summary}')\n",
    "time=(Time(Time.now(), format='isot', scale='tai'))\n",
    "print(f'start time is {time}')\n",
    "for el in el_samples:\n",
    "    print(f'going to az={az}, el={el}')\n",
    "    await atcs.point_azel(az=az, el=el)\n",
    "    await asyncio.sleep(3)\n",
    "    # grab the positions\n",
    "    tmp = await pmd_remote.tel_position.next(flush=True, timeout=25)\n",
    "    c.log.info(f'az,el,pos0,pos1,pos2 = {az}, {el}, {tmp.position[0]}, {tmp.position[1]}, {tmp.position[2]}, {tmp.position[3]}, {tmp.position[5]}')\n",
    "    print(f'az,el,pos0,pos1,pos2 = {az}, {el}, {tmp.position[0]}, {tmp.position[1]}, {tmp.position[2]}, {tmp.position[3]}, {tmp.position[5]}')\n",
    "\n",
    "c.log.info(f'Finished dip sequence for elevations of {el_samples}')\n",
    "c.log.info(f'End of {test_summary}')\n",
    "time=(Time(Time.now(), format='isot', scale='tai'))\n",
    "print(f'Finish time is {time}')\n",
    "\n",
    "# Now go back up\n",
    "await atcs.point_azel(az=az, el=el_samples[0])"
   ]
  },
  {
   "cell_type": "code",
   "execution_count": null,
   "id": "6559474f",
   "metadata": {},
   "outputs": [],
   "source": []
  },
  {
   "cell_type": "code",
   "execution_count": null,
   "id": "078a02ea",
   "metadata": {},
   "outputs": [],
   "source": [
    "el_samples2 = np.arange(30,83,7)\n",
    "el_samples1 = np.arange(83,30,-7)\n",
    "el_samples=np.concatenate((el_samples1, el_samples2))\n",
    "el_samples"
   ]
  },
  {
   "cell_type": "code",
   "execution_count": null,
   "id": "9c0c1239",
   "metadata": {},
   "outputs": [],
   "source": []
  },
  {
   "cell_type": "code",
   "execution_count": null,
   "id": "802f1a7a",
   "metadata": {},
   "outputs": [],
   "source": [
    "# Turn off ATAOS correction(s), without spectrograph (if the tests were skipped above)\n",
    "tmp = await atcs.rem.ataos.cmd_disableCorrection.set_start(m1=True, hexapod=True, atspectrograph=True)"
   ]
  },
  {
   "cell_type": "code",
   "execution_count": null,
   "id": "80b18d26",
   "metadata": {},
   "outputs": [],
   "source": [
    "# put mirror back on hardpoints\n",
    "await atcs.rem.atpneumatics.cmd_m1SetPressure.set_start(pressure=0)"
   ]
  },
  {
   "cell_type": "code",
   "execution_count": null,
   "id": "524a9a98",
   "metadata": {},
   "outputs": [],
   "source": [
    "# Turn on ATAOS correction(s), without spectrograph (if the tests were skipped above)\n",
    "# This should not ever fail.\n",
    "tmp = await atcs.rem.ataos.cmd_enableCorrection.set_start(m1=True, hexapod=True, atspectrograph=True)"
   ]
  },
  {
   "cell_type": "code",
   "execution_count": null,
   "id": "c6c4461b",
   "metadata": {},
   "outputs": [],
   "source": [
    "az=0\n",
    "test_summary='Test4, Nominal LUT from m1_hex_20210810_v3.yaml:v0.8.2.alpha.2-0-g72c6e32, low elevation test, minimum adjusted higher'\n",
    "c.log.info(f'Starting {test_summary}')\n",
    "time=(Time(Time.now(), format='isot', scale='tai'))\n",
    "print(f'start time is {time}')\n",
    "for el in el_samples:\n",
    "    print(f'going to az={az}, el={el}')\n",
    "    await atcs.point_azel(az=az, el=el)\n",
    "    await asyncio.sleep(3)\n",
    "    # grab the positions\n",
    "    tmp = await pmd_remote.tel_position.next(flush=True, timeout=25)\n",
    "    c.log.info(f'az,el,pos0,pos1,pos2 = {az}, {el}, {tmp.position[0]}, {tmp.position[1]}, {tmp.position[2]}, {tmp.position[3]}, {tmp.position[5]}')\n",
    "    print(f'az,el,pos0,pos1,pos2 = {az}, {el}, {tmp.position[0]}, {tmp.position[1]}, {tmp.position[2]}, {tmp.position[3]}, {tmp.position[5]}')\n",
    "    await asyncio.sleep(1)\n",
    "c.log.info(f'Finished dip sequence for elevations of {el_samples}')\n",
    "c.log.info(f'End of {test_summary}')\n",
    "time=(Time(Time.now(), format='isot', scale='tai'))\n",
    "print(f'Finish time is {time}')\n",
    "\n",
    "# Now go back up\n",
    "await atcs.point_azel(az=az, el=el_samples[0])"
   ]
  },
  {
   "cell_type": "code",
   "execution_count": null,
   "id": "7f8625a3",
   "metadata": {},
   "outputs": [],
   "source": []
  },
  {
   "cell_type": "code",
   "execution_count": null,
   "id": "43de7ef0",
   "metadata": {},
   "outputs": [],
   "source": []
  },
  {
   "cell_type": "code",
   "execution_count": null,
   "id": "492ecb55",
   "metadata": {},
   "outputs": [],
   "source": []
  },
  {
   "cell_type": "code",
   "execution_count": null,
   "id": "f2a7b2de",
   "metadata": {},
   "outputs": [],
   "source": []
  },
  {
   "cell_type": "code",
   "execution_count": null,
   "id": "96894327",
   "metadata": {},
   "outputs": [],
   "source": [
    "az=0\n",
    "test_summary='Test3, Nominal LUT from m1_hex_20210810_v3.yaml:v0.8.2.alpha.2-0-g72c6e32, low elevation test, minimum adjusted higher'\n",
    "c.log.info(f'Starting {test_summary}')\n",
    "time=(Time(Time.now(), format='isot', scale='tai'))\n",
    "print(f'start time is {time}')\n",
    "for el in el_samples:\n",
    "    print(f'going to az={az}, el={el}')\n",
    "    await atcs.point_azel(az=az, el=el)\n",
    "    await asyncio.sleep(3)\n",
    "    # grab the positions\n",
    "    tmp = await pmd_remote.tel_position.next(flush=True, timeout=25)\n",
    "    c.log.info(f'az,el,pos0,pos1,pos2 = {az}, {el}, {tmp.position[0]}, {tmp.position[1]}, {tmp.position[2]}, {tmp.position[3]}, {tmp.position[5]}')\n",
    "    print(f'az,el,pos0,pos1,pos2 = {az}, {el}, {tmp.position[0]}, {tmp.position[1]}, {tmp.position[2]}, {tmp.position[3]}, {tmp.position[5]}')\n",
    "\n",
    "c.log.info(f'Finished dip sequence for elevations of {el_samples}')\n",
    "c.log.info(f'End of {test_summary}')\n",
    "time=(Time(Time.now(), format='isot', scale='tai'))\n",
    "print(f'Finish time is {time}')\n",
    "\n",
    "# Now go back up\n",
    "await atcs.point_azel(az=az, el=el_samples[0])"
   ]
  },
  {
   "cell_type": "code",
   "execution_count": null,
   "id": "55035862",
   "metadata": {},
   "outputs": [],
   "source": []
  },
  {
   "cell_type": "code",
   "execution_count": null,
   "id": "a43cee3b",
   "metadata": {},
   "outputs": [],
   "source": []
  },
  {
   "cell_type": "code",
   "execution_count": null,
   "id": "e72f0e9c",
   "metadata": {},
   "outputs": [],
   "source": []
  },
  {
   "cell_type": "code",
   "execution_count": null,
   "id": "44d3c45a",
   "metadata": {},
   "outputs": [],
   "source": []
  },
  {
   "cell_type": "code",
   "execution_count": null,
   "id": "ad254143",
   "metadata": {},
   "outputs": [],
   "source": [
    "await atcs.stop_tracking()"
   ]
  },
  {
   "cell_type": "code",
   "execution_count": null,
   "id": "2156c8ab",
   "metadata": {},
   "outputs": [],
   "source": [
    "await atcs.rem.ataos.cmd_resetOffset.set_start(axis='m1')"
   ]
  },
  {
   "cell_type": "code",
   "execution_count": null,
   "id": "cb483d39",
   "metadata": {},
   "outputs": [],
   "source": [
    "atcs.check.atdome=True\n",
    "atcs.check.atdometrajectory=True"
   ]
  },
  {
   "cell_type": "code",
   "execution_count": null,
   "id": "bba08212",
   "metadata": {},
   "outputs": [],
   "source": [
    "await atcs.shutdown()"
   ]
  },
  {
   "cell_type": "code",
   "execution_count": null,
   "id": "4049582f",
   "metadata": {},
   "outputs": [],
   "source": []
  }
 ],
 "metadata": {
  "kernelspec": {
   "display_name": "LSST",
   "language": "python",
   "name": "lsst"
  },
  "language_info": {
   "codemirror_mode": {
    "name": "ipython",
    "version": 3
   },
   "file_extension": ".py",
   "mimetype": "text/x-python",
   "name": "python",
   "nbconvert_exporter": "python",
   "pygments_lexer": "ipython3",
   "version": "3.8.8"
  }
 },
 "nbformat": 4,
 "nbformat_minor": 5
}
