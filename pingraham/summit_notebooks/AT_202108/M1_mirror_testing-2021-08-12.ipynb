{
 "cells": [
  {
   "cell_type": "code",
   "execution_count": null,
   "id": "5cfdbb21",
   "metadata": {},
   "outputs": [],
   "source": [
    "# This notebook performs telescope motion tests in elevation and looks at how the mirror position changes as per the measurements by the PMD\n",
    "# This is to verify the new M1 LUT (released in v0.8.2.alpha.2)"
   ]
  },
  {
   "cell_type": "code",
   "execution_count": null,
   "id": "8f452aad",
   "metadata": {},
   "outputs": [],
   "source": [
    "import sys\n",
    "import asyncio\n",
    "import time\n",
    "import os\n",
    "\n",
    "import numpy as np\n",
    "\n",
    "from lsst.ts import salobj\n",
    "\n",
    "from lsst.ts.observatory.control.auxtel.atcs import ATCS\n",
    "from lsst.ts.observatory.control.auxtel.latiss import LATISS\n",
    "\n",
    "\n",
    "from lsst.ts.observatory.control.utils import RotType\n",
    "import logging"
   ]
  },
  {
   "cell_type": "code",
   "execution_count": null,
   "id": "c97dc898",
   "metadata": {},
   "outputs": [],
   "source": [
    "from astropy.time import Time, TimeDelta"
   ]
  },
  {
   "cell_type": "code",
   "execution_count": null,
   "id": "5c5d8b7e",
   "metadata": {},
   "outputs": [],
   "source": [
    "# for tab completion to work\n",
    "%config IPCompleter.use_jedi = False"
   ]
  },
  {
   "cell_type": "code",
   "execution_count": null,
   "id": "0f86a0cd",
   "metadata": {},
   "outputs": [],
   "source": [
    "stream_handler = logging.StreamHandler(sys.stdout)\n",
    "logger = logging.getLogger()\n",
    "logger.addHandler(stream_handler)\n",
    "logger.level = logging.DEBUG"
   ]
  },
  {
   "cell_type": "code",
   "execution_count": null,
   "id": "5bcf80f1",
   "metadata": {},
   "outputs": [],
   "source": [
    "print(os.environ[\"OSPL_URI\"])\n",
    "print(os.environ[\"LSST_DDS_PARTITION_PREFIX\"])"
   ]
  },
  {
   "cell_type": "code",
   "execution_count": null,
   "id": "a4364f62",
   "metadata": {},
   "outputs": [],
   "source": [
    "domain = salobj.Domain()"
   ]
  },
  {
   "cell_type": "code",
   "execution_count": null,
   "id": "664b7c90",
   "metadata": {},
   "outputs": [],
   "source": [
    "atcs = ATCS(domain)\n",
    "# latiss = LATISS(domain)\n",
    "# await asyncio.gather(atcs.start_task, latiss.start_task)\n",
    "await asyncio.gather(atcs.start_task)"
   ]
  },
  {
   "cell_type": "code",
   "execution_count": null,
   "id": "0a02404a",
   "metadata": {},
   "outputs": [],
   "source": []
  },
  {
   "cell_type": "code",
   "execution_count": null,
   "id": "6bc4948d",
   "metadata": {},
   "outputs": [],
   "source": [
    "await atcs.enable()"
   ]
  },
  {
   "cell_type": "code",
   "execution_count": null,
   "id": "07fdfd94",
   "metadata": {},
   "outputs": [],
   "source": [
    "atcs.check.atdome=False\n",
    "atcs.check.atdometrajectory=False"
   ]
  },
  {
   "cell_type": "code",
   "execution_count": null,
   "id": "5df17eaf",
   "metadata": {},
   "outputs": [],
   "source": [
    "tmp=await salobj.set_summary_state(atcs.rem.athexapod, salobj.State.ENABLED, settingsToApply='current', timeout=30)\n",
    "print(tmp)"
   ]
  },
  {
   "cell_type": "code",
   "execution_count": null,
   "id": "536722ff",
   "metadata": {},
   "outputs": [],
   "source": [
    "tmp=await salobj.set_summary_state(atcs.rem.atdometrajectory, salobj.State.STANDBY, settingsToApply='', timeout=30)\n",
    "print(tmp)"
   ]
  },
  {
   "cell_type": "code",
   "execution_count": null,
   "id": "c2a8617f",
   "metadata": {},
   "outputs": [],
   "source": [
    "tmp=await atcs.rem.ataos.evt_settingsApplied.aget()\n",
    "print(tmp)"
   ]
  },
  {
   "cell_type": "markdown",
   "id": "5a5e75e6",
   "metadata": {},
   "source": [
    "### bring the PMDs online"
   ]
  },
  {
   "cell_type": "code",
   "execution_count": null,
   "id": "44b5a56f",
   "metadata": {},
   "outputs": [],
   "source": [
    "pmd_remote = salobj.Remote(name=\"PMD\", domain=domain, index=1)\n",
    "await pmd_remote.start_task"
   ]
  },
  {
   "cell_type": "code",
   "execution_count": null,
   "id": "301a985e",
   "metadata": {},
   "outputs": [],
   "source": [
    "tmp = await pmd_remote.evt_heartbeat.next(flush=True,timeout=15)\n",
    "print(tmp)"
   ]
  },
  {
   "cell_type": "code",
   "execution_count": null,
   "id": "dfb4b210",
   "metadata": {},
   "outputs": [],
   "source": [
    "tmp = await pmd_remote.cmd_setLogLevel.set_start(level=10)"
   ]
  },
  {
   "cell_type": "code",
   "execution_count": null,
   "id": "1e4d58e7",
   "metadata": {},
   "outputs": [],
   "source": [
    "tmp = await pmd_remote.evt_summaryState.aget(timeout=15)\n",
    "print(salobj.State(tmp.summaryState))"
   ]
  },
  {
   "cell_type": "code",
   "execution_count": null,
   "id": "8c119e35",
   "metadata": {},
   "outputs": [],
   "source": [
    "tmp=await salobj.set_summary_state(pmd_remote, salobj.State.ENABLED, settingsToApply='current', timeout=30)\n",
    "print(tmp)"
   ]
  },
  {
   "cell_type": "code",
   "execution_count": null,
   "id": "737cef76",
   "metadata": {},
   "outputs": [],
   "source": [
    "tmp = await pmd_remote.tel_position.next(flush=True, timeout=25)\n",
    "print(tmp.position)"
   ]
  },
  {
   "cell_type": "code",
   "execution_count": null,
   "id": "810223e4",
   "metadata": {},
   "outputs": [],
   "source": []
  },
  {
   "cell_type": "markdown",
   "id": "b2ccb8e3",
   "metadata": {},
   "source": [
    "### Setup the script to write log messages\n",
    "#### note that the index cannot be used anywhere else!"
   ]
  },
  {
   "cell_type": "code",
   "execution_count": null,
   "id": "0bfe1577",
   "metadata": {},
   "outputs": [],
   "source": [
    "#start the controller to write script messages and grab the domain\n",
    "index = os.getuid()*100+np.random.randint(0,10)\n",
    "print(f'Starting controller using ID = {index}')\n",
    "c = salobj.Controller(name=\"Script\", index=index)"
   ]
  },
  {
   "cell_type": "code",
   "execution_count": null,
   "id": "966c155b",
   "metadata": {},
   "outputs": [],
   "source": [
    "c.log.setLevel(logging.DEBUG)"
   ]
  },
  {
   "cell_type": "code",
   "execution_count": null,
   "id": "ce52e948",
   "metadata": {},
   "outputs": [],
   "source": [
    "c.log.info('Patrick Testing INFO level ') # only "
   ]
  },
  {
   "cell_type": "code",
   "execution_count": null,
   "id": "d169ccf8",
   "metadata": {},
   "outputs": [],
   "source": [
    "az=0; el=80\n",
    "c.log.info(f'az,el,pos0,pos1,pos2,pos3,pos4 = {az}, {el}, {tmp.position[0]}, {tmp.position[1]}, {tmp.position[2]}, {tmp.position[3]}, {tmp.position[5]}')"
   ]
  },
  {
   "cell_type": "code",
   "execution_count": null,
   "id": "262e45af",
   "metadata": {},
   "outputs": [],
   "source": []
  },
  {
   "cell_type": "code",
   "execution_count": null,
   "id": "263f1454",
   "metadata": {},
   "outputs": [],
   "source": [
    "# Turn on ataos M1 correction, have to turn on hexapod as well due to a bug\n",
    "await atcs.rem.ataos.cmd_enableCorrection.set_start(m1=True, hexapod=True, atspectrograph=False)\n",
    "await atcs.rem.ataos.cmd_disableCorrection.set_start(m1=False, hexapod=False, atspectrograph=True)"
   ]
  },
  {
   "cell_type": "code",
   "execution_count": null,
   "id": "41da94da",
   "metadata": {},
   "outputs": [],
   "source": [
    "#verify which is enabled\n",
    "tmp=await atcs.rem.ataos.evt_correctionEnabled.aget()\n",
    "print(tmp)"
   ]
  },
  {
   "cell_type": "code",
   "execution_count": null,
   "id": "bec617fd",
   "metadata": {},
   "outputs": [],
   "source": [
    "el_samples2 = np.arange(25,83,7)\n",
    "el_samples1 = np.arange(83,25,-7)"
   ]
  },
  {
   "cell_type": "code",
   "execution_count": null,
   "id": "545130b8",
   "metadata": {},
   "outputs": [],
   "source": [
    "# print(el_samples1)\n",
    "# print(el_samples2)"
   ]
  },
  {
   "cell_type": "code",
   "execution_count": null,
   "id": "5d28e51c",
   "metadata": {},
   "outputs": [],
   "source": [
    "el_samples=np.concatenate((el_samples1, el_samples2))"
   ]
  },
  {
   "cell_type": "code",
   "execution_count": null,
   "id": "ff409343",
   "metadata": {},
   "outputs": [],
   "source": [
    "el_samples"
   ]
  },
  {
   "cell_type": "code",
   "execution_count": null,
   "id": "02ce11f8",
   "metadata": {},
   "outputs": [],
   "source": [
    "atcs.check.atdome=False\n",
    "atcs.check.atdometrajectory=False"
   ]
  },
  {
   "cell_type": "code",
   "execution_count": null,
   "id": "ab3697bc",
   "metadata": {},
   "outputs": [],
   "source": [
    "print(f'az,el,pos0,pos1,pos2 = {az}, {el}, {tmp.position[0]}, {tmp.position[1]}, {tmp.position[2]}, {tmp.position[3]}, {tmp.position[5]}')"
   ]
  },
  {
   "cell_type": "code",
   "execution_count": null,
   "id": "9e73aeaa",
   "metadata": {},
   "outputs": [],
   "source": [
    "az=0\n",
    "test_summary='Nominal LUT from m1_hex_20210810_v3.yaml:v0.8.2.alpha.2-0-g72c6e32'\n",
    "c.log.info(f'Starting {test_summary}')\n",
    "time=(Time(Time.now(), format='isot', scale='tai'))\n",
    "print(f'start time is {time})\n",
    "for el in el_samples:\n",
    "    print(f'going to az={az}, el={el}')\n",
    "    await atcs.point_azel(az=az, el=el)\n",
    "    await asyncio.sleep(3)\n",
    "    # grab the positions\n",
    "    tmp = await pmd_remote.tel_position.next(flush=True, timeout=25)\n",
    "    c.log.info(f'az,el,pos0,pos1,pos2 = {az}, {el}, {tmp.position[0]}, {tmp.position[1]}, {tmp.position[2]}, {tmp.position[3]}, {tmp.position[5]}')\n",
    "    print(f'az,el,pos0,pos1,pos2 = {az}, {el}, {tmp.position[0]}, {tmp.position[1]}, {tmp.position[2]}, {tmp.position[3]}, {tmp.position[5]}')\n",
    "\n",
    "c.log.info(f'Finished dip sequence for elevations of {el_samples}')\n",
    "c.log.info(f'End of {test_summary}')\n",
    "time=(Time(Time.now(), format='isot', scale='tai'))\n",
    "print(f'Finish time is {time}')\n",
    "\n",
    "# Now go back up\n",
    "await atcs.point_azel(az=az, el=el_samples[0])"
   ]
  },
  {
   "cell_type": "code",
   "execution_count": null,
   "id": "5f02ed2c",
   "metadata": {},
   "outputs": [],
   "source": [
    "await atcs.point_azel(az=az, el=el_samples[0])"
   ]
  },
  {
   "cell_type": "code",
   "execution_count": null,
   "id": "043366d0",
   "metadata": {},
   "outputs": [],
   "source": [
    "pressure = await atcs.rem.atpneumatics.tel_m1AirPressure.next(flush=True, timeout=10)\n",
    "print(pressure)\n",
    "starting_pressure = pressure.pressure"
   ]
  },
  {
   "cell_type": "code",
   "execution_count": null,
   "id": "955da564",
   "metadata": {},
   "outputs": [],
   "source": []
  },
  {
   "cell_type": "code",
   "execution_count": null,
   "id": "f473d8b9",
   "metadata": {},
   "outputs": [],
   "source": [
    "scale_factor=0.99\n",
    "await atcs.rem.ataos.cmd_resetOffset.set_start(axis='m1')\n",
    "await asyncio.sleep(2)\n",
    "pressure = await atcs.rem.atpneumatics.tel_m1AirPressure.next(flush=True, timeout=10)\n",
    "c.log.info(f'Pressure reset back to LUT default of {pressure.pressure}')\n",
    "await atcs.rem.ataos.cmd_offset.set_start(m1=starting_pressure*(1-scale_factor))\n",
    "await asyncio.sleep(2)\n",
    "ref_pressure = await atcs.rem.atpneumatics.tel_m1AirPressure.next(flush=True, timeout=10)\n",
    "test_summary=f'Test2, LUT offset by {starting_pressure*(1-scale_factor)} and is now {ref_pressure.pressure}'"
   ]
  },
  {
   "cell_type": "code",
   "execution_count": null,
   "id": "0068a5eb",
   "metadata": {},
   "outputs": [],
   "source": [
    "az=0\n",
    "c.log.info(f'Starting {test_summary}')\n",
    "time=(Time(Time.now(), format='isot', scale='tai'))\n",
    "print(f'start time is {time})\n",
    "for el in el_samples:\n",
    "    print(f'going to az={az}, el={el}')\n",
    "    await atcs.point_azel(az=az, el=el)\n",
    "    await asyncio.sleep(3)\n",
    "    # grab the positions\n",
    "    tmp = await pmd_remote.tel_position.next(flush=True, timeout=25)\n",
    "    c.log.info(f'az,el,pos0,pos1,pos2 = {az}, {el}, {tmp.position[0]}, {tmp.position[1]}, {tmp.position[2]}, {tmp.position[3]}, {tmp.position[5]}')\n",
    "    print(f'az,el,pos0,pos1,pos2 = {az}, {el}, {tmp.position[0]}, {tmp.position[1]}, {tmp.position[2]}, {tmp.position[3]}, {tmp.position[5]}')\n",
    "\n",
    "c.log.info(f'Finished dip sequence for elevations of {el_samples}')\n",
    "c.log.info(f'End of {test_summary}')\n",
    "time=(Time(Time.now(), format='isot', scale='tai'))\n",
    "print(f'Finish time is {time}')\n",
    "\n",
    "# Now go back up\n",
    "await atcs.point_azel(az=az, el=el_samples[0])"
   ]
  },
  {
   "cell_type": "code",
   "execution_count": null,
   "id": "3527ed37",
   "metadata": {},
   "outputs": [],
   "source": []
  },
  {
   "cell_type": "code",
   "execution_count": null,
   "id": "3e0feb59",
   "metadata": {},
   "outputs": [],
   "source": [
    "await atcs.rem.ataos.cmd_resetOffset.set_start(axis='m1')"
   ]
  },
  {
   "cell_type": "code",
   "execution_count": null,
   "id": "598330a0",
   "metadata": {},
   "outputs": [],
   "source": [
    "atcs.check.atdome=True\n",
    "atcs.check.atdometrajectory=True"
   ]
  },
  {
   "cell_type": "code",
   "execution_count": null,
   "id": "b476ec71",
   "metadata": {},
   "outputs": [],
   "source": [
    "await atcs.shutdown()"
   ]
  },
  {
   "cell_type": "code",
   "execution_count": null,
   "id": "d01901ac",
   "metadata": {},
   "outputs": [],
   "source": []
  }
 ],
 "metadata": {
  "kernelspec": {
   "display_name": "LSST",
   "language": "python",
   "name": "lsst"
  },
  "language_info": {
   "codemirror_mode": {
    "name": "ipython",
    "version": 3
   },
   "file_extension": ".py",
   "mimetype": "text/x-python",
   "name": "python",
   "nbconvert_exporter": "python",
   "pygments_lexer": "ipython3",
   "version": "3.8.8"
  }
 },
 "nbformat": 4,
 "nbformat_minor": 5
}
