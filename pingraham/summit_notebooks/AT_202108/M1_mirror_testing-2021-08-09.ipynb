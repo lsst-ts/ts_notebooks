{
 "cells": [
  {
   "cell_type": "code",
   "execution_count": null,
   "id": "a39e569a",
   "metadata": {},
   "outputs": [],
   "source": [
    "# This notebook performs telescope motion tests in elevation and looks at how the mirror position changes as per the measurements by the PMD"
   ]
  },
  {
   "cell_type": "code",
   "execution_count": null,
   "id": "1893dbd7",
   "metadata": {},
   "outputs": [],
   "source": [
    "import sys\n",
    "import asyncio\n",
    "import time\n",
    "import os\n",
    "\n",
    "import numpy as np\n",
    "\n",
    "from lsst.ts import salobj\n",
    "\n",
    "from lsst.ts.observatory.control.auxtel.atcs import ATCS\n",
    "from lsst.ts.observatory.control.auxtel.latiss import LATISS\n",
    "\n",
    "\n",
    "from lsst.ts.observatory.control.utils import RotType\n",
    "import logging"
   ]
  },
  {
   "cell_type": "code",
   "execution_count": null,
   "id": "359dc105",
   "metadata": {},
   "outputs": [],
   "source": [
    "from astropy.time import Time, TimeDelta"
   ]
  },
  {
   "cell_type": "code",
   "execution_count": null,
   "id": "59103822",
   "metadata": {},
   "outputs": [],
   "source": [
    "# for tab completion to work\n",
    "%config IPCompleter.use_jedi = False"
   ]
  },
  {
   "cell_type": "code",
   "execution_count": null,
   "id": "b223ac29",
   "metadata": {},
   "outputs": [],
   "source": [
    "stream_handler = logging.StreamHandler(sys.stdout)\n",
    "logger = logging.getLogger()\n",
    "logger.addHandler(stream_handler)\n",
    "logger.level = logging.DEBUG"
   ]
  },
  {
   "cell_type": "code",
   "execution_count": null,
   "id": "17f2b84b",
   "metadata": {},
   "outputs": [],
   "source": [
    "print(os.environ[\"OSPL_URI\"])\n",
    "print(os.environ[\"LSST_DDS_PARTITION_PREFIX\"])"
   ]
  },
  {
   "cell_type": "code",
   "execution_count": null,
   "id": "40455c44",
   "metadata": {},
   "outputs": [],
   "source": [
    "domain = salobj.Domain()"
   ]
  },
  {
   "cell_type": "code",
   "execution_count": null,
   "id": "85fd973d",
   "metadata": {},
   "outputs": [],
   "source": [
    "atcs = ATCS(domain)\n",
    "# latiss = LATISS(domain)\n",
    "# await asyncio.gather(atcs.start_task, latiss.start_task)\n",
    "await asyncio.gather(atcs.start_task)"
   ]
  },
  {
   "cell_type": "code",
   "execution_count": null,
   "id": "65f84208",
   "metadata": {},
   "outputs": [],
   "source": []
  },
  {
   "cell_type": "code",
   "execution_count": null,
   "id": "0d7ecd86",
   "metadata": {},
   "outputs": [],
   "source": [
    "await atcs.enable()"
   ]
  },
  {
   "cell_type": "code",
   "execution_count": null,
   "id": "a5fd434f",
   "metadata": {},
   "outputs": [],
   "source": [
    "atcs.check.atdome=False\n",
    "atcs.check.atdometrajectory=False"
   ]
  },
  {
   "cell_type": "code",
   "execution_count": null,
   "id": "f679809d",
   "metadata": {},
   "outputs": [],
   "source": [
    "tmp=await salobj.set_summary_state(atcs.rem.ataos, salobj.State.OFFLINE, settingsToApply='', timeout=30)\n",
    "print(tmp)"
   ]
  },
  {
   "cell_type": "code",
   "execution_count": null,
   "id": "39694fbf",
   "metadata": {},
   "outputs": [],
   "source": [
    "tmp=await salobj.set_summary_state(atcs.rem.atdometrajectory, salobj.State.STANDBY, settingsToApply='', timeout=30)\n",
    "print(tmp)"
   ]
  },
  {
   "cell_type": "markdown",
   "id": "152af5be",
   "metadata": {},
   "source": [
    "### bring the PMDs online"
   ]
  },
  {
   "cell_type": "code",
   "execution_count": null,
   "id": "edfecbd3",
   "metadata": {},
   "outputs": [],
   "source": [
    "pmd_remote = salobj.Remote(name=\"PMD\", domain=domain, index=1)\n",
    "await pmd_remote.start_task"
   ]
  },
  {
   "cell_type": "code",
   "execution_count": null,
   "id": "5b8f1587",
   "metadata": {},
   "outputs": [],
   "source": [
    "tmp = await pmd_remote.evt_heartbeat.next(flush=True,timeout=15)\n",
    "print(tmp)"
   ]
  },
  {
   "cell_type": "code",
   "execution_count": null,
   "id": "43f1c1fc",
   "metadata": {},
   "outputs": [],
   "source": [
    "tmp = await pmd_remote.cmd_setLogLevel.set_start(level=10)"
   ]
  },
  {
   "cell_type": "code",
   "execution_count": null,
   "id": "56a634ed",
   "metadata": {},
   "outputs": [],
   "source": [
    "tmp = await pmd_remote.evt_summaryState.aget(timeout=15)\n",
    "print(salobj.State(tmp.summaryState))"
   ]
  },
  {
   "cell_type": "code",
   "execution_count": null,
   "id": "120bcacc",
   "metadata": {},
   "outputs": [],
   "source": [
    "tmp=await salobj.set_summary_state(pmd_remote, salobj.State.ENABLED, settingsToApply='current', timeout=30)\n",
    "print(tmp)"
   ]
  },
  {
   "cell_type": "code",
   "execution_count": null,
   "id": "ea3e15d6",
   "metadata": {},
   "outputs": [],
   "source": [
    "tmp = await pmd_remote.tel_position.next(flush=True, timeout=10)\n",
    "print(tmp.position)"
   ]
  },
  {
   "cell_type": "code",
   "execution_count": null,
   "id": "d3e08f34",
   "metadata": {},
   "outputs": [],
   "source": []
  },
  {
   "cell_type": "markdown",
   "id": "38c05a58",
   "metadata": {},
   "source": [
    "### Setup the script to write log messages\n",
    "#### note that the index cannot be used anywhere else!"
   ]
  },
  {
   "cell_type": "code",
   "execution_count": null,
   "id": "48bf4fdb",
   "metadata": {},
   "outputs": [],
   "source": [
    "#start the controller to write script messages and grab the domain\n",
    "index = os.getuid()*100+np.random.randint(0,10)\n",
    "print(f'Starting controller using ID = {index}')\n",
    "c = salobj.Controller(name=\"Script\", index=index)"
   ]
  },
  {
   "cell_type": "code",
   "execution_count": null,
   "id": "73b28407",
   "metadata": {},
   "outputs": [],
   "source": [
    "c.log.setLevel(logging.DEBUG)"
   ]
  },
  {
   "cell_type": "code",
   "execution_count": null,
   "id": "2945f177",
   "metadata": {},
   "outputs": [],
   "source": [
    "c.log.info('Patrick Testing INFO level ') # only "
   ]
  },
  {
   "cell_type": "code",
   "execution_count": null,
   "id": "5fd659e0",
   "metadata": {},
   "outputs": [],
   "source": [
    "az=0; el=80\n",
    "c.log.info(f'az,el,pos0,pos1,pos2,pos3,pos4 = {az}, {el}, {tmp.position[0]}, {tmp.position[1]}, {tmp.position[2]}, {tmp.position[3]}, {tmp.position[5]}')"
   ]
  },
  {
   "cell_type": "code",
   "execution_count": null,
   "id": "29dfdf2e",
   "metadata": {},
   "outputs": [],
   "source": []
  },
  {
   "cell_type": "code",
   "execution_count": null,
   "id": "07b16f43",
   "metadata": {},
   "outputs": [],
   "source": [
    "# Turn on ataos M1 correction, have to turn on hexapod as well due to a bug\n",
    "await atcs.rem.ataos.cmd_enableCorrection.set_start(m1=True, hexapod=True, atspectrograph=False)\n",
    "await atcs.rem.ataos.cmd_disableCorrection.set_start(m1=False, hexapod=False, atspectrograph=True)"
   ]
  },
  {
   "cell_type": "code",
   "execution_count": null,
   "id": "c4fe88a3",
   "metadata": {},
   "outputs": [],
   "source": [
    "#verify which is enabled\n",
    "tmp=await atcs.rem.ataos.evt_correctionEnabled.aget()\n",
    "print(tmp)"
   ]
  },
  {
   "cell_type": "code",
   "execution_count": null,
   "id": "51c29bef",
   "metadata": {},
   "outputs": [],
   "source": [
    "el_samples2 = np.arange(25,83,7)\n",
    "el_samples1 = np.arange(83,25,-7)"
   ]
  },
  {
   "cell_type": "code",
   "execution_count": null,
   "id": "99beeefb",
   "metadata": {},
   "outputs": [],
   "source": [
    "# print(el_samples1)\n",
    "# print(el_samples2)"
   ]
  },
  {
   "cell_type": "code",
   "execution_count": null,
   "id": "627c1a5b",
   "metadata": {},
   "outputs": [],
   "source": [
    "el_samples=np.concatenate((el_samples1, el_samples2))"
   ]
  },
  {
   "cell_type": "code",
   "execution_count": null,
   "id": "a5cc4d11",
   "metadata": {},
   "outputs": [],
   "source": [
    "el_samples"
   ]
  },
  {
   "cell_type": "code",
   "execution_count": null,
   "id": "f21c80a5",
   "metadata": {},
   "outputs": [],
   "source": [
    "atcs.check.atdome=False\n",
    "atcs.check.atdometrajectory=False"
   ]
  },
  {
   "cell_type": "code",
   "execution_count": null,
   "id": "6467bb94",
   "metadata": {},
   "outputs": [],
   "source": [
    "print(f'az,el,pos0,pos1,pos2 = {az}, {el}, {tmp.position[0]}, {tmp.position[1]}, {tmp.position[2]}, {tmp.position[3]}, {tmp.position[5]}')"
   ]
  },
  {
   "cell_type": "code",
   "execution_count": null,
   "id": "7d430042",
   "metadata": {},
   "outputs": [],
   "source": [
    "az=0\n",
    "test_summary='Nominal LUT'\n",
    "c.log.info(f'Starting Test1, {test_summary}')\n",
    "print(f'start time is {(Time.now()).isot}')\n",
    "for el in el_samples:\n",
    "    print(f'going to az={az}, el={el}')\n",
    "    await atcs.point_azel(az=az, el=el)\n",
    "    await asyncio.sleep(3)\n",
    "    # grab the positions\n",
    "    tmp = await pmd_remote.tel_position.next(flush=True, timeout=25)\n",
    "    c.log.info(f'az,el,pos0,pos1,pos2 = {az}, {el}, {tmp.position[0]}, {tmp.position[1]}, {tmp.position[2]}, {tmp.position[3]}, {tmp.position[5]}')\n",
    "    print(f'az,el,pos0,pos1,pos2 = {az}, {el}, {tmp.position[0]}, {tmp.position[1]}, {tmp.position[2]}, {tmp.position[3]}, {tmp.position[5]}')\n",
    "\n",
    "c.log.info(f'Finished dip sequence for elevations of {el_samples}')\n",
    "c.log.info(f'End of Test1, {test_summary}')\n",
    "print(f'Finish time is {(Time.now()).isot}')"
   ]
  },
  {
   "cell_type": "code",
   "execution_count": null,
   "id": "df877fe9",
   "metadata": {},
   "outputs": [],
   "source": [
    "await atcs.point_azel(az=az, el=el_samples[0])"
   ]
  },
  {
   "cell_type": "code",
   "execution_count": null,
   "id": "6084f3c0",
   "metadata": {},
   "outputs": [],
   "source": [
    "pressure = await atcs.rem.atpneumatics.tel_m1AirPressure.next(flush=True, timeout=10)\n",
    "print(pressure)\n",
    "starting_pressure = pressure.pressure"
   ]
  },
  {
   "cell_type": "code",
   "execution_count": null,
   "id": "e6d7a973",
   "metadata": {},
   "outputs": [],
   "source": []
  },
  {
   "cell_type": "code",
   "execution_count": null,
   "id": "284cc52f",
   "metadata": {},
   "outputs": [],
   "source": [
    "scale_factor=1.01\n",
    "await atcs.rem.ataos.cmd_resetOffset.set_start(axis='m1')\n",
    "await asyncio.sleep(2)\n",
    "pressure = await atcs.rem.atpneumatics.tel_m1AirPressure.next(flush=True, timeout=10)\n",
    "c.log.info(f'Pressure reset back to LUT default of {pressure.pressure}')\n",
    "await atcs.rem.ataos.cmd_offset.set_start(m1=starting_pressure*(1-scale_factor))\n",
    "await asyncio.sleep(2)\n",
    "ref_pressure = await atcs.rem.atpneumatics.tel_m1AirPressure.next(flush=True, timeout=10)\n",
    "test_summary=f'Test2, LUT offset by {starting_pressure*(1-scale_factor)} and is now {ref_pressure.pressure}'"
   ]
  },
  {
   "cell_type": "code",
   "execution_count": null,
   "id": "a41021db",
   "metadata": {},
   "outputs": [],
   "source": [
    "az=0\n",
    "c.log.info(f'Starting {test_summary}')\n",
    "print(f'start time is {(Time.now()).isot}')\n",
    "for el in el_samples:\n",
    "    print(f'going to az={az}, el={el}')\n",
    "    await atcs.point_azel(az=az, el=el)\n",
    "    await asyncio.sleep(3)\n",
    "    # grab the positions\n",
    "    tmp = await pmd_remote.tel_position.next(flush=True, timeout=25)\n",
    "    c.log.info(f'az,el,pos0,pos1,pos2 = {az}, {el}, {tmp.position[0]}, {tmp.position[1]}, {tmp.position[2]}, {tmp.position[3]}, {tmp.position[5]}')\n",
    "    print(f'az,el,pos0,pos1,pos2 = {az}, {el}, {tmp.position[0]}, {tmp.position[1]}, {tmp.position[2]}, {tmp.position[3]}, {tmp.position[5]}')\n",
    "\n",
    "c.log.info(f'Finished dip sequence for elevations of {el_samples}')\n",
    "c.log.info(f'End of {test_summary}')\n",
    "print(f'Finish time is {(Time.now()).isot}')\n",
    "\n",
    "# Now go back up\n",
    "await atcs.point_azel(az=az, el=el_samples[0])"
   ]
  },
  {
   "cell_type": "code",
   "execution_count": null,
   "id": "06211dd5",
   "metadata": {},
   "outputs": [],
   "source": []
  },
  {
   "cell_type": "code",
   "execution_count": null,
   "id": "0a3496a0",
   "metadata": {},
   "outputs": [],
   "source": [
    "scale_factor=1.02\n",
    "await atcs.rem.ataos.cmd_resetOffset.set_start(axis='m1')\n",
    "await asyncio.sleep(2)\n",
    "starting_pressure = await atcs.rem.atpneumatics.tel_m1AirPressure.next(flush=True, timeout=10)\n",
    "c.log.info(f'Pressure reset back to LUT default of {starting_pressure.pressure}')\n",
    "await atcs.rem.ataos.cmd_offset.set_start(m1=starting_pressure.pressure*(1-scale_factor))\n",
    "await asyncio.sleep(2)\n",
    "ref_pressure = await atcs.rem.atpneumatics.tel_m1AirPressure.next(flush=True, timeout=10)\n",
    "test_summary=f'Test3b, LUT offset by {starting_pressure.pressure*(1-scale_factor)} and is now {ref_pressure.pressure}'"
   ]
  },
  {
   "cell_type": "code",
   "execution_count": null,
   "id": "630f04ae",
   "metadata": {},
   "outputs": [],
   "source": [
    "az=0\n",
    "c.log.info(f'Starting {test_summary}')\n",
    "time=(Time(Time.now(), format='isot', scale='tai'))\n",
    "print(f'start time is {time}')\n",
    "for el in el_samples:\n",
    "    print(f'going to az={az}, el={el}')\n",
    "    await atcs.point_azel(az=az, el=el)\n",
    "    await asyncio.sleep(3)\n",
    "    # grab the positions\n",
    "    tmp = await pmd_remote.tel_position.next(flush=True, timeout=25)\n",
    "    c.log.info(f'az,el,pos0,pos1,pos2 = {az}, {el}, {tmp.position[0]}, {tmp.position[1]}, {tmp.position[2]}, {tmp.position[3]}, {tmp.position[5]}')\n",
    "    print(f'az,el,pos0,pos1,pos2 = {az}, {el}, {tmp.position[0]}, {tmp.position[1]}, {tmp.position[2]}, {tmp.position[3]}, {tmp.position[5]}')\n",
    "\n",
    "c.log.info(f'Finished dip sequence for elevations of {el_samples}')\n",
    "c.log.info(f'End of {test_summary}')\n",
    "time=(Time(Time.now(), format='isot', scale='tai'))\n",
    "print(f'Finish time is {time}')\n",
    "\n",
    "# Now go back up\n",
    "await atcs.point_azel(az=az, el=el_samples[0])"
   ]
  },
  {
   "cell_type": "code",
   "execution_count": null,
   "id": "00e52b55",
   "metadata": {},
   "outputs": [],
   "source": []
  },
  {
   "cell_type": "code",
   "execution_count": null,
   "id": "7485c935",
   "metadata": {},
   "outputs": [],
   "source": [
    "scale_factor=1.04\n",
    "await atcs.rem.ataos.cmd_resetOffset.set_start(axis='m1')\n",
    "await asyncio.sleep(2)\n",
    "starting_pressure = await atcs.rem.atpneumatics.tel_m1AirPressure.next(flush=True, timeout=10)\n",
    "c.log.info(f'Pressure reset back to LUT default of {starting_pressure.pressure}')\n",
    "await atcs.rem.ataos.cmd_offset.set_start(m1=starting_pressure.pressure*(1-scale_factor))\n",
    "await asyncio.sleep(2)\n",
    "ref_pressure = await atcs.rem.atpneumatics.tel_m1AirPressure.next(flush=True, timeout=10)\n",
    "test_summary=f'Test4b, LUT offset by {starting_pressure.pressure*(1-scale_factor)} and is now {ref_pressure.pressure}. This is a scale_factor of {scale_factor}'"
   ]
  },
  {
   "cell_type": "code",
   "execution_count": null,
   "id": "6d66ccee",
   "metadata": {},
   "outputs": [],
   "source": [
    "az=0\n",
    "c.log.info(f'Starting {test_summary}')\n",
    "time=(Time(Time.now(), format='isot', scale='tai'))\n",
    "print(f'start time is {time}')\n",
    "for el in el_samples:\n",
    "    print(f'going to az={az}, el={el}')\n",
    "    await atcs.point_azel(az=az, el=el)\n",
    "    await asyncio.sleep(3)\n",
    "    # grab the positions\n",
    "    tmp = await pmd_remote.tel_position.next(flush=True, timeout=25)\n",
    "    if tmp.position[5] == np.nan:\n",
    "        raise IOError('Position5 dropped out')\n",
    "        \n",
    "    c.log.info(f'az,el,pos0,pos1,pos2 = {az}, {el}, {tmp.position[0]}, {tmp.position[1]}, {tmp.position[2]}, {tmp.position[3]}, {tmp.position[5]}')\n",
    "\n",
    "c.log.info(f'Finished dip sequence for elevations of {el_samples}')\n",
    "c.log.info(f'End of {test_summary}')\n",
    "time=(Time(Time.now(), format='isot', scale='tai'))\n",
    "print(f'Finish time is {time}')\n",
    "\n",
    "# Now go back up\n",
    "await atcs.point_azel(az=az, el=el_samples[0])"
   ]
  },
  {
   "cell_type": "code",
   "execution_count": null,
   "id": "ba2854bb",
   "metadata": {},
   "outputs": [],
   "source": []
  },
  {
   "cell_type": "code",
   "execution_count": null,
   "id": "eb74b585",
   "metadata": {},
   "outputs": [],
   "source": [
    "scale_factor=1.05\n",
    "await atcs.rem.ataos.cmd_resetOffset.set_start(axis='m1')\n",
    "await asyncio.sleep(2)\n",
    "starting_pressure = await atcs.rem.atpneumatics.tel_m1AirPressure.next(flush=True, timeout=10)\n",
    "c.log.info(f'Pressure reset back to LUT default of {starting_pressure.pressure}')\n",
    "await atcs.rem.ataos.cmd_offset.set_start(m1=starting_pressure.pressure*(1-scale_factor))\n",
    "await asyncio.sleep(2)\n",
    "ref_pressure = await atcs.rem.atpneumatics.tel_m1AirPressure.next(flush=True, timeout=10)\n",
    "test_summary=f'Test5b, LUT offset by {starting_pressure.pressure*(1-scale_factor)} and is now {ref_pressure.pressure}. This is a scale_factor of {scale_factor}'"
   ]
  },
  {
   "cell_type": "code",
   "execution_count": null,
   "id": "20744840",
   "metadata": {},
   "outputs": [],
   "source": [
    "az=0\n",
    "c.log.info(f'Starting {test_summary}')\n",
    "time=(Time(Time.now(), format='isot', scale='tai'))\n",
    "print(f'start time is {time}')\n",
    "for el in el_samples:\n",
    "    print(f'going to az={az}, el={el}')\n",
    "    await atcs.point_azel(az=az, el=el)\n",
    "    await asyncio.sleep(3)\n",
    "    # grab the positions\n",
    "    tmp = await pmd_remote.tel_position.next(flush=True, timeout=25)\n",
    "    if tmp.position[5] == np.nan:\n",
    "        raise IOError('Position5 dropped out')\n",
    "        \n",
    "    c.log.info(f'az,el,pos0,pos1,pos2 = {az}, {el}, {tmp.position[0]}, {tmp.position[1]}, {tmp.position[2]}, {tmp.position[3]}, {tmp.position[5]}')\n",
    "\n",
    "c.log.info(f'Finished dip sequence for elevations of {el_samples}')\n",
    "c.log.info(f'End of {test_summary}')\n",
    "time=(Time(Time.now(), format='isot', scale='tai'))\n",
    "print(f'Finish time is {time}')\n",
    "\n",
    "# Now go back up\n",
    "await atcs.point_azel(az=az, el=el_samples[0])"
   ]
  },
  {
   "cell_type": "code",
   "execution_count": null,
   "id": "8408fe4b",
   "metadata": {},
   "outputs": [],
   "source": []
  },
  {
   "cell_type": "code",
   "execution_count": null,
   "id": "9bd8074c",
   "metadata": {},
   "outputs": [],
   "source": [
    "scale_factor=1.06\n",
    "await atcs.rem.ataos.cmd_resetOffset.set_start(axis='m1')\n",
    "await asyncio.sleep(2)\n",
    "starting_pressure = await atcs.rem.atpneumatics.tel_m1AirPressure.next(flush=True, timeout=10)\n",
    "c.log.info(f'Pressure reset back to LUT default of {starting_pressure.pressure}')\n",
    "await atcs.rem.ataos.cmd_offset.set_start(m1=starting_pressure.pressure*(1-scale_factor))\n",
    "await asyncio.sleep(2)\n",
    "ref_pressure = await atcs.rem.atpneumatics.tel_m1AirPressure.next(flush=True, timeout=10)\n",
    "test_summary=f'Test6, LUT offset by {starting_pressure.pressure*(1-scale_factor)} and is now {ref_pressure.pressure}. This is a scale_factor of {scale_factor}'"
   ]
  },
  {
   "cell_type": "code",
   "execution_count": null,
   "id": "889db3c1",
   "metadata": {},
   "outputs": [],
   "source": [
    "az=0\n",
    "c.log.info(f'Starting {test_summary}')\n",
    "time=(Time(Time.now(), format='isot', scale='tai'))\n",
    "print(f'start time is {time}')\n",
    "for el in el_samples:\n",
    "    print(f'going to az={az}, el={el}')\n",
    "    await atcs.point_azel(az=az, el=el)\n",
    "    await asyncio.sleep(3)\n",
    "    # grab the positions\n",
    "    tmp = await pmd_remote.tel_position.next(flush=True, timeout=25)\n",
    "    if tmp.position[5] == np.nan:\n",
    "        raise IOError('Position5 dropped out')\n",
    "        \n",
    "    c.log.info(f'az,el,pos0,pos1,pos2 = {az}, {el}, {tmp.position[0]}, {tmp.position[1]}, {tmp.position[2]}, {tmp.position[3]}, {tmp.position[5]}')\n",
    "\n",
    "c.log.info(f'Finished dip sequence for elevations of {el_samples}')\n",
    "c.log.info(f'End of {test_summary}')\n",
    "time=(Time(Time.now(), format='isot', scale='tai'))\n",
    "print(f'Finish time is {time}')\n",
    "\n",
    "# Now go back up\n",
    "await atcs.point_azel(az=az, el=el_samples[0])"
   ]
  },
  {
   "cell_type": "code",
   "execution_count": null,
   "id": "59cc37e5",
   "metadata": {},
   "outputs": [],
   "source": [
    "scale_factor=1.07\n",
    "await atcs.rem.ataos.cmd_resetOffset.set_start(axis='m1')\n",
    "await asyncio.sleep(2)\n",
    "starting_pressure = await atcs.rem.atpneumatics.tel_m1AirPressure.next(flush=True, timeout=10)\n",
    "c.log.info(f'Pressure reset back to LUT default of {starting_pressure.pressure}')\n",
    "await atcs.rem.ataos.cmd_offset.set_start(m1=starting_pressure.pressure*(1-scale_factor))\n",
    "await asyncio.sleep(2)\n",
    "ref_pressure = await atcs.rem.atpneumatics.tel_m1AirPressure.next(flush=True, timeout=10)\n",
    "test_summary=f'Test7, LUT offset by {starting_pressure.pressure*(1-scale_factor)} and is now {ref_pressure.pressure}. This is a scale_factor of {scale_factor}'"
   ]
  },
  {
   "cell_type": "code",
   "execution_count": null,
   "id": "080920bf",
   "metadata": {},
   "outputs": [],
   "source": [
    "az=0\n",
    "c.log.info(f'Starting {test_summary}')\n",
    "time=(Time(Time.now(), format='isot', scale='tai'))\n",
    "print(f'start time is {time}')\n",
    "for el in el_samples:\n",
    "    print(f'going to az={az}, el={el}')\n",
    "    await atcs.point_azel(az=az, el=el)\n",
    "    await asyncio.sleep(3)\n",
    "    # grab the positions\n",
    "    tmp = await pmd_remote.tel_position.next(flush=True, timeout=25)\n",
    "    if tmp.position[5] == np.nan:\n",
    "        raise IOError('Position5 dropped out')\n",
    "        \n",
    "    c.log.info(f'az,el,pos0,pos1,pos2 = {az}, {el}, {tmp.position[0]}, {tmp.position[1]}, {tmp.position[2]}, {tmp.position[3]}, {tmp.position[5]}')\n",
    "\n",
    "c.log.info(f'Finished dip sequence for elevations of {el_samples}')\n",
    "c.log.info(f'End of {test_summary}')\n",
    "time=(Time(Time.now(), format='isot', scale='tai'))\n",
    "print(f'Finish time is {time}')\n",
    "\n",
    "# Now go back up\n",
    "await atcs.point_azel(az=az, el=el_samples[0])"
   ]
  },
  {
   "cell_type": "code",
   "execution_count": null,
   "id": "da66f13f",
   "metadata": {},
   "outputs": [],
   "source": []
  },
  {
   "cell_type": "code",
   "execution_count": null,
   "id": "507c7617",
   "metadata": {},
   "outputs": [],
   "source": [
    "scale_factor=1.08\n",
    "await atcs.rem.ataos.cmd_resetOffset.set_start(axis='m1')\n",
    "await asyncio.sleep(2)\n",
    "starting_pressure = await atcs.rem.atpneumatics.tel_m1AirPressure.next(flush=True, timeout=10)\n",
    "c.log.info(f'Pressure reset back to LUT default of {starting_pressure.pressure}')\n",
    "await atcs.rem.ataos.cmd_offset.set_start(m1=starting_pressure.pressure*(1-scale_factor))\n",
    "await asyncio.sleep(2)\n",
    "ref_pressure = await atcs.rem.atpneumatics.tel_m1AirPressure.next(flush=True, timeout=10)\n",
    "test_summary=f'Test8, LUT offset by {starting_pressure.pressure*(1-scale_factor)} and is now {ref_pressure.pressure}. This is a scale_factor of {scale_factor}'"
   ]
  },
  {
   "cell_type": "code",
   "execution_count": null,
   "id": "5faa3591",
   "metadata": {},
   "outputs": [],
   "source": [
    "az=0\n",
    "c.log.info(f'Starting {test_summary}')\n",
    "time=(Time(Time.now(), format='isot', scale='tai'))\n",
    "print(f'start time is {time}')\n",
    "for el in el_samples:\n",
    "    print(f'going to az={az}, el={el}')\n",
    "    await atcs.point_azel(az=az, el=el)\n",
    "    await asyncio.sleep(3)\n",
    "    # grab the positions\n",
    "    tmp = await pmd_remote.tel_position.next(flush=True, timeout=25)\n",
    "    if tmp.position[5] == np.nan:\n",
    "        raise IOError('Position5 dropped out')\n",
    "        \n",
    "    c.log.info(f'az,el,pos0,pos1,pos2 = {az}, {el}, {tmp.position[0]}, {tmp.position[1]}, {tmp.position[2]}, {tmp.position[3]}, {tmp.position[5]}')\n",
    "\n",
    "c.log.info(f'Finished dip sequence for elevations of {el_samples}')\n",
    "c.log.info(f'End of {test_summary}')\n",
    "time=(Time(Time.now(), format='isot', scale='tai'))\n",
    "print(f'Finish time is {time}')\n",
    "\n",
    "# Now go back up\n",
    "await atcs.point_azel(az=az, el=el_samples[0])"
   ]
  },
  {
   "cell_type": "code",
   "execution_count": null,
   "id": "e2e98502",
   "metadata": {},
   "outputs": [],
   "source": []
  },
  {
   "cell_type": "code",
   "execution_count": null,
   "id": "9fda1323",
   "metadata": {},
   "outputs": [],
   "source": [
    "scale_factor=1.09\n",
    "await atcs.rem.ataos.cmd_resetOffset.set_start(axis='m1')\n",
    "await asyncio.sleep(2)\n",
    "starting_pressure = await atcs.rem.atpneumatics.tel_m1AirPressure.next(flush=True, timeout=10)\n",
    "c.log.info(f'Pressure reset back to LUT default of {starting_pressure.pressure}')\n",
    "await atcs.rem.ataos.cmd_offset.set_start(m1=starting_pressure.pressure*(1-scale_factor))\n",
    "await asyncio.sleep(2)\n",
    "ref_pressure = await atcs.rem.atpneumatics.tel_m1AirPressure.next(flush=True, timeout=10)\n",
    "test_summary=f'Test9, LUT offset by {starting_pressure.pressure*(1-scale_factor)} and is now {ref_pressure.pressure}. This is a scale_factor of {scale_factor}'"
   ]
  },
  {
   "cell_type": "code",
   "execution_count": null,
   "id": "af0f45b0",
   "metadata": {},
   "outputs": [],
   "source": [
    "az=0\n",
    "c.log.info(f'Starting {test_summary}')\n",
    "time=(Time(Time.now(), format='isot', scale='tai'))\n",
    "print(f'start time is {time}')\n",
    "for el in el_samples:\n",
    "    print(f'going to az={az}, el={el}')\n",
    "    await atcs.point_azel(az=az, el=el)\n",
    "    await asyncio.sleep(3)\n",
    "    # grab the positions\n",
    "    tmp = await pmd_remote.tel_position.next(flush=True, timeout=25)\n",
    "    if tmp.position[5] == np.nan:\n",
    "        raise IOError('Position5 dropped out')\n",
    "        \n",
    "    c.log.info(f'az,el,pos0,pos1,pos2 = {az}, {el}, {tmp.position[0]}, {tmp.position[1]}, {tmp.position[2]}, {tmp.position[3]}, {tmp.position[5]}')\n",
    "\n",
    "c.log.info(f'Finished dip sequence for elevations of {el_samples}')\n",
    "c.log.info(f'End of {test_summary}')\n",
    "time=(Time(Time.now(), format='isot', scale='tai'))\n",
    "print(f'Finish time is {time}')\n",
    "\n",
    "# Now go back up\n",
    "await atcs.point_azel(az=az, el=el_samples[0])"
   ]
  },
  {
   "cell_type": "code",
   "execution_count": null,
   "id": "76758005",
   "metadata": {},
   "outputs": [],
   "source": []
  },
  {
   "cell_type": "code",
   "execution_count": null,
   "id": "3bb4a575",
   "metadata": {},
   "outputs": [],
   "source": [
    "scale_factor=1.10\n",
    "await atcs.rem.ataos.cmd_resetOffset.set_start(axis='m1')\n",
    "await asyncio.sleep(2)\n",
    "starting_pressure = await atcs.rem.atpneumatics.tel_m1AirPressure.next(flush=True, timeout=10)\n",
    "c.log.info(f'Pressure reset back to LUT default of {starting_pressure.pressure}')\n",
    "await atcs.rem.ataos.cmd_offset.set_start(m1=starting_pressure.pressure*(1-scale_factor))\n",
    "await asyncio.sleep(2)\n",
    "ref_pressure = await atcs.rem.atpneumatics.tel_m1AirPressure.next(flush=True, timeout=10)\n",
    "test_summary=f'Test10, LUT offset by {starting_pressure.pressure*(1-scale_factor)} and is now {ref_pressure.pressure}. This is a scale_factor of {scale_factor}'"
   ]
  },
  {
   "cell_type": "code",
   "execution_count": null,
   "id": "2a7d8ba9",
   "metadata": {},
   "outputs": [],
   "source": [
    "az=0\n",
    "c.log.info(f'Starting {test_summary}')\n",
    "time=(Time(Time.now(), format='isot', scale='tai'))\n",
    "print(f'start time is {time}')\n",
    "for el in el_samples:\n",
    "    print(f'going to az={az}, el={el}')\n",
    "    await atcs.point_azel(az=az, el=el)\n",
    "    await asyncio.sleep(3)\n",
    "    # grab the positions\n",
    "    tmp = await pmd_remote.tel_position.next(flush=True, timeout=25)\n",
    "    if tmp.position[5] == np.nan:\n",
    "        raise IOError('Position5 dropped out')\n",
    "        \n",
    "    c.log.info(f'az,el,pos0,pos1,pos2 = {az}, {el}, {tmp.position[0]}, {tmp.position[1]}, {tmp.position[2]}, {tmp.position[3]}, {tmp.position[5]}')\n",
    "\n",
    "c.log.info(f'Finished dip sequence for elevations of {el_samples}')\n",
    "c.log.info(f'End of {test_summary}')\n",
    "time=(Time(Time.now(), format='isot', scale='tai'))\n",
    "print(f'Finish time is {time}')\n",
    "\n",
    "# Now go back up\n",
    "await atcs.point_azel(az=az, el=el_samples[0])"
   ]
  },
  {
   "cell_type": "code",
   "execution_count": null,
   "id": "6e9520ee",
   "metadata": {},
   "outputs": [],
   "source": []
  },
  {
   "cell_type": "code",
   "execution_count": null,
   "id": "9cc52332",
   "metadata": {},
   "outputs": [],
   "source": [
    "scale_factor=0.99\n",
    "await atcs.rem.ataos.cmd_resetOffset.set_start(axis='m1')\n",
    "await asyncio.sleep(2)\n",
    "starting_pressure = await atcs.rem.atpneumatics.tel_m1AirPressure.next(flush=True, timeout=10)\n",
    "c.log.info(f'Pressure reset back to LUT default of {starting_pressure.pressure}')\n",
    "await atcs.rem.ataos.cmd_offset.set_start(m1=starting_pressure.pressure*(1-scale_factor))\n",
    "await asyncio.sleep(2)\n",
    "ref_pressure = await atcs.rem.atpneumatics.tel_m1AirPressure.next(flush=True, timeout=10)\n",
    "test_summary=f'Test11, LUT offset by {starting_pressure.pressure*(1-scale_factor)} and is now {ref_pressure.pressure}. This is a scale_factor of {scale_factor}'"
   ]
  },
  {
   "cell_type": "code",
   "execution_count": null,
   "id": "0cfe1d1e",
   "metadata": {},
   "outputs": [],
   "source": [
    "az=0\n",
    "c.log.info(f'Starting {test_summary}')\n",
    "time=(Time(Time.now(), format='isot', scale='tai'))\n",
    "print(f'start time is {time}')\n",
    "for el in el_samples:\n",
    "    print(f'going to az={az}, el={el}')\n",
    "    await atcs.point_azel(az=az, el=el)\n",
    "    await asyncio.sleep(3)\n",
    "    # grab the positions\n",
    "    tmp = await pmd_remote.tel_position.next(flush=True, timeout=25)\n",
    "    if tmp.position[5] == np.nan:\n",
    "        raise IOError('Position5 dropped out')\n",
    "        \n",
    "    c.log.info(f'az,el,pos0,pos1,pos2 = {az}, {el}, {tmp.position[0]}, {tmp.position[1]}, {tmp.position[2]}, {tmp.position[3]}, {tmp.position[5]}')\n",
    "\n",
    "c.log.info(f'Finished dip sequence for elevations of {el_samples}')\n",
    "c.log.info(f'End of {test_summary}')\n",
    "time=(Time(Time.now(), format='isot', scale='tai'))\n",
    "print(f'Finish time is {time}')\n",
    "\n",
    "# Now go back up\n",
    "await atcs.point_azel(az=az, el=el_samples[0])"
   ]
  },
  {
   "cell_type": "code",
   "execution_count": null,
   "id": "525dbf35",
   "metadata": {},
   "outputs": [],
   "source": []
  },
  {
   "cell_type": "code",
   "execution_count": null,
   "id": "45069015",
   "metadata": {},
   "outputs": [],
   "source": [
    "# modifying samples as there is no reason to go all the way down"
   ]
  },
  {
   "cell_type": "code",
   "execution_count": null,
   "id": "aa661e15",
   "metadata": {},
   "outputs": [],
   "source": [
    "el_samples2 = np.arange(45,83,7)\n",
    "el_samples1 = np.arange(83,45,-7)"
   ]
  },
  {
   "cell_type": "code",
   "execution_count": null,
   "id": "c71387ce",
   "metadata": {},
   "outputs": [],
   "source": [
    "# print(el_samples1)\n",
    "# print(el_samples2)"
   ]
  },
  {
   "cell_type": "code",
   "execution_count": null,
   "id": "f7e9c37d",
   "metadata": {},
   "outputs": [],
   "source": [
    "el_samples=np.concatenate((el_samples1, el_samples2))"
   ]
  },
  {
   "cell_type": "code",
   "execution_count": null,
   "id": "994c1d03",
   "metadata": {},
   "outputs": [],
   "source": [
    "el_samples"
   ]
  },
  {
   "cell_type": "code",
   "execution_count": null,
   "id": "cdcdc9d6",
   "metadata": {},
   "outputs": [],
   "source": [
    "scale_factor=0.98\n",
    "await atcs.rem.ataos.cmd_resetOffset.set_start(axis='m1')\n",
    "await asyncio.sleep(2)\n",
    "starting_pressure = await atcs.rem.atpneumatics.tel_m1AirPressure.next(flush=True, timeout=10)\n",
    "c.log.info(f'Pressure reset back to LUT default of {starting_pressure.pressure}')\n",
    "await atcs.rem.ataos.cmd_offset.set_start(m1=starting_pressure.pressure*(1-scale_factor))\n",
    "await asyncio.sleep(2)\n",
    "ref_pressure = await atcs.rem.atpneumatics.tel_m1AirPressure.next(flush=True, timeout=10)\n",
    "test_summary=f'Test12, LUT offset by {starting_pressure.pressure*(1-scale_factor)} and is now {ref_pressure.pressure}. This is a scale_factor of {scale_factor}'"
   ]
  },
  {
   "cell_type": "code",
   "execution_count": null,
   "id": "5eeb6aeb",
   "metadata": {},
   "outputs": [],
   "source": [
    "az=0\n",
    "c.log.info(f'Starting {test_summary}')\n",
    "time=(Time(Time.now(), format='isot', scale='tai'))\n",
    "print(f'start time is {time}')\n",
    "for el in el_samples:\n",
    "    print(f'going to az={az}, el={el}')\n",
    "    await atcs.point_azel(az=az, el=el)\n",
    "    await asyncio.sleep(3)\n",
    "    # grab the positions\n",
    "    tmp = await pmd_remote.tel_position.next(flush=True, timeout=25)\n",
    "    if tmp.position[5] == np.nan:\n",
    "        raise IOError('Position5 dropped out')\n",
    "        \n",
    "    c.log.info(f'az,el,pos0,pos1,pos2 = {az}, {el}, {tmp.position[0]}, {tmp.position[1]}, {tmp.position[2]}, {tmp.position[3]}, {tmp.position[5]}')\n",
    "\n",
    "c.log.info(f'Finished dip sequence for elevations of {el_samples}')\n",
    "c.log.info(f'End of {test_summary}')\n",
    "time=(Time(Time.now(), format='isot', scale='tai'))\n",
    "print(f'Finish time is {time}')\n",
    "\n",
    "# Now go back up\n",
    "await atcs.point_azel(az=az, el=el_samples[0])"
   ]
  },
  {
   "cell_type": "code",
   "execution_count": null,
   "id": "f61dc103",
   "metadata": {},
   "outputs": [],
   "source": []
  },
  {
   "cell_type": "code",
   "execution_count": null,
   "id": "54eaded7",
   "metadata": {},
   "outputs": [],
   "source": [
    "scale_factor=0.97\n",
    "await atcs.rem.ataos.cmd_resetOffset.set_start(axis='m1')\n",
    "await asyncio.sleep(2)\n",
    "starting_pressure = await atcs.rem.atpneumatics.tel_m1AirPressure.next(flush=True, timeout=10)\n",
    "c.log.info(f'Pressure reset back to LUT default of {starting_pressure.pressure}')\n",
    "await atcs.rem.ataos.cmd_offset.set_start(m1=starting_pressure.pressure*(1-scale_factor))\n",
    "await asyncio.sleep(2)\n",
    "ref_pressure = await atcs.rem.atpneumatics.tel_m1AirPressure.next(flush=True, timeout=10)\n",
    "test_summary=f'Test13, LUT offset by {starting_pressure.pressure*(1-scale_factor)} and is now {ref_pressure.pressure}. This is a scale_factor of {scale_factor}'"
   ]
  },
  {
   "cell_type": "code",
   "execution_count": null,
   "id": "65bdc473",
   "metadata": {},
   "outputs": [],
   "source": [
    "az=0\n",
    "c.log.info(f'Starting {test_summary}')\n",
    "time=(Time(Time.now(), format='isot', scale='tai'))\n",
    "print(f'start time is {time}')\n",
    "for el in el_samples:\n",
    "    print(f'going to az={az}, el={el}')\n",
    "    await atcs.point_azel(az=az, el=el)\n",
    "    await asyncio.sleep(3)\n",
    "    # grab the positions\n",
    "    tmp = await pmd_remote.tel_position.next(flush=True, timeout=25)\n",
    "    if tmp.position[5] == np.nan:\n",
    "        raise IOError('Position5 dropped out')\n",
    "        \n",
    "    c.log.info(f'az,el,pos0,pos1,pos2 = {az}, {el}, {tmp.position[0]}, {tmp.position[1]}, {tmp.position[2]}, {tmp.position[3]}, {tmp.position[5]}')\n",
    "\n",
    "c.log.info(f'Finished dip sequence for elevations of {el_samples}')\n",
    "c.log.info(f'End of {test_summary}')\n",
    "time=(Time(Time.now(), format='isot', scale='tai'))\n",
    "print(f'Finish time is {time}')\n",
    "\n",
    "# Now go back up\n",
    "await atcs.point_azel(az=az, el=el_samples[0])"
   ]
  },
  {
   "cell_type": "code",
   "execution_count": null,
   "id": "12a427ab",
   "metadata": {},
   "outputs": [],
   "source": []
  },
  {
   "cell_type": "code",
   "execution_count": null,
   "id": "74ae93da",
   "metadata": {},
   "outputs": [],
   "source": [
    "scale_factor=0.96\n",
    "await atcs.rem.ataos.cmd_resetOffset.set_start(axis='m1')\n",
    "await asyncio.sleep(2)\n",
    "starting_pressure = await atcs.rem.atpneumatics.tel_m1AirPressure.next(flush=True, timeout=10)\n",
    "c.log.info(f'Pressure reset back to LUT default of {starting_pressure.pressure}')\n",
    "await atcs.rem.ataos.cmd_offset.set_start(m1=starting_pressure.pressure*(1-scale_factor))\n",
    "await asyncio.sleep(2)\n",
    "ref_pressure = await atcs.rem.atpneumatics.tel_m1AirPressure.next(flush=True, timeout=10)\n",
    "test_summary=f'Test14, LUT offset by {starting_pressure.pressure*(1-scale_factor)} and is now {ref_pressure.pressure}. This is a scale_factor of {scale_factor}'"
   ]
  },
  {
   "cell_type": "code",
   "execution_count": null,
   "id": "3703ccc2",
   "metadata": {},
   "outputs": [],
   "source": [
    "az=0\n",
    "c.log.info(f'Starting {test_summary}')\n",
    "time=(Time(Time.now(), format='isot', scale='tai'))\n",
    "print(f'start time is {time}')\n",
    "for el in el_samples:\n",
    "    print(f'going to az={az}, el={el}')\n",
    "    await atcs.point_azel(az=az, el=el)\n",
    "    await asyncio.sleep(3)\n",
    "    # grab the positions\n",
    "    tmp = await pmd_remote.tel_position.next(flush=True, timeout=25)\n",
    "    if tmp.position[5] == np.nan:\n",
    "        raise IOError('Position5 dropped out')\n",
    "        \n",
    "    c.log.info(f'az,el,pos0,pos1,pos2 = {az}, {el}, {tmp.position[0]}, {tmp.position[1]}, {tmp.position[2]}, {tmp.position[3]}, {tmp.position[5]}')\n",
    "\n",
    "c.log.info(f'Finished dip sequence for elevations of {el_samples}')\n",
    "c.log.info(f'End of {test_summary}')\n",
    "time=(Time(Time.now(), format='isot', scale='tai'))\n",
    "print(f'Finish time is {time}')\n",
    "\n",
    "# Now go back up\n",
    "await atcs.point_azel(az=az, el=el_samples[0])"
   ]
  },
  {
   "cell_type": "code",
   "execution_count": null,
   "id": "c726ae26",
   "metadata": {},
   "outputs": [],
   "source": [
    "scale_factor=0.95\n",
    "await atcs.rem.ataos.cmd_resetOffset.set_start(axis='m1')\n",
    "await asyncio.sleep(2)\n",
    "starting_pressure = await atcs.rem.atpneumatics.tel_m1AirPressure.next(flush=True, timeout=10)\n",
    "c.log.info(f'Pressure reset back to LUT default of {starting_pressure.pressure}')\n",
    "await atcs.rem.ataos.cmd_offset.set_start(m1=starting_pressure.pressure*(1-scale_factor))\n",
    "await asyncio.sleep(2)\n",
    "ref_pressure = await atcs.rem.atpneumatics.tel_m1AirPressure.next(flush=True, timeout=10)\n",
    "test_summary=f'Test15, LUT offset by {starting_pressure.pressure*(1-scale_factor)} and is now {ref_pressure.pressure}. This is a scale_factor of {scale_factor}'"
   ]
  },
  {
   "cell_type": "code",
   "execution_count": null,
   "id": "ae5b3c04",
   "metadata": {},
   "outputs": [],
   "source": [
    "az=0\n",
    "c.log.info(f'Starting {test_summary}')\n",
    "time=(Time(Time.now(), format='isot', scale='tai'))\n",
    "print(f'start time is {time}')\n",
    "for el in el_samples:\n",
    "    print(f'going to az={az}, el={el}')\n",
    "    await atcs.point_azel(az=az, el=el)\n",
    "    await asyncio.sleep(3)\n",
    "    # grab the positions\n",
    "    tmp = await pmd_remote.tel_position.next(flush=True, timeout=25)\n",
    "    if tmp.position[5] == np.nan:\n",
    "        raise IOError('Position5 dropped out')\n",
    "        \n",
    "    c.log.info(f'az,el,pos0,pos1,pos2 = {az}, {el}, {tmp.position[0]}, {tmp.position[1]}, {tmp.position[2]}, {tmp.position[3]}, {tmp.position[5]}')\n",
    "\n",
    "c.log.info(f'Finished dip sequence for elevations of {el_samples}')\n",
    "c.log.info(f'End of {test_summary}')\n",
    "time=(Time(Time.now(), format='isot', scale='tai'))\n",
    "print(f'Finish time is {time}')\n",
    "\n",
    "# Now go back up\n",
    "await atcs.point_azel(az=az, el=el_samples[0])"
   ]
  },
  {
   "cell_type": "code",
   "execution_count": null,
   "id": "f22501da",
   "metadata": {},
   "outputs": [],
   "source": [
    "await atcs.rem.ataos.cmd_resetOffset.set_start(axis='m1')"
   ]
  },
  {
   "cell_type": "code",
   "execution_count": null,
   "id": "9bb20343",
   "metadata": {},
   "outputs": [],
   "source": []
  },
  {
   "cell_type": "code",
   "execution_count": null,
   "id": "4f16e296",
   "metadata": {},
   "outputs": [],
   "source": []
  },
  {
   "cell_type": "code",
   "execution_count": null,
   "id": "b0ea773a",
   "metadata": {},
   "outputs": [],
   "source": [
    "await atcs.shutdown()"
   ]
  },
  {
   "cell_type": "code",
   "execution_count": null,
   "id": "0f158bd8",
   "metadata": {},
   "outputs": [],
   "source": []
  }
 ],
 "metadata": {
  "kernelspec": {
   "display_name": "LSST",
   "language": "python",
   "name": "lsst"
  },
  "language_info": {
   "codemirror_mode": {
    "name": "ipython",
    "version": 3
   },
   "file_extension": ".py",
   "mimetype": "text/x-python",
   "name": "python",
   "nbconvert_exporter": "python",
   "pygments_lexer": "ipython3",
   "version": "3.8.8"
  }
 },
 "nbformat": 4,
 "nbformat_minor": 5
}
