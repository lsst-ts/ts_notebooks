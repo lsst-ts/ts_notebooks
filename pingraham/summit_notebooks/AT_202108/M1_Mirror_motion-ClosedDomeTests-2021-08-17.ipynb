{
 "cells": [
  {
   "cell_type": "code",
   "execution_count": null,
   "id": "bdf1d8d8",
   "metadata": {},
   "outputs": [],
   "source": [
    "# This notebooks looks at primary mirror motion as a function of elevation \n",
    "# This is used verify the mirror doesn't lift when we go below the LUT"
   ]
  },
  {
   "cell_type": "code",
   "execution_count": null,
   "id": "52e08026",
   "metadata": {},
   "outputs": [],
   "source": [
    "import asyncio \n",
    "import matplotlib\n",
    "\n",
    "import numpy as np\n",
    "import pandas as pd\n",
    "\n",
    "from matplotlib import pylab as plt\n",
    "from astropy.time import Time, TimeDelta\n",
    "from lsst_efd_client import EfdClient, rendezvous_dataframes"
   ]
  },
  {
   "cell_type": "code",
   "execution_count": null,
   "id": "e9ea414d",
   "metadata": {},
   "outputs": [],
   "source": [
    "%matplotlib inline"
   ]
  },
  {
   "cell_type": "code",
   "execution_count": null,
   "id": "a030eba6",
   "metadata": {},
   "outputs": [],
   "source": [
    "#efd_client = EfdClient('summit_efd')\n",
    "efd_client = EfdClient('ldf_stable_efd') "
   ]
  },
  {
   "cell_type": "markdown",
   "id": "d75f93bc",
   "metadata": {},
   "source": [
    "Query for all the `endReadout` events on the timespan of the night, elevation, and pmd data"
   ]
  },
  {
   "cell_type": "code",
   "execution_count": null,
   "id": "119ce828",
   "metadata": {},
   "outputs": [],
   "source": [
    "date='20210817'\n",
    "test='verify_no_lift_at_low_elev'\n",
    "run='initial'\n",
    "\n",
    "if run == 'initial': \n",
    "# Starting Nominal LUT from m1_hex_20210810_v3.yaml:v0.8.2.alpha.2-0-g72c6e32, low elevation test\n",
    "# start time is 2021-08-17T17:36:43.64\n",
    "    t1 = Time(\"2021-08-17T17:36:45\", format='isot', scale='tai')\n",
    "    t2 = Time(\"2021-08-17T17:45:00.386\", format='isot', scale='tai')\n",
    "    scale_factor=1.0\n",
    "    start_log_msg = '[2021-07-08_Repeat_Focus_Test_START]'\n",
    "    finish_log_msg = '[2021-07-08_Repeat_Focus_Test_END]'\n",
    "elif run == 'test2':\n",
    "# Starting Nominal LUT from m1_hex_20210810_v3.yaml:v0.8.2.alpha.2-0-g72c6e32, low elevation test\n",
    "# start time is 2021-08-17T18:52:18.40\n",
    "    t1 = Time(\"2021-08-17T18:52:18.40\", format='isot', scale='tai')\n",
    "    t2 = Time(\"2021-08-17T18:58:41.773\", format='isot', scale='tai')\n",
    "elif run == 'test3':\n",
    "#     Starting Test3, Nominal LUT from m1_hex_20210810_v3.yaml:v0.8.2.alpha.2-0-g72c6e32, low elevation test, minimum adjusted higher\n",
    "# start time is 2021-08-17T19:13:07.588\n",
    "    t1 = Time(\"2021-08-17T19:13:07.588\", format='isot', scale='tai')\n",
    "    t2 = Time(\"2021-08-17T19:18:50.310\", format='isot', scale='tai') \n",
    "elif run == 'test4':\n",
    "#     Starting Test4, Nominal LUT from m1_hex_20210810_v3.yaml:v0.8.2.alpha.2-0-g72c6e32, low elevation test, minimum adjusted higher\n",
    "#     start time is 2021-08-17T20:45:16.148\n",
    "    t1 = Time(\"2021-08-17T20:45:16.148\", format='isot', scale='tai')\n",
    "    t2 = Time(\"2021-08-17T20:50:39.174\", format='isot', scale='tai') \n",
    "else:\n",
    "    raise IOError('Not a valid input')"
   ]
  },
  {
   "cell_type": "code",
   "execution_count": null,
   "id": "4976a520",
   "metadata": {},
   "outputs": [],
   "source": []
  },
  {
   "cell_type": "code",
   "execution_count": null,
   "id": "a24463ab",
   "metadata": {},
   "outputs": [],
   "source": [
    "# # # day of 2021-07-08 - Test3 run with scalefactor = 1.02  - not sure this was great, so redid it\n",
    "# t1 = Time(\"2021-08-09T16:42:32.166\", format='isot', scale='tai')\n",
    "# t2 = Time(\"2021-08-09T16:48:41.015\", format='isot', scale='tai')"
   ]
  },
  {
   "cell_type": "code",
   "execution_count": null,
   "id": "bc46293a",
   "metadata": {},
   "outputs": [],
   "source": [
    "# # # day of 2021-07-08 - Test4 run with scalefactor = 1.04 - ignore, redoing\n",
    "# t1 = Time(\"2021-08-09T16:50:24.872\", format='isot', scale='tai')\n",
    "# t2 = Time(\"2021-08-09T16:59:24.872\", format='isot', scale='tai')"
   ]
  },
  {
   "cell_type": "code",
   "execution_count": null,
   "id": "986b7b67",
   "metadata": {},
   "outputs": [],
   "source": [
    "# # day of 2021-07-08 - Test4 (didn't increment) run with scalefactor = 1.06 = BAD - Sensor dropped out\n",
    "# t1 = Time(\"2021-08-09T16:59:24.872\", format='isot', scale='tai')\n",
    "# t2 = Time(\"2021-08-09T17:05:32.895\", format='isot', scale='tai')"
   ]
  },
  {
   "cell_type": "code",
   "execution_count": null,
   "id": "72ea672b",
   "metadata": {},
   "outputs": [],
   "source": [
    "base0 = await efd_client.select_time_series(\"lsst.sal.Script.logevent_logMessage\", \n",
    "                                           [\"message\",\"level\"], t1, t2)\n",
    "base0"
   ]
  },
  {
   "cell_type": "code",
   "execution_count": null,
   "id": "abb7e484",
   "metadata": {},
   "outputs": [],
   "source": []
  },
  {
   "cell_type": "code",
   "execution_count": null,
   "id": "e1ea4c22",
   "metadata": {},
   "outputs": [],
   "source": [
    "base=base0"
   ]
  },
  {
   "cell_type": "code",
   "execution_count": null,
   "id": "6b84c495",
   "metadata": {},
   "outputs": [],
   "source": [
    "el = await efd_client.select_packed_time_series(\"lsst.sal.ATMCS.mount_AzEl_Encoders\", [\"elevationCalculatedAngle1\", ], t1, t2)\n",
    "# mount reporting incorrect timestamp for the packed time series\n",
    "el.index=el.index+pd.tseries.offsets.DateOffset(seconds=-37)"
   ]
  },
  {
   "cell_type": "code",
   "execution_count": null,
   "id": "5b378cda",
   "metadata": {},
   "outputs": [],
   "source": [
    "pmd = await efd_client.select_time_series(\"lsst.sal.PMD.position\", [\"position0\", \"position1\", \"position2\", \"position3\", \"position5\"], t1, t2)"
   ]
  },
  {
   "cell_type": "code",
   "execution_count": null,
   "id": "26e365cc",
   "metadata": {},
   "outputs": [],
   "source": [
    "pressure = await efd_client.select_time_series(\"lsst.sal.ATPneumatics.m1AirPressure\", [\"pressure\"], t1, t2)"
   ]
  },
  {
   "cell_type": "code",
   "execution_count": null,
   "id": "faa9b716",
   "metadata": {},
   "outputs": [],
   "source": [
    "atpneumatics_commands = await efd_client.select_time_series(\"lsst.sal.ATPneumatics.command_m1SetPressure\", [\"pressure\"], t1, t2)\n",
    "atpneumatics_commands = atpneumatics_commands.rename(columns={'pressure': 'pressure_cmd_atpneumatics'})"
   ]
  },
  {
   "cell_type": "code",
   "execution_count": null,
   "id": "7de39951",
   "metadata": {},
   "outputs": [],
   "source": [
    "#base"
   ]
  },
  {
   "cell_type": "code",
   "execution_count": null,
   "id": "09f1ec74",
   "metadata": {},
   "outputs": [],
   "source": [
    "tmp = rendezvous_dataframes(base, el)"
   ]
  },
  {
   "cell_type": "code",
   "execution_count": null,
   "id": "d00199de",
   "metadata": {},
   "outputs": [],
   "source": [
    "tmp2= rendezvous_dataframes(tmp, pmd)\n",
    "tmp3= rendezvous_dataframes(tmp2, pressure)\n",
    "raw_data = tmp3"
   ]
  },
  {
   "cell_type": "code",
   "execution_count": null,
   "id": "0bdebd5c",
   "metadata": {},
   "outputs": [],
   "source": [
    "position0_offset = (raw_data.position0[0])\n",
    "position1_offset = (raw_data.position1[0])\n",
    "position2_offset = (raw_data.position2[0])\n",
    "position3_offset = (raw_data.position3[0])\n",
    "position5_offset = (raw_data.position5[0]) # gauge got moved to position 5"
   ]
  },
  {
   "cell_type": "code",
   "execution_count": null,
   "id": "ccc1b884",
   "metadata": {},
   "outputs": [],
   "source": [
    "raw_data=raw_data.drop_duplicates(subset=['elevationCalculatedAngle1','message','pressure'])\n",
    "print(raw_data[['elevationCalculatedAngle1','pressure']])"
   ]
  },
  {
   "cell_type": "code",
   "execution_count": null,
   "id": "e494f21f",
   "metadata": {},
   "outputs": [],
   "source": [
    "raw_data"
   ]
  },
  {
   "cell_type": "code",
   "execution_count": null,
   "id": "bbc8cae8",
   "metadata": {},
   "outputs": [],
   "source": [
    "# from scipy import linalg\n",
    "arr_len = len(raw_data.position0)\n",
    "coeff_arr = np.zeros((arr_len,3))\n",
    "theta_arr = np.zeros((arr_len))\n",
    "phi_arr = np.zeros((arr_len))\n",
    "piston_arr = np.zeros((arr_len))\n",
    "for i in np.arange(arr_len):\n",
    "    # X, Y, Z\n",
    "    set2=np.array((  41.0, 468.0, (raw_data.position2[i]-position2_offset)))\n",
    "    set3=np.array(( 384.0,-269.0, (raw_data.position3[i]-position3_offset)))\n",
    "    set4=np.array((-425.0,-198.0, (raw_data.position5[i]-position5_offset)))\n",
    "\n",
    "    # Vector PQ crossed with Vector PR\n",
    "    normal = np.cross(set3-set2,set4-set2) # gives a,b,c\n",
    "\n",
    "    D= -normal[0]*set2[0] - normal[1]*set2[1] - normal[2]*set2[2]  # Constant in plane equation\n",
    "    # equation \n",
    "    \n",
    "    phi_from_normal = (np.pi/2+np.arctan2(normal[2], normal[1])) * 206265\n",
    "    theta_from_normal = (np.pi/2+np.arctan2(normal[2], normal[0])) * 206265\n",
    "    # find z at the origin to represent piston\n",
    "    Z_origin = -D/normal[2]\n",
    "    \n",
    "    # Measure rotation about the Y-axis (perpendicular to elevation)\n",
    "    # So this is TIP and should result in motion in azimuth\n",
    "    # get slope by looking at Y=0, X=400\n",
    "    x_pt=400; y_pt=0\n",
    "    #Z_at_x_pt= C[0]*x_pt + C[1]*0.0 + C[2]\n",
    "    Z_at_x_pt= (-D - normal[0]*x_pt - normal[1]*0.0)/normal[2]\n",
    "    theta = np.arctan2(Z_at_x_pt-Z_origin, x_pt) * 206265 # arcsec\n",
    "        \n",
    "    # Measure rotation about the X-axis (aligned to elevation)\n",
    "    # this is TILT and should result in motion in elevation\n",
    "    # get slope by looking at Y=0, X=400    \n",
    "    x_pt=0; y_pt=400\n",
    "    Z_at_y_pt= (-D - normal[0]*x_pt - normal[1]*y_pt)/normal[2]\n",
    "    phi = np.arctan2(Z_at_y_pt-Z_origin, y_pt) * 206265 # arcsec\n",
    "\n",
    "    theta_arr[i] = theta # arcsec\n",
    "    phi_arr[i] = phi    # arcsec\n",
    "    piston_arr[i] = Z_origin\n",
    "    \n",
    "    print(f'theta_from_normal is {theta_from_normal:0.2f}, phi_from_normal is {phi_from_normal:0.2f}')\n",
    "    print(f'theta_arr is {theta_arr[i]:0.2f} [arcsec], phi_arr is {phi_arr[i]:0.2f} [arcsec]')"
   ]
  },
  {
   "cell_type": "code",
   "execution_count": null,
   "id": "2d67b8cd",
   "metadata": {},
   "outputs": [],
   "source": [
    "import copy\n",
    "calc_data=copy.copy(raw_data)\n",
    "calc_data['m1_tip']=theta_arr\n",
    "calc_data['m1_tilt']=phi_arr\n",
    "calc_data['m1_piston']=piston_arr\n",
    "\n",
    "calc_data['m1_y_pos']=(raw_data.position0-position0_offset)*np.cos(10*np.pi/180)\n",
    "calc_data['m1_x_pos']=(raw_data.position1-position1_offset)*np.cos(10*np.pi/180)"
   ]
  },
  {
   "cell_type": "code",
   "execution_count": null,
   "id": "262dcc23",
   "metadata": {},
   "outputs": [],
   "source": [
    "calc_data"
   ]
  },
  {
   "cell_type": "code",
   "execution_count": null,
   "id": "4207baf7",
   "metadata": {},
   "outputs": [],
   "source": [
    "#write data to disk\n",
    "filename=\"data/\"+date+'_'+test+\"_\"+run+\"_metadata.csv\"\n",
    "calc_data.to_csv(filename)"
   ]
  },
  {
   "cell_type": "code",
   "execution_count": null,
   "id": "5a0131b0",
   "metadata": {},
   "outputs": [],
   "source": [
    "fig_height=5\n",
    "fig_width=10\n",
    "nwide=2; nhigh=3\n",
    "fig, (row1,row2,row3) = plt.subplots(nhigh, nwide, figsize=(nwide+fig_width, nhigh*fig_height))\n",
    "fig.suptitle('Rows are')\n",
    "xvals = (calc_data.m1_x_pos) # um\n",
    "yvals = calc_data.elevationCalculatedAngle1\n",
    "\n",
    "row1[0].plot(xvals, yvals, 'o-')\n",
    "row1[0].set_ylabel('Elevation [deg]')\n",
    "row1[0].set_xlabel('M1 X-position [mm]')\n",
    "\n",
    "xvals = (calc_data.m1_tip) # um\n",
    "row1[1].plot(xvals, yvals, 'o-')\n",
    "row1[1].set_xlabel('M1 tip [arcsec]')\n",
    "\n",
    "xvals = (calc_data.m1_y_pos) # mm\n",
    "row2[0].plot(xvals, yvals, 'o-')\n",
    "row2[0].set_ylabel('Elevation [deg]')\n",
    "row2[0].set_xlabel('M1 X-position [mm]')\n",
    "\n",
    "xvals = (calc_data.m1_tilt) # um\n",
    "row2[1].plot(xvals, yvals, 'o-')\n",
    "row2[1].set_xlabel('M1 tilt [arcsec]')\n",
    "\n",
    "xvals = (calc_data.m1_piston) # mm\n",
    "row3[0].plot(xvals, yvals, 'o-')\n",
    "row3[0].set_ylabel('Elevation [deg]')\n",
    "row3[0].set_xlabel('M1 Z-position [mm]')\n",
    "\n",
    "xvals = (calc_data.pressure) # mm\n",
    "row3[1].plot(xvals, yvals, 'o-')\n",
    "row3[1].set_ylabel('Elevation [deg]')\n",
    "row3[1].set_xlabel('Pressure [Pa]')"
   ]
  },
  {
   "cell_type": "code",
   "execution_count": null,
   "id": "29a1c434",
   "metadata": {},
   "outputs": [],
   "source": []
  },
  {
   "cell_type": "code",
   "execution_count": null,
   "id": "da2a7f47",
   "metadata": {},
   "outputs": [],
   "source": [
    "# with pd.option_context('display.max_rows', None, 'display.max_columns', None):  # more options can be specified also\n",
    "#     hex_elevation"
   ]
  },
  {
   "cell_type": "code",
   "execution_count": null,
   "id": "44d31606",
   "metadata": {},
   "outputs": [],
   "source": []
  },
  {
   "cell_type": "markdown",
   "id": "69b956c2",
   "metadata": {},
   "source": [
    "# Now overplot the telemetry against the commands"
   ]
  },
  {
   "cell_type": "code",
   "execution_count": null,
   "id": "1faecd50",
   "metadata": {},
   "outputs": [],
   "source": [
    "tmp1 = rendezvous_dataframes(pressure, el)\n",
    "tmp = rendezvous_dataframes(tmp1,atpneumatics_commands)\n",
    "xvals=tmp['elevationCalculatedAngle1']\n",
    "yvals=tmp['pressure']\n",
    "plt.plot(xvals, yvals, '.')\n",
    "yvals=tmp['pressure_cmd_atpneumatics']\n",
    "plt.plot(xvals, yvals, '-', color='orange')\n",
    "plt.ylabel('Elevation [deg]')\n",
    "plt.xlabel('Pressure [Pa]')"
   ]
  },
  {
   "cell_type": "code",
   "execution_count": null,
   "id": "482ef9c5",
   "metadata": {},
   "outputs": [],
   "source": []
  }
 ],
 "metadata": {
  "kernelspec": {
   "display_name": "LSST",
   "language": "python",
   "name": "lsst"
  },
  "language_info": {
   "codemirror_mode": {
    "name": "ipython",
    "version": 3
   },
   "file_extension": ".py",
   "mimetype": "text/x-python",
   "name": "python",
   "nbconvert_exporter": "python",
   "pygments_lexer": "ipython3",
   "version": "3.8.8"
  }
 },
 "nbformat": 4,
 "nbformat_minor": 5
}
