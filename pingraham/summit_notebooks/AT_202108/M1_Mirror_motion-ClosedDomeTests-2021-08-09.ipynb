{
 "cells": [
  {
   "cell_type": "code",
   "execution_count": null,
   "id": "9238ba43",
   "metadata": {},
   "outputs": [],
   "source": [
    "# This notebooks looks at primary mirror motion as a function of elevation for different pressures\n",
    "## The idea is to derive the maximum amount of pressure we can use under the mirror before we start to see slippage\n",
    "## This uses daytime data taken on 2021-08-09 in the M1_mirror_testing-2021-08-09.ipynb notebook"
   ]
  },
  {
   "cell_type": "code",
   "execution_count": null,
   "id": "88579546",
   "metadata": {},
   "outputs": [],
   "source": [
    "import asyncio \n",
    "import matplotlib\n",
    "\n",
    "import numpy as np\n",
    "import pandas as pd\n",
    "\n",
    "from matplotlib import pylab as plt\n",
    "from astropy.time import Time, TimeDelta\n",
    "from lsst_efd_client import EfdClient, rendezvous_dataframes"
   ]
  },
  {
   "cell_type": "code",
   "execution_count": null,
   "id": "0c9e3aa8",
   "metadata": {},
   "outputs": [],
   "source": [
    "%matplotlib inline"
   ]
  },
  {
   "cell_type": "code",
   "execution_count": null,
   "id": "47334fd4",
   "metadata": {},
   "outputs": [],
   "source": [
    "#efd_client = EfdClient('summit_efd')\n",
    "efd_client = EfdClient('ldf_stable_efd') "
   ]
  },
  {
   "cell_type": "markdown",
   "id": "7b7a6306",
   "metadata": {},
   "source": [
    "Query for all the `endReadout` events on the timespan of the night, elevation, and pmd data"
   ]
  },
  {
   "cell_type": "code",
   "execution_count": null,
   "id": "788385a7",
   "metadata": {},
   "outputs": [],
   "source": [
    "date='20210809'\n",
    "test='m1_pressure_reduction_closed_dome'\n",
    "run='test15'\n",
    "\n",
    "if run == 'initial': \n",
    "    # Test run with standard LUT\n",
    "    t1 = Time(\"2021-08-09T16:00:10.425\", format='isot', scale='tai')\n",
    "    t2 = Time(\"2021-08-09T16:15:37.425\", format='isot', scale='tai')\n",
    "    scale_factor=1.0\n",
    "    start_log_msg = '[2021-07-08_Repeat_Focus_Test_START]'\n",
    "    finish_log_msg = '[2021-07-08_Repeat_Focus_Test_END]'\n",
    "elif run == 'test1':\n",
    "    # day of 2021-07-08 - Test run with scalefactor=1.01\n",
    "    # timestamp printed was not in tai and so is adjusted here\n",
    "    scale_factor=1.01\n",
    "    t1 = Time(\"2021-08-09T16:33:57.669\", format='isot', scale='tai')+TimeDelta(37, format='sec', scale='tai')\n",
    "    t2 = Time(\"2021-08-09T16:40:03.985\", format='isot', scale='tai')+TimeDelta(37, format='sec', scale='tai')\n",
    "# elif run == '':\n",
    "    # VERIFY THIS\n",
    "    # # # day of 2021-07-08 - Test3 run with scalefactor = 1.02  - not sure this was great, so redid it\n",
    "    # t1 = Time(\"2021-08-09T16:42:32.166\", format='isot', scale='tai')\n",
    "    # t2 = Time(\"2021-08-09T16:48:41.015\", format='isot', scale='tai')\n",
    "elif run == 'test3b':\n",
    "    # Starting Test3b, LUT offset by -2343.5619165039084 and is now 114846.7377685547\n",
    "    # start time is 2021-08-09T17:35:49.273\n",
    "    scale_factor=1.02\n",
    "    t1 = Time(\"2021-08-09T17:35:49.273\", format='isot', scale='tai')\n",
    "    t2 = Time(\"2021-08-09T17:41:58.836\", format='isot', scale='tai')  \n",
    "elif run == 'test4b':\n",
    "    # Starting Test4b, LUT offset by -4685.356377441411 and is now 112471.19332275391. This is a scale_factor of 1.04\n",
    "    # start time is 2021-08-09T17:45:58.520\n",
    "    scale_factor=1.04\n",
    "    t1 = Time(\"2021-08-09T17:45:58.520\", format='isot', scale='tai')\n",
    "    t2 = Time(\"2021-08-09T17:52:11.260\", format='isot', scale='tai')\n",
    "elif run == 'test5b':\n",
    "    # Starting Test5b, LUT offset by -5826.18582214356 and is now 111164.53867187501. This is a scale_factor of 1.05\n",
    "    # start time is 2021-08-09T17:54:39.997\n",
    "    scale_factor=1.05\n",
    "    t1 = Time(\"2021-08-09T17:54:39.997\", format='isot', scale='tai')\n",
    "    t2 = Time(\"2021-08-09T18:00:52.720\", format='isot', scale='tai')\n",
    "elif run == 'test6':\n",
    "    # Starting Test6, LUT offset by -7011.117491455085 and is now 109878.9251586914. This is a scale_factor of 1.06\n",
    "    # start time is 2021-08-09T18:03:36.186\n",
    "    scale_factor=1.06\n",
    "    t1 = Time(\"2021-08-09T18:03:36.186\", format='isot', scale='tai')\n",
    "    t2 = Time(\"2021-08-09T18:09:43.131\", format='isot', scale='tai')\n",
    "elif run == 'test7':\n",
    "    # Starting Test7, LUT offset by -8194.807733642585 and is now 109115.13186035157. This is a scale_factor of 1.07\n",
    "    # start time is 2021-08-09T18:12:34.226\n",
    "    scale_factor=1.07\n",
    "    t1 = Time(\"2021-08-09T18:12:34.226\", format='isot', scale='tai')\n",
    "    t2 = Time(\"2021-08-09T18:18:42.275\", format='isot', scale='tai')\n",
    "elif run == 'test8':\n",
    "    # Starting Test8, LUT offset by -9361.959641601572 and is now 107938.9322631836. This is a scale_factor of 1.08\n",
    "    # start time is 2021-08-09T18:21:44.821\n",
    "    scale_factor=1.08\n",
    "    t1 = Time(\"2021-08-09T18:21:44.821\", format='isot', scale='tai')\n",
    "    t2 = Time(\"2021-08-09T18:27:48.037\", format='isot', scale='tai')\n",
    "elif run == 'test9':\n",
    "    # Starting Test9, LUT offset by -10496.981732299813 and is now 106282.99472656251. This is a scale_factor of 1.09\n",
    "    # start time is 2021-08-09T18:29:40.394\n",
    "    scale_factor=1.09\n",
    "    t1 = Time(\"2021-08-09T18:29:40.394\", format='isot', scale='tai')\n",
    "    t2 = Time(\"2021-08-09T18:35:45.856\", format='isot', scale='tai')\n",
    "elif run == 'test10':\n",
    "    # Starting Test10, LUT offset by -11691.718571777354 and is now 105477.11915283203. This is a scale_factor of 1.1\n",
    "    # start time is 2021-08-09T18:41:38.825\n",
    "    scale_factor=1.10\n",
    "    t1 = Time(\"2021-08-09T18:41:38.825\", format='isot', scale='tai')\n",
    "    t2 = Time(\"2021-08-09T18:47:42.719\", format='isot', scale='tai')\n",
    "elif run == 'test11':\n",
    "    # Starting Test11, LUT offset by 1166.5417149658213 and is now 118310.10903320313. This is a scale_factor of 0.99\n",
    "    # start time is 2021-08-09T18:51:45.505\n",
    "    scale_factor=0.99\n",
    "    t1 = Time(\"2021-08-09T18:51:45.505\", format='isot', scale='tai')\n",
    "    t2 = Time(\"2021-08-09T18:57:53.278\", format='isot', scale='tai')\n",
    "elif run == 'test12':\n",
    "    # Starting Test12, LUT offset by 2340.0690876464864 and is now 119574.68140869141. This is a scale_factor of 0.98\n",
    "    # start time is 2021-08-09T19:02:46.869\n",
    "    scale_factor=0.98\n",
    "    t1 = Time(\"2021-08-09T19:02:46.869\", format='isot', scale='tai')\n",
    "    t2 = Time(\"2021-08-09T19:06:53.919\", format='isot', scale='tai')\n",
    "elif run == 'test13':\n",
    "    # Starting Test13, LUT offset by 3515.3428747558623 and is now 120534.15728759766. This is a scale_factor of 0.97\n",
    "    # start time is 2021-08-09T19:20:57.838\n",
    "    scale_factor=0.97\n",
    "    t1 = Time(\"2021-08-09T19:20:57.838\", format='isot', scale='tai')\n",
    "    t2 = Time(\"2021-08-09T19:25:04.316\", format='isot', scale='tai')\n",
    "elif run == 'test14':\n",
    "    # Starting Test14, LUT offset by 4690.574579589847 and is now 121645.12935791016. This is a scale_factor of 0.96\n",
    "    # start time is 2021-08-09T19:27:41.837\n",
    "    scale_factor=0.96\n",
    "    t1 = Time(\"2021-08-09T19:27:41.837\", format='isot', scale='tai')\n",
    "    t2 = Time(\"2021-08-09T19:31:44.407\", format='isot', scale='tai')\n",
    "elif run == 'test15':\n",
    "    # Starting Test15, LUT offset by 5864.375487060553 and is now 122909.70173339844. This is a scale_factor of 0.95\n",
    "    # start time is 2021-08-09T19:34:32.863\n",
    "    scale_factor=0.95\n",
    "    t1 = Time(\"2021-08-09T19:34:32.863\", format='isot', scale='tai')\n",
    "    t2 = Time(\"2021-08-09T19:38:35.766\", format='isot', scale='tai') \n",
    "else:\n",
    "    raise IOError('Not a valid input')"
   ]
  },
  {
   "cell_type": "code",
   "execution_count": null,
   "id": "09b86167",
   "metadata": {},
   "outputs": [],
   "source": []
  },
  {
   "cell_type": "code",
   "execution_count": null,
   "id": "acbd43ac",
   "metadata": {},
   "outputs": [],
   "source": [
    "# # # day of 2021-07-08 - Test3 run with scalefactor = 1.02  - not sure this was great, so redid it\n",
    "# t1 = Time(\"2021-08-09T16:42:32.166\", format='isot', scale='tai')\n",
    "# t2 = Time(\"2021-08-09T16:48:41.015\", format='isot', scale='tai')"
   ]
  },
  {
   "cell_type": "code",
   "execution_count": null,
   "id": "6e5940ad",
   "metadata": {},
   "outputs": [],
   "source": [
    "# # # day of 2021-07-08 - Test4 run with scalefactor = 1.04 - ignore, redoing\n",
    "# t1 = Time(\"2021-08-09T16:50:24.872\", format='isot', scale='tai')\n",
    "# t2 = Time(\"2021-08-09T16:59:24.872\", format='isot', scale='tai')"
   ]
  },
  {
   "cell_type": "code",
   "execution_count": null,
   "id": "315bb3ba",
   "metadata": {},
   "outputs": [],
   "source": [
    "# # day of 2021-07-08 - Test4 (didn't increment) run with scalefactor = 1.06 = BAD - Sensor dropped out\n",
    "# t1 = Time(\"2021-08-09T16:59:24.872\", format='isot', scale='tai')\n",
    "# t2 = Time(\"2021-08-09T17:05:32.895\", format='isot', scale='tai')"
   ]
  },
  {
   "cell_type": "code",
   "execution_count": null,
   "id": "8d8b1ef8",
   "metadata": {},
   "outputs": [],
   "source": [
    "base0 = await efd_client.select_time_series(\"lsst.sal.Script.logevent_logMessage\", \n",
    "                                           [\"message\",\"level\"], t1, t2)\n",
    "base0"
   ]
  },
  {
   "cell_type": "code",
   "execution_count": null,
   "id": "31dbb078",
   "metadata": {},
   "outputs": [],
   "source": []
  },
  {
   "cell_type": "code",
   "execution_count": null,
   "id": "64a56b1b",
   "metadata": {},
   "outputs": [],
   "source": [
    "base=base0"
   ]
  },
  {
   "cell_type": "code",
   "execution_count": null,
   "id": "fade9516",
   "metadata": {},
   "outputs": [],
   "source": [
    "el = await efd_client.select_packed_time_series(\"lsst.sal.ATMCS.mount_AzEl_Encoders\", [\"elevationCalculatedAngle1\", ], t1, t2)\n",
    "# mount reporting incorrect timestamp for the packed time series\n",
    "el.index=el.index+pd.tseries.offsets.DateOffset(seconds=-37)"
   ]
  },
  {
   "cell_type": "code",
   "execution_count": null,
   "id": "22624727",
   "metadata": {},
   "outputs": [],
   "source": [
    "pmd = await efd_client.select_time_series(\"lsst.sal.PMD.position\", [\"position0\", \"position1\", \"position2\", \"position3\", \"position4\", \"position5\"], t1, t2)"
   ]
  },
  {
   "cell_type": "code",
   "execution_count": null,
   "id": "59653eb0",
   "metadata": {},
   "outputs": [],
   "source": [
    "pressure = await efd_client.select_time_series(\"lsst.sal.ATPneumatics.m1AirPressure\", [\"pressure\"], t1, t2)"
   ]
  },
  {
   "cell_type": "code",
   "execution_count": null,
   "id": "39a971ea",
   "metadata": {},
   "outputs": [],
   "source": [
    "#base"
   ]
  },
  {
   "cell_type": "code",
   "execution_count": null,
   "id": "4cdd4bbe",
   "metadata": {},
   "outputs": [],
   "source": [
    "tmp = rendezvous_dataframes(base, el)"
   ]
  },
  {
   "cell_type": "code",
   "execution_count": null,
   "id": "7403ce8b",
   "metadata": {},
   "outputs": [],
   "source": [
    "tmp2= rendezvous_dataframes(tmp, pmd)\n",
    "tmp3= rendezvous_dataframes(tmp2, pressure)\n",
    "raw_data = tmp3"
   ]
  },
  {
   "cell_type": "code",
   "execution_count": null,
   "id": "a3b7f7b4",
   "metadata": {},
   "outputs": [],
   "source": [
    "position0_offset = (raw_data.position0[0])\n",
    "position1_offset = (raw_data.position1[0])\n",
    "position2_offset = (raw_data.position2[0])\n",
    "position3_offset = (raw_data.position3[0])\n",
    "position5_offset = (raw_data.position5[0]) # gauge got moved to position 5"
   ]
  },
  {
   "cell_type": "code",
   "execution_count": null,
   "id": "5d10a371",
   "metadata": {},
   "outputs": [],
   "source": [
    "raw_data=raw_data.drop_duplicates(subset=['elevationCalculatedAngle1','message','pressure'])\n",
    "print(raw_data[['elevationCalculatedAngle1','pressure']])"
   ]
  },
  {
   "cell_type": "code",
   "execution_count": null,
   "id": "bcbd6dd9",
   "metadata": {},
   "outputs": [],
   "source": [
    "# from scipy import linalg\n",
    "arr_len = len(raw_data.position0)\n",
    "coeff_arr = np.zeros((arr_len,3))\n",
    "theta_arr = np.zeros((arr_len))\n",
    "phi_arr = np.zeros((arr_len))\n",
    "piston_arr = np.zeros((arr_len))\n",
    "for i in np.arange(arr_len):\n",
    "    # X, Y, Z\n",
    "    set2=np.array((  41.0, 468.0, (raw_data.position2[i]-position2_offset)))\n",
    "    set3=np.array(( 384.0,-269.0, (raw_data.position3[i]-position3_offset)))\n",
    "    set4=np.array((-425.0,-198.0, (raw_data.position5[i]-position5_offset)))\n",
    "\n",
    "    # Vector PQ crossed with Vector PR\n",
    "    normal = np.cross(set3-set2,set4-set2) # gives a,b,c\n",
    "\n",
    "    D= -normal[0]*set2[0] - normal[1]*set2[1] - normal[2]*set2[2]  # Constant in plane equation\n",
    "    # equation \n",
    "    \n",
    "    phi_from_normal = (np.pi/2+np.arctan2(normal[2], normal[1])) * 206265\n",
    "    theta_from_normal = (np.pi/2+np.arctan2(normal[2], normal[0])) * 206265\n",
    "    # find z at the origin to represent piston\n",
    "    Z_origin = -D/normal[2]\n",
    "    \n",
    "    # Measure rotation about the Y-axis (perpendicular to elevation)\n",
    "    # So this is TIP and should result in motion in azimuth\n",
    "    # get slope by looking at Y=0, X=400\n",
    "    x_pt=400; y_pt=0\n",
    "    #Z_at_x_pt= C[0]*x_pt + C[1]*0.0 + C[2]\n",
    "    Z_at_x_pt= (-D - normal[0]*x_pt - normal[1]*0.0)/normal[2]\n",
    "    theta = np.arctan2(Z_at_x_pt-Z_origin, x_pt) * 206265 # arcsec\n",
    "        \n",
    "    # Measure rotation about the X-axis (aligned to elevation)\n",
    "    # this is TILT and should result in motion in elevation\n",
    "    # get slope by looking at Y=0, X=400    \n",
    "    x_pt=0; y_pt=400\n",
    "    Z_at_y_pt= (-D - normal[0]*x_pt - normal[1]*y_pt)/normal[2]\n",
    "    phi = np.arctan2(Z_at_y_pt-Z_origin, y_pt) * 206265 # arcsec\n",
    "\n",
    "    theta_arr[i] = theta # arcsec\n",
    "    phi_arr[i] = phi    # arcsec\n",
    "    piston_arr[i] = Z_origin\n",
    "    \n",
    "#     print(f'theta_from_normal is {theta_from_normal:0.2f}, phi_from_normal is {phi_from_normal:0.2f}')\n",
    "#     print(f'theta_arr is {theta_arr[i]:0.2f} [arcsec], phi_arr is {phi_arr[i]:0.2f} [arcsec]')"
   ]
  },
  {
   "cell_type": "code",
   "execution_count": null,
   "id": "a163828e",
   "metadata": {},
   "outputs": [],
   "source": [
    "import copy\n",
    "calc_data=copy.copy(raw_data)\n",
    "calc_data['m1_tip']=theta_arr\n",
    "calc_data['m1_tilt']=phi_arr\n",
    "calc_data['m1_piston']=piston_arr\n",
    "\n",
    "calc_data['m1_y_pos']=(raw_data.position0-position0_offset)*np.cos(10*np.pi/180)\n",
    "calc_data['m1_x_pos']=(raw_data.position1-position1_offset)*np.cos(10*np.pi/180)"
   ]
  },
  {
   "cell_type": "code",
   "execution_count": null,
   "id": "5da2a29f",
   "metadata": {},
   "outputs": [],
   "source": [
    "#write data to disk\n",
    "filename=\"data/\"+date+'_'+test+\"_\"+run+\"_metadata.csv\"\n",
    "calc_data.to_csv(filename)"
   ]
  },
  {
   "cell_type": "code",
   "execution_count": null,
   "id": "d577c158",
   "metadata": {},
   "outputs": [],
   "source": [
    "fig_height=5\n",
    "fig_width=10\n",
    "nwide=2; nhigh=3\n",
    "fig, (row1,row2,row3) = plt.subplots(nhigh, nwide, figsize=(nwide+fig_width, nhigh*fig_height))\n",
    "fig.suptitle('Rows are')\n",
    "xvals = (calc_data.m1_x_pos) # um\n",
    "yvals = calc_data.elevationCalculatedAngle1\n",
    "\n",
    "row1[0].plot(xvals, yvals, 'o-')\n",
    "row1[0].set_ylabel('Elevation [deg]')\n",
    "row1[0].set_xlabel('M1 X-position [mm]')\n",
    "\n",
    "xvals = (calc_data.m1_tip) # um\n",
    "row1[1].plot(xvals, yvals, 'o-')\n",
    "row1[1].set_xlabel('M1 tip [arcsec]')\n",
    "\n",
    "xvals = (calc_data.m1_y_pos) # mm\n",
    "row2[0].plot(xvals, yvals, 'o-')\n",
    "row2[0].set_ylabel('Elevation [deg]')\n",
    "row2[0].set_xlabel('M1 X-position [mm]')\n",
    "\n",
    "xvals = (calc_data.m1_tilt) # um\n",
    "row2[1].plot(xvals, yvals, 'o-')\n",
    "row2[1].set_xlabel('M1 tilt [arcsec]')\n",
    "\n",
    "xvals = (calc_data.m1_piston) # mm\n",
    "row3[0].plot(xvals, yvals, 'o-')\n",
    "row3[0].set_ylabel('Elevation [deg]')\n",
    "row3[0].set_xlabel('M1 Z-position [mm]')\n",
    "\n",
    "xvals = (calc_data.pressure) # mm\n",
    "row3[1].plot(xvals, yvals, 'o-')\n",
    "row3[1].set_ylabel('Elevation [deg]')\n",
    "row3[1].set_xlabel('Pressure [Pa]')"
   ]
  },
  {
   "cell_type": "code",
   "execution_count": null,
   "id": "aba7e8cd",
   "metadata": {},
   "outputs": [],
   "source": []
  },
  {
   "cell_type": "code",
   "execution_count": null,
   "id": "72e61269",
   "metadata": {},
   "outputs": [],
   "source": [
    "# with pd.option_context('display.max_rows', None, 'display.max_columns', None):  # more options can be specified also\n",
    "#     hex_elevation"
   ]
  },
  {
   "cell_type": "code",
   "execution_count": null,
   "id": "e221addd",
   "metadata": {},
   "outputs": [],
   "source": []
  },
  {
   "cell_type": "markdown",
   "id": "290eede8",
   "metadata": {},
   "source": [
    "# Now overplot the datasets"
   ]
  },
  {
   "cell_type": "code",
   "execution_count": null,
   "id": "bad7c5c8",
   "metadata": {},
   "outputs": [],
   "source": [
    "import itertools\n",
    "import matplotlib.cm as cm\n",
    "from matplotlib import colors\n",
    "runs = ['initial','test3b','test4b','test5b','test6','test7','test8','test9','test10','test11','test12','test13','test14','test15']\n",
    "#sym= ['.-','x-','triangle_up-']\n",
    "\n",
    "marker = itertools.cycle((',-', '+--', 'x-', 'v-', '*-')) \n",
    "#colors=['red','blue','green']\n",
    "colors = cm.rainbow(np.linspace(0, 1, len(runs)))\n",
    "df={}\n",
    "\n",
    "scale_factors={'run':[], 'scale_factor':[]}\n",
    "fig_height=10\n",
    "fig_width=20\n",
    "\n",
    "%matplotlib inline\n",
    "\n",
    "nwide=3; nhigh=2\n",
    "fig, (row1,row2) = plt.subplots(nhigh, nwide, figsize=(nwide+fig_width, nhigh*fig_height))\n",
    "#fig.suptitle('Rows are')\n",
    "\n",
    "for i,r in enumerate(runs):\n",
    "    filename=\"data/\"+date+'_'+test+\"_\"+r+\"_metadata.csv\"\n",
    "#     print(filename)\n",
    "    df[r] = pd.read_csv(filename, index_col=0)\n",
    "    df[r].index=pd.to_datetime(df[r].index)\n",
    "    # drop duplicates, not sure why there are double logs..\n",
    "    df[r].drop_duplicates(subset=['elevationCalculatedAngle1','message','pressure'])\n",
    "\n",
    "    if r =='initial':\n",
    "        starting_pressure = df[r].pressure[0]\n",
    "\n",
    "    scale_factor = 1-(df[r].pressure[0]-starting_pressure)/starting_pressure\n",
    "    scale_factors['run'].append(r)\n",
    "    scale_factors['scale_factor'].append(scale_factor)\n",
    "\n",
    "#     print(f'ratio is {scale_factor:0.3f} for {r}')\n",
    "    \n",
    "    xvals = (df[r].m1_x_pos) # um\n",
    "    yvals = df[r].elevationCalculatedAngle1\n",
    "    sym=next(marker)\n",
    "    label = f'{r} {scale_factor:0.3f}'\n",
    "    color=colors[i]\n",
    "    row1[0].plot(xvals, yvals, sym, color=color, label=label)\n",
    "    row1[0].set_ylabel('Elevation [deg]')\n",
    "    row1[0].set_xlabel('M1 X-position [mm]')\n",
    "    \n",
    "    xvals = (df[r].m1_y_pos) # mm\n",
    "    row1[1].plot(xvals, yvals, sym, color=color, label=label)\n",
    "    row1[1].set_ylabel('Elevation [deg]')\n",
    "    row1[1].set_xlabel('M1 Y-position [mm]')\n",
    "\n",
    "    xvals = (df[r].m1_piston) # mm\n",
    "    row1[2].plot(xvals, yvals, sym, color=color, label=label)\n",
    "    row1[2].set_ylabel('Elevation [deg]')\n",
    "    row1[2].set_xlabel('M1 Z-position [mm]')\n",
    "\n",
    "    row1[2].legend(bbox_to_anchor=(1.05, 1), loc='upper right', borderaxespad=0.)\n",
    "    \n",
    "    xvals = (df[r].m1_tip) # um   - Tip should mean azimuth motion\n",
    "    row2[0].plot(xvals, yvals, sym, color=color, label=label)\n",
    "    row2[0].set_xlabel('M1 tip [arcsec]')\n",
    "    row2[0].legend(bbox_to_anchor=(1.05, 1), loc='upper right', borderaxespad=0.)\n",
    "    \n",
    "    xvals = (df[r].m1_tilt) # um\n",
    "    row2[1].plot(xvals, yvals, sym, color=color, label=label)\n",
    "    row2[1].set_xlabel('M1 tilt [arcsec]')\n",
    "\n",
    "    xvals = (df[r].pressure) # um   - Tip should mean azimuth motion\n",
    "    row2[2].plot(xvals, yvals, sym, color=color, label=label)\n",
    "    row2[2].set_xlabel('Pressure [Pa]')"
   ]
  },
  {
   "cell_type": "code",
   "execution_count": null,
   "id": "c6131ed7",
   "metadata": {},
   "outputs": [],
   "source": [
    "for i in range(len(scale_factors['run'])):\n",
    "    print(f'{scale_factors[\"run\"][i]} {scale_factors[\"scale_factor\"][i]:0.3f}')"
   ]
  },
  {
   "cell_type": "code",
   "execution_count": null,
   "id": "d3e239bf",
   "metadata": {},
   "outputs": [],
   "source": [
    "# For the fit we want to choose pressures from each curve, essentially assigning an elevation range for each run\n",
    "# So first assign a range for each run\n",
    "ranges={}\n",
    "ranges['test15']=np.array((0,0)) # don't take data from this one\n",
    "ranges['test14']=np.array((90,80))\n",
    "ranges['test13']=np.array((80,76))\n",
    "ranges['test12']=np.array((75,70))\n",
    "ranges['test11']=np.array((70,65))\n",
    "ranges['initial']=np.array((0,0)) # don't take data from this one\n",
    "ranges['test3b']=np.array((64,58))\n",
    "ranges['test4b']=np.array((57,49))\n",
    "ranges['test5b']=np.array((48,45))\n",
    "ranges['test6']=np.array((44,41))\n",
    "ranges['test7']=np.array((40,39))\n",
    "ranges['test8']=np.array((38,35))\n",
    "ranges['test9']=np.array((34,33))\n",
    "ranges['test10']=np.array((31,25))"
   ]
  },
  {
   "cell_type": "code",
   "execution_count": null,
   "id": "1c3cad47",
   "metadata": {},
   "outputs": [],
   "source": [
    "combined_data={'elevationCalculatedAngle1':np.zeros(0), 'pressure': np.zeros(0), 'm1_tip': np.zeros(0),\n",
    "               'm1_tilt': np.zeros(0), 'm1_x_pos': np.zeros(0), 'm1_y_pos': np.zeros(0), 'm1_piston': np.zeros(0) }\n",
    "elevation_range=np.arange(25,83,1)\n",
    "for i,r in enumerate(runs):\n",
    "    # skip the runs that we don't take data from \n",
    "    filename=\"data/\"+date+'_'+test+\"_\"+r+\"_metadata.csv\"\n",
    "    #print(filename)\n",
    "    df[r] = pd.read_csv(filename, index_col=0)\n",
    "    df[r].index=pd.to_datetime(df[r].index)\n",
    "    # drop duplicates, not sure why there are double logs..\n",
    "    df[r]=df[r].drop_duplicates(subset=['elevationCalculatedAngle1'])\n",
    "    # loop over keys in combined data\n",
    "    for key in combined_data.keys():\n",
    "        # First need to sort the data by elevation\n",
    "        args=np.argsort(df[r]['elevationCalculatedAngle1'].values)\n",
    "        # first verify things are monotonically increasing\n",
    "        xvals=df[r]['elevationCalculatedAngle1'].values[args]\n",
    "        if ~np.all(np.diff(xvals) > 0):\n",
    "            raise IOError(f'Values not monotonically increasing. Values are {xvals}')\n",
    "        # Interpolate the data    \n",
    "        int_data = np.interp(elevation_range, xvals,df[r][key].values[args])\n",
    "        # find the data that corresponds to the range for that run\n",
    "        ind=np.where(np.logical_and(elevation_range>=ranges[r][1], elevation_range<=ranges[r][0]))\n",
    "        combined_data[key]=np.append(combined_data[key], int_data[ind],axis=0)\n",
    "    #print(ind)\n",
    "    #ranges[r]=np.array()"
   ]
  },
  {
   "cell_type": "code",
   "execution_count": null,
   "id": "6ceb7fed",
   "metadata": {},
   "outputs": [],
   "source": [
    "# combined_data={'elevationCalculatedAngle1':np.zeros(0), 'pressure': np.zeros(0), 'm1_tip': np.zeros(0),\n",
    "#                'm1_tilt': np.zeros(0), 'm1_x_pos': np.zeros(0), 'm1_y_pos': np.zeros(0), 'm1_piston': np.zeros(0) }\n",
    "# elevation_range=np.arange(25,83,1)\n",
    "# r='initial'\n",
    "# filename=date+'_'+test+\"_\"+r+\"_metadata.csv\"\n",
    "# df[r] = pd.read_csv(filename, index_col=0)\n",
    "# df[r].index=pd.to_datetime(df[r].index)\n",
    "# # drop duplicates, not sure why there are double logs..\n",
    "# df[r]=df[r].drop_duplicates(subset=['elevationCalculatedAngle1'])\n",
    "# key='m1_tip'\n",
    "# # for key in combined_data.keys():\n",
    "# # First need to sort the data by elevation\n",
    "# args=np.argsort(df[r]['elevationCalculatedAngle1'].values)\n",
    "# # Interpolate the data\n",
    "# # first verify things are monotonically increasing\n",
    "# xvals=df[r]['elevationCalculatedAngle1'].values[args]\n",
    "# if ~np.all(np.diff(xvals) > 0):\n",
    "#     raise IOError(f'Values not monotonically increasing. Values are {xvals}')\n",
    "# int_data = np.interp(elevation_range, xvals,df[r][key].values[args])\n",
    "# # find the data that corresponds to the range for that run\n",
    "# ind=np.where(np.logical_and(elevation_range>=ranges[r][1], elevation_range<=ranges[r][0]))\n",
    "# combined_data[key]=np.append(combined_data[key], int_data[ind],axis=0)"
   ]
  },
  {
   "cell_type": "code",
   "execution_count": null,
   "id": "5b9cf078",
   "metadata": {},
   "outputs": [],
   "source": [
    "fig_height=5\n",
    "fig_width=10\n",
    "nwide=2; nhigh=3\n",
    "fig, (row1,row2,row3) = plt.subplots(nhigh, nwide, figsize=(nwide+fig_width, nhigh*fig_height))\n",
    "#fig.suptitle('Rows are')\n",
    "\n",
    "# Sort by elevation\n",
    "args=np.argsort(combined_data['elevationCalculatedAngle1'])\n",
    "\n",
    "xvals = (combined_data['m1_x_pos'][args]) # um\n",
    "yvals = combined_data['elevationCalculatedAngle1'][args]\n",
    "row1[0].plot(xvals, yvals, 'o-')\n",
    "row1[0].set_ylabel('Elevation [deg]')\n",
    "row1[0].set_xlabel('M1 X-position [mm]')\n",
    "\n",
    "xvals = (combined_data['m1_tip'][args]) # um\n",
    "row1[1].plot(xvals, yvals, 'o-')\n",
    "row1[1].set_xlabel('M1 tip [arcsec]')\n",
    "\n",
    "xvals = (combined_data['m1_y_pos'][args]) # mm\n",
    "row2[0].plot(xvals, yvals, 'o-')\n",
    "row2[0].set_ylabel('Elevation [deg]')\n",
    "row2[0].set_xlabel('M1 X-position [mm]')\n",
    "\n",
    "xvals = (combined_data['m1_tilt'][args]) # um\n",
    "row2[1].plot(xvals, yvals, 'o-')\n",
    "row2[1].set_xlabel('M1 tilt [arcsec]')\n",
    "\n",
    "xvals = (combined_data['m1_piston'][args]) # mm\n",
    "row3[0].plot(xvals, yvals, 'o-')\n",
    "row3[0].set_ylabel('Elevation [deg]')\n",
    "row3[0].set_xlabel('M1 Z-position [mm]')\n",
    "\n",
    "xvals = (combined_data['pressure'][args]) # mm\n",
    "row3[1].plot(xvals, yvals, 'o-')\n",
    "row3[1].set_ylabel('Elevation [deg]')\n",
    "row3[1].set_xlabel('Pressure [Pa]')"
   ]
  },
  {
   "cell_type": "code",
   "execution_count": null,
   "id": "dd9b92db",
   "metadata": {},
   "outputs": [],
   "source": []
  },
  {
   "cell_type": "code",
   "execution_count": null,
   "id": "cb8d42fb",
   "metadata": {},
   "outputs": [],
   "source": [
    "# Now do a fit to the pressure curve\n",
    "# fit values from are\n",
    "# m1:\n",
    "#   -     -16218.270\n",
    "#   -    +139909.826\n",
    "#   -      -5150.417"
   ]
  },
  {
   "cell_type": "code",
   "execution_count": null,
   "id": "74d038c3",
   "metadata": {},
   "outputs": [],
   "source": [
    "el=combined_data['elevationCalculatedAngle1'][args]\n",
    "pressure=combined_data['pressure'][args]\n",
    "fit_z = np.polyfit(np.cos(np.radians(90. - el)), pressure, 3)\n",
    "poly_z = np.poly1d(fit_z)\n",
    "\n",
    "fig_height=7\n",
    "fig_width=10\n",
    "nwide=1; nhigh=1\n",
    "fig, ax = plt.subplots(nhigh, nwide, figsize=(nwide+fig_width, nhigh*fig_height))\n",
    "\n",
    "ax.plot(el, pressure, '.')\n",
    "ax.set_xlabel('Elevation [deg]')\n",
    "ax.set_ylabel('Pressure [Pa]')\n",
    "pressure_fit=poly_z(np.cos(np.radians(90. - el)))\n",
    "ax.plot(el, pressure_fit,label='new_fit', color='red')\n",
    "# plt.plot(el, rev_poly_z(np.cos(np.radians(90. - el))))\n",
    "\n",
    "# plot the old fit\n",
    "old_poly_z = np.poly1d([-16218.270, 139909.826, -5150.417])\n",
    "old_pressure_fit=old_poly_z(np.cos(np.radians(90. - el)))\n",
    "ax.plot(el, old_pressure_fit,'-', label='hex_m1_hex_20210707_v3.yaml', color='black')\n",
    "ax.legend()\n",
    "\n",
    "ax2=ax.twinx()\n",
    "# make a plot with different y-axis using second axis object\n",
    "ax2.plot(el, pressure_fit*0.000145038,'.')\n",
    "ax2.set_ylabel(\"Pressure [PSI]\")"
   ]
  },
  {
   "cell_type": "code",
   "execution_count": null,
   "id": "096cae75",
   "metadata": {},
   "outputs": [],
   "source": [
    "fit_z"
   ]
  },
  {
   "cell_type": "code",
   "execution_count": null,
   "id": "2c279548",
   "metadata": {},
   "outputs": [],
   "source": [
    "# Compare against the others just to see\n",
    "import itertools\n",
    "import matplotlib.cm as cm\n",
    "from matplotlib import colors\n",
    "runs = ['initial','test3b','test4b','test5b','test6','test7','test8','test9','test10','test11','test12','test13','test14','test15']\n",
    "#sym= ['.-','x-','triangle_up-']\n",
    "\n",
    "marker = itertools.cycle((',-', '+--', 'x-', 'v-', '*-')) \n",
    "#colors=['red','blue','green']\n",
    "colors = cm.rainbow(np.linspace(0, 1, len(runs)))\n",
    "df={}\n",
    "\n",
    "scale_factors={'run':[], 'scale_factor':[]}\n",
    "fig_height=10\n",
    "fig_width=20\n",
    "\n",
    "%matplotlib inline\n",
    "\n",
    "nwide=1; nhigh=1\n",
    "fig, (row1) = plt.subplots(nhigh, nwide, figsize=(nwide+fig_width, nhigh*fig_height))\n",
    "#fig, ax1 = plt.subplots()\n",
    "#fig.suptitle('Rows are')\n",
    "\n",
    "for i,r in enumerate(runs):\n",
    "    filename=date+'_'+test+\"_\"+r+\"_metadata.csv\"\n",
    "#     print(filename)\n",
    "    df[r] = pd.read_csv(filename, index_col=0)\n",
    "    df[r].index=pd.to_datetime(df[r].index)\n",
    "    # drop duplicates, not sure why there are double logs..\n",
    "    df[r].drop_duplicates(subset=['elevationCalculatedAngle1'])\n",
    "\n",
    "    if r =='initial':\n",
    "        starting_pressure = df[r].pressure[0]\n",
    "\n",
    "    scale_factor = 1-(df[r].pressure[0]-starting_pressure)/starting_pressure\n",
    "    scale_factors['run'].append(r)\n",
    "    scale_factors['scale_factor'].append(scale_factor)\n",
    "    \n",
    "    yvals = df[r].elevationCalculatedAngle1\n",
    "    sym=next(marker)\n",
    "    label = f'{r} {scale_factor:0.3f}'\n",
    "    color=colors[i]\n",
    "#     print(f'ratio is {scale_factor:0.3f} for {r}')\n",
    " \n",
    "    xvals = (df[r].pressure) # um   - Tip should mean azimuth motion\n",
    "    row1.plot(xvals, yvals, sym, color=color, label=label)\n",
    "    row1.set_xlabel('Pressure [Pa]')\n",
    "    \n",
    "    row1.legend(bbox_to_anchor=(1.05, 1), loc='upper right', borderaxespad=0.)\n",
    "    \n",
    "row1.plot(pressure_fit, el, label='new_fit', color='black')"
   ]
  },
  {
   "cell_type": "code",
   "execution_count": null,
   "id": "4d22dd17",
   "metadata": {},
   "outputs": [],
   "source": [
    "# The pressure transducer has a 0.1% error and comes in various ranges.\n",
    "# We need to find out how much error we can tolerate in M1 position.\n",
    "\n",
    "# plot the hexapod LUT \n",
    "hex_z = np.poly1d([-0.217, -1.045])\n",
    "hex_z_data=hex_z(np.cos(np.radians(90. - el)))\n",
    "fig,ax = plt.subplots()\n",
    "ax.plot(el, hex_z_data,'-', label='m1_hex_20210817_v3.yaml', color='black')\n",
    "ax.set_ylabel('Hexapod Z-position [mm]')\n",
    "ax.set_xlabel('Elevation [deg]')\n",
    "ax.legend()"
   ]
  },
  {
   "cell_type": "code",
   "execution_count": null,
   "id": "74f2ce9d",
   "metadata": {},
   "outputs": [],
   "source": [
    "#so over the range, the hexapod moves \n",
    "dz=np.abs(np.max(hex_z_data)-np.min(hex_z_data))\n",
    "delev=np.abs(np.max(el)-np.min(el))\n",
    "print(f'variation is roughly {dz/delev:0.4f} [mm/deg]')"
   ]
  },
  {
   "cell_type": "code",
   "execution_count": null,
   "id": "dd64b3f8",
   "metadata": {},
   "outputs": [],
   "source": [
    "# So 0.1% is X PSI which is X degress of M1 motion which is Y mm of hexapod motion, which is "
   ]
  },
  {
   "cell_type": "code",
   "execution_count": null,
   "id": "c6ae70c8",
   "metadata": {},
   "outputs": [],
   "source": [
    "# For a transducer\n",
    "err_psi=(60-2)*0.001 # range is from 2-60 PSI, error is 0.1%\n",
    "err_pa=err_psi/0.000145038\n",
    "print(f'error is pascals is {err_pa:0.1f}')"
   ]
  },
  {
   "cell_type": "code",
   "execution_count": null,
   "id": "230cdad6",
   "metadata": {},
   "outputs": [],
   "source": [
    "ind=np.where(np.logical_and(el>=28, el<=40))\n",
    "fit_z_limited_range = np.polyfit(el[ind], pressure[ind], 1)\n",
    "poly_z_limited_range = np.poly1d(fit_z_limited_range)\n",
    "print(f'Fitting only this region says the pressure changes {fit_z_limited_range[1]:0.1f} [Pa/deg]')"
   ]
  },
  {
   "cell_type": "code",
   "execution_count": null,
   "id": "5cae6310",
   "metadata": {},
   "outputs": [],
   "source": [
    "fig,ax = plt.subplots()\n",
    "\n",
    "ax.plot(el, pressure, '.')\n",
    "ax.set_xlabel('Elevation [deg]')\n",
    "ax.set_ylabel('Pressure [Pa]')\n",
    "pressure_fit=poly_z_limited_range(el)\n",
    "ax.plot(el, pressure_fit,label='new_fit', color='red')\n",
    "# ax.legend()\n",
    "\n",
    "# ax2=ax.twinx()\n",
    "# # make a plot with different y-axis using second axis object\n",
    "# ax2.plot(el, pressure_fit*0.000145038,'.')\n",
    "# ax2.set_ylabel(\"Pressure [PSI]\")"
   ]
  },
  {
   "cell_type": "code",
   "execution_count": null,
   "id": "51506220",
   "metadata": {},
   "outputs": [],
   "source": [
    "fit_z_limited_range"
   ]
  },
  {
   "cell_type": "code",
   "execution_count": null,
   "id": "90c9e61f",
   "metadata": {},
   "outputs": [],
   "source": [
    "# the fit from 28-40 in elevation gives the following about of Pa/degrees\n",
    "err_motion_equivalent=err_pa/poly_z_limited_range[1]\n",
    "print(f'the transducer pressure error corresponds to standard motion of {err_motion_equivalent:0.3f} [deg]')"
   ]
  },
  {
   "cell_type": "code",
   "execution_count": null,
   "id": "b826a284",
   "metadata": {},
   "outputs": [],
   "source": [
    "ind=np.where(np.logical_and(el>=28, el<=40))\n",
    "fit_hex_z_limited_range = np.polyfit(el[ind], hex_z_data[ind], 1)\n",
    "poly_hex_z_limited_range = np.poly1d(fit_hex_z_limited_range)\n",
    "print(f'Fitting only this region says the hexapod changes {poly_hex_z_limited_range[1]:0.5f} [mm/deg]')"
   ]
  },
  {
   "cell_type": "code",
   "execution_count": null,
   "id": "3087a43e",
   "metadata": {},
   "outputs": [],
   "source": [
    "hex_z_motion_err = poly_hex_z_limited_range[1]*err_motion_equivalent*1e3 # [um]\n",
    "# Using a 4nm/um sensitivity (from the model)\n",
    "print(f'The transducer error corresponds to {hex_z_motion_err:0.2f} [um], which is ~{4*hex_z_motion_err:0.2f}[nm]')"
   ]
  },
  {
   "cell_type": "code",
   "execution_count": null,
   "id": "91a9ea9e",
   "metadata": {},
   "outputs": [],
   "source": [
    "# The pressure transducer has a 0.1% error and comes in various ranges.\n",
    "# We need to find out how much error we can tolerate in M1 position.\n",
    "\n",
    "# plot the hexapod LUT \n",
    "hex_z = np.poly1d([-0.217, -1.045])\n",
    "hex_z_data=hex_z(np.cos(np.radians(90. - el)))\n",
    "fig,ax = plt.subplots()\n",
    "ax.plot(el, hex_z_data,'-', label='m1_hex_20210817_v3.yaml', color='black')\n",
    "ax.set_ylabel('Hexapod Z-position [mm]')\n",
    "ax.set_xlabel('Elevation [deg]')\n",
    "ax.plot(el,poly_hex_z_limited_range(el),label='linear fit to restricted range')\n",
    "ax.legend()"
   ]
  },
  {
   "cell_type": "code",
   "execution_count": null,
   "id": "a0c53187",
   "metadata": {},
   "outputs": [],
   "source": []
  }
 ],
 "metadata": {
  "kernelspec": {
   "display_name": "LSST",
   "language": "python",
   "name": "lsst"
  },
  "language_info": {
   "codemirror_mode": {
    "name": "ipython",
    "version": 3
   },
   "file_extension": ".py",
   "mimetype": "text/x-python",
   "name": "python",
   "nbconvert_exporter": "python",
   "pygments_lexer": "ipython3",
   "version": "3.8.8"
  }
 },
 "nbformat": 4,
 "nbformat_minor": 5
}
