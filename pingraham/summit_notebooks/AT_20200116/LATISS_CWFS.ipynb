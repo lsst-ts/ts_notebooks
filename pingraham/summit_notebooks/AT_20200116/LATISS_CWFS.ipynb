{
 "cells": [
  {
   "cell_type": "markdown",
   "metadata": {},
   "source": [
    "### Notebook to be used to test that ATCamera, ATHeaderService and ATArchiver are online and working"
   ]
  },
  {
   "cell_type": "code",
   "execution_count": null,
   "metadata": {},
   "outputs": [],
   "source": [
    "import numpy as np\n",
    "from lsst.ts import salobj\n",
    "import wget\n",
    "import asyncio\n",
    "from astropy.io import fits\n",
    "from astropy import time as astropytime\n",
    "\n",
    "import warnings\n",
    "#import matplotlib.pyplot as plt  # imported as py above\n",
    "from astropy.modeling import models, fitting\n",
    "from scipy.ndimage.filters import gaussian_filter\n",
    "from matplotlib import pyplot as plt\n",
    "#%matplotlib ipympl\n",
    "plt.rcParams['figure.figsize'] = [7, 6]\n",
    "\n",
    "import lsst.daf.persistence as dafPersist\n",
    "import matplotlib.pyplot as plt\n",
    "%matplotlib inline\n",
    "import lsst.afw.display as afwDisplay\n",
    "\n",
    "afwDisplay.setDefaultBackend('matplotlib')\n",
    "import time\n",
    "import lsst.afw.cameraGeom.utils as cameraGeomUtils\n",
    "import lsst.geom\n",
    "\n",
    "from scipy.signal import medfilt\n",
    "import copy\n",
    "from scipy.ndimage.filters import gaussian_filter\n",
    "from scipy import ndimage\n",
    "\n",
    "import os\n",
    "import logging\n",
    "logging.basicConfig(level=logging.INFO,\n",
    "                    format='%(asctime)s %(name)-12s %(levelname)-8s %(message)s')\n",
    "logger = logging.getLogger('image_display_notebook')"
   ]
  },
  {
   "cell_type": "code",
   "execution_count": null,
   "metadata": {},
   "outputs": [],
   "source": [
    "#Import CWFS package\n",
    "from lsst import cwfs\n",
    "from lsst.cwfs.instrument import Instrument\n",
    "from lsst.cwfs.algorithm import Algorithm\n",
    "from lsst.cwfs.image import Image, readFile, aperture2image, showProjection\n",
    "import lsst.cwfs.plots as plots"
   ]
  },
  {
   "cell_type": "code",
   "execution_count": null,
   "metadata": {},
   "outputs": [],
   "source": [
    "# Want to display in firefly?\n",
    "afwDisplay.setDefaultBackend('firefly')\n",
    "os.environ['FIREFLY_HTML'] = \"slate.html\"\n",
    "os.environ['FIREFLY_URL'] = 'http://139.229.170.210:8080/firefly/'"
   ]
  },
  {
   "cell_type": "code",
   "execution_count": null,
   "metadata": {},
   "outputs": [],
   "source": [
    "# # Setup the butler\n",
    "#accs_images = True\n",
    "accs_images = False\n",
    "if accs_images:\n",
    "    repo = os.path.join(\"/home/saluser/ingest/accs/\")#, mapper={'calibRoot': \"/home/saluser/ingest/dmcs/CALIB\"})\n",
    "    butler = dafPersist.Butler(repo)\n",
    "else:\n",
    "    #repo = os.path.join(\"/home/saluser/ingest/dmcs/\")#, mapper={'calibRoot': \"/home/saluser/ingest/dmcs/CALIB\"})\n",
    "    repo = os.path.join(\"/mnt/dmcs/oods_butler_repo/repo/\")\n",
    "    butler = dafPersist.Butler(repo) #\n",
    "    #butler = dafPersist.Butler(repo, mapper=\"lsst.obs.lsst.auxTel.AuxTelMapper\")\n",
    "#test   \n",
    "#raw = butler.get(\"raw\", visit=2019111300004)\n",
    "#image = raw.getImage().array"
   ]
  },
  {
   "cell_type": "code",
   "execution_count": null,
   "metadata": {},
   "outputs": [],
   "source": []
  },
  {
   "cell_type": "code",
   "execution_count": null,
   "metadata": {},
   "outputs": [],
   "source": [
    "# Load the LATISS class\n",
    "from lsst.ts.standardscripts.auxtel.latiss import LATISS\n",
    "\n",
    "latiss = LATISS()\n",
    "\n",
    "await latiss.start_task "
   ]
  },
  {
   "cell_type": "code",
   "execution_count": null,
   "metadata": {},
   "outputs": [],
   "source": [
    "# Load the ATTCS class\n",
    "from lsst.ts.standardscripts.auxtel.attcs import ATTCS\n",
    "\n",
    "attcs = ATTCS(domain=latiss.domain)\n",
    "\n",
    "await attcs.start_task "
   ]
  },
  {
   "cell_type": "markdown",
   "metadata": {},
   "source": [
    "## Perform State Transitions"
   ]
  },
  {
   "cell_type": "code",
   "execution_count": null,
   "metadata": {},
   "outputs": [],
   "source": [
    "# Get state of CSC\n",
    "salobj.State((attcs.athexapod.evt_summaryState.get()).summaryState)"
   ]
  },
  {
   "cell_type": "code",
   "execution_count": null,
   "metadata": {},
   "outputs": [],
   "source": [
    "# State transitions\n",
    "#await salobj.set_summary_state(latiss.atspec, salobj.State.OFFLINE, timeout=60, settingsToApply='current')"
   ]
  },
  {
   "cell_type": "code",
   "execution_count": null,
   "metadata": {},
   "outputs": [],
   "source": []
  },
  {
   "cell_type": "code",
   "execution_count": null,
   "metadata": {},
   "outputs": [],
   "source": [
    "#Setup LATISS\n",
    "#await latiss.atspec.cmd_homeLinearStage.start(timeout=90)\n",
    "#await latiss.setup_atspec(filter='blank_bk7_wg05', grating='empty_1', linear_stage=60)"
   ]
  },
  {
   "cell_type": "code",
   "execution_count": null,
   "metadata": {},
   "outputs": [],
   "source": []
  },
  {
   "cell_type": "code",
   "execution_count": null,
   "metadata": {},
   "outputs": [],
   "source": [
    "# Declare target name\n",
    "target_name='HD32309'"
   ]
  },
  {
   "cell_type": "code",
   "execution_count": null,
   "metadata": {},
   "outputs": [],
   "source": [
    "logger = salobj.Controller(\"Script\", index=1)\n",
    "logger.evt_logMessage.set_put(message=\"Test Starting for target: {}\".format(target_name))"
   ]
  },
  {
   "cell_type": "markdown",
   "metadata": {},
   "source": [
    "## Declare focus offsets"
   ]
  },
  {
   "cell_type": "code",
   "execution_count": null,
   "metadata": {},
   "outputs": [],
   "source": [
    "dz = 0.8\n",
    "offset_intra = {'m1': 0.0,\n",
    "          'm2': 0.0,\n",
    "          'x': 0.0,\n",
    "          'y': 0.0,\n",
    "          'z': -dz,\n",
    "          'u': 0.0,\n",
    "          'v': 0.0\n",
    "          }\n",
    "offset_extra = {'m1': 0.0,\n",
    "          'm2': 0.0,\n",
    "          'x': 0.0,\n",
    "          'y': 0.0,\n",
    "          'z': 2*dz,\n",
    "          'u': 0.0,\n",
    "          'v': 0.0\n",
    "          }"
   ]
  },
  {
   "cell_type": "markdown",
   "metadata": {},
   "source": [
    "## Declare grating, filters, expTime, group_id, image_type"
   ]
  },
  {
   "cell_type": "code",
   "execution_count": null,
   "metadata": {},
   "outputs": [],
   "source": [
    "filter='blank_bk7_wg05'\n",
    "grating='ronchi90lpmm'"
   ]
  },
  {
   "cell_type": "markdown",
   "metadata": {},
   "source": [
    "## Move to intra-focal image (-z on hexapod)"
   ]
  },
  {
   "cell_type": "code",
   "execution_count": null,
   "metadata": {},
   "outputs": [],
   "source": [
    "# Move intra-focus\n",
    "attcs.athexapod.evt_positionUpdate.flush()\n",
    "await attcs.ataos.cmd_offset.set_start(**offset_intra)\n",
    "curr_hex_pos = await attcs.athexapod.evt_positionUpdate.next(flush=False, timeout=30)"
   ]
  },
  {
   "cell_type": "markdown",
   "metadata": {},
   "source": [
    "### Take an exposure"
   ]
  },
  {
   "cell_type": "code",
   "execution_count": null,
   "metadata": {},
   "outputs": [],
   "source": [
    "expTime=45.0 # seconds\n",
    "group_id=astropytime.Time.now().tai.isot\n",
    "\n",
    "intra_endReadout = await latiss.take_image(exptime=expTime, shutter=True,image_type='ENGTEST',\n",
    "                                           group_id=group_id, filter=filter, grating=grating) # 'blank_bk7_wg05' KPNO_406_828nm'  'KPNO_1111_436nm' 'KPNO_373A_677nm' 'ronchi170lpmm'\n"
   ]
  },
  {
   "cell_type": "code",
   "execution_count": null,
   "metadata": {},
   "outputs": [],
   "source": [
    "# OODS event not in currently deployed XML (4.4.1)\n",
    "#test= await ATArchiver.evt_imageInOODS.next(flush=False, timeout=30) "
   ]
  },
  {
   "cell_type": "code",
   "execution_count": null,
   "metadata": {},
   "outputs": [],
   "source": []
  },
  {
   "cell_type": "code",
   "execution_count": null,
   "metadata": {},
   "outputs": [],
   "source": [
    "logger.evt_logMessage.set_put(message=\"CCS intraImage for target: {}\".format(intra_endReadout.imageName))"
   ]
  },
  {
   "cell_type": "code",
   "execution_count": null,
   "metadata": {},
   "outputs": [],
   "source": []
  },
  {
   "cell_type": "markdown",
   "metadata": {},
   "source": [
    "## Move to extra-focal image  (+z on hexapod)"
   ]
  },
  {
   "cell_type": "code",
   "execution_count": null,
   "metadata": {},
   "outputs": [],
   "source": [
    "# Move extra-focus\n",
    "attcs.athexapod.evt_positionUpdate.flush()\n",
    "await attcs.ataos.cmd_offset.set_start(**offset_extra)\n",
    "curr_hex_pos = await attcs.athexapod.evt_positionUpdate.next(flush=False, timeout=30)"
   ]
  },
  {
   "cell_type": "markdown",
   "metadata": {},
   "source": [
    "### Take an exposure"
   ]
  },
  {
   "cell_type": "code",
   "execution_count": null,
   "metadata": {},
   "outputs": [],
   "source": [
    "#First flush events that we want to listen to\n",
    "extra_endReadout = await latiss.take_image(exptime=expTime, shutter=True,image_type='ENGTEST',\n",
    "                                           group_id=group_id, filter=filter, grating=grating)# 'blank_bk7_wg05' KPNO_406_828nm'  'KPNO_1111_436nm' 'KPNO_373A_677nm' 'ronchi170lpmm'\n"
   ]
  },
  {
   "cell_type": "code",
   "execution_count": null,
   "metadata": {},
   "outputs": [],
   "source": [
    "# OODS event not in currently deployed XML (4.4.1)\n",
    "#test= await ATArchiver.evt_imageInOODS.next(flush=False, timeout=30) "
   ]
  },
  {
   "cell_type": "code",
   "execution_count": null,
   "metadata": {},
   "outputs": [],
   "source": [
    "logger.evt_logMessage.set_put(message=\"CCS extraImage for target: {}\".format(extra_endReadout.imageName))"
   ]
  },
  {
   "cell_type": "code",
   "execution_count": null,
   "metadata": {},
   "outputs": [],
   "source": []
  },
  {
   "cell_type": "markdown",
   "metadata": {},
   "source": [
    "## Move Hexapod back to focus Position"
   ]
  },
  {
   "cell_type": "code",
   "execution_count": null,
   "metadata": {},
   "outputs": [],
   "source": [
    "#Move the hexapod back\n",
    "# move back to zero offset\n",
    "attcs.athexapod.evt_positionUpdate.flush()\n",
    "await attcs.ataos.cmd_offset.set_start(**offset_intra)\n",
    "curr_hex_pos = await attcs.athexapod.evt_positionUpdate.next(flush=False, timeout=30)"
   ]
  },
  {
   "cell_type": "code",
   "execution_count": null,
   "metadata": {},
   "outputs": [],
   "source": [
    "#First flush events that we want to listen to\n",
    "focus_endReadout = await latiss.take_image(exptime=expTime/6, shutter=True,image_type='ENGTEST',\n",
    "                                           group_id=group_id, filter=filter, grating=grating)# 'blank_bk7_wg05' KPNO_406_828nm'  'KPNO_1111_436nm' 'KPNO_373A_677nm' 'ronchi170lpmm'\n"
   ]
  },
  {
   "cell_type": "code",
   "execution_count": null,
   "metadata": {},
   "outputs": [],
   "source": [
    "# parse out visitID from filename - this is highly annoying\n",
    "tmp=focus_endReadout.imageName.split('_')\n",
    "prefix=tmp[2] # dayobs without the dashes\n",
    "\n",
    "# Don't remember why I used int here... whitespace? \n",
    "# surely fixable but bigger fish.\n",
    "suffix='{:05d}'.format(int(tmp[3].split('-')[0])) # SEQNUM, but need to trim extra 0 in obsid\n",
    "focus_visitID = int((prefix+suffix))\n",
    "logger.evt_logMessage.set_put(message=\"focusImage visitID for target: {}\".format(focus_visitID))\n",
    "print(\"focusImage visitID for target: {}\".format(focus_visitID))"
   ]
  },
  {
   "cell_type": "markdown",
   "metadata": {},
   "source": [
    "## Reduce Intra Data"
   ]
  },
  {
   "cell_type": "code",
   "execution_count": null,
   "metadata": {},
   "outputs": [],
   "source": [
    "# parse out visitID from filename - this is highly annoying\n",
    "tmp=intra_endReadout.imageName.split('_')\n",
    "prefix=tmp[2] # dayobs without the dashes\n",
    "\n",
    "# Don't remember why I used int here... whitespace? \n",
    "# surely fixable but bigger fish.\n",
    "suffix='{:05d}'.format(int(tmp[3].split('-')[0])) # SEQNUM, but need to trim extra 0 in obsid\n",
    "intra_visitID = int((prefix+suffix))\n",
    "logger.evt_logMessage.set_put(message=\"intraImage visitID for target: {}\".format(intra_visitID))"
   ]
  },
  {
   "cell_type": "code",
   "execution_count": null,
   "metadata": {},
   "outputs": [],
   "source": [
    "## Load file from Butler\n",
    "import importlib\n",
    "import utils.processExposure \n",
    "importlib.reload(utils.processExposure)\n",
    "from utils.processExposure import processExposure"
   ]
  },
  {
   "cell_type": "code",
   "execution_count": null,
   "metadata": {},
   "outputs": [],
   "source": [
    "if False:\n",
    "    print('MANUAL OVERRIDE ON intra_visitID')\n",
    "    intra_visitID = 2020012700579\n",
    "    print(intra_visitID)\n",
    "\n",
    "# Grab image from butler, but have to redefine butler after each image\n",
    "butler = dafPersist.Butler(repo)\n",
    "exposure = butler.get(\"raw\", visit=intra_visitID)\n",
    "#image = raw.getImage().array\n",
    "\n",
    "# do ISR correction\n",
    "intra_isr_corr_exposure = processExposure(exposure, repo=repo, bias=None, flat=False, defects=False )\n",
    "#intra_isr_corr_exposure = exposure"
   ]
  },
  {
   "cell_type": "code",
   "execution_count": null,
   "metadata": {},
   "outputs": [],
   "source": [
    "#Cosmic Ray Repair\n",
    "from lsst.pipe.tasks.characterizeImage import CharacterizeImageTask\n",
    "imCharConfig = CharacterizeImageTask.ConfigClass()\n",
    "imCharConfig.doMeasurePsf = False\n",
    "imCharConfig.doApCorr = False\n",
    "imCharConfig.doDeblend = False\n",
    "imCharTask = CharacterizeImageTask(config=imCharConfig)\n",
    "intra_crr_isr_corr_exposure = imCharTask.run(intra_isr_corr_exposure).exposure"
   ]
  },
  {
   "cell_type": "code",
   "execution_count": null,
   "metadata": {},
   "outputs": [],
   "source": [
    "if False: # display the image in firefly\n",
    "    plt.close('all')\n",
    "    disp = afwDisplay.Display(2, reopenPlot=True)\n",
    "    disp.setMaskPlaneColor('SAT', afwDisplay.IGNORE)\n",
    "    disp.setImageColormap('gray')\n",
    "    disp.scale('linear', 'zscale')\n",
    "    disp.mtv(intra_crr_isr_corr_exposure, title='visit = {}'.format(intra_visitID))\n",
    "    #cgUtils.overlayCcdBoxes(isr_corr_exposure.getDetector(), isTrimmed=True, display=disp)"
   ]
  },
  {
   "cell_type": "code",
   "execution_count": null,
   "metadata": {},
   "outputs": [],
   "source": []
  },
  {
   "cell_type": "markdown",
   "metadata": {},
   "source": [
    "## Reduce Extra Data"
   ]
  },
  {
   "cell_type": "code",
   "execution_count": null,
   "metadata": {},
   "outputs": [],
   "source": [
    "# parse out visitID from filename - this is highly annoying\n",
    "tmp=extra_endReadout.imageName.split('_')\n",
    "prefix=tmp[2] # dayobs without the dashes\n",
    "\n",
    "# Don't remember why I used int here... whitespace? \n",
    "# surely fixable but bigger fish.\n",
    "suffix='{:05d}'.format(int(tmp[3].split('-')[0])) # SEQNUM, but need to trim extra 0 in obsid\n",
    "extra_visitID = int((prefix+suffix))"
   ]
  },
  {
   "cell_type": "code",
   "execution_count": null,
   "metadata": {},
   "outputs": [],
   "source": [
    "## Load file from Butler\n",
    "import importlib\n",
    "import utils.processExposure \n",
    "importlib.reload(utils.processExposure)\n",
    "from utils.processExposure import processExposure"
   ]
  },
  {
   "cell_type": "code",
   "execution_count": null,
   "metadata": {},
   "outputs": [],
   "source": [
    "if False:\n",
    "    print('MANUAL OVERRIDE ON extra_visitID')\n",
    "    extra_visitID = 2020012700580\n",
    "    print(extra_visitID)\n",
    "\n",
    "# Grab image from butler, but have to redefine butler after each image\n",
    "butler = dafPersist.Butler(repo)\n",
    "exposure = butler.get(\"raw\", visit=extra_visitID)\n",
    "#image = raw.getImage().array\n",
    "\n",
    "# do ISR correction\n",
    "extra_isr_corr_exposure = processExposure(exposure, repo=repo, bias=None, flat=False, defects=False )\n",
    "#extra_isr_corr_exposure = exposure"
   ]
  },
  {
   "cell_type": "code",
   "execution_count": null,
   "metadata": {},
   "outputs": [],
   "source": [
    "#Cosmic Ray Repair\n",
    "from lsst.pipe.tasks.characterizeImage import CharacterizeImageTask\n",
    "imCharConfig = CharacterizeImageTask.ConfigClass()\n",
    "imCharConfig.doMeasurePsf = False\n",
    "imCharConfig.doApCorr = False\n",
    "imCharConfig.doDeblend = False\n",
    "imCharTask = CharacterizeImageTask(config=imCharConfig)\n",
    "extra_crr_isr_corr_exposure = imCharTask.run(extra_isr_corr_exposure).exposure"
   ]
  },
  {
   "cell_type": "code",
   "execution_count": null,
   "metadata": {},
   "outputs": [],
   "source": [
    "if False: # display the image in firefly\n",
    "    plt.close('all')\n",
    "    disp = afwDisplay.Display(2, reopenPlot=True)\n",
    "    disp.setMaskPlaneColor('SAT', afwDisplay.IGNORE)\n",
    "    disp.setImageColormap('gray')\n",
    "    disp.scale('linear', 'zscale')\n",
    "    disp.mtv(extra_isr_corr_exposure, title='visit = {}'.format(extra_visitID))\n",
    "    #cgUtils.overlayCcdBoxes(isr_corr_exposure.getDetector(), isTrimmed=True, display=disp)"
   ]
  },
  {
   "cell_type": "code",
   "execution_count": null,
   "metadata": {},
   "outputs": [],
   "source": [
    "extra_visitID"
   ]
  },
  {
   "cell_type": "code",
   "execution_count": null,
   "metadata": {},
   "outputs": [],
   "source": [
    "# # Look at the summed images\n",
    "# coadd=copy.deepcopy(extra_isr_corr_exposure)\n",
    "# coadd.image+=intra_isr_corr_exposure.image\n",
    "\n",
    "# if False: # display the image in firefly\n",
    "#     plt.close('all')\n",
    "#     disp = afwDisplay.Display(2, reopenPlot=True)\n",
    "#     disp.setMaskPlaneColor('SAT', afwDisplay.IGNORE)\n",
    "#     disp.setImageColormap('gray')\n",
    "#     disp.scale('linear', 'zscale')\n",
    "#     disp.mtv(coadd, title='visit = {}'.format(extra_visitID))\n",
    "#     #cgUtils.overlayCcdBoxes(isr_corr_exposure.getDetector(), isTrimmed=True, display=disp)"
   ]
  },
  {
   "cell_type": "code",
   "execution_count": null,
   "metadata": {},
   "outputs": [],
   "source": []
  },
  {
   "cell_type": "code",
   "execution_count": null,
   "metadata": {},
   "outputs": [],
   "source": [
    "# side=400\n",
    "# intra_center = lsst.geom.Point2D(2039,1967)\n",
    "# bbox_intra= lsst.geom.Box2I.makeCenteredBox(intra_center, lsst.geom.Extent2I(side, side))\n"
   ]
  },
  {
   "cell_type": "code",
   "execution_count": null,
   "metadata": {},
   "outputs": [],
   "source": [
    "intra_exp = intra_crr_isr_corr_exposure.image.array\n",
    "extra_exp = extra_isr_corr_exposure.image.array"
   ]
  },
  {
   "cell_type": "code",
   "execution_count": null,
   "metadata": {},
   "outputs": [],
   "source": []
  },
  {
   "cell_type": "code",
   "execution_count": null,
   "metadata": {},
   "outputs": [],
   "source": []
  },
  {
   "cell_type": "markdown",
   "metadata": {},
   "source": [
    "### Grab centroid of images"
   ]
  },
  {
   "cell_type": "code",
   "execution_count": null,
   "metadata": {},
   "outputs": [],
   "source": [
    "# Define the image it will use to perform final center\n",
    "im_shape=intra_exp.shape\n",
    "side=400\n",
    "# Set to False to declare centroid manually!\n",
    "if True:\n",
    "    im= (intra_exp+extra_exp)\n",
    "    im_filtered = medfilt(im,[5,5])\n",
    "    im_filtered -= int(np.median(im_filtered))\n",
    "    mean = np.mean(im_filtered)\n",
    "#     im_filtered[im_filtered < mean] = 0.\n",
    "#     im_filtered[im_filtered > mean] = 1.\n",
    "    # iter 1\n",
    "    ceny, cenx = np.array(ndimage.measurements.center_of_mass(im_filtered), dtype=int)\n",
    "    # iter 2\n",
    "    intra_square = intra_exp[ceny-side:ceny+side, cenx-side:cenx+side] \n",
    "    extra_square = extra_exp[ceny-side:ceny+side, cenx-side:cenx+side]\n",
    "    im= (intra_square+extra_square)\n",
    "    im_filtered = medfilt(im,[5,5])\n",
    "    im_filtered -= int(np.median(im_filtered))\n",
    "    mean = np.mean(im_filtered)\n",
    "    im_filtered[im_filtered < mean] = 0.\n",
    "    im_filtered[im_filtered > mean] = 1.\n",
    "    # iter 1\n",
    "    cy2, cx2 = np.array(ndimage.measurements.center_of_mass(im_filtered), dtype=int)\n",
    "    print(cy2-side, cx2-side)    \n",
    "    ceny += (cy2-side)\n",
    "    cenx += (cx2-side)\n",
    "else:\n",
    "    # Manually declare where the center is\n",
    "    cenx=2033 #round(im_shape[0]/2)\n",
    "    ceny=1952 # round(im_shape[1]/2)\n",
    "    \n",
    "side=140 # side length of image\n",
    "print('Creating stamps of centroid [y,x] = [{},{}] with a side length of {} pixels'.format(ceny,cenx,side))\n",
    "im_shape=intra_exp.shape\n",
    "intra_square = intra_exp[ceny-side:ceny+side, cenx-side:cenx+side] \n",
    "extra_square = extra_exp[ceny-side:ceny+side, cenx-side:cenx+side]"
   ]
  },
  {
   "cell_type": "code",
   "execution_count": null,
   "metadata": {},
   "outputs": [],
   "source": [
    "#plt.imshow(extra_square)"
   ]
  },
  {
   "cell_type": "code",
   "execution_count": null,
   "metadata": {},
   "outputs": [],
   "source": [
    "#Create object for CWFS code\n",
    "# Select where your object is, but ours will be on-axis\n",
    "fieldXY = [0.0,0.0]\n",
    "\n",
    "# I1/I2 get modified down below, so reset here\n",
    "I1 = None; I2=None\n",
    "I1 = Image(intra_square, fieldXY, Image.INTRA)\n",
    "I2 = Image(extra_square, fieldXY, Image.EXTRA)"
   ]
  },
  {
   "cell_type": "markdown",
   "metadata": {},
   "source": [
    "## Load instrument profile from \"/home/saluser/develop/cwfs/data/auxtel\"\n",
    "### Make sure pixelSize and offset are correct for the dataset! \n",
    "### You *must* modify the file and not the loaded object!!!"
   ]
  },
  {
   "cell_type": "code",
   "execution_count": null,
   "metadata": {},
   "outputs": [],
   "source": [
    "# Declare instrument\n",
    "inst=Instrument('auxtel_LATISS',I1.sizeinPix) # example\n",
    "hex_to_focus_scale = 41.0\n",
    "offset=0.5 *hex_to_focus_scale # [mm] multiply hexapod dz by magnification factor\n",
    "pixelsize = 10e-6 # no binning for LATISS\n",
    "# FIXME: put an assertion here and calculate binning above based on change in image size, also pull offset from filename!\n",
    "\n",
    "print('Offset should be :{} [mm] at the focus, {} [mm] at the hexapod'.format(offset, offset/hex_to_focus_scale))\n",
    "print('Offset in file is :{} [mm] at the focus'.format(1e3*inst.offset))\n",
    "print('pixelSize should be: {}'.format(pixelsize))\n",
    "\n",
    "#declare algorithm\n",
    "# declare algorithm - exponential solver.\n",
    "algo=Algorithm('exp',inst,1) # example - but only want 11 Zernikes (Num_of_Zernikes)"
   ]
  },
  {
   "cell_type": "code",
   "execution_count": null,
   "metadata": {},
   "outputs": [],
   "source": [
    "#algo.numTerms = 11\n",
    "#algo.ZTerms = np.arange(algo.numTerms) + 1"
   ]
  },
  {
   "cell_type": "code",
   "execution_count": null,
   "metadata": {},
   "outputs": [],
   "source": [
    "# Plot images\n",
    "plots.plotImage(I1.image,'intra') \n",
    "#plots.plotImage(I_focus.image,'focus')\n",
    "plots.plotImage(I2.image,'extra')\n",
    "print('Intra-focal visitID: {}'.format(intra_visitID))\n",
    "print('Extra-focal visitID: {}'.format(extra_visitID))\n",
    "print('In-focus visitID: {}'.format(focus_visitID))"
   ]
  },
  {
   "cell_type": "code",
   "execution_count": null,
   "metadata": {},
   "outputs": [],
   "source": []
  },
  {
   "cell_type": "code",
   "execution_count": null,
   "metadata": {},
   "outputs": [],
   "source": [
    "# Calculate zernikes and wavefront\n",
    "# Note that this will change I1 and I2!\n",
    "# if you ever want to rerun this with different parameters you have to reload I1 and I2!\n",
    "start_time=time.time()\n",
    "algo.runIt(inst,I1,I2,'onAxis')\n",
    "end_time=time.time()\n",
    "print('time to run fitting is {} [s]'.format(end_time-start_time))"
   ]
  },
  {
   "cell_type": "code",
   "execution_count": null,
   "metadata": {},
   "outputs": [],
   "source": [
    "#print zernikes\n",
    "print(algo.zer4UpNm)"
   ]
  },
  {
   "cell_type": "code",
   "execution_count": null,
   "metadata": {},
   "outputs": [],
   "source": [
    "# plot the zernikes\n",
    "plots.plotZer(algo.zer4UpNm[0:9],'nm')"
   ]
  },
  {
   "cell_type": "code",
   "execution_count": null,
   "metadata": {},
   "outputs": [],
   "source": [
    "fig1 = plt.figure(1, figsize=(12,8))\n",
    "ax11 = fig1.add_subplot(121)\n",
    "ax11.set_title(\"defocus 0.8 - intra\")\n",
    "ax11.imshow(I1.image0)\n",
    "ax11.contour(algo.pMask) \n",
    "ax12 = fig1.add_subplot(122)\n",
    "ax12.set_title(\"defocus 0.8 - extra\")\n",
    "ax12.imshow(I2.image0)\n",
    "ax12.contour(algo.pMask) "
   ]
  },
  {
   "cell_type": "code",
   "execution_count": null,
   "metadata": {},
   "outputs": [],
   "source": []
  },
  {
   "cell_type": "code",
   "execution_count": null,
   "metadata": {},
   "outputs": [],
   "source": [
    "# Plot images with masks to check mapping is correct\n",
    "# I think these plot residuals, but I1.image0 plots the original image\n",
    "plots.plotImage(I1.image,'intra')#, mask=algo.pMask) \n",
    "#plots.plotImage(I_focus.image,'focus')\n",
    "plots.plotImage(I2.image,'extra')#, mask=algo.pMask)"
   ]
  },
  {
   "cell_type": "code",
   "execution_count": null,
   "metadata": {},
   "outputs": [],
   "source": []
  },
  {
   "cell_type": "code",
   "execution_count": null,
   "metadata": {},
   "outputs": [],
   "source": [
    "plots.plotImage(algo.Wconverge,'Final wavefront')"
   ]
  },
  {
   "cell_type": "code",
   "execution_count": null,
   "metadata": {},
   "outputs": [],
   "source": [
    "#plots.plotImage(algo.Wconverge,'Final wavefront with pupil mask applied', mask=algo.pMask)"
   ]
  },
  {
   "cell_type": "code",
   "execution_count": null,
   "metadata": {},
   "outputs": [],
   "source": []
  },
  {
   "cell_type": "code",
   "execution_count": null,
   "metadata": {},
   "outputs": [],
   "source": [
    "# Look at estimated wavefront and residual of wavefront that is not well fit\n",
    "nanMask = np.ones(I1.image.shape)\n",
    "nanMask[I1.pMask==0] = np.nan\n",
    "fig, ax = plt.subplots(1,2, figsize=[10,4])\n",
    "img = ax[0].imshow(algo.Wconverge*nanMask, origin='lower')\n",
    "ax[0].set_title('Final WF = estimated + residual')\n",
    "fig.colorbar(img, ax=ax[0])\n",
    "img = ax[1].imshow(algo.West*nanMask, origin='lower')\n",
    "ax[1].set_title('residual wavefront')\n",
    "fig.colorbar(img, ax=ax[1])"
   ]
  },
  {
   "cell_type": "code",
   "execution_count": null,
   "metadata": {},
   "outputs": [],
   "source": [
    "# Plot the residuals at each image - ideally they would be a constant\n",
    "fig, ax = plt.subplots(1,2, figsize=[10,4])\n",
    "img = ax[0].imshow(I1.image, origin='lower')\n",
    "ax[0].set_title('Intra residual image')\n",
    "fig.colorbar(img, ax=ax[0])\n",
    "img = ax[1].imshow(I2.image, origin='lower')\n",
    "ax[1].set_title('Extra residual image')\n",
    "fig.colorbar(img, ax=ax[1])"
   ]
  },
  {
   "cell_type": "code",
   "execution_count": null,
   "metadata": {},
   "outputs": [],
   "source": []
  },
  {
   "cell_type": "code",
   "execution_count": null,
   "metadata": {},
   "outputs": [],
   "source": []
  },
  {
   "cell_type": "code",
   "execution_count": null,
   "metadata": {},
   "outputs": [],
   "source": []
  },
  {
   "cell_type": "code",
   "execution_count": null,
   "metadata": {},
   "outputs": [],
   "source": []
  },
  {
   "cell_type": "code",
   "execution_count": null,
   "metadata": {},
   "outputs": [],
   "source": [
    "# Only here for me to debug, should be up top with other declarations\n",
    "import importlib\n",
    "import utils.findNarrowbandRonchiPeaks\n",
    "importlib.reload(utils.findNarrowbandRonchiPeaks)\n",
    "from utils.findNarrowbandRonchiPeaks import findNarrowbandRonchiPeaks\n",
    "\n",
    "import utils.fitExposure\n",
    "importlib.reload(utils.fitExposure)\n",
    "from utils.fitExposure import fit2DGaussian\n",
    "\n",
    "import utils.calc_CofM\n",
    "importlib.reload(utils.calc_CofM)\n",
    "from utils.calc_CofM import calc_CofM\n",
    "\n",
    "import utils.calc_encircled_energy\n",
    "importlib.reload(utils.calc_encircled_energy)\n",
    "from utils.calc_encircled_energy import calc_encircled_energy"
   ]
  },
  {
   "cell_type": "code",
   "execution_count": null,
   "metadata": {},
   "outputs": [],
   "source": [
    "# Source detection libraries\n",
    "from lsst.meas.algorithms.detection import SourceDetectionTask\n",
    "import lsst.afw.table as afwTable\n",
    "\n",
    "# create the output table for source detection\n",
    "schema = afwTable.SourceTable.makeMinimalSchema()\n",
    "config = SourceDetectionTask.ConfigClass()\n",
    "config.thresholdValue = 10  # detection threshold after smoothing\n",
    "sourceDetectionTask = SourceDetectionTask(schema=schema, config=config)"
   ]
  },
  {
   "cell_type": "markdown",
   "metadata": {},
   "source": [
    "## Fit a gaussian"
   ]
  },
  {
   "cell_type": "code",
   "execution_count": null,
   "metadata": {},
   "outputs": [],
   "source": [
    "# Declare approximation of where the zero-order star is\n",
    "zeroth_order_estimate = lsst.geom.Point2D(1700,1960)\n",
    "zeroth_order_estimate = lsst.geom.Point2D(1650,1930)\n",
    "zeroth_order_estimate = lsst.geom.Point2D(2100,2100)\n",
    "\n",
    "fit_data=[]\n",
    "\n",
    "for index, img_name in enumerate(image_list):\n",
    "    # parse out visitID from filename - this is highly annoying\n",
    "    print('Processing file {} of {}, filename={}'.format(index,len(image_list), img_name))\n",
    "    tmp=img_name.split('_')\n",
    "    prefix=tmp[2] # dayobs without the dashes\n",
    "    # Don't remember why I used int here... whitespace? \n",
    "    # surely fixable but bigger fish.\n",
    "    suffix='{:05d}'.format(int(tmp[3].split('-')[0])) # SEQNUM, but need to trim extra 0 in obsid\n",
    "    visitID = int((prefix+suffix))\n",
    "    dataId1 = {'visit': visitID}\n",
    "    #multi_file_dataset[i]['visitID']=visitID\n",
    "    \n",
    "    #exposure = butler.get('raw', **dataId1)\n",
    "    exposure = await grabATImage(visitID, repo, timeout = 40, poll_freq_hz=2)\n",
    "    # do ISR correction\n",
    "    isr_corr_exposure = processExposure(exposure, repo=repo, bias=None, defects=None)\n",
    "    \n",
    "    if False: # display the image in firefly\n",
    "        plt.close('all')\n",
    "        disp = afwDisplay.Display(2, reopenPlot=True)\n",
    "        disp.setMaskPlaneColor('SAT', afwDisplay.IGNORE)\n",
    "        disp.setImageColormap('gray')\n",
    "        disp.scale('linear', 'zscale')\n",
    "        disp.mtv(isr_corr_exposure, title='visit = {}'.format(visit_int))\n",
    "        cgUtils.overlayCcdBoxes(isr_corr_exposure.getDetector(), isTrimmed=True, display=disp)\n",
    "    \n",
    "    # Find all sources in the image\n",
    "    tab = afwTable.SourceTable.make(schema)\n",
    "    result = sourceDetectionTask.run(tab, isr_corr_exposure, sigma=2.1)\n",
    "    \n",
    "    # Find the correct sources\n",
    "    zeroth_order_star_BBox= lsst.geom.Box2I.makeCenteredBox(zeroth_order_estimate, lsst.geom.Extent2I(200,200)) \n",
    "    # wavelength solution is bad for the fiberSpectrograph, but close enough for this to work\n",
    "    # can use the monochromator wavelength which is better, but that's not the correct way in the long run\n",
    "\n",
    "    dispersion = (1/0.6358) # pixels/nm\n",
    "    spectral_position_angle=0.0107 # radians clockwise from top\n",
    "\n",
    "    # Find 0th and +/- 1 order peaks \n",
    "    sources = result.sources\n",
    "    center_source, peak1, peak2 = findNarrowbandRonchiPeaks(sources, zeroth_order_star_BBox, wavelength, dispersion, spectral_position_angle)\n",
    "    \n",
    "    # Fit peaks\n",
    "    # zeroth order\n",
    "    # variables names are weird here because I can't think of a clever way to have -1 and +1 as variable names\n",
    "    \n",
    "    bbox0 = lsst.geom.Box2I.makeCenteredBox(center_source.getFootprint().getCentroid(), lsst.geom.Extent2I(100,100)) \n",
    "    peak0_subim = isr_corr_exposure.subset(bbox0)\n",
    "    p0, x0 , y0 = fit2DGaussian(peak0_subim, plot=True)\n",
    "    p0_x_CofM, p0_y_CofM = calc_CofM(peak0_subim) # 2167,3372\n",
    "\n",
    "    # Calculate EE and CofM\n",
    "    p0_EE_rad50_pix, p0_EE_rad67_pix, p0_EE_rad80_pix = calc_encircled_energy(peak0_subim, plot=False) \n",
    "    fit_data.append(p0_EE_rad80_pix)\n",
    "\n",
    "#     # offset to test\n",
    "#     bbox1 = lsst.geom.Box2I.makeCenteredBox(peak1.getFootprint().getCentroid(), lsst.geom.Extent2I(50,50)) \n",
    "#     peak1_subim = isr_corr_exposure.subset(bbox1)\n",
    "#     p1, x1 , y1 = fit2DGaussian(peak1_subim, plot=True)\n",
    "#     p1_x_CofM, p1_y_CofM = calc_CofM(peak1_subim) # 2167,3372\n",
    "\n",
    "#     # Calculate EE and CofM\n",
    "#     p1_EE_rad50_pix, p1_EE_rad67_pix, p1_EE_rad80_pix = calc_encircled_energy(peak1_subim, plot=False) \n",
    "    \n",
    "#     fit_data.append(p1_EE_rad80_pix)\n",
    "#     bbox2 = lsst.geom.Box2I.makeCenteredBox(peak2.getFootprint().getCentroid(), lsst.geom.Extent2I(50,50)) \n",
    "#     peak2_subim = isr_corr_exposure.subset(bbox2)\n",
    "#     p2, x2 , y2 = fit2DGaussian(peak2_subim, plot=False)\n",
    "#     p2_x_CofM, p2_y_CofM = calc_CofM(peak2_subim) # 2167,3372\n",
    "\n",
    "#     # Calculate EE and CofM\n",
    "#     p0_EE_rad50_pix, p0_EE_rad67_pix, p0_EE_rad80_pix = calc_encircled_energy(peak0_subim, plot=False) \n",
    "#     p1_EE_rad50_pix, p1_EE_rad67_pix, p1_EE_rad80_pix = calc_encircled_energy(peak1_subim, plot=False) \n",
    "#     p2_EE_rad50_pix, p2_EE_rad67_pix, p2_EE_rad80_pix = calc_encircled_energy(peak2_subim, plot=False) \n"
   ]
  },
  {
   "cell_type": "code",
   "execution_count": null,
   "metadata": {},
   "outputs": [],
   "source": []
  }
 ],
 "metadata": {
  "kernelspec": {
   "display_name": "Python 3",
   "language": "python",
   "name": "python3"
  },
  "language_info": {
   "codemirror_mode": {
    "name": "ipython",
    "version": 3
   },
   "file_extension": ".py",
   "mimetype": "text/x-python",
   "name": "python",
   "nbconvert_exporter": "python",
   "pygments_lexer": "ipython3",
   "version": "3.7.2"
  }
 },
 "nbformat": 4,
 "nbformat_minor": 4
}
