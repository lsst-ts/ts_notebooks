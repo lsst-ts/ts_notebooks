{
 "cells": [
  {
   "cell_type": "markdown",
   "metadata": {},
   "source": [
    "### Notebook used to to measure collimation of the telescope using ATCollCam using the CWFS algorithm/package developed by Bo Xin.\n",
    "\n",
    "#### Now using fork by David Thomas: https://github.com/davidthomas5412/cwfs \n",
    "\n",
    "#### This requires that the parameter file for the CWFS algorithm be placed in the cwfs directory structure. "
   ]
  },
  {
   "cell_type": "code",
   "execution_count": null,
   "metadata": {},
   "outputs": [],
   "source": [
    "import numpy as np\n",
    "#from lsst.ts import salobj\n",
    "import asyncio\n",
    "from astropy.io import fits\n",
    "\n",
    "import warnings\n",
    "#import matplotlib.pyplot as plt  # imported as py above\n",
    "from astropy.modeling import models, fitting\n",
    "from scipy.ndimage.filters import gaussian_filter\n",
    "from scipy import ndimage\n",
    "from matplotlib import pyplot as plt\n",
    "#%matplotlib ipympl\n",
    "plt.rcParams['figure.figsize'] = [7, 6]\n",
    "\n",
    "\n",
    "import matplotlib.pyplot as plt\n",
    "%matplotlib inline\n",
    "import time\n",
    "\n",
    "import os\n",
    "import copy\n",
    "from pathlib import Path\n",
    "\n",
    "import logging\n",
    "logging.basicConfig(level=logging.INFO,\n",
    "                    format='%(asctime)s %(name)-12s %(levelname)-8s %(message)s')\n",
    "logger = logging.getLogger('image_display_notebook')\n",
    "from scipy.signal import medfilt"
   ]
  },
  {
   "cell_type": "code",
   "execution_count": null,
   "metadata": {},
   "outputs": [],
   "source": [
    "#Import CWFS package\n",
    "from lsst import cwfs\n",
    "from lsst.cwfs.instrument import Instrument\n",
    "from lsst.cwfs.algorithm import Algorithm\n",
    "from lsst.cwfs.image import Image, readFile, aperture2image, showProjection\n",
    "import lsst.cwfs.plots as plots"
   ]
  },
  {
   "cell_type": "code",
   "execution_count": null,
   "metadata": {},
   "outputs": [],
   "source": []
  },
  {
   "cell_type": "code",
   "execution_count": null,
   "metadata": {},
   "outputs": [],
   "source": [
    "import numpy as np\n",
    "import logging\n",
    "logger = logging.getLogger('calc_CofM_logger')\n",
    "\n",
    "# declare Centroiding algorithm\n",
    "def calc_CofM(array, offset=(0,0)):\n",
    "    # Function takes a a 2d Array and computes the CofM\n",
    "    \n",
    "    # offset is the coordinate of the minimum y and x pixel\n",
    "    \n",
    "    \n",
    "    #just make it easier to parse the code below\n",
    "    shape=array.shape\n",
    "        \n",
    "    # Build 2d index arrays for calculations\n",
    "    pix_index_1d_arr=np.arange(0, shape[0], 1)+ offset[0]\n",
    "    ones_array_2d=np.ones([shape[1], shape[0]])\n",
    "    y_index_arr_2d=np.transpose(pix_index_1d_arr*ones_array_2d)\n",
    "    \n",
    "    # Can't just use the transpose of the y_index_arr_2d\n",
    "    # since we're supporting non-symmetrical arrays\n",
    "    pix_index_1d_arr=np.arange(0, shape[1], 1) + offset[1]\n",
    "    ones_array_2d=np.ones([shape[0], shape[1]])\n",
    "    # array will be left to right so need to transpose\n",
    "    x_index_arr_2d=pix_index_1d_arr*ones_array_2d\n",
    "\n",
    "    # Calculate the centroid\n",
    "    y_CofM = np.sum(y_index_arr_2d*array)/np.sum(array)\n",
    "    x_CofM = np.sum(x_index_arr_2d*array)/np.sum(array)\n",
    "    \n",
    "    logger.info('y_CofM is {}'.format(y_CofM))\n",
    "    logger.info('x_CofM is {}'.format(x_CofM))\n",
    "\n",
    "    return(y_CofM, x_CofM)"
   ]
  },
  {
   "cell_type": "code",
   "execution_count": null,
   "metadata": {},
   "outputs": [],
   "source": [
    "# This is just used to test the CofM algorithm.\n",
    "def make_circle(yxdims, radius, center=None):\n",
    "    \n",
    "    #Creates a circle where the internal pixels equal 1 and the rest are zero\n",
    "    \n",
    "    #dims is y,x dimensions\n",
    "    \n",
    "    # If center isn't declared then put it at the center of the box\n",
    "    if center==None:\n",
    "        center=(yxdims[0]/2, yxdims[1]/2)\n",
    "    \n",
    "    # Build 2d index arrays for calculations\n",
    "    pix_index_1d_arr=np.arange(0, yxdims[1] , 1) - center[1]\n",
    "    ones_array_2d=np.ones((yxdims[0], yxdims[1]))\n",
    "    x_index_arr_2d=pix_index_1d_arr*ones_array_2d\n",
    "    \n",
    "    # Can't just transpose x-indice array since we're supporting non-symmetrical arrays\n",
    "    pix_index_1d_arr=np.arange(0, yxdims[0], 1) - center[0]\n",
    "    ones_array_2d=np.ones((yxdims[1],yxdims[0]))\n",
    "    # array will be left to right so need to transpose\n",
    "    y_index_arr_2d=np.transpose(pix_index_1d_arr*ones_array_2d)\n",
    "    \n",
    "    # creates an array with a given side, and a circle of radius x and position xy\n",
    "    r_arr= np.sqrt(y_index_arr_2d**2 + x_index_arr_2d**2)\n",
    "    \n",
    "    arr=np.zeros((yxdims[0],yxdims[1]) ,dtype=float)\n",
    "    \n",
    "    arr[r_arr < radius] = 1\n",
    "    return(arr)"
   ]
  },
  {
   "cell_type": "code",
   "execution_count": null,
   "metadata": {},
   "outputs": [],
   "source": [
    "# Testing the CofM code\n",
    "if False:\n",
    "    center=(1400,750)\n",
    "    stamp=make_circle((2500,1400), 100, center=center)\n",
    "\n",
    "    calc_CofM(stamp)\n",
    "\n",
    "    # Now try with subimage and reference to corner\n",
    "    side=300\n",
    "    guess_center = np.array((1550, 610))\n",
    "    stamp2= stamp[guess_center[0]-side:guess_center[0]+side, \n",
    "                  guess_center[1]-side:guess_center[1]+side].copy()\n",
    "    calc_CofM(stamp2, offset=(guess_center-side))\n",
    "\n",
    "    if False:\n",
    "        fig, ax = plt.subplots(figsize=(7,6))\n",
    "        ax.imshow(stamp, interpolation='none')\n",
    "        stamp.shape\n",
    "\n",
    "        fig2, ax2 = plt.subplots(figsize=(7,6))\n",
    "        ax2.imshow(stamp2, interpolation='none')\n",
    "        stamp2.shape"
   ]
  },
  {
   "cell_type": "code",
   "execution_count": null,
   "metadata": {},
   "outputs": [],
   "source": []
  },
  {
   "cell_type": "code",
   "execution_count": null,
   "metadata": {},
   "outputs": [],
   "source": [
    "from lsst.ts import salobj\n",
    "import wget"
   ]
  },
  {
   "cell_type": "code",
   "execution_count": null,
   "metadata": {},
   "outputs": [],
   "source": [
    "d = salobj.Domain()\n",
    "gencam = salobj.Remote(d, 'GenericCamera', index=1)\n",
    "athexapod = salobj.Remote(d, 'ATHexapod')\n",
    "await gencam.start_task\n",
    "await athexapod.start_task"
   ]
  },
  {
   "cell_type": "code",
   "execution_count": null,
   "metadata": {},
   "outputs": [],
   "source": [
    "gencam.cmd_setLogLevel.set(level=logging.DEBUG)\n",
    "athexapod.cmd_setLogLevel.set(level=logging.DEBUG)"
   ]
  },
  {
   "cell_type": "code",
   "execution_count": null,
   "metadata": {},
   "outputs": [],
   "source": [
    "# Get summary state\n",
    "print(salobj.State(gencam.evt_summaryState.get().summaryState))\n",
    "print(salobj.State(athexapod.evt_summaryState.get().summaryState))"
   ]
  },
  {
   "cell_type": "code",
   "execution_count": null,
   "metadata": {},
   "outputs": [],
   "source": [
    "# State transitions\n",
    "#await salobj.set_summary_state(lgencam, salobj.State.ENABLED, timeout=60)"
   ]
  },
  {
   "cell_type": "code",
   "execution_count": null,
   "metadata": {},
   "outputs": [],
   "source": [
    "# Declare where data is located and where output will be written, notably the stacked images\n",
    "data_folder = Path(\"/home/saluser/develop/ts_notebooks/pingraham/summit_notebooks/AT_20200116\")\n",
    "output_folder = Path(\"/home/saluser/data/output\")"
   ]
  },
  {
   "cell_type": "markdown",
   "metadata": {},
   "source": [
    "## Declare Target"
   ]
  },
  {
   "cell_type": "code",
   "execution_count": null,
   "metadata": {},
   "outputs": [],
   "source": [
    "# Declare target name\n",
    "target_name='HD84117'"
   ]
  },
  {
   "cell_type": "markdown",
   "metadata": {},
   "source": [
    "## Start Logger"
   ]
  },
  {
   "cell_type": "code",
   "execution_count": null,
   "metadata": {},
   "outputs": [],
   "source": [
    "logger = salobj.Controller(\"Script\", index=1)\n",
    "logger.evt_logMessage.set_put(message=\"Test Starting for target: {}\".format(target_name))"
   ]
  },
  {
   "cell_type": "code",
   "execution_count": null,
   "metadata": {},
   "outputs": [],
   "source": [
    "# Print Hexapod Current position (given by last successful command)\n",
    "curr_hex_pos = await athexapod.evt_positionUpdate.aget(timeout=10)\n",
    "print('Current Hexapod position from evt_positionUpdate: \\n x= {}, \\n y= {}, \\n z= {}, \\n U= {}, \\n V= {}'\n",
    "      .format(curr_hex_pos.positionX, curr_hex_pos.positionY, curr_hex_pos.positionZ, curr_hex_pos.positionU, curr_hex_pos.positionV))"
   ]
  },
  {
   "cell_type": "code",
   "execution_count": null,
   "metadata": {},
   "outputs": [],
   "source": [
    "# Get current position by telemetry\n",
    "# which is a list in X,Y,Z,U,V,Rot\n",
    "await asyncio.sleep(1)\n",
    "curr_hex_pos_telem = await athexapod.tel_positionStatus.next(flush = True, timeout=10)\n",
    "print('Current Hexapod position from tel_positionStatus [X,Y,Z,U,V,theta] {}'.format(curr_hex_pos_telem.reportedPosition))"
   ]
  },
  {
   "cell_type": "code",
   "execution_count": null,
   "metadata": {},
   "outputs": [],
   "source": []
  },
  {
   "cell_type": "code",
   "execution_count": null,
   "metadata": {},
   "outputs": [],
   "source": []
  },
  {
   "cell_type": "code",
   "execution_count": null,
   "metadata": {},
   "outputs": [],
   "source": [
    "# Move hexapod to desired starting position (in-focus) for acquisition in intra/extra focal images\n",
    "# Note that minimal motions in X,Y,Z are ~0.3um (0.0003mm), so go to 4 decimal places\n",
    "# minimal motions in U,V are ~3.5micro rads (0.0002 degrees), so go to 4 decimal places\n",
    "# Rotation is not used\n",
    "# previous best\n",
    "#hex_X, hex_Y, hex_Z, hex_U, hex_V, hex_R = [-4.29999921322-850e-3, 1.19999866188-1000e-3, 0.50000155519+60.0e-3, 0.3500006508, 0.219999852315, -2.69867951921e-07]\n",
    "\n",
    "# nominal\n",
    "hex_X, hex_Y, hex_Z, hex_U, hex_V, hex_R = [-4.29999921322-50e-3, 1.19999866188-1200e-3, 0.50000155519-35e-3, 0.3500006508, 0.219999852315, -2.69867951921e-07]\n",
    "#start\n",
    "hex_X, hex_Y, hex_Z, hex_U, hex_V, hex_R = [-4.29999921322-50e-3, 1.19999866188-1200e-3, 0.50000155519-105.0e-3, 0.3500006508, 0.219999852315, -2.69867951921e-07]\n",
    "\n",
    "hex_X, hex_Y, hex_Z, hex_U, hex_V, hex_R = [-4.29999921322-50e-3, 1.19999866188-1100e-3, 0.50000155519-83.0e-3, 0.3500006508, 0.219999852315, -2.69867951921e-07]\n",
    "\n",
    "hex_X, hex_Y, hex_Z, hex_U, hex_V, hex_R = [-4.29999921322-50e-3, 1.19999866188-1100e-3, 0.50000155519+18.0e-3, 0.3500006508, 0.219999852315, -2.69867951921e-07]\n",
    "\n",
    "\n",
    "print('Command to Hexapod in-focus position')\n",
    "await athexapod.cmd_moveToPosition.set_start(x=hex_X, y=hex_Y,\n",
    "                                             z=hex_Z, u=hex_U, v=hex_V)"
   ]
  },
  {
   "cell_type": "code",
   "execution_count": null,
   "metadata": {},
   "outputs": [],
   "source": [
    "await gencam.cmd_stopLiveView.start()"
   ]
  },
  {
   "cell_type": "code",
   "execution_count": null,
   "metadata": {},
   "outputs": [],
   "source": []
  },
  {
   "cell_type": "markdown",
   "metadata": {},
   "source": [
    "## Get Intrafocal image"
   ]
  },
  {
   "cell_type": "code",
   "execution_count": null,
   "metadata": {},
   "outputs": [],
   "source": [
    "# Intrafocal hexapod setting - offsets -0.5mm from central focus value above\n",
    "dz=1.5\n",
    "\n",
    "print('Move to intrafocal position')\n",
    "await athexapod.cmd_moveToPosition.set_start(x=hex_X, y=hex_Y,\n",
    "                                             z=hex_Z-dz, u=hex_U, v=hex_V)"
   ]
  },
  {
   "cell_type": "code",
   "execution_count": null,
   "metadata": {},
   "outputs": [],
   "source": [
    "# r.evt_endReadout.flush()\n",
    "print('Take intrafocal image')\n",
    "expTime=30.0\n",
    "await gencam.cmd_takeImages.set_start(numImages=1, expTime=expTime, shutter=True, imageSequenceName=target_name+'_intra')\n",
    "\n",
    "tmp = await gencam.evt_endReadout.next(flush=False, timeout=1)\n",
    "tmp = gencam.evt_endReadout.get()\n",
    "print(tmp.imageName)"
   ]
  },
  {
   "cell_type": "code",
   "execution_count": null,
   "metadata": {},
   "outputs": [],
   "source": [
    "wget_url = 'http://139.229.170.216:8000/data/'+tmp.imageName+'.fits'\n",
    "#print(wget_url)\n",
    "intra_fname = wget.download(wget_url)\n",
    "print('Grabbed/Wrote intra-focal |image {} via wget'.format(intra_fname))\n",
    "logger.evt_logMessage.set_put(message='Grabbed/Wrote intra-focal |image {} via wget'.format(intra_fname))"
   ]
  },
  {
   "cell_type": "markdown",
   "metadata": {},
   "source": [
    "## Get Extra-Focal Image"
   ]
  },
  {
   "cell_type": "code",
   "execution_count": null,
   "metadata": {},
   "outputs": [],
   "source": [
    "# Extrafocal hexapod setting\n",
    "print('Move to extra-focal hexapod position')\n",
    "await athexapod.cmd_moveToPosition.set_start(x=hex_X, y=hex_Y,\n",
    "                                             z=hex_Z+dz, u=hex_U, v=hex_V)"
   ]
  },
  {
   "cell_type": "code",
   "execution_count": null,
   "metadata": {},
   "outputs": [],
   "source": [
    "# r.evt_endReadout.flush()\n",
    "print('Take extra-focal image')\n",
    "await gencam.cmd_takeImages.set_start(numImages=1, expTime=expTime, shutter=True, imageSequenceName=target_name+'_extra')\n",
    "\n",
    "tmp = await gencam.evt_endReadout.next(flush=False, timeout=1)\n",
    "tmp = gencam.evt_endReadout.get()\n",
    "print(tmp.imageName)"
   ]
  },
  {
   "cell_type": "code",
   "execution_count": null,
   "metadata": {},
   "outputs": [],
   "source": [
    "wget_url = 'http://139.229.170.216:8000/data/'+tmp.imageName+'.fits'\n",
    "#print(wget_url)\n",
    "extra_fname = wget.download(wget_url)\n",
    "print('Grabbed/Wrote extra-focal image {} via wget'.format(extra_fname))\n",
    "logger.evt_logMessage.set_put(message='Grabbed/Wrote extra-focal image {} via wget'.format(extra_fname))"
   ]
  },
  {
   "cell_type": "markdown",
   "metadata": {},
   "source": [
    "### Declare data directories and load intra/extra raw files"
   ]
  },
  {
   "cell_type": "code",
   "execution_count": null,
   "metadata": {},
   "outputs": [],
   "source": [
    "# Open fits files, note you can start here if your files exist already\n",
    "\n",
    "#intra_fname='I1_intra_20190908.fits'\n",
    "intra_exp=(fits.open(data_folder / intra_fname))[0].data\n",
    "\n",
    "#extra_fname='I2_extra_20190908.fits'\n",
    "extra_exp=(fits.open(data_folder / extra_fname))[0].data"
   ]
  },
  {
   "cell_type": "code",
   "execution_count": null,
   "metadata": {},
   "outputs": [],
   "source": [
    "# Show images added together to estimate centroid\n",
    "plt.imshow(intra_exp+extra_exp)"
   ]
  },
  {
   "cell_type": "code",
   "execution_count": null,
   "metadata": {},
   "outputs": [],
   "source": []
  },
  {
   "cell_type": "markdown",
   "metadata": {},
   "source": [
    "### Grab centroid of images"
   ]
  },
  {
   "cell_type": "code",
   "execution_count": null,
   "metadata": {},
   "outputs": [],
   "source": [
    "# Define the image it will use to perform final center\n",
    "im_shape=intra_exp.shape\n",
    "side=200\n",
    "# Set to False to declare centroid manually!\n",
    "if True:\n",
    "    im= (intra_exp+extra_exp)\n",
    "    im_filtered = medfilt(im,[5,5])\n",
    "    im_filtered -= int(np.median(im_filtered))\n",
    "    mean = np.mean(im_filtered)\n",
    "#     im_filtered[im_filtered < mean] = 0.\n",
    "#     im_filtered[im_filtered > mean] = 1.\n",
    "    # iter 1\n",
    "    ceny, cenx = np.array(ndimage.measurements.center_of_mass(im_filtered), dtype=int)\n",
    "    # iter 2\n",
    "    intra_square = intra_exp[ceny-side:ceny+side, cenx-side:cenx+side] \n",
    "    extra_square = extra_exp[ceny-side:ceny+side, cenx-side:cenx+side]\n",
    "    im= (intra_square+extra_square)\n",
    "    im_filtered = medfilt(im,[5,5])\n",
    "    im_filtered -= int(np.median(im_filtered))\n",
    "    mean = np.mean(im_filtered)\n",
    "    im_filtered[im_filtered < mean] = 0.\n",
    "    im_filtered[im_filtered > mean] = 1.\n",
    "    # iter 1\n",
    "    cy2, cx2 = np.array(ndimage.measurements.center_of_mass(im_filtered), dtype=int)\n",
    "    print(cy2-side, cx2-side)    \n",
    "    ceny += (cy2-side)\n",
    "    cenx += (cx2-side)\n",
    "else:\n",
    "    # Manually declare where the center is\n",
    "    ceny=350 #round(im_shape[0]/2)\n",
    "    cenx=450 # round(im_shape[1]/2)\n",
    "side=150 # side length of image\n",
    "print('Creating stamps of centroid [y,x] = [{},{}] with a side length of {} pixels'.format(ceny,cenx,side))\n",
    "im_shape=intra_exp.shape\n",
    "intra_square = intra_exp[ceny-side:ceny+side, cenx-side:cenx+side] \n",
    "extra_square = extra_exp[ceny-side:ceny+side, cenx-side:cenx+side]"
   ]
  },
  {
   "cell_type": "code",
   "execution_count": null,
   "metadata": {},
   "outputs": [],
   "source": [
    "#Create object for CWFS code\n",
    "# Select where your object is, but ours will be on-axis\n",
    "fieldXY = [0.0,0.0]\n",
    "\n",
    "# I1/I2 get modified down below, so reset here\n",
    "I1 = None; I2=None\n",
    "I1 = Image(intra_square, fieldXY, Image.INTRA)\n",
    "I2 = Image(extra_square, fieldXY, Image.EXTRA)"
   ]
  },
  {
   "cell_type": "markdown",
   "metadata": {},
   "source": [
    "## Load instrument profile from \"/home/saluser/develop/cwfs/data/auxtel\"\n",
    "### Make sure pixelSize and offset are correct for the dataset! \n",
    "### You *must* modify the file and not the loaded object!!!"
   ]
  },
  {
   "cell_type": "code",
   "execution_count": null,
   "metadata": {},
   "outputs": [],
   "source": [
    "# Declare instrument\n",
    "inst=Instrument('auxtel',I1.sizeinPix) # example\n",
    "hex_to_focus_scale = 41.0\n",
    "offset=0.5 *hex_to_focus_scale # [mm] multiply hexapod dz by magnification factor\n",
    "pixelsize = 3.6e-6*4 # 4 is the binning\n",
    "# FIXME: put an assertion here and calculate binning above based on change in image size, also pull offset from filename!\n",
    "\n",
    "print('Offset should be :{} [mm] at the focus, {} [mm] at the hexapod'.format(offset, offset/hex_to_focus_scale))\n",
    "print('Offset in file is :{} [mm] at the focus'.format(1e3*inst.offset))\n",
    "print('pixelSize should be: {}'.format(pixelsize))\n",
    "\n",
    "#declare algorithm\n",
    "# declare algorithm - exponential solver.\n",
    "algo=Algorithm('exp',inst,1) # example - but only want 11 Zernikes (Num_of_Zernikes)\n"
   ]
  },
  {
   "cell_type": "code",
   "execution_count": null,
   "metadata": {},
   "outputs": [],
   "source": [
    "#algo.numTerms = 11\n",
    "#algo.ZTerms = np.arange(algo.numTerms) + 1"
   ]
  },
  {
   "cell_type": "code",
   "execution_count": null,
   "metadata": {},
   "outputs": [],
   "source": [
    "# Plot images\n",
    "plots.plotImage(I1.image,'intra') \n",
    "#plots.plotImage(I_focus.image,'focus')\n",
    "plots.plotImage(I2.image,'extra')\n",
    "print('Extra-focal filename: {}'.format(extra_fname))\n",
    "print('Intra-focal filename: {}'.format(intra_fname))"
   ]
  },
  {
   "cell_type": "code",
   "execution_count": null,
   "metadata": {},
   "outputs": [],
   "source": []
  },
  {
   "cell_type": "code",
   "execution_count": null,
   "metadata": {},
   "outputs": [],
   "source": [
    "# Send hexapod back to focus to help target+offseting offseting efficiency\n",
    "await athexapod.cmd_moveToPosition.set_start(x=hex_X, y=hex_Y,\n",
    "                                             z=hex_Z, u=hex_U, v=hex_V)"
   ]
  },
  {
   "cell_type": "code",
   "execution_count": null,
   "metadata": {},
   "outputs": [],
   "source": [
    "# Calculate zernikes and wavefront\n",
    "# Note that this will change I1 and I2!\n",
    "# if you ever want to rerun this with different parameters you have to reload I1 and I2!\n",
    "start_time=time.time()\n",
    "algo.runIt(inst,I1,I2,'onAxis')\n",
    "end_time=time.time()\n",
    "print('time to run fitting is {} [s]'.format(end_time-start_time))"
   ]
  },
  {
   "cell_type": "code",
   "execution_count": null,
   "metadata": {},
   "outputs": [],
   "source": [
    "#print zernikes\n",
    "print(algo.zer4UpNm)"
   ]
  },
  {
   "cell_type": "code",
   "execution_count": null,
   "metadata": {},
   "outputs": [],
   "source": [
    "# plot the zernikes\n",
    "plots.plotZer(algo.zer4UpNm[0:9],'nm')"
   ]
  },
  {
   "cell_type": "code",
   "execution_count": null,
   "metadata": {},
   "outputs": [],
   "source": []
  },
  {
   "cell_type": "code",
   "execution_count": null,
   "metadata": {},
   "outputs": [],
   "source": []
  },
  {
   "cell_type": "code",
   "execution_count": null,
   "metadata": {},
   "outputs": [],
   "source": [
    "# plot the zernikes\n",
    "#plots.plotZer(algo.zer4UpNm[0:9],'nm')"
   ]
  },
  {
   "cell_type": "code",
   "execution_count": null,
   "metadata": {},
   "outputs": [],
   "source": [
    "# Plot images with masks to check mapping is correct\n",
    "# I think these plot residuals, but I1.image0 plots the original image\n",
    "plots.plotImage(I1.image,'intra', mask=algo.pMask) \n",
    "#plots.plotImage(I_focus.image,'focus')\n",
    "plots.plotImage(I2.image,'extra', mask=algo.pMask)"
   ]
  },
  {
   "cell_type": "code",
   "execution_count": null,
   "metadata": {},
   "outputs": [],
   "source": []
  },
  {
   "cell_type": "code",
   "execution_count": null,
   "metadata": {},
   "outputs": [],
   "source": [
    "plots.plotImage(algo.Wconverge,'Final wavefront')"
   ]
  },
  {
   "cell_type": "code",
   "execution_count": null,
   "metadata": {},
   "outputs": [],
   "source": [
    "#plots.plotImage(algo.Wconverge,'Final wavefront with pupil mask applied', mask=algo.pMask)"
   ]
  },
  {
   "cell_type": "code",
   "execution_count": null,
   "metadata": {},
   "outputs": [],
   "source": []
  },
  {
   "cell_type": "code",
   "execution_count": null,
   "metadata": {},
   "outputs": [],
   "source": [
    "# Look at estimated wavefront and residual of wavefront that is not well fit\n",
    "nanMask = np.ones(I1.image.shape)\n",
    "nanMask[I1.pMask==0] = np.nan\n",
    "fig, ax = plt.subplots(1,2, figsize=[10,4])\n",
    "img = ax[0].imshow(algo.Wconverge*nanMask, origin='lower')\n",
    "ax[0].set_title('Final WF = estimated + residual')\n",
    "fig.colorbar(img, ax=ax[0])\n",
    "img = ax[1].imshow(algo.West*nanMask, origin='lower')\n",
    "ax[1].set_title('residual wavefront')\n",
    "fig.colorbar(img, ax=ax[1])"
   ]
  },
  {
   "cell_type": "code",
   "execution_count": null,
   "metadata": {},
   "outputs": [],
   "source": [
    "# Plot the residuals at each image - ideally they would be a constant\n",
    "fig, ax = plt.subplots(1,2, figsize=[10,4])\n",
    "img = ax[0].imshow(I1.image, origin='lower')\n",
    "ax[0].set_title('Intra residual image')\n",
    "fig.colorbar(img, ax=ax[0])\n",
    "img = ax[1].imshow(I2.image, origin='lower')\n",
    "ax[1].set_title('Extra residual image')\n",
    "fig.colorbar(img, ax=ax[1])"
   ]
  },
  {
   "cell_type": "markdown",
   "metadata": {},
   "source": [
    "#### Now we do the forward raytrace using our wavefront solutions. The code is simply borrowed from existing cwfs code."
   ]
  },
  {
   "cell_type": "markdown",
   "metadata": {},
   "source": [
    "#### We first set up the pupil grid. Oversample means how many ray to trace from each grid point on the pupil."
   ]
  },
  {
   "cell_type": "code",
   "execution_count": null,
   "metadata": {},
   "outputs": [],
   "source": [
    "oversample = 10\n",
    "projSamples = I1.image0.shape[0]*oversample\n",
    "\n",
    "luty, lutx = np.mgrid[\n",
    "        -(projSamples / 2 - 0.5):(projSamples / 2 + 0.5),\n",
    "        -(projSamples / 2 - 0.5):(projSamples / 2 + 0.5)]\n",
    "lutx = lutx / (projSamples / 2 / inst.sensorFactor)\n",
    "luty = luty / (projSamples / 2 / inst.sensorFactor)"
   ]
  },
  {
   "cell_type": "markdown",
   "metadata": {},
   "source": [
    "#### We now trace the rays to the image plane. Lutxp and Lutyp are image coordinates for each (oversampled) ray. showProjection() makes the intensity image. Then, to down sample the image back to original resolution, we want to use the function downResolution() which is defined for the image class."
   ]
  },
  {
   "cell_type": "code",
   "execution_count": null,
   "metadata": {},
   "outputs": [],
   "source": []
  },
  {
   "cell_type": "code",
   "execution_count": null,
   "metadata": {},
   "outputs": [],
   "source": [
    "lutxp, lutyp, J = aperture2image(I1, inst, algo, algo.converge[:,-1], lutx, luty, projSamples, 'paraxial')\n",
    "show_lutxyp = showProjection(lutxp, lutyp, inst.sensorFactor, projSamples, 1)\n",
    "I1fit = Image(show_lutxyp, fieldXY, Image.INTRA)\n",
    "I1fit.downResolution(oversample, I1.image0.shape[0], I1.image0.shape[1])"
   ]
  },
  {
   "cell_type": "markdown",
   "metadata": {},
   "source": [
    "#### Now do the same thing for extra focal image"
   ]
  },
  {
   "cell_type": "code",
   "execution_count": null,
   "metadata": {},
   "outputs": [],
   "source": [
    "luty, lutx = np.mgrid[\n",
    "        -(projSamples / 2 - 0.5):(projSamples / 2 + 0.5),\n",
    "        -(projSamples / 2 - 0.5):(projSamples / 2 + 0.5)]\n",
    "lutx = lutx / (projSamples / 2 / inst.sensorFactor)\n",
    "luty = luty / (projSamples / 2 / inst.sensorFactor)\n",
    "\n",
    "lutxp, lutyp, J = aperture2image(I2, inst, algo, algo.converge[:,-1], lutx, luty, projSamples, 'paraxial')\n",
    "show_lutxyp = showProjection(lutxp, lutyp, inst.sensorFactor, projSamples, 1)\n",
    "I2fit = Image(show_lutxyp, fieldXY, Image.EXTRA)\n",
    "I2fit.downResolution(oversample, I2.image0.shape[0], I2.image0.shape[1])"
   ]
  },
  {
   "cell_type": "code",
   "execution_count": null,
   "metadata": {},
   "outputs": [],
   "source": [
    "#The atmosphere used here is just a random Gaussian smearing. We do not care much about the size at this point\n",
    "from scipy.ndimage import gaussian_filter\n",
    "\n",
    "I1fit.image[np.isnan(I1fit.image)]=0\n",
    "a = gaussian_filter(I1fit.image, sigma=2)\n",
    "\n",
    "fig, ax = plt.subplots(1,3, figsize=[15,4])\n",
    "img = ax[0].imshow(I1fit.image, origin='lower')\n",
    "ax[0].set_title('Forward prediction (no atm) Intra')\n",
    "fig.colorbar(img, ax=ax[0])\n",
    "img = ax[1].imshow(a, origin='lower')\n",
    "ax[1].set_title('Forward prediction (w atm) Intra')\n",
    "fig.colorbar(img, ax=ax[1])\n",
    "\n",
    "img = ax[2].imshow(I1.image0, origin='lower')\n",
    "ax[2].set_title('Real Image, Intra')\n",
    "fig.colorbar(img, ax=ax[2])"
   ]
  },
  {
   "cell_type": "code",
   "execution_count": null,
   "metadata": {},
   "outputs": [],
   "source": [
    "I2fit.image[np.isnan(I2fit.image)]=0\n",
    "b = gaussian_filter(I2fit.image, sigma=2)\n",
    "\n",
    "fig, ax = plt.subplots(1,3, figsize=[15,4])\n",
    "img = ax[0].imshow(I2fit.image, origin='lower')\n",
    "ax[0].set_title('Forward prediction (no atm) Extra')\n",
    "fig.colorbar(img, ax=ax[0])\n",
    "img = ax[1].imshow(b, origin='lower')\n",
    "ax[1].set_title('Forward prediction (w atm) Extra')\n",
    "fig.colorbar(img, ax=ax[1])\n",
    "\n",
    "img = ax[2].imshow(I2.image0, origin='lower')\n",
    "ax[2].set_title('Real Image, Extra')\n",
    "fig.colorbar(img, ax=ax[2])"
   ]
  },
  {
   "cell_type": "code",
   "execution_count": null,
   "metadata": {},
   "outputs": [],
   "source": []
  }
 ],
 "metadata": {
  "kernelspec": {
   "display_name": "Python 3",
   "language": "python",
   "name": "python3"
  },
  "language_info": {
   "codemirror_mode": {
    "name": "ipython",
    "version": 3
   },
   "file_extension": ".py",
   "mimetype": "text/x-python",
   "name": "python",
   "nbconvert_exporter": "python",
   "pygments_lexer": "ipython3",
   "version": "3.6.8"
  }
 },
 "nbformat": 4,
 "nbformat_minor": 4
}
