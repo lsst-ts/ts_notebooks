{
 "cells": [
  {
   "cell_type": "markdown",
   "metadata": {},
   "source": [
    "### Notebook to be used to test that ATCamera, ATHeaderService and ATArchiver are online and working"
   ]
  },
  {
   "cell_type": "code",
   "execution_count": null,
   "metadata": {},
   "outputs": [],
   "source": [
    "import numpy as np\n",
    "from lsst.ts import salobj\n",
    "import asyncio\n",
    "from astropy.io import fits\n",
    "\n",
    "import warnings\n",
    "#import matplotlib.pyplot as plt  # imported as py above\n",
    "from astropy.modeling import models, fitting\n",
    "from scipy.ndimage.filters import gaussian_filter\n",
    "from matplotlib import pyplot as plt\n",
    "#%matplotlib ipympl\n",
    "plt.rcParams['figure.figsize'] = [7, 6]\n",
    "\n",
    "import lsst.daf.persistence as dafPersist\n",
    "import matplotlib.pyplot as plt\n",
    "%matplotlib inline\n",
    "import lsst.afw.display as afwDisplay\n",
    "\n",
    "afwDisplay.setDefaultBackend('matplotlib')\n",
    "import time\n",
    "import lsst.afw.cameraGeom.utils as cameraGeomUtils\n",
    "import lsst.geom\n",
    "\n",
    "import os\n",
    "import logging\n",
    "logging.basicConfig(level=logging.INFO,\n",
    "                    format='%(asctime)s %(name)-12s %(levelname)-8s %(message)s')\n",
    "logger = logging.getLogger('image_display_notebook')"
   ]
  },
  {
   "cell_type": "code",
   "execution_count": null,
   "metadata": {},
   "outputs": [],
   "source": [
    "# Want to display in firefly?\n",
    "# first open a tunnel\n",
    "## ssh -L 8080:10.0.100.230:8080 pingraham@140.252.32.143\n",
    "afwDisplay.setDefaultBackend('firefly')\n",
    "os.environ['FIREFLY_HTML'] = \"slate.html\"\n",
    "os.environ['FIREFLY_URL'] = 'http://139.229.170.210:8080/firefly/'#'http://10.0.100.230:8080/firefly'"
   ]
  },
  {
   "cell_type": "code",
   "execution_count": null,
   "metadata": {},
   "outputs": [],
   "source": [
    "# # Setup the butler\n",
    "#accs_images = True\n",
    "accs_images = False\n",
    "if accs_images:\n",
    "    repo = os.path.join(\"/home/saluser/ingest/accs/\")#, mapper={'calibRoot': \"/home/saluser/ingest/dmcs/CALIB\"})\n",
    "    butler = dafPersist.Butler(repo)\n",
    "else:\n",
    "    #repo = os.path.join(\"/home/saluser/ingest/dmcs/\")#, mapper={'calibRoot': \"/home/saluser/ingest/dmcs/CALIB\"})\n",
    "    repo = os.path.join(\"/mnt/dmcs/oods_butler_repo/repo/\")\n",
    "    butler = dafPersist.Butler(repo) #\n",
    "    #butler = dafPersist.Butler(repo, mapper=\"lsst.obs.lsst.auxTel.AuxTelMapper\")\n",
    "#test   \n",
    "#raw = butler.get(\"raw\", visit=2019111300004)\n",
    "#image = raw.getImage().array"
   ]
  },
  {
   "cell_type": "code",
   "execution_count": null,
   "metadata": {},
   "outputs": [],
   "source": []
  },
  {
   "cell_type": "code",
   "execution_count": null,
   "metadata": {},
   "outputs": [],
   "source": [
    "d = salobj.Domain()\n",
    "\n",
    "ATArchiver = salobj.Remote(d, 'ATArchiver')\n",
    "await ATArchiver.start_task\n",
    "ATCamera = salobj.Remote(d, 'ATCamera')\n",
    "await ATCamera.start_task\n",
    "ATHeaderService = salobj.Remote(d, 'ATHeaderService')\n",
    "await ATHeaderService.start_task"
   ]
  },
  {
   "cell_type": "code",
   "execution_count": null,
   "metadata": {},
   "outputs": [],
   "source": []
  },
  {
   "cell_type": "code",
   "execution_count": null,
   "metadata": {},
   "outputs": [],
   "source": [
    "ATSPEC = salobj.Remote(d, 'ATSpectrograph')\n",
    "await ATSPEC.start_task"
   ]
  },
  {
   "cell_type": "code",
   "execution_count": null,
   "metadata": {},
   "outputs": [],
   "source": [
    "from lsst.ts.standardscripts.auxtel.latiss import LATISS\n",
    "\n",
    "latiss = LATISS(salobj.Remote(domain=d, name=\"ATCamera\"), \n",
    "                salobj.Remote(domain=d, name=\"ATSpectrograph\"))\n",
    "\n",
    "await asyncio.gather(latiss.atcam.start_task, latiss.atspec.start_task)"
   ]
  },
  {
   "cell_type": "code",
   "execution_count": null,
   "metadata": {},
   "outputs": [],
   "source": [
    "# Get state of CSC\n",
    "salobj.State((latiss.atspec.evt_summaryState.get()).summaryState)"
   ]
  },
  {
   "cell_type": "code",
   "execution_count": null,
   "metadata": {},
   "outputs": [],
   "source": [
    "# State transitions\n",
    "#await salobj.set_summary_state(latiss.atspec, salobj.State.OFFLINE, timeout=60, settingsToApply='current')"
   ]
  },
  {
   "cell_type": "code",
   "execution_count": null,
   "metadata": {},
   "outputs": [],
   "source": [
    "await latiss.atspec.cmd_homeLinearStage.start(timeout=90)"
   ]
  },
  {
   "cell_type": "code",
   "execution_count": null,
   "metadata": {},
   "outputs": [],
   "source": []
  },
  {
   "cell_type": "code",
   "execution_count": null,
   "metadata": {},
   "outputs": [],
   "source": [
    "#Setup spectrograph\n",
    "await latiss.setup_atspec(filter='blank_bk7_wg05', grating='empty_1', linear_stage=60)"
   ]
  },
  {
   "cell_type": "code",
   "execution_count": null,
   "metadata": {},
   "outputs": [],
   "source": [
    "#First flush events that we want to listen to\n",
    "ATArchiver.evt_processingStatus.flush()\n",
    "ATCamera.evt_endReadout.flush()\n",
    "\n",
    "#tmp = await latiss.take_bias(nbias=1)#, exptime=5)\n",
    "#tmp = await latiss.take_darks(exptime=300, ndarks=1)#, exptime=5)\n",
    "\n",
    "tmp = await latiss.take_image(exptime=100, shutter=True,image_type='OBJECT',group_id='test')\n",
    "\n",
    "endReadout = await ATCamera.evt_endReadout.next(flush=False, timeout=30)\n",
    "print('ATCamera Wrote file {}'.format(endReadout.imageName) )\n",
    "# wait for Archiver\n",
    "test= await ATArchiver.evt_processingStatus.next(flush=False, timeout=30)\n",
    "print(test.description)"
   ]
  },
  {
   "cell_type": "code",
   "execution_count": null,
   "metadata": {},
   "outputs": [],
   "source": [
    "endReadout.imageName"
   ]
  },
  {
   "cell_type": "code",
   "execution_count": null,
   "metadata": {},
   "outputs": [],
   "source": []
  },
  {
   "cell_type": "code",
   "execution_count": null,
   "metadata": {},
   "outputs": [],
   "source": [
    "# if True: # display the image in firefly\n",
    "#     plt.close('all')\n",
    "#     disp = afwDisplay.Display(2, reopenPlot=True)\n",
    "#     disp.setMaskPlaneColor('SAT', afwDisplay.IGNORE)\n",
    "#     disp.setImageColormap('gray')\n",
    "#     disp.scale('linear', 'zscale')\n",
    "#     disp.mtv(raw, title='visit = {}'.format(visitID))\n",
    "#     #cgUtils.overlayCcdBoxes(isr_corr_exposure.getDetector(), isTrimmed=True, display=disp)"
   ]
  },
  {
   "cell_type": "markdown",
   "metadata": {},
   "source": [
    "### Leave this cell for state transitions "
   ]
  },
  {
   "cell_type": "code",
   "execution_count": null,
   "metadata": {},
   "outputs": [],
   "source": [
    "#tmp=await ATHeaderService.cmd_enable.start(timeout=10)\n",
    "#tmp.result"
   ]
  },
  {
   "cell_type": "code",
   "execution_count": null,
   "metadata": {},
   "outputs": [],
   "source": [
    "import importlib\n",
    "import utils.processExposure \n",
    "importlib.reload(utils.processExposure)\n",
    "from utils.processExposure import processExposure"
   ]
  },
  {
   "cell_type": "code",
   "execution_count": null,
   "metadata": {},
   "outputs": [],
   "source": []
  },
  {
   "cell_type": "code",
   "execution_count": null,
   "metadata": {},
   "outputs": [],
   "source": [
    "# parse out visitID from filename - this is highly annoying\n",
    "tmp=endReadout.imageName.split('_')\n",
    "prefix=tmp[2] # dayobs without the dashes\n",
    "\n",
    "# Don't remember why I used int here... whitespace? \n",
    "# surely fixable but bigger fish.\n",
    "suffix='{:05d}'.format(int(tmp[3].split('-')[0])) # SEQNUM, but need to trim extra 0 in obsid\n",
    "visitID = int((prefix+suffix))\n",
    "print(visitID)\n",
    "\n",
    "# Grab image from butler, but need to wait to ingestion so use this polling function\n",
    "#exposure = await grabATImage(visitID, repo, timeout = 40, poll_freq_hz=2)\n",
    "\n",
    "#visitID = int(2019111300021)\n",
    "# have to redefine butler after each image\n",
    "butler = dafPersist.Butler(repo)\n",
    "exposure = butler.get(\"raw\", visit=visitID)\n",
    "#image = raw.getImage().array\n",
    "\n",
    "# do ISR correction\n",
    "isr_corr_exposure = processExposure(exposure, repo=repo, bias=None)\n",
    "#isr_corr_exposure = exposure"
   ]
  },
  {
   "cell_type": "code",
   "execution_count": null,
   "metadata": {},
   "outputs": [],
   "source": [
    "if True: # display the image in firefly\n",
    "    plt.close('all')\n",
    "    disp = afwDisplay.Display(2, reopenPlot=True)\n",
    "    disp.setMaskPlaneColor('SAT', afwDisplay.IGNORE)\n",
    "    disp.setImageColormap('gray')\n",
    "    disp.scale('linear', 'zscale')\n",
    "    disp.mtv(isr_corr_exposure, title='visit = {}'.format(visitID))\n",
    "    #cgUtils.overlayCcdBoxes(isr_corr_exposure.getDetector(), isTrimmed=True, display=disp)"
   ]
  },
  {
   "cell_type": "code",
   "execution_count": null,
   "metadata": {},
   "outputs": [],
   "source": [
    "# Only here for me to debug, should be up top with other declarations\n",
    "import importlib\n",
    "import utils.findNarrowbandRonchiPeaks\n",
    "importlib.reload(utils.findNarrowbandRonchiPeaks)\n",
    "from utils.findNarrowbandRonchiPeaks import findNarrowbandRonchiPeaks\n",
    "\n",
    "import utils.fitExposure\n",
    "importlib.reload(utils.fitExposure)\n",
    "from utils.fitExposure import fit2DGaussian\n",
    "\n",
    "import utils.calc_CofM\n",
    "importlib.reload(utils.calc_CofM)\n",
    "from utils.calc_CofM import calc_CofM\n",
    "\n",
    "import utils.calc_encircled_energy\n",
    "importlib.reload(utils.calc_encircled_energy)\n",
    "from utils.calc_encircled_energy import calc_encircled_energy"
   ]
  },
  {
   "cell_type": "code",
   "execution_count": null,
   "metadata": {},
   "outputs": [],
   "source": [
    "# Source detection libraries\n",
    "from lsst.meas.algorithms.detection import SourceDetectionTask\n",
    "import lsst.afw.table as afwTable\n",
    "\n",
    "# create the output table for source detection\n",
    "schema = afwTable.SourceTable.makeMinimalSchema()\n",
    "config = SourceDetectionTask.ConfigClass()\n",
    "config.thresholdValue = 10  # detection threshold after smoothing\n",
    "sourceDetectionTask = SourceDetectionTask(schema=schema, config=config)"
   ]
  },
  {
   "cell_type": "code",
   "execution_count": null,
   "metadata": {},
   "outputs": [],
   "source": [
    "if True: # display the image in firefly\n",
    "    plt.close('all')\n",
    "    disp = afwDisplay.Display(2, reopenPlot=True)\n",
    "    disp.setMaskPlaneColor('SAT', afwDisplay.IGNORE)\n",
    "    disp.setImageColormap('gray')\n",
    "    disp.scale('linear', 'zscale')\n",
    "    disp.mtv(isr_corr_exposure, title='visit = {}'.format(visitID))\n",
    "    #cgUtils.overlayCcdBoxes(isr_corr_exposure.getDetector(), isTrimmed=True, display=disp)"
   ]
  },
  {
   "cell_type": "code",
   "execution_count": null,
   "metadata": {},
   "outputs": [],
   "source": []
  },
  {
   "cell_type": "code",
   "execution_count": null,
   "metadata": {},
   "outputs": [],
   "source": []
  },
  {
   "cell_type": "code",
   "execution_count": null,
   "metadata": {},
   "outputs": [],
   "source": [
    "# I don't like looping but I don't know how to handle multiple files yet!\n",
    "# Declare approximation of where the zero-order star is\n",
    "zeroth_order_estimate = lsst.geom.Point2D(1700,1960)\n",
    "zeroth_order_estimate = lsst.geom.Point2D(1650,1930)\n",
    "zeroth_order_estimate = lsst.geom.Point2D(2100,2100)\n",
    "\n",
    "fit_data=[]\n",
    "\n",
    "for index, img_name in enumerate(image_list):\n",
    "    # parse out visitID from filename - this is highly annoying\n",
    "    print('Processing file {} of {}, filename={}'.format(index,len(image_list), img_name))\n",
    "    tmp=img_name.split('_')\n",
    "    prefix=tmp[2] # dayobs without the dashes\n",
    "    # Don't remember why I used int here... whitespace? \n",
    "    # surely fixable but bigger fish.\n",
    "    suffix='{:05d}'.format(int(tmp[3].split('-')[0])) # SEQNUM, but need to trim extra 0 in obsid\n",
    "    visitID = int((prefix+suffix))\n",
    "    dataId1 = {'visit': visitID}\n",
    "    #multi_file_dataset[i]['visitID']=visitID\n",
    "    \n",
    "    #exposure = butler.get('raw', **dataId1)\n",
    "    exposure = await grabATImage(visitID, repo, timeout = 40, poll_freq_hz=2)\n",
    "    # do ISR correction\n",
    "    isr_corr_exposure = processExposure(exposure, repo=repo, bias=None, defects=None)\n",
    "    \n",
    "    if True: # display the image in firefly\n",
    "        plt.close('all')\n",
    "        disp = afwDisplay.Display(2, reopenPlot=True)\n",
    "        disp.setMaskPlaneColor('SAT', afwDisplay.IGNORE)\n",
    "        disp.setImageColormap('gray')\n",
    "        disp.scale('linear', 'zscale')\n",
    "        disp.mtv(isr_corr_exposure, title='visit = {}'.format(visit_int))\n",
    "        cgUtils.overlayCcdBoxes(isr_corr_exposure.getDetector(), isTrimmed=True, display=disp)\n",
    "    \n",
    "    # Find all sources in the image\n",
    "    tab = afwTable.SourceTable.make(schema)\n",
    "    result = sourceDetectionTask.run(tab, isr_corr_exposure, sigma=2.1)\n",
    "    \n",
    "    # Find the correct sources\n",
    "    zeroth_order_star_BBox= lsst.geom.Box2I.makeCenteredBox(zeroth_order_estimate, lsst.geom.Extent2I(200,200)) \n",
    "    # wavelength solution is bad for the fiberSpectrograph, but close enough for this to work\n",
    "    # can use the monochromator wavelength which is better, but that's not the correct way in the long run\n",
    "\n",
    "    dispersion = (1/0.6358) # pixels/nm\n",
    "    spectral_position_angle=0.0107 # radians clockwise from top\n",
    "\n",
    "    # Find 0th and +/- 1 order peaks \n",
    "    sources = result.sources\n",
    "    center_source, peak1, peak2 = findNarrowbandRonchiPeaks(sources, zeroth_order_star_BBox, wavelength, dispersion, spectral_position_angle)\n",
    "    \n",
    "    # Fit peaks\n",
    "    # zeroth order\n",
    "    # variables names are weird here because I can't think of a clever way to have -1 and +1 as variable names\n",
    "    \n",
    "    bbox0 = lsst.geom.Box2I.makeCenteredBox(center_source.getFootprint().getCentroid(), lsst.geom.Extent2I(100,100)) \n",
    "    peak0_subim = isr_corr_exposure.subset(bbox0)\n",
    "    p0, x0 , y0 = fit2DGaussian(peak0_subim, plot=True)\n",
    "    p0_x_CofM, p0_y_CofM = calc_CofM(peak0_subim) # 2167,3372\n",
    "\n",
    "    # Calculate EE and CofM\n",
    "    p0_EE_rad50_pix, p0_EE_rad67_pix, p0_EE_rad80_pix = calc_encircled_energy(peak0_subim, plot=False) \n",
    "    fit_data.append(p0_EE_rad80_pix)\n",
    "\n",
    "#     # offset to test\n",
    "#     bbox1 = lsst.geom.Box2I.makeCenteredBox(peak1.getFootprint().getCentroid(), lsst.geom.Extent2I(50,50)) \n",
    "#     peak1_subim = isr_corr_exposure.subset(bbox1)\n",
    "#     p1, x1 , y1 = fit2DGaussian(peak1_subim, plot=True)\n",
    "#     p1_x_CofM, p1_y_CofM = calc_CofM(peak1_subim) # 2167,3372\n",
    "\n",
    "#     # Calculate EE and CofM\n",
    "#     p1_EE_rad50_pix, p1_EE_rad67_pix, p1_EE_rad80_pix = calc_encircled_energy(peak1_subim, plot=False) \n",
    "    \n",
    "#     fit_data.append(p1_EE_rad80_pix)\n",
    "#     bbox2 = lsst.geom.Box2I.makeCenteredBox(peak2.getFootprint().getCentroid(), lsst.geom.Extent2I(50,50)) \n",
    "#     peak2_subim = isr_corr_exposure.subset(bbox2)\n",
    "#     p2, x2 , y2 = fit2DGaussian(peak2_subim, plot=False)\n",
    "#     p2_x_CofM, p2_y_CofM = calc_CofM(peak2_subim) # 2167,3372\n",
    "\n",
    "#     # Calculate EE and CofM\n",
    "#     p0_EE_rad50_pix, p0_EE_rad67_pix, p0_EE_rad80_pix = calc_encircled_energy(peak0_subim, plot=False) \n",
    "#     p1_EE_rad50_pix, p1_EE_rad67_pix, p1_EE_rad80_pix = calc_encircled_energy(peak1_subim, plot=False) \n",
    "#     p2_EE_rad50_pix, p2_EE_rad67_pix, p2_EE_rad80_pix = calc_encircled_energy(peak2_subim, plot=False) \n",
    "\n",
    "#     #  Now use multi_file_dataset\n",
    "#     multi_file_dataset[i]['Gauss_x_peak'] = (p0.x_mean.value, p1.x_mean.value, p2.x_mean.value)\n",
    "#     multi_file_dataset[i]['Gauss_y_peak'] = (p0.y_mean.value, p1.y_mean.value, p2.y_mean.value)\n",
    "#     multi_file_dataset[i]['Gauss_xsigma_pix'] = (p0.x_stddev.value, p1.x_stddev.value, p2.x_stddev.value) \n",
    "#     multi_file_dataset[i]['Gauss_ysigma_pix'] = (p0.y_stddev.value, p1.y_stddev.value, p2.y_stddev.value)\n",
    "#     multi_file_dataset[i]['x_CofM'] = (p0_x_CofM, p1_x_CofM, p2_x_CofM)\n",
    "#     multi_file_dataset[i]['y_CofM'] = (p0_y_CofM, p1_y_CofM, p2_y_CofM)\n",
    "#     multi_file_dataset[i]['EE50_pix'] = (p0_EE_rad50_pix, p1_EE_rad50_pix, p2_EE_rad50_pix)\n",
    "#     multi_file_dataset[i]['EE67_pix'] = (p0_EE_rad67_pix, p1_EE_rad67_pix, p2_EE_rad67_pix)\n",
    "#     multi_file_dataset[i]['EE80_pix'] = (p0_EE_rad80_pix, p1_EE_rad80_pix, p2_EE_rad80_pix)"
   ]
  },
  {
   "cell_type": "code",
   "execution_count": null,
   "metadata": {},
   "outputs": [],
   "source": [
    "#import lsst_python_utils"
   ]
  },
  {
   "cell_type": "code",
   "execution_count": null,
   "metadata": {},
   "outputs": [],
   "source": [
    "fit_data"
   ]
  },
  {
   "cell_type": "code",
   "execution_count": null,
   "metadata": {},
   "outputs": [],
   "source": [
    "# Fit a line to the profile\n",
    "from scipy.optimize import curve_fit\n",
    "\n",
    "\n",
    "xdata=focus_vals #[3:9]\n",
    "ydata = fit_data #[3:9]\n",
    "\n",
    "def parabola(x,b, x0, a):\n",
    "    return b + a*(x-x0)**2 \n",
    "\n",
    "popt,pcov = curve_fit(parabola, xdata, ydata, p0=[3.0, 69.5 , 1])\n",
    "\n",
    "plt.close('all')\n",
    "plt.figure(figsize=(13, 5))\n",
    "plt.ylabel('Encircled Energy [pix]')\n",
    "plt.plot(xdata, ydata, '.')\n",
    "x=np.arange(np.min(xdata), np.max(xdata), np.abs(np.max(xdata) - np.min(xdata))/100 )\n",
    "plt.plot(x, parabola(x, *popt))\n",
    "plt.title('Encircled Energy [pix]')\n",
    "plt.xlabel('Focus position [mm]')\n",
    "plt.show()\n",
    "plt.close()\n",
    "\n",
    "print('Best focus occurs at {} [mm]'.format(popt[1]))\n"
   ]
  },
  {
   "cell_type": "code",
   "execution_count": null,
   "metadata": {},
   "outputs": [],
   "source": []
  },
  {
   "cell_type": "code",
   "execution_count": null,
   "metadata": {},
   "outputs": [],
   "source": []
  },
  {
   "cell_type": "code",
   "execution_count": null,
   "metadata": {},
   "outputs": [],
   "source": [
    "# Test loop of a bunch of biases"
   ]
  },
  {
   "cell_type": "code",
   "execution_count": null,
   "metadata": {},
   "outputs": [],
   "source": [
    "n=1\n",
    "start_time=np.empty(n)\n",
    "camera_time=np.empty(n)\n",
    "exposure_command_completed_time=np.empty(n)\n",
    "archiver_time=np.empty(n)\n",
    "\n",
    "for i in np.arange(n):\n",
    "    # Take image\n",
    "    print('starting image {}'.format(i))\n",
    "    #First flush archiver event\n",
    "    ATArchiver.evt_processingStatus.flush()\n",
    "\n",
    "    group_id='Test'\n",
    "    #ATCamera.cmd_takeImages.set(expTime=20.0, shutter=1, numImages=1, imageSequenceName=group_id)\n",
    "    ATCamera.cmd_takeImages.set(expTime=0.0, shutter=0, numImages=1, imageSequenceName=group_id)\n",
    "\n",
    "    start_time[i]=time.time()\n",
    "    try:\n",
    "        asyncio.get_event_loop().run_until_complete(ATCamera.cmd_takeImages.start(timeout=30))\n",
    "    except salobj.AckError as ack_err:\n",
    "        print(f\"Failed with ack.result={ack_err.ack.result}\")\n",
    "    exposure_command_completed_time[i]=time.time()\n",
    "    endReadout = asyncio.get_event_loop().run_until_complete(ATCamera.evt_endReadout.next(flush=True, timeout=30))\n",
    "    print('ATCamera Wrote file {}'.format(endReadout.imageName) )\n",
    "    camera_time[i]=time.time()\n",
    "\n",
    "    test=asyncio.get_event_loop().run_until_complete(ATArchiver.evt_processingStatus.next(flush=False, timeout=60))\n",
    "    print(test.description)\n",
    "    archiver_time[i]=time.time()"
   ]
  },
  {
   "cell_type": "code",
   "execution_count": null,
   "metadata": {},
   "outputs": [],
   "source": [
    "print('ATCamera time to write file [s]: {}'.format(camera_time[0]-exposure_command_completed_time[0]))\n",
    "print('Archiver time to write file [s]: {}'.format(archiver_time[0]-exposure_command_completed_time[0]) )"
   ]
  },
  {
   "cell_type": "code",
   "execution_count": null,
   "metadata": {},
   "outputs": [],
   "source": [
    "%matplotlib inline\n",
    "x = camera_time-exposure_command_completed_time\n",
    "plt.hist(x, bins=50)#, density=0.01)\n",
    "plt.ylabel('Occurances')\n",
    "plt.xlabel('Camera Timing [s]')\n",
    "plt.title('Time of image writing from end of takeImage command completion')"
   ]
  },
  {
   "cell_type": "code",
   "execution_count": null,
   "metadata": {},
   "outputs": [],
   "source": [
    "%matplotlib inline\n",
    "y = archiver_time-exposure_command_completed_time\n",
    "plt.hist(y, bins=50)#, density=0.01)\n",
    "plt.ylabel('Occurances')\n",
    "plt.xlabel('Archiver Timing [s]')\n",
    "plt.title('Time of image writing from end of takeImage command completion')"
   ]
  },
  {
   "cell_type": "code",
   "execution_count": null,
   "metadata": {},
   "outputs": [],
   "source": [
    "x0=x\n",
    "y0=y"
   ]
  },
  {
   "cell_type": "code",
   "execution_count": null,
   "metadata": {},
   "outputs": [],
   "source": [
    "camera_time[0]-exposure_command_completed_time[0]"
   ]
  },
  {
   "cell_type": "code",
   "execution_count": null,
   "metadata": {},
   "outputs": [],
   "source": [
    "start_time = time.time()\n",
    "await asyncio.sleep(1)\n",
    "end_time = time.time()\n",
    "print(start_time)\n",
    "print(end_time)\n",
    "print('net time [s]: {}'.format(end_time-start_time))"
   ]
  },
  {
   "cell_type": "code",
   "execution_count": null,
   "metadata": {},
   "outputs": [],
   "source": [
    "np.arange(1)\n"
   ]
  },
  {
   "cell_type": "code",
   "execution_count": null,
   "metadata": {},
   "outputs": [],
   "source": []
  }
 ],
 "metadata": {
  "kernelspec": {
   "display_name": "Python 3",
   "language": "python",
   "name": "python3"
  },
  "language_info": {
   "codemirror_mode": {
    "name": "ipython",
    "version": 3
   },
   "file_extension": ".py",
   "mimetype": "text/x-python",
   "name": "python",
   "nbconvert_exporter": "python",
   "pygments_lexer": "ipython3",
   "version": "3.7.2"
  }
 },
 "nbformat": 4,
 "nbformat_minor": 4
}
