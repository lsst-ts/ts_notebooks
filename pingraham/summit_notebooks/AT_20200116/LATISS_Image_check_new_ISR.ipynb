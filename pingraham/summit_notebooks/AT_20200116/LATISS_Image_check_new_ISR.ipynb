{
 "cells": [
  {
   "cell_type": "markdown",
   "metadata": {},
   "source": [
    "### Notebook to be used to test that ATCamera, ATHeaderService and ATArchiver are online and working"
   ]
  },
  {
   "cell_type": "code",
   "execution_count": 1,
   "metadata": {},
   "outputs": [],
   "source": [
    "import numpy as np\n",
    "from lsst.ts import salobj\n",
    "import asyncio\n",
    "from astropy.io import fits\n",
    "\n",
    "import warnings\n",
    "#import matplotlib.pyplot as plt  # imported as py above\n",
    "from astropy.modeling import models, fitting\n",
    "from scipy.ndimage.filters import gaussian_filter\n",
    "from matplotlib import pyplot as plt\n",
    "from astropy import time as astropytime\n",
    "#%matplotlib ipympl\n",
    "plt.rcParams['figure.figsize'] = [7, 6]\n",
    "\n",
    "import lsst.daf.persistence as dafPersist\n",
    "import matplotlib.pyplot as plt\n",
    "%matplotlib inline\n",
    "import lsst.afw.display as afwDisplay\n",
    "\n",
    "afwDisplay.setDefaultBackend('matplotlib')\n",
    "import time\n",
    "import lsst.afw.cameraGeom.utils as cameraGeomUtils\n",
    "import lsst.geom\n",
    "\n",
    "import os\n",
    "import logging\n",
    "logging.basicConfig(level=logging.INFO,\n",
    "                    format='%(asctime)s %(name)-12s %(levelname)-8s %(message)s')\n",
    "logger = logging.getLogger('image_display_notebook')"
   ]
  },
  {
   "cell_type": "code",
   "execution_count": 2,
   "metadata": {},
   "outputs": [],
   "source": [
    "# Want to display in firefly?\n",
    "afwDisplay.setDefaultBackend('firefly')\n",
    "os.environ['FIREFLY_HTML'] = \"slate.html\"\n",
    "os.environ['FIREFLY_URL'] = 'http://139.229.170.210:8080/firefly/'"
   ]
  },
  {
   "cell_type": "code",
   "execution_count": 3,
   "metadata": {},
   "outputs": [],
   "source": [
    "# # Setup the butler\n",
    "#accs_images = True\n",
    "accs_images = False\n",
    "if accs_images:\n",
    "    repo = os.path.join(\"/home/saluser/ingest/accs/\")#, mapper={'calibRoot': \"/home/saluser/ingest/dmcs/CALIB\"})\n",
    "    butler = dafPersist.Butler(repo)\n",
    "else:\n",
    "    #repo = os.path.join(\"/home/saluser/ingest/dmcs/\")#, mapper={'calibRoot': \"/home/saluser/ingest/dmcs/CALIB\"})\n",
    "    repo = os.path.join(\"/mnt/dmcs/oods_butler_repo/repo/\")\n",
    "    butler = dafPersist.Butler(repo) #\n",
    "    #butler = dafPersist.Butler(repo, mapper=\"lsst.obs.lsst.auxTel.AuxTelMapper\")\n",
    "#test   \n",
    "#raw = butler.get(\"raw\", visit=2019111300004)\n",
    "#image = raw.getImage().array"
   ]
  },
  {
   "cell_type": "code",
   "execution_count": null,
   "metadata": {},
   "outputs": [],
   "source": []
  },
  {
   "cell_type": "code",
   "execution_count": 4,
   "metadata": {},
   "outputs": [
    {
     "name": "stderr",
     "output_type": "stream",
     "text": [
      "2020-01-31 17:31:54,322 ATArchiver   INFO     Read historical data in 8.64 sec\n",
      "2020-01-31 17:31:54,716 ATHeaderService INFO     Read historical data in 9.04 sec\n",
      "2020-01-31 17:31:55,041 ATSpectrograph INFO     Read historical data in 9.36 sec\n",
      "2020-01-31 17:31:55,639 ATCamera     INFO     Read historical data in 9.96 sec\n"
     ]
    },
    {
     "data": {
      "text/plain": [
       "[None, None, None, None]"
      ]
     },
     "execution_count": 4,
     "metadata": {},
     "output_type": "execute_result"
    }
   ],
   "source": [
    "# Load the LATISS class\n",
    "from lsst.ts.standardscripts.auxtel.latiss import LATISS\n",
    "\n",
    "latiss = LATISS()\n",
    "#latiss = LATISS(salobj.Remote(domain=d, name=\"ATCamera\"), \n",
    "#                salobj.Remote(domain=d, name=\"ATSpectrograph\"))\n",
    "\n",
    "await latiss.start_task "
   ]
  },
  {
   "cell_type": "markdown",
   "metadata": {},
   "source": [
    "## Perform State Transitions"
   ]
  },
  {
   "cell_type": "code",
   "execution_count": 12,
   "metadata": {},
   "outputs": [
    {
     "ename": "NameError",
     "evalue": "name 'atcs' is not defined",
     "output_type": "error",
     "traceback": [
      "\u001b[0;31m\u001b[0m",
      "\u001b[0;31mNameError\u001b[0mTraceback (most recent call last)",
      "\u001b[0;32m<ipython-input-12-8918e3f4d81b>\u001b[0m in \u001b[0;36m<module>\u001b[0;34m\u001b[0m\n\u001b[1;32m      1\u001b[0m \u001b[0;31m# Get state of CSC\u001b[0m\u001b[0;34m\u001b[0m\u001b[0;34m\u001b[0m\u001b[0;34m\u001b[0m\u001b[0m\n\u001b[0;32m----> 2\u001b[0;31m \u001b[0msalobj\u001b[0m\u001b[0;34m.\u001b[0m\u001b[0mState\u001b[0m\u001b[0;34m(\u001b[0m\u001b[0;34m(\u001b[0m\u001b[0matcs\u001b[0m\u001b[0;34m.\u001b[0m\u001b[0mathexapod\u001b[0m\u001b[0;34m.\u001b[0m\u001b[0mevt_summaryState\u001b[0m\u001b[0;34m.\u001b[0m\u001b[0mget\u001b[0m\u001b[0;34m(\u001b[0m\u001b[0;34m)\u001b[0m\u001b[0;34m)\u001b[0m\u001b[0;34m.\u001b[0m\u001b[0msummaryState\u001b[0m\u001b[0;34m)\u001b[0m\u001b[0;34m\u001b[0m\u001b[0;34m\u001b[0m\u001b[0m\n\u001b[0m",
      "\u001b[0;31mNameError\u001b[0m: name 'atcs' is not defined"
     ]
    }
   ],
   "source": [
    "# Get state of CSC\n",
    "salobj.State((atcs.athexapod.evt_summaryState.get()).summaryState)"
   ]
  },
  {
   "cell_type": "code",
   "execution_count": 5,
   "metadata": {},
   "outputs": [],
   "source": [
    "# State transitions\n",
    "#await salobj.set_summary_state(latiss.atspec, salobj.State.OFFLINE, timeout=60, settingsToApply='current')"
   ]
  },
  {
   "cell_type": "code",
   "execution_count": null,
   "metadata": {},
   "outputs": [],
   "source": []
  },
  {
   "cell_type": "code",
   "execution_count": 6,
   "metadata": {},
   "outputs": [
    {
     "data": {
      "text/plain": [
       "[<lsst.ts.salobj.ddsutil.ATSpectrograph_ackcmd_e56f40bd at 0x7f8398c37470>,\n",
       " <lsst.ts.salobj.ddsutil.ATSpectrograph_ackcmd_e56f40bd at 0x7f8398c441d0>]"
      ]
     },
     "execution_count": 6,
     "metadata": {},
     "output_type": "execute_result"
    }
   ],
   "source": [
    "#Setup LATISS\n",
    "#await latiss.atspec.cmd_homeLinearStage.start(timeout=90)\n",
    "await latiss.setup_atspec(filter='blank_bk7_wg05', grating='ronchi170lpmm')#, linear_stage=60)"
   ]
  },
  {
   "cell_type": "markdown",
   "metadata": {},
   "source": [
    "## Take an exposure"
   ]
  },
  {
   "cell_type": "code",
   "execution_count": null,
   "metadata": {},
   "outputs": [],
   "source": [
    "#First flush events that we want to listen to\n",
    "\n",
    "expTime=60\n",
    "group_id=astropytime.Time.now().tai.isot\n",
    "#tmp = await latiss.take_bias(nbias=10)#, exptime=5)\n",
    "#tmp = await latiss.take_darks(exptime=300, ndarks=1)#, exptime=5)\n",
    "\n",
    "file_obj = await latiss.take_image(exptime=expTime, shutter=True,image_type='OBJECT',group_id=group_id, filter='KPNO_406_828nm', grating='empty_1') # 'blank_bk7_wg05' KPNO_406_828nm'  'KPNO_1111_436nm' 'KPNO_373A_677nm' 'ronchi170lpmm'\n",
    "\n",
    "#file_obj = await latiss.take_image(exptime=expTime, shutter=True,image_type='ENGTEST',group_id='HD28464')"
   ]
  },
  {
   "cell_type": "code",
   "execution_count": 9,
   "metadata": {},
   "outputs": [
    {
     "ename": "NameError",
     "evalue": "name 'file_obj' is not defined",
     "output_type": "error",
     "traceback": [
      "\u001b[0;31m\u001b[0m",
      "\u001b[0;31mNameError\u001b[0mTraceback (most recent call last)",
      "\u001b[0;32m<ipython-input-9-8c91a8b76d4a>\u001b[0m in \u001b[0;36m<module>\u001b[0;34m\u001b[0m\n\u001b[0;32m----> 1\u001b[0;31m \u001b[0mfile_obj\u001b[0m\u001b[0;34m.\u001b[0m\u001b[0mimageName\u001b[0m\u001b[0;34m\u001b[0m\u001b[0;34m\u001b[0m\u001b[0m\n\u001b[0m",
      "\u001b[0;31mNameError\u001b[0m: name 'file_obj' is not defined"
     ]
    }
   ],
   "source": [
    "file_obj.imageName"
   ]
  },
  {
   "cell_type": "code",
   "execution_count": null,
   "metadata": {},
   "outputs": [],
   "source": [
    "# parse out visitID from filename - this is highly annoying\n",
    "tmp=file_obj.imageName.split('_')\n",
    "prefix=tmp[2] # dayobs without the dashes\n",
    "\n",
    "# Don't remember why I used int here... whitespace? \n",
    "# surely fixable but bigger fish.\n",
    "suffix='{:05d}'.format(int(tmp[3].split('-')[0])) # SEQNUM, but need to trim extra 0 in obsid\n",
    "visitID = int((prefix+suffix))"
   ]
  },
  {
   "cell_type": "code",
   "execution_count": null,
   "metadata": {},
   "outputs": [],
   "source": [
    "## Load file from Butler\n",
    "import importlib\n",
    "import utils.processExposure \n",
    "importlib.reload(utils.processExposure)\n",
    "from utils.processExposure import processExposure"
   ]
  },
  {
   "cell_type": "code",
   "execution_count": 5,
   "metadata": {},
   "outputs": [
    {
     "name": "stdout",
     "output_type": "stream",
     "text": [
      "2020012800379\n"
     ]
    }
   ],
   "source": [
    "visitID = 2020012800379 #292\n",
    "print(visitID)\n"
   ]
  },
  {
   "cell_type": "code",
   "execution_count": 6,
   "metadata": {},
   "outputs": [
    {
     "name": "stderr",
     "output_type": "stream",
     "text": [
      "2020-01-31 17:31:57,631 lsst.obs.lsst.translators.latiss WARNING  AT_O_20200128_000379: Dark time less than exposure time. Setting dark time to the exposure time.\n"
     ]
    },
    {
     "name": "stdout",
     "output_type": "stream",
     "text": [
      "Caught 'LatissMapper' object has no attribute 'map_linearizer' - update your mapper?\n",
      "Running with bias subtraction\n",
      "Running with dark correction subtraction\n",
      "Running cosmic ray repair\n"
     ]
    }
   ],
   "source": [
    "from lsst.rapid.analysis.bestEffort import BestEffortIsr\n",
    "REPODIR = '/mnt/dmcs/oods_butler_repo/repo'\n",
    "bestEffort = BestEffortIsr(REPODIR)\n",
    "isr_corr_exposure = bestEffort.getExposure(visitID)"
   ]
  },
  {
   "cell_type": "code",
   "execution_count": 7,
   "metadata": {},
   "outputs": [
    {
     "name": "stderr",
     "output_type": "stream",
     "text": [
      "2020-01-31 17:32:08,037 ATSpectrograph WARNING  RemoteEvent(ATSpectrograph, 0, heartbeat) falling behind; read 13 messages\n",
      "2020-01-31 17:32:08,051 ATHeaderService WARNING  RemoteEvent(ATHeaderService, 0, heartbeat) falling behind; read 12 messages\n",
      "2020-01-31 17:32:08,063 ATArchiver   WARNING  RemoteEvent(ATArchiver, 0, heartbeat) falling behind; read 12 messages\n"
     ]
    }
   ],
   "source": [
    "# # Grab image from butler, but have to redefine butler after each image\n",
    "# butler = dafPersist.Butler(repo)\n",
    "# exposure = butler.get(\"raw\", visit=visitID)\n",
    "# #image = raw.getImage().array\n",
    "\n",
    "# # do ISR correction\n",
    "# isr_corr_exposure = processExposure(exposure, repo=repo, bias=None, flat=False, defects=False )\n",
    "# #isr_corr_exposure = exposure"
   ]
  },
  {
   "cell_type": "code",
   "execution_count": 8,
   "metadata": {},
   "outputs": [
    {
     "name": "stdout",
     "output_type": "stream",
     "text": [
      "Opening firefly device 2\n",
      "Starting vanilla client\n",
      "Firefly URL is http://139.229.170.210:8080/firefly/slate.html?__wsch=c2FsdXNlcjIwMjAtMDEtMzE\n"
     ]
    },
    {
     "data": {
      "text/html": [
       "Open your web browser to <a href=\"http://139.229.170.210:8080/firefly/slate.html?__wsch=c2FsdXNlcjIwMjAtMDEtMzE\"\" target=\"_blank\">this link</a>"
      ],
      "text/plain": [
       "<IPython.core.display.HTML object>"
      ]
     },
     "metadata": {},
     "output_type": "display_data"
    },
    {
     "name": "stdout",
     "output_type": "stream",
     "text": [
      "virtual[2]._setImageColormap(cmap=\"gray\")\n"
     ]
    }
   ],
   "source": [
    "plt.close('all')\n",
    "disp = afwDisplay.Display(2, reopenPlot=True, verbose=True)"
   ]
  },
  {
   "cell_type": "code",
   "execution_count": 10,
   "metadata": {},
   "outputs": [
    {
     "name": "stdout",
     "output_type": "stream",
     "text": [
      "virtual[2]._setImageColormap(cmap=\"gray\")\n",
      "displaying image\n",
      "region layer id is lsstRegions2\n",
      "displaying mask\n"
     ]
    }
   ],
   "source": [
    "if True: # display the image in firefly\n",
    "    #plt.close('all')\n",
    "    #disp = afwDisplay.Display(2, reopenPlot=True)\n",
    "    disp.setMaskPlaneColor('SAT', afwDisplay.IGNORE)\n",
    "    disp.setImageColormap('gray')\n",
    "    disp.scale('linear', 'zscale')\n",
    "    disp.mtv(isr_corr_exposure, title='visit = {}'.format(visitID))\n",
    "    #cgUtils.overlayCcdBoxes(isr_corr_exposure.getDetector(), isTrimmed=True, display=disp)"
   ]
  },
  {
   "cell_type": "code",
   "execution_count": null,
   "metadata": {},
   "outputs": [],
   "source": []
  },
  {
   "cell_type": "code",
   "execution_count": 96,
   "metadata": {},
   "outputs": [],
   "source": [
    "# Only here for me to debug, should be up top with other declarations\n",
    "import importlib\n",
    "import utils.findNarrowbandRonchiPeaks\n",
    "importlib.reload(utils.findNarrowbandRonchiPeaks)\n",
    "from utils.findNarrowbandRonchiPeaks import findNarrowbandRonchiPeaks\n",
    "\n",
    "import utils.fitExposure\n",
    "importlib.reload(utils.fitExposure)\n",
    "from utils.fitExposure import fit2DGaussian\n",
    "\n",
    "import utils.calc_CofM\n",
    "importlib.reload(utils.calc_CofM)\n",
    "from utils.calc_CofM import calc_CofM\n",
    "\n",
    "import utils.calc_encircled_energy\n",
    "importlib.reload(utils.calc_encircled_energy)\n",
    "from utils.calc_encircled_energy import calc_encircled_energy\n",
    "\n",
    "import utils.findBrightestSourceInBox\n",
    "importlib.reload(utils.findBrightestSourceInBox)\n",
    "from utils.findBrightestSourceInBox import findBrightestSourceInBox"
   ]
  },
  {
   "cell_type": "code",
   "execution_count": 97,
   "metadata": {},
   "outputs": [],
   "source": [
    "# Source detection libraries\n",
    "from lsst.meas.algorithms.detection import SourceDetectionTask\n",
    "import lsst.afw.table as afwTable\n",
    "\n",
    "# create the output table for source detection\n",
    "schema = afwTable.SourceTable.makeMinimalSchema()\n",
    "config = SourceDetectionTask.ConfigClass()\n",
    "config.thresholdValue = 10  # detection threshold after smoothing\n",
    "sourceDetectionTask = SourceDetectionTask(schema=schema, config=config)\n",
    "tab = afwTable.SourceTable.make(schema)\n",
    "result = sourceDetectionTask.run(tab, isr_corr_exposure, sigma=8.1)"
   ]
  },
  {
   "cell_type": "code",
   "execution_count": 98,
   "metadata": {},
   "outputs": [],
   "source": [
    "#help(isr_corr_exposure)"
   ]
  },
  {
   "cell_type": "markdown",
   "metadata": {},
   "source": [
    "## Fit a gaussian"
   ]
  },
  {
   "cell_type": "code",
   "execution_count": 105,
   "metadata": {},
   "outputs": [
    {
     "name": "stdout",
     "output_type": "stream",
     "text": [
      "<Gaussian2D(amplitude=17312.48483393, x_mean=3181.19219286, y_mean=2221.53105554, x_stddev=7.4500382, y_stddev=6.8159026, theta=0.)>\n",
      "Visit ID = 2020012800335\n",
      "Closing firefly device 2\n",
      "Closing firefly device 2\n"
     ]
    },
    {
     "data": {
      "image/png": "[encoded data removed]",
      "text/plain": [
       "<Figure size 936x360 with 3 Axes>"
      ]
     },
     "metadata": {
      "needs_background": "light"
     },
     "output_type": "display_data"
    },
    {
     "name": "stderr",
     "output_type": "stream",
     "text": [
      "2020-01-29 06:11:34,341 ATHeaderService WARNING  RemoteEvent(ATHeaderService, 0, logMessage) falling behind; read 10 messages\n",
      "2020-01-29 06:11:50,888 ATHeaderService WARNING  RemoteEvent(ATHeaderService, 0, logMessage) falling behind; read 10 messages\n",
      "2020-01-29 06:33:35,314 ATHeaderService WARNING  RemoteEvent(ATHeaderService, 0, logMessage) falling behind; read 16 messages\n",
      "2020-01-29 06:46:41,622 ATHeaderService WARNING  RemoteEvent(ATHeaderService, 0, logMessage) falling behind; read 10 messages\n",
      "2020-01-29 07:11:08,248 ATHeaderService WARNING  RemoteEvent(ATHeaderService, 0, logMessage) falling behind; read 11 messages\n",
      "2020-01-29 15:05:24,964 ATHeaderService WARNING  RemoteEvent(ATHeaderService, 0, heartbeat) falling behind; read 10 messages\n"
     ]
    }
   ],
   "source": [
    "# Find 0th and +/- 1 order peaks \n",
    "sources = result.sources\n",
    "zeroth_order_estimate = lsst.geom.Point2D(2320,2350)\n",
    "zeroth_order_estimate = lsst.geom.Point2D(3190,2210)\n",
    "zeroth_order_star_BBox= lsst.geom.Box2I.makeCenteredBox(zeroth_order_estimate, lsst.geom.Extent2I(400,400)) \n",
    "bbox0 = lsst.geom.Box2I.makeCenteredBox(zeroth_order_estimate, lsst.geom.Extent2I(100,100)) \n",
    "wavelength= 677.0 \n",
    "dispersion =  0 #(1/0.6358) # pixels/nm\n",
    "spectral_position_angle= 0.0107 # radians clockwise from top\n",
    "#center_source, peak1, peak2 = findNarrowbandRonchiPeaks(sources, zeroth_order_star_BBox, wavelength, dispersion, spectral_position_angle)\n",
    "\n",
    "center_source, center_peak = findBrightestSourceInBox(sources, zeroth_order_star_BBox)\n",
    "\n",
    "peak0_subim = isr_corr_exposure.subset(bbox0)\n",
    "p0, x0 , y0 = fit2DGaussian(peak0_subim, plot=True)\n",
    "print('Visit ID = {}'.format(visitID))"
   ]
  },
  {
   "cell_type": "code",
   "execution_count": 31,
   "metadata": {},
   "outputs": [],
   "source": [
    "# peak0_subim = isr_corr_exposure.subset(bbox0)\n",
    "# p0, x0 , y0 = fit2DGaussian(peak0_subim, plot=True)"
   ]
  },
  {
   "cell_type": "code",
   "execution_count": 87,
   "metadata": {},
   "outputs": [],
   "source": [
    "\n",
    "# # Fit peaks\n",
    "# # zeroth order\n",
    "# # variables names are weird here because I can't think of a clever way to have -1 and +1 as variable names\n",
    "\n",
    "# #bbox0 = lsst.geom.Box2I.makeCenteredBox(center_source.getFootprint().getCentroid(), lsst.geom.Extent2I(100,100)) \n",
    "\n",
    "# print('visitID is: {}'.format(visitID))\n",
    "# zeroth_order_estimate = lsst.geom.Point2D(1630,1330)\n",
    "# #zeroth_order_estimate = lsst.geom.Point2D(2025,1980)\n",
    "# bbox0 = lsst.geom.Box2I.makeCenteredBox(zeroth_order_estimate, lsst.geom.Extent2I(100,100)) \n",
    "\n",
    "# peak0_subim = isr_corr_exposure.subset(bbox0)\n",
    "# p0, x0 , y0 = fit2DGaussian(peak0_subim, plot=True)\n"
   ]
  },
  {
   "cell_type": "code",
   "execution_count": null,
   "metadata": {},
   "outputs": [],
   "source": []
  },
  {
   "cell_type": "code",
   "execution_count": 32,
   "metadata": {},
   "outputs": [
    {
     "ename": "NameError",
     "evalue": "name 'peak0_subim' is not defined",
     "output_type": "error",
     "traceback": [
      "\u001b[0;31m\u001b[0m",
      "\u001b[0;31mNameError\u001b[0mTraceback (most recent call last)",
      "\u001b[0;32m<ipython-input-32-adc37c1bc10f>\u001b[0m in \u001b[0;36m<module>\u001b[0;34m\u001b[0m\n\u001b[0;32m----> 1\u001b[0;31m \u001b[0mp0_x_CofM\u001b[0m\u001b[0;34m,\u001b[0m \u001b[0mp0_y_CofM\u001b[0m \u001b[0;34m=\u001b[0m \u001b[0mcalc_CofM\u001b[0m\u001b[0;34m(\u001b[0m\u001b[0mpeak0_subim\u001b[0m\u001b[0;34m)\u001b[0m \u001b[0;31m# 2167,3372\u001b[0m\u001b[0;34m\u001b[0m\u001b[0;34m\u001b[0m\u001b[0m\n\u001b[0m\u001b[1;32m      2\u001b[0m \u001b[0;34m\u001b[0m\u001b[0m\n\u001b[1;32m      3\u001b[0m \u001b[0;31m# Calculate EE and CofM\u001b[0m\u001b[0;34m\u001b[0m\u001b[0;34m\u001b[0m\u001b[0;34m\u001b[0m\u001b[0m\n\u001b[1;32m      4\u001b[0m \u001b[0mp0_EE_rad50_pix\u001b[0m\u001b[0;34m,\u001b[0m \u001b[0mp0_EE_rad67_pix\u001b[0m\u001b[0;34m,\u001b[0m \u001b[0mp0_EE_rad80_pix\u001b[0m \u001b[0;34m=\u001b[0m \u001b[0mcalc_encircled_energy\u001b[0m\u001b[0;34m(\u001b[0m\u001b[0mpeak0_subim\u001b[0m\u001b[0;34m,\u001b[0m \u001b[0mplot\u001b[0m\u001b[0;34m=\u001b[0m\u001b[0;32mTrue\u001b[0m\u001b[0;34m)\u001b[0m\u001b[0;34m\u001b[0m\u001b[0;34m\u001b[0m\u001b[0m\n\u001b[1;32m      5\u001b[0m \u001b[0mfit_data\u001b[0m\u001b[0;34m.\u001b[0m\u001b[0mappend\u001b[0m\u001b[0;34m(\u001b[0m\u001b[0mp0_EE_rad80_pix\u001b[0m\u001b[0;34m)\u001b[0m\u001b[0;34m\u001b[0m\u001b[0;34m\u001b[0m\u001b[0m\n",
      "\u001b[0;31mNameError\u001b[0m: name 'peak0_subim' is not defined"
     ]
    }
   ],
   "source": [
    "p0_x_CofM, p0_y_CofM = calc_CofM(peak0_subim) # 2167,3372\n",
    "\n",
    "# Calculate EE and CofM\n",
    "p0_EE_rad50_pix, p0_EE_rad67_pix, p0_EE_rad80_pix = calc_encircled_energy(peak0_subim, plot=True) \n",
    "fit_data.append(p0_EE_rad80_pix)"
   ]
  },
  {
   "cell_type": "code",
   "execution_count": null,
   "metadata": {},
   "outputs": [],
   "source": []
  }
 ],
 "metadata": {
  "kernelspec": {
   "display_name": "LSST",
   "language": "python",
   "name": "lsst"
  },
  "language_info": {
   "codemirror_mode": {
    "name": "ipython",
    "version": 3
   },
   "file_extension": ".py",
   "mimetype": "text/x-python",
   "name": "python",
   "nbconvert_exporter": "python",
   "pygments_lexer": "ipython3",
   "version": "3.7.6"
  }
 },
 "nbformat": 4,
 "nbformat_minor": 4
}
