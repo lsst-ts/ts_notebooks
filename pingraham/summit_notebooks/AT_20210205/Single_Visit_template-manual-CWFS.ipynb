{
 "cells": [
  {
   "cell_type": "markdown",
   "metadata": {},
   "source": [
    "## This notebook performs CWFS for a target, but only measures and does not apply the corrections automatically"
   ]
  },
  {
   "cell_type": "markdown",
   "metadata": {},
   "source": [
    "#### WARNING: This currently requires ts_externalscripts branch **tickets/DM-28818**"
   ]
  },
  {
   "cell_type": "code",
   "execution_count": null,
   "metadata": {},
   "outputs": [],
   "source": [
    "TARGET='HD 85552'"
   ]
  },
  {
   "cell_type": "code",
   "execution_count": null,
   "metadata": {},
   "outputs": [],
   "source": [
    "import os\n",
    "import sys\n",
    "import asyncio\n",
    "import time\n",
    "\n",
    "import numpy as np\n",
    "import logging \n",
    "import yaml\n",
    "import matplotlib.pyplot as plt\n",
    "import astropy\n",
    "\n",
    "from lsst.ts import salobj\n",
    "from lsst.ts.externalscripts.auxtel.latiss_cwfs_align import LatissCWFSAlign\n",
    "from lsst.ts.externalscripts.auxtel.latiss_acquire_and_take_sequence import LatissAcquireAndTakeSequence\n",
    "\n",
    "from lsst.ts.idl.enums.Script import ScriptState"
   ]
  },
  {
   "cell_type": "code",
   "execution_count": null,
   "metadata": {},
   "outputs": [],
   "source": [
    "print(os.environ[\"OSPL_URI\"])\n",
    "print(os.environ[\"LSST_DDS_PARTITION_PREFIX\"])"
   ]
  },
  {
   "cell_type": "code",
   "execution_count": null,
   "metadata": {},
   "outputs": [],
   "source": [
    "# for autocompleted to work\n",
    "%config IPCompleter.use_jedi = False"
   ]
  },
  {
   "cell_type": "code",
   "execution_count": null,
   "metadata": {},
   "outputs": [],
   "source": [
    "stream_handler = logging.StreamHandler(sys.stdout)\n",
    "# if you want logging\n",
    "logger = logging.getLogger()\n",
    "logger.addHandler(stream_handler)\n",
    "logger.level = logging.DEBUG\n",
    "\n",
    "# turn off logging for matplotlib\n",
    "mpl_logger = logging.getLogger('matplotlib')\n",
    "mpl_logger.setLevel(logging.WARNING)"
   ]
  },
  {
   "cell_type": "code",
   "execution_count": null,
   "metadata": {},
   "outputs": [],
   "source": [
    "script_cwfs = LatissCWFSAlign(index=1, remotes=False)  # this essentially calls the init method\n",
    "await script_cwfs.start_task"
   ]
  },
  {
   "cell_type": "code",
   "execution_count": null,
   "metadata": {},
   "outputs": [],
   "source": [
    "# set wrap strategy\n",
    "# this is required until the ATPtg is updated to not configure the mount for maximum time on target\n",
    "script_cwfs.atcs.rem.atptg.cmd_raDecTarget.set(azWrapStrategy=1)  # 1 does not unwrap, 0 unwraps"
   ]
  },
  {
   "cell_type": "markdown",
   "metadata": {},
   "source": [
    "## ONLY RUN THESE CELLS IF AT THE POLE"
   ]
  },
  {
   "cell_type": "code",
   "execution_count": null,
   "metadata": {},
   "outputs": [],
   "source": [
    "# reset the offsets\n",
    "await script_cwfs.atcs.rem.ataos.cmd_resetOffset.set_start(axis='x')\n",
    "await script_cwfs.atcs.rem.ataos.cmd_resetOffset.set_start(axis='y')\n",
    "await script_cwfs.atcs.rem.ataos.cmd_resetOffset.set_start(axis='z')"
   ]
  },
  {
   "cell_type": "code",
   "execution_count": null,
   "metadata": {},
   "outputs": [],
   "source": [
    "# now add back the values that were used at the pole earlier (which should be the same)\n",
    "pole_focus= 0.0\n",
    "pole_coma_x = 0.0\n",
    "pole_coma_y = 0.0"
   ]
  },
  {
   "cell_type": "code",
   "execution_count": null,
   "metadata": {},
   "outputs": [],
   "source": [
    "await script_cwfs.atcs.rem.ataos.cmd_offset.set_start(z=pole_focus, x=pole_coma_x, y=pole_coma_y)"
   ]
  },
  {
   "cell_type": "markdown",
   "metadata": {},
   "source": [
    "## Perform CWFS observations"
   ]
  },
  {
   "cell_type": "code",
   "execution_count": null,
   "metadata": {},
   "outputs": [],
   "source": [
    "cwfs_configuration = yaml.safe_dump({\"filter\": 'RG610', \n",
    "                                \"grating\": 'empty_1',\n",
    "                                \"exposure_time\": 20,\n",
    "                                \"dataPath\": '/project/shared/auxTel/rerun/quickLook'})\n",
    "print(cwfs_configuration)"
   ]
  },
  {
   "cell_type": "code",
   "execution_count": null,
   "metadata": {},
   "outputs": [],
   "source": [
    "# Set script state to UNCONFIGURED\n",
    "# this is required to run the script a 2nd time but otherwise is a no-op\n",
    "script_cwfs.set_state(ScriptState.UNCONFIGURED)\n",
    "# Configure the script, which puts the ScriptState to CONFIGURED\n",
    "cwfs_config_data = script_cwfs.cmd_configure.DataType()\n",
    "cwfs_config_data.config = cwfs_configuration\n",
    "await script_cwfs.do_configure(cwfs_config_data)"
   ]
  },
  {
   "cell_type": "code",
   "execution_count": null,
   "metadata": {},
   "outputs": [],
   "source": [
    "# set group ID as before\n",
    "time_for_groupID=astropy.time.Time.now().isot\n",
    "group_id_data = script_cwfs.cmd_setGroupId.DataType(\n",
    "                groupId=time_for_groupID\n",
    "            )\n",
    "await script_cwfs.do_setGroupId(group_id_data)"
   ]
  },
  {
   "cell_type": "code",
   "execution_count": null,
   "metadata": {},
   "outputs": [],
   "source": [
    "# Run this script while taking new data\n",
    "script_cwfs.intra_visit_id = None\n",
    "script_cwfs.extra_visit_id = None\n",
    "script_cwfs.short_timeout = 10"
   ]
  },
  {
   "cell_type": "code",
   "execution_count": null,
   "metadata": {},
   "outputs": [],
   "source": [
    "# # run acquisition script\n",
    "# # results = await script_cwfs.run()\n",
    "# result = script_cwfs.cmd_run.DataType()\n",
    "# await script_cwfs.do_run(result)\n",
    "# await script_cwfs.done_task"
   ]
  },
  {
   "cell_type": "code",
   "execution_count": null,
   "metadata": {},
   "outputs": [],
   "source": [
    "# Run this script while taking new data\n",
    "# this will print but not apply the corrections\n",
    "results = await script_cwfs.run_cwfs()"
   ]
  },
  {
   "cell_type": "code",
   "execution_count": null,
   "metadata": {},
   "outputs": [],
   "source": []
  },
  {
   "cell_type": "code",
   "execution_count": null,
   "metadata": {},
   "outputs": [],
   "source": [
    "# show donuts and centroids\n",
    "fig1 = plt.figure(1, figsize=(12,8))\n",
    "ax11 = fig1.add_subplot(121)\n",
    "ax11.set_title(f\"intra visitID - {script.intra_visit_id}\")\n",
    "ax11.imshow(script_cwfs.I1[0].image0)\n",
    "ax11.contour(script_cwfs.algo.pMask) \n",
    "ax12 = fig1.add_subplot(122)\n",
    "ax12.set_title(f\"extra visitID - {script.extra_visit_id}\")\n",
    "ax12.imshow(script_cwfs.I2[0].image0)\n",
    "ax12.contour(script_cwfs.algo.pMask) "
   ]
  },
  {
   "cell_type": "code",
   "execution_count": null,
   "metadata": {},
   "outputs": [],
   "source": [
    "await atcs.take_object(exptime=30)"
   ]
  },
  {
   "cell_type": "code",
   "execution_count": null,
   "metadata": {},
   "outputs": [],
   "source": []
  },
  {
   "cell_type": "code",
   "execution_count": null,
   "metadata": {},
   "outputs": [],
   "source": [
    "# Show which files/parameters were taken in the sequence above\n",
    "print(f'intra_visit_id is {script_cwfs.intra_visit_id}')\n",
    "print(f'extra_visit_id is {script_cwfs.extra_visit_id}')\n",
    "print(f'angle is {script_cwfs.angle}')"
   ]
  },
  {
   "cell_type": "code",
   "execution_count": null,
   "metadata": {},
   "outputs": [],
   "source": [
    "# Apply calculated focus offset\n",
    "calculated_hexapod_focus_offset = results['hex_offset'][2]\n",
    "coma_x = results[\"hex_offset\"][0]\n",
    "coma_y = results[\"hex_offset\"][1]\n",
    "\n",
    "print(f'Applying hexapod offsets [x,y,z] of [{coma_x:0.5f}, {coma_y:0.5f}, {calculated_hexapod_focus_offset:0.5f}] mm')\n",
    "#flush summary event\n",
    "script_cwfs.atcs.rem.ataos.evt_focusOffsetSummary.flush()\n",
    "await script_cwfs.atcs.rem.ataos.cmd_offset.set_start(z=calculated_hexapod_focus_offset, x=coma_x, y=coma_y)"
   ]
  },
  {
   "cell_type": "code",
   "execution_count": null,
   "metadata": {},
   "outputs": [],
   "source": []
  },
  {
   "cell_type": "code",
   "execution_count": null,
   "metadata": {},
   "outputs": [],
   "source": [
    "# Apply telescope offsets\n",
    "tel_x, tel_y = results[\"tel_offset\"][0], -results[\"tel_offset\"][1]\n",
    "print(f'Applying telescope offsets [x,y] of [{tel_x:0.2f}, {tel_y:0.2f}] arcsec')\n",
    "await script_cwfs.atcs.offset_xy(x=tel_x, y=tel_y, relative=True, persistent=True)"
   ]
  },
  {
   "cell_type": "code",
   "execution_count": null,
   "metadata": {},
   "outputs": [],
   "source": [
    "# look at current focus offsets (and paste into the log)\n",
    "focus_summary = await script_cwfs.atcs.rem.ataos.evt_focusOffsetSummary.next(flush=False, timeout=5)"
   ]
  },
  {
   "cell_type": "code",
   "execution_count": null,
   "metadata": {},
   "outputs": [],
   "source": [
    "print(focus_summary)"
   ]
  },
  {
   "cell_type": "code",
   "execution_count": null,
   "metadata": {},
   "outputs": [],
   "source": [
    "# take a quick object image to check PSF centering\n",
    "await take_object(exptime=5)"
   ]
  },
  {
   "cell_type": "markdown",
   "metadata": {},
   "source": [
    "## RUN THIS NEXT CELL ONLY IF DATA IS ACCEPTABLE FOR LUT GENERATION"
   ]
  },
  {
   "cell_type": "code",
   "execution_count": null,
   "metadata": {},
   "outputs": [],
   "source": [
    "tmp = await script_cwfs.atcs.rem.athexapod.tel_positionStatus.next(flush=True, timeout=5)\n",
    "script_cwfs.log.info(f'Hexapod LUT Datapoint - {TARGET} - reported hexapod position is, {tmp.reportedPosition} ')"
   ]
  },
  {
   "cell_type": "code",
   "execution_count": null,
   "metadata": {},
   "outputs": [],
   "source": []
  },
  {
   "cell_type": "markdown",
   "metadata": {},
   "source": [
    "#### BELOW IS ONLY FOR TESTING PURPOSES"
   ]
  },
  {
   "cell_type": "code",
   "execution_count": null,
   "metadata": {},
   "outputs": [],
   "source": [
    "# If desired then different filenames can be manually input here\n",
    "script_cwfs.intra_visit_id=2021021800591\n",
    "script_cwfs.extra_visit_id=2021021800592 \n",
    "script_cwfs.angle=0"
   ]
  },
  {
   "cell_type": "code",
   "execution_count": null,
   "metadata": {},
   "outputs": [],
   "source": [
    "# reruns reduction part only. ALL 3 fields above must be set! \n",
    "rerun_results = await script_cwfs.run_cwfs()"
   ]
  },
  {
   "cell_type": "code",
   "execution_count": null,
   "metadata": {},
   "outputs": [],
   "source": [
    "results=rerun_results"
   ]
  },
  {
   "cell_type": "code",
   "execution_count": null,
   "metadata": {},
   "outputs": [],
   "source": [
    "%matplotlib inline"
   ]
  },
  {
   "cell_type": "code",
   "execution_count": null,
   "metadata": {},
   "outputs": [],
   "source": [
    "# show donuts and centroids\n",
    "fig1 = plt.figure(1, figsize=(12,8))\n",
    "ax11 = fig1.add_subplot(121)\n",
    "ax11.set_title(f\"intra visitID - {script_cwfs.intra_visit_id}\")\n",
    "ax11.imshow(script_cwfs.I1[0].image0)\n",
    "ax11.contour(script_cwfs.algo.pMask) \n",
    "ax12 = fig1.add_subplot(122)\n",
    "ax12.set_title(f\"extra visitID - {script_cwfs.extra_visit_id}\")\n",
    "ax12.imshow(script_cwfs.I2[0].image0)\n",
    "ax12.contour(script_cwfs.algo.pMask) "
   ]
  },
  {
   "cell_type": "code",
   "execution_count": null,
   "metadata": {},
   "outputs": [],
   "source": [
    "rerun_results.I1"
   ]
  },
  {
   "cell_type": "code",
   "execution_count": null,
   "metadata": {},
   "outputs": [],
   "source": []
  }
 ],
 "metadata": {
  "kernelspec": {
   "display_name": "LSST",
   "language": "python",
   "name": "lsst"
  },
  "language_info": {
   "codemirror_mode": {
    "name": "ipython",
    "version": 3
   },
   "file_extension": ".py",
   "mimetype": "text/x-python",
   "name": "python",
   "nbconvert_exporter": "python",
   "pygments_lexer": "ipython3",
   "version": "3.8.8"
  }
 },
 "nbformat": 4,
 "nbformat_minor": 4
}
