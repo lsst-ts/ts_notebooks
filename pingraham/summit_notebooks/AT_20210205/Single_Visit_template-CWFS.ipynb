{
 "cells": [
  {
   "cell_type": "markdown",
   "metadata": {},
   "source": [
    "## This notebook performs CWFS for a target XXXYYY\n",
    "##### The script, slews and acquires the target, takes CWFS data and applies focus correction, takes sequence of data"
   ]
  },
  {
   "cell_type": "markdown",
   "metadata": {},
   "source": [
    "#### WARNING: This currently requires ts_externalscripts branch **tickets/DM-28818**"
   ]
  },
  {
   "cell_type": "code",
   "execution_count": null,
   "metadata": {},
   "outputs": [],
   "source": [
    "TARGET='HD 74000'"
   ]
  },
  {
   "cell_type": "code",
   "execution_count": null,
   "metadata": {},
   "outputs": [],
   "source": [
    "import os\n",
    "import sys\n",
    "import asyncio\n",
    "import time\n",
    "\n",
    "import numpy as np\n",
    "import logging \n",
    "import yaml\n",
    "import matplotlib.pyplot as plt\n",
    "import astropy\n",
    "\n",
    "from lsst.ts import salobj\n",
    "from lsst.ts.externalscripts.auxtel.latiss_cwfs_align import LatissCWFSAlign\n",
    "from lsst.ts.externalscripts.auxtel.latiss_acquire_and_take_sequence import LatissAcquireAndTakeSequence\n",
    "\n",
    "from lsst.ts.idl.enums.Script import ScriptState"
   ]
  },
  {
   "cell_type": "code",
   "execution_count": null,
   "metadata": {},
   "outputs": [],
   "source": [
    "print(os.environ[\"OSPL_URI\"])\n",
    "print(os.environ[\"LSST_DDS_PARTITION_PREFIX\"])"
   ]
  },
  {
   "cell_type": "code",
   "execution_count": null,
   "metadata": {},
   "outputs": [],
   "source": [
    "# for autocompleted to work\n",
    "%config IPCompleter.use_jedi = False"
   ]
  },
  {
   "cell_type": "code",
   "execution_count": null,
   "metadata": {},
   "outputs": [],
   "source": [
    "stream_handler = logging.StreamHandler(sys.stdout)\n",
    "# if you want logging\n",
    "logger = logging.getLogger()\n",
    "logger.addHandler(stream_handler)\n",
    "logger.level = logging.DEBUG\n",
    "\n",
    "# turn off logging for matplotlib\n",
    "mpl_logger = logging.getLogger('matplotlib')\n",
    "mpl_logger.setLevel(logging.WARNING)"
   ]
  },
  {
   "cell_type": "code",
   "execution_count": null,
   "metadata": {},
   "outputs": [],
   "source": [
    "script_cwfs = LatissCWFSAlign(index=1, remotes=False)  # this essentially calls the init method\n",
    "await script_cwfs.start_task"
   ]
  },
  {
   "cell_type": "code",
   "execution_count": null,
   "metadata": {},
   "outputs": [],
   "source": [
    "# set wrap strategy\n",
    "# this is required until the ATPtg is updated to not configure the mount for maximum time on target\n",
    "# script.atcs.rem.atptg.cmd_raDecTarget.set(azWrapStrategy=1)  # 1 does not unwrap, 0 unwraps"
   ]
  },
  {
   "cell_type": "code",
   "execution_count": null,
   "metadata": {},
   "outputs": [],
   "source": []
  },
  {
   "cell_type": "markdown",
   "metadata": {},
   "source": [
    "## Perform CWFS observations"
   ]
  },
  {
   "cell_type": "code",
   "execution_count": null,
   "metadata": {},
   "outputs": [],
   "source": [
    "cwfs_configuration = yaml.safe_dump({\"filter\": 'RG610', \n",
    "                                \"grating\": 'empty_1',\n",
    "                                \"exposure_time\": 20,\n",
    "                                \"dataPath\": '/project/shared/auxTel/rerun/quickLook'})\n",
    "print(cwfs_configuration)"
   ]
  },
  {
   "cell_type": "code",
   "execution_count": null,
   "metadata": {},
   "outputs": [],
   "source": [
    "# Set script state to UNCONFIGURED\n",
    "# this is required to run the script a 2nd time but otherwise is a no-op\n",
    "script_cwfs.set_state(ScriptState.UNCONFIGURED)\n",
    "# Configure the script, which puts the ScriptState to CONFIGURED\n",
    "cwfs_config_data = script_cwfs.cmd_configure.DataType()\n",
    "cwfs_config_data.config = cwfs_configuration\n",
    "await script_cwfs.do_configure(cwfs_config_data)"
   ]
  },
  {
   "cell_type": "code",
   "execution_count": null,
   "metadata": {},
   "outputs": [],
   "source": [
    "# set group ID as before\n",
    "time_for_groupID=astropy.time.Time.now().isot\n",
    "group_id_data = script_cwfs.cmd_setGroupId.DataType(\n",
    "                groupId=time_for_groupID\n",
    "            )\n",
    "await script_cwfs.do_setGroupId(group_id_data)"
   ]
  },
  {
   "cell_type": "code",
   "execution_count": null,
   "metadata": {},
   "outputs": [],
   "source": [
    "# Run this script while taking new data\n",
    "script_cwfs.intra_visit_id = None\n",
    "script_cwfs.extra_visit_id = None\n",
    "script_cwfs.short_timeout = 10"
   ]
  },
  {
   "cell_type": "code",
   "execution_count": null,
   "metadata": {},
   "outputs": [],
   "source": [
    "# run acquisition script\n",
    "# results = await script_cwfs.run()\n",
    "result = script_cwfs.cmd_run.DataType()\n",
    "await script_cwfs.do_run(result)\n",
    "await script_cwfs.done_task"
   ]
  },
  {
   "cell_type": "code",
   "execution_count": null,
   "metadata": {},
   "outputs": [],
   "source": [
    "# show donuts and centroids\n",
    "fig1 = plt.figure(1, figsize=(12,8))\n",
    "ax11 = fig1.add_subplot(121)\n",
    "ax11.set_title(f\"intra visitID - {script.intra_visit_id}\")\n",
    "ax11.imshow(script.I1[0].image0)\n",
    "ax11.contour(script.algo.pMask) \n",
    "ax12 = fig1.add_subplot(122)\n",
    "ax12.set_title(f\"extra visitID - {script.extra_visit_id}\")\n",
    "ax12.imshow(script.I2[0].image0)\n",
    "ax12.contour(script.algo.pMask) "
   ]
  },
  {
   "cell_type": "code",
   "execution_count": null,
   "metadata": {},
   "outputs": [],
   "source": [
    "await atcs.take_object(exptime=30)"
   ]
  },
  {
   "cell_type": "markdown",
   "metadata": {},
   "source": [
    "# Perform Data sequence"
   ]
  },
  {
   "cell_type": "code",
   "execution_count": null,
   "metadata": {},
   "outputs": [],
   "source": [
    "# Have to restart remotes since they'll have been closed from the acquisition\n",
    "await script.start_task"
   ]
  },
  {
   "cell_type": "code",
   "execution_count": null,
   "metadata": {},
   "outputs": [],
   "source": [
    "seq_configuration = yaml.safe_dump({\"object_name\": TARGET,\n",
    "                                \"do_acquire\": False,\n",
    "                                \"do_take_sequence\": True,\n",
    "                                \"exposure_time_sequence\" : [4, 4, 1, 2, 1, 2], \n",
    "                                \"filter_sequence\": ['empty_1','quadnotch1','BG40', 'BG40','RG610','RG610'], \n",
    "                                    # RG610 and Ronchi\n",
    "                                \"grating_sequence\": ['ronchi90lpmm','ronchi90lpmm','empty_1','empty_1','empty_1','empty_1'],\n",
    "                                \"doPointingModel\": False,\n",
    "                                \"dataPath\": '/project/shared/auxTel/rerun/quickLook',\n",
    "                                \"target_pointing_verification\": False})\n",
    "print(seq_configuration)"
   ]
  },
  {
   "cell_type": "code",
   "execution_count": null,
   "metadata": {},
   "outputs": [],
   "source": [
    "# Set script state to UNCONFIGURED\n",
    "# this is required to run the script a 2nd time but otherwise is a no-op\n",
    "script.set_state(ScriptState.UNCONFIGURED)\n",
    "# Configure the script, which puts the ScriptState to CONFIGURED\n",
    "seq_config_data = script.cmd_configure.DataType()\n",
    "seq_config_data.config = seq_configuration\n",
    "await script.do_configure(seq_configuration)"
   ]
  },
  {
   "cell_type": "code",
   "execution_count": null,
   "metadata": {},
   "outputs": [],
   "source": [
    "# set groupID - but same as before so omitting"
   ]
  },
  {
   "cell_type": "code",
   "execution_count": null,
   "metadata": {},
   "outputs": [],
   "source": [
    "# run data sequencing script\n",
    "run_data = script.cmd_run.DataType()\n",
    "await script.do_run(run_data)\n",
    "await script.done_task"
   ]
  }
 ],
 "metadata": {
  "kernelspec": {
   "display_name": "LSST",
   "language": "python",
   "name": "lsst"
  },
  "language_info": {
   "codemirror_mode": {
    "name": "ipython",
    "version": 3
   },
   "file_extension": ".py",
   "mimetype": "text/x-python",
   "name": "python",
   "nbconvert_exporter": "python",
   "pygments_lexer": "ipython3",
   "version": "3.8.6"
  }
 },
 "nbformat": 4,
 "nbformat_minor": 4
}
