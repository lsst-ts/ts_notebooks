{
 "cells": [
  {
   "cell_type": "markdown",
   "metadata": {},
   "source": [
    "## This notebook performs a single visit for this run for a target XXXYYY\n",
    "##### The script, slews and acquires the target, applies focus correction, takes sequence of data"
   ]
  },
  {
   "cell_type": "markdown",
   "metadata": {},
   "source": [
    "#### WARNING: This currently requires ts_externalscripts branch **tickets/DM-28818**"
   ]
  },
  {
   "cell_type": "code",
   "execution_count": null,
   "metadata": {},
   "outputs": [],
   "source": [
    "TARGET='HD 60753'"
   ]
  },
  {
   "cell_type": "code",
   "execution_count": null,
   "metadata": {},
   "outputs": [],
   "source": [
    "import os\n",
    "import sys\n",
    "import asyncio\n",
    "import time\n",
    "\n",
    "import numpy as np\n",
    "import logging \n",
    "import yaml\n",
    "import matplotlib.pyplot as plt\n",
    "import astropy\n",
    "\n",
    "from lsst.ts import salobj\n",
    "from lsst.ts.externalscripts.auxtel.latiss_cwfs_align import LatissCWFSAlign\n",
    "from lsst.ts.externalscripts.auxtel.latiss_acquire_and_take_sequence import LatissAcquireAndTakeSequence\n",
    "\n",
    "from lsst.ts.idl.enums.Script import ScriptState"
   ]
  },
  {
   "cell_type": "code",
   "execution_count": null,
   "metadata": {},
   "outputs": [],
   "source": [
    "print(os.environ[\"OSPL_URI\"])\n",
    "print(os.environ[\"LSST_DDS_PARTITION_PREFIX\"])"
   ]
  },
  {
   "cell_type": "code",
   "execution_count": null,
   "metadata": {},
   "outputs": [],
   "source": [
    "# for autocompleted to work\n",
    "%config IPCompleter.use_jedi = False"
   ]
  },
  {
   "cell_type": "code",
   "execution_count": null,
   "metadata": {},
   "outputs": [],
   "source": [
    "stream_handler = logging.StreamHandler(sys.stdout)\n",
    "# if you want logging\n",
    "logger = logging.getLogger()\n",
    "logger.addHandler(stream_handler)\n",
    "logger.level = logging.DEBUG\n",
    "\n",
    "# turn off logging for matplotlib\n",
    "mpl_logger = logging.getLogger('matplotlib')\n",
    "mpl_logger.setLevel(logging.WARNING)"
   ]
  },
  {
   "cell_type": "code",
   "execution_count": null,
   "metadata": {},
   "outputs": [],
   "source": [
    "# make sure all remotes etc are running\n",
    "script = LatissAcquireAndTakeSequence(index=1)  # this essentially calls the init method of the script\n",
    "await script.start_task"
   ]
  },
  {
   "cell_type": "code",
   "execution_count": null,
   "metadata": {},
   "outputs": [],
   "source": [
    "# set wrap strategy\n",
    "# this is required until the ATPtg is updated to not configure the mount for maximum time on target\n",
    "# script.atcs.rem.atptg.cmd_raDecTarget.set(azWrapStrategy=1)  # 1 does not unwrap, 0 unwraps"
   ]
  },
  {
   "cell_type": "markdown",
   "metadata": {},
   "source": [
    "## Perform acquisition"
   ]
  },
  {
   "cell_type": "code",
   "execution_count": null,
   "metadata": {},
   "outputs": [],
   "source": [
    "acq_configuration = yaml.safe_dump({\"object_name\": TARGET,\n",
    "                                \"do_acquire\": True,\n",
    "                                \"do_take_sequence\": False,\n",
    "                                \"acq_filter\" : 'RG610',\n",
    "                                \"acq_grating\" : 'empty_1',                                \n",
    "                                \"acq_exposure_time\": 0.4,\n",
    "                                \"do_pointing_model\": False,\n",
    "                                \"dataPath\": '/project/shared/auxTel/rerun/quickLook',\n",
    "                                \"max_acq_iter\": 3,\n",
    "                                \"target_pointing_verification\": True})\n",
    "print(acq_configuration)"
   ]
  },
  {
   "cell_type": "code",
   "execution_count": null,
   "metadata": {},
   "outputs": [],
   "source": [
    "# Set script state to UNCONFIGURED\n",
    "# this is required to run the script a 2nd time but otherwise is a no-op\n",
    "script.set_state(ScriptState.UNCONFIGURED)\n",
    "# Configure the script, which puts the ScriptState to CONFIGURED\n",
    "acq_config_data = script.cmd_configure.DataType()\n",
    "acq_config_data.config = acq_configuration\n",
    "await script.do_configure(acq_config_data)"
   ]
  },
  {
   "cell_type": "code",
   "execution_count": null,
   "metadata": {},
   "outputs": [],
   "source": [
    "# ATAOS must be on and corrections enabled, do as follows if required\n",
    "# await script.atcs.rem.ataos.cmd_enableCorrection.set_start(m1=True, hexapod=True, atspectrograph=True)"
   ]
  },
  {
   "cell_type": "code",
   "execution_count": null,
   "metadata": {},
   "outputs": [],
   "source": [
    "# get group_id_data that will be used for all images for this target\n",
    "time_for_groupID=astropy.time.Time.now().isot\n",
    "group_id_data = script.cmd_setGroupId.DataType(\n",
    "                groupId=time_for_groupID\n",
    "            )\n",
    "await script.do_setGroupId(group_id_data)"
   ]
  },
  {
   "cell_type": "code",
   "execution_count": null,
   "metadata": {},
   "outputs": [],
   "source": [
    "# run acquisition script\n",
    "run_acq = script.cmd_run.DataType()\n",
    "await script.do_run(run_acq)\n",
    "await script.done_task"
   ]
  },
  {
   "cell_type": "code",
   "execution_count": null,
   "metadata": {},
   "outputs": [],
   "source": [
    "# await script.atcs.rem.ataos.cmd_resetOffset.set_start(axis='x')\n",
    "# await script.atcs.rem.ataos.cmd_resetOffset.set_start(axis='y')"
   ]
  },
  {
   "cell_type": "markdown",
   "metadata": {},
   "source": [
    "# Perform Data sequence"
   ]
  },
  {
   "cell_type": "code",
   "execution_count": null,
   "metadata": {},
   "outputs": [],
   "source": [
    "# make sure all remotes etc are running\n",
    "script = LatissAcquireAndTakeSequence(index=1)  # this essentially calls the init method of the script\n",
    "await script.start_task"
   ]
  },
  {
   "cell_type": "code",
   "execution_count": null,
   "metadata": {},
   "outputs": [],
   "source": [
    "await script.atcs.rem.ataos.cmd_setLogLevel.set_start(level=10)"
   ]
  },
  {
   "cell_type": "code",
   "execution_count": null,
   "metadata": {},
   "outputs": [],
   "source": [
    "# # For testing\n",
    "# seq_configuration = yaml.safe_dump({\"object_name\": TARGET,\n",
    "#                                 \"do_acquire\": False,\n",
    "#                                 \"do_take_sequence\": True,\n",
    "#                                 \"exposure_time_sequence\" : [20, 10, 10, 2, 2, 2], \n",
    "#                                 \"filter_sequence\": ['RG610','empty_1', 'RG610', 'quadnotch1',\n",
    "#                                                     'BG40','RG610'], \n",
    "#                                     # RG610 and Ronchi\n",
    "#                                 \"grating_sequence\": ['empty_1', 'ronchi90lpmm','ronchi90lpmm','ronchi90lpmm',\n",
    "#                                                      'empty_1','empty_1'],\n",
    "#                                 \"do_pointing_model\": False,\n",
    "#                                 \"dataPath\": '/project/shared/auxTel/rerun/quickLook',\n",
    "#                                 \"target_pointing_verification\": False})\n",
    "# print(seq_configuration)"
   ]
  },
  {
   "cell_type": "code",
   "execution_count": null,
   "metadata": {},
   "outputs": [],
   "source": [
    "seq_configuration = yaml.safe_dump({\"object_name\": TARGET,\n",
    "                                \"do_acquire\": False,\n",
    "                                \"do_take_sequence\": True,\n",
    "                                \"exposure_time_sequence\" : [15,15,15,15,15], \n",
    "                                \"filter_sequence\": ['RG610','RG610', 'RG610', 'RG610',\n",
    "                                                    'RG610'], \n",
    "                                    # RG610 and Ronchi\n",
    "                                \"grating_sequence\": ['ronchi90lpmm', 'ronchi90lpmm','ronchi90lpmm','ronchi90lpmm',\n",
    "                                                     'ronchi90lpmm'],\n",
    "                                \"do_pointing_model\": False,\n",
    "                                \"dataPath\": '/project/shared/auxTel/rerun/quickLook',\n",
    "                                \"target_pointing_verification\": False})\n",
    "print(seq_configuration)"
   ]
  },
  {
   "cell_type": "code",
   "execution_count": null,
   "metadata": {},
   "outputs": [],
   "source": []
  },
  {
   "cell_type": "code",
   "execution_count": null,
   "metadata": {},
   "outputs": [],
   "source": [
    "# Set script state to UNCONFIGURED\n",
    "# this is required to run the script a 2nd time but otherwise is a no-op\n",
    "script.set_state(ScriptState.UNCONFIGURED)\n",
    "# Configure the script, which puts the ScriptState to CONFIGURED\n",
    "seq_config_data = script.cmd_configure.DataType()\n",
    "seq_config_data.config = seq_configuration\n",
    "await script.do_configure(seq_config_data)"
   ]
  },
  {
   "cell_type": "code",
   "execution_count": null,
   "metadata": {},
   "outputs": [],
   "source": [
    "# get group_id_data that will be used for all images for this target\n",
    "#time_for_groupID=astropy.time.Time.now().isot\n",
    "group_id_data = script.cmd_setGroupId.DataType(\n",
    "                groupId=time_for_groupID\n",
    "            )\n",
    "await script.do_setGroupId(group_id_data)"
   ]
  },
  {
   "cell_type": "code",
   "execution_count": null,
   "metadata": {},
   "outputs": [],
   "source": [
    "# run data sequencing script\n",
    "run_data = script.cmd_run.DataType()\n",
    "await script.do_run(run_data)\n",
    "await script.done_task"
   ]
  },
  {
   "cell_type": "code",
   "execution_count": null,
   "metadata": {},
   "outputs": [],
   "source": []
  }
 ],
 "metadata": {
  "kernelspec": {
   "display_name": "LSST",
   "language": "python",
   "name": "lsst"
  },
  "language_info": {
   "codemirror_mode": {
    "name": "ipython",
    "version": 3
   },
   "file_extension": ".py",
   "mimetype": "text/x-python",
   "name": "python",
   "nbconvert_exporter": "python",
   "pygments_lexer": "ipython3",
   "version": "3.8.6"
  }
 },
 "nbformat": 4,
 "nbformat_minor": 4
}
