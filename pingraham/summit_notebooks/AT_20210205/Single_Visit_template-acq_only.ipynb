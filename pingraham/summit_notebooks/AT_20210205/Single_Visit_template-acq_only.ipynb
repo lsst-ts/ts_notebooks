{
 "cells": [
  {
   "cell_type": "markdown",
   "metadata": {},
   "source": [
    "## This notebook performs a single visit for this run for a target XXXYYY\n",
    "##### The script, slews and acquires the target, applies focus correction, takes sequence of data"
   ]
  },
  {
   "cell_type": "markdown",
   "metadata": {},
   "source": [
    "#### WARNING: This currently requires ts_externalscripts branch **tickets/DM-28818**"
   ]
  },
  {
   "cell_type": "code",
   "execution_count": null,
   "metadata": {},
   "outputs": [],
   "source": [
    "#TARGET='HD 60753' # setting\n",
    "TARGET=\"HD 164461\" #pole "
   ]
  },
  {
   "cell_type": "code",
   "execution_count": null,
   "metadata": {},
   "outputs": [],
   "source": [
    "import os\n",
    "import sys\n",
    "import asyncio\n",
    "import time\n",
    "\n",
    "import numpy as np\n",
    "import logging \n",
    "import yaml\n",
    "import matplotlib.pyplot as plt\n",
    "import astropy\n",
    "\n",
    "from lsst.ts import salobj\n",
    "from lsst.ts.externalscripts.auxtel.latiss_cwfs_align import LatissCWFSAlign\n",
    "from lsst.ts.externalscripts.auxtel.latiss_acquire_and_take_sequence import LatissAcquireAndTakeSequence\n",
    "\n",
    "from lsst.ts.idl.enums.Script import ScriptState"
   ]
  },
  {
   "cell_type": "code",
   "execution_count": null,
   "metadata": {},
   "outputs": [],
   "source": [
    "print(os.environ[\"OSPL_URI\"])\n",
    "print(os.environ[\"LSST_DDS_PARTITION_PREFIX\"])"
   ]
  },
  {
   "cell_type": "code",
   "execution_count": null,
   "metadata": {},
   "outputs": [],
   "source": [
    "# for autocompleted to work\n",
    "%config IPCompleter.use_jedi = False"
   ]
  },
  {
   "cell_type": "code",
   "execution_count": null,
   "metadata": {},
   "outputs": [],
   "source": [
    "stream_handler = logging.StreamHandler(sys.stdout)\n",
    "# if you want logging\n",
    "logger = logging.getLogger()\n",
    "logger.addHandler(stream_handler)\n",
    "logger.level = logging.DEBUG\n",
    "\n",
    "# turn off logging for matplotlib\n",
    "mpl_logger = logging.getLogger('matplotlib')\n",
    "mpl_logger.setLevel(logging.WARNING)"
   ]
  },
  {
   "cell_type": "code",
   "execution_count": null,
   "metadata": {},
   "outputs": [],
   "source": [
    "# make sure all remotes etc are running\n",
    "script = LatissAcquireAndTakeSequence(index=1)  # this essentially calls the init method of the script\n",
    "await script.start_task"
   ]
  },
  {
   "cell_type": "code",
   "execution_count": null,
   "metadata": {},
   "outputs": [],
   "source": [
    "# set wrap strategy\n",
    "# this is required until the ATPtg is updated to not configure the mount for maximum time on target\n",
    "script.atcs.rem.atptg.cmd_raDecTarget.set(azWrapStrategy=1)  # 1 does not unwrap, 0 unwraps"
   ]
  },
  {
   "cell_type": "code",
   "execution_count": null,
   "metadata": {},
   "outputs": [],
   "source": [
    "seq_yaml = yaml.safe_dump({\"object_name\": TARGET,\n",
    "                                \"do_acquire\": True,\n",
    "                                \"acq_filter\" : 'RG610',\n",
    "                                \"acq_grating\" : 'empty_1', \n",
    "                                \"acq_exposure_time\": 0.4,\n",
    "                                \"max_acq_iter\": 3,\n",
    "                                \"do_take_sequence\": False,\n",
    "                                \"exposure_time_sequence\" : [15,15,15,15,\n",
    "                                                            15,15,15, 1], \n",
    "                                \"filter_sequence\": ['RG610', 'RG610', 'RG610', 'RG610',\n",
    "                                                    'RG610', 'empty_1', 'empty_1', 'RG610'], \n",
    "                                    # RG610 and Ronchi\n",
    "                                \"grating_sequence\": ['ronchi90lpmm', 'ronchi90lpmm','ronchi90lpmm','ronchi90lpmm',\n",
    "                                                     'ronchi90lpmm', 'empty_1', 'empty_1', 'empty_1'],\n",
    "                                \"do_pointing_model\": False,\n",
    "                                \"dataPath\": '/project/shared/auxTel/rerun/quickLook',\n",
    "                                \"target_pointing_verification\": True})\n",
    "print(seq_yaml)"
   ]
  },
  {
   "cell_type": "code",
   "execution_count": null,
   "metadata": {},
   "outputs": [],
   "source": [
    "# Set script state to UNCONFIGURED\n",
    "# this is required to run the script a 2nd time but otherwise is a no-op\n",
    "script.set_state(ScriptState.UNCONFIGURED)\n",
    "# Configure the script, which puts the ScriptState to CONFIGURED\n",
    "seq_configuration = script.cmd_configure.DataType()\n",
    "seq_configuration.config = seq_yaml\n",
    "await script.do_configure(seq_configuration)"
   ]
  },
  {
   "cell_type": "code",
   "execution_count": null,
   "metadata": {},
   "outputs": [],
   "source": [
    "# ATAOS must be on and corrections enabled, do as follows if required\n",
    "# await script.atcs.rem.ataos.cmd_enableCorrection.set_start(m1=True, hexapod=True, atspectrograph=True)"
   ]
  },
  {
   "cell_type": "code",
   "execution_count": null,
   "metadata": {},
   "outputs": [],
   "source": [
    "# get group_id_data that will be used for all images for this target\n",
    "time_for_groupID=astropy.time.Time.now().isot\n",
    "group_id_data = script.cmd_setGroupId.DataType(\n",
    "                groupId=time_for_groupID\n",
    "            )\n",
    "await script.do_setGroupId(group_id_data)"
   ]
  },
  {
   "cell_type": "code",
   "execution_count": null,
   "metadata": {},
   "outputs": [],
   "source": [
    "# run acquisition script\n",
    "run_acq = script.cmd_run.DataType()\n",
    "await script.do_run(run_acq)\n",
    "await script.done_task"
   ]
  },
  {
   "cell_type": "code",
   "execution_count": null,
   "metadata": {},
   "outputs": [],
   "source": [
    "# await script.atcs.rem.ataos.cmd_resetOffset.set_start(axis='x')\n",
    "# await script.atcs.rem.ataos.cmd_resetOffset.set_start(axis='y')"
   ]
  }
 ],
 "metadata": {
  "kernelspec": {
   "display_name": "LSST",
   "language": "python",
   "name": "lsst"
  },
  "language_info": {
   "codemirror_mode": {
    "name": "ipython",
    "version": 3
   },
   "file_extension": ".py",
   "mimetype": "text/x-python",
   "name": "python",
   "nbconvert_exporter": "python",
   "pygments_lexer": "ipython3",
   "version": "3.7.8"
  }
 },
 "nbformat": 4,
 "nbformat_minor": 4
}
