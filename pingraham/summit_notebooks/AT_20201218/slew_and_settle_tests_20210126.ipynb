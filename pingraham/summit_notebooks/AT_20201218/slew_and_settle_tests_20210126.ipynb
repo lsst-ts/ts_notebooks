{
 "cells": [
  {
   "cell_type": "code",
   "execution_count": 6,
   "metadata": {},
   "outputs": [],
   "source": [
    "import sys\n",
    "import asyncio\n",
    "import time\n",
    "import os\n",
    "\n",
    "import numpy as np\n",
    "\n",
    "from lsst.ts import salobj\n",
    "\n",
    "from lsst.ts.observatory.control.auxtel.atcs import ATCS\n",
    "from lsst.ts.observatory.control.auxtel.latiss import LATISS"
   ]
  },
  {
   "cell_type": "code",
   "execution_count": 7,
   "metadata": {},
   "outputs": [],
   "source": [
    "# for autocompleted to work\n",
    "%config IPCompleter.use_jedi = False"
   ]
  },
  {
   "cell_type": "code",
   "execution_count": 8,
   "metadata": {},
   "outputs": [],
   "source": [
    "import logging\n",
    "stream_handler = logging.StreamHandler(sys.stdout)\n",
    "logger = logging.getLogger()\n",
    "logger.addHandler(stream_handler)\n",
    "logger.level = logging.DEBUG"
   ]
  },
  {
   "cell_type": "code",
   "execution_count": 9,
   "metadata": {},
   "outputs": [
    {
     "name": "stdout",
     "output_type": "stream",
     "text": [
      "file:///home/patrickingraham/repos/ts_ddsconfig/config/ospl-sp.xml\n",
      "summit\n"
     ]
    }
   ],
   "source": [
    "print(os.environ[\"OSPL_URI\"])\n",
    "print(os.environ[\"LSST_DDS_PARTITION_PREFIX\"])"
   ]
  },
  {
   "cell_type": "code",
   "execution_count": null,
   "metadata": {},
   "outputs": [],
   "source": [
    "#get classes and start them\n",
    "domain = salobj.Domain()\n",
    "await asyncio.sleep(10) # This can be removed in the future...\n",
    "atcs = ATCS(domain)\n",
    "latiss = LATISS(domain)\n",
    "await asyncio.gather(atcs.start_task, latiss.start_task)"
   ]
  },
  {
   "cell_type": "code",
   "execution_count": null,
   "metadata": {},
   "outputs": [],
   "source": [
    "await atcs.rem.atdome.cmd_moveShutterDropoutDoor.set_start(open=True)"
   ]
  },
  {
   "cell_type": "code",
   "execution_count": 10,
   "metadata": {},
   "outputs": [
    {
     "name": "stdout",
     "output_type": "stream",
     "text": [
      "State.STANDBY\n"
     ]
    }
   ],
   "source": [
    "tmp = atcs.rem.atptg.evt_summaryState.get()\n",
    "print(salobj.State(tmp.summaryState))"
   ]
  },
  {
   "cell_type": "code",
   "execution_count": 11,
   "metadata": {},
   "outputs": [
    {
     "name": "stdout",
     "output_type": "stream",
     "text": [
      "private_revCode: 9816e66e, private_sndStamp: 1612286817.4665236, private_rcvStamp: 1612286817.4672172, private_seqNum: 2135938, private_identity: ATDome, private_origin: 10006, private_host: 0, heartbeat: False, priority: 0\n"
     ]
    }
   ],
   "source": [
    "tmp = await atcs.rem.atdome.evt_heartbeat.next(flush=True)\n",
    "print(tmp)"
   ]
  },
  {
   "cell_type": "code",
   "execution_count": null,
   "metadata": {},
   "outputs": [],
   "source": [
    "tmp =latiss.rem.atspectrograph.evt_settingsApplied.get()\n",
    "print(tmp)"
   ]
  },
  {
   "cell_type": "code",
   "execution_count": null,
   "metadata": {},
   "outputs": [],
   "source": [
    "await latiss.enable()"
   ]
  },
  {
   "cell_type": "code",
   "execution_count": null,
   "metadata": {},
   "outputs": [],
   "source": [
    "tmp = latiss.rem.atarchiver.evt_heartbeat.get()\n",
    "print(tmp)"
   ]
  },
  {
   "cell_type": "code",
   "execution_count": null,
   "metadata": {},
   "outputs": [],
   "source": [
    "tmp = latiss.rem.atarchiver.evt_summaryState.get()\n",
    "print(salobj.State(tmp.summaryState))"
   ]
  },
  {
   "cell_type": "code",
   "execution_count": null,
   "metadata": {},
   "outputs": [],
   "source": [
    "# enable components\n",
    "await atcs.enable()\n",
    "#await latiss.standby()"
   ]
  },
  {
   "cell_type": "code",
   "execution_count": 20,
   "metadata": {},
   "outputs": [],
   "source": [
    "# ATDOME only\n",
    "tmp = await salobj.set_summary_state(atcs.rem.atdome, salobj.State.STANDBY, settingsToApply='test')\n",
    "#tmp = await salobj.set_summary_state(atcs.rem.atdometrajectory, salobj.State.STANDBY)\n",
    "#tmp=await atcs.rem.atpneumatics.cmd_standby.start()\n",
    "#print(tmp)"
   ]
  },
  {
   "cell_type": "code",
   "execution_count": null,
   "metadata": {},
   "outputs": [],
   "source": [
    "# ATMCS\n",
    "tmp = await salobj.set_summary_state(atcs.rem.atmcs, salobj.State.STANDBY)\n",
    "#tmp=The job description is a bit of a catch-all, if someone could provide a more detailed list of priorities and responsibilities I think that would help all parties.await atcs.rem.atmcs.cmd_start.start(timeout=5)"
   ]
  },
  {
   "cell_type": "code",
   "execution_count": null,
   "metadata": {},
   "outputs": [],
   "source": [
    "# ATPneumatics\n",
    "tmp = await salobj.set_summary_state(atcs.rem.atpneumatics, salobj.State.STANDBY)\n",
    "#tmp=await atcs.rem.atpneumatics.cmd_start.start()"
   ]
  },
  {
   "cell_type": "code",
   "execution_count": null,
   "metadata": {},
   "outputs": [],
   "source": [
    "# ATPtg\n",
    "tmp = await salobj.set_summary_state(atcs.rem.atptg, salobj.State.STANDBY)\n",
    "#tmp=await atcs.rem.atptg.cmd_enable.start()\n",
    "# Need to manually say which rotator we're using at the moment (N2-->focus=3, N1-->focus=2)\n",
    "#await atcs.rem.atptg.cmd_focusName.set_start(focus=3)"
   ]
  },
  {
   "cell_type": "code",
   "execution_count": null,
   "metadata": {},
   "outputs": [],
   "source": [
    "# ATAOS\n",
    "tmp = await salobj.set_summary_state(atcs.rem.ataos, salobj.State.STANDBY, settingsToApply='hex_m1_hex_202003_v3.yaml')\n",
    "#tmp=await atcs.rem.ataos.cmd_enable.start()"
   ]
  },
  {
   "cell_type": "code",
   "execution_count": 13,
   "metadata": {},
   "outputs": [
    {
     "data": {
      "text/plain": [
       "<ddsutil.ATDome_ackcmd_ec56b694 at 0x7f00d0dbfc10>"
      ]
     },
     "execution_count": 13,
     "metadata": {},
     "output_type": "execute_result"
    }
   ],
   "source": [
    "await atcs.rem.atdome.cmd_homeAzimuth.start()"
   ]
  },
  {
   "cell_type": "code",
   "execution_count": 15,
   "metadata": {},
   "outputs": [
    {
     "name": "stdout",
     "output_type": "stream",
     "text": [
      "private_revCode: ec56b694, private_sndStamp: 1612287411.784614, private_rcvStamp: 1612287411.787763, private_seqNum: 919827472, private_identity: ATDome, private_origin: 10006, private_host: 0, ack: 303, error: 0, result: Done, host: 0, identity: patrickingraham@nb-patrickingraham-w-2021-02, origin: 16963, cmdtype: 8, timeout: 0.0\n"
     ]
    }
   ],
   "source": [
    "# This doesn't move anything! \n",
    "tmp=await atcs.rem.atdome.cmd_moveAzimuth.set_start(5)\n",
    "print(tmp)"
   ]
  },
  {
   "cell_type": "code",
   "execution_count": 19,
   "metadata": {},
   "outputs": [
    {
     "name": "stdout",
     "output_type": "stream",
     "text": [
      "private_revCode: ec56b694, private_sndStamp: 1612287735.4213793, private_rcvStamp: 1612287735.421914, private_seqNum: 919827476, private_identity: ATDome, private_origin: 10006, private_host: 0, ack: 303, error: 0, result: Done, host: 0, identity: patrickingraham@nb-patrickingraham-w-2021-02, origin: 16963, cmdtype: 8, timeout: 0.0\n"
     ]
    }
   ],
   "source": [
    "# This does\n",
    "tmp=await atcs.rem.atdome.cmd_moveAzimuth.set_start(azimuth=0)\n",
    "print(tmp)"
   ]
  },
  {
   "cell_type": "code",
   "execution_count": null,
   "metadata": {},
   "outputs": [],
   "source": [
    "# ATHexapod\n",
    "tmp = await salobj.set_summary_state(atcs.rem.athexapod, salobj.State.STANDBY, settingsToApply='summit')\n",
    "#tmp=await atcs.rem.athexapod.cmd_start.set_start(settingsToApply='summit')\n",
    "#tmp=await atcs.rem.athexapod.cmd_enable.start()\n",
    "print(tmp)"
   ]
  },
  {
   "cell_type": "code",
   "execution_count": null,
   "metadata": {},
   "outputs": [],
   "source": [
    "# ATSPECTROGRAPH\n",
    "tmp = await salobj.set_summary_state(latiss.rem.atspectrograph, salobj.State.ENABLED, settingsToApply='LATISS_AuxTel_20210108_v3.yaml')\n",
    "#tmp=await latiss.rem.atspectrograph.cmd_start.set_start(settingsToApply='LATISS_AuxTel_20210108.yaml')\n",
    "#tmp=await latiss.rem.atspectrograph.cmd_enable.start()\n",
    "print(tmp)"
   ]
  },
  {
   "cell_type": "code",
   "execution_count": null,
   "metadata": {},
   "outputs": [],
   "source": []
  },
  {
   "cell_type": "code",
   "execution_count": null,
   "metadata": {},
   "outputs": [],
   "source": [
    "# take event checking out the slew commands to test telescope only\n",
    "atcs.check.atdome = False\n",
    "atcs.check.atdometrajectory = False"
   ]
  },
  {
   "cell_type": "code",
   "execution_count": null,
   "metadata": {},
   "outputs": [],
   "source": [
    "offset = 1.12 #2./3600\n",
    "start_az=205+offset\n",
    "start_el=71+offset\n",
    "start_rot_pa=1.5+offset\n",
    "await atcs.point_azel(start_az, start_el, rot_tel=start_rot_pa, wait_dome=False)"
   ]
  },
  {
   "cell_type": "code",
   "execution_count": null,
   "metadata": {},
   "outputs": [],
   "source": [
    "# Perform Rotator verification (LTS-337-003)True"
   ]
  },
  {
   "cell_type": "code",
   "execution_count": null,
   "metadata": {},
   "outputs": [],
   "source": [
    "await atcs.rem.atmcs.cmd_abort.start()"
   ]
  },
  {
   "cell_type": "code",
   "execution_count": null,
   "metadata": {},
   "outputs": [],
   "source": [
    "await atcs.stop_tracking()"
   ]
  },
  {
   "cell_type": "code",
   "execution_count": null,
   "metadata": {},
   "outputs": [],
   "source": [
    "start_az=-58\n",
    "start_el=35\n",
    "start_rot_pa=13.1\n",
    "await atcs.point_azel(start_az, start_el, rot_tel=start_rot_pa, wait_dome=False)"
   ]
  },
  {
   "cell_type": "code",
   "execution_count": null,
   "metadata": {},
   "outputs": [],
   "source": [
    "start_az=165.5\n",
    "start_el=67.9\n",
    "start_rot_pa=170\n",
    "\n",
    "start_time =time.time()\n",
    "await atcs.point_azel(start_az, start_el, rot_pa=start_rot_pa, wait_dome=True)\n",
    "end_time = time.time()\n",
    "print(f'Time to perform {170*2} degree rotation of N2 is {end_time-start_time} seconds')"
   ]
  },
  {
   "cell_type": "code",
   "execution_count": null,
   "metadata": {},
   "outputs": [],
   "source": []
  },
  {
   "cell_type": "code",
   "execution_count": null,
   "metadata": {},
   "outputs": [],
   "source": [
    "# send telescope to alt/az/\n",
    "#await salobj.set_summary_state(latiss.atcamera, salobj.State.ENABLED)"
   ]
  },
  {
   "cell_type": "code",
   "execution_count": null,
   "metadata": {},
   "outputs": [],
   "source": [
    "# point telescope to desired starting position\n",
    "# this make take extra time as more checks are performed\n",
    "start_az=200\n",
    "start_el=71\n",
    "start_rot_pa=0\n",
    "await atcs.point_azel(start_az, start_el, rot_tel=start_rot_pa, wait_dome=True)"
   ]
  },
  {
   "cell_type": "code",
   "execution_count": null,
   "metadata": {},
   "outputs": [],
   "source": [
    "#declare offset size\n",
    "d_az= 3.5 # degrees\n",
    "d_el = 3.5 # degrees\n",
    "d_rot= 3.5 # degrees\n",
    "\n",
    "d_az= 10 # degrees\n",
    "d_el = 10 # degrees\n",
    "d_rot= 10 # degrees\n",
    "\n",
    "d_az= 90 # degrees\n",
    "d_el = 60 # degrees\n",
    "d_rot= 90 # degrees"
   ]
  },
  {
   "cell_type": "code",
   "execution_count": null,
   "metadata": {},
   "outputs": [],
   "source": [
    "await atcs.stop_tracking()"
   ]
  },
  {
   "cell_type": "code",
   "execution_count": null,
   "metadata": {},
   "outputs": [],
   "source": []
  },
  {
   "cell_type": "code",
   "execution_count": null,
   "metadata": {},
   "outputs": [],
   "source": []
  },
  {
   "cell_type": "code",
   "execution_count": null,
   "metadata": {},
   "outputs": [],
   "source": [
    "from datetime import datetime\n",
    "\n",
    "now = datetime.now()\n",
    "\n",
    "current_time = now.strftime(\"%H:%M:%S\")\n",
    "print(f\"Current Time = {current_time}, or {time.time()}\")"
   ]
  },
  {
   "cell_type": "code",
   "execution_count": null,
   "metadata": {},
   "outputs": [],
   "source": [
    "now = datetime.now()\n",
    "current_time = now.strftime(\"%H:%M:%S\")\n",
    "print(f\"Current Time = {current_time}, or {time.time()}\")\n",
    "\n",
    "# Perform tracking test by taking continous 20s exposures\n",
    "#await attcs.slew_object('HD 167060')\n",
    "#await atcs.slew_object('HIP 100787')\n",
    "await atcs.slew_object('51 Cap')\n",
    "\n",
    "now = datetime.now()\n",
    "current_time = now.strftime(\"%H:%M:%S\")\n",
    "print(f\"Current Time = {current_time}, or {time.time()}\")"
   ]
  },
  {
   "cell_type": "code",
   "execution_count": null,
   "metadata": {},
   "outputs": [],
   "source": [
    "now = datetime.now()\n",
    "current_time = now.strftime(\"%H:%M:%S\")\n",
    "print(f\"Current Time = {current_time}, or {time.time()}\")\n",
    "await atcs.stop_tracking()"
   ]
  },
  {
   "cell_type": "code",
   "execution_count": null,
   "metadata": {},
   "outputs": [],
   "source": [
    "now = datetime.now()\n",
    "current_time = now.strftime(\"%H:%M:%S\")\n",
    "print(f\"Current Time = {current_time}, or {time.time()}\")\n",
    "await atcs.stop_tracking()"
   ]
  },
  {
   "cell_type": "code",
   "execution_count": null,
   "metadata": {},
   "outputs": [],
   "source": [
    "await latiss.take_object(exptime=15, grating='empty_1', filter='RG610')"
   ]
  },
  {
   "cell_type": "code",
   "execution_count": null,
   "metadata": {},
   "outputs": [],
   "source": [
    "await latiss.take_object(exptime=15, grating='ronchi90lpmm', filter='empty_1')"
   ]
  },
  {
   "cell_type": "code",
   "execution_count": null,
   "metadata": {},
   "outputs": [],
   "source": [
    "while True:\n",
    "    await latiss.take_object(exptime=15, grating='empty_1', filter='RG610')\n",
    "    await latiss.take_object(exptime=15, grating='ronchi90lpmm', filter='empty_1')"
   ]
  },
  {
   "cell_type": "code",
   "execution_count": null,
   "metadata": {},
   "outputs": [],
   "source": [
    "# stopped tracking elsewhere, then reslewed\n",
    "await atcs.slew_object('HR 7474')\n",
    "#await atcs.slew_object('HIP 23172')"
   ]
  },
  {
   "cell_type": "code",
   "execution_count": null,
   "metadata": {},
   "outputs": [],
   "source": [
    "#await atcs.rem.ataos.cmd_setLogLevel.set_start(level=10)"
   ]
  },
  {
   "cell_type": "code",
   "execution_count": null,
   "metadata": {},
   "outputs": [],
   "source": [
    "# OFFSET  AZ/EL\n",
    "await attcs.offset_azel(az=-5*60*60, el=0)\n",
    "await attcs.offset_azel(az=-2*60*60, el=0)\n",
    "await attcs.offset_azel(az=0, el=0)"
   ]
  },
  {
   "cell_type": "code",
   "execution_count": null,
   "metadata": {},
   "outputs": [],
   "source": [
    "while True:\n",
    "    await latiss.take_object(exptime=15, grating='empty_1', filter='RG610')\n",
    "    await latiss.take_object(exptime=15, grating='ronchi90lpmm', filter='empty_1')\n",
    "    "
   ]
  },
  {
   "cell_type": "code",
   "execution_count": null,
   "metadata": {},
   "outputs": [],
   "source": [
    "await latiss.take_bias(nbias=1)"
   ]
  },
  {
   "cell_type": "code",
   "execution_count": null,
   "metadata": {},
   "outputs": [],
   "source": [
    "#await attcs.startup()"
   ]
  },
  {
   "cell_type": "code",
   "execution_count": null,
   "metadata": {},
   "outputs": [],
   "source": [
    "await latiss.rem.atarchiver.cmd_start.start()"
   ]
  },
  {
   "cell_type": "code",
   "execution_count": null,
   "metadata": {},
   "outputs": [],
   "source": [
    "# 30 Az, 71 El"
   ]
  },
  {
   "cell_type": "code",
   "execution_count": null,
   "metadata": {},
   "outputs": [],
   "source": [
    "await atcs.slew_object('2 Cap')"
   ]
  },
  {
   "cell_type": "code",
   "execution_count": null,
   "metadata": {},
   "outputs": [],
   "source": [
    "await atcs.slew_object('HD 185928')"
   ]
  },
  {
   "cell_type": "code",
   "execution_count": null,
   "metadata": {},
   "outputs": [],
   "source": [
    "await atcs.slew_object('HD176614') # 81 elevation"
   ]
  },
  {
   "cell_type": "code",
   "execution_count": null,
   "metadata": {},
   "outputs": [],
   "source": []
  },
  {
   "cell_type": "code",
   "execution_count": null,
   "metadata": {},
   "outputs": [],
   "source": [
    "await atcs.slew_object('HD 181010',rot_type=4) # 84 elevation"
   ]
  },
  {
   "cell_type": "code",
   "execution_count": null,
   "metadata": {},
   "outputs": [],
   "source": [
    "await atcs.slew_object('HR 6960',rot_type=4) # ~72 elevation"
   ]
  },
  {
   "cell_type": "code",
   "execution_count": null,
   "metadata": {},
   "outputs": [],
   "source": []
  },
  {
   "cell_type": "code",
   "execution_count": null,
   "metadata": {},
   "outputs": [],
   "source": [
    "await atcs.slew_object('HR 6334',rot_type=4) # 56 elevation"
   ]
  },
  {
   "cell_type": "code",
   "execution_count": null,
   "metadata": {},
   "outputs": [],
   "source": [
    "await atcs.slew_object('5 Lup',rot_type=4) # ~40 elevation - 9:18 am - hit mount fault - velocity error in azimuth - possibly a slip?"
   ]
  },
  {
   "cell_type": "code",
   "execution_count": null,
   "metadata": {},
   "outputs": [],
   "source": [
    "await atcs.slew_object('HD 185975',rot_type=4) # ~40 elevation - 9:18 am - hit mount fault - velocity error in azimuth - possibly a slip?"
   ]
  },
  {
   "cell_type": "code",
   "execution_count": null,
   "metadata": {},
   "outputs": [],
   "source": [
    "await atcs.slew_object('HIP 101090') # az 30, el 80 -- going to try offset testing"
   ]
  },
  {
   "cell_type": "code",
   "execution_count": null,
   "metadata": {},
   "outputs": [],
   "source": [
    "global currvalue"
   ]
  },
  {
   "cell_type": "code",
   "execution_count": null,
   "metadata": {},
   "outputs": [],
   "source": [
    "currvalue = 0\n",
    "offset=10\n",
    "await atcs.offset_azel(offset,0, relative=True)\n",
    "currvalue = currvalue + offset"
   ]
  },
  {
   "cell_type": "code",
   "execution_count": null,
   "metadata": {},
   "outputs": [],
   "source": [
    "offset=-10\n",
    "await atcs.offset_azel(offset,0, relative=True)\n",
    "currvalue = currvalue + offset"
   ]
  },
  {
   "cell_type": "code",
   "execution_count": null,
   "metadata": {},
   "outputs": [],
   "source": [
    "await atcs.offset_azel(0, offset, relative=True)"
   ]
  },
  {
   "cell_type": "code",
   "execution_count": null,
   "metadata": {},
   "outputs": [],
   "source": [
    "await atcs.offset_azel(0, -offset, relative=True)"
   ]
  },
  {
   "cell_type": "code",
   "execution_count": null,
   "metadata": {},
   "outputs": [],
   "source": [
    "await atcs.offset_xy(x=-offset, y=0, relative=True)"
   ]
  },
  {
   "cell_type": "code",
   "execution_count": null,
   "metadata": {},
   "outputs": [],
   "source": [
    "await atcs.stop_tracking()"
   ]
  },
  {
   "cell_type": "code",
   "execution_count": null,
   "metadata": {},
   "outputs": [],
   "source": [
    "#Hexapod offset : [ 0.03945005 -0.15717775 0.06446582]\n",
    "await atcs.rem.ataos.cmd_offset.set_start(z=0.06446582)"
   ]
  },
  {
   "cell_type": "code",
   "execution_count": null,
   "metadata": {},
   "outputs": [],
   "source": [
    "# -0.060342  - but need to remove this\n",
    "await atcs.rem.ataos.cmd_offset.set_start(z=0.060342)"
   ]
  },
  {
   "cell_type": "code",
   "execution_count": null,
   "metadata": {},
   "outputs": [],
   "source": []
  },
  {
   "cell_type": "code",
   "execution_count": null,
   "metadata": {},
   "outputs": [],
   "source": [
    "# turn on corrections\n",
    "tmp = await atcs.rem.ataos.cmd_enableCorrection.set_start(m1=True, hexapod=True, atspectrograph=True)"
   ]
  },
  {
   "cell_type": "code",
   "execution_count": null,
   "metadata": {},
   "outputs": [],
   "source": [
    "# turn off corrections\n",
    "tmp = await atcs.rem.ataos.cmd_disableCorrection.set_start(m1=True, hexapod=True, atspectrograph=True)"
   ]
  },
  {
   "cell_type": "code",
   "execution_count": null,
   "metadata": {},
   "outputs": [],
   "source": [
    "# is ATAOS correcting?\n",
    "tmp = atcs.rem.ataos.evt_correctionEnabled.get()\n",
    "print(tmp)"
   ]
  },
  {
   "cell_type": "code",
   "execution_count": null,
   "metadata": {},
   "outputs": [],
   "source": [
    "# what is the M1 mirror pressure\n",
    "pres = atcs.rem.ataos.evt_m1CorrectionStarted.get()\n",
    "print(pres)"
   ]
  },
  {
   "cell_type": "code",
   "execution_count": null,
   "metadata": {},
   "outputs": [],
   "source": [
    "# Verify that ATAOS handles focus/pointing offsets from grating change\n",
    "await latiss.rem.atspectrograph.cmd_changeFilter.set_start(filter=1)\n",
    "await latiss.rem.atspectrograph.cmd_changeDisperser.set_start(disperser=1)"
   ]
  },
  {
   "cell_type": "code",
   "execution_count": null,
   "metadata": {},
   "outputs": [],
   "source": [
    "await latiss.setup_atspec"
   ]
  },
  {
   "cell_type": "code",
   "execution_count": null,
   "metadata": {},
   "outputs": [],
   "source": [
    "# change ataos wavelength\n",
    "tmp = await atcs.rem.ataos.cmd_setWavelength.set_start(wavelength=700)\n",
    "print(tmp)"
   ]
  },
  {
   "cell_type": "code",
   "execution_count": null,
   "metadata": {},
   "outputs": [],
   "source": [
    "# get offsets from ATAOS - after removing artificial offset\n",
    "focus_offsets = atcs.rem.ataos.evt_focusOffsetSummary.get()\n",
    "print(focus_offsets)"
   ]
  },
  {
   "cell_type": "code",
   "execution_count": null,
   "metadata": {},
   "outputs": [],
   "source": [
    "# get offsets from ATAOS - after turning on atspectrograph correction\n",
    "focus_offsets = atcs.rem.ataos.evt_focusOffsetSummary.get()\n",
    "print(focus_offsets)"
   ]
  },
  {
   "cell_type": "code",
   "execution_count": null,
   "metadata": {},
   "outputs": [],
   "source": [
    "# get offsets from ATAOS - after reset\n",
    "focus_offsets = await atcs.rem.ataos.evt_focusOffsetSummary.aget()\n",
    "print(focus_offsets)"
   ]
  },
  {
   "cell_type": "code",
   "execution_count": null,
   "metadata": {},
   "outputs": [],
   "source": [
    "# now apply user offset\n",
    "await atcs.rem.ataos.cmd_offset.set_start(z=0.032214134931564)"
   ]
  },
  {
   "cell_type": "code",
   "execution_count": null,
   "metadata": {},
   "outputs": [],
   "source": [
    "# get offsets from ATAOS \n",
    "focus_offsets = await atcs.rem.ataos.evt_focusOffsetSummary.aget()\n",
    "print(focus_offsets)"
   ]
  },
  {
   "cell_type": "code",
   "execution_count": null,
   "metadata": {},
   "outputs": [],
   "source": [
    "# get pointing offsets from ATAOS\n",
    "pointing_offsets = await atcs.rem.ataos.evt_pointingOffsetSummary.aget()\n",
    "print(pointing_offsets)"
   ]
  },
  {
   "cell_type": "code",
   "execution_count": null,
   "metadata": {},
   "outputs": [],
   "source": [
    "# now apply user offset\n",
    "await atcs.rem.ataos.cmd_offset.set_start(z=1.34)"
   ]
  },
  {
   "cell_type": "code",
   "execution_count": null,
   "metadata": {},
   "outputs": [],
   "source": [
    "# get pointing offsets from ATAOS\n",
    "pointing_offsets = atcs.rem.ataos.evt_pointingOffsetSummary.get()\n",
    "print(pointing_offsets)"
   ]
  },
  {
   "cell_type": "code",
   "execution_count": null,
   "metadata": {},
   "outputs": [],
   "source": [
    "# reset offsets\n",
    "tmp = await atcs.rem.ataos.cmd_resetOffset.set_start(axis='z')"
   ]
  },
  {
   "cell_type": "code",
   "execution_count": null,
   "metadata": {},
   "outputs": [],
   "source": []
  },
  {
   "cell_type": "code",
   "execution_count": null,
   "metadata": {},
   "outputs": [],
   "source": [
    "# take LATISS images\n",
    "await latiss.take_bias(nbias=30)"
   ]
  },
  {
   "cell_type": "code",
   "execution_count": null,
   "metadata": {},
   "outputs": [],
   "source": [
    "# get offsets from ATAOS\n",
    "focus_offsets = await atcs.rem.ataos.evt_focusOffsetSummary.aget()\n",
    "print(focus_offsets)"
   ]
  },
  {
   "cell_type": "code",
   "execution_count": null,
   "metadata": {},
   "outputs": [],
   "source": []
  }
 ],
 "metadata": {
  "kernelspec": {
   "display_name": "LSST",
   "language": "python",
   "name": "lsst"
  },
  "language_info": {
   "codemirror_mode": {
    "name": "ipython",
    "version": 3
   },
   "file_extension": ".py",
   "mimetype": "text/x-python",
   "name": "python",
   "nbconvert_exporter": "python",
   "pygments_lexer": "ipython3",
   "version": "3.7.8"
  }
 },
 "nbformat": 4,
 "nbformat_minor": 4
}
