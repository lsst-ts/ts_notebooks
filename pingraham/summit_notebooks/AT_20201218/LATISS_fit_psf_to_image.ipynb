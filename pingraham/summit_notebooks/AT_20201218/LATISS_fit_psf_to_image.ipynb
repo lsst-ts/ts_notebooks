{
 "cells": [
  {
   "cell_type": "markdown",
   "metadata": {},
   "source": [
    "### Notebook to be used to test that ATCamera, ATHeaderService and ATArchiver are online and working"
   ]
  },
  {
   "cell_type": "code",
   "execution_count": null,
   "metadata": {},
   "outputs": [],
   "source": [
    "import numpy as np\n",
    "from lsst.ts import salobj\n",
    "import asyncio\n",
    "from astropy.io import fits\n",
    "\n",
    "import warnings\n",
    "#import matplotlib.pyplot as plt  # imported as py above\n",
    "from astropy.modeling import models, fitting\n",
    "from scipy.ndimage.filters import gaussian_filter\n",
    "from matplotlib import pyplot as plt\n",
    "from astropy import time as astropytime\n",
    "%matplotlib ipympl\n",
    "mag=4\n",
    "plt.rcParams['figure.figsize'] = [7*mag, 6*mag]\n",
    "\n",
    "import lsst.daf.persistence as dafPersist\n",
    "import matplotlib.pyplot as plt\n",
    "%matplotlib inline\n",
    "import lsst.afw.display as afwDisplay\n",
    "\n",
    "afwDisplay.setDefaultBackend('matplotlib')\n",
    "import time\n",
    "import lsst.afw.cameraGeom.utils as cameraGeomUtils\n",
    "import lsst.geom\n",
    "\n",
    "import os\n",
    "import logging\n",
    "logging.basicConfig(level=logging.INFO,\n",
    "                    format='%(asctime)s %(name)-12s %(levelname)-8s %(message)s')\n",
    "logger = logging.getLogger('image_display_notebook')"
   ]
  },
  {
   "cell_type": "code",
   "execution_count": null,
   "metadata": {},
   "outputs": [],
   "source": [
    "print(os.environ[\"OSPL_URI\"])\n",
    "print(os.environ[\"LSST_DDS_PARTITION_PREFIX\"])"
   ]
  },
  {
   "cell_type": "code",
   "execution_count": null,
   "metadata": {},
   "outputs": [],
   "source": [
    "# Want to display in firefly?\n",
    "afwDisplay.setDefaultBackend('firefly')\n",
    "# os.environ['FIREFLY_HTML'] = \"slate.html\"\n",
    "# os.environ['FIREFLY_URL'] = 'http://139.229.170.210:8080/firefly/'\n",
    "print(os.environ['FIREFLY_HTML'])\n",
    "print(os.environ['FIREFLY_URL'])"
   ]
  },
  {
   "cell_type": "code",
   "execution_count": null,
   "metadata": {},
   "outputs": [],
   "source": [
    "# # Setup the butler\n",
    "#accs_images = True\n",
    "accs_images = False\n",
    "if accs_images:\n",
    "    repo = os.path.join(\"/home/saluser/ingest/accs/\")#, mapper={'calibRoot': \"/home/saluser/ingest/dmcs/CALIB\"})\n",
    "    butler = dafPersist.Butler(repo)\n",
    "else:\n",
    "    #repo = os.path.join(\"/home/saluser/ingest/dmcs/\")#, mapper={'calibRoot': \"/home/saluser/ingest/dmcs/CALIB\"})\n",
    "    repo = os.path.join(\"/project/shared/auxTel/\")\n",
    "    #repo = os.path.join(\"/readonly/lsstdata/auxtel/base/auxtel/oods/butler/repo/\")\n",
    "    butler = dafPersist.Butler(repo) #\n",
    "    #butler = dafPersist.Butler(repo, mapper=\"lsst.obs.lsst.auxTel.AuxTelMapper\")\n",
    "#test   \n",
    "#raw = butler.get(\"raw\", visit=2019111300004)\n",
    "#image = raw.getImage().array"
   ]
  },
  {
   "cell_type": "code",
   "execution_count": null,
   "metadata": {},
   "outputs": [],
   "source": []
  },
  {
   "cell_type": "code",
   "execution_count": null,
   "metadata": {},
   "outputs": [],
   "source": [
    "visitID = 2021012100658  #132 #292\n",
    "#visitID = 20210115000015"
   ]
  },
  {
   "cell_type": "code",
   "execution_count": null,
   "metadata": {},
   "outputs": [],
   "source": [
    "# from lsst.rapid.analysis.bestEffort import BestEffortIsr\n",
    "# REPODIR = repo\n",
    "# bestEffort = BestEffortIsr(REPODIR)\n",
    "# isr_corr_exposure = bestEffort.getExposure(visitID)"
   ]
  },
  {
   "cell_type": "code",
   "execution_count": null,
   "metadata": {},
   "outputs": [],
   "source": [
    "data_ref = butler.dataRef(\"raw\", **dict(expId=visitID))\n",
    "#tmp=data_ref.get()\n",
    "#image = raw.getImage().array"
   ]
  },
  {
   "cell_type": "code",
   "execution_count": null,
   "metadata": {},
   "outputs": [],
   "source": []
  },
  {
   "cell_type": "code",
   "execution_count": null,
   "metadata": {},
   "outputs": [],
   "source": [
    "from lsst.ip.isr.isrTask import IsrTask\n",
    "isr_config = IsrTask.ConfigClass()\n",
    "isr_config.doLinearize = False\n",
    "isr_config.doBias = True\n",
    "isr_config.doFlat = False\n",
    "isr_config.doDark = False\n",
    "isr_config.doFringe = False\n",
    "isr_config.doDefect = True\n",
    "#isr_config.doAddDistortionModel = False\n",
    "isr_config.doSaturationInterpolation = False\n",
    "isr_config.doSaturation = False\n",
    "isr_config.doWrite = False"
   ]
  },
  {
   "cell_type": "code",
   "execution_count": null,
   "metadata": {},
   "outputs": [],
   "source": [
    "isrTask = IsrTask(config=isr_config)"
   ]
  },
  {
   "cell_type": "code",
   "execution_count": null,
   "metadata": {},
   "outputs": [],
   "source": [
    "file = isrTask.runDataRef(data_ref).exposure\n",
    "isr_corr_exposure = file"
   ]
  },
  {
   "cell_type": "code",
   "execution_count": null,
   "metadata": {},
   "outputs": [],
   "source": []
  },
  {
   "cell_type": "code",
   "execution_count": null,
   "metadata": {},
   "outputs": [],
   "source": [
    "tmp=file.getMetadata()\n",
    "print(tmp['OBJECT'])"
   ]
  },
  {
   "cell_type": "code",
   "execution_count": null,
   "metadata": {},
   "outputs": [],
   "source": [
    "plt.close('all')\n",
    "disp = afwDisplay.Display(2, reopenPlot=True, verbose=True)"
   ]
  },
  {
   "cell_type": "code",
   "execution_count": null,
   "metadata": {},
   "outputs": [],
   "source": [
    "if True: # display the image in firefly\n",
    "    #plt.close('all')\n",
    "    #disp = afwDisplay.Display(2, reopenPlot=True)\n",
    "    disp.setMaskPlaneColor('SAT', afwDisplay.IGNORE)\n",
    "    disp.setImageColormap('gray')\n",
    "    disp.scale('linear', 'zscale')\n",
    "    disp.mtv(isr_corr_exposure, title='visit = {}'.format(visitID))\n",
    "    #cgUtils.overlayCcdBoxes(isr_corr_exposure.getDetector(), isTrimmed=True, display=disp)"
   ]
  },
  {
   "cell_type": "code",
   "execution_count": null,
   "metadata": {},
   "outputs": [],
   "source": [
    "# pixels = tmp.image.array\n",
    "# #pixels=isr_corr_exposure.image.array\n",
    "# med=np.median(pixels)\n",
    "# sigma=np.std(pixels)\n",
    "# dsig = 1\n",
    "# print(f'Median is {med}, stddev is {sigma}')"
   ]
  },
  {
   "cell_type": "code",
   "execution_count": null,
   "metadata": {},
   "outputs": [],
   "source": [
    "# plt.imshow(isr_corr_exposure.image.array,vmin=med-dsig*sigma,vmax=med+dsig*sigma, origin='lower')"
   ]
  },
  {
   "cell_type": "code",
   "execution_count": null,
   "metadata": {},
   "outputs": [],
   "source": []
  },
  {
   "cell_type": "code",
   "execution_count": null,
   "metadata": {},
   "outputs": [],
   "source": []
  },
  {
   "cell_type": "code",
   "execution_count": null,
   "metadata": {},
   "outputs": [],
   "source": [
    "# Only here for me to debug, should be up top with other declarations\n",
    "import importlib\n",
    "import utils.findNarrowbandRonchiPeaks\n",
    "importlib.reload(utils.findNarrowbandRonchiPeaks)\n",
    "from utils.findNarrowbandRonchiPeaks import findNarrowbandRonchiPeaks\n",
    "\n",
    "import utils.fitExposure\n",
    "importlib.reload(utils.fitExposure)\n",
    "from utils.fitExposure import fit_2d_PSF\n",
    "\n",
    "import utils.calc_CofM\n",
    "importlib.reload(utils.calc_CofM)\n",
    "from utils.calc_CofM import calc_CofM\n",
    "\n",
    "import utils.calc_encircled_energy\n",
    "importlib.reload(utils.calc_encircled_energy)\n",
    "from utils.calc_encircled_energy import calc_encircled_energy\n",
    "\n",
    "import utils.findBrightestSourceInBox\n",
    "importlib.reload(utils.findBrightestSourceInBox)\n",
    "from utils.findBrightestSourceInBox import findBrightestSourceInBox"
   ]
  },
  {
   "cell_type": "code",
   "execution_count": null,
   "metadata": {},
   "outputs": [],
   "source": [
    "isr_corr_exposure.image.array -= np.median(isr_corr_exposure.image.array)"
   ]
  },
  {
   "cell_type": "code",
   "execution_count": null,
   "metadata": {},
   "outputs": [],
   "source": [
    "# Source detection libraries\n",
    "from lsst.meas.algorithms.detection import SourceDetectionTask\n",
    "import lsst.afw.table as afwTable\n",
    "\n",
    "# create the output table for source detection\n",
    "schema = afwTable.SourceTable.makeMinimalSchema()\n",
    "config = SourceDetectionTask.ConfigClass()\n",
    "config.thresholdValue = 20  # detection threshold after smoothing\n",
    "# config.nSigmaToGrow = 1.2 # Only for doughnuts\n",
    "\n",
    "sourceDetectionTask = SourceDetectionTask(schema=schema, config=config)\n",
    "tab = afwTable.SourceTable.make(schema)\n",
    "result = sourceDetectionTask.run(tab, isr_corr_exposure, sigma=5.1)"
   ]
  },
  {
   "cell_type": "code",
   "execution_count": null,
   "metadata": {},
   "outputs": [],
   "source": [
    "#result.sources"
   ]
  },
  {
   "cell_type": "markdown",
   "metadata": {},
   "source": [
    "## Fit a gaussian"
   ]
  },
  {
   "cell_type": "code",
   "execution_count": null,
   "metadata": {},
   "outputs": [],
   "source": [
    "# Find 0th and +/- 1 order peaks \n",
    "sources = result.sources\n",
    "zeroth_order_estimate = lsst.geom.Point2D(2180, 2818)\n",
    "#zeroth_order_estimate = lsst.geom.Point2D(2250,1500)\n",
    "zeroth_order_star_BBox= lsst.geom.Box2I.makeCenteredBox(zeroth_order_estimate, lsst.geom.Extent2I(400,400)) \n",
    "bbox0 = lsst.geom.Box2I.makeCenteredBox(zeroth_order_estimate, lsst.geom.Extent2I(100,100)) \n",
    "wavelength= 677.0 \n",
    "dispersion =  0 #(1/0.6358) # pixels/nm\n",
    "spectral_position_angle= 0.0107 # radians clockwise from top\n",
    "#center_source, peak1, peak2 = findNarrowbandRonchiPeaks(sources, zeroth_order_star_BBox, wavelength, dispersion, spectral_position_angle)\n",
    "\n",
    "center_source, center_peak = findBrightestSourceInBox(sources, zeroth_order_star_BBox)\n",
    "\n",
    "peak0_subim = isr_corr_exposure.subset(bbox0)\n",
    "model='moffat2d'\n",
    "#model='Gaussian2d'\n",
    "\n",
    "p0, x0 , y0 = fit_2d_PSF(peak0_subim, plot=True, model=model)\n",
    "print('Visit ID = {}'.format(visitID))"
   ]
  },
  {
   "cell_type": "code",
   "execution_count": null,
   "metadata": {},
   "outputs": [],
   "source": [
    "plate_scale = 0.101\n",
    "if model.lower() == 'gaussian2d':\n",
    "    print(f'x_FWHM = {p0.x_fwhm*plate_scale:0.3f} arcsec')\n",
    "    print(f'y_FWHM = {p0.y_fwhm*plate_scale:0.3f} arcsec')\n",
    "if model.lower() == 'moffat2d':\n",
    "    print(f'Moffat FWHM = {p0.fwhm*plate_scale:0.3f} arcsec')\n",
    "    print(f'Moffat FWHM = {p0.fwhm*plate_scale:0.3f} arcsec')"
   ]
  },
  {
   "cell_type": "code",
   "execution_count": null,
   "metadata": {},
   "outputs": [],
   "source": []
  },
  {
   "cell_type": "code",
   "execution_count": null,
   "metadata": {},
   "outputs": [],
   "source": []
  },
  {
   "cell_type": "code",
   "execution_count": null,
   "metadata": {},
   "outputs": [],
   "source": [
    "# peak0_subim = isr_corr_exposure.subset(bbox0)\n",
    "# p0, x0 , y0 = fit2DGaussian(peak0_subim, plot=True)"
   ]
  },
  {
   "cell_type": "code",
   "execution_count": null,
   "metadata": {},
   "outputs": [],
   "source": [
    "\n",
    "# # Fit peaks\n",
    "# # zeroth order\n",
    "# # variables names are weird here because I can't think of a clever way to have -1 and +1 as variable names\n",
    "\n",
    "# #bbox0 = lsst.geom.Box2I.makeCenteredBox(center_source.getFootprint().getCentroid(), lsst.geom.Extent2I(100,100)) \n",
    "\n",
    "# print('visitID is: {}'.format(visitID))\n",
    "# zeroth_order_estimate = lsst.geom.Point2D(1630,1330)\n",
    "# #zeroth_order_estimate = lsst.geom.Point2D(2025,1980)\n",
    "# bbox0 = lsst.geom.Box2I.makeCenteredBox(zeroth_order_estimate, lsst.geom.Extent2I(100,100)) \n",
    "\n",
    "# peak0_subim = isr_corr_exposure.subset(bbox0)\n",
    "# p0, x0 , y0 = fit2DGaussian(peak0_subim, plot=True)\n"
   ]
  },
  {
   "cell_type": "code",
   "execution_count": null,
   "metadata": {},
   "outputs": [],
   "source": []
  },
  {
   "cell_type": "code",
   "execution_count": null,
   "metadata": {},
   "outputs": [],
   "source": [
    "p0_x_CofM, p0_y_CofM = calc_CofM(peak0_subim) # 2167,3372\n",
    "\n",
    "# Calculate EE and CofM\n",
    "p0_EE_rad50_pix, p0_EE_rad67_pix, p0_EE_rad80_pix = calc_encircled_energy(peak0_subim, plot=True) \n",
    "fit_data.append(p0_EE_rad80_pix)"
   ]
  },
  {
   "cell_type": "code",
   "execution_count": null,
   "metadata": {},
   "outputs": [],
   "source": []
  }
 ],
 "metadata": {
  "kernelspec": {
   "display_name": "LSST",
   "language": "python",
   "name": "lsst"
  },
  "language_info": {
   "codemirror_mode": {
    "name": "ipython",
    "version": 3
   },
   "file_extension": ".py",
   "mimetype": "text/x-python",
   "name": "python",
   "nbconvert_exporter": "python",
   "pygments_lexer": "ipython3",
   "version": "3.7.8"
  }
 },
 "nbformat": 4,
 "nbformat_minor": 4
}
