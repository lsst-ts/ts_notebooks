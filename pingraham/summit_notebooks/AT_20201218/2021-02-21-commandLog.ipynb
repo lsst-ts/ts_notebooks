{
 "cells": [
  {
   "cell_type": "code",
   "execution_count": 1,
   "metadata": {},
   "outputs": [],
   "source": [
    "import sys\n",
    "import asyncio\n",
    "import time\n",
    "import os\n",
    "\n",
    "import numpy as np\n",
    "\n",
    "from lsst.ts import salobj\n",
    "\n",
    "from lsst.ts.observatory.control.auxtel.atcs import ATCS\n",
    "from lsst.ts.observatory.control.auxtel.latiss import LATISS"
   ]
  },
  {
   "cell_type": "code",
   "execution_count": 2,
   "metadata": {},
   "outputs": [],
   "source": [
    "import logging\n",
    "stream_handler = logging.StreamHandler(sys.stdout)\n",
    "logger = logging.getLogger()\n",
    "logger.addHandler(stream_handler)\n",
    "logger.level = logging.DEBUG"
   ]
  },
  {
   "cell_type": "code",
   "execution_count": 3,
   "metadata": {},
   "outputs": [
    {
     "name": "stdout",
     "output_type": "stream",
     "text": [
      "file:///home/patrickingraham/repos/ts_ddsconfig/config/ospl-sp.xml\n",
      "summit\n"
     ]
    }
   ],
   "source": [
    "print(os.environ[\"OSPL_URI\"])\n",
    "print(os.environ[\"LSST_DDS_PARTITION_PREFIX\"])"
   ]
  },
  {
   "cell_type": "code",
   "execution_count": 4,
   "metadata": {
    "collapsed": true,
    "jupyter": {
     "outputs_hidden": true
    }
   },
   "outputs": [
    {
     "name": "stdout",
     "output_type": "stream",
     "text": [
      "atmcs: Adding all resources.\n",
      "atptg: Adding all resources.\n",
      "ataos: Adding all resources.\n",
      "atpneumatics: Adding all resources.\n",
      "athexapod: Adding all resources.\n",
      "atdome: Adding all resources.\n",
      "atdometrajectory: Adding all resources.\n",
      "atcamera: Adding all resources.\n",
      "atspectrograph: Adding all resources.\n",
      "atheaderservice: Adding all resources.\n",
      "atarchiver: Adding all resources.\n",
      "Read historical data in 0.10 sec\n",
      "Read 1 history items for RemoteEvent(ATHeaderService, 0, authList)\n",
      "Read 100 history items for RemoteEvent(ATHeaderService, 0, heartbeat)\n",
      "Read 100 history items for RemoteEvent(ATHeaderService, 0, largeFileObjectAvailable)\n",
      "Read 1 history items for RemoteEvent(ATHeaderService, 0, logLevel)\n",
      "Read 100 history items for RemoteEvent(ATHeaderService, 0, logMessage)\n",
      "Read 1 history items for RemoteEvent(ATHeaderService, 0, simulationMode)\n",
      "Read 1 history items for RemoteEvent(ATHeaderService, 0, softwareVersions)\n",
      "Read 15 history items for RemoteEvent(ATHeaderService, 0, summaryState)\n",
      "Read historical data in 0.15 sec\n",
      "Read 1 history items for RemoteEvent(ATArchiver, 0, authList)\n",
      "Read 100 history items for RemoteEvent(ATArchiver, 0, heartbeat)\n",
      "Read 100 history items for RemoteEvent(ATArchiver, 0, imageInOODS)\n",
      "Read 100 history items for RemoteEvent(ATArchiver, 0, imageRetrievalForArchiving)\n",
      "Read 1 history items for RemoteEvent(ATArchiver, 0, logLevel)\n",
      "Read 1 history items for RemoteEvent(ATArchiver, 0, logMessage)\n",
      "Read 1 history items for RemoteEvent(ATArchiver, 0, simulationMode)\n",
      "Read 1 history items for RemoteEvent(ATArchiver, 0, softwareVersions)\n",
      "Read historical data in 0.18 sec\n",
      "Read 9 history items for RemoteEvent(ATAOS, 0, appliedSettingsMatchStart)\n",
      "Read 100 history items for RemoteEvent(ATAOS, 0, atspectrographCorrectionCompleted)\n",
      "Read 100 history items for RemoteEvent(ATAOS, 0, atspectrographCorrectionStarted)\n",
      "Read 1 history items for RemoteEvent(ATAOS, 0, authList)\n",
      "Read 27 history items for RemoteEvent(ATAOS, 0, correctionEnabled)\n",
      "Read 100 history items for RemoteEvent(ATAOS, 0, correctionOffsets)\n",
      "Read 100 history items for RemoteEvent(ATAOS, 0, detailedState)\n",
      "Read 100 history items for RemoteEvent(ATAOS, 0, focusOffsetSummary)\n",
      "Read 100 history items for RemoteEvent(ATAOS, 0, heartbeat)\n",
      "Read 100 history items for RemoteEvent(ATAOS, 0, hexapodCorrectionCompleted)\n",
      "Read 100 history items for RemoteEvent(ATAOS, 0, hexapodCorrectionStarted)\n",
      "Read 1 history items for RemoteEvent(ATAOS, 0, logLevel)\n",
      "Read 100 history items for RemoteEvent(ATAOS, 0, logMessage)\n",
      "Read 100 history items for RemoteEvent(ATAOS, 0, m1CorrectionCompleted)\n",
      "Read 100 history items for RemoteEvent(ATAOS, 0, m1CorrectionStarted)\n",
      "Read 62 history items for RemoteEvent(ATAOS, 0, pointingOffsetSummary)\n",
      "Read 1 history items for RemoteEvent(ATAOS, 0, settingVersions)\n",
      "Read 4 history items for RemoteEvent(ATAOS, 0, settingsApplied)\n",
      "Read 1 history items for RemoteEvent(ATAOS, 0, simulationMode)\n",
      "Read 1 history items for RemoteEvent(ATAOS, 0, softwareVersions)\n",
      "Read 35 history items for RemoteEvent(ATAOS, 0, summaryState)\n",
      "Read historical data in 0.26 sec\n",
      "Read 1 history items for RemoteEvent(ATDomeTrajectory, 0, algorithm)\n",
      "Read 7 history items for RemoteEvent(ATDomeTrajectory, 0, appliedSettingsMatchStart)\n",
      "Read 1 history items for RemoteEvent(ATDomeTrajectory, 0, authList)\n",
      "Read 100 history items for RemoteEvent(ATDomeTrajectory, 0, heartbeat)\n",
      "Read 1 history items for RemoteEvent(ATDomeTrajectory, 0, logLevel)\n",
      "Read 62 history items for RemoteEvent(ATDomeTrajectory, 0, logMessage)\n",
      "Read 1 history items for RemoteEvent(ATDomeTrajectory, 0, settingVersions)\n",
      "Read 1 history items for RemoteEvent(ATDomeTrajectory, 0, settingsApplied)\n",
      "Read 1 history items for RemoteEvent(ATDomeTrajectory, 0, simulationMode)\n",
      "Read 1 history items for RemoteEvent(ATDomeTrajectory, 0, softwareVersions)\n",
      "Read 51 history items for RemoteEvent(ATDomeTrajectory, 0, summaryState)\n",
      "Read historical data in 0.28 sec\n",
      "Read 8 history items for RemoteEvent(ATPneumatics, 0, appliedSettingsMatchStart)\n",
      "Read 22 history items for RemoteEvent(ATPneumatics, 0, cellVentsState)\n",
      "Read 2 history items for RemoteEvent(ATPneumatics, 0, eStop)\n",
      "Read 100 history items for RemoteEvent(ATPneumatics, 0, heartbeat)\n",
      "Read 11 history items for RemoteEvent(ATPneumatics, 0, instrumentState)\n",
      "Read 85 history items for RemoteEvent(ATPneumatics, 0, m1CoverLimitSwitches)\n",
      "Read 39 history items for RemoteEvent(ATPneumatics, 0, m1CoverState)\n",
      "Read 100 history items for RemoteEvent(ATPneumatics, 0, m1SetPressure)\n",
      "Read 32 history items for RemoteEvent(ATPneumatics, 0, m1State)\n",
      "Read 7 history items for RemoteEvent(ATPneumatics, 0, m1VentsLimitSwitches)\n",
      "Read 15 history items for RemoteEvent(ATPneumatics, 0, m1VentsPosition)\n",
      "Read 15 history items for RemoteEvent(ATPneumatics, 0, m2State)\n",
      "Read 13 history items for RemoteEvent(ATPneumatics, 0, mainValveState)\n",
      "Read 8 history items for RemoteEvent(ATPneumatics, 0, settingVersions)\n",
      "Read 30 history items for RemoteEvent(ATPneumatics, 0, summaryState)\n",
      "Read historical data in 0.30 sec\n",
      "Read 7 history items for RemoteEvent(ATHexapod, 0, appliedSettingsMatchStart)\n",
      "Read 1 history items for RemoteEvent(ATHexapod, 0, authList)\n",
      "Read 100 history items for RemoteEvent(ATHexapod, 0, detailedState)\n",
      "Read 100 history items for RemoteEvent(ATHexapod, 0, heartbeat)\n",
      "Read 100 history items for RemoteEvent(ATHexapod, 0, inPosition)\n",
      "Read 1 history items for RemoteEvent(ATHexapod, 0, logLevel)\n",
      "Read 100 history items for RemoteEvent(ATHexapod, 0, logMessage)\n",
      "Read 100 history items for RemoteEvent(ATHexapod, 0, positionUpdate)\n",
      "Read 1 history items for RemoteEvent(ATHexapod, 0, readyForCommand)\n",
      "Read 1 history items for RemoteEvent(ATHexapod, 0, settingVersions)\n",
      "Read 3 history items for RemoteEvent(ATHexapod, 0, settingsApplied)\n",
      "Read 1 history items for RemoteEvent(ATHexapod, 0, settingsAppliedPivot)\n",
      "Read 1 history items for RemoteEvent(ATHexapod, 0, settingsAppliedPositionLimits)\n",
      "Read 3 history items for RemoteEvent(ATHexapod, 0, settingsAppliedTcp)\n",
      "Read 1 history items for RemoteEvent(ATHexapod, 0, settingsAppliedVelocities)\n",
      "Read 1 history items for RemoteEvent(ATHexapod, 0, simulationMode)\n",
      "Read 1 history items for RemoteEvent(ATHexapod, 0, softwareVersions)\n",
      "Read 15 history items for RemoteEvent(ATHexapod, 0, summaryState)\n",
      "Read historical data in 0.33 sec\n",
      "Read 8 history items for RemoteEvent(ATPtg, 0, airmassWarning)\n",
      "Read 1 history items for RemoteEvent(ATPtg, 0, azWrapWarning)\n",
      "Read 9 history items for RemoteEvent(ATPtg, 0, currentDebugLevel)\n",
      "Read 56 history items for RemoteEvent(ATPtg, 0, currentTarget)\n",
      "Read 100 history items for RemoteEvent(ATPtg, 0, detailedState)\n",
      "Read 1 history items for RemoteEvent(ATPtg, 0, elLimitWarning)\n",
      "Read 12 history items for RemoteEvent(ATPtg, 0, errorCode)\n",
      "Read 1 history items for RemoteEvent(ATPtg, 0, focusNameInconsistentWarning)\n",
      "Read 8 history items for RemoteEvent(ATPtg, 0, focusNameSelected)\n",
      "Read 100 history items for RemoteEvent(ATPtg, 0, heartbeat)\n",
      "Read 13 history items for RemoteEvent(ATPtg, 0, iers)\n",
      "Read 3 history items for RemoteEvent(ATPtg, 0, iersOutOfDate)\n",
      "Read 1 history items for RemoteEvent(ATPtg, 0, moonProximityWarning)\n",
      "Read 2 history items for RemoteEvent(ATPtg, 0, mountDataWarning)\n",
      "Read 1 history items for RemoteEvent(ATPtg, 0, objectSetWarning)\n",
      "Read 5 history items for RemoteEvent(ATPtg, 0, pointingModel)\n",
      "Read 1 history items for RemoteEvent(ATPtg, 0, pointing_file)\n",
      "Read 1 history items for RemoteEvent(ATPtg, 0, ptgAzCurrentWrap)\n",
      "Read 1 history items for RemoteEvent(ATPtg, 0, ptgRotCurrentWrap)\n",
      "Read 1 history items for RemoteEvent(ATPtg, 0, rotWrapWarning)\n",
      "Read 28 history items for RemoteEvent(ATPtg, 0, summaryState)\n",
      "Read 1 history items for RemoteEvent(ATPtg, 0, sunProximityWarning)\n",
      "Read 61 history items for RemoteEvent(ATPtg, 0, timesOfLimits)\n",
      "Read 100 history items for RemoteEvent(ATPtg, 0, trackPosting)\n",
      "Read 8 history items for RemoteEvent(ATPtg, 0, wavelength)\n",
      "Read 100 history items for RemoteEvent(ATPtg, 0, weatherDataApplied)\n",
      "Read 100 history items for RemoteEvent(ATPtg, 0, weatherDataInvalid)\n",
      "Read historical data in 0.37 sec\n",
      "Read 6 history items for RemoteEvent(ATSpectrograph, 0, appliedSettingsMatchStart)\n",
      "Read 1 history items for RemoteEvent(ATSpectrograph, 0, authList)\n",
      "Read 100 history items for RemoteEvent(ATSpectrograph, 0, disperserInPosition)\n",
      "Read 1 history items for RemoteEvent(ATSpectrograph, 0, errorCode)\n",
      "Read 100 history items for RemoteEvent(ATSpectrograph, 0, filterInPosition)\n",
      "Read 100 history items for RemoteEvent(ATSpectrograph, 0, fwState)\n",
      "Read 100 history items for RemoteEvent(ATSpectrograph, 0, gwState)\n",
      "Read 100 history items for RemoteEvent(ATSpectrograph, 0, heartbeat)\n",
      "Read 1 history items for RemoteEvent(ATSpectrograph, 0, logLevel)\n",
      "Read 4 history items for RemoteEvent(ATSpectrograph, 0, logMessage)\n",
      "Read 100 history items for RemoteEvent(ATSpectrograph, 0, reportedDisperserPosition)\n",
      "Read 100 history items for RemoteEvent(ATSpectrograph, 0, reportedFilterPosition)\n",
      "Read 1 history items for RemoteEvent(ATSpectrograph, 0, reportedLinearStagePosition)\n",
      "Read 2 history items for RemoteEvent(ATSpectrograph, 0, settingVersions)\n",
      "Read 4 history items for RemoteEvent(ATSpectrograph, 0, settingsApplied)\n",
      "Read 4 history items for RemoteEvent(ATSpectrograph, 0, settingsAppliedValues)\n",
      "Read 1 history items for RemoteEvent(ATSpectrograph, 0, simulationMode)\n",
      "Read 1 history items for RemoteEvent(ATSpectrograph, 0, softwareVersions)\n",
      "Read 22 history items for RemoteEvent(ATSpectrograph, 0, summaryState)\n",
      "Read historical data in 0.41 sec\n",
      "Read 1 history items for RemoteEvent(ATDome, 0, allAxesInPosition)\n",
      "Read 9 history items for RemoteEvent(ATDome, 0, appliedSettingsMatchStart)\n",
      "Read 1 history items for RemoteEvent(ATDome, 0, authList)\n",
      "Read 61 history items for RemoteEvent(ATDome, 0, azimuthCommandedState)\n",
      "Read 1 history items for RemoteEvent(ATDome, 0, azimuthInPosition)\n",
      "Read 100 history items for RemoteEvent(ATDome, 0, azimuthState)\n",
      "Read 100 history items for RemoteEvent(ATDome, 0, doorEncoderExtremes)\n",
      "Read 10 history items for RemoteEvent(ATDome, 0, dropoutDoorCommandedState)\n",
      "Read 1 history items for RemoteEvent(ATDome, 0, dropoutDoorState)\n",
      "Read 1 history items for RemoteEvent(ATDome, 0, emergencyStop)\n",
      "Read 1 history items for RemoteEvent(ATDome, 0, errorCode)\n",
      "Read 100 history items for RemoteEvent(ATDome, 0, heartbeat)\n",
      "Read 47 history items for RemoteEvent(ATDome, 0, lastAzimuthGoTo)\n",
      "Read 1 history items for RemoteEvent(ATDome, 0, logLevel)\n",
      "Read 100 history items for RemoteEvent(ATDome, 0, logMessage)\n",
      "Read 13 history items for RemoteEvent(ATDome, 0, mainDoorCommandedState)\n",
      "Read 11 history items for RemoteEvent(ATDome, 0, mainDoorState)\n",
      "Read 16 history items for RemoteEvent(ATDome, 0, scbLink)\n",
      "Read 1 history items for RemoteEvent(ATDome, 0, settingVersions)\n",
      "Read 3 history items for RemoteEvent(ATDome, 0, settingsApplied)\n",
      "Read 16 history items for RemoteEvent(ATDome, 0, settingsAppliedDomeController)\n",
      "Read 9 history items for RemoteEvent(ATDome, 0, settingsAppliedDomeTcp)\n",
      "Read 6 history items for RemoteEvent(ATDome, 0, shutterInPosition)\n",
      "Read 1 history items for RemoteEvent(ATDome, 0, simulationMode)\n",
      "Read 1 history items for RemoteEvent(ATDome, 0, softwareVersions)\n",
      "Read 31 history items for RemoteEvent(ATDome, 0, summaryState)\n",
      "summaryState DDS read queue is filling: 39 of 100 elements\n",
      "mainAirSourcePressure DDS read queue is filling: 14 of 100 elements\n",
      "positionStatus DDS read queue is filling: 13 of 100 elements\n",
      "m2AirPressure DDS read queue is filling: 14 of 100 elements\n",
      "timeAndDate DDS read queue is filling: 97 of 100 elements\n",
      "Read historical data in 0.49 sec\n",
      "position DDS read queue is filling: 53 of 100 elements\n",
      "m1AirPressure DDS read queue is filling: 14 of 100 elements\n",
      "Read 1 history items for RemoteEvent(ATCamera, 0, appliedSettingsMatchStart)\n",
      "mount_positions DDS read queue is filling: 19 of 100 elements\n",
      "loadCell DDS read queue is filling: 14 of 100 elements\n",
      "Read 1 history items for RemoteEvent(ATCamera, 0, calibrationDetailedState)\n",
      "mountStatus DDS read queue is filling: 99 of 100 elements\n",
      "Read 100 history items for RemoteEvent(ATCamera, 0, ccsCommandState)\n",
      "guidingAndOffsets DDS read queue is filling: 99 of 100 elements\n",
      "Read 100 history items for RemoteEvent(ATCamera, 0, endOfImageTelemetry)\n",
      "currentTargetStatus DDS read queue is filling: 99 of 100 elements\n",
      "Read 100 history items for RemoteEvent(ATCamera, 0, endReadout)\n",
      "Read 100 history items for RemoteEvent(ATCamera, 0, endShutterClose)\n",
      "Read 100 history items for RemoteEvent(ATCamera, 0, endShutterOpen)\n",
      "Read 5 history items for RemoteEvent(ATCamera, 0, focalPlaneHardwareIdSettingsApplied)\n",
      "Read 5 history items for RemoteEvent(ATCamera, 0, focalPlaneSummaryInfo)\n",
      "Read 100 history items for RemoteEvent(ATCamera, 0, heartbeat)\n",
      "Read 100 history items for RemoteEvent(ATCamera, 0, imageReadinessDetailedState)\n",
      "Read 100 history items for RemoteEvent(ATCamera, 0, imageReadoutParameters)\n",
      "Read 2 history items for RemoteEvent(ATCamera, 0, offlineDetailedState)\n",
      "Read 100 history items for RemoteEvent(ATCamera, 0, raftsDetailedState)\n",
      "Read 1 history items for RemoteEvent(ATCamera, 0, settingVersions)\n",
      "Read 100 history items for RemoteEvent(ATCamera, 0, shutterDetailedState)\n",
      "Read 100 history items for RemoteEvent(ATCamera, 0, shutterMotionProfile)\n",
      "Read 1 history items for RemoteEvent(ATCamera, 0, softwareVersions)\n",
      "Read 100 history items for RemoteEvent(ATCamera, 0, startIntegration)\n",
      "Read 100 history items for RemoteEvent(ATCamera, 0, startReadout)\n",
      "Read 4 history items for RemoteEvent(ATCamera, 0, summaryState)\n",
      "Read historical data in 0.63 sec\n",
      "Read 100 history items for RemoteEvent(ATMCS, 0, allAxesInPosition)\n",
      "Read 18 history items for RemoteEvent(ATMCS, 0, appliedSettingsMatchStart)\n",
      "Read 100 history items for RemoteEvent(ATMCS, 0, atMountState)\n",
      "Read 31 history items for RemoteEvent(ATMCS, 0, azimuthBrake1)\n",
      "Read 31 history items for RemoteEvent(ATMCS, 0, azimuthBrake2)\n",
      "Read 32 history items for RemoteEvent(ATMCS, 0, azimuthDrive1Status)\n",
      "Read 32 history items for RemoteEvent(ATMCS, 0, azimuthDrive2Status)\n",
      "Read 100 history items for RemoteEvent(ATMCS, 0, azimuthInPosition)\n",
      "Read 1 history items for RemoteEvent(ATMCS, 0, azimuthLimitSwitchCCW)\n",
      "Read 3 history items for RemoteEvent(ATMCS, 0, azimuthLimitSwitchCW)\n",
      "Read 3 history items for RemoteEvent(ATMCS, 0, azimuthToppleBlockCCW)\n",
      "Read 3 history items for RemoteEvent(ATMCS, 0, azimuthToppleBlockCW)\n",
      "Read 31 history items for RemoteEvent(ATMCS, 0, elevationBrake)\n",
      "Read 31 history items for RemoteEvent(ATMCS, 0, elevationDriveStatus)\n",
      "Read 100 history items for RemoteEvent(ATMCS, 0, elevationInPosition)\n",
      "Read 2 history items for RemoteEvent(ATMCS, 0, elevationLimitSwitchLower)\n",
      "Read 5 history items for RemoteEvent(ATMCS, 0, errorCode)\n",
      "Read 100 history items for RemoteEvent(ATMCS, 0, heartbeat)\n",
      "Read 35 history items for RemoteEvent(ATMCS, 0, m3State)\n",
      "Read 29 history items for RemoteEvent(ATMCS, 0, nasmyth1Brake)\n",
      "Read 29 history items for RemoteEvent(ATMCS, 0, nasmyth1DriveStatus)\n",
      "Read 59 history items for RemoteEvent(ATMCS, 0, nasmyth1RotatorInPosition)\n",
      "Read 32 history items for RemoteEvent(ATMCS, 0, nasmyth2Brake)\n",
      "Read 32 history items for RemoteEvent(ATMCS, 0, nasmyth2DriveStatus)\n",
      "Read 5 history items for RemoteEvent(ATMCS, 0, nasmyth2LimitSwitchCCW)\n",
      "Read 1 history items for RemoteEvent(ATMCS, 0, nasmyth2LimitSwitchCW)\n",
      "Read 100 history items for RemoteEvent(ATMCS, 0, nasmyth2RotatorInPosition)\n",
      "Read 18 history items for RemoteEvent(ATMCS, 0, positionLimits)\n",
      "Read 18 history items for RemoteEvent(ATMCS, 0, settingVersions)\n",
      "Read 69 history items for RemoteEvent(ATMCS, 0, summaryState)\n",
      "Read 100 history items for RemoteEvent(ATMCS, 0, target)\n"
     ]
    },
    {
     "data": {
      "text/plain": [
       "[[None, None, None, None, None, None, None], [None, None, None, None]]"
      ]
     },
     "execution_count": 4,
     "metadata": {},
     "output_type": "execute_result"
    },
    {
     "name": "stdout",
     "output_type": "stream",
     "text": [
      "trajectory DDS read queue is filling: 26 of 100 elements\n",
      "torqueDemand DDS read queue is filling: 26 of 100 elements\n",
      "nasymth_m3_mountMotorEncoders DDS read queue is filling: 26 of 100 elements\n",
      "mount_Nasmyth_Encoders DDS read queue is filling: 26 of 100 elements\n",
      "mount_AzEl_Encoders DDS read queue is filling: 26 of 100 elements\n",
      "mount_AzEl_Encoders python read queue is filling: 25 of 100 elements\n",
      "measuredTorque DDS read queue is filling: 26 of 100 elements\n",
      "measuredMotorVelocity DDS read queue is filling: 26 of 100 elements\n",
      "azEl_mountMotorEncoders DDS read queue is filling: 26 of 100 elements\n",
      "logMessage DDS read queue is filling: 32 of 100 elements\n",
      "logMessage DDS read queue is filling: 11 of 100 elements\n",
      "target DDS read queue is filling: 16 of 100 elements\n",
      "target python read queue is filling: 15 of 100 elements\n",
      "target DDS read queue is filling: 42 of 100 elements\n",
      "target python read queue is filling: 41 of 100 elements\n",
      "target DDS read queue is filling: 59 of 100 elements\n",
      "target python read queue is filling: 58 of 100 elements\n",
      "target DDS read queue is filling: 43 of 100 elements\n",
      "target python read queue is filling: 42 of 100 elements\n",
      "target python read queue is filling: 47 of 100 elements\n",
      "target DDS read queue is filling: 33 of 100 elements\n",
      "target python read queue is filling: 32 of 100 elements\n",
      "target DDS read queue is filling: 21 of 100 elements\n",
      "target python read queue is filling: 20 of 100 elements\n",
      "target python read queue is filling: 61 of 100 elements\n",
      "logMessage DDS read queue is filling: 50 of 100 elements\n"
     ]
    }
   ],
   "source": [
    "#get classes and start them\n",
    "domain = salobj.Domain()\n",
    "await asyncio.sleep(10) # This can be removed in the future...\n",
    "atcs = ATCS(domain)\n",
    "latiss = LATISS(domain)\n",
    "await asyncio.gather(atcs.start_task, latiss.start_task)"
   ]
  },
  {
   "cell_type": "code",
   "execution_count": null,
   "metadata": {},
   "outputs": [],
   "source": [
    "await latiss.enable()"
   ]
  },
  {
   "cell_type": "code",
   "execution_count": 11,
   "metadata": {},
   "outputs": [
    {
     "data": {
      "text/plain": [
       "<ddsutil.ATAOS_ackcmd_38d6204e at 0x7f8f871ce310>"
      ]
     },
     "execution_count": 11,
     "metadata": {},
     "output_type": "execute_result"
    }
   ],
   "source": [
    "await atcs.rem.ataos.cmd_enable.start()"
   ]
  },
  {
   "cell_type": "code",
   "execution_count": 19,
   "metadata": {},
   "outputs": [
    {
     "data": {
      "text/plain": [
       "<ddsutil.ATAOS_ackcmd_38d6204e at 0x7f8f8706c350>"
      ]
     },
     "execution_count": 19,
     "metadata": {},
     "output_type": "execute_result"
    }
   ],
   "source": [
    "await atcs.rem.ataos.cmd_enableCorrection.set_start(hexapod=True, m1=True, atspectrograph=True)"
   ]
  },
  {
   "cell_type": "code",
   "execution_count": 21,
   "metadata": {},
   "outputs": [
    {
     "data": {
      "text/plain": [
       "<ddsutil.ATPneumatics_ackcmd_8e4519ae at 0x7f8f873a4650>"
      ]
     },
     "execution_count": 21,
     "metadata": {},
     "output_type": "execute_result"
    }
   ],
   "source": [
    "await atcs.rem.atpneumatics.cmd_openM1Cover.start()"
   ]
  },
  {
   "cell_type": "code",
   "execution_count": 28,
   "metadata": {},
   "outputs": [
    {
     "name": "stdout",
     "output_type": "stream",
     "text": [
      "Generating group_id\n",
      "OBJECT 0001 - 0001\n"
     ]
    },
    {
     "data": {
      "text/plain": [
       "array([2021012100919])"
      ]
     },
     "execution_count": 28,
     "metadata": {},
     "output_type": "execute_result"
    },
    {
     "name": "stdout",
     "output_type": "stream",
     "text": [
      "logMessage DDS read queue is filling: 11 of 100 elements\n",
      "logMessage DDS read queue is filling: 19 of 100 elements\n",
      "logMessage DDS read queue is filling: 19 of 100 elements\n"
     ]
    }
   ],
   "source": [
    "await latiss.take_object(2)"
   ]
  },
  {
   "cell_type": "code",
   "execution_count": 37,
   "metadata": {},
   "outputs": [
    {
     "name": "stdout",
     "output_type": "stream",
     "text": [
      "Resetting dropped connection: simbad.u-strasbg.fr\n",
      "http://simbad.u-strasbg.fr:80 \"POST /simbad/sim-script HTTP/1.1\" 200 None\n",
      "Slewing to HD 49798: 06 48 04.7000 -44 18 58.432\n",
      "Auto sky angle: 0.0 deg\n",
      "Sending command\n",
      "Stop tracking.\n",
      "target python read queue is filling: 27 of 100 elements\n",
      "Unknown tracking state: 9.\n",
      "Unknown tracking state: 10.\n",
      "In Position: True.\n",
      "Scheduling check coroutines\n",
      "process as completed...\n",
      "atmcs: <State.ENABLED: 2>\n",
      "atptg: <State.ENABLED: 2>\n",
      "ataos: <State.ENABLED: 2>\n",
      "atpneumatics: <State.ENABLED: 2>\n",
      "athexapod: <State.ENABLED: 2>\n",
      "atdome: <State.ENABLED: 2>\n",
      "atdometrajectory: <State.ENABLED: 2>\n",
      "[Telescope] delta Alt = -013.892 deg; delta Az = -042.182 deg; delta N1 = -000.000 deg; delta N2 = -003.346 deg [Dome] delta Az = -134.030 deg\n",
      "[Telescope] delta Alt = -012.654 deg; delta Az = -045.380 deg; delta N1 = +000.000 deg; delta N2 = -001.023 deg [Dome] delta Az = -132.700 deg\n",
      "[Telescope] delta Alt = -009.733 deg; delta Az = -049.380 deg; delta N1 = +000.000 deg; delta N2 = -000.001 deg [Dome] delta Az = -130.700 deg\n",
      "[Telescope] delta Alt = -005.834 deg; delta Az = -053.380 deg; delta N1 = +000.000 deg; delta N2 = +000.006 deg [Dome] delta Az = -125.690 deg\n",
      "[Telescope] delta Alt = -001.124 deg; delta Az = -059.383 deg; delta N1 = -000.000 deg; delta N2 = -000.000 deg [Dome] delta Az = -121.160 deg\n",
      "[Telescope] delta Alt = -000.049 deg; delta Az = -063.385 deg; delta N1 = -000.000 deg; delta N2 = +000.005 deg [Dome] delta Az = -112.650 deg\n",
      "[Telescope] delta Alt = -000.001 deg; delta Az = -069.389 deg; delta N1 = +000.000 deg; delta N2 = -000.001 deg [Dome] delta Az = -106.610 deg\n",
      "[Telescope] delta Alt = -000.000 deg; delta Az = -073.391 deg; delta N1 = +000.000 deg; delta N2 = +000.005 deg [Dome] delta Az = -096.170 deg\n",
      "[Telescope] delta Alt = -000.000 deg; delta Az = -079.393 deg; delta N1 = +000.000 deg; delta N2 = +000.005 deg [Dome] delta Az = -086.470 deg\n",
      "[Telescope] delta Alt = +000.000 deg; delta Az = -085.396 deg; delta N1 = -000.000 deg; delta N2 = +000.005 deg [Dome] delta Az = -076.110 deg\n",
      "[Telescope] delta Alt = -000.000 deg; delta Az = -091.399 deg; delta N1 = +000.000 deg; delta N2 = +000.005 deg [Dome] delta Az = -065.700 deg\n",
      "[Telescope] delta Alt = -000.001 deg; delta Az = -097.402 deg; delta N1 = +000.000 deg; delta N2 = +000.005 deg [Dome] delta Az = -056.000 deg\n",
      "[Telescope] delta Alt = -000.000 deg; delta Az = -103.403 deg; delta N1 = +000.000 deg; delta N2 = +000.005 deg [Dome] delta Az = -045.600 deg\n",
      "[Telescope] delta Alt = -000.000 deg; delta Az = -109.407 deg; delta N1 = +000.000 deg; delta N2 = -000.000 deg [Dome] delta Az = -038.640 deg\n",
      "[Telescope] delta Alt = -000.000 deg; delta Az = -113.409 deg; delta N1 = -000.000 deg; delta N2 = +000.005 deg [Dome] delta Az = -028.230 deg\n",
      "[Telescope] delta Alt = -000.000 deg; delta Az = -119.412 deg; delta N1 = -000.000 deg; delta N2 = +000.004 deg [Dome] delta Az = -018.520 deg\n",
      "[Telescope] delta Alt = -000.000 deg; delta Az = -125.414 deg; delta N1 = +000.000 deg; delta N2 = +000.005 deg [Dome] delta Az = -008.130 deg\n",
      "[Telescope] delta Alt = -000.000 deg; delta Az = -131.418 deg; delta N1 = -000.000 deg; delta N2 = +000.005 deg [Dome] delta Az = +000.810 deg\n",
      "ATDome in position.\n",
      "[Telescope] delta Alt = -000.000 deg; delta Az = -137.420 deg; delta N1 = +000.000 deg; delta N2 = +000.004 deg [Dome] delta Az = +003.050 deg\n",
      "[Telescope] delta Alt = -000.000 deg; delta Az = -143.423 deg; delta N1 = +000.000 deg; delta N2 = +000.005 deg [Dome] delta Az = +003.050 deg\n",
      "[Telescope] delta Alt = -000.000 deg; delta Az = -149.425 deg; delta N1 = -000.000 deg; delta N2 = +000.005 deg [Dome] delta Az = +003.050 deg\n",
      "[Telescope] delta Alt = +000.000 deg; delta Az = -155.429 deg; delta N1 = -000.000 deg; delta N2 = -000.000 deg [Dome] delta Az = +003.050 deg\n",
      "[Telescope] delta Alt = -000.000 deg; delta Az = -159.430 deg; delta N1 = -000.000 deg; delta N2 = +000.005 deg [Dome] delta Az = +003.050 deg\n",
      "[Telescope] delta Alt = -000.000 deg; delta Az = -165.432 deg; delta N1 = -000.000 deg; delta N2 = -000.001 deg [Dome] delta Az = +003.050 deg\n",
      "[Telescope] delta Alt = -000.000 deg; delta Az = -169.435 deg; delta N1 = -000.000 deg; delta N2 = +000.004 deg [Dome] delta Az = +003.050 deg\n",
      "[Telescope] delta Alt = -000.000 deg; delta Az = -175.438 deg; delta N1 = +000.000 deg; delta N2 = +000.005 deg [Dome] delta Az = +003.050 deg\n",
      "[Telescope] delta Alt = -000.000 deg; delta Az = +178.560 deg; delta N1 = -000.000 deg; delta N2 = +000.005 deg [Dome] delta Az = +003.050 deg\n",
      "[Telescope] delta Alt = -000.000 deg; delta Az = +172.556 deg; delta N1 = +000.000 deg; delta N2 = +000.004 deg [Dome] delta Az = +003.050 deg\n",
      "[Telescope] delta Alt = -000.000 deg; delta Az = +166.554 deg; delta N1 = +000.000 deg; delta N2 = +000.005 deg [Dome] delta Az = +003.050 deg\n",
      "[Telescope] delta Alt = -000.001 deg; delta Az = +160.551 deg; delta N1 = -000.000 deg; delta N2 = +000.005 deg [Dome] delta Az = +003.050 deg\n",
      "[Telescope] delta Alt = -000.000 deg; delta Az = +154.548 deg; delta N1 = +000.000 deg; delta N2 = +000.005 deg [Dome] delta Az = +003.050 deg\n",
      "[Telescope] delta Alt = -000.000 deg; delta Az = +148.546 deg; delta N1 = +000.000 deg; delta N2 = +000.005 deg [Dome] delta Az = +003.050 deg\n",
      "[Telescope] delta Alt = -000.000 deg; delta Az = +142.542 deg; delta N1 = -000.000 deg; delta N2 = +000.005 deg [Dome] delta Az = +003.050 deg\n",
      "[Telescope] delta Alt = +000.000 deg; delta Az = +136.540 deg; delta N1 = +000.000 deg; delta N2 = +000.000 deg [Dome] delta Az = +003.050 deg\n",
      "[Telescope] delta Alt = -000.000 deg; delta Az = +132.538 deg; delta N1 = +000.000 deg; delta N2 = +000.005 deg [Dome] delta Az = +003.050 deg\n",
      "[Telescope] delta Alt = -000.000 deg; delta Az = +126.535 deg; delta N1 = +000.000 deg; delta N2 = +000.004 deg [Dome] delta Az = +003.050 deg\n",
      "[Telescope] delta Alt = -000.001 deg; delta Az = +120.533 deg; delta N1 = -000.000 deg; delta N2 = +000.004 deg [Dome] delta Az = +003.050 deg\n",
      "[Telescope] delta Alt = -000.000 deg; delta Az = +114.529 deg; delta N1 = -000.000 deg; delta N2 = +000.005 deg [Dome] delta Az = +003.050 deg\n",
      "[Telescope] delta Alt = -000.000 deg; delta Az = +108.527 deg; delta N1 = +000.000 deg; delta N2 = +000.005 deg [Dome] delta Az = +003.050 deg\n",
      "[Telescope] delta Alt = +000.000 deg; delta Az = +102.523 deg; delta N1 = +000.000 deg; delta N2 = -000.000 deg [Dome] delta Az = +003.050 deg\n",
      "[Telescope] delta Alt = -000.000 deg; delta Az = +098.521 deg; delta N1 = -000.000 deg; delta N2 = +000.005 deg [Dome] delta Az = +003.050 deg\n",
      "[Telescope] delta Alt = -000.000 deg; delta Az = +092.519 deg; delta N1 = +000.000 deg; delta N2 = -000.001 deg [Dome] delta Az = +003.050 deg\n",
      "[Telescope] delta Alt = -000.000 deg; delta Az = +088.518 deg; delta N1 = +000.000 deg; delta N2 = -000.001 deg [Dome] delta Az = +003.050 deg\n",
      "[Telescope] delta Alt = +000.000 deg; delta Az = +084.515 deg; delta N1 = +000.000 deg; delta N2 = +000.005 deg [Dome] delta Az = +003.050 deg\n",
      "[Telescope] delta Alt = -000.000 deg; delta Az = +078.512 deg; delta N1 = -000.000 deg; delta N2 = -000.001 deg [Dome] delta Az = +003.050 deg\n",
      "[Telescope] delta Alt = -000.000 deg; delta Az = +074.510 deg; delta N1 = +000.000 deg; delta N2 = +000.005 deg [Dome] delta Az = +003.050 deg\n",
      "[Telescope] delta Alt = +000.000 deg; delta Az = +068.508 deg; delta N1 = -000.000 deg; delta N2 = +000.005 deg [Dome] delta Az = +003.050 deg\n",
      "[Telescope] delta Alt = -000.000 deg; delta Az = +062.505 deg; delta N1 = +000.000 deg; delta N2 = +000.005 deg [Dome] delta Az = +003.050 deg\n",
      "[Telescope] delta Alt = -000.000 deg; delta Az = +056.501 deg; delta N1 = -000.000 deg; delta N2 = -000.001 deg [Dome] delta Az = +003.050 deg\n",
      "[Telescope] delta Alt = +000.000 deg; delta Az = +052.499 deg; delta N1 = +000.000 deg; delta N2 = +000.005 deg [Dome] delta Az = +003.050 deg\n",
      "[Telescope] delta Alt = -000.000 deg; delta Az = +046.497 deg; delta N1 = -000.000 deg; delta N2 = +000.005 deg [Dome] delta Az = +003.050 deg\n",
      "[Telescope] delta Alt = -000.000 deg; delta Az = +040.493 deg; delta N1 = -000.000 deg; delta N2 = +000.005 deg [Dome] delta Az = +003.050 deg\n",
      "[Telescope] delta Alt = -000.000 deg; delta Az = +034.492 deg; delta N1 = -000.000 deg; delta N2 = -000.000 deg [Dome] delta Az = +003.050 deg\n",
      "[Telescope] delta Alt = -000.000 deg; delta Az = +030.489 deg; delta N1 = -000.000 deg; delta N2 = +000.005 deg [Dome] delta Az = +003.050 deg\n",
      "[Telescope] delta Alt = -000.000 deg; delta Az = +024.491 deg; delta N1 = -000.000 deg; delta N2 = +000.004 deg [Dome] delta Az = +003.050 deg\n",
      "[Telescope] delta Alt = -000.000 deg; delta Az = +018.624 deg; delta N1 = +000.000 deg; delta N2 = +000.005 deg [Dome] delta Az = +003.050 deg\n",
      "[Telescope] delta Alt = -000.000 deg; delta Az = +013.139 deg; delta N1 = -000.000 deg; delta N2 = +000.005 deg [Dome] delta Az = +003.050 deg\n",
      "[Telescope] delta Alt = -000.001 deg; delta Az = +008.349 deg; delta N1 = -000.000 deg; delta N2 = +000.005 deg [Dome] delta Az = +003.050 deg\n",
      "[Telescope] delta Alt = -000.000 deg; delta Az = +004.542 deg; delta N1 = -000.000 deg; delta N2 = +000.005 deg [Dome] delta Az = +003.050 deg\n",
      "[Telescope] delta Alt = -000.000 deg; delta Az = +001.913 deg; delta N1 = -000.000 deg; delta N2 = +000.005 deg [Dome] delta Az = +003.050 deg\n",
      "[Telescope] delta Alt = +000.000 deg; delta Az = +000.482 deg; delta N1 = +000.000 deg; delta N2 = +000.005 deg [Dome] delta Az = +003.050 deg\n",
      "[Telescope] delta Alt = -000.000 deg; delta Az = +000.023 deg; delta N1 = +000.000 deg; delta N2 = -000.001 deg [Dome] delta Az = +003.050 deg\n",
      "Got True\n",
      "Waiting for telescope to settle.\n",
      "[Telescope] delta Alt = -000.000 deg; delta Az = -000.001 deg; delta N1 = -000.000 deg; delta N2 = +000.004 deg [Dome] delta Az = +003.050 deg\n",
      "Telescope in position.\n"
     ]
    }
   ],
   "source": [
    "await atcs.slew_object('HD 49798')"
   ]
  },
  {
   "cell_type": "code",
   "execution_count": 34,
   "metadata": {},
   "outputs": [
    {
     "name": "stdout",
     "output_type": "stream",
     "text": [
      "Stop tracking.\n",
      "Unknown tracking state: 9.\n",
      "Unknown tracking state: 10.\n",
      "In Position: True.\n"
     ]
    }
   ],
   "source": [
    "await atcs.stop_tracking()"
   ]
  },
  {
   "cell_type": "code",
   "execution_count": 35,
   "metadata": {},
   "outputs": [],
   "source": [
    "atcs.check.atdome=True"
   ]
  },
  {
   "cell_type": "code",
   "execution_count": 33,
   "metadata": {},
   "outputs": [
    {
     "data": {
      "text/plain": [
       "True"
      ]
     },
     "execution_count": 33,
     "metadata": {},
     "output_type": "execute_result"
    }
   ],
   "source": [
    "atcs.check.atdometrajectory"
   ]
  },
  {
   "cell_type": "code",
   "execution_count": null,
   "metadata": {},
   "outputs": [],
   "source": [
    "# testing for Steve P\n",
    "nimages=10\n",
    "for i in range(nimages):\n",
    "    print(i)\n",
    "    await latiss.take_bias(1)\n",
    "    await asyncio.sleep(1)"
   ]
  },
  {
   "cell_type": "code",
   "execution_count": null,
   "metadata": {},
   "outputs": [],
   "source": [
    "await latiss.take_engtest(2)"
   ]
  },
  {
   "cell_type": "code",
   "execution_count": null,
   "metadata": {},
   "outputs": [],
   "source": [
    "await salobj.set_summary_state(latiss.rem.atarchiver, salobj.State.ENABLED)"
   ]
  },
  {
   "cell_type": "code",
   "execution_count": null,
   "metadata": {},
   "outputs": [],
   "source": [
    "await latiss.rem.atarchiver.evt_heartbeat.next(flush=True, timeout=5)"
   ]
  },
  {
   "cell_type": "code",
   "execution_count": 12,
   "metadata": {},
   "outputs": [
    {
     "name": "stdout",
     "output_type": "stream",
     "text": [
      "private_revCode: d8296953, private_sndStamp: 1611299782.723921, private_rcvStamp: 1611299782.7243793, private_seqNum: 550, private_identity: ATAOS, private_origin: 165593, private_host: 0, total: -0.17060187458992004, userApplied: 0.002726093865931034, filter: -0.029500000178813934, disperser: 0.0, wavelength: 0.0, priority: 0\n"
     ]
    }
   ],
   "source": [
    "tmp = await atcs.rem.ataos.evt_focusOffsetSummary.aget()\n",
    "print(tmp)"
   ]
  },
  {
   "cell_type": "code",
   "execution_count": null,
   "metadata": {},
   "outputs": [],
   "source": [
    "await salobj.set_summary_state(latiss.rem.atcamera, salobj.State.ENABLED)"
   ]
  },
  {
   "cell_type": "code",
   "execution_count": null,
   "metadata": {},
   "outputs": [],
   "source": [
    "await latiss.enable()"
   ]
  },
  {
   "cell_type": "code",
   "execution_count": null,
   "metadata": {},
   "outputs": [],
   "source": [
    "await latiss.take_bias(99)"
   ]
  },
  {
   "cell_type": "code",
   "execution_count": 8,
   "metadata": {},
   "outputs": [
    {
     "data": {
      "text/plain": [
       "<ddsutil.ATAOS_ackcmd_38d6204e at 0x7f8f8723c510>"
      ]
     },
     "execution_count": 8,
     "metadata": {},
     "output_type": "execute_result"
    },
    {
     "name": "stdout",
     "output_type": "stream",
     "text": [
      "target DDS read queue is filling: 17 of 100 elements\n",
      "target python read queue is filling: 16 of 100 elements\n",
      "target DDS read queue is full (100 elements); data may be lost\n",
      "target python read queue is filling: 99 of 100 elements\n",
      "target DDS read queue is filling: 91 of 100 elements\n",
      "target python read queue is filling: 90 of 100 elements\n",
      "target DDS read queue is filling: 10 of 100 elements\n",
      "target DDS read queue is filling: 80 of 100 elements\n",
      "target python read queue is filling: 79 of 100 elements\n",
      "target DDS read queue is filling: 79 of 100 elements\n",
      "target python read queue is filling: 78 of 100 elements\n",
      "target DDS read queue is filling: 41 of 100 elements\n",
      "target python read queue is filling: 40 of 100 elements\n",
      "logMessage DDS read queue is filling: 11 of 100 elements\n",
      "target DDS read queue is filling: 17 of 100 elements\n",
      "target python read queue is filling: 16 of 100 elements\n",
      "target DDS read queue is filling: 12 of 100 elements\n",
      "target python read queue is filling: 11 of 100 elements\n",
      "logMessage DDS read queue is filling: 64 of 100 elements\n",
      "logMessage DDS read queue is filling: 16 of 100 elements\n",
      "logMessage DDS read queue is filling: 10 of 100 elements\n",
      "target DDS read queue is filling: 58 of 100 elements\n",
      "target python read queue is filling: 57 of 100 elements\n",
      "target python read queue is filling: 30 of 100 elements\n",
      "target python read queue is filling: 11 of 100 elements\n",
      "logMessage DDS read queue is filling: 10 of 100 elements\n"
     ]
    }
   ],
   "source": [
    "await atcs.rem.ataos.cmd_offset.set_start(z=0.049405)"
   ]
  },
  {
   "cell_type": "code",
   "execution_count": 30,
   "metadata": {},
   "outputs": [
    {
     "data": {
      "text/plain": [
       "<ddsutil.ATDome_logevent_heartbeat_9816e66e at 0x7f8f8fb26250>"
      ]
     },
     "execution_count": 30,
     "metadata": {},
     "output_type": "execute_result"
    }
   ],
   "source": [
    "await atcs.rem.atdome.evt_heartbeat.next(flush=True, timeout=5)"
   ]
  },
  {
   "cell_type": "code",
   "execution_count": null,
   "metadata": {},
   "outputs": [],
   "source": [
    "await atcs.rem.atdome.evt_a"
   ]
  }
 ],
 "metadata": {
  "kernelspec": {
   "display_name": "LSST",
   "language": "python",
   "name": "lsst"
  },
  "language_info": {
   "codemirror_mode": {
    "name": "ipython",
    "version": 3
   },
   "file_extension": ".py",
   "mimetype": "text/x-python",
   "name": "python",
   "nbconvert_exporter": "python",
   "pygments_lexer": "ipython3",
   "version": "3.7.8"
  }
 },
 "nbformat": 4,
 "nbformat_minor": 4
}
