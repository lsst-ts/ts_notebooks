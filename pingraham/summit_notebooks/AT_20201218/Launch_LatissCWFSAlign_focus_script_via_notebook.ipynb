{
 "cells": [
  {
   "cell_type": "markdown",
   "metadata": {},
   "source": [
    "## This notebook launches the LatissCWFSAlign script, meant for the scriptQueue, but via a notebook.\n",
    "##### This calculates focus offsets for the hexapod (and also decentering corrections)"
   ]
  },
  {
   "cell_type": "markdown",
   "metadata": {},
   "source": [
    "#### WARNING: This currently requires ts_externalscripts branch **tickets/DM-28423**"
   ]
  },
  {
   "cell_type": "code",
   "execution_count": 1,
   "metadata": {},
   "outputs": [
    {
     "name": "stderr",
     "output_type": "stream",
     "text": [
      "/home/patrickingraham/repos/ts_externalscripts/python/lsst/ts/externalscripts/auxtel/latiss_acquire_and_take_sequence.py:37: UserWarning: Cannot import lsst.observing. Script will not work.\n",
      "  warnings.warn(\"Cannot import lsst.observing. Script will not work.\")\n",
      "/home/patrickingraham/repos/ts_externalscripts/python/lsst/ts/externalscripts/auxtel/latiss_acquire_target.py:41: UserWarning: Cannot import lsst.observing. Script will not work.\n",
      "  warnings.warn(\"Cannot import lsst.observing. Script will not work.\")\n",
      "/home/patrickingraham/repos/ts_externalscripts/python/lsst/ts/externalscripts/auxtel/latiss_take_sequence.py:36: UserWarning: Cannot import lsst.observing. Script will not work.\n",
      "  warnings.warn(\"Cannot import lsst.observing. Script will not work.\")\n"
     ]
    }
   ],
   "source": [
    "import sys\n",
    "import asyncio\n",
    "import time\n",
    "\n",
    "import numpy as np\n",
    "import logging \n",
    "import yaml\n",
    "import matplotlib.pyplot as plt\n",
    "\n",
    "from lsst.ts import salobj\n",
    "from lsst.ts.externalscripts.auxtel.latiss_cwfs_align import LatissCWFSAlign\n",
    "\n",
    "from lsst.ts.idl.enums.Script import ScriptState"
   ]
  },
  {
   "cell_type": "code",
   "execution_count": 4,
   "metadata": {},
   "outputs": [
    {
     "name": "stdout",
     "output_type": "stream",
     "text": [
      "logMessage DDS read queue is filling: 40 of 100 elements\n",
      "logMessage DDS read queue is filling: 59 of 100 elements\n",
      "logMessage DDS read queue is filling: 52 of 100 elements\n",
      "logMessage DDS read queue is filling: 57 of 100 elements\n",
      "logMessage DDS read queue is filling: 10 of 100 elements\n",
      "logMessage DDS read queue is filling: 10 of 100 elements\n",
      "logMessage DDS read queue is filling: 10 of 100 elements\n",
      "logMessage DDS read queue is filling: 14 of 100 elements\n"
     ]
    }
   ],
   "source": [
    "# for autocompleted to work\n",
    "%config IPCompleter.use_jedi = False"
   ]
  },
  {
   "cell_type": "code",
   "execution_count": 2,
   "metadata": {},
   "outputs": [],
   "source": [
    "stream_handler = logging.StreamHandler(sys.stdout)\n",
    "# if you want logging\n",
    "logger = logging.getLogger()\n",
    "logger.addHandler(stream_handler)\n",
    "logger.level = logging.DEBUG\n",
    "\n",
    "# turn off logging for matplotlib\n",
    "mpl_logger = logging.getLogger('matplotlib')\n",
    "mpl_logger.setLevel(logging.WARNING)"
   ]
  },
  {
   "cell_type": "code",
   "execution_count": 3,
   "metadata": {
    "collapsed": true,
    "jupyter": {
     "outputs_hidden": true
    }
   },
   "outputs": [
    {
     "name": "stdout",
     "output_type": "stream",
     "text": [
      "atmcs: Adding all resources.\n",
      "atptg: Adding all resources.\n",
      "ataos: Adding all resources.\n",
      "atpneumatics: Adding all resources.\n",
      "athexapod: Adding all resources.\n",
      "atdome: Adding all resources.\n",
      "atdometrajectory: Adding all resources.\n",
      "atcamera: Adding all resources.\n",
      "atspectrograph: Adding all resources.\n",
      "atheaderservice: Adding all resources.\n",
      "atarchiver: Adding all resources.\n",
      "Read historical data in 0.06 sec\n",
      "Read 1 history items for RemoteEvent(ATDomeTrajectory, 0, algorithm)\n",
      "Read 9 history items for RemoteEvent(ATDomeTrajectory, 0, appliedSettingsMatchStart)\n",
      "Read 1 history items for RemoteEvent(ATDomeTrajectory, 0, authList)\n",
      "Read 100 history items for RemoteEvent(ATDomeTrajectory, 0, heartbeat)\n",
      "Read 1 history items for RemoteEvent(ATDomeTrajectory, 0, logLevel)\n",
      "Read 96 history items for RemoteEvent(ATDomeTrajectory, 0, logMessage)\n",
      "Read 1 history items for RemoteEvent(ATDomeTrajectory, 0, settingVersions)\n",
      "Read 1 history items for RemoteEvent(ATDomeTrajectory, 0, settingsApplied)\n",
      "Read 1 history items for RemoteEvent(ATDomeTrajectory, 0, simulationMode)\n",
      "Read 1 history items for RemoteEvent(ATDomeTrajectory, 0, softwareVersions)\n",
      "Read 69 history items for RemoteEvent(ATDomeTrajectory, 0, summaryState)\n",
      "Read historical data in 0.11 sec\n",
      "Read 11 history items for RemoteEvent(ATAOS, 0, appliedSettingsMatchStart)\n",
      "Read 100 history items for RemoteEvent(ATAOS, 0, atspectrographCorrectionCompleted)\n",
      "Read 100 history items for RemoteEvent(ATAOS, 0, atspectrographCorrectionStarted)\n",
      "Read 1 history items for RemoteEvent(ATAOS, 0, authList)\n",
      "Read 34 history items for RemoteEvent(ATAOS, 0, correctionEnabled)\n",
      "Read 100 history items for RemoteEvent(ATAOS, 0, correctionOffsets)\n",
      "Read 100 history items for RemoteEvent(ATAOS, 0, detailedState)\n",
      "Read 100 history items for RemoteEvent(ATAOS, 0, focusOffsetSummary)\n",
      "Read 100 history items for RemoteEvent(ATAOS, 0, heartbeat)\n",
      "Read 100 history items for RemoteEvent(ATAOS, 0, hexapodCorrectionCompleted)\n",
      "Read 100 history items for RemoteEvent(ATAOS, 0, hexapodCorrectionStarted)\n",
      "Read 1 history items for RemoteEvent(ATAOS, 0, logLevel)\n",
      "Read 100 history items for RemoteEvent(ATAOS, 0, logMessage)\n",
      "Read 100 history items for RemoteEvent(ATAOS, 0, m1CorrectionCompleted)\n",
      "Read 100 history items for RemoteEvent(ATAOS, 0, m1CorrectionStarted)\n",
      "Read 100 history items for RemoteEvent(ATAOS, 0, pointingOffsetSummary)\n",
      "Read 1 history items for RemoteEvent(ATAOS, 0, settingVersions)\n",
      "Read 4 history items for RemoteEvent(ATAOS, 0, settingsApplied)\n",
      "Read 1 history items for RemoteEvent(ATAOS, 0, simulationMode)\n",
      "Read 1 history items for RemoteEvent(ATAOS, 0, softwareVersions)\n",
      "Read 45 history items for RemoteEvent(ATAOS, 0, summaryState)\n",
      "Read historical data in 0.21 sec\n",
      "Read 1 history items for RemoteEvent(ATHeaderService, 0, authList)\n",
      "Read 100 history items for RemoteEvent(ATHeaderService, 0, heartbeat)\n",
      "Read 100 history items for RemoteEvent(ATHeaderService, 0, largeFileObjectAvailable)\n",
      "Read 1 history items for RemoteEvent(ATHeaderService, 0, logLevel)\n",
      "Read 100 history items for RemoteEvent(ATHeaderService, 0, logMessage)\n",
      "Read 1 history items for RemoteEvent(ATHeaderService, 0, simulationMode)\n",
      "Read 1 history items for RemoteEvent(ATHeaderService, 0, softwareVersions)\n",
      "Read 19 history items for RemoteEvent(ATHeaderService, 0, summaryState)\n",
      "Read historical data in 0.24 sec\n",
      "Read 9 history items for RemoteEvent(ATHexapod, 0, appliedSettingsMatchStart)\n",
      "Read 1 history items for RemoteEvent(ATHexapod, 0, authList)\n",
      "Read 100 history items for RemoteEvent(ATHexapod, 0, detailedState)\n",
      "Read 100 history items for RemoteEvent(ATHexapod, 0, heartbeat)\n",
      "Read 100 history items for RemoteEvent(ATHexapod, 0, inPosition)\n",
      "Read 1 history items for RemoteEvent(ATHexapod, 0, logLevel)\n",
      "Read 100 history items for RemoteEvent(ATHexapod, 0, logMessage)\n",
      "Read 100 history items for RemoteEvent(ATHexapod, 0, positionUpdate)\n",
      "Read 1 history items for RemoteEvent(ATHexapod, 0, readyForCommand)\n",
      "Read 1 history items for RemoteEvent(ATHexapod, 0, settingVersions)\n",
      "Read 3 history items for RemoteEvent(ATHexapod, 0, settingsApplied)\n",
      "Read 1 history items for RemoteEvent(ATHexapod, 0, settingsAppliedPivot)\n",
      "Read 1 history items for RemoteEvent(ATHexapod, 0, settingsAppliedPositionLimits)\n",
      "Read 3 history items for RemoteEvent(ATHexapod, 0, settingsAppliedTcp)\n",
      "Read 1 history items for RemoteEvent(ATHexapod, 0, settingsAppliedVelocities)\n",
      "Read 1 history items for RemoteEvent(ATHexapod, 0, simulationMode)\n",
      "Read 1 history items for RemoteEvent(ATHexapod, 0, softwareVersions)\n",
      "Read 23 history items for RemoteEvent(ATHexapod, 0, summaryState)\n",
      "Read historical data in 0.28 sec\n",
      "Read 7 history items for RemoteEvent(ATSpectrograph, 0, appliedSettingsMatchStart)\n",
      "Read 1 history items for RemoteEvent(ATSpectrograph, 0, authList)\n",
      "Read 100 history items for RemoteEvent(ATSpectrograph, 0, disperserInPosition)\n",
      "Read 1 history items for RemoteEvent(ATSpectrograph, 0, errorCode)\n",
      "Read 100 history items for RemoteEvent(ATSpectrograph, 0, filterInPosition)\n",
      "Read 100 history items for RemoteEvent(ATSpectrograph, 0, fwState)\n",
      "Read 100 history items for RemoteEvent(ATSpectrograph, 0, gwState)\n",
      "Read 100 history items for RemoteEvent(ATSpectrograph, 0, heartbeat)\n",
      "Read 1 history items for RemoteEvent(ATSpectrograph, 0, logLevel)\n",
      "Read 6 history items for RemoteEvent(ATSpectrograph, 0, logMessage)\n",
      "Read 100 history items for RemoteEvent(ATSpectrograph, 0, reportedDisperserPosition)\n",
      "Read 100 history items for RemoteEvent(ATSpectrograph, 0, reportedFilterPosition)\n",
      "Read 1 history items for RemoteEvent(ATSpectrograph, 0, reportedLinearStagePosition)\n",
      "Read 2 history items for RemoteEvent(ATSpectrograph, 0, settingVersions)\n",
      "Read 4 history items for RemoteEvent(ATSpectrograph, 0, settingsApplied)\n",
      "Read 4 history items for RemoteEvent(ATSpectrograph, 0, settingsAppliedValues)\n",
      "Read 1 history items for RemoteEvent(ATSpectrograph, 0, simulationMode)\n",
      "Read 1 history items for RemoteEvent(ATSpectrograph, 0, softwareVersions)\n",
      "Read 26 history items for RemoteEvent(ATSpectrograph, 0, summaryState)\n",
      "Read historical data in 0.33 sec\n",
      "Read 1 history items for RemoteEvent(ATDome, 0, allAxesInPosition)\n",
      "Read 11 history items for RemoteEvent(ATDome, 0, appliedSettingsMatchStart)\n",
      "Read 1 history items for RemoteEvent(ATDome, 0, authList)\n",
      "Read 95 history items for RemoteEvent(ATDome, 0, azimuthCommandedState)\n",
      "Read 1 history items for RemoteEvent(ATDome, 0, azimuthInPosition)\n",
      "Read 100 history items for RemoteEvent(ATDome, 0, azimuthState)\n",
      "Read 100 history items for RemoteEvent(ATDome, 0, doorEncoderExtremes)\n",
      "Read 13 history items for RemoteEvent(ATDome, 0, dropoutDoorCommandedState)\n",
      "Read 3 history items for RemoteEvent(ATDome, 0, dropoutDoorState)\n",
      "Read 1 history items for RemoteEvent(ATDome, 0, emergencyStop)\n",
      "Read 1 history items for RemoteEvent(ATDome, 0, errorCode)\n",
      "Read 100 history items for RemoteEvent(ATDome, 0, heartbeat)\n",
      "Read 77 history items for RemoteEvent(ATDome, 0, lastAzimuthGoTo)\n",
      "Read 2 history items for RemoteEvent(ATDome, 0, logLevel)\n",
      "Read 100 history items for RemoteEvent(ATDome, 0, logMessage)\n",
      "Read 16 history items for RemoteEvent(ATDome, 0, mainDoorCommandedState)\n",
      "Read 17 history items for RemoteEvent(ATDome, 0, mainDoorState)\n",
      "Read 20 history items for RemoteEvent(ATDome, 0, scbLink)\n",
      "Read 1 history items for RemoteEvent(ATDome, 0, settingVersions)\n",
      "Read 3 history items for RemoteEvent(ATDome, 0, settingsApplied)\n",
      "Read 20 history items for RemoteEvent(ATDome, 0, settingsAppliedDomeController)\n",
      "Read 11 history items for RemoteEvent(ATDome, 0, settingsAppliedDomeTcp)\n",
      "Read 11 history items for RemoteEvent(ATDome, 0, shutterInPosition)\n",
      "Read 1 history items for RemoteEvent(ATDome, 0, simulationMode)\n",
      "Read 1 history items for RemoteEvent(ATDome, 0, softwareVersions)\n",
      "Read 39 history items for RemoteEvent(ATDome, 0, summaryState)\n",
      "Read historical data in 0.38 sec\n",
      "Read 2 history items for RemoteEvent(ATPneumatics, 0, appliedSettingsMatchStart)\n",
      "Read 4 history items for RemoteEvent(ATPneumatics, 0, cellVentsState)\n",
      "Read 100 history items for RemoteEvent(ATPneumatics, 0, heartbeat)\n",
      "Read 3 history items for RemoteEvent(ATPneumatics, 0, instrumentState)\n",
      "Read 15 history items for RemoteEvent(ATPneumatics, 0, m1CoverLimitSwitches)\n",
      "Read 8 history items for RemoteEvent(ATPneumatics, 0, m1CoverState)\n",
      "Read 100 history items for RemoteEvent(ATPneumatics, 0, m1SetPressure)\n",
      "Read 5 history items for RemoteEvent(ATPneumatics, 0, m1State)\n",
      "Read 1 history items for RemoteEvent(ATPneumatics, 0, m1VentsLimitSwitches)\n",
      "Read 3 history items for RemoteEvent(ATPneumatics, 0, m1VentsPosition)\n",
      "Read 3 history items for RemoteEvent(ATPneumatics, 0, m2State)\n",
      "Read 3 history items for RemoteEvent(ATPneumatics, 0, mainValveState)\n",
      "Read 2 history items for RemoteEvent(ATPneumatics, 0, settingVersions)\n",
      "Read 6 history items for RemoteEvent(ATPneumatics, 0, summaryState)\n",
      "Read historical data in 0.39 sec\n",
      "Read 2 history items for RemoteEvent(ATCamera, 0, appliedSettingsMatchStart)\n",
      "Read 1 history items for RemoteEvent(ATCamera, 0, calibrationDetailedState)\n",
      "Read 100 history items for RemoteEvent(ATCamera, 0, ccsCommandState)\n",
      "Read 100 history items for RemoteEvent(ATCamera, 0, endOfImageTelemetry)\n",
      "Read 100 history items for RemoteEvent(ATCamera, 0, endReadout)\n",
      "Read 100 history items for RemoteEvent(ATCamera, 0, endShutterClose)\n",
      "Read 100 history items for RemoteEvent(ATCamera, 0, endShutterOpen)\n",
      "Read 6 history items for RemoteEvent(ATCamera, 0, focalPlaneHardwareIdSettingsApplied)\n",
      "Read 6 history items for RemoteEvent(ATCamera, 0, focalPlaneSummaryInfo)\n",
      "Read 100 history items for RemoteEvent(ATCamera, 0, heartbeat)\n",
      "Read 100 history items for RemoteEvent(ATCamera, 0, imageReadinessDetailedState)\n",
      "Read 100 history items for RemoteEvent(ATCamera, 0, imageReadoutParameters)\n",
      "Read 2 history items for RemoteEvent(ATCamera, 0, offlineDetailedState)\n",
      "Read 100 history items for RemoteEvent(ATCamera, 0, raftsDetailedState)\n",
      "Read 2 history items for RemoteEvent(ATCamera, 0, settingVersions)\n",
      "Read 100 history items for RemoteEvent(ATCamera, 0, shutterDetailedState)\n",
      "Read 100 history items for RemoteEvent(ATCamera, 0, shutterMotionProfile)\n",
      "Read 2 history items for RemoteEvent(ATCamera, 0, softwareVersions)\n",
      "Read 100 history items for RemoteEvent(ATCamera, 0, startIntegration)\n",
      "Read 100 history items for RemoteEvent(ATCamera, 0, startReadout)\n",
      "Read 8 history items for RemoteEvent(ATCamera, 0, summaryState)\n",
      "Read historical data in 0.46 sec\n",
      "Read 32 history items for RemoteEvent(ATPtg, 0, airmassWarning)\n",
      "Read 1 history items for RemoteEvent(ATPtg, 0, azWrapWarning)\n",
      "Read 14 history items for RemoteEvent(ATPtg, 0, currentDebugLevel)\n",
      "Read 100 history items for RemoteEvent(ATPtg, 0, currentTarget)\n",
      "Read 100 history items for RemoteEvent(ATPtg, 0, detailedState)\n",
      "Read 1 history items for RemoteEvent(ATPtg, 0, elLimitWarning)\n",
      "Read 20 history items for RemoteEvent(ATPtg, 0, errorCode)\n",
      "Read 1 history items for RemoteEvent(ATPtg, 0, focusNameInconsistentWarning)\n",
      "Read 13 history items for RemoteEvent(ATPtg, 0, focusNameSelected)\n",
      "Read 100 history items for RemoteEvent(ATPtg, 0, heartbeat)\n",
      "Read 23 history items for RemoteEvent(ATPtg, 0, iers)\n",
      "Read 3 history items for RemoteEvent(ATPtg, 0, iersOutOfDate)\n",
      "Read 1 history items for RemoteEvent(ATPtg, 0, moonProximityWarning)\n",
      "Read 2 history items for RemoteEvent(ATPtg, 0, mountDataWarning)\n",
      "Read 1 history items for RemoteEvent(ATPtg, 0, objectSetWarning)\n",
      "Read 10 history items for RemoteEvent(ATPtg, 0, pointingModel)\n",
      "Read 1 history items for RemoteEvent(ATPtg, 0, pointing_file)\n",
      "Read 1 history items for RemoteEvent(ATPtg, 0, ptgAzCurrentWrap)\n",
      "Read 1 history items for RemoteEvent(ATPtg, 0, ptgRotCurrentWrap)\n",
      "Read 1 history items for RemoteEvent(ATPtg, 0, rotWrapWarning)\n",
      "Read 48 history items for RemoteEvent(ATPtg, 0, summaryState)\n",
      "Read 5 history items for RemoteEvent(ATPtg, 0, sunProximityWarning)\n",
      "Read 100 history items for RemoteEvent(ATPtg, 0, timesOfLimits)\n",
      "Read 100 history items for RemoteEvent(ATPtg, 0, trackPosting)\n",
      "Read 13 history items for RemoteEvent(ATPtg, 0, wavelength)\n",
      "Read 100 history items for RemoteEvent(ATPtg, 0, weatherDataApplied)\n",
      "Read 100 history items for RemoteEvent(ATPtg, 0, weatherDataInvalid)\n",
      "Read historical data in 0.51 sec\n",
      "Read 52 history items for RemoteEvent(ATMCS, 0, allAxesInPosition)\n",
      "Read 3 history items for RemoteEvent(ATMCS, 0, appliedSettingsMatchStart)\n",
      "Read 45 history items for RemoteEvent(ATMCS, 0, atMountState)\n",
      "Read 6 history items for RemoteEvent(ATMCS, 0, azimuthBrake1)\n",
      "Read 6 history items for RemoteEvent(ATMCS, 0, azimuthBrake2)\n",
      "Read 6 history items for RemoteEvent(ATMCS, 0, azimuthDrive1Status)\n",
      "Read 6 history items for RemoteEvent(ATMCS, 0, azimuthDrive2Status)\n",
      "Read 48 history items for RemoteEvent(ATMCS, 0, azimuthInPosition)\n",
      "Read 1 history items for RemoteEvent(ATMCS, 0, azimuthLimitSwitchCCW)\n",
      "Read 1 history items for RemoteEvent(ATMCS, 0, azimuthLimitSwitchCW)\n",
      "Read 1 history items for RemoteEvent(ATMCS, 0, azimuthToppleBlockCCW)\n",
      "Read 1 history items for RemoteEvent(ATMCS, 0, azimuthToppleBlockCW)\n",
      "Read 7 history items for RemoteEvent(ATMCS, 0, elevationBrake)\n",
      "Read 7 history items for RemoteEvent(ATMCS, 0, elevationDriveStatus)\n",
      "Read 36 history items for RemoteEvent(ATMCS, 0, elevationInPosition)\n",
      "Read 1 history items for RemoteEvent(ATMCS, 0, elevationLimitSwitchLower)\n",
      "Read 1 history items for RemoteEvent(ATMCS, 0, elevationLimitSwitchUpper)\n",
      "Read 1 history items for RemoteEvent(ATMCS, 0, errorCode)\n",
      "Read 100 history items for RemoteEvent(ATMCS, 0, heartbeat)\n",
      "Read 6 history items for RemoteEvent(ATMCS, 0, m3State)\n",
      "Read 5 history items for RemoteEvent(ATMCS, 0, nasmyth1Brake)\n",
      "Read 5 history items for RemoteEvent(ATMCS, 0, nasmyth1DriveStatus)\n",
      "Read 6 history items for RemoteEvent(ATMCS, 0, nasmyth1RotatorInPosition)\n",
      "Read 6 history items for RemoteEvent(ATMCS, 0, nasmyth2Brake)\n",
      "Read 6 history items for RemoteEvent(ATMCS, 0, nasmyth2DriveStatus)\n",
      "Read 1 history items for RemoteEvent(ATMCS, 0, nasmyth2LimitSwitchCCW)\n",
      "Read 1 history items for RemoteEvent(ATMCS, 0, nasmyth2LimitSwitchCW)\n",
      "Read 48 history items for RemoteEvent(ATMCS, 0, nasmyth2RotatorInPosition)\n",
      "Read 3 history items for RemoteEvent(ATMCS, 0, positionLimits)\n",
      "Read 3 history items for RemoteEvent(ATMCS, 0, settingVersions)\n",
      "Read 10 history items for RemoteEvent(ATMCS, 0, summaryState)\n",
      "Read 100 history items for RemoteEvent(ATMCS, 0, target)\n",
      "positionStatus DDS read queue is filling: 15 of 100 elements\n",
      "mainAirSourcePressure DDS read queue is filling: 17 of 100 elements\n",
      "position DDS read queue is filling: 59 of 100 elements\n",
      "Read historical data in 0.55 sec\n",
      "timeAndDate DDS read queue is full (100 elements); data may be lost\n",
      "m2AirPressure DDS read queue is filling: 17 of 100 elements\n",
      "trajectory DDS read queue is filling: 29 of 100 elements\n",
      "Read 1 history items for RemoteEvent(ATArchiver, 0, authList)\n",
      "m1AirPressure DDS read queue is filling: 17 of 100 elements\n",
      "mount_positions DDS read queue is filling: 22 of 100 elements\n",
      "Read 100 history items for RemoteEvent(ATArchiver, 0, heartbeat)\n",
      "torqueDemand DDS read queue is filling: 29 of 100 elements\n",
      "loadCell DDS read queue is filling: 17 of 100 elements\n",
      "mountStatus DDS read queue is full (100 elements); data may be lost\n",
      "Read 100 history items for RemoteEvent(ATArchiver, 0, imageInOODS)\n",
      "nasymth_m3_mountMotorEncoders DDS read queue is filling: 29 of 100 elements\n",
      "guidingAndOffsets DDS read queue is full (100 elements); data may be lost\n",
      "Read 100 history items for RemoteEvent(ATArchiver, 0, imageRetrievalForArchiving)\n",
      "currentTargetStatus DDS read queue is full (100 elements); data may be lost\n",
      "mount_Nasmyth_Encoders DDS read queue is filling: 29 of 100 elements\n",
      "Read 1 history items for RemoteEvent(ATArchiver, 0, logLevel)\n",
      "Read 1 history items for RemoteEvent(ATArchiver, 0, logMessage)\n",
      "mount_AzEl_Encoders DDS read queue is filling: 29 of 100 elements\n",
      "Read 1 history items for RemoteEvent(ATArchiver, 0, simulationMode)\n",
      "Read 1 history items for RemoteEvent(ATArchiver, 0, softwareVersions)\n",
      "measuredTorque DDS read queue is filling: 29 of 100 elements\n",
      "Read 51 history items for RemoteEvent(ATArchiver, 0, summaryState)\n",
      "measuredMotorVelocity DDS read queue is filling: 29 of 100 elements\n",
      "mount_AzEl_Encoders python read queue is filling: 28 of 100 elements\n",
      "azEl_mountMotorEncoders DDS read queue is filling: 29 of 100 elements\n",
      "Read historical data in 0.01 sec\n"
     ]
    }
   ],
   "source": [
    "script = LatissCWFSAlign(index=1, remotes=True)  # this essentially calls the init method\n",
    "# make sure all remotes etc are running\n",
    "await script.start_task"
   ]
  },
  {
   "cell_type": "code",
   "execution_count": null,
   "metadata": {},
   "outputs": [],
   "source": [
    "# set wrap strategy\n",
    "# this is required until the ATPtg is updated to not configure the mount for maximum time on target\n",
    "# script.atcs.rem.atptg.cmd_raDecTarget.set(azWrapStrategy=1)  # 1 does not unwrap, 0 unwraps"
   ]
  },
  {
   "cell_type": "markdown",
   "metadata": {},
   "source": [
    "## Emulate how the scriptQueue launches scripts\n",
    "##### Start here if re-running the script after a correction"
   ]
  },
  {
   "cell_type": "code",
   "execution_count": null,
   "metadata": {},
   "outputs": [],
   "source": [
    "configuration = yaml.safe_dump({\"filter\": 'empty_1', \n",
    "                                \"grating\": 'empty_1',\n",
    "                                \"exposure_time\": 20,\n",
    "                                \"dataPath\": '/project/shared/auxTel/rerun/quickLook'})\n",
    "print(configuration)"
   ]
  },
  {
   "cell_type": "code",
   "execution_count": null,
   "metadata": {},
   "outputs": [],
   "source": [
    "# Set script state to UNCONFIGURED\n",
    "# this is required to run the script a 2nd time but otherwise is a no-op\n",
    "script.set_state(ScriptState.UNCONFIGURED)\n",
    "# Configure the script, which puts the ScriptState to CONFIGURED\n",
    "config_data = script.cmd_configure.DataType()\n",
    "config_data.config = configuration\n",
    "await script.do_configure(config_data)"
   ]
  },
  {
   "cell_type": "code",
   "execution_count": null,
   "metadata": {},
   "outputs": [],
   "source": [
    "# ATAOS must be on and corrections enabled, do as follows if required\n",
    "# await script.atcs.rem.ataos.cmd_enableCorrection.set_start(m1=True, hexapod=True, atspectrograph=True)"
   ]
  },
  {
   "cell_type": "code",
   "execution_count": null,
   "metadata": {},
   "outputs": [],
   "source": [
    "# Target must be on the detector\n",
    "# Can use this command to slew to target if required\n",
    "# await script.attcs.slew_object('96 Cet')"
   ]
  },
  {
   "cell_type": "code",
   "execution_count": null,
   "metadata": {},
   "outputs": [],
   "source": [
    "# Run this script while taking new data\n",
    "script.intra_visit_id = None\n",
    "script.extra_visit_id = None\n",
    "script.short_timeout = 10\n",
    "results = await script.run_cwfs()"
   ]
  },
  {
   "cell_type": "code",
   "execution_count": null,
   "metadata": {},
   "outputs": [],
   "source": [
    "# show donuts and centroids\n",
    "fig1 = plt.figure(1, figsize=(12,8))\n",
    "ax11 = fig1.add_subplot(121)\n",
    "ax11.set_title(f\"intra visitID - {script.intra_visit_id}\")\n",
    "ax11.imshow(script.I1[0].image0)\n",
    "ax11.contour(script.algo.pMask) \n",
    "ax12 = fig1.add_subplot(122)\n",
    "ax12.set_title(f\"extra visitID - {script.extra_visit_id}\")\n",
    "ax12.imshow(script.I2[0].image0)\n",
    "ax12.contour(script.algo.pMask) "
   ]
  },
  {
   "cell_type": "code",
   "execution_count": null,
   "metadata": {},
   "outputs": [],
   "source": [
    "# Apply calculated focus offset\n",
    "calculated_hexapod_focus_offset = results['hex_offset'][2]\n",
    "print(f'Applying focus offset of {calculated_hexapod_focus_offset}')\n",
    "await script.atcs.rem.ataos.cmd_offset.set_start(z=calculated_hexapod_focus_offset)"
   ]
  },
  {
   "cell_type": "markdown",
   "metadata": {},
   "source": [
    "# Stop here unless a re-reduction of the doughnuts is required."
   ]
  },
  {
   "cell_type": "markdown",
   "metadata": {},
   "source": [
    "#### If you want to re-reduce data then use the below cells"
   ]
  },
  {
   "cell_type": "code",
   "execution_count": null,
   "metadata": {},
   "outputs": [],
   "source": [
    "# Show which files/parameters were taken in the sequence above\n",
    "print(f'intra_visit_id is {script.intra_visit_id}')\n",
    "print(f'extra_visit_id is {script.extra_visit_id}')\n",
    "print(f'angle is {script.angle}')"
   ]
  },
  {
   "cell_type": "code",
   "execution_count": null,
   "metadata": {},
   "outputs": [],
   "source": [
    "# If desired then different filenames can be manually input here\n",
    "#script.intra_visit_id=2021011900169 \n",
    "#script.extra_visit_id=2021011900170 \n",
    "#script.angle=-91.56748047249727"
   ]
  },
  {
   "cell_type": "code",
   "execution_count": null,
   "metadata": {},
   "outputs": [],
   "source": [
    "# reruns reduction part only. ALL 3 fields above must be set! \n",
    "rerun_results = await script.run_cwfs()"
   ]
  }
 ],
 "metadata": {
  "kernelspec": {
   "display_name": "LSST",
   "language": "python",
   "name": "lsst"
  },
  "language_info": {
   "codemirror_mode": {
    "name": "ipython",
    "version": 3
   },
   "file_extension": ".py",
   "mimetype": "text/x-python",
   "name": "python",
   "nbconvert_exporter": "python",
   "pygments_lexer": "ipython3",
   "version": "3.7.8"
  }
 },
 "nbformat": 4,
 "nbformat_minor": 4
}
