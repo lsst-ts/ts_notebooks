{
 "cells": [
  {
   "cell_type": "code",
   "execution_count": 1,
   "metadata": {},
   "outputs": [],
   "source": [
    "import sys\n",
    "import asyncio\n",
    "import time\n",
    "import os\n",
    "\n",
    "import numpy as np\n",
    "\n",
    "from lsst.ts import salobj\n",
    "\n",
    "from lsst.ts.observatory.control.auxtel.atcs import ATCS\n",
    "from lsst.ts.observatory.control.auxtel.latiss import LATISS"
   ]
  },
  {
   "cell_type": "code",
   "execution_count": 2,
   "metadata": {},
   "outputs": [],
   "source": [
    "import logging\n",
    "stream_handler = logging.StreamHandler(sys.stdout)\n",
    "logger = logging.getLogger()\n",
    "logger.addHandler(stream_handler)\n",
    "logger.level = logging.DEBUG"
   ]
  },
  {
   "cell_type": "code",
   "execution_count": 3,
   "metadata": {},
   "outputs": [
    {
     "name": "stdout",
     "output_type": "stream",
     "text": [
      "file:///home/patrickingraham/repos/ts_ddsconfig/config/ospl-sp.xml\n",
      "summit\n"
     ]
    }
   ],
   "source": [
    "print(os.environ[\"OSPL_URI\"])\n",
    "print(os.environ[\"LSST_DDS_PARTITION_PREFIX\"])"
   ]
  },
  {
   "cell_type": "code",
   "execution_count": 4,
   "metadata": {
    "collapsed": true,
    "jupyter": {
     "outputs_hidden": true
    }
   },
   "outputs": [
    {
     "name": "stdout",
     "output_type": "stream",
     "text": [
      "atmcs: Adding all resources.\n",
      "atptg: Adding all resources.\n",
      "ataos: Adding all resources.\n",
      "atpneumatics: Adding all resources.\n",
      "athexapod: Adding all resources.\n",
      "atdome: Adding all resources.\n",
      "atdometrajectory: Adding all resources.\n",
      "atcamera: Adding all resources.\n",
      "atspectrograph: Adding all resources.\n",
      "atheaderservice: Adding all resources.\n",
      "atarchiver: Adding all resources.\n",
      "Read historical data in 0.01 sec\n",
      "Read 6 history items for RemoteEvent(ATPneumatics, 0, appliedSettingsMatchStart)\n",
      "Read 12 history items for RemoteEvent(ATPneumatics, 0, cellVentsState)\n",
      "Read 2 history items for RemoteEvent(ATPneumatics, 0, eStop)\n",
      "Read 100 history items for RemoteEvent(ATPneumatics, 0, heartbeat)\n",
      "Read 9 history items for RemoteEvent(ATPneumatics, 0, instrumentState)\n",
      "Read 38 history items for RemoteEvent(ATPneumatics, 0, m1CoverLimitSwitches)\n",
      "Read 21 history items for RemoteEvent(ATPneumatics, 0, m1CoverState)\n",
      "Read 100 history items for RemoteEvent(ATPneumatics, 0, m1SetPressure)\n",
      "Read 26 history items for RemoteEvent(ATPneumatics, 0, m1State)\n",
      "Read 3 history items for RemoteEvent(ATPneumatics, 0, m1VentsLimitSwitches)\n",
      "Read 7 history items for RemoteEvent(ATPneumatics, 0, m1VentsPosition)\n",
      "Read 11 history items for RemoteEvent(ATPneumatics, 0, m2State)\n",
      "Read 11 history items for RemoteEvent(ATPneumatics, 0, mainValveState)\n",
      "Read 6 history items for RemoteEvent(ATPneumatics, 0, settingVersions)\n",
      "Read 22 history items for RemoteEvent(ATPneumatics, 0, summaryState)\n",
      "Read historical data in 0.04 sec\n",
      "mainAirSourcePressure DDS read queue is filling: 15 of 100 elements\n",
      "Read 1 history items for RemoteEvent(ATDomeTrajectory, 0, algorithm)\n",
      "m2AirPressure DDS read queue is filling: 15 of 100 elements\n",
      "Read 5 history items for RemoteEvent(ATDomeTrajectory, 0, appliedSettingsMatchStart)\n",
      "m1AirPressure DDS read queue is filling: 15 of 100 elements\n",
      "Read 1 history items for RemoteEvent(ATDomeTrajectory, 0, authList)\n",
      "loadCell DDS read queue is filling: 15 of 100 elements\n",
      "Read 100 history items for RemoteEvent(ATDomeTrajectory, 0, heartbeat)\n",
      "Read 1 history items for RemoteEvent(ATDomeTrajectory, 0, logLevel)\n",
      "Read 16 history items for RemoteEvent(ATDomeTrajectory, 0, logMessage)\n",
      "Read 1 history items for RemoteEvent(ATDomeTrajectory, 0, settingVersions)\n",
      "Read 1 history items for RemoteEvent(ATDomeTrajectory, 0, settingsApplied)\n",
      "Read 1 history items for RemoteEvent(ATDomeTrajectory, 0, simulationMode)\n",
      "Read 1 history items for RemoteEvent(ATDomeTrajectory, 0, softwareVersions)\n",
      "Read 31 history items for RemoteEvent(ATDomeTrajectory, 0, summaryState)\n",
      "Read historical data in 0.17 sec\n",
      "Read 1 history items for RemoteEvent(ATArchiver, 0, authList)\n",
      "Read 100 history items for RemoteEvent(ATArchiver, 0, heartbeat)\n",
      "Read 100 history items for RemoteEvent(ATArchiver, 0, imageInOODS)\n",
      "Read 100 history items for RemoteEvent(ATArchiver, 0, imageRetrievalForArchiving)\n",
      "Read 1 history items for RemoteEvent(ATArchiver, 0, logLevel)\n",
      "Read 1 history items for RemoteEvent(ATArchiver, 0, logMessage)\n",
      "Read 1 history items for RemoteEvent(ATArchiver, 0, simulationMode)\n",
      "Read 1 history items for RemoteEvent(ATArchiver, 0, softwareVersions)\n",
      "Read 19 history items for RemoteEvent(ATArchiver, 0, summaryState)\n",
      "Read historical data in 0.22 sec\n",
      "Read 1 history items for RemoteEvent(ATDome, 0, allAxesInPosition)\n",
      "Read 4 history items for RemoteEvent(ATDome, 0, appliedSettingsMatchStart)\n",
      "Read 1 history items for RemoteEvent(ATDome, 0, authList)\n",
      "Read 15 history items for RemoteEvent(ATDome, 0, azimuthCommandedState)\n",
      "Read 1 history items for RemoteEvent(ATDome, 0, azimuthInPosition)\n",
      "Read 25 history items for RemoteEvent(ATDome, 0, azimuthState)\n",
      "Read 100 history items for RemoteEvent(ATDome, 0, doorEncoderExtremes)\n",
      "Read 4 history items for RemoteEvent(ATDome, 0, dropoutDoorCommandedState)\n",
      "Read 1 history items for RemoteEvent(ATDome, 0, dropoutDoorState)\n",
      "Read 1 history items for RemoteEvent(ATDome, 0, emergencyStop)\n",
      "Read 100 history items for RemoteEvent(ATDome, 0, heartbeat)\n",
      "Read 10 history items for RemoteEvent(ATDome, 0, lastAzimuthGoTo)\n",
      "Read 1 history items for RemoteEvent(ATDome, 0, logLevel)\n",
      "Read 100 history items for RemoteEvent(ATDome, 0, logMessage)\n",
      "Read 5 history items for RemoteEvent(ATDome, 0, mainDoorCommandedState)\n",
      "Read 3 history items for RemoteEvent(ATDome, 0, mainDoorState)\n",
      "Read 8 history items for RemoteEvent(ATDome, 0, scbLink)\n",
      "Read 1 history items for RemoteEvent(ATDome, 0, settingVersions)\n",
      "Read 1 history items for RemoteEvent(ATDome, 0, settingsApplied)\n",
      "Read 8 history items for RemoteEvent(ATDome, 0, settingsAppliedDomeController)\n",
      "Read 4 history items for RemoteEvent(ATDome, 0, settingsAppliedDomeTcp)\n",
      "Read 4 history items for RemoteEvent(ATDome, 0, shutterInPosition)\n",
      "Read 1 history items for RemoteEvent(ATDome, 0, simulationMode)\n",
      "Read 1 history items for RemoteEvent(ATDome, 0, softwareVersions)\n",
      "Read 15 history items for RemoteEvent(ATDome, 0, summaryState)\n",
      "Read historical data in 0.28 sec\n",
      "Read 6 history items for RemoteEvent(ATAOS, 0, appliedSettingsMatchStart)\n",
      "Read 87 history items for RemoteEvent(ATAOS, 0, atspectrographCorrectionCompleted)\n",
      "Read 87 history items for RemoteEvent(ATAOS, 0, atspectrographCorrectionStarted)\n",
      "Read 1 history items for RemoteEvent(ATAOS, 0, authList)\n",
      "Read 15 history items for RemoteEvent(ATAOS, 0, correctionEnabled)\n",
      "Read 72 history items for RemoteEvent(ATAOS, 0, correctionOffsets)\n",
      "Read 100 history items for RemoteEvent(ATAOS, 0, detailedState)\n",
      "Read 72 history items for RemoteEvent(ATAOS, 0, focusOffsetSummary)\n",
      "Read 100 history items for RemoteEvent(ATAOS, 0, heartbeat)\n",
      "Read 100 history items for RemoteEvent(ATAOS, 0, hexapodCorrectionCompleted)\n",
      "Read 100 history items for RemoteEvent(ATAOS, 0, hexapodCorrectionStarted)\n",
      "Read 1 history items for RemoteEvent(ATAOS, 0, logLevel)\n",
      "Read 100 history items for RemoteEvent(ATAOS, 0, logMessage)\n",
      "Read 100 history items for RemoteEvent(ATAOS, 0, m1CorrectionCompleted)\n",
      "Read 100 history items for RemoteEvent(ATAOS, 0, m1CorrectionStarted)\n",
      "Read 18 history items for RemoteEvent(ATAOS, 0, pointingOffsetSummary)\n",
      "Read 1 history items for RemoteEvent(ATAOS, 0, settingVersions)\n",
      "Read 2 history items for RemoteEvent(ATAOS, 0, settingsApplied)\n",
      "Read 1 history items for RemoteEvent(ATAOS, 0, simulationMode)\n",
      "Read 1 history items for RemoteEvent(ATAOS, 0, softwareVersions)\n",
      "Read 23 history items for RemoteEvent(ATAOS, 0, summaryState)\n",
      "Read historical data in 0.35 sec\n",
      "Read 1 history items for RemoteEvent(ATHeaderService, 0, authList)\n",
      "Read 100 history items for RemoteEvent(ATHeaderService, 0, heartbeat)\n",
      "Read 100 history items for RemoteEvent(ATHeaderService, 0, largeFileObjectAvailable)\n",
      "Read 1 history items for RemoteEvent(ATHeaderService, 0, logLevel)\n",
      "Read 100 history items for RemoteEvent(ATHeaderService, 0, logMessage)\n",
      "Read 1 history items for RemoteEvent(ATHeaderService, 0, simulationMode)\n",
      "Read 1 history items for RemoteEvent(ATHeaderService, 0, softwareVersions)\n",
      "Read 7 history items for RemoteEvent(ATHeaderService, 0, summaryState)\n",
      "Read historical data in 0.37 sec\n",
      "Read 2 history items for RemoteEvent(ATHexapod, 0, appliedSettingsMatchStart)\n",
      "Read 1 history items for RemoteEvent(ATHexapod, 0, authList)\n",
      "Read 100 history items for RemoteEvent(ATHexapod, 0, detailedState)\n",
      "Read 100 history items for RemoteEvent(ATHexapod, 0, heartbeat)\n",
      "Read 100 history items for RemoteEvent(ATHexapod, 0, inPosition)\n",
      "Read 1 history items for RemoteEvent(ATHexapod, 0, logLevel)\n",
      "Read 100 history items for RemoteEvent(ATHexapod, 0, logMessage)\n",
      "Read 100 history items for RemoteEvent(ATHexapod, 0, positionUpdate)\n",
      "Read 1 history items for RemoteEvent(ATHexapod, 0, readyForCommand)\n",
      "Read 1 history items for RemoteEvent(ATHexapod, 0, settingVersions)\n",
      "Read 1 history items for RemoteEvent(ATHexapod, 0, settingsApplied)\n",
      "Read 1 history items for RemoteEvent(ATHexapod, 0, settingsAppliedPivot)\n",
      "Read 1 history items for RemoteEvent(ATHexapod, 0, settingsAppliedPositionLimits)\n",
      "Read 1 history items for RemoteEvent(ATHexapod, 0, settingsAppliedTcp)\n",
      "Read 1 history items for RemoteEvent(ATHexapod, 0, settingsAppliedVelocities)\n",
      "Read 1 history items for RemoteEvent(ATHexapod, 0, simulationMode)\n",
      "Read 1 history items for RemoteEvent(ATHexapod, 0, softwareVersions)\n",
      "Read 7 history items for RemoteEvent(ATHexapod, 0, summaryState)\n",
      "Read historical data in 0.41 sec\n",
      "Read 1 history items for RemoteEvent(ATCamera, 0, appliedSettingsMatchStart)\n",
      "Read 100 history items for RemoteEvent(ATCamera, 0, ccsCommandState)\n",
      "Read 100 history items for RemoteEvent(ATCamera, 0, endOfImageTelemetry)\n",
      "Read 100 history items for RemoteEvent(ATCamera, 0, endReadout)\n",
      "Read 92 history items for RemoteEvent(ATCamera, 0, endShutterClose)\n",
      "Read 92 history items for RemoteEvent(ATCamera, 0, endShutterOpen)\n",
      "Read 3 history items for RemoteEvent(ATCamera, 0, focalPlaneHardwareIdSettingsApplied)\n",
      "Read 3 history items for RemoteEvent(ATCamera, 0, focalPlaneSummaryInfo)\n",
      "Read 100 history items for RemoteEvent(ATCamera, 0, heartbeat)\n",
      "Read 100 history items for RemoteEvent(ATCamera, 0, imageReadinessDetailedState)\n",
      "Read 100 history items for RemoteEvent(ATCamera, 0, imageReadoutParameters)\n",
      "Read 100 history items for RemoteEvent(ATCamera, 0, raftsDetailedState)\n",
      "Read 100 history items for RemoteEvent(ATCamera, 0, shutterDetailedState)\n",
      "Read 92 history items for RemoteEvent(ATCamera, 0, shutterMotionProfile)\n",
      "Read 100 history items for RemoteEvent(ATCamera, 0, startIntegration)\n",
      "Read 100 history items for RemoteEvent(ATCamera, 0, startReadout)\n",
      "Read 2 history items for RemoteEvent(ATCamera, 0, summaryState)\n",
      "Read historical data in 0.49 sec\n",
      "Read 4 history items for RemoteEvent(ATSpectrograph, 0, appliedSettingsMatchStart)\n",
      "Read 1 history items for RemoteEvent(ATSpectrograph, 0, authList)\n",
      "Read 100 history items for RemoteEvent(ATSpectrograph, 0, disperserInPosition)\n",
      "Read 1 history items for RemoteEvent(ATSpectrograph, 0, errorCode)\n",
      "Read 100 history items for RemoteEvent(ATSpectrograph, 0, filterInPosition)\n",
      "Read 49 history items for RemoteEvent(ATSpectrograph, 0, fwState)\n",
      "Read 31 history items for RemoteEvent(ATSpectrograph, 0, gwState)\n",
      "Read 100 history items for RemoteEvent(ATSpectrograph, 0, heartbeat)\n",
      "Read 1 history items for RemoteEvent(ATSpectrograph, 0, logLevel)\n",
      "Read 4 history items for RemoteEvent(ATSpectrograph, 0, logMessage)\n",
      "Read 100 history items for RemoteEvent(ATSpectrograph, 0, reportedDisperserPosition)\n",
      "Read 100 history items for RemoteEvent(ATSpectrograph, 0, reportedFilterPosition)\n",
      "Read 1 history items for RemoteEvent(ATSpectrograph, 0, reportedLinearStagePosition)\n",
      "Read 1 history items for RemoteEvent(ATSpectrograph, 0, settingVersions)\n",
      "Read 3 history items for RemoteEvent(ATSpectrograph, 0, settingsApplied)\n",
      "Read 3 history items for RemoteEvent(ATSpectrograph, 0, settingsAppliedValues)\n",
      "Read 1 history items for RemoteEvent(ATSpectrograph, 0, simulationMode)\n",
      "Read 1 history items for RemoteEvent(ATSpectrograph, 0, softwareVersions)\n",
      "Read 14 history items for RemoteEvent(ATSpectrograph, 0, summaryState)\n",
      "Read historical data in 0.55 sec\n",
      "Read 100 history items for RemoteEvent(ATMCS, 0, allAxesInPosition)\n",
      "Read 15 history items for RemoteEvent(ATMCS, 0, appliedSettingsMatchStart)\n",
      "Read 100 history items for RemoteEvent(ATMCS, 0, atMountState)\n",
      "Read 25 history items for RemoteEvent(ATMCS, 0, azimuthBrake1)\n",
      "Read 25 history items for RemoteEvent(ATMCS, 0, azimuthBrake2)\n",
      "Read 26 history items for RemoteEvent(ATMCS, 0, azimuthDrive1Status)\n",
      "Read 26 history items for RemoteEvent(ATMCS, 0, azimuthDrive2Status)\n",
      "Read 100 history items for RemoteEvent(ATMCS, 0, azimuthInPosition)\n",
      "Read 1 history items for RemoteEvent(ATMCS, 0, azimuthLimitSwitchCCW)\n",
      "Read 3 history items for RemoteEvent(ATMCS, 0, azimuthLimitSwitchCW)\n",
      "Read 3 history items for RemoteEvent(ATMCS, 0, azimuthToppleBlockCCW)\n",
      "Read 3 history items for RemoteEvent(ATMCS, 0, azimuthToppleBlockCW)\n",
      "Read 25 history items for RemoteEvent(ATMCS, 0, elevationBrake)\n",
      "Read 25 history items for RemoteEvent(ATMCS, 0, elevationDriveStatus)\n",
      "Read 100 history items for RemoteEvent(ATMCS, 0, elevationInPosition)\n",
      "Read 2 history items for RemoteEvent(ATMCS, 0, elevationLimitSwitchLower)\n",
      "Read 4 history items for RemoteEvent(ATMCS, 0, errorCode)\n",
      "Read 100 history items for RemoteEvent(ATMCS, 0, heartbeat)\n",
      "Read 29 history items for RemoteEvent(ATMCS, 0, m3State)\n",
      "Read 23 history items for RemoteEvent(ATMCS, 0, nasmyth1Brake)\n",
      "Read 23 history items for RemoteEvent(ATMCS, 0, nasmyth1DriveStatus)\n",
      "Read 53 history items for RemoteEvent(ATMCS, 0, nasmyth1RotatorInPosition)\n",
      "Read 26 history items for RemoteEvent(ATMCS, 0, nasmyth2Brake)\n",
      "Read 26 history items for RemoteEvent(ATMCS, 0, nasmyth2DriveStatus)\n",
      "Read 1 history items for RemoteEvent(ATMCS, 0, nasmyth2LimitSwitchCCW)\n",
      "Read 1 history items for RemoteEvent(ATMCS, 0, nasmyth2LimitSwitchCW)\n",
      "Read 83 history items for RemoteEvent(ATMCS, 0, nasmyth2RotatorInPosition)\n",
      "Read 15 history items for RemoteEvent(ATMCS, 0, positionLimits)\n",
      "Read 15 history items for RemoteEvent(ATMCS, 0, settingVersions)\n",
      "Read 57 history items for RemoteEvent(ATMCS, 0, summaryState)\n",
      "Read 100 history items for RemoteEvent(ATMCS, 0, target)\n",
      "Read historical data in 0.63 sec\n",
      "Read 8 history items for RemoteEvent(ATPtg, 0, airmassWarning)\n",
      "Read 7 history items for RemoteEvent(ATPtg, 0, azWrapWarning)\n",
      "Read 6 history items for RemoteEvent(ATPtg, 0, currentDebugLevel)\n",
      "Read 35 history items for RemoteEvent(ATPtg, 0, currentTarget)\n",
      "Read 70 history items for RemoteEvent(ATPtg, 0, detailedState)\n",
      "Read 1 history items for RemoteEvent(ATPtg, 0, elLimitWarning)\n",
      "Read 6 history items for RemoteEvent(ATPtg, 0, errorCode)\n",
      "Read 1 history items for RemoteEvent(ATPtg, 0, focusNameInconsistentWarning)\n",
      "Read 10 history items for RemoteEvent(ATPtg, 0, focusNameSelected)\n",
      "Read 100 history items for RemoteEvent(ATPtg, 0, heartbeat)\n",
      "Read 10 history items for RemoteEvent(ATPtg, 0, iers)\n",
      "Read 3 history items for RemoteEvent(ATPtg, 0, iersOutOfDate)\n",
      "Read 1 history items for RemoteEvent(ATPtg, 0, moonProximityWarning)\n",
      "Read 2 history items for RemoteEvent(ATPtg, 0, mountDataWarning)\n",
      "Read 10 history items for RemoteEvent(ATPtg, 0, objectSetWarning)\n",
      "Read 5 history items for RemoteEvent(ATPtg, 0, pointingModel)\n",
      "Read 1 history items for RemoteEvent(ATPtg, 0, pointing_file)\n",
      "Read 1 history items for RemoteEvent(ATPtg, 0, ptgAzCurrentWrap)\n",
      "Read 1 history items for RemoteEvent(ATPtg, 0, ptgRotCurrentWrap)\n",
      "Read 1 history items for RemoteEvent(ATPtg, 0, rotWrapWarning)\n",
      "Read 19 history items for RemoteEvent(ATPtg, 0, summaryState)\n",
      "Read 1 history items for RemoteEvent(ATPtg, 0, sunProximityWarning)\n",
      "Read 39 history items for RemoteEvent(ATPtg, 0, timesOfLimits)\n",
      "Read 66 history items for RemoteEvent(ATPtg, 0, trackPosting)\n",
      "Read 5 history items for RemoteEvent(ATPtg, 0, wavelength)\n",
      "Read 100 history items for RemoteEvent(ATPtg, 0, weatherDataApplied)\n",
      "Read 100 history items for RemoteEvent(ATPtg, 0, weatherDataInvalid)\n",
      "position DDS read queue is filling: 54 of 100 elements\n",
      "positionStatus DDS read queue is filling: 13 of 100 elements\n",
      "trajectory DDS read queue is filling: 25 of 100 elements\n",
      "timeAndDate DDS read queue is filling: 99 of 100 elements\n"
     ]
    },
    {
     "data": {
      "text/plain": [
       "[[None, None, None, None, None, None, None], [None, None, None, None]]"
      ]
     },
     "execution_count": 4,
     "metadata": {},
     "output_type": "execute_result"
    },
    {
     "name": "stdout",
     "output_type": "stream",
     "text": [
      "torqueDemand DDS read queue is filling: 25 of 100 elements\n",
      "mount_positions DDS read queue is filling: 20 of 100 elements\n",
      "nasymth_m3_mountMotorEncoders DDS read queue is filling: 25 of 100 elements\n",
      "mountStatus DDS read queue is full (100 elements); data may be lost\n",
      "mount_Nasmyth_Encoders DDS read queue is filling: 25 of 100 elements\n",
      "guidingAndOffsets DDS read queue is full (100 elements); data may be lost\n",
      "currentTargetStatus DDS read queue is full (100 elements); data may be lost\n",
      "mount_AzEl_Encoders DDS read queue is filling: 25 of 100 elements\n",
      "mount_AzEl_Encoders python read queue is filling: 24 of 100 elements\n",
      "measuredTorque DDS read queue is filling: 26 of 100 elements\n",
      "measuredMotorVelocity DDS read queue is filling: 26 of 100 elements\n",
      "azEl_mountMotorEncoders DDS read queue is filling: 26 of 100 elements\n"
     ]
    }
   ],
   "source": [
    "#get classes and start them\n",
    "domain = salobj.Domain()\n",
    "await asyncio.sleep(10) # This can be removed in the future...\n",
    "atcs = ATCS(domain)\n",
    "latiss = LATISS(domain)\n",
    "await asyncio.gather(atcs.start_task, latiss.start_task)"
   ]
  },
  {
   "cell_type": "code",
   "execution_count": 5,
   "metadata": {
    "collapsed": true,
    "jupyter": {
     "outputs_hidden": true
    }
   },
   "outputs": [
    {
     "name": "stdout",
     "output_type": "stream",
     "text": [
      "Starting new HTTP connection (1): simbad.u-strasbg.fr:80\n",
      "http://simbad.u-strasbg.fr:80 \"POST /simbad/sim-script HTTP/1.1\" 200 None\n",
      "Slewing to HIP 21837: 04 41 42.0316 -12 28 32.813\n",
      "Auto sky angle: 0.0 deg\n",
      "Sending command\n",
      "Stop tracking.\n",
      "target python read queue is filling: 54 of 100 elements\n",
      "Unknown tracking state: 9.\n",
      "Unknown tracking state: 10.\n",
      "In Position: True.\n",
      "Scheduling check coroutines\n",
      "process as completed...\n",
      "atmcs: <State.ENABLED: 2>\n",
      "atptg: <State.ENABLED: 2>\n",
      "ataos: <State.ENABLED: 2>\n",
      "atpneumatics: <State.ENABLED: 2>\n",
      "athexapod: <State.ENABLED: 2>\n",
      "atdome: <State.ENABLED: 2>\n",
      "atdometrajectory: <State.ENABLED: 2>\n",
      "[Telescope] delta Alt = +007.869 deg; delta Az = -011.369 deg; delta N1 = -000.000 deg; delta N2 = +000.460 deg [Dome] delta Az = -015.311 deg\n",
      "[Telescope] delta Alt = +005.858 deg; delta Az = -010.223 deg; delta N1 = +000.000 deg; delta N2 = -000.011 deg [Dome] delta Az = -013.201 deg\n",
      "[Telescope] delta Alt = +000.669 deg; delta Az = -005.098 deg; delta N1 = -000.000 deg; delta N2 = -000.012 deg [Dome] delta Az = -008.911 deg\n",
      "[Telescope] delta Alt = +000.001 deg; delta Az = -000.601 deg; delta N1 = +000.000 deg; delta N2 = -000.012 deg [Dome] delta Az = -003.001 deg\n",
      "ATDome in position.\n",
      "[Telescope] delta Alt = +000.001 deg; delta Az = -000.004 deg; delta N1 = +000.000 deg; delta N2 = -000.004 deg [Dome] delta Az = -001.361 deg\n",
      "[Telescope] delta Alt = +000.001 deg; delta Az = -000.004 deg; delta N1 = -000.000 deg; delta N2 = -000.011 deg [Dome] delta Az = -000.251 deg\n",
      "[Telescope] delta Alt = +000.001 deg; delta Az = -000.005 deg; delta N1 = +000.000 deg; delta N2 = -000.011 deg [Dome] delta Az = -000.251 deg\n",
      "[Telescope] delta Alt = +000.001 deg; delta Az = -000.004 deg; delta N1 = +000.000 deg; delta N2 = -000.011 deg [Dome] delta Az = -000.251 deg\n",
      "[Telescope] delta Alt = +000.000 deg; delta Az = -000.003 deg; delta N1 = -000.000 deg; delta N2 = -000.012 deg [Dome] delta Az = -000.251 deg\n",
      "[Telescope] delta Alt = +000.001 deg; delta Az = -000.004 deg; delta N1 = +000.000 deg; delta N2 = -000.011 deg [Dome] delta Az = -000.251 deg\n",
      "[Telescope] delta Alt = +000.000 deg; delta Az = -000.003 deg; delta N1 = +000.000 deg; delta N2 = -000.012 deg [Dome] delta Az = -000.251 deg\n",
      "[Telescope] delta Alt = +000.001 deg; delta Az = -000.004 deg; delta N1 = +000.000 deg; delta N2 = -000.004 deg [Dome] delta Az = -000.251 deg\n",
      "[Telescope] delta Alt = +000.000 deg; delta Az = -000.002 deg; delta N1 = -000.000 deg; delta N2 = -000.005 deg [Dome] delta Az = -000.251 deg\n",
      "[Telescope] delta Alt = +000.000 deg; delta Az = -000.003 deg; delta N1 = -000.000 deg; delta N2 = -000.012 deg [Dome] delta Az = -000.251 deg\n",
      "[Telescope] delta Alt = +000.001 deg; delta Az = -000.005 deg; delta N1 = -000.000 deg; delta N2 = -000.011 deg [Dome] delta Az = -000.251 deg\n",
      "[Telescope] delta Alt = +000.001 deg; delta Az = -000.004 deg; delta N1 = +000.000 deg; delta N2 = -000.011 deg [Dome] delta Az = -000.251 deg\n",
      "[Telescope] delta Alt = +000.001 deg; delta Az = -000.005 deg; delta N1 = -000.000 deg; delta N2 = -000.011 deg [Dome] delta Az = -000.251 deg\n",
      "[Telescope] delta Alt = +000.001 deg; delta Az = -000.003 deg; delta N1 = +000.000 deg; delta N2 = -000.011 deg [Dome] delta Az = -000.251 deg\n",
      "[Telescope] delta Alt = +000.001 deg; delta Az = -000.004 deg; delta N1 = +000.000 deg; delta N2 = -000.004 deg [Dome] delta Az = -000.251 deg\n",
      "[Telescope] delta Alt = +000.001 deg; delta Az = -000.003 deg; delta N1 = +000.000 deg; delta N2 = -000.012 deg [Dome] delta Az = -000.251 deg\n",
      "[Telescope] delta Alt = +000.001 deg; delta Az = -000.004 deg; delta N1 = -000.000 deg; delta N2 = -000.004 deg [Dome] delta Az = -000.251 deg\n",
      "[Telescope] delta Alt = +000.000 deg; delta Az = -000.003 deg; delta N1 = +000.000 deg; delta N2 = -000.012 deg [Dome] delta Az = -000.251 deg\n",
      "[Telescope] delta Alt = +000.001 deg; delta Az = -000.004 deg; delta N1 = +000.000 deg; delta N2 = -000.011 deg [Dome] delta Az = -000.251 deg\n",
      "[Telescope] delta Alt = +000.000 deg; delta Az = -000.003 deg; delta N1 = +000.000 deg; delta N2 = -000.012 deg [Dome] delta Az = -000.251 deg\n",
      "[Telescope] delta Alt = +000.001 deg; delta Az = -000.004 deg; delta N1 = +000.000 deg; delta N2 = -000.011 deg [Dome] delta Az = -000.251 deg\n",
      "[Telescope] delta Alt = +000.001 deg; delta Az = -000.003 deg; delta N1 = +000.000 deg; delta N2 = -000.012 deg [Dome] delta Az = -000.251 deg\n",
      "[Telescope] delta Alt = +000.001 deg; delta Az = -000.004 deg; delta N1 = -000.000 deg; delta N2 = -000.011 deg [Dome] delta Az = -000.251 deg\n",
      "[Telescope] delta Alt = +000.001 deg; delta Az = -000.003 deg; delta N1 = +000.000 deg; delta N2 = -000.012 deg [Dome] delta Az = -000.251 deg\n",
      "[Telescope] delta Alt = +000.001 deg; delta Az = -000.004 deg; delta N1 = -000.000 deg; delta N2 = -000.011 deg [Dome] delta Az = -000.251 deg\n",
      "[Telescope] delta Alt = +000.000 deg; delta Az = -000.003 deg; delta N1 = +000.000 deg; delta N2 = -000.005 deg [Dome] delta Az = -000.251 deg\n",
      "[Telescope] delta Alt = +000.001 deg; delta Az = -000.004 deg; delta N1 = +000.000 deg; delta N2 = -000.004 deg [Dome] delta Az = -000.251 deg\n",
      "[Telescope] delta Alt = +000.000 deg; delta Az = -000.002 deg; delta N1 = +000.000 deg; delta N2 = -000.012 deg [Dome] delta Az = -000.251 deg\n",
      "[Telescope] delta Alt = +000.001 deg; delta Az = -000.003 deg; delta N1 = -000.000 deg; delta N2 = -000.012 deg [Dome] delta Az = -000.251 deg\n",
      "[Telescope] delta Alt = +000.000 deg; delta Az = -000.003 deg; delta N1 = +000.000 deg; delta N2 = -000.012 deg [Dome] delta Az = -000.251 deg\n",
      "[Telescope] delta Alt = +000.002 deg; delta Az = -000.012 deg; delta N1 = -000.000 deg; delta N2 = -000.006 deg [Dome] delta Az = -000.251 deg\n",
      "[Telescope] delta Alt = +000.000 deg; delta Az = -000.002 deg; delta N1 = -000.000 deg; delta N2 = -000.013 deg [Dome] delta Az = -000.251 deg\n",
      "[Telescope] delta Alt = +000.001 deg; delta Az = -000.003 deg; delta N1 = +000.000 deg; delta N2 = -000.012 deg [Dome] delta Az = -000.251 deg\n",
      "[Telescope] delta Alt = +000.000 deg; delta Az = -000.002 deg; delta N1 = -000.000 deg; delta N2 = -000.012 deg [Dome] delta Az = -000.251 deg\n",
      "[Telescope] delta Alt = +000.001 deg; delta Az = -000.003 deg; delta N1 = -000.000 deg; delta N2 = -000.012 deg [Dome] delta Az = -000.251 deg\n",
      "[Telescope] delta Alt = +000.000 deg; delta Az = -000.002 deg; delta N1 = -000.000 deg; delta N2 = -000.012 deg [Dome] delta Az = -000.251 deg\n",
      "[Telescope] delta Alt = +000.001 deg; delta Az = -000.004 deg; delta N1 = +000.000 deg; delta N2 = -000.012 deg [Dome] delta Az = -000.251 deg\n",
      "[Telescope] delta Alt = +000.000 deg; delta Az = -000.002 deg; delta N1 = -000.000 deg; delta N2 = -000.012 deg [Dome] delta Az = -000.251 deg\n",
      "[Telescope] delta Alt = +000.001 deg; delta Az = -000.004 deg; delta N1 = -000.000 deg; delta N2 = -000.004 deg [Dome] delta Az = -000.251 deg\n",
      "[Telescope] delta Alt = +000.000 deg; delta Az = -000.002 deg; delta N1 = +000.000 deg; delta N2 = -000.013 deg [Dome] delta Az = -000.251 deg\n",
      "[Telescope] delta Alt = +000.000 deg; delta Az = -000.003 deg; delta N1 = +000.000 deg; delta N2 = -000.012 deg [Dome] delta Az = -000.251 deg\n",
      "[Telescope] delta Alt = +000.001 deg; delta Az = -000.005 deg; delta N1 = +000.000 deg; delta N2 = -000.011 deg [Dome] delta Az = -000.251 deg\n",
      "[Telescope] delta Alt = +000.001 deg; delta Az = -000.004 deg; delta N1 = -000.000 deg; delta N2 = -000.012 deg [Dome] delta Az = -000.251 deg\n",
      "[Telescope] delta Alt = +000.000 deg; delta Az = -000.002 deg; delta N1 = +000.000 deg; delta N2 = -000.012 deg [Dome] delta Az = -000.251 deg\n",
      "[Telescope] delta Alt = +000.001 deg; delta Az = -000.004 deg; delta N1 = +000.000 deg; delta N2 = -000.012 deg [Dome] delta Az = -000.251 deg\n",
      "[Telescope] delta Alt = +000.000 deg; delta Az = -000.002 deg; delta N1 = +000.000 deg; delta N2 = -000.006 deg [Dome] delta Az = -000.251 deg\n",
      "[Telescope] delta Alt = +000.001 deg; delta Az = -000.003 deg; delta N1 = +000.000 deg; delta N2 = -000.012 deg [Dome] delta Az = -000.251 deg\n",
      "[Telescope] delta Alt = +000.001 deg; delta Az = -000.004 deg; delta N1 = -000.000 deg; delta N2 = -000.011 deg [Dome] delta Az = -000.251 deg\n",
      "[Telescope] delta Alt = +000.000 deg; delta Az = -000.003 deg; delta N1 = +000.000 deg; delta N2 = -000.012 deg [Dome] delta Az = -000.251 deg\n",
      "[Telescope] delta Alt = +000.001 deg; delta Az = -000.005 deg; delta N1 = -000.000 deg; delta N2 = -000.004 deg [Dome] delta Az = -000.251 deg\n",
      "[Telescope] delta Alt = +000.000 deg; delta Az = -000.003 deg; delta N1 = +000.000 deg; delta N2 = -000.012 deg [Dome] delta Az = -000.251 deg\n",
      "[Telescope] delta Alt = +000.001 deg; delta Az = -000.004 deg; delta N1 = +000.000 deg; delta N2 = -000.011 deg [Dome] delta Az = -000.251 deg\n",
      "[Telescope] delta Alt = +000.001 deg; delta Az = -000.003 deg; delta N1 = -000.000 deg; delta N2 = -000.012 deg [Dome] delta Az = -000.251 deg\n",
      "[Telescope] delta Alt = +000.001 deg; delta Az = -000.004 deg; delta N1 = +000.000 deg; delta N2 = -000.012 deg [Dome] delta Az = -000.251 deg\n",
      "[Telescope] delta Alt = +000.000 deg; delta Az = -000.003 deg; delta N1 = -000.000 deg; delta N2 = -000.012 deg [Dome] delta Az = -000.251 deg\n",
      "[Telescope] delta Alt = +000.000 deg; delta Az = -000.002 deg; delta N1 = -000.000 deg; delta N2 = -000.013 deg [Dome] delta Az = -000.251 deg\n",
      "[Telescope] delta Alt = +000.000 deg; delta Az = -000.003 deg; delta N1 = +000.000 deg; delta N2 = -000.005 deg [Dome] delta Az = -000.251 deg\n",
      "[Telescope] delta Alt = +000.001 deg; delta Az = -000.004 deg; delta N1 = +000.000 deg; delta N2 = -000.012 deg [Dome] delta Az = -000.251 deg\n",
      "[Telescope] delta Alt = +000.000 deg; delta Az = -000.003 deg; delta N1 = -000.000 deg; delta N2 = -000.012 deg [Dome] delta Az = -000.251 deg\n",
      "[Telescope] delta Alt = +000.000 deg; delta Az = -000.001 deg; delta N1 = -000.000 deg; delta N2 = -000.014 deg [Dome] delta Az = -000.251 deg\n",
      "[Telescope] delta Alt = +000.001 deg; delta Az = -000.003 deg; delta N1 = -000.000 deg; delta N2 = -000.012 deg [Dome] delta Az = -000.251 deg\n",
      "[Telescope] delta Alt = +000.001 deg; delta Az = -000.004 deg; delta N1 = -000.000 deg; delta N2 = -000.012 deg [Dome] delta Az = -000.251 deg\n",
      "[Telescope] delta Alt = +000.000 deg; delta Az = -000.003 deg; delta N1 = +000.000 deg; delta N2 = -000.012 deg [Dome] delta Az = -000.251 deg\n",
      "[Telescope] delta Alt = +000.002 deg; delta Az = -000.013 deg; delta N1 = +000.000 deg; delta N2 = -000.006 deg [Dome] delta Az = -000.251 deg\n"
     ]
    },
    {
     "ename": "CancelledError",
     "evalue": "",
     "output_type": "error",
     "traceback": [
      "\u001b[0;31m---------------------------------------------------------------------------\u001b[0m",
      "\u001b[0;31mCancelledError\u001b[0m                            Traceback (most recent call last)",
      "\u001b[0;32m<ipython-input-5-f60d686e7942>\u001b[0m in \u001b[0;36masync-def-wrapper\u001b[0;34m()\u001b[0m\n",
      "\u001b[0;32m~/repos/ts_observatory_control/python/lsst/ts/observatory/control/base_tcs.py\u001b[0m in \u001b[0;36mslew_object\u001b[0;34m(self, name, rot, rot_type, slew_timeout)\u001b[0m\n\u001b[1;32m    182\u001b[0m             \u001b[0mrot_type\u001b[0m\u001b[0;34m=\u001b[0m\u001b[0mrot_type\u001b[0m\u001b[0;34m,\u001b[0m\u001b[0;34m\u001b[0m\u001b[0;34m\u001b[0m\u001b[0m\n\u001b[1;32m    183\u001b[0m             \u001b[0mtarget_name\u001b[0m\u001b[0;34m=\u001b[0m\u001b[0mname\u001b[0m\u001b[0;34m,\u001b[0m\u001b[0;34m\u001b[0m\u001b[0;34m\u001b[0m\u001b[0m\n\u001b[0;32m--> 184\u001b[0;31m             \u001b[0mslew_timeout\u001b[0m\u001b[0;34m=\u001b[0m\u001b[0mslew_timeout\u001b[0m\u001b[0;34m,\u001b[0m\u001b[0;34m\u001b[0m\u001b[0;34m\u001b[0m\u001b[0m\n\u001b[0m\u001b[1;32m    185\u001b[0m         )\n\u001b[1;32m    186\u001b[0m \u001b[0;34m\u001b[0m\u001b[0m\n",
      "\u001b[0;32m~/repos/ts_observatory_control/python/lsst/ts/observatory/control/base_tcs.py\u001b[0m in \u001b[0;36mslew_icrs\u001b[0;34m(self, ra, dec, rot, rot_type, target_name, slew_timeout, stop_before_slew, wait_settle)\u001b[0m\n\u001b[1;32m    345\u001b[0m             \u001b[0mslew_timeout\u001b[0m\u001b[0;34m=\u001b[0m\u001b[0mslew_timeout\u001b[0m\u001b[0;34m,\u001b[0m\u001b[0;34m\u001b[0m\u001b[0;34m\u001b[0m\u001b[0m\n\u001b[1;32m    346\u001b[0m             \u001b[0mstop_before_slew\u001b[0m\u001b[0;34m=\u001b[0m\u001b[0mstop_before_slew\u001b[0m\u001b[0;34m,\u001b[0m\u001b[0;34m\u001b[0m\u001b[0;34m\u001b[0m\u001b[0m\n\u001b[0;32m--> 347\u001b[0;31m             \u001b[0mwait_settle\u001b[0m\u001b[0;34m=\u001b[0m\u001b[0mwait_settle\u001b[0m\u001b[0;34m,\u001b[0m\u001b[0;34m\u001b[0m\u001b[0;34m\u001b[0m\u001b[0m\n\u001b[0m\u001b[1;32m    348\u001b[0m         )\n\u001b[1;32m    349\u001b[0m \u001b[0;34m\u001b[0m\u001b[0m\n",
      "\u001b[0;32m~/repos/ts_observatory_control/python/lsst/ts/observatory/control/base_tcs.py\u001b[0m in \u001b[0;36mslew\u001b[0;34m(self, ra, dec, rotPA, target_name, frame, epoch, equinox, parallax, pmRA, pmDec, rv, dRA, dDec, rot_frame, rot_mode, slew_timeout, stop_before_slew, wait_settle)\u001b[0m\n\u001b[1;32m    439\u001b[0m             \u001b[0mslew_timeout\u001b[0m\u001b[0;34m=\u001b[0m\u001b[0mslew_timeout\u001b[0m\u001b[0;34m,\u001b[0m\u001b[0;34m\u001b[0m\u001b[0;34m\u001b[0m\u001b[0m\n\u001b[1;32m    440\u001b[0m             \u001b[0mstop_before_slew\u001b[0m\u001b[0;34m=\u001b[0m\u001b[0mstop_before_slew\u001b[0m\u001b[0;34m,\u001b[0m\u001b[0;34m\u001b[0m\u001b[0;34m\u001b[0m\u001b[0m\n\u001b[0;32m--> 441\u001b[0;31m             \u001b[0mwait_settle\u001b[0m\u001b[0;34m=\u001b[0m\u001b[0mwait_settle\u001b[0m\u001b[0;34m,\u001b[0m\u001b[0;34m\u001b[0m\u001b[0;34m\u001b[0m\u001b[0m\n\u001b[0m\u001b[1;32m    442\u001b[0m         )\n\u001b[1;32m    443\u001b[0m \u001b[0;34m\u001b[0m\u001b[0m\n",
      "\u001b[0;32m~/repos/ts_observatory_control/python/lsst/ts/observatory/control/auxtel/atcs.py\u001b[0m in \u001b[0;36m_slew_to\u001b[0;34m(self, slew_cmd, slew_timeout, stop_before_slew, wait_settle)\u001b[0m\n\u001b[1;32m    885\u001b[0m                 )\n\u001b[1;32m    886\u001b[0m \u001b[0;34m\u001b[0m\u001b[0m\n\u001b[0;32m--> 887\u001b[0;31m         \u001b[0;32mawait\u001b[0m \u001b[0mself\u001b[0m\u001b[0;34m.\u001b[0m\u001b[0mprocess_as_completed\u001b[0m\u001b[0;34m(\u001b[0m\u001b[0mself\u001b[0m\u001b[0;34m.\u001b[0m\u001b[0mscheduled_coro\u001b[0m\u001b[0;34m)\u001b[0m\u001b[0;34m\u001b[0m\u001b[0;34m\u001b[0m\u001b[0m\n\u001b[0m\u001b[1;32m    888\u001b[0m \u001b[0;34m\u001b[0m\u001b[0m\n\u001b[1;32m    889\u001b[0m     \u001b[0;32masync\u001b[0m \u001b[0;32mdef\u001b[0m \u001b[0mget_bore_sight_angle\u001b[0m\u001b[0;34m(\u001b[0m\u001b[0mself\u001b[0m\u001b[0;34m)\u001b[0m\u001b[0;34m:\u001b[0m\u001b[0;34m\u001b[0m\u001b[0;34m\u001b[0m\u001b[0m\n",
      "\u001b[0;32m~/repos/ts_observatory_control/python/lsst/ts/observatory/control/remote_group.py\u001b[0m in \u001b[0;36mprocess_as_completed\u001b[0;34m(self, tasks)\u001b[0m\n\u001b[1;32m    849\u001b[0m             \u001b[0;32mexcept\u001b[0m \u001b[0mException\u001b[0m \u001b[0;32mas\u001b[0m \u001b[0me\u001b[0m\u001b[0;34m:\u001b[0m\u001b[0;34m\u001b[0m\u001b[0;34m\u001b[0m\u001b[0m\n\u001b[1;32m    850\u001b[0m                 \u001b[0;32mawait\u001b[0m \u001b[0mself\u001b[0m\u001b[0;34m.\u001b[0m\u001b[0mcancel_not_done\u001b[0m\u001b[0;34m(\u001b[0m\u001b[0mtasks\u001b[0m\u001b[0;34m)\u001b[0m\u001b[0;34m\u001b[0m\u001b[0;34m\u001b[0m\u001b[0m\n\u001b[0;32m--> 851\u001b[0;31m                 \u001b[0;32mraise\u001b[0m \u001b[0me\u001b[0m\u001b[0;34m\u001b[0m\u001b[0;34m\u001b[0m\u001b[0m\n\u001b[0m\u001b[1;32m    852\u001b[0m             \u001b[0;32melse\u001b[0m\u001b[0;34m:\u001b[0m\u001b[0;34m\u001b[0m\u001b[0;34m\u001b[0m\u001b[0m\n\u001b[1;32m    853\u001b[0m                 \u001b[0;32mawait\u001b[0m \u001b[0mself\u001b[0m\u001b[0;34m.\u001b[0m\u001b[0mcancel_not_done\u001b[0m\u001b[0;34m(\u001b[0m\u001b[0mtasks\u001b[0m\u001b[0;34m)\u001b[0m\u001b[0;34m\u001b[0m\u001b[0;34m\u001b[0m\u001b[0m\n",
      "\u001b[0;32m~/repos/ts_observatory_control/python/lsst/ts/observatory/control/remote_group.py\u001b[0m in \u001b[0;36mprocess_as_completed\u001b[0;34m(self, tasks)\u001b[0m\n\u001b[1;32m    846\u001b[0m         \u001b[0;32mfor\u001b[0m \u001b[0mres\u001b[0m \u001b[0;32min\u001b[0m \u001b[0masyncio\u001b[0m\u001b[0;34m.\u001b[0m\u001b[0mas_completed\u001b[0m\u001b[0;34m(\u001b[0m\u001b[0mtasks\u001b[0m\u001b[0;34m)\u001b[0m\u001b[0;34m:\u001b[0m\u001b[0;34m\u001b[0m\u001b[0;34m\u001b[0m\u001b[0m\n\u001b[1;32m    847\u001b[0m             \u001b[0;32mtry\u001b[0m\u001b[0;34m:\u001b[0m\u001b[0;34m\u001b[0m\u001b[0;34m\u001b[0m\u001b[0m\n\u001b[0;32m--> 848\u001b[0;31m                 \u001b[0mret_val\u001b[0m \u001b[0;34m=\u001b[0m \u001b[0;32mawait\u001b[0m \u001b[0mres\u001b[0m\u001b[0;34m\u001b[0m\u001b[0;34m\u001b[0m\u001b[0m\n\u001b[0m\u001b[1;32m    849\u001b[0m             \u001b[0;32mexcept\u001b[0m \u001b[0mException\u001b[0m \u001b[0;32mas\u001b[0m \u001b[0me\u001b[0m\u001b[0;34m:\u001b[0m\u001b[0;34m\u001b[0m\u001b[0;34m\u001b[0m\u001b[0m\n\u001b[1;32m    850\u001b[0m                 \u001b[0;32mawait\u001b[0m \u001b[0mself\u001b[0m\u001b[0;34m.\u001b[0m\u001b[0mcancel_not_done\u001b[0m\u001b[0;34m(\u001b[0m\u001b[0mtasks\u001b[0m\u001b[0;34m)\u001b[0m\u001b[0;34m\u001b[0m\u001b[0;34m\u001b[0m\u001b[0m\n",
      "\u001b[0;32m/opt/lsst/software/stack/conda/miniconda3-py37_4.8.2/envs/lsst-scipipe-cb4e2dc/lib/python3.7/asyncio/tasks.py\u001b[0m in \u001b[0;36m_wait_for_one\u001b[0;34m()\u001b[0m\n\u001b[1;32m    554\u001b[0m \u001b[0;34m\u001b[0m\u001b[0m\n\u001b[1;32m    555\u001b[0m     \u001b[0;32masync\u001b[0m \u001b[0;32mdef\u001b[0m \u001b[0m_wait_for_one\u001b[0m\u001b[0;34m(\u001b[0m\u001b[0;34m)\u001b[0m\u001b[0;34m:\u001b[0m\u001b[0;34m\u001b[0m\u001b[0;34m\u001b[0m\u001b[0m\n\u001b[0;32m--> 556\u001b[0;31m         \u001b[0mf\u001b[0m \u001b[0;34m=\u001b[0m \u001b[0;32mawait\u001b[0m \u001b[0mdone\u001b[0m\u001b[0;34m.\u001b[0m\u001b[0mget\u001b[0m\u001b[0;34m(\u001b[0m\u001b[0;34m)\u001b[0m\u001b[0;34m\u001b[0m\u001b[0;34m\u001b[0m\u001b[0m\n\u001b[0m\u001b[1;32m    557\u001b[0m         \u001b[0;32mif\u001b[0m \u001b[0mf\u001b[0m \u001b[0;32mis\u001b[0m \u001b[0;32mNone\u001b[0m\u001b[0;34m:\u001b[0m\u001b[0;34m\u001b[0m\u001b[0;34m\u001b[0m\u001b[0m\n\u001b[1;32m    558\u001b[0m             \u001b[0;31m# Dummy value from _on_timeout().\u001b[0m\u001b[0;34m\u001b[0m\u001b[0;34m\u001b[0m\u001b[0;34m\u001b[0m\u001b[0m\n",
      "\u001b[0;32m/opt/lsst/software/stack/conda/miniconda3-py37_4.8.2/envs/lsst-scipipe-cb4e2dc/lib/python3.7/asyncio/queues.py\u001b[0m in \u001b[0;36mget\u001b[0;34m(self)\u001b[0m\n\u001b[1;32m    157\u001b[0m             \u001b[0mself\u001b[0m\u001b[0;34m.\u001b[0m\u001b[0m_getters\u001b[0m\u001b[0;34m.\u001b[0m\u001b[0mappend\u001b[0m\u001b[0;34m(\u001b[0m\u001b[0mgetter\u001b[0m\u001b[0;34m)\u001b[0m\u001b[0;34m\u001b[0m\u001b[0;34m\u001b[0m\u001b[0m\n\u001b[1;32m    158\u001b[0m             \u001b[0;32mtry\u001b[0m\u001b[0;34m:\u001b[0m\u001b[0;34m\u001b[0m\u001b[0;34m\u001b[0m\u001b[0m\n\u001b[0;32m--> 159\u001b[0;31m                 \u001b[0;32mawait\u001b[0m \u001b[0mgetter\u001b[0m\u001b[0;34m\u001b[0m\u001b[0;34m\u001b[0m\u001b[0m\n\u001b[0m\u001b[1;32m    160\u001b[0m             \u001b[0;32mexcept\u001b[0m\u001b[0;34m:\u001b[0m\u001b[0;34m\u001b[0m\u001b[0;34m\u001b[0m\u001b[0m\n\u001b[1;32m    161\u001b[0m                 \u001b[0mgetter\u001b[0m\u001b[0;34m.\u001b[0m\u001b[0mcancel\u001b[0m\u001b[0;34m(\u001b[0m\u001b[0;34m)\u001b[0m  \u001b[0;31m# Just in case getter is not done yet.\u001b[0m\u001b[0;34m\u001b[0m\u001b[0;34m\u001b[0m\u001b[0m\n",
      "\u001b[0;31mCancelledError\u001b[0m: "
     ]
    }
   ],
   "source": [
    "# slew to target to start focusing - MOUNT DID NOT send inPosition event\n",
    "await atcs.slew_object('HIP 21837')"
   ]
  },
  {
   "cell_type": "code",
   "execution_count": 9,
   "metadata": {},
   "outputs": [
    {
     "data": {
      "text/plain": [
       "<ddsutil.ATAOS_ackcmd_38d6204e at 0x7ff4458afa50>"
      ]
     },
     "execution_count": 9,
     "metadata": {},
     "output_type": "execute_result"
    }
   ],
   "source": [
    "# turn off ataos correction so we control \n",
    "await atcs.rem.ataos.cmd_disableCorrection.set_start(hexapod=True)"
   ]
  },
  {
   "cell_type": "code",
   "execution_count": 10,
   "metadata": {},
   "outputs": [
    {
     "name": "stdout",
     "output_type": "stream",
     "text": [
      "Resetting dropped connection: simbad.u-strasbg.fr\n",
      "http://simbad.u-strasbg.fr:80 \"POST /simbad/sim-script HTTP/1.1\" 200 None\n",
      "Slewing to HIP 27204: 05 45 59.8953 -32 18 23.164\n",
      "Auto sky angle: 0.0 deg\n",
      "Sending command\n",
      "Stop tracking.\n",
      "target python read queue is filling: 28 of 100 elements\n",
      "Unknown tracking state: 9.\n",
      "Unknown tracking state: 10.\n",
      "Scheduling check coroutines\n",
      "process as completed...\n",
      "atmcs: <State.ENABLED: 2>\n",
      "atptg: <State.ENABLED: 2>\n",
      "ataos: <State.ENABLED: 2>\n",
      "atpneumatics: <State.ENABLED: 2>\n",
      "athexapod: <State.ENABLED: 2>\n",
      "atdome: <State.ENABLED: 2>\n",
      "atdometrajectory: <State.ENABLED: 2>\n",
      "[Telescope] delta Alt = -001.746 deg; delta Az = +075.166 deg; delta N1 = -000.000 deg; delta N2 = -063.080 deg [Dome] delta Az = +070.311 deg\n",
      "[Telescope] delta Alt = -000.482 deg; delta Az = +072.945 deg; delta N1 = -000.000 deg; delta N2 = -057.537 deg [Dome] delta Az = +068.131 deg\n",
      "[Telescope] delta Alt = +000.001 deg; delta Az = +066.949 deg; delta N1 = -000.000 deg; delta N2 = -053.545 deg [Dome] delta Az = +065.831 deg\n",
      "[Telescope] delta Alt = +000.004 deg; delta Az = +064.949 deg; delta N1 = +000.000 deg; delta N2 = -049.561 deg [Dome] delta Az = +062.361 deg\n",
      "[Telescope] delta Alt = +000.001 deg; delta Az = +058.950 deg; delta N1 = -000.000 deg; delta N2 = -043.571 deg [Dome] delta Az = +055.471 deg\n",
      "[Telescope] delta Alt = +000.001 deg; delta Az = +052.948 deg; delta N1 = -000.000 deg; delta N2 = -037.587 deg [Dome] delta Az = +046.481 deg\n",
      "[Telescope] delta Alt = +000.001 deg; delta Az = +046.947 deg; delta N1 = -000.000 deg; delta N2 = -031.603 deg [Dome] delta Az = +036.841 deg\n",
      "[Telescope] delta Alt = +000.001 deg; delta Az = +040.948 deg; delta N1 = -000.000 deg; delta N2 = -025.616 deg [Dome] delta Az = +026.441 deg\n",
      "[Telescope] delta Alt = +000.001 deg; delta Az = +034.946 deg; delta N1 = -000.000 deg; delta N2 = -021.671 deg [Dome] delta Az = +019.511 deg\n",
      "[Telescope] delta Alt = +000.001 deg; delta Az = +030.945 deg; delta N1 = +000.000 deg; delta N2 = -015.965 deg [Dome] delta Az = +009.811 deg\n",
      "[Telescope] delta Alt = +000.001 deg; delta Az = +024.947 deg; delta N1 = +000.000 deg; delta N2 = -012.436 deg [Dome] delta Az = +002.971 deg\n",
      "ATDome in position.\n",
      "[Telescope] delta Alt = +000.001 deg; delta Az = +020.997 deg; delta N1 = +000.000 deg; delta N2 = -007.764 deg [Dome] delta Az = -002.619 deg\n",
      "[Telescope] delta Alt = +000.001 deg; delta Az = +015.317 deg; delta N1 = +000.000 deg; delta N2 = -004.126 deg [Dome] delta Az = -002.879 deg\n",
      "[Telescope] delta Alt = +000.002 deg; delta Az = +010.202 deg; delta N1 = -000.000 deg; delta N2 = -001.657 deg [Dome] delta Az = -002.879 deg\n",
      "[Telescope] delta Alt = +000.001 deg; delta Az = +005.960 deg; delta N1 = -000.000 deg; delta N2 = -000.368 deg [Dome] delta Az = -002.879 deg\n",
      "[Telescope] delta Alt = +000.001 deg; delta Az = +002.835 deg; delta N1 = -000.000 deg; delta N2 = -000.057 deg [Dome] delta Az = -002.879 deg\n",
      "[Telescope] delta Alt = +000.001 deg; delta Az = +001.430 deg; delta N1 = -000.000 deg; delta N2 = +000.009 deg [Dome] delta Az = -002.879 deg\n",
      "[Telescope] delta Alt = +000.001 deg; delta Az = +000.286 deg; delta N1 = -000.000 deg; delta N2 = +000.010 deg [Dome] delta Az = -002.879 deg\n",
      "Got True\n",
      "Waiting for telescope to settle.\n",
      "[Telescope] delta Alt = +000.001 deg; delta Az = +000.003 deg; delta N1 = -000.000 deg; delta N2 = +000.009 deg [Dome] delta Az = -002.879 deg\n",
      "Telescope in position.\n"
     ]
    }
   ],
   "source": [
    "# slew to new target to start focusing\n",
    "await atcs.slew_object('HIP 27204')"
   ]
  },
  {
   "cell_type": "code",
   "execution_count": 14,
   "metadata": {},
   "outputs": [
    {
     "data": {
      "text/plain": [
       "[<ddsutil.ATSpectrograph_ackcmd_6d105732 at 0x7ff4a8aa2c10>,\n",
       " <ddsutil.ATSpectrograph_ackcmd_6d105732 at 0x7ff424368990>]"
      ]
     },
     "execution_count": 14,
     "metadata": {},
     "output_type": "execute_result"
    }
   ],
   "source": [
    "# take image\n",
    "await latiss.setup_atspec(filter='empty_1', grating='empty_1')"
   ]
  },
  {
   "cell_type": "code",
   "execution_count": 15,
   "metadata": {},
   "outputs": [
    {
     "name": "stdout",
     "output_type": "stream",
     "text": [
      "Generating group_id\n",
      "OBJECT 0001 - 0001\n"
     ]
    },
    {
     "data": {
      "text/plain": [
       "array([2021011900166])"
      ]
     },
     "execution_count": 15,
     "metadata": {},
     "output_type": "execute_result"
    }
   ],
   "source": [
    "await latiss.take_object(1, filter='empty_1', grating='empty_1')"
   ]
  },
  {
   "cell_type": "code",
   "execution_count": 16,
   "metadata": {},
   "outputs": [
    {
     "name": "stdout",
     "output_type": "stream",
     "text": [
      "private_revCode: d8296953, private_sndStamp: 1611104081.6989987, private_rcvStamp: 1611104081.6994717, private_seqNum: 73, private_identity: ATAOS, private_origin: 165593, private_host: 0, total: 1.5740000009536743, userApplied: 1.600000023841858, filter: 0.0, disperser: 0.0, wavelength: 0.0, priority: 0\n"
     ]
    }
   ],
   "source": [
    "# check what the focus offsets are as we don't know why the focus is so bad\n",
    "tmp=await atcs.rem.ataos.evt_focusOffsetSummary.aget()\n",
    "print(tmp)"
   ]
  },
  {
   "cell_type": "code",
   "execution_count": 17,
   "metadata": {},
   "outputs": [
    {
     "ename": "AckError",
     "evalue": "msg='Command failed', ackcmd=(ackcmd private_seqNum=1240431907, ack=<SalRetCode.CMD_FAILED: -302>, error=1, result='Failed: hexapod correction must be enabled to reset the offset.')",
     "output_type": "error",
     "traceback": [
      "\u001b[0;31m---------------------------------------------------------------------------\u001b[0m",
      "\u001b[0;31mAckError\u001b[0m                                  Traceback (most recent call last)",
      "\u001b[0;32m<ipython-input-17-c8c10af28c3e>\u001b[0m in \u001b[0;36masync-def-wrapper\u001b[0;34m()\u001b[0m\n",
      "\u001b[0;32m/opt/lsst/src/ts_salobj/python/lsst/ts/salobj/topics/remote_command.py\u001b[0m in \u001b[0;36mset_start\u001b[0;34m(self, timeout, wait_done, **kwargs)\u001b[0m\n\u001b[1;32m    389\u001b[0m         \"\"\"\n\u001b[1;32m    390\u001b[0m         \u001b[0mself\u001b[0m\u001b[0;34m.\u001b[0m\u001b[0mset\u001b[0m\u001b[0;34m(\u001b[0m\u001b[0;34m**\u001b[0m\u001b[0mkwargs\u001b[0m\u001b[0;34m)\u001b[0m\u001b[0;34m\u001b[0m\u001b[0;34m\u001b[0m\u001b[0m\n\u001b[0;32m--> 391\u001b[0;31m         \u001b[0;32mreturn\u001b[0m \u001b[0;32mawait\u001b[0m \u001b[0mself\u001b[0m\u001b[0;34m.\u001b[0m\u001b[0mstart\u001b[0m\u001b[0;34m(\u001b[0m\u001b[0mtimeout\u001b[0m\u001b[0;34m=\u001b[0m\u001b[0mtimeout\u001b[0m\u001b[0;34m,\u001b[0m \u001b[0mwait_done\u001b[0m\u001b[0;34m=\u001b[0m\u001b[0mwait_done\u001b[0m\u001b[0;34m)\u001b[0m\u001b[0;34m\u001b[0m\u001b[0;34m\u001b[0m\u001b[0m\n\u001b[0m\u001b[1;32m    392\u001b[0m \u001b[0;34m\u001b[0m\u001b[0m\n\u001b[1;32m    393\u001b[0m     \u001b[0;32masync\u001b[0m \u001b[0;32mdef\u001b[0m \u001b[0mstart\u001b[0m\u001b[0;34m(\u001b[0m\u001b[0mself\u001b[0m\u001b[0;34m,\u001b[0m \u001b[0mdata\u001b[0m\u001b[0;34m=\u001b[0m\u001b[0;32mNone\u001b[0m\u001b[0;34m,\u001b[0m \u001b[0mtimeout\u001b[0m\u001b[0;34m=\u001b[0m\u001b[0mDEFAULT_TIMEOUT\u001b[0m\u001b[0;34m,\u001b[0m \u001b[0mwait_done\u001b[0m\u001b[0;34m=\u001b[0m\u001b[0;32mTrue\u001b[0m\u001b[0;34m)\u001b[0m\u001b[0;34m:\u001b[0m\u001b[0;34m\u001b[0m\u001b[0;34m\u001b[0m\u001b[0m\n",
      "\u001b[0;32m/opt/lsst/src/ts_salobj/python/lsst/ts/salobj/topics/remote_command.py\u001b[0m in \u001b[0;36mstart\u001b[0;34m(self, data, timeout, wait_done)\u001b[0m\n\u001b[1;32m    444\u001b[0m         )\n\u001b[1;32m    445\u001b[0m         \u001b[0mself\u001b[0m\u001b[0;34m.\u001b[0m\u001b[0msalinfo\u001b[0m\u001b[0;34m.\u001b[0m\u001b[0m_running_cmds\u001b[0m\u001b[0;34m[\u001b[0m\u001b[0mseq_num\u001b[0m\u001b[0;34m]\u001b[0m \u001b[0;34m=\u001b[0m \u001b[0mcmd_info\u001b[0m\u001b[0;34m\u001b[0m\u001b[0;34m\u001b[0m\u001b[0m\n\u001b[0;32m--> 446\u001b[0;31m         \u001b[0;32mreturn\u001b[0m \u001b[0;32mawait\u001b[0m \u001b[0mcmd_info\u001b[0m\u001b[0;34m.\u001b[0m\u001b[0mnext_ackcmd\u001b[0m\u001b[0;34m(\u001b[0m\u001b[0mtimeout\u001b[0m\u001b[0;34m=\u001b[0m\u001b[0mtimeout\u001b[0m\u001b[0;34m)\u001b[0m\u001b[0;34m\u001b[0m\u001b[0;34m\u001b[0m\u001b[0m\n\u001b[0m",
      "\u001b[0;32m/opt/lsst/src/ts_salobj/python/lsst/ts/salobj/topics/remote_command.py\u001b[0m in \u001b[0;36mnext_ackcmd\u001b[0;34m(self, timeout)\u001b[0m\n\u001b[1;32m    181\u001b[0m             \u001b[0mackcmd\u001b[0m \u001b[0;34m=\u001b[0m \u001b[0;32mawait\u001b[0m \u001b[0mself\u001b[0m\u001b[0;34m.\u001b[0m\u001b[0m_wait_task\u001b[0m\u001b[0;34m\u001b[0m\u001b[0;34m\u001b[0m\u001b[0m\n\u001b[1;32m    182\u001b[0m             \u001b[0;32mif\u001b[0m \u001b[0mackcmd\u001b[0m\u001b[0;34m.\u001b[0m\u001b[0mack\u001b[0m \u001b[0;32min\u001b[0m \u001b[0mself\u001b[0m\u001b[0;34m.\u001b[0m\u001b[0mfailed_ack_codes\u001b[0m\u001b[0;34m:\u001b[0m\u001b[0;34m\u001b[0m\u001b[0;34m\u001b[0m\u001b[0m\n\u001b[0;32m--> 183\u001b[0;31m                 \u001b[0;32mraise\u001b[0m \u001b[0mbase\u001b[0m\u001b[0;34m.\u001b[0m\u001b[0mAckError\u001b[0m\u001b[0;34m(\u001b[0m\u001b[0mmsg\u001b[0m\u001b[0;34m=\u001b[0m\u001b[0;34m\"Command failed\"\u001b[0m\u001b[0;34m,\u001b[0m \u001b[0mackcmd\u001b[0m\u001b[0;34m=\u001b[0m\u001b[0mackcmd\u001b[0m\u001b[0;34m)\u001b[0m\u001b[0;34m\u001b[0m\u001b[0;34m\u001b[0m\u001b[0m\n\u001b[0m\u001b[1;32m    184\u001b[0m             \u001b[0;32mreturn\u001b[0m \u001b[0mackcmd\u001b[0m\u001b[0;34m\u001b[0m\u001b[0;34m\u001b[0m\u001b[0m\n\u001b[1;32m    185\u001b[0m         \u001b[0;32mexcept\u001b[0m \u001b[0masyncio\u001b[0m\u001b[0;34m.\u001b[0m\u001b[0mTimeoutError\u001b[0m\u001b[0;34m:\u001b[0m\u001b[0;34m\u001b[0m\u001b[0;34m\u001b[0m\u001b[0m\n",
      "\u001b[0;31mAckError\u001b[0m: msg='Command failed', ackcmd=(ackcmd private_seqNum=1240431907, ack=<SalRetCode.CMD_FAILED: -302>, error=1, result='Failed: hexapod correction must be enabled to reset the offset.')"
     ]
    }
   ],
   "source": [
    "# leftover offset from failed cwfs - fails because athexapod correction was off\n",
    "await atcs.rem.ataos.cmd_resetOffset.set_start(axis='z')"
   ]
  },
  {
   "cell_type": "code",
   "execution_count": 18,
   "metadata": {},
   "outputs": [
    {
     "data": {
      "text/plain": [
       "<ddsutil.ATAOS_ackcmd_38d6204e at 0x7ff4244d6310>"
      ]
     },
     "execution_count": 18,
     "metadata": {},
     "output_type": "execute_result"
    }
   ],
   "source": [
    "# turn off ataos correction so we control \n",
    "await atcs.rem.ataos.cmd_disableCorrection.set_start(atspectrograph=True)"
   ]
  },
  {
   "cell_type": "code",
   "execution_count": 19,
   "metadata": {},
   "outputs": [
    {
     "data": {
      "text/plain": [
       "<ddsutil.ATAOS_ackcmd_38d6204e at 0x7ff4a8bd9d10>"
      ]
     },
     "execution_count": 19,
     "metadata": {},
     "output_type": "execute_result"
    }
   ],
   "source": [
    "await atcs.rem.ataos.cmd_enableCorrection.set_start(hexapod=True)"
   ]
  },
  {
   "cell_type": "code",
   "execution_count": 20,
   "metadata": {},
   "outputs": [
    {
     "name": "stdout",
     "output_type": "stream",
     "text": [
      "private_revCode: d8296953, private_sndStamp: 1611104081.6989987, private_rcvStamp: 1611104081.6994717, private_seqNum: 73, private_identity: ATAOS, private_origin: 165593, private_host: 0, total: 1.5740000009536743, userApplied: 1.600000023841858, filter: 0.0, disperser: 0.0, wavelength: 0.0, priority: 0\n"
     ]
    }
   ],
   "source": [
    "# check what the focus offsets are as we don't know why the focus is so bad\n",
    "tmp=await atcs.rem.ataos.evt_focusOffsetSummary.aget()\n",
    "print(tmp)"
   ]
  },
  {
   "cell_type": "code",
   "execution_count": 21,
   "metadata": {},
   "outputs": [
    {
     "data": {
      "text/plain": [
       "<ddsutil.ATAOS_ackcmd_38d6204e at 0x7ff4a88e9ad0>"
      ]
     },
     "execution_count": 21,
     "metadata": {},
     "output_type": "execute_result"
    }
   ],
   "source": [
    "# leftover offset from failed cwfs -\n",
    "await atcs.rem.ataos.cmd_resetOffset.set_start(axis='z')"
   ]
  },
  {
   "cell_type": "code",
   "execution_count": 22,
   "metadata": {},
   "outputs": [
    {
     "name": "stdout",
     "output_type": "stream",
     "text": [
      "private_revCode: d8296953, private_sndStamp: 1611104706.9502838, private_rcvStamp: 1611104706.95083, private_seqNum: 74, private_identity: ATAOS, private_origin: 165593, private_host: 0, total: 0.0, userApplied: 0.0, filter: 0.0, disperser: 0.0, wavelength: 0.0, priority: 0\n"
     ]
    }
   ],
   "source": [
    "# check what the focus offsets are as we don't know why the focus is so bad\n",
    "tmp=await atcs.rem.ataos.evt_focusOffsetSummary.aget()\n",
    "print(tmp)"
   ]
  },
  {
   "cell_type": "code",
   "execution_count": 23,
   "metadata": {},
   "outputs": [
    {
     "name": "stdout",
     "output_type": "stream",
     "text": [
      "Generating group_id\n",
      "OBJECT 0001 - 0001\n"
     ]
    },
    {
     "data": {
      "text/plain": [
       "array([2021011900167])"
      ]
     },
     "execution_count": 23,
     "metadata": {},
     "output_type": "execute_result"
    }
   ],
   "source": [
    "await latiss.take_object(1, filter='empty_1', grating='empty_1')"
   ]
  },
  {
   "cell_type": "code",
   "execution_count": 24,
   "metadata": {},
   "outputs": [
    {
     "name": "stdout",
     "output_type": "stream",
     "text": [
      "Resetting dropped connection: simbad.u-strasbg.fr\n",
      "http://simbad.u-strasbg.fr:80 \"POST /simbad/sim-script HTTP/1.1\" 200 None\n",
      "Slewing to HIP 26739: 05 40 54.4326 -31 59 46.800\n",
      "Auto sky angle: 0.0 deg\n",
      "Sending command\n",
      "Stop tracking.\n",
      "target python read queue is filling: 36 of 100 elements\n",
      "Unknown tracking state: 9.\n",
      "Unknown tracking state: 10.\n",
      "In Position: True.\n",
      "Scheduling check coroutines\n",
      "process as completed...\n",
      "atmcs: <State.ENABLED: 2>\n",
      "atptg: <State.ENABLED: 2>\n",
      "ataos: <State.ENABLED: 2>\n",
      "atpneumatics: <State.ENABLED: 2>\n",
      "athexapod: <State.ENABLED: 2>\n",
      "atdome: <State.ENABLED: 2>\n",
      "atdometrajectory: <State.ENABLED: 2>\n",
      "[Telescope] delta Alt = +001.104 deg; delta Az = -000.990 deg; delta N1 = -000.000 deg; delta N2 = -000.286 deg [Dome] delta Az = -002.879 deg\n",
      "ATDome in position.\n",
      "Got True\n",
      "Waiting for telescope to settle.\n",
      "[Telescope] delta Alt = +000.020 deg; delta Az = -000.034 deg; delta N1 = -000.000 deg; delta N2 = +000.009 deg [Dome] delta Az = -002.879 deg\n",
      "Telescope in position.\n"
     ]
    }
   ],
   "source": [
    "# Saturated so moving to HIP 26739\n",
    "await atcs.slew_object('HIP 26739')"
   ]
  },
  {
   "cell_type": "code",
   "execution_count": 25,
   "metadata": {},
   "outputs": [
    {
     "name": "stdout",
     "output_type": "stream",
     "text": [
      "Generating group_id\n",
      "OBJECT 0001 - 0001\n"
     ]
    },
    {
     "data": {
      "text/plain": [
       "array([2021011900168])"
      ]
     },
     "execution_count": 25,
     "metadata": {},
     "output_type": "execute_result"
    },
    {
     "name": "stdout",
     "output_type": "stream",
     "text": [
      "target DDS read queue is filling: 45 of 100 elements\n",
      "target python read queue is filling: 44 of 100 elements\n",
      "target python read queue is filling: 46 of 100 elements\n"
     ]
    }
   ],
   "source": [
    "await latiss.take_object(1, filter='empty_1', grating='empty_1')"
   ]
  },
  {
   "cell_type": "code",
   "execution_count": 26,
   "metadata": {},
   "outputs": [
    {
     "name": "stdout",
     "output_type": "stream",
     "text": [
      "Generating group_id\n",
      "OBJECT 0001 - 0001\n"
     ]
    },
    {
     "data": {
      "text/plain": [
       "array([2021011900171])"
      ]
     },
     "execution_count": 26,
     "metadata": {},
     "output_type": "execute_result"
    }
   ],
   "source": [
    "# switching to running the focus script\n",
    "# check that hexapod went back\n",
    "await latiss.take_object(1, filter='empty_1', grating='empty_1')"
   ]
  },
  {
   "cell_type": "code",
   "execution_count": 27,
   "metadata": {},
   "outputs": [
    {
     "name": "stdout",
     "output_type": "stream",
     "text": [
      "Generating group_id\n",
      "OBJECT 0001 - 0001\n"
     ]
    },
    {
     "data": {
      "text/plain": [
       "array([2021011900172])"
      ]
     },
     "execution_count": 27,
     "metadata": {},
     "output_type": "execute_result"
    }
   ],
   "source": [
    "# switching to running the focus script\n",
    "# check that hexapod went back\n",
    "await latiss.take_object(60, filter='empty_1', grating='empty_1')"
   ]
  },
  {
   "cell_type": "code",
   "execution_count": 28,
   "metadata": {},
   "outputs": [
    {
     "name": "stdout",
     "output_type": "stream",
     "text": [
      "Generating group_id\n",
      "OBJECT 0001 - 0001\n"
     ]
    },
    {
     "data": {
      "text/plain": [
       "array([2021011900173])"
      ]
     },
     "execution_count": 28,
     "metadata": {},
     "output_type": "execute_result"
    }
   ],
   "source": [
    "# switching to running the focus script\n",
    "# check that hexapod went back\n",
    "await latiss.take_object(300, filter='empty_1', grating='empty_1')"
   ]
  },
  {
   "cell_type": "code",
   "execution_count": null,
   "metadata": {},
   "outputs": [],
   "source": [
    "# check version of pointing component - appears to be incorrect - focus scipt also broken\n",
    "# going to try to "
   ]
  },
  {
   "cell_type": "code",
   "execution_count": 29,
   "metadata": {},
   "outputs": [
    {
     "data": {
      "text/plain": [
       "[<State.FAULT: 3>, <State.STANDBY: 5>, <State.DISABLED: 1>, <State.ENABLED: 2>]"
      ]
     },
     "execution_count": 29,
     "metadata": {},
     "output_type": "execute_result"
    }
   ],
   "source": [
    "# pointing/mount hit limit\n",
    "await salobj.set_summary_state(atcs.rem.atptg, salobj.State.ENABLED)"
   ]
  },
  {
   "cell_type": "code",
   "execution_count": 30,
   "metadata": {},
   "outputs": [
    {
     "data": {
      "text/plain": [
       "<ddsutil.ATPtg_ackcmd_8110c0a5 at 0x7ff393bae550>"
      ]
     },
     "execution_count": 30,
     "metadata": {},
     "output_type": "execute_result"
    }
   ],
   "source": [
    "# Need to manually say which rotator we're using at the moment (N2-->focus=3, N1-->focus=2)\n",
    "await atcs.rem.atptg.cmd_focusName.set_start(focus=3)"
   ]
  },
  {
   "cell_type": "code",
   "execution_count": 35,
   "metadata": {
    "collapsed": true,
    "jupyter": {
     "outputs_hidden": true
    }
   },
   "outputs": [
    {
     "name": "stdout",
     "output_type": "stream",
     "text": [
      "Slewing to HIP 26739: 05 40 54.4326 -31 59 46.800\n",
      "Setting rotator position with respect to parallactic angle to 0.0 deg.\n",
      "Parallactic angle: -76.73857723269185 | Sky Angle: 13.261422767308133\n",
      "Sending command\n",
      "Stop tracking.\n",
      "Scheduling check coroutines\n",
      "process as completed...\n",
      "atmcs: <State.ENABLED: 2>\n",
      "atptg: <State.ENABLED: 2>\n",
      "ataos: <State.ENABLED: 2>\n",
      "atpneumatics: <State.ENABLED: 2>\n",
      "athexapod: <State.ENABLED: 2>\n",
      "atdome: <State.ENABLED: 2>\n",
      "atdometrajectory: <State.ENABLED: 2>\n",
      "[Telescope] delta Alt = +003.996 deg; delta Az = +004.281 deg; delta N1 = -000.000 deg; delta N2 = +002.514 deg [Dome] delta Az = -002.879 deg\n",
      "ATDome in position.\n",
      "[Telescope] delta Alt = +001.412 deg; delta Az = +001.641 deg; delta N1 = -000.000 deg; delta N2 = +002.394 deg [Dome] delta Az = -002.879 deg\n",
      "[Telescope] delta Alt = -000.133 deg; delta Az = +000.002 deg; delta N1 = -000.000 deg; delta N2 = +002.122 deg [Dome] delta Az = -002.879 deg\n",
      "[Telescope] delta Alt = +000.714 deg; delta Az = +000.002 deg; delta N1 = -000.000 deg; delta N2 = +001.708 deg [Dome] delta Az = -002.879 deg\n",
      "[Telescope] delta Alt = +001.880 deg; delta Az = +000.001 deg; delta N1 = -000.000 deg; delta N2 = +001.211 deg [Dome] delta Az = -002.879 deg\n",
      "[Telescope] delta Alt = +002.539 deg; delta Az = +000.002 deg; delta N1 = -000.000 deg; delta N2 = +000.867 deg [Dome] delta Az = -002.879 deg\n",
      "[Telescope] delta Alt = +002.566 deg; delta Az = +000.001 deg; delta N1 = -000.000 deg; delta N2 = +000.449 deg [Dome] delta Az = -002.879 deg\n",
      "[Telescope] delta Alt = +002.073 deg; delta Az = +000.002 deg; delta N1 = +000.000 deg; delta N2 = +000.225 deg [Dome] delta Az = -002.879 deg\n",
      "[Telescope] delta Alt = +001.528 deg; delta Az = +000.001 deg; delta N1 = +000.000 deg; delta N2 = +000.061 deg [Dome] delta Az = -002.879 deg\n",
      "[Telescope] delta Alt = +000.692 deg; delta Az = +000.001 deg; delta N1 = +000.000 deg; delta N2 = +000.019 deg [Dome] delta Az = -002.879 deg\n",
      "[Telescope] delta Alt = +000.150 deg; delta Az = +000.001 deg; delta N1 = +000.000 deg; delta N2 = +000.021 deg [Dome] delta Az = -002.879 deg\n",
      "[Telescope] delta Alt = +000.002 deg; delta Az = +000.002 deg; delta N1 = +000.000 deg; delta N2 = +000.020 deg [Dome] delta Az = -002.879 deg\n",
      "[Telescope] delta Alt = +000.001 deg; delta Az = +000.002 deg; delta N1 = +000.000 deg; delta N2 = +000.019 deg [Dome] delta Az = -002.879 deg\n",
      "[Telescope] delta Alt = +000.001 deg; delta Az = +000.002 deg; delta N1 = -000.000 deg; delta N2 = +000.020 deg [Dome] delta Az = -002.879 deg\n",
      "[Telescope] delta Alt = +000.001 deg; delta Az = +000.003 deg; delta N1 = -000.000 deg; delta N2 = +000.019 deg [Dome] delta Az = -002.879 deg\n",
      "[Telescope] delta Alt = +000.001 deg; delta Az = +000.002 deg; delta N1 = +000.000 deg; delta N2 = +000.007 deg [Dome] delta Az = -002.879 deg\n",
      "[Telescope] delta Alt = +000.001 deg; delta Az = +000.002 deg; delta N1 = +000.000 deg; delta N2 = +000.019 deg [Dome] delta Az = -002.879 deg\n",
      "[Telescope] delta Alt = +000.001 deg; delta Az = +000.001 deg; delta N1 = +000.000 deg; delta N2 = +000.021 deg [Dome] delta Az = -002.879 deg\n",
      "[Telescope] delta Alt = +000.000 deg; delta Az = +000.001 deg; delta N1 = -000.000 deg; delta N2 = +000.022 deg [Dome] delta Az = -002.879 deg\n",
      "[Telescope] delta Alt = +000.001 deg; delta Az = +000.001 deg; delta N1 = +000.000 deg; delta N2 = +000.021 deg [Dome] delta Az = -002.879 deg\n",
      "[Telescope] delta Alt = +000.000 deg; delta Az = +000.001 deg; delta N1 = +000.000 deg; delta N2 = +000.022 deg [Dome] delta Az = -002.879 deg\n",
      "[Telescope] delta Alt = +000.001 deg; delta Az = +000.001 deg; delta N1 = -000.000 deg; delta N2 = +000.021 deg [Dome] delta Az = -002.879 deg\n",
      "[Telescope] delta Alt = +000.000 deg; delta Az = +000.001 deg; delta N1 = +000.000 deg; delta N2 = +000.022 deg [Dome] delta Az = -002.879 deg\n",
      "[Telescope] delta Alt = +000.001 deg; delta Az = +000.002 deg; delta N1 = -000.000 deg; delta N2 = +000.008 deg [Dome] delta Az = -002.879 deg\n",
      "[Telescope] delta Alt = +000.001 deg; delta Az = +000.002 deg; delta N1 = -000.000 deg; delta N2 = +000.020 deg [Dome] delta Az = -002.879 deg\n",
      "[Telescope] delta Alt = +000.001 deg; delta Az = +000.001 deg; delta N1 = -000.000 deg; delta N2 = +000.009 deg [Dome] delta Az = -002.879 deg\n",
      "[Telescope] delta Alt = +000.001 deg; delta Az = +000.002 deg; delta N1 = +000.000 deg; delta N2 = +000.021 deg [Dome] delta Az = -002.879 deg\n",
      "[Telescope] delta Alt = +000.000 deg; delta Az = +000.001 deg; delta N1 = -000.000 deg; delta N2 = +000.022 deg [Dome] delta Az = -002.879 deg\n",
      "[Telescope] delta Alt = +000.001 deg; delta Az = +000.002 deg; delta N1 = -000.000 deg; delta N2 = +000.021 deg [Dome] delta Az = -002.879 deg\n",
      "[Telescope] delta Alt = +000.001 deg; delta Az = +000.001 deg; delta N1 = +000.000 deg; delta N2 = +000.009 deg [Dome] delta Az = -002.879 deg\n",
      "[Telescope] delta Alt = +000.001 deg; delta Az = +000.001 deg; delta N1 = +000.000 deg; delta N2 = +000.021 deg [Dome] delta Az = -002.879 deg\n",
      "[Telescope] delta Alt = +000.000 deg; delta Az = +000.001 deg; delta N1 = +000.000 deg; delta N2 = +000.022 deg [Dome] delta Az = -002.879 deg\n",
      "[Telescope] delta Alt = +000.001 deg; delta Az = +000.001 deg; delta N1 = -000.000 deg; delta N2 = +000.021 deg [Dome] delta Az = -002.879 deg\n",
      "[Telescope] delta Alt = +000.000 deg; delta Az = +000.001 deg; delta N1 = +000.000 deg; delta N2 = +000.022 deg [Dome] delta Az = -002.879 deg\n",
      "[Telescope] delta Alt = +000.001 deg; delta Az = +000.002 deg; delta N1 = +000.000 deg; delta N2 = +000.021 deg [Dome] delta Az = -002.879 deg\n",
      "[Telescope] delta Alt = +000.000 deg; delta Az = +000.001 deg; delta N1 = +000.000 deg; delta N2 = +000.022 deg [Dome] delta Az = -002.879 deg\n",
      "[Telescope] delta Alt = +000.001 deg; delta Az = +000.002 deg; delta N1 = -000.000 deg; delta N2 = +000.021 deg [Dome] delta Az = -002.879 deg\n",
      "[Telescope] delta Alt = +000.001 deg; delta Az = +000.001 deg; delta N1 = +000.000 deg; delta N2 = +000.022 deg [Dome] delta Az = -002.879 deg\n",
      "[Telescope] delta Alt = +000.001 deg; delta Az = +000.002 deg; delta N1 = +000.000 deg; delta N2 = +000.021 deg [Dome] delta Az = -002.879 deg\n",
      "[Telescope] delta Alt = +000.001 deg; delta Az = +000.001 deg; delta N1 = -000.000 deg; delta N2 = +000.022 deg [Dome] delta Az = -002.879 deg\n",
      "[Telescope] delta Alt = +000.001 deg; delta Az = +000.002 deg; delta N1 = +000.000 deg; delta N2 = +000.021 deg [Dome] delta Az = -002.879 deg\n",
      "[Telescope] delta Alt = +000.001 deg; delta Az = +000.001 deg; delta N1 = -000.000 deg; delta N2 = +000.023 deg [Dome] delta Az = -002.879 deg\n",
      "[Telescope] delta Alt = +000.001 deg; delta Az = +000.002 deg; delta N1 = +000.000 deg; delta N2 = +000.021 deg [Dome] delta Az = -002.879 deg\n",
      "[Telescope] delta Alt = +000.001 deg; delta Az = +000.001 deg; delta N1 = +000.000 deg; delta N2 = +000.009 deg [Dome] delta Az = -002.879 deg\n",
      "[Telescope] delta Alt = +000.001 deg; delta Az = +000.002 deg; delta N1 = -000.000 deg; delta N2 = +000.021 deg [Dome] delta Az = -002.879 deg\n",
      "[Telescope] delta Alt = +000.001 deg; delta Az = +000.001 deg; delta N1 = +000.000 deg; delta N2 = +000.022 deg [Dome] delta Az = -002.879 deg\n",
      "[Telescope] delta Alt = +000.001 deg; delta Az = +000.001 deg; delta N1 = +000.000 deg; delta N2 = +000.022 deg [Dome] delta Az = -002.879 deg\n",
      "target DDS read queue is filling: 99 of 100 elements\n",
      "target python read queue is full (100 elements); data may be lost\n",
      "[Telescope] delta Alt = -000.012 deg; delta Az = -000.028 deg; delta N1 = -000.000 deg; delta N2 = +000.059 deg [Dome] delta Az = -002.879 deg\n",
      "[Telescope] delta Alt = +000.001 deg; delta Az = +000.003 deg; delta N1 = -000.000 deg; delta N2 = +000.019 deg [Dome] delta Az = -002.879 deg\n",
      "[Telescope] delta Alt = +000.002 deg; delta Az = +000.004 deg; delta N1 = -000.000 deg; delta N2 = +000.004 deg [Dome] delta Az = -002.879 deg\n",
      "[Telescope] delta Alt = +000.000 deg; delta Az = +000.001 deg; delta N1 = +000.000 deg; delta N2 = +000.023 deg [Dome] delta Az = -002.879 deg\n",
      "[Telescope] delta Alt = +000.000 deg; delta Az = +000.001 deg; delta N1 = -000.000 deg; delta N2 = +000.011 deg [Dome] delta Az = -002.879 deg\n",
      "[Telescope] delta Alt = +000.000 deg; delta Az = +000.001 deg; delta N1 = -000.000 deg; delta N2 = +000.023 deg [Dome] delta Az = -002.879 deg\n",
      "[Telescope] delta Alt = +000.001 deg; delta Az = +000.001 deg; delta N1 = +000.000 deg; delta N2 = +000.009 deg [Dome] delta Az = -002.879 deg\n",
      "[Telescope] delta Alt = +000.001 deg; delta Az = +000.002 deg; delta N1 = +000.000 deg; delta N2 = +000.021 deg [Dome] delta Az = -002.879 deg\n",
      "[Telescope] delta Alt = +000.001 deg; delta Az = +000.001 deg; delta N1 = +000.000 deg; delta N2 = +000.023 deg [Dome] delta Az = -002.879 deg\n",
      "[Telescope] delta Alt = +000.001 deg; delta Az = +000.002 deg; delta N1 = -000.000 deg; delta N2 = +000.021 deg [Dome] delta Az = -002.879 deg\n",
      "[Telescope] delta Alt = +000.001 deg; delta Az = +000.001 deg; delta N1 = -000.000 deg; delta N2 = +000.023 deg [Dome] delta Az = -002.879 deg\n",
      "[Telescope] delta Alt = +000.001 deg; delta Az = +000.002 deg; delta N1 = -000.000 deg; delta N2 = +000.022 deg [Dome] delta Az = -002.879 deg\n",
      "[Telescope] delta Alt = +000.001 deg; delta Az = +000.001 deg; delta N1 = +000.000 deg; delta N2 = +000.023 deg [Dome] delta Az = -002.879 deg\n",
      "[Telescope] delta Alt = +000.001 deg; delta Az = +000.002 deg; delta N1 = +000.000 deg; delta N2 = +000.009 deg [Dome] delta Az = -002.879 deg\n",
      "[Telescope] delta Alt = +000.000 deg; delta Az = +000.001 deg; delta N1 = -000.000 deg; delta N2 = +000.024 deg [Dome] delta Az = -002.879 deg\n",
      "[Telescope] delta Alt = +000.001 deg; delta Az = +000.002 deg; delta N1 = +000.000 deg; delta N2 = +000.022 deg [Dome] delta Az = -002.879 deg\n",
      "[Telescope] delta Alt = +000.000 deg; delta Az = +000.001 deg; delta N1 = -000.000 deg; delta N2 = +000.010 deg [Dome] delta Az = -002.879 deg\n",
      "[Telescope] delta Alt = +000.001 deg; delta Az = +000.001 deg; delta N1 = +000.000 deg; delta N2 = +000.023 deg [Dome] delta Az = -002.879 deg\n",
      "[Telescope] delta Alt = +000.001 deg; delta Az = +000.002 deg; delta N1 = +000.000 deg; delta N2 = +000.021 deg [Dome] delta Az = -002.879 deg\n",
      "[Telescope] delta Alt = +000.001 deg; delta Az = +000.002 deg; delta N1 = -000.000 deg; delta N2 = +000.023 deg [Dome] delta Az = -002.879 deg\n",
      "atptg not in <State.ENABLED: 2>: <State.FAULT: 3>\n"
     ]
    },
    {
     "ename": "RuntimeError",
     "evalue": "atptg state is <State.FAULT: 3>, expected <State.ENABLED: 2>",
     "output_type": "error",
     "traceback": [
      "\u001b[0;31m---------------------------------------------------------------------------\u001b[0m",
      "\u001b[0;31mRuntimeError\u001b[0m                              Traceback (most recent call last)",
      "\u001b[0;32m<ipython-input-35-4029c85a00b3>\u001b[0m in \u001b[0;36masync-def-wrapper\u001b[0;34m()\u001b[0m\n",
      "\u001b[0;32m~/repos/ts_observatory_control/python/lsst/ts/observatory/control/base_tcs.py\u001b[0m in \u001b[0;36mslew_object\u001b[0;34m(self, name, rot, rot_type, slew_timeout)\u001b[0m\n\u001b[1;32m    182\u001b[0m             \u001b[0mrot_type\u001b[0m\u001b[0;34m=\u001b[0m\u001b[0mrot_type\u001b[0m\u001b[0;34m,\u001b[0m\u001b[0;34m\u001b[0m\u001b[0;34m\u001b[0m\u001b[0m\n\u001b[1;32m    183\u001b[0m             \u001b[0mtarget_name\u001b[0m\u001b[0;34m=\u001b[0m\u001b[0mname\u001b[0m\u001b[0;34m,\u001b[0m\u001b[0;34m\u001b[0m\u001b[0;34m\u001b[0m\u001b[0m\n\u001b[0;32m--> 184\u001b[0;31m             \u001b[0mslew_timeout\u001b[0m\u001b[0;34m=\u001b[0m\u001b[0mslew_timeout\u001b[0m\u001b[0;34m,\u001b[0m\u001b[0;34m\u001b[0m\u001b[0;34m\u001b[0m\u001b[0m\n\u001b[0m\u001b[1;32m    185\u001b[0m         )\n\u001b[1;32m    186\u001b[0m \u001b[0;34m\u001b[0m\u001b[0m\n",
      "\u001b[0;32m~/repos/ts_observatory_control/python/lsst/ts/observatory/control/base_tcs.py\u001b[0m in \u001b[0;36mslew_icrs\u001b[0;34m(self, ra, dec, rot, rot_type, target_name, slew_timeout, stop_before_slew, wait_settle)\u001b[0m\n\u001b[1;32m    345\u001b[0m             \u001b[0mslew_timeout\u001b[0m\u001b[0;34m=\u001b[0m\u001b[0mslew_timeout\u001b[0m\u001b[0;34m,\u001b[0m\u001b[0;34m\u001b[0m\u001b[0;34m\u001b[0m\u001b[0m\n\u001b[1;32m    346\u001b[0m             \u001b[0mstop_before_slew\u001b[0m\u001b[0;34m=\u001b[0m\u001b[0mstop_before_slew\u001b[0m\u001b[0;34m,\u001b[0m\u001b[0;34m\u001b[0m\u001b[0;34m\u001b[0m\u001b[0m\n\u001b[0;32m--> 347\u001b[0;31m             \u001b[0mwait_settle\u001b[0m\u001b[0;34m=\u001b[0m\u001b[0mwait_settle\u001b[0m\u001b[0;34m,\u001b[0m\u001b[0;34m\u001b[0m\u001b[0;34m\u001b[0m\u001b[0m\n\u001b[0m\u001b[1;32m    348\u001b[0m         )\n\u001b[1;32m    349\u001b[0m \u001b[0;34m\u001b[0m\u001b[0m\n",
      "\u001b[0;32m~/repos/ts_observatory_control/python/lsst/ts/observatory/control/base_tcs.py\u001b[0m in \u001b[0;36mslew\u001b[0;34m(self, ra, dec, rotPA, target_name, frame, epoch, equinox, parallax, pmRA, pmDec, rv, dRA, dDec, rot_frame, rot_mode, slew_timeout, stop_before_slew, wait_settle)\u001b[0m\n\u001b[1;32m    439\u001b[0m             \u001b[0mslew_timeout\u001b[0m\u001b[0;34m=\u001b[0m\u001b[0mslew_timeout\u001b[0m\u001b[0;34m,\u001b[0m\u001b[0;34m\u001b[0m\u001b[0;34m\u001b[0m\u001b[0m\n\u001b[1;32m    440\u001b[0m             \u001b[0mstop_before_slew\u001b[0m\u001b[0;34m=\u001b[0m\u001b[0mstop_before_slew\u001b[0m\u001b[0;34m,\u001b[0m\u001b[0;34m\u001b[0m\u001b[0;34m\u001b[0m\u001b[0m\n\u001b[0;32m--> 441\u001b[0;31m             \u001b[0mwait_settle\u001b[0m\u001b[0;34m=\u001b[0m\u001b[0mwait_settle\u001b[0m\u001b[0;34m,\u001b[0m\u001b[0;34m\u001b[0m\u001b[0;34m\u001b[0m\u001b[0m\n\u001b[0m\u001b[1;32m    442\u001b[0m         )\n\u001b[1;32m    443\u001b[0m \u001b[0;34m\u001b[0m\u001b[0m\n",
      "\u001b[0;32m~/repos/ts_observatory_control/python/lsst/ts/observatory/control/auxtel/atcs.py\u001b[0m in \u001b[0;36m_slew_to\u001b[0;34m(self, slew_cmd, slew_timeout, stop_before_slew, wait_settle)\u001b[0m\n\u001b[1;32m    885\u001b[0m                 )\n\u001b[1;32m    886\u001b[0m \u001b[0;34m\u001b[0m\u001b[0m\n\u001b[0;32m--> 887\u001b[0;31m         \u001b[0;32mawait\u001b[0m \u001b[0mself\u001b[0m\u001b[0;34m.\u001b[0m\u001b[0mprocess_as_completed\u001b[0m\u001b[0;34m(\u001b[0m\u001b[0mself\u001b[0m\u001b[0;34m.\u001b[0m\u001b[0mscheduled_coro\u001b[0m\u001b[0;34m)\u001b[0m\u001b[0;34m\u001b[0m\u001b[0;34m\u001b[0m\u001b[0m\n\u001b[0m\u001b[1;32m    888\u001b[0m \u001b[0;34m\u001b[0m\u001b[0m\n\u001b[1;32m    889\u001b[0m     \u001b[0;32masync\u001b[0m \u001b[0;32mdef\u001b[0m \u001b[0mget_bore_sight_angle\u001b[0m\u001b[0;34m(\u001b[0m\u001b[0mself\u001b[0m\u001b[0;34m)\u001b[0m\u001b[0;34m:\u001b[0m\u001b[0;34m\u001b[0m\u001b[0;34m\u001b[0m\u001b[0m\n",
      "\u001b[0;32m~/repos/ts_observatory_control/python/lsst/ts/observatory/control/remote_group.py\u001b[0m in \u001b[0;36mprocess_as_completed\u001b[0;34m(self, tasks)\u001b[0m\n\u001b[1;32m    849\u001b[0m             \u001b[0;32mexcept\u001b[0m \u001b[0mException\u001b[0m \u001b[0;32mas\u001b[0m \u001b[0me\u001b[0m\u001b[0;34m:\u001b[0m\u001b[0;34m\u001b[0m\u001b[0;34m\u001b[0m\u001b[0m\n\u001b[1;32m    850\u001b[0m                 \u001b[0;32mawait\u001b[0m \u001b[0mself\u001b[0m\u001b[0;34m.\u001b[0m\u001b[0mcancel_not_done\u001b[0m\u001b[0;34m(\u001b[0m\u001b[0mtasks\u001b[0m\u001b[0;34m)\u001b[0m\u001b[0;34m\u001b[0m\u001b[0;34m\u001b[0m\u001b[0m\n\u001b[0;32m--> 851\u001b[0;31m                 \u001b[0;32mraise\u001b[0m \u001b[0me\u001b[0m\u001b[0;34m\u001b[0m\u001b[0;34m\u001b[0m\u001b[0m\n\u001b[0m\u001b[1;32m    852\u001b[0m             \u001b[0;32melse\u001b[0m\u001b[0;34m:\u001b[0m\u001b[0;34m\u001b[0m\u001b[0;34m\u001b[0m\u001b[0m\n\u001b[1;32m    853\u001b[0m                 \u001b[0;32mawait\u001b[0m \u001b[0mself\u001b[0m\u001b[0;34m.\u001b[0m\u001b[0mcancel_not_done\u001b[0m\u001b[0;34m(\u001b[0m\u001b[0mtasks\u001b[0m\u001b[0;34m)\u001b[0m\u001b[0;34m\u001b[0m\u001b[0;34m\u001b[0m\u001b[0m\n",
      "\u001b[0;32m~/repos/ts_observatory_control/python/lsst/ts/observatory/control/remote_group.py\u001b[0m in \u001b[0;36mprocess_as_completed\u001b[0;34m(self, tasks)\u001b[0m\n\u001b[1;32m    846\u001b[0m         \u001b[0;32mfor\u001b[0m \u001b[0mres\u001b[0m \u001b[0;32min\u001b[0m \u001b[0masyncio\u001b[0m\u001b[0;34m.\u001b[0m\u001b[0mas_completed\u001b[0m\u001b[0;34m(\u001b[0m\u001b[0mtasks\u001b[0m\u001b[0;34m)\u001b[0m\u001b[0;34m:\u001b[0m\u001b[0;34m\u001b[0m\u001b[0;34m\u001b[0m\u001b[0m\n\u001b[1;32m    847\u001b[0m             \u001b[0;32mtry\u001b[0m\u001b[0;34m:\u001b[0m\u001b[0;34m\u001b[0m\u001b[0;34m\u001b[0m\u001b[0m\n\u001b[0;32m--> 848\u001b[0;31m                 \u001b[0mret_val\u001b[0m \u001b[0;34m=\u001b[0m \u001b[0;32mawait\u001b[0m \u001b[0mres\u001b[0m\u001b[0;34m\u001b[0m\u001b[0;34m\u001b[0m\u001b[0m\n\u001b[0m\u001b[1;32m    849\u001b[0m             \u001b[0;32mexcept\u001b[0m \u001b[0mException\u001b[0m \u001b[0;32mas\u001b[0m \u001b[0me\u001b[0m\u001b[0;34m:\u001b[0m\u001b[0;34m\u001b[0m\u001b[0;34m\u001b[0m\u001b[0m\n\u001b[1;32m    850\u001b[0m                 \u001b[0;32mawait\u001b[0m \u001b[0mself\u001b[0m\u001b[0;34m.\u001b[0m\u001b[0mcancel_not_done\u001b[0m\u001b[0;34m(\u001b[0m\u001b[0mtasks\u001b[0m\u001b[0;34m)\u001b[0m\u001b[0;34m\u001b[0m\u001b[0;34m\u001b[0m\u001b[0m\n",
      "\u001b[0;32m/opt/lsst/software/stack/conda/miniconda3-py37_4.8.2/envs/lsst-scipipe-cb4e2dc/lib/python3.7/asyncio/tasks.py\u001b[0m in \u001b[0;36m_wait_for_one\u001b[0;34m()\u001b[0m\n\u001b[1;32m    558\u001b[0m             \u001b[0;31m# Dummy value from _on_timeout().\u001b[0m\u001b[0;34m\u001b[0m\u001b[0;34m\u001b[0m\u001b[0;34m\u001b[0m\u001b[0m\n\u001b[1;32m    559\u001b[0m             \u001b[0;32mraise\u001b[0m \u001b[0mfutures\u001b[0m\u001b[0;34m.\u001b[0m\u001b[0mTimeoutError\u001b[0m\u001b[0;34m\u001b[0m\u001b[0;34m\u001b[0m\u001b[0m\n\u001b[0;32m--> 560\u001b[0;31m         \u001b[0;32mreturn\u001b[0m \u001b[0mf\u001b[0m\u001b[0;34m.\u001b[0m\u001b[0mresult\u001b[0m\u001b[0;34m(\u001b[0m\u001b[0;34m)\u001b[0m  \u001b[0;31m# May raise f.exception().\u001b[0m\u001b[0;34m\u001b[0m\u001b[0;34m\u001b[0m\u001b[0m\n\u001b[0m\u001b[1;32m    561\u001b[0m \u001b[0;34m\u001b[0m\u001b[0m\n\u001b[1;32m    562\u001b[0m     \u001b[0;32mfor\u001b[0m \u001b[0mf\u001b[0m \u001b[0;32min\u001b[0m \u001b[0mtodo\u001b[0m\u001b[0;34m:\u001b[0m\u001b[0;34m\u001b[0m\u001b[0;34m\u001b[0m\u001b[0m\n",
      "\u001b[0;32m~/repos/ts_observatory_control/python/lsst/ts/observatory/control/remote_group.py\u001b[0m in \u001b[0;36mcheck_component_state\u001b[0;34m(self, component, desired_state)\u001b[0m\n\u001b[1;32m    453\u001b[0m                 \u001b[0mself\u001b[0m\u001b[0;34m.\u001b[0m\u001b[0mlog\u001b[0m\u001b[0;34m.\u001b[0m\u001b[0mwarning\u001b[0m\u001b[0;34m(\u001b[0m\u001b[0;34mf\"{component} not in {desired_state!r}: {state!r}\"\u001b[0m\u001b[0;34m)\u001b[0m\u001b[0;34m\u001b[0m\u001b[0;34m\u001b[0m\u001b[0m\n\u001b[1;32m    454\u001b[0m                 raise RuntimeError(\n\u001b[0;32m--> 455\u001b[0;31m                     \u001b[0;34mf\"{component} state is {state!r}, expected {desired_state!r}\"\u001b[0m\u001b[0;34m\u001b[0m\u001b[0;34m\u001b[0m\u001b[0m\n\u001b[0m\u001b[1;32m    456\u001b[0m                 )\n\u001b[1;32m    457\u001b[0m             \u001b[0;32melse\u001b[0m\u001b[0;34m:\u001b[0m\u001b[0;34m\u001b[0m\u001b[0;34m\u001b[0m\u001b[0m\n",
      "\u001b[0;31mRuntimeError\u001b[0m: atptg state is <State.FAULT: 3>, expected <State.ENABLED: 2>"
     ]
    }
   ],
   "source": [
    "# Saturated so moving to HIP 26739\n",
    "# rot_type=2 is parallactic\n",
    "await atcs.slew_object('HIP 26739', rot=0.0, rot_type=2)"
   ]
  },
  {
   "cell_type": "code",
   "execution_count": 36,
   "metadata": {},
   "outputs": [
    {
     "data": {
      "text/plain": [
       "[<State.FAULT: 3>, <State.STANDBY: 5>, <State.DISABLED: 1>, <State.ENABLED: 2>]"
      ]
     },
     "execution_count": 36,
     "metadata": {},
     "output_type": "execute_result"
    }
   ],
   "source": [
    "# pointing/mount hit limit\n",
    "await salobj.set_summary_state(atcs.rem.atptg, salobj.State.ENABLED)"
   ]
  },
  {
   "cell_type": "code",
   "execution_count": 37,
   "metadata": {
    "collapsed": true,
    "jupyter": {
     "outputs_hidden": true
    }
   },
   "outputs": [
    {
     "name": "stdout",
     "output_type": "stream",
     "text": [
      "Slewing to HIP 26739: 05 40 54.4326 -31 59 46.800\n",
      "Setting rotator physical position to 0.0 deg. Rotator will track sky.\n",
      "Parallactic angle: -72.44317688139718 | Sky Angle: 23.071401087577726\n",
      "Sending command\n",
      "Stop tracking.\n",
      "Scheduling check coroutines\n",
      "process as completed...\n",
      "atmcs: <State.ENABLED: 2>\n",
      "atptg: <State.ENABLED: 2>\n",
      "ataos: <State.ENABLED: 2>\n",
      "atpneumatics: <State.ENABLED: 2>\n",
      "athexapod: <State.ENABLED: 2>\n",
      "atdome: <State.ENABLED: 2>\n",
      "atdometrajectory: <State.ENABLED: 2>\n",
      "[Telescope] delta Alt = +000.645 deg; delta Az = +001.806 deg; delta N1 = +000.800 deg; delta N2 = +174.509 deg [Dome] delta Az = -002.879 deg\n",
      "ATDome in position.\n",
      "[Telescope] delta Alt = +000.002 deg; delta Az = +000.202 deg; delta N1 = +000.000 deg; delta N2 = +173.513 deg [Dome] delta Az = -002.879 deg\n",
      "[Telescope] delta Alt = +000.001 deg; delta Az = +000.002 deg; delta N1 = +000.007 deg; delta N2 = +172.008 deg [Dome] delta Az = -002.879 deg\n",
      "[Telescope] delta Alt = +000.000 deg; delta Az = +000.001 deg; delta N1 = +000.009 deg; delta N2 = +170.511 deg [Dome] delta Az = -002.879 deg\n",
      "[Telescope] delta Alt = +000.001 deg; delta Az = +000.002 deg; delta N1 = +000.008 deg; delta N2 = +167.808 deg [Dome] delta Az = -002.879 deg\n",
      "[Telescope] delta Alt = +000.001 deg; delta Az = +000.003 deg; delta N1 = +000.007 deg; delta N2 = +161.803 deg [Dome] delta Az = -002.879 deg\n",
      "[Telescope] delta Alt = +000.001 deg; delta Az = +000.002 deg; delta N1 = -000.002 deg; delta N2 = +157.809 deg [Dome] delta Az = -002.879 deg\n",
      "[Telescope] delta Alt = +000.001 deg; delta Az = +000.003 deg; delta N1 = +000.007 deg; delta N2 = +151.819 deg [Dome] delta Az = -002.879 deg\n",
      "[Telescope] delta Alt = +000.000 deg; delta Az = +000.002 deg; delta N1 = +000.008 deg; delta N2 = +145.811 deg [Dome] delta Az = -002.879 deg\n",
      "[Telescope] delta Alt = +000.001 deg; delta Az = +000.003 deg; delta N1 = +000.007 deg; delta N2 = +139.811 deg [Dome] delta Az = -002.879 deg\n",
      "[Telescope] delta Alt = +000.000 deg; delta Az = +000.002 deg; delta N1 = +000.008 deg; delta N2 = +133.813 deg [Dome] delta Az = -002.879 deg\n",
      "[Telescope] delta Alt = +000.001 deg; delta Az = +000.003 deg; delta N1 = -000.003 deg; delta N2 = +129.818 deg [Dome] delta Az = -002.879 deg\n",
      "[Telescope] delta Alt = +000.001 deg; delta Az = +000.003 deg; delta N1 = -000.003 deg; delta N2 = +125.812 deg [Dome] delta Az = -002.879 deg\n",
      "[Telescope] delta Alt = +000.001 deg; delta Az = +000.002 deg; delta N1 = +000.008 deg; delta N2 = +119.814 deg [Dome] delta Az = -002.879 deg\n",
      "[Telescope] delta Alt = +000.001 deg; delta Az = +000.003 deg; delta N1 = +000.007 deg; delta N2 = +113.810 deg [Dome] delta Az = -002.879 deg\n",
      "[Telescope] delta Alt = +000.001 deg; delta Az = +000.002 deg; delta N1 = +000.009 deg; delta N2 = +107.810 deg [Dome] delta Az = -002.879 deg\n",
      "[Telescope] delta Alt = +000.001 deg; delta Az = +000.003 deg; delta N1 = +000.007 deg; delta N2 = +101.814 deg [Dome] delta Az = -002.879 deg\n",
      "[Telescope] delta Alt = +000.001 deg; delta Az = +000.002 deg; delta N1 = +000.008 deg; delta N2 = +095.817 deg [Dome] delta Az = -002.879 deg\n",
      "[Telescope] delta Alt = +000.000 deg; delta Az = +000.001 deg; delta N1 = -000.001 deg; delta N2 = +091.809 deg [Dome] delta Az = -002.879 deg\n",
      "[Telescope] delta Alt = +000.001 deg; delta Az = +000.002 deg; delta N1 = +000.009 deg; delta N2 = +085.816 deg [Dome] delta Az = -002.879 deg\n",
      "[Telescope] delta Alt = +000.001 deg; delta Az = +000.003 deg; delta N1 = +000.008 deg; delta N2 = +079.818 deg [Dome] delta Az = -002.879 deg\n",
      "[Telescope] delta Alt = +000.001 deg; delta Az = +000.002 deg; delta N1 = -000.002 deg; delta N2 = +075.807 deg [Dome] delta Az = -002.879 deg\n",
      "[Telescope] delta Alt = +000.001 deg; delta Az = +000.003 deg; delta N1 = +000.008 deg; delta N2 = +069.812 deg [Dome] delta Az = -002.879 deg\n",
      "[Telescope] delta Alt = +000.001 deg; delta Az = +000.004 deg; delta N1 = +000.007 deg; delta N2 = +063.810 deg [Dome] delta Az = -002.879 deg\n",
      "[Telescope] delta Alt = +000.001 deg; delta Az = +000.003 deg; delta N1 = +000.008 deg; delta N2 = +057.810 deg [Dome] delta Az = -002.879 deg\n",
      "[Telescope] delta Alt = +000.000 deg; delta Az = +000.002 deg; delta N1 = +000.009 deg; delta N2 = +051.814 deg [Dome] delta Az = -002.879 deg\n",
      "[Telescope] delta Alt = +000.001 deg; delta Az = +000.003 deg; delta N1 = +000.008 deg; delta N2 = +045.812 deg [Dome] delta Az = -002.879 deg\n",
      "[Telescope] delta Alt = +000.000 deg; delta Az = +000.001 deg; delta N1 = +000.010 deg; delta N2 = +039.818 deg [Dome] delta Az = -002.879 deg\n",
      "[Telescope] delta Alt = +000.001 deg; delta Az = +000.003 deg; delta N1 = +000.008 deg; delta N2 = +033.816 deg [Dome] delta Az = -002.879 deg\n",
      "[Telescope] delta Alt = +000.000 deg; delta Az = +000.001 deg; delta N1 = +000.010 deg; delta N2 = +027.810 deg [Dome] delta Az = -002.879 deg\n",
      "[Telescope] delta Alt = +000.001 deg; delta Az = +000.002 deg; delta N1 = +000.009 deg; delta N2 = +021.853 deg [Dome] delta Az = -002.879 deg\n",
      "[Telescope] delta Alt = +000.000 deg; delta Az = +000.002 deg; delta N1 = +000.009 deg; delta N2 = +016.111 deg [Dome] delta Az = -002.879 deg\n",
      "[Telescope] delta Alt = +000.001 deg; delta Az = +000.003 deg; delta N1 = +000.008 deg; delta N2 = +010.903 deg [Dome] delta Az = -002.879 deg\n",
      "[Telescope] delta Alt = +000.001 deg; delta Az = +000.004 deg; delta N1 = -000.004 deg; delta N2 = +007.874 deg [Dome] delta Az = -002.879 deg\n",
      "[Telescope] delta Alt = +000.001 deg; delta Az = +000.002 deg; delta N1 = +000.009 deg; delta N2 = +004.195 deg [Dome] delta Az = -002.879 deg\n",
      "[Telescope] delta Alt = +000.001 deg; delta Az = +000.004 deg; delta N1 = +000.008 deg; delta N2 = +001.698 deg [Dome] delta Az = -002.879 deg\n",
      "[Telescope] delta Alt = +000.001 deg; delta Az = +000.002 deg; delta N1 = +000.009 deg; delta N2 = +000.391 deg [Dome] delta Az = -002.879 deg\n",
      "[Telescope] delta Alt = +000.001 deg; delta Az = +000.004 deg; delta N1 = -000.004 deg; delta N2 = +000.064 deg [Dome] delta Az = -002.879 deg\n"
     ]
    },
    {
     "ename": "CancelledError",
     "evalue": "",
     "output_type": "error",
     "traceback": [
      "\u001b[0;31m---------------------------------------------------------------------------\u001b[0m",
      "\u001b[0;31mCancelledError\u001b[0m                            Traceback (most recent call last)",
      "\u001b[0;32m<ipython-input-37-6065d3811461>\u001b[0m in \u001b[0;36masync-def-wrapper\u001b[0;34m()\u001b[0m\n",
      "\u001b[0;32m~/repos/ts_observatory_control/python/lsst/ts/observatory/control/base_tcs.py\u001b[0m in \u001b[0;36mslew_object\u001b[0;34m(self, name, rot, rot_type, slew_timeout)\u001b[0m\n\u001b[1;32m    182\u001b[0m             \u001b[0mrot_type\u001b[0m\u001b[0;34m=\u001b[0m\u001b[0mrot_type\u001b[0m\u001b[0;34m,\u001b[0m\u001b[0;34m\u001b[0m\u001b[0;34m\u001b[0m\u001b[0m\n\u001b[1;32m    183\u001b[0m             \u001b[0mtarget_name\u001b[0m\u001b[0;34m=\u001b[0m\u001b[0mname\u001b[0m\u001b[0;34m,\u001b[0m\u001b[0;34m\u001b[0m\u001b[0;34m\u001b[0m\u001b[0m\n\u001b[0;32m--> 184\u001b[0;31m             \u001b[0mslew_timeout\u001b[0m\u001b[0;34m=\u001b[0m\u001b[0mslew_timeout\u001b[0m\u001b[0;34m,\u001b[0m\u001b[0;34m\u001b[0m\u001b[0;34m\u001b[0m\u001b[0m\n\u001b[0m\u001b[1;32m    185\u001b[0m         )\n\u001b[1;32m    186\u001b[0m \u001b[0;34m\u001b[0m\u001b[0m\n",
      "\u001b[0;32m~/repos/ts_observatory_control/python/lsst/ts/observatory/control/base_tcs.py\u001b[0m in \u001b[0;36mslew_icrs\u001b[0;34m(self, ra, dec, rot, rot_type, target_name, slew_timeout, stop_before_slew, wait_settle)\u001b[0m\n\u001b[1;32m    345\u001b[0m             \u001b[0mslew_timeout\u001b[0m\u001b[0;34m=\u001b[0m\u001b[0mslew_timeout\u001b[0m\u001b[0;34m,\u001b[0m\u001b[0;34m\u001b[0m\u001b[0;34m\u001b[0m\u001b[0m\n\u001b[1;32m    346\u001b[0m             \u001b[0mstop_before_slew\u001b[0m\u001b[0;34m=\u001b[0m\u001b[0mstop_before_slew\u001b[0m\u001b[0;34m,\u001b[0m\u001b[0;34m\u001b[0m\u001b[0;34m\u001b[0m\u001b[0m\n\u001b[0;32m--> 347\u001b[0;31m             \u001b[0mwait_settle\u001b[0m\u001b[0;34m=\u001b[0m\u001b[0mwait_settle\u001b[0m\u001b[0;34m,\u001b[0m\u001b[0;34m\u001b[0m\u001b[0;34m\u001b[0m\u001b[0m\n\u001b[0m\u001b[1;32m    348\u001b[0m         )\n\u001b[1;32m    349\u001b[0m \u001b[0;34m\u001b[0m\u001b[0m\n",
      "\u001b[0;32m~/repos/ts_observatory_control/python/lsst/ts/observatory/control/base_tcs.py\u001b[0m in \u001b[0;36mslew\u001b[0;34m(self, ra, dec, rotPA, target_name, frame, epoch, equinox, parallax, pmRA, pmDec, rv, dRA, dDec, rot_frame, rot_mode, slew_timeout, stop_before_slew, wait_settle)\u001b[0m\n\u001b[1;32m    439\u001b[0m             \u001b[0mslew_timeout\u001b[0m\u001b[0;34m=\u001b[0m\u001b[0mslew_timeout\u001b[0m\u001b[0;34m,\u001b[0m\u001b[0;34m\u001b[0m\u001b[0;34m\u001b[0m\u001b[0m\n\u001b[1;32m    440\u001b[0m             \u001b[0mstop_before_slew\u001b[0m\u001b[0;34m=\u001b[0m\u001b[0mstop_before_slew\u001b[0m\u001b[0;34m,\u001b[0m\u001b[0;34m\u001b[0m\u001b[0;34m\u001b[0m\u001b[0m\n\u001b[0;32m--> 441\u001b[0;31m             \u001b[0mwait_settle\u001b[0m\u001b[0;34m=\u001b[0m\u001b[0mwait_settle\u001b[0m\u001b[0;34m,\u001b[0m\u001b[0;34m\u001b[0m\u001b[0;34m\u001b[0m\u001b[0m\n\u001b[0m\u001b[1;32m    442\u001b[0m         )\n\u001b[1;32m    443\u001b[0m \u001b[0;34m\u001b[0m\u001b[0m\n",
      "\u001b[0;32m~/repos/ts_observatory_control/python/lsst/ts/observatory/control/auxtel/atcs.py\u001b[0m in \u001b[0;36m_slew_to\u001b[0;34m(self, slew_cmd, slew_timeout, stop_before_slew, wait_settle)\u001b[0m\n\u001b[1;32m    885\u001b[0m                 )\n\u001b[1;32m    886\u001b[0m \u001b[0;34m\u001b[0m\u001b[0m\n\u001b[0;32m--> 887\u001b[0;31m         \u001b[0;32mawait\u001b[0m \u001b[0mself\u001b[0m\u001b[0;34m.\u001b[0m\u001b[0mprocess_as_completed\u001b[0m\u001b[0;34m(\u001b[0m\u001b[0mself\u001b[0m\u001b[0;34m.\u001b[0m\u001b[0mscheduled_coro\u001b[0m\u001b[0;34m)\u001b[0m\u001b[0;34m\u001b[0m\u001b[0;34m\u001b[0m\u001b[0m\n\u001b[0m\u001b[1;32m    888\u001b[0m \u001b[0;34m\u001b[0m\u001b[0m\n\u001b[1;32m    889\u001b[0m     \u001b[0;32masync\u001b[0m \u001b[0;32mdef\u001b[0m \u001b[0mget_bore_sight_angle\u001b[0m\u001b[0;34m(\u001b[0m\u001b[0mself\u001b[0m\u001b[0;34m)\u001b[0m\u001b[0;34m:\u001b[0m\u001b[0;34m\u001b[0m\u001b[0;34m\u001b[0m\u001b[0m\n",
      "\u001b[0;32m~/repos/ts_observatory_control/python/lsst/ts/observatory/control/remote_group.py\u001b[0m in \u001b[0;36mprocess_as_completed\u001b[0;34m(self, tasks)\u001b[0m\n\u001b[1;32m    849\u001b[0m             \u001b[0;32mexcept\u001b[0m \u001b[0mException\u001b[0m \u001b[0;32mas\u001b[0m \u001b[0me\u001b[0m\u001b[0;34m:\u001b[0m\u001b[0;34m\u001b[0m\u001b[0;34m\u001b[0m\u001b[0m\n\u001b[1;32m    850\u001b[0m                 \u001b[0;32mawait\u001b[0m \u001b[0mself\u001b[0m\u001b[0;34m.\u001b[0m\u001b[0mcancel_not_done\u001b[0m\u001b[0;34m(\u001b[0m\u001b[0mtasks\u001b[0m\u001b[0;34m)\u001b[0m\u001b[0;34m\u001b[0m\u001b[0;34m\u001b[0m\u001b[0m\n\u001b[0;32m--> 851\u001b[0;31m                 \u001b[0;32mraise\u001b[0m \u001b[0me\u001b[0m\u001b[0;34m\u001b[0m\u001b[0;34m\u001b[0m\u001b[0m\n\u001b[0m\u001b[1;32m    852\u001b[0m             \u001b[0;32melse\u001b[0m\u001b[0;34m:\u001b[0m\u001b[0;34m\u001b[0m\u001b[0;34m\u001b[0m\u001b[0m\n\u001b[1;32m    853\u001b[0m                 \u001b[0;32mawait\u001b[0m \u001b[0mself\u001b[0m\u001b[0;34m.\u001b[0m\u001b[0mcancel_not_done\u001b[0m\u001b[0;34m(\u001b[0m\u001b[0mtasks\u001b[0m\u001b[0;34m)\u001b[0m\u001b[0;34m\u001b[0m\u001b[0;34m\u001b[0m\u001b[0m\n",
      "\u001b[0;32m~/repos/ts_observatory_control/python/lsst/ts/observatory/control/remote_group.py\u001b[0m in \u001b[0;36mprocess_as_completed\u001b[0;34m(self, tasks)\u001b[0m\n\u001b[1;32m    846\u001b[0m         \u001b[0;32mfor\u001b[0m \u001b[0mres\u001b[0m \u001b[0;32min\u001b[0m \u001b[0masyncio\u001b[0m\u001b[0;34m.\u001b[0m\u001b[0mas_completed\u001b[0m\u001b[0;34m(\u001b[0m\u001b[0mtasks\u001b[0m\u001b[0;34m)\u001b[0m\u001b[0;34m:\u001b[0m\u001b[0;34m\u001b[0m\u001b[0;34m\u001b[0m\u001b[0m\n\u001b[1;32m    847\u001b[0m             \u001b[0;32mtry\u001b[0m\u001b[0;34m:\u001b[0m\u001b[0;34m\u001b[0m\u001b[0;34m\u001b[0m\u001b[0m\n\u001b[0;32m--> 848\u001b[0;31m                 \u001b[0mret_val\u001b[0m \u001b[0;34m=\u001b[0m \u001b[0;32mawait\u001b[0m \u001b[0mres\u001b[0m\u001b[0;34m\u001b[0m\u001b[0;34m\u001b[0m\u001b[0m\n\u001b[0m\u001b[1;32m    849\u001b[0m             \u001b[0;32mexcept\u001b[0m \u001b[0mException\u001b[0m \u001b[0;32mas\u001b[0m \u001b[0me\u001b[0m\u001b[0;34m:\u001b[0m\u001b[0;34m\u001b[0m\u001b[0;34m\u001b[0m\u001b[0m\n\u001b[1;32m    850\u001b[0m                 \u001b[0;32mawait\u001b[0m \u001b[0mself\u001b[0m\u001b[0;34m.\u001b[0m\u001b[0mcancel_not_done\u001b[0m\u001b[0;34m(\u001b[0m\u001b[0mtasks\u001b[0m\u001b[0;34m)\u001b[0m\u001b[0;34m\u001b[0m\u001b[0;34m\u001b[0m\u001b[0m\n",
      "\u001b[0;32m/opt/lsst/software/stack/conda/miniconda3-py37_4.8.2/envs/lsst-scipipe-cb4e2dc/lib/python3.7/asyncio/tasks.py\u001b[0m in \u001b[0;36m_wait_for_one\u001b[0;34m()\u001b[0m\n\u001b[1;32m    554\u001b[0m \u001b[0;34m\u001b[0m\u001b[0m\n\u001b[1;32m    555\u001b[0m     \u001b[0;32masync\u001b[0m \u001b[0;32mdef\u001b[0m \u001b[0m_wait_for_one\u001b[0m\u001b[0;34m(\u001b[0m\u001b[0;34m)\u001b[0m\u001b[0;34m:\u001b[0m\u001b[0;34m\u001b[0m\u001b[0;34m\u001b[0m\u001b[0m\n\u001b[0;32m--> 556\u001b[0;31m         \u001b[0mf\u001b[0m \u001b[0;34m=\u001b[0m \u001b[0;32mawait\u001b[0m \u001b[0mdone\u001b[0m\u001b[0;34m.\u001b[0m\u001b[0mget\u001b[0m\u001b[0;34m(\u001b[0m\u001b[0;34m)\u001b[0m\u001b[0;34m\u001b[0m\u001b[0;34m\u001b[0m\u001b[0m\n\u001b[0m\u001b[1;32m    557\u001b[0m         \u001b[0;32mif\u001b[0m \u001b[0mf\u001b[0m \u001b[0;32mis\u001b[0m \u001b[0;32mNone\u001b[0m\u001b[0;34m:\u001b[0m\u001b[0;34m\u001b[0m\u001b[0;34m\u001b[0m\u001b[0m\n\u001b[1;32m    558\u001b[0m             \u001b[0;31m# Dummy value from _on_timeout().\u001b[0m\u001b[0;34m\u001b[0m\u001b[0;34m\u001b[0m\u001b[0;34m\u001b[0m\u001b[0m\n",
      "\u001b[0;32m/opt/lsst/software/stack/conda/miniconda3-py37_4.8.2/envs/lsst-scipipe-cb4e2dc/lib/python3.7/asyncio/queues.py\u001b[0m in \u001b[0;36mget\u001b[0;34m(self)\u001b[0m\n\u001b[1;32m    157\u001b[0m             \u001b[0mself\u001b[0m\u001b[0;34m.\u001b[0m\u001b[0m_getters\u001b[0m\u001b[0;34m.\u001b[0m\u001b[0mappend\u001b[0m\u001b[0;34m(\u001b[0m\u001b[0mgetter\u001b[0m\u001b[0;34m)\u001b[0m\u001b[0;34m\u001b[0m\u001b[0;34m\u001b[0m\u001b[0m\n\u001b[1;32m    158\u001b[0m             \u001b[0;32mtry\u001b[0m\u001b[0;34m:\u001b[0m\u001b[0;34m\u001b[0m\u001b[0;34m\u001b[0m\u001b[0m\n\u001b[0;32m--> 159\u001b[0;31m                 \u001b[0;32mawait\u001b[0m \u001b[0mgetter\u001b[0m\u001b[0;34m\u001b[0m\u001b[0;34m\u001b[0m\u001b[0m\n\u001b[0m\u001b[1;32m    160\u001b[0m             \u001b[0;32mexcept\u001b[0m\u001b[0;34m:\u001b[0m\u001b[0;34m\u001b[0m\u001b[0;34m\u001b[0m\u001b[0m\n\u001b[1;32m    161\u001b[0m                 \u001b[0mgetter\u001b[0m\u001b[0;34m.\u001b[0m\u001b[0mcancel\u001b[0m\u001b[0;34m(\u001b[0m\u001b[0;34m)\u001b[0m  \u001b[0;31m# Just in case getter is not done yet.\u001b[0m\u001b[0;34m\u001b[0m\u001b[0;34m\u001b[0m\u001b[0m\n",
      "\u001b[0;31mCancelledError\u001b[0m: "
     ]
    }
   ],
   "source": [
    "# Need to manually say which rotator we're using at the moment (N2-->focus=3, N1-->focus=2)\n",
    "await atcs.slew_object('HIP 26739', rot=0.0, rot_type=3)"
   ]
  },
  {
   "cell_type": "code",
   "execution_count": 39,
   "metadata": {},
   "outputs": [
    {
     "name": "stdout",
     "output_type": "stream",
     "text": [
      "Stop tracking.\n",
      "Unknown tracking state: 9.\n",
      "Unknown tracking state: 10.\n"
     ]
    }
   ],
   "source": [
    "await atcs.stop_tracking()"
   ]
  },
  {
   "cell_type": "code",
   "execution_count": 40,
   "metadata": {
    "collapsed": true,
    "jupyter": {
     "outputs_hidden": true
    }
   },
   "outputs": [
    {
     "ename": "RuntimeError",
     "evalue": "Error on cmd=cmd_exitControl, initial_state=2: msg='Timed out waiting for command acknowledgement', ackcmd=(ackcmd private_seqNum=565310865, ack=<SalRetCode.OK: 0>, error=0, result='')",
     "output_type": "error",
     "traceback": [
      "\u001b[0;31m---------------------------------------------------------------------------\u001b[0m",
      "\u001b[0;31mTimeoutError\u001b[0m                              Traceback (most recent call last)",
      "\u001b[0;32m/opt/lsst/src/ts_salobj/python/lsst/ts/salobj/topics/remote_command.py\u001b[0m in \u001b[0;36mnext_ackcmd\u001b[0;34m(self, timeout)\u001b[0m\n\u001b[1;32m    180\u001b[0m             )\n\u001b[0;32m--> 181\u001b[0;31m             \u001b[0mackcmd\u001b[0m \u001b[0;34m=\u001b[0m \u001b[0;32mawait\u001b[0m \u001b[0mself\u001b[0m\u001b[0;34m.\u001b[0m\u001b[0m_wait_task\u001b[0m\u001b[0;34m\u001b[0m\u001b[0;34m\u001b[0m\u001b[0m\n\u001b[0m\u001b[1;32m    182\u001b[0m             \u001b[0;32mif\u001b[0m \u001b[0mackcmd\u001b[0m\u001b[0;34m.\u001b[0m\u001b[0mack\u001b[0m \u001b[0;32min\u001b[0m \u001b[0mself\u001b[0m\u001b[0;34m.\u001b[0m\u001b[0mfailed_ack_codes\u001b[0m\u001b[0;34m:\u001b[0m\u001b[0;34m\u001b[0m\u001b[0;34m\u001b[0m\u001b[0m\n",
      "\u001b[0;32m/opt/lsst/src/ts_salobj/python/lsst/ts/salobj/topics/remote_command.py\u001b[0m in \u001b[0;36m_basic_next_ackcmd\u001b[0;34m(self, timeout)\u001b[0m\n\u001b[1;32m    207\u001b[0m             ackcmd = await asyncio.wait_for(\n\u001b[0;32m--> 208\u001b[0;31m                 \u001b[0mself\u001b[0m\u001b[0;34m.\u001b[0m\u001b[0m_get_next_ackcmd\u001b[0m\u001b[0;34m(\u001b[0m\u001b[0;34m)\u001b[0m\u001b[0;34m,\u001b[0m \u001b[0mtimeout\u001b[0m\u001b[0;34m=\u001b[0m\u001b[0mtimeout\u001b[0m \u001b[0;34m-\u001b[0m \u001b[0melapsed_time\u001b[0m\u001b[0;34m\u001b[0m\u001b[0;34m\u001b[0m\u001b[0m\n\u001b[0m\u001b[1;32m    209\u001b[0m             )\n",
      "\u001b[0;32m/opt/lsst/software/stack/conda/miniconda3-py37_4.8.2/envs/lsst-scipipe-cb4e2dc/lib/python3.7/asyncio/tasks.py\u001b[0m in \u001b[0;36mwait_for\u001b[0;34m(fut, timeout, loop)\u001b[0m\n\u001b[1;32m    448\u001b[0m             \u001b[0;32mawait\u001b[0m \u001b[0m_cancel_and_wait\u001b[0m\u001b[0;34m(\u001b[0m\u001b[0mfut\u001b[0m\u001b[0;34m,\u001b[0m \u001b[0mloop\u001b[0m\u001b[0;34m=\u001b[0m\u001b[0mloop\u001b[0m\u001b[0;34m)\u001b[0m\u001b[0;34m\u001b[0m\u001b[0;34m\u001b[0m\u001b[0m\n\u001b[0;32m--> 449\u001b[0;31m             \u001b[0;32mraise\u001b[0m \u001b[0mfutures\u001b[0m\u001b[0;34m.\u001b[0m\u001b[0mTimeoutError\u001b[0m\u001b[0;34m(\u001b[0m\u001b[0;34m)\u001b[0m\u001b[0;34m\u001b[0m\u001b[0;34m\u001b[0m\u001b[0m\n\u001b[0m\u001b[1;32m    450\u001b[0m     \u001b[0;32mfinally\u001b[0m\u001b[0;34m:\u001b[0m\u001b[0;34m\u001b[0m\u001b[0;34m\u001b[0m\u001b[0m\n",
      "\u001b[0;31mTimeoutError\u001b[0m: ",
      "\nDuring handling of the above exception, another exception occurred:\n",
      "\u001b[0;31mAckTimeoutError\u001b[0m                           Traceback (most recent call last)",
      "\u001b[0;32m/opt/lsst/src/ts_salobj/python/lsst/ts/salobj/csc_utils.py\u001b[0m in \u001b[0;36mset_summary_state\u001b[0;34m(remote, state, settingsToApply, timeout)\u001b[0m\n\u001b[1;32m    133\u001b[0m             \u001b[0;32mtry\u001b[0m\u001b[0;34m:\u001b[0m\u001b[0;34m\u001b[0m\u001b[0;34m\u001b[0m\u001b[0m\n\u001b[0;32m--> 134\u001b[0;31m                 \u001b[0;32mawait\u001b[0m \u001b[0mcmd\u001b[0m\u001b[0;34m.\u001b[0m\u001b[0mstart\u001b[0m\u001b[0;34m(\u001b[0m\u001b[0mtimeout\u001b[0m\u001b[0;34m=\u001b[0m\u001b[0mtimeout\u001b[0m\u001b[0;34m)\u001b[0m\u001b[0;34m\u001b[0m\u001b[0;34m\u001b[0m\u001b[0m\n\u001b[0m\u001b[1;32m    135\u001b[0m             \u001b[0;32mexcept\u001b[0m \u001b[0mException\u001b[0m \u001b[0;32mas\u001b[0m \u001b[0me\u001b[0m\u001b[0;34m:\u001b[0m\u001b[0;34m\u001b[0m\u001b[0;34m\u001b[0m\u001b[0m\n",
      "\u001b[0;32m/opt/lsst/src/ts_salobj/python/lsst/ts/salobj/topics/remote_command.py\u001b[0m in \u001b[0;36mstart\u001b[0;34m(self, data, timeout, wait_done)\u001b[0m\n\u001b[1;32m    445\u001b[0m         \u001b[0mself\u001b[0m\u001b[0;34m.\u001b[0m\u001b[0msalinfo\u001b[0m\u001b[0;34m.\u001b[0m\u001b[0m_running_cmds\u001b[0m\u001b[0;34m[\u001b[0m\u001b[0mseq_num\u001b[0m\u001b[0;34m]\u001b[0m \u001b[0;34m=\u001b[0m \u001b[0mcmd_info\u001b[0m\u001b[0;34m\u001b[0m\u001b[0;34m\u001b[0m\u001b[0m\n\u001b[0;32m--> 446\u001b[0;31m         \u001b[0;32mreturn\u001b[0m \u001b[0;32mawait\u001b[0m \u001b[0mcmd_info\u001b[0m\u001b[0;34m.\u001b[0m\u001b[0mnext_ackcmd\u001b[0m\u001b[0;34m(\u001b[0m\u001b[0mtimeout\u001b[0m\u001b[0;34m=\u001b[0m\u001b[0mtimeout\u001b[0m\u001b[0;34m)\u001b[0m\u001b[0;34m\u001b[0m\u001b[0;34m\u001b[0m\u001b[0m\n\u001b[0m",
      "\u001b[0;32m/opt/lsst/src/ts_salobj/python/lsst/ts/salobj/topics/remote_command.py\u001b[0m in \u001b[0;36mnext_ackcmd\u001b[0;34m(self, timeout)\u001b[0m\n\u001b[1;32m    197\u001b[0m             raise base.AckTimeoutError(\n\u001b[0;32m--> 198\u001b[0;31m                 \u001b[0mmsg\u001b[0m\u001b[0;34m=\u001b[0m\u001b[0;34m\"Timed out waiting for command acknowledgement\"\u001b[0m\u001b[0;34m,\u001b[0m \u001b[0mackcmd\u001b[0m\u001b[0;34m=\u001b[0m\u001b[0mlast_ackcmd\u001b[0m\u001b[0;34m\u001b[0m\u001b[0;34m\u001b[0m\u001b[0m\n\u001b[0m\u001b[1;32m    199\u001b[0m             )\n",
      "\u001b[0;31mAckTimeoutError\u001b[0m: msg='Timed out waiting for command acknowledgement', ackcmd=(ackcmd private_seqNum=565310865, ack=<SalRetCode.OK: 0>, error=0, result='')",
      "\nThe above exception was the direct cause of the following exception:\n",
      "\u001b[0;31mRuntimeError\u001b[0m                              Traceback (most recent call last)",
      "\u001b[0;32m<ipython-input-40-c8ac031ba67d>\u001b[0m in \u001b[0;36masync-def-wrapper\u001b[0;34m()\u001b[0m\n",
      "\u001b[0;32m/opt/lsst/src/ts_salobj/python/lsst/ts/salobj/csc_utils.py\u001b[0m in \u001b[0;36mset_summary_state\u001b[0;34m(remote, state, settingsToApply, timeout)\u001b[0m\n\u001b[1;32m    136\u001b[0m                 raise RuntimeError(\n\u001b[1;32m    137\u001b[0m                     \u001b[0;34mf\"Error on cmd=cmd_{command}, initial_state={current_state}: {e}\"\u001b[0m\u001b[0;34m\u001b[0m\u001b[0;34m\u001b[0m\u001b[0m\n\u001b[0;32m--> 138\u001b[0;31m                 ) from e\n\u001b[0m\u001b[1;32m    139\u001b[0m             \u001b[0mstates\u001b[0m\u001b[0;34m.\u001b[0m\u001b[0mappend\u001b[0m\u001b[0;34m(\u001b[0m\u001b[0mstate\u001b[0m\u001b[0;34m)\u001b[0m\u001b[0;34m\u001b[0m\u001b[0;34m\u001b[0m\u001b[0m\n\u001b[1;32m    140\u001b[0m     \u001b[0;32mfinally\u001b[0m\u001b[0;34m:\u001b[0m\u001b[0;34m\u001b[0m\u001b[0;34m\u001b[0m\u001b[0m\n",
      "\u001b[0;31mRuntimeError\u001b[0m: Error on cmd=cmd_exitControl, initial_state=2: msg='Timed out waiting for command acknowledgement', ackcmd=(ackcmd private_seqNum=565310865, ack=<SalRetCode.OK: 0>, error=0, result='')"
     ]
    }
   ],
   "source": [
    "# going to reload the atptg\n",
    "# pointing/mount hit limit\n",
    "await salobj.set_summary_state(atcs.rem.atptg, salobj.State.OFFLINE)"
   ]
  },
  {
   "cell_type": "code",
   "execution_count": 54,
   "metadata": {},
   "outputs": [
    {
     "data": {
      "text/plain": [
       "[<State.FAULT: 3>, <State.STANDBY: 5>]"
      ]
     },
     "execution_count": 54,
     "metadata": {},
     "output_type": "execute_result"
    }
   ],
   "source": [
    "await salobj.set_summary_state(atcs.rem.atptg, salobj.State.STANDBY)"
   ]
  },
  {
   "cell_type": "code",
   "execution_count": 55,
   "metadata": {},
   "outputs": [
    {
     "data": {
      "text/plain": [
       "[<State.STANDBY: 5>, <State.DISABLED: 1>, <State.ENABLED: 2>]"
      ]
     },
     "execution_count": 55,
     "metadata": {},
     "output_type": "execute_result"
    }
   ],
   "source": [
    "# going to reload the atptg\n",
    "# pointing/mount hit limit\n",
    "#await asyncio.sleep(1)\n",
    "await salobj.set_summary_state(atcs.rem.atptg, salobj.State.ENABLED)"
   ]
  },
  {
   "cell_type": "code",
   "execution_count": 58,
   "metadata": {},
   "outputs": [
    {
     "name": "stdout",
     "output_type": "stream",
     "text": [
      "Stop tracking.\n",
      "Unknown tracking state: 9.\n",
      "Unknown tracking state: 10.\n"
     ]
    }
   ],
   "source": [
    "await atcs.stop_tracking()"
   ]
  },
  {
   "cell_type": "code",
   "execution_count": 59,
   "metadata": {},
   "outputs": [
    {
     "name": "stdout",
     "output_type": "stream",
     "text": [
      "Resetting dropped connection: simbad.u-strasbg.fr\n",
      "http://simbad.u-strasbg.fr:80 \"POST /simbad/sim-script HTTP/1.1\" 200 None\n",
      "Slewing to HD 61597: 07 37 32.1273 -51 25 16.920\n",
      "Setting rotator physical position to 0.0 deg. Rotator will track sky.\n",
      "Parallactic angle: -54.6698742512308 | Sky Angle: 64.8617924836916\n",
      "Sending command\n",
      "Stop tracking.\n",
      "Scheduling check coroutines\n",
      "process as completed...\n",
      "atmcs: <State.ENABLED: 2>\n",
      "atptg: <State.ENABLED: 2>\n",
      "ataos: <State.ENABLED: 2>\n",
      "atpneumatics: <State.ENABLED: 2>\n",
      "athexapod: <State.ENABLED: 2>\n",
      "atdome: <State.ENABLED: 2>\n",
      "atdometrajectory: <State.ENABLED: 2>\n",
      "[Telescope] delta Alt = -019.249 deg; delta Az = -008.510 deg; delta N1 = +000.000 deg; delta N2 = +003.213 deg [Dome] delta Az = -003.038 deg\n",
      "ATDome in position.\n",
      "[Telescope] delta Alt = -019.096 deg; delta Az = -007.408 deg; delta N1 = -000.000 deg; delta N2 = +000.097 deg [Dome] delta Az = -003.038 deg\n",
      "[Telescope] delta Alt = -016.898 deg; delta Az = -002.024 deg; delta N1 = -000.000 deg; delta N2 = +000.006 deg [Dome] delta Az = -003.038 deg\n",
      "[Telescope] delta Alt = -011.989 deg; delta Az = +000.001 deg; delta N1 = -000.000 deg; delta N2 = +000.006 deg [Dome] delta Az = -003.038 deg\n",
      "[Telescope] delta Alt = -006.108 deg; delta Az = +000.002 deg; delta N1 = -000.000 deg; delta N2 = +000.006 deg [Dome] delta Az = -003.038 deg\n",
      "[Telescope] delta Alt = -001.677 deg; delta Az = +000.001 deg; delta N1 = -000.000 deg; delta N2 = +000.006 deg [Dome] delta Az = -003.038 deg\n",
      "Got True\n",
      "Waiting for telescope to settle.\n",
      "[Telescope] delta Alt = -000.053 deg; delta Az = +000.000 deg; delta N1 = -000.000 deg; delta N2 = +000.006 deg [Dome] delta Az = -003.038 deg\n",
      "Telescope in position.\n"
     ]
    }
   ],
   "source": [
    "# No longer need to specify rotator\n",
    "await atcs.slew_object('HD 61597', rot=0.0, rot_type=3)"
   ]
  },
  {
   "cell_type": "code",
   "execution_count": 60,
   "metadata": {},
   "outputs": [
    {
     "name": "stdout",
     "output_type": "stream",
     "text": [
      "Generating group_id\n",
      "OBJECT 0001 - 0001\n"
     ]
    },
    {
     "data": {
      "text/plain": [
       "array([2021011900174])"
      ]
     },
     "execution_count": 60,
     "metadata": {},
     "output_type": "execute_result"
    }
   ],
   "source": [
    "await latiss.take_object(3, filter='empty_1', grating='empty_1')"
   ]
  },
  {
   "cell_type": "code",
   "execution_count": 61,
   "metadata": {},
   "outputs": [
    {
     "name": "stdout",
     "output_type": "stream",
     "text": [
      "Generating group_id\n",
      "OBJECT 0001 - 0001\n"
     ]
    },
    {
     "data": {
      "text/plain": [
       "array([2021011900175])"
      ]
     },
     "execution_count": 61,
     "metadata": {},
     "output_type": "execute_result"
    }
   ],
   "source": [
    "await latiss.take_object(300, filter='empty_1', grating='empty_1')"
   ]
  },
  {
   "cell_type": "code",
   "execution_count": 65,
   "metadata": {},
   "outputs": [
    {
     "name": "stdout",
     "output_type": "stream",
     "text": [
      "Calculating x/y offset: 0/-40 \n",
      "Applying Az/El offset: 36.603765903561914/-16.12961009067604 \n",
      "Waiting for telescope to settle.\n",
      "Done\n"
     ]
    }
   ],
   "source": [
    "# offset the telescope 20 arcsec in Y \n",
    "await atcs.offset_xy(y=-40, x=0, persistent=False)"
   ]
  },
  {
   "cell_type": "code",
   "execution_count": 66,
   "metadata": {},
   "outputs": [
    {
     "name": "stdout",
     "output_type": "stream",
     "text": [
      "Generating group_id\n",
      "OBJECT 0001 - 0001\n"
     ]
    },
    {
     "data": {
      "text/plain": [
       "array([2021011900179])"
      ]
     },
     "execution_count": 66,
     "metadata": {},
     "output_type": "execute_result"
    },
    {
     "name": "stdout",
     "output_type": "stream",
     "text": [
      "logMessage DDS read queue is filling: 24 of 100 elements\n"
     ]
    }
   ],
   "source": [
    "await latiss.take_object(3, filter='empty_1', grating='empty_1')"
   ]
  },
  {
   "cell_type": "code",
   "execution_count": 67,
   "metadata": {},
   "outputs": [
    {
     "name": "stdout",
     "output_type": "stream",
     "text": [
      "private_revCode: d8296953, private_sndStamp: 1611110484.0036242, private_rcvStamp: 1611110484.0038908, private_seqNum: 80, private_identity: ATAOS, private_origin: 165593, private_host: 0, total: 0.0, userApplied: 0.0, filter: 0.0, disperser: 0.0, wavelength: 0.0, priority: 0\n"
     ]
    }
   ],
   "source": [
    "# check what the focus offsets are as we don't know why the focus is so bad\n",
    "tmp=await atcs.rem.ataos.evt_focusOffsetSummary.aget()\n",
    "print(tmp)"
   ]
  },
  {
   "cell_type": "code",
   "execution_count": 78,
   "metadata": {},
   "outputs": [
    {
     "data": {
      "text/plain": [
       "<ddsutil.ATAOS_ackcmd_38d6204e at 0x7ff4a89c0a90>"
      ]
     },
     "execution_count": 78,
     "metadata": {},
     "output_type": "execute_result"
    }
   ],
   "source": [
    "# add focus offset\n",
    "await atcs.rem.ataos.cmd_setCorrectionModelOffsets.set_start(axis='z', offset=-0.05126616)"
   ]
  },
  {
   "cell_type": "code",
   "execution_count": 79,
   "metadata": {},
   "outputs": [
    {
     "name": "stdout",
     "output_type": "stream",
     "text": [
      "private_revCode: d8296953, private_sndStamp: 1611111492.6306345, private_rcvStamp: 1611111492.6310325, private_seqNum: 87, private_identity: ATAOS, private_origin: 165593, private_host: 0, total: -0.05126615986227989, userApplied: -0.05126615986227989, filter: 0.0, disperser: 0.0, wavelength: 0.0, priority: 0\n"
     ]
    }
   ],
   "source": [
    "# check what the focus offsets are as we don't know why the focus is so bad\n",
    "tmp=await atcs.rem.ataos.evt_focusOffsetSummary.aget()\n",
    "print(tmp)"
   ]
  },
  {
   "cell_type": "code",
   "execution_count": 80,
   "metadata": {},
   "outputs": [
    {
     "name": "stdout",
     "output_type": "stream",
     "text": [
      "Generating group_id\n",
      "OBJECT 0001 - 0001\n",
      "logMessage DDS read queue is filling: 12 of 100 elements\n"
     ]
    },
    {
     "data": {
      "text/plain": [
       "array([2021011900185])"
      ]
     },
     "execution_count": 80,
     "metadata": {},
     "output_type": "execute_result"
    },
    {
     "name": "stdout",
     "output_type": "stream",
     "text": [
      "logMessage DDS read queue is filling: 11 of 100 elements\n",
      "target DDS read queue is filling: 27 of 100 elements\n",
      "target python read queue is filling: 26 of 100 elements\n",
      "target DDS read queue is filling: 54 of 100 elements\n",
      "target python read queue is filling: 53 of 100 elements\n"
     ]
    }
   ],
   "source": [
    "await latiss.take_object(3, filter='empty_1', grating='empty_1')"
   ]
  },
  {
   "cell_type": "code",
   "execution_count": 81,
   "metadata": {},
   "outputs": [
    {
     "name": "stdout",
     "output_type": "stream",
     "text": [
      "private_revCode: d8296953, private_sndStamp: 1611114293.4024913, private_rcvStamp: 1611114293.4070842, private_seqNum: 95, private_identity: ATAOS, private_origin: 165593, private_host: 0, total: -0.05126615986227989, userApplied: -0.05126615986227989, filter: 0.0, disperser: 0.0, wavelength: 0.0, priority: 0\n",
      "target DDS read queue is full (100 elements); data may be lost\n",
      "target python read queue is filling: 99 of 100 elements\n",
      "logMessage DDS read queue is filling: 17 of 100 elements\n"
     ]
    }
   ],
   "source": [
    "# check what the focus offsets are as we don't know why the focus is so bad\n",
    "tmp=await atcs.rem.ataos.evt_focusOffsetSummary.aget()\n",
    "print(tmp)"
   ]
  },
  {
   "cell_type": "code",
   "execution_count": 82,
   "metadata": {},
   "outputs": [
    {
     "data": {
      "text/plain": [
       "<ddsutil.ATAOS_ackcmd_38d6204e at 0x7ff44650ab10>"
      ]
     },
     "execution_count": 82,
     "metadata": {},
     "output_type": "execute_result"
    }
   ],
   "source": [
    "# reset the offsets\n",
    "await atcs.rem.ataos.cmd_resetOffset.set_start(axis='z')"
   ]
  },
  {
   "cell_type": "code",
   "execution_count": 83,
   "metadata": {},
   "outputs": [
    {
     "name": "stdout",
     "output_type": "stream",
     "text": [
      "private_revCode: d8296953, private_sndStamp: 1611115585.4930444, private_rcvStamp: 1611115585.4935281, private_seqNum: 99, private_identity: ATAOS, private_origin: 165593, private_host: 0, total: 0.0, userApplied: 0.0, filter: 0.0, disperser: 0.0, wavelength: 0.0, priority: 0\n"
     ]
    }
   ],
   "source": [
    "# check what the focus offsets are as we don't know why the focus is so bad\n",
    "tmp=await atcs.rem.ataos.evt_focusOffsetSummary.aget()\n",
    "print(tmp)"
   ]
  },
  {
   "cell_type": "code",
   "execution_count": 84,
   "metadata": {},
   "outputs": [
    {
     "data": {
      "text/plain": [
       "<ddsutil.ATAOS_ackcmd_38d6204e at 0x7ff44650de10>"
      ]
     },
     "execution_count": 84,
     "metadata": {},
     "output_type": "execute_result"
    }
   ],
   "source": [
    "# now apply previous offset\n",
    "await atcs.rem.ataos.cmd_offset.set_start(z=-0.05126615)"
   ]
  },
  {
   "cell_type": "code",
   "execution_count": 85,
   "metadata": {},
   "outputs": [
    {
     "name": "stdout",
     "output_type": "stream",
     "text": [
      "private_revCode: d8296953, private_sndStamp: 1611115671.2679672, private_rcvStamp: 1611115671.2684307, private_seqNum: 100, private_identity: ATAOS, private_origin: 165593, private_host: 0, total: -0.051266148686409, userApplied: -0.051266148686409, filter: 0.0, disperser: 0.0, wavelength: 0.0, priority: 0\n"
     ]
    }
   ],
   "source": [
    "# check what the focus offsets are as we don't know why the focus is so bad\n",
    "tmp=await atcs.rem.ataos.evt_focusOffsetSummary.aget()\n",
    "print(tmp)"
   ]
  },
  {
   "cell_type": "code",
   "execution_count": 86,
   "metadata": {},
   "outputs": [
    {
     "data": {
      "text/plain": [
       "<ddsutil.ATAOS_ackcmd_38d6204e at 0x7ff42cbff350>"
      ]
     },
     "execution_count": 86,
     "metadata": {},
     "output_type": "execute_result"
    }
   ],
   "source": [
    "# now add in the offset that was just calculated\n",
    "await atcs.rem.ataos.cmd_offset.set_start(z=0.0067265)"
   ]
  },
  {
   "cell_type": "code",
   "execution_count": 87,
   "metadata": {},
   "outputs": [
    {
     "name": "stdout",
     "output_type": "stream",
     "text": [
      "private_revCode: d8296953, private_sndStamp: 1611115724.9480515, private_rcvStamp: 1611115724.948449, private_seqNum: 101, private_identity: ATAOS, private_origin: 165593, private_host: 0, total: -0.04453964903950691, userApplied: -0.04453964903950691, filter: 0.0, disperser: 0.0, wavelength: 0.0, priority: 0\n"
     ]
    }
   ],
   "source": [
    "# check what the focus offsets are as we don't know why the focus is so bad\n",
    "tmp=await atcs.rem.ataos.evt_focusOffsetSummary.aget()\n",
    "print(tmp)"
   ]
  },
  {
   "cell_type": "code",
   "execution_count": 88,
   "metadata": {},
   "outputs": [
    {
     "name": "stdout",
     "output_type": "stream",
     "text": [
      "Generating group_id\n",
      "OBJECT 0001 - 0001\n"
     ]
    },
    {
     "data": {
      "text/plain": [
       "array([2021011900203])"
      ]
     },
     "execution_count": 88,
     "metadata": {},
     "output_type": "execute_result"
    },
    {
     "name": "stdout",
     "output_type": "stream",
     "text": [
      "logMessage DDS read queue is filling: 12 of 100 elements\n",
      "target DDS read queue is filling: 89 of 100 elements\n",
      "target python read queue is filling: 88 of 100 elements\n",
      "target python read queue is filling: 10 of 100 elements\n"
     ]
    }
   ],
   "source": [
    "await latiss.take_object(15, filter='empty_1', grating='empty_1')"
   ]
  },
  {
   "cell_type": "code",
   "execution_count": 92,
   "metadata": {},
   "outputs": [
    {
     "name": "stdout",
     "output_type": "stream",
     "text": [
      "private_revCode: d8296953, private_sndStamp: 1611116516.7070408, private_rcvStamp: 1611116516.707486, private_seqNum: 106, private_identity: ATAOS, private_origin: 165593, private_host: 0, total: 0.7554603815078735, userApplied: 0.7554603815078735, filter: 0.0, disperser: 0.0, wavelength: 0.0, priority: 0\n"
     ]
    }
   ],
   "source": [
    "# check what the focus offsets are as we don't know why the focus is so bad\n",
    "tmp=await atcs.rem.ataos.evt_focusOffsetSummary.aget()\n",
    "print(tmp)"
   ]
  },
  {
   "cell_type": "code",
   "execution_count": 93,
   "metadata": {},
   "outputs": [
    {
     "data": {
      "text/plain": [
       "<ddsutil.ATAOS_ackcmd_38d6204e at 0x7ff4245b7350>"
      ]
     },
     "execution_count": 93,
     "metadata": {},
     "output_type": "execute_result"
    }
   ],
   "source": [
    "# hexapod got stuck in extra focal\n",
    "await atcs.rem.ataos.cmd_offset.set_start(z=-0.8)"
   ]
  },
  {
   "cell_type": "code",
   "execution_count": 94,
   "metadata": {},
   "outputs": [
    {
     "name": "stdout",
     "output_type": "stream",
     "text": [
      "private_revCode: d8296953, private_sndStamp: 1611116580.2333057, private_rcvStamp: 1611116580.2337081, private_seqNum: 107, private_identity: ATAOS, private_origin: 165593, private_host: 0, total: -0.04453964903950691, userApplied: -0.04453964903950691, filter: 0.0, disperser: 0.0, wavelength: 0.0, priority: 0\n"
     ]
    }
   ],
   "source": [
    "# check what the focus offsets are as we don't know why the focus is so bad\n",
    "tmp=await atcs.rem.ataos.evt_focusOffsetSummary.aget()\n",
    "print(tmp)"
   ]
  },
  {
   "cell_type": "code",
   "execution_count": 95,
   "metadata": {},
   "outputs": [
    {
     "name": "stdout",
     "output_type": "stream",
     "text": [
      "Generating group_id\n",
      "OBJECT 0001 - 0001\n"
     ]
    },
    {
     "data": {
      "text/plain": [
       "array([2021011900208])"
      ]
     },
     "execution_count": 95,
     "metadata": {},
     "output_type": "execute_result"
    },
    {
     "name": "stdout",
     "output_type": "stream",
     "text": [
      "target DDS read queue is filling: 28 of 100 elements\n",
      "target python read queue is filling: 27 of 100 elements\n",
      "target DDS read queue is filling: 66 of 100 elements\n",
      "target python read queue is filling: 65 of 100 elements\n",
      "target python read queue is filling: 53 of 100 elements\n"
     ]
    }
   ],
   "source": [
    "await latiss.take_object(20, filter='empty_1', grating='empty_1')"
   ]
  },
  {
   "cell_type": "code",
   "execution_count": 96,
   "metadata": {},
   "outputs": [
    {
     "name": "stdout",
     "output_type": "stream",
     "text": [
      "private_revCode: 55f0662b, private_sndStamp: 1611119577.3618457, private_rcvStamp: 1611119577.3624682, private_seqNum: 20, private_identity: ATAOS, private_origin: 165593, private_host: 0, m1: True, m2: False, hexapod: True, focus: False, atspectrograph: False, moveWhileExposing: False, priority: 0\n",
      "logMessage DDS read queue is filling: 53 of 100 elements\n",
      "logMessage DDS read queue is filling: 14 of 100 elements\n"
     ]
    }
   ],
   "source": [
    "tmp = atcs.rem.ataos.evt_correctionEnabled.get()\n",
    "print(tmp)"
   ]
  },
  {
   "cell_type": "code",
   "execution_count": 97,
   "metadata": {},
   "outputs": [
    {
     "name": "stdout",
     "output_type": "stream",
     "text": [
      "private_revCode: d8296953, private_sndStamp: 1611125616.692829, private_rcvStamp: 1611125616.693099, private_seqNum: 184, private_identity: ATAOS, private_origin: 165593, private_host: 0, total: -1.7058463096618652, userApplied: -0.06784626096487045, filter: 0.0, disperser: -0.026000000536441803, wavelength: 0.0, priority: 0\n"
     ]
    }
   ],
   "source": [
    "# check what the focus offsets are as we don't know why the focus is so bad\n",
    "tmp=await atcs.rem.ataos.evt_focusOffsetSummary.aget()\n",
    "print(tmp)"
   ]
  },
  {
   "cell_type": "code",
   "execution_count": null,
   "metadata": {},
   "outputs": [],
   "source": []
  }
 ],
 "metadata": {
  "kernelspec": {
   "display_name": "LSST",
   "language": "python",
   "name": "lsst"
  },
  "language_info": {
   "codemirror_mode": {
    "name": "ipython",
    "version": 3
   },
   "file_extension": ".py",
   "mimetype": "text/x-python",
   "name": "python",
   "nbconvert_exporter": "python",
   "pygments_lexer": "ipython3",
   "version": "3.7.8"
  }
 },
 "nbformat": 4,
 "nbformat_minor": 4
}
