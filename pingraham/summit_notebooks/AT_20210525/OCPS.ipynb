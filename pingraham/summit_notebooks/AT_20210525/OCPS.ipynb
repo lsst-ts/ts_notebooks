{
 "cells": [
  {
   "cell_type": "markdown",
   "id": "01a8d154",
   "metadata": {},
   "source": [
    "# OCPS Control Notebook\n",
    "\n",
    "This notebook demonstrates how to execute a pipeline using the OCPS.\n",
    "\n",
    "\n",
    "## One-time preliminaries\n",
    "\n",
    "Start by importing packages.  Caution: `lsst.ts.salobj` can take 25 seconds to import."
   ]
  },
  {
   "cell_type": "code",
   "execution_count": 1,
   "id": "2f7cfdf3",
   "metadata": {},
   "outputs": [],
   "source": [
    "import json\n",
    "import subprocess\n",
    "import lsst.ts.salobj as salobj"
   ]
  },
  {
   "cell_type": "markdown",
   "id": "93055208",
   "metadata": {},
   "source": [
    "Make sure that an OpenSplice daemon has been started.  (It's OK to run this multiple times.)\n",
    "\n",
    "`setup.env` must have been sourced in `~/notebooks/.user_setups` first."
   ]
  },
  {
   "cell_type": "code",
   "execution_count": 2,
   "id": "351ae06a",
   "metadata": {},
   "outputs": [],
   "source": [
    "#subprocess.run([\"ospl\", \"start\"])"
   ]
  },
  {
   "cell_type": "markdown",
   "id": "df84bd3c",
   "metadata": {},
   "source": [
    "Start a domain and an OCPS remote within it.  Select the instrument of interest (LATISS, LSSTComCam, or LSSTCam)."
   ]
  },
  {
   "cell_type": "code",
   "execution_count": 3,
   "id": "a0258c54",
   "metadata": {},
   "outputs": [],
   "source": [
    "domain = salobj.Domain()\n",
    "ocps = salobj.Remote(domain, \"OCPS\")\n",
    "\n",
    "instrument = \"LATISS\"\n",
    "if instrument == \"LATISS\":\n",
    "    instrument_info = dict(oods_name=\"ATArchiver\", detectors=1)\n",
    "elif instrument == \"LSSTComCam\":\n",
    "    instrument_info = dict(oods_name=\"CCArchiver\", detectors=9)\n",
    "elif instrument == \"LSSTCam\":\n",
    "    instrument_info = dict(oods_name=\"MTArchiver\", detectors=201)\n",
    "else:\n",
    "    raise RuntimeError(f\"Unknown instrument {instrument}\")"
   ]
  },
  {
   "cell_type": "markdown",
   "id": "3c951bae",
   "metadata": {},
   "source": [
    "Optionally start an Archiver/OODS remote."
   ]
  },
  {
   "cell_type": "code",
   "execution_count": 4,
   "id": "4724aa5e",
   "metadata": {},
   "outputs": [],
   "source": [
    "oods = salobj.Remote(domain, instrument_info[\"oods_name\"])"
   ]
  },
  {
   "cell_type": "markdown",
   "id": "068c7c8f",
   "metadata": {},
   "source": [
    "If necessary, start the CSC and configure it to handle LATISS data.  If already started, skip this cell."
   ]
  },
  {
   "cell_type": "code",
   "execution_count": 5,
   "id": "d16d3827",
   "metadata": {},
   "outputs": [],
   "source": [
    "ack = await ocps.cmd_start.set_start(settingsToApply=instrument)\n",
    "if ack.ack != salobj.SalRetCode.CMD_COMPLETE:\n",
    "    ack.print_vars()"
   ]
  },
  {
   "cell_type": "markdown",
   "id": "addb8894",
   "metadata": {},
   "source": [
    "If necessary, enable the CSC.  If already enabled, skip this cell."
   ]
  },
  {
   "cell_type": "code",
   "execution_count": 7,
   "id": "735a6f8d",
   "metadata": {},
   "outputs": [
    {
     "ename": "AckError",
     "evalue": "msg='Command failed', ackcmd=(ackcmd private_seqNum=648840236, ack=<SalRetCode.CMD_FAILED: -302>, error=1, result='Failed: enable not allowed in state <State.ENABLED: 2>')",
     "output_type": "error",
     "traceback": [
      "\u001b[0;31m---------------------------------------------------------------------------\u001b[0m",
      "\u001b[0;31mAckError\u001b[0m                                  Traceback (most recent call last)",
      "\u001b[0;32m<ipython-input-7-ca4e599c6d5f>\u001b[0m in \u001b[0;36m<module>\u001b[0;34m\u001b[0m\n\u001b[0;32m----> 1\u001b[0;31m \u001b[0mack\u001b[0m \u001b[0;34m=\u001b[0m \u001b[0;32mawait\u001b[0m \u001b[0mocps\u001b[0m\u001b[0;34m.\u001b[0m\u001b[0mcmd_enable\u001b[0m\u001b[0;34m.\u001b[0m\u001b[0mset_start\u001b[0m\u001b[0;34m(\u001b[0m\u001b[0;34m)\u001b[0m\u001b[0;34m\u001b[0m\u001b[0;34m\u001b[0m\u001b[0m\n\u001b[0m\u001b[1;32m      2\u001b[0m \u001b[0;32mif\u001b[0m \u001b[0mack\u001b[0m\u001b[0;34m.\u001b[0m\u001b[0mack\u001b[0m \u001b[0;34m!=\u001b[0m \u001b[0msalobj\u001b[0m\u001b[0;34m.\u001b[0m\u001b[0mSalRetCode\u001b[0m\u001b[0;34m.\u001b[0m\u001b[0mCMD_COMPLETE\u001b[0m\u001b[0;34m:\u001b[0m\u001b[0;34m\u001b[0m\u001b[0;34m\u001b[0m\u001b[0m\n\u001b[1;32m      3\u001b[0m     \u001b[0mack\u001b[0m\u001b[0;34m.\u001b[0m\u001b[0mprint_vars\u001b[0m\u001b[0;34m(\u001b[0m\u001b[0;34m)\u001b[0m\u001b[0;34m\u001b[0m\u001b[0;34m\u001b[0m\u001b[0m\n",
      "\u001b[0;32m/opt/lsst/software/stack/conda/miniconda3-py38_4.9.2/envs/lsst-scipipe-0.6.0/lib/python3.8/site-packages/lsst/ts/salobj/topics/remote_command.py\u001b[0m in \u001b[0;36mset_start\u001b[0;34m(self, timeout, wait_done, **kwargs)\u001b[0m\n\u001b[1;32m    392\u001b[0m         \"\"\"\n\u001b[1;32m    393\u001b[0m         \u001b[0mself\u001b[0m\u001b[0;34m.\u001b[0m\u001b[0mset\u001b[0m\u001b[0;34m(\u001b[0m\u001b[0;34m**\u001b[0m\u001b[0mkwargs\u001b[0m\u001b[0;34m)\u001b[0m\u001b[0;34m\u001b[0m\u001b[0;34m\u001b[0m\u001b[0m\n\u001b[0;32m--> 394\u001b[0;31m         \u001b[0;32mreturn\u001b[0m \u001b[0;32mawait\u001b[0m \u001b[0mself\u001b[0m\u001b[0;34m.\u001b[0m\u001b[0mstart\u001b[0m\u001b[0;34m(\u001b[0m\u001b[0mtimeout\u001b[0m\u001b[0;34m=\u001b[0m\u001b[0mtimeout\u001b[0m\u001b[0;34m,\u001b[0m \u001b[0mwait_done\u001b[0m\u001b[0;34m=\u001b[0m\u001b[0mwait_done\u001b[0m\u001b[0;34m)\u001b[0m\u001b[0;34m\u001b[0m\u001b[0;34m\u001b[0m\u001b[0m\n\u001b[0m\u001b[1;32m    395\u001b[0m \u001b[0;34m\u001b[0m\u001b[0m\n\u001b[1;32m    396\u001b[0m     \u001b[0;32masync\u001b[0m \u001b[0;32mdef\u001b[0m \u001b[0mstart\u001b[0m\u001b[0;34m(\u001b[0m\u001b[0mself\u001b[0m\u001b[0;34m,\u001b[0m \u001b[0mdata\u001b[0m\u001b[0;34m=\u001b[0m\u001b[0;32mNone\u001b[0m\u001b[0;34m,\u001b[0m \u001b[0mtimeout\u001b[0m\u001b[0;34m=\u001b[0m\u001b[0mDEFAULT_TIMEOUT\u001b[0m\u001b[0;34m,\u001b[0m \u001b[0mwait_done\u001b[0m\u001b[0;34m=\u001b[0m\u001b[0;32mTrue\u001b[0m\u001b[0;34m)\u001b[0m\u001b[0;34m:\u001b[0m\u001b[0;34m\u001b[0m\u001b[0;34m\u001b[0m\u001b[0m\n",
      "\u001b[0;32m/opt/lsst/software/stack/conda/miniconda3-py38_4.9.2/envs/lsst-scipipe-0.6.0/lib/python3.8/site-packages/lsst/ts/salobj/topics/remote_command.py\u001b[0m in \u001b[0;36mstart\u001b[0;34m(self, data, timeout, wait_done)\u001b[0m\n\u001b[1;32m    447\u001b[0m         )\n\u001b[1;32m    448\u001b[0m         \u001b[0mself\u001b[0m\u001b[0;34m.\u001b[0m\u001b[0msalinfo\u001b[0m\u001b[0;34m.\u001b[0m\u001b[0m_running_cmds\u001b[0m\u001b[0;34m[\u001b[0m\u001b[0mseq_num\u001b[0m\u001b[0;34m]\u001b[0m \u001b[0;34m=\u001b[0m \u001b[0mcmd_info\u001b[0m\u001b[0;34m\u001b[0m\u001b[0;34m\u001b[0m\u001b[0m\n\u001b[0;32m--> 449\u001b[0;31m         \u001b[0;32mreturn\u001b[0m \u001b[0;32mawait\u001b[0m \u001b[0mcmd_info\u001b[0m\u001b[0;34m.\u001b[0m\u001b[0mnext_ackcmd\u001b[0m\u001b[0;34m(\u001b[0m\u001b[0mtimeout\u001b[0m\u001b[0;34m=\u001b[0m\u001b[0mtimeout\u001b[0m\u001b[0;34m)\u001b[0m\u001b[0;34m\u001b[0m\u001b[0;34m\u001b[0m\u001b[0m\n\u001b[0m",
      "\u001b[0;32m/opt/lsst/software/stack/conda/miniconda3-py38_4.9.2/envs/lsst-scipipe-0.6.0/lib/python3.8/site-packages/lsst/ts/salobj/topics/remote_command.py\u001b[0m in \u001b[0;36mnext_ackcmd\u001b[0;34m(self, timeout)\u001b[0m\n\u001b[1;32m    180\u001b[0m             \u001b[0mackcmd\u001b[0m \u001b[0;34m=\u001b[0m \u001b[0;32mawait\u001b[0m \u001b[0mself\u001b[0m\u001b[0;34m.\u001b[0m\u001b[0m_wait_task\u001b[0m\u001b[0;34m\u001b[0m\u001b[0;34m\u001b[0m\u001b[0m\n\u001b[1;32m    181\u001b[0m             \u001b[0;32mif\u001b[0m \u001b[0mackcmd\u001b[0m\u001b[0;34m.\u001b[0m\u001b[0mack\u001b[0m \u001b[0;32min\u001b[0m \u001b[0mself\u001b[0m\u001b[0;34m.\u001b[0m\u001b[0mfailed_ack_codes\u001b[0m\u001b[0;34m:\u001b[0m\u001b[0;34m\u001b[0m\u001b[0;34m\u001b[0m\u001b[0m\n\u001b[0;32m--> 182\u001b[0;31m                 \u001b[0;32mraise\u001b[0m \u001b[0mbase\u001b[0m\u001b[0;34m.\u001b[0m\u001b[0mAckError\u001b[0m\u001b[0;34m(\u001b[0m\u001b[0mmsg\u001b[0m\u001b[0;34m=\u001b[0m\u001b[0;34m\"Command failed\"\u001b[0m\u001b[0;34m,\u001b[0m \u001b[0mackcmd\u001b[0m\u001b[0;34m=\u001b[0m\u001b[0mackcmd\u001b[0m\u001b[0;34m)\u001b[0m\u001b[0;34m\u001b[0m\u001b[0;34m\u001b[0m\u001b[0m\n\u001b[0m\u001b[1;32m    183\u001b[0m             \u001b[0;32mreturn\u001b[0m \u001b[0mackcmd\u001b[0m\u001b[0;34m\u001b[0m\u001b[0;34m\u001b[0m\u001b[0m\n\u001b[1;32m    184\u001b[0m         \u001b[0;32mexcept\u001b[0m \u001b[0masyncio\u001b[0m\u001b[0;34m.\u001b[0m\u001b[0mTimeoutError\u001b[0m\u001b[0;34m:\u001b[0m\u001b[0;34m\u001b[0m\u001b[0;34m\u001b[0m\u001b[0m\n",
      "\u001b[0;31mAckError\u001b[0m: msg='Command failed', ackcmd=(ackcmd private_seqNum=648840236, ack=<SalRetCode.CMD_FAILED: -302>, error=1, result='Failed: enable not allowed in state <State.ENABLED: 2>')"
     ]
    }
   ],
   "source": [
    "ack = await ocps.cmd_enable.set_start()\n",
    "if ack.ack != salobj.SalRetCode.CMD_COMPLETE:\n",
    "    ack.print_vars()"
   ]
  },
  {
   "cell_type": "markdown",
   "id": "6efdebf7",
   "metadata": {},
   "source": [
    "## Per-image preparation\n",
    "\n",
    "Set up the data ID.  This information could also be taken from an OODS event."
   ]
  },
  {
   "cell_type": "code",
   "execution_count": 8,
   "id": "b5ca921d",
   "metadata": {},
   "outputs": [],
   "source": [
    "day_obs = 20210510\n",
    "seq_num = 12"
   ]
  },
  {
   "cell_type": "markdown",
   "id": "6dc84fbb",
   "metadata": {},
   "source": [
    "It may be desirable to wait for OODS events saying that the image has been ingested before calling `execute`.  This optional code waits for all detectors; an `execute` command could also be issued as each detector is ingested."
   ]
  },
  {
   "cell_type": "code",
   "execution_count": null,
   "id": "8d261a9d",
   "metadata": {},
   "outputs": [],
   "source": [
    "obs_id = f\"_{day_obs}{seqnum:05}\"\n",
    "detectors = instrument_info[\"detectors\"]\n",
    "while detectors > 0:\n",
    "    ack = await oods.evt_imageInOODS.next(flush=False, timeout=15)\n",
    "    if ack.obsid.endswith(obs_id):\n",
    "        detectors -= 1"
   ]
  },
  {
   "cell_type": "markdown",
   "id": "2d8d2e04",
   "metadata": {},
   "source": [
    "## Pipeline execution\n",
    "\n",
    "Execute a pipeline and ensure the command was accepted.  This code runs on all detectors, but additional data query conditions could be added to run on individual detectors."
   ]
  },
  {
   "cell_type": "code",
   "execution_count": 18,
   "id": "c9c3892a",
   "metadata": {},
   "outputs": [],
   "source": [
    "ack = await ocps.cmd_execute.set_start(\n",
    "    wait_done=False,\n",
    "    pipeline=\"$OBS_LSST_DIR/pipelines/DRP.yaml#isr\", version=\"\",\n",
    "    config=\"-c isr:doBias=False -c isr:doDark=False -c isr:doFlat=False\"\n",
    "           \" -c isr:doFringe=False -c isr:doLinearize=False -c isr:doDefect=False\",\n",
    "    data_query=f\"instrument='{instrument}' AND\"\n",
    "               f\" exposure.day_obs={day_obs} AND exposure.seq_num={seq_num}\"\n",
    ")\n",
    "if ack.ack != salobj.SalRetCode.CMD_ACK:\n",
    "    ack.print_vars()"
   ]
  },
  {
   "cell_type": "markdown",
   "id": "a5006c24",
   "metadata": {},
   "source": [
    "Wait for the in-progress acknowledgement with the job identifier.  This can be executed immediately after the previous cell."
   ]
  },
  {
   "cell_type": "code",
   "execution_count": 19,
   "id": "4e0690d4",
   "metadata": {},
   "outputs": [
    {
     "name": "stdout",
     "output_type": "stream",
     "text": [
      "private_revCode: 7be1ccf5, private_sndStamp: 1622840833.8451467, private_rcvStamp: 1622840833.8457425, private_seqNum: 1039324998, private_identity: OCPS, private_origin: 257984, private_host: 0, ack: 301, error: 0, result: {\"job_id\": \"30320a293061433681b7b5e0f846b402\"}, host: 0, identity: patrickingraham@nb-patrickingraham-exp-w-2021-21-c0020.002, origin: 8648, cmdtype: 6, timeout: 600.0\n"
     ]
    }
   ],
   "source": [
    "ack = await ocps.cmd_execute.next_ackcmd(ack, wait_done=False)\n",
    "ack.print_vars()\n",
    "job_id = json.loads(ack.result)[\"job_id\"]"
   ]
  },
  {
   "cell_type": "markdown",
   "id": "a640a947",
   "metadata": {},
   "source": [
    "Wait for the command completion acknowledgement.  This can be executed anytime after the `execute` command."
   ]
  },
  {
   "cell_type": "code",
   "execution_count": 20,
   "id": "7181d630",
   "metadata": {},
   "outputs": [],
   "source": [
    "ack = await ocps.cmd_execute.next_ackcmd(ack)\n",
    "if ack.ack != salobj.SalRetCode.CMD_COMPLETE:\n",
    "    ack.print_vars()"
   ]
  },
  {
   "cell_type": "markdown",
   "id": "b12cd97b",
   "metadata": {},
   "source": [
    "Wait for the job result message that matches the job id we're interested in, ignoring any others (from other remotes).  This obviously needs to follow the first acknowledgement (that returns the job id) but might as well wait for the second."
   ]
  },
  {
   "cell_type": "code",
   "execution_count": 21,
   "id": "9ee4ec85",
   "metadata": {},
   "outputs": [
    {
     "data": {
      "text/plain": [
       "{'jobId': '30320a293061433681b7b5e0f846b402',\n",
       " 'runId': '1039324998',\n",
       " 'ownerId': '',\n",
       " 'phase': 'error',\n",
       " 'creationTime': '2021-06-04 21:06:36+00:00',\n",
       " 'startTime': '2021-06-04 21:06:36+00:00',\n",
       " 'endTime': None,\n",
       " 'executionDuration': None,\n",
       " 'destruction': None,\n",
       " 'parameters': {'command': ['/bin/bash',\n",
       "   '-c',\n",
       "   'cd $JOB_SOURCE_DIR && bash bin/pipetask.sh'],\n",
       "  'environment': [{'name': 'JOB_SOURCE_DIR',\n",
       "    'value': '/uws/jobs/30320a293061433681b7b5e0f846b402/src'},\n",
       "   {'name': 'SRC_GIT_URL', 'value': 'https://github.com/lsst-dm/uws_scripts'},\n",
       "   {'name': 'GIT_COMMIT_REF', 'value': 'master'},\n",
       "   {'name': 'JOB_OUTPUT_DIR',\n",
       "    'value': '/uws/jobs/30320a293061433681b7b5e0f846b402/out'},\n",
       "   {'name': 'JOB_ID', 'value': '30320a293061433681b7b5e0f846b402'},\n",
       "   {'name': 'IMAGE_TAG', 'value': None},\n",
       "   {'name': 'PIPELINE_URL', 'value': '$OBS_LSST_DIR/pipelines/DRP.yaml#isr'},\n",
       "   {'name': 'BUTLER_REPO', 'value': '/repo/LATISS'},\n",
       "   {'name': 'RUN_OPTIONS',\n",
       "    'value': '-i LATISS/raw/all -c isr:doBias=False -c isr:doDark=False -c isr:doFlat=False -c isr:doFringe=False -c isr:doLinearize=False -c isr:doDefect=False'},\n",
       "   {'name': 'OUTPUT_GLOB', 'value': '*'},\n",
       "   {'name': 'DATA_QUERY',\n",
       "    'value': \"instrument='LATISS' AND exposure.day_obs=20210510 AND exposure.seq_num=12\"}]},\n",
       " 'results': [],\n",
       " 'errorSummary': {'message': ''},\n",
       " 'jobInfo': {}}"
      ]
     },
     "execution_count": 21,
     "metadata": {},
     "output_type": "execute_result"
    }
   ],
   "source": [
    "while True:\n",
    "    msg = await ocps.evt_job_result.next(flush=False)\n",
    "    response = json.loads(msg.result)\n",
    "    if response[\"jobId\"] == job_id:\n",
    "        break\n",
    "response"
   ]
  },
  {
   "cell_type": "markdown",
   "id": "df16d95e",
   "metadata": {},
   "source": [
    "---\n",
    "\n",
    "## Cleanup\n",
    "\n",
    "If needed, disable the CSC, set it to standby, and close the domain."
   ]
  },
  {
   "cell_type": "code",
   "execution_count": null,
   "id": "8d67a57a",
   "metadata": {},
   "outputs": [],
   "source": [
    "ack = await ocps.cmd_disable.set_start()\n",
    "if ack.ack != salobj.SalRetCode.CMD_COMPLETE:\n",
    "    ack.print_vars()"
   ]
  },
  {
   "cell_type": "code",
   "execution_count": null,
   "id": "d640ac1b",
   "metadata": {},
   "outputs": [],
   "source": [
    "ack = await ocps.cmd_standby.set_start()\n",
    "if ack.ack != salobj.SalRetCode.CMD_COMPLETE:\n",
    "    ack.print_vars()"
   ]
  },
  {
   "cell_type": "code",
   "execution_count": null,
   "id": "406672cf",
   "metadata": {},
   "outputs": [],
   "source": [
    "domain.close()"
   ]
  },
  {
   "cell_type": "code",
   "execution_count": 31,
   "id": "10cdfff1",
   "metadata": {},
   "outputs": [
    {
     "name": "stdout",
     "output_type": "stream",
     "text": [
      "private_revCode: 7be1ccf5, private_sndStamp: 1622840856.8354967, private_rcvStamp: 1622840856.8361764, private_seqNum: 1039324998, private_identity: OCPS, private_origin: 257984, private_host: 0, ack: 303, error: 0, result: Done, host: 0, identity: patrickingraham@nb-patrickingraham-exp-w-2021-21-c0020.002, origin: 8648, cmdtype: 6, timeout: 0.0\n"
     ]
    }
   ],
   "source": [
    "ack.print_vars()"
   ]
  },
  {
   "cell_type": "code",
   "execution_count": 30,
   "id": "bcab073f",
   "metadata": {},
   "outputs": [
    {
     "data": {
      "text/plain": [
       "''"
      ]
     },
     "execution_count": 30,
     "metadata": {},
     "output_type": "execute_result"
    }
   ],
   "source": [
    "ack.print_vars() if ack.ack != salobj.SalRetCode.CMD_COMPLETE else ''"
   ]
  },
  {
   "cell_type": "code",
   "execution_count": 32,
   "id": "10d74ff0",
   "metadata": {},
   "outputs": [
    {
     "name": "stdout",
     "output_type": "stream",
     "text": [
      "private_revCode: 7be1ccf5, private_sndStamp: 1622840856.8354967, private_rcvStamp: 1622840856.8361764, private_seqNum: 1039324998, private_identity: OCPS, private_origin: 257984, private_host: 0, ack: 303, error: 0, result: Done, host: 0, identity: patrickingraham@nb-patrickingraham-exp-w-2021-21-c0020.002, origin: 8648, cmdtype: 6, timeout: 0.0\n"
     ]
    }
   ],
   "source": [
    "print(ack)"
   ]
  },
  {
   "cell_type": "code",
   "execution_count": null,
   "id": "97ef4f6b",
   "metadata": {},
   "outputs": [],
   "source": []
  }
 ],
 "metadata": {
  "kernelspec": {
   "display_name": "LSST",
   "language": "python",
   "name": "lsst"
  },
  "language_info": {
   "codemirror_mode": {
    "name": "ipython",
    "version": 3
   },
   "file_extension": ".py",
   "mimetype": "text/x-python",
   "name": "python",
   "nbconvert_exporter": "python",
   "pygments_lexer": "ipython3",
   "version": "3.8.8"
  }
 },
 "nbformat": 4,
 "nbformat_minor": 5
}
