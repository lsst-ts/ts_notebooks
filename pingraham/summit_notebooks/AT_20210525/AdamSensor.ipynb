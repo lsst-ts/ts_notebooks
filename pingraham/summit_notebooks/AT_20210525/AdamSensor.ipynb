{
 "cells": [
  {
   "cell_type": "code",
   "execution_count": null,
   "id": "c313cf54",
   "metadata": {},
   "outputs": [],
   "source": [
    "import sys\n",
    "import asyncio\n",
    "import time\n",
    "import os\n",
    "\n",
    "import numpy as np\n",
    "\n",
    "from lsst.ts import salobj"
   ]
  },
  {
   "cell_type": "code",
   "execution_count": null,
   "id": "19f6f8a1",
   "metadata": {},
   "outputs": [],
   "source": [
    "domain = salobj.Domain()\n",
    "remote = salobj.Remote(name=\"AdamSensors\", domain=domain, index=0)\n",
    "await asyncio.sleep(10)\n",
    "await remote.start_task"
   ]
  },
  {
   "cell_type": "code",
   "execution_count": null,
   "id": "5efbf5f5",
   "metadata": {},
   "outputs": [],
   "source": [
    "tmp = await remote.evt_summaryState.aget()\n",
    "print(salobj.State(tmp.summaryState))"
   ]
  },
  {
   "cell_type": "code",
   "execution_count": null,
   "id": "3c2461f0",
   "metadata": {},
   "outputs": [],
   "source": [
    "tmp=await salobj.set_summary_state(remote, salobj.State.ENABLED, settingsToApply='summit_2021-05-13.yaml', timeout=30)\n",
    "print(tmp)"
   ]
  },
  {
   "cell_type": "code",
   "execution_count": null,
   "id": "2d8f95ee",
   "metadata": {},
   "outputs": [],
   "source": [
    "# Triggering state changes manually often yeilds better error messages.\n",
    "tmp = await remote.cmd_start.set_start(timeout=10, settingsToApply='summit_2021-05-13.yaml')"
   ]
  },
  {
   "cell_type": "code",
   "execution_count": null,
   "id": "5105b951",
   "metadata": {},
   "outputs": [],
   "source": [
    "tmp = await remote.cmd_enable.start(timeout=10)"
   ]
  },
  {
   "cell_type": "code",
   "execution_count": null,
   "id": "8934d38f",
   "metadata": {},
   "outputs": [],
   "source": [
    "tmp = await remote.evt_pressure.next(flush=True,timeout=10)"
   ]
  }
 ],
 "metadata": {
  "kernelspec": {
   "display_name": "LSST",
   "language": "python",
   "name": "lsst"
  },
  "language_info": {
   "codemirror_mode": {
    "name": "ipython",
    "version": 3
   },
   "file_extension": ".py",
   "mimetype": "text/x-python",
   "name": "python",
   "nbconvert_exporter": "python",
   "pygments_lexer": "ipython3",
   "version": "3.8.8"
  }
 },
 "nbformat": 4,
 "nbformat_minor": 5
}
