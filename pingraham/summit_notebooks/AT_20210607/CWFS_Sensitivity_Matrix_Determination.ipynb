{
 "cells": [
  {
   "cell_type": "markdown",
   "metadata": {},
   "source": [
    "# This notebook is used to determine the sensitivity matrix from CWFS data looking at both tip/tilt and decentering\n",
    "## This is for data taken on 2021-06-08\n",
    "### It first finds the pairs of CWFS images in the EFD\n",
    "### It then fits the data a reports the zernikes\n",
    "### Then plots the relationships and fits a slope for the matrix"
   ]
  },
  {
   "cell_type": "code",
   "execution_count": null,
   "metadata": {},
   "outputs": [],
   "source": [
    "import asyncio \n",
    "import matplotlib\n",
    "\n",
    "import numpy as np\n",
    "import pandas as pd\n",
    "\n",
    "from matplotlib import pylab as plt\n",
    "from astropy.time import Time, TimeDelta\n",
    "\n",
    "from lsst_efd_client import EfdClient, resample, rendezvous_dataframes\n",
    "\n",
    "%matplotlib inline"
   ]
  },
  {
   "cell_type": "code",
   "execution_count": null,
   "metadata": {},
   "outputs": [],
   "source": [
    "#efd_client = EfdClient('summit_efd')\n",
    "efd_client = EfdClient('ldf_stable_efd') "
   ]
  },
  {
   "cell_type": "markdown",
   "metadata": {},
   "source": [
    "### Find CWFS pairs\n",
    "Query for all the `endReadout` events on the timespan of the night."
   ]
  },
  {
   "cell_type": "code",
   "execution_count": null,
   "metadata": {},
   "outputs": [],
   "source": [
    "# define axis you're interested in"
   ]
  },
  {
   "cell_type": "code",
   "execution_count": null,
   "metadata": {},
   "outputs": [],
   "source": [
    "axis='y'\n",
    "if axis == 'u':\n",
    "    t1 = Time(\"2021-06-09T05:01:30\", format='isot', scale='tai')\n",
    "    t2 = Time(\"2021-06-09T05:21:44\", format='isot', scale='tai')\n",
    "if axis == 'v':\n",
    "    t1 = Time(\"2021-06-09T05:21:44\", format='isot', scale='tai')\n",
    "    t2 = Time(\"2021-06-09T05:41:44\", format='isot', scale='tai')\n",
    "if axis == 'x':\n",
    "    t1 = Time(\"2021-06-09T05:41:44\", format='isot', scale='tai')\n",
    "    t2 = Time(\"2021-06-09T06:04:44\", format='isot', scale='tai')\n",
    "if axis == 'y':\n",
    "    t1 = Time(\"2021-06-09T06:01:44\", format='isot', scale='tai')\n",
    "    t2 = Time(\"2021-06-09T06:41:44\", format='isot', scale='tai')"
   ]
  },
  {
   "cell_type": "code",
   "execution_count": null,
   "metadata": {},
   "outputs": [],
   "source": [
    "end_readout = await efd_client.select_time_series(\"lsst.sal.ATCamera.logevent_endReadout\", \n",
    "                                           [\"imageName\", \"requestedExposureTime\", \"additionalKeys\", \"additionalValues\"], t1, t2)"
   ]
  },
  {
   "cell_type": "markdown",
   "metadata": {},
   "source": [
    "Now match each entry. For each `i` item with `intra` in the name, there must be an `i+1` with `extra` otherwise it is not a pair. \n",
    "A pair also has the same groupID\n",
    "The image before the pair is an in-focus image."
   ]
  },
  {
   "cell_type": "code",
   "execution_count": null,
   "metadata": {},
   "outputs": [],
   "source": [
    "intra_images = []\n",
    "extra_images = []\n",
    "in_focus_images = []\n",
    "intra_times = []\n",
    "extra_times = []\n",
    "in_focus_times = []\n",
    "intra_exptimes = []\n",
    "extra_exptimes = []\n",
    "in_focus_exptimes = []\n",
    "\n",
    "i = 0\n",
    "npairs = 0\n",
    "nmiss = 0\n",
    "\n",
    "while i < len(end_readout)-2:\n",
    "    intra = end_readout['imageName'][i]\n",
    "    extra = end_readout['imageName'][i+1]\n",
    "    in_focus = end_readout['imageName'][i-1]\n",
    "    \n",
    "    #skip known bad files\n",
    "    if intra == 'AT_O_20200218_000179' and extra == 'AT_O_20200218_000180':\n",
    "        i+=2\n",
    "        continue\n",
    "    group_id=(end_readout.additionalValues[i])[0:25]\n",
    "    group_id_next=(end_readout.additionalValues[i+1])[0:25]\n",
    "    group_id_previous=(end_readout.additionalValues[i+2])[0:25] # this is horrible, but looks for the in-focus image\n",
    "    image_type=(end_readout.additionalValues[i])[26::]\n",
    "    image_type_previous=(end_readout.additionalValues[i-1])[26::]\n",
    "    if ((group_id_next == group_id) and \n",
    "        (group_id_next != group_id_previous) and\n",
    "        (image_type == 'ENGTEST' and image_type_previous == 'OBJECT')):\n",
    "        \n",
    "        print(f\"Got a pair: {intra} x {extra}, with in-focus of {in_focus}\")\n",
    "        intra_images.append(intra)\n",
    "        extra_images.append(extra)\n",
    "        in_focus_images.append(in_focus)\n",
    "        intra_times.append(end_readout.index[i])\n",
    "        extra_times.append(end_readout.index[i+1])\n",
    "        in_focus_times.append(end_readout.index[i-1])\n",
    "        intra_exptimes.append(end_readout['requestedExposureTime'][i])\n",
    "        extra_exptimes.append(end_readout['requestedExposureTime'][i+1])\n",
    "        in_focus_exptimes.append(end_readout['requestedExposureTime'][i-1])\n",
    "        i+=2\n",
    "        npairs+=1\n",
    "    else:\n",
    "#         print(f\"No Match: {intra} x {extra}\")\n",
    "        nmiss+=1\n",
    "        i+=1\n",
    "\n",
    "print(f\"Got {npairs} pairs and {nmiss} misses.\")"
   ]
  },
  {
   "cell_type": "code",
   "execution_count": null,
   "metadata": {},
   "outputs": [],
   "source": [
    "# Create numpy data structure to hold items of interest\n",
    "match_data = np.zeros(npairs, dtype=[('intra', '<U35'), \n",
    "                                     ('extra', '<U35'),\n",
    "                                     ('in_focus', '<U35'),\n",
    "                                     ('az', float), \n",
    "                                           ('el', float), \n",
    "                                           ('rot_pos', float),\n",
    "                                           ('x', float), \n",
    "                                           ('y', float), \n",
    "                                           ('z', float), \n",
    "                                           ('u', float), \n",
    "                                           ('v', float), \n",
    "                                           ('w', float), \n",
    "                                     ('m1_pressure', float),\n",
    "                                     ('dz', float), # don't know what this is anymore\n",
    "                                    ('off_u', float),\n",
    "                                    ('off_u_cumul', float),])"
   ]
  },
  {
   "cell_type": "code",
   "execution_count": null,
   "metadata": {},
   "outputs": [],
   "source": [
    "# Populate the data structure from the pairs found above\n",
    "off_u_cumul = 1/60. # started with a 1 arcmin offset before applying another for the first image\n",
    "prev_timestamp=Time(\"2020-06-09T05:01:30\", format='isot', scale='tai')\n",
    "for i in range(npairs):\n",
    "    \n",
    "    # Determine time stamps for searching for metadata\n",
    "    # include ability to correct for TAI if required, but set to zero for the moment\n",
    "\n",
    "#     t1 = Time(intra_times[i], scale='tai') - TimeDelta(intra_exptimes[i], format='sec', scale='tai') \n",
    "    t1 = Time(in_focus_times[i], scale='tai') - TimeDelta(in_focus_exptimes[i], format='sec', scale='tai')    \n",
    "    #- TimeDelta(180., format='sec', scale='tai')\n",
    "    t2 = Time(extra_times[i], scale='tai') - TimeDelta(2., format='sec', scale='tai')\n",
    "\n",
    "    azel = await efd_client.select_time_series(\"lsst.sal.ATMCS.mount_AzEl_Encoders\", \n",
    "                                               [\"elevationCalculatedAngle99\", \"azimuthCalculatedAngle99\"], t1, t2)\n",
    "    \n",
    "    rotator = await efd_client.select_time_series(\"lsst.sal.ATMCS.mount_Nasmyth_Encoders\",\n",
    "                                                  [\"nasmyth2CalculatedAngle99\"], t1, t2)\n",
    "\n",
    "    hexapod_vals = await efd_client.select_time_series(\"lsst.sal.ATHexapod.positionStatus\", \n",
    "                                           [\"reportedPosition0\", \"reportedPosition1\", \"reportedPosition2\",\n",
    "                                           \"reportedPosition3\", \"reportedPosition4\", \"reportedPosition5\"], t1 , t2)\n",
    "\n",
    "    m1_pressure = await efd_client.select_time_series(\"lsst.sal.ATPneumatics.m1AirPressure\",\n",
    "                                                  [\"pressure\"], t1, t2)\n",
    "    \n",
    "#     offset = await efd_client.select_time_series(\"lsst.sal.ATAOS.cmd_\",\n",
    "#                                                  [\"hexapod_x\", \"hexapod_y\", \"hexapod_z\", \"hexapod_u\", \"hexapod_v\", \"hexapod_w\"], t1, t2)\n",
    "    cmd_offset = await efd_client.select_time_series(\"lsst.sal.ATAOS.command_offset\",\n",
    "                                                 [\"u\", \"v\", \"w\", \"x\", \"y\", \"z\"], t1 - TimeDelta(300., format='sec', scale='tai'), t1) \n",
    "\n",
    "    \n",
    "    rot_pos = np.mean(rotator['nasmyth2CalculatedAngle99'])\n",
    "    el = np.mean(azel['elevationCalculatedAngle99'])\n",
    "    az = np.mean(azel['azimuthCalculatedAngle99'])\n",
    "    \n",
    "    # Take median hexapod position over the time interval\n",
    "    x = hexapod_vals['reportedPosition0'].median()\n",
    "    y = hexapod_vals['reportedPosition1'].median()\n",
    "    z = hexapod_vals['reportedPosition2'].median()\n",
    "    u = hexapod_vals['reportedPosition3'].median()\n",
    "    v = hexapod_vals['reportedPosition4'].median()\n",
    "    w = hexapod_vals['reportedPosition5'].median()\n",
    "    \n",
    "    # this isn't working... I want to get the sum of the offsets since whatever the offset corresponding to the last offset was \n",
    "    # For the moment we'll just use the hexapod positions\n",
    "    ind=np.argmin(abs(in_focus_times[i]-cmd_offset['u'].index))\n",
    "    off_u = cmd_offset['u'][ind]\n",
    "    if cmd_offset['u'].index[ind] != prev_timestamp and cmd_offset['u'][ind] != 0.0:\n",
    "        print(f'prev is {prev_timestamp}')\n",
    "        print(cmd_offset['u'].index[ind]) \n",
    "        print(cmd_offset['u'])\n",
    "        off_u_cumul += cmd_offset['u'][ind]\n",
    "        prev_timestamp = cmd_offset['u'].index[ind]\n",
    "    else:\n",
    "        print(f'prev is {prev_timestamp}')\n",
    "        print(cmd_offset['u'].index[ind])\n",
    "        print(cmd_offset['u'][ind])\n",
    "        print(cmd_offset['u'])\n",
    "    \n",
    "    m1 = np.mean(m1_pressure['pressure'])\n",
    "    dz = np.nan #round((offset['hexapod_z'][-1] - offset['hexapod_z'][-2])/2.,3)\n",
    "    #print(cmd_offset['u'])\n",
    "    print(f'{t1},{t2},{intra_images[i]}, {extra_images[i]}, {in_focus_images[i]}, {az:0.3f}, {el:0.3f}, {rot_pos:0.3f}, {x:0.3f}, {y:0.3f}, {z:0.3f}, {u:0.3f}, {v:0.3f}, {w:0.3f}, {dz}, {off_u:0.3f}, {off_u_cumul:0.3f}')\n",
    "    match_data[i] = (f\"{intra_images[i]}.fits\", f\"{extra_images[i]}.fits\", f\"{in_focus_images[i]}.fits\", az, el, rot_pos, x, y, z, u, v, w, m1, dz, off_u, off_u_cumul)"
   ]
  },
  {
   "cell_type": "code",
   "execution_count": null,
   "metadata": {},
   "outputs": [],
   "source": [
    "end_readout"
   ]
  },
  {
   "cell_type": "code",
   "execution_count": null,
   "metadata": {},
   "outputs": [],
   "source": [
    "\n",
    "import pandas # why?"
   ]
  },
  {
   "cell_type": "code",
   "execution_count": null,
   "metadata": {},
   "outputs": [],
   "source": [
    "out = rendezvous_dataframes(end_readout, cmd_offset, direction='backward', tolerance=pd.Timedelta(days=1))\n",
    "# print(f'blah {cmd_offset['u'].index[ind]}') #why doesn't this work?!?"
   ]
  },
  {
   "cell_type": "code",
   "execution_count": null,
   "metadata": {},
   "outputs": [],
   "source": [
    "out"
   ]
  },
  {
   "cell_type": "code",
   "execution_count": null,
   "metadata": {},
   "outputs": [],
   "source": [
    "cmd_offset"
   ]
  },
  {
   "cell_type": "code",
   "execution_count": null,
   "metadata": {},
   "outputs": [],
   "source": [
    "out['y'].cumsum()"
   ]
  },
  {
   "cell_type": "code",
   "execution_count": null,
   "metadata": {},
   "outputs": [],
   "source": [
    "# Convert to dataframe\n",
    "df = pd.DataFrame(match_data)"
   ]
  },
  {
   "cell_type": "code",
   "execution_count": null,
   "metadata": {},
   "outputs": [],
   "source": [
    "df"
   ]
  },
  {
   "cell_type": "code",
   "execution_count": null,
   "metadata": {},
   "outputs": [],
   "source": [
    "# for i in range(len(df)):\n",
    "#     print(f\"{df['intra'][i]}: {df['el'][i]+df['rot_pos'][i]}: dz={df['dz'][i]}\")\n",
    "# # df['intra'],df['el']+df['rot_pos']"
   ]
  },
  {
   "cell_type": "code",
   "execution_count": null,
   "metadata": {},
   "outputs": [],
   "source": [
    "filename=\"20210608_\"+axis+\"axis-motion_metadata.csv\"\n",
    "df.to_csv(filename)"
   ]
  },
  {
   "cell_type": "markdown",
   "metadata": {},
   "source": [
    "# Now reduce the data for each pair to get the zernikes from fitting\n",
    "#### You can start here if the top bit has already run "
   ]
  },
  {
   "cell_type": "code",
   "execution_count": null,
   "metadata": {},
   "outputs": [],
   "source": [
    "def atcs_get_bore_sight_angle(elevation_angle, nasmyth_angle):\n",
    "    # modified from atcs.py\n",
    "    # instrument on nasymth2, so\n",
    "    parity_x = -1\n",
    "    bore_sight_angle = elevation_angle + parity_x * nasmyth_angle + 90.0\n",
    "    return bore_sight_angle"
   ]
  },
  {
   "cell_type": "code",
   "execution_count": null,
   "metadata": {},
   "outputs": [],
   "source": [
    "import sys\n",
    "import asyncio\n",
    "import logging\n",
    "import numpy as np\n",
    "from lsst.ts.externalscripts.auxtel.latiss_cwfs_align import LatissCWFSAlign\n",
    "import time\n",
    "import os"
   ]
  },
  {
   "cell_type": "code",
   "execution_count": null,
   "metadata": {},
   "outputs": [],
   "source": [
    "# Read in the file (written using code above)\n",
    "df2 = pd.read_csv(filename)"
   ]
  },
  {
   "cell_type": "code",
   "execution_count": null,
   "metadata": {},
   "outputs": [],
   "source": [
    "# but need to add all the zernike terms from the fitting\n",
    "df2['zern_defocus_nm'] = np.zeros(len(df2))\n",
    "df2['zern_xastig_nm'] = np.zeros(len(df2))\n",
    "df2['zern_yastig_nm'] = np.zeros(len(df2))\n",
    "df2['zern_xcoma_nm'] = np.zeros(len(df2))\n",
    "df2['zern_ycoma_nm'] = np.zeros(len(df2))\n",
    "df2['zern_xtrefoil_nm'] = np.zeros(len(df2))\n",
    "df2['zern_ytrefoil_nm'] = np.zeros(len(df2))\n",
    "df2['zern_spherical_nm'] = np.zeros(len(df2))"
   ]
  },
  {
   "cell_type": "code",
   "execution_count": null,
   "metadata": {},
   "outputs": [],
   "source": []
  },
  {
   "cell_type": "code",
   "execution_count": null,
   "metadata": {},
   "outputs": [],
   "source": [
    "# this just needs to be set, but is not actually used\n",
    "os.environ['LSST_DDS_DOMAIN'] = 'junk'"
   ]
  },
  {
   "cell_type": "code",
   "execution_count": null,
   "metadata": {},
   "outputs": [],
   "source": [
    "# alignment script needs to have remotes set to False! Otherwise it'll try to command the hexapod!\n",
    "script = LatissCWFSAlign(index=1, remotes=False)"
   ]
  },
  {
   "cell_type": "code",
   "execution_count": null,
   "metadata": {},
   "outputs": [],
   "source": [
    "# define the location of the butler repo\n",
    "script.dataPath='/project/shared/auxTel/'"
   ]
  },
  {
   "cell_type": "code",
   "execution_count": null,
   "metadata": {},
   "outputs": [],
   "source": [
    "def get_visitID_from_filename(filename):\n",
    "    # Expects AT_O_20200218_000167.fits\n",
    "    # parse out visitID from filename - this is highly annoying\n",
    "    tmp=filename.split('_')\n",
    "    prefix=tmp[2] # dayobs without the dashes\n",
    "\n",
    "    # Don't remember why I used int here... whitespace? \n",
    "    # surely fixable but bigger fish.\n",
    "    suffix='{:05d}'.format(int(tmp[3].split('.')[0])) # SEQNUM, but need to trim extra 0 in obsid\n",
    "    visitID = int((prefix+suffix))\n",
    "    #print(visitID)\n",
    "    return visitID"
   ]
  },
  {
   "cell_type": "code",
   "execution_count": null,
   "metadata": {},
   "outputs": [],
   "source": [
    "# bin images when performing fits?\n",
    "script.binning=2"
   ]
  },
  {
   "cell_type": "code",
   "execution_count": null,
   "metadata": {},
   "outputs": [],
   "source": []
  },
  {
   "cell_type": "code",
   "execution_count": null,
   "metadata": {},
   "outputs": [],
   "source": [
    "for n in range(len(df2)):\n",
    "    # see tstn-015 and example notebook on running latiss_align_cwfs script\n",
    "    script.intra_visit_id = get_visitID_from_filename(df2['intra'][n])\n",
    "    script.extra_visit_id = get_visitID_from_filename(df2['extra'][n])\n",
    "    script.angle = 90-atcs_get_bore_sight_angle(df2['el'][n], df2['rot_pos'][n])\n",
    "\n",
    "    start_time=time.time()\n",
    "    await script.run_cwfs()\n",
    "    end_time=time.time()\n",
    "    print('WFE fitting for visitIDs {0} and {1} took {2:0.3f} seconds'.format(script.intra_visit_id, script.extra_visit_id,end_time-start_time)) # 56.7s\n",
    "\n",
    "    # Display fitting results?\n",
    "    if (False):\n",
    "        # plot zernikes\n",
    "        x = np.arange(9)+4\n",
    "        plt.plot(x, script.algo.zer4UpNm[:9], 'o-', label=f'{script.dz}')\n",
    "        xlim = plt.xlim()\n",
    "        plt.plot(np.arange(15), np.zeros(15)+50, 'b--')\n",
    "        plt.plot(np.arange(15), np.zeros(15)-50, 'b--')\n",
    "        plt.xlim(xlim)\n",
    "        plt.ylabel(\"Zernike coeff (nm)\")\n",
    "        plt.xlabel(\"Zernike index\")\n",
    "        plt.grid()\n",
    "        plt.legend()\n",
    "        \n",
    "    if (True):\n",
    "        # plot image and mask\n",
    "        fig1 = plt.figure(2, figsize=(12,8))\n",
    "        ax11 = fig1.add_subplot(121)\n",
    "        ax11.set_title(\"defocus 0.8 - intra\")\n",
    "        ax11.imshow(script.I1[0].image0)\n",
    "        ax11.contour(script.algo.pMask) \n",
    "        ax12 = fig1.add_subplot(122)\n",
    "        ax12.set_title(\"defocus 0.8 - extra\")\n",
    "        ax12.imshow(script.I2[0].image0)\n",
    "        ax12.contour(script.algo.pMask) \n",
    "        \n",
    "    # Put results into data structure\n",
    "    # This will throw errors but don't know how to do this properly!\n",
    "    df2['zern_defocus_nm'][n] = script.algo.zer4UpNm[0]\n",
    "    df2['zern_xastig_nm'][n] = script.algo.zer4UpNm[1]\n",
    "    df2['zern_yastig_nm'][n] = script.algo.zer4UpNm[2]\n",
    "    df2['zern_xcoma_nm'][n] = script.algo.zer4UpNm[3]\n",
    "    df2['zern_ycoma_nm'][n]= script.algo.zer4UpNm[4]\n",
    "    df2['zern_xtrefoil_nm'][n] = script.algo.zer4UpNm[5]\n",
    "    df2['zern_ytrefoil_nm'][n] = script.algo.zer4UpNm[6]\n",
    "    df2['zern_spherical_nm'][n] = script.algo.zer4UpNm[7]"
   ]
  },
  {
   "cell_type": "code",
   "execution_count": null,
   "metadata": {},
   "outputs": [],
   "source": [
    "print('done')"
   ]
  },
  {
   "cell_type": "code",
   "execution_count": null,
   "metadata": {},
   "outputs": [],
   "source": []
  },
  {
   "cell_type": "code",
   "execution_count": null,
   "metadata": {},
   "outputs": [],
   "source": [
    "#write to CSV file\n",
    "filename=\"20210607_\"+axis+\"axis_data_with_WFE_in_zerns.csv\"\n",
    "df2.to_csv(filename)"
   ]
  },
  {
   "cell_type": "markdown",
   "metadata": {},
   "source": [
    "# Fit the data\n",
    "### start here if just fitting existing data"
   ]
  },
  {
   "cell_type": "code",
   "execution_count": null,
   "metadata": {},
   "outputs": [],
   "source": [
    "from scipy.optimize import curve_fit\n",
    "%matplotlib inline\n",
    "import pandas as pd\n",
    "import numpy as np\n",
    "import matplotlib.pyplot as plt"
   ]
  },
  {
   "cell_type": "code",
   "execution_count": null,
   "metadata": {},
   "outputs": [],
   "source": [
    "def parabola(x,b, x0, a):\n",
    "    return b + a*(x-x0)**2 \n",
    "def line(x,b, m):\n",
    "    return b + m*x \n",
    "def invparabola(y,b,x0,a):\n",
    "    return x0+np.sqrt((y-b)/a)\n",
    "def invline(y,b,m):\n",
    "    return (y-b)/m"
   ]
  },
  {
   "cell_type": "code",
   "execution_count": null,
   "metadata": {},
   "outputs": [],
   "source": [
    "axis='y'"
   ]
  },
  {
   "cell_type": "code",
   "execution_count": null,
   "metadata": {},
   "outputs": [],
   "source": [
    "filename=\"20210607_\"+axis+\"axis_data_with_WFE_in_zerns.csv\"\n",
    "df3 = pd.read_csv(filename)"
   ]
  },
  {
   "cell_type": "code",
   "execution_count": null,
   "metadata": {},
   "outputs": [],
   "source": [
    "# declare the indices that correspond to the axis of interest\n",
    "if axis =='u':\n",
    "    inds = np.arange(0,5)\n",
    "if axis =='v':\n",
    "    inds = np.arange(0,5)\n",
    "if axis =='x':\n",
    "    inds = np.arange(0,6)\n",
    "if axis =='y':\n",
    "    inds = np.arange(0,6)"
   ]
  },
  {
   "cell_type": "code",
   "execution_count": null,
   "metadata": {},
   "outputs": [],
   "source": []
  },
  {
   "cell_type": "code",
   "execution_count": null,
   "metadata": {},
   "outputs": [],
   "source": [
    "# using the variable axs for multiple Axes\n",
    "nx=3; ny=3\n",
    "fig, axs = plt.subplots(3, 3)\n",
    "fig.set_size_inches(16, 12, forward=True)\n",
    "count=0\n",
    "motion_key=axis\n",
    "zern_keys = df3.keys()[18:29]\n",
    "for i in range(nx):\n",
    "    for j in range(ny):\n",
    "        if count>len(zern_keys)-1:\n",
    "            axs[i, j].annotate(f'Intentionally Blank',(0.3,0.5), xycoords=xycoords)\n",
    "            continue\n",
    "        zern_key=zern_keys[count]\n",
    "        xdata=df3[motion_key][inds]\n",
    "        ydata=df3[zern_key][inds]\n",
    "\n",
    "        axs[i, j].plot(xdata,ydata,'o')\n",
    "        x=np.arange(np.min(xdata), np.max(xdata), np.abs(np.max(xdata) - np.min(xdata))/100 )\n",
    "        popt,pcov = curve_fit(line, xdata, ydata)\n",
    "        perr = np.sqrt(np.diag(pcov))\n",
    "\n",
    "        axs[i, j].plot(x,line(x, *popt))\n",
    "        tmp=zern_key\n",
    "        axs[i, j].set_ylabel(f\"{zern_key.split('_')[1]} [nm]\")\n",
    "        axs[i, j].set_xlabel(motion_key+' hexapod position (or offset)')\n",
    "        xpos=0.6; ypos=0.8 ; xycoords='axes fraction'\n",
    "        axs[i, j].annotate(f'm = {popt[1]:0.1f}\\u00B1{perr[1]:0.1f}',(xpos,ypos), xycoords=xycoords)\n",
    "        axs[i, j].annotate(f'b = {popt[0]:0.1f}\\u00B1{perr[0]:0.1f}',(xpos,ypos-0.08), xycoords=xycoords)\n",
    "        \n",
    "        count+=1\n"
   ]
  },
  {
   "cell_type": "code",
   "execution_count": null,
   "metadata": {},
   "outputs": [],
   "source": [
    "xdata=df3[motion_key][inds]"
   ]
  },
  {
   "cell_type": "code",
   "execution_count": null,
   "metadata": {},
   "outputs": [],
   "source": [
    "motion_key"
   ]
  },
  {
   "cell_type": "code",
   "execution_count": null,
   "metadata": {},
   "outputs": [],
   "source": [
    "tmp='asdf'"
   ]
  },
  {
   "cell_type": "code",
   "execution_count": null,
   "metadata": {},
   "outputs": [],
   "source": [
    "tmp.upper()"
   ]
  },
  {
   "cell_type": "code",
   "execution_count": null,
   "metadata": {},
   "outputs": [],
   "source": []
  }
 ],
 "metadata": {
  "kernelspec": {
   "display_name": "LSST",
   "language": "python",
   "name": "lsst"
  },
  "language_info": {
   "codemirror_mode": {
    "name": "ipython",
    "version": 3
   },
   "file_extension": ".py",
   "mimetype": "text/x-python",
   "name": "python",
   "nbconvert_exporter": "python",
   "pygments_lexer": "ipython3",
   "version": "3.8.8"
  }
 },
 "nbformat": 4,
 "nbformat_minor": 4
}
