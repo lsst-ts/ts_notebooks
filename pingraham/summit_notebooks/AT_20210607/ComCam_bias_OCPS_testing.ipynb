{
 "cells": [
  {
   "cell_type": "code",
   "execution_count": null,
   "id": "75669a37",
   "metadata": {},
   "outputs": [],
   "source": [
    "import sys\n",
    "import asyncio\n",
    "import time\n",
    "import os\n",
    "import json\n",
    "\n",
    "import numpy as np\n",
    "\n",
    "from lsst.ts import salobj\n",
    "\n",
    "# Import the control classesf\n",
    "# the MTCS might not be needed yet so I'll comment it out\n",
    "# from lsst.ts.observatory.control.maintel.mtcs import MTCS\n",
    "from lsst.ts.observatory.control.maintel.comcam import ComCam"
   ]
  },
  {
   "cell_type": "code",
   "execution_count": null,
   "id": "7db3bb21",
   "metadata": {},
   "outputs": [],
   "source": []
  },
  {
   "cell_type": "code",
   "execution_count": null,
   "id": "00b3909a",
   "metadata": {},
   "outputs": [],
   "source": [
    "# for tab completion to work\n",
    "%config IPCompleter.use_jedi = False"
   ]
  },
  {
   "cell_type": "code",
   "execution_count": null,
   "id": "62ceea4d",
   "metadata": {},
   "outputs": [],
   "source": [
    "import logging\n",
    "stream_handler = logging.StreamHandler(sys.stdout)\n",
    "logger = logging.getLogger()\n",
    "logger.addHandler(stream_handler)\n",
    "logger.level = logging.DEBUG"
   ]
  },
  {
   "cell_type": "code",
   "execution_count": null,
   "id": "bf9f13cf",
   "metadata": {},
   "outputs": [],
   "source": [
    "# Just verify that the right environment variables are loaded\n",
    "print(os.environ[\"OSPL_URI\"])\n",
    "print(os.environ[\"LSST_DDS_PARTITION_PREFIX\"])"
   ]
  },
  {
   "cell_type": "code",
   "execution_count": null,
   "id": "df0bde9f",
   "metadata": {},
   "outputs": [],
   "source": [
    "# grab the communication domain\n",
    "domain = salobj.Domain()"
   ]
  },
  {
   "cell_type": "code",
   "execution_count": null,
   "id": "56f59414",
   "metadata": {},
   "outputs": [],
   "source": [
    "#mtcs = MTCS(domain)\n",
    "comcam = ComCam(domain)\n",
    "# Create Remote to ocps \n",
    "ocps = salobj.Remote(domain, \"OCPS\")\n",
    "await asyncio.gather(comcam.start_task, ocps.start_task) #, mtcs.start_task)"
   ]
  },
  {
   "cell_type": "markdown",
   "id": "102b8335",
   "metadata": {},
   "source": [
    "### When writing a script, the components should (probably) be enabled by a user."
   ]
  },
  {
   "cell_type": "code",
   "execution_count": null,
   "id": "372faa2d",
   "metadata": {},
   "outputs": [],
   "source": [
    "await comcam.rem.cccamera.evt_heartbeat.next(flush=True, timeout=10)"
   ]
  },
  {
   "cell_type": "code",
   "execution_count": null,
   "id": "411b43ca",
   "metadata": {},
   "outputs": [],
   "source": [
    "# Bring ComCam (and other components to the enabled state)\n",
    "await comcam.enable()"
   ]
  },
  {
   "cell_type": "code",
   "execution_count": null,
   "id": "71103cc8",
   "metadata": {},
   "outputs": [],
   "source": [
    "# now enable the OCPS, and supply a configuration\n",
    "await salobj.set_summary_state(ocps, salobj.State.ENABLED, settingsToApply=\"LSSTComCam.yaml\")"
   ]
  },
  {
   "cell_type": "code",
   "execution_count": null,
   "id": "da3582ad",
   "metadata": {},
   "outputs": [],
   "source": [
    "?comcam.take_bias"
   ]
  },
  {
   "cell_type": "code",
   "execution_count": null,
   "id": "616d5180",
   "metadata": {},
   "outputs": [],
   "source": [
    "# take n biases, returns a list of the obsids\n",
    "tmp = await comcam.take_bias(2)\n",
    "print(tmp)"
   ]
  },
  {
   "cell_type": "code",
   "execution_count": null,
   "id": "f38f8dea",
   "metadata": {},
   "outputs": [],
   "source": [
    "# did the images get archived and are they available to the butler?\n",
    "val = await comcam.rem.ccarchiver.evt_imageInOODS.aget(timeout=10)\n",
    "print(val)"
   ]
  },
  {
   "cell_type": "code",
   "execution_count": null,
   "id": "6d95cb63",
   "metadata": {},
   "outputs": [],
   "source": [
    "# Question: How do we verify that each file got ingested and not just check the latest?"
   ]
  },
  {
   "cell_type": "code",
   "execution_count": null,
   "id": "8628f9f3",
   "metadata": {},
   "outputs": [],
   "source": [
    "# Should verify that the OODS ingestion is equal to the last obsid in the set of biases"
   ]
  },
  {
   "cell_type": "code",
   "execution_count": null,
   "id": "5f02498b",
   "metadata": {},
   "outputs": [],
   "source": [
    "# now send to the OCPS\n",
    "exposures = tuple(tmp)\n",
    "detectors = (0,1,2,3,4,5,6,7,8)\n",
    "# can we get instrument out of anything in the control system classes?\n",
    "instrument='LSSTComCam' # must be LATISS, LSSTComCam or LSSTCam"
   ]
  },
  {
   "cell_type": "code",
   "execution_count": null,
   "id": "dc7f74ef",
   "metadata": {},
   "outputs": [],
   "source": [
    "ack = await ocps.cmd_execute.set_start(\n",
    "    wait_done=False,\n",
    "    pipeline=\"${CP_PIPE_DIR}/pipelines/cpBias.yaml\", version=\"\",\n",
    "    config=\"-j 9 -c isr:doDefect=False\",\n",
    "    data_query=f\"instrument='{instrument}' AND\"\n",
    "               f\" detector IN {detectors} AND exposure IN {exposures}\"\n",
    ")\n",
    "if ack.ack != salobj.SalRetCode.CMD_ACK:\n",
    "    ack.print_vars()"
   ]
  },
  {
   "cell_type": "code",
   "execution_count": null,
   "id": "7974f363",
   "metadata": {},
   "outputs": [],
   "source": [
    "# Wait for the in-progress acknowledgement with the job identifier.  This can be executed immediately after the previous cell.\n",
    "ack = await ocps.cmd_execute.next_ackcmd(ack, wait_done=False, timeout=10)\n",
    "print('Received acknowledgement of ocps command')\n",
    "ack.print_vars()\n",
    "job_id = json.loads(ack.result)[\"job_id\"]\n",
    "\n",
    "# Wait for the command completion acknowledgement.  This can be executed anytime after the execute command.\n",
    "ack = await ocps.cmd_execute.next_ackcmd(ack, timeout=600)\n",
    "print('Received command completion acknowledgement from  ocps')\n",
    "if ack.ack != salobj.SalRetCode.CMD_COMPLETE:\n",
    "    ack.print_vars()\n",
    "    \n",
    "#Wait for the job result message that matches the job id we're interested in, ignoring any others (from other remotes).\n",
    "# This obviously needs to follow the first acknowledgement (that returns the job id) but might as well wait for the second.\n",
    "while True:\n",
    "    msg = await ocps.evt_job_result.next(flush=False, timeout=10)\n",
    "    response = json.loads(msg.result)\n",
    "    if response[\"jobId\"] == job_id:\n",
    "        break\n",
    "print(response)"
   ]
  },
  {
   "cell_type": "code",
   "execution_count": null,
   "id": "9a1aaf07",
   "metadata": {},
   "outputs": [],
   "source": []
  },
  {
   "cell_type": "code",
   "execution_count": null,
   "id": "93932824",
   "metadata": {},
   "outputs": [],
   "source": []
  },
  {
   "cell_type": "code",
   "execution_count": null,
   "id": "b55a44ae",
   "metadata": {},
   "outputs": [],
   "source": []
  },
  {
   "cell_type": "code",
   "execution_count": null,
   "id": "ab1f882f",
   "metadata": {},
   "outputs": [],
   "source": [
    "# can run independently if it times out.\n",
    "msg = await ocps.evt_job_result.next(flush=False, timeout=10)"
   ]
  },
  {
   "cell_type": "code",
   "execution_count": null,
   "id": "efc6c686",
   "metadata": {},
   "outputs": [],
   "source": [
    "print(msg)"
   ]
  },
  {
   "cell_type": "code",
   "execution_count": null,
   "id": "ee754036",
   "metadata": {},
   "outputs": [],
   "source": [
    "# Put instrument back in standby\n",
    "await comcam.standby()"
   ]
  },
  {
   "cell_type": "code",
   "execution_count": null,
   "id": "4aa37f2c",
   "metadata": {},
   "outputs": [],
   "source": [
    "# Put OCPS back in standby\n",
    "await salobj.set_summary_state(ocps, salobj.State.STANDBY)"
   ]
  }
 ],
 "metadata": {
  "kernelspec": {
   "display_name": "LSST",
   "language": "python",
   "name": "lsst"
  },
  "language_info": {
   "codemirror_mode": {
    "name": "ipython",
    "version": 3
   },
   "file_extension": ".py",
   "mimetype": "text/x-python",
   "name": "python",
   "nbconvert_exporter": "python",
   "pygments_lexer": "ipython3",
   "version": "3.8.8"
  }
 },
 "nbformat": 4,
 "nbformat_minor": 5
}
