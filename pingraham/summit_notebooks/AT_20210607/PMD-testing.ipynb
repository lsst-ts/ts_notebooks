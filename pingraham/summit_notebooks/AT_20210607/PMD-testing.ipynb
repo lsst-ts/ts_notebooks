{
 "cells": [
  {
   "cell_type": "code",
   "execution_count": 1,
   "id": "4ba7a3a2",
   "metadata": {},
   "outputs": [],
   "source": [
    "import sys\n",
    "import asyncio\n",
    "import time\n",
    "import os\n",
    "\n",
    "import numpy as np\n",
    "\n",
    "from lsst.ts import salobj"
   ]
  },
  {
   "cell_type": "code",
   "execution_count": 2,
   "id": "ab2eca9d",
   "metadata": {},
   "outputs": [],
   "source": [
    "domain = salobj.Domain()\n",
    "remote = salobj.Remote(name=\"PMD\", domain=domain, index=1)\n",
    "await remote.start_task"
   ]
  },
  {
   "cell_type": "code",
   "execution_count": 3,
   "id": "9345a0e7",
   "metadata": {},
   "outputs": [
    {
     "name": "stdout",
     "output_type": "stream",
     "text": [
      "PMDID: 1, private_revCode: f6854b27, private_sndStamp: 1629472484.9587638, private_rcvStamp: 1629472484.9601285, private_seqNum: 239501, private_identity: PMD:1, private_origin: 21027, private_host: 0, heartbeat: False, priority: 0\n"
     ]
    }
   ],
   "source": [
    "tmp = await remote.evt_heartbeat.next(flush=True,timeout=5)\n",
    "print(tmp)"
   ]
  },
  {
   "cell_type": "code",
   "execution_count": 9,
   "id": "7d9e6112",
   "metadata": {},
   "outputs": [],
   "source": [
    "tmp = await remote.cmd_setLogLevel.set_start(level=10)"
   ]
  },
  {
   "cell_type": "code",
   "execution_count": 5,
   "id": "eb4c2539",
   "metadata": {},
   "outputs": [
    {
     "name": "stdout",
     "output_type": "stream",
     "text": [
      "State.ENABLED\n"
     ]
    }
   ],
   "source": [
    "tmp = await remote.evt_summaryState.aget(timeout=5)\n",
    "print(salobj.State(tmp.summaryState))"
   ]
  },
  {
   "cell_type": "code",
   "execution_count": null,
   "id": "be3f433b",
   "metadata": {},
   "outputs": [],
   "source": []
  },
  {
   "cell_type": "code",
   "execution_count": 8,
   "id": "aebd6a92",
   "metadata": {},
   "outputs": [
    {
     "name": "stdout",
     "output_type": "stream",
     "text": [
      "[<State.STANDBY: 5>, <State.DISABLED: 1>, <State.ENABLED: 2>]\n"
     ]
    }
   ],
   "source": [
    "tmp=await salobj.set_summary_state(remote, salobj.State.ENABLED, settingsToApply='current', timeout=30)\n",
    "print(tmp)"
   ]
  },
  {
   "cell_type": "code",
   "execution_count": 10,
   "id": "4e24756b",
   "metadata": {},
   "outputs": [
    {
     "name": "stdout",
     "output_type": "stream",
     "text": [
      "PMDID: 1, private_revCode: 819e90fa, private_sndStamp: 1629472656.8837078, private_rcvStamp: 1629472656.884823, private_seqNum: 7, private_identity: PMD:1, private_origin: 824, private_host: 0, position: [-0.064, 0.078, 0.003, 11.868, nan, 4.991, nan, nan]\n"
     ]
    }
   ],
   "source": [
    "tmp = await remote.tel_position.next(flush=True, timeout=15)\n",
    "print(tmp)"
   ]
  },
  {
   "cell_type": "code",
   "execution_count": null,
   "id": "fe534ac5",
   "metadata": {},
   "outputs": [],
   "source": [
    "#tmp = await remote.cmd_exitControl.start()"
   ]
  },
  {
   "cell_type": "code",
   "execution_count": null,
   "id": "6ef3a0af",
   "metadata": {},
   "outputs": [],
   "source": [
    "# checking for movement\n",
    "tmp = await remote.tel_position.next(flush=True, timeout=25)\n",
    "print(tmp)"
   ]
  },
  {
   "cell_type": "code",
   "execution_count": null,
   "id": "2c703a04",
   "metadata": {},
   "outputs": [],
   "source": []
  },
  {
   "cell_type": "code",
   "execution_count": null,
   "id": "7e92411e",
   "metadata": {},
   "outputs": [],
   "source": [
    "# Triggering state changes manually often yeilds better error messages.\n",
    "tmp = await remote.cmd_start.set_start(settingsToApply=\"current\",timeout=10)"
   ]
  },
  {
   "cell_type": "code",
   "execution_count": null,
   "id": "cb5cba68",
   "metadata": {},
   "outputs": [],
   "source": []
  },
  {
   "cell_type": "code",
   "execution_count": 12,
   "id": "2f6a7b86",
   "metadata": {},
   "outputs": [
    {
     "ename": "TypeError",
     "evalue": "unsupported operand type(s) for /: 'int' and 'str'",
     "output_type": "error",
     "traceback": [
      "\u001b[0;31m---------------------------------------------------------------------------\u001b[0m",
      "\u001b[0;31mTypeError\u001b[0m                                 Traceback (most recent call last)",
      "\u001b[0;32m<ipython-input-12-bd3a48bf40a9>\u001b[0m in \u001b[0;36m<module>\u001b[0;34m\u001b[0m\n\u001b[0;32m----> 1\u001b[0;31m \u001b[0;36m10\u001b[0m\u001b[0;34m/\u001b[0m\u001b[0;34m'sdf'\u001b[0m\u001b[0;34m\u001b[0m\u001b[0;34m\u001b[0m\u001b[0m\n\u001b[0m",
      "\u001b[0;31mTypeError\u001b[0m: unsupported operand type(s) for /: 'int' and 'str'"
     ]
    }
   ],
   "source": [
    "10/'sdf'"
   ]
  },
  {
   "cell_type": "code",
   "execution_count": null,
   "id": "0e43b770",
   "metadata": {},
   "outputs": [],
   "source": [
    "print(tmp)"
   ]
  },
  {
   "cell_type": "code",
   "execution_count": null,
   "id": "1b4f5d5d",
   "metadata": {},
   "outputs": [],
   "source": [
    "tmp = await remote.cmd_enable.start(timeout=20)"
   ]
  },
  {
   "cell_type": "code",
   "execution_count": null,
   "id": "c38dc68c",
   "metadata": {},
   "outputs": [],
   "source": [
    "tmp = await remote.cmd_disable.start(timeout=10)"
   ]
  },
  {
   "cell_type": "code",
   "execution_count": null,
   "id": "45720e2d",
   "metadata": {},
   "outputs": [],
   "source": [
    "tmp = await remote.cmd_standby.start(timeout=10)"
   ]
  },
  {
   "cell_type": "code",
   "execution_count": null,
   "id": "af346f53",
   "metadata": {},
   "outputs": [],
   "source": [
    "tmp = await remote.cmd_exitControl.start(timeout=10)"
   ]
  },
  {
   "cell_type": "code",
   "execution_count": null,
   "id": "fdf19dfa",
   "metadata": {},
   "outputs": [],
   "source": [
    "tmp = await remote.evt_pressure.next(flush=True,timeout=10)"
   ]
  },
  {
   "cell_type": "code",
   "execution_count": null,
   "id": "7a64083a",
   "metadata": {},
   "outputs": [],
   "source": []
  },
  {
   "cell_type": "code",
   "execution_count": 1,
   "id": "514ebc4b",
   "metadata": {},
   "outputs": [],
   "source": [
    "import astropy as astropy"
   ]
  },
  {
   "cell_type": "code",
   "execution_count": 2,
   "id": "ac89d4ad",
   "metadata": {},
   "outputs": [
    {
     "data": {
      "text/plain": [
       "'4.1'"
      ]
     },
     "execution_count": 2,
     "metadata": {},
     "output_type": "execute_result"
    }
   ],
   "source": [
    "astropy.__version__"
   ]
  },
  {
   "cell_type": "code",
   "execution_count": null,
   "id": "621c355a",
   "metadata": {},
   "outputs": [],
   "source": []
  }
 ],
 "metadata": {
  "kernelspec": {
   "display_name": "LSST",
   "language": "python",
   "name": "lsst"
  },
  "language_info": {
   "codemirror_mode": {
    "name": "ipython",
    "version": 3
   },
   "file_extension": ".py",
   "mimetype": "text/x-python",
   "name": "python",
   "nbconvert_exporter": "python",
   "pygments_lexer": "ipython3",
   "version": "3.8.8"
  }
 },
 "nbformat": 4,
 "nbformat_minor": 5
}
