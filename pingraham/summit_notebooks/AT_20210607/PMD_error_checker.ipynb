{
 "cells": [
  {
   "cell_type": "code",
   "execution_count": null,
   "id": "0e199220",
   "metadata": {},
   "outputs": [],
   "source": [
    "from lsst.ts import salobj\n",
    "\n",
    "print(salobj.get_user_host())"
   ]
  },
  {
   "cell_type": "code",
   "execution_count": null,
   "id": "b347bd7a",
   "metadata": {},
   "outputs": [],
   "source": [
    "import os\n",
    "import numpy as np"
   ]
  },
  {
   "cell_type": "code",
   "execution_count": null,
   "id": "3399c5e9",
   "metadata": {},
   "outputs": [],
   "source": [
    "os.getuid()*100+np.random.randint(0,10)"
   ]
  },
  {
   "cell_type": "code",
   "execution_count": null,
   "id": "b8b02f0b",
   "metadata": {},
   "outputs": [],
   "source": [
    "os.getuid()*100"
   ]
  },
  {
   "cell_type": "code",
   "execution_count": null,
   "id": "5ca83970",
   "metadata": {},
   "outputs": [],
   "source": []
  },
  {
   "cell_type": "code",
   "execution_count": null,
   "id": "f97c24e0",
   "metadata": {},
   "outputs": [],
   "source": [
    "import asyncio \n",
    "import matplotlib\n",
    "\n",
    "import numpy as np\n",
    "import pandas as pd\n",
    "\n",
    "from matplotlib import pylab as plt\n",
    "from astropy.time import Time, TimeDelta\n",
    "from lsst_efd_client import EfdClient, rendezvous_dataframes"
   ]
  },
  {
   "cell_type": "code",
   "execution_count": null,
   "id": "0c244914",
   "metadata": {},
   "outputs": [],
   "source": [
    "%matplotlib inline"
   ]
  },
  {
   "cell_type": "code",
   "execution_count": null,
   "id": "6eed5690",
   "metadata": {},
   "outputs": [],
   "source": [
    "#efd_client = EfdClient('summit_efd')\n",
    "efd_client = EfdClient('ldf_stable_efd') "
   ]
  },
  {
   "cell_type": "markdown",
   "id": "524b89fb",
   "metadata": {},
   "source": [
    "Query for all the `endReadout` events on the timespan of the night, elevation, and pmd data"
   ]
  },
  {
   "cell_type": "code",
   "execution_count": null,
   "id": "254f3378",
   "metadata": {},
   "outputs": [],
   "source": [
    "t1 = Time(\"2021-08-18T02:15:00.000\", format='isot', scale='tai')\n",
    "t2 = Time(Time.now(), format='isot', scale='tai')\n",
    "print(f'It is currently {t2}')"
   ]
  },
  {
   "cell_type": "code",
   "execution_count": null,
   "id": "ec4e9079",
   "metadata": {},
   "outputs": [],
   "source": [
    "# base0 = await efd_client.select_time_series(\"lsst.sal.Script.logevent_logMessage\", \n",
    "#                                            [\"message\",\"level\"], t1, t2)\n",
    "# base0"
   ]
  },
  {
   "cell_type": "code",
   "execution_count": null,
   "id": "ba070280",
   "metadata": {},
   "outputs": [],
   "source": []
  },
  {
   "cell_type": "code",
   "execution_count": null,
   "id": "fba7be9f",
   "metadata": {},
   "outputs": [],
   "source": [
    "# pmd = await efd_client.select_time_series(\"lsst.sal.PMD.position\", [\"position0\", \"position1\", \"position2\", \"position3\", \"position4\", \"position5\"], t1, t2)"
   ]
  },
  {
   "cell_type": "code",
   "execution_count": null,
   "id": "f943eac5",
   "metadata": {},
   "outputs": [],
   "source": [
    "pmd = await efd_client.select_time_series(\"lsst.sal.PMD.logevent_logMessage\", [\"message\", \"level\", ], t1, t2)"
   ]
  },
  {
   "cell_type": "code",
   "execution_count": null,
   "id": "9252e93f",
   "metadata": {},
   "outputs": [],
   "source": [
    "pmd_error = await efd_client.select_time_series(\"lsst.sal.PMD.logevent_errorCode\", [\"errorCode\", \"errorReport\", \"traceback\", ], t1, t2)"
   ]
  },
  {
   "cell_type": "code",
   "execution_count": null,
   "id": "3e74c966",
   "metadata": {},
   "outputs": [],
   "source": [
    "df=pd.concat([pmd, pmd_error])"
   ]
  },
  {
   "cell_type": "code",
   "execution_count": null,
   "id": "a54d54ed",
   "metadata": {},
   "outputs": [],
   "source": [
    "# Show error messages and tracebacks"
   ]
  },
  {
   "cell_type": "code",
   "execution_count": null,
   "id": "88790d6f",
   "metadata": {},
   "outputs": [],
   "source": [
    "ind=(df.message.str.startswith('Sensor m').values == True) & (df.level>=10)\n",
    "df.loc[ind]"
   ]
  },
  {
   "cell_type": "code",
   "execution_count": null,
   "id": "8438ec5a",
   "metadata": {},
   "outputs": [],
   "source": [
    "df.loc[ind].message"
   ]
  },
  {
   "cell_type": "code",
   "execution_count": null,
   "id": "068ee24b",
   "metadata": {},
   "outputs": [],
   "source": [
    "df.loc[ind].message.values"
   ]
  },
  {
   "cell_type": "code",
   "execution_count": null,
   "id": "49314067",
   "metadata": {},
   "outputs": [],
   "source": []
  }
 ],
 "metadata": {
  "kernelspec": {
   "display_name": "LSST",
   "language": "python",
   "name": "lsst"
  },
  "language_info": {
   "codemirror_mode": {
    "name": "ipython",
    "version": 3
   },
   "file_extension": ".py",
   "mimetype": "text/x-python",
   "name": "python",
   "nbconvert_exporter": "python",
   "pygments_lexer": "ipython3",
   "version": "3.8.8"
  }
 },
 "nbformat": 4,
 "nbformat_minor": 5
}
