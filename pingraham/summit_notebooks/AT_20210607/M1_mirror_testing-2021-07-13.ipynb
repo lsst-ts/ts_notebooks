{
 "cells": [
  {
   "cell_type": "code",
   "execution_count": null,
   "id": "c5467ef6",
   "metadata": {},
   "outputs": [],
   "source": [
    "# This notebook performs telescope motion tests in elevation and looks at how the mirror position changes as per the measurements by the PMD"
   ]
  },
  {
   "cell_type": "code",
   "execution_count": 1,
   "id": "e649d91b",
   "metadata": {},
   "outputs": [],
   "source": [
    "import sys\n",
    "import asyncio\n",
    "import time\n",
    "import os\n",
    "\n",
    "import numpy as np\n",
    "\n",
    "from lsst.ts import salobj\n",
    "\n",
    "from lsst.ts.observatory.control.auxtel.atcs import ATCS\n",
    "from lsst.ts.observatory.control.auxtel.latiss import LATISS\n",
    "\n",
    "\n",
    "from lsst.ts.observatory.control.utils import RotType\n",
    "import logging"
   ]
  },
  {
   "cell_type": "code",
   "execution_count": 2,
   "id": "deacbb38",
   "metadata": {},
   "outputs": [],
   "source": [
    "from astropy.time import Time, TimeDelta"
   ]
  },
  {
   "cell_type": "code",
   "execution_count": 3,
   "id": "d8e834f5",
   "metadata": {},
   "outputs": [],
   "source": [
    "# for tab completion to work\n",
    "%config IPCompleter.use_jedi = False"
   ]
  },
  {
   "cell_type": "code",
   "execution_count": 4,
   "id": "b3a0d34f",
   "metadata": {},
   "outputs": [],
   "source": [
    "stream_handler = logging.StreamHandler(sys.stdout)\n",
    "logger = logging.getLogger()\n",
    "logger.addHandler(stream_handler)\n",
    "logger.level = logging.DEBUG"
   ]
  },
  {
   "cell_type": "code",
   "execution_count": 19,
   "id": "f2e985d7",
   "metadata": {},
   "outputs": [
    {
     "name": "stdout",
     "output_type": "stream",
     "text": [
      "file:///home/patrickingraham/develop/ts_ddsconfig/config/ospl-shmem.xml\n",
      "summit\n"
     ]
    }
   ],
   "source": [
    "print(os.environ[\"OSPL_URI\"])\n",
    "print(os.environ[\"LSST_DDS_PARTITION_PREFIX\"])"
   ]
  },
  {
   "cell_type": "code",
   "execution_count": 6,
   "id": "de444bf3",
   "metadata": {},
   "outputs": [],
   "source": [
    "domain = salobj.Domain()"
   ]
  },
  {
   "cell_type": "code",
   "execution_count": 8,
   "id": "a7836343",
   "metadata": {
    "collapsed": true,
    "jupyter": {
     "outputs_hidden": true
    }
   },
   "outputs": [
    {
     "name": "stdout",
     "output_type": "stream",
     "text": [
      "atmcs: Adding all resources.\n",
      "atptg: Adding all resources.\n",
      "ataos: Adding all resources.\n",
      "atpneumatics: Adding all resources.\n",
      "athexapod: Adding all resources.\n",
      "atdome: Adding all resources.\n",
      "atdometrajectory: Adding all resources.\n",
      "Read historical data in 0.01 sec\n",
      "Read 2 history items for RemoteEvent(ATPneumatics, 0, appliedSettingsMatchStart)\n",
      "Read 2 history items for RemoteEvent(ATPneumatics, 0, cellVentsState)\n",
      "Read 3 history items for RemoteEvent(ATPneumatics, 0, eStop)\n",
      "Read 100 history items for RemoteEvent(ATPneumatics, 0, heartbeat)\n",
      "Read 3 history items for RemoteEvent(ATPneumatics, 0, instrumentState)\n",
      "Read 13 history items for RemoteEvent(ATPneumatics, 0, m1CoverLimitSwitches)\n",
      "Read 6 history items for RemoteEvent(ATPneumatics, 0, m1CoverState)\n",
      "Read 100 history items for RemoteEvent(ATPneumatics, 0, m1SetPressure)\n",
      "Read 3 history items for RemoteEvent(ATPneumatics, 0, m1State)\n",
      "Read 1 history items for RemoteEvent(ATPneumatics, 0, m1VentsLimitSwitches)\n",
      "Read 2 history items for RemoteEvent(ATPneumatics, 0, m1VentsPosition)\n",
      "Read 4 history items for RemoteEvent(ATPneumatics, 0, m2State)\n",
      "Read 4 history items for RemoteEvent(ATPneumatics, 0, mainValveState)\n",
      "Read 1 history items for RemoteEvent(ATPneumatics, 0, powerStatus)\n",
      "Read 2 history items for RemoteEvent(ATPneumatics, 0, settingVersions)\n",
      "Read 1 history items for RemoteEvent(ATPneumatics, 0, softwareVersions)\n",
      "Read 9 history items for RemoteEvent(ATPneumatics, 0, summaryState)\n",
      "Read historical data in 0.19 sec\n",
      "Read 18 history items for RemoteEvent(ATAOS, 0, appliedSettingsMatchStart)\n",
      "Read 100 history items for RemoteEvent(ATAOS, 0, atspectrographCorrectionCompleted)\n",
      "Read 100 history items for RemoteEvent(ATAOS, 0, atspectrographCorrectionStarted)\n",
      "Read 1 history items for RemoteEvent(ATAOS, 0, authList)\n",
      "Read 17 history items for RemoteEvent(ATAOS, 0, correctionEnabled)\n",
      "Read 100 history items for RemoteEvent(ATAOS, 0, correctionOffsets)\n",
      "Read 100 history items for RemoteEvent(ATAOS, 0, detailedState)\n",
      "Read 2 history items for RemoteEvent(ATAOS, 0, errorCode)\n",
      "Read 100 history items for RemoteEvent(ATAOS, 0, focusOffsetSummary)\n",
      "Read 100 history items for RemoteEvent(ATAOS, 0, heartbeat)\n",
      "Read 100 history items for RemoteEvent(ATAOS, 0, hexapodCorrectionCompleted)\n",
      "Read 100 history items for RemoteEvent(ATAOS, 0, hexapodCorrectionStarted)\n",
      "Read 1 history items for RemoteEvent(ATAOS, 0, logLevel)\n",
      "Read 100 history items for RemoteEvent(ATAOS, 0, logMessage)\n",
      "Read 100 history items for RemoteEvent(ATAOS, 0, m1CorrectionCompleted)\n",
      "Read 100 history items for RemoteEvent(ATAOS, 0, m1CorrectionStarted)\n",
      "Read 100 history items for RemoteEvent(ATAOS, 0, pointingOffsetSummary)\n",
      "Read 3 history items for RemoteEvent(ATAOS, 0, settingVersions)\n",
      "Read 4 history items for RemoteEvent(ATAOS, 0, settingsApplied)\n",
      "Read 1 history items for RemoteEvent(ATAOS, 0, simulationMode)\n",
      "Read 1 history items for RemoteEvent(ATAOS, 0, softwareVersions)\n",
      "Read 73 history items for RemoteEvent(ATAOS, 0, summaryState)\n",
      "Read historical data in 0.26 sec\n",
      "Read 19 history items for RemoteEvent(ATHexapod, 0, appliedSettingsMatchStart)\n",
      "Read 1 history items for RemoteEvent(ATHexapod, 0, authList)\n",
      "Read 100 history items for RemoteEvent(ATHexapod, 0, detailedState)\n",
      "Read 1 history items for RemoteEvent(ATHexapod, 0, errorCode)\n",
      "Read 100 history items for RemoteEvent(ATHexapod, 0, heartbeat)\n",
      "Read 100 history items for RemoteEvent(ATHexapod, 0, inPosition)\n",
      "Read 1 history items for RemoteEvent(ATHexapod, 0, logLevel)\n",
      "Read 100 history items for RemoteEvent(ATHexapod, 0, logMessage)\n",
      "Read 100 history items for RemoteEvent(ATHexapod, 0, positionUpdate)\n",
      "Read 1 history items for RemoteEvent(ATHexapod, 0, readyForCommand)\n",
      "Read 1 history items for RemoteEvent(ATHexapod, 0, settingVersions)\n",
      "Read 5 history items for RemoteEvent(ATHexapod, 0, settingsApplied)\n",
      "Read 1 history items for RemoteEvent(ATHexapod, 0, settingsAppliedPivot)\n",
      "Read 1 history items for RemoteEvent(ATHexapod, 0, settingsAppliedPositionLimits)\n",
      "Read 5 history items for RemoteEvent(ATHexapod, 0, settingsAppliedTcp)\n",
      "Read 1 history items for RemoteEvent(ATHexapod, 0, settingsAppliedVelocities)\n",
      "Read 1 history items for RemoteEvent(ATHexapod, 0, simulationMode)\n",
      "Read 1 history items for RemoteEvent(ATHexapod, 0, softwareVersions)\n",
      "Read 53 history items for RemoteEvent(ATHexapod, 0, summaryState)\n",
      "Read historical data in 0.30 sec\n",
      "Read 1 history items for RemoteEvent(ATDomeTrajectory, 0, algorithm)\n",
      "Read 7 history items for RemoteEvent(ATDomeTrajectory, 0, appliedSettingsMatchStart)\n",
      "Read 1 history items for RemoteEvent(ATDomeTrajectory, 0, authList)\n",
      "Read 3 history items for RemoteEvent(ATDomeTrajectory, 0, followingMode)\n",
      "Read 100 history items for RemoteEvent(ATDomeTrajectory, 0, heartbeat)\n",
      "Read 1 history items for RemoteEvent(ATDomeTrajectory, 0, logLevel)\n",
      "Read 20 history items for RemoteEvent(ATDomeTrajectory, 0, logMessage)\n",
      "Read 1 history items for RemoteEvent(ATDomeTrajectory, 0, settingVersions)\n",
      "Read 1 history items for RemoteEvent(ATDomeTrajectory, 0, settingsApplied)\n",
      "Read 1 history items for RemoteEvent(ATDomeTrajectory, 0, simulationMode)\n",
      "Read 1 history items for RemoteEvent(ATDomeTrajectory, 0, softwareVersions)\n",
      "Read 29 history items for RemoteEvent(ATDomeTrajectory, 0, summaryState)\n",
      "Read historical data in 0.33 sec\n",
      "Read 72 history items for RemoteEvent(ATPtg, 0, airmassWarning)\n",
      "Read 1 history items for RemoteEvent(ATPtg, 0, azWrapWarning)\n",
      "Read 29 history items for RemoteEvent(ATPtg, 0, currentDebugLevel)\n",
      "Read 100 history items for RemoteEvent(ATPtg, 0, currentTarget)\n",
      "Read 100 history items for RemoteEvent(ATPtg, 0, detailedState)\n",
      "Read 1 history items for RemoteEvent(ATPtg, 0, elLimitWarning)\n",
      "Read 45 history items for RemoteEvent(ATPtg, 0, errorCode)\n",
      "Read 1 history items for RemoteEvent(ATPtg, 0, focusNameInconsistentWarning)\n",
      "Read 28 history items for RemoteEvent(ATPtg, 0, focusNameSelected)\n",
      "Read 100 history items for RemoteEvent(ATPtg, 0, heartbeat)\n",
      "Read 56 history items for RemoteEvent(ATPtg, 0, iers)\n",
      "Read 3 history items for RemoteEvent(ATPtg, 0, iersOutOfDate)\n",
      "Read 1 history items for RemoteEvent(ATPtg, 0, moonProximityWarning)\n",
      "Read 100 history items for RemoteEvent(ATPtg, 0, mountDataWarning)\n",
      "Read 1 history items for RemoteEvent(ATPtg, 0, objectSetWarning)\n",
      "Read 100 history items for RemoteEvent(ATPtg, 0, offsetSummary)\n",
      "Read 100 history items for RemoteEvent(ATPtg, 0, pointData)\n",
      "Read 11 history items for RemoteEvent(ATPtg, 0, pointingFile)\n",
      "Read 33 history items for RemoteEvent(ATPtg, 0, pointingModel)\n",
      "Read 13 history items for RemoteEvent(ATPtg, 0, ptgAzCurrentWrap)\n",
      "Read 1 history items for RemoteEvent(ATPtg, 0, ptgRotCurrentWrap)\n",
      "Read 4 history items for RemoteEvent(ATPtg, 0, rotWrapWarning)\n",
      "Read 100 history items for RemoteEvent(ATPtg, 0, summaryState)\n",
      "Read 1 history items for RemoteEvent(ATPtg, 0, sunProximityWarning)\n",
      "Read 100 history items for RemoteEvent(ATPtg, 0, timesOfLimits)\n",
      "Read 100 history items for RemoteEvent(ATPtg, 0, trackPosting)\n",
      "Read 28 history items for RemoteEvent(ATPtg, 0, wavelength)\n",
      "Read 100 history items for RemoteEvent(ATPtg, 0, weatherDataApplied)\n",
      "Read 100 history items for RemoteEvent(ATPtg, 0, weatherDataInvalid)\n",
      "Read historical data in 0.41 sec\n",
      "Read 100 history items for RemoteEvent(ATDome, 0, allAxesInPosition)\n",
      "Read 13 history items for RemoteEvent(ATDome, 0, appliedSettingsMatchStart)\n",
      "Read 1 history items for RemoteEvent(ATDome, 0, authList)\n",
      "Read 100 history items for RemoteEvent(ATDome, 0, azimuthCommandedState)\n",
      "Read 100 history items for RemoteEvent(ATDome, 0, azimuthInPosition)\n",
      "Read 100 history items for RemoteEvent(ATDome, 0, azimuthState)\n",
      "Read 100 history items for RemoteEvent(ATDome, 0, doorEncoderExtremes)\n",
      "Read 20 history items for RemoteEvent(ATDome, 0, dropoutDoorCommandedState)\n",
      "Read 100 history items for RemoteEvent(ATDome, 0, dropoutDoorState)\n",
      "Read 1 history items for RemoteEvent(ATDome, 0, emergencyStop)\n",
      "Read 100 history items for RemoteEvent(ATDome, 0, heartbeat)\n",
      "Read 100 history items for RemoteEvent(ATDome, 0, lastAzimuthGoTo)\n",
      "Read 1 history items for RemoteEvent(ATDome, 0, logLevel)\n",
      "Read 21 history items for RemoteEvent(ATDome, 0, logMessage)\n",
      "Read 19 history items for RemoteEvent(ATDome, 0, mainDoorCommandedState)\n",
      "Read 18 history items for RemoteEvent(ATDome, 0, mainDoorState)\n",
      "Read 100 history items for RemoteEvent(ATDome, 0, moveCode)\n",
      "Read 30 history items for RemoteEvent(ATDome, 0, scbLink)\n",
      "Read 1 history items for RemoteEvent(ATDome, 0, settingVersions)\n",
      "Read 1 history items for RemoteEvent(ATDome, 0, settingsApplied)\n",
      "Read 30 history items for RemoteEvent(ATDome, 0, settingsAppliedDomeController)\n",
      "Read 13 history items for RemoteEvent(ATDome, 0, settingsAppliedDomeTcp)\n",
      "Read 12 history items for RemoteEvent(ATDome, 0, shutterInPosition)\n",
      "Read 1 history items for RemoteEvent(ATDome, 0, simulationMode)\n",
      "Read 1 history items for RemoteEvent(ATDome, 0, softwareVersions)\n",
      "Read 53 history items for RemoteEvent(ATDome, 0, summaryState)\n",
      "Read historical data in 0.49 sec\n",
      "Read 100 history items for RemoteEvent(ATMCS, 0, allAxesInPosition)\n",
      "Read 5 history items for RemoteEvent(ATMCS, 0, appliedSettingsMatchStart)\n",
      "Read 100 history items for RemoteEvent(ATMCS, 0, atMountState)\n",
      "Read 12 history items for RemoteEvent(ATMCS, 0, azimuthBrake1)\n",
      "Read 12 history items for RemoteEvent(ATMCS, 0, azimuthBrake2)\n",
      "Read 12 history items for RemoteEvent(ATMCS, 0, azimuthDrive1Status)\n",
      "Read 12 history items for RemoteEvent(ATMCS, 0, azimuthDrive2Status)\n",
      "Read 100 history items for RemoteEvent(ATMCS, 0, azimuthInPosition)\n",
      "Read 1 history items for RemoteEvent(ATMCS, 0, azimuthLimitSwitchCCW)\n",
      "Read 1 history items for RemoteEvent(ATMCS, 0, azimuthLimitSwitchCW)\n",
      "Read 1 history items for RemoteEvent(ATMCS, 0, azimuthToppleBlockCCW)\n",
      "Read 2 history items for RemoteEvent(ATMCS, 0, azimuthToppleBlockCW)\n",
      "Read 11 history items for RemoteEvent(ATMCS, 0, elevationBrake)\n",
      "Read 11 history items for RemoteEvent(ATMCS, 0, elevationDriveStatus)\n",
      "Read 100 history items for RemoteEvent(ATMCS, 0, elevationInPosition)\n",
      "Read 3 history items for RemoteEvent(ATMCS, 0, elevationLimitSwitchLower)\n",
      "Read 1 history items for RemoteEvent(ATMCS, 0, elevationLimitSwitchUpper)\n",
      "Read 100 history items for RemoteEvent(ATMCS, 0, heartbeat)\n",
      "Read 1 history items for RemoteEvent(ATMCS, 0, m3DriveStatus)\n",
      "Read 1 history items for RemoteEvent(ATMCS, 0, m3InPosition)\n",
      "Read 1 history items for RemoteEvent(ATMCS, 0, m3RotatorDetentSwitches)\n",
      "Read 1 history items for RemoteEvent(ATMCS, 0, m3RotatorLimitSwitchCCW)\n",
      "Read 1 history items for RemoteEvent(ATMCS, 0, m3RotatorLimitSwitchCW)\n",
      "Read 10 history items for RemoteEvent(ATMCS, 0, m3State)\n",
      "Read 11 history items for RemoteEvent(ATMCS, 0, nasmyth1Brake)\n",
      "Read 11 history items for RemoteEvent(ATMCS, 0, nasmyth1DriveStatus)\n",
      "Read 1 history items for RemoteEvent(ATMCS, 0, nasmyth1LimitSwitchCCW)\n",
      "Read 1 history items for RemoteEvent(ATMCS, 0, nasmyth1LimitSwitchCW)\n",
      "Read 100 history items for RemoteEvent(ATMCS, 0, nasmyth1RotatorInPosition)\n",
      "Read 11 history items for RemoteEvent(ATMCS, 0, nasmyth2Brake)\n",
      "Read 11 history items for RemoteEvent(ATMCS, 0, nasmyth2DriveStatus)\n",
      "Read 1 history items for RemoteEvent(ATMCS, 0, nasmyth2LimitSwitchCCW)\n",
      "Read 1 history items for RemoteEvent(ATMCS, 0, nasmyth2LimitSwitchCW)\n",
      "Read 100 history items for RemoteEvent(ATMCS, 0, nasmyth2RotatorInPosition)\n",
      "Read 5 history items for RemoteEvent(ATMCS, 0, positionLimits)\n",
      "Read 5 history items for RemoteEvent(ATMCS, 0, settingVersions)\n",
      "Read 1 history items for RemoteEvent(ATMCS, 0, softwareVersions)\n",
      "Read 21 history items for RemoteEvent(ATMCS, 0, summaryState)\n",
      "Read 100 history items for RemoteEvent(ATMCS, 0, target)\n",
      "timeAndDate DDS read queue is filling: 63 of 100 elements\n"
     ]
    },
    {
     "data": {
      "text/plain": [
       "[[None, None, None, None, None, None, None]]"
      ]
     },
     "execution_count": 8,
     "metadata": {},
     "output_type": "execute_result"
    },
    {
     "name": "stdout",
     "output_type": "stream",
     "text": [
      "mountPositions DDS read queue is filling: 13 of 100 elements\n"
     ]
    }
   ],
   "source": [
    "atcs = ATCS(domain)\n",
    "# latiss = LATISS(domain)\n",
    "# await asyncio.gather(atcs.start_task, latiss.start_task)\n",
    "await asyncio.gather(atcs.start_task)"
   ]
  },
  {
   "cell_type": "code",
   "execution_count": null,
   "id": "8088e25b",
   "metadata": {},
   "outputs": [],
   "source": []
  },
  {
   "cell_type": "code",
   "execution_count": null,
   "id": "a6f0a655",
   "metadata": {},
   "outputs": [],
   "source": [
    "await atcs.enable()"
   ]
  },
  {
   "cell_type": "code",
   "execution_count": null,
   "id": "50d7c1bc",
   "metadata": {},
   "outputs": [],
   "source": [
    "atcs.check.atdome=False\n",
    "atcs.check.atdometrajectory=False"
   ]
  },
  {
   "cell_type": "code",
   "execution_count": null,
   "id": "0c4de0dc",
   "metadata": {},
   "outputs": [],
   "source": [
    "tmp=await salobj.set_summary_state(atcs.rem.atdome, salobj.State.STANDBY, settingsToApply='', timeout=30)\n",
    "print(tmp)"
   ]
  },
  {
   "cell_type": "code",
   "execution_count": null,
   "id": "90c09ee0",
   "metadata": {},
   "outputs": [],
   "source": [
    "tmp=await salobj.set_summary_state(atcs.rem.atdometrajectory, salobj.State.STANDBY, settingsToApply='', timeout=30)\n",
    "print(tmp)"
   ]
  },
  {
   "cell_type": "markdown",
   "id": "955d12a2",
   "metadata": {},
   "source": [
    "### bring the PMDs online"
   ]
  },
  {
   "cell_type": "code",
   "execution_count": 9,
   "id": "4079f3c4",
   "metadata": {},
   "outputs": [
    {
     "name": "stdout",
     "output_type": "stream",
     "text": [
      "Read historical data in 0.00 sec\n",
      "Read 5 history items for RemoteEvent(PMD, 1, appliedSettingsMatchStart)\n",
      "Read 100 history items for RemoteEvent(PMD, 1, heartbeat)\n",
      "Read 2 history items for RemoteEvent(PMD, 1, logLevel)\n",
      "Read 100 history items for RemoteEvent(PMD, 1, logMessage)\n",
      "Read 20 history items for RemoteEvent(PMD, 1, summaryState)\n"
     ]
    }
   ],
   "source": [
    "pmd_remote = salobj.Remote(name=\"PMD\", domain=domain, index=1)\n",
    "await pmd_remote.start_task"
   ]
  },
  {
   "cell_type": "code",
   "execution_count": 15,
   "id": "c79cb437",
   "metadata": {},
   "outputs": [
    {
     "name": "stdout",
     "output_type": "stream",
     "text": [
      "PMDID: 1, private_revCode: f6854b27, private_sndStamp: 1627416640.945797, private_rcvStamp: 1627416640.946775, private_seqNum: 1625973, private_identity: PMD:1, private_origin: 7310, private_host: 0, heartbeat: False, priority: 0\n"
     ]
    }
   ],
   "source": [
    "tmp = await pmd_remote.evt_heartbeat.next(flush=True,timeout=15)\n",
    "print(tmp)"
   ]
  },
  {
   "cell_type": "code",
   "execution_count": null,
   "id": "818da7cf",
   "metadata": {},
   "outputs": [],
   "source": [
    "tmp = await pmd_remote.cmd_setLogLevel.set_start(level=10)"
   ]
  },
  {
   "cell_type": "code",
   "execution_count": 16,
   "id": "7773b9d6",
   "metadata": {},
   "outputs": [
    {
     "name": "stdout",
     "output_type": "stream",
     "text": [
      "State.FAULT\n"
     ]
    }
   ],
   "source": [
    "tmp = await pmd_remote.evt_summaryState.aget(timeout=15)\n",
    "print(salobj.State(tmp.summaryState))"
   ]
  },
  {
   "cell_type": "code",
   "execution_count": 22,
   "id": "5071cad0",
   "metadata": {},
   "outputs": [
    {
     "name": "stdout",
     "output_type": "stream",
     "text": [
      "[<State.STANDBY: 5>, <State.DISABLED: 1>, <State.ENABLED: 2>]\n"
     ]
    }
   ],
   "source": [
    "tmp=await salobj.set_summary_state(pmd_remote, salobj.State.ENABLED, settingsToApply='current', timeout=30)\n",
    "print(tmp)"
   ]
  },
  {
   "cell_type": "code",
   "execution_count": 24,
   "id": "a7f66696",
   "metadata": {},
   "outputs": [
    {
     "name": "stdout",
     "output_type": "stream",
     "text": [
      "PMDID: 1, private_revCode: 819e90fa, private_sndStamp: 1627438227.289393, private_rcvStamp: 1627438227.2902706, private_seqNum: 330789, private_identity: PMD:1, private_origin: 7310, private_host: 0, position: [-1.138, 0.475, -21.717, 11.861, 5.048, nan, nan, nan]\n"
     ]
    }
   ],
   "source": [
    "tmp = await pmd_remote.tel_position.next(flush=True, timeout=25)\n",
    "print(tmp)"
   ]
  },
  {
   "cell_type": "code",
   "execution_count": null,
   "id": "d3c054d7",
   "metadata": {},
   "outputs": [],
   "source": []
  },
  {
   "cell_type": "markdown",
   "id": "03fac870",
   "metadata": {},
   "source": [
    "### Setup the script to write log messages\n",
    "#### note that the index cannot be used anywhere else!"
   ]
  },
  {
   "cell_type": "code",
   "execution_count": null,
   "id": "5fc9a44d",
   "metadata": {},
   "outputs": [],
   "source": [
    "#start the controller to write script messages and grab the domain\n",
    "c = salobj.Controller(name=\"Script\", index=os.getuid())"
   ]
  },
  {
   "cell_type": "code",
   "execution_count": null,
   "id": "2b8d92c3",
   "metadata": {},
   "outputs": [],
   "source": [
    "c.log.setLevel(logging.DEBUG)"
   ]
  },
  {
   "cell_type": "code",
   "execution_count": null,
   "id": "d6a28f7d",
   "metadata": {},
   "outputs": [],
   "source": [
    "c.log.info('Patrick Testing INFO level ') # only "
   ]
  },
  {
   "cell_type": "code",
   "execution_count": null,
   "id": "4824988a",
   "metadata": {},
   "outputs": [],
   "source": [
    "az=0; el=80\n",
    "c.log.info(f'az,el,pos0,pos1,pos2,pos3,pos4 = {az}, {el}, {tmp.position[0]}, {tmp.position[1]}, {tmp.position[2]}, {tmp.position[3]}, {tmp.position[4]}')"
   ]
  },
  {
   "cell_type": "code",
   "execution_count": null,
   "id": "a511a703",
   "metadata": {},
   "outputs": [],
   "source": []
  },
  {
   "cell_type": "code",
   "execution_count": null,
   "id": "620b4eef",
   "metadata": {},
   "outputs": [],
   "source": []
  },
  {
   "cell_type": "code",
   "execution_count": null,
   "id": "0123c20a",
   "metadata": {},
   "outputs": [],
   "source": []
  },
  {
   "cell_type": "code",
   "execution_count": null,
   "id": "0eb8d6ad",
   "metadata": {},
   "outputs": [],
   "source": [
    "el_samples2 = np.arange(25,83,8)\n",
    "el_samples1 = np.arange(83,25,-8)"
   ]
  },
  {
   "cell_type": "code",
   "execution_count": null,
   "id": "fd089720",
   "metadata": {},
   "outputs": [],
   "source": [
    "print(el_samples1)\n",
    "print(el_samples2)"
   ]
  },
  {
   "cell_type": "code",
   "execution_count": null,
   "id": "1cca6aeb",
   "metadata": {},
   "outputs": [],
   "source": [
    "el_samples=np.concatenate((el_samples1, el_samples2))"
   ]
  },
  {
   "cell_type": "code",
   "execution_count": null,
   "id": "bc174cb1",
   "metadata": {},
   "outputs": [],
   "source": [
    "el_samples"
   ]
  },
  {
   "cell_type": "code",
   "execution_count": null,
   "id": "0137b9e4",
   "metadata": {},
   "outputs": [],
   "source": [
    "atcs.check.atdome=False\n",
    "atcs.check.atdometrajectory=False"
   ]
  },
  {
   "cell_type": "code",
   "execution_count": null,
   "id": "f3a0b0c2",
   "metadata": {},
   "outputs": [],
   "source": [
    "print(f'az,el,pos0,pos1,pos2 = {az}, {el}, {tmp.position[0]}, {tmp.position[1]}, {tmp.position[2]}, {tmp.position[3]}, {tmp.position[4]}')"
   ]
  },
  {
   "cell_type": "code",
   "execution_count": null,
   "id": "b11532ad",
   "metadata": {},
   "outputs": [],
   "source": [
    "az=0\n",
    "c.log.info(f'Starting dip sequence for elevations of {el_samples}')\n",
    "for el in el_samples:\n",
    "    print(f'going to az={az}, el={el}')\n",
    "    await atcs.point_azel(az=az, el=el)\n",
    "    await asyncio.sleep(3)\n",
    "    # grab the positions\n",
    "    tmp = await pmd_remote.tel_position.next(flush=True, timeout=25)\n",
    "    c.log.info(f'az,el,pos0,pos1,pos2 = {az}, {el}, {tmp.position[0]}, {tmp.position[1]}, {tmp.position[2]}, {tmp.position[3]}, {tmp.position[4]}')\n",
    "    print(f'az,el,pos0,pos1,pos2 = {az}, {el}, {tmp.position[0]}, {tmp.position[1]}, {tmp.position[2]}, {tmp.position[3]}, {tmp.position[4]}')\n",
    "\n",
    "c.log.info(f'Finished dip sequence for elevations of {el_samples}')"
   ]
  },
  {
   "cell_type": "code",
   "execution_count": null,
   "id": "dbb8398e",
   "metadata": {},
   "outputs": [],
   "source": [
    "c.log.info('Previous dataset had no ATAOS corrections enabled. M1 pressure high?') # only "
   ]
  },
  {
   "cell_type": "code",
   "execution_count": null,
   "id": "d1008658",
   "metadata": {},
   "outputs": [],
   "source": [
    "await atcs.point_azel(az=az, el=82)"
   ]
  },
  {
   "cell_type": "code",
   "execution_count": null,
   "id": "7ff2daaa",
   "metadata": {},
   "outputs": [],
   "source": [
    "tmp = await pmd_remote.tel_position.next(flush=True, timeout=25)\n",
    "print(tmp)"
   ]
  },
  {
   "cell_type": "code",
   "execution_count": null,
   "id": "fef0a608",
   "metadata": {},
   "outputs": [],
   "source": [
    "await atcs.rem.ataos.cmd_disableCorrection.set_start(m1=True, hexapod=True, atspectrograph=True)"
   ]
  },
  {
   "cell_type": "code",
   "execution_count": null,
   "id": "fa3c3733",
   "metadata": {},
   "outputs": [],
   "source": [
    "c.log.info('Corrections off, air valves are closed?') # only"
   ]
  },
  {
   "cell_type": "code",
   "execution_count": null,
   "id": "2f3b6c0d",
   "metadata": {},
   "outputs": [],
   "source": [
    "tmp = await pmd_remote.tel_position.next(flush=True, timeout=25)\n",
    "print(tmp)"
   ]
  },
  {
   "cell_type": "code",
   "execution_count": null,
   "id": "ab896199",
   "metadata": {},
   "outputs": [],
   "source": [
    "az=0\n",
    "c.log.info(f'Starting dip sequence for elevations of {el_samples}')\n",
    "for el in el_samples:\n",
    "    print(f'going to az={az}, el={el}')\n",
    "    await atcs.point_azel(az=az, el=el)\n",
    "    await asyncio.sleep(3)\n",
    "    # grab the positions\n",
    "    tmp = await pmd_remote.tel_position.next(flush=True, timeout=25)\n",
    "    c.log.info(f'az,el,pos0,pos1,pos2 = {az}, {el}, {tmp.position[0]}, {tmp.position[1]}, {tmp.position[2]}, {tmp.position[3]}, {tmp.position[4]}')\n",
    "    print(f'az,el,pos0,pos1,pos2 = {az}, {el}, {tmp.position[0]}, {tmp.position[1]}, {tmp.position[2]}, {tmp.position[3]}, {tmp.position[4]}')\n",
    "\n",
    "c.log.info(f'Finished dip sequence for elevations of {el_samples}')"
   ]
  },
  {
   "cell_type": "code",
   "execution_count": null,
   "id": "1296b5b0",
   "metadata": {},
   "outputs": [],
   "source": [
    "tmp = await pmd_remote.tel_position.next(flush=True, timeout=25)\n",
    "print(tmp)"
   ]
  },
  {
   "cell_type": "code",
   "execution_count": null,
   "id": "be75456a",
   "metadata": {},
   "outputs": [],
   "source": [
    "c.log.info('Corrections off, air valves are closed. Run 2') # only"
   ]
  },
  {
   "cell_type": "code",
   "execution_count": null,
   "id": "cc76f5c6",
   "metadata": {},
   "outputs": [],
   "source": [
    "az=0\n",
    "c.log.info(f'Starting dip sequence for elevations of {el_samples}')\n",
    "for el in el_samples:\n",
    "    print(f'going to az={az}, el={el}')\n",
    "    await atcs.point_azel(az=az, el=el)\n",
    "    await asyncio.sleep(3)\n",
    "    # grab the positions\n",
    "    tmp = await pmd_remote.tel_position.next(flush=True, timeout=25)\n",
    "    c.log.info(f'az,el,pos0,pos1,pos2 = {az}, {el}, {tmp.position[0]}, {tmp.position[1]}, {tmp.position[2]}, {tmp.position[3]}, {tmp.position[4]}')\n",
    "    print(f'az,el,pos0,pos1,pos2 = {az}, {el}, {tmp.position[0]}, {tmp.position[1]}, {tmp.position[2]}, {tmp.position[3]}, {tmp.position[4]}')\n",
    "\n",
    "c.log.info(f'Finished dip sequence for elevations of {el_samples}')"
   ]
  },
  {
   "cell_type": "code",
   "execution_count": null,
   "id": "db43c805",
   "metadata": {},
   "outputs": [],
   "source": [
    "c.log.info('Corrections off, air valves are closed. Run 3') # only"
   ]
  },
  {
   "cell_type": "code",
   "execution_count": null,
   "id": "b808c4b7",
   "metadata": {},
   "outputs": [],
   "source": [
    "az=0\n",
    "c.log.info(f'Starting dip sequence for elevations of {el_samples}')\n",
    "for el in el_samples:\n",
    "    print(f'going to az={az}, el={el}')\n",
    "    await atcs.point_azel(az=az, el=el)\n",
    "    await asyncio.sleep(3)\n",
    "    # grab the positions\n",
    "    tmp = await pmd_remote.tel_position.next(flush=True, timeout=25)\n",
    "    c.log.info(f'az,el,pos0,pos1,pos2 = {az}, {el}, {tmp.position[0]}, {tmp.position[1]}, {tmp.position[2]}, {tmp.position[3]}, {tmp.position[4]}')\n",
    "    print(f'az,el,pos0,pos1,pos2 = {az}, {el}, {tmp.position[0]}, {tmp.position[1]}, {tmp.position[2]}, {tmp.position[3]}, {tmp.position[4]}')\n",
    "\n",
    "c.log.info(f'Finished dip sequence for elevations of {el_samples}')"
   ]
  },
  {
   "cell_type": "code",
   "execution_count": null,
   "id": "1d138abf",
   "metadata": {},
   "outputs": [],
   "source": []
  },
  {
   "cell_type": "code",
   "execution_count": null,
   "id": "540d26f8",
   "metadata": {},
   "outputs": [],
   "source": [
    "await atcs.rem.atpneumatics.cmd_openMasterAirSupply.start()"
   ]
  },
  {
   "cell_type": "code",
   "execution_count": null,
   "id": "cfda8c2f",
   "metadata": {},
   "outputs": [],
   "source": [
    "await atcs.rem.atpneumatics.cmd_openInstrumentAirValve.start()"
   ]
  },
  {
   "cell_type": "code",
   "execution_count": null,
   "id": "80fe3dc3",
   "metadata": {},
   "outputs": [],
   "source": [
    "await atcs.rem.atpneumatics.cmd_m1OpenAirValve.start()"
   ]
  },
  {
   "cell_type": "code",
   "execution_count": null,
   "id": "4d91dd17",
   "metadata": {},
   "outputs": [],
   "source": [
    "await atcs.rem.atpneumatics.cmd_m1SetPressure.set_start(pressure=0)"
   ]
  },
  {
   "cell_type": "code",
   "execution_count": null,
   "id": "2af398b5",
   "metadata": {},
   "outputs": [],
   "source": [
    "await atcs.rem.ataos.cmd_disableCorrection.set_start(m1=True, hexapod=True, atspectrograph=True)"
   ]
  },
  {
   "cell_type": "code",
   "execution_count": null,
   "id": "2a36a8fd",
   "metadata": {},
   "outputs": [],
   "source": [
    "c.log.info('Corrections off, air valves are open, pressure set to 0. Run 1') # only"
   ]
  },
  {
   "cell_type": "code",
   "execution_count": null,
   "id": "90ae8d41",
   "metadata": {},
   "outputs": [],
   "source": [
    "az=0\n",
    "c.log.info(f'Starting dip sequence for elevations of {el_samples}')\n",
    "for el in el_samples:\n",
    "    print(f'going to az={az}, el={el}')\n",
    "    await atcs.point_azel(az=az, el=el)\n",
    "    await asyncio.sleep(3)\n",
    "    # grab the positions\n",
    "    tmp = await pmd_remote.tel_position.next(flush=True, timeout=25)\n",
    "    c.log.info(f'az,el,pos0,pos1,pos2 = {az}, {el}, {tmp.position[0]}, {tmp.position[1]}, {tmp.position[2]}, {tmp.position[3]}, {tmp.position[4]}')\n",
    "    print(f'az,el,pos0,pos1,pos2 = {az}, {el}, {tmp.position[0]}, {tmp.position[1]}, {tmp.position[2]}, {tmp.position[3]}, {tmp.position[4]}')\n",
    "\n",
    "c.log.info(f'Finished dip sequence for elevations of {el_samples}')"
   ]
  },
  {
   "cell_type": "code",
   "execution_count": null,
   "id": "5700a639",
   "metadata": {},
   "outputs": [],
   "source": [
    "c.log.info('Previous dip was Corrections off, air valves are open, pressure set to 0. Run 1') # only"
   ]
  },
  {
   "cell_type": "code",
   "execution_count": null,
   "id": "23f2f54d",
   "metadata": {},
   "outputs": [],
   "source": []
  },
  {
   "cell_type": "code",
   "execution_count": null,
   "id": "7c6a42b2",
   "metadata": {},
   "outputs": [],
   "source": [
    "c.log.info('Corrections off, air valves are open, pressure set to 0. Run 2') # only"
   ]
  },
  {
   "cell_type": "code",
   "execution_count": null,
   "id": "b05ad810",
   "metadata": {},
   "outputs": [],
   "source": [
    "az=0\n",
    "c.log.info(f'Starting dip sequence for elevations of {el_samples}')\n",
    "for el in el_samples:\n",
    "    print(f'going to az={az}, el={el}')\n",
    "    await atcs.point_azel(az=az, el=el)\n",
    "    await asyncio.sleep(3)\n",
    "    # grab the positions\n",
    "    tmp = await pmd_remote.tel_position.next(flush=True, timeout=25)\n",
    "    c.log.info(f'az,el,pos0,pos1,pos2 = {az}, {el}, {tmp.position[0]}, {tmp.position[1]}, {tmp.position[2]}, {tmp.position[3]}, {tmp.position[4]}')\n",
    "    print(f'az,el,pos0,pos1,pos2 = {az}, {el}, {tmp.position[0]}, {tmp.position[1]}, {tmp.position[2]}, {tmp.position[3]}, {tmp.position[4]}')\n",
    "\n",
    "c.log.info(f'Finished dip sequence for elevations of {el_samples}')"
   ]
  },
  {
   "cell_type": "code",
   "execution_count": null,
   "id": "8df8e64a",
   "metadata": {},
   "outputs": [],
   "source": []
  },
  {
   "cell_type": "code",
   "execution_count": null,
   "id": "06f3de99",
   "metadata": {},
   "outputs": [],
   "source": [
    "await atcs.rem.ataos.cmd_enableCorrection.set_start(m1=True, hexapod=True)  # m1 was at 116561 Pa"
   ]
  },
  {
   "cell_type": "code",
   "execution_count": null,
   "id": "2f2e958b",
   "metadata": {},
   "outputs": [],
   "source": [
    "await atcs.rem.ataos.cmd_resetOffset.set_start(axis='m1')"
   ]
  },
  {
   "cell_type": "code",
   "execution_count": null,
   "id": "21489f00",
   "metadata": {},
   "outputs": [],
   "source": [
    "await atcs.rem.ataos.cmd_resetOffset.set_start(axis='x')\n",
    "await atcs.rem.ataos.cmd_resetOffset.set_start(axis='y')\n",
    "await atcs.rem.ataos.cmd_resetOffset.set_start(axis='z')"
   ]
  },
  {
   "cell_type": "code",
   "execution_count": null,
   "id": "5f732332",
   "metadata": {},
   "outputs": [],
   "source": [
    "pressure = await atcs.rem.atpneumatics.tel_m1AirPressure.next(flush=True, timeout=10)\n",
    "print(pressure)\n",
    "starting_pressure = pressure.pressure"
   ]
  },
  {
   "cell_type": "code",
   "execution_count": null,
   "id": "47d1cc0b",
   "metadata": {},
   "outputs": [],
   "source": []
  },
  {
   "cell_type": "code",
   "execution_count": null,
   "id": "39a9cb07",
   "metadata": {},
   "outputs": [],
   "source": [
    "scale_factor=1\n",
    "await atcs.rem.ataos.cmd_resetOffset.set_start(axis='m1')\n",
    "await asyncio.sleep(2)\n",
    "await atcs.rem.ataos.cmd_offset.set_start(m1=starting_pressure*(1-scale_factor))\n",
    "await asyncio.sleep(2)\n",
    "print(pressure)\n",
    "ref_pressure = await atcs.rem.atpneumatics.tel_m1AirPressure.next(flush=True, timeout=10)\n",
    "c.log.info(f'Corrections on, air valves are open, pressure scale_factor set to {scale_factor}, ref_pressure now set to {ref_pressure.pressure}. Run 1') # only\n"
   ]
  },
  {
   "cell_type": "code",
   "execution_count": null,
   "id": "60298afd",
   "metadata": {},
   "outputs": [],
   "source": [
    "az=0\n",
    "c.log.info(f'Starting dip sequence for elevations of {el_samples}')\n",
    "for el in el_samples:\n",
    "    print(f'going to az={az}, el={el}')\n",
    "    await atcs.point_azel(az=az, el=el)\n",
    "    await asyncio.sleep(3)\n",
    "    # grab the positions\n",
    "    tmp = await pmd_remote.tel_position.next(flush=True, timeout=25)\n",
    "    c.log.info(f'az,el,pos0,pos1,pos2 = {az}, {el}, {tmp.position[0]}, {tmp.position[1]}, {tmp.position[2]}, {tmp.position[3]}, {tmp.position[4]}')\n",
    "    print(f'az,el,pos0,pos1,pos2 = {az}, {el}, {tmp.position[0]}, {tmp.position[1]}, {tmp.position[2]}, {tmp.position[3]}, {tmp.position[4]}')\n",
    "\n",
    "c.log.info(f'Finished dip sequence for elevations of {el_samples}')"
   ]
  },
  {
   "cell_type": "code",
   "execution_count": null,
   "id": "fa102bb6",
   "metadata": {},
   "outputs": [],
   "source": [
    "c.log.info(f'Redo test 1 since sensor 5 dropped out. Corrections on, air valves are open, pressure scale_factor set to {scale_factor}, ref_pressure now set to {ref_pressure.pressure}. Run 1') # only"
   ]
  },
  {
   "cell_type": "code",
   "execution_count": null,
   "id": "2478ac0e",
   "metadata": {},
   "outputs": [],
   "source": [
    "az=0\n",
    "print(f'start time is {(Time.now()).isot}')\n",
    "c.log.info(f'Starting dip sequence for elevations of {el_samples}')\n",
    "for el in el_samples:\n",
    "    print(f'going to az={az}, el={el}')\n",
    "    await atcs.point_azel(az=az, el=el)\n",
    "    await asyncio.sleep(3)\n",
    "    # grab the positions\n",
    "    tmp = await pmd_remote.tel_position.next(flush=True, timeout=25)\n",
    "    c.log.info(f'az,el,pos0,pos1,pos2 = {az}, {el}, {tmp.position[0]}, {tmp.position[1]}, {tmp.position[2]}, {tmp.position[3]}, {tmp.position[4]}')\n",
    "    print(f'az,el,pos0,pos1,pos2 = {az}, {el}, {tmp.position[0]}, {tmp.position[1]}, {tmp.position[2]}, {tmp.position[3]}, {tmp.position[4]}')\n",
    "    \n",
    "c.log.info(f'Finished dip sequence for elevations of {el_samples}')\n",
    "print(f'End time is {(Time.now()).isot}')"
   ]
  },
  {
   "cell_type": "code",
   "execution_count": null,
   "id": "9e3c3ad9",
   "metadata": {},
   "outputs": [],
   "source": [
    "await atcs.point_azel(az=az, el=82)"
   ]
  },
  {
   "cell_type": "code",
   "execution_count": null,
   "id": "b751ad96",
   "metadata": {},
   "outputs": [],
   "source": [
    "# motion now limited to stay about 25 deg elevation to avoid crazy extrapolation\n",
    "# also had to reset mitutoyos"
   ]
  },
  {
   "cell_type": "code",
   "execution_count": null,
   "id": "80ede7be",
   "metadata": {},
   "outputs": [],
   "source": [
    "offset_percentage=0.1\n",
    "await atcs.rem.ataos.cmd_resetOffset.set_start(axis='m1')\n",
    "await asyncio.sleep(2)\n",
    "await atcs.rem.ataos.cmd_offset.set_start(m1=-(offset_percentage*starting_pressure))\n",
    "await asyncio.sleep(2)\n",
    "print(pressure)\n",
    "ref_pressure = await atcs.rem.atpneumatics.tel_m1AirPressure.next(flush=True, timeout=10)\n",
    "c.log.info(f'Corrections on, air valves are open, pressure scale_factor set to {scale_factor}, ref_pressure now set to {ref_pressure.pressure}. Run 2c') # only"
   ]
  },
  {
   "cell_type": "code",
   "execution_count": null,
   "id": "e6903aed",
   "metadata": {},
   "outputs": [],
   "source": [
    "az=0\n",
    "print(f'start time is {(Time.now()).isot}')\n",
    "c.log.info(f'Starting dip sequence for elevations of {el_samples}')\n",
    "for el in el_samples:\n",
    "    print(f'going to az={az}, el={el}')\n",
    "    await atcs.point_azel(az=az, el=el)\n",
    "    await asyncio.sleep(3)\n",
    "    # grab the positions\n",
    "    tmp = await pmd_remote.tel_position.next(flush=True, timeout=25)\n",
    "    c.log.info(f'az,el,pos0,pos1,pos2 = {az}, {el}, {tmp.position[0]}, {tmp.position[1]}, {tmp.position[2]}, {tmp.position[3]}, {tmp.position[4]}')\n",
    "    print(f'az,el,pos0,pos1,pos2 = {az}, {el}, {tmp.position[0]}, {tmp.position[1]}, {tmp.position[2]}, {tmp.position[3]}, {tmp.position[4]}')\n",
    "    \n",
    "c.log.info(f'Finished dip sequence for elevations of {el_samples}')\n",
    "print('slewing back to first position')\n",
    "await atcs.point_azel(az=az, el=el_samples[0])\n",
    "print(f'End time is {(Time.now()).isot}')"
   ]
  },
  {
   "cell_type": "code",
   "execution_count": null,
   "id": "9d6dad91",
   "metadata": {},
   "outputs": [],
   "source": []
  },
  {
   "cell_type": "code",
   "execution_count": null,
   "id": "daebced7",
   "metadata": {},
   "outputs": [],
   "source": [
    "offset_percentage=0.05\n",
    "await atcs.rem.ataos.cmd_resetOffset.set_start(axis='m1')\n",
    "await asyncio.sleep(2)\n",
    "await atcs.rem.ataos.cmd_offset.set_start(m1=-(offset_percentage*starting_pressure))\n",
    "await asyncio.sleep(2)\n",
    "print(pressure)\n",
    "ref_pressure = await atcs.rem.atpneumatics.tel_m1AirPressure.next(flush=True, timeout=10)\n",
    "c.log.info(f'Corrections on, air valves are open, pressure scale_factor set to {scale_factor}, ref_pressure now set to {ref_pressure.pressure}. Run 1') # only"
   ]
  },
  {
   "cell_type": "code",
   "execution_count": null,
   "id": "d17ac07c",
   "metadata": {},
   "outputs": [],
   "source": [
    "az=0\n",
    "print(f'start time is {(Time.now()).isot}')\n",
    "c.log.info(f'Starting dip sequence for elevations of {el_samples}')\n",
    "for el in el_samples:\n",
    "    print(f'going to az={az}, el={el}')\n",
    "    await atcs.point_azel(az=az, el=el)\n",
    "    await asyncio.sleep(3)\n",
    "    # grab the positions\n",
    "    tmp = await pmd_remote.tel_position.next(flush=True, timeout=25)\n",
    "    c.log.info(f'az,el,pos0,pos1,pos2 = {az}, {el}, {tmp.position[0]}, {tmp.position[1]}, {tmp.position[2]}, {tmp.position[3]}, {tmp.position[4]}')\n",
    "    print(f'az,el,pos0,pos1,pos2 = {az}, {el}, {tmp.position[0]}, {tmp.position[1]}, {tmp.position[2]}, {tmp.position[3]}, {tmp.position[4]}')\n",
    "    \n",
    "c.log.info(f'Finished dip sequence for elevations of {el_samples}')\n",
    "print('slewing back to first position')\n",
    "await atcs.point_azel(az=az, el=el_samples[0])\n",
    "print(f'End time is {(Time.now()).isot}')"
   ]
  },
  {
   "cell_type": "code",
   "execution_count": null,
   "id": "72ac63e1",
   "metadata": {},
   "outputs": [],
   "source": []
  },
  {
   "cell_type": "code",
   "execution_count": null,
   "id": "811bf619",
   "metadata": {},
   "outputs": [],
   "source": []
  },
  {
   "cell_type": "code",
   "execution_count": null,
   "id": "dad38cf4",
   "metadata": {},
   "outputs": [],
   "source": []
  },
  {
   "cell_type": "code",
   "execution_count": null,
   "id": "7782a941",
   "metadata": {},
   "outputs": [],
   "source": []
  },
  {
   "cell_type": "code",
   "execution_count": null,
   "id": "4e8755ed",
   "metadata": {},
   "outputs": [],
   "source": [
    "tmp = await pmd_remote.tel_position.next(flush=True, timeout=25)\n",
    "print(tmp)"
   ]
  },
  {
   "cell_type": "code",
   "execution_count": null,
   "id": "2313b000",
   "metadata": {},
   "outputs": [],
   "source": [
    "await atcs.rem.atpneumatics.cmd_m1SetPressure.set_start(pressure=135000)"
   ]
  },
  {
   "cell_type": "code",
   "execution_count": null,
   "id": "be03dce7",
   "metadata": {},
   "outputs": [],
   "source": [
    "tmp = await pmd_remote.tel_position.next(flush=True, timeout=25)\n",
    "print(tmp)"
   ]
  },
  {
   "cell_type": "code",
   "execution_count": null,
   "id": "7893a0ac",
   "metadata": {},
   "outputs": [],
   "source": [
    "await atcs.rem.atpneumatics.cmd_m1SetPressure.set_start(pressure=135000)"
   ]
  },
  {
   "cell_type": "code",
   "execution_count": null,
   "id": "5deb9831",
   "metadata": {},
   "outputs": [],
   "source": [
    "tmp = await pmd_remote.tel_position.next(flush=True, timeout=25)\n",
    "print(tmp)"
   ]
  },
  {
   "cell_type": "code",
   "execution_count": null,
   "id": "b2fe743d",
   "metadata": {},
   "outputs": [],
   "source": [
    "await atcs.rem.atpneumatics.cmd_m1SetPressure.set_start(pressure=140000)"
   ]
  },
  {
   "cell_type": "code",
   "execution_count": null,
   "id": "3b9c581a",
   "metadata": {},
   "outputs": [],
   "source": [
    "tmp = await pmd_remote.tel_position.next(flush=True, timeout=25)\n",
    "print(tmp)"
   ]
  },
  {
   "cell_type": "code",
   "execution_count": null,
   "id": "d333f3e7",
   "metadata": {},
   "outputs": [],
   "source": []
  },
  {
   "cell_type": "code",
   "execution_count": null,
   "id": "82600877",
   "metadata": {},
   "outputs": [],
   "source": [
    "await atcs.rem.atpneumatics.cmd_m1SetPressure.set_start(pressure=0)\n",
    "await atcs.point_azel(az=az, el=50)"
   ]
  },
  {
   "cell_type": "code",
   "execution_count": null,
   "id": "13e8088a",
   "metadata": {},
   "outputs": [],
   "source": [
    "await atcs.rem.atpneumatics.cmd_m1SetPressure.set_start(pressure=0)\n",
    "await asyncio.sleep(4)\n",
    "tmp = await pmd_remote.tel_position.next(flush=True, timeout=25)\n",
    "print(tmp)"
   ]
  },
  {
   "cell_type": "code",
   "execution_count": null,
   "id": "80692eed",
   "metadata": {},
   "outputs": [],
   "source": [
    "# now craig will push on it"
   ]
  },
  {
   "cell_type": "code",
   "execution_count": null,
   "id": "c9c35611",
   "metadata": {},
   "outputs": [],
   "source": [
    "tmp = await pmd_remote.tel_position.next(flush=True, timeout=25)\n",
    "print(tmp)"
   ]
  },
  {
   "cell_type": "code",
   "execution_count": null,
   "id": "b5fd90f3",
   "metadata": {},
   "outputs": [],
   "source": [
    "await atcs.rem.ataos.cmd_enableCorrection.set_start(m1=True)"
   ]
  },
  {
   "cell_type": "code",
   "execution_count": null,
   "id": "99168c8c",
   "metadata": {},
   "outputs": [],
   "source": [
    "tmp = await pmd_remote.tel_position.next(flush=True, timeout=25)\n",
    "print(tmp)"
   ]
  },
  {
   "cell_type": "code",
   "execution_count": null,
   "id": "2f7b4fd5",
   "metadata": {},
   "outputs": [],
   "source": [
    "import datetime\n",
    "datetime."
   ]
  },
  {
   "cell_type": "code",
   "execution_count": null,
   "id": "b95f1415",
   "metadata": {},
   "outputs": [],
   "source": [
    "az=0\n",
    "c.log.info(f'Starting dip sequence for elevations of {el_samples}')\n",
    "for el in el_samples:\n",
    "    print(f'going to az={az}, el={el}')\n",
    "    await atcs.point_azel(az=az, el=el)\n",
    "    await asyncio.sleep(3)\n",
    "    # grab the positions\n",
    "    tmp = await pmd_remote.tel_position.next(flush=True, timeout=25)\n",
    "    c.log.info(f'az,el,pos0,pos1,pos2 = {az}, {el}, {tmp.position[0]}, {tmp.position[1]}, {tmp.position[2]}, {tmp.position[3]}, {tmp.position[4]}')\n",
    "    print(f'az,el,pos0,pos1,pos2 = {az}, {el}, {tmp.position[0]}, {tmp.position[1]}, {tmp.position[2]}, {tmp.position[3]}, {tmp.position[4]}')\n",
    "\n",
    "c.log.info(f'Finished dip sequence for elevations of {el_samples}')"
   ]
  },
  {
   "cell_type": "code",
   "execution_count": null,
   "id": "9e8ef1e0",
   "metadata": {},
   "outputs": [],
   "source": [
    "c.log.info('Previous dataset was after craig tweaked the gauge') # only "
   ]
  },
  {
   "cell_type": "code",
   "execution_count": null,
   "id": "04bff92e",
   "metadata": {},
   "outputs": [],
   "source": []
  },
  {
   "cell_type": "code",
   "execution_count": null,
   "id": "a09e99bf",
   "metadata": {},
   "outputs": [],
   "source": []
  },
  {
   "cell_type": "code",
   "execution_count": null,
   "id": "c14bebc7",
   "metadata": {},
   "outputs": [],
   "source": []
  },
  {
   "cell_type": "code",
   "execution_count": null,
   "id": "b59424ed",
   "metadata": {},
   "outputs": [],
   "source": []
  },
  {
   "cell_type": "code",
   "execution_count": null,
   "id": "b5d7ea78",
   "metadata": {},
   "outputs": [],
   "source": []
  },
  {
   "cell_type": "code",
   "execution_count": null,
   "id": "2d40c2c5",
   "metadata": {},
   "outputs": [],
   "source": [
    "c.log.info('Previous dataset had no active optics system enabled') # only \n"
   ]
  },
  {
   "cell_type": "code",
   "execution_count": null,
   "id": "ac4742d1",
   "metadata": {},
   "outputs": [],
   "source": [
    "await atcs.point_azel(az=az, el=80)"
   ]
  },
  {
   "cell_type": "code",
   "execution_count": null,
   "id": "0a0f03dc",
   "metadata": {},
   "outputs": [],
   "source": [
    "await atcs.stop_tracking()"
   ]
  },
  {
   "cell_type": "code",
   "execution_count": null,
   "id": "5d169eaa",
   "metadata": {},
   "outputs": [],
   "source": [
    "await atcs.rem.ataos.cmd_enable.start()"
   ]
  },
  {
   "cell_type": "code",
   "execution_count": null,
   "id": "23febcdb",
   "metadata": {},
   "outputs": [],
   "source": [
    "await atcs.rem.atpneumatics.cmd_m1CloseAirValve.start()"
   ]
  },
  {
   "cell_type": "code",
   "execution_count": null,
   "id": "fb84457c",
   "metadata": {},
   "outputs": [],
   "source": [
    "await atcs.rem.atpneumatics.cmd_closeMasterAirSupply.start()"
   ]
  },
  {
   "cell_type": "code",
   "execution_count": null,
   "id": "cb8e57e1",
   "metadata": {},
   "outputs": [],
   "source": [
    "await atcs.rem.atpneumatics.cmd_closeInstrumentAirValve.start()"
   ]
  },
  {
   "cell_type": "code",
   "execution_count": null,
   "id": "ed480c12",
   "metadata": {},
   "outputs": [],
   "source": [
    "await atcs.rem.ataos.cmd_enableCorrection.set_start(m1=True)"
   ]
  },
  {
   "cell_type": "code",
   "execution_count": null,
   "id": "7c2b3f0e",
   "metadata": {},
   "outputs": [],
   "source": []
  },
  {
   "cell_type": "code",
   "execution_count": null,
   "id": "246360bc",
   "metadata": {},
   "outputs": [],
   "source": [
    "az=0\n",
    "c.log.info('Starting run with m1 correction enabled')\n",
    "for el in el_samples:\n",
    "    print(f'going to az={az}, el={el}')\n",
    "    await atcs.point_azel(az=az, el=el)\n",
    "    # grab the positions\n",
    "    tmp = await pmd_remote.tel_position.next(flush=True, timeout=25)\n",
    "    c.log.info(f'az,el,pos0,pos1,pos2 = {az}, {el}, {tmp.position[0]}, {tmp.position[1]}, {tmp.position[2]}')\n",
    "    "
   ]
  },
  {
   "cell_type": "code",
   "execution_count": null,
   "id": "a881198b",
   "metadata": {},
   "outputs": [],
   "source": []
  },
  {
   "cell_type": "code",
   "execution_count": null,
   "id": "6ea0f5bc",
   "metadata": {},
   "outputs": [],
   "source": []
  },
  {
   "cell_type": "code",
   "execution_count": null,
   "id": "6f5fcf18",
   "metadata": {},
   "outputs": [],
   "source": [
    "await atcs.point_azel(az=0, el=80)"
   ]
  },
  {
   "cell_type": "code",
   "execution_count": null,
   "id": "37f3c5c8",
   "metadata": {},
   "outputs": [],
   "source": [
    "await atcs.stop_tracking()"
   ]
  },
  {
   "cell_type": "code",
   "execution_count": null,
   "id": "734b52ab",
   "metadata": {},
   "outputs": [],
   "source": [
    "atcs.check.atdome=True\n",
    "atcs.check.atdometrajectory=True\n",
    "await atcs.standby()"
   ]
  },
  {
   "cell_type": "code",
   "execution_count": null,
   "id": "45be786f",
   "metadata": {},
   "outputs": [],
   "source": [
    "tmp=await salobj.set_summary_state(pmd_remote, salobj.State.OFFLINE, settingsToApply='micrometer', timeout=30)\n",
    "print(tmp)"
   ]
  },
  {
   "cell_type": "code",
   "execution_count": null,
   "id": "58fe61a4",
   "metadata": {},
   "outputs": [],
   "source": []
  }
 ],
 "metadata": {
  "kernelspec": {
   "display_name": "LSST",
   "language": "python",
   "name": "lsst"
  },
  "language_info": {
   "codemirror_mode": {
    "name": "ipython",
    "version": 3
   },
   "file_extension": ".py",
   "mimetype": "text/x-python",
   "name": "python",
   "nbconvert_exporter": "python",
   "pygments_lexer": "ipython3",
   "version": "3.8.8"
  }
 },
 "nbformat": 4,
 "nbformat_minor": 5
}
