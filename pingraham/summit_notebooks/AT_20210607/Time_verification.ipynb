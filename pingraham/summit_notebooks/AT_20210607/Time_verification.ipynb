{
 "cells": [
  {
   "cell_type": "code",
   "execution_count": null,
   "id": "26e00058",
   "metadata": {},
   "outputs": [],
   "source": [
    "# This notebooks looks at the timestamps of the atmcs to make sure\n",
    "# everything is consistent"
   ]
  },
  {
   "cell_type": "code",
   "execution_count": 1,
   "id": "93490a05",
   "metadata": {},
   "outputs": [],
   "source": [
    "import asyncio \n",
    "import matplotlib\n",
    "\n",
    "import numpy as np\n",
    "import pandas as pd\n",
    "\n",
    "from matplotlib import pylab as plt\n",
    "from astropy.time import Time, TimeDelta\n",
    "from lsst_efd_client import EfdClient, rendezvous_dataframes"
   ]
  },
  {
   "cell_type": "code",
   "execution_count": null,
   "id": "f1833d43",
   "metadata": {},
   "outputs": [],
   "source": [
    "%matplotlib inline"
   ]
  },
  {
   "cell_type": "code",
   "execution_count": null,
   "id": "bf38940e",
   "metadata": {},
   "outputs": [],
   "source": [
    "efd_client = EfdClient('summit_efd')\n",
    "#efd_client = EfdClient('ldf_stable_efd') "
   ]
  },
  {
   "cell_type": "markdown",
   "id": "3bafb6e7",
   "metadata": {},
   "source": [
    "Query for all the `endReadout` events on the timespan of the night, elevation, and pmd data"
   ]
  },
  {
   "cell_type": "code",
   "execution_count": null,
   "id": "0c7c1d3b",
   "metadata": {},
   "outputs": [],
   "source": [
    "date='20210817'\n",
    "test='time_test'\n",
    "run='initial'\n",
    "\n",
    "if run == 'initial': \n",
    "# Starting Test1, Nominal LUT from m1_hex_20210810_v3.yaml:v0.8.2.alpha.2-0-g72c6e32\n",
    "# start time is 2021-08-12T21:01:52.999\n",
    "    t1 = Time(\"2021-08-17T17:36:45\", format='isot', scale='tai')\n",
    "    t2 = Time(\"2021-08-17T17:39:20.386\", format='isot', scale='tai')\n",
    "    t2 = Time(\"2021-08-17T17:42:00.386\", format='isot', scale='tai') # half\n",
    "#     t2 = Time(\"2021-08-17T17:45:00.386\", format='isot', scale='tai') # original\n",
    "    scale_factor=1.0\n",
    "    start_log_msg = '[2021-07-08_Repeat_Focus_Test_START]'\n",
    "    finish_log_msg = '[2021-07-08_Repeat_Focus_Test_END]'\n",
    "# elif run == 'test2':\n",
    "# Starting Test2, LUT offset by 1211.6539141845715 and is now 122385.77740478516\n",
    "# start time is 2021-08-12T21:21:00.763\n",
    "#     t1 = Time(\"2021-08-12T21:21:00.763\", format='isot', scale='tai')\n",
    "#     t2 = Time(\"2021-08-12T21:28:08.745\", format='isot', scale='tai')\n",
    "#     scale_factor=1.01\n",
    "else:\n",
    "    raise IOError('Not a valid input')"
   ]
  },
  {
   "cell_type": "code",
   "execution_count": null,
   "id": "52cebe0d",
   "metadata": {},
   "outputs": [],
   "source": [
    "pmd = await efd_client.select_time_series(\"lsst.sal.PMD.position\", [\"position0\", \"position1\", \"position2\", \"position3\", \"position4\", \"position5\", \"private_efdStamp\"], t1, t2)"
   ]
  },
  {
   "cell_type": "code",
   "execution_count": null,
   "id": "245bd676",
   "metadata": {},
   "outputs": [],
   "source": [
    "pmd"
   ]
  },
  {
   "cell_type": "code",
   "execution_count": null,
   "id": "a3772b53",
   "metadata": {},
   "outputs": [],
   "source": [
    "atmcs_target = await efd_client.select_time_series(\"lsst.sal.ATMCS.command_trackTarget\", \n",
    "                                           [\"private_efdStamp\",\"elevation\"], t1, t2)\n",
    "atmcs_target"
   ]
  },
  {
   "cell_type": "code",
   "execution_count": null,
   "id": "c9d99d32",
   "metadata": {},
   "outputs": [],
   "source": [
    "atptg = await efd_client.select_time_series(\"lsst.sal.ATPtg.command_azElTarget\", \n",
    "                                           [\"private_efdStamp\",\"azDegs\",\"elDegs\",], t1, t2)"
   ]
  },
  {
   "cell_type": "code",
   "execution_count": null,
   "id": "cf7269bd",
   "metadata": {},
   "outputs": [],
   "source": [
    "atptg"
   ]
  },
  {
   "cell_type": "code",
   "execution_count": null,
   "id": "4ab4ec11",
   "metadata": {},
   "outputs": [],
   "source": [
    "el0 = await efd_client.select_time_series(\"lsst.sal.ATMCS.mount_AzEl_Encoders\", [\"elevationCalculatedAngle0\", \"private_efdStamp\", \"cRIO_timestamp\", \"private_sndStamp\"], t1, t2)"
   ]
  },
  {
   "cell_type": "code",
   "execution_count": null,
   "id": "e5aac2a8",
   "metadata": {},
   "outputs": [],
   "source": [
    "el=el0"
   ]
  },
  {
   "cell_type": "code",
   "execution_count": null,
   "id": "72bcd2b6",
   "metadata": {},
   "outputs": [],
   "source": [
    "# Check that the private_efdStamp is used as the index in the EFD"
   ]
  },
  {
   "cell_type": "code",
   "execution_count": null,
   "id": "1f034bf0",
   "metadata": {},
   "outputs": [],
   "source": [
    "el_time=Time(el.private_efdStamp,format='unix', scale='tai')"
   ]
  },
  {
   "cell_type": "code",
   "execution_count": null,
   "id": "68318fb5",
   "metadata": {},
   "outputs": [],
   "source": [
    "# This should be < a milli-second or so\n",
    "np.timedelta64(el.index.values[0]-el_time.datetime64[0],'us')"
   ]
  },
  {
   "cell_type": "code",
   "execution_count": null,
   "id": "2c434229",
   "metadata": {},
   "outputs": [],
   "source": [
    "# Check a salobj CSC just for a consistency check\n",
    "pmd_time=Time(pmd.private_efdStamp,format='unix', scale='tai')\n",
    "np.timedelta64(pmd.index.values[0]-pmd_time.datetime64[0],'us')"
   ]
  },
  {
   "cell_type": "code",
   "execution_count": null,
   "id": "1b0b2979",
   "metadata": {},
   "outputs": [],
   "source": [
    "# Check that the cRIO_timestamp is close to the private_sndStamp, which are both TAI but known to differ by 2-3 seconds"
   ]
  },
  {
   "cell_type": "code",
   "execution_count": null,
   "id": "3d7b017d",
   "metadata": {},
   "outputs": [],
   "source": [
    "el_cRIO_time=Time(el.cRIO_timestamp,format='unix', scale='tai')\n",
    "np.timedelta64(el.index.values[0]-el_cRIO_time.datetime64[0],'s')"
   ]
  },
  {
   "cell_type": "code",
   "execution_count": null,
   "id": "48da68b9",
   "metadata": {},
   "outputs": [],
   "source": []
  },
  {
   "cell_type": "code",
   "execution_count": null,
   "id": "d2a3a612",
   "metadata": {},
   "outputs": [],
   "source": [
    "# Check that the cRIO_timestamp is ~37s from private_efdStamp (which is UTC)"
   ]
  },
  {
   "cell_type": "code",
   "execution_count": null,
   "id": "f8593e40",
   "metadata": {},
   "outputs": [],
   "source": [
    "el_time_TAI=Time(el.private_sndStamp,format='unix', scale='tai')\n",
    "np.timedelta64(el_time_TAI.datetime64[0]-el_cRIO_time.datetime64[0],'s')"
   ]
  },
  {
   "cell_type": "code",
   "execution_count": null,
   "id": "a4f9a078",
   "metadata": {},
   "outputs": [],
   "source": [
    "pmd.index.values[0]-pmd_time.datetime64[0]"
   ]
  },
  {
   "cell_type": "code",
   "execution_count": null,
   "id": "f3b908aa",
   "metadata": {},
   "outputs": [],
   "source": [
    "tmp2=pd.to_datetime(el.index.values).to_series()"
   ]
  },
  {
   "cell_type": "code",
   "execution_count": null,
   "id": "0a62a649",
   "metadata": {},
   "outputs": [],
   "source": [
    "el_time.datetime64-tmp2"
   ]
  },
  {
   "cell_type": "code",
   "execution_count": null,
   "id": "98654ebb",
   "metadata": {},
   "outputs": [],
   "source": []
  },
  {
   "cell_type": "code",
   "execution_count": null,
   "id": "73700fa3",
   "metadata": {},
   "outputs": [],
   "source": [
    "# first verify that private_sndStamp is being used as the index!"
   ]
  },
  {
   "cell_type": "code",
   "execution_count": null,
   "id": "805ae7a4",
   "metadata": {},
   "outputs": [],
   "source": []
  },
  {
   "cell_type": "code",
   "execution_count": null,
   "id": "4917a1b4",
   "metadata": {},
   "outputs": [],
   "source": [
    "atmcs_inPos = await efd_client.select_time_series(\"lsst.sal.ATMCS.logevent_allAxesInPosition\", [\"inPosition\", \"private_efdStamp\"], t1, t2)\n",
    "# atmcs_inPos"
   ]
  },
  {
   "cell_type": "code",
   "execution_count": null,
   "id": "c637ecdf",
   "metadata": {},
   "outputs": [],
   "source": [
    "pressure = await efd_client.select_time_series(\"lsst.sal.ATPneumatics.m1AirPressure\", [\"pressure\", \"private_efdStamp\"], t1, t2)"
   ]
  },
  {
   "cell_type": "code",
   "execution_count": null,
   "id": "f0c92a08",
   "metadata": {},
   "outputs": [],
   "source": []
  },
  {
   "cell_type": "code",
   "execution_count": null,
   "id": "1499edaa",
   "metadata": {},
   "outputs": [],
   "source": [
    "fig_height=10\n",
    "fig_width=20\n",
    "nwide=1; nhigh=1\n",
    "el=el0\n",
    "fig, (row1) = plt.subplots(nhigh, nwide, figsize=(nwide+fig_width, nhigh*fig_height))\n",
    "fig.suptitle('Using Select_time_series with no offset')\n",
    "xvals = (el.private_efdStamp) # um\n",
    "yvals = el.elevationCalculatedAngle0\n",
    "row1.plot(xvals, yvals, 'o-',label='current elevation')\n",
    "row1.set_ylabel('Elevation [deg]')\n",
    "row1.set_xlabel('Time [s]')\n",
    "# overplot commanded position\n",
    "xvals = (atmcs_target.private_efdStamp) # um\n",
    "yvals = atmcs_target.elevation\n",
    "row1.plot(xvals, yvals, '.',color='black', label='Commanded Position',markersize=1)\n",
    "#overplot command of new position\n",
    "xvals = atptg.private_efdStamp\n",
    "yvals = atptg.elDegs\n",
    "purple_label = 'New_target_command'\n",
    "for i,val in enumerate(yvals):\n",
    "    row1.vlines(xvals.iloc[i],ymin=0,ymax=90, color='purple', label=purple_label)\n",
    "    purple_label=None\n",
    "#overplot the in-position\n",
    "xvals = atmcs_inPos.private_efdStamp\n",
    "yvals = atmcs_inPos.inPosition\n",
    "grn_label = 'Mount In-Position'\n",
    "red_label = 'Mount Out-of-Position'\n",
    "for i,val in enumerate(yvals):\n",
    "    if val:\n",
    "        # In position\n",
    "        row1.vlines(xvals.iloc[i],ymin=0,ymax=90, color='green', label=grn_label)\n",
    "        grn_label=None\n",
    "        continue\n",
    "    else:\n",
    "        row1.vlines(xvals.iloc[i],ymin=0,ymax=90, color='red', label=red_label)\n",
    "        red_label=None\n",
    "\n",
    "row1.legend()"
   ]
  },
  {
   "cell_type": "code",
   "execution_count": null,
   "id": "9dec03bb",
   "metadata": {},
   "outputs": [],
   "source": []
  },
  {
   "cell_type": "code",
   "execution_count": null,
   "id": "64ae1776",
   "metadata": {},
   "outputs": [],
   "source": []
  },
  {
   "cell_type": "code",
   "execution_count": null,
   "id": "d6c5a21b",
   "metadata": {},
   "outputs": [],
   "source": []
  },
  {
   "cell_type": "code",
   "execution_count": null,
   "id": "00492274",
   "metadata": {},
   "outputs": [],
   "source": []
  },
  {
   "cell_type": "code",
   "execution_count": null,
   "id": "f60391b3",
   "metadata": {},
   "outputs": [],
   "source": []
  },
  {
   "cell_type": "code",
   "execution_count": null,
   "id": "470fe417",
   "metadata": {},
   "outputs": [],
   "source": [
    "# el1 = await efd_client.select_packed_time_series(\"lsst.sal.ATMCS.mount_AzEl_Encoders\", [\"elevationCalculatedAngle0\", \"private_efdStamp\", \"cRIO_timestamp\", \"private_sndStamp\"], t1, t2) \n",
    "el1 = await efd_client.select_packed_time_series(\"lsst.sal.ATMCS.mount_AzEl_Encoders\", [\"elevationCalculatedAngle\"], t1, t2)\n",
    "# cRIO timestamp report in TAI\n",
    "el1.times=el1.times-37"
   ]
  },
  {
   "cell_type": "code",
   "execution_count": null,
   "id": "4fa3fb4a",
   "metadata": {},
   "outputs": [],
   "source": [
    "el1"
   ]
  },
  {
   "cell_type": "code",
   "execution_count": null,
   "id": "56903639",
   "metadata": {},
   "outputs": [],
   "source": [
    "el1.keys()"
   ]
  },
  {
   "cell_type": "code",
   "execution_count": null,
   "id": "c65dc20d",
   "metadata": {},
   "outputs": [],
   "source": [
    "el_index_time=Time(el1.times,format='unix', scale='tai')"
   ]
  },
  {
   "cell_type": "code",
   "execution_count": null,
   "id": "dbc732dc",
   "metadata": {},
   "outputs": [],
   "source": [
    "nwide=1; nhigh=1\n",
    "fig, (row1) = plt.subplots(nhigh, nwide, figsize=(nwide+fig_width, nhigh*fig_height))\n",
    "fig.suptitle('Using select_packed_time_series with no offset')\n",
    "el=el1\n",
    "xvals = (el.times) # um\n",
    "xvals = el_index_time.unix # UTC\n",
    "yvals = el.elevationCalculatedAngle\n",
    "row1.plot(xvals, yvals, 'o-')\n",
    "row1.set_ylabel('Elevation [deg]')\n",
    "row1.set_xlabel('Time [s]')\n",
    "# overplot commanded position\n",
    "xvals = (atmcs_target.private_efdStamp) # um\n",
    "yvals = atmcs_target.elevation\n",
    "row1.plot(xvals, yvals, 'x',color='black', label='Commanded Position',markersize=1)\n",
    "#overplot command of new position\n",
    "xvals = atptg.private_efdStamp\n",
    "yvals = atptg.elDegs\n",
    "purple_label = 'New_target_command'\n",
    "for i,val in enumerate(yvals):\n",
    "    row1.vlines(xvals.iloc[i],ymin=0,ymax=90, color='purple', label=purple_label)\n",
    "    purple_label=None\n",
    "#overplot the in-position\n",
    "xvals = atmcs_inPos.private_efdStamp\n",
    "yvals = atmcs_inPos.inPosition\n",
    "grn_label = 'Mount In-Position'\n",
    "red_label = 'Mount Out-of-Position'\n",
    "for i,val in enumerate(yvals):\n",
    "    if val:\n",
    "        # In position\n",
    "        row1.vlines(xvals.iloc[i],ymin=0,ymax=90, color='green', label=grn_label)\n",
    "        grn_label=None\n",
    "        continue\n",
    "    else:\n",
    "        row1.vlines(xvals.iloc[i],ymin=0,ymax=90, color='red', label=red_label)\n",
    "        red_label=None\n",
    "\n",
    "row1.legend()"
   ]
  },
  {
   "cell_type": "code",
   "execution_count": null,
   "id": "dfa28a28",
   "metadata": {},
   "outputs": [],
   "source": []
  },
  {
   "cell_type": "code",
   "execution_count": null,
   "id": "8e60cd23",
   "metadata": {},
   "outputs": [],
   "source": []
  },
  {
   "cell_type": "code",
   "execution_count": 2,
   "id": "63ad3570",
   "metadata": {},
   "outputs": [],
   "source": [
    "efd_client = EfdClient('summit_efd')"
   ]
  },
  {
   "cell_type": "code",
   "execution_count": 3,
   "id": "c4bd0ebe",
   "metadata": {},
   "outputs": [],
   "source": [
    "t1 = Time(\"2021-08-17T17:36:45\", format='isot', scale='tai')\n",
    "t2 = Time(\"2021-08-17T17:42:00.386\", format='isot', scale='tai') # half"
   ]
  },
  {
   "cell_type": "code",
   "execution_count": 4,
   "id": "4c531c70",
   "metadata": {},
   "outputs": [],
   "source": [
    "pmd = await efd_client.select_time_series(\"lsst.sal.PMD.position\", [\"position0\", \"private_efdStamp\", \"private_sndStamp\"], t1, t2)"
   ]
  },
  {
   "cell_type": "code",
   "execution_count": 5,
   "id": "6e423a97",
   "metadata": {},
   "outputs": [],
   "source": [
    "# Check that the private_efdStamp is used as the index in the EFD"
   ]
  },
  {
   "cell_type": "code",
   "execution_count": 6,
   "id": "b1c97d41",
   "metadata": {},
   "outputs": [],
   "source": [
    "pmd_time=Time(pmd.private_efdStamp,format='unix', scale='tai')"
   ]
  },
  {
   "cell_type": "code",
   "execution_count": 7,
   "id": "310c98ca",
   "metadata": {},
   "outputs": [
    {
     "data": {
      "text/plain": [
       "numpy.timedelta64(-300,'us')"
      ]
     },
     "execution_count": 7,
     "metadata": {},
     "output_type": "execute_result"
    }
   ],
   "source": [
    "# This should be < a milli-second or so\n",
    "np.timedelta64(pmd.index.values[0]-pmd_time.datetime64[0],'us')"
   ]
  },
  {
   "cell_type": "code",
   "execution_count": 9,
   "id": "422af39d",
   "metadata": {},
   "outputs": [
    {
     "data": {
      "text/plain": [
       "numpy.timedelta64(-37000300,'us')"
      ]
     },
     "execution_count": 9,
     "metadata": {},
     "output_type": "execute_result"
    }
   ],
   "source": [
    "# Compare private_sndStamp to the index\n",
    "pmd_sndStamp=Time(pmd.private_sndStamp,format='unix', scale='tai')\n",
    "np.timedelta64(pmd.index.values[0]-pmd_sndStamp.datetime64[0],'us')"
   ]
  },
  {
   "cell_type": "code",
   "execution_count": 13,
   "id": "5bdcfb32",
   "metadata": {},
   "outputs": [
    {
     "data": {
      "text/plain": [
       "numpy.timedelta64(-37000300,'us')"
      ]
     },
     "execution_count": 13,
     "metadata": {},
     "output_type": "execute_result"
    }
   ],
   "source": [
    "np.timedelta64(pmd.index.values[0]-pmd_sndStamp.datetime64[0],'us')"
   ]
  },
  {
   "cell_type": "code",
   "execution_count": 14,
   "id": "9714f987",
   "metadata": {},
   "outputs": [
    {
     "data": {
      "text/plain": [
       "numpy.timedelta64(-38,'s')"
      ]
     },
     "execution_count": 14,
     "metadata": {},
     "output_type": "execute_result"
    }
   ],
   "source": [
    "np.timedelta64(pmd.index.values[0]-pmd_sndStamp.datetime64[0],'s')"
   ]
  },
  {
   "cell_type": "code",
   "execution_count": null,
   "id": "3f712e3d",
   "metadata": {},
   "outputs": [],
   "source": [
    "import astropy as astropy"
   ]
  },
  {
   "cell_type": "code",
   "execution_count": 20,
   "id": "d321799b",
   "metadata": {},
   "outputs": [
    {
     "data": {
      "text/plain": [
       "'4.1'"
      ]
     },
     "execution_count": 20,
     "metadata": {},
     "output_type": "execute_result"
    }
   ],
   "source": [
    "astropy.__version__"
   ]
  },
  {
   "cell_type": "code",
   "execution_count": null,
   "id": "5ef7318d",
   "metadata": {},
   "outputs": [],
   "source": []
  },
  {
   "cell_type": "code",
   "execution_count": null,
   "id": "91f139fd",
   "metadata": {},
   "outputs": [],
   "source": []
  }
 ],
 "metadata": {
  "kernelspec": {
   "display_name": "LSST",
   "language": "python",
   "name": "lsst"
  },
  "language_info": {
   "codemirror_mode": {
    "name": "ipython",
    "version": 3
   },
   "file_extension": ".py",
   "mimetype": "text/x-python",
   "name": "python",
   "nbconvert_exporter": "python",
   "pygments_lexer": "ipython3",
   "version": "3.8.8"
  }
 },
 "nbformat": 4,
 "nbformat_minor": 5
}
