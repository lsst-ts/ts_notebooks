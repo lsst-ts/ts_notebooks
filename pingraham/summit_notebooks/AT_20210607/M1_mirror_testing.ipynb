{
 "cells": [
  {
   "cell_type": "code",
   "execution_count": null,
   "id": "722decc2",
   "metadata": {},
   "outputs": [],
   "source": [
    "# This notebook performs telescope motion tests in elevation and looks at how the mirror position changes as per the measurements by the PMD"
   ]
  },
  {
   "cell_type": "code",
   "execution_count": 1,
   "id": "cbf5748f",
   "metadata": {},
   "outputs": [],
   "source": [
    "import sys\n",
    "import asyncio\n",
    "import time\n",
    "import os\n",
    "\n",
    "import numpy as np\n",
    "\n",
    "from lsst.ts import salobj\n",
    "\n",
    "from lsst.ts.observatory.control.auxtel.atcs import ATCS\n",
    "from lsst.ts.observatory.control.auxtel.latiss import LATISS\n",
    "\n",
    "from lsst.ts.observatory.control.utils import RotType\n",
    "import logging"
   ]
  },
  {
   "cell_type": "code",
   "execution_count": 2,
   "id": "a55f583d",
   "metadata": {},
   "outputs": [],
   "source": [
    "# for tab completion to work\n",
    "%config IPCompleter.use_jedi = False"
   ]
  },
  {
   "cell_type": "code",
   "execution_count": 3,
   "id": "31c3456e",
   "metadata": {},
   "outputs": [],
   "source": [
    "stream_handler = logging.StreamHandler(sys.stdout)\n",
    "logger = logging.getLogger()\n",
    "logger.addHandler(stream_handler)\n",
    "logger.level = logging.DEBUG"
   ]
  },
  {
   "cell_type": "code",
   "execution_count": 4,
   "id": "00e51cc5",
   "metadata": {},
   "outputs": [
    {
     "name": "stdout",
     "output_type": "stream",
     "text": [
      "file:///home/patrickingraham/develop/ts_ddsconfig/config/ospl-shmem.xml\n",
      "summit\n"
     ]
    }
   ],
   "source": [
    "print(os.environ[\"OSPL_URI\"])\n",
    "print(os.environ[\"LSST_DDS_PARTITION_PREFIX\"])"
   ]
  },
  {
   "cell_type": "code",
   "execution_count": 5,
   "id": "363bfd05",
   "metadata": {},
   "outputs": [],
   "source": [
    "domain = salobj.Domain()"
   ]
  },
  {
   "cell_type": "code",
   "execution_count": 6,
   "id": "c62c14fa",
   "metadata": {
    "collapsed": true,
    "jupyter": {
     "outputs_hidden": true
    }
   },
   "outputs": [
    {
     "name": "stdout",
     "output_type": "stream",
     "text": [
      "atmcs: Adding all resources.\n",
      "atptg: Adding all resources.\n",
      "ataos: Adding all resources.\n",
      "atpneumatics: Adding all resources.\n",
      "athexapod: Adding all resources.\n",
      "atdome: Adding all resources.\n",
      "atdometrajectory: Adding all resources.\n",
      "atcamera: Adding all resources.\n",
      "atspectrograph: Adding all resources.\n",
      "atheaderservice: Adding all resources.\n",
      "atarchiver: Adding all resources.\n",
      "Read historical data in 0.01 sec\n",
      "Read 1 history items for RemoteEvent(ATDomeTrajectory, 0, algorithm)\n",
      "Read 4 history items for RemoteEvent(ATDomeTrajectory, 0, appliedSettingsMatchStart)\n",
      "Read 1 history items for RemoteEvent(ATDomeTrajectory, 0, authList)\n",
      "Read 3 history items for RemoteEvent(ATDomeTrajectory, 0, followingMode)\n",
      "Read 100 history items for RemoteEvent(ATDomeTrajectory, 0, heartbeat)\n",
      "Read 1 history items for RemoteEvent(ATDomeTrajectory, 0, logLevel)\n",
      "Read 17 history items for RemoteEvent(ATDomeTrajectory, 0, logMessage)\n",
      "Read 1 history items for RemoteEvent(ATDomeTrajectory, 0, settingVersions)\n",
      "Read 1 history items for RemoteEvent(ATDomeTrajectory, 0, settingsApplied)\n",
      "Read 1 history items for RemoteEvent(ATDomeTrajectory, 0, simulationMode)\n",
      "Read 1 history items for RemoteEvent(ATDomeTrajectory, 0, softwareVersions)\n",
      "Read 17 history items for RemoteEvent(ATDomeTrajectory, 0, summaryState)\n",
      "Read historical data in 0.06 sec\n",
      "Read 1 history items for RemoteEvent(ATHeaderService, 0, authList)\n",
      "Read 100 history items for RemoteEvent(ATHeaderService, 0, heartbeat)\n",
      "Read 100 history items for RemoteEvent(ATHeaderService, 0, largeFileObjectAvailable)\n",
      "Read 1 history items for RemoteEvent(ATHeaderService, 0, logLevel)\n",
      "Read 100 history items for RemoteEvent(ATHeaderService, 0, logMessage)\n",
      "Read 1 history items for RemoteEvent(ATHeaderService, 0, simulationMode)\n",
      "Read 1 history items for RemoteEvent(ATHeaderService, 0, softwareVersions)\n",
      "Read 13 history items for RemoteEvent(ATHeaderService, 0, summaryState)\n",
      "Read historical data in 0.09 sec\n",
      "Read 12 history items for RemoteEvent(ATHexapod, 0, appliedSettingsMatchStart)\n",
      "Read 1 history items for RemoteEvent(ATHexapod, 0, authList)\n",
      "Read 100 history items for RemoteEvent(ATHexapod, 0, detailedState)\n",
      "Read 1 history items for RemoteEvent(ATHexapod, 0, errorCode)\n",
      "Read 100 history items for RemoteEvent(ATHexapod, 0, heartbeat)\n",
      "Read 100 history items for RemoteEvent(ATHexapod, 0, inPosition)\n",
      "Read 1 history items for RemoteEvent(ATHexapod, 0, logLevel)\n",
      "Read 100 history items for RemoteEvent(ATHexapod, 0, logMessage)\n",
      "Read 100 history items for RemoteEvent(ATHexapod, 0, positionUpdate)\n",
      "Read 1 history items for RemoteEvent(ATHexapod, 0, readyForCommand)\n",
      "Read 1 history items for RemoteEvent(ATHexapod, 0, settingVersions)\n",
      "Read 3 history items for RemoteEvent(ATHexapod, 0, settingsApplied)\n",
      "Read 1 history items for RemoteEvent(ATHexapod, 0, settingsAppliedPivot)\n",
      "Read 1 history items for RemoteEvent(ATHexapod, 0, settingsAppliedPositionLimits)\n",
      "Read 3 history items for RemoteEvent(ATHexapod, 0, settingsAppliedTcp)\n",
      "Read 1 history items for RemoteEvent(ATHexapod, 0, settingsAppliedVelocities)\n",
      "Read 1 history items for RemoteEvent(ATHexapod, 0, simulationMode)\n",
      "Read 1 history items for RemoteEvent(ATHexapod, 0, softwareVersions)\n",
      "Read 45 history items for RemoteEvent(ATHexapod, 0, summaryState)\n",
      "Read historical data in 0.13 sec\n",
      "Read 1 history items for RemoteEvent(ATArchiver, 0, authList)\n",
      "Read 100 history items for RemoteEvent(ATArchiver, 0, heartbeat)\n",
      "Read 100 history items for RemoteEvent(ATArchiver, 0, imageInOODS)\n",
      "Read 100 history items for RemoteEvent(ATArchiver, 0, imageRetrievalForArchiving)\n",
      "Read 1 history items for RemoteEvent(ATArchiver, 0, logLevel)\n",
      "Read 1 history items for RemoteEvent(ATArchiver, 0, logMessage)\n",
      "Read 1 history items for RemoteEvent(ATArchiver, 0, simulationMode)\n",
      "Read 1 history items for RemoteEvent(ATArchiver, 0, softwareVersions)\n",
      "Read 37 history items for RemoteEvent(ATArchiver, 0, summaryState)\n",
      "Read historical data in 0.16 sec\n",
      "Read 4 history items for RemoteEvent(ATPneumatics, 0, appliedSettingsMatchStart)\n",
      "Read 4 history items for RemoteEvent(ATPneumatics, 0, cellVentsState)\n",
      "Read 1 history items for RemoteEvent(ATPneumatics, 0, eStop)\n",
      "Read 100 history items for RemoteEvent(ATPneumatics, 0, heartbeat)\n",
      "Read 5 history items for RemoteEvent(ATPneumatics, 0, instrumentState)\n",
      "Read 12 history items for RemoteEvent(ATPneumatics, 0, m1CoverLimitSwitches)\n",
      "Read 9 history items for RemoteEvent(ATPneumatics, 0, m1CoverState)\n",
      "Read 4 history items for RemoteEvent(ATPneumatics, 0, m1State)\n",
      "Read 1 history items for RemoteEvent(ATPneumatics, 0, m1VentsLimitSwitches)\n",
      "Read 2 history items for RemoteEvent(ATPneumatics, 0, m1VentsPosition)\n",
      "Read 7 history items for RemoteEvent(ATPneumatics, 0, m2State)\n",
      "Read 5 history items for RemoteEvent(ATPneumatics, 0, mainValveState)\n",
      "Read 1 history items for RemoteEvent(ATPneumatics, 0, powerStatus)\n",
      "Read 4 history items for RemoteEvent(ATPneumatics, 0, settingVersions)\n",
      "Read 1 history items for RemoteEvent(ATPneumatics, 0, softwareVersions)\n",
      "Read 15 history items for RemoteEvent(ATPneumatics, 0, summaryState)\n",
      "Read historical data in 0.19 sec\n",
      "Read 15 history items for RemoteEvent(ATAOS, 0, appliedSettingsMatchStart)\n",
      "Read 100 history items for RemoteEvent(ATAOS, 0, atspectrographCorrectionCompleted)\n",
      "Read 100 history items for RemoteEvent(ATAOS, 0, atspectrographCorrectionStarted)\n",
      "Read 1 history items for RemoteEvent(ATAOS, 0, authList)\n",
      "Read 16 history items for RemoteEvent(ATAOS, 0, correctionEnabled)\n",
      "Read 100 history items for RemoteEvent(ATAOS, 0, correctionOffsets)\n",
      "Read 100 history items for RemoteEvent(ATAOS, 0, detailedState)\n",
      "Read 2 history items for RemoteEvent(ATAOS, 0, errorCode)\n",
      "Read 100 history items for RemoteEvent(ATAOS, 0, focusOffsetSummary)\n",
      "Read 100 history items for RemoteEvent(ATAOS, 0, heartbeat)\n",
      "Read 100 history items for RemoteEvent(ATAOS, 0, hexapodCorrectionCompleted)\n",
      "Read 100 history items for RemoteEvent(ATAOS, 0, hexapodCorrectionStarted)\n",
      "Read 1 history items for RemoteEvent(ATAOS, 0, logLevel)\n",
      "Read 100 history items for RemoteEvent(ATAOS, 0, logMessage)\n",
      "Read 100 history items for RemoteEvent(ATAOS, 0, m1CorrectionCompleted)\n",
      "Read 100 history items for RemoteEvent(ATAOS, 0, m1CorrectionStarted)\n",
      "Read 100 history items for RemoteEvent(ATAOS, 0, pointingOffsetSummary)\n",
      "Read 3 history items for RemoteEvent(ATAOS, 0, settingVersions)\n",
      "Read 4 history items for RemoteEvent(ATAOS, 0, settingsApplied)\n",
      "Read 1 history items for RemoteEvent(ATAOS, 0, simulationMode)\n",
      "Read 1 history items for RemoteEvent(ATAOS, 0, softwareVersions)\n",
      "Read 61 history items for RemoteEvent(ATAOS, 0, summaryState)\n",
      "Read historical data in 0.26 sec\n",
      "Read 100 history items for RemoteEvent(ATDome, 0, allAxesInPosition)\n",
      "Read 10 history items for RemoteEvent(ATDome, 0, appliedSettingsMatchStart)\n",
      "Read 1 history items for RemoteEvent(ATDome, 0, authList)\n",
      "Read 100 history items for RemoteEvent(ATDome, 0, azimuthCommandedState)\n",
      "Read 100 history items for RemoteEvent(ATDome, 0, azimuthInPosition)\n",
      "Read 100 history items for RemoteEvent(ATDome, 0, azimuthState)\n",
      "Read 100 history items for RemoteEvent(ATDome, 0, doorEncoderExtremes)\n",
      "Read 17 history items for RemoteEvent(ATDome, 0, dropoutDoorCommandedState)\n",
      "Read 100 history items for RemoteEvent(ATDome, 0, dropoutDoorState)\n",
      "Read 1 history items for RemoteEvent(ATDome, 0, emergencyStop)\n",
      "Read 100 history items for RemoteEvent(ATDome, 0, heartbeat)\n",
      "Read 100 history items for RemoteEvent(ATDome, 0, lastAzimuthGoTo)\n",
      "Read 1 history items for RemoteEvent(ATDome, 0, logLevel)\n",
      "Read 21 history items for RemoteEvent(ATDome, 0, logMessage)\n",
      "Read 16 history items for RemoteEvent(ATDome, 0, mainDoorCommandedState)\n",
      "Read 18 history items for RemoteEvent(ATDome, 0, mainDoorState)\n",
      "Read 100 history items for RemoteEvent(ATDome, 0, moveCode)\n",
      "Read 24 history items for RemoteEvent(ATDome, 0, scbLink)\n",
      "Read 1 history items for RemoteEvent(ATDome, 0, settingVersions)\n",
      "Read 1 history items for RemoteEvent(ATDome, 0, settingsApplied)\n",
      "Read 24 history items for RemoteEvent(ATDome, 0, settingsAppliedDomeController)\n",
      "Read 10 history items for RemoteEvent(ATDome, 0, settingsAppliedDomeTcp)\n",
      "Read 12 history items for RemoteEvent(ATDome, 0, shutterInPosition)\n",
      "Read 1 history items for RemoteEvent(ATDome, 0, simulationMode)\n",
      "Read 1 history items for RemoteEvent(ATDome, 0, softwareVersions)\n",
      "Read 41 history items for RemoteEvent(ATDome, 0, summaryState)\n",
      "Read historical data in 0.32 sec\n",
      "Read 9 history items for RemoteEvent(ATSpectrograph, 0, appliedSettingsMatchStart)\n",
      "Read 1 history items for RemoteEvent(ATSpectrograph, 0, authList)\n",
      "Read 100 history items for RemoteEvent(ATSpectrograph, 0, disperserInPosition)\n",
      "Read 100 history items for RemoteEvent(ATSpectrograph, 0, filterInPosition)\n",
      "Read 17 history items for RemoteEvent(ATSpectrograph, 0, fwState)\n",
      "Read 31 history items for RemoteEvent(ATSpectrograph, 0, gwState)\n",
      "Read 100 history items for RemoteEvent(ATSpectrograph, 0, heartbeat)\n",
      "Read 1 history items for RemoteEvent(ATSpectrograph, 0, logLevel)\n",
      "Read 4 history items for RemoteEvent(ATSpectrograph, 0, logMessage)\n",
      "Read 100 history items for RemoteEvent(ATSpectrograph, 0, reportedDisperserPosition)\n",
      "Read 100 history items for RemoteEvent(ATSpectrograph, 0, reportedFilterPosition)\n",
      "Read 1 history items for RemoteEvent(ATSpectrograph, 0, reportedLinearStagePosition)\n",
      "Read 2 history items for RemoteEvent(ATSpectrograph, 0, settingVersions)\n",
      "Read 2 history items for RemoteEvent(ATSpectrograph, 0, settingsApplied)\n",
      "Read 2 history items for RemoteEvent(ATSpectrograph, 0, settingsAppliedValues)\n",
      "Read 1 history items for RemoteEvent(ATSpectrograph, 0, simulationMode)\n",
      "Read 1 history items for RemoteEvent(ATSpectrograph, 0, softwareVersions)\n",
      "Read 37 history items for RemoteEvent(ATSpectrograph, 0, summaryState)\n",
      "Read historical data in 0.36 sec\n",
      "Read 7 history items for RemoteEvent(ATMCS, 0, allAxesInPosition)\n",
      "Read 4 history items for RemoteEvent(ATMCS, 0, appliedSettingsMatchStart)\n",
      "Read 21 history items for RemoteEvent(ATMCS, 0, atMountState)\n",
      "Read 9 history items for RemoteEvent(ATMCS, 0, azimuthBrake1)\n",
      "Read 9 history items for RemoteEvent(ATMCS, 0, azimuthBrake2)\n",
      "Read 9 history items for RemoteEvent(ATMCS, 0, azimuthDrive1Status)\n",
      "Read 9 history items for RemoteEvent(ATMCS, 0, azimuthDrive2Status)\n",
      "Read 7 history items for RemoteEvent(ATMCS, 0, azimuthInPosition)\n",
      "Read 1 history items for RemoteEvent(ATMCS, 0, azimuthLimitSwitchCCW)\n",
      "Read 1 history items for RemoteEvent(ATMCS, 0, azimuthLimitSwitchCW)\n",
      "Read 1 history items for RemoteEvent(ATMCS, 0, azimuthToppleBlockCCW)\n",
      "Read 1 history items for RemoteEvent(ATMCS, 0, azimuthToppleBlockCW)\n",
      "Read 9 history items for RemoteEvent(ATMCS, 0, elevationBrake)\n",
      "Read 9 history items for RemoteEvent(ATMCS, 0, elevationDriveStatus)\n",
      "Read 7 history items for RemoteEvent(ATMCS, 0, elevationInPosition)\n",
      "Read 3 history items for RemoteEvent(ATMCS, 0, elevationLimitSwitchLower)\n",
      "Read 1 history items for RemoteEvent(ATMCS, 0, elevationLimitSwitchUpper)\n",
      "Read 100 history items for RemoteEvent(ATMCS, 0, heartbeat)\n",
      "Read 1 history items for RemoteEvent(ATMCS, 0, m3DriveStatus)\n",
      "Read 1 history items for RemoteEvent(ATMCS, 0, m3InPosition)\n",
      "Read 1 history items for RemoteEvent(ATMCS, 0, m3RotatorDetentSwitches)\n",
      "Read 1 history items for RemoteEvent(ATMCS, 0, m3RotatorLimitSwitchCCW)\n",
      "Read 1 history items for RemoteEvent(ATMCS, 0, m3RotatorLimitSwitchCW)\n",
      "Read 8 history items for RemoteEvent(ATMCS, 0, m3State)\n",
      "Read 9 history items for RemoteEvent(ATMCS, 0, nasmyth1Brake)\n",
      "Read 9 history items for RemoteEvent(ATMCS, 0, nasmyth1DriveStatus)\n",
      "Read 1 history items for RemoteEvent(ATMCS, 0, nasmyth1LimitSwitchCCW)\n",
      "Read 1 history items for RemoteEvent(ATMCS, 0, nasmyth1LimitSwitchCW)\n",
      "Read 7 history items for RemoteEvent(ATMCS, 0, nasmyth1RotatorInPosition)\n",
      "Read 10 history items for RemoteEvent(ATMCS, 0, nasmyth2Brake)\n",
      "Read 10 history items for RemoteEvent(ATMCS, 0, nasmyth2DriveStatus)\n",
      "Read 1 history items for RemoteEvent(ATMCS, 0, nasmyth2LimitSwitchCCW)\n",
      "Read 1 history items for RemoteEvent(ATMCS, 0, nasmyth2LimitSwitchCW)\n",
      "Read 7 history items for RemoteEvent(ATMCS, 0, nasmyth2RotatorInPosition)\n",
      "Read 4 history items for RemoteEvent(ATMCS, 0, positionLimits)\n",
      "Read 4 history items for RemoteEvent(ATMCS, 0, settingVersions)\n",
      "Read 1 history items for RemoteEvent(ATMCS, 0, softwareVersions)\n",
      "Read 17 history items for RemoteEvent(ATMCS, 0, summaryState)\n",
      "Read 100 history items for RemoteEvent(ATMCS, 0, target)\n",
      "Read historical data in 0.40 sec\n",
      "Read 72 history items for RemoteEvent(ATPtg, 0, airmassWarning)\n",
      "Read 1 history items for RemoteEvent(ATPtg, 0, azWrapWarning)\n",
      "Read 26 history items for RemoteEvent(ATPtg, 0, currentDebugLevel)\n",
      "Read 100 history items for RemoteEvent(ATPtg, 0, currentTarget)\n",
      "Read 100 history items for RemoteEvent(ATPtg, 0, detailedState)\n",
      "Read 1 history items for RemoteEvent(ATPtg, 0, elLimitWarning)\n",
      "Read 42 history items for RemoteEvent(ATPtg, 0, errorCode)\n",
      "Read 1 history items for RemoteEvent(ATPtg, 0, focusNameInconsistentWarning)\n",
      "Read 25 history items for RemoteEvent(ATPtg, 0, focusNameSelected)\n",
      "Read 100 history items for RemoteEvent(ATPtg, 0, heartbeat)\n",
      "Read 50 history items for RemoteEvent(ATPtg, 0, iers)\n",
      "Read 3 history items for RemoteEvent(ATPtg, 0, iersOutOfDate)\n",
      "Read 1 history items for RemoteEvent(ATPtg, 0, moonProximityWarning)\n",
      "Read 100 history items for RemoteEvent(ATPtg, 0, mountDataWarning)\n",
      "Read 1 history items for RemoteEvent(ATPtg, 0, objectSetWarning)\n",
      "Read 100 history items for RemoteEvent(ATPtg, 0, offsetSummary)\n",
      "Read 100 history items for RemoteEvent(ATPtg, 0, pointData)\n",
      "Read 11 history items for RemoteEvent(ATPtg, 0, pointingFile)\n",
      "Read 30 history items for RemoteEvent(ATPtg, 0, pointingModel)\n",
      "Read 13 history items for RemoteEvent(ATPtg, 0, ptgAzCurrentWrap)\n",
      "Read 1 history items for RemoteEvent(ATPtg, 0, ptgRotCurrentWrap)\n",
      "Read 4 history items for RemoteEvent(ATPtg, 0, rotWrapWarning)\n",
      "Read 100 history items for RemoteEvent(ATPtg, 0, summaryState)\n",
      "Read 1 history items for RemoteEvent(ATPtg, 0, sunProximityWarning)\n",
      "Read 100 history items for RemoteEvent(ATPtg, 0, timesOfLimits)\n",
      "Read 100 history items for RemoteEvent(ATPtg, 0, trackPosting)\n",
      "Read 25 history items for RemoteEvent(ATPtg, 0, wavelength)\n",
      "Read 100 history items for RemoteEvent(ATPtg, 0, weatherDataApplied)\n",
      "Read 100 history items for RemoteEvent(ATPtg, 0, weatherDataInvalid)\n",
      "Read historical data in 0.46 sec\n",
      "Read 9 history items for RemoteEvent(ATCamera, 0, appliedSettingsMatchStart)\n",
      "Read 12 history items for RemoteEvent(ATCamera, 0, calibrationDetailedState)\n",
      "Read 100 history items for RemoteEvent(ATCamera, 0, ccsCommandState)\n",
      "Read 100 history items for RemoteEvent(ATCamera, 0, endOfImageTelemetry)\n",
      "Read 100 history items for RemoteEvent(ATCamera, 0, endReadout)\n",
      "Read 100 history items for RemoteEvent(ATCamera, 0, endShutterClose)\n",
      "Read 100 history items for RemoteEvent(ATCamera, 0, endShutterOpen)\n",
      "Read 12 history items for RemoteEvent(ATCamera, 0, focalPlaneHardwareIdSettingsApplied)\n",
      "Read 12 history items for RemoteEvent(ATCamera, 0, focalPlaneSummaryInfo)\n",
      "Read 100 history items for RemoteEvent(ATCamera, 0, heartbeat)\n",
      "Read 100 history items for RemoteEvent(ATCamera, 0, imageReadinessDetailedState)\n",
      "Read 100 history items for RemoteEvent(ATCamera, 0, imageReadoutParameters)\n",
      "Read 2 history items for RemoteEvent(ATCamera, 0, offlineDetailedState)\n",
      "Read 100 history items for RemoteEvent(ATCamera, 0, raftsDetailedState)\n",
      "Read 10 history items for RemoteEvent(ATCamera, 0, settingVersions)\n",
      "Read 100 history items for RemoteEvent(ATCamera, 0, shutterDetailedState)\n",
      "Read 100 history items for RemoteEvent(ATCamera, 0, shutterMotionProfile)\n",
      "Read 10 history items for RemoteEvent(ATCamera, 0, softwareVersions)\n",
      "Read 100 history items for RemoteEvent(ATCamera, 0, startIntegration)\n",
      "Read 100 history items for RemoteEvent(ATCamera, 0, startReadout)\n",
      "Read 38 history items for RemoteEvent(ATCamera, 0, summaryState)\n",
      "mainAirSourcePressure DDS read queue is filling: 18 of 100 elements\n",
      "m2AirPressure DDS read queue is filling: 18 of 100 elements\n"
     ]
    },
    {
     "data": {
      "text/plain": [
       "[[None, None, None, None, None, None, None], [None, None, None, None]]"
      ]
     },
     "execution_count": 6,
     "metadata": {},
     "output_type": "execute_result"
    },
    {
     "name": "stdout",
     "output_type": "stream",
     "text": [
      "timeAndDate DDS read queue is full (100 elements); data may be lost\n",
      "m1AirPressure DDS read queue is filling: 18 of 100 elements\n",
      "mountPositions DDS read queue is filling: 23 of 100 elements\n",
      "loadCell DDS read queue is filling: 18 of 100 elements\n"
     ]
    }
   ],
   "source": [
    "atcs = ATCS(domain)\n",
    "latiss = LATISS(domain)\n",
    "await asyncio.gather(atcs.start_task, latiss.start_task)"
   ]
  },
  {
   "cell_type": "code",
   "execution_count": null,
   "id": "ec4819b4",
   "metadata": {},
   "outputs": [],
   "source": []
  },
  {
   "cell_type": "code",
   "execution_count": 7,
   "id": "d45c9404",
   "metadata": {},
   "outputs": [
    {
     "name": "stdout",
     "output_type": "stream",
     "text": [
      "Enabling all components\n",
      "Gathering settings.\n",
      "Couldn't get settingVersions event. Using empty settings.\n",
      "Complete settings for atmcs.\n",
      "Complete settings for atptg.\n",
      "Complete settings for ataos.\n",
      "Complete settings for atpneumatics.\n",
      "Complete settings for athexapod.\n",
      "Complete settings for atdome.\n",
      "Complete settings for atdometrajectory.\n",
      "Settings versions: {'atmcs': '', 'atptg': '', 'ataos': 'current', 'atpneumatics': '', 'athexapod': 'current', 'atdome': 'current', 'atdometrajectory': ''}\n",
      "[atmcs]::[<State.STANDBY: 5>, <State.DISABLED: 1>, <State.ENABLED: 2>]\n",
      "[atptg]::[<State.STANDBY: 5>, <State.DISABLED: 1>, <State.ENABLED: 2>]\n",
      "[ataos]::[<State.STANDBY: 5>, <State.DISABLED: 1>, <State.ENABLED: 2>]\n",
      "[atpneumatics]::[<State.ENABLED: 2>]\n",
      "[athexapod]::[<State.STANDBY: 5>, <State.DISABLED: 1>, <State.ENABLED: 2>]\n",
      "[atdome]::[<State.STANDBY: 5>, <State.DISABLED: 1>, <State.ENABLED: 2>]\n",
      "[atdometrajectory]::[<State.STANDBY: 5>, <State.DISABLED: 1>, <State.ENABLED: 2>]\n",
      "All components in <State.ENABLED: 2>.\n"
     ]
    }
   ],
   "source": [
    "await atcs.enable()"
   ]
  },
  {
   "cell_type": "code",
   "execution_count": 8,
   "id": "4380da1d",
   "metadata": {},
   "outputs": [],
   "source": [
    "atcs.check.atdome=False\n",
    "atcs.check.atdometrajectory=False"
   ]
  },
  {
   "cell_type": "code",
   "execution_count": 9,
   "id": "a08894b8",
   "metadata": {},
   "outputs": [
    {
     "name": "stdout",
     "output_type": "stream",
     "text": [
      "[<State.ENABLED: 2>, <State.DISABLED: 1>, <State.STANDBY: 5>]\n"
     ]
    }
   ],
   "source": [
    "tmp=await salobj.set_summary_state(atcs.rem.atdome, salobj.State.STANDBY, settingsToApply='', timeout=30)\n",
    "print(tmp)"
   ]
  },
  {
   "cell_type": "code",
   "execution_count": 10,
   "id": "e10277e5",
   "metadata": {},
   "outputs": [
    {
     "name": "stdout",
     "output_type": "stream",
     "text": [
      "[<State.ENABLED: 2>, <State.DISABLED: 1>, <State.STANDBY: 5>]\n"
     ]
    }
   ],
   "source": [
    "tmp=await salobj.set_summary_state(atcs.rem.atdometrajectory, salobj.State.STANDBY, settingsToApply='', timeout=30)\n",
    "print(tmp)"
   ]
  },
  {
   "cell_type": "markdown",
   "id": "737cda18",
   "metadata": {},
   "source": [
    "### Connect to PMDs\n",
    "#### Bring online if required"
   ]
  },
  {
   "cell_type": "code",
   "execution_count": 11,
   "id": "a04aac2b",
   "metadata": {
    "collapsed": true,
    "jupyter": {
     "outputs_hidden": true
    }
   },
   "outputs": [
    {
     "name": "stdout",
     "output_type": "stream",
     "text": [
      "Read historical data in 0.00 sec\n",
      "Read 4 history items for RemoteEvent(PMD, 1, appliedSettingsMatchStart)\n",
      "Read 1 history items for RemoteEvent(PMD, 1, authList)\n",
      "Read 100 history items for RemoteEvent(PMD, 1, heartbeat)\n",
      "Read 4 history items for RemoteEvent(PMD, 1, logLevel)\n",
      "Read 100 history items for RemoteEvent(PMD, 1, logMessage)\n",
      "Read 1 history items for RemoteEvent(PMD, 1, metadata)\n",
      "Read 1 history items for RemoteEvent(PMD, 1, settingVersions)\n",
      "Read 1 history items for RemoteEvent(PMD, 1, settingsApplied)\n",
      "Read 1 history items for RemoteEvent(PMD, 1, simulationMode)\n",
      "Read 1 history items for RemoteEvent(PMD, 1, softwareVersions)\n",
      "Read 15 history items for RemoteEvent(PMD, 1, summaryState)\n"
     ]
    }
   ],
   "source": [
    "pmd_remote = salobj.Remote(name=\"PMD\", domain=domain, index=1)\n",
    "await pmd_remote.start_task"
   ]
  },
  {
   "cell_type": "code",
   "execution_count": 12,
   "id": "179c3232",
   "metadata": {},
   "outputs": [
    {
     "name": "stdout",
     "output_type": "stream",
     "text": [
      "PMDID: 1, private_revCode: f6854b27, private_sndStamp: 1626293254.3074937, private_rcvStamp: 1626293254.308333, private_seqNum: 504448, private_identity: PMD:1, private_origin: 7310, private_host: 0, heartbeat: False, priority: 0\n"
     ]
    }
   ],
   "source": [
    "tmp = await pmd_remote.evt_heartbeat.next(flush=True,timeout=15)\n",
    "print(tmp)"
   ]
  },
  {
   "cell_type": "code",
   "execution_count": 13,
   "id": "96de772a",
   "metadata": {},
   "outputs": [],
   "source": [
    "tmp = await pmd_remote.cmd_setLogLevel.set_start(level=10)"
   ]
  },
  {
   "cell_type": "code",
   "execution_count": 14,
   "id": "fce24427",
   "metadata": {},
   "outputs": [
    {
     "name": "stdout",
     "output_type": "stream",
     "text": [
      "State.ENABLED\n"
     ]
    }
   ],
   "source": [
    "tmp = await pmd_remote.evt_summaryState.aget(timeout=15)\n",
    "print(salobj.State(tmp.summaryState))"
   ]
  },
  {
   "cell_type": "code",
   "execution_count": null,
   "id": "60df0be0",
   "metadata": {},
   "outputs": [],
   "source": [
    "tmp=await salobj.set_summary_state(pmd_remote, salobj.State.ENABLED, settingsToApply='micrometer', timeout=30)\n",
    "print(tmp)"
   ]
  },
  {
   "cell_type": "code",
   "execution_count": 15,
   "id": "209cc6d0",
   "metadata": {},
   "outputs": [
    {
     "name": "stdout",
     "output_type": "stream",
     "text": [
      "PMDID: 1, private_revCode: 819e90fa, private_sndStamp: 1626293271.0435886, private_rcvStamp: 1626293271.044803, private_seqNum: 106882, private_identity: PMD:1, private_origin: 7310, private_host: 0, position: [-1.077, 0.423, -21.771, 11.852, 5.128, nan, nan, nan]\n"
     ]
    }
   ],
   "source": [
    "tmp = await pmd_remote.tel_position.next(flush=True, timeout=25)\n",
    "print(tmp)"
   ]
  },
  {
   "cell_type": "code",
   "execution_count": null,
   "id": "9779f47c",
   "metadata": {},
   "outputs": [],
   "source": []
  },
  {
   "cell_type": "markdown",
   "id": "23eaef68",
   "metadata": {},
   "source": [
    "### Setup the script to write log messages\n",
    "#### note that the index cannot be used anywhere else!"
   ]
  },
  {
   "cell_type": "code",
   "execution_count": 16,
   "id": "c9a1fd70",
   "metadata": {},
   "outputs": [],
   "source": [
    "#start the controller to write script messages and grab the domain\n",
    "c = salobj.Controller(name=\"Script\", index=os.getuid())"
   ]
  },
  {
   "cell_type": "code",
   "execution_count": 17,
   "id": "75ab7018",
   "metadata": {},
   "outputs": [
    {
     "name": "stdout",
     "output_type": "stream",
     "text": [
      "Read historical data in 0.02 sec\n"
     ]
    }
   ],
   "source": [
    "c.log.setLevel(logging.DEBUG)"
   ]
  },
  {
   "cell_type": "code",
   "execution_count": 19,
   "id": "5bbee6f1",
   "metadata": {},
   "outputs": [
    {
     "name": "stdout",
     "output_type": "stream",
     "text": [
      "Patrick Testing INFO level \n"
     ]
    }
   ],
   "source": [
    "c.log.info('Patrick Testing INFO level ') # only "
   ]
  },
  {
   "cell_type": "code",
   "execution_count": null,
   "id": "dfee6970",
   "metadata": {},
   "outputs": [],
   "source": [
    "az=0; el=80\n",
    "c.log.info(f'az,el,pos0,pos1,pos2 = {az}, {el}, {tmp.position[0]}, {tmp.position[1]}, {tmp.position[2]}')"
   ]
  },
  {
   "cell_type": "code",
   "execution_count": null,
   "id": "d62e26c7",
   "metadata": {},
   "outputs": [],
   "source": []
  },
  {
   "cell_type": "code",
   "execution_count": null,
   "id": "36d13d23",
   "metadata": {},
   "outputs": [],
   "source": []
  },
  {
   "cell_type": "code",
   "execution_count": null,
   "id": "c01d4bcf",
   "metadata": {},
   "outputs": [],
   "source": []
  },
  {
   "cell_type": "code",
   "execution_count": null,
   "id": "83455c57",
   "metadata": {},
   "outputs": [],
   "source": [
    "el_samples1 = np.arange(15,83,8)\n",
    "el_samples2 = np.arange(83,15,-8)"
   ]
  },
  {
   "cell_type": "code",
   "execution_count": null,
   "id": "43d34999",
   "metadata": {},
   "outputs": [],
   "source": [
    "print(el_samples1)\n",
    "print(el_samples2)"
   ]
  },
  {
   "cell_type": "code",
   "execution_count": null,
   "id": "693b0bc4",
   "metadata": {},
   "outputs": [],
   "source": [
    "el_samples=np.concatenate((el_samples1, el_samples2))"
   ]
  },
  {
   "cell_type": "code",
   "execution_count": null,
   "id": "c0fd95d7",
   "metadata": {},
   "outputs": [],
   "source": [
    "el_samples"
   ]
  },
  {
   "cell_type": "code",
   "execution_count": null,
   "id": "104023b6",
   "metadata": {},
   "outputs": [],
   "source": [
    "atcs.check.atdome=False\n",
    "atcs.check.atdometrajectory=False"
   ]
  },
  {
   "cell_type": "code",
   "execution_count": null,
   "id": "48b88b29",
   "metadata": {},
   "outputs": [],
   "source": [
    "print(f'az,el,pos0,pos1,pos2 = {az}, {el}, {tmp.position[0]}, {tmp.position[1]}, {tmp.position[2]}, {tmp.position[3]}, {tmp.position[4]}')"
   ]
  },
  {
   "cell_type": "code",
   "execution_count": null,
   "id": "8a2e4c55",
   "metadata": {},
   "outputs": [],
   "source": [
    "az=0\n",
    "c.log.info(f'Starting dip sequence for elevations of {el_samples}')\n",
    "for el in el_samples:\n",
    "    print(f'going to az={az}, el={el}')\n",
    "    await atcs.point_azel(az=az, el=el)\n",
    "    await asyncio.sleep(3)\n",
    "    # grab the positions\n",
    "    tmp = await pmd_remote.tel_position.next(flush=True, timeout=25)\n",
    "    c.log.info(f'az,el,pos0,pos1,pos2 = {az}, {el}, {tmp.position[0]}, {tmp.position[1]}, {tmp.position[2]}, {tmp.position[3]}, {tmp.position[4]}')\n",
    "    print(f'az,el,pos0,pos1,pos2 = {az}, {el}, {tmp.position[0]}, {tmp.position[1]}, {tmp.position[2]}, {tmp.position[3]}, {tmp.position[4]}')\n",
    "\n",
    "c.log.info(f'Finished dip sequence for elevations of {el_samples}')"
   ]
  },
  {
   "cell_type": "code",
   "execution_count": null,
   "id": "ebb649ea",
   "metadata": {},
   "outputs": [],
   "source": []
  },
  {
   "cell_type": "code",
   "execution_count": null,
   "id": "88c858c3",
   "metadata": {},
   "outputs": [],
   "source": [
    "await atcs.point_azel(az=az, el=82)"
   ]
  },
  {
   "cell_type": "code",
   "execution_count": null,
   "id": "cc61e65a",
   "metadata": {},
   "outputs": [],
   "source": [
    "tmp = await pmd_remote.tel_position.next(flush=True, timeout=25)\n",
    "print(tmp)"
   ]
  },
  {
   "cell_type": "code",
   "execution_count": null,
   "id": "39ca87c7",
   "metadata": {},
   "outputs": [],
   "source": [
    "await atcs.rem.ataos.cmd_disableCorrection.set_start(m1=True)"
   ]
  },
  {
   "cell_type": "code",
   "execution_count": null,
   "id": "a9a1711c",
   "metadata": {},
   "outputs": [],
   "source": [
    "tmp = await pmd_remote.tel_position.next(flush=True, timeout=25)\n",
    "print(tmp)"
   ]
  },
  {
   "cell_type": "code",
   "execution_count": null,
   "id": "58a78e13",
   "metadata": {},
   "outputs": [],
   "source": [
    "await atcs.rem.atpneumatics.cmd_m1SetPressure.set_start(pressure=0)"
   ]
  },
  {
   "cell_type": "code",
   "execution_count": null,
   "id": "0963c707",
   "metadata": {},
   "outputs": [],
   "source": [
    "tmp = await pmd_remote.tel_position.next(flush=True, timeout=25)\n",
    "print(tmp)"
   ]
  },
  {
   "cell_type": "code",
   "execution_count": null,
   "id": "b753c277",
   "metadata": {},
   "outputs": [],
   "source": [
    "await atcs.rem.atpneumatics.cmd_m1SetPressure.set_start(pressure=116000)"
   ]
  },
  {
   "cell_type": "code",
   "execution_count": null,
   "id": "72a10857",
   "metadata": {},
   "outputs": [],
   "source": [
    "tmp = await pmd_remote.tel_position.next(flush=True, timeout=25)\n",
    "print(tmp)"
   ]
  },
  {
   "cell_type": "code",
   "execution_count": null,
   "id": "f859dd30",
   "metadata": {},
   "outputs": [],
   "source": [
    "await atcs.rem.atpneumatics.cmd_m1SetPressure.set_start(pressure=130000)"
   ]
  },
  {
   "cell_type": "code",
   "execution_count": null,
   "id": "deebd7c7",
   "metadata": {},
   "outputs": [],
   "source": [
    "tmp = await pmd_remote.tel_position.next(flush=True, timeout=25)\n",
    "print(tmp)"
   ]
  },
  {
   "cell_type": "code",
   "execution_count": null,
   "id": "fb5343dd",
   "metadata": {},
   "outputs": [],
   "source": [
    "await atcs.rem.atpneumatics.cmd_m1SetPressure.set_start(pressure=135000)"
   ]
  },
  {
   "cell_type": "code",
   "execution_count": null,
   "id": "86b8b002",
   "metadata": {},
   "outputs": [],
   "source": [
    "tmp = await pmd_remote.tel_position.next(flush=True, timeout=25)\n",
    "print(tmp)"
   ]
  },
  {
   "cell_type": "code",
   "execution_count": null,
   "id": "1d063c54",
   "metadata": {},
   "outputs": [],
   "source": [
    "await atcs.rem.atpneumatics.cmd_m1SetPressure.set_start(pressure=135000)"
   ]
  },
  {
   "cell_type": "code",
   "execution_count": null,
   "id": "8526ee13",
   "metadata": {},
   "outputs": [],
   "source": [
    "tmp = await pmd_remote.tel_position.next(flush=True, timeout=25)\n",
    "print(tmp)"
   ]
  },
  {
   "cell_type": "code",
   "execution_count": null,
   "id": "78b30009",
   "metadata": {},
   "outputs": [],
   "source": [
    "await atcs.rem.atpneumatics.cmd_m1SetPressure.set_start(pressure=140000)"
   ]
  },
  {
   "cell_type": "code",
   "execution_count": null,
   "id": "b94a10ba",
   "metadata": {},
   "outputs": [],
   "source": [
    "tmp = await pmd_remote.tel_position.next(flush=True, timeout=25)\n",
    "print(tmp)"
   ]
  },
  {
   "cell_type": "code",
   "execution_count": null,
   "id": "b7c111e2",
   "metadata": {},
   "outputs": [],
   "source": []
  },
  {
   "cell_type": "code",
   "execution_count": null,
   "id": "d92d59be",
   "metadata": {},
   "outputs": [],
   "source": [
    "await atcs.rem.atpneumatics.cmd_m1SetPressure.set_start(pressure=0)\n",
    "await atcs.point_azel(az=az, el=50)"
   ]
  },
  {
   "cell_type": "code",
   "execution_count": null,
   "id": "f94df179",
   "metadata": {},
   "outputs": [],
   "source": [
    "await atcs.rem.atpneumatics.cmd_m1SetPressure.set_start(pressure=0)\n",
    "await asyncio.sleep(4)\n",
    "tmp = await pmd_remote.tel_position.next(flush=True, timeout=25)\n",
    "print(tmp)"
   ]
  },
  {
   "cell_type": "code",
   "execution_count": null,
   "id": "8b68823a",
   "metadata": {},
   "outputs": [],
   "source": [
    "# now craig will push on it"
   ]
  },
  {
   "cell_type": "code",
   "execution_count": null,
   "id": "8352a44d",
   "metadata": {},
   "outputs": [],
   "source": [
    "tmp = await pmd_remote.tel_position.next(flush=True, timeout=25)\n",
    "print(tmp)"
   ]
  },
  {
   "cell_type": "code",
   "execution_count": null,
   "id": "64d3f514",
   "metadata": {},
   "outputs": [],
   "source": [
    "await atcs.rem.ataos.cmd_enableCorrection.set_start(m1=True)"
   ]
  },
  {
   "cell_type": "code",
   "execution_count": null,
   "id": "e9b9de39",
   "metadata": {},
   "outputs": [],
   "source": [
    "tmp = await pmd_remote.tel_position.next(flush=True, timeout=25)\n",
    "print(tmp)"
   ]
  },
  {
   "cell_type": "code",
   "execution_count": null,
   "id": "8ce9132f",
   "metadata": {},
   "outputs": [],
   "source": [
    "import datetime\n",
    "datetime."
   ]
  },
  {
   "cell_type": "code",
   "execution_count": null,
   "id": "158323b4",
   "metadata": {},
   "outputs": [],
   "source": [
    "az=0\n",
    "c.log.info(f'Starting dip sequence for elevations of {el_samples}')\n",
    "for el in el_samples:\n",
    "    print(f'going to az={az}, el={el}')\n",
    "    await atcs.point_azel(az=az, el=el)\n",
    "    await asyncio.sleep(3)\n",
    "    # grab the positions\n",
    "    tmp = await pmd_remote.tel_position.next(flush=True, timeout=25)\n",
    "    c.log.info(f'az,el,pos0,pos1,pos2 = {az}, {el}, {tmp.position[0]}, {tmp.position[1]}, {tmp.position[2]}, {tmp.position[3]}, {tmp.position[4]}')\n",
    "    print(f'az,el,pos0,pos1,pos2 = {az}, {el}, {tmp.position[0]}, {tmp.position[1]}, {tmp.position[2]}, {tmp.position[3]}, {tmp.position[4]}')\n",
    "\n",
    "c.log.info(f'Finished dip sequence for elevations of {el_samples}')"
   ]
  },
  {
   "cell_type": "code",
   "execution_count": null,
   "id": "dae192a5",
   "metadata": {},
   "outputs": [],
   "source": [
    "c.log.info('Previous dataset was after craig tweaked the gauge') # only "
   ]
  },
  {
   "cell_type": "code",
   "execution_count": null,
   "id": "a3f7bd50",
   "metadata": {},
   "outputs": [],
   "source": []
  },
  {
   "cell_type": "code",
   "execution_count": null,
   "id": "b8d4d7d9",
   "metadata": {},
   "outputs": [],
   "source": []
  },
  {
   "cell_type": "code",
   "execution_count": null,
   "id": "a115a157",
   "metadata": {},
   "outputs": [],
   "source": []
  },
  {
   "cell_type": "code",
   "execution_count": null,
   "id": "f27e9c56",
   "metadata": {},
   "outputs": [],
   "source": []
  },
  {
   "cell_type": "code",
   "execution_count": null,
   "id": "a3f008f0",
   "metadata": {},
   "outputs": [],
   "source": []
  },
  {
   "cell_type": "code",
   "execution_count": null,
   "id": "8891d7f7",
   "metadata": {},
   "outputs": [],
   "source": [
    "c.log.info('Previous dataset had no active optics system enabled') # only \n"
   ]
  },
  {
   "cell_type": "code",
   "execution_count": null,
   "id": "0e358c72",
   "metadata": {},
   "outputs": [],
   "source": [
    "await atcs.point_azel(az=az, el=80)"
   ]
  },
  {
   "cell_type": "code",
   "execution_count": null,
   "id": "3801496b",
   "metadata": {},
   "outputs": [],
   "source": [
    "await atcs.stop_tracking()"
   ]
  },
  {
   "cell_type": "code",
   "execution_count": null,
   "id": "8a12b2eb",
   "metadata": {},
   "outputs": [],
   "source": [
    "await atcs.rem.ataos.cmd_enable.start()"
   ]
  },
  {
   "cell_type": "code",
   "execution_count": null,
   "id": "f80d46f0",
   "metadata": {},
   "outputs": [],
   "source": [
    "await atcs.rem.atpneumatics.cmd_m1CloseAirValve.start()"
   ]
  },
  {
   "cell_type": "code",
   "execution_count": null,
   "id": "47b59235",
   "metadata": {},
   "outputs": [],
   "source": [
    "await atcs.rem.atpneumatics.cmd_closeMasterAirSupply.start()"
   ]
  },
  {
   "cell_type": "code",
   "execution_count": null,
   "id": "98e3308b",
   "metadata": {},
   "outputs": [],
   "source": [
    "await atcs.rem.atpneumatics.cmd_closeInstrumentAirValve.start()"
   ]
  },
  {
   "cell_type": "code",
   "execution_count": null,
   "id": "85bcdf34",
   "metadata": {},
   "outputs": [],
   "source": [
    "await atcs.rem.ataos.cmd_enableCorrection.set_start(m1=True)"
   ]
  },
  {
   "cell_type": "code",
   "execution_count": null,
   "id": "232079cb",
   "metadata": {},
   "outputs": [],
   "source": []
  },
  {
   "cell_type": "code",
   "execution_count": null,
   "id": "d4abd4b4",
   "metadata": {},
   "outputs": [],
   "source": [
    "az=0\n",
    "c.log.info('Starting run with m1 correction enabled')\n",
    "for el in el_samples:\n",
    "    print(f'going to az={az}, el={el}')\n",
    "    await atcs.point_azel(az=az, el=el)\n",
    "    # grab the positions\n",
    "    tmp = await pmd_remote.tel_position.next(flush=True, timeout=25)\n",
    "    c.log.info(f'az,el,pos0,pos1,pos2 = {az}, {el}, {tmp.position[0]}, {tmp.position[1]}, {tmp.position[2]}')\n",
    "    "
   ]
  },
  {
   "cell_type": "code",
   "execution_count": null,
   "id": "582eaa5f",
   "metadata": {},
   "outputs": [],
   "source": []
  },
  {
   "cell_type": "code",
   "execution_count": null,
   "id": "6385bfba",
   "metadata": {},
   "outputs": [],
   "source": []
  },
  {
   "cell_type": "code",
   "execution_count": null,
   "id": "bb0faca3",
   "metadata": {},
   "outputs": [],
   "source": [
    "await atcs.point_azel(az=0, el=80)"
   ]
  },
  {
   "cell_type": "code",
   "execution_count": null,
   "id": "9fb02ee5",
   "metadata": {},
   "outputs": [],
   "source": [
    "await atcs.stop_tracking()"
   ]
  },
  {
   "cell_type": "code",
   "execution_count": null,
   "id": "b2cb5ff8",
   "metadata": {},
   "outputs": [],
   "source": [
    "atcs.check.atdome=True\n",
    "await atcs.standby()"
   ]
  },
  {
   "cell_type": "code",
   "execution_count": null,
   "id": "28c27c0f",
   "metadata": {},
   "outputs": [],
   "source": [
    "tmp=await salobj.set_summary_state(pmd_remote, salobj.State.OFFLINE, settingsToApply='micrometer', timeout=30)\n",
    "print(tmp)"
   ]
  },
  {
   "cell_type": "code",
   "execution_count": null,
   "id": "0364dad5",
   "metadata": {},
   "outputs": [],
   "source": []
  }
 ],
 "metadata": {
  "kernelspec": {
   "display_name": "LSST",
   "language": "python",
   "name": "lsst"
  },
  "language_info": {
   "codemirror_mode": {
    "name": "ipython",
    "version": 3
   },
   "file_extension": ".py",
   "mimetype": "text/x-python",
   "name": "python",
   "nbconvert_exporter": "python",
   "pygments_lexer": "ipython3",
   "version": "3.8.8"
  }
 },
 "nbformat": 4,
 "nbformat_minor": 5
}
