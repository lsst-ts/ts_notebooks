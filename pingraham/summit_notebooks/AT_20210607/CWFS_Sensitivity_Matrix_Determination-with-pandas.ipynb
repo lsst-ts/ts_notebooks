{
 "cells": [
  {
   "cell_type": "markdown",
   "metadata": {},
   "source": [
    "# This notebook is used to determine the sensitivity matrix from CWFS data looking at both tip/tilt and decentering\n",
    "## This is for data taken on 2021-06-08\n",
    "### It first finds the pairs of CWFS images in the EFD\n",
    "### It then fits the data a reports the zernikes\n",
    "### Then plots the relationships and fits a slope for the matrix"
   ]
  },
  {
   "cell_type": "code",
   "execution_count": null,
   "metadata": {},
   "outputs": [],
   "source": [
    "import asyncio \n",
    "import matplotlib\n",
    "\n",
    "import numpy as np\n",
    "import pandas as pd\n",
    "\n",
    "from matplotlib import pylab as plt\n",
    "from astropy.time import Time, TimeDelta\n",
    "\n",
    "from lsst_efd_client import EfdClient, resample, rendezvous_dataframes\n",
    "\n",
    "%matplotlib inline"
   ]
  },
  {
   "cell_type": "code",
   "execution_count": null,
   "metadata": {},
   "outputs": [],
   "source": [
    "#efd_client = EfdClient('summit_efd')\n",
    "efd_client = EfdClient('ldf_stable_efd') "
   ]
  },
  {
   "cell_type": "markdown",
   "metadata": {},
   "source": [
    "### Find CWFS pairs\n",
    "Query for all the `endReadout` events on the timespan of the night."
   ]
  },
  {
   "cell_type": "code",
   "execution_count": null,
   "metadata": {},
   "outputs": [],
   "source": [
    "# define axis you're interested in"
   ]
  },
  {
   "cell_type": "code",
   "execution_count": null,
   "metadata": {},
   "outputs": [],
   "source": [
    "axis='y'\n",
    "offset_start = Time(\"2021-06-09T04:44:00\", format='isot', scale='tai') # time of where offsets to hexapod were applied\n",
    "\n",
    "if axis == 'u':\n",
    "    # times from when images were taken, \n",
    "    t1_set = Time(\"2021-06-09T05:01:00\", format='isot', scale='tai')\n",
    "    t2_set = Time(\"2021-06-09T05:21:44\", format='isot', scale='tai')\n",
    "if axis == 'v':\n",
    "    t1_set = Time(\"2021-06-09T05:21:44\", format='isot', scale='tai')\n",
    "    t2_set = Time(\"2021-06-09T05:41:44\", format='isot', scale='tai')\n",
    "if axis == 'x':\n",
    "    t1_set = Time(\"2021-06-09T05:41:44\", format='isot', scale='tai')\n",
    "    t2_set = Time(\"2021-06-09T06:04:44\", format='isot', scale='tai')\n",
    "if axis == 'y':\n",
    "    t1_set = Time(\"2021-06-09T06:01:44\", format='isot', scale='tai')\n",
    "    t2_set = Time(\"2021-06-09T06:41:44\", format='isot', scale='tai')"
   ]
  },
  {
   "cell_type": "code",
   "execution_count": null,
   "metadata": {},
   "outputs": [],
   "source": [
    "end_readout = await efd_client.select_time_series(\"lsst.sal.ATCamera.logevent_endReadout\", \n",
    "                                           [\"imageName\", \"requestedExposureTime\", \"additionalKeys\",\n",
    "                                            \"additionalValues\",\"timestampAcquisitionStart\",\"timestampEndOfReadout\"], t1_set, t2_set)"
   ]
  },
  {
   "cell_type": "code",
   "execution_count": null,
   "metadata": {},
   "outputs": [],
   "source": []
  },
  {
   "cell_type": "markdown",
   "metadata": {},
   "source": [
    "Now match each entry. For each `i` item with `intra` in the name, there must be an `i+1` with `extra` otherwise it is not a pair. \n",
    "A pair also has the same groupID\n",
    "The image before the pair is an in-focus image."
   ]
  },
  {
   "cell_type": "code",
   "execution_count": null,
   "metadata": {},
   "outputs": [],
   "source": [
    "intra_images = []\n",
    "extra_images = []\n",
    "in_focus_images = []\n",
    "intra_times = []\n",
    "extra_times = []\n",
    "in_focus_times = []\n",
    "intra_exptimes = []\n",
    "extra_exptimes = []\n",
    "in_focus_exptimes = []\n",
    "\n",
    "df=pd.DataFrame()\n",
    "\n",
    "i = 0\n",
    "npairs = 0\n",
    "nmiss = 0\n",
    "\n",
    "while i < len(end_readout)-2:\n",
    "    intra = end_readout['imageName'][i]\n",
    "    extra = end_readout['imageName'][i+1]\n",
    "    in_focus = end_readout['imageName'][i-1]\n",
    "    \n",
    "    #skip known bad files\n",
    "    if intra == 'AT_O_20200218_000179' and extra == 'AT_O_20200218_000180':\n",
    "        i+=2\n",
    "        continue\n",
    "    # this is horrible, but looks for the CWFS pairs based on groupID\n",
    "    # finds the in-focus image by seeing if an OBJECT was taken right before the pair\n",
    "    # using a colon to separate values causes issues because there are colons in the timestamp!\n",
    "    group_id=(end_readout.additionalValues[i])[0:25]\n",
    "    group_id_next=(end_readout.additionalValues[i+1])[0:25]\n",
    "    group_id_previous=(end_readout.additionalValues[i+2])[0:25] \n",
    "    image_type=(end_readout.additionalValues[i])[26::]\n",
    "    image_type_previous=(end_readout.additionalValues[i-1])[26::]\n",
    "    if ((group_id_next == group_id) and \n",
    "        (group_id_next != group_id_previous) and\n",
    "        (image_type == 'ENGTEST' and image_type_previous == 'OBJECT')):\n",
    "        \n",
    "        print(f\"Got a pair: {intra} x {extra}, with in-focus of {in_focus}\")\n",
    "        df_tmp=pd.DataFrame({'inFocus':end_readout['imageName'][i-1],\n",
    "                             'intra':end_readout['imageName'][i],\n",
    "                             'extra':end_readout['imageName'][i+1],\n",
    "                             'inFocusExpTime':end_readout['requestedExposureTime'][i-1],\n",
    "                             'inFocustimestampEndOfReadout':end_readout['timestampEndOfReadout'][i-1],\n",
    "                             'intraExtratimestampAcquisitionStart':end_readout['timestampAcquisitionStart'][i],\n",
    "                             'intraExtratimestampEndOfReadout':end_readout['timestampEndOfReadout'][i+1]},\n",
    "                             index=[end_readout.index[i-1]])\n",
    "        df=df.append(df_tmp)\n",
    "        i+=2\n",
    "        npairs+=1\n",
    "    else:\n",
    "#         print(f\"No Match: {intra} x {extra}\")\n",
    "        nmiss+=1\n",
    "        i+=1\n",
    "\n",
    "print(f\"Got {npairs} pairs and {nmiss} misses.\")"
   ]
  },
  {
   "cell_type": "code",
   "execution_count": null,
   "metadata": {},
   "outputs": [],
   "source": []
  },
  {
   "cell_type": "code",
   "execution_count": null,
   "metadata": {},
   "outputs": [],
   "source": [
    "df"
   ]
  },
  {
   "cell_type": "code",
   "execution_count": null,
   "metadata": {},
   "outputs": [],
   "source": [
    "# create new dataframe with new values of interest and we'll join them post-facto\n",
    "df_offsets=pd.DataFrame()\n",
    "# Populate the data structure from the pairs found above\n",
    "for i in range(len(df.index)):\n",
    "    \n",
    "    # Determine time stamps for searching for metadata\n",
    "    # include ability to correct for TAI if required, but set to zero for the moment\n",
    "\n",
    "#    t1 = Time(in_focus_times[i], scale='tai') - TimeDelta(in_focus_exptimes[i], format='sec', scale='tai')\n",
    "#    t2 = Time(extra_times[i], scale='tai') - TimeDelta(2., format='sec', scale='tai')\n",
    "    \n",
    "    # want time during CWFS sensing\n",
    "    t1 = Time(df['intraExtratimestampAcquisitionStart'][i], format='unix_tai')\n",
    "    t2 = Time(df['intraExtratimestampEndOfReadout'][i],format='unix_tai')\n",
    "    \n",
    "\n",
    "\n",
    "    azel = await efd_client.select_time_series(\"lsst.sal.ATMCS.mount_AzEl_Encoders\", \n",
    "                                               [\"elevationCalculatedAngle99\", \"azimuthCalculatedAngle99\"], t1, t2)\n",
    "    \n",
    "    rotator = await efd_client.select_time_series(\"lsst.sal.ATMCS.mount_Nasmyth_Encoders\",\n",
    "                                                  [\"nasmyth2CalculatedAngle99\"], t1, t2)\n",
    "\n",
    "    hexapod_vals = await efd_client.select_time_series(\"lsst.sal.ATHexapod.positionStatus\", \n",
    "                                           [\"reportedPosition0\", \"reportedPosition1\", \"reportedPosition2\",\n",
    "                                           \"reportedPosition3\", \"reportedPosition4\", \"reportedPosition5\"], t1 , t2)\n",
    "\n",
    "    m1_pressure = await efd_client.select_time_series(\"lsst.sal.ATPneumatics.m1AirPressure\",\n",
    "                                                  [\"pressure\"], t1, t2)\n",
    "    \n",
    "\n",
    "# For offsets we want to find the offsets between the start of the set and the beginning of the in-focus image, but the end works too\n",
    "    cmd_offset = await efd_client.select_time_series(\"lsst.sal.ATAOS.command_offset\",\n",
    "                                                 [\"u\", \"v\", \"w\", \"x\", \"y\", \"z\"], offset_start , Time(df['inFocustimestampEndOfReadout'][i], format='unix_tai'))\n",
    "    \n",
    "    # to use the dataframe.between_time(), convert astropy Time object, to numpy time object, to pandas time object, and get the datetime.time\n",
    "#     time1=pd.to_datetime(t1_set.to_datetime()).time()\n",
    "#     time2=pd.to_datetime((Time(df['inFocustimestampEndOfReadout'][i],format='unix_tai')).to_datetime()).time()\n",
    "\n",
    "    df_tmp=pd.DataFrame({'rot_pos':np.mean(rotator['nasmyth2CalculatedAngle99']),\n",
    "                     'el':np.mean(azel['elevationCalculatedAngle99']),\n",
    "                     'az':np.mean(azel['azimuthCalculatedAngle99']),\n",
    "                     'x':hexapod_vals['reportedPosition0'].median(),\n",
    "                     'y':hexapod_vals['reportedPosition1'].median(),\n",
    "                     'z':hexapod_vals['reportedPosition2'].median(),\n",
    "                     'u':hexapod_vals['reportedPosition3'].median(),\n",
    "                     'v':hexapod_vals['reportedPosition4'].median(),\n",
    "                     'w':hexapod_vals['reportedPosition5'].median(),\n",
    "                     'm1': np.mean(m1_pressure['pressure']),\n",
    "                     'hexXoffset': cmd_offset['x'].sum(),\n",
    "                     'hexYoffset': cmd_offset['y'].sum(),\n",
    "                     'hexUoffset': cmd_offset['u'].sum(),\n",
    "                     'hexVoffset': cmd_offset['v'].sum(),\n",
    "                     'hexZoffset': cmd_offset['z'].sum(),\n",
    "                        },\n",
    "                     index=[df.index[i]])\n",
    "    df_offsets=df_offsets.append(df_tmp)"
   ]
  },
  {
   "cell_type": "code",
   "execution_count": null,
   "metadata": {},
   "outputs": [],
   "source": [
    "df_offsets"
   ]
  },
  {
   "cell_type": "code",
   "execution_count": null,
   "metadata": {},
   "outputs": [],
   "source": [
    "# Join the two dataframes to create a single one\n",
    "df=df.join(df_offsets, lsuffix='_caller', rsuffix='_other')"
   ]
  },
  {
   "cell_type": "code",
   "execution_count": null,
   "metadata": {},
   "outputs": [],
   "source": [
    "df"
   ]
  },
  {
   "cell_type": "code",
   "execution_count": null,
   "metadata": {},
   "outputs": [],
   "source": [
    "# out = rendezvous_dataframes(end_readout, cmd_offset, direction='backward', tolerance=pd.Timedelta(days=1))"
   ]
  },
  {
   "cell_type": "code",
   "execution_count": null,
   "metadata": {},
   "outputs": [],
   "source": [
    "filename=\"20210608_\"+axis+\"axis-motion_metadata.csv\""
   ]
  },
  {
   "cell_type": "code",
   "execution_count": null,
   "metadata": {},
   "outputs": [],
   "source": [
    "df"
   ]
  },
  {
   "cell_type": "code",
   "execution_count": null,
   "metadata": {},
   "outputs": [],
   "source": [
    "df.to_csv(filename)"
   ]
  },
  {
   "cell_type": "markdown",
   "metadata": {},
   "source": [
    "# Now reduce the data for each pair to get the zernikes from fitting\n",
    "#### You can start here if the top bit has already run "
   ]
  },
  {
   "cell_type": "code",
   "execution_count": null,
   "metadata": {},
   "outputs": [],
   "source": [
    "def atcs_get_bore_sight_angle(elevation_angle, nasmyth_angle):\n",
    "    # modified from atcs.py\n",
    "    # instrument on nasymth2, so\n",
    "    parity_x = -1\n",
    "    bore_sight_angle = elevation_angle + parity_x * nasmyth_angle + 90.0\n",
    "    return bore_sight_angle"
   ]
  },
  {
   "cell_type": "code",
   "execution_count": null,
   "metadata": {},
   "outputs": [],
   "source": [
    "import sys\n",
    "import asyncio\n",
    "import logging\n",
    "import numpy as np\n",
    "from lsst.ts.externalscripts.auxtel.latiss_cwfs_align import LatissCWFSAlign\n",
    "import time\n",
    "import os"
   ]
  },
  {
   "cell_type": "code",
   "execution_count": null,
   "metadata": {},
   "outputs": [],
   "source": [
    "# Read in the file (written using code above)\n",
    "#df2 = pd.read_csv(filename)\n",
    "df2 = pd.read_csv(filename, index_col=0)"
   ]
  },
  {
   "cell_type": "code",
   "execution_count": null,
   "metadata": {},
   "outputs": [],
   "source": [
    "df2"
   ]
  },
  {
   "cell_type": "code",
   "execution_count": null,
   "metadata": {},
   "outputs": [],
   "source": [
    "# Add all the zernike terms from the fitting\n",
    "# this creates columns of NaNs and the loop below populates them\n",
    "df2[['zern_defocus_nm', 'zern_xastig_nm','zern_yastig_nm',\n",
    "    'zern_xcoma_nm', 'zern_ycoma_nm',\n",
    "    'zern_xtrefoil_nm', 'zern_ytrefoil_nm','zern_spherical_nm' ]] = np.nan"
   ]
  },
  {
   "cell_type": "code",
   "execution_count": null,
   "metadata": {},
   "outputs": [],
   "source": [
    "# this just needs to be set, but is not actually used\n",
    "os.environ['LSST_DDS_DOMAIN'] = 'junk'"
   ]
  },
  {
   "cell_type": "code",
   "execution_count": null,
   "metadata": {},
   "outputs": [],
   "source": [
    "# alignment script needs to have remotes set to False! Otherwise it'll try to command the hexapod!\n",
    "script = LatissCWFSAlign(index=1, remotes=False)"
   ]
  },
  {
   "cell_type": "code",
   "execution_count": null,
   "metadata": {},
   "outputs": [],
   "source": [
    "# define the location of the butler repo\n",
    "script.dataPath='/project/shared/auxTel/'"
   ]
  },
  {
   "cell_type": "code",
   "execution_count": null,
   "metadata": {},
   "outputs": [],
   "source": [
    "def get_visitID_from_filename(filename):\n",
    "    # Expects AT_O_20200218_000167.fits\n",
    "    # parse out visitID from filename - this is highly annoying\n",
    "    tmp=filename.split('_')\n",
    "    prefix=tmp[2] # dayobs without the dashes\n",
    "\n",
    "    # Don't remember why I used int here... whitespace? \n",
    "    # surely fixable but bigger fish.\n",
    "    suffix='{:05d}'.format(int(tmp[3].split('.')[0])) # SEQNUM, but need to trim extra 0 in obsid\n",
    "    visitID = int((prefix+suffix))\n",
    "    #print(visitID)\n",
    "    return visitID"
   ]
  },
  {
   "cell_type": "code",
   "execution_count": null,
   "metadata": {},
   "outputs": [],
   "source": [
    "# bin images when performing fits?\n",
    "script.binning=2"
   ]
  },
  {
   "cell_type": "code",
   "execution_count": null,
   "metadata": {},
   "outputs": [],
   "source": []
  },
  {
   "cell_type": "code",
   "execution_count": null,
   "metadata": {},
   "outputs": [],
   "source": [
    "for n in range(len(df2)):\n",
    "    # see tstn-015 and example notebook on running latiss_align_cwfs script\n",
    "    script.intra_visit_id = get_visitID_from_filename(df2['intra'][n])\n",
    "    script.extra_visit_id = get_visitID_from_filename(df2['extra'][n])\n",
    "    script.angle = 90-atcs_get_bore_sight_angle(df2['el'][n], df2['rot_pos'][n])\n",
    "\n",
    "    start_time=time.time()\n",
    "    await script.run_cwfs()\n",
    "    end_time=time.time()\n",
    "    print('WFE fitting for visitIDs {0} and {1} took {2:0.3f} seconds'.format(script.intra_visit_id, script.extra_visit_id,end_time-start_time)) # 56.7s\n",
    "\n",
    "    # Display fitting results?\n",
    "    if (False):\n",
    "        # plot zernikes\n",
    "        x = np.arange(9)+4\n",
    "        plt.plot(x, script.algo.zer4UpNm[:9], 'o-', label=f'{script.dz}')\n",
    "        xlim = plt.xlim()\n",
    "        plt.plot(np.arange(15), np.zeros(15)+50, 'b--')\n",
    "        plt.plot(np.arange(15), np.zeros(15)-50, 'b--')\n",
    "        plt.xlim(xlim)\n",
    "        plt.ylabel(\"Zernike coeff (nm)\")\n",
    "        plt.xlabel(\"Zernike index\")\n",
    "        plt.grid()\n",
    "        plt.legend()\n",
    "        \n",
    "    if (True):\n",
    "        # plot image and mask\n",
    "        fig1 = plt.figure(2, figsize=(12,8))\n",
    "        ax11 = fig1.add_subplot(121)\n",
    "        ax11.set_title(\"defocus 0.8 - intra\")\n",
    "        ax11.imshow(script.I1[0].image0)\n",
    "        ax11.contour(script.algo.pMask) \n",
    "        ax12 = fig1.add_subplot(122)\n",
    "        ax12.set_title(\"defocus 0.8 - extra\")\n",
    "        ax12.imshow(script.I2[0].image0)\n",
    "        ax12.contour(script.algo.pMask) \n",
    "        \n",
    "    # Put results into data structure \n",
    "    df2.loc[n,('zern_defocus_nm')] = script.algo.zer4UpNm[0]\n",
    "    df2.loc[n,('zern_xastig_nm')] = script.algo.zer4UpNm[1]\n",
    "    df2.loc[n,('zern_yastig_nm')] = script.algo.zer4UpNm[2]\n",
    "    df2.loc[n,('zern_xcoma_nm')] = script.algo.zer4UpNm[3]\n",
    "    df2.loc[n,('zern_ycoma_nm')]= script.algo.zer4UpNm[4]\n",
    "    df2.loc[n,('zern_xtrefoil_nm')] = script.algo.zer4UpNm[5]\n",
    "    df2.loc[n,('zern_ytrefoil_nm')] = script.algo.zer4UpNm[6]\n",
    "    df2.loc[n,('zern_spherical_nm')] = script.algo.zer4UpNm[7]"
   ]
  },
  {
   "cell_type": "code",
   "execution_count": null,
   "metadata": {},
   "outputs": [],
   "source": [
    "print('done')"
   ]
  },
  {
   "cell_type": "code",
   "execution_count": null,
   "metadata": {},
   "outputs": [],
   "source": [
    "df2"
   ]
  },
  {
   "cell_type": "code",
   "execution_count": null,
   "metadata": {},
   "outputs": [],
   "source": [
    "#write to CSV file\n",
    "filename=\"20210607_\"+axis+\"axis_data_with_WFE_in_zerns.csv\"\n",
    "df2.to_csv(filename)"
   ]
  },
  {
   "cell_type": "markdown",
   "metadata": {},
   "source": [
    "# Fit the data\n",
    "### start here if just fitting existing data"
   ]
  },
  {
   "cell_type": "code",
   "execution_count": null,
   "metadata": {},
   "outputs": [],
   "source": [
    "from scipy.optimize import curve_fit\n",
    "%matplotlib inline\n",
    "import pandas as pd\n",
    "import numpy as np\n",
    "import matplotlib.pyplot as plt"
   ]
  },
  {
   "cell_type": "code",
   "execution_count": null,
   "metadata": {},
   "outputs": [],
   "source": [
    "def parabola(x,b, x0, a):\n",
    "    return b + a*(x-x0)**2 \n",
    "def line(x,b, m):\n",
    "    return b + m*x \n",
    "def invparabola(y,b,x0,a):\n",
    "    return x0+np.sqrt((y-b)/a)\n",
    "def invline(y,b,m):\n",
    "    return (y-b)/m"
   ]
  },
  {
   "cell_type": "markdown",
   "metadata": {},
   "source": [
    "### Set the axis you want to plot"
   ]
  },
  {
   "cell_type": "code",
   "execution_count": null,
   "metadata": {},
   "outputs": [],
   "source": [
    "axis='y'\n",
    "hexoffsetkey='hex'+axis.upper()+'offset'"
   ]
  },
  {
   "cell_type": "code",
   "execution_count": null,
   "metadata": {},
   "outputs": [],
   "source": [
    "filename=\"20210607_\"+axis+\"axis_data_with_WFE_in_zerns.csv\"\n",
    "df3 = pd.read_csv(filename)"
   ]
  },
  {
   "cell_type": "code",
   "execution_count": null,
   "metadata": {},
   "outputs": [],
   "source": [
    "df3"
   ]
  },
  {
   "cell_type": "code",
   "execution_count": null,
   "metadata": {},
   "outputs": [],
   "source": [
    "# declare the indices that correspond to the axis of interest\n",
    "if axis =='u':\n",
    "    inds = np.arange(0,5)\n",
    "if axis =='v':\n",
    "    inds = np.arange(0,5)\n",
    "if axis =='x':\n",
    "    inds = np.arange(0,6)\n",
    "if axis =='y':\n",
    "    inds = np.arange(0,6)"
   ]
  },
  {
   "cell_type": "code",
   "execution_count": null,
   "metadata": {},
   "outputs": [],
   "source": [
    "# using the variable axs for multiple Axes\n",
    "nx=3; ny=3\n",
    "fig, axs = plt.subplots(3, 3)\n",
    "fig.set_size_inches(18, 12, forward=True)\n",
    "fig.suptitle(f'WFE sensitivity from {hexoffsetkey}')\n",
    "count=0\n",
    "motion_key=hexoffsetkey\n",
    "zern_keys = df3.keys()[24:35]\n",
    "for i in range(nx):\n",
    "    for j in range(ny):\n",
    "        if count>len(zern_keys)-1:\n",
    "            axs[i, j].annotate(f'Intentionally Blank',(0.3,0.5), xycoords=xycoords)\n",
    "            continue\n",
    "        zern_key=zern_keys[count]\n",
    "        xdata=df3[motion_key][inds]\n",
    "        ydata=df3[zern_key][inds]\n",
    "\n",
    "        axs[i, j].plot(xdata,ydata,'o')\n",
    "        x=np.arange(np.min(xdata), np.max(xdata), np.abs(np.max(xdata) - np.min(xdata))/100 )\n",
    "        popt,pcov = curve_fit(line, xdata, ydata)\n",
    "        perr = np.sqrt(np.diag(pcov))\n",
    "\n",
    "        axs[i, j].plot(x,line(x, *popt))\n",
    "        tmp=zern_key\n",
    "        axs[i, j].set_ylabel(f\"{zern_key.split('_')[1]} [nm]\")\n",
    "        axs[i, j].set_xlabel(motion_key+' [deg or mm]')\n",
    "        xpos=0.6; ypos=0.8 ; xycoords='axes fraction'\n",
    "        axs[i, j].annotate(f'm = {popt[1]:0.1f}\\u00B1{perr[1]:0.1f}',(xpos,ypos), xycoords=xycoords)\n",
    "        axs[i, j].annotate(f'b = {popt[0]:0.1f}\\u00B1{perr[0]:0.1f}',(xpos,ypos-0.08), xycoords=xycoords)\n",
    "        \n",
    "        count+=1"
   ]
  },
  {
   "cell_type": "code",
   "execution_count": null,
   "metadata": {},
   "outputs": [],
   "source": []
  },
  {
   "cell_type": "code",
   "execution_count": null,
   "metadata": {},
   "outputs": [],
   "source": [
    "from lsst.ts.observing.utilities.auxtel.latiss.getters import get_image"
   ]
  },
  {
   "cell_type": "code",
   "execution_count": null,
   "metadata": {},
   "outputs": [],
   "source": []
  }
 ],
 "metadata": {
  "kernelspec": {
   "display_name": "LSST",
   "language": "python",
   "name": "lsst"
  },
  "language_info": {
   "codemirror_mode": {
    "name": "ipython",
    "version": 3
   },
   "file_extension": ".py",
   "mimetype": "text/x-python",
   "name": "python",
   "nbconvert_exporter": "python",
   "pygments_lexer": "ipython3",
   "version": "3.8.8"
  }
 },
 "nbformat": 4,
 "nbformat_minor": 4
}
