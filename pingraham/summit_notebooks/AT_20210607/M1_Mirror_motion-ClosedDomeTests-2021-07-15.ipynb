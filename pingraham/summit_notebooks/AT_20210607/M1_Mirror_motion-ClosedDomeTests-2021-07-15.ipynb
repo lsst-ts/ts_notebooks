{
 "cells": [
  {
   "cell_type": "code",
   "execution_count": null,
   "id": "0e86bc04",
   "metadata": {},
   "outputs": [],
   "source": [
    "# # This notebooks looks at primary mirror motion during images as a function of elevation"
   ]
  },
  {
   "cell_type": "code",
   "execution_count": null,
   "id": "a21a2ae7",
   "metadata": {},
   "outputs": [],
   "source": [
    "import asyncio \n",
    "import matplotlib\n",
    "\n",
    "import numpy as np\n",
    "import pandas as pd\n",
    "\n",
    "from matplotlib import pylab as plt\n",
    "from astropy.time import Time, TimeDelta\n",
    "from lsst_efd_client import EfdClient, rendezvous_dataframes"
   ]
  },
  {
   "cell_type": "code",
   "execution_count": null,
   "id": "0491d45d",
   "metadata": {},
   "outputs": [],
   "source": [
    "%matplotlib inline"
   ]
  },
  {
   "cell_type": "code",
   "execution_count": null,
   "id": "c7793583",
   "metadata": {},
   "outputs": [],
   "source": [
    "#efd_client = EfdClient('summit_efd')\n",
    "efd_client = EfdClient('ldf_stable_efd') "
   ]
  },
  {
   "cell_type": "markdown",
   "id": "527dc485",
   "metadata": {},
   "source": [
    "Query for all the `endReadout` events on the timespan of the night, elevation, and pmd data"
   ]
  },
  {
   "cell_type": "code",
   "execution_count": null,
   "id": "b99eaf0c",
   "metadata": {},
   "outputs": [],
   "source": [
    "# base = await efd_client.select_time_series(\"lsst.sal.ATCamera.logevent_endReadout\", \n",
    "#                                            [\"imageName\", \"requestedExposureTime\", \"additionalKeys\", \"additionalValues\"], t1, t2)"
   ]
  },
  {
   "cell_type": "code",
   "execution_count": null,
   "id": "c1cf77b3",
   "metadata": {},
   "outputs": [],
   "source": [
    "# Or can base it on script messages - but these can fail since things don't always go in it"
   ]
  },
  {
   "cell_type": "code",
   "execution_count": null,
   "id": "198f8453",
   "metadata": {},
   "outputs": [],
   "source": [
    "# night of 2021-07-08 - This set had the optics in a weird state, not enough air underneath\n",
    "# t1 = Time(\"2021-07-09T00:28:20\", format='isot', scale='tai')\n",
    "# t2 = Time(\"2021-07-09T00:57:26\", format='isot', scale='tai')#+TimeDelta(8.*24.*60*60., format='sec', scale='tai')"
   ]
  },
  {
   "cell_type": "code",
   "execution_count": null,
   "id": "eb50a320",
   "metadata": {},
   "outputs": [],
   "source": [
    "# day of 2021-07-08 - TEst run\n",
    "t1 = Time(\"2021-07-14T20:24:30\", format='isot', scale='tai')\n",
    "t2 = Time(\"2021-07-14T20:32:07\", format='isot', scale='tai')#+TimeDelta(8.*24.*60*60., format='sec', scale='tai')"
   ]
  },
  {
   "cell_type": "code",
   "execution_count": null,
   "id": "92cb2206",
   "metadata": {},
   "outputs": [],
   "source": [
    "# day of 2021-07-15 - Test run - valves off, ataos corrections disabled\n",
    "t1 = Time(\"2021-07-15T18:28:20\", format='isot', scale='tai')\n",
    "t2 = Time(\"2021-07-15T18:36:23\", format='isot', scale='tai')#+TimeDelta(8.*24.*60*60., format='sec', scale='tai')"
   ]
  },
  {
   "cell_type": "code",
   "execution_count": null,
   "id": "8f563f77",
   "metadata": {},
   "outputs": [],
   "source": [
    "# day of 2021-07-15 - Test run 2 - valves off, ataos corrections disabled\n",
    "t1 = Time(\"2021-07-15T18:41:28\", format='isot', scale='tai')\n",
    "t2 = Time(\"2021-07-15T18:48:17\", format='isot', scale='tai')#+TimeDelta(8.*24.*60*60., format='sec', scale='tai')"
   ]
  },
  {
   "cell_type": "code",
   "execution_count": null,
   "id": "24836715",
   "metadata": {},
   "outputs": [],
   "source": [
    "# day of 2021-07-15 - Test run 3 - valves off, ataos corrections disabled\n",
    "t1 = Time(\"2021-07-15T18:49:00\", format='isot', scale='tai')\n",
    "t2 = Time(\"2021-07-15T18:56:00\", format='isot', scale='tai')#+TimeDelta(8.*24.*60*60., format='sec', scale='tai')"
   ]
  },
  {
   "cell_type": "code",
   "execution_count": null,
   "id": "936335e6",
   "metadata": {},
   "outputs": [],
   "source": [
    "# day of 2021-07-15 - Test run 1 - valves open, ataos corrections disabled\n",
    "t1 = Time(\"2021-07-15T19:02:00\", format='isot', scale='tai')\n",
    "t2 = Time(\"2021-07-15T19:10:00\", format='isot', scale='tai')#+TimeDelta(8.*24.*60*60., format='sec', scale='tai')"
   ]
  },
  {
   "cell_type": "code",
   "execution_count": null,
   "id": "2c4a6b75",
   "metadata": {},
   "outputs": [],
   "source": [
    "# day of 2021-07-15 - Test run 2 - valves open, ataos corrections disabled\n",
    "t1 = Time(\"2021-07-15T19:14:00\", format='isot', scale='tai')\n",
    "t2 = Time(\"2021-07-15T19:22:00\", format='isot', scale='tai')#+TimeDelta(8.*24.*60*60., format='sec', scale='tai')"
   ]
  },
  {
   "cell_type": "code",
   "execution_count": null,
   "id": "b6466d89",
   "metadata": {},
   "outputs": [],
   "source": [
    "# day of 2021-07-15 - Test run 1 - valves open, ataos corrections enabled, scale_factor=1\n",
    "t1 = Time(\"2021-07-15T19:45:10\", format='isot', scale='tai')\n",
    "t2 = Time(\"2021-07-15T19:52:00\", format='isot', scale='tai')#+TimeDelta(8.*24.*60*60., format='sec', scale='tai')"
   ]
  },
  {
   "cell_type": "code",
   "execution_count": null,
   "id": "38e67ea5",
   "metadata": {},
   "outputs": [],
   "source": [
    "# day of 2021-07-15 - Test run 2 - valves open, ataos corrections enabled, scale_factor=1\n",
    "t1 = Time(\"2021-07-15T20:09:57\", format='isot', scale='tai')\n",
    "t2 = Time(\"2021-07-15T20:17:00\", format='isot', scale='tai')#+TimeDelta(8.*24.*60*60., format='sec', scale='tai')"
   ]
  },
  {
   "cell_type": "code",
   "execution_count": null,
   "id": "3dc04174",
   "metadata": {},
   "outputs": [],
   "source": [
    "# day of 2021-07-15 - Test run 2c - valves open, ataos corrections enabled, offset by -10%, adjusted elevation range to stay out of extrapolation area\n",
    "t1 = Time(\"2021-07-15T21:01:10\", format='isot', scale='tai')\n",
    "t2 = Time(\"2021-07-15T21:07:00\", format='isot', scale='tai')#+TimeDelta(8.*24.*60*60., format='sec', scale='tai')"
   ]
  },
  {
   "cell_type": "code",
   "execution_count": null,
   "id": "52765682",
   "metadata": {},
   "outputs": [],
   "source": [
    "# day of 2021-07-15 - Test run 2c - valves open, ataos corrections enabled, offset by -5%, adjusted elevation range to stay out of extrapolation area\n",
    "t1 = Time(\"2021-07-15T21:09:10\", format='isot', scale='tai')\n",
    "t2 = Time(\"2021-07-15T21:18:00\", format='isot', scale='tai')#+TimeDelta(8.*24.*60*60., format='sec', scale='tai')"
   ]
  },
  {
   "cell_type": "code",
   "execution_count": null,
   "id": "712b7889",
   "metadata": {},
   "outputs": [],
   "source": [
    "# # night of 2021-07-08 - Set after having mitutotyo 5 adjusted\n",
    "# #t1 = Time('1625805905.409408', format='unix', scale='tai')-TimeDelta(37, format='sec', scale='tai')\n",
    "# t1 = Time('1625805905.409408', format='unix', scale='tai')-TimeDelta(37, format='sec')\n",
    "# t2 = t1+TimeDelta(600, format='sec')\n",
    "# print(t1.isot)\n",
    "# print(t2.isot)"
   ]
  },
  {
   "cell_type": "code",
   "execution_count": null,
   "id": "0f47ffe6",
   "metadata": {},
   "outputs": [],
   "source": [
    "base0 = await efd_client.select_time_series(\"lsst.sal.Script.logevent_logMessage\", \n",
    "                                           [\"message\",\"level\"], t1, t2)\n",
    "base0"
   ]
  },
  {
   "cell_type": "code",
   "execution_count": null,
   "id": "2704cb92",
   "metadata": {},
   "outputs": [],
   "source": [
    "# ind= (np.where(base0.message.str.find('az,el,pos0,pos1,pos2') != -1))\n",
    "# print(ind)\n",
    "# base0.iloc[ind]"
   ]
  },
  {
   "cell_type": "code",
   "execution_count": null,
   "id": "9c7b5ef2",
   "metadata": {},
   "outputs": [],
   "source": [
    "# base = base0.iloc[ind[0][:]]"
   ]
  },
  {
   "cell_type": "code",
   "execution_count": null,
   "id": "edce90cf",
   "metadata": {},
   "outputs": [],
   "source": [
    "base=base0"
   ]
  },
  {
   "cell_type": "code",
   "execution_count": null,
   "id": "8169eb98",
   "metadata": {},
   "outputs": [],
   "source": [
    "el = await efd_client.select_packed_time_series(\"lsst.sal.ATMCS.mount_AzEl_Encoders\", [\"elevationCalculatedAngle1\", ], t1, t2)\n",
    "# mount reporting incorrect timestamp\n",
    "el.index=el.index+pd.tseries.offsets.DateOffset(seconds=-37)"
   ]
  },
  {
   "cell_type": "code",
   "execution_count": null,
   "id": "61e3c0c7",
   "metadata": {},
   "outputs": [],
   "source": [
    "mount_Nasmyth_Encoders = await efd_client.select_packed_time_series(\"lsst.sal.ATMCS.mount_Nasmyth_Encoders\",\n",
    "                                                                    [\"nasmyth2CalculatedAngle\"], t1 , t2)\n",
    "mount_Nasmyth_Encoders.index=mount_Nasmyth_Encoders.index+pd.tseries.offsets.DateOffset(seconds=-37)"
   ]
  },
  {
   "cell_type": "code",
   "execution_count": null,
   "id": "d31bd536",
   "metadata": {},
   "outputs": [],
   "source": [
    "pmd = await efd_client.select_time_series(\"lsst.sal.PMD.position\", [\"position0\", \"position1\", \"position2\", \"position3\", \"position4\"], t1, t2)"
   ]
  },
  {
   "cell_type": "code",
   "execution_count": null,
   "id": "69c0a14f",
   "metadata": {},
   "outputs": [],
   "source": [
    "hexapod_vals = await efd_client.select_time_series(\"lsst.sal.ATHexapod.positionStatus\", \n",
    "                                       [\"reportedPosition0\", \"reportedPosition1\", \"reportedPosition2\",\n",
    "                                       \"reportedPosition3\", \"reportedPosition4\", \"reportedPosition5\"], t1 , t2)"
   ]
  },
  {
   "cell_type": "code",
   "execution_count": null,
   "id": "5e9d7320",
   "metadata": {},
   "outputs": [],
   "source": [
    "hex_elevation=rendezvous_dataframes(hexapod_vals,el)"
   ]
  },
  {
   "cell_type": "code",
   "execution_count": null,
   "id": "6b6c889d",
   "metadata": {},
   "outputs": [],
   "source": [
    "tmp = rendezvous_dataframes(base,el)"
   ]
  },
  {
   "cell_type": "code",
   "execution_count": null,
   "id": "9b7293c0",
   "metadata": {},
   "outputs": [],
   "source": [
    "# tmp2a = rendezvous_dataframes(tmp, m1_x_pos)\n",
    "# tmp2b = rendezvous_dataframes(tmp2a, m1_y_pos)\n",
    "# tmp2c = rendezvous_dataframes(tmp2b, m1_z_piston)\n",
    "# tmp2d = rendezvous_dataframes(tmp2c, m1_tip_y)\n",
    "# tmp2e = rendezvous_dataframes(tmp2d, m1_tilt_x)\n",
    "tmp2= rendezvous_dataframes(tmp, pmd)\n",
    "tmp2a= rendezvous_dataframes(tmp2, pmd)\n",
    "# tmp3 = rendezvous_dataframes(tmp2,end_readout)\n",
    "tmp4 = rendezvous_dataframes(tmp2,hexapod_vals)\n",
    "raw_data = tmp4"
   ]
  },
  {
   "cell_type": "code",
   "execution_count": null,
   "id": "b01ea52a",
   "metadata": {},
   "outputs": [],
   "source": [
    "# position0_offset = np.mean(raw_data.position0)\n",
    "# position1_offset = np.mean(raw_data.position1)\n",
    "# position2_offset = np.mean(raw_data.position2)\n",
    "# position3_offset = np.mean(raw_data.position3)\n",
    "# position4_offset = np.mean(raw_data.position4)\n",
    "\n",
    "position0_offset = (raw_data.position0[0])\n",
    "position1_offset = (raw_data.position1[0])\n",
    "position2_offset = (raw_data.position2[0])\n",
    "position3_offset = (raw_data.position3[0])\n",
    "position4_offset = (raw_data.position4[0])"
   ]
  },
  {
   "cell_type": "code",
   "execution_count": null,
   "id": "aaa4b9be",
   "metadata": {},
   "outputs": [],
   "source": [
    "raw_data"
   ]
  },
  {
   "cell_type": "code",
   "execution_count": null,
   "id": "04ca0a6d",
   "metadata": {},
   "outputs": [],
   "source": [
    "from scipy import linalg\n",
    "arr_len = len(raw_data.position0)\n",
    "coeff_arr = np.zeros((arr_len,3))\n",
    "theta_arr = np.zeros((arr_len))\n",
    "phi_arr = np.zeros((arr_len))\n",
    "piston_arr = np.zeros((arr_len))\n",
    "for i in np.arange(arr_len):\n",
    "#     data=np.c_[(raw_data.position2[i]-position2_offset), (raw_data.position2[i]-position2_offset), (raw_data.position2[i]-position2_offset)]\n",
    "    # X, Y, Z\n",
    "    set2=np.array((  41.0, 468.0, (raw_data.position2[i]-position2_offset)))\n",
    "    set3=np.array(( 384.0,-269.0, (raw_data.position3[i]-position3_offset)))\n",
    "    set4=np.array((-425.0,-198.0, (raw_data.position4[i]-position4_offset)))\n",
    "#     data=np.c_[set2, set3, set4]    \n",
    "#     print(f'{i} is {data}')\n",
    "    # regular grid covering the domain of the data\n",
    "#     mn = np.min(data, axis=0)\n",
    "#     mx = np.max(data, axis=0)\n",
    "#     X,Y = np.meshgrid(np.linspace(mn[0], mx[0], 20), np.linspace(mn[1], mx[1], 20))\n",
    "#     XX = X.flatten()\n",
    "#     YY = Y.flatten()\n",
    "\n",
    "#     # best-fit linear plane (1st-order)\n",
    "#     A = np.c_[data[:,0], data[:,1], np.ones(data.shape[0])]\n",
    "#     C,_,_,_ = linalg.lstsq(A, data[:,2])    # coefficients\n",
    "\n",
    "#     # evaluate it on grid\n",
    "#     Z = C[0]*X + C[1]*Y + C[2]\n",
    "#     coeff_arr[i,:] = C[0], C[1], C[2]\n",
    "    #print(f'C0, C1, and C2 is {C[0]}, {C[1]}, {C[2]}')\n",
    "    \n",
    "    # Piston at x=0, y=0\n",
    "#     piston_arr[i] = C[2]\n",
    "    #\n",
    "    \n",
    "    # Vector PQ crossed with Vector PR\n",
    "    normal = np.cross(set3-set2,set4-set2) # gives a,b,c\n",
    "    #print(f'normal is {normal}')\n",
    "#     theta_arr[i] = (np.pi/2 + np.arctan2(normal[2],normal[0])) * 206265 # arcsec\n",
    "#     phi_arr[i] = (np.pi/2 + np.arctan2(normal[2],normal[1])) * 206265   # arcsec\n",
    "#     piston_arr[i] = normal[2]\n",
    "    \n",
    "#     => a * (x - x0) + b * (y - y0) + c * (z - z0) = 0.\n",
    "# => a * x - a * x0 + b * y - b * y0 + c * z - c * z0 = 0.\n",
    "# => a * x + b * y + c * z + (- a * x0 - b * y0 - c * z0) = 0. # D is the last terms\n",
    "    D= -normal[0]*set2[0] - normal[1]*set2[1] - normal[2]*set2[2]  # Constant in plane equation\n",
    "    # equation \n",
    "    \n",
    "    phi_from_normal = (np.pi/2+np.arctan2(normal[2], normal[1])) * 206265\n",
    "    theta_from_normal = (np.pi/2+np.arctan2(normal[2], normal[0])) * 206265\n",
    "    # find z at the origin to represent piston\n",
    "    Z_origin = -D/normal[2]\n",
    "    \n",
    "    # Measure rotation about the Y-axis (perpendicular to elevation)\n",
    "    # So this is TIP and should result in motion in azimuth\n",
    "    # get slope by looking at Y=0, X=400\n",
    "    x_pt=400; y_pt=0\n",
    "    #Z_at_x_pt= C[0]*x_pt + C[1]*0.0 + C[2]\n",
    "    Z_at_x_pt= (-D - normal[0]*x_pt - normal[1]*0.0)/normal[2]\n",
    "    theta = np.arctan2(Z_at_x_pt-Z_origin, x_pt) * 206265 # arcsec\n",
    "        \n",
    "    # Measure rotation about the X-axis (aligned to elevation)\n",
    "    # this is TILT and should result in motion in elevation\n",
    "    # get slope by looking at Y=0, X=400    \n",
    "    x_pt=0; y_pt=400\n",
    "    Z_at_y_pt= (-D - normal[0]*x_pt - normal[1]*y_pt)/normal[2]\n",
    "    phi = np.arctan2(Z_at_y_pt-Z_origin, y_pt) * 206265 # arcsec\n",
    "\n",
    "    theta_arr[i] = theta # arcsec\n",
    "    phi_arr[i] = phi    # arcsec\n",
    "    piston_arr[i] = Z_origin\n",
    "    \n",
    "    print(f'theta_from_normal is {theta_from_normal:0.2f}, phi_from_normal is {phi_from_normal:0.2f}')\n",
    "    print(f'theta_arr is {theta_arr[i]:0.2f} [arcsec], phi_arr is {phi_arr[i]:0.2f} [arcsec]')\n",
    "#     if i == 1:\n",
    "#         break"
   ]
  },
  {
   "cell_type": "code",
   "execution_count": null,
   "id": "e9877346",
   "metadata": {},
   "outputs": [],
   "source": []
  },
  {
   "cell_type": "code",
   "execution_count": null,
   "id": "6f085b97",
   "metadata": {},
   "outputs": [],
   "source": [
    "import copy\n",
    "calc_data=copy.copy(raw_data)"
   ]
  },
  {
   "cell_type": "code",
   "execution_count": null,
   "id": "6210f5a7",
   "metadata": {},
   "outputs": [],
   "source": [
    "calc_data['m1_tip']=theta_arr\n",
    "calc_data['m1_tilt']=phi_arr\n",
    "calc_data['m1_piston']=piston_arr\n",
    "\n",
    "calc_data['m1_y_pos']=(raw_data.position0-position0_offset)*np.cos(10*np.pi/180)\n",
    "calc_data['m1_x_pos']=(raw_data.position1-position1_offset)*np.cos(10*np.pi/180)"
   ]
  },
  {
   "cell_type": "code",
   "execution_count": null,
   "id": "b967a857",
   "metadata": {},
   "outputs": [],
   "source": []
  },
  {
   "cell_type": "code",
   "execution_count": null,
   "id": "cba570fb",
   "metadata": {},
   "outputs": [],
   "source": [
    "fig_height=5\n",
    "fig_width=10"
   ]
  },
  {
   "cell_type": "code",
   "execution_count": null,
   "id": "3da005c1",
   "metadata": {},
   "outputs": [],
   "source": [
    "nwide=3; nhigh=3\n",
    "fig, (row1,row2,row3) = plt.subplots(nhigh, nwide, figsize=(nwide+fig_width, nhigh*fig_height))\n",
    "fig.suptitle('Rows are')\n",
    "xvals = (calc_data.m1_x_pos) # um\n",
    "yvals = calc_data.elevationCalculatedAngle1\n",
    "\n",
    "row1[0].plot(xvals, yvals, 'o-')\n",
    "row1[0].set_ylabel('Elevation [deg]')\n",
    "row1[0].set_xlabel('M1 X-position [mm]')\n",
    "\n",
    "xvals=calc_data.reportedPosition1\n",
    "row1[1].plot(xvals,yvals, '.-')\n",
    "row1[1].set_xlabel('Hexapod Y-position [mm]')\n",
    "\n",
    "\n",
    "xvals = (calc_data.m1_tip) # um\n",
    "row1[2].plot(xvals, yvals, 'o-')\n",
    "row1[2].set_ylabel('Elevation [deg]')\n",
    "row1[2].set_xlabel('M1 tip [arcsec]')\n",
    "\n",
    "\n",
    "xvals = (calc_data.m1_y_pos) # mm\n",
    "row2[0].plot(xvals, yvals, 'o-')\n",
    "row2[0].set_ylabel('Elevation [deg]')\n",
    "row2[0].set_xlabel('M1 X-position [mm]')\n",
    "\n",
    "xvals=calc_data.reportedPosition0\n",
    "row2[1].plot(xvals,yvals, '.-')\n",
    "row2[1].set_xlabel('Hexapod X-position [mm]')\n",
    "\n",
    "xvals = (calc_data.m1_tilt) # um\n",
    "row2[2].plot(xvals, yvals, 'o-')\n",
    "row2[2].set_ylabel('Elevation [deg]')\n",
    "row2[2].set_xlabel('M1 tilt [arcsec]')\n",
    "\n",
    "xvals = (calc_data.m1_piston) # mm\n",
    "row3[0].plot(xvals, yvals, 'o-')\n",
    "row3[0].set_ylabel('Elevation [deg]')\n",
    "row3[0].set_xlabel('M1 Z-position [mm]')\n",
    "\n",
    "xvals=calc_data.reportedPosition2\n",
    "row3[1].plot(xvals,yvals, '.-')\n",
    "row3[1].set_xlabel('Hexapod Z-position [mm]')\n"
   ]
  },
  {
   "cell_type": "code",
   "execution_count": null,
   "id": "d9929c92",
   "metadata": {},
   "outputs": [],
   "source": [
    "with pd.option_context('display.max_rows', None, 'display.max_columns', None):  # more options can be specified also\n",
    "    hex_elevation"
   ]
  },
  {
   "cell_type": "code",
   "execution_count": null,
   "id": "7bb02aaa",
   "metadata": {},
   "outputs": [],
   "source": [
    "centroid_arr[i,:]=(data.brightestObjCentroid)"
   ]
  },
  {
   "cell_type": "code",
   "execution_count": null,
   "id": "7c0efa1e",
   "metadata": {},
   "outputs": [],
   "source": [
    "data.brightestObjCentroid"
   ]
  },
  {
   "cell_type": "code",
   "execution_count": null,
   "id": "987b157a",
   "metadata": {},
   "outputs": [],
   "source": [
    "centroid_arr[0,:]"
   ]
  },
  {
   "cell_type": "code",
   "execution_count": null,
   "id": "c6e70b3d",
   "metadata": {},
   "outputs": [],
   "source": [
    "name"
   ]
  },
  {
   "cell_type": "code",
   "execution_count": null,
   "id": "e3adb78b",
   "metadata": {},
   "outputs": [],
   "source": []
  },
  {
   "cell_type": "code",
   "execution_count": null,
   "id": "6586281d",
   "metadata": {},
   "outputs": [],
   "source": []
  }
 ],
 "metadata": {
  "kernelspec": {
   "display_name": "LSST",
   "language": "python",
   "name": "lsst"
  },
  "language_info": {
   "codemirror_mode": {
    "name": "ipython",
    "version": 3
   },
   "file_extension": ".py",
   "mimetype": "text/x-python",
   "name": "python",
   "nbconvert_exporter": "python",
   "pygments_lexer": "ipython3",
   "version": "3.8.8"
  }
 },
 "nbformat": 4,
 "nbformat_minor": 5
}
