{
 "cells": [
  {
   "cell_type": "markdown",
   "metadata": {},
   "source": [
    "## This notebook performs a single science visit for this run for a target HD \n",
    "### This should be run AFTER performing focus on nearby star HD 185975\n",
    "##### The script, slews and acquires the target, applies focus correction, takes sequence of data"
   ]
  },
  {
   "cell_type": "markdown",
   "metadata": {},
   "source": [
    "#### WARNING: This currently requires ts_externalscripts branch **tickets/DM-29061**"
   ]
  },
  {
   "cell_type": "code",
   "execution_count": null,
   "metadata": {},
   "outputs": [],
   "source": [
    "TARGET=\"HD115169\" #\"HD105070\" # "
   ]
  },
  {
   "cell_type": "code",
   "execution_count": null,
   "metadata": {},
   "outputs": [],
   "source": [
    "import os\n",
    "import sys\n",
    "import asyncio\n",
    "import time\n",
    "\n",
    "import numpy as np\n",
    "import logging \n",
    "import yaml\n",
    "import matplotlib.pyplot as plt\n",
    "import astropy\n",
    "\n",
    "from lsst.ts import salobj\n",
    "from lsst.ts.externalscripts.auxtel.latiss_cwfs_align import LatissCWFSAlign\n",
    "from lsst.ts.externalscripts.auxtel.latiss_acquire_and_take_sequence import LatissAcquireAndTakeSequence\n",
    "\n",
    "from lsst.ts.idl.enums.Script import ScriptState\n",
    "from lsst.ts.observatory.control.utils import RotType\n",
    "from astropy import time as astropytime"
   ]
  },
  {
   "cell_type": "code",
   "execution_count": null,
   "metadata": {},
   "outputs": [],
   "source": [
    "print(os.environ[\"OSPL_URI\"])\n",
    "print(os.environ[\"LSST_DDS_PARTITION_PREFIX\"])"
   ]
  },
  {
   "cell_type": "code",
   "execution_count": null,
   "metadata": {},
   "outputs": [],
   "source": [
    "# for autocompleted to work\n",
    "%config IPCompleter.use_jedi = False"
   ]
  },
  {
   "cell_type": "code",
   "execution_count": null,
   "metadata": {},
   "outputs": [],
   "source": [
    "stream_handler = logging.StreamHandler(sys.stdout)\n",
    "# if you want logging\n",
    "logger = logging.getLogger()\n",
    "logger.addHandler(stream_handler)\n",
    "logger.level = logging.DEBUG\n",
    "\n",
    "# turn off logging for matplotlib\n",
    "mpl_logger = logging.getLogger('matplotlib')\n",
    "mpl_logger.setLevel(logging.WARNING)"
   ]
  },
  {
   "cell_type": "code",
   "execution_count": null,
   "metadata": {},
   "outputs": [],
   "source": [
    "# make sure all remotes etc are running\n",
    "script = LatissAcquireAndTakeSequence(index=os.getuid())  # this essentially calls the init method of the script\n",
    "#await asyncio.sleep(10) # This can be removed in the future...\n",
    "await script.start_task"
   ]
  },
  {
   "cell_type": "code",
   "execution_count": null,
   "metadata": {},
   "outputs": [],
   "source": [
    "# set wrap strategy\n",
    "# this is required until the ATPtg is updated to not configure the mount for maximum time on target\n",
    "# script.atcs.rem.atptg.cmd_raDecTarget.set(azWrapStrategy=1)  # 1 does not unwrap, 0 unwraps"
   ]
  },
  {
   "cell_type": "code",
   "execution_count": null,
   "metadata": {},
   "outputs": [],
   "source": [
    "# Do acquisition in the same mode we'll use to focus afterwards"
   ]
  },
  {
   "cell_type": "code",
   "execution_count": null,
   "metadata": {},
   "outputs": [],
   "source": []
  },
  {
   "cell_type": "markdown",
   "metadata": {},
   "source": [
    "### Acquire using the hologram grating\n",
    "##### This is the same position as the ronchi170lpmm grating"
   ]
  },
  {
   "cell_type": "code",
   "execution_count": null,
   "metadata": {},
   "outputs": [],
   "source": [
    "acq2_yaml = yaml.safe_dump({\"object_name\": TARGET,\n",
    "                            \"do_acquire\": True,\n",
    "                            \"do_take_sequence\": False,\n",
    "                            \"acq_filter\" : 'RG610',\n",
    "                            \"acq_grating\" : 'holo4_003', \n",
    "                            \"acq_exposure_time\": 0.5,\n",
    "                            \"max_acq_iter\": 4,\n",
    "                            \"target_pointing_tolerance\": 2,\n",
    "                            \"do_pointing_model\": False,\n",
    "                            \"dataPath\": '/project/shared/auxTel/rerun/quickLook',\n",
    "                            \"target_pointing_verification\": False})\n",
    "print(acq2_yaml)"
   ]
  },
  {
   "cell_type": "code",
   "execution_count": null,
   "metadata": {},
   "outputs": [],
   "source": [
    "# Set script state to UNCONFIGURED\n",
    "# this is required to run the script a 2nd time but otherwise is a no-op\n",
    "script.set_state(ScriptState.UNCONFIGURED)\n",
    "# Configure the script, which puts the ScriptState to CONFIGURED\n",
    "acq2_configuration = script.cmd_configure.DataType()\n",
    "acq2_configuration.config = acq2_yaml\n",
    "await script.do_configure(acq2_configuration)"
   ]
  },
  {
   "cell_type": "code",
   "execution_count": null,
   "metadata": {},
   "outputs": [],
   "source": [
    "# This take the acquisition sequence for the hologram (and Ronchi170lpmm grating)\n",
    "acq2_results = await script.arun()"
   ]
  },
  {
   "cell_type": "code",
   "execution_count": null,
   "metadata": {},
   "outputs": [],
   "source": []
  },
  {
   "cell_type": "code",
   "execution_count": null,
   "metadata": {},
   "outputs": [],
   "source": [
    "# await script.atcs.stop_tracking()"
   ]
  },
  {
   "cell_type": "code",
   "execution_count": null,
   "metadata": {},
   "outputs": [],
   "source": [
    "# await script.atcs.point_azel(az=265, el=75)"
   ]
  },
  {
   "cell_type": "code",
   "execution_count": null,
   "metadata": {},
   "outputs": [],
   "source": [
    "# script above defaults to paralactic angle = 0, but normally we use it at 90\n",
    "# look at offsets from previous acquisition and add them here\n",
    "# 29.9, 177.7\n",
    "await script.atcs.slew_object(TARGET, offset_x=29.9, offset_y=177.7, rot_type=RotType.Parallactic, rot=0)"
   ]
  },
  {
   "cell_type": "code",
   "execution_count": null,
   "metadata": {},
   "outputs": [],
   "source": [
    "await script.latiss.take_object(exptime=2., grating='holo4_003', filter='empty_1')"
   ]
  },
  {
   "cell_type": "code",
   "execution_count": null,
   "metadata": {},
   "outputs": [],
   "source": [
    "target = np.array((1750, 300))\n",
    "curr = np.array((1770,135))"
   ]
  },
  {
   "cell_type": "code",
   "execution_count": null,
   "metadata": {},
   "outputs": [],
   "source": [
    "(target-curr)*0.1"
   ]
  },
  {
   "cell_type": "code",
   "execution_count": null,
   "metadata": {},
   "outputs": [],
   "source": [
    "await script.atcs.offset_xy(x=2,y=-16.5)"
   ]
  },
  {
   "cell_type": "code",
   "execution_count": null,
   "metadata": {},
   "outputs": [],
   "source": [
    "dx=60*2 # +/- offset range in x [arcsec]\n",
    "xstep_size=45 # +/- step size in x [arcsec]\n",
    "xoffset=np.arange(-dx,dx+1,xstep_size)\n",
    "print(xoffset)"
   ]
  },
  {
   "cell_type": "code",
   "execution_count": null,
   "metadata": {},
   "outputs": [],
   "source": [
    "ystep_size=50 # +/- step size in x [arcsec]\n",
    "# go from -15 arcsec to ~\n",
    "yoffset=np.arange(-15,60*5,ystep_size)\n",
    "yoffset=np.arange(-60*4, 25, ystep_size)\n",
    "print(yoffset)"
   ]
  },
  {
   "cell_type": "code",
   "execution_count": null,
   "metadata": {},
   "outputs": [],
   "source": [
    "# Only run this when target is on the [X,Y] pixel of 1750, 300 (middle left, bottom of detector)\n",
    "group_id = astropytime.Time.now().tai.isot\n",
    "for i, yoff in enumerate(yoffset):\n",
    "    for j, xoff in enumerate(xoffset):\n",
    "        print(f'yoff is {yoff}, xoff is {xoff}')\n",
    "        # offset the telescope, using ABSOLUTE offsets\n",
    "        await script.atcs.offset_xy(x=xoff, y=yoff, relative=False)\n",
    "        # take 20s image\n",
    "        await script.latiss.take_object(exptime=20, n=1, group_id=group_id, grating='holo4_003', filter='empty_1')"
   ]
  },
  {
   "cell_type": "code",
   "execution_count": null,
   "metadata": {},
   "outputs": [],
   "source": [
    "dx=14 # +/- offset range in x [arcsec]\n",
    "xstep_size=5 # +/- step size in x [arcsec]\n",
    "xoffset=np.arange(-dx,dx+1,xstep_size)\n",
    "print(xoffset)"
   ]
  },
  {
   "cell_type": "code",
   "execution_count": null,
   "metadata": {},
   "outputs": [],
   "source": [
    "ystep_size=8 # +/- step size in x [arcsec]\n",
    "# go from -15 arcsec to ~\n",
    "# yoffset=np.arange(-15,65,ystep_size) # backwards\n",
    "yoffset=np.arange(-35,10,ystep_size)\n",
    "print(yoffset)"
   ]
  },
  {
   "cell_type": "code",
   "execution_count": null,
   "metadata": {},
   "outputs": [],
   "source": [
    "# Only run this when target is on the [X,Y] pixel of 1750, 300 (middle left, bottom of detector)\n",
    "group_id = astropytime.Time.now().tai.isot\n",
    "for i, yoff in enumerate(yoffset):\n",
    "    for j, xoff in enumerate(xoffset):\n",
    "        print(f'yoff is {yoff}, xoff is {xoff}')\n",
    "        # offset the telescope, using ABSOLUTE offsets\n",
    "        await script.atcs.offset_xy(x=xoff, y=yoff, relative=False)\n",
    "        # take 20s image\n",
    "        await script.latiss.take_object(exptime=20, n=1, group_id=group_id)"
   ]
  },
  {
   "cell_type": "code",
   "execution_count": null,
   "metadata": {},
   "outputs": [],
   "source": [
    "yoff"
   ]
  },
  {
   "cell_type": "code",
   "execution_count": null,
   "metadata": {},
   "outputs": [],
   "source": [
    "xoff"
   ]
  },
  {
   "cell_type": "code",
   "execution_count": null,
   "metadata": {},
   "outputs": [],
   "source": [
    "ystep_size=8 # +/- step size in x [arcsec]\n",
    "# go from -15 arcsec to ~\n",
    "# yoffset=np.arange(-15,65,ystep_size) # backwards\n",
    "yoffset=np.arange(10,32,ystep_size)\n",
    "print(yoffset)"
   ]
  },
  {
   "cell_type": "code",
   "execution_count": null,
   "metadata": {},
   "outputs": [],
   "source": [
    "# Only run this when target is on the [X,Y] pixel of 1750, 300 (middle left, bottom of detector)\n",
    "group_id = astropytime.Time.now().tai.isot\n",
    "for i, yoff in enumerate(yoffset):\n",
    "    for j, xoff in enumerate(xoffset):\n",
    "        print(f'yoff is {yoff}, xoff is {xoff}')\n",
    "        # offset the telescope, using ABSOLUTE offsets\n",
    "        await script.atcs.offset_xy(x=xoff, y=yoff, relative=False)\n",
    "        # take 20s image\n",
    "        await script.latiss.take_object(exptime=20, n=1, group_id=group_id)"
   ]
  },
  {
   "cell_type": "markdown",
   "metadata": {},
   "source": [
    "### Now do test 2"
   ]
  },
  {
   "cell_type": "code",
   "execution_count": null,
   "metadata": {},
   "outputs": [],
   "source": [
    "# First Acquire\n",
    "TARGET=\"HD160617\" "
   ]
  },
  {
   "cell_type": "code",
   "execution_count": null,
   "metadata": {},
   "outputs": [],
   "source": [
    "acq2_yaml = yaml.safe_dump({\"object_name\": TARGET,\n",
    "                            \"do_acquire\": True,\n",
    "                            \"do_take_sequence\": False,\n",
    "                            \"acq_filter\" : 'empty_1',\n",
    "                            \"acq_grating\" : 'holo4_003', \n",
    "                            \"acq_exposure_time\": 1.0,\n",
    "                            \"max_acq_iter\": 4,\n",
    "                            \"target_pointing_tolerance\": 2,\n",
    "                            \"do_pointing_model\": False,\n",
    "                            \"dataPath\": '/project/shared/auxTel/rerun/quickLook',\n",
    "                            \"target_pointing_verification\": False})\n",
    "print(acq2_yaml)"
   ]
  },
  {
   "cell_type": "code",
   "execution_count": null,
   "metadata": {},
   "outputs": [],
   "source": [
    "# Set script state to UNCONFIGURED\n",
    "# this is required to run the script a 2nd time but otherwise is a no-op\n",
    "script.set_state(ScriptState.UNCONFIGURED)\n",
    "# Configure the script, which puts the ScriptState to CONFIGURED\n",
    "acq2_configuration = script.cmd_configure.DataType()\n",
    "acq2_configuration.config = acq2_yaml\n",
    "await script.do_configure(acq2_configuration)"
   ]
  },
  {
   "cell_type": "code",
   "execution_count": null,
   "metadata": {},
   "outputs": [],
   "source": [
    "# This take the acquisition sequence for the hologram (and Ronchi170lpmm grating)\n",
    "acq2_results = await script.arun()"
   ]
  },
  {
   "cell_type": "code",
   "execution_count": null,
   "metadata": {},
   "outputs": [],
   "source": []
  },
  {
   "cell_type": "code",
   "execution_count": null,
   "metadata": {},
   "outputs": [],
   "source": [
    "seq2_yaml = yaml.safe_dump({\"object_name\": TARGET,\n",
    "                                \"do_acquire\": False,\n",
    "                                \"do_take_sequence\": True,\n",
    "                                \"exposure_time_sequence\" : [20, 20, 20,\n",
    "                                                            20, 20, 20,\n",
    "                                                            20, 20, 20], \n",
    "                                \"filter_sequence\": ['RG610','RG610', 'RG610',\n",
    "                                                    'BG40','BG40', 'BG40',\n",
    "                                                    'empty_1','empty_1', 'empty_1'], \n",
    "                                # RG610 and Ronchi\n",
    "                                \"grating_sequence\": ['holo4_003', 'holo4_003', 'holo4_003',\n",
    "                                                     'holo4_003', 'holo4_003', 'holo4_003',\n",
    "                                                     'holo4_003', 'holo4_003', 'holo4_003'],\n",
    "                                \"do_pointing_model\": False,\n",
    "                                \"dataPath\": '/project/shared/auxTel/rerun/quickLook',\n",
    "                                \"target_pointing_verification\": False})\n",
    "print(seq2_yaml)"
   ]
  },
  {
   "cell_type": "code",
   "execution_count": null,
   "metadata": {},
   "outputs": [],
   "source": [
    "# Set script state to UNCONFIGURED\n",
    "# this is required to run the script a 2nd time but otherwise is a no-op\n",
    "script.set_state(ScriptState.UNCONFIGURED)\n",
    "# Configure the script, which puts the ScriptState to CONFIGURED\n",
    "seq2_configuration = script.cmd_configure.DataType()\n",
    "seq2_configuration.config = seq2_yaml\n",
    "await script.do_configure(seq2_configuration)"
   ]
  },
  {
   "cell_type": "code",
   "execution_count": null,
   "metadata": {},
   "outputs": [],
   "source": [
    "# This take the sequence of images with the Ronchi\n",
    "seq2_results = await script.arun()"
   ]
  },
  {
   "cell_type": "code",
   "execution_count": null,
   "metadata": {},
   "outputs": [],
   "source": []
  },
  {
   "cell_type": "markdown",
   "metadata": {},
   "source": [
    "# Test3: Now to PNE"
   ]
  },
  {
   "cell_type": "code",
   "execution_count": null,
   "metadata": {},
   "outputs": [],
   "source": [
    "# First Acquire\n",
    "target_ra=\"17:21:04\"\n",
    "target_dec=\"-29:02:59\""
   ]
  },
  {
   "cell_type": "code",
   "execution_count": null,
   "metadata": {},
   "outputs": [],
   "source": [
    "await script.atcs.slew_icrs(ra=target_ra, dec=target_dec, offset_x=29.9, offset_y=177.7, rot_type=RotType.Parallactic, rot=90)"
   ]
  },
  {
   "cell_type": "code",
   "execution_count": null,
   "metadata": {},
   "outputs": [],
   "source": [
    "group_id = astropytime.Time.now().tai.isot\n",
    "await script.latiss.take_object(exptime=60, n=1, group_id=group_id, grating='empty_1', filter='empty_1')"
   ]
  },
  {
   "cell_type": "code",
   "execution_count": null,
   "metadata": {},
   "outputs": [],
   "source": [
    "seq2_yaml = yaml.safe_dump({\"object_ra\": target_ra, \"object_dec\": target_dec,\n",
    "                                \"do_acquire\": False,\n",
    "                                \"do_take_sequence\": True,\n",
    "                                \"exposure_time_sequence\" : [60, 60, 60,\n",
    "                                                            60, 60, 60,\n",
    "                                                            60, 60, 60], \n",
    "                                \"filter_sequence\": ['empty_1','empty_1', 'empty_1',\n",
    "                                                    'empty_1','empty_1', 'empty_1',\n",
    "                                                    'empty_1','empty_1', 'empty_1'], \n",
    "                                # RG610 and Ronchi\n",
    "                                \"grating_sequence\": ['holo4_003', 'holo4_003', 'holo4_003',\n",
    "                                                     'holo4_003', 'holo4_003', 'holo4_003',\n",
    "                                                     'holo4_003', 'holo4_003', 'holo4_003'],\n",
    "                                \"do_pointing_model\": False,\n",
    "                                \"dataPath\": '/project/shared/auxTel/rerun/quickLook',\n",
    "                                \"target_pointing_verification\": False})\n",
    "print(seq2_yaml)"
   ]
  },
  {
   "cell_type": "code",
   "execution_count": null,
   "metadata": {},
   "outputs": [],
   "source": [
    "# Set script state to UNCONFIGURED\n",
    "# this is required to run the script a 2nd time but otherwise is a no-op\n",
    "script.set_state(ScriptState.UNCONFIGURED)\n",
    "# Configure the script, which puts the ScriptState to CONFIGURED\n",
    "seq2_configuration = script.cmd_configure.DataType()\n",
    "seq2_configuration.config = seq2_yaml\n",
    "await script.do_configure(seq2_configuration)"
   ]
  },
  {
   "cell_type": "code",
   "execution_count": null,
   "metadata": {},
   "outputs": [],
   "source": [
    "# This take the sequence of images with the Ronchi\n",
    "seq2_results = await script.arun()"
   ]
  },
  {
   "cell_type": "code",
   "execution_count": null,
   "metadata": {},
   "outputs": [],
   "source": []
  }
 ],
 "metadata": {
  "kernelspec": {
   "display_name": "LSST",
   "language": "python",
   "name": "lsst"
  },
  "language_info": {
   "codemirror_mode": {
    "name": "ipython",
    "version": 3
   },
   "file_extension": ".py",
   "mimetype": "text/x-python",
   "name": "python",
   "nbconvert_exporter": "python",
   "pygments_lexer": "ipython3",
   "version": "3.8.8"
  }
 },
 "nbformat": 4,
 "nbformat_minor": 4
}
