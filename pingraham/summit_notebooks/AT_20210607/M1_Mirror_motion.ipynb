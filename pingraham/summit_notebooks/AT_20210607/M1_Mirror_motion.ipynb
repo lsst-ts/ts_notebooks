{
 "cells": [
  {
   "cell_type": "code",
   "execution_count": null,
   "id": "1c9a9566",
   "metadata": {},
   "outputs": [],
   "source": [
    "# # This notebooks looks at primary mirror motion during images as a function of elevation"
   ]
  },
  {
   "cell_type": "code",
   "execution_count": null,
   "id": "102006b8",
   "metadata": {},
   "outputs": [],
   "source": [
    "import asyncio \n",
    "import matplotlib\n",
    "\n",
    "import numpy as np\n",
    "import pandas as pd\n",
    "\n",
    "from matplotlib import pylab as plt\n",
    "from astropy.time import Time, TimeDelta\n",
    "from lsst_efd_client import EfdClient, rendezvous_dataframes"
   ]
  },
  {
   "cell_type": "code",
   "execution_count": null,
   "id": "764056de",
   "metadata": {},
   "outputs": [],
   "source": [
    "%matplotlib inline"
   ]
  },
  {
   "cell_type": "code",
   "execution_count": null,
   "id": "40fdc985",
   "metadata": {},
   "outputs": [],
   "source": [
    "#efd_client = EfdClient('summit_efd')\n",
    "efd_client = EfdClient('ldf_stable_efd') "
   ]
  },
  {
   "cell_type": "markdown",
   "id": "e7c40c06",
   "metadata": {},
   "source": [
    "Query for all the `endReadout` events on the timespan of the night, elevation, and pmd data"
   ]
  },
  {
   "cell_type": "code",
   "execution_count": null,
   "id": "07c06721",
   "metadata": {},
   "outputs": [],
   "source": [
    "# base = await efd_client.select_time_series(\"lsst.sal.ATCamera.logevent_endReadout\", \n",
    "#                                            [\"imageName\", \"requestedExposureTime\", \"additionalKeys\", \"additionalValues\"], t1, t2)"
   ]
  },
  {
   "cell_type": "code",
   "execution_count": null,
   "id": "26fa4c2b",
   "metadata": {},
   "outputs": [],
   "source": [
    "# Or can base it on script messages - but these can fail since things don't always go in it"
   ]
  },
  {
   "cell_type": "code",
   "execution_count": null,
   "id": "8b58de7c",
   "metadata": {},
   "outputs": [],
   "source": [
    "# night of 2021-07-07\n",
    "t1 = Time(\"2021-07-07T01:00:00\", format='isot', scale='tai')\n",
    "t2 = Time(\"2021-07-07T08:57:26\", format='isot', scale='tai')#+TimeDelta(8.*24.*60*60., format='sec', scale='tai')"
   ]
  },
  {
   "cell_type": "code",
   "execution_count": null,
   "id": "634ec6a2",
   "metadata": {},
   "outputs": [],
   "source": [
    "# night of 2021-07-08 - first dip\n",
    "t1 = Time(\"2021-07-07T21:00:00\", format='isot', scale='tai')\n",
    "t2 = Time(\"2021-07-08T01:57:26\", format='isot', scale='tai')#+TimeDelta(8.*24.*60*60., format='sec', scale='tai')"
   ]
  },
  {
   "cell_type": "code",
   "execution_count": null,
   "id": "d9d8bac7",
   "metadata": {},
   "outputs": [],
   "source": [
    "# night of 2021-07-08 - two dips\n",
    "t1 = Time(\"2021-07-07T21:00:00\", format='isot', scale='tai')\n",
    "t2 = Time(\"2021-07-08T07:00:26\", format='isot', scale='tai')#+TimeDelta(8.*24.*60*60., format='sec', scale='tai')"
   ]
  },
  {
   "cell_type": "code",
   "execution_count": null,
   "id": "650c86b8",
   "metadata": {},
   "outputs": [],
   "source": [
    "# base0 = await efd_client.select_time_series(\"lsst.sal.Script.logevent_logMessage\", \n",
    "#                                            [\"message\",\"level\"], t1, t2)\n",
    "# base0"
   ]
  },
  {
   "cell_type": "code",
   "execution_count": null,
   "id": "4b7add6e",
   "metadata": {},
   "outputs": [],
   "source": [
    "# ind= (np.where(base0.message.str.find('Hexapod LUT Datapoint') != -1))\n",
    "# print(ind)"
   ]
  },
  {
   "cell_type": "code",
   "execution_count": null,
   "id": "e45e5409",
   "metadata": {},
   "outputs": [],
   "source": [
    "# base0.iloc[29]"
   ]
  },
  {
   "cell_type": "code",
   "execution_count": null,
   "id": "83188a1f",
   "metadata": {},
   "outputs": [],
   "source": [
    "# base = base0.iloc[ind[0][:]]"
   ]
  },
  {
   "cell_type": "code",
   "execution_count": null,
   "id": "ab73257a",
   "metadata": {},
   "outputs": [],
   "source": [
    "# this event gets published when the CWFS script is successful\n",
    "base = await efd_client.select_time_series(\"lsst.sal.ATPtg.logevent_pointData\", \n",
    "                                           [\"expectedElevation\", \"measuredElevation\"], t1, t2)\n"
   ]
  },
  {
   "cell_type": "code",
   "execution_count": null,
   "id": "0c809fde",
   "metadata": {},
   "outputs": [],
   "source": [
    "el = await efd_client.select_packed_time_series(\"lsst.sal.ATMCS.mount_AzEl_Encoders\", [\"elevationCalculatedAngle1\", ], t1, t2)\n",
    "el.index=el.index+pd.tseries.offsets.DateOffset(seconds=-37)"
   ]
  },
  {
   "cell_type": "code",
   "execution_count": null,
   "id": "51a3a0eb",
   "metadata": {},
   "outputs": [],
   "source": [
    "mount_Nasmyth_Encoders = await efd_client.select_packed_time_series(\"lsst.sal.ATMCS.mount_Nasmyth_Encoders\",\n",
    "                                                                    [\"nasmyth2CalculatedAngle\"], t1 , t2)\n",
    "mount_Nasmyth_Encoders.index=mount_Nasmyth_Encoders.index+pd.tseries.offsets.DateOffset(seconds=-37)"
   ]
  },
  {
   "cell_type": "code",
   "execution_count": null,
   "id": "568f1f8d",
   "metadata": {},
   "outputs": [],
   "source": [
    "pmd = await efd_client.select_time_series(\"lsst.sal.PMD.position\", [\"position0\", \"position1\", \"position2\", \"position3\", \"position4\"], t1, t2)"
   ]
  },
  {
   "cell_type": "code",
   "execution_count": null,
   "id": "bff0d750",
   "metadata": {},
   "outputs": [],
   "source": [
    "end_readout = await efd_client.select_time_series(\"lsst.sal.ATCamera.logevent_endReadout\", \n",
    "                                           [\"imageName\", \"requestedExposureTime\", \"additionalKeys\", \"additionalValues\"], t1, t2)"
   ]
  },
  {
   "cell_type": "code",
   "execution_count": null,
   "id": "217b395f",
   "metadata": {},
   "outputs": [],
   "source": [
    "hexapod_vals = await efd_client.select_time_series(\"lsst.sal.ATHexapod.positionStatus\", \n",
    "                                       [\"reportedPosition0\", \"reportedPosition1\", \"reportedPosition2\",\n",
    "                                       \"reportedPosition3\", \"reportedPosition4\", \"reportedPosition5\"], t1 , t2)"
   ]
  },
  {
   "cell_type": "code",
   "execution_count": null,
   "id": "606a5bf2",
   "metadata": {},
   "outputs": [],
   "source": []
  },
  {
   "cell_type": "code",
   "execution_count": null,
   "id": "df4a1acb",
   "metadata": {},
   "outputs": [],
   "source": [
    "tmp = rendezvous_dataframes(base,el)"
   ]
  },
  {
   "cell_type": "code",
   "execution_count": null,
   "id": "c1f139f4",
   "metadata": {},
   "outputs": [],
   "source": [
    "# tmp2a = rendezvous_dataframes(tmp, m1_x_pos)\n",
    "# tmp2b = rendezvous_dataframes(tmp2a, m1_y_pos)\n",
    "# tmp2c = rendezvous_dataframes(tmp2b, m1_z_piston)\n",
    "# tmp2d = rendezvous_dataframes(tmp2c, m1_tip_y)\n",
    "# tmp2e = rendezvous_dataframes(tmp2d, m1_tilt_x)\n",
    "tmp2= rendezvous_dataframes(tmp, pmd)\n",
    "tmp2a= rendezvous_dataframes(tmp2, pmd)\n",
    "tmp3 = rendezvous_dataframes(tmp2,end_readout)\n",
    "tmp4 = rendezvous_dataframes(tmp3,hexapod_vals)\n",
    "raw_data = tmp4"
   ]
  },
  {
   "cell_type": "code",
   "execution_count": null,
   "id": "d000a1de",
   "metadata": {},
   "outputs": [],
   "source": [
    "print(raw_data.imageName.to_string())"
   ]
  },
  {
   "cell_type": "code",
   "execution_count": null,
   "id": "c43d4c7d",
   "metadata": {},
   "outputs": [],
   "source": [
    "# Remove bad dataframes\n",
    "bad_imageNames = ['AT_O_20210707_000211', 'AT_O_20210707_000314','asdfasf']\n",
    "for imageName in bad_imageNames:\n",
    "    ind = np.where(raw_data.imageName.str.find(imageName) != -1)\n",
    "    print(ind)\n",
    "    raw_data=raw_data.drop(raw_data.index[ind[0]])"
   ]
  },
  {
   "cell_type": "code",
   "execution_count": null,
   "id": "873484d3",
   "metadata": {},
   "outputs": [],
   "source": []
  },
  {
   "cell_type": "code",
   "execution_count": null,
   "id": "6b42eaba",
   "metadata": {},
   "outputs": [],
   "source": [
    "# base0.iloc[29]"
   ]
  },
  {
   "cell_type": "code",
   "execution_count": null,
   "id": "d3da4c7d",
   "metadata": {},
   "outputs": [],
   "source": [
    "# base = base0.iloc[ind[0][:]]"
   ]
  },
  {
   "cell_type": "code",
   "execution_count": null,
   "id": "911fbd28",
   "metadata": {},
   "outputs": [],
   "source": [
    "# position0_offset = np.mean(raw_data.position0)\n",
    "# position1_offset = np.mean(raw_data.position1)\n",
    "# position2_offset = np.mean(raw_data.position2)\n",
    "# position3_offset = np.mean(raw_data.position3)\n",
    "# position4_offset = np.mean(raw_data.position4)\n",
    "\n",
    "position0_offset = (raw_data.position0[0])\n",
    "position1_offset = (raw_data.position1[0])\n",
    "position2_offset = (raw_data.position2[0])\n",
    "position3_offset = (raw_data.position3[0])\n",
    "position4_offset = (raw_data.position4[0])"
   ]
  },
  {
   "cell_type": "code",
   "execution_count": null,
   "id": "375f0412",
   "metadata": {},
   "outputs": [],
   "source": []
  },
  {
   "cell_type": "code",
   "execution_count": null,
   "id": "f5a4d150",
   "metadata": {},
   "outputs": [],
   "source": [
    "from scipy import linalg\n",
    "arr_len = len(raw_data.position0)\n",
    "coeff_arr = np.zeros((arr_len,3))\n",
    "theta_arr = np.zeros((arr_len))\n",
    "phi_arr = np.zeros((arr_len))\n",
    "piston_arr = np.zeros((arr_len))\n",
    "for i in np.arange(arr_len):\n",
    "#     data=np.c_[(raw_data.position2[i]-position2_offset), (raw_data.position2[i]-position2_offset), (raw_data.position2[i]-position2_offset)]\n",
    "    # X, Y, Z\n",
    "    set2=np.array((  41.0, 468.0, (raw_data.position2[i]-position2_offset)))\n",
    "    set3=np.array(( 384.0,-269.0, (raw_data.position3[i]-position3_offset)))\n",
    "    set4=np.array((-425.0,-198.0, (raw_data.position4[i]-position4_offset)))\n",
    "#     data=np.c_[set2, set3, set4]    \n",
    "#     print(f'{i} is {data}')\n",
    "    # regular grid covering the domain of the data\n",
    "#     mn = np.min(data, axis=0)\n",
    "#     mx = np.max(data, axis=0)\n",
    "#     X,Y = np.meshgrid(np.linspace(mn[0], mx[0], 20), np.linspace(mn[1], mx[1], 20))\n",
    "#     XX = X.flatten()\n",
    "#     YY = Y.flatten()\n",
    "\n",
    "#     # best-fit linear plane (1st-order)\n",
    "#     A = np.c_[data[:,0], data[:,1], np.ones(data.shape[0])]\n",
    "#     C,_,_,_ = linalg.lstsq(A, data[:,2])    # coefficients\n",
    "\n",
    "#     # evaluate it on grid\n",
    "#     Z = C[0]*X + C[1]*Y + C[2]\n",
    "#     coeff_arr[i,:] = C[0], C[1], C[2]\n",
    "    #print(f'C0, C1, and C2 is {C[0]}, {C[1]}, {C[2]}')\n",
    "    \n",
    "    # Piston at x=0, y=0\n",
    "#     piston_arr[i] = C[2]\n",
    "    #\n",
    "    \n",
    "    # Vector PQ crossed with Vector PR\n",
    "    normal = np.cross(set3-set2,set4-set2) # gives a,b,c\n",
    "    #print(f'normal is {normal}')\n",
    "#     theta_arr[i] = (np.pi/2 + np.arctan2(normal[2],normal[0])) * 206265 # arcsec\n",
    "#     phi_arr[i] = (np.pi/2 + np.arctan2(normal[2],normal[1])) * 206265   # arcsec\n",
    "#     piston_arr[i] = normal[2]\n",
    "    \n",
    "#     => a * (x - x0) + b * (y - y0) + c * (z - z0) = 0.\n",
    "# => a * x - a * x0 + b * y - b * y0 + c * z - c * z0 = 0.\n",
    "# => a * x + b * y + c * z + (- a * x0 - b * y0 - c * z0) = 0. # D is the last terms\n",
    "    D= -normal[0]*set2[0] - normal[1]*set2[1] - normal[2]*set2[2]  # Constant in plane equation\n",
    "    # equation \n",
    "    \n",
    "    phi_from_normal = (np.pi/2+np.arctan2(normal[2], normal[1])) * 206265\n",
    "    theta_from_normal = (np.pi/2+np.arctan2(normal[2], normal[0])) * 206265\n",
    "    # find z at the origin to represent piston\n",
    "    Z_origin = -D/normal[2]\n",
    "    \n",
    "    # Measure rotation about the Y-axis (perpendicular to elevation)\n",
    "    # So this is TIP and should result in motion in azimuth\n",
    "    # get slope by looking at Y=0, X=400\n",
    "    x_pt=400; y_pt=0\n",
    "    #Z_at_x_pt= C[0]*x_pt + C[1]*0.0 + C[2]\n",
    "    Z_at_x_pt= (-D - normal[0]*x_pt - normal[1]*0.0)/normal[2]\n",
    "    theta = np.arctan2(Z_at_x_pt-Z_origin, x_pt) * 206265 # arcsec\n",
    "        \n",
    "    # Measure rotation about the X-axis (aligned to elevation)\n",
    "    # this is TILT and should result in motion in elevation\n",
    "    # get slope by looking at Y=0, X=400    \n",
    "    x_pt=0; y_pt=400\n",
    "    Z_at_y_pt= (-D - normal[0]*x_pt - normal[1]*y_pt)/normal[2]\n",
    "    phi = np.arctan2(Z_at_y_pt-Z_origin, y_pt) * 206265 # arcsec\n",
    "\n",
    "    theta_arr[i] = theta # arcsec\n",
    "    phi_arr[i] = phi    # arcsec\n",
    "    piston_arr[i] = Z_origin\n",
    "    \n",
    "    print(f'theta_from_normal is {theta_from_normal:0.2f}, phi_from_normal is {phi_from_normal:0.2f}')\n",
    "    print(f'theta_arr is {theta_arr[i]:0.2f} [arcsec], phi_arr is {phi_arr[i]:0.2f} [arcsec]')\n",
    "#     if i == 1:\n",
    "#         break"
   ]
  },
  {
   "cell_type": "code",
   "execution_count": null,
   "id": "ac5dada1",
   "metadata": {},
   "outputs": [],
   "source": []
  },
  {
   "cell_type": "code",
   "execution_count": null,
   "id": "5331c1d7",
   "metadata": {},
   "outputs": [],
   "source": [
    "import copy\n",
    "calc_data=copy.copy(raw_data)"
   ]
  },
  {
   "cell_type": "code",
   "execution_count": null,
   "id": "dada6e4f",
   "metadata": {},
   "outputs": [],
   "source": [
    "calc_data['m1_tip']=theta_arr\n",
    "calc_data['m1_tilt']=phi_arr\n",
    "calc_data['m1_piston']=piston_arr\n",
    "\n",
    "calc_data['m1_y_pos']=(raw_data.position0-position0_offset)*np.cos(10*np.pi/180)\n",
    "calc_data['m1_x_pos']=(raw_data.position1-position1_offset)*np.cos(10*np.pi/180)"
   ]
  },
  {
   "cell_type": "code",
   "execution_count": null,
   "id": "87fa67df",
   "metadata": {},
   "outputs": [],
   "source": []
  },
  {
   "cell_type": "code",
   "execution_count": null,
   "id": "cbccc49c",
   "metadata": {},
   "outputs": [],
   "source": [
    "# now calculate centroids"
   ]
  },
  {
   "cell_type": "code",
   "execution_count": null,
   "id": "2ac459cc",
   "metadata": {},
   "outputs": [],
   "source": [
    "# from lsst.pipe.tasks.quickFrameMeasurement import QuickFrameMeasurementTask\n",
    "# from lsst.ts.observing.utilities.auxtel.latiss.utils import parse_obs_id,calculate_xy_offsets\n",
    "# from lsst.ts.observing.utilities.auxtel.latiss.getters import get_image\n",
    "# from astropy import units as u\n",
    "# from lsst.geom import PointD\n",
    "# qm_config = QuickFrameMeasurementTask.ConfigClass()\n",
    "# qm = QuickFrameMeasurementTask(config=qm_config)"
   ]
  },
  {
   "cell_type": "code",
   "execution_count": null,
   "id": "42fa119c",
   "metadata": {},
   "outputs": [],
   "source": [
    "# brightest_source_centroid = []\n",
    "\n",
    "# for image_name in calc_data.imageName:\n",
    "#     if image_name is None:\n",
    "#         continue\n",
    "#     _, _, day_obs, seq_num = image_name.split(\"_\")\n",
    "#     day_obs = f\"{day_obs[0:4]}-{day_obs[4:6]}-{day_obs[6:8]}\"\n",
    "#     exp = await get_image(\n",
    "#             dict(dayObs=day_obs, seqNum=int(seq_num)),\n",
    "#             datapath=\"/project/shared/auxTel/\",\n",
    "#             timeout=10,\n",
    "#             runBestEffortIsr=True,\n",
    "#         )\n",
    "#     result = qm.run(exp)\n",
    "#     brightest_source_centroid.append(result)"
   ]
  },
  {
   "cell_type": "code",
   "execution_count": null,
   "id": "d3fa86c6",
   "metadata": {},
   "outputs": [],
   "source": []
  },
  {
   "cell_type": "code",
   "execution_count": null,
   "id": "5c08f145",
   "metadata": {},
   "outputs": [],
   "source": []
  },
  {
   "cell_type": "code",
   "execution_count": null,
   "id": "1efe9421",
   "metadata": {},
   "outputs": [],
   "source": [
    "# Calculate alt/az motions in the image"
   ]
  },
  {
   "cell_type": "code",
   "execution_count": null,
   "id": "453b91a8",
   "metadata": {},
   "outputs": [],
   "source": [
    "# def rotation_matrix(angle):\n",
    "#     \"\"\"Rotation matrix.\n",
    "#     \"\"\"\n",
    "#     return np.array(\n",
    "#         [\n",
    "#             [np.cos(np.radians(angle)), -np.sin(np.radians(angle)), 0.0],\n",
    "#             [np.sin(np.radians(angle)), np.cos(np.radians(angle)), 0.0],\n",
    "#             [0.0, 0.0, 1.0],\n",
    "#         ])"
   ]
  },
  {
   "cell_type": "code",
   "execution_count": null,
   "id": "32ab8f8c",
   "metadata": {},
   "outputs": [],
   "source": [
    "# angle_arr = np.array(calc_data.elevationCalculatedAngle1) - np.array(calc_data.nasmyth2CalculatedAngle) + 90.0 # degrees\n",
    "\n",
    "# #azel_correction = np.zeros((2, len(calc_data.xcentroid)))\n",
    "# azel_correction = np.zeros((2, len(brightest_source_centroid)))\n",
    "\n",
    "# reference = PointD(brightest_source_centroid[0].brightestObjCentroid)\n",
    "\n",
    "# for i, source_xy in enumerate(brightest_source_centroid):\n",
    "#     dx_arcsec, dy_arcsec = calculate_xy_offsets(\n",
    "#         PointD(\n",
    "#             source_xy.brightestObjCentroid[0],\n",
    "#             source_xy.brightestObjCentroid[1]\n",
    "#         ), \n",
    "#         reference)\n",
    "\n",
    "#     # We are using rotator 2 so we must apply a negative sign on the x-axis offset.\n",
    "#     # The equation bellow return offset in elevation/azimuth.\n",
    "#     elaz_offset = np.matmul((-dx_arcsec, dy_arcsec, 0.), rotation_matrix(angle_arr[i]))*u.arcsec\n",
    "#     azel_correction[:,i] = np.array((elaz_offset[0].value, elaz_offset[1].value))\n",
    "#     print(elaz_offset)"
   ]
  },
  {
   "cell_type": "code",
   "execution_count": null,
   "id": "198b2deb",
   "metadata": {},
   "outputs": [],
   "source": [
    "# calc_data['azShift']=azel_correction[0,:]\n",
    "# calc_data['elShift']=azel_correction[1,:]"
   ]
  },
  {
   "cell_type": "code",
   "execution_count": null,
   "id": "402158ce",
   "metadata": {},
   "outputs": [],
   "source": []
  },
  {
   "cell_type": "code",
   "execution_count": null,
   "id": "07de284d",
   "metadata": {},
   "outputs": [],
   "source": [
    "fig_height=5\n",
    "fig_width=10"
   ]
  },
  {
   "cell_type": "code",
   "execution_count": null,
   "id": "b1a3971d",
   "metadata": {},
   "outputs": [],
   "source": [
    "nwide=4; nhigh=1\n",
    "#fig, (ax1, ax2, ax3, ax4) = plt.subplots(nwide, nhigh, figsize=(nwide+fig_width, nhigh*fig_height))\n",
    "nwide=2; nhigh=1\n",
    "fig, (ax1, ax2) = plt.subplots(nhigh, nwide, figsize=(nwide+fig_width, nhigh*fig_height))\n",
    "\n",
    "fig.suptitle('Axis parallel to gravity')\n",
    "xvals = (calc_data.m1_y_pos-np.mean(calc_data.m1_y_pos)) # mm\n",
    "yvals = calc_data.elevationCalculatedAngle1\n",
    "\n",
    "ax1.plot(xvals, yvals, 'x-')\n",
    "ax1.set_ylabel('Elevation [deg]')\n",
    "ax1.set_xlabel('M1 Y-position [um]')\n",
    "\n",
    "xvals=calc_data.reportedPosition0\n",
    "ax2.plot(xvals,yvals, '.-')\n",
    "ax2.set_xlabel('Hexapod X-position [mm]')\n",
    "\n",
    "if nwide == 4:\n",
    "    xvals=calc_data.azShift\n",
    "    ax3.plot(xvals,yvals, '.-')\n",
    "    ax3.set_xlabel('Image Motion in Azimuth [arcsec]')\n",
    "\n",
    "    xvals=calc_data.elShift\n",
    "    ax4.plot(xvals,yvals, '.-')\n",
    "    ax4.set_xlabel('Image Motion in Elevation [arcsec]')\n",
    "\n",
    "plt.show()"
   ]
  },
  {
   "cell_type": "code",
   "execution_count": null,
   "id": "056655a6",
   "metadata": {},
   "outputs": [],
   "source": [
    "nwide=4; nhigh=1\n",
    "#fig, (ax1, ax2, ax3, ax4) = plt.subplots(nwide, nhigh, figsize=(nwide+fig_width, nhigh*fig_height))\n",
    "nwide=2; nhigh=1\n",
    "fig, (ax1, ax2) = plt.subplots(nhigh, nwide, figsize=(nwide+fig_width, nhigh*fig_height))\n",
    "\n",
    "fig.suptitle('Axis perpendicular to gravity')\n",
    "xvals = (calc_data.m1_x_pos-np.mean(calc_data.m1_x_pos)) # um\n",
    "yvals = calc_data.elevationCalculatedAngle1\n",
    "\n",
    "ax1.plot(xvals, yvals, 'o-')\n",
    "ax1.set_ylabel('Elevation [deg]')\n",
    "ax1.set_xlabel('M1 X-position [mm]')\n",
    "\n",
    "xvals=calc_data.reportedPosition1\n",
    "ax2.plot(xvals,yvals, '.-')\n",
    "ax2.set_xlabel('Hexapod Y-position [mm]')\n",
    "\n",
    "if nwide ==4:\n",
    "    xvals=calc_data.azShift\n",
    "    ax3.plot(xvals,yvals, '.-')\n",
    "    ax3.set_xlabel('Image Motion in Azimuth [arcsec]')\n",
    "\n",
    "    xvals=calc_data.elShift\n",
    "    ax4.plot(xvals,yvals, '.-')\n",
    "    ax4.set_xlabel('Image Motion in Elevation [arcsec]')\n",
    "\n",
    "plt.show()"
   ]
  },
  {
   "cell_type": "code",
   "execution_count": null,
   "id": "f52568db",
   "metadata": {},
   "outputs": [],
   "source": [
    "nwide=2; nhigh=1\n",
    "fig, (ax1, ax2) = plt.subplots(nhigh, nwide, figsize=(nwide+fig_width, nhigh*fig_height))\n",
    "fig.suptitle('Motion along Optical Axis')\n",
    "xvals = (calc_data.m1_piston) # mm\n",
    "yvals = calc_data.elevationCalculatedAngle1\n",
    "\n",
    "ax1.plot(xvals, yvals, 'o-')\n",
    "ax1.set_ylabel('Elevation [deg]')\n",
    "ax1.set_xlabel('M1 Z-position [mm]')\n",
    "\n",
    "xvals=calc_data.reportedPosition2\n",
    "ax2.plot(xvals,yvals, '.-')\n",
    "ax2.set_xlabel('Hexapod Z-position [mm]')\n",
    "\n",
    "plt.show()"
   ]
  },
  {
   "cell_type": "code",
   "execution_count": null,
   "id": "e03ea9bb",
   "metadata": {},
   "outputs": [],
   "source": [
    "nwide=1; nhigh=1\n",
    "fig, (ax1) = plt.subplots(nhigh, nwide, figsize=(nwide+fig_width, nhigh*fig_height))\n",
    "fig.suptitle('Tip of M1 Mirror Axis')\n",
    "xvals = (calc_data.m1_tip) # um\n",
    "yvals = calc_data.elevationCalculatedAngle1\n",
    "\n",
    "ax1.plot(xvals, yvals, 'o-')\n",
    "ax1.set_ylabel('Elevation [deg]')\n",
    "ax1.set_xlabel('M1 tip [arcsec]')\n",
    "\n",
    "# xvals=calc_data.azShift\n",
    "# ax2.plot(xvals,yvals, '.-')\n",
    "# ax2.set_xlabel('Image Motion in Azimuth [arcsec]')\n",
    "\n",
    "# xvals=calc_data.elShift\n",
    "# ax4.plot(xvals,yvals, '.-')\n",
    "# ax4.set_xlabel('Image Motion in Elevation [arcsec]')\n",
    "\n",
    "plt.show()"
   ]
  },
  {
   "cell_type": "code",
   "execution_count": null,
   "id": "1bf4e2a3",
   "metadata": {},
   "outputs": [],
   "source": [
    "nwide=1; nhigh=1\n",
    "fig, (ax1) = plt.subplots(nhigh, nwide, figsize=(nwide+fig_width, nhigh*fig_height))\n",
    "fig.suptitle('Tilt of M1 Mirror Axis')\n",
    "xvals = (calc_data.m1_tilt) # um\n",
    "yvals = calc_data.elevationCalculatedAngle1\n",
    "\n",
    "ax1.plot(xvals, yvals, 'o-')\n",
    "ax1.set_ylabel('Elevation [deg]')\n",
    "ax1.set_xlabel('M1 tilt [arcsec]')\n",
    "\n",
    "# xvals=calc_data.elShift\n",
    "# ax2.plot(xvals,yvals, '.-')\n",
    "# ax2.set_xlabel('Image Motion in Elevation [arcsec]')\n",
    "\n",
    "plt.show()"
   ]
  },
  {
   "cell_type": "code",
   "execution_count": null,
   "id": "d0ce0ddb",
   "metadata": {},
   "outputs": [],
   "source": [
    "nwide=3; nhigh=3\n",
    "fig, (row1,row2,row3) = plt.subplots(nhigh, nwide, figsize=(nwide+fig_width, nhigh*fig_height))\n",
    "fig.suptitle('Rows are')\n",
    "xvals = (calc_data.m1_x_pos) # um\n",
    "yvals = calc_data.elevationCalculatedAngle1\n",
    "\n",
    "row1[0].plot(xvals, yvals, 'o-')\n",
    "row1[0].set_ylabel('Elevation [deg]')\n",
    "row1[0].set_xlabel('M1 X-position [mm]')\n",
    "\n",
    "xvals=calc_data.reportedPosition1\n",
    "row1[1].plot(xvals,yvals, '.-')\n",
    "row1[1].set_xlabel('Hexapod Y-position [mm]')\n",
    "\n",
    "\n",
    "xvals = (calc_data.m1_tip) # um\n",
    "row1[2].plot(xvals, yvals, 'o-')\n",
    "row1[2].set_ylabel('Elevation [deg]')\n",
    "row1[2].set_xlabel('M1 tip [arcsec]')\n",
    "\n",
    "\n",
    "xvals = (calc_data.m1_y_pos) # mm\n",
    "row2[0].plot(xvals, yvals, 'o-')\n",
    "row2[0].set_ylabel('Elevation [deg]')\n",
    "row2[0].set_xlabel('M1 X-position [mm]')\n",
    "\n",
    "xvals=calc_data.reportedPosition0\n",
    "row2[1].plot(xvals,yvals, '.-')\n",
    "row2[1].set_xlabel('Hexapod X-position [mm]')\n",
    "\n",
    "xvals = (calc_data.m1_tilt) # um\n",
    "row2[2].plot(xvals, yvals, 'o-')\n",
    "row2[2].set_ylabel('Elevation [deg]')\n",
    "row2[2].set_xlabel('M1 tilt [arcsec]')\n",
    "\n",
    "xvals = (calc_data.m1_piston) # mm\n",
    "row3[0].plot(xvals, yvals, 'o-')\n",
    "row3[0].set_ylabel('Elevation [deg]')\n",
    "row3[0].set_xlabel('M1 Z-position [mm]')\n",
    "\n",
    "xvals=calc_data.reportedPosition2\n",
    "row3[1].plot(xvals,yvals, '.-')\n",
    "row3[1].set_xlabel('Hexapod Z-position [mm]')\n"
   ]
  },
  {
   "cell_type": "code",
   "execution_count": null,
   "id": "b2d13bb9",
   "metadata": {},
   "outputs": [],
   "source": []
  },
  {
   "cell_type": "code",
   "execution_count": null,
   "id": "205d8f51",
   "metadata": {},
   "outputs": [],
   "source": []
  },
  {
   "cell_type": "code",
   "execution_count": null,
   "id": "8d0c0782",
   "metadata": {},
   "outputs": [],
   "source": []
  }
 ],
 "metadata": {
  "kernelspec": {
   "display_name": "LSST",
   "language": "python",
   "name": "lsst"
  },
  "language_info": {
   "codemirror_mode": {
    "name": "ipython",
    "version": 3
   },
   "file_extension": ".py",
   "mimetype": "text/x-python",
   "name": "python",
   "nbconvert_exporter": "python",
   "pygments_lexer": "ipython3",
   "version": "3.8.8"
  }
 },
 "nbformat": 4,
 "nbformat_minor": 5
}
