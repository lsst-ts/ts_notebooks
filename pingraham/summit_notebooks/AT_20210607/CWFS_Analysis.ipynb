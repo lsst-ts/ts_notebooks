{
 "cells": [
  {
   "cell_type": "code",
   "execution_count": null,
   "id": "631cc604",
   "metadata": {},
   "outputs": [],
   "source": [
    "import os\n",
    "import sys\n",
    "import asyncio\n",
    "import time\n",
    "\n",
    "import numpy as np\n",
    "import logging \n",
    "import yaml\n",
    "import matplotlib.pyplot as plt\n",
    "import astropy\n",
    "\n",
    "from lsst.ts import salobj\n",
    "from lsst.ts.externalscripts.auxtel.latiss_cwfs_align import LatissCWFSAlign\n",
    "from lsst.ts.externalscripts.auxtel.latiss_acquire_and_take_sequence import LatissAcquireAndTakeSequence\n",
    "\n",
    "from lsst.ts.idl.enums.Script import ScriptState"
   ]
  },
  {
   "cell_type": "code",
   "execution_count": null,
   "id": "03c120a2",
   "metadata": {},
   "outputs": [],
   "source": [
    "print(os.environ[\"OSPL_URI\"])\n",
    "print(os.environ[\"LSST_DDS_PARTITION_PREFIX\"])"
   ]
  },
  {
   "cell_type": "code",
   "execution_count": null,
   "id": "f0abd44a",
   "metadata": {},
   "outputs": [],
   "source": [
    "# for autocompleted to work\n",
    "%config IPCompleter.use_jedi = False"
   ]
  },
  {
   "cell_type": "code",
   "execution_count": null,
   "id": "77a4dc55",
   "metadata": {},
   "outputs": [],
   "source": [
    "stream_handler = logging.StreamHandler(sys.stdout)\n",
    "# if you want logging\n",
    "logger = logging.getLogger()\n",
    "logger.addHandler(stream_handler)\n",
    "logger.level = logging.DEBUG\n",
    "\n",
    "# turn off logging for matplotlib\n",
    "mpl_logger = logging.getLogger('matplotlib')\n",
    "mpl_logger.setLevel(logging.WARNING)"
   ]
  },
  {
   "cell_type": "code",
   "execution_count": null,
   "id": "8c2d4109",
   "metadata": {},
   "outputs": [],
   "source": [
    "script_cwfs = LatissCWFSAlign(index=1, remotes=False)  # this essentially calls the init method\n",
    "await script_cwfs.start_task"
   ]
  },
  {
   "cell_type": "code",
   "execution_count": null,
   "id": "dc48b688",
   "metadata": {},
   "outputs": [],
   "source": []
  },
  {
   "cell_type": "markdown",
   "id": "db835f28",
   "metadata": {},
   "source": [
    "#### BELOW IS ONLY FOR TESTING PURPOSES"
   ]
  },
  {
   "cell_type": "code",
   "execution_count": null,
   "id": "e42fc649",
   "metadata": {},
   "outputs": [],
   "source": [
    "# If desired then different filenames can be manually input here\n",
    "# script_cwfs.intra_visit_id=2021060800400\n",
    "# script_cwfs.extra_visit_id=2021060800401 \n",
    "# script_cwfs.angle=-100.13095589419214\n",
    "script_cwfs.intra_visit_id=2021072700008\n",
    "script_cwfs.extra_visit_id=2021072700009 \n",
    "script_cwfs.angle=-28.65"
   ]
  },
  {
   "cell_type": "code",
   "execution_count": null,
   "id": "cbb95f0f",
   "metadata": {},
   "outputs": [],
   "source": [
    "# reruns reduction part only. ALL 3 fields above must be set! \n",
    "rerun_results = await script_cwfs.run_cwfs()"
   ]
  },
  {
   "cell_type": "code",
   "execution_count": null,
   "id": "5478987b",
   "metadata": {},
   "outputs": [],
   "source": [
    "results=rerun_results"
   ]
  },
  {
   "cell_type": "code",
   "execution_count": null,
   "id": "8571ddd5",
   "metadata": {},
   "outputs": [],
   "source": [
    "%matplotlib inline"
   ]
  },
  {
   "cell_type": "code",
   "execution_count": null,
   "id": "94d259b8",
   "metadata": {},
   "outputs": [],
   "source": [
    "# show donuts and centroids\n",
    "fig1 = plt.figure(1, figsize=(12,8))\n",
    "ax11 = fig1.add_subplot(121)\n",
    "ax11.set_title(f\"intra visitID - {script_cwfs.intra_visit_id}\")\n",
    "ax11.imshow(script_cwfs.I1[0].image0)\n",
    "ax11.contour(script_cwfs.algo.pMask) \n",
    "ax12 = fig1.add_subplot(122)\n",
    "ax12.set_title(f\"extra visitID - {script_cwfs.extra_visit_id}\")\n",
    "ax12.imshow(script_cwfs.I2[0].image0)\n",
    "ax12.contour(script_cwfs.algo.pMask) "
   ]
  },
  {
   "cell_type": "code",
   "execution_count": null,
   "id": "7d64829a",
   "metadata": {},
   "outputs": [],
   "source": [
    "# 400-401 - 8 arcmin"
   ]
  },
  {
   "cell_type": "code",
   "execution_count": null,
   "id": "4c21a175",
   "metadata": {},
   "outputs": [],
   "source": [
    "script_cwfs.zern"
   ]
  },
  {
   "cell_type": "code",
   "execution_count": null,
   "id": "8534da31",
   "metadata": {},
   "outputs": [],
   "source": [
    "script_cwfs.algo.zer4UpNm"
   ]
  },
  {
   "cell_type": "code",
   "execution_count": null,
   "id": "efb7010d",
   "metadata": {},
   "outputs": [],
   "source": [
    "script_cwfs.algo.zer4UpNm[5]"
   ]
  },
  {
   "cell_type": "code",
   "execution_count": null,
   "id": "1bf3ceeb",
   "metadata": {},
   "outputs": [],
   "source": [
    "script_cwfs.algo.zer4UpNm[6]"
   ]
  },
  {
   "cell_type": "code",
   "execution_count": null,
   "id": "f3f87237",
   "metadata": {},
   "outputs": [],
   "source": []
  },
  {
   "cell_type": "code",
   "execution_count": null,
   "id": "9c9a376c",
   "metadata": {},
   "outputs": [],
   "source": [
    "# 397-398 - 4 arcmin"
   ]
  },
  {
   "cell_type": "code",
   "execution_count": null,
   "id": "643f8b66",
   "metadata": {},
   "outputs": [],
   "source": [
    "script_cwfs.zern"
   ]
  },
  {
   "cell_type": "code",
   "execution_count": null,
   "id": "808c5ce4",
   "metadata": {},
   "outputs": [],
   "source": [
    "script_cwfs.algo.zer4UpNm[5]"
   ]
  },
  {
   "cell_type": "code",
   "execution_count": null,
   "id": "e9edb14b",
   "metadata": {},
   "outputs": [],
   "source": [
    "script_cwfs.algo.zer4UpNm[6]"
   ]
  },
  {
   "cell_type": "code",
   "execution_count": null,
   "id": "2c6bfd33",
   "metadata": {},
   "outputs": [],
   "source": [
    "# 394,395 - 2 arcmin"
   ]
  },
  {
   "cell_type": "code",
   "execution_count": null,
   "id": "c69a2d7c",
   "metadata": {},
   "outputs": [],
   "source": [
    "script_cwfs.zern"
   ]
  },
  {
   "cell_type": "code",
   "execution_count": null,
   "id": "af9b3001",
   "metadata": {},
   "outputs": [],
   "source": [
    "script_cwfs.algo.zer4UpNm[5]"
   ]
  },
  {
   "cell_type": "code",
   "execution_count": null,
   "id": "4c1ae8c1",
   "metadata": {},
   "outputs": [],
   "source": [
    "script_cwfs.algo.zer4UpNm[6]"
   ]
  },
  {
   "cell_type": "code",
   "execution_count": null,
   "id": "04ae2d11",
   "metadata": {},
   "outputs": [],
   "source": []
  }
 ],
 "metadata": {
  "kernelspec": {
   "display_name": "LSST",
   "language": "python",
   "name": "lsst"
  },
  "language_info": {
   "codemirror_mode": {
    "name": "ipython",
    "version": 3
   },
   "file_extension": ".py",
   "mimetype": "text/x-python",
   "name": "python",
   "nbconvert_exporter": "python",
   "pygments_lexer": "ipython3",
   "version": "3.8.8"
  }
 },
 "nbformat": 4,
 "nbformat_minor": 5
}
