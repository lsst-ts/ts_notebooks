{
 "cells": [
  {
   "cell_type": "markdown",
   "metadata": {},
   "source": [
    "# This notebook launches the LatissAcquireAndTakeSequence SAL script,\n",
    "### The script is built for the scriptQueue but can be run via this notebook"
   ]
  },
  {
   "cell_type": "markdown",
   "metadata": {},
   "source": [
    "#### This script is used to both manually acquire a PNe target, then take data with two different gratings"
   ]
  },
  {
   "cell_type": "code",
   "execution_count": null,
   "metadata": {},
   "outputs": [],
   "source": [
    "import sys\n",
    "import os\n",
    "import asyncio\n",
    "import time\n",
    "\n",
    "import numpy as np\n",
    "import logging \n",
    "import yaml\n",
    "import astropy\n",
    "\n",
    "from lsst.ts import salobj\n",
    "from lsst.ts.idl.enums.Script import ScriptState\n",
    "\n",
    "from lsst.ts.externalscripts.auxtel.latiss_acquire_and_take_sequence import LatissAcquireAndTakeSequence"
   ]
  },
  {
   "cell_type": "code",
   "execution_count": null,
   "metadata": {},
   "outputs": [],
   "source": [
    "# Derive and index for the script that is specific to your user\n",
    "print(f'Your UID is {os.getuid()}')\n",
    "index=os.getuid()*10+np.random.randint(0,9)\n",
    "print(f'The generated index is {index}')"
   ]
  },
  {
   "cell_type": "code",
   "execution_count": null,
   "metadata": {},
   "outputs": [],
   "source": [
    "# Instantiate the script then start all remotes\n",
    "script = LatissAcquireAndTakeSequence(index=index)\n",
    "await script.start_task"
   ]
  },
  {
   "cell_type": "code",
   "execution_count": null,
   "metadata": {},
   "outputs": [],
   "source": [
    "# set the script to have a DEBUG log level\n",
    "script.log.level = logging.DEBUG"
   ]
  },
  {
   "cell_type": "markdown",
   "metadata": {},
   "source": [
    "## Declare the Target"
   ]
  },
  {
   "cell_type": "code",
   "execution_count": null,
   "metadata": {},
   "outputs": [],
   "source": [
    "target = 'PNG321.0+03.9 '\n",
    "# coordinates required if not a SIMBAD object\n",
    "object_ra = '14:59:53'\n",
    "object_dec = '-54:18:07'"
   ]
  },
  {
   "cell_type": "code",
   "execution_count": null,
   "metadata": {},
   "outputs": [],
   "source": [
    "# Print the available instrument filter and gratings\n",
    "# this is useful both for slewing and for the configuration steps below\n",
    "inst_setup = await script.latiss.get_available_instrument_setup()\n",
    "print(f'filters are: {inst_setup[0]},\\ngratings are: {inst_setup[1]}')"
   ]
  },
  {
   "cell_type": "markdown",
   "metadata": {},
   "source": [
    "# Performing the acquisition ONLY"
   ]
  },
  {
   "cell_type": "markdown",
   "metadata": {},
   "source": [
    "### Note the below configuration just slews to the target and does not try to iterate as we're not sure it's the brightest target in the field"
   ]
  },
  {
   "cell_type": "code",
   "execution_count": null,
   "metadata": {},
   "outputs": [],
   "source": [
    "# The configurable parameters can be seen from either inside the script or from uncommenting the following command\n",
    "# script.get_schema()"
   ]
  },
  {
   "cell_type": "code",
   "execution_count": null,
   "metadata": {},
   "outputs": [],
   "source": [
    "# Be sure to set the target, filter and grating to the appropriate setup you want to use for data taking.\n",
    "# The position of the target on the detector is related to the grating.\n",
    "configuration = yaml.safe_dump({\"object_name\": target,\n",
    "                                \"object_ra\": object_ra,                                \n",
    "                                \"object_dec\": object_dec,\n",
    "                                \"do_acquire\": True,\n",
    "                                \"acq_filter\": 'FELH0600',\n",
    "                                \"acq_grating\": 'empty_1',\n",
    "                                \"acq_exposure_time\": 2.0,\n",
    "                                \"target_pointing_tolerance\": 3.0,       # Target positioning tolerance (arcsec)\n",
    "                                \"max_acq_iter\": 0,                     # Maximum number of iterations to perform when acquiring\n",
    "                                \"target_pointing_verification\": True,  # Takes an additional image showing the final target position\n",
    "                                \"dataPath\": '/project/shared/auxTel/rerun/quickLook',\n",
    "                               })\n",
    "print(configuration)"
   ]
  },
  {
   "cell_type": "code",
   "execution_count": null,
   "metadata": {},
   "outputs": [],
   "source": [
    "# Set script state to UNCONFIGURED\n",
    "# this is required to run the script a 2nd time but otherwise is a no-op\n",
    "script.set_state(ScriptState.UNCONFIGURED)\n",
    "# Configure the script, which puts the ScriptState to CONFIGURED\n",
    "config_data = script.cmd_configure.DataType()\n",
    "config_data.config = configuration\n",
    "await script.do_configure(config_data)"
   ]
  },
  {
   "cell_type": "code",
   "execution_count": null,
   "metadata": {},
   "outputs": [],
   "source": [
    "# ATAOS must be on and corrections enabled, do as follows if required\n",
    "# await script.atcs.rem.ataos.cmd_enableCorrection.set_start(m1=True, hexapod=True, atspectrograph=True)"
   ]
  },
  {
   "cell_type": "code",
   "execution_count": null,
   "metadata": {},
   "outputs": [],
   "source": [
    "# run script, assigning the same group ID to all the images taken in the acquisition\n",
    "group_id_data = script.cmd_setGroupId.DataType(\n",
    "                groupId=astropy.time.Time.now().isot\n",
    "            )\n",
    "await script.do_setGroupId(group_id_data)\n",
    "\n",
    "await script.arun()"
   ]
  },
  {
   "cell_type": "code",
   "execution_count": null,
   "metadata": {},
   "outputs": [],
   "source": [
    "# If required, then stop the telescope from tracking, but then you will lose your acquisition\n",
    "# await script.atcs.stop_tracking()"
   ]
  },
  {
   "cell_type": "code",
   "execution_count": null,
   "metadata": {},
   "outputs": [],
   "source": [
    "# Now manually put the target on 1750,300\n",
    "current_pos = np.array((1640,1820))# x,y from firefly monitor\n",
    "target_pos = (1750,300)\n",
    "\n",
    "pixel_scale = 0.09569  # arcsec/pixel\n",
    "offset = (current_pos - target_pos) * pixel_scale\n",
    "\n",
    "print(offset)"
   ]
  },
  {
   "cell_type": "code",
   "execution_count": null,
   "metadata": {},
   "outputs": [],
   "source": [
    "await script.atcs.offset_xy(x=offset[0], y=offset[1])"
   ]
  },
  {
   "cell_type": "code",
   "execution_count": null,
   "metadata": {},
   "outputs": [],
   "source": [
    "# verify offset is correct\n",
    "await script.latiss.take_engtest(2)"
   ]
  },
  {
   "cell_type": "markdown",
   "metadata": {},
   "source": [
    "## Performing the science data collection ONLY with ronchi170lpmm"
   ]
  },
  {
   "cell_type": "code",
   "execution_count": null,
   "metadata": {},
   "outputs": [],
   "source": [
    "# The configurable parameters can be seen from either inside the script or from uncommenting the following command\n",
    "# script.get_schema()"
   ]
  },
  {
   "cell_type": "code",
   "execution_count": null,
   "metadata": {},
   "outputs": [],
   "source": [
    "# Be sure to set the target, filter and grating to the appropriate setup you want to use for data taking.\n",
    "# The position of the target on the detector is related to the grating.\n",
    "configuration = yaml.safe_dump({\"object_name\": target,\n",
    "                                \"object_ra\": object_ra,                                \n",
    "                                \"object_dec\": object_dec,\n",
    "                                \"do_take_sequence\": True,\n",
    "                                \"exposure_time_sequence\" : [10, 10, 10, 30,\n",
    "                                                            30, 30, 60, 60,\n",
    "                                                            60], \n",
    "                                \"grating_sequence\": ['ronchi170lpmm','ronchi170lpmm','ronchi170lpmm','ronchi170lpmm',\n",
    "                                                    'ronchi170lpmm','ronchi170lpmm','ronchi170lpmm','ronchi170lpmm',\n",
    "                                                    'ronchi170lpmm'],\n",
    "                                \"filter_sequence\": ['empty_1','empty_1', 'empty_1', 'empty_1',\n",
    "                                                    'empty_1','empty_1', 'empty_1','empty_1',\n",
    "                                                    'empty_1'], \n",
    "                                })\n",
    "print(configuration)"
   ]
  },
  {
   "cell_type": "code",
   "execution_count": null,
   "metadata": {},
   "outputs": [],
   "source": [
    "# Set script state to UNCONFIGURED\n",
    "# this is required to run the script a 2nd time but otherwise is a no-op\n",
    "script.set_state(ScriptState.UNCONFIGURED)\n",
    "# Configure the script, which puts the ScriptState to CONFIGURED\n",
    "config_data = script.cmd_configure.DataType()\n",
    "config_data.config = configuration\n",
    "await script.do_configure(config_data)"
   ]
  },
  {
   "cell_type": "code",
   "execution_count": null,
   "metadata": {},
   "outputs": [],
   "source": [
    "# ATAOS must be on and corrections enabled, do as follows if required\n",
    "# await script.atcs.rem.ataos.cmd_enableCorrection.set_start(m1=True, hexapod=True, atspectrograph=True)"
   ]
  },
  {
   "cell_type": "code",
   "execution_count": null,
   "metadata": {},
   "outputs": [],
   "source": [
    "# run script, assigning the same group ID to all the images taken in the acquisition\n",
    "group_id_data = script.cmd_setGroupId.DataType(\n",
    "                groupId=astropy.time.Time.now().isot\n",
    "            )\n",
    "await script.do_setGroupId(group_id_data)\n",
    "\n",
    "await script.arun()"
   ]
  },
  {
   "cell_type": "code",
   "execution_count": null,
   "metadata": {},
   "outputs": [],
   "source": [
    "# If required, then stop the telescope from tracking, but then you will lose your acquisition\n",
    "# await script.atcs.stop_tracking()"
   ]
  },
  {
   "cell_type": "code",
   "execution_count": null,
   "metadata": {},
   "outputs": [],
   "source": []
  },
  {
   "cell_type": "code",
   "execution_count": null,
   "metadata": {},
   "outputs": [],
   "source": []
  },
  {
   "cell_type": "code",
   "execution_count": null,
   "metadata": {},
   "outputs": [],
   "source": []
  },
  {
   "cell_type": "markdown",
   "metadata": {},
   "source": [
    "## Performing the science data collection ONLY with holo4_003"
   ]
  },
  {
   "cell_type": "code",
   "execution_count": null,
   "metadata": {},
   "outputs": [],
   "source": [
    "# The configurable parameters can be seen from either inside the script or from uncommenting the following command\n",
    "# script.get_schema()"
   ]
  },
  {
   "cell_type": "code",
   "execution_count": null,
   "metadata": {},
   "outputs": [],
   "source": [
    "# Be sure to set the target, filter and grating to the appropriate setup you want to use for data taking.\n",
    "# The position of the target on the detector is related to the grating.\n",
    "configuration = yaml.safe_dump({\"object_name\": target,\n",
    "                                \"object_ra\": object_ra,                                \n",
    "                                \"object_dec\": object_dec,\n",
    "                                \"do_take_sequence\": True,\n",
    "                                \"exposure_time_sequence\" : [10, 10, 10, 30,\n",
    "                                                            30, 30, 60, 60,\n",
    "                                                            60], \n",
    "                                \"grating_sequence\": ['holo4_004','holo4_003','holo4_003','holo4_003',\n",
    "                                                    'holo4_003','holo4_003','holo4_003','holo4_003',\n",
    "                                                    'holo4_003'],\n",
    "                                \"filter_sequence\": ['empty_1','empty_1', 'empty_1', 'empty_1',\n",
    "                                                    'empty_1','empty_1', 'empty_1','empty_1',\n",
    "                                                    'empty_1'], \n",
    "                                })\n",
    "print(configuration)"
   ]
  },
  {
   "cell_type": "code",
   "execution_count": null,
   "metadata": {},
   "outputs": [],
   "source": [
    "# Set script state to UNCONFIGURED\n",
    "# this is required to run the script a 2nd time but otherwise is a no-op\n",
    "script.set_state(ScriptState.UNCONFIGURED)\n",
    "# Configure the script, which puts the ScriptState to CONFIGURED\n",
    "config_data = script.cmd_configure.DataType()\n",
    "config_data.config = configuration\n",
    "await script.do_configure(config_data)"
   ]
  },
  {
   "cell_type": "code",
   "execution_count": null,
   "metadata": {},
   "outputs": [],
   "source": [
    "# ATAOS must be on and corrections enabled, do as follows if required\n",
    "# await script.atcs.rem.ataos.cmd_enableCorrection.set_start(m1=True, hexapod=True, atspectrograph=True)"
   ]
  },
  {
   "cell_type": "code",
   "execution_count": null,
   "metadata": {},
   "outputs": [],
   "source": [
    "# run script, assigning the same group ID to all the images taken in the acquisition\n",
    "group_id_data = script.cmd_setGroupId.DataType(\n",
    "                groupId=astropy.time.Time.now().isot\n",
    "            )\n",
    "await script.do_setGroupId(group_id_data)\n",
    "\n",
    "await script.arun()"
   ]
  },
  {
   "cell_type": "code",
   "execution_count": null,
   "metadata": {},
   "outputs": [],
   "source": [
    "# If required, then stop the telescope from tracking, but then you will lose your acquisition\n",
    "# await script.atcs.stop_tracking()"
   ]
  },
  {
   "cell_type": "code",
   "execution_count": null,
   "metadata": {},
   "outputs": [],
   "source": []
  },
  {
   "cell_type": "code",
   "execution_count": null,
   "metadata": {},
   "outputs": [],
   "source": []
  }
 ],
 "metadata": {
  "kernelspec": {
   "display_name": "LSST",
   "language": "python",
   "name": "lsst"
  },
  "language_info": {
   "codemirror_mode": {
    "name": "ipython",
    "version": 3
   },
   "file_extension": ".py",
   "mimetype": "text/x-python",
   "name": "python",
   "nbconvert_exporter": "python",
   "pygments_lexer": "ipython3",
   "version": "3.8.8"
  }
 },
 "nbformat": 4,
 "nbformat_minor": 4
}
