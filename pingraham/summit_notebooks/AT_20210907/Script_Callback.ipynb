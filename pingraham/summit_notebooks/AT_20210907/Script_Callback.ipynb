{
 "cells": [
  {
   "cell_type": "code",
   "execution_count": null,
   "id": "f44adc5c",
   "metadata": {},
   "outputs": [],
   "source": [
    "from lsst.ts import salobj\n",
    "import asyncio\n",
    "import logging\n",
    "from lsst.ts.observatory.control.auxtel.atcs import ATCS\n",
    "import os\n",
    "import time"
   ]
  },
  {
   "cell_type": "code",
   "execution_count": null,
   "id": "141dbea6",
   "metadata": {},
   "outputs": [],
   "source": [
    "# for tab completion to work\n",
    "%config IPCompleter.use_jedi = False"
   ]
  },
  {
   "cell_type": "code",
   "execution_count": null,
   "id": "ae91efdb",
   "metadata": {},
   "outputs": [],
   "source": [
    "domain = salobj.Domain()"
   ]
  },
  {
   "cell_type": "code",
   "execution_count": null,
   "id": "97292189",
   "metadata": {},
   "outputs": [],
   "source": [
    "remote = salobj.Remote(name=\"Script\", domain=domain, index=0)\n",
    "#remote = salobj.Remote(name=\"PMD\", domain=domain, index=0)\n",
    "await remote.start_task"
   ]
  },
  {
   "cell_type": "code",
   "execution_count": null,
   "id": "34a73e68",
   "metadata": {},
   "outputs": [],
   "source": [
    "def print_logMessage(id_data):\n",
    "    print(id_data.message)"
   ]
  },
  {
   "cell_type": "code",
   "execution_count": null,
   "id": "4903eced",
   "metadata": {},
   "outputs": [],
   "source": [
    "remote.evt_logMessage.callback = print_logMessage\n",
    "# remote.evt_logMessage.callback = None # use this to stop it"
   ]
  },
  {
   "cell_type": "code",
   "execution_count": null,
   "id": "1151ea7b",
   "metadata": {},
   "outputs": [],
   "source": []
  },
  {
   "cell_type": "code",
   "execution_count": null,
   "id": "b38ea3f1",
   "metadata": {},
   "outputs": [],
   "source": [
    "#asyncio.get_event_loop().run_forever()"
   ]
  },
  {
   "cell_type": "code",
   "execution_count": null,
   "id": "c6328c24",
   "metadata": {},
   "outputs": [],
   "source": [
    "# How to write a message to the script "
   ]
  },
  {
   "cell_type": "code",
   "execution_count": null,
   "id": "244b3033",
   "metadata": {},
   "outputs": [],
   "source": [
    "#logging.basicConfig(format=\"%(name)s:%(message)s\", level=logging.DEBUG)"
   ]
  },
  {
   "cell_type": "code",
   "execution_count": null,
   "id": "5a8739b2",
   "metadata": {},
   "outputs": [],
   "source": [
    "import numpy as np\n",
    "import os\n"
   ]
  },
  {
   "cell_type": "code",
   "execution_count": null,
   "id": "f15e956e",
   "metadata": {},
   "outputs": [],
   "source": [
    "print(f'Your UID is {os.getuid()}')\n",
    "index=os.getuid()*10+np.random.randint(0,9)\n",
    "print(f'The generated index is {index}')"
   ]
  },
  {
   "cell_type": "code",
   "execution_count": null,
   "id": "100728dd",
   "metadata": {},
   "outputs": [],
   "source": [
    "index <2147483647"
   ]
  },
  {
   "cell_type": "code",
   "execution_count": null,
   "id": "39458d14",
   "metadata": {},
   "outputs": [],
   "source": [
    "c = salobj.Controller(name=\"Script\", index=index)"
   ]
  },
  {
   "cell_type": "code",
   "execution_count": null,
   "id": "2fb628bd",
   "metadata": {},
   "outputs": [],
   "source": [
    "c."
   ]
  },
  {
   "cell_type": "code",
   "execution_count": null,
   "id": "7944f74a",
   "metadata": {},
   "outputs": [],
   "source": [
    "time.asctime()"
   ]
  },
  {
   "cell_type": "code",
   "execution_count": null,
   "id": "239ac799",
   "metadata": {},
   "outputs": [],
   "source": [
    "# This goes to the EFD, but the controller by default is set to loglevel.info, so debug won't show unless you set the controller to do so\n",
    "c.log.info(f'This is a test by Patrick from controller at INFO at time (from notebook)={time.asctime()}') # only "
   ]
  },
  {
   "cell_type": "code",
   "execution_count": null,
   "id": "28898e34",
   "metadata": {},
   "outputs": [],
   "source": []
  },
  {
   "cell_type": "code",
   "execution_count": null,
   "id": "d631a3b2",
   "metadata": {},
   "outputs": [],
   "source": [
    "c.log.setLevel(logging.DEBUG)"
   ]
  },
  {
   "cell_type": "code",
   "execution_count": null,
   "id": "922c3f6e",
   "metadata": {},
   "outputs": [],
   "source": [
    "c.log.debug(f'This is a test by Patrick from controller at DEBUG at time (from notebook)={time.asctime()}') "
   ]
  },
  {
   "cell_type": "code",
   "execution_count": null,
   "id": "6a034b73",
   "metadata": {},
   "outputs": [],
   "source": [
    "# This log message only appears in this notebook and does not go to the EFD\n",
    "logging.info('This is a test by Patrick from logging.info')\n",
    "logging.debug('This is a test by Patrick from logging.debug')"
   ]
  },
  {
   "cell_type": "code",
   "execution_count": null,
   "id": "0a3a530a",
   "metadata": {},
   "outputs": [],
   "source": []
  },
  {
   "cell_type": "code",
   "execution_count": null,
   "id": "f4f1f0a8",
   "metadata": {},
   "outputs": [],
   "source": []
  },
  {
   "cell_type": "code",
   "execution_count": null,
   "id": "a10c766b",
   "metadata": {},
   "outputs": [],
   "source": [
    "import numpy as np"
   ]
  },
  {
   "cell_type": "code",
   "execution_count": null,
   "id": "b232a503",
   "metadata": {},
   "outputs": [],
   "source": [
    "# at 60 degrees elevation\n",
    "tmp = np.array([-7.34952507e-01, -8.15190612e+00,  8.83188883e+01,  1.61911346e+01,\n",
    "       -1.52550043e+01,  1.07456780e+02, -7.66811469e+00,  2.33292654e+01,\n",
    "       -2.95562852e+00,  4.82370415e+00, -5.21821566e+01,  3.14148947e+01,\n",
    "       -2.58555788e+00, -6.33811966e-02, -3.98164492e+00, -1.02496482e+01,\n",
    "       -1.13619176e+01,  5.02066293e+00, -8.48739368e+00])"
   ]
  },
  {
   "cell_type": "code",
   "execution_count": null,
   "id": "b09618c9",
   "metadata": {},
   "outputs": [],
   "source": [
    "# index 0 is defocus, index 3 and 4 is x and y coma\n",
    "# so vertical and oblique trefoil should be index 5 and 6 (Noll index 9 and 10)\n",
    "for i, v in enumerate(tmp):\n",
    "    print(i+4,v)"
   ]
  },
  {
   "cell_type": "code",
   "execution_count": null,
   "id": "0ddfc25a",
   "metadata": {},
   "outputs": [],
   "source": [
    "# at "
   ]
  }
 ],
 "metadata": {
  "kernelspec": {
   "display_name": "LSST",
   "language": "python",
   "name": "lsst"
  },
  "language_info": {
   "codemirror_mode": {
    "name": "ipython",
    "version": 3
   },
   "file_extension": ".py",
   "mimetype": "text/x-python",
   "name": "python",
   "nbconvert_exporter": "python",
   "pygments_lexer": "ipython3",
   "version": "3.8.8"
  }
 },
 "nbformat": 4,
 "nbformat_minor": 5
}
