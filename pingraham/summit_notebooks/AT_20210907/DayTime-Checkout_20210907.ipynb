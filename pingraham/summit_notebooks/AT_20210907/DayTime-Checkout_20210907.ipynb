{
 "cells": [
  {
   "cell_type": "markdown",
   "id": "16f7fa98",
   "metadata": {},
   "source": [
    "# This notebook is intended to run a series of tests to ensure the system responds as expected\n",
    "## It begins with LATISS, but can also be used with the telescope components only"
   ]
  },
  {
   "cell_type": "code",
   "execution_count": null,
   "id": "dd69b2f4",
   "metadata": {},
   "outputs": [],
   "source": [
    "import sys\n",
    "import asyncio\n",
    "import time\n",
    "import os\n",
    "\n",
    "import numpy as dr\n",
    "\n",
    "from lsst.ts import salobj\n",
    "\n",
    "from lsst.ts.observatory.control.auxtel.atcs import ATCS\n",
    "from lsst.ts.observatory.control.auxtel.latiss import LATISS\n",
    "\n",
    "from lsst.ts.observatory.control.utils import RotType"
   ]
  },
  {
   "cell_type": "code",
   "execution_count": null,
   "id": "36ebc3e8",
   "metadata": {},
   "outputs": [],
   "source": [
    "# for tab completion to work\n",
    "%config IPCompleter.use_jedi = False"
   ]
  },
  {
   "cell_type": "code",
   "execution_count": null,
   "id": "86e8bd7f",
   "metadata": {},
   "outputs": [],
   "source": [
    "import logging\n",
    "stream_handler = logging.StreamHandler(sys.stdout)\n",
    "logger = logging.getLogger()\n",
    "logger.addHandler(stream_handler)\n",
    "logger.level = logging.DEBUG"
   ]
  },
  {
   "cell_type": "code",
   "execution_count": null,
   "id": "ae823a8c",
   "metadata": {},
   "outputs": [],
   "source": [
    "print(os.environ[\"OSPL_URI\"])\n",
    "print(os.environ[\"LSST_DDS_PARTITION_PREFIX\"])"
   ]
  },
  {
   "cell_type": "code",
   "execution_count": null,
   "id": "63a646c0",
   "metadata": {},
   "outputs": [],
   "source": [
    "#get classes and start them\n",
    "domain = salobj.Domain()"
   ]
  },
  {
   "cell_type": "code",
   "execution_count": null,
   "id": "a8157a6a",
   "metadata": {},
   "outputs": [],
   "source": [
    "atcs = ATCS(domain)\n",
    "latiss = LATISS(domain)\n",
    "await asyncio.gather(atcs.start_task, latiss.start_task)"
   ]
  },
  {
   "cell_type": "code",
   "execution_count": null,
   "id": "f77eed18",
   "metadata": {},
   "outputs": [],
   "source": []
  },
  {
   "cell_type": "code",
   "execution_count": null,
   "id": "fcf9d451",
   "metadata": {},
   "outputs": [],
   "source": [
    "tmp=await salobj.set_summary_state(latiss.rem.atspectrograph, salobj.State.ENABLED, settingsToApply='LATISS_AuxTel_20210902_v3.yaml', timeout=30)\n",
    "print(tmp)"
   ]
  },
  {
   "cell_type": "code",
   "execution_count": null,
   "id": "8ea5a46c",
   "metadata": {},
   "outputs": [],
   "source": [
    "tmp=await latiss.rem.atspectrograph.evt_settingsApplied.aget()\n",
    "print(tmp)"
   ]
  },
  {
   "cell_type": "code",
   "execution_count": null,
   "id": "65c41860",
   "metadata": {},
   "outputs": [],
   "source": [
    "tmp=await salobj.set_summary_state(latiss.rem.atcamera, salobj.State.ENABLED, timeout=30)\n",
    "print(tmp)"
   ]
  },
  {
   "cell_type": "code",
   "execution_count": null,
   "id": "e8ad3f45",
   "metadata": {},
   "outputs": [],
   "source": [
    "with_latiss=True"
   ]
  },
  {
   "cell_type": "code",
   "execution_count": null,
   "id": "e2e255dd",
   "metadata": {},
   "outputs": [],
   "source": [
    "# Enable LATISS\n",
    "if with_latiss:\n",
    "    await latiss.enable()"
   ]
  },
  {
   "cell_type": "code",
   "execution_count": null,
   "id": "93352430",
   "metadata": {},
   "outputs": [],
   "source": [
    "# Take bias and make sure it lands\n",
    "if with_latiss:\n",
    "    latiss.rem.atarchiver.evt_imageInOODS.flush()\n",
    "    await latiss.take_bias(nbias=1)\n",
    "    tmp = await latiss.rem.atarchiver.evt_imageInOODS.next(flush=False, timeout=10)\n",
    "    print(tmp)\n",
    "    if tmp.statusCode != 0:\n",
    "        raise AssertionError('Ingestion was not successful!')"
   ]
  },
  {
   "cell_type": "code",
   "execution_count": null,
   "id": "f18b3c01",
   "metadata": {},
   "outputs": [],
   "source": []
  },
  {
   "cell_type": "code",
   "execution_count": null,
   "id": "2790fce3",
   "metadata": {},
   "outputs": [],
   "source": [
    "# Check that the bias pops up in the monitor (https://roundtable.lsst.codes/rubintv/monitor_current)\n",
    "# If it fails, let Patrick or Merlin know"
   ]
  },
  {
   "cell_type": "code",
   "execution_count": null,
   "id": "ba8ac114",
   "metadata": {},
   "outputs": [],
   "source": [
    "# Take an engineering test frame (analogous to a science frame) and make sure it lands\n",
    "if with_latiss:\n",
    "    latiss.rem.atarchiver.evt_imageInOODS.flush()\n",
    "    await latiss.take_engtest(2, filter='FELH0600',grating=3)\n",
    "    tmp = await latiss.rem.atarchiver.evt_imageInOODS.next(flush=False, timeout=10)\n",
    "    print(tmp)\n",
    "    if tmp.statusCode != 0:\n",
    "        raise AssertionError('Ingestion was not successful!')"
   ]
  },
  {
   "cell_type": "code",
   "execution_count": null,
   "id": "e1def927",
   "metadata": {},
   "outputs": [],
   "source": [
    "# Enable ATCS\n",
    "await atcs.enable()"
   ]
  },
  {
   "cell_type": "code",
   "execution_count": null,
   "id": "3313edfa",
   "metadata": {},
   "outputs": [],
   "source": []
  },
  {
   "cell_type": "code",
   "execution_count": null,
   "id": "079bc62a",
   "metadata": {},
   "outputs": [],
   "source": [
    "# Make sure valves are open\n",
    "await atcs.open_valves()\n",
    "pressure = await atcs.rem.atpneumatics.tel_mainAirSourcePressure.next(flush=True, timeout=5)\n",
    "if pressure.pressure > 300000:\n",
    "    print(f'Air pressure is {pressure.pressure:0.0f} Pascals, which is fine.')\n",
    "else:\n",
    "    print(f'Air pressure is {pressure.pressure}, which is too low. It needs to be between ~275790 and ~413000 Pascals (40 and 60 PSI). Check that compressor and dryer is running. Then check that the regulator inside the pier is set correctly. ')"
   ]
  },
  {
   "cell_type": "code",
   "execution_count": null,
   "id": "348d47a3",
   "metadata": {},
   "outputs": [],
   "source": [
    "# Turn on ATAOS correction(s), without spectrograph (if the tests were skipped above)\n",
    "# Note there is a race condition in the ATPneumatics that might result in this failing, so you'll have to run in twice\n",
    "tmp = await atcs.rem.ataos.cmd_enableCorrection.set_start(m1=True, hexapod=True, atspectrograph=with_latiss)"
   ]
  },
  {
   "cell_type": "code",
   "execution_count": null,
   "id": "a6b2646d",
   "metadata": {},
   "outputs": [],
   "source": [
    "pressure = await atcs.rem.atpneumatics.tel_m1AirPressure.aget(timeout=5)\n",
    "print(pressure)"
   ]
  },
  {
   "cell_type": "code",
   "execution_count": null,
   "id": "30b35a5e",
   "metadata": {},
   "outputs": [],
   "source": [
    "# Turn off ATAOS correction(s), without spectrograph (if the tests were skipped above)\n",
    "tmp = await atcs.rem.ataos.cmd_disableCorrection.set_start(m1=True, hexapod=True, atspectrograph=with_latiss)"
   ]
  },
  {
   "cell_type": "code",
   "execution_count": null,
   "id": "cde7402d",
   "metadata": {},
   "outputs": [],
   "source": [
    "# put mirror back on hardpoints\n",
    "await atcs.rem.atpneumatics.cmd_m1SetPressure.set_start(pressure=0)"
   ]
  },
  {
   "cell_type": "code",
   "execution_count": null,
   "id": "3562a8dc",
   "metadata": {},
   "outputs": [],
   "source": [
    "# Turn on ATAOS correction(s), without spectrograph (if the tests were skipped above)\n",
    "# This should not ever fail.\n",
    "tmp = await atcs.rem.ataos.cmd_enableCorrection.set_start(m1=True, hexapod=True, atspectrograph=with_latiss)"
   ]
  },
  {
   "cell_type": "code",
   "execution_count": null,
   "id": "300fe7ff",
   "metadata": {},
   "outputs": [],
   "source": []
  },
  {
   "cell_type": "code",
   "execution_count": null,
   "id": "2b93b435",
   "metadata": {},
   "outputs": [],
   "source": []
  },
  {
   "cell_type": "code",
   "execution_count": null,
   "id": "132bb564",
   "metadata": {},
   "outputs": [],
   "source": [
    "# Turn off dome following\n",
    "await atcs.disable_dome_following()"
   ]
  },
  {
   "cell_type": "code",
   "execution_count": null,
   "id": "6b39456a",
   "metadata": {},
   "outputs": [],
   "source": [
    "# Test Point AzEl\n",
    "start_az=10\n",
    "start_el=75\n",
    "start_rot=0\n",
    "await atcs.point_azel(az=start_az, el=start_el, rot_tel=start_rot)"
   ]
  },
  {
   "cell_type": "code",
   "execution_count": null,
   "id": "a421b5e1",
   "metadata": {},
   "outputs": [],
   "source": [
    "# Stop tracking\n",
    "tmp=await atcs.stop_tracking()\n",
    "print(tmp)"
   ]
  },
  {
   "cell_type": "code",
   "execution_count": null,
   "id": "0160e299",
   "metadata": {},
   "outputs": [],
   "source": [
    "# Now start tracking a siderial target, but starting from the same position\n",
    "coord=atcs.radec_from_azel(az=start_az+2, el=start_el)\n",
    "await atcs.slew_icrs(coord.ra, coord.dec, rot=start_rot, stop_before_slew=False)"
   ]
  },
  {
   "cell_type": "code",
   "execution_count": null,
   "id": "567e0c47",
   "metadata": {},
   "outputs": [],
   "source": []
  },
  {
   "cell_type": "code",
   "execution_count": null,
   "id": "35bdfe76",
   "metadata": {},
   "outputs": [],
   "source": [
    "# Stop tracking\n",
    "await atcs.stop_tracking()"
   ]
  },
  {
   "cell_type": "code",
   "execution_count": null,
   "id": "abef481b",
   "metadata": {},
   "outputs": [],
   "source": [
    "# Check that dome moves\n",
    "dome_az = await atcs.rem.atdome.tel_position.next(flush=True,timeout=10)\n",
    "print(f'Dome currently thinks it is at an azimuth position of {dome_az.azimuthPosition}.\\n Note the dome may not be properly homed at this time')\n",
    "d_az=15\n",
    "await atcs.rem.atdome.cmd_moveAzimuth.set_start(azimuth=dome_az.azimuthPosition+d_az)"
   ]
  },
  {
   "cell_type": "code",
   "execution_count": null,
   "id": "5caa7159",
   "metadata": {},
   "outputs": [],
   "source": [
    "# Turn off ATAOS correction(s)\n",
    "tmp = await atcs.rem.ataos.cmd_disableCorrection.set_start(m1=True, hexapod=True, atspectrograph=with_latiss)\n",
    "# put mirror back on the hardpoints\n",
    "pressure = await atcs.rem.atpneumatics.tel_m1AirPressure.aget(timeout=5)\n",
    "print(pressure)"
   ]
  },
  {
   "cell_type": "code",
   "execution_count": null,
   "id": "7fb01bb4",
   "metadata": {},
   "outputs": [],
   "source": [
    "# shut off the valves so we can test the pneumatics\n",
    "await atcs.rem.atpneumatics.cmd_closeMasterAirSupply.start()\n",
    "await atcs.rem.atpneumatics.cmd_closeInstrumentAirValve.start()"
   ]
  },
  {
   "cell_type": "code",
   "execution_count": null,
   "id": "2ad6032c",
   "metadata": {},
   "outputs": [],
   "source": [
    "# Open mirror covers and vents\n",
    "# Note that there is currently a race conditions that might make this fail in the first attempt\n",
    "await atcs.open_m1_cover()\n",
    "await atcs.open_m1_vent()"
   ]
  },
  {
   "cell_type": "code",
   "execution_count": null,
   "id": "6b099c9f",
   "metadata": {},
   "outputs": [],
   "source": [
    "# Close mirror covers and vents\n",
    "await atcs.close_m1_cover()\n",
    "await atcs.close_m1_vent()"
   ]
  },
  {
   "cell_type": "code",
   "execution_count": null,
   "id": "d489b9f0",
   "metadata": {},
   "outputs": [],
   "source": []
  },
  {
   "cell_type": "code",
   "execution_count": null,
   "id": "86861e8a",
   "metadata": {},
   "outputs": [],
   "source": [
    "# Setup to run flats - this will also home the dome\n",
    "await atcs.prepare_for_flatfield()"
   ]
  },
  {
   "cell_type": "code",
   "execution_count": null,
   "id": "724bdbdb",
   "metadata": {},
   "outputs": [],
   "source": [
    "# Now close the mirror cover just to keep things safe - this will move the telescope to a higher position (El~70)\n",
    "await atcs.close_m1_cover()\n",
    "await atcs.close_m1_vent()"
   ]
  },
  {
   "cell_type": "code",
   "execution_count": null,
   "id": "9e874a8c",
   "metadata": {},
   "outputs": [],
   "source": [
    "# Turn on dome following which will align the dome with the telescope\n",
    "await atcs.enable_dome_following()"
   ]
  },
  {
   "cell_type": "code",
   "execution_count": null,
   "id": "fdb0c67a",
   "metadata": {},
   "outputs": [],
   "source": [
    "# Now do a full slew of the observatory"
   ]
  },
  {
   "cell_type": "code",
   "execution_count": null,
   "id": "41b9fa8e",
   "metadata": {},
   "outputs": [],
   "source": [
    "# Turn on ATAOS correction(s), without spectrograph (if the tests were skipped above)\n",
    "# Note there is a race condition in the ATPneumatics that might result in this failing, so you'll have to run in twice\n",
    "tmp = await atcs.rem.ataos.cmd_enableCorrection.set_start(m1=True, hexapod=True, atspectrograph=with_latiss)"
   ]
  },
  {
   "cell_type": "code",
   "execution_count": null,
   "id": "6e917c78",
   "metadata": {},
   "outputs": [],
   "source": [
    "# Now start tracking a siderial target, but starting from the same position\n",
    "start_az=205-30\n",
    "start_el=70-10\n",
    "start_rot=0\n",
    "coord=atcs.radec_from_azel(az=start_az, el=start_el)\n",
    "await atcs.slew_icrs(coord.ra, coord.dec, rot=start_rot, stop_before_slew=False)"
   ]
  },
  {
   "cell_type": "code",
   "execution_count": null,
   "id": "a1cbe23f",
   "metadata": {},
   "outputs": [],
   "source": [
    "# Take an engineering test frame (analogous to a science frame) and make sure it lands\n",
    "if with_latiss:\n",
    "    latiss.rem.atarchiver.evt_imageInOODS.flush()\n",
    "    await latiss.take_engtest(2, filter=3, grating=3)\n",
    "    tmp = await latiss.rem.atarchiver.evt_imageInOODS.next(flush=False, timeout=10)\n",
    "    print(tmp)\n",
    "    if tmp.statusCode != 0:\n",
    "        raise AssertionError('Ingestion was not successful!')"
   ]
  },
  {
   "cell_type": "code",
   "execution_count": null,
   "id": "65989385",
   "metadata": {},
   "outputs": [],
   "source": [
    "# Let it track for at least a couple minutes"
   ]
  },
  {
   "cell_type": "code",
   "execution_count": null,
   "id": "d9ccbd9b",
   "metadata": {},
   "outputs": [],
   "source": [
    "# Try a new target\n",
    "# Now start tracking a siderial target, but starting from the same position\n",
    "start_az=205-15\n",
    "start_el=70-5\n",
    "start_rot=0\n",
    "coord=atcs.radec_from_azel(az=start_az, el=start_el)\n",
    "await atcs.slew_icrs(coord.ra, coord.dec, rot=start_rot, stop_before_slew=False)"
   ]
  },
  {
   "cell_type": "code",
   "execution_count": null,
   "id": "60e18555",
   "metadata": {},
   "outputs": [],
   "source": [
    "# Take an engineering test frame (analogous to a science frame) and make sure it lands\n",
    "if with_latiss:\n",
    "    latiss.rem.atarchiver.evt_imageInOODS.flush()\n",
    "    await latiss.take_engtest(2, filter=0, grating=0)\n",
    "    tmp = await latiss.rem.atarchiver.evt_imageInOODS.next(flush=False, timeout=10)\n",
    "    print(tmp)\n",
    "    if tmp.statusCode != 0:\n",
    "        raise AssertionError('Ingestion was not successful!')"
   ]
  },
  {
   "cell_type": "code",
   "execution_count": null,
   "id": "3748c831",
   "metadata": {},
   "outputs": [],
   "source": [
    "# now shut everything down\n",
    "await atcs.shutdown()"
   ]
  },
  {
   "cell_type": "code",
   "execution_count": null,
   "id": "e0de48fd",
   "metadata": {},
   "outputs": [],
   "source": [
    "await latiss.standby()"
   ]
  },
  {
   "cell_type": "code",
   "execution_count": null,
   "id": "42cee34a",
   "metadata": {},
   "outputs": [],
   "source": []
  },
  {
   "cell_type": "code",
   "execution_count": null,
   "id": "98e91d4f",
   "metadata": {},
   "outputs": [],
   "source": []
  },
  {
   "cell_type": "code",
   "execution_count": null,
   "id": "334a2b59",
   "metadata": {},
   "outputs": [],
   "source": []
  },
  {
   "cell_type": "code",
   "execution_count": null,
   "id": "f0b92c1a",
   "metadata": {},
   "outputs": [],
   "source": []
  }
 ],
 "metadata": {
  "kernelspec": {
   "display_name": "LSST",
   "language": "python",
   "name": "lsst"
  },
  "language_info": {
   "codemirror_mode": {
    "name": "ipython",
    "version": 3
   },
   "file_extension": ".py",
   "mimetype": "text/x-python",
   "name": "python",
   "nbconvert_exporter": "python",
   "pygments_lexer": "ipython3",
   "version": "3.8.8"
  }
 },
 "nbformat": 4,
 "nbformat_minor": 5
}
