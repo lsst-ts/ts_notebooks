{
 "cells": [
  {
   "cell_type": "code",
   "execution_count": null,
   "id": "0dd2528d",
   "metadata": {},
   "outputs": [],
   "source": [
    "####! In preparation for Stubbs test to compare WFS with centroid methods to collimate the telescope \n",
    "\n",
    "## This notebook was just edited by PI and not created by."
   ]
  },
  {
   "cell_type": "code",
   "execution_count": null,
   "id": "9a4a0836",
   "metadata": {},
   "outputs": [],
   "source": [
    "import logging\n",
    "import sys\n",
    "\n",
    "BLACK, RED, GREEN, YELLOW, BLUE, MAGENTA, CYAN, WHITE = range(8)\n",
    "\n",
    "RESET_SEQ = '\\033[0m'\n",
    "COLOR_SEQ = '\\033[1;%dm'\n",
    "BOLD_SEQ = '\\033[1m'\n",
    "\n",
    "COLORS = {\n",
    "    'WARNING': YELLOW,\n",
    "    'INFO': WHITE,\n",
    "    'DEBUG': BLUE,\n",
    "    'CRITICAL': RED,\n",
    "    'ERROR': RED\n",
    "}\n",
    "\n",
    "class MyLogFormatter(logging.Formatter):\n",
    "    \"\"\" Custom logging formatter that mimics jupyter's server logging. \"\"\"\n",
    "    def __init__(self, fmt=\" [%(levelname).1s %(asctime)s %(name)s] %(message)s\", \n",
    "                 datefmt=\"%Y-%m-%d %H:%M:%S\", use_colours=True):\n",
    "\n",
    "        logging.Formatter.__init__(self, fmt, datefmt=datefmt)\n",
    "        self.use_colours = use_colours\n",
    "\n",
    "    @staticmethod\n",
    "    def color_format(message, levelname, left_char=\"[\", right_char=\"]\"):\n",
    "\n",
    "        colour = COLOR_SEQ % (30 + COLORS[levelname])\n",
    "\n",
    "        message = message.replace(left_char, \"{:s} {:s}\".format(colour, left_char))\n",
    "        message = message.replace(right_char, \"{:s} {:s}\".format(right_char, RESET_SEQ))\n",
    "\n",
    "        return message\n",
    "\n",
    "    def format(self, record):\n",
    "\n",
    "        # Call the original formatter class to do the grunt work\n",
    "        result = logging.Formatter.format(self, record)\n",
    "\n",
    "        if self.use_colours:\n",
    "            result = self.color_format(result, record.levelname)\n",
    "\n",
    "        return result\n",
    "\n",
    "custom_formatter = MyLogFormatter()\n",
    "stream_handler = logging.StreamHandler(sys.stdout)\n",
    "stream_handler.setFormatter(custom_formatter)\n",
    "\n",
    "logger = logging.getLogger()\n",
    "logger.addHandler(stream_handler)\n",
    "logger.level = logging.WARNING  # We leave this quiet for now\n",
    "logger.propagate = False"
   ]
  },
  {
   "cell_type": "code",
   "execution_count": null,
   "id": "d2c3d6ac",
   "metadata": {},
   "outputs": [],
   "source": [
    "import os\n",
    "import sys\n",
    "import copy\n",
    "import asyncio\n",
    "import logging\n",
    "\n",
    "from lsst.ts import salobj\n",
    "from lsst.ts import idl\n",
    "from lsst.ts.observatory.control.auxtel import ATCS, LATISS\n",
    "from lsst.ts.observatory.control.utils.enums import RotType\n",
    "%config IPCompleter.use_jedi = False"
   ]
  },
  {
   "cell_type": "code",
   "execution_count": null,
   "id": "b70e7036",
   "metadata": {},
   "outputs": [],
   "source": [
    "Initiate and configure script"
   ]
  },
  {
   "cell_type": "code",
   "execution_count": null,
   "id": "a54c30be",
   "metadata": {},
   "outputs": [],
   "source": [
    "from lsst.ts.externalscripts.auxtel.build_pointing_model import BuildPointingModel\n",
    "from lsst.ts.idl.enums.Script import ScriptState\n",
    "import yaml"
   ]
  },
  {
   "cell_type": "code",
   "execution_count": null,
   "id": "5e1f60e4",
   "metadata": {},
   "outputs": [],
   "source": [
    "from lsst.ts.externalscripts.auxtel.latiss_cwfs_align import LatissCWFSAlign\n",
    "script = LatissCWFSAlign(index=3, remotes=True)  # this essentially calls the init method\n",
    "\n",
    "await script.start_task  # make sure all remotes etc are running"
   ]
  },
  {
   "cell_type": "markdown",
   "id": "8ad4e29a",
   "metadata": {},
   "source": [
    "# Elevation 70, slew to a 7-magnitude or brighter star, and track."
   ]
  },
  {
   "cell_type": "code",
   "execution_count": null,
   "id": "043e6d89",
   "metadata": {},
   "outputs": [],
   "source": [
    "target_name = await script.atcs.find_target(az,70,mag_limit=7.0)\n",
    "print(target_name)"
   ]
  },
  {
   "cell_type": "code",
   "execution_count": null,
   "id": "d13fff17",
   "metadata": {},
   "outputs": [],
   "source": [
    "await script.atcs.slew_object(name = target_name, rot_type=RotType.PhysicalSky)"
   ]
  },
  {
   "cell_type": "code",
   "execution_count": null,
   "id": "1f243cac",
   "metadata": {},
   "outputs": [],
   "source": [
    "# Take short exposure to check star is centered in the detector\n",
    "science_image = await script.script.latiss.take_object(exptime=2., n=1, filter='FELH0600',grating='empty_1')\n",
    "print ('science_image = ' + str(science_image))"
   ]
  },
  {
   "cell_type": "code",
   "execution_count": null,
   "id": "86d68cc8",
   "metadata": {},
   "outputs": [],
   "source": [
    "# If not, apply correction pointing offsets to xy to center image in the detector and take another image. \n",
    "# await script.atcs.offset_xy(y=140, x=0)\n",
    "science_image = await script.latiss.take_object(exptime=2., n=1, filter='FELH0600',grating='empty_1')\n",
    "print ('science_image = ' + str(science_image)) "
   ]
  },
  {
   "cell_type": "markdown",
   "id": "c7a83925",
   "metadata": {},
   "source": [
    "## Run CWFS"
   ]
  },
  {
   "cell_type": "code",
   "execution_count": null,
   "id": "01870407",
   "metadata": {},
   "outputs": [],
   "source": [
    "# Run acquisition script\n",
    "script.intra_visit_id = None\n",
    "script.extra_visit_id = None\n",
    "script.short_timeout = 10\n",
    "results = await script.arun()"
   ]
  },
  {
   "cell_type": "markdown",
   "id": "1472cbf8",
   "metadata": {},
   "source": [
    "## Now slew to a booming bright star"
   ]
  },
  {
   "cell_type": "code",
   "execution_count": null,
   "id": "37fcf901",
   "metadata": {},
   "outputs": [],
   "source": [
    "await script.atcs.slew_target('HR 807') # or HR 1169 in an hour or so"
   ]
  },
  {
   "cell_type": "markdown",
   "id": "6a0ce0dc",
   "metadata": {},
   "source": [
    "## Centroid method: Going out of focus (z axis position range = +/- 7 mm) - To get the largest donut possible"
   ]
  },
  {
   "cell_type": "code",
   "execution_count": null,
   "id": "fa2bb164",
   "metadata": {},
   "outputs": [],
   "source": [
    "await script.atcs.rem.ataos.cmd_offset.set_start(z=7)"
   ]
  },
  {
   "cell_type": "markdown",
   "id": "962499d1",
   "metadata": {},
   "source": [
    "### Take an image and make sure few thousand counts per pixel in the illuminated annulus are present. Find the optimal exposure time. "
   ]
  },
  {
   "cell_type": "code",
   "execution_count": null,
   "id": "0fe24cd5",
   "metadata": {},
   "outputs": [],
   "source": [
    "await script.latiss.take_engtest(exptime=10., n=1, filter='FELH0600',grating='empty_1')"
   ]
  },
  {
   "cell_type": "markdown",
   "id": "96f4d0b1",
   "metadata": {},
   "source": [
    "### x-y offset grid, take 3 images. Change below exp time. "
   ]
  },
  {
   "cell_type": "code",
   "execution_count": null,
   "id": "a355061d",
   "metadata": {},
   "outputs": [],
   "source": []
  },
  {
   "cell_type": "code",
   "execution_count": null,
   "id": "ae8b776d",
   "metadata": {},
   "outputs": [],
   "source": [
    "hexapod_offset_scale = [\n",
    "    [52.459, 0.0, 0.0],\n",
    "    [0.0, 50.468, 0.0],\n",
    "    [0.0, 0.0, 0.0],\n",
    "]"
   ]
  },
  {
   "cell_type": "code",
   "execution_count": null,
   "id": "93f95e30",
   "metadata": {},
   "outputs": [],
   "source": [
    "# offset manually in x and y for values of -2.5, -1, 1, 2.5\n",
    "hexapod_offset = [1,0,0] # x,y,z"
   ]
  },
  {
   "cell_type": "code",
   "execution_count": null,
   "id": "3464a176",
   "metadata": {},
   "outputs": [],
   "source": [
    "tel_offset = np.matmul(hexapod_offset, hexapod_offset_scale) # gives el and negative az!\n",
    "az_offset=-tel_offset[1]\n",
    "el_offset=tel_offset[0]\n",
    "print(f'az offset = {az_offset} [arcsec]')\n",
    "print(f'el offset = {el_offset} [arcsec]')"
   ]
  },
  {
   "cell_type": "code",
   "execution_count": null,
   "id": "6a093157",
   "metadata": {},
   "outputs": [],
   "source": [
    "# offset the hexapod\n",
    "await script.atcs.rem.ataos.cmd_offset.set_start(x=hexapod_offset[0], y=hexapod_offset[1], z=hexapod_offset[2])"
   ]
  },
  {
   "cell_type": "code",
   "execution_count": null,
   "id": "d7cb36b8",
   "metadata": {},
   "outputs": [],
   "source": [
    "# offset the telescope\n",
    "await script.atcs.offset_azel(\n",
    "    az=-tel_offset[1],\n",
    "    el=tel_offset[0],\n",
    "    relative=True,\n",
    "    persistent=True,\n",
    ")"
   ]
  },
  {
   "cell_type": "code",
   "execution_count": null,
   "id": "2abd4a2c",
   "metadata": {},
   "outputs": [],
   "source": [
    "# check offset is correct\n",
    "await script.latiss.take_engtest(exptime=2., n=1, filter='FELH0600',grating='empty_1')"
   ]
  },
  {
   "cell_type": "code",
   "execution_count": null,
   "id": "5b4c1ee7",
   "metadata": {},
   "outputs": [],
   "source": [
    "# take high SNR image\n",
    "await script.latiss.take_engtest(exptime=2., n=1, filter='FELH0600',grating='empty_1')"
   ]
  },
  {
   "cell_type": "code",
   "execution_count": null,
   "id": "a5f68359",
   "metadata": {},
   "outputs": [],
   "source": []
  },
  {
   "cell_type": "code",
   "execution_count": null,
   "id": "d8b36ef8",
   "metadata": {},
   "outputs": [],
   "source": []
  },
  {
   "cell_type": "code",
   "execution_count": null,
   "id": "6bf6973c",
   "metadata": {},
   "outputs": [],
   "source": [
    "# declare the relative offsets of the hexapod\n",
    "\n",
    "relative_offsets = [-1, -1.5, 2.5, 1, 1.5, -2.5]\n",
    "\n",
    "for off in relative_offsets:\n",
    "    hexapod_offset = [off,0,0] # x,y,z\n",
    "    tel_offset = np.matmul(hexapod_offset, hexapod_offset_scale) # gives el and negative az!\n",
    "    az_offset=-tel_offset[1]\n",
    "    el_offset=tel_offset[0]\n",
    "    print(f'az offset = {az_offset} [arcsec]')\n",
    "    print(f'el offset = {el_offset} [arcsec]')\n",
    "    # offset the hexapod\n",
    "    await script.atcs.rem.ataos.cmd_offset.set_start(x=hexapod_offset[0], y=hexapod_offset[1], z=0)\n",
    "    # offset the telescope\n",
    "    await script.atcs.offset_azel(\n",
    "        az=-tel_offset[1],\n",
    "        el=tel_offset[0],\n",
    "        relative=True,\n",
    "        persistent=True,\n",
    "    )\n",
    "    # take high SNR image\n",
    "    await script.latiss.take_engtest(exptime=30, n=1, filter='FELH0600',grating='empty_1')\n",
    "\n",
    "    # offset the hexapod\n",
    "    await script.atcs.rem.ataos.cmd_offset.set_start(x=-hexapod_offset[0], y=-hexapod_offset[1], z=0)\n",
    "    # offset the telescope\n",
    "    await script.atcs.offset_azel(\n",
    "        az=-tel_offset[1],\n",
    "        el=tel_offset[0],\n",
    "        relative=True,\n",
    "        persistent=True,\n",
    "    )"
   ]
  }
 ],
 "metadata": {
  "kernelspec": {
   "display_name": "LSST",
   "language": "python",
   "name": "lsst"
  },
  "language_info": {
   "codemirror_mode": {
    "name": "ipython",
    "version": 3
   },
   "file_extension": ".py",
   "mimetype": "text/x-python",
   "name": "python",
   "nbconvert_exporter": "python",
   "pygments_lexer": "ipython3",
   "version": "3.8.8"
  },
  "toc-autonumbering": true,
  "toc-showmarkdowntxt": true
 },
 "nbformat": 4,
 "nbformat_minor": 5
}
