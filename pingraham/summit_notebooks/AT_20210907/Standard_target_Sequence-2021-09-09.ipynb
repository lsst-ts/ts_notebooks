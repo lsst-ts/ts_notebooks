{
 "cells": [
  {
   "cell_type": "markdown",
   "metadata": {},
   "source": [
    "# This notebook launches the LatissAcquireAndTakeSequence SAL script,\n",
    "### This is used to perform a single target observation as part of the sept 09, 2021 observing run. This is for obs #3 as described in the Spectroscopy-sep2021 document that was used to plan the 2021-09-07 AuxTel run"
   ]
  },
  {
   "cell_type": "markdown",
   "metadata": {},
   "source": [
    "#### This script is used to both acquire a target and put it within a radius of a pixel that is specific to the grating. The script is then be used to take a series of images with different filter and grating combinations. The focus and pointing adjustments associted with each filter and grating as performed automatically by the ATAOS (so long as the atspectrograph correction is enabled)"
   ]
  },
  {
   "cell_type": "code",
   "execution_count": null,
   "metadata": {},
   "outputs": [],
   "source": [
    "import sys\n",
    "import os\n",
    "import asyncio\n",
    "import time\n",
    "\n",
    "import numpy as np\n",
    "import logging \n",
    "import yaml\n",
    "import astropy\n",
    "\n",
    "from lsst.ts import salobj\n",
    "from lsst.ts.idl.enums.Script import ScriptState\n",
    "\n",
    "from lsst.ts.externalscripts.auxtel.latiss_acquire_and_take_sequence import LatissAcquireAndTakeSequence"
   ]
  },
  {
   "cell_type": "code",
   "execution_count": null,
   "metadata": {},
   "outputs": [],
   "source": [
    "# Derive and index for the script that is specific to your user\n",
    "print(f'Your UID is {os.getuid()}')\n",
    "index=os.getuid()*10+np.random.randint(0,9)\n",
    "print(f'The generated index is {index}')"
   ]
  },
  {
   "cell_type": "code",
   "execution_count": null,
   "metadata": {},
   "outputs": [],
   "source": [
    "# Instantiate the script then start all remotes\n",
    "script = LatissAcquireAndTakeSequence(index=index)\n",
    "await script.start_task"
   ]
  },
  {
   "cell_type": "code",
   "execution_count": null,
   "metadata": {},
   "outputs": [],
   "source": [
    "# set the script to have a DEBUG log level\n",
    "script.log.level = logging.DEBUG"
   ]
  },
  {
   "cell_type": "markdown",
   "metadata": {},
   "source": [
    "## Declare the Target"
   ]
  },
  {
   "cell_type": "code",
   "execution_count": null,
   "metadata": {},
   "outputs": [],
   "source": [
    "target='HD 185975'\n",
    "# naively planning to use sequence between HD185975 (pole),  HD200654, HD 009051, HD031128  - BUT THIS MAY CHANGE"
   ]
  },
  {
   "cell_type": "code",
   "execution_count": null,
   "metadata": {},
   "outputs": [],
   "source": [
    "# Print the available instrument filter and gratings\n",
    "# this is useful both for slewing and for the configuration steps below\n",
    "inst_setup = await script.latiss.get_available_instrument_setup()\n",
    "print(f'filters are: {inst_setup[0]},\\ngratings are: {inst_setup[1]}')"
   ]
  },
  {
   "cell_type": "code",
   "execution_count": null,
   "metadata": {},
   "outputs": [],
   "source": []
  },
  {
   "cell_type": "markdown",
   "metadata": {},
   "source": [
    "## Procedure 1 - Performing the acquisition ONLY"
   ]
  },
  {
   "cell_type": "code",
   "execution_count": null,
   "metadata": {},
   "outputs": [],
   "source": [
    "# The configurable parameters can be seen from either inside the script or from uncommenting the following command\n",
    "# script.get_schema()"
   ]
  },
  {
   "cell_type": "code",
   "execution_count": null,
   "metadata": {},
   "outputs": [],
   "source": [
    "# Be sure to set the target, filter and grating to the appropriate setup you want to use for data taking.\n",
    "# The position of the target on the detector is related to the grating.\n",
    "configuration = yaml.safe_dump({\"object_name\": target,\n",
    "                                \"do_acquire\": True,\n",
    "                                \"acq_filter\": 'FELH0600',\n",
    "                                \"acq_grating\": 'ronchi170lpmm',\n",
    "                                \"acq_exposure_time\": 2.0,\n",
    "                                \"target_pointing_tolerance\": 3.0,       # Target positioning tolerance (arcsec)\n",
    "                                \"max_acq_iter\": 3,                     # Maximum number of iterations to perform when acquiring\n",
    "                                \"target_pointing_verification\": True,  # Takes an additional image showing the final target position\n",
    "                                \"dataPath\": '/project/shared/auxTel/rerun/quickLook',\n",
    "                               })\n",
    "print(configuration)"
   ]
  },
  {
   "cell_type": "code",
   "execution_count": null,
   "metadata": {},
   "outputs": [],
   "source": [
    "# Set script state to UNCONFIGURED\n",
    "# this is required to run the script a 2nd time but otherwise is a no-op\n",
    "script.set_state(ScriptState.UNCONFIGURED)\n",
    "# Configure the script, which puts the ScriptState to CONFIGURED\n",
    "config_data = script.cmd_configure.DataType()\n",
    "config_data.config = configuration\n",
    "await script.do_configure(config_data)"
   ]
  },
  {
   "cell_type": "code",
   "execution_count": null,
   "metadata": {},
   "outputs": [],
   "source": [
    "# ATAOS must be on and corrections enabled, do as follows if required\n",
    "# await script.atcs.rem.ataos.cmd_enableCorrection.set_start(m1=True, hexapod=True, atspectrograph=True)"
   ]
  },
  {
   "cell_type": "code",
   "execution_count": null,
   "metadata": {},
   "outputs": [],
   "source": [
    "# run script, assigning the same group ID to all the images taken in the acquisition\n",
    "group_id_data = script.cmd_setGroupId.DataType(\n",
    "                groupId=astropy.time.Time.now().isot\n",
    "            )\n",
    "await script.do_setGroupId(group_id_data)\n",
    "\n",
    "await script.arun()"
   ]
  },
  {
   "cell_type": "code",
   "execution_count": null,
   "metadata": {},
   "outputs": [],
   "source": [
    "# If required, then stop the telescope from tracking, but then you will lose your acquisition\n",
    "# await script.atcs.stop_tracking()"
   ]
  },
  {
   "cell_type": "code",
   "execution_count": null,
   "metadata": {},
   "outputs": [],
   "source": []
  },
  {
   "cell_type": "markdown",
   "metadata": {},
   "source": [
    "## Performing the science data collection"
   ]
  },
  {
   "cell_type": "code",
   "execution_count": null,
   "metadata": {},
   "outputs": [],
   "source": [
    "# The configurable parameters can be seen from either inside the script or from uncommenting the following command\n",
    "# script.get_schema()"
   ]
  },
  {
   "cell_type": "code",
   "execution_count": null,
   "metadata": {},
   "outputs": [],
   "source": [
    "# Be sure to set the target, filter and grating to the appropriate setup you want to use for data taking.\n",
    "# The position of the target on the detector is related to the grating.\n",
    "configuration = yaml.safe_dump({\"object_name\": target,\n",
    "                                \"do_take_sequence\": True,\n",
    "                                \"exposure_time_sequence\" : [20, 20, 20, 20, 10]*2, \n",
    "                                \"grating_sequence\": ['ronchi170lpmm','ronchi170lpmm','ronchi170lpmm','ronchi170lpmm',\n",
    "                                                     'ronchi170lpmm',\n",
    "                                                    'holo4_003','holo4_003','holo4_003','holo4_003',\n",
    "                                                    'holo4_003',],\n",
    "                                \"filter_sequence\": ['empty_1','empty_1', 'BG40','FELH0600',\n",
    "                                                    'quadnotch1',\n",
    "                                                    'empty_1','empty_1', 'BG40','FELH0600',\n",
    "                                                    'quadnotch1',], \n",
    "                                })\n",
    "print(configuration)"
   ]
  },
  {
   "cell_type": "code",
   "execution_count": null,
   "metadata": {},
   "outputs": [],
   "source": [
    "# Set script state to UNCONFIGURED\n",
    "# this is required to run the script a 2nd time but otherwise is a no-op\n",
    "script.set_state(ScriptState.UNCONFIGURED)\n",
    "# Configure the script, which puts the ScriptState to CONFIGURED\n",
    "config_data = script.cmd_configure.DataType()\n",
    "config_data.config = configuration\n",
    "await script.do_configure(config_data)"
   ]
  },
  {
   "cell_type": "code",
   "execution_count": null,
   "metadata": {},
   "outputs": [],
   "source": [
    "# ATAOS must be on and corrections enabled, do as follows if required\n",
    "# await script.atcs.rem.ataos.cmd_enableCorrection.set_start(m1=True, hexapod=True, atspectrograph=True)"
   ]
  },
  {
   "cell_type": "code",
   "execution_count": null,
   "metadata": {},
   "outputs": [],
   "source": [
    "# run script, assigning the same group ID to all the images taken in the acquisition\n",
    "group_id_data = script.cmd_setGroupId.DataType(\n",
    "                groupId=astropy.time.Time.now().isot\n",
    "            )\n",
    "await script.do_setGroupId(group_id_data)\n",
    "\n",
    "await script.arun()"
   ]
  },
  {
   "cell_type": "code",
   "execution_count": null,
   "metadata": {},
   "outputs": [],
   "source": [
    "# If required, then stop the telescope from tracking, but then you will lose your acquisition\n",
    "# await script.atcs.stop_tracking()"
   ]
  },
  {
   "cell_type": "code",
   "execution_count": null,
   "metadata": {},
   "outputs": [],
   "source": []
  },
  {
   "cell_type": "code",
   "execution_count": null,
   "metadata": {},
   "outputs": [],
   "source": []
  },
  {
   "cell_type": "code",
   "execution_count": null,
   "metadata": {},
   "outputs": [],
   "source": []
  },
  {
   "cell_type": "code",
   "execution_count": null,
   "metadata": {},
   "outputs": [],
   "source": []
  }
 ],
 "metadata": {
  "kernelspec": {
   "display_name": "LSST",
   "language": "python",
   "name": "lsst"
  },
  "language_info": {
   "codemirror_mode": {
    "name": "ipython",
    "version": 3
   },
   "file_extension": ".py",
   "mimetype": "text/x-python",
   "name": "python",
   "nbconvert_exporter": "python",
   "pygments_lexer": "ipython3",
   "version": "3.8.8"
  }
 },
 "nbformat": 4,
 "nbformat_minor": 4
}
