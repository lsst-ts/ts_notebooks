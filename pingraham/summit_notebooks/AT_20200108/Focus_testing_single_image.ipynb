{
 "cells": [
  {
   "cell_type": "markdown",
   "metadata": {},
   "source": [
    "### Notebook to be used to perform manual focus testing using ACCS Images"
   ]
  },
  {
   "cell_type": "code",
   "execution_count": null,
   "metadata": {},
   "outputs": [],
   "source": [
    "import numpy as np\n",
    "#from lsst.ts import salobj\n",
    "import asyncio\n",
    "from astropy.io import fits\n",
    "\n",
    "import warnings\n",
    "#import matplotlib.pyplot as plt  # imported as py above\n",
    "from astropy.modeling import models, fitting\n",
    "from scipy.ndimage.filters import gaussian_filter as gauss_filt\n",
    "from matplotlib import pyplot as plt\n",
    "\n",
    "import copy\n",
    "from pathlib import Path"
   ]
  },
  {
   "cell_type": "code",
   "execution_count": null,
   "metadata": {},
   "outputs": [],
   "source": [
    "import numpy as np\n",
    "import logging\n",
    "logger = logging.getLogger('calc_CofM_logger')\n",
    "\n",
    "def calc_CofM(array, offset=(0,0)):\n",
    "    # Function takes a a 2d Array and computes the CofM\n",
    "    \n",
    "    # offset is the coordinate of the minimum y and x pixel\n",
    "    \n",
    "    \n",
    "    #just make it easier to parse the code below\n",
    "    shape=array.shape\n",
    "        \n",
    "    # Build 2d index arrays for calculations\n",
    "    pix_index_1d_arr=np.arange(0, shape[0], 1)+ offset[0]\n",
    "    ones_array_2d=np.ones([shape[1], shape[0]])\n",
    "    y_index_arr_2d=np.transpose(pix_index_1d_arr*ones_array_2d)\n",
    "    \n",
    "    # Can't just use the transpose of the y_index_arr_2d\n",
    "    # since we're supporting non-symmetrical arrays\n",
    "    pix_index_1d_arr=np.arange(0, shape[1], 1) + offset[1]\n",
    "    ones_array_2d=np.ones([shape[0], shape[1]])\n",
    "    # array will be left to right so need to transpose\n",
    "    x_index_arr_2d=pix_index_1d_arr*ones_array_2d\n",
    "\n",
    "    # Calculate the centroid\n",
    "    y_CofM = np.sum(y_index_arr_2d*array)/np.sum(array)\n",
    "    x_CofM = np.sum(x_index_arr_2d*array)/np.sum(array)\n",
    "    \n",
    "    logger.info('y_CofM is {}'.format(y_CofM))\n",
    "    logger.info('x_CofM is {}'.format(x_CofM))\n",
    "\n",
    "    return(y_CofM, x_CofM)"
   ]
  },
  {
   "cell_type": "code",
   "execution_count": null,
   "metadata": {},
   "outputs": [],
   "source": [
    "# Generate a set of test data\n",
    "if False:\n",
    "    array_size=(3520, 4656)\n",
    "    psf_avg_pos = (array_size[0]/5.03, array_size[1]/3.05)\n",
    "    psf_avg_sigma = float(18) # sigma in pixels\n",
    "    max_pos_err= float(100.0) # maximum position random error in pixels\n",
    "    max_sigma_err = float(3) # maximum variation in sigma\n",
    "    amplitude = float(1000) #amplitude of gaussian\n",
    "    dark_curr = 100\n",
    "    n_frames = 11\n",
    "\n",
    "    # Generate x,y,z data, where z is generated in the loop\n",
    "    y, x = np.mgrid[:array_size[0], :array_size[1]]\n",
    "\n",
    "    for n in np.arange(0,n_frames):\n",
    "        # create base detector array\n",
    "        im0 = np.zeros((array_size))+dark_curr\n",
    "        # make Z array\n",
    "        z=copy.deepcopy(im0)\n",
    "\n",
    "        # put random offsets on parameters\n",
    "        xoffset = max_pos_err*np.random.random()\n",
    "        yoffset = max_pos_err*np.random.random()\n",
    "        stddev_offset = max_sigma_err*np.random.random()\n",
    "\n",
    "        # create data using astropy.modeling\n",
    "        psf = models.Gaussian2D.evaluate(x,y, amplitude=amplitude, x_mean=psf_avg_pos[1]+xoffset,\n",
    "                               y_mean=psf_avg_pos[0]+yoffset, \n",
    "                               x_stddev=psf_avg_sigma+stddev_offset,\n",
    "                               y_stddev=psf_avg_sigma+stddev_offset,\n",
    "                               theta=0.0)\n",
    "\n",
    "        #add shot noise\n",
    "        #psf+= (np.sqrt(psf)*np.random.randn(array_size[0], array_size[1]))\n",
    "\n",
    "        # Display image?\n",
    "        if False:\n",
    "            fig2, ax2 = plt.subplots(figsize=(7,6))\n",
    "            ax2.imshow(psf, interpolation='none')\n",
    "\n",
    "        # Write the fits files\n",
    "        hdu=None\n",
    "        hdu = fits.PrimaryHDU(psf)\n",
    "        hdul = fits.HDUList([hdu])\n",
    "        fname = '20190910-generated-psf'+str(n)+'.fits'\n",
    "        output_folder = Path(\"/home/saluser/data/20190910\")\n",
    "        print('writing psf file {}'.format(fname))\n",
    "        hdul.writeto(output_folder / fname, overwrite=True)"
   ]
  },
  {
   "cell_type": "code",
   "execution_count": null,
   "metadata": {},
   "outputs": [],
   "source": [
    "import os\n",
    "os.environ[\"LSST_DDS_DOMAIN\"]\n",
    "import sys\n",
    "import logging\n",
    "import asyncio\n",
    "from lsst.ts import salobj\n",
    "import wget"
   ]
  },
  {
   "cell_type": "code",
   "execution_count": null,
   "metadata": {},
   "outputs": [],
   "source": []
  },
  {
   "cell_type": "code",
   "execution_count": null,
   "metadata": {},
   "outputs": [],
   "source": [
    "d = salobj.Domain()\n",
    "gencam = salobj.Remote(d, 'GenericCamera', index=1)\n",
    "await gencam.start_task\n",
    "athexapod = salobj.Remote(d, 'ATHexapod')\n",
    "await athexapod.start_task"
   ]
  },
  {
   "cell_type": "code",
   "execution_count": null,
   "metadata": {},
   "outputs": [],
   "source": [
    "gencam.cmd_setLogLevel.set(level=logging.DEBUG)\n",
    "athexapod.cmd_setLogLevel.set(level=logging.DEBUG)"
   ]
  },
  {
   "cell_type": "code",
   "execution_count": null,
   "metadata": {},
   "outputs": [],
   "source": [
    "# Get summary state\n",
    "#print(salobj.State(gencam.evt_summaryState.get().summaryState))\n",
    "print(salobj.State(athexapod.evt_summaryState.get().summaryState))"
   ]
  },
  {
   "cell_type": "code",
   "execution_count": null,
   "metadata": {},
   "outputs": [],
   "source": [
    "# Get current position by telemetry\n",
    "# which is a list in X,Y,Z,U,V,Rot\n",
    "await asyncio.sleep(1)\n",
    "curr_hex_pos_telem = await athexapod.tel_positionStatus.next(flush = True, timeout=10)\n",
    "print(curr_hex_pos_telem)"
   ]
  },
  {
   "cell_type": "code",
   "execution_count": null,
   "metadata": {},
   "outputs": [],
   "source": [
    "# Move hexapod to desired position (in-focus)\n",
    "# Note that minimal motions in X,Y,Z are ~0.3um (0.0003mm), so go to 4 decimal places\n",
    "# minimal motions in U,V are ~3.5micro rads (0.0002 degrees), so go to 4 decimal places\n",
    "# Rotation is not used\n",
    "#hex_X, hex_Y, hex_Z, hex_U, hex_V, hex_R = [-4.29999921322, 1.19999866188-1000e-3, 0.50000155519-15e-3, 0.3500006508, 0.219999852315, -2.69867951921e-07]\n",
    "\n",
    "hex_X, hex_Y, hex_Z, hex_U, hex_V, hex_R = [-4.29999921322-850e-3, 1.19999866188-1000e-3, 0.50000155519+60.0e-3, 0.3500006508, 0.219999852315, -2.69867951921e-07]\n",
    "\n",
    "\n",
    "await athexapod.cmd_moveToPosition.set_start(x=hex_X, y=hex_Y,\n",
    "                                             z=hex_Z, u=hex_U, v=hex_V)"
   ]
  },
  {
   "cell_type": "code",
   "execution_count": null,
   "metadata": {},
   "outputs": [],
   "source": [
    "# stop liveview\n",
    "await gencam.cmd_stopLiveView.start()"
   ]
  },
  {
   "cell_type": "code",
   "execution_count": null,
   "metadata": {},
   "outputs": [],
   "source": [
    "# r.evt_endReadout.flush()\n",
    "await gencam.cmd_takeImages.set_start(numImages=50, expTime=0.3, shutter=True, imageSequenceName='psf')\n",
    "\n",
    "tmp = await gencam.evt_endReadout.next(flush=False, timeout=1)\n",
    "tmp = gencam.evt_endReadout.get()\n",
    "print(tmp.imageName)"
   ]
  },
  {
   "cell_type": "code",
   "execution_count": null,
   "metadata": {},
   "outputs": [],
   "source": [
    "\n"
   ]
  },
  {
   "cell_type": "code",
   "execution_count": null,
   "metadata": {},
   "outputs": [],
   "source": [
    "wget_url = 'http://139.229.170.216:8000/data/'+tmp.imageName+'.fits'\n",
    "print(wget_url)"
   ]
  },
  {
   "cell_type": "code",
   "execution_count": null,
   "metadata": {},
   "outputs": [],
   "source": [
    "filename = wget.download(wget_url)\n",
    "print('Grabbed/Wrote {} via wget'.format(filename))"
   ]
  },
  {
   "cell_type": "code",
   "execution_count": null,
   "metadata": {},
   "outputs": [],
   "source": [
    "# Declare where data is located and where output will be written, notably the stacked images\n",
    "data_folder = Path(\"/home/saluser/develop/ts_notebooks/pingraham/summit_notebooks/AT_20200108\")\n",
    "output_folder = Path(\"/home/saluser/data/output\")"
   ]
  },
  {
   "cell_type": "code",
   "execution_count": null,
   "metadata": {},
   "outputs": [],
   "source": [
    "im=(fits.open(data_folder / filename))[0].data"
   ]
  },
  {
   "cell_type": "code",
   "execution_count": null,
   "metadata": {},
   "outputs": [],
   "source": [
    "print(np.max(im))"
   ]
  },
  {
   "cell_type": "code",
   "execution_count": null,
   "metadata": {},
   "outputs": [],
   "source": [
    "if True:\n",
    "    im_sub=im-np.median(im)\n",
    "    plt.imshow(im_sub)"
   ]
  },
  {
   "cell_type": "code",
   "execution_count": null,
   "metadata": {},
   "outputs": [],
   "source": [
    "# Find star by convolution with gaussian, then grab the max\n",
    "tmp=gauss_filt(im,[5,5],mode='constant',cval=0)\n",
    "print(np.max(tmp))\n",
    "value=None\n",
    "ind=np.argmax(tmp)\n",
    "ind2d = np.unravel_index(ind,tmp.shape)\n",
    "print('centroid at y,x: {} {}'.format(ind2d[0],ind2d[1]))\n",
    "ind2d0=copy.deepcopy(ind2d)\n",
    "\n",
    "if False:\n",
    "    ind2d=np.array((362, 416))\n",
    "    print('OVERRIDING CENTROID to use')\n",
    "\n",
    "#ymin=1800 ; ymax=2048\n",
    "#xmin=280 ; xmax=450\n",
    "half_side=int(20)\n",
    "ymin = ind2d[0]-half_side if ind2d[0]-half_side > 0 else 0\n",
    "ymax = ind2d[0]+half_side if ind2d[0]+half_side < im.shape[0] else im.shape[1]\n",
    "xmin = ind2d[1]-half_side if ind2d[1]-half_side > 0 else 0\n",
    "xmax = ind2d[1]+half_side if ind2d[1]+half_side < im.shape[1] else im.shape[1]\n",
    "print('subimage being made from ymin,ymax,xmin,xmax:{} {} {} {}'.format(ymin,ymax,xmin,xmax))\n",
    "# new maximum at:\n",
    "ind=np.argmax(tmp[ymin:ymax,xmin:xmax])\n",
    "ind2d = np.unravel_index(ind,tmp[ymin:ymax,xmin:xmax].shape)\n",
    "print('new centroid at y,x: {} {}'.format(ind2d[0],ind2d[1]))"
   ]
  },
  {
   "cell_type": "code",
   "execution_count": null,
   "metadata": {},
   "outputs": [],
   "source": [
    "im.shape\n",
    "yoffset_pix=im.shape[0]/2 - ind2d0[0]\n",
    "xoffset_pix=im.shape[1]/2 - ind2d0[1]\n",
    "print('yoffset = {} pixels'.format(yoffset_pix))\n",
    "print('xoffset = {} pixels'.format(xoffset_pix))"
   ]
  },
  {
   "cell_type": "code",
   "execution_count": null,
   "metadata": {},
   "outputs": [],
   "source": [
    "binning=4\n",
    "plate_scale = 0.1 *1000 # um/arcsec\n",
    "pix_scl = 3.6*binning # um/pix\n",
    "\n",
    "yoffset_as = yoffset_pix * pix_scl / plate_scale\n",
    "xoffset_as = xoffset_pix * pix_scl / plate_scale\n",
    "print('yoffset is {} arcsec'.format(yoffset_as))\n",
    "print('xoffset is {} arcsec'.format(xoffset_as))"
   ]
  },
  {
   "cell_type": "code",
   "execution_count": null,
   "metadata": {},
   "outputs": [],
   "source": [
    "im_sub=im[ymin:ymax,xmin:xmax]\n",
    "im_sub=im_sub-np.median(im_sub)\n",
    "plt.imshow(im_sub)\n",
    "print(np.nanmax(im_sub))"
   ]
  },
  {
   "cell_type": "code",
   "execution_count": null,
   "metadata": {},
   "outputs": [],
   "source": [
    "im_sub=im[ymin:ymax,xmin:xmax]\n",
    "im_sub=im_sub-np.median(im_sub)\n",
    "plt.imshow(im_sub)\n",
    "print(np.nanmax(im_sub))"
   ]
  },
  {
   "cell_type": "code",
   "execution_count": null,
   "metadata": {},
   "outputs": [],
   "source": [
    "# Generate x,y,z data\n",
    "y, x = np.mgrid[:im_sub.shape[0], :im_sub.shape[1]]\n",
    "print(y[ind2d])\n",
    "print(x[ind2d])\n",
    "z=im_sub\n",
    "# Fit the data using astropy.modeling\n",
    "p_init = models.Gaussian2D(amplitude=np.nanmax(z),x_mean=x[ind2d], y_mean=y[ind2d], fixed={'theta':False})\n",
    "#p_init = models.Gaussian2D(amplitude=np.nanmax(z),x_mean=38, y_mean=51, x_stddev=3, y_stddev=3,  fixed={'theta':True})\n",
    "fit_p = fitting.LevMarLSQFitter()\n",
    "\n",
    "with warnings.catch_warnings():\n",
    "    # Ignore model linearity warning from the fitter\n",
    "    warnings.simplefilter('ignore')\n",
    "    p = fit_p(p_init, x, y, z)\n",
    "\n",
    "# Plot the data with the best-fit model\n",
    "plt.figure(figsize=(9, 5))\n",
    "plt.subplot(1, 3, 1)\n",
    "plt.imshow(z, origin='lower', interpolation='nearest')#, vmin=-1e4, vmax=5e4)\n",
    "plt.title(\"Data\")\n",
    "plt.subplot(1, 3, 2)\n",
    "plt.imshow(p(x, y), origin='lower', interpolation='nearest')#, vmin=-1e4, vmax=5e4)\n",
    "plt.title(\"Model\")\n",
    "plt.subplot(1, 3, 3)\n",
    "plt.imshow(z - p(x, y), origin='lower', interpolation='nearest')#, vmin=-1e4, vmax=5e4)\n",
    "plt.title(\"Residual\")"
   ]
  },
  {
   "cell_type": "code",
   "execution_count": null,
   "metadata": {},
   "outputs": [],
   "source": [
    "repr(p)"
   ]
  },
  {
   "cell_type": "code",
   "execution_count": null,
   "metadata": {},
   "outputs": [],
   "source": [
    "# FWHM [arcsec] = 3.35 [pix] * 10 [arcsec/mm] * 3.6e-3 [mm/pix]* 4 * 2.355 = 1.1 arcseconds (DIMM says ~0.9 arcsec)\n",
    "max_stddev_axis = np.max((p.x_stddev.value, p.y_stddev.value))\n",
    "print('Seeing = {} [arcsec]'.format(max_stddev_axis * 10 * 3.6e-3 * binning * 2.355))"
   ]
  },
  {
   "cell_type": "code",
   "execution_count": null,
   "metadata": {},
   "outputs": [],
   "source": [
    "binning"
   ]
  },
  {
   "cell_type": "code",
   "execution_count": null,
   "metadata": {},
   "outputs": [],
   "source": [
    "print('{}, {}, {}'.format(psf_fname, p.x_stddev.value, p.y_stddev.value))"
   ]
  },
  {
   "cell_type": "code",
   "execution_count": null,
   "metadata": {},
   "outputs": [],
   "source": [
    "# hexapod Z, filename, xsttd, ystddev\n",
    "# 0.300, 1325429366-bet_grus-0-1.fits, 20.17756577291818, 18.49931466099071\n",
    "# 0.032, 1325429366-bet_grus-0-1.fits, 18.605872647081075, 14.995560001304131\n",
    "# 0.33, 1325429366-bet_grus-0-1.fits, 17.535626208313843, 15.471926526885643\n",
    "# 0.35, 1325429366-bet_grus-0-1.fits, 16.925439176728673, 14.719989238436273\n",
    "# 0.34, \n"
   ]
  },
  {
   "cell_type": "markdown",
   "metadata": {},
   "source": [
    "\n"
   ]
  },
  {
   "cell_type": "code",
   "execution_count": null,
   "metadata": {},
   "outputs": [],
   "source": [
    "# Make an radial plot\n",
    "pix_index_1d_arr=np.arange(0,2*half_side,1)\n",
    "ones_array_2d=np.ones([2*half_side,2*half_side])\n",
    "#print(x_arr)\n",
    "#print(tmp)\n",
    "x_index_arr_2d=pix_index_1d_arr*ones_array_2d\n",
    "x_arr_2d=x_index_arr_2d - p.x_mean.value\n",
    "y_arr_2d= np.transpose(x_index_arr_2d) - p.y_mean.value\n",
    "# create array of radial distances (in pixels)\n",
    "r_arr_2d=np.sqrt(x_arr_2d**2 + y_arr_2d**2)"
   ]
  },
  {
   "cell_type": "code",
   "execution_count": null,
   "metadata": {},
   "outputs": [],
   "source": [
    "if False:\n",
    "    plt.imshow(r_arr_2d)\n",
    "    plt.colorbar()"
   ]
  },
  {
   "cell_type": "code",
   "execution_count": null,
   "metadata": {},
   "outputs": [],
   "source": [
    "r_arr_1d=np.reshape(r_arr_2d,(2*half_side)**2)\n",
    "values = np.reshape(z,(2*half_side)**2)"
   ]
  },
  {
   "cell_type": "code",
   "execution_count": null,
   "metadata": {},
   "outputs": [],
   "source": [
    "if True:\n",
    "    plt.ylabel('Intensity (ADU)')\n",
    "    plt.plot(r_arr_1d, values,'.')\n",
    "    plt.title('Radial PSF')\n",
    "    plt.xlabel('radius [pix]')\n",
    "    plt.show()\n",
    "    plt.close()"
   ]
  },
  {
   "cell_type": "code",
   "execution_count": null,
   "metadata": {},
   "outputs": [],
   "source": []
  }
 ],
 "metadata": {
  "kernelspec": {
   "display_name": "Python 3",
   "language": "python",
   "name": "python3"
  },
  "language_info": {
   "codemirror_mode": {
    "name": "ipython",
    "version": 3
   },
   "file_extension": ".py",
   "mimetype": "text/x-python",
   "name": "python",
   "nbconvert_exporter": "python",
   "pygments_lexer": "ipython3",
   "version": "3.6.8"
  }
 },
 "nbformat": 4,
 "nbformat_minor": 4
}
