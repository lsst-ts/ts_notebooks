{
 "cells": [
  {
   "cell_type": "code",
   "execution_count": null,
   "metadata": {},
   "outputs": [],
   "source": [
    "import sys\n",
    "import asyncio\n",
    "import time\n",
    "import os\n",
    "\n",
    "import numpy as np\n",
    "\n",
    "from lsst.ts import salobj\n",
    "\n",
    "from lsst.ts.observatory.control.auxtel.atcs import ATCS\n",
    "from lsst.ts.observatory.control.auxtel.latiss import LATISS\n",
    "\n",
    "from lsst.ts.observatory.control.utils import RotType"
   ]
  },
  {
   "cell_type": "code",
   "execution_count": null,
   "metadata": {},
   "outputs": [],
   "source": [
    "# for tab completion to work\n",
    "%config IPCompleter.use_jedi = False"
   ]
  },
  {
   "cell_type": "code",
   "execution_count": null,
   "metadata": {},
   "outputs": [],
   "source": [
    "import logging\n",
    "stream_handler = logging.StreamHandler(sys.stdout)\n",
    "logger = logging.getLogger()\n",
    "logger.addHandler(stream_handler)\n",
    "logger.level = logging.DEBUG"
   ]
  },
  {
   "cell_type": "code",
   "execution_count": null,
   "metadata": {},
   "outputs": [],
   "source": [
    "print(os.environ[\"OSPL_URI\"])\n",
    "print(os.environ[\"LSST_DDS_PARTITION_PREFIX\"])"
   ]
  },
  {
   "cell_type": "code",
   "execution_count": null,
   "metadata": {},
   "outputs": [],
   "source": [
    "#get classes and start them\n",
    "domain = salobj.Domain()\n",
    "await asyncio.sleep(10) # This can be removed in the future..."
   ]
  },
  {
   "cell_type": "code",
   "execution_count": null,
   "metadata": {},
   "outputs": [],
   "source": [
    "atcs = ATCS(domain)\n",
    "latiss = LATISS(domain)\n",
    "await asyncio.gather(atcs.start_task, latiss.start_task)"
   ]
  },
  {
   "cell_type": "code",
   "execution_count": null,
   "metadata": {},
   "outputs": [],
   "source": [
    "tmp = atcs.rem.atptg.evt_summaryState.get()\n",
    "print(salobj.State(tmp.summaryState))"
   ]
  },
  {
   "cell_type": "code",
   "execution_count": null,
   "metadata": {},
   "outputs": [],
   "source": [
    "tmp = await atcs.rem.atdome.evt_heartbeat.next(flush=True)\n",
    "print(tmp)"
   ]
  },
  {
   "cell_type": "code",
   "execution_count": null,
   "metadata": {},
   "outputs": [],
   "source": [
    "tmp = await latiss.rem.atspectrograph.evt_settingsApplied.aget()\n",
    "print(tmp)"
   ]
  },
  {
   "cell_type": "code",
   "execution_count": null,
   "metadata": {},
   "outputs": [],
   "source": [
    "await atcs.standby()"
   ]
  },
  {
   "cell_type": "code",
   "execution_count": null,
   "metadata": {},
   "outputs": [],
   "source": [
    "tmp = await latiss.rem.atarchiver.evt_heartbeat.next(flush=True, timeout=4)\n",
    "print(tmp)"
   ]
  },
  {
   "cell_type": "code",
   "execution_count": null,
   "metadata": {},
   "outputs": [],
   "source": [
    "tmp = await latiss.rem.atarchiver.cmd_enable.start()\n",
    "print(tmp)"
   ]
  },
  {
   "cell_type": "code",
   "execution_count": null,
   "metadata": {},
   "outputs": [],
   "source": [
    "tmp = await latiss.rem.atarchiver.evt_summaryState.aget()\n",
    "print(salobj.State(tmp.summaryState))"
   ]
  },
  {
   "cell_type": "code",
   "execution_count": null,
   "metadata": {},
   "outputs": [],
   "source": [
    "# enable components\n",
    "#await atcs.enable()\n",
    "await latiss.standby()"
   ]
  },
  {
   "cell_type": "code",
   "execution_count": null,
   "metadata": {},
   "outputs": [],
   "source": [
    "# ATDOME only\n",
    "tmp = await salobj.set_summary_state(atcs.rem.atdome, salobj.State.STANDBY, settingsToApply='test')\n",
    "#tmp = await salobj.set_summary_state(atcs.rem.atdometrajectory, salobj.State.STANDBY)\n",
    "#tmp=await atcs.rem.atdome.cmd_start.set_start(settingsToApply='test')\n",
    "#tmp=await atcs.rem.atdome.cmd_enable.start()\n",
    "#print(tmp)"
   ]
  },
  {
   "cell_type": "code",
   "execution_count": null,
   "metadata": {},
   "outputs": [],
   "source": [
    "# ATMCS\n",
    "tmp = await salobj.set_summary_state(atcs.rem.atmcs, salobj.State.STANDBY)\n",
    "# tmp=await atcs.rem.atpneumatics.cmd_start.start(timeout=5)\n",
    "print(tmp)"
   ]
  },
  {
   "cell_type": "code",
   "execution_count": null,
   "metadata": {},
   "outputs": [],
   "source": []
  },
  {
   "cell_type": "code",
   "execution_count": null,
   "metadata": {},
   "outputs": [],
   "source": [
    "tmp = await atcs.rem.atmcs.evt_heartbeat.next(flush=True, timeout=4)\n",
    "print(tmp)"
   ]
  },
  {
   "cell_type": "code",
   "execution_count": null,
   "metadata": {},
   "outputs": [],
   "source": [
    "# ATHexapod\n",
    "tmp = await salobj.set_summary_state(atcs.rem.athexapod, salobj.State.ENABLED, settingsToApply='summit')\n",
    "#tmp = await atcs.rem.athexapod.cmd_start.set_start(settingsToApply='auxtel_201912.yaml')"
   ]
  },
  {
   "cell_type": "code",
   "execution_count": null,
   "metadata": {},
   "outputs": [],
   "source": [
    "# ATPneumatics\n",
    "#tmp = await salobj.set_summary_state(atcs.rem.atpneumatics, salobj.State.STANDBY)\n",
    "tmp=await atcs.rem.atpneumatics.cmd_enable.start()"
   ]
  },
  {
   "cell_type": "code",
   "execution_count": null,
   "metadata": {},
   "outputs": [],
   "source": [
    "# ATPtg\n",
    "tmp = await salobj.set_summary_state(atcs.rem.atptg, salobj.State.ENABLED)\n",
    "#tmp=await atcs.rem.atptg.cmd_enable.start()\n",
    "# Need to manually say which rotator we're using at the moment (N2-->focus=3, N1-->focus=2)\n",
    "#await atcs.rem.atptg.cmd_focusName.set_start(focus=3)"
   ]
  },
  {
   "cell_type": "code",
   "execution_count": null,
   "metadata": {},
   "outputs": [],
   "source": [
    "# ATAOS\n",
    "tmp = await salobj.set_summary_state(atcs.rem.ataos, salobj.State.ENABLED)\n",
    "#tmp=await atcs.rem.ataos.cmd_enable.start()"
   ]
  },
  {
   "cell_type": "code",
   "execution_count": null,
   "metadata": {},
   "outputs": [],
   "source": [
    "await atcs.rem.atdome.cmd_homeAzimuth.start()"
   ]
  },
  {
   "cell_type": "code",
   "execution_count": null,
   "metadata": {},
   "outputs": [],
   "source": [
    "# This doesn't move anything! \n",
    "tmp=await atcs.rem.atdome.cmd_moveAzimuth.set_start(5)\n",
    "print(tmp)"
   ]
  },
  {
   "cell_type": "code",
   "execution_count": null,
   "metadata": {},
   "outputs": [],
   "source": [
    "# This does\n",
    "tmp=await atcs.rem.atdome.cmd_moveAzimuth.set_start(azimuth=0)\n",
    "print(tmp)"
   ]
  },
  {
   "cell_type": "code",
   "execution_count": null,
   "metadata": {},
   "outputs": [],
   "source": [
    "# ATHexapod\n",
    "tmp = await salobj.set_summary_state(atcs.rem.athexapod, salobj.State.STANDBY, settingsToApply='summit')\n",
    "#tmp=await atcs.rem.athexapod.cmd_start.set_start(settingsToApply='summit')\n",
    "#tmp=await atcs.rem.athexapod.cmd_enable.start()\n",
    "print(tmp)"
   ]
  },
  {
   "cell_type": "code",
   "execution_count": null,
   "metadata": {},
   "outputs": [],
   "source": [
    "# ATSPECTROGRAPH\n",
    "tmp = await salobj.set_summary_state(latiss.rem.atspectrograph, salobj.State.ENABLED, settingsToApply='current')\n",
    "#tmp=await latiss.rem.atspectrograph.cmd_start.set_start(settingsToApply='LATISS_AuxTel_20210108.yaml')\n",
    "#tmp=await latiss.rem.atspectrograph.cmd_enable.start()\n",
    "print(tmp)"
   ]
  },
  {
   "cell_type": "code",
   "execution_count": null,
   "metadata": {},
   "outputs": [],
   "source": [
    "# ATCamera\n",
    "tmp = await latiss.rem.atcamera.evt_heartbeat.next(flush=True, timeout=4)\n",
    "#tmp = await salobj.set_summary_state(latiss.rem.atcamera, salobj.State.ENABLED, settingsToApply='current')\n",
    "#tmp=await latiss.rem.atcamera.cmd_enterControl.start()\n",
    "\n",
    "print(tmp)"
   ]
  },
  {
   "cell_type": "code",
   "execution_count": null,
   "metadata": {},
   "outputs": [],
   "source": [
    "await atcs.stop_tracking()"
   ]
  },
  {
   "cell_type": "code",
   "execution_count": null,
   "metadata": {},
   "outputs": [],
   "source": []
  },
  {
   "cell_type": "code",
   "execution_count": null,
   "metadata": {},
   "outputs": [],
   "source": []
  },
  {
   "cell_type": "code",
   "execution_count": null,
   "metadata": {},
   "outputs": [],
   "source": [
    "# take event checking out the slew commands to test telescope only\n",
    "atcs.check.atdome = False\n",
    "atcs.check.atdometrajectory = False"
   ]
  },
  {
   "cell_type": "code",
   "execution_count": null,
   "metadata": {},
   "outputs": [],
   "source": [
    "offset = 1.12 #2./3600\n",
    "start_az=0+offset\n",
    "start_el=80+offset\n",
    "start_rot_pa=1.5+offset\n",
    "await atcs.point_azel(start_az, start_el, rot_tel=start_rot_pa, wait_dome=False)"
   ]
  },
  {
   "cell_type": "code",
   "execution_count": null,
   "metadata": {},
   "outputs": [],
   "source": [
    "# Perform Rotator verification (LTS-337-003)True"
   ]
  },
  {
   "cell_type": "code",
   "execution_count": null,
   "metadata": {},
   "outputs": [],
   "source": [
    "await atcs.rem.atmcs.cmd_abort.start()"
   ]
  },
  {
   "cell_type": "code",
   "execution_count": null,
   "metadata": {},
   "outputs": [],
   "source": [
    "await atcs.stop_tracking()"
   ]
  },
  {
   "cell_type": "code",
   "execution_count": null,
   "metadata": {},
   "outputs": [],
   "source": [
    "start_az=-58\n",
    "start_el=35\n",
    "start_rot_pa=13.1\n",
    "await atcs.point_azel(start_az, start_el, rot_tel=start_rot_pa, wait_dome=False)"
   ]
  },
  {
   "cell_type": "code",
   "execution_count": null,
   "metadata": {},
   "outputs": [],
   "source": [
    "start_az=165.5\n",
    "start_el=67.9\n",
    "start_rot_pa=170\n",
    "\n",
    "start_time =time.time()\n",
    "await atcs.point_azel(start_az, start_el, rot_pa=start_rot_pa, wait_dome=True)\n",
    "end_time = time.time()\n",
    "print(f'Time to perform {170*2} degree rotation of N2 is {end_time-start_time} seconds')"
   ]
  },
  {
   "cell_type": "code",
   "execution_count": null,
   "metadata": {},
   "outputs": [],
   "source": []
  },
  {
   "cell_type": "code",
   "execution_count": null,
   "metadata": {},
   "outputs": [],
   "source": [
    "# send telescope to alt/az/\n",
    "#await salobj.set_summary_state(latiss.atcamera, salobj.State.ENABLED)"
   ]
  },
  {
   "cell_type": "code",
   "execution_count": null,
   "metadata": {},
   "outputs": [],
   "source": [
    "# point telescope to desired starting position\n",
    "# this make take extra time as more checks are performed\n",
    "start_az=0\n",
    "start_el=70\n",
    "start_rot_pa=0\n",
    "await atcs.point_azel(start_az, start_el, rot_tel=start_rot_pa, wait_dome=False)"
   ]
  },
  {
   "cell_type": "code",
   "execution_count": null,
   "metadata": {},
   "outputs": [],
   "source": [
    "#declare offset size\n",
    "d_az= 3.5 # degrees\n",
    "d_el = 3.5 # degrees\n",
    "d_rot= 3.5 # degrees\n",
    "\n",
    "d_az= 10 # degrees\n",
    "d_el = 10 # degrees\n",
    "d_rot= 10 # degrees\n",
    "\n",
    "d_az= 90 # degrees\n",
    "d_el = 60 # degrees\n",
    "d_rot= 90 # degrees"
   ]
  },
  {
   "cell_type": "code",
   "execution_count": null,
   "metadata": {},
   "outputs": [],
   "source": [
    "await atcs.stop_tracking()"
   ]
  },
  {
   "cell_type": "code",
   "execution_count": null,
   "metadata": {},
   "outputs": [],
   "source": []
  },
  {
   "cell_type": "code",
   "execution_count": null,
   "metadata": {},
   "outputs": [],
   "source": []
  },
  {
   "cell_type": "code",
   "execution_count": null,
   "metadata": {},
   "outputs": [],
   "source": [
    "from datetime import datetime\n",
    "\n",
    "now = datetime.now()\n",
    "\n",
    "current_time = now.strftime(\"%H:%M:%S\")\n",
    "print(f\"Current Time = {current_time}, or {time.time()}\")"
   ]
  },
  {
   "cell_type": "code",
   "execution_count": null,
   "metadata": {},
   "outputs": [],
   "source": [
    "now = datetime.now()\n",
    "current_time = now.strftime(\"%H:%M:%S\")\n",
    "print(f\"Current Time = {current_time}, or {time.time()}\")\n",
    "\n",
    "# Perform tracking test by taking continous 20s exposures\n",
    "#await attcs.slew_object('HD 167060')\n",
    "#await atcs.slew_object('HIP 100787')\n",
    "await atcs.slew_object('51 Cap')\n",
    "\n",
    "now = datetime.now()\n",
    "current_time = now.strftime(\"%H:%M:%S\")\n",
    "print(f\"Current Time = {current_time}, or {time.time()}\")"
   ]
  },
  {
   "cell_type": "code",
   "execution_count": null,
   "metadata": {},
   "outputs": [],
   "source": [
    "now = datetime.now()\n",
    "current_time = now.strftime(\"%H:%M:%S\")\n",
    "print(f\"Current Time = {current_time}, or {time.time()}\")\n",
    "await atcs.stop_tracking()"
   ]
  },
  {
   "cell_type": "code",
   "execution_count": null,
   "metadata": {},
   "outputs": [],
   "source": [
    "now = datetime.now()\n",
    "current_time = now.strftime(\"%H:%M:%S\")\n",
    "print(f\"Current Time = {current_time}, or {time.time()}\")\n",
    "await atcs.stop_tracking()"
   ]
  },
  {
   "cell_type": "code",
   "execution_count": null,
   "metadata": {},
   "outputs": [],
   "source": [
    "await latiss.take_object(exptime=15, grating='empty_1', filter='RG610')"
   ]
  },
  {
   "cell_type": "code",
   "execution_count": null,
   "metadata": {},
   "outputs": [],
   "source": [
    "await latiss.take_object(exptime=15, grating='ronchi90lpmm', filter='empty_1')"
   ]
  },
  {
   "cell_type": "code",
   "execution_count": null,
   "metadata": {},
   "outputs": [],
   "source": [
    "while True:\n",
    "    await latiss.take_object(exptime=15, grating='empty_1', filter='RG610')\n",
    "    await latiss.take_object(exptime=15, grating='ronchi90lpmm', filter='empty_1')"
   ]
  },
  {
   "cell_type": "code",
   "execution_count": null,
   "metadata": {},
   "outputs": [],
   "source": [
    "# stopped tracking elsewhere, then reslewed\n",
    "await atcs.slew_object('HR 8496')"
   ]
  },
  {
   "cell_type": "code",
   "execution_count": null,
   "metadata": {},
   "outputs": [],
   "source": [
    "await atcs.slew_object('HR 280')"
   ]
  },
  {
   "cell_type": "code",
   "execution_count": null,
   "metadata": {},
   "outputs": [],
   "source": [
    "# turn on corrections\n",
    "tmp = await atcs.rem.ataos.cmd_enableCorrection.set_start(m1=True, hexapod=True, atspectrograph=True)"
   ]
  },
  {
   "cell_type": "code",
   "execution_count": null,
   "metadata": {},
   "outputs": [],
   "source": [
    "# turn off corrections\n",
    "tmp = await atcs.rem.ataos.cmd_disableCorrection.set_start(m1=True, hexapod=True, atspectrograph=True)"
   ]
  },
  {
   "cell_type": "code",
   "execution_count": null,
   "metadata": {},
   "outputs": [],
   "source": [
    "# is ATAOS correcting?\n",
    "tmp = await atcs.rem.ataos.evt_correctionEnabled.aget()\n",
    "print(tmp)"
   ]
  },
  {
   "cell_type": "code",
   "execution_count": null,
   "metadata": {},
   "outputs": [],
   "source": [
    "tmp = await atcs.rem.ataos.evt_\n",
    "print(tmp)"
   ]
  },
  {
   "cell_type": "code",
   "execution_count": null,
   "metadata": {},
   "outputs": [],
   "source": [
    "tmp = await atcs.rem.atpneumatics.tel_m1AirPressure.aget()\n",
    "print(tmp)"
   ]
  },
  {
   "cell_type": "code",
   "execution_count": null,
   "metadata": {},
   "outputs": [],
   "source": [
    "# get offsets from ATAOS - after turning on atspectrograph correction\n",
    "# this had a filter in the beam? why is it not showing?  -- I think the display was just stale\n",
    "focus_offsets = await atcs.rem.ataos.evt_focusOffsetSummary.aget()\n",
    "print(focus_offsets)"
   ]
  },
  {
   "cell_type": "code",
   "execution_count": null,
   "metadata": {},
   "outputs": [],
   "source": [
    "# Verify that ATAOS handles focus/pointing offsets from grating change\n",
    "await latiss.rem.atspectrograph.cmd_changeFilter.set_start(filter=0)\n",
    "await latiss.rem.atspectrograph.cmd_changeDisperser.set_start(disperser=0)"
   ]
  },
  {
   "cell_type": "code",
   "execution_count": null,
   "metadata": {},
   "outputs": [],
   "source": [
    "# get offsets from ATAOS - after turning on atspectrograph correction\n",
    "# this had a filter in the beam? why is it not showing?\n",
    "focus_offsets = await atcs.rem.ataos.evt_focusOffsetSummary.aget()\n",
    "print(focus_offsets)"
   ]
  },
  {
   "cell_type": "code",
   "execution_count": null,
   "metadata": {},
   "outputs": [],
   "source": [
    "# Verify that ATAOS handles focus/pointing offsets from grating change\n",
    "await latiss.rem.atspectrograph.cmd_changeFilter.set_start(filter=0)\n",
    "await latiss.rem.atspectrograph.cmd_changeDisperser.set_start(disperser=0)"
   ]
  },
  {
   "cell_type": "code",
   "execution_count": null,
   "metadata": {},
   "outputs": [],
   "source": [
    "# get offsets from ATAOS - after turning on atspectrograph correction\n",
    "# this had a filter in the beam? why is it not showing?\n",
    "focus_offsets = await atcs.rem.ataos.evt_focusOffsetSummary.aget()\n",
    "print(focus_offsets)"
   ]
  },
  {
   "cell_type": "code",
   "execution_count": null,
   "metadata": {},
   "outputs": [],
   "source": [
    "# get pointing offsets from ATAOS\n",
    "pointing_offsets = await atcs.rem.ataos.evt_pointingOffsetSummary.aget()\n",
    "print(pointing_offsets)"
   ]
  },
  {
   "cell_type": "code",
   "execution_count": null,
   "metadata": {},
   "outputs": [],
   "source": [
    "# now apply user offset\n",
    "await atcs.rem.ataos.cmd_offset.set_start(z=1.34)"
   ]
  },
  {
   "cell_type": "code",
   "execution_count": null,
   "metadata": {},
   "outputs": [],
   "source": [
    "# get pointing offsets from ATAOS\n",
    "pointing_offsets = atcs.rem.ataos.evt_pointingOffsetSummary.get()\n",
    "print(pointing_offsets)"
   ]
  },
  {
   "cell_type": "code",
   "execution_count": null,
   "metadata": {},
   "outputs": [],
   "source": [
    "# reset offsets\n",
    "tmp = await atcs.rem.ataos.cmd_resetOffset.set_start(axis='z')"
   ]
  },
  {
   "cell_type": "code",
   "execution_count": null,
   "metadata": {},
   "outputs": [],
   "source": []
  },
  {
   "cell_type": "code",
   "execution_count": null,
   "metadata": {},
   "outputs": [],
   "source": [
    "# take LATISS images\n",
    "await latiss.take_bias(nbias=1)"
   ]
  },
  {
   "cell_type": "code",
   "execution_count": null,
   "metadata": {},
   "outputs": [],
   "source": [
    "# get offsets from ATAOS\n",
    "focus_offsets = await atcs.rem.ataos.evt_focusOffsetSummary.aget()\n",
    "print(focus_offsets)"
   ]
  },
  {
   "cell_type": "code",
   "execution_count": null,
   "metadata": {},
   "outputs": [],
   "source": [
    "atcs.rem.ataos.evt_focusOffsetSummary.flush()\n",
    "atcs.rem.ataos.evt_pointingOffsetSummary.flush()\n",
    "atcs.rem.ataos.evt_atspectrographCorrectionStarted.flush()\n",
    "atcs.rem.ataos.evt_atspectrographCorrectionCompleted.flush()\n",
    "await latiss.rem.atspectrograph.cmd_changeFilter.set_start(filter=1)\n",
    "await atcs.rem.ataos.evt_atspectrographCorrectionStarted.next(flush=False,timeout=10)\n",
    "await atcs.rem.ataos.evt_atspectrographCorrectionCompleted.next(flush=False,timeout=10)\n",
    "focus_offsets = await atcs.rem.ataos.evt_focusOffsetSummary.next(flush=False,timeout=10)\n",
    "pointing_offsets = await atcs.rem.ataos.evt_pointingOffsetSummary.next(flush=False,timeout=10)\n",
    "print(focus_offsets)\n",
    "print(pointing_offsets)"
   ]
  },
  {
   "cell_type": "code",
   "execution_count": null,
   "metadata": {},
   "outputs": [],
   "source": [
    "await latiss.rem.atspectrograph.cmd_changeDisperser.set_start(disperser=0)"
   ]
  },
  {
   "cell_type": "code",
   "execution_count": null,
   "metadata": {},
   "outputs": [],
   "source": [
    "atcs.rem.ataos.evt_focusOffsetSummary.flush()\n",
    "atcs.rem.ataos.evt_pointingOffsetSummary.flush()\n",
    "atcs.rem.ataos.evt_atspectrographCorrectionStarted.flush()\n",
    "atcs.rem.ataos.evt_atspectrographCorrectionCompleted.flush()\n",
    "await latiss.setup_atspec(filter=0, grating=0)\n",
    "await atcs.rem.ataos.evt_atspectrographCorrectionStarted.next(flush=False,timeout=10)\n",
    "await atcs.rem.ataos.evt_atspectrographCorrectionCompleted.next(flush=False,timeout=10)\n",
    "await atcs.rem.ataos.evt_atspectrographCorrectionStarted.next(flush=False,timeout=10)\n",
    "await atcs.rem.ataos.evt_atspectrographCorrectionCompleted.next(flush=False,timeout=10)\n",
    "focus_offsets = await atcs.rem.ataos.evt_focusOffsetSummary.next(flush=False,timeout=10)\n",
    "pointing_offsets = await atcs.rem.ataos.evt_pointingOffsetSummary.next(flush=False,timeout=10)\n",
    "print(focus_offsets)\n",
    "print(pointing_offsets)"
   ]
  },
  {
   "cell_type": "code",
   "execution_count": null,
   "metadata": {},
   "outputs": [],
   "source": [
    "def print_allAxesInPosition_log_message(id_data):\n",
    "    print(f'ATMCS allAxesInPosition event: {id_data}')\n",
    "# def print_inPosition_log_message(id_data):\n",
    "#     print(f'Hexapod inPosition event: {id_data}')"
   ]
  },
  {
   "cell_type": "code",
   "execution_count": null,
   "metadata": {},
   "outputs": [],
   "source": [
    "atcs.rem.sc.callback = None"
   ]
  },
  {
   "cell_type": "code",
   "execution_count": null,
   "metadata": {},
   "outputs": [],
   "source": [
    "atmcs_rem1.evt_allAxesInPosition.callback = print_allAxesInPosition_log_message\n",
    "# atcs.rem.athexapod.evt_inPosition.callback = print_inPosition_log_message"
   ]
  },
  {
   "cell_type": "code",
   "execution_count": null,
   "metadata": {},
   "outputs": [],
   "source": []
  },
  {
   "cell_type": "code",
   "execution_count": null,
   "metadata": {},
   "outputs": [],
   "source": [
    "asyncio.get_event_loop().run_forever()"
   ]
  },
  {
   "cell_type": "code",
   "execution_count": null,
   "metadata": {},
   "outputs": [],
   "source": [
    "await atcs.rem.ataos.cmd_offset.set_start(z=-0.1)"
   ]
  },
  {
   "cell_type": "code",
   "execution_count": null,
   "metadata": {},
   "outputs": [],
   "source": [
    "await atcs.rem.ataos.cmd_resetOffset.set_start(axis='z')"
   ]
  },
  {
   "cell_type": "code",
   "execution_count": null,
   "metadata": {},
   "outputs": [],
   "source": [
    "await atcs.prepare_for_flatfield()"
   ]
  },
  {
   "cell_type": "code",
   "execution_count": null,
   "metadata": {},
   "outputs": [],
   "source": [
    "await atcs.rem.atpneumatics.cmd_closeM1Cover.start()"
   ]
  },
  {
   "cell_type": "code",
   "execution_count": null,
   "metadata": {},
   "outputs": [],
   "source": [
    "await atcs.point_azel(atcs.tel_park_az, atcs.tel_park_el, atcs.tel_park_rot, wait_dome=False)"
   ]
  },
  {
   "cell_type": "code",
   "execution_count": null,
   "metadata": {},
   "outputs": [],
   "source": [
    "await atcs.stop_tracking()"
   ]
  },
  {
   "cell_type": "code",
   "execution_count": null,
   "metadata": {},
   "outputs": [],
   "source": [
    "domain = salobj.Domain()\n",
    "atmcs_rem1 = salobj.Remote(name=\"ATMCS\", domain=domain)"
   ]
  },
  {
   "cell_type": "code",
   "execution_count": null,
   "metadata": {},
   "outputs": [],
   "source": [
    "await atmcs_rem1.start_task"
   ]
  },
  {
   "cell_type": "code",
   "execution_count": null,
   "metadata": {},
   "outputs": [],
   "source": [
    "atmcs_rem1.evt_allAxesInPosition.callback = print_allAxesInPosition_log_message"
   ]
  },
  {
   "cell_type": "code",
   "execution_count": null,
   "metadata": {},
   "outputs": [],
   "source": [
    "offset= 1\n",
    "atcs.check.atdometrajectory = False\n",
    "atcs.check.atdome = False\n",
    "await atcs.point_azel(atcs.tel_park_az+offset, atcs.tel_park_el+offset, atcs.tel_park_rot, wait_dome=False)"
   ]
  },
  {
   "cell_type": "code",
   "execution_count": null,
   "metadata": {},
   "outputs": [],
   "source": [
    "atcs.tel_park_az"
   ]
  },
  {
   "cell_type": "code",
   "execution_count": null,
   "metadata": {},
   "outputs": [],
   "source": [
    "await atcs.stop_tracking()"
   ]
  },
  {
   "cell_type": "code",
   "execution_count": null,
   "metadata": {},
   "outputs": [],
   "source": [
    "await atcs.slew_object('TIC 152361572', rot_type=RotType.PhysicalSky, rot=100)"
   ]
  },
  {
   "cell_type": "code",
   "execution_count": null,
   "metadata": {},
   "outputs": [],
   "source": [
    "await atcs.prepare_for_flatfield()"
   ]
  },
  {
   "cell_type": "code",
   "execution_count": null,
   "metadata": {},
   "outputs": [],
   "source": [
    "atcs.check.atdome=True"
   ]
  },
  {
   "cell_type": "code",
   "execution_count": null,
   "metadata": {},
   "outputs": [],
   "source": [
    "await atcs.shutdown()"
   ]
  },
  {
   "cell_type": "code",
   "execution_count": null,
   "metadata": {},
   "outputs": [],
   "source": []
  },
  {
   "cell_type": "code",
   "execution_count": null,
   "metadata": {},
   "outputs": [],
   "source": [
    "await atcs.rem.atdome.cmd_moveShutterDropoutDoor.set_start(open=False)"
   ]
  }
 ],
 "metadata": {
  "kernelspec": {
   "display_name": "LSST",
   "language": "python",
   "name": "lsst"
  },
  "language_info": {
   "codemirror_mode": {
    "name": "ipython",
    "version": 3
   },
   "file_extension": ".py",
   "mimetype": "text/x-python",
   "name": "python",
   "nbconvert_exporter": "python",
   "pygments_lexer": "ipython3",
   "version": "3.8.8"
  }
 },
 "nbformat": 4,
 "nbformat_minor": 4
}
