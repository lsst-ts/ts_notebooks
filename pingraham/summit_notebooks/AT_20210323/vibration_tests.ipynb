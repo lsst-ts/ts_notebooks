{
 "cells": [
  {
   "cell_type": "code",
   "execution_count": null,
   "metadata": {},
   "outputs": [],
   "source": [
    "# This notebook is how to do a test that stops the telescope and lets stars drift through the field."
   ]
  },
  {
   "cell_type": "code",
   "execution_count": null,
   "metadata": {},
   "outputs": [],
   "source": [
    "# As a precondition, and not part of this notebook, the telescope system should be fully enabled and configured."
   ]
  },
  {
   "cell_type": "code",
   "execution_count": null,
   "metadata": {},
   "outputs": [],
   "source": [
    "import sys\n",
    "import asyncio\n",
    "import time\n",
    "import os\n",
    "from datetime import datetime\n",
    "\n",
    "import numpy as np\n",
    "\n",
    "from lsst.ts import salobj\n",
    "\n",
    "from lsst.ts.observatory.control.auxtel.atcs import ATCS\n",
    "from lsst.ts.observatory.control.auxtel.latiss import LATISS\n",
    "from lsst.ts.observatory.control.utils import RotType\n",
    "\n",
    "from astropy.time import Time\n",
    "from astropy.coordinates import AltAz, ICRS, EarthLocation, Angle, FK5\n",
    "import astropy.units as u\n",
    "location = EarthLocation.from_geodetic(lon=-70.747698*u.deg,\n",
    "                                       lat=-30.244728*u.deg,\n",
    "                                       height=2663.0*u.m)"
   ]
  },
  {
   "cell_type": "code",
   "execution_count": null,
   "metadata": {},
   "outputs": [],
   "source": [
    "# for tab completion to work in current notebook instance\n",
    "%config IPCompleter.use_jedi = False"
   ]
  },
  {
   "cell_type": "code",
   "execution_count": null,
   "metadata": {},
   "outputs": [],
   "source": [
    "import logging\n",
    "stream_handler = logging.StreamHandler(sys.stdout)\n",
    "logger = logging.getLogger()\n",
    "logger.addHandler(stream_handler)\n",
    "logger.level = logging.DEBUG"
   ]
  },
  {
   "cell_type": "code",
   "execution_count": null,
   "metadata": {},
   "outputs": [],
   "source": [
    "#get catcs.rem.atmcs.evt_summaryState\n",
    "domain = salobj.Domain()\n",
    "await asyncio.sleep(10) # This can be removed in the future..."
   ]
  },
  {
   "cell_type": "code",
   "execution_count": null,
   "metadata": {},
   "outputs": [],
   "source": [
    "atcs = ATCS(domain)\n",
    "latiss = LATISS(domain)\n",
    "await asyncio.gather(atcs.start_task, latiss.start_task)"
   ]
  },
  {
   "cell_type": "code",
   "execution_count": null,
   "metadata": {},
   "outputs": [],
   "source": [
    "print(os.environ[\"OSPL_URI\"])\n",
    "print(os.environ[\"LSST_DDS_PARTITION_PREFIX\"])"
   ]
  },
  {
   "cell_type": "code",
   "execution_count": null,
   "metadata": {},
   "outputs": [],
   "source": [
    "tmp = await atcs.rem.atmcs.evt_summaryState.aget()\n",
    "print(tmp)"
   ]
  },
  {
   "cell_type": "code",
   "execution_count": null,
   "metadata": {},
   "outputs": [],
   "source": [
    "# enable components if required\n",
    "# await atcs.standby()\n",
    "# await latiss.standby()"
   ]
  },
  {
   "cell_type": "code",
   "execution_count": null,
   "metadata": {},
   "outputs": [],
   "source": [
    "# make sure ATAOS corrections are on\n",
    "tmp = await atcs.rem.ataos.cmd_enableCorrection.set_start(m1=True, hexapod=True, atspectrograph=True)"
   ]
  },
  {
   "cell_type": "code",
   "execution_count": null,
   "metadata": {},
   "outputs": [],
   "source": [
    "# Slew to target and setup instrument\n",
    "await atcs.slew_object(\"HR 2934\", rot_type=RotType.PhysicalSky, rot=-90)\n",
    "await latiss.setup_atspec(filter='RG610', grating='empty_1')"
   ]
  },
  {
   "cell_type": "code",
   "execution_count": null,
   "metadata": {},
   "outputs": [],
   "source": [
    "# take a quick image\n",
    "await latiss.take_object(5)"
   ]
  },
  {
   "cell_type": "code",
   "execution_count": null,
   "metadata": {},
   "outputs": [],
   "source": [
    "# offset in azimuth and take a quick image\n",
    "az_offset=60 # arcsec\n",
    "el_offset=0 # arcsec\n",
    "await atcs.offset_azel(az_offset, el_offset)\n",
    "await asyncio.sleep(2)\n",
    "await latiss.take_object(5)"
   ]
  },
  {
   "cell_type": "code",
   "execution_count": null,
   "metadata": {},
   "outputs": [],
   "source": [
    "# offset in elevation and take a quick image\n",
    "az_offset=-60 # arcsec\n",
    "el_offset=60 # arcsec\n",
    "await atcs.offset_azel(az_offset, el_offset)\n",
    "await asyncio.sleep(2)\n",
    "await latiss.take_object(5)"
   ]
  },
  {
   "cell_type": "code",
   "execution_count": null,
   "metadata": {},
   "outputs": [],
   "source": [
    "# Slew back target by resetting offsets then verify\n",
    "await atcs.reset_offsets()\n",
    "await asyncio.sleep(2)\n",
    "await latiss.take_object(5)"
   ]
  },
  {
   "cell_type": "code",
   "execution_count": null,
   "metadata": {},
   "outputs": [],
   "source": [
    "# Slew to target and setup instrument\n",
    "await atcs.slew_object(\"HR 2934\", rot_type=RotType.PhysicalSky, rot=-90)\n",
    "await latiss.take_object(2)"
   ]
  },
  {
   "cell_type": "code",
   "execution_count": null,
   "metadata": {},
   "outputs": [],
   "source": [
    "# Offset in RA, turn off tracking, start long exposure\n",
    "ra_offset=-60*4 # 2 arcminute offset\n",
    "dec_offset = 0\n",
    "await atcs.offset_radec(ra_offset, dec_offset)\n",
    "await asyncio.sleep(2)\n",
    "# stop tracking, then start exposing"
   ]
  },
  {
   "cell_type": "code",
   "execution_count": null,
   "metadata": {},
   "outputs": [],
   "source": [
    "#current_target = await atcs.rem.atptg.evt_currentTarget.aget(timeout=4) # isn't publishing alt-az! LAZY!\n",
    "current_target = await atcs.rem.atptg.tel_currentTargetStatus.next(flush=True, timeout=4) # isn't publishing alt-az!"
   ]
  },
  {
   "cell_type": "code",
   "execution_count": null,
   "metadata": {},
   "outputs": [],
   "source": [
    "print(current_target)"
   ]
  },
  {
   "cell_type": "code",
   "execution_count": null,
   "metadata": {},
   "outputs": [],
   "source": [
    "await atcs.point_azel(current_target.demandAz, current_target.demandEl, rot_tel=current_target.demandRot, wait_dome=True)\n",
    "await asyncio.sleep(2)\n",
    "await latiss.take_engtest(16)"
   ]
  },
  {
   "cell_type": "code",
   "execution_count": null,
   "metadata": {},
   "outputs": [],
   "source": [
    "# note demands velocities are in deg/s\n",
    "0.006491433512394764*3600"
   ]
  },
  {
   "cell_type": "code",
   "execution_count": null,
   "metadata": {},
   "outputs": [],
   "source": []
  },
  {
   "cell_type": "code",
   "execution_count": null,
   "metadata": {},
   "outputs": [],
   "source": [
    "# non siderial tests"
   ]
  },
  {
   "cell_type": "code",
   "execution_count": null,
   "metadata": {},
   "outputs": [],
   "source": [
    "# Slew to target and setup instrument\n",
    "await atcs.slew_object(\"HR 2934\", rot_type=RotType.PhysicalSky, rot=-90, ddec=10)\n",
    "await latiss.take_object(12)"
   ]
  },
  {
   "cell_type": "code",
   "execution_count": null,
   "metadata": {},
   "outputs": [],
   "source": [
    "await atcs.stop_tracking()"
   ]
  },
  {
   "cell_type": "code",
   "execution_count": null,
   "metadata": {},
   "outputs": [],
   "source": []
  },
  {
   "cell_type": "code",
   "execution_count": null,
   "metadata": {},
   "outputs": [],
   "source": [
    "# Slew to target and setup instrument\n",
    "await atcs.slew_object(\"HD 82446\", rot_type=RotType.PhysicalSky, rot=-90)\n",
    "await latiss.setup_atspec(filter='RG610', grating='empty_1')"
   ]
  },
  {
   "cell_type": "code",
   "execution_count": null,
   "metadata": {},
   "outputs": [],
   "source": [
    "current_target = await atcs.rem.atptg.tel_currentTargetStatus.next(flush=True, timeout=4) # isn't publishing alt-az!\n",
    "print(current_target)"
   ]
  },
  {
   "cell_type": "code",
   "execution_count": null,
   "metadata": {},
   "outputs": [],
   "source": []
  },
  {
   "cell_type": "code",
   "execution_count": null,
   "metadata": {},
   "outputs": [],
   "source": [
    "# Slew to target and setup instrument\n",
    "await atcs.slew_object(\"HD115782\", rot_type=RotType.PhysicalSky, rot=-110)\n",
    "await latiss.take_object(5)\n",
    "# ra_offset=60 # RA offset\n",
    "# dec_offset = 0\n",
    "# await atcs.offset_radec(ra_offset, dec_offset)\n",
    "# await latiss.take_object(2)"
   ]
  },
  {
   "cell_type": "code",
   "execution_count": null,
   "metadata": {},
   "outputs": [],
   "source": [
    "await atcs.rem.ataos.cmd_applyFocusOffset.set_start(offset=-0.8)"
   ]
  },
  {
   "cell_type": "code",
   "execution_count": null,
   "metadata": {},
   "outputs": [],
   "source": [
    "await latiss.take_object(5)"
   ]
  },
  {
   "cell_type": "code",
   "execution_count": null,
   "metadata": {},
   "outputs": [],
   "source": [
    "await latiss.take_object(10)"
   ]
  },
  {
   "cell_type": "code",
   "execution_count": null,
   "metadata": {},
   "outputs": [],
   "source": [
    "await atcs.offset_radec(ra_offset, dec_offset)\n",
    "await latiss.take_object(2)"
   ]
  },
  {
   "cell_type": "code",
   "execution_count": null,
   "metadata": {},
   "outputs": [],
   "source": [
    "await atcs.offset_xy(x=-60, y=-100)"
   ]
  },
  {
   "cell_type": "code",
   "execution_count": null,
   "metadata": {},
   "outputs": [],
   "source": [
    "# Offset in RA, turn off tracking, start long exposure\n",
    "ra_offset=6*60 # RA offset to the WEST\n",
    "dec_offset = 0\n",
    "dec=-89 # degrees\n",
    "dra= -1/np.cos(np.abs(dec*np.pi/180)) # second/sec\n",
    "dra=-9\n",
    "await atcs.slew_object(\"HD 90105\", rot_type=RotType.PhysicalSky, rot=-110, ddec=0, dra = dra)\n",
    "await atcs.offset_xy(x=-70, y=0)\n",
    "await atcs.offset_radec(ra_offset, dec_offset)\n",
    "await latiss.take_engtest(60)"
   ]
  },
  {
   "cell_type": "code",
   "execution_count": null,
   "metadata": {},
   "outputs": [],
   "source": [
    "dra"
   ]
  },
  {
   "cell_type": "code",
   "execution_count": null,
   "metadata": {},
   "outputs": [],
   "source": [
    "# Offset in RA, turn off tracking, start long exposure\n",
    "# Faster rate\n",
    "ra_offset=10*60 # RA offset to the WEST\n",
    "dec_offset = 0\n",
    "dec=9.0 # degrees\n",
    "dra= -2*np.cos(dec*np.pi/180) # second/sec\n",
    "await atcs.slew_object(\"HD115782\", rot_type=RotType.PhysicalSky, rot=-110, ddec=0, dra = dra)\n",
    "await atcs.offset_xy(x=-60, y=-100)\n",
    "await atcs.offset_radec(ra_offset, dec_offset)\n",
    "await latiss.take_engtest(11)"
   ]
  },
  {
   "cell_type": "code",
   "execution_count": null,
   "metadata": {},
   "outputs": [],
   "source": [
    "await atcs.stop_tracking()"
   ]
  },
  {
   "cell_type": "code",
   "execution_count": null,
   "metadata": {},
   "outputs": [],
   "source": []
  },
  {
   "cell_type": "code",
   "execution_count": null,
   "metadata": {},
   "outputs": [],
   "source": [
    "360*3600 / (24*60*60)"
   ]
  },
  {
   "cell_type": "code",
   "execution_count": null,
   "metadata": {},
   "outputs": [],
   "source": []
  },
  {
   "cell_type": "code",
   "execution_count": null,
   "metadata": {},
   "outputs": [],
   "source": []
  },
  {
   "cell_type": "code",
   "execution_count": null,
   "metadata": {},
   "outputs": [],
   "source": []
  },
  {
   "cell_type": "code",
   "execution_count": null,
   "metadata": {},
   "outputs": [],
   "source": []
  },
  {
   "cell_type": "code",
   "execution_count": null,
   "metadata": {},
   "outputs": [],
   "source": []
  },
  {
   "cell_type": "code",
   "execution_count": null,
   "metadata": {},
   "outputs": [],
   "source": []
  },
  {
   "cell_type": "code",
   "execution_count": null,
   "metadata": {},
   "outputs": [],
   "source": []
  },
  {
   "cell_type": "code",
   "execution_count": null,
   "metadata": {},
   "outputs": [],
   "source": []
  },
  {
   "cell_type": "code",
   "execution_count": null,
   "metadata": {},
   "outputs": [],
   "source": []
  },
  {
   "cell_type": "code",
   "execution_count": null,
   "metadata": {},
   "outputs": [],
   "source": [
    "# get current telescope Alt/Az position\n",
    "# need to calculate it from current RA/DEC because of a timestamp issue\n",
    "az = Angle(start_az, unit=u.deg)\n",
    "el = Angle(start_el, unit=u.deg)\n",
    "\n",
    "print(f'orig az {az} and el {el}')\n",
    "time_data = await atcs.rem.atptg.tel_timeAndDate.next(flush=True, timeout=2)\n",
    "# This should be TAI and not UTC... so will be 37s off system clock seconds\n",
    "curr_time_atptg = Time(time_data.mjd, format=\"mjd\")\n",
    "\n",
    "coord_frame_AltAz = AltAz(location=location, obstime=curr_time_atptg)\n",
    "coord_frame_radec = ICRS()\n",
    "coord_azel = AltAz(az=az, alt=el, location=location, obstime=curr_time_atptg)\n",
    "ra_dec = coord_azel.transform_to(coord_frame_radec)\n",
    "print('Current Position is: \\n {}'.format(coord_azel))\n",
    "print('Current Position is: \\n {}'.format(ra_dec))\n",
    "\n",
    "# get RA/DEC of target position\n",
    "az = Angle(start_az+d_az, unit=u.deg)\n",
    "el = Angle(start_el+d_el, unit=u.deg)\n",
    "print(f'target az {az} and el {el}')\n",
    "coord_azel_target = AltAz(az=az, alt=el, location=location, obstime=curr_time_atptg)\n",
    "ra_dec_target = coord_azel_target.transform_to(coord_frame_radec)\n",
    "print('Target Position is: \\n {}'.format(coord_azel_target))\n",
    "print('Target Position is: \\n {}'.format(ra_dec_target))"
   ]
  },
  {
   "cell_type": "code",
   "execution_count": null,
   "metadata": {},
   "outputs": [],
   "source": [
    "# get current telescope Alt/Az position\n",
    "# need to calculate it from current RA/DEC because of a timestamp issue\n",
    "az = Angle(start_az, unit=u.deg)\n",
    "el = Angle(start_el, unit=u.deg)\n",
    "print(f'orig az {az} and el {el}')\n",
    "time_data = await atcs.rem.atptg.tel_timeAndDate.next(flush=True, timeout=2)\n",
    "# This should be TAI and not UTC... so will be 37s off system clock seconds\n",
    "curr_time_atptg = Time(time_data.mjd, format=\"mjd\")\n",
    "\n",
    "coord_frame_AltAz = AltAz(location=location, obstime=curr_time_atptg)\n",
    "coord_frame_radec = ICRS()\n",
    "coord_azel = AltAz(az=az, alt=el, location=location, obstime=curr_time_atptg)\n",
    "ra_dec = coord_azel.transform_to(coord_frame_radec)\n",
    "print('Current Position is: \\n {}'.format(coord_azel))\n",
    "print('Current Position is: \\n {}'.format(ra_dec))\n",
    "\n",
    "# get RA/DEC of target position\n",
    "az = Angle(start_az+d_az, unit=u.deg)\n",
    "el = Angle(start_el+d_el, unit=u.deg)\n",
    "print(f'target az {az} and el {el}')\n",
    "coord_azel_target = AltAz(az=az, alt=el, location=location, obstime=curr_time_atptg)\n",
    "ra_dec_target = coord_azel_target.transform_to(coord_frame_radec)\n",
    "print('Target Position is: \\n {}'.format(coord_azel_target))\n",
    "print('Target Position is: \\n {}'.format(ra_dec_target))"
   ]
  },
  {
   "cell_type": "code",
   "execution_count": null,
   "metadata": {},
   "outputs": [],
   "source": [
    "#send to starting position\n",
    "# Note that the wait_settle=False is used to remove sleeps\n",
    "# that are no longer required in the ATCS now that ATMCS\n",
    "\n",
    "await attcs.slew_icrs(ra=str(ra_dec.ra), dec=str(ra_dec.dec), rot_pa=0.0,\n",
    "                      slew_timeout=240., stop_before_slew=False, wait_settle=False)\n",
    "\n",
    "\n",
    "print('track for 2s')\n",
    "await asyncio.sleep(2)\n",
    "# take a quick image to get some header data\n",
    "await latiss.take_engtest(exptime=1)\n",
    "\n",
    "print('Starting to Slew to target')\n",
    "start_time = time.time()\n",
    "await attcs.slew_icrs(ra=str(ra_dec_target.ra), dec=str(ra_dec_target.dec),\n",
    "                      rot_pa=d_rot, slew_timeout=240., \n",
    "                      stop_before_slew=False, wait_settle=False)\n",
    "end_time = time.time()\n",
    "print('Time to slew is {} [s]'.format(end_time-start_time))\n",
    "await latiss.take_engtest(exptime=1)\n",
    "\n",
    "# Print current time so it's easier to find info in EFD\n",
    "current_time = datetime.now().strftime(\"%H:%M:%S\")\n",
    "print(f\"Current Time = {current_time}, or {time.time()}\")"
   ]
  },
  {
   "cell_type": "code",
   "execution_count": null,
   "metadata": {},
   "outputs": [],
   "source": [
    "# Now you'll want run the test but going to the original position!\n",
    "\n",
    "print('Starting to Slew to original target')\n",
    "start_time = time.time()\n",
    "await attcs.slew_icrs(ra=str(ra_dec_target.ra), dec=str(ra_dec_target.dec),\n",
    "                      rot_pa=d_rot, slew_timeout=240., \n",
    "                      stop_before_slew=False, wait_settle=False)\n",
    "end_time = time.time()\n",
    "print('Time to slew is {} [s]'.format(end_time-start_time))\n",
    "await latiss.take_engtest(exptime=1)\n",
    "\n",
    "# Print current time so it's easier to find info in EFD\n",
    "current_time = datetime.now().strftime(\"%H:%M:%S\")\n",
    "print(f\"Current Time = {current_time}, or {time.time()}\")"
   ]
  },
  {
   "cell_type": "code",
   "execution_count": null,
   "metadata": {},
   "outputs": [],
   "source": []
  },
  {
   "cell_type": "code",
   "execution_count": null,
   "metadata": {},
   "outputs": [],
   "source": []
  },
  {
   "cell_type": "code",
   "execution_count": null,
   "metadata": {},
   "outputs": [],
   "source": []
  },
  {
   "cell_type": "code",
   "execution_count": null,
   "metadata": {},
   "outputs": [],
   "source": [
    "# For shutdown of system\n",
    "await attcs.stop_tracking()"
   ]
  },
  {
   "cell_type": "code",
   "execution_count": null,
   "metadata": {},
   "outputs": [],
   "source": [
    "# turn off corrections\n",
    "tmp = await atcs.rem.ataos.cmd_disableCorrection.set_start(m1=True, hexapod=True, atspectrograph=True)"
   ]
  }
 ],
 "metadata": {
  "kernelspec": {
   "display_name": "LSST",
   "language": "python",
   "name": "lsst"
  },
  "language_info": {
   "codemirror_mode": {
    "name": "ipython",
    "version": 3
   },
   "file_extension": ".py",
   "mimetype": "text/x-python",
   "name": "python",
   "nbconvert_exporter": "python",
   "pygments_lexer": "ipython3",
   "version": "3.8.8"
  }
 },
 "nbformat": 4,
 "nbformat_minor": 4
}
