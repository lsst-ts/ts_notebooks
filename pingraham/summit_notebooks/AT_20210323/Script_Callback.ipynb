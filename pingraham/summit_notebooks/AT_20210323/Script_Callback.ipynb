{
 "cells": [
  {
   "cell_type": "code",
   "execution_count": null,
   "id": "a5b4de3a",
   "metadata": {},
   "outputs": [],
   "source": [
    "from lsst.ts import salobj\n",
    "import asyncio"
   ]
  },
  {
   "cell_type": "code",
   "execution_count": null,
   "id": "4134b57a",
   "metadata": {},
   "outputs": [],
   "source": [
    "domain = salobj.Domain()\n",
    "await asyncio.sleep(10)"
   ]
  },
  {
   "cell_type": "code",
   "execution_count": null,
   "id": "511955ab",
   "metadata": {},
   "outputs": [],
   "source": [
    "remote = salobj.Remote(name=\"Script\", domain=domain, index=2)\n",
    "await remote.start_task"
   ]
  },
  {
   "cell_type": "code",
   "execution_count": null,
   "id": "81d99e1c",
   "metadata": {},
   "outputs": [],
   "source": [
    "def print_logMessage(id_data):\n",
    "    print(id_data.message)"
   ]
  },
  {
   "cell_type": "code",
   "execution_count": null,
   "id": "2dae597b",
   "metadata": {},
   "outputs": [],
   "source": [
    "remote.evt_logMessage.callback = print_logMessage"
   ]
  },
  {
   "cell_type": "code",
   "execution_count": null,
   "id": "42f095d1",
   "metadata": {},
   "outputs": [],
   "source": [
    "#asyncio.get_event_loop().run_forever()"
   ]
  },
  {
   "cell_type": "code",
   "execution_count": null,
   "id": "c2c52ffd",
   "metadata": {},
   "outputs": [],
   "source": []
  }
 ],
 "metadata": {
  "kernelspec": {
   "display_name": "LSST",
   "language": "python",
   "name": "lsst"
  },
  "language_info": {
   "codemirror_mode": {
    "name": "ipython",
    "version": 3
   },
   "file_extension": ".py",
   "mimetype": "text/x-python",
   "name": "python",
   "nbconvert_exporter": "python",
   "pygments_lexer": "ipython3",
   "version": "3.8.8"
  }
 },
 "nbformat": 4,
 "nbformat_minor": 5
}
