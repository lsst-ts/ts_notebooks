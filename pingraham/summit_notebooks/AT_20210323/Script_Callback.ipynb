{
 "cells": [
  {
   "cell_type": "code",
   "execution_count": null,
   "id": "express-conference",
   "metadata": {},
   "outputs": [],
   "source": [
    "from lsst.ts import salobj\n",
    "import asyncio"
   ]
  },
  {
   "cell_type": "code",
   "execution_count": null,
   "id": "ambient-culture",
   "metadata": {},
   "outputs": [],
   "source": [
    "domain = salobj.Domain()\n",
    "await asyncio.sleep(10)"
   ]
  },
  {
   "cell_type": "code",
   "execution_count": null,
   "id": "moral-redhead",
   "metadata": {},
   "outputs": [],
   "source": [
    "remote = salobj.Remote(name=\"Script\", domain=domain, index=0)\n",
    "await remote.start_task"
   ]
  },
  {
   "cell_type": "code",
   "execution_count": null,
   "id": "perceived-thirty",
   "metadata": {},
   "outputs": [],
   "source": [
    "def print_logMessage(id_data):\n",
    "    print(id_data.message)"
   ]
  },
  {
   "cell_type": "code",
   "execution_count": null,
   "id": "enhanced-compensation",
   "metadata": {},
   "outputs": [],
   "source": [
    "remote.evt_logMessage.callback = print_logMessage"
   ]
  },
  {
   "cell_type": "code",
   "execution_count": null,
   "id": "wooden-jerusalem",
   "metadata": {},
   "outputs": [],
   "source": [
    "#asyncio.get_event_loop().run_forever()"
   ]
  },
  {
   "cell_type": "code",
   "execution_count": null,
   "id": "illegal-quebec",
   "metadata": {},
   "outputs": [],
   "source": []
  }
 ],
 "metadata": {
  "kernelspec": {
   "display_name": "LSST",
   "language": "python",
   "name": "lsst"
  },
  "language_info": {
   "codemirror_mode": {
    "name": "ipython",
    "version": 3
   },
   "file_extension": ".py",
   "mimetype": "text/x-python",
   "name": "python",
   "nbconvert_exporter": "python",
   "pygments_lexer": "ipython3",
   "version": "3.8.8"
  }
 },
 "nbformat": 4,
 "nbformat_minor": 5
}
