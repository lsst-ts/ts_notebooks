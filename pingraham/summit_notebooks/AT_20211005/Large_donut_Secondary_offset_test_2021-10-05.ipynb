{
 "cells": [
  {
   "cell_type": "code",
   "execution_count": null,
   "id": "7258358f",
   "metadata": {},
   "outputs": [],
   "source": [
    "####! Large Donut and In-Focus Secondary Offset Sequence Grid: Script for 202110 Observing Run "
   ]
  },
  {
   "cell_type": "code",
   "execution_count": null,
   "id": "1233246c",
   "metadata": {
    "jupyter": {
     "source_hidden": true
    },
    "tags": []
   },
   "outputs": [],
   "source": [
    "import logging\n",
    "import sys\n",
    "\n",
    "BLACK, RED, GREEN, YELLOW, BLUE, MAGENTA, CYAN, WHITE = range(8)\n",
    "\n",
    "RESET_SEQ = '\\033[0m'\n",
    "COLOR_SEQ = '\\033[1;%dm'\n",
    "BOLD_SEQ = '\\033[1m'\n",
    "\n",
    "COLORS = {\n",
    "    'WARNING': YELLOW,\n",
    "    'INFO': WHITE,\n",
    "    'DEBUG': BLUE,\n",
    "    'CRITICAL': RED,\n",
    "    'ERROR': RED\n",
    "}\n",
    "\n",
    "class MyLogFormatter(logging.Formatter):\n",
    "    \"\"\" Custom logging formatter that mimics jupyter's server logging. \"\"\"\n",
    "    def __init__(self, fmt=\" [%(levelname).1s %(asctime)s %(name)s] %(message)s\", \n",
    "                 datefmt=\"%Y-%m-%d %H:%M:%S\", use_colours=True):\n",
    "\n",
    "        logging.Formatter.__init__(self, fmt, datefmt=datefmt)\n",
    "        self.use_colours = use_colours\n",
    "\n",
    "    @staticmethod\n",
    "    def color_format(message, levelname, left_char=\"[\", right_char=\"]\"):\n",
    "\n",
    "        colour = COLOR_SEQ % (30 + COLORS[levelname])\n",
    "\n",
    "        message = message.replace(left_char, \"{:s} {:s}\".format(colour, left_char))\n",
    "        message = message.replace(right_char, \"{:s} {:s}\".format(right_char, RESET_SEQ))\n",
    "\n",
    "        return message\n",
    "\n",
    "    def format(self, record):\n",
    "\n",
    "        # Call the original formatter class to do the grunt work\n",
    "        result = logging.Formatter.format(self, record)\n",
    "\n",
    "        if self.use_colours:\n",
    "            result = self.color_format(result, record.levelname)\n",
    "\n",
    "        return result\n",
    "\n",
    "custom_formatter = MyLogFormatter()\n",
    "stream_handler = logging.StreamHandler(sys.stdout)\n",
    "stream_handler.setFormatter(custom_formatter)\n",
    "\n",
    "logger = logging.getLogger()\n",
    "logger.addHandler(stream_handler)\n",
    "logger.level = logging.WARNING  # We leave this quiet for now\n",
    "logger.propagate = False"
   ]
  },
  {
   "cell_type": "code",
   "execution_count": null,
   "id": "eb43aa01",
   "metadata": {},
   "outputs": [],
   "source": [
    "import os\n",
    "import sys\n",
    "import copy\n",
    "import asyncio\n",
    "import logging\n",
    "import numpy as np\n",
    "\n",
    "from lsst.ts import salobj\n",
    "from lsst.ts import idl\n",
    "from lsst.ts.observatory.control.auxtel import ATCS, LATISS\n",
    "from lsst.ts.observatory.control.utils.enums import RotType\n",
    "%config IPCompleter.use_jedi = False"
   ]
  },
  {
   "cell_type": "markdown",
   "id": "e259acc7",
   "metadata": {},
   "source": [
    "Initiate and configure script"
   ]
  },
  {
   "cell_type": "code",
   "execution_count": null,
   "id": "5b53627a",
   "metadata": {},
   "outputs": [],
   "source": [
    "from lsst.ts.idl.enums.Script import ScriptState\n",
    "import yaml"
   ]
  },
  {
   "cell_type": "code",
   "execution_count": null,
   "id": "d0844ba7",
   "metadata": {},
   "outputs": [],
   "source": [
    "from lsst.ts.externalscripts.auxtel.latiss_cwfs_align import LatissCWFSAlign\n",
    "script = LatissCWFSAlign(index=333, remotes=True)  # this essentially calls the init method\n",
    "await script.start_task  # make sure all remotes etc are running"
   ]
  },
  {
   "cell_type": "markdown",
   "id": "b2dd1345",
   "metadata": {
    "tags": []
   },
   "source": [
    "# Find the Target. Elevation 60 around the meridian. "
   ]
  },
  {
   "cell_type": "code",
   "execution_count": null,
   "id": "5edd321d",
   "metadata": {},
   "outputs": [],
   "source": [
    "#### GOTO 170 since it'll track\n",
    "target_name = await script.atcs.find_target(180,60,mag_limit=7.0)\n",
    "print(target_name)"
   ]
  },
  {
   "cell_type": "code",
   "execution_count": null,
   "id": "f0544aed",
   "metadata": {},
   "outputs": [],
   "source": [
    "await script.atcs.slew_object(name = 'HD 138670', rot_type=RotType.PhysicalSky)"
   ]
  },
  {
   "cell_type": "code",
   "execution_count": null,
   "id": "d7e128cc",
   "metadata": {},
   "outputs": [],
   "source": [
    "# Take short exposure to check star is centered in the detector\n",
    "science_image = await script.script.latiss.take_object(exptime=2., n=1, filter='FELH0600',grating='empty_1')\n",
    "print ('science_image = ' + str(science_image))"
   ]
  },
  {
   "cell_type": "code",
   "execution_count": null,
   "id": "a63d0adb",
   "metadata": {},
   "outputs": [],
   "source": [
    "# If not, apply correction pointing offsets to xy to center image in the detector and take another image. \n",
    "# await script.atcs.offset_xy(y=140, x=0)\n",
    "#science_image = await script.latiss.take_object(exptime=2., n=1, filter='FELH0600',grating='empty_1')\n",
    "#print ('science_image = ' + str(science_image)) "
   ]
  },
  {
   "cell_type": "markdown",
   "id": "c8300156",
   "metadata": {},
   "source": [
    "# CWFS. Execute CWFS on the target in a different notebook. Paste results here "
   ]
  },
  {
   "cell_type": "code",
   "execution_count": null,
   "id": "067628db",
   "metadata": {},
   "outputs": [],
   "source": [
    "# CWFS results "
   ]
  },
  {
   "cell_type": "code",
   "execution_count": null,
   "id": "af3fd200",
   "metadata": {},
   "outputs": [],
   "source": []
  },
  {
   "cell_type": "markdown",
   "id": "be8f9160",
   "metadata": {
    "tags": []
   },
   "source": [
    "# LARGE DONUT (Can be done in poorer seeing conditions)"
   ]
  },
  {
   "cell_type": "code",
   "execution_count": null,
   "id": "e9ec0288",
   "metadata": {},
   "outputs": [],
   "source": [
    "# Choose target \n",
    "await script.atcs.slew_object('HR 807', rot_type=RotType.PhysicalSky)"
   ]
  },
  {
   "cell_type": "markdown",
   "id": "e7a9c566",
   "metadata": {},
   "source": [
    "## Going out of focus (z axis position range = +/- 10 mm) - To get the largest donut possible"
   ]
  },
  {
   "cell_type": "code",
   "execution_count": null,
   "id": "01021e0c",
   "metadata": {},
   "outputs": [],
   "source": [
    "await script.atcs.rem.ataos.cmd_offset.set_start(z=7)"
   ]
  },
  {
   "cell_type": "markdown",
   "id": "2877bbf1",
   "metadata": {
    "tags": []
   },
   "source": [
    "### Take an image and make sure few thousand counts per pixel in the illuminated annulus are present. "
   ]
  },
  {
   "cell_type": "code",
   "execution_count": null,
   "id": "fd93e6a7",
   "metadata": {},
   "outputs": [],
   "source": [
    "await script.latiss.take_engtest(exptime=30, n=1, filter='FELH0600',grating='empty_1')"
   ]
  },
  {
   "cell_type": "markdown",
   "id": "2e56f1b5",
   "metadata": {
    "tags": []
   },
   "source": [
    "## Secondary offset grid, take 3 20-s images in each position. \n",
    "The telescope will offset to compensate for the hexapod offsets so the donut stays in the center of the detector. "
   ]
  },
  {
   "cell_type": "code",
   "execution_count": null,
   "id": "414e11f9",
   "metadata": {},
   "outputs": [],
   "source": [
    "hexapod_offset_scale = [\n",
    "    [52.459, 0.0, 0.0],\n",
    "    [0.0, 50.468, 0.0],\n",
    "    [0.0, 0.0, 0.0],\n",
    "]"
   ]
  },
  {
   "cell_type": "markdown",
   "id": "7c50620e",
   "metadata": {},
   "source": [
    "### For the FELH0600 filter"
   ]
  },
  {
   "cell_type": "code",
   "execution_count": null,
   "id": "9c5eedb9",
   "metadata": {},
   "outputs": [],
   "source": [
    "for axis in ['x','y','both']:\n",
    "    for offset in [2.5, 1.0, -1.0, -2.5]:\n",
    "        if axis == 'x':\n",
    "            hexapod_offset = [offset,0,0]\n",
    "        elif axis == 'y':\n",
    "            hexapod_offset = [0, offset, 0]\n",
    "        else: #axis == 'both': \n",
    "            hexapod_offset = [offset,offset,0]\n",
    "        \n",
    "        #print(hexapod_offset)\n",
    "        tel_offset = np.matmul(hexapod_offset, hexapod_offset_scale) # gives el and negative az!\n",
    "        #print(tel_offset)\n",
    "        print('Hexapod offsets', hexapod_offset)\n",
    "        if axis == 'x':  \n",
    "            #print(axis, 'axis')\n",
    "            await script.atcs.rem.ataos.cmd_offset.set_start(x=offset)\n",
    "        if axis == 'y':  \n",
    "            #print(axis, 'axis')\n",
    "            await script.atcs.rem.ataos.cmd_offset.set_start(y=offset)\n",
    "        if axis == 'both':\n",
    "            await script.atcs.rem.ataos.cmd_offset.set_start(x=offset)\n",
    "            await script.atcs.rem.ataos.cmd_offset.set_start(y=offset)\n",
    "            print(axis, 'axis')\n",
    "\n",
    "        print('Offsetting the telescope by az offset=', -tel_offset[1], 'and el offset = ', tel_offset[0])\n",
    "        await script.atcs.offset_azel(az=-tel_offset[1], el=tel_offset[0], relative=True, persistent=True)\n",
    "\n",
    "        print('Taking 3 30 s engineering images...')\n",
    "        eng_test = await script.latiss.take_engtest(exptime=20, n=3, filter='FELH0600',grating='empty_1')\n",
    "        print ('Eng test images with', offset, 'arcsec in', axis, 'axis', str(eng_test))\n",
    "        \n",
    "        # Clear telescope and hexapod offsets. \n",
    "        print('Clearing telescope and x & y hexapod offsets...')\n",
    "        await script.atcs.reset_offsets()\n",
    "        await script.atcs.rem.ataos.cmd_resetOffset.set_start(axis='x')\n",
    "        await script.atcs.rem.ataos.cmd_resetOffset.set_start(axis='y')"
   ]
  },
  {
   "cell_type": "markdown",
   "id": "c1741b8d",
   "metadata": {},
   "source": [
    "### For the SDSS g"
   ]
  },
  {
   "cell_type": "code",
   "execution_count": null,
   "id": "cb39f715",
   "metadata": {},
   "outputs": [],
   "source": [
    "for axis in ['x','y','both']:\n",
    "    for offset in [2.5, 1.0, -1.0, -2.5]:\n",
    "        if axis == 'x':\n",
    "            hexapod_offset = [offset,0,0]\n",
    "        elif axis == 'y':\n",
    "            hexapod_offset = [0, offset, 0]\n",
    "        else: #axis == 'both': \n",
    "            hexapod_offset = [offset,offset,0]\n",
    "        \n",
    "        #print(hexapod_offset)\n",
    "        tel_offset = np.matmul(hexapod_offset, hexapod_offset_scale) # gives el and negative az!\n",
    "        #print(tel_offset)\n",
    "        print('Hexapod offsets', hexapod_offset)\n",
    "        if axis == 'x':  \n",
    "            #print(axis, 'axis')\n",
    "            await script.atcs.rem.ataos.cmd_offset.set_start(x=offset)\n",
    "        if axis == 'y':  \n",
    "            #print(axis, 'axis')\n",
    "            await script.atcs.rem.ataos.cmd_offset.set_start(y=offset)\n",
    "        if axis == 'both':\n",
    "            await script.atcs.rem.ataos.cmd_offset.set_start(x=offset)\n",
    "            await script.atcs.rem.ataos.cmd_offset.set_start(y=offset)\n",
    "            print(axis, 'axis')\n",
    "\n",
    "        print('Offsetting the telescope by az offset=', -tel_offset[1], 'and el offset = ', tel_offset[0])\n",
    "        await script.atcs.offset_azel(az=-tel_offset[1], el=tel_offset[0], relative=True, persistent=True)\n",
    "\n",
    "        print('Taking 3 30 s engineering images...')\n",
    "        eng_test = await script.latiss.take_engtest(exptime=20, n=3, filter='FELH0600',grating='empty_1')\n",
    "        print ('Eng test images with', offset, 'arcsec in', axis, 'axis', str(eng_test))\n",
    "        \n",
    "        # Clear telescope and hexapod offsets. \n",
    "        print('Clearing telescope and x & y hexapod offsets...')\n",
    "        await script.atcs.reset_offsets()\n",
    "        await script.atcs.rem.ataos.cmd_resetOffset.set_start(axis='x')\n",
    "        await script.atcs.rem.ataos.cmd_resetOffset.set_start(axis='y')"
   ]
  },
  {
   "cell_type": "markdown",
   "id": "b5a9a267",
   "metadata": {},
   "source": [
    "# IN- FOCUS SEQUENCE (Requires good seeing) -- Outer edge of NGC 362?"
   ]
  },
  {
   "cell_type": "markdown",
   "id": "21cdb5eb",
   "metadata": {},
   "source": [
    "## For the FELH0600 filter"
   ]
  },
  {
   "cell_type": "code",
   "execution_count": null,
   "id": "c46372c9",
   "metadata": {},
   "outputs": [],
   "source": [
    "for axis in ['x','y','both']:\n",
    "    for offset in [2.5, 1.0, -1.0, -2.5]:\n",
    "        if axis == 'x':\n",
    "            hexapod_offset = [offset,0,0]\n",
    "        elif axis == 'y':\n",
    "            hexapod_offset = [0, offset, 0]\n",
    "        else: #axis == 'both': \n",
    "            hexapod_offset = [offset,offset,0]\n",
    "        \n",
    "        #print(hexapod_offset)\n",
    "        tel_offset = np.matmul(hexapod_offset, hexapod_offset_scale) # gives el and negative az!\n",
    "        #print(tel_offset)\n",
    "        print('Hexapod offsets', hexapod_offset)\n",
    "        if axis == 'x':  \n",
    "            #print(axis, 'axis')\n",
    "            await script.atcs.rem.ataos.cmd_offset.set_start(x=offset)\n",
    "        if axis == 'y':  \n",
    "            #print(axis, 'axis')\n",
    "            await script.atcs.rem.ataos.cmd_offset.set_start(y=offset)\n",
    "        if axis == 'both':\n",
    "            await script.atcs.rem.ataos.cmd_offset.set_start(x=offset)\n",
    "            await script.atcs.rem.ataos.cmd_offset.set_start(y=offset)\n",
    "            print(axis, 'axis')\n",
    "\n",
    "        print('Offsetting the telescope by az offset=', -tel_offset[1], 'and el offset = ', tel_offset[0])\n",
    "        await script.atcs.offset_azel(az=-tel_offset[1], el=tel_offset[0], relative=True, persistent=True)\n",
    "\n",
    "        print('Taking 3 30 s engineering images...')\n",
    "        eng_test = await script.latiss.take_engtest(exptime=30, n=3, filter='FELH0600',grating='empty_1')\n",
    "        print ('Eng test images with', offset, 'arcsec in', axis, 'axis', str(eng_test))\n",
    "        \n",
    "        # Clear telescope and hexapod offsets. \n",
    "        print('Clearing telescope and x & y hexapod offsets...')\n",
    "        await script.atcs.reset_offsets()\n",
    "        await script.atcs.rem.ataos.cmd_resetOffset.set_start(axis='x')\n",
    "        await script.atcs.rem.ataos.cmd_resetOffset.set_start(axis='y')"
   ]
  },
  {
   "cell_type": "markdown",
   "id": "c858946e",
   "metadata": {
    "tags": []
   },
   "source": [
    "### For the SDSS g new installed filter"
   ]
  },
  {
   "cell_type": "code",
   "execution_count": null,
   "id": "7bbd61f2",
   "metadata": {},
   "outputs": [],
   "source": [
    "for axis in ['x','y','both']:\n",
    "    for offset in [2.5, 1.0, -1.0, -2.5]:\n",
    "        if axis == 'x':\n",
    "            hexapod_offset = [offset,0,0]\n",
    "        elif axis == 'y':\n",
    "            hexapod_offset = [0, offset, 0]\n",
    "        else: #axis == 'both': \n",
    "            hexapod_offset = [offset,offset,0]\n",
    "        \n",
    "        #print(hexapod_offset)\n",
    "        tel_offset = np.matmul(hexapod_offset, hexapod_offset_scale) # gives el and negative az!\n",
    "        #print(tel_offset)\n",
    "        print('Hexapod offsets', hexapod_offset)\n",
    "        if axis == 'x':  \n",
    "            #print(axis, 'axis')\n",
    "            await script.atcs.rem.ataos.cmd_offset.set_start(x=offset)\n",
    "        if axis == 'y':  \n",
    "            #print(axis, 'axis')\n",
    "            await script.atcs.rem.ataos.cmd_offset.set_start(y=offset)\n",
    "        if axis == 'both':\n",
    "            await script.atcs.rem.ataos.cmd_offset.set_start(x=offset)\n",
    "            await script.atcs.rem.ataos.cmd_offset.set_start(y=offset)\n",
    "            print(axis, 'axis')\n",
    "\n",
    "        print('Offsetting the telescope by az offset=', -tel_offset[1], 'and el offset = ', tel_offset[0])\n",
    "        await script.atcs.offset_azel(az=-tel_offset[1], el=tel_offset[0], relative=True, persistent=True)\n",
    "\n",
    "        print('Taking 3 30 s engineering images...')\n",
    "        eng_test = await script.latiss.take_engtest(exptime=30, n=3, filter='FELH0600',grating='empty_1')\n",
    "        print ('Eng test images with', offset, 'arcsec in', axis, 'axis', str(eng_test))\n",
    "        \n",
    "        # Clear telescope and hexapod offsets. \n",
    "        print('Clearing telescope and x & y hexapod offsets...')\n",
    "        await script.atcs.reset_offsets()\n",
    "        await script.atcs.rem.ataos.cmd_resetOffset.set_start(axis='x')\n",
    "        await script.atcs.rem.ataos.cmd_resetOffset.set_start(axis='y')"
   ]
  },
  {
   "cell_type": "code",
   "execution_count": null,
   "id": "b44fa67a",
   "metadata": {},
   "outputs": [],
   "source": []
  },
  {
   "cell_type": "markdown",
   "id": "f40595cb",
   "metadata": {},
   "source": [
    "Secondary offset commands:"
   ]
  },
  {
   "cell_type": "code",
   "execution_count": null,
   "id": "3d80d12a",
   "metadata": {},
   "outputs": [],
   "source": [
    "#await script.atcs.offset_azel(az=10, el=2, relative=True, persistent=True)\n",
    "await script.atcs.reset_offsets()\n"
   ]
  },
  {
   "cell_type": "code",
   "execution_count": null,
   "id": "fc863d14",
   "metadata": {},
   "outputs": [],
   "source": [
    "await script.atcs.rem.ataos.cmd_offset.set_start(z=3)"
   ]
  },
  {
   "cell_type": "code",
   "execution_count": null,
   "id": "0ebad45e",
   "metadata": {},
   "outputs": [],
   "source": [
    "await script.atcs.rem.ataos.cmd_offset.set_start(x=1)"
   ]
  },
  {
   "cell_type": "code",
   "execution_count": null,
   "id": "c9c3b96f",
   "metadata": {},
   "outputs": [],
   "source": [
    "await script.atcs.rem.ataos.cmd_resetOffset.set_start(axis='x')\n"
   ]
  },
  {
   "cell_type": "code",
   "execution_count": null,
   "id": "51a35996",
   "metadata": {},
   "outputs": [],
   "source": [
    "await script.atcs.rem.ataos.cmd_setLogLevel.set_start(level=10)"
   ]
  },
  {
   "cell_type": "markdown",
   "id": "a5367338",
   "metadata": {},
   "source": [
    "Let's offset all axes"
   ]
  },
  {
   "cell_type": "code",
   "execution_count": null,
   "id": "0564a0a4",
   "metadata": {},
   "outputs": [],
   "source": [
    "await script.atcs.rem.ataos.cmd_offset.set_start(y=1)"
   ]
  },
  {
   "cell_type": "code",
   "execution_count": null,
   "id": "bdcad304",
   "metadata": {},
   "outputs": [],
   "source": [
    "await script.atcs.rem.ataos.cmd_offset.set_start(x=1)"
   ]
  },
  {
   "cell_type": "code",
   "execution_count": null,
   "id": "31200431",
   "metadata": {},
   "outputs": [],
   "source": [
    "await script.atcs.rem.ataos.cmd_offset.set_start(z=2)"
   ]
  },
  {
   "cell_type": "code",
   "execution_count": null,
   "id": "2d19a937",
   "metadata": {},
   "outputs": [],
   "source": [
    "await script.atcs.point_azel(az=10,el=65)"
   ]
  },
  {
   "cell_type": "code",
   "execution_count": null,
   "id": "7f919ec9",
   "metadata": {},
   "outputs": [],
   "source": [
    "await script.atcs.rem.ataos.cmd_resetOffset.set_start(axis='y')\n"
   ]
  },
  {
   "cell_type": "code",
   "execution_count": null,
   "id": "798d5700",
   "metadata": {},
   "outputs": [],
   "source": []
  },
  {
   "cell_type": "code",
   "execution_count": null,
   "id": "225faeb3",
   "metadata": {},
   "outputs": [],
   "source": []
  },
  {
   "cell_type": "code",
   "execution_count": null,
   "id": "c93a5ab4",
   "metadata": {},
   "outputs": [],
   "source": []
  }
 ],
 "metadata": {
  "kernelspec": {
   "display_name": "LSST",
   "language": "python",
   "name": "lsst"
  },
  "language_info": {
   "codemirror_mode": {
    "name": "ipython",
    "version": 3
   },
   "file_extension": ".py",
   "mimetype": "text/x-python",
   "name": "python",
   "nbconvert_exporter": "python",
   "pygments_lexer": "ipython3",
   "version": "3.8.8"
  },
  "toc-autonumbering": true,
  "toc-showmarkdowntxt": true
 },
 "nbformat": 4,
 "nbformat_minor": 5
}
