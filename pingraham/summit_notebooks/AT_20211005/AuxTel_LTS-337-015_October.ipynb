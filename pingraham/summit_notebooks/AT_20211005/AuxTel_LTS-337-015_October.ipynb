{
 "cells": [
  {
   "cell_type": "markdown",
   "metadata": {},
   "source": [
    "## AuxTel test LTS-337-015 (Small Slew and Settle)\n",
    "\n",
    "In this notebook, we check the speed and accuracy of the slew and settle of the telescope with a\n",
    "change of 10 degrees.  Desired specs:\n",
    "\n",
    "| Description | Value       | Unit          |   Name     |\n",
    "| :---        |    :----:   |       :----:  |       ---: |\n",
    "|The pointing accuracy requirement for small slews is:    | 2.5       | Arcsec RMS   |Aux_Tel_Sm_Slew_Abs_Pointing|\n",
    "The small elevation slew requirement for the Auxiliary Telescope used to define the Aux_Tel_Sm_Slew_Abs_Pointing requirement| 10| Degrees |Aux_Tel_Sm_Elev_Slew|\n",
    "|The small azimuth slew requirement for the Auxiliary Telescope used to define the Aux_Tel_Sm_Slew_Abs_Pointing requirement.  |10       | Degrees     |Aux_Tel_Sm_Az_Slew|\n",
    "|The allotted time to perform a slew and settle by Aux_Tel_Sm_Elev_Slew and Aux_Tel_Sm_Az_Slew by the Auxiliary Telescope and meet the Aux_Tel_Sm_Slew_Abs_Pointing pointing requirement.      | 10|Seconds|Aux_Tel_Smslew_AcqTime|"
   ]
  },
  {
   "cell_type": "code",
   "execution_count": null,
   "metadata": {},
   "outputs": [],
   "source": [
    "import sys, time, os, asyncio\n",
    "\n",
    "from datetime import datetime\n",
    "import numpy as np\n",
    "import matplotlib.pyplot as plt\n",
    "import pandas as pd\n",
    "\n",
    "from lsst.ts import salobj\n",
    "from lsst.ts.observatory.control.auxtel.atcs import ATCS\n",
    "from lsst.ts.observatory.control.auxtel.latiss import LATISS\n",
    "from astropy.time import Time, TimeDelta\n",
    "from astropy.coordinates import AltAz, ICRS, EarthLocation, Angle, FK5\n",
    "import astropy.units as u\n",
    "from lsst_efd_client import EfdClient, merge_packed_time_series"
   ]
  },
  {
   "cell_type": "code",
   "execution_count": null,
   "metadata": {},
   "outputs": [],
   "source": [
    "# Set Cerro Pachon location\n",
    "location = EarthLocation.from_geodetic(lon=-70.747698*u.deg,\n",
    "                                       lat=-30.244728*u.deg,\n",
    "                                       height=2663.0*u.m)"
   ]
  },
  {
   "cell_type": "code",
   "execution_count": null,
   "metadata": {},
   "outputs": [],
   "source": [
    "# for tab completion to work in current notebook instance\n",
    "%config IPCompleter.use_jedi = False"
   ]
  },
  {
   "cell_type": "code",
   "execution_count": null,
   "metadata": {},
   "outputs": [],
   "source": [
    "import logging\n",
    "stream_handler = logging.StreamHandler(sys.stdout)\n",
    "logger = logging.getLogger()\n",
    "logger.addHandler(stream_handler)\n",
    "logger.level = logging.DEBUG"
   ]
  },
  {
   "cell_type": "code",
   "execution_count": null,
   "metadata": {},
   "outputs": [],
   "source": [
    "# Get EFD client and bring in Lupton's unpacking code\n",
    "client = EfdClient('summit_efd')"
   ]
  },
  {
   "cell_type": "code",
   "execution_count": null,
   "metadata": {},
   "outputs": [],
   "source": [
    "#get classes and start them\n",
    "domain = salobj.Domain()\n",
    "await asyncio.sleep(10) # This can be removed in the future...\n",
    "atcs = ATCS(domain)\n",
    "latiss = LATISS(domain)\n",
    "await asyncio.gather(atcs.start_task, latiss.start_task)"
   ]
  },
  {
   "cell_type": "code",
   "execution_count": null,
   "metadata": {},
   "outputs": [],
   "source": [
    "# enable components if required\n",
    "await atcs.enable()\n",
    "await latiss.enable()"
   ]
  },
  {
   "cell_type": "code",
   "execution_count": null,
   "metadata": {},
   "outputs": [],
   "source": [
    "# take event checking out the slew commands to test telescope only\n",
    "# otherwise it'll wait for the dome before completing slew command\n",
    "atcs.check.atdome = False\n",
    "atcs.check.atdometrajectory = False"
   ]
  },
  {
   "cell_type": "code",
   "execution_count": null,
   "metadata": {},
   "outputs": [],
   "source": [
    "# turn on ATAOS corrections just to make sure the mirror is under air\n",
    "tmp = await atcs.rem.ataos.cmd_enableCorrection.set_start(m1=True, hexapod=True, atspectrograph=False)"
   ]
  },
  {
   "cell_type": "code",
   "execution_count": null,
   "metadata": {},
   "outputs": [],
   "source": [
    "# Ensure we're using Nasmyth 2\n",
    "#await atcs.rem.atptg.cmd_focusName.set_start(focus=3)"
   ]
  },
  {
   "cell_type": "code",
   "execution_count": null,
   "metadata": {},
   "outputs": [],
   "source": [
    "# point telescope to desired starting position\n",
    "start_az=0\n",
    "start_el=70\n",
    "start_rot_pa=0\n",
    "await atcs.point_azel(start_az, start_el, rot_tel=start_rot_pa, wait_dome=False)"
   ]
  },
  {
   "cell_type": "code",
   "execution_count": null,
   "metadata": {},
   "outputs": [],
   "source": [
    "#declare offset sizes for tests\n",
    "\n",
    "# For small slew and settle\n",
    "d_az= 10 # degrees\n",
    "d_el = 10 # degrees\n",
    "d_rot= 0 # degrees\n",
    "\n",
    "\"\"\"\n",
    "# For large slew and settle\n",
    "d_az= 90 # degrees\n",
    "d_el = 60 # degrees\n",
    "d_rot= 0 # degrees\n",
    "\n",
    "# What we actually care about for the survey! So measure this too\n",
    "d_az= 3.5 # degrees\n",
    "d_el = 3.5 # degrees\n",
    "d_rot= 0 # degrees\n",
    "\"\"\""
   ]
  },
  {
   "cell_type": "code",
   "execution_count": null,
   "metadata": {},
   "outputs": [],
   "source": [
    "# get RA/DEC of current telescope Alt/Az position\n",
    "az = Angle(start_az, unit=u.deg)\n",
    "el = Angle(start_el, unit=u.deg)\n",
    "print(f'orig az {az} and el {el}')\n",
    "time_data = await atcs.rem.atptg.tel_timeAndDate.next(flush=True, timeout=2)\n",
    "# This should be TAI and not UTC... so will be 37s off system clock seconds ??\n",
    "curr_time_atptg = Time(time_data.mjd, format=\"mjd\")\n",
    "#curr_time_atptg = Time(59256.783597232876, format=\"mjd\") + TimeDelta(-37.5374, format='sec')\n",
    "coord_frame_AltAz = AltAz(location=location, obstime=curr_time_atptg)\n",
    "coord_frame_radec = ICRS()\n",
    "coord_azel = AltAz(az=az, alt=el, location=location, obstime=curr_time_atptg)\n",
    "ra_dec = coord_azel.transform_to(coord_frame_radec)\n",
    "print('Current Position is: \\n {}'.format(coord_azel))\n",
    "print('Current Position is: \\n {}'.format(ra_dec))\n",
    "\n",
    "# get RA/DEC of target position\n",
    "az = Angle(start_az+d_az, unit=u.deg)\n",
    "el = Angle(start_el+d_el, unit=u.deg)\n",
    "print(f'target az {az} and el {el}')\n",
    "coord_azel_target = AltAz(az=az, alt=el, location=location, obstime=curr_time_atptg)\n",
    "ra_dec_target = coord_azel_target.transform_to(coord_frame_radec)\n",
    "print('Target Position is: \\n {}'.format(coord_azel_target))\n",
    "print('Target Position is: \\n {}'.format(ra_dec_target))"
   ]
  },
  {
   "cell_type": "code",
   "execution_count": null,
   "metadata": {
    "jupyter": {
     "source_hidden": true
    }
   },
   "outputs": [],
   "source": [
    "t_end = Time('2021-02-11T18:49:35.484', scale='tai')#end_time + TimeDelta(2, format='sec')\n",
    "nsec = 2\n",
    "mount_position = await client.select_time_series(\"lsst.sal.ATPtg.mountPositions\", ['*'],\n",
    "                                          t_end - TimeDelta(nsec, format='sec'), t_end)\n",
    "ra = merge_packed_time_series(mount_position, 'ra', stride=1, ref_timestamp_col=\"cRioTimestamp\")\n",
    "dec = merge_packed_time_series(mount_position, 'declination', stride=1, ref_timestamp_col=\"cRioTimestamp\")\n"
   ]
  },
  {
   "cell_type": "code",
   "execution_count": null,
   "metadata": {
    "jupyter": {
     "source_hidden": true
    }
   },
   "outputs": [],
   "source": [
    "print(ra_dec.ra.value, ra_dec.dec.value)\n",
    "dec['declination'].plot(legend=True)\n",
    "ra['ra'].plot(legend=True, secondary_y=True)\n",
    "#plt.savefig(\"/home/craiglagegit/DATA/RA_Dec_Trends_Take2_11Feb21.pdf\")"
   ]
  },
  {
   "cell_type": "code",
   "execution_count": null,
   "metadata": {
    "jupyter": {
     "source_hidden": true
    }
   },
   "outputs": [],
   "source": [
    "ra_vals = np.array(ra.values.tolist())[:,0]\n",
    "dec_vals = np.array(dec.values.tolist())[:,0]\n",
    "# Errors in arcsec\n",
    "ra_rms = np.sqrt(np.mean((ra_vals - ra_dec.ra.value)**2)) * 3600.0 \n",
    "dec_rms = np.sqrt(np.mean((dec_vals - ra_dec.dec.value)**2)) * 3600.0 \n",
    "#ra_accuracies.append(ra_rms)\n",
    "#dec_accuracies.append(dec_rms)\n",
    "print(f\"RA rms = {ra_rms}. Dec rms = {dec_rms}.\")\n"
   ]
  },
  {
   "cell_type": "code",
   "execution_count": null,
   "metadata": {
    "jupyter": {
     "source_hidden": true
    }
   },
   "outputs": [],
   "source": [
    "(ra_dec.ra.value - 352.973816304431) * 3600.0"
   ]
  },
  {
   "cell_type": "code",
   "execution_count": null,
   "metadata": {},
   "outputs": [],
   "source": [
    "# Slew to starting position and take an image to check headers\n",
    "await atcs.slew_icrs(ra=str(ra_dec.ra), dec=str(ra_dec.dec), rot=0.0,\n",
    "                      slew_timeout=240., stop_before_slew=False, wait_settle=False)\n",
    "\n",
    "\n",
    "print('track for 2s')\n",
    "await asyncio.sleep(2)\n",
    "# take a quick image to get some header data\n",
    "await latiss.take_engtest(exptime=1)\n"
   ]
  },
  {
   "cell_type": "code",
   "execution_count": null,
   "metadata": {},
   "outputs": [],
   "source": [
    "# Check tracking\n",
    "end_time = Time(Time.now(), format='fits', scale='tai')\n",
    "t_end = end_time + TimeDelta(5, format='sec')\n",
    "nsec = 5\n",
    "await asyncio.sleep(6)\n",
    "mount_position = await client.select_time_series(\"lsst.sal.ATPtg.mountPositions\", ['*'],\n",
    "                                          t_end - TimeDelta(nsec, format='sec'), t_end)\n",
    "ra = merge_packed_time_series(mount_position, 'ra', stride=1, ref_timestamp_col=\"cRioTimestamp\")\n",
    "dec = merge_packed_time_series(mount_position, 'declination', stride=1, ref_timestamp_col=\"cRioTimestamp\")\n",
    "ra_vals = np.array(ra.values.tolist())[:,0]\n",
    "dec_vals = np.array(dec.values.tolist())[:,0]"
   ]
  },
  {
   "cell_type": "code",
   "execution_count": null,
   "metadata": {},
   "outputs": [],
   "source": [
    "dec['declination'].plot(legend=True)\n",
    "ra['ra'].plot(legend=True, secondary_y=True)\n",
    "#plt.savefig(\"/home/craiglagegit/DATA/RA_Dec_Trends_Take2_11Feb21.pdf\")"
   ]
  },
  {
   "cell_type": "code",
   "execution_count": null,
   "metadata": {},
   "outputs": [],
   "source": [
    "az = merge_packed_time_series(mount_position, 'azimuthCalculatedAngle', stride=1, ref_timestamp_col=\"cRioTimestamp\")\n",
    "el = merge_packed_time_series(mount_position, 'elevationCalculatedAngle', stride=1, ref_timestamp_col=\"cRioTimestamp\")"
   ]
  },
  {
   "cell_type": "code",
   "execution_count": null,
   "metadata": {},
   "outputs": [],
   "source": [
    "az['azimuthCalculatedAngle'].plot(legend=True)\n",
    "el['elevationCalculatedAngle'].plot(legend=True, secondary_y=True)\n",
    "#plt.savefig(\"/home/craiglagegit/DATA/Az_El_Trends_11Feb21.pdf\")"
   ]
  },
  {
   "cell_type": "code",
   "execution_count": null,
   "metadata": {},
   "outputs": [],
   "source": [
    "len(dec_vals)"
   ]
  },
  {
   "cell_type": "code",
   "execution_count": null,
   "metadata": {},
   "outputs": [],
   "source": [
    "dec_time_vals = np.array(dec.values.tolist())[:,1]\n",
    "ra_time_vals = np.array(ra.values.tolist())[:,1]"
   ]
  },
  {
   "cell_type": "code",
   "execution_count": null,
   "metadata": {},
   "outputs": [],
   "source": [
    "plt.plot(dec_time_vals, dec_vals)"
   ]
  },
  {
   "cell_type": "code",
   "execution_count": null,
   "metadata": {},
   "outputs": [],
   "source": [
    "plt.plot(ra_time_vals[98:103], ra_vals[98:103], marker='x')"
   ]
  },
  {
   "cell_type": "code",
   "execution_count": null,
   "metadata": {},
   "outputs": [],
   "source": [
    "ra_vals[98:103]"
   ]
  },
  {
   "cell_type": "code",
   "execution_count": null,
   "metadata": {},
   "outputs": [],
   "source": [
    "new_dec_vals = np.zeros([500])\n",
    "new_ra_vals = np.zeros([500])\n",
    "for i in range(5):\n",
    "    for j in range(100):\n",
    "        index = i * 100 + j\n",
    "        new_index = i * 100 + (99 - j)\n",
    "        if i % 2 == 0:\n",
    "            new_dec_vals[index] = dec_vals[new_index]\n",
    "            new_ra_vals[index] = ra_vals[new_index]\n",
    "        else:\n",
    "            new_dec_vals[index] = dec_vals[index]\n",
    "            new_ra_vals[index] = ra_vals[index]\n",
    "\n",
    "    "
   ]
  },
  {
   "cell_type": "code",
   "execution_count": null,
   "metadata": {},
   "outputs": [],
   "source": [
    "plt.subplot(2,1,1)\n",
    "plt.subplots_adjust(hspace=0.7)\n",
    "plt.title(\"Dec Values\")\n",
    "plt.plot(dec_time_vals, dec_vals)\n",
    "plt.subplot(2,1,2)\n",
    "plt.title(\"Dec Values with order of even seconds reversed\")\n",
    "plt.plot(dec_time_vals, new_dec_vals)\n",
    "#plt.savefig(\"/home/craiglagegit/DATA/Dec_Reversal_11Feb21.pdf\")"
   ]
  },
  {
   "cell_type": "code",
   "execution_count": null,
   "metadata": {},
   "outputs": [],
   "source": [
    "plt.plot(dec_time_vals, new_ra_vals)"
   ]
  },
  {
   "cell_type": "code",
   "execution_count": null,
   "metadata": {
    "jupyter": {
     "source_hidden": true
    }
   },
   "outputs": [],
   "source": [
    "t1 = Time('2021-02-11T15:58:18.533', scale='tai')\n",
    "t2 = t1 + TimeDelta(1, format='sec', scale='tai')\n",
    "df = await client.select_time_series('lsst.sal.ATPtg.mountPositions', '*', t1, t2)\n"
   ]
  },
  {
   "cell_type": "code",
   "execution_count": null,
   "metadata": {},
   "outputs": [],
   "source": [
    "print(df['ra99'],df['ra0'])"
   ]
  },
  {
   "cell_type": "code",
   "execution_count": null,
   "metadata": {},
   "outputs": [],
   "source": [
    "# This is where the tests are carried out.\n",
    "times = []\n",
    "ra_accuracies = []\n",
    "dec_accuracies = []\n",
    "\n",
    "# Slew to starting position\n",
    "await atcs.slew_icrs(ra=str(ra_dec.ra), dec=str(ra_dec.dec), rot=0.0,\n",
    "                      slew_timeout=240., stop_before_slew=False, wait_settle=False)\n",
    "\n",
    "\n",
    "print('track for 2s')\n",
    "await asyncio.sleep(2)\n",
    "# take a quick image to get some header data\n",
    "await latiss.take_engtest(exptime=1)\n",
    "\n",
    "# Now slew to new target\n",
    "print('Starting to Slew to target')\n",
    "start_time = Time(Time.now(), format='fits', scale='tai')\n",
    "await atcs.slew_icrs(ra=str(ra_dec_target.ra), dec=str(ra_dec_target.dec),\n",
    "                      rot=d_rot, slew_timeout=240., \n",
    "                      stop_before_slew=False, wait_settle=False)\n",
    "end_time = Time(Time.now(), format='fits', scale='tai')\n",
    "slew_time = TimeDelta(end_time - start_time, format='sec').value\n",
    "print(f'Time to slew is {slew_time} seconds')\n",
    "times.append(slew_time)\n",
    "await latiss.take_engtest(exptime=1)\n",
    "\n",
    "t_end = end_time + TimeDelta(2, format='sec')\n",
    "nsec = 2\n",
    "mount_position = await client.select_time_series(\"lsst.sal.ATPtg.mountPositions\", ['*'],\n",
    "                                          t_end - TimeDelta(nsec, format='sec'), t_end)\n",
    "ra = merge_packed_time_series(mount_position, 'ra', stride=1, ref_timestamp_col=\"cRioTimestamp\")\n",
    "dec = merge_packed_time_series(mount_position, 'declination', stride=1, ref_timestamp_col=\"cRioTimestamp\")\n",
    "ra_vals = np.array(ra.values.tolist())[:,0]\n",
    "dec_vals = np.array(dec.values.tolist())[:,0]\n",
    "# Errors in arcsec\n",
    "ra_rms = np.sqrt(np.mean((ra_vals*15.0 - ra_dec_target.ra.value)**2)) * 3600.0 \n",
    "dec_rms = np.sqrt(np.mean((dec_vals - ra_dec_target.dec.value)**2)) * 3600.0 \n",
    "ra_accuracies.append(ra_rms)\n",
    "dec_accuracies.append(dec_rms)\n",
    "print(f\"RA rms = {ra_rms}. Dec rms = {dec_rms}.\")\n",
    "\n",
    "# Repeat this going back to origin\n",
    "\n",
    "print('Starting to Slew to target')\n",
    "start_time = Time(Time.now(), format='fits', scale='tai')\n",
    "await atcs.slew_icrs(ra=str(ra_dec.ra), dec=str(ra_dec.dec), rot=0.0,\n",
    "                      slew_timeout=240., stop_before_slew=False, wait_settle=False)\n",
    "\n",
    "end_time = Time(Time.now(), format='fits', scale='tai')\n",
    "slew_time = TimeDelta(end_time - start_time, format='sec').value\n",
    "print(f'Time to slew is {slew_time} seconds')\n",
    "times.append(slew_time)\n",
    "await latiss.take_engtest(exptime=1)\n",
    "\n",
    "t_end = end_time + TimeDelta(2, format='sec')\n",
    "nsec = 2\n",
    "mount_position = await client.select_time_series(\"lsst.sal.ATPtg.mountPositions\", ['*'],\n",
    "                                          t_end - TimeDelta(nsec, format='sec'), t_end)\n",
    "ra = merge_packed_time_series(mount_position, 'ra', stride=1, ref_timestamp_col=\"cRioTimestamp\")\n",
    "dec = merge_packed_time_series(mount_position, 'declination', stride=1, ref_timestamp_col=\"cRioTimestamp\")\n",
    "ra_vals = np.array(ra.values.tolist())[:,0]\n",
    "dec_vals = np.array(dec.values.tolist())[:,0]\n",
    "# Errors in arcsec\n",
    "ra_rms = np.sqrt(np.mean((ra_vals*15.0 - ra_dec.ra.value)**2)) * 3600.0 \n",
    "dec_rms = np.sqrt(np.mean((dec_vals - ra_dec.dec.value)**2)) * 3600.0 \n",
    "ra_accuracies.append(ra_rms)\n",
    "dec_accuracies.append(dec_rms)\n",
    "print(f\"RA rms = {ra_rms}. Dec rms = {dec_rms}.\")\n",
    "\n"
   ]
  },
  {
   "cell_type": "code",
   "execution_count": null,
   "metadata": {},
   "outputs": [],
   "source": []
  },
  {
   "cell_type": "code",
   "execution_count": null,
   "metadata": {},
   "outputs": [],
   "source": []
  },
  {
   "cell_type": "code",
   "execution_count": null,
   "metadata": {},
   "outputs": [],
   "source": [
    "# Now check to see if the specs are met:\n",
    "Aux_Tel_Smslew_AcqTime = 10.0\n",
    "if max(times) < Aux_Tel_Smslew_AcqTime:\n",
    "    print(f\"Aux_Tel_Smslew_AcqTime passed.  Spec = {Aux_Tel_Smslew_AcqTime}.\\\n",
    "    Measured = {max(times)} \")\n",
    "else:\n",
    "    print(f\"Aux_Tel_Smslew_AcqTime failed!  Spec = {Aux_Tel_Smslew_AcqTime}.\\\n",
    "    Measured = {max(times)} \")\n",
    "\n",
    "Aux_Tel_Sm_Slew_Abs_Pointing = 2.5\n",
    "worst_case = max(ra_accuracies + dec_accuracies)\n",
    "if worst_case < Aux_Tel_Sm_Slew_Abs_Pointing:\n",
    "    print(f\"Aux_Tel_Sm_Slew_Abs_Pointing passed.  Spec = {Aux_Tel_Sm_Slew_Abs_Pointing}. \\\n",
    "    Measured = {worst_case} \")\n",
    "else:\n",
    "    print(f\"Aux_Tel_Sm_Slew_Abs_Pointing failed!  Spec = {Aux_Tel_Sm_Slew_Abs_Pointing}. \\\n",
    "    Measured = {worst_case} \")\n"
   ]
  },
  {
   "cell_type": "code",
   "execution_count": null,
   "metadata": {},
   "outputs": [],
   "source": [
    "#await salobj.set_summary_state(atcs.rem.atptg, salobj.State.STANDBY)"
   ]
  },
  {
   "cell_type": "code",
   "execution_count": null,
   "metadata": {},
   "outputs": [],
   "source": [
    "#await salobj.set_summary_state(atcs.rem.atmcs, salobj.State.STANDBY)"
   ]
  },
  {
   "cell_type": "code",
   "execution_count": null,
   "metadata": {},
   "outputs": [],
   "source": [
    "# For shutdown of system\n",
    "await atcs.stop_tracking()"
   ]
  },
  {
   "cell_type": "code",
   "execution_count": null,
   "metadata": {},
   "outputs": [],
   "source": [
    "# turn off corrections\n",
    "tmp = await atcs.rem.ataos.cmd_disableCorrection.set_start(m1=True, hexapod=True, atspectrograph=True)"
   ]
  },
  {
   "cell_type": "code",
   "execution_count": null,
   "metadata": {},
   "outputs": [],
   "source": [
    "# Putting everything back in standby.\n",
    "await atcs.shutdown()"
   ]
  },
  {
   "cell_type": "code",
   "execution_count": null,
   "metadata": {},
   "outputs": [],
   "source": [
    "# take event checking out the slew commands to test telescope only\n",
    "# otherwise it'll wait for the dome before completing slew command\n",
    "atcs.check.atdome = False\n",
    "atcs.check.atdometrajectory = False"
   ]
  },
  {
   "cell_type": "code",
   "execution_count": null,
   "metadata": {},
   "outputs": [],
   "source": [
    "await atcs.rem.atdome.cmd_start.set_start(settingsToApply=\"test\", timeout=30)"
   ]
  },
  {
   "cell_type": "code",
   "execution_count": null,
   "metadata": {},
   "outputs": [],
   "source": [
    "await salobj.set_summary_state(atcs.rem.atdome, salobj.State.STANDBY, settingsToApply=\"test\")"
   ]
  },
  {
   "cell_type": "code",
   "execution_count": null,
   "metadata": {},
   "outputs": [],
   "source": [
    "await salobj.set_summary_state(atcs.rem.atdometrajectory, salobj.State.STANDBY)"
   ]
  },
  {
   "cell_type": "code",
   "execution_count": null,
   "metadata": {},
   "outputs": [],
   "source": [
    "await salobj.set_summary_state(latiss.rem.atspectrograph, salobj.State.STANDBY)\n",
    "await salobj.set_summary_state(latiss.rem.atcamera, salobj.State.STANDBY)\n",
    "await salobj.set_summary_state(latiss.rem.atheaderservice, salobj.State.STANDBY)\n",
    "await salobj.set_summary_state(latiss.rem.atarchiver, salobj.State.STANDBY)"
   ]
  },
  {
   "cell_type": "code",
   "execution_count": null,
   "metadata": {},
   "outputs": [],
   "source": []
  }
 ],
 "metadata": {
  "kernelspec": {
   "display_name": "LSST",
   "language": "python",
   "name": "lsst"
  },
  "language_info": {
   "codemirror_mode": {
    "name": "ipython",
    "version": 3
   },
   "file_extension": ".py",
   "mimetype": "text/x-python",
   "name": "python",
   "nbconvert_exporter": "python",
   "pygments_lexer": "ipython3",
   "version": "3.8.8"
  }
 },
 "nbformat": 4,
 "nbformat_minor": 4
}
