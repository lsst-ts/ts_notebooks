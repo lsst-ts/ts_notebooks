{
 "cells": [
  {
   "cell_type": "code",
   "execution_count": null,
   "id": "129d8792",
   "metadata": {},
   "outputs": [],
   "source": [
    "import os\n",
    "import sys\n",
    "import asyncio\n",
    "import time\n",
    "\n",
    "import numpy as np\n",
    "import logging \n",
    "import yaml\n",
    "import matplotlib.pyplot as plt\n",
    "import astropy\n",
    "\n",
    "from lsst.ts import salobj\n",
    "from lsst.ts.externalscripts.auxtel.latiss_cwfs_align import LatissCWFSAlign\n",
    "from lsst.ts.externalscripts.auxtel.latiss_acquire_and_take_sequence import LatissAcquireAndTakeSequence\n",
    "\n",
    "from lsst.ts.idl.enums.Script import ScriptState"
   ]
  },
  {
   "cell_type": "code",
   "execution_count": null,
   "id": "40ad9cc5",
   "metadata": {},
   "outputs": [],
   "source": [
    "print(os.environ[\"OSPL_URI\"])\n",
    "print(os.environ[\"LSST_DDS_PARTITION_PREFIX\"])"
   ]
  },
  {
   "cell_type": "code",
   "execution_count": null,
   "id": "278cfa61",
   "metadata": {},
   "outputs": [],
   "source": [
    "# for autocompleted to work\n",
    "%config IPCompleter.use_jedi = False"
   ]
  },
  {
   "cell_type": "code",
   "execution_count": null,
   "id": "b19d64f2",
   "metadata": {},
   "outputs": [],
   "source": [
    "stream_handler = logging.StreamHandler(sys.stdout)\n",
    "# if you want logging\n",
    "logger = logging.getLogger()\n",
    "logger.addHandler(stream_handler)\n",
    "logger.level = logging.DEBUG\n",
    "\n",
    "# turn off logging for matplotlib\n",
    "mpl_logger = logging.getLogger('matplotlib')\n",
    "mpl_logger.setLevel(logging.WARNING)"
   ]
  },
  {
   "cell_type": "code",
   "execution_count": null,
   "id": "cd82f95f",
   "metadata": {},
   "outputs": [],
   "source": [
    "script = LatissCWFSAlign(index=1, remotes=False)  # this essentially calls the init method\n",
    "await script.start_task"
   ]
  },
  {
   "cell_type": "code",
   "execution_count": null,
   "id": "11dbec20",
   "metadata": {},
   "outputs": [],
   "source": []
  },
  {
   "cell_type": "code",
   "execution_count": null,
   "id": "629a22a4",
   "metadata": {},
   "outputs": [],
   "source": [
    "configuration = yaml.safe_dump({\"filter\": 'FELH0600', \n",
    "                                \"grating\": 'empty_1',\n",
    "                                \"exposure_time\": 20,\n",
    "                                \"dataPath\": '/repo/main'})"
   ]
  },
  {
   "cell_type": "markdown",
   "id": "1c02d72d",
   "metadata": {},
   "source": [
    "Set script state to UNCONFIGURED. <br>\n",
    "The next line is not required the first time the script is run, however, in each additional instance the cell is run, an error will be thrown if it is not included. <br>\n",
    "Therefore, it is included here despite being a non-operation in the first instance."
   ]
  },
  {
   "cell_type": "code",
   "execution_count": null,
   "id": "7e6b40ed",
   "metadata": {},
   "outputs": [],
   "source": [
    "script.set_state(ScriptState.UNCONFIGURED)"
   ]
  },
  {
   "cell_type": "markdown",
   "id": "d18b7efc",
   "metadata": {},
   "source": [
    "#### Put the ScriptState to CONFIGURED"
   ]
  },
  {
   "cell_type": "code",
   "execution_count": null,
   "id": "0afdf5d8",
   "metadata": {},
   "outputs": [],
   "source": [
    "config_data = script.cmd_configure.DataType()\n",
    "config_data.config = configuration\n",
    "await script.do_configure(config_data)"
   ]
  },
  {
   "cell_type": "markdown",
   "id": "16859044",
   "metadata": {},
   "source": [
    "#### BELOW IS ONLY FOR TESTING PURPOSES"
   ]
  },
  {
   "cell_type": "code",
   "execution_count": null,
   "id": "b444b170",
   "metadata": {},
   "outputs": [],
   "source": [
    "# If desired then different filenames can be manually input here\n",
    "# script.intra_visit_id=2021060800400\n",
    "# script.extra_visit_id=2021060800401 \n",
    "# script.angle=-100.13095589419214\n",
    "script.intra_visit_id=2021072700008\n",
    "script.extra_visit_id=2021072700009 \n",
    "script.angle=-28.65\n",
    "script.datapath='/readonly/repo/main/'"
   ]
  },
  {
   "cell_type": "code",
   "execution_count": null,
   "id": "4066fa08",
   "metadata": {},
   "outputs": [],
   "source": [
    "# reruns reduction part only. ALL 3 fields above must be set! \n",
    "rerun_results = await script.run_cwfs()"
   ]
  },
  {
   "cell_type": "code",
   "execution_count": null,
   "id": "1d6fcd8b",
   "metadata": {},
   "outputs": [],
   "source": [
    "results=rerun_results"
   ]
  },
  {
   "cell_type": "code",
   "execution_count": null,
   "id": "10f6884a",
   "metadata": {},
   "outputs": [],
   "source": [
    "%matplotlib inline"
   ]
  },
  {
   "cell_type": "code",
   "execution_count": null,
   "id": "2cfe3a39",
   "metadata": {},
   "outputs": [],
   "source": [
    "# show donuts and centroids\n",
    "fig1 = plt.figure(1, figsize=(12,8))\n",
    "ax11 = fig1.add_subplot(121)\n",
    "ax11.set_title(f\"intra visitID - {script_cwfs.intra_visit_id}\")\n",
    "ax11.imshow(script_cwfs.I1[0].image0)\n",
    "ax11.contour(script_cwfs.algo.pMask) \n",
    "ax12 = fig1.add_subplot(122)\n",
    "ax12.set_title(f\"extra visitID - {script_cwfs.extra_visit_id}\")\n",
    "ax12.imshow(script_cwfs.I2[0].image0)\n",
    "ax12.contour(script_cwfs.algo.pMask) "
   ]
  },
  {
   "cell_type": "code",
   "execution_count": null,
   "id": "f611f2d9",
   "metadata": {},
   "outputs": [],
   "source": [
    "# 400-401 - 8 arcmin"
   ]
  },
  {
   "cell_type": "code",
   "execution_count": null,
   "id": "c6a296b3",
   "metadata": {},
   "outputs": [],
   "source": [
    "script_cwfs.zern"
   ]
  },
  {
   "cell_type": "code",
   "execution_count": null,
   "id": "654c3e8c",
   "metadata": {},
   "outputs": [],
   "source": [
    "script_cwfs.algo.zer4UpNm"
   ]
  },
  {
   "cell_type": "code",
   "execution_count": null,
   "id": "de17c034",
   "metadata": {},
   "outputs": [],
   "source": [
    "script_cwfs.algo.zer4UpNm[5]"
   ]
  },
  {
   "cell_type": "code",
   "execution_count": null,
   "id": "80bbe765",
   "metadata": {},
   "outputs": [],
   "source": [
    "script_cwfs.algo.zer4UpNm[6]"
   ]
  },
  {
   "cell_type": "code",
   "execution_count": null,
   "id": "19a5d286",
   "metadata": {},
   "outputs": [],
   "source": []
  },
  {
   "cell_type": "code",
   "execution_count": null,
   "id": "225b7113",
   "metadata": {},
   "outputs": [],
   "source": [
    "# 397-398 - 4 arcmin"
   ]
  },
  {
   "cell_type": "code",
   "execution_count": null,
   "id": "68f25c21",
   "metadata": {},
   "outputs": [],
   "source": [
    "script_cwfs.zern"
   ]
  },
  {
   "cell_type": "code",
   "execution_count": null,
   "id": "4368137d",
   "metadata": {},
   "outputs": [],
   "source": [
    "script_cwfs.algo.zer4UpNm[5]"
   ]
  },
  {
   "cell_type": "code",
   "execution_count": null,
   "id": "3823f66c",
   "metadata": {},
   "outputs": [],
   "source": [
    "script_cwfs.algo.zer4UpNm[6]"
   ]
  },
  {
   "cell_type": "code",
   "execution_count": null,
   "id": "f0e7c2a4",
   "metadata": {},
   "outputs": [],
   "source": [
    "# 394,395 - 2 arcmin"
   ]
  },
  {
   "cell_type": "code",
   "execution_count": null,
   "id": "92901dff",
   "metadata": {},
   "outputs": [],
   "source": [
    "script_cwfs.zern"
   ]
  },
  {
   "cell_type": "code",
   "execution_count": null,
   "id": "afb622bb",
   "metadata": {},
   "outputs": [],
   "source": [
    "script_cwfs.algo.zer4UpNm[5]"
   ]
  },
  {
   "cell_type": "code",
   "execution_count": null,
   "id": "8e4fcd8e",
   "metadata": {},
   "outputs": [],
   "source": [
    "script_cwfs.algo.zer4UpNm[6]"
   ]
  },
  {
   "cell_type": "code",
   "execution_count": null,
   "id": "97f45fa9",
   "metadata": {},
   "outputs": [],
   "source": []
  }
 ],
 "metadata": {
  "kernelspec": {
   "display_name": "LSST",
   "language": "python",
   "name": "lsst"
  },
  "language_info": {
   "codemirror_mode": {
    "name": "ipython",
    "version": 3
   },
   "file_extension": ".py",
   "mimetype": "text/x-python",
   "name": "python",
   "nbconvert_exporter": "python",
   "pygments_lexer": "ipython3",
   "version": "3.8.8"
  }
 },
 "nbformat": 4,
 "nbformat_minor": 5
}
