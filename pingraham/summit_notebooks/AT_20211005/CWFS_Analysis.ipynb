{
 "cells": [
  {
   "cell_type": "code",
   "execution_count": null,
   "id": "15dc5a4f",
   "metadata": {},
   "outputs": [],
   "source": [
    "import os\n",
    "import sys\n",
    "import asyncio\n",
    "import time\n",
    "\n",
    "import numpy as np\n",
    "import logging \n",
    "import yaml\n",
    "import matplotlib.pyplot as plt\n",
    "import astropy\n",
    "\n",
    "from lsst.ts import salobj\n",
    "from lsst.ts.externalscripts.auxtel.latiss_cwfs_align import LatissCWFSAlign\n",
    "from lsst.ts.externalscripts.auxtel.latiss_acquire_and_take_sequence import LatissAcquireAndTakeSequence\n",
    "\n",
    "from lsst.ts.idl.enums.Script import ScriptState"
   ]
  },
  {
   "cell_type": "code",
   "execution_count": null,
   "id": "961646ac",
   "metadata": {},
   "outputs": [],
   "source": [
    "print(os.environ[\"OSPL_URI\"])\n",
    "print(os.environ[\"LSST_DDS_PARTITION_PREFIX\"])"
   ]
  },
  {
   "cell_type": "code",
   "execution_count": null,
   "id": "eb20ee64",
   "metadata": {},
   "outputs": [],
   "source": [
    "stream_handler = logging.StreamHandler(sys.stdout)\n",
    "# if you want logging\n",
    "logger = logging.getLogger()\n",
    "logger.addHandler(stream_handler)\n",
    "logger.level = logging.DEBUG\n",
    "\n",
    "# turn off logging for matplotlib\n",
    "mpl_logger = logging.getLogger('matplotlib')\n",
    "mpl_logger.setLevel(logging.WARNING)"
   ]
  },
  {
   "cell_type": "code",
   "execution_count": null,
   "id": "84064c5e",
   "metadata": {},
   "outputs": [],
   "source": [
    "script = LatissCWFSAlign(index=1, remotes=False)  # this essentially calls the init method\n",
    "await script.start_task"
   ]
  },
  {
   "cell_type": "code",
   "execution_count": null,
   "id": "54c3ecfa",
   "metadata": {},
   "outputs": [],
   "source": []
  },
  {
   "cell_type": "code",
   "execution_count": null,
   "id": "2b48a860",
   "metadata": {},
   "outputs": [],
   "source": [
    "configuration = yaml.safe_dump({\"filter\": 'FELH0600', \n",
    "                                \"grating\": 'empty_1',\n",
    "                                \"exposure_time\": 20,\n",
    "                                \"datapath\": '/readonly/repo/main/' # NTS\n",
    "                               })"
   ]
  },
  {
   "cell_type": "markdown",
   "id": "e961ff41",
   "metadata": {},
   "source": [
    "Set script state to UNCONFIGURED. <br>\n",
    "The next line is not required the first time the script is run, however, in each additional instance the cell is run, an error will be thrown if it is not included. <br>\n",
    "Therefore, it is included here despite being a non-operation in the first instance."
   ]
  },
  {
   "cell_type": "code",
   "execution_count": null,
   "id": "bf7bae3b",
   "metadata": {},
   "outputs": [],
   "source": [
    "script.set_state(ScriptState.UNCONFIGURED)"
   ]
  },
  {
   "cell_type": "markdown",
   "id": "83f61f8a",
   "metadata": {},
   "source": [
    "#### Put the ScriptState to CONFIGURED"
   ]
  },
  {
   "cell_type": "code",
   "execution_count": null,
   "id": "c62ca44f",
   "metadata": {},
   "outputs": [],
   "source": [
    "config_data = script.cmd_configure.DataType()\n",
    "config_data.config = configuration\n",
    "await script.do_configure(config_data)"
   ]
  },
  {
   "cell_type": "markdown",
   "id": "920a170a",
   "metadata": {},
   "source": [
    "#### BELOW IS ONLY FOR TESTING PURPOSES"
   ]
  },
  {
   "cell_type": "code",
   "execution_count": null,
   "id": "e616b5f0",
   "metadata": {},
   "outputs": [],
   "source": [
    "# If desired then different filenames can be manually input here\n",
    "# script.intra_visit_id=2021060800400\n",
    "# script.extra_visit_id=2021060800401 \n",
    "# script.angle=-100.13095589419214\n",
    "# script.intra_visit_id=2021072700008\n",
    "# script.extra_visit_id=2021072700009\n",
    "script.intra_visit_id=2021100400418\n",
    "script.extra_visit_id=2021100400419 \n",
    "script.angle=-142.55\n",
    "script.datapath='/readonly/repo/main/'"
   ]
  },
  {
   "cell_type": "code",
   "execution_count": null,
   "id": "09bc4df7",
   "metadata": {},
   "outputs": [],
   "source": [
    "# reruns reduction part only. ALL 3 fields above must be set! \n",
    "rerun_results = await script.run_cwfs()"
   ]
  },
  {
   "cell_type": "code",
   "execution_count": null,
   "id": "24e4b609",
   "metadata": {},
   "outputs": [],
   "source": [
    "results=rerun_results"
   ]
  },
  {
   "cell_type": "code",
   "execution_count": null,
   "id": "a2ed3ad2",
   "metadata": {},
   "outputs": [],
   "source": [
    "%matplotlib inline"
   ]
  },
  {
   "cell_type": "code",
   "execution_count": null,
   "id": "902f618e",
   "metadata": {},
   "outputs": [],
   "source": [
    "# show donuts and centroids\n",
    "fig1 = plt.figure(1, figsize=(12,8))\n",
    "ax11 = fig1.add_subplot(121)\n",
    "ax11.set_title(f\"intra visitID - {script_cwfs.intra_visit_id}\")\n",
    "ax11.imshow(script_cwfs.I1[0].image0)\n",
    "ax11.contour(script_cwfs.algo.pMask) \n",
    "ax12 = fig1.add_subplot(122)\n",
    "ax12.set_title(f\"extra visitID - {script_cwfs.extra_visit_id}\")\n",
    "ax12.imshow(script_cwfs.I2[0].image0)\n",
    "ax12.contour(script_cwfs.algo.pMask) "
   ]
  },
  {
   "cell_type": "code",
   "execution_count": null,
   "id": "dc0996d9",
   "metadata": {},
   "outputs": [],
   "source": [
    "# 400-401 - 8 arcmin"
   ]
  },
  {
   "cell_type": "code",
   "execution_count": null,
   "id": "c91681c4",
   "metadata": {},
   "outputs": [],
   "source": [
    "script_cwfs.zern"
   ]
  },
  {
   "cell_type": "code",
   "execution_count": null,
   "id": "eee1c5e6",
   "metadata": {},
   "outputs": [],
   "source": [
    "script_cwfs.algo.zer4UpNm"
   ]
  },
  {
   "cell_type": "code",
   "execution_count": null,
   "id": "3879bbaa",
   "metadata": {},
   "outputs": [],
   "source": [
    "script_cwfs.algo.zer4UpNm[5]"
   ]
  },
  {
   "cell_type": "code",
   "execution_count": null,
   "id": "e89fc267",
   "metadata": {},
   "outputs": [],
   "source": [
    "script_cwfs.algo.zer4UpNm[6]"
   ]
  },
  {
   "cell_type": "code",
   "execution_count": null,
   "id": "abdea543",
   "metadata": {},
   "outputs": [],
   "source": []
  },
  {
   "cell_type": "code",
   "execution_count": null,
   "id": "68c7b191",
   "metadata": {},
   "outputs": [],
   "source": [
    "# 397-398 - 4 arcmin"
   ]
  },
  {
   "cell_type": "code",
   "execution_count": null,
   "id": "dbc8bfb8",
   "metadata": {},
   "outputs": [],
   "source": [
    "script_cwfs.zern"
   ]
  },
  {
   "cell_type": "code",
   "execution_count": null,
   "id": "bafd59c5",
   "metadata": {},
   "outputs": [],
   "source": [
    "script_cwfs.algo.zer4UpNm[5]"
   ]
  },
  {
   "cell_type": "code",
   "execution_count": null,
   "id": "fbac7f80",
   "metadata": {},
   "outputs": [],
   "source": [
    "script_cwfs.algo.zer4UpNm[6]"
   ]
  },
  {
   "cell_type": "code",
   "execution_count": null,
   "id": "c5df298c",
   "metadata": {},
   "outputs": [],
   "source": [
    "# 394,395 - 2 arcmin"
   ]
  },
  {
   "cell_type": "code",
   "execution_count": null,
   "id": "9b0b421e",
   "metadata": {},
   "outputs": [],
   "source": [
    "script_cwfs.zern"
   ]
  },
  {
   "cell_type": "code",
   "execution_count": null,
   "id": "eac699bd",
   "metadata": {},
   "outputs": [],
   "source": [
    "script_cwfs.algo.zer4UpNm[5]"
   ]
  },
  {
   "cell_type": "code",
   "execution_count": null,
   "id": "d2e38f7e",
   "metadata": {},
   "outputs": [],
   "source": [
    "script_cwfs.algo.zer4UpNm[6]"
   ]
  },
  {
   "cell_type": "code",
   "execution_count": null,
   "id": "1c5f0f2f",
   "metadata": {},
   "outputs": [],
   "source": []
  }
 ],
 "metadata": {
  "kernelspec": {
   "display_name": "LSST",
   "language": "python",
   "name": "lsst"
  },
  "language_info": {
   "codemirror_mode": {
    "name": "ipython",
    "version": 3
   },
   "file_extension": ".py",
   "mimetype": "text/x-python",
   "name": "python",
   "nbconvert_exporter": "python",
   "pygments_lexer": "ipython3",
   "version": "3.8.8"
  }
 },
 "nbformat": 4,
 "nbformat_minor": 5
}
