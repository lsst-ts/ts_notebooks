{
 "cells": [
  {
   "cell_type": "code",
   "execution_count": null,
   "metadata": {},
   "outputs": [],
   "source": [
    "import sys\n",
    "import asyncio\n",
    "import time\n",
    "import os\n",
    "\n",
    "import numpy as np\n",
    "\n",
    "from lsst.ts import salobj\n",
    "\n",
    "from lsst.ts.observatory.control.auxtel.atcs import ATCS\n",
    "from lsst.ts.observatory.control.auxtel.latiss import LATISS\n",
    "\n",
    "from lsst.ts.observatory.control.utils import RotType"
   ]
  },
  {
   "cell_type": "code",
   "execution_count": null,
   "metadata": {},
   "outputs": [],
   "source": [
    "pixel_scale = 0.09569  # arcsec/pixel"
   ]
  },
  {
   "cell_type": "code",
   "execution_count": null,
   "metadata": {},
   "outputs": [],
   "source": [
    "print(f'shift for ronchi90 is: {(ronchi90[:]-empty[:])*}')"
   ]
  },
  {
   "cell_type": "code",
   "execution_count": null,
   "metadata": {},
   "outputs": [],
   "source": [
    "# Calculation for position offsets\n",
    "empty = (1782.9, 1782.9)  # file 184 , RG610, empty\n",
    "ronchi90 = (1613, 1803)  # file 185 - RG610, ronchi90lpmm\n",
    "ronchi170 = (1620, 1795) # file 188"
   ]
  },
  {
   "cell_type": "code",
   "execution_count": null,
   "metadata": {},
   "outputs": [],
   "source": [
    "# Calculation for position offsets\n",
    "empty = np.array((1782.9, 1782.9))  # file 184 , RG610, empty\n",
    "ronchi90 = np.array((1613, 1803))  # file 185 - RG610, ronchi90lpmm\n",
    "ronchi170 = np.array((1620, 1795)) # file 188 - RG610, rochi170lpmm\n",
    "holo = np.array((1783, 1780)) # file 191 - RG610, holo"
   ]
  },
  {
   "cell_type": "code",
   "execution_count": null,
   "metadata": {},
   "outputs": [],
   "source": [
    "print(f'shift for ronchi90 is: {(ronchi90[:]-empty[:])*pixel_scale}')\n",
    "print(f'shift for ronchi170 is: {(ronchi170[:]-empty[:])*pixel_scale}')\n",
    "print(f'shift for hologram is: {(holo[:]-empty[:])*pixel_scale}')"
   ]
  },
  {
   "cell_type": "code",
   "execution_count": null,
   "metadata": {},
   "outputs": [],
   "source": [
    "# offset\n",
    "await atcs.offset_radec(-5*60,0)\n",
    "await atcs.stop_tracking()\n",
    "await atcs.take_object(120, filter='RG610')"
   ]
  }
 ],
 "metadata": {
  "kernelspec": {
   "display_name": "LSST",
   "language": "python",
   "name": "lsst"
  },
  "language_info": {
   "codemirror_mode": {
    "name": "ipython",
    "version": 3
   },
   "file_extension": ".py",
   "mimetype": "text/x-python",
   "name": "python",
   "nbconvert_exporter": "python",
   "pygments_lexer": "ipython3",
   "version": "3.8.6"
  }
 },
 "nbformat": 4,
 "nbformat_minor": 4
}
