{
 "cells": [
  {
   "cell_type": "markdown",
   "metadata": {},
   "source": [
    "## This notebook performs a single science visit for this run for a target HD 164461\n",
    "### This should be run AFTER performing focus on nearby star HD 185975\n",
    "##### The script, slews and acquires the target, applies focus correction, takes sequence of data"
   ]
  },
  {
   "cell_type": "markdown",
   "metadata": {},
   "source": [
    "#### WARNING: This currently requires ts_externalscripts branch **tickets/DM-29061**"
   ]
  },
  {
   "cell_type": "code",
   "execution_count": null,
   "metadata": {},
   "outputs": [],
   "source": [
    "TARGET=\"HD 164461\" #pole"
   ]
  },
  {
   "cell_type": "code",
   "execution_count": null,
   "metadata": {},
   "outputs": [],
   "source": [
    "import os\n",
    "import sys\n",
    "import asyncio\n",
    "import time\n",
    "\n",
    "import numpy as np\n",
    "import logging \n",
    "import yaml\n",
    "import matplotlib.pyplot as plt\n",
    "import astropy\n",
    "\n",
    "from lsst.ts import salobj\n",
    "from lsst.ts.externalscripts.auxtel.latiss_cwfs_align import LatissCWFSAlign\n",
    "from lsst.ts.externalscripts.auxtel.latiss_acquire_and_take_sequence import LatissAcquireAndTakeSequence\n",
    "\n",
    "from lsst.ts.idl.enums.Script import ScriptState"
   ]
  },
  {
   "cell_type": "code",
   "execution_count": null,
   "metadata": {},
   "outputs": [],
   "source": [
    "print(os.environ[\"OSPL_URI\"])\n",
    "print(os.environ[\"LSST_DDS_PARTITION_PREFIX\"])"
   ]
  },
  {
   "cell_type": "code",
   "execution_count": null,
   "metadata": {},
   "outputs": [],
   "source": [
    "# for autocompleted to work\n",
    "%config IPCompleter.use_jedi = False"
   ]
  },
  {
   "cell_type": "code",
   "execution_count": null,
   "metadata": {},
   "outputs": [],
   "source": [
    "stream_handler = logging.StreamHandler(sys.stdout)\n",
    "# if you want logging\n",
    "logger = logging.getLogger()\n",
    "logger.addHandler(stream_handler)\n",
    "logger.level = logging.DEBUG\n",
    "\n",
    "# turn off logging for matplotlib\n",
    "mpl_logger = logging.getLogger('matplotlib')\n",
    "mpl_logger.setLevel(logging.WARNING)"
   ]
  },
  {
   "cell_type": "code",
   "execution_count": null,
   "metadata": {},
   "outputs": [],
   "source": [
    "# make sure all remotes etc are running\n",
    "script = LatissAcquireAndTakeSequence(index=1)  # this essentially calls the init method of the script\n",
    "#await asyncio.sleep(10) # This can be removed in the future...\n",
    "await script.start_task"
   ]
  },
  {
   "cell_type": "code",
   "execution_count": null,
   "metadata": {},
   "outputs": [],
   "source": [
    "# set wrap strategy\n",
    "# this is required until the ATPtg is updated to not configure the mount for maximum time on target\n",
    "script.atcs.rem.atptg.cmd_raDecTarget.set(azWrapStrategy=1)  # 1 does not unwrap, 0 unwraps"
   ]
  },
  {
   "cell_type": "code",
   "execution_count": null,
   "metadata": {},
   "outputs": [],
   "source": [
    "# Do acquisition in the same mode we'll use to focus afterwards"
   ]
  },
  {
   "cell_type": "code",
   "execution_count": null,
   "metadata": {},
   "outputs": [],
   "source": [
    "acq1_yaml = yaml.safe_dump({\"object_name\": TARGET,\n",
    "                            \"do_acquire\": True,\n",
    "                            \"acq_filter\" : 'RG610',\n",
    "                            \"acq_grating\" : 'empty_1', \n",
    "                            \"acq_exposure_time\": 0.5,\n",
    "                            \"max_acq_iter\": 4,\n",
    "                            \"target_pointing_tolerance\": 2,\n",
    "                            \"do_pointing_model\": False,\n",
    "                            \"dataPath\": '/project/shared/auxTel/rerun/quickLook',\n",
    "                            \"target_pointing_verification\": False})\n",
    "print(acq1_yaml)"
   ]
  },
  {
   "cell_type": "code",
   "execution_count": null,
   "metadata": {},
   "outputs": [],
   "source": [
    "# Set script state to UNCONFIGURED\n",
    "# this is required to run the script a 2nd time but otherwise is a no-op\n",
    "script.set_state(ScriptState.UNCONFIGURED)\n",
    "# Configure the script, which puts the ScriptState to CONFIGURED\n",
    "acq1_configuration = script.cmd_configure.DataType()\n",
    "acq1_configuration.config = acq1_yaml\n",
    "await script.do_configure(acq1_configuration)"
   ]
  },
  {
   "cell_type": "code",
   "execution_count": null,
   "metadata": {},
   "outputs": [],
   "source": [
    "# ATAOS must be on and corrections enabled, do as follows if required\n",
    "# await script.atcs.rem.ataos.cmd_enableCorrection.set_start(m1=True, hexapod=True, atspectrograph=True)"
   ]
  },
  {
   "cell_type": "code",
   "execution_count": null,
   "metadata": {},
   "outputs": [],
   "source": [
    "# get group_id_data that will be used for all images for this target\n",
    "time_for_groupID=astropy.time.Time.now().isot\n",
    "group_id_data = script.cmd_setGroupId.DataType(\n",
    "                groupId=time_for_groupID\n",
    "            )\n",
    "await script.do_setGroupId(group_id_data)"
   ]
  },
  {
   "cell_type": "code",
   "execution_count": null,
   "metadata": {},
   "outputs": [],
   "source": [
    "# This will align the target \n",
    "acq_results = await script.arun()"
   ]
  },
  {
   "cell_type": "markdown",
   "metadata": {},
   "source": [
    "### Now perform science data with 90lpmm Ronchi"
   ]
  },
  {
   "cell_type": "code",
   "execution_count": null,
   "metadata": {},
   "outputs": [],
   "source": [
    "seq1_yaml = yaml.safe_dump({\"object_name\": TARGET,\n",
    "                                \"do_acquire\": False,\n",
    "                                \"do_take_sequence\": True,\n",
    "                                \"exposure_time_sequence\" : [10, 10, 10,\n",
    "                                                            10, 10, 10,\n",
    "                                                            10, 10, 10], \n",
    "                                \"filter_sequence\": ['RG610','RG610', 'RG610',\n",
    "                                                    'BG40','BG40', 'BG40',\n",
    "                                                    'empty_1','empty_1', 'empty_1'], \n",
    "                                # RG610 and Ronchi\n",
    "                                \"grating_sequence\": ['ronchi90lpmm', 'ronchi90lpmm','ronchi90lpmm',\n",
    "                                                     'ronchi90lpmm', 'ronchi90lpmm', 'ronchi90lpmm',\n",
    "                                                     'ronchi90lpmm', 'ronchi90lpmm', 'ronchi90lpmm'],\n",
    "                                \"do_pointing_model\": False,\n",
    "                                \"dataPath\": '/project/shared/auxTel/rerun/quickLook',\n",
    "                                \"target_pointing_verification\": False})\n",
    "print(seq1_yaml)"
   ]
  },
  {
   "cell_type": "code",
   "execution_count": null,
   "metadata": {},
   "outputs": [],
   "source": [
    "# Set script state to UNCONFIGURED\n",
    "# this is required to run the script a 2nd time but otherwise is a no-op\n",
    "script.set_state(ScriptState.UNCONFIGURED)\n",
    "# Configure the script, which puts the ScriptState to CONFIGURED\n",
    "seq1_configuration = script.cmd_configure.DataType()\n",
    "seq1_configuration.config = seq1_yaml\n",
    "await script.do_configure(seq1_configuration)"
   ]
  },
  {
   "cell_type": "code",
   "execution_count": null,
   "metadata": {},
   "outputs": [],
   "source": [
    "# This take the sequence of images with the Ronchi\n",
    "seq1_results = await script.arun()"
   ]
  },
  {
   "cell_type": "code",
   "execution_count": null,
   "metadata": {},
   "outputs": [],
   "source": []
  },
  {
   "cell_type": "markdown",
   "metadata": {},
   "source": [
    "### Now re-acquire but using the hologram grating\n",
    "##### This is the same position as the ronchi170lpmm grating"
   ]
  },
  {
   "cell_type": "code",
   "execution_count": null,
   "metadata": {},
   "outputs": [],
   "source": [
    "acq2_yaml = yaml.safe_dump({\"object_name\": TARGET,\n",
    "                            \"do_acquire\": True,\n",
    "                            \"acq_filter\" : 'RG610',\n",
    "                            \"acq_grating\" : 'holo4_003', \n",
    "                            \"acq_exposure_time\": 0.5,\n",
    "                            \"max_acq_iter\": 4,\n",
    "                            \"target_pointing_tolerance\": 2,\n",
    "                            \"do_pointing_model\": False,\n",
    "                            \"dataPath\": '/project/shared/auxTel/rerun/quickLook',\n",
    "                            \"target_pointing_verification\": False})\n",
    "print(acq2_yaml)"
   ]
  },
  {
   "cell_type": "code",
   "execution_count": null,
   "metadata": {},
   "outputs": [],
   "source": [
    "# Set script state to UNCONFIGURED\n",
    "# this is required to run the script a 2nd time but otherwise is a no-op\n",
    "script.set_state(ScriptState.UNCONFIGURED)\n",
    "# Configure the script, which puts the ScriptState to CONFIGURED\n",
    "acq2_configuration = script.cmd_configure.DataType()\n",
    "acq2_configuration.config = acq2_yaml\n",
    "await script.do_configure(acq2_configuration)"
   ]
  },
  {
   "cell_type": "code",
   "execution_count": null,
   "metadata": {},
   "outputs": [],
   "source": [
    "# This take the acquisition sequence for the hologram (and Ronchi170lpmm grating)\n",
    "acq2_results = await script.arun()"
   ]
  },
  {
   "cell_type": "code",
   "execution_count": null,
   "metadata": {},
   "outputs": [],
   "source": []
  },
  {
   "cell_type": "markdown",
   "metadata": {},
   "source": [
    "### Now perform science data with 90lpmm Ronchi"
   ]
  },
  {
   "cell_type": "code",
   "execution_count": null,
   "metadata": {},
   "outputs": [],
   "source": [
    "seq2_yaml = yaml.safe_dump({\"object_name\": TARGET,\n",
    "                                \"do_acquire\": False,\n",
    "                                \"do_take_sequence\": True,\n",
    "                                \"exposure_time_sequence\" : [10, 10, 10,\n",
    "                                                            10, 10, 10,\n",
    "                                                            10, 10, 10], \n",
    "                                \"filter_sequence\": ['RG610','RG610', 'RG610',\n",
    "                                                    'BG40','BG40', 'BG40',\n",
    "                                                    'empty_1','empty_1', 'empty_1'], \n",
    "                                # RG610 and Ronchi\n",
    "                                \"grating_sequence\": ['ronchi90lpmm', 'ronchi90lpmm','ronchi90lpmm',\n",
    "                                                     'ronchi90lpmm', 'ronchi90lpmm', 'ronchi90lpmm',\n",
    "                                                     'ronchi90lpmm', 'ronchi90lpmm', 'ronchi90lpmm'],\n",
    "                                \"do_pointing_model\": False,\n",
    "                                \"dataPath\": '/project/shared/auxTel/rerun/quickLook',\n",
    "                                \"target_pointing_verification\": False})\n",
    "print(seq2_yaml)"
   ]
  },
  {
   "cell_type": "code",
   "execution_count": null,
   "metadata": {},
   "outputs": [],
   "source": [
    "# Set script state to UNCONFIGURED\n",
    "# this is required to run the script a 2nd time but otherwise is a no-op\n",
    "script.set_state(ScriptState.UNCONFIGURED)\n",
    "# Configure the script, which puts the ScriptState to CONFIGURED\n",
    "seq2_configuration = script.cmd_configure.DataType()\n",
    "seq2_configuration.config = seq2_yaml\n",
    "await script.do_configure(seq2_configuration)"
   ]
  },
  {
   "cell_type": "code",
   "execution_count": null,
   "metadata": {},
   "outputs": [],
   "source": [
    "# This take the sequence of images with the Ronchi\n",
    "seq2_results = await script.arun()"
   ]
  },
  {
   "cell_type": "code",
   "execution_count": null,
   "metadata": {},
   "outputs": [],
   "source": []
  }
 ],
 "metadata": {
  "kernelspec": {
   "display_name": "LSST",
   "language": "python",
   "name": "lsst"
  },
  "language_info": {
   "codemirror_mode": {
    "name": "ipython",
    "version": 3
   },
   "file_extension": ".py",
   "mimetype": "text/x-python",
   "name": "python",
   "nbconvert_exporter": "python",
   "pygments_lexer": "ipython3",
   "version": "3.8.6"
  }
 },
 "nbformat": 4,
 "nbformat_minor": 4
}
