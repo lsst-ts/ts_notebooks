{
 "cells": [
  {
   "cell_type": "code",
   "execution_count": null,
   "metadata": {},
   "outputs": [],
   "source": [
    "from lsst.ts import salobj"
   ]
  },
  {
   "cell_type": "code",
   "execution_count": null,
   "metadata": {},
   "outputs": [],
   "source": [
    "import os\n",
    "os.environ[\"LSST_DDS_PARTITION_PREFIX\"] = \"citest\""
   ]
  },
  {
   "cell_type": "code",
   "execution_count": null,
   "metadata": {},
   "outputs": [],
   "source": [
    "domain = salobj.Domain()\n",
    "\n",
    "axis='X'\n",
    "if axis=='Y':\n",
    "    # INDEX NOT YET IMPLEMENTED\n",
    "    linear_stage = salobj.Remote(name=\"LinearStage\", domain=domain, index=1) # 2 is drive 2 (small)\n",
    "    label='igusY'\n",
    "\n",
    "elif axis=='X':\n",
    "    linear_stage = salobj.Remote(name=\"LinearStage\", domain=domain, index=1) # 1 is drive 1 (big)\n",
    "    label='igusX'\n",
    "else:\n",
    "    raise IOError('Invalid selction')\n",
    "await linear_stage.start_task"
   ]
  },
  {
   "cell_type": "code",
   "execution_count": null,
   "metadata": {},
   "outputs": [],
   "source": [
    "tmp = await linear_stage.evt_summaryState.aget()\n",
    "print(salobj.State(tmp.summaryState))"
   ]
  },
  {
   "cell_type": "code",
   "execution_count": null,
   "metadata": {},
   "outputs": [],
   "source": [
    "# Bring to enabled with proper config file\n",
    "tmp=await salobj.set_summary_state(linear_stage, salobj.State.OFFLINE, timeout=10)\n",
    "print(tmp)"
   ]
  },
  {
   "cell_type": "code",
   "execution_count": null,
   "metadata": {},
   "outputs": [],
   "source": [
    "tmp = await linear_stage.evt_summaryState.aget()\n",
    "print(salobj.State(tmp.summaryState))"
   ]
  },
  {
   "cell_type": "code",
   "execution_count": null,
   "metadata": {},
   "outputs": [],
   "source": [
    "# Bring to enabled with proper config file\n",
    "tmp=await salobj.set_summary_state(linear_stage, salobj.State.ENABLED, settingsToApply=label, timeout=20)\n",
    "print(tmp)"
   ]
  },
  {
   "cell_type": "code",
   "execution_count": null,
   "metadata": {},
   "outputs": [],
   "source": []
  },
  {
   "cell_type": "code",
   "execution_count": null,
   "metadata": {},
   "outputs": [],
   "source": [
    "tmp = linear_stage.evt_summaryState.get()\n",
    "print(salobj.State(tmp.summaryState))"
   ]
  },
  {
   "cell_type": "code",
   "execution_count": null,
   "metadata": {},
   "outputs": [],
   "source": []
  },
  {
   "cell_type": "code",
   "execution_count": null,
   "metadata": {},
   "outputs": [],
   "source": []
  },
  {
   "cell_type": "code",
   "execution_count": null,
   "metadata": {},
   "outputs": [],
   "source": [
    "# Home the stage\n",
    "tmp=await linear_stage.cmd_getHome.start()\n",
    "print(tmp)"
   ]
  },
  {
   "cell_type": "code",
   "execution_count": null,
   "metadata": {},
   "outputs": [],
   "source": [
    "# Get position, should be zero after homing\n",
    "pos = linear_stage.tel_position.get()\n",
    "print(pos.position)"
   ]
  },
  {
   "cell_type": "code",
   "execution_count": null,
   "metadata": {
    "scrolled": true
   },
   "outputs": [],
   "source": [
    "# Move to position\n",
    "tmp = await linear_stage.cmd_moveAbsolute.set_start(distance=30.0, timeout=14)\n",
    "print(tmp)"
   ]
  },
  {
   "cell_type": "code",
   "execution_count": null,
   "metadata": {},
   "outputs": [],
   "source": [
    "pos = linear_stage.tel_position.get()\n",
    "print(pos.position)"
   ]
  },
  {
   "cell_type": "code",
   "execution_count": null,
   "metadata": {},
   "outputs": [],
   "source": []
  }
 ],
 "metadata": {
  "kernelspec": {
   "display_name": "Python 3 (ipykernel)",
   "language": "python",
   "name": "python3"
  },
  "language_info": {
   "codemirror_mode": {
    "name": "ipython",
    "version": 3
   },
   "file_extension": ".py",
   "mimetype": "text/x-python",
   "name": "python",
   "nbconvert_exporter": "python",
   "pygments_lexer": "ipython3",
   "version": "3.8.8"
  }
 },
 "nbformat": 4,
 "nbformat_minor": 4
}
