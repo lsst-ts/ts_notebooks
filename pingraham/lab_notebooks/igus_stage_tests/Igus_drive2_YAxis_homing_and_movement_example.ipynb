{
 "cells": [
  {
   "cell_type": "code",
   "execution_count": null,
   "metadata": {},
   "outputs": [],
   "source": [
    "# This example is meant to run with the config file \"dryve_d1_YAxis_working-20210907\""
   ]
  },
  {
   "cell_type": "code",
   "execution_count": null,
   "metadata": {},
   "outputs": [],
   "source": [
    "# {\"status\":{},\"start\":{\"isMetric\":true,\"isMeter\":false,\"isLinear\":true,\"isSeconds\":true,\"hasAdminPassword\":false,\"hasGuestPassword\":false,\"isAdminPasswordSet\":false,\"isGuestPasswordSet\":false,\"config\":\"dryve_d2_YAxis_working_20210907\",\"articleNumber\":\"MOT-AN-S-060-020-056-M-D-AAAD\"},\"motor\":{\"type\":1,\"current\":3.20000005,\"boostCurrent\":3.20000005,\"haltCurrent\":1.60000002,\"stepMode\":1,\"polePairs\":50,\"resistance\":0,\"inductance\":0,\"hasGear\":false,\"gearNumerator\":1000,\"gearDenominator\":1000,\"hasEncoder\":true,\"encoderType\":1,\"hasEncoderIndex\":true,\"encoderResolution\":500,\"hasClosedLoop\":false,\"hasBrake\":true,\"hasBrakeEcoMode\":false,\"brakeOff\":100,\"brakeOn\":100,\"motorPolarity\":false,\"encoderPolarity\":false,\"brakeChopperVoltage\":51,\"brakeChopperHysteresis\":1},\"actuator\":{\"availableHub\":3,\"feedrate\":0.150000006,\"typeVelocity\":0.100000001,\"maxVelocity\":0.119999997,\"maxAcceleration\":1,\"attenuation\":0,\"quickStop\":0.100000001,\"delayError\":0.00999999978,\"positionWindow\":0.00100000005,\"positionWindowTime\":300,\"hasLimitSwitch\":false,\"position\":4,\"referenceMethod\":2,\"offset\":0,\"adrDeadband\":0.100000001,\"ainDeadband\":0.00999999978,\"ainFilter\":10,\"minStrokeV\":0,\"maxStrokeV\":10,\"minAbsV\":0,\"maxAbsV\":10},\"communication\":{\"dhcpActive\":true,\"ipaddress\":167815360,\"netmask\":16777215,\"gateway\":16820416,\"httpsActive\":false,\"CANOpenActive\":false,\"CANOpenNodeId\":1,\"CANOpenBaudrate\":0,\"modbusActive\":true,\"modbusPort\":502,\"modbusId\":1,\"hostname\":\"igus-dryve-D1-1dc1\"},\"io\":{\"digitalInPolarity\":384,\"digitalOutPolarity\":0,\"isE1Diff\":false,\"isE2Diff\":false,\"digitalType\":0},\"profile\":{\"mode\":5},\"scope\":{\"channel1\":4,\"channel2\":2,\"channel3\":0,\"channel4\":0,\"currentP\":15,\"currentI\":8000,\"velocityP\":0.5,\"velocityI\":24,\"positionP\":100,\"isCapturing\":false},\"ds402\":{},\"b1\":{\"mode\":4,\"pos\":0,\"vel\":0.00277777785,\"acc\":0.00277777785,\"dec\":0.00833333377,\"pause\":0,\"next\":0},\"b2\":{\"mode\":0,\"pos\":0,\"vel\":0,\"acc\":0,\"dec\":0,\"pause\":0,\"next\":0},\"b3\":{\"mode\":0,\"pos\":0,\"vel\":0,\"acc\":0,\"dec\":0,\"pause\":0,\"next\":0},\"b4\":{\"mode\":0,\"pos\":0,\"vel\":0,\"acc\":0,\"dec\":0,\"pause\":0,\"next\":0},\"b5\":{\"mode\":0,\"pos\":0,\"vel\":0,\"acc\":0,\"dec\":0,\"pause\":0,\"next\":0},\"b6\":{\"mode\":0,\"pos\":0,\"vel\":0,\"acc\":0,\"dec\":0,\"pause\":0,\"next\":0},\"b7\":{\"mode\":0,\"pos\":0,\"vel\":0,\"acc\":0,\"dec\":0,\"pause\":0,\"next\":0},\"b8\":{\"mode\":0,\"pos\":0,\"vel\":0,\"acc\":0,\"dec\":0,\"pause\":0,\"next\":0},\"b9\":{\"mode\":0,\"pos\":0,\"vel\":0,\"acc\":0,\"dec\":0,\"pause\":0,\"next\":0},\"b10\":{\"mode\":0,\"pos\":0,\"vel\":0,\"acc\":0,\"dec\":0,\"pause\":0,\"next\":0},\"b11\":{\"mode\":0,\"pos\":0,\"vel\":0,\"acc\":0,\"dec\":0,\"pause\":0,\"next\":0},\"b12\":{\"mode\":0,\"pos\":0,\"vel\":0,\"acc\":0,\"dec\":0,\"pause\":0,\"next\":0},\"b13\":{\"mode\":0,\"pos\":0,\"vel\":0,\"acc\":0,\"dec\":0,\"pause\":0,\"next\":0},\"b14\":{\"mode\":0,\"pos\":0,\"vel\":0,\"acc\":0,\"dec\":0,\"pause\":0,\"next\":0},\"b15\":{\"mode\":0,\"pos\":0,\"vel\":0,\"acc\":0,\"dec\":0,\"pause\":0,\"next\":0},\"b16\":{\"mode\":0,\"pos\":0,\"vel\":0,\"acc\":0,\"dec\":0,\"pause\":0,\"next\":0},\"b17\":{\"mode\":0,\"pos\":0,\"vel\":0,\"acc\":0,\"dec\":0,\"pause\":0,\"next\":0},\"b18\":{\"mode\":0,\"pos\":0,\"vel\":0,\"acc\":0,\"dec\":0,\"pause\":0,\"next\":0},\"b19\":{\"mode\":0,\"pos\":0,\"vel\":0,\"acc\":0,\"dec\":0,\"pause\":0,\"next\":0},\"b20\":{\"mode\":0,\"pos\":0,\"vel\":0,\"acc\":0,\"dec\":0,\"pause\":0,\"next\":0},\"b21\":{\"mode\":0,\"pos\":0,\"vel\":0,\"acc\":0,\"dec\":0,\"pause\":0,\"next\":0},\"b22\":{\"mode\":0,\"pos\":0,\"vel\":0,\"acc\":0,\"dec\":0,\"pause\":0,\"next\":0},\"b23\":{\"mode\":0,\"pos\":0,\"vel\":0,\"acc\":0,\"dec\":0,\"pause\":0,\"next\":0},\"b24\":{\"mode\":0,\"pos\":0,\"vel\":0,\"acc\":0,\"dec\":0,\"pause\":0,\"next\":0},\"b25\":{\"mode\":0,\"pos\":0,\"vel\":0,\"acc\":0,\"dec\":0,\"pause\":0,\"next\":0},\"b26\":{\"mode\":0,\"pos\":0,\"vel\":0,\"acc\":0,\"dec\":0,\"pause\":0,\"next\":0},\"b27\":{\"mode\":0,\"pos\":0,\"vel\":0,\"acc\":0,\"dec\":0,\"pause\":0,\"next\":0},\"b28\":{\"mode\":0,\"pos\":0,\"vel\":0,\"acc\":0,\"dec\":0,\"pause\":0,\"next\":0},\"b29\":{\"mode\":0,\"pos\":0,\"vel\":0,\"acc\":0,\"dec\":0,\"pause\":0,\"next\":0},\"b30\":{\"mode\":0,\"pos\":0,\"vel\":0,\"acc\":0,\"dec\":0,\"pause\":0,\"next\":0},\"b31\":{\"mode\":0,\"pos\":0,\"vel\":0,\"acc\":0,\"dec\":0,\"pause\":0,\"next\":0},\"b32\":{\"mode\":0,\"pos\":0,\"vel\":0,\"acc\":0,\"dec\":0,\"pause\":0,\"next\":0},\"t1\":{\"mode\":0,\"pos\":0,\"vel\":0,\"acc\":0,\"dec\":0,\"pause\":0,\"next\":0},\"t2\":{\"mode\":0,\"pos\":0,\"vel\":0,\"acc\":0,\"dec\":0,\"pause\":0,\"next\":0},\"t3\":{\"mode\":0,\"pos\":0,\"vel\":0,\"acc\":0,\"dec\":0,\"pause\":0,\"next\":0},\"t4\":{\"mode\":0,\"pos\":0,\"vel\":0,\"acc\":0,\"dec\":0,\"pause\":0,\"next\":0},\"t5\":{\"mode\":0,\"pos\":0,\"vel\":0,\"acc\":0,\"dec\":0,\"pause\":0,\"next\":0},\"t6\":{\"mode\":0,\"pos\":0,\"vel\":0,\"acc\":0,\"dec\":0,\"pause\":0,\"next\":0},\"t7\":{\"mode\":0,\"pos\":0,\"vel\":0,\"acc\":0,\"dec\":0,\"pause\":0,\"next\":0},\"t8\":{\"mode\":0,\"pos\":0,\"vel\":0,\"acc\":0,\"dec\":0,\"pause\":0,\"next\":0}}"
   ]
  },
  {
   "cell_type": "code",
   "execution_count": null,
   "metadata": {},
   "outputs": [],
   "source": [
    "import socket\n",
    "import time\n",
    "import sys\n",
    "import asyncio\n",
    "\n",
    "host=\"140.252.33.56\"\n",
    "port=502"
   ]
  },
  {
   "cell_type": "code",
   "execution_count": null,
   "metadata": {},
   "outputs": [],
   "source": [
    "# Note that the status command outputs a table. \n",
    "# Row 1 shows the bit #, row 2 is the sent telegram, row 3 is what is received.\n",
    "def sendCommand(data):\n",
    "    \n",
    "    byte_list = list(range(24))\n",
    "    frmt = \"{:>3},\"*len(byte_list)\n",
    "    print(\"Bit #:            \"+ frmt.format(*byte_list))\n",
    "    \n",
    "    frmt = \"{:>3},\"*len(data)\n",
    "    print(\"Sent Telegram:     \"+frmt.format(*list(data)))\n",
    "    s.send(data)\n",
    "    res = s.recv(24) # 24 is the maximum length?\n",
    "        \n",
    "    frmt = \"{:>3},\"*len(res)\n",
    "    print(\"Received Telegram: \"+frmt.format(*list(res)))\n",
    "          \n",
    "    return list(res)"
   ]
  },
  {
   "cell_type": "code",
   "execution_count": null,
   "metadata": {},
   "outputs": [],
   "source": [
    "try:\n",
    "    s = socket.socket(socket.AF_INET, socket.SOCK_STREAM)\n",
    "except socket.error:\n",
    "    print ('failed to create sockt')\n",
    "    \n",
    "s.connect((host, port))\n",
    "print ('Socket created')"
   ]
  },
  {
   "cell_type": "code",
   "execution_count": null,
   "metadata": {},
   "outputs": [],
   "source": [
    "status_list = [0, 0, 0, 0, 0, 13, 0, 43, 13, 0, 0, 0, 96, 65, 0, 0, 0, 0, 2]\n",
    "status = tuple([0, 0, 0, 0, 0, 13, 0, 43, 13, 0, 0, 0, 96, 65, 0, 0, 0, 0, 2])\n",
    "status_array = bytearray(status)"
   ]
  },
  {
   "cell_type": "code",
   "execution_count": null,
   "metadata": {},
   "outputs": [],
   "source": [
    "response = sendCommand(status_array)"
   ]
  },
  {
   "cell_type": "code",
   "execution_count": null,
   "metadata": {},
   "outputs": [],
   "source": [
    "if True:\n",
    "    # try a reset\n",
    "    reset= tuple([0, 0, 0, 0, 0, 14, 0, 43, 13, 1, 0, 0, 96, 64, 0, 0, 0, 0, 1, 64])\n",
    "    reset_array=bytearray(reset)\n",
    "    sendCommand(reset_array)"
   ]
  },
  {
   "cell_type": "code",
   "execution_count": null,
   "metadata": {},
   "outputs": [],
   "source": [
    "# Modifying while statements to avoid infinite loops\n",
    "COUNT = 10\n",
    "# Controlword 6040h\n",
    "# Command: Shutdown\n",
    "def set_shdn():\n",
    "    shutdown = [0, 0, 0, 0, 0, 14, 0, 43, 13, 1, 0, 0, 96, 64, 0, 0, 0, 0, 1, 6]\n",
    "    shutdown_array = bytearray(shutdown)\n",
    "    print('sending shutdown')\n",
    "    sendCommand(shutdown_array)\n",
    "    count = 0 \n",
    "    while (sendCommand(status_array) != [0, 0, 0, 0, 0, 15, 0, 43, 13, 0, 0, 0, 96, 65, 0, 0, 0, 0, 2, 33, 6]):\n",
    "        #print(f\"wait for shdn - {count}\")\n",
    "        if count > COUNT:\n",
    "            raise RuntimeError('Hit maximum counts')\n",
    "        \n",
    "        count += 1\n",
    "        #1 Sekunde Verzögerung\n",
    "        #1 second delay\n",
    "        time.sleep(1)"
   ]
  },
  {
   "cell_type": "code",
   "execution_count": null,
   "metadata": {},
   "outputs": [],
   "source": [
    "def set_start():\n",
    "    start = [0, 0, 0, 0, 0, 14, 0, 43, 13, 1, 0, 0, 96, 64, 0, 0, 0, 0, 1, 31]\n",
    "    start_array = bytearray(start)\n",
    "    print('sending start')\n",
    "    sendCommand(start_array)\n",
    "    count = 0 \n",
    "    while (sendCommand(status_array) != [0, 0, 0, 0, 0, 15, 0, 43, 13, 0, 0, 0, 96, 65, 0, 0, 0, 0, 2, 33, 6]):\n",
    "        print(f\"wait for start - {count}\")\n",
    "        if count > COUNT:\n",
    "            raise RuntimeError('Hit maximum counts')\n",
    "        \n",
    "        count += 1\n",
    "        #1 Sekunde Verzögerung\n",
    "        #1 second delay\n",
    "        time.sleep(1)"
   ]
  },
  {
   "cell_type": "code",
   "execution_count": null,
   "metadata": {},
   "outputs": [],
   "source": [
    "# Controlword 6040h\n",
    "# Command: Switch on\n",
    "switchOn = [0, 0, 0, 0, 0, 15, 0, 43, 13, 1, 0, 0, 96, 64, 0, 0, 0, 0, 2, 7, 0]\n",
    "switchOn_array = bytearray(switchOn)\n",
    "\n",
    "# Controlword 6040h\n",
    "# Command: enable Operation - absolute positioning, sets bit 0 through 3\n",
    "enableOperation = [0, 0, 0, 0, 0, 15, 0, 43,13, 1, 0, 0, 96, 64, 0, 0, 0, 0, 2, 15, 0]\n",
    "enableOperation_array = bytearray(enableOperation)\n",
    "\n",
    "def set_swon():\n",
    "    print('Sending switched-on')\n",
    "    sendCommand(switchOn_array)\n",
    "    while (sendCommand(status_array) != [0, 0, 0, 0, 0, 15, 0, 43, 13, 0, 0, 0, 96, 65, 0, 0, 0, 0, 2, 35, 6]):\n",
    "        print(\"wait for sw on\")\n",
    "        #1 second delay\n",
    "        time.sleep(1)\n",
    "\n",
    "def set_op_en():\n",
    "    print('Sending enable Operation')\n",
    "    sendCommand(enableOperation_array)\n",
    "    while (sendCommand(status_array) != [0, 0, 0, 0, 0, 15, 0, 43, 13, 0, 0, 0, 96, 65, 0, 0, 0, 0, 2, 39, 6]):\n",
    "        print(\"wait for op en\")\n",
    "        #1 second delay\n",
    "        time.sleep(1)\n",
    "\n",
    "def init():\n",
    "    #Call of the function sendCommand to start the State Machine with the previously defined telegrams \n",
    "    # (Manual: Visualisation State Machine)\n",
    "    set_shdn()\n",
    "    set_swon()\n",
    "    set_op_en()"
   ]
  },
  {
   "cell_type": "code",
   "execution_count": null,
   "metadata": {},
   "outputs": [],
   "source": []
  },
  {
   "cell_type": "code",
   "execution_count": null,
   "metadata": {},
   "outputs": [],
   "source": [
    "def set_mode(mode):\n",
    "    #Set operation modes in object 6060h Modes of Operation\n",
    "    sendCommand(bytearray([0, 0, 0, 0, 0, 14, 0, 43, 13, 1, 0, 0, 96, 96, 0, 0, 0, 0, 1, mode]))\n",
    "    while (sendCommand(bytearray([0, 0, 0, 0, 0, 13, 0, 43, 13, 0, 0, 0, 96, 97, 0, 0, 0, 0, 1])) != [0, 0, 0, 0, 0, 14, 0, 43, 13, 0, 0, 0, 96, 97, 0, 0, 0, 0, 1, mode]):\n",
    "\n",
    "        print(\"wait for mode\")\n",
    "\n",
    "        #1 Sekunde Verzoegerung\n",
    "        #1 second delay\n",
    "        time.sleep(1)\n"
   ]
  },
  {
   "cell_type": "code",
   "execution_count": null,
   "metadata": {},
   "outputs": [],
   "source": [
    "#set the mode to 1 first incase homing fails and it didn't get set back\n",
    "set_mode(1)\n",
    "init()"
   ]
  },
  {
   "cell_type": "code",
   "execution_count": null,
   "metadata": {
    "scrolled": true
   },
   "outputs": [],
   "source": [
    "# 6092h_01h Feed constant Subindex 1 (Feed)\n",
    "#Set feed constant to 6000; refer to manual (Byte 19 = 112; Byte 20= 23)\n",
    "# (23<<8) | 112  = 6000  (which is 60mm but multiplied by 100)\n",
    "#sendCommand(bytearray([0, 0, 0, 0, 0, 15, 0, 43, 13, 1, 0, 0, 96, 146, 1, 0, 0, 0, 2, 112, 23]))\n",
    "# set to 150\n",
    "sendCommand(bytearray([0, 0, 0, 0, 0, 15, 0, 43, 13, 1, 0, 0, 96, 146, 1, 0, 0, 0, 2, 152, 58]))\n",
    "\n",
    "# 6092h_02h Feed constant Subindex 2 (Shaft revolutions)\n",
    "#Set shaft revolutions to 1; refer to manual (Byte 19 = 1)\n",
    "sendCommand(bytearray([0, 0, 0, 0, 0, 14, 0, 43, 13, 1, 0, 0, 96, 146, 2, 0, 0, 0, 1, 1]))\n",
    "\n",
    "# 6099h_01h Homing speeds Switch\n",
    "#Speed during search for switch is set to 60 rpm (Byte 19 = 112; Byte 20 = 23))\n",
    "# sendCommand(bytearray([0, 0, 0, 0, 0, 15, 0, 43, 13, 1, 0, 0, 96, 153, 1, 0, 0, 0, 2, 112, 23])) #old\n",
    "sendCommand(bytearray([0, 0, 0, 0, 0, 15, 0, 43, 13, 1, 0, 0, 96, 153, 1, 0, 0, 0, 2, 176, 4]))\n",
    "\n",
    "# 6099h_02h Homing speeds Zero\n",
    "#Set speed during Search for zero to 60 rpm (Byte 19 = 112; Byte 20 = 23))\n",
    "# sendCommand(bytearray([0, 0, 0, 0, 0, 15, 0, 43, 13, 1, 0, 0, 96, 153, 2, 0, 0, 0, 2, 112, 23])) # old\n",
    "sendCommand(bytearray([0, 0, 0, 0, 0, 15, 0, 43, 13, 1, 0, 0, 96, 153, 2, 0, 0, 0, 2, 88, 2]))\n",
    "\n",
    "# 609Ah Homing acceleration\n",
    "#Set Homing acceleration to 500 rpm/min² (Byte 19 = 80; Byte 20 = 195)\n",
    "# sendCommand(bytearray([0, 0, 0, 0, 0, 15, 0, 43, 13, 1, 0, 0, 96, 154, 0, 0, 0, 0, 2, 80, 195])) # old\n",
    "sendCommand(bytearray([0, 0, 0, 0, 0, 16, 0, 43, 13, 1, 0, 0, 96, 154, 0, 0, 0, 0, 3, 128, 187, 0]))\n"
   ]
  },
  {
   "cell_type": "code",
   "execution_count": null,
   "metadata": {},
   "outputs": [],
   "source": [
    "# Display control word status\n",
    "ctrl_word_read = bytearray([0, 0, 0, 0, 0, 13, 0, 43,13, 0, 0, 0, 96, 64, 0, 0, 0, 0, 2])\n",
    "sendCommand(ctrl_word_read)"
   ]
  },
  {
   "cell_type": "code",
   "execution_count": null,
   "metadata": {},
   "outputs": [],
   "source": [
    "# Display statusword (6041h)\n",
    "sendCommand(status_array)"
   ]
  },
  {
   "cell_type": "code",
   "execution_count": null,
   "metadata": {},
   "outputs": [],
   "source": [
    "COUNT=20\n",
    "def home():\n",
    "\n",
    "    home_array = bytearray(bytearray([0, 0, 0, 0, 0, 15, 0, 43, 13, 1, 0, 0, 96, 64, 0, 0, 0, 0, 2, 31, 0]))\n",
    "    sendCommand(home_array)\n",
    "    count = 0 \n",
    "    while (sendCommand(status_array) != [0, 0, 0, 0, 0, 15, 0, 43, 13, 0, 0, 0, 96, 65, 0, 0, 0, 0, 2, 39, 22]):\n",
    "        print(f\"Status Iteration - {count}\")\n",
    "        if count > COUNT:\n",
    "            raise RuntimeError('Hit maximum counts')\n",
    "        \n",
    "        count += 1\n",
    "        #1 Sekunde Verzögerung\n",
    "        #1 second delay\n",
    "        time.sleep(1)"
   ]
  },
  {
   "cell_type": "code",
   "execution_count": null,
   "metadata": {},
   "outputs": [],
   "source": [
    "#set the mode to 6 to perform homing\n",
    "set_mode(6)"
   ]
  },
  {
   "cell_type": "code",
   "execution_count": null,
   "metadata": {},
   "outputs": [],
   "source": [
    "# During the homing I manually trigger the limit switch to stop motion\n",
    "home()"
   ]
  },
  {
   "cell_type": "code",
   "execution_count": null,
   "metadata": {},
   "outputs": [],
   "source": [
    "# Display control word status\n",
    "ctrl_word_read = bytearray([0, 0, 0, 0, 0, 13, 0, 43,13, 0, 0, 0, 96, 64, 0, 0, 0, 0, 2])\n",
    "sendCommand(ctrl_word_read)"
   ]
  },
  {
   "cell_type": "code",
   "execution_count": null,
   "metadata": {},
   "outputs": [],
   "source": [
    "sendCommand(enableOperation_array)"
   ]
  },
  {
   "cell_type": "code",
   "execution_count": null,
   "metadata": {},
   "outputs": [],
   "source": [
    "set_mode(1)"
   ]
  },
  {
   "cell_type": "code",
   "execution_count": null,
   "metadata": {},
   "outputs": [],
   "source": [
    "# Check control word status\n",
    "ctrl_word_read = bytearray([0, 0, 0, 0, 0, 13, 0, 43,13, 0, 0, 0, 96, 64, 0, 0, 0, 0, 2])\n",
    "sendCommand(ctrl_word_read)"
   ]
  },
  {
   "cell_type": "markdown",
   "metadata": {},
   "source": [
    "## Start the motion part"
   ]
  },
  {
   "cell_type": "code",
   "execution_count": null,
   "metadata": {},
   "outputs": [],
   "source": [
    "# Change to profile positioning mode\n",
    "set_mode(1)"
   ]
  },
  {
   "cell_type": "code",
   "execution_count": null,
   "metadata": {},
   "outputs": [],
   "source": [
    "# Check the mode was adopted (6061h)\n",
    "sendCommand(bytearray([0, 0, 0, 0, 0, 13, 0, 43, 13, 0, 0, 0, 96, 96, 0, 0, 0, 0, 1]))"
   ]
  },
  {
   "cell_type": "code",
   "execution_count": null,
   "metadata": {},
   "outputs": [],
   "source": [
    "# Check control word status\n",
    "ctrl_word_read = bytearray([0, 0, 0, 0, 0, 13, 0, 43,13, 0, 0, 0, 96, 64, 0, 0, 0, 0, 2])\n",
    "sendCommand(ctrl_word_read)"
   ]
  },
  {
   "cell_type": "code",
   "execution_count": null,
   "metadata": {},
   "outputs": [],
   "source": [
    "# 6081h Profile Velocity\n",
    "\n",
    "#Set velocity to 60 rpm (Byte 19 = 112; Byte 20 = 23)\n",
    "# 60 rpm is 60 deg/s\n",
    "# (23<<8) | 112 = 6000, so this is 60 mm/s \n",
    "# 60 degrees/sec = 10 mm/s\n",
    "# \n",
    "#sendCommand(bytearray([0, 0, 0, 0, 0, 15, 0, 43, 13, 1, 0, 0, 96, 129, 0, 0, 0, 0, 2, 112, 23]))\n",
    "# roughly half\n",
    "#sendCommand(bytearray([0, 0, 0, 0, 0, 15, 0, 43, 13, 1, 0, 0, 96, 129, 0, 0, 0, 0, 2, 60, 12])) # works, but old\n",
    "\n",
    "# CSC code says this is 10 mm/s\n",
    "sendCommand(bytearray([0, 0, 0, 0, 0, 15, 0, 43, 13, 1, 0, 0, 96, 129, 0, 0, 0, 0, 2, 208, 7])) "
   ]
  },
  {
   "cell_type": "code",
   "execution_count": null,
   "metadata": {},
   "outputs": [],
   "source": [
    "# Read back to make sure it's set\n",
    "sendCommand(bytearray([0, 0, 0, 0, 0, 13, 0, 43, 13, 0, 0, 0, 96, 129, 0, 0, 0, 0, 2]))"
   ]
  },
  {
   "cell_type": "code",
   "execution_count": null,
   "metadata": {},
   "outputs": [],
   "source": [
    "# 6083h Profile Acceleration\n",
    "#Set acceleration to 500 rpm/min² (Byte 19 = 80; Byte 20 = 195)\n",
    "# (195<<8) | (80) = 50000 \n",
    "# using 60 mm per rotation, 500 rpm = 50 degrees per second^2 = 8.33 mm/s^2\n",
    "#sendCommand(bytearray([0, 0, 0, 0, 0, 15, 0, 43, 13, 1, 0, 0, 96, 131, 0, 0, 0, 0, 2, 80, 195])) # works\n",
    "\n",
    "#CSC says this is 4.16 mm/s2\n",
    "sendCommand(bytearray([0, 0, 0, 0, 0, 16, 0, 43, 13, 1, 0, 0, 96, 131, 0, 0, 0, 0, 3, 96, 234, 0])) \n",
    "# (97<<8) | (168) = 25000\n",
    "#sendCommand(bytearray([0, 0, 0, 0, 0, 15, 0, 43, 13, 1, 0, 0, 96, 131, 0, 0, 0, 0, 2, 168, 97])) # unverified\n",
    "## GUI acceleration is in rpm, this value must be below the max acceleration value\n",
    "# Note that the max value can be *higher*"
   ]
  },
  {
   "cell_type": "code",
   "execution_count": null,
   "metadata": {},
   "outputs": [],
   "source": [
    "# Read back to make sure it's set\n",
    "sendCommand(bytearray([0, 0, 0, 0, 0, 13, 0, 43, 13, 0, 0, 0, 96, 131, 0, 0, 0, 0, 2]))"
   ]
  },
  {
   "cell_type": "code",
   "execution_count": null,
   "metadata": {},
   "outputs": [],
   "source": [
    "# Deceleration is optional, but thought I'd set it anyways just incase this was causing the issue. Didn't help\n",
    "# 6084h Profile Deceleration\n",
    "#Set decceleration to 500 rpm/min² (Byte 19 = 80; Byte 20 = 195)\n",
    "# sendCommand(bytearray([0, 0, 0, 0, 0, 15, 0, 43, 13, 1, 0, 0, 96, 132, 0, 0, 0, 0, 2, 80, 195]))"
   ]
  },
  {
   "cell_type": "code",
   "execution_count": null,
   "metadata": {},
   "outputs": [],
   "source": [
    "# Check deceleration values\n",
    "# sendCommand(bytearray([0, 0, 0, 0, 0, 13, 0, 43, 13, 0, 0, 0, 96, 132, 0, 0, 0, 0, 2]))"
   ]
  },
  {
   "cell_type": "code",
   "execution_count": null,
   "metadata": {},
   "outputs": [],
   "source": [
    "# make sure start bit is reset\n",
    "sendCommand(enableOperation_array)"
   ]
  },
  {
   "cell_type": "code",
   "execution_count": null,
   "metadata": {},
   "outputs": [],
   "source": [
    "#Setzen einer Anfangsposition \n",
    "#Set start position \n",
    "setPosition0 = 0 \n",
    "setPosition1 = 0  \n",
    "setPosition2 = 0   \n",
    "setPosition3 = 0\n",
    "\n",
    "#Schleife Links- und Rechtslauf des Motors\n",
    "#Clockwise/counter-clockwise motor movement Loop\n",
    "count = 0\n",
    "while count < 4:\n",
    "\n",
    "    # Reset target position after each loop; the variables setPositionX are rewritten\n",
    "    # with the default value after each loop  \n",
    "    print(f'\\n Sending positions. setPosition0 is {setPosition0}')\n",
    "    sendCommand(bytearray([0, 0, 0, 0, 0, 17, 0, 43, 13, 1, 0, 0, 96, 122, 0, 0, 0, 0, 4, setPosition0, setPosition1, setPosition2, setPosition3]))\n",
    "    #sendCommand(bytearray([0, 0, 0, 0, 0, 15, 0, 43, 13, 1, 0, 0, 96, 122, 0, 0, 0, 0, 2, setPosition0, setPosition1]))\n",
    "    \n",
    "    #Startbefehl zur Bewegung des Motors über Bit 4 \n",
    "    #Set Bit 4 true to excecute the movoment of the motor \n",
    "    print('\\n Starting motion')\n",
    "    sendCommand(bytearray([0, 0, 0, 0, 0, 15, 0, 43, 13, 1, 0, 0, 96, 64, 0, 0, 0, 0, 2, 31, 0]))\n",
    "    \n",
    "    #1 Sekunde Verzoegerung\n",
    "    #1 second delay \n",
    "    time.sleep(1)\n",
    "\n",
    "    #Check Statusword nach Ziel ereicht\n",
    "    #Check Statusword for target reached \n",
    "    while (sendCommand(status_array) != [0, 0, 0, 0, 0, 15, 0, 43, 13, 0, 0, 0, 96, 65, 0, 0, 0, 0, 2, 39, 22]):\n",
    "        \n",
    "        print(\"waiting for next command\")\n",
    "        \n",
    "        #1 Sekunde Verzoegerung\n",
    "        #1 second delay \n",
    "        time.sleep(1)\n",
    "    \n",
    "    # Get encoder position from 6064h\n",
    "    # how do you know what this is?\n",
    "    print(\"\\n Get encoder position\")\n",
    "    sendCommand(bytearray([0, 0, 0, 0, 0, 13, 0, 43, 13, 0, 0, 0, 96, 100, 0, 0, 0, 0, 4]))\n",
    "\n",
    "    print(\"\\n send enableOperation\")\n",
    "    sendCommand(enableOperation_array)\n",
    "\n",
    "    print(\"\\n Check control word\")\n",
    "    sendCommand(ctrl_word_read)\n",
    "\n",
    "        \n",
    "    #Set position for the next loop to 1 revelution (Byte 19 = 112; Byte 20 = 23; Byte 21 = 0; Byte 22 = 0)\n",
    "    # (23<<8) | 112 = 6000 , so moves a full rotation \n",
    "\n",
    "    setPosition0 = 112   if setPosition0 == 0 else 0\n",
    "    setPosition1 = 23    if setPosition1 == 0 else 0\n",
    "    setPosition2 = 0     if setPosition2 == 0 else 0\n",
    "    setPosition3 = 0     if setPosition3 == 0 else 0\n",
    "    \n",
    "    count += 1\n"
   ]
  },
  {
   "cell_type": "markdown",
   "metadata": {},
   "source": [
    "### "
   ]
  },
  {
   "cell_type": "code",
   "execution_count": null,
   "metadata": {},
   "outputs": [],
   "source": []
  },
  {
   "cell_type": "code",
   "execution_count": null,
   "metadata": {},
   "outputs": [],
   "source": [
    "# shutdown\n",
    "set_shdn()"
   ]
  },
  {
   "cell_type": "code",
   "execution_count": null,
   "metadata": {},
   "outputs": [],
   "source": [
    "#close the socket\n",
    "s.close()"
   ]
  },
  {
   "cell_type": "code",
   "execution_count": null,
   "metadata": {},
   "outputs": [],
   "source": []
  },
  {
   "cell_type": "code",
   "execution_count": null,
   "metadata": {},
   "outputs": [],
   "source": []
  },
  {
   "cell_type": "code",
   "execution_count": null,
   "metadata": {},
   "outputs": [],
   "source": []
  },
  {
   "cell_type": "code",
   "execution_count": null,
   "metadata": {},
   "outputs": [],
   "source": []
  },
  {
   "cell_type": "code",
   "execution_count": null,
   "metadata": {},
   "outputs": [],
   "source": [
    "# testing area\n",
    "# when byte 20 is 22 (quick stop active), how do we reset it? \n",
    "# reset command doesn't work\n",
    "# toggling DI7 doesn't work\n",
    "# toggling stop/reset and DI7 doesn't work"
   ]
  },
  {
   "cell_type": "code",
   "execution_count": null,
   "metadata": {},
   "outputs": [],
   "source": []
  },
  {
   "cell_type": "code",
   "execution_count": null,
   "metadata": {},
   "outputs": [],
   "source": [
    "response = sendCommand(status_array)"
   ]
  },
  {
   "cell_type": "code",
   "execution_count": null,
   "metadata": {},
   "outputs": [],
   "source": [
    "if True:\n",
    "    # try a reset\n",
    "    reset= tuple([0, 0, 0, 0, 0, 14, 0, 43, 13, 1, 0, 0, 96, 64, 0, 0, 0, 0, 1, 64])\n",
    "    # try a disable voltage\n",
    "    disable_voltage= tuple([0, 0, 0, 0, 0, 14, 0, 43, 13, 1, 0, 0, 96, 64, 0, 0, 0, 0, 1, 0])\n",
    "    reset_fault= tuple([0, 0, 0, 0, 0, 14, 0, 43, 13, 1, 0, 0, 96, 64, 0, 0, 0, 0, 1, 128])\n",
    "    cmd_array=bytearray(reset_fault)\n",
    "    sendCommand(cmd_array)"
   ]
  },
  {
   "cell_type": "code",
   "execution_count": null,
   "metadata": {},
   "outputs": [],
   "source": []
  }
 ],
 "metadata": {
  "kernelspec": {
   "display_name": "Python 3 (ipykernel)",
   "language": "python",
   "name": "python3"
  },
  "language_info": {
   "codemirror_mode": {
    "name": "ipython",
    "version": 3
   },
   "file_extension": ".py",
   "mimetype": "text/x-python",
   "name": "python",
   "nbconvert_exporter": "python",
   "pygments_lexer": "ipython3",
   "version": "3.8.8"
  }
 },
 "nbformat": 4,
 "nbformat_minor": 4
}
