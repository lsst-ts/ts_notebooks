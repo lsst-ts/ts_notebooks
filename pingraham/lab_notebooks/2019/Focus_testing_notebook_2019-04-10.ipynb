{
 "cells": [
  {
   "cell_type": "markdown",
   "metadata": {},
   "source": [
    "### Notebook to be used to perform manual focus testing using ACCS Images"
   ]
  },
  {
   "cell_type": "code",
   "execution_count": 1,
   "metadata": {},
   "outputs": [
    {
     "name": "stderr",
     "output_type": "stream",
     "text": [
      "Could not import lsstcppimport; please ensure the base package has been built (not just setup).\n",
      "\n"
     ]
    }
   ],
   "source": [
    "import numpy as np\n",
    "from lsst.ts import salobj\n",
    "import asyncio\n",
    "from astropy.io import fits\n",
    "\n",
    "import warnings\n",
    "#import matplotlib.pyplot as plt  # imported as py above\n",
    "from astropy.modeling import models, fitting\n",
    "from scipy.ndimage.filters import gaussian_filter as gauss_filt\n",
    "from matplotlib import pyplot as plt\n",
    "\n",
    "import SALPY_ATCamera\n",
    "#import SALPY_ATSpectrograph\n",
    "import SALPY_ATArchiver"
   ]
  },
  {
   "cell_type": "code",
   "execution_count": 2,
   "metadata": {},
   "outputs": [],
   "source": [
    "#ATSpectrograph = salobj.Remote(SALPY_ATSpectrograph)\n",
    "ATCamera = salobj.Remote(SALPY_ATCamera)\n",
    "ATArchiver = salobj.Remote(SALPY_ATArchiver)"
   ]
  },
  {
   "cell_type": "code",
   "execution_count": null,
   "metadata": {},
   "outputs": [],
   "source": []
  },
  {
   "cell_type": "markdown",
   "metadata": {},
   "source": [
    "#### Setup the spectrograph"
   ]
  },
  {
   "cell_type": "code",
   "execution_count": null,
   "metadata": {},
   "outputs": [],
   "source": [
    "#  bring into enable state if required\n",
    "if False:\n",
    "    try:\n",
    "        asyncio.get_event_loop().run_until_complete(ATSpectrograph.cmd_enable.start())\n",
    "    except AckError as ack_err:\n",
    "        print(f\"Failed with ack.result={ack_err.ack.result}\")"
   ]
  },
  {
   "cell_type": "code",
   "execution_count": 3,
   "metadata": {},
   "outputs": [
    {
     "name": "stdout",
     "output_type": "stream",
     "text": [
      "0\n"
     ]
    }
   ],
   "source": [
    "ATSpectrograph.cmd_changeFilter.set(filter=0)\n",
    "try:\n",
    "    asyncio.get_event_loop().run_until_complete(ATSpectrograph.cmd_changeFilter.start())\n",
    "except salobj.AckError as ack_err:\n",
    "    print(f\"Failed with ack.result={ack_err.ack.result}\")\n",
    "\n",
    "\n",
    "filt_pos=ATSpectrograph.evt_reportedFilterPosition.get()\n",
    "print(filt_pos.position)"
   ]
  },
  {
   "cell_type": "code",
   "execution_count": 4,
   "metadata": {},
   "outputs": [
    {
     "name": "stdout",
     "output_type": "stream",
     "text": [
      "1\n"
     ]
    }
   ],
   "source": [
    "ATSpectrograph.cmd_changeDisperser.set(disperser=1)\n",
    "asyncio.get_event_loop().run_until_complete(ATSpectrograph.cmd_changeDisperser.start())\n",
    "disp_pos=ATSpectrograph.evt_reportedDisperserPosition.get()\n",
    "print(disp_pos.position)"
   ]
  },
  {
   "cell_type": "code",
   "execution_count": 16,
   "metadata": {},
   "outputs": [
    {
     "name": "stdout",
     "output_type": "stream",
     "text": [
      "Failed with ack.result=Failed: Change position timed out trying to move to position 5.0.\n"
     ]
    }
   ],
   "source": [
    "ATSpectrograph.cmd_moveLinearStage.set(distanceFromHome=5)\n",
    "try:\n",
    "    asyncio.get_event_loop().run_until_complete(ATSpectrograph.cmd_moveLinearStage.start())\n",
    "    lin_stage_pos=asyncio.get_event_loop().run_until_complete(ATSpectrograph.evt_reportedLinearStagePosition.next(flush=False, timeout=10))\n",
    "    print(lin_stage_pos)\n",
    "except salobj.AckError as ack_err:\n",
    "    print(f\"Failed with ack.result={ack_err.ack.result}\")\n"
   ]
  },
  {
   "cell_type": "code",
   "execution_count": 17,
   "metadata": {},
   "outputs": [
    {
     "name": "stdout",
     "output_type": "stream",
     "text": [
      "<SALPY_ATSpectrograph.ATSpectrograph_logevent_reportedLinearStagePositionC object at 0x7f0379e147d8>\n"
     ]
    }
   ],
   "source": [
    "lin_stage_pos=asyncio.get_event_loop().run_until_complete(ATSpectrograph.evt_reportedLinearStagePosition.next(flush=False, timeout=10))\n",
    "print(lin_stage_pos)"
   ]
  },
  {
   "cell_type": "code",
   "execution_count": 13,
   "metadata": {},
   "outputs": [
    {
     "name": "stdout",
     "output_type": "stream",
     "text": [
      "20.0\n"
     ]
    }
   ],
   "source": [
    "print(lin_stage_pos.position)"
   ]
  },
  {
   "cell_type": "code",
   "execution_count": 5,
   "metadata": {},
   "outputs": [
    {
     "name": "stdout",
     "output_type": "stream",
     "text": [
      "Failed with ack.result=Failed: 'CSC' object has no attribute 'home_gs'\n"
     ]
    }
   ],
   "source": [
    "if True:\n",
    "    try:\n",
    "        ATSpectrograph.cmd_homeLinearStage.set(value=True)\n",
    "        asyncio.get_event_loop().run_until_complete(ATSpectrograph.cmd_homeLinearStage.start())\n",
    "        lin_stage_pos=ATSpectrograph.evt_reportedLinearStagePosition.get()\n",
    "        print(lin_stage_pos.position)\n",
    "    except salobj.AckError as ack_err:\n",
    "        print(f\"Failed with ack.result={ack_err.ack.result}\")\n"
   ]
  },
  {
   "cell_type": "markdown",
   "metadata": {},
   "source": [
    "#### Setup the Camera"
   ]
  },
  {
   "cell_type": "code",
   "execution_count": 277,
   "metadata": {},
   "outputs": [],
   "source": [
    "#  bring into enable state if required\n",
    "if False:\n",
    "    try:\n",
    "        asyncio.get_event_loop().run_until_complete(ATCamera.cmd_enable.start())\n",
    "    except AckError as ack_err:\n",
    "        print(f\"Failed with ack.result={ack_err.ack.result}\")"
   ]
  },
  {
   "cell_type": "code",
   "execution_count": 276,
   "metadata": {},
   "outputs": [
    {
     "ename": "AckError",
     "evalue": "Command failed with ack code -300",
     "output_type": "error",
     "traceback": [
      "\u001b[0;31m---------------------------------------------------------------------------\u001b[0m",
      "\u001b[0;31mAckError\u001b[0m                                  Traceback (most recent call last)",
      "\u001b[0;32m<ipython-input-276-ce7ffef7b50e>\u001b[0m in \u001b[0;36m<module>\u001b[0;34m\u001b[0m\n\u001b[0;32m----> 1\u001b[0;31m \u001b[0masyncio\u001b[0m\u001b[0;34m.\u001b[0m\u001b[0mget_event_loop\u001b[0m\u001b[0;34m(\u001b[0m\u001b[0;34m)\u001b[0m\u001b[0;34m.\u001b[0m\u001b[0mrun_until_complete\u001b[0m\u001b[0;34m(\u001b[0m\u001b[0mATCamera\u001b[0m\u001b[0;34m.\u001b[0m\u001b[0mcmd_start\u001b[0m\u001b[0;34m.\u001b[0m\u001b[0mstart\u001b[0m\u001b[0;34m(\u001b[0m\u001b[0;34m)\u001b[0m\u001b[0;34m)\u001b[0m\u001b[0;34m\u001b[0m\u001b[0m\n\u001b[0m",
      "\u001b[0;32m/opt/lsst/software/stack/python/miniconda3-4.3.21/lib/python3.6/asyncio/base_events.py\u001b[0m in \u001b[0;36mrun_until_complete\u001b[0;34m(self, future)\u001b[0m\n\u001b[1;32m    465\u001b[0m             \u001b[0;32mraise\u001b[0m \u001b[0mRuntimeError\u001b[0m\u001b[0;34m(\u001b[0m\u001b[0;34m'Event loop stopped before Future completed.'\u001b[0m\u001b[0;34m)\u001b[0m\u001b[0;34m\u001b[0m\u001b[0m\n\u001b[1;32m    466\u001b[0m \u001b[0;34m\u001b[0m\u001b[0m\n\u001b[0;32m--> 467\u001b[0;31m         \u001b[0;32mreturn\u001b[0m \u001b[0mfuture\u001b[0m\u001b[0;34m.\u001b[0m\u001b[0mresult\u001b[0m\u001b[0;34m(\u001b[0m\u001b[0;34m)\u001b[0m\u001b[0;34m\u001b[0m\u001b[0m\n\u001b[0m\u001b[1;32m    468\u001b[0m \u001b[0;34m\u001b[0m\u001b[0m\n\u001b[1;32m    469\u001b[0m     \u001b[0;32mdef\u001b[0m \u001b[0mstop\u001b[0m\u001b[0;34m(\u001b[0m\u001b[0mself\u001b[0m\u001b[0;34m)\u001b[0m\u001b[0;34m:\u001b[0m\u001b[0;34m\u001b[0m\u001b[0m\n",
      "\u001b[0;31mAckError\u001b[0m: Command failed with ack code -300"
     ]
    }
   ],
   "source": [
    "asyncio.get_event_loop().run_until_complete(ATCamera.cmd_start.start())"
   ]
  },
  {
   "cell_type": "code",
   "execution_count": 452,
   "metadata": {},
   "outputs": [
    {
     "data": {
      "text/plain": [
       "True"
      ]
     },
     "execution_count": 452,
     "metadata": {},
     "output_type": "execute_result"
    }
   ],
   "source": [
    "ATCamera.cmd_takeImages.set(expTime=1.0, shutter=1, numImages=1, imageSequenceName='Focus')"
   ]
  },
  {
   "cell_type": "code",
   "execution_count": 492,
   "metadata": {},
   "outputs": [],
   "source": [
    "try:\n",
    "    asyncio.get_event_loop().run_until_complete(ATCamera.cmd_takeImages.start())\n",
    "except salobj.AckError as ack_err:\n",
    "    print(f\"Failed with ack.result={ack_err.ack.result}\")"
   ]
  },
  {
   "cell_type": "code",
   "execution_count": 493,
   "metadata": {},
   "outputs": [
    {
     "name": "stdout",
     "output_type": "stream",
     "text": [
      "AT_O_20190410_000005\n"
     ]
    }
   ],
   "source": [
    "endReadout = asyncio.get_event_loop().run_until_complete(ATCamera.evt_endReadout.next(flush=False, timeout=30))\n",
    "print(endReadout.imageName)"
   ]
  },
  {
   "cell_type": "code",
   "execution_count": 494,
   "metadata": {},
   "outputs": [],
   "source": [
    "# async def take_image():\n",
    "#     ATCamera.cmd_takeImages.set(expTime=0)\n",
    "#     coro_cmd = ATCamera.cmd_takeImages.start()\n",
    "#     coro_evt = ATCamera.evt_endReadout.next(flush=False, timeout=30)\n",
    "\n",
    "#     await asyncio.gather(coro_cmd, coro_evt)"
   ]
  },
  {
   "cell_type": "code",
   "execution_count": null,
   "metadata": {},
   "outputs": [],
   "source": []
  },
  {
   "cell_type": "code",
   "execution_count": 495,
   "metadata": {},
   "outputs": [],
   "source": [
    "# try:\n",
    "#     coro_list = asyncio.get_event_loop().run_until_complete(take_image())\n",
    "# except salobj.AckError as ack_err:\n",
    "#     print(f\"Failed with ack.result={ack_err.ack.result}\")"
   ]
  },
  {
   "cell_type": "code",
   "execution_count": 496,
   "metadata": {},
   "outputs": [
    {
     "name": "stdout",
     "output_type": "stream",
     "text": [
      "Opening /mnt/data/ats/mcm/20190410/AT_O_20190410_000005.fits\n"
     ]
    }
   ],
   "source": [
    "# Read in image\n",
    "#dir = '/mnt/dmcs/20180823'\n",
    "dir = '/mnt/data/ats/mcm/20190410/'\n",
    "#atcamera_fname='AT_O_20190403_000072'\n",
    "atcamera_fname=endReadout.imageName\n",
    "\n",
    "#dir = '/mnt/dmcs/2019-03-08/'\n",
    "#atcamera_fname='AT_O_20190308_000125-ats-wfs_ccd'\n",
    "\n",
    "full_file_name=dir+atcamera_fname+'.fits'\n",
    "print('Opening {}'.format(full_file_name))\n",
    "hdu_list = fits.open(full_file_name)\n",
    "#hdu_list.info()\n",
    "im=hdu_list[12].data # for camera data"
   ]
  },
  {
   "cell_type": "code",
   "execution_count": 497,
   "metadata": {},
   "outputs": [],
   "source": [
    "#print(repr(hdu_list[0].header))"
   ]
  },
  {
   "cell_type": "code",
   "execution_count": 498,
   "metadata": {},
   "outputs": [],
   "source": [
    "if False:\n",
    "    im_sub=im-np.median(im)\n",
    "    plt.imshow(im_sub)\n",
    "    hdu_list.close()"
   ]
  },
  {
   "cell_type": "code",
   "execution_count": 504,
   "metadata": {},
   "outputs": [
    {
     "name": "stdout",
     "output_type": "stream",
     "text": [
      "Cutting out area with zero order image\n",
      "centroid at y,x: 1834 360\n"
     ]
    }
   ],
   "source": [
    "# Find star by convolution with gaussian, then grab the max\n",
    "star_finder_img=gauss_filt(im,[5,5],mode='constant',cval=0)\n",
    "\n",
    "# Cut out the area with the 1st order image\n",
    "print('Cutting out area with zero order image')\n",
    "half_side = 40\n",
    "zero_ord_pos = [1814, 350]\n",
    "xmin = zero_ord_pos[0]-half_side if zero_ord_pos[0]-half_side > 0 else 0\n",
    "ymax = zero_ord_pos[0]+half_side if zero_ord_pos[0]+half_side < 2047 else 2047\n",
    "xmin = zero_ord_pos[1]-half_side if zero_ord_pos[1]-half_side > 0 else 0\n",
    "xmax = zero_ord_pos[1]+half_side if zero_ord_pos[1]+half_side < 512 else 512\n",
    "#star_finder_img[ymin:ymax,xmin:xmax] = 0 \n",
    "\n",
    "# If the wavelength is longer than 700nm, then there will be 2nd order contamination.\n",
    "# This means that the \"star\" finder below will find the wrong peak if the 2nd order is brighter than the first.\n",
    "#if popt[1] > 700:\n",
    "#    print('Removing 2nd order light from star finding image')\n",
    "#    star_finder_img[800::,:]=0\n",
    "\n",
    "#print(np.max(star_finder_img))\n",
    "value=None\n",
    "ind=np.argmax(star_finder_img)\n",
    "ind2d = np.unravel_index(ind,star_finder_img.shape)\n",
    "print('centroid at y,x: {} {}'.format(ind2d[0],ind2d[1]))"
   ]
  },
  {
   "cell_type": "code",
   "execution_count": 505,
   "metadata": {},
   "outputs": [
    {
     "name": "stdout",
     "output_type": "stream",
     "text": [
      "subimage being made from ymin,ymax,xmin,xmax:1804 1864 330 390\n",
      "new centroid at y,x: 30 30\n"
     ]
    }
   ],
   "source": [
    "# Create sub-image\n",
    "#ymin=1800 ; ymax=2048\n",
    "#xmin=280 ; xmax=450\n",
    "half_side=int(30)\n",
    "ymin = ind2d[0]-half_side if ind2d[0]-half_side > 0 else 0\n",
    "ymax = ind2d[0]+half_side if ind2d[0]+half_side < 2047 else 2047\n",
    "xmin = ind2d[1]-half_side if ind2d[1]-half_side > 0 else 0\n",
    "xmax = ind2d[1]+half_side if ind2d[1]+half_side < 512 else 512\n",
    "print('subimage being made from ymin,ymax,xmin,xmax:{} {} {} {}'.format(ymin,ymax,xmin,xmax))\n",
    "# new maximum at:\n",
    "ind=np.argmax(star_finder_img[ymin:ymax,xmin:xmax])\n",
    "ind2d = np.unravel_index(ind,star_finder_img[ymin:ymax,xmin:xmax].shape)\n",
    "print('new centroid at y,x: {} {}'.format(ind2d[0],ind2d[1]))"
   ]
  },
  {
   "cell_type": "code",
   "execution_count": 506,
   "metadata": {},
   "outputs": [
    {
     "data": {
      "image/png": "[encoded data removed]",
      "text/plain": [
       "<matplotlib.figure.Figure at 0x7efd7a2aff28>"
      ]
     },
     "metadata": {
      "needs_background": "light"
     },
     "output_type": "display_data"
    }
   ],
   "source": [
    "im_sub=im[ymin:ymax,xmin:xmax]\n",
    "im_sub=im_sub-np.median(im_sub)\n",
    "plt.imshow(im_sub)\n",
    "hdu_list.close()"
   ]
  },
  {
   "cell_type": "code",
   "execution_count": 507,
   "metadata": {},
   "outputs": [
    {
     "name": "stdout",
     "output_type": "stream",
     "text": [
      "30\n",
      "30\n"
     ]
    },
    {
     "data": {
      "text/plain": [
       "<matplotlib.text.Text at 0x7efd7aa5ba20>"
      ]
     },
     "execution_count": 507,
     "metadata": {},
     "output_type": "execute_result"
    },
    {
     "data": {
      "image/png": "[encoded data removed]",
      "text/plain": [
       "<matplotlib.figure.Figure at 0x7efd79d884a8>"
      ]
     },
     "metadata": {
      "needs_background": "light"
     },
     "output_type": "display_data"
    }
   ],
   "source": [
    "# Generate x,y,z data\n",
    "y, x = np.mgrid[:im_sub.shape[0], :im_sub.shape[1]]\n",
    "print(y[ind2d])\n",
    "print(x[ind2d])\n",
    "z=im_sub\n",
    "# Fit the data using astropy.modeling\n",
    "p_init = models.Gaussian2D(amplitude=np.nanmax(z),x_mean=x[ind2d], y_mean=y[ind2d], fixed={'theta':True})\n",
    "#p_init = models.Gaussian2D(amplitude=np.nanmax(z),x_mean=38, y_mean=51, x_stddev=3, y_stddev=3,  fixed={'theta':True})\n",
    "fit_p = fitting.LevMarLSQFitter()\n",
    "\n",
    "with warnings.catch_warnings():\n",
    "    # Ignore model linearity warning from the fitter\n",
    "    warnings.simplefilter('ignore')\n",
    "    p = fit_p(p_init, x, y, z)\n",
    "\n",
    "# Plot the data with the best-fit model\n",
    "plt.figure(figsize=(9, 5))\n",
    "plt.subplot(1, 3, 1)\n",
    "plt.imshow(z, origin='lower', interpolation='nearest')#, vmin=-1e4, vmax=5e4)\n",
    "plt.title(\"Data\")\n",
    "plt.subplot(1, 3, 2)\n",
    "plt.imshow(p(x, y), origin='lower', interpolation='nearest')#, vmin=-1e4, vmax=5e4)\n",
    "plt.title(\"Model\")\n",
    "plt.subplot(1, 3, 3)\n",
    "plt.imshow(z - p(x, y), origin='lower', interpolation='nearest')#, vmin=-1e4, vmax=5e4)\n",
    "plt.title(\"Residual\")"
   ]
  },
  {
   "cell_type": "code",
   "execution_count": 508,
   "metadata": {},
   "outputs": [
    {
     "name": "stdout",
     "output_type": "stream",
     "text": [
      "AT_O_20190410_000005\n",
      "Model: Gaussian2D\n",
      "Inputs: ('x', 'y')\n",
      "Outputs: ('z',)\n",
      "Model set size: 1\n",
      "Parameters:\n",
      "      amplitude       x_mean        y_mean       x_stddev      y_stddev   theta\n",
      "    ------------- ------------- ------------- ------------- ------------- -----\n",
      "    61155.0649856 30.2198294755 29.8797576938 1.95463429411 2.00002397343   0.0\n"
     ]
    }
   ],
   "source": [
    "print(atcamera_fname)\n",
    "print(p)"
   ]
  },
  {
   "cell_type": "markdown",
   "metadata": {},
   "source": [
    "#### file, focus pos [in], amplitude, x_mean, y_mean, x_stddev, y_stddev, theta [fixed] \n",
    "# no filter, 90 l/mm disperser, stage at 64.998\n",
    "AT_O_20190410_000005\n",
    "zero order at 363,1836 --> 61155.0649856 30.2198294755 29.8797576938 1.95463429411 2.00002397343   0.0 --> 632nm\n",
    "first order at 344,805 --> 22149.3798576 29.7850441286 30.1606781766 1.98346597754 2.2922514253   0.0\n",
    "\n",
    "AT_O_20190410_00002, 86.91"
   ]
  },
  {
   "cell_type": "code",
   "execution_count": 381,
   "metadata": {},
   "outputs": [],
   "source": [
    "# magnification of the system is ~3.2, so 15um pinhole becomes 48um, which is a width of ~5 pixels\n",
    "# but it'll be resolved... 5 pixel wide top hat convolved with the diffraction limit (for a perfect system)\n",
    "# diffraction limit is 3.1 pixels FWHM. \n",
    "#The zemax model shows that we're not going to (easily) resolve the pinhole, so it'll basically\n",
    "# be a Gaussian. Moreover, we're definitely not using a perfect optical system so there's\n",
    "# aberrations that will certainly reduce our resolution. I expect to measure a Gaussian profile."
   ]
  },
  {
   "cell_type": "code",
   "execution_count": 239,
   "metadata": {},
   "outputs": [
    {
     "data": {
      "text/plain": [
       "10.533333333333335"
      ]
     },
     "execution_count": 239,
     "metadata": {},
     "output_type": "execute_result"
    }
   ],
   "source": [
    "632e-9*400/24. * 1e6"
   ]
  },
  {
   "cell_type": "code",
   "execution_count": 346,
   "metadata": {},
   "outputs": [
    {
     "data": {
      "text/plain": [
       "5.266666666666667"
      ]
     },
     "execution_count": 346,
     "metadata": {},
     "output_type": "execute_result"
    }
   ],
   "source": [
    "632/120"
   ]
  },
  {
   "cell_type": "code",
   "execution_count": 288,
   "metadata": {},
   "outputs": [],
   "source": [
    "# Make an encircled energy plot\n",
    "pix_index_1d_arr=np.arange(0,2*half_side,1)\n",
    "ones_array_2d=np.ones([2*half_side,2*half_side])\n",
    "#print(x_arr)\n",
    "#print(tmp)\n",
    "x_index_arr_2d=pix_index_1d_arr*ones_array_2d\n",
    "x_arr_2d=x_index_arr_2d - p.x_mean.value\n",
    "y_arr_2d= np.transpose(x_index_arr_2d) - p.y_mean.value\n",
    "# create array of radial distances (in pixels)\n",
    "r_arr_2d=np.sqrt(x_arr_2d**2 + y_arr_2d**2)"
   ]
  },
  {
   "cell_type": "code",
   "execution_count": 289,
   "metadata": {},
   "outputs": [],
   "source": [
    "if False:\n",
    "    plt.imshow(r_arr_2d)\n",
    "    plt.colorbar()"
   ]
  },
  {
   "cell_type": "code",
   "execution_count": 290,
   "metadata": {},
   "outputs": [],
   "source": [
    "r_arr_1d=np.reshape(r_arr_2d,(2*half_side)**2)\n",
    "values = np.reshape(z,(2*half_side)**2)"
   ]
  },
  {
   "cell_type": "code",
   "execution_count": 291,
   "metadata": {},
   "outputs": [
    {
     "data": {
      "image/png": "[encoded data removed]",
      "text/plain": [
       "<matplotlib.figure.Figure at 0x7efd7bdcc898>"
      ]
     },
     "metadata": {
      "needs_background": "light"
     },
     "output_type": "display_data"
    }
   ],
   "source": [
    "if True:\n",
    "    plt.ylabel('Intensity (ADU)')\n",
    "    plt.plot(r_arr_1d, values,'.')\n",
    "    plt.title('Radial PSF')\n",
    "    plt.xlabel('radius [pix]')\n",
    "    plt.show()\n",
    "    plt.close()"
   ]
  },
  {
   "cell_type": "code",
   "execution_count": null,
   "metadata": {},
   "outputs": [],
   "source": []
  }
 ],
 "metadata": {
  "kernelspec": {
   "display_name": "Python 3",
   "language": "python",
   "name": "python3"
  },
  "language_info": {
   "codemirror_mode": {
    "name": "ipython",
    "version": 3
   },
   "file_extension": ".py",
   "mimetype": "text/x-python",
   "name": "python",
   "nbconvert_exporter": "python",
   "pygments_lexer": "ipython3",
   "version": "3.6.3"
  }
 },
 "nbformat": 4,
 "nbformat_minor": 2
}
