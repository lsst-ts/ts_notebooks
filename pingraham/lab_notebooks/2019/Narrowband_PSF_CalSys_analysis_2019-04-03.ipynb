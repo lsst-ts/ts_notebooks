{
 "cells": [
  {
   "cell_type": "markdown",
   "metadata": {},
   "source": [
    "# This notebook is used to determine the output of the calibration illumination system and measure the amount of signal on the detector from an ATArchiver image. The code is meant for flats, but can be used for other purposes."
   ]
  },
  {
   "cell_type": "code",
   "execution_count": 653,
   "metadata": {},
   "outputs": [],
   "source": [
    "from astropy.io import fits\n",
    "import astropy.stats\n",
    "import numpy as np\n",
    "from scipy.optimize import curve_fit\n",
    "import matplotlib.pyplot as plt\n",
    "import csv\n",
    "import pickle\n",
    "\n",
    "import warnings\n",
    "#import matplotlib.pyplot as plt  # imported as py above\n",
    "from astropy.modeling import models, fitting\n",
    "from scipy.ndimage.filters import gaussian_filter\n",
    "from matplotlib import pyplot as plt"
   ]
  },
  {
   "cell_type": "code",
   "execution_count": 2,
   "metadata": {},
   "outputs": [
    {
     "name": "stderr",
     "output_type": "stream",
     "text": [
      "Could not import lsstcppimport; please ensure the base package has been built (not just setup).\n",
      "\n"
     ]
    }
   ],
   "source": [
    "import lsst.ts"
   ]
  },
  {
   "cell_type": "code",
   "execution_count": 3,
   "metadata": {},
   "outputs": [],
   "source": [
    "if False:\n",
    "    import asyncio\n",
    "    import logging\n",
    "\n",
    "    from lsst.ts import salobj\n",
    "    from lsst.ts.standardscripts.scripts.auxtel import calsys_take_narrowband_data\n",
    "\n",
    "    async def main(index):\n",
    "        script = calsys_take_narrowband_data(index=index)\n",
    "        script.log.setLevel(logging.INFO)\n",
    "        script.log.addHandler(logging.StreamHandler())\n",
    "        print(\"*** configure\")\n",
    "        config_data = script.cmd_configure.DataType()\n",
    "        config_data.config = \"develop/config/calsys_take_narrowband_data.yaml\"\n",
    "        config_id_data = salobj.CommandIdData(1, config_data)\n",
    "        await script.do_configure(config_id_data)\n",
    "        print(\"*** run\")\n",
    "        await script.do_run(None)\n",
    "        print(\"*** done\")\n"
   ]
  },
  {
   "cell_type": "code",
   "execution_count": 4,
   "metadata": {},
   "outputs": [],
   "source": [
    "# asyncio.get_event_loop().run_until_complete(main(index=1))"
   ]
  },
  {
   "cell_type": "code",
   "execution_count": null,
   "metadata": {},
   "outputs": [],
   "source": []
  },
  {
   "cell_type": "code",
   "execution_count": 233,
   "metadata": {},
   "outputs": [
    {
     "name": "stdout",
     "output_type": "stream",
     "text": [
      "['ATArchiver Image Name', 'ATArchiver Image Sequence Name', 'Exposure Time', 'Fiber Spectrograph Exposure Time', 'Monochromator Grating', 'Monochromator Wavelength', 'Monochromator Entrance Slit Size', 'Monochromator Exit Slit Size', 'Fiber Spectrograph Fits File', 'Electrometer Fits File']\n"
     ]
    }
   ],
   "source": [
    "# the calsys_take_narrowband_data script outputs a CSV file, but the URLs are messed up. So this fixes them and writes a new file\n",
    "new_rows = []\n",
    "csv_dir='/home/saluser/develop/calsys_take_narrowband_data_fits_files/'\n",
    "#csv_dir='/home/saluser/develop/calsys_take_test_data_fits_files/'\n",
    "#csv_dir='/home/saluser/develop/'\n",
    "csv_filename_root='calsys_take_narrowband_data_2019-04-10'\n",
    "csv_filename_root='calsys_take_narrowband_data_2019-04-03'\n",
    "with open(csv_dir+csv_filename_root+'.csv',\"r\") as csvfile:\n",
    "    data_reader = csv.DictReader(csvfile)\n",
    "    headers = data_reader.fieldnames\n",
    "    for row in data_reader:\n",
    "        new_row = row\n",
    "        electrometer_url = row[\"Electrometer Fits File\"]\n",
    "        fiber_spectrograph_url = row[\"Fiber Spectrograph Fits File\"]\n",
    "        electrometer_name = electrometer_url.split('/')[-1]\n",
    "        new_row[\"Electrometer Fits File\"] = electrometer_name + \".fits\"\n",
    "        fiber_spectrograph_name = fiber_spectrograph_url.split('/')[-1]\n",
    "        new_row[\"Fiber Spectrograph Fits File\"] = fiber_spectrograph_name\n",
    "        new_rows.append(new_row)\n",
    "with open(csv_dir+csv_filename_root+'-reformatted.csv',\"w\") as csvfile:\n",
    "    data_writer = csv.DictWriter(csvfile, fieldnames=headers)\n",
    "    data_writer.writeheader()\n",
    "    for row in new_rows:\n",
    "        data_writer.writerow(row)\n",
    "\n",
    "# Read in the CSV file which has cleaned URLs\n",
    "new_rows = []\n",
    "with open(csv_dir+csv_filename_root+'-reformatted.csv',\"r\") as csvfile:\n",
    "    data_reader = csv.DictReader(csvfile)\n",
    "    data_reader_list = list(data_reader)\n",
    "    #exposure_time_1 = data_reader_list[0][\"Exposure Time\"]\n",
    "    #print(exposure_time_1)\n",
    "\n",
    "print(data_reader.fieldnames)"
   ]
  },
  {
   "cell_type": "code",
   "execution_count": 234,
   "metadata": {},
   "outputs": [],
   "source": [
    "# declare dictionary to store values\n",
    "data_dict = {}"
   ]
  },
  {
   "cell_type": "code",
   "execution_count": 657,
   "metadata": {},
   "outputs": [],
   "source": [
    "#index = -6#AT_O_20190403_000065, 86.92, 29294.7502985 9.7799875292 9.70992331211 2.1707047694 2.2314911659   0.0  @ 632 nm <br>\n",
    "index = -5#AT_O_20190403_000068, 86.92, 30692.693266 10.4100367967 10.2439172009 2.39368673584 2.42869283387   0.0 @ 532 nm <br>\n",
    "index = -4 #AT_O_20190403_000069, 86.92, 49439.235903 9.61762946836 9.78623937611 2.11873799437 2.25860610821   0.0 @ 732 nm <br>\n",
    "index = -3 #AT_O_20190403_000070, 86.92, 22329.9098714 10.1640712417 10.2179073827 3.16090407303 2.92798810201   0.0  @ 832 <br> # CHECK PEAK!\n",
    "index = -2 #AT_O_20190403_000071, 86.92, 14223.152027 10.1563920627 9.90674668135 2.09985503759 2.20372016625   0.0@ 939nm <br>\n",
    "index = -1 #AT_O_20190403_000072, 86.92, 18797.0589176 9.72130537745 9.92428398597 2.34364092035 2.45635093767   0.0 @ 432 nm <br>"
   ]
  },
  {
   "cell_type": "code",
   "execution_count": 658,
   "metadata": {},
   "outputs": [
    {
     "name": "stdout",
     "output_type": "stream",
     "text": [
      "AT_O_20190403_000072-ats-wfs_ccd.fits\n",
      "1.0\n",
      "0.2\n",
      "432.0\n",
      "0.15\n"
     ]
    }
   ],
   "source": [
    "#index=-1\n",
    "print(data_reader_list[index]['ATArchiver Image Name'])\n",
    "print(data_reader_list[index]['Exposure Time'])\n",
    "print(data_reader_list[index]['Fiber Spectrograph Exposure Time'])\n",
    "print(data_reader_list[index]['Monochromator Wavelength'])\n",
    "print(data_reader_list[index]['Monochromator Exit Slit Size'])"
   ]
  },
  {
   "cell_type": "code",
   "execution_count": null,
   "metadata": {},
   "outputs": [],
   "source": []
  },
  {
   "cell_type": "code",
   "execution_count": 659,
   "metadata": {},
   "outputs": [
    {
     "name": "stdout",
     "output_type": "stream",
     "text": [
      "Opening file /home/saluser/develop/calsys_take_narrowband_data_fits_files/fiber_spectrograph_fits_files/testKiloarc1554332280.834453.fits\n"
     ]
    }
   ],
   "source": [
    "# Read in a fiber spectrograph file, which is just the last one in the list\n",
    "dir='/home/saluser/develop/calsys_take_narrowband_data_fits_files/fiber_spectrograph_fits_files/'\n",
    "#dir='/home/saluser/develop/calsys_take_test_data_fits_files/fiber_spectrograph_fits_files/'\n",
    "#filename=dir+'testKiloarc1553106436.910112.fits'\n",
    "filename=dir+data_reader_list[index]['Fiber Spectrograph Fits File']\n",
    "\n",
    "print('Opening file {}'.format(filename))\n",
    "#fits_image_filename = fits.util.get_testdata_filepath(filename)\n",
    "hdul = fits.open(filename)\n",
    "xdata=(hdul[0].data)[:,0]\n",
    "ydata=(hdul[0].data)[:,1]\n",
    "#print(repr(hdul[0].header))"
   ]
  },
  {
   "cell_type": "code",
   "execution_count": 660,
   "metadata": {},
   "outputs": [
    {
     "data": {
      "image/png": "[encoded data removed]",
      "text/plain": [
       "<matplotlib.figure.Figure at 0x7fa30b1d68d0>"
      ]
     },
     "metadata": {
      "needs_background": "light"
     },
     "output_type": "display_data"
    }
   ],
   "source": [
    "if True:\n",
    "    plt.ylabel('Intensity (ADU)')\n",
    "    plt.plot(xdata, ydata,'-g')\n",
    "    plt.title('Spectral resolution function')\n",
    "    plt.xlabel('wavelength [nm]')\n",
    "    plt.show()\n",
    "    plt.close()"
   ]
  },
  {
   "cell_type": "code",
   "execution_count": 662,
   "metadata": {},
   "outputs": [
    {
     "data": {
      "image/png": "[encoded data removed]",
      "text/plain": [
       "<matplotlib.figure.Figure at 0x7fa30a496160>"
      ]
     },
     "metadata": {
      "needs_background": "light"
     },
     "output_type": "display_data"
    },
    {
     "name": "stdout",
     "output_type": "stream",
     "text": [
      "Amplitude [ADU] = 620\n",
      "peak (mean) [nm] = 426.59\n",
      "width (sigma) [nm] = 2.566\n",
      "FWHM [nm] = 6.043\n"
     ]
    }
   ],
   "source": [
    "# Fit a guassian to the profile\n",
    "mean = xdata[np.argmax(ydata)] # assume the peak we want is the maximum value (NOT ALWAYS THE CASE!)\n",
    "#mean = float(data_reader_list[index]['Monochromator Wavelength']) # Doesn't work well\n",
    "#mean = 940.   #note this correction\n",
    "sigma = 2.0        #note this correction\n",
    "offset=np.median(ydata)\n",
    "\n",
    "def gaus(x,a,x0,sigma, offset):\n",
    "    return a*np.exp(-(x-x0)**2/(2*sigma**2))+offset\n",
    "\n",
    "popt,pcov = curve_fit(gaus,xdata,ydata,p0=[8000.0,mean,sigma, offset])\n",
    "\n",
    "plt.plot(xdata,ydata,'b+:',label='data')\n",
    "plt.plot(xdata,gaus(xdata,*popt),'r:',label='fit')\n",
    "dx=50\n",
    "plt.xlim([mean-dx,mean+dx])\n",
    "#plt.ylim([0,2000])\n",
    "plt.legend()\n",
    "plt.title('Fit to fiber spectrograph data')\n",
    "plt.ylabel('Intensity [ADU]')\n",
    "plt.xlabel('Wavelength [nm]')\n",
    "plt.show()\n",
    "\n",
    "print('Amplitude [ADU] = {:.0f}'.format(popt[0]))\n",
    "print('peak (mean) [nm] = {:.2f}'.format(popt[1]))\n",
    "print('width (sigma) [nm] = {:0.3f}'.format(popt[2]))\n",
    "print('FWHM [nm] = {:0.3f}'.format(popt[2]*2.355))"
   ]
  },
  {
   "cell_type": "code",
   "execution_count": null,
   "metadata": {},
   "outputs": [],
   "source": []
  },
  {
   "cell_type": "markdown",
   "metadata": {},
   "source": [
    "## Now read in the camera image to look at the PSF"
   ]
  },
  {
   "cell_type": "code",
   "execution_count": 663,
   "metadata": {},
   "outputs": [
    {
     "name": "stdout",
     "output_type": "stream",
     "text": [
      "Opening /mnt/dmcs/2019-04-03/AT_O_20190403_000072-ats-wfs_ccd.fits\n"
     ]
    }
   ],
   "source": [
    "# Now read in the camera image\n",
    "# For now just calculate the mediam signal per amp\n",
    "\n",
    "# Read in image\n",
    "dir = '/mnt/dmcs/2019-04-10/'\n",
    "dir = '/mnt/dmcs/2019-04-03/'\n",
    "atcamera_fname=data_reader_list[index]['ATArchiver Image Name']\n",
    "\n",
    "full_file_name=dir+atcamera_fname\n",
    "print('Opening {}'.format(full_file_name))\n",
    "hdu_list = fits.open(full_file_name)\n",
    "#hdu_list.info()\n",
    "im=hdu_list[12].data # for camera data\n",
    "\n",
    "bias_full_file_name='/mnt/dmcs/2019-04-05/AT_O_20190405_000053-ats-wfs_ccd.fits'\n",
    "bias_hdu_list = fits.open(bias_full_file_name)\n",
    "#hdu_list.info()\n",
    "bias=bias_hdu_list[12].data # for camera data\n",
    "\n",
    "im-=bias"
   ]
  },
  {
   "cell_type": "code",
   "execution_count": 664,
   "metadata": {},
   "outputs": [
    {
     "data": {
      "image/png": "[encoded data removed]",
      "text/plain": [
       "<matplotlib.figure.Figure at 0x7fa30a4c9be0>"
      ]
     },
     "metadata": {
      "needs_background": "light"
     },
     "output_type": "display_data"
    }
   ],
   "source": [
    "# I NEED A BETTER IMAGE DISPLAY!\n",
    "if True:\n",
    "    im_sub=im#-np.median(im)\n",
    "    #plt.figure(figsize=(11, 5))\n",
    "    #plt.subplot(1, 1, 1)\n",
    "    plt.imshow(im_sub)\n",
    "    plt.colorbar()\n",
    "    hdu_list.close()"
   ]
  },
  {
   "cell_type": "code",
   "execution_count": 665,
   "metadata": {},
   "outputs": [],
   "source": [
    "# remove hot/bad pixels\n",
    "from scipy.ndimage import median_filter\n",
    "blurred = median_filter(im, size=3)\n",
    "difference = im - blurred\n",
    "threshold = 10*np.std(difference)\n",
    "im_badpix_corr = np.empty_like(im)\n",
    "im_badpix_corr[:] = im\n",
    "im_badpix_corr[difference>threshold] = 0"
   ]
  },
  {
   "cell_type": "code",
   "execution_count": 666,
   "metadata": {},
   "outputs": [
    {
     "name": "stdout",
     "output_type": "stream",
     "text": [
      "Cutting out area with zero order image\n",
      "centroid at y,x: 1111 341\n"
     ]
    }
   ],
   "source": [
    "# Find star by convolution with gaussian, then grab the max\n",
    "star_finder_img=gaussian_filter(im_badpix_corr,[2.2,2.2],order=0, mode='constant',cval=0)\n",
    "\n",
    "# Cut out the area with the 1st order image\n",
    "half_side = 20\n",
    "zero_ord_pos = [1814, 350]\n",
    "ymin = zero_ord_pos[0]-half_side if zero_ord_pos[0]-half_side > 0 else 0\n",
    "ymax = zero_ord_pos[0]+half_side if zero_ord_pos[0]+half_side < 2047 else 2047\n",
    "xmin = zero_ord_pos[1]-half_side if zero_ord_pos[1]-half_side > 0 else 0\n",
    "xmax = zero_ord_pos[1]+half_side if zero_ord_pos[1]+half_side < 512 else 512\n",
    "if True:\n",
    "    print('Cutting out area with zero order image')\n",
    "    #print('ymin,ymax,xmin,xmax = [{}, {}, {}, {}]'.format(ymin,ymax,xmin,xmax))\n",
    "    star_finder_img[ymin:ymax,xmin:xmax] = -1e99 #np.nan\n",
    "\n",
    "# If the wavelength is longer than 700nm, then there will be 2nd order contamination.\n",
    "# This means that the \"star\" finder below will find the wrong peak if the 2nd order is brighter than the first.\n",
    "if popt[1] > 700:\n",
    "    print('Removing 2nd order light from star finding image')\n",
    "    star_finder_img[800::,:]=-1e99\n",
    "\n",
    "#print(np.max(star_finder_img))\n",
    "value=None\n",
    "ind=np.argmax(star_finder_img)\n",
    "ind2d = np.unravel_index(ind,star_finder_img.shape)\n",
    "print('centroid at y,x: {} {}'.format(ind2d[0],ind2d[1]))"
   ]
  },
  {
   "cell_type": "code",
   "execution_count": 667,
   "metadata": {},
   "outputs": [],
   "source": [
    "#ind2d=[947,338]\n",
    "#ind2d=[622,331]"
   ]
  },
  {
   "cell_type": "code",
   "execution_count": 668,
   "metadata": {},
   "outputs": [
    {
     "name": "stdout",
     "output_type": "stream",
     "text": [
      "subimage being made from ymin,ymax,xmin,xmax:1091 1131 321 361\n",
      "new centroid at y,x: 19 19\n"
     ]
    }
   ],
   "source": [
    "# Create sub-image\n",
    "#ymin=1800 ; ymax=2048\n",
    "#xmin=280 ; xmax=450\n",
    "half_side=int(20)\n",
    "ymin = ind2d[0]-half_side if ind2d[0]-half_side > 0 else 0\n",
    "ymax = ind2d[0]+half_side if ind2d[0]+half_side < 2047 else 2047\n",
    "xmin = ind2d[1]-half_side if ind2d[1]-half_side > 0 else 0\n",
    "xmax = ind2d[1]+half_side if ind2d[1]+half_side < 512 else 512\n",
    "print('subimage being made from ymin,ymax,xmin,xmax:{} {} {} {}'.format(ymin,ymax,xmin,xmax))\n",
    "# new maximum at:\n",
    "ind=np.argmax(im[ymin:ymax,xmin:xmax])\n",
    "ind2d = np.unravel_index(ind,im[ymin:ymax,xmin:xmax].shape)\n",
    "print('new centroid at y,x: {} {}'.format(ind2d[0],ind2d[1]))"
   ]
  },
  {
   "cell_type": "code",
   "execution_count": 669,
   "metadata": {},
   "outputs": [
    {
     "data": {
      "image/png": "[encoded data removed]",
      "text/plain": [
       "<matplotlib.figure.Figure at 0x7fa30a232208>"
      ]
     },
     "metadata": {
      "needs_background": "light"
     },
     "output_type": "display_data"
    }
   ],
   "source": [
    "im_sub=im[ymin:ymax,xmin:xmax]\n",
    "# Gaussian doesn't do zero offet, so have to subtract...\n",
    "im_sub_bkg_sub=im_sub-np.median(im_sub)\n",
    "\n",
    "#im_sub=star_finder_img[ymin:ymax,xmin:xmax]\n",
    "plt.imshow(im_sub)\n",
    "plt.colorbar()\n",
    "hdu_list.close()"
   ]
  },
  {
   "cell_type": "code",
   "execution_count": 670,
   "metadata": {},
   "outputs": [
    {
     "name": "stdout",
     "output_type": "stream",
     "text": [
      "19\n",
      "19\n"
     ]
    },
    {
     "data": {
      "text/plain": [
       "<matplotlib.text.Text at 0x7fa30aed4dd8>"
      ]
     },
     "execution_count": 670,
     "metadata": {},
     "output_type": "execute_result"
    },
    {
     "data": {
      "image/png": "[encoded data removed]",
      "text/plain": [
       "<matplotlib.figure.Figure at 0x7fa30a2717b8>"
      ]
     },
     "metadata": {
      "needs_background": "light"
     },
     "output_type": "display_data"
    }
   ],
   "source": [
    "# Generate x,y,z data\n",
    "y, x = np.mgrid[:im_sub.shape[0], :im_sub.shape[1]]\n",
    "print(y[ind2d])\n",
    "print(x[ind2d])\n",
    "z=im_sub_bkg_sub\n",
    "# Fit the data using astropy.modeling\n",
    "p_init = models.Gaussian2D(amplitude=np.nanmax(z),x_mean=x[ind2d], y_mean=y[ind2d], fixed={'theta':True})\n",
    "#p_init = models.Gaussian2D(amplitude=np.nanmax(z),x_mean=38, y_mean=51, x_stddev=3, y_stddev=3,  fixed={'theta':True})\n",
    "fit_p = fitting.LevMarLSQFitter()\n",
    "\n",
    "with warnings.catch_warnings():\n",
    "    # Ignore model linearity warning from the fitter\n",
    "    warnings.simplefilter('ignore')\n",
    "    p = fit_p(p_init, x, y, z)\n",
    "\n",
    "# Plot the data with the best-fit model\n",
    "plt.figure(figsize=(9, 5))\n",
    "plt.subplot(1, 3, 1)\n",
    "plt.imshow(z, origin='lower', interpolation='nearest')#, vmin=-1e4, vmax=5e4)\n",
    "plt.title(\"Data\")\n",
    "plt.subplot(1, 3, 2)\n",
    "plt.imshow(p(x, y), origin='lower', interpolation='nearest')#, vmin=-1e4, vmax=5e4)\n",
    "plt.title(\"Model\")\n",
    "plt.subplot(1, 3, 3)\n",
    "plt.imshow(z - p(x, y), origin='lower', interpolation='nearest')#, vmin=-1e4, vmax=5e4)\n",
    "plt.title(\"Residual\")"
   ]
  },
  {
   "cell_type": "code",
   "execution_count": 671,
   "metadata": {},
   "outputs": [
    {
     "name": "stdout",
     "output_type": "stream",
     "text": [
      "AT_O_20190403_000072-ats-wfs_ccd.fits\n",
      "Model: Gaussian2D\n",
      "Inputs: ('x', 'y')\n",
      "Outputs: ('z',)\n",
      "Model set size: 1\n",
      "Parameters:\n",
      "      amplitude       x_mean        y_mean       x_stddev      y_stddev   theta\n",
      "    ------------- ------------- ------------- ------------- ------------- -----\n",
      "    7428.16314124 19.4275395177 19.1640478143 2.38536160409 2.51229317785   0.0\n"
     ]
    }
   ],
   "source": [
    "print(atcamera_fname)\n",
    "print(p)"
   ]
  },
  {
   "cell_type": "code",
   "execution_count": null,
   "metadata": {},
   "outputs": [],
   "source": []
  },
  {
   "cell_type": "markdown",
   "metadata": {},
   "source": [
    "## Make an encircled energy and radial PSFs plots"
   ]
  },
  {
   "cell_type": "code",
   "execution_count": 672,
   "metadata": {},
   "outputs": [],
   "source": [
    "# Build 2d index arrays for calculations\n",
    "pix_index_1d_arr=np.arange(0,2*half_side,1)\n",
    "ones_array_2d=np.ones([2*half_side,2*half_side])\n",
    "\n",
    "x_index_arr_2d=pix_index_1d_arr*ones_array_2d\n",
    "y_index_arr_2d=np.transpose(x_index_arr_2d)"
   ]
  },
  {
   "cell_type": "code",
   "execution_count": 673,
   "metadata": {},
   "outputs": [
    {
     "name": "stdout",
     "output_type": "stream",
     "text": [
      "Gaussian Center [x,y] is: [19.428,19.164]\n",
      "Center of Mass [x,y] is: [19.279,18.808]\n",
      "Full Image Peak is at [y,x] = [1110.164,340.428]\n",
      "Full Image CofM is at [y,x] = [1109.808,340.279]\n"
     ]
    }
   ],
   "source": [
    "# Calculate the centroid\n",
    "x_CofM = np.sum(x_index_arr_2d*im_sub)/np.sum(im_sub)\n",
    "y_CofM = np.sum(y_index_arr_2d*im_sub)/np.sum(im_sub)\n",
    "print('Gaussian Center [x,y] is: [{:0.3f},{:0.3f}]'.format(p.x_mean.value, p.y_mean.value))\n",
    "print('Center of Mass [x,y] is: [{:0.3f},{:0.3f}]'.format(x_CofM, y_CofM))\n",
    "# Print positions in image\n",
    "x_img_peak = p.x_mean.value + xmin\n",
    "y_img_peak = p.y_mean.value + ymin\n",
    "x_img_CofM = x_CofM + xmin\n",
    "y_img_CofM = y_CofM + ymin\n",
    "print('Full Image Peak is at [y,x] = [{:0.3f},{:0.3f}]'.format(y_img_peak, x_img_peak))\n",
    "print('Full Image CofM is at [y,x] = [{:0.3f},{:0.3f}]'.format(y_img_CofM, x_img_CofM))"
   ]
  },
  {
   "cell_type": "code",
   "execution_count": 674,
   "metadata": {},
   "outputs": [],
   "source": [
    "if False:\n",
    "    x_arr_2d=x_index_arr_2d - p.x_mean.value\n",
    "    y_arr_2d= np.transpose(x_index_arr_2d) - p.y_mean.value\n",
    "else:\n",
    "    x_arr_2d=x_index_arr_2d - x_CofM\n",
    "    y_arr_2d= np.transpose(x_index_arr_2d) - y_CofM\n",
    "        \n",
    "    # create array of radial distances (in pixels)\n",
    "r_arr_2d=np.sqrt(x_arr_2d**2 + y_arr_2d**2)"
   ]
  },
  {
   "cell_type": "code",
   "execution_count": 675,
   "metadata": {},
   "outputs": [],
   "source": [
    "if False:\n",
    "    plt.imshow(r_arr_2d)\n",
    "    plt.colorbar()"
   ]
  },
  {
   "cell_type": "code",
   "execution_count": 676,
   "metadata": {},
   "outputs": [],
   "source": [
    "r_arr_1d=np.reshape(r_arr_2d, (2*half_side)**2)\n",
    "z_values_1d = np.reshape(im_sub_bkg_sub,(2*half_side)**2)\n",
    "z_values_1d = np.reshape(im_sub,(2*half_side)**2)"
   ]
  },
  {
   "cell_type": "code",
   "execution_count": 677,
   "metadata": {},
   "outputs": [
    {
     "data": {
      "image/png": "[encoded data removed]",
      "text/plain": [
       "<matplotlib.figure.Figure at 0x7fa30aaf1a90>"
      ]
     },
     "metadata": {
      "needs_background": "light"
     },
     "output_type": "display_data"
    }
   ],
   "source": [
    "if True:\n",
    "    plt.ylabel('Intensity [ADU]')\n",
    "    plt.plot(r_arr_1d*10, z_values_1d, '.')\n",
    "    plt.title('Radial PSF')\n",
    "    plt.xlabel('radius [um]')\n",
    "    plt.show()\n",
    "    plt.close()"
   ]
  },
  {
   "cell_type": "code",
   "execution_count": 678,
   "metadata": {},
   "outputs": [],
   "source": [
    "# sort the arrays so they're easier to loop/bin\n",
    "ind= np.argsort(r_arr_1d)\n",
    "ordered_r_arr_1d = r_arr_1d[ind]\n",
    "ordered_z_values_1d = z_values_1d[ind]"
   ]
  },
  {
   "cell_type": "code",
   "execution_count": 679,
   "metadata": {},
   "outputs": [],
   "source": [
    "rad_pix_list = [] # is it better to append to lists? or can you append to numpy arrays?\n",
    "E_wrt_rad_list = []\n",
    "EE_arr_list = []\n",
    "total_flux = sum(ordered_z_values_1d)\n",
    "rad=0\n",
    "dx0=0.5\n",
    "dx=dx0\n",
    "while rad < np.nanmax(ordered_r_arr_1d):  \n",
    "    ind1 = ordered_r_arr_1d < (rad+dx)\n",
    "    ind2 = ordered_r_arr_1d > (rad)\n",
    "    good = ind1*ind2\n",
    "    if sum(good) > 0:\n",
    "        rad_pix_list.append(rad+dx/2) # center of the bin\n",
    "        E_wrt_rad_list.append(sum(ordered_z_values_1d[good])/total_flux)\n",
    "        EE_arr_list.append(sum(E_wrt_rad_list))\n",
    "        \n",
    "        dx=dx0\n",
    "        rad+=dx\n",
    "    else:\n",
    "        dx+=1\n",
    "    #print('rad and dx are {}, {}'.format(rad,dx))"
   ]
  },
  {
   "cell_type": "code",
   "execution_count": 680,
   "metadata": {},
   "outputs": [
    {
     "name": "stdout",
     "output_type": "stream",
     "text": [
      "EE radius at 67% and 80% is [2.266, 2.594] pixels\n"
     ]
    }
   ],
   "source": [
    "# Print the values at radii of 67 and 80%\n",
    "EE_rad67_pix, EE_rad80_pix = np.interp([0.67, 0.80], np.array(EE_arr_list), np.array(rad_pix_list))\n",
    "print('EE radius at 67% and 80% is [{:0.3f}, {:0.3f}] pixels'.format(EE_rad67_pix, EE_rad80_pix))\n",
    "#EE_rad80_pix"
   ]
  },
  {
   "cell_type": "code",
   "execution_count": 681,
   "metadata": {},
   "outputs": [
    {
     "data": {
      "image/png": "[encoded data removed]",
      "text/plain": [
       "<matplotlib.figure.Figure at 0x7fa30ab45be0>"
      ]
     },
     "metadata": {
      "needs_background": "light"
     },
     "output_type": "display_data"
    }
   ],
   "source": [
    "if True:\n",
    "    plt.ylabel('Fraction of Encircled Energy')\n",
    "    plt.plot(10*np.array(rad_pix_list), EE_arr_list, '.')\n",
    "    plt.title('Encircled Energy')\n",
    "    plt.xlabel('radius [um]')\n",
    "    plt.show()\n",
    "    plt.close()"
   ]
  },
  {
   "cell_type": "code",
   "execution_count": 682,
   "metadata": {},
   "outputs": [],
   "source": [
    "# Create a dictionary if it's not already present\n",
    "# A boolean of an empty dictionary is false\n",
    "\n",
    "if not bool(data_dict):\n",
    "    print('Adding new keys to dictionary')\n",
    "    data_dict = {'fiberspec_wavelength': [], 'fiberspec_FWHM': [], 'fiberspec_Amp': [],\n",
    "            'x_peak': [], 'y_peak': [], 'x_CofM': [], 'y_CofM': [],\n",
    "            'Gauss_xFWHM_pix': [], 'Gauss_yFWHM_pix': [],\n",
    "             'EE_rad67_pix': [], 'EE_rad80_pix': []} "
   ]
  },
  {
   "cell_type": "code",
   "execution_count": 683,
   "metadata": {},
   "outputs": [],
   "source": [
    "data_dict['fiberspec_wavelength'].append(popt[1])\n",
    "data_dict['fiberspec_FWHM'].append(popt[2]*2.355)\n",
    "data_dict['fiberspec_Amp'].append(popt[0])\n",
    "\n",
    "data_dict['x_peak'].append(x_img_peak)\n",
    "data_dict['y_peak'].append(y_img_peak)\n",
    "data_dict['x_CofM'].append(x_img_CofM)\n",
    "data_dict['y_CofM'].append(y_img_CofM)\n",
    "\n",
    "data_dict['Gauss_xFWHM_pix'].append(p.x_stddev.value)\n",
    "data_dict['Gauss_yFWHM_pix'].append(p.y_stddev.value)\n",
    "data_dict['EE_rad67_pix'].append(EE_rad67_pix)\n",
    "data_dict['EE_rad80_pix'].append(EE_rad80_pix)"
   ]
  },
  {
   "cell_type": "code",
   "execution_count": 709,
   "metadata": {},
   "outputs": [
    {
     "data": {
      "text/plain": [
       "array([6, 4, 1, 0, 2, 3, 5])"
      ]
     },
     "execution_count": 709,
     "metadata": {},
     "output_type": "execute_result"
    }
   ],
   "source": [
    "np.argsort(data_dict['fiberspec_wavelength'])"
   ]
  },
  {
   "cell_type": "code",
   "execution_count": 685,
   "metadata": {},
   "outputs": [],
   "source": [
    "f = open(\"dispersion_dictionary.pkl\",\"wb\")\n",
    "pickle.dump(dict,f)\n",
    "f.close()\n",
    "\n",
    "#favorite_color = pickle.load( open( \"save.p\", \"rb\" ) ))"
   ]
  },
  {
   "cell_type": "code",
   "execution_count": 698,
   "metadata": {},
   "outputs": [
    {
     "data": {
      "image/png": "[encoded data removed]",
      "text/plain": [
       "<matplotlib.figure.Figure at 0x7fa30a4826d8>"
      ]
     },
     "metadata": {
      "needs_background": "light"
     },
     "output_type": "display_data"
    },
    {
     "name": "stdout",
     "output_type": "stream",
     "text": [
      "Dispersion is -0.6243506203390388 nm/pixel\n",
      "Intercept is at pixel 1119.7736822898396\n"
     ]
    }
   ],
   "source": [
    "# Fit a guassian to the profile\n",
    "\n",
    "xdata = np.array(data_dict['y_peak'])\n",
    "ydata = np.array(data_dict['fiberspec_wavelength'])\n",
    "\n",
    "def line(x,m,b):\n",
    "    return m*x+b\n",
    "\n",
    "popt,pcov = curve_fit(line,xdata,ydata)#,p0=[])\n",
    "\n",
    "plt.ylabel('wavelength [nm]')\n",
    "plt.plot(xdata, ydata, '.')\n",
    "plt.plot(xdata, line(xdata, *popt))\n",
    "plt.title('Dispersion Plot')\n",
    "plt.xlabel('y-pixel')\n",
    "plt.show()\n",
    "plt.close()\n",
    "\n",
    "print('Dispersion is {} nm/pixel'.format(popt[0]))\n",
    "print('Intercept is at pixel {}'.format(popt[1]))"
   ]
  },
  {
   "cell_type": "code",
   "execution_count": null,
   "metadata": {},
   "outputs": [],
   "source": []
  },
  {
   "cell_type": "code",
   "execution_count": 706,
   "metadata": {},
   "outputs": [
    {
     "name": "stdout",
     "output_type": "stream",
     "text": [
      "630.740553411 29.5293176809\n"
     ]
    }
   ],
   "source": []
  },
  {
   "cell_type": "code",
   "execution_count": 713,
   "metadata": {},
   "outputs": [
    {
     "name": "stdout",
     "output_type": "stream",
     "text": [
      "426.594701968971, 2.594061472861331\n",
      "467.56997420590085, 1.5288206167004277\n",
      "529.399752381288, 3.2698663725381283\n",
      "630.7405534106381, 29.52931768089633\n",
      "729.9576632407392, 2.9649677952105695\n",
      "834.039060106424, 4.631299963845259\n",
      "939.323564016945, 6.821461636384678\n"
     ]
    }
   ],
   "source": [
    "for wave_ind in np.argsort(data_dict['fiberspec_wavelength']):\n",
    "    print('{}, {}'.format(data_dict['fiberspec_wavelength'][wave_ind],data_dict['EE_rad80_pix'][wave_ind]))"
   ]
  },
  {
   "cell_type": "code",
   "execution_count": null,
   "metadata": {},
   "outputs": [],
   "source": []
  }
 ],
 "metadata": {
  "kernelspec": {
   "display_name": "Python 3",
   "language": "python",
   "name": "python3"
  },
  "language_info": {
   "codemirror_mode": {
    "name": "ipython",
    "version": 3
   },
   "file_extension": ".py",
   "mimetype": "text/x-python",
   "name": "python",
   "nbconvert_exporter": "python",
   "pygments_lexer": "ipython3",
   "version": "3.6.3"
  }
 },
 "nbformat": 4,
 "nbformat_minor": 2
}
