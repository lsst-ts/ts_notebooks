{
 "cells": [
  {
   "cell_type": "markdown",
   "metadata": {},
   "source": [
    "### Notebook to be used to perform focus sweep using X images, then processing them to find the best focus. In this case we're using the 0th order image but this can be modified."
   ]
  },
  {
   "cell_type": "code",
   "execution_count": 1,
   "metadata": {},
   "outputs": [],
   "source": [
    "import numpy as np\n",
    "from lsst.ts import salobj\n",
    "import asyncio\n",
    "from astropy.io import fits\n",
    "\n",
    "import warnings\n",
    "#import matplotlib.pyplot as plt  # imported as py above\n",
    "from astropy.modeling import models, fitting\n",
    "from scipy.ndimage.filters import gaussian_filter\n",
    "from matplotlib import pyplot as plt\n",
    "#%matplotlib ipympl\n",
    "plt.rcParams['figure.figsize'] = [7, 6]\n",
    "\n",
    "import lsst.daf.persistence as dafPersist\n",
    "import matplotlib.pyplot as plt\n",
    "%matplotlib inline\n",
    "import lsst.afw.display as afwDisplay\n",
    "#afwDisplay.setDefaultBackend('firefly')\n",
    "afwDisplay.setDefaultBackend('matplotlib')\n",
    "import time\n",
    "import lsst.afw.cameraGeom.utils as cameraGeomUtils\n",
    "import lsst.geom\n",
    "\n",
    "import os\n",
    "import lsst.log\n",
    "lsst.log.usePythonLogging()\n",
    "\n",
    "import logging\n",
    "logging.basicConfig(level=logging.INFO,\n",
    "                    format='%(asctime)s %(name)-12s %(levelname)-8s %(message)s')\n",
    "logger = logging.getLogger('image_display_notebook')"
   ]
  },
  {
   "cell_type": "code",
   "execution_count": 2,
   "metadata": {},
   "outputs": [
    {
     "name": "stderr",
     "output_type": "stream",
     "text": [
      "2019-11-14 16:28:00,945 CameraMapper INFO     Loading exposure registry from /home/saluser/ingest/accs/registry.sqlite3\n",
      "2019-11-14 16:28:00,946 CameraMapper INFO     Loading calib registry from /home/saluser/ingest/accs/CALIB/calibRegistry.sqlite3\n"
     ]
    }
   ],
   "source": [
    "# Setup the butler\n",
    "accs_images = True\n",
    "if accs_images:\n",
    "    repo = os.path.join(\"/home/saluser/ingest/accs/\")#, mapper={'calibRoot': \"/home/saluser/ingest/dmcs/CALIB\"})\n",
    "    butler = dafPersist.Butler(repo)\n",
    "else:\n",
    "    repo = os.path.join(\"/home/saluser/ingest/dmcs/\")#, mapper={'calibRoot': \"/home/saluser/ingest/dmcs/CALIB\"})\n",
    "    butler = dafPersist.Butler(repo)\n",
    "#raw = butler.get(\"raw\", visit=2019053100020)\n",
    "#image = raw.getImage().array"
   ]
  },
  {
   "cell_type": "code",
   "execution_count": 3,
   "metadata": {},
   "outputs": [
    {
     "name": "stderr",
     "output_type": "stream",
     "text": [
      "2019-11-14 16:28:21,295 ATArchiver   INFO     Read historical data in 11.85 sec\n",
      "2019-11-14 16:28:21,440 LinearStage  INFO     Read historical data in 11.99 sec\n",
      "2019-11-14 16:28:21,678 ATSpectrograph INFO     Read historical data in 12.22 sec\n",
      "2019-11-14 16:28:21,954 ATCamera     INFO     Read historical data in 12.51 sec\n"
     ]
    },
    {
     "data": {
      "text/plain": [
       "[None, None, None, None]"
      ]
     },
     "execution_count": 3,
     "metadata": {},
     "output_type": "execute_result"
    }
   ],
   "source": [
    "#Setup the remotes\n",
    "d = salobj.Domain()\n",
    "ATArchiver = salobj.Remote(d, 'ATArchiver')\n",
    "#await ATArchiver.start_task\n",
    "ATCamera = salobj.Remote(d, 'ATCamera')\n",
    "#await ATCamera.start_task\n",
    "LinearStage1 = salobj.Remote(d, 'LinearStage',1)\n",
    "#await LinearStage1.start_task\n",
    "ATSpectrograph = salobj.Remote(d, 'ATSpectrograph')\n",
    "await asyncio.gather(ATArchiver.start_task, ATCamera.start_task, \n",
    "                     LinearStage1.start_task, ATSpectrograph.start_task)"
   ]
  },
  {
   "cell_type": "markdown",
   "metadata": {},
   "source": [
    "### Leave this cell for state transitions "
   ]
  },
  {
   "cell_type": "code",
   "execution_count": 66,
   "metadata": {},
   "outputs": [
    {
     "data": {
      "text/plain": [
       "<lsst.ts.salobj.ddsutil.LinearStage_logevent_heartbeat_f6be4fae at 0x7f2f8462b470>"
      ]
     },
     "execution_count": 66,
     "metadata": {},
     "output_type": "execute_result"
    }
   ],
   "source": [
    "await LinearStage1.evt_heartbeat.next(flush=True, timeout=5)"
   ]
  },
  {
   "cell_type": "code",
   "execution_count": 67,
   "metadata": {},
   "outputs": [
    {
     "data": {
      "text/plain": [
       "[<State.STANDBY: 5>, <State.DISABLED: 1>, <State.ENABLED: 2>]"
      ]
     },
     "execution_count": 67,
     "metadata": {},
     "output_type": "execute_result"
    }
   ],
   "source": [
    "await salobj.set_summary_state(LinearStage1, salobj.State.ENABLED)"
   ]
  },
  {
   "cell_type": "markdown",
   "metadata": {},
   "source": [
    "## Setup ATSpectograph"
   ]
  },
  {
   "cell_type": "code",
   "execution_count": 79,
   "metadata": {},
   "outputs": [
    {
     "name": "stderr",
     "output_type": "stream",
     "text": [
      "2019-11-13 22:34:15,126 ATSpectrograph INFO     Read historical data in 0.44 sec\n",
      "2019-11-13 22:34:15,371 ATCamera     INFO     Read historical data in 0.68 sec\n"
     ]
    },
    {
     "data": {
      "text/plain": [
       "[None, None]"
      ]
     },
     "execution_count": 79,
     "metadata": {},
     "output_type": "execute_result"
    }
   ],
   "source": [
    "from lsst.ts.standardscripts.auxtel.latiss import LATISS\n",
    "\n",
    "latiss = LATISS(salobj.Remote(domain=d, name=\"ATCamera\"), \n",
    "                salobj.Remote(domain=d, name=\"ATSpectrograph\"))\n",
    "\n",
    "await asyncio.gather(latiss.atcam.start_task, latiss.atspec.start_task)"
   ]
  },
  {
   "cell_type": "code",
   "execution_count": 87,
   "metadata": {},
   "outputs": [
    {
     "name": "stdout",
     "output_type": "stream",
     "text": [
      "filter names: empty_1,empty_2,disperser,empty_3\n",
      "grating names: empty,ronchi170lpmm,ronchi90lpmm,holo_etu1\n"
     ]
    }
   ],
   "source": [
    "tmp = latiss.atspec.evt_settingsApplied.get()\n",
    "print('filter names: {}'.format(tmp.filterNames))\n",
    "print('grating names: {}'.format(tmp.gratingNames))"
   ]
  },
  {
   "cell_type": "code",
   "execution_count": 88,
   "metadata": {},
   "outputs": [
    {
     "name": "stderr",
     "output_type": "stream",
     "text": [
      "2019-11-13 22:40:28,248 LinearStage  WARNING  RemoteEvent(LinearStage, 1, heartbeat) falling behind; read 100 messages\n",
      "2019-11-13 22:40:28,345 LinearStage  WARNING  RemoteEvent(LinearStage, 1, heartbeat) falling behind; read 100 messages\n",
      "2019-11-13 22:40:28,423 ATSpectrograph WARNING  RemoteEvent(ATSpectrograph, 0, logMessage) falling behind; read 100 messages\n",
      "2019-11-13 22:40:28,500 ATSpectrograph WARNING  RemoteEvent(ATSpectrograph, 0, logMessage) falling behind; read 100 messages\n",
      "2019-11-13 22:40:28,576 ATSpectrograph WARNING  RemoteEvent(ATSpectrograph, 0, logMessage) falling behind; read 100 messages\n",
      "2019-11-13 22:40:28,651 ATArchiver   WARNING  RemoteEvent(ATArchiver, 0, heartbeat) falling behind; read 100 messages\n",
      "2019-11-13 22:40:28,724 ATArchiver   WARNING  RemoteEvent(ATArchiver, 0, heartbeat) falling behind; read 100 messages\n",
      "2019-11-13 22:40:28,831 LinearStage  WARNING  RemoteTelemetry(LinearStage, 1, position) falling behind; read 100 messages\n",
      "2019-11-13 22:40:28,955 LinearStage  WARNING  RemoteTelemetry(LinearStage, 1, position) falling behind; read 100 messages\n",
      "2019-11-13 22:40:29,060 ATSpectrograph WARNING  RemoteEvent(ATSpectrograph, 0, heartbeat) falling behind; read 100 messages\n",
      "2019-11-13 22:40:29,137 ATSpectrograph WARNING  RemoteEvent(ATSpectrograph, 0, heartbeat) falling behind; read 100 messages\n",
      "2019-11-13 22:40:29,209 ATCamera     WARNING  RemoteTelemetry(ATCamera, 0, wreb) falling behind; read 13 messages\n",
      "2019-11-13 22:40:29,220 ATCamera     WARNING  RemoteTelemetry(ATCamera, 0, wreb) falling behind; read 13 messages\n",
      "2019-11-13 22:40:29,230 ATCamera     WARNING  RemoteTelemetry(ATCamera, 0, wreb) falling behind; read 13 messages\n",
      "2019-11-13 22:40:29,243 ATSpectrograph WARNING  RemoteEvent(ATSpectrograph, 0, heartbeat) falling behind; read 100 messages\n",
      "2019-11-13 22:40:29,341 ATCamera     WARNING  RemoteTelemetry(ATCamera, 0, vacuum) falling behind; read 13 messages\n",
      "2019-11-13 22:40:29,357 ATCamera     WARNING  RemoteTelemetry(ATCamera, 0, vacuum) falling behind; read 13 messages\n",
      "2019-11-13 22:40:29,367 ATCamera     WARNING  RemoteTelemetry(ATCamera, 0, vacuum) falling behind; read 13 messages\n"
     ]
    },
    {
     "data": {
      "text/plain": [
       "[<lsst.ts.salobj.ddsutil.ATSpectrograph_ackcmd_e56f40bd at 0x7f1ef04d8320>,\n",
       " <lsst.ts.salobj.ddsutil.ATSpectrograph_ackcmd_e56f40bd at 0x7f1e26901860>]"
      ]
     },
     "execution_count": 88,
     "metadata": {},
     "output_type": "execute_result"
    }
   ],
   "source": [
    "#await latiss.setup_atspec(filter='empty_1', grating='ronchi90lpmm')\n",
    "\n",
    "await latiss.setup_atspec(filter='empty_1', grating='empty')"
   ]
  },
  {
   "cell_type": "markdown",
   "metadata": {},
   "source": [
    "## Setup Monochromator"
   ]
  },
  {
   "cell_type": "code",
   "execution_count": 6,
   "metadata": {},
   "outputs": [],
   "source": [
    "wavelength = 455"
   ]
  },
  {
   "cell_type": "code",
   "execution_count": 7,
   "metadata": {},
   "outputs": [],
   "source": [
    "# ATMonochromator.cmd_changeWavelength.set(wavelength=wavelength)\n",
    "# try:\n",
    "#     asyncio.get_event_loop().run_until_complete(ATMonochromator.cmd_changeWavelength.start())\n",
    "# except AckError as ack_err:\n",
    "#     print(f\"Failed with ack.result={ack_err.ack.result}\")"
   ]
  },
  {
   "cell_type": "code",
   "execution_count": null,
   "metadata": {},
   "outputs": [],
   "source": []
  },
  {
   "cell_type": "code",
   "execution_count": 8,
   "metadata": {},
   "outputs": [],
   "source": [
    "#ATMonochromator.cmd_selectGrating.set(gratingType=0)\n",
    "#asyncio.get_event_loop().run_until_complete(ATMonochromator.cmd_selectGrating.start())"
   ]
  },
  {
   "cell_type": "code",
   "execution_count": 9,
   "metadata": {},
   "outputs": [],
   "source": [
    "#ATMonochromator.cmd_changeSlitWidth.set(slitWidth=0.2,\n",
    "#                          slit=SALPY_ATMonochromator.ATMonochromator_shared_Slit_FrontEntrance)\n",
    "#asyncio.get_event_loop().run_until_complete(ATMonochromator.cmd_changeSlitWidth.start())"
   ]
  },
  {
   "cell_type": "code",
   "execution_count": 10,
   "metadata": {},
   "outputs": [],
   "source": [
    "#ATMonochromator.cmd_changeSlitWidth.set(slitWidth=0.2,\n",
    "#                          slit=SALPY_ATMonochromator.ATMonochromator_shared_Slit_FrontExit)\n",
    "#asyncio.get_event_loop().run_until_complete(ATMonochromator.cmd_changeSlitWidth.start())"
   ]
  },
  {
   "cell_type": "markdown",
   "metadata": {},
   "source": [
    "## Setup the Linear Stage (focuser)"
   ]
  },
  {
   "cell_type": "code",
   "execution_count": 39,
   "metadata": {},
   "outputs": [
    {
     "name": "stdout",
     "output_type": "stream",
     "text": [
      "Current stage position is 28.0000 [mm]\n"
     ]
    }
   ],
   "source": [
    "pos=None\n",
    "pos=await LinearStage1.tel_position.next(flush=True, timeout=5)\n",
    "print('Current stage position is {:0.4f} [mm]'.format(pos.position))"
   ]
  },
  {
   "cell_type": "code",
   "execution_count": 36,
   "metadata": {},
   "outputs": [
    {
     "name": "stderr",
     "output_type": "stream",
     "text": [
      "2019-11-13 21:59:51,265 LinearStage  WARNING  RemoteTelemetry(LinearStage, 1, position) falling behind; read 44 messages\n",
      "2019-11-13 21:59:51,303 LinearStage  WARNING  RemoteTelemetry(LinearStage, 1, position) falling behind; read 44 messages\n",
      "2019-11-13 21:59:51,337 ATSpectrograph WARNING  RemoteEvent(ATSpectrograph, 0, heartbeat) falling behind; read 25 messages\n",
      "2019-11-13 21:59:51,356 ATSpectrograph WARNING  RemoteEvent(ATSpectrograph, 0, heartbeat) falling behind; read 25 messages\n",
      "2019-11-13 21:59:51,375 ATArchiver   WARNING  RemoteEvent(ATArchiver, 0, heartbeat) falling behind; read 24 messages\n",
      "2019-11-13 21:59:51,395 ATArchiver   WARNING  RemoteEvent(ATArchiver, 0, heartbeat) falling behind; read 24 messages\n",
      "2019-11-13 21:59:51,417 LinearStage  WARNING  RemoteEvent(LinearStage, 1, heartbeat) falling behind; read 24 messages\n",
      "2019-11-13 21:59:51,442 ATSpectrograph WARNING  RemoteEvent(ATSpectrograph, 0, logMessage) falling behind; read 69 messages\n",
      "2019-11-13 21:59:51,507 ATSpectrograph WARNING  RemoteEvent(ATSpectrograph, 0, logMessage) falling behind; read 69 messages\n",
      "2019-11-13 21:59:51,573 LinearStage  WARNING  RemoteEvent(LinearStage, 1, heartbeat) falling behind; read 24 messages\n"
     ]
    }
   ],
   "source": [
    "# Home the stage (only necessary if power was off)\n",
    "if True:\n",
    "    await LinearStage1.cmd_getHome.start()\n",
    "else:\n",
    "    print('Ignoring')"
   ]
  },
  {
   "cell_type": "code",
   "execution_count": 100,
   "metadata": {},
   "outputs": [
    {
     "name": "stderr",
     "output_type": "stream",
     "text": [
      "2019-11-14 18:04:12,987 ATSpectrograph WARNING  RemoteEvent(ATSpectrograph, 0, logMessage) falling behind; read 100 messages\n",
      "2019-11-14 18:04:13,065 LinearStage  WARNING  RemoteTelemetry(LinearStage, 1, position) falling behind; read 100 messages\n",
      "2019-11-14 18:04:13,145 ATArchiver   WARNING  RemoteEvent(ATArchiver, 0, heartbeat) falling behind; read 78 messages\n",
      "2019-11-14 18:04:13,211 LinearStage  WARNING  RemoteEvent(LinearStage, 1, heartbeat) falling behind; read 77 messages\n",
      "2019-11-14 18:04:13,270 ATSpectrograph WARNING  RemoteEvent(ATSpectrograph, 0, heartbeat) falling behind; read 79 messages\n"
     ]
    },
    {
     "data": {
      "text/plain": [
       "<lsst.ts.salobj.ddsutil.LinearStage_ackcmd_b0b7ad03 at 0x7f2f7d7deb00>"
      ]
     },
     "execution_count": 100,
     "metadata": {},
     "output_type": "execute_result"
    }
   ],
   "source": [
    "# Move the stage\n",
    "lin_stage_pos=28.62-18.8\n",
    "lin_stage_pos=28.62-20.5\n",
    "lin_stage_pos = 30.0+2 -2 + 4\n",
    "await LinearStage1.cmd_moveAbsolute.set_start(distance=lin_stage_pos)\n"
   ]
  },
  {
   "cell_type": "code",
   "execution_count": 100,
   "metadata": {},
   "outputs": [
    {
     "name": "stdout",
     "output_type": "stream",
     "text": [
      "[21.62 23.62 25.62 27.62 29.62 31.62 33.62 35.62]\n"
     ]
    }
   ],
   "source": [
    "wavelength=455\n",
    "# 33 is best focus for 0th order for grating and no filter (632nm)\n",
    "# 33.85 best forcus for 0th order for no grating and no filter (632nm)\n",
    "\n",
    "# 27.0 is best focus for 0th order for grating and no filter (632nm)\n",
    "\n",
    "focus_center=28.62\n",
    "dx=7.\n",
    "step=2.0\n",
    "focus_demands = np.arange(focus_center-dx, focus_center+dx, step)\n",
    "#focus_vals = np.arange(68.4, 71.3, 0.3) - coarse\n",
    "print(focus_demands)"
   ]
  },
  {
   "cell_type": "code",
   "execution_count": 101,
   "metadata": {},
   "outputs": [
    {
     "name": "stderr",
     "output_type": "stream",
     "text": [
      "2019-11-13 22:46:10,291 ATSpectrograph WARNING  RemoteEvent(ATSpectrograph, 0, logMessage) falling behind; read 100 messages\n",
      "2019-11-13 22:46:10,371 ATSpectrograph WARNING  RemoteEvent(ATSpectrograph, 0, logMessage) falling behind; read 100 messages\n",
      "2019-11-13 22:46:10,444 ATCamera     WARNING  RemoteTelemetry(ATCamera, 0, wrebPower) falling behind; read 17 messages\n"
     ]
    },
    {
     "name": "stdout",
     "output_type": "stream",
     "text": [
      "Setting focus of 21.62 [mm]\n"
     ]
    },
    {
     "name": "stderr",
     "output_type": "stream",
     "text": [
      "2019-11-13 22:46:10,529 ATSpectrograph WARNING  RemoteEvent(ATSpectrograph, 0, logMessage) falling behind; read 100 messages\n",
      "2019-11-13 22:46:10,864 ATCamera     WARNING  RemoteTelemetry(ATCamera, 0, wreb) falling behind; read 17 messages\n",
      "2019-11-13 22:46:10,940 LinearStage  WARNING  RemoteEvent(LinearStage, 1, heartbeat) falling behind; read 100 messages\n",
      "2019-11-13 22:46:11,086 ATCamera     WARNING  RemoteTelemetry(ATCamera, 0, wrebPower) falling behind; read 17 messages\n",
      "2019-11-13 22:46:11,105 ATCamera     WARNING  RemoteTelemetry(ATCamera, 0, wrebPower) falling behind; read 17 messages\n",
      "2019-11-13 22:46:11,120 ATCamera     WARNING  RemoteTelemetry(ATCamera, 0, vacuum) falling behind; read 17 messages\n",
      "2019-11-13 22:46:11,134 LinearStage  WARNING  RemoteEvent(LinearStage, 1, heartbeat) falling behind; read 100 messages\n",
      "2019-11-13 22:46:11,209 ATCamera     WARNING  RemoteTelemetry(ATCamera, 0, wreb) falling behind; read 17 messages\n",
      "2019-11-13 22:46:11,223 ATCamera     WARNING  RemoteTelemetry(ATCamera, 0, wreb) falling behind; read 17 messages\n",
      "2019-11-13 22:46:11,239 ATCamera     WARNING  RemoteTelemetry(ATCamera, 0, vacuum) falling behind; read 17 messages\n",
      "2019-11-13 22:46:11,257 ATCamera     WARNING  RemoteTelemetry(ATCamera, 0, vacuum) falling behind; read 17 messages\n"
     ]
    },
    {
     "name": "stdout",
     "output_type": "stream",
     "text": [
      "ACCS Wrote file AT_O_20191113_000069\n",
      "Setting focus of 23.62 [mm]\n",
      "ACCS Wrote file AT_O_20191113_000070\n",
      "Setting focus of 25.62 [mm]\n",
      "ACCS Wrote file AT_O_20191113_000071\n",
      "Setting focus of 27.62 [mm]\n",
      "ACCS Wrote file AT_O_20191113_000072\n",
      "Setting focus of 29.62 [mm]\n",
      "ACCS Wrote file AT_O_20191113_000073\n",
      "Setting focus of 31.62 [mm]\n",
      "ACCS Wrote file AT_O_20191113_000074\n",
      "Setting focus of 33.620000000000005 [mm]\n",
      "ACCS Wrote file AT_O_20191113_000075\n",
      "Setting focus of 35.620000000000005 [mm]\n",
      "ACCS Wrote file AT_O_20191113_000076\n"
     ]
    }
   ],
   "source": [
    "image_list=[]\n",
    "focus_vals=np.empty(len(focus_demands))\n",
    "for i,lin_stage_pos in enumerate(focus_demands):\n",
    "    print('Setting focus of {} [mm]'.format(lin_stage_pos))\n",
    "    \n",
    "    # Move focus stage\n",
    "    await LinearStage1.cmd_moveAbsolute.set_start(distance=lin_stage_pos)\n",
    "    \n",
    "    focus_vals[i]=(await LinearStage1.tel_position.next(flush=True, timeout=5)).position\n",
    "    #print('Linear stage demand {}, actual {}:'.format(lin_stage_pos, focus_vals[i]))\n",
    "    #assert lin_stage_pos == focus_vals[i], \"Linear stage commanded {} versus actual {} positions are not consistent\".format(lin_stage_pos, focus_vals[i])\n",
    "    \n",
    "    # Take image\n",
    "    group_id='wave,Focus,'+str(wavelength)+','+str(lin_stage_pos)+'PH=5um'\n",
    "    expTime=0.5\n",
    "    \n",
    "    # flush event cache\n",
    "    ATCamera.evt_endReadout.flush()\n",
    "    if accs_images == False:\n",
    "        ATArchiver.evt_processingStatus.flush() \n",
    "    \n",
    "    await ATCamera.cmd_takeImages.set_start(expTime=expTime, shutter=1, numImages=1, \n",
    "                                imageType='OBJECT', groupId=group_id)\n",
    "    endReadout = await ATCamera.evt_endReadout.next(flush=False, timeout=10)\n",
    "    \n",
    "    print('ACCS Wrote file {}'.format(endReadout.imageName) )\n",
    "    \n",
    "#     if accs_images == False:\n",
    "#         # wait for Archiver\n",
    "#         processingStatus = await ATArchiver.evt_processingStatus.next(flush=False, timeout=30)\n",
    "#         print(processingStatus.description)\n",
    "    \n",
    "    image_list.append(endReadout.imageName)"
   ]
  },
  {
   "cell_type": "code",
   "execution_count": null,
   "metadata": {},
   "outputs": [],
   "source": []
  },
  {
   "cell_type": "code",
   "execution_count": 102,
   "metadata": {},
   "outputs": [
    {
     "name": "stdout",
     "output_type": "stream",
     "text": [
      "AT_O_20191113_000069, 21.62\n",
      "AT_O_20191113_000070, 23.62\n",
      "AT_O_20191113_000071, 25.62\n",
      "AT_O_20191113_000072, 27.62\n",
      "AT_O_20191113_000073, 29.62\n",
      "AT_O_20191113_000074, 31.62\n",
      "AT_O_20191113_000075, 33.62\n",
      "AT_O_20191113_000076, 35.62\n"
     ]
    }
   ],
   "source": [
    "for index, img in enumerate(image_list):\n",
    "    print('{}, {:0.2f}'.format(img, focus_vals[index]))"
   ]
  },
  {
   "cell_type": "code",
   "execution_count": null,
   "metadata": {},
   "outputs": [],
   "source": []
  },
  {
   "cell_type": "code",
   "execution_count": 103,
   "metadata": {},
   "outputs": [],
   "source": [
    "import importlib\n",
    "import utils.processExposure \n",
    "importlib.reload(utils.processExposure)\n",
    "from utils.processExposure import processExposure\n",
    "\n",
    "\n",
    "import utils.grabATImage \n",
    "importlib.reload(utils.grabATImage)\n",
    "from utils.grabATImage import grabATImage"
   ]
  },
  {
   "cell_type": "code",
   "execution_count": 104,
   "metadata": {},
   "outputs": [],
   "source": [
    "# # parse out visitID from filename - this is highly annoying\n",
    "# tmp=endReadout.imageName.split('_')\n",
    "# prefix=tmp[2] # dayobs without the dashes\n",
    "\n",
    "# # Don't remember why I used int here... whitespace? \n",
    "# # surely fixable but bigger fish.\n",
    "# suffix='{:05d}'.format(int(tmp[3].split('-')[0])) # SEQNUM, but need to trim extra 0 in obsid\n",
    "# visitID = int((prefix+suffix))\n",
    "# dataId1 = {'visit': visitID}\n",
    "# print(visitID)\n",
    "\n",
    "# # Grab image from butler, but need to wait to ingestion so use this polling function\n",
    "# exposure = await grabATImage(visitID, repo, timeout = 40, poll_freq_hz=2)\n",
    "\n",
    "# # do ISR correction\n",
    "# isr_corr_exposure = processExposure(exposure, repo=repo)"
   ]
  },
  {
   "cell_type": "code",
   "execution_count": 105,
   "metadata": {},
   "outputs": [],
   "source": [
    "# Only here for me to debug, should be up top with other declarations\n",
    "import importlib\n",
    "import utils.findNarrowbandRonchiPeaks\n",
    "importlib.reload(utils.findNarrowbandRonchiPeaks)\n",
    "from utils.findNarrowbandRonchiPeaks import findNarrowbandRonchiPeaks\n",
    "\n",
    "import utils.fitExposure\n",
    "importlib.reload(utils.fitExposure)\n",
    "from utils.fitExposure import fit2DGaussian\n",
    "\n",
    "import utils.calc_CofM\n",
    "importlib.reload(utils.calc_CofM)\n",
    "from utils.calc_CofM import calc_CofM\n",
    "\n",
    "import utils.calc_encircled_energy\n",
    "importlib.reload(utils.calc_encircled_energy)\n",
    "from utils.calc_encircled_energy import calc_encircled_energy"
   ]
  },
  {
   "cell_type": "code",
   "execution_count": 106,
   "metadata": {},
   "outputs": [],
   "source": [
    "# Source detection libraries\n",
    "from lsst.meas.algorithms.detection import SourceDetectionTask\n",
    "import lsst.afw.table as afwTable\n",
    "\n",
    "# create the output table for source detection\n",
    "schema = afwTable.SourceTable.makeMinimalSchema()\n",
    "config = SourceDetectionTask.ConfigClass()\n",
    "config.thresholdValue = 10  # detection threshold after smoothing\n",
    "sourceDetectionTask = SourceDetectionTask(schema=schema, config=config)"
   ]
  },
  {
   "cell_type": "code",
   "execution_count": 107,
   "metadata": {},
   "outputs": [
    {
     "name": "stderr",
     "output_type": "stream",
     "text": [
      "2019-11-13 22:47:46,578 CameraMapper INFO     Loading exposure registry from /home/saluser/ingest/accs/registry.sqlite3\n",
      "2019-11-13 22:47:46,579 CameraMapper INFO     Loading calib registry from /home/saluser/ingest/accs/CALIB/calibRegistry.sqlite3\n"
     ]
    },
    {
     "name": "stdout",
     "output_type": "stream",
     "text": [
      "Processing file 0 of 8, filename=AT_O_20191113_000069, focus=21.6200008392334\n"
     ]
    },
    {
     "name": "stderr",
     "output_type": "stream",
     "text": [
      "2019-11-13 22:47:47,512 LsstCamAssembler WARNING  DataId(initialdata={'visit': 2019111300069}, tag=set()): amp.getRawBBox() != data.getBBox(); patching. ((minimum=(0, 0), maximum=(543, 2047)) v. (minimum=(0, 0), maximum=(575, 2047)))\n",
      "2019-11-13 22:47:47,697 lsst.obs.lsst.translators.latiss WARNING  Explicit dark time not found, setting dark time to the exposure time.\n",
      "2019-11-13 22:47:47,700 LsstCamAssembler WARNING  argDict[boresightAirmass] is None; stripping\n",
      "2019-11-13 22:47:47,701 LsstCamMapper WARNING  Unable to set WCS for DataId(initialdata={'visit': 2019111300069}, tag=set()) from header as RA/Dec/Angle are unavailable\n",
      "2019-11-13 22:47:47,701 CameraMapper WARNING  Cannot create SkyWcs using VisitInfo and Detector, using metadata-based SkyWcs: Cannot create SkyWcs from camera geometry: rotator angle defined using RotType=RotType.UNKNOWN instead of SKY.\n",
      "2019-11-13 22:47:47,772 CameraMapper INFO     Loading exposure registry from /home/saluser/ingest/accs/registry.sqlite3\n",
      "2019-11-13 22:47:47,773 CameraMapper INFO     Loading calib registry from /home/saluser/ingest/accs/CALIB/calibRegistry.sqlite3\n"
     ]
    },
    {
     "name": "stdout",
     "output_type": "stream",
     "text": [
      "Exposure retrieved after waiting 1.19 [s]\n"
     ]
    },
    {
     "name": "stderr",
     "output_type": "stream",
     "text": [
      "2019-11-13 22:47:49,007 CameraMapper WARNING  Cannot create SkyWcs using VisitInfo and Detector, using metadata-based SkyWcs: Cannot create SkyWcs from camera geometry: rotator angle defined using RotType=RotType.UNKNOWN instead of SKY.\n",
      "/opt/lsst/software/stack/stack/miniconda3-4.5.12-4d7b902/Linux64/pex_config/18.1.0-5-gc286bb7+4/python/lsst/pex/config/config.py:1279: FutureWarning: Config field doAddDistortionModel is deprecated: Camera geometry is incorporated when reading the raw files. This option no longer is used, and will be removed after v19.\n",
      "  FutureWarning)\n",
      "2019-11-13 22:47:49,010 isr          INFO     Converting exposure to floating point values.\n",
      "2019-11-13 22:47:49,293 isr          INFO     Assembling CCD from amplifiers.\n",
      "2019-11-13 22:47:49,418 isr          WARNING  No WCS found in input exposure.\n",
      "2019-11-13 22:47:49,419 isr          INFO     Applying bias correction.\n",
      "2019-11-13 22:47:49,920 isr          INFO     Masking NAN value pixels.\n",
      "2019-11-13 22:47:49,948 isr          INFO     Widening saturation trails.\n",
      "2019-11-13 22:47:50,403 isr          INFO     Interpolating masked pixels.\n",
      "2019-11-13 22:47:51,034 isr          WARNING  No rough magnitude zero point set for filter NONE.\n",
      "2019-11-13 22:47:51,035 isr          INFO     Setting rough magnitude zero point: 27.247425\n"
     ]
    },
    {
     "name": "stdout",
     "output_type": "stream",
     "text": [
      "Time to perform image ISR was 2.026527 [s]\n"
     ]
    },
    {
     "name": "stderr",
     "output_type": "stream",
     "text": [
      "2019-11-13 22:47:51,436 sourceDetection INFO     Detected 1 positive peaks in 1 footprints and 0 negative peaks in 0 footprints to 10 sigma\n",
      "2019-11-13 22:47:51,436 sourceDetection.background WARNING  Too few points in grid to constrain fit: min(nx, ny) < approxOrder) [min(4, 32) < 6]\n",
      "2019-11-13 22:47:51,437 sourceDetection.background WARNING  Reducing approxOrder to 3\n",
      "2019-11-13 22:47:51,494 sourceDetection INFO     Resubtracting the background after object detection\n",
      "2019-11-13 22:47:51,508 findNarrowbandRonchiPeak_logger INFO     Zeroth order peak is at 2097, 2254\n",
      "2019-11-13 22:47:51,509 findNarrowbandRonchiPeak_logger INFO     Dispersion set to None, returning only center source\n",
      "2019-11-13 22:47:51,558 calc_CofM_logger INFO     x_CofM is 2096.913670810609\n",
      "2019-11-13 22:47:51,558 calc_CofM_logger INFO     y_CofM is 2253.2868685219455\n",
      "2019-11-13 22:47:51,559 calc_encirlced_energy_logger INFO     x_CofM is 2096.913670810609\n",
      "2019-11-13 22:47:51,559 calc_encirlced_energy_logger INFO     y_CofM is 2253.2868685219455\n"
     ]
    },
    {
     "name": "stdout",
     "output_type": "stream",
     "text": [
      "<Gaussian2D(amplitude=4618.2689807, x_mean=2096.86494074, y_mean=2253.69367843, x_stddev=4.15353565, y_stddev=3.83399677, theta=0.)>\n"
     ]
    },
    {
     "name": "stderr",
     "output_type": "stream",
     "text": [
      "2019-11-13 22:47:51,902 calc_encirlced_energy_logger INFO     EE radius at 50%, 67% and 80% is [6.767, 9.854, 13.022] pixels\n",
      "2019-11-13 22:47:51,974 CameraMapper INFO     Loading exposure registry from /home/saluser/ingest/accs/registry.sqlite3\n",
      "2019-11-13 22:47:51,975 CameraMapper INFO     Loading calib registry from /home/saluser/ingest/accs/CALIB/calibRegistry.sqlite3\n"
     ]
    },
    {
     "name": "stdout",
     "output_type": "stream",
     "text": [
      "Processing file 1 of 8, filename=AT_O_20191113_000070, focus=23.6200008392334\n"
     ]
    },
    {
     "name": "stderr",
     "output_type": "stream",
     "text": [
      "2019-11-13 22:47:52,979 LsstCamAssembler WARNING  DataId(initialdata={'visit': 2019111300070}, tag=set()): amp.getRawBBox() != data.getBBox(); patching. ((minimum=(0, 0), maximum=(543, 2047)) v. (minimum=(0, 0), maximum=(575, 2047)))\n",
      "2019-11-13 22:47:53,180 lsst.obs.lsst.translators.latiss WARNING  Explicit dark time not found, setting dark time to the exposure time.\n",
      "2019-11-13 22:47:53,183 LsstCamAssembler WARNING  argDict[boresightAirmass] is None; stripping\n",
      "2019-11-13 22:47:53,184 LsstCamMapper WARNING  Unable to set WCS for DataId(initialdata={'visit': 2019111300070}, tag=set()) from header as RA/Dec/Angle are unavailable\n",
      "2019-11-13 22:47:53,184 CameraMapper WARNING  Cannot create SkyWcs using VisitInfo and Detector, using metadata-based SkyWcs: Cannot create SkyWcs from camera geometry: rotator angle defined using RotType=RotType.UNKNOWN instead of SKY.\n"
     ]
    },
    {
     "name": "stdout",
     "output_type": "stream",
     "text": [
      "Exposure retrieved after waiting 1.28 [s]\n"
     ]
    },
    {
     "name": "stderr",
     "output_type": "stream",
     "text": [
      "2019-11-13 22:47:53,424 CameraMapper INFO     Loading exposure registry from /home/saluser/ingest/accs/registry.sqlite3\n",
      "2019-11-13 22:47:53,425 CameraMapper INFO     Loading calib registry from /home/saluser/ingest/accs/CALIB/calibRegistry.sqlite3\n",
      "2019-11-13 22:47:54,601 CameraMapper WARNING  Cannot create SkyWcs using VisitInfo and Detector, using metadata-based SkyWcs: Cannot create SkyWcs from camera geometry: rotator angle defined using RotType=RotType.UNKNOWN instead of SKY.\n",
      "/opt/lsst/software/stack/stack/miniconda3-4.5.12-4d7b902/Linux64/pex_config/18.1.0-5-gc286bb7+4/python/lsst/pex/config/config.py:1279: FutureWarning: Config field doAddDistortionModel is deprecated: Camera geometry is incorporated when reading the raw files. This option no longer is used, and will be removed after v19.\n",
      "  FutureWarning)\n",
      "2019-11-13 22:47:54,602 isr          INFO     Converting exposure to floating point values.\n",
      "2019-11-13 22:47:54,885 isr          INFO     Assembling CCD from amplifiers.\n",
      "2019-11-13 22:47:55,008 isr          WARNING  No WCS found in input exposure.\n",
      "2019-11-13 22:47:55,009 isr          INFO     Applying bias correction.\n",
      "2019-11-13 22:47:55,516 isr          INFO     Masking NAN value pixels.\n",
      "2019-11-13 22:47:55,541 isr          INFO     Widening saturation trails.\n",
      "2019-11-13 22:47:55,986 isr          INFO     Interpolating masked pixels.\n",
      "2019-11-13 22:47:56,624 isr          WARNING  No rough magnitude zero point set for filter NONE.\n",
      "2019-11-13 22:47:56,625 isr          INFO     Setting rough magnitude zero point: 27.247425\n"
     ]
    },
    {
     "name": "stdout",
     "output_type": "stream",
     "text": [
      "Time to perform image ISR was 2.023604 [s]\n"
     ]
    },
    {
     "name": "stderr",
     "output_type": "stream",
     "text": [
      "2019-11-13 22:47:57,013 sourceDetection INFO     Detected 1 positive peaks in 1 footprints and 0 negative peaks in 0 footprints to 10 sigma\n",
      "2019-11-13 22:47:57,014 sourceDetection.background WARNING  Too few points in grid to constrain fit: min(nx, ny) < approxOrder) [min(4, 32) < 6]\n",
      "2019-11-13 22:47:57,015 sourceDetection.background WARNING  Reducing approxOrder to 3\n",
      "2019-11-13 22:47:57,070 sourceDetection INFO     Resubtracting the background after object detection\n",
      "2019-11-13 22:47:57,085 findNarrowbandRonchiPeak_logger INFO     Zeroth order peak is at 2102, 2253\n",
      "2019-11-13 22:47:57,085 findNarrowbandRonchiPeak_logger INFO     Dispersion set to None, returning only center source\n",
      "2019-11-13 22:47:57,139 calc_CofM_logger INFO     x_CofM is 2101.613128439135\n",
      "2019-11-13 22:47:57,140 calc_CofM_logger INFO     y_CofM is 2252.3328170481473\n",
      "2019-11-13 22:47:57,141 calc_encirlced_energy_logger INFO     x_CofM is 2101.613128439135\n",
      "2019-11-13 22:47:57,141 calc_encirlced_energy_logger INFO     y_CofM is 2252.3328170481473\n"
     ]
    },
    {
     "name": "stdout",
     "output_type": "stream",
     "text": [
      "<Gaussian2D(amplitude=10703.91170512, x_mean=2101.64092713, y_mean=2252.74040587, x_stddev=2.53375689, y_stddev=2.27644132, theta=0.)>\n"
     ]
    },
    {
     "name": "stderr",
     "output_type": "stream",
     "text": [
      "2019-11-13 22:47:57,490 calc_encirlced_energy_logger INFO     EE radius at 50%, 67% and 80% is [3.642, 5.734, 7.963] pixels\n",
      "2019-11-13 22:47:57,556 CameraMapper INFO     Loading exposure registry from /home/saluser/ingest/accs/registry.sqlite3\n",
      "2019-11-13 22:47:57,557 CameraMapper INFO     Loading calib registry from /home/saluser/ingest/accs/CALIB/calibRegistry.sqlite3\n"
     ]
    },
    {
     "name": "stdout",
     "output_type": "stream",
     "text": [
      "Processing file 2 of 8, filename=AT_O_20191113_000071, focus=25.6200008392334\n"
     ]
    },
    {
     "name": "stderr",
     "output_type": "stream",
     "text": [
      "2019-11-13 22:47:58,502 LsstCamAssembler WARNING  DataId(initialdata={'visit': 2019111300071}, tag=set()): amp.getRawBBox() != data.getBBox(); patching. ((minimum=(0, 0), maximum=(543, 2047)) v. (minimum=(0, 0), maximum=(575, 2047)))\n",
      "2019-11-13 22:47:58,674 lsst.obs.lsst.translators.latiss WARNING  Explicit dark time not found, setting dark time to the exposure time.\n",
      "2019-11-13 22:47:58,677 LsstCamAssembler WARNING  argDict[boresightAirmass] is None; stripping\n",
      "2019-11-13 22:47:58,678 LsstCamMapper WARNING  Unable to set WCS for DataId(initialdata={'visit': 2019111300071}, tag=set()) from header as RA/Dec/Angle are unavailable\n",
      "2019-11-13 22:47:58,678 CameraMapper WARNING  Cannot create SkyWcs using VisitInfo and Detector, using metadata-based SkyWcs: Cannot create SkyWcs from camera geometry: rotator angle defined using RotType=RotType.UNKNOWN instead of SKY.\n",
      "2019-11-13 22:47:58,770 CameraMapper INFO     Loading exposure registry from /home/saluser/ingest/accs/registry.sqlite3\n",
      "2019-11-13 22:47:58,771 CameraMapper INFO     Loading calib registry from /home/saluser/ingest/accs/CALIB/calibRegistry.sqlite3\n"
     ]
    },
    {
     "name": "stdout",
     "output_type": "stream",
     "text": [
      "Exposure retrieved after waiting 1.19 [s]\n"
     ]
    },
    {
     "name": "stderr",
     "output_type": "stream",
     "text": [
      "2019-11-13 22:47:59,956 CameraMapper WARNING  Cannot create SkyWcs using VisitInfo and Detector, using metadata-based SkyWcs: Cannot create SkyWcs from camera geometry: rotator angle defined using RotType=RotType.UNKNOWN instead of SKY.\n",
      "/opt/lsst/software/stack/stack/miniconda3-4.5.12-4d7b902/Linux64/pex_config/18.1.0-5-gc286bb7+4/python/lsst/pex/config/config.py:1279: FutureWarning: Config field doAddDistortionModel is deprecated: Camera geometry is incorporated when reading the raw files. This option no longer is used, and will be removed after v19.\n",
      "  FutureWarning)\n",
      "2019-11-13 22:47:59,958 isr          INFO     Converting exposure to floating point values.\n",
      "2019-11-13 22:48:00,242 isr          INFO     Assembling CCD from amplifiers.\n",
      "2019-11-13 22:48:00,369 isr          WARNING  No WCS found in input exposure.\n",
      "2019-11-13 22:48:00,369 isr          INFO     Applying bias correction.\n",
      "2019-11-13 22:48:00,848 isr          INFO     Masking NAN value pixels.\n",
      "2019-11-13 22:48:00,870 isr          INFO     Widening saturation trails.\n",
      "2019-11-13 22:48:01,388 isr          INFO     Interpolating masked pixels.\n",
      "2019-11-13 22:48:02,007 isr          WARNING  No rough magnitude zero point set for filter NONE.\n",
      "2019-11-13 22:48:02,007 isr          INFO     Setting rough magnitude zero point: 27.247425\n"
     ]
    },
    {
     "name": "stdout",
     "output_type": "stream",
     "text": [
      "Time to perform image ISR was 2.050370 [s]\n"
     ]
    },
    {
     "name": "stderr",
     "output_type": "stream",
     "text": [
      "2019-11-13 22:48:02,421 sourceDetection INFO     Detected 1 positive peaks in 1 footprints and 0 negative peaks in 0 footprints to 10 sigma\n",
      "2019-11-13 22:48:02,422 sourceDetection.background WARNING  Too few points in grid to constrain fit: min(nx, ny) < approxOrder) [min(4, 32) < 6]\n",
      "2019-11-13 22:48:02,422 sourceDetection.background WARNING  Reducing approxOrder to 3\n",
      "2019-11-13 22:48:02,477 sourceDetection INFO     Resubtracting the background after object detection\n",
      "2019-11-13 22:48:02,493 findNarrowbandRonchiPeak_logger INFO     Zeroth order peak is at 2101, 2250\n",
      "2019-11-13 22:48:02,494 findNarrowbandRonchiPeak_logger INFO     Dispersion set to None, returning only center source\n",
      "2019-11-13 22:48:02,550 calc_CofM_logger INFO     x_CofM is 2100.6007032329408\n",
      "2019-11-13 22:48:02,551 calc_CofM_logger INFO     y_CofM is 2249.584203450144\n",
      "2019-11-13 22:48:02,552 calc_encirlced_energy_logger INFO     x_CofM is 2100.6007032329408\n",
      "2019-11-13 22:48:02,553 calc_encirlced_energy_logger INFO     y_CofM is 2249.584203450144\n"
     ]
    },
    {
     "name": "stdout",
     "output_type": "stream",
     "text": [
      "<Gaussian2D(amplitude=26172.40450778, x_mean=2100.67816284, y_mean=2249.94200433, x_stddev=1.5723524, y_stddev=1.45835353, theta=0.)>\n"
     ]
    },
    {
     "name": "stderr",
     "output_type": "stream",
     "text": [
      "2019-11-13 22:48:02,904 calc_encirlced_energy_logger INFO     EE radius at 50%, 67% and 80% is [1.666, 2.789, 4.296] pixels\n",
      "2019-11-13 22:48:02,970 CameraMapper INFO     Loading exposure registry from /home/saluser/ingest/accs/registry.sqlite3\n",
      "2019-11-13 22:48:02,972 CameraMapper INFO     Loading calib registry from /home/saluser/ingest/accs/CALIB/calibRegistry.sqlite3\n"
     ]
    },
    {
     "name": "stdout",
     "output_type": "stream",
     "text": [
      "Processing file 3 of 8, filename=AT_O_20191113_000072, focus=27.6200008392334\n"
     ]
    },
    {
     "name": "stderr",
     "output_type": "stream",
     "text": [
      "2019-11-13 22:48:03,882 LsstCamAssembler WARNING  DataId(initialdata={'visit': 2019111300072}, tag=set()): amp.getRawBBox() != data.getBBox(); patching. ((minimum=(0, 0), maximum=(543, 2047)) v. (minimum=(0, 0), maximum=(575, 2047)))\n",
      "2019-11-13 22:48:04,057 lsst.obs.lsst.translators.latiss WARNING  Explicit dark time not found, setting dark time to the exposure time.\n",
      "2019-11-13 22:48:04,061 LsstCamAssembler WARNING  argDict[boresightAirmass] is None; stripping\n",
      "2019-11-13 22:48:04,062 LsstCamMapper WARNING  Unable to set WCS for DataId(initialdata={'visit': 2019111300072}, tag=set()) from header as RA/Dec/Angle are unavailable\n",
      "2019-11-13 22:48:04,064 CameraMapper WARNING  Cannot create SkyWcs using VisitInfo and Detector, using metadata-based SkyWcs: Cannot create SkyWcs from camera geometry: rotator angle defined using RotType=RotType.UNKNOWN instead of SKY.\n",
      "2019-11-13 22:48:04,156 CameraMapper INFO     Loading exposure registry from /home/saluser/ingest/accs/registry.sqlite3\n",
      "2019-11-13 22:48:04,157 CameraMapper INFO     Loading calib registry from /home/saluser/ingest/accs/CALIB/calibRegistry.sqlite3\n"
     ]
    },
    {
     "name": "stdout",
     "output_type": "stream",
     "text": [
      "Exposure retrieved after waiting 1.16 [s]\n"
     ]
    },
    {
     "name": "stderr",
     "output_type": "stream",
     "text": [
      "2019-11-13 22:48:05,447 CameraMapper WARNING  Cannot create SkyWcs using VisitInfo and Detector, using metadata-based SkyWcs: Cannot create SkyWcs from camera geometry: rotator angle defined using RotType=RotType.UNKNOWN instead of SKY.\n",
      "/opt/lsst/software/stack/stack/miniconda3-4.5.12-4d7b902/Linux64/pex_config/18.1.0-5-gc286bb7+4/python/lsst/pex/config/config.py:1279: FutureWarning: Config field doAddDistortionModel is deprecated: Camera geometry is incorporated when reading the raw files. This option no longer is used, and will be removed after v19.\n",
      "  FutureWarning)\n",
      "2019-11-13 22:48:05,449 isr          INFO     Converting exposure to floating point values.\n",
      "2019-11-13 22:48:05,729 isr          INFO     Assembling CCD from amplifiers.\n",
      "2019-11-13 22:48:05,853 isr          WARNING  No WCS found in input exposure.\n",
      "2019-11-13 22:48:05,853 isr          INFO     Applying bias correction.\n",
      "2019-11-13 22:48:06,348 isr          INFO     Masking NAN value pixels.\n",
      "2019-11-13 22:48:06,370 isr          INFO     Widening saturation trails.\n",
      "2019-11-13 22:48:06,836 isr          INFO     Interpolating masked pixels.\n",
      "2019-11-13 22:48:07,447 isr          WARNING  No rough magnitude zero point set for filter NONE.\n",
      "2019-11-13 22:48:07,448 isr          INFO     Setting rough magnitude zero point: 27.247425\n",
      "2019-11-13 22:48:07,851 sourceDetection INFO     Detected 1 positive peaks in 1 footprints and 0 negative peaks in 0 footprints to 10 sigma\n",
      "2019-11-13 22:48:07,852 sourceDetection.background WARNING  Too few points in grid to constrain fit: min(nx, ny) < approxOrder) [min(4, 32) < 6]\n",
      "2019-11-13 22:48:07,852 sourceDetection.background WARNING  Reducing approxOrder to 3\n",
      "2019-11-13 22:48:07,909 sourceDetection INFO     Resubtracting the background after object detection\n",
      "2019-11-13 22:48:07,923 findNarrowbandRonchiPeak_logger INFO     Zeroth order peak is at 2101, 2248\n",
      "2019-11-13 22:48:07,924 findNarrowbandRonchiPeak_logger INFO     Dispersion set to None, returning only center source\n",
      "2019-11-13 22:48:07,970 calc_CofM_logger INFO     x_CofM is 2101.3906440530673\n",
      "2019-11-13 22:48:07,970 calc_CofM_logger INFO     y_CofM is 2247.775349192538\n",
      "2019-11-13 22:48:07,971 calc_encirlced_energy_logger INFO     x_CofM is 2101.3906440530673\n",
      "2019-11-13 22:48:07,971 calc_encirlced_energy_logger INFO     y_CofM is 2247.775349192538\n"
     ]
    },
    {
     "name": "stdout",
     "output_type": "stream",
     "text": [
      "Time to perform image ISR was 1.999656 [s]\n",
      "<Gaussian2D(amplitude=51027.85231125, x_mean=2101.41459654, y_mean=2248.0780337, x_stddev=1.17382366, y_stddev=1.14875694, theta=0.)>\n"
     ]
    },
    {
     "name": "stderr",
     "output_type": "stream",
     "text": [
      "2019-11-13 22:48:08,319 calc_encirlced_energy_logger INFO     EE radius at 50%, 67% and 80% is [1.890, 3.279, 5.431] pixels\n",
      "2019-11-13 22:48:08,392 CameraMapper INFO     Loading exposure registry from /home/saluser/ingest/accs/registry.sqlite3\n",
      "2019-11-13 22:48:08,393 CameraMapper INFO     Loading calib registry from /home/saluser/ingest/accs/CALIB/calibRegistry.sqlite3\n"
     ]
    },
    {
     "name": "stdout",
     "output_type": "stream",
     "text": [
      "Processing file 4 of 8, filename=AT_O_20191113_000073, focus=29.6200008392334\n"
     ]
    },
    {
     "name": "stderr",
     "output_type": "stream",
     "text": [
      "2019-11-13 22:48:09,309 LsstCamAssembler WARNING  DataId(initialdata={'visit': 2019111300073}, tag=set()): amp.getRawBBox() != data.getBBox(); patching. ((minimum=(0, 0), maximum=(543, 2047)) v. (minimum=(0, 0), maximum=(575, 2047)))\n",
      "2019-11-13 22:48:09,470 lsst.obs.lsst.translators.latiss WARNING  Explicit dark time not found, setting dark time to the exposure time.\n",
      "2019-11-13 22:48:09,473 LsstCamAssembler WARNING  argDict[boresightAirmass] is None; stripping\n",
      "2019-11-13 22:48:09,474 LsstCamMapper WARNING  Unable to set WCS for DataId(initialdata={'visit': 2019111300073}, tag=set()) from header as RA/Dec/Angle are unavailable\n",
      "2019-11-13 22:48:09,475 CameraMapper WARNING  Cannot create SkyWcs using VisitInfo and Detector, using metadata-based SkyWcs: Cannot create SkyWcs from camera geometry: rotator angle defined using RotType=RotType.UNKNOWN instead of SKY.\n",
      "2019-11-13 22:48:09,562 CameraMapper INFO     Loading exposure registry from /home/saluser/ingest/accs/registry.sqlite3\n",
      "2019-11-13 22:48:09,563 CameraMapper INFO     Loading calib registry from /home/saluser/ingest/accs/CALIB/calibRegistry.sqlite3\n"
     ]
    },
    {
     "name": "stdout",
     "output_type": "stream",
     "text": [
      "Exposure retrieved after waiting 1.16 [s]\n"
     ]
    },
    {
     "name": "stderr",
     "output_type": "stream",
     "text": [
      "2019-11-13 22:48:10,804 CameraMapper WARNING  Cannot create SkyWcs using VisitInfo and Detector, using metadata-based SkyWcs: Cannot create SkyWcs from camera geometry: rotator angle defined using RotType=RotType.UNKNOWN instead of SKY.\n",
      "/opt/lsst/software/stack/stack/miniconda3-4.5.12-4d7b902/Linux64/pex_config/18.1.0-5-gc286bb7+4/python/lsst/pex/config/config.py:1279: FutureWarning: Config field doAddDistortionModel is deprecated: Camera geometry is incorporated when reading the raw files. This option no longer is used, and will be removed after v19.\n",
      "  FutureWarning)\n",
      "2019-11-13 22:48:10,805 isr          INFO     Converting exposure to floating point values.\n",
      "2019-11-13 22:48:11,105 isr          INFO     Assembling CCD from amplifiers.\n",
      "2019-11-13 22:48:11,230 isr          WARNING  No WCS found in input exposure.\n",
      "2019-11-13 22:48:11,230 isr          INFO     Applying bias correction.\n",
      "2019-11-13 22:48:11,713 isr          INFO     Masking NAN value pixels.\n",
      "2019-11-13 22:48:11,737 isr          INFO     Widening saturation trails.\n",
      "2019-11-13 22:48:12,185 isr          INFO     Interpolating masked pixels.\n",
      "2019-11-13 22:48:12,803 isr          WARNING  No rough magnitude zero point set for filter NONE.\n",
      "2019-11-13 22:48:12,804 isr          INFO     Setting rough magnitude zero point: 27.247425\n",
      "2019-11-13 22:48:13,190 sourceDetection INFO     Detected 1 positive peaks in 1 footprints and 0 negative peaks in 0 footprints to 10 sigma\n",
      "2019-11-13 22:48:13,191 sourceDetection.background WARNING  Too few points in grid to constrain fit: min(nx, ny) < approxOrder) [min(4, 32) < 6]\n",
      "2019-11-13 22:48:13,191 sourceDetection.background WARNING  Reducing approxOrder to 3\n",
      "2019-11-13 22:48:13,245 sourceDetection INFO     Resubtracting the background after object detection\n",
      "2019-11-13 22:48:13,260 findNarrowbandRonchiPeak_logger INFO     Zeroth order peak is at 2104, 2247\n",
      "2019-11-13 22:48:13,261 findNarrowbandRonchiPeak_logger INFO     Dispersion set to None, returning only center source\n",
      "2019-11-13 22:48:13,318 calc_CofM_logger INFO     x_CofM is 2103.8054959567935\n",
      "2019-11-13 22:48:13,319 calc_CofM_logger INFO     y_CofM is 2246.679085285666\n",
      "2019-11-13 22:48:13,320 calc_encirlced_energy_logger INFO     x_CofM is 2103.8054959567935\n",
      "2019-11-13 22:48:13,320 calc_encirlced_energy_logger INFO     y_CofM is 2246.679085285666\n"
     ]
    },
    {
     "name": "stdout",
     "output_type": "stream",
     "text": [
      "Time to perform image ISR was 1.999276 [s]\n",
      "<Gaussian2D(amplitude=61195.03414972, x_mean=2103.81777869, y_mean=2246.87264448, x_stddev=1.08596806, y_stddev=1.13545154, theta=0.)>\n"
     ]
    },
    {
     "name": "stderr",
     "output_type": "stream",
     "text": [
      "2019-11-13 22:48:13,653 calc_encirlced_energy_logger INFO     EE radius at 50%, 67% and 80% is [1.557, 2.423, 3.736] pixels\n",
      "2019-11-13 22:48:13,718 CameraMapper INFO     Loading exposure registry from /home/saluser/ingest/accs/registry.sqlite3\n",
      "2019-11-13 22:48:13,719 CameraMapper INFO     Loading calib registry from /home/saluser/ingest/accs/CALIB/calibRegistry.sqlite3\n"
     ]
    },
    {
     "name": "stdout",
     "output_type": "stream",
     "text": [
      "Processing file 5 of 8, filename=AT_O_20191113_000074, focus=31.6200008392334\n"
     ]
    },
    {
     "name": "stderr",
     "output_type": "stream",
     "text": [
      "2019-11-13 22:48:14,660 LsstCamAssembler WARNING  DataId(initialdata={'visit': 2019111300074}, tag=set()): amp.getRawBBox() != data.getBBox(); patching. ((minimum=(0, 0), maximum=(543, 2047)) v. (minimum=(0, 0), maximum=(575, 2047)))\n",
      "2019-11-13 22:48:14,826 lsst.obs.lsst.translators.latiss WARNING  Explicit dark time not found, setting dark time to the exposure time.\n",
      "2019-11-13 22:48:14,829 LsstCamAssembler WARNING  argDict[boresightAirmass] is None; stripping\n",
      "2019-11-13 22:48:14,830 LsstCamMapper WARNING  Unable to set WCS for DataId(initialdata={'visit': 2019111300074}, tag=set()) from header as RA/Dec/Angle are unavailable\n",
      "2019-11-13 22:48:14,830 CameraMapper WARNING  Cannot create SkyWcs using VisitInfo and Detector, using metadata-based SkyWcs: Cannot create SkyWcs from camera geometry: rotator angle defined using RotType=RotType.UNKNOWN instead of SKY.\n",
      "2019-11-13 22:48:14,914 CameraMapper INFO     Loading exposure registry from /home/saluser/ingest/accs/registry.sqlite3\n",
      "2019-11-13 22:48:14,915 CameraMapper INFO     Loading calib registry from /home/saluser/ingest/accs/CALIB/calibRegistry.sqlite3\n"
     ]
    },
    {
     "name": "stdout",
     "output_type": "stream",
     "text": [
      "Exposure retrieved after waiting 1.18 [s]\n"
     ]
    },
    {
     "name": "stderr",
     "output_type": "stream",
     "text": [
      "2019-11-13 22:48:16,081 CameraMapper WARNING  Cannot create SkyWcs using VisitInfo and Detector, using metadata-based SkyWcs: Cannot create SkyWcs from camera geometry: rotator angle defined using RotType=RotType.UNKNOWN instead of SKY.\n",
      "/opt/lsst/software/stack/stack/miniconda3-4.5.12-4d7b902/Linux64/pex_config/18.1.0-5-gc286bb7+4/python/lsst/pex/config/config.py:1279: FutureWarning: Config field doAddDistortionModel is deprecated: Camera geometry is incorporated when reading the raw files. This option no longer is used, and will be removed after v19.\n",
      "  FutureWarning)\n",
      "2019-11-13 22:48:16,083 isr          INFO     Converting exposure to floating point values.\n",
      "2019-11-13 22:48:16,414 isr          INFO     Assembling CCD from amplifiers.\n",
      "2019-11-13 22:48:16,564 isr          WARNING  No WCS found in input exposure.\n",
      "2019-11-13 22:48:16,565 isr          INFO     Applying bias correction.\n",
      "2019-11-13 22:48:17,083 isr          INFO     Masking NAN value pixels.\n",
      "2019-11-13 22:48:17,104 isr          INFO     Widening saturation trails.\n",
      "2019-11-13 22:48:17,531 isr          INFO     Interpolating masked pixels.\n",
      "2019-11-13 22:48:18,151 isr          WARNING  No rough magnitude zero point set for filter NONE.\n",
      "2019-11-13 22:48:18,152 isr          INFO     Setting rough magnitude zero point: 27.247425\n"
     ]
    },
    {
     "name": "stdout",
     "output_type": "stream",
     "text": [
      "Time to perform image ISR was 2.069640 [s]\n"
     ]
    },
    {
     "name": "stderr",
     "output_type": "stream",
     "text": [
      "2019-11-13 22:48:18,550 sourceDetection INFO     Detected 1 positive peaks in 1 footprints and 0 negative peaks in 0 footprints to 10 sigma\n",
      "2019-11-13 22:48:18,551 sourceDetection.background WARNING  Too few points in grid to constrain fit: min(nx, ny) < approxOrder) [min(4, 32) < 6]\n",
      "2019-11-13 22:48:18,552 sourceDetection.background WARNING  Reducing approxOrder to 3\n",
      "2019-11-13 22:48:18,615 sourceDetection INFO     Resubtracting the background after object detection\n",
      "2019-11-13 22:48:18,630 findNarrowbandRonchiPeak_logger INFO     Zeroth order peak is at 2106, 2247\n",
      "2019-11-13 22:48:18,630 findNarrowbandRonchiPeak_logger INFO     Dispersion set to None, returning only center source\n",
      "2019-11-13 22:48:18,682 calc_CofM_logger INFO     x_CofM is 2105.8961700878117\n",
      "2019-11-13 22:48:18,683 calc_CofM_logger INFO     y_CofM is 2246.821084937116\n",
      "2019-11-13 22:48:18,684 calc_encirlced_energy_logger INFO     x_CofM is 2105.8961700878117\n",
      "2019-11-13 22:48:18,684 calc_encirlced_energy_logger INFO     y_CofM is 2246.821084937116\n"
     ]
    },
    {
     "name": "stdout",
     "output_type": "stream",
     "text": [
      "<Gaussian2D(amplitude=34218.38441039, x_mean=2105.72238945, y_mean=2246.99513635, x_stddev=1.47110387, y_stddev=1.60430981, theta=0.)>\n"
     ]
    },
    {
     "name": "stderr",
     "output_type": "stream",
     "text": [
      "2019-11-13 22:48:19,053 calc_encirlced_energy_logger INFO     EE radius at 50%, 67% and 80% is [2.089, 3.042, 4.063] pixels\n",
      "2019-11-13 22:48:19,119 CameraMapper INFO     Loading exposure registry from /home/saluser/ingest/accs/registry.sqlite3\n",
      "2019-11-13 22:48:19,120 CameraMapper INFO     Loading calib registry from /home/saluser/ingest/accs/CALIB/calibRegistry.sqlite3\n"
     ]
    },
    {
     "name": "stdout",
     "output_type": "stream",
     "text": [
      "Processing file 6 of 8, filename=AT_O_20191113_000075, focus=33.619876861572266\n"
     ]
    },
    {
     "name": "stderr",
     "output_type": "stream",
     "text": [
      "2019-11-13 22:48:20,067 LsstCamAssembler WARNING  DataId(initialdata={'visit': 2019111300075}, tag=set()): amp.getRawBBox() != data.getBBox(); patching. ((minimum=(0, 0), maximum=(543, 2047)) v. (minimum=(0, 0), maximum=(575, 2047)))\n",
      "2019-11-13 22:48:20,244 lsst.obs.lsst.translators.latiss WARNING  Explicit dark time not found, setting dark time to the exposure time.\n",
      "2019-11-13 22:48:20,251 LsstCamAssembler WARNING  argDict[boresightAirmass] is None; stripping\n",
      "2019-11-13 22:48:20,254 LsstCamMapper WARNING  Unable to set WCS for DataId(initialdata={'visit': 2019111300075}, tag=set()) from header as RA/Dec/Angle are unavailable\n",
      "2019-11-13 22:48:20,257 CameraMapper WARNING  Cannot create SkyWcs using VisitInfo and Detector, using metadata-based SkyWcs: Cannot create SkyWcs from camera geometry: rotator angle defined using RotType=RotType.UNKNOWN instead of SKY.\n",
      "2019-11-13 22:48:20,414 CameraMapper INFO     Loading exposure registry from /home/saluser/ingest/accs/registry.sqlite3\n",
      "2019-11-13 22:48:20,416 CameraMapper INFO     Loading calib registry from /home/saluser/ingest/accs/CALIB/calibRegistry.sqlite3\n"
     ]
    },
    {
     "name": "stdout",
     "output_type": "stream",
     "text": [
      "Exposure retrieved after waiting 1.21 [s]\n"
     ]
    },
    {
     "name": "stderr",
     "output_type": "stream",
     "text": [
      "2019-11-13 22:48:21,744 CameraMapper WARNING  Cannot create SkyWcs using VisitInfo and Detector, using metadata-based SkyWcs: Cannot create SkyWcs from camera geometry: rotator angle defined using RotType=RotType.UNKNOWN instead of SKY.\n",
      "/opt/lsst/software/stack/stack/miniconda3-4.5.12-4d7b902/Linux64/pex_config/18.1.0-5-gc286bb7+4/python/lsst/pex/config/config.py:1279: FutureWarning: Config field doAddDistortionModel is deprecated: Camera geometry is incorporated when reading the raw files. This option no longer is used, and will be removed after v19.\n",
      "  FutureWarning)\n",
      "2019-11-13 22:48:21,746 isr          INFO     Converting exposure to floating point values.\n",
      "2019-11-13 22:48:22,034 isr          INFO     Assembling CCD from amplifiers.\n",
      "2019-11-13 22:48:22,165 isr          WARNING  No WCS found in input exposure.\n",
      "2019-11-13 22:48:22,166 isr          INFO     Applying bias correction.\n",
      "2019-11-13 22:48:22,661 isr          INFO     Masking NAN value pixels.\n",
      "2019-11-13 22:48:22,683 isr          INFO     Widening saturation trails.\n",
      "2019-11-13 22:48:23,155 isr          INFO     Interpolating masked pixels.\n",
      "2019-11-13 22:48:23,776 isr          WARNING  No rough magnitude zero point set for filter NONE.\n",
      "2019-11-13 22:48:23,777 isr          INFO     Setting rough magnitude zero point: 27.247425\n",
      "2019-11-13 22:48:24,170 sourceDetection INFO     Detected 1 positive peaks in 1 footprints and 0 negative peaks in 0 footprints to 10 sigma\n",
      "2019-11-13 22:48:24,171 sourceDetection.background WARNING  Too few points in grid to constrain fit: min(nx, ny) < approxOrder) [min(4, 32) < 6]\n",
      "2019-11-13 22:48:24,171 sourceDetection.background WARNING  Reducing approxOrder to 3\n",
      "2019-11-13 22:48:24,228 sourceDetection INFO     Resubtracting the background after object detection\n",
      "2019-11-13 22:48:24,245 findNarrowbandRonchiPeak_logger INFO     Zeroth order peak is at 2107, 2247\n",
      "2019-11-13 22:48:24,247 findNarrowbandRonchiPeak_logger INFO     Dispersion set to None, returning only center source\n"
     ]
    },
    {
     "name": "stdout",
     "output_type": "stream",
     "text": [
      "Time to perform image ISR was 2.032098 [s]\n"
     ]
    },
    {
     "name": "stderr",
     "output_type": "stream",
     "text": [
      "2019-11-13 22:48:24,318 calc_CofM_logger INFO     x_CofM is 2107.1014437627227\n",
      "2019-11-13 22:48:24,319 calc_CofM_logger INFO     y_CofM is 2246.718538671179\n",
      "2019-11-13 22:48:24,320 calc_encirlced_energy_logger INFO     x_CofM is 2107.1014437627227\n",
      "2019-11-13 22:48:24,320 calc_encirlced_energy_logger INFO     y_CofM is 2246.718538671179\n"
     ]
    },
    {
     "name": "stdout",
     "output_type": "stream",
     "text": [
      "<Gaussian2D(amplitude=13236.42267726, x_mean=2106.82507861, y_mean=2246.9700126, x_stddev=2.51311806, y_stddev=2.75406696, theta=0.)>\n"
     ]
    },
    {
     "name": "stderr",
     "output_type": "stream",
     "text": [
      "2019-11-13 22:48:24,654 calc_encirlced_energy_logger INFO     EE radius at 50%, 67% and 80% is [3.215, 4.373, 5.591] pixels\n",
      "2019-11-13 22:48:24,717 CameraMapper INFO     Loading exposure registry from /home/saluser/ingest/accs/registry.sqlite3\n",
      "2019-11-13 22:48:24,717 CameraMapper INFO     Loading calib registry from /home/saluser/ingest/accs/CALIB/calibRegistry.sqlite3\n"
     ]
    },
    {
     "name": "stdout",
     "output_type": "stream",
     "text": [
      "Processing file 7 of 8, filename=AT_O_20191113_000076, focus=35.619876861572266\n"
     ]
    },
    {
     "name": "stderr",
     "output_type": "stream",
     "text": [
      "2019-11-13 22:48:25,639 LsstCamAssembler WARNING  DataId(initialdata={'visit': 2019111300076}, tag=set()): amp.getRawBBox() != data.getBBox(); patching. ((minimum=(0, 0), maximum=(543, 2047)) v. (minimum=(0, 0), maximum=(575, 2047)))\n",
      "2019-11-13 22:48:25,800 lsst.obs.lsst.translators.latiss WARNING  Explicit dark time not found, setting dark time to the exposure time.\n",
      "2019-11-13 22:48:25,803 LsstCamAssembler WARNING  argDict[boresightAirmass] is None; stripping\n",
      "2019-11-13 22:48:25,804 LsstCamMapper WARNING  Unable to set WCS for DataId(initialdata={'visit': 2019111300076}, tag=set()) from header as RA/Dec/Angle are unavailable\n",
      "2019-11-13 22:48:25,805 CameraMapper WARNING  Cannot create SkyWcs using VisitInfo and Detector, using metadata-based SkyWcs: Cannot create SkyWcs from camera geometry: rotator angle defined using RotType=RotType.UNKNOWN instead of SKY.\n",
      "2019-11-13 22:48:25,892 CameraMapper INFO     Loading exposure registry from /home/saluser/ingest/accs/registry.sqlite3\n",
      "2019-11-13 22:48:25,893 CameraMapper INFO     Loading calib registry from /home/saluser/ingest/accs/CALIB/calibRegistry.sqlite3\n"
     ]
    },
    {
     "name": "stdout",
     "output_type": "stream",
     "text": [
      "Exposure retrieved after waiting 1.15 [s]\n"
     ]
    },
    {
     "name": "stderr",
     "output_type": "stream",
     "text": [
      "2019-11-13 22:48:27,125 CameraMapper WARNING  Cannot create SkyWcs using VisitInfo and Detector, using metadata-based SkyWcs: Cannot create SkyWcs from camera geometry: rotator angle defined using RotType=RotType.UNKNOWN instead of SKY.\n",
      "/opt/lsst/software/stack/stack/miniconda3-4.5.12-4d7b902/Linux64/pex_config/18.1.0-5-gc286bb7+4/python/lsst/pex/config/config.py:1279: FutureWarning: Config field doAddDistortionModel is deprecated: Camera geometry is incorporated when reading the raw files. This option no longer is used, and will be removed after v19.\n",
      "  FutureWarning)\n",
      "2019-11-13 22:48:27,127 isr          INFO     Converting exposure to floating point values.\n",
      "2019-11-13 22:48:27,412 isr          INFO     Assembling CCD from amplifiers.\n",
      "2019-11-13 22:48:27,537 isr          WARNING  No WCS found in input exposure.\n",
      "2019-11-13 22:48:27,538 isr          INFO     Applying bias correction.\n",
      "2019-11-13 22:48:28,032 isr          INFO     Masking NAN value pixels.\n",
      "2019-11-13 22:48:28,053 isr          INFO     Widening saturation trails.\n",
      "2019-11-13 22:48:28,511 isr          INFO     Interpolating masked pixels.\n",
      "2019-11-13 22:48:29,138 isr          WARNING  No rough magnitude zero point set for filter NONE.\n",
      "2019-11-13 22:48:29,139 isr          INFO     Setting rough magnitude zero point: 27.247425\n"
     ]
    },
    {
     "name": "stdout",
     "output_type": "stream",
     "text": [
      "Time to perform image ISR was 2.012633 [s]\n"
     ]
    },
    {
     "name": "stderr",
     "output_type": "stream",
     "text": [
      "2019-11-13 22:48:29,526 sourceDetection INFO     Detected 1 positive peaks in 1 footprints and 0 negative peaks in 0 footprints to 10 sigma\n",
      "2019-11-13 22:48:29,527 sourceDetection.background WARNING  Too few points in grid to constrain fit: min(nx, ny) < approxOrder) [min(4, 32) < 6]\n",
      "2019-11-13 22:48:29,527 sourceDetection.background WARNING  Reducing approxOrder to 3\n",
      "2019-11-13 22:48:29,585 sourceDetection INFO     Resubtracting the background after object detection\n",
      "2019-11-13 22:48:29,600 findNarrowbandRonchiPeak_logger INFO     Zeroth order peak is at 2107, 2246\n",
      "2019-11-13 22:48:29,601 findNarrowbandRonchiPeak_logger INFO     Dispersion set to None, returning only center source\n",
      "2019-11-13 22:48:29,650 calc_CofM_logger INFO     x_CofM is 2107.237843870956\n",
      "2019-11-13 22:48:29,651 calc_CofM_logger INFO     y_CofM is 2245.172249311361\n",
      "2019-11-13 22:48:29,652 calc_encirlced_energy_logger INFO     x_CofM is 2107.237843870956\n",
      "2019-11-13 22:48:29,652 calc_encirlced_energy_logger INFO     y_CofM is 2245.172249311361\n"
     ]
    },
    {
     "name": "stdout",
     "output_type": "stream",
     "text": [
      "<Gaussian2D(amplitude=5704.83971455, x_mean=2106.87958441, y_mean=2245.54091759, x_stddev=4.07848913, y_stddev=4.3418952, theta=0.)>\n"
     ]
    },
    {
     "name": "stderr",
     "output_type": "stream",
     "text": [
      "2019-11-13 22:48:30,016 calc_encirlced_energy_logger INFO     EE radius at 50%, 67% and 80% is [4.876, 6.132, 7.442] pixels\n",
      "2019-11-13 22:48:30,043 ATArchiver   WARNING  RemoteEvent(ATArchiver, 0, heartbeat) falling behind; read 82 messages\n",
      "2019-11-13 22:48:30,102 ATArchiver   WARNING  RemoteEvent(ATArchiver, 0, heartbeat) falling behind; read 82 messages\n",
      "2019-11-13 22:48:30,168 LinearStage  WARNING  RemoteTelemetry(LinearStage, 1, position) falling behind; read 100 messages\n",
      "2019-11-13 22:48:30,241 LinearStage  WARNING  RemoteTelemetry(LinearStage, 1, position) falling behind; read 100 messages\n",
      "2019-11-13 22:48:30,323 ATSpectrograph WARNING  RemoteEvent(ATSpectrograph, 0, logMessage) falling behind; read 100 messages\n",
      "2019-11-13 22:48:30,401 ATSpectrograph WARNING  RemoteEvent(ATSpectrograph, 0, logMessage) falling behind; read 100 messages\n",
      "2019-11-13 22:48:30,475 ATSpectrograph WARNING  RemoteEvent(ATSpectrograph, 0, logMessage) falling behind; read 100 messages\n"
     ]
    },
    {
     "data": {
      "image/png": "[encoded data removed]",
      "text/plain": [
       "<Figure size 936x360 with 3 Axes>"
      ]
     },
     "metadata": {
      "needs_background": "light"
     },
     "output_type": "display_data"
    },
    {
     "data": {
      "image/png": "[encoded data removed]",
      "text/plain": [
       "<Figure size 936x360 with 3 Axes>"
      ]
     },
     "metadata": {
      "needs_background": "light"
     },
     "output_type": "display_data"
    },
    {
     "data": {
      "image/png": "[encoded data removed]",
      "text/plain": [
       "<Figure size 936x360 with 3 Axes>"
      ]
     },
     "metadata": {
      "needs_background": "light"
     },
     "output_type": "display_data"
    },
    {
     "data": {
      "image/png": "[encoded data removed]",
      "text/plain": [
       "<Figure size 936x360 with 3 Axes>"
      ]
     },
     "metadata": {
      "needs_background": "light"
     },
     "output_type": "display_data"
    },
    {
     "data": {
      "image/png": "[encoded data removed]",
      "text/plain": [
       "<Figure size 936x360 with 3 Axes>"
      ]
     },
     "metadata": {
      "needs_background": "light"
     },
     "output_type": "display_data"
    },
    {
     "data": {
      "image/png": "[encoded data removed]",
      "text/plain": [
       "<Figure size 936x360 with 3 Axes>"
      ]
     },
     "metadata": {
      "needs_background": "light"
     },
     "output_type": "display_data"
    },
    {
     "data": {
      "image/png": "[encoded data removed]",
      "text/plain": [
       "<Figure size 936x360 with 3 Axes>"
      ]
     },
     "metadata": {
      "needs_background": "light"
     },
     "output_type": "display_data"
    },
    {
     "data": {
      "image/png": "[encoded data removed]",
      "text/plain": [
       "<Figure size 936x360 with 3 Axes>"
      ]
     },
     "metadata": {
      "needs_background": "light"
     },
     "output_type": "display_data"
    }
   ],
   "source": [
    "# I don't like looping but I don't know how to handle multiple files yet!\n",
    "# Declare approximation of where the zero-order star is\n",
    "zeroth_order_estimate = lsst.geom.Point2D(1700,1960)\n",
    "zeroth_order_estimate = lsst.geom.Point2D(2075,2025) # low res grating\n",
    "zeroth_order_estimate = lsst.geom.Point2D(2260,2050) #empty (632)\n",
    "zeroth_order_estimate = lsst.geom.Point2D(2010,2175) #empty (455)\n",
    "zeroth_order_star_BBox= lsst.geom.Box2I.makeCenteredBox(zeroth_order_estimate, lsst.geom.Extent2I(200,200)) \n",
    "\n",
    "fit_data=[]\n",
    "\n",
    "for index, img_name in enumerate(image_list):\n",
    "    # parse out visitID from filename - this is highly annoying\n",
    "    print('Processing file {} of {}, filename={}, focus={}'.format(index,len(image_list), img_name, focus_vals[index]))\n",
    "    tmp=img_name.split('_')\n",
    "    prefix=tmp[2] # dayobs without the dashes\n",
    "    # Don't remember why I used int here... whitespace? \n",
    "    # surely fixable but bigger fish.\n",
    "    suffix='{:05d}'.format(int(tmp[3].split('-')[0])) # SEQNUM, but need to trim extra 0 in obsid\n",
    "    visitID = int((prefix+suffix))\n",
    "    dataId1 = {'visit': visitID}\n",
    "    #multi_file_dataset[i]['visitID']=visitID\n",
    "    \n",
    "    #exposure = butler.get('raw', **dataId1)\n",
    "    exposure = await grabATImage(visitID, repo, timeout = 40, poll_freq_hz=2)\n",
    "    # do ISR correction\n",
    "    isr_corr_exposure = processExposure(exposure, repo=repo, defects=None) #bias=None\n",
    "    \n",
    "    # Find all sources in the image\n",
    "    tab = afwTable.SourceTable.make(schema)\n",
    "    # Find the correct sources using just a strip\n",
    "    search_center_pt = lsst.geom.Point2D(zeroth_order_estimate.getX(),2000)\n",
    "    search_strip = lsst.geom.Box2I.makeCenteredBox(search_center_pt, lsst.geom.Extent2I(500,3999)) \n",
    "    result = sourceDetectionTask.run(tab, isr_corr_exposure[search_strip], sigma=2.0)\n",
    "    \n",
    "    # wavelength solution is bad for the fiberSpectrograph, but close enough for this to work\n",
    "    # can use the monochromator wavelength which is better, but that's not the correct way in the long run\n",
    "\n",
    "    if False: # display the image in firefly\n",
    "        plt.close('all')\n",
    "        disp = afwDisplay.Display(2, reopenPlot=True)\n",
    "        disp.setMaskPlaneColor('SAT', afwDisplay.IGNORE)\n",
    "        disp.setImageColormap('gray')\n",
    "        disp.scale('linear', 'minmax')\n",
    "        peak0_subim = isr_corr_exposure.subset(zeroth_order_star_BBox)\n",
    "        disp.mtv(peak0_subim, title='visit = {}'.format(visitID))        \n",
    "        #disp.scale('linear', 'zscale')\n",
    "        #disp.mtv(isr_corr_exposure, title='visit = {}'.format(visitID))\n",
    "        #cgUtils.overlayCcdBoxes(isr_corr_exposure.getDetector(), isTrimmed=True, display=disp)\n",
    "        break\n",
    "        \n",
    "    \n",
    "    dispersion = (1/0.6358) # pixels/nm\n",
    "    spectral_position_angle=0.0107 # radians clockwise from top\n",
    "\n",
    "    # Find 0th and +/- 1 order peaks \n",
    "    sources = result.sources\n",
    "    \n",
    "    #center_source, peak1, peak2 = findNarrowbandRonchiPeaks(sources, zeroth_order_star_BBox, wavelength, dispersion, spectral_position_angle)\n",
    "    \n",
    "    dispersion = None\n",
    "    center_source = findNarrowbandRonchiPeaks(sources, zeroth_order_star_BBox, wavelength, dispersion, spectral_position_angle)\n",
    "    # Fit peaks\n",
    "    # zeroth order\n",
    "    # variables names are weird here because I can't think of a clever way to have -1 and +1 as variable names\n",
    "    \n",
    "    bbox0 = lsst.geom.Box2I.makeCenteredBox(center_source.getFootprint().getCentroid(), lsst.geom.Extent2I(50,50)) \n",
    "    peak0_subim = isr_corr_exposure.subset(bbox0)\n",
    "    p0, x0 , y0 = fit2DGaussian(peak0_subim, plot=True)\n",
    "    p0_x_CofM, p0_y_CofM = calc_CofM(peak0_subim) # 2167,3372\n",
    "\n",
    "# Calculate EE and CofM\n",
    "    p0_EE_rad50_pix, p0_EE_rad67_pix, p0_EE_rad80_pix = calc_encircled_energy(peak0_subim, plot=False) \n",
    "    #fit_data.append(p0_EE_rad67_pix)\n",
    "    fit_data.append(np.sqrt(p0.x_stddev.value**2 + p0.y_stddev.value**2))\n",
    "    \n",
    "\n",
    "#     # offset to test\n",
    "#     bbox1 = lsst.geom.Box2I.makeCenteredBox(peak1.getFootprint().getCentroid(), lsst.geom.Extent2I(50,50)) \n",
    "#     peak1_subim = isr_corr_exposure.subset(bbox1)\n",
    "#     p1, x1 , y1 = fit2DGaussian(peak1_subim, plot=True)\n",
    "#     p1_x_CofM, p1_y_CofM = calc_CofM(peak1_subim) # 2167,3372\n",
    "#     fit_data.append(p1_EE_rad67_pix)\n",
    "\n",
    "#     # Calculate EE and CofM\n",
    "#     p1_EE_rad50_pix, p1_EE_rad67_pix, p1_EE_rad80_pix = calc_encircled_energy(peak1_subim, plot=False) \n",
    "    \n",
    "#     fit_data.append(p1_EE_rad80_pix)\n",
    "#     bbox2 = lsst.geom.Box2I.makeCenteredBox(peak2.getFootprint().getCentroid(), lsst.geom.Extent2I(50,50)) \n",
    "#     peak2_subim = isr_corr_exposure.subset(bbox2)\n",
    "#     p2, x2 , y2 = fit2DGaussian(peak2_subim, plot=False)\n",
    "#     p2_x_CofM, p2_y_CofM = calc_CofM(peak2_subim) # 2167,3372\n",
    "\n",
    "#     # Calculate EE and CofM\n",
    "#     p0_EE_rad50_pix, p0_EE_rad67_pix, p0_EE_rad80_pix = calc_encircled_energy(peak0_subim, plot=False) \n",
    "#     p1_EE_rad50_pix, p1_EE_rad67_pix, p1_EE_rad80_pix = calc_encircled_energy(peak1_subim, plot=False) \n",
    "#     p2_EE_rad50_pix, p2_EE_rad67_pix, p2_EE_rad80_pix = calc_encircled_energy(peak2_subim, plot=False) \n",
    "\n",
    "#     #  Now use multi_file_dataset\n",
    "#     multi_file_dataset[i]['Gauss_x_peak'] = (p0.x_mean.value, p1.x_mean.value, p2.x_mean.value)\n",
    "#     multi_file_dataset[i]['Gauss_y_peak'] = (p0.y_mean.value, p1.y_mean.value, p2.y_mean.value)\n",
    "#     multi_file_dataset[i]['Gauss_xsigma_pix'] = (p0.x_stddev.value, p1.x_stddev.value, p2.x_stddev.value) \n",
    "#     multi_file_dataset[i]['Gauss_ysigma_pix'] = (p0.y_stddev.value, p1.y_stddev.value, p2.y_stddev.value)\n",
    "#     multi_file_dataset[i]['x_CofM'] = (p0_x_CofM, p1_x_CofM, p2_x_CofM)\n",
    "#     multi_file_dataset[i]['y_CofM'] = (p0_y_CofM, p1_y_CofM, p2_y_CofM)\n",
    "#     multi_file_dataset[i]['EE50_pix'] = (p0_EE_rad50_pix, p1_EE_rad50_pix, p2_EE_rad50_pix)\n",
    "#     multi_file_dataset[i]['EE67_pix'] = (p0_EE_rad67_pix, p1_EE_rad67_pix, p2_EE_rad67_pix)\n",
    "#     multi_file_dataset[i]['EE80_pix'] = (p0_EE_rad80_pix, p1_EE_rad80_pix, p2_EE_rad80_pix)"
   ]
  },
  {
   "cell_type": "code",
   "execution_count": 76,
   "metadata": {},
   "outputs": [
    {
     "data": {
      "text/plain": [
       "3.606105736906896"
      ]
     },
     "execution_count": 76,
     "metadata": {},
     "output_type": "execute_result"
    }
   ],
   "source": [
    "np.sqrt(p0.x_stddev.value**2 + p0.y_stddev.value**2)"
   ]
  },
  {
   "cell_type": "code",
   "execution_count": null,
   "metadata": {},
   "outputs": [],
   "source": []
  },
  {
   "cell_type": "code",
   "execution_count": 98,
   "metadata": {},
   "outputs": [
    {
     "data": {
      "text/plain": [
       "[4.172006293957147,\n",
       " 2.839750485117332,\n",
       " 2.0390534307684662,\n",
       " 1.681452691241013,\n",
       " 1.5460619578775143,\n",
       " 1.6982280240345407,\n",
       " 2.29420455147672]"
      ]
     },
     "execution_count": 98,
     "metadata": {},
     "output_type": "execute_result"
    }
   ],
   "source": [
    "fit_data"
   ]
  },
  {
   "cell_type": "code",
   "execution_count": 99,
   "metadata": {},
   "outputs": [
    {
     "data": {
      "image/png": "[encoded data removed]",
      "text/plain": [
       "<Figure size 936x360 with 1 Axes>"
      ]
     },
     "metadata": {
      "needs_background": "light"
     },
     "output_type": "display_data"
    },
    {
     "name": "stdout",
     "output_type": "stream",
     "text": [
      "Best focus occurs at 28.624167015401888 [mm]\n"
     ]
    }
   ],
   "source": [
    "# Fit a line to the profile\n",
    "from scipy.optimize import curve_fit\n",
    "\n",
    "\n",
    "xdata=focus_vals#[0:4]\n",
    "ydata = fit_data #[3:9]\n",
    "\n",
    "def parabola(x,b, x0, a):\n",
    "    return b + a*(x-x0)**2 \n",
    "\n",
    "popt,pcov = curve_fit(parabola, xdata, ydata)#, p0=[3.0, 75.5 , 1])\n",
    "\n",
    "plt.close('all')\n",
    "plt.figure(figsize=(13, 5))\n",
    "plt.ylabel('Encircled Energy [pix]')\n",
    "plt.plot(xdata, ydata, '.')\n",
    "x=np.arange(np.min(xdata), np.max(xdata), np.abs(np.max(xdata) - np.min(xdata))/100 )\n",
    "plt.plot(x, parabola(x, *popt))\n",
    "plt.title('Encircled Energy [pix]')\n",
    "plt.xlabel('Focus position [mm]')\n",
    "plt.show()\n",
    "plt.close()\n",
    "\n",
    "print('Best focus occurs at {} [mm]'.format(popt[1]))\n"
   ]
  },
  {
   "cell_type": "code",
   "execution_count": null,
   "metadata": {},
   "outputs": [],
   "source": [
    "26*25.4"
   ]
  },
  {
   "cell_type": "code",
   "execution_count": 1,
   "metadata": {},
   "outputs": [
    {
     "name": "stdout",
     "output_type": "stream",
     "text": [
      "Diffraction Limit in object space (f=125mm, D=25mm, wave=632nm) is: 2.856640 [um]\n",
      "Image diameter of Diffraction Limit is: 1.390400 [um]\n",
      "Magnification is f_tel/f_col 4.867256637168142:\n",
      "Expected image diameter for 2.000000 diameter pinhole: 9.734513 [um]\n",
      "80% EE radius in pixels ~0.48672566371681414\n"
     ]
    }
   ],
   "source": [
    "pup_diam=25e-3; wave=632e-9\n",
    "f_coll=113e-3; \n",
    "\n",
    "f_tel=550e-3 # 400mm nominal - measured around 25-26 inches\n",
    "pinhole_diam=2e-6\n",
    "pix_scl=10 # [um/pix]\n",
    "\n",
    "diff_limit=1e6*wave/pup_diam*f_coll\n",
    "print('Diffraction Limit in object space (f=125mm, D=25mm, wave=632nm) is: {0:3f} [um]'.format(diff_limit))\n",
    "mag=f_tel/f_coll\n",
    "print('Image diameter of Diffraction Limit is: {0:3f} [um]'.format(mag*diff_limit/pix_scl))\n",
    "print('Magnification is f_tel/f_col {}:'.format(mag))\n",
    "im_size=1e6*mag*pinhole_diam\n",
    "print('Expected image diameter for {0:3f} diameter pinhole: {1:3f} [um]'.format(pinhole_diam*1e6, im_size))\n",
    "print('80% EE radius in pixels ~{}'.format(im_size/2/pix_scl))"
   ]
  },
  {
   "cell_type": "code",
   "execution_count": 44,
   "metadata": {},
   "outputs": [
    {
     "data": {
      "text/plain": [
       "117.81818181818181"
      ]
     },
     "execution_count": 44,
     "metadata": {},
     "output_type": "execute_result"
    }
   ],
   "source": [
    "27*12/550.*2 / 10e-3"
   ]
  },
  {
   "cell_type": "code",
   "execution_count": 45,
   "metadata": {},
   "outputs": [
    {
     "data": {
      "text/plain": [
       "39.272727272727266"
      ]
     },
     "execution_count": 45,
     "metadata": {},
     "output_type": "execute_result"
    }
   ],
   "source": [
    "27*4/550.*2 / 10e-3"
   ]
  },
  {
   "cell_type": "code",
   "execution_count": null,
   "metadata": {},
   "outputs": [],
   "source": []
  }
 ],
 "metadata": {
  "kernelspec": {
   "display_name": "Python 3",
   "language": "python",
   "name": "python3"
  },
  "language_info": {
   "codemirror_mode": {
    "name": "ipython",
    "version": 3
   },
   "file_extension": ".py",
   "mimetype": "text/x-python",
   "name": "python",
   "nbconvert_exporter": "python",
   "pygments_lexer": "ipython3",
   "version": "3.7.2"
  }
 },
 "nbformat": 4,
 "nbformat_minor": 4
}
