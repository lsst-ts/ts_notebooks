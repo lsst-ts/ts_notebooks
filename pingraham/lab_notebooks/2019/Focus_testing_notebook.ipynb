{
 "cells": [
  {
   "cell_type": "markdown",
   "metadata": {},
   "source": [
    "### Notebook to be used to perform manual focus testing using ACCS Images"
   ]
  },
  {
   "cell_type": "code",
   "execution_count": 2,
   "metadata": {},
   "outputs": [],
   "source": [
    "import numpy as np\n",
    "from lsst.ts import salobj\n",
    "import asyncio\n",
    "from astropy.io import fits\n",
    "\n",
    "import warnings\n",
    "#import matplotlib.pyplot as plt  # imported as py above\n",
    "from astropy.modeling import models, fitting\n",
    "from scipy.ndimage.filters import gaussian_filter as gauss_filt\n",
    "from matplotlib import pyplot as plt\n",
    "\n",
    "import SALPY_ATCamera\n",
    "#import SALPY_ATSpectrograph\n",
    "#import SALPY_ATArchiver"
   ]
  },
  {
   "cell_type": "code",
   "execution_count": 3,
   "metadata": {},
   "outputs": [],
   "source": [
    "#ATSpectrograph = salobj.Remote(SALPY_ATSpectrograph)\n",
    "ATCamera = salobj.Remote(SALPY_ATCamera)\n",
    "#ATArchiver = salobj.Remote(SALPY_ATArchiver)"
   ]
  },
  {
   "cell_type": "code",
   "execution_count": null,
   "metadata": {},
   "outputs": [],
   "source": []
  },
  {
   "cell_type": "markdown",
   "metadata": {},
   "source": [
    "#### Setup the spectrograph"
   ]
  },
  {
   "cell_type": "code",
   "execution_count": null,
   "metadata": {},
   "outputs": [],
   "source": [
    "#  bring into enable state if required\n",
    "if False:\n",
    "    try:\n",
    "        asyncio.get_event_loop().run_until_complete(ATSpectrograph.cmd_enable.start())\n",
    "    except AckError as ack_err:\n",
    "        print(f\"Failed with ack.result={ack_err.ack.result}\")"
   ]
  },
  {
   "cell_type": "code",
   "execution_count": 3,
   "metadata": {},
   "outputs": [
    {
     "name": "stdout",
     "output_type": "stream",
     "text": [
      "0\n"
     ]
    }
   ],
   "source": [
    "ATSpectrograph.cmd_changeFilter.set(filter=0)\n",
    "try:\n",
    "    asyncio.get_event_loop().run_until_complete(ATSpectrograph.cmd_changeFilter.start())\n",
    "except salobj.AckError as ack_err:\n",
    "    print(f\"Failed with ack.result={ack_err.ack.result}\")\n",
    "\n",
    "\n",
    "filt_pos=ATSpectrograph.evt_reportedFilterPosition.get()\n",
    "print(filt_pos.position)"
   ]
  },
  {
   "cell_type": "code",
   "execution_count": 4,
   "metadata": {},
   "outputs": [
    {
     "name": "stdout",
     "output_type": "stream",
     "text": [
      "1\n"
     ]
    }
   ],
   "source": [
    "ATSpectrograph.cmd_changeDisperser.set(disperser=1)\n",
    "asyncio.get_event_loop().run_until_complete(ATSpectrograph.cmd_changeDisperser.start())\n",
    "disp_pos=ATSpectrograph.evt_reportedDisperserPosition.get()\n",
    "print(disp_pos.position)"
   ]
  },
  {
   "cell_type": "code",
   "execution_count": 16,
   "metadata": {},
   "outputs": [
    {
     "name": "stdout",
     "output_type": "stream",
     "text": [
      "Failed with ack.result=Failed: Change position timed out trying to move to position 5.0.\n"
     ]
    }
   ],
   "source": [
    "ATSpectrograph.cmd_moveLinearStage.set(distanceFromHome=5)\n",
    "try:\n",
    "    asyncio.get_event_loop().run_until_complete(ATSpectrograph.cmd_moveLinearStage.start())\n",
    "    lin_stage_pos=asyncio.get_event_loop().run_until_complete(ATSpectrograph.evt_reportedLinearStagePosition.next(flush=False, timeout=10))\n",
    "    print(lin_stage_pos)\n",
    "except salobj.AckError as ack_err:\n",
    "    print(f\"Failed with ack.result={ack_err.ack.result}\")\n"
   ]
  },
  {
   "cell_type": "code",
   "execution_count": 17,
   "metadata": {},
   "outputs": [
    {
     "name": "stdout",
     "output_type": "stream",
     "text": [
      "<SALPY_ATSpectrograph.ATSpectrograph_logevent_reportedLinearStagePositionC object at 0x7f0379e147d8>\n"
     ]
    }
   ],
   "source": [
    "lin_stage_pos=asyncio.get_event_loop().run_until_complete(ATSpectrograph.evt_reportedLinearStagePosition.next(flush=False, timeout=10))\n",
    "print(lin_stage_pos)"
   ]
  },
  {
   "cell_type": "code",
   "execution_count": 13,
   "metadata": {},
   "outputs": [
    {
     "name": "stdout",
     "output_type": "stream",
     "text": [
      "20.0\n"
     ]
    }
   ],
   "source": [
    "print(lin_stage_pos.position)"
   ]
  },
  {
   "cell_type": "code",
   "execution_count": 5,
   "metadata": {},
   "outputs": [
    {
     "name": "stdout",
     "output_type": "stream",
     "text": [
      "Failed with ack.result=Failed: 'CSC' object has no attribute 'home_gs'\n"
     ]
    }
   ],
   "source": [
    "if True:\n",
    "    try:\n",
    "        ATSpectrograph.cmd_homeLinearStage.set(value=True)\n",
    "        asyncio.get_event_loop().run_until_complete(ATSpectrograph.cmd_homeLinearStage.start())\n",
    "        lin_stage_pos=ATSpectrograph.evt_reportedLinearStagePosition.get()\n",
    "        print(lin_stage_pos.position)\n",
    "    except salobj.AckError as ack_err:\n",
    "        print(f\"Failed with ack.result={ack_err.ack.result}\")\n"
   ]
  },
  {
   "cell_type": "markdown",
   "metadata": {},
   "source": [
    "#### Setup the Camera"
   ]
  },
  {
   "cell_type": "code",
   "execution_count": 5,
   "metadata": {},
   "outputs": [],
   "source": [
    "#  bring into enable state if required\n",
    "if False:\n",
    "    try:\n",
    "        asyncio.get_event_loop().run_until_complete(ATCamera.cmd_enable.start())\n",
    "    except AckError as ack_err:\n",
    "        print(f\"Failed with ack.result={ack_err.ack.result}\")"
   ]
  },
  {
   "cell_type": "code",
   "execution_count": 6,
   "metadata": {},
   "outputs": [],
   "source": [
    "#asyncio.get_event_loop().run_until_complete(ATCamera.cmd_start.start())"
   ]
  },
  {
   "cell_type": "code",
   "execution_count": 16,
   "metadata": {},
   "outputs": [
    {
     "data": {
      "text/plain": [
       "False"
      ]
     },
     "execution_count": 16,
     "metadata": {},
     "output_type": "execute_result"
    }
   ],
   "source": [
    "ATCamera.cmd_takeImages.set(expTime=1.0, shutter=1, numImages=1, imageSequenceName='FLAT')"
   ]
  },
  {
   "cell_type": "code",
   "execution_count": 17,
   "metadata": {},
   "outputs": [],
   "source": [
    "try:\n",
    "    asyncio.get_event_loop().run_until_complete(ATCamera.cmd_takeImages.start())\n",
    "except salobj.AckError as ack_err:\n",
    "    print(f\"Failed with ack.result={ack_err.ack.result}\")"
   ]
  },
  {
   "cell_type": "code",
   "execution_count": 18,
   "metadata": {},
   "outputs": [
    {
     "name": "stdout",
     "output_type": "stream",
     "text": [
      "AT_O_20190612_000006\n"
     ]
    }
   ],
   "source": [
    "endReadout = asyncio.get_event_loop().run_until_complete(ATCamera.evt_endReadout.next(flush=False, timeout=30))\n",
    "startIntegration = asyncio.get_event_loop().run_until_complete(ATCamera.evt_startIntegration.next(flush=False, timeout=30))\n",
    "print(endReadout.imageName)"
   ]
  },
  {
   "cell_type": "code",
   "execution_count": 22,
   "metadata": {},
   "outputs": [
    {
     "name": "stdout",
     "output_type": "stream",
     "text": [
      "0\n",
      "1\n",
      "AT_O_20190507_000003\n",
      "FLAT\n",
      "1557257997.173\n",
      "0\n"
     ]
    }
   ],
   "source": [
    "print(endReadout.imageIndex)\n",
    "print(endReadout.imagesInSequence)\n",
    "print(endReadout.imageName)\n",
    "print(endReadout.imageSequenceName)\n",
    "print(startIntegration.timeStamp)\n",
    "print(startIntegration.imageIndex)"
   ]
  },
  {
   "cell_type": "code",
   "execution_count": 436,
   "metadata": {},
   "outputs": [],
   "source": [
    "async def take_image():\n",
    "    ATCamera.cmd_takeImages.set(expTime=0)\n",
    "    coro_cmd = ATCamera.cmd_takeImages.start()\n",
    "    coro_evt = ATCamera.evt_endReadout.next(flush=False, timeout=30)\n",
    "    \n",
    "    await asyncio.gather(coro_cmd, coro_evt)"
   ]
  },
  {
   "cell_type": "code",
   "execution_count": 439,
   "metadata": {},
   "outputs": [
    {
     "name": "stdout",
     "output_type": "stream",
     "text": [
      "Failed with ack.result=Ack : NO Command rejected: Invalid exposure time\n"
     ]
    }
   ],
   "source": [
    "try:\n",
    "    coro_list = asyncio.get_event_loop().run_until_complete(take_image())\n",
    "except salobj.AckError as ack_err:\n",
    "    print(f\"Failed with ack.result={ack_err.ack.result}\")"
   ]
  },
  {
   "cell_type": "code",
   "execution_count": 385,
   "metadata": {},
   "outputs": [
    {
     "name": "stdout",
     "output_type": "stream",
     "text": [
      "Opening /mnt/data/ats/mcm/20190403/AT_O_20190403_000072.fits\n"
     ]
    }
   ],
   "source": [
    "# Read in image\n",
    "#dir = '/mnt/dmcs/20180823'\n",
    "dir = '/mnt/data/ats/mcm/20190403/'\n",
    "atcamera_fname='AT_O_20190403_000072'\n",
    "#atcamera_fname=endReadout.imageName\n",
    "\n",
    "#dir = '/mnt/dmcs/2019-03-08/'\n",
    "#atcamera_fname='AT_O_20190308_000125-ats-wfs_ccd'\n",
    "\n",
    "full_file_name=dir+atcamera_fname+'.fits'\n",
    "print('Opening {}'.format(full_file_name))\n",
    "hdu_list = fits.open(full_file_name)\n",
    "#hdu_list.info()\n",
    "im=hdu_list[12].data # for camera data"
   ]
  },
  {
   "cell_type": "code",
   "execution_count": 386,
   "metadata": {},
   "outputs": [],
   "source": [
    "#print(repr(hdu_list[0].header))"
   ]
  },
  {
   "cell_type": "code",
   "execution_count": 387,
   "metadata": {},
   "outputs": [],
   "source": [
    "if False:\n",
    "    im_sub=im-np.median(im)\n",
    "    plt.imshow(im_sub)\n",
    "    hdu_list.close()"
   ]
  },
  {
   "cell_type": "code",
   "execution_count": 388,
   "metadata": {},
   "outputs": [
    {
     "name": "stdout",
     "output_type": "stream",
     "text": [
      "13653\n",
      "centroid at y,x: 1814 352\n",
      "subimage being made from ymin,ymax,xmin,xmax:1804 1824 342 362\n",
      "new centroid at y,x: 10 10\n"
     ]
    }
   ],
   "source": [
    "# Find star by convolution with gaussian, then grab the max\n",
    "tmp=gauss_filt(im,[5,5],mode='constant',cval=0)\n",
    "print(np.max(tmp))\n",
    "value=None\n",
    "ind=np.argmax(tmp)\n",
    "ind2d = np.unravel_index(ind,tmp.shape)\n",
    "print('centroid at y,x: {} {}'.format(ind2d[0],ind2d[1]))\n",
    "\n",
    "#ymin=1800 ; ymax=2048\n",
    "#xmin=280 ; xmax=450\n",
    "half_side=int(10)\n",
    "ymin = ind2d[0]-half_side if ind2d[0]-half_side > 0 else 0\n",
    "ymax = ind2d[0]+half_side if ind2d[0]+half_side < 2047 else 2047\n",
    "xmin = ind2d[1]-half_side if ind2d[1]-half_side > 0 else 0\n",
    "xmax = ind2d[1]+half_side if ind2d[1]+half_side < 512 else 512\n",
    "print('subimage being made from ymin,ymax,xmin,xmax:{} {} {} {}'.format(ymin,ymax,xmin,xmax))\n",
    "# new maximum at:\n",
    "ind=np.argmax(tmp[ymin:ymax,xmin:xmax])\n",
    "ind2d = np.unravel_index(ind,tmp[ymin:ymax,xmin:xmax].shape)\n",
    "print('new centroid at y,x: {} {}'.format(ind2d[0],ind2d[1]))"
   ]
  },
  {
   "cell_type": "code",
   "execution_count": 389,
   "metadata": {},
   "outputs": [
    {
     "data": {
      "image/png": "[encoded data removed]",
      "text/plain": [
       "<matplotlib.figure.Figure at 0x7efd7afa1c50>"
      ]
     },
     "metadata": {
      "needs_background": "light"
     },
     "output_type": "display_data"
    }
   ],
   "source": [
    "im_sub=im[ymin:ymax,xmin:xmax]\n",
    "im_sub=im_sub-np.median(im_sub)\n",
    "plt.imshow(im_sub)\n",
    "hdu_list.close()"
   ]
  },
  {
   "cell_type": "code",
   "execution_count": 390,
   "metadata": {},
   "outputs": [
    {
     "name": "stdout",
     "output_type": "stream",
     "text": [
      "10\n",
      "10\n"
     ]
    },
    {
     "data": {
      "text/plain": [
       "<matplotlib.text.Text at 0x7efd7ac056d8>"
      ]
     },
     "execution_count": 390,
     "metadata": {},
     "output_type": "execute_result"
    },
    {
     "data": {
      "image/png": "[encoded data removed]",
      "text/plain": [
       "<matplotlib.figure.Figure at 0x7efd7afa5d30>"
      ]
     },
     "metadata": {
      "needs_background": "light"
     },
     "output_type": "display_data"
    }
   ],
   "source": [
    "# Generate x,y,z data\n",
    "y, x = np.mgrid[:im_sub.shape[0], :im_sub.shape[1]]\n",
    "print(y[ind2d])\n",
    "print(x[ind2d])\n",
    "z=im_sub\n",
    "# Fit the data using astropy.modeling\n",
    "p_init = models.Gaussian2D(amplitude=np.nanmax(z),x_mean=x[ind2d], y_mean=y[ind2d], fixed={'theta':True})\n",
    "#p_init = models.Gaussian2D(amplitude=np.nanmax(z),x_mean=38, y_mean=51, x_stddev=3, y_stddev=3,  fixed={'theta':True})\n",
    "fit_p = fitting.LevMarLSQFitter()\n",
    "\n",
    "with warnings.catch_warnings():\n",
    "    # Ignore model linearity warning from the fitter\n",
    "    warnings.simplefilter('ignore')\n",
    "    p = fit_p(p_init, x, y, z)\n",
    "\n",
    "# Plot the data with the best-fit model\n",
    "plt.figure(figsize=(9, 5))\n",
    "plt.subplot(1, 3, 1)\n",
    "plt.imshow(z, origin='lower', interpolation='nearest')#, vmin=-1e4, vmax=5e4)\n",
    "plt.title(\"Data\")\n",
    "plt.subplot(1, 3, 2)\n",
    "plt.imshow(p(x, y), origin='lower', interpolation='nearest')#, vmin=-1e4, vmax=5e4)\n",
    "plt.title(\"Model\")\n",
    "plt.subplot(1, 3, 3)\n",
    "plt.imshow(z - p(x, y), origin='lower', interpolation='nearest')#, vmin=-1e4, vmax=5e4)\n",
    "plt.title(\"Residual\")"
   ]
  },
  {
   "cell_type": "code",
   "execution_count": 391,
   "metadata": {},
   "outputs": [
    {
     "name": "stdout",
     "output_type": "stream",
     "text": [
      "AT_O_20190403_000072\n",
      "Model: Gaussian2D\n",
      "Inputs: ('x', 'y')\n",
      "Outputs: ('z',)\n",
      "Model set size: 1\n",
      "Parameters:\n",
      "      amplitude       x_mean        y_mean       x_stddev      y_stddev   theta\n",
      "    ------------- ------------- ------------- ------------- ------------- -----\n",
      "    18797.0589176 9.72130537745 9.92428398597 2.34364092035 2.45635093767   0.0\n"
     ]
    }
   ],
   "source": [
    "print(atcamera_fname)\n",
    "print(p)"
   ]
  },
  {
   "cell_type": "markdown",
   "metadata": {},
   "source": [
    "#### file, focus pos [in], amplitude, x_mean, y_mean, x_stddev, y_stddev, theta [fixed] \n",
    "AT-O-20180926-00021, 0.562, 15870.7070175, 98.2141308141, 56.3088127495, 5.15586715284, 4.88307143492,   0.0 <br>\n",
    "15 um pihole <br>\n",
    "AT_O_20190307_000019, 85.21, 108144.327522 49.7379776615 49.4345579468 14.8616659362 15.465663748   0.0 <br>\n",
    "AT_O_20190307_000020, 84.49,44967.8593151 48.9497402539 50.2846418748 15.3738814453 17.9581401095   0.0 <br>\n",
    "AT_O_20190307_000022, 86.52, 93058.4239815 49.5835058745 49.9918142155 4.81553867288 5.13646717767   0.0 <br>\n",
    "changed boxsize to 30 <br>\n",
    "AT_O_20190307_000023, 86.74, 329693.886659 30.1836323063 29.9334425162 3.01478897239 2.8575321053   0.0 <br>\n",
    "AT_O_20190307_000024, 87.12, 295742.555002 30.4913217454 30.3317351434 3.11510954329 3.25791024973   0.0 <br>\n",
    "AT_O_20190307_000025, 86.19, 56511.1359113 29.7477946879 29.6581194245 6.10740920894 6.82905777784   0.0 <br>\n",
    "AT_O_20190307_000026, 86.51, 199852.873849 29.5918056313 29.7152382087 3.35941499774 3.51909832344   0.0 <br>\n",
    "<br>\n",
    "AT_O_20190403_000043, 86.84, 47193.2995262 10.1770464631 9.58557396978 2.42186350619 2.33253803551   0.0 <br>\n",
    "AT_O_20190403_000058, 87.0, 60780.3988054 10.3854763745 9.81653223519 2.09498458905 2.18381847915   0.0 <br>\n",
    "AT_O_20190403_000059, 87.25, 10496.9450352 10.3321166429 10.3178915386 3.29602335958 3.18432359685   0.0 <br>\n",
    "AT_O_20190403_000060, 87.17, 19601.6079323 10.2477154384 10.0856153463 3.14769062096 3.18421825848   0.0 <br>\n",
    "AT_O_20190403_000061, 86.87, 54387.2443399 10.0928949949 10.2432991149 2.13034331442 2.11887896719   0.0 <br>\n",
    "AT_O_20190403_000062, 87.00, 42152.0302352 9.81355306651 10.036868197 2.41075614552 2.43991643928   0.0 <br>\n",
    "?64 86.77, 51691.254321 10.0069253537 10.3383953884 2.30251536729 2.10742325553   0.0 <br>\n",
    "?65, 86.84, 54227.2571204 9.72396800542 9.6165816677 2.22070291525 2.12443501117   0.0<br>\n",
    "AT_O_20190403_000066, 86.86,  31539.8881478 10.1121943524 9.91162028618 2.24264123635 2.04075141788   0.0<br> \n",
    "\n",
    "AT_O_20190403_000067, 86.92, 29294.7502985 9.7799875292 9.70992331211 2.1707047694 2.2314911659   0.0  @ 632 nm <br>\n",
    "AT_O_20190403_000068, 86.92, 30692.693266 10.4100367967 10.2439172009 2.39368673584 2.42869283387   0.0 @ 532 nm <br>\n",
    "AT_O_20190403_000069, 86.92, 49439.235903 9.61762946836 9.78623937611 2.11873799437 2.25860610821   0.0 @ 732 nm <br>\n",
    "AT_O_20190403_000070, 86.92, 22329.9098714 10.1640712417 10.2179073827 3.16090407303 2.92798810201   0.0  @ 832 <br> # CHECK PEAK!\n",
    "AT_O_20190403_000071, 86.92, 14223.152027 10.1563920627 9.90674668135 2.09985503759 2.20372016625   0.0@ 939nm <br>\n",
    "AT_O_20190403_000072, 86.92, 18797.0589176 9.72130537745 9.92428398597 2.34364092035 2.45635093767   0.0 @ 432 nm <br>\n"
   ]
  },
  {
   "cell_type": "code",
   "execution_count": 381,
   "metadata": {},
   "outputs": [],
   "source": [
    "# magnification of the system is ~3.2, so 15um pinhole becomes 48um, which is a width of ~5 pixels\n",
    "# but it'll be resolved... 5 pixel wide top hat convolved with the diffraction limit (for a perfect system)\n",
    "# diffraction limit is 3.1 pixels FWHM. \n",
    "#The zemax model shows that we're not going to (easily) resolve the pinhole, so it'll basically\n",
    "# be a Gaussian. Moreover, we're definitely not using a perfect optical system so there's\n",
    "# aberrations that will certainly reduce our resolution. I expect to measure a Gaussian profile."
   ]
  },
  {
   "cell_type": "code",
   "execution_count": 239,
   "metadata": {},
   "outputs": [
    {
     "data": {
      "text/plain": [
       "10.533333333333335"
      ]
     },
     "execution_count": 239,
     "metadata": {},
     "output_type": "execute_result"
    }
   ],
   "source": [
    "632e-9*400/24. * 1e6"
   ]
  },
  {
   "cell_type": "code",
   "execution_count": 346,
   "metadata": {},
   "outputs": [
    {
     "data": {
      "text/plain": [
       "5.266666666666667"
      ]
     },
     "execution_count": 346,
     "metadata": {},
     "output_type": "execute_result"
    }
   ],
   "source": [
    "632/120"
   ]
  },
  {
   "cell_type": "code",
   "execution_count": 288,
   "metadata": {},
   "outputs": [],
   "source": [
    "# Make an encircled energy plot\n",
    "pix_index_1d_arr=np.arange(0,2*half_side,1)\n",
    "ones_array_2d=np.ones([2*half_side,2*half_side])\n",
    "#print(x_arr)\n",
    "#print(tmp)\n",
    "x_index_arr_2d=pix_index_1d_arr*ones_array_2d\n",
    "x_arr_2d=x_index_arr_2d - p.x_mean.value\n",
    "y_arr_2d= np.transpose(x_index_arr_2d) - p.y_mean.value\n",
    "# create array of radial distances (in pixels)\n",
    "r_arr_2d=np.sqrt(x_arr_2d**2 + y_arr_2d**2)"
   ]
  },
  {
   "cell_type": "code",
   "execution_count": 289,
   "metadata": {},
   "outputs": [],
   "source": [
    "if False:\n",
    "    plt.imshow(r_arr_2d)\n",
    "    plt.colorbar()"
   ]
  },
  {
   "cell_type": "code",
   "execution_count": 290,
   "metadata": {},
   "outputs": [],
   "source": [
    "r_arr_1d=np.reshape(r_arr_2d,(2*half_side)**2)\n",
    "values = np.reshape(z,(2*half_side)**2)"
   ]
  },
  {
   "cell_type": "code",
   "execution_count": 291,
   "metadata": {},
   "outputs": [
    {
     "data": {
      "image/png": "[encoded data removed]",
      "text/plain": [
       "<matplotlib.figure.Figure at 0x7efd7bdcc898>"
      ]
     },
     "metadata": {
      "needs_background": "light"
     },
     "output_type": "display_data"
    }
   ],
   "source": [
    "if True:\n",
    "    plt.ylabel('Intensity (ADU)')\n",
    "    plt.plot(r_arr_1d, values,'.')\n",
    "    plt.title('Radial PSF')\n",
    "    plt.xlabel('radius [pix]')\n",
    "    plt.show()\n",
    "    plt.close()"
   ]
  },
  {
   "cell_type": "code",
   "execution_count": null,
   "metadata": {},
   "outputs": [],
   "source": []
  }
 ],
 "metadata": {
  "kernelspec": {
   "display_name": "Python 3",
   "language": "python",
   "name": "python3"
  },
  "language_info": {
   "codemirror_mode": {
    "name": "ipython",
    "version": 3
   },
   "file_extension": ".py",
   "mimetype": "text/x-python",
   "name": "python",
   "nbconvert_exporter": "python",
   "pygments_lexer": "ipython3",
   "version": "3.6.6"
  }
 },
 "nbformat": 4,
 "nbformat_minor": 2
}
