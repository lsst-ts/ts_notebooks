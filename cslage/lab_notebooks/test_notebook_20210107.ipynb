{
 "cells": [
  {
   "cell_type": "code",
   "execution_count": 1,
   "metadata": {},
   "outputs": [],
   "source": [
    "import sys\n",
    "import asyncio\n",
    "import time\n",
    "\n",
    "import numpy as np\n",
    "\n",
    "from lsst.ts import salobj\n",
    "\n",
    "from lsst.ts.observatory.control.auxtel.atcs import ATCS\n",
    "from lsst.ts.observatory.control.auxtel.latiss import LATISS"
   ]
  },
  {
   "cell_type": "code",
   "execution_count": 2,
   "metadata": {},
   "outputs": [],
   "source": [
    "import logging\n",
    "stream_handler = logging.StreamHandler(sys.stdout)\n",
    "logger = logging.getLogger()\n",
    "logger.addHandler(stream_handler)\n",
    "logger.level = logging.DEBUG"
   ]
  },
  {
   "cell_type": "code",
   "execution_count": 3,
   "metadata": {
    "collapsed": true,
    "jupyter": {
     "outputs_hidden": true
    }
   },
   "outputs": [
    {
     "name": "stdout",
     "output_type": "stream",
     "text": [
      "atmcs: Adding all resources.\n",
      "atptg: Adding all resources.\n",
      "ataos: Adding all resources.\n",
      "atpneumatics: Adding all resources.\n",
      "athexapod: Adding all resources.\n",
      "atdome: Adding all resources.\n",
      "atdometrajectory: Adding all resources.\n",
      "atcamera: Adding all resources.\n",
      "atspectrograph: Adding all resources.\n",
      "atheaderservice: Adding all resources.\n",
      "atarchiver: Adding all resources.\n",
      "Read historical data in 0.11 sec\n",
      "Read 1 history items for RemoteEvent(ATDomeTrajectory, 0, authList)\n",
      "Read 100 history items for RemoteEvent(ATDomeTrajectory, 0, heartbeat)\n",
      "Read 1 history items for RemoteEvent(ATDomeTrajectory, 0, logLevel)\n",
      "Read 2 history items for RemoteEvent(ATDomeTrajectory, 0, logMessage)\n",
      "Read 1 history items for RemoteEvent(ATDomeTrajectory, 0, settingVersions)\n",
      "Read 1 history items for RemoteEvent(ATDomeTrajectory, 0, simulationMode)\n",
      "Read 1 history items for RemoteEvent(ATDomeTrajectory, 0, softwareVersions)\n",
      "Read 1 history items for RemoteEvent(ATDomeTrajectory, 0, summaryState)\n",
      "Read historical data in 0.15 sec\n",
      "Read 1 history items for RemoteEvent(ATHeaderService, 0, authList)\n",
      "Read 100 history items for RemoteEvent(ATHeaderService, 0, heartbeat)\n",
      "Read 1 history items for RemoteEvent(ATHeaderService, 0, logLevel)\n",
      "Read 53 history items for RemoteEvent(ATHeaderService, 0, logMessage)\n",
      "Read 1 history items for RemoteEvent(ATHeaderService, 0, simulationMode)\n",
      "Read 1 history items for RemoteEvent(ATHeaderService, 0, softwareVersions)\n",
      "Read 1 history items for RemoteEvent(ATHeaderService, 0, summaryState)\n",
      "Read historical data in 0.16 sec\n",
      "Read historical data in 0.16 sec\n",
      "Read 1 history items for RemoteEvent(ATHexapod, 0, appliedSettingsMatchStart)\n",
      "Read 1 history items for RemoteEvent(ATHexapod, 0, authList)\n",
      "Read 3 history items for RemoteEvent(ATHexapod, 0, detailedState)\n",
      "Read 1 history items for RemoteEvent(ATHexapod, 0, errorCode)\n",
      "Read 100 history items for RemoteEvent(ATHexapod, 0, heartbeat)\n",
      "Read 1 history items for RemoteEvent(ATHexapod, 0, logLevel)\n",
      "Read 52 history items for RemoteEvent(ATHexapod, 0, logMessage)\n",
      "Read 1 history items for RemoteEvent(ATHexapod, 0, positionUpdate)\n",
      "Read 1 history items for RemoteEvent(ATHexapod, 0, readyForCommand)\n",
      "Read 1 history items for RemoteEvent(ATHexapod, 0, settingVersions)\n",
      "Read 1 history items for RemoteEvent(ATHexapod, 0, settingsApplied)\n",
      "Read 1 history items for RemoteEvent(ATHexapod, 0, settingsAppliedPivot)\n",
      "Read 1 history items for RemoteEvent(ATHexapod, 0, settingsAppliedPositionLimits)\n",
      "Read 1 history items for RemoteEvent(ATHexapod, 0, settingsAppliedTcp)\n",
      "Read 1 history items for RemoteEvent(ATHexapod, 0, settingsAppliedVelocities)\n",
      "Read 1 history items for RemoteEvent(ATHexapod, 0, simulationMode)\n",
      "Read 1 history items for RemoteEvent(ATHexapod, 0, softwareVersions)\n",
      "Read 3 history items for RemoteEvent(ATHexapod, 0, summaryState)\n",
      "Read historical data in 0.20 sec\n",
      "Read 1 history items for RemoteEvent(ATSpectrograph, 0, authList)\n",
      "Read 100 history items for RemoteEvent(ATSpectrograph, 0, heartbeat)\n",
      "Read 1 history items for RemoteEvent(ATSpectrograph, 0, logLevel)\n",
      "Read 1 history items for RemoteEvent(ATSpectrograph, 0, logMessage)\n",
      "Read 1 history items for RemoteEvent(ATSpectrograph, 0, settingVersions)\n",
      "Read 1 history items for RemoteEvent(ATSpectrograph, 0, simulationMode)\n",
      "Read 1 history items for RemoteEvent(ATSpectrograph, 0, softwareVersions)\n",
      "Read 1 history items for RemoteEvent(ATSpectrograph, 0, summaryState)\n",
      "Read historical data in 0.22 sec\n",
      "Read 1 history items for RemoteEvent(ATPneumatics, 0, appliedSettingsMatchStart)\n",
      "Read 1 history items for RemoteEvent(ATPneumatics, 0, cellVentsState)\n",
      "Read 100 history items for RemoteEvent(ATPneumatics, 0, heartbeat)\n",
      "Read 1 history items for RemoteEvent(ATPneumatics, 0, instrumentState)\n",
      "Read 1 history items for RemoteEvent(ATPneumatics, 0, m1CoverState)\n",
      "Read 1 history items for RemoteEvent(ATPneumatics, 0, m1State)\n",
      "Read 1 history items for RemoteEvent(ATPneumatics, 0, m1VentsPosition)\n",
      "Read 1 history items for RemoteEvent(ATPneumatics, 0, m2State)\n",
      "Read 1 history items for RemoteEvent(ATPneumatics, 0, mainValveState)\n",
      "Read 1 history items for RemoteEvent(ATPneumatics, 0, settingVersions)\n",
      "Read 2 history items for RemoteEvent(ATPneumatics, 0, summaryState)\n",
      "Read historical data in 0.23 sec\n",
      "Read 1 history items for RemoteEvent(ATDome, 0, authList)\n",
      "Read 1 history items for RemoteEvent(ATDome, 0, azimuthCommandedState)\n",
      "Read 1 history items for RemoteEvent(ATDome, 0, dropoutDoorCommandedState)\n",
      "Read 100 history items for RemoteEvent(ATDome, 0, heartbeat)\n",
      "Read 1 history items for RemoteEvent(ATDome, 0, logLevel)\n",
      "Read 1 history items for RemoteEvent(ATDome, 0, logMessage)\n",
      "Read 1 history items for RemoteEvent(ATDome, 0, mainDoorCommandedState)\n",
      "Read 1 history items for RemoteEvent(ATDome, 0, settingVersions)\n",
      "Read 1 history items for RemoteEvent(ATDome, 0, simulationMode)\n",
      "Read 1 history items for RemoteEvent(ATDome, 0, softwareVersions)\n",
      "Read 1 history items for RemoteEvent(ATDome, 0, summaryState)\n",
      "Read historical data in 0.24 sec\n",
      "Read 1 history items for RemoteEvent(ATAOS, 0, appliedSettingsMatchStart)\n",
      "Read 1 history items for RemoteEvent(ATAOS, 0, authList)\n",
      "Read 1 history items for RemoteEvent(ATAOS, 0, correctionOffsets)\n",
      "Read 1 history items for RemoteEvent(ATAOS, 0, focusOffsetSummary)\n",
      "Read 100 history items for RemoteEvent(ATAOS, 0, heartbeat)\n",
      "Read 1 history items for RemoteEvent(ATAOS, 0, logLevel)\n",
      "Read 8 history items for RemoteEvent(ATAOS, 0, logMessage)\n",
      "Read 1 history items for RemoteEvent(ATAOS, 0, settingVersions)\n",
      "Read 1 history items for RemoteEvent(ATAOS, 0, settingsApplied)\n",
      "Read 1 history items for RemoteEvent(ATAOS, 0, simulationMode)\n",
      "Read 1 history items for RemoteEvent(ATAOS, 0, softwareVersions)\n",
      "Read 3 history items for RemoteEvent(ATAOS, 0, summaryState)\n",
      "Read historical data in 0.27 sec\n",
      "Read 1 history items for RemoteEvent(ATMCS, 0, appliedSettingsMatchStart)\n",
      "Read 2 history items for RemoteEvent(ATMCS, 0, atMountState)\n",
      "Read 1 history items for RemoteEvent(ATMCS, 0, azimuthBrake1)\n",
      "Read 1 history items for RemoteEvent(ATMCS, 0, azimuthBrake2)\n",
      "Read 1 history items for RemoteEvent(ATMCS, 0, azimuthDrive1Status)\n",
      "Read 1 history items for RemoteEvent(ATMCS, 0, azimuthDrive2Status)\n",
      "Read 1 history items for RemoteEvent(ATMCS, 0, elevationBrake)\n",
      "Read 1 history items for RemoteEvent(ATMCS, 0, elevationDriveStatus)\n",
      "Read 100 history items for RemoteEvent(ATMCS, 0, heartbeat)\n",
      "Read 2 history items for RemoteEvent(ATMCS, 0, m3State)\n",
      "Read 1 history items for RemoteEvent(ATMCS, 0, nasmyth1Brake)\n",
      "Read 1 history items for RemoteEvent(ATMCS, 0, nasmyth1DriveStatus)\n",
      "Read 2 history items for RemoteEvent(ATMCS, 0, nasmyth2Brake)\n",
      "Read 2 history items for RemoteEvent(ATMCS, 0, nasmyth2DriveStatus)\n",
      "Read 1 history items for RemoteEvent(ATMCS, 0, nasmyth2LimitSwitchCCW)\n",
      "Read 1 history items for RemoteEvent(ATMCS, 0, nasmyth2LimitSwitchCW)\n",
      "Read 1 history items for RemoteEvent(ATMCS, 0, positionLimits)\n",
      "Read 1 history items for RemoteEvent(ATMCS, 0, settingVersions)\n",
      "Read 2 history items for RemoteEvent(ATMCS, 0, summaryState)\n",
      "Read historical data in 0.29 sec\n",
      "Read historical data in 0.30 sec\n",
      "Read 1 history items for RemoteEvent(ATPtg, 0, airmassWarning)\n",
      "Read 1 history items for RemoteEvent(ATPtg, 0, azWrapWarning)\n",
      "Read 2 history items for RemoteEvent(ATPtg, 0, currentDebugLevel)\n",
      "Read 1 history items for RemoteEvent(ATPtg, 0, detailedState)\n",
      "Read 1 history items for RemoteEvent(ATPtg, 0, elLimitWarning)\n",
      "Read 1 history items for RemoteEvent(ATPtg, 0, errorCode)\n",
      "Read 1 history items for RemoteEvent(ATPtg, 0, focusNameInconsistentWarning)\n",
      "Read 1 history items for RemoteEvent(ATPtg, 0, focusNameSelected)\n",
      "Read 100 history items for RemoteEvent(ATPtg, 0, heartbeat)\n",
      "Read 2 history items for RemoteEvent(ATPtg, 0, iers)\n",
      "Read 3 history items for RemoteEvent(ATPtg, 0, iersOutOfDate)\n",
      "Read 1 history items for RemoteEvent(ATPtg, 0, moonProximityWarning)\n",
      "Read 2 history items for RemoteEvent(ATPtg, 0, mountDataWarning)\n",
      "Read 1 history items for RemoteEvent(ATPtg, 0, objectSetWarning)\n",
      "Read 1 history items for RemoteEvent(ATPtg, 0, pointingModel)\n",
      "Read 1 history items for RemoteEvent(ATPtg, 0, pointing_file)\n",
      "Read 1 history items for RemoteEvent(ATPtg, 0, ptgAzCurrentWrap)\n",
      "Read 1 history items for RemoteEvent(ATPtg, 0, ptgRotCurrentWrap)\n",
      "Read 1 history items for RemoteEvent(ATPtg, 0, rotWrapWarning)\n",
      "Read 3 history items for RemoteEvent(ATPtg, 0, summaryState)\n",
      "Read 1 history items for RemoteEvent(ATPtg, 0, sunProximityWarning)\n",
      "Read 1 history items for RemoteEvent(ATPtg, 0, timesOfLimits)\n",
      "Read 1 history items for RemoteEvent(ATPtg, 0, trackPosting)\n",
      "Read 1 history items for RemoteEvent(ATPtg, 0, wavelength)\n",
      "Read 92 history items for RemoteEvent(ATPtg, 0, weatherDataApplied)\n",
      "Read 30 history items for RemoteEvent(ATPtg, 0, weatherDataInvalid)\n",
      "mainAirSourcePressure DDS read queue is filling: 12 of 100 elements\n",
      "m2AirPressure DDS read queue is filling: 12 of 100 elements\n",
      "m1AirPressure DDS read queue is filling: 12 of 100 elements\n",
      "timeAndDate DDS read queue is filling: 83 of 100 elements\n",
      "loadCell DDS read queue is filling: 13 of 100 elements\n"
     ]
    },
    {
     "data": {
      "text/plain": [
       "[[None, None, None, None, None, None, None], [None, None, None, None]]"
      ]
     },
     "execution_count": 3,
     "metadata": {},
     "output_type": "execute_result"
    },
    {
     "name": "stdout",
     "output_type": "stream",
     "text": [
      "trajectory DDS read queue is filling: 22 of 100 elements\n",
      "mount_positions DDS read queue is filling: 16 of 100 elements\n",
      "mountStatus DDS read queue is filling: 85 of 100 elements\n",
      "torqueDemand DDS read queue is filling: 22 of 100 elements\n"
     ]
    }
   ],
   "source": [
    "#get classes and start them\n",
    "domain = salobj.Domain()\n",
    "atcs = ATCS(domain)\n",
    "latiss = LATISS(domain)\n",
    "await asyncio.gather(atcs.start_task, latiss.start_task)"
   ]
  },
  {
   "cell_type": "code",
   "execution_count": null,
   "metadata": {},
   "outputs": [],
   "source": []
  },
  {
   "cell_type": "code",
   "execution_count": 7,
   "metadata": {},
   "outputs": [
    {
     "name": "stdout",
     "output_type": "stream",
     "text": [
      "State.ENABLED\n"
     ]
    }
   ],
   "source": [
    "tmp = atcs.rem.atptg.evt_summaryState.get()\n",
    "print(salobj.State(tmp.summaryState))"
   ]
  },
  {
   "cell_type": "code",
   "execution_count": 8,
   "metadata": {},
   "outputs": [
    {
     "name": "stdout",
     "output_type": "stream",
     "text": [
      "private_revCode: dbcd5775, private_sndStamp: 1608320829.5090568, private_rcvStamp: 1608320829.5093825, private_seqNum: 73354, private_identity: ATPtg, private_origin: 31313, private_host: 1, heartbeat: True, priority: 10\n"
     ]
    }
   ],
   "source": [
    "tmp = atcs.rem.atptg.evt_heartbeat.get()\n",
    "print(tmp)"
   ]
  },
  {
   "cell_type": "code",
   "execution_count": 9,
   "metadata": {},
   "outputs": [
    {
     "name": "stdout",
     "output_type": "stream",
     "text": [
      "private_revCode: 22bcf3c9, private_sndStamp: 1608320830.6649725, private_rcvStamp: 1608320830.665649, private_seqNum: 73229, private_identity: ATHeaderService, private_origin: 39847, private_host: 0, heartbeat: False, priority: 0\n"
     ]
    }
   ],
   "source": [
    "tmp = await latiss.rem.atheaderservice.evt_heartbeat.next(flush=True)\n",
    "print(tmp)"
   ]
  },
  {
   "cell_type": "code",
   "execution_count": null,
   "metadata": {},
   "outputs": [],
   "source": [
    "tmp = latiss.rem.atarchiver.evt_heartbeat.get()\n",
    "print(tmp)"
   ]
  },
  {
   "cell_type": "code",
   "execution_count": 27,
   "metadata": {},
   "outputs": [
    {
     "name": "stdout",
     "output_type": "stream",
     "text": [
      "Enabling all components\n",
      "Gathering settings.\n",
      "atdome check is disabled, skipping.\n",
      "atdometrajectory check is disabled, skipping.\n",
      "Couldn't get settingVersions event. Using empty settings.\n",
      "Complete settings for atmcs.\n",
      "Complete settings for atptg.\n",
      "Complete settings for ataos.\n",
      "Complete settings for atpneumatics.\n",
      "Complete settings for athexapod.\n",
      "Settings versions: {'atmcs': '                                                                                                                               ', 'atptg': '', 'ataos': 'current', 'atpneumatics': '                                                                                                                               ', 'athexapod': 'summit'}\n",
      "[atmcs]::[<State.ENABLED: 2>]\n",
      "[atptg]::[<State.ENABLED: 2>]\n",
      "[ataos]::[<State.ENABLED: 2>]\n",
      "[atpneumatics]::[<State.ENABLED: 2>]\n",
      "[athexapod]::[<State.ENABLED: 2>]\n",
      "[atdome]::<State.STANDBY: 5>\n",
      "[atdometrajectory]::<State.STANDBY: 5>\n",
      "All components in <State.ENABLED: 2>.\n"
     ]
    }
   ],
   "source": [
    "# enable components\n",
    "await atcs.enable()\n",
    "#await latiss.enable()"
   ]
  },
  {
   "cell_type": "code",
   "execution_count": 29,
   "metadata": {},
   "outputs": [
    {
     "data": {
      "text/plain": [
       "[<State.FAULT: 3>, <State.STANDBY: 5>, <State.DISABLED: 1>, <State.ENABLED: 2>]"
      ]
     },
     "execution_count": 29,
     "metadata": {},
     "output_type": "execute_result"
    }
   ],
   "source": [
    "await salobj.set_summary_state(atcs.rem.atdome, salobj.State.ENABLED, settingsToApply='test')"
   ]
  },
  {
   "cell_type": "code",
   "execution_count": 35,
   "metadata": {},
   "outputs": [
    {
     "data": {
      "text/plain": [
       "[<State.STANDBY: 5>, <State.DISABLED: 1>, <State.ENABLED: 2>]"
      ]
     },
     "execution_count": 35,
     "metadata": {},
     "output_type": "execute_result"
    }
   ],
   "source": [
    "await salobj.set_summary_state(atcs.rem.atdometrajectory, salobj.State.ENABLED)"
   ]
  },
  {
   "cell_type": "code",
   "execution_count": 34,
   "metadata": {},
   "outputs": [
    {
     "data": {
      "text/plain": [
       "<ddsutil.ATDome_ackcmd_ec56b694 at 0x7fb3805fd110>"
      ]
     },
     "execution_count": 34,
     "metadata": {},
     "output_type": "execute_result"
    }
   ],
   "source": [
    "#await atcs.rem.atdome.cmd_homeAzimuth.start()"
   ]
  },
  {
   "cell_type": "code",
   "execution_count": 22,
   "metadata": {},
   "outputs": [
    {
     "name": "stdout",
     "output_type": "stream",
     "text": [
      "private_revCode: ed64c3bf, private_sndStamp: 1608321339.3179142, private_rcvStamp: 1608321339.3183873, private_seqNum: 1943004291, private_identity: ATHexapod, private_origin: 87578, private_host: 0, ack: 303, error: 0, result: Done, host: 0, identity: patrickingraham@nb-patrickingraham-w-2020-50, origin: 11065, cmdtype: 15, timeout: 0.0\n"
     ]
    }
   ],
   "source": [
    "tmp=await atcs.rem.athexapod.cmd_start.set_start(settingsToApply='summit')\n",
    "print(tmp)"
   ]
  },
  {
   "cell_type": "code",
   "execution_count": 23,
   "metadata": {},
   "outputs": [
    {
     "name": "stdout",
     "output_type": "stream",
     "text": [
      "private_revCode: ed64c3bf, private_sndStamp: 1608321358.2649398, private_rcvStamp: 1608321358.2653506, private_seqNum: 621046481, private_identity: ATHexapod, private_origin: 87578, private_host: 0, ack: 303, error: 0, result: Done, host: 0, identity: patrickingraham@nb-patrickingraham-w-2020-50, origin: 11065, cmdtype: 5, timeout: 0.0\n"
     ]
    }
   ],
   "source": [
    "tmp=await atcs.rem.athexapod.cmd_enable.start()\n",
    "print(tmp)"
   ]
  },
  {
   "cell_type": "code",
   "execution_count": 31,
   "metadata": {},
   "outputs": [],
   "source": [
    "# take event checking out the slew commands to test telescope only\n",
    "atcs.check.atdome = True\n",
    "atcs.check.atdometrajectory = True"
   ]
  },
  {
   "cell_type": "code",
   "execution_count": 36,
   "metadata": {},
   "outputs": [
    {
     "name": "stdout",
     "output_type": "stream",
     "text": [
      "Sending command\n",
      "Stop tracking.\n",
      "Scheduling check coroutines\n",
      "process as completed...\n",
      "atmcs: <State.ENABLED: 2>\n",
      "atptg: <State.ENABLED: 2>\n",
      "ataos: <State.ENABLED: 2>\n",
      "atpneumatics: <State.ENABLED: 2>\n",
      "athexapod: <State.ENABLED: 2>\n",
      "atdome: <State.ENABLED: 2>\n",
      "atdometrajectory: <State.ENABLED: 2>\n",
      "[Telescope] delta Alt = +001.998 deg; delta Az = -020.000 deg; delta N1 = -018.000 deg; delta N2 = +000.000 deg [Dome] delta Az = -017.010 deg\n",
      "[Telescope] delta Alt = +001.787 deg; delta Az = -019.952 deg; delta N1 = -017.717 deg; delta N2 = -000.000 deg [Dome] delta Az = -015.670 deg\n",
      "[Telescope] delta Alt = -000.000 deg; delta Az = -018.371 deg; delta N1 = -015.012 deg; delta N2 = -000.000 deg [Dome] delta Az = -012.240 deg\n",
      "[Telescope] delta Alt = -000.000 deg; delta Az = -014.058 deg; delta N1 = -009.712 deg; delta N2 = -000.000 deg [Dome] delta Az = -007.120 deg\n",
      "[Telescope] delta Alt = +000.000 deg; delta Az = -008.202 deg; delta N1 = -005.798 deg; delta N2 = +000.000 deg [Dome] delta Az = -002.850 deg\n",
      "ATDome in position.\n",
      "[Telescope] delta Alt = +000.000 deg; delta Az = -004.550 deg; delta N1 = -001.422 deg; delta N2 = -000.000 deg [Dome] delta Az = -000.560 deg\n",
      "[Telescope] delta Alt = +000.000 deg; delta Az = -000.939 deg; delta N1 = -000.017 deg; delta N2 = -000.000 deg [Dome] delta Az = -000.250 deg\n",
      "[Telescope] delta Alt = +000.000 deg; delta Az = -000.005 deg; delta N1 = +000.001 deg; delta N2 = -000.000 deg [Dome] delta Az = -000.250 deg\n",
      "[Telescope] delta Alt = +000.000 deg; delta Az = +000.000 deg; delta N1 = +000.000 deg; delta N2 = +000.000 deg [Dome] delta Az = -000.250 deg\n",
      "Axes in position.\n"
     ]
    }
   ],
   "source": [
    "start_az=200\n",
    "start_el=55\n",
    "start_rot_pa=1\n",
    "await atcs.point_azel(start_az, start_el, rot_tel=start_rot_pa, wait_dome=True)"
   ]
  },
  {
   "cell_type": "code",
   "execution_count": null,
   "metadata": {},
   "outputs": [],
   "source": [
    "# Perform Rotator verification (LTS-337-003)True"
   ]
  },
  {
   "cell_type": "code",
   "execution_count": null,
   "metadata": {},
   "outputs": [],
   "source": []
  },
  {
   "cell_type": "code",
   "execution_count": null,
   "metadata": {},
   "outputs": [],
   "source": [
    "await attcs.stop_tracking()"
   ]
  },
  {
   "cell_type": "code",
   "execution_count": null,
   "metadata": {},
   "outputs": [],
   "source": [
    "start_az=165.5\n",
    "start_el=67.9\n",
    "start_rot_pa=-170\n",
    "await attcs.point_azel(start_az, start_el, rot_pa=start_rot_pa, wait_dome=True)"
   ]
  },
  {
   "cell_type": "code",
   "execution_count": null,
   "metadata": {},
   "outputs": [],
   "source": [
    "start_az=165.5\n",
    "start_el=67.9\n",
    "start_rot_pa=170\n",
    "\n",
    "start_time =time.time()\n",
    "await attcs.point_azel(start_az, start_el, rot_pa=start_rot_pa, wait_dome=True)\n",
    "end_time = time.time()\n",
    "print(f'Time to perform {170*2} degree rotation of N2 is {end_time-start_time} seconds')"
   ]
  },
  {
   "cell_type": "code",
   "execution_count": null,
   "metadata": {},
   "outputs": [],
   "source": []
  },
  {
   "cell_type": "code",
   "execution_count": null,
   "metadata": {},
   "outputs": [],
   "source": [
    "# send telescope to alt/az/\n",
    "#await salobj.set_summary_state(latiss.atcamera, salobj.State.ENABLED)"
   ]
  },
  {
   "cell_type": "code",
   "execution_count": null,
   "metadata": {},
   "outputs": [],
   "source": [
    "# point telescope to desired starting position\n",
    "# this make take extra time as more checks are performed\n",
    "start_az=50\n",
    "start_el=20\n",
    "start_rot_pa=0\n",
    "await attcs.point_azel(start_az, start_el, rot_pa=start_rot_pa, wait_dome=True)"
   ]
  },
  {
   "cell_type": "code",
   "execution_count": null,
   "metadata": {},
   "outputs": [],
   "source": [
    "#declare offset size\n",
    "d_az= 3.5 # degrees\n",
    "d_el = 3.5 # degrees\n",
    "d_rot= 3.5 # degrees\n",
    "\n",
    "d_az= 10 # degrees\n",
    "d_el = 10 # degrees\n",
    "d_rot= 10 # degrees\n",
    "\n",
    "d_az= 90 # degrees\n",
    "d_el = 60 # degrees\n",
    "d_rot= 90 # degrees"
   ]
  },
  {
   "cell_type": "code",
   "execution_count": null,
   "metadata": {},
   "outputs": [],
   "source": [
    "from astropy.time import Time\n",
    "from astropy.coordinates import AltAz, ICRS, EarthLocation, Angle, FK5\n",
    "import astropy.units as u\n",
    "location = EarthLocation.from_geodetic(lon=-70.747698*u.deg,\n",
    "                                       lat=-30.244728*u.deg,\n",
    "                                       height=2663.0*u.m)"
   ]
  },
  {
   "cell_type": "code",
   "execution_count": null,
   "metadata": {},
   "outputs": [],
   "source": [
    "# get RA/DEC of current position\n",
    "az = Angle(start_az, unit=u.deg)\n",
    "el = Angle(start_el, unit=u.deg)\n",
    "print(f'orig az {az} and el {el}')\n",
    "time_data = await attcs.atptg.tel_timeAndDate.next(flush=True, timeout=2)\n",
    "curr_time_atptg = Time(time_data.tai, format=\"mjd\", scale=\"tai\")\n",
    "#print(curr_time_atptg)\n",
    "coord_frame_AltAz = AltAz(location=location, obstime=curr_time_atptg)\n",
    "coord_frame_radec = ICRS()\n",
    "coord_azel = AltAz(az=az, alt=el, location=location, obstime=curr_time_atptg)\n",
    "ra_dec = coord_azel.transform_to(coord_frame_radec)\n",
    "print('Current Position is: \\n {}'.format(coord_azel))\n",
    "print('Current Position is: \\n {}'.format(ra_dec))\n",
    "\n",
    "# get RA/DEC of target position\n",
    "az = Angle(start_az+d_az, unit=u.deg)\n",
    "el = Angle(start_el+d_el, unit=u.deg)\n",
    "print(f'target az {az} and el {el}')\n",
    "coord_azel_target = AltAz(az=az, alt=el, location=location, obstime=curr_time_atptg)\n",
    "ra_dec_target = coord_azel_target.transform_to(coord_frame_radec)\n",
    "print('Target Position is: \\n {}'.format(coord_azel_target))\n",
    "print('Target Position is: \\n {}'.format(ra_dec_target))\n"
   ]
  },
  {
   "cell_type": "code",
   "execution_count": null,
   "metadata": {},
   "outputs": [],
   "source": []
  },
  {
   "cell_type": "code",
   "execution_count": null,
   "metadata": {},
   "outputs": [],
   "source": [
    "# Why does doing no slew at all take ~32.7 sec?\n",
    "\n",
    "#send to starting position\n",
    "await attcs.slew_icrs(ra=str(ra_dec.ra), dec=str(ra_dec.dec), rot_pa=0.0, slew_timeout=240., stop_before_slew=True)\n",
    "\n",
    "\n",
    "print('track for 2s')\n",
    "await asyncio.sleep(2)\n",
    "# take a quick image\n",
    "await latiss.take_engtest(exptime=1)\n",
    "\n",
    "print('Starting to Slew to target')\n",
    "start_time = time.time()\n",
    "await attcs.slew_icrs(ra=str(ra_dec_target.ra), dec=str(ra_dec_target.dec), rot_pa=d_rot, slew_timeout=240., stop_before_slew=False, wait_settle=False)\n",
    "end_time = time.time()\n",
    "print('Time to slew is {} [s]'.format(end_time-start_time))\n",
    "await latiss.take_engtest(exptime=1)"
   ]
  },
  {
   "cell_type": "code",
   "execution_count": null,
   "metadata": {},
   "outputs": [],
   "source": [
    "await attcs.stop_tracking()"
   ]
  },
  {
   "cell_type": "code",
   "execution_count": null,
   "metadata": {},
   "outputs": [],
   "source": []
  },
  {
   "cell_type": "code",
   "execution_count": null,
   "metadata": {},
   "outputs": [],
   "source": []
  },
  {
   "cell_type": "code",
   "execution_count": null,
   "metadata": {},
   "outputs": [],
   "source": []
  },
  {
   "cell_type": "code",
   "execution_count": null,
   "metadata": {},
   "outputs": [],
   "source": [
    "# Perform tracking test by taking continous 20s exposures\n",
    "#await attcs.slew_object('HD 167060')\n",
    "await attcs.slew_object('WD 1327-083')"
   ]
  },
  {
   "cell_type": "code",
   "execution_count": null,
   "metadata": {},
   "outputs": [],
   "source": [
    "await latiss.take_object(exptime=15, grating='empty_1', filter='RG610')"
   ]
  },
  {
   "cell_type": "code",
   "execution_count": null,
   "metadata": {},
   "outputs": [],
   "source": [
    "await latiss.take_object(exptime=15, grating='ronchi90lpmm', filter='empty_1')"
   ]
  },
  {
   "cell_type": "code",
   "execution_count": null,
   "metadata": {},
   "outputs": [],
   "source": [
    "while True:\n",
    "    await latiss.take_object(exptime=15, grating='empty_1', filter='RG610')\n",
    "    await latiss.take_object(exptime=15, grating='ronchi90lpmm', filter='empty_1')"
   ]
  },
  {
   "cell_type": "code",
   "execution_count": null,
   "metadata": {},
   "outputs": [],
   "source": [
    "# stopped tracking elsewhere, then reslewed\n",
    "await attcs.slew_object('HD 59468')"
   ]
  },
  {
   "cell_type": "code",
   "execution_count": null,
   "metadata": {},
   "outputs": [],
   "source": [
    "# OFFSET  AZ/EL\n",
    "await attcs.offset_azel(az=-10*60*60, el=0)"
   ]
  },
  {
   "cell_type": "code",
   "execution_count": null,
   "metadata": {},
   "outputs": [],
   "source": []
  },
  {
   "cell_type": "code",
   "execution_count": null,
   "metadata": {},
   "outputs": [],
   "source": [
    "# again\n",
    "await attcs.offset_azel(az=-20*60*60, el=0)"
   ]
  },
  {
   "cell_type": "code",
   "execution_count": null,
   "metadata": {},
   "outputs": [],
   "source": [
    "# OFFSET  AZ/EL\n",
    "await attcs.offset_azel(az=-10*60*60, el=0)"
   ]
  },
  {
   "cell_type": "code",
   "execution_count": null,
   "metadata": {},
   "outputs": [],
   "source": [
    "# OFFSET  AZ/EL\n",
    "await attcs.offset_azel(az=-5*60*60, el=0)\n",
    "await attcs.offset_azel(az=-2*60*60, el=0)\n",
    "await attcs.offset_azel(az=0, el=0)"
   ]
  },
  {
   "cell_type": "code",
   "execution_count": null,
   "metadata": {},
   "outputs": [],
   "source": [
    "while True:\n",
    "    await latiss.take_object(exptime=15, grating='empty_1', filter='RG610')\n",
    "    await latiss.take_object(exptime=15, grating='ronchi90lpmm', filter='empty_1')\n",
    "    "
   ]
  },
  {
   "cell_type": "code",
   "execution_count": null,
   "metadata": {},
   "outputs": [],
   "source": [
    "await latiss.take_bias(nbias=1)"
   ]
  },
  {
   "cell_type": "code",
   "execution_count": null,
   "metadata": {},
   "outputs": [],
   "source": [
    "#await attcs.startup()"
   ]
  },
  {
   "cell_type": "code",
   "execution_count": null,
   "metadata": {},
   "outputs": [],
   "source": [
    "await latiss.enable()"
   ]
  },
  {
   "cell_type": "code",
   "execution_count": null,
   "metadata": {},
   "outputs": [],
   "source": []
  }
 ],
 "metadata": {
  "kernelspec": {
   "display_name": "LSST",
   "language": "python",
   "name": "lsst"
  },
  "language_info": {
   "codemirror_mode": {
    "name": "ipython",
    "version": 3
   },
   "file_extension": ".py",
   "mimetype": "text/x-python",
   "name": "python",
   "nbconvert_exporter": "python",
   "pygments_lexer": "ipython3",
   "version": "3.7.8"
  }
 },
 "nbformat": 4,
 "nbformat_minor": 4
}
