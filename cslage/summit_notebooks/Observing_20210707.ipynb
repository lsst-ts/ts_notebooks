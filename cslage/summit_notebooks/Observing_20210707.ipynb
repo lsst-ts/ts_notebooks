{
 "cells": [
  {
   "cell_type": "markdown",
   "metadata": {},
   "source": [
    "# General Observing"
   ]
  },
  {
   "cell_type": "markdown",
   "metadata": {},
   "source": [
    "This notebook is used for general observing with the Auxiliary Telescope.\n",
    "\n",
    "Craig Lage - 25-May-21"
   ]
  },
  {
   "cell_type": "code",
   "execution_count": 1,
   "metadata": {},
   "outputs": [],
   "source": [
    "import sys\n",
    "import asyncio\n",
    "import time\n",
    "import os\n",
    "import numpy as np\n",
    "\n",
    "from lsst.ts import salobj\n",
    "from lsst.ts.observatory.control.auxtel.atcs import ATCS\n",
    "from lsst.ts.observatory.control.auxtel.latiss import LATISS\n",
    "from lsst.ts.observatory.control.utils import RotType"
   ]
  },
  {
   "cell_type": "code",
   "execution_count": 2,
   "metadata": {},
   "outputs": [],
   "source": [
    "# for tab completion to work in current notebook instance\n",
    "%config IPCompleter.use_jedi = False"
   ]
  },
  {
   "cell_type": "code",
   "execution_count": 3,
   "metadata": {},
   "outputs": [],
   "source": [
    "import logging\n",
    "stream_handler = logging.StreamHandler(sys.stdout)\n",
    "logger = logging.getLogger()\n",
    "logger.addHandler(stream_handler)\n",
    "logger.level = logging.DEBUG\n",
    "# Make matplotlib less chatty\n",
    "logging.getLogger(\"matplotlib\").setLevel(logging.WARNING)"
   ]
  },
  {
   "cell_type": "code",
   "execution_count": 4,
   "metadata": {
    "collapsed": true,
    "jupyter": {
     "outputs_hidden": true
    }
   },
   "outputs": [
    {
     "name": "stdout",
     "output_type": "stream",
     "text": [
      "atmcs: Adding all resources.\n",
      "atptg: Adding all resources.\n",
      "ataos: Adding all resources.\n",
      "atpneumatics: Adding all resources.\n",
      "athexapod: Adding all resources.\n",
      "atdome: Adding all resources.\n",
      "atdometrajectory: Adding all resources.\n",
      "atcamera: Adding all resources.\n",
      "atspectrograph: Adding all resources.\n",
      "atheaderservice: Adding all resources.\n",
      "atarchiver: Adding all resources.\n",
      "Read historical data in 0.02 sec\n",
      "Read 1 history items for RemoteEvent(ATDomeTrajectory, 0, algorithm)\n",
      "Read 2 history items for RemoteEvent(ATDomeTrajectory, 0, appliedSettingsMatchStart)\n",
      "Read 1 history items for RemoteEvent(ATDomeTrajectory, 0, authList)\n",
      "Read 7 history items for RemoteEvent(ATDomeTrajectory, 0, followingMode)\n",
      "Read 100 history items for RemoteEvent(ATDomeTrajectory, 0, heartbeat)\n",
      "Read 1 history items for RemoteEvent(ATDomeTrajectory, 0, logLevel)\n",
      "Read 33 history items for RemoteEvent(ATDomeTrajectory, 0, logMessage)\n",
      "Read 1 history items for RemoteEvent(ATDomeTrajectory, 0, settingVersions)\n",
      "Read 1 history items for RemoteEvent(ATDomeTrajectory, 0, settingsApplied)\n",
      "Read 1 history items for RemoteEvent(ATDomeTrajectory, 0, simulationMode)\n",
      "Read 1 history items for RemoteEvent(ATDomeTrajectory, 0, softwareVersions)\n",
      "Read 9 history items for RemoteEvent(ATDomeTrajectory, 0, summaryState)\n",
      "Read historical data in 0.07 sec\n",
      "Read 4 history items for RemoteEvent(ATSpectrograph, 0, appliedSettingsMatchStart)\n",
      "Read 1 history items for RemoteEvent(ATSpectrograph, 0, authList)\n",
      "Read 100 history items for RemoteEvent(ATSpectrograph, 0, disperserInPosition)\n",
      "Read 100 history items for RemoteEvent(ATSpectrograph, 0, filterInPosition)\n",
      "Read 1 history items for RemoteEvent(ATSpectrograph, 0, fwState)\n",
      "Read 7 history items for RemoteEvent(ATSpectrograph, 0, gwState)\n",
      "Read 100 history items for RemoteEvent(ATSpectrograph, 0, heartbeat)\n",
      "Read 1 history items for RemoteEvent(ATSpectrograph, 0, logLevel)\n",
      "Read 1 history items for RemoteEvent(ATSpectrograph, 0, logMessage)\n",
      "Read 100 history items for RemoteEvent(ATSpectrograph, 0, reportedDisperserPosition)\n",
      "Read 100 history items for RemoteEvent(ATSpectrograph, 0, reportedFilterPosition)\n",
      "Read 1 history items for RemoteEvent(ATSpectrograph, 0, reportedLinearStagePosition)\n",
      "Read 1 history items for RemoteEvent(ATSpectrograph, 0, settingVersions)\n",
      "Read 1 history items for RemoteEvent(ATSpectrograph, 0, settingsApplied)\n",
      "Read 1 history items for RemoteEvent(ATSpectrograph, 0, settingsAppliedValues)\n",
      "Read 1 history items for RemoteEvent(ATSpectrograph, 0, simulationMode)\n",
      "Read 1 history items for RemoteEvent(ATSpectrograph, 0, softwareVersions)\n",
      "Read 17 history items for RemoteEvent(ATSpectrograph, 0, summaryState)\n",
      "Read historical data in 0.10 sec\n",
      "Read 2 history items for RemoteEvent(ATAOS, 0, appliedSettingsMatchStart)\n",
      "Read 100 history items for RemoteEvent(ATAOS, 0, atspectrographCorrectionCompleted)\n",
      "Read 100 history items for RemoteEvent(ATAOS, 0, atspectrographCorrectionStarted)\n",
      "Read 1 history items for RemoteEvent(ATAOS, 0, authList)\n",
      "Read 2 history items for RemoteEvent(ATAOS, 0, correctionEnabled)\n",
      "Read 100 history items for RemoteEvent(ATAOS, 0, correctionOffsets)\n",
      "Read 100 history items for RemoteEvent(ATAOS, 0, detailedState)\n",
      "Read 100 history items for RemoteEvent(ATAOS, 0, focusOffsetSummary)\n",
      "Read 100 history items for RemoteEvent(ATAOS, 0, heartbeat)\n",
      "Read 100 history items for RemoteEvent(ATAOS, 0, hexapodCorrectionCompleted)\n",
      "Read 100 history items for RemoteEvent(ATAOS, 0, hexapodCorrectionStarted)\n",
      "Read 1 history items for RemoteEvent(ATAOS, 0, logLevel)\n",
      "Read 100 history items for RemoteEvent(ATAOS, 0, logMessage)\n",
      "Read 100 history items for RemoteEvent(ATAOS, 0, m1CorrectionCompleted)\n",
      "Read 100 history items for RemoteEvent(ATAOS, 0, m1CorrectionStarted)\n",
      "Read 100 history items for RemoteEvent(ATAOS, 0, pointingOffsetSummary)\n",
      "Read 1 history items for RemoteEvent(ATAOS, 0, settingVersions)\n",
      "Read 1 history items for RemoteEvent(ATAOS, 0, settingsApplied)\n",
      "Read 1 history items for RemoteEvent(ATAOS, 0, simulationMode)\n",
      "Read 1 history items for RemoteEvent(ATAOS, 0, softwareVersions)\n",
      "Read 9 history items for RemoteEvent(ATAOS, 0, summaryState)\n",
      "Read historical data in 0.16 sec\n",
      "Read 1 history items for RemoteEvent(ATHeaderService, 0, authList)\n",
      "Read 100 history items for RemoteEvent(ATHeaderService, 0, heartbeat)\n",
      "Read 100 history items for RemoteEvent(ATHeaderService, 0, largeFileObjectAvailable)\n",
      "Read 1 history items for RemoteEvent(ATHeaderService, 0, logLevel)\n",
      "Read 100 history items for RemoteEvent(ATHeaderService, 0, logMessage)\n",
      "Read 1 history items for RemoteEvent(ATHeaderService, 0, simulationMode)\n",
      "Read 1 history items for RemoteEvent(ATHeaderService, 0, softwareVersions)\n",
      "Read 17 history items for RemoteEvent(ATHeaderService, 0, summaryState)\n",
      "Read historical data in 0.19 sec\n",
      "Read 2 history items for RemoteEvent(ATHexapod, 0, appliedSettingsMatchStart)\n",
      "Read 1 history items for RemoteEvent(ATHexapod, 0, authList)\n",
      "Read 100 history items for RemoteEvent(ATHexapod, 0, detailedState)\n",
      "Read 100 history items for RemoteEvent(ATHexapod, 0, heartbeat)\n",
      "Read 100 history items for RemoteEvent(ATHexapod, 0, inPosition)\n",
      "Read 1 history items for RemoteEvent(ATHexapod, 0, logLevel)\n",
      "Read 100 history items for RemoteEvent(ATHexapod, 0, logMessage)\n",
      "Read 100 history items for RemoteEvent(ATHexapod, 0, positionUpdate)\n",
      "Read 1 history items for RemoteEvent(ATHexapod, 0, readyForCommand)\n",
      "Read 1 history items for RemoteEvent(ATHexapod, 0, settingVersions)\n",
      "Read 1 history items for RemoteEvent(ATHexapod, 0, settingsApplied)\n",
      "Read 1 history items for RemoteEvent(ATHexapod, 0, settingsAppliedPivot)\n",
      "Read 1 history items for RemoteEvent(ATHexapod, 0, settingsAppliedPositionLimits)\n",
      "Read 1 history items for RemoteEvent(ATHexapod, 0, settingsAppliedTcp)\n",
      "Read 1 history items for RemoteEvent(ATHexapod, 0, settingsAppliedVelocities)\n",
      "Read 1 history items for RemoteEvent(ATHexapod, 0, simulationMode)\n",
      "Read 1 history items for RemoteEvent(ATHexapod, 0, softwareVersions)\n",
      "Read 9 history items for RemoteEvent(ATHexapod, 0, summaryState)\n",
      "Read historical data in 0.22 sec\n",
      "Read 4 history items for RemoteEvent(ATPneumatics, 0, appliedSettingsMatchStart)\n",
      "Read 8 history items for RemoteEvent(ATPneumatics, 0, cellVentsState)\n",
      "Read 1 history items for RemoteEvent(ATPneumatics, 0, eStop)\n",
      "Read 1 history items for RemoteEvent(ATPneumatics, 0, errorCode)\n",
      "Read 100 history items for RemoteEvent(ATPneumatics, 0, heartbeat)\n",
      "Read 5 history items for RemoteEvent(ATPneumatics, 0, instrumentState)\n",
      "Read 24 history items for RemoteEvent(ATPneumatics, 0, m1CoverLimitSwitches)\n",
      "Read 13 history items for RemoteEvent(ATPneumatics, 0, m1CoverState)\n",
      "Read 100 history items for RemoteEvent(ATPneumatics, 0, m1SetPressure)\n",
      "Read 5 history items for RemoteEvent(ATPneumatics, 0, m1State)\n",
      "Read 3 history items for RemoteEvent(ATPneumatics, 0, m1VentsLimitSwitches)\n",
      "Read 6 history items for RemoteEvent(ATPneumatics, 0, m1VentsPosition)\n",
      "Read 8 history items for RemoteEvent(ATPneumatics, 0, m2State)\n",
      "Read 7 history items for RemoteEvent(ATPneumatics, 0, mainValveState)\n",
      "Read 1 history items for RemoteEvent(ATPneumatics, 0, powerStatus)\n",
      "Read 4 history items for RemoteEvent(ATPneumatics, 0, settingVersions)\n",
      "Read 1 history items for RemoteEvent(ATPneumatics, 0, softwareVersions)\n",
      "Read 17 history items for RemoteEvent(ATPneumatics, 0, summaryState)\n",
      "Read historical data in 0.26 sec\n",
      "Read 1 history items for RemoteEvent(ATArchiver, 0, authList)\n",
      "Read 100 history items for RemoteEvent(ATArchiver, 0, heartbeat)\n",
      "Read 100 history items for RemoteEvent(ATArchiver, 0, imageInOODS)\n",
      "Read 100 history items for RemoteEvent(ATArchiver, 0, imageRetrievalForArchiving)\n",
      "Read 1 history items for RemoteEvent(ATArchiver, 0, logLevel)\n",
      "Read 1 history items for RemoteEvent(ATArchiver, 0, logMessage)\n",
      "Read 1 history items for RemoteEvent(ATArchiver, 0, simulationMode)\n",
      "Read 1 history items for RemoteEvent(ATArchiver, 0, softwareVersions)\n",
      "Read 17 history items for RemoteEvent(ATArchiver, 0, summaryState)\n",
      "Read historical data in 0.28 sec\n",
      "Read 16 history items for RemoteEvent(ATPtg, 0, airmassWarning)\n",
      "Read 1 history items for RemoteEvent(ATPtg, 0, azWrapWarning)\n",
      "Read 6 history items for RemoteEvent(ATPtg, 0, currentDebugLevel)\n",
      "Read 74 history items for RemoteEvent(ATPtg, 0, currentTarget)\n",
      "Read 100 history items for RemoteEvent(ATPtg, 0, detailedState)\n",
      "Read 1 history items for RemoteEvent(ATPtg, 0, elLimitWarning)\n",
      "Read 9 history items for RemoteEvent(ATPtg, 0, errorCode)\n",
      "Read 1 history items for RemoteEvent(ATPtg, 0, focusNameInconsistentWarning)\n",
      "Read 5 history items for RemoteEvent(ATPtg, 0, focusNameSelected)\n",
      "Read 100 history items for RemoteEvent(ATPtg, 0, heartbeat)\n",
      "Read 10 history items for RemoteEvent(ATPtg, 0, iers)\n",
      "Read 3 history items for RemoteEvent(ATPtg, 0, iersOutOfDate)\n",
      "Read 1 history items for RemoteEvent(ATPtg, 0, moonProximityWarning)\n",
      "Read 14 history items for RemoteEvent(ATPtg, 0, mountDataWarning)\n",
      "Read 1 history items for RemoteEvent(ATPtg, 0, objectSetWarning)\n",
      "Read 71 history items for RemoteEvent(ATPtg, 0, offsetSummary)\n",
      "Read 33 history items for RemoteEvent(ATPtg, 0, pointData)\n",
      "Read 4 history items for RemoteEvent(ATPtg, 0, pointingFile)\n",
      "Read 6 history items for RemoteEvent(ATPtg, 0, pointingModel)\n",
      "Read 3 history items for RemoteEvent(ATPtg, 0, ptgAzCurrentWrap)\n",
      "Read 1 history items for RemoteEvent(ATPtg, 0, ptgRotCurrentWrap)\n",
      "Read 4 history items for RemoteEvent(ATPtg, 0, rotWrapWarning)\n",
      "Read 21 history items for RemoteEvent(ATPtg, 0, summaryState)\n",
      "Read 1 history items for RemoteEvent(ATPtg, 0, sunProximityWarning)\n",
      "Read 79 history items for RemoteEvent(ATPtg, 0, timesOfLimits)\n",
      "Read 100 history items for RemoteEvent(ATPtg, 0, trackPosting)\n",
      "Read 5 history items for RemoteEvent(ATPtg, 0, wavelength)\n",
      "Read 100 history items for RemoteEvent(ATPtg, 0, weatherDataApplied)\n",
      "Read 100 history items for RemoteEvent(ATPtg, 0, weatherDataInvalid)\n",
      "Read historical data in 0.35 sec\n",
      "Read 3 history items for RemoteEvent(ATDome, 0, allAxesInPosition)\n",
      "Read 2 history items for RemoteEvent(ATDome, 0, appliedSettingsMatchStart)\n",
      "Read 1 history items for RemoteEvent(ATDome, 0, authList)\n",
      "Read 32 history items for RemoteEvent(ATDome, 0, azimuthCommandedState)\n",
      "Read 55 history items for RemoteEvent(ATDome, 0, azimuthInPosition)\n",
      "Read 69 history items for RemoteEvent(ATDome, 0, azimuthState)\n",
      "Read 100 history items for RemoteEvent(ATDome, 0, doorEncoderExtremes)\n",
      "Read 4 history items for RemoteEvent(ATDome, 0, dropoutDoorCommandedState)\n",
      "Read 100 history items for RemoteEvent(ATDome, 0, dropoutDoorState)\n",
      "Read 1 history items for RemoteEvent(ATDome, 0, emergencyStop)\n",
      "Read 100 history items for RemoteEvent(ATDome, 0, heartbeat)\n",
      "Read 28 history items for RemoteEvent(ATDome, 0, lastAzimuthGoTo)\n",
      "Read 1 history items for RemoteEvent(ATDome, 0, logLevel)\n",
      "Read 6 history items for RemoteEvent(ATDome, 0, logMessage)\n",
      "Read 5 history items for RemoteEvent(ATDome, 0, mainDoorCommandedState)\n",
      "Read 11 history items for RemoteEvent(ATDome, 0, mainDoorState)\n",
      "Read 67 history items for RemoteEvent(ATDome, 0, moveCode)\n",
      "Read 10 history items for RemoteEvent(ATDome, 0, scbLink)\n",
      "Read 1 history items for RemoteEvent(ATDome, 0, settingVersions)\n",
      "Read 1 history items for RemoteEvent(ATDome, 0, settingsApplied)\n",
      "Read 10 history items for RemoteEvent(ATDome, 0, settingsAppliedDomeController)\n",
      "Read 2 history items for RemoteEvent(ATDome, 0, settingsAppliedDomeTcp)\n",
      "Read 4 history items for RemoteEvent(ATDome, 0, shutterInPosition)\n",
      "Read 1 history items for RemoteEvent(ATDome, 0, simulationMode)\n",
      "Read 1 history items for RemoteEvent(ATDome, 0, softwareVersions)\n",
      "Read 9 history items for RemoteEvent(ATDome, 0, summaryState)\n",
      "Read historical data in 0.39 sec\n",
      "Read 4 history items for RemoteEvent(ATCamera, 0, appliedSettingsMatchStart)\n",
      "Read 12 history items for RemoteEvent(ATCamera, 0, calibrationDetailedState)\n",
      "Read 100 history items for RemoteEvent(ATCamera, 0, ccsCommandState)\n",
      "Read 100 history items for RemoteEvent(ATCamera, 0, endOfImageTelemetry)\n",
      "Read 100 history items for RemoteEvent(ATCamera, 0, endReadout)\n",
      "Read 100 history items for RemoteEvent(ATCamera, 0, endShutterClose)\n",
      "Read 100 history items for RemoteEvent(ATCamera, 0, endShutterOpen)\n",
      "Read 7 history items for RemoteEvent(ATCamera, 0, focalPlaneHardwareIdSettingsApplied)\n",
      "Read 7 history items for RemoteEvent(ATCamera, 0, focalPlaneSummaryInfo)\n",
      "Read 100 history items for RemoteEvent(ATCamera, 0, heartbeat)\n",
      "Read 100 history items for RemoteEvent(ATCamera, 0, imageReadinessDetailedState)\n",
      "Read 100 history items for RemoteEvent(ATCamera, 0, imageReadoutParameters)\n",
      "Read 2 history items for RemoteEvent(ATCamera, 0, offlineDetailedState)\n",
      "Read 100 history items for RemoteEvent(ATCamera, 0, raftsDetailedState)\n",
      "Read 5 history items for RemoteEvent(ATCamera, 0, settingVersions)\n",
      "Read 100 history items for RemoteEvent(ATCamera, 0, shutterDetailedState)\n",
      "Read 100 history items for RemoteEvent(ATCamera, 0, shutterMotionProfile)\n",
      "Read 5 history items for RemoteEvent(ATCamera, 0, softwareVersions)\n",
      "Read 100 history items for RemoteEvent(ATCamera, 0, startIntegration)\n",
      "Read 100 history items for RemoteEvent(ATCamera, 0, startReadout)\n",
      "Read 18 history items for RemoteEvent(ATCamera, 0, summaryState)\n",
      "Read historical data in 0.46 sec\n",
      "Read 100 history items for RemoteEvent(ATMCS, 0, allAxesInPosition)\n",
      "Read 9 history items for RemoteEvent(ATMCS, 0, appliedSettingsMatchStart)\n",
      "Read 100 history items for RemoteEvent(ATMCS, 0, atMountState)\n",
      "Read 19 history items for RemoteEvent(ATMCS, 0, azimuthBrake1)\n",
      "Read 19 history items for RemoteEvent(ATMCS, 0, azimuthBrake2)\n",
      "Read 19 history items for RemoteEvent(ATMCS, 0, azimuthDrive1Status)\n",
      "Read 19 history items for RemoteEvent(ATMCS, 0, azimuthDrive2Status)\n",
      "Read 100 history items for RemoteEvent(ATMCS, 0, azimuthInPosition)\n",
      "Read 1 history items for RemoteEvent(ATMCS, 0, azimuthLimitSwitchCCW)\n",
      "Read 1 history items for RemoteEvent(ATMCS, 0, azimuthLimitSwitchCW)\n",
      "Read 3 history items for RemoteEvent(ATMCS, 0, azimuthToppleBlockCCW)\n",
      "Read 3 history items for RemoteEvent(ATMCS, 0, azimuthToppleBlockCW)\n",
      "Read 19 history items for RemoteEvent(ATMCS, 0, elevationBrake)\n",
      "Read 19 history items for RemoteEvent(ATMCS, 0, elevationDriveStatus)\n",
      "Read 100 history items for RemoteEvent(ATMCS, 0, elevationInPosition)\n",
      "Read 3 history items for RemoteEvent(ATMCS, 0, elevationLimitSwitchLower)\n",
      "Read 3 history items for RemoteEvent(ATMCS, 0, elevationLimitSwitchUpper)\n",
      "Read 3 history items for RemoteEvent(ATMCS, 0, errorCode)\n",
      "Read 100 history items for RemoteEvent(ATMCS, 0, heartbeat)\n",
      "Read 1 history items for RemoteEvent(ATMCS, 0, m3DriveStatus)\n",
      "Read 1 history items for RemoteEvent(ATMCS, 0, m3InPosition)\n",
      "Read 1 history items for RemoteEvent(ATMCS, 0, m3RotatorDetentSwitches)\n",
      "Read 1 history items for RemoteEvent(ATMCS, 0, m3RotatorLimitSwitchCCW)\n",
      "Read 1 history items for RemoteEvent(ATMCS, 0, m3RotatorLimitSwitchCW)\n",
      "Read 17 history items for RemoteEvent(ATMCS, 0, m3State)\n",
      "Read 19 history items for RemoteEvent(ATMCS, 0, nasmyth1Brake)\n",
      "Read 19 history items for RemoteEvent(ATMCS, 0, nasmyth1DriveStatus)\n",
      "Read 1 history items for RemoteEvent(ATMCS, 0, nasmyth1LimitSwitchCCW)\n",
      "Read 1 history items for RemoteEvent(ATMCS, 0, nasmyth1LimitSwitchCW)\n",
      "Read 100 history items for RemoteEvent(ATMCS, 0, nasmyth1RotatorInPosition)\n",
      "Read 19 history items for RemoteEvent(ATMCS, 0, nasmyth2Brake)\n",
      "Read 19 history items for RemoteEvent(ATMCS, 0, nasmyth2DriveStatus)\n",
      "Read 1 history items for RemoteEvent(ATMCS, 0, nasmyth2LimitSwitchCCW)\n",
      "Read 1 history items for RemoteEvent(ATMCS, 0, nasmyth2LimitSwitchCW)\n",
      "Read 100 history items for RemoteEvent(ATMCS, 0, nasmyth2RotatorInPosition)\n",
      "Read 9 history items for RemoteEvent(ATMCS, 0, positionLimits)\n",
      "Read 9 history items for RemoteEvent(ATMCS, 0, settingVersions)\n",
      "Read 1 history items for RemoteEvent(ATMCS, 0, softwareVersions)\n",
      "Read 35 history items for RemoteEvent(ATMCS, 0, summaryState)\n",
      "Read 100 history items for RemoteEvent(ATMCS, 0, target)\n",
      "timeAndDate DDS read queue is full (100 elements); data may be lost\n"
     ]
    },
    {
     "data": {
      "text/plain": [
       "[[None, None, None, None, None, None, None], [None, None, None, None]]"
      ]
     },
     "execution_count": 4,
     "metadata": {},
     "output_type": "execute_result"
    },
    {
     "name": "stdout",
     "output_type": "stream",
     "text": [
      "mountPositions DDS read queue is filling: 23 of 100 elements\n"
     ]
    }
   ],
   "source": [
    "#Start classes\n",
    "domain = salobj.Domain()\n",
    "await asyncio.sleep(10) # This can be removed in the future...\n",
    "atcs = ATCS(domain)\n",
    "latiss = LATISS(domain)\n",
    "await asyncio.gather(atcs.start_task, latiss.start_task)"
   ]
  },
  {
   "cell_type": "code",
   "execution_count": 5,
   "metadata": {
    "collapsed": true,
    "jupyter": {
     "outputs_hidden": true
    }
   },
   "outputs": [
    {
     "name": "stdout",
     "output_type": "stream",
     "text": [
      "Enabling all components\n",
      "Gathering settings.\n",
      "Received settings from users.: {'atdome': 'current', 'ataos': 'current', 'athexapod': 'current'}\n",
      "Couldn't get settingVersions event. Using empty settings.\n",
      "Complete settings for atmcs.\n",
      "Complete settings for atptg.\n",
      "Complete settings for atpneumatics.\n",
      "Complete settings for atdometrajectory.\n",
      "Settings versions: {'atdome': 'current', 'ataos': 'current', 'athexapod': 'current', 'atmcs': '', 'atptg': '', 'atpneumatics': '', 'atdometrajectory': ''}\n",
      "[atmcs]::[<State.STANDBY: 5>, <State.DISABLED: 1>, <State.ENABLED: 2>]\n",
      "[atptg]::[<State.STANDBY: 5>, <State.DISABLED: 1>, <State.ENABLED: 2>]\n",
      "[ataos]::[<State.STANDBY: 5>, <State.DISABLED: 1>, <State.ENABLED: 2>]\n",
      "[atpneumatics]::[<State.STANDBY: 5>, <State.DISABLED: 1>, <State.ENABLED: 2>]\n",
      "[athexapod]::[<State.STANDBY: 5>, <State.DISABLED: 1>, <State.ENABLED: 2>]\n",
      "[atdome]::[<State.STANDBY: 5>, <State.DISABLED: 1>, <State.ENABLED: 2>]\n",
      "[atdometrajectory]::[<State.STANDBY: 5>, <State.DISABLED: 1>, <State.ENABLED: 2>]\n",
      "All components in <State.ENABLED: 2>.\n",
      "Enabling all components\n",
      "Gathering settings.\n",
      "Received settings from users.: {'atspectrograph': 'current'}\n",
      "Couldn't get settingVersions event. Using empty settings.\n",
      "Couldn't get settingVersions event. Using empty settings.\n",
      "Complete settings for atcamera.\n",
      "Complete settings for atheaderservice.\n",
      "Complete settings for atarchiver.\n",
      "Settings versions: {'atspectrograph': 'current', 'atcamera': '', 'atheaderservice': '', 'atarchiver': ''}\n",
      "[atcamera]::[<State.STANDBY: 5>, <State.DISABLED: 1>, <State.ENABLED: 2>]\n",
      "[atspectrograph]::[<State.STANDBY: 5>, <State.DISABLED: 1>, <State.ENABLED: 2>]\n",
      "[atheaderservice]::[<State.STANDBY: 5>, <State.DISABLED: 1>, <State.ENABLED: 2>]\n",
      "[atarchiver]::[<State.STANDBY: 5>, <State.DISABLED: 1>, <State.ENABLED: 2>]\n",
      "All components in <State.ENABLED: 2>.\n"
     ]
    }
   ],
   "source": [
    "# enable components\n",
    "await atcs.enable({\"atdome\": \"current\", \"ataos\": \"current\", \"athexapod\": \"current\"})\n",
    "await latiss.enable({\"atspectrograph\": \"current\"})"
   ]
  },
  {
   "cell_type": "code",
   "execution_count": 6,
   "metadata": {},
   "outputs": [
    {
     "name": "stdout",
     "output_type": "stream",
     "text": [
      "Generating group_id\n",
      "imagetype: BIAS, skip TCS synchronization.\n",
      "BIAS 0001 - 0001\n"
     ]
    },
    {
     "data": {
      "text/plain": [
       "array([2021070700001])"
      ]
     },
     "execution_count": 6,
     "metadata": {},
     "output_type": "execute_result"
    }
   ],
   "source": [
    "# Take a bias to make sure everything is working\n",
    "await latiss.take_bias(1)"
   ]
  },
  {
   "cell_type": "code",
   "execution_count": 7,
   "metadata": {
    "collapsed": true,
    "jupyter": {
     "outputs_hidden": true
    }
   },
   "outputs": [
    {
     "name": "stdout",
     "output_type": "stream",
     "text": [
      "Generating group_id\n",
      "imagetype: BIAS, skip TCS synchronization.\n",
      "BIAS 0001 - 0001\n",
      "Generating group_id\n",
      "imagetype: BIAS, skip TCS synchronization.\n",
      "BIAS 0001 - 0001\n",
      "Generating group_id\n",
      "imagetype: BIAS, skip TCS synchronization.\n",
      "BIAS 0001 - 0001\n",
      "Generating group_id\n",
      "imagetype: BIAS, skip TCS synchronization.\n",
      "BIAS 0001 - 0001\n",
      "Generating group_id\n",
      "imagetype: BIAS, skip TCS synchronization.\n",
      "BIAS 0001 - 0001\n",
      "Generating group_id\n",
      "imagetype: BIAS, skip TCS synchronization.\n",
      "BIAS 0001 - 0001\n",
      "Generating group_id\n",
      "imagetype: BIAS, skip TCS synchronization.\n",
      "BIAS 0001 - 0001\n",
      "Generating group_id\n",
      "imagetype: BIAS, skip TCS synchronization.\n",
      "BIAS 0001 - 0001\n",
      "Generating group_id\n",
      "imagetype: BIAS, skip TCS synchronization.\n",
      "BIAS 0001 - 0001\n",
      "Generating group_id\n",
      "imagetype: BIAS, skip TCS synchronization.\n",
      "BIAS 0001 - 0001\n",
      "Generating group_id\n",
      "imagetype: BIAS, skip TCS synchronization.\n",
      "BIAS 0001 - 0001\n",
      "Generating group_id\n",
      "imagetype: BIAS, skip TCS synchronization.\n",
      "BIAS 0001 - 0001\n",
      "Generating group_id\n",
      "imagetype: BIAS, skip TCS synchronization.\n",
      "BIAS 0001 - 0001\n",
      "Generating group_id\n",
      "imagetype: BIAS, skip TCS synchronization.\n",
      "BIAS 0001 - 0001\n",
      "Generating group_id\n",
      "imagetype: BIAS, skip TCS synchronization.\n",
      "BIAS 0001 - 0001\n",
      "Generating group_id\n",
      "imagetype: BIAS, skip TCS synchronization.\n",
      "BIAS 0001 - 0001\n",
      "Generating group_id\n",
      "imagetype: BIAS, skip TCS synchronization.\n",
      "BIAS 0001 - 0001\n",
      "Generating group_id\n",
      "imagetype: BIAS, skip TCS synchronization.\n",
      "BIAS 0001 - 0001\n",
      "Generating group_id\n",
      "imagetype: BIAS, skip TCS synchronization.\n",
      "BIAS 0001 - 0001\n",
      "Generating group_id\n",
      "imagetype: BIAS, skip TCS synchronization.\n",
      "BIAS 0001 - 0001\n",
      "Generating group_id\n",
      "imagetype: BIAS, skip TCS synchronization.\n",
      "BIAS 0001 - 0001\n",
      "Generating group_id\n",
      "imagetype: BIAS, skip TCS synchronization.\n",
      "BIAS 0001 - 0001\n",
      "Generating group_id\n",
      "imagetype: BIAS, skip TCS synchronization.\n",
      "BIAS 0001 - 0001\n",
      "Generating group_id\n",
      "imagetype: BIAS, skip TCS synchronization.\n",
      "BIAS 0001 - 0001\n",
      "Generating group_id\n",
      "imagetype: BIAS, skip TCS synchronization.\n",
      "BIAS 0001 - 0001\n",
      "Generating group_id\n",
      "imagetype: BIAS, skip TCS synchronization.\n",
      "BIAS 0001 - 0001\n",
      "Generating group_id\n",
      "imagetype: BIAS, skip TCS synchronization.\n",
      "BIAS 0001 - 0001\n",
      "Generating group_id\n",
      "imagetype: BIAS, skip TCS synchronization.\n",
      "BIAS 0001 - 0001\n",
      "Generating group_id\n",
      "imagetype: BIAS, skip TCS synchronization.\n",
      "BIAS 0001 - 0001\n",
      "Generating group_id\n",
      "imagetype: BIAS, skip TCS synchronization.\n",
      "BIAS 0001 - 0001\n",
      "Generating group_id\n",
      "imagetype: BIAS, skip TCS synchronization.\n",
      "BIAS 0001 - 0001\n",
      "Generating group_id\n",
      "imagetype: BIAS, skip TCS synchronization.\n",
      "BIAS 0001 - 0001\n",
      "Generating group_id\n",
      "imagetype: BIAS, skip TCS synchronization.\n",
      "BIAS 0001 - 0001\n",
      "Generating group_id\n",
      "imagetype: BIAS, skip TCS synchronization.\n",
      "BIAS 0001 - 0001\n",
      "Generating group_id\n",
      "imagetype: BIAS, skip TCS synchronization.\n",
      "BIAS 0001 - 0001\n",
      "Generating group_id\n",
      "imagetype: BIAS, skip TCS synchronization.\n",
      "BIAS 0001 - 0001\n",
      "Generating group_id\n",
      "imagetype: BIAS, skip TCS synchronization.\n",
      "BIAS 0001 - 0001\n",
      "Generating group_id\n",
      "imagetype: BIAS, skip TCS synchronization.\n",
      "BIAS 0001 - 0001\n",
      "Generating group_id\n",
      "imagetype: BIAS, skip TCS synchronization.\n",
      "BIAS 0001 - 0001\n",
      "Generating group_id\n",
      "imagetype: BIAS, skip TCS synchronization.\n",
      "BIAS 0001 - 0001\n",
      "Generating group_id\n",
      "imagetype: BIAS, skip TCS synchronization.\n",
      "BIAS 0001 - 0001\n",
      "Generating group_id\n",
      "imagetype: BIAS, skip TCS synchronization.\n",
      "BIAS 0001 - 0001\n",
      "Generating group_id\n",
      "imagetype: BIAS, skip TCS synchronization.\n",
      "BIAS 0001 - 0001\n",
      "Generating group_id\n",
      "imagetype: BIAS, skip TCS synchronization.\n",
      "BIAS 0001 - 0001\n",
      "Generating group_id\n",
      "imagetype: BIAS, skip TCS synchronization.\n",
      "BIAS 0001 - 0001\n",
      "Generating group_id\n",
      "imagetype: BIAS, skip TCS synchronization.\n",
      "BIAS 0001 - 0001\n",
      "Generating group_id\n",
      "imagetype: BIAS, skip TCS synchronization.\n",
      "BIAS 0001 - 0001\n",
      "Generating group_id\n",
      "imagetype: BIAS, skip TCS synchronization.\n",
      "BIAS 0001 - 0001\n",
      "Generating group_id\n",
      "imagetype: BIAS, skip TCS synchronization.\n",
      "BIAS 0001 - 0001\n",
      "Generating group_id\n",
      "imagetype: BIAS, skip TCS synchronization.\n",
      "BIAS 0001 - 0001\n"
     ]
    }
   ],
   "source": [
    "# Take 50 biases seq # 002-051\n",
    "# Added wait to stop killing the recent images\n",
    "for i in range(50):\n",
    "    await asyncio.sleep(2.0)\n",
    "    await latiss.take_bias(1)"
   ]
  },
  {
   "cell_type": "code",
   "execution_count": 8,
   "metadata": {},
   "outputs": [
    {
     "name": "stdout",
     "output_type": "stream",
     "text": [
      "Generating group_id\n",
      "imagetype: DARK, skip TCS synchronization.\n",
      "DARK 0001 - 0010\n",
      "DARK 0002 - 0010\n",
      "DARK 0003 - 0010\n",
      "DARK 0004 - 0010\n",
      "DARK 0005 - 0010\n",
      "DARK 0006 - 0010\n",
      "logMessage DDS read queue is filling: 13 of 100 elements\n",
      "DARK 0007 - 0010\n",
      "DARK 0008 - 0010\n",
      "DARK 0009 - 0010\n",
      "DARK 0010 - 0010\n"
     ]
    },
    {
     "data": {
      "text/plain": [
       "array([2021070700052, 2021070700053, 2021070700054, 2021070700055,\n",
       "       2021070700056, 2021070700057, 2021070700058, 2021070700059,\n",
       "       2021070700060, 2021070700061])"
      ]
     },
     "execution_count": 8,
     "metadata": {},
     "output_type": "execute_result"
    }
   ],
   "source": [
    "# Take 10 10 second darks 52-61\n",
    "await latiss.take_darks(10.0, 10)"
   ]
  },
  {
   "cell_type": "code",
   "execution_count": null,
   "metadata": {},
   "outputs": [],
   "source": [
    "#atcs.check.atdome = True\n",
    "#atcs.check.atdometrajectory = True"
   ]
  },
  {
   "cell_type": "code",
   "execution_count": null,
   "metadata": {},
   "outputs": [],
   "source": [
    "#await salobj.set_summary_state(atcs.rem.atdome, salobj.State.ENABLED, settingsToApply='current')"
   ]
  },
  {
   "cell_type": "code",
   "execution_count": null,
   "metadata": {},
   "outputs": [],
   "source": [
    "#await salobj.set_summary_state(atcs.rem.atptg, salobj.State.ENABLED)"
   ]
  },
  {
   "cell_type": "code",
   "execution_count": 10,
   "metadata": {
    "collapsed": true,
    "jupyter": {
     "outputs_hidden": true
    }
   },
   "outputs": [
    {
     "name": "stdout",
     "output_type": "stream",
     "text": [
      "Enable dome trajectory following.\n",
      "Cover state <MirrorCoverState.OPENED: 7>\n",
      "M1 cover already opened.\n",
      "Sending command\n",
      "Stop tracking.\n",
      "Scheduling check coroutines\n",
      "process as completed...\n",
      "atmcs: <State.ENABLED: 2>\n",
      "atptg: <State.ENABLED: 2>\n",
      "ataos: <State.ENABLED: 2>\n",
      "atpneumatics: <State.ENABLED: 2>\n",
      "athexapod: <State.ENABLED: 2>\n",
      "[Telescope] delta Alt = +000.006 deg; delta Az = +000.001 deg; delta N1 = -000.000 deg; delta N2 = +000.000 deg [Dome] delta Az = -002.930 deg\n",
      "ATDome in position.\n",
      "Got True\n",
      "Waiting for telescope to settle.\n",
      "[Telescope] delta Alt = +000.000 deg; delta Az = +000.001 deg; delta N1 = -000.000 deg; delta N2 = +000.000 deg [Dome] delta Az = -002.930 deg\n",
      "Telescope in position.\n",
      "Stop tracking.\n",
      "Tracking state: <AtMountState.TRACKINGENABLED: 9>\n",
      "Tracking state: <AtMountState.STOPPING: 10>\n",
      "In Position: True.\n",
      "Enable dome trajectory following.\n",
      "process as completed...\n",
      "ATDome in position.\n",
      "[Dome] delta Az = -002.930 deg\n",
      "Axes in position.\n"
     ]
    }
   ],
   "source": [
    "await atcs.prepare_for_flatfield()"
   ]
  },
  {
   "cell_type": "code",
   "execution_count": 11,
   "metadata": {},
   "outputs": [
    {
     "name": "stdout",
     "output_type": "stream",
     "text": [
      "Generating group_id\n",
      "imagetype: FLAT, skip TCS synchronization.\n",
      "FLAT 0001 - 0001\n"
     ]
    },
    {
     "data": {
      "text/plain": [
       "array([2021070700062])"
      ]
     },
     "execution_count": 11,
     "metadata": {},
     "output_type": "execute_result"
    }
   ],
   "source": [
    "# Take a test flat\n",
    "await latiss.take_flats(2.0, 1, filter='RG610', grating='empty_1')"
   ]
  },
  {
   "cell_type": "code",
   "execution_count": 12,
   "metadata": {
    "collapsed": true,
    "jupyter": {
     "outputs_hidden": true
    }
   },
   "outputs": [
    {
     "name": "stdout",
     "output_type": "stream",
     "text": [
      "Generating group_id\n",
      "imagetype: FLAT, skip TCS synchronization.\n",
      "FLAT 0001 - 0010\n",
      "FLAT 0002 - 0010\n",
      "FLAT 0003 - 0010\n",
      "FLAT 0004 - 0010\n",
      "FLAT 0005 - 0010\n",
      "FLAT 0006 - 0010\n",
      "FLAT 0007 - 0010\n",
      "FLAT 0008 - 0010\n",
      "FLAT 0009 - 0010\n",
      "logMessage DDS read queue is filling: 23 of 100 elements\n",
      "FLAT 0010 - 0010\n"
     ]
    },
    {
     "data": {
      "text/plain": [
       "array([2021070700063, 2021070700064, 2021070700065, 2021070700066,\n",
       "       2021070700067, 2021070700068, 2021070700069, 2021070700070,\n",
       "       2021070700071, 2021070700072])"
      ]
     },
     "execution_count": 12,
     "metadata": {},
     "output_type": "execute_result"
    }
   ],
   "source": [
    "# Take 10 2 second flats 72-81\n",
    "await latiss.take_flats(2.0, 10, filter='RG610', grating='empty_1')"
   ]
  },
  {
   "cell_type": "code",
   "execution_count": null,
   "metadata": {},
   "outputs": [],
   "source": [
    "# Take flats for PTC 82-141\n",
    "# Added wait to stop killing the recent images\n",
    "for i in range(30):\n",
    "    exp = 0.2 * float(i+1)\n",
    "    await latiss.take_flats(exp, 1, filter='RG610', grating='empty_1')\n",
    "    if exp < 2.0:\n",
    "        await asyncio.sleep(2.0)\n",
    "    await latiss.take_flats(exp, 1, filter='RG610', grating='empty_1')\n"
   ]
  },
  {
   "cell_type": "code",
   "execution_count": 13,
   "metadata": {
    "collapsed": true,
    "jupyter": {
     "outputs_hidden": true
    }
   },
   "outputs": [
    {
     "name": "stdout",
     "output_type": "stream",
     "text": [
      "Enabling all components\n",
      "Gathering settings.\n",
      "Couldn't get settingVersions event. Using empty settings.\n",
      "Complete settings for atmcs.\n",
      "Complete settings for atptg.\n",
      "Complete settings for ataos.\n",
      "Complete settings for atpneumatics.\n",
      "Complete settings for athexapod.\n",
      "Complete settings for atdome.\n",
      "Complete settings for atdometrajectory.\n",
      "Settings versions: {'atmcs': '', 'atptg': '', 'ataos': 'current', 'atpneumatics': '', 'athexapod': 'current', 'atdome': 'current', 'atdometrajectory': ''}\n",
      "[atmcs]::[<State.ENABLED: 2>]\n",
      "[atptg]::[<State.ENABLED: 2>]\n",
      "[ataos]::[<State.ENABLED: 2>]\n",
      "[atpneumatics]::[<State.ENABLED: 2>]\n",
      "[athexapod]::[<State.ENABLED: 2>]\n",
      "[atdome]::[<State.ENABLED: 2>]\n",
      "[atdometrajectory]::[<State.ENABLED: 2>]\n",
      "All components in <State.ENABLED: 2>.\n",
      "Enable dome trajectory following.\n",
      "Slew telescope to park position.\n",
      "Sending command\n",
      "Stop tracking.\n",
      "Scheduling check coroutines\n",
      "process as completed...\n",
      "atmcs: <State.ENABLED: 2>\n",
      "atptg: <State.ENABLED: 2>\n",
      "ataos: <State.ENABLED: 2>\n",
      "atpneumatics: <State.ENABLED: 2>\n",
      "athexapod: <State.ENABLED: 2>\n",
      "[Telescope] delta Alt = +041.005 deg; delta Az = +154.301 deg; delta N1 = -000.000 deg; delta N2 = +110.000 deg [Dome] delta Az = +000.260 deg\n",
      "ATDome in position.\n",
      "[Telescope] delta Alt = +039.875 deg; delta Az = +155.343 deg; delta N1 = -000.000 deg; delta N2 = +108.822 deg [Dome] delta Az = +000.260 deg\n",
      "[Telescope] delta Alt = +035.983 deg; delta Az = +159.211 deg; delta N1 = -000.000 deg; delta N2 = +102.922 deg [Dome] delta Az = +000.260 deg\n",
      "[Telescope] delta Alt = +029.979 deg; delta Az = +165.213 deg; delta N1 = -000.000 deg; delta N2 = +098.914 deg [Dome] delta Az = +000.260 deg\n",
      "[Telescope] delta Alt = +025.978 deg; delta Az = +169.211 deg; delta N1 = -000.000 deg; delta N2 = +092.904 deg [Dome] delta Az = +000.260 deg\n",
      "[Telescope] delta Alt = +020.060 deg; delta Az = +175.212 deg; delta N1 = +000.000 deg; delta N2 = +086.915 deg [Dome] delta Az = +000.260 deg\n",
      "[Telescope] delta Alt = +014.448 deg; delta Az = -178.788 deg; delta N1 = +000.000 deg; delta N2 = +080.919 deg [Dome] delta Az = +000.260 deg\n",
      "[Telescope] delta Alt = +009.455 deg; delta Az = -172.788 deg; delta N1 = +000.000 deg; delta N2 = +074.909 deg [Dome] delta Az = +000.260 deg\n",
      "[Telescope] delta Alt = +005.377 deg; delta Az = -166.789 deg; delta N1 = +000.000 deg; delta N2 = +070.920 deg [Dome] delta Az = +000.260 deg\n",
      "[Telescope] delta Alt = +003.289 deg; delta Az = -162.788 deg; delta N1 = +000.000 deg; delta N2 = +064.921 deg [Dome] delta Az = +000.260 deg\n",
      "[Telescope] delta Alt = +001.169 deg; delta Az = -156.788 deg; delta N1 = +000.000 deg; delta N2 = +058.904 deg [Dome] delta Az = +000.260 deg\n",
      "[Telescope] delta Alt = +000.193 deg; delta Az = -150.788 deg; delta N1 = -000.000 deg; delta N2 = +052.923 deg [Dome] delta Az = +000.260 deg\n",
      "[Telescope] delta Alt = +000.000 deg; delta Az = -144.789 deg; delta N1 = -000.000 deg; delta N2 = +046.910 deg [Dome] delta Az = +000.260 deg\n",
      "[Telescope] delta Alt = -000.000 deg; delta Az = -138.788 deg; delta N1 = -000.000 deg; delta N2 = +040.915 deg [Dome] delta Az = +000.260 deg\n",
      "[Telescope] delta Alt = -000.000 deg; delta Az = -132.789 deg; delta N1 = +000.000 deg; delta N2 = +036.923 deg [Dome] delta Az = +000.260 deg\n",
      "[Telescope] delta Alt = +000.000 deg; delta Az = -128.788 deg; delta N1 = +000.000 deg; delta N2 = +030.909 deg [Dome] delta Az = +000.260 deg\n",
      "[Telescope] delta Alt = +000.000 deg; delta Az = -122.789 deg; delta N1 = +000.000 deg; delta N2 = +024.924 deg [Dome] delta Az = +000.260 deg\n",
      "[Telescope] delta Alt = -000.000 deg; delta Az = -116.787 deg; delta N1 = -000.000 deg; delta N2 = +019.033 deg [Dome] delta Az = +000.260 deg\n",
      "[Telescope] delta Alt = -000.000 deg; delta Az = -110.789 deg; delta N1 = +000.000 deg; delta N2 = +013.519 deg [Dome] delta Az = +000.260 deg\n",
      "[Telescope] delta Alt = -000.000 deg; delta Az = -104.787 deg; delta N1 = -000.000 deg; delta N2 = +008.680 deg [Dome] delta Az = +000.260 deg\n",
      "[Telescope] delta Alt = +000.000 deg; delta Az = -098.789 deg; delta N1 = -000.000 deg; delta N2 = +004.775 deg [Dome] delta Az = +000.260 deg\n",
      "[Telescope] delta Alt = +000.000 deg; delta Az = -092.787 deg; delta N1 = +000.000 deg; delta N2 = +002.064 deg [Dome] delta Az = +000.260 deg\n",
      "[Telescope] delta Alt = +000.000 deg; delta Az = -086.789 deg; delta N1 = -000.000 deg; delta N2 = +000.927 deg [Dome] delta Az = +000.260 deg\n",
      "[Telescope] delta Alt = -000.000 deg; delta Az = -082.788 deg; delta N1 = +000.000 deg; delta N2 = +000.121 deg [Dome] delta Az = +000.260 deg\n",
      "[Telescope] delta Alt = -000.000 deg; delta Az = -076.789 deg; delta N1 = +000.000 deg; delta N2 = -000.001 deg [Dome] delta Az = +000.260 deg\n",
      "[Telescope] delta Alt = -000.000 deg; delta Az = -070.787 deg; delta N1 = +000.000 deg; delta N2 = -000.000 deg [Dome] delta Az = +000.260 deg\n",
      "[Telescope] delta Alt = +000.000 deg; delta Az = -064.789 deg; delta N1 = +000.000 deg; delta N2 = +000.000 deg [Dome] delta Az = +000.260 deg\n",
      "[Telescope] delta Alt = +000.000 deg; delta Az = -058.787 deg; delta N1 = -000.000 deg; delta N2 = +000.000 deg [Dome] delta Az = +000.260 deg\n",
      "[Telescope] delta Alt = +000.000 deg; delta Az = -052.789 deg; delta N1 = +000.000 deg; delta N2 = +000.000 deg [Dome] delta Az = +000.260 deg\n",
      "[Telescope] delta Alt = +000.000 deg; delta Az = -046.787 deg; delta N1 = +000.000 deg; delta N2 = +000.000 deg [Dome] delta Az = +000.260 deg\n",
      "[Telescope] delta Alt = +000.000 deg; delta Az = -040.789 deg; delta N1 = -000.000 deg; delta N2 = +000.000 deg [Dome] delta Az = +000.260 deg\n",
      "[Telescope] delta Alt = +000.000 deg; delta Az = -034.788 deg; delta N1 = -000.000 deg; delta N2 = -000.000 deg [Dome] delta Az = +000.260 deg\n",
      "[Telescope] delta Alt = +000.000 deg; delta Az = -030.788 deg; delta N1 = -000.000 deg; delta N2 = -000.000 deg [Dome] delta Az = +000.260 deg\n",
      "[Telescope] delta Alt = +000.000 deg; delta Az = -024.789 deg; delta N1 = +000.000 deg; delta N2 = -000.000 deg [Dome] delta Az = +000.260 deg\n",
      "[Telescope] delta Alt = +000.000 deg; delta Az = -018.910 deg; delta N1 = +000.000 deg; delta N2 = -000.000 deg [Dome] delta Az = +000.260 deg\n",
      "[Telescope] delta Alt = +000.000 deg; delta Az = -013.396 deg; delta N1 = -000.000 deg; delta N2 = -000.000 deg [Dome] delta Az = +000.260 deg\n",
      "[Telescope] delta Alt = +000.000 deg; delta Az = -008.561 deg; delta N1 = -000.000 deg; delta N2 = -000.000 deg [Dome] delta Az = +000.260 deg\n",
      "[Telescope] delta Alt = +000.000 deg; delta Az = -004.695 deg; delta N1 = +000.000 deg; delta N2 = -000.000 deg [Dome] delta Az = +000.260 deg\n",
      "[Telescope] delta Alt = +000.000 deg; delta Az = -002.006 deg; delta N1 = +000.000 deg; delta N2 = +000.000 deg [Dome] delta Az = +000.260 deg\n",
      "[Telescope] delta Alt = +000.000 deg; delta Az = -000.521 deg; delta N1 = +000.000 deg; delta N2 = +000.000 deg [Dome] delta Az = +000.260 deg\n",
      "Got True\n",
      "Waiting for telescope to settle.\n",
      "[Telescope] delta Alt = +000.000 deg; delta Az = -000.028 deg; delta N1 = +000.000 deg; delta N2 = -000.000 deg [Dome] delta Az = +000.260 deg\n",
      "[Telescope] delta Alt = +000.000 deg; delta Az = -000.000 deg; delta N1 = -000.000 deg; delta N2 = -000.000 deg [Dome] delta Az = +000.260 deg\n",
      "Telescope in position.\n",
      "Stop tracking.\n",
      "Tracking state: <AtMountState.TRACKINGENABLED: 9>\n",
      "Tracking state: <AtMountState.STOPPING: 10>\n",
      "In Position: True.\n",
      "Cover state <MirrorCoverState.OPENED: 7>\n",
      "Closing M1 cover.\n",
      "Using nasmyth port <Foci.NASMYTH2: 3>\n",
      "Cover state <MirrorCoverState.INMOTION: 8>\n",
      "Cover state <MirrorCoverState.CLOSED: 6>\n",
      "Homing dome azimuth.\n",
      "Dome azimuth still homing.\n",
      "Dome azimuth still homing.\n",
      "Dome azimuth still homing.\n",
      "Dome azimuth still homing.\n",
      "Dome azimuth still homing.\n",
      "Dome azimuth still homing.\n",
      "Dome azimuth homed successfully.\n",
      "Moving dome to 90 degrees.\n",
      "Enable dome trajectory following.\n",
      "process as completed...\n",
      "ATDome in position.\n",
      "[Dome] delta Az = +089.790 deg\n",
      "[Dome] delta Az = +089.680 deg\n",
      "[Dome] delta Az = +089.320 deg\n",
      "[Dome] delta Az = +088.730 deg\n",
      "[Dome] delta Az = +087.900 deg\n",
      "[Dome] delta Az = +086.830 deg\n",
      "[Dome] delta Az = +085.540 deg\n",
      "[Dome] delta Az = +084.020 deg\n",
      "[Dome] delta Az = +082.250 deg\n",
      "[Dome] delta Az = +080.260 deg\n",
      "[Dome] delta Az = +078.040 deg\n",
      "[Dome] delta Az = +075.590 deg\n",
      "[Dome] delta Az = +072.910 deg\n",
      "[Dome] delta Az = +069.960 deg\n",
      "[Dome] delta Az = +066.830 deg\n",
      "[Dome] delta Az = +063.470 deg\n",
      "[Dome] delta Az = +060.010 deg\n",
      "[Dome] delta Az = +056.540 deg\n",
      "[Dome] delta Az = +053.080 deg\n",
      "[Dome] delta Az = +049.590 deg\n",
      "[Dome] delta Az = +046.150 deg\n",
      "[Dome] delta Az = +042.710 deg\n",
      "[Dome] delta Az = +039.260 deg\n",
      "[Dome] delta Az = +035.810 deg\n",
      "[Dome] delta Az = +032.320 deg\n",
      "[Dome] delta Az = +028.860 deg\n",
      "[Dome] delta Az = +025.410 deg\n",
      "[Dome] delta Az = +021.960 deg\n",
      "[Dome] delta Az = +018.510 deg\n",
      "[Dome] delta Az = +015.050 deg\n",
      "[Dome] delta Az = +011.600 deg\n",
      "[Dome] delta Az = +008.140 deg\n",
      "[Dome] delta Az = +004.690 deg\n",
      "Axes in position.\n",
      "Check that dome CSC can communicate with shutter control box.\n",
      "Opening dome.\n",
      "Opening dome shutter...\n",
      "process as completed...\n",
      "atdome: <State.ENABLED: 2>\n",
      "Waiting for ATDome mainDoorState: <ShutterDoorState.OPENED: 2>. Current state: <ShutterDoorState.CLOSED: 1>.\n",
      "mainDoorState: <ShutterDoorState.OPENING: 4>\n",
      "mainDoorState: <ShutterDoorState.OPENED: 2>\n",
      "Finishing ATDome shutter command task.\n",
      "ATDome shutter command task not done. Cancelling.\n",
      "ATDome shutter command task cancelled.\n",
      "Open telescope cover.\n",
      "Cover state <MirrorCoverState.CLOSED: 6>\n",
      "Opening M1 cover.\n",
      "Cover state <MirrorCoverState.INMOTION: 8>\n",
      "Cover state <MirrorCoverState.OPENED: 7>\n",
      "M1 vent state <VentsPosition.CLOSED: 1>\n",
      "Opening M1 vents.\n",
      "M1 vent state <VentsPosition.PARTIALLYOPENED: 2>\n",
      "M1 vent state <VentsPosition.OPENED: 0>\n",
      "Enable dome trajectory following.\n",
      "Enable ATAOS corrections.\n"
     ]
    },
    {
     "ename": "AckError",
     "evalue": "msg='Command failed', ackcmd=(ackcmd private_seqNum=730611388, ack=<SalRetCode.CMD_FAILED: -302>, error=1, result=\"Failed: msg='Command failed', ackcmd=(ackcmd private_seqNum=1668546126, ack=<SalRetCode.CMD_FAILED: -302>, error=0, result='ERROR: Command masterOpenValve rejected while in EnabledState state.')\")",
     "output_type": "error",
     "traceback": [
      "\u001b[0;31m---------------------------------------------------------------------------\u001b[0m",
      "\u001b[0;31mAckError\u001b[0m                                  Traceback (most recent call last)",
      "\u001b[0;32m/tmp/ipykernel_12915/1632725423.py\u001b[0m in \u001b[0;36m<module>\u001b[0;34m\u001b[0m\n\u001b[1;32m      1\u001b[0m \u001b[0;31m# This moves everything to park position and opens the dome.  It takes 5+ minutes.\u001b[0m\u001b[0;34m\u001b[0m\u001b[0;34m\u001b[0m\u001b[0;34m\u001b[0m\u001b[0m\n\u001b[0;32m----> 2\u001b[0;31m \u001b[0;32mawait\u001b[0m \u001b[0matcs\u001b[0m\u001b[0;34m.\u001b[0m\u001b[0mprepare_for_onsky\u001b[0m\u001b[0;34m(\u001b[0m\u001b[0;34m)\u001b[0m\u001b[0;34m\u001b[0m\u001b[0;34m\u001b[0m\u001b[0m\n\u001b[0m",
      "\u001b[0;32m~/auto-op-env-packages/ts_observatory_control/python/lsst/ts/observatory/control/auxtel/atcs.py\u001b[0m in \u001b[0;36mprepare_for_onsky\u001b[0;34m(self, settings)\u001b[0m\n\u001b[1;32m    480\u001b[0m             \u001b[0mself\u001b[0m\u001b[0;34m.\u001b[0m\u001b[0mlog\u001b[0m\u001b[0;34m.\u001b[0m\u001b[0minfo\u001b[0m\u001b[0;34m(\u001b[0m\u001b[0;34m\"Enable ATAOS corrections.\"\u001b[0m\u001b[0;34m)\u001b[0m\u001b[0;34m\u001b[0m\u001b[0;34m\u001b[0m\u001b[0m\n\u001b[1;32m    481\u001b[0m \u001b[0;34m\u001b[0m\u001b[0m\n\u001b[0;32m--> 482\u001b[0;31m             await self.rem.ataos.cmd_enableCorrection.set_start(\n\u001b[0m\u001b[1;32m    483\u001b[0m                 \u001b[0mm1\u001b[0m\u001b[0;34m=\u001b[0m\u001b[0;32mTrue\u001b[0m\u001b[0;34m,\u001b[0m \u001b[0mhexapod\u001b[0m\u001b[0;34m=\u001b[0m\u001b[0;32mTrue\u001b[0m\u001b[0;34m,\u001b[0m \u001b[0matspectrograph\u001b[0m\u001b[0;34m=\u001b[0m\u001b[0;32mTrue\u001b[0m\u001b[0;34m,\u001b[0m \u001b[0mtimeout\u001b[0m\u001b[0;34m=\u001b[0m\u001b[0mself\u001b[0m\u001b[0;34m.\u001b[0m\u001b[0mlong_timeout\u001b[0m\u001b[0;34m\u001b[0m\u001b[0;34m\u001b[0m\u001b[0m\n\u001b[1;32m    484\u001b[0m             )\n",
      "\u001b[0;32m/opt/lsst/software/stack/conda/miniconda3-py38_4.9.2/envs/lsst-scipipe-0.6.0/lib/python3.8/site-packages/lsst/ts/salobj/topics/remote_command.py\u001b[0m in \u001b[0;36mset_start\u001b[0;34m(self, timeout, wait_done, **kwargs)\u001b[0m\n\u001b[1;32m    392\u001b[0m         \"\"\"\n\u001b[1;32m    393\u001b[0m         \u001b[0mself\u001b[0m\u001b[0;34m.\u001b[0m\u001b[0mset\u001b[0m\u001b[0;34m(\u001b[0m\u001b[0;34m**\u001b[0m\u001b[0mkwargs\u001b[0m\u001b[0;34m)\u001b[0m\u001b[0;34m\u001b[0m\u001b[0;34m\u001b[0m\u001b[0m\n\u001b[0;32m--> 394\u001b[0;31m         \u001b[0;32mreturn\u001b[0m \u001b[0;32mawait\u001b[0m \u001b[0mself\u001b[0m\u001b[0;34m.\u001b[0m\u001b[0mstart\u001b[0m\u001b[0;34m(\u001b[0m\u001b[0mtimeout\u001b[0m\u001b[0;34m=\u001b[0m\u001b[0mtimeout\u001b[0m\u001b[0;34m,\u001b[0m \u001b[0mwait_done\u001b[0m\u001b[0;34m=\u001b[0m\u001b[0mwait_done\u001b[0m\u001b[0;34m)\u001b[0m\u001b[0;34m\u001b[0m\u001b[0;34m\u001b[0m\u001b[0m\n\u001b[0m\u001b[1;32m    395\u001b[0m \u001b[0;34m\u001b[0m\u001b[0m\n\u001b[1;32m    396\u001b[0m     \u001b[0;32masync\u001b[0m \u001b[0;32mdef\u001b[0m \u001b[0mstart\u001b[0m\u001b[0;34m(\u001b[0m\u001b[0mself\u001b[0m\u001b[0;34m,\u001b[0m \u001b[0mdata\u001b[0m\u001b[0;34m=\u001b[0m\u001b[0;32mNone\u001b[0m\u001b[0;34m,\u001b[0m \u001b[0mtimeout\u001b[0m\u001b[0;34m=\u001b[0m\u001b[0mDEFAULT_TIMEOUT\u001b[0m\u001b[0;34m,\u001b[0m \u001b[0mwait_done\u001b[0m\u001b[0;34m=\u001b[0m\u001b[0;32mTrue\u001b[0m\u001b[0;34m)\u001b[0m\u001b[0;34m:\u001b[0m\u001b[0;34m\u001b[0m\u001b[0;34m\u001b[0m\u001b[0m\n",
      "\u001b[0;32m/opt/lsst/software/stack/conda/miniconda3-py38_4.9.2/envs/lsst-scipipe-0.6.0/lib/python3.8/site-packages/lsst/ts/salobj/topics/remote_command.py\u001b[0m in \u001b[0;36mstart\u001b[0;34m(self, data, timeout, wait_done)\u001b[0m\n\u001b[1;32m    447\u001b[0m         )\n\u001b[1;32m    448\u001b[0m         \u001b[0mself\u001b[0m\u001b[0;34m.\u001b[0m\u001b[0msalinfo\u001b[0m\u001b[0;34m.\u001b[0m\u001b[0m_running_cmds\u001b[0m\u001b[0;34m[\u001b[0m\u001b[0mseq_num\u001b[0m\u001b[0;34m]\u001b[0m \u001b[0;34m=\u001b[0m \u001b[0mcmd_info\u001b[0m\u001b[0;34m\u001b[0m\u001b[0;34m\u001b[0m\u001b[0m\n\u001b[0;32m--> 449\u001b[0;31m         \u001b[0;32mreturn\u001b[0m \u001b[0;32mawait\u001b[0m \u001b[0mcmd_info\u001b[0m\u001b[0;34m.\u001b[0m\u001b[0mnext_ackcmd\u001b[0m\u001b[0;34m(\u001b[0m\u001b[0mtimeout\u001b[0m\u001b[0;34m=\u001b[0m\u001b[0mtimeout\u001b[0m\u001b[0;34m)\u001b[0m\u001b[0;34m\u001b[0m\u001b[0;34m\u001b[0m\u001b[0m\n\u001b[0m",
      "\u001b[0;32m/opt/lsst/software/stack/conda/miniconda3-py38_4.9.2/envs/lsst-scipipe-0.6.0/lib/python3.8/site-packages/lsst/ts/salobj/topics/remote_command.py\u001b[0m in \u001b[0;36mnext_ackcmd\u001b[0;34m(self, timeout)\u001b[0m\n\u001b[1;32m    180\u001b[0m             \u001b[0mackcmd\u001b[0m \u001b[0;34m=\u001b[0m \u001b[0;32mawait\u001b[0m \u001b[0mself\u001b[0m\u001b[0;34m.\u001b[0m\u001b[0m_wait_task\u001b[0m\u001b[0;34m\u001b[0m\u001b[0;34m\u001b[0m\u001b[0m\n\u001b[1;32m    181\u001b[0m             \u001b[0;32mif\u001b[0m \u001b[0mackcmd\u001b[0m\u001b[0;34m.\u001b[0m\u001b[0mack\u001b[0m \u001b[0;32min\u001b[0m \u001b[0mself\u001b[0m\u001b[0;34m.\u001b[0m\u001b[0mfailed_ack_codes\u001b[0m\u001b[0;34m:\u001b[0m\u001b[0;34m\u001b[0m\u001b[0;34m\u001b[0m\u001b[0m\n\u001b[0;32m--> 182\u001b[0;31m                 \u001b[0;32mraise\u001b[0m \u001b[0mbase\u001b[0m\u001b[0;34m.\u001b[0m\u001b[0mAckError\u001b[0m\u001b[0;34m(\u001b[0m\u001b[0mmsg\u001b[0m\u001b[0;34m=\u001b[0m\u001b[0;34m\"Command failed\"\u001b[0m\u001b[0;34m,\u001b[0m \u001b[0mackcmd\u001b[0m\u001b[0;34m=\u001b[0m\u001b[0mackcmd\u001b[0m\u001b[0;34m)\u001b[0m\u001b[0;34m\u001b[0m\u001b[0;34m\u001b[0m\u001b[0m\n\u001b[0m\u001b[1;32m    183\u001b[0m             \u001b[0;32mreturn\u001b[0m \u001b[0mackcmd\u001b[0m\u001b[0;34m\u001b[0m\u001b[0;34m\u001b[0m\u001b[0m\n\u001b[1;32m    184\u001b[0m         \u001b[0;32mexcept\u001b[0m \u001b[0masyncio\u001b[0m\u001b[0;34m.\u001b[0m\u001b[0mTimeoutError\u001b[0m\u001b[0;34m:\u001b[0m\u001b[0;34m\u001b[0m\u001b[0;34m\u001b[0m\u001b[0m\n",
      "\u001b[0;31mAckError\u001b[0m: msg='Command failed', ackcmd=(ackcmd private_seqNum=730611388, ack=<SalRetCode.CMD_FAILED: -302>, error=1, result=\"Failed: msg='Command failed', ackcmd=(ackcmd private_seqNum=1668546126, ack=<SalRetCode.CMD_FAILED: -302>, error=0, result='ERROR: Command masterOpenValve rejected while in EnabledState state.')\")"
     ]
    }
   ],
   "source": [
    "# This moves everything to park position and opens the dome.  It takes 5+ minutes.\n",
    "await atcs.prepare_for_onsky()"
   ]
  },
  {
   "cell_type": "code",
   "execution_count": 14,
   "metadata": {},
   "outputs": [
    {
     "name": "stdout",
     "output_type": "stream",
     "text": [
      "Cover state <MirrorCoverState.OPENED: 7>\n",
      "Closing M1 cover.\n",
      "Using nasmyth port <Foci.NASMYTH2: 3>\n",
      "Cover state <MirrorCoverState.INMOTION: 8>\n",
      "Cover state <MirrorCoverState.CLOSED: 6>\n"
     ]
    }
   ],
   "source": [
    "await atcs.close_m1_cover()"
   ]
  },
  {
   "cell_type": "code",
   "execution_count": 15,
   "metadata": {},
   "outputs": [
    {
     "name": "stdout",
     "output_type": "stream",
     "text": [
      "M1 vent state <VentsPosition.OPENED: 0>\n",
      "Closing M1 vents.\n",
      "M1 vent state <VentsPosition.CLOSED: 1>\n"
     ]
    }
   ],
   "source": [
    "await atcs.close_m1_vent()"
   ]
  },
  {
   "cell_type": "code",
   "execution_count": 16,
   "metadata": {},
   "outputs": [
    {
     "data": {
      "text/plain": [
       "<ddsutil.ATPneumatics_ackcmd_8e4519ae at 0x7f604d4f06a0>"
      ]
     },
     "execution_count": 16,
     "metadata": {},
     "output_type": "execute_result"
    }
   ],
   "source": [
    "await atcs.rem.atpneumatics.cmd_closeMasterAirSupply.set_start(timeout=5.0)"
   ]
  },
  {
   "cell_type": "code",
   "execution_count": 17,
   "metadata": {},
   "outputs": [
    {
     "data": {
      "text/plain": [
       "<ddsutil.ATPneumatics_ackcmd_8e4519ae at 0x7f603c738610>"
      ]
     },
     "execution_count": 17,
     "metadata": {},
     "output_type": "execute_result"
    }
   ],
   "source": [
    "await atcs.rem.atpneumatics.cmd_closeInstrumentAirValve.set_start(timeout=5.0)"
   ]
  },
  {
   "cell_type": "code",
   "execution_count": 18,
   "metadata": {},
   "outputs": [
    {
     "data": {
      "text/plain": [
       "<ddsutil.ATPneumatics_ackcmd_8e4519ae at 0x7f60857a80d0>"
      ]
     },
     "execution_count": 18,
     "metadata": {},
     "output_type": "execute_result"
    }
   ],
   "source": [
    "await atcs.rem.atpneumatics.cmd_m1CloseAirValve.start(timeout=5.0)"
   ]
  },
  {
   "cell_type": "code",
   "execution_count": 19,
   "metadata": {},
   "outputs": [
    {
     "data": {
      "text/plain": [
       "<ddsutil.ATAOS_ackcmd_38d6204e at 0x7f602b8561f0>"
      ]
     },
     "execution_count": 19,
     "metadata": {},
     "output_type": "execute_result"
    }
   ],
   "source": [
    "await atcs.rem.ataos.cmd_enableCorrection.set_start(\n",
    "    m1=True, hexapod=True, atspectrograph=True, timeout=atcs.long_timeout\n",
    ") "
   ]
  },
  {
   "cell_type": "code",
   "execution_count": 20,
   "metadata": {},
   "outputs": [
    {
     "name": "stdout",
     "output_type": "stream",
     "text": [
      "Cover state <MirrorCoverState.CLOSED: 6>\n",
      "Opening M1 cover.\n",
      "Cover state <MirrorCoverState.INMOTION: 8>\n",
      "Cover state <MirrorCoverState.OPENED: 7>\n"
     ]
    }
   ],
   "source": [
    "await atcs.open_m1_cover()"
   ]
  },
  {
   "cell_type": "code",
   "execution_count": 21,
   "metadata": {},
   "outputs": [
    {
     "name": "stdout",
     "output_type": "stream",
     "text": [
      "M1 vent state <VentsPosition.CLOSED: 1>\n",
      "Opening M1 vents.\n",
      "M1 vent state <VentsPosition.PARTIALLYOPENED: 2>\n",
      "M1 vent state <VentsPosition.OPENED: 0>\n"
     ]
    }
   ],
   "source": [
    "await atcs.open_m1_vent()"
   ]
  },
  {
   "cell_type": "code",
   "execution_count": 59,
   "metadata": {
    "collapsed": true,
    "jupyter": {
     "outputs_hidden": true
    }
   },
   "outputs": [
    {
     "name": "stdout",
     "output_type": "stream",
     "text": [
      "Slewing to HD117637: 13 31 48.5393 -10 15 31.406\n",
      "Setting rotator physical position to 0.0 deg. Rotator will track sky.\n",
      "Sending command\n",
      "Stop tracking.\n",
      "Tracking state: <AtMountState.TRACKINGENABLED: 9>\n",
      "Tracking state: <AtMountState.STOPPING: 10>\n",
      "In Position: True.\n",
      "Scheduling check coroutines\n",
      "process as completed...\n",
      "atmcs: <State.ENABLED: 2>\n",
      "atptg: <State.ENABLED: 2>\n",
      "ataos: <State.ENABLED: 2>\n",
      "atpneumatics: <State.ENABLED: 2>\n",
      "athexapod: <State.ENABLED: 2>\n",
      "atdome: <State.ENABLED: 2>\n",
      "atdometrajectory: <State.ENABLED: 2>\n",
      "[Telescope] delta Alt = +000.032 deg; delta Az = -000.138 deg; delta N1 = -000.000 deg; delta N2 = -015.984 deg [Dome] delta Az = +000.231 deg\n",
      "ATDome in position.\n",
      "[Telescope] delta Alt = -000.003 deg; delta Az = -000.008 deg; delta N1 = -000.000 deg; delta N2 = -015.648 deg [Dome] delta Az = +000.231 deg\n",
      "[Telescope] delta Alt = -000.002 deg; delta Az = -000.011 deg; delta N1 = +000.000 deg; delta N2 = -012.418 deg [Dome] delta Az = +000.231 deg\n",
      "[Telescope] delta Alt = -000.002 deg; delta Az = -000.009 deg; delta N1 = +000.000 deg; delta N2 = -006.697 deg [Dome] delta Az = +000.231 deg\n",
      "[Telescope] delta Alt = -000.002 deg; delta Az = -000.010 deg; delta N1 = -000.000 deg; delta N2 = -001.756 deg [Dome] delta Az = +000.231 deg\n",
      "Got True\n",
      "Waiting for telescope to settle.\n",
      "[Telescope] delta Alt = -000.002 deg; delta Az = -000.011 deg; delta N1 = -000.000 deg; delta N2 = -000.024 deg [Dome] delta Az = +000.231 deg\n",
      "Telescope in position.\n"
     ]
    }
   ],
   "source": [
    "# Slew to a given object and start tracking.\n",
    "await atcs.slew_object('HD117637', rot_type=RotType.PhysicalSky)"
   ]
  },
  {
   "cell_type": "code",
   "execution_count": 23,
   "metadata": {},
   "outputs": [
    {
     "data": {
      "text/plain": [
       "<ddsutil.ATPtg_ackcmd_8110c0a5 at 0x7f602b82c0a0>"
      ]
     },
     "execution_count": 23,
     "metadata": {},
     "output_type": "execute_result"
    }
   ],
   "source": [
    "await atcs.rem.atptg.cmd_pointLoadModel.set_start(pointingFile=\"/home/saluser/at_20210610_fauto.mod\")"
   ]
  },
  {
   "cell_type": "code",
   "execution_count": 45,
   "metadata": {},
   "outputs": [
    {
     "name": "stdout",
     "output_type": "stream",
     "text": [
      "Enable dome trajectory following.\n"
     ]
    }
   ],
   "source": [
    "await atcs.disable_dome_following()"
   ]
  },
  {
   "cell_type": "code",
   "execution_count": 46,
   "metadata": {},
   "outputs": [
    {
     "name": "stdout",
     "output_type": "stream",
     "text": [
      "Enable dome trajectory following.\n",
      "process as completed...\n",
      "Got False\n",
      "Telescope not in position\n",
      "Got True\n",
      "Waiting for telescope to settle.\n",
      "ATDome in position.\n",
      "[Dome] delta Az = +062.310 deg\n",
      "[Dome] delta Az = +062.210 deg\n",
      "[Dome] delta Az = +061.860 deg\n",
      "Telescope in position.\n"
     ]
    }
   ],
   "source": [
    "await atcs.slew_dome_to(45.0)"
   ]
  },
  {
   "cell_type": "code",
   "execution_count": 47,
   "metadata": {},
   "outputs": [
    {
     "name": "stdout",
     "output_type": "stream",
     "text": [
      "Dome azimuth still homing.\n",
      "Dome azimuth still homing.\n",
      "Dome azimuth still homing.\n",
      "Dome azimuth still homing.\n",
      "Dome azimuth still homing.\n",
      "Dome azimuth homed successfully.\n"
     ]
    }
   ],
   "source": [
    "await atcs.home_dome()"
   ]
  },
  {
   "cell_type": "code",
   "execution_count": 48,
   "metadata": {},
   "outputs": [
    {
     "name": "stdout",
     "output_type": "stream",
     "text": [
      "Enable dome trajectory following.\n"
     ]
    }
   ],
   "source": [
    "await atcs.enable_dome_following()"
   ]
  },
  {
   "cell_type": "code",
   "execution_count": 49,
   "metadata": {},
   "outputs": [
    {
     "data": {
      "text/plain": [
       "<ddsutil.ATAOS_ackcmd_38d6204e at 0x7f601af0ef70>"
      ]
     },
     "execution_count": 49,
     "metadata": {},
     "output_type": "execute_result"
    }
   ],
   "source": [
    "await atcs.rem.ataos.cmd_resetOffset.set_start(axis=\"z\")"
   ]
  },
  {
   "cell_type": "code",
   "execution_count": 31,
   "metadata": {},
   "outputs": [
    {
     "data": {
      "text/plain": [
       "<ddsutil.ATAOS_ackcmd_38d6204e at 0x7f6084cb6850>"
      ]
     },
     "execution_count": 31,
     "metadata": {},
     "output_type": "execute_result"
    }
   ],
   "source": [
    "await atcs.rem.ataos.cmd_resetOffset.set_start(axis=\"y\")"
   ]
  },
  {
   "cell_type": "code",
   "execution_count": 32,
   "metadata": {},
   "outputs": [
    {
     "data": {
      "text/plain": [
       "<ddsutil.ATAOS_ackcmd_38d6204e at 0x7f6009635520>"
      ]
     },
     "execution_count": 32,
     "metadata": {},
     "output_type": "execute_result"
    }
   ],
   "source": [
    "await atcs.rem.ataos.cmd_resetOffset.set_start(axis=\"x\")"
   ]
  },
  {
   "cell_type": "code",
   "execution_count": 55,
   "metadata": {},
   "outputs": [
    {
     "data": {
      "text/plain": [
       "<ddsutil.ATAOS_ackcmd_38d6204e at 0x7f601af33940>"
      ]
     },
     "execution_count": 55,
     "metadata": {},
     "output_type": "execute_result"
    }
   ],
   "source": [
    "await atcs.rem.ataos.cmd_offset.set_start(z=-0.4)"
   ]
  },
  {
   "cell_type": "code",
   "execution_count": 111,
   "metadata": {},
   "outputs": [
    {
     "name": "stdout",
     "output_type": "stream",
     "text": [
      "Calculating x/y offset: -150/-110 \n",
      "Applying Az/El offset: -86.85238781796765/-164.4890960833494 \n",
      "Telescope not in position.\n",
      "Timed out waiting for offset done events.\n",
      "Waiting for telescope to settle.\n",
      "Done\n"
     ]
    }
   ],
   "source": [
    "await atcs.offset_xy(y=-110, x=-150, absorb=False)"
   ]
  },
  {
   "cell_type": "code",
   "execution_count": 112,
   "metadata": {},
   "outputs": [
    {
     "name": "stdout",
     "output_type": "stream",
     "text": [
      "Generating group_id\n",
      "imagetype: OBJECT, TCS synchronization not configured.\n",
      "OBJECT 0001 - 0001\n"
     ]
    },
    {
     "data": {
      "text/plain": [
       "array([2021070700463])"
      ]
     },
     "execution_count": 112,
     "metadata": {},
     "output_type": "execute_result"
    },
    {
     "name": "stdout",
     "output_type": "stream",
     "text": [
      "logMessage DDS read queue is filling: 10 of 100 elements\n"
     ]
    }
   ],
   "source": [
    "# Take 1 5 second image\n",
    "await latiss.take_object(5.0, 1, filter='RG610', grating='empty_1')"
   ]
  },
  {
   "cell_type": "code",
   "execution_count": null,
   "metadata": {},
   "outputs": [],
   "source": [
    "for i in range(20):\n",
    "    await latiss.take_object(5.0, 1, filter='RG610', grating='empty_1')\n",
    "    await asyncio.sleep(30.0)\n",
    "    "
   ]
  },
  {
   "cell_type": "code",
   "execution_count": null,
   "metadata": {},
   "outputs": [],
   "source": [
    "await latiss.take_engtest(5.0, 1, filter='RG610', grating='empty_1')"
   ]
  },
  {
   "cell_type": "code",
   "execution_count": null,
   "metadata": {},
   "outputs": [],
   "source": [
    "await latiss.setup_atspec(filter='RG610', grating='empty_1')"
   ]
  },
  {
   "cell_type": "code",
   "execution_count": null,
   "metadata": {},
   "outputs": [],
   "source": [
    "await latiss.take_object(10.0, 1, filter='empty_1', grating='ronchi90lpmm')"
   ]
  },
  {
   "cell_type": "code",
   "execution_count": null,
   "metadata": {},
   "outputs": [],
   "source": [
    "await atcs.rem.atpneumatics.cmd_closeM1Cover.start()"
   ]
  },
  {
   "cell_type": "code",
   "execution_count": null,
   "metadata": {},
   "outputs": [],
   "source": [
    "await atcs.home_dome()"
   ]
  },
  {
   "cell_type": "code",
   "execution_count": null,
   "metadata": {},
   "outputs": [],
   "source": [
    "atcs.check.atdome = True\n",
    "atcs.check.atdometrajectory = True"
   ]
  },
  {
   "cell_type": "code",
   "execution_count": null,
   "metadata": {},
   "outputs": [],
   "source": [
    "await atcs.slew_dome_to(az=90.0)"
   ]
  },
  {
   "cell_type": "code",
   "execution_count": null,
   "metadata": {},
   "outputs": [],
   "source": [
    "await atcs.open_dome_shutter()"
   ]
  },
  {
   "cell_type": "code",
   "execution_count": null,
   "metadata": {},
   "outputs": [],
   "source": [
    "await atcs.rem.atpneumatics.cmd_openM1CellVents.start()"
   ]
  },
  {
   "cell_type": "code",
   "execution_count": null,
   "metadata": {},
   "outputs": [],
   "source": [
    "# This Opens/Closes the dropout shutter\n",
    "# await atcs.rem.atdome.cmd_moveShutterDropoutDoor.set_start(open=False)"
   ]
  },
  {
   "cell_type": "code",
   "execution_count": null,
   "metadata": {},
   "outputs": [],
   "source": [
    "# This tunrs on ATAOS corrections and turns on the air pressure under the M1 mirror.\n",
    "await atcs.rem.ataos.cmd_enableCorrection.set_start(\n",
    "    m1=True, hexapod=True, atspectrograph=True, timeout=atcs.long_timeout\n",
    ")"
   ]
  },
  {
   "cell_type": "code",
   "execution_count": null,
   "metadata": {},
   "outputs": [],
   "source": [
    "await atcs.enable({\"atdome\": \"current\", \"ataos\": \"current\", \"athexapod\": \"current\"})"
   ]
  },
  {
   "cell_type": "code",
   "execution_count": null,
   "metadata": {},
   "outputs": [],
   "source": [
    "await atcs.rem.atdometrajectory.cmd_setFollowingMode.set_start(enable=True)"
   ]
  },
  {
   "cell_type": "code",
   "execution_count": null,
   "metadata": {},
   "outputs": [],
   "source": [
    "# Pointing to a given Az/El  This will not track\n",
    "await atcs.point_azel(az, el, rot_tel=rot)"
   ]
  },
  {
   "cell_type": "code",
   "execution_count": null,
   "metadata": {},
   "outputs": [],
   "source": [
    "# Pointing to a given RA/Dec  This will track\n",
    "await atcs.slew_icrs(ra=ra, dec=dec, rot=rot, rot_type=RotType.PhysicalSky)"
   ]
  },
  {
   "cell_type": "code",
   "execution_count": null,
   "metadata": {},
   "outputs": [],
   "source": [
    "# Slew to a given object and start tracking.\n",
    "await atcs.slew_object('HD 187101', rot_type=RotType.Parallactic)"
   ]
  },
  {
   "cell_type": "code",
   "execution_count": 79,
   "metadata": {},
   "outputs": [
    {
     "data": {
      "text/plain": [
       "[<ddsutil.ATSpectrograph_ackcmd_6d105732 at 0x7f6009e1e1c0>,\n",
       " <ddsutil.ATSpectrograph_ackcmd_6d105732 at 0x7f6009882c40>]"
      ]
     },
     "execution_count": 79,
     "metadata": {},
     "output_type": "execute_result"
    }
   ],
   "source": [
    "# It is recommended to do this and wait several seconds for the spectrograph to settle\n",
    "# before taking an image\n",
    "await latiss.setup_atspec(filter='RG610', grating='empty_1')"
   ]
  },
  {
   "cell_type": "code",
   "execution_count": null,
   "metadata": {},
   "outputs": [],
   "source": [
    "# Take 1 2 second image\n",
    "await latiss.take_object(30.0, 1, filter='RG610', grating='empty_1')"
   ]
  },
  {
   "cell_type": "code",
   "execution_count": null,
   "metadata": {},
   "outputs": [],
   "source": [
    "await atcs.rem.ataos.cmd_disableCorrection.set_start(atspectrograph=True)"
   ]
  },
  {
   "cell_type": "code",
   "execution_count": null,
   "metadata": {},
   "outputs": [],
   "source": [
    "# This loop will take a set of images on both sides of current best focus\n",
    "# starts at starting_z_offset and runs to -starting_z_offset\n",
    "# then puts the z_offset back where it was.\n",
    "\n",
    "starting_z_offset = -0.20\n",
    "z_offset_increment = 0.05\n",
    "nsteps = int((-2 * starting_z_offset) / z_offset_increment) + 1\n",
    "total_z_offset = 0.0\n",
    "await atcs.rem.ataos.cmd_offset.set_start(z=starting_z_offset)\n",
    "total_z_offset += starting_z_offset\n",
    "print(f\"Total z offset = {total_z_offset}\")\n",
    "await asyncio.sleep(2)\n",
    "for i in range(nsteps):\n",
    "    await latiss.take_object(5.0, 1, filter='RG610', grating='holo4_003')\n",
    "    await atcs.rem.ataos.cmd_offset.set_start(z=z_offset_increment)\n",
    "    total_z_offset += z_offset_increment\n",
    "    print(f\"Total z offset = {total_z_offset}\")\n",
    "    \n",
    "# Put offset back where it was\n",
    "await atcs.rem.ataos.cmd_offset.set_start(z=-total_z_offset)\n",
    "total_z_offset -= total_z_offset\n",
    "print(f\"Total z offset = {total_z_offset}\")\n",
    "    "
   ]
  },
  {
   "cell_type": "code",
   "execution_count": null,
   "metadata": {},
   "outputs": [],
   "source": [
    "# This will put in a hexapod offset\n",
    "#await atcs.rem.ataos.cmd_offset.set_start(z=-0.095)"
   ]
  },
  {
   "cell_type": "code",
   "execution_count": null,
   "metadata": {},
   "outputs": [],
   "source": [
    "# To reset all hexapod offsets\n",
    "tmp = await atcs.rem.ataos.cmd_resetOffset.set_start(axis='y')"
   ]
  },
  {
   "cell_type": "code",
   "execution_count": null,
   "metadata": {},
   "outputs": [],
   "source": [
    "# Move the star within the field\n",
    "# Offsets are in arcseconds.\n",
    "#await atcs.offset_xy(y=-100, x=0, relative=True)"
   ]
  },
  {
   "cell_type": "code",
   "execution_count": null,
   "metadata": {},
   "outputs": [],
   "source": [
    "await latiss.take_object(5.0, 1, filter='RG610', grating='ronchi170lpmm')"
   ]
  },
  {
   "cell_type": "code",
   "execution_count": null,
   "metadata": {},
   "outputs": [],
   "source": [
    "atcs.offset_azel?"
   ]
  },
  {
   "cell_type": "code",
   "execution_count": null,
   "metadata": {},
   "outputs": [],
   "source": [
    "# Run a figure-8 of offsets\n",
    "offsets = [[0,0], [0,100], [100,0], [0,-100], [-100,0], [0,-100], [-100,0], [0,100], [100,0]]\n",
    "await latiss.setup_atspec(filter='RG610', grating='empty_1')\n",
    "await asyncio.sleep(2)\n",
    "for [xx, yy] in offsets:\n",
    "    await atcs.offset_azel(az=xx, el=yy, relative=True)\n",
    "    await asyncio.sleep(2)\n",
    "    await latiss.take_object(2.0, 1, filter='RG610', grating='empty_1')\n",
    "    await asyncio.sleep(2)\n",
    "    "
   ]
  },
  {
   "cell_type": "code",
   "execution_count": null,
   "metadata": {},
   "outputs": [],
   "source": [
    "# To enable or disable built-in offsets for the filters and gratings\n",
    "#await atcs.rem.ataos.cmd_disableCorrection.set_start(atspectrograph=True)\n",
    "#await atcs.rem.ataos.cmd_enableCorrection.set_start(atspectrograph=True)"
   ]
  },
  {
   "cell_type": "code",
   "execution_count": null,
   "metadata": {},
   "outputs": [],
   "source": [
    "# To stop tracking\n",
    "# await atcs.stop_tracking()"
   ]
  },
  {
   "cell_type": "code",
   "execution_count": null,
   "metadata": {},
   "outputs": [],
   "source": [
    "# If you are done, put things in standby, or shut things down completely\n",
    "#await atcs.standby()\n",
    "await atcs.shutdown()"
   ]
  },
  {
   "cell_type": "code",
   "execution_count": 113,
   "metadata": {},
   "outputs": [
    {
     "name": "stdout",
     "output_type": "stream",
     "text": [
      "[atcamera]::[<State.ENABLED: 2>, <State.DISABLED: 1>, <State.STANDBY: 5>]\n",
      "[atspectrograph]::[<State.ENABLED: 2>, <State.DISABLED: 1>, <State.STANDBY: 5>]\n",
      "[atheaderservice]::[<State.ENABLED: 2>, <State.DISABLED: 1>, <State.STANDBY: 5>]\n",
      "[atarchiver]::[<State.ENABLED: 2>, <State.DISABLED: 1>, <State.STANDBY: 5>]\n",
      "All components in <State.STANDBY: 5>.\n"
     ]
    }
   ],
   "source": [
    "# Putting everything back in standby.\n",
    "await latiss.standby()"
   ]
  },
  {
   "cell_type": "code",
   "execution_count": 76,
   "metadata": {},
   "outputs": [
    {
     "data": {
      "text/plain": [
       "<ddsutil.ATDome_ackcmd_ec56b694 at 0x7f608481e4f0>"
      ]
     },
     "execution_count": 76,
     "metadata": {},
     "output_type": "execute_result"
    }
   ],
   "source": [
    "await atcs.rem.atdome.cmd_moveShutterDropoutDoor.set_start(open=True)"
   ]
  },
  {
   "cell_type": "code",
   "execution_count": null,
   "metadata": {},
   "outputs": [],
   "source": []
  }
 ],
 "metadata": {
  "kernelspec": {
   "display_name": "LSST",
   "language": "python",
   "name": "lsst"
  },
  "language_info": {
   "codemirror_mode": {
    "name": "ipython",
    "version": 3
   },
   "file_extension": ".py",
   "mimetype": "text/x-python",
   "name": "python",
   "nbconvert_exporter": "python",
   "pygments_lexer": "ipython3",
   "version": "3.8.8"
  }
 },
 "nbformat": 4,
 "nbformat_minor": 4
}
