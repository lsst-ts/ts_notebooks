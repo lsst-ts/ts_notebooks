{
 "cells": [
  {
   "cell_type": "code",
   "execution_count": 1,
   "metadata": {},
   "outputs": [],
   "source": [
    "import sys\n",
    "import asyncio\n",
    "import time\n",
    "import os\n",
    "\n",
    "import numpy as np\n",
    "\n",
    "from lsst.ts import salobj\n",
    "\n",
    "from lsst.ts.observatory.control.auxtel.atcs import ATCS\n",
    "from lsst.ts.observatory.control.auxtel.latiss import LATISS"
   ]
  },
  {
   "cell_type": "code",
   "execution_count": 2,
   "metadata": {},
   "outputs": [],
   "source": [
    "# for tab completion to work in current notebook instance\n",
    "%config IPCompleter.use_jedi = False"
   ]
  },
  {
   "cell_type": "code",
   "execution_count": 3,
   "metadata": {},
   "outputs": [],
   "source": [
    "import logging\n",
    "stream_handler = logging.StreamHandler(sys.stdout)\n",
    "logger = logging.getLogger()\n",
    "logger.addHandler(stream_handler)\n",
    "logger.level = logging.DEBUG\n",
    "# Make matplotlib less chatty\n",
    "logging.getLogger(\"matplotlib\").setLevel(logging.WARNING)"
   ]
  },
  {
   "cell_type": "code",
   "execution_count": 4,
   "metadata": {
    "collapsed": true,
    "jupyter": {
     "outputs_hidden": true
    }
   },
   "outputs": [
    {
     "name": "stdout",
     "output_type": "stream",
     "text": [
      "atmcs: Adding all resources.\n",
      "atptg: Adding all resources.\n",
      "ataos: Adding all resources.\n",
      "atpneumatics: Adding all resources.\n",
      "athexapod: Adding all resources.\n",
      "atdome: Adding all resources.\n",
      "atdometrajectory: Adding all resources.\n",
      "atcamera: Adding all resources.\n",
      "atspectrograph: Adding all resources.\n",
      "atheaderservice: Adding all resources.\n",
      "atarchiver: Adding all resources.\n",
      "Read historical data in 0.02 sec\n",
      "Read 100 history items for RemoteEvent(ATDome, 0, allAxesInPosition)\n",
      "Read 26 history items for RemoteEvent(ATDome, 0, appliedSettingsMatchStart)\n",
      "Read 1 history items for RemoteEvent(ATDome, 0, authList)\n",
      "Read 81 history items for RemoteEvent(ATDome, 0, azimuthCommandedState)\n",
      "Read 100 history items for RemoteEvent(ATDome, 0, azimuthInPosition)\n",
      "Read 100 history items for RemoteEvent(ATDome, 0, azimuthState)\n",
      "Read 100 history items for RemoteEvent(ATDome, 0, doorEncoderExtremes)\n",
      "Read 21 history items for RemoteEvent(ATDome, 0, dropoutDoorCommandedState)\n",
      "Read 7 history items for RemoteEvent(ATDome, 0, dropoutDoorState)\n",
      "Read 1 history items for RemoteEvent(ATDome, 0, emergencyStop)\n",
      "Read 100 history items for RemoteEvent(ATDome, 0, heartbeat)\n",
      "Read 58 history items for RemoteEvent(ATDome, 0, lastAzimuthGoTo)\n",
      "Read 1 history items for RemoteEvent(ATDome, 0, logLevel)\n",
      "Read 100 history items for RemoteEvent(ATDome, 0, logMessage)\n",
      "Read 21 history items for RemoteEvent(ATDome, 0, mainDoorCommandedState)\n",
      "Read 9 history items for RemoteEvent(ATDome, 0, mainDoorState)\n",
      "Read 42 history items for RemoteEvent(ATDome, 0, scbLink)\n",
      "Read 1 history items for RemoteEvent(ATDome, 0, settingVersions)\n",
      "Read 1 history items for RemoteEvent(ATDome, 0, settingsApplied)\n",
      "Read 40 history items for RemoteEvent(ATDome, 0, settingsAppliedDomeController)\n",
      "Read 26 history items for RemoteEvent(ATDome, 0, settingsAppliedDomeTcp)\n",
      "Read 12 history items for RemoteEvent(ATDome, 0, shutterInPosition)\n",
      "Read 1 history items for RemoteEvent(ATDome, 0, simulationMode)\n",
      "Read 1 history items for RemoteEvent(ATDome, 0, softwareVersions)\n",
      "Read 65 history items for RemoteEvent(ATDome, 0, summaryState)\n",
      "Read historical data in 0.11 sec\n",
      "position DDS read queue is filling: 71 of 100 elements\n",
      "Read 21 history items for RemoteEvent(ATSpectrograph, 0, appliedSettingsMatchStart)\n",
      "Read 1 history items for RemoteEvent(ATSpectrograph, 0, authList)\n",
      "Read 100 history items for RemoteEvent(ATSpectrograph, 0, disperserInPosition)\n",
      "Read 1 history items for RemoteEvent(ATSpectrograph, 0, errorCode)\n",
      "Read 100 history items for RemoteEvent(ATSpectrograph, 0, filterInPosition)\n",
      "Read 100 history items for RemoteEvent(ATSpectrograph, 0, fwState)\n",
      "Read 100 history items for RemoteEvent(ATSpectrograph, 0, gwState)\n",
      "Read 100 history items for RemoteEvent(ATSpectrograph, 0, heartbeat)\n",
      "Read 1 history items for RemoteEvent(ATSpectrograph, 0, logLevel)\n",
      "Read 18 history items for RemoteEvent(ATSpectrograph, 0, logMessage)\n",
      "Read 100 history items for RemoteEvent(ATSpectrograph, 0, reportedDisperserPosition)\n",
      "Read 100 history items for RemoteEvent(ATSpectrograph, 0, reportedFilterPosition)\n",
      "Read 2 history items for RemoteEvent(ATSpectrograph, 0, reportedLinearStagePosition)\n",
      "Read 5 history items for RemoteEvent(ATSpectrograph, 0, settingVersions)\n",
      "Read 5 history items for RemoteEvent(ATSpectrograph, 0, settingsApplied)\n",
      "Read 7 history items for RemoteEvent(ATSpectrograph, 0, settingsAppliedValues)\n",
      "Read 1 history items for RemoteEvent(ATSpectrograph, 0, simulationMode)\n",
      "Read 1 history items for RemoteEvent(ATSpectrograph, 0, softwareVersions)\n",
      "Read 82 history items for RemoteEvent(ATSpectrograph, 0, summaryState)\n",
      "Read historical data in 0.18 sec\n",
      "Read 1 history items for RemoteEvent(ATDomeTrajectory, 0, algorithm)\n",
      "Read 25 history items for RemoteEvent(ATDomeTrajectory, 0, appliedSettingsMatchStart)\n",
      "Read 1 history items for RemoteEvent(ATDomeTrajectory, 0, authList)\n",
      "Read 100 history items for RemoteEvent(ATDomeTrajectory, 0, heartbeat)\n",
      "Read 1 history items for RemoteEvent(ATDomeTrajectory, 0, logLevel)\n",
      "Read 90 history items for RemoteEvent(ATDomeTrajectory, 0, logMessage)\n",
      "Read 1 history items for RemoteEvent(ATDomeTrajectory, 0, settingVersions)\n",
      "Read 1 history items for RemoteEvent(ATDomeTrajectory, 0, settingsApplied)\n",
      "Read 1 history items for RemoteEvent(ATDomeTrajectory, 0, simulationMode)\n",
      "Read 1 history items for RemoteEvent(ATDomeTrajectory, 0, softwareVersions)\n",
      "Read 100 history items for RemoteEvent(ATDomeTrajectory, 0, summaryState)\n",
      "Read historical data in 0.22 sec\n",
      "Read 21 history items for RemoteEvent(ATHexapod, 0, appliedSettingsMatchStart)\n",
      "Read 1 history items for RemoteEvent(ATHexapod, 0, authList)\n",
      "Read 100 history items for RemoteEvent(ATHexapod, 0, detailedState)\n",
      "Read 1 history items for RemoteEvent(ATHexapod, 0, errorCode)\n",
      "Read 100 history items for RemoteEvent(ATHexapod, 0, heartbeat)\n",
      "Read 100 history items for RemoteEvent(ATHexapod, 0, inPosition)\n",
      "Read 1 history items for RemoteEvent(ATHexapod, 0, logLevel)\n",
      "Read 100 history items for RemoteEvent(ATHexapod, 0, logMessage)\n",
      "Read 100 history items for RemoteEvent(ATHexapod, 0, positionUpdate)\n",
      "Read 1 history items for RemoteEvent(ATHexapod, 0, readyForCommand)\n",
      "Read 1 history items for RemoteEvent(ATHexapod, 0, settingVersions)\n",
      "Read 1 history items for RemoteEvent(ATHexapod, 0, settingsApplied)\n",
      "Read 1 history items for RemoteEvent(ATHexapod, 0, settingsAppliedPivot)\n",
      "Read 1 history items for RemoteEvent(ATHexapod, 0, settingsAppliedPositionLimits)\n",
      "Read 1 history items for RemoteEvent(ATHexapod, 0, settingsAppliedTcp)\n",
      "Read 1 history items for RemoteEvent(ATHexapod, 0, settingsAppliedVelocities)\n",
      "Read 1 history items for RemoteEvent(ATHexapod, 0, simulationMode)\n",
      "Read 1 history items for RemoteEvent(ATHexapod, 0, softwareVersions)\n",
      "Read 82 history items for RemoteEvent(ATHexapod, 0, summaryState)\n",
      "Read historical data in 0.28 sec\n",
      "Read 26 history items for RemoteEvent(ATPneumatics, 0, appliedSettingsMatchStart)\n",
      "Read 35 history items for RemoteEvent(ATPneumatics, 0, cellVentsState)\n",
      "Read 1 history items for RemoteEvent(ATPneumatics, 0, eStop)\n",
      "Read 100 history items for RemoteEvent(ATPneumatics, 0, heartbeat)\n",
      "Read 35 history items for RemoteEvent(ATPneumatics, 0, instrumentState)\n",
      "Read 86 history items for RemoteEvent(ATPneumatics, 0, m1CoverLimitSwitches)\n",
      "Read 62 history items for RemoteEvent(ATPneumatics, 0, m1CoverState)\n",
      "Read 100 history items for RemoteEvent(ATPneumatics, 0, m1SetPressure)\n",
      "Read 57 history items for RemoteEvent(ATPneumatics, 0, m1State)\n",
      "Read 4 history items for RemoteEvent(ATPneumatics, 0, m1VentsLimitSwitches)\n",
      "Read 9 history items for RemoteEvent(ATPneumatics, 0, m1VentsPosition)\n",
      "Read 51 history items for RemoteEvent(ATPneumatics, 0, m2State)\n",
      "Read 35 history items for RemoteEvent(ATPneumatics, 0, mainValveState)\n",
      "Read 1 history items for RemoteEvent(ATPneumatics, 0, powerStatus)\n",
      "Read 26 history items for RemoteEvent(ATPneumatics, 0, settingVersions)\n",
      "Read 100 history items for RemoteEvent(ATPneumatics, 0, summaryState)\n",
      "Read historical data in 0.30 sec\n",
      "Read 1 history items for RemoteEvent(ATHeaderService, 0, authList)\n",
      "Read 100 history items for RemoteEvent(ATHeaderService, 0, heartbeat)\n",
      "Read 100 history items for RemoteEvent(ATHeaderService, 0, largeFileObjectAvailable)\n",
      "Read 1 history items for RemoteEvent(ATHeaderService, 0, logLevel)\n",
      "Read 100 history items for RemoteEvent(ATHeaderService, 0, logMessage)\n",
      "Read 1 history items for RemoteEvent(ATHeaderService, 0, simulationMode)\n",
      "Read 1 history items for RemoteEvent(ATHeaderService, 0, softwareVersions)\n",
      "Read 23 history items for RemoteEvent(ATHeaderService, 0, summaryState)\n",
      "Read historical data in 0.32 sec\n",
      "Read 100 history items for RemoteEvent(ATArchiver, 0, heartbeat)\n",
      "Read 100 history items for RemoteEvent(ATArchiver, 0, imageInOODS)\n",
      "Read 100 history items for RemoteEvent(ATArchiver, 0, imageRetrievalForArchiving)\n",
      "Read 2 history items for RemoteEvent(ATArchiver, 0, summaryState)\n",
      "Read historical data in 0.35 sec\n",
      "Read 5 history items for RemoteEvent(ATAOS, 0, appliedSettingsMatchStart)\n",
      "Read 100 history items for RemoteEvent(ATAOS, 0, atspectrographCorrectionCompleted)\n",
      "Read 100 history items for RemoteEvent(ATAOS, 0, atspectrographCorrectionStarted)\n",
      "Read 1 history items for RemoteEvent(ATAOS, 0, authList)\n",
      "Read 5 history items for RemoteEvent(ATAOS, 0, correctionEnabled)\n",
      "Read 100 history items for RemoteEvent(ATAOS, 0, correctionOffsets)\n",
      "Read 100 history items for RemoteEvent(ATAOS, 0, detailedState)\n",
      "Read 100 history items for RemoteEvent(ATAOS, 0, focusOffsetSummary)\n",
      "Read 100 history items for RemoteEvent(ATAOS, 0, heartbeat)\n",
      "Read 100 history items for RemoteEvent(ATAOS, 0, hexapodCorrectionCompleted)\n",
      "Read 100 history items for RemoteEvent(ATAOS, 0, hexapodCorrectionStarted)\n",
      "Read 3 history items for RemoteEvent(ATAOS, 0, logLevel)\n",
      "Read 100 history items for RemoteEvent(ATAOS, 0, logMessage)\n",
      "Read 100 history items for RemoteEvent(ATAOS, 0, m1CorrectionCompleted)\n",
      "Read 100 history items for RemoteEvent(ATAOS, 0, m1CorrectionStarted)\n",
      "Read 100 history items for RemoteEvent(ATAOS, 0, pointingOffsetSummary)\n",
      "Read 3 history items for RemoteEvent(ATAOS, 0, settingVersions)\n",
      "Read 4 history items for RemoteEvent(ATAOS, 0, settingsApplied)\n",
      "Read 1 history items for RemoteEvent(ATAOS, 0, simulationMode)\n",
      "Read 1 history items for RemoteEvent(ATAOS, 0, softwareVersions)\n",
      "Read 19 history items for RemoteEvent(ATAOS, 0, summaryState)\n",
      "Read historical data in 0.42 sec\n",
      "Read 19 history items for RemoteEvent(ATPtg, 0, airmassWarning)\n",
      "Read 1 history items for RemoteEvent(ATPtg, 0, azWrapWarning)\n",
      "Read 13 history items for RemoteEvent(ATPtg, 0, currentDebugLevel)\n",
      "Read 100 history items for RemoteEvent(ATPtg, 0, currentTarget)\n",
      "Read 100 history items for RemoteEvent(ATPtg, 0, detailedState)\n",
      "Read 1 history items for RemoteEvent(ATPtg, 0, elLimitWarning)\n",
      "Read 16 history items for RemoteEvent(ATPtg, 0, errorCode)\n",
      "Read 1 history items for RemoteEvent(ATPtg, 0, focusNameInconsistentWarning)\n",
      "Read 16 history items for RemoteEvent(ATPtg, 0, focusNameSelected)\n",
      "Read 100 history items for RemoteEvent(ATPtg, 0, heartbeat)\n",
      "Read 24 history items for RemoteEvent(ATPtg, 0, iers)\n",
      "Read 3 history items for RemoteEvent(ATPtg, 0, iersOutOfDate)\n",
      "Read 1 history items for RemoteEvent(ATPtg, 0, moonProximityWarning)\n",
      "Read 2 history items for RemoteEvent(ATPtg, 0, mountDataWarning)\n",
      "Read 5 history items for RemoteEvent(ATPtg, 0, objectSetWarning)\n",
      "Read 13 history items for RemoteEvent(ATPtg, 0, pointingModel)\n",
      "Read 2 history items for RemoteEvent(ATPtg, 0, pointing_file)\n",
      "Read 1 history items for RemoteEvent(ATPtg, 0, ptgAzCurrentWrap)\n",
      "Read 1 history items for RemoteEvent(ATPtg, 0, ptgRotCurrentWrap)\n",
      "Read 1 history items for RemoteEvent(ATPtg, 0, rotWrapWarning)\n",
      "Read 47 history items for RemoteEvent(ATPtg, 0, summaryState)\n",
      "Read 1 history items for RemoteEvent(ATPtg, 0, sunProximityWarning)\n",
      "Read 100 history items for RemoteEvent(ATPtg, 0, timesOfLimits)\n",
      "Read 100 history items for RemoteEvent(ATPtg, 0, trackPosting)\n",
      "Read 12 history items for RemoteEvent(ATPtg, 0, wavelength)\n",
      "Read 100 history items for RemoteEvent(ATPtg, 0, weatherDataApplied)\n",
      "Read 100 history items for RemoteEvent(ATPtg, 0, weatherDataInvalid)\n",
      "Read historical data in 0.47 sec\n",
      "Read 1 history items for RemoteEvent(ATCamera, 0, appliedSettingsMatchStart)\n",
      "Read 100 history items for RemoteEvent(ATCamera, 0, ccsCommandState)\n",
      "Read 100 history items for RemoteEvent(ATCamera, 0, endOfImageTelemetry)\n",
      "Read 100 history items for RemoteEvent(ATCamera, 0, endReadout)\n",
      "Read 50 history items for RemoteEvent(ATCamera, 0, endShutterClose)\n",
      "Read 50 history items for RemoteEvent(ATCamera, 0, endShutterOpen)\n",
      "Read 2 history items for RemoteEvent(ATCamera, 0, focalPlaneHardwareIdSettingsApplied)\n",
      "Read 2 history items for RemoteEvent(ATCamera, 0, focalPlaneSummaryInfo)\n",
      "Read 100 history items for RemoteEvent(ATCamera, 0, heartbeat)\n",
      "Read 100 history items for RemoteEvent(ATCamera, 0, imageReadinessDetailedState)\n",
      "Read 100 history items for RemoteEvent(ATCamera, 0, imageReadoutParameters)\n",
      "Read 100 history items for RemoteEvent(ATCamera, 0, raftsDetailedState)\n",
      "Read 100 history items for RemoteEvent(ATCamera, 0, shutterDetailedState)\n",
      "Read 50 history items for RemoteEvent(ATCamera, 0, shutterMotionProfile)\n",
      "Read 100 history items for RemoteEvent(ATCamera, 0, startIntegration)\n",
      "Read 100 history items for RemoteEvent(ATCamera, 0, startReadout)\n",
      "Read 2 history items for RemoteEvent(ATCamera, 0, summaryState)\n",
      "Read historical data in 0.56 sec\n",
      "Read 100 history items for RemoteEvent(ATMCS, 0, allAxesInPosition)\n",
      "Read 41 history items for RemoteEvent(ATMCS, 0, appliedSettingsMatchStart)\n",
      "Read 100 history items for RemoteEvent(ATMCS, 0, atMountState)\n",
      "Read 85 history items for RemoteEvent(ATMCS, 0, azimuthBrake1)\n",
      "Read 85 history items for RemoteEvent(ATMCS, 0, azimuthBrake2)\n",
      "Read 85 history items for RemoteEvent(ATMCS, 0, azimuthDrive1Status)\n",
      "Read 85 history items for RemoteEvent(ATMCS, 0, azimuthDrive2Status)\n",
      "Read 100 history items for RemoteEvent(ATMCS, 0, azimuthInPosition)\n",
      "Read 4 history items for RemoteEvent(ATMCS, 0, azimuthToppleBlockCCW)\n",
      "Read 2 history items for RemoteEvent(ATMCS, 0, azimuthToppleBlockCW)\n",
      "Read 79 history items for RemoteEvent(ATMCS, 0, elevationBrake)\n",
      "Read 79 history items for RemoteEvent(ATMCS, 0, elevationDriveStatus)\n",
      "Read 100 history items for RemoteEvent(ATMCS, 0, elevationInPosition)\n",
      "Read 6 history items for RemoteEvent(ATMCS, 0, elevationLimitSwitchLower)\n",
      "Read 4 history items for RemoteEvent(ATMCS, 0, elevationLimitSwitchUpper)\n",
      "Read 6 history items for RemoteEvent(ATMCS, 0, errorCode)\n",
      "Read 100 history items for RemoteEvent(ATMCS, 0, heartbeat)\n",
      "Read 81 history items for RemoteEvent(ATMCS, 0, m3State)\n",
      "Read 81 history items for RemoteEvent(ATMCS, 0, nasmyth1Brake)\n",
      "Read 81 history items for RemoteEvent(ATMCS, 0, nasmyth1DriveStatus)\n",
      "Read 48 history items for RemoteEvent(ATMCS, 0, nasmyth1RotatorInPosition)\n",
      "Read 81 history items for RemoteEvent(ATMCS, 0, nasmyth2Brake)\n",
      "Read 81 history items for RemoteEvent(ATMCS, 0, nasmyth2DriveStatus)\n",
      "Read 100 history items for RemoteEvent(ATMCS, 0, nasmyth2RotatorInPosition)\n",
      "Read 41 history items for RemoteEvent(ATMCS, 0, positionLimits)\n",
      "Read 41 history items for RemoteEvent(ATMCS, 0, settingVersions)\n",
      "Read 100 history items for RemoteEvent(ATMCS, 0, summaryState)\n",
      "Read 100 history items for RemoteEvent(ATMCS, 0, target)\n",
      "mainAirSourcePressure DDS read queue is filling: 20 of 100 elements\n",
      "positionStatus DDS read queue is filling: 18 of 100 elements\n",
      "m2AirPressure DDS read queue is filling: 20 of 100 elements\n",
      "timeAndDate DDS read queue is full (100 elements); data may be lost\n"
     ]
    },
    {
     "data": {
      "text/plain": [
       "[[None, None, None, None, None, None, None], [None, None, None, None]]"
      ]
     },
     "execution_count": 4,
     "metadata": {},
     "output_type": "execute_result"
    },
    {
     "name": "stdout",
     "output_type": "stream",
     "text": [
      "trajectory DDS read queue is filling: 36 of 100 elements\n",
      "m1AirPressure DDS read queue is filling: 20 of 100 elements\n",
      "mount_positions DDS read queue is filling: 27 of 100 elements\n",
      "torqueDemand DDS read queue is filling: 36 of 100 elements\n",
      "loadCell DDS read queue is filling: 20 of 100 elements\n",
      "mountStatus DDS read queue is full (100 elements); data may be lost\n",
      "nasymth_m3_mountMotorEncoders DDS read queue is filling: 36 of 100 elements\n",
      "guidingAndOffsets DDS read queue is full (100 elements); data may be lost\n"
     ]
    }
   ],
   "source": [
    "#Start classes\n",
    "domain = salobj.Domain()\n",
    "await asyncio.sleep(10) # This can be removed in the future...\n",
    "atcs = ATCS(domain)\n",
    "latiss = LATISS(domain)\n",
    "await asyncio.gather(atcs.start_task, latiss.start_task)"
   ]
  },
  {
   "cell_type": "code",
   "execution_count": null,
   "metadata": {},
   "outputs": [],
   "source": [
    "# enable components\n",
    "await atcs.enable()\n",
    "await latiss.enable()"
   ]
  },
  {
   "cell_type": "code",
   "execution_count": null,
   "metadata": {},
   "outputs": [],
   "source": [
    "await latiss.rem.atcamera.cmd_start.set_start(timeout=30)"
   ]
  },
  {
   "cell_type": "code",
   "execution_count": null,
   "metadata": {},
   "outputs": [],
   "source": [
    "await salobj.set_summary_state(latiss.rem.atcamera, salobj.State.ENABLED)"
   ]
  },
  {
   "cell_type": "code",
   "execution_count": null,
   "metadata": {},
   "outputs": [],
   "source": [
    "await latiss.rem.atarchiver.cmd_start.set_start(timeout=30)"
   ]
  },
  {
   "cell_type": "code",
   "execution_count": null,
   "metadata": {},
   "outputs": [],
   "source": [
    "await salobj.set_summary_state(latiss.rem.atarchiver, salobj.State.ENABLED)"
   ]
  },
  {
   "cell_type": "code",
   "execution_count": null,
   "metadata": {},
   "outputs": [],
   "source": [
    "# All components now enabled. - 18-Feb-2021 5:43 PM"
   ]
  },
  {
   "cell_type": "code",
   "execution_count": null,
   "metadata": {},
   "outputs": [],
   "source": [
    "# Ensure we're using Nasmyth 2\n",
    "await atcs.rem.atptg.cmd_focusName.set_start(focus=3)"
   ]
  },
  {
   "cell_type": "code",
   "execution_count": null,
   "metadata": {},
   "outputs": [],
   "source": [
    "await atcs.prepare_for_flatfield()"
   ]
  },
  {
   "cell_type": "code",
   "execution_count": null,
   "metadata": {},
   "outputs": [],
   "source": [
    "await latiss.take_bias(1)"
   ]
  },
  {
   "cell_type": "code",
   "execution_count": null,
   "metadata": {},
   "outputs": [],
   "source": [
    "# Take 50 biases seq # 7-56\n",
    "# Added wait to stop killing the recent images\n",
    "for i in range(50):\n",
    "    await asyncio.sleep(2.0)\n",
    "    await latiss.take_bias(1)"
   ]
  },
  {
   "cell_type": "code",
   "execution_count": null,
   "metadata": {},
   "outputs": [],
   "source": [
    "# Take 10 10 second darks 57-66\n",
    "await latiss.take_darks(10.0, 10)"
   ]
  },
  {
   "cell_type": "code",
   "execution_count": null,
   "metadata": {},
   "outputs": [],
   "source": [
    "# Take 10 2 second flats 67-76\n",
    "await latiss.take_flats(2.0, 10, filter='RG610', grating='empty_1')"
   ]
  },
  {
   "cell_type": "code",
   "execution_count": null,
   "metadata": {},
   "outputs": [],
   "source": [
    "# Take flats for PTC 77-116\n",
    "# Added wait to stop killing the recent images\n",
    "for i in range(20):\n",
    "    exp = 0.2 * float(i+1)\n",
    "    await latiss.take_flats(exp, 1, filter='empty_1', grating='empty_1')\n",
    "    if exp < 2.0:\n",
    "        await asyncio.sleep(2.0)\n",
    "    await latiss.take_flats(exp, 1, filter='empty_1', grating='empty_1')\n"
   ]
  },
  {
   "cell_type": "code",
   "execution_count": 7,
   "metadata": {},
   "outputs": [
    {
     "data": {
      "text/plain": [
       "[<State.DISABLED: 1>, <State.ENABLED: 2>]"
      ]
     },
     "execution_count": 7,
     "metadata": {},
     "output_type": "execute_result"
    }
   ],
   "source": [
    "await salobj.set_summary_state(atcs.rem.atdometrajectory, salobj.State.ENABLED)"
   ]
  },
  {
   "cell_type": "code",
   "execution_count": 8,
   "metadata": {
    "collapsed": true,
    "jupyter": {
     "outputs_hidden": true
    }
   },
   "outputs": [
    {
     "name": "stdout",
     "output_type": "stream",
     "text": [
      "Sending command\n",
      "Stop tracking.\n",
      "Unknown tracking state: 9\n",
      "Unknown tracking state: 10\n",
      "In Position: True.\n",
      "Scheduling check coroutines\n",
      "process as completed...\n",
      "atmcs: <State.ENABLED: 2>\n",
      "atptg: <State.ENABLED: 2>\n",
      "ataos: <State.ENABLED: 2>\n",
      "atpneumatics: <State.ENABLED: 2>\n",
      "athexapod: <State.ENABLED: 2>\n",
      "Got True\n",
      "Waiting for telescope to settle.\n",
      "[Telescope] delta Alt = -000.001 deg; delta Az= +000.002 deg; delta N1 = -000.000 deg; delta N2 = +000.000 deg \n",
      "Axes in position.\n"
     ]
    }
   ],
   "source": [
    "current_az = 90.0\n",
    "current_el = 80.0\n",
    "current_rot = 0.0\n",
    "await atcs.point_azel(current_az, current_el, rot_tel=current_rot)"
   ]
  },
  {
   "cell_type": "code",
   "execution_count": 13,
   "metadata": {},
   "outputs": [
    {
     "name": "stdout",
     "output_type": "stream",
     "text": [
      "Generating group_id\n",
      "FLAT 0001 - 0001\n"
     ]
    },
    {
     "data": {
      "text/plain": [
       "array([2021021800120])"
      ]
     },
     "execution_count": 13,
     "metadata": {},
     "output_type": "execute_result"
    }
   ],
   "source": [
    "# Take a sky flat to see how overexposed it is\n",
    "await latiss.take_flats(0.1, 1, filter='empty_1', grating='empty_1')"
   ]
  },
  {
   "cell_type": "code",
   "execution_count": 20,
   "metadata": {
    "collapsed": true,
    "jupyter": {
     "outputs_hidden": true
    },
    "tags": []
   },
   "outputs": [
    {
     "name": "stdout",
     "output_type": "stream",
     "text": [
      "Generating group_id\n",
      "FLAT 0001 - 0001\n",
      "Generating group_id\n",
      "FLAT 0001 - 0001\n",
      "Generating group_id\n",
      "FLAT 0001 - 0001\n",
      "Generating group_id\n",
      "FLAT 0001 - 0001\n"
     ]
    },
    {
     "ename": "CancelledError",
     "evalue": "",
     "output_type": "error",
     "traceback": [
      "\u001b[0;31m---------------------------------------------------------------------------\u001b[0m",
      "\u001b[0;31mCancelledError\u001b[0m                            Traceback (most recent call last)",
      "\u001b[0;32m<ipython-input-20-91ccf2ea5a35>\u001b[0m in \u001b[0;36masync-def-wrapper\u001b[0;34m()\u001b[0m\n\u001b[1;32m      7\u001b[0m     \u001b[0;32mawait\u001b[0m \u001b[0masyncio\u001b[0m\u001b[0;34m.\u001b[0m\u001b[0msleep\u001b[0m\u001b[0;34m(\u001b[0m\u001b[0;36m60.0\u001b[0m\u001b[0;34m)\u001b[0m\u001b[0;34m\u001b[0m\u001b[0;34m\u001b[0m\u001b[0m\n",
      "\u001b[0;32m~/WORK/ts_observatory_control/python/lsst/ts/observatory/control/base_camera.py\u001b[0m in \u001b[0;36mtake_flats\u001b[0;34m(self, exptime, nflats, group_id, test_type, sensors, note, checkpoint, **kwargs)\u001b[0m\n\u001b[1;32m    245\u001b[0m             \u001b[0mnote\u001b[0m\u001b[0;34m=\u001b[0m\u001b[0mnote\u001b[0m\u001b[0;34m,\u001b[0m\u001b[0;34m\u001b[0m\u001b[0;34m\u001b[0m\u001b[0m\n\u001b[1;32m    246\u001b[0m             \u001b[0mcheckpoint\u001b[0m\u001b[0;34m=\u001b[0m\u001b[0mcheckpoint\u001b[0m\u001b[0;34m,\u001b[0m\u001b[0;34m\u001b[0m\u001b[0;34m\u001b[0m\u001b[0m\n\u001b[0;32m--> 247\u001b[0;31m             \u001b[0;34m**\u001b[0m\u001b[0mkwargs\u001b[0m\u001b[0;34m,\u001b[0m\u001b[0;34m\u001b[0m\u001b[0;34m\u001b[0m\u001b[0m\n\u001b[0m\u001b[1;32m    248\u001b[0m         )\n\u001b[1;32m    249\u001b[0m \u001b[0;34m\u001b[0m\u001b[0m\n",
      "\u001b[0;32m~/WORK/ts_observatory_control/python/lsst/ts/observatory/control/base_camera.py\u001b[0m in \u001b[0;36mtake_imgtype\u001b[0;34m(self, imgtype, exptime, n, group_id, test_type, sensors, note, checkpoint, **kwargs)\u001b[0m\n\u001b[1;32m    447\u001b[0m                 \u001b[0mtest_type\u001b[0m\u001b[0;34m=\u001b[0m\u001b[0mtest_type\u001b[0m\u001b[0;34m,\u001b[0m\u001b[0;34m\u001b[0m\u001b[0;34m\u001b[0m\u001b[0m\n\u001b[1;32m    448\u001b[0m                 \u001b[0msensors\u001b[0m\u001b[0;34m=\u001b[0m\u001b[0msensors\u001b[0m\u001b[0;34m,\u001b[0m\u001b[0;34m\u001b[0m\u001b[0;34m\u001b[0m\u001b[0m\n\u001b[0;32m--> 449\u001b[0;31m                 \u001b[0mnote\u001b[0m\u001b[0;34m=\u001b[0m\u001b[0mnote\u001b[0m\u001b[0;34m,\u001b[0m\u001b[0;34m\u001b[0m\u001b[0;34m\u001b[0m\u001b[0m\n\u001b[0m\u001b[1;32m    450\u001b[0m             )\n\u001b[1;32m    451\u001b[0m             \u001b[0;31m# parse out visitID from filename -\u001b[0m\u001b[0;34m\u001b[0m\u001b[0;34m\u001b[0m\u001b[0;34m\u001b[0m\u001b[0m\n",
      "\u001b[0;32m~/WORK/ts_observatory_control/python/lsst/ts/observatory/control/auxtel/latiss.py\u001b[0m in \u001b[0;36mexpose\u001b[0;34m(self, exp_time, shutter, image_type, group_id, test_type, sensors, note)\u001b[0m\n\u001b[1;32m    170\u001b[0m                 \u001b[0mkeyValueMap\u001b[0m\u001b[0;34m=\u001b[0m\u001b[0mkey_value_map\u001b[0m\u001b[0;34m,\u001b[0m\u001b[0;34m\u001b[0m\u001b[0;34m\u001b[0m\u001b[0m\n\u001b[1;32m    171\u001b[0m                 \u001b[0mobsNote\u001b[0m\u001b[0;34m=\u001b[0m\u001b[0mnote\u001b[0m \u001b[0;32mif\u001b[0m \u001b[0mnote\u001b[0m \u001b[0;32mis\u001b[0m \u001b[0;32mnot\u001b[0m \u001b[0;32mNone\u001b[0m \u001b[0;32melse\u001b[0m \u001b[0;34m\"\"\u001b[0m\u001b[0;34m,\u001b[0m\u001b[0;34m\u001b[0m\u001b[0;34m\u001b[0m\u001b[0m\n\u001b[0;32m--> 172\u001b[0;31m                 \u001b[0mtimeout\u001b[0m\u001b[0;34m=\u001b[0m\u001b[0mbase_timeout\u001b[0m \u001b[0;34m+\u001b[0m \u001b[0mexp_time\u001b[0m\u001b[0;34m,\u001b[0m\u001b[0;34m\u001b[0m\u001b[0;34m\u001b[0m\u001b[0m\n\u001b[0m\u001b[1;32m    173\u001b[0m             )\n\u001b[1;32m    174\u001b[0m             end_readout = await self.rem.atcamera.evt_endReadout.next(\n",
      "\u001b[0;32m/opt/lsst/src/ts_salobj/python/lsst/ts/salobj/topics/remote_command.py\u001b[0m in \u001b[0;36mset_start\u001b[0;34m(self, timeout, wait_done, **kwargs)\u001b[0m\n\u001b[1;32m    389\u001b[0m         \"\"\"\n\u001b[1;32m    390\u001b[0m         \u001b[0mself\u001b[0m\u001b[0;34m.\u001b[0m\u001b[0mset\u001b[0m\u001b[0;34m(\u001b[0m\u001b[0;34m**\u001b[0m\u001b[0mkwargs\u001b[0m\u001b[0;34m)\u001b[0m\u001b[0;34m\u001b[0m\u001b[0;34m\u001b[0m\u001b[0m\n\u001b[0;32m--> 391\u001b[0;31m         \u001b[0;32mreturn\u001b[0m \u001b[0;32mawait\u001b[0m \u001b[0mself\u001b[0m\u001b[0;34m.\u001b[0m\u001b[0mstart\u001b[0m\u001b[0;34m(\u001b[0m\u001b[0mtimeout\u001b[0m\u001b[0;34m=\u001b[0m\u001b[0mtimeout\u001b[0m\u001b[0;34m,\u001b[0m \u001b[0mwait_done\u001b[0m\u001b[0;34m=\u001b[0m\u001b[0mwait_done\u001b[0m\u001b[0;34m)\u001b[0m\u001b[0;34m\u001b[0m\u001b[0;34m\u001b[0m\u001b[0m\n\u001b[0m\u001b[1;32m    392\u001b[0m \u001b[0;34m\u001b[0m\u001b[0m\n\u001b[1;32m    393\u001b[0m     \u001b[0;32masync\u001b[0m \u001b[0;32mdef\u001b[0m \u001b[0mstart\u001b[0m\u001b[0;34m(\u001b[0m\u001b[0mself\u001b[0m\u001b[0;34m,\u001b[0m \u001b[0mdata\u001b[0m\u001b[0;34m=\u001b[0m\u001b[0;32mNone\u001b[0m\u001b[0;34m,\u001b[0m \u001b[0mtimeout\u001b[0m\u001b[0;34m=\u001b[0m\u001b[0mDEFAULT_TIMEOUT\u001b[0m\u001b[0;34m,\u001b[0m \u001b[0mwait_done\u001b[0m\u001b[0;34m=\u001b[0m\u001b[0;32mTrue\u001b[0m\u001b[0;34m)\u001b[0m\u001b[0;34m:\u001b[0m\u001b[0;34m\u001b[0m\u001b[0;34m\u001b[0m\u001b[0m\n",
      "\u001b[0;32m/opt/lsst/src/ts_salobj/python/lsst/ts/salobj/topics/remote_command.py\u001b[0m in \u001b[0;36mstart\u001b[0;34m(self, data, timeout, wait_done)\u001b[0m\n\u001b[1;32m    444\u001b[0m         )\n\u001b[1;32m    445\u001b[0m         \u001b[0mself\u001b[0m\u001b[0;34m.\u001b[0m\u001b[0msalinfo\u001b[0m\u001b[0;34m.\u001b[0m\u001b[0m_running_cmds\u001b[0m\u001b[0;34m[\u001b[0m\u001b[0mseq_num\u001b[0m\u001b[0;34m]\u001b[0m \u001b[0;34m=\u001b[0m \u001b[0mcmd_info\u001b[0m\u001b[0;34m\u001b[0m\u001b[0;34m\u001b[0m\u001b[0m\n\u001b[0;32m--> 446\u001b[0;31m         \u001b[0;32mreturn\u001b[0m \u001b[0;32mawait\u001b[0m \u001b[0mcmd_info\u001b[0m\u001b[0;34m.\u001b[0m\u001b[0mnext_ackcmd\u001b[0m\u001b[0;34m(\u001b[0m\u001b[0mtimeout\u001b[0m\u001b[0;34m=\u001b[0m\u001b[0mtimeout\u001b[0m\u001b[0;34m)\u001b[0m\u001b[0;34m\u001b[0m\u001b[0;34m\u001b[0m\u001b[0m\n\u001b[0m",
      "\u001b[0;32m/opt/lsst/src/ts_salobj/python/lsst/ts/salobj/topics/remote_command.py\u001b[0m in \u001b[0;36mnext_ackcmd\u001b[0;34m(self, timeout)\u001b[0m\n\u001b[1;32m    179\u001b[0m                 \u001b[0mself\u001b[0m\u001b[0;34m.\u001b[0m\u001b[0m_basic_next_ackcmd\u001b[0m\u001b[0;34m(\u001b[0m\u001b[0mtimeout\u001b[0m\u001b[0;34m=\u001b[0m\u001b[0mtimeout\u001b[0m\u001b[0;34m)\u001b[0m\u001b[0;34m\u001b[0m\u001b[0;34m\u001b[0m\u001b[0m\n\u001b[1;32m    180\u001b[0m             )\n\u001b[0;32m--> 181\u001b[0;31m             \u001b[0mackcmd\u001b[0m \u001b[0;34m=\u001b[0m \u001b[0;32mawait\u001b[0m \u001b[0mself\u001b[0m\u001b[0;34m.\u001b[0m\u001b[0m_wait_task\u001b[0m\u001b[0;34m\u001b[0m\u001b[0;34m\u001b[0m\u001b[0m\n\u001b[0m\u001b[1;32m    182\u001b[0m             \u001b[0;32mif\u001b[0m \u001b[0mackcmd\u001b[0m\u001b[0;34m.\u001b[0m\u001b[0mack\u001b[0m \u001b[0;32min\u001b[0m \u001b[0mself\u001b[0m\u001b[0;34m.\u001b[0m\u001b[0mfailed_ack_codes\u001b[0m\u001b[0;34m:\u001b[0m\u001b[0;34m\u001b[0m\u001b[0;34m\u001b[0m\u001b[0m\n\u001b[1;32m    183\u001b[0m                 \u001b[0;32mraise\u001b[0m \u001b[0mbase\u001b[0m\u001b[0;34m.\u001b[0m\u001b[0mAckError\u001b[0m\u001b[0;34m(\u001b[0m\u001b[0mmsg\u001b[0m\u001b[0;34m=\u001b[0m\u001b[0;34m\"Command failed\"\u001b[0m\u001b[0;34m,\u001b[0m \u001b[0mackcmd\u001b[0m\u001b[0;34m=\u001b[0m\u001b[0mackcmd\u001b[0m\u001b[0;34m)\u001b[0m\u001b[0;34m\u001b[0m\u001b[0;34m\u001b[0m\u001b[0m\n",
      "\u001b[0;31mCancelledError\u001b[0m: "
     ]
    },
    {
     "name": "stdout",
     "output_type": "stream",
     "text": [
      "logMessage DDS read queue is filling: 11 of 100 elements\n",
      "logMessage DDS read queue is filling: 14 of 100 elements\n",
      "logMessage DDS read queue is filling: 10 of 100 elements\n",
      "target DDS read queue is filling: 19 of 100 elements\n",
      "target python read queue is filling: 18 of 100 elements\n",
      "logMessage DDS read queue is filling: 11 of 100 elements\n",
      "logMessage DDS read queue is filling: 11 of 100 elements\n",
      "logMessage DDS read queue is filling: 11 of 100 elements\n",
      "logMessage DDS read queue is filling: 11 of 100 elements\n",
      "logMessage DDS read queue is filling: 13 of 100 elements\n",
      "logMessage DDS read queue is filling: 11 of 100 elements\n",
      "logMessage DDS read queue is filling: 10 of 100 elements\n",
      "target DDS read queue is filling: 20 of 100 elements\n",
      "target python read queue is filling: 19 of 100 elements\n",
      "target DDS read queue is filling: 20 of 100 elements\n",
      "target python read queue is filling: 19 of 100 elements\n",
      "logMessage DDS read queue is filling: 12 of 100 elements\n",
      "logMessage DDS read queue is filling: 10 of 100 elements\n",
      "logMessage DDS read queue is filling: 11 of 100 elements\n",
      "logMessage DDS read queue is filling: 12 of 100 elements\n",
      "logMessage DDS read queue is filling: 11 of 100 elements\n",
      "logMessage DDS read queue is filling: 13 of 100 elements\n",
      "logMessage DDS read queue is filling: 12 of 100 elements\n",
      "logMessage DDS read queue is filling: 21 of 100 elements\n",
      "logMessage DDS read queue is filling: 10 of 100 elements\n",
      "logMessage DDS read queue is filling: 20 of 100 elements\n",
      "logMessage DDS read queue is filling: 12 of 100 elements\n",
      "logMessage DDS read queue is filling: 10 of 100 elements\n",
      "logMessage DDS read queue is filling: 15 of 100 elements\n",
      "logMessage DDS read queue is filling: 10 of 100 elements\n",
      "logMessage DDS read queue is filling: 10 of 100 elements\n",
      "logMessage DDS read queue is filling: 13 of 100 elements\n",
      "logMessage DDS read queue is filling: 16 of 100 elements\n",
      "logMessage DDS read queue is filling: 12 of 100 elements\n",
      "logMessage DDS read queue is filling: 10 of 100 elements\n",
      "logMessage DDS read queue is filling: 13 of 100 elements\n",
      "logMessage DDS read queue is filling: 13 of 100 elements\n",
      "logMessage DDS read queue is filling: 10 of 100 elements\n",
      "logMessage DDS read queue is filling: 19 of 100 elements\n",
      "logMessage DDS read queue is filling: 10 of 100 elements\n",
      "logMessage DDS read queue is filling: 13 of 100 elements\n",
      "logMessage DDS read queue is filling: 12 of 100 elements\n",
      "logMessage DDS read queue is filling: 10 of 100 elements\n",
      "logMessage DDS read queue is filling: 11 of 100 elements\n",
      "logMessage DDS read queue is filling: 10 of 100 elements\n",
      "logMessage DDS read queue is filling: 10 of 100 elements\n",
      "logMessage DDS read queue is filling: 11 of 100 elements\n",
      "logMessage DDS read queue is filling: 10 of 100 elements\n",
      "logMessage DDS read queue is filling: 12 of 100 elements\n",
      "logMessage DDS read queue is filling: 13 of 100 elements\n",
      "logMessage DDS read queue is filling: 12 of 100 elements\n",
      "logMessage DDS read queue is filling: 13 of 100 elements\n",
      "logMessage DDS read queue is filling: 10 of 100 elements\n",
      "logMessage DDS read queue is filling: 10 of 100 elements\n",
      "logMessage DDS read queue is filling: 12 of 100 elements\n",
      "logMessage DDS read queue is filling: 10 of 100 elements\n",
      "logMessage DDS read queue is filling: 11 of 100 elements\n",
      "logMessage DDS read queue is filling: 10 of 100 elements\n",
      "logMessage DDS read queue is filling: 10 of 100 elements\n",
      "logMessage DDS read queue is filling: 13 of 100 elements\n",
      "logMessage DDS read queue is filling: 10 of 100 elements\n",
      "logMessage DDS read queue is filling: 11 of 100 elements\n",
      "logMessage DDS read queue is filling: 12 of 100 elements\n",
      "logMessage DDS read queue is filling: 14 of 100 elements\n",
      "logMessage DDS read queue is filling: 11 of 100 elements\n",
      "logMessage DDS read queue is filling: 10 of 100 elements\n",
      "logMessage DDS read queue is filling: 17 of 100 elements\n",
      "logMessage DDS read queue is filling: 11 of 100 elements\n",
      "logMessage DDS read queue is filling: 11 of 100 elements\n",
      "logMessage DDS read queue is filling: 14 of 100 elements\n",
      "logMessage DDS read queue is filling: 10 of 100 elements\n",
      "logMessage DDS read queue is filling: 10 of 100 elements\n",
      "logMessage DDS read queue is filling: 16 of 100 elements\n",
      "logMessage DDS read queue is filling: 13 of 100 elements\n",
      "logMessage DDS read queue is filling: 12 of 100 elements\n",
      "logMessage DDS read queue is filling: 13 of 100 elements\n",
      "logMessage DDS read queue is filling: 11 of 100 elements\n",
      "logMessage DDS read queue is filling: 10 of 100 elements\n",
      "logMessage DDS read queue is filling: 10 of 100 elements\n",
      "logMessage DDS read queue is filling: 17 of 100 elements\n",
      "logMessage DDS read queue is filling: 11 of 100 elements\n",
      "logMessage DDS read queue is filling: 10 of 100 elements\n",
      "logMessage DDS read queue is filling: 10 of 100 elements\n",
      "logMessage DDS read queue is filling: 10 of 100 elements\n",
      "logMessage DDS read queue is filling: 12 of 100 elements\n"
     ]
    }
   ],
   "source": [
    "# Running sky flats as the sky darkens\n",
    "for i in range(5):\n",
    "    exp = 20.0\n",
    "    await latiss.take_flats(exp*2.0, 1, filter='RG610', grating='empty_1')\n",
    "    await asyncio.sleep(5.0)\n",
    "    await latiss.take_flats(exp, 1, filter='empty_1', grating='empty_1')\n",
    "    await asyncio.sleep(60.0)"
   ]
  },
  {
   "cell_type": "code",
   "execution_count": null,
   "metadata": {},
   "outputs": [],
   "source": []
  },
  {
   "cell_type": "code",
   "execution_count": null,
   "metadata": {},
   "outputs": [],
   "source": []
  },
  {
   "cell_type": "code",
   "execution_count": null,
   "metadata": {},
   "outputs": [],
   "source": [
    "await latiss.standby()"
   ]
  },
  {
   "cell_type": "code",
   "execution_count": null,
   "metadata": {},
   "outputs": [],
   "source": [
    "await atcs.close_m1_vent()"
   ]
  },
  {
   "cell_type": "code",
   "execution_count": null,
   "metadata": {},
   "outputs": [],
   "source": [
    "await atcs.close_m1_cover()"
   ]
  },
  {
   "cell_type": "code",
   "execution_count": null,
   "metadata": {},
   "outputs": [],
   "source": [
    "await atcs.stop_tracking()"
   ]
  },
  {
   "cell_type": "code",
   "execution_count": null,
   "metadata": {},
   "outputs": [],
   "source": [
    "# Putting everything back in standby.\n",
    "await atcs.standby()"
   ]
  },
  {
   "cell_type": "code",
   "execution_count": null,
   "metadata": {},
   "outputs": [],
   "source": [
    "await salobj.set_summary_state(atcs.rem.atmcs, salobj.State.STANDBY)"
   ]
  },
  {
   "cell_type": "code",
   "execution_count": null,
   "metadata": {},
   "outputs": [],
   "source": [
    "await salobj.set_summary_state(atcs.rem.atdome, salobj.State.STANDBY, settingsToApply=\"test\")"
   ]
  },
  {
   "cell_type": "code",
   "execution_count": null,
   "metadata": {},
   "outputs": [],
   "source": [
    "# take event checking out the slew commands to test telescope only\n",
    "# otherwise it'll wait for the dome before completing slew command\n",
    "atcs.check.atdome = False\n",
    "atcs.check.atdometrajectory = False"
   ]
  },
  {
   "cell_type": "code",
   "execution_count": null,
   "metadata": {},
   "outputs": [],
   "source": [
    "# Disable the dome\n",
    "await salobj.set_summary_state(atcs.rem.atdome, salobj.State.DISABLED, settingsToApply=\"test\")\n",
    "await salobj.set_summary_state(atcs.rem.atdometrajectory, salobj.State.DISABLED)"
   ]
  },
  {
   "cell_type": "code",
   "execution_count": null,
   "metadata": {},
   "outputs": [],
   "source": [
    "# Take event checking out the slew commands to test telescope only\n",
    "atcs.check.atdome = False\n",
    "atcs.check.atdometrajectory = False"
   ]
  },
  {
   "cell_type": "code",
   "execution_count": null,
   "metadata": {},
   "outputs": [],
   "source": [
    "await atcs.rem.atdome.cmd_start.set_start(settingsToApply=\"test\", timeout=30)"
   ]
  },
  {
   "cell_type": "code",
   "execution_count": null,
   "metadata": {},
   "outputs": [],
   "source": [
    "# Re-enable the dome\n",
    "# take event checking out the slew commands to test telescope only\n",
    "# otherwise it'll wait for the dome before completing slew command\n",
    "atcs.check.atdome = True\n",
    "atcs.check.atdometrajectory = True"
   ]
  },
  {
   "cell_type": "code",
   "execution_count": null,
   "metadata": {},
   "outputs": [],
   "source": [
    "await salobj.set_summary_state(atcs.rem.atdome, salobj.State.ENABLED, settingsToApply=\"test\")"
   ]
  },
  {
   "cell_type": "code",
   "execution_count": null,
   "metadata": {},
   "outputs": [],
   "source": [
    "await salobj.set_summary_state(atcs.rem.atdometrajectory, salobj.State.ENABLED)"
   ]
  }
 ],
 "metadata": {
  "kernelspec": {
   "display_name": "LSST",
   "language": "python",
   "name": "lsst"
  },
  "language_info": {
   "codemirror_mode": {
    "name": "ipython",
    "version": 3
   },
   "file_extension": ".py",
   "mimetype": "text/x-python",
   "name": "python",
   "nbconvert_exporter": "python",
   "pygments_lexer": "ipython3",
   "version": "3.8.12"
  }
 },
 "nbformat": 4,
 "nbformat_minor": 4
}
