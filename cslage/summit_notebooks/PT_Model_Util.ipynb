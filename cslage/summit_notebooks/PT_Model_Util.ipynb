{
 "cells": [
  {
   "cell_type": "markdown",
   "metadata": {},
   "source": [
    "# Pointing Model Utility "
   ]
  },
  {
   "cell_type": "markdown",
   "metadata": {},
   "source": [
    "This notebook is intended to help building initial pointing model for the Auxiliary Telescope. \n",
    "\n",
    "The user can define a grid of Az/El pointings that will be converted to RA/Dec target commands to the ATPtg. For each pointing the user can center the target and register the pointing throught ATPtg. The data can then be saved and used as input to TPOINT to compute pointing model parameters. \n",
    "\n",
    "Initially the process is very interactive. Once the process is well stablished we can turn this into a more automated process."
   ]
  },
  {
   "cell_type": "markdown",
   "metadata": {},
   "source": [
    "## Building Az/El pointing grid."
   ]
  },
  {
   "cell_type": "code",
   "execution_count": 1,
   "metadata": {},
   "outputs": [],
   "source": [
    "import numpy as np\n",
    "\n",
    "import asyncio \n",
    "import logging\n",
    "import matplotlib.pyplot as plt\n",
    "\n",
    "import astropy.units as u\n",
    "from astropy.time import Time\n",
    "from astropy.coordinates import SkyCoord, AltAz, ICRS, EarthLocation, Angle\n",
    "from astroquery.vo_conesearch import ConeSearch\n",
    "from astroquery.simbad import Simbad\n",
    "\n",
    "import ipywidgets as widgets\n",
    "\n",
    "%matplotlib inline"
   ]
  },
  {
   "cell_type": "code",
   "execution_count": 2,
   "metadata": {},
   "outputs": [],
   "source": [
    "import warnings\n",
    "warnings.filterwarnings(\"ignore\")"
   ]
  },
  {
   "cell_type": "code",
   "execution_count": 3,
   "metadata": {},
   "outputs": [],
   "source": [
    "logging.basicConfig(format=\"%(name)s:%(message)s\", level=logging.CRITICAL)"
   ]
  },
  {
   "cell_type": "code",
   "execution_count": 4,
   "metadata": {},
   "outputs": [],
   "source": [
    "logging.getLogger(\"astropy*\").setLevel(logging.CRITICAL)"
   ]
  },
  {
   "cell_type": "markdown",
   "metadata": {},
   "source": [
    "## Generate az/el pointing grid\n",
    "\n",
    "Next step is setting up the parameters for the run. Currently we use a simple `NxN` pointing scheme in both azimuth and altitude. This will likely need to be improved as regions with lower elevation may need a better cover. \n"
   ]
  },
  {
   "cell_type": "code",
   "execution_count": null,
   "metadata": {},
   "outputs": [],
   "source": [
    "n_az = 4  # Maximum number of pointings in azimuth\n",
    "n_alt = 5  # Number of pointings in altitude\n",
    "mag_limit = 9  # Magnitude limit\n"
   ]
  },
  {
   "cell_type": "code",
   "execution_count": null,
   "metadata": {},
   "outputs": [],
   "source": [
    "alt_min = Angle(20.*u.deg)\n",
    "alt_max = Angle(70.*u.deg)\n",
    "d_alt = (alt_max-alt_min) / n_alt"
   ]
  },
  {
   "cell_type": "code",
   "execution_count": null,
   "metadata": {},
   "outputs": [],
   "source": [
    "az_min = Angle(0.*u.deg)\n",
    "az_max = Angle(360.*u.deg)"
   ]
  },
  {
   "cell_type": "code",
   "execution_count": null,
   "metadata": {},
   "outputs": [],
   "source": [
    "alt_grid = np.linspace(alt_min, alt_max, n_alt)"
   ]
  },
  {
   "cell_type": "code",
   "execution_count": null,
   "metadata": {},
   "outputs": [],
   "source": [
    "alt_grid = np.logspace(\n",
    "    np.log10(alt_min.value),\n",
    "    np.log10(alt_max.value),\n",
    "    n_alt\n",
    ")"
   ]
  },
  {
   "cell_type": "code",
   "execution_count": null,
   "metadata": {},
   "outputs": [],
   "source": [
    "alt_grid"
   ]
  },
  {
   "cell_type": "markdown",
   "metadata": {},
   "source": [
    "Building the Azimuth grid. \n",
    "\n",
    "For each altitude it will select a quasi-uniform number of values in azimuth."
   ]
  },
  {
   "cell_type": "code",
   "execution_count": null,
   "metadata": {},
   "outputs": [],
   "source": [
    "az_grid = np.zeros((n_alt, n_az))\n",
    "d_az = (az_max-az_min) / n_az\n",
    "\n",
    "for i in range(n_alt):\n",
    "    az_grid[i] += np.linspace(az_min.value, az_max.value, n_az+1)[:-1] + d_az.value/n_alt*i\n"
   ]
  },
  {
   "cell_type": "code",
   "execution_count": null,
   "metadata": {},
   "outputs": [],
   "source": [
    "az_grid"
   ]
  },
  {
   "cell_type": "markdown",
   "metadata": {},
   "source": [
    "At this point altitude is stored in a 1-d array and azimuth is stored in a matrix. I'll flatten these arrays so they are both 1-d with a one to one mapping.\n",
    "\n",
    "I'm also preparing the order of the pointings here so we will go over from lower to higher altitutes instead of doing a constant altitude sweap. "
   ]
  },
  {
   "cell_type": "code",
   "execution_count": null,
   "metadata": {},
   "outputs": [],
   "source": [
    "az_pt_grid = np.zeros(n_alt*n_az)\n",
    "el_pt_grid = np.zeros(n_alt*n_az)\n",
    "\n",
    "for i in range(n_az):\n",
    "    for j in range(n_alt):\n",
    "        az_pt_grid[i*n_alt + j] = az_grid[j][i]\n",
    "        el_pt_grid[i*n_alt + j] = alt_grid[j]"
   ]
  },
  {
   "cell_type": "code",
   "execution_count": null,
   "metadata": {},
   "outputs": [],
   "source": [
    "az_pt_grid, el_pt_grid"
   ]
  },
  {
   "cell_type": "markdown",
   "metadata": {},
   "source": [
    "Make a polar plot of the pointings"
   ]
  },
  {
   "cell_type": "code",
   "execution_count": null,
   "metadata": {},
   "outputs": [],
   "source": [
    "fig = plt.figure()\n",
    "ax = fig.add_subplot(111, projection='polar')\n",
    "ax.set_theta_zero_location('W', offset=0)\n",
    "ax.set_rlim(90, 0, 1)\n",
    "\n",
    "c = ax.scatter(np.radians(az_pt_grid), el_pt_grid)\n",
    "l = ax.plot(np.radians(az_pt_grid), el_pt_grid, \":\")\n",
    "print(len(az_pt_grid))\n"
   ]
  },
  {
   "cell_type": "markdown",
   "metadata": {},
   "source": [
    "Now for each Az/El pointing try to find a bright star to point."
   ]
  },
  {
   "cell_type": "code",
   "execution_count": 7,
   "metadata": {},
   "outputs": [],
   "source": [
    "location = EarthLocation.from_geodetic(lon=-70.747698*u.deg,\n",
    "                                                    lat=-30.244728*u.deg,\n",
    "                                                    height=2663.0*u.m)"
   ]
  },
  {
   "cell_type": "code",
   "execution_count": 10,
   "metadata": {},
   "outputs": [],
   "source": [
    "customSimbad = Simbad()\n",
    "customSimbad.add_votable_fields('distance_result', \"fluxdata(V)\")\n",
    "customSimbad.TIMEOUT = 30"
   ]
  },
  {
   "cell_type": "code",
   "execution_count": null,
   "metadata": {},
   "outputs": [],
   "source": [
    "def wait_center():\n",
    "    opt = input(\"Press <enter> to continue or 't' <enter> to terminate\")\n",
    "\n",
    "    if opt == 't':\n",
    "        print(\"Stopping test...\")\n",
    "        return -1\n",
    "    else:\n",
    "        return 0\n",
    "    "
   ]
  },
  {
   "cell_type": "code",
   "execution_count": 5,
   "metadata": {},
   "outputs": [],
   "source": [
    "def find_target(az, el, mag_limit):\n",
    "    current_time = Time.now()\n",
    "\n",
    "    elaz = AltAz(alt=el*u.deg, az=az*u.deg, \n",
    "                 obstime=current_time.tai, \n",
    "                 location=location)\n",
    "\n",
    "    radec = elaz.transform_to(ICRS)\n",
    "\n",
    "    _ra = radec.ra.to_string(u.deg, decimal=True)\n",
    "    _dec = radec.dec.to_string(u.deg, decimal=True, alwayssign=True)\n",
    "    r = Angle(2.*u.deg).to_string(u.deg, decimal=True)\n",
    "\n",
    "    criteria = f\"region(circle,ICRS,{_ra} {_dec},{r}d) & Vmag > {mag_limit} & Vmag < {mag_limit+2} & cat = HD\"\n",
    "\n",
    "    try:\n",
    "        result_table = customSimbad.query_criteria(criteria)\n",
    "        if result_table is None:\n",
    "            raise RuntimeError(\"No result from query.\")\n",
    "    except Exception as e:\n",
    "        print(f\"Error getting target from Simbad. Skipping target {elaz!r}.\")\n",
    "        print(criteria)\n",
    "        return -1\n",
    "\n",
    "    result_table.sort('FLUX_V')\n",
    "\n",
    "    target_radec = SkyCoord(Angle(result_table['RA'][0], unit=u.hour), \n",
    "                    Angle(result_table['DEC'][0], unit=u.deg), frame=ICRS)\n",
    "\n",
    "    t_id = str(result_table['MAIN_ID'][0])\n",
    "    t_ra = result_table['RA'][0]\n",
    "    t_dec = result_table['DEC'][0]\n",
    "    t_mag = result_table['FLUX_V'][0]\n",
    "    print(f\">>>> Point to {t_id:15}: {t_ra} {t_dec} (VMag:{t_mag:5.2f})\")\n",
    "\n",
    "    return 0"
   ]
  },
  {
   "cell_type": "code",
   "execution_count": null,
   "metadata": {},
   "outputs": [],
   "source": [
    "for i in range(len(el_pt_grid)):\n",
    "    retval = find_target(az_pt_grid[i], el_pt_grid[i], mag_limit=mag_limit)\n",
    "\n",
    "    if retval == 0:\n",
    "        if wait_center() < 0:\n",
    "            print(f\"Finished in iteration {i}\")\n",
    "            break"
   ]
  },
  {
   "cell_type": "code",
   "execution_count": 24,
   "metadata": {},
   "outputs": [
    {
     "name": "stdout",
     "output_type": "stream",
     "text": [
      ">>>> Point to HD 120144      : 13 48 39.7332 -46 58 25.382 (VMag: 7.12)\n"
     ]
    },
    {
     "data": {
      "text/plain": [
       "0"
      ]
     },
     "execution_count": 24,
     "metadata": {},
     "output_type": "execute_result"
    }
   ],
   "source": [
    "find_target(210, 70, 7.0)"
   ]
  },
  {
   "cell_type": "markdown",
   "metadata": {},
   "source": []
  }
 ],
 "metadata": {
  "kernelspec": {
   "display_name": "LSST",
   "language": "python",
   "name": "lsst"
  },
  "language_info": {
   "codemirror_mode": {
    "name": "ipython",
    "version": 3
   },
   "file_extension": ".py",
   "mimetype": "text/x-python",
   "name": "python",
   "nbconvert_exporter": "python",
   "pygments_lexer": "ipython3",
   "version": "3.8.8"
  }
 },
 "nbformat": 4,
 "nbformat_minor": 4
}
