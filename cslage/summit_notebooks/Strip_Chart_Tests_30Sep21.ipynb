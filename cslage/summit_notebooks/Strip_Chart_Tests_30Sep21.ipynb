{
 "cells": [
  {
   "cell_type": "markdown",
   "metadata": {},
   "source": [
    "# Strip Chart Testing"
   ]
  },
  {
   "cell_type": "markdown",
   "metadata": {},
   "source": [
    "This notebook is used for testing the strip chart mode on  Auxiliary Telescope.\n",
    "\n",
    "Craig Lage - 02-Jul-21"
   ]
  },
  {
   "cell_type": "code",
   "execution_count": 2,
   "metadata": {},
   "outputs": [],
   "source": [
    "import sys\n",
    "import asyncio\n",
    "import time\n",
    "import os\n",
    "import numpy as np\n",
    "from astropy.time import Time, TimeDelta\n",
    "from lsst.ts import salobj\n",
    "from lsst.ts.observatory.control.auxtel.latiss import LATISS"
   ]
  },
  {
   "cell_type": "code",
   "execution_count": 3,
   "metadata": {},
   "outputs": [],
   "source": [
    "# for tab completion to work in current notebook instance\n",
    "%config IPCompleter.use_jedi = False"
   ]
  },
  {
   "cell_type": "code",
   "execution_count": 4,
   "metadata": {},
   "outputs": [],
   "source": [
    "import logging\n",
    "stream_handler = logging.StreamHandler(sys.stdout)\n",
    "logger = logging.getLogger()\n",
    "logger.addHandler(stream_handler)\n",
    "logger.level = logging.DEBUG\n",
    "# Make matplotlib less chatty\n",
    "logging.getLogger(\"matplotlib\").setLevel(logging.WARNING)"
   ]
  },
  {
   "cell_type": "code",
   "execution_count": 6,
   "metadata": {
    "collapsed": true,
    "jupyter": {
     "outputs_hidden": true
    }
   },
   "outputs": [
    {
     "name": "stdout",
     "output_type": "stream",
     "text": [
      "atcamera: Adding all resources.\n",
      "atspectrograph: Adding all resources.\n",
      "atheaderservice: Adding all resources.\n",
      "atarchiver: Adding all resources.\n",
      "Read historical data in 0.06 sec\n",
      "Read 2 history items for RemoteEvent(ATCamera, 0, appliedSettingsMatchStart)\n",
      "Read 1 history items for RemoteEvent(ATCamera, 0, calibrationDetailedState)\n",
      "Read 27 history items for RemoteEvent(ATCamera, 0, ccsCommandState)\n",
      "Read 6 history items for RemoteEvent(ATCamera, 0, endOfImageTelemetry)\n",
      "Read 6 history items for RemoteEvent(ATCamera, 0, endReadout)\n",
      "Read 3 history items for RemoteEvent(ATCamera, 0, endShutterClose)\n",
      "Read 3 history items for RemoteEvent(ATCamera, 0, endShutterOpen)\n",
      "Read 3 history items for RemoteEvent(ATCamera, 0, focalPlaneHardwareIdSettingsApplied)\n",
      "Read 3 history items for RemoteEvent(ATCamera, 0, focalPlaneSummaryInfo)\n",
      "Read 100 history items for RemoteEvent(ATCamera, 0, heartbeat)\n",
      "Read 25 history items for RemoteEvent(ATCamera, 0, imageReadinessDetailedState)\n",
      "Read 6 history items for RemoteEvent(ATCamera, 0, imageReadoutParameters)\n",
      "Read 2 history items for RemoteEvent(ATCamera, 0, offlineDetailedState)\n",
      "Read 37 history items for RemoteEvent(ATCamera, 0, raftsDetailedState)\n",
      "Read 2 history items for RemoteEvent(ATCamera, 0, settingVersions)\n",
      "Read 7 history items for RemoteEvent(ATCamera, 0, shutterDetailedState)\n",
      "Read 3 history items for RemoteEvent(ATCamera, 0, shutterMotionProfile)\n",
      "Read 2 history items for RemoteEvent(ATCamera, 0, softwareVersions)\n",
      "Read 6 history items for RemoteEvent(ATCamera, 0, startIntegration)\n",
      "Read 6 history items for RemoteEvent(ATCamera, 0, startReadout)\n",
      "Read 8 history items for RemoteEvent(ATCamera, 0, summaryState)\n",
      "Read historical data in 1.69 sec\n",
      "Read 2 history items for RemoteEvent(ATSpectrograph, 0, appliedSettingsMatchStart)\n",
      "Read 1 history items for RemoteEvent(ATSpectrograph, 0, authList)\n",
      "Read 6 history items for RemoteEvent(ATSpectrograph, 0, disperserInPosition)\n",
      "Read 6 history items for RemoteEvent(ATSpectrograph, 0, filterInPosition)\n",
      "Read 2 history items for RemoteEvent(ATSpectrograph, 0, fwState)\n",
      "Read 4 history items for RemoteEvent(ATSpectrograph, 0, gwState)\n",
      "Read 100 history items for RemoteEvent(ATSpectrograph, 0, heartbeat)\n",
      "Read 1 history items for RemoteEvent(ATSpectrograph, 0, logLevel)\n",
      "Read 1 history items for RemoteEvent(ATSpectrograph, 0, logMessage)\n",
      "Read 2 history items for RemoteEvent(ATSpectrograph, 0, lsState)\n",
      "Read 4 history items for RemoteEvent(ATSpectrograph, 0, reportedDisperserPosition)\n",
      "Read 4 history items for RemoteEvent(ATSpectrograph, 0, reportedFilterPosition)\n",
      "Read 1 history items for RemoteEvent(ATSpectrograph, 0, reportedLinearStagePosition)\n",
      "Read 3 history items for RemoteEvent(ATSpectrograph, 0, settingVersions)\n",
      "Read 2 history items for RemoteEvent(ATSpectrograph, 0, settingsApplied)\n",
      "Read 2 history items for RemoteEvent(ATSpectrograph, 0, settingsAppliedValues)\n",
      "Read 1 history items for RemoteEvent(ATSpectrograph, 0, simulationMode)\n",
      "Read 1 history items for RemoteEvent(ATSpectrograph, 0, softwareVersions)\n",
      "Read 7 history items for RemoteEvent(ATSpectrograph, 0, summaryState)\n",
      "Read historical data in 1.89 sec\n",
      "Read 3 history items for RemoteEvent(ATArchiver, 0, heartbeat)\n",
      "Read historical data in 1.90 sec\n",
      "Read 1 history items for RemoteEvent(ATHeaderService, 0, authList)\n",
      "Read 100 history items for RemoteEvent(ATHeaderService, 0, heartbeat)\n",
      "Read 6 history items for RemoteEvent(ATHeaderService, 0, largeFileObjectAvailable)\n"
     ]
    },
    {
     "data": {
      "text/plain": [
       "[None, None, None, None]"
      ]
     },
     "execution_count": 6,
     "metadata": {},
     "output_type": "execute_result"
    }
   ],
   "source": [
    "#Start classes\n",
    "domain = salobj.Domain()\n",
    "latiss = LATISS(domain)\n",
    "await latiss.start_task"
   ]
  },
  {
   "cell_type": "code",
   "execution_count": null,
   "metadata": {},
   "outputs": [],
   "source": [
    "# enable components\n",
    "# No need - all enabled\n",
    "#await latiss.enable({\"atspectrograph\": \"current\"})"
   ]
  },
  {
   "cell_type": "code",
   "execution_count": 7,
   "metadata": {},
   "outputs": [
    {
     "name": "stdout",
     "output_type": "stream",
     "text": [
      "Generating group_id\n",
      "imagetype: BIAS, skip TCS synchronization.\n",
      "BIAS 0001 - 0001\n"
     ]
    },
    {
     "data": {
      "text/plain": [
       "array([2021093000007])"
      ]
     },
     "execution_count": 7,
     "metadata": {},
     "output_type": "execute_result"
    }
   ],
   "source": [
    "# Take a bias to make sure everything is working\n",
    "# Succeeded\n",
    "await latiss.take_bias(1)"
   ]
  },
  {
   "cell_type": "code",
   "execution_count": 8,
   "metadata": {},
   "outputs": [
    {
     "name": "stdout",
     "output_type": "stream",
     "text": [
      "Generating group_id\n",
      "imagetype: BIAS, skip TCS synchronization.\n",
      "BIAS 0001 - 0001\n"
     ]
    },
    {
     "data": {
      "text/plain": [
       "array([2021093000008])"
      ]
     },
     "execution_count": 8,
     "metadata": {},
     "output_type": "execute_result"
    }
   ],
   "source": [
    "# Take one more\n",
    "# Succeeded\n",
    "await latiss.take_bias(1)"
   ]
  },
  {
   "cell_type": "markdown",
   "metadata": {},
   "source": [
    "Step one - go in and out of calibration.\\\n",
    "This succeeded - I could see the camera substate change."
   ]
  },
  {
   "cell_type": "code",
   "execution_count": 9,
   "metadata": {},
   "outputs": [
    {
     "data": {
      "text/plain": [
       "<ddsutil.ATCamera_ackcmd_f0c279a1 at 0x7f495752e070>"
      ]
     },
     "execution_count": 9,
     "metadata": {},
     "output_type": "execute_result"
    }
   ],
   "source": [
    "await latiss.rem.atcamera.cmd_enableCalibration.set_start()"
   ]
  },
  {
   "cell_type": "code",
   "execution_count": 10,
   "metadata": {},
   "outputs": [],
   "source": [
    "await asyncio.sleep(2.0)"
   ]
  },
  {
   "cell_type": "code",
   "execution_count": 11,
   "metadata": {},
   "outputs": [
    {
     "data": {
      "text/plain": [
       "<ddsutil.ATCamera_ackcmd_f0c279a1 at 0x7f4957538310>"
      ]
     },
     "execution_count": 11,
     "metadata": {},
     "output_type": "execute_result"
    }
   ],
   "source": [
    "await latiss.rem.atcamera.cmd_disableCalibration.start()"
   ]
  },
  {
   "cell_type": "code",
   "execution_count": 12,
   "metadata": {},
   "outputs": [
    {
     "name": "stdout",
     "output_type": "stream",
     "text": [
      "Generating group_id\n",
      "imagetype: BIAS, skip TCS synchronization.\n",
      "BIAS 0001 - 0001\n"
     ]
    },
    {
     "data": {
      "text/plain": [
       "array([2021093000009])"
      ]
     },
     "execution_count": 12,
     "metadata": {},
     "output_type": "execute_result"
    }
   ],
   "source": [
    "# Take a bias to make sure everything is working\n",
    "# Succeeded\n",
    "await latiss.take_bias(1)"
   ]
  },
  {
   "cell_type": "markdown",
   "metadata": {},
   "source": [
    "Step one repeated - go in and out of calibration.\\\n",
    "This succeeded - I could see the camera substate change."
   ]
  },
  {
   "cell_type": "code",
   "execution_count": 13,
   "metadata": {},
   "outputs": [
    {
     "data": {
      "text/plain": [
       "<ddsutil.ATCamera_ackcmd_f0c279a1 at 0x7f49574cadf0>"
      ]
     },
     "execution_count": 13,
     "metadata": {},
     "output_type": "execute_result"
    }
   ],
   "source": [
    "await latiss.rem.atcamera.cmd_enableCalibration.set_start()"
   ]
  },
  {
   "cell_type": "code",
   "execution_count": 14,
   "metadata": {},
   "outputs": [],
   "source": [
    "await asyncio.sleep(2.0)"
   ]
  },
  {
   "cell_type": "code",
   "execution_count": 15,
   "metadata": {},
   "outputs": [
    {
     "data": {
      "text/plain": [
       "<ddsutil.ATCamera_ackcmd_f0c279a1 at 0x7f49574d4ca0>"
      ]
     },
     "execution_count": 15,
     "metadata": {},
     "output_type": "execute_result"
    }
   ],
   "source": [
    "await latiss.rem.atcamera.cmd_disableCalibration.start()"
   ]
  },
  {
   "cell_type": "code",
   "execution_count": 16,
   "metadata": {},
   "outputs": [
    {
     "name": "stdout",
     "output_type": "stream",
     "text": [
      "Generating group_id\n",
      "imagetype: BIAS, skip TCS synchronization.\n",
      "BIAS 0001 - 0001\n"
     ]
    },
    {
     "data": {
      "text/plain": [
       "array([2021093000010])"
      ]
     },
     "execution_count": 16,
     "metadata": {},
     "output_type": "execute_result"
    }
   ],
   "source": [
    "# Take a bias to make sure everything is working\n",
    "# Succeeded\n",
    "await latiss.take_bias(1)"
   ]
  },
  {
   "cell_type": "markdown",
   "metadata": {},
   "source": [
    "Step 1.5:\n",
    "In and out of calibration with a clear.\\\n",
    "Succeeded"
   ]
  },
  {
   "cell_type": "code",
   "execution_count": 17,
   "metadata": {},
   "outputs": [
    {
     "data": {
      "text/plain": [
       "<ddsutil.ATCamera_ackcmd_f0c279a1 at 0x7f49574e3100>"
      ]
     },
     "execution_count": 17,
     "metadata": {},
     "output_type": "execute_result"
    }
   ],
   "source": [
    "await latiss.rem.atcamera.cmd_enableCalibration.set_start()"
   ]
  },
  {
   "cell_type": "code",
   "execution_count": 18,
   "metadata": {},
   "outputs": [
    {
     "data": {
      "text/plain": [
       "<ddsutil.ATCamera_ackcmd_f0c279a1 at 0x7f49574d45b0>"
      ]
     },
     "execution_count": 18,
     "metadata": {},
     "output_type": "execute_result"
    }
   ],
   "source": [
    "await latiss.rem.atcamera.cmd_clear.set_start(nClears=2)"
   ]
  },
  {
   "cell_type": "code",
   "execution_count": 19,
   "metadata": {},
   "outputs": [],
   "source": [
    "await asyncio.sleep(2.0)"
   ]
  },
  {
   "cell_type": "code",
   "execution_count": 20,
   "metadata": {},
   "outputs": [
    {
     "data": {
      "text/plain": [
       "<ddsutil.ATCamera_ackcmd_f0c279a1 at 0x7f49574ee1f0>"
      ]
     },
     "execution_count": 20,
     "metadata": {},
     "output_type": "execute_result"
    }
   ],
   "source": [
    "await latiss.rem.atcamera.cmd_disableCalibration.start()"
   ]
  },
  {
   "cell_type": "code",
   "execution_count": 21,
   "metadata": {},
   "outputs": [
    {
     "name": "stdout",
     "output_type": "stream",
     "text": [
      "Generating group_id\n",
      "imagetype: BIAS, skip TCS synchronization.\n",
      "BIAS 0001 - 0001\n"
     ]
    },
    {
     "data": {
      "text/plain": [
       "array([2021093000011])"
      ]
     },
     "execution_count": 21,
     "metadata": {},
     "output_type": "execute_result"
    }
   ],
   "source": [
    "# Take a bias to make sure everything is working\n",
    "# Succeeded\n",
    "await latiss.take_bias(1)"
   ]
  },
  {
   "cell_type": "markdown",
   "metadata": {},
   "source": [
    "Step 2:\n",
    "The following commands should take a calibration image\\\n",
    "Try this first without the discardRows()\\\n",
    "This worked.  The shutter opened and closed, and successfully took image 0012."
   ]
  },
  {
   "cell_type": "code",
   "execution_count": 22,
   "metadata": {},
   "outputs": [
    {
     "data": {
      "text/plain": [
       "<ddsutil.ATCamera_ackcmd_f0c279a1 at 0x7f49574f94c0>"
      ]
     },
     "execution_count": 22,
     "metadata": {},
     "output_type": "execute_result"
    }
   ],
   "source": [
    "await latiss.rem.atcamera.cmd_enableCalibration.set_start()"
   ]
  },
  {
   "cell_type": "code",
   "execution_count": 23,
   "metadata": {},
   "outputs": [
    {
     "data": {
      "text/plain": [
       "<ddsutil.ATCamera_ackcmd_f0c279a1 at 0x7f49574f9c40>"
      ]
     },
     "execution_count": 23,
     "metadata": {},
     "output_type": "execute_result"
    }
   ],
   "source": [
    "await latiss.rem.atcamera.cmd_clear.set_start(nClears=2)"
   ]
  },
  {
   "cell_type": "code",
   "execution_count": 24,
   "metadata": {},
   "outputs": [],
   "source": [
    "keyValueMap = f\"groupId: {Time.now().isot},imageType: ENGTEST\" "
   ]
  },
  {
   "cell_type": "code",
   "execution_count": 25,
   "metadata": {},
   "outputs": [
    {
     "name": "stdout",
     "output_type": "stream",
     "text": [
      "groupId: 2021-09-30T21:03:02.821,imageType: ENGTEST\n"
     ]
    }
   ],
   "source": [
    "print(keyValueMap)"
   ]
  },
  {
   "cell_type": "code",
   "execution_count": 26,
   "metadata": {},
   "outputs": [
    {
     "data": {
      "text/plain": [
       "True"
      ]
     },
     "execution_count": 26,
     "metadata": {},
     "output_type": "execute_result"
    }
   ],
   "source": [
    "latiss.rem.atcamera.cmd_startImage.set(shutter=True, keyValueMap=keyValueMap, timeout=10.0)"
   ]
  },
  {
   "cell_type": "code",
   "execution_count": 27,
   "metadata": {},
   "outputs": [
    {
     "data": {
      "text/plain": [
       "<ddsutil.ATCamera_ackcmd_f0c279a1 at 0x7f496c1d0b80>"
      ]
     },
     "execution_count": 27,
     "metadata": {},
     "output_type": "execute_result"
    }
   ],
   "source": [
    "await latiss.rem.atcamera.cmd_startImage.start()"
   ]
  },
  {
   "cell_type": "code",
   "execution_count": 28,
   "metadata": {},
   "outputs": [],
   "source": [
    "await asyncio.sleep(2.0)"
   ]
  },
  {
   "cell_type": "code",
   "execution_count": 29,
   "metadata": {},
   "outputs": [
    {
     "data": {
      "text/plain": [
       "<ddsutil.ATCamera_ackcmd_f0c279a1 at 0x7f49574848b0>"
      ]
     },
     "execution_count": 29,
     "metadata": {},
     "output_type": "execute_result"
    }
   ],
   "source": [
    "await latiss.rem.atcamera.cmd_endImage.start()\n",
    "# Worked this time"
   ]
  },
  {
   "cell_type": "code",
   "execution_count": 30,
   "metadata": {},
   "outputs": [
    {
     "data": {
      "text/plain": [
       "<ddsutil.ATCamera_ackcmd_f0c279a1 at 0x7f4957484f70>"
      ]
     },
     "execution_count": 30,
     "metadata": {},
     "output_type": "execute_result"
    }
   ],
   "source": [
    "await latiss.rem.atcamera.cmd_disableCalibration.start()"
   ]
  },
  {
   "cell_type": "code",
   "execution_count": 31,
   "metadata": {},
   "outputs": [
    {
     "name": "stdout",
     "output_type": "stream",
     "text": [
      "Generating group_id\n",
      "imagetype: BIAS, skip TCS synchronization.\n",
      "BIAS 0001 - 0001\n"
     ]
    },
    {
     "data": {
      "text/plain": [
       "array([2021093000013])"
      ]
     },
     "execution_count": 31,
     "metadata": {},
     "output_type": "execute_result"
    }
   ],
   "source": [
    "# Take a bias to make sure everything is working\n",
    "# Succeeded.\n",
    "await latiss.take_bias(1)"
   ]
  },
  {
   "cell_type": "markdown",
   "metadata": {},
   "source": [
    "Step 2A:\n",
    "The following commands should take a calibration image\\\n",
    "Try this first without the discardRows()\\\n",
    "Trying again to see if it enters CalibrationIntegrating state and if it stays there.\\\n",
    "It did enter the CalibrationIntegrating state, but then it times out while I was checking the substate.\\\n",
    "But it successfully took image 14 and a bias(15) afterwards, so the camera is still alive."
   ]
  },
  {
   "cell_type": "code",
   "execution_count": 32,
   "metadata": {},
   "outputs": [
    {
     "data": {
      "text/plain": [
       "<ddsutil.ATCamera_ackcmd_f0c279a1 at 0x7f49574aa070>"
      ]
     },
     "execution_count": 32,
     "metadata": {},
     "output_type": "execute_result"
    }
   ],
   "source": [
    "await latiss.rem.atcamera.cmd_enableCalibration.set_start()"
   ]
  },
  {
   "cell_type": "code",
   "execution_count": 33,
   "metadata": {},
   "outputs": [
    {
     "data": {
      "text/plain": [
       "<ddsutil.ATCamera_ackcmd_f0c279a1 at 0x7f496c186130>"
      ]
     },
     "execution_count": 33,
     "metadata": {},
     "output_type": "execute_result"
    }
   ],
   "source": [
    "await latiss.rem.atcamera.cmd_clear.set_start(nClears=2)"
   ]
  },
  {
   "cell_type": "code",
   "execution_count": 34,
   "metadata": {},
   "outputs": [],
   "source": [
    "keyValueMap = f\"groupId: {Time.now().isot},imageType: ENGTEST\" "
   ]
  },
  {
   "cell_type": "code",
   "execution_count": 35,
   "metadata": {},
   "outputs": [
    {
     "name": "stdout",
     "output_type": "stream",
     "text": [
      "groupId: 2021-09-30T21:06:28.613,imageType: ENGTEST\n"
     ]
    }
   ],
   "source": [
    "print(keyValueMap)"
   ]
  },
  {
   "cell_type": "code",
   "execution_count": 36,
   "metadata": {},
   "outputs": [
    {
     "data": {
      "text/plain": [
       "True"
      ]
     },
     "execution_count": 36,
     "metadata": {},
     "output_type": "execute_result"
    }
   ],
   "source": [
    "latiss.rem.atcamera.cmd_startImage.set(shutter=True, keyValueMap=keyValueMap, timeout=10.0)"
   ]
  },
  {
   "cell_type": "code",
   "execution_count": 37,
   "metadata": {},
   "outputs": [
    {
     "data": {
      "text/plain": [
       "<ddsutil.ATCamera_ackcmd_f0c279a1 at 0x7f49575618b0>"
      ]
     },
     "execution_count": 37,
     "metadata": {},
     "output_type": "execute_result"
    }
   ],
   "source": [
    "await latiss.rem.atcamera.cmd_startImage.start()"
   ]
  },
  {
   "cell_type": "code",
   "execution_count": 38,
   "metadata": {},
   "outputs": [],
   "source": [
    "await asyncio.sleep(2.0)"
   ]
  },
  {
   "cell_type": "code",
   "execution_count": 39,
   "metadata": {},
   "outputs": [
    {
     "ename": "AckError",
     "evalue": "msg='Command failed', ackcmd=(ackcmd private_seqNum=717841637, ack=<SalRetCode.CMD_NOPERM: -300>, error=0, result='Ack : NO Command rejected: Invalid calibration state State{CalibrationState = ENABLED}')",
     "output_type": "error",
     "traceback": [
      "\u001b[0;31m---------------------------------------------------------------------------\u001b[0m",
      "\u001b[0;31mAckError\u001b[0m                                  Traceback (most recent call last)",
      "\u001b[0;32m<ipython-input-39-508c7401abc0>\u001b[0m in \u001b[0;36m<module>\u001b[0;34m\u001b[0m\n\u001b[0;32m----> 1\u001b[0;31m \u001b[0;32mawait\u001b[0m \u001b[0mlatiss\u001b[0m\u001b[0;34m.\u001b[0m\u001b[0mrem\u001b[0m\u001b[0;34m.\u001b[0m\u001b[0matcamera\u001b[0m\u001b[0;34m.\u001b[0m\u001b[0mcmd_endImage\u001b[0m\u001b[0;34m.\u001b[0m\u001b[0mstart\u001b[0m\u001b[0;34m(\u001b[0m\u001b[0;34m)\u001b[0m\u001b[0;34m\u001b[0m\u001b[0;34m\u001b[0m\u001b[0m\n\u001b[0m\u001b[1;32m      2\u001b[0m \u001b[0;31m# Why is this command failing???\u001b[0m\u001b[0;34m\u001b[0m\u001b[0;34m\u001b[0m\u001b[0;34m\u001b[0m\u001b[0m\n",
      "\u001b[0;32m/opt/lsst/software/stack/conda/miniconda3-py38_4.9.2/envs/lsst-scipipe-0.7.0/lib/python3.8/site-packages/lsst/ts/salobj/topics/remote_command.py\u001b[0m in \u001b[0;36mstart\u001b[0;34m(self, data, timeout, wait_done)\u001b[0m\n\u001b[1;32m    481\u001b[0m         )\n\u001b[1;32m    482\u001b[0m         \u001b[0mself\u001b[0m\u001b[0;34m.\u001b[0m\u001b[0msalinfo\u001b[0m\u001b[0;34m.\u001b[0m\u001b[0m_running_cmds\u001b[0m\u001b[0;34m[\u001b[0m\u001b[0mseq_num\u001b[0m\u001b[0;34m]\u001b[0m \u001b[0;34m=\u001b[0m \u001b[0mcmd_info\u001b[0m\u001b[0;34m\u001b[0m\u001b[0;34m\u001b[0m\u001b[0m\n\u001b[0;32m--> 483\u001b[0;31m         \u001b[0;32mreturn\u001b[0m \u001b[0;32mawait\u001b[0m \u001b[0mcmd_info\u001b[0m\u001b[0;34m.\u001b[0m\u001b[0mnext_ackcmd\u001b[0m\u001b[0;34m(\u001b[0m\u001b[0mtimeout\u001b[0m\u001b[0;34m=\u001b[0m\u001b[0mtimeout\u001b[0m\u001b[0;34m)\u001b[0m\u001b[0;34m\u001b[0m\u001b[0;34m\u001b[0m\u001b[0m\n\u001b[0m",
      "\u001b[0;32m/opt/lsst/software/stack/conda/miniconda3-py38_4.9.2/envs/lsst-scipipe-0.7.0/lib/python3.8/site-packages/lsst/ts/salobj/topics/remote_command.py\u001b[0m in \u001b[0;36mnext_ackcmd\u001b[0;34m(self, timeout)\u001b[0m\n\u001b[1;32m    199\u001b[0m             \u001b[0mackcmd\u001b[0m \u001b[0;34m=\u001b[0m \u001b[0;32mawait\u001b[0m \u001b[0mself\u001b[0m\u001b[0;34m.\u001b[0m\u001b[0m_wait_task\u001b[0m\u001b[0;34m\u001b[0m\u001b[0;34m\u001b[0m\u001b[0m\n\u001b[1;32m    200\u001b[0m             \u001b[0;32mif\u001b[0m \u001b[0mackcmd\u001b[0m\u001b[0;34m.\u001b[0m\u001b[0mack\u001b[0m \u001b[0;32min\u001b[0m \u001b[0mself\u001b[0m\u001b[0;34m.\u001b[0m\u001b[0mfailed_ack_codes\u001b[0m\u001b[0;34m:\u001b[0m\u001b[0;34m\u001b[0m\u001b[0;34m\u001b[0m\u001b[0m\n\u001b[0;32m--> 201\u001b[0;31m                 \u001b[0;32mraise\u001b[0m \u001b[0mbase\u001b[0m\u001b[0;34m.\u001b[0m\u001b[0mAckError\u001b[0m\u001b[0;34m(\u001b[0m\u001b[0mmsg\u001b[0m\u001b[0;34m=\u001b[0m\u001b[0;34m\"Command failed\"\u001b[0m\u001b[0;34m,\u001b[0m \u001b[0mackcmd\u001b[0m\u001b[0;34m=\u001b[0m\u001b[0mackcmd\u001b[0m\u001b[0;34m)\u001b[0m\u001b[0;34m\u001b[0m\u001b[0;34m\u001b[0m\u001b[0m\n\u001b[0m\u001b[1;32m    202\u001b[0m             \u001b[0;32mreturn\u001b[0m \u001b[0mackcmd\u001b[0m\u001b[0;34m\u001b[0m\u001b[0;34m\u001b[0m\u001b[0m\n\u001b[1;32m    203\u001b[0m         \u001b[0;32mexcept\u001b[0m \u001b[0masyncio\u001b[0m\u001b[0;34m.\u001b[0m\u001b[0mTimeoutError\u001b[0m\u001b[0;34m:\u001b[0m\u001b[0;34m\u001b[0m\u001b[0;34m\u001b[0m\u001b[0m\n",
      "\u001b[0;31mAckError\u001b[0m: msg='Command failed', ackcmd=(ackcmd private_seqNum=717841637, ack=<SalRetCode.CMD_NOPERM: -300>, error=0, result='Ack : NO Command rejected: Invalid calibration state State{CalibrationState = ENABLED}')"
     ]
    }
   ],
   "source": [
    "await latiss.rem.atcamera.cmd_endImage.start()\n",
    "# This failed because it timed out while I was checking the substate status."
   ]
  },
  {
   "cell_type": "code",
   "execution_count": 40,
   "metadata": {},
   "outputs": [
    {
     "data": {
      "text/plain": [
       "<ddsutil.ATCamera_ackcmd_f0c279a1 at 0x7f49574b1310>"
      ]
     },
     "execution_count": 40,
     "metadata": {},
     "output_type": "execute_result"
    }
   ],
   "source": [
    "await latiss.rem.atcamera.cmd_disableCalibration.start()"
   ]
  },
  {
   "cell_type": "code",
   "execution_count": 41,
   "metadata": {},
   "outputs": [
    {
     "name": "stdout",
     "output_type": "stream",
     "text": [
      "Generating group_id\n",
      "imagetype: BIAS, skip TCS synchronization.\n",
      "BIAS 0001 - 0001\n"
     ]
    },
    {
     "data": {
      "text/plain": [
       "array([2021093000015])"
      ]
     },
     "execution_count": 41,
     "metadata": {},
     "output_type": "execute_result"
    }
   ],
   "source": [
    "# Take a bias to make sure everything is still working\n",
    "await latiss.take_bias(1)"
   ]
  },
  {
   "cell_type": "markdown",
   "metadata": {},
   "source": [
    "Step 2B:\n",
    "The following commands should take a calibration image\\\n",
    "Try this first without the discardRows()\\\n",
    "Trying again to see if it enters CalibrationIntegrating state and if it stays there.\\\n",
    "Setting the timeout to 20 seconds.\\\n",
    "Successfully took image 16 and a bias(17) afterwards."
   ]
  },
  {
   "cell_type": "code",
   "execution_count": 42,
   "metadata": {},
   "outputs": [
    {
     "data": {
      "text/plain": [
       "<ddsutil.ATCamera_ackcmd_f0c279a1 at 0x7f49574662e0>"
      ]
     },
     "execution_count": 42,
     "metadata": {},
     "output_type": "execute_result"
    }
   ],
   "source": [
    "await latiss.rem.atcamera.cmd_enableCalibration.set_start()"
   ]
  },
  {
   "cell_type": "code",
   "execution_count": 43,
   "metadata": {},
   "outputs": [
    {
     "data": {
      "text/plain": [
       "<ddsutil.ATCamera_ackcmd_f0c279a1 at 0x7f495744b130>"
      ]
     },
     "execution_count": 43,
     "metadata": {},
     "output_type": "execute_result"
    }
   ],
   "source": [
    "await latiss.rem.atcamera.cmd_clear.set_start(nClears=2)"
   ]
  },
  {
   "cell_type": "code",
   "execution_count": 44,
   "metadata": {},
   "outputs": [],
   "source": [
    "keyValueMap = f\"groupId: {Time.now().isot},imageType: ENGTEST\" "
   ]
  },
  {
   "cell_type": "code",
   "execution_count": 45,
   "metadata": {},
   "outputs": [
    {
     "name": "stdout",
     "output_type": "stream",
     "text": [
      "groupId: 2021-09-30T21:10:50.826,imageType: ENGTEST\n"
     ]
    }
   ],
   "source": [
    "print(keyValueMap)"
   ]
  },
  {
   "cell_type": "code",
   "execution_count": 46,
   "metadata": {},
   "outputs": [
    {
     "data": {
      "text/plain": [
       "True"
      ]
     },
     "execution_count": 46,
     "metadata": {},
     "output_type": "execute_result"
    }
   ],
   "source": [
    "latiss.rem.atcamera.cmd_startImage.set(shutter=True, keyValueMap=keyValueMap, timeout=20.0)"
   ]
  },
  {
   "cell_type": "code",
   "execution_count": 47,
   "metadata": {},
   "outputs": [
    {
     "data": {
      "text/plain": [
       "<ddsutil.ATCamera_ackcmd_f0c279a1 at 0x7f4957da64f0>"
      ]
     },
     "execution_count": 47,
     "metadata": {},
     "output_type": "execute_result"
    }
   ],
   "source": [
    "await latiss.rem.atcamera.cmd_startImage.start()"
   ]
  },
  {
   "cell_type": "code",
   "execution_count": 48,
   "metadata": {},
   "outputs": [],
   "source": [
    "await asyncio.sleep(2.0)"
   ]
  },
  {
   "cell_type": "code",
   "execution_count": 49,
   "metadata": {},
   "outputs": [
    {
     "data": {
      "text/plain": [
       "<ddsutil.ATCamera_ackcmd_f0c279a1 at 0x7f495746f220>"
      ]
     },
     "execution_count": 49,
     "metadata": {},
     "output_type": "execute_result"
    }
   ],
   "source": [
    "await latiss.rem.atcamera.cmd_endImage.start()\n",
    "# Worked this time"
   ]
  },
  {
   "cell_type": "code",
   "execution_count": 50,
   "metadata": {},
   "outputs": [
    {
     "data": {
      "text/plain": [
       "<ddsutil.ATCamera_ackcmd_f0c279a1 at 0x7f495746f9d0>"
      ]
     },
     "execution_count": 50,
     "metadata": {},
     "output_type": "execute_result"
    }
   ],
   "source": [
    "await latiss.rem.atcamera.cmd_disableCalibration.start()"
   ]
  },
  {
   "cell_type": "code",
   "execution_count": 51,
   "metadata": {},
   "outputs": [
    {
     "name": "stdout",
     "output_type": "stream",
     "text": [
      "Generating group_id\n",
      "imagetype: BIAS, skip TCS synchronization.\n",
      "BIAS 0001 - 0001\n"
     ]
    },
    {
     "data": {
      "text/plain": [
       "array([2021093000017])"
      ]
     },
     "execution_count": 51,
     "metadata": {},
     "output_type": "execute_result"
    }
   ],
   "source": [
    "# Take a bias to make sure everything is still working\n",
    "await latiss.take_bias(1)"
   ]
  },
  {
   "cell_type": "markdown",
   "metadata": {},
   "source": [
    "Step 3:\n",
    "The following commands should take a calibration image\\\n",
    "With the discardRows().\\\n",
    "This worked, and successfully took image 18 and a subsequent bias(19).\\\n",
    "But image 18 looks normal.  Did it work?  I need to study the docs some more\\\n",
    "to see what the image should look like."
   ]
  },
  {
   "cell_type": "code",
   "execution_count": 52,
   "metadata": {},
   "outputs": [
    {
     "data": {
      "text/plain": [
       "<ddsutil.ATCamera_ackcmd_f0c279a1 at 0x7f495746f4c0>"
      ]
     },
     "execution_count": 52,
     "metadata": {},
     "output_type": "execute_result"
    }
   ],
   "source": [
    "await latiss.rem.atcamera.cmd_enableCalibration.set_start()"
   ]
  },
  {
   "cell_type": "code",
   "execution_count": 53,
   "metadata": {},
   "outputs": [
    {
     "data": {
      "text/plain": [
       "<ddsutil.ATCamera_ackcmd_f0c279a1 at 0x7f495746fcd0>"
      ]
     },
     "execution_count": 53,
     "metadata": {},
     "output_type": "execute_result"
    }
   ],
   "source": [
    "await latiss.rem.atcamera.cmd_clear.set_start(nClears=2)"
   ]
  },
  {
   "cell_type": "code",
   "execution_count": 54,
   "metadata": {},
   "outputs": [],
   "source": [
    "keyValueMap = f\"groupId: {Time.now().isot},imageType: ENGTEST\" "
   ]
  },
  {
   "cell_type": "code",
   "execution_count": 55,
   "metadata": {},
   "outputs": [
    {
     "name": "stdout",
     "output_type": "stream",
     "text": [
      "groupId: 2021-09-30T21:13:52.824,imageType: ENGTEST\n"
     ]
    }
   ],
   "source": [
    "print(keyValueMap)"
   ]
  },
  {
   "cell_type": "code",
   "execution_count": 56,
   "metadata": {},
   "outputs": [
    {
     "data": {
      "text/plain": [
       "True"
      ]
     },
     "execution_count": 56,
     "metadata": {},
     "output_type": "execute_result"
    }
   ],
   "source": [
    "latiss.rem.atcamera.cmd_startImage.set(shutter=True, keyValueMap=keyValueMap, timeout=20.0)"
   ]
  },
  {
   "cell_type": "code",
   "execution_count": 57,
   "metadata": {},
   "outputs": [
    {
     "data": {
      "text/plain": [
       "<ddsutil.ATCamera_ackcmd_f0c279a1 at 0x7f4957568550>"
      ]
     },
     "execution_count": 57,
     "metadata": {},
     "output_type": "execute_result"
    }
   ],
   "source": [
    "await latiss.rem.atcamera.cmd_startImage.start()"
   ]
  },
  {
   "cell_type": "code",
   "execution_count": 58,
   "metadata": {},
   "outputs": [],
   "source": [
    "await asyncio.sleep(2.0)"
   ]
  },
  {
   "cell_type": "code",
   "execution_count": 59,
   "metadata": {},
   "outputs": [
    {
     "data": {
      "text/plain": [
       "True"
      ]
     },
     "execution_count": 59,
     "metadata": {},
     "output_type": "execute_result"
    }
   ],
   "source": [
    "latiss.rem.atcamera.cmd_discardRows.set(nRows=500)"
   ]
  },
  {
   "cell_type": "code",
   "execution_count": 60,
   "metadata": {},
   "outputs": [
    {
     "data": {
      "text/plain": [
       "<ddsutil.ATCamera_ackcmd_f0c279a1 at 0x7f495747a460>"
      ]
     },
     "execution_count": 60,
     "metadata": {},
     "output_type": "execute_result"
    }
   ],
   "source": [
    "await latiss.rem.atcamera.cmd_discardRows.start()"
   ]
  },
  {
   "cell_type": "code",
   "execution_count": 61,
   "metadata": {},
   "outputs": [],
   "source": [
    "await asyncio.sleep(1.0)"
   ]
  },
  {
   "cell_type": "code",
   "execution_count": 62,
   "metadata": {},
   "outputs": [
    {
     "data": {
      "text/plain": [
       "<ddsutil.ATCamera_ackcmd_f0c279a1 at 0x7f49574053a0>"
      ]
     },
     "execution_count": 62,
     "metadata": {},
     "output_type": "execute_result"
    }
   ],
   "source": [
    "await latiss.rem.atcamera.cmd_endImage.start()"
   ]
  },
  {
   "cell_type": "code",
   "execution_count": 63,
   "metadata": {},
   "outputs": [
    {
     "data": {
      "text/plain": [
       "<ddsutil.ATCamera_ackcmd_f0c279a1 at 0x7f4957405af0>"
      ]
     },
     "execution_count": 63,
     "metadata": {},
     "output_type": "execute_result"
    }
   ],
   "source": [
    "await latiss.rem.atcamera.cmd_disableCalibration.start()"
   ]
  },
  {
   "cell_type": "code",
   "execution_count": 64,
   "metadata": {},
   "outputs": [
    {
     "name": "stdout",
     "output_type": "stream",
     "text": [
      "Generating group_id\n",
      "imagetype: BIAS, skip TCS synchronization.\n",
      "BIAS 0001 - 0001\n"
     ]
    },
    {
     "data": {
      "text/plain": [
       "array([2021093000019])"
      ]
     },
     "execution_count": 64,
     "metadata": {},
     "output_type": "execute_result"
    },
    {
     "name": "stdout",
     "output_type": "stream",
     "text": [
      "logMessage DDS read queue is filling: 11 of 100 elements\n"
     ]
    }
   ],
   "source": [
    "# Take a bias to make sure everything is working\n",
    "await latiss.take_bias(1)"
   ]
  },
  {
   "cell_type": "markdown",
   "metadata": {},
   "source": [
    "Step 3A:\n",
    "The following commands should take a calibration image\\\n",
    "With the discardRows().\\\n",
    "Trying again with discardRows repeated four times.  This should make\\\n",
    "a visible change to the image.\\\n",
    "No change to image(20) seen.  Successful bias afterwards(21)."
   ]
  },
  {
   "cell_type": "code",
   "execution_count": 65,
   "metadata": {},
   "outputs": [
    {
     "data": {
      "text/plain": [
       "<ddsutil.ATCamera_ackcmd_f0c279a1 at 0x7f495750d6a0>"
      ]
     },
     "execution_count": 65,
     "metadata": {},
     "output_type": "execute_result"
    }
   ],
   "source": [
    "await latiss.rem.atcamera.cmd_enableCalibration.set_start()"
   ]
  },
  {
   "cell_type": "code",
   "execution_count": 66,
   "metadata": {},
   "outputs": [
    {
     "data": {
      "text/plain": [
       "<ddsutil.ATCamera_ackcmd_f0c279a1 at 0x7f495746f6d0>"
      ]
     },
     "execution_count": 66,
     "metadata": {},
     "output_type": "execute_result"
    }
   ],
   "source": [
    "await latiss.rem.atcamera.cmd_clear.set_start(nClears=2)"
   ]
  },
  {
   "cell_type": "code",
   "execution_count": 67,
   "metadata": {},
   "outputs": [],
   "source": [
    "keyValueMap = f\"groupId: {Time.now().isot},imageType: ENGTEST\" "
   ]
  },
  {
   "cell_type": "code",
   "execution_count": 68,
   "metadata": {},
   "outputs": [
    {
     "name": "stdout",
     "output_type": "stream",
     "text": [
      "groupId: 2021-09-30T21:26:16.361,imageType: ENGTEST\n"
     ]
    }
   ],
   "source": [
    "print(keyValueMap)"
   ]
  },
  {
   "cell_type": "code",
   "execution_count": 69,
   "metadata": {},
   "outputs": [
    {
     "data": {
      "text/plain": [
       "True"
      ]
     },
     "execution_count": 69,
     "metadata": {},
     "output_type": "execute_result"
    }
   ],
   "source": [
    "latiss.rem.atcamera.cmd_startImage.set(shutter=True, keyValueMap=keyValueMap, timeout=20.0)"
   ]
  },
  {
   "cell_type": "code",
   "execution_count": 70,
   "metadata": {},
   "outputs": [
    {
     "data": {
      "text/plain": [
       "<ddsutil.ATCamera_ackcmd_f0c279a1 at 0x7f49574d4ac0>"
      ]
     },
     "execution_count": 70,
     "metadata": {},
     "output_type": "execute_result"
    }
   ],
   "source": [
    "await latiss.rem.atcamera.cmd_startImage.start()"
   ]
  },
  {
   "cell_type": "code",
   "execution_count": 71,
   "metadata": {},
   "outputs": [],
   "source": [
    "await asyncio.sleep(2.0)"
   ]
  },
  {
   "cell_type": "code",
   "execution_count": 72,
   "metadata": {},
   "outputs": [
    {
     "data": {
      "text/plain": [
       "<ddsutil.ATCamera_ackcmd_f0c279a1 at 0x7f49574172b0>"
      ]
     },
     "execution_count": 72,
     "metadata": {},
     "output_type": "execute_result"
    }
   ],
   "source": [
    "latiss.rem.atcamera.cmd_discardRows.set(nRows=500)\n",
    "for i in range(4):\n",
    "    await latiss.rem.atcamera.cmd_discardRows.start()\n",
    "    await asyncio.sleep(0.1)\n",
    "await latiss.rem.atcamera.cmd_endImage.start()"
   ]
  },
  {
   "cell_type": "code",
   "execution_count": 73,
   "metadata": {},
   "outputs": [
    {
     "data": {
      "text/plain": [
       "<ddsutil.ATCamera_ackcmd_f0c279a1 at 0x7f4957417370>"
      ]
     },
     "execution_count": 73,
     "metadata": {},
     "output_type": "execute_result"
    }
   ],
   "source": [
    "await latiss.rem.atcamera.cmd_disableCalibration.start()"
   ]
  },
  {
   "cell_type": "code",
   "execution_count": 74,
   "metadata": {},
   "outputs": [
    {
     "name": "stdout",
     "output_type": "stream",
     "text": [
      "Generating group_id\n",
      "imagetype: BIAS, skip TCS synchronization.\n",
      "BIAS 0001 - 0001\n"
     ]
    },
    {
     "data": {
      "text/plain": [
       "array([2021093000021])"
      ]
     },
     "execution_count": 74,
     "metadata": {},
     "output_type": "execute_result"
    }
   ],
   "source": [
    "# Take a bias to make sure everything is working\n",
    "await latiss.take_bias(1)"
   ]
  },
  {
   "cell_type": "code",
   "execution_count": 75,
   "metadata": {},
   "outputs": [
    {
     "name": "stdout",
     "output_type": "stream",
     "text": [
      "[atcamera]::[<State.ENABLED: 2>, <State.DISABLED: 1>, <State.STANDBY: 5>]\n",
      "[atspectrograph]::[<State.ENABLED: 2>, <State.DISABLED: 1>, <State.STANDBY: 5>]\n",
      "[atheaderservice]::[<State.ENABLED: 2>, <State.DISABLED: 1>, <State.STANDBY: 5>]\n",
      "[atarchiver]::[<State.ENABLED: 2>, <State.DISABLED: 1>, <State.STANDBY: 5>]\n",
      "All components in <State.STANDBY: 5>.\n"
     ]
    }
   ],
   "source": [
    "# Putting everything back in standby.\n",
    "await latiss.standby()"
   ]
  },
  {
   "cell_type": "code",
   "execution_count": null,
   "metadata": {},
   "outputs": [],
   "source": []
  },
  {
   "cell_type": "markdown",
   "metadata": {},
   "source": [
    "Stuff below is just in case it is needed."
   ]
  },
  {
   "cell_type": "code",
   "execution_count": null,
   "metadata": {},
   "outputs": [],
   "source": [
    "await latiss.rem.atcamera.cmd_disable.set_start()"
   ]
  },
  {
   "cell_type": "code",
   "execution_count": null,
   "metadata": {},
   "outputs": [],
   "source": [
    "latiss.rem.atcamera.cmd_endImage.set_start()"
   ]
  },
  {
   "cell_type": "code",
   "execution_count": null,
   "metadata": {},
   "outputs": [],
   "source": [
    "await latiss.rem.atcamera.cmd_disableCalibration.start()"
   ]
  },
  {
   "cell_type": "code",
   "execution_count": null,
   "metadata": {},
   "outputs": [],
   "source": [
    "await salobj.set_summary_state(latiss.rem.atcamera, salobj.State.ENABLED)"
   ]
  },
  {
   "cell_type": "code",
   "execution_count": null,
   "metadata": {},
   "outputs": [],
   "source": [
    "test = await latiss.rem.atcamera.evt_heartbeat.next(flush=True, timeout=5)"
   ]
  },
  {
   "cell_type": "code",
   "execution_count": null,
   "metadata": {},
   "outputs": [],
   "source": [
    "print(test)"
   ]
  },
  {
   "cell_type": "code",
   "execution_count": null,
   "metadata": {},
   "outputs": [],
   "source": [
    "print(test)"
   ]
  },
  {
   "cell_type": "code",
   "execution_count": null,
   "metadata": {},
   "outputs": [],
   "source": [
    "await latiss.rem.atcamera.cmd_disable?"
   ]
  },
  {
   "cell_type": "code",
   "execution_count": null,
   "metadata": {},
   "outputs": [],
   "source": [
    "await latiss.rem.atcamera.cmd_disable"
   ]
  },
  {
   "cell_type": "code",
   "execution_count": null,
   "metadata": {},
   "outputs": [],
   "source": [
    "await latiss.rem.atcamera.cmd_disable.set_start()"
   ]
  },
  {
   "cell_type": "code",
   "execution_count": null,
   "metadata": {},
   "outputs": [],
   "source": [
    "await salobj.set_summary_state(latiss.rem.atspectrograph, salobj.State.STANDBY)"
   ]
  },
  {
   "cell_type": "code",
   "execution_count": null,
   "metadata": {},
   "outputs": [],
   "source": [
    "await latiss.rem.atspectrograph.cmd_enable.set_start({\"atspectrograph\": \"current\"})"
   ]
  },
  {
   "cell_type": "code",
   "execution_count": null,
   "metadata": {},
   "outputs": [],
   "source": [
    "await latiss.rem.atspectrograph.enable({\"atspectrograph\": \"current\"})"
   ]
  },
  {
   "cell_type": "code",
   "execution_count": null,
   "metadata": {},
   "outputs": [],
   "source": [
    "await latiss.enable({\"atspectrograph\": \"current\"})"
   ]
  },
  {
   "cell_type": "code",
   "execution_count": null,
   "metadata": {},
   "outputs": [],
   "source": [
    "await latiss.rem.atcamera.cmd_initImage.set_start(deltaT=2.0)"
   ]
  },
  {
   "cell_type": "code",
   "execution_count": null,
   "metadata": {},
   "outputs": [],
   "source": [
    "await latiss.rem.atcamera.cmd_abort.start()"
   ]
  },
  {
   "cell_type": "code",
   "execution_count": null,
   "metadata": {},
   "outputs": [],
   "source": []
  },
  {
   "cell_type": "code",
   "execution_count": null,
   "metadata": {},
   "outputs": [],
   "source": [
    "await latiss.rem.atcamera.cmd_stop.start()"
   ]
  },
  {
   "cell_type": "code",
   "execution_count": null,
   "metadata": {},
   "outputs": [],
   "source": [
    "await latiss.rem.atcamera.cmd_stop"
   ]
  },
  {
   "cell_type": "code",
   "execution_count": null,
   "metadata": {},
   "outputs": [],
   "source": [
    "await latiss.rem.atcamera.cmd_endImage.set?"
   ]
  },
  {
   "cell_type": "code",
   "execution_count": null,
   "metadata": {},
   "outputs": [],
   "source": [
    "await latiss.rem.atcamera.cmd_endImage.set"
   ]
  },
  {
   "cell_type": "code",
   "execution_count": null,
   "metadata": {},
   "outputs": [],
   "source": [
    "await latiss.rem.atcamera.cmd_endImage"
   ]
  },
  {
   "cell_type": "code",
   "execution_count": null,
   "metadata": {},
   "outputs": [],
   "source": []
  }
 ],
 "metadata": {
  "kernelspec": {
   "display_name": "LSST",
   "language": "python",
   "name": "lsst"
  },
  "language_info": {
   "codemirror_mode": {
    "name": "ipython",
    "version": 3
   },
   "file_extension": ".py",
   "mimetype": "text/x-python",
   "name": "python",
   "nbconvert_exporter": "python",
   "pygments_lexer": "ipython3",
   "version": "3.8.12"
  }
 },
 "nbformat": 4,
 "nbformat_minor": 4
}
