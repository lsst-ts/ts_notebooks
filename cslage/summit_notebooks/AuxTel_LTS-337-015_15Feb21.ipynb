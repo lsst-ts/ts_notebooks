{
 "cells": [
  {
   "cell_type": "markdown",
   "metadata": {},
   "source": [
    "## AuxTel test LTS-337-015 (Small Slew and Settle)\n",
    "\n",
    "In this notebook, we check the speed and accuracy of the slew and settle of the telescope with a\n",
    "change of 10 degrees.  Desired specs:\n",
    "\n",
    "| Description | Value       | Unit          |   Name     |\n",
    "| :---        |    :----:   |       :----:  |       ---: |\n",
    "|The pointing accuracy requirement for small slews is:    | 2.5       | Arcsec RMS   |Aux_Tel_Sm_Slew_Abs_Pointing|\n",
    "The small elevation slew requirement for the Auxiliary Telescope used to define the Aux_Tel_Sm_Slew_Abs_Pointing requirement| 10| Degrees |Aux_Tel_Sm_Elev_Slew|\n",
    "|The small azimuth slew requirement for the Auxiliary Telescope used to define the Aux_Tel_Sm_Slew_Abs_Pointing requirement.  |10       | Degrees     |Aux_Tel_Sm_Az_Slew|\n",
    "|The allotted time to perform a slew and settle by Aux_Tel_Sm_Elev_Slew and Aux_Tel_Sm_Az_Slew by the Auxiliary Telescope and meet the Aux_Tel_Sm_Slew_Abs_Pointing pointing requirement.      | 10|Seconds|Aux_Tel_Smslew_AcqTime|"
   ]
  },
  {
   "cell_type": "code",
   "execution_count": 1,
   "metadata": {},
   "outputs": [
    {
     "name": "stderr",
     "output_type": "stream",
     "text": [
      "/opt/lsst/software/stack/conda/miniconda3-py38_4.9.2/envs/lsst-scipipe-0.4.1/lib/python3.8/site-packages/jose/backends/cryptography_backend.py:23: CryptographyDeprecationWarning: int_from_bytes is deprecated, use int.from_bytes instead\n",
      "  from cryptography.utils import int_from_bytes, int_to_bytes\n"
     ]
    }
   ],
   "source": [
    "import sys, time, os, asyncio\n",
    "\n",
    "from datetime import datetime\n",
    "import numpy as np\n",
    "import matplotlib.pyplot as plt\n",
    "import pandas as pd\n",
    "\n",
    "from lsst.ts import salobj\n",
    "from lsst.ts.observatory.control.auxtel.atcs import ATCS\n",
    "from lsst.ts.observatory.control.auxtel.latiss import LATISS\n",
    "from astropy.time import Time, TimeDelta\n",
    "from astropy.coordinates import AltAz, ICRS, EarthLocation, Angle, FK5\n",
    "import astropy.units as u\n",
    "from lsst_efd_client import EfdClient"
   ]
  },
  {
   "cell_type": "code",
   "execution_count": 2,
   "metadata": {},
   "outputs": [],
   "source": [
    "# Set Cerro Pachon location\n",
    "location = EarthLocation.from_geodetic(lon=-70.747698*u.deg,\n",
    "                                       lat=-30.244728*u.deg,\n",
    "                                       height=2663.0*u.m)"
   ]
  },
  {
   "cell_type": "code",
   "execution_count": 3,
   "metadata": {},
   "outputs": [],
   "source": [
    "# for tab completion to work in current notebook instance\n",
    "%config IPCompleter.use_jedi = False"
   ]
  },
  {
   "cell_type": "code",
   "execution_count": 4,
   "metadata": {},
   "outputs": [],
   "source": [
    "import logging\n",
    "stream_handler = logging.StreamHandler(sys.stdout)\n",
    "logger = logging.getLogger()\n",
    "logger.addHandler(stream_handler)\n",
    "logger.level = logging.DEBUG\n",
    "# Make matplotlib less chatty\n",
    "logging.getLogger(\"matplotlib\").setLevel(logging.WARNING)"
   ]
  },
  {
   "cell_type": "code",
   "execution_count": 5,
   "metadata": {},
   "outputs": [
    {
     "name": "stdout",
     "output_type": "stream",
     "text": [
      "Starting new HTTPS connection (1): roundtable.lsst.codes:443\n",
      "https://roundtable.lsst.codes:443 \"GET /segwarides/ HTTP/1.1\" 200 253\n",
      "Starting new HTTPS connection (1): roundtable.lsst.codes:443\n",
      "https://roundtable.lsst.codes:443 \"GET /segwarides/creds/summit_efd HTTP/1.1\" 200 92\n",
      "Starting new HTTPS connection (1): influxdb-summit-efd.lsst.codes:443\n",
      "https://influxdb-summit-efd.lsst.codes:443 \"GET /health HTTP/1.1\" 200 106\n"
     ]
    }
   ],
   "source": [
    "# Get EFD client and bring in Lupton's unpacking code\n",
    "client = EfdClient('summit_efd')\n",
    "\n",
    "def merge_packed_time_series(packed_dataframe, base_field, stride=1, \n",
    "                             ref_timestamp_col=\"cRIO_timestamp\", internal_time_scale=\"tai\"):\n",
    "    \"\"\"Select fields that are time samples and unpack them into a dataframe.\n",
    "            Parameters\n",
    "            ----------\n",
    "            packedDF : `pandas.DataFrame`\n",
    "                packed data frame containing the desired data\n",
    "            base_field :  `str`\n",
    "                Base field name that will be expanded to query all\n",
    "                vector entries.\n",
    "            stride : `int`, optional\n",
    "                Only use every stride value when unpacking.  Must be a factor\n",
    "                of the number of packed values.\n",
    "                (1 by default)\n",
    "            ref_timestamp_col : `str`, optional\n",
    "                Name of the field name to use to assign timestamps to unpacked\n",
    "                vector fields (default is 'cRIO_timestamp').\n",
    "            internal_time_scale : `str`, optional\n",
    "                Time scale to use when converting times to internal formats\n",
    "                ('tai' by default). Equivalent to EfdClient.internal_scale\n",
    "        Returns\n",
    "            -------\n",
    "            result : `pandas.DataFrame`\n",
    "                A `pandas.DataFrame` containing the results of the query.\n",
    "            \"\"\"\n",
    "    \n",
    "    packed_fields = [k for k in packed_dataframe.keys() if k.startswith(base_field)]\n",
    "    packed_fields = sorted(packed_fields, key=lambda k: int(k[len(base_field):]))  # sort by pack ID\n",
    "    npack = len(packed_fields)\n",
    "    if npack%stride != 0:\n",
    "        raise RuntimeError(f\"Stride must be a factor of the number of packed fields: {stride} v. {npack}\")\n",
    "    packed_len = len(packed_dataframe)\n",
    "    n_used = npack//stride   # number of raw fields being used\n",
    "    output = np.empty(n_used*packed_len)\n",
    "    times = np.empty_like(output, dtype=packed_dataframe[ref_timestamp_col][0])\n",
    "    \n",
    "    if packed_len == 1:\n",
    "        dt = 0\n",
    "    else:\n",
    "        dt = (packed_dataframe[ref_timestamp_col][1] - packed_dataframe[ref_timestamp_col][0])/npack\n",
    "    for i in range(0, npack, stride):\n",
    "        i0 = i//stride\n",
    "        output[i0::n_used] = packed_dataframe[f\"{base_field}{i}\"]\n",
    "        times[i0::n_used] = packed_dataframe[ref_timestamp_col] + i*dt\n",
    "     \n",
    "    timestamps = Time(times, format='unix', scale=internal_time_scale).datetime64\n",
    "    return pd.DataFrame({base_field:output, \"times\":times}, index=timestamps)"
   ]
  },
  {
   "cell_type": "code",
   "execution_count": 6,
   "metadata": {
    "collapsed": true,
    "jupyter": {
     "outputs_hidden": true
    }
   },
   "outputs": [
    {
     "name": "stdout",
     "output_type": "stream",
     "text": [
      "atmcs: Adding all resources.\n",
      "atptg: Adding all resources.\n",
      "ataos: Adding all resources.\n",
      "atpneumatics: Adding all resources.\n",
      "athexapod: Adding all resources.\n",
      "atdome: Adding all resources.\n",
      "atdometrajectory: Adding all resources.\n",
      "atcamera: Adding all resources.\n",
      "atspectrograph: Adding all resources.\n",
      "atheaderservice: Adding all resources.\n",
      "atarchiver: Adding all resources.\n",
      "Read historical data in 0.01 sec\n",
      "Read 1 history items for RemoteEvent(ATDomeTrajectory, 0, algorithm)\n",
      "Read 28 history items for RemoteEvent(ATDomeTrajectory, 0, appliedSettingsMatchStart)\n",
      "Read 1 history items for RemoteEvent(ATDomeTrajectory, 0, authList)\n",
      "Read 100 history items for RemoteEvent(ATDomeTrajectory, 0, heartbeat)\n",
      "Read 1 history items for RemoteEvent(ATDomeTrajectory, 0, logLevel)\n",
      "Read 100 history items for RemoteEvent(ATDomeTrajectory, 0, logMessage)\n",
      "Read 1 history items for RemoteEvent(ATDomeTrajectory, 0, settingVersions)\n",
      "Read 1 history items for RemoteEvent(ATDomeTrajectory, 0, settingsApplied)\n",
      "Read 1 history items for RemoteEvent(ATDomeTrajectory, 0, simulationMode)\n",
      "Read 1 history items for RemoteEvent(ATDomeTrajectory, 0, softwareVersions)\n",
      "Read 100 history items for RemoteEvent(ATDomeTrajectory, 0, summaryState)\n",
      "Read historical data in 0.06 sec\n",
      "Read 1 history items for RemoteEvent(ATArchiver, 0, authList)\n",
      "Read 1 history items for RemoteEvent(ATArchiver, 0, errorCode)\n",
      "Read 100 history items for RemoteEvent(ATArchiver, 0, heartbeat)\n",
      "Read 100 history items for RemoteEvent(ATArchiver, 0, imageInOODS)\n",
      "Read 100 history items for RemoteEvent(ATArchiver, 0, imageRetrievalForArchiving)\n",
      "Read 1 history items for RemoteEvent(ATArchiver, 0, logLevel)\n",
      "Read 1 history items for RemoteEvent(ATArchiver, 0, logMessage)\n",
      "Read 1 history items for RemoteEvent(ATArchiver, 0, simulationMode)\n",
      "Read 1 history items for RemoteEvent(ATArchiver, 0, softwareVersions)\n",
      "Read 13 history items for RemoteEvent(ATArchiver, 0, summaryState)\n",
      "Read historical data in 0.08 sec\n",
      "Read 1 history items for RemoteEvent(ATHeaderService, 0, authList)\n",
      "Read 100 history items for RemoteEvent(ATHeaderService, 0, heartbeat)\n",
      "Read 100 history items for RemoteEvent(ATHeaderService, 0, largeFileObjectAvailable)\n",
      "Read 1 history items for RemoteEvent(ATHeaderService, 0, logLevel)\n",
      "Read 100 history items for RemoteEvent(ATHeaderService, 0, logMessage)\n",
      "Read 1 history items for RemoteEvent(ATHeaderService, 0, simulationMode)\n",
      "Read 1 history items for RemoteEvent(ATHeaderService, 0, softwareVersions)\n",
      "Read 45 history items for RemoteEvent(ATHeaderService, 0, summaryState)\n",
      "Read historical data in 0.12 sec\n",
      "Read 24 history items for RemoteEvent(ATHexapod, 0, appliedSettingsMatchStart)\n",
      "Read 1 history items for RemoteEvent(ATHexapod, 0, authList)\n",
      "Read 100 history items for RemoteEvent(ATHexapod, 0, detailedState)\n",
      "Read 1 history items for RemoteEvent(ATHexapod, 0, errorCode)\n",
      "Read 100 history items for RemoteEvent(ATHexapod, 0, heartbeat)\n",
      "Read 100 history items for RemoteEvent(ATHexapod, 0, inPosition)\n",
      "Read 1 history items for RemoteEvent(ATHexapod, 0, logLevel)\n",
      "Read 100 history items for RemoteEvent(ATHexapod, 0, logMessage)\n",
      "Read 100 history items for RemoteEvent(ATHexapod, 0, positionUpdate)\n",
      "Read 1 history items for RemoteEvent(ATHexapod, 0, readyForCommand)\n",
      "Read 1 history items for RemoteEvent(ATHexapod, 0, settingVersions)\n",
      "Read 1 history items for RemoteEvent(ATHexapod, 0, settingsApplied)\n",
      "Read 1 history items for RemoteEvent(ATHexapod, 0, settingsAppliedPivot)\n",
      "Read 1 history items for RemoteEvent(ATHexapod, 0, settingsAppliedPositionLimits)\n",
      "Read 1 history items for RemoteEvent(ATHexapod, 0, settingsAppliedTcp)\n",
      "Read 1 history items for RemoteEvent(ATHexapod, 0, settingsAppliedVelocities)\n",
      "Read 1 history items for RemoteEvent(ATHexapod, 0, simulationMode)\n",
      "Read 1 history items for RemoteEvent(ATHexapod, 0, softwareVersions)\n",
      "Read 96 history items for RemoteEvent(ATHexapod, 0, summaryState)\n",
      "Read historical data in 0.17 sec\n",
      "Read 31 history items for RemoteEvent(ATPneumatics, 0, appliedSettingsMatchStart)\n",
      "Read 44 history items for RemoteEvent(ATPneumatics, 0, cellVentsState)\n",
      "Read 1 history items for RemoteEvent(ATPneumatics, 0, eStop)\n",
      "Read 100 history items for RemoteEvent(ATPneumatics, 0, heartbeat)\n",
      "Read 40 history items for RemoteEvent(ATPneumatics, 0, instrumentState)\n",
      "Read 100 history items for RemoteEvent(ATPneumatics, 0, m1CoverLimitSwitches)\n",
      "Read 82 history items for RemoteEvent(ATPneumatics, 0, m1CoverState)\n",
      "Read 100 history items for RemoteEvent(ATPneumatics, 0, m1SetPressure)\n",
      "Read 63 history items for RemoteEvent(ATPneumatics, 0, m1State)\n",
      "Read 6 history items for RemoteEvent(ATPneumatics, 0, m1VentsLimitSwitches)\n",
      "Read 13 history items for RemoteEvent(ATPneumatics, 0, m1VentsPosition)\n",
      "Read 62 history items for RemoteEvent(ATPneumatics, 0, m2State)\n",
      "Read 40 history items for RemoteEvent(ATPneumatics, 0, mainValveState)\n",
      "Read 1 history items for RemoteEvent(ATPneumatics, 0, powerStatus)\n",
      "Read 31 history items for RemoteEvent(ATPneumatics, 0, settingVersions)\n",
      "Read 100 history items for RemoteEvent(ATPneumatics, 0, summaryState)\n",
      "Read historical data in 0.22 sec\n",
      "Read 100 history items for RemoteEvent(ATDome, 0, allAxesInPosition)\n",
      "Read 33 history items for RemoteEvent(ATDome, 0, appliedSettingsMatchStart)\n",
      "Read 1 history items for RemoteEvent(ATDome, 0, authList)\n",
      "Read 100 history items for RemoteEvent(ATDome, 0, azimuthCommandedState)\n",
      "Read 100 history items for RemoteEvent(ATDome, 0, azimuthInPosition)\n",
      "Read 100 history items for RemoteEvent(ATDome, 0, azimuthState)\n",
      "Read 100 history items for RemoteEvent(ATDome, 0, doorEncoderExtremes)\n",
      "Read 27 history items for RemoteEvent(ATDome, 0, dropoutDoorCommandedState)\n",
      "Read 11 history items for RemoteEvent(ATDome, 0, dropoutDoorState)\n",
      "Read 1 history items for RemoteEvent(ATDome, 0, emergencyStop)\n",
      "Read 100 history items for RemoteEvent(ATDome, 0, heartbeat)\n",
      "Read 100 history items for RemoteEvent(ATDome, 0, lastAzimuthGoTo)\n",
      "Read 1 history items for RemoteEvent(ATDome, 0, logLevel)\n",
      "Read 100 history items for RemoteEvent(ATDome, 0, logMessage)\n",
      "Read 27 history items for RemoteEvent(ATDome, 0, mainDoorCommandedState)\n",
      "Read 13 history items for RemoteEvent(ATDome, 0, mainDoorState)\n",
      "Read 56 history items for RemoteEvent(ATDome, 0, scbLink)\n",
      "Read 1 history items for RemoteEvent(ATDome, 0, settingVersions)\n",
      "Read 1 history items for RemoteEvent(ATDome, 0, settingsApplied)\n",
      "Read 54 history items for RemoteEvent(ATDome, 0, settingsAppliedDomeController)\n",
      "Read 33 history items for RemoteEvent(ATDome, 0, settingsAppliedDomeTcp)\n",
      "Read 18 history items for RemoteEvent(ATDome, 0, shutterInPosition)\n",
      "Read 1 history items for RemoteEvent(ATDome, 0, simulationMode)\n",
      "Read 1 history items for RemoteEvent(ATDome, 0, softwareVersions)\n",
      "Read 79 history items for RemoteEvent(ATDome, 0, summaryState)\n",
      "Read historical data in 0.27 sec\n",
      "Read 26 history items for RemoteEvent(ATSpectrograph, 0, appliedSettingsMatchStart)\n",
      "Read 1 history items for RemoteEvent(ATSpectrograph, 0, authList)\n",
      "Read 100 history items for RemoteEvent(ATSpectrograph, 0, disperserInPosition)\n",
      "Read 2 history items for RemoteEvent(ATSpectrograph, 0, errorCode)\n",
      "Read 100 history items for RemoteEvent(ATSpectrograph, 0, filterInPosition)\n",
      "Read 100 history items for RemoteEvent(ATSpectrograph, 0, fwState)\n",
      "Read 100 history items for RemoteEvent(ATSpectrograph, 0, gwState)\n",
      "Read 100 history items for RemoteEvent(ATSpectrograph, 0, heartbeat)\n",
      "Read 1 history items for RemoteEvent(ATSpectrograph, 0, logLevel)\n",
      "Read 20 history items for RemoteEvent(ATSpectrograph, 0, logMessage)\n",
      "Read 100 history items for RemoteEvent(ATSpectrograph, 0, reportedDisperserPosition)\n",
      "Read 100 history items for RemoteEvent(ATSpectrograph, 0, reportedFilterPosition)\n",
      "Read 2 history items for RemoteEvent(ATSpectrograph, 0, reportedLinearStagePosition)\n",
      "Read 5 history items for RemoteEvent(ATSpectrograph, 0, settingVersions)\n",
      "Read 7 history items for RemoteEvent(ATSpectrograph, 0, settingsApplied)\n",
      "Read 9 history items for RemoteEvent(ATSpectrograph, 0, settingsAppliedValues)\n",
      "Read 1 history items for RemoteEvent(ATSpectrograph, 0, simulationMode)\n",
      "Read 1 history items for RemoteEvent(ATSpectrograph, 0, softwareVersions)\n",
      "Read 100 history items for RemoteEvent(ATSpectrograph, 0, summaryState)\n",
      "Read historical data in 0.33 sec\n",
      "Read 8 history items for RemoteEvent(ATAOS, 0, appliedSettingsMatchStart)\n",
      "Read 100 history items for RemoteEvent(ATAOS, 0, atspectrographCorrectionCompleted)\n",
      "Read 100 history items for RemoteEvent(ATAOS, 0, atspectrographCorrectionStarted)\n",
      "Read 1 history items for RemoteEvent(ATAOS, 0, authList)\n",
      "Read 9 history items for RemoteEvent(ATAOS, 0, correctionEnabled)\n",
      "Read 100 history items for RemoteEvent(ATAOS, 0, correctionOffsets)\n",
      "Read 100 history items for RemoteEvent(ATAOS, 0, detailedState)\n",
      "Read 100 history items for RemoteEvent(ATAOS, 0, focusOffsetSummary)\n",
      "Read 100 history items for RemoteEvent(ATAOS, 0, heartbeat)\n",
      "Read 100 history items for RemoteEvent(ATAOS, 0, hexapodCorrectionCompleted)\n",
      "Read 100 history items for RemoteEvent(ATAOS, 0, hexapodCorrectionStarted)\n",
      "Read 3 history items for RemoteEvent(ATAOS, 0, logLevel)\n",
      "Read 100 history items for RemoteEvent(ATAOS, 0, logMessage)\n",
      "Read 100 history items for RemoteEvent(ATAOS, 0, m1CorrectionCompleted)\n",
      "Read 100 history items for RemoteEvent(ATAOS, 0, m1CorrectionStarted)\n",
      "Read 100 history items for RemoteEvent(ATAOS, 0, pointingOffsetSummary)\n",
      "Read 3 history items for RemoteEvent(ATAOS, 0, settingVersions)\n",
      "Read 4 history items for RemoteEvent(ATAOS, 0, settingsApplied)\n",
      "Read 1 history items for RemoteEvent(ATAOS, 0, simulationMode)\n",
      "Read 1 history items for RemoteEvent(ATAOS, 0, softwareVersions)\n",
      "Read 33 history items for RemoteEvent(ATAOS, 0, summaryState)\n",
      "Read historical data in 0.39 sec\n",
      "Read 100 history items for RemoteEvent(ATPtg, 0, airmassWarning)\n",
      "Read 1 history items for RemoteEvent(ATPtg, 0, azWrapWarning)\n",
      "Read 31 history items for RemoteEvent(ATPtg, 0, currentDebugLevel)\n",
      "Read 100 history items for RemoteEvent(ATPtg, 0, currentTarget)\n",
      "Read 100 history items for RemoteEvent(ATPtg, 0, detailedState)\n",
      "Read 7 history items for RemoteEvent(ATPtg, 0, elLimitWarning)\n",
      "Read 48 history items for RemoteEvent(ATPtg, 0, errorCode)\n",
      "Read 1 history items for RemoteEvent(ATPtg, 0, focusNameInconsistentWarning)\n",
      "Read 35 history items for RemoteEvent(ATPtg, 0, focusNameSelected)\n",
      "Read 100 history items for RemoteEvent(ATPtg, 0, heartbeat)\n",
      "Read 61 history items for RemoteEvent(ATPtg, 0, iers)\n",
      "Read 3 history items for RemoteEvent(ATPtg, 0, iersOutOfDate)\n",
      "Read 1 history items for RemoteEvent(ATPtg, 0, moonProximityWarning)\n",
      "Read 2 history items for RemoteEvent(ATPtg, 0, mountDataWarning)\n",
      "Read 7 history items for RemoteEvent(ATPtg, 0, objectSetWarning)\n",
      "Read 31 history items for RemoteEvent(ATPtg, 0, pointingModel)\n",
      "Read 6 history items for RemoteEvent(ATPtg, 0, pointing_file)\n",
      "Read 1 history items for RemoteEvent(ATPtg, 0, ptgAzCurrentWrap)\n",
      "Read 1 history items for RemoteEvent(ATPtg, 0, ptgRotCurrentWrap)\n",
      "Read 1 history items for RemoteEvent(ATPtg, 0, rotWrapWarning)\n",
      "Read 100 history items for RemoteEvent(ATPtg, 0, summaryState)\n",
      "Read 1 history items for RemoteEvent(ATPtg, 0, sunProximityWarning)\n",
      "Read 100 history items for RemoteEvent(ATPtg, 0, timesOfLimits)\n",
      "Read 100 history items for RemoteEvent(ATPtg, 0, trackPosting)\n",
      "Read 30 history items for RemoteEvent(ATPtg, 0, wavelength)\n",
      "Read 100 history items for RemoteEvent(ATPtg, 0, weatherDataApplied)\n",
      "Read 100 history items for RemoteEvent(ATPtg, 0, weatherDataInvalid)\n",
      "Read historical data in 0.47 sec\n",
      "Read 100 history items for RemoteEvent(ATMCS, 0, allAxesInPosition)\n",
      "Read 64 history items for RemoteEvent(ATMCS, 0, appliedSettingsMatchStart)\n",
      "Read 100 history items for RemoteEvent(ATMCS, 0, atMountState)\n",
      "Read 100 history items for RemoteEvent(ATMCS, 0, azimuthBrake1)\n",
      "Read 100 history items for RemoteEvent(ATMCS, 0, azimuthBrake2)\n",
      "Read 100 history items for RemoteEvent(ATMCS, 0, azimuthDrive1Status)\n",
      "Read 100 history items for RemoteEvent(ATMCS, 0, azimuthDrive2Status)\n",
      "Read 100 history items for RemoteEvent(ATMCS, 0, azimuthInPosition)\n",
      "Read 6 history items for RemoteEvent(ATMCS, 0, azimuthToppleBlockCCW)\n",
      "Read 4 history items for RemoteEvent(ATMCS, 0, azimuthToppleBlockCW)\n",
      "Read 100 history items for RemoteEvent(ATMCS, 0, elevationBrake)\n",
      "Read 100 history items for RemoteEvent(ATMCS, 0, elevationDriveStatus)\n",
      "Read 100 history items for RemoteEvent(ATMCS, 0, elevationInPosition)\n",
      "Read 10 history items for RemoteEvent(ATMCS, 0, elevationLimitSwitchLower)\n",
      "Read 4 history items for RemoteEvent(ATMCS, 0, elevationLimitSwitchUpper)\n",
      "Read 22 history items for RemoteEvent(ATMCS, 0, errorCode)\n",
      "Read 100 history items for RemoteEvent(ATMCS, 0, heartbeat)\n",
      "Read 100 history items for RemoteEvent(ATMCS, 0, m3State)\n",
      "Read 100 history items for RemoteEvent(ATMCS, 0, nasmyth1Brake)\n",
      "Read 100 history items for RemoteEvent(ATMCS, 0, nasmyth1DriveStatus)\n",
      "Read 87 history items for RemoteEvent(ATMCS, 0, nasmyth1RotatorInPosition)\n",
      "Read 100 history items for RemoteEvent(ATMCS, 0, nasmyth2Brake)\n",
      "Read 100 history items for RemoteEvent(ATMCS, 0, nasmyth2DriveStatus)\n",
      "Read 100 history items for RemoteEvent(ATMCS, 0, nasmyth2RotatorInPosition)\n",
      "Read 64 history items for RemoteEvent(ATMCS, 0, positionLimits)\n",
      "Read 64 history items for RemoteEvent(ATMCS, 0, settingVersions)\n",
      "Read 100 history items for RemoteEvent(ATMCS, 0, summaryState)\n",
      "Read 100 history items for RemoteEvent(ATMCS, 0, target)\n",
      "Read historical data in 0.55 sec\n",
      "Read 4 history items for RemoteEvent(ATCamera, 0, appliedSettingsMatchStart)\n",
      "Read 100 history items for RemoteEvent(ATCamera, 0, ccsCommandState)\n",
      "Read 100 history items for RemoteEvent(ATCamera, 0, endOfImageTelemetry)\n",
      "Read 100 history items for RemoteEvent(ATCamera, 0, endReadout)\n",
      "Read 5 history items for RemoteEvent(ATCamera, 0, focalPlaneHardwareIdSettingsApplied)\n",
      "Read 5 history items for RemoteEvent(ATCamera, 0, focalPlaneSummaryInfo)\n",
      "Read 100 history items for RemoteEvent(ATCamera, 0, heartbeat)\n",
      "Read 100 history items for RemoteEvent(ATCamera, 0, imageReadinessDetailedState)\n",
      "Read 100 history items for RemoteEvent(ATCamera, 0, imageReadoutParameters)\n",
      "Read 100 history items for RemoteEvent(ATCamera, 0, raftsDetailedState)\n",
      "Read 4 history items for RemoteEvent(ATCamera, 0, settingVersions)\n",
      "Read 4 history items for RemoteEvent(ATCamera, 0, softwareVersions)\n",
      "Read 100 history items for RemoteEvent(ATCamera, 0, startIntegration)\n",
      "Read 100 history items for RemoteEvent(ATCamera, 0, startReadout)\n",
      "Read 16 history items for RemoteEvent(ATCamera, 0, summaryState)\n",
      "timeAndDate DDS read queue is full (100 elements); data may be lost\n"
     ]
    },
    {
     "data": {
      "text/plain": [
       "[[None, None, None, None, None, None, None], [None, None, None, None]]"
      ]
     },
     "execution_count": 6,
     "metadata": {},
     "output_type": "execute_result"
    },
    {
     "name": "stdout",
     "output_type": "stream",
     "text": [
      "mountStatus DDS read queue is full (100 elements); data may be lost\n",
      "guidingAndOffsets DDS read queue is full (100 elements); data may be lost\n",
      "currentTargetStatus DDS read queue is full (100 elements); data may be lost\n"
     ]
    }
   ],
   "source": [
    "#get classes and start them\n",
    "domain = salobj.Domain()\n",
    "await asyncio.sleep(10) # This can be removed in the future...\n",
    "atcs = ATCS(domain)\n",
    "latiss = LATISS(domain)\n",
    "await asyncio.gather(atcs.start_task, latiss.start_task)"
   ]
  },
  {
   "cell_type": "code",
   "execution_count": 51,
   "metadata": {
    "collapsed": true,
    "jupyter": {
     "outputs_hidden": true
    }
   },
   "outputs": [
    {
     "name": "stdout",
     "output_type": "stream",
     "text": [
      "Enabling all components\n",
      "Gathering settings.\n",
      "Couldn't get settingVersions event. Using empty settings.\n",
      "Complete settings for atmcs.\n",
      "Complete settings for atptg.\n",
      "Complete settings for ataos.\n",
      "Complete settings for atpneumatics.\n",
      "Complete settings for athexapod.\n",
      "Complete settings for atdome.\n",
      "Complete settings for atdometrajectory.\n",
      "Settings versions: {'atmcs': '                                                                                                                               ', 'atptg': '', 'ataos': 'current', 'atpneumatics': '                                                                                                                               ', 'athexapod': 'summit', 'atdome': 'test', 'atdometrajectory': ''}\n",
      "[atmcs]::[<State.STANDBY: 5>, <State.DISABLED: 1>, <State.ENABLED: 2>]\n",
      "[atptg]::[<State.STANDBY: 5>, <State.DISABLED: 1>, <State.ENABLED: 2>]\n",
      "[ataos]::[<State.STANDBY: 5>, <State.DISABLED: 1>, <State.ENABLED: 2>]\n",
      "[atpneumatics]::[<State.STANDBY: 5>, <State.DISABLED: 1>, <State.ENABLED: 2>]\n",
      "[athexapod]::[<State.STANDBY: 5>, <State.DISABLED: 1>, <State.ENABLED: 2>]\n",
      "[atdome]::[<State.STANDBY: 5>, <State.DISABLED: 1>, <State.ENABLED: 2>]\n",
      "[atdometrajectory]::[<State.STANDBY: 5>, <State.DISABLED: 1>, <State.ENABLED: 2>]\n",
      "All components in <State.ENABLED: 2>.\n",
      "Enabling all components\n",
      "Gathering settings.\n",
      "Couldn't get settingVersions event. Using empty settings.\n",
      "Couldn't get settingVersions event. Using empty settings.\n",
      "Complete settings for atcamera.\n",
      "Complete settings for atspectrograph.\n",
      "Complete settings for atheaderservice.\n",
      "Complete settings for atarchiver.\n",
      "Settings versions: {'atcamera': '', 'atspectrograph': 'current', 'atheaderservice': '', 'atarchiver': ''}\n",
      "[atcamera]::[<State.ENABLED: 2>]\n",
      "[atspectrograph]::[<State.ENABLED: 2>]\n",
      "[atheaderservice]::[<State.ENABLED: 2>]\n",
      "[atarchiver]::[<State.ENABLED: 2>]\n",
      "All components in <State.ENABLED: 2>.\n"
     ]
    }
   ],
   "source": [
    "# enable components if required\n",
    "await atcs.enable()\n",
    "await latiss.enable()"
   ]
  },
  {
   "cell_type": "code",
   "execution_count": null,
   "metadata": {},
   "outputs": [],
   "source": [
    "# All components enabled 1:02 PM"
   ]
  },
  {
   "cell_type": "code",
   "execution_count": 8,
   "metadata": {},
   "outputs": [],
   "source": [
    "# take event checking out the slew commands to test telescope only\n",
    "# otherwise it'll wait for the dome before completing slew command\n",
    "atcs.check.atdome = False\n",
    "atcs.check.atdometrajectory = False"
   ]
  },
  {
   "cell_type": "code",
   "execution_count": 9,
   "metadata": {},
   "outputs": [],
   "source": [
    "# turn on ATAOS corrections just to make sure the mirror is under air\n",
    "tmp = await atcs.rem.ataos.cmd_enableCorrection.set_start(m1=True, hexapod=True, atspectrograph=False)"
   ]
  },
  {
   "cell_type": "code",
   "execution_count": 10,
   "metadata": {},
   "outputs": [
    {
     "data": {
      "text/plain": [
       "<ddsutil.ATPtg_ackcmd_8110c0a5 at 0x7fab0bdf5520>"
      ]
     },
     "execution_count": 10,
     "metadata": {},
     "output_type": "execute_result"
    }
   ],
   "source": [
    "# Ensure we're using Nasmyth 2\n",
    "await atcs.rem.atptg.cmd_focusName.set_start(focus=3)"
   ]
  },
  {
   "cell_type": "code",
   "execution_count": 38,
   "metadata": {
    "collapsed": true,
    "jupyter": {
     "outputs_hidden": true
    }
   },
   "outputs": [
    {
     "name": "stdout",
     "output_type": "stream",
     "text": [
      "Sending command\n",
      "Stop tracking.\n",
      "Unknown tracking state: 10\n",
      "Scheduling check coroutines\n",
      "process as completed...\n",
      "atmcs: <State.ENABLED: 2>\n",
      "atptg: <State.ENABLED: 2>\n",
      "ataos: <State.ENABLED: 2>\n",
      "atpneumatics: <State.ENABLED: 2>\n",
      "athexapod: <State.ENABLED: 2>\n",
      "[Telescope] delta Alt = -000.006 deg; delta Az= +000.001 deg; delta N1 = +000.000 deg; delta N2 = -035.349 deg \n",
      "[Telescope] delta Alt = +000.000 deg; delta Az= +000.001 deg; delta N1 = +000.000 deg; delta N2 = -029.549 deg \n",
      "[Telescope] delta Alt = +000.000 deg; delta Az= +000.000 deg; delta N1 = +000.000 deg; delta N2 = -023.600 deg \n",
      "[Telescope] delta Alt = -000.000 deg; delta Az= -000.000 deg; delta N1 = +000.000 deg; delta N2 = -017.809 deg \n",
      "[Telescope] delta Alt = -000.000 deg; delta Az= -000.000 deg; delta N1 = +000.000 deg; delta N2 = -014.142 deg \n",
      "[Telescope] delta Alt = -000.000 deg; delta Az= -000.000 deg; delta N1 = +000.000 deg; delta N2 = -010.745 deg \n",
      "[Telescope] delta Alt = -000.000 deg; delta Az= -000.000 deg; delta N1 = +000.000 deg; delta N2 = -007.728 deg \n",
      "[Telescope] delta Alt = -000.000 deg; delta Az= -000.000 deg; delta N1 = +000.000 deg; delta N2 = -004.053 deg \n",
      "[Telescope] delta Alt = +000.000 deg; delta Az= -000.000 deg; delta N1 = +000.000 deg; delta N2 = -001.591 deg \n",
      "[Telescope] delta Alt = +000.000 deg; delta Az= -000.000 deg; delta N1 = +000.000 deg; delta N2 = -000.337 deg \n",
      "[Telescope] delta Alt = -000.000 deg; delta Az= -000.000 deg; delta N1 = -000.000 deg; delta N2 = -000.046 deg \n",
      "Got True\n",
      "Waiting for telescope to settle.\n",
      "[Telescope] delta Alt = +000.000 deg; delta Az= -000.000 deg; delta N1 = -000.000 deg; delta N2 = +000.000 deg \n",
      "Axes in position.\n"
     ]
    }
   ],
   "source": [
    "# point telescope to desired starting position\n",
    "start_az=0\n",
    "start_el=70\n",
    "start_rot_pa=0\n",
    "await atcs.point_azel(start_az, start_el, rot_tel=start_rot_pa, wait_dome=False)"
   ]
  },
  {
   "cell_type": "code",
   "execution_count": 39,
   "metadata": {},
   "outputs": [
    {
     "data": {
      "text/plain": [
       "'\\n# For large slew and settle\\nd_az= 90 # degrees\\nd_el = 60 # degrees\\nd_rot= 0 # degrees\\n\\n# What we actually care about for the survey! So measure this too\\nd_az= 3.5 # degrees\\nd_el = 3.5 # degrees\\nd_rot= 0 # degrees\\n'"
      ]
     },
     "execution_count": 39,
     "metadata": {},
     "output_type": "execute_result"
    }
   ],
   "source": [
    "#declare offset sizes for tests\n",
    "\n",
    "# For small slew and settle\n",
    "d_az= 10 # degrees\n",
    "d_el = 10 # degrees\n",
    "d_rot= 0 # degrees\n",
    "\n",
    "\"\"\"\n",
    "# For large slew and settle\n",
    "d_az= 90 # degrees\n",
    "d_el = 60 # degrees\n",
    "d_rot= 0 # degrees\n",
    "\n",
    "# What we actually care about for the survey! So measure this too\n",
    "d_az= 3.5 # degrees\n",
    "d_el = 3.5 # degrees\n",
    "d_rot= 0 # degrees\n",
    "\"\"\""
   ]
  },
  {
   "cell_type": "code",
   "execution_count": 40,
   "metadata": {
    "collapsed": true,
    "jupyter": {
     "outputs_hidden": true
    }
   },
   "outputs": [
    {
     "name": "stdout",
     "output_type": "stream",
     "text": [
      "orig az 0.0 deg and el 70.0 deg\n",
      "Current Position is: \n",
      " <AltAz Coordinate (obstime=59278.7058903381, location=(1819093.56876225, -5208411.6827961, -3195180.61110659) m, pressure=0.0 hPa, temperature=0.0 deg_C, relative_humidity=0.0, obswl=1.0 micron): (az, alt) in deg\n",
      "    (0., 70.)>\n",
      "Current Position is: \n",
      " <ICRS Coordinate: (ra, dec) in deg\n",
      "    (346.76145318, -10.35528365)>\n",
      "target az 10.0 deg and el 80.0 deg\n",
      "Target Position is: \n",
      " <AltAz Coordinate (obstime=59278.7058903381, location=(1819093.56876225, -5208411.6827961, -3195180.61110659) m, pressure=0.0 hPa, temperature=0.0 deg_C, relative_humidity=0.0, obswl=1.0 micron): (az, alt) in deg\n",
      "    (10., 80.)>\n",
      "Target Position is: \n",
      " <ICRS Coordinate: (ra, dec) in deg\n",
      "    (348.60129698, -20.49533785)>\n"
     ]
    }
   ],
   "source": [
    "# get RA/DEC of current telescope Alt/Az position\n",
    "az = Angle(start_az, unit=u.deg)\n",
    "el = Angle(start_el, unit=u.deg)\n",
    "print(f'orig az {az} and el {el}')\n",
    "time_data = await atcs.rem.atptg.tel_timeAndDate.next(flush=True, timeout=2)\n",
    "# This should be TAI and not UTC... so will be 37s off system clock seconds ??\n",
    "curr_time_atptg = Time(time_data.mjd, format=\"mjd\")\n",
    "coord_frame_AltAz = AltAz(location=location, obstime=curr_time_atptg)\n",
    "coord_frame_radec = ICRS()\n",
    "coord_azel = AltAz(az=az, alt=el, location=location, obstime=curr_time_atptg)\n",
    "ra_dec = coord_azel.transform_to(coord_frame_radec)\n",
    "print('Current Position is: \\n {}'.format(coord_azel))\n",
    "print('Current Position is: \\n {}'.format(ra_dec))\n",
    "\n",
    "# get RA/DEC of target position\n",
    "az = Angle(start_az+d_az, unit=u.deg)\n",
    "el = Angle(start_el+d_el, unit=u.deg)\n",
    "print(f'target az {az} and el {el}')\n",
    "coord_azel_target = AltAz(az=az, alt=el, location=location, obstime=curr_time_atptg)\n",
    "ra_dec_target = coord_azel_target.transform_to(coord_frame_radec)\n",
    "print('Target Position is: \\n {}'.format(coord_azel_target))\n",
    "print('Target Position is: \\n {}'.format(ra_dec_target))"
   ]
  },
  {
   "cell_type": "code",
   "execution_count": 27,
   "metadata": {
    "collapsed": true,
    "jupyter": {
     "outputs_hidden": true
    }
   },
   "outputs": [
    {
     "name": "stdout",
     "output_type": "stream",
     "text": [
      "Auto sky angle: 0.0 deg\n",
      "Sending command\n",
      "Scheduling check coroutines\n",
      "process as completed...\n",
      "atmcs: <State.ENABLED: 2>\n",
      "atptg: <State.ENABLED: 2>\n",
      "ataos: <State.ENABLED: 2>\n",
      "atpneumatics: <State.ENABLED: 2>\n",
      "athexapod: <State.ENABLED: 2>\n",
      "Got False\n",
      "Telescope not in position\n",
      "[Telescope] delta Alt = +000.094 deg; delta Az= +000.275 deg; delta N1 = -000.000 deg; delta N2 = +069.478 deg \n",
      "[Telescope] delta Alt = -000.000 deg; delta Az= +000.002 deg; delta N1 = -000.000 deg; delta N2 = +066.315 deg \n",
      "[Telescope] delta Alt = -000.000 deg; delta Az= +000.007 deg; delta N1 = -000.000 deg; delta N2 = +062.334 deg \n",
      "[Telescope] delta Alt = -000.000 deg; delta Az= +000.006 deg; delta N1 = -000.000 deg; delta N2 = +058.356 deg \n",
      "[Telescope] delta Alt = +000.000 deg; delta Az= +000.006 deg; delta N1 = -000.000 deg; delta N2 = +054.382 deg \n",
      "[Telescope] delta Alt = +000.000 deg; delta Az= +000.007 deg; delta N1 = -000.000 deg; delta N2 = +048.399 deg \n",
      "[Telescope] delta Alt = -000.000 deg; delta Az= +000.007 deg; delta N1 = -000.000 deg; delta N2 = +044.433 deg \n",
      "[Telescope] delta Alt = -000.000 deg; delta Az= +000.007 deg; delta N1 = -000.000 deg; delta N2 = +038.455 deg \n",
      "[Telescope] delta Alt = -000.000 deg; delta Az= +000.007 deg; delta N1 = +000.000 deg; delta N2 = +032.484 deg \n",
      "[Telescope] delta Alt = +000.000 deg; delta Az= +000.006 deg; delta N1 = -000.000 deg; delta N2 = +026.518 deg \n",
      "[Telescope] delta Alt = +000.000 deg; delta Az= +000.006 deg; delta N1 = -000.000 deg; delta N2 = +022.564 deg \n",
      "[Telescope] delta Alt = +000.000 deg; delta Az= +000.006 deg; delta N1 = -000.000 deg; delta N2 = +016.798 deg \n",
      "[Telescope] delta Alt = +000.000 deg; delta Az= +000.007 deg; delta N1 = +000.000 deg; delta N2 = +011.521 deg \n",
      "[Telescope] delta Alt = +000.000 deg; delta Az= +000.007 deg; delta N1 = -000.000 deg; delta N2 = +007.022 deg \n",
      "[Telescope] delta Alt = +000.000 deg; delta Az= +000.006 deg; delta N1 = +000.000 deg; delta N2 = +003.576 deg \n",
      "[Telescope] delta Alt = -000.000 deg; delta Az= +000.006 deg; delta N1 = +000.000 deg; delta N2 = +001.328 deg \n",
      "[Telescope] delta Alt = -000.000 deg; delta Az= +000.007 deg; delta N1 = -000.000 deg; delta N2 = +000.241 deg \n",
      "[Telescope] delta Alt = -000.000 deg; delta Az= +000.007 deg; delta N1 = -000.000 deg; delta N2 = -000.011 deg \n",
      "Got True\n",
      "Telescope in position.\n",
      "track for 2s\n",
      "Generating group_id\n",
      "ENGTEST 0001 - 0001\n"
     ]
    },
    {
     "data": {
      "text/plain": [
       "array([2021030500105])"
      ]
     },
     "execution_count": 27,
     "metadata": {},
     "output_type": "execute_result"
    }
   ],
   "source": [
    "# Slew to starting position and take an image to check headers\n",
    "await atcs.slew_icrs(ra=str(ra_dec.ra), dec=str(ra_dec.dec), rot=0.0,\n",
    "                      slew_timeout=240., stop_before_slew=False, wait_settle=False)\n",
    "\n",
    "\n",
    "print('track for 2s')\n",
    "await asyncio.sleep(2)\n",
    "# take a quick image to get some header data\n",
    "await latiss.take_engtest(exptime=2)\n"
   ]
  },
  {
   "cell_type": "code",
   "execution_count": 41,
   "metadata": {
    "collapsed": true,
    "jupyter": {
     "outputs_hidden": true
    }
   },
   "outputs": [
    {
     "name": "stdout",
     "output_type": "stream",
     "text": [
      "Auto sky angle: 0.0 deg\n",
      "Sending command\n",
      "Scheduling check coroutines\n",
      "process as completed...\n",
      "atmcs: <State.ENABLED: 2>\n",
      "atptg: <State.ENABLED: 2>\n",
      "ataos: <State.ENABLED: 2>\n",
      "atpneumatics: <State.ENABLED: 2>\n",
      "athexapod: <State.ENABLED: 2>\n",
      "Got False\n",
      "Telescope not in position\n",
      "[Telescope] delta Alt = +000.093 deg; delta Az= +000.331 deg; delta N1 = -000.000 deg; delta N2 = +069.202 deg \n",
      "[Telescope] delta Alt = -000.000 deg; delta Az= +000.004 deg; delta N1 = -000.000 deg; delta N2 = +065.698 deg \n",
      "[Telescope] delta Alt = -000.000 deg; delta Az= +000.007 deg; delta N1 = -000.000 deg; delta N2 = +061.725 deg \n",
      "[Telescope] delta Alt = +000.000 deg; delta Az= +000.007 deg; delta N1 = -000.000 deg; delta N2 = +057.737 deg \n",
      "[Telescope] delta Alt = +000.000 deg; delta Az= +000.006 deg; delta N1 = -000.000 deg; delta N2 = +051.761 deg \n",
      "[Telescope] delta Alt = +000.000 deg; delta Az= +000.006 deg; delta N1 = +000.000 deg; delta N2 = +045.794 deg \n",
      "[Telescope] delta Alt = -000.000 deg; delta Az= +000.006 deg; delta N1 = -000.000 deg; delta N2 = +039.826 deg \n",
      "[Telescope] delta Alt = -000.000 deg; delta Az= +000.007 deg; delta N1 = -000.000 deg; delta N2 = +033.861 deg \n",
      "[Telescope] delta Alt = +000.000 deg; delta Az= +000.007 deg; delta N1 = +000.000 deg; delta N2 = +027.883 deg \n",
      "[Telescope] delta Alt = +000.000 deg; delta Az= +000.008 deg; delta N1 = -000.000 deg; delta N2 = +021.949 deg \n",
      "[Telescope] delta Alt = +000.000 deg; delta Az= +000.006 deg; delta N1 = +000.000 deg; delta N2 = +016.239 deg \n",
      "[Telescope] delta Alt = +000.000 deg; delta Az= +000.006 deg; delta N1 = -000.000 deg; delta N2 = +011.022 deg \n",
      "[Telescope] delta Alt = +000.000 deg; delta Az= +000.007 deg; delta N1 = -000.000 deg; delta N2 = +006.618 deg \n",
      "[Telescope] delta Alt = -000.000 deg; delta Az= +000.007 deg; delta N1 = -000.000 deg; delta N2 = +003.295 deg \n",
      "[Telescope] delta Alt = -000.000 deg; delta Az= -000.004 deg; delta N1 = -000.000 deg; delta N2 = +002.472 deg \n",
      "[Telescope] delta Alt = -000.000 deg; delta Az= +000.006 deg; delta N1 = -000.000 deg; delta N2 = +001.183 deg \n",
      "[Telescope] delta Alt = -000.000 deg; delta Az= +000.007 deg; delta N1 = -000.000 deg; delta N2 = +000.184 deg \n",
      "[Telescope] delta Alt = -000.000 deg; delta Az= +000.006 deg; delta N1 = -000.000 deg; delta N2 = -000.014 deg \n",
      "Got True\n",
      "Telescope in position.\n",
      "track for 2s\n",
      "Generating group_id\n",
      "ENGTEST 0001 - 0001\n",
      "Starting to Slew to target\n",
      "Auto sky angle: 0.0 deg\n",
      "Sending command\n",
      "Scheduling check coroutines\n",
      "process as completed...\n",
      "atmcs: <State.ENABLED: 2>\n",
      "atptg: <State.ENABLED: 2>\n",
      "ataos: <State.ENABLED: 2>\n",
      "atpneumatics: <State.ENABLED: 2>\n",
      "athexapod: <State.ENABLED: 2>\n",
      "Got False\n",
      "Telescope not in position\n",
      "[Telescope] delta Alt = +010.007 deg; delta Az= +009.787 deg; delta N1 = +000.000 deg; delta N2 = +000.725 deg \n",
      "[Telescope] delta Alt = +007.867 deg; delta Az= +007.209 deg; delta N1 = +000.000 deg; delta N2 = -000.029 deg \n",
      "[Telescope] delta Alt = +002.273 deg; delta Az= +001.617 deg; delta N1 = +000.000 deg; delta N2 = -000.009 deg \n",
      "[Telescope] delta Alt = +000.188 deg; delta Az= +000.059 deg; delta N1 = -000.000 deg; delta N2 = -000.030 deg \n",
      "Got True\n",
      "Telescope in position.\n",
      "Time to slew is 10.358276000001965 seconds\n",
      "Generating group_id\n",
      "ENGTEST 0001 - 0001\n",
      "200: SELECT * FROM \"efd\".\"autogen\".\"lsst.sal.ATPtg.mount_positions\" WHERE time >= '2021-03-05T16:57:40.227Z' AND time <= '2021-03-05T16:57:42.227Z'\n",
      "RA rms error= 0.06187043115699961 arcseconds. Dec rms error= 0.017246727122460424 arcseconds.\n",
      "RA mean error = 6065.049210545544 arcseconds. Dec mean error = 36503.492271020434 arcseconds.\n",
      "Starting to Slew to target\n",
      "Auto sky angle: 0.0 deg\n",
      "Sending command\n",
      "Scheduling check coroutines\n",
      "process as completed...\n",
      "atmcs: <State.ENABLED: 2>\n",
      "atptg: <State.ENABLED: 2>\n",
      "ataos: <State.ENABLED: 2>\n",
      "atpneumatics: <State.ENABLED: 2>\n",
      "athexapod: <State.ENABLED: 2>\n",
      "Got False\n",
      "Telescope not in position\n",
      "[Telescope] delta Alt = -010.020 deg; delta Az= -009.559 deg; delta N1 = -000.000 deg; delta N2 = -000.953 deg \n",
      "[Telescope] delta Alt = -007.796 deg; delta Az= -006.912 deg; delta N1 = +000.000 deg; delta N2 = -000.005 deg \n",
      "[Telescope] delta Alt = -004.001 deg; delta Az= -003.065 deg; delta N1 = +000.000 deg; delta N2 = -000.004 deg \n",
      "[Telescope] delta Alt = -000.867 deg; delta Az= -000.414 deg; delta N1 = +000.000 deg; delta N2 = -000.014 deg \n",
      "Got True\n",
      "Telescope in position.\n",
      "Time to slew is 10.388086000003227 seconds\n",
      "Generating group_id\n",
      "ENGTEST 0001 - 0001\n",
      "200: SELECT * FROM \"efd\".\"autogen\".\"lsst.sal.ATPtg.mount_positions\" WHERE time >= '2021-03-05T16:58:01.179Z' AND time <= '2021-03-05T16:58:03.179Z'\n",
      "RA rms error= 0.0453392114205875 arcseconds. Dec rms error= 0.1005134760135141 arcseconds.\n",
      "RA mean error = 558.0825341179889 arcseconds. Dec mean error = 0.40138841469143927 arcseconds.\n"
     ]
    }
   ],
   "source": [
    "# This is where the tests are carried out.\n",
    "times = []\n",
    "ra_rms_accuracies = []\n",
    "dec_rms_accuracies = []\n",
    "ra_mean_accuracies = []\n",
    "dec_mean_accuracies = []\n",
    "\n",
    "# Slew to starting position\n",
    "await atcs.slew_icrs(ra=str(ra_dec.ra), dec=str(ra_dec.dec), rot=0.0,\n",
    "                      slew_timeout=240., stop_before_slew=False, wait_settle=False)\n",
    "\n",
    "\n",
    "print('track for 2s')\n",
    "await asyncio.sleep(2)\n",
    "# take an image\n",
    "await latiss.take_engtest(exptime=2)\n",
    "\n",
    "# Now slew to new target\n",
    "print('Starting to Slew to target')\n",
    "start_time = Time(Time.now(), format='fits', scale='tai')\n",
    "await atcs.slew_icrs(ra=str(ra_dec_target.ra), dec=str(ra_dec_target.dec),\n",
    "                      rot=d_rot, slew_timeout=240., \n",
    "                      stop_before_slew=False, wait_settle=False)\n",
    "end_time = Time(Time.now(), format='fits', scale='tai')\n",
    "slew_time = TimeDelta(end_time - start_time, format='sec').value\n",
    "print(f'Time to slew is {slew_time} seconds')\n",
    "times.append(slew_time)\n",
    "await latiss.take_engtest(exptime=2)\n",
    "await asyncio.sleep(5)\n",
    "t_end = end_time + TimeDelta(5, format='sec')\n",
    "nsec = 2\n",
    "mount_position = await client.select_time_series(\"lsst.sal.ATPtg.mount_positions\", ['*'],\n",
    "                                          t_end - TimeDelta(nsec, format='sec'), t_end)\n",
    "ra = merge_packed_time_series(mount_position, 'ra', stride=1)\n",
    "dec = merge_packed_time_series(mount_position, 'declination', stride=1)\n",
    "ra_vals = np.array(ra.values.tolist())[:,0]\n",
    "dec_vals = np.array(dec.values.tolist())[:,0]\n",
    "\n",
    "ra_mean = np.mean(ra_vals)\n",
    "dec_mean = np.mean(dec_vals)\n",
    "# Errors in arcsec\n",
    "ra_rms = np.sqrt(np.mean((ra_vals - ra_mean)**2)) * 3600.0 \n",
    "dec_rms = np.sqrt(np.mean((dec_vals - dec_mean)**2)) * 3600.0 \n",
    "ra_mean_error = abs(ra_dec.ra.value - ra_mean) * 3600\n",
    "dec_mean_error = abs(ra_dec.dec.value - dec_mean) * 3600\n",
    "print(f\"RA rms error= {ra_rms} arcseconds. Dec rms error= {dec_rms} arcseconds.\")\n",
    "print(f\"RA mean error = {ra_mean_error} arcseconds. Dec mean error = {dec_mean_error} arcseconds.\")\n",
    "\n",
    "ra_rms_accuracies.append(ra_rms)\n",
    "dec_rms_accuracies.append(dec_rms)\n",
    "ra_mean_accuracies.append(ra_mean_error)\n",
    "dec_mean_accuracies.append(dec_mean_error)\n",
    "\n",
    "# Repeat this going back to origin\n",
    "\n",
    "print('Starting to Slew to target')\n",
    "start_time = Time(Time.now(), format='fits', scale='tai')\n",
    "await atcs.slew_icrs(ra=str(ra_dec.ra), dec=str(ra_dec.dec), rot=0.0,\n",
    "                      slew_timeout=240., stop_before_slew=False, wait_settle=False)\n",
    "\n",
    "end_time = Time(Time.now(), format='fits', scale='tai')\n",
    "slew_time = TimeDelta(end_time - start_time, format='sec').value\n",
    "print(f'Time to slew is {slew_time} seconds')\n",
    "times.append(slew_time)\n",
    "await latiss.take_engtest(exptime=2)\n",
    "await asyncio.sleep(5)\n",
    "t_end = end_time + TimeDelta(5, format='sec')\n",
    "nsec = 2\n",
    "mount_position = await client.select_time_series(\"lsst.sal.ATPtg.mount_positions\", ['*'],\n",
    "                                          t_end - TimeDelta(nsec, format='sec'), t_end)\n",
    "ra = merge_packed_time_series(mount_position, 'ra', stride=1)\n",
    "dec = merge_packed_time_series(mount_position, 'declination', stride=1)\n",
    "ra_vals = np.array(ra.values.tolist())[:,0]\n",
    "dec_vals = np.array(dec.values.tolist())[:,0]\n",
    "ra_mean = np.mean(ra_vals)\n",
    "dec_mean = np.mean(dec_vals)\n",
    "# Errors in arcsec\n",
    "ra_rms = np.sqrt(np.mean((ra_vals - ra_mean)**2)) * 3600.0 \n",
    "dec_rms = np.sqrt(np.mean((dec_vals - dec_mean)**2)) * 3600.0 \n",
    "ra_mean_error = abs(ra_dec.ra.value - ra_mean) * 3600\n",
    "dec_mean_error = abs(ra_dec.dec.value - dec_mean) * 3600\n",
    "print(f\"RA rms error= {ra_rms} arcseconds. Dec rms error= {dec_rms} arcseconds.\")\n",
    "print(f\"RA mean error = {ra_mean_error} arcseconds. Dec mean error = {dec_mean_error} arcseconds.\")\n",
    "\n",
    "ra_rms_accuracies.append(ra_rms)\n",
    "dec_rms_accuracies.append(dec_rms)\n",
    "ra_mean_accuracies.append(ra_mean_error)\n",
    "dec_mean_accuracies.append(dec_mean_error)\n"
   ]
  },
  {
   "cell_type": "code",
   "execution_count": 42,
   "metadata": {},
   "outputs": [
    {
     "name": "stdout",
     "output_type": "stream",
     "text": [
      "Aux_Tel_Smslew_AcqTime failed!  Spec = 10.0.    Measured = 10.388086000003227 \n",
      "Aux_Tel_Sm_Slew_Abs_Pointing (RMS only) passed.  Spec = 2.5.     Measured = 0.1005134760135141 \n",
      "Aux_Tel_Sm_Slew_Abs_Pointing (mean offset) failed!  Spec = 2.5.     Measured = 36503.492271020434 \n"
     ]
    }
   ],
   "source": [
    "# Now check to see if the specs are met:\n",
    "Aux_Tel_Smslew_AcqTime = 10.0\n",
    "if max(times) < Aux_Tel_Smslew_AcqTime:\n",
    "    print(f\"Aux_Tel_Smslew_AcqTime passed.  Spec = {Aux_Tel_Smslew_AcqTime}.\\\n",
    "    Measured = {max(times)} \")\n",
    "else:\n",
    "    print(f\"Aux_Tel_Smslew_AcqTime failed!  Spec = {Aux_Tel_Smslew_AcqTime}.\\\n",
    "    Measured = {max(times)} \")\n",
    "\n",
    "Aux_Tel_Sm_Slew_Abs_Pointing = 2.5\n",
    "# First look at the RMS accuracies\n",
    "worst_case = max(ra_rms_accuracies + dec_rms_accuracies)\n",
    "if worst_case < Aux_Tel_Sm_Slew_Abs_Pointing:\n",
    "    print(f\"Aux_Tel_Sm_Slew_Abs_Pointing (RMS only) passed.  Spec = {Aux_Tel_Sm_Slew_Abs_Pointing}. \\\n",
    "    Measured = {worst_case} \")\n",
    "else:\n",
    "    print(f\"Aux_Tel_Sm_Slew_Abs_Pointing (RMS only) failed!  Spec = {Aux_Tel_Sm_Slew_Abs_Pointing}. \\\n",
    "    Measured = {worst_case} \")\n",
    "\n",
    "# Next look at the mean offset.  this will likely fail due to timebase errors\n",
    "worst_case = max(ra_mean_accuracies + dec_mean_accuracies)\n",
    "if worst_case < Aux_Tel_Sm_Slew_Abs_Pointing:\n",
    "    print(f\"Aux_Tel_Sm_Slew_Abs_Pointing (mean offset) passed.  Spec = {Aux_Tel_Sm_Slew_Abs_Pointing}. \\\n",
    "    Measured = {worst_case} \")\n",
    "else:\n",
    "    print(f\"Aux_Tel_Sm_Slew_Abs_Pointing (mean offset) failed!  Spec = {Aux_Tel_Sm_Slew_Abs_Pointing}. \\\n",
    "    Measured = {worst_case} \")\n"
   ]
  },
  {
   "cell_type": "code",
   "execution_count": 57,
   "metadata": {
    "collapsed": true,
    "jupyter": {
     "outputs_hidden": true
    }
   },
   "outputs": [
    {
     "name": "stdout",
     "output_type": "stream",
     "text": [
      "Stop tracking.\n"
     ]
    },
    {
     "ename": "AckError",
     "evalue": "msg='Command failed', ackcmd=(ackcmd private_seqNum=2091141490, ack=<SalRetCode.CMD_FAILED: -302>, error=6612, result='Rejected : command not allowed in current state')",
     "output_type": "error",
     "traceback": [
      "\u001b[0;31m---------------------------------------------------------------------------\u001b[0m",
      "\u001b[0;31mAckError\u001b[0m                                  Traceback (most recent call last)",
      "\u001b[0;32m<ipython-input-57-99b5fb8db379>\u001b[0m in \u001b[0;36m<module>\u001b[0;34m\u001b[0m\n\u001b[1;32m      1\u001b[0m \u001b[0;31m# For shutdown of system\u001b[0m\u001b[0;34m\u001b[0m\u001b[0;34m\u001b[0m\u001b[0;34m\u001b[0m\u001b[0m\n\u001b[0;32m----> 2\u001b[0;31m \u001b[0;32mawait\u001b[0m \u001b[0matcs\u001b[0m\u001b[0;34m.\u001b[0m\u001b[0mstop_tracking\u001b[0m\u001b[0;34m(\u001b[0m\u001b[0;34m)\u001b[0m\u001b[0;34m\u001b[0m\u001b[0;34m\u001b[0m\u001b[0m\n\u001b[0m",
      "\u001b[0;32m~/WORK/ts_observatory_control/python/lsst/ts/observatory/control/auxtel/atcs.py\u001b[0m in \u001b[0;36mstop_tracking\u001b[0;34m(self)\u001b[0m\n\u001b[1;32m    348\u001b[0m         \u001b[0mself\u001b[0m\u001b[0;34m.\u001b[0m\u001b[0mlog\u001b[0m\u001b[0;34m.\u001b[0m\u001b[0mdebug\u001b[0m\u001b[0;34m(\u001b[0m\u001b[0;34m\"Stop tracking.\"\u001b[0m\u001b[0;34m)\u001b[0m\u001b[0;34m\u001b[0m\u001b[0;34m\u001b[0m\u001b[0m\n\u001b[1;32m    349\u001b[0m \u001b[0;34m\u001b[0m\u001b[0m\n\u001b[0;32m--> 350\u001b[0;31m         \u001b[0;32mawait\u001b[0m \u001b[0mself\u001b[0m\u001b[0;34m.\u001b[0m\u001b[0mrem\u001b[0m\u001b[0;34m.\u001b[0m\u001b[0matptg\u001b[0m\u001b[0;34m.\u001b[0m\u001b[0mcmd_stopTracking\u001b[0m\u001b[0;34m.\u001b[0m\u001b[0mstart\u001b[0m\u001b[0;34m(\u001b[0m\u001b[0mtimeout\u001b[0m\u001b[0;34m=\u001b[0m\u001b[0mself\u001b[0m\u001b[0;34m.\u001b[0m\u001b[0mfast_timeout\u001b[0m\u001b[0;34m)\u001b[0m\u001b[0;34m\u001b[0m\u001b[0;34m\u001b[0m\u001b[0m\n\u001b[0m\u001b[1;32m    351\u001b[0m \u001b[0;34m\u001b[0m\u001b[0m\n\u001b[1;32m    352\u001b[0m         \u001b[0;32mtry\u001b[0m\u001b[0;34m:\u001b[0m\u001b[0;34m\u001b[0m\u001b[0;34m\u001b[0m\u001b[0m\n",
      "\u001b[0;32m/opt/lsst/src/ts_salobj/python/lsst/ts/salobj/topics/remote_command.py\u001b[0m in \u001b[0;36mstart\u001b[0;34m(self, data, timeout, wait_done)\u001b[0m\n\u001b[1;32m    444\u001b[0m         )\n\u001b[1;32m    445\u001b[0m         \u001b[0mself\u001b[0m\u001b[0;34m.\u001b[0m\u001b[0msalinfo\u001b[0m\u001b[0;34m.\u001b[0m\u001b[0m_running_cmds\u001b[0m\u001b[0;34m[\u001b[0m\u001b[0mseq_num\u001b[0m\u001b[0;34m]\u001b[0m \u001b[0;34m=\u001b[0m \u001b[0mcmd_info\u001b[0m\u001b[0;34m\u001b[0m\u001b[0;34m\u001b[0m\u001b[0m\n\u001b[0;32m--> 446\u001b[0;31m         \u001b[0;32mreturn\u001b[0m \u001b[0;32mawait\u001b[0m \u001b[0mcmd_info\u001b[0m\u001b[0;34m.\u001b[0m\u001b[0mnext_ackcmd\u001b[0m\u001b[0;34m(\u001b[0m\u001b[0mtimeout\u001b[0m\u001b[0;34m=\u001b[0m\u001b[0mtimeout\u001b[0m\u001b[0;34m)\u001b[0m\u001b[0;34m\u001b[0m\u001b[0;34m\u001b[0m\u001b[0m\n\u001b[0m",
      "\u001b[0;32m/opt/lsst/src/ts_salobj/python/lsst/ts/salobj/topics/remote_command.py\u001b[0m in \u001b[0;36mnext_ackcmd\u001b[0;34m(self, timeout)\u001b[0m\n\u001b[1;32m    181\u001b[0m             \u001b[0mackcmd\u001b[0m \u001b[0;34m=\u001b[0m \u001b[0;32mawait\u001b[0m \u001b[0mself\u001b[0m\u001b[0;34m.\u001b[0m\u001b[0m_wait_task\u001b[0m\u001b[0;34m\u001b[0m\u001b[0;34m\u001b[0m\u001b[0m\n\u001b[1;32m    182\u001b[0m             \u001b[0;32mif\u001b[0m \u001b[0mackcmd\u001b[0m\u001b[0;34m.\u001b[0m\u001b[0mack\u001b[0m \u001b[0;32min\u001b[0m \u001b[0mself\u001b[0m\u001b[0;34m.\u001b[0m\u001b[0mfailed_ack_codes\u001b[0m\u001b[0;34m:\u001b[0m\u001b[0;34m\u001b[0m\u001b[0;34m\u001b[0m\u001b[0m\n\u001b[0;32m--> 183\u001b[0;31m                 \u001b[0;32mraise\u001b[0m \u001b[0mbase\u001b[0m\u001b[0;34m.\u001b[0m\u001b[0mAckError\u001b[0m\u001b[0;34m(\u001b[0m\u001b[0mmsg\u001b[0m\u001b[0;34m=\u001b[0m\u001b[0;34m\"Command failed\"\u001b[0m\u001b[0;34m,\u001b[0m \u001b[0mackcmd\u001b[0m\u001b[0;34m=\u001b[0m\u001b[0mackcmd\u001b[0m\u001b[0;34m)\u001b[0m\u001b[0;34m\u001b[0m\u001b[0;34m\u001b[0m\u001b[0m\n\u001b[0m\u001b[1;32m    184\u001b[0m             \u001b[0;32mreturn\u001b[0m \u001b[0mackcmd\u001b[0m\u001b[0;34m\u001b[0m\u001b[0;34m\u001b[0m\u001b[0m\n\u001b[1;32m    185\u001b[0m         \u001b[0;32mexcept\u001b[0m \u001b[0masyncio\u001b[0m\u001b[0;34m.\u001b[0m\u001b[0mTimeoutError\u001b[0m\u001b[0;34m:\u001b[0m\u001b[0;34m\u001b[0m\u001b[0;34m\u001b[0m\u001b[0m\n",
      "\u001b[0;31mAckError\u001b[0m: msg='Command failed', ackcmd=(ackcmd private_seqNum=2091141490, ack=<SalRetCode.CMD_FAILED: -302>, error=6612, result='Rejected : command not allowed in current state')"
     ]
    }
   ],
   "source": [
    "# For shutdown of system\n",
    "await atcs.stop_tracking()"
   ]
  },
  {
   "cell_type": "code",
   "execution_count": 45,
   "metadata": {},
   "outputs": [],
   "source": [
    "# turn off corrections\n",
    "tmp = await atcs.rem.ataos.cmd_disableCorrection.set_start(m1=True, hexapod=True, atspectrograph=True)"
   ]
  },
  {
   "cell_type": "code",
   "execution_count": 52,
   "metadata": {},
   "outputs": [],
   "source": [
    "# take event checking out the slew commands to test telescope only\n",
    "# otherwise it'll wait for the dome before completing slew command\n",
    "atcs.check.atdome = True\n",
    "atcs.check.atdometrajectory = True"
   ]
  },
  {
   "cell_type": "code",
   "execution_count": 53,
   "metadata": {
    "collapsed": true,
    "jupyter": {
     "outputs_hidden": true
    }
   },
   "outputs": [
    {
     "name": "stdout",
     "output_type": "stream",
     "text": [
      "Disabling ATAOS corrections\n",
      "Disabling ATAOS corrections.\n",
      "Closing M1 cover vent gates.\n",
      "Cover state <MirrorCoverState.CLOSED: 6>\n",
      "M1 cover already closed.\n",
      "M1 vent state <VentsPosition.CLOSED: 1>\n",
      "M1 vents already closed.\n",
      "Close dome.\n",
      "ATDome Shutter Door is already closed. Ignoring.\n",
      "Slew dome to Park position.\n",
      "Sending ATDomeTrajectory to DISABED state. Component will be left in DISABLEDstate or else it may send the ATDome back to alignment with the telescope.\n",
      "process as completed...\n",
      "atdometrajectory: <State.DISABLED: 1>\n",
      "ATDome in position.\n",
      "[Dome] delta Az = +002.960 deg\n",
      "Axes in position.\n",
      "Disable ATDomeTrajectory\n",
      "Slew telescope to Park position.\n",
      "Sending command\n",
      "Stop tracking.\n",
      "Unknown tracking state: 10\n",
      "Scheduling check coroutines\n",
      "process as completed...\n",
      "atmcs: <State.ENABLED: 2>\n",
      "atptg: <State.ENABLED: 2>\n",
      "ataos: <State.ENABLED: 2>\n",
      "atpneumatics: <State.ENABLED: 2>\n",
      "athexapod: <State.ENABLED: 2>\n",
      "[Telescope] delta Alt = -000.025 deg; delta Az= +000.001 deg; delta N1 = -000.000 deg; delta N2 = -044.275 deg \n",
      "[Telescope] delta Alt = +000.000 deg; delta Az= +000.001 deg; delta N1 = -000.000 deg; delta N2 = -041.061 deg \n",
      "[Telescope] delta Alt = +000.000 deg; delta Az= +000.000 deg; delta N1 = -000.000 deg; delta N2 = -035.056 deg \n",
      "atmcs not in <State.ENABLED: 2>: <State.FAULT: 3>\n",
      "Failed to slew telescope to park position. Continuing...\n",
      "Traceback (most recent call last):\n",
      "  File \"/home/craiglagegit/WORK/ts_observatory_control/python/lsst/ts/observatory/control/auxtel/atcs.py\", line 557, in shutdown\n",
      "    await self.point_azel(\n",
      "  File \"/home/craiglagegit/WORK/ts_observatory_control/python/lsst/ts/observatory/control/base_tcs.py\", line 132, in point_azel\n",
      "    await self._slew_to(\n",
      "  File \"/home/craiglagegit/WORK/ts_observatory_control/python/lsst/ts/observatory/control/auxtel/atcs.py\", line 1045, in _slew_to\n",
      "    await self.process_as_completed(self.scheduled_coro)\n",
      "  File \"/home/craiglagegit/WORK/ts_observatory_control/python/lsst/ts/observatory/control/remote_group.py\", line 856, in process_as_completed\n",
      "    raise e\n",
      "  File \"/home/craiglagegit/WORK/ts_observatory_control/python/lsst/ts/observatory/control/remote_group.py\", line 853, in process_as_completed\n",
      "    ret_val = await res\n",
      "  File \"/opt/lsst/software/stack/conda/miniconda3-py38_4.9.2/envs/lsst-scipipe-0.4.1/lib/python3.8/asyncio/tasks.py\", line 616, in _wait_for_one\n",
      "    return f.result()  # May raise f.exception().\n",
      "  File \"/home/craiglagegit/WORK/ts_observatory_control/python/lsst/ts/observatory/control/remote_group.py\", line 454, in check_component_state\n",
      "    raise RuntimeError(\n",
      "RuntimeError: atmcs state is <State.FAULT: 3>, expected <State.ENABLED: 2>\n",
      "Put CSCs in standby\n",
      "[atmcs]::[<State.FAULT: 3>, <State.STANDBY: 5>]\n",
      "[atptg]::[<State.ENABLED: 2>, <State.DISABLED: 1>, <State.STANDBY: 5>]\n",
      "[ataos]::[<State.ENABLED: 2>, <State.DISABLED: 1>, <State.STANDBY: 5>]\n",
      "[atpneumatics]::[<State.ENABLED: 2>, <State.DISABLED: 1>, <State.STANDBY: 5>]\n",
      "[athexapod]::[<State.ENABLED: 2>, <State.DISABLED: 1>, <State.STANDBY: 5>]\n",
      "Unable to transition atdome to <State.STANDBY: 5> NoneType: None\n",
      ".\n",
      "Traceback (most recent call last):\n",
      "  File \"/opt/lsst/src/ts_salobj/python/lsst/ts/salobj/csc_utils.py\", line 148, in set_summary_state\n",
      "    await cmd.start(timeout=timeout)\n",
      "  File \"/opt/lsst/src/ts_salobj/python/lsst/ts/salobj/topics/remote_command.py\", line 446, in start\n",
      "    return await cmd_info.next_ackcmd(timeout=timeout)\n",
      "  File \"/opt/lsst/src/ts_salobj/python/lsst/ts/salobj/topics/remote_command.py\", line 183, in next_ackcmd\n",
      "    raise base.AckError(msg=\"Command failed\", ackcmd=ackcmd)\n",
      "lsst.ts.salobj.base.AckError: msg='Command failed', ackcmd=(ackcmd private_seqNum=1831841209, ack=<SalRetCode.CMD_TIMEOUT: -304>, error=1, result='Timeout')\n",
      "\n",
      "The above exception was the direct cause of the following exception:\n",
      "\n",
      "Traceback (most recent call last):\n",
      "  File \"/opt/lsst/src/ts_salobj/python/lsst/ts/salobj/csc_utils.py\", line 150, in set_summary_state\n",
      "    raise RuntimeError(\n",
      "RuntimeError: Error on cmd=cmd_standby, initial_state=2: msg='Command failed', ackcmd=(ackcmd private_seqNum=1831841209, ack=<SalRetCode.CMD_TIMEOUT: -304>, error=1, result='Timeout')\n",
      "\n",
      "[atdometrajectory]::[<State.DISABLED: 1>, <State.STANDBY: 5>]\n"
     ]
    },
    {
     "ename": "RuntimeError",
     "evalue": "Failed to transition ['atdome'] to <State.STANDBY: 5>.",
     "output_type": "error",
     "traceback": [
      "\u001b[0;31m---------------------------------------------------------------------------\u001b[0m",
      "\u001b[0;31mRuntimeError\u001b[0m                              Traceback (most recent call last)",
      "\u001b[0;32m<ipython-input-53-3f6487274fa2>\u001b[0m in \u001b[0;36m<module>\u001b[0;34m\u001b[0m\n\u001b[1;32m      1\u001b[0m \u001b[0;31m# Putting everything back in standby.\u001b[0m\u001b[0;34m\u001b[0m\u001b[0;34m\u001b[0m\u001b[0;34m\u001b[0m\u001b[0m\n\u001b[0;32m----> 2\u001b[0;31m \u001b[0;32mawait\u001b[0m \u001b[0matcs\u001b[0m\u001b[0;34m.\u001b[0m\u001b[0mshutdown\u001b[0m\u001b[0;34m(\u001b[0m\u001b[0;34m)\u001b[0m\u001b[0;34m\u001b[0m\u001b[0;34m\u001b[0m\u001b[0m\n\u001b[0m",
      "\u001b[0;32m~/WORK/ts_observatory_control/python/lsst/ts/observatory/control/auxtel/atcs.py\u001b[0m in \u001b[0;36mshutdown\u001b[0;34m(self)\u001b[0m\n\u001b[1;32m    574\u001b[0m         \u001b[0mself\u001b[0m\u001b[0;34m.\u001b[0m\u001b[0mlog\u001b[0m\u001b[0;34m.\u001b[0m\u001b[0minfo\u001b[0m\u001b[0;34m(\u001b[0m\u001b[0;34m\"Put CSCs in standby\"\u001b[0m\u001b[0;34m)\u001b[0m\u001b[0;34m\u001b[0m\u001b[0;34m\u001b[0m\u001b[0m\n\u001b[1;32m    575\u001b[0m \u001b[0;34m\u001b[0m\u001b[0m\n\u001b[0;32m--> 576\u001b[0;31m         \u001b[0;32mawait\u001b[0m \u001b[0mself\u001b[0m\u001b[0;34m.\u001b[0m\u001b[0mstandby\u001b[0m\u001b[0;34m(\u001b[0m\u001b[0;34m)\u001b[0m\u001b[0;34m\u001b[0m\u001b[0;34m\u001b[0m\u001b[0m\n\u001b[0m\u001b[1;32m    577\u001b[0m \u001b[0;34m\u001b[0m\u001b[0m\n\u001b[1;32m    578\u001b[0m     \u001b[0;32masync\u001b[0m \u001b[0;32mdef\u001b[0m \u001b[0mopen_dome_shutter\u001b[0m\u001b[0;34m(\u001b[0m\u001b[0mself\u001b[0m\u001b[0;34m)\u001b[0m\u001b[0;34m:\u001b[0m\u001b[0;34m\u001b[0m\u001b[0;34m\u001b[0m\u001b[0m\n",
      "\u001b[0;32m~/WORK/ts_observatory_control/python/lsst/ts/observatory/control/remote_group.py\u001b[0m in \u001b[0;36mstandby\u001b[0;34m(self)\u001b[0m\n\u001b[1;32m    723\u001b[0m         \"\"\"\n\u001b[1;32m    724\u001b[0m \u001b[0;34m\u001b[0m\u001b[0m\n\u001b[0;32m--> 725\u001b[0;31m         \u001b[0;32mawait\u001b[0m \u001b[0mself\u001b[0m\u001b[0;34m.\u001b[0m\u001b[0mset_state\u001b[0m\u001b[0;34m(\u001b[0m\u001b[0msalobj\u001b[0m\u001b[0;34m.\u001b[0m\u001b[0mState\u001b[0m\u001b[0;34m.\u001b[0m\u001b[0mSTANDBY\u001b[0m\u001b[0;34m)\u001b[0m\u001b[0;34m\u001b[0m\u001b[0;34m\u001b[0m\u001b[0m\n\u001b[0m\u001b[1;32m    726\u001b[0m \u001b[0;34m\u001b[0m\u001b[0m\n\u001b[1;32m    727\u001b[0m     \u001b[0;34m@\u001b[0m\u001b[0mproperty\u001b[0m\u001b[0;34m\u001b[0m\u001b[0;34m\u001b[0m\u001b[0m\n",
      "\u001b[0;32m~/WORK/ts_observatory_control/python/lsst/ts/observatory/control/remote_group.py\u001b[0m in \u001b[0;36mset_state\u001b[0;34m(self, state, settings, components)\u001b[0m\n\u001b[1;32m    691\u001b[0m \u001b[0;34m\u001b[0m\u001b[0m\n\u001b[1;32m    692\u001b[0m         \u001b[0;32mif\u001b[0m \u001b[0merror_flag\u001b[0m\u001b[0;34m:\u001b[0m\u001b[0;34m\u001b[0m\u001b[0;34m\u001b[0m\u001b[0m\n\u001b[0;32m--> 693\u001b[0;31m             raise RuntimeError(\n\u001b[0m\u001b[1;32m    694\u001b[0m                 \u001b[0;34mf\"Failed to transition {failed_components} to \"\u001b[0m\u001b[0;34m\u001b[0m\u001b[0;34m\u001b[0m\u001b[0m\n\u001b[1;32m    695\u001b[0m                 \u001b[0;34mf\"{salobj.State(state)!r}.\"\u001b[0m\u001b[0;34m\u001b[0m\u001b[0;34m\u001b[0m\u001b[0m\n",
      "\u001b[0;31mRuntimeError\u001b[0m: Failed to transition ['atdome'] to <State.STANDBY: 5>."
     ]
    }
   ],
   "source": [
    "# Putting everything back in standby.\n",
    "await atcs.shutdown()"
   ]
  },
  {
   "cell_type": "code",
   "execution_count": 54,
   "metadata": {},
   "outputs": [
    {
     "data": {
      "text/plain": [
       "<ddsutil.ATDome_ackcmd_ec56b694 at 0x7faa377a4430>"
      ]
     },
     "execution_count": 54,
     "metadata": {},
     "output_type": "execute_result"
    }
   ],
   "source": [
    "await atcs.rem.atdome.cmd_start.set_start(settingsToApply=\"test\", timeout=30)"
   ]
  },
  {
   "cell_type": "code",
   "execution_count": 55,
   "metadata": {},
   "outputs": [
    {
     "data": {
      "text/plain": [
       "[<State.DISABLED: 1>, <State.STANDBY: 5>]"
      ]
     },
     "execution_count": 55,
     "metadata": {},
     "output_type": "execute_result"
    }
   ],
   "source": [
    "await salobj.set_summary_state(atcs.rem.atdome, salobj.State.STANDBY, settingsToApply=\"test\")"
   ]
  },
  {
   "cell_type": "code",
   "execution_count": 48,
   "metadata": {},
   "outputs": [
    {
     "data": {
      "text/plain": [
       "[<State.DISABLED: 1>, <State.ENABLED: 2>]"
      ]
     },
     "execution_count": 48,
     "metadata": {},
     "output_type": "execute_result"
    }
   ],
   "source": [
    "await salobj.set_summary_state(atcs.rem.atdometrajectory, salobj.State.ENABLED)"
   ]
  },
  {
   "cell_type": "code",
   "execution_count": 62,
   "metadata": {},
   "outputs": [
    {
     "data": {
      "text/plain": [
       "[<State.ENABLED: 2>, <State.DISABLED: 1>, <State.STANDBY: 5>]"
      ]
     },
     "execution_count": 62,
     "metadata": {},
     "output_type": "execute_result"
    }
   ],
   "source": [
    "await salobj.set_summary_state(latiss.rem.atspectrograph, salobj.State.STANDBY)\n",
    "await salobj.set_summary_state(latiss.rem.atcamera, salobj.State.STANDBY)\n",
    "await salobj.set_summary_state(latiss.rem.atheaderservice, salobj.State.STANDBY)\n",
    "await salobj.set_summary_state(latiss.rem.atarchiver, salobj.State.STANDBY)"
   ]
  },
  {
   "cell_type": "code",
   "execution_count": null,
   "metadata": {},
   "outputs": [],
   "source": []
  },
  {
   "cell_type": "code",
   "execution_count": 60,
   "metadata": {},
   "outputs": [
    {
     "data": {
      "text/plain": [
       "[<State.ENABLED: 2>, <State.DISABLED: 1>, <State.STANDBY: 5>]"
      ]
     },
     "execution_count": 60,
     "metadata": {},
     "output_type": "execute_result"
    }
   ],
   "source": [
    "await salobj.set_summary_state(atcs.rem.atptg, salobj.State.STANDBY)"
   ]
  },
  {
   "cell_type": "code",
   "execution_count": 61,
   "metadata": {},
   "outputs": [
    {
     "data": {
      "text/plain": [
       "[<State.ENABLED: 2>, <State.DISABLED: 1>, <State.STANDBY: 5>]"
      ]
     },
     "execution_count": 61,
     "metadata": {},
     "output_type": "execute_result"
    }
   ],
   "source": [
    "await salobj.set_summary_state(atcs.rem.atmcs, salobj.State.STANDBY)"
   ]
  },
  {
   "cell_type": "code",
   "execution_count": null,
   "metadata": {},
   "outputs": [],
   "source": []
  }
 ],
 "metadata": {
  "kernelspec": {
   "display_name": "LSST",
   "language": "python",
   "name": "lsst"
  },
  "language_info": {
   "codemirror_mode": {
    "name": "ipython",
    "version": 3
   },
   "file_extension": ".py",
   "mimetype": "text/x-python",
   "name": "python",
   "nbconvert_exporter": "python",
   "pygments_lexer": "ipython3",
   "version": "3.8.12"
  }
 },
 "nbformat": 4,
 "nbformat_minor": 4
}
