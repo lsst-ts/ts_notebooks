{
 "cells": [
  {
   "cell_type": "markdown",
   "metadata": {},
   "source": [
    "# This notebook demonstrates a functionality issue with the select_packed_time_series of the efd-client"
   ]
  },
  {
   "cell_type": "code",
   "execution_count": 1,
   "metadata": {},
   "outputs": [],
   "source": [
    "import pandas as pd\n",
    "import numpy as np\n",
    "from astropy.time import Time, TimeDelta\n",
    "from lsst_efd_client import EfdClient, resample"
   ]
  },
  {
   "cell_type": "code",
   "execution_count": 2,
   "metadata": {},
   "outputs": [],
   "source": [
    "client = EfdClient('summit_efd')"
   ]
  },
  {
   "cell_type": "code",
   "execution_count": 3,
   "metadata": {},
   "outputs": [
    {
     "name": "stdout",
     "output_type": "stream",
     "text": [
      "Using local copy in _do_query\n",
      "result.index[0] 2022-02-16 05:15:00.039000+00:00\n",
      "Using local copy in _do_query\n",
      "result.index[0] 0\n",
      "Using local copy in _do_query\n",
      "result.index[0] 2022-02-16 05:15:00.039000+00:00\n",
      "Using local copy, merge_packed_time_series \n",
      "100\n",
      "crio[0] 1644988535.89931\n",
      "timestamps[0] 2022-02-16T05:15:06.899310112\n"
     ]
    }
   ],
   "source": [
    "# From an observeration last night where a fault occurred\n",
    "t1 = Time('2022-02-16T05:15:00', scale='utc')\n",
    "window = TimeDelta(40, format='sec')\n",
    "t2=t1+window\n",
    "nas2_single = await client.select_time_series(\"lsst.sal.ATMCS.mount_Nasmyth_Encoders\", \\\n",
    "                                              [\"nasmyth2CalculatedAngle0\",\"nasmyth2CalculatedAngle99\", \\\n",
    "                                               \"private_sndStamp\" ,\"private_kafkaStamp\", \"cRIO_timestamp\"], \\\n",
    "                                              t1, t2)\n",
    "nas2_single_index_time=Time(nas2_single.index)\n",
    "\n",
    "nas2_packed = await client.select_packed_time_series(\"lsst.sal.ATMCS.mount_Nasmyth_Encoders\", \\\n",
    "                                                     [\"nasmyth2CalculatedAngle\"], t1, t2)\n",
    "nas2_packed_index_time=Time(nas2_packed.index)"
   ]
  },
  {
   "cell_type": "code",
   "execution_count": 4,
   "metadata": {},
   "outputs": [
    {
     "data": {
      "text/plain": [
       "6.860310111998658"
      ]
     },
     "execution_count": 4,
     "metadata": {},
     "output_type": "execute_result"
    }
   ],
   "source": [
    "(nas2_packed_index_time.utc[0] - nas2_single_index_time.utc[0]).sec"
   ]
  },
  {
   "cell_type": "code",
   "execution_count": null,
   "metadata": {},
   "outputs": [],
   "source": []
  }
 ],
 "metadata": {
  "kernelspec": {
   "display_name": "LSST",
   "language": "python",
   "name": "lsst"
  },
  "language_info": {
   "codemirror_mode": {
    "name": "ipython",
    "version": 3
   },
   "file_extension": ".py",
   "mimetype": "text/x-python",
   "name": "python",
   "nbconvert_exporter": "python",
   "pygments_lexer": "ipython3",
   "version": "3.8.12"
  }
 },
 "nbformat": 4,
 "nbformat_minor": 4
}
