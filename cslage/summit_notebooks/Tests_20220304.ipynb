{
 "cells": [
  {
   "cell_type": "code",
   "execution_count": null,
   "metadata": {},
   "outputs": [],
   "source": [
    "import sys\n",
    "import asyncio\n",
    "import time\n",
    "import os\n",
    "\n",
    "import numpy as np\n",
    "\n",
    "from lsst.ts import salobj\n",
    "\n",
    "from lsst.ts.observatory.control.auxtel.atcs import ATCS\n",
    "from lsst.ts.observatory.control.auxtel.latiss import LATISS\n",
    "from astropy.time import Time, TimeDelta\n",
    "from astropy.coordinates import AltAz, ICRS, EarthLocation, Angle, FK5\n",
    "import astropy.units as u"
   ]
  },
  {
   "cell_type": "code",
   "execution_count": 1,
   "metadata": {},
   "outputs": [
    {
     "name": "stdout",
     "output_type": "stream",
     "text": [
      "1\n"
     ]
    }
   ],
   "source": [
    "print(1)"
   ]
  },
  {
   "cell_type": "code",
   "execution_count": 2,
   "metadata": {},
   "outputs": [
    {
     "name": "stdout",
     "output_type": "stream",
     "text": [
      "<class 'labjack.ljm.ljm.LJMError'>: Cannot load the LJM library libLabJackM.so. libLabJackM.so: cannot open shared object file: No such file or directory\n"
     ]
    }
   ],
   "source": [
    "from labjack import ljm"
   ]
  },
  {
   "cell_type": "code",
   "execution_count": 3,
   "metadata": {
    "collapsed": true,
    "jupyter": {
     "outputs_hidden": true
    },
    "tags": []
   },
   "outputs": [
    {
     "name": "stdout",
     "output_type": "stream",
     "text": [
      "/home/craiglagegit/auto-op-env-packages/atmospec/lib:/scratch/opt/OpenSpliceDDS/V6.10.4/HDE/x86_64.linux/lib:/opt/lsst/software/stack/stack/miniconda3-py38_4.9.2-2.0.0/Linux64/astshim/g545b398f03+ce83317b7e/lib:/opt/lsst/software/stack/stack/miniconda3-py38_4.9.2-2.0.0/Linux64/log/gd27fc4addd+43e67d6499/lib:/opt/lsst/software/stack/stack/miniconda3-py38_4.9.2-2.0.0/Linux64/sphgeom/gfb2c8f9998+ce83317b7e/lib:/opt/lsst/software/stack/stack/miniconda3-py38_4.9.2-2.0.0/Linux64/geom/gfd8e8de604+8836aef69c/lib:/opt/lsst/software/stack/stack/miniconda3-py38_4.9.2-2.0.0/Linux64/pex_config/gc9a196ae7d+971de38e4f/lib:/opt/lsst/software/stack/stack/miniconda3-py38_4.9.2-2.0.0/Linux64/pex_exceptions/g958458c828+fc3c6d1a77/lib:/opt/lsst/software/stack/stack/miniconda3-py38_4.9.2-2.0.0/Linux64/base/gc57f72a14a+ce83317b7e/lib:/opt/lsst/software/stack/stack/miniconda3-py38_4.9.2-2.0.0/Linux64/cpputils/g1ffd6c4751+50c04d9c73/lib:/opt/lsst/software/stack/stack/miniconda3-py38_4.9.2-2.0.0/Linux64/daf_base/g66d7acc217+43e67d6499/lib:/opt/lsst/software/stack/stack/miniconda3-py38_4.9.2-2.0.0/Linux64/afw/g8f2ba02de7+5e69f5016e/lib:/opt/lsst/software/stack/stack/miniconda3-py38_4.9.2-2.0.0/Linux64/cp_pipe/g7b180ad448+55865b84fc/lib:/opt/lsst/software/stack/stack/miniconda3-py38_4.9.2-2.0.0/Linux64/jointcal_cholmod/gaea3fc0611+ce83317b7e/lib:/opt/lsst/software/stack/stack/miniconda3-py38_4.9.2-2.0.0/Linux64/jointcal/g15c59248fb+9cca7da9d2/lib:/opt/lsst/software/stack/stack/miniconda3-py38_4.9.2-2.0.0/Linux64/obs_subaru/g8989b1d388+18ce748d86/lib:/opt/lsst/software/stack/stack/miniconda3-py38_4.9.2-2.0.0/Linux64/meas_extensions_shapeHSM/gfbfb15d729+47be4f486e/lib:/opt/lsst/software/stack/stack/miniconda3-py38_4.9.2-2.0.0/Linux64/meas_extensions_photometryKron/g235fec5482+47be4f486e/lib:/opt/lsst/software/stack/stack/miniconda3-py38_4.9.2-2.0.0/Linux64/meas_extensions_piff/g9647d74750+47be4f486e/lib:/opt/lsst/software/stack/stack/miniconda3-py38_4.9.2-2.0.0/Linux64/meas_extensions_simpleShape/g20ef201b66+1bb3b0f9b9/lib:/opt/lsst/software/stack/stack/miniconda3-py38_4.9.2-2.0.0/Linux64/ip_diffim/g1186b97052+36ba2a98c6/lib:/opt/lsst/software/stack/stack/miniconda3-py38_4.9.2-2.0.0/Linux64/ip_isr/g7aa544c432+47be4f486e/lib:/opt/lsst/software/stack/stack/miniconda3-py38_4.9.2-2.0.0/Linux64/meas_astrom/g3b20d027df+47be4f486e/lib:/opt/lsst/software/stack/stack/miniconda3-py38_4.9.2-2.0.0/Linux64/meas_extensions_trailedSources/g812f256287+1bb3b0f9b9/lib:/opt/lsst/software/stack/stack/miniconda3-py38_4.9.2-2.0.0/Linux64/psfex/g57437a15a7+ce83317b7e/lib:/opt/lsst/software/stack/stack/miniconda3-py38_4.9.2-2.0.0/Linux64/meas_extensions_psfex/g67fd2c1505+45af5020a1/lib:/opt/lsst/software/stack/stack/miniconda3-py38_4.9.2-2.0.0/Linux64/shapelet/gd79a88f3f0+b3f12ca54e/lib:/opt/lsst/software/stack/stack/miniconda3-py38_4.9.2-2.0.0/Linux64/meas_modelfit/g8cdf404ddd+042d0c8196/lib:/opt/lsst/software/stack/stack/miniconda3-py38_4.9.2-2.0.0/Linux64/coadd_utils/g169eefeba3+718d952490/lib:/opt/lsst/software/stack/stack/miniconda3-py38_4.9.2-2.0.0/Linux64/meas_base/g50b3b36a5c+5150ce2427/lib:/opt/lsst/software/stack/stack/miniconda3-py38_4.9.2-2.0.0/Linux64/daf_persistence/g6a31054a6e+6772bb3258/lib:/opt/lsst/software/stack/stack/miniconda3-py38_4.9.2-2.0.0/Linux64/meas_algorithms/gbe01a4569f+9e274c65e1/lib:/opt/lsst/software/stack/stack/miniconda3-py38_4.9.2-2.0.0/Linux64/meas_deblender/g359a236c20+95c49b42fa/lib:/opt/OpenSpliceDDS/V6.10.4/HDE/x86_64.linux/lib:/usr/local/lib64:/home/craiglagegit/.local/lib\n"
     ]
    }
   ],
   "source": [
    "!echo $LD_LIBRARY_PATH"
   ]
  },
  {
   "cell_type": "code",
   "execution_count": 4,
   "metadata": {},
   "outputs": [
    {
     "name": "stdout",
     "output_type": "stream",
     "text": [
      "libLabJackM.so.1.20.1  python3.8\n"
     ]
    }
   ],
   "source": [
    "!ls /home/craiglagegit/.local/lib"
   ]
  },
  {
   "cell_type": "code",
   "execution_count": null,
   "metadata": {},
   "outputs": [],
   "source": [
    "# Set Cerro Pachon location\n",
    "location = EarthLocation.from_geodetic(lon=-70.747698*u.deg,\n",
    "                                       lat=-30.244728*u.deg,\n",
    "                                       height=2663.0*u.m)"
   ]
  },
  {
   "cell_type": "code",
   "execution_count": null,
   "metadata": {},
   "outputs": [],
   "source": [
    "import logging\n",
    "stream_handler = logging.StreamHandler(sys.stdout)\n",
    "logger = logging.getLogger()\n",
    "logger.addHandler(stream_handler)\n",
    "logger.level = logging.DEBUG"
   ]
  },
  {
   "cell_type": "code",
   "execution_count": null,
   "metadata": {
    "tags": []
   },
   "outputs": [],
   "source": [
    "#Start classes\n",
    "domain = salobj.Domain()\n",
    "await asyncio.sleep(10) # This can be removed in the future...\n",
    "atcs = ATCS(domain)\n",
    "latiss = LATISS(domain)\n",
    "await asyncio.gather(atcs.start_task, latiss.start_task)"
   ]
  },
  {
   "cell_type": "code",
   "execution_count": null,
   "metadata": {
    "tags": []
   },
   "outputs": [],
   "source": [
    "# enable components\n",
    "await atcs.enable({\"atdome\": \"current\", \"ataos\": \"current\", \"athexapod\": \"current\"})\n",
    "await latiss.enable()"
   ]
  },
  {
   "cell_type": "code",
   "execution_count": null,
   "metadata": {},
   "outputs": [],
   "source": [
    "# ATArchiver didn't come up\n",
    "tmp=await latiss.rem.atarchiver.cmd_start.set_start()\n",
    "print(tmp)"
   ]
  },
  {
   "cell_type": "code",
   "execution_count": null,
   "metadata": {
    "tags": []
   },
   "outputs": [],
   "source": [
    "await salobj.set_summary_state(latiss.rem.atarchiver, salobj.State.ENABLED)"
   ]
  },
  {
   "cell_type": "code",
   "execution_count": null,
   "metadata": {},
   "outputs": [],
   "source": [
    "await latiss.rem.atarchiver.cmd_enable.set_start(timeout=10)"
   ]
  },
  {
   "cell_type": "code",
   "execution_count": null,
   "metadata": {},
   "outputs": [],
   "source": [
    "# These 8 cells were run earlier to install the labJack in a box"
   ]
  },
  {
   "cell_type": "code",
   "execution_count": null,
   "metadata": {
    "tags": []
   },
   "outputs": [],
   "source": [
    "# Lowering to check box clearance\n",
    "start_az = 0.0\n",
    "start_el = 20.0\n",
    "start_rot = 0.0\n",
    "await atcs.point_azel(start_az, start_el, rot_tel=start_rot)"
   ]
  },
  {
   "cell_type": "code",
   "execution_count": null,
   "metadata": {},
   "outputs": [],
   "source": [
    "await salobj.set_summary_state(atcs.rem.atmcs, salobj.State.STANDBY)"
   ]
  },
  {
   "cell_type": "code",
   "execution_count": null,
   "metadata": {},
   "outputs": [],
   "source": [
    "await salobj.set_summary_state(atcs.rem.atptg, salobj.State.STANDBY)"
   ]
  },
  {
   "cell_type": "code",
   "execution_count": null,
   "metadata": {},
   "outputs": [],
   "source": [
    "await salobj.set_summary_state(atcs.rem.atmcs, salobj.State.ENABLED)"
   ]
  },
  {
   "cell_type": "code",
   "execution_count": null,
   "metadata": {},
   "outputs": [],
   "source": [
    "await salobj.set_summary_state(atcs.rem.atptg, salobj.State.ENABLED)"
   ]
  },
  {
   "cell_type": "code",
   "execution_count": null,
   "metadata": {
    "tags": []
   },
   "outputs": [],
   "source": [
    "# Failed.  Bring back up\n",
    "start_az = 0.0\n",
    "start_el = 80.0\n",
    "start_rot = 0.0\n",
    "await atcs.point_azel(start_az, start_el, rot_tel=start_rot)"
   ]
  },
  {
   "cell_type": "code",
   "execution_count": null,
   "metadata": {
    "tags": []
   },
   "outputs": [],
   "source": [
    "# Testing new location\n",
    "start_az = 0.0\n",
    "start_el = 20.0\n",
    "start_rot = 0.0\n",
    "await atcs.point_azel(start_az, start_el, rot_tel=start_rot)"
   ]
  },
  {
   "cell_type": "code",
   "execution_count": null,
   "metadata": {
    "tags": []
   },
   "outputs": [],
   "source": [
    "# Looks OK.  Bring back up\n",
    "start_az = 0.0\n",
    "start_el = 80.0\n",
    "start_rot = 0.0\n",
    "await atcs.point_azel(start_az, start_el, rot_tel=start_rot)"
   ]
  },
  {
   "cell_type": "code",
   "execution_count": null,
   "metadata": {},
   "outputs": [],
   "source": [
    "# Running more tests"
   ]
  },
  {
   "cell_type": "code",
   "execution_count": null,
   "metadata": {},
   "outputs": [],
   "source": [
    "await latiss.take_bias(1)"
   ]
  },
  {
   "cell_type": "code",
   "execution_count": null,
   "metadata": {
    "tags": []
   },
   "outputs": [],
   "source": [
    "# Take 50 biases seq # 5-54\n",
    "# Added wait to stop killing the recent images\n",
    "for i in range(50):\n",
    "    await asyncio.sleep(2.0)\n",
    "    await latiss.take_bias(1)"
   ]
  },
  {
   "cell_type": "code",
   "execution_count": null,
   "metadata": {
    "tags": []
   },
   "outputs": [],
   "source": [
    "# Re-aligning flat illuminator\n",
    "await atcs.prepare_for_flatfield()"
   ]
  },
  {
   "cell_type": "code",
   "execution_count": null,
   "metadata": {
    "tags": []
   },
   "outputs": [],
   "source": [
    "await atcs.prepare_for_flatfield()"
   ]
  },
  {
   "cell_type": "code",
   "execution_count": null,
   "metadata": {
    "tags": []
   },
   "outputs": [],
   "source": [
    "await atcs.stop_tracking()"
   ]
  },
  {
   "cell_type": "code",
   "execution_count": null,
   "metadata": {
    "tags": []
   },
   "outputs": [],
   "source": [
    "await atcs.shutdown()"
   ]
  },
  {
   "cell_type": "code",
   "execution_count": null,
   "metadata": {
    "tags": []
   },
   "outputs": [],
   "source": [
    "await latiss.standby()"
   ]
  }
 ],
 "metadata": {
  "kernelspec": {
   "display_name": "LSST",
   "language": "python",
   "name": "lsst"
  },
  "language_info": {
   "codemirror_mode": {
    "name": "ipython",
    "version": 3
   },
   "file_extension": ".py",
   "mimetype": "text/x-python",
   "name": "python",
   "nbconvert_exporter": "python",
   "pygments_lexer": "ipython3",
   "version": "3.8.12"
  }
 },
 "nbformat": 4,
 "nbformat_minor": 4
}
