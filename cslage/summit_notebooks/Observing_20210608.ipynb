{
 "cells": [
  {
   "cell_type": "markdown",
   "metadata": {},
   "source": [
    "# General Observing"
   ]
  },
  {
   "cell_type": "markdown",
   "metadata": {},
   "source": [
    "This notebook is used for general observing with the Auxiliary Telescope.\n",
    "\n",
    "Craig Lage - 25-May-21"
   ]
  },
  {
   "cell_type": "code",
   "execution_count": 1,
   "metadata": {},
   "outputs": [],
   "source": [
    "import sys\n",
    "import asyncio\n",
    "import time\n",
    "import os\n",
    "import numpy as np\n",
    "\n",
    "from lsst.ts import salobj\n",
    "from lsst.ts.observatory.control.auxtel.atcs import ATCS\n",
    "from lsst.ts.observatory.control.auxtel.latiss import LATISS\n",
    "from lsst.ts.observatory.control.utils import RotType"
   ]
  },
  {
   "cell_type": "code",
   "execution_count": 2,
   "metadata": {},
   "outputs": [],
   "source": [
    "# for tab completion to work in current notebook instance\n",
    "%config IPCompleter.use_jedi = False"
   ]
  },
  {
   "cell_type": "code",
   "execution_count": 3,
   "metadata": {},
   "outputs": [],
   "source": [
    "import logging\n",
    "stream_handler = logging.StreamHandler(sys.stdout)\n",
    "logger = logging.getLogger()\n",
    "logger.addHandler(stream_handler)\n",
    "logger.level = logging.DEBUG\n",
    "# Make matplotlib less chatty\n",
    "logging.getLogger(\"matplotlib\").setLevel(logging.WARNING)"
   ]
  },
  {
   "cell_type": "code",
   "execution_count": 4,
   "metadata": {
    "collapsed": true,
    "jupyter": {
     "outputs_hidden": true
    }
   },
   "outputs": [
    {
     "name": "stdout",
     "output_type": "stream",
     "text": [
      "atmcs: Adding all resources.\n",
      "atptg: Adding all resources.\n",
      "ataos: Adding all resources.\n",
      "atpneumatics: Adding all resources.\n",
      "athexapod: Adding all resources.\n",
      "atdome: Adding all resources.\n",
      "atdometrajectory: Adding all resources.\n",
      "atcamera: Adding all resources.\n",
      "atspectrograph: Adding all resources.\n",
      "atheaderservice: Adding all resources.\n",
      "atarchiver: Adding all resources.\n",
      "Read historical data in 0.01 sec\n",
      "Read 1 history items for RemoteEvent(ATDomeTrajectory, 0, algorithm)\n",
      "Read 14 history items for RemoteEvent(ATDomeTrajectory, 0, appliedSettingsMatchStart)\n",
      "Read 1 history items for RemoteEvent(ATDomeTrajectory, 0, authList)\n",
      "Read 3 history items for RemoteEvent(ATDomeTrajectory, 0, followingMode)\n",
      "Read 100 history items for RemoteEvent(ATDomeTrajectory, 0, heartbeat)\n",
      "Read 1 history items for RemoteEvent(ATDomeTrajectory, 0, logLevel)\n",
      "Read 38 history items for RemoteEvent(ATDomeTrajectory, 0, logMessage)\n",
      "Read 1 history items for RemoteEvent(ATDomeTrajectory, 0, settingVersions)\n",
      "Read 1 history items for RemoteEvent(ATDomeTrajectory, 0, settingsApplied)\n",
      "Read 1 history items for RemoteEvent(ATDomeTrajectory, 0, simulationMode)\n",
      "Read 1 history items for RemoteEvent(ATDomeTrajectory, 0, softwareVersions)\n",
      "Read 61 history items for RemoteEvent(ATDomeTrajectory, 0, summaryState)\n",
      "Read historical data in 0.06 sec\n",
      "Read 14 history items for RemoteEvent(ATHexapod, 0, appliedSettingsMatchStart)\n",
      "Read 1 history items for RemoteEvent(ATHexapod, 0, authList)\n",
      "Read 100 history items for RemoteEvent(ATHexapod, 0, detailedState)\n",
      "Read 100 history items for RemoteEvent(ATHexapod, 0, heartbeat)\n",
      "Read 100 history items for RemoteEvent(ATHexapod, 0, inPosition)\n",
      "Read 1 history items for RemoteEvent(ATHexapod, 0, logLevel)\n",
      "Read 100 history items for RemoteEvent(ATHexapod, 0, logMessage)\n",
      "Read 100 history items for RemoteEvent(ATHexapod, 0, positionUpdate)\n",
      "Read 1 history items for RemoteEvent(ATHexapod, 0, readyForCommand)\n",
      "Read 1 history items for RemoteEvent(ATHexapod, 0, settingVersions)\n",
      "Read 1 history items for RemoteEvent(ATHexapod, 0, settingsApplied)\n",
      "Read 1 history items for RemoteEvent(ATHexapod, 0, settingsAppliedPivot)\n",
      "Read 1 history items for RemoteEvent(ATHexapod, 0, settingsAppliedPositionLimits)\n",
      "Read 1 history items for RemoteEvent(ATHexapod, 0, settingsAppliedTcp)\n",
      "Read 1 history items for RemoteEvent(ATHexapod, 0, settingsAppliedVelocities)\n",
      "Read 1 history items for RemoteEvent(ATHexapod, 0, simulationMode)\n",
      "Read 1 history items for RemoteEvent(ATHexapod, 0, softwareVersions)\n",
      "Read 55 history items for RemoteEvent(ATHexapod, 0, summaryState)\n",
      "Read historical data in 0.11 sec\n",
      "Read 18 history items for RemoteEvent(ATPneumatics, 0, appliedSettingsMatchStart)\n",
      "Read 22 history items for RemoteEvent(ATPneumatics, 0, cellVentsState)\n",
      "Read 7 history items for RemoteEvent(ATPneumatics, 0, eStop)\n",
      "Read 100 history items for RemoteEvent(ATPneumatics, 0, heartbeat)\n",
      "Read 19 history items for RemoteEvent(ATPneumatics, 0, instrumentState)\n",
      "Read 62 history items for RemoteEvent(ATPneumatics, 0, m1CoverLimitSwitches)\n",
      "Read 38 history items for RemoteEvent(ATPneumatics, 0, m1CoverState)\n",
      "Read 100 history items for RemoteEvent(ATPneumatics, 0, m1SetPressure)\n",
      "Read 21 history items for RemoteEvent(ATPneumatics, 0, m1State)\n",
      "Read 3 history items for RemoteEvent(ATPneumatics, 0, m1VentsLimitSwitches)\n",
      "Read 6 history items for RemoteEvent(ATPneumatics, 0, m1VentsPosition)\n",
      "Read 35 history items for RemoteEvent(ATPneumatics, 0, m2State)\n",
      "Read 19 history items for RemoteEvent(ATPneumatics, 0, mainValveState)\n",
      "Read 1 history items for RemoteEvent(ATPneumatics, 0, powerStatus)\n",
      "Read 18 history items for RemoteEvent(ATPneumatics, 0, settingVersions)\n",
      "Read 1 history items for RemoteEvent(ATPneumatics, 0, softwareVersions)\n",
      "Read 71 history items for RemoteEvent(ATPneumatics, 0, summaryState)\n",
      "Read historical data in 0.15 sec\n",
      "Read 4 history items for RemoteEvent(ATSpectrograph, 0, appliedSettingsMatchStart)\n",
      "Read 1 history items for RemoteEvent(ATSpectrograph, 0, authList)\n",
      "Read 100 history items for RemoteEvent(ATSpectrograph, 0, heartbeat)\n",
      "Read 8 history items for RemoteEvent(ATSpectrograph, 0, linearStageInPosition)\n",
      "Read 1 history items for RemoteEvent(ATSpectrograph, 0, logLevel)\n",
      "Read 5 history items for RemoteEvent(ATSpectrograph, 0, logMessage)\n",
      "Read 1 history items for RemoteEvent(ATSpectrograph, 0, lsState)\n",
      "Read 1 history items for RemoteEvent(ATSpectrograph, 0, reportedDisperserPosition)\n",
      "Read 1 history items for RemoteEvent(ATSpectrograph, 0, reportedFilterPosition)\n",
      "Read 4 history items for RemoteEvent(ATSpectrograph, 0, reportedLinearStagePosition)\n",
      "Read 1 history items for RemoteEvent(ATSpectrograph, 0, settingVersions)\n",
      "Read 1 history items for RemoteEvent(ATSpectrograph, 0, settingsApplied)\n",
      "Read 1 history items for RemoteEvent(ATSpectrograph, 0, settingsAppliedValues)\n",
      "Read 1 history items for RemoteEvent(ATSpectrograph, 0, simulationMode)\n",
      "Read 1 history items for RemoteEvent(ATSpectrograph, 0, softwareVersions)\n",
      "Read 15 history items for RemoteEvent(ATSpectrograph, 0, summaryState)\n",
      "Read historical data in 0.17 sec\n",
      "Read 1 history items for RemoteEvent(ATArchiver, 0, authList)\n",
      "Read 100 history items for RemoteEvent(ATArchiver, 0, heartbeat)\n",
      "Read 100 history items for RemoteEvent(ATArchiver, 0, imageInOODS)\n",
      "Read 100 history items for RemoteEvent(ATArchiver, 0, imageRetrievalForArchiving)\n",
      "Read 1 history items for RemoteEvent(ATArchiver, 0, logLevel)\n",
      "Read 1 history items for RemoteEvent(ATArchiver, 0, logMessage)\n",
      "Read 1 history items for RemoteEvent(ATArchiver, 0, simulationMode)\n",
      "Read 1 history items for RemoteEvent(ATArchiver, 0, softwareVersions)\n",
      "Read 27 history items for RemoteEvent(ATArchiver, 0, summaryState)\n",
      "Read historical data in 0.19 sec\n",
      "Read 15 history items for RemoteEvent(ATAOS, 0, appliedSettingsMatchStart)\n",
      "Read 100 history items for RemoteEvent(ATAOS, 0, atspectrographCorrectionCompleted)\n",
      "Read 100 history items for RemoteEvent(ATAOS, 0, atspectrographCorrectionStarted)\n",
      "Read 1 history items for RemoteEvent(ATAOS, 0, authList)\n",
      "Read 9 history items for RemoteEvent(ATAOS, 0, correctionEnabled)\n",
      "Read 100 history items for RemoteEvent(ATAOS, 0, correctionOffsets)\n",
      "Read 100 history items for RemoteEvent(ATAOS, 0, detailedState)\n",
      "Read 100 history items for RemoteEvent(ATAOS, 0, focusOffsetSummary)\n",
      "Read 100 history items for RemoteEvent(ATAOS, 0, heartbeat)\n",
      "Read 100 history items for RemoteEvent(ATAOS, 0, hexapodCorrectionCompleted)\n",
      "Read 100 history items for RemoteEvent(ATAOS, 0, hexapodCorrectionStarted)\n",
      "Read 1 history items for RemoteEvent(ATAOS, 0, logLevel)\n",
      "Read 100 history items for RemoteEvent(ATAOS, 0, logMessage)\n",
      "Read 100 history items for RemoteEvent(ATAOS, 0, m1CorrectionCompleted)\n",
      "Read 100 history items for RemoteEvent(ATAOS, 0, m1CorrectionStarted)\n",
      "Read 100 history items for RemoteEvent(ATAOS, 0, pointingOffsetSummary)\n",
      "Read 1 history items for RemoteEvent(ATAOS, 0, settingVersions)\n",
      "Read 1 history items for RemoteEvent(ATAOS, 0, settingsApplied)\n",
      "Read 1 history items for RemoteEvent(ATAOS, 0, simulationMode)\n",
      "Read 1 history items for RemoteEvent(ATAOS, 0, softwareVersions)\n",
      "Read 59 history items for RemoteEvent(ATAOS, 0, summaryState)\n",
      "Read historical data in 0.25 sec\n",
      "Read 1 history items for RemoteEvent(ATHeaderService, 0, authList)\n",
      "Read 100 history items for RemoteEvent(ATHeaderService, 0, heartbeat)\n",
      "Read 6 history items for RemoteEvent(ATHeaderService, 0, largeFileObjectAvailable)\n",
      "Read 1 history items for RemoteEvent(ATHeaderService, 0, logLevel)\n",
      "Read 100 history items for RemoteEvent(ATHeaderService, 0, logMessage)\n",
      "Read 1 history items for RemoteEvent(ATHeaderService, 0, simulationMode)\n",
      "Read 1 history items for RemoteEvent(ATHeaderService, 0, softwareVersions)\n",
      "Read 7 history items for RemoteEvent(ATHeaderService, 0, summaryState)\n",
      "Read historical data in 0.27 sec\n",
      "Read 100 history items for RemoteEvent(ATMCS, 0, allAxesInPosition)\n",
      "Read 19 history items for RemoteEvent(ATMCS, 0, appliedSettingsMatchStart)\n",
      "Read 100 history items for RemoteEvent(ATMCS, 0, atMountState)\n",
      "Read 39 history items for RemoteEvent(ATMCS, 0, azimuthBrake1)\n",
      "Read 39 history items for RemoteEvent(ATMCS, 0, azimuthBrake2)\n",
      "Read 39 history items for RemoteEvent(ATMCS, 0, azimuthDrive1Status)\n",
      "Read 39 history items for RemoteEvent(ATMCS, 0, azimuthDrive2Status)\n",
      "Read 100 history items for RemoteEvent(ATMCS, 0, azimuthInPosition)\n",
      "Read 1 history items for RemoteEvent(ATMCS, 0, azimuthLimitSwitchCCW)\n",
      "Read 1 history items for RemoteEvent(ATMCS, 0, azimuthLimitSwitchCW)\n",
      "Read 3 history items for RemoteEvent(ATMCS, 0, azimuthToppleBlockCCW)\n",
      "Read 4 history items for RemoteEvent(ATMCS, 0, azimuthToppleBlockCW)\n",
      "Read 38 history items for RemoteEvent(ATMCS, 0, elevationBrake)\n",
      "Read 38 history items for RemoteEvent(ATMCS, 0, elevationDriveStatus)\n",
      "Read 100 history items for RemoteEvent(ATMCS, 0, elevationInPosition)\n",
      "Read 5 history items for RemoteEvent(ATMCS, 0, elevationLimitSwitchLower)\n",
      "Read 1 history items for RemoteEvent(ATMCS, 0, elevationLimitSwitchUpper)\n",
      "Read 1 history items for RemoteEvent(ATMCS, 0, errorCode)\n",
      "Read 100 history items for RemoteEvent(ATMCS, 0, heartbeat)\n",
      "Read 11 history items for RemoteEvent(ATMCS, 0, m3DriveStatus)\n",
      "Read 8 history items for RemoteEvent(ATMCS, 0, m3InPosition)\n",
      "Read 4 history items for RemoteEvent(ATMCS, 0, m3PortSelected)\n",
      "Read 9 history items for RemoteEvent(ATMCS, 0, m3RotatorDetentSwitches)\n",
      "Read 6 history items for RemoteEvent(ATMCS, 0, m3RotatorLimitSwitchCCW)\n",
      "Read 1 history items for RemoteEvent(ATMCS, 0, m3RotatorLimitSwitchCW)\n",
      "Read 47 history items for RemoteEvent(ATMCS, 0, m3State)\n",
      "Read 39 history items for RemoteEvent(ATMCS, 0, nasmyth1Brake)\n",
      "Read 39 history items for RemoteEvent(ATMCS, 0, nasmyth1DriveStatus)\n",
      "Read 1 history items for RemoteEvent(ATMCS, 0, nasmyth1LimitSwitchCCW)\n",
      "Read 1 history items for RemoteEvent(ATMCS, 0, nasmyth1LimitSwitchCW)\n",
      "Read 100 history items for RemoteEvent(ATMCS, 0, nasmyth1RotatorInPosition)\n",
      "Read 39 history items for RemoteEvent(ATMCS, 0, nasmyth2Brake)\n",
      "Read 39 history items for RemoteEvent(ATMCS, 0, nasmyth2DriveStatus)\n",
      "Read 1 history items for RemoteEvent(ATMCS, 0, nasmyth2LimitSwitchCCW)\n",
      "Read 1 history items for RemoteEvent(ATMCS, 0, nasmyth2LimitSwitchCW)\n",
      "Read 100 history items for RemoteEvent(ATMCS, 0, nasmyth2RotatorInPosition)\n",
      "Read 19 history items for RemoteEvent(ATMCS, 0, positionLimits)\n",
      "Read 19 history items for RemoteEvent(ATMCS, 0, settingVersions)\n",
      "Read 1 history items for RemoteEvent(ATMCS, 0, softwareVersions)\n",
      "Read 75 history items for RemoteEvent(ATMCS, 0, summaryState)\n",
      "Read 100 history items for RemoteEvent(ATMCS, 0, target)\n",
      "Read historical data in 0.34 sec\n",
      "Read 1 history items for RemoteEvent(ATPtg, 0, airmassWarning)\n",
      "Read 1 history items for RemoteEvent(ATPtg, 0, azWrapWarning)\n",
      "Read 4 history items for RemoteEvent(ATPtg, 0, currentDebugLevel)\n",
      "Read 4 history items for RemoteEvent(ATPtg, 0, currentTarget)\n",
      "Read 8 history items for RemoteEvent(ATPtg, 0, detailedState)\n",
      "Read 1 history items for RemoteEvent(ATPtg, 0, elLimitWarning)\n",
      "Read 3 history items for RemoteEvent(ATPtg, 0, errorCode)\n",
      "Read 1 history items for RemoteEvent(ATPtg, 0, focusNameInconsistentWarning)\n",
      "Read 3 history items for RemoteEvent(ATPtg, 0, focusNameSelected)\n",
      "Read 100 history items for RemoteEvent(ATPtg, 0, heartbeat)\n",
      "Read 6 history items for RemoteEvent(ATPtg, 0, iers)\n",
      "Read 3 history items for RemoteEvent(ATPtg, 0, iersOutOfDate)\n",
      "Read 1 history items for RemoteEvent(ATPtg, 0, moonProximityWarning)\n",
      "Read 11 history items for RemoteEvent(ATPtg, 0, mountDataWarning)\n",
      "Read 1 history items for RemoteEvent(ATPtg, 0, objectSetWarning)\n",
      "Read 1 history items for RemoteEvent(ATPtg, 0, offsetSummary)\n",
      "Read 1 history items for RemoteEvent(ATPtg, 0, pointingFile)\n",
      "Read 3 history items for RemoteEvent(ATPtg, 0, pointingModel)\n",
      "Read 1 history items for RemoteEvent(ATPtg, 0, ptgAzCurrentWrap)\n",
      "Read 1 history items for RemoteEvent(ATPtg, 0, ptgRotCurrentWrap)\n",
      "Read 1 history items for RemoteEvent(ATPtg, 0, rotWrapWarning)\n",
      "Read 11 history items for RemoteEvent(ATPtg, 0, summaryState)\n",
      "Read 1 history items for RemoteEvent(ATPtg, 0, sunProximityWarning)\n",
      "Read 7 history items for RemoteEvent(ATPtg, 0, timesOfLimits)\n",
      "Read 8 history items for RemoteEvent(ATPtg, 0, trackPosting)\n",
      "Read 3 history items for RemoteEvent(ATPtg, 0, wavelength)\n",
      "Read 100 history items for RemoteEvent(ATPtg, 0, weatherDataApplied)\n",
      "Read 41 history items for RemoteEvent(ATPtg, 0, weatherDataInvalid)\n",
      "Read historical data in 0.39 sec\n",
      "Read 7 history items for RemoteEvent(ATCamera, 0, appliedSettingsMatchStart)\n",
      "Read 100 history items for RemoteEvent(ATCamera, 0, ccsCommandState)\n",
      "Read 100 history items for RemoteEvent(ATCamera, 0, endOfImageTelemetry)\n",
      "Read 100 history items for RemoteEvent(ATCamera, 0, endReadout)\n",
      "Read 100 history items for RemoteEvent(ATCamera, 0, endShutterClose)\n",
      "Read 100 history items for RemoteEvent(ATCamera, 0, endShutterOpen)\n",
      "Read 13 history items for RemoteEvent(ATCamera, 0, focalPlaneHardwareIdSettingsApplied)\n",
      "Read 13 history items for RemoteEvent(ATCamera, 0, focalPlaneSummaryInfo)\n",
      "Read 100 history items for RemoteEvent(ATCamera, 0, heartbeat)\n",
      "Read 100 history items for RemoteEvent(ATCamera, 0, imageReadinessDetailedState)\n",
      "Read 100 history items for RemoteEvent(ATCamera, 0, imageReadoutParameters)\n",
      "Read 2 history items for RemoteEvent(ATCamera, 0, offlineDetailedState)\n",
      "Read 100 history items for RemoteEvent(ATCamera, 0, raftsDetailedState)\n",
      "Read 7 history items for RemoteEvent(ATCamera, 0, settingVersions)\n",
      "Read 100 history items for RemoteEvent(ATCamera, 0, shutterDetailedState)\n",
      "Read 100 history items for RemoteEvent(ATCamera, 0, shutterMotionProfile)\n",
      "Read 7 history items for RemoteEvent(ATCamera, 0, softwareVersions)\n",
      "Read 100 history items for RemoteEvent(ATCamera, 0, startIntegration)\n",
      "Read 100 history items for RemoteEvent(ATCamera, 0, startReadout)\n",
      "Read 28 history items for RemoteEvent(ATCamera, 0, summaryState)\n",
      "Read historical data in 0.47 sec\n",
      "Read 1 history items for RemoteEvent(ATDome, 0, allAxesInPosition)\n",
      "Read 5 history items for RemoteEvent(ATDome, 0, appliedSettingsMatchStart)\n",
      "Read 1 history items for RemoteEvent(ATDome, 0, authList)\n",
      "Read 18 history items for RemoteEvent(ATDome, 0, azimuthCommandedState)\n",
      "Read 23 history items for RemoteEvent(ATDome, 0, azimuthInPosition)\n",
      "Read 33 history items for RemoteEvent(ATDome, 0, azimuthState)\n",
      "Read 100 history items for RemoteEvent(ATDome, 0, doorEncoderExtremes)\n",
      "Read 6 history items for RemoteEvent(ATDome, 0, dropoutDoorCommandedState)\n",
      "Read 1 history items for RemoteEvent(ATDome, 0, dropoutDoorState)\n",
      "Read 1 history items for RemoteEvent(ATDome, 0, emergencyStop)\n",
      "Read 100 history items for RemoteEvent(ATDome, 0, heartbeat)\n",
      "Read 13 history items for RemoteEvent(ATDome, 0, lastAzimuthGoTo)\n",
      "Read 1 history items for RemoteEvent(ATDome, 0, logLevel)\n",
      "Read 1 history items for RemoteEvent(ATDome, 0, logMessage)\n",
      "Read 7 history items for RemoteEvent(ATDome, 0, mainDoorCommandedState)\n",
      "Read 9 history items for RemoteEvent(ATDome, 0, mainDoorState)\n",
      "Read 35 history items for RemoteEvent(ATDome, 0, moveCode)\n",
      "Read 14 history items for RemoteEvent(ATDome, 0, scbLink)\n",
      "Read 1 history items for RemoteEvent(ATDome, 0, settingVersions)\n",
      "Read 1 history items for RemoteEvent(ATDome, 0, settingsApplied)\n",
      "Read 14 history items for RemoteEvent(ATDome, 0, settingsAppliedDomeController)\n",
      "Read 5 history items for RemoteEvent(ATDome, 0, settingsAppliedDomeTcp)\n",
      "Read 4 history items for RemoteEvent(ATDome, 0, shutterInPosition)\n",
      "Read 1 history items for RemoteEvent(ATDome, 0, simulationMode)\n",
      "Read 1 history items for RemoteEvent(ATDome, 0, softwareVersions)\n",
      "Read 19 history items for RemoteEvent(ATDome, 0, summaryState)\n",
      "positionStatus DDS read queue is filling: 16 of 100 elements\n",
      "mainAirSourcePressure DDS read queue is filling: 18 of 100 elements\n",
      "timeAndDate DDS read queue is full (100 elements); data may be lost\n",
      "position DDS read queue is filling: 66 of 100 elements\n",
      "m2AirPressure DDS read queue is filling: 19 of 100 elements\n"
     ]
    },
    {
     "data": {
      "text/plain": [
       "[[None, None, None, None, None, None, None], [None, None, None, None]]"
      ]
     },
     "execution_count": 4,
     "metadata": {},
     "output_type": "execute_result"
    },
    {
     "name": "stdout",
     "output_type": "stream",
     "text": [
      "trajectory DDS read queue is filling: 33 of 100 elements\n",
      "mountStatus DDS read queue is full (100 elements); data may be lost\n",
      "m1AirPressure DDS read queue is filling: 19 of 100 elements\n",
      "torqueDemand DDS read queue is filling: 33 of 100 elements\n",
      "mountPositions DDS read queue is filling: 26 of 100 elements\n",
      "loadCell DDS read queue is filling: 19 of 100 elements\n",
      "currentTargetStatus DDS read queue is full (100 elements); data may be lost\n",
      "nasymth_m3_mountMotorEncoders DDS read queue is filling: 33 of 100 elements\n",
      "mount_Nasmyth_Encoders DDS read queue is filling: 33 of 100 elements\n",
      "mount_AzEl_Encoders DDS read queue is filling: 33 of 100 elements\n",
      "mount_AzEl_Encoders python read queue is filling: 32 of 100 elements\n",
      "measuredTorque DDS read queue is filling: 33 of 100 elements\n",
      "measuredMotorVelocity DDS read queue is filling: 33 of 100 elements\n",
      "azEl_mountMotorEncoders DDS read queue is filling: 33 of 100 elements\n",
      "target DDS read queue is filling: 12 of 100 elements\n",
      "target python read queue is filling: 11 of 100 elements\n"
     ]
    }
   ],
   "source": [
    "#Start classes\n",
    "domain = salobj.Domain()\n",
    "await asyncio.sleep(10) # This can be removed in the future...\n",
    "atcs = ATCS(domain)\n",
    "latiss = LATISS(domain)\n",
    "await asyncio.gather(atcs.start_task, latiss.start_task)"
   ]
  },
  {
   "cell_type": "code",
   "execution_count": null,
   "metadata": {},
   "outputs": [],
   "source": [
    "# enable components\n",
    "#await atcs.enable({\"atdome\": \"current\", \"ataos\": \"current\", \"athexapod\": \"current\"})\n",
    "#await latiss.enable({\"atspectrograph\": \"current\"})"
   ]
  },
  {
   "cell_type": "code",
   "execution_count": null,
   "metadata": {},
   "outputs": [],
   "source": [
    "# If some components fail to enable, some set of commands like the ones below may be needed\n",
    "# await salobj.set_summary_state(atcs.rem.atdome, salobj.State.ENABLED, settingsToApply='current')\n",
    "# await latiss.rem.atarchiver.cmd_start.set_start(timeout=30)"
   ]
  },
  {
   "cell_type": "code",
   "execution_count": 5,
   "metadata": {},
   "outputs": [
    {
     "name": "stdout",
     "output_type": "stream",
     "text": [
      "Generating group_id\n",
      "imagetype: BIAS, skip TCS synchronization.\n",
      "BIAS 0001 - 0001\n"
     ]
    },
    {
     "data": {
      "text/plain": [
       "array([2021060800001])"
      ]
     },
     "execution_count": 5,
     "metadata": {},
     "output_type": "execute_result"
    }
   ],
   "source": [
    "# Take a bias to make sure everything is working\n",
    "await latiss.take_bias(1)"
   ]
  },
  {
   "cell_type": "code",
   "execution_count": 6,
   "metadata": {
    "collapsed": true,
    "jupyter": {
     "outputs_hidden": true
    }
   },
   "outputs": [
    {
     "name": "stdout",
     "output_type": "stream",
     "text": [
      "Generating group_id\n",
      "imagetype: BIAS, skip TCS synchronization.\n",
      "BIAS 0001 - 0001\n",
      "Generating group_id\n",
      "imagetype: BIAS, skip TCS synchronization.\n",
      "BIAS 0001 - 0001\n",
      "Generating group_id\n",
      "imagetype: BIAS, skip TCS synchronization.\n",
      "BIAS 0001 - 0001\n",
      "Generating group_id\n",
      "imagetype: BIAS, skip TCS synchronization.\n",
      "BIAS 0001 - 0001\n",
      "Generating group_id\n",
      "imagetype: BIAS, skip TCS synchronization.\n",
      "BIAS 0001 - 0001\n",
      "Generating group_id\n",
      "imagetype: BIAS, skip TCS synchronization.\n",
      "BIAS 0001 - 0001\n",
      "Generating group_id\n",
      "imagetype: BIAS, skip TCS synchronization.\n",
      "BIAS 0001 - 0001\n",
      "Generating group_id\n",
      "imagetype: BIAS, skip TCS synchronization.\n",
      "BIAS 0001 - 0001\n",
      "Generating group_id\n",
      "imagetype: BIAS, skip TCS synchronization.\n",
      "BIAS 0001 - 0001\n",
      "Generating group_id\n",
      "imagetype: BIAS, skip TCS synchronization.\n",
      "BIAS 0001 - 0001\n",
      "Generating group_id\n",
      "imagetype: BIAS, skip TCS synchronization.\n",
      "BIAS 0001 - 0001\n",
      "Generating group_id\n",
      "imagetype: BIAS, skip TCS synchronization.\n",
      "BIAS 0001 - 0001\n",
      "Generating group_id\n",
      "imagetype: BIAS, skip TCS synchronization.\n",
      "BIAS 0001 - 0001\n",
      "logMessage DDS read queue is filling: 35 of 100 elements\n",
      "Generating group_id\n",
      "imagetype: BIAS, skip TCS synchronization.\n",
      "BIAS 0001 - 0001\n",
      "Generating group_id\n",
      "imagetype: BIAS, skip TCS synchronization.\n",
      "BIAS 0001 - 0001\n",
      "Generating group_id\n",
      "imagetype: BIAS, skip TCS synchronization.\n",
      "BIAS 0001 - 0001\n",
      "Generating group_id\n",
      "imagetype: BIAS, skip TCS synchronization.\n",
      "BIAS 0001 - 0001\n",
      "logMessage DDS read queue is filling: 10 of 100 elements\n",
      "Generating group_id\n",
      "imagetype: BIAS, skip TCS synchronization.\n",
      "BIAS 0001 - 0001\n",
      "Generating group_id\n",
      "imagetype: BIAS, skip TCS synchronization.\n",
      "BIAS 0001 - 0001\n",
      "Generating group_id\n",
      "imagetype: BIAS, skip TCS synchronization.\n",
      "BIAS 0001 - 0001\n",
      "Generating group_id\n",
      "imagetype: BIAS, skip TCS synchronization.\n",
      "BIAS 0001 - 0001\n",
      "Generating group_id\n",
      "imagetype: BIAS, skip TCS synchronization.\n",
      "BIAS 0001 - 0001\n",
      "Generating group_id\n",
      "imagetype: BIAS, skip TCS synchronization.\n",
      "BIAS 0001 - 0001\n",
      "Generating group_id\n",
      "imagetype: BIAS, skip TCS synchronization.\n",
      "BIAS 0001 - 0001\n",
      "Generating group_id\n",
      "imagetype: BIAS, skip TCS synchronization.\n",
      "BIAS 0001 - 0001\n",
      "Generating group_id\n",
      "imagetype: BIAS, skip TCS synchronization.\n",
      "BIAS 0001 - 0001\n",
      "Generating group_id\n",
      "imagetype: BIAS, skip TCS synchronization.\n",
      "BIAS 0001 - 0001\n",
      "Generating group_id\n",
      "imagetype: BIAS, skip TCS synchronization.\n",
      "BIAS 0001 - 0001\n",
      "Generating group_id\n",
      "imagetype: BIAS, skip TCS synchronization.\n",
      "BIAS 0001 - 0001\n",
      "Generating group_id\n",
      "imagetype: BIAS, skip TCS synchronization.\n",
      "BIAS 0001 - 0001\n",
      "Generating group_id\n",
      "imagetype: BIAS, skip TCS synchronization.\n",
      "BIAS 0001 - 0001\n",
      "Generating group_id\n",
      "imagetype: BIAS, skip TCS synchronization.\n",
      "BIAS 0001 - 0001\n",
      "Generating group_id\n",
      "imagetype: BIAS, skip TCS synchronization.\n",
      "BIAS 0001 - 0001\n",
      "Generating group_id\n",
      "imagetype: BIAS, skip TCS synchronization.\n",
      "BIAS 0001 - 0001\n",
      "Generating group_id\n",
      "imagetype: BIAS, skip TCS synchronization.\n",
      "BIAS 0001 - 0001\n",
      "Generating group_id\n",
      "imagetype: BIAS, skip TCS synchronization.\n",
      "BIAS 0001 - 0001\n",
      "Generating group_id\n",
      "imagetype: BIAS, skip TCS synchronization.\n",
      "BIAS 0001 - 0001\n",
      "Generating group_id\n",
      "imagetype: BIAS, skip TCS synchronization.\n",
      "BIAS 0001 - 0001\n",
      "Generating group_id\n",
      "imagetype: BIAS, skip TCS synchronization.\n",
      "BIAS 0001 - 0001\n",
      "logMessage DDS read queue is filling: 13 of 100 elements\n",
      "Generating group_id\n",
      "imagetype: BIAS, skip TCS synchronization.\n",
      "BIAS 0001 - 0001\n",
      "Generating group_id\n",
      "imagetype: BIAS, skip TCS synchronization.\n",
      "BIAS 0001 - 0001\n",
      "Generating group_id\n",
      "imagetype: BIAS, skip TCS synchronization.\n",
      "BIAS 0001 - 0001\n",
      "logMessage DDS read queue is filling: 10 of 100 elements\n",
      "Generating group_id\n",
      "imagetype: BIAS, skip TCS synchronization.\n",
      "BIAS 0001 - 0001\n",
      "Generating group_id\n",
      "imagetype: BIAS, skip TCS synchronization.\n",
      "BIAS 0001 - 0001\n",
      "Generating group_id\n",
      "imagetype: BIAS, skip TCS synchronization.\n",
      "BIAS 0001 - 0001\n",
      "Generating group_id\n",
      "imagetype: BIAS, skip TCS synchronization.\n",
      "BIAS 0001 - 0001\n",
      "Generating group_id\n",
      "imagetype: BIAS, skip TCS synchronization.\n",
      "BIAS 0001 - 0001\n",
      "Generating group_id\n",
      "imagetype: BIAS, skip TCS synchronization.\n",
      "BIAS 0001 - 0001\n",
      "Generating group_id\n",
      "imagetype: BIAS, skip TCS synchronization.\n",
      "BIAS 0001 - 0001\n",
      "Generating group_id\n",
      "imagetype: BIAS, skip TCS synchronization.\n",
      "BIAS 0001 - 0001\n"
     ]
    }
   ],
   "source": [
    "# Take 50 biases seq # 002-051\n",
    "# Added wait to stop killing the recent images\n",
    "for i in range(50):\n",
    "    await asyncio.sleep(2.0)\n",
    "    await latiss.take_bias(1)"
   ]
  },
  {
   "cell_type": "code",
   "execution_count": 7,
   "metadata": {
    "collapsed": true,
    "jupyter": {
     "outputs_hidden": true
    }
   },
   "outputs": [
    {
     "name": "stdout",
     "output_type": "stream",
     "text": [
      "Generating group_id\n",
      "imagetype: DARK, skip TCS synchronization.\n",
      "DARK 0001 - 0010\n",
      "DARK 0002 - 0010\n",
      "DARK 0003 - 0010\n",
      "DARK 0004 - 0010\n",
      "DARK 0005 - 0010\n",
      "DARK 0006 - 0010\n",
      "DARK 0007 - 0010\n",
      "DARK 0008 - 0010\n",
      "DARK 0009 - 0010\n",
      "DARK 0010 - 0010\n"
     ]
    },
    {
     "data": {
      "text/plain": [
       "array([2021060800052, 2021060800053, 2021060800054, 2021060800055,\n",
       "       2021060800056, 2021060800057, 2021060800058, 2021060800059,\n",
       "       2021060800060, 2021060800061])"
      ]
     },
     "execution_count": 7,
     "metadata": {},
     "output_type": "execute_result"
    }
   ],
   "source": [
    "# Take 10 10 second darks 52-61\n",
    "await latiss.take_darks(10.0, 10)"
   ]
  },
  {
   "cell_type": "code",
   "execution_count": 44,
   "metadata": {},
   "outputs": [],
   "source": [
    "atcs.check.atdome = True\n",
    "atcs.check.atdometrajectory = True"
   ]
  },
  {
   "cell_type": "code",
   "execution_count": null,
   "metadata": {},
   "outputs": [],
   "source": [
    "await salobj.set_summary_state(atcs.rem.atdome, salobj.State.ENABLED, settingsToApply='current')"
   ]
  },
  {
   "cell_type": "code",
   "execution_count": 53,
   "metadata": {},
   "outputs": [
    {
     "data": {
      "text/plain": [
       "[<State.STANDBY: 5>, <State.DISABLED: 1>, <State.ENABLED: 2>]"
      ]
     },
     "execution_count": 53,
     "metadata": {},
     "output_type": "execute_result"
    },
    {
     "name": "stdout",
     "output_type": "stream",
     "text": [
      "logMessage DDS read queue is filling: 15 of 100 elements\n"
     ]
    }
   ],
   "source": [
    "await salobj.set_summary_state(atcs.rem.atptg, salobj.State.ENABLED)"
   ]
  },
  {
   "cell_type": "code",
   "execution_count": 36,
   "metadata": {
    "collapsed": true,
    "jupyter": {
     "outputs_hidden": true
    },
    "tags": []
   },
   "outputs": [
    {
     "name": "stdout",
     "output_type": "stream",
     "text": [
      "Enable dome trajectory following.\n",
      "Cover state <MirrorCoverState.OPENED: 7>\n",
      "M1 cover already opened.\n",
      "Sending command\n",
      "Stop tracking.\n",
      "Scheduling check coroutines\n",
      "process as completed...\n",
      "atmcs: <State.ENABLED: 2>\n",
      "atptg: <State.ENABLED: 2>\n",
      "ataos: <State.ENABLED: 2>\n",
      "atpneumatics: <State.ENABLED: 2>\n",
      "athexapod: <State.ENABLED: 2>\n",
      "[Telescope] delta Alt = -042.000 deg; delta Az= -000.300 deg; delta N1 = +000.000 deg; delta N2 = -024.000 deg \n",
      "[Telescope] delta Alt = -040.735 deg; delta Az= +000.001 deg; delta N1 = -000.000 deg; delta N2 = -023.676 deg \n",
      "[Telescope] delta Alt = -034.808 deg; delta Az= +000.001 deg; delta N1 = -000.000 deg; delta N2 = -021.490 deg \n",
      "[Telescope] delta Alt = -028.805 deg; delta Az= +000.000 deg; delta N1 = -000.000 deg; delta N2 = -017.033 deg \n",
      "[Telescope] delta Alt = -022.829 deg; delta Az= -000.000 deg; delta N1 = -000.000 deg; delta N2 = -011.214 deg \n",
      "[Telescope] delta Alt = -018.935 deg; delta Az= -000.000 deg; delta N1 = -000.000 deg; delta N2 = -007.358 deg \n",
      "[Telescope] delta Alt = -015.203 deg; delta Az= -000.000 deg; delta N1 = -000.000 deg; delta N2 = -004.060 deg \n",
      "[Telescope] delta Alt = -011.726 deg; delta Az= -000.000 deg; delta N1 = -000.000 deg; delta N2 = -001.695 deg \n",
      "[Telescope] delta Alt = -007.185 deg; delta Az= -000.000 deg; delta N1 = -000.000 deg; delta N2 = -000.403 deg \n",
      "[Telescope] delta Alt = -004.728 deg; delta Az= -000.000 deg; delta N1 = -000.000 deg; delta N2 = +000.001 deg \n",
      "[Telescope] delta Alt = -002.030 deg; delta Az= -000.000 deg; delta N1 = +000.000 deg; delta N2 = +000.001 deg \n",
      "[Telescope] delta Alt = -000.908 deg; delta Az= -000.000 deg; delta N1 = -000.000 deg; delta N2 = +000.000 deg \n",
      "[Telescope] delta Alt = -000.112 deg; delta Az= -000.000 deg; delta N1 = -000.000 deg; delta N2 = +000.000 deg \n",
      "Got True\n",
      "Waiting for telescope to settle.\n",
      "[Telescope] delta Alt = +000.000 deg; delta Az= -000.000 deg; delta N1 = +000.000 deg; delta N2 = -000.000 deg \n",
      "Axes in position.\n",
      "Stop tracking.\n",
      "Tracking state: <AtMountState.TRACKINGENABLED: 9>\n",
      "Tracking state: <AtMountState.STOPPING: 10>\n",
      "In Position: True.\n"
     ]
    },
    {
     "ename": "RuntimeError",
     "evalue": "ATDome is deactivated. Activate it by setting `check.atdome=True` before slewing.In some cases users deactivate a component on purpose.Make sure it is clear to operate the dome before doing so.",
     "output_type": "error",
     "traceback": [
      "\u001b[0;31m---------------------------------------------------------------------------\u001b[0m",
      "\u001b[0;31mRuntimeError\u001b[0m                              Traceback (most recent call last)",
      "\u001b[0;32m<ipython-input-36-69ad82099556>\u001b[0m in \u001b[0;36m<module>\u001b[0;34m\u001b[0m\n\u001b[0;32m----> 1\u001b[0;31m \u001b[0;32mawait\u001b[0m \u001b[0matcs\u001b[0m\u001b[0;34m.\u001b[0m\u001b[0mprepare_for_flatfield\u001b[0m\u001b[0;34m(\u001b[0m\u001b[0;34m)\u001b[0m\u001b[0;34m\u001b[0m\u001b[0;34m\u001b[0m\u001b[0m\n\u001b[0m",
      "\u001b[0;32m~/auto-op-env-packages/ts_observatory_control/python/lsst/ts/observatory/control/auxtel/atcs.py\u001b[0m in \u001b[0;36mprepare_for_flatfield\u001b[0;34m(self, check)\u001b[0m\n\u001b[1;32m    336\u001b[0m                 \u001b[0mself\u001b[0m\u001b[0;34m.\u001b[0m\u001b[0mlog\u001b[0m\u001b[0;34m.\u001b[0m\u001b[0mdebug\u001b[0m\u001b[0;34m(\u001b[0m\u001b[0;34m\"Timeout in stopping tracking. Continuing.\"\u001b[0m\u001b[0;34m)\u001b[0m\u001b[0;34m\u001b[0m\u001b[0;34m\u001b[0m\u001b[0m\n\u001b[1;32m    337\u001b[0m \u001b[0;34m\u001b[0m\u001b[0m\n\u001b[0;32m--> 338\u001b[0;31m             \u001b[0;32mawait\u001b[0m \u001b[0mself\u001b[0m\u001b[0;34m.\u001b[0m\u001b[0mslew_dome_to\u001b[0m\u001b[0;34m(\u001b[0m\u001b[0mself\u001b[0m\u001b[0;34m.\u001b[0m\u001b[0mdome_flat_az\u001b[0m\u001b[0;34m,\u001b[0m \u001b[0mcheck_ops\u001b[0m\u001b[0;34m)\u001b[0m\u001b[0;34m\u001b[0m\u001b[0;34m\u001b[0m\u001b[0m\n\u001b[0m\u001b[1;32m    339\u001b[0m         \u001b[0;32mfinally\u001b[0m\u001b[0;34m:\u001b[0m\u001b[0;34m\u001b[0m\u001b[0;34m\u001b[0m\u001b[0m\n\u001b[1;32m    340\u001b[0m             \u001b[0;31m# recover check\u001b[0m\u001b[0;34m\u001b[0m\u001b[0;34m\u001b[0m\u001b[0;34m\u001b[0m\u001b[0m\n",
      "\u001b[0;32m~/auto-op-env-packages/ts_observatory_control/python/lsst/ts/observatory/control/auxtel/atcs.py\u001b[0m in \u001b[0;36mslew_dome_to\u001b[0;34m(self, az, check)\u001b[0m\n\u001b[1;32m    263\u001b[0m \u001b[0;34m\u001b[0m\u001b[0m\n\u001b[1;32m    264\u001b[0m         \u001b[0;32mif\u001b[0m \u001b[0;32mnot\u001b[0m \u001b[0m_check\u001b[0m\u001b[0;34m.\u001b[0m\u001b[0matdome\u001b[0m\u001b[0;34m:\u001b[0m\u001b[0;34m\u001b[0m\u001b[0;34m\u001b[0m\u001b[0m\n\u001b[0;32m--> 265\u001b[0;31m             raise RuntimeError(\n\u001b[0m\u001b[1;32m    266\u001b[0m                 \u001b[0;34m\"ATDome is deactivated. Activate it by setting `check.atdome=True` before slewing.\"\u001b[0m\u001b[0;34m\u001b[0m\u001b[0;34m\u001b[0m\u001b[0m\n\u001b[1;32m    267\u001b[0m                 \u001b[0;34m\"In some cases users deactivate a component on purpose.\"\u001b[0m\u001b[0;34m\u001b[0m\u001b[0;34m\u001b[0m\u001b[0m\n",
      "\u001b[0;31mRuntimeError\u001b[0m: ATDome is deactivated. Activate it by setting `check.atdome=True` before slewing.In some cases users deactivate a component on purpose.Make sure it is clear to operate the dome before doing so."
     ]
    }
   ],
   "source": [
    "await atcs.prepare_for_flatfield()"
   ]
  },
  {
   "cell_type": "code",
   "execution_count": 41,
   "metadata": {},
   "outputs": [
    {
     "name": "stdout",
     "output_type": "stream",
     "text": [
      "Generating group_id\n",
      "imagetype: FLAT, skip TCS synchronization.\n",
      "FLAT 0001 - 0001\n"
     ]
    },
    {
     "data": {
      "text/plain": [
       "array([2021060800142])"
      ]
     },
     "execution_count": 41,
     "metadata": {},
     "output_type": "execute_result"
    }
   ],
   "source": [
    "# Take a test flat\n",
    "await latiss.take_flats(2.0, 1, filter='RG610', grating='empty_1')"
   ]
  },
  {
   "cell_type": "code",
   "execution_count": 34,
   "metadata": {
    "collapsed": true,
    "jupyter": {
     "outputs_hidden": true
    }
   },
   "outputs": [
    {
     "name": "stdout",
     "output_type": "stream",
     "text": [
      "Sending command\n",
      "Stop tracking.\n",
      "Tracking state: <AtMountState.TRACKINGENABLED: 9>\n",
      "Tracking state: <AtMountState.STOPPING: 10>\n",
      "In Position: True.\n",
      "Scheduling check coroutines\n",
      "process as completed...\n",
      "atmcs: <State.ENABLED: 2>\n",
      "atptg: <State.ENABLED: 2>\n",
      "ataos: <State.ENABLED: 2>\n",
      "atpneumatics: <State.ENABLED: 2>\n",
      "athexapod: <State.ENABLED: 2>\n",
      "[Telescope] delta Alt = +006.003 deg; delta Az= +000.000 deg; delta N1 = +000.000 deg; delta N2 = +000.000 deg \n",
      "[Telescope] delta Alt = +003.773 deg; delta Az= +000.000 deg; delta N1 = +000.000 deg; delta N2 = -000.000 deg \n",
      "[Telescope] delta Alt = +000.432 deg; delta Az= +000.000 deg; delta N1 = +000.000 deg; delta N2 = -000.000 deg \n",
      "Got True\n",
      "Waiting for telescope to settle.\n",
      "[Telescope] delta Alt = -000.000 deg; delta Az= +000.000 deg; delta N1 = -000.000 deg; delta N2 = -000.000 deg \n",
      "Telescope in position.\n"
     ]
    }
   ],
   "source": [
    "# Pointing to a given Az/El  This will not track\n",
    "az = 206.0\n",
    "el = 81.0\n",
    "rot = -86.0\n",
    "await atcs.point_azel(az, el, rot_tel=rot)"
   ]
  },
  {
   "cell_type": "code",
   "execution_count": 35,
   "metadata": {},
   "outputs": [
    {
     "name": "stdout",
     "output_type": "stream",
     "text": [
      "Stop tracking.\n",
      "Tracking state: <AtMountState.TRACKINGENABLED: 9>\n",
      "Tracking state: <AtMountState.STOPPING: 10>\n",
      "In Position: True.\n"
     ]
    }
   ],
   "source": [
    "await atcs.stop_tracking()"
   ]
  },
  {
   "cell_type": "code",
   "execution_count": 30,
   "metadata": {},
   "outputs": [
    {
     "data": {
      "text/plain": [
       "<ddsutil.ATMCS_ackcmd_563381bb at 0x7f8815dcbd30>"
      ]
     },
     "execution_count": 30,
     "metadata": {},
     "output_type": "execute_result"
    }
   ],
   "source": [
    "# port=1 - Nasmyth 1\n",
    "# port=2 - Nasmyth 2 \n",
    "await atcs.rem.atmcs.cmd_setInstrumentPort.set_start(port=2, timeout=30)"
   ]
  },
  {
   "cell_type": "code",
   "execution_count": 39,
   "metadata": {},
   "outputs": [
    {
     "name": "stdout",
     "output_type": "stream",
     "text": [
      "Generating group_id\n",
      "imagetype: FLAT, skip TCS synchronization.\n",
      "FLAT 0001 - 0010\n",
      "FLAT 0002 - 0010\n",
      "logMessage DDS read queue is filling: 31 of 100 elements\n",
      "FLAT 0003 - 0010\n",
      "FLAT 0004 - 0010\n",
      "FLAT 0005 - 0010\n",
      "FLAT 0006 - 0010\n",
      "FLAT 0007 - 0010\n",
      "FLAT 0008 - 0010\n",
      "FLAT 0009 - 0010\n",
      "FLAT 0010 - 0010\n"
     ]
    },
    {
     "data": {
      "text/plain": [
       "array([2021060800072, 2021060800073, 2021060800074, 2021060800075,\n",
       "       2021060800076, 2021060800077, 2021060800078, 2021060800079,\n",
       "       2021060800080, 2021060800081])"
      ]
     },
     "execution_count": 39,
     "metadata": {},
     "output_type": "execute_result"
    }
   ],
   "source": [
    "# Take 10 2 second flats 72-81\n",
    "await latiss.take_flats(2.0, 10, filter='RG610', grating='empty_1')"
   ]
  },
  {
   "cell_type": "code",
   "execution_count": 40,
   "metadata": {
    "collapsed": true,
    "jupyter": {
     "outputs_hidden": true
    }
   },
   "outputs": [
    {
     "name": "stdout",
     "output_type": "stream",
     "text": [
      "Generating group_id\n",
      "imagetype: FLAT, skip TCS synchronization.\n",
      "FLAT 0001 - 0001\n",
      "Generating group_id\n",
      "imagetype: FLAT, skip TCS synchronization.\n",
      "FLAT 0001 - 0001\n",
      "Generating group_id\n",
      "imagetype: FLAT, skip TCS synchronization.\n",
      "FLAT 0001 - 0001\n",
      "Generating group_id\n",
      "imagetype: FLAT, skip TCS synchronization.\n",
      "FLAT 0001 - 0001\n",
      "Generating group_id\n",
      "imagetype: FLAT, skip TCS synchronization.\n",
      "FLAT 0001 - 0001\n",
      "Generating group_id\n",
      "imagetype: FLAT, skip TCS synchronization.\n",
      "FLAT 0001 - 0001\n",
      "Generating group_id\n",
      "imagetype: FLAT, skip TCS synchronization.\n",
      "FLAT 0001 - 0001\n",
      "Generating group_id\n",
      "imagetype: FLAT, skip TCS synchronization.\n",
      "FLAT 0001 - 0001\n",
      "Generating group_id\n",
      "imagetype: FLAT, skip TCS synchronization.\n",
      "FLAT 0001 - 0001\n",
      "Generating group_id\n",
      "imagetype: FLAT, skip TCS synchronization.\n",
      "FLAT 0001 - 0001\n",
      "Generating group_id\n",
      "imagetype: FLAT, skip TCS synchronization.\n",
      "FLAT 0001 - 0001\n",
      "Generating group_id\n",
      "imagetype: FLAT, skip TCS synchronization.\n",
      "FLAT 0001 - 0001\n",
      "Generating group_id\n",
      "imagetype: FLAT, skip TCS synchronization.\n",
      "FLAT 0001 - 0001\n",
      "Generating group_id\n",
      "imagetype: FLAT, skip TCS synchronization.\n",
      "FLAT 0001 - 0001\n",
      "Generating group_id\n",
      "imagetype: FLAT, skip TCS synchronization.\n",
      "FLAT 0001 - 0001\n",
      "logMessage DDS read queue is filling: 14 of 100 elements\n",
      "Generating group_id\n",
      "imagetype: FLAT, skip TCS synchronization.\n",
      "FLAT 0001 - 0001\n",
      "Generating group_id\n",
      "imagetype: FLAT, skip TCS synchronization.\n",
      "FLAT 0001 - 0001\n",
      "Generating group_id\n",
      "imagetype: FLAT, skip TCS synchronization.\n",
      "FLAT 0001 - 0001\n",
      "Generating group_id\n",
      "imagetype: FLAT, skip TCS synchronization.\n",
      "FLAT 0001 - 0001\n",
      "Generating group_id\n",
      "imagetype: FLAT, skip TCS synchronization.\n",
      "FLAT 0001 - 0001\n",
      "Generating group_id\n",
      "imagetype: FLAT, skip TCS synchronization.\n",
      "FLAT 0001 - 0001\n",
      "Generating group_id\n",
      "imagetype: FLAT, skip TCS synchronization.\n",
      "FLAT 0001 - 0001\n",
      "Generating group_id\n",
      "imagetype: FLAT, skip TCS synchronization.\n",
      "FLAT 0001 - 0001\n",
      "Generating group_id\n",
      "imagetype: FLAT, skip TCS synchronization.\n",
      "FLAT 0001 - 0001\n",
      "Generating group_id\n",
      "imagetype: FLAT, skip TCS synchronization.\n",
      "FLAT 0001 - 0001\n",
      "Generating group_id\n",
      "imagetype: FLAT, skip TCS synchronization.\n",
      "FLAT 0001 - 0001\n",
      "Generating group_id\n",
      "imagetype: FLAT, skip TCS synchronization.\n",
      "FLAT 0001 - 0001\n",
      "Generating group_id\n",
      "imagetype: FLAT, skip TCS synchronization.\n",
      "FLAT 0001 - 0001\n",
      "Generating group_id\n",
      "imagetype: FLAT, skip TCS synchronization.\n",
      "FLAT 0001 - 0001\n",
      "Generating group_id\n",
      "imagetype: FLAT, skip TCS synchronization.\n",
      "FLAT 0001 - 0001\n",
      "Generating group_id\n",
      "imagetype: FLAT, skip TCS synchronization.\n",
      "FLAT 0001 - 0001\n",
      "Generating group_id\n",
      "imagetype: FLAT, skip TCS synchronization.\n",
      "FLAT 0001 - 0001\n",
      "Generating group_id\n",
      "imagetype: FLAT, skip TCS synchronization.\n",
      "FLAT 0001 - 0001\n",
      "Generating group_id\n",
      "imagetype: FLAT, skip TCS synchronization.\n",
      "FLAT 0001 - 0001\n",
      "Generating group_id\n",
      "imagetype: FLAT, skip TCS synchronization.\n",
      "FLAT 0001 - 0001\n",
      "Generating group_id\n",
      "imagetype: FLAT, skip TCS synchronization.\n",
      "FLAT 0001 - 0001\n",
      "Generating group_id\n",
      "imagetype: FLAT, skip TCS synchronization.\n",
      "FLAT 0001 - 0001\n",
      "Generating group_id\n",
      "imagetype: FLAT, skip TCS synchronization.\n",
      "FLAT 0001 - 0001\n",
      "Generating group_id\n",
      "imagetype: FLAT, skip TCS synchronization.\n",
      "FLAT 0001 - 0001\n",
      "Generating group_id\n",
      "imagetype: FLAT, skip TCS synchronization.\n",
      "FLAT 0001 - 0001\n",
      "Generating group_id\n",
      "imagetype: FLAT, skip TCS synchronization.\n",
      "FLAT 0001 - 0001\n",
      "Generating group_id\n",
      "imagetype: FLAT, skip TCS synchronization.\n",
      "FLAT 0001 - 0001\n",
      "Generating group_id\n",
      "imagetype: FLAT, skip TCS synchronization.\n",
      "FLAT 0001 - 0001\n",
      "Generating group_id\n",
      "imagetype: FLAT, skip TCS synchronization.\n",
      "FLAT 0001 - 0001\n",
      "Generating group_id\n",
      "imagetype: FLAT, skip TCS synchronization.\n",
      "FLAT 0001 - 0001\n",
      "Generating group_id\n",
      "imagetype: FLAT, skip TCS synchronization.\n",
      "FLAT 0001 - 0001\n",
      "Generating group_id\n",
      "imagetype: FLAT, skip TCS synchronization.\n",
      "FLAT 0001 - 0001\n",
      "Generating group_id\n",
      "imagetype: FLAT, skip TCS synchronization.\n",
      "FLAT 0001 - 0001\n",
      "Generating group_id\n",
      "imagetype: FLAT, skip TCS synchronization.\n",
      "FLAT 0001 - 0001\n",
      "Generating group_id\n",
      "imagetype: FLAT, skip TCS synchronization.\n",
      "FLAT 0001 - 0001\n",
      "Generating group_id\n",
      "imagetype: FLAT, skip TCS synchronization.\n",
      "FLAT 0001 - 0001\n",
      "Generating group_id\n",
      "imagetype: FLAT, skip TCS synchronization.\n",
      "FLAT 0001 - 0001\n",
      "Generating group_id\n",
      "imagetype: FLAT, skip TCS synchronization.\n",
      "FLAT 0001 - 0001\n",
      "Generating group_id\n",
      "imagetype: FLAT, skip TCS synchronization.\n",
      "FLAT 0001 - 0001\n",
      "Generating group_id\n",
      "imagetype: FLAT, skip TCS synchronization.\n",
      "FLAT 0001 - 0001\n",
      "Generating group_id\n",
      "imagetype: FLAT, skip TCS synchronization.\n",
      "FLAT 0001 - 0001\n",
      "Generating group_id\n",
      "imagetype: FLAT, skip TCS synchronization.\n",
      "FLAT 0001 - 0001\n",
      "Generating group_id\n",
      "imagetype: FLAT, skip TCS synchronization.\n",
      "FLAT 0001 - 0001\n",
      "Generating group_id\n",
      "imagetype: FLAT, skip TCS synchronization.\n",
      "FLAT 0001 - 0001\n",
      "Generating group_id\n",
      "imagetype: FLAT, skip TCS synchronization.\n",
      "FLAT 0001 - 0001\n"
     ]
    }
   ],
   "source": [
    "# Take flats for PTC 82-141\n",
    "# Added wait to stop killing the recent images\n",
    "for i in range(30):\n",
    "    exp = 0.2 * float(i+1)\n",
    "    await latiss.take_flats(exp, 1, filter='RG610', grating='empty_1')\n",
    "    if exp < 2.0:\n",
    "        await asyncio.sleep(2.0)\n",
    "    await latiss.take_flats(exp, 1, filter='RG610', grating='empty_1')\n"
   ]
  },
  {
   "cell_type": "code",
   "execution_count": 45,
   "metadata": {
    "collapsed": true,
    "jupyter": {
     "outputs_hidden": true
    }
   },
   "outputs": [
    {
     "name": "stdout",
     "output_type": "stream",
     "text": [
      "Enabling all components\n",
      "Gathering settings.\n",
      "Couldn't get settingVersions event. Using empty settings.\n",
      "Complete settings for atmcs.\n",
      "Complete settings for atptg.\n",
      "Complete settings for ataos.\n",
      "Complete settings for atpneumatics.\n",
      "Complete settings for athexapod.\n",
      "Complete settings for atdome.\n",
      "Complete settings for atdometrajectory.\n",
      "Settings versions: {'atmcs': '', 'atptg': '', 'ataos': 'current', 'atpneumatics': '', 'athexapod': 'current', 'atdome': 'current', 'atdometrajectory': ''}\n",
      "[atmcs]::[<State.ENABLED: 2>]\n",
      "[atptg]::[<State.ENABLED: 2>]\n",
      "[ataos]::[<State.ENABLED: 2>]\n",
      "[atpneumatics]::[<State.ENABLED: 2>]\n",
      "[athexapod]::[<State.ENABLED: 2>]\n",
      "[atdome]::[<State.ENABLED: 2>]\n",
      "[atdometrajectory]::[<State.ENABLED: 2>]\n",
      "All components in <State.ENABLED: 2>.\n",
      "Enable dome trajectory following.\n",
      "Slew telescope to park position.\n",
      "Sending command\n",
      "Stop tracking.\n",
      "Scheduling check coroutines\n",
      "process as completed...\n",
      "atmcs: <State.ENABLED: 2>\n",
      "atptg: <State.ENABLED: 2>\n",
      "ataos: <State.ENABLED: 2>\n",
      "atpneumatics: <State.ENABLED: 2>\n",
      "athexapod: <State.ENABLED: 2>\n",
      "Got True\n",
      "Waiting for telescope to settle.\n",
      "[Telescope] delta Alt = -000.001 deg; delta Az= -000.001 deg; delta N1 = +000.000 deg; delta N2 = -000.000 deg \n",
      "Axes in position.\n",
      "Stop tracking.\n",
      "Tracking state: <AtMountState.TRACKINGENABLED: 9>\n",
      "Tracking state: <AtMountState.STOPPING: 10>\n",
      "In Position: True.\n",
      "Cover state <MirrorCoverState.OPENED: 7>\n",
      "Closing M1 cover.\n",
      "Using nasmyth port <Foci.NASMYTH2: 3>\n",
      "Cover state <MirrorCoverState.INMOTION: 8>\n",
      "Cover state <MirrorCoverState.CLOSED: 6>\n",
      "Open telescope cover.\n",
      "Cover state <MirrorCoverState.CLOSED: 6>\n",
      "Opening M1 cover.\n",
      "Cover state <MirrorCoverState.INMOTION: 8>\n",
      "Cover state <MirrorCoverState.OPENED: 7>\n",
      "M1 vent state <VentsPosition.OPENED: 0>\n",
      "M1 vents already opened.\n",
      "Enable dome trajectory following.\n",
      "Enable ATAOS corrections.\n"
     ]
    }
   ],
   "source": [
    "# This moves everything to park position and opens the dome.  It takes 5+ minutes.\n",
    "await atcs.prepare_for_onsky()"
   ]
  },
  {
   "cell_type": "code",
   "execution_count": 46,
   "metadata": {},
   "outputs": [
    {
     "data": {
      "text/plain": [
       "<ddsutil.ATPneumatics_ackcmd_8e4519ae at 0x7f8815c676a0>"
      ]
     },
     "execution_count": 46,
     "metadata": {},
     "output_type": "execute_result"
    }
   ],
   "source": [
    "await atcs.rem.atpneumatics.cmd_closeM1Cover.start()"
   ]
  },
  {
   "cell_type": "code",
   "execution_count": 47,
   "metadata": {},
   "outputs": [
    {
     "name": "stdout",
     "output_type": "stream",
     "text": [
      "Dome azimuth still homing.\n",
      "Dome azimuth still homing.\n",
      "Dome azimuth still homing.\n",
      "Dome azimuth still homing.\n",
      "Dome azimuth still homing.\n",
      "Dome azimuth still homing.\n",
      "Dome azimuth homed successfully.\n"
     ]
    }
   ],
   "source": [
    "await atcs.home_dome()"
   ]
  },
  {
   "cell_type": "code",
   "execution_count": 49,
   "metadata": {},
   "outputs": [],
   "source": [
    "atcs.check.atdome = True\n",
    "atcs.check.atdometrajectory = True"
   ]
  },
  {
   "cell_type": "code",
   "execution_count": 50,
   "metadata": {
    "collapsed": true,
    "jupyter": {
     "outputs_hidden": true
    }
   },
   "outputs": [
    {
     "name": "stdout",
     "output_type": "stream",
     "text": [
      "Enable dome trajectory following.\n",
      "process as completed...\n",
      "atdometrajectory not in <State.DISABLED: 1>: <State.ENABLED: 2>\n"
     ]
    },
    {
     "ename": "RuntimeError",
     "evalue": "atdometrajectory state is <State.ENABLED: 2>, expected <State.DISABLED: 1>",
     "output_type": "error",
     "traceback": [
      "\u001b[0;31m---------------------------------------------------------------------------\u001b[0m",
      "\u001b[0;31mRuntimeError\u001b[0m                              Traceback (most recent call last)",
      "\u001b[0;32m<ipython-input-50-60f25c82c6a6>\u001b[0m in \u001b[0;36m<module>\u001b[0;34m\u001b[0m\n\u001b[0;32m----> 1\u001b[0;31m \u001b[0;32mawait\u001b[0m \u001b[0matcs\u001b[0m\u001b[0;34m.\u001b[0m\u001b[0mslew_dome_to\u001b[0m\u001b[0;34m(\u001b[0m\u001b[0maz\u001b[0m\u001b[0;34m=\u001b[0m\u001b[0;36m90.0\u001b[0m\u001b[0;34m)\u001b[0m\u001b[0;34m\u001b[0m\u001b[0;34m\u001b[0m\u001b[0m\n\u001b[0m",
      "\u001b[0;32m~/auto-op-env-packages/ts_observatory_control/python/lsst/ts/observatory/control/auxtel/atcs.py\u001b[0m in \u001b[0;36mslew_dome_to\u001b[0;34m(self, az, check)\u001b[0m\n\u001b[1;32m    292\u001b[0m         ]\n\u001b[1;32m    293\u001b[0m \u001b[0;34m\u001b[0m\u001b[0m\n\u001b[0;32m--> 294\u001b[0;31m         \u001b[0;32mawait\u001b[0m \u001b[0mself\u001b[0m\u001b[0;34m.\u001b[0m\u001b[0mprocess_as_completed\u001b[0m\u001b[0;34m(\u001b[0m\u001b[0mtask_list\u001b[0m\u001b[0;34m)\u001b[0m\u001b[0;34m\u001b[0m\u001b[0;34m\u001b[0m\u001b[0m\n\u001b[0m\u001b[1;32m    295\u001b[0m \u001b[0;34m\u001b[0m\u001b[0m\n\u001b[1;32m    296\u001b[0m     \u001b[0;32masync\u001b[0m \u001b[0;32mdef\u001b[0m \u001b[0mprepare_for_flatfield\u001b[0m\u001b[0;34m(\u001b[0m\u001b[0mself\u001b[0m\u001b[0;34m,\u001b[0m \u001b[0mcheck\u001b[0m\u001b[0;34m=\u001b[0m\u001b[0;32mNone\u001b[0m\u001b[0;34m)\u001b[0m\u001b[0;34m:\u001b[0m\u001b[0;34m\u001b[0m\u001b[0;34m\u001b[0m\u001b[0m\n",
      "\u001b[0;32m~/auto-op-env-packages/ts_observatory_control/python/lsst/ts/observatory/control/remote_group.py\u001b[0m in \u001b[0;36mprocess_as_completed\u001b[0;34m(self, tasks)\u001b[0m\n\u001b[1;32m    966\u001b[0m             \u001b[0;32mexcept\u001b[0m \u001b[0mException\u001b[0m \u001b[0;32mas\u001b[0m \u001b[0me\u001b[0m\u001b[0;34m:\u001b[0m\u001b[0;34m\u001b[0m\u001b[0;34m\u001b[0m\u001b[0m\n\u001b[1;32m    967\u001b[0m                 \u001b[0;32mawait\u001b[0m \u001b[0mself\u001b[0m\u001b[0;34m.\u001b[0m\u001b[0mcancel_not_done\u001b[0m\u001b[0;34m(\u001b[0m\u001b[0mtasks\u001b[0m\u001b[0;34m)\u001b[0m\u001b[0;34m\u001b[0m\u001b[0;34m\u001b[0m\u001b[0m\n\u001b[0;32m--> 968\u001b[0;31m                 \u001b[0;32mraise\u001b[0m \u001b[0me\u001b[0m\u001b[0;34m\u001b[0m\u001b[0;34m\u001b[0m\u001b[0m\n\u001b[0m\u001b[1;32m    969\u001b[0m             \u001b[0;32melse\u001b[0m\u001b[0;34m:\u001b[0m\u001b[0;34m\u001b[0m\u001b[0;34m\u001b[0m\u001b[0m\n\u001b[1;32m    970\u001b[0m                 \u001b[0;32mawait\u001b[0m \u001b[0mself\u001b[0m\u001b[0;34m.\u001b[0m\u001b[0mcancel_not_done\u001b[0m\u001b[0;34m(\u001b[0m\u001b[0mtasks\u001b[0m\u001b[0;34m)\u001b[0m\u001b[0;34m\u001b[0m\u001b[0;34m\u001b[0m\u001b[0m\n",
      "\u001b[0;32m~/auto-op-env-packages/ts_observatory_control/python/lsst/ts/observatory/control/remote_group.py\u001b[0m in \u001b[0;36mprocess_as_completed\u001b[0;34m(self, tasks)\u001b[0m\n\u001b[1;32m    963\u001b[0m         \u001b[0;32mfor\u001b[0m \u001b[0mres\u001b[0m \u001b[0;32min\u001b[0m \u001b[0masyncio\u001b[0m\u001b[0;34m.\u001b[0m\u001b[0mas_completed\u001b[0m\u001b[0;34m(\u001b[0m\u001b[0mtasks\u001b[0m\u001b[0;34m)\u001b[0m\u001b[0;34m:\u001b[0m\u001b[0;34m\u001b[0m\u001b[0;34m\u001b[0m\u001b[0m\n\u001b[1;32m    964\u001b[0m             \u001b[0;32mtry\u001b[0m\u001b[0;34m:\u001b[0m\u001b[0;34m\u001b[0m\u001b[0;34m\u001b[0m\u001b[0m\n\u001b[0;32m--> 965\u001b[0;31m                 \u001b[0mret_val\u001b[0m \u001b[0;34m=\u001b[0m \u001b[0;32mawait\u001b[0m \u001b[0mres\u001b[0m\u001b[0;34m\u001b[0m\u001b[0;34m\u001b[0m\u001b[0m\n\u001b[0m\u001b[1;32m    966\u001b[0m             \u001b[0;32mexcept\u001b[0m \u001b[0mException\u001b[0m \u001b[0;32mas\u001b[0m \u001b[0me\u001b[0m\u001b[0;34m:\u001b[0m\u001b[0;34m\u001b[0m\u001b[0;34m\u001b[0m\u001b[0m\n\u001b[1;32m    967\u001b[0m                 \u001b[0;32mawait\u001b[0m \u001b[0mself\u001b[0m\u001b[0;34m.\u001b[0m\u001b[0mcancel_not_done\u001b[0m\u001b[0;34m(\u001b[0m\u001b[0mtasks\u001b[0m\u001b[0;34m)\u001b[0m\u001b[0;34m\u001b[0m\u001b[0;34m\u001b[0m\u001b[0m\n",
      "\u001b[0;32m/opt/lsst/software/stack/conda/miniconda3-py38_4.9.2/envs/lsst-scipipe-0.6.0/lib/python3.8/asyncio/tasks.py\u001b[0m in \u001b[0;36m_wait_for_one\u001b[0;34m()\u001b[0m\n\u001b[1;32m    617\u001b[0m             \u001b[0;31m# Dummy value from _on_timeout().\u001b[0m\u001b[0;34m\u001b[0m\u001b[0;34m\u001b[0m\u001b[0;34m\u001b[0m\u001b[0m\n\u001b[1;32m    618\u001b[0m             \u001b[0;32mraise\u001b[0m \u001b[0mexceptions\u001b[0m\u001b[0;34m.\u001b[0m\u001b[0mTimeoutError\u001b[0m\u001b[0;34m\u001b[0m\u001b[0;34m\u001b[0m\u001b[0m\n\u001b[0;32m--> 619\u001b[0;31m         \u001b[0;32mreturn\u001b[0m \u001b[0mf\u001b[0m\u001b[0;34m.\u001b[0m\u001b[0mresult\u001b[0m\u001b[0;34m(\u001b[0m\u001b[0;34m)\u001b[0m  \u001b[0;31m# May raise f.exception().\u001b[0m\u001b[0;34m\u001b[0m\u001b[0;34m\u001b[0m\u001b[0m\n\u001b[0m\u001b[1;32m    620\u001b[0m \u001b[0;34m\u001b[0m\u001b[0m\n\u001b[1;32m    621\u001b[0m     \u001b[0;32mfor\u001b[0m \u001b[0mf\u001b[0m \u001b[0;32min\u001b[0m \u001b[0mtodo\u001b[0m\u001b[0;34m:\u001b[0m\u001b[0;34m\u001b[0m\u001b[0;34m\u001b[0m\u001b[0m\n",
      "\u001b[0;32m~/auto-op-env-packages/ts_observatory_control/python/lsst/ts/observatory/control/remote_group.py\u001b[0m in \u001b[0;36mcheck_component_state\u001b[0;34m(self, component, desired_state)\u001b[0m\n\u001b[1;32m    468\u001b[0m             \u001b[0;32mif\u001b[0m \u001b[0mstate\u001b[0m \u001b[0;34m!=\u001b[0m \u001b[0mdesired_state\u001b[0m\u001b[0;34m:\u001b[0m\u001b[0;34m\u001b[0m\u001b[0;34m\u001b[0m\u001b[0m\n\u001b[1;32m    469\u001b[0m                 \u001b[0mself\u001b[0m\u001b[0;34m.\u001b[0m\u001b[0mlog\u001b[0m\u001b[0;34m.\u001b[0m\u001b[0mwarning\u001b[0m\u001b[0;34m(\u001b[0m\u001b[0;34mf\"{component} not in {desired_state!r}: {state!r}\"\u001b[0m\u001b[0;34m)\u001b[0m\u001b[0;34m\u001b[0m\u001b[0;34m\u001b[0m\u001b[0m\n\u001b[0;32m--> 470\u001b[0;31m                 raise RuntimeError(\n\u001b[0m\u001b[1;32m    471\u001b[0m                     \u001b[0;34mf\"{component} state is {state!r}, expected {desired_state!r}\"\u001b[0m\u001b[0;34m\u001b[0m\u001b[0;34m\u001b[0m\u001b[0m\n\u001b[1;32m    472\u001b[0m                 )\n",
      "\u001b[0;31mRuntimeError\u001b[0m: atdometrajectory state is <State.ENABLED: 2>, expected <State.DISABLED: 1>"
     ]
    }
   ],
   "source": [
    "await atcs.slew_dome_to(az=90.0)"
   ]
  },
  {
   "cell_type": "code",
   "execution_count": 51,
   "metadata": {},
   "outputs": [
    {
     "name": "stdout",
     "output_type": "stream",
     "text": [
      "Opening dome shutter...\n",
      "process as completed...\n",
      "atdome: <State.ENABLED: 2>\n",
      "Waiting for ATDome mainDoorState: <ShutterDoorState.OPENED: 2>. Current state: <ShutterDoorState.CLOSED: 1>.\n",
      "mainDoorState: <ShutterDoorState.OPENING: 4>\n",
      "mainDoorState: <ShutterDoorState.OPENED: 2>\n",
      "Finishing ATDome shutter command task.\n",
      "ATDome shutter command task not done. Cancelling.\n",
      "ATDome shutter command task cancelled.\n",
      "logMessage DDS read queue is filling: 10 of 100 elements\n",
      "logMessage DDS read queue is filling: 11 of 100 elements\n"
     ]
    }
   ],
   "source": [
    "await atcs.open_dome_shutter()"
   ]
  },
  {
   "cell_type": "code",
   "execution_count": null,
   "metadata": {},
   "outputs": [],
   "source": [
    "await atcs.rem.atpneumatics.cmd_openM1CellVents.start()"
   ]
  },
  {
   "cell_type": "code",
   "execution_count": null,
   "metadata": {},
   "outputs": [],
   "source": [
    "# This Opens/Closes the dropout shutter\n",
    "# await atcs.rem.atdome.cmd_moveShutterDropoutDoor.set_start(open=False)"
   ]
  },
  {
   "cell_type": "code",
   "execution_count": null,
   "metadata": {},
   "outputs": [],
   "source": [
    "# This tunrs on ATAOS corrections and turns on the air pressure under the M1 mirror.\n",
    "await atcs.rem.ataos.cmd_enableCorrection.set_start(\n",
    "    m1=True, hexapod=True, atspectrograph=True, timeout=atcs.long_timeout\n",
    ")"
   ]
  },
  {
   "cell_type": "code",
   "execution_count": null,
   "metadata": {},
   "outputs": [],
   "source": [
    "await atcs.enable({\"atdome\": \"current\", \"ataos\": \"current\", \"athexapod\": \"current\"})"
   ]
  },
  {
   "cell_type": "code",
   "execution_count": null,
   "metadata": {},
   "outputs": [],
   "source": [
    "await atcs.rem.atdometrajectory.cmd_setFollowingMode.set_start(enable=True)"
   ]
  },
  {
   "cell_type": "code",
   "execution_count": null,
   "metadata": {},
   "outputs": [],
   "source": [
    "# Pointing to a given Az/El  This will not track\n",
    "await atcs.point_azel(az, el, rot_tel=rot)"
   ]
  },
  {
   "cell_type": "code",
   "execution_count": null,
   "metadata": {},
   "outputs": [],
   "source": [
    "# Pointing to a given RA/Dec  This will track\n",
    "await atcs.slew_icrs(ra=ra, dec=dec, rot=rot, rot_type=RotType.PhysicalSky)"
   ]
  },
  {
   "cell_type": "code",
   "execution_count": 60,
   "metadata": {
    "collapsed": true,
    "jupyter": {
     "outputs_hidden": true
    }
   },
   "outputs": [
    {
     "name": "stdout",
     "output_type": "stream",
     "text": [
      "Resetting dropped connection: simbad.u-strasbg.fr\n",
      "http://simbad.u-strasbg.fr:80 \"POST /simbad/sim-script HTTP/1.1\" 200 None\n",
      "Slewing to HD 187101: 19 51 23.6559 -58 30 35.538\n",
      "Setting rotator position with respect to parallactic angle to 0.0 deg.\n",
      "Parallactic angle: -64.28825482713914 | Sky Angle: 25.711745172860844\n",
      "Sending command\n",
      "Stop tracking.\n",
      "target python read queue is filling: 26 of 100 elements\n",
      "Tracking state: <AtMountState.TRACKINGENABLED: 9>\n",
      "Tracking state: <AtMountState.STOPPING: 10>\n",
      "In Position: True.\n",
      "Scheduling check coroutines\n",
      "process as completed...\n",
      "atmcs: <State.ENABLED: 2>\n",
      "atptg: <State.ENABLED: 2>\n",
      "ataos: <State.ENABLED: 2>\n",
      "atpneumatics: <State.ENABLED: 2>\n",
      "athexapod: <State.ENABLED: 2>\n",
      "atdome: <State.ENABLED: 2>\n",
      "atdometrajectory: <State.ENABLED: 2>\n",
      "[Telescope] delta Alt = +001.590 deg; delta Az = +011.869 deg; delta N1 = -000.000 deg; delta N2 = +002.018 deg [Dome] delta Az = +008.832 deg\n",
      "[Telescope] delta Alt = +000.916 deg; delta Az = +010.487 deg; delta N1 = -000.000 deg; delta N2 = +000.620 deg [Dome] delta Az = +007.072 deg\n",
      "[Telescope] delta Alt = +000.001 deg; delta Az = +005.224 deg; delta N1 = -000.000 deg; delta N2 = -000.001 deg [Dome] delta Az = +003.872 deg\n",
      "ATDome in position.\n",
      "[Telescope] delta Alt = +000.001 deg; delta Az = +000.688 deg; delta N1 = -000.000 deg; delta N2 = -000.003 deg [Dome] delta Az = +002.712 deg\n",
      "Got True\n",
      "Waiting for telescope to settle.\n",
      "[Telescope] delta Alt = +000.002 deg; delta Az = +000.001 deg; delta N1 = -000.000 deg; delta N2 = +000.000 deg [Dome] delta Az = +001.092 deg\n",
      "Axes in position.\n"
     ]
    }
   ],
   "source": [
    "# Slew to a given object and start tracking.\n",
    "await atcs.slew_object('HD 187101', rot_type=RotType.Parallactic)"
   ]
  },
  {
   "cell_type": "code",
   "execution_count": 57,
   "metadata": {},
   "outputs": [
    {
     "data": {
      "text/plain": [
       "[<ddsutil.ATSpectrograph_ackcmd_6d105732 at 0x7f887cbdbe80>,\n",
       " <ddsutil.ATSpectrograph_ackcmd_6d105732 at 0x7f87fc5a4520>]"
      ]
     },
     "execution_count": 57,
     "metadata": {},
     "output_type": "execute_result"
    }
   ],
   "source": [
    "# It is recommended to do this and wait several seconds for the spectrograph to settle\n",
    "# before taking an image\n",
    "await latiss.setup_atspec(filter='RG610', grating='empty_1')"
   ]
  },
  {
   "cell_type": "code",
   "execution_count": 66,
   "metadata": {
    "collapsed": true,
    "jupyter": {
     "outputs_hidden": true
    },
    "tags": []
   },
   "outputs": [
    {
     "name": "stdout",
     "output_type": "stream",
     "text": [
      "Generating group_id\n",
      "imagetype: OBJECT, TCS synchronization not configured.\n",
      "OBJECT 0001 - 0001\n"
     ]
    },
    {
     "data": {
      "text/plain": [
       "array([2021060800390])"
      ]
     },
     "execution_count": 66,
     "metadata": {},
     "output_type": "execute_result"
    },
    {
     "name": "stdout",
     "output_type": "stream",
     "text": [
      "logMessage DDS read queue is filling: 11 of 100 elements\n",
      "logMessage DDS read queue is filling: 10 of 100 elements\n",
      "logMessage DDS read queue is filling: 11 of 100 elements\n",
      "logMessage DDS read queue is filling: 12 of 100 elements\n",
      "logMessage DDS read queue is filling: 12 of 100 elements\n",
      "logMessage DDS read queue is filling: 11 of 100 elements\n",
      "logMessage DDS read queue is filling: 17 of 100 elements\n",
      "logMessage DDS read queue is filling: 14 of 100 elements\n"
     ]
    }
   ],
   "source": [
    "# Take 1 2 second image\n",
    "await latiss.take_object(30.0, 1, filter='RG610', grating='empty_1')"
   ]
  },
  {
   "cell_type": "code",
   "execution_count": null,
   "metadata": {},
   "outputs": [],
   "source": [
    "await atcs.rem.ataos.cmd_disableCorrection.set_start(atspectrograph=True)"
   ]
  },
  {
   "cell_type": "code",
   "execution_count": 54,
   "metadata": {
    "collapsed": true,
    "jupyter": {
     "outputs_hidden": true
    },
    "tags": []
   },
   "outputs": [
    {
     "name": "stdout",
     "output_type": "stream",
     "text": [
      "Total z offset = -0.2\n",
      "Generating group_id\n",
      "imagetype: OBJECT, TCS synchronization not configured.\n",
      "OBJECT 0001 - 0001\n",
      "Total z offset = -0.15000000000000002\n",
      "Generating group_id\n",
      "imagetype: OBJECT, TCS synchronization not configured.\n",
      "OBJECT 0001 - 0001\n",
      "Total z offset = -0.10000000000000002\n",
      "Generating group_id\n",
      "imagetype: OBJECT, TCS synchronization not configured.\n",
      "OBJECT 0001 - 0001\n",
      "Total z offset = -0.05000000000000002\n",
      "Generating group_id\n",
      "imagetype: OBJECT, TCS synchronization not configured.\n",
      "OBJECT 0001 - 0001\n",
      "Total z offset = -1.3877787807814457e-17\n",
      "Generating group_id\n",
      "imagetype: OBJECT, TCS synchronization not configured.\n",
      "OBJECT 0001 - 0001\n",
      "Total z offset = 0.04999999999999999\n",
      "Generating group_id\n",
      "imagetype: OBJECT, TCS synchronization not configured.\n",
      "OBJECT 0001 - 0001\n",
      "Total z offset = 0.09999999999999999\n",
      "Generating group_id\n",
      "imagetype: OBJECT, TCS synchronization not configured.\n",
      "OBJECT 0001 - 0001\n",
      "Total z offset = 0.15\n",
      "Generating group_id\n",
      "imagetype: OBJECT, TCS synchronization not configured.\n",
      "OBJECT 0001 - 0001\n",
      "Total z offset = 0.2\n",
      "Generating group_id\n",
      "imagetype: OBJECT, TCS synchronization not configured.\n",
      "OBJECT 0001 - 0001\n",
      "Total z offset = 0.25\n",
      "Total z offset = 0.0\n",
      "logMessage DDS read queue is filling: 16 of 100 elements\n",
      "logMessage DDS read queue is filling: 14 of 100 elements\n",
      "logMessage DDS read queue is filling: 15 of 100 elements\n",
      "logMessage DDS read queue is filling: 11 of 100 elements\n",
      "logMessage DDS read queue is filling: 11 of 100 elements\n",
      "logMessage DDS read queue is filling: 14 of 100 elements\n",
      "logMessage DDS read queue is filling: 10 of 100 elements\n"
     ]
    }
   ],
   "source": [
    "# This loop will take a set of images on both sides of current best focus\n",
    "# starts at starting_z_offset and runs to -starting_z_offset\n",
    "# then puts the z_offset back where it was.\n",
    "\n",
    "starting_z_offset = -0.20\n",
    "z_offset_increment = 0.05\n",
    "nsteps = int((-2 * starting_z_offset) / z_offset_increment) + 1\n",
    "total_z_offset = 0.0\n",
    "await atcs.rem.ataos.cmd_offset.set_start(z=starting_z_offset)\n",
    "total_z_offset += starting_z_offset\n",
    "print(f\"Total z offset = {total_z_offset}\")\n",
    "await asyncio.sleep(2)\n",
    "for i in range(nsteps):\n",
    "    await latiss.take_object(5.0, 1, filter='RG610', grating='holo4_003')\n",
    "    await atcs.rem.ataos.cmd_offset.set_start(z=z_offset_increment)\n",
    "    total_z_offset += z_offset_increment\n",
    "    print(f\"Total z offset = {total_z_offset}\")\n",
    "    \n",
    "# Put offset back where it was\n",
    "await atcs.rem.ataos.cmd_offset.set_start(z=-total_z_offset)\n",
    "total_z_offset -= total_z_offset\n",
    "print(f\"Total z offset = {total_z_offset}\")\n",
    "    "
   ]
  },
  {
   "cell_type": "code",
   "execution_count": null,
   "metadata": {},
   "outputs": [],
   "source": [
    "# This will put in a hexapod offset\n",
    "#await atcs.rem.ataos.cmd_offset.set_start(z=-0.095)"
   ]
  },
  {
   "cell_type": "code",
   "execution_count": null,
   "metadata": {},
   "outputs": [],
   "source": [
    "# To reset all hexapod offsets\n",
    "tmp = await atcs.rem.ataos.cmd_resetOffset.set_start(axis='y')"
   ]
  },
  {
   "cell_type": "code",
   "execution_count": 64,
   "metadata": {},
   "outputs": [
    {
     "name": "stdout",
     "output_type": "stream",
     "text": [
      "Calculating x/y offset: 0/-100 \n",
      "Applying Az/El offset: 99.99559130587656/0.9389991416958944 \n",
      "Telescope not in position.\n",
      "All axes in position.\n",
      "Waiting for telescope to settle.\n",
      "Done\n"
     ]
    }
   ],
   "source": [
    "# Move the star within the field\n",
    "# Offsets are in arcseconds.\n",
    "await atcs.offset_xy(y=-100, x=0, relative=True)"
   ]
  },
  {
   "cell_type": "code",
   "execution_count": null,
   "metadata": {},
   "outputs": [],
   "source": [
    "await latiss.take_object(5.0, 1, filter='RG610', grating='ronchi170lpmm')"
   ]
  },
  {
   "cell_type": "code",
   "execution_count": null,
   "metadata": {},
   "outputs": [],
   "source": [
    "atcs.offset_azel?"
   ]
  },
  {
   "cell_type": "code",
   "execution_count": null,
   "metadata": {},
   "outputs": [],
   "source": [
    "# Run a figure-8 of offsets\n",
    "offsets = [[0,0], [0,100], [100,0], [0,-100], [-100,0], [0,-100], [-100,0], [0,100], [100,0]]\n",
    "await latiss.setup_atspec(filter='RG610', grating='empty_1')\n",
    "await asyncio.sleep(2)\n",
    "for [xx, yy] in offsets:\n",
    "    await atcs.offset_azel(az=xx, el=yy, relative=True)\n",
    "    await asyncio.sleep(2)\n",
    "    await latiss.take_object(2.0, 1, filter='RG610', grating='empty_1')\n",
    "    await asyncio.sleep(2)\n",
    "    "
   ]
  },
  {
   "cell_type": "code",
   "execution_count": null,
   "metadata": {},
   "outputs": [],
   "source": [
    "# To enable or disable built-in offsets for the filters and gratings\n",
    "#await atcs.rem.ataos.cmd_disableCorrection.set_start(atspectrograph=True)\n",
    "#await atcs.rem.ataos.cmd_enableCorrection.set_start(atspectrograph=True)"
   ]
  },
  {
   "cell_type": "code",
   "execution_count": null,
   "metadata": {},
   "outputs": [],
   "source": [
    "# To stop tracking\n",
    "# await atcs.stop_tracking()"
   ]
  },
  {
   "cell_type": "code",
   "execution_count": null,
   "metadata": {},
   "outputs": [],
   "source": [
    "# If you are done, put things in standby, or shut things down completely\n",
    "#await atcs.standby()\n",
    "await atcs.shutdown()"
   ]
  },
  {
   "cell_type": "code",
   "execution_count": 67,
   "metadata": {},
   "outputs": [
    {
     "name": "stdout",
     "output_type": "stream",
     "text": [
      "[atcamera]::[<State.ENABLED: 2>, <State.DISABLED: 1>, <State.STANDBY: 5>]\n",
      "[atspectrograph]::[<State.ENABLED: 2>, <State.DISABLED: 1>, <State.STANDBY: 5>]\n",
      "[atheaderservice]::[<State.ENABLED: 2>, <State.DISABLED: 1>, <State.STANDBY: 5>]\n",
      "[atarchiver]::[<State.ENABLED: 2>, <State.DISABLED: 1>, <State.STANDBY: 5>]\n",
      "All components in <State.STANDBY: 5>.\n"
     ]
    }
   ],
   "source": [
    "# Putting everything back in standby.\n",
    "await latiss.standby()"
   ]
  },
  {
   "cell_type": "code",
   "execution_count": null,
   "metadata": {},
   "outputs": [],
   "source": []
  }
 ],
 "metadata": {
  "kernelspec": {
   "display_name": "LSST",
   "language": "python",
   "name": "lsst"
  },
  "language_info": {
   "codemirror_mode": {
    "name": "ipython",
    "version": 3
   },
   "file_extension": ".py",
   "mimetype": "text/x-python",
   "name": "python",
   "nbconvert_exporter": "python",
   "pygments_lexer": "ipython3",
   "version": "3.8.12"
  }
 },
 "nbformat": 4,
 "nbformat_minor": 4
}
