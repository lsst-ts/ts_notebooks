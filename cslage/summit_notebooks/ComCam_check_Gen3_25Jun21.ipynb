{
 "cells": [
  {
   "cell_type": "markdown",
   "metadata": {},
   "source": [
    "## Query header\n",
    "\n",
    "In this notebook, we show several ways to query the fits headers with Gen3\\\n",
    "Craig Lage - 03-Jun-21"
   ]
  },
  {
   "cell_type": "code",
   "execution_count": 1,
   "metadata": {},
   "outputs": [],
   "source": [
    "import numpy as np\n",
    "import matplotlib.pyplot as plt\n",
    "import astropy.io.fits as pf"
   ]
  },
  {
   "cell_type": "code",
   "execution_count": null,
   "metadata": {},
   "outputs": [],
   "source": []
  },
  {
   "cell_type": "code",
   "execution_count": null,
   "metadata": {},
   "outputs": [],
   "source": [
    "for [id,record] in exposureList:\n",
    "    print(record.id, record.observation_type, record.exposure_time, record.physical_filter, record.target_name)\n"
   ]
  },
  {
   "cell_type": "code",
   "execution_count": null,
   "metadata": {},
   "outputs": [],
   "source": [
    "exposureList[0][1]."
   ]
  },
  {
   "cell_type": "code",
   "execution_count": null,
   "metadata": {},
   "outputs": [],
   "source": [
    "exposureList[0][1].fields"
   ]
  },
  {
   "cell_type": "code",
   "execution_count": 5,
   "metadata": {},
   "outputs": [
    {
     "name": "stdout",
     "output_type": "stream",
     "text": [
      "2021062400001 bias 0.0 r_03\n",
      "2021062400002 bias 0.0 r_03\n",
      "2021062400003 bias 0.0 r_03\n",
      "2021062400004 bias 0.0 r_03\n",
      "2021062400005 bias 0.0 r_03\n",
      "2021062400006 bias 0.0 r_03\n",
      "2021062400007 bias 0.0 r_03\n",
      "2021062400008 bias 0.0 r_03\n",
      "2021062400009 bias 0.0 r_03\n",
      "2021062400010 bias 0.0 r_03\n",
      "2021062400011 bias 0.0 r_03\n",
      "2021062400012 bias 0.0 r_03\n",
      "2021062400013 bias 0.0 r_03\n",
      "2021062400014 bias 0.0 r_03\n",
      "2021062400015 bias 0.0 r_03\n",
      "2021062400016 bias 0.0 r_03\n",
      "2021062400017 bias 0.0 r_03\n",
      "2021062400018 dark 100.0 r_03\n",
      "2021062400019 dark 100.0 r_03\n",
      "2021062400020 dark 100.0 r_03\n",
      "2021062400021 dark 100.0 r_03\n",
      " \t expId 2021062400021 is missing 3 files.\n",
      "2021062400022 dark 100.0 r_03\n",
      " \t expId 2021062400022 is missing 3 files.\n",
      "2021062400023 dark 100.0 r_03\n",
      " \t expId 2021062400023 is missing 6 files.\n",
      "2021062400024 dark 100.0 r_03\n",
      "2021062400025 dark 100.0 r_03\n",
      "2021062400026 dark 100.0 r_03\n",
      " \t expId 2021062400026 is missing 3 files.\n",
      "2021062400027 dark 100.0 r_03\n",
      "2021062400028 flat 5.0 r_03\n",
      "2021062400029 flat 5.0 r_03\n",
      " \t expId 2021062400029 is missing 3 files.\n",
      "2021062400030 flat 5.0 r_03\n",
      "2021062400031 flat 5.0 r_03\n",
      "2021062400032 flat 5.0 r_03\n",
      "2021062400033 flat 5.0 r_03\n",
      " \t expId 2021062400033 is missing 3 files.\n",
      "2021062400034 flat 5.0 r_03\n",
      " \t expId 2021062400034 is missing 3 files.\n",
      "2021062400035 flat 5.0 r_03\n",
      " \t expId 2021062400035 is missing 3 files.\n",
      "2021062400036 flat 5.0 r_03\n",
      " \t expId 2021062400036 is missing 3 files.\n",
      "2021062400037 flat 5.0 r_03\n",
      " \t expId 2021062400037 is missing 6 files.\n",
      "2021062400038 flat 15.0 i_06\n",
      " \t expId 2021062400038 is missing 3 files.\n",
      "2021062400039 flat 15.0 i_06\n",
      " \t expId 2021062400039 is missing 3 files.\n",
      "2021062400040 flat 15.0 i_06\n",
      " \t expId 2021062400040 is missing 3 files.\n",
      "2021062400041 flat 15.0 i_06\n",
      "2021062400042 flat 15.0 i_06\n",
      "2021062400043 flat 15.0 i_06\n",
      "2021062400044 flat 15.0 i_06\n",
      " \t expId 2021062400044 is missing 6 files.\n",
      "2021062400045 flat 15.0 i_06\n",
      "2021062400046 flat 15.0 i_06\n",
      " \t expId 2021062400046 is missing 3 files.\n",
      "2021062400047 flat 15.0 i_06\n",
      "2021062400048 flat 5.0 g_07\n",
      " \t expId 2021062400048 is missing 6 files.\n",
      "2021062400049 flat 5.0 g_07\n",
      " \t expId 2021062400049 is missing 3 files.\n",
      "2021062400050 flat 5.0 g_07\n",
      "2021062400051 flat 5.0 g_07\n",
      " \t expId 2021062400051 is missing 3 files.\n",
      "2021062400052 flat 5.0 g_07\n",
      " \t expId 2021062400052 is missing 3 files.\n",
      "2021062400053 flat 5.0 g_07\n",
      "2021062400054 flat 5.0 g_07\n",
      "2021062400055 flat 5.0 g_07\n",
      "2021062400056 flat 5.0 g_07\n",
      " \t expId 2021062400056 is missing 6 files.\n",
      "2021062400057 flat 5.0 g_07\n",
      " \t Total of 75 exposures missing\n"
     ]
    }
   ],
   "source": [
    "from lsst.daf.butler import Butler\n",
    "butler = Butler('/repo/LSSTComCam', collections=\"LSSTComCam/raw/all\")\n",
    "dayObs = 20210624\n",
    "exposureList = []\n",
    "for record in butler.registry.queryDimensionRecords(\"exposure\", where=\"exposure.day_obs=%d\"%dayObs):\n",
    "    exposureList.append([record.id, record])\n",
    "exposureList.sort(key=lambda x: x[0])\n",
    "\n",
    "nTot=0\n",
    "for [expId,record] in exposureList:\n",
    "    print(record.id, record.observation_type, record.exposure_time, record.physical_filter)\n",
    "    nExp = 0\n",
    "    for detector in range(9):\n",
    "        try:\n",
    "            mData = butler.get('raw.metadata', detector=detector, exposure=expId)\n",
    "        except:\n",
    "            nTot += 1\n",
    "            nExp += 1\n",
    "            #print(f\"Detector {detector} from expId {expId} missing\")\n",
    "    if nExp != 0:\n",
    "        print(f\" \\t expId {expId} is missing {nExp} files.\")\n",
    "print(f\" \\t Total of {nTot} exposures missing\")"
   ]
  }
 ],
 "metadata": {
  "kernelspec": {
   "display_name": "LSST",
   "language": "python",
   "name": "lsst"
  },
  "language_info": {
   "codemirror_mode": {
    "name": "ipython",
    "version": 3
   },
   "file_extension": ".py",
   "mimetype": "text/x-python",
   "name": "python",
   "nbconvert_exporter": "python",
   "pygments_lexer": "ipython3",
   "version": "3.8.8"
  }
 },
 "nbformat": 4,
 "nbformat_minor": 4
}
