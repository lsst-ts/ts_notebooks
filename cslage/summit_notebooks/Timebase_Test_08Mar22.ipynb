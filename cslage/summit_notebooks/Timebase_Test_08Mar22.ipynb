{
 "cells": [
  {
   "cell_type": "markdown",
   "id": "29359cb1-7dd8-41c5-8439-8d6367221141",
   "metadata": {},
   "source": [
    "## Timebase testing - Summit\n",
    "\n",
    "Craig Lage - Mar 8, 2022"
   ]
  },
  {
   "cell_type": "code",
   "execution_count": 1,
   "id": "f4712f59-3f3c-4905-b237-d6b91f713906",
   "metadata": {},
   "outputs": [],
   "source": [
    "import pandas as pd\n",
    "from astropy.time import Time, TimeDelta\n",
    "from lsst_efd_client import EfdClient"
   ]
  },
  {
   "cell_type": "code",
   "execution_count": 2,
   "id": "7b5d655b-17af-4a12-bd68-542e6cf528af",
   "metadata": {},
   "outputs": [],
   "source": [
    "client = EfdClient('summit_efd')"
   ]
  },
  {
   "cell_type": "code",
   "execution_count": 4,
   "id": "d4ead3d5-8566-40cf-ab93-6444e2104e3c",
   "metadata": {},
   "outputs": [
    {
     "name": "stdout",
     "output_type": "stream",
     "text": [
      "tstart=2022-03-08T14:12:58.283, tend=2022-03-08T14:13:03.523\n",
      "az_start=2022-03-08 14:13:04.698302031, az_end=2022-03-08 14:13:09.688325882\n",
      "az0_start=2022-03-08 14:12:58.518000+00:00, az0_end=2022-03-08 14:13:02.543000+00:00\n",
      "crio_start=2022-03-08 14:12:58.518000+00:00, crio_end=2022-03-08 14:13:02.543000+00:00\n",
      "tstart-az[0] = -6.42 seconds\n",
      "tstart-az0[0] = -0.24 seconds\n",
      "tstart-crio[0] = -0.24 seconds\n",
      "az0[0]-az[0] = -6.18 seconds\n",
      "az0[0]-crio[0] = 0.00 seconds\n"
     ]
    }
   ],
   "source": [
    "tstart = Time(\"2022-03-08T14:12:58.283Z\", scale='utc')\n",
    "tend = Time(\"2022-03-08T14:13:03.523Z\", scale='utc')\n",
    "\n",
    "print(f\"tstart={tstart}, tend={tend}\")\n",
    "\n",
    "az = await client.select_packed_time_series('lsst.sal.ATMCS.mount_AzEl_Encoders', \\\n",
    "                                            'azimuthCalculatedAngle', tstart, tend)\n",
    "az0 = await client.select_time_series('lsst.sal.ATMCS.mount_AzEl_Encoders', \\\n",
    "                                            'azimuthCalculatedAngle0', tstart, tend)\n",
    "crio = await client.select_time_series('lsst.sal.ATMCS.mount_AzEl_Encoders', \\\n",
    "                                            'cRIO_timestamp', tstart, tend)\n",
    "print(f\"az_start={az.index[0]}, az_end={az.index[-1]}\")\n",
    "print(f\"az0_start={az0.index[0]}, az0_end={az0.index[-1]}\")\n",
    "print(f\"crio_start={crio.index[0]}, crio_end={crio.index[-1]}\")\n",
    "offset1 = (tstart.jd - az.index[0].to_julian_date()) * 86400.0\n",
    "offset2 = (tstart.jd - az0.index[0].to_julian_date()) * 86400.0\n",
    "offset3 = (tstart.jd - crio.index[0].to_julian_date()) * 86400.0\n",
    "offset4 = (az0.index[0].to_julian_date() - az.index[0].to_julian_date()) * 86400.0\n",
    "offset5 = (az0.index[0].to_julian_date() - crio.index[0].to_julian_date()) * 86400.0\n",
    "\n",
    "print(f\"tstart-az[0] = {offset1:.2f} seconds\") \n",
    "print(f\"tstart-az0[0] = {offset2:.2f} seconds\") \n",
    "print(f\"tstart-crio[0] = {offset3:.2f} seconds\") \n",
    "print(f\"az0[0]-az[0] = {offset4:.2f} seconds\") \n",
    "print(f\"az0[0]-crio[0] = {offset5:.2f} seconds\") "
   ]
  },
  {
   "cell_type": "code",
   "execution_count": null,
   "id": "cdecd7ff-23b4-4569-974d-8a62a96b64a7",
   "metadata": {
    "tags": []
   },
   "outputs": [],
   "source": [
    "await client.get_topics()"
   ]
  },
  {
   "cell_type": "code",
   "execution_count": null,
   "id": "a7d9a42a-9dd6-4ffd-a5e5-2d02f41afab5",
   "metadata": {
    "tags": []
   },
   "outputs": [],
   "source": [
    "await client.get_fields('lsst.sal.ATMCS.mount_AzEl_Encoders')"
   ]
  },
  {
   "cell_type": "code",
   "execution_count": null,
   "id": "8a6e1ee4-0269-4577-a6fb-e46de0e7ca38",
   "metadata": {},
   "outputs": [],
   "source": []
  }
 ],
 "metadata": {
  "kernelspec": {
   "display_name": "LSST",
   "language": "python",
   "name": "lsst"
  },
  "language_info": {
   "codemirror_mode": {
    "name": "ipython",
    "version": 3
   },
   "file_extension": ".py",
   "mimetype": "text/x-python",
   "name": "python",
   "nbconvert_exporter": "python",
   "pygments_lexer": "ipython3",
   "version": "3.8.12"
  }
 },
 "nbformat": 4,
 "nbformat_minor": 5
}
