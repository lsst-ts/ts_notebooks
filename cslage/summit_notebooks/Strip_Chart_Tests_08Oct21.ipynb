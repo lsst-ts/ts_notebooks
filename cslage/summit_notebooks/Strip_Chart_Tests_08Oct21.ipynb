{
 "cells": [
  {
   "cell_type": "markdown",
   "metadata": {},
   "source": [
    "# Strip Chart Testing"
   ]
  },
  {
   "cell_type": "markdown",
   "metadata": {},
   "source": [
    "This notebook is used for testing the strip chart mode on  Auxiliary Telescope.\n",
    "\n",
    "Craig Lage - 02-Jul-21"
   ]
  },
  {
   "cell_type": "code",
   "execution_count": 1,
   "metadata": {},
   "outputs": [],
   "source": [
    "import sys\n",
    "import asyncio\n",
    "import time\n",
    "import os\n",
    "import numpy as np\n",
    "from astropy.time import Time, TimeDelta\n",
    "from lsst.ts import salobj\n",
    "from lsst.ts.observatory.control.auxtel.latiss import LATISS"
   ]
  },
  {
   "cell_type": "code",
   "execution_count": 2,
   "metadata": {},
   "outputs": [],
   "source": [
    "# for tab completion to work in current notebook instance\n",
    "%config IPCompleter.use_jedi = False"
   ]
  },
  {
   "cell_type": "code",
   "execution_count": 3,
   "metadata": {},
   "outputs": [],
   "source": [
    "import logging\n",
    "stream_handler = logging.StreamHandler(sys.stdout)\n",
    "logger = logging.getLogger()\n",
    "logger.addHandler(stream_handler)\n",
    "logger.level = logging.DEBUG\n",
    "# Make matplotlib less chatty\n",
    "logging.getLogger(\"matplotlib\").setLevel(logging.WARNING)"
   ]
  },
  {
   "cell_type": "code",
   "execution_count": 5,
   "metadata": {
    "collapsed": true,
    "jupyter": {
     "outputs_hidden": true
    }
   },
   "outputs": [
    {
     "name": "stdout",
     "output_type": "stream",
     "text": [
      "atcamera: Adding all resources.\n",
      "atspectrograph: Adding all resources.\n",
      "atheaderservice: Adding all resources.\n",
      "atarchiver: Adding all resources.\n",
      "Read historical data in 0.01 sec\n",
      "Read 1 history items for RemoteEvent(ATHeaderService, 0, authList)\n",
      "Read 100 history items for RemoteEvent(ATHeaderService, 0, heartbeat)\n",
      "Read 100 history items for RemoteEvent(ATHeaderService, 0, largeFileObjectAvailable)\n",
      "Read 1 history items for RemoteEvent(ATHeaderService, 0, logLevel)\n",
      "Read 100 history items for RemoteEvent(ATHeaderService, 0, logMessage)\n",
      "Read 1 history items for RemoteEvent(ATHeaderService, 0, simulationMode)\n",
      "Read 1 history items for RemoteEvent(ATHeaderService, 0, softwareVersions)\n",
      "Read 45 history items for RemoteEvent(ATHeaderService, 0, summaryState)\n",
      "Read historical data in 0.18 sec\n",
      "Read 11 history items for RemoteEvent(ATSpectrograph, 0, appliedSettingsMatchStart)\n",
      "Read 1 history items for RemoteEvent(ATSpectrograph, 0, authList)\n",
      "Read 100 history items for RemoteEvent(ATSpectrograph, 0, disperserInPosition)\n",
      "Read 100 history items for RemoteEvent(ATSpectrograph, 0, filterInPosition)\n",
      "Read 100 history items for RemoteEvent(ATSpectrograph, 0, fwState)\n",
      "Read 100 history items for RemoteEvent(ATSpectrograph, 0, gwState)\n",
      "Read 100 history items for RemoteEvent(ATSpectrograph, 0, heartbeat)\n",
      "Read 1 history items for RemoteEvent(ATSpectrograph, 0, logLevel)\n",
      "Read 1 history items for RemoteEvent(ATSpectrograph, 0, logMessage)\n",
      "Read 11 history items for RemoteEvent(ATSpectrograph, 0, lsState)\n",
      "Read 100 history items for RemoteEvent(ATSpectrograph, 0, reportedDisperserPosition)\n",
      "Read 100 history items for RemoteEvent(ATSpectrograph, 0, reportedFilterPosition)\n",
      "Read 1 history items for RemoteEvent(ATSpectrograph, 0, reportedLinearStagePosition)\n",
      "Read 4 history items for RemoteEvent(ATSpectrograph, 0, settingVersions)\n",
      "Read 3 history items for RemoteEvent(ATSpectrograph, 0, settingsApplied)\n",
      "Read 3 history items for RemoteEvent(ATSpectrograph, 0, settingsAppliedValues)\n",
      "Read 1 history items for RemoteEvent(ATSpectrograph, 0, simulationMode)\n",
      "Read 1 history items for RemoteEvent(ATSpectrograph, 0, softwareVersions)\n",
      "Read 45 history items for RemoteEvent(ATSpectrograph, 0, summaryState)\n",
      "Read historical data in 0.39 sec\n",
      "Read 3 history items for RemoteEvent(ATCamera, 0, appliedSettingsMatchStart)\n",
      "Read 24 history items for RemoteEvent(ATCamera, 0, calibrationDetailedState)\n",
      "Read 100 history items for RemoteEvent(ATCamera, 0, ccsCommandState)\n",
      "Read 100 history items for RemoteEvent(ATCamera, 0, endOfImageTelemetry)\n",
      "Read 100 history items for RemoteEvent(ATCamera, 0, endReadout)\n",
      "Read 100 history items for RemoteEvent(ATCamera, 0, endShutterClose)\n",
      "Read 100 history items for RemoteEvent(ATCamera, 0, endShutterOpen)\n",
      "Read 3 history items for RemoteEvent(ATCamera, 0, focalPlaneHardwareIdSettingsApplied)\n",
      "Read 3 history items for RemoteEvent(ATCamera, 0, focalPlaneSummaryInfo)\n",
      "Read 100 history items for RemoteEvent(ATCamera, 0, heartbeat)\n",
      "Read 100 history items for RemoteEvent(ATCamera, 0, imageReadinessDetailedState)\n",
      "Read 100 history items for RemoteEvent(ATCamera, 0, imageReadoutParameters)\n",
      "Read 100 history items for RemoteEvent(ATCamera, 0, raftsDetailedState)\n",
      "Read 3 history items for RemoteEvent(ATCamera, 0, settingVersions)\n",
      "Read 100 history items for RemoteEvent(ATCamera, 0, shutterDetailedState)\n",
      "Read 100 history items for RemoteEvent(ATCamera, 0, shutterMotionProfile)\n",
      "Read 100 history items for RemoteEvent(ATCamera, 0, startIntegration)\n",
      "Read 100 history items for RemoteEvent(ATCamera, 0, startReadout)\n",
      "Read 12 history items for RemoteEvent(ATCamera, 0, summaryState)\n",
      "Read historical data in 0.69 sec\n",
      "Read 100 history items for RemoteEvent(ATArchiver, 0, heartbeat)\n",
      "Read 100 history items for RemoteEvent(ATArchiver, 0, imageInOODS)\n",
      "Read 100 history items for RemoteEvent(ATArchiver, 0, imageRetrievalForArchiving)\n",
      "Read 12 history items for RemoteEvent(ATArchiver, 0, summaryState)\n"
     ]
    },
    {
     "data": {
      "text/plain": [
       "[None, None, None, None]"
      ]
     },
     "execution_count": 5,
     "metadata": {},
     "output_type": "execute_result"
    }
   ],
   "source": [
    "#Start classes\n",
    "domain = salobj.Domain()\n",
    "latiss = LATISS(domain)\n",
    "await latiss.start_task"
   ]
  },
  {
   "cell_type": "code",
   "execution_count": 6,
   "metadata": {},
   "outputs": [
    {
     "data": {
      "text/plain": [
       "\u001b[0;31mSignature:\u001b[0m \u001b[0mlatiss\u001b[0m\u001b[0;34m.\u001b[0m\u001b[0mrem\u001b[0m\u001b[0;34m.\u001b[0m\u001b[0matcamera\u001b[0m\u001b[0;34m.\u001b[0m\u001b[0mcmd_discardRows\u001b[0m\u001b[0;34m.\u001b[0m\u001b[0mset\u001b[0m\u001b[0;34m(\u001b[0m\u001b[0;34m**\u001b[0m\u001b[0mkwargs\u001b[0m\u001b[0;34m:\u001b[0m \u001b[0;34m'typing.Any'\u001b[0m\u001b[0;34m)\u001b[0m \u001b[0;34m->\u001b[0m \u001b[0;34m'bool'\u001b[0m\u001b[0;34m\u001b[0m\u001b[0;34m\u001b[0m\u001b[0m\n",
       "\u001b[0;31mDocstring:\u001b[0m\n",
       "Create a new ``self.data`` and set one or more fields.\n",
       "\n",
       "Parameters\n",
       "----------\n",
       "**kwargs : `dict` [`str`, ``any``]\n",
       "    Dict of field name: new value for that field:\n",
       "\n",
       "    * Any key whose value is `None` is checked for existence,\n",
       "      but the value of the field is not changed.\n",
       "    * If the field being set is an array then the value must either\n",
       "      be an array of the same length or a scalar (which replaces\n",
       "      every element of the array).\n",
       "\n",
       "Returns\n",
       "-------\n",
       "did_change : `bool`\n",
       "    True if ``self.data`` was changed, or if this was the first call\n",
       "    to `set`.\n",
       "\n",
       "Raises\n",
       "------\n",
       "AttributeError\n",
       "    If the topic does not have the specified field.\n",
       "ValueError\n",
       "    If the field cannot be set to the specified value.\n",
       "\n",
       "Notes\n",
       "-----\n",
       "If one or more fields cannot be set, the data may be partially updated.\n",
       "\u001b[0;31mFile:\u001b[0m      /opt/lsst/software/stack/conda/miniconda3-py38_4.9.2/envs/lsst-scipipe-0.7.0/lib/python3.8/site-packages/lsst/ts/salobj/topics/remote_command.py\n",
       "\u001b[0;31mType:\u001b[0m      method\n"
      ]
     },
     "metadata": {},
     "output_type": "display_data"
    }
   ],
   "source": [
    "latiss.rem.atcamera.cmd_discardRows.set?"
   ]
  },
  {
   "cell_type": "code",
   "execution_count": 7,
   "metadata": {},
   "outputs": [
    {
     "data": {
      "text/plain": [
       "\u001b[0;31mSignature:\u001b[0m\n",
       "\u001b[0mlatiss\u001b[0m\u001b[0;34m.\u001b[0m\u001b[0mrem\u001b[0m\u001b[0;34m.\u001b[0m\u001b[0matcamera\u001b[0m\u001b[0;34m.\u001b[0m\u001b[0mcmd_discardRows\u001b[0m\u001b[0;34m.\u001b[0m\u001b[0mstart\u001b[0m\u001b[0;34m(\u001b[0m\u001b[0;34m\u001b[0m\n",
       "\u001b[0;34m\u001b[0m    \u001b[0mdata\u001b[0m\u001b[0;34m:\u001b[0m \u001b[0;34m'type_hints.BaseDdsDataType'\u001b[0m \u001b[0;34m=\u001b[0m \u001b[0;32mNone\u001b[0m\u001b[0;34m,\u001b[0m\u001b[0;34m\u001b[0m\n",
       "\u001b[0;34m\u001b[0m    \u001b[0mtimeout\u001b[0m\u001b[0;34m:\u001b[0m \u001b[0;34m'float'\u001b[0m \u001b[0;34m=\u001b[0m \u001b[0;36m3600\u001b[0m\u001b[0;34m,\u001b[0m\u001b[0;34m\u001b[0m\n",
       "\u001b[0;34m\u001b[0m    \u001b[0mwait_done\u001b[0m\u001b[0;34m:\u001b[0m \u001b[0;34m'bool'\u001b[0m \u001b[0;34m=\u001b[0m \u001b[0;32mTrue\u001b[0m\u001b[0;34m,\u001b[0m\u001b[0;34m\u001b[0m\n",
       "\u001b[0;34m\u001b[0m\u001b[0;34m)\u001b[0m \u001b[0;34m->\u001b[0m \u001b[0;34m'type_hints.AckCmdDataType'\u001b[0m\u001b[0;34m\u001b[0m\u001b[0;34m\u001b[0m\u001b[0m\n",
       "\u001b[0;31mDocstring:\u001b[0m\n",
       "Start a command.\n",
       "\n",
       "Parameters\n",
       "----------\n",
       "data : ``self.DataType``, optional\n",
       "    Command message. If `None` then send the current ``self.data``.\n",
       "timeout : `float`, optional\n",
       "    Time limit, in seconds. If None then use ``DEFAULT_TIMEOUT``.\n",
       "    This time limit is for the entire command if ``wait_done``\n",
       "    is true, else it is for the first acknowledgement.\n",
       "    If ``wait_done`` is true and the command is acknowledged with\n",
       "    ``CMD_INPROGRESS`` then the timeout is extended by\n",
       "    the timeout value in the acknowledgement.\n",
       "    Thus a slow command will not need a long timeout, so long as\n",
       "    the command issues a ``CMD_INPROGRESS`` acknowledgement\n",
       "    with a reasonable ``timeout`` value.\n",
       "wait_done : `bool`, optional\n",
       "    If True then wait for final command acknowledgement.\n",
       "    If False then wait only for the first command acknowledgement\n",
       "    (typically ``CMD_ACK``). If that acknowledgement is not final\n",
       "    (the ack code is not in ``self.done_ack_codes``),\n",
       "    then you will almost certainly want to await `next_ackcmd`.\n",
       "\n",
       "Returns\n",
       "-------\n",
       "ackcmd : `SalInfo.AckCmdType`\n",
       "    Command acknowledgement.\n",
       "\n",
       "Raises\n",
       "------\n",
       "salobj.AckError\n",
       "    If the command fails.\n",
       "salobj.AckTimeoutError\n",
       "    If the command times out.\n",
       "RuntimeError\n",
       "    If the ``salinfo`` has not started reading.\n",
       "TypeError\n",
       "    If ``data`` is not None and not an instance of `DataType`.\n",
       "\u001b[0;31mFile:\u001b[0m      /opt/lsst/software/stack/conda/miniconda3-py38_4.9.2/envs/lsst-scipipe-0.7.0/lib/python3.8/site-packages/lsst/ts/salobj/topics/remote_command.py\n",
       "\u001b[0;31mType:\u001b[0m      method\n"
      ]
     },
     "metadata": {},
     "output_type": "display_data"
    }
   ],
   "source": [
    "await latiss.rem.atcamera.cmd_discardRows.start?"
   ]
  },
  {
   "cell_type": "code",
   "execution_count": 9,
   "metadata": {},
   "outputs": [
    {
     "data": {
      "text/plain": [
       "\u001b[0;31mType:\u001b[0m        RemoteCommand\n",
       "\u001b[0;31mString form:\u001b[0m RemoteCommand(ATCamera, 0, discardRows)\n",
       "\u001b[0;31mFile:\u001b[0m        /opt/lsst/software/stack/conda/miniconda3-py38_4.9.2/envs/lsst-scipipe-0.7.0/lib/python3.8/site-packages/lsst/ts/salobj/topics/remote_command.py\n",
       "\u001b[0;31mDocstring:\u001b[0m  \n",
       "Issue a specific command topic and wait for acknowldgement.\n",
       "\n",
       "Parameters\n",
       "----------\n",
       "salinfo : `.SalInfo`\n",
       "    SAL component information\n",
       "name : `str`\n",
       "    Command name\n"
      ]
     },
     "metadata": {},
     "output_type": "display_data"
    }
   ],
   "source": [
    "latiss.rem.atcamera.cmd_discardRows?"
   ]
  },
  {
   "cell_type": "code",
   "execution_count": null,
   "metadata": {},
   "outputs": [],
   "source": [
    "# enable components\n",
    "# No need - all enabled\n",
    "#await latiss.enable({\"atspectrograph\": \"current\"})"
   ]
  },
  {
   "cell_type": "code",
   "execution_count": null,
   "metadata": {},
   "outputs": [],
   "source": [
    "# Take a bias to make sure everything is working\n",
    "# Succeeded\n",
    "await latiss.take_bias(1)"
   ]
  },
  {
   "cell_type": "markdown",
   "metadata": {},
   "source": [
    "Step one - go in and out of calibration.\\\n",
    "This succeeded - I could see the camera substate change."
   ]
  },
  {
   "cell_type": "code",
   "execution_count": null,
   "metadata": {},
   "outputs": [],
   "source": [
    "await latiss.rem.atcamera.cmd_enableCalibration.set_start()"
   ]
  },
  {
   "cell_type": "code",
   "execution_count": null,
   "metadata": {},
   "outputs": [],
   "source": [
    "await asyncio.sleep(2.0)"
   ]
  },
  {
   "cell_type": "code",
   "execution_count": null,
   "metadata": {},
   "outputs": [],
   "source": [
    "await latiss.rem.atcamera.cmd_disableCalibration.start()"
   ]
  },
  {
   "cell_type": "code",
   "execution_count": null,
   "metadata": {},
   "outputs": [],
   "source": [
    "# Take a bias to make sure everything is working\n",
    "# Succeeded\n",
    "await latiss.take_bias(1)"
   ]
  },
  {
   "cell_type": "markdown",
   "metadata": {},
   "source": [
    "Step 1.5:\n",
    "In and out of calibration with a clear.\\\n",
    "Succeeded"
   ]
  },
  {
   "cell_type": "code",
   "execution_count": null,
   "metadata": {},
   "outputs": [],
   "source": [
    "await latiss.rem.atcamera.cmd_enableCalibration.set_start()"
   ]
  },
  {
   "cell_type": "code",
   "execution_count": null,
   "metadata": {},
   "outputs": [],
   "source": [
    "await latiss.rem.atcamera.cmd_clear.set_start(nClears=2)"
   ]
  },
  {
   "cell_type": "code",
   "execution_count": null,
   "metadata": {},
   "outputs": [],
   "source": [
    "await asyncio.sleep(2.0)"
   ]
  },
  {
   "cell_type": "code",
   "execution_count": null,
   "metadata": {},
   "outputs": [],
   "source": [
    "await latiss.rem.atcamera.cmd_disableCalibration.start()"
   ]
  },
  {
   "cell_type": "code",
   "execution_count": null,
   "metadata": {},
   "outputs": [],
   "source": [
    "# Take a bias to make sure everything is working\n",
    "# Succeeded\n",
    "await latiss.take_bias(1)"
   ]
  },
  {
   "cell_type": "markdown",
   "metadata": {},
   "source": [
    "Step 2:\n",
    "The following commands should take a calibration image\\\n",
    "Try this first without the discardRows()\\\n",
    "This worked.  The shutter opened and closed, and successfully took image 0012."
   ]
  },
  {
   "cell_type": "code",
   "execution_count": null,
   "metadata": {},
   "outputs": [],
   "source": [
    "await latiss.rem.atcamera.cmd_enableCalibration.set_start()"
   ]
  },
  {
   "cell_type": "code",
   "execution_count": null,
   "metadata": {},
   "outputs": [],
   "source": [
    "await latiss.rem.atcamera.cmd_clear.set_start(nClears=2)"
   ]
  },
  {
   "cell_type": "code",
   "execution_count": null,
   "metadata": {},
   "outputs": [],
   "source": [
    "keyValueMap = f\"groupId: {Time.now().isot},imageType: ENGTEST\" "
   ]
  },
  {
   "cell_type": "code",
   "execution_count": null,
   "metadata": {},
   "outputs": [],
   "source": [
    "print(keyValueMap)"
   ]
  },
  {
   "cell_type": "code",
   "execution_count": null,
   "metadata": {},
   "outputs": [],
   "source": [
    "latiss.rem.atcamera.cmd_startImage.set(shutter=True, keyValueMap=keyValueMap, timeout=10.0)"
   ]
  },
  {
   "cell_type": "code",
   "execution_count": null,
   "metadata": {},
   "outputs": [],
   "source": [
    "await latiss.rem.atcamera.cmd_startImage.start()"
   ]
  },
  {
   "cell_type": "code",
   "execution_count": null,
   "metadata": {},
   "outputs": [],
   "source": [
    "await asyncio.sleep(2.0)"
   ]
  },
  {
   "cell_type": "code",
   "execution_count": null,
   "metadata": {},
   "outputs": [],
   "source": [
    "await latiss.rem.atcamera.cmd_endImage.start()\n",
    "# Worked this time"
   ]
  },
  {
   "cell_type": "code",
   "execution_count": null,
   "metadata": {},
   "outputs": [],
   "source": [
    "await latiss.rem.atcamera.cmd_disableCalibration.start()"
   ]
  },
  {
   "cell_type": "markdown",
   "metadata": {},
   "source": [
    "Step 2A:\n",
    "The following commands should take a calibration image\\\n",
    "Try this first without the discardRows()\\\n",
    "All in one cell so we get a real 2 second image"
   ]
  },
  {
   "cell_type": "code",
   "execution_count": null,
   "metadata": {},
   "outputs": [],
   "source": [
    "await latiss.rem.atcamera.cmd_enableCalibration.set_start()\n",
    "await latiss.rem.atcamera.cmd_clear.set_start(nClears=2)\n",
    "keyValueMap = f\"groupId: {Time.now().isot},imageType: ENGTEST\"\n",
    "print(keyValueMap)\n",
    "latiss.rem.atcamera.cmd_startImage.set(shutter=True, keyValueMap=keyValueMap, timeout=10.0)\n",
    "await latiss.rem.atcamera.cmd_startImage.start()\n",
    "await asyncio.sleep(2.0)\n",
    "await latiss.rem.atcamera.cmd_endImage.start()\n",
    "await latiss.rem.atcamera.cmd_disableCalibration.start()\n"
   ]
  },
  {
   "cell_type": "code",
   "execution_count": null,
   "metadata": {},
   "outputs": [],
   "source": [
    "# Take a bias to make sure everything is working\n",
    "# Succeeded.\n",
    "await latiss.take_bias(1)"
   ]
  },
  {
   "cell_type": "markdown",
   "metadata": {},
   "source": [
    "Step 2B:\n",
    "The following commands should take a calibration image\\\n",
    "with the discardRows()\\\n",
    "All in one cell so we get a real 2 second image"
   ]
  },
  {
   "cell_type": "code",
   "execution_count": null,
   "metadata": {},
   "outputs": [],
   "source": [
    "await latiss.rem.atcamera.cmd_enableCalibration.set_start()\n",
    "await latiss.rem.atcamera.cmd_clear.set_start(nClears=2)\n",
    "keyValueMap = f\"groupId: {Time.now().isot},imageType: ENGTEST\"\n",
    "print(keyValueMap)\n",
    "latiss.rem.atcamera.cmd_startImage.set(shutter=True, keyValueMap=keyValueMap, timeout=10.0)\n",
    "await latiss.rem.atcamera.cmd_startImage.start()\n",
    "await asyncio.sleep(1.0)\n",
    "latiss.rem.atcamera.cmd_discardRows.set(nRows=500)\n",
    "await latiss.rem.atcamera.cmd_discardRows.start()\n",
    "await asyncio.sleep(1.0)\n",
    "await latiss.rem.atcamera.cmd_endImage.start()\n",
    "await latiss.rem.atcamera.cmd_disableCalibration.start()\n"
   ]
  },
  {
   "cell_type": "markdown",
   "metadata": {},
   "source": [
    "Step 2C:\n",
    "The following commands should take a calibration image\\\n",
    "with multiple(4) discardRows()\\\n",
    "All in one cell so we get a real 2 second image"
   ]
  },
  {
   "cell_type": "code",
   "execution_count": null,
   "metadata": {},
   "outputs": [],
   "source": [
    "await latiss.rem.atcamera.cmd_enableCalibration.set_start()\n",
    "await latiss.rem.atcamera.cmd_clear.set_start(nClears=2)\n",
    "keyValueMap = f\"groupId: {Time.now().isot},imageType: ENGTEST\"\n",
    "print(keyValueMap)\n",
    "latiss.rem.atcamera.cmd_startImage.set(shutter=True, keyValueMap=keyValueMap, timeout=10.0)\n",
    "await latiss.rem.atcamera.cmd_startImage.start()\n",
    "for i in range(4):\n",
    "    await asyncio.sleep(0.5)\n",
    "    latiss.rem.atcamera.cmd_discardRows.set(nRows=500)\n",
    "    await latiss.rem.atcamera.cmd_discardRows.start()\n",
    "await latiss.rem.atcamera.cmd_endImage.start()\n",
    "await latiss.rem.atcamera.cmd_disableCalibration.start()\n"
   ]
  },
  {
   "cell_type": "code",
   "execution_count": null,
   "metadata": {},
   "outputs": [],
   "source": [
    "# Take a bias to make sure everything is working\n",
    "await latiss.take_bias(1)"
   ]
  },
  {
   "cell_type": "code",
   "execution_count": null,
   "metadata": {},
   "outputs": [],
   "source": [
    "# Putting everything back in standby.\n",
    "await latiss.standby()"
   ]
  },
  {
   "cell_type": "code",
   "execution_count": null,
   "metadata": {},
   "outputs": [],
   "source": []
  },
  {
   "cell_type": "markdown",
   "metadata": {},
   "source": [
    "Stuff below is just in case it is needed."
   ]
  },
  {
   "cell_type": "code",
   "execution_count": null,
   "metadata": {},
   "outputs": [],
   "source": [
    "await latiss.rem.atcamera.cmd_disable.set_start()"
   ]
  },
  {
   "cell_type": "code",
   "execution_count": null,
   "metadata": {},
   "outputs": [],
   "source": [
    "latiss.rem.atcamera.cmd_endImage.set_start()"
   ]
  },
  {
   "cell_type": "code",
   "execution_count": null,
   "metadata": {},
   "outputs": [],
   "source": [
    "await latiss.rem.atcamera.cmd_disableCalibration.start()"
   ]
  },
  {
   "cell_type": "code",
   "execution_count": null,
   "metadata": {},
   "outputs": [],
   "source": [
    "await salobj.set_summary_state(latiss.rem.atcamera, salobj.State.ENABLED)"
   ]
  },
  {
   "cell_type": "code",
   "execution_count": null,
   "metadata": {},
   "outputs": [],
   "source": [
    "test = await latiss.rem.atcamera.evt_heartbeat.next(flush=True, timeout=5)"
   ]
  },
  {
   "cell_type": "code",
   "execution_count": null,
   "metadata": {},
   "outputs": [],
   "source": [
    "print(test)"
   ]
  },
  {
   "cell_type": "code",
   "execution_count": null,
   "metadata": {},
   "outputs": [],
   "source": [
    "print(test)"
   ]
  },
  {
   "cell_type": "code",
   "execution_count": null,
   "metadata": {},
   "outputs": [],
   "source": [
    "await latiss.rem.atcamera.cmd_disable?"
   ]
  },
  {
   "cell_type": "code",
   "execution_count": null,
   "metadata": {},
   "outputs": [],
   "source": [
    "await latiss.rem.atcamera.cmd_disable"
   ]
  },
  {
   "cell_type": "code",
   "execution_count": null,
   "metadata": {},
   "outputs": [],
   "source": [
    "await latiss.rem.atcamera.cmd_disable.set_start()"
   ]
  },
  {
   "cell_type": "code",
   "execution_count": null,
   "metadata": {},
   "outputs": [],
   "source": [
    "await salobj.set_summary_state(latiss.rem.atspectrograph, salobj.State.STANDBY)"
   ]
  },
  {
   "cell_type": "code",
   "execution_count": null,
   "metadata": {},
   "outputs": [],
   "source": [
    "await latiss.rem.atspectrograph.cmd_enable.set_start({\"atspectrograph\": \"current\"})"
   ]
  },
  {
   "cell_type": "code",
   "execution_count": null,
   "metadata": {},
   "outputs": [],
   "source": [
    "await latiss.rem.atspectrograph.enable({\"atspectrograph\": \"current\"})"
   ]
  },
  {
   "cell_type": "code",
   "execution_count": null,
   "metadata": {},
   "outputs": [],
   "source": [
    "await latiss.enable({\"atspectrograph\": \"current\"})"
   ]
  },
  {
   "cell_type": "code",
   "execution_count": null,
   "metadata": {},
   "outputs": [],
   "source": [
    "await latiss.rem.atcamera.cmd_initImage.set_start(deltaT=2.0)"
   ]
  },
  {
   "cell_type": "code",
   "execution_count": null,
   "metadata": {},
   "outputs": [],
   "source": [
    "await latiss.rem.atcamera.cmd_abort.start()"
   ]
  },
  {
   "cell_type": "code",
   "execution_count": null,
   "metadata": {},
   "outputs": [],
   "source": []
  },
  {
   "cell_type": "code",
   "execution_count": null,
   "metadata": {},
   "outputs": [],
   "source": [
    "await latiss.rem.atcamera.cmd_stop.start()"
   ]
  },
  {
   "cell_type": "code",
   "execution_count": null,
   "metadata": {},
   "outputs": [],
   "source": [
    "await latiss.rem.atcamera.cmd_stop"
   ]
  },
  {
   "cell_type": "code",
   "execution_count": null,
   "metadata": {},
   "outputs": [],
   "source": [
    "await latiss.rem.atcamera.cmd_endImage.set?"
   ]
  },
  {
   "cell_type": "code",
   "execution_count": null,
   "metadata": {},
   "outputs": [],
   "source": [
    "await latiss.rem.atcamera.cmd_endImage.set"
   ]
  },
  {
   "cell_type": "code",
   "execution_count": null,
   "metadata": {},
   "outputs": [],
   "source": [
    "await latiss.rem.atcamera.cmd_endImage"
   ]
  },
  {
   "cell_type": "code",
   "execution_count": null,
   "metadata": {},
   "outputs": [],
   "source": []
  }
 ],
 "metadata": {
  "kernelspec": {
   "display_name": "LSST",
   "language": "python",
   "name": "lsst"
  },
  "language_info": {
   "codemirror_mode": {
    "name": "ipython",
    "version": 3
   },
   "file_extension": ".py",
   "mimetype": "text/x-python",
   "name": "python",
   "nbconvert_exporter": "python",
   "pygments_lexer": "ipython3",
   "version": "3.8.12"
  }
 },
 "nbformat": 4,
 "nbformat_minor": 4
}
