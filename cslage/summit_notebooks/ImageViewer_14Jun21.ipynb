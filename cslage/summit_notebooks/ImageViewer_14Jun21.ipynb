{
 "cells": [
  {
   "cell_type": "markdown",
   "metadata": {},
   "source": [
    "## Image viewer\n",
    "\n",
    "In this notebook, we show several ways to look at images\\\n",
    "Craig Lage - 13-Mar-21"
   ]
  },
  {
   "cell_type": "code",
   "execution_count": 8,
   "metadata": {},
   "outputs": [],
   "source": [
    "import numpy as np\n",
    "import matplotlib.pyplot as plt\n",
    "import astropy.io.fits as pf\n",
    "import lsst.daf.persistence as dafPersist\n",
    "import lsst.afw.cameraGeom.utils as camGeomUtils\n",
    "import lsst.afw.display as afwDisplay"
   ]
  },
  {
   "cell_type": "code",
   "execution_count": 9,
   "metadata": {},
   "outputs": [],
   "source": [
    "# Instantiate the butler\n",
    "REPO_DIR = '/project/shared/auxTel/rerun/quickLook'\n",
    "butler = dafPersist.Butler(REPO_DIR)"
   ]
  },
  {
   "cell_type": "code",
   "execution_count": 10,
   "metadata": {},
   "outputs": [
    {
     "name": "stderr",
     "output_type": "stream",
     "text": [
      "Ignoring translator header fixup of LATISS AT_O_20210609_000352: 'MJD-OBS not found'\n"
     ]
    },
    {
     "name": "stdout",
     "output_type": "stream",
     "text": [
      "19.42948 216.57448\n"
     ]
    }
   ],
   "source": [
    "# Get the raw data\n",
    "dayObs = '2021-06-09'\n",
    "expId=2021060900352\n",
    "exp = butler.get('quickLookExp', detector=0, expId=expId)\n",
    "mean = np.mean(exp.getMaskedImage().getArrays()[0])\n",
    "std = np.std(exp.getMaskedImage().getArrays()[0])\n",
    "print(mean, std)"
   ]
  },
  {
   "cell_type": "code",
   "execution_count": 5,
   "metadata": {},
   "outputs": [],
   "source": [
    "# You can also display the images with Firefly, which I am just learning.\n",
    "# The Firefly diplay will open in a separate browser tab\n",
    "afwDisplay.setDefaultBackend('firefly')\n",
    "display1 = afwDisplay.Display(frame=1)"
   ]
  },
  {
   "cell_type": "code",
   "execution_count": 11,
   "metadata": {},
   "outputs": [],
   "source": [
    "# This will load the image into Firefly\n",
    "# Firefly has many of the attributes of DS9.\n",
    "display1.mtv(exp)"
   ]
  },
  {
   "cell_type": "code",
   "execution_count": null,
   "metadata": {},
   "outputs": [],
   "source": []
  }
 ],
 "metadata": {
  "kernelspec": {
   "display_name": "LSST",
   "language": "python",
   "name": "lsst"
  },
  "language_info": {
   "codemirror_mode": {
    "name": "ipython",
    "version": 3
   },
   "file_extension": ".py",
   "mimetype": "text/x-python",
   "name": "python",
   "nbconvert_exporter": "python",
   "pygments_lexer": "ipython3",
   "version": "3.8.8"
  }
 },
 "nbformat": 4,
 "nbformat_minor": 4
}
