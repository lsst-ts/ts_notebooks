{
 "cells": [
  {
   "cell_type": "markdown",
   "metadata": {},
   "source": [
    "## TAI testing - Summit\n",
    "Craig Lage - Mar 9, 2022"
   ]
  },
  {
   "cell_type": "code",
   "execution_count": 1,
   "metadata": {},
   "outputs": [
    {
     "data": {
      "text/plain": [
       "29.0"
      ]
     },
     "execution_count": 1,
     "metadata": {},
     "output_type": "execute_result"
    }
   ],
   "source": [
    "from astropy.time import Time\n",
    "t = Time('2022-03-08', scale='utc')\n",
    "t.unix_tai - t.unix"
   ]
  },
  {
   "cell_type": "code",
   "execution_count": 5,
   "metadata": {
    "collapsed": true,
    "jupyter": {
     "outputs_hidden": true
    },
    "tags": []
   },
   "outputs": [
    {
     "name": "stdout",
     "output_type": "stream",
     "text": [
      "1969 -0.9459980018436909\n",
      "1970 8.200000198854696e-05\n",
      "1971 0.9461620002985001\n",
      "1972 2.0\n",
      "1973 4.0\n",
      "1974 5.0\n",
      "1975 6.0\n",
      "1976 7.0\n",
      "1977 8.0\n",
      "1978 9.0\n",
      "1979 10.0\n",
      "1980 11.0\n",
      "1981 11.0\n",
      "1982 12.0\n",
      "1983 13.0\n",
      "1984 14.0\n",
      "1985 14.0\n",
      "1986 15.0\n",
      "1987 15.0\n",
      "1988 16.0\n",
      "1989 16.0\n",
      "1990 17.0\n",
      "1991 18.0\n",
      "1992 18.0\n",
      "1993 19.0\n",
      "1994 20.0\n",
      "1995 21.0\n",
      "1996 22.0\n",
      "1997 22.0\n",
      "1998 23.0\n",
      "1999 24.0\n",
      "2000 24.0\n",
      "2001 24.0\n",
      "2002 24.0\n",
      "2003 24.0\n",
      "2004 24.0\n",
      "2005 24.0\n",
      "2006 25.0\n",
      "2007 25.0\n",
      "2008 25.0\n",
      "2009 26.0\n",
      "2010 26.0\n",
      "2011 26.0\n",
      "2012 26.0\n",
      "2013 27.0\n",
      "2014 27.0\n",
      "2015 27.0\n",
      "2016 28.0\n",
      "2017 29.0\n",
      "2018 29.0\n",
      "2019 29.0\n",
      "2020 29.0\n",
      "2021 29.0\n",
      "2022 29.0\n"
     ]
    }
   ],
   "source": [
    "for year in range(1969, 2023):\n",
    "    t = Time(f'{year}-01-01', scale='utc')\n",
    "    delta = t.unix_tai - t.unix\n",
    "    print(year, delta)"
   ]
  },
  {
   "cell_type": "code",
   "execution_count": 1,
   "metadata": {},
   "outputs": [
    {
     "name": "stdout",
     "output_type": "stream",
     "text": [
      "4.1\n"
     ]
    }
   ],
   "source": [
    "from astropy import __version__ as astropyVersion\n",
    "print(astropyVersion)"
   ]
  },
  {
   "cell_type": "code",
   "execution_count": null,
   "metadata": {},
   "outputs": [],
   "source": []
  }
 ],
 "metadata": {
  "kernelspec": {
   "display_name": "LSST",
   "language": "python",
   "name": "lsst"
  },
  "language_info": {
   "codemirror_mode": {
    "name": "ipython",
    "version": 3
   },
   "file_extension": ".py",
   "mimetype": "text/x-python",
   "name": "python",
   "nbconvert_exporter": "python",
   "pygments_lexer": "ipython3",
   "version": "3.8.12"
  }
 },
 "nbformat": 4,
 "nbformat_minor": 4
}
