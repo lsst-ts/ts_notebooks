{
 "cells": [
  {
   "cell_type": "markdown",
   "metadata": {},
   "source": [
    "## Accessing DM-EFD data\n"
   ]
  },
  {
   "cell_type": "markdown",
   "metadata": {},
   "source": [
    "In this notebook, I used Robert Lupton's code that unpacks the 100 samples/second datapoints in the EFD\n",
    "to plot the Nasmyth2 motor torque during a run when we were varying the Nasmyth2 angle to investigate\n",
    "the horizontal banding problem caused (probably) by electrical noise."
   ]
  },
  {
   "cell_type": "code",
   "execution_count": 1,
   "metadata": {},
   "outputs": [],
   "source": [
    "import sys, time, os\n",
    "\n",
    "import numpy as np\n",
    "import matplotlib.pyplot as plt\n",
    "import pandas as pd\n",
    "from scipy.fft import fft, fftfreq\n",
    "\n",
    "from astropy.time import Time, TimeDelta\n",
    "from lsst_efd_client import EfdClient, merge_packed_time_series"
   ]
  },
  {
   "cell_type": "markdown",
   "metadata": {},
   "source": [
    "We'll access the EFD instance deployed at the Summit."
   ]
  },
  {
   "cell_type": "code",
   "execution_count": 2,
   "metadata": {},
   "outputs": [],
   "source": [
    "client = EfdClient('summit_efd')"
   ]
  },
  {
   "cell_type": "code",
   "execution_count": 9,
   "metadata": {},
   "outputs": [],
   "source": [
    "t_end = Time(\"2021-07-01T02:30:00\", scale='tai')   # timestamp at end of desired data \n",
    "nsec = 4.0*3600 # how many seconds of data to retrieve\n",
    "t_start = t_end - TimeDelta(nsec, format='sec')\n",
    "dimm = await client.select_time_series(\"lsst.sal.command_start\", ['*'],\n",
    "                                              t_start, t_end)"
   ]
  },
  {
   "cell_type": "code",
   "execution_count": 10,
   "metadata": {},
   "outputs": [
    {
     "data": {
      "text/plain": [
       "0"
      ]
     },
     "execution_count": 10,
     "metadata": {},
     "output_type": "execute_result"
    }
   ],
   "source": [
    "len(dimm)"
   ]
  },
  {
   "cell_type": "code",
   "execution_count": null,
   "metadata": {},
   "outputs": [],
   "source": [
    "ax1 = torque['elevationMotorTorque'].plot(figsize=(16,8), title='Elevation motor torque', legend=True)\n",
    "#ax1.axhline(3.0, color=\"blue\", linestyle=\"--\")\n",
    "#ax1.axhline(-3.0, color=\"blue\", linestyle=\"--\")\n",
    "plt.ylim(-3.0,3.0)\n",
    "angle['elevationCalculatedAngle'].plot(legend=True, secondary_y=True)\n",
    "plt.savefig(\"/home/craiglagegit/DATA/Elevation_Torque_09Jun21.pdf\")"
   ]
  },
  {
   "cell_type": "code",
   "execution_count": null,
   "metadata": {},
   "outputs": [],
   "source": []
  },
  {
   "cell_type": "code",
   "execution_count": null,
   "metadata": {},
   "outputs": [],
   "source": [
    "torqueList = torque.values.tolist()\n",
    "angleList = angle.values.tolist()\n",
    "plt.figure()\n",
    "plt.title(\"Elevation angle vs Torque - 20210609\")\n",
    "plt.plot(np.array(angleList)[:,0],np.array(torqueList)[:,0])\n",
    "#plt.plot([20, 85],[3.0,3.0], color='red', ls='--')\n",
    "#plt.plot([20,85],[-3.0,-3.0], color='red', ls='--')\n",
    "plt.arrow(20, 2.5, 20,0, width=0.1,head_length = 5.0, color='green')\n",
    "plt.arrow(85, -2.5, -20,0, width=0.1,head_length = 5.0, color='green')\n",
    "plt.xlabel(\"Elevation angle(degrees)\")\n",
    "plt.ylabel(\"Torque (amps)\")\n",
    "#plt.savefig(\"/home/craiglagegit/DATA/Torque_vs_Angle3_09Apr21.pdf\")"
   ]
  },
  {
   "cell_type": "code",
   "execution_count": null,
   "metadata": {},
   "outputs": [],
   "source": []
  },
  {
   "cell_type": "code",
   "execution_count": null,
   "metadata": {},
   "outputs": [],
   "source": [
    "t_end = Time(\"2021-05-25T03:00:00\", scale='tai')   # timestamp at end of desired data \n",
    "nsec = 4.0*3600 # how many seconds of data to retrieve\n",
    "t_start = t_end - TimeDelta(nsec, format='sec')\n",
    "elevation_torque = await client.select_time_series(\"lsst.sal.ATMCS.measuredTorque\", ['*'],\n",
    "                                              t_start, t_end)\n",
    "#torque = merge_packed_time_series(elevation_torque, 'elevationMotorTorque', stride=1)\n",
    "elevation_angle = await client.select_time_series(\"lsst.sal.ATMCS.mount_AzEl_Encoders\", ['*'],\n",
    "                                              t_start, t_end)\n",
    "#angle = merge_packed_time_series(elevation_angle, 'elevationCalculatedAngle', stride=1)"
   ]
  },
  {
   "cell_type": "code",
   "execution_count": null,
   "metadata": {},
   "outputs": [],
   "source": [
    "len(elevation_angle)"
   ]
  },
  {
   "cell_type": "code",
   "execution_count": null,
   "metadata": {},
   "outputs": [],
   "source": [
    "ax1 = torque['elevationMotorTorque'].plot(figsize=(16,8), title='Elevation motor torque', legend=True)\n",
    "#ax1.axhline(3.0, color=\"blue\", linestyle=\"--\")\n",
    "#ax1.axhline(-3.0, color=\"blue\", linestyle=\"--\")\n",
    "plt.ylim(-3.0,3.0)\n",
    "angle['elevationCalculatedAngle'].plot(legend=True, secondary_y=True)\n",
    "plt.savefig(\"/home/craiglagegit/DATA/Elevation_Torque_09Jun21.pdf\")"
   ]
  },
  {
   "cell_type": "code",
   "execution_count": null,
   "metadata": {},
   "outputs": [],
   "source": []
  },
  {
   "cell_type": "code",
   "execution_count": null,
   "metadata": {},
   "outputs": [],
   "source": [
    "torqueList = torque.values.tolist()\n",
    "angleList = angle.values.tolist()\n",
    "plt.figure()\n",
    "plt.title(\"Elevation angle vs Torque - 20210609\")\n",
    "plt.plot(np.array(angleList)[:,0],np.array(torqueList)[:,0])\n",
    "#plt.plot([20, 85],[3.0,3.0], color='red', ls='--')\n",
    "#plt.plot([20,85],[-3.0,-3.0], color='red', ls='--')\n",
    "plt.arrow(20, 2.5, 20,0, width=0.1,head_length = 5.0, color='green')\n",
    "plt.arrow(85, -2.5, -20,0, width=0.1,head_length = 5.0, color='green')\n",
    "plt.xlabel(\"Elevation angle(degrees)\")\n",
    "plt.ylabel(\"Torque (amps)\")\n",
    "#plt.savefig(\"/home/craiglagegit/DATA/Torque_vs_Angle3_09Apr21.pdf\")"
   ]
  }
 ],
 "metadata": {
  "kernelspec": {
   "display_name": "LSST",
   "language": "python",
   "name": "lsst"
  },
  "language_info": {
   "codemirror_mode": {
    "name": "ipython",
    "version": 3
   },
   "file_extension": ".py",
   "mimetype": "text/x-python",
   "name": "python",
   "nbconvert_exporter": "python",
   "pygments_lexer": "ipython3",
   "version": "3.8.8"
  }
 },
 "nbformat": 4,
 "nbformat_minor": 4
}
