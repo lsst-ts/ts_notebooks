{
 "cells": [
  {
   "cell_type": "markdown",
   "metadata": {},
   "source": [
    "# Notebook for testing showCamera.\n",
    "Initially written by Michael Reuter.\\\n",
    "Modified by Craig Lage - 24-Sep-21\\\n",
    "Testing with AuxTel data from 2021-10-06."
   ]
  },
  {
   "cell_type": "code",
   "execution_count": 1,
   "metadata": {},
   "outputs": [],
   "source": [
    "import sys\n",
    "import matplotlib.pyplot as plt\n",
    "import numpy as np\n",
    "import lsst.afw.cameraGeom.utils as camGeomUtils\n",
    "import lsst.afw.display as afwDisplay\n",
    "import lsst.daf.butler as dafButler #Gen3 butler"
   ]
  },
  {
   "cell_type": "code",
   "execution_count": 2,
   "metadata": {},
   "outputs": [],
   "source": [
    "def myCallback(im, ccd, imageSource):\n",
    "    \"\"\"Assemble the CCD image.  Just bias subtraction and gain correction\"\"\"\n",
    "    oim = camGeomUtils.rawCallback(im, ccd, imageSource,\n",
    "                                   subtractBias=True, correctGain=True)\n",
    "    return oim"
   ]
  },
  {
   "cell_type": "code",
   "execution_count": 3,
   "metadata": {},
   "outputs": [],
   "source": [
    "# Instantiate the Gen3 butler\n",
    "dataPath = \"/repo/LATISS\"\n",
    "instrument = \"LATISS\"\n",
    "butler = dafButler.Butler(dataPath, \n",
    "                          collections=[\"LATISS/raw/all\", \"LATISS/calib/unbounded\"],\n",
    "                          instrument=instrument)"
   ]
  },
  {
   "cell_type": "code",
   "execution_count": 27,
   "metadata": {},
   "outputs": [],
   "source": [
    "day_obs = 20211007\n",
    "seq_num = 122\n",
    "\n",
    "raftName = \"RXX\"\n",
    "dataId = {\"instrument\": instrument, \"detector.raft\": raftName, \"detector\": 0,\n",
    "          \"exposure.day_obs\": day_obs, \"exposure.seq_num\": seq_num}"
   ]
  },
  {
   "cell_type": "code",
   "execution_count": 5,
   "metadata": {},
   "outputs": [
    {
     "name": "stderr",
     "output_type": "stream",
     "text": [
      "DataId specified explicit detector dimension value of 0 in addition to general record specifiers for it of {'raft': 'RXX'}.  Ignoring record information.\n"
     ]
    },
    {
     "name": "stdout",
     "output_type": "stream",
     "text": [
      "VisitInfo(exposureId=2021100700002, exposureTime=2, darkTime=2.32546, date=2021-10-07T17:42:23.981658432, UT1=nan, ERA=4.9176 rad, boresightRaDec=(nan, +nan), boresightAzAlt=(359.9950820987, +79.9941537364), boresightAirmass=nan, boresightRotAngle=4.88876 rad, rotType=0, observatory=-70.7494W, -30.2446N  2663, weather=Weather(nan, nan, nan), instrumentLabel='LATISS', id=2021100700002)\n"
     ]
    }
   ],
   "source": [
    "# camera has the info necessary to assemble the CCD\n",
    "camera = butler.get('camera', instrument=instrument)\n",
    "# Print the metadata just as a check.\n",
    "metadata = butler.get('raw.visitInfo', {**dataId})\n",
    "print(metadata)"
   ]
  },
  {
   "cell_type": "code",
   "execution_count": 6,
   "metadata": {},
   "outputs": [
    {
     "name": "stderr",
     "output_type": "stream",
     "text": [
      "DataId specified explicit detector dimension value of 0 in addition to general record specifiers for it of {'raft': 'RXX'}.  Ignoring record information.\n",
      "/data/lsstdata/base/auxtel/oods/gen3butler/raw/2021-10-07/AT_O_20211007_000002-R00S00.fits: outAmp.getRawBBox() != data.getBBox(); patching. ((minimum=(0, 0), maximum=(543, 2047)) v. (minimum=(0, 0), maximum=(575, 2047)))\n"
     ]
    },
    {
     "name": "stdout",
     "output_type": "stream",
     "text": [
      "10761.0 174181.0 14484.609 2528.88\n"
     ]
    }
   ],
   "source": [
    "# Print out mean and sigma for each detector\n",
    "# This is before bias subtraction and gain adjustment.\n",
    "\n",
    "exp = butler.get('raw', {**dataId})\n",
    "arr = arr = exp.image.array\n",
    "print(arr.min(), arr.max(), arr.mean(), arr.std())"
   ]
  },
  {
   "cell_type": "code",
   "execution_count": 29,
   "metadata": {},
   "outputs": [],
   "source": [
    "# Instantiate the firefly display.\n",
    "# This should open a new tab with Firefly\n",
    "disp = afwDisplay.Display(0, \"firefly\")"
   ]
  },
  {
   "cell_type": "code",
   "execution_count": 28,
   "metadata": {},
   "outputs": [
    {
     "name": "stderr",
     "output_type": "stream",
     "text": [
      "/data/lsstdata/base/auxtel/oods/gen3butler/raw/2021-10-07/AT_O_20211007_000122-R00S00.fits: outAmp.getRawBBox() != data.getBBox(); patching. ((minimum=(0, 0), maximum=(543, 2047)) v. (minimum=(0, 0), maximum=(575, 2047)))\n"
     ]
    }
   ],
   "source": [
    "# This is bias subtracted and gain adjusted (see myCallback above), so gives a decent image.\n",
    "# Note that it is only ~ 200-300 counts after bias subtraction\n",
    "disp.scale('linear', 'zscale')\n",
    "\n",
    "dataType='raw'\n",
    "mos = camGeomUtils.showCamera(camera,\n",
    "                              camGeomUtils.ButlerImage(butler, dataType, \n",
    "                                                       instrument=instrument, raft=raftName,\n",
    "                                                       day_obs=day_obs, seq_num=seq_num,\n",
    "                                                       verbose=True, callback=myCallback,\n",
    "                                                       background=np.nan),\n",
    "                              binSize=16, display=disp, overlay=False,\n",
    "                              title=\"%d %d %s\" % (day_obs, seq_num, dataType))"
   ]
  },
  {
   "cell_type": "code",
   "execution_count": null,
   "metadata": {},
   "outputs": [],
   "source": []
  }
 ],
 "metadata": {
  "kernelspec": {
   "display_name": "LSST",
   "language": "python",
   "name": "lsst"
  },
  "language_info": {
   "codemirror_mode": {
    "name": "ipython",
    "version": 3
   },
   "file_extension": ".py",
   "mimetype": "text/x-python",
   "name": "python",
   "nbconvert_exporter": "python",
   "pygments_lexer": "ipython3",
   "version": "3.8.8"
  }
 },
 "nbformat": 4,
 "nbformat_minor": 4
}
