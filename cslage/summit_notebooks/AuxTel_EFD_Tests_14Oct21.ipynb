{
 "cells": [
  {
   "cell_type": "markdown",
   "metadata": {},
   "source": [
    "## AuxTel test of EFD after UTC change\n",
    "\n",
    "Craig Lage - 14-Oct-21"
   ]
  },
  {
   "cell_type": "code",
   "execution_count": 5,
   "metadata": {},
   "outputs": [],
   "source": [
    "import sys, time, os, asyncio\n",
    "\n",
    "from datetime import datetime\n",
    "import numpy as np\n",
    "import matplotlib.pyplot as plt\n",
    "import pandas as pd\n",
    "\n",
    "from lsst.ts import salobj\n",
    "from lsst.ts.observatory.control.auxtel.atcs import ATCS\n",
    "from lsst.ts.observatory.control.auxtel.latiss import LATISS\n",
    "from astropy.time import Time, TimeDelta\n",
    "from astropy.coordinates import AltAz, ICRS, EarthLocation, Angle, FK5\n",
    "import astropy.units as u\n",
    "from lsst_efd_client import EfdClient"
   ]
  },
  {
   "cell_type": "code",
   "execution_count": 7,
   "metadata": {},
   "outputs": [],
   "source": [
    "# Set Cerro Pachon location\n",
    "location = EarthLocation.from_geodetic(lon=-70.747698*u.deg,\n",
    "                                       lat=-30.244728*u.deg,\n",
    "                                       height=2663.0*u.m)"
   ]
  },
  {
   "cell_type": "code",
   "execution_count": 8,
   "metadata": {},
   "outputs": [],
   "source": [
    "# for tab completion to work in current notebook instance\n",
    "%config IPCompleter.use_jedi = False"
   ]
  },
  {
   "cell_type": "code",
   "execution_count": 9,
   "metadata": {},
   "outputs": [],
   "source": [
    "import logging\n",
    "stream_handler = logging.StreamHandler(sys.stdout)\n",
    "logger = logging.getLogger()\n",
    "logger.addHandler(stream_handler)\n",
    "logger.level = logging.DEBUG\n",
    "# Make matplotlib less chatty\n",
    "logging.getLogger(\"matplotlib\").setLevel(logging.WARNING)"
   ]
  },
  {
   "cell_type": "code",
   "execution_count": 10,
   "metadata": {
    "collapsed": true,
    "jupyter": {
     "outputs_hidden": true
    }
   },
   "outputs": [
    {
     "name": "stdout",
     "output_type": "stream",
     "text": [
      "atmcs: Adding all resources.\n",
      "atptg: Adding all resources.\n",
      "ataos: Adding all resources.\n",
      "atpneumatics: Adding all resources.\n",
      "athexapod: Adding all resources.\n",
      "atdome: Adding all resources.\n",
      "atdometrajectory: Adding all resources.\n",
      "atcamera: Adding all resources.\n",
      "atspectrograph: Adding all resources.\n",
      "atheaderservice: Adding all resources.\n",
      "atarchiver: Adding all resources.\n",
      "Read historical data in 0.01 sec\n",
      "Read 79 history items for RemoteEvent(ATDomeTrajectory, 0, heartbeat)\n",
      "Read historical data in 0.11 sec\n",
      "Read 3 history items for RemoteEvent(ATArchiver, 0, heartbeat)\n",
      "Read historical data in 0.11 sec\n",
      "Read 10 history items for RemoteEvent(ATHeaderService, 0, heartbeat)\n",
      "Read historical data in 0.20 sec\n",
      "Read 20 history items for RemoteEvent(ATSpectrograph, 0, heartbeat)\n",
      "Read historical data in 0.38 sec\n",
      "Read 100 history items for RemoteEvent(ATHexapod, 0, heartbeat)\n",
      "Read historical data in 0.39 sec\n",
      "Read 100 history items for RemoteEvent(ATPtg, 0, heartbeat)\n",
      "Read historical data in 0.41 sec\n",
      "timeAndDate DDS read queue is full (100 elements); data may be lost\n",
      "Read 97 history items for RemoteEvent(ATDome, 0, heartbeat)\n",
      "Read historical data in 0.70 sec\n",
      "Read 100 history items for RemoteEvent(ATAOS, 0, heartbeat)\n",
      "Read historical data in 0.99 sec\n",
      "Read 100 history items for RemoteEvent(ATPneumatics, 0, heartbeat)\n",
      "mountPositions DDS read queue is full (100 elements); data may be lost\n",
      "Read historical data in 1.11 sec\n",
      "Read 48 history items for RemoteEvent(ATCamera, 0, heartbeat)\n",
      "Read historical data in 1.20 sec\n",
      "Read 100 history items for RemoteEvent(ATMCS, 0, heartbeat)\n"
     ]
    },
    {
     "data": {
      "text/plain": [
       "[[None, None, None, None, None, None, None], [None, None, None, None]]"
      ]
     },
     "execution_count": 10,
     "metadata": {},
     "output_type": "execute_result"
    },
    {
     "name": "stdout",
     "output_type": "stream",
     "text": [
      "atspectrographCorrectionCompleted DDS read queue is filling: 29 of 100 elements\n",
      "atspectrographCorrectionCompleted DDS read queue is filling: 23 of 100 elements\n",
      "hexapodCorrectionStarted DDS read queue is filling: 19 of 100 elements\n",
      "logMessage DDS read queue is filling: 24 of 100 elements\n",
      "heartbeat DDS read queue is full (100 elements); data may be lost\n",
      "ccsCommandState DDS read queue is full (100 elements); data may be lost\n",
      "summaryState DDS read queue is filling: 49 of 100 elements\n",
      "azimuthState DDS read queue is full (100 elements); data may be lost\n",
      "imageRetrievalForArchiving DDS read queue is full (100 elements); data may be lost\n",
      "startReadout DDS read queue is full (100 elements); data may be lost\n",
      "pointingOffsetSummary DDS read queue is full (100 elements); data may be lost\n",
      "azimuthInPosition DDS read queue is full (100 elements); data may be lost\n",
      "heartbeat DDS read queue is filling: 81 of 100 elements\n",
      "imageInOODS DDS read queue is full (100 elements); data may be lost\n",
      "startIntegration DDS read queue is full (100 elements); data may be lost\n",
      "m1CorrectionStarted DDS read queue is full (100 elements); data may be lost\n",
      "heartbeat DDS read queue is filling: 70 of 100 elements\n",
      "azimuthCommandedState DDS read queue is full (100 elements); data may be lost\n",
      "followingMode DDS read queue is filling: 13 of 100 elements\n",
      "shutterMotionProfile DDS read queue is full (100 elements); data may be lost\n",
      "m1CorrectionCompleted DDS read queue is full (100 elements); data may be lost\n",
      "summaryState DDS read queue is filling: 53 of 100 elements\n",
      "appliedSettingsMatchStart DDS read queue is filling: 14 of 100 elements\n",
      "appliedSettingsMatchStart DDS read queue is filling: 15 of 100 elements\n",
      "appliedSettingsMatchStart DDS read queue is filling: 15 of 100 elements\n",
      "shutterDetailedState DDS read queue is full (100 elements); data may be lost\n",
      "heartbeat DDS read queue is filling: 64 of 100 elements\n",
      "logMessage DDS read queue is full (100 elements); data may be lost\n",
      "allAxesInPosition DDS read queue is full (100 elements); data may be lost\n",
      "summaryState DDS read queue is filling: 63 of 100 elements\n",
      "raftsDetailedState DDS read queue is full (100 elements); data may be lost\n",
      "detailedState DDS read queue is full (100 elements); data may be lost\n",
      "summaryState DDS read queue is filling: 61 of 100 elements\n",
      "largeFileObjectAvailable DDS read queue is full (100 elements); data may be lost\n",
      "imageReadoutParameters DDS read queue is full (100 elements); data may be lost\n",
      "shutterInPosition DDS read queue is full (100 elements); data may be lost\n",
      "logMessage DDS read queue is full (100 elements); data may be lost\n",
      "imageReadinessDetailedState DDS read queue is full (100 elements); data may be lost\n",
      "allAxesInPosition DDS read queue is filling: 32 of 100 elements\n",
      "positionUpdate DDS read queue is full (100 elements); data may be lost\n",
      "settingsAppliedDomeTcp DDS read queue is filling: 15 of 100 elements\n",
      "heartbeat DDS read queue is full (100 elements); data may be lost\n",
      "azimuthBrake1 DDS read queue is filling: 11 of 100 elements\n",
      "logMessage DDS read queue is full (100 elements); data may be lost\n",
      "settingsAppliedDomeController DDS read queue is filling: 34 of 100 elements\n",
      "endShutterOpen DDS read queue is full (100 elements); data may be lost\n",
      "atMountState DDS read queue is filling: 57 of 100 elements\n",
      "endShutterClose DDS read queue is full (100 elements); data may be lost\n",
      "inPosition DDS read queue is full (100 elements); data may be lost\n",
      "scbLink DDS read queue is filling: 32 of 100 elements\n",
      "heartbeat DDS read queue is filling: 51 of 100 elements\n",
      "endReadout DDS read queue is full (100 elements); data may be lost\n",
      "summaryState DDS read queue is filling: 85 of 100 elements\n",
      "moveCode DDS read queue is full (100 elements); data may be lost\n",
      "elevationInPosition DDS read queue is filling: 33 of 100 elements\n",
      "endOfImageTelemetry DDS read queue is full (100 elements); data may be lost\n",
      "mainDoorState DDS read queue is filling: 15 of 100 elements\n",
      "elevationDriveStatus DDS read queue is filling: 11 of 100 elements\n",
      "mainDoorCommandedState DDS read queue is filling: 25 of 100 elements\n",
      "elevationBrake DDS read queue is filling: 11 of 100 elements\n",
      "logMessage DDS read queue is filling: 38 of 100 elements\n",
      "azimuthInPosition DDS read queue is filling: 33 of 100 elements\n",
      "lastAzimuthGoTo DDS read queue is filling: 87 of 100 elements\n",
      "azimuthDrive2Status DDS read queue is filling: 11 of 100 elements\n",
      "heartbeat DDS read queue is full (100 elements); data may be lost\n",
      "azimuthDrive1Status DDS read queue is filling: 11 of 100 elements\n",
      "dropoutDoorState DDS read queue is full (100 elements); data may be lost\n",
      "heartbeat DDS read queue is filling: 41 of 100 elements\n",
      "target DDS read queue is full (100 elements); data may be lost\n",
      "dropoutDoorCommandedState DDS read queue is filling: 23 of 100 elements\n",
      "target python read queue is filling: 99 of 100 elements\n",
      "summaryState DDS read queue is filling: 21 of 100 elements\n",
      "m1CoverLimitSwitches DDS read queue is filling: 27 of 100 elements\n",
      "doorEncoderExtremes DDS read queue is full (100 elements); data may be lost\n",
      "nasmyth2RotatorInPosition DDS read queue is filling: 33 of 100 elements\n",
      "heartbeat DDS read queue is filling: 60 of 100 elements\n",
      "nasmyth2DriveStatus DDS read queue is filling: 11 of 100 elements\n",
      "m1CoverState DDS read queue is filling: 33 of 100 elements\n",
      "nasmyth2Brake DDS read queue is filling: 11 of 100 elements\n",
      "m1CoverLimitSwitches DDS read queue is filling: 58 of 100 elements\n",
      "nasmyth1RotatorInPosition DDS read queue is filling: 29 of 100 elements\n",
      "m1SetPressure DDS read queue is filling: 33 of 100 elements\n",
      "nasmyth1DriveStatus DDS read queue is filling: 11 of 100 elements\n",
      "nasmyth1Brake DDS read queue is filling: 11 of 100 elements\n",
      "m3State DDS read queue is filling: 10 of 100 elements\n",
      "summaryState DDS read queue is filling: 15 of 100 elements\n",
      "airmassWarning DDS read queue is filling: 11 of 100 elements\n",
      "currentDebugLevel DDS read queue is filling: 13 of 100 elements\n",
      "currentTarget DDS read queue is filling: 19 of 100 elements\n",
      "currentTarget DDS read queue is filling: 59 of 100 elements\n",
      "detailedState DDS read queue is filling: 65 of 100 elements\n",
      "errorCode DDS read queue is filling: 14 of 100 elements\n",
      "focusNameSelected DDS read queue is filling: 22 of 100 elements\n",
      "heartbeat DDS read queue is filling: 14 of 100 elements\n",
      "heartbeat DDS read queue is filling: 16 of 100 elements\n",
      "iers DDS read queue is filling: 40 of 100 elements\n",
      "ptgAzCurrentWrap DDS read queue is filling: 29 of 100 elements\n",
      "timesOfLimits DDS read queue is filling: 26 of 100 elements\n",
      "weatherDataApplied DDS read queue is filling: 13 of 100 elements\n",
      "weatherDataInvalid DDS read queue is filling: 10 of 100 elements\n",
      "disperserInPosition DDS read queue is filling: 13 of 100 elements\n",
      "disperserInPosition DDS read queue is filling: 12 of 100 elements\n",
      "filterInPosition DDS read queue is filling: 28 of 100 elements\n",
      "gwState DDS read queue is filling: 40 of 100 elements\n",
      "reportedDisperserPosition DDS read queue is filling: 17 of 100 elements\n",
      "reportedFilterPosition DDS read queue is filling: 15 of 100 elements\n",
      "summaryState DDS read queue is filling: 19 of 100 elements\n"
     ]
    }
   ],
   "source": [
    "#get classes and start them\n",
    "domain = salobj.Domain()\n",
    "await asyncio.sleep(10) # This can be removed in the future...\n",
    "atcs = ATCS(domain)\n",
    "latiss = LATISS(domain)\n",
    "await asyncio.gather(atcs.start_task, latiss.start_task)"
   ]
  },
  {
   "cell_type": "code",
   "execution_count": 11,
   "metadata": {
    "collapsed": true,
    "jupyter": {
     "outputs_hidden": true
    }
   },
   "outputs": [
    {
     "name": "stdout",
     "output_type": "stream",
     "text": [
      "Enabling all components\n",
      "Gathering settings.\n",
      "Received settings from users.: {'atdome': 'current', 'ataos': 'current', 'athexapod': 'current'}\n",
      "Couldn't get settingVersions event. Using empty settings.\n",
      "Complete settings for atmcs.\n",
      "Complete settings for atptg.\n",
      "Complete settings for atpneumatics.\n",
      "Complete settings for atdometrajectory.\n",
      "Settings versions: {'atdome': 'current', 'ataos': 'current', 'athexapod': 'current', 'atmcs': '                                                                                                                                                                                                                                                                ', 'atptg': '', 'atpneumatics': '                                                                                                                                                                                                                                                                ', 'atdometrajectory': ''}\n",
      "[atmcs]::[<State.STANDBY: 5>, <State.DISABLED: 1>, <State.ENABLED: 2>]\n",
      "[atptg]::[<State.STANDBY: 5>, <State.DISABLED: 1>, <State.ENABLED: 2>]\n",
      "[ataos]::[<State.STANDBY: 5>, <State.DISABLED: 1>, <State.ENABLED: 2>]\n",
      "[atpneumatics]::[<State.STANDBY: 5>, <State.DISABLED: 1>, <State.ENABLED: 2>]\n",
      "[athexapod]::[<State.STANDBY: 5>, <State.DISABLED: 1>, <State.ENABLED: 2>]\n",
      "[atdome]::[<State.STANDBY: 5>, <State.DISABLED: 1>, <State.ENABLED: 2>]\n",
      "[atdometrajectory]::[<State.STANDBY: 5>, <State.DISABLED: 1>, <State.ENABLED: 2>]\n",
      "All components in <State.ENABLED: 2>.\n",
      "Enabling all components\n",
      "Gathering settings.\n",
      "Received settings from users.: {'atspectrograph': 'current'}\n",
      "Couldn't get settingVersions event. Using empty settings.\n",
      "Couldn't get settingVersions event. Using empty settings.\n",
      "Couldn't get settingVersions event. Using empty settings.\n",
      "Complete settings for atcamera.\n",
      "Complete settings for atheaderservice.\n",
      "Complete settings for atarchiver.\n",
      "Settings versions: {'atspectrograph': 'current', 'atcamera': '', 'atheaderservice': '', 'atarchiver': ''}\n",
      "Unable to transition atcamera to <State.ENABLED: 2> NoneType: None\n",
      ".\n",
      "Traceback (most recent call last):\n",
      "  File \"/opt/lsst/software/stack/conda/miniconda3-py38_4.9.2/envs/lsst-scipipe-0.7.0/lib/python3.8/site-packages/lsst/ts/salobj/csc_utils.py\", line 142, in set_summary_state\n",
      "    state_data = await remote.evt_summaryState.aget(timeout=timeout)  # type: ignore\n",
      "  File \"/opt/lsst/software/stack/conda/miniconda3-py38_4.9.2/envs/lsst-scipipe-0.7.0/lib/python3.8/site-packages/lsst/ts/salobj/topics/read_topic.py\", line 517, in aget\n",
      "    await asyncio.wait_for(self._next_task, timeout=timeout)\n",
      "  File \"/opt/lsst/software/stack/conda/miniconda3-py38_4.9.2/envs/lsst-scipipe-0.7.0/lib/python3.8/asyncio/tasks.py\", line 501, in wait_for\n",
      "    raise exceptions.TimeoutError()\n",
      "asyncio.exceptions.TimeoutError\n",
      "\n",
      "During handling of the above exception, another exception occurred:\n",
      "\n",
      "Traceback (most recent call last):\n",
      "  File \"/opt/lsst/software/stack/conda/miniconda3-py38_4.9.2/envs/lsst-scipipe-0.7.0/lib/python3.8/site-packages/lsst/ts/salobj/csc_utils.py\", line 144, in set_summary_state\n",
      "    raise RuntimeError(f\"Cannot get summaryState from {remote.salinfo.name}\")\n",
      "RuntimeError: Cannot get summaryState from ATCamera\n",
      "\n",
      "[atspectrograph]::[<State.STANDBY: 5>, <State.DISABLED: 1>, <State.ENABLED: 2>]\n",
      "[atheaderservice]::[<State.STANDBY: 5>, <State.DISABLED: 1>, <State.ENABLED: 2>]\n",
      "Unable to transition atarchiver to <State.ENABLED: 2> NoneType: None\n",
      ".\n",
      "Traceback (most recent call last):\n",
      "  File \"/opt/lsst/software/stack/conda/miniconda3-py38_4.9.2/envs/lsst-scipipe-0.7.0/lib/python3.8/site-packages/lsst/ts/salobj/csc_utils.py\", line 142, in set_summary_state\n",
      "    state_data = await remote.evt_summaryState.aget(timeout=timeout)  # type: ignore\n",
      "  File \"/opt/lsst/software/stack/conda/miniconda3-py38_4.9.2/envs/lsst-scipipe-0.7.0/lib/python3.8/site-packages/lsst/ts/salobj/topics/read_topic.py\", line 517, in aget\n",
      "    await asyncio.wait_for(self._next_task, timeout=timeout)\n",
      "  File \"/opt/lsst/software/stack/conda/miniconda3-py38_4.9.2/envs/lsst-scipipe-0.7.0/lib/python3.8/asyncio/tasks.py\", line 501, in wait_for\n",
      "    raise exceptions.TimeoutError()\n",
      "asyncio.exceptions.TimeoutError\n",
      "\n",
      "During handling of the above exception, another exception occurred:\n",
      "\n",
      "Traceback (most recent call last):\n",
      "  File \"/opt/lsst/software/stack/conda/miniconda3-py38_4.9.2/envs/lsst-scipipe-0.7.0/lib/python3.8/site-packages/lsst/ts/salobj/csc_utils.py\", line 144, in set_summary_state\n",
      "    raise RuntimeError(f\"Cannot get summaryState from {remote.salinfo.name}\")\n",
      "RuntimeError: Cannot get summaryState from ATArchiver\n",
      "\n"
     ]
    },
    {
     "ename": "RuntimeError",
     "evalue": "Failed to transition ['atcamera', 'atarchiver'] to <State.ENABLED: 2>.",
     "output_type": "error",
     "traceback": [
      "\u001b[0;31m---------------------------------------------------------------------------\u001b[0m",
      "\u001b[0;31mRuntimeError\u001b[0m                              Traceback (most recent call last)",
      "\u001b[0;32m<ipython-input-11-c66d79de2c77>\u001b[0m in \u001b[0;36m<module>\u001b[0;34m\u001b[0m\n\u001b[1;32m      1\u001b[0m \u001b[0;31m# enable components if required\u001b[0m\u001b[0;34m\u001b[0m\u001b[0;34m\u001b[0m\u001b[0;34m\u001b[0m\u001b[0m\n\u001b[1;32m      2\u001b[0m \u001b[0;32mawait\u001b[0m \u001b[0matcs\u001b[0m\u001b[0;34m.\u001b[0m\u001b[0menable\u001b[0m\u001b[0;34m(\u001b[0m\u001b[0;34m{\u001b[0m\u001b[0;34m\"atdome\"\u001b[0m\u001b[0;34m:\u001b[0m \u001b[0;34m\"current\"\u001b[0m\u001b[0;34m,\u001b[0m \u001b[0;34m\"ataos\"\u001b[0m\u001b[0;34m:\u001b[0m \u001b[0;34m\"current\"\u001b[0m\u001b[0;34m,\u001b[0m \u001b[0;34m\"athexapod\"\u001b[0m\u001b[0;34m:\u001b[0m \u001b[0;34m\"current\"\u001b[0m\u001b[0;34m}\u001b[0m\u001b[0;34m)\u001b[0m\u001b[0;34m\u001b[0m\u001b[0;34m\u001b[0m\u001b[0m\n\u001b[0;32m----> 3\u001b[0;31m \u001b[0;32mawait\u001b[0m \u001b[0mlatiss\u001b[0m\u001b[0;34m.\u001b[0m\u001b[0menable\u001b[0m\u001b[0;34m(\u001b[0m\u001b[0;34m{\u001b[0m\u001b[0;34m\"atspectrograph\"\u001b[0m\u001b[0;34m:\u001b[0m \u001b[0;34m\"current\"\u001b[0m\u001b[0;34m}\u001b[0m\u001b[0;34m)\u001b[0m\u001b[0;34m\u001b[0m\u001b[0;34m\u001b[0m\u001b[0m\n\u001b[0m",
      "\u001b[0;32m~/auto-op-env-packages/ts_observatory_control/python/lsst/ts/observatory/control/remote_group.py\u001b[0m in \u001b[0;36menable\u001b[0;34m(self, settings)\u001b[0m\n\u001b[1;32m    895\u001b[0m         \u001b[0msettings_all\u001b[0m \u001b[0;34m=\u001b[0m \u001b[0;32mawait\u001b[0m \u001b[0mself\u001b[0m\u001b[0;34m.\u001b[0m\u001b[0mexpand_settings\u001b[0m\u001b[0;34m(\u001b[0m\u001b[0msettings\u001b[0m\u001b[0;34m)\u001b[0m\u001b[0;34m\u001b[0m\u001b[0;34m\u001b[0m\u001b[0m\n\u001b[1;32m    896\u001b[0m \u001b[0;34m\u001b[0m\u001b[0m\n\u001b[0;32m--> 897\u001b[0;31m         \u001b[0;32mawait\u001b[0m \u001b[0mself\u001b[0m\u001b[0;34m.\u001b[0m\u001b[0mset_state\u001b[0m\u001b[0;34m(\u001b[0m\u001b[0msalobj\u001b[0m\u001b[0;34m.\u001b[0m\u001b[0mState\u001b[0m\u001b[0;34m.\u001b[0m\u001b[0mENABLED\u001b[0m\u001b[0;34m,\u001b[0m \u001b[0msettings\u001b[0m\u001b[0;34m=\u001b[0m\u001b[0msettings_all\u001b[0m\u001b[0;34m)\u001b[0m\u001b[0;34m\u001b[0m\u001b[0;34m\u001b[0m\u001b[0m\n\u001b[0m\u001b[1;32m    898\u001b[0m \u001b[0;34m\u001b[0m\u001b[0m\n\u001b[1;32m    899\u001b[0m     \u001b[0;32masync\u001b[0m \u001b[0;32mdef\u001b[0m \u001b[0mstandby\u001b[0m\u001b[0;34m(\u001b[0m\u001b[0mself\u001b[0m\u001b[0;34m)\u001b[0m\u001b[0;34m:\u001b[0m\u001b[0;34m\u001b[0m\u001b[0;34m\u001b[0m\u001b[0m\n",
      "\u001b[0;32m~/auto-op-env-packages/ts_observatory_control/python/lsst/ts/observatory/control/remote_group.py\u001b[0m in \u001b[0;36mset_state\u001b[0;34m(self, state, settings, components)\u001b[0m\n\u001b[1;32m    789\u001b[0m \u001b[0;34m\u001b[0m\u001b[0m\n\u001b[1;32m    790\u001b[0m         \u001b[0;32mif\u001b[0m \u001b[0merror_flag\u001b[0m\u001b[0;34m:\u001b[0m\u001b[0;34m\u001b[0m\u001b[0;34m\u001b[0m\u001b[0m\n\u001b[0;32m--> 791\u001b[0;31m             raise RuntimeError(\n\u001b[0m\u001b[1;32m    792\u001b[0m                 \u001b[0;34mf\"Failed to transition {failed_components} to \"\u001b[0m\u001b[0;34m\u001b[0m\u001b[0;34m\u001b[0m\u001b[0m\n\u001b[1;32m    793\u001b[0m                 \u001b[0;34mf\"{salobj.State(state)!r}.\"\u001b[0m\u001b[0;34m\u001b[0m\u001b[0;34m\u001b[0m\u001b[0m\n",
      "\u001b[0;31mRuntimeError\u001b[0m: Failed to transition ['atcamera', 'atarchiver'] to <State.ENABLED: 2>."
     ]
    }
   ],
   "source": [
    "# enable components if required\n",
    "await atcs.enable({\"atdome\": \"current\", \"ataos\": \"current\", \"athexapod\": \"current\"})\n",
    "await latiss.enable({\"atspectrograph\": \"current\"})"
   ]
  },
  {
   "cell_type": "code",
   "execution_count": 12,
   "metadata": {},
   "outputs": [],
   "source": [
    "# I'm not sure why this errored out, but everything shows as ENABLED, so I'm driving on.\n",
    "# All components enabled 11:35AM project time"
   ]
  },
  {
   "cell_type": "code",
   "execution_count": null,
   "metadata": {},
   "outputs": [],
   "source": [
    "# take event checking out the slew commands to test telescope only\n",
    "# otherwise it'll wait for the dome before completing slew command\n",
    "atcs.check.atdome = False\n",
    "atcs.check.atdometrajectory = False"
   ]
  },
  {
   "cell_type": "code",
   "execution_count": 13,
   "metadata": {
    "collapsed": true,
    "jupyter": {
     "outputs_hidden": true
    }
   },
   "outputs": [
    {
     "name": "stdout",
     "output_type": "stream",
     "text": [
      "Generating group_id\n",
      "imagetype: BIAS, skip TCS synchronization.\n",
      "BIAS 0001 - 0001\n",
      "logMessage DDS read queue is filling: 29 of 100 elements\n",
      "logMessage DDS read queue is filling: 13 of 100 elements\n",
      "logMessage DDS read queue is filling: 10 of 100 elements\n",
      "Generating group_id\n",
      "imagetype: BIAS, skip TCS synchronization.\n",
      "BIAS 0001 - 0001\n",
      "logMessage DDS read queue is filling: 11 of 100 elements\n",
      "logMessage DDS read queue is filling: 21 of 100 elements\n",
      "Generating group_id\n",
      "imagetype: BIAS, skip TCS synchronization.\n",
      "BIAS 0001 - 0001\n",
      "logMessage DDS read queue is filling: 20 of 100 elements\n",
      "Generating group_id\n",
      "imagetype: BIAS, skip TCS synchronization.\n",
      "BIAS 0001 - 0001\n",
      "Generating group_id\n",
      "imagetype: BIAS, skip TCS synchronization.\n",
      "BIAS 0001 - 0001\n",
      "logMessage DDS read queue is filling: 10 of 100 elements\n"
     ]
    }
   ],
   "source": [
    "# Take 5 biases to make sure everything is working\n",
    "# All looks OK\n",
    "for i in range(5):\n",
    "    await latiss.take_bias(1)\n",
    "    await asyncio.sleep(2)"
   ]
  },
  {
   "cell_type": "code",
   "execution_count": 14,
   "metadata": {
    "collapsed": true,
    "jupyter": {
     "outputs_hidden": true
    }
   },
   "outputs": [
    {
     "name": "stdout",
     "output_type": "stream",
     "text": [
      "Sending command\n",
      "Stop tracking.\n",
      "Tracking state: <AtMountState.STOPPING: 10>\n",
      "Scheduling check coroutines\n",
      "process as completed...\n",
      "atmcs: <State.ENABLED: 2>\n",
      "atptg: <State.ENABLED: 2>\n",
      "ataos: <State.ENABLED: 2>\n",
      "atpneumatics: <State.ENABLED: 2>\n",
      "athexapod: <State.ENABLED: 2>\n",
      "allAxesInPosition python read queue is filling: 33 of 100 elements\n",
      "Got False\n",
      "Telescope not in position\n",
      "Got True\n",
      "Waiting for telescope to settle.\n",
      "Dome following disabled. Ignoring dome position.\n",
      "ATDome in position.\n",
      "[Telescope] delta Alt = -009.987 deg; delta Az= -000.003 deg; delta N1 = -000.000 deg; delta N2 = +000.000 deg \n",
      "Telescope in position.\n"
     ]
    }
   ],
   "source": [
    "# point telescope to desired starting position\n",
    "start_az=0\n",
    "start_el=70\n",
    "start_rot_pa=0\n",
    "await atcs.point_azel(start_az, start_el, rot_tel=start_rot_pa, wait_dome=False)"
   ]
  },
  {
   "cell_type": "code",
   "execution_count": 17,
   "metadata": {},
   "outputs": [],
   "source": [
    "#declare offset sizes for tests\n",
    "\n",
    "# For small slew and settle\n",
    "d_az= 5.0 # degrees\n",
    "d_el = 2.0 # degrees\n",
    "d_rot= 0 # degrees"
   ]
  },
  {
   "cell_type": "code",
   "execution_count": 18,
   "metadata": {},
   "outputs": [
    {
     "name": "stdout",
     "output_type": "stream",
     "text": [
      "orig az 0.0 deg and el 70.0 deg\n",
      "Current Position is: \n",
      " <AltAz Coordinate (obstime=59501.780400171345, location=(1819093.56876225, -5208411.6827961, -3195180.61110659) m, pressure=0.0 hPa, temperature=0.0 deg_C, relative_humidity=0.0, obswl=1.0 micron): (az, alt) in deg\n",
      "    (0., 70.)>\n",
      "Current Position is: \n",
      " <ICRS Coordinate: (ra, dec) in deg\n",
      "    (233.43732671, -10.17428466)>\n",
      "target az 5.0 deg and el 72.0 deg\n",
      "Target Position is: \n",
      " <AltAz Coordinate (obstime=59501.780400171345, location=(1819093.56876225, -5208411.6827961, -3195180.61110659) m, pressure=0.0 hPa, temperature=0.0 deg_C, relative_humidity=0.0, obswl=1.0 micron): (az, alt) in deg\n",
      "    (5., 72.)>\n",
      "Target Position is: \n",
      " <ICRS Coordinate: (ra, dec) in deg\n",
      "    (235.01289864, -12.2363705)>\n"
     ]
    }
   ],
   "source": [
    "# get RA/DEC of current telescope Alt/Az position\n",
    "az = Angle(start_az, unit=u.deg)\n",
    "el = Angle(start_el, unit=u.deg)\n",
    "print(f'orig az {az} and el {el}')\n",
    "time_data = await atcs.rem.atptg.tel_timeAndDate.next(flush=True, timeout=2)\n",
    "# This should be TAI and not UTC... so will be 37s off system clock seconds ??\n",
    "curr_time_atptg = Time(time_data.mjd, format=\"mjd\")\n",
    "coord_frame_AltAz = AltAz(location=location, obstime=curr_time_atptg)\n",
    "coord_frame_radec = ICRS()\n",
    "coord_azel = AltAz(az=az, alt=el, location=location, obstime=curr_time_atptg)\n",
    "ra_dec = coord_azel.transform_to(coord_frame_radec)\n",
    "print('Current Position is: \\n {}'.format(coord_azel))\n",
    "print('Current Position is: \\n {}'.format(ra_dec))\n",
    "\n",
    "# get RA/DEC of target position\n",
    "az = Angle(start_az+d_az, unit=u.deg)\n",
    "el = Angle(start_el+d_el, unit=u.deg)\n",
    "print(f'target az {az} and el {el}')\n",
    "coord_azel_target = AltAz(az=az, alt=el, location=location, obstime=curr_time_atptg)\n",
    "ra_dec_target = coord_azel_target.transform_to(coord_frame_radec)\n",
    "print('Target Position is: \\n {}'.format(coord_azel_target))\n",
    "print('Target Position is: \\n {}'.format(ra_dec_target))"
   ]
  },
  {
   "cell_type": "code",
   "execution_count": 19,
   "metadata": {},
   "outputs": [
    {
     "name": "stdout",
     "output_type": "stream",
     "text": [
      "Auto sky angle: 0.0 deg\n",
      "Sending command\n",
      "Scheduling check coroutines\n",
      "process as completed...\n",
      "atmcs: <State.ENABLED: 2>\n",
      "atptg: <State.ENABLED: 2>\n",
      "ataos: <State.ENABLED: 2>\n",
      "atpneumatics: <State.ENABLED: 2>\n",
      "athexapod: <State.ENABLED: 2>\n",
      "atdome: <State.ENABLED: 2>\n",
      "atdometrajectory: <State.ENABLED: 2>\n",
      "Dome following disabled. Ignoring dome position.\n",
      "ATDome in position.\n",
      "Got False\n",
      "Telescope not in position\n",
      "[Telescope] delta Alt = +000.016 deg; delta Az = +000.329 deg; delta N1 = -000.000 deg; delta N2 = +068.473 deg [Dome] delta Az = +003.040 deg\n",
      "[Telescope] delta Alt = -000.000 deg; delta Az = -000.016 deg; delta N1 = -000.000 deg; delta N2 = +064.625 deg [Dome] delta Az = +003.040 deg\n",
      "[Telescope] delta Alt = -000.000 deg; delta Az = -000.011 deg; delta N1 = +000.000 deg; delta N2 = +058.650 deg [Dome] delta Az = +003.040 deg\n",
      "[Telescope] delta Alt = -000.000 deg; delta Az = -000.012 deg; delta N1 = +000.000 deg; delta N2 = +054.679 deg [Dome] delta Az = +003.040 deg\n",
      "[Telescope] delta Alt = +000.000 deg; delta Az = -000.012 deg; delta N1 = +000.000 deg; delta N2 = +048.702 deg [Dome] delta Az = +003.040 deg\n",
      "[Telescope] delta Alt = +000.000 deg; delta Az = -000.013 deg; delta N1 = +000.000 deg; delta N2 = +042.727 deg [Dome] delta Az = +003.040 deg\n",
      "[Telescope] delta Alt = +000.000 deg; delta Az = -000.011 deg; delta N1 = +000.000 deg; delta N2 = +036.763 deg [Dome] delta Az = +003.040 deg\n",
      "[Telescope] delta Alt = +000.000 deg; delta Az = -000.011 deg; delta N1 = +000.000 deg; delta N2 = +030.793 deg [Dome] delta Az = +003.040 deg\n",
      "[Telescope] delta Alt = -000.000 deg; delta Az = -000.011 deg; delta N1 = +000.000 deg; delta N2 = +024.832 deg [Dome] delta Az = +003.040 deg\n",
      "[Telescope] delta Alt = -000.000 deg; delta Az = -000.012 deg; delta N1 = -000.000 deg; delta N2 = +018.979 deg [Dome] delta Az = +003.040 deg\n",
      "[Telescope] delta Alt = -000.000 deg; delta Az = -000.013 deg; delta N1 = -000.000 deg; delta N2 = +013.473 deg [Dome] delta Az = +003.040 deg\n",
      "[Telescope] delta Alt = -000.000 deg; delta Az = -000.011 deg; delta N1 = +000.000 deg; delta N2 = +008.648 deg [Dome] delta Az = +003.040 deg\n",
      "[Telescope] delta Alt = -000.000 deg; delta Az = -000.012 deg; delta N1 = -000.000 deg; delta N2 = +005.956 deg [Dome] delta Az = +003.040 deg\n",
      "[Telescope] delta Alt = -000.000 deg; delta Az = -000.012 deg; delta N1 = +000.000 deg; delta N2 = +002.828 deg [Dome] delta Az = +003.040 deg\n",
      "[Telescope] delta Alt = -000.000 deg; delta Az = -000.013 deg; delta N1 = -000.000 deg; delta N2 = +000.925 deg [Dome] delta Az = +003.040 deg\n",
      "[Telescope] delta Alt = -000.000 deg; delta Az = -000.011 deg; delta N1 = +000.000 deg; delta N2 = +000.286 deg [Dome] delta Az = +003.040 deg\n",
      "[Telescope] delta Alt = -000.000 deg; delta Az = -000.013 deg; delta N1 = -000.000 deg; delta N2 = -000.011 deg [Dome] delta Az = +003.040 deg\n",
      "Got True\n",
      "Telescope in position.\n",
      "track for 2s\n",
      "Generating group_id\n",
      "imagetype: ENGTEST, skip TCS synchronization.\n",
      "ENGTEST 0001 - 0001\n"
     ]
    },
    {
     "data": {
      "text/plain": [
       "array([2021101400006])"
      ]
     },
     "execution_count": 19,
     "metadata": {},
     "output_type": "execute_result"
    },
    {
     "name": "stdout",
     "output_type": "stream",
     "text": [
      "logMessage DDS read queue is filling: 18 of 100 elements\n"
     ]
    }
   ],
   "source": [
    "# Slew to starting position and take an image to check headers\n",
    "# Image 006\n",
    "await atcs.slew_icrs(ra=str(ra_dec.ra), dec=str(ra_dec.dec), rot=0.0,\n",
    "                      slew_timeout=240., stop_before_slew=False, wait_settle=False)\n",
    "\n",
    "\n",
    "print('track for 2s')\n",
    "await asyncio.sleep(2)\n",
    "# take a quick image to get some header data\n",
    "await latiss.take_engtest(exptime=2)\n"
   ]
  },
  {
   "cell_type": "code",
   "execution_count": 21,
   "metadata": {},
   "outputs": [
    {
     "name": "stdout",
     "output_type": "stream",
     "text": [
      "Auto sky angle: 0.0 deg\n",
      "Sending command\n",
      "[Telescope] delta Alt = +000.000 deg; delta Az = -000.013 deg; delta N1 = -000.000 deg; delta N2 = -000.014 deg [Dome] delta Az = +003.040 deg\n",
      "Scheduling check coroutines\n",
      "process as completed...\n",
      "atmcs: <State.ENABLED: 2>\n",
      "atptg: <State.ENABLED: 2>\n",
      "ataos: <State.ENABLED: 2>\n",
      "atpneumatics: <State.ENABLED: 2>\n",
      "athexapod: <State.ENABLED: 2>\n",
      "atdome: <State.ENABLED: 2>\n",
      "atdometrajectory: <State.ENABLED: 2>\n",
      "Dome following disabled. Ignoring dome position.\n",
      "ATDome in position.\n",
      "Got False\n",
      "Telescope not in position\n",
      "Got False\n",
      "Telescope not in position\n",
      "[Telescope] delta Alt = +001.971 deg; delta Az = +004.767 deg; delta N1 = +000.000 deg; delta N2 = -001.548 deg [Dome] delta Az = +003.040 deg\n",
      "[Telescope] delta Alt = +001.293 deg; delta Az = +004.768 deg; delta N1 = -000.000 deg; delta N2 = -000.591 deg [Dome] delta Az = +003.040 deg\n",
      "[Telescope] delta Alt = +000.005 deg; delta Az = +003.162 deg; delta N1 = -000.000 deg; delta N2 = -000.013 deg [Dome] delta Az = +003.040 deg\n",
      "[Telescope] delta Alt = -000.000 deg; delta Az = +001.496 deg; delta N1 = +000.000 deg; delta N2 = -000.016 deg [Dome] delta Az = +003.040 deg\n",
      "Got True\n",
      "Telescope in position.\n",
      "Got True\n",
      "Telescope in position.\n",
      "track for 2s\n",
      "Generating group_id\n",
      "imagetype: ENGTEST, skip TCS synchronization.\n",
      "ENGTEST 0001 - 0001\n"
     ]
    },
    {
     "data": {
      "text/plain": [
       "array([2021101400007])"
      ]
     },
     "execution_count": 21,
     "metadata": {},
     "output_type": "execute_result"
    },
    {
     "name": "stdout",
     "output_type": "stream",
     "text": [
      "logMessage DDS read queue is filling: 26 of 100 elements\n"
     ]
    }
   ],
   "source": [
    "# Slew to target position and take an image to check headers\n",
    "# Image 007\n",
    "await atcs.slew_icrs(ra=str(ra_dec_target.ra), dec=str(ra_dec_target.dec), rot=0.0,\n",
    "                      slew_timeout=240., stop_before_slew=False, wait_settle=False)\n",
    "\n",
    "\n",
    "print('track for 2s')\n",
    "await asyncio.sleep(2)\n",
    "# take a quick image to get some header data\n",
    "await latiss.take_engtest(exptime=2)\n"
   ]
  },
  {
   "cell_type": "code",
   "execution_count": 22,
   "metadata": {
    "collapsed": true,
    "jupyter": {
     "outputs_hidden": true
    }
   },
   "outputs": [
    {
     "name": "stdout",
     "output_type": "stream",
     "text": [
      "Auto sky angle: 0.0 deg\n",
      "Sending command\n",
      "Scheduling check coroutines\n",
      "process as completed...\n",
      "atmcs: <State.ENABLED: 2>\n",
      "atptg: <State.ENABLED: 2>\n",
      "ataos: <State.ENABLED: 2>\n",
      "atpneumatics: <State.ENABLED: 2>\n",
      "athexapod: <State.ENABLED: 2>\n",
      "atdome: <State.ENABLED: 2>\n",
      "atdometrajectory: <State.ENABLED: 2>\n",
      "Dome following disabled. Ignoring dome position.\n",
      "ATDome in position.\n",
      "Got False\n",
      "Telescope not in position\n",
      "[Telescope] delta Alt = -001.896 deg; delta Az = -004.738 deg; delta N1 = +000.000 deg; delta N2 = +001.983 deg [Dome] delta Az = +003.040 deg\n",
      "[Telescope] delta Alt = -000.255 deg; delta Az = -004.209 deg; delta N1 = -000.000 deg; delta N2 = -000.011 deg [Dome] delta Az = +003.040 deg\n",
      "Got True\n",
      "Telescope in position.\n",
      "track for 2s\n",
      "Generating group_id\n",
      "imagetype: ENGTEST, skip TCS synchronization.\n",
      "ENGTEST 0001 - 0001\n",
      "Starting to Slew to target\n",
      "Auto sky angle: 0.0 deg\n",
      "Sending command\n",
      "Scheduling check coroutines\n",
      "process as completed...\n",
      "atmcs: <State.ENABLED: 2>\n",
      "atptg: <State.ENABLED: 2>\n",
      "ataos: <State.ENABLED: 2>\n",
      "atpneumatics: <State.ENABLED: 2>\n",
      "athexapod: <State.ENABLED: 2>\n",
      "atdome: <State.ENABLED: 2>\n",
      "atdometrajectory: <State.ENABLED: 2>\n",
      "Dome following disabled. Ignoring dome position.\n",
      "ATDome in position.\n",
      "logMessage DDS read queue is filling: 19 of 100 elements\n",
      "Got False\n",
      "Telescope not in position\n",
      "[Telescope] delta Alt = +001.948 deg; delta Az = +004.699 deg; delta N1 = +000.000 deg; delta N2 = -001.389 deg [Dome] delta Az = +003.040 deg\n",
      "[Telescope] delta Alt = +000.002 deg; delta Az = +002.955 deg; delta N1 = +000.000 deg; delta N2 = -000.012 deg [Dome] delta Az = +003.040 deg\n",
      "Got True\n",
      "Telescope in position.\n",
      "Time to slew is 6.32304200000533 seconds\n",
      "Generating group_id\n",
      "imagetype: ENGTEST, skip TCS synchronization.\n",
      "ENGTEST 0001 - 0001\n",
      "logMessage DDS read queue is filling: 20 of 100 elements\n",
      "Auto sky angle: 0.0 deg\n",
      "Sending command\n",
      "Scheduling check coroutines\n",
      "process as completed...\n",
      "atmcs: <State.ENABLED: 2>\n",
      "atptg: <State.ENABLED: 2>\n",
      "ataos: <State.ENABLED: 2>\n",
      "atpneumatics: <State.ENABLED: 2>\n",
      "athexapod: <State.ENABLED: 2>\n",
      "atdome: <State.ENABLED: 2>\n",
      "atdometrajectory: <State.ENABLED: 2>\n",
      "Dome following disabled. Ignoring dome position.\n",
      "ATDome in position.\n",
      "Got False\n",
      "Telescope not in position\n",
      "[Telescope] delta Alt = -001.988 deg; delta Az = -004.708 deg; delta N1 = +000.000 deg; delta N2 = +001.415 deg [Dome] delta Az = +003.040 deg\n",
      "[Telescope] delta Alt = -000.009 deg; delta Az = -003.130 deg; delta N1 = -000.000 deg; delta N2 = +000.011 deg [Dome] delta Az = +003.040 deg\n",
      "Got True\n",
      "Telescope in position.\n",
      "track for 2s\n",
      "Generating group_id\n",
      "imagetype: ENGTEST, skip TCS synchronization.\n",
      "ENGTEST 0001 - 0001\n",
      "Starting to Slew to target\n",
      "Auto sky angle: 0.0 deg\n",
      "Sending command\n",
      "Scheduling check coroutines\n",
      "process as completed...\n",
      "atmcs: <State.ENABLED: 2>\n",
      "atptg: <State.ENABLED: 2>\n",
      "ataos: <State.ENABLED: 2>\n",
      "atpneumatics: <State.ENABLED: 2>\n",
      "athexapod: <State.ENABLED: 2>\n",
      "atdome: <State.ENABLED: 2>\n",
      "atdometrajectory: <State.ENABLED: 2>\n",
      "Dome following disabled. Ignoring dome position.\n",
      "ATDome in position.\n",
      "Got False\n",
      "Telescope not in position\n",
      "logMessage DDS read queue is filling: 14 of 100 elements\n",
      "[Telescope] delta Alt = +002.026 deg; delta Az = +004.665 deg; delta N1 = -000.000 deg; delta N2 = -001.517 deg [Dome] delta Az = +003.040 deg\n",
      "[Telescope] delta Alt = +000.014 deg; delta Az = +003.218 deg; delta N1 = +000.000 deg; delta N2 = -000.012 deg [Dome] delta Az = +003.040 deg\n",
      "Got True\n",
      "Telescope in position.\n",
      "Time to slew is 6.2722840000070335 seconds\n",
      "Generating group_id\n",
      "imagetype: ENGTEST, skip TCS synchronization.\n",
      "ENGTEST 0001 - 0001\n",
      "logMessage DDS read queue is filling: 15 of 100 elements\n",
      "logMessage DDS read queue is filling: 10 of 100 elements\n",
      "Auto sky angle: 0.0 deg\n",
      "Sending command\n",
      "Scheduling check coroutines\n",
      "process as completed...\n",
      "atmcs: <State.ENABLED: 2>\n",
      "atptg: <State.ENABLED: 2>\n",
      "ataos: <State.ENABLED: 2>\n",
      "atpneumatics: <State.ENABLED: 2>\n",
      "athexapod: <State.ENABLED: 2>\n",
      "atdome: <State.ENABLED: 2>\n",
      "atdometrajectory: <State.ENABLED: 2>\n",
      "Dome following disabled. Ignoring dome position.\n",
      "ATDome in position.\n",
      "Got False\n",
      "Telescope not in position\n",
      "[Telescope] delta Alt = -002.042 deg; delta Az = -004.676 deg; delta N1 = -000.000 deg; delta N2 = +001.515 deg [Dome] delta Az = +003.040 deg\n",
      "[Telescope] delta Alt = -000.025 deg; delta Az = -003.311 deg; delta N1 = +000.000 deg; delta N2 = -000.013 deg [Dome] delta Az = +003.040 deg\n",
      "Got True\n",
      "Telescope in position.\n",
      "track for 2s\n",
      "Generating group_id\n",
      "imagetype: ENGTEST, skip TCS synchronization.\n",
      "ENGTEST 0001 - 0001\n",
      "Starting to Slew to target\n",
      "Auto sky angle: 0.0 deg\n",
      "Sending command\n",
      "Scheduling check coroutines\n",
      "process as completed...\n",
      "atmcs: <State.ENABLED: 2>\n",
      "atptg: <State.ENABLED: 2>\n",
      "ataos: <State.ENABLED: 2>\n",
      "atpneumatics: <State.ENABLED: 2>\n",
      "athexapod: <State.ENABLED: 2>\n",
      "atdome: <State.ENABLED: 2>\n",
      "atdometrajectory: <State.ENABLED: 2>\n",
      "Dome following disabled. Ignoring dome position.\n",
      "ATDome in position.\n",
      "Got False\n",
      "Telescope not in position\n",
      "logMessage DDS read queue is filling: 13 of 100 elements\n",
      "logMessage DDS read queue is filling: 24 of 100 elements\n",
      "[Telescope] delta Alt = +002.059 deg; delta Az = +004.631 deg; delta N1 = -000.000 deg; delta N2 = -001.995 deg [Dome] delta Az = +003.040 deg\n",
      "[Telescope] delta Alt = +000.553 deg; delta Az = +004.432 deg; delta N1 = -000.000 deg; delta N2 = -000.071 deg [Dome] delta Az = +003.040 deg\n",
      "Got True\n",
      "Telescope in position.\n",
      "Time to slew is 6.271873000001804 seconds\n",
      "Generating group_id\n",
      "imagetype: ENGTEST, skip TCS synchronization.\n",
      "ENGTEST 0001 - 0001\n",
      "logMessage DDS read queue is filling: 20 of 100 elements\n",
      "Auto sky angle: 0.0 deg\n",
      "Sending command\n",
      "Scheduling check coroutines\n",
      "process as completed...\n",
      "atmcs: <State.ENABLED: 2>\n",
      "atptg: <State.ENABLED: 2>\n",
      "ataos: <State.ENABLED: 2>\n",
      "atpneumatics: <State.ENABLED: 2>\n",
      "athexapod: <State.ENABLED: 2>\n",
      "atdome: <State.ENABLED: 2>\n",
      "atdometrajectory: <State.ENABLED: 2>\n",
      "Dome following disabled. Ignoring dome position.\n",
      "ATDome in position.\n",
      "Got False\n",
      "Telescope not in position\n",
      "[Telescope] delta Alt = -002.062 deg; delta Az = -004.645 deg; delta N1 = +000.000 deg; delta N2 = +001.511 deg [Dome] delta Az = +003.040 deg\n",
      "[Telescope] delta Alt = -000.032 deg; delta Az = -003.359 deg; delta N1 = +000.000 deg; delta N2 = -000.015 deg [Dome] delta Az = +003.040 deg\n",
      "Got True\n",
      "Telescope in position.\n",
      "track for 2s\n",
      "Generating group_id\n",
      "imagetype: ENGTEST, skip TCS synchronization.\n",
      "ENGTEST 0001 - 0001\n",
      "logMessage DDS read queue is filling: 28 of 100 elements\n",
      "Starting to Slew to target\n",
      "Auto sky angle: 0.0 deg\n",
      "Sending command\n",
      "Scheduling check coroutines\n",
      "process as completed...\n",
      "atmcs: <State.ENABLED: 2>\n",
      "atptg: <State.ENABLED: 2>\n",
      "ataos: <State.ENABLED: 2>\n",
      "atpneumatics: <State.ENABLED: 2>\n",
      "athexapod: <State.ENABLED: 2>\n",
      "atdome: <State.ENABLED: 2>\n",
      "atdometrajectory: <State.ENABLED: 2>\n",
      "Dome following disabled. Ignoring dome position.\n",
      "ATDome in position.\n",
      "Got False\n",
      "Telescope not in position\n",
      "logMessage DDS read queue is filling: 11 of 100 elements\n",
      "[Telescope] delta Alt = +002.078 deg; delta Az = +004.596 deg; delta N1 = -000.000 deg; delta N2 = -001.559 deg [Dome] delta Az = +003.040 deg\n",
      "[Telescope] delta Alt = +000.036 deg; delta Az = +003.394 deg; delta N1 = +000.000 deg; delta N2 = -000.011 deg [Dome] delta Az = +003.040 deg\n",
      "Got True\n",
      "Telescope in position.\n",
      "Time to slew is 6.243254999993653 seconds\n",
      "Generating group_id\n",
      "imagetype: ENGTEST, skip TCS synchronization.\n",
      "ENGTEST 0001 - 0001\n",
      "logMessage DDS read queue is filling: 12 of 100 elements\n",
      "Auto sky angle: 0.0 deg\n",
      "Sending command\n",
      "Scheduling check coroutines\n",
      "process as completed...\n",
      "atmcs: <State.ENABLED: 2>\n",
      "atptg: <State.ENABLED: 2>\n",
      "ataos: <State.ENABLED: 2>\n",
      "atpneumatics: <State.ENABLED: 2>\n",
      "athexapod: <State.ENABLED: 2>\n",
      "atdome: <State.ENABLED: 2>\n",
      "atdometrajectory: <State.ENABLED: 2>\n",
      "Dome following disabled. Ignoring dome position.\n",
      "ATDome in position.\n",
      "Got False\n",
      "Telescope not in position\n",
      "[Telescope] delta Alt = -002.089 deg; delta Az = -004.613 deg; delta N1 = -000.000 deg; delta N2 = +001.554 deg [Dome] delta Az = +003.040 deg\n",
      "[Telescope] delta Alt = -000.049 deg; delta Az = -003.479 deg; delta N1 = -000.000 deg; delta N2 = -000.014 deg [Dome] delta Az = +003.040 deg\n",
      "Got True\n",
      "Telescope in position.\n",
      "track for 2s\n",
      "Generating group_id\n",
      "imagetype: ENGTEST, skip TCS synchronization.\n",
      "ENGTEST 0001 - 0001\n",
      "logMessage DDS read queue is filling: 12 of 100 elements\n",
      "Starting to Slew to target\n",
      "Auto sky angle: 0.0 deg\n",
      "Sending command\n",
      "Scheduling check coroutines\n",
      "process as completed...\n",
      "atmcs: <State.ENABLED: 2>\n",
      "atptg: <State.ENABLED: 2>\n",
      "ataos: <State.ENABLED: 2>\n",
      "atpneumatics: <State.ENABLED: 2>\n",
      "athexapod: <State.ENABLED: 2>\n",
      "atdome: <State.ENABLED: 2>\n",
      "atdometrajectory: <State.ENABLED: 2>\n",
      "Dome following disabled. Ignoring dome position.\n",
      "ATDome in position.\n",
      "logMessage DDS read queue is filling: 13 of 100 elements\n",
      "Got False\n",
      "Telescope not in position\n",
      "[Telescope] delta Alt = +002.100 deg; delta Az = +004.562 deg; delta N1 = -000.000 deg; delta N2 = -001.596 deg [Dome] delta Az = +003.040 deg\n",
      "[Telescope] delta Alt = +000.061 deg; delta Az = +003.510 deg; delta N1 = -000.000 deg; delta N2 = -000.013 deg [Dome] delta Az = +003.040 deg\n",
      "Got True\n",
      "Telescope in position.\n",
      "Time to slew is 6.243939000011878 seconds\n",
      "Generating group_id\n",
      "imagetype: ENGTEST, skip TCS synchronization.\n",
      "ENGTEST 0001 - 0001\n",
      "logMessage DDS read queue is filling: 15 of 100 elements\n"
     ]
    }
   ],
   "source": [
    "# This is where the tests are carried out.\n",
    "# Got stuck the first time.  Backing up and re-running starting with ra_dec_target\n",
    "# Images 008-017\n",
    "for i in range(5):\n",
    "\n",
    "    # Slew to starting position\n",
    "    await atcs.slew_icrs(ra=str(ra_dec.ra), dec=str(ra_dec.dec), rot=0.0,\n",
    "                          slew_timeout=240., stop_before_slew=False, wait_settle=False)\n",
    "\n",
    "\n",
    "    print('track for 2s')\n",
    "    await asyncio.sleep(2)\n",
    "    # take an image\n",
    "    await latiss.take_engtest(exptime=2)\n",
    "\n",
    "    # Now slew to new target\n",
    "    print('Starting to Slew to target')\n",
    "    start_time = Time(Time.now(), format='fits')\n",
    "    await atcs.slew_icrs(ra=str(ra_dec_target.ra), dec=str(ra_dec_target.dec),\n",
    "                          rot=d_rot, slew_timeout=240., \n",
    "                          stop_before_slew=False, wait_settle=False)\n",
    "    end_time = Time(Time.now(), format='fits')\n",
    "    slew_time = TimeDelta(end_time - start_time, format='sec').value\n",
    "    print(f'Time to slew is {slew_time} seconds')\n",
    "    await latiss.take_engtest(exptime=2)\n",
    "    await asyncio.sleep(2)\n"
   ]
  },
  {
   "cell_type": "code",
   "execution_count": 23,
   "metadata": {},
   "outputs": [
    {
     "name": "stdout",
     "output_type": "stream",
     "text": [
      "Stop tracking.\n",
      "Tracking state: <AtMountState.TRACKINGENABLED: 9>\n",
      "Tracking state: <AtMountState.STOPPING: 10>\n",
      "In Position: True.\n"
     ]
    }
   ],
   "source": [
    "# For shutdown of system\n",
    "await atcs.stop_tracking()"
   ]
  },
  {
   "cell_type": "code",
   "execution_count": 24,
   "metadata": {
    "collapsed": true,
    "jupyter": {
     "outputs_hidden": true
    }
   },
   "outputs": [
    {
     "name": "stdout",
     "output_type": "stream",
     "text": [
      "Disabling ATAOS corrections\n",
      "Disabling ATAOS corrections.\n",
      "Closing M1 cover vent gates.\n",
      "Cover state <MirrorCoverState.CLOSED: 6>\n",
      "M1 cover already closed.\n",
      "M1 vent state <VentsPosition.CLOSED: 1>\n",
      "M1 vents already closed.\n",
      "Close dome.\n",
      "ATDome Shutter Door is already closed. Ignoring.\n",
      "Slew dome to Park position.\n",
      "Disable dome trajectory following.\n",
      "process as completed...\n",
      "Dome following disabled. Ignoring dome position.\n",
      "ATDome in position.\n",
      "[Dome] delta Az = +003.040 deg\n",
      "Axes in position.\n",
      "Disable dome trajectory following.\n",
      "Slew telescope to Park position.\n",
      "Sending command\n",
      "Stop tracking.\n",
      "Scheduling check coroutines\n",
      "process as completed...\n",
      "atmcs: <State.ENABLED: 2>\n",
      "atptg: <State.ENABLED: 2>\n",
      "ataos: <State.ENABLED: 2>\n",
      "atpneumatics: <State.ENABLED: 2>\n",
      "athexapod: <State.ENABLED: 2>\n",
      "Dome following disabled. Ignoring dome position.\n",
      "ATDome in position.\n",
      "[Telescope] delta Alt = +007.891 deg; delta Az= +003.601 deg; delta N1 = -000.000 deg; delta N2 = -074.942 deg \n",
      "[Telescope] delta Alt = +005.505 deg; delta Az= +003.123 deg; delta N1 = -000.000 deg; delta N2 = -072.053 deg \n",
      "[Telescope] delta Alt = +001.729 deg; delta Az= +000.661 deg; delta N1 = -000.000 deg; delta N2 = -066.048 deg \n",
      "[Telescope] delta Alt = -000.000 deg; delta Az= -000.000 deg; delta N1 = -000.000 deg; delta N2 = -060.052 deg \n",
      "[Telescope] delta Alt = -000.000 deg; delta Az= -000.000 deg; delta N1 = +000.000 deg; delta N2 = -054.047 deg \n",
      "[Telescope] delta Alt = -000.000 deg; delta Az= -000.000 deg; delta N1 = +000.000 deg; delta N2 = -050.050 deg \n",
      "[Telescope] delta Alt = -000.000 deg; delta Az= -000.000 deg; delta N1 = +000.000 deg; delta N2 = -044.058 deg \n",
      "[Telescope] delta Alt = +000.000 deg; delta Az= -000.000 deg; delta N1 = -000.000 deg; delta N2 = -038.050 deg \n",
      "[Telescope] delta Alt = +000.000 deg; delta Az= -000.000 deg; delta N1 = +000.000 deg; delta N2 = -034.049 deg \n",
      "[Telescope] delta Alt = +000.000 deg; delta Az= +000.000 deg; delta N1 = +000.000 deg; delta N2 = -030.056 deg \n",
      "[Telescope] delta Alt = +000.000 deg; delta Az= +000.000 deg; delta N1 = +000.000 deg; delta N2 = -024.052 deg \n",
      "[Telescope] delta Alt = +000.000 deg; delta Az= +000.000 deg; delta N1 = +000.000 deg; delta N2 = -020.132 deg \n",
      "[Telescope] delta Alt = +000.000 deg; delta Az= +000.000 deg; delta N1 = -000.000 deg; delta N2 = -014.508 deg \n",
      "[Telescope] delta Alt = -000.000 deg; delta Az= +000.000 deg; delta N1 = +000.000 deg; delta N2 = -009.518 deg \n",
      "[Telescope] delta Alt = -000.000 deg; delta Az= +000.000 deg; delta N1 = +000.000 deg; delta N2 = -005.428 deg \n",
      "[Telescope] delta Alt = +000.000 deg; delta Az= +000.000 deg; delta N1 = -000.000 deg; delta N2 = -002.485 deg \n",
      "[Telescope] delta Alt = +000.000 deg; delta Az= +000.000 deg; delta N1 = -000.000 deg; delta N2 = -001.201 deg \n",
      "[Telescope] delta Alt = -000.000 deg; delta Az= +000.000 deg; delta N1 = +000.000 deg; delta N2 = -000.204 deg \n",
      "[Telescope] delta Alt = +000.000 deg; delta Az= +000.000 deg; delta N1 = +000.000 deg; delta N2 = +000.000 deg \n",
      "Got True\n",
      "Waiting for telescope to settle.\n",
      "Axes in position.\n",
      "Stop tracking.\n",
      "Tracking state: <AtMountState.TRACKINGENABLED: 9>\n",
      "Tracking state: <AtMountState.STOPPING: 10>\n",
      "In Position: True.\n",
      "Put CSCs in standby\n",
      "[atmcs]::[<State.ENABLED: 2>, <State.DISABLED: 1>, <State.STANDBY: 5>]\n",
      "[atptg]::[<State.ENABLED: 2>, <State.DISABLED: 1>, <State.STANDBY: 5>]\n",
      "[ataos]::[<State.ENABLED: 2>, <State.DISABLED: 1>, <State.STANDBY: 5>]\n",
      "[atpneumatics]::[<State.ENABLED: 2>, <State.DISABLED: 1>, <State.STANDBY: 5>]\n",
      "[athexapod]::[<State.ENABLED: 2>, <State.DISABLED: 1>, <State.STANDBY: 5>]\n",
      "[atdome]::[<State.ENABLED: 2>, <State.DISABLED: 1>, <State.STANDBY: 5>]\n",
      "[atdometrajectory]::[<State.ENABLED: 2>, <State.DISABLED: 1>, <State.STANDBY: 5>]\n",
      "All components in <State.STANDBY: 5>.\n"
     ]
    }
   ],
   "source": [
    "# Putting everything back in standby.\n",
    "await atcs.shutdown()"
   ]
  },
  {
   "cell_type": "code",
   "execution_count": 25,
   "metadata": {
    "collapsed": true,
    "jupyter": {
     "outputs_hidden": true
    }
   },
   "outputs": [
    {
     "name": "stdout",
     "output_type": "stream",
     "text": [
      "Unable to transition atcamera to <State.STANDBY: 5> NoneType: None\n",
      ".\n",
      "Traceback (most recent call last):\n",
      "  File \"/opt/lsst/software/stack/conda/miniconda3-py38_4.9.2/envs/lsst-scipipe-0.7.0/lib/python3.8/site-packages/lsst/ts/salobj/csc_utils.py\", line 142, in set_summary_state\n",
      "    state_data = await remote.evt_summaryState.aget(timeout=timeout)  # type: ignore\n",
      "  File \"/opt/lsst/software/stack/conda/miniconda3-py38_4.9.2/envs/lsst-scipipe-0.7.0/lib/python3.8/site-packages/lsst/ts/salobj/topics/read_topic.py\", line 517, in aget\n",
      "    await asyncio.wait_for(self._next_task, timeout=timeout)\n",
      "  File \"/opt/lsst/software/stack/conda/miniconda3-py38_4.9.2/envs/lsst-scipipe-0.7.0/lib/python3.8/asyncio/tasks.py\", line 501, in wait_for\n",
      "    raise exceptions.TimeoutError()\n",
      "asyncio.exceptions.TimeoutError\n",
      "\n",
      "During handling of the above exception, another exception occurred:\n",
      "\n",
      "Traceback (most recent call last):\n",
      "  File \"/opt/lsst/software/stack/conda/miniconda3-py38_4.9.2/envs/lsst-scipipe-0.7.0/lib/python3.8/site-packages/lsst/ts/salobj/csc_utils.py\", line 144, in set_summary_state\n",
      "    raise RuntimeError(f\"Cannot get summaryState from {remote.salinfo.name}\")\n",
      "RuntimeError: Cannot get summaryState from ATCamera\n",
      "\n",
      "[atspectrograph]::[<State.ENABLED: 2>, <State.DISABLED: 1>, <State.STANDBY: 5>]\n",
      "[atheaderservice]::[<State.ENABLED: 2>, <State.DISABLED: 1>, <State.STANDBY: 5>]\n",
      "Unable to transition atarchiver to <State.STANDBY: 5> NoneType: None\n",
      ".\n",
      "Traceback (most recent call last):\n",
      "  File \"/opt/lsst/software/stack/conda/miniconda3-py38_4.9.2/envs/lsst-scipipe-0.7.0/lib/python3.8/site-packages/lsst/ts/salobj/csc_utils.py\", line 142, in set_summary_state\n",
      "    state_data = await remote.evt_summaryState.aget(timeout=timeout)  # type: ignore\n",
      "  File \"/opt/lsst/software/stack/conda/miniconda3-py38_4.9.2/envs/lsst-scipipe-0.7.0/lib/python3.8/site-packages/lsst/ts/salobj/topics/read_topic.py\", line 517, in aget\n",
      "    await asyncio.wait_for(self._next_task, timeout=timeout)\n",
      "  File \"/opt/lsst/software/stack/conda/miniconda3-py38_4.9.2/envs/lsst-scipipe-0.7.0/lib/python3.8/asyncio/tasks.py\", line 501, in wait_for\n",
      "    raise exceptions.TimeoutError()\n",
      "asyncio.exceptions.TimeoutError\n",
      "\n",
      "During handling of the above exception, another exception occurred:\n",
      "\n",
      "Traceback (most recent call last):\n",
      "  File \"/opt/lsst/software/stack/conda/miniconda3-py38_4.9.2/envs/lsst-scipipe-0.7.0/lib/python3.8/site-packages/lsst/ts/salobj/csc_utils.py\", line 144, in set_summary_state\n",
      "    raise RuntimeError(f\"Cannot get summaryState from {remote.salinfo.name}\")\n",
      "RuntimeError: Cannot get summaryState from ATArchiver\n",
      "\n"
     ]
    },
    {
     "ename": "RuntimeError",
     "evalue": "Failed to transition ['atcamera', 'atarchiver'] to <State.STANDBY: 5>.",
     "output_type": "error",
     "traceback": [
      "\u001b[0;31m---------------------------------------------------------------------------\u001b[0m",
      "\u001b[0;31mRuntimeError\u001b[0m                              Traceback (most recent call last)",
      "\u001b[0;32m<ipython-input-25-f9bd0e22ebe4>\u001b[0m in \u001b[0;36m<module>\u001b[0;34m\u001b[0m\n\u001b[0;32m----> 1\u001b[0;31m \u001b[0;32mawait\u001b[0m \u001b[0mlatiss\u001b[0m\u001b[0;34m.\u001b[0m\u001b[0mstandby\u001b[0m\u001b[0;34m(\u001b[0m\u001b[0;34m)\u001b[0m\u001b[0;34m\u001b[0m\u001b[0;34m\u001b[0m\u001b[0m\n\u001b[0m",
      "\u001b[0;32m~/auto-op-env-packages/ts_observatory_control/python/lsst/ts/observatory/control/remote_group.py\u001b[0m in \u001b[0;36mstandby\u001b[0;34m(self)\u001b[0m\n\u001b[1;32m    900\u001b[0m         \u001b[0;34m\"\"\"Put all CSCs in standby.\"\"\"\u001b[0m\u001b[0;34m\u001b[0m\u001b[0;34m\u001b[0m\u001b[0m\n\u001b[1;32m    901\u001b[0m \u001b[0;34m\u001b[0m\u001b[0m\n\u001b[0;32m--> 902\u001b[0;31m         \u001b[0;32mawait\u001b[0m \u001b[0mself\u001b[0m\u001b[0;34m.\u001b[0m\u001b[0mset_state\u001b[0m\u001b[0;34m(\u001b[0m\u001b[0msalobj\u001b[0m\u001b[0;34m.\u001b[0m\u001b[0mState\u001b[0m\u001b[0;34m.\u001b[0m\u001b[0mSTANDBY\u001b[0m\u001b[0;34m)\u001b[0m\u001b[0;34m\u001b[0m\u001b[0;34m\u001b[0m\u001b[0m\n\u001b[0m\u001b[1;32m    903\u001b[0m \u001b[0;34m\u001b[0m\u001b[0m\n\u001b[1;32m    904\u001b[0m     \u001b[0;32masync\u001b[0m \u001b[0;32mdef\u001b[0m \u001b[0moffline\u001b[0m\u001b[0;34m(\u001b[0m\u001b[0mself\u001b[0m\u001b[0;34m)\u001b[0m\u001b[0;34m:\u001b[0m\u001b[0;34m\u001b[0m\u001b[0;34m\u001b[0m\u001b[0m\n",
      "\u001b[0;32m~/auto-op-env-packages/ts_observatory_control/python/lsst/ts/observatory/control/remote_group.py\u001b[0m in \u001b[0;36mset_state\u001b[0;34m(self, state, settings, components)\u001b[0m\n\u001b[1;32m    789\u001b[0m \u001b[0;34m\u001b[0m\u001b[0m\n\u001b[1;32m    790\u001b[0m         \u001b[0;32mif\u001b[0m \u001b[0merror_flag\u001b[0m\u001b[0;34m:\u001b[0m\u001b[0;34m\u001b[0m\u001b[0;34m\u001b[0m\u001b[0m\n\u001b[0;32m--> 791\u001b[0;31m             raise RuntimeError(\n\u001b[0m\u001b[1;32m    792\u001b[0m                 \u001b[0;34mf\"Failed to transition {failed_components} to \"\u001b[0m\u001b[0;34m\u001b[0m\u001b[0;34m\u001b[0m\u001b[0m\n\u001b[1;32m    793\u001b[0m                 \u001b[0;34mf\"{salobj.State(state)!r}.\"\u001b[0m\u001b[0;34m\u001b[0m\u001b[0;34m\u001b[0m\u001b[0m\n",
      "\u001b[0;31mRuntimeError\u001b[0m: Failed to transition ['atcamera', 'atarchiver'] to <State.STANDBY: 5>."
     ]
    }
   ],
   "source": [
    "await latiss.standby()"
   ]
  },
  {
   "cell_type": "code",
   "execution_count": 30,
   "metadata": {},
   "outputs": [
    {
     "ename": "RuntimeError",
     "evalue": "Cannot get summaryState from ATCamera",
     "output_type": "error",
     "traceback": [
      "\u001b[0;31m---------------------------------------------------------------------------\u001b[0m",
      "\u001b[0;31mTimeoutError\u001b[0m                              Traceback (most recent call last)",
      "\u001b[0;32m/opt/lsst/software/stack/conda/miniconda3-py38_4.9.2/envs/lsst-scipipe-0.7.0/lib/python3.8/site-packages/lsst/ts/salobj/csc_utils.py\u001b[0m in \u001b[0;36mset_summary_state\u001b[0;34m(remote, state, settingsToApply, timeout)\u001b[0m\n\u001b[1;32m    141\u001b[0m     \u001b[0;32mtry\u001b[0m\u001b[0;34m:\u001b[0m\u001b[0;34m\u001b[0m\u001b[0;34m\u001b[0m\u001b[0m\n\u001b[0;32m--> 142\u001b[0;31m         \u001b[0mstate_data\u001b[0m \u001b[0;34m=\u001b[0m \u001b[0;32mawait\u001b[0m \u001b[0mremote\u001b[0m\u001b[0;34m.\u001b[0m\u001b[0mevt_summaryState\u001b[0m\u001b[0;34m.\u001b[0m\u001b[0maget\u001b[0m\u001b[0;34m(\u001b[0m\u001b[0mtimeout\u001b[0m\u001b[0;34m=\u001b[0m\u001b[0mtimeout\u001b[0m\u001b[0;34m)\u001b[0m  \u001b[0;31m# type: ignore\u001b[0m\u001b[0;34m\u001b[0m\u001b[0;34m\u001b[0m\u001b[0m\n\u001b[0m\u001b[1;32m    143\u001b[0m     \u001b[0;32mexcept\u001b[0m \u001b[0masyncio\u001b[0m\u001b[0;34m.\u001b[0m\u001b[0mTimeoutError\u001b[0m\u001b[0;34m:\u001b[0m\u001b[0;34m\u001b[0m\u001b[0;34m\u001b[0m\u001b[0m\n",
      "\u001b[0;32m/opt/lsst/software/stack/conda/miniconda3-py38_4.9.2/envs/lsst-scipipe-0.7.0/lib/python3.8/site-packages/lsst/ts/salobj/topics/read_topic.py\u001b[0m in \u001b[0;36maget\u001b[0;34m(self, timeout)\u001b[0m\n\u001b[1;32m    516\u001b[0m                 \u001b[0mself\u001b[0m\u001b[0;34m.\u001b[0m\u001b[0m_next_task\u001b[0m \u001b[0;34m=\u001b[0m \u001b[0masyncio\u001b[0m\u001b[0;34m.\u001b[0m\u001b[0mFuture\u001b[0m\u001b[0;34m(\u001b[0m\u001b[0;34m)\u001b[0m\u001b[0;34m\u001b[0m\u001b[0;34m\u001b[0m\u001b[0m\n\u001b[0;32m--> 517\u001b[0;31m             \u001b[0;32mawait\u001b[0m \u001b[0masyncio\u001b[0m\u001b[0;34m.\u001b[0m\u001b[0mwait_for\u001b[0m\u001b[0;34m(\u001b[0m\u001b[0mself\u001b[0m\u001b[0;34m.\u001b[0m\u001b[0m_next_task\u001b[0m\u001b[0;34m,\u001b[0m \u001b[0mtimeout\u001b[0m\u001b[0;34m=\u001b[0m\u001b[0mtimeout\u001b[0m\u001b[0;34m)\u001b[0m\u001b[0;34m\u001b[0m\u001b[0;34m\u001b[0m\u001b[0m\n\u001b[0m\u001b[1;32m    518\u001b[0m         \u001b[0;32massert\u001b[0m \u001b[0mself\u001b[0m\u001b[0;34m.\u001b[0m\u001b[0m_current_data\u001b[0m \u001b[0;32mis\u001b[0m \u001b[0;32mnot\u001b[0m \u001b[0;32mNone\u001b[0m  \u001b[0;31m# make mypy happy\u001b[0m\u001b[0;34m\u001b[0m\u001b[0;34m\u001b[0m\u001b[0m\n",
      "\u001b[0;32m/opt/lsst/software/stack/conda/miniconda3-py38_4.9.2/envs/lsst-scipipe-0.7.0/lib/python3.8/asyncio/tasks.py\u001b[0m in \u001b[0;36mwait_for\u001b[0;34m(fut, timeout, loop)\u001b[0m\n\u001b[1;32m    500\u001b[0m             \u001b[0;32mawait\u001b[0m \u001b[0m_cancel_and_wait\u001b[0m\u001b[0;34m(\u001b[0m\u001b[0mfut\u001b[0m\u001b[0;34m,\u001b[0m \u001b[0mloop\u001b[0m\u001b[0;34m=\u001b[0m\u001b[0mloop\u001b[0m\u001b[0;34m)\u001b[0m\u001b[0;34m\u001b[0m\u001b[0;34m\u001b[0m\u001b[0m\n\u001b[0;32m--> 501\u001b[0;31m             \u001b[0;32mraise\u001b[0m \u001b[0mexceptions\u001b[0m\u001b[0;34m.\u001b[0m\u001b[0mTimeoutError\u001b[0m\u001b[0;34m(\u001b[0m\u001b[0;34m)\u001b[0m\u001b[0;34m\u001b[0m\u001b[0;34m\u001b[0m\u001b[0m\n\u001b[0m\u001b[1;32m    502\u001b[0m     \u001b[0;32mfinally\u001b[0m\u001b[0;34m:\u001b[0m\u001b[0;34m\u001b[0m\u001b[0;34m\u001b[0m\u001b[0m\n",
      "\u001b[0;31mTimeoutError\u001b[0m: ",
      "\nDuring handling of the above exception, another exception occurred:\n",
      "\u001b[0;31mRuntimeError\u001b[0m                              Traceback (most recent call last)",
      "\u001b[0;32m<ipython-input-30-7c577989eb4c>\u001b[0m in \u001b[0;36m<module>\u001b[0;34m\u001b[0m\n\u001b[0;32m----> 1\u001b[0;31m \u001b[0;32mawait\u001b[0m \u001b[0msalobj\u001b[0m\u001b[0;34m.\u001b[0m\u001b[0mset_summary_state\u001b[0m\u001b[0;34m(\u001b[0m\u001b[0mlatiss\u001b[0m\u001b[0;34m.\u001b[0m\u001b[0mrem\u001b[0m\u001b[0;34m.\u001b[0m\u001b[0matcamera\u001b[0m\u001b[0;34m,\u001b[0m \u001b[0msalobj\u001b[0m\u001b[0;34m.\u001b[0m\u001b[0mState\u001b[0m\u001b[0;34m.\u001b[0m\u001b[0mSTANDBY\u001b[0m\u001b[0;34m)\u001b[0m\u001b[0;34m\u001b[0m\u001b[0;34m\u001b[0m\u001b[0m\n\u001b[0m",
      "\u001b[0;32m/opt/lsst/software/stack/conda/miniconda3-py38_4.9.2/envs/lsst-scipipe-0.7.0/lib/python3.8/site-packages/lsst/ts/salobj/csc_utils.py\u001b[0m in \u001b[0;36mset_summary_state\u001b[0;34m(remote, state, settingsToApply, timeout)\u001b[0m\n\u001b[1;32m    142\u001b[0m         \u001b[0mstate_data\u001b[0m \u001b[0;34m=\u001b[0m \u001b[0;32mawait\u001b[0m \u001b[0mremote\u001b[0m\u001b[0;34m.\u001b[0m\u001b[0mevt_summaryState\u001b[0m\u001b[0;34m.\u001b[0m\u001b[0maget\u001b[0m\u001b[0;34m(\u001b[0m\u001b[0mtimeout\u001b[0m\u001b[0;34m=\u001b[0m\u001b[0mtimeout\u001b[0m\u001b[0;34m)\u001b[0m  \u001b[0;31m# type: ignore\u001b[0m\u001b[0;34m\u001b[0m\u001b[0;34m\u001b[0m\u001b[0m\n\u001b[1;32m    143\u001b[0m     \u001b[0;32mexcept\u001b[0m \u001b[0masyncio\u001b[0m\u001b[0;34m.\u001b[0m\u001b[0mTimeoutError\u001b[0m\u001b[0;34m:\u001b[0m\u001b[0;34m\u001b[0m\u001b[0;34m\u001b[0m\u001b[0m\n\u001b[0;32m--> 144\u001b[0;31m         \u001b[0;32mraise\u001b[0m \u001b[0mRuntimeError\u001b[0m\u001b[0;34m(\u001b[0m\u001b[0;34mf\"Cannot get summaryState from {remote.salinfo.name}\"\u001b[0m\u001b[0;34m)\u001b[0m\u001b[0;34m\u001b[0m\u001b[0;34m\u001b[0m\u001b[0m\n\u001b[0m\u001b[1;32m    145\u001b[0m     \u001b[0mcurrent_state\u001b[0m \u001b[0;34m=\u001b[0m \u001b[0mState\u001b[0m\u001b[0;34m(\u001b[0m\u001b[0mstate_data\u001b[0m\u001b[0;34m.\u001b[0m\u001b[0msummaryState\u001b[0m\u001b[0;34m)\u001b[0m\u001b[0;34m\u001b[0m\u001b[0;34m\u001b[0m\u001b[0m\n\u001b[1;32m    146\u001b[0m \u001b[0;34m\u001b[0m\u001b[0m\n",
      "\u001b[0;31mRuntimeError\u001b[0m: Cannot get summaryState from ATCamera"
     ]
    }
   ],
   "source": [
    "await salobj.set_summary_state(latiss.rem.atcamera, salobj.State.STANDBY)"
   ]
  },
  {
   "cell_type": "code",
   "execution_count": null,
   "metadata": {},
   "outputs": [],
   "source": [
    "# This is just stuff that might be needed to recover."
   ]
  },
  {
   "cell_type": "code",
   "execution_count": null,
   "metadata": {},
   "outputs": [],
   "source": [
    "await atcs.rem.atdome.cmd_start.set_start(settingsToApply=\"test\", timeout=30)"
   ]
  },
  {
   "cell_type": "code",
   "execution_count": null,
   "metadata": {},
   "outputs": [],
   "source": [
    "await salobj.set_summary_state(atcs.rem.atdome, salobj.State.STANDBY, settingsToApply=\"test\")"
   ]
  },
  {
   "cell_type": "code",
   "execution_count": null,
   "metadata": {},
   "outputs": [],
   "source": [
    "await salobj.set_summary_state(atcs.rem.atdometrajectory, salobj.State.ENABLED)"
   ]
  },
  {
   "cell_type": "code",
   "execution_count": null,
   "metadata": {},
   "outputs": [],
   "source": [
    "await salobj.set_summary_state(latiss.rem.atspectrograph, salobj.State.STANDBY)\n",
    "await salobj.set_summary_state(latiss.rem.atcamera, salobj.State.STANDBY)\n",
    "await salobj.set_summary_state(latiss.rem.atheaderservice, salobj.State.STANDBY)\n",
    "await salobj.set_summary_state(latiss.rem.atarchiver, salobj.State.STANDBY)"
   ]
  },
  {
   "cell_type": "code",
   "execution_count": null,
   "metadata": {},
   "outputs": [],
   "source": []
  },
  {
   "cell_type": "code",
   "execution_count": null,
   "metadata": {},
   "outputs": [],
   "source": [
    "await salobj.set_summary_state(atcs.rem.atptg, salobj.State.STANDBY)"
   ]
  },
  {
   "cell_type": "code",
   "execution_count": null,
   "metadata": {},
   "outputs": [],
   "source": [
    "await salobj.set_summary_state(atcs.rem.atmcs, salobj.State.STANDBY)"
   ]
  },
  {
   "cell_type": "code",
   "execution_count": null,
   "metadata": {},
   "outputs": [],
   "source": []
  }
 ],
 "metadata": {
  "kernelspec": {
   "display_name": "LSST",
   "language": "python",
   "name": "lsst"
  },
  "language_info": {
   "codemirror_mode": {
    "name": "ipython",
    "version": 3
   },
   "file_extension": ".py",
   "mimetype": "text/x-python",
   "name": "python",
   "nbconvert_exporter": "python",
   "pygments_lexer": "ipython3",
   "version": "3.8.12"
  }
 },
 "nbformat": 4,
 "nbformat_minor": 4
}
