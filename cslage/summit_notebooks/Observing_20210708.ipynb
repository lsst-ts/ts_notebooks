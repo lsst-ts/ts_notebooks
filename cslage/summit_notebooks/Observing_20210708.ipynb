{
 "cells": [
  {
   "cell_type": "markdown",
   "metadata": {},
   "source": [
    "# General Observing"
   ]
  },
  {
   "cell_type": "markdown",
   "metadata": {},
   "source": [
    "This notebook is used for general observing with the Auxiliary Telescope.\n",
    "\n",
    "Craig Lage - 25-May-21"
   ]
  },
  {
   "cell_type": "code",
   "execution_count": 1,
   "metadata": {},
   "outputs": [
    {
     "name": "stdout",
     "output_type": "stream",
     "text": [
      "1\n"
     ]
    }
   ],
   "source": [
    "print(1)"
   ]
  },
  {
   "cell_type": "code",
   "execution_count": 2,
   "metadata": {},
   "outputs": [],
   "source": [
    "import sys\n",
    "import asyncio\n",
    "import time\n",
    "import os\n",
    "import numpy as np\n",
    "\n",
    "from lsst.ts import salobj\n",
    "from lsst.ts.observatory.control.auxtel.atcs import ATCS\n",
    "from lsst.ts.observatory.control.auxtel.latiss import LATISS\n",
    "from lsst.ts.observatory.control.utils import RotType"
   ]
  },
  {
   "cell_type": "code",
   "execution_count": 3,
   "metadata": {},
   "outputs": [],
   "source": [
    "# for tab completion to work in current notebook instance\n",
    "%config IPCompleter.use_jedi = False"
   ]
  },
  {
   "cell_type": "code",
   "execution_count": 4,
   "metadata": {},
   "outputs": [],
   "source": [
    "import logging\n",
    "stream_handler = logging.StreamHandler(sys.stdout)\n",
    "logger = logging.getLogger()\n",
    "logger.addHandler(stream_handler)\n",
    "logger.level = logging.DEBUG\n",
    "# Make matplotlib less chatty\n",
    "logging.getLogger(\"matplotlib\").setLevel(logging.WARNING)"
   ]
  },
  {
   "cell_type": "code",
   "execution_count": 5,
   "metadata": {
    "collapsed": true,
    "jupyter": {
     "outputs_hidden": true
    }
   },
   "outputs": [
    {
     "name": "stdout",
     "output_type": "stream",
     "text": [
      "atmcs: Adding all resources.\n",
      "atptg: Adding all resources.\n",
      "ataos: Adding all resources.\n",
      "atpneumatics: Adding all resources.\n",
      "athexapod: Adding all resources.\n",
      "atdome: Adding all resources.\n",
      "atdometrajectory: Adding all resources.\n",
      "atcamera: Adding all resources.\n",
      "atspectrograph: Adding all resources.\n",
      "atheaderservice: Adding all resources.\n",
      "atarchiver: Adding all resources.\n",
      "Read historical data in 0.05 sec\n",
      "Read 7 history items for RemoteEvent(ATSpectrograph, 0, appliedSettingsMatchStart)\n",
      "Read 1 history items for RemoteEvent(ATSpectrograph, 0, authList)\n",
      "Read 100 history items for RemoteEvent(ATSpectrograph, 0, disperserInPosition)\n",
      "Read 100 history items for RemoteEvent(ATSpectrograph, 0, filterInPosition)\n",
      "Read 14 history items for RemoteEvent(ATSpectrograph, 0, fwState)\n",
      "Read 23 history items for RemoteEvent(ATSpectrograph, 0, gwState)\n",
      "Read 100 history items for RemoteEvent(ATSpectrograph, 0, heartbeat)\n",
      "Read 1 history items for RemoteEvent(ATSpectrograph, 0, logLevel)\n",
      "Read 3 history items for RemoteEvent(ATSpectrograph, 0, logMessage)\n",
      "Read 100 history items for RemoteEvent(ATSpectrograph, 0, reportedDisperserPosition)\n",
      "Read 100 history items for RemoteEvent(ATSpectrograph, 0, reportedFilterPosition)\n",
      "Read 1 history items for RemoteEvent(ATSpectrograph, 0, reportedLinearStagePosition)\n",
      "Read 2 history items for RemoteEvent(ATSpectrograph, 0, settingVersions)\n",
      "Read 2 history items for RemoteEvent(ATSpectrograph, 0, settingsApplied)\n",
      "Read 2 history items for RemoteEvent(ATSpectrograph, 0, settingsAppliedValues)\n",
      "Read 1 history items for RemoteEvent(ATSpectrograph, 0, simulationMode)\n",
      "Read 1 history items for RemoteEvent(ATSpectrograph, 0, softwareVersions)\n",
      "Read 27 history items for RemoteEvent(ATSpectrograph, 0, summaryState)\n",
      "Read historical data in 0.14 sec\n",
      "Read 1 history items for RemoteEvent(ATDomeTrajectory, 0, authList)\n",
      "Read 1 history items for RemoteEvent(ATDomeTrajectory, 0, followingMode)\n",
      "Read 100 history items for RemoteEvent(ATDomeTrajectory, 0, heartbeat)\n",
      "Read 1 history items for RemoteEvent(ATDomeTrajectory, 0, logLevel)\n",
      "Read 3 history items for RemoteEvent(ATDomeTrajectory, 0, logMessage)\n",
      "Read 1 history items for RemoteEvent(ATDomeTrajectory, 0, settingVersions)\n",
      "Read 1 history items for RemoteEvent(ATDomeTrajectory, 0, simulationMode)\n",
      "Read 1 history items for RemoteEvent(ATDomeTrajectory, 0, softwareVersions)\n",
      "Read 1 history items for RemoteEvent(ATDomeTrajectory, 0, summaryState)\n",
      "Read historical data in 0.16 sec\n",
      "Read historical data in 0.16 sec\n",
      "Read 10 history items for RemoteEvent(ATAOS, 0, appliedSettingsMatchStart)\n",
      "Read 100 history items for RemoteEvent(ATAOS, 0, atspectrographCorrectionCompleted)\n",
      "Read 100 history items for RemoteEvent(ATAOS, 0, atspectrographCorrectionStarted)\n",
      "Read 1 history items for RemoteEvent(ATAOS, 0, authList)\n",
      "Read 11 history items for RemoteEvent(ATAOS, 0, correctionEnabled)\n",
      "Read 100 history items for RemoteEvent(ATAOS, 0, correctionOffsets)\n",
      "Read 100 history items for RemoteEvent(ATAOS, 0, detailedState)\n",
      "Read 1 history items for RemoteEvent(ATAOS, 0, errorCode)\n",
      "Read 100 history items for RemoteEvent(ATAOS, 0, focusOffsetSummary)\n",
      "Read 100 history items for RemoteEvent(ATAOS, 0, heartbeat)\n",
      "Read 100 history items for RemoteEvent(ATAOS, 0, hexapodCorrectionCompleted)\n",
      "Read 100 history items for RemoteEvent(ATAOS, 0, hexapodCorrectionStarted)\n",
      "Read 1 history items for RemoteEvent(ATAOS, 0, logLevel)\n",
      "Read 100 history items for RemoteEvent(ATAOS, 0, logMessage)\n",
      "Read 100 history items for RemoteEvent(ATAOS, 0, m1CorrectionCompleted)\n",
      "Read 100 history items for RemoteEvent(ATAOS, 0, m1CorrectionStarted)\n",
      "Read 100 history items for RemoteEvent(ATAOS, 0, pointingOffsetSummary)\n",
      "Read 3 history items for RemoteEvent(ATAOS, 0, settingVersions)\n",
      "Read 4 history items for RemoteEvent(ATAOS, 0, settingsApplied)\n",
      "Read 1 history items for RemoteEvent(ATAOS, 0, simulationMode)\n",
      "Read 1 history items for RemoteEvent(ATAOS, 0, softwareVersions)\n",
      "Read 39 history items for RemoteEvent(ATAOS, 0, summaryState)\n",
      "Read historical data in 0.22 sec\n",
      "Read 100 history items for RemoteEvent(ATDome, 0, allAxesInPosition)\n",
      "Read 6 history items for RemoteEvent(ATDome, 0, appliedSettingsMatchStart)\n",
      "Read 1 history items for RemoteEvent(ATDome, 0, authList)\n",
      "Read 100 history items for RemoteEvent(ATDome, 0, azimuthCommandedState)\n",
      "Read 100 history items for RemoteEvent(ATDome, 0, azimuthInPosition)\n",
      "Read 100 history items for RemoteEvent(ATDome, 0, azimuthState)\n",
      "Read 100 history items for RemoteEvent(ATDome, 0, doorEncoderExtremes)\n",
      "Read 10 history items for RemoteEvent(ATDome, 0, dropoutDoorCommandedState)\n",
      "Read 100 history items for RemoteEvent(ATDome, 0, dropoutDoorState)\n",
      "Read 1 history items for RemoteEvent(ATDome, 0, emergencyStop)\n",
      "Read 100 history items for RemoteEvent(ATDome, 0, heartbeat)\n",
      "Read 98 history items for RemoteEvent(ATDome, 0, lastAzimuthGoTo)\n",
      "Read 1 history items for RemoteEvent(ATDome, 0, logLevel)\n",
      "Read 11 history items for RemoteEvent(ATDome, 0, logMessage)\n",
      "Read 11 history items for RemoteEvent(ATDome, 0, mainDoorCommandedState)\n",
      "Read 15 history items for RemoteEvent(ATDome, 0, mainDoorState)\n",
      "Read 100 history items for RemoteEvent(ATDome, 0, moveCode)\n",
      "Read 18 history items for RemoteEvent(ATDome, 0, scbLink)\n",
      "Read 1 history items for RemoteEvent(ATDome, 0, settingVersions)\n",
      "Read 1 history items for RemoteEvent(ATDome, 0, settingsApplied)\n",
      "Read 18 history items for RemoteEvent(ATDome, 0, settingsAppliedDomeController)\n",
      "Read 6 history items for RemoteEvent(ATDome, 0, settingsAppliedDomeTcp)\n",
      "Read 10 history items for RemoteEvent(ATDome, 0, shutterInPosition)\n",
      "Read 1 history items for RemoteEvent(ATDome, 0, simulationMode)\n",
      "Read 1 history items for RemoteEvent(ATDome, 0, softwareVersions)\n",
      "Read 25 history items for RemoteEvent(ATDome, 0, summaryState)\n",
      "Read historical data in 0.28 sec\n",
      "Read 9 history items for RemoteEvent(ATHexapod, 0, appliedSettingsMatchStart)\n",
      "Read 1 history items for RemoteEvent(ATHexapod, 0, authList)\n",
      "Read 100 history items for RemoteEvent(ATHexapod, 0, detailedState)\n",
      "Read 1 history items for RemoteEvent(ATHexapod, 0, errorCode)\n",
      "Read 100 history items for RemoteEvent(ATHexapod, 0, heartbeat)\n",
      "Read 100 history items for RemoteEvent(ATHexapod, 0, inPosition)\n",
      "Read 1 history items for RemoteEvent(ATHexapod, 0, logLevel)\n",
      "Read 100 history items for RemoteEvent(ATHexapod, 0, logMessage)\n",
      "Read 100 history items for RemoteEvent(ATHexapod, 0, positionUpdate)\n",
      "Read 1 history items for RemoteEvent(ATHexapod, 0, readyForCommand)\n",
      "Read 1 history items for RemoteEvent(ATHexapod, 0, settingVersions)\n",
      "Read 3 history items for RemoteEvent(ATHexapod, 0, settingsApplied)\n",
      "Read 1 history items for RemoteEvent(ATHexapod, 0, settingsAppliedPivot)\n",
      "Read 1 history items for RemoteEvent(ATHexapod, 0, settingsAppliedPositionLimits)\n",
      "Read 3 history items for RemoteEvent(ATHexapod, 0, settingsAppliedTcp)\n",
      "Read 1 history items for RemoteEvent(ATHexapod, 0, settingsAppliedVelocities)\n",
      "Read 1 history items for RemoteEvent(ATHexapod, 0, simulationMode)\n",
      "Read 1 history items for RemoteEvent(ATHexapod, 0, softwareVersions)\n",
      "Read 31 history items for RemoteEvent(ATHexapod, 0, summaryState)\n",
      "Read historical data in 0.32 sec\n",
      "Read 11 history items for RemoteEvent(ATPneumatics, 0, appliedSettingsMatchStart)\n",
      "Read 26 history items for RemoteEvent(ATPneumatics, 0, cellVentsState)\n",
      "Read 1 history items for RemoteEvent(ATPneumatics, 0, eStop)\n",
      "Read 3 history items for RemoteEvent(ATPneumatics, 0, errorCode)\n",
      "Read 100 history items for RemoteEvent(ATPneumatics, 0, heartbeat)\n",
      "Read 15 history items for RemoteEvent(ATPneumatics, 0, instrumentState)\n",
      "Read 83 history items for RemoteEvent(ATPneumatics, 0, m1CoverLimitSwitches)\n",
      "Read 37 history items for RemoteEvent(ATPneumatics, 0, m1CoverState)\n",
      "Read 100 history items for RemoteEvent(ATPneumatics, 0, m1SetPressure)\n",
      "Read 16 history items for RemoteEvent(ATPneumatics, 0, m1State)\n",
      "Read 9 history items for RemoteEvent(ATPneumatics, 0, m1VentsLimitSwitches)\n",
      "Read 18 history items for RemoteEvent(ATPneumatics, 0, m1VentsPosition)\n",
      "Read 20 history items for RemoteEvent(ATPneumatics, 0, m2State)\n",
      "Read 17 history items for RemoteEvent(ATPneumatics, 0, mainValveState)\n",
      "Read 1 history items for RemoteEvent(ATPneumatics, 0, powerStatus)\n",
      "Read 11 history items for RemoteEvent(ATPneumatics, 0, settingVersions)\n",
      "Read 1 history items for RemoteEvent(ATPneumatics, 0, softwareVersions)\n",
      "Read 42 history items for RemoteEvent(ATPneumatics, 0, summaryState)\n",
      "Read historical data in 0.35 sec\n",
      "Read 56 history items for RemoteEvent(ATPtg, 0, airmassWarning)\n",
      "Read 1 history items for RemoteEvent(ATPtg, 0, azWrapWarning)\n",
      "Read 17 history items for RemoteEvent(ATPtg, 0, currentDebugLevel)\n",
      "Read 100 history items for RemoteEvent(ATPtg, 0, currentTarget)\n",
      "Read 100 history items for RemoteEvent(ATPtg, 0, detailedState)\n",
      "Read 1 history items for RemoteEvent(ATPtg, 0, elLimitWarning)\n",
      "Read 26 history items for RemoteEvent(ATPtg, 0, errorCode)\n",
      "Read 1 history items for RemoteEvent(ATPtg, 0, focusNameInconsistentWarning)\n",
      "Read 16 history items for RemoteEvent(ATPtg, 0, focusNameSelected)\n",
      "Read 100 history items for RemoteEvent(ATPtg, 0, heartbeat)\n",
      "Read 32 history items for RemoteEvent(ATPtg, 0, iers)\n",
      "Read 3 history items for RemoteEvent(ATPtg, 0, iersOutOfDate)\n",
      "Read 1 history items for RemoteEvent(ATPtg, 0, moonProximityWarning)\n",
      "Read 29 history items for RemoteEvent(ATPtg, 0, mountDataWarning)\n",
      "Read 1 history items for RemoteEvent(ATPtg, 0, objectSetWarning)\n",
      "Read 100 history items for RemoteEvent(ATPtg, 0, offsetSummary)\n",
      "Read 100 history items for RemoteEvent(ATPtg, 0, pointData)\n",
      "Read 8 history items for RemoteEvent(ATPtg, 0, pointingFile)\n",
      "Read 18 history items for RemoteEvent(ATPtg, 0, pointingModel)\n",
      "Read 9 history items for RemoteEvent(ATPtg, 0, ptgAzCurrentWrap)\n",
      "Read 1 history items for RemoteEvent(ATPtg, 0, ptgRotCurrentWrap)\n",
      "Read 4 history items for RemoteEvent(ATPtg, 0, rotWrapWarning)\n",
      "Read 63 history items for RemoteEvent(ATPtg, 0, summaryState)\n",
      "Read 1 history items for RemoteEvent(ATPtg, 0, sunProximityWarning)\n",
      "Read 100 history items for RemoteEvent(ATPtg, 0, timesOfLimits)\n",
      "Read 100 history items for RemoteEvent(ATPtg, 0, trackPosting)\n",
      "Read 16 history items for RemoteEvent(ATPtg, 0, wavelength)\n",
      "Read 100 history items for RemoteEvent(ATPtg, 0, weatherDataApplied)\n",
      "Read 100 history items for RemoteEvent(ATPtg, 0, weatherDataInvalid)\n",
      "Read historical data in 0.43 sec\n",
      "Read 100 history items for RemoteEvent(ATMCS, 0, allAxesInPosition)\n",
      "Read 17 history items for RemoteEvent(ATMCS, 0, appliedSettingsMatchStart)\n",
      "Read 100 history items for RemoteEvent(ATMCS, 0, atMountState)\n",
      "Read 34 history items for RemoteEvent(ATMCS, 0, azimuthBrake1)\n",
      "Read 34 history items for RemoteEvent(ATMCS, 0, azimuthBrake2)\n",
      "Read 34 history items for RemoteEvent(ATMCS, 0, azimuthDrive1Status)\n",
      "Read 34 history items for RemoteEvent(ATMCS, 0, azimuthDrive2Status)\n",
      "Read 100 history items for RemoteEvent(ATMCS, 0, azimuthInPosition)\n",
      "Read 1 history items for RemoteEvent(ATMCS, 0, azimuthLimitSwitchCCW)\n",
      "Read 1 history items for RemoteEvent(ATMCS, 0, azimuthLimitSwitchCW)\n",
      "Read 9 history items for RemoteEvent(ATMCS, 0, azimuthToppleBlockCCW)\n",
      "Read 9 history items for RemoteEvent(ATMCS, 0, azimuthToppleBlockCW)\n",
      "Read 34 history items for RemoteEvent(ATMCS, 0, elevationBrake)\n",
      "Read 34 history items for RemoteEvent(ATMCS, 0, elevationDriveStatus)\n",
      "Read 100 history items for RemoteEvent(ATMCS, 0, elevationInPosition)\n",
      "Read 3 history items for RemoteEvent(ATMCS, 0, elevationLimitSwitchLower)\n",
      "Read 3 history items for RemoteEvent(ATMCS, 0, elevationLimitSwitchUpper)\n",
      "Read 7 history items for RemoteEvent(ATMCS, 0, errorCode)\n",
      "Read 100 history items for RemoteEvent(ATMCS, 0, heartbeat)\n",
      "Read 1 history items for RemoteEvent(ATMCS, 0, m3DriveStatus)\n",
      "Read 1 history items for RemoteEvent(ATMCS, 0, m3InPosition)\n",
      "Read 1 history items for RemoteEvent(ATMCS, 0, m3RotatorDetentSwitches)\n",
      "Read 1 history items for RemoteEvent(ATMCS, 0, m3RotatorLimitSwitchCCW)\n",
      "Read 1 history items for RemoteEvent(ATMCS, 0, m3RotatorLimitSwitchCW)\n",
      "Read 33 history items for RemoteEvent(ATMCS, 0, m3State)\n",
      "Read 34 history items for RemoteEvent(ATMCS, 0, nasmyth1Brake)\n",
      "Read 34 history items for RemoteEvent(ATMCS, 0, nasmyth1DriveStatus)\n",
      "Read 1 history items for RemoteEvent(ATMCS, 0, nasmyth1LimitSwitchCCW)\n",
      "Read 1 history items for RemoteEvent(ATMCS, 0, nasmyth1LimitSwitchCW)\n",
      "Read 100 history items for RemoteEvent(ATMCS, 0, nasmyth1RotatorInPosition)\n",
      "Read 34 history items for RemoteEvent(ATMCS, 0, nasmyth2Brake)\n",
      "Read 34 history items for RemoteEvent(ATMCS, 0, nasmyth2DriveStatus)\n",
      "Read 1 history items for RemoteEvent(ATMCS, 0, nasmyth2LimitSwitchCCW)\n",
      "Read 1 history items for RemoteEvent(ATMCS, 0, nasmyth2LimitSwitchCW)\n",
      "Read 100 history items for RemoteEvent(ATMCS, 0, nasmyth2RotatorInPosition)\n",
      "Read 17 history items for RemoteEvent(ATMCS, 0, positionLimits)\n",
      "Read 17 history items for RemoteEvent(ATMCS, 0, settingVersions)\n",
      "Read 1 history items for RemoteEvent(ATMCS, 0, softwareVersions)\n",
      "Read 65 history items for RemoteEvent(ATMCS, 0, summaryState)\n",
      "Read 100 history items for RemoteEvent(ATMCS, 0, target)\n",
      "Read historical data in 0.48 sec\n",
      "Read 6 history items for RemoteEvent(ATCamera, 0, appliedSettingsMatchStart)\n",
      "Read 12 history items for RemoteEvent(ATCamera, 0, calibrationDetailedState)\n",
      "Read 100 history items for RemoteEvent(ATCamera, 0, ccsCommandState)\n",
      "Read 100 history items for RemoteEvent(ATCamera, 0, endOfImageTelemetry)\n",
      "Read 100 history items for RemoteEvent(ATCamera, 0, endReadout)\n",
      "Read 100 history items for RemoteEvent(ATCamera, 0, endShutterClose)\n",
      "Read 100 history items for RemoteEvent(ATCamera, 0, endShutterOpen)\n",
      "Read 9 history items for RemoteEvent(ATCamera, 0, focalPlaneHardwareIdSettingsApplied)\n",
      "Read 9 history items for RemoteEvent(ATCamera, 0, focalPlaneSummaryInfo)\n",
      "Read 100 history items for RemoteEvent(ATCamera, 0, heartbeat)\n",
      "Read 100 history items for RemoteEvent(ATCamera, 0, imageReadinessDetailedState)\n",
      "Read 100 history items for RemoteEvent(ATCamera, 0, imageReadoutParameters)\n",
      "Read 2 history items for RemoteEvent(ATCamera, 0, offlineDetailedState)\n",
      "Read 100 history items for RemoteEvent(ATCamera, 0, raftsDetailedState)\n",
      "Read 7 history items for RemoteEvent(ATCamera, 0, settingVersions)\n",
      "Read 100 history items for RemoteEvent(ATCamera, 0, shutterDetailedState)\n",
      "Read 100 history items for RemoteEvent(ATCamera, 0, shutterMotionProfile)\n",
      "Read 7 history items for RemoteEvent(ATCamera, 0, softwareVersions)\n",
      "Read 100 history items for RemoteEvent(ATCamera, 0, startIntegration)\n",
      "Read 100 history items for RemoteEvent(ATCamera, 0, startReadout)\n",
      "Read 26 history items for RemoteEvent(ATCamera, 0, summaryState)\n",
      "positionStatus DDS read queue is filling: 16 of 100 elements\n",
      "mainAirSourcePressure DDS read queue is filling: 17 of 100 elements\n",
      "Read historical data in 0.54 sec\n",
      "timeAndDate DDS read queue is full (100 elements); data may be lost\n",
      "m2AirPressure DDS read queue is filling: 18 of 100 elements\n",
      "trajectory DDS read queue is filling: 32 of 100 elements\n",
      "Read 1 history items for RemoteEvent(ATArchiver, 0, authList)\n",
      "mountStatus DDS read queue is full (100 elements); data may be lost\n",
      "m1AirPressure DDS read queue is filling: 19 of 100 elements\n",
      "torqueDemand DDS read queue is filling: 32 of 100 elements\n",
      "Read 100 history items for RemoteEvent(ATArchiver, 0, heartbeat)\n",
      "mountPositions DDS read queue is filling: 29 of 100 elements\n",
      "loadCell DDS read queue is filling: 19 of 100 elements\n",
      "Read 100 history items for RemoteEvent(ATArchiver, 0, imageInOODS)\n",
      "nasymth_m3_mountMotorEncoders DDS read queue is filling: 32 of 100 elements\n",
      "currentTargetStatus DDS read queue is full (100 elements); data may be lost\n",
      "Read 100 history items for RemoteEvent(ATArchiver, 0, imageRetrievalForArchiving)\n",
      "mount_Nasmyth_Encoders DDS read queue is filling: 32 of 100 elements\n",
      "Read 1 history items for RemoteEvent(ATArchiver, 0, logLevel)\n",
      "Read 1 history items for RemoteEvent(ATArchiver, 0, logMessage)\n",
      "mount_AzEl_Encoders DDS read queue is filling: 32 of 100 elements\n",
      "Read 1 history items for RemoteEvent(ATArchiver, 0, simulationMode)\n",
      "measuredTorque DDS read queue is filling: 32 of 100 elements\n",
      "Read 1 history items for RemoteEvent(ATArchiver, 0, softwareVersions)\n",
      "Read 25 history items for RemoteEvent(ATArchiver, 0, summaryState)\n",
      "measuredMotorVelocity DDS read queue is filling: 33 of 100 elements\n",
      "mount_AzEl_Encoders python read queue is filling: 31 of 100 elements\n",
      "azEl_mountMotorEncoders DDS read queue is filling: 33 of 100 elements\n"
     ]
    },
    {
     "data": {
      "text/plain": [
       "[[None, None, None, None, None, None, None], [None, None, None, None]]"
      ]
     },
     "execution_count": 5,
     "metadata": {},
     "output_type": "execute_result"
    }
   ],
   "source": [
    "#Start classes\n",
    "domain = salobj.Domain()\n",
    "await asyncio.sleep(10) # This can be removed in the future...\n",
    "atcs = ATCS(domain)\n",
    "latiss = LATISS(domain)\n",
    "await asyncio.gather(atcs.start_task, latiss.start_task)"
   ]
  },
  {
   "cell_type": "code",
   "execution_count": 8,
   "metadata": {},
   "outputs": [],
   "source": [
    "atcs.check.atdome = True\n",
    "atcs.check.atdometrajectory = True"
   ]
  },
  {
   "cell_type": "code",
   "execution_count": 9,
   "metadata": {
    "collapsed": true,
    "jupyter": {
     "outputs_hidden": true
    }
   },
   "outputs": [
    {
     "name": "stdout",
     "output_type": "stream",
     "text": [
      "Enabling all components\n",
      "Gathering settings.\n",
      "Received settings from users.: {'atdome': 'current', 'ataos': 'current', 'athexapod': 'current'}\n",
      "Couldn't get settingVersions event. Using empty settings.\n",
      "Complete settings for atmcs.\n",
      "Complete settings for atptg.\n",
      "Complete settings for atpneumatics.\n",
      "Complete settings for atdometrajectory.\n",
      "Settings versions: {'atdome': 'current', 'ataos': 'current', 'athexapod': 'current', 'atmcs': '', 'atptg': '', 'atpneumatics': '', 'atdometrajectory': ''}\n",
      "[atmcs]::[<State.ENABLED: 2>]\n",
      "[atptg]::[<State.ENABLED: 2>]\n",
      "[ataos]::[<State.ENABLED: 2>]\n",
      "[atpneumatics]::[<State.ENABLED: 2>]\n",
      "[athexapod]::[<State.ENABLED: 2>]\n",
      "[atdome]::[<State.STANDBY: 5>, <State.DISABLED: 1>, <State.ENABLED: 2>]\n",
      "[atdometrajectory]::[<State.STANDBY: 5>, <State.DISABLED: 1>, <State.ENABLED: 2>]\n",
      "All components in <State.ENABLED: 2>.\n"
     ]
    }
   ],
   "source": [
    "# enable components\n",
    "await atcs.enable({\"atdome\": \"current\", \"ataos\": \"current\", \"athexapod\": \"current\"})\n",
    "#await latiss.enable({\"atspectrograph\": \"current\"})"
   ]
  },
  {
   "cell_type": "code",
   "execution_count": 6,
   "metadata": {},
   "outputs": [
    {
     "name": "stdout",
     "output_type": "stream",
     "text": [
      "Enabling all components\n",
      "Gathering settings.\n",
      "Received settings from users.: {'atspectrograph': 'current'}\n",
      "Couldn't get settingVersions event. Using empty settings.\n",
      "Couldn't get settingVersions event. Using empty settings.\n",
      "Complete settings for atcamera.\n",
      "Complete settings for atheaderservice.\n",
      "Complete settings for atarchiver.\n",
      "Settings versions: {'atspectrograph': 'current', 'atcamera': '', 'atheaderservice': '', 'atarchiver': ''}\n",
      "[atcamera]::[<State.STANDBY: 5>, <State.DISABLED: 1>, <State.ENABLED: 2>]\n",
      "[atspectrograph]::[<State.ENABLED: 2>]\n",
      "[atheaderservice]::[<State.STANDBY: 5>, <State.DISABLED: 1>, <State.ENABLED: 2>]\n",
      "[atarchiver]::[<State.STANDBY: 5>, <State.DISABLED: 1>, <State.ENABLED: 2>]\n",
      "All components in <State.ENABLED: 2>.\n"
     ]
    }
   ],
   "source": [
    "await latiss.enable({\"atspectrograph\": \"current\"})"
   ]
  },
  {
   "cell_type": "code",
   "execution_count": 7,
   "metadata": {},
   "outputs": [
    {
     "name": "stdout",
     "output_type": "stream",
     "text": [
      "Generating group_id\n",
      "imagetype: BIAS, skip TCS synchronization.\n",
      "BIAS 0001 - 0001\n"
     ]
    },
    {
     "data": {
      "text/plain": [
       "array([2021070800093])"
      ]
     },
     "execution_count": 7,
     "metadata": {},
     "output_type": "execute_result"
    }
   ],
   "source": [
    "# Take a bias to make sure everything is working\n",
    "await latiss.take_bias(1)"
   ]
  },
  {
   "cell_type": "code",
   "execution_count": null,
   "metadata": {},
   "outputs": [],
   "source": [
    "# Take 50 biases seq # 002-051\n",
    "# Added wait to stop killing the recent images\n",
    "for i in range(50):\n",
    "    await asyncio.sleep(2.0)\n",
    "    await latiss.take_bias(1)"
   ]
  },
  {
   "cell_type": "code",
   "execution_count": null,
   "metadata": {},
   "outputs": [],
   "source": [
    "# Take 10 10 second darks 52-61\n",
    "await latiss.take_darks(10.0, 10)"
   ]
  },
  {
   "cell_type": "code",
   "execution_count": null,
   "metadata": {},
   "outputs": [],
   "source": []
  },
  {
   "cell_type": "code",
   "execution_count": null,
   "metadata": {},
   "outputs": [],
   "source": [
    "await salobj.set_summary_state(latiss.rem.atspectrograph, salobj.State.ENABLED, settingsToApply='current')"
   ]
  },
  {
   "cell_type": "code",
   "execution_count": 16,
   "metadata": {},
   "outputs": [
    {
     "data": {
      "text/plain": [
       "[<State.STANDBY: 5>, <State.DISABLED: 1>, <State.ENABLED: 2>]"
      ]
     },
     "execution_count": 16,
     "metadata": {},
     "output_type": "execute_result"
    }
   ],
   "source": [
    "await salobj.set_summary_state(atcs.rem.ataos, salobj.State.ENABLED, settingsToApply='current')"
   ]
  },
  {
   "cell_type": "code",
   "execution_count": 26,
   "metadata": {},
   "outputs": [
    {
     "data": {
      "text/plain": [
       "[<State.STANDBY: 5>, <State.DISABLED: 1>, <State.ENABLED: 2>]"
      ]
     },
     "execution_count": 26,
     "metadata": {},
     "output_type": "execute_result"
    }
   ],
   "source": [
    "await salobj.set_summary_state(atcs.rem.atpneumatics, salobj.State.ENABLED)"
   ]
  },
  {
   "cell_type": "code",
   "execution_count": 39,
   "metadata": {},
   "outputs": [
    {
     "data": {
      "text/plain": [
       "[<State.FAULT: 3>, <State.STANDBY: 5>, <State.DISABLED: 1>, <State.ENABLED: 2>]"
      ]
     },
     "execution_count": 39,
     "metadata": {},
     "output_type": "execute_result"
    }
   ],
   "source": [
    "await salobj.set_summary_state(atcs.rem.atptg, salobj.State.ENABLED)"
   ]
  },
  {
   "cell_type": "code",
   "execution_count": 40,
   "metadata": {},
   "outputs": [
    {
     "data": {
      "text/plain": [
       "[<State.FAULT: 3>, <State.STANDBY: 5>, <State.DISABLED: 1>, <State.ENABLED: 2>]"
      ]
     },
     "execution_count": 40,
     "metadata": {},
     "output_type": "execute_result"
    },
    {
     "name": "stdout",
     "output_type": "stream",
     "text": [
      "logMessage DDS read queue is filling: 18 of 100 elements\n",
      "logMessage DDS read queue is filling: 11 of 100 elements\n"
     ]
    }
   ],
   "source": [
    "await salobj.set_summary_state(atcs.rem.atmcs, salobj.State.ENABLED)"
   ]
  },
  {
   "cell_type": "code",
   "execution_count": null,
   "metadata": {},
   "outputs": [],
   "source": [
    "await atcs.prepare_for_flatfield()"
   ]
  },
  {
   "cell_type": "code",
   "execution_count": null,
   "metadata": {},
   "outputs": [],
   "source": [
    "# Take a test flat\n",
    "await latiss.take_flats(2.0, 1, filter='empty_1', grating='empty_1')"
   ]
  },
  {
   "cell_type": "code",
   "execution_count": null,
   "metadata": {},
   "outputs": [],
   "source": [
    "# Take 10 2 second flats 72-81\n",
    "await latiss.take_flats(2.0, 10, filter='empty_1', grating='empty_1')"
   ]
  },
  {
   "cell_type": "code",
   "execution_count": null,
   "metadata": {},
   "outputs": [],
   "source": [
    "# Take 10 2 second flats 72-81\n",
    "await latiss.take_flats(2.0, 10, filter='RG610', grating='empty_1')"
   ]
  },
  {
   "cell_type": "code",
   "execution_count": null,
   "metadata": {},
   "outputs": [],
   "source": [
    "# Take 10 2 second flats 72-81\n",
    "await latiss.take_flats(2.0, 10, filter='BG40', grating='empty_1')"
   ]
  },
  {
   "cell_type": "code",
   "execution_count": null,
   "metadata": {},
   "outputs": [],
   "source": [
    "# Take flats for PTC 82-141\n",
    "# Added wait to stop killing the recent images\n",
    "for i in range(30):\n",
    "    exp = 0.2 * float(i+1)\n",
    "    await latiss.take_flats(exp, 1, filter='RG610', grating='empty_1')\n",
    "    if exp < 2.0:\n",
    "        await asyncio.sleep(2.0)\n",
    "    await latiss.take_flats(exp, 1, filter='RG610', grating='empty_1')\n"
   ]
  },
  {
   "cell_type": "code",
   "execution_count": null,
   "metadata": {},
   "outputs": [],
   "source": [
    "# This moves everything to park position and opens the dome.  It takes 5+ minutes.\n",
    "await atcs.prepare_for_onsky()"
   ]
  },
  {
   "cell_type": "code",
   "execution_count": null,
   "metadata": {},
   "outputs": [],
   "source": [
    "await atcs.close_m1_cover()"
   ]
  },
  {
   "cell_type": "code",
   "execution_count": null,
   "metadata": {},
   "outputs": [],
   "source": [
    "await atcs.close_m1_vent()"
   ]
  },
  {
   "cell_type": "code",
   "execution_count": 27,
   "metadata": {
    "collapsed": true,
    "jupyter": {
     "outputs_hidden": true
    }
   },
   "outputs": [
    {
     "ename": "AckError",
     "evalue": "msg='Command failed', ackcmd=(ackcmd private_seqNum=433798456, ack=<SalRetCode.CMD_FAILED: -302>, error=0, result='ERROR: Command masterCloseValve rejected while in EnabledState state.')",
     "output_type": "error",
     "traceback": [
      "\u001b[0;31m---------------------------------------------------------------------------\u001b[0m",
      "\u001b[0;31mAckError\u001b[0m                                  Traceback (most recent call last)",
      "\u001b[0;32m/tmp/ipykernel_8747/4129559208.py\u001b[0m in \u001b[0;36m<module>\u001b[0;34m\u001b[0m\n\u001b[0;32m----> 1\u001b[0;31m \u001b[0;32mawait\u001b[0m \u001b[0matcs\u001b[0m\u001b[0;34m.\u001b[0m\u001b[0mrem\u001b[0m\u001b[0;34m.\u001b[0m\u001b[0matpneumatics\u001b[0m\u001b[0;34m.\u001b[0m\u001b[0mcmd_closeMasterAirSupply\u001b[0m\u001b[0;34m.\u001b[0m\u001b[0mset_start\u001b[0m\u001b[0;34m(\u001b[0m\u001b[0mtimeout\u001b[0m\u001b[0;34m=\u001b[0m\u001b[0;36m5.0\u001b[0m\u001b[0;34m)\u001b[0m\u001b[0;34m\u001b[0m\u001b[0;34m\u001b[0m\u001b[0m\n\u001b[0m",
      "\u001b[0;32m/opt/lsst/software/stack/conda/miniconda3-py38_4.9.2/envs/lsst-scipipe-0.6.0/lib/python3.8/site-packages/lsst/ts/salobj/topics/remote_command.py\u001b[0m in \u001b[0;36mset_start\u001b[0;34m(self, timeout, wait_done, **kwargs)\u001b[0m\n\u001b[1;32m    392\u001b[0m         \"\"\"\n\u001b[1;32m    393\u001b[0m         \u001b[0mself\u001b[0m\u001b[0;34m.\u001b[0m\u001b[0mset\u001b[0m\u001b[0;34m(\u001b[0m\u001b[0;34m**\u001b[0m\u001b[0mkwargs\u001b[0m\u001b[0;34m)\u001b[0m\u001b[0;34m\u001b[0m\u001b[0;34m\u001b[0m\u001b[0m\n\u001b[0;32m--> 394\u001b[0;31m         \u001b[0;32mreturn\u001b[0m \u001b[0;32mawait\u001b[0m \u001b[0mself\u001b[0m\u001b[0;34m.\u001b[0m\u001b[0mstart\u001b[0m\u001b[0;34m(\u001b[0m\u001b[0mtimeout\u001b[0m\u001b[0;34m=\u001b[0m\u001b[0mtimeout\u001b[0m\u001b[0;34m,\u001b[0m \u001b[0mwait_done\u001b[0m\u001b[0;34m=\u001b[0m\u001b[0mwait_done\u001b[0m\u001b[0;34m)\u001b[0m\u001b[0;34m\u001b[0m\u001b[0;34m\u001b[0m\u001b[0m\n\u001b[0m\u001b[1;32m    395\u001b[0m \u001b[0;34m\u001b[0m\u001b[0m\n\u001b[1;32m    396\u001b[0m     \u001b[0;32masync\u001b[0m \u001b[0;32mdef\u001b[0m \u001b[0mstart\u001b[0m\u001b[0;34m(\u001b[0m\u001b[0mself\u001b[0m\u001b[0;34m,\u001b[0m \u001b[0mdata\u001b[0m\u001b[0;34m=\u001b[0m\u001b[0;32mNone\u001b[0m\u001b[0;34m,\u001b[0m \u001b[0mtimeout\u001b[0m\u001b[0;34m=\u001b[0m\u001b[0mDEFAULT_TIMEOUT\u001b[0m\u001b[0;34m,\u001b[0m \u001b[0mwait_done\u001b[0m\u001b[0;34m=\u001b[0m\u001b[0;32mTrue\u001b[0m\u001b[0;34m)\u001b[0m\u001b[0;34m:\u001b[0m\u001b[0;34m\u001b[0m\u001b[0;34m\u001b[0m\u001b[0m\n",
      "\u001b[0;32m/opt/lsst/software/stack/conda/miniconda3-py38_4.9.2/envs/lsst-scipipe-0.6.0/lib/python3.8/site-packages/lsst/ts/salobj/topics/remote_command.py\u001b[0m in \u001b[0;36mstart\u001b[0;34m(self, data, timeout, wait_done)\u001b[0m\n\u001b[1;32m    447\u001b[0m         )\n\u001b[1;32m    448\u001b[0m         \u001b[0mself\u001b[0m\u001b[0;34m.\u001b[0m\u001b[0msalinfo\u001b[0m\u001b[0;34m.\u001b[0m\u001b[0m_running_cmds\u001b[0m\u001b[0;34m[\u001b[0m\u001b[0mseq_num\u001b[0m\u001b[0;34m]\u001b[0m \u001b[0;34m=\u001b[0m \u001b[0mcmd_info\u001b[0m\u001b[0;34m\u001b[0m\u001b[0;34m\u001b[0m\u001b[0m\n\u001b[0;32m--> 449\u001b[0;31m         \u001b[0;32mreturn\u001b[0m \u001b[0;32mawait\u001b[0m \u001b[0mcmd_info\u001b[0m\u001b[0;34m.\u001b[0m\u001b[0mnext_ackcmd\u001b[0m\u001b[0;34m(\u001b[0m\u001b[0mtimeout\u001b[0m\u001b[0;34m=\u001b[0m\u001b[0mtimeout\u001b[0m\u001b[0;34m)\u001b[0m\u001b[0;34m\u001b[0m\u001b[0;34m\u001b[0m\u001b[0m\n\u001b[0m",
      "\u001b[0;32m/opt/lsst/software/stack/conda/miniconda3-py38_4.9.2/envs/lsst-scipipe-0.6.0/lib/python3.8/site-packages/lsst/ts/salobj/topics/remote_command.py\u001b[0m in \u001b[0;36mnext_ackcmd\u001b[0;34m(self, timeout)\u001b[0m\n\u001b[1;32m    180\u001b[0m             \u001b[0mackcmd\u001b[0m \u001b[0;34m=\u001b[0m \u001b[0;32mawait\u001b[0m \u001b[0mself\u001b[0m\u001b[0;34m.\u001b[0m\u001b[0m_wait_task\u001b[0m\u001b[0;34m\u001b[0m\u001b[0;34m\u001b[0m\u001b[0m\n\u001b[1;32m    181\u001b[0m             \u001b[0;32mif\u001b[0m \u001b[0mackcmd\u001b[0m\u001b[0;34m.\u001b[0m\u001b[0mack\u001b[0m \u001b[0;32min\u001b[0m \u001b[0mself\u001b[0m\u001b[0;34m.\u001b[0m\u001b[0mfailed_ack_codes\u001b[0m\u001b[0;34m:\u001b[0m\u001b[0;34m\u001b[0m\u001b[0;34m\u001b[0m\u001b[0m\n\u001b[0;32m--> 182\u001b[0;31m                 \u001b[0;32mraise\u001b[0m \u001b[0mbase\u001b[0m\u001b[0;34m.\u001b[0m\u001b[0mAckError\u001b[0m\u001b[0;34m(\u001b[0m\u001b[0mmsg\u001b[0m\u001b[0;34m=\u001b[0m\u001b[0;34m\"Command failed\"\u001b[0m\u001b[0;34m,\u001b[0m \u001b[0mackcmd\u001b[0m\u001b[0;34m=\u001b[0m\u001b[0mackcmd\u001b[0m\u001b[0;34m)\u001b[0m\u001b[0;34m\u001b[0m\u001b[0;34m\u001b[0m\u001b[0m\n\u001b[0m\u001b[1;32m    183\u001b[0m             \u001b[0;32mreturn\u001b[0m \u001b[0mackcmd\u001b[0m\u001b[0;34m\u001b[0m\u001b[0;34m\u001b[0m\u001b[0m\n\u001b[1;32m    184\u001b[0m         \u001b[0;32mexcept\u001b[0m \u001b[0masyncio\u001b[0m\u001b[0;34m.\u001b[0m\u001b[0mTimeoutError\u001b[0m\u001b[0;34m:\u001b[0m\u001b[0;34m\u001b[0m\u001b[0;34m\u001b[0m\u001b[0m\n",
      "\u001b[0;31mAckError\u001b[0m: msg='Command failed', ackcmd=(ackcmd private_seqNum=433798456, ack=<SalRetCode.CMD_FAILED: -302>, error=0, result='ERROR: Command masterCloseValve rejected while in EnabledState state.')"
     ]
    }
   ],
   "source": [
    "await atcs.rem.atpneumatics.cmd_closeMasterAirSupply.set_start(timeout=5.0)"
   ]
  },
  {
   "cell_type": "code",
   "execution_count": null,
   "metadata": {},
   "outputs": [],
   "source": [
    "await atcs.rem.atpneumatics.cmd_open"
   ]
  },
  {
   "cell_type": "code",
   "execution_count": 28,
   "metadata": {},
   "outputs": [
    {
     "data": {
      "text/plain": [
       "<ddsutil.ATPneumatics_ackcmd_8e4519ae at 0x7f55093cbd30>"
      ]
     },
     "execution_count": 28,
     "metadata": {},
     "output_type": "execute_result"
    }
   ],
   "source": [
    "await atcs.rem.atpneumatics.cmd_closeInstrumentAirValve.set_start(timeout=5.0)"
   ]
  },
  {
   "cell_type": "code",
   "execution_count": 29,
   "metadata": {},
   "outputs": [
    {
     "ename": "AckError",
     "evalue": "msg='Command failed', ackcmd=(ackcmd private_seqNum=858386508, ack=<SalRetCode.CMD_FAILED: -302>, error=0, result='ERROR: Command m1CloseValve rejected while in EnabledState state.')",
     "output_type": "error",
     "traceback": [
      "\u001b[0;31m---------------------------------------------------------------------------\u001b[0m",
      "\u001b[0;31mAckError\u001b[0m                                  Traceback (most recent call last)",
      "\u001b[0;32m/tmp/ipykernel_8747/1894592010.py\u001b[0m in \u001b[0;36m<module>\u001b[0;34m\u001b[0m\n\u001b[0;32m----> 1\u001b[0;31m \u001b[0;32mawait\u001b[0m \u001b[0matcs\u001b[0m\u001b[0;34m.\u001b[0m\u001b[0mrem\u001b[0m\u001b[0;34m.\u001b[0m\u001b[0matpneumatics\u001b[0m\u001b[0;34m.\u001b[0m\u001b[0mcmd_m1CloseAirValve\u001b[0m\u001b[0;34m.\u001b[0m\u001b[0mstart\u001b[0m\u001b[0;34m(\u001b[0m\u001b[0mtimeout\u001b[0m\u001b[0;34m=\u001b[0m\u001b[0;36m5.0\u001b[0m\u001b[0;34m)\u001b[0m\u001b[0;34m\u001b[0m\u001b[0;34m\u001b[0m\u001b[0m\n\u001b[0m",
      "\u001b[0;32m/opt/lsst/software/stack/conda/miniconda3-py38_4.9.2/envs/lsst-scipipe-0.6.0/lib/python3.8/site-packages/lsst/ts/salobj/topics/remote_command.py\u001b[0m in \u001b[0;36mstart\u001b[0;34m(self, data, timeout, wait_done)\u001b[0m\n\u001b[1;32m    447\u001b[0m         )\n\u001b[1;32m    448\u001b[0m         \u001b[0mself\u001b[0m\u001b[0;34m.\u001b[0m\u001b[0msalinfo\u001b[0m\u001b[0;34m.\u001b[0m\u001b[0m_running_cmds\u001b[0m\u001b[0;34m[\u001b[0m\u001b[0mseq_num\u001b[0m\u001b[0;34m]\u001b[0m \u001b[0;34m=\u001b[0m \u001b[0mcmd_info\u001b[0m\u001b[0;34m\u001b[0m\u001b[0;34m\u001b[0m\u001b[0m\n\u001b[0;32m--> 449\u001b[0;31m         \u001b[0;32mreturn\u001b[0m \u001b[0;32mawait\u001b[0m \u001b[0mcmd_info\u001b[0m\u001b[0;34m.\u001b[0m\u001b[0mnext_ackcmd\u001b[0m\u001b[0;34m(\u001b[0m\u001b[0mtimeout\u001b[0m\u001b[0;34m=\u001b[0m\u001b[0mtimeout\u001b[0m\u001b[0;34m)\u001b[0m\u001b[0;34m\u001b[0m\u001b[0;34m\u001b[0m\u001b[0m\n\u001b[0m",
      "\u001b[0;32m/opt/lsst/software/stack/conda/miniconda3-py38_4.9.2/envs/lsst-scipipe-0.6.0/lib/python3.8/site-packages/lsst/ts/salobj/topics/remote_command.py\u001b[0m in \u001b[0;36mnext_ackcmd\u001b[0;34m(self, timeout)\u001b[0m\n\u001b[1;32m    180\u001b[0m             \u001b[0mackcmd\u001b[0m \u001b[0;34m=\u001b[0m \u001b[0;32mawait\u001b[0m \u001b[0mself\u001b[0m\u001b[0;34m.\u001b[0m\u001b[0m_wait_task\u001b[0m\u001b[0;34m\u001b[0m\u001b[0;34m\u001b[0m\u001b[0m\n\u001b[1;32m    181\u001b[0m             \u001b[0;32mif\u001b[0m \u001b[0mackcmd\u001b[0m\u001b[0;34m.\u001b[0m\u001b[0mack\u001b[0m \u001b[0;32min\u001b[0m \u001b[0mself\u001b[0m\u001b[0;34m.\u001b[0m\u001b[0mfailed_ack_codes\u001b[0m\u001b[0;34m:\u001b[0m\u001b[0;34m\u001b[0m\u001b[0;34m\u001b[0m\u001b[0m\n\u001b[0;32m--> 182\u001b[0;31m                 \u001b[0;32mraise\u001b[0m \u001b[0mbase\u001b[0m\u001b[0;34m.\u001b[0m\u001b[0mAckError\u001b[0m\u001b[0;34m(\u001b[0m\u001b[0mmsg\u001b[0m\u001b[0;34m=\u001b[0m\u001b[0;34m\"Command failed\"\u001b[0m\u001b[0;34m,\u001b[0m \u001b[0mackcmd\u001b[0m\u001b[0;34m=\u001b[0m\u001b[0mackcmd\u001b[0m\u001b[0;34m)\u001b[0m\u001b[0;34m\u001b[0m\u001b[0;34m\u001b[0m\u001b[0m\n\u001b[0m\u001b[1;32m    183\u001b[0m             \u001b[0;32mreturn\u001b[0m \u001b[0mackcmd\u001b[0m\u001b[0;34m\u001b[0m\u001b[0;34m\u001b[0m\u001b[0m\n\u001b[1;32m    184\u001b[0m         \u001b[0;32mexcept\u001b[0m \u001b[0masyncio\u001b[0m\u001b[0;34m.\u001b[0m\u001b[0mTimeoutError\u001b[0m\u001b[0;34m:\u001b[0m\u001b[0;34m\u001b[0m\u001b[0;34m\u001b[0m\u001b[0m\n",
      "\u001b[0;31mAckError\u001b[0m: msg='Command failed', ackcmd=(ackcmd private_seqNum=858386508, ack=<SalRetCode.CMD_FAILED: -302>, error=0, result='ERROR: Command m1CloseValve rejected while in EnabledState state.')"
     ]
    }
   ],
   "source": [
    "await atcs.rem.atpneumatics.cmd_m1CloseAirValve.start(timeout=5.0)"
   ]
  },
  {
   "cell_type": "code",
   "execution_count": 30,
   "metadata": {},
   "outputs": [
    {
     "data": {
      "text/plain": [
       "<ddsutil.ATAOS_ackcmd_38d6204e at 0x7f5509134ac0>"
      ]
     },
     "execution_count": 30,
     "metadata": {},
     "output_type": "execute_result"
    }
   ],
   "source": [
    "await atcs.rem.ataos.cmd_enableCorrection.set_start(\n",
    "    m1=True, hexapod=True, atspectrograph=True, timeout=atcs.long_timeout\n",
    ") "
   ]
  },
  {
   "cell_type": "code",
   "execution_count": 31,
   "metadata": {},
   "outputs": [
    {
     "name": "stdout",
     "output_type": "stream",
     "text": [
      "Cover state <MirrorCoverState.CLOSED: 6>\n",
      "Opening M1 cover.\n",
      "Cover state <MirrorCoverState.CLOSED: 6>\n",
      "Cover state <MirrorCoverState.INMOTION: 8>\n",
      "Cover state <MirrorCoverState.OPENED: 7>\n"
     ]
    }
   ],
   "source": [
    "await atcs.open_m1_cover()"
   ]
  },
  {
   "cell_type": "code",
   "execution_count": 32,
   "metadata": {},
   "outputs": [
    {
     "name": "stdout",
     "output_type": "stream",
     "text": [
      "M1 vent state <VentsPosition.CLOSED: 1>\n",
      "Opening M1 vents.\n",
      "M1 vent state <VentsPosition.PARTIALLYOPENED: 2>\n",
      "M1 vent state <VentsPosition.OPENED: 0>\n",
      "logMessage DDS read queue is filling: 13 of 100 elements\n",
      "logMessage DDS read queue is filling: 85 of 100 elements\n"
     ]
    }
   ],
   "source": [
    "await atcs.open_m1_vent()"
   ]
  },
  {
   "cell_type": "code",
   "execution_count": null,
   "metadata": {},
   "outputs": [],
   "source": [
    "# Slew to a given object and start tracking.\n",
    "await atcs.slew_object('HD117637', rot_type=RotType.PhysicalSky)"
   ]
  },
  {
   "cell_type": "code",
   "execution_count": 11,
   "metadata": {},
   "outputs": [
    {
     "data": {
      "text/plain": [
       "<ddsutil.ATPtg_ackcmd_8110c0a5 at 0x7f55554fe6a0>"
      ]
     },
     "execution_count": 11,
     "metadata": {},
     "output_type": "execute_result"
    }
   ],
   "source": [
    "await atcs.rem.atptg.cmd_pointLoadModel.set_start(pointingFile=\"/home/saluser/at_20210610_fauto.mod\")"
   ]
  },
  {
   "cell_type": "code",
   "execution_count": null,
   "metadata": {},
   "outputs": [],
   "source": [
    "await atcs.disable_dome_following()"
   ]
  },
  {
   "cell_type": "code",
   "execution_count": null,
   "metadata": {},
   "outputs": [],
   "source": [
    "await atcs.slew_dome_to(45.0)"
   ]
  },
  {
   "cell_type": "code",
   "execution_count": null,
   "metadata": {},
   "outputs": [],
   "source": [
    "await atcs.home_dome()"
   ]
  },
  {
   "cell_type": "code",
   "execution_count": 10,
   "metadata": {},
   "outputs": [
    {
     "name": "stdout",
     "output_type": "stream",
     "text": [
      "Enable dome trajectory following.\n"
     ]
    }
   ],
   "source": [
    "await atcs.enable_dome_following()"
   ]
  },
  {
   "cell_type": "code",
   "execution_count": null,
   "metadata": {},
   "outputs": [],
   "source": [
    "await atcs.rem.ataos.cmd_resetOffset.set_start(axis=\"z\")"
   ]
  },
  {
   "cell_type": "code",
   "execution_count": null,
   "metadata": {},
   "outputs": [],
   "source": [
    "await atcs.rem.ataos.cmd_resetOffset.set_start(axis=\"y\")"
   ]
  },
  {
   "cell_type": "code",
   "execution_count": null,
   "metadata": {},
   "outputs": [],
   "source": [
    "await atcs.rem.ataos.cmd_resetOffset.set_start(axis=\"x\")"
   ]
  },
  {
   "cell_type": "code",
   "execution_count": null,
   "metadata": {},
   "outputs": [],
   "source": [
    "await atcs.rem.ataos.cmd_offset.set_start(z=-0.4)"
   ]
  },
  {
   "cell_type": "code",
   "execution_count": null,
   "metadata": {},
   "outputs": [],
   "source": [
    "await atcs.offset_xy(y=-110, x=-150, absorb=False)"
   ]
  },
  {
   "cell_type": "code",
   "execution_count": null,
   "metadata": {},
   "outputs": [],
   "source": [
    "# Take 1 5 second image\n",
    "await latiss.take_object(5.0, 1, filter='RG610', grating='empty_1')"
   ]
  },
  {
   "cell_type": "code",
   "execution_count": null,
   "metadata": {},
   "outputs": [],
   "source": [
    "for i in range(20):\n",
    "    await latiss.take_object(5.0, 1, filter='RG610', grating='empty_1')\n",
    "    await asyncio.sleep(30.0)\n",
    "    "
   ]
  },
  {
   "cell_type": "code",
   "execution_count": null,
   "metadata": {},
   "outputs": [],
   "source": [
    "await latiss.take_engtest(5.0, 1, filter='RG610', grating='empty_1')"
   ]
  },
  {
   "cell_type": "code",
   "execution_count": null,
   "metadata": {},
   "outputs": [],
   "source": [
    "await latiss.setup_atspec(filter='RG610', grating='empty_1')"
   ]
  },
  {
   "cell_type": "code",
   "execution_count": null,
   "metadata": {},
   "outputs": [],
   "source": [
    "await latiss.take_object(10.0, 1, filter='empty_1', grating='ronchi90lpmm')"
   ]
  },
  {
   "cell_type": "code",
   "execution_count": null,
   "metadata": {},
   "outputs": [],
   "source": [
    "await atcs.rem.atpneumatics.cmd_closeM1Cover.start()"
   ]
  },
  {
   "cell_type": "code",
   "execution_count": null,
   "metadata": {},
   "outputs": [],
   "source": [
    "await atcs.home_dome()"
   ]
  },
  {
   "cell_type": "code",
   "execution_count": null,
   "metadata": {},
   "outputs": [],
   "source": [
    "atcs.check.atdome = True\n",
    "atcs.check.atdometrajectory = True"
   ]
  },
  {
   "cell_type": "code",
   "execution_count": null,
   "metadata": {},
   "outputs": [],
   "source": [
    "await atcs.slew_dome_to(az=90.0)"
   ]
  },
  {
   "cell_type": "code",
   "execution_count": null,
   "metadata": {},
   "outputs": [],
   "source": [
    "await atcs.open_dome_shutter()"
   ]
  },
  {
   "cell_type": "code",
   "execution_count": null,
   "metadata": {},
   "outputs": [],
   "source": [
    "await atcs.rem.atpneumatics.cmd_openM1CellVents.start()"
   ]
  },
  {
   "cell_type": "code",
   "execution_count": null,
   "metadata": {},
   "outputs": [],
   "source": [
    "# This Opens/Closes the dropout shutter\n",
    "# await atcs.rem.atdome.cmd_moveShutterDropoutDoor.set_start(open=False)"
   ]
  },
  {
   "cell_type": "code",
   "execution_count": 23,
   "metadata": {},
   "outputs": [
    {
     "ename": "AckError",
     "evalue": "msg='Command failed', ackcmd=(ackcmd private_seqNum=730611388, ack=<SalRetCode.CMD_FAILED: -302>, error=1, result=\"Failed: msg='Command failed', ackcmd=(ackcmd private_seqNum=1668546129, ack=<SalRetCode.CMD_FAILED: -302>, error=0, result='ERROR: Command masterOpenValve rejected while in EnabledState state.')\")",
     "output_type": "error",
     "traceback": [
      "\u001b[0;31m---------------------------------------------------------------------------\u001b[0m",
      "\u001b[0;31mAckError\u001b[0m                                  Traceback (most recent call last)",
      "\u001b[0;32m/tmp/ipykernel_8747/1918618905.py\u001b[0m in \u001b[0;36m<module>\u001b[0;34m\u001b[0m\n\u001b[1;32m      1\u001b[0m \u001b[0;31m# This tunrs on ATAOS corrections and turns on the air pressure under the M1 mirror.\u001b[0m\u001b[0;34m\u001b[0m\u001b[0;34m\u001b[0m\u001b[0;34m\u001b[0m\u001b[0m\n\u001b[0;32m----> 2\u001b[0;31m await atcs.rem.ataos.cmd_enableCorrection.set_start(\n\u001b[0m\u001b[1;32m      3\u001b[0m     \u001b[0mm1\u001b[0m\u001b[0;34m=\u001b[0m\u001b[0;32mTrue\u001b[0m\u001b[0;34m,\u001b[0m \u001b[0mhexapod\u001b[0m\u001b[0;34m=\u001b[0m\u001b[0;32mTrue\u001b[0m\u001b[0;34m,\u001b[0m \u001b[0matspectrograph\u001b[0m\u001b[0;34m=\u001b[0m\u001b[0;32mTrue\u001b[0m\u001b[0;34m,\u001b[0m \u001b[0mtimeout\u001b[0m\u001b[0;34m=\u001b[0m\u001b[0matcs\u001b[0m\u001b[0;34m.\u001b[0m\u001b[0mlong_timeout\u001b[0m\u001b[0;34m\u001b[0m\u001b[0;34m\u001b[0m\u001b[0m\n\u001b[1;32m      4\u001b[0m )\n",
      "\u001b[0;32m/opt/lsst/software/stack/conda/miniconda3-py38_4.9.2/envs/lsst-scipipe-0.6.0/lib/python3.8/site-packages/lsst/ts/salobj/topics/remote_command.py\u001b[0m in \u001b[0;36mset_start\u001b[0;34m(self, timeout, wait_done, **kwargs)\u001b[0m\n\u001b[1;32m    392\u001b[0m         \"\"\"\n\u001b[1;32m    393\u001b[0m         \u001b[0mself\u001b[0m\u001b[0;34m.\u001b[0m\u001b[0mset\u001b[0m\u001b[0;34m(\u001b[0m\u001b[0;34m**\u001b[0m\u001b[0mkwargs\u001b[0m\u001b[0;34m)\u001b[0m\u001b[0;34m\u001b[0m\u001b[0;34m\u001b[0m\u001b[0m\n\u001b[0;32m--> 394\u001b[0;31m         \u001b[0;32mreturn\u001b[0m \u001b[0;32mawait\u001b[0m \u001b[0mself\u001b[0m\u001b[0;34m.\u001b[0m\u001b[0mstart\u001b[0m\u001b[0;34m(\u001b[0m\u001b[0mtimeout\u001b[0m\u001b[0;34m=\u001b[0m\u001b[0mtimeout\u001b[0m\u001b[0;34m,\u001b[0m \u001b[0mwait_done\u001b[0m\u001b[0;34m=\u001b[0m\u001b[0mwait_done\u001b[0m\u001b[0;34m)\u001b[0m\u001b[0;34m\u001b[0m\u001b[0;34m\u001b[0m\u001b[0m\n\u001b[0m\u001b[1;32m    395\u001b[0m \u001b[0;34m\u001b[0m\u001b[0m\n\u001b[1;32m    396\u001b[0m     \u001b[0;32masync\u001b[0m \u001b[0;32mdef\u001b[0m \u001b[0mstart\u001b[0m\u001b[0;34m(\u001b[0m\u001b[0mself\u001b[0m\u001b[0;34m,\u001b[0m \u001b[0mdata\u001b[0m\u001b[0;34m=\u001b[0m\u001b[0;32mNone\u001b[0m\u001b[0;34m,\u001b[0m \u001b[0mtimeout\u001b[0m\u001b[0;34m=\u001b[0m\u001b[0mDEFAULT_TIMEOUT\u001b[0m\u001b[0;34m,\u001b[0m \u001b[0mwait_done\u001b[0m\u001b[0;34m=\u001b[0m\u001b[0;32mTrue\u001b[0m\u001b[0;34m)\u001b[0m\u001b[0;34m:\u001b[0m\u001b[0;34m\u001b[0m\u001b[0;34m\u001b[0m\u001b[0m\n",
      "\u001b[0;32m/opt/lsst/software/stack/conda/miniconda3-py38_4.9.2/envs/lsst-scipipe-0.6.0/lib/python3.8/site-packages/lsst/ts/salobj/topics/remote_command.py\u001b[0m in \u001b[0;36mstart\u001b[0;34m(self, data, timeout, wait_done)\u001b[0m\n\u001b[1;32m    447\u001b[0m         )\n\u001b[1;32m    448\u001b[0m         \u001b[0mself\u001b[0m\u001b[0;34m.\u001b[0m\u001b[0msalinfo\u001b[0m\u001b[0;34m.\u001b[0m\u001b[0m_running_cmds\u001b[0m\u001b[0;34m[\u001b[0m\u001b[0mseq_num\u001b[0m\u001b[0;34m]\u001b[0m \u001b[0;34m=\u001b[0m \u001b[0mcmd_info\u001b[0m\u001b[0;34m\u001b[0m\u001b[0;34m\u001b[0m\u001b[0m\n\u001b[0;32m--> 449\u001b[0;31m         \u001b[0;32mreturn\u001b[0m \u001b[0;32mawait\u001b[0m \u001b[0mcmd_info\u001b[0m\u001b[0;34m.\u001b[0m\u001b[0mnext_ackcmd\u001b[0m\u001b[0;34m(\u001b[0m\u001b[0mtimeout\u001b[0m\u001b[0;34m=\u001b[0m\u001b[0mtimeout\u001b[0m\u001b[0;34m)\u001b[0m\u001b[0;34m\u001b[0m\u001b[0;34m\u001b[0m\u001b[0m\n\u001b[0m",
      "\u001b[0;32m/opt/lsst/software/stack/conda/miniconda3-py38_4.9.2/envs/lsst-scipipe-0.6.0/lib/python3.8/site-packages/lsst/ts/salobj/topics/remote_command.py\u001b[0m in \u001b[0;36mnext_ackcmd\u001b[0;34m(self, timeout)\u001b[0m\n\u001b[1;32m    180\u001b[0m             \u001b[0mackcmd\u001b[0m \u001b[0;34m=\u001b[0m \u001b[0;32mawait\u001b[0m \u001b[0mself\u001b[0m\u001b[0;34m.\u001b[0m\u001b[0m_wait_task\u001b[0m\u001b[0;34m\u001b[0m\u001b[0;34m\u001b[0m\u001b[0m\n\u001b[1;32m    181\u001b[0m             \u001b[0;32mif\u001b[0m \u001b[0mackcmd\u001b[0m\u001b[0;34m.\u001b[0m\u001b[0mack\u001b[0m \u001b[0;32min\u001b[0m \u001b[0mself\u001b[0m\u001b[0;34m.\u001b[0m\u001b[0mfailed_ack_codes\u001b[0m\u001b[0;34m:\u001b[0m\u001b[0;34m\u001b[0m\u001b[0;34m\u001b[0m\u001b[0m\n\u001b[0;32m--> 182\u001b[0;31m                 \u001b[0;32mraise\u001b[0m \u001b[0mbase\u001b[0m\u001b[0;34m.\u001b[0m\u001b[0mAckError\u001b[0m\u001b[0;34m(\u001b[0m\u001b[0mmsg\u001b[0m\u001b[0;34m=\u001b[0m\u001b[0;34m\"Command failed\"\u001b[0m\u001b[0;34m,\u001b[0m \u001b[0mackcmd\u001b[0m\u001b[0;34m=\u001b[0m\u001b[0mackcmd\u001b[0m\u001b[0;34m)\u001b[0m\u001b[0;34m\u001b[0m\u001b[0;34m\u001b[0m\u001b[0m\n\u001b[0m\u001b[1;32m    183\u001b[0m             \u001b[0;32mreturn\u001b[0m \u001b[0mackcmd\u001b[0m\u001b[0;34m\u001b[0m\u001b[0;34m\u001b[0m\u001b[0m\n\u001b[1;32m    184\u001b[0m         \u001b[0;32mexcept\u001b[0m \u001b[0masyncio\u001b[0m\u001b[0;34m.\u001b[0m\u001b[0mTimeoutError\u001b[0m\u001b[0;34m:\u001b[0m\u001b[0;34m\u001b[0m\u001b[0;34m\u001b[0m\u001b[0m\n",
      "\u001b[0;31mAckError\u001b[0m: msg='Command failed', ackcmd=(ackcmd private_seqNum=730611388, ack=<SalRetCode.CMD_FAILED: -302>, error=1, result=\"Failed: msg='Command failed', ackcmd=(ackcmd private_seqNum=1668546129, ack=<SalRetCode.CMD_FAILED: -302>, error=0, result='ERROR: Command masterOpenValve rejected while in EnabledState state.')\")"
     ]
    }
   ],
   "source": [
    "# This tunrs on ATAOS corrections and turns on the air pressure under the M1 mirror.\n",
    "await atcs.rem.ataos.cmd_enableCorrection.set_start(\n",
    "    m1=True, hexapod=True, atspectrograph=True, timeout=atcs.long_timeout\n",
    ")"
   ]
  },
  {
   "cell_type": "code",
   "execution_count": null,
   "metadata": {},
   "outputs": [],
   "source": [
    "await atcs.enable({\"atdome\": \"current\", \"ataos\": \"current\", \"athexapod\": \"current\"})"
   ]
  },
  {
   "cell_type": "code",
   "execution_count": null,
   "metadata": {},
   "outputs": [],
   "source": [
    "await atcs.rem.atdometrajectory.cmd_setFollowingMode.set_start(enable=True)"
   ]
  },
  {
   "cell_type": "code",
   "execution_count": null,
   "metadata": {},
   "outputs": [],
   "source": [
    "# Pointing to a given Az/El  This will not track\n",
    "await atcs.point_azel(az, el, rot_tel=rot)"
   ]
  },
  {
   "cell_type": "code",
   "execution_count": null,
   "metadata": {},
   "outputs": [],
   "source": [
    "# Pointing to a given RA/Dec  This will track\n",
    "await atcs.slew_icrs(ra=ra, dec=dec, rot=rot, rot_type=RotType.PhysicalSky)"
   ]
  },
  {
   "cell_type": "code",
   "execution_count": null,
   "metadata": {},
   "outputs": [],
   "source": [
    "# Slew to a given object and start tracking.\n",
    "await atcs.slew_object('HD 187101', rot_type=RotType.Parallactic)"
   ]
  },
  {
   "cell_type": "code",
   "execution_count": null,
   "metadata": {},
   "outputs": [],
   "source": [
    "# It is recommended to do this and wait several seconds for the spectrograph to settle\n",
    "# before taking an image\n",
    "await latiss.setup_atspec(filter='RG610', grating='empty_1')"
   ]
  },
  {
   "cell_type": "code",
   "execution_count": null,
   "metadata": {},
   "outputs": [],
   "source": [
    "# Take 1 2 second image\n",
    "await latiss.take_object(30.0, 1, filter='RG610', grating='empty_1')"
   ]
  },
  {
   "cell_type": "code",
   "execution_count": null,
   "metadata": {},
   "outputs": [],
   "source": [
    "await atcs.rem.ataos.cmd_disableCorrection.set_start(atspectrograph=True)"
   ]
  },
  {
   "cell_type": "code",
   "execution_count": null,
   "metadata": {},
   "outputs": [],
   "source": [
    "# This loop will take a set of images on both sides of current best focus\n",
    "# starts at starting_z_offset and runs to -starting_z_offset\n",
    "# then puts the z_offset back where it was.\n",
    "\n",
    "starting_z_offset = -0.20\n",
    "z_offset_increment = 0.05\n",
    "nsteps = int((-2 * starting_z_offset) / z_offset_increment) + 1\n",
    "total_z_offset = 0.0\n",
    "await atcs.rem.ataos.cmd_offset.set_start(z=starting_z_offset)\n",
    "total_z_offset += starting_z_offset\n",
    "print(f\"Total z offset = {total_z_offset}\")\n",
    "await asyncio.sleep(2)\n",
    "for i in range(nsteps):\n",
    "    await latiss.take_object(5.0, 1, filter='RG610', grating='holo4_003')\n",
    "    await atcs.rem.ataos.cmd_offset.set_start(z=z_offset_increment)\n",
    "    total_z_offset += z_offset_increment\n",
    "    print(f\"Total z offset = {total_z_offset}\")\n",
    "    \n",
    "# Put offset back where it was\n",
    "await atcs.rem.ataos.cmd_offset.set_start(z=-total_z_offset)\n",
    "total_z_offset -= total_z_offset\n",
    "print(f\"Total z offset = {total_z_offset}\")\n",
    "    "
   ]
  },
  {
   "cell_type": "code",
   "execution_count": null,
   "metadata": {},
   "outputs": [],
   "source": [
    "# This will put in a hexapod offset\n",
    "#await atcs.rem.ataos.cmd_offset.set_start(z=-0.095)"
   ]
  },
  {
   "cell_type": "code",
   "execution_count": null,
   "metadata": {},
   "outputs": [],
   "source": [
    "# To reset all hexapod offsets\n",
    "tmp = await atcs.rem.ataos.cmd_resetOffset.set_start(axis='z')"
   ]
  },
  {
   "cell_type": "code",
   "execution_count": null,
   "metadata": {},
   "outputs": [],
   "source": [
    "# Move the star within the field\n",
    "# Offsets are in arcseconds.\n",
    "#await atcs.offset_xy(y=-100, x=0, relative=True)"
   ]
  },
  {
   "cell_type": "code",
   "execution_count": null,
   "metadata": {},
   "outputs": [],
   "source": [
    "await latiss.take_object(5.0, 1, filter='RG610', grating='ronchi170lpmm')"
   ]
  },
  {
   "cell_type": "code",
   "execution_count": null,
   "metadata": {},
   "outputs": [],
   "source": [
    "atcs.offset_azel?"
   ]
  },
  {
   "cell_type": "code",
   "execution_count": null,
   "metadata": {},
   "outputs": [],
   "source": [
    "# Run a figure-8 of offsets\n",
    "offsets = [[0,0], [0,100], [100,0], [0,-100], [-100,0], [0,-100], [-100,0], [0,100], [100,0]]\n",
    "await latiss.setup_atspec(filter='RG610', grating='empty_1')\n",
    "await asyncio.sleep(2)\n",
    "for [xx, yy] in offsets:\n",
    "    await atcs.offset_azel(az=xx, el=yy, relative=True)\n",
    "    await asyncio.sleep(2)\n",
    "    await latiss.take_object(2.0, 1, filter='RG610', grating='empty_1')\n",
    "    await asyncio.sleep(2)\n",
    "    "
   ]
  },
  {
   "cell_type": "code",
   "execution_count": null,
   "metadata": {},
   "outputs": [],
   "source": [
    "# To enable or disable built-in offsets for the filters and gratings\n",
    "#await atcs.rem.ataos.cmd_disableCorrection.set_start(atspectrograph=True)\n",
    "#await atcs.rem.ataos.cmd_enableCorrection.set_start(atspectrograph=True)"
   ]
  },
  {
   "cell_type": "code",
   "execution_count": null,
   "metadata": {},
   "outputs": [],
   "source": [
    "# To stop tracking\n",
    "# await atcs.stop_tracking()"
   ]
  },
  {
   "cell_type": "code",
   "execution_count": null,
   "metadata": {},
   "outputs": [],
   "source": [
    "# If you are done, put things in standby, or shut things down completely\n",
    "#await atcs.standby()\n",
    "await atcs.shutdown()"
   ]
  },
  {
   "cell_type": "code",
   "execution_count": 41,
   "metadata": {},
   "outputs": [
    {
     "name": "stdout",
     "output_type": "stream",
     "text": [
      "[atcamera]::[<State.ENABLED: 2>, <State.DISABLED: 1>, <State.STANDBY: 5>]\n",
      "[atspectrograph]::[<State.ENABLED: 2>, <State.DISABLED: 1>, <State.STANDBY: 5>]\n",
      "[atheaderservice]::[<State.ENABLED: 2>, <State.DISABLED: 1>, <State.STANDBY: 5>]\n",
      "[atarchiver]::[<State.ENABLED: 2>, <State.DISABLED: 1>, <State.STANDBY: 5>]\n",
      "All components in <State.STANDBY: 5>.\n"
     ]
    }
   ],
   "source": [
    "# Putting everything back in standby.\n",
    "await latiss.standby()"
   ]
  },
  {
   "cell_type": "code",
   "execution_count": 36,
   "metadata": {},
   "outputs": [
    {
     "data": {
      "text/plain": [
       "<ddsutil.ATDome_ackcmd_ec56b694 at 0x7f5500ac8790>"
      ]
     },
     "execution_count": 36,
     "metadata": {},
     "output_type": "execute_result"
    },
    {
     "name": "stdout",
     "output_type": "stream",
     "text": [
      "logMessage DDS read queue is filling: 50 of 100 elements\n",
      "logMessage DDS read queue is filling: 74 of 100 elements\n"
     ]
    }
   ],
   "source": [
    "await atcs.rem.atdome.cmd_moveShutterDropoutDoor.set_start(open=False)"
   ]
  },
  {
   "cell_type": "code",
   "execution_count": null,
   "metadata": {},
   "outputs": [],
   "source": []
  }
 ],
 "metadata": {
  "kernelspec": {
   "display_name": "LSST",
   "language": "python",
   "name": "lsst"
  },
  "language_info": {
   "codemirror_mode": {
    "name": "ipython",
    "version": 3
   },
   "file_extension": ".py",
   "mimetype": "text/x-python",
   "name": "python",
   "nbconvert_exporter": "python",
   "pygments_lexer": "ipython3",
   "version": "3.8.12"
  }
 },
 "nbformat": 4,
 "nbformat_minor": 4
}
