{
 "cells": [
  {
   "cell_type": "code",
   "execution_count": null,
   "id": "4958f7af-152f-4667-83bd-34b27e06aaca",
   "metadata": {},
   "outputs": [],
   "source": [
    "from labjack import ljm  # Needed pip install labjack-ljm"
   ]
  },
  {
   "cell_type": "code",
   "execution_count": null,
   "id": "72764196-5683-4640-bfc6-0b0ec5a490c1",
   "metadata": {},
   "outputs": [],
   "source": []
  }
 ],
 "metadata": {
  "kernelspec": {
   "display_name": "LSST",
   "language": "python",
   "name": "lsst"
  },
  "language_info": {
   "codemirror_mode": {
    "name": "ipython",
    "version": 3
   },
   "file_extension": ".py",
   "mimetype": "text/x-python",
   "name": "python",
   "nbconvert_exporter": "python",
   "pygments_lexer": "ipython3",
   "version": "3.8.12"
  }
 },
 "nbformat": 4,
 "nbformat_minor": 5
}
