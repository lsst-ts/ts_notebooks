{
 "cells": [
  {
   "cell_type": "markdown",
   "metadata": {},
   "source": [
    "## AuxTel test LTS-337-016 (Tracking)\n",
    "\n",
    "In this notebook, we check the tracking accuracy of the telescope by taking a series of 20 images over a 10 minute period.  Desired specs:\n",
    "\n",
    "| Description | Value       | Unit          |   Name     |\n",
    "| :---        |    :----:   |       :----:  |       ---: |\n",
    "|The Auxiliary Telescope shall have a open-loop tracking accuracy over a 10 minute interval within the tracking range of:     | 2.0       | Arcsec RMS   |Aux_Tel_Tel_Track_Error|\n",
    "The Auxiliary Telescope shall have the ability to track for a minimum time of: | 10| Minutes |Aux_Tel_Max_track_time|\n",
    "|The Auxiliary Telescope shall be able to track in azimuth over the angular range of:|+/- 270       | Degrees     |Aux_Tel_Az_Track_Range|\n",
    "|Tracking Range in elevation shall be at least:   | 20-86.5|Degrees|Aux_Tel_El_Track_Range_High|"
   ]
  },
  {
   "cell_type": "code",
   "execution_count": 1,
   "metadata": {},
   "outputs": [],
   "source": [
    "import sys, time, os, asyncio\n",
    "from datetime import datetime\n",
    "import numpy as np\n",
    "import matplotlib.pyplot as plt\n",
    "from astropy.time import Time, TimeDelta\n",
    "from astropy.coordinates import SkyCoord, AltAz, ICRS, EarthLocation, Angle, FK5\n",
    "import astropy.units as u\n",
    "from lsst.pipe.tasks.quickFrameMeasurement import QuickFrameMeasurementTask\n",
    "import lsst.daf.persistence as dafPersist"
   ]
  },
  {
   "cell_type": "code",
   "execution_count": 2,
   "metadata": {},
   "outputs": [],
   "source": [
    "# Set Cerro Pachon location and observation time\n",
    "location = EarthLocation.from_geodetic(lon=-70.749417*u.deg,\n",
    "                                       lat=-30.244639*u.deg,\n",
    "                                       height=2663.0*u.m)"
   ]
  },
  {
   "cell_type": "code",
   "execution_count": 3,
   "metadata": {},
   "outputs": [
    {
     "name": "stderr",
     "output_type": "stream",
     "text": [
      "<ipython-input-3-72007b541921>:2: FutureWarning: Gen2 Butler has been deprecated (Butler). It will be removed sometime after v23.0 but no earlier than the end of 2021.\n",
      "  butler = dafPersist.Butler(REPO_DIR)\n",
      "<ipython-input-3-72007b541921>:2: FutureWarning: Gen2 Butler has been deprecated (LatissMapper). It will be removed sometime after v23.0 but no earlier than the end of 2021.\n",
      "  butler = dafPersist.Butler(REPO_DIR)\n"
     ]
    }
   ],
   "source": [
    "REPO_DIR = '/project/shared/auxTel/rerun/quickLook'\n",
    "butler = dafPersist.Butler(REPO_DIR)"
   ]
  },
  {
   "cell_type": "code",
   "execution_count": 4,
   "metadata": {
    "collapsed": true,
    "jupyter": {
     "outputs_hidden": true
    }
   },
   "outputs": [
    {
     "name": "stderr",
     "output_type": "stream",
     "text": [
      "Ignoring translator header fixup of LATISS AT_O_20210609_000268: 'MJD-OBS not found'\n",
      "Ignoring translator header fixup of LATISS AT_O_20210609_000269: 'MJD-OBS not found'\n",
      "Ignoring translator header fixup of LATISS AT_O_20210609_000270: 'MJD-OBS not found'\n",
      "Ignoring translator header fixup of LATISS AT_O_20210609_000271: 'MJD-OBS not found'\n",
      "Ignoring translator header fixup of LATISS AT_O_20210609_000272: 'MJD-OBS not found'\n",
      "Ignoring translator header fixup of LATISS AT_O_20210609_000273: 'MJD-OBS not found'\n",
      "Ignoring translator header fixup of LATISS AT_O_20210609_000274: 'MJD-OBS not found'\n",
      "Ignoring translator header fixup of LATISS AT_O_20210609_000275: 'MJD-OBS not found'\n",
      "Ignoring translator header fixup of LATISS AT_O_20210609_000276: 'MJD-OBS not found'\n",
      "Ignoring translator header fixup of LATISS AT_O_20210609_000277: 'MJD-OBS not found'\n",
      "Ignoring translator header fixup of LATISS AT_O_20210609_000278: 'MJD-OBS not found'\n",
      "Ignoring translator header fixup of LATISS AT_O_20210609_000279: 'MJD-OBS not found'\n",
      "Ignoring translator header fixup of LATISS AT_O_20210609_000280: 'MJD-OBS not found'\n",
      "Ignoring translator header fixup of LATISS AT_O_20210609_000281: 'MJD-OBS not found'\n",
      "Ignoring translator header fixup of LATISS AT_O_20210609_000282: 'MJD-OBS not found'\n",
      "Ignoring translator header fixup of LATISS AT_O_20210609_000283: 'MJD-OBS not found'\n",
      "Ignoring translator header fixup of LATISS AT_O_20210609_000284: 'MJD-OBS not found'\n",
      "Ignoring translator header fixup of LATISS AT_O_20210609_000285: 'MJD-OBS not found'\n",
      "Ignoring translator header fixup of LATISS AT_O_20210609_000286: 'MJD-OBS not found'\n",
      "Ignoring translator header fixup of LATISS AT_O_20210609_000287: 'MJD-OBS not found'\n",
      "Ignoring translator header fixup of LATISS AT_O_20210609_000289: 'MJD-OBS not found'\n",
      "Ignoring translator header fixup of LATISS AT_O_20210609_000290: 'MJD-OBS not found'\n",
      "Ignoring translator header fixup of LATISS AT_O_20210609_000291: 'MJD-OBS not found'\n",
      "Ignoring translator header fixup of LATISS AT_O_20210609_000292: 'MJD-OBS not found'\n",
      "Ignoring translator header fixup of LATISS AT_O_20210609_000293: 'MJD-OBS not found'\n",
      "Ignoring translator header fixup of LATISS AT_O_20210609_000294: 'MJD-OBS not found'\n",
      "Ignoring translator header fixup of LATISS AT_O_20210609_000295: 'MJD-OBS not found'\n",
      "Ignoring translator header fixup of LATISS AT_O_20210609_000296: 'MJD-OBS not found'\n",
      "Ignoring translator header fixup of LATISS AT_O_20210609_000297: 'MJD-OBS not found'\n",
      "Ignoring translator header fixup of LATISS AT_O_20210609_000298: 'MJD-OBS not found'\n",
      "Ignoring translator header fixup of LATISS AT_O_20210609_000299: 'MJD-OBS not found'\n",
      "Ignoring translator header fixup of LATISS AT_O_20210609_000300: 'MJD-OBS not found'\n",
      "Ignoring translator header fixup of LATISS AT_O_20210609_000301: 'MJD-OBS not found'\n",
      "Ignoring translator header fixup of LATISS AT_O_20210609_000302: 'MJD-OBS not found'\n",
      "Ignoring translator header fixup of LATISS AT_O_20210609_000303: 'MJD-OBS not found'\n",
      "Ignoring translator header fixup of LATISS AT_O_20210609_000304: 'MJD-OBS not found'\n",
      "Ignoring translator header fixup of LATISS AT_O_20210609_000305: 'MJD-OBS not found'\n",
      "Ignoring translator header fixup of LATISS AT_O_20210609_000306: 'MJD-OBS not found'\n",
      "Ignoring translator header fixup of LATISS AT_O_20210609_000307: 'MJD-OBS not found'\n",
      "Ignoring translator header fixup of LATISS AT_O_20210609_000308: 'MJD-OBS not found'\n",
      "Ignoring translator header fixup of LATISS AT_O_20210609_000310: 'MJD-OBS not found'\n",
      "Ignoring translator header fixup of LATISS AT_O_20210609_000311: 'MJD-OBS not found'\n",
      "Ignoring translator header fixup of LATISS AT_O_20210609_000312: 'MJD-OBS not found'\n",
      "Ignoring translator header fixup of LATISS AT_O_20210609_000313: 'MJD-OBS not found'\n",
      "Ignoring translator header fixup of LATISS AT_O_20210609_000314: 'MJD-OBS not found'\n",
      "Ignoring translator header fixup of LATISS AT_O_20210609_000315: 'MJD-OBS not found'\n",
      "Ignoring translator header fixup of LATISS AT_O_20210609_000316: 'MJD-OBS not found'\n",
      "Ignoring translator header fixup of LATISS AT_O_20210609_000317: 'MJD-OBS not found'\n",
      "Ignoring translator header fixup of LATISS AT_O_20210609_000318: 'MJD-OBS not found'\n",
      "Ignoring translator header fixup of LATISS AT_O_20210609_000319: 'MJD-OBS not found'\n",
      "Ignoring translator header fixup of LATISS AT_O_20210609_000320: 'MJD-OBS not found'\n",
      "Ignoring translator header fixup of LATISS AT_O_20210609_000321: 'MJD-OBS not found'\n",
      "Ignoring translator header fixup of LATISS AT_O_20210609_000322: 'MJD-OBS not found'\n",
      "Ignoring translator header fixup of LATISS AT_O_20210609_000323: 'MJD-OBS not found'\n",
      "Ignoring translator header fixup of LATISS AT_O_20210609_000324: 'MJD-OBS not found'\n",
      "Ignoring translator header fixup of LATISS AT_O_20210609_000325: 'MJD-OBS not found'\n",
      "Ignoring translator header fixup of LATISS AT_O_20210609_000326: 'MJD-OBS not found'\n",
      "Ignoring translator header fixup of LATISS AT_O_20210609_000327: 'MJD-OBS not found'\n",
      "Ignoring translator header fixup of LATISS AT_O_20210609_000328: 'MJD-OBS not found'\n",
      "Ignoring translator header fixup of LATISS AT_O_20210609_000329: 'MJD-OBS not found'\n",
      "Ignoring translator header fixup of LATISS AT_O_20210609_000331: 'MJD-OBS not found'\n",
      "Ignoring translator header fixup of LATISS AT_O_20210609_000332: 'MJD-OBS not found'\n",
      "Ignoring translator header fixup of LATISS AT_O_20210609_000333: 'MJD-OBS not found'\n",
      "Ignoring translator header fixup of LATISS AT_O_20210609_000334: 'MJD-OBS not found'\n",
      "Ignoring translator header fixup of LATISS AT_O_20210609_000335: 'MJD-OBS not found'\n",
      "Ignoring translator header fixup of LATISS AT_O_20210609_000336: 'MJD-OBS not found'\n",
      "Ignoring translator header fixup of LATISS AT_O_20210609_000337: 'MJD-OBS not found'\n",
      "Ignoring translator header fixup of LATISS AT_O_20210609_000338: 'MJD-OBS not found'\n",
      "Ignoring translator header fixup of LATISS AT_O_20210609_000339: 'MJD-OBS not found'\n",
      "Ignoring translator header fixup of LATISS AT_O_20210609_000340: 'MJD-OBS not found'\n",
      "Ignoring translator header fixup of LATISS AT_O_20210609_000341: 'MJD-OBS not found'\n",
      "Ignoring translator header fixup of LATISS AT_O_20210609_000342: 'MJD-OBS not found'\n",
      "Ignoring translator header fixup of LATISS AT_O_20210609_000343: 'MJD-OBS not found'\n",
      "Ignoring translator header fixup of LATISS AT_O_20210609_000344: 'MJD-OBS not found'\n",
      "Ignoring translator header fixup of LATISS AT_O_20210609_000345: 'MJD-OBS not found'\n",
      "Ignoring translator header fixup of LATISS AT_O_20210609_000346: 'MJD-OBS not found'\n",
      "Ignoring translator header fixup of LATISS AT_O_20210609_000347: 'MJD-OBS not found'\n",
      "Ignoring translator header fixup of LATISS AT_O_20210609_000348: 'MJD-OBS not found'\n",
      "Ignoring translator header fixup of LATISS AT_O_20210609_000349: 'MJD-OBS not found'\n",
      "Ignoring translator header fixup of LATISS AT_O_20210609_000350: 'MJD-OBS not found'\n",
      "Ignoring translator header fixup of LATISS AT_O_20210609_000352: 'MJD-OBS not found'\n",
      "Ignoring translator header fixup of LATISS AT_O_20210609_000353: 'MJD-OBS not found'\n",
      "Ignoring translator header fixup of LATISS AT_O_20210609_000354: 'MJD-OBS not found'\n",
      "Ignoring translator header fixup of LATISS AT_O_20210609_000355: 'MJD-OBS not found'\n",
      "Ignoring translator header fixup of LATISS AT_O_20210609_000356: 'MJD-OBS not found'\n",
      "Ignoring translator header fixup of LATISS AT_O_20210609_000357: 'MJD-OBS not found'\n",
      "Ignoring translator header fixup of LATISS AT_O_20210609_000358: 'MJD-OBS not found'\n",
      "Ignoring translator header fixup of LATISS AT_O_20210609_000359: 'MJD-OBS not found'\n",
      "Ignoring translator header fixup of LATISS AT_O_20210609_000360: 'MJD-OBS not found'\n",
      "Ignoring translator header fixup of LATISS AT_O_20210609_000361: 'MJD-OBS not found'\n",
      "Ignoring translator header fixup of LATISS AT_O_20210609_000362: 'MJD-OBS not found'\n",
      "Ignoring translator header fixup of LATISS AT_O_20210609_000363: 'MJD-OBS not found'\n",
      "Ignoring translator header fixup of LATISS AT_O_20210609_000364: 'MJD-OBS not found'\n",
      "Ignoring translator header fixup of LATISS AT_O_20210609_000365: 'MJD-OBS not found'\n",
      "Ignoring translator header fixup of LATISS AT_O_20210609_000366: 'MJD-OBS not found'\n",
      "Ignoring translator header fixup of LATISS AT_O_20210609_000367: 'MJD-OBS not found'\n",
      "Ignoring translator header fixup of LATISS AT_O_20210609_000368: 'MJD-OBS not found'\n",
      "Ignoring translator header fixup of LATISS AT_O_20210609_000369: 'MJD-OBS not found'\n",
      "Ignoring translator header fixup of LATISS AT_O_20210609_000370: 'MJD-OBS not found'\n",
      "Ignoring translator header fixup of LATISS AT_O_20210609_000371: 'MJD-OBS not found'\n"
     ]
    }
   ],
   "source": [
    "# Get the centroid data\n",
    "firstExpIds = [2021060900268, 2021060900289, 2021060900310, 2021060900331, 2021060900352]\n",
    "numExp = 20\n",
    "positionData = {}\n",
    "qm_config = QuickFrameMeasurementTask.ConfigClass()\n",
    "qm = QuickFrameMeasurementTask(config=qm_config)\n",
    "\n",
    "for firstExpId in firstExpIds:\n",
    "    data = {}\n",
    "    centroids = []\n",
    "    for i in range(numExp):\n",
    "        expId = firstExpId + i\n",
    "        exp = butler.get('quickLookExp', detector=0, expId=expId)\n",
    "        result = qm.run(exp)\n",
    "        centroids.append(result.brightestObjCentroid)\n",
    "        if i == 0:\n",
    "            mData = exp.getMetadata()\n",
    "            data['Elevation'] = mData['ELSTART']\n",
    "            data['Azimuth'] = mData['AZSTART']\n",
    "            data['Dec'] = mData['DECSTART']\n",
    "            data['RA'] = mData['RASTART']\n",
    "            data['ROTPA'] = mData['ROTPA']\n",
    "    data['Centroids'] = centroids\n",
    "    positionData[firstExpId] = data"
   ]
  },
  {
   "cell_type": "code",
   "execution_count": 5,
   "metadata": {},
   "outputs": [
    {
     "name": "stdout",
     "output_type": "stream",
     "text": [
      "FirstExpId \t Elevation \t RMS Az \t RMS El \t RMS_tot\n",
      "2021060900268 \t 73.9 deg \t 0.173 \t \t 0.927 \t \t 0.943\n",
      "2021060900289 \t 25.9 deg \t 0.852 \t \t 0.854 \t \t 1.206\n",
      "2021060900310 \t 27.2 deg \t 1.812 \t \t 0.752 \t \t 1.962\n",
      "2021060900331 \t 28.8 deg \t 2.232 \t \t 0.589 \t \t 2.308\n",
      "2021060900352 \t 36.7 deg \t 3.271 \t \t 0.521 \t \t 3.312\n"
     ]
    }
   ],
   "source": [
    "plateScale = exp.getWcs().getPixelScale().asArcseconds() # arcseconds/pixel\n",
    "print(f\"FirstExpId \\t Elevation \\t RMS Az \\t RMS El \\t RMS_tot\")\n",
    "for firstExpId in firstExpIds:\n",
    "    el = positionData[firstExpId]['Elevation']\n",
    "    centroids = np.array(positionData[firstExpId]['Centroids'])\n",
    "    meanPosition = centroids.mean(axis=0)\n",
    "    deviation = (centroids - meanPosition) * plateScale\n",
    "    \n",
    "    el = Angle(positionData[firstExpId]['Elevation'] * u.deg)\n",
    "    az = Angle(positionData[firstExpId]['Azimuth'] * u.deg)\n",
    "    dec = Angle(positionData[firstExpId]['Dec'] * u.deg)\n",
    "    rotpa = Angle(positionData[firstExpId]['ROTPA'] * u.deg) \n",
    "    sinTheta =  np.cos(location.lat) / np.cos(dec) * np.sin(az)\n",
    "    theta = Angle(np.arcsin(sinTheta))\n",
    "    rotAzEl = rotpa - theta - Angle(90.0 * u.deg) \n",
    "    #print(theta.deg, rotpa.deg, rotAzEl.deg)\n",
    "    rotMatrix = np.array([[np.cos(rotAzEl), -np.sin(rotAzEl)], [np.sin(rotAzEl), np.cos(rotAzEl)]])\n",
    "    for i in range(len(deviation)):\n",
    "        deviation[i,:] = np.dot(rotMatrix,deviation[i,:])\n",
    "   \n",
    "    \n",
    "    \n",
    "    rms = np.sqrt((deviation * deviation).mean(axis=0))\n",
    "    rms_tot = np.sqrt((rms * rms).sum())\n",
    "    #print(rms, rms_tot)\n",
    "    \n",
    "    print(f\"{firstExpId} \\t {el:.1f} \\t {rms[0]:.3f} \\t \\t {rms[1]:.3f} \\t \\t {rms_tot:.3f}\")"
   ]
  },
  {
   "cell_type": "code",
   "execution_count": 6,
   "metadata": {},
   "outputs": [
    {
     "data": {
      "image/png": "[encoded data removed]",
      "text/plain": [
       "<Figure size 864x576 with 5 Axes>"
      ]
     },
     "metadata": {
      "needs_background": "light"
     },
     "output_type": "display_data"
    }
   ],
   "source": [
    "# What do the tracking errors look like?\n",
    "# The X-error gets steadily worse.\n",
    "plt.figure(figsize=(12,8))\n",
    "plt.subplots_adjust(hspace=0.1,wspace=0.3)\n",
    "plotcounter = 1\n",
    "for firstExpId in firstExpIds:\n",
    "    centroids = np.array(positionData[firstExpId]['Centroids'])\n",
    "    meanPosition = centroids.mean(axis=0)\n",
    "    deviation = (centroids - meanPosition) * plateScale\n",
    "    plt.subplot(2,3,plotcounter, aspect=1.0)\n",
    "    plt.plot(deviation[:,0], deviation[:,1], label = str(firstExpId))\n",
    "    plt.xlim(-6,6)\n",
    "    plt.xlabel(\"Azimuth Deviation (arcseconds)\")\n",
    "    plt.ylim(-6,6)\n",
    "    plt.ylabel(\"Elevation Deviation (arcseconds)\")    \n",
    "    plt.legend()\n",
    "    plotcounter += 1\n",
    "plt.savefig(\"/home/craiglagegit/DATA/Tracking_Plot_AzEl_15Jun21.png\")"
   ]
  },
  {
   "cell_type": "code",
   "execution_count": null,
   "metadata": {},
   "outputs": [],
   "source": [
    "plt.figure(figsize=(12,8))\n",
    "plt.subplots_adjust(hspace=0.1,wspace=0.3)\n",
    "plotcounter = 1\n",
    "for firstExpId in firstExpIds:\n",
    "    ras = []\n",
    "    decs = []\n",
    "    for j in range(numExp):\n",
    "        ras.append\n",
    "    centroids = np.array(positionData[firstExpId]['Centroids'])\n",
    "    meanPosition = centroids.mean(axis=0)\n",
    "    deviation = (centroids - meanPosition) * plateScale\n",
    "    plt.subplot(2,3,plotcounter, aspect=1.0)\n",
    "    plt.plot(deviation[:,0], deviation[:,1], label = str(firstExpId))\n",
    "    #plt.xlim(-6,6)\n",
    "    #plt.xlabel(\"Azimuth Deviation (arcseconds)\")\n",
    "    #plt.ylim(-6,6)\n",
    "    #plt.ylabel(\"Elevation Deviation (arcseconds)\")    \n",
    "    plt.legend()\n",
    "    plotcounter += 1\n",
    "plt.savefig(\"/home/craiglagegit/DATA/Tracking_Plot_AzEl_15Jun21.png\")"
   ]
  }
 ],
 "metadata": {
  "kernelspec": {
   "display_name": "LSST",
   "language": "python",
   "name": "lsst"
  },
  "language_info": {
   "codemirror_mode": {
    "name": "ipython",
    "version": 3
   },
   "file_extension": ".py",
   "mimetype": "text/x-python",
   "name": "python",
   "nbconvert_exporter": "python",
   "pygments_lexer": "ipython3",
   "version": "3.8.8"
  }
 },
 "nbformat": 4,
 "nbformat_minor": 4
}
