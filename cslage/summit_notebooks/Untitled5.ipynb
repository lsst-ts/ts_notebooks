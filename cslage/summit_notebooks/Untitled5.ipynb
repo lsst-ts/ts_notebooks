{
 "cells": [
  {
   "cell_type": "code",
   "execution_count": 1,
   "id": "75d5e471-266d-4f29-a075-cb6584d43aad",
   "metadata": {},
   "outputs": [
    {
     "name": "stdout",
     "output_type": "stream",
     "text": [
      "1\n"
     ]
    }
   ],
   "source": [
    "print(1)"
   ]
  },
  {
   "cell_type": "code",
   "execution_count": 2,
   "id": "81ab7721-b7bd-421f-a745-3001c3a72d42",
   "metadata": {},
   "outputs": [],
   "source": [
    "import sys"
   ]
  },
  {
   "cell_type": "code",
   "execution_count": 3,
   "id": "59017c23-e003-4b2c-b62a-9f5cc90ecab7",
   "metadata": {},
   "outputs": [],
   "source": [
    "sys.path.append('/home/craiglagegit/.local/lib')"
   ]
  },
  {
   "cell_type": "code",
   "execution_count": null,
   "id": "eaa9fb60-1b7a-40db-a46c-25782966bc90",
   "metadata": {},
   "outputs": [],
   "source": [
    "sys.path.append('/scratch/cslage/labJack/lib')"
   ]
  },
  {
   "cell_type": "code",
   "execution_count": 4,
   "id": "8ffd34c8-e518-40cc-9dda-afdc801eed59",
   "metadata": {},
   "outputs": [
    {
     "name": "stdout",
     "output_type": "stream",
     "text": [
      "<class 'labjack.ljm.ljm.LJMError'>: Cannot load the LJM library libLabJackM.so. libLabJackM.so: cannot open shared object file: No such file or directory\n"
     ]
    }
   ],
   "source": [
    "from labjack import ljm"
   ]
  },
  {
   "cell_type": "code",
   "execution_count": null,
   "id": "064a0b74-36f0-4d81-9ac5-7964c9180df3",
   "metadata": {},
   "outputs": [],
   "source": [
    "sys.path"
   ]
  },
  {
   "cell_type": "code",
   "execution_count": null,
   "id": "6700e63a-5199-4313-9cff-a918fb359070",
   "metadata": {},
   "outputs": [],
   "source": []
  }
 ],
 "metadata": {
  "kernelspec": {
   "display_name": "LSST",
   "language": "python",
   "name": "lsst"
  },
  "language_info": {
   "codemirror_mode": {
    "name": "ipython",
    "version": 3
   },
   "file_extension": ".py",
   "mimetype": "text/x-python",
   "name": "python",
   "nbconvert_exporter": "python",
   "pygments_lexer": "ipython3",
   "version": "3.8.12"
  }
 },
 "nbformat": 4,
 "nbformat_minor": 5
}
