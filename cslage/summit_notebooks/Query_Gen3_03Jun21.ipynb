{
 "cells": [
  {
   "cell_type": "markdown",
   "metadata": {},
   "source": [
    "## Query header\n",
    "\n",
    "In this notebook, we show several ways to query the fits headers with Gen3\\\n",
    "Craig Lage - 03-Jun-21"
   ]
  },
  {
   "cell_type": "code",
   "execution_count": 6,
   "metadata": {},
   "outputs": [],
   "source": [
    "import numpy as np\n",
    "import matplotlib.pyplot as plt\n",
    "import astropy.io.fits as pf\n",
    "from lsst.daf.butler import Butler"
   ]
  },
  {
   "cell_type": "code",
   "execution_count": 7,
   "metadata": {},
   "outputs": [],
   "source": [
    "butler = Butler('/repo/LATISS', collections=\"LATISS/raw/all\")"
   ]
  },
  {
   "cell_type": "code",
   "execution_count": 3,
   "metadata": {},
   "outputs": [
    {
     "name": "stdout",
     "output_type": "stream",
     "text": [
      "2022031800001 bias 0.0 SDSSi~empty Park position\n",
      "2022031800002 engtest 0.0 SDSSi~empty Park position\n"
     ]
    }
   ],
   "source": [
    "dayObs = 20220318\n",
    "exposureList = []\n",
    "for record in butler.registry.queryDimensionRecords(\"exposure\", where=\"exposure.day_obs=%d\"%dayObs):\n",
    "    exposureList.append([record.id, record])\n",
    "exposureList.sort(key=lambda x: x[0])\n",
    "for [id,record] in exposureList:\n",
    "    print(record.id, record.observation_type, record.exposure_time, record.physical_filter, record.target_name)\n"
   ]
  },
  {
   "cell_type": "code",
   "execution_count": null,
   "metadata": {},
   "outputs": [],
   "source": [
    "exposureList[0][1]."
   ]
  },
  {
   "cell_type": "code",
   "execution_count": null,
   "metadata": {},
   "outputs": [],
   "source": [
    "exposureList[0][1].fields"
   ]
  },
  {
   "cell_type": "code",
   "execution_count": null,
   "metadata": {},
   "outputs": [],
   "source": [
    "from lsst.daf.butler import Butler\n",
    "\n",
    "\n",
    "nTot=0\n",
    "for [expId,record] in exposureList:\n",
    "    nExp = 0\n",
    "    for detector in range(9):\n",
    "        try:\n",
    "            mData = butler.get('raw.metadata', detector=detector, exposure=expId)\n",
    "        except:\n",
    "            nTot += 1\n",
    "            nExp += 1\n",
    "            #print(f\"Detector {detector} from expId {expId} missing\")\n",
    "    if nExp != 0:\n",
    "        print(f\" expId {expId} is missing {nExp} files.\")\n",
    "print(f\" Total of {n} exposures missing\")"
   ]
  },
  {
   "cell_type": "code",
   "execution_count": 5,
   "metadata": {},
   "outputs": [
    {
     "name": "stdout",
     "output_type": "stream",
     "text": [
      "SIMPLE True\n",
      "EXTEND True\n",
      "COMMENT ---- Geometry from Camera ----\n",
      "ORIGIN LSST DM Header Service\n",
      "TIMESYS TAI\n",
      "DATE 2022-03-18T13:45:23.829\n",
      "DATE-OBS 2022-03-18T13:45:53.889\n",
      "DATE-BEG 2022-03-18T13:45:53.889\n",
      "DATE-END 2022-03-18T13:45:58.207\n",
      "MJD 59656.5731924616\n",
      "MJD-OBS 59656.5735403828\n",
      "MJD-BEG 59656.5735403828\n",
      "MJD-END 59656.5735903639\n",
      "OBSID AT_O_20220318_000002\n",
      "GROUPID 2022-03-18T13:45:16.721\n",
      "IMGTYPE ENGTEST\n",
      "BUNIT adu\n",
      "FACILITY Vera C. Rubin Observatory\n",
      "TELESCOP LSST AuxTelescope\n",
      "INSTRUME LATISS\n",
      "OBSERVER LSST\n",
      "OBS-LONG -70.749417\n",
      "OBS-LAT -30.244639\n",
      "OBS-ELEV 2663.0\n",
      "OBSGEO-X 1818938.94\n",
      "OBSGEO-Y -5208470.95\n",
      "OBSGEO-Z -3195172.08\n",
      "RA 0.0\n",
      "DEC 0.0\n",
      "RASTART 165.782670028429\n",
      "DECSTART -20.054090899071\n",
      "RAEND 165.782670028429\n",
      "DECEND -20.054090899071\n",
      "ROTPA 100.125507858035\n",
      "ROTCOORD sky\n",
      "HASTART 0.0\n",
      "ELSTART 80.0000018461433\n",
      "AZSTART -1.83994707185775e-05\n",
      "AMSTART 0.0\n",
      "HAEND 0.0\n",
      "ELEND 80.0000018461433\n",
      "AZEND -1.83994707185775e-05\n",
      "AMEND 0.0\n",
      "INSTPORT 2\n",
      "ATM3PORT None\n",
      "TRACKSYS LOCAL\n",
      "RADESYS ICRS\n",
      "FOCUSZ 0.0437927655875683\n",
      "OBJECT Park position\n",
      "DOMEAZ 285.24\n",
      "SHUTLOWR 0.0\n",
      "SHUTUPPR 0.0\n",
      "WCSAXES 2\n",
      "CTYPE1 RA---TAN\n",
      "CTYPE2 DEC--TAN\n",
      "CUNIT1 deg\n",
      "CUNIT2 deg\n",
      "CRVAL1 0.0\n",
      "CRVAL2 0.0\n",
      "CRPIX1 2000.0\n",
      "CRPIX2 2036.0\n",
      "CD1_1 0.0964868322812682\n",
      "CD1_2 0.0414160741298161\n",
      "CD2_1 -0.0414160741298161\n",
      "CD2_2 0.0964868322812682\n",
      "EQUINOX 2000.0\n",
      "CAMCODE AT\n",
      "CONTRLLR O\n",
      "DAYOBS 20220318\n",
      "SEQNUM 2\n",
      "TESTTYPE None\n",
      "EMUIMAGE \n",
      "PROGRAM None\n",
      "REASON None\n",
      "CURINDEX 1\n",
      "MAXINDEX 1\n",
      "TSTAND None\n",
      "IMAGETAG f7095f111bd26561\n",
      "OBSANNOT \n",
      "TEMP_SET -94.1500015258789\n",
      "FILTBAND Empty\n",
      "FILTER SDSSi\n",
      "FILTSLOT 2\n",
      "GRATING empty_1\n",
      "GRATBAND Empty\n",
      "GRATSLOT 0\n",
      "LINSPOS 67.9980010986328\n",
      "EXPTIME 0.0\n",
      "SHUTTIME None\n",
      "DARKTIME 4.4073691368103\n",
      "AIRTEMP 11.1\n",
      "PRESSURE 744.25\n",
      "HUMIDITY 37.0\n",
      "WINDSPD 7.1\n",
      "WINDDIR 311.0\n",
      "SEEING 1.42182421684265\n",
      "FILENAME AT_O_20220318_000002.fits\n",
      "HEADVER 2.9.5\n",
      "CHECKSUM None\n",
      "DATASUM None\n",
      "SIMULATE ATMCS None\n",
      "SIMULATE ATHEXAPOD 0\n",
      "SIMULATE ATPNEUMATICS None\n",
      "SIMULATE ATDOME 0\n",
      "SIMULATE ATSPECTROGRAPH 0\n",
      "CCD_MANU ITL\n",
      "CCD_TYPE 2\n",
      "CCD_SERN 20862\n",
      "CCDTEMP None\n",
      "LSST_NUM ITL-3800C-068\n",
      "SEQCKSUM 2552520002\n",
      "SEQNAME FP_ITL_2s_ir2_v25.seq\n",
      "REBNAME Unknown\n",
      "CONTNUM 412227310\n",
      "CCDSLOT S00\n",
      "RAFTBAY R00\n",
      "OVERH 64\n",
      "OVERV 48\n",
      "PREH 0\n",
      "XTENSION IMAGE\n",
      "BITPIX 32\n",
      "NAXIS 2\n",
      "NAXIS1 576\n",
      "NAXIS2 2048\n",
      "PCOUNT 0\n",
      "GCOUNT 1\n",
      "INHERIT True\n",
      "EXTNAME Segment10\n",
      "DATASEC [1:509,1:2000]\n",
      "DETSEC [509:1,1:2000]\n",
      "DETSIZE [1:4072,1:4000]\n",
      "DTV1 510\n",
      "DTV2 0\n",
      "DTM1_1 -1.0\n",
      "DTM2_2 1.0\n",
      "DTM1_2 0\n",
      "DTM2_1 0\n",
      "HIERARCH ASTRO METADATA FIX MODIFIED True\n",
      "HIERARCH ASTRO METADATA FIX DATE 2022-03-18T13:47:15.917063\n",
      "HIERARCH ASTRO METADATA FIX VERSION g2fccd959b1+9cbc7d2c60\n"
     ]
    }
   ],
   "source": [
    "expId = 2022031800002\n",
    "mData = butler.get('raw.metadata', detector=0, exposure=expId)\n",
    "for key in mData.keys():\n",
    "    print(key, mData[key])"
   ]
  },
  {
   "cell_type": "code",
   "execution_count": null,
   "metadata": {},
   "outputs": [],
   "source": []
  }
 ],
 "metadata": {
  "kernelspec": {
   "display_name": "LSST",
   "language": "python",
   "name": "lsst"
  },
  "language_info": {
   "codemirror_mode": {
    "name": "ipython",
    "version": 3
   },
   "file_extension": ".py",
   "mimetype": "text/x-python",
   "name": "python",
   "nbconvert_exporter": "python",
   "pygments_lexer": "ipython3",
   "version": "3.8.12"
  }
 },
 "nbformat": 4,
 "nbformat_minor": 4
}
