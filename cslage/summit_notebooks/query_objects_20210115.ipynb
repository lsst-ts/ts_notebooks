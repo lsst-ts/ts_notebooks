{
 "cells": [
  {
   "cell_type": "code",
   "execution_count": 1,
   "metadata": {},
   "outputs": [],
   "source": [
    "import sys\n",
    "import asyncio\n",
    "import time\n",
    "import os\n",
    "\n",
    "import numpy as np\n",
    "\n",
    "from lsst.ts import salobj\n",
    "\n",
    "from lsst.ts.observatory.control.auxtel.atcs import ATCS\n",
    "from lsst.ts.observatory.control.auxtel.latiss import LATISS"
   ]
  },
  {
   "cell_type": "code",
   "execution_count": 2,
   "metadata": {},
   "outputs": [
    {
     "name": "stdout",
     "output_type": "stream",
     "text": [
      "file:///home/craiglagegit/WORK/ts_ddsconfig/config/ospl-sp.xml\n",
      "summit\n"
     ]
    }
   ],
   "source": [
    "print(os.environ[\"OSPL_URI\"])\n",
    "print(os.environ[\"LSST_DDS_PARTITION_PREFIX\"])"
   ]
  },
  {
   "cell_type": "code",
   "execution_count": 3,
   "metadata": {},
   "outputs": [],
   "source": [
    "#just instantiating the classes so I can query them\n",
    "domain = salobj.Domain()\n",
    "await asyncio.sleep(10) # This can be removed in the future...\n",
    "atcs = ATCS(domain)\n",
    "latiss = LATISS(domain)"
   ]
  },
  {
   "cell_type": "code",
   "execution_count": 4,
   "metadata": {},
   "outputs": [
    {
     "name": "stdout",
     "output_type": "stream",
     "text": [
      "['ATMCS', 'ATPtg', 'ATAOS', 'ATPneumatics', 'ATHexapod', 'ATDome', 'ATDomeTrajectory']\n",
      "['ATCamera', 'ATSpectrograph', 'ATHeaderService', 'ATArchiver']\n"
     ]
    }
   ],
   "source": [
    "print(atcs.components)\n",
    "print(latiss.components)"
   ]
  },
  {
   "cell_type": "code",
   "execution_count": 5,
   "metadata": {},
   "outputs": [
    {
     "name": "stdout",
     "output_type": "stream",
     "text": [
      "<class 'lsst.ts.observatory.control.auxtel.atcs.ATCS'>\n",
      "['CoordFrame', 'RotFrame', 'RotMode', '_BaseTCS__instrument_focus', '__abstractmethods__', '__aenter__', '__aexit__', '__class__', '__delattr__', '__dict__', '__dir__', '__doc__', '__eq__', '__format__', '__ge__', '__getattribute__', '__gt__', '__hash__', '__init__', '__init_subclass__', '__le__', '__lt__', '__module__', '__ne__', '__new__', '__reduce__', '__reduce_ex__', '__repr__', '__setattr__', '__sizeof__', '__str__', '__subclasshook__', '__weakref__', '_abc_impl', '_components', '_slew_to', '_tel_position', '_tel_position_updated', '_tel_target', '_tel_target_updated', '_usages', 'add_point_data', 'atmcs_target_callback', 'cancel_not_done', 'check', 'check_comp_heartbeat', 'check_component_state', 'check_target_status', 'check_tracking', 'close', 'close_dome', 'close_m1_cover', 'close_m1_vent', 'components', 'components_attr', 'domain', 'dome_az_in_position', 'dome_flat_az', 'dome_park_az', 'dome_slew_tolerance', 'enable', 'expand_settings', 'fast_timeout', 'flush_offset_events', 'focus_offset', 'get_bore_sight_angle', 'get_required_resources', 'get_state', 'home_dome', 'inspect_settings', 'instrument_focus', 'location', 'log', 'long_long_timeout', 'long_timeout', 'monitor_position', 'mount_AzEl_Encoders_callback', 'next_state', 'next_telescope_position', 'next_telescope_target', 'offset_azel', 'offset_done', 'offset_radec', 'offset_xy', 'open_dome_shutter', 'open_dome_shutter_time', 'open_m1_cover', 'open_m1_vent', 'point_azel', 'prepare_for_flatfield', 'prepare_for_onsky', 'process_as_completed', 'ptg_name', 'rem', 'rotation_matrix', 'rotator_limits', 'scheduled_coro', 'set_azel_slew_checks', 'set_state', 'shutdown', 'slew', 'slew_dome_to', 'slew_icrs', 'slew_object', 'slew_to_planet', 'standby', 'start_task', 'start_tracking', 'stop_all', 'stop_tracking', 'tel_az_slew_tolerance', 'tel_el_operate_pneumatics', 'tel_el_slew_tolerance', 'tel_flat_az', 'tel_flat_el', 'tel_nasm_slew_tolerance', 'tel_park_az', 'tel_park_el', 'tel_settle_time', 'telescope_position', 'telescope_target', 'track_id_gen', 'unset_azel_slew_checks', 'usages', 'valid_use_cases', 'wait_for_atdome_inposition', 'wait_for_atdome_shutter_inposition', 'wait_for_atmcs_inposition', 'wait_for_inposition', 'wait_for_shutter_door_state']\n"
     ]
    },
    {
     "name": "stderr",
     "output_type": "stream",
     "text": [
      "timeAndDate DDS read queue is filling: 86 of 100 elements\n"
     ]
    }
   ],
   "source": [
    "print(type(atcs))\n",
    "print(dir(atcs))"
   ]
  },
  {
   "cell_type": "code",
   "execution_count": 6,
   "metadata": {},
   "outputs": [
    {
     "name": "stdout",
     "output_type": "stream",
     "text": [
      "<class 'lsst.ts.observatory.control.auxtel.latiss.LATISS'>\n",
      "['__abstractmethods__', '__aenter__', '__aexit__', '__class__', '__delattr__', '__dict__', '__dir__', '__doc__', '__eq__', '__format__', '__ge__', '__getattribute__', '__gt__', '__hash__', '__init__', '__init_subclass__', '__le__', '__lt__', '__module__', '__ne__', '__new__', '__reduce__', '__reduce_ex__', '__repr__', '__setattr__', '__sizeof__', '__str__', '__subclasshook__', '__weakref__', '_abc_impl', '_components', '_usages', 'cancel_not_done', 'check', 'check_comp_heartbeat', 'check_component_state', 'check_kwargs', 'close', 'cmd_lock', 'components', 'components_attr', 'domain', 'enable', 'expand_settings', 'expose', 'fast_timeout', 'get_required_resources', 'get_setup', 'get_state', 'inspect_settings', 'instrument_setup_attributes', 'log', 'long_long_timeout', 'long_timeout', 'min_exptime', 'next_group_id', 'next_state', 'process_as_completed', 'read_out_time', 'rem', 'scheduled_coro', 'set_state', 'setup_atspec', 'setup_instrument', 'shutter_time', 'standby', 'start_task', 'take_bias', 'take_darks', 'take_engtest', 'take_flats', 'take_imgtype', 'take_object', 'usages', 'valid_imagetype', 'valid_use_cases']\n"
     ]
    }
   ],
   "source": [
    "print(type(latiss))\n",
    "print(dir(latiss))"
   ]
  },
  {
   "cell_type": "code",
   "execution_count": 7,
   "metadata": {},
   "outputs": [
    {
     "name": "stdout",
     "output_type": "stream",
     "text": [
      "['__aenter__', '__aexit__', '__class__', '__delattr__', '__dict__', '__dir__', '__doc__', '__eq__', '__format__', '__ge__', '__getattribute__', '__gt__', '__hash__', '__init__', '__init_subclass__', '__le__', '__lt__', '__module__', '__ne__', '__new__', '__reduce__', '__reduce_ex__', '__repr__', '__setattr__', '__sizeof__', '__str__', '__subclasshook__', '__weakref__', 'close', 'cmd_abort', 'cmd_amLimitSet', 'cmd_azCurrentWrap', 'cmd_azElTarget', 'cmd_clearCollOffset', 'cmd_collOffset', 'cmd_debugLevel', 'cmd_disable', 'cmd_enable', 'cmd_enterControl', 'cmd_ephemTarget', 'cmd_exitControl', 'cmd_focusName', 'cmd_guideAutoclear', 'cmd_guideClear', 'cmd_guideControl', 'cmd_iersUpdate', 'cmd_offsetAbsorb', 'cmd_offsetAzEl', 'cmd_offsetClear', 'cmd_offsetPA', 'cmd_offsetRADec', 'cmd_planetTarget', 'cmd_pointAddData', 'cmd_pointCloseFile', 'cmd_pointLoadModel', 'cmd_pointNewFile', 'cmd_poriginAbsorb', 'cmd_poriginClear', 'cmd_poriginOffset', 'cmd_poriginXY', 'cmd_raDecTarget', 'cmd_rotCurrentWrap', 'cmd_rotOffset', 'cmd_setAccessMode', 'cmd_setAuthList', 'cmd_setLogLevel', 'cmd_setValue', 'cmd_standby', 'cmd_start', 'cmd_startTracking', 'cmd_stopTracking', 'cmd_wavelength', 'evt_accessMode', 'evt_airmassWarning', 'evt_appliedSettingsMatchStart', 'evt_authList', 'evt_axesTrackMode', 'evt_azWrapWarning', 'evt_currentDebugLevel', 'evt_currentTarget', 'evt_detailedState', 'evt_elLimitWarning', 'evt_errorCode', 'evt_focusNameInconsistentWarning', 'evt_focusNameSelected', 'evt_heartbeat', 'evt_iers', 'evt_iersOutOfDate', 'evt_inPosition', 'evt_inPositionAz', 'evt_inPositionEl', 'evt_inPositionRot', 'evt_logLevel', 'evt_logMessage', 'evt_moonProximityWarning', 'evt_mountDataWarning', 'evt_mountGuideMode', 'evt_objectSetWarning', 'evt_pointingModel', 'evt_pointing_file', 'evt_ptgAzCurrentWrap', 'evt_ptgRotCurrentWrap', 'evt_rotWrapWarning', 'evt_settingVersions', 'evt_settingsApplied', 'evt_simulationMode', 'evt_softwareVersions', 'evt_summaryState', 'evt_sunProximityWarning', 'evt_timesOfLimits', 'evt_trackPosting', 'evt_validatedTarget', 'evt_wavelength', 'evt_weatherDataApplied', 'evt_weatherDataInvalid', 'salinfo', 'start', 'start_called', 'start_task', 'tel_currentTargetStatus', 'tel_guidingAndOffsets', 'tel_mountStatus', 'tel_mount_positions', 'tel_namedAzEl', 'tel_skyEnvironment', 'tel_timeAndDate']\n"
     ]
    }
   ],
   "source": [
    "print(dir(atcs.rem.atptg))"
   ]
  },
  {
   "cell_type": "code",
   "execution_count": 8,
   "metadata": {},
   "outputs": [
    {
     "data": {
      "text/plain": [
       "\u001b[0;31mType:\u001b[0m        RemoteCommand\n",
       "\u001b[0;31mString form:\u001b[0m RemoteCommand(ATPtg, 0, focusName)\n",
       "\u001b[0;31mFile:\u001b[0m        /opt/lsst/src/ts_salobj/python/lsst/ts/salobj/topics/remote_command.py\n",
       "\u001b[0;31mDocstring:\u001b[0m  \n",
       "Issue a specific command topic and wait for acknowldgement.\n",
       "\n",
       "Parameters\n",
       "----------\n",
       "salinfo : `.SalInfo`\n",
       "    SAL component information\n",
       "name : `str`\n",
       "    Command name\n"
      ]
     },
     "metadata": {},
     "output_type": "display_data"
    }
   ],
   "source": [
    "atcs.rem.atptg.cmd_focusName?"
   ]
  },
  {
   "cell_type": "code",
   "execution_count": null,
   "metadata": {},
   "outputs": [],
   "source": [
    "atcs.enable?"
   ]
  },
  {
   "cell_type": "code",
   "execution_count": null,
   "metadata": {},
   "outputs": [],
   "source": [
    "atcs.prepare_for_onsky?"
   ]
  },
  {
   "cell_type": "code",
   "execution_count": null,
   "metadata": {},
   "outputs": [],
   "source": [
    "latiss.take_object?"
   ]
  },
  {
   "cell_type": "code",
   "execution_count": null,
   "metadata": {},
   "outputs": [],
   "source": [
    "atcs.rotation_matrix?"
   ]
  },
  {
   "cell_type": "code",
   "execution_count": null,
   "metadata": {},
   "outputs": [],
   "source": []
  }
 ],
 "metadata": {
  "kernelspec": {
   "display_name": "LSST",
   "language": "python",
   "name": "lsst"
  },
  "language_info": {
   "codemirror_mode": {
    "name": "ipython",
    "version": 3
   },
   "file_extension": ".py",
   "mimetype": "text/x-python",
   "name": "python",
   "nbconvert_exporter": "python",
   "pygments_lexer": "ipython3",
   "version": "3.8.8"
  }
 },
 "nbformat": 4,
 "nbformat_minor": 4
}
