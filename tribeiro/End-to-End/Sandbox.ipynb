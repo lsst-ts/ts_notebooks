{
 "cells": [
  {
   "cell_type": "markdown",
   "metadata": {},
   "source": [
    "This notebook shows the sequence of commands for an \"end-to-end\" verification. The idea is to show that we are able to \n",
    "\n",
    "    1 - Startup the telescope.\n",
    "    2 - Acquire calibration data.\n",
    "    3 - Initialize the observatory for the night.\n",
    "    4 - Slew to a target.\n",
    "    5 - Take an image of the target. \n",
    "    6 - Read the image from the butler and display it.\n",
    "    7 - Shutdown the telescope."
   ]
  },
  {
   "cell_type": "markdown",
   "metadata": {},
   "source": [
    "The first step in this notebook is to load all the required libraries. "
   ]
  },
  {
   "cell_type": "code",
   "execution_count": 1,
   "metadata": {},
   "outputs": [],
   "source": [
    "import sys\n",
    "import asyncio\n",
    "import logging\n",
    "\n",
    "import numpy as np\n",
    "\n",
    "from lsst.ts import salobj\n",
    "\n",
    "\n",
    "from lsst.ts.standardscripts.auxtel.attcs import ATTCS\n",
    "from lsst.ts.standardscripts.auxtel.latiss import LATISS"
   ]
  },
  {
   "cell_type": "code",
   "execution_count": 2,
   "metadata": {},
   "outputs": [],
   "source": [
    "import os\n",
    "import lsst.daf.persistence as dafPersist"
   ]
  },
  {
   "cell_type": "code",
   "execution_count": 3,
   "metadata": {},
   "outputs": [],
   "source": [
    "import matplotlib\n",
    "%matplotlib inline\n",
    "matplotlib.rcParams[\"figure.figsize\"] = (8, 6)\n",
    "matplotlib.rcParams[\"font.size\"] = 12"
   ]
  },
  {
   "cell_type": "markdown",
   "metadata": {},
   "source": [
    "This next cell defines a method to display the image at the end. "
   ]
  },
  {
   "cell_type": "code",
   "execution_count": 4,
   "metadata": {},
   "outputs": [],
   "source": [
    "def display(image, mask=None, colors=None, alpha=0.40, **kwds):\n",
    "    box = Box2D(image.getBBox())\n",
    "    extent = (box.getMinX(), box.getMaxX(), box.getMinY(), box.getMaxY())\n",
    "    kwds.setdefault(\"extent\", extent)\n",
    "    kwds.setdefault(\"origin\", \"lower\")\n",
    "    kwds.setdefault(\"interpolation\", \"nearest\")\n",
    "    matplotlib.pyplot.imshow(image.array, **kwds)\n",
    "    kwds.pop(\"vmin\", None)\n",
    "    kwds.pop(\"vmax\", None)\n",
    "    kwds.pop(\"norm\", None)\n",
    "    kwds.pop(\"cmap\", None)\n",
    "    if mask is not None:\n",
    "        for plane, color in colors.items():\n",
    "            array = np.zeros(mask.array.shape + (4,), dtype=float)\n",
    "            rgba = np.array(matplotlib.colors.hex2color(matplotlib.colors.cnames[color]) + (alpha, ),\n",
    "                            dtype=float)\n",
    "            np.multiply.outer((mask.array & mask.getPlaneBitMask(plane)).astype(bool), rgba, out=array)\n",
    "            matplotlib.pyplot.imshow(array, **kwds)"
   ]
  },
  {
   "cell_type": "code",
   "execution_count": 5,
   "metadata": {},
   "outputs": [],
   "source": [
    "from lsst.afw.geom import Box2D, Box2I, Point2I, Extent2I"
   ]
  },
  {
   "cell_type": "markdown",
   "metadata": {},
   "source": [
    "Before proceeding, add a logger and set logging level to `DEBUG` so we can get status message from the various tasks."
   ]
  },
  {
   "cell_type": "code",
   "execution_count": 6,
   "metadata": {},
   "outputs": [],
   "source": [
    "stream_handler = logging.StreamHandler(sys.stdout)\n",
    "\n",
    "logger = logging.getLogger()\n",
    "logger.addHandler(stream_handler)\n",
    "logger.level = logging.DEBUG"
   ]
  },
  {
   "cell_type": "markdown",
   "metadata": {},
   "source": [
    "Next we initialize two high level classes to command the ATTCS and LATISS."
   ]
  },
  {
   "cell_type": "code",
   "execution_count": 7,
   "metadata": {},
   "outputs": [
    {
     "name": "stdout",
     "output_type": "stream",
     "text": [
      "Using selector: EpollSelector\n"
     ]
    }
   ],
   "source": [
    "attcs = ATTCS()"
   ]
  },
  {
   "cell_type": "code",
   "execution_count": 8,
   "metadata": {},
   "outputs": [],
   "source": [
    "latiss = LATISS(attcs.domain)"
   ]
  },
  {
   "cell_type": "code",
   "execution_count": 9,
   "metadata": {},
   "outputs": [
    {
     "name": "stdout",
     "output_type": "stream",
     "text": [
      "Read historical data in 0.01 sec\n",
      "Read historical data in 0.78 sec\n",
      "Read historical data in 1.00 sec\n",
      "Read historical data in 1.14 sec\n",
      "Read historical data in 1.27 sec\n",
      "Read historical data in 1.52 sec\n",
      "Read historical data in 1.72 sec\n",
      "Read historical data in 3.38 sec\n",
      "Read historical data in 3.87 sec\n",
      "Read historical data in 4.84 sec\n",
      "Read historical data in 5.14 sec\n",
      "RemoteTelemetry(ATPtg, 0, timeAndDate) falling behind; read 26 messages\n"
     ]
    },
    {
     "data": {
      "text/plain": [
       "[[None, None, None, None, None, None, None], [None, None, None, None]]"
      ]
     },
     "execution_count": 9,
     "metadata": {},
     "output_type": "execute_result"
    }
   ],
   "source": [
    "await asyncio.gather(attcs.start_task,\n",
    "                     latiss.start_task)"
   ]
  },
  {
   "cell_type": "markdown",
   "metadata": {},
   "source": [
    "Since there is no reason do put these components in standby at a given time, let us assume `LATISS` is already enabled. The same is not true for ATTCS which must be put in standby at the end of the night so the telescope can be left in a safe mode. \n",
    "\n",
    "For that we call the `enable` method in ATTCS. This will leave the telescope and its subsystems ready to go. \n",
    "\n",
    "Note that the ATHexapod simulator is not working right now. For that we can tell attcs to skip it in enable and startup operations."
   ]
  },
  {
   "cell_type": "code",
   "execution_count": 10,
   "metadata": {},
   "outputs": [],
   "source": [
    "attcs.check.athexapod = False"
   ]
  },
  {
   "cell_type": "code",
   "execution_count": 11,
   "metadata": {},
   "outputs": [
    {
     "name": "stdout",
     "output_type": "stream",
     "text": [
      "Gathering settings.\n",
      "Settings versions: {'atmcs': '', 'atptg': '', 'ataos': '', 'atpneumatics': '', 'athexapod': 'Default1', 'atdome': '', 'atdometrajectory': ''}\n",
      "Enabling all components\n",
      "Enabling  atmcs\n",
      "Enabling  atptg\n",
      "Enabling  ataos\n",
      "Enabling  atpneumatics\n",
      "Enabling  atdome\n",
      "Enabling  atdometrajectory\n",
      "[atmcs]::[<State.STANDBY: 5>, <State.DISABLED: 1>, <State.ENABLED: 2>]\n",
      "[atptg]::[<State.STANDBY: 5>, <State.DISABLED: 1>, <State.ENABLED: 2>]\n",
      "[ataos]::[<State.STANDBY: 5>, <State.DISABLED: 1>, <State.ENABLED: 2>]\n",
      "[atpneumatics]::[<State.STANDBY: 5>, <State.DISABLED: 1>, <State.ENABLED: 2>]\n",
      "[athexapod]::<State.STANDBY: 5>\n",
      "[atdome]::[<State.STANDBY: 5>, <State.DISABLED: 1>, <State.ENABLED: 2>]\n",
      "[atdometrajectory]::[<State.STANDBY: 5>, <State.DISABLED: 1>, <State.ENABLED: 2>]\n",
      "All components enabled.\n"
     ]
    }
   ],
   "source": [
    "await attcs.enable(settings={\n",
    "    'atmcs': \"\",\n",
    "    'atptg': \"\",\n",
    "    'ataos': \"\",\n",
    "    'atpneumatics': \"\",\n",
    "    'athexapod': \"Default1\",\n",
    "    'atdome': \"\",\n",
    "    'atdometrajectory': \"\"})"
   ]
  },
  {
   "cell_type": "markdown",
   "metadata": {},
   "source": [
    "Now we can use LATISS high level method `take_bias` to take a series of bias images."
   ]
  },
  {
   "cell_type": "code",
   "execution_count": null,
   "metadata": {},
   "outputs": [],
   "source": [
    "await latiss.take_bias(nbias=5)"
   ]
  },
  {
   "cell_type": "markdown",
   "metadata": {},
   "source": [
    "There is also a method `take_darks` that can be used to take series of dark images."
   ]
  },
  {
   "cell_type": "code",
   "execution_count": null,
   "metadata": {},
   "outputs": [],
   "source": [
    "await latiss.take_darks(ndarks=5, exptime=15.)"
   ]
  },
  {
   "cell_type": "markdown",
   "metadata": {},
   "source": [
    "It is also possible to take flat frames. For that, we would have to move the telescope and dome to the flat field position, switch on the lamps and take flat images.\n",
    "\n",
    "We can position the telescope and dome with the `prepare_for_flatfield` method on the ATTCS. We don't have a simulator for flat lamps now so we will skip it."
   ]
  },
  {
   "cell_type": "code",
   "execution_count": 12,
   "metadata": {},
   "outputs": [
    {
     "name": "stdout",
     "output_type": "stream",
     "text": [
      "RemoteTelemetry(ATPtg, 0, timeAndDate) falling behind; read 34 messages\n",
      "RemoteTelemetry(ATDome, 0, position) falling behind; read 34 messages\n",
      "RemoteEvent(ATSpectrograph, 0, logMessage) falling behind; read 21 messages\n",
      "RemoteTelemetry(ATPtg, 0, mountStatus) falling behind; read 35 messages\n",
      "RemoteTelemetry(ATPtg, 0, guidingAndOffsets) falling behind; read 36 messages\n",
      "RemoteTelemetry(ATPtg, 0, currentTargetStatus) falling behind; read 36 messages\n",
      "RemoteEvent(ATPtg, 0, mountDataWarning) falling behind; read 13 messages\n",
      "Flushing events\n",
      "Scheduling check coroutines\n",
      "Sending command\n",
      "process as completed...\n",
      "[Telescope] delta Alt = -019.176 | delta Az= +000.000 [Dome] delta Az = +000.000\n",
      "[Telescope] delta Alt = -010.249 | delta Az= +000.000 [Dome] delta Az = +000.000\n",
      "[Telescope] delta Alt = -001.042 | delta Az= +000.000 [Dome] delta Az = +000.000\n",
      "Got True\n",
      "Telescope in position.\n",
      "[None, 'Telescope in position.']\n",
      "Removing callback...\n",
      "Timed out trying to get azimuth in position from the dome just after command was sent. Continuing...\n",
      "[Telescope] delta Alt = +000.000 | delta Az= +000.000 [Dome] delta Az = +030.550\n",
      "[Telescope] delta Alt = +000.000 | delta Az= +000.000 [Dome] delta Az = +042.770\n",
      "[Telescope] delta Alt = +000.000 | delta Az= +000.000 [Dome] delta Az = +054.970\n",
      "[Telescope] delta Alt = +000.000 | delta Az= +000.000 [Dome] delta Az = +067.240\n",
      "[Telescope] delta Alt = +000.000 | delta Az= +000.000 [Dome] delta Az = +074.570\n",
      "[Telescope] delta Alt = +000.000 | delta Az= +000.000 [Dome] delta Az = +086.780\n",
      "[Telescope] delta Alt = +000.000 | delta Az= +000.000 [Dome] delta Az = +099.020\n",
      "[Telescope] delta Alt = +000.000 | delta Az= +000.000 [Dome] delta Az = +111.240\n",
      "[Telescope] delta Alt = +000.000 | delta Az= +000.000 [Dome] delta Az = +118.580\n",
      "[Telescope] delta Alt = +000.000 | delta Az= +000.000 [Dome] delta Az = +130.900\n",
      "[Telescope] delta Alt = +000.000 | delta Az= +000.000 [Dome] delta Az = +143.130\n",
      "[Telescope] delta Alt = +000.000 | delta Az= +000.000 [Dome] delta Az = +156.570\n",
      "[Telescope] delta Alt = +000.000 | delta Az= +000.000 [Dome] delta Az = +168.780\n",
      "Got True\n",
      "ATDome in position.\n"
     ]
    }
   ],
   "source": [
    "await attcs.prepare_for_flatfield()"
   ]
  },
  {
   "cell_type": "code",
   "execution_count": null,
   "metadata": {},
   "outputs": [],
   "source": [
    "await latiss.take_flats(exptime=5., nflats=5, filter='disperser', grating='ronchi170lpmm')"
   ]
  },
  {
   "cell_type": "code",
   "execution_count": 13,
   "metadata": {},
   "outputs": [
    {
     "name": "stdout",
     "output_type": "stream",
     "text": [
      "Gathering settings.\n",
      "RemoteTelemetry(ATPtg, 0, timeAndDate) falling behind; read 39 messages\n",
      "RemoteTelemetry(ATDome, 0, position) falling behind; read 38 messages\n",
      "RemoteEvent(ATSpectrograph, 0, logMessage) falling behind; read 21 messages\n",
      "RemoteTelemetry(ATPtg, 0, mountStatus) falling behind; read 39 messages\n",
      "RemoteTelemetry(ATPtg, 0, guidingAndOffsets) falling behind; read 39 messages\n",
      "RemoteTelemetry(ATPtg, 0, currentTargetStatus) falling behind; read 40 messages\n",
      "RemoteEvent(ATPtg, 0, mountDataWarning) falling behind; read 14 messages\n",
      "Settings versions: {'atmcs': '', 'atptg': '', 'ataos': 'current', 'atpneumatics': '', 'athexapod': 'Default1', 'atdome': 'test', 'atdometrajectory': ''}\n",
      "Enabling all components\n",
      "Enabling  atmcs\n",
      "Enabling  atptg\n",
      "Enabling  ataos\n",
      "Enabling  atpneumatics\n",
      "Enabling  atdome\n",
      "Enabling  atdometrajectory\n",
      "[atmcs]::[<State.ENABLED: 2>]\n",
      "[atptg]::[<State.ENABLED: 2>]\n",
      "[ataos]::[<State.ENABLED: 2>]\n",
      "[atpneumatics]::[<State.ENABLED: 2>]\n",
      "[athexapod]::<State.STANDBY: 5>\n",
      "[atdome]::[<State.ENABLED: 2>]\n",
      "[atdometrajectory]::[<State.ENABLED: 2>]\n",
      "All components enabled.\n",
      "Check that dome CSC can communicate with shutter control box.\n",
      "Opening dome.\n",
      "Got: private_revCode: f1592f29, private_sndStamp: 1574203688.7192452, private_rcvStamp: 1574203688.7207677, private_seqNum: 67, private_origin: 37, private_host: 167797974, inPosition: False, priority: 0\n",
      "ATDome shutter not in position.\n",
      "Got: private_revCode: f1592f29, private_sndStamp: 1574203689.7419722, private_rcvStamp: 1574203689.7434301, private_seqNum: 68, private_origin: 37, private_host: 167797974, inPosition: True, priority: 0\n",
      "ATDome shutter in position.\n",
      "Open telescope cover.\n",
      "Enable ATAOS corrections.\n"
     ]
    }
   ],
   "source": [
    "await attcs.startup()"
   ]
  },
  {
   "cell_type": "markdown",
   "metadata": {},
   "source": [
    "Select instrument port. This is not done at the startup."
   ]
  },
  {
   "cell_type": "code",
   "execution_count": 14,
   "metadata": {},
   "outputs": [
    {
     "name": "stdout",
     "output_type": "stream",
     "text": [
      "RemoteTelemetry(ATPtg, 0, currentTargetStatus) falling behind; read 84 messages\n",
      "RemoteTelemetry(ATDome, 0, position) falling behind; read 82 messages\n",
      "RemoteEvent(ATAOS, 0, detailedState) falling behind; read 34 messages\n",
      "RemoteEvent(ATSpectrograph, 0, heartbeat) falling behind; read 17 messages\n",
      "RemoteEvent(ATDomeTrajectory, 0, heartbeat) falling behind; read 17 messages\n",
      "RemoteEvent(ATMCS, 0, heartbeat) falling behind; read 17 messages\n",
      "RemoteEvent(ATArchiver, 0, heartbeat) falling behind; read 17 messages\n",
      "RemoteTelemetry(ATPneumatics, 0, m1AirPressure) falling behind; read 17 messages\n",
      "RemoteEvent(ATHexapod, 0, heartbeat) falling behind; read 17 messages\n",
      "RemoteEvent(ATHeaderService, 0, heartbeat) falling behind; read 17 messages\n",
      "RemoteEvent(ATSpectrograph, 0, logMessage) falling behind; read 51 messages\n",
      "RemoteEvent(ATAOS, 0, m1CorrectionStarted) falling behind; read 17 messages\n",
      "RemoteTelemetry(ATMCS, 0, trajectory) falling behind; read 16 messages\n",
      "RemoteTelemetry(ATPneumatics, 0, mainAirSourcePressure) falling behind; read 17 messages\n",
      "RemoteTelemetry(ATPtg, 0, timeAndDate) falling behind; read 86 messages\n",
      "RemoteEvent(ATAOS, 0, m1CorrectionCompleted) falling behind; read 17 messages\n",
      "RemoteTelemetry(ATMCS, 0, torqueDemand) falling behind; read 16 messages\n",
      "RemoteTelemetry(ATPneumatics, 0, m2AirPressure) falling behind; read 17 messages\n",
      "RemoteEvent(ATDome, 0, heartbeat) falling behind; read 17 messages\n",
      "RemoteEvent(ATAOS, 0, heartbeat) falling behind; read 17 messages\n",
      "RemoteTelemetry(ATMCS, 0, nasymth_m3_mountMotorEncoders) falling behind; read 16 messages\n",
      "RemoteTelemetry(ATPneumatics, 0, loadCell) falling behind; read 17 messages\n",
      "RemoteTelemetry(ATPtg, 0, mountStatus) falling behind; read 87 messages\n",
      "RemoteTelemetry(ATMCS, 0, mount_Nasmyth_Encoders) falling behind; read 17 messages\n",
      "RemoteEvent(ATPneumatics, 0, heartbeat) falling behind; read 17 messages\n",
      "RemoteTelemetry(ATPtg, 0, guidingAndOffsets) falling behind; read 88 messages\n",
      "RemoteTelemetry(ATMCS, 0, mount_AzEl_Encoders) falling behind; read 17 messages\n",
      "RemoteTelemetry(ATMCS, 0, measuredTorque) falling behind; read 17 messages\n",
      "RemoteTelemetry(ATMCS, 0, measuredMotorVelocity) falling behind; read 17 messages\n",
      "RemoteTelemetry(ATMCS, 0, azEl_mountMotorEncoders) falling behind; read 17 messages\n",
      "RemoteEvent(ATPtg, 0, mountDataWarning) falling behind; read 34 messages\n"
     ]
    },
    {
     "data": {
      "text/plain": [
       "<lsst.ts.salobj.ddsutil.ATMCS_ackcmd_f0f9ad9d at 0x7fdb286acd30>"
      ]
     },
     "execution_count": 14,
     "metadata": {},
     "output_type": "execute_result"
    }
   ],
   "source": [
    "await attcs.atmcs.cmd_setInstrumentPort.set_start(port=1)"
   ]
  },
  {
   "cell_type": "markdown",
   "metadata": {},
   "source": [
    "A trick to aways get a good target to point."
   ]
  },
  {
   "cell_type": "code",
   "execution_count": 15,
   "metadata": {},
   "outputs": [
    {
     "name": "stdout",
     "output_type": "stream",
     "text": [
      "RemoteEvent(ATDomeTrajectory, 0, heartbeat) falling behind; read 53 messages\n",
      "RemoteEvent(ATArchiver, 0, heartbeat) falling behind; read 53 messages\n"
     ]
    }
   ],
   "source": [
    "time = await attcs.atptg.tel_timeAndDate.aget()"
   ]
  },
  {
   "cell_type": "code",
   "execution_count": 16,
   "metadata": {},
   "outputs": [
    {
     "data": {
      "text/plain": [
       "'21:59:32.6'"
      ]
     },
     "execution_count": 16,
     "metadata": {},
     "output_type": "execute_result"
    }
   ],
   "source": [
    "time.lst"
   ]
  },
  {
   "cell_type": "code",
   "execution_count": 17,
   "metadata": {},
   "outputs": [
    {
     "name": "stdout",
     "output_type": "stream",
     "text": [
      "RemoteTelemetry(ATPtg, 0, skyEnvironment) falling behind; read 11 messages\n",
      "RemoteEvent(ATAOS, 0, m1CorrectionStarted) falling behind; read 53 messages\n",
      "RemoteTelemetry(ATMCS, 0, trajectory) falling behind; read 52 messages\n",
      "RemoteTelemetry(ATPtg, 0, guidingAndOffsets) falling behind; read 100 messages\n",
      "RemoteEvent(ATAOS, 0, m1CorrectionCompleted) falling behind; read 54 messages\n",
      "RemoteEvent(ATSpectrograph, 0, heartbeat) falling behind; read 55 messages\n",
      "RemoteTelemetry(ATMCS, 0, torqueDemand) falling behind; read 52 messages\n",
      "RemoteTelemetry(ATPtg, 0, currentTimesToLimits) falling behind; read 11 messages\n",
      "Flushing events\n",
      "Scheduling check coroutines\n",
      "Sending command\n",
      "ATDome in position.\n",
      "process as completed...\n",
      "[Telescope] delta Alt = +009.784 | delta Az= +179.304 [Dome] delta Az = -000.140\n",
      "[Telescope] delta Alt = +001.626 | delta Az= +170.671 [Dome] delta Az = -000.127\n",
      "[Telescope] delta Alt = -000.000 | delta Az= +160.541 [Dome] delta Az = -000.110\n",
      "[Telescope] delta Alt = -000.000 | delta Az= +150.482 [Dome] delta Az = -000.093\n",
      "[Telescope] delta Alt = -000.000 | delta Az= +140.417 [Dome] delta Az = -000.076\n",
      "[Telescope] delta Alt = -000.000 | delta Az= +130.284 [Dome] delta Az = -000.060\n",
      "[Telescope] delta Alt = -000.000 | delta Az= +120.165 [Dome] delta Az = -000.043\n",
      "[Telescope] delta Alt = -000.000 | delta Az= +110.082 [Dome] delta Az = -000.026\n",
      "[Telescope] delta Alt = -000.000 | delta Az= +100.033 [Dome] delta Az = -000.009\n",
      "[Telescope] delta Alt = -000.000 | delta Az= +094.983 [Dome] delta Az = +000.007\n",
      "[Telescope] delta Alt = +000.000 | delta Az= +084.857 [Dome] delta Az = +000.015\n",
      "[Telescope] delta Alt = +000.000 | delta Az= +074.806 [Dome] delta Az = +000.032\n",
      "[Telescope] delta Alt = +000.000 | delta Az= +064.739 [Dome] delta Az = +000.049\n",
      "[Telescope] delta Alt = +000.000 | delta Az= +054.689 [Dome] delta Az = +000.065\n",
      "[Telescope] delta Alt = +000.000 | delta Az= +044.620 [Dome] delta Az = +000.082\n",
      "[Telescope] delta Alt = +000.000 | delta Az= +034.566 [Dome] delta Az = +000.099\n",
      "[Telescope] delta Alt = +000.000 | delta Az= +024.477 [Dome] delta Az = +000.115\n",
      "[Telescope] delta Alt = -000.000 | delta Az= +019.425 [Dome] delta Az = +000.132\n",
      "[Telescope] delta Alt = +000.000 | delta Az= +009.368 [Dome] delta Az = +000.141\n",
      "[Telescope] delta Alt = +000.000 | delta Az= +000.630 [Dome] delta Az = +000.158\n",
      "Got True\n",
      "Telescope in position.\n",
      "[None, 'Telescope in position.', 'ATDome in position.']\n",
      "Removing callback...\n"
     ]
    }
   ],
   "source": [
    "await attcs.slew_icrs(ra=time.lst, dec=-50., slew_timeout=120)"
   ]
  },
  {
   "cell_type": "code",
   "execution_count": 18,
   "metadata": {},
   "outputs": [
    {
     "name": "stdout",
     "output_type": "stream",
     "text": [
      "RemoteEvent(ATMCS, 0, target) falling behind; read 100 messages\n",
      "RemoteEvent(ATDomeTrajectory, 0, logMessage) falling behind; read 100 messages\n",
      "RemoteTelemetry(ATPtg, 0, timeAndDate) falling behind; read 100 messages\n",
      "RemoteTelemetry(ATDome, 0, position) falling behind; read 100 messages\n",
      "RemoteEvent(ATArchiver, 0, heartbeat) falling behind; read 26 messages\n",
      "RemoteEvent(ATAOS, 0, detailedState) falling behind; read 50 messages\n",
      "RemoteEvent(ATHexapod, 0, heartbeat) falling behind; read 26 messages\n",
      "RemoteEvent(ATSpectrograph, 0, logMessage) falling behind; read 72 messages\n",
      "RemoteTelemetry(ATPneumatics, 0, m1AirPressure) falling behind; read 25 messages\n",
      "RemoteEvent(ATHeaderService, 0, heartbeat) falling behind; read 25 messages\n",
      "RemoteEvent(ATAOS, 0, m1CorrectionStarted) falling behind; read 26 messages\n",
      "RemoteEvent(ATAOS, 0, m1CorrectionCompleted) falling behind; read 26 messages\n",
      "RemoteTelemetry(ATPneumatics, 0, mainAirSourcePressure) falling behind; read 25 messages\n",
      "RemoteTelemetry(ATMCS, 0, trajectory) falling behind; read 24 messages\n",
      "RemoteEvent(ATSpectrograph, 0, heartbeat) falling behind; read 25 messages\n",
      "RemoteEvent(ATAOS, 0, heartbeat) falling behind; read 26 messages\n",
      "RemoteEvent(ATDomeTrajectory, 0, heartbeat) falling behind; read 25 messages\n",
      "RemoteTelemetry(ATPneumatics, 0, m2AirPressure) falling behind; read 26 messages\n",
      "RemoteEvent(ATDome, 0, heartbeat) falling behind; read 26 messages\n",
      "RemoteTelemetry(ATMCS, 0, torqueDemand) falling behind; read 24 messages\n",
      "RemoteTelemetry(ATPtg, 0, mountStatus) falling behind; read 100 messages\n",
      "RemoteTelemetry(ATPneumatics, 0, loadCell) falling behind; read 26 messages\n",
      "RemoteTelemetry(ATMCS, 0, nasymth_m3_mountMotorEncoders) falling behind; read 25 messages\n",
      "RemoteTelemetry(ATPtg, 0, guidingAndOffsets) falling behind; read 100 messages\n",
      "RemoteEvent(ATPneumatics, 0, heartbeat) falling behind; read 26 messages\n",
      "RemoteTelemetry(ATMCS, 0, mount_Nasmyth_Encoders) falling behind; read 25 messages\n",
      "RemoteTelemetry(ATMCS, 0, mount_AzEl_Encoders) falling behind; read 25 messages\n",
      "RemoteTelemetry(ATPtg, 0, currentTargetStatus) falling behind; read 100 messages\n",
      "RemoteTelemetry(ATMCS, 0, measuredTorque) falling behind; read 25 messages\n",
      "RemoteTelemetry(ATMCS, 0, measuredMotorVelocity) falling behind; read 25 messages\n",
      "RemoteEvent(ATPtg, 0, mountDataWarning) falling behind; read 50 messages\n",
      "RemoteTelemetry(ATMCS, 0, azEl_mountMotorEncoders) falling behind; read 25 messages\n",
      "RemoteEvent(ATMCS, 0, heartbeat) falling behind; read 27 messages\n"
     ]
    }
   ],
   "source": [
    "end_readout = await latiss.take_image(exptime=10., \n",
    "                                      shutter=True, \n",
    "                                      image_type=\"OBJECT\", \n",
    "                                      group_id=\"TEST\", \n",
    "                                      filter=\"disperser\", \n",
    "                                      grating=\"ronchi170lpmm\")"
   ]
  },
  {
   "cell_type": "code",
   "execution_count": 19,
   "metadata": {},
   "outputs": [
    {
     "name": "stdout",
     "output_type": "stream",
     "text": [
      "private_revCode: 91cd7826, private_sndStamp: 1574203845.189425, private_rcvStamp: 1574203845.1901925, private_seqNum: 0, private_origin: 1, private_host: 0, imageType: OBJECT, groupId: TEST, imagesInSequence: 1, imageName: AT_O_20191119_000001, imageIndex: 0, imageSource: AT, imageController: O, imageDate: 20191119, imageNumber: 1, timeStampAcquisitionStart: 1574203795.381, exposureTime: 10.0, timeStampEndOfReadout: 1574203845.1891396, priority: 1\n"
     ]
    }
   ],
   "source": [
    "print(end_readout)"
   ]
  },
  {
   "cell_type": "markdown",
   "metadata": {},
   "source": [
    "Get visit id from the `end_readout` event. "
   ]
  },
  {
   "cell_type": "code",
   "execution_count": 20,
   "metadata": {},
   "outputs": [
    {
     "name": "stdout",
     "output_type": "stream",
     "text": [
      "2019111900001\n"
     ]
    }
   ],
   "source": [
    "visit = int(int(f\"{end_readout.imageDate}{end_readout.imageNumber:05}\"))\n",
    "print(visit)"
   ]
  },
  {
   "cell_type": "code",
   "execution_count": 21,
   "metadata": {},
   "outputs": [
    {
     "name": "stdout",
     "output_type": "stream",
     "text": [
      "RemoteEvent(ATDomeTrajectory, 0, logMessage) falling behind; read 100 messages\n",
      "RemoteTelemetry(ATDome, 0, position) falling behind; read 100 messages\n",
      "RemoteEvent(ATMCS, 0, target) falling behind; read 100 messages\n",
      "RemoteTelemetry(ATPtg, 0, currentTargetStatus) falling behind; read 100 messages\n",
      "RemoteEvent(ATAOS, 0, detailedState) falling behind; read 46 messages\n",
      "RemoteTelemetry(ATPneumatics, 0, m1AirPressure) falling behind; read 23 messages\n",
      "RemoteEvent(ATSpectrograph, 0, heartbeat) falling behind; read 23 messages\n",
      "RemoteEvent(ATArchiver, 0, heartbeat) falling behind; read 23 messages\n",
      "RemoteEvent(ATHexapod, 0, heartbeat) falling behind; read 23 messages\n",
      "RemoteEvent(ATDomeTrajectory, 0, heartbeat) falling behind; read 23 messages\n",
      "RemoteEvent(ATHeaderService, 0, logMessage) falling behind; read 11 messages\n",
      "RemoteTelemetry(ATPneumatics, 0, mainAirSourcePressure) falling behind; read 23 messages\n",
      "RemoteEvent(ATSpectrograph, 0, logMessage) falling behind; read 66 messages\n",
      "RemoteTelemetry(ATMCS, 0, trajectory) falling behind; read 22 messages\n",
      "RemoteEvent(ATAOS, 0, m1CorrectionStarted) falling behind; read 24 messages\n",
      "RemoteTelemetry(ATPneumatics, 0, m2AirPressure) falling behind; read 24 messages\n",
      "RemoteTelemetry(ATPtg, 0, timeAndDate) falling behind; read 100 messages\n",
      "RemoteTelemetry(ATMCS, 0, torqueDemand) falling behind; read 22 messages\n",
      "RemoteEvent(ATAOS, 0, m1CorrectionCompleted) falling behind; read 24 messages\n",
      "RemoteTelemetry(ATPneumatics, 0, loadCell) falling behind; read 24 messages\n",
      "RemoteTelemetry(ATMCS, 0, nasymth_m3_mountMotorEncoders) falling behind; read 22 messages\n",
      "RemoteEvent(ATAOS, 0, heartbeat) falling behind; read 23 messages\n",
      "RemoteEvent(ATDome, 0, heartbeat) falling behind; read 23 messages\n",
      "RemoteEvent(ATPneumatics, 0, heartbeat) falling behind; read 24 messages\n",
      "RemoteTelemetry(ATPtg, 0, mountStatus) falling behind; read 100 messages\n",
      "RemoteTelemetry(ATMCS, 0, mount_Nasmyth_Encoders) falling behind; read 22 messages\n",
      "RemoteTelemetry(ATPtg, 0, guidingAndOffsets) falling behind; read 100 messages\n",
      "RemoteTelemetry(ATMCS, 0, mount_AzEl_Encoders) falling behind; read 23 messages\n",
      "RemoteTelemetry(ATMCS, 0, measuredTorque) falling behind; read 23 messages\n",
      "RemoteTelemetry(ATMCS, 0, measuredMotorVelocity) falling behind; read 23 messages\n",
      "RemoteTelemetry(ATMCS, 0, azEl_mountMotorEncoders) falling behind; read 23 messages\n",
      "RemoteEvent(ATPtg, 0, mountDataWarning) falling behind; read 46 messages\n",
      "RemoteEvent(ATMCS, 0, heartbeat) falling behind; read 24 messages\n"
     ]
    }
   ],
   "source": [
    "await asyncio.sleep(15.)"
   ]
  },
  {
   "cell_type": "code",
   "execution_count": 22,
   "metadata": {},
   "outputs": [],
   "source": [
    "repo = os.path.join(\"/mnt/dmcs/oods_butler_repo/repo\")\n",
    "butler = dafPersist.Butler(repo)"
   ]
  },
  {
   "cell_type": "code",
   "execution_count": 23,
   "metadata": {},
   "outputs": [
    {
     "name": "stdout",
     "output_type": "stream",
     "text": [
      "Using translation class LSST_LATISS\n",
      "Checking for header correction file named LATISS-AT_O_20191119_000001.yaml\n",
      "Using translation class LSST_LATISS\n",
      "Checking for header correction file named LATISS-AT_O_20191119_000001.yaml\n",
      "Using translation class LSST_LATISS\n"
     ]
    }
   ],
   "source": [
    "raw = butler.get(\"raw\", visit=visit)"
   ]
  },
  {
   "cell_type": "code",
   "execution_count": 24,
   "metadata": {},
   "outputs": [
    {
     "name": "stdout",
     "output_type": "stream",
     "text": [
      "update_title_pos\n"
     ]
    },
    {
     "name": "stderr",
     "output_type": "stream",
     "text": [
      "/opt/lsst/software/stack/python/miniconda3-4.5.12/envs/lsst-scipipe-4d7b902/lib/python3.7/site-packages/ipykernel_launcher.py:2: FutureWarning: Call to deprecated function (or staticmethod) Box2D. (Replaced by lsst.geom.Box2D (will be removed before the release of v20.0))\n",
      "  \n"
     ]
    },
    {
     "name": "stdout",
     "output_type": "stream",
     "text": [
      "findfont: Matching :family=sans-serif:style=normal:variant=normal:weight=normal:stretch=normal:size=10.0 to DejaVu Sans ('/opt/lsst/software/stack/python/miniconda3-4.5.12/envs/lsst-scipipe-4d7b902/lib/python3.7/site-packages/matplotlib/mpl-data/fonts/ttf/DejaVuSans.ttf') with score of 0.050000.\n",
      "update_title_pos\n",
      "update_title_pos\n",
      "update_title_pos\n",
      "update_title_pos\n"
     ]
    },
    {
     "data": {
      "image/png": "[encoded data removed]",
      "text/plain": [
       "<Figure size 432x288 with 1 Axes>"
      ]
     },
     "metadata": {
      "needs_background": "light"
     },
     "output_type": "display_data"
    }
   ],
   "source": [
    "display(raw.image, cmap=matplotlib.cm.gray, vmin=1e4, vmax=3e4)"
   ]
  },
  {
   "cell_type": "markdown",
   "metadata": {},
   "source": [
    "Finaly, shutdown the system. "
   ]
  },
  {
   "cell_type": "code",
   "execution_count": 25,
   "metadata": {},
   "outputs": [
    {
     "name": "stdout",
     "output_type": "stream",
     "text": [
      "Disabling ATAOS corrections\n",
      "RemoteEvent(ATMCS, 0, target) falling behind; read 100 messages\n",
      "RemoteEvent(ATDomeTrajectory, 0, logMessage) falling behind; read 100 messages\n",
      "RemoteTelemetry(ATPtg, 0, timeAndDate) falling behind; read 100 messages\n",
      "RemoteTelemetry(ATDome, 0, position) falling behind; read 100 messages\n",
      "RemoteEvent(ATHeaderService, 0, heartbeat) falling behind; read 40 messages\n",
      "RemoteEvent(ATSpectrograph, 0, heartbeat) falling behind; read 40 messages\n",
      "RemoteTelemetry(ATPneumatics, 0, m1AirPressure) falling behind; read 40 messages\n",
      "RemoteEvent(ATAOS, 0, m1CorrectionStarted) falling behind; read 39 messages\n",
      "RemoteEvent(ATHexapod, 0, heartbeat) falling behind; read 40 messages\n",
      "RemoteEvent(ATArchiver, 0, heartbeat) falling behind; read 40 messages\n",
      "RemoteEvent(ATAOS, 0, detailedState) falling behind; read 78 messages\n",
      "RemoteTelemetry(ATMCS, 0, trajectory) falling behind; read 39 messages\n",
      "RemoteEvent(ATSpectrograph, 0, logMessage) falling behind; read 100 messages\n",
      "RemoteTelemetry(ATPneumatics, 0, mainAirSourcePressure) falling behind; read 40 messages\n",
      "RemoteEvent(ATDomeTrajectory, 0, heartbeat) falling behind; read 41 messages\n",
      "RemoteTelemetry(ATMCS, 0, torqueDemand) falling behind; read 39 messages\n",
      "RemoteTelemetry(ATPneumatics, 0, m2AirPressure) falling behind; read 40 messages\n",
      "RemoteEvent(ATDome, 0, heartbeat) falling behind; read 40 messages\n",
      "RemoteEvent(ATAOS, 0, m1CorrectionCompleted) falling behind; read 39 messages\n",
      "RemoteTelemetry(ATPtg, 0, mountStatus) falling behind; read 100 messages\n",
      "RemoteTelemetry(ATMCS, 0, nasymth_m3_mountMotorEncoders) falling behind; read 39 messages\n",
      "RemoteTelemetry(ATPneumatics, 0, loadCell) falling behind; read 41 messages\n",
      "RemoteEvent(ATAOS, 0, heartbeat) falling behind; read 41 messages\n",
      "RemoteTelemetry(ATPtg, 0, guidingAndOffsets) falling behind; read 100 messages\n",
      "RemoteTelemetry(ATMCS, 0, mount_Nasmyth_Encoders) falling behind; read 39 messages\n",
      "RemoteTelemetry(ATMCS, 0, mount_AzEl_Encoders) falling behind; read 39 messages\n",
      "RemoteEvent(ATPneumatics, 0, heartbeat) falling behind; read 41 messages\n",
      "RemoteTelemetry(ATPtg, 0, currentTargetStatus) falling behind; read 100 messages\n",
      "RemoteTelemetry(ATMCS, 0, measuredTorque) falling behind; read 39 messages\n",
      "RemoteTelemetry(ATMCS, 0, measuredMotorVelocity) falling behind; read 39 messages\n",
      "RemoteEvent(ATPtg, 0, mountDataWarning) falling behind; read 80 messages\n",
      "RemoteTelemetry(ATMCS, 0, azEl_mountMotorEncoders) falling behind; read 40 messages\n",
      "RemoteEvent(ATMCS, 0, heartbeat) falling behind; read 42 messages\n",
      "Close telescope cover.\n",
      "Disable ATDomeTrajectory\n",
      "Close dome.\n",
      "Got: private_revCode: f1592f29, private_sndStamp: 1574203924.9061377, private_rcvStamp: 1574203924.9076638, private_seqNum: 69, private_origin: 37, private_host: 167797974, inPosition: False, priority: 0\n",
      "ATDome shutter not in position.\n",
      "Got: private_revCode: f1592f29, private_sndStamp: 1574203925.92952, private_rcvStamp: 1574203925.9316256, private_seqNum: 70, private_origin: 37, private_host: 167797974, inPosition: True, priority: 0\n",
      "ATDome shutter in position.\n",
      "Slew telescope to Park position.\n",
      "Flushing events\n",
      "Scheduling check coroutines\n",
      "Sending command\n",
      "process as completed...\n",
      "Got False\n",
      "Telescope not in position\n",
      "[Telescope] delta Alt = +009.003 | delta Az= +179.519 [Dome] delta Az = -180.000\n",
      "[Telescope] delta Alt = +001.082 | delta Az= -171.695 [Dome] delta Az = -180.000\n",
      "[Telescope] delta Alt = +000.000 | delta Az= -161.573 [Dome] delta Az = -180.000\n",
      "[Telescope] delta Alt = +000.000 | delta Az= -151.413 [Dome] delta Az = -180.000\n",
      "[Telescope] delta Alt = +000.000 | delta Az= -141.289 [Dome] delta Az = -180.000\n",
      "[Telescope] delta Alt = +000.000 | delta Az= -131.201 [Dome] delta Az = -180.000\n",
      "[Telescope] delta Alt = +000.000 | delta Az= -121.042 [Dome] delta Az = -180.000\n",
      "[Telescope] delta Alt = +000.000 | delta Az= -110.927 [Dome] delta Az = -180.000\n",
      "[Telescope] delta Alt = +000.000 | delta Az= -100.807 [Dome] delta Az = -180.000\n",
      "[Telescope] delta Alt = +000.000 | delta Az= -090.598 [Dome] delta Az = -180.000\n",
      "[Telescope] delta Alt = +000.000 | delta Az= -080.500 [Dome] delta Az = -180.000\n",
      "[Telescope] delta Alt = +000.000 | delta Az= -070.407 [Dome] delta Az = -180.000\n",
      "[Telescope] delta Alt = +000.000 | delta Az= -065.359 [Dome] delta Az = -180.000\n",
      "[Telescope] delta Alt = +000.000 | delta Az= -055.259 [Dome] delta Az = -180.000\n",
      "[Telescope] delta Alt = +000.000 | delta Az= -045.145 [Dome] delta Az = -180.000\n",
      "[Telescope] delta Alt = +000.000 | delta Az= -035.051 [Dome] delta Az = -180.000\n",
      "[Telescope] delta Alt = +000.000 | delta Az= -024.944 [Dome] delta Az = -180.000\n",
      "[Telescope] delta Alt = +000.000 | delta Az= -014.800 [Dome] delta Az = -180.000\n",
      "[Telescope] delta Alt = +000.000 | delta Az= -004.747 [Dome] delta Az = -180.000\n",
      "[Telescope] delta Alt = +000.000 | delta Az= -000.004 [Dome] delta Az = -180.000\n",
      "Got True\n",
      "Telescope in position.\n",
      "[None, 'Telescope in position.']\n",
      "Removing callback...\n",
      "Slew dome to Park position.\n",
      "[Telescope] delta Alt = +000.000 | delta Az= +000.000 [Dome] delta Az = +178.720\n",
      "[Telescope] delta Alt = +000.000 | delta Az= +000.000 [Dome] delta Az = +167.720\n",
      "[Telescope] delta Alt = +000.000 | delta Az= +000.000 [Dome] delta Az = +155.490\n",
      "[Telescope] delta Alt = +000.000 | delta Az= +000.000 [Dome] delta Az = +143.290\n",
      "[Telescope] delta Alt = +000.000 | delta Az= +000.000 [Dome] delta Az = +131.040\n",
      "[Telescope] delta Alt = +000.000 | delta Az= +000.000 [Dome] delta Az = +117.610\n",
      "[Telescope] delta Alt = +000.000 | delta Az= +000.000 [Dome] delta Az = +105.400\n",
      "[Telescope] delta Alt = +000.000 | delta Az= +000.000 [Dome] delta Az = +093.200\n",
      "Got True\n",
      "ATDome in position.\n",
      "Put all CSCs in standby\n",
      "[atmcs]::[<State.ENABLED: 2>, <State.DISABLED: 1>, <State.STANDBY: 5>]\n",
      "[atptg]::[<State.ENABLED: 2>, <State.DISABLED: 1>, <State.STANDBY: 5>]\n",
      "[ataos]::[<State.ENABLED: 2>, <State.DISABLED: 1>, <State.STANDBY: 5>]\n",
      "[atpneumatics]::[<State.ENABLED: 2>, <State.DISABLED: 1>, <State.STANDBY: 5>]\n",
      "[athexapod]::[<State.STANDBY: 5>]\n",
      "[atdome]::[<State.ENABLED: 2>, <State.DISABLED: 1>, <State.STANDBY: 5>]\n",
      "[atdometrajectory]::[<State.DISABLED: 1>, <State.STANDBY: 5>]\n",
      "All components in standby.\n"
     ]
    }
   ],
   "source": [
    "await attcs.shutdown()"
   ]
  },
  {
   "cell_type": "code",
   "execution_count": null,
   "metadata": {},
   "outputs": [],
   "source": []
  }
 ],
 "metadata": {
  "kernelspec": {
   "display_name": "Python 3",
   "language": "python",
   "name": "python3"
  },
  "language_info": {
   "codemirror_mode": {
    "name": "ipython",
    "version": 3
   },
   "file_extension": ".py",
   "mimetype": "text/x-python",
   "name": "python",
   "nbconvert_exporter": "python",
   "pygments_lexer": "ipython3",
   "version": "3.7.2"
  }
 },
 "nbformat": 4,
 "nbformat_minor": 4
}
