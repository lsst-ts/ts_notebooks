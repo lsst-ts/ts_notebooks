{
 "cells": [
  {
   "cell_type": "code",
   "execution_count": 1,
   "metadata": {},
   "outputs": [],
   "source": [
    "from lsst.ts import salobj\n",
    "\n",
    "import asyncio\n",
    "import wget"
   ]
  },
  {
   "cell_type": "code",
   "execution_count": 2,
   "metadata": {},
   "outputs": [],
   "source": [
    "d = salobj.Domain()"
   ]
  },
  {
   "cell_type": "code",
   "execution_count": 3,
   "metadata": {},
   "outputs": [],
   "source": [
    "r = salobj.Remote(d, \"GenericCamera\", 1)"
   ]
  },
  {
   "cell_type": "code",
   "execution_count": 4,
   "metadata": {},
   "outputs": [],
   "source": [
    "await r.start_task"
   ]
  },
  {
   "cell_type": "code",
   "execution_count": 6,
   "metadata": {},
   "outputs": [
    {
     "name": "stdout",
     "output_type": "stream",
     "text": [
      "GenericCameraID: 1, private_revCode: d2d79f60, private_sndStamp: 1581532898.360399, private_rcvStamp: 1581532898.3963258, private_seqNum: 1, private_origin: 19, private_host: 1284580447, heartbeat: False, priority: 0\n",
      "GenericCameraID: 1, private_revCode: d2d79f60, private_sndStamp: 1581532899.4009864, private_rcvStamp: 1581532899.4244354, private_seqNum: 2, private_origin: 19, private_host: 1284580447, heartbeat: False, priority: 0\n",
      "GenericCameraID: 1, private_revCode: d2d79f60, private_sndStamp: 1581532900.4273672, private_rcvStamp: 1581532900.4413676, private_seqNum: 3, private_origin: 19, private_host: 1284580447, heartbeat: False, priority: 0\n"
     ]
    }
   ],
   "source": [
    "for i in range(3):\n",
    "    print(await r.evt_heartbeat.next(flush=True, timeout=60))"
   ]
  },
  {
   "cell_type": "code",
   "execution_count": 7,
   "metadata": {},
   "outputs": [
    {
     "data": {
      "text/plain": [
       "[<State.STANDBY: 5>, <State.DISABLED: 1>, <State.ENABLED: 2>]"
      ]
     },
     "execution_count": 7,
     "metadata": {},
     "output_type": "execute_result"
    }
   ],
   "source": [
    "# await asyncio.sleep(5.)\n",
    "await salobj.set_summary_state(r, salobj.State.ENABLED, settingsToApply=\"zwo_4x4_nofw.yaml\")"
   ]
  },
  {
   "cell_type": "code",
   "execution_count": null,
   "metadata": {},
   "outputs": [],
   "source": [
    "await r.cmd_start.set_start(settingsToApply=\"zwo_4x4.yaml\")"
   ]
  },
  {
   "cell_type": "code",
   "execution_count": null,
   "metadata": {},
   "outputs": [],
   "source": [
    "print(\"Sleep 5s\")\n",
    "await asyncio.sleep(5)\n",
    "print(\"Done\")\n",
    "await salobj.set_summary_state(r, salobj.State.STANDBY)"
   ]
  },
  {
   "cell_type": "code",
   "execution_count": 14,
   "metadata": {},
   "outputs": [
    {
     "data": {
      "text/plain": [
       "<lsst.ts.salobj.ddsutil.GenericCamera_ackcmd_bde417f6 at 0x7f9e608f29e8>"
      ]
     },
     "execution_count": 14,
     "metadata": {},
     "output_type": "execute_result"
    }
   ],
   "source": [
    "await r.cmd_startLiveView.set_start(expTime=5)"
   ]
  },
  {
   "cell_type": "code",
   "execution_count": null,
   "metadata": {},
   "outputs": [],
   "source": [
    "await "
   ]
  },
  {
   "cell_type": "code",
   "execution_count": 10,
   "metadata": {},
   "outputs": [],
   "source": [
    "lv = await r.evt_startLiveView.aget()"
   ]
  },
  {
   "cell_type": "code",
   "execution_count": 11,
   "metadata": {},
   "outputs": [
    {
     "name": "stdout",
     "output_type": "stream",
     "text": [
      "GenericCameraID: 1, private_revCode: 8a245da1, private_sndStamp: 1581532928.4185855, private_rcvStamp: 1581532928.4381747, private_seqNum: 1, private_origin: 19, private_host: 1284580447, ip: 127.0.0.1, port: 5013, priority: 0\n"
     ]
    }
   ],
   "source": [
    "print(lv)"
   ]
  },
  {
   "cell_type": "code",
   "execution_count": 13,
   "metadata": {},
   "outputs": [
    {
     "data": {
      "text/plain": [
       "<lsst.ts.salobj.ddsutil.GenericCamera_ackcmd_bde417f6 at 0x7f9ecd5b3240>"
      ]
     },
     "execution_count": 13,
     "metadata": {},
     "output_type": "execute_result"
    }
   ],
   "source": [
    "await r.cmd_stopLiveView.start(timeout=10)"
   ]
  },
  {
   "cell_type": "code",
   "execution_count": null,
   "metadata": {},
   "outputs": [],
   "source": [
    "# await asyncio.sleep(5)\n",
    "await salobj.set_summary_state(r, salobj.State.OFFLINE)"
   ]
  },
  {
   "cell_type": "code",
   "execution_count": null,
   "metadata": {},
   "outputs": [],
   "source": [
    "await r.evt_startLiveView.next(timeout=10, flush=False)"
   ]
  },
  {
   "cell_type": "code",
   "execution_count": null,
   "metadata": {},
   "outputs": [],
   "source": [
    "await r.evt_startLiveView.next(timeout=1, flush=False)"
   ]
  },
  {
   "cell_type": "code",
   "execution_count": null,
   "metadata": {},
   "outputs": [],
   "source": [
    "await r.evt_sto .next(timeout=1, flush=False)"
   ]
  },
  {
   "cell_type": "code",
   "execution_count": null,
   "metadata": {},
   "outputs": [],
   "source": [
    "await asyncio.sleep(5)\n",
    "ss = await r.evt_summaryState.next(timeout=5, flush=False)"
   ]
  },
  {
   "cell_type": "code",
   "execution_count": null,
   "metadata": {},
   "outputs": [],
   "source": [
    "ss = r.evt_summaryState.get()"
   ]
  },
  {
   "cell_type": "code",
   "execution_count": null,
   "metadata": {},
   "outputs": [],
   "source": [
    "print(salobj.State(ss.summaryState))"
   ]
  },
  {
   "cell_type": "code",
   "execution_count": null,
   "metadata": {},
   "outputs": [],
   "source": [
    "err = await r.evt_errorCode.next(flush=True, timeout=1)"
   ]
  },
  {
   "cell_type": "code",
   "execution_count": null,
   "metadata": {},
   "outputs": [],
   "source": [
    "# r.evt_endReadout.flush()\n",
    "await r.cmd_takeImages.set_start(numImages=1,\n",
    "                                 expTime=1.,\n",
    "                                 shutter=True,\n",
    "                                 imageSequenceName='test'\n",
    "                                )"
   ]
  },
  {
   "cell_type": "code",
   "execution_count": null,
   "metadata": {},
   "outputs": [],
   "source": [
    "er = await r.evt_endReadout.next(flush=False, timeout=1)"
   ]
  },
  {
   "cell_type": "code",
   "execution_count": null,
   "metadata": {},
   "outputs": [],
   "source": [
    "er = r.evt_endReadout.get()"
   ]
  },
  {
   "cell_type": "code",
   "execution_count": null,
   "metadata": {},
   "outputs": [],
   "source": [
    "er.imageName"
   ]
  },
  {
   "cell_type": "code",
   "execution_count": null,
   "metadata": {},
   "outputs": [],
   "source": [
    "await asyncio.sleep(5)\n",
    "lv = await r.evt_startLiveView.next(flush=False, timeout=5)\n",
    "lv = r.evt_startLiveView.get()"
   ]
  },
  {
   "cell_type": "code",
   "execution_count": null,
   "metadata": {},
   "outputs": [],
   "source": [
    "async def end_readout_callback(data):\n",
    "    await asyncio.sleep(1.)\n",
    "    filename = wget.download(f\"http://139.229.170.216:8000/data/{data.imageName}.fits\")\n",
    "    print(filename)"
   ]
  },
  {
   "cell_type": "code",
   "execution_count": null,
   "metadata": {},
   "outputs": [],
   "source": [
    "r.evt_endReadout.callback=end_readout_callback"
   ]
  },
  {
   "cell_type": "code",
   "execution_count": null,
   "metadata": {},
   "outputs": [],
   "source": [
    "await asyncio.sleep(10)"
   ]
  },
  {
   "cell_type": "code",
   "execution_count": null,
   "metadata": {},
   "outputs": [],
   "source": [
    "await asyncio.sleep(120)"
   ]
  },
  {
   "cell_type": "code",
   "execution_count": null,
   "metadata": {},
   "outputs": [],
   "source": [
    "await asyncio.sleep(240)"
   ]
  },
  {
   "cell_type": "code",
   "execution_count": null,
   "metadata": {},
   "outputs": [],
   "source": [
    "asyncio.get_event_loop().run_forever()"
   ]
  },
  {
   "cell_type": "code",
   "execution_count": null,
   "metadata": {},
   "outputs": [],
   "source": [
    "await asyncio.sleep(120)"
   ]
  },
  {
   "cell_type": "code",
   "execution_count": null,
   "metadata": {},
   "outputs": [],
   "source": [
    "await asyncio.sleep(120)"
   ]
  },
  {
   "cell_type": "code",
   "execution_count": null,
   "metadata": {},
   "outputs": [],
   "source": [
    "await asyncio.sleep(120)"
   ]
  },
  {
   "cell_type": "code",
   "execution_count": null,
   "metadata": {},
   "outputs": [],
   "source": [
    "await asyncio.sleep(120)"
   ]
  },
  {
   "cell_type": "code",
   "execution_count": null,
   "metadata": {},
   "outputs": [],
   "source": [
    "await asyncio.sleep(120)"
   ]
  },
  {
   "cell_type": "code",
   "execution_count": null,
   "metadata": {},
   "outputs": [],
   "source": [
    "await asyncio.sleep(120)"
   ]
  },
  {
   "cell_type": "code",
   "execution_count": null,
   "metadata": {},
   "outputs": [],
   "source": [
    "athex = salobj.Remote(d, 'ATHexapod')"
   ]
  },
  {
   "cell_type": "code",
   "execution_count": null,
   "metadata": {},
   "outputs": [],
   "source": [
    "await athex.start_task"
   ]
  },
  {
   "cell_type": "code",
   "execution_count": null,
   "metadata": {},
   "outputs": [],
   "source": [
    "pos = await athex.evt_positionUpdate.next(flush=False, timeout=5)"
   ]
  },
  {
   "cell_type": "code",
   "execution_count": null,
   "metadata": {},
   "outputs": [],
   "source": [
    "print(pos)"
   ]
  },
  {
   "cell_type": "code",
   "execution_count": null,
   "metadata": {},
   "outputs": [],
   "source": [
    "await athex.cmd_moveToPosition.set_start(x=-4., y=1.,z=0.38-0.65, u=0.35, v=0.22)"
   ]
  },
  {
   "cell_type": "code",
   "execution_count": null,
   "metadata": {},
   "outputs": [],
   "source": [
    "await athex.cmd_moveToPosition.set_start(x=-4., y=1.,z=0.38, u=0.35, v=0.22)"
   ]
  },
  {
   "cell_type": "code",
   "execution_count": null,
   "metadata": {},
   "outputs": [],
   "source": [
    "await athex.cmd_moveToPosition.set_start(x=-4., y=1.,z=0.45+0.5, u=0.35, v=0.22)"
   ]
  },
  {
   "cell_type": "code",
   "execution_count": null,
   "metadata": {},
   "outputs": [],
   "source": [
    "await athex.cmd_moveToPosition.set_start(x=-4.4, y=1.2,z=0.55+0.5, u=0.35, v=0.22)"
   ]
  },
  {
   "cell_type": "code",
   "execution_count": null,
   "metadata": {},
   "outputs": [],
   "source": [
    "# r.evt_endReadout.flush()\n",
    "await r.cmd_takeImages.set_start(numImages=1,\n",
    "                                 expTime=20.,\n",
    "                                 shutter=True,\n",
    "                                 imageSequenceName='HD40762+0.5'\n",
    "                                )\n",
    "await asyncio.sleep(1)"
   ]
  },
  {
   "cell_type": "code",
   "execution_count": null,
   "metadata": {},
   "outputs": [],
   "source": [
    "await athex.cmd_moveToPosition.set_start(x=-4.4, y=1.2,z=0.55-0.5, u=0.35, v=0.22)"
   ]
  },
  {
   "cell_type": "code",
   "execution_count": null,
   "metadata": {},
   "outputs": [],
   "source": [
    "# r.evt_endReadout.flush()\n",
    "await r.cmd_takeImages.set_start(numImages=1,\n",
    "                                 expTime=20.,\n",
    "                                 shutter=True,\n",
    "                                 imageSequenceName='HD40762-0.5'\n",
    "                                )\n",
    "await asyncio.sleep(1)"
   ]
  },
  {
   "cell_type": "code",
   "execution_count": null,
   "metadata": {},
   "outputs": [],
   "source": [
    "await athex.cmd_moveToPosition.set_start(x=-4.4, y=1.2,z=0.55-0., u=0.35, v=0.22)"
   ]
  },
  {
   "cell_type": "code",
   "execution_count": null,
   "metadata": {},
   "outputs": [],
   "source": [
    "await athex.cmd_moveToPosition.set_start(x=-4.3, \n",
    " y=1.3, \n",
    " z=1.05, \n",
    " u=0.35+1e-4,\n",
    " v=0.22)"
   ]
  },
  {
   "cell_type": "code",
   "execution_count": null,
   "metadata": {},
   "outputs": [],
   "source": []
  },
  {
   "cell_type": "code",
   "execution_count": null,
   "metadata": {},
   "outputs": [],
   "source": []
  },
  {
   "cell_type": "code",
   "execution_count": null,
   "metadata": {},
   "outputs": [],
   "source": []
  },
  {
   "cell_type": "code",
   "execution_count": null,
   "metadata": {},
   "outputs": [],
   "source": [
    "# r.evt_endReadout.flush()\n",
    "await r.cmd_takeImages.set_start(numImages=1,\n",
    "                                 expTime=10.,\n",
    "                                 shutter=True,\n",
    "                                 imageSequenceName='HD40762-0.0'\n",
    "                                )\n",
    "await asyncio.sleep(1)"
   ]
  },
  {
   "cell_type": "code",
   "execution_count": null,
   "metadata": {},
   "outputs": [],
   "source": [
    "# r.evt_endReadout.flush()\n",
    "await r.cmd_takeImages.set_start(numImages=1,\n",
    "                                 expTime=5.,\n",
    "                                 shutter=True,\n",
    "                                 imageSequenceName='HD40762-0.0'\n",
    "                                )\n",
    "await asyncio.sleep(1)"
   ]
  },
  {
   "cell_type": "code",
   "execution_count": null,
   "metadata": {},
   "outputs": [],
   "source": [
    "# r.evt_endReadout.flush()\n",
    "await r.cmd_takeImages.set_start(numImages=1,\n",
    "                                 expTime=1.,\n",
    "                                 shutter=True,\n",
    "                                 imageSequenceName='HD40672-test'\n",
    "                                )"
   ]
  },
  {
   "cell_type": "code",
   "execution_count": 15,
   "metadata": {},
   "outputs": [
    {
     "data": {
      "text/plain": [
       "\u001b[0;31mSignature:\u001b[0m \u001b[0mhasattr\u001b[0m\u001b[0;34m(\u001b[0m\u001b[0mobj\u001b[0m\u001b[0;34m,\u001b[0m \u001b[0mname\u001b[0m\u001b[0;34m,\u001b[0m \u001b[0;34m/\u001b[0m\u001b[0;34m)\u001b[0m\u001b[0;34m\u001b[0m\u001b[0;34m\u001b[0m\u001b[0m\n",
       "\u001b[0;31mDocstring:\u001b[0m\n",
       "Return whether the object has an attribute with the given name.\n",
       "\n",
       "This is done by calling getattr(obj, name) and catching AttributeError.\n",
       "\u001b[0;31mType:\u001b[0m      builtin_function_or_method\n"
      ]
     },
     "metadata": {},
     "output_type": "display_data"
    }
   ],
   "source": [
    "hasattr?"
   ]
  },
  {
   "cell_type": "code",
   "execution_count": null,
   "metadata": {},
   "outputs": [],
   "source": [
    "group_id_data = \"arbitrary value\"\n",
    "\n",
    "if hasattr(harness.script.cmd_setGroupId):\n",
    "    group_id_data = harness.script.cmd_setGroupId.DataType(groupId=\"arbitrary value\")"
   ]
  }
 ],
 "metadata": {
  "kernelspec": {
   "display_name": "Python 3",
   "language": "python",
   "name": "python3"
  },
  "language_info": {
   "codemirror_mode": {
    "name": "ipython",
    "version": 3
   },
   "file_extension": ".py",
   "mimetype": "text/x-python",
   "name": "python",
   "nbconvert_exporter": "python",
   "pygments_lexer": "ipython3",
   "version": "3.7.2"
  }
 },
 "nbformat": 4,
 "nbformat_minor": 4
}
