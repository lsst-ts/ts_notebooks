{
 "cells": [
  {
   "cell_type": "code",
   "execution_count": null,
   "metadata": {},
   "outputs": [],
   "source": [
    "import sys\n",
    "import asyncio\n",
    "import logging\n",
    "\n",
    "import numpy as np\n",
    "\n",
    "from lsst.ts import salobj\n",
    "\n",
    "\n",
    "from lsst.ts.standardscripts.auxtel.attcs import ATTCS"
   ]
  },
  {
   "cell_type": "code",
   "execution_count": null,
   "metadata": {},
   "outputs": [],
   "source": [
    "attcs = ATTCS()"
   ]
  },
  {
   "cell_type": "code",
   "execution_count": null,
   "metadata": {},
   "outputs": [],
   "source": [
    "await attcs.start_task"
   ]
  },
  {
   "cell_type": "code",
   "execution_count": null,
   "metadata": {},
   "outputs": [],
   "source": [
    "logger = salobj.Controller(\"Script\", index=1)"
   ]
  },
  {
   "cell_type": "code",
   "execution_count": null,
   "metadata": {},
   "outputs": [],
   "source": [
    "await logger.start_task"
   ]
  },
  {
   "cell_type": "code",
   "execution_count": null,
   "metadata": {},
   "outputs": [],
   "source": []
  },
  {
   "cell_type": "code",
   "execution_count": null,
   "metadata": {},
   "outputs": [],
   "source": [
    "r = salobj.Remote(attcs.domain, \"GenericCamera\", 1)"
   ]
  },
  {
   "cell_type": "code",
   "execution_count": 9,
   "metadata": {},
   "outputs": [
    {
     "data": {
      "text/plain": [
       "<lsst.ts.salobj.ddsutil.ATHexapod_ackcmd_32454a1f at 0x7f360b1bdda0>"
      ]
     },
     "execution_count": 9,
     "metadata": {},
     "output_type": "execute_result"
    }
   ],
   "source": [
    "await attcs.athexapod.cmd_moveToPosition.set_start(x=-4.30, y=1.20, z=0.50+0.034, u=0.35, v=0.22, w=0., timeout=30.)"
   ]
  },
  {
   "cell_type": "code",
   "execution_count": null,
   "metadata": {},
   "outputs": [],
   "source": [
    "ref_pos = [-4.30, 1.20, 0.50, 0.35, 0.22, 0.]\n",
    "offset = 1.5"
   ]
  },
  {
   "cell_type": "code",
   "execution_count": null,
   "metadata": {},
   "outputs": [],
   "source": [
    "await r.cmd_stopLiveView.start()"
   ]
  },
  {
   "cell_type": "code",
   "execution_count": null,
   "metadata": {},
   "outputs": [],
   "source": [
    "logger.evt_logMessage.set_put(message=\"Test Starting\")\n",
    "# intra\n",
    "print(\"Moving hexapod intra\")\n",
    "await attcs.athexapod.cmd_moveToPosition.set_start(x=ref_pos[0], \n",
    "                                                   y=ref_pos[1], \n",
    "                                                   z=ref_pos[2]-offset, \n",
    "                                                   u=ref_pos[3], \n",
    "                                                   v=ref_pos[4], \n",
    "                                                   w=ref_pos[5], \n",
    "                                                   timeout=30.)\n",
    "print(\"Taking image\")\n",
    "await r.cmd_takeImages.set_start(numImages=1,\n",
    "                                 expTime=15.,\n",
    "                                 shutter=True,\n",
    "                                 imageSequenceName='HIP25531_intra')\n",
    "# extra\n",
    "print(\"Moving hexapod extra\")\n",
    "await attcs.athexapod.cmd_moveToPosition.set_start(x=ref_pos[0], \n",
    "                                                   y=ref_pos[1], \n",
    "                                                   z=ref_pos[2]+offset, \n",
    "                                                   u=ref_pos[3], \n",
    "                                                   v=ref_pos[4], \n",
    "                                                   w=ref_pos[5], \n",
    "                                                   timeout=30.)\n",
    "print(\"Taking image\")\n",
    "await r.cmd_takeImages.set_start(numImages=1,\n",
    "                                 expTime=15.,\n",
    "                                 shutter=True,\n",
    "                                 imageSequenceName='HIP25531_extra')\n",
    "print(\"Done\")\n",
    "logger.evt_logMessage.set_put(message=\"Test Ending\")"
   ]
  },
  {
   "cell_type": "code",
   "execution_count": null,
   "metadata": {},
   "outputs": [],
   "source": []
  },
  {
   "cell_type": "code",
   "execution_count": null,
   "metadata": {},
   "outputs": [],
   "source": []
  },
  {
   "cell_type": "code",
   "execution_count": null,
   "metadata": {},
   "outputs": [],
   "source": []
  },
  {
   "cell_type": "code",
   "execution_count": null,
   "metadata": {},
   "outputs": [],
   "source": []
  },
  {
   "cell_type": "code",
   "execution_count": null,
   "metadata": {},
   "outputs": [],
   "source": [
    "await r.cmd_startLiveView.set_start(expTime=0.5)"
   ]
  },
  {
   "cell_type": "code",
   "execution_count": null,
   "metadata": {},
   "outputs": [],
   "source": [
    "await salobj.set_summary_state(attcs.athexapod, salobj.State.STANDBY)"
   ]
  },
  {
   "cell_type": "code",
   "execution_count": 8,
   "metadata": {},
   "outputs": [
    {
     "data": {
      "text/plain": [
       "[<State.DISABLED: 1>, <State.ENABLED: 2>]"
      ]
     },
     "execution_count": 8,
     "metadata": {},
     "output_type": "execute_result"
    }
   ],
   "source": [
    "await asyncio.sleep(5)\n",
    "await salobj.set_summary_state(attcs.athexapod, salobj.State.ENABLED, settingsToApply=\"current\")"
   ]
  },
  {
   "cell_type": "code",
   "execution_count": 7,
   "metadata": {},
   "outputs": [
    {
     "data": {
      "text/plain": [
       "<lsst.ts.salobj.ddsutil.ATHexapod_ackcmd_32454a1f at 0x7f360de7c5c0>"
      ]
     },
     "execution_count": 7,
     "metadata": {},
     "output_type": "execute_result"
    }
   ],
   "source": [
    "await attcs.athexapod.cmd_start.set_start(settingsToApply=\"current\")"
   ]
  },
  {
   "cell_type": "code",
   "execution_count": null,
   "metadata": {},
   "outputs": [],
   "source": []
  }
 ],
 "metadata": {
  "kernelspec": {
   "display_name": "Python 3",
   "language": "python",
   "name": "python3"
  },
  "language_info": {
   "codemirror_mode": {
    "name": "ipython",
    "version": 3
   },
   "file_extension": ".py",
   "mimetype": "text/x-python",
   "name": "python",
   "nbconvert_exporter": "python",
   "pygments_lexer": "ipython3",
   "version": "3.7.2"
  }
 },
 "nbformat": 4,
 "nbformat_minor": 4
}
