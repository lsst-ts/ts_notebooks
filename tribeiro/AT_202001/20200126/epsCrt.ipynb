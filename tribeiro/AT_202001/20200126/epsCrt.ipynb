{
 "cells": [
  {
   "cell_type": "code",
   "execution_count": 1,
   "metadata": {},
   "outputs": [],
   "source": [
    "import os\n",
    "import copy\n",
    "import wget\n",
    "import time\n",
    "import asyncio\n",
    "import warnings\n",
    "import logging\n",
    "\n",
    "import numpy as np\n",
    "\n",
    "from lsst.ts import salobj\n",
    "from lsst.ts.standardscripts.auxtel.attcs import ATTCS\n",
    "\n",
    "%matplotlib inline"
   ]
  },
  {
   "cell_type": "code",
   "execution_count": 2,
   "metadata": {},
   "outputs": [
    {
     "name": "stderr",
     "output_type": "stream",
     "text": [
      "RemoteEvent(ATDomeTrajectory, 0, logMessage) falling behind; read 100 messages\n",
      "RemoteTelemetry(ATDome, 0, position) falling behind; read 27 messages\n"
     ]
    },
    {
     "data": {
      "text/plain": [
       "[[None, None, None, None, None, None, None], None]"
      ]
     },
     "execution_count": 2,
     "metadata": {},
     "output_type": "execute_result"
    }
   ],
   "source": [
    "attcs = ATTCS()\n",
    "cam = salobj.Remote(attcs.domain, \"GenericCamera\", 1)\n",
    "\n",
    "await asyncio.gather(attcs.start_task, cam.start_task) "
   ]
  },
  {
   "cell_type": "code",
   "execution_count": 6,
   "metadata": {},
   "outputs": [],
   "source": [
    "# Declare target name\n",
    "target_name='epsCrt'\n",
    "expTime=60"
   ]
  },
  {
   "cell_type": "code",
   "execution_count": 7,
   "metadata": {},
   "outputs": [],
   "source": [
    "reset_offset = {'m1': 0.0,\n",
    "          'm2': 0.0,\n",
    "          'x': 0. ,\n",
    "          'y': 0.,\n",
    "          'z': 0.,\n",
    "          'u': 0.0,\n",
    "          'v': 0.0\n",
    "          }\n",
    "\n"
   ]
  },
  {
   "cell_type": "code",
   "execution_count": 20,
   "metadata": {},
   "outputs": [
    {
     "name": "stdout",
     "output_type": "stream",
     "text": [
      "Move to intrafocal position\n",
      "Take intrafocal image\n",
      "Move to extra-focal hexapod position\n",
      "Take extra-focal image\n",
      "============\n",
      "dz=0.8\n",
      "1580108605-epsCrt_intra-0-1\n",
      "1580108673-epsCrt_extra-0-1\n",
      "============\n",
      "['1580108605-epsCrt_intra-0-1.fits'], ['1580108673-epsCrt_extra-0-1.fits']\n",
      "227.7985615575302\n"
     ]
    }
   ],
   "source": [
    "dz = 0.8\n",
    "\n",
    "offset_intra = {'m1': 0.0,\n",
    "          'm2': 0.0,\n",
    "          'x': 0.0,\n",
    "          'y': 0.0,\n",
    "          'z': -dz,\n",
    "          'u': 0.0,\n",
    "          'v': 0.0\n",
    "          }\n",
    "\n",
    "offset_extra = {'m1': 0.0,\n",
    "          'm2': 0.0,\n",
    "          'x': 0.0,\n",
    "          'y': 0.0,\n",
    "          'z': 2*dz,\n",
    "          'u': 0.0,\n",
    "          'v': 0.0\n",
    "          }\n",
    "\n",
    "\n",
    "try:\n",
    "    await cam.cmd_stopLiveView.start()\n",
    "except salobj.AckError:\n",
    "    print(\"ack error\")\n",
    "\n",
    "# Intrafocal hexapod setting - offsets -0.5mm from central focus value above\n",
    "\n",
    "print('Move to intrafocal position')\n",
    "# await attcs.athexapod.cmd_moveToPosition.set_start(x=hex_X, y=hex_Y,\n",
    "#                                              z=hex_Z-dz, u=hex_U, v=hex_V)\n",
    "attcs.athexapod.evt_positionUpdate.flush()\n",
    "await attcs.ataos.cmd_offset.set_start(**offset_intra)\n",
    "curr_hex_pos = await attcs.athexapod.evt_positionUpdate.next(flush=False, timeout=30)\n",
    "\n",
    "print('Take intrafocal image')\n",
    "cam.evt_endReadout.flush()\n",
    "\n",
    "try:\n",
    "    await cam.cmd_takeImages.set_start(numImages=1, expTime=expTime, shutter=True, imageSequenceName=target_name+'_intra')\n",
    "except Exception as e:\n",
    "    await attcs.ataos.cmd_offset.set_start(z=dz)\n",
    "    raise e\n",
    "\n",
    "intra_endron = await cam.evt_endReadout.next(flush=False, timeout=5)\n",
    "\n",
    "# Extrafocal hexapod setting\n",
    "print('Move to extra-focal hexapod position')\n",
    "# await attcs.athexapod.cmd_moveToPosition.set_start(x=hex_X, y=hex_Y,\n",
    "#                                                      z=hex_Z+dz, u=hex_U, v=hex_V)\n",
    "attcs.athexapod.evt_positionUpdate.flush()\n",
    "await attcs.ataos.cmd_offset.set_start(**offset_extra)\n",
    "curr_hex_pos = await attcs.athexapod.evt_positionUpdate.next(flush=False, timeout=30)\n",
    "\n",
    "# r.evt_endReadout.flush()\n",
    "print('Take extra-focal image')\n",
    "cam.evt_endReadout.flush()\n",
    "try:\n",
    "    await cam.cmd_takeImages.set_start(numImages=1, expTime=expTime, shutter=True, imageSequenceName=target_name+'_extra')\n",
    "except Exception as e:\n",
    "    await attcs.ataos.cmd_offset.set_start(z=-dz)\n",
    "    raise e\n",
    "\n",
    "extra_endron = await cam.evt_endReadout.next(flush=False, timeout=5)\n",
    "\n",
    "azel = await attcs.atmcs.tel_mount_AzEl_Encoders.aget()\n",
    "nasmyth = await attcs.atmcs.tel_mount_Nasmyth_Encoders.aget()\n",
    "\n",
    "print(f\"============\")\n",
    "print(f\"dz={dz}\")\n",
    "print(intra_endron.imageName)\n",
    "print(extra_endron.imageName)\n",
    "print(f\"============\")\n",
    "\n",
    "try:\n",
    "    await cam.cmd_startLiveView.set_start(expTime=0.5)\n",
    "except salobj.AckError:\n",
    "    print(\"ack error\")\n",
    "\n",
    "attcs.athexapod.evt_positionUpdate.flush()\n",
    "await attcs.ataos.cmd_offset.set_start(z=-dz)\n",
    "curr_hex_pos = await attcs.athexapod.evt_positionUpdate.next(flush=False, timeout=30)\n",
    "\n",
    "print(f\"['{intra_endron.imageName}.fits'], ['{extra_endron.imageName}.fits']\")\n",
    "print(np.mean(azel.elevationCalculatedAngle)+np.mean(nasmyth.nasmyth1CalculatedAngle))\n",
    "\n",
    "# intra_wget_url = 'http://139.229.170.216:8000/data/'+intra_endron.imageName+'.fits'\n",
    "# extra_wget_url = 'http://139.229.170.216:8000/data/'+extra_endron.imageName+'.fits'\n",
    "# intra_fname = wget.download(intra_wget_url)\n",
    "# print(f\"============\")\n",
    "# print(f'{intra_fname}')\n",
    "# extra_fname = wget.download(extra_wget_url)\n",
    "# print(f'{extra_fname}')\n",
    "# print(f\"============\")\n",
    "\n",
    "\n"
   ]
  },
  {
   "cell_type": "code",
   "execution_count": 21,
   "metadata": {},
   "outputs": [
    {
     "name": "stdout",
     "output_type": "stream",
     "text": [
      "cwfs/data/1580108605-epsCrt_intra-0-1.fits cwfs/data/1580108673-epsCrt_extra-0-1.fits\n"
     ]
    }
   ],
   "source": [
    "intra_wget_url = 'http://139.229.170.216:8000/data/'+intra_endron.imageName+'.fits'\n",
    "extra_wget_url = 'http://139.229.170.216:8000/data/'+extra_endron.imageName+'.fits'\n",
    "\n",
    "intra_fname = wget.download(intra_wget_url, out=\"cwfs/data\")\n",
    "extra_fname = wget.download(extra_wget_url, out=\"cwfs/data\")\n",
    "\n",
    "print(intra_fname,extra_fname)"
   ]
  },
  {
   "cell_type": "code",
   "execution_count": 19,
   "metadata": {},
   "outputs": [
    {
     "data": {
      "text/plain": [
       "True"
      ]
     },
     "execution_count": 19,
     "metadata": {},
     "output_type": "execute_result"
    }
   ],
   "source": [
    "offset = {'m1': 0.0,\n",
    "          'm2': 0.0,\n",
    "          'x': 0. ,\n",
    "          'y': 0.,\n",
    "          'z': 0.0538182,\n",
    "          'u': 0.0,\n",
    "          'v': 0.0\n",
    "          }\n",
    "\n",
    "\n",
    "await attcs.ataos.cmd_offset.set_start(**offset)\n",
    "attcs.ataos.cmd_offset.set(**reset_offset)\n",
    "\n",
    "# await attcs.ataos.cmd_applyAxisOffset.set_start(axis=\"x\", offset=x_offset)\n",
    "# await attcs.ataos.cmd_applyAxisOffset.set_start(axis=\"y\", offset=y_offset)"
   ]
  },
  {
   "cell_type": "code",
   "execution_count": 22,
   "metadata": {},
   "outputs": [
    {
     "data": {
      "text/plain": [
       "<lsst.ts.salobj.ddsutil.GenericCamera_ackcmd_bde417f6 at 0x7f3e2a7f68d0>"
      ]
     },
     "execution_count": 22,
     "metadata": {},
     "output_type": "execute_result"
    }
   ],
   "source": [
    "await cam.cmd_stopLiveView.start()"
   ]
  },
  {
   "cell_type": "code",
   "execution_count": 23,
   "metadata": {},
   "outputs": [
    {
     "data": {
      "text/plain": [
       "[<State.ENABLED: 2>, <State.DISABLED: 1>, <State.STANDBY: 5>]"
      ]
     },
     "execution_count": 23,
     "metadata": {},
     "output_type": "execute_result"
    }
   ],
   "source": [
    "await salobj.set_summary_state(cam, salobj.State.STANDBY)"
   ]
  },
  {
   "cell_type": "code",
   "execution_count": null,
   "metadata": {},
   "outputs": [],
   "source": []
  }
 ],
 "metadata": {
  "kernelspec": {
   "display_name": "Python 3",
   "language": "python",
   "name": "python3"
  },
  "language_info": {
   "codemirror_mode": {
    "name": "ipython",
    "version": 3
   },
   "file_extension": ".py",
   "mimetype": "text/x-python",
   "name": "python",
   "nbconvert_exporter": "python",
   "pygments_lexer": "ipython3",
   "version": "3.7.2"
  }
 },
 "nbformat": 4,
 "nbformat_minor": 4
}
