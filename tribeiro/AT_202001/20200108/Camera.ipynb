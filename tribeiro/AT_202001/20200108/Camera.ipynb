{
 "cells": [
  {
   "cell_type": "code",
   "execution_count": 1,
   "metadata": {},
   "outputs": [],
   "source": [
    "from lsst.ts import salobj\n",
    "\n",
    "import asyncio\n",
    "import wget"
   ]
  },
  {
   "cell_type": "code",
   "execution_count": 2,
   "metadata": {},
   "outputs": [],
   "source": [
    "d = salobj.Domain()"
   ]
  },
  {
   "cell_type": "code",
   "execution_count": 3,
   "metadata": {},
   "outputs": [],
   "source": [
    "r = salobj.Remote(d, \"GenericCamera\", 1)"
   ]
  },
  {
   "cell_type": "code",
   "execution_count": 4,
   "metadata": {},
   "outputs": [],
   "source": [
    "await r.start_task"
   ]
  },
  {
   "cell_type": "code",
   "execution_count": 5,
   "metadata": {},
   "outputs": [
    {
     "name": "stdout",
     "output_type": "stream",
     "text": [
      "GenericCameraID: 1, private_revCode: d2d79f60, private_sndStamp: 1578534461.8672192, private_rcvStamp: 1578534461.887997, private_seqNum: 2189697, private_origin: 19, private_host: 915982731, heartbeat: False, priority: 0\n",
      "GenericCameraID: 1, private_revCode: d2d79f60, private_sndStamp: 1578534462.8869324, private_rcvStamp: 1578534462.904613, private_seqNum: 2189698, private_origin: 19, private_host: 915982731, heartbeat: False, priority: 0\n",
      "GenericCameraID: 1, private_revCode: d2d79f60, private_sndStamp: 1578534463.9066906, private_rcvStamp: 1578534463.9276106, private_seqNum: 2189699, private_origin: 19, private_host: 915982731, heartbeat: False, priority: 0\n"
     ]
    }
   ],
   "source": [
    "for i in range(3):\n",
    "    print(await r.evt_heartbeat.next(flush=True, timeout=60))"
   ]
  },
  {
   "cell_type": "code",
   "execution_count": null,
   "metadata": {},
   "outputs": [],
   "source": [
    "await asyncio.sleep(5.)\n",
    "await salobj.set_summary_state(r, salobj.State.ENABLED, settingsToApply=\"zwo_4x4_nofw.yaml\")"
   ]
  },
  {
   "cell_type": "code",
   "execution_count": null,
   "metadata": {},
   "outputs": [],
   "source": [
    "await r.cmd_start.set_start(settingsToApply=\"zwo_4x4.yaml\")"
   ]
  },
  {
   "cell_type": "code",
   "execution_count": null,
   "metadata": {},
   "outputs": [],
   "source": [
    "print(\"Sleep 5s\")\n",
    "await asyncio.sleep(5)\n",
    "print(\"Done\")\n",
    "await salobj.set_summary_state(r, salobj.State.STANDBY)"
   ]
  },
  {
   "cell_type": "code",
   "execution_count": null,
   "metadata": {},
   "outputs": [],
   "source": [
    "await r.cmd_startLiveView.set_start(expTime=0.5)"
   ]
  },
  {
   "cell_type": "code",
   "execution_count": null,
   "metadata": {},
   "outputs": [],
   "source": [
    "await "
   ]
  },
  {
   "cell_type": "code",
   "execution_count": null,
   "metadata": {},
   "outputs": [],
   "source": [
    "lv = await r.evt_startLiveView.aget()"
   ]
  },
  {
   "cell_type": "code",
   "execution_count": null,
   "metadata": {},
   "outputs": [],
   "source": [
    "print(lv)"
   ]
  },
  {
   "cell_type": "code",
   "execution_count": null,
   "metadata": {},
   "outputs": [],
   "source": [
    "await r.cmd_stopLiveView.start(timeout=10)"
   ]
  },
  {
   "cell_type": "code",
   "execution_count": null,
   "metadata": {},
   "outputs": [],
   "source": [
    "# await asyncio.sleep(5)\n",
    "await salobj.set_summary_state(r, salobj.State.OFFLINE)"
   ]
  },
  {
   "cell_type": "code",
   "execution_count": null,
   "metadata": {},
   "outputs": [],
   "source": [
    "await r.evt_startLiveView.next(timeout=10, flush=False)"
   ]
  },
  {
   "cell_type": "code",
   "execution_count": null,
   "metadata": {},
   "outputs": [],
   "source": [
    "await r.evt_startLiveView.next(timeout=1, flush=False)"
   ]
  },
  {
   "cell_type": "code",
   "execution_count": null,
   "metadata": {},
   "outputs": [],
   "source": [
    "await r.evt_sto .next(timeout=1, flush=False)"
   ]
  },
  {
   "cell_type": "code",
   "execution_count": null,
   "metadata": {},
   "outputs": [],
   "source": [
    "await asyncio.sleep(5)\n",
    "ss = await r.evt_summaryState.next(timeout=5, flush=False)"
   ]
  },
  {
   "cell_type": "code",
   "execution_count": null,
   "metadata": {},
   "outputs": [],
   "source": [
    "ss = r.evt_summaryState.get()"
   ]
  },
  {
   "cell_type": "code",
   "execution_count": null,
   "metadata": {},
   "outputs": [],
   "source": [
    "print(salobj.State(ss.summaryState))"
   ]
  },
  {
   "cell_type": "code",
   "execution_count": null,
   "metadata": {},
   "outputs": [],
   "source": [
    "err = await r.evt_errorCode.next(flush=True, timeout=1)"
   ]
  },
  {
   "cell_type": "code",
   "execution_count": null,
   "metadata": {},
   "outputs": [],
   "source": [
    "# r.evt_endReadout.flush()\n",
    "await r.cmd_takeImages.set_start(numImages=1,\n",
    "                                 expTime=1.,\n",
    "                                 shutter=True,\n",
    "                                 imageSequenceName='test'\n",
    "                                )"
   ]
  },
  {
   "cell_type": "code",
   "execution_count": null,
   "metadata": {},
   "outputs": [],
   "source": [
    "er = await r.evt_endReadout.next(flush=False, timeout=1)"
   ]
  },
  {
   "cell_type": "code",
   "execution_count": null,
   "metadata": {},
   "outputs": [],
   "source": [
    "er = r.evt_endReadout.get()"
   ]
  },
  {
   "cell_type": "code",
   "execution_count": null,
   "metadata": {},
   "outputs": [],
   "source": [
    "er.imageName"
   ]
  },
  {
   "cell_type": "code",
   "execution_count": null,
   "metadata": {},
   "outputs": [],
   "source": [
    "await asyncio.sleep(5)\n",
    "lv = await r.evt_startLiveView.next(flush=False, timeout=5)\n",
    "lv = r.evt_startLiveView.get()"
   ]
  },
  {
   "cell_type": "code",
   "execution_count": 20,
   "metadata": {},
   "outputs": [],
   "source": [
    "async def end_readout_callback(data):\n",
    "    await asyncio.sleep(1.)\n",
    "    filename = wget.download(f\"http://139.229.170.216:8000/data/{data.imageName}.fits\")\n",
    "    print(filename)"
   ]
  },
  {
   "cell_type": "code",
   "execution_count": 21,
   "metadata": {},
   "outputs": [],
   "source": [
    "r.evt_endReadout.callback=end_readout_callback"
   ]
  },
  {
   "cell_type": "code",
   "execution_count": 22,
   "metadata": {},
   "outputs": [
    {
     "name": "stdout",
     "output_type": "stream",
     "text": [
      "1578539864-psf-0-1.fits\n"
     ]
    }
   ],
   "source": [
    "await asyncio.sleep(10)"
   ]
  },
  {
   "cell_type": "code",
   "execution_count": null,
   "metadata": {},
   "outputs": [],
   "source": [
    "await asyncio.sleep(120)"
   ]
  },
  {
   "cell_type": "code",
   "execution_count": null,
   "metadata": {},
   "outputs": [],
   "source": [
    "await asyncio.sleep(240)"
   ]
  },
  {
   "cell_type": "code",
   "execution_count": null,
   "metadata": {},
   "outputs": [
    {
     "name": "stdout",
     "output_type": "stream",
     "text": [
      "1578539930-psf-0-1.fits\n",
      "1578539967-psf-0-1.fits\n",
      "1578540029-psf-0-15.fits\n",
      "1578540031-psf-1-15.fits\n",
      "1578540032-psf-2-15.fits\n",
      "1578540034-psf-3-15.fits\n",
      "1578540036-psf-4-15.fits\n",
      "1578540037-psf-5-15.fits\n",
      "1578540039-psf-6-15.fits\n",
      "1578540040-psf-7-15.fits\n",
      "1578540042-psf-8-15.fits\n",
      "1578540043-psf-9-15.fits\n",
      "1578540045-psf-10-15.fits\n",
      "1578540046-psf-11-15.fits\n",
      "1578540048-psf-12-15.fits\n",
      "1578540050-psf-13-15.fits\n",
      "1578540051-psf-14-15.fits\n",
      "1578540062-psf-0-15.fits\n",
      "1578540064-psf-1-15.fits\n",
      "1578540065-psf-2-15.fits\n",
      "1578540067-psf-3-15.fits\n",
      "1578540069-psf-4-15.fits\n",
      "1578540070-psf-5-15.fits\n",
      "1578540072-psf-6-15.fits\n",
      "1578540073-psf-7-15.fits\n",
      "1578540075-psf-8-15.fits\n",
      "1578540077-psf-9-15.fits\n",
      "1578540078-psf-10-15.fits\n",
      "1578540080-psf-11-15.fits\n",
      "1578540081-psf-12-15.fits\n",
      "1578540083-psf-13-15.fits\n",
      "1578540084-psf-14-15.fits\n",
      "1578540108-10Lep-0-1.fits\n",
      "1578540136-10Lep-0-1.fits\n",
      "1578540468-10Lep-0-1.fits\n",
      "1578540496-10Lep-0-1.fits\n",
      "1578540753-10Lep-0-1.fits\n",
      "1578540781-10Lep-0-1.fits\n",
      "1578540963-10Lep-0-1.fits\n",
      "1578540991-10Lep-0-1.fits\n",
      "1578541220-10Lep-0-1.fits\n",
      "1578541248-10Lep-0-1.fits\n",
      "1578541566-nuLep-0-1.fits\n",
      "1578541594-nuLep-0-1.fits\n",
      "1578541863-nuLep-0-1.fits\n",
      "1578541891-nuLep-0-1.fits\n",
      "1578542143-HIP24493-0-1.fits\n",
      "1578542171-HIP24493-0-1.fits\n",
      "1578542455-HIP25041-0-1.fits\n",
      "1578542773-HIP25041-0-1.fits\n",
      "1578542801-HIP25041-0-1.fits\n",
      "1578543015-HIP23043-0-1.fits\n",
      "1578543043-HIP23043-0-1.fits\n",
      "1578543597-pTau-0-1.fits\n",
      "1578543625-pTau-0-1.fits\n",
      "1578543808-pTau-0-1.fits\n",
      "1578543836-pTau-0-1.fits\n",
      "1578544029-pTau-0-1.fits\n",
      "1578544069-pTau-0-1.fits\n",
      "1578544378-HIP23043-0-1.fits\n",
      "1578544406-HIP23043-0-1.fits\n",
      "1578544797-pTau-0-1.fits\n",
      "1578544825-pTau-0-1.fits\n",
      "1578545134-HIP23043-0-1.fits\n",
      "1578545162-HIP23043-0-1.fits\n",
      "1578545384-HIP23043-0-1.fits\n",
      "1578545412-HIP23043-0-1.fits\n",
      "1578545714-HIP23043-0-1.fits\n",
      "1578545742-HIP23043-0-1.fits\n",
      "1578545943-HIP23043-0-1.fits\n",
      "1578545971-HIP23043-0-1.fits\n",
      "1578546473-L_Vel-0-1.fits\n",
      "1578546501-L_Vel-0-1.fits\n",
      "1578546616-L_Vel-0-1.fits\n",
      "1578546644-L_Vel-0-1.fits\n",
      "1578546849-L_Vel-0-1.fits\n",
      "1578546877-L_Vel-0-1.fits\n",
      "1578547083-L_Vel-0-1.fits\n",
      "1578547111-L_Vel-0-1.fits\n",
      "1578547480-L_Vel-0-1.fits\n",
      "1578547507-L_Vel-0-1.fits\n",
      "1578547813-L_Vel-0-1.fits\n",
      "1578547841-L_Vel-0-1.fits\n",
      "1578548066-L_Vel-0-1.fits\n",
      "1578548094-L_Vel-0-1.fits\n",
      "1578548373-L_Vel-0-1.fits\n",
      "1578548401-L_Vel-0-1.fits\n",
      "1578548775-n_Vel-0-1.fits\n",
      "1578548803-n_Vel-0-1.fits\n",
      "1578548948-n_Vel-0-1.fits\n",
      "1578548976-n_Vel-0-1.fits\n",
      "1578549286-n_Vel-0-1.fits\n",
      "1578549333-n_Vel-0-1.fits\n",
      "1578549581-n_Vel-0-1.fits\n",
      "1578549609-n_Vel-0-1.fits\n",
      "1578549843-n_Vel-0-1.fits\n",
      "1578549870-n_Vel-0-1.fits\n",
      "1578550018-n_Vel-0-1.fits\n",
      "1578550045-n_Vel-0-1.fits\n",
      "1578550215-psf-0-1.fits\n",
      "1578550249-psf-0-1.fits\n",
      "1578550257-psf-0-1.fits\n",
      "1578550268-psf-0-1.fits\n",
      "1578550298-psf-0-1.fits\n",
      "1578550299-psf-0-1.fits\n",
      "1578550300-psf-0-1.fits\n",
      "1578550301-psf-0-1.fits\n",
      "1578550302-psf-0-1.fits\n",
      "1578550324-psf-0-1.fits\n",
      "1578550344-psf-0-50.fits\n",
      "1578550345-psf-1-50.fits\n",
      "1578550346-psf-2-50.fits\n",
      "1578550347-psf-3-50.fits\n",
      "1578550348-psf-4-50.fits\n",
      "1578550349-psf-5-50.fits\n",
      "1578550349-psf-6-50.fits\n",
      "1578550350-psf-7-50.fits\n",
      "1578550351-psf-8-50.fits\n",
      "1578550352-psf-9-50.fits\n",
      "1578550353-psf-10-50.fits\n",
      "1578550354-psf-11-50.fits\n",
      "1578550355-psf-12-50.fits\n",
      "1578550356-psf-13-50.fits\n",
      "1578550357-psf-14-50.fits\n",
      "1578550357-psf-15-50.fits\n",
      "1578550358-psf-16-50.fits\n",
      "1578550359-psf-17-50.fits\n",
      "1578550360-psf-18-50.fits\n",
      "1578550361-psf-19-50.fits\n",
      "1578550362-psf-20-50.fits\n",
      "1578550362-psf-21-50.fits\n",
      "1578550363-psf-22-50.fits\n",
      "1578550364-psf-23-50.fits\n",
      "1578550365-psf-24-50.fits\n",
      "1578550366-psf-25-50.fits\n",
      "1578550367-psf-26-50.fits\n",
      "1578550368-psf-27-50.fits\n",
      "1578550369-psf-28-50.fits\n",
      "1578550369-psf-29-50.fits\n",
      "1578550370-psf-30-50.fits\n",
      "1578550371-psf-31-50.fits\n",
      "1578550372-psf-32-50.fits\n",
      "1578550373-psf-33-50.fits\n",
      "1578550374-psf-34-50.fits\n",
      "1578550374-psf-35-50.fits\n",
      "1578550375-psf-36-50.fits\n",
      "1578550376-psf-37-50.fits\n"
     ]
    },
    {
     "name": "stderr",
     "output_type": "stream",
     "text": [
      "falling behind; queue contains 10 elements\n"
     ]
    },
    {
     "name": "stdout",
     "output_type": "stream",
     "text": [
      "1578550377-psf-38-50.fits\n",
      "1578550378-psf-39-50.fits\n",
      "1578550379-psf-40-50.fits\n",
      "1578550380-psf-41-50.fits\n",
      "1578550380-psf-42-50.fits\n",
      "1578550381-psf-43-50.fits\n",
      "1578550382-psf-44-50.fits\n",
      "1578550383-psf-45-50.fits\n",
      "1578550384-psf-46-50.fits\n",
      "1578550385-psf-47-50.fits\n",
      "1578550386-psf-48-50.fits\n",
      "1578550386-psf-49-50.fits\n",
      "1578550393-psf-0-50.fits\n",
      "1578550394-psf-1-50.fits\n",
      "1578550395-psf-2-50.fits\n",
      "1578550396-psf-3-50.fits\n",
      "1578550397-psf-4-50.fits\n",
      "1578550397-psf-5-50.fits\n",
      "1578550398-psf-6-50.fits\n",
      "1578550399-psf-7-50.fits\n",
      "1578550400-psf-8-50.fits\n",
      "1578550401-psf-9-50.fits\n",
      "1578550402-psf-10-50.fits\n",
      "1578550403-psf-11-50.fits\n",
      "1578550404-psf-12-50.fits\n",
      "1578550404-psf-13-50.fits\n",
      "1578550405-psf-14-50.fits\n",
      "1578550406-psf-15-50.fits\n",
      "1578550407-psf-16-50.fits\n",
      "1578550408-psf-17-50.fits\n"
     ]
    },
    {
     "name": "stderr",
     "output_type": "stream",
     "text": [
      "falling behind; queue contains 10 elements\n"
     ]
    },
    {
     "name": "stdout",
     "output_type": "stream",
     "text": [
      "1578550409-psf-18-50.fits\n",
      "1578550409-psf-19-50.fits\n",
      "1578550410-psf-20-50.fits\n",
      "1578550411-psf-21-50.fits\n",
      "1578550412-psf-22-50.fits\n",
      "1578550413-psf-23-50.fits\n",
      "1578550414-psf-24-50.fits\n",
      "1578550415-psf-25-50.fits\n",
      "1578550415-psf-26-50.fits\n",
      "1578550416-psf-27-50.fits\n",
      "1578550417-psf-28-50.fits\n",
      "1578550418-psf-29-50.fits\n",
      "1578550419-psf-30-50.fits\n",
      "1578550420-psf-31-50.fits\n",
      "1578550421-psf-32-50.fits\n",
      "1578550421-psf-33-50.fits\n",
      "1578550422-psf-34-50.fits\n",
      "1578550423-psf-35-50.fits\n",
      "1578550424-psf-36-50.fits\n",
      "1578550425-psf-37-50.fits\n",
      "1578550426-psf-38-50.fits\n",
      "1578550427-psf-39-50.fits\n",
      "1578550427-psf-40-50.fits\n",
      "1578550428-psf-41-50.fits\n",
      "1578550429-psf-42-50.fits\n",
      "1578550430-psf-43-50.fits\n",
      "1578550431-psf-44-50.fits\n",
      "1578550432-psf-45-50.fits\n",
      "1578550433-psf-46-50.fits\n",
      "1578550434-psf-47-50.fits\n",
      "1578550434-psf-48-50.fits\n",
      "1578550435-psf-49-50.fits\n"
     ]
    }
   ],
   "source": [
    "asyncio.get_event_loop().run_forever()"
   ]
  },
  {
   "cell_type": "code",
   "execution_count": null,
   "metadata": {},
   "outputs": [],
   "source": [
    "await asyncio.sleep(120)"
   ]
  },
  {
   "cell_type": "code",
   "execution_count": null,
   "metadata": {},
   "outputs": [],
   "source": [
    "await asyncio.sleep(120)"
   ]
  },
  {
   "cell_type": "code",
   "execution_count": null,
   "metadata": {},
   "outputs": [],
   "source": [
    "await asyncio.sleep(120)"
   ]
  },
  {
   "cell_type": "code",
   "execution_count": null,
   "metadata": {},
   "outputs": [],
   "source": [
    "await asyncio.sleep(120)"
   ]
  },
  {
   "cell_type": "code",
   "execution_count": null,
   "metadata": {},
   "outputs": [],
   "source": [
    "await asyncio.sleep(120)"
   ]
  },
  {
   "cell_type": "code",
   "execution_count": null,
   "metadata": {},
   "outputs": [],
   "source": [
    "await asyncio.sleep(120)"
   ]
  },
  {
   "cell_type": "code",
   "execution_count": null,
   "metadata": {},
   "outputs": [],
   "source": [
    "athex = salobj.Remote(d, 'ATHexapod')"
   ]
  },
  {
   "cell_type": "code",
   "execution_count": null,
   "metadata": {},
   "outputs": [],
   "source": [
    "await athex.start_task"
   ]
  },
  {
   "cell_type": "code",
   "execution_count": null,
   "metadata": {},
   "outputs": [],
   "source": [
    "pos = await athex.evt_positionUpdate.next(flush=False, timeout=5)"
   ]
  },
  {
   "cell_type": "code",
   "execution_count": null,
   "metadata": {},
   "outputs": [],
   "source": [
    "print(pos)"
   ]
  },
  {
   "cell_type": "code",
   "execution_count": null,
   "metadata": {},
   "outputs": [],
   "source": [
    "await athex.cmd_moveToPosition.set_start(x=-4., y=1.,z=0.38-0.65, u=0.35, v=0.22)"
   ]
  },
  {
   "cell_type": "code",
   "execution_count": null,
   "metadata": {},
   "outputs": [],
   "source": [
    "await athex.cmd_moveToPosition.set_start(x=-4., y=1.,z=0.38, u=0.35, v=0.22)"
   ]
  },
  {
   "cell_type": "code",
   "execution_count": null,
   "metadata": {},
   "outputs": [],
   "source": [
    "await athex.cmd_moveToPosition.set_start(x=-4., y=1.,z=0.45+0.5, u=0.35, v=0.22)"
   ]
  },
  {
   "cell_type": "code",
   "execution_count": null,
   "metadata": {},
   "outputs": [],
   "source": [
    "await athex.cmd_moveToPosition.set_start(x=-4.4, y=1.2,z=0.55+0.5, u=0.35, v=0.22)"
   ]
  },
  {
   "cell_type": "code",
   "execution_count": null,
   "metadata": {},
   "outputs": [],
   "source": [
    "# r.evt_endReadout.flush()\n",
    "await r.cmd_takeImages.set_start(numImages=1,\n",
    "                                 expTime=20.,\n",
    "                                 shutter=True,\n",
    "                                 imageSequenceName='HD40762+0.5'\n",
    "                                )\n",
    "await asyncio.sleep(1)"
   ]
  },
  {
   "cell_type": "code",
   "execution_count": null,
   "metadata": {},
   "outputs": [],
   "source": [
    "await athex.cmd_moveToPosition.set_start(x=-4.4, y=1.2,z=0.55-0.5, u=0.35, v=0.22)"
   ]
  },
  {
   "cell_type": "code",
   "execution_count": null,
   "metadata": {},
   "outputs": [],
   "source": [
    "# r.evt_endReadout.flush()\n",
    "await r.cmd_takeImages.set_start(numImages=1,\n",
    "                                 expTime=20.,\n",
    "                                 shutter=True,\n",
    "                                 imageSequenceName='HD40762-0.5'\n",
    "                                )\n",
    "await asyncio.sleep(1)"
   ]
  },
  {
   "cell_type": "code",
   "execution_count": null,
   "metadata": {},
   "outputs": [],
   "source": [
    "await athex.cmd_moveToPosition.set_start(x=-4.4, y=1.2,z=0.55-0., u=0.35, v=0.22)"
   ]
  },
  {
   "cell_type": "code",
   "execution_count": null,
   "metadata": {},
   "outputs": [],
   "source": [
    "await athex.cmd_moveToPosition.set_start(x=-4.3, \n",
    " y=1.3, \n",
    " z=1.05, \n",
    " u=0.35+1e-4,\n",
    " v=0.22)"
   ]
  },
  {
   "cell_type": "code",
   "execution_count": null,
   "metadata": {},
   "outputs": [],
   "source": []
  },
  {
   "cell_type": "code",
   "execution_count": null,
   "metadata": {},
   "outputs": [],
   "source": []
  },
  {
   "cell_type": "code",
   "execution_count": null,
   "metadata": {},
   "outputs": [],
   "source": []
  },
  {
   "cell_type": "code",
   "execution_count": null,
   "metadata": {},
   "outputs": [],
   "source": [
    "# r.evt_endReadout.flush()\n",
    "await r.cmd_takeImages.set_start(numImages=1,\n",
    "                                 expTime=10.,\n",
    "                                 shutter=True,\n",
    "                                 imageSequenceName='HD40762-0.0'\n",
    "                                )\n",
    "await asyncio.sleep(1)"
   ]
  },
  {
   "cell_type": "code",
   "execution_count": null,
   "metadata": {},
   "outputs": [],
   "source": [
    "# r.evt_endReadout.flush()\n",
    "await r.cmd_takeImages.set_start(numImages=1,\n",
    "                                 expTime=5.,\n",
    "                                 shutter=True,\n",
    "                                 imageSequenceName='HD40762-0.0'\n",
    "                                )\n",
    "await asyncio.sleep(1)"
   ]
  },
  {
   "cell_type": "code",
   "execution_count": null,
   "metadata": {},
   "outputs": [],
   "source": [
    "# r.evt_endReadout.flush()\n",
    "await r.cmd_takeImages.set_start(numImages=1,\n",
    "                                 expTime=1.,\n",
    "                                 shutter=True,\n",
    "                                 imageSequenceName='HD40672-test'\n",
    "                                )"
   ]
  },
  {
   "cell_type": "code",
   "execution_count": null,
   "metadata": {},
   "outputs": [],
   "source": []
  }
 ],
 "metadata": {
  "kernelspec": {
   "display_name": "Python 3",
   "language": "python",
   "name": "python3"
  },
  "language_info": {
   "codemirror_mode": {
    "name": "ipython",
    "version": 3
   },
   "file_extension": ".py",
   "mimetype": "text/x-python",
   "name": "python",
   "nbconvert_exporter": "python",
   "pygments_lexer": "ipython3",
   "version": "3.7.2"
  }
 },
 "nbformat": 4,
 "nbformat_minor": 4
}
