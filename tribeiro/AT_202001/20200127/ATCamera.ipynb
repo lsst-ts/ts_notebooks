{
 "cells": [
  {
   "cell_type": "code",
   "execution_count": 1,
   "metadata": {},
   "outputs": [],
   "source": [
    "import os\n",
    "import sys\n",
    "import copy\n",
    "import wget\n",
    "import time\n",
    "import asyncio\n",
    "import warnings\n",
    "import logging\n",
    "\n",
    "import numpy as np\n",
    "\n",
    "from lsst.ts import salobj\n",
    "from lsst.ts.standardscripts.auxtel.attcs import ATTCS\n",
    "from lsst.ts.standardscripts.auxtel.latiss import LATISS\n",
    "\n",
    "%matplotlib inline"
   ]
  },
  {
   "cell_type": "code",
   "execution_count": 2,
   "metadata": {},
   "outputs": [],
   "source": [
    "stream_handler = logging.StreamHandler(sys.stdout)\n",
    "\n",
    "logger = logging.getLogger()\n",
    "logger.addHandler(stream_handler)\n",
    "logger.level = logging.DEBUG"
   ]
  },
  {
   "cell_type": "code",
   "execution_count": 3,
   "metadata": {},
   "outputs": [],
   "source": [
    "latiss = LATISS()"
   ]
  },
  {
   "cell_type": "code",
   "execution_count": 4,
   "metadata": {},
   "outputs": [
    {
     "name": "stdout",
     "output_type": "stream",
     "text": [
      "Read historical data in 7.32 sec\n",
      "Read historical data in 7.71 sec\n",
      "Read historical data in 8.05 sec\n",
      "Read historical data in 8.59 sec\n"
     ]
    },
    {
     "data": {
      "text/plain": [
       "[None, None, None, None]"
      ]
     },
     "execution_count": 4,
     "metadata": {},
     "output_type": "execute_result"
    }
   ],
   "source": [
    "await latiss.start_task"
   ]
  },
  {
   "cell_type": "code",
   "execution_count": null,
   "metadata": {},
   "outputs": [],
   "source": [
    "await salobj.set_summary_state(latiss.atarchiver, salobj.State.ENABLED, settingsToApply=\"normal\")"
   ]
  },
  {
   "cell_type": "code",
   "execution_count": 5,
   "metadata": {},
   "outputs": [
    {
     "name": "stdout",
     "output_type": "stream",
     "text": [
      "Waiting for header service LFO before continuing\n",
      "Waiting for header service LFO before continuing\n",
      "Waiting for header service LFO before continuing\n",
      "Waiting for header service LFO before continuing\n",
      "RemoteEvent(ATHeaderService, 0, logMessage) falling behind; read 12 messages\n",
      "Waiting for header service LFO before continuing\n",
      "Waiting for header service LFO before continuing\n",
      "Waiting for header service LFO before continuing\n",
      "Waiting for header service LFO before continuing\n",
      "Waiting for header service LFO before continuing\n",
      "Waiting for header service LFO before continuing\n"
     ]
    }
   ],
   "source": [
    "await latiss.take_bias(nbias=10)"
   ]
  },
  {
   "cell_type": "code",
   "execution_count": 6,
   "metadata": {},
   "outputs": [
    {
     "name": "stdout",
     "output_type": "stream",
     "text": [
      "Taking 5 bias with exptume 1.0\n",
      "Waiting for header service LFO before continuing\n",
      "Waiting for header service LFO before continuing\n",
      "Waiting for header service LFO before continuing\n",
      "Waiting for header service LFO before continuing\n",
      "Waiting for header service LFO before continuing\n",
      "Taking 5 bias with exptume 10.0\n",
      "Waiting for header service LFO before continuing\n",
      "Waiting for header service LFO before continuing\n",
      "Waiting for header service LFO before continuing\n",
      "Waiting for header service LFO before continuing\n",
      "Waiting for header service LFO before continuing\n",
      "Taking 5 bias with exptume 100.0\n",
      "Waiting for header service LFO before continuing\n",
      "Waiting for header service LFO before continuing\n",
      "Waiting for header service LFO before continuing\n",
      "Waiting for header service LFO before continuing\n",
      "Waiting for header service LFO before continuing\n",
      "RemoteEvent(ATHeaderService, 0, logMessage) falling behind; read 10 messages\n",
      "Sequence 0. Taking 4 flats with exptime 0.2\n",
      "Waiting for header service LFO before continuing\n",
      "Waiting for header service LFO before continuing\n",
      "Waiting for header service LFO before continuing\n",
      "Waiting for header service LFO before continuing\n",
      "Sequence 1. Taking 4 flats with exptime 0.4\n",
      "Waiting for header service LFO before continuing\n",
      "Waiting for header service LFO before continuing\n",
      "Waiting for header service LFO before continuing\n",
      "Waiting for header service LFO before continuing\n",
      "RemoteEvent(ATHeaderService, 0, logMessage) falling behind; read 16 messages\n",
      "Sequence 2. Taking 4 flats with exptime 0.6000000000000001\n",
      "Waiting for header service LFO before continuing\n",
      "RemoteEvent(ATHeaderService, 0, logMessage) falling behind; read 10 messages\n",
      "Waiting for header service LFO before continuing\n",
      "Waiting for header service LFO before continuing\n",
      "Waiting for header service LFO before continuing\n",
      "Sequence 3. Taking 4 flats with exptime 0.8\n",
      "Waiting for header service LFO before continuing\n",
      "Waiting for header service LFO before continuing\n",
      "Waiting for header service LFO before continuing\n",
      "Waiting for header service LFO before continuing\n",
      "Sequence 4. Taking 4 flats with exptime 1.0\n",
      "Waiting for header service LFO before continuing\n",
      "Waiting for header service LFO before continuing\n",
      "RemoteEvent(ATHeaderService, 0, logMessage) falling behind; read 10 messages\n",
      "Waiting for header service LFO before continuing\n",
      "Waiting for header service LFO before continuing\n",
      "Sequence 5. Taking 4 flats with exptime 1.2000000000000002\n",
      "Waiting for header service LFO before continuing\n",
      "Waiting for header service LFO before continuing\n",
      "Waiting for header service LFO before continuing\n",
      "RemoteEvent(ATHeaderService, 0, logMessage) falling behind; read 10 messages\n",
      "Waiting for header service LFO before continuing\n",
      "Sequence 6. Taking 4 flats with exptime 1.4000000000000001\n",
      "Waiting for header service LFO before continuing\n",
      "Waiting for header service LFO before continuing\n",
      "Waiting for header service LFO before continuing\n",
      "Waiting for header service LFO before continuing\n",
      "Sequence 7. Taking 4 flats with exptime 1.6\n",
      "Waiting for header service LFO before continuing\n",
      "Waiting for header service LFO before continuing\n",
      "Waiting for header service LFO before continuing\n",
      "Waiting for header service LFO before continuing\n",
      "Sequence 8. Taking 4 flats with exptime 1.8\n",
      "Waiting for header service LFO before continuing\n",
      "Waiting for header service LFO before continuing\n",
      "Waiting for header service LFO before continuing\n",
      "Waiting for header service LFO before continuing\n",
      "Sequence 9. Taking 4 flats with exptime 2.0\n",
      "Waiting for header service LFO before continuing\n",
      "Waiting for header service LFO before continuing\n",
      "Waiting for header service LFO before continuing\n",
      "Waiting for header service LFO before continuing\n",
      "Sequence 10. Taking 4 flats with exptime 2.2\n",
      "Waiting for header service LFO before continuing\n",
      "Waiting for header service LFO before continuing\n",
      "RemoteEvent(ATHeaderService, 0, logMessage) falling behind; read 11 messages\n",
      "Waiting for header service LFO before continuing\n",
      "Waiting for header service LFO before continuing\n",
      "Sequence 11. Taking 4 flats with exptime 2.4000000000000004\n",
      "Waiting for header service LFO before continuing\n",
      "Waiting for header service LFO before continuing\n",
      "Waiting for header service LFO before continuing\n",
      "RemoteEvent(ATHeaderService, 0, logMessage) falling behind; read 10 messages\n",
      "Waiting for header service LFO before continuing\n",
      "RemoteEvent(ATHeaderService, 0, logMessage) falling behind; read 13 messages\n",
      "Sequence 12. Taking 4 flats with exptime 2.6\n",
      "Waiting for header service LFO before continuing\n",
      "Waiting for header service LFO before continuing\n",
      "Waiting for header service LFO before continuing\n",
      "Waiting for header service LFO before continuing\n",
      "Sequence 13. Taking 4 flats with exptime 2.8000000000000003\n",
      "Waiting for header service LFO before continuing\n",
      "Waiting for header service LFO before continuing\n",
      "Waiting for header service LFO before continuing\n",
      "Waiting for header service LFO before continuing\n",
      "Sequence 14. Taking 4 flats with exptime 3.0\n",
      "Waiting for header service LFO before continuing\n",
      "Waiting for header service LFO before continuing\n",
      "RemoteEvent(ATHeaderService, 0, logMessage) falling behind; read 10 messages\n",
      "Waiting for header service LFO before continuing\n",
      "Waiting for header service LFO before continuing\n",
      "Sequence 15. Taking 4 flats with exptime 3.2\n",
      "Waiting for header service LFO before continuing\n",
      "Waiting for header service LFO before continuing\n",
      "Waiting for header service LFO before continuing\n",
      "Waiting for header service LFO before continuing\n",
      "Sequence 16. Taking 4 flats with exptime 3.4000000000000004\n",
      "Waiting for header service LFO before continuing\n",
      "RemoteEvent(ATHeaderService, 0, logMessage) falling behind; read 12 messages\n",
      "Waiting for header service LFO before continuing\n",
      "Waiting for header service LFO before continuing\n",
      "Waiting for header service LFO before continuing\n",
      "RemoteEvent(ATHeaderService, 0, logMessage) falling behind; read 11 messages\n",
      "Sequence 17. Taking 4 flats with exptime 3.6\n",
      "Waiting for header service LFO before continuing\n",
      "Waiting for header service LFO before continuing\n",
      "Waiting for header service LFO before continuing\n",
      "Waiting for header service LFO before continuing\n",
      "Sequence 18. Taking 4 flats with exptime 3.8000000000000003\n",
      "Waiting for header service LFO before continuing\n",
      "Waiting for header service LFO before continuing\n",
      "Waiting for header service LFO before continuing\n",
      "Waiting for header service LFO before continuing\n",
      "Sequence 19. Taking 4 flats with exptime 4.0\n",
      "Waiting for header service LFO before continuing\n",
      "RemoteEvent(ATHeaderService, 0, logMessage) falling behind; read 11 messages\n",
      "Waiting for header service LFO before continuing\n",
      "Waiting for header service LFO before continuing\n",
      "Waiting for header service LFO before continuing\n",
      "RemoteEvent(ATHeaderService, 0, logMessage) falling behind; read 11 messages\n",
      "Sequence 20. Taking 4 flats with exptime 4.2\n",
      "Waiting for header service LFO before continuing\n",
      "Waiting for header service LFO before continuing\n",
      "RemoteEvent(ATHeaderService, 0, logMessage) falling behind; read 12 messages\n",
      "Waiting for header service LFO before continuing\n",
      "Waiting for header service LFO before continuing\n",
      "Sequence 21. Taking 4 flats with exptime 4.4\n",
      "Waiting for header service LFO before continuing\n",
      "Waiting for header service LFO before continuing\n",
      "Waiting for header service LFO before continuing\n",
      "Waiting for header service LFO before continuing\n",
      "Sequence 22. Taking 4 flats with exptime 4.6000000000000005\n",
      "Waiting for header service LFO before continuing\n",
      "Waiting for header service LFO before continuing\n",
      "Waiting for header service LFO before continuing\n",
      "Waiting for header service LFO before continuing\n",
      "RemoteEvent(ATHeaderService, 0, logMessage) falling behind; read 42 messages\n",
      "Sequence 23. Taking 4 flats with exptime 4.800000000000001\n",
      "Waiting for header service LFO before continuing\n",
      "Waiting for header service LFO before continuing\n",
      "Waiting for header service LFO before continuing\n",
      "Waiting for header service LFO before continuing\n",
      "RemoteEvent(ATHeaderService, 0, logMessage) falling behind; read 10 messages\n",
      "Sequence 24. Taking 4 flats with exptime 5.0\n",
      "Waiting for header service LFO before continuing\n",
      "Waiting for header service LFO before continuing\n",
      "RemoteEvent(ATHeaderService, 0, logMessage) falling behind; read 11 messages\n",
      "Waiting for header service LFO before continuing\n",
      "RemoteEvent(ATHeaderService, 0, logMessage) falling behind; read 12 messages\n",
      "Waiting for header service LFO before continuing\n"
     ]
    }
   ],
   "source": [
    "# This should start at 068 (I think)\n",
    "# await latiss.take_bias(nbias=10) # Tiago has fixed the 3 s delay, so this should work\n",
    "\n",
    "for etime in [1.0, 10.0, 100.0]:\n",
    "    print(f\"Taking 5 darks with exptume {etime}\")\n",
    "    await latiss.take_darks(exptime=etime, ndarks=5)\n",
    "\n",
    "for i in range(25):\n",
    "    etime = 0.2 * (i + 1)\n",
    "    print(f\"Sequence {i}. Taking 4 flats with exptime {etime}\")\n",
    "    try:\n",
    "        await latiss.take_flats(exptime=etime, nflats=4)\n",
    "    except asyncio.TimeoutError:\n",
    "        print(f\"Timeout taking flat with exptime {etime}\")\n",
    "        continue"
   ]
  },
  {
   "cell_type": "code",
   "execution_count": 7,
   "metadata": {},
   "outputs": [
    {
     "name": "stdout",
     "output_type": "stream",
     "text": [
      "done\n"
     ]
    }
   ],
   "source": [
    "print(\"done\")"
   ]
  },
  {
   "cell_type": "code",
   "execution_count": 8,
   "metadata": {},
   "outputs": [
    {
     "data": {
      "text/plain": [
       "\u001b[0;31mSignature:\u001b[0m\n",
       "\u001b[0mlatiss\u001b[0m\u001b[0;34m.\u001b[0m\u001b[0mtake_flats\u001b[0m\u001b[0;34m(\u001b[0m\u001b[0;34m\u001b[0m\n",
       "\u001b[0;34m\u001b[0m    \u001b[0mexptime\u001b[0m\u001b[0;34m,\u001b[0m\u001b[0;34m\u001b[0m\n",
       "\u001b[0;34m\u001b[0m    \u001b[0mnflats\u001b[0m\u001b[0;34m,\u001b[0m\u001b[0;34m\u001b[0m\n",
       "\u001b[0;34m\u001b[0m    \u001b[0mfilter\u001b[0m\u001b[0;34m=\u001b[0m\u001b[0;32mNone\u001b[0m\u001b[0;34m,\u001b[0m\u001b[0;34m\u001b[0m\n",
       "\u001b[0;34m\u001b[0m    \u001b[0mgrating\u001b[0m\u001b[0;34m=\u001b[0m\u001b[0;32mNone\u001b[0m\u001b[0;34m,\u001b[0m\u001b[0;34m\u001b[0m\n",
       "\u001b[0;34m\u001b[0m    \u001b[0mlinear_stage\u001b[0m\u001b[0;34m=\u001b[0m\u001b[0;32mNone\u001b[0m\u001b[0;34m,\u001b[0m\u001b[0;34m\u001b[0m\n",
       "\u001b[0;34m\u001b[0m    \u001b[0mcheckpoint\u001b[0m\u001b[0;34m=\u001b[0m\u001b[0;32mNone\u001b[0m\u001b[0;34m,\u001b[0m\u001b[0;34m\u001b[0m\n",
       "\u001b[0;34m\u001b[0m\u001b[0;34m)\u001b[0m\u001b[0;34m\u001b[0m\u001b[0;34m\u001b[0m\u001b[0m\n",
       "\u001b[0;31mDocstring:\u001b[0m\n",
       "Take a series of flat field images.\n",
       "\n",
       "Parameters\n",
       "----------\n",
       "exptime : `float`\n",
       "    Exposure time for flats.\n",
       "nflats : `int`\n",
       "    Number of flat frames to take.\n",
       "filter : `None` or `int` or `str`\n",
       "    Filter id or name. If None, do not change the filter.\n",
       "grating : `None` or `int` or `str`\n",
       "    Grating id or name.  If None, do not change the grating.\n",
       "linear_stage : `None` or `float`\n",
       "    Linear stage position.  If None, do not change the linear stage.\n",
       "checkpoint : `coro`\n",
       "    A optional awaitable callback that accepts one string argument\n",
       "    that is called before each bias is taken.\n",
       "\u001b[0;31mFile:\u001b[0m      ~/repos/ts_standardscripts/python/lsst/ts/standardscripts/auxtel/latiss.py\n",
       "\u001b[0;31mType:\u001b[0m      method\n"
      ]
     },
     "metadata": {},
     "output_type": "display_data"
    }
   ],
   "source": [
    "latiss.take_flats()"
   ]
  },
  {
   "cell_type": "code",
   "execution_count": 11,
   "metadata": {},
   "outputs": [
    {
     "name": "stdout",
     "output_type": "stream",
     "text": [
      "Sequence 0. Taking 4 flats with exptime 0.4\n",
      "Waiting for header service LFO before continuing\n",
      "Waiting for header service LFO before continuing\n",
      "Waiting for header service LFO before continuing\n",
      "Waiting for header service LFO before continuing\n",
      "Sequence 1. Taking 4 flats with exptime 0.8\n",
      "Waiting for header service LFO before continuing\n",
      "Waiting for header service LFO before continuing\n",
      "Waiting for header service LFO before continuing\n",
      "RemoteEvent(ATHeaderService, 0, logMessage) falling behind; read 10 messages\n",
      "Waiting for header service LFO before continuing\n",
      "Sequence 2. Taking 4 flats with exptime 1.2000000000000002\n",
      "Waiting for header service LFO before continuing\n",
      "Waiting for header service LFO before continuing\n",
      "Waiting for header service LFO before continuing\n",
      "Waiting for header service LFO before continuing\n",
      "Sequence 3. Taking 4 flats with exptime 1.6\n",
      "Waiting for header service LFO before continuing\n",
      "Waiting for header service LFO before continuing\n",
      "RemoteEvent(ATHeaderService, 0, logMessage) falling behind; read 11 messages\n",
      "Waiting for header service LFO before continuing\n",
      "Waiting for header service LFO before continuing\n",
      "Sequence 4. Taking 4 flats with exptime 2.0\n",
      "Waiting for header service LFO before continuing\n",
      "Waiting for header service LFO before continuing\n",
      "Waiting for header service LFO before continuing\n",
      "Waiting for header service LFO before continuing\n",
      "Sequence 5. Taking 4 flats with exptime 2.4000000000000004\n",
      "Waiting for header service LFO before continuing\n",
      "Waiting for header service LFO before continuing\n",
      "Waiting for header service LFO before continuing\n",
      "Waiting for header service LFO before continuing\n",
      "Sequence 6. Taking 4 flats with exptime 2.8000000000000003\n",
      "Waiting for header service LFO before continuing\n",
      "Waiting for header service LFO before continuing\n",
      "Waiting for header service LFO before continuing\n",
      "Waiting for header service LFO before continuing\n",
      "Sequence 7. Taking 4 flats with exptime 3.2\n",
      "Waiting for header service LFO before continuing\n",
      "Waiting for header service LFO before continuing\n",
      "Waiting for header service LFO before continuing\n",
      "Waiting for header service LFO before continuing\n",
      "Sequence 8. Taking 4 flats with exptime 3.6\n",
      "Waiting for header service LFO before continuing\n",
      "Waiting for header service LFO before continuing\n",
      "Waiting for header service LFO before continuing\n",
      "RemoteEvent(ATHeaderService, 0, logMessage) falling behind; read 10 messages\n",
      "Waiting for header service LFO before continuing\n",
      "RemoteEvent(ATHeaderService, 0, logMessage) falling behind; read 10 messages\n",
      "Sequence 9. Taking 4 flats with exptime 4.0\n",
      "Waiting for header service LFO before continuing\n",
      "Waiting for header service LFO before continuing\n",
      "Waiting for header service LFO before continuing\n",
      "Waiting for header service LFO before continuing\n",
      "RemoteEvent(ATHeaderService, 0, logMessage) falling behind; read 10 messages\n",
      "Sequence 10. Taking 4 flats with exptime 4.4\n",
      "Waiting for header service LFO before continuing\n",
      "Waiting for header service LFO before continuing\n",
      "RemoteEvent(ATHeaderService, 0, logMessage) falling behind; read 30 messages\n",
      "Waiting for header service LFO before continuing\n",
      "RemoteEvent(ATHeaderService, 0, logMessage) falling behind; read 13 messages\n",
      "Waiting for header service LFO before continuing\n",
      "Sequence 11. Taking 4 flats with exptime 4.800000000000001\n",
      "Waiting for header service LFO before continuing\n",
      "Waiting for header service LFO before continuing\n",
      "Waiting for header service LFO before continuing\n",
      "Waiting for header service LFO before continuing\n",
      "RemoteEvent(ATHeaderService, 0, logMessage) falling behind; read 10 messages\n",
      "Sequence 12. Taking 4 flats with exptime 5.2\n",
      "Waiting for header service LFO before continuing\n",
      "Waiting for header service LFO before continuing\n",
      "Waiting for header service LFO before continuing\n",
      "Waiting for header service LFO before continuing\n",
      "Sequence 13. Taking 4 flats with exptime 5.6000000000000005\n",
      "Waiting for header service LFO before continuing\n",
      "Waiting for header service LFO before continuing\n",
      "Waiting for header service LFO before continuing\n",
      "Waiting for header service LFO before continuing\n",
      "Sequence 14. Taking 4 flats with exptime 6.0\n",
      "Waiting for header service LFO before continuing\n",
      "Waiting for header service LFO before continuing\n",
      "Waiting for header service LFO before continuing\n",
      "Waiting for header service LFO before continuing\n",
      "RemoteEvent(ATHeaderService, 0, logMessage) falling behind; read 12 messages\n",
      "Sequence 15. Taking 4 flats with exptime 6.4\n",
      "Waiting for header service LFO before continuing\n",
      "Waiting for header service LFO before continuing\n",
      "Waiting for header service LFO before continuing\n",
      "Waiting for header service LFO before continuing\n",
      "Sequence 16. Taking 4 flats with exptime 6.800000000000001\n",
      "Waiting for header service LFO before continuing\n",
      "Waiting for header service LFO before continuing\n",
      "Waiting for header service LFO before continuing\n",
      "Waiting for header service LFO before continuing\n",
      "Sequence 17. Taking 4 flats with exptime 7.2\n",
      "Waiting for header service LFO before continuing\n",
      "Waiting for header service LFO before continuing\n",
      "Waiting for header service LFO before continuing\n",
      "RemoteEvent(ATHeaderService, 0, logMessage) falling behind; read 10 messages\n",
      "Waiting for header service LFO before continuing\n",
      "Sequence 18. Taking 4 flats with exptime 7.6000000000000005\n",
      "Waiting for header service LFO before continuing\n",
      "Waiting for header service LFO before continuing\n",
      "Waiting for header service LFO before continuing\n",
      "Waiting for header service LFO before continuing\n",
      "Sequence 19. Taking 4 flats with exptime 8.0\n",
      "Waiting for header service LFO before continuing\n",
      "Waiting for header service LFO before continuing\n",
      "RemoteEvent(ATHeaderService, 0, logMessage) falling behind; read 11 messages\n",
      "Waiting for header service LFO before continuing\n",
      "Waiting for header service LFO before continuing\n",
      "RemoteEvent(ATArchiver, 0, heartbeat) falling behind; read 11 messages\n",
      "RemoteEvent(ATHeaderService, 0, heartbeat) falling behind; read 21 messages\n"
     ]
    }
   ],
   "source": [
    "for i in range(20):\n",
    "    etime = 0.4 * (i + 1)\n",
    "    print(f\"Sequence {i}. Taking 4 flats with exptime {etime}\")\n",
    "    try:\n",
    "        await latiss.take_flats(exptime=etime, nflats=4, filter='KPNO_373A_677nm')\n",
    "    except asyncio.TimeoutError:\n",
    "        print(f\"Timeout taking flat with exptime {etime}\")\n",
    "        continue"
   ]
  },
  {
   "cell_type": "code",
   "execution_count": 10,
   "metadata": {},
   "outputs": [
    {
     "data": {
      "text/plain": [
       "8.0"
      ]
     },
     "execution_count": 10,
     "metadata": {},
     "output_type": "execute_result"
    }
   ],
   "source": [
    " 0.4 * (19 + 1)"
   ]
  },
  {
   "cell_type": "code",
   "execution_count": null,
   "metadata": {},
   "outputs": [],
   "source": [
    "await latiss.take_flats(exptime=etime, nflats=4, filter='KPNO_373A_677nm')"
   ]
  },
  {
   "cell_type": "code",
   "execution_count": 16,
   "metadata": {},
   "outputs": [
    {
     "data": {
      "text/plain": [
       "\u001b[0;31mSignature:\u001b[0m\n",
       "\u001b[0mlatiss\u001b[0m\u001b[0;34m.\u001b[0m\u001b[0mtake_flats\u001b[0m\u001b[0;34m(\u001b[0m\u001b[0;34m\u001b[0m\n",
       "\u001b[0;34m\u001b[0m    \u001b[0mexptime\u001b[0m\u001b[0;34m,\u001b[0m\u001b[0;34m\u001b[0m\n",
       "\u001b[0;34m\u001b[0m    \u001b[0mnflats\u001b[0m\u001b[0;34m,\u001b[0m\u001b[0;34m\u001b[0m\n",
       "\u001b[0;34m\u001b[0m    \u001b[0mfilter\u001b[0m\u001b[0;34m=\u001b[0m\u001b[0;32mNone\u001b[0m\u001b[0;34m,\u001b[0m\u001b[0;34m\u001b[0m\n",
       "\u001b[0;34m\u001b[0m    \u001b[0mgrating\u001b[0m\u001b[0;34m=\u001b[0m\u001b[0;32mNone\u001b[0m\u001b[0;34m,\u001b[0m\u001b[0;34m\u001b[0m\n",
       "\u001b[0;34m\u001b[0m    \u001b[0mlinear_stage\u001b[0m\u001b[0;34m=\u001b[0m\u001b[0;32mNone\u001b[0m\u001b[0;34m,\u001b[0m\u001b[0;34m\u001b[0m\n",
       "\u001b[0;34m\u001b[0m    \u001b[0mcheckpoint\u001b[0m\u001b[0;34m=\u001b[0m\u001b[0;32mNone\u001b[0m\u001b[0;34m,\u001b[0m\u001b[0;34m\u001b[0m\n",
       "\u001b[0;34m\u001b[0m\u001b[0;34m)\u001b[0m\u001b[0;34m\u001b[0m\u001b[0;34m\u001b[0m\u001b[0m\n",
       "\u001b[0;31mDocstring:\u001b[0m\n",
       "Take a series of flat field images.\n",
       "\n",
       "Parameters\n",
       "----------\n",
       "exptime : `float`\n",
       "    Exposure time for flats.\n",
       "nflats : `int`\n",
       "    Number of flat frames to take.\n",
       "filter : `None` or `int` or `str`\n",
       "    Filter id or name. If None, do not change the filter.\n",
       "grating : `None` or `int` or `str`\n",
       "    Grating id or name.  If None, do not change the grating.\n",
       "linear_stage : `None` or `float`\n",
       "    Linear stage position.  If None, do not change the linear stage.\n",
       "checkpoint : `coro`\n",
       "    A optional awaitable callback that accepts one string argument\n",
       "    that is called before each bias is taken.\n",
       "\u001b[0;31mFile:\u001b[0m      ~/repos/ts_standardscripts/python/lsst/ts/standardscripts/auxtel/latiss.py\n",
       "\u001b[0;31mType:\u001b[0m      method\n"
      ]
     },
     "metadata": {},
     "output_type": "display_data"
    }
   ],
   "source": [
    "latiss.take_flats?"
   ]
  },
  {
   "cell_type": "code",
   "execution_count": 17,
   "metadata": {},
   "outputs": [
    {
     "data": {
      "text/plain": [
       "\u001b[0;31mSignature:\u001b[0m\n",
       "\u001b[0mlatiss\u001b[0m\u001b[0;34m.\u001b[0m\u001b[0mtake_image\u001b[0m\u001b[0;34m(\u001b[0m\u001b[0;34m\u001b[0m\n",
       "\u001b[0;34m\u001b[0m    \u001b[0mexptime\u001b[0m\u001b[0;34m,\u001b[0m\u001b[0;34m\u001b[0m\n",
       "\u001b[0;34m\u001b[0m    \u001b[0mshutter\u001b[0m\u001b[0;34m,\u001b[0m\u001b[0;34m\u001b[0m\n",
       "\u001b[0;34m\u001b[0m    \u001b[0mimage_type\u001b[0m\u001b[0;34m,\u001b[0m\u001b[0;34m\u001b[0m\n",
       "\u001b[0;34m\u001b[0m    \u001b[0mgroup_id\u001b[0m\u001b[0;34m,\u001b[0m\u001b[0;34m\u001b[0m\n",
       "\u001b[0;34m\u001b[0m    \u001b[0mfilter\u001b[0m\u001b[0;34m=\u001b[0m\u001b[0;32mNone\u001b[0m\u001b[0;34m,\u001b[0m\u001b[0;34m\u001b[0m\n",
       "\u001b[0;34m\u001b[0m    \u001b[0mgrating\u001b[0m\u001b[0;34m=\u001b[0m\u001b[0;32mNone\u001b[0m\u001b[0;34m,\u001b[0m\u001b[0;34m\u001b[0m\n",
       "\u001b[0;34m\u001b[0m    \u001b[0mlinear_stage\u001b[0m\u001b[0;34m=\u001b[0m\u001b[0;32mNone\u001b[0m\u001b[0;34m,\u001b[0m\u001b[0;34m\u001b[0m\n",
       "\u001b[0;34m\u001b[0m    \u001b[0mscience\u001b[0m\u001b[0;34m=\u001b[0m\u001b[0;32mTrue\u001b[0m\u001b[0;34m,\u001b[0m\u001b[0;34m\u001b[0m\n",
       "\u001b[0;34m\u001b[0m    \u001b[0mguide\u001b[0m\u001b[0;34m=\u001b[0m\u001b[0;32mFalse\u001b[0m\u001b[0;34m,\u001b[0m\u001b[0;34m\u001b[0m\n",
       "\u001b[0;34m\u001b[0m    \u001b[0mwfs\u001b[0m\u001b[0;34m=\u001b[0m\u001b[0;32mFalse\u001b[0m\u001b[0;34m,\u001b[0m\u001b[0;34m\u001b[0m\n",
       "\u001b[0;34m\u001b[0m\u001b[0;34m)\u001b[0m\u001b[0;34m\u001b[0m\u001b[0;34m\u001b[0m\u001b[0m\n",
       "\u001b[0;31mDocstring:\u001b[0m\n",
       "Set up the spectrograph and take a series of images.\n",
       "\n",
       "\n",
       "Setting up the spectrograph and taking images cannot be done\n",
       "concurrently. One needs first to setup the spectrograph then,\n",
       "request images.\n",
       "\n",
       "Parameters\n",
       "----------\n",
       "exptime : `float`\n",
       "    The exposure time for the image, in seconds.\n",
       "shutter : `bool`\n",
       "    Should activate the shutter? (False for bias and dark)\n",
       "image_type : `str`\n",
       "    Image type (a.k.a. IMGTYPE) (e.g. e.g. BIAS, DARK, FLAT, FE55,\n",
       "    XTALK, CCOB, SPOT...)\n",
       "group_id : `str`\n",
       "    Image groupId. Used to fill in FITS GROUPID header\n",
       "grating : `None` or `int` or `str`\n",
       "    Grating id or name.  If None, do not change the grating.\n",
       "linear_stage : `None` or `float`\n",
       "    Linear stage position.  If None, do not change the linear stage.\n",
       "science : `bool`\n",
       "    Mark image as science (default=True)?\n",
       "guide : `bool`\n",
       "    Mark image as guide (default=False)?\n",
       "wfs : `bool`\n",
       "    Mark image as wfs (default=False)?\n",
       "\n",
       "Returns\n",
       "-------\n",
       "endReadout : ``self.atcam.evt_endReadout.DataType``\n",
       "    End readout event data.\n",
       "\u001b[0;31mFile:\u001b[0m      ~/repos/ts_standardscripts/python/lsst/ts/standardscripts/auxtel/latiss.py\n",
       "\u001b[0;31mType:\u001b[0m      method\n"
      ]
     },
     "metadata": {},
     "output_type": "display_data"
    },
    {
     "name": "stdout",
     "output_type": "stream",
     "text": [
      "RemoteEvent(ATHeaderService, 0, logMessage) falling behind; read 10 messages\n",
      "RemoteEvent(ATHeaderService, 0, logMessage) falling behind; read 10 messages\n"
     ]
    }
   ],
   "source": [
    "latiss.take_image?"
   ]
  },
  {
   "cell_type": "code",
   "execution_count": 15,
   "metadata": {},
   "outputs": [
    {
     "name": "stdout",
     "output_type": "stream",
     "text": [
      "Waiting for header service LFO before continuing\n"
     ]
    },
    {
     "data": {
      "text/plain": [
       "<lsst.ts.salobj.ddsutil.ATCamera_logevent_endReadout_91cd7826 at 0x7f486b0499b0>"
      ]
     },
     "execution_count": 15,
     "metadata": {},
     "output_type": "execute_result"
    },
    {
     "name": "stdout",
     "output_type": "stream",
     "text": [
      "RemoteEvent(ATHeaderService, 0, logMessage) falling behind; read 11 messages\n"
     ]
    }
   ],
   "source": [
    "await latiss.take_image(exptime=1., shutter=True,image_type=\"OBJECT\", group_id=\"OrionNebula\")"
   ]
  },
  {
   "cell_type": "code",
   "execution_count": 18,
   "metadata": {},
   "outputs": [],
   "source": [
    "def end_readout_callback(data):\n",
    "    print(data.imageName, data.exposureTime)"
   ]
  },
  {
   "cell_type": "code",
   "execution_count": 19,
   "metadata": {},
   "outputs": [
    {
     "name": "stdout",
     "output_type": "stream",
     "text": [
      "AT_O_20200127_000500 30.0\n",
      "AT_O_20200127_000501 3.0\n",
      "AT_O_20200127_000502 30.0\n",
      "AT_O_20200127_000503 3.0\n",
      "AT_O_20200127_000504 30.0\n",
      "AT_O_20200127_000505 3.0\n",
      "AT_O_20200127_000506 30.0\n",
      "AT_O_20200127_000507 3.0\n",
      "AT_O_20200127_000508 30.0\n",
      "AT_O_20200127_000509 120.0\n",
      "AT_O_20200127_000510 30.0\n",
      "AT_O_20200127_000511 30.0\n",
      "AT_O_20200127_000512 30.0\n",
      "AT_O_20200127_000513 30.0\n",
      "RemoteEvent(ATHeaderService, 0, logMessage) falling behind; read 11 messages\n",
      "AT_O_20200127_000514 30.0\n",
      "AT_O_20200127_000515 30.0\n",
      "RemoteEvent(ATHeaderService, 0, logMessage) falling behind; read 11 messages\n",
      "AT_O_20200127_000516 30.0\n",
      "AT_O_20200127_000517 30.0\n",
      "AT_O_20200127_000518 30.0\n",
      "AT_O_20200127_000519 20.0\n",
      "AT_O_20200127_000520 2.0\n",
      "AT_O_20200127_000521 2.0\n",
      "RemoteEvent(ATHeaderService, 0, logMessage) falling behind; read 13 messages\n",
      "AT_O_20200127_000522 20.0\n",
      "AT_O_20200127_000523 20.0\n",
      "AT_O_20200127_000524 20.0\n",
      "AT_O_20200127_000525 20.0\n",
      "AT_O_20200127_000526 20.0\n"
     ]
    }
   ],
   "source": [
    "latiss.atcamera.evt_endReadout.callback = end_readout_callback"
   ]
  },
  {
   "cell_type": "code",
   "execution_count": 21,
   "metadata": {},
   "outputs": [
    {
     "data": {
      "text/plain": [
       "[<State.ENABLED: 2>, <State.DISABLED: 1>, <State.STANDBY: 5>]"
      ]
     },
     "execution_count": 21,
     "metadata": {},
     "output_type": "execute_result"
    }
   ],
   "source": [
    "await salobj.set_summary_state(latiss.atspectrograph, salobj.State.STANDBY, settingsToApply=\"current\")"
   ]
  },
  {
   "cell_type": "code",
   "execution_count": 22,
   "metadata": {},
   "outputs": [
    {
     "data": {
      "text/plain": [
       "[<State.STANDBY: 5>, <State.DISABLED: 1>, <State.ENABLED: 2>]"
      ]
     },
     "execution_count": 22,
     "metadata": {},
     "output_type": "execute_result"
    },
    {
     "name": "stdout",
     "output_type": "stream",
     "text": [
      "AT_O_20200127_000527 20.0\n",
      "AT_O_20200127_000528 20.0\n",
      "RemoteEvent(ATHeaderService, 0, logMessage) falling behind; read 10 messages\n",
      "AT_O_20200127_000529 20.0\n",
      "AT_O_20200127_000530 2.0\n",
      "AT_O_20200127_000531 2.0\n",
      "AT_O_20200127_000532 2.0\n",
      "AT_O_20200127_000533 2.0\n",
      "AT_O_20200127_000534 2.0\n",
      "AT_O_20200127_000535 2.0\n",
      "AT_O_20200127_000536 20.0\n",
      "AT_O_20200127_000537 20.0\n",
      "AT_O_20200127_000538 20.0\n",
      "AT_O_20200127_000539 2.0\n",
      "AT_O_20200127_000540 2.0\n",
      "RemoteEvent(ATHeaderService, 0, logMessage) falling behind; read 10 messages\n",
      "AT_O_20200127_000541 2.0\n",
      "AT_O_20200127_000542 20.0\n",
      "AT_O_20200127_000543 20.0\n",
      "RemoteEvent(ATHeaderService, 0, logMessage) falling behind; read 10 messages\n",
      "AT_O_20200127_000544 20.0\n",
      "AT_O_20200127_000545 0.0\n",
      "AT_O_20200127_000546 0.0\n",
      "AT_O_20200127_000547 0.0\n",
      "AT_O_20200127_000548 0.0\n",
      "AT_O_20200127_000549 0.0\n",
      "AT_O_20200127_000550 0.0\n",
      "AT_O_20200127_000551 0.0\n",
      "AT_O_20200127_000552 0.0\n",
      "AT_O_20200127_000553 0.0\n",
      "AT_O_20200127_000554 0.0\n",
      "AT_O_20200127_000555 2.0\n",
      "RemoteEvent(ATHeaderService, 0, logMessage) falling behind; read 49 messages\n",
      "AT_O_20200127_000556 2.0\n",
      "AT_O_20200127_000557 2.0\n",
      "AT_O_20200127_000558 2.0\n",
      "AT_O_20200127_000559 2.0\n",
      "AT_O_20200127_000560 2.0\n",
      "AT_O_20200127_000561 2.0\n",
      "AT_O_20200127_000562 2.0\n",
      "AT_O_20200127_000563 20.0\n",
      "AT_O_20200127_000564 20.0\n",
      "AT_O_20200127_000565 20.0\n",
      "AT_O_20200127_000566 2.0\n",
      "AT_O_20200127_000567 20.0\n",
      "AT_O_20200127_000568 2.0\n",
      "AT_O_20200127_000569 2.0\n",
      "AT_O_20200127_000570 2.0\n",
      "AT_O_20200127_000571 2.0\n",
      "AT_O_20200127_000572 2.0\n",
      "AT_O_20200127_000573 2.0\n",
      "AT_O_20200127_000574 2.0\n",
      "AT_O_20200127_000575 2.0\n",
      "AT_O_20200127_000576 2.0\n",
      "AT_O_20200127_000577 20.0\n",
      "AT_O_20200127_000578 20.0\n",
      "RemoteEvent(ATHeaderService, 0, logMessage) falling behind; read 10 messages\n",
      "AT_O_20200127_000579 30.0\n",
      "AT_O_20200127_000580 30.0\n",
      "AT_O_20200127_000581 0.0\n",
      "AT_O_20200127_000582 0.0\n",
      "RemoteEvent(ATHeaderService, 0, logMessage) falling behind; read 11 messages\n",
      "AT_O_20200127_000583 0.0\n",
      "AT_O_20200127_000584 0.0\n",
      "AT_O_20200127_000585 0.0\n",
      "AT_O_20200127_000586 0.0\n",
      "AT_O_20200127_000587 0.0\n",
      "AT_O_20200127_000588 0.0\n",
      "AT_O_20200127_000589 0.0\n",
      "AT_O_20200127_000590 0.0\n",
      "AT_O_20200127_000591 30.0\n",
      "AT_O_20200127_000592 5.0\n",
      "AT_O_20200127_000593 5.0\n",
      "AT_O_20200127_000594 5.0\n",
      "RemoteEvent(ATHeaderService, 0, logMessage) falling behind; read 14 messages\n",
      "AT_O_20200127_000595 5.0\n",
      "AT_O_20200127_000596 5.0\n",
      "AT_O_20200127_000597 5.0\n",
      "RemoteEvent(ATHeaderService, 0, logMessage) falling behind; read 10 messages\n",
      "AT_O_20200127_000598 5.0\n",
      "AT_O_20200127_000599 5.0\n",
      "RemoteEvent(ATHeaderService, 0, logMessage) falling behind; read 10 messages\n",
      "AT_O_20200127_000600 5.0\n",
      "AT_O_20200127_000601 5.0\n",
      "AT_O_20200127_000602 5.0\n",
      "AT_O_20200127_000603 5.0\n",
      "AT_O_20200127_000604 5.0\n",
      "AT_O_20200127_000605 5.0\n",
      "AT_O_20200127_000606 5.0\n",
      "RemoteEvent(ATHeaderService, 0, logMessage) falling behind; read 11 messages\n"
     ]
    }
   ],
   "source": [
    "await salobj.set_summary_state(latiss.atspectrograph, salobj.State.ENABLED, settingsToApply=\"current\")"
   ]
  },
  {
   "cell_type": "code",
   "execution_count": null,
   "metadata": {},
   "outputs": [],
   "source": []
  }
 ],
 "metadata": {
  "kernelspec": {
   "display_name": "Python 3",
   "language": "python",
   "name": "python3"
  },
  "language_info": {
   "codemirror_mode": {
    "name": "ipython",
    "version": 3
   },
   "file_extension": ".py",
   "mimetype": "text/x-python",
   "name": "python",
   "nbconvert_exporter": "python",
   "pygments_lexer": "ipython3",
   "version": "3.7.2"
  }
 },
 "nbformat": 4,
 "nbformat_minor": 4
}
