{
 "cells": [
  {
   "cell_type": "code",
   "execution_count": 1,
   "metadata": {},
   "outputs": [],
   "source": [
    "import os\n",
    "import copy\n",
    "import wget\n",
    "import time\n",
    "import asyncio\n",
    "import warnings\n",
    "import logging\n",
    "from astropy import time as astropytime\n",
    "\n",
    "import numpy as np\n",
    "\n",
    "from lsst.ts import salobj\n",
    "from lsst.ts.standardscripts.auxtel.attcs import ATTCS\n",
    "from lsst.ts.standardscripts.auxtel.latiss import LATISS\n",
    "\n",
    "%matplotlib inline"
   ]
  },
  {
   "cell_type": "code",
   "execution_count": 2,
   "metadata": {},
   "outputs": [
    {
     "name": "stderr",
     "output_type": "stream",
     "text": [
      "RemoteEvent(ATDomeTrajectory, 0, logMessage) falling behind; read 100 messages\n",
      "RemoteEvent(ATDomeTrajectory, 0, heartbeat) falling behind; read 10 messages\n",
      "RemoteTelemetry(ATDome, 0, position) falling behind; read 30 messages\n"
     ]
    },
    {
     "data": {
      "text/plain": [
       "[None, None, None, None]"
      ]
     },
     "execution_count": 2,
     "metadata": {},
     "output_type": "execute_result"
    },
    {
     "name": "stderr",
     "output_type": "stream",
     "text": [
      "RemoteEvent(ATHexapod, 0, heartbeat) falling behind; read 10 messages\n",
      "RemoteTelemetry(ATPtg, 0, timeAndDate) falling behind; read 21 messages\n",
      "RemoteEvent(ATAOS, 0, detailedState) falling behind; read 14 messages\n",
      "RemoteTelemetry(ATPtg, 0, mountStatus) falling behind; read 23 messages\n",
      "RemoteTelemetry(ATPtg, 0, guidingAndOffsets) falling behind; read 24 messages\n"
     ]
    }
   ],
   "source": [
    "attcs = ATTCS()\n",
    "latiss = LATISS(attcs.domain)\n",
    "# cam = salobj.Remote(attcs.domain, \"GenericCamera\", 1)\n",
    "\n",
    "await attcs.start_task\n",
    "await latiss.start_task"
   ]
  },
  {
   "cell_type": "code",
   "execution_count": 3,
   "metadata": {},
   "outputs": [],
   "source": [
    "# Declare target name\n",
    "target_name='HD85055'"
   ]
  },
  {
   "cell_type": "code",
   "execution_count": 4,
   "metadata": {},
   "outputs": [
    {
     "name": "stderr",
     "output_type": "stream",
     "text": [
      "RemoteEvent(ATMCS, 0, target) falling behind; read 10 messages\n",
      "RemoteEvent(ATDomeTrajectory, 0, logMessage) falling behind; read 10 messages\n"
     ]
    }
   ],
   "source": [
    "c = salobj.Controller(\"Script\", index=3)\n",
    "await c.start_task"
   ]
  },
  {
   "cell_type": "code",
   "execution_count": null,
   "metadata": {},
   "outputs": [],
   "source": [
    "rotation_matrix = lambda angle: np.array([\n",
    "            [np.cos(np.radians(angle)), -np.sin(np.radians(angle)), 0.],\n",
    "            [np.sin(np.radians(angle)), np.cos(np.radians(angle)), 0.],\n",
    "            [0., 0., 1.]])"
   ]
  },
  {
   "cell_type": "code",
   "execution_count": null,
   "metadata": {},
   "outputs": [],
   "source": [
    "await attcs.slew_icrs(ra = \"09 49 17.2304091481\", dec = \"-08 50 06.227916336\", rot_pa=-90., target_name=target_name)"
   ]
  },
  {
   "cell_type": "markdown",
   "metadata": {},
   "source": [
    "# Test of axis orientation on the camera."
   ]
  },
  {
   "cell_type": "markdown",
   "metadata": {},
   "source": [
    "## 1 - Take reference image with no offset. "
   ]
  },
  {
   "cell_type": "code",
   "execution_count": 27,
   "metadata": {},
   "outputs": [
    {
     "data": {
      "text/plain": [
       "True"
      ]
     },
     "execution_count": 27,
     "metadata": {},
     "output_type": "execute_result"
    }
   ],
   "source": [
    "c.evt_logMessage.set_put(message=\"Test of axis orientation on the camera. [START]\")"
   ]
  },
  {
   "cell_type": "code",
   "execution_count": 28,
   "metadata": {},
   "outputs": [
    {
     "data": {
      "text/plain": [
       "True"
      ]
     },
     "execution_count": 28,
     "metadata": {},
     "output_type": "execute_result"
    }
   ],
   "source": [
    "c.evt_logMessage.set_put(message=\"1 - Take reference image with no offset. [START]\")"
   ]
  },
  {
   "cell_type": "code",
   "execution_count": 29,
   "metadata": {},
   "outputs": [
    {
     "ename": "TimeoutError",
     "evalue": "",
     "output_type": "error",
     "traceback": [
      "\u001b[0;31m\u001b[0m",
      "\u001b[0;31mTimeoutError\u001b[0mTraceback (most recent call last)",
      "\u001b[0;32m<ipython-input-29-ffa56033b35b>\u001b[0m in \u001b[0;36masync-def-wrapper\u001b[0;34m()\u001b[0m\n",
      "\u001b[0;32m~/repos/ts_salobj/python/lsst/ts/salobj/topics/read_topic.py\u001b[0m in \u001b[0;36mnext\u001b[0;34m(self, flush, timeout)\u001b[0m\n\u001b[1;32m    389\u001b[0m         \u001b[0;32mif\u001b[0m \u001b[0mflush\u001b[0m\u001b[0;34m:\u001b[0m\u001b[0;34m\u001b[0m\u001b[0;34m\u001b[0m\u001b[0m\n\u001b[1;32m    390\u001b[0m             \u001b[0mself\u001b[0m\u001b[0;34m.\u001b[0m\u001b[0mflush\u001b[0m\u001b[0;34m(\u001b[0m\u001b[0;34m)\u001b[0m\u001b[0;34m\u001b[0m\u001b[0;34m\u001b[0m\u001b[0m\n\u001b[0;32m--> 391\u001b[0;31m         \u001b[0;32mreturn\u001b[0m \u001b[0;32mawait\u001b[0m \u001b[0mself\u001b[0m\u001b[0;34m.\u001b[0m\u001b[0m_next\u001b[0m\u001b[0;34m(\u001b[0m\u001b[0mtimeout\u001b[0m\u001b[0;34m=\u001b[0m\u001b[0mtimeout\u001b[0m\u001b[0;34m)\u001b[0m\u001b[0;34m\u001b[0m\u001b[0;34m\u001b[0m\u001b[0m\n\u001b[0m\u001b[1;32m    392\u001b[0m \u001b[0;34m\u001b[0m\u001b[0m\n\u001b[1;32m    393\u001b[0m     \u001b[0;32masync\u001b[0m \u001b[0;32mdef\u001b[0m \u001b[0m_next\u001b[0m\u001b[0;34m(\u001b[0m\u001b[0mself\u001b[0m\u001b[0;34m,\u001b[0m \u001b[0;34m*\u001b[0m\u001b[0;34m,\u001b[0m \u001b[0mtimeout\u001b[0m\u001b[0;34m=\u001b[0m\u001b[0;32mNone\u001b[0m\u001b[0;34m)\u001b[0m\u001b[0;34m:\u001b[0m\u001b[0;34m\u001b[0m\u001b[0;34m\u001b[0m\u001b[0m\n",
      "\u001b[0;32m~/repos/ts_salobj/python/lsst/ts/salobj/topics/read_topic.py\u001b[0m in \u001b[0;36m_next\u001b[0;34m(self, timeout)\u001b[0m\n\u001b[1;32m    402\u001b[0m         \u001b[0;32mif\u001b[0m \u001b[0mself\u001b[0m\u001b[0;34m.\u001b[0m\u001b[0m_next_task\u001b[0m\u001b[0;34m.\u001b[0m\u001b[0mdone\u001b[0m\u001b[0;34m(\u001b[0m\u001b[0;34m)\u001b[0m\u001b[0;34m:\u001b[0m\u001b[0;34m\u001b[0m\u001b[0;34m\u001b[0m\u001b[0m\n\u001b[1;32m    403\u001b[0m             \u001b[0mself\u001b[0m\u001b[0;34m.\u001b[0m\u001b[0m_next_task\u001b[0m \u001b[0;34m=\u001b[0m \u001b[0masyncio\u001b[0m\u001b[0;34m.\u001b[0m\u001b[0mFuture\u001b[0m\u001b[0;34m(\u001b[0m\u001b[0;34m)\u001b[0m\u001b[0;34m\u001b[0m\u001b[0;34m\u001b[0m\u001b[0m\n\u001b[0;32m--> 404\u001b[0;31m         \u001b[0;32mawait\u001b[0m \u001b[0masyncio\u001b[0m\u001b[0;34m.\u001b[0m\u001b[0mwait_for\u001b[0m\u001b[0;34m(\u001b[0m\u001b[0mself\u001b[0m\u001b[0;34m.\u001b[0m\u001b[0m_next_task\u001b[0m\u001b[0;34m,\u001b[0m \u001b[0mtimeout\u001b[0m\u001b[0;34m=\u001b[0m\u001b[0mtimeout\u001b[0m\u001b[0;34m)\u001b[0m\u001b[0;34m\u001b[0m\u001b[0;34m\u001b[0m\u001b[0m\n\u001b[0m\u001b[1;32m    405\u001b[0m         \u001b[0;32mreturn\u001b[0m \u001b[0mself\u001b[0m\u001b[0;34m.\u001b[0m\u001b[0m_data_queue\u001b[0m\u001b[0;34m.\u001b[0m\u001b[0mpopleft\u001b[0m\u001b[0;34m(\u001b[0m\u001b[0;34m)\u001b[0m\u001b[0;34m\u001b[0m\u001b[0;34m\u001b[0m\u001b[0m\n\u001b[1;32m    406\u001b[0m \u001b[0;34m\u001b[0m\u001b[0m\n",
      "\u001b[0;32m/opt/lsst/software/stack/python/miniconda3-4.7.10/envs/lsst-scipipe-4d7b902/lib/python3.7/asyncio/tasks.py\u001b[0m in \u001b[0;36mwait_for\u001b[0;34m(fut, timeout, loop)\u001b[0m\n\u001b[1;32m    421\u001b[0m             \u001b[0;31m# See https://bugs.python.org/issue32751\u001b[0m\u001b[0;34m\u001b[0m\u001b[0;34m\u001b[0m\u001b[0;34m\u001b[0m\u001b[0m\n\u001b[1;32m    422\u001b[0m             \u001b[0;32mawait\u001b[0m \u001b[0m_cancel_and_wait\u001b[0m\u001b[0;34m(\u001b[0m\u001b[0mfut\u001b[0m\u001b[0;34m,\u001b[0m \u001b[0mloop\u001b[0m\u001b[0;34m=\u001b[0m\u001b[0mloop\u001b[0m\u001b[0;34m)\u001b[0m\u001b[0;34m\u001b[0m\u001b[0;34m\u001b[0m\u001b[0m\n\u001b[0;32m--> 423\u001b[0;31m             \u001b[0;32mraise\u001b[0m \u001b[0mfutures\u001b[0m\u001b[0;34m.\u001b[0m\u001b[0mTimeoutError\u001b[0m\u001b[0;34m(\u001b[0m\u001b[0;34m)\u001b[0m\u001b[0;34m\u001b[0m\u001b[0;34m\u001b[0m\u001b[0m\n\u001b[0m\u001b[1;32m    424\u001b[0m     \u001b[0;32mfinally\u001b[0m\u001b[0;34m:\u001b[0m\u001b[0;34m\u001b[0m\u001b[0;34m\u001b[0m\u001b[0m\n\u001b[1;32m    425\u001b[0m         \u001b[0mtimeout_handle\u001b[0m\u001b[0;34m.\u001b[0m\u001b[0mcancel\u001b[0m\u001b[0;34m(\u001b[0m\u001b[0;34m)\u001b[0m\u001b[0;34m\u001b[0m\u001b[0;34m\u001b[0m\u001b[0m\n",
      "\u001b[0;31mTimeoutError\u001b[0m: "
     ]
    }
   ],
   "source": [
    "attcs.atmcs.evt_allAxesInPosition.flush()\n",
    "await attcs.atptg.cmd_offsetAzEl.set_start(az=60, el=20, num=0) #refence offset\n",
    "await attcs.atmcs.evt_allAxesInPosition.next(flush=False, timeout=30.)"
   ]
  },
  {
   "cell_type": "code",
   "execution_count": 30,
   "metadata": {},
   "outputs": [
    {
     "name": "stdout",
     "output_type": "stream",
     "text": [
      "AT_O_20200127_000602\n"
     ]
    }
   ],
   "source": [
    "exp_time=5.0 # seconds\n",
    "\n",
    "group_id=astropytime.Time.now().tai.isot\n",
    "\n",
    "image_1 = await latiss.take_image(exptime=exp_time, shutter=True,image_type='OBJECT',\n",
    "                                  group_id=group_id, filter='KPNO_406_828nm', grating='empty_1')# 'blank_bk7_wg05' KPNO_406_828nm'  'KPNO_1111_436nm' 'KPNO_373A_677nm' 'ronchi170lpmm'\n",
    "\n",
    "print(image_1.imageName)"
   ]
  },
  {
   "cell_type": "code",
   "execution_count": 31,
   "metadata": {},
   "outputs": [
    {
     "data": {
      "text/plain": [
       "True"
      ]
     },
     "execution_count": 31,
     "metadata": {},
     "output_type": "execute_result"
    }
   ],
   "source": [
    "c.evt_logMessage.set_put(message=\"1 - Take reference image with no offset. [END]\")"
   ]
  },
  {
   "cell_type": "markdown",
   "metadata": {},
   "source": [
    "## 2 - Apply hexapod +0.5mm offset in the x-direction and take an exposure"
   ]
  },
  {
   "cell_type": "code",
   "execution_count": 32,
   "metadata": {},
   "outputs": [
    {
     "data": {
      "text/plain": [
       "True"
      ]
     },
     "execution_count": 32,
     "metadata": {},
     "output_type": "execute_result"
    }
   ],
   "source": [
    "c.evt_logMessage.set_put(message=\"2 - Apply hexapod +0.5mm offset in the x-direction and take an exposure [START]\")"
   ]
  },
  {
   "cell_type": "code",
   "execution_count": 33,
   "metadata": {},
   "outputs": [],
   "source": [
    "attcs.athexapod.evt_positionUpdate.flush()\n",
    "await attcs.ataos.cmd_offset.set_start(x=+0.5, y=0., z=0)\n",
    "curr_hex_pos = await attcs.athexapod.evt_positionUpdate.next(flush=False, timeout=30)"
   ]
  },
  {
   "cell_type": "code",
   "execution_count": 34,
   "metadata": {},
   "outputs": [
    {
     "name": "stderr",
     "output_type": "stream",
     "text": [
      "RemoteEvent(ATHeaderService, 0, logMessage) falling behind; read 10 messages\n"
     ]
    },
    {
     "name": "stdout",
     "output_type": "stream",
     "text": [
      "AT_O_20200127_000603\n"
     ]
    }
   ],
   "source": [
    "group_id=astropytime.Time.now().tai.isot\n",
    "\n",
    "image_2 = await latiss.take_image(exptime=exp_time, shutter=True,image_type='OBJECT',\n",
    "                                  group_id=group_id, filter='KPNO_406_828nm', grating='empty_1')# 'blank_bk7_wg05' KPNO_406_828nm'  'KPNO_1111_436nm' 'KPNO_373A_677nm' 'ronchi170lpmm'\n",
    "\n",
    "print(image_2.imageName)"
   ]
  },
  {
   "cell_type": "code",
   "execution_count": 35,
   "metadata": {},
   "outputs": [
    {
     "data": {
      "text/plain": [
       "True"
      ]
     },
     "execution_count": 35,
     "metadata": {},
     "output_type": "execute_result"
    }
   ],
   "source": [
    "c.evt_logMessage.set_put(message=\"2 - Apply hexapod +0.5mm offset in the x-direction and take an exposure [END]\")"
   ]
  },
  {
   "cell_type": "markdown",
   "metadata": {},
   "source": [
    "## 3 - Zero offset in hexapod, do 30 arcsec offset in elevation and take an exposure"
   ]
  },
  {
   "cell_type": "code",
   "execution_count": 36,
   "metadata": {},
   "outputs": [
    {
     "data": {
      "text/plain": [
       "True"
      ]
     },
     "execution_count": 36,
     "metadata": {},
     "output_type": "execute_result"
    }
   ],
   "source": [
    "c.evt_logMessage.set_put(message=\"3 - Zero offset in hexapod, do 30 arcsec offset in elevation and take an exposure [START]\")"
   ]
  },
  {
   "cell_type": "code",
   "execution_count": 37,
   "metadata": {},
   "outputs": [
    {
     "ename": "TimeoutError",
     "evalue": "",
     "output_type": "error",
     "traceback": [
      "\u001b[0;31m\u001b[0m",
      "\u001b[0;31mTimeoutError\u001b[0mTraceback (most recent call last)",
      "\u001b[0;32m<ipython-input-37-9bef82a7bf5b>\u001b[0m in \u001b[0;36masync-def-wrapper\u001b[0;34m()\u001b[0m\n",
      "\u001b[0;32m~/repos/ts_salobj/python/lsst/ts/salobj/topics/read_topic.py\u001b[0m in \u001b[0;36mnext\u001b[0;34m(self, flush, timeout)\u001b[0m\n\u001b[1;32m    389\u001b[0m         \u001b[0;32mif\u001b[0m \u001b[0mflush\u001b[0m\u001b[0;34m:\u001b[0m\u001b[0;34m\u001b[0m\u001b[0;34m\u001b[0m\u001b[0m\n\u001b[1;32m    390\u001b[0m             \u001b[0mself\u001b[0m\u001b[0;34m.\u001b[0m\u001b[0mflush\u001b[0m\u001b[0;34m(\u001b[0m\u001b[0;34m)\u001b[0m\u001b[0;34m\u001b[0m\u001b[0;34m\u001b[0m\u001b[0m\n\u001b[0;32m--> 391\u001b[0;31m         \u001b[0;32mreturn\u001b[0m \u001b[0;32mawait\u001b[0m \u001b[0mself\u001b[0m\u001b[0;34m.\u001b[0m\u001b[0m_next\u001b[0m\u001b[0;34m(\u001b[0m\u001b[0mtimeout\u001b[0m\u001b[0;34m=\u001b[0m\u001b[0mtimeout\u001b[0m\u001b[0;34m)\u001b[0m\u001b[0;34m\u001b[0m\u001b[0;34m\u001b[0m\u001b[0m\n\u001b[0m\u001b[1;32m    392\u001b[0m \u001b[0;34m\u001b[0m\u001b[0m\n\u001b[1;32m    393\u001b[0m     \u001b[0;32masync\u001b[0m \u001b[0;32mdef\u001b[0m \u001b[0m_next\u001b[0m\u001b[0;34m(\u001b[0m\u001b[0mself\u001b[0m\u001b[0;34m,\u001b[0m \u001b[0;34m*\u001b[0m\u001b[0;34m,\u001b[0m \u001b[0mtimeout\u001b[0m\u001b[0;34m=\u001b[0m\u001b[0;32mNone\u001b[0m\u001b[0;34m)\u001b[0m\u001b[0;34m:\u001b[0m\u001b[0;34m\u001b[0m\u001b[0;34m\u001b[0m\u001b[0m\n",
      "\u001b[0;32m~/repos/ts_salobj/python/lsst/ts/salobj/topics/read_topic.py\u001b[0m in \u001b[0;36m_next\u001b[0;34m(self, timeout)\u001b[0m\n\u001b[1;32m    402\u001b[0m         \u001b[0;32mif\u001b[0m \u001b[0mself\u001b[0m\u001b[0;34m.\u001b[0m\u001b[0m_next_task\u001b[0m\u001b[0;34m.\u001b[0m\u001b[0mdone\u001b[0m\u001b[0;34m(\u001b[0m\u001b[0;34m)\u001b[0m\u001b[0;34m:\u001b[0m\u001b[0;34m\u001b[0m\u001b[0;34m\u001b[0m\u001b[0m\n\u001b[1;32m    403\u001b[0m             \u001b[0mself\u001b[0m\u001b[0;34m.\u001b[0m\u001b[0m_next_task\u001b[0m \u001b[0;34m=\u001b[0m \u001b[0masyncio\u001b[0m\u001b[0;34m.\u001b[0m\u001b[0mFuture\u001b[0m\u001b[0;34m(\u001b[0m\u001b[0;34m)\u001b[0m\u001b[0;34m\u001b[0m\u001b[0;34m\u001b[0m\u001b[0m\n\u001b[0;32m--> 404\u001b[0;31m         \u001b[0;32mawait\u001b[0m \u001b[0masyncio\u001b[0m\u001b[0;34m.\u001b[0m\u001b[0mwait_for\u001b[0m\u001b[0;34m(\u001b[0m\u001b[0mself\u001b[0m\u001b[0;34m.\u001b[0m\u001b[0m_next_task\u001b[0m\u001b[0;34m,\u001b[0m \u001b[0mtimeout\u001b[0m\u001b[0;34m=\u001b[0m\u001b[0mtimeout\u001b[0m\u001b[0;34m)\u001b[0m\u001b[0;34m\u001b[0m\u001b[0;34m\u001b[0m\u001b[0m\n\u001b[0m\u001b[1;32m    405\u001b[0m         \u001b[0;32mreturn\u001b[0m \u001b[0mself\u001b[0m\u001b[0;34m.\u001b[0m\u001b[0m_data_queue\u001b[0m\u001b[0;34m.\u001b[0m\u001b[0mpopleft\u001b[0m\u001b[0;34m(\u001b[0m\u001b[0;34m)\u001b[0m\u001b[0;34m\u001b[0m\u001b[0;34m\u001b[0m\u001b[0m\n\u001b[1;32m    406\u001b[0m \u001b[0;34m\u001b[0m\u001b[0m\n",
      "\u001b[0;32m/opt/lsst/software/stack/python/miniconda3-4.7.10/envs/lsst-scipipe-4d7b902/lib/python3.7/asyncio/tasks.py\u001b[0m in \u001b[0;36mwait_for\u001b[0;34m(fut, timeout, loop)\u001b[0m\n\u001b[1;32m    421\u001b[0m             \u001b[0;31m# See https://bugs.python.org/issue32751\u001b[0m\u001b[0;34m\u001b[0m\u001b[0;34m\u001b[0m\u001b[0;34m\u001b[0m\u001b[0m\n\u001b[1;32m    422\u001b[0m             \u001b[0;32mawait\u001b[0m \u001b[0m_cancel_and_wait\u001b[0m\u001b[0;34m(\u001b[0m\u001b[0mfut\u001b[0m\u001b[0;34m,\u001b[0m \u001b[0mloop\u001b[0m\u001b[0;34m=\u001b[0m\u001b[0mloop\u001b[0m\u001b[0;34m)\u001b[0m\u001b[0;34m\u001b[0m\u001b[0;34m\u001b[0m\u001b[0m\n\u001b[0;32m--> 423\u001b[0;31m             \u001b[0;32mraise\u001b[0m \u001b[0mfutures\u001b[0m\u001b[0;34m.\u001b[0m\u001b[0mTimeoutError\u001b[0m\u001b[0;34m(\u001b[0m\u001b[0;34m)\u001b[0m\u001b[0;34m\u001b[0m\u001b[0;34m\u001b[0m\u001b[0m\n\u001b[0m\u001b[1;32m    424\u001b[0m     \u001b[0;32mfinally\u001b[0m\u001b[0;34m:\u001b[0m\u001b[0;34m\u001b[0m\u001b[0;34m\u001b[0m\u001b[0m\n\u001b[1;32m    425\u001b[0m         \u001b[0mtimeout_handle\u001b[0m\u001b[0;34m.\u001b[0m\u001b[0mcancel\u001b[0m\u001b[0;34m(\u001b[0m\u001b[0;34m)\u001b[0m\u001b[0;34m\u001b[0m\u001b[0;34m\u001b[0m\u001b[0m\n",
      "\u001b[0;31mTimeoutError\u001b[0m: "
     ]
    }
   ],
   "source": [
    "attcs.athexapod.evt_positionUpdate.flush()\n",
    "await attcs.ataos.cmd_offset.set_start(x=-0.5, y=0., z=0)\n",
    "curr_hex_pos = await attcs.athexapod.evt_positionUpdate.next(flush=False, timeout=30)\n",
    "attcs.atmcs.evt_allAxesInPosition.flush()\n",
    "await attcs.atptg.cmd_offsetAzEl.set_start(az=60, el=20+30, num=0) #refence offset\n",
    "await attcs.atmcs.evt_allAxesInPosition.next(flush=False, timeout=30.)"
   ]
  },
  {
   "cell_type": "code",
   "execution_count": 38,
   "metadata": {},
   "outputs": [
    {
     "name": "stderr",
     "output_type": "stream",
     "text": [
      "RemoteEvent(ATHeaderService, 0, logMessage) falling behind; read 10 messages\n"
     ]
    },
    {
     "name": "stdout",
     "output_type": "stream",
     "text": [
      "AT_O_20200127_000604\n"
     ]
    }
   ],
   "source": [
    "group_id=astropytime.Time.now().tai.isot\n",
    "\n",
    "image_3 = await latiss.take_image(exptime=exp_time, shutter=True,image_type='OBJECT',\n",
    "                                  group_id=group_id, filter='KPNO_406_828nm', grating='empty_1')# 'blank_bk7_wg05' KPNO_406_828nm'  'KPNO_1111_436nm' 'KPNO_373A_677nm' 'ronchi170lpmm'\n",
    "\n",
    "print(image_3.imageName)"
   ]
  },
  {
   "cell_type": "code",
   "execution_count": 39,
   "metadata": {},
   "outputs": [
    {
     "data": {
      "text/plain": [
       "True"
      ]
     },
     "execution_count": 39,
     "metadata": {},
     "output_type": "execute_result"
    }
   ],
   "source": [
    "c.evt_logMessage.set_put(message=\"3 - Zero offset in hexapod, do 30 arcsec offset in elevation and take an exposure [END]\")"
   ]
  },
  {
   "cell_type": "markdown",
   "metadata": {},
   "source": [
    "## 4 - apply hexapod +0.5mm offset in the y-direction and take an exposure"
   ]
  },
  {
   "cell_type": "code",
   "execution_count": 40,
   "metadata": {},
   "outputs": [
    {
     "data": {
      "text/plain": [
       "True"
      ]
     },
     "execution_count": 40,
     "metadata": {},
     "output_type": "execute_result"
    }
   ],
   "source": [
    "c.evt_logMessage.set_put(message=\"4 - apply hexapod +0.5mm offset in the y-direction and take an exposure [START]\")"
   ]
  },
  {
   "cell_type": "code",
   "execution_count": 41,
   "metadata": {},
   "outputs": [
    {
     "data": {
      "text/plain": [
       "<lsst.ts.salobj.ddsutil.ATMCS_logevent_allAxesInPosition_65585257 at 0x7feb14caada0>"
      ]
     },
     "execution_count": 41,
     "metadata": {},
     "output_type": "execute_result"
    }
   ],
   "source": [
    "attcs.athexapod.evt_positionUpdate.flush()\n",
    "await attcs.ataos.cmd_offset.set_start(y=+0.5, x=0., z=0)\n",
    "curr_hex_pos = await attcs.athexapod.evt_positionUpdate.next(flush=False, timeout=30)\n",
    "attcs.atmcs.evt_allAxesInPosition.flush()\n",
    "await attcs.atptg.cmd_offsetAzEl.set_start(az=60, el=20, num=0) #refence offset\n",
    "await attcs.atmcs.evt_allAxesInPosition.next(flush=False, timeout=30.)"
   ]
  },
  {
   "cell_type": "code",
   "execution_count": 42,
   "metadata": {},
   "outputs": [
    {
     "name": "stderr",
     "output_type": "stream",
     "text": [
      "RemoteEvent(ATHeaderService, 0, logMessage) falling behind; read 10 messages\n"
     ]
    },
    {
     "name": "stdout",
     "output_type": "stream",
     "text": [
      "AT_O_20200127_000605\n"
     ]
    }
   ],
   "source": [
    "group_id=astropytime.Time.now().tai.isot\n",
    "\n",
    "image_4 = await latiss.take_image(exptime=exp_time, shutter=True,image_type='OBJECT',\n",
    "                                  group_id=group_id, filter='KPNO_406_828nm', grating='empty_1')# 'blank_bk7_wg05' KPNO_406_828nm'  'KPNO_1111_436nm' 'KPNO_373A_677nm' 'ronchi170lpmm'\n",
    "\n",
    "print(image_4.imageName)"
   ]
  },
  {
   "cell_type": "code",
   "execution_count": 43,
   "metadata": {},
   "outputs": [
    {
     "data": {
      "text/plain": [
       "True"
      ]
     },
     "execution_count": 43,
     "metadata": {},
     "output_type": "execute_result"
    }
   ],
   "source": [
    "c.evt_logMessage.set_put(message=\"4 - apply hexapod +0.5mm offset in the y-direction and take an exposure [END]\")"
   ]
  },
  {
   "cell_type": "markdown",
   "metadata": {},
   "source": [
    "## 5 - Zero offset in hexapod, do 30 arcsec offset in azimuth and take an exposure"
   ]
  },
  {
   "cell_type": "code",
   "execution_count": 44,
   "metadata": {},
   "outputs": [
    {
     "data": {
      "text/plain": [
       "True"
      ]
     },
     "execution_count": 44,
     "metadata": {},
     "output_type": "execute_result"
    }
   ],
   "source": [
    "c.evt_logMessage.set_put(message=\"5 - Zero offset in hexapod, do 30 arcsec offset in azimuth and take an exposure [START]\")"
   ]
  },
  {
   "cell_type": "code",
   "execution_count": 45,
   "metadata": {},
   "outputs": [
    {
     "data": {
      "text/plain": [
       "<lsst.ts.salobj.ddsutil.ATMCS_logevent_allAxesInPosition_65585257 at 0x7feb1c34f048>"
      ]
     },
     "execution_count": 45,
     "metadata": {},
     "output_type": "execute_result"
    }
   ],
   "source": [
    "attcs.athexapod.evt_positionUpdate.flush()\n",
    "await attcs.ataos.cmd_offset.set_start(y=-0.5, x=0., z=0)\n",
    "curr_hex_pos = await attcs.athexapod.evt_positionUpdate.next(flush=False, timeout=30)\n",
    "attcs.atmcs.evt_allAxesInPosition.flush()\n",
    "await attcs.atptg.cmd_offsetAzEl.set_start(az=60+30, el=20, num=0) #refence offset\n",
    "await attcs.atmcs.evt_allAxesInPosition.next(flush=False, timeout=30.)"
   ]
  },
  {
   "cell_type": "code",
   "execution_count": 46,
   "metadata": {},
   "outputs": [
    {
     "name": "stderr",
     "output_type": "stream",
     "text": [
      "RemoteEvent(ATHeaderService, 0, logMessage) falling behind; read 10 messages\n"
     ]
    },
    {
     "name": "stdout",
     "output_type": "stream",
     "text": [
      "AT_O_20200127_000606\n"
     ]
    }
   ],
   "source": [
    "group_id=astropytime.Time.now().tai.isot\n",
    "\n",
    "image_5 = await latiss.take_image(exptime=exp_time, shutter=True,image_type='OBJECT',\n",
    "                                  group_id=group_id, filter='KPNO_406_828nm', grating='empty_1')# 'blank_bk7_wg05' KPNO_406_828nm'  'KPNO_1111_436nm' 'KPNO_373A_677nm' 'ronchi170lpmm'\n",
    "\n",
    "print(image_5.imageName)"
   ]
  },
  {
   "cell_type": "code",
   "execution_count": 47,
   "metadata": {},
   "outputs": [
    {
     "data": {
      "text/plain": [
       "True"
      ]
     },
     "execution_count": 47,
     "metadata": {},
     "output_type": "execute_result"
    }
   ],
   "source": [
    "c.evt_logMessage.set_put(message=\"5 - Zero offset in hexapod, do 30 arcsec offset in azimuth and take an exposure [END]\")"
   ]
  },
  {
   "cell_type": "code",
   "execution_count": 48,
   "metadata": {},
   "outputs": [
    {
     "data": {
      "text/plain": [
       "True"
      ]
     },
     "execution_count": 48,
     "metadata": {},
     "output_type": "execute_result"
    }
   ],
   "source": [
    "c.evt_logMessage.set_put(message=\"Test of axis orientation on the camera. [END]\")"
   ]
  },
  {
   "cell_type": "code",
   "execution_count": null,
   "metadata": {},
   "outputs": [],
   "source": [
    "await attcs.ataos.cmd_offset.set_start(x=+0.05, y=0., z=0)"
   ]
  },
  {
   "cell_type": "code",
   "execution_count": null,
   "metadata": {},
   "outputs": [],
   "source": [
    "await attcs.shutdown()"
   ]
  },
  {
   "cell_type": "code",
   "execution_count": null,
   "metadata": {},
   "outputs": [],
   "source": []
  },
  {
   "cell_type": "code",
   "execution_count": null,
   "metadata": {},
   "outputs": [],
   "source": []
  },
  {
   "cell_type": "code",
   "execution_count": null,
   "metadata": {},
   "outputs": [],
   "source": [
    "azel = await attcs.atmcs.tel_mount_AzEl_Encoders.aget()\n",
    "nasmyth = await attcs.atmcs.tel_mount_Nasmyth_Encoders.aget()\n",
    "angle = np.mean(azel.elevationCalculatedAngle)+np.mean(nasmyth.nasmyth1CalculatedAngle)\n",
    "el, az, _ = np.matmul([20, -18, 0.], rotation_matrix(angle))\n",
    "print(az,el)\n",
    "await attcs.atptg.cmd_offsetAzEl.set_start(az=az, el=el, num=0)\n"
   ]
  },
  {
   "cell_type": "code",
   "execution_count": null,
   "metadata": {},
   "outputs": [],
   "source": [
    "azel = await attcs.atmcs.tel_mount_AzEl_Encoders.aget()\n",
    "nasmyth = await attcs.atmcs.tel_mount_Nasmyth_Encoders.aget()\n",
    "angle = np.mean(azel.elevationCalculatedAngle)+np.mean(nasmyth.nasmyth1CalculatedAngle)\n",
    "el, az, _ = np.matmul([20, -18-40, 0.], rotation_matrix(angle))\n",
    "print(az,el)\n",
    "await attcs.atptg.cmd_offsetAzEl.set_start(az=az, el=el, num=0)\n",
    "\n"
   ]
  },
  {
   "cell_type": "code",
   "execution_count": null,
   "metadata": {},
   "outputs": [],
   "source": [
    "azel = await attcs.atmcs.tel_mount_AzEl_Encoders.aget()\n",
    "nasmyth = await attcs.atmcs.tel_mount_Nasmyth_Encoders.aget()\n",
    "angle = np.mean(azel.elevationCalculatedAngle)+np.mean(nasmyth.nasmyth1CalculatedAngle)\n",
    "el, az, _ = np.matmul([20+160., -18-50, 0.], rotation_matrix(angle))\n",
    "print(az,el)\n",
    "await attcs.atptg.cmd_offsetAzEl.set_start(az=az, el=el, num=0)\n"
   ]
  },
  {
   "cell_type": "code",
   "execution_count": null,
   "metadata": {},
   "outputs": [],
   "source": [
    "az=168.56 \n",
    "el=-92"
   ]
  },
  {
   "cell_type": "code",
   "execution_count": null,
   "metadata": {},
   "outputs": [],
   "source": [
    "await attcs.atptg.cmd_offsetAzEl.set_start(az=az, el=el, num=0)"
   ]
  },
  {
   "cell_type": "code",
   "execution_count": null,
   "metadata": {},
   "outputs": [],
   "source": [
    "azel = await attcs.atmcs.tel_mount_AzEl_Encoders.aget()\n",
    "nasmyth = await attcs.atmcs.tel_mount_Nasmyth_Encoders.aget()\n",
    "angle = np.mean(azel.elevationCalculatedAngle)+np.mean(nasmyth.nasmyth1CalculatedAngle)\n",
    "el, az, _ = np.matmul([70, 35, 0.], rotation_matrix(angle))\n",
    "print(az,el)\n",
    "await attcs.atptg.cmd_offsetAzEl.set_start(az=az, el=el, num=0)\n",
    "\n",
    "\n"
   ]
  },
  {
   "cell_type": "code",
   "execution_count": null,
   "metadata": {},
   "outputs": [],
   "source": [
    "await attcs.atptg.cmd_offsetAzEl.set_start(az=60, el=20, num=0)"
   ]
  },
  {
   "cell_type": "code",
   "execution_count": null,
   "metadata": {},
   "outputs": [],
   "source": [
    "dz = 0.8"
   ]
  },
  {
   "cell_type": "code",
   "execution_count": null,
   "metadata": {},
   "outputs": [],
   "source": [
    "attcs.athexapod.evt_positionUpdate.flush()\n",
    "await attcs.ataos.cmd_offset.set_start(z=-dz)\n",
    "curr_hex_pos = await attcs.athexapod.evt_positionUpdate.next(flush=False, timeout=30)\n",
    "\n"
   ]
  },
  {
   "cell_type": "code",
   "execution_count": null,
   "metadata": {},
   "outputs": [],
   "source": [
    "attcs.athexapod.evt_positionUpdate.flush()\n",
    "await attcs.ataos.cmd_offset.set_start(z=2.*dz)\n",
    "curr_hex_pos = await attcs.athexapod.evt_positionUpdate.next(flush=False, timeout=30)\n"
   ]
  },
  {
   "cell_type": "markdown",
   "metadata": {},
   "source": [
    "## "
   ]
  },
  {
   "cell_type": "code",
   "execution_count": null,
   "metadata": {},
   "outputs": [],
   "source": []
  },
  {
   "cell_type": "code",
   "execution_count": null,
   "metadata": {},
   "outputs": [],
   "source": []
  },
  {
   "cell_type": "code",
   "execution_count": null,
   "metadata": {},
   "outputs": [],
   "source": [
    "azel = await attcs.atmcs.tel_mount_AzEl_Encoders.aget()\n",
    "nasmyth = await attcs.atmcs.tel_mount_Nasmyth_Encoders.aget()\n",
    "angle = np.mean(azel.elevationCalculatedAngle)+np.mean(nasmyth.nasmyth1CalculatedAngle)\n",
    "el, az, _ = np.matmul([20-90., -18, 0.], rotation_matrix(angle))\n",
    "print(az,el)\n",
    "await attcs.atptg.cmd_offsetAzEl.set_start(az=az, el=el, num=0)\n",
    "\n"
   ]
  },
  {
   "cell_type": "code",
   "execution_count": null,
   "metadata": {},
   "outputs": [],
   "source": [
    "offset_x = (np.random.random()-0.5)*240.\n",
    "offset_y = (np.random.random()-0.5)*240.\n",
    "print(offset_x, offset_y)\n",
    "azel = await attcs.atmcs.tel_mount_AzEl_Encoders.aget()\n",
    "nasmyth = await attcs.atmcs.tel_mount_Nasmyth_Encoders.aget()\n",
    "angle = np.mean(azel.elevationCalculatedAngle)+np.mean(nasmyth.nasmyth1CalculatedAngle)\n",
    "el, az, _ = np.matmul([20+offset_x, -18+offset_y, 0.], rotation_matrix(angle))\n",
    "await attcs.atptg.cmd_offsetAzEl.set_start(az=az, el=el, num=0)\n"
   ]
  },
  {
   "cell_type": "code",
   "execution_count": null,
   "metadata": {},
   "outputs": [],
   "source": [
    "c = salobj.Controller(\"Script\", index=11)"
   ]
  },
  {
   "cell_type": "code",
   "execution_count": null,
   "metadata": {},
   "outputs": [],
   "source": [
    "await c.start_task"
   ]
  },
  {
   "cell_type": "code",
   "execution_count": null,
   "metadata": {},
   "outputs": [],
   "source": [
    "offset_x = (np.random.random()-0.5)*240.\n",
    "offset_y = (np.random.random()-0.5)*240.\n",
    "print(offset_x, offset_y)\n",
    "azel = await attcs.atmcs.tel_mount_AzEl_Encoders.aget()\n",
    "nasmyth = await attcs.atmcs.tel_mount_Nasmyth_Encoders.aget()\n",
    "angle = np.mean(azel.elevationCalculatedAngle)+np.mean(nasmyth.nasmyth1CalculatedAngle)\n",
    "el, az, _ = np.matmul([20+offset_x, -18+offset_y, 0.], rotation_matrix(angle))\n",
    "await attcs.atptg.cmd_offsetAzEl.set_start(az=az, el=el, num=0)\n",
    "\n"
   ]
  },
  {
   "cell_type": "code",
   "execution_count": null,
   "metadata": {},
   "outputs": [],
   "source": [
    "offset_x = (np.random.random()-0.5)*240.\n",
    "offset_y = (np.random.random()-0.5)*240.\n",
    "print(offset_x, offset_y)\n",
    "azel = await attcs.atmcs.tel_mount_AzEl_Encoders.aget()\n",
    "nasmyth = await attcs.atmcs.tel_mount_Nasmyth_Encoders.aget()\n",
    "angle = np.mean(azel.elevationCalculatedAngle)+np.mean(nasmyth.nasmyth1CalculatedAngle)\n",
    "el, az, _ = np.matmul([20+offset_x, -18+offset_y, 0.], rotation_matrix(angle))\n",
    "await attcs.atptg.cmd_offsetAzEl.set_start(az=az, el=el, num=0)"
   ]
  },
  {
   "cell_type": "code",
   "execution_count": null,
   "metadata": {},
   "outputs": [],
   "source": [
    "offset_x = (np.random.random()-0.5)*240.\n",
    "offset_y = (np.random.random()-0.5)*240.\n",
    "print(offset_x, offset_y)\n",
    "azel = await attcs.atmcs.tel_mount_AzEl_Encoders.aget()\n",
    "nasmyth = await attcs.atmcs.tel_mount_Nasmyth_Encoders.aget()\n",
    "angle = np.mean(azel.elevationCalculatedAngle)+np.mean(nasmyth.nasmyth1CalculatedAngle)\n",
    "el, az, _ = np.matmul([20+offset_x, -18+offset_y, 0.], rotation_matrix(angle))\n",
    "await attcs.atptg.cmd_offsetAzEl.set_start(az=az, el=el, num=0)"
   ]
  },
  {
   "cell_type": "code",
   "execution_count": null,
   "metadata": {},
   "outputs": [],
   "source": [
    "offset_x = (np.random.random()-0.5)*240.\n",
    "offset_y = (np.random.random()-0.5)*240.\n",
    "print(offset_x, offset_y)\n",
    "azel = await attcs.atmcs.tel_mount_AzEl_Encoders.aget()\n",
    "nasmyth = await attcs.atmcs.tel_mount_Nasmyth_Encoders.aget()\n",
    "angle = np.mean(azel.elevationCalculatedAngle)+np.mean(nasmyth.nasmyth1CalculatedAngle)\n",
    "el, az, _ = np.matmul([20+offset_x, -18+offset_y, 0.], rotation_matrix(angle))\n",
    "await attcs.atptg.cmd_offsetAzEl.set_start(az=az, el=el, num=0)"
   ]
  },
  {
   "cell_type": "code",
   "execution_count": null,
   "metadata": {},
   "outputs": [],
   "source": [
    "offset_x = (np.random.random()-0.5)*240.\n",
    "offset_y = (np.random.random()-0.5)*240.\n",
    "print(offset_x, offset_y)\n",
    "azel = await attcs.atmcs.tel_mount_AzEl_Encoders.aget()\n",
    "nasmyth = await attcs.atmcs.tel_mount_Nasmyth_Encoders.aget()\n",
    "angle = np.mean(azel.elevationCalculatedAngle)+np.mean(nasmyth.nasmyth1CalculatedAngle)\n",
    "el, az, _ = np.matmul([20+offset_x, -18+offset_y, 0.], rotation_matrix(angle))\n",
    "await attcs.atptg.cmd_offsetAzEl.set_start(az=az, el=el, num=0)"
   ]
  },
  {
   "cell_type": "code",
   "execution_count": null,
   "metadata": {},
   "outputs": [],
   "source": [
    "await attcs.ataos.cmd_offset.set_start(z=+0.05)\n",
    "curr_hex_pos = await attcs.athexapod.evt_positionUpdate.next(flush=False, timeout=30)"
   ]
  },
  {
   "cell_type": "code",
   "execution_count": null,
   "metadata": {},
   "outputs": [],
   "source": []
  },
  {
   "cell_type": "code",
   "execution_count": null,
   "metadata": {},
   "outputs": [],
   "source": []
  },
  {
   "cell_type": "code",
   "execution_count": null,
   "metadata": {},
   "outputs": [],
   "source": []
  },
  {
   "cell_type": "code",
   "execution_count": null,
   "metadata": {},
   "outputs": [],
   "source": []
  },
  {
   "cell_type": "code",
   "execution_count": null,
   "metadata": {},
   "outputs": [],
   "source": []
  },
  {
   "cell_type": "code",
   "execution_count": null,
   "metadata": {},
   "outputs": [],
   "source": []
  },
  {
   "cell_type": "code",
   "execution_count": null,
   "metadata": {},
   "outputs": [],
   "source": [
    "await attcs.enable(settings={\n",
    "    'ataos': \"current\",\n",
    "    'atmcs': \"\",\n",
    "    'atptg': \"\",\n",
    "    'atpneumatics': \"\",\n",
    "    'athexapod': \"auxtel_201912_crazy.yaml\",\n",
    "    'atdome': \"test.yaml\",\n",
    "    'atdometrajectory': \"\"})"
   ]
  },
  {
   "cell_type": "code",
   "execution_count": null,
   "metadata": {},
   "outputs": [],
   "source": [
    "rotation_matrix = lambda angle: np.array([\n",
    "            [np.cos(np.radians(angle)), -np.sin(np.radians(angle)), 0.],\n",
    "            [np.sin(np.radians(angle)), np.cos(np.radians(angle)), 0.],\n",
    "            [0., 0., 1.]])\n",
    "azel = await attcs.atmcs.tel_mount_AzEl_Encoders.aget()\n",
    "nasmyth = await attcs.atmcs.tel_mount_Nasmyth_Encoders.aget()\n",
    "angle = np.mean(azel.elevationCalculatedAngle)+np.mean(nasmyth.nasmyth1CalculatedAngle)\n",
    "el, az, _ = np.matmul([20, -18., 0.], rotation_matrix(angle))"
   ]
  },
  {
   "cell_type": "code",
   "execution_count": null,
   "metadata": {},
   "outputs": [],
   "source": [
    "el, az"
   ]
  },
  {
   "cell_type": "code",
   "execution_count": null,
   "metadata": {},
   "outputs": [],
   "source": [
    "await attcs.atptg.cmd_offsetAzEl.set_start(az=az, el=el, num=0)"
   ]
  },
  {
   "cell_type": "code",
   "execution_count": null,
   "metadata": {},
   "outputs": [],
   "source": [
    "5*360/24"
   ]
  },
  {
   "cell_type": "code",
   "execution_count": null,
   "metadata": {},
   "outputs": [],
   "source": [
    "attcs.slew_icrs?"
   ]
  },
  {
   "cell_type": "code",
   "execution_count": null,
   "metadata": {},
   "outputs": [],
   "source": [
    "await attcs.slew_icrs"
   ]
  },
  {
   "cell_type": "code",
   "execution_count": null,
   "metadata": {},
   "outputs": [],
   "source": [
    "await attcs.ataos.cmd_applyAxisOffset.set_start(axis=\"x\", offset=x_offset)\n",
    "await attcs.ataos.cmd_applyAxisOffset.set_start(axis=\"y\", offset=y_offset)"
   ]
  },
  {
   "cell_type": "code",
   "execution_count": null,
   "metadata": {},
   "outputs": [],
   "source": [
    "await attcs.ataos.cmd_applyAxisOffset.set_start(axis=\"z\", offset=focus_offset)"
   ]
  },
  {
   "cell_type": "code",
   "execution_count": null,
   "metadata": {},
   "outputs": [],
   "source": [
    "dz = 0.8\n",
    "\n",
    "try:\n",
    "    await cam.cmd_stopLiveView.start()\n",
    "except salobj.AckError:\n",
    "    print(\"ack error\")\n",
    "\n",
    "# Intrafocal hexapod setting - offsets -0.5mm from central focus value above\n",
    "\n",
    "print('Move to intrafocal position')\n",
    "# await attcs.athexapod.cmd_moveToPosition.set_start(x=hex_X, y=hex_Y,\n",
    "#                                              z=hex_Z-dz, u=hex_U, v=hex_V)\n",
    "attcs.athexapod.evt_positionUpdate.flush()\n",
    "await attcs.ataos.cmd_applyAxisOffset.set_start(axis=\"z\", offset=-dz+focus_offset)\n",
    "curr_hex_pos = await attcs.athexapod.evt_positionUpdate.next(flush=False, timeout=30)\n",
    "\n",
    "print('Take intrafocal image')\n",
    "cam.evt_endReadout.flush()\n",
    "\n",
    "await cam.cmd_takeImages.set_start(numImages=1, expTime=expTime, shutter=True, imageSequenceName=target_name+'_intra')\n",
    "\n",
    "intra_endron = await cam.evt_endReadout.next(flush=False, timeout=5)\n",
    "\n",
    "# Extrafocal hexapod setting\n",
    "print('Move to extra-focal hexapod position')\n",
    "# await attcs.athexapod.cmd_moveToPosition.set_start(x=hex_X, y=hex_Y,\n",
    "#                                                      z=hex_Z+dz, u=hex_U, v=hex_V)\n",
    "attcs.athexapod.evt_positionUpdate.flush()\n",
    "await attcs.ataos.cmd_applyAxisOffset.set_start(axis=\"z\", offset=dz+focus_offset)\n",
    "curr_hex_pos = await attcs.athexapod.evt_positionUpdate.next(flush=False, timeout=30)\n",
    "\n",
    "# r.evt_endReadout.flush()\n",
    "print('Take extra-focal image')\n",
    "cam.evt_endReadout.flush()\n",
    "await cam.cmd_takeImages.set_start(numImages=1, expTime=expTime, shutter=True, imageSequenceName=target_name+'_extra')\n",
    "\n",
    "extra_endron = await cam.evt_endReadout.next(flush=False, timeout=5)\n",
    "\n",
    "azel = await attcs.atmcs.tel_mount_AzEl_Encoders.aget()\n",
    "nasmyth = await attcs.atmcs.tel_mount_Nasmyth_Encoders.aget()\n",
    "\n",
    "print(f\"============\")\n",
    "print(f\"dz={dz}\")\n",
    "print(intra_endron.imageName)\n",
    "print(extra_endron.imageName)\n",
    "print(f\"============\")\n",
    "\n",
    "try:\n",
    "    await cam.cmd_startLiveView.set_start(expTime=0.5)\n",
    "except salobj.AckError:\n",
    "    print(\"ack error\")\n",
    "\n",
    "attcs.athexapod.evt_positionUpdate.flush()\n",
    "await attcs.ataos.cmd_applyAxisOffset.set_start(axis=\"z\", offset=focus_offset)\n",
    "curr_hex_pos = await attcs.athexapod.evt_positionUpdate.next(flush=False, timeout=30)\n",
    "\n",
    "print(f\"['{intra_endron.imageName}.fits'], ['{extra_endron.imageName}.fits']\")\n",
    "print(np.mean(azel.elevationCalculatedAngle)+np.mean(nasmyth.nasmyth1CalculatedAngle))\n",
    "\n",
    "# intra_wget_url = 'http://139.229.170.216:8000/data/'+intra_endron.imageName+'.fits'\n",
    "# extra_wget_url = 'http://139.229.170.216:8000/data/'+extra_endron.imageName+'.fits'\n",
    "# intra_fname = wget.download(intra_wget_url)\n",
    "# print(f\"============\")\n",
    "# print(f'{intra_fname}')\n",
    "# extra_fname = wget.download(extra_wget_url)\n",
    "# print(f'{extra_fname}')\n",
    "# print(f\"============\")\n"
   ]
  },
  {
   "cell_type": "code",
   "execution_count": null,
   "metadata": {},
   "outputs": [],
   "source": [
    "intra_wget_url = 'http://139.229.170.216:8000/data/'+intra_endron.imageName+'.fits'\n",
    "extra_wget_url = 'http://139.229.170.216:8000/data/'+extra_endron.imageName+'.fits'\n",
    "\n",
    "intra_fname = wget.download(intra_wget_url, out=\"/home/saluser/develop/cwfs/python/data\")\n",
    "extra_fname = wget.download(extra_wget_url, out=\"/home/saluser/develop/cwfs/python/data\")\n",
    "\n",
    "print(intra_fname,extra_fname)"
   ]
  },
  {
   "cell_type": "code",
   "execution_count": null,
   "metadata": {},
   "outputs": [],
   "source": []
  },
  {
   "cell_type": "code",
   "execution_count": null,
   "metadata": {},
   "outputs": [],
   "source": [
    "await attcs.ataos.cmd_offset.set_start(z=0.)"
   ]
  },
  {
   "cell_type": "code",
   "execution_count": null,
   "metadata": {},
   "outputs": [],
   "source": [
    "await attcs.ataos.cmd_resetOffset.start()"
   ]
  },
  {
   "cell_type": "code",
   "execution_count": null,
   "metadata": {},
   "outputs": [],
   "source": [
    "await attcs.ataos.cmd_offset.set_start(z=-0.1)\n",
    "curr_hex_pos = await attcs.athexapod.evt_positionUpdate.next(flush=False, timeout=30)\n",
    "print(\"done\")"
   ]
  },
  {
   "cell_type": "code",
   "execution_count": null,
   "metadata": {},
   "outputs": [],
   "source": [
    "await attcs.atdome.cmd_openShutter.start()"
   ]
  },
  {
   "cell_type": "code",
   "execution_count": null,
   "metadata": {},
   "outputs": [],
   "source": []
  }
 ],
 "metadata": {
  "kernelspec": {
   "display_name": "Python 3",
   "language": "python",
   "name": "python3"
  },
  "language_info": {
   "codemirror_mode": {
    "name": "ipython",
    "version": 3
   },
   "file_extension": ".py",
   "mimetype": "text/x-python",
   "name": "python",
   "nbconvert_exporter": "python",
   "pygments_lexer": "ipython3",
   "version": "3.7.2"
  }
 },
 "nbformat": 4,
 "nbformat_minor": 4
}
