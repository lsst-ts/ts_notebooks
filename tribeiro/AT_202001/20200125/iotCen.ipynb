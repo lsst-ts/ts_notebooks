{
 "cells": [
  {
   "cell_type": "code",
   "execution_count": 1,
   "metadata": {},
   "outputs": [],
   "source": [
    "import os\n",
    "import copy\n",
    "import wget\n",
    "import time\n",
    "import asyncio\n",
    "import warnings\n",
    "import logging\n",
    "\n",
    "import numpy as np\n",
    "\n",
    "from lsst.ts import salobj\n",
    "from lsst.ts.standardscripts.auxtel.attcs import ATTCS\n",
    "\n",
    "%matplotlib inline"
   ]
  },
  {
   "cell_type": "code",
   "execution_count": 2,
   "metadata": {},
   "outputs": [
    {
     "name": "stderr",
     "output_type": "stream",
     "text": [
      "RemoteTelemetry(ATDome, 0, position) falling behind; read 33 messages\n",
      "RemoteEvent(ATDomeTrajectory, 0, logMessage) falling behind; read 100 messages\n"
     ]
    },
    {
     "data": {
      "text/plain": [
       "[[None, None, None, None, None, None, None], None]"
      ]
     },
     "execution_count": 2,
     "metadata": {},
     "output_type": "execute_result"
    },
    {
     "name": "stderr",
     "output_type": "stream",
     "text": [
      "RemoteEvent(ATAOS, 0, detailedState) falling behind; read 11 messages\n"
     ]
    }
   ],
   "source": [
    "attcs = ATTCS()\n",
    "cam = salobj.Remote(attcs.domain, \"GenericCamera\", 1)\n",
    "\n",
    "await asyncio.gather(attcs.start_task, cam.start_task) "
   ]
  },
  {
   "cell_type": "code",
   "execution_count": 5,
   "metadata": {},
   "outputs": [],
   "source": [
    "# Declare target name\n",
    "target_name='iotCen'"
   ]
  },
  {
   "cell_type": "code",
   "execution_count": 42,
   "metadata": {},
   "outputs": [],
   "source": [
    "focus_offset=0.011408860000000003-0.00524873+0.04107877-0.03388079\n",
    "x_offset=-0.51889512+0.73684108-0.1408324-0.44613063\n",
    "y_offset=-0.08800368999999994+0.30172143+0.012768-0.15228448\n",
    "expTime=40."
   ]
  },
  {
   "cell_type": "code",
   "execution_count": 43,
   "metadata": {},
   "outputs": [
    {
     "data": {
      "text/plain": [
       "<lsst.ts.salobj.ddsutil.ATAOS_ackcmd_33d5c92b at 0x7f9da3565ef0>"
      ]
     },
     "execution_count": 43,
     "metadata": {},
     "output_type": "execute_result"
    }
   ],
   "source": [
    "await attcs.ataos.cmd_applyAxisOffset.set_start(axis=\"x\", offset=x_offset)\n",
    "await attcs.ataos.cmd_applyAxisOffset.set_start(axis=\"y\", offset=y_offset)"
   ]
  },
  {
   "cell_type": "code",
   "execution_count": 44,
   "metadata": {},
   "outputs": [
    {
     "name": "stdout",
     "output_type": "stream",
     "text": [
      "Move to intrafocal position\n",
      "Take intrafocal image\n",
      "Move to extra-focal hexapod position\n",
      "Take extra-focal image\n",
      "============\n",
      "dz=0.8\n",
      "1580016146-iotCen_intra-0-1\n",
      "1580016193-iotCen_extra-0-1\n",
      "============\n",
      "['1580016146-iotCen_intra-0-1.fits'], ['1580016193-iotCen_extra-0-1.fits']\n",
      "144.96369175186248\n"
     ]
    }
   ],
   "source": [
    "dz = 0.8\n",
    "\n",
    "try:\n",
    "    await cam.cmd_stopLiveView.start()\n",
    "except salobj.AckError:\n",
    "    print(\"ack error\")\n",
    "\n",
    "# Intrafocal hexapod setting - offsets -0.5mm from central focus value above\n",
    "\n",
    "print('Move to intrafocal position')\n",
    "# await attcs.athexapod.cmd_moveToPosition.set_start(x=hex_X, y=hex_Y,\n",
    "#                                              z=hex_Z-dz, u=hex_U, v=hex_V)\n",
    "attcs.athexapod.evt_positionUpdate.flush()\n",
    "await attcs.ataos.cmd_applyAxisOffset.set_start(axis=\"z\", offset=-dz+focus_offset)\n",
    "curr_hex_pos = await attcs.athexapod.evt_positionUpdate.next(flush=False, timeout=30)\n",
    "\n",
    "print('Take intrafocal image')\n",
    "cam.evt_endReadout.flush()\n",
    "\n",
    "await cam.cmd_takeImages.set_start(numImages=1, expTime=expTime, shutter=True, imageSequenceName=target_name+'_intra')\n",
    "\n",
    "intra_endron = await cam.evt_endReadout.next(flush=False, timeout=5)\n",
    "\n",
    "# Extrafocal hexapod setting\n",
    "print('Move to extra-focal hexapod position')\n",
    "# await attcs.athexapod.cmd_moveToPosition.set_start(x=hex_X, y=hex_Y,\n",
    "#                                                      z=hex_Z+dz, u=hex_U, v=hex_V)\n",
    "attcs.athexapod.evt_positionUpdate.flush()\n",
    "await attcs.ataos.cmd_applyAxisOffset.set_start(axis=\"z\", offset=dz+focus_offset)\n",
    "curr_hex_pos = await attcs.athexapod.evt_positionUpdate.next(flush=False, timeout=30)\n",
    "\n",
    "# r.evt_endReadout.flush()\n",
    "print('Take extra-focal image')\n",
    "cam.evt_endReadout.flush()\n",
    "await cam.cmd_takeImages.set_start(numImages=1, expTime=expTime, shutter=True, imageSequenceName=target_name+'_extra')\n",
    "\n",
    "extra_endron = await cam.evt_endReadout.next(flush=False, timeout=5)\n",
    "\n",
    "azel = await attcs.atmcs.tel_mount_AzEl_Encoders.aget()\n",
    "nasmyth = await attcs.atmcs.tel_mount_Nasmyth_Encoders.aget()\n",
    "\n",
    "print(f\"============\")\n",
    "print(f\"dz={dz}\")\n",
    "print(intra_endron.imageName)\n",
    "print(extra_endron.imageName)\n",
    "print(f\"============\")\n",
    "\n",
    "try:\n",
    "    await cam.cmd_startLiveView.set_start(expTime=0.5)\n",
    "except salobj.AckError:\n",
    "    print(\"ack error\")\n",
    "\n",
    "attcs.athexapod.evt_positionUpdate.flush()\n",
    "await attcs.ataos.cmd_applyAxisOffset.set_start(axis=\"z\", offset=focus_offset)\n",
    "curr_hex_pos = await attcs.athexapod.evt_positionUpdate.next(flush=False, timeout=30)\n",
    "\n",
    "print(f\"['{intra_endron.imageName}.fits'], ['{extra_endron.imageName}.fits']\")\n",
    "print(np.mean(azel.elevationCalculatedAngle)+np.mean(nasmyth.nasmyth1CalculatedAngle))\n",
    "\n",
    "# intra_wget_url = 'http://139.229.170.216:8000/data/'+intra_endron.imageName+'.fits'\n",
    "# extra_wget_url = 'http://139.229.170.216:8000/data/'+extra_endron.imageName+'.fits'\n",
    "# intra_fname = wget.download(intra_wget_url)\n",
    "# print(f\"============\")\n",
    "# print(f'{intra_fname}')\n",
    "# extra_fname = wget.download(extra_wget_url)\n",
    "# print(f'{extra_fname}')\n",
    "# print(f\"============\")\n"
   ]
  },
  {
   "cell_type": "code",
   "execution_count": 45,
   "metadata": {},
   "outputs": [
    {
     "name": "stdout",
     "output_type": "stream",
     "text": [
      "/home/saluser/develop/cwfs/python/data/1580016146-iotCen_intra-0-1.fits /home/saluser/develop/cwfs/python/data/1580016193-iotCen_extra-0-1.fits\n"
     ]
    },
    {
     "name": "stderr",
     "output_type": "stream",
     "text": [
      "RemoteEvent(ATDomeTrajectory, 0, logMessage) falling behind; read 10 messages\n",
      "RemoteEvent(ATMCS, 0, target) falling behind; read 68 messages\n",
      "RemoteEvent(ATMCS, 0, target) falling behind; read 73 messages\n",
      "RemoteEvent(ATDomeTrajectory, 0, logMessage) falling behind; read 19 messages\n"
     ]
    }
   ],
   "source": [
    "intra_wget_url = 'http://139.229.170.216:8000/data/'+intra_endron.imageName+'.fits'\n",
    "extra_wget_url = 'http://139.229.170.216:8000/data/'+extra_endron.imageName+'.fits'\n",
    "\n",
    "intra_fname = wget.download(intra_wget_url, out=\"/home/saluser/develop/cwfs/python/data\")\n",
    "extra_fname = wget.download(extra_wget_url, out=\"/home/saluser/develop/cwfs/python/data\")\n",
    "\n",
    "print(intra_fname,extra_fname)"
   ]
  },
  {
   "cell_type": "code",
   "execution_count": 19,
   "metadata": {},
   "outputs": [
    {
     "data": {
      "text/plain": [
       "<lsst.ts.salobj.ddsutil.GenericCamera_ackcmd_bde417f6 at 0x7f9db86452e8>"
      ]
     },
     "execution_count": 19,
     "metadata": {},
     "output_type": "execute_result"
    }
   ],
   "source": [
    "await cam.cmd_stopLiveView.start()"
   ]
  },
  {
   "cell_type": "code",
   "execution_count": 20,
   "metadata": {},
   "outputs": [
    {
     "data": {
      "text/plain": [
       "<lsst.ts.salobj.ddsutil.GenericCamera_ackcmd_bde417f6 at 0x7f9dad11ceb8>"
      ]
     },
     "execution_count": 20,
     "metadata": {},
     "output_type": "execute_result"
    }
   ],
   "source": [
    "await cam.cmd_takeImages.set_start(numImages=1, expTime=30., shutter=True, imageSequenceName=target_name+'_focus')"
   ]
  },
  {
   "cell_type": "code",
   "execution_count": 26,
   "metadata": {},
   "outputs": [],
   "source": [
    "in_foc = await cam.evt_endReadout.next(flush=False, timeout=5)"
   ]
  },
  {
   "cell_type": "code",
   "execution_count": 22,
   "metadata": {},
   "outputs": [
    {
     "data": {
      "text/plain": [
       "'1580014873-iotCen_focus-0-1'"
      ]
     },
     "execution_count": 22,
     "metadata": {},
     "output_type": "execute_result"
    }
   ],
   "source": [
    "in_foc.imageName"
   ]
  },
  {
   "cell_type": "code",
   "execution_count": 24,
   "metadata": {},
   "outputs": [
    {
     "data": {
      "text/plain": [
       "<lsst.ts.salobj.ddsutil.GenericCamera_ackcmd_bde417f6 at 0x7f9dad410438>"
      ]
     },
     "execution_count": 24,
     "metadata": {},
     "output_type": "execute_result"
    }
   ],
   "source": [
    "await cam.cmd_setValue.set_start(parametersAndValues=\"filter,2\")"
   ]
  },
  {
   "cell_type": "code",
   "execution_count": 25,
   "metadata": {},
   "outputs": [
    {
     "data": {
      "text/plain": [
       "<lsst.ts.salobj.ddsutil.GenericCamera_ackcmd_bde417f6 at 0x7f9da84992e8>"
      ]
     },
     "execution_count": 25,
     "metadata": {},
     "output_type": "execute_result"
    }
   ],
   "source": [
    "await cam.cmd_takeImages.set_start(numImages=1, expTime=30., shutter=True, imageSequenceName=target_name+'_foc_filter2')"
   ]
  },
  {
   "cell_type": "code",
   "execution_count": 28,
   "metadata": {},
   "outputs": [
    {
     "name": "stdout",
     "output_type": "stream",
     "text": [
      "1580015089-iotCen_foc_filter2-0-1.fits\n"
     ]
    }
   ],
   "source": [
    "in_foc = await cam.evt_endReadout.next(flush=False, timeout=5)\n",
    "print(f\"{in_foc.imageName}.fits\")"
   ]
  },
  {
   "cell_type": "code",
   "execution_count": 29,
   "metadata": {},
   "outputs": [
    {
     "data": {
      "text/plain": [
       "<lsst.ts.salobj.ddsutil.GenericCamera_ackcmd_bde417f6 at 0x7f9da830b278>"
      ]
     },
     "execution_count": 29,
     "metadata": {},
     "output_type": "execute_result"
    }
   ],
   "source": [
    "await cam.cmd_setValue.set_start(parametersAndValues=\"filter,3\")"
   ]
  },
  {
   "cell_type": "code",
   "execution_count": 30,
   "metadata": {},
   "outputs": [
    {
     "name": "stdout",
     "output_type": "stream",
     "text": [
      "1580015246-iotCen_foc_filter2-0-1.fits\n"
     ]
    }
   ],
   "source": [
    "await cam.cmd_takeImages.set_start(numImages=1, expTime=30., shutter=True, imageSequenceName=target_name+'_foc_filter2')\n",
    "in_foc = await cam.evt_endReadout.next(flush=False, timeout=5)\n",
    "print(f\"{in_foc.imageName}.fits\")"
   ]
  },
  {
   "cell_type": "code",
   "execution_count": 31,
   "metadata": {},
   "outputs": [
    {
     "data": {
      "text/plain": [
       "<lsst.ts.salobj.ddsutil.GenericCamera_ackcmd_bde417f6 at 0x7f9da86b3278>"
      ]
     },
     "execution_count": 31,
     "metadata": {},
     "output_type": "execute_result"
    }
   ],
   "source": [
    "await cam.cmd_setValue.set_start(parametersAndValues=\"filter,4\")"
   ]
  },
  {
   "cell_type": "code",
   "execution_count": 32,
   "metadata": {},
   "outputs": [
    {
     "name": "stdout",
     "output_type": "stream",
     "text": [
      "1580015365-iotCen_foc_filter4-0-1.fits\n"
     ]
    }
   ],
   "source": [
    "await cam.cmd_takeImages.set_start(numImages=1, expTime=30., shutter=True, imageSequenceName=target_name+'_foc_filter4')\n",
    "in_foc = await cam.evt_endReadout.next(flush=False, timeout=5)\n",
    "print(f\"{in_foc.imageName}.fits\")"
   ]
  },
  {
   "cell_type": "code",
   "execution_count": 33,
   "metadata": {},
   "outputs": [
    {
     "data": {
      "text/plain": [
       "<lsst.ts.salobj.ddsutil.GenericCamera_ackcmd_bde417f6 at 0x7f9da8363cc0>"
      ]
     },
     "execution_count": 33,
     "metadata": {},
     "output_type": "execute_result"
    }
   ],
   "source": [
    "await cam.cmd_setValue.set_start(parametersAndValues=\"filter,5\")"
   ]
  },
  {
   "cell_type": "code",
   "execution_count": 34,
   "metadata": {},
   "outputs": [
    {
     "name": "stdout",
     "output_type": "stream",
     "text": [
      "1580015463-iotCen_foc_filter5-0-1.fits\n"
     ]
    }
   ],
   "source": [
    "await cam.cmd_takeImages.set_start(numImages=1, expTime=30., shutter=True, imageSequenceName=target_name+'_foc_filter5')\n",
    "in_foc = await cam.evt_endReadout.next(flush=False, timeout=5)\n",
    "print(f\"{in_foc.imageName}.fits\")"
   ]
  },
  {
   "cell_type": "code",
   "execution_count": 35,
   "metadata": {},
   "outputs": [
    {
     "data": {
      "text/plain": [
       "<lsst.ts.salobj.ddsutil.GenericCamera_ackcmd_bde417f6 at 0x7f9da3335e80>"
      ]
     },
     "execution_count": 35,
     "metadata": {},
     "output_type": "execute_result"
    }
   ],
   "source": [
    "await cam.cmd_setValue.set_start(parametersAndValues=\"filter,6\")"
   ]
  },
  {
   "cell_type": "code",
   "execution_count": 36,
   "metadata": {},
   "outputs": [
    {
     "name": "stdout",
     "output_type": "stream",
     "text": [
      "1580015494-iotCen_foc_filter6-0-1.fits\n"
     ]
    }
   ],
   "source": [
    "await cam.cmd_takeImages.set_start(numImages=1, expTime=30., shutter=True, imageSequenceName=target_name+'_foc_filter6')\n",
    "in_foc = await cam.evt_endReadout.next(flush=False, timeout=5)\n",
    "print(f\"{in_foc.imageName}.fits\")"
   ]
  },
  {
   "cell_type": "code",
   "execution_count": 37,
   "metadata": {},
   "outputs": [
    {
     "data": {
      "text/plain": [
       "<lsst.ts.salobj.ddsutil.GenericCamera_ackcmd_bde417f6 at 0x7f9db8792550>"
      ]
     },
     "execution_count": 37,
     "metadata": {},
     "output_type": "execute_result"
    }
   ],
   "source": [
    "await cam.cmd_setValue.set_start(parametersAndValues=\"filter,1\")"
   ]
  },
  {
   "cell_type": "code",
   "execution_count": 38,
   "metadata": {},
   "outputs": [
    {
     "data": {
      "text/plain": [
       "<lsst.ts.salobj.ddsutil.GenericCamera_ackcmd_bde417f6 at 0x7f9da835bb70>"
      ]
     },
     "execution_count": 38,
     "metadata": {},
     "output_type": "execute_result"
    }
   ],
   "source": [
    "await cam.cmd_startLiveView.set_start(expTime=0.5)"
   ]
  },
  {
   "cell_type": "code",
   "execution_count": null,
   "metadata": {},
   "outputs": [],
   "source": []
  }
 ],
 "metadata": {
  "kernelspec": {
   "display_name": "Python 3",
   "language": "python",
   "name": "python3"
  },
  "language_info": {
   "codemirror_mode": {
    "name": "ipython",
    "version": 3
   },
   "file_extension": ".py",
   "mimetype": "text/x-python",
   "name": "python",
   "nbconvert_exporter": "python",
   "pygments_lexer": "ipython3",
   "version": "3.7.2"
  }
 },
 "nbformat": 4,
 "nbformat_minor": 4
}
