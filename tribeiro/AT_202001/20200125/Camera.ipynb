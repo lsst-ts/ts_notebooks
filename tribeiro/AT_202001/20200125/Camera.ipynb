{
 "cells": [
  {
   "cell_type": "code",
   "execution_count": 1,
   "metadata": {},
   "outputs": [],
   "source": [
    "from lsst.ts import salobj\n",
    "\n",
    "import asyncio\n",
    "import wget"
   ]
  },
  {
   "cell_type": "code",
   "execution_count": 2,
   "metadata": {},
   "outputs": [],
   "source": [
    "d = salobj.Domain()"
   ]
  },
  {
   "cell_type": "code",
   "execution_count": 3,
   "metadata": {},
   "outputs": [],
   "source": [
    "r = salobj.Remote(d, \"GenericCamera\", 1)"
   ]
  },
  {
   "cell_type": "code",
   "execution_count": 4,
   "metadata": {},
   "outputs": [],
   "source": [
    "await r.start_task"
   ]
  },
  {
   "cell_type": "code",
   "execution_count": 37,
   "metadata": {},
   "outputs": [
    {
     "name": "stdout",
     "output_type": "stream",
     "text": [
      "GenericCameraID: 1, private_revCode: d2d79f60, private_sndStamp: 1579998742.674383, private_rcvStamp: 1579998742.6896741, private_seqNum: 5, private_origin: 695, private_host: 1149506501, heartbeat: False, priority: 0\n",
      "GenericCameraID: 1, private_revCode: d2d79f60, private_sndStamp: 1579998743.692147, private_rcvStamp: 1579998743.7037547, private_seqNum: 6, private_origin: 695, private_host: 1149506501, heartbeat: False, priority: 0\n",
      "GenericCameraID: 1, private_revCode: d2d79f60, private_sndStamp: 1579998744.7044902, private_rcvStamp: 1579998744.7140903, private_seqNum: 7, private_origin: 695, private_host: 1149506501, heartbeat: False, priority: 0\n"
     ]
    }
   ],
   "source": [
    "for i in range(3):\n",
    "    print(await r.evt_heartbeat.next(flush=True, timeout=60))"
   ]
  },
  {
   "cell_type": "code",
   "execution_count": 18,
   "metadata": {},
   "outputs": [
    {
     "data": {
      "text/plain": [
       "[<State.FAULT: 3>, <State.STANDBY: 5>, <State.DISABLED: 1>, <State.ENABLED: 2>]"
      ]
     },
     "execution_count": 18,
     "metadata": {},
     "output_type": "execute_result"
    }
   ],
   "source": [
    "# await asyncio.sleep(5.)\n",
    "await salobj.set_summary_state(r, salobj.State.ENABLED, settingsToApply=\"zwo_4x4_nofw.yaml\")"
   ]
  },
  {
   "cell_type": "code",
   "execution_count": null,
   "metadata": {},
   "outputs": [],
   "source": [
    "print(r.cmd_setValue.DataType())"
   ]
  },
  {
   "cell_type": "code",
   "execution_count": 38,
   "metadata": {},
   "outputs": [
    {
     "data": {
      "text/plain": [
       "[<State.STANDBY: 5>, <State.DISABLED: 1>, <State.ENABLED: 2>]"
      ]
     },
     "execution_count": 38,
     "metadata": {},
     "output_type": "execute_result"
    }
   ],
   "source": [
    "await asyncio.sleep(5.)\n",
    "await salobj.set_summary_state(r, salobj.State.ENABLED, settingsToApply=\"zwo_4x4.yaml\")"
   ]
  },
  {
   "cell_type": "code",
   "execution_count": null,
   "metadata": {},
   "outputs": [],
   "source": [
    "await r.cmd_setValue.set_start(parametersAndValues=\"filter,1\")"
   ]
  },
  {
   "cell_type": "code",
   "execution_count": 29,
   "metadata": {},
   "outputs": [
    {
     "name": "stdout",
     "output_type": "stream",
     "text": [
      "Sleep 5s\n",
      "Done\n"
     ]
    },
    {
     "data": {
      "text/plain": [
       "[<State.ENABLED: 2>, <State.DISABLED: 1>, <State.STANDBY: 5>]"
      ]
     },
     "execution_count": 29,
     "metadata": {},
     "output_type": "execute_result"
    }
   ],
   "source": [
    "print(\"Sleep 5s\")\n",
    "# await asyncio.sleep(5)\n",
    "print(\"Done\")\n",
    "await salobj.set_summary_state(r, salobj.State.STANDBY)"
   ]
  },
  {
   "cell_type": "code",
   "execution_count": 36,
   "metadata": {},
   "outputs": [
    {
     "name": "stdout",
     "output_type": "stream",
     "text": [
      "Sleep 5s\n",
      "Done\n"
     ]
    },
    {
     "data": {
      "text/plain": [
       "[<State.ENABLED: 2>,\n",
       " <State.DISABLED: 1>,\n",
       " <State.STANDBY: 5>,\n",
       " <State.OFFLINE: 4>]"
      ]
     },
     "execution_count": 36,
     "metadata": {},
     "output_type": "execute_result"
    }
   ],
   "source": [
    "print(\"Sleep 5s\")\n",
    "# await asyncio.sleep(5)\n",
    "print(\"Done\")\n",
    "await salobj.set_summary_state(r, salobj.State.OFFLINE)"
   ]
  },
  {
   "cell_type": "code",
   "execution_count": 39,
   "metadata": {},
   "outputs": [
    {
     "data": {
      "text/plain": [
       "<lsst.ts.salobj.ddsutil.GenericCamera_ackcmd_bde417f6 at 0x7f6f0a268c50>"
      ]
     },
     "execution_count": 39,
     "metadata": {},
     "output_type": "execute_result"
    }
   ],
   "source": [
    "await r.cmd_startLiveView.set_start(expTime=0.5)"
   ]
  },
  {
   "cell_type": "code",
   "execution_count": 28,
   "metadata": {},
   "outputs": [
    {
     "ename": "AckError",
     "evalue": "msg='Command failed', ackcmd=(ackcmd private_seqNum=1990178721, ack=<SalRetCode.CMD_FAILED: -302>, error=1, result='Failed: ')",
     "output_type": "error",
     "traceback": [
      "\u001b[0;31m\u001b[0m",
      "\u001b[0;31mAckError\u001b[0mTraceback (most recent call last)",
      "\u001b[0;32m<ipython-input-28-0854e3fc1da3>\u001b[0m in \u001b[0;36masync-def-wrapper\u001b[0;34m()\u001b[0m\n",
      "\u001b[0;32m~/repos/ts_salobj/python/lsst/ts/salobj/topics/remote_command.py\u001b[0m in \u001b[0;36mstart\u001b[0;34m(self, data, timeout, wait_done)\u001b[0m\n\u001b[1;32m    360\u001b[0m         \u001b[0mcmd_info\u001b[0m \u001b[0;34m=\u001b[0m \u001b[0m_CommandInfo\u001b[0m\u001b[0;34m(\u001b[0m\u001b[0mremote_command\u001b[0m\u001b[0;34m=\u001b[0m\u001b[0mself\u001b[0m\u001b[0;34m,\u001b[0m \u001b[0mseq_num\u001b[0m\u001b[0;34m=\u001b[0m\u001b[0mseq_num\u001b[0m\u001b[0;34m,\u001b[0m \u001b[0mwait_done\u001b[0m\u001b[0;34m=\u001b[0m\u001b[0mwait_done\u001b[0m\u001b[0;34m)\u001b[0m\u001b[0;34m\u001b[0m\u001b[0;34m\u001b[0m\u001b[0m\n\u001b[1;32m    361\u001b[0m         \u001b[0mself\u001b[0m\u001b[0;34m.\u001b[0m\u001b[0msalinfo\u001b[0m\u001b[0;34m.\u001b[0m\u001b[0m_running_cmds\u001b[0m\u001b[0;34m[\u001b[0m\u001b[0mseq_num\u001b[0m\u001b[0;34m]\u001b[0m \u001b[0;34m=\u001b[0m \u001b[0mcmd_info\u001b[0m\u001b[0;34m\u001b[0m\u001b[0;34m\u001b[0m\u001b[0m\n\u001b[0;32m--> 362\u001b[0;31m         \u001b[0;32mreturn\u001b[0m \u001b[0;32mawait\u001b[0m \u001b[0mcmd_info\u001b[0m\u001b[0;34m.\u001b[0m\u001b[0mnext_ackcmd\u001b[0m\u001b[0;34m(\u001b[0m\u001b[0mtimeout\u001b[0m\u001b[0;34m=\u001b[0m\u001b[0mtimeout\u001b[0m\u001b[0;34m)\u001b[0m\u001b[0;34m\u001b[0m\u001b[0;34m\u001b[0m\u001b[0m\n\u001b[0m",
      "\u001b[0;32m~/repos/ts_salobj/python/lsst/ts/salobj/topics/remote_command.py\u001b[0m in \u001b[0;36mnext_ackcmd\u001b[0;34m(self, timeout)\u001b[0m\n\u001b[1;32m    163\u001b[0m             \u001b[0;31m# print(f\"next_ackcmd got {ackcmd.ack} from _basic_next_ack\")\u001b[0m\u001b[0;34m\u001b[0m\u001b[0;34m\u001b[0m\u001b[0;34m\u001b[0m\u001b[0m\n\u001b[1;32m    164\u001b[0m             \u001b[0;32mif\u001b[0m \u001b[0mackcmd\u001b[0m\u001b[0;34m.\u001b[0m\u001b[0mack\u001b[0m \u001b[0;32min\u001b[0m \u001b[0mself\u001b[0m\u001b[0;34m.\u001b[0m\u001b[0mfailed_ack_codes\u001b[0m\u001b[0;34m:\u001b[0m\u001b[0;34m\u001b[0m\u001b[0;34m\u001b[0m\u001b[0m\n\u001b[0;32m--> 165\u001b[0;31m                 \u001b[0;32mraise\u001b[0m \u001b[0mbase\u001b[0m\u001b[0;34m.\u001b[0m\u001b[0mAckError\u001b[0m\u001b[0;34m(\u001b[0m\u001b[0mmsg\u001b[0m\u001b[0;34m=\u001b[0m\u001b[0;34m\"Command failed\"\u001b[0m\u001b[0;34m,\u001b[0m \u001b[0mackcmd\u001b[0m\u001b[0;34m=\u001b[0m\u001b[0mackcmd\u001b[0m\u001b[0;34m)\u001b[0m\u001b[0;34m\u001b[0m\u001b[0;34m\u001b[0m\u001b[0m\n\u001b[0m\u001b[1;32m    166\u001b[0m             \u001b[0;32mreturn\u001b[0m \u001b[0mackcmd\u001b[0m\u001b[0;34m\u001b[0m\u001b[0;34m\u001b[0m\u001b[0m\n\u001b[1;32m    167\u001b[0m         \u001b[0;32mexcept\u001b[0m \u001b[0masyncio\u001b[0m\u001b[0;34m.\u001b[0m\u001b[0mTimeoutError\u001b[0m\u001b[0;34m:\u001b[0m\u001b[0;34m\u001b[0m\u001b[0;34m\u001b[0m\u001b[0m\n",
      "\u001b[0;31mAckError\u001b[0m: msg='Command failed', ackcmd=(ackcmd private_seqNum=1990178721, ack=<SalRetCode.CMD_FAILED: -302>, error=1, result='Failed: ')"
     ]
    }
   ],
   "source": [
    "await r.cmd_stopLiveView.start()"
   ]
  },
  {
   "cell_type": "code",
   "execution_count": null,
   "metadata": {},
   "outputs": [],
   "source": [
    "lv = await r.evt_startLiveView.aget()"
   ]
  },
  {
   "cell_type": "code",
   "execution_count": null,
   "metadata": {},
   "outputs": [],
   "source": [
    "print(lv)"
   ]
  },
  {
   "cell_type": "code",
   "execution_count": null,
   "metadata": {},
   "outputs": [],
   "source": [
    "end_lv = await r.evt_endLiveView.aget()"
   ]
  },
  {
   "cell_type": "code",
   "execution_count": null,
   "metadata": {},
   "outputs": [],
   "source": [
    "print(end_lv.private_sndStamp > lv.private_sndStamp)"
   ]
  },
  {
   "cell_type": "code",
   "execution_count": null,
   "metadata": {},
   "outputs": [],
   "source": [
    "await r.cmd_stopLiveView.start(timeout=10)"
   ]
  },
  {
   "cell_type": "code",
   "execution_count": null,
   "metadata": {},
   "outputs": [],
   "source": [
    "# await asyncio.sleep(5)\n",
    "await salobj.set_summary_state(r, salobj.State.OFFLINE)"
   ]
  },
  {
   "cell_type": "code",
   "execution_count": null,
   "metadata": {},
   "outputs": [],
   "source": [
    "await r.evt_startLiveView.next(timeout=10, flush=False)"
   ]
  },
  {
   "cell_type": "code",
   "execution_count": null,
   "metadata": {},
   "outputs": [],
   "source": [
    "await r.evt_startLiveView.next(timeout=1, flush=False)"
   ]
  },
  {
   "cell_type": "code",
   "execution_count": null,
   "metadata": {},
   "outputs": [],
   "source": [
    "await r.evt_sto .next(timeout=1, flush=False)"
   ]
  },
  {
   "cell_type": "code",
   "execution_count": null,
   "metadata": {},
   "outputs": [],
   "source": [
    "await asyncio.sleep(5)\n",
    "ss = await r.evt_summaryState.next(timeout=5, flush=False)"
   ]
  },
  {
   "cell_type": "code",
   "execution_count": null,
   "metadata": {},
   "outputs": [],
   "source": [
    "ss = r.evt_summaryState.get()"
   ]
  },
  {
   "cell_type": "code",
   "execution_count": null,
   "metadata": {},
   "outputs": [],
   "source": [
    "print(salobj.State(ss.summaryState))"
   ]
  },
  {
   "cell_type": "code",
   "execution_count": null,
   "metadata": {},
   "outputs": [],
   "source": [
    "err = await r.evt_errorCode.next(flush=True, timeout=1)"
   ]
  },
  {
   "cell_type": "code",
   "execution_count": 34,
   "metadata": {},
   "outputs": [
    {
     "data": {
      "text/plain": [
       "<lsst.ts.salobj.ddsutil.GenericCamera_ackcmd_bde417f6 at 0x7f6f0a18efd0>"
      ]
     },
     "execution_count": 34,
     "metadata": {},
     "output_type": "execute_result"
    }
   ],
   "source": [
    "# r.evt_endReadout.flush()\n",
    "await r.cmd_takeImages.set_start(numImages=3,\n",
    "                                 expTime=0.5,\n",
    "                                 shutter=True,\n",
    "                                 imageSequenceName='test'\n",
    "                                )"
   ]
  },
  {
   "cell_type": "code",
   "execution_count": null,
   "metadata": {},
   "outputs": [],
   "source": [
    "er = await r.evt_endReadout.next(flush=False, timeout=1)"
   ]
  },
  {
   "cell_type": "code",
   "execution_count": null,
   "metadata": {},
   "outputs": [],
   "source": [
    "er = r.evt_endReadout.get()"
   ]
  },
  {
   "cell_type": "code",
   "execution_count": null,
   "metadata": {},
   "outputs": [],
   "source": [
    "er.imageName"
   ]
  },
  {
   "cell_type": "code",
   "execution_count": null,
   "metadata": {},
   "outputs": [],
   "source": [
    "await asyncio.sleep(5)\n",
    "lv = await r.evt_startLiveView.next(flush=False, timeout=5)\n",
    "lv = r.evt_startLiveView.get()"
   ]
  },
  {
   "cell_type": "code",
   "execution_count": null,
   "metadata": {},
   "outputs": [],
   "source": [
    "async def end_readout_callback(data):\n",
    "    await asyncio.sleep(1.)\n",
    "    filename = wget.download(f\"http://139.229.170.216:8000/data/{data.imageName}.fits\")\n",
    "    print(filename)"
   ]
  },
  {
   "cell_type": "code",
   "execution_count": null,
   "metadata": {},
   "outputs": [],
   "source": [
    "r.evt_endReadout.callback=end_readout_callback"
   ]
  },
  {
   "cell_type": "code",
   "execution_count": null,
   "metadata": {},
   "outputs": [],
   "source": [
    "await asyncio.sleep(10)"
   ]
  },
  {
   "cell_type": "code",
   "execution_count": null,
   "metadata": {},
   "outputs": [],
   "source": [
    "await asyncio.sleep(120)"
   ]
  },
  {
   "cell_type": "code",
   "execution_count": null,
   "metadata": {},
   "outputs": [],
   "source": [
    "await asyncio.sleep(240)"
   ]
  },
  {
   "cell_type": "code",
   "execution_count": null,
   "metadata": {},
   "outputs": [],
   "source": [
    "asyncio.get_event_loop().run_forever()"
   ]
  },
  {
   "cell_type": "code",
   "execution_count": null,
   "metadata": {},
   "outputs": [],
   "source": [
    "await asyncio.sleep(120)"
   ]
  },
  {
   "cell_type": "code",
   "execution_count": null,
   "metadata": {},
   "outputs": [],
   "source": [
    "await asyncio.sleep(120)"
   ]
  },
  {
   "cell_type": "code",
   "execution_count": null,
   "metadata": {},
   "outputs": [],
   "source": [
    "await asyncio.sleep(120)"
   ]
  },
  {
   "cell_type": "code",
   "execution_count": null,
   "metadata": {},
   "outputs": [],
   "source": [
    "await asyncio.sleep(120)"
   ]
  },
  {
   "cell_type": "code",
   "execution_count": null,
   "metadata": {},
   "outputs": [],
   "source": [
    "await asyncio.sleep(120)"
   ]
  },
  {
   "cell_type": "code",
   "execution_count": null,
   "metadata": {},
   "outputs": [],
   "source": [
    "await asyncio.sleep(120)"
   ]
  },
  {
   "cell_type": "code",
   "execution_count": null,
   "metadata": {},
   "outputs": [],
   "source": [
    "athex = salobj.Remote(d, 'ATHexapod')"
   ]
  },
  {
   "cell_type": "code",
   "execution_count": null,
   "metadata": {},
   "outputs": [],
   "source": [
    "await athex.start_task"
   ]
  },
  {
   "cell_type": "code",
   "execution_count": null,
   "metadata": {},
   "outputs": [],
   "source": [
    "pos = await athex.evt_positionUpdate.next(flush=False, timeout=5)"
   ]
  },
  {
   "cell_type": "code",
   "execution_count": null,
   "metadata": {},
   "outputs": [],
   "source": [
    "print(pos)"
   ]
  },
  {
   "cell_type": "code",
   "execution_count": null,
   "metadata": {},
   "outputs": [],
   "source": [
    "await athex.cmd_moveToPosition.set_start(x=-4., y=1.,z=0.38-0.65, u=0.35, v=0.22)"
   ]
  },
  {
   "cell_type": "code",
   "execution_count": null,
   "metadata": {},
   "outputs": [],
   "source": [
    "await athex.cmd_moveToPosition.set_start(x=-4., y=1.,z=0.38, u=0.35, v=0.22)"
   ]
  },
  {
   "cell_type": "code",
   "execution_count": null,
   "metadata": {},
   "outputs": [],
   "source": [
    "await athex.cmd_moveToPosition.set_start(x=-4., y=1.,z=0.45+0.5, u=0.35, v=0.22)"
   ]
  },
  {
   "cell_type": "code",
   "execution_count": null,
   "metadata": {},
   "outputs": [],
   "source": [
    "await athex.cmd_moveToPosition.set_start(x=-4.4, y=1.2,z=0.55+0.5, u=0.35, v=0.22)"
   ]
  },
  {
   "cell_type": "code",
   "execution_count": null,
   "metadata": {},
   "outputs": [],
   "source": [
    "# r.evt_endReadout.flush()\n",
    "await r.cmd_takeImages.set_start(numImages=1,\n",
    "                                 expTime=1.,\n",
    "                                 shutter=True,\n",
    "                                 imageSequenceName='test'\n",
    "                                )\n",
    "await asyncio.sleep(1)"
   ]
  },
  {
   "cell_type": "code",
   "execution_count": null,
   "metadata": {},
   "outputs": [],
   "source": [
    "await athex.cmd_moveToPosition.set_start(x=-4.4, y=1.2,z=0.55-0.5, u=0.35, v=0.22)"
   ]
  },
  {
   "cell_type": "code",
   "execution_count": null,
   "metadata": {},
   "outputs": [],
   "source": [
    "# r.evt_endReadout.flush()\n",
    "await r.cmd_takeImages.set_start(numImages=1,\n",
    "                                 expTime=20.,\n",
    "                                 shutter=True,\n",
    "                                 imageSequenceName='HD40762-0.5'\n",
    "                                )\n",
    "await asyncio.sleep(1)"
   ]
  },
  {
   "cell_type": "code",
   "execution_count": null,
   "metadata": {},
   "outputs": [],
   "source": [
    "await athex.cmd_moveToPosition.set_start(x=-4.4, y=1.2,z=0.55-0., u=0.35, v=0.22)"
   ]
  },
  {
   "cell_type": "code",
   "execution_count": null,
   "metadata": {},
   "outputs": [],
   "source": [
    "await athex.cmd_moveToPosition.set_start(x=-4.3, \n",
    " y=1.3, \n",
    " z=1.05, \n",
    " u=0.35+1e-4,\n",
    " v=0.22)"
   ]
  },
  {
   "cell_type": "code",
   "execution_count": null,
   "metadata": {},
   "outputs": [],
   "source": []
  },
  {
   "cell_type": "code",
   "execution_count": null,
   "metadata": {},
   "outputs": [],
   "source": []
  },
  {
   "cell_type": "code",
   "execution_count": null,
   "metadata": {},
   "outputs": [],
   "source": []
  },
  {
   "cell_type": "code",
   "execution_count": null,
   "metadata": {},
   "outputs": [],
   "source": [
    "# r.evt_endReadout.flush()\n",
    "await r.cmd_takeImages.set_start(numImages=1,\n",
    "                                 expTime=10.,\n",
    "                                 shutter=True,\n",
    "                                 imageSequenceName='HD40762-0.0'\n",
    "                                )\n",
    "await asyncio.sleep(1)"
   ]
  },
  {
   "cell_type": "code",
   "execution_count": null,
   "metadata": {},
   "outputs": [],
   "source": [
    "# r.evt_endReadout.flush()\n",
    "await r.cmd_takeImages.set_start(numImages=1,\n",
    "                                 expTime=5.,\n",
    "                                 shutter=True,\n",
    "                                 imageSequenceName='HD40762-0.0'\n",
    "                                )\n",
    "await asyncio.sleep(1)"
   ]
  },
  {
   "cell_type": "code",
   "execution_count": null,
   "metadata": {},
   "outputs": [],
   "source": [
    "# r.evt_endReadout.flush()\n",
    "await r.cmd_takeImages.set_start(numImages=1,\n",
    "                                 expTime=1.,\n",
    "                                 shutter=True,\n",
    "                                 imageSequenceName='HD40672-test'\n",
    "                                )"
   ]
  },
  {
   "cell_type": "code",
   "execution_count": null,
   "metadata": {},
   "outputs": [],
   "source": [
    "[-328.90741298  231.73637978  -72.39837505  -21.46025835   55.40824535\n",
    "   53.84961106   63.78558562   12.58447617   16.04439871  -33.53658273\n",
    "   -4.05040221   -7.64797676   17.08147707    3.00948133  -10.1258647\n",
    "   -7.59193484   -6.20063983    7.87743628  -18.41141649]"
   ]
  },
  {
   "cell_type": "code",
   "execution_count": null,
   "metadata": {},
   "outputs": [],
   "source": [
    "5*360/24"
   ]
  },
  {
   "cell_type": "code",
   "execution_count": null,
   "metadata": {},
   "outputs": [],
   "source": []
  }
 ],
 "metadata": {
  "kernelspec": {
   "display_name": "Python 3",
   "language": "python",
   "name": "python3"
  },
  "language_info": {
   "codemirror_mode": {
    "name": "ipython",
    "version": 3
   },
   "file_extension": ".py",
   "mimetype": "text/x-python",
   "name": "python",
   "nbconvert_exporter": "python",
   "pygments_lexer": "ipython3",
   "version": "3.7.2"
  }
 },
 "nbformat": 4,
 "nbformat_minor": 4
}
