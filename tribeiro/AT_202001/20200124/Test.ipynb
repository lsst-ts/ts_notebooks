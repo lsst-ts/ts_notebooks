{
 "cells": [
  {
   "cell_type": "code",
   "execution_count": 1,
   "metadata": {},
   "outputs": [],
   "source": [
    "import numpy as np"
   ]
  },
  {
   "cell_type": "code",
   "execution_count": null,
   "metadata": {},
   "outputs": [],
   "source": [
    "wf = np.array([-21.46025835, 55.40824535, -328.90741298])"
   ]
  },
  {
   "cell_type": "code",
   "execution_count": 2,
   "metadata": {},
   "outputs": [],
   "source": [
    "sensitivity_matrix = np.array([[-1./131., 0., 0.],\n",
    "                                   [0., 1./131., 0.],\n",
    "                                   [0., 0., -1./4200.]])"
   ]
  },
  {
   "cell_type": "code",
   "execution_count": 3,
   "metadata": {},
   "outputs": [],
   "source": [
    "rotation_matrix = lambda angle: np.array([\n",
    "            [np.cos(np.radians(angle)), -np.sin(np.radians(angle)), 0.],\n",
    "            [np.sin(np.radians(angle)), np.cos(np.radians(angle)), 0.],\n",
    "            [0., 0., 1.]])"
   ]
  },
  {
   "cell_type": "code",
   "execution_count": 4,
   "metadata": {},
   "outputs": [],
   "source": [
    "zern = [69.7127984, -112.96386089, 230.87116598]"
   ]
  },
  {
   "cell_type": "code",
   "execution_count": 5,
   "metadata": {},
   "outputs": [
    {
     "data": {
      "text/plain": [
       "array([-0.53215877, -0.86231955, -0.05496933])"
      ]
     },
     "execution_count": 5,
     "metadata": {},
     "output_type": "execute_result"
    }
   ],
   "source": [
    "np.matmul(zern, sensitivity_matrix)"
   ]
  },
  {
   "cell_type": "code",
   "execution_count": 7,
   "metadata": {},
   "outputs": [],
   "source": [
    "zern_0 = [139.6804734, -58.67672561, 26.50335156]\n",
    "zern_1 = [171.47030635692695,6.032901117473643,58.99503587783187]\n",
    "zern_2 = [[47.60510793350258,88.75093431124286,96.84825337860478]]\n",
    "ang_0 = 0.\n",
    "ang_1 = 45.\n",
    "ang_2 = 90."
   ]
  },
  {
   "cell_type": "code",
   "execution_count": 10,
   "metadata": {},
   "outputs": [
    {
     "data": {
      "text/plain": [
       "(array([139.6804734 , -58.67672561,  26.50335156]),\n",
       " array([ 125.51372169, -116.98191111,   58.99503588]),\n",
       " array([[ 88.75093431, -47.60510793,  96.84825338]]))"
      ]
     },
     "execution_count": 10,
     "metadata": {},
     "output_type": "execute_result"
    }
   ],
   "source": [
    "np.matmul(zern_0, rotation_matrix(ang_0)),\\\n",
    "np.matmul(zern_1, rotation_matrix(ang_1)),\\\n",
    "np.matmul(zern_2, rotation_matrix(ang_2))"
   ]
  },
  {
   "cell_type": "code",
   "execution_count": 13,
   "metadata": {},
   "outputs": [
    {
     "data": {
      "text/plain": [
       "(array([-1.06626316, -0.44791394, -0.00631032]),\n",
       " array([-0.95812001, -0.89299169, -0.01404644]),\n",
       " array([[-0.67748805, -0.36339777, -0.02305911]]))"
      ]
     },
     "execution_count": 13,
     "metadata": {},
     "output_type": "execute_result"
    }
   ],
   "source": [
    "np.matmul(np.matmul(zern_0, rotation_matrix(ang_0)), sensitivity_matrix),\\\n",
    "np.matmul(np.matmul(zern_1, rotation_matrix(ang_1)), sensitivity_matrix),\\\n",
    "np.matmul(np.matmul(zern_2, rotation_matrix(ang_2)), sensitivity_matrix)"
   ]
  },
  {
   "cell_type": "code",
   "execution_count": null,
   "metadata": {},
   "outputs": [],
   "source": []
  },
  {
   "cell_type": "code",
   "execution_count": 14,
   "metadata": {},
   "outputs": [],
   "source": [
    "zern = [116.78638789925849,-97.93005170874265,141.94467705925646]\n",
    "ang = 0."
   ]
  },
  {
   "cell_type": "code",
   "execution_count": 15,
   "metadata": {},
   "outputs": [
    {
     "data": {
      "text/plain": [
       "array([-0.89149914, -0.74755765, -0.03379635])"
      ]
     },
     "execution_count": 15,
     "metadata": {},
     "output_type": "execute_result"
    }
   ],
   "source": [
    "np.matmul(np.matmul(zern, rotation_matrix(ang)), sensitivity_matrix)"
   ]
  },
  {
   "cell_type": "code",
   "execution_count": null,
   "metadata": {},
   "outputs": [],
   "source": []
  },
  {
   "cell_type": "code",
   "execution_count": null,
   "metadata": {},
   "outputs": [],
   "source": []
  },
  {
   "cell_type": "code",
   "execution_count": null,
   "metadata": {},
   "outputs": [],
   "source": []
  },
  {
   "cell_type": "code",
   "execution_count": null,
   "metadata": {},
   "outputs": [],
   "source": [
    "rot_sensitivity_matrix = np.matmul(sensitivity_matrix, rotation_matrix(angle))"
   ]
  },
  {
   "cell_type": "code",
   "execution_count": null,
   "metadata": {},
   "outputs": [],
   "source": [
    "sensitivity_matrix, rot_sensitivity_matrix"
   ]
  },
  {
   "cell_type": "code",
   "execution_count": null,
   "metadata": {},
   "outputs": [],
   "source": [
    "np.matmul(wf, sensitivity_matrix), np.matmul(wf, rot_sensitivity_matrix)"
   ]
  },
  {
   "cell_type": "code",
   "execution_count": null,
   "metadata": {},
   "outputs": [],
   "source": [
    "zern_rot1 = [34.94252358, 95.24708368, -179.04853218]\n",
    "zern_rot2 = [3.28133557e+01, 1.05307908e+02, -2.37729755e+02]\n",
    "rot1 = 23.907515\n",
    "rot2 = -1.317963"
   ]
  },
  {
   "cell_type": "code",
   "execution_count": null,
   "metadata": {},
   "outputs": [],
   "source": [
    "rot1_sensitivity_matrix = np.matmul(sensitivity_matrix, rotation_matrix(rot1))\n",
    "rot2_sensitivity_matrix = np.matmul(sensitivity_matrix, rotation_matrix(rot2))"
   ]
  },
  {
   "cell_type": "code",
   "execution_count": null,
   "metadata": {},
   "outputs": [],
   "source": [
    "np.matmul(zern_rot1, rot1_sensitivity_matrix), np.matmul(zern_rot2, rot2_sensitivity_matrix)"
   ]
  },
  {
   "cell_type": "code",
   "execution_count": null,
   "metadata": {},
   "outputs": [],
   "source": [
    "zern_rot4 = [  4.60888091e+01, 3.39041014e+01, 9.21715141e+01]\n",
    "rot4 = -2.4250292242683855\n",
    "\n",
    "zern_rot5 = [-12.74636439,  107.06470345, 123.03951031]\n",
    "rot5 = 47.38480224676959"
   ]
  },
  {
   "cell_type": "code",
   "execution_count": null,
   "metadata": {},
   "outputs": [],
   "source": [
    "rot4_sensitivity_matrix = np.matmul(sensitivity_matrix, rotation_matrix(rot4))\n",
    "rot5_sensitivity_matrix = np.matmul(sensitivity_matrix, rotation_matrix(rot5))"
   ]
  },
  {
   "cell_type": "code",
   "execution_count": null,
   "metadata": {},
   "outputs": [],
   "source": [
    "np.matmul(zern_rot4, sensitivity_matrix), np.matmul(zern_rot5, sensitivity_matrix)"
   ]
  },
  {
   "cell_type": "code",
   "execution_count": null,
   "metadata": {},
   "outputs": [],
   "source": [
    "np.matmul(zern_rot4, rot4_sensitivity_matrix), np.matmul(zern_rot5, rot5_sensitivity_matrix)"
   ]
  },
  {
   "cell_type": "code",
   "execution_count": null,
   "metadata": {},
   "outputs": [],
   "source": [
    "zern_rot6 = [17.06782011,  61.20653302, 42.40661264]\n",
    "zern_rot7 = [15.77044116, 58.74452708, 112.51506414]\n",
    "zern_rot8 = [-18.80399776, 41.2096137, 113.87140371]\n",
    "zern_rot9 = [76.37100845, 67.40974398, 124.57162978]\n",
    "rot6 = -3.3401847378790848\n",
    "rot7 = 43.16738412391905\n",
    "rot8 = 90.40105396553759\n",
    "rot9 = -0.30472694501153796"
   ]
  },
  {
   "cell_type": "code",
   "execution_count": null,
   "metadata": {},
   "outputs": [],
   "source": [
    "np.matmul(zern_rot6, rotation_matrix(rot6)),\\\n",
    "np.matmul(zern_rot7, rotation_matrix(rot7)),\\\n",
    "np.matmul(zern_rot8, rotation_matrix(rot8)),\\\n",
    "np.matmul(zern_rot9, rotation_matrix(rot9))"
   ]
  },
  {
   "cell_type": "code",
   "execution_count": null,
   "metadata": {},
   "outputs": [],
   "source": [
    "rot6_sensitivity_matrix = np.matmul(sensitivity_matrix, rotation_matrix(rot6))\n",
    "rot7_sensitivity_matrix = np.matmul(sensitivity_matrix, rotation_matrix(-rot7))\n",
    "rot8_sensitivity_matrix = np.matmul(sensitivity_matrix, rotation_matrix(-rot8))"
   ]
  },
  {
   "cell_type": "code",
   "execution_count": null,
   "metadata": {},
   "outputs": [],
   "source": [
    "np.matmul(zern_rot6, rot6_sensitivity_matrix), np.matmul(zern_rot7, rot7_sensitivity_matrix), np.matmul(zern_rot8, rot8_sensitivity_matrix)"
   ]
  },
  {
   "cell_type": "code",
   "execution_count": null,
   "metadata": {},
   "outputs": [],
   "source": [
    "# 1579917237-HD32309_intra-0-1: -3.3401847378790848\n",
    "# 1579917372-HD32309_intra-0-1: 43.16738412391905\n",
    "# 1579917536-HD32309_intra-0-1: 90.40105396553759"
   ]
  },
  {
   "cell_type": "code",
   "execution_count": null,
   "metadata": {},
   "outputs": [],
   "source": []
  },
  {
   "cell_type": "code",
   "execution_count": null,
   "metadata": {},
   "outputs": [],
   "source": []
  },
  {
   "cell_type": "code",
   "execution_count": null,
   "metadata": {},
   "outputs": [],
   "source": [
    "zern = [14.75869529,   11.8456627, -191.40271886]"
   ]
  },
  {
   "cell_type": "code",
   "execution_count": null,
   "metadata": {},
   "outputs": [],
   "source": [
    "np.matmul(zern, sensitivity_matrix)"
   ]
  },
  {
   "cell_type": "code",
   "execution_count": null,
   "metadata": {},
   "outputs": [],
   "source": []
  }
 ],
 "metadata": {
  "kernelspec": {
   "display_name": "Python 3",
   "language": "python",
   "name": "python3"
  },
  "language_info": {
   "codemirror_mode": {
    "name": "ipython",
    "version": 3
   },
   "file_extension": ".py",
   "mimetype": "text/x-python",
   "name": "python",
   "nbconvert_exporter": "python",
   "pygments_lexer": "ipython3",
   "version": "3.7.2"
  }
 },
 "nbformat": 4,
 "nbformat_minor": 4
}
