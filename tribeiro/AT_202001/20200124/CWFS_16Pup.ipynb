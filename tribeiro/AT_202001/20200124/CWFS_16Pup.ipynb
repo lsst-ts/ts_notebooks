{
 "cells": [
  {
   "cell_type": "code",
   "execution_count": 1,
   "metadata": {},
   "outputs": [],
   "source": [
    "import os\n",
    "import copy\n",
    "import time\n",
    "import asyncio\n",
    "import warnings\n",
    "import logging\n",
    "\n",
    "from pathlib import Path\n",
    "\n",
    "import numpy as np\n",
    "from astropy.io import fits\n",
    "\n",
    "from scipy import ndimage\n",
    "from scipy.signal import medfilt\n",
    "from scipy.ndimage.filters import gaussian_filter\n",
    "from astropy.modeling import models, fitting\n",
    "\n",
    "\n",
    "import matplotlib.pyplot as plt\n",
    "plt.rcParams['figure.figsize'] = [7, 6]\n",
    "\n",
    "#Import CWFS package\n",
    "from lsst import cwfs\n",
    "from lsst.cwfs.instrument import Instrument\n",
    "from lsst.cwfs.algorithm import Algorithm\n",
    "from lsst.cwfs.image import Image, readFile, aperture2image, showProjection\n",
    "import lsst.cwfs.plots as plots\n",
    "\n",
    "from lsst.ts import salobj\n",
    "from lsst.ts.standardscripts.auxtel.attcs import ATTCS\n",
    "\n",
    "%matplotlib inline"
   ]
  },
  {
   "cell_type": "code",
   "execution_count": 2,
   "metadata": {},
   "outputs": [],
   "source": [
    "attcs = ATTCS()\n",
    "cam = salobj.Remote(attcs.domain, \"GenericCamera\", 1)"
   ]
  },
  {
   "cell_type": "code",
   "execution_count": 3,
   "metadata": {},
   "outputs": [
    {
     "name": "stderr",
     "output_type": "stream",
     "text": [
      "RemoteEvent(ATDomeTrajectory, 0, logMessage) falling behind; read 30 messages\n",
      "RemoteTelemetry(ATDome, 0, position) falling behind; read 27 messages\n"
     ]
    },
    {
     "data": {
      "text/plain": [
       "[[None, None, None, None, None, None, None], None]"
      ]
     },
     "execution_count": 3,
     "metadata": {},
     "output_type": "execute_result"
    }
   ],
   "source": [
    "await asyncio.gather(attcs.start_task, cam.start_task) "
   ]
  },
  {
   "cell_type": "code",
   "execution_count": 4,
   "metadata": {},
   "outputs": [],
   "source": [
    "# Declare target name\n",
    "target_name='16Pup'"
   ]
  },
  {
   "cell_type": "code",
   "execution_count": 5,
   "metadata": {},
   "outputs": [],
   "source": [
    "focus_offset=0.04557208\n",
    "expTime=40."
   ]
  },
  {
   "cell_type": "code",
   "execution_count": 12,
   "metadata": {},
   "outputs": [
    {
     "name": "stdout",
     "output_type": "stream",
     "text": [
      "Move to intrafocal position\n",
      "Take intrafocal image\n",
      "Move to extra-focal hexapod position\n",
      "Take extra-focal image\n",
      "============\n",
      "dz=0.5\n",
      "1579925833-16Pup_intra-0-1\n",
      "1579925882-16Pup_extra-0-1\n",
      "============\n"
     ]
    },
    {
     "name": "stdin",
     "output_type": "stream",
     "text": [
      "Check rotator and press return: \n"
     ]
    },
    {
     "name": "stderr",
     "output_type": "stream",
     "text": [
      "RemoteEvent(ATPtg, 0, mountDataWarning) falling behind; read 56 messages\n",
      "RemoteTelemetry(ATMCS, 0, measuredMotorVelocity) falling behind; read 70 messages\n",
      "RemoteTelemetry(ATDome, 0, position) falling behind; read 100 messages\n",
      "RemoteEvent(ATHexapod, 0, heartbeat) falling behind; read 70 messages\n",
      "RemoteEvent(ATDomeTrajectory, 0, logMessage) falling behind; read 100 messages\n",
      "RemoteEvent(GenericCamera, 1, heartbeat) falling behind; read 69 messages\n",
      "RemoteTelemetry(ATPneumatics, 0, loadCell) falling behind; read 70 messages\n",
      "RemoteTelemetry(ATPneumatics, 0, mainAirSourcePressure) falling behind; read 70 messages\n",
      "RemoteTelemetry(ATHexapod, 0, positionStatus) falling behind; read 69 messages\n",
      "RemoteTelemetry(ATMCS, 0, trajectory) falling behind; read 71 messages\n",
      "RemoteTelemetry(ATPneumatics, 0, m2AirPressure) falling behind; read 71 messages\n",
      "RemoteEvent(ATDome, 0, heartbeat) falling behind; read 71 messages\n",
      "RemoteTelemetry(ATMCS, 0, torqueDemand) falling behind; read 71 messages\n",
      "RemoteEvent(GenericCamera, 1, logMessage) falling behind; read 75 messages\n",
      "RemoteTelemetry(ATPtg, 0, timeAndDate) falling behind; read 100 messages\n",
      "RemoteTelemetry(ATPneumatics, 0, m1AirPressure) falling behind; read 71 messages\n",
      "RemoteTelemetry(ATMCS, 0, nasymth_m3_mountMotorEncoders) falling behind; read 72 messages\n",
      "RemoteEvent(ATAOS, 0, logMessage) falling behind; read 100 messages\n",
      "RemoteEvent(ATDomeTrajectory, 0, heartbeat) falling behind; read 72 messages\n",
      "RemoteTelemetry(ATPtg, 0, skyEnvironment) falling behind; read 15 messages\n",
      "RemoteTelemetry(ATMCS, 0, mount_Nasmyth_Encoders) falling behind; read 72 messages\n",
      "RemoteEvent(ATAOS, 0, heartbeat) falling behind; read 72 messages\n",
      "RemoteTelemetry(ATPtg, 0, mountStatus) falling behind; read 100 messages\n",
      "RemoteEvent(ATPneumatics, 0, heartbeat) falling behind; read 72 messages\n",
      "RemoteTelemetry(ATMCS, 0, mount_AzEl_Encoders) falling behind; read 73 messages\n",
      "RemoteEvent(ATAOS, 0, detailedState) falling behind; read 19 messages\n",
      "RemoteTelemetry(ATPtg, 0, guidingAndOffsets) falling behind; read 100 messages\n",
      "RemoteTelemetry(ATMCS, 0, measuredTorque) falling behind; read 73 messages\n",
      "RemoteTelemetry(ATPtg, 0, currentTimesToLimits) falling behind; read 15 messages\n",
      "RemoteTelemetry(ATPtg, 0, currentTargetStatus) falling behind; read 100 messages\n",
      "RemoteTelemetry(ATMCS, 0, azEl_mountMotorEncoders) falling behind; read 73 messages\n",
      "RemoteEvent(ATMCS, 0, target) falling behind; read 100 messages\n",
      "RemoteEvent(ATMCS, 0, heartbeat) falling behind; read 73 messages\n"
     ]
    },
    {
     "name": "stdout",
     "output_type": "stream",
     "text": [
      "Move to intrafocal position\n",
      "Take intrafocal image\n",
      "Move to extra-focal hexapod position\n",
      "Take extra-focal image\n",
      "============\n",
      "dz=0.7\n",
      "1579926008-16Pup_intra-0-1\n",
      "1579926057-16Pup_extra-0-1\n",
      "============\n"
     ]
    },
    {
     "name": "stdin",
     "output_type": "stream",
     "text": [
      "Check rotator and press return: \n"
     ]
    },
    {
     "name": "stderr",
     "output_type": "stream",
     "text": [
      "RemoteEvent(ATMCS, 0, target) falling behind; read 100 messages\n",
      "RemoteEvent(ATDomeTrajectory, 0, logMessage) falling behind; read 100 messages\n",
      "RemoteTelemetry(ATDome, 0, position) falling behind; read 100 messages\n",
      "RemoteTelemetry(ATPtg, 0, currentTargetStatus) falling behind; read 100 messages\n",
      "RemoteEvent(GenericCamera, 1, heartbeat) falling behind; read 37 messages\n",
      "RemoteTelemetry(ATHexapod, 0, positionStatus) falling behind; read 37 messages\n",
      "RemoteTelemetry(ATPneumatics, 0, loadCell) falling behind; read 37 messages\n",
      "RemoteEvent(GenericCamera, 1, logMessage) falling behind; read 42 messages\n",
      "RemoteEvent(ATDomeTrajectory, 0, heartbeat) falling behind; read 38 messages\n",
      "RemoteEvent(ATHexapod, 0, heartbeat) falling behind; read 38 messages\n",
      "RemoteTelemetry(ATPtg, 0, timeAndDate) falling behind; read 100 messages\n",
      "RemoteTelemetry(ATMCS, 0, trajectory) falling behind; read 38 messages\n",
      "RemoteTelemetry(ATPneumatics, 0, mainAirSourcePressure) falling behind; read 38 messages\n",
      "RemoteEvent(ATAOS, 0, logMessage) falling behind; read 68 messages\n",
      "RemoteTelemetry(ATMCS, 0, torqueDemand) falling behind; read 38 messages\n",
      "RemoteTelemetry(ATPneumatics, 0, m2AirPressure) falling behind; read 38 messages\n",
      "RemoteEvent(ATAOS, 0, heartbeat) falling behind; read 38 messages\n",
      "RemoteEvent(ATDome, 0, heartbeat) falling behind; read 38 messages\n",
      "RemoteTelemetry(ATPtg, 0, mountStatus) falling behind; read 100 messages\n",
      "RemoteTelemetry(ATMCS, 0, nasymth_m3_mountMotorEncoders) falling behind; read 39 messages\n",
      "RemoteTelemetry(ATPneumatics, 0, m1AirPressure) falling behind; read 38 messages\n",
      "RemoteEvent(ATAOS, 0, detailedState) falling behind; read 12 messages\n",
      "RemoteTelemetry(ATPtg, 0, guidingAndOffsets) falling behind; read 100 messages\n",
      "RemoteTelemetry(ATMCS, 0, mount_Nasmyth_Encoders) falling behind; read 39 messages\n",
      "RemoteTelemetry(ATMCS, 0, mount_AzEl_Encoders) falling behind; read 39 messages\n",
      "RemoteEvent(ATPneumatics, 0, heartbeat) falling behind; read 39 messages\n",
      "RemoteTelemetry(ATMCS, 0, measuredTorque) falling behind; read 39 messages\n",
      "RemoteTelemetry(ATMCS, 0, measuredMotorVelocity) falling behind; read 39 messages\n",
      "RemoteEvent(ATPtg, 0, mountDataWarning) falling behind; read 30 messages\n",
      "RemoteTelemetry(ATMCS, 0, azEl_mountMotorEncoders) falling behind; read 40 messages\n"
     ]
    },
    {
     "name": "stdout",
     "output_type": "stream",
     "text": [
      "Move to intrafocal position\n"
     ]
    },
    {
     "name": "stderr",
     "output_type": "stream",
     "text": [
      "RemoteEvent(ATMCS, 0, heartbeat) falling behind; read 39 messages\n"
     ]
    },
    {
     "name": "stdout",
     "output_type": "stream",
     "text": [
      "Take intrafocal image\n",
      "Move to extra-focal hexapod position\n",
      "Take extra-focal image\n",
      "============\n",
      "dz=0.9\n",
      "1579926150-16Pup_intra-0-1\n",
      "1579926201-16Pup_extra-0-1\n",
      "============\n"
     ]
    },
    {
     "name": "stdin",
     "output_type": "stream",
     "text": [
      "Check rotator and press return: \n"
     ]
    },
    {
     "name": "stderr",
     "output_type": "stream",
     "text": [
      "RemoteTelemetry(ATPneumatics, 0, m1AirPressure) falling behind; read 100 messages\n",
      "RemoteEvent(ATPneumatics, 0, heartbeat) falling behind; read 100 messages\n",
      "RemoteEvent(ATMCS, 0, target) falling behind; read 100 messages\n",
      "RemoteEvent(ATDomeTrajectory, 0, logMessage) falling behind; read 100 messages\n",
      "RemoteTelemetry(ATDome, 0, position) falling behind; read 100 messages\n",
      "RemoteTelemetry(ATPtg, 0, timeAndDate) falling behind; read 100 messages\n",
      "RemoteEvent(GenericCamera, 1, logMessage) falling behind; read 30 messages\n",
      "RemoteEvent(ATHexapod, 0, heartbeat) falling behind; read 100 messages\n",
      "RemoteTelemetry(ATPneumatics, 0, mainAirSourcePressure) falling behind; read 100 messages\n",
      "RemoteEvent(GenericCamera, 1, heartbeat) falling behind; read 100 messages\n",
      "RemoteTelemetry(ATHexapod, 0, positionStatus) falling behind; read 100 messages\n",
      "RemoteTelemetry(ATMCS, 0, trajectory) falling behind; read 100 messages\n",
      "RemoteTelemetry(ATPneumatics, 0, m2AirPressure) falling behind; read 100 messages\n",
      "RemoteTelemetry(ATMCS, 0, torqueDemand) falling behind; read 100 messages\n",
      "RemoteEvent(ATDomeTrajectory, 0, heartbeat) falling behind; read 100 messages\n",
      "RemoteTelemetry(ATMCS, 0, nasymth_m3_mountMotorEncoders) falling behind; read 100 messages\n",
      "RemoteTelemetry(ATPtg, 0, skyEnvironment) falling behind; read 40 messages\n",
      "RemoteEvent(ATDome, 0, heartbeat) falling behind; read 100 messages\n",
      "RemoteTelemetry(ATPneumatics, 0, loadCell) falling behind; read 100 messages\n",
      "RemoteTelemetry(ATMCS, 0, mount_Nasmyth_Encoders) falling behind; read 100 messages\n",
      "RemoteTelemetry(ATPtg, 0, mountStatus) falling behind; read 100 messages\n",
      "RemoteEvent(ATAOS, 0, logMessage) falling behind; read 100 messages\n",
      "RemoteTelemetry(ATMCS, 0, mount_AzEl_Encoders) falling behind; read 100 messages\n",
      "RemoteTelemetry(ATPtg, 0, guidingAndOffsets) falling behind; read 100 messages\n",
      "RemoteEvent(ATAOS, 0, heartbeat) falling behind; read 100 messages\n",
      "RemoteTelemetry(ATMCS, 0, measuredTorque) falling behind; read 100 messages\n",
      "RemoteTelemetry(ATPtg, 0, currentTimesToLimits) falling behind; read 40 messages\n",
      "RemoteEvent(ATAOS, 0, detailedState) falling behind; read 46 messages\n",
      "RemoteTelemetry(ATMCS, 0, measuredMotorVelocity) falling behind; read 100 messages\n",
      "RemoteTelemetry(ATPtg, 0, currentTargetStatus) falling behind; read 100 messages\n"
     ]
    },
    {
     "name": "stdout",
     "output_type": "stream",
     "text": [
      "Move to intrafocal position\n"
     ]
    },
    {
     "name": "stderr",
     "output_type": "stream",
     "text": [
      "RemoteTelemetry(ATMCS, 0, azEl_mountMotorEncoders) falling behind; read 100 messages\n",
      "RemoteEvent(ATPtg, 0, weatherDataApplied) falling behind; read 20 messages\n",
      "RemoteEvent(ATPtg, 0, mountDataWarning) falling behind; read 100 messages\n",
      "RemoteEvent(ATMCS, 0, heartbeat) falling behind; read 100 messages\n",
      "RemoteEvent(ATMCS, 0, azimuthInPosition) falling behind; read 12 messages\n",
      "RemoteEvent(ATMCS, 0, allAxesInPosition) falling behind; read 14 messages\n"
     ]
    },
    {
     "name": "stdout",
     "output_type": "stream",
     "text": [
      "Take intrafocal image\n",
      "Move to extra-focal hexapod position\n",
      "Take extra-focal image\n",
      "============\n",
      "dz=1.1\n",
      "1579926455-16Pup_intra-0-1\n",
      "1579926507-16Pup_extra-0-1\n",
      "============\n"
     ]
    },
    {
     "name": "stdin",
     "output_type": "stream",
     "text": [
      "Check rotator and press return: \n"
     ]
    },
    {
     "name": "stderr",
     "output_type": "stream",
     "text": [
      "RemoteEvent(ATMCS, 0, target) falling behind; read 100 messages\n",
      "RemoteEvent(ATDomeTrajectory, 0, logMessage) falling behind; read 100 messages\n",
      "RemoteTelemetry(ATPtg, 0, currentTargetStatus) falling behind; read 60 messages\n",
      "RemoteEvent(GenericCamera, 1, logMessage) falling behind; read 14 messages\n",
      "RemoteEvent(ATDome, 0, heartbeat) falling behind; read 12 messages\n",
      "RemoteEvent(ATHexapod, 0, heartbeat) falling behind; read 12 messages\n",
      "RemoteTelemetry(ATPneumatics, 0, loadCell) falling behind; read 12 messages\n",
      "RemoteTelemetry(ATMCS, 0, trajectory) falling behind; read 12 messages\n",
      "RemoteTelemetry(ATPtg, 0, timeAndDate) falling behind; read 60 messages\n",
      "RemoteEvent(ATAOS, 0, logMessage) falling behind; read 20 messages\n",
      "RemoteTelemetry(ATHexapod, 0, positionStatus) falling behind; read 11 messages\n",
      "RemoteEvent(GenericCamera, 1, heartbeat) falling behind; read 11 messages\n",
      "RemoteTelemetry(ATMCS, 0, torqueDemand) falling behind; read 12 messages\n",
      "RemoteEvent(ATAOS, 0, heartbeat) falling behind; read 12 messages\n",
      "RemoteEvent(ATDomeTrajectory, 0, heartbeat) falling behind; read 12 messages\n",
      "RemoteTelemetry(ATPneumatics, 0, mainAirSourcePressure) falling behind; read 12 messages\n",
      "RemoteTelemetry(ATDome, 0, position) falling behind; read 60 messages\n",
      "RemoteTelemetry(ATMCS, 0, nasymth_m3_mountMotorEncoders) falling behind; read 12 messages\n",
      "RemoteTelemetry(ATPtg, 0, mountStatus) falling behind; read 62 messages\n",
      "RemoteTelemetry(ATPneumatics, 0, m2AirPressure) falling behind; read 13 messages\n",
      "RemoteTelemetry(ATMCS, 0, mount_Nasmyth_Encoders) falling behind; read 12 messages\n",
      "RemoteTelemetry(ATPtg, 0, guidingAndOffsets) falling behind; read 62 messages\n",
      "RemoteTelemetry(ATPneumatics, 0, m1AirPressure) falling behind; read 13 messages\n",
      "RemoteTelemetry(ATMCS, 0, mount_AzEl_Encoders) falling behind; read 12 messages\n",
      "RemoteEvent(ATPneumatics, 0, heartbeat) falling behind; read 13 messages\n",
      "RemoteTelemetry(ATMCS, 0, measuredTorque) falling behind; read 12 messages\n",
      "RemoteTelemetry(ATMCS, 0, measuredMotorVelocity) falling behind; read 12 messages\n",
      "RemoteEvent(ATPtg, 0, mountDataWarning) falling behind; read 12 messages\n",
      "RemoteTelemetry(ATMCS, 0, azEl_mountMotorEncoders) falling behind; read 12 messages\n",
      "RemoteEvent(ATMCS, 0, heartbeat) falling behind; read 13 messages\n"
     ]
    },
    {
     "name": "stdout",
     "output_type": "stream",
     "text": [
      "Move to intrafocal position\n",
      "Take intrafocal image\n",
      "Move to extra-focal hexapod position\n",
      "Take extra-focal image\n",
      "============\n",
      "dz=1.3\n",
      "1579926576-16Pup_intra-0-1\n",
      "1579926630-16Pup_extra-0-1\n",
      "============\n"
     ]
    },
    {
     "name": "stdin",
     "output_type": "stream",
     "text": [
      "Check rotator and press return: \n"
     ]
    },
    {
     "name": "stderr",
     "output_type": "stream",
     "text": [
      "RemoteTelemetry(ATDome, 0, position) falling behind; read 100 messages\n",
      "RemoteTelemetry(ATHexapod, 0, positionStatus) falling behind; read 100 messages\n",
      "RemoteEvent(ATMCS, 0, target) falling behind; read 100 messages\n",
      "RemoteEvent(ATDomeTrajectory, 0, logMessage) falling behind; read 100 messages\n",
      "RemoteTelemetry(ATPtg, 0, currentTargetStatus) falling behind; read 100 messages\n",
      "RemoteEvent(GenericCamera, 1, logMessage) falling behind; read 70 messages\n",
      "RemoteTelemetry(ATPneumatics, 0, loadCell) falling behind; read 100 messages\n",
      "RemoteTelemetry(ATPtg, 0, timeAndDate) falling behind; read 100 messages\n",
      "RemoteEvent(ATHexapod, 0, heartbeat) falling behind; read 100 messages\n",
      "RemoteTelemetry(ATPtg, 0, skyEnvironment) falling behind; read 72 messages\n",
      "RemoteEvent(ATDome, 0, heartbeat) falling behind; read 100 messages\n",
      "RemoteTelemetry(ATPneumatics, 0, mainAirSourcePressure) falling behind; read 100 messages\n",
      "RemoteTelemetry(ATMCS, 0, trajectory) falling behind; read 100 messages\n",
      "RemoteEvent(GenericCamera, 1, heartbeat) falling behind; read 100 messages\n",
      "RemoteTelemetry(ATPtg, 0, mountStatus) falling behind; read 100 messages\n",
      "RemoteTelemetry(ATPneumatics, 0, m2AirPressure) falling behind; read 100 messages\n",
      "RemoteTelemetry(ATMCS, 0, torqueDemand) falling behind; read 100 messages\n",
      "RemoteEvent(ATDomeTrajectory, 0, heartbeat) falling behind; read 100 messages\n",
      "RemoteTelemetry(ATPtg, 0, guidingAndOffsets) falling behind; read 100 messages\n",
      "RemoteTelemetry(ATPneumatics, 0, m1AirPressure) falling behind; read 100 messages\n",
      "RemoteTelemetry(ATMCS, 0, nasymth_m3_mountMotorEncoders) falling behind; read 100 messages\n",
      "RemoteEvent(ATAOS, 0, logMessage) falling behind; read 100 messages\n",
      "RemoteTelemetry(ATPtg, 0, currentTimesToLimits) falling behind; read 72 messages\n",
      "RemoteTelemetry(ATMCS, 0, mount_Nasmyth_Encoders) falling behind; read 100 messages\n",
      "RemoteEvent(ATAOS, 0, heartbeat) falling behind; read 100 messages\n",
      "RemoteEvent(ATPneumatics, 0, heartbeat) falling behind; read 100 messages\n",
      "RemoteTelemetry(ATMCS, 0, mount_AzEl_Encoders) falling behind; read 100 messages\n",
      "RemoteEvent(ATAOS, 0, detailedState) falling behind; read 78 messages\n",
      "RemoteEvent(ATPtg, 0, weatherDataApplied) falling behind; read 36 messages\n",
      "RemoteTelemetry(ATMCS, 0, measuredTorque) falling behind; read 100 messages\n",
      "RemoteEvent(ATPtg, 0, mountDataWarning) falling behind; read 100 messages\n",
      "RemoteTelemetry(ATMCS, 0, measuredMotorVelocity) falling behind; read 100 messages\n",
      "RemoteTelemetry(ATMCS, 0, azEl_mountMotorEncoders) falling behind; read 100 messages\n",
      "RemoteEvent(ATMCS, 0, nasmyth1RotatorInPosition) falling behind; read 10 messages\n",
      "RemoteEvent(ATMCS, 0, heartbeat) falling behind; read 100 messages\n"
     ]
    },
    {
     "name": "stdout",
     "output_type": "stream",
     "text": [
      "Move to intrafocal position\n"
     ]
    },
    {
     "name": "stderr",
     "output_type": "stream",
     "text": [
      "RemoteEvent(ATMCS, 0, azimuthInPosition) falling behind; read 12 messages\n",
      "RemoteEvent(ATMCS, 0, allAxesInPosition) falling behind; read 12 messages\n"
     ]
    },
    {
     "name": "stdout",
     "output_type": "stream",
     "text": [
      "Take intrafocal image\n",
      "Move to extra-focal hexapod position\n",
      "Take extra-focal image\n",
      "============\n",
      "dz=1.5\n",
      "1579927046-16Pup_intra-0-1\n",
      "1579927100-16Pup_extra-0-1\n",
      "============\n"
     ]
    },
    {
     "name": "stdin",
     "output_type": "stream",
     "text": [
      "Check rotator and press return: \n"
     ]
    },
    {
     "name": "stderr",
     "output_type": "stream",
     "text": [
      "RemoteEvent(ATMCS, 0, target) falling behind; read 100 messages\n",
      "RemoteEvent(ATDomeTrajectory, 0, logMessage) falling behind; read 100 messages\n",
      "RemoteTelemetry(ATPtg, 0, timeAndDate) falling behind; read 100 messages\n",
      "RemoteTelemetry(ATDome, 0, position) falling behind; read 100 messages\n",
      "RemoteTelemetry(ATPneumatics, 0, loadCell) falling behind; read 100 messages\n",
      "RemoteEvent(ATHexapod, 0, heartbeat) falling behind; read 100 messages\n",
      "RemoteEvent(GenericCamera, 1, heartbeat) falling behind; read 100 messages\n",
      "RemoteEvent(ATPneumatics, 0, heartbeat) falling behind; read 100 messages\n",
      "RemoteTelemetry(ATMCS, 0, trajectory) falling behind; read 100 messages\n",
      "RemoteTelemetry(ATHexapod, 0, positionStatus) falling behind; read 100 messages\n",
      "RemoteEvent(GenericCamera, 1, logMessage) falling behind; read 95 messages\n",
      "RemoteEvent(ATDomeTrajectory, 0, heartbeat) falling behind; read 100 messages\n",
      "RemoteEvent(ATDome, 0, heartbeat) falling behind; read 100 messages\n",
      "RemoteTelemetry(ATMCS, 0, torqueDemand) falling behind; read 100 messages\n",
      "RemoteTelemetry(ATPtg, 0, skyEnvironment) falling behind; read 23 messages\n",
      "RemoteEvent(ATAOS, 0, logMessage) falling behind; read 100 messages\n",
      "RemoteTelemetry(ATPneumatics, 0, mainAirSourcePressure) falling behind; read 100 messages\n",
      "RemoteTelemetry(ATMCS, 0, nasymth_m3_mountMotorEncoders) falling behind; read 100 messages\n",
      "RemoteTelemetry(ATPtg, 0, mountStatus) falling behind; read 100 messages\n",
      "RemoteEvent(ATAOS, 0, heartbeat) falling behind; read 100 messages\n",
      "RemoteTelemetry(ATPneumatics, 0, m2AirPressure) falling behind; read 100 messages\n",
      "RemoteTelemetry(ATMCS, 0, mount_Nasmyth_Encoders) falling behind; read 100 messages\n",
      "RemoteTelemetry(ATPtg, 0, guidingAndOffsets) falling behind; read 100 messages\n",
      "RemoteEvent(ATAOS, 0, detailedState) falling behind; read 25 messages\n",
      "RemoteTelemetry(ATPneumatics, 0, m1AirPressure) falling behind; read 100 messages\n",
      "RemoteTelemetry(ATMCS, 0, mount_AzEl_Encoders) falling behind; read 100 messages\n",
      "RemoteTelemetry(ATPtg, 0, currentTimesToLimits) falling behind; read 23 messages\n",
      "RemoteTelemetry(ATMCS, 0, measuredTorque) falling behind; read 100 messages\n",
      "RemoteTelemetry(ATPtg, 0, currentTargetStatus) falling behind; read 100 messages\n",
      "RemoteTelemetry(ATMCS, 0, measuredMotorVelocity) falling behind; read 100 messages\n",
      "RemoteEvent(ATPtg, 0, weatherDataApplied) falling behind; read 11 messages\n",
      "RemoteTelemetry(ATMCS, 0, azEl_mountMotorEncoders) falling behind; read 100 messages\n",
      "RemoteEvent(ATPtg, 0, mountDataWarning) falling behind; read 96 messages\n",
      "RemoteEvent(ATMCS, 0, heartbeat) falling behind; read 100 messages\n",
      "RemoteEvent(ATAOS, 0, logMessage) falling behind; read 11 messages\n",
      "RemoteEvent(ATAOS, 0, logMessage) falling behind; read 10 messages\n"
     ]
    }
   ],
   "source": [
    "for dz in [0.5, 0.7, 0.9, 1.1, 1.3, 1.5]:\n",
    "    try:\n",
    "        await cam.cmd_stopLiveView.start()\n",
    "    except salobj.AckError:\n",
    "        print(\"ack error\")\n",
    "\n",
    "    # Intrafocal hexapod setting - offsets -0.5mm from central focus value above\n",
    "\n",
    "    print('Move to intrafocal position')\n",
    "    # await attcs.athexapod.cmd_moveToPosition.set_start(x=hex_X, y=hex_Y,\n",
    "    #                                              z=hex_Z-dz, u=hex_U, v=hex_V)\n",
    "    attcs.athexapod.evt_positionUpdate.flush()\n",
    "    await attcs.ataos.cmd_applyAxisOffset.set_start(axis=\"z\", offset=-dz+focus_offset)\n",
    "    curr_hex_pos = await attcs.athexapod.evt_positionUpdate.next(flush=False, timeout=30)\n",
    "\n",
    "    print('Take intrafocal image')\n",
    "    cam.evt_endReadout.flush()\n",
    "\n",
    "    await cam.cmd_takeImages.set_start(numImages=1, expTime=expTime, shutter=True, imageSequenceName=target_name+'_intra')\n",
    "\n",
    "    intra_endron = await cam.evt_endReadout.next(flush=False, timeout=5)\n",
    "\n",
    "    # Extrafocal hexapod setting\n",
    "    print('Move to extra-focal hexapod position')\n",
    "    # await attcs.athexapod.cmd_moveToPosition.set_start(x=hex_X, y=hex_Y,\n",
    "    #                                                      z=hex_Z+dz, u=hex_U, v=hex_V)\n",
    "    attcs.athexapod.evt_positionUpdate.flush()\n",
    "    await attcs.ataos.cmd_applyAxisOffset.set_start(axis=\"z\", offset=dz+focus_offset)\n",
    "    curr_hex_pos = await attcs.athexapod.evt_positionUpdate.next(flush=False, timeout=30)\n",
    "\n",
    "    # r.evt_endReadout.flush()\n",
    "    print('Take extra-focal image')\n",
    "    cam.evt_endReadout.flush()\n",
    "    await cam.cmd_takeImages.set_start(numImages=1, expTime=expTime, shutter=True, imageSequenceName=target_name+'_extra')\n",
    "\n",
    "    extra_endron = await cam.evt_endReadout.next(flush=False, timeout=5)\n",
    "\n",
    "    print(f\"============\")\n",
    "    print(f\"dz={dz}\")\n",
    "    print(intra_endron.imageName)\n",
    "    print(extra_endron.imageName)\n",
    "    print(f\"============\")\n",
    "\n",
    "    try:\n",
    "        await cam.cmd_startLiveView.set_start(expTime=0.5)\n",
    "    except salobj.AckError:\n",
    "        print(\"ack error\")\n",
    "\n",
    "    attcs.athexapod.evt_positionUpdate.flush()\n",
    "    await attcs.ataos.cmd_applyAxisOffset.set_start(axis=\"z\", offset=focus_offset)\n",
    "    curr_hex_pos = await attcs.athexapod.evt_positionUpdate.next(flush=False, timeout=30)\n",
    "    \n",
    "    opt = input(\"Check rotator and press return:\")\n",
    "\n",
    "    if opt == 'q':\n",
    "        break\n",
    "        \n",
    "    # intra_wget_url = 'http://139.229.170.216:8000/data/'+intra_endron.imageName+'.fits'\n",
    "    # extra_wget_url = 'http://139.229.170.216:8000/data/'+extra_endron.imageName+'.fits'\n",
    "    # intra_fname = wget.download(intra_wget_url)\n",
    "    # print(f\"============\")\n",
    "    # print(f'{intra_fname}')\n",
    "    # extra_fname = wget.download(extra_wget_url)\n",
    "    # print(f'{extra_fname}')\n",
    "    # print(f\"============\")"
   ]
  },
  {
   "cell_type": "code",
   "execution_count": 10,
   "metadata": {},
   "outputs": [],
   "source": [
    "for dz in [0.5, 1.0, 1.5]:\n",
    "    try:\n",
    "        await cam.cmd_stopLiveView.start()\n",
    "    except salobj.AckError:\n",
    "        print(\"ack error\")\n",
    "\n",
    "    # Intrafocal hexapod setting - offsets -0.5mm from central focus value above\n",
    "\n",
    "    print('Move to intrafocal position')\n",
    "    # await attcs.athexapod.cmd_moveToPosition.set_start(x=hex_X, y=hex_Y,\n",
    "    #                                              z=hex_Z-dz, u=hex_U, v=hex_V)\n",
    "    attcs.athexapod.evt_positionUpdate.flush()\n",
    "    await attcs.ataos.cmd_applyAxisOffset.set_start(axis=\"z\", offset=-dz+focus_offset)\n",
    "    curr_hex_pos = await attcs.athexapod.evt_positionUpdate.next(flush=False, timeout=30)\n",
    "\n",
    "    print('Take intrafocal image')\n",
    "    cam.evt_endReadout.flush()\n",
    "\n",
    "    await cam.cmd_takeImages.set_start(numImages=1, expTime=expTime, shutter=True, imageSequenceName=target_name+'_intra')\n",
    "\n",
    "    intra_endron = await cam.evt_endReadout.next(flush=False, timeout=5)\n",
    "\n",
    "    # Extrafocal hexapod setting\n",
    "    print('Move to extra-focal hexapod position')\n",
    "    # await attcs.athexapod.cmd_moveToPosition.set_start(x=hex_X, y=hex_Y,\n",
    "    #                                                      z=hex_Z+dz, u=hex_U, v=hex_V)\n",
    "    attcs.athexapod.evt_positionUpdate.flush()\n",
    "    await attcs.ataos.cmd_applyAxisOffset.set_start(axis=\"z\", offset=dz+focus_offset)\n",
    "    curr_hex_pos = await attcs.athexapod.evt_positionUpdate.next(flush=False, timeout=30)\n",
    "\n",
    "    # r.evt_endReadout.flush()\n",
    "    print('Take extra-focal image')\n",
    "    cam.evt_endReadout.flush()\n",
    "    await cam.cmd_takeImages.set_start(numImages=1, expTime=expTime, shutter=True, imageSequenceName=target_name+'_extra')\n",
    "\n",
    "    extra_endron = await cam.evt_endReadout.next(flush=False, timeout=5)\n",
    "\n",
    "    print(f\"============\")\n",
    "    print(f\"dz={dz}\")\n",
    "    print(intra_endron.imageName)\n",
    "    print(extra_endron.imageName)\n",
    "    print(f\"============\")\n",
    "\n",
    "    try:\n",
    "        await cam.cmd_startLiveView.set_start(expTime=0.5)\n",
    "    except salobj.AckError:\n",
    "        print(\"ack error\")\n",
    "\n",
    "    attcs.athexapod.evt_positionUpdate.flush()\n",
    "    await attcs.ataos.cmd_applyAxisOffset.set_start(axis=\"z\", offset=focus_offset)\n",
    "    curr_hex_pos = await attcs.athexapod.evt_positionUpdate.next(flush=False, timeout=30)\n",
    "    \n",
    "    opt = input(\"Check rotator and press return:\")\n",
    "\n",
    "    if opt == 'q':\n",
    "        break\n",
    "        \n",
    "    # intra_wget_url = 'http://139.229.170.216:8000/data/'+intra_endron.imageName+'.fits'\n",
    "    # extra_wget_url = 'http://139.229.170.216:8000/data/'+extra_endron.imageName+'.fits'\n",
    "    # intra_fname = wget.download(intra_wget_url)\n",
    "    # print(f\"============\")\n",
    "    # print(f'{intra_fname}')\n",
    "    # extra_fname = wget.download(extra_wget_url)\n",
    "    # print(f'{extra_fname}')\n",
    "    # print(f\"============\")"
   ]
  },
  {
   "cell_type": "code",
   "execution_count": 7,
   "metadata": {},
   "outputs": [
    {
     "data": {
      "text/plain": [
       "array([0.0205, 0.0287, 0.0369, 0.0451, 0.0533, 0.0615])"
      ]
     },
     "execution_count": 7,
     "metadata": {},
     "output_type": "execute_result"
    }
   ],
   "source": [
    "np.array([0.5, 0.7, 0.9, 1.1, 1.3, 1.5])*0.041"
   ]
  },
  {
   "cell_type": "code",
   "execution_count": null,
   "metadata": {},
   "outputs": [],
   "source": []
  },
  {
   "cell_type": "code",
   "execution_count": null,
   "metadata": {},
   "outputs": [],
   "source": []
  },
  {
   "cell_type": "code",
   "execution_count": null,
   "metadata": {},
   "outputs": [],
   "source": [
    "await attcs.ataos.cmd_applyAxisOffset.set_start(axis='z', offset=0.)"
   ]
  },
  {
   "cell_type": "code",
   "execution_count": null,
   "metadata": {},
   "outputs": [],
   "source": []
  }
 ],
 "metadata": {
  "kernelspec": {
   "display_name": "Python 3",
   "language": "python",
   "name": "python3"
  },
  "language_info": {
   "codemirror_mode": {
    "name": "ipython",
    "version": 3
   },
   "file_extension": ".py",
   "mimetype": "text/x-python",
   "name": "python",
   "nbconvert_exporter": "python",
   "pygments_lexer": "ipython3",
   "version": "3.7.2"
  }
 },
 "nbformat": 4,
 "nbformat_minor": 4
}
