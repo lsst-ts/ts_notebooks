{
 "cells": [
  {
   "cell_type": "code",
   "execution_count": 1,
   "metadata": {},
   "outputs": [],
   "source": [
    "import sys\n",
    "import asyncio\n",
    "import logging\n",
    "\n",
    "import numpy as np\n",
    "\n",
    "from lsst.ts import salobj\n",
    "\n",
    "\n",
    "from lsst.ts.standardscripts.auxtel.attcs import ATTCS"
   ]
  },
  {
   "cell_type": "markdown",
   "metadata": {},
   "source": [
    "Before proceeding, add a logger and set logging level to `DEBUG` so we can get status message from the various tasks."
   ]
  },
  {
   "cell_type": "code",
   "execution_count": 2,
   "metadata": {},
   "outputs": [],
   "source": [
    "stream_handler = logging.StreamHandler(sys.stdout)\n",
    "\n",
    "logger = logging.getLogger()\n",
    "logger.addHandler(stream_handler)\n",
    "logger.level = logging.DEBUG"
   ]
  },
  {
   "cell_type": "markdown",
   "metadata": {},
   "source": [
    "Next we initialize two high level classes to command the ATTCS and LATISS."
   ]
  },
  {
   "cell_type": "code",
   "execution_count": 3,
   "metadata": {},
   "outputs": [],
   "source": [
    "attcs = ATTCS()"
   ]
  },
  {
   "cell_type": "code",
   "execution_count": 4,
   "metadata": {},
   "outputs": [
    {
     "name": "stdout",
     "output_type": "stream",
     "text": [
      "Read historical data in 0.01 sec\n",
      "Read historical data in 0.27 sec\n",
      "Read historical data in 0.96 sec\n",
      "Read historical data in 1.57 sec\n",
      "Read historical data in 2.09 sec\n",
      "Read historical data in 2.92 sec\n",
      "Read historical data in 4.19 sec\n"
     ]
    },
    {
     "data": {
      "text/plain": [
       "[None, None, None, None, None, None, None]"
      ]
     },
     "execution_count": 4,
     "metadata": {},
     "output_type": "execute_result"
    },
    {
     "name": "stdout",
     "output_type": "stream",
     "text": [
      "RemoteTelemetry(ATPtg, 0, timeAndDate) falling behind; read 15 messages\n"
     ]
    }
   ],
   "source": [
    "await attcs.start_task"
   ]
  },
  {
   "cell_type": "code",
   "execution_count": null,
   "metadata": {},
   "outputs": [],
   "source": [
    "await attcs.atdome.cmd_homeAzimuth.start()"
   ]
  },
  {
   "cell_type": "code",
   "execution_count": 5,
   "metadata": {},
   "outputs": [
    {
     "data": {
      "text/plain": [
       "<lsst.ts.salobj.ddsutil.ATDome_logevent_heartbeat_2764e82e at 0x7f88fb811588>"
      ]
     },
     "execution_count": 5,
     "metadata": {},
     "output_type": "execute_result"
    }
   ],
   "source": [
    "await attcs.atdome.evt_heartbeat.next(flush=True, timeout=5)"
   ]
  },
  {
   "cell_type": "code",
   "execution_count": 6,
   "metadata": {},
   "outputs": [
    {
     "name": "stdout",
     "output_type": "stream",
     "text": [
      "Gathering settings.\n",
      "Received settings from users.: {'ataos': 'tolerance', 'atmcs': '', 'atptg': '', 'atpneumatics': '', 'athexapod': 'auxtel_201912_crazy.yaml', 'atdome': 'test.yaml', 'atdometrajectory': ''}\n",
      "Settings versions: {'ataos': 'tolerance', 'atmcs': '', 'atptg': '', 'atpneumatics': '', 'athexapod': 'auxtel_201912_crazy.yaml', 'atdome': 'test.yaml', 'atdometrajectory': ''}\n",
      "Enabling all components\n",
      "Enabling  atmcs\n",
      "Enabling  atptg\n",
      "Enabling  ataos\n",
      "Enabling  atpneumatics\n",
      "Enabling  athexapod\n",
      "Enabling  atdome\n",
      "Enabling  atdometrajectory\n",
      "[atmcs]::[<State.STANDBY: 5>, <State.DISABLED: 1>, <State.ENABLED: 2>]\n",
      "[atptg]::[<State.STANDBY: 5>, <State.DISABLED: 1>, <State.ENABLED: 2>]\n",
      "[ataos]::[<State.STANDBY: 5>, <State.DISABLED: 1>, <State.ENABLED: 2>]\n",
      "[atpneumatics]::[<State.STANDBY: 5>, <State.DISABLED: 1>, <State.ENABLED: 2>]\n",
      "[athexapod]::[<State.STANDBY: 5>, <State.DISABLED: 1>, <State.ENABLED: 2>]\n",
      "[atdome]::[<State.STANDBY: 5>, <State.DISABLED: 1>, <State.ENABLED: 2>]\n",
      "[atdometrajectory]::[<State.STANDBY: 5>, <State.DISABLED: 1>, <State.ENABLED: 2>]\n",
      "All components enabled.\n"
     ]
    }
   ],
   "source": [
    "await attcs.enable(settings={\n",
    "    'ataos': \"tolerance\",\n",
    "    'atmcs': \"\",\n",
    "    'atptg': \"\",\n",
    "    'atpneumatics': \"\",\n",
    "    'athexapod': \"auxtel_201912_crazy.yaml\",\n",
    "    'atdome': \"test.yaml\",\n",
    "    'atdometrajectory': \"\"})"
   ]
  },
  {
   "cell_type": "code",
   "execution_count": 7,
   "metadata": {},
   "outputs": [
    {
     "name": "stdout",
     "output_type": "stream",
     "text": [
      "Gathering settings.\n",
      "Received settings from users.: {'ataos': 'current', 'atmcs': '', 'atptg': '', 'atpneumatics': '', 'athexapod': 'auxtel_201912_crazy.yaml', 'atdome': 'test.yaml', 'atdometrajectory': ''}\n",
      "Settings versions: {'ataos': 'current', 'atmcs': '', 'atptg': '', 'atpneumatics': '', 'athexapod': 'auxtel_201912_crazy.yaml', 'atdome': 'test.yaml', 'atdometrajectory': ''}\n",
      "Enabling all components\n",
      "Enabling  atmcs\n",
      "Enabling  atptg\n",
      "Enabling  ataos\n",
      "Enabling  atpneumatics\n",
      "Enabling  athexapod\n",
      "Enabling  atdome\n",
      "Enabling  atdometrajectory\n",
      "[atmcs]::[<State.ENABLED: 2>]\n",
      "[atptg]::[<State.ENABLED: 2>]\n",
      "[ataos]::[<State.ENABLED: 2>]\n",
      "[atpneumatics]::[<State.ENABLED: 2>]\n",
      "[athexapod]::[<State.ENABLED: 2>]\n",
      "[atdome]::[<State.ENABLED: 2>]\n",
      "[atdometrajectory]::[<State.ENABLED: 2>]\n",
      "All components enabled.\n",
      "Check that dome CSC can communicate with shutter control box.\n",
      "Opening dome.\n",
      "Got: private_revCode: f1592f29, private_sndStamp: 1579900976.5930285, private_rcvStamp: 1579900976.5937119, private_seqNum: 7, private_origin: 374, private_host: -1947882796, inPosition: False, priority: 0\n",
      "ATDome shutter not in position.\n",
      "Got: private_revCode: f1592f29, private_sndStamp: 1579901204.7400954, private_rcvStamp: 1579901204.740896, private_seqNum: 8, private_origin: 374, private_host: -1947882796, inPosition: True, priority: 0\n",
      "ATDome shutter in position.\n",
      "Open telescope cover.\n",
      "Enable ATAOS corrections.\n"
     ]
    }
   ],
   "source": [
    "await attcs.startup(settings={\n",
    "    'ataos': \"current\",\n",
    "    'atmcs': \"\",\n",
    "    'atptg': \"\",\n",
    "    'atpneumatics': \"\",\n",
    "    'athexapod': \"auxtel_201912_crazy.yaml\",\n",
    "    'atdome': \"test.yaml\",\n",
    "    'atdometrajectory': \"\"})"
   ]
  },
  {
   "cell_type": "code",
   "execution_count": 10,
   "metadata": {},
   "outputs": [
    {
     "data": {
      "text/plain": [
       "<lsst.ts.salobj.ddsutil.ATDome_ackcmd_ff080bab at 0x7f88f95d53c8>"
      ]
     },
     "execution_count": 10,
     "metadata": {},
     "output_type": "execute_result"
    }
   ],
   "source": [
    "await attcs.atdome.cmd_moveAzimuth.set_start(azimuth=90.)"
   ]
  },
  {
   "cell_type": "code",
   "execution_count": 12,
   "metadata": {},
   "outputs": [
    {
     "data": {
      "text/plain": [
       "<lsst.ts.salobj.ddsutil.ATMCS_ackcmd_f0f9ad9d at 0x7f88f95382b0>"
      ]
     },
     "execution_count": 12,
     "metadata": {},
     "output_type": "execute_result"
    },
    {
     "name": "stdout",
     "output_type": "stream",
     "text": [
      "RemoteEvent(ATAOS, 0, logMessage) falling behind; read 10 messages\n",
      "RemoteEvent(ATAOS, 0, logMessage) falling behind; read 10 messages\n",
      "RemoteEvent(ATAOS, 0, logMessage) falling behind; read 10 messages\n",
      "RemoteEvent(ATAOS, 0, logMessage) falling behind; read 10 messages\n"
     ]
    }
   ],
   "source": [
    "await attcs.atmcs.cmd_setInstrumentPort.set_start(port=0)"
   ]
  },
  {
   "cell_type": "code",
   "execution_count": 25,
   "metadata": {},
   "outputs": [
    {
     "name": "stdout",
     "output_type": "stream",
     "text": [
      "atdome not in <State.ENABLED: 2>: <State.DISABLED: 1>\n",
      "Task exception was never retrieved\n",
      "future: <Task finished coro=<ATTCS.check_component_state() done, defined at /home/saluser/repos/ts_standardscripts/python/lsst/ts/standardscripts/auxtel/attcs.py:746> exception=RuntimeError('atdome state is <State.DISABLED: 1>, expected <State.ENABLED: 2>')>\n",
      "Traceback (most recent call last):\n",
      "  File \"/home/saluser/repos/ts_standardscripts/python/lsst/ts/standardscripts/auxtel/attcs.py\", line 775, in check_component_state\n",
      "    raise RuntimeError(f\"{component} state is {state!r}, \"\n",
      "RuntimeError: atdome state is <State.DISABLED: 1>, expected <State.ENABLED: 2>\n"
     ]
    },
    {
     "data": {
      "text/plain": [
       "[[<State.STANDBY: 5>],\n",
       " [<State.FAULT: 3>, <State.STANDBY: 5>],\n",
       " [<State.ENABLED: 2>, <State.DISABLED: 1>, <State.STANDBY: 5>],\n",
       " [<State.ENABLED: 2>, <State.DISABLED: 1>, <State.STANDBY: 5>],\n",
       " [<State.ENABLED: 2>, <State.DISABLED: 1>, <State.STANDBY: 5>],\n",
       " [<State.ENABLED: 2>, <State.DISABLED: 1>, <State.STANDBY: 5>],\n",
       " [<State.DISABLED: 1>, <State.STANDBY: 5>]]"
      ]
     },
     "execution_count": 25,
     "metadata": {},
     "output_type": "execute_result"
    }
   ],
   "source": [
    "await asyncio.sleep(5)\n",
    "await asyncio.gather(salobj.set_summary_state(attcs.atmcs, salobj.State.STANDBY, timeout=120),\n",
    "                     salobj.set_summary_state(attcs.atptg, salobj.State.STANDBY, timeout=30),\n",
    "                     salobj.set_summary_state(attcs.ataos, salobj.State.STANDBY, timeout=30),\n",
    "                     salobj.set_summary_state(attcs.atpneumatics, salobj.State.STANDBY, timeout=30),\n",
    "                     salobj.set_summary_state(attcs.athexapod, salobj.State.STANDBY, timeout=30),\n",
    "                     salobj.set_summary_state(attcs.atdome, salobj.State.STANDBY, timeout=30),\n",
    "                     salobj.set_summary_state(attcs.atdometrajectory, salobj.State.STANDBY, timeout=30),\n",
    "                    return_exceptions=True)"
   ]
  },
  {
   "cell_type": "code",
   "execution_count": 26,
   "metadata": {},
   "outputs": [
    {
     "data": {
      "text/plain": [
       "[<State.STANDBY: 5>, <State.OFFLINE: 4>]"
      ]
     },
     "execution_count": 26,
     "metadata": {},
     "output_type": "execute_result"
    }
   ],
   "source": [
    "await salobj.set_summary_state(attcs.ataos, salobj.State.OFFLINE, timeout=30)"
   ]
  },
  {
   "cell_type": "code",
   "execution_count": null,
   "metadata": {},
   "outputs": [],
   "source": [
    "await salobj.set_summary_state(attcs.atptg, salobj.State.ENABLED, timeout=30)"
   ]
  },
  {
   "cell_type": "code",
   "execution_count": null,
   "metadata": {},
   "outputs": [],
   "source": [
    "await attcs.slew_icrs(ra=\"03 58 01.7669489\", dec=\"-13 30 30.669770\", target_name=\"gam-Eri\")"
   ]
  },
  {
   "cell_type": "code",
   "execution_count": null,
   "metadata": {},
   "outputs": [],
   "source": [
    "HD 20894"
   ]
  },
  {
   "cell_type": "code",
   "execution_count": null,
   "metadata": {},
   "outputs": [],
   "source": [
    "attcs.check.atdome = False\n",
    "await attcs.slew_icrs(ra=\"03 21 24.0043600176\", dec=\"-23 38 06.552850356\", rot_pa=120., target_name=\"HD20894\")"
   ]
  },
  {
   "cell_type": "code",
   "execution_count": null,
   "metadata": {},
   "outputs": [],
   "source": [
    "attcs.slew_icrs?"
   ]
  },
  {
   "cell_type": "code",
   "execution_count": 13,
   "metadata": {},
   "outputs": [
    {
     "data": {
      "text/plain": [
       "<lsst.ts.salobj.ddsutil.ATAOS_ackcmd_33d5c92b at 0x7f88f478a3c8>"
      ]
     },
     "execution_count": 13,
     "metadata": {},
     "output_type": "execute_result"
    },
    {
     "name": "stdout",
     "output_type": "stream",
     "text": [
      "RemoteEvent(ATAOS, 0, logMessage) falling behind; read 10 messages\n"
     ]
    }
   ],
   "source": [
    "await attcs.ataos.cmd_applyAxisOffset.set_start(axis=\"m1\", offset=0.e3)"
   ]
  },
  {
   "cell_type": "code",
   "execution_count": null,
   "metadata": {},
   "outputs": [],
   "source": [
    "await attcs.atptg.cmd_stopTracking.start()"
   ]
  },
  {
   "cell_type": "code",
   "execution_count": 19,
   "metadata": {},
   "outputs": [
    {
     "data": {
      "text/plain": [
       "[<State.ENABLED: 2>, <State.DISABLED: 1>, <State.STANDBY: 5>]"
      ]
     },
     "execution_count": 19,
     "metadata": {},
     "output_type": "execute_result"
    }
   ],
   "source": [
    "await salobj.set_summary_state(attcs.ataos, salobj.State.STANDBY, timeout=30)"
   ]
  },
  {
   "cell_type": "code",
   "execution_count": 20,
   "metadata": {},
   "outputs": [
    {
     "data": {
      "text/plain": [
       "[<State.STANDBY: 5>, <State.DISABLED: 1>, <State.ENABLED: 2>]"
      ]
     },
     "execution_count": 20,
     "metadata": {},
     "output_type": "execute_result"
    }
   ],
   "source": [
    "await salobj.set_summary_state(attcs.ataos, salobj.State.ENABLED, timeout=30, settingsToApply=\"tolerance\")"
   ]
  },
  {
   "cell_type": "code",
   "execution_count": 1,
   "metadata": {},
   "outputs": [
    {
     "ename": "NameError",
     "evalue": "name 'attcs' is not defined",
     "output_type": "error",
     "traceback": [
      "\u001b[0;31m\u001b[0m",
      "\u001b[0;31mNameError\u001b[0mTraceback (most recent call last)",
      "\u001b[0;32m<ipython-input-1-3cb80149f940>\u001b[0m in \u001b[0;36masync-def-wrapper\u001b[0;34m()\u001b[0m\n",
      "\u001b[0;31mNameError\u001b[0m: name 'attcs' is not defined"
     ]
    }
   ],
   "source": [
    "await attcs.ataos.cmd_enableCorrection.set_start(m1=True, hexapod=True)"
   ]
  },
  {
   "cell_type": "code",
   "execution_count": 22,
   "metadata": {},
   "outputs": [
    {
     "data": {
      "text/plain": [
       "<lsst.ts.salobj.ddsutil.ATAOS_ackcmd_33d5c92b at 0x7f88f1f51ef0>"
      ]
     },
     "execution_count": 22,
     "metadata": {},
     "output_type": "execute_result"
    }
   ],
   "source": [
    "await attcs.ataos.cmd_applyAxisOffset.set_start(axis=\"x\", offset=0.)"
   ]
  },
  {
   "cell_type": "code",
   "execution_count": 14,
   "metadata": {},
   "outputs": [
    {
     "data": {
      "text/plain": [
       "<lsst.ts.salobj.ddsutil.ATAOS_ackcmd_33d5c92b at 0x7f88f465dba8>"
      ]
     },
     "execution_count": 14,
     "metadata": {},
     "output_type": "execute_result"
    }
   ],
   "source": [
    "await attcs.ataos.cmd_disableCorrection.set_start(hexapod=True)"
   ]
  },
  {
   "cell_type": "code",
   "execution_count": null,
   "metadata": {},
   "outputs": [],
   "source": [
    "await attcs.ataos.cmd_setLogLevel.set_start(level=10)"
   ]
  },
  {
   "cell_type": "code",
   "execution_count": null,
   "metadata": {},
   "outputs": [],
   "source": [
    "await salobj.set_summary_state(attcs.atdometrajectory, salobj.State.STANDBY, timeout=30)"
   ]
  },
  {
   "cell_type": "code",
   "execution_count": null,
   "metadata": {},
   "outputs": [],
   "source": [
    "await attcs.atptg.cmd_azElTarget.set_start(azDegs=0., elDegs=75.)"
   ]
  },
  {
   "cell_type": "code",
   "execution_count": null,
   "metadata": {},
   "outputs": [],
   "source": [
    "await attcs.atdome.cmd_moveAzimuth.set_start(azimuth=attcs.dome_park_az)"
   ]
  },
  {
   "cell_type": "code",
   "execution_count": null,
   "metadata": {},
   "outputs": [],
   "source": [
    "await attcs.atptg.cmd_stopTracking.start()"
   ]
  },
  {
   "cell_type": "code",
   "execution_count": null,
   "metadata": {},
   "outputs": [],
   "source": [
    "await attcs.shutdown()"
   ]
  },
  {
   "cell_type": "code",
   "execution_count": 15,
   "metadata": {},
   "outputs": [
    {
     "data": {
      "text/plain": [
       "<lsst.ts.salobj.ddsutil.ATHexapod_ackcmd_32454a1f at 0x7f88f94f9860>"
      ]
     },
     "execution_count": 15,
     "metadata": {},
     "output_type": "execute_result"
    }
   ],
   "source": [
    "await attcs.athexapod.cmd_moveToPosition.set_start(x= -4.35000084947, \n",
    "                                                   y=0.599996411107,\n",
    "                                                   z= 0.479983318138,\n",
    "                                                   u= 0.349998832965, \n",
    "                                                   v= 0.219999329048)\n"
   ]
  },
  {
   "cell_type": "code",
   "execution_count": 24,
   "metadata": {},
   "outputs": [
    {
     "data": {
      "text/plain": [
       "120.0"
      ]
     },
     "execution_count": 24,
     "metadata": {},
     "output_type": "execute_result"
    },
    {
     "name": "stdout",
     "output_type": "stream",
     "text": [
      "RemoteTelemetry(ATPtg, 0, guidingAndOffsets) falling behind; read 23 messages\n",
      "RemoteTelemetry(ATPtg, 0, timeAndDate) falling behind; read 23 messages\n",
      "RemoteTelemetry(ATPtg, 0, mountStatus) falling behind; read 21 messages\n",
      "RemoteTelemetry(ATPtg, 0, currentTargetStatus) falling behind; read 23 messages\n",
      "RemoteTelemetry(ATDome, 0, position) falling behind; read 15 messages\n",
      "RemoteEvent(ATMCS, 0, heartbeat) falling behind; read 10 messages\n",
      "RemoteEvent(ATAOS, 0, logMessage) falling behind; read 10 messages\n",
      "RemoteEvent(ATMCS, 0, target) falling behind; read 10 messages\n",
      "RemoteEvent(ATDomeTrajectory, 0, logMessage) falling behind; read 22 messages\n",
      "RemoteEvent(ATDomeTrajectory, 0, logMessage) falling behind; read 16 messages\n",
      "RemoteTelemetry(ATMCS, 0, trajectory) falling behind; read 13 messages\n",
      "RemoteTelemetry(ATMCS, 0, torqueDemand) falling behind; read 12 messages\n",
      "RemoteTelemetry(ATMCS, 0, nasymth_m3_mountMotorEncoders) falling behind; read 11 messages\n",
      "RemoteTelemetry(ATMCS, 0, mount_Nasmyth_Encoders) falling behind; read 10 messages\n",
      "RemoteTelemetry(ATMCS, 0, measuredMotorVelocity) falling behind; read 13 messages\n",
      "RemoteTelemetry(ATMCS, 0, azEl_mountMotorEncoders) falling behind; read 13 messages\n",
      "RemoteEvent(ATDomeTrajectory, 0, logMessage) falling behind; read 11 messages\n",
      "RemoteEvent(ATMCS, 0, target) falling behind; read 100 messages\n",
      "RemoteEvent(ATAOS, 0, logMessage) falling behind; read 10 messages\n",
      "RemoteEvent(ATAOS, 0, logMessage) falling behind; read 10 messages\n",
      "RemoteEvent(ATMCS, 0, target) falling behind; read 63 messages\n",
      "RemoteEvent(ATDomeTrajectory, 0, logMessage) falling behind; read 17 messages\n",
      "RemoteEvent(ATMCS, 0, target) falling behind; read 29 messages\n",
      "RemoteEvent(ATDomeTrajectory, 0, logMessage) falling behind; read 11 messages\n",
      "RemoteEvent(ATMCS, 0, target) falling behind; read 18 messages\n",
      "RemoteEvent(ATAOS, 0, logMessage) falling behind; read 10 messages\n",
      "RemoteEvent(ATAOS, 0, logMessage) falling behind; read 10 messages\n",
      "RemoteEvent(ATAOS, 0, logMessage) falling behind; read 10 messages\n",
      "RemoteEvent(ATAOS, 0, logMessage) falling behind; read 11 messages\n",
      "RemoteEvent(ATAOS, 0, logMessage) falling behind; read 11 messages\n",
      "RemoteEvent(ATMCS, 0, target) falling behind; read 10 messages\n",
      "RemoteEvent(ATDomeTrajectory, 0, logMessage) falling behind; read 13 messages\n",
      "RemoteEvent(ATMCS, 0, target) falling behind; read 20 messages\n",
      "RemoteEvent(ATDomeTrajectory, 0, logMessage) falling behind; read 13 messages\n",
      "RemoteEvent(ATMCS, 0, target) falling behind; read 29 messages\n",
      "RemoteEvent(ATDomeTrajectory, 0, logMessage) falling behind; read 14 messages\n",
      "RemoteEvent(ATDomeTrajectory, 0, logMessage) falling behind; read 14 messages\n",
      "RemoteEvent(ATMCS, 0, target) falling behind; read 88 messages\n"
     ]
    }
   ],
   "source": [
    "8*360/24"
   ]
  },
  {
   "cell_type": "code",
   "execution_count": null,
   "metadata": {},
   "outputs": [],
   "source": []
  }
 ],
 "metadata": {
  "kernelspec": {
   "display_name": "Python 3",
   "language": "python",
   "name": "python3"
  },
  "language_info": {
   "codemirror_mode": {
    "name": "ipython",
    "version": 3
   },
   "file_extension": ".py",
   "mimetype": "text/x-python",
   "name": "python",
   "nbconvert_exporter": "python",
   "pygments_lexer": "ipython3",
   "version": "3.7.2"
  }
 },
 "nbformat": 4,
 "nbformat_minor": 4
}
