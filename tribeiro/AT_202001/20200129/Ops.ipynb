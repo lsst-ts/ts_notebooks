{
 "cells": [
  {
   "cell_type": "code",
   "execution_count": 1,
   "metadata": {},
   "outputs": [],
   "source": [
    "import os\n",
    "import sys\n",
    "import copy\n",
    "import wget\n",
    "import time\n",
    "import asyncio\n",
    "import warnings\n",
    "import logging\n",
    "from astropy import time as astropytime\n",
    "\n",
    "import astropy.units as u\n",
    "from astropy.coordinates import AltAz, ICRS, EarthLocation, Angle\n",
    "\n",
    "import numpy as np\n",
    "\n",
    "from lsst.ts import salobj\n",
    "from lsst.ts.standardscripts.auxtel.attcs import ATTCS\n",
    "from lsst.ts.standardscripts.auxtel.latiss import LATISS\n",
    "\n",
    "%matplotlib inline"
   ]
  },
  {
   "cell_type": "code",
   "execution_count": 2,
   "metadata": {},
   "outputs": [],
   "source": [
    "stream_handler = logging.StreamHandler(sys.stdout)\n",
    "\n",
    "logger = logging.getLogger()\n",
    "logger.addHandler(stream_handler)\n",
    "logger.level = logging.DEBUG"
   ]
  },
  {
   "cell_type": "code",
   "execution_count": 3,
   "metadata": {},
   "outputs": [
    {
     "name": "stdout",
     "output_type": "stream",
     "text": [
      "Read historical data in 4.41 sec\n",
      "Read historical data in 4.88 sec\n",
      "Read historical data in 5.62 sec\n",
      "Read historical data in 6.46 sec\n",
      "Read historical data in 7.32 sec\n",
      "Read historical data in 8.21 sec\n",
      "Read historical data in 9.22 sec\n"
     ]
    },
    {
     "data": {
      "text/plain": [
       "[None, None, None, None, None, None, None]"
      ]
     },
     "execution_count": 3,
     "metadata": {},
     "output_type": "execute_result"
    },
    {
     "name": "stdout",
     "output_type": "stream",
     "text": [
      "RemoteTelemetry(ATPtg, 0, timeAndDate) falling behind; read 12 messages\n"
     ]
    }
   ],
   "source": [
    "attcs = ATTCS()\n",
    "\n",
    "await attcs.start_task "
   ]
  },
  {
   "cell_type": "code",
   "execution_count": null,
   "metadata": {},
   "outputs": [],
   "source": []
  },
  {
   "cell_type": "code",
   "execution_count": 11,
   "metadata": {},
   "outputs": [
    {
     "name": "stdout",
     "output_type": "stream",
     "text": [
      "Gathering settings.\n",
      "Received settings from users.: {'ataos': 'current', 'atmcs': '', 'atptg': '', 'atpneumatics': '', 'athexapod': 'auxtel_201912_crazy.yaml', 'atdome': 'test.yaml', 'atdometrajectory': ''}\n",
      "Settings versions: {'ataos': 'current', 'atmcs': '', 'atptg': '', 'atpneumatics': '', 'athexapod': 'auxtel_201912_crazy.yaml', 'atdome': 'test.yaml', 'atdometrajectory': ''}\n",
      "Enabling all components\n",
      "Enabling  atmcs\n",
      "Enabling  atptg\n",
      "Enabling  ataos\n",
      "Enabling  atpneumatics\n",
      "Enabling  athexapod\n",
      "Enabling  atdome\n",
      "Enabling  atdometrajectory\n",
      "[atmcs]::[<State.STANDBY: 5>, <State.DISABLED: 1>, <State.ENABLED: 2>]\n",
      "[atptg]::[<State.STANDBY: 5>, <State.DISABLED: 1>, <State.ENABLED: 2>]\n",
      "[ataos]::[<State.STANDBY: 5>, <State.DISABLED: 1>, <State.ENABLED: 2>]\n",
      "[atpneumatics]::[<State.STANDBY: 5>, <State.DISABLED: 1>, <State.ENABLED: 2>]\n",
      "[athexapod]::[<State.STANDBY: 5>, <State.DISABLED: 1>, <State.ENABLED: 2>]\n",
      "[atdome]::[<State.STANDBY: 5>, <State.DISABLED: 1>, <State.ENABLED: 2>]\n",
      "[atdometrajectory]::[<State.DISABLED: 1>, <State.ENABLED: 2>]\n",
      "All components enabled.\n"
     ]
    }
   ],
   "source": [
    "await attcs.enable(settings={\n",
    "    'ataos': \"current\",\n",
    "    'atmcs': \"\",\n",
    "    'atptg': \"\",\n",
    "    'atpneumatics': \"\",\n",
    "    'athexapod': \"auxtel_201912_crazy.yaml\",\n",
    "    'atdome': \"test.yaml\",\n",
    "    'atdometrajectory': \"\"})"
   ]
  },
  {
   "cell_type": "code",
   "execution_count": 12,
   "metadata": {},
   "outputs": [
    {
     "name": "stdout",
     "output_type": "stream",
     "text": [
      "Cover state <MirrorCoverState.CLOSED: 6>\n",
      "Opening M1 cover.\n",
      "Cover state <MirrorCoverState.STANDBY: 5>\n",
      "Cover state <MirrorCoverState.DISABLED: 1>\n",
      "Cover state <MirrorCoverState.CLOSED: 6>\n",
      "Cover state <MirrorCoverState.INMOTION: 8>\n",
      "Cover state <MirrorCoverState.OPENED: 7>\n",
      "Flushing events\n",
      "Sending command\n",
      "Scheduling check coroutines\n",
      "process as completed...\n",
      "[Telescope] delta Alt = -040.977 | delta Az= -154.319\n",
      "[Telescope] delta Alt = -038.530 | delta Az= -156.777\n",
      "[Telescope] delta Alt = -034.532 | delta Az= -160.774\n",
      "[Telescope] delta Alt = -030.531 | delta Az= -164.773\n",
      "[Telescope] delta Alt = -026.538 | delta Az= -168.773\n",
      "[Telescope] delta Alt = -022.584 | delta Az= -172.774\n",
      "[Telescope] delta Alt = -018.734 | delta Az= -176.774\n",
      "[Telescope] delta Alt = -015.056 | delta Az= +179.227\n",
      "[Telescope] delta Alt = -011.638 | delta Az= +175.227\n",
      "[Telescope] delta Alt = -008.568 | delta Az= +171.226\n",
      "[Telescope] delta Alt = -005.920 | delta Az= +167.227\n",
      "[Telescope] delta Alt = -004.775 | delta Az= +165.227\n",
      "[Telescope] delta Alt = -002.864 | delta Az= +161.226\n",
      "[Telescope] delta Alt = -002.106 | delta Az= +159.227\n",
      "[Telescope] delta Alt = -000.978 | delta Az= +155.227\n",
      "[Telescope] delta Alt = -000.596 | delta Az= +153.228\n",
      "[Telescope] delta Alt = -000.143 | delta Az= +149.226\n",
      "[Telescope] delta Alt = -000.007 | delta Az= +145.227\n",
      "[Telescope] delta Alt = +000.000 | delta Az= +141.228\n",
      "[Telescope] delta Alt = +000.000 | delta Az= +139.227\n",
      "[Telescope] delta Alt = +000.000 | delta Az= +135.228\n",
      "[Telescope] delta Alt = -000.000 | delta Az= +131.226\n",
      "[Telescope] delta Alt = -000.000 | delta Az= +127.226\n",
      "[Telescope] delta Alt = -000.000 | delta Az= +123.227\n",
      "[Telescope] delta Alt = -000.000 | delta Az= +121.227\n",
      "[Telescope] delta Alt = -000.000 | delta Az= +117.226\n",
      "[Telescope] delta Alt = -000.000 | delta Az= +113.227\n",
      "[Telescope] delta Alt = -000.000 | delta Az= +109.226\n",
      "[Telescope] delta Alt = -000.000 | delta Az= +105.226\n",
      "[Telescope] delta Alt = -000.000 | delta Az= +101.227\n",
      "[Telescope] delta Alt = -000.000 | delta Az= +097.227\n",
      "[Telescope] delta Alt = -000.000 | delta Az= +095.227\n",
      "[Telescope] delta Alt = -000.000 | delta Az= +091.227\n",
      "[Telescope] delta Alt = +000.000 | delta Az= +087.227\n",
      "[Telescope] delta Alt = +000.000 | delta Az= +083.227\n",
      "[Telescope] delta Alt = +000.000 | delta Az= +081.227\n",
      "[Telescope] delta Alt = +000.000 | delta Az= +077.226\n",
      "[Telescope] delta Alt = -000.000 | delta Az= +073.226\n",
      "[Telescope] delta Alt = +000.000 | delta Az= +069.227\n",
      "[Telescope] delta Alt = -000.000 | delta Az= +065.227\n",
      "[Telescope] delta Alt = -000.000 | delta Az= +061.226\n",
      "[Telescope] delta Alt = +000.000 | delta Az= +057.227\n",
      "[Telescope] delta Alt = -000.000 | delta Az= +053.226\n",
      "[Telescope] delta Alt = +000.000 | delta Az= +049.227\n",
      "[Telescope] delta Alt = -000.000 | delta Az= +045.228\n",
      "[Telescope] delta Alt = -000.000 | delta Az= +041.227\n",
      "[Telescope] delta Alt = +000.000 | delta Az= +037.226\n",
      "[Telescope] delta Alt = +000.000 | delta Az= +033.227\n",
      "[Telescope] delta Alt = +000.000 | delta Az= +031.227\n",
      "[Telescope] delta Alt = +000.000 | delta Az= +027.231\n",
      "[Telescope] delta Alt = +000.000 | delta Az= +023.269\n",
      "[Telescope] delta Alt = +000.000 | delta Az= +019.392\n",
      "[Telescope] delta Alt = +000.000 | delta Az= +015.678\n",
      "[Telescope] delta Alt = +000.000 | delta Az= +012.210\n",
      "[Telescope] delta Alt = +000.000 | delta Az= +009.074\n",
      "[Telescope] delta Alt = +000.000 | delta Az= +006.347\n",
      "[Telescope] delta Alt = +000.000 | delta Az= +004.093\n",
      "[Telescope] delta Alt = +000.000 | delta Az= +002.356\n",
      "[Telescope] delta Alt = +000.000 | delta Az= +001.135\n",
      "[Telescope] delta Alt = +000.000 | delta Az= +000.403\n",
      "[Telescope] delta Alt = +000.000 | delta Az= +000.071\n",
      "[Telescope] delta Alt = +000.000 | delta Az= +000.001\n",
      "Axes in position.\n",
      "None\n",
      "Timed out trying to get azimuth in position from the dome just after command was sent. Continuing...\n",
      "[Dome] delta Az = +095.070\n",
      "[Dome] delta Az = +093.800\n",
      "[Dome] delta Az = +092.300\n",
      "[Dome] delta Az = +090.550\n",
      "[Dome] delta Az = +088.580\n",
      "[Dome] delta Az = +086.380\n",
      "[Dome] delta Az = +083.950\n",
      "[Dome] delta Az = +081.290\n",
      "[Dome] delta Az = +078.410\n",
      "[Dome] delta Az = +075.300\n",
      "[Dome] delta Az = +071.970\n",
      "[Dome] delta Az = +068.520\n",
      "[Dome] delta Az = +065.090\n",
      "[Dome] delta Az = +061.650\n",
      "[Dome] delta Az = +058.200\n",
      "[Dome] delta Az = +054.760\n",
      "[Dome] delta Az = +051.320\n",
      "[Dome] delta Az = +047.870\n",
      "[Dome] delta Az = +044.430\n",
      "[Dome] delta Az = +040.990\n",
      "[Dome] delta Az = +037.560\n",
      "[Dome] delta Az = +034.120\n",
      "[Dome] delta Az = +030.670\n",
      "[Dome] delta Az = +027.190\n",
      "[Dome] delta Az = +023.750\n",
      "[Dome] delta Az = +020.310\n",
      "[Dome] delta Az = +016.860\n",
      "[Dome] delta Az = +013.410\n",
      "[Dome] delta Az = +009.960\n",
      "[Dome] delta Az = +006.540\n",
      "[Dome] delta Az = +003.140\n",
      "Axes in position.\n",
      "Stop tracking.\n",
      "Mount tracking state is 5\n",
      "Tracking state: 6.\n",
      "Tracking state: 10.\n",
      "Tracking state: 9.\n"
     ]
    },
    {
     "ename": "TimeoutError",
     "evalue": "",
     "output_type": "error",
     "traceback": [
      "\u001b[0;31m\u001b[0m",
      "\u001b[0;31mTimeoutError\u001b[0mTraceback (most recent call last)",
      "\u001b[0;32m<ipython-input-12-1d9c15881937>\u001b[0m in \u001b[0;36masync-def-wrapper\u001b[0;34m()\u001b[0m\n",
      "\u001b[0;32m~/repos/ts_standardscripts/python/lsst/ts/standardscripts/auxtel/attcs.py\u001b[0m in \u001b[0;36mprepare_for_flatfield\u001b[0;34m(self)\u001b[0m\n\u001b[1;32m    390\u001b[0m         \u001b[0;32mawait\u001b[0m \u001b[0mself\u001b[0m\u001b[0;34m.\u001b[0m\u001b[0mslew_dome_to\u001b[0m\u001b[0;34m(\u001b[0m\u001b[0mself\u001b[0m\u001b[0;34m.\u001b[0m\u001b[0mdome_flat_az\u001b[0m\u001b[0;34m)\u001b[0m\u001b[0;34m\u001b[0m\u001b[0;34m\u001b[0m\u001b[0m\n\u001b[1;32m    391\u001b[0m \u001b[0;34m\u001b[0m\u001b[0m\n\u001b[0;32m--> 392\u001b[0;31m         \u001b[0;32mawait\u001b[0m \u001b[0mself\u001b[0m\u001b[0;34m.\u001b[0m\u001b[0mstop_tracking\u001b[0m\u001b[0;34m(\u001b[0m\u001b[0;34m)\u001b[0m\u001b[0;34m\u001b[0m\u001b[0;34m\u001b[0m\u001b[0m\n\u001b[0m\u001b[1;32m    393\u001b[0m \u001b[0;34m\u001b[0m\u001b[0m\n\u001b[1;32m    394\u001b[0m         await salobj.set_summary_state(self.atdometrajectory,\n",
      "\u001b[0;32m~/repos/ts_standardscripts/python/lsst/ts/standardscripts/auxtel/attcs.py\u001b[0m in \u001b[0;36mstop_tracking\u001b[0;34m(self)\u001b[0m\n\u001b[1;32m    410\u001b[0m         \u001b[0;32mwhile\u001b[0m \u001b[0mat_mount_state\u001b[0m\u001b[0;34m.\u001b[0m\u001b[0mstate\u001b[0m \u001b[0;34m!=\u001b[0m \u001b[0;36m8\u001b[0m\u001b[0;34m:\u001b[0m\u001b[0;34m\u001b[0m\u001b[0;34m\u001b[0m\u001b[0m\n\u001b[1;32m    411\u001b[0m             at_mount_state = await self.atmcs.evt_atMountState.next(flush=False,\n\u001b[0;32m--> 412\u001b[0;31m                                                                     timeout=self.long_timeout)\n\u001b[0m\u001b[1;32m    413\u001b[0m             \u001b[0mself\u001b[0m\u001b[0;34m.\u001b[0m\u001b[0mlog\u001b[0m\u001b[0;34m.\u001b[0m\u001b[0mdebug\u001b[0m\u001b[0;34m(\u001b[0m\u001b[0;34mf\"Tracking state: {at_mount_state.state}.\"\u001b[0m\u001b[0;34m)\u001b[0m\u001b[0;34m\u001b[0m\u001b[0;34m\u001b[0m\u001b[0m\n\u001b[1;32m    414\u001b[0m \u001b[0;34m\u001b[0m\u001b[0m\n",
      "\u001b[0;32m~/repos/ts_salobj/python/lsst/ts/salobj/topics/read_topic.py\u001b[0m in \u001b[0;36mnext\u001b[0;34m(self, flush, timeout)\u001b[0m\n\u001b[1;32m    389\u001b[0m         \u001b[0;32mif\u001b[0m \u001b[0mflush\u001b[0m\u001b[0;34m:\u001b[0m\u001b[0;34m\u001b[0m\u001b[0;34m\u001b[0m\u001b[0m\n\u001b[1;32m    390\u001b[0m             \u001b[0mself\u001b[0m\u001b[0;34m.\u001b[0m\u001b[0mflush\u001b[0m\u001b[0;34m(\u001b[0m\u001b[0;34m)\u001b[0m\u001b[0;34m\u001b[0m\u001b[0;34m\u001b[0m\u001b[0m\n\u001b[0;32m--> 391\u001b[0;31m         \u001b[0;32mreturn\u001b[0m \u001b[0;32mawait\u001b[0m \u001b[0mself\u001b[0m\u001b[0;34m.\u001b[0m\u001b[0m_next\u001b[0m\u001b[0;34m(\u001b[0m\u001b[0mtimeout\u001b[0m\u001b[0;34m=\u001b[0m\u001b[0mtimeout\u001b[0m\u001b[0;34m)\u001b[0m\u001b[0;34m\u001b[0m\u001b[0;34m\u001b[0m\u001b[0m\n\u001b[0m\u001b[1;32m    392\u001b[0m \u001b[0;34m\u001b[0m\u001b[0m\n\u001b[1;32m    393\u001b[0m     \u001b[0;32masync\u001b[0m \u001b[0;32mdef\u001b[0m \u001b[0m_next\u001b[0m\u001b[0;34m(\u001b[0m\u001b[0mself\u001b[0m\u001b[0;34m,\u001b[0m \u001b[0;34m*\u001b[0m\u001b[0;34m,\u001b[0m \u001b[0mtimeout\u001b[0m\u001b[0;34m=\u001b[0m\u001b[0;32mNone\u001b[0m\u001b[0;34m)\u001b[0m\u001b[0;34m:\u001b[0m\u001b[0;34m\u001b[0m\u001b[0;34m\u001b[0m\u001b[0m\n",
      "\u001b[0;32m~/repos/ts_salobj/python/lsst/ts/salobj/topics/read_topic.py\u001b[0m in \u001b[0;36m_next\u001b[0;34m(self, timeout)\u001b[0m\n\u001b[1;32m    402\u001b[0m         \u001b[0;32mif\u001b[0m \u001b[0mself\u001b[0m\u001b[0;34m.\u001b[0m\u001b[0m_next_task\u001b[0m\u001b[0;34m.\u001b[0m\u001b[0mdone\u001b[0m\u001b[0;34m(\u001b[0m\u001b[0;34m)\u001b[0m\u001b[0;34m:\u001b[0m\u001b[0;34m\u001b[0m\u001b[0;34m\u001b[0m\u001b[0m\n\u001b[1;32m    403\u001b[0m             \u001b[0mself\u001b[0m\u001b[0;34m.\u001b[0m\u001b[0m_next_task\u001b[0m \u001b[0;34m=\u001b[0m \u001b[0masyncio\u001b[0m\u001b[0;34m.\u001b[0m\u001b[0mFuture\u001b[0m\u001b[0;34m(\u001b[0m\u001b[0;34m)\u001b[0m\u001b[0;34m\u001b[0m\u001b[0;34m\u001b[0m\u001b[0m\n\u001b[0;32m--> 404\u001b[0;31m         \u001b[0;32mawait\u001b[0m \u001b[0masyncio\u001b[0m\u001b[0;34m.\u001b[0m\u001b[0mwait_for\u001b[0m\u001b[0;34m(\u001b[0m\u001b[0mself\u001b[0m\u001b[0;34m.\u001b[0m\u001b[0m_next_task\u001b[0m\u001b[0;34m,\u001b[0m \u001b[0mtimeout\u001b[0m\u001b[0;34m=\u001b[0m\u001b[0mtimeout\u001b[0m\u001b[0;34m)\u001b[0m\u001b[0;34m\u001b[0m\u001b[0;34m\u001b[0m\u001b[0m\n\u001b[0m\u001b[1;32m    405\u001b[0m         \u001b[0;32mreturn\u001b[0m \u001b[0mself\u001b[0m\u001b[0;34m.\u001b[0m\u001b[0m_data_queue\u001b[0m\u001b[0;34m.\u001b[0m\u001b[0mpopleft\u001b[0m\u001b[0;34m(\u001b[0m\u001b[0;34m)\u001b[0m\u001b[0;34m\u001b[0m\u001b[0;34m\u001b[0m\u001b[0m\n\u001b[1;32m    406\u001b[0m \u001b[0;34m\u001b[0m\u001b[0m\n",
      "\u001b[0;32m/opt/lsst/software/stack/python/miniconda3-4.7.10/envs/lsst-scipipe-4d7b902/lib/python3.7/asyncio/tasks.py\u001b[0m in \u001b[0;36mwait_for\u001b[0;34m(fut, timeout, loop)\u001b[0m\n\u001b[1;32m    421\u001b[0m             \u001b[0;31m# See https://bugs.python.org/issue32751\u001b[0m\u001b[0;34m\u001b[0m\u001b[0;34m\u001b[0m\u001b[0;34m\u001b[0m\u001b[0m\n\u001b[1;32m    422\u001b[0m             \u001b[0;32mawait\u001b[0m \u001b[0m_cancel_and_wait\u001b[0m\u001b[0;34m(\u001b[0m\u001b[0mfut\u001b[0m\u001b[0;34m,\u001b[0m \u001b[0mloop\u001b[0m\u001b[0;34m=\u001b[0m\u001b[0mloop\u001b[0m\u001b[0;34m)\u001b[0m\u001b[0;34m\u001b[0m\u001b[0;34m\u001b[0m\u001b[0m\n\u001b[0;32m--> 423\u001b[0;31m             \u001b[0;32mraise\u001b[0m \u001b[0mfutures\u001b[0m\u001b[0;34m.\u001b[0m\u001b[0mTimeoutError\u001b[0m\u001b[0;34m(\u001b[0m\u001b[0;34m)\u001b[0m\u001b[0;34m\u001b[0m\u001b[0;34m\u001b[0m\u001b[0m\n\u001b[0m\u001b[1;32m    424\u001b[0m     \u001b[0;32mfinally\u001b[0m\u001b[0;34m:\u001b[0m\u001b[0;34m\u001b[0m\u001b[0;34m\u001b[0m\u001b[0m\n\u001b[1;32m    425\u001b[0m         \u001b[0mtimeout_handle\u001b[0m\u001b[0;34m.\u001b[0m\u001b[0mcancel\u001b[0m\u001b[0;34m(\u001b[0m\u001b[0;34m)\u001b[0m\u001b[0;34m\u001b[0m\u001b[0;34m\u001b[0m\u001b[0m\n",
      "\u001b[0;31mTimeoutError\u001b[0m: "
     ]
    }
   ],
   "source": [
    "await attcs.prepare_for_flatfield()"
   ]
  },
  {
   "cell_type": "code",
   "execution_count": null,
   "metadata": {},
   "outputs": [],
   "source": [
    "await attcs.shutdown()"
   ]
  },
  {
   "cell_type": "code",
   "execution_count": null,
   "metadata": {},
   "outputs": [],
   "source": [
    "attcs.dome_slew_tolerance = Angle(5.*u.deg)"
   ]
  },
  {
   "cell_type": "code",
   "execution_count": null,
   "metadata": {},
   "outputs": [],
   "source": [
    "await attcs.slew_icrs(ra=\"03 00 00\", dec=\"-45 00 00\", rot_pa=0., target_name=\"Test\")"
   ]
  },
  {
   "cell_type": "code",
   "execution_count": null,
   "metadata": {},
   "outputs": [],
   "source": [
    "await attcs.point_azel(target_name=\"Park position\",\n",
    "                       az=attcs.tel_park_az,\n",
    "                       el=attcs.tel_park_el,\n",
    "                       wait_dome=False)\n"
   ]
  },
  {
   "cell_type": "code",
   "execution_count": null,
   "metadata": {},
   "outputs": [],
   "source": [
    "await attcs.startup(settings={\n",
    "    'ataos': \"current\",\n",
    "    'atmcs': \"\",\n",
    "    'atptg': \"\",\n",
    "    'atpneumatics': \"\",\n",
    "    'athexapod': \"auxtel_201912_crazy.yaml\",\n",
    "    'atdome': \"test.yaml\",\n",
    "    'atdometrajectory': \"\"})"
   ]
  },
  {
   "cell_type": "code",
   "execution_count": null,
   "metadata": {},
   "outputs": [],
   "source": []
  },
  {
   "cell_type": "code",
   "execution_count": null,
   "metadata": {},
   "outputs": [],
   "source": [
    "await attcs.ataos.cmd_enableCorrection.set_start(hexapod=True)"
   ]
  },
  {
   "cell_type": "code",
   "execution_count": 4,
   "metadata": {},
   "outputs": [],
   "source": [
    "latiss = LATISS(attcs.domain)"
   ]
  },
  {
   "cell_type": "code",
   "execution_count": 5,
   "metadata": {},
   "outputs": [
    {
     "name": "stdout",
     "output_type": "stream",
     "text": [
      "Read historical data in 0.06 sec\n",
      "Read historical data in 0.36 sec\n",
      "Read historical data in 0.62 sec\n",
      "Read historical data in 1.13 sec\n"
     ]
    },
    {
     "data": {
      "text/plain": [
       "[None, None, None, None]"
      ]
     },
     "execution_count": 5,
     "metadata": {},
     "output_type": "execute_result"
    }
   ],
   "source": [
    "await latiss.start_task"
   ]
  },
  {
   "cell_type": "code",
   "execution_count": null,
   "metadata": {},
   "outputs": [],
   "source": [
    "await salobj.set_summary_state(latiss.atheaderservice, salobj.State.ENABLED)"
   ]
  },
  {
   "cell_type": "code",
   "execution_count": null,
   "metadata": {},
   "outputs": [],
   "source": [
    "await latiss.take_image(exptime=2., shutter=True, image_type=\"OBJECT\", group_id=astropytime.Time.now().tai.isot)"
   ]
  },
  {
   "cell_type": "code",
   "execution_count": null,
   "metadata": {},
   "outputs": [],
   "source": [
    "await latiss.take_image"
   ]
  },
  {
   "cell_type": "code",
   "execution_count": null,
   "metadata": {},
   "outputs": [],
   "source": [
    "ack = await attcs.atdometrajectory.cmd_standby.start()"
   ]
  },
  {
   "cell_type": "raw",
   "metadata": {},
   "source": []
  },
  {
   "cell_type": "code",
   "execution_count": null,
   "metadata": {},
   "outputs": [],
   "source": [
    "print(ack.private_sndStamp)"
   ]
  },
  {
   "cell_type": "code",
   "execution_count": null,
   "metadata": {},
   "outputs": [],
   "source": [
    "print(ack)"
   ]
  },
  {
   "cell_type": "code",
   "execution_count": 13,
   "metadata": {},
   "outputs": [
    {
     "data": {
      "text/plain": [
       "[<State.FAULT: 3>, <State.STANDBY: 5>, <State.DISABLED: 1>, <State.ENABLED: 2>]"
      ]
     },
     "execution_count": 13,
     "metadata": {},
     "output_type": "execute_result"
    }
   ],
   "source": [
    "await salobj.set_summary_state(latiss.atarchiver, salobj.State.ENABLED, settingsToApply=\"normal\")"
   ]
  },
  {
   "cell_type": "code",
   "execution_count": null,
   "metadata": {},
   "outputs": [],
   "source": [
    "bias = await latiss.take_bias(nbias=1)"
   ]
  },
  {
   "cell_type": "code",
   "execution_count": null,
   "metadata": {},
   "outputs": [],
   "source": [
    "print(bias)"
   ]
  },
  {
   "cell_type": "code",
   "execution_count": null,
   "metadata": {},
   "outputs": [],
   "source": [
    "image_1 = await latiss.take_image(exptime=2., shutter=True, image_type=\"OBJECT\", group_id=astropytime.Time.now().tai.isot)"
   ]
  },
  {
   "cell_type": "code",
   "execution_count": null,
   "metadata": {},
   "outputs": [],
   "source": [
    "_, _, prefix, suffix = image_1.imageName.split(\"_\")"
   ]
  },
  {
   "cell_type": "code",
   "execution_count": null,
   "metadata": {},
   "outputs": [],
   "source": [
    "        prefix = tmp[2]  # dayobs without the dashes\n",
    "\n",
    "        # Don't remember why I used int here... whitespace?\n",
    "        # surely fixable but bigger fish.\n",
    "        suffix = '{:05d}'.format(int(tmp[3].split('-')[0]))  # SEQNUM, but need to trim extra 0 in obsid\n",
    "        intra_visitID = int((prefix + suffix))\n"
   ]
  },
  {
   "cell_type": "code",
   "execution_count": null,
   "metadata": {},
   "outputs": [],
   "source": [
    "prefix, suffix"
   ]
  },
  {
   "cell_type": "code",
   "execution_count": null,
   "metadata": {},
   "outputs": [],
   "source": [
    "# suffix = '{:05d}'.format(int(tmp[3].split('-')[0]))  # SEQNUM, but need to trim extra 0 in obsid\n",
    "intra_visitID = int((prefix + suffix[1:]))"
   ]
  },
  {
   "cell_type": "code",
   "execution_count": null,
   "metadata": {},
   "outputs": [],
   "source": [
    "intra_visitID"
   ]
  },
  {
   "cell_type": "code",
   "execution_count": null,
   "metadata": {},
   "outputs": [],
   "source": [
    "await latiss.take_bias(nbias=10)"
   ]
  },
  {
   "cell_type": "code",
   "execution_count": null,
   "metadata": {},
   "outputs": [],
   "source": []
  },
  {
   "cell_type": "code",
   "execution_count": null,
   "metadata": {},
   "outputs": [],
   "source": []
  },
  {
   "cell_type": "code",
   "execution_count": 14,
   "metadata": {},
   "outputs": [
    {
     "name": "stdout",
     "output_type": "stream",
     "text": [
      "Waiting for header service LFO before continuing\n",
      "Waiting for header service LFO before continuing\n",
      "Waiting for header service LFO before continuing\n",
      "RemoteEvent(ATHeaderService, 0, logMessage) falling behind; read 10 messages\n",
      "Waiting for header service LFO before continuing\n",
      "Waiting for header service LFO before continuing\n",
      "RemoteEvent(ATHeaderService, 0, logMessage) falling behind; read 13 messages\n",
      "Waiting for header service LFO before continuing\n",
      "Waiting for header service LFO before continuing\n",
      "RemoteEvent(ATHeaderService, 0, logMessage) falling behind; read 11 messages\n",
      "Waiting for header service LFO before continuing\n",
      "Waiting for header service LFO before continuing\n",
      "RemoteEvent(ATHeaderService, 0, logMessage) falling behind; read 12 messages\n",
      "Waiting for header service LFO before continuing\n"
     ]
    }
   ],
   "source": [
    "await latiss.take_bias(nbias=10)"
   ]
  },
  {
   "cell_type": "code",
   "execution_count": 15,
   "metadata": {},
   "outputs": [
    {
     "name": "stdout",
     "output_type": "stream",
     "text": [
      "Waiting for header service LFO before continuing\n",
      "RemoteEvent(ATHeaderService, 0, logMessage) falling behind; read 10 messages\n",
      "Waiting for header service LFO before continuing\n",
      "Waiting for header service LFO before continuing\n",
      "Waiting for header service LFO before continuing\n",
      "Waiting for header service LFO before continuing\n",
      "Waiting for header service LFO before continuing\n",
      "Waiting for header service LFO before continuing\n",
      "Waiting for header service LFO before continuing\n",
      "RemoteEvent(ATHeaderService, 0, logMessage) falling behind; read 23 messages\n",
      "Waiting for header service LFO before continuing\n",
      "Waiting for header service LFO before continuing\n",
      "RemoteEvent(ATHeaderService, 0, logMessage) falling behind; read 12 messages\n"
     ]
    }
   ],
   "source": [
    "await latiss.take_darks(exptime=100., ndarks=10)"
   ]
  },
  {
   "cell_type": "code",
   "execution_count": 16,
   "metadata": {},
   "outputs": [
    {
     "name": "stdout",
     "output_type": "stream",
     "text": [
      "Waiting for header service LFO before continuing\n",
      "RemoteEvent(ATHeaderService, 0, logMessage) falling behind; read 20 messages\n",
      "Waiting for header service LFO before continuing\n",
      "RemoteEvent(ATHeaderService, 0, logMessage) falling behind; read 10 messages\n",
      "Waiting for header service LFO before continuing\n",
      "Waiting for header service LFO before continuing\n",
      "Waiting for header service LFO before continuing\n",
      "Waiting for header service LFO before continuing\n",
      "RemoteEvent(ATHeaderService, 0, logMessage) falling behind; read 12 messages\n",
      "Waiting for header service LFO before continuing\n",
      "Waiting for header service LFO before continuing\n",
      "Waiting for header service LFO before continuing\n",
      "RemoteEvent(ATHeaderService, 0, logMessage) falling behind; read 12 messages\n",
      "Waiting for header service LFO before continuing\n"
     ]
    }
   ],
   "source": [
    "await latiss.take_bias(nbias=10)"
   ]
  },
  {
   "cell_type": "code",
   "execution_count": 18,
   "metadata": {},
   "outputs": [
    {
     "name": "stdout",
     "output_type": "stream",
     "text": [
      "Waiting for header service LFO before continuing\n",
      "RemoteEvent(ATHeaderService, 0, logMessage) falling behind; read 10 messages\n"
     ]
    }
   ],
   "source": [
    "await latiss.take_flats(exptime=5., nflats=1,filter=\"KPNO_406_828nm\",grating=\"empty_1\")"
   ]
  },
  {
   "cell_type": "code",
   "execution_count": null,
   "metadata": {},
   "outputs": [],
   "source": [
    "await latiss.take_flats"
   ]
  },
  {
   "cell_type": "code",
   "execution_count": 22,
   "metadata": {},
   "outputs": [
    {
     "data": {
      "text/plain": [
       "79"
      ]
     },
     "execution_count": 22,
     "metadata": {},
     "output_type": "execute_result"
    }
   ],
   "source": [
    "len(np.arange(0.1, 8., 0.1))"
   ]
  },
  {
   "cell_type": "code",
   "execution_count": 24,
   "metadata": {},
   "outputs": [
    {
     "name": "stdout",
     "output_type": "stream",
     "text": [
      "Take flats with 0.1s.\n",
      "Waiting for header service LFO before continuing\n",
      "Waiting for header service LFO before continuing\n",
      "Waiting for header service LFO before continuing\n",
      "RemoteEvent(ATHeaderService, 0, logMessage) falling behind; read 10 messages\n",
      "Waiting for header service LFO before continuing\n",
      "RemoteEvent(ATHeaderService, 0, logMessage) falling behind; read 12 messages\n",
      "Take flats with 0.2s.\n",
      "Waiting for header service LFO before continuing\n",
      "RemoteEvent(ATHeaderService, 0, logMessage) falling behind; read 16 messages\n",
      "Waiting for header service LFO before continuing\n",
      "Waiting for header service LFO before continuing\n",
      "RemoteEvent(ATHeaderService, 0, logMessage) falling behind; read 10 messages\n",
      "Waiting for header service LFO before continuing\n",
      "Take flats with 0.30000000000000004s.\n",
      "Waiting for header service LFO before continuing\n",
      "Waiting for header service LFO before continuing\n",
      "RemoteEvent(ATHeaderService, 0, logMessage) falling behind; read 13 messages\n",
      "Waiting for header service LFO before continuing\n",
      "Waiting for header service LFO before continuing\n",
      "Take flats with 0.4s.\n",
      "Waiting for header service LFO before continuing\n",
      "RemoteEvent(ATHeaderService, 0, logMessage) falling behind; read 12 messages\n",
      "Waiting for header service LFO before continuing\n",
      "Waiting for header service LFO before continuing\n",
      "Waiting for header service LFO before continuing\n",
      "RemoteEvent(ATHeaderService, 0, logMessage) falling behind; read 13 messages\n",
      "Take flats with 0.5s.\n",
      "Waiting for header service LFO before continuing\n",
      "Waiting for header service LFO before continuing\n",
      "Waiting for header service LFO before continuing\n",
      "Waiting for header service LFO before continuing\n",
      "Take flats with 0.6s.\n",
      "Waiting for header service LFO before continuing\n",
      "Waiting for header service LFO before continuing\n",
      "Waiting for header service LFO before continuing\n",
      "Waiting for header service LFO before continuing\n",
      "Take flats with 0.7000000000000001s.\n",
      "Waiting for header service LFO before continuing\n",
      "Waiting for header service LFO before continuing\n",
      "RemoteEvent(ATHeaderService, 0, logMessage) falling behind; read 12 messages\n",
      "Waiting for header service LFO before continuing\n",
      "RemoteEvent(ATHeaderService, 0, logMessage) falling behind; read 10 messages\n",
      "Waiting for header service LFO before continuing\n",
      "RemoteEvent(ATHeaderService, 0, logMessage) falling behind; read 10 messages\n",
      "Take flats with 0.8s.\n",
      "Waiting for header service LFO before continuing\n",
      "Waiting for header service LFO before continuing\n",
      "RemoteEvent(ATHeaderService, 0, logMessage) falling behind; read 11 messages\n",
      "Waiting for header service LFO before continuing\n",
      "Waiting for header service LFO before continuing\n",
      "RemoteEvent(ATHeaderService, 0, logMessage) falling behind; read 10 messages\n",
      "Take flats with 0.9s.\n",
      "Waiting for header service LFO before continuing\n",
      "RemoteEvent(ATHeaderService, 0, logMessage) falling behind; read 10 messages\n",
      "Waiting for header service LFO before continuing\n",
      "Waiting for header service LFO before continuing\n",
      "Waiting for header service LFO before continuing\n",
      "Take flats with 1.0s.\n",
      "Waiting for header service LFO before continuing\n",
      "Waiting for header service LFO before continuing\n",
      "Waiting for header service LFO before continuing\n",
      "Waiting for header service LFO before continuing\n",
      "RemoteEvent(ATHeaderService, 0, logMessage) falling behind; read 12 messages\n",
      "Take flats with 1.1s.\n",
      "Waiting for header service LFO before continuing\n",
      "RemoteEvent(ATHeaderService, 0, logMessage) falling behind; read 13 messages\n",
      "Waiting for header service LFO before continuing\n",
      "Waiting for header service LFO before continuing\n",
      "Waiting for header service LFO before continuing\n",
      "Take flats with 1.2000000000000002s.\n",
      "Waiting for header service LFO before continuing\n",
      "Waiting for header service LFO before continuing\n",
      "Waiting for header service LFO before continuing\n",
      "Waiting for header service LFO before continuing\n",
      "RemoteEvent(ATHeaderService, 0, logMessage) falling behind; read 11 messages\n",
      "Take flats with 1.3000000000000003s.\n",
      "Waiting for header service LFO before continuing\n",
      "RemoteEvent(ATHeaderService, 0, logMessage) falling behind; read 10 messages\n",
      "Waiting for header service LFO before continuing\n",
      "Waiting for header service LFO before continuing\n",
      "Waiting for header service LFO before continuing\n",
      "Take flats with 1.4000000000000001s.\n",
      "Waiting for header service LFO before continuing\n",
      "RemoteEvent(ATHeaderService, 0, logMessage) falling behind; read 13 messages\n",
      "Waiting for header service LFO before continuing\n",
      "Waiting for header service LFO before continuing\n",
      "Waiting for header service LFO before continuing\n",
      "Take flats with 1.5000000000000002s.\n",
      "Waiting for header service LFO before continuing\n",
      "Waiting for header service LFO before continuing\n",
      "RemoteEvent(ATHeaderService, 0, logMessage) falling behind; read 11 messages\n",
      "Waiting for header service LFO before continuing\n",
      "RemoteEvent(ATHeaderService, 0, logMessage) falling behind; read 12 messages\n",
      "Waiting for header service LFO before continuing\n",
      "RemoteEvent(ATHeaderService, 0, logMessage) falling behind; read 18 messages\n",
      "Take flats with 1.6s.\n",
      "Waiting for header service LFO before continuing\n",
      "RemoteEvent(ATHeaderService, 0, logMessage) falling behind; read 13 messages\n",
      "Waiting for header service LFO before continuing\n",
      "Waiting for header service LFO before continuing\n",
      "RemoteEvent(ATHeaderService, 0, logMessage) falling behind; read 13 messages\n",
      "Waiting for header service LFO before continuing\n",
      "RemoteEvent(ATHeaderService, 0, logMessage) falling behind; read 12 messages\n",
      "Take flats with 1.7000000000000002s.\n",
      "Waiting for header service LFO before continuing\n",
      "RemoteEvent(ATHeaderService, 0, logMessage) falling behind; read 22 messages\n",
      "Waiting for header service LFO before continuing\n",
      "Waiting for header service LFO before continuing\n",
      "RemoteEvent(ATHeaderService, 0, logMessage) falling behind; read 12 messages\n",
      "Waiting for header service LFO before continuing\n",
      "Take flats with 1.8000000000000003s.\n",
      "Waiting for header service LFO before continuing\n",
      "RemoteEvent(ATHeaderService, 0, logMessage) falling behind; read 12 messages\n",
      "Waiting for header service LFO before continuing\n",
      "RemoteEvent(ATHeaderService, 0, logMessage) falling behind; read 10 messages\n",
      "Waiting for header service LFO before continuing\n",
      "Waiting for header service LFO before continuing\n",
      "Take flats with 1.9000000000000001s.\n",
      "Waiting for header service LFO before continuing\n",
      "RemoteEvent(ATHeaderService, 0, logMessage) falling behind; read 13 messages\n",
      "Waiting for header service LFO before continuing\n",
      "RemoteEvent(ATHeaderService, 0, logMessage) falling behind; read 10 messages\n",
      "Waiting for header service LFO before continuing\n",
      "Waiting for header service LFO before continuing\n",
      "Take flats with 2.0s.\n",
      "Waiting for header service LFO before continuing\n",
      "Waiting for header service LFO before continuing\n",
      "Waiting for header service LFO before continuing\n",
      "RemoteEvent(ATHeaderService, 0, logMessage) falling behind; read 12 messages\n",
      "Waiting for header service LFO before continuing\n",
      "RemoteEvent(ATHeaderService, 0, logMessage) falling behind; read 11 messages\n",
      "Take flats with 2.1s.\n",
      "Waiting for header service LFO before continuing\n",
      "RemoteEvent(ATHeaderService, 0, logMessage) falling behind; read 12 messages\n",
      "Waiting for header service LFO before continuing\n",
      "Waiting for header service LFO before continuing\n",
      "Waiting for header service LFO before continuing\n",
      "Take flats with 2.2s.\n",
      "Waiting for header service LFO before continuing\n",
      "RemoteEvent(ATHeaderService, 0, logMessage) falling behind; read 12 messages\n",
      "Waiting for header service LFO before continuing\n",
      "Waiting for header service LFO before continuing\n",
      "RemoteEvent(ATHeaderService, 0, logMessage) falling behind; read 12 messages\n",
      "Waiting for header service LFO before continuing\n",
      "RemoteEvent(ATHeaderService, 0, logMessage) falling behind; read 10 messages\n",
      "Take flats with 2.3000000000000003s.\n",
      "Waiting for header service LFO before continuing\n",
      "RemoteEvent(ATHeaderService, 0, logMessage) falling behind; read 11 messages\n",
      "Waiting for header service LFO before continuing\n",
      "RemoteEvent(ATHeaderService, 0, logMessage) falling behind; read 10 messages\n",
      "Waiting for header service LFO before continuing\n",
      "Waiting for header service LFO before continuing\n",
      "Take flats with 2.4000000000000004s.\n",
      "Waiting for header service LFO before continuing\n",
      "Waiting for header service LFO before continuing\n",
      "Waiting for header service LFO before continuing\n",
      "Waiting for header service LFO before continuing\n",
      "Take flats with 2.5000000000000004s.\n",
      "Waiting for header service LFO before continuing\n",
      "RemoteEvent(ATHeaderService, 0, logMessage) falling behind; read 21 messages\n",
      "Waiting for header service LFO before continuing\n",
      "Waiting for header service LFO before continuing\n",
      "Waiting for header service LFO before continuing\n",
      "RemoteEvent(ATHeaderService, 0, logMessage) falling behind; read 17 messages\n",
      "Take flats with 2.6s.\n",
      "Waiting for header service LFO before continuing\n",
      "Waiting for header service LFO before continuing\n",
      "Waiting for header service LFO before continuing\n",
      "RemoteEvent(ATHeaderService, 0, logMessage) falling behind; read 12 messages\n",
      "Waiting for header service LFO before continuing\n",
      "RemoteEvent(ATHeaderService, 0, logMessage) falling behind; read 10 messages\n",
      "Take flats with 2.7s.\n",
      "Waiting for header service LFO before continuing\n",
      "Waiting for header service LFO before continuing\n",
      "Waiting for header service LFO before continuing\n",
      "RemoteEvent(ATHeaderService, 0, logMessage) falling behind; read 13 messages\n",
      "Waiting for header service LFO before continuing\n",
      "RemoteEvent(ATHeaderService, 0, logMessage) falling behind; read 11 messages\n",
      "Take flats with 2.8000000000000003s.\n",
      "Waiting for header service LFO before continuing\n",
      "Waiting for header service LFO before continuing\n",
      "Waiting for header service LFO before continuing\n",
      "Waiting for header service LFO before continuing\n",
      "RemoteEvent(ATHeaderService, 0, logMessage) falling behind; read 12 messages\n",
      "Take flats with 2.9000000000000004s.\n",
      "Waiting for header service LFO before continuing\n",
      "RemoteEvent(ATHeaderService, 0, logMessage) falling behind; read 12 messages\n",
      "Waiting for header service LFO before continuing\n",
      "RemoteEvent(ATHeaderService, 0, logMessage) falling behind; read 10 messages\n",
      "Waiting for header service LFO before continuing\n",
      "Waiting for header service LFO before continuing\n",
      "RemoteEvent(ATHeaderService, 0, logMessage) falling behind; read 12 messages\n",
      "Take flats with 3.0000000000000004s.\n",
      "Waiting for header service LFO before continuing\n",
      "RemoteEvent(ATHeaderService, 0, logMessage) falling behind; read 11 messages\n",
      "Waiting for header service LFO before continuing\n",
      "Waiting for header service LFO before continuing\n",
      "RemoteEvent(ATHeaderService, 0, logMessage) falling behind; read 12 messages\n",
      "Waiting for header service LFO before continuing\n",
      "Take flats with 3.1s.\n",
      "Waiting for header service LFO before continuing\n",
      "Waiting for header service LFO before continuing\n",
      "RemoteEvent(ATHeaderService, 0, logMessage) falling behind; read 11 messages\n",
      "Waiting for header service LFO before continuing\n",
      "RemoteEvent(ATHeaderService, 0, logMessage) falling behind; read 12 messages\n",
      "Waiting for header service LFO before continuing\n",
      "Take flats with 3.2s.\n",
      "Waiting for header service LFO before continuing\n",
      "Waiting for header service LFO before continuing\n",
      "RemoteEvent(ATHeaderService, 0, logMessage) falling behind; read 10 messages\n",
      "Waiting for header service LFO before continuing\n",
      "Waiting for header service LFO before continuing\n",
      "RemoteEvent(ATHeaderService, 0, logMessage) falling behind; read 60 messages\n",
      "Take flats with 3.3000000000000003s.\n",
      "Waiting for header service LFO before continuing\n",
      "Waiting for header service LFO before continuing\n",
      "Waiting for header service LFO before continuing\n",
      "RemoteEvent(ATHeaderService, 0, logMessage) falling behind; read 12 messages\n",
      "Waiting for header service LFO before continuing\n",
      "Take flats with 3.4000000000000004s.\n",
      "Waiting for header service LFO before continuing\n",
      "Waiting for header service LFO before continuing\n",
      "Waiting for header service LFO before continuing\n",
      "RemoteEvent(ATHeaderService, 0, logMessage) falling behind; read 12 messages\n",
      "Waiting for header service LFO before continuing\n",
      "Take flats with 3.5000000000000004s.\n",
      "Waiting for header service LFO before continuing\n",
      "Waiting for header service LFO before continuing\n",
      "Waiting for header service LFO before continuing\n",
      "Waiting for header service LFO before continuing\n",
      "Take flats with 3.6s.\n",
      "Waiting for header service LFO before continuing\n",
      "Waiting for header service LFO before continuing\n",
      "RemoteEvent(ATHeaderService, 0, logMessage) falling behind; read 11 messages\n",
      "Waiting for header service LFO before continuing\n",
      "Waiting for header service LFO before continuing\n",
      "Take flats with 3.7s.\n",
      "Waiting for header service LFO before continuing\n",
      "RemoteEvent(ATHeaderService, 0, logMessage) falling behind; read 11 messages\n",
      "Waiting for header service LFO before continuing\n",
      "RemoteEvent(ATHeaderService, 0, logMessage) falling behind; read 11 messages\n",
      "Waiting for header service LFO before continuing\n",
      "Waiting for header service LFO before continuing\n",
      "RemoteEvent(ATHeaderService, 0, logMessage) falling behind; read 12 messages\n",
      "Take flats with 3.8000000000000003s.\n",
      "Waiting for header service LFO before continuing\n",
      "RemoteEvent(ATHeaderService, 0, logMessage) falling behind; read 11 messages\n",
      "Waiting for header service LFO before continuing\n",
      "Waiting for header service LFO before continuing\n",
      "RemoteEvent(ATHeaderService, 0, logMessage) falling behind; read 12 messages\n",
      "Waiting for header service LFO before continuing\n",
      "Take flats with 3.9000000000000004s.\n",
      "Waiting for header service LFO before continuing\n",
      "RemoteEvent(ATHeaderService, 0, logMessage) falling behind; read 10 messages\n",
      "Waiting for header service LFO before continuing\n",
      "RemoteEvent(ATHeaderService, 0, logMessage) falling behind; read 10 messages\n",
      "Waiting for header service LFO before continuing\n",
      "Waiting for header service LFO before continuing\n",
      "RemoteEvent(ATHeaderService, 0, logMessage) falling behind; read 11 messages\n",
      "Take flats with 4.0s.\n",
      "Waiting for header service LFO before continuing\n",
      "RemoteEvent(ATHeaderService, 0, logMessage) falling behind; read 10 messages\n",
      "Waiting for header service LFO before continuing\n",
      "RemoteEvent(ATHeaderService, 0, logMessage) falling behind; read 10 messages\n",
      "Waiting for header service LFO before continuing\n",
      "Waiting for header service LFO before continuing\n",
      "RemoteEvent(ATHeaderService, 0, logMessage) falling behind; read 12 messages\n",
      "Take flats with 4.1s.\n",
      "Waiting for header service LFO before continuing\n",
      "RemoteEvent(ATHeaderService, 0, logMessage) falling behind; read 11 messages\n",
      "Waiting for header service LFO before continuing\n",
      "Waiting for header service LFO before continuing\n",
      "RemoteEvent(ATHeaderService, 0, logMessage) falling behind; read 13 messages\n",
      "Waiting for header service LFO before continuing\n",
      "RemoteEvent(ATHeaderService, 0, logMessage) falling behind; read 13 messages\n",
      "Take flats with 4.2s.\n",
      "Waiting for header service LFO before continuing\n",
      "RemoteEvent(ATHeaderService, 0, logMessage) falling behind; read 10 messages\n",
      "Waiting for header service LFO before continuing\n",
      "RemoteEvent(ATHeaderService, 0, logMessage) falling behind; read 10 messages\n",
      "Waiting for header service LFO before continuing\n",
      "Waiting for header service LFO before continuing\n",
      "Take flats with 4.3s.\n",
      "Waiting for header service LFO before continuing\n",
      "RemoteEvent(ATHeaderService, 0, logMessage) falling behind; read 11 messages\n",
      "Waiting for header service LFO before continuing\n",
      "RemoteEvent(ATHeaderService, 0, logMessage) falling behind; read 10 messages\n",
      "Waiting for header service LFO before continuing\n",
      "Waiting for header service LFO before continuing\n",
      "Take flats with 4.3999999999999995s.\n",
      "Waiting for header service LFO before continuing\n",
      "RemoteEvent(ATHeaderService, 0, logMessage) falling behind; read 10 messages\n",
      "Waiting for header service LFO before continuing\n",
      "RemoteEvent(ATHeaderService, 0, logMessage) falling behind; read 17 messages\n",
      "Waiting for header service LFO before continuing\n",
      "Waiting for header service LFO before continuing\n",
      "Take flats with 4.5s.\n",
      "Waiting for header service LFO before continuing\n",
      "Waiting for header service LFO before continuing\n",
      "RemoteEvent(ATHeaderService, 0, logMessage) falling behind; read 13 messages\n",
      "Waiting for header service LFO before continuing\n",
      "Waiting for header service LFO before continuing\n",
      "Take flats with 4.6s.\n",
      "Waiting for header service LFO before continuing\n",
      "Waiting for header service LFO before continuing\n",
      "Waiting for header service LFO before continuing\n",
      "Waiting for header service LFO before continuing\n",
      "RemoteEvent(ATHeaderService, 0, logMessage) falling behind; read 14 messages\n",
      "Take flats with 4.7s.\n",
      "Waiting for header service LFO before continuing\n",
      "RemoteEvent(ATHeaderService, 0, logMessage) falling behind; read 12 messages\n",
      "Waiting for header service LFO before continuing\n",
      "RemoteEvent(ATHeaderService, 0, logMessage) falling behind; read 10 messages\n",
      "Waiting for header service LFO before continuing\n",
      "Waiting for header service LFO before continuing\n",
      "Take flats with 4.8s.\n",
      "Waiting for header service LFO before continuing\n",
      "Waiting for header service LFO before continuing\n",
      "Waiting for header service LFO before continuing\n",
      "Waiting for header service LFO before continuing\n",
      "Take flats with 4.9s.\n",
      "Waiting for header service LFO before continuing\n",
      "Waiting for header service LFO before continuing\n",
      "RemoteEvent(ATHeaderService, 0, logMessage) falling behind; read 14 messages\n",
      "Waiting for header service LFO before continuing\n",
      "RemoteEvent(ATHeaderService, 0, logMessage) falling behind; read 11 messages\n",
      "Waiting for header service LFO before continuing\n",
      "RemoteEvent(ATHeaderService, 0, logMessage) falling behind; read 16 messages\n",
      "Take flats with 5.0s.\n",
      "Waiting for header service LFO before continuing\n",
      "Waiting for header service LFO before continuing\n",
      "Waiting for header service LFO before continuing\n",
      "Waiting for header service LFO before continuing\n",
      "RemoteEvent(ATHeaderService, 0, logMessage) falling behind; read 13 messages\n",
      "Take flats with 5.1s.\n",
      "Waiting for header service LFO before continuing\n",
      "RemoteEvent(ATHeaderService, 0, logMessage) falling behind; read 11 messages\n",
      "Waiting for header service LFO before continuing\n",
      "Waiting for header service LFO before continuing\n",
      "Waiting for header service LFO before continuing\n",
      "RemoteEvent(ATHeaderService, 0, logMessage) falling behind; read 16 messages\n",
      "Take flats with 5.2s.\n",
      "Waiting for header service LFO before continuing\n",
      "RemoteEvent(ATHeaderService, 0, logMessage) falling behind; read 10 messages\n",
      "Waiting for header service LFO before continuing\n",
      "RemoteEvent(ATHeaderService, 0, logMessage) falling behind; read 12 messages\n",
      "Waiting for header service LFO before continuing\n",
      "RemoteEvent(ATHeaderService, 0, logMessage) falling behind; read 16 messages\n",
      "Waiting for header service LFO before continuing\n",
      "RemoteEvent(ATHeaderService, 0, logMessage) falling behind; read 15 messages\n",
      "Take flats with 5.3s.\n",
      "Waiting for header service LFO before continuing\n",
      "Waiting for header service LFO before continuing\n",
      "RemoteEvent(ATHeaderService, 0, logMessage) falling behind; read 13 messages\n",
      "Waiting for header service LFO before continuing\n",
      "Waiting for header service LFO before continuing\n",
      "Take flats with 5.4s.\n",
      "Waiting for header service LFO before continuing\n",
      "Waiting for header service LFO before continuing\n",
      "Waiting for header service LFO before continuing\n",
      "RemoteEvent(ATHeaderService, 0, logMessage) falling behind; read 12 messages\n",
      "Waiting for header service LFO before continuing\n",
      "RemoteEvent(ATHeaderService, 0, logMessage) falling behind; read 10 messages\n",
      "Take flats with 5.5s.\n",
      "Waiting for header service LFO before continuing\n",
      "Waiting for header service LFO before continuing\n",
      "RemoteEvent(ATHeaderService, 0, logMessage) falling behind; read 10 messages\n",
      "Waiting for header service LFO before continuing\n",
      "Waiting for header service LFO before continuing\n",
      "RemoteEvent(ATHeaderService, 0, logMessage) falling behind; read 13 messages\n",
      "Take flats with 5.6s.\n",
      "Waiting for header service LFO before continuing\n",
      "Waiting for header service LFO before continuing\n",
      "Waiting for header service LFO before continuing\n",
      "Waiting for header service LFO before continuing\n",
      "RemoteEvent(ATHeaderService, 0, logMessage) falling behind; read 13 messages\n",
      "Take flats with 5.7s.\n",
      "Waiting for header service LFO before continuing\n",
      "Waiting for header service LFO before continuing\n",
      "Waiting for header service LFO before continuing\n",
      "RemoteEvent(ATHeaderService, 0, logMessage) falling behind; read 10 messages\n",
      "Waiting for header service LFO before continuing\n",
      "Take flats with 5.8s.\n",
      "Waiting for header service LFO before continuing\n",
      "RemoteEvent(ATHeaderService, 0, logMessage) falling behind; read 13 messages\n",
      "Waiting for header service LFO before continuing\n",
      "Waiting for header service LFO before continuing\n",
      "Waiting for header service LFO before continuing\n",
      "RemoteEvent(ATHeaderService, 0, logMessage) falling behind; read 10 messages\n",
      "Take flats with 5.9s.\n",
      "Waiting for header service LFO before continuing\n",
      "Waiting for header service LFO before continuing\n",
      "Waiting for header service LFO before continuing\n",
      "Waiting for header service LFO before continuing\n",
      "RemoteEvent(ATHeaderService, 0, logMessage) falling behind; read 17 messages\n",
      "Take flats with 6.0s.\n",
      "Waiting for header service LFO before continuing\n",
      "RemoteEvent(ATHeaderService, 0, logMessage) falling behind; read 12 messages\n",
      "Waiting for header service LFO before continuing\n",
      "Waiting for header service LFO before continuing\n",
      "RemoteEvent(ATHeaderService, 0, logMessage) falling behind; read 12 messages\n",
      "Waiting for header service LFO before continuing\n",
      "Take flats with 6.1s.\n",
      "Waiting for header service LFO before continuing\n",
      "Waiting for header service LFO before continuing\n",
      "RemoteEvent(ATHeaderService, 0, logMessage) falling behind; read 16 messages\n",
      "Waiting for header service LFO before continuing\n",
      "Waiting for header service LFO before continuing\n",
      "Take flats with 6.2s.\n",
      "Waiting for header service LFO before continuing\n",
      "RemoteEvent(ATHeaderService, 0, logMessage) falling behind; read 10 messages\n",
      "Waiting for header service LFO before continuing\n",
      "Waiting for header service LFO before continuing\n",
      "Waiting for header service LFO before continuing\n",
      "Take flats with 6.3s.\n",
      "Waiting for header service LFO before continuing\n",
      "Waiting for header service LFO before continuing\n",
      "Waiting for header service LFO before continuing\n",
      "Waiting for header service LFO before continuing\n",
      "RemoteEvent(ATHeaderService, 0, logMessage) falling behind; read 13 messages\n",
      "Take flats with 6.4s.\n",
      "Waiting for header service LFO before continuing\n",
      "Waiting for header service LFO before continuing\n",
      "RemoteEvent(ATHeaderService, 0, logMessage) falling behind; read 10 messages\n",
      "Waiting for header service LFO before continuing\n",
      "Waiting for header service LFO before continuing\n",
      "RemoteEvent(ATHeaderService, 0, logMessage) falling behind; read 10 messages\n",
      "Take flats with 6.5s.\n",
      "Waiting for header service LFO before continuing\n",
      "Waiting for header service LFO before continuing\n",
      "RemoteEvent(ATHeaderService, 0, logMessage) falling behind; read 10 messages\n",
      "Waiting for header service LFO before continuing\n",
      "RemoteEvent(ATHeaderService, 0, logMessage) falling behind; read 10 messages\n",
      "Waiting for header service LFO before continuing\n",
      "RemoteEvent(ATHeaderService, 0, logMessage) falling behind; read 10 messages\n",
      "Take flats with 6.6s.\n",
      "Waiting for header service LFO before continuing\n",
      "Waiting for header service LFO before continuing\n",
      "RemoteEvent(ATHeaderService, 0, logMessage) falling behind; read 13 messages\n",
      "Waiting for header service LFO before continuing\n",
      "Waiting for header service LFO before continuing\n",
      "RemoteEvent(ATHeaderService, 0, logMessage) falling behind; read 11 messages\n",
      "Take flats with 6.7s.\n",
      "Waiting for header service LFO before continuing\n",
      "Waiting for header service LFO before continuing\n",
      "Waiting for header service LFO before continuing\n",
      "Waiting for header service LFO before continuing\n",
      "RemoteEvent(ATHeaderService, 0, logMessage) falling behind; read 10 messages\n",
      "Take flats with 6.8s.\n",
      "Waiting for header service LFO before continuing\n",
      "RemoteEvent(ATHeaderService, 0, logMessage) falling behind; read 15 messages\n",
      "Waiting for header service LFO before continuing\n",
      "RemoteEvent(ATHeaderService, 0, logMessage) falling behind; read 13 messages\n",
      "Waiting for header service LFO before continuing\n",
      "RemoteEvent(ATHeaderService, 0, logMessage) falling behind; read 17 messages\n",
      "Waiting for header service LFO before continuing\n",
      "Take flats with 6.9s.\n",
      "Waiting for header service LFO before continuing\n",
      "RemoteEvent(ATHeaderService, 0, logMessage) falling behind; read 18 messages\n",
      "Waiting for header service LFO before continuing\n",
      "RemoteEvent(ATHeaderService, 0, logMessage) falling behind; read 11 messages\n",
      "Waiting for header service LFO before continuing\n",
      "Waiting for header service LFO before continuing\n",
      "Take flats with 7.0s.\n",
      "Waiting for header service LFO before continuing\n",
      "Waiting for header service LFO before continuing\n",
      "Waiting for header service LFO before continuing\n",
      "RemoteEvent(ATHeaderService, 0, logMessage) falling behind; read 13 messages\n",
      "Waiting for header service LFO before continuing\n",
      "RemoteEvent(ATHeaderService, 0, logMessage) falling behind; read 10 messages\n",
      "Take flats with 7.1s.\n",
      "Waiting for header service LFO before continuing\n",
      "Waiting for header service LFO before continuing\n",
      "Waiting for header service LFO before continuing\n",
      "Waiting for header service LFO before continuing\n",
      "Take flats with 7.2s.\n",
      "Waiting for header service LFO before continuing\n",
      "Waiting for header service LFO before continuing\n",
      "Waiting for header service LFO before continuing\n",
      "Waiting for header service LFO before continuing\n",
      "Take flats with 7.3s.\n",
      "Waiting for header service LFO before continuing\n",
      "RemoteEvent(ATHeaderService, 0, logMessage) falling behind; read 10 messages\n",
      "Waiting for header service LFO before continuing\n",
      "Waiting for header service LFO before continuing\n",
      "Waiting for header service LFO before continuing\n",
      "Take flats with 7.4s.\n",
      "Waiting for header service LFO before continuing\n",
      "Waiting for header service LFO before continuing\n",
      "RemoteEvent(ATHeaderService, 0, logMessage) falling behind; read 11 messages\n",
      "Waiting for header service LFO before continuing\n",
      "Waiting for header service LFO before continuing\n",
      "RemoteEvent(ATHeaderService, 0, logMessage) falling behind; read 10 messages\n",
      "Take flats with 7.5s.\n",
      "Waiting for header service LFO before continuing\n",
      "RemoteEvent(ATHeaderService, 0, logMessage) falling behind; read 10 messages\n",
      "Waiting for header service LFO before continuing\n",
      "Waiting for header service LFO before continuing\n",
      "RemoteEvent(ATHeaderService, 0, logMessage) falling behind; read 10 messages\n",
      "Waiting for header service LFO before continuing\n",
      "RemoteEvent(ATHeaderService, 0, logMessage) falling behind; read 11 messages\n",
      "Take flats with 7.6s.\n",
      "Waiting for header service LFO before continuing\n",
      "Waiting for header service LFO before continuing\n",
      "Waiting for header service LFO before continuing\n",
      "RemoteEvent(ATHeaderService, 0, logMessage) falling behind; read 10 messages\n",
      "Waiting for header service LFO before continuing\n",
      "Take flats with 7.7s.\n",
      "Waiting for header service LFO before continuing\n",
      "Waiting for header service LFO before continuing\n",
      "Waiting for header service LFO before continuing\n",
      "Waiting for header service LFO before continuing\n",
      "Take flats with 7.8s.\n",
      "Waiting for header service LFO before continuing\n",
      "Waiting for header service LFO before continuing\n",
      "Waiting for header service LFO before continuing\n",
      "RemoteEvent(ATHeaderService, 0, logMessage) falling behind; read 10 messages\n",
      "Waiting for header service LFO before continuing\n",
      "Take flats with 7.9s.\n",
      "Waiting for header service LFO before continuing\n",
      "Waiting for header service LFO before continuing\n",
      "RemoteEvent(ATHeaderService, 0, logMessage) falling behind; read 10 messages\n",
      "Waiting for header service LFO before continuing\n",
      "RemoteEvent(ATHeaderService, 0, logMessage) falling behind; read 13 messages\n",
      "Waiting for header service LFO before continuing\n",
      "RemoteEvent(ATHeaderService, 0, logMessage) falling behind; read 12 messages\n"
     ]
    }
   ],
   "source": [
    "for exptime in np.arange(0.1, 8., 0.1):\n",
    "    print(f\"Take flats with {exptime}s.\")\n",
    "    await latiss.take_flats(exptime=exptime, \n",
    "                            nflats=2, \n",
    "                            filter=\"KPNO_406_828nm\",\n",
    "                            grating=\"empty_1\")\n",
    "\n",
    "    await latiss.take_flats(exptime=1.0, \n",
    "                           nflats=2, \n",
    "                           filter=\"KPNO_406_828nm\",\n",
    "                           grating=\"empty_1\")\n"
   ]
  },
  {
   "cell_type": "code",
   "execution_count": 25,
   "metadata": {},
   "outputs": [
    {
     "name": "stdout",
     "output_type": "stream",
     "text": [
      "Waiting for header service LFO before continuing\n",
      "RemoteEvent(ATHeaderService, 0, logMessage) falling behind; read 11 messages\n",
      "Waiting for header service LFO before continuing\n",
      "RemoteEvent(ATHeaderService, 0, logMessage) falling behind; read 18 messages\n",
      "Waiting for header service LFO before continuing\n",
      "RemoteEvent(ATHeaderService, 0, logMessage) falling behind; read 11 messages\n",
      "Waiting for header service LFO before continuing\n",
      "Waiting for header service LFO before continuing\n",
      "RemoteEvent(ATHeaderService, 0, logMessage) falling behind; read 11 messages\n",
      "Waiting for header service LFO before continuing\n",
      "Waiting for header service LFO before continuing\n",
      "RemoteEvent(ATHeaderService, 0, logMessage) falling behind; read 12 messages\n",
      "Waiting for header service LFO before continuing\n",
      "Waiting for header service LFO before continuing\n",
      "RemoteEvent(ATHeaderService, 0, logMessage) falling behind; read 11 messages\n",
      "Waiting for header service LFO before continuing\n"
     ]
    }
   ],
   "source": [
    "await latiss.take_bias(nbias=10)"
   ]
  },
  {
   "cell_type": "code",
   "execution_count": 26,
   "metadata": {},
   "outputs": [
    {
     "name": "stdout",
     "output_type": "stream",
     "text": [
      "Waiting for header service LFO before continuing\n"
     ]
    }
   ],
   "source": [
    "# test\n",
    "await latiss.take_flats(exptime=5, \n",
    "                        nflats=1, \n",
    "                        filter=\"KPNO_406_828nm\",\n",
    "                        grating=\"ronchi170lpmm\")"
   ]
  },
  {
   "cell_type": "code",
   "execution_count": 27,
   "metadata": {},
   "outputs": [
    {
     "name": "stdout",
     "output_type": "stream",
     "text": [
      "Waiting for header service LFO before continuing\n",
      "Waiting for header service LFO before continuing\n",
      "Waiting for header service LFO before continuing\n",
      "Waiting for header service LFO before continuing\n",
      "RemoteEvent(ATHeaderService, 0, logMessage) falling behind; read 28 messages\n",
      "Waiting for header service LFO before continuing\n",
      "RemoteEvent(ATHeaderService, 0, logMessage) falling behind; read 10 messages\n",
      "Waiting for header service LFO before continuing\n",
      "Waiting for header service LFO before continuing\n",
      "Waiting for header service LFO before continuing\n",
      "RemoteEvent(ATHeaderService, 0, logMessage) falling behind; read 12 messages\n",
      "Waiting for header service LFO before continuing\n",
      "Waiting for header service LFO before continuing\n"
     ]
    }
   ],
   "source": [
    "await latiss.take_flats(exptime=5, \n",
    "                        nflats=10, \n",
    "                        filter=\"KPNO_406_828nm\",\n",
    "                        grating=\"ronchi170lpmm\")"
   ]
  },
  {
   "cell_type": "code",
   "execution_count": 30,
   "metadata": {},
   "outputs": [
    {
     "name": "stdout",
     "output_type": "stream",
     "text": [
      "Waiting for header service LFO before continuing\n",
      "RemoteEvent(ATHeaderService, 0, logMessage) falling behind; read 10 messages\n"
     ]
    }
   ],
   "source": [
    "# Test\n",
    "await latiss.take_flats(exptime=5, \n",
    "                        nflats=1, \n",
    "                        filter=\"KPNO_406_828nm\",\n",
    "                        grating=\"ronchi90lpmm\")"
   ]
  },
  {
   "cell_type": "code",
   "execution_count": 31,
   "metadata": {},
   "outputs": [
    {
     "name": "stdout",
     "output_type": "stream",
     "text": [
      "Waiting for header service LFO before continuing\n",
      "Waiting for header service LFO before continuing\n",
      "Waiting for header service LFO before continuing\n",
      "Waiting for header service LFO before continuing\n",
      "Waiting for header service LFO before continuing\n",
      "RemoteEvent(ATHeaderService, 0, logMessage) falling behind; read 13 messages\n",
      "Waiting for header service LFO before continuing\n",
      "Waiting for header service LFO before continuing\n",
      "Waiting for header service LFO before continuing\n",
      "Waiting for header service LFO before continuing\n",
      "RemoteEvent(ATHeaderService, 0, logMessage) falling behind; read 13 messages\n",
      "Waiting for header service LFO before continuing\n"
     ]
    }
   ],
   "source": [
    "await latiss.take_bias(nbias=10)"
   ]
  },
  {
   "cell_type": "code",
   "execution_count": 34,
   "metadata": {},
   "outputs": [
    {
     "name": "stdout",
     "output_type": "stream",
     "text": [
      "Waiting for header service LFO before continuing\n",
      "Waiting for header service LFO before continuing\n",
      "Waiting for header service LFO before continuing\n",
      "Waiting for header service LFO before continuing\n",
      "Waiting for header service LFO before continuing\n",
      "Waiting for header service LFO before continuing\n",
      "Waiting for header service LFO before continuing\n",
      "Waiting for header service LFO before continuing\n",
      "Waiting for header service LFO before continuing\n",
      "RemoteEvent(ATHeaderService, 0, logMessage) falling behind; read 11 messages\n",
      "Waiting for header service LFO before continuing\n"
     ]
    }
   ],
   "source": [
    "await latiss.take_flats(exptime=5, \n",
    "                        nflats=10, \n",
    "                        filter=\"KPNO_406_828nm\",\n",
    "                        grating=\"ronchi90lpmm\")"
   ]
  },
  {
   "cell_type": "code",
   "execution_count": 37,
   "metadata": {},
   "outputs": [
    {
     "name": "stdout",
     "output_type": "stream",
     "text": [
      "Waiting for header service LFO before continuing\n",
      "RemoteEvent(ATHeaderService, 0, logMessage) falling behind; read 13 messages\n"
     ]
    }
   ],
   "source": [
    "# Test\n",
    "await latiss.take_flats(exptime=1.5, \n",
    "                        nflats=1, \n",
    "                        filter=\"blank_bk7_wg05\",\n",
    "                        grating=\"empty_1\")"
   ]
  },
  {
   "cell_type": "code",
   "execution_count": 36,
   "metadata": {},
   "outputs": [
    {
     "name": "stdout",
     "output_type": "stream",
     "text": [
      "Waiting for header service LFO before continuing\n",
      "Waiting for header service LFO before continuing\n",
      "Waiting for header service LFO before continuing\n",
      "Waiting for header service LFO before continuing\n",
      "RemoteEvent(ATHeaderService, 0, logMessage) falling behind; read 10 messages\n",
      "Waiting for header service LFO before continuing\n",
      "Waiting for header service LFO before continuing\n",
      "Waiting for header service LFO before continuing\n",
      "Waiting for header service LFO before continuing\n",
      "RemoteEvent(ATHeaderService, 0, logMessage) falling behind; read 10 messages\n",
      "Waiting for header service LFO before continuing\n",
      "RemoteEvent(ATHeaderService, 0, logMessage) falling behind; read 14 messages\n",
      "Waiting for header service LFO before continuing\n"
     ]
    }
   ],
   "source": [
    "await latiss.take_bias(nbias=10)"
   ]
  },
  {
   "cell_type": "code",
   "execution_count": 38,
   "metadata": {},
   "outputs": [
    {
     "name": "stdout",
     "output_type": "stream",
     "text": [
      "Waiting for header service LFO before continuing\n",
      "RemoteEvent(ATHeaderService, 0, logMessage) falling behind; read 13 messages\n",
      "Waiting for header service LFO before continuing\n",
      "Waiting for header service LFO before continuing\n",
      "Waiting for header service LFO before continuing\n",
      "Waiting for header service LFO before continuing\n",
      "RemoteEvent(ATHeaderService, 0, logMessage) falling behind; read 10 messages\n",
      "Waiting for header service LFO before continuing\n",
      "Waiting for header service LFO before continuing\n",
      "Waiting for header service LFO before continuing\n",
      "Waiting for header service LFO before continuing\n",
      "Waiting for header service LFO before continuing\n"
     ]
    }
   ],
   "source": [
    "await latiss.take_flats(exptime=1.5, \n",
    "                        nflats=10, \n",
    "                        filter=\"blank_bk7_wg05\",\n",
    "                        grating=\"empty_1\")"
   ]
  },
  {
   "cell_type": "code",
   "execution_count": 41,
   "metadata": {},
   "outputs": [
    {
     "name": "stdout",
     "output_type": "stream",
     "text": [
      "Waiting for header service LFO before continuing\n",
      "RemoteEvent(ATHeaderService, 0, logMessage) falling behind; read 10 messages\n"
     ]
    }
   ],
   "source": [
    "# Test \n",
    "await latiss.take_flats(exptime=5., \n",
    "                        nflats=1, \n",
    "                        filter=\"blank_bk7_wg05\",\n",
    "                        grating=\"ronchi170lpmm\")"
   ]
  },
  {
   "cell_type": "code",
   "execution_count": 40,
   "metadata": {},
   "outputs": [
    {
     "name": "stdout",
     "output_type": "stream",
     "text": [
      "Waiting for header service LFO before continuing\n",
      "Waiting for header service LFO before continuing\n",
      "RemoteEvent(ATHeaderService, 0, logMessage) falling behind; read 11 messages\n",
      "Waiting for header service LFO before continuing\n",
      "Waiting for header service LFO before continuing\n",
      "RemoteEvent(ATHeaderService, 0, logMessage) falling behind; read 12 messages\n",
      "Waiting for header service LFO before continuing\n",
      "Waiting for header service LFO before continuing\n",
      "Waiting for header service LFO before continuing\n",
      "RemoteEvent(ATHeaderService, 0, logMessage) falling behind; read 21 messages\n",
      "Waiting for header service LFO before continuing\n",
      "RemoteEvent(ATHeaderService, 0, logMessage) falling behind; read 10 messages\n",
      "Waiting for header service LFO before continuing\n",
      "Waiting for header service LFO before continuing\n"
     ]
    }
   ],
   "source": [
    "await latiss.take_bias(nbias=10)"
   ]
  },
  {
   "cell_type": "code",
   "execution_count": 42,
   "metadata": {},
   "outputs": [
    {
     "name": "stdout",
     "output_type": "stream",
     "text": [
      "Waiting for header service LFO before continuing\n",
      "Waiting for header service LFO before continuing\n",
      "Waiting for header service LFO before continuing\n",
      "RemoteEvent(ATHeaderService, 0, logMessage) falling behind; read 13 messages\n",
      "Waiting for header service LFO before continuing\n",
      "Waiting for header service LFO before continuing\n",
      "RemoteEvent(ATHeaderService, 0, logMessage) falling behind; read 11 messages\n",
      "Waiting for header service LFO before continuing\n",
      "Waiting for header service LFO before continuing\n",
      "Waiting for header service LFO before continuing\n",
      "Waiting for header service LFO before continuing\n",
      "Waiting for header service LFO before continuing\n",
      "RemoteEvent(ATHeaderService, 0, logMessage) falling behind; read 11 messages\n"
     ]
    }
   ],
   "source": [
    "await latiss.take_flats(exptime=4., \n",
    "                        nflats=10, \n",
    "                        filter=\"blank_bk7_wg05\",\n",
    "                        grating=\"ronchi170lpmm\")"
   ]
  },
  {
   "cell_type": "code",
   "execution_count": 43,
   "metadata": {},
   "outputs": [
    {
     "name": "stdout",
     "output_type": "stream",
     "text": [
      "Waiting for header service LFO before continuing\n",
      "RemoteEvent(ATHeaderService, 0, logMessage) falling behind; read 11 messages\n"
     ]
    }
   ],
   "source": [
    "# Test\n",
    "await latiss.take_flats(exptime=5.,\n",
    "                        nflats=1, \n",
    "                        filter=\"blank_bk7_wg05\",\n",
    "                        grating=\"ronchi90lpmm\")"
   ]
  },
  {
   "cell_type": "code",
   "execution_count": 44,
   "metadata": {},
   "outputs": [
    {
     "name": "stdout",
     "output_type": "stream",
     "text": [
      "Waiting for header service LFO before continuing\n",
      "Waiting for header service LFO before continuing\n",
      "Waiting for header service LFO before continuing\n",
      "Waiting for header service LFO before continuing\n",
      "RemoteEvent(ATHeaderService, 0, logMessage) falling behind; read 13 messages\n",
      "Waiting for header service LFO before continuing\n",
      "Waiting for header service LFO before continuing\n",
      "RemoteEvent(ATHeaderService, 0, logMessage) falling behind; read 12 messages\n",
      "Waiting for header service LFO before continuing\n",
      "RemoteEvent(ATHeaderService, 0, logMessage) falling behind; read 10 messages\n",
      "Waiting for header service LFO before continuing\n",
      "Waiting for header service LFO before continuing\n",
      "Waiting for header service LFO before continuing\n",
      "RemoteEvent(ATHeaderService, 0, logMessage) falling behind; read 15 messages\n"
     ]
    }
   ],
   "source": [
    "await latiss.take_bias(nbias=10)"
   ]
  },
  {
   "cell_type": "code",
   "execution_count": 45,
   "metadata": {},
   "outputs": [
    {
     "name": "stdout",
     "output_type": "stream",
     "text": [
      "Waiting for header service LFO before continuing\n",
      "RemoteEvent(ATHeaderService, 0, logMessage) falling behind; read 10 messages\n",
      "Waiting for header service LFO before continuing\n",
      "Waiting for header service LFO before continuing\n",
      "Waiting for header service LFO before continuing\n",
      "Waiting for header service LFO before continuing\n",
      "Waiting for header service LFO before continuing\n",
      "RemoteEvent(ATHeaderService, 0, logMessage) falling behind; read 17 messages\n",
      "Waiting for header service LFO before continuing\n",
      "Waiting for header service LFO before continuing\n",
      "RemoteEvent(ATHeaderService, 0, logMessage) falling behind; read 20 messages\n",
      "Waiting for header service LFO before continuing\n",
      "Waiting for header service LFO before continuing\n"
     ]
    }
   ],
   "source": [
    "await latiss.take_flats(exptime=3.5, \n",
    "                        nflats=10, \n",
    "                        filter=\"blank_bk7_wg05\",\n",
    "                        grating=\"ronchi90lpmm\")"
   ]
  },
  {
   "cell_type": "code",
   "execution_count": 46,
   "metadata": {},
   "outputs": [
    {
     "name": "stdout",
     "output_type": "stream",
     "text": [
      "Waiting for header service LFO before continuing\n",
      "RemoteEvent(ATHeaderService, 0, logMessage) falling behind; read 12 messages\n"
     ]
    }
   ],
   "source": [
    "await latiss.take_flats(exptime=1.5, \n",
    "                        nflats=1, \n",
    "                        filter=\"empty_3\",\n",
    "                        grating=\"empty_1\")"
   ]
  },
  {
   "cell_type": "code",
   "execution_count": 47,
   "metadata": {},
   "outputs": [
    {
     "name": "stdout",
     "output_type": "stream",
     "text": [
      "Waiting for header service LFO before continuing\n",
      "Waiting for header service LFO before continuing\n",
      "Waiting for header service LFO before continuing\n",
      "Waiting for header service LFO before continuing\n",
      "Waiting for header service LFO before continuing\n",
      "RemoteEvent(ATHeaderService, 0, logMessage) falling behind; read 13 messages\n",
      "Waiting for header service LFO before continuing\n",
      "Waiting for header service LFO before continuing\n",
      "Waiting for header service LFO before continuing\n",
      "Waiting for header service LFO before continuing\n",
      "Waiting for header service LFO before continuing\n",
      "RemoteEvent(ATHeaderService, 0, logMessage) falling behind; read 12 messages\n"
     ]
    }
   ],
   "source": [
    "await latiss.take_bias(nbias=10)"
   ]
  },
  {
   "cell_type": "code",
   "execution_count": 48,
   "metadata": {},
   "outputs": [
    {
     "name": "stdout",
     "output_type": "stream",
     "text": [
      "Waiting for header service LFO before continuing\n",
      "RemoteEvent(ATHeaderService, 0, logMessage) falling behind; read 11 messages\n",
      "Waiting for header service LFO before continuing\n",
      "Waiting for header service LFO before continuing\n",
      "RemoteEvent(ATHeaderService, 0, logMessage) falling behind; read 10 messages\n",
      "Waiting for header service LFO before continuing\n",
      "Waiting for header service LFO before continuing\n",
      "Waiting for header service LFO before continuing\n",
      "RemoteEvent(ATHeaderService, 0, logMessage) falling behind; read 10 messages\n",
      "Waiting for header service LFO before continuing\n",
      "RemoteEvent(ATHeaderService, 0, logMessage) falling behind; read 12 messages\n",
      "Waiting for header service LFO before continuing\n",
      "Waiting for header service LFO before continuing\n",
      "Waiting for header service LFO before continuing\n",
      "Waiting for header service LFO before continuing\n",
      "Waiting for header service LFO before continuing\n",
      "Waiting for header service LFO before continuing\n",
      "RemoteEvent(ATHeaderService, 0, logMessage) falling behind; read 14 messages\n",
      "Waiting for header service LFO before continuing\n",
      "RemoteEvent(ATHeaderService, 0, logMessage) falling behind; read 10 messages\n",
      "Waiting for header service LFO before continuing\n",
      "Waiting for header service LFO before continuing\n",
      "RemoteEvent(ATHeaderService, 0, logMessage) falling behind; read 12 messages\n",
      "Waiting for header service LFO before continuing\n",
      "Waiting for header service LFO before continuing\n",
      "RemoteEvent(ATHeaderService, 0, logMessage) falling behind; read 11 messages\n",
      "Waiting for header service LFO before continuing\n",
      "RemoteEvent(ATHeaderService, 0, logMessage) falling behind; read 15 messages\n",
      "Waiting for header service LFO before continuing\n",
      "Waiting for header service LFO before continuing\n",
      "RemoteEvent(ATHeaderService, 0, logMessage) falling behind; read 12 messages\n",
      "Waiting for header service LFO before continuing\n",
      "RemoteEvent(ATHeaderService, 0, logMessage) falling behind; read 18 messages\n",
      "Waiting for header service LFO before continuing\n",
      "Waiting for header service LFO before continuing\n",
      "Waiting for header service LFO before continuing\n",
      "Waiting for header service LFO before continuing\n",
      "Waiting for header service LFO before continuing\n",
      "Waiting for header service LFO before continuing\n",
      "Waiting for header service LFO before continuing\n",
      "Waiting for header service LFO before continuing\n",
      "Waiting for header service LFO before continuing\n",
      "Waiting for header service LFO before continuing\n",
      "Waiting for header service LFO before continuing\n",
      "Waiting for header service LFO before continuing\n",
      "Waiting for header service LFO before continuing\n",
      "Waiting for header service LFO before continuing\n",
      "RemoteEvent(ATHeaderService, 0, logMessage) falling behind; read 10 messages\n",
      "Waiting for header service LFO before continuing\n",
      "RemoteEvent(ATHeaderService, 0, logMessage) falling behind; read 12 messages\n",
      "Waiting for header service LFO before continuing\n",
      "Waiting for header service LFO before continuing\n",
      "RemoteEvent(ATHeaderService, 0, logMessage) falling behind; read 11 messages\n",
      "Waiting for header service LFO before continuing\n",
      "RemoteEvent(ATHeaderService, 0, logMessage) falling behind; read 11 messages\n",
      "Waiting for header service LFO before continuing\n",
      "Waiting for header service LFO before continuing\n",
      "RemoteEvent(ATHeaderService, 0, logMessage) falling behind; read 11 messages\n",
      "Waiting for header service LFO before continuing\n",
      "Waiting for header service LFO before continuing\n",
      "Waiting for header service LFO before continuing\n",
      "Waiting for header service LFO before continuing\n",
      "Waiting for header service LFO before continuing\n",
      "RemoteEvent(ATHeaderService, 0, logMessage) falling behind; read 11 messages\n",
      "Waiting for header service LFO before continuing\n",
      "RemoteEvent(ATHeaderService, 0, logMessage) falling behind; read 12 messages\n",
      "Waiting for header service LFO before continuing\n",
      "RemoteEvent(ATHeaderService, 0, logMessage) falling behind; read 11 messages\n",
      "Waiting for header service LFO before continuing\n",
      "RemoteEvent(ATHeaderService, 0, logMessage) falling behind; read 13 messages\n"
     ]
    }
   ],
   "source": [
    "await latiss.take_flats(exptime=1.5, \n",
    "                        nflats=50, \n",
    "                        filter=\"empty_3\",\n",
    "                        grating=\"empty_1\")"
   ]
  },
  {
   "cell_type": "code",
   "execution_count": 49,
   "metadata": {},
   "outputs": [
    {
     "name": "stdout",
     "output_type": "stream",
     "text": [
      "Waiting for header service LFO before continuing\n",
      "RemoteEvent(ATHeaderService, 0, logMessage) falling behind; read 12 messages\n",
      "Waiting for header service LFO before continuing\n",
      "RemoteEvent(ATHeaderService, 0, logMessage) falling behind; read 11 messages\n",
      "Waiting for header service LFO before continuing\n",
      "Waiting for header service LFO before continuing\n",
      "RemoteEvent(ATHeaderService, 0, logMessage) falling behind; read 13 messages\n",
      "Waiting for header service LFO before continuing\n",
      "Waiting for header service LFO before continuing\n",
      "RemoteEvent(ATHeaderService, 0, logMessage) falling behind; read 14 messages\n",
      "Waiting for header service LFO before continuing\n",
      "RemoteEvent(ATHeaderService, 0, logMessage) falling behind; read 10 messages\n",
      "Waiting for header service LFO before continuing\n",
      "RemoteEvent(ATHeaderService, 0, logMessage) falling behind; read 10 messages\n",
      "Waiting for header service LFO before continuing\n",
      "Waiting for header service LFO before continuing\n"
     ]
    }
   ],
   "source": [
    "await latiss.take_bias(nbias=10)"
   ]
  },
  {
   "cell_type": "code",
   "execution_count": null,
   "metadata": {},
   "outputs": [
    {
     "name": "stdout",
     "output_type": "stream",
     "text": [
      "Waiting for header service LFO before continuing\n",
      "Waiting for header service LFO before continuing\n",
      "RemoteEvent(ATHeaderService, 0, logMessage) falling behind; read 10 messages\n"
     ]
    }
   ],
   "source": [
    "await latiss.take_darks(exptime=100., ndarks=10)"
   ]
  },
  {
   "cell_type": "code",
   "execution_count": null,
   "metadata": {},
   "outputs": [],
   "source": []
  }
 ],
 "metadata": {
  "kernelspec": {
   "display_name": "Python 3",
   "language": "python",
   "name": "python3"
  },
  "language_info": {
   "codemirror_mode": {
    "name": "ipython",
    "version": 3
   },
   "file_extension": ".py",
   "mimetype": "text/x-python",
   "name": "python",
   "nbconvert_exporter": "python",
   "pygments_lexer": "ipython3",
   "version": "3.7.2"
  }
 },
 "nbformat": 4,
 "nbformat_minor": 4
}
