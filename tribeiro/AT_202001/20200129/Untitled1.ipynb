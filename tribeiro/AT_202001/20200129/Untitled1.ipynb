{
 "cells": [
  {
   "cell_type": "code",
   "execution_count": 1,
   "metadata": {},
   "outputs": [],
   "source": [
    "import os\n",
    "import sys\n",
    "import copy\n",
    "import wget\n",
    "import time\n",
    "import asyncio\n",
    "import warnings\n",
    "import logging\n",
    "from astropy import time as astropytime\n",
    "\n",
    "import astropy.units as u\n",
    "from astropy.coordinates import AltAz, ICRS, EarthLocation, Angle\n",
    "\n",
    "import numpy as np\n",
    "\n",
    "from lsst.ts import salobj\n",
    "from lsst.ts.standardscripts.auxtel.attcs import ATTCS\n",
    "from lsst.ts.standardscripts.auxtel.latiss import LATISS\n",
    "\n",
    "%matplotlib inline"
   ]
  },
  {
   "cell_type": "code",
   "execution_count": 2,
   "metadata": {},
   "outputs": [],
   "source": [
    "stream_handler = logging.StreamHandler(sys.stdout)\n",
    "\n",
    "logger = logging.getLogger()\n",
    "logger.addHandler(stream_handler)\n",
    "logger.level = logging.DEBUG"
   ]
  },
  {
   "cell_type": "code",
   "execution_count": 3,
   "metadata": {},
   "outputs": [
    {
     "name": "stdout",
     "output_type": "stream",
     "text": [
      "Read historical data in 5.00 sec\n",
      "Read historical data in 5.51 sec\n",
      "Read historical data in 6.49 sec\n",
      "Read historical data in 7.62 sec\n",
      "Read historical data in 8.36 sec\n",
      "Read historical data in 9.51 sec\n",
      "Read historical data in 10.70 sec\n",
      "RemoteTelemetry(ATDome, 0, position) falling behind; read 21 messages\n"
     ]
    },
    {
     "data": {
      "text/plain": [
       "[None, None, None, None, None, None, None]"
      ]
     },
     "execution_count": 3,
     "metadata": {},
     "output_type": "execute_result"
    },
    {
     "name": "stdout",
     "output_type": "stream",
     "text": [
      "RemoteTelemetry(ATPtg, 0, timeAndDate) falling behind; read 15 messages\n",
      "RemoteTelemetry(ATPtg, 0, mountStatus) falling behind; read 17 messages\n",
      "RemoteTelemetry(ATPtg, 0, guidingAndOffsets) falling behind; read 17 messages\n",
      "RemoteTelemetry(ATPtg, 0, currentTargetStatus) falling behind; read 18 messages\n"
     ]
    }
   ],
   "source": [
    "attcs = ATTCS()\n",
    "\n",
    "await attcs.start_task "
   ]
  },
  {
   "cell_type": "code",
   "execution_count": 4,
   "metadata": {},
   "outputs": [
    {
     "data": {
      "text/plain": [
       "[<State.FAULT: 3>, <State.STANDBY: 5>, <State.DISABLED: 1>, <State.ENABLED: 2>]"
      ]
     },
     "execution_count": 4,
     "metadata": {},
     "output_type": "execute_result"
    }
   ],
   "source": [
    "await salobj.set_summary_state(attcs.atmcs, salobj.State.ENABLED)"
   ]
  },
  {
   "cell_type": "code",
   "execution_count": 5,
   "metadata": {},
   "outputs": [
    {
     "data": {
      "text/plain": [
       "[<State.FAULT: 3>, <State.STANDBY: 5>, <State.DISABLED: 1>, <State.ENABLED: 2>]"
      ]
     },
     "execution_count": 5,
     "metadata": {},
     "output_type": "execute_result"
    }
   ],
   "source": [
    "await salobj.set_summary_state(attcs.atptg, salobj.State.ENABLED)"
   ]
  },
  {
   "cell_type": "code",
   "execution_count": 6,
   "metadata": {},
   "outputs": [
    {
     "name": "stdout",
     "output_type": "stream",
     "text": [
      "Disabling ATAOS corrections\n",
      "Disable ATDomeTrajectory\n",
      "Slew telescope to Park position.\n",
      "Flushing events\n",
      "Sending command\n",
      "Scheduling check coroutines\n",
      "process as completed...\n",
      "[Telescope] delta Alt = +040.999 | delta Az= +154.286\n",
      "[Telescope] delta Alt = +040.335 | delta Az= +155.047\n",
      "[Telescope] delta Alt = +036.638 | delta Az= +158.810\n",
      "[Telescope] delta Alt = +032.640 | delta Az= +162.808\n",
      "[Telescope] delta Alt = +030.638 | delta Az= +164.808\n",
      "[Telescope] delta Alt = +026.645 | delta Az= +168.809\n",
      "[Telescope] delta Alt = +022.692 | delta Az= +172.809\n",
      "[Telescope] delta Alt = +018.834 | delta Az= +176.809\n",
      "[Telescope] delta Alt = +016.967 | delta Az= +178.809\n",
      "[Telescope] delta Alt = +013.403 | delta Az= -177.190\n",
      "[Telescope] delta Alt = +010.141 | delta Az= -173.190\n",
      "[Telescope] delta Alt = +007.259 | delta Az= -169.190\n",
      "[Telescope] delta Alt = +004.836 | delta Az= -165.190\n",
      "[Telescope] delta Alt = +002.912 | delta Az= -161.190\n",
      "[Telescope] delta Alt = +001.512 | delta Az= -157.191\n",
      "[Telescope] delta Alt = +000.614 | delta Az= -153.191\n",
      "[Telescope] delta Alt = +000.333 | delta Az= -151.190\n",
      "[Telescope] delta Alt = +000.050 | delta Az= -147.191\n",
      "[Telescope] delta Alt = +000.008 | delta Az= -145.191\n",
      "[Telescope] delta Alt = -000.000 | delta Az= -141.192\n",
      "[Telescope] delta Alt = -000.000 | delta Az= -137.192\n",
      "[Telescope] delta Alt = -000.000 | delta Az= -133.191\n",
      "[Telescope] delta Alt = +000.000 | delta Az= -129.191\n",
      "[Telescope] delta Alt = +000.000 | delta Az= -125.191\n",
      "[Telescope] delta Alt = +000.000 | delta Az= -121.191\n",
      "[Telescope] delta Alt = -000.000 | delta Az= -117.191\n",
      "[Telescope] delta Alt = +000.000 | delta Az= -113.190\n",
      "[Telescope] delta Alt = +000.000 | delta Az= -109.191\n",
      "[Telescope] delta Alt = +000.000 | delta Az= -105.191\n",
      "[Telescope] delta Alt = +000.000 | delta Az= -101.191\n",
      "[Telescope] delta Alt = -000.000 | delta Az= -097.191\n",
      "[Telescope] delta Alt = +000.000 | delta Az= -093.191\n",
      "[Telescope] delta Alt = -000.000 | delta Az= -089.191\n",
      "[Telescope] delta Alt = -000.000 | delta Az= -085.192\n",
      "[Telescope] delta Alt = +000.000 | delta Az= -081.191\n",
      "[Telescope] delta Alt = +000.000 | delta Az= -079.190\n",
      "[Telescope] delta Alt = -000.000 | delta Az= -075.191\n",
      "[Telescope] delta Alt = -000.000 | delta Az= -071.191\n",
      "[Telescope] delta Alt = +000.000 | delta Az= -067.190\n",
      "[Telescope] delta Alt = -000.000 | delta Az= -063.192\n",
      "[Telescope] delta Alt = -000.000 | delta Az= -059.191\n",
      "[Telescope] delta Alt = +000.000 | delta Az= -055.190\n",
      "[Telescope] delta Alt = -000.000 | delta Az= -051.192\n",
      "[Telescope] delta Alt = +000.000 | delta Az= -047.191\n",
      "[Telescope] delta Alt = -000.000 | delta Az= -043.190\n",
      "[Telescope] delta Alt = -000.000 | delta Az= -039.191\n",
      "[Telescope] delta Alt = +000.000 | delta Az= -035.191\n",
      "[Telescope] delta Alt = -000.000 | delta Az= -031.191\n",
      "[Telescope] delta Alt = -000.000 | delta Az= -029.193\n",
      "[Telescope] delta Alt = +000.000 | delta Az= -025.208\n",
      "[Telescope] delta Alt = -000.000 | delta Az= -021.281\n",
      "[Telescope] delta Alt = +000.000 | delta Az= -017.482\n",
      "[Telescope] delta Alt = -000.000 | delta Az= -013.885\n",
      "[Telescope] delta Alt = +000.000 | delta Az= -012.189\n",
      "[Telescope] delta Alt = +000.000 | delta Az= -009.058\n",
      "[Telescope] delta Alt = +000.000 | delta Az= -006.338\n",
      "[Telescope] delta Alt = +000.000 | delta Az= -004.090\n",
      "[Telescope] delta Alt = +000.000 | delta Az= -002.355\n",
      "[Telescope] delta Alt = +000.000 | delta Az= -001.138\n",
      "[Telescope] delta Alt = +000.000 | delta Az= -000.406\n",
      "[Telescope] delta Alt = +000.000 | delta Az= -000.074\n",
      "[Telescope] delta Alt = +000.000 | delta Az= -000.001\n",
      "Axes in position.\n",
      "None\n",
      "Cover state <MirrorCoverState.OPENED: 7>\n",
      "Closing M1 cover.\n",
      "Cover state <MirrorCoverState.OPENED: 7>\n",
      "Cover state <MirrorCoverState.INMOTION: 8>\n",
      "Cover state <MirrorCoverState.CLOSED: 6>\n",
      "Close dome.\n",
      "ATDome Shutter Door is already closed. Ignoring.\n",
      "Slew dome to Park position.\n",
      "Timed out trying to get azimuth in position from the dome just after command was sent. Continuing...\n",
      "[Dome] delta Az = -095.050\n",
      "[Dome] delta Az = -093.770\n",
      "[Dome] delta Az = -092.260\n",
      "[Dome] delta Az = -090.510\n",
      "[Dome] delta Az = -088.530\n",
      "[Dome] delta Az = -086.340\n",
      "[Dome] delta Az = -083.910\n",
      "[Dome] delta Az = -081.240\n",
      "[Dome] delta Az = -078.350\n",
      "[Dome] delta Az = -075.250\n",
      "[Dome] delta Az = -071.910\n",
      "[Dome] delta Az = -068.470\n",
      "[Dome] delta Az = -065.010\n",
      "[Dome] delta Az = -061.560\n",
      "[Dome] delta Az = -058.100\n",
      "[Dome] delta Az = -054.650\n",
      "[Dome] delta Az = -051.200\n",
      "[Dome] delta Az = -047.760\n",
      "[Dome] delta Az = -044.300\n",
      "[Dome] delta Az = -040.870\n",
      "[Dome] delta Az = -037.400\n",
      "[Dome] delta Az = -033.960\n",
      "[Dome] delta Az = -030.530\n",
      "[Dome] delta Az = -027.080\n",
      "[Dome] delta Az = -023.640\n",
      "[Dome] delta Az = -020.190\n",
      "[Dome] delta Az = -016.750\n",
      "[Dome] delta Az = -013.300\n",
      "[Dome] delta Az = -009.880\n",
      "[Dome] delta Az = -006.430\n",
      "[Dome] delta Az = -003.050\n",
      "Axes in position.\n",
      "Put all CSCs in standby\n",
      "[atmcs]::[<State.ENABLED: 2>, <State.DISABLED: 1>, <State.STANDBY: 5>]\n",
      "[atptg]::[<State.ENABLED: 2>, <State.DISABLED: 1>, <State.STANDBY: 5>]\n",
      "[ataos]::[<State.ENABLED: 2>, <State.DISABLED: 1>, <State.STANDBY: 5>]\n",
      "[atpneumatics]::[<State.ENABLED: 2>, <State.DISABLED: 1>, <State.STANDBY: 5>]\n",
      "[athexapod]::[<State.ENABLED: 2>, <State.DISABLED: 1>, <State.STANDBY: 5>]\n",
      "[atdome]::[<State.ENABLED: 2>, <State.DISABLED: 1>, <State.STANDBY: 5>]\n",
      "[atdometrajectory]::[<State.DISABLED: 1>, <State.STANDBY: 5>]\n",
      "All components in standby.\n"
     ]
    }
   ],
   "source": [
    "await attcs.shutdown()"
   ]
  },
  {
   "cell_type": "code",
   "execution_count": null,
   "metadata": {},
   "outputs": [],
   "source": []
  }
 ],
 "metadata": {
  "kernelspec": {
   "display_name": "Python 3",
   "language": "python",
   "name": "python3"
  },
  "language_info": {
   "codemirror_mode": {
    "name": "ipython",
    "version": 3
   },
   "file_extension": ".py",
   "mimetype": "text/x-python",
   "name": "python",
   "nbconvert_exporter": "python",
   "pygments_lexer": "ipython3",
   "version": "3.7.2"
  }
 },
 "nbformat": 4,
 "nbformat_minor": 4
}
