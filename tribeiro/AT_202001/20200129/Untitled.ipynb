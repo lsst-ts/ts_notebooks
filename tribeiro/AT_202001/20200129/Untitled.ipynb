{
 "cells": [
  {
   "cell_type": "markdown",
   "metadata": {},
   "source": [
    "    1 - Figure out focus offsets:\n",
    "\n",
    "        1.1 - Focus on the red end of the spectrum not on the star.\n",
    "\n",
    "        1.2 - Measure psf on the star\n",
    "\n",
    "        1.3 - Take grating out and defocus so that it has the same width"
   ]
  },
  {
   "cell_type": "code",
   "execution_count": null,
   "metadata": {},
   "outputs": [],
   "source": []
  }
 ],
 "metadata": {
  "kernelspec": {
   "display_name": "Python 3",
   "language": "python",
   "name": "python3"
  },
  "language_info": {
   "codemirror_mode": {
    "name": "ipython",
    "version": 3
   },
   "file_extension": ".py",
   "mimetype": "text/x-python",
   "name": "python",
   "nbconvert_exporter": "python",
   "pygments_lexer": "ipython3",
   "version": "3.7.2"
  }
 },
 "nbformat": 4,
 "nbformat_minor": 4
}
