{
 "cells": [
  {
   "cell_type": "code",
   "execution_count": null,
   "metadata": {},
   "outputs": [],
   "source": [
    "import os\n",
    "import copy\n",
    "import time\n",
    "import asyncio\n",
    "import warnings\n",
    "import logging\n",
    "\n",
    "from pathlib import Path\n",
    "\n",
    "import numpy as np\n",
    "from astropy.io import fits\n",
    "\n",
    "from scipy import ndimage\n",
    "from scipy.signal import medfilt\n",
    "from scipy.ndimage.filters import gaussian_filter\n",
    "from astropy.modeling import models, fitting\n",
    "\n",
    "\n",
    "import matplotlib.pyplot as plt\n",
    "plt.rcParams['figure.figsize'] = [7, 6]\n",
    "\n",
    "#Import CWFS package\n",
    "from lsst import cwfs\n",
    "from lsst.cwfs.instrument import Instrument\n",
    "from lsst.cwfs.algorithm import Algorithm\n",
    "from lsst.cwfs.image import Image, readFile, aperture2image, showProjection\n",
    "import lsst.cwfs.plots as plots\n",
    "\n",
    "%matplotlib inline"
   ]
  },
  {
   "cell_type": "code",
   "execution_count": null,
   "metadata": {},
   "outputs": [],
   "source": [
    "import wget"
   ]
  },
  {
   "cell_type": "code",
   "execution_count": null,
   "metadata": {},
   "outputs": [],
   "source": [
    "from lsst.ts import salobj\n",
    "from lsst.ts.standardscripts.auxtel.attcs import ATTCS\n",
    "import asyncio"
   ]
  },
  {
   "cell_type": "code",
   "execution_count": null,
   "metadata": {},
   "outputs": [],
   "source": [
    "attcs = ATTCS()\n",
    "cam = salobj.Remote(attcs.domain, \"GenericCamera\", 1)"
   ]
  },
  {
   "cell_type": "code",
   "execution_count": null,
   "metadata": {},
   "outputs": [],
   "source": [
    "await asyncio.gather(attcs.start_task, cam.start_task) "
   ]
  },
  {
   "cell_type": "markdown",
   "metadata": {},
   "source": [
    "## Declare target"
   ]
  },
  {
   "cell_type": "code",
   "execution_count": null,
   "metadata": {},
   "outputs": [],
   "source": [
    "# Declare target name\n",
    "target_name='k'"
   ]
  },
  {
   "cell_type": "code",
   "execution_count": null,
   "metadata": {},
   "outputs": [],
   "source": []
  },
  {
   "cell_type": "code",
   "execution_count": null,
   "metadata": {},
   "outputs": [],
   "source": [
    "# Print Hexapod Current position (given by last successful command)\n",
    "curr_hex_pos = await attcs.athexapod.evt_positionUpdate.aget(timeout=10)\n",
    "print('Current Hexapod position from evt_positionUpdate: \\n x= {}, \\n y= {}, \\n z= {}, \\n U= {}, \\n V= {}'\n",
    "      .format(curr_hex_pos.positionX, curr_hex_pos.positionY, curr_hex_pos.positionZ, curr_hex_pos.positionU, curr_hex_pos.positionV))"
   ]
  },
  {
   "cell_type": "code",
   "execution_count": null,
   "metadata": {},
   "outputs": [],
   "source": []
  },
  {
   "cell_type": "code",
   "execution_count": null,
   "metadata": {},
   "outputs": [],
   "source": [
    "hex_X, hex_Y, hex_Z, hex_U, hex_V, hex_R = [-4.350, 0.100, 0.518, 0.350, 0.220, 0.000]\n",
    "\n",
    "hex_X, hex_Y, hex_Z, hex_U, hex_V, hex_R = [-4.350, 0.100, 0.518-0.060, 0.350, 0.220, 0.000]\n",
    "\n",
    "print('Command to Hexapod in-focus position')\n",
    "await attcs.athexapod.cmd_moveToPosition.set_start(x=hex_X, \n",
    "                                                   y=hex_Y,\n",
    "                                                   z=hex_Z, \n",
    "                                                   u=hex_U, \n",
    "                                                   v=hex_V)"
   ]
  },
  {
   "cell_type": "code",
   "execution_count": null,
   "metadata": {},
   "outputs": [],
   "source": [
    "dz=1.5\n",
    "offset = 0./4.2\n",
    "expTime=60.0"
   ]
  },
  {
   "cell_type": "code",
   "execution_count": null,
   "metadata": {},
   "outputs": [],
   "source": []
  },
  {
   "cell_type": "code",
   "execution_count": null,
   "metadata": {},
   "outputs": [],
   "source": [
    "print(offset)"
   ]
  },
  {
   "cell_type": "code",
   "execution_count": null,
   "metadata": {},
   "outputs": [],
   "source": [
    "attcs.athexapod.evt_positionUpdate.flush()\n",
    "await attcs.ataos.cmd_applyAxisOffset.set_start(axis=\"z\", offset=offset)\n",
    "curr_hex_pos = await attcs.athexapod.evt_positionUpdate.next(flush=False, timeout=30)"
   ]
  },
  {
   "cell_type": "code",
   "execution_count": null,
   "metadata": {},
   "outputs": [],
   "source": [
    "# await cam.cmd_stopLiveView.start()"
   ]
  },
  {
   "cell_type": "code",
   "execution_count": null,
   "metadata": {},
   "outputs": [],
   "source": [
    "try:\n",
    "    await cam.cmd_stopLiveView.start()\n",
    "except salobj.AckError:\n",
    "    print(\"ack error\")\n",
    "\n",
    "# Intrafocal hexapod setting - offsets -0.5mm from central focus value above\n",
    "\n",
    "print('Move to intrafocal position')\n",
    "# await attcs.athexapod.cmd_moveToPosition.set_start(x=hex_X, y=hex_Y,\n",
    "#                                              z=hex_Z-dz, u=hex_U, v=hex_V)\n",
    "attcs.athexapod.evt_positionUpdate.flush()\n",
    "await attcs.ataos.cmd_applyAxisOffset.set_start(axis=\"z\", offset=-dz+offset)\n",
    "curr_hex_pos = await attcs.athexapod.evt_positionUpdate.next(flush=False, timeout=30)\n",
    "\n",
    "print('Take intrafocal image')\n",
    "cam.evt_endReadout.flush()\n",
    "\n",
    "await cam.cmd_takeImages.set_start(numImages=1, expTime=expTime, shutter=True, imageSequenceName=target_name+'_intra')\n",
    "\n",
    "intra_endron = await cam.evt_endReadout.next(flush=False, timeout=1)\n",
    "\n",
    "print(intra_endron.imageName)\n",
    "\n",
    "# Extrafocal hexapod setting\n",
    "print('Move to extra-focal hexapod position')\n",
    "# await attcs.athexapod.cmd_moveToPosition.set_start(x=hex_X, y=hex_Y,\n",
    "#                                                      z=hex_Z+dz, u=hex_U, v=hex_V)\n",
    "attcs.athexapod.evt_positionUpdate.flush()\n",
    "await attcs.ataos.cmd_applyAxisOffset.set_start(axis=\"z\", offset=dz+offset)\n",
    "curr_hex_pos = await attcs.athexapod.evt_positionUpdate.next(flush=False, timeout=30)\n",
    "\n",
    "# r.evt_endReadout.flush()\n",
    "print('Take extra-focal image')\n",
    "cam.evt_endReadout.flush()\n",
    "await cam.cmd_takeImages.set_start(numImages=1, expTime=expTime, shutter=True, imageSequenceName=target_name+'_extra')\n",
    "\n",
    "extra_endron = await cam.evt_endReadout.next(flush=False, timeout=1)\n",
    "\n",
    "print(extra_endron.imageName)\n",
    "\n",
    "try:\n",
    "    await cam.cmd_startLiveView.set_start(expTime=0.5)\n",
    "except salobj.AckError:\n",
    "    print(\"ack error\")\n",
    "\n",
    "attcs.athexapod.evt_positionUpdate.flush()\n",
    "await attcs.ataos.cmd_applyAxisOffset.set_start(axis=\"z\", offset=offset)\n",
    "curr_hex_pos = await attcs.athexapod.evt_positionUpdate.next(flush=False, timeout=30)\n",
    "\n",
    "intra_wget_url = 'http://139.229.170.216:8000/data/'+intra_endron.imageName+'.fits'\n",
    "extra_wget_url = 'http://139.229.170.216:8000/data/'+extra_endron.imageName+'.fits'\n",
    "intra_fname = wget.download(intra_wget_url)\n",
    "print(f\"============\")\n",
    "print(f'{intra_fname}')\n",
    "extra_fname = wget.download(extra_wget_url)\n",
    "print(f'{extra_fname}')\n",
    "print(f\"============\")"
   ]
  },
  {
   "cell_type": "code",
   "execution_count": null,
   "metadata": {},
   "outputs": [],
   "source": [
    "intra_fname,extra_fname"
   ]
  },
  {
   "cell_type": "code",
   "execution_count": null,
   "metadata": {},
   "outputs": [],
   "source": [
    "# Open fits files, note you can start here if your files exist already\n",
    "\n",
    "#intra_fname='I1_intra_20190908.fits'\n",
    "intra_exp=(fits.open(intra_fname))[0].data\n",
    "\n",
    "#extra_fname='I2_extra_20190908.fits'\n",
    "extra_exp=(fits.open(extra_fname))[0].data\n",
    "\n",
    "# Show images added together to estimate centroid\n",
    "plt.imshow(intra_exp+extra_exp)"
   ]
  },
  {
   "cell_type": "code",
   "execution_count": null,
   "metadata": {},
   "outputs": [],
   "source": [
    "# Define the image it will use to perform final center\n",
    "im_shape=intra_exp.shape\n",
    "side=200\n",
    "# Set to False to declare centroid manually!\n",
    "if True:\n",
    "    im= (intra_exp+extra_exp)\n",
    "    im_filtered = medfilt(im,[5,5])\n",
    "    im_filtered -= int(np.median(im_filtered))\n",
    "    mean = np.mean(im_filtered)\n",
    "#     im_filtered[im_filtered < mean] = 0.\n",
    "#     im_filtered[im_filtered > mean] = 1.\n",
    "    # iter 1\n",
    "    ceny, cenx = np.array(ndimage.measurements.center_of_mass(im_filtered), dtype=int)\n",
    "    # iter 2\n",
    "    intra_square = intra_exp[ceny-side:ceny+side, cenx-side:cenx+side] \n",
    "    extra_square = extra_exp[ceny-side:ceny+side, cenx-side:cenx+side]\n",
    "    im= (intra_square+extra_square)\n",
    "    im_filtered = medfilt(im,[5,5])\n",
    "    im_filtered -= int(np.median(im_filtered))\n",
    "    mean = np.mean(im_filtered)\n",
    "    im_filtered[im_filtered < mean] = 0.\n",
    "    im_filtered[im_filtered > mean] = 1.\n",
    "    # iter 1\n",
    "    cy2, cx2 = np.array(ndimage.measurements.center_of_mass(im_filtered), dtype=int)\n",
    "    print(cy2-side, cx2-side)    \n",
    "    ceny += (cy2-side)\n",
    "    cenx += (cx2-side)\n",
    "else:\n",
    "    # Manually declare where the center is\n",
    "    ceny=350 #round(im_shape[0]/2)\n",
    "    cenx=450 # round(im_shape[1]/2)\n",
    "side=150 # side length of image\n",
    "print('Creating stamps of centroid [y,x] = [{},{}] with a side length of {} pixels'.format(ceny,cenx,side))\n",
    "im_shape=intra_exp.shape\n",
    "intra_square = intra_exp[ceny-side:ceny+side, cenx-side:cenx+side] \n",
    "extra_square = extra_exp[ceny-side:ceny+side, cenx-side:cenx+side]"
   ]
  },
  {
   "cell_type": "code",
   "execution_count": null,
   "metadata": {},
   "outputs": [],
   "source": [
    "#Create object for CWFS code\n",
    "# Select where your object is, but ours will be on-axis\n",
    "fieldXY = [0.0,0.0]\n",
    "\n",
    "# I1/I2 get modified down below, so reset here\n",
    "I1 = None; I2=None\n",
    "I1 = Image(intra_square, fieldXY, Image.INTRA)\n",
    "I2 = Image(extra_square, fieldXY, Image.EXTRA)"
   ]
  },
  {
   "cell_type": "code",
   "execution_count": null,
   "metadata": {},
   "outputs": [],
   "source": [
    "# Declare instrument\n",
    "inst=Instrument('auxtel',I1.sizeinPix) # example\n",
    "hex_to_focus_scale = 41.0\n",
    "offset=0.5 *hex_to_focus_scale # [mm] multiply hexapod dz by magnification factor\n",
    "pixelsize = 3.6e-6*4 # 4 is the binning\n",
    "# FIXME: put an assertion here and calculate binning above based on change in image size, also pull offset from filename!\n",
    "\n",
    "print('Offset should be :{} [mm] at the focus, {} [mm] at the hexapod'.format(offset, offset/hex_to_focus_scale))\n",
    "print('Offset in file is :{} [mm] at the focus'.format(1e3*inst.offset))\n",
    "print('pixelSize should be: {}'.format(pixelsize))\n",
    "\n",
    "#declare algorithm\n",
    "# declare algorithm - exponential solver.\n",
    "algo=Algorithm('exp',inst,1) # example - but only want 11 Zernikes (Num_of_Zernikes)\n",
    "\n"
   ]
  },
  {
   "cell_type": "code",
   "execution_count": null,
   "metadata": {},
   "outputs": [],
   "source": [
    "# Plot images\n",
    "plots.plotImage(I1.image,'intra') \n",
    "#plots.plotImage(I_focus.image,'focus')\n",
    "plots.plotImage(I2.image,'extra')\n",
    "print('Extra-focal filename: {}'.format(extra_fname))\n",
    "print('Intra-focal filename: {}'.format(intra_fname))"
   ]
  },
  {
   "cell_type": "code",
   "execution_count": null,
   "metadata": {},
   "outputs": [],
   "source": [
    "algo.runIt(inst,I1,I2,'onAxis')\n",
    "print(algo.zer4UpNm)\n",
    "plots.plotZer(algo.zer4UpNm[0:9],'nm')"
   ]
  }
 ],
 "metadata": {
  "kernelspec": {
   "display_name": "Python 3",
   "language": "python",
   "name": "python3"
  },
  "language_info": {
   "codemirror_mode": {
    "name": "ipython",
    "version": 3
   },
   "file_extension": ".py",
   "mimetype": "text/x-python",
   "name": "python",
   "nbconvert_exporter": "python",
   "pygments_lexer": "ipython3",
   "version": "3.7.2"
  }
 },
 "nbformat": 4,
 "nbformat_minor": 4
}
