{
 "cells": [
  {
   "cell_type": "code",
   "execution_count": 76,
   "metadata": {},
   "outputs": [
    {
     "name": "stdout",
     "output_type": "stream",
     "text": [
      "Loaded backend module://ipykernel.pylab.backend_inline version unknown.\n"
     ]
    }
   ],
   "source": [
    "import os\n",
    "import sys\n",
    "import copy\n",
    "import wget\n",
    "import time\n",
    "import asyncio\n",
    "import warnings\n",
    "import logging\n",
    "\n",
    "import numpy as np\n",
    "\n",
    "from astropy import time as astropytime\n",
    "from lsst.ts import salobj\n",
    "from lsst.ts.standardscripts.auxtel.attcs import ATTCS\n",
    "from lsst.ts.standardscripts.auxtel.latiss import LATISS\n",
    "\n",
    "%matplotlib inline"
   ]
  },
  {
   "cell_type": "code",
   "execution_count": 2,
   "metadata": {},
   "outputs": [],
   "source": [
    "stream_handler = logging.StreamHandler(sys.stdout)\n",
    "\n",
    "logger = logging.getLogger()\n",
    "logger.addHandler(stream_handler)\n",
    "logger.level = logging.DEBUG"
   ]
  },
  {
   "cell_type": "code",
   "execution_count": 3,
   "metadata": {},
   "outputs": [
    {
     "name": "stdout",
     "output_type": "stream",
     "text": [
      "Read historical data in 2.12 sec\n",
      "Read historical data in 2.57 sec\n",
      "Read historical data in 3.69 sec\n",
      "Read historical data in 4.46 sec\n",
      "Read historical data in 5.53 sec\n",
      "RemoteEvent(ATDomeTrajectory, 0, logMessage) falling behind; read 79 messages\n",
      "Read historical data in 6.40 sec\n",
      "Read historical data in 7.36 sec\n",
      "RemoteTelemetry(ATDome, 0, position) falling behind; read 23 messages\n"
     ]
    },
    {
     "data": {
      "text/plain": [
       "[None, None, None, None, None, None, None]"
      ]
     },
     "execution_count": 3,
     "metadata": {},
     "output_type": "execute_result"
    },
    {
     "name": "stdout",
     "output_type": "stream",
     "text": [
      "RemoteTelemetry(ATPtg, 0, timeAndDate) falling behind; read 15 messages\n",
      "RemoteTelemetry(ATPtg, 0, mountStatus) falling behind; read 16 messages\n",
      "RemoteTelemetry(ATPtg, 0, guidingAndOffsets) falling behind; read 16 messages\n"
     ]
    }
   ],
   "source": [
    "attcs = ATTCS()\n",
    "# cam = salobj.Remote(attcs.domain, \"GenericCamera\", 1)\n",
    "\n",
    "await attcs.start_task"
   ]
  },
  {
   "cell_type": "code",
   "execution_count": 78,
   "metadata": {},
   "outputs": [
    {
     "name": "stdout",
     "output_type": "stream",
     "text": [
      "RemoteEvent(ATMCS, 0, target) falling behind; read 100 messages\n",
      "RemoteEvent(ATDomeTrajectory, 0, logMessage) falling behind; read 100 messages\n",
      "RemoteTelemetry(ATPtg, 0, mountStatus) falling behind; read 38 messages\n",
      "RemoteTelemetry(ATDome, 0, position) falling behind; read 37 messages\n",
      "RemoteTelemetry(ATPtg, 0, guidingAndOffsets) falling behind; read 39 messages\n",
      "Read historical data in 0.59 sec\n",
      "Read historical data in 0.93 sec\n",
      "Read historical data in 1.25 sec\n",
      "Read historical data in 1.88 sec\n",
      "RemoteTelemetry(ATPtg, 0, currentTargetStatus) falling behind; read 52 messages\n",
      "RemoteTelemetry(ATMCS, 0, trajectory) falling behind; read 10 messages\n",
      "RemoteEvent(ATHexapod, 0, heartbeat) falling behind; read 11 messages\n",
      "RemoteEvent(ATAOS, 0, heartbeat) falling behind; read 11 messages\n",
      "RemoteEvent(ATDomeTrajectory, 0, heartbeat) falling behind; read 11 messages\n",
      "RemoteTelemetry(ATMCS, 0, torqueDemand) falling behind; read 10 messages\n",
      "RemoteEvent(ATDome, 0, heartbeat) falling behind; read 11 messages\n",
      "RemoteTelemetry(ATPneumatics, 0, mainAirSourcePressure) falling behind; read 11 messages\n",
      "RemoteTelemetry(ATMCS, 0, nasymth_m3_mountMotorEncoders) falling behind; read 10 messages\n",
      "RemoteTelemetry(ATPtg, 0, timeAndDate) falling behind; read 53 messages\n",
      "RemoteTelemetry(ATPneumatics, 0, m2AirPressure) falling behind; read 11 messages\n",
      "RemoteTelemetry(ATMCS, 0, mount_Nasmyth_Encoders) falling behind; read 10 messages\n",
      "RemoteTelemetry(ATPneumatics, 0, m1AirPressure) falling behind; read 11 messages\n",
      "RemoteTelemetry(ATMCS, 0, mount_AzEl_Encoders) falling behind; read 10 messages\n",
      "RemoteTelemetry(ATMCS, 0, measuredTorque) falling behind; read 10 messages\n",
      "RemoteTelemetry(ATMCS, 0, measuredMotorVelocity) falling behind; read 10 messages\n",
      "RemoteTelemetry(ATMCS, 0, azEl_mountMotorEncoders) falling behind; read 11 messages\n",
      "RemoteEvent(ATMCS, 0, heartbeat) falling behind; read 11 messages\n",
      "RemoteEvent(ATPtg, 0, mountDataWarning) falling behind; read 12 messages\n"
     ]
    }
   ],
   "source": [
    "latiss = LATISS(attcs.domain)"
   ]
  },
  {
   "cell_type": "code",
   "execution_count": 79,
   "metadata": {},
   "outputs": [
    {
     "data": {
      "text/plain": [
       "[None, None, None, None]"
      ]
     },
     "execution_count": 79,
     "metadata": {},
     "output_type": "execute_result"
    }
   ],
   "source": [
    "await latiss.start_task"
   ]
  },
  {
   "cell_type": "code",
   "execution_count": null,
   "metadata": {},
   "outputs": [],
   "source": []
  },
  {
   "cell_type": "code",
   "execution_count": 4,
   "metadata": {},
   "outputs": [
    {
     "name": "stdout",
     "output_type": "stream",
     "text": [
      "RemoteTelemetry(ATPtg, 0, currentTargetStatus) falling behind; read 17 messages\n",
      "RemoteEvent(ATMCS, 0, target) falling behind; read 38 messages\n"
     ]
    }
   ],
   "source": [
    "# Declare target name\n",
    "target_name='HD107696'"
   ]
  },
  {
   "cell_type": "code",
   "execution_count": null,
   "metadata": {},
   "outputs": [],
   "source": [
    "await attcs.enable(settings={\n",
    "    'ataos': \"current\",\n",
    "    'atmcs': \"\",\n",
    "    'atptg': \"\",\n",
    "    'atpneumatics': \"\",\n",
    "    'athexapod': \"auxtel_201912_crazy.yaml\",\n",
    "    'atdome': \"test.yaml\",\n",
    "    'atdometrajectory': \"\"})"
   ]
  },
  {
   "cell_type": "code",
   "execution_count": null,
   "metadata": {},
   "outputs": [],
   "source": [
    "rotation_matrix = lambda angle: np.array([\n",
    "            [np.cos(np.radians(angle)), -np.sin(np.radians(angle)), 0.],\n",
    "            [np.sin(np.radians(angle)), np.cos(np.radians(angle)), 0.],\n",
    "            [0., 0., 1.]])"
   ]
  },
  {
   "cell_type": "code",
   "execution_count": 209,
   "metadata": {},
   "outputs": [
    {
     "name": "stdout",
     "output_type": "stream",
     "text": [
      "Flushing events\n",
      "Sending command\n",
      "Scheduling check coroutines\n",
      "process as completed...\n",
      "[Telescope] delta Alt = -000.049 | delta Az= +000.038 [Dome] delta Az = +000.247\n"
     ]
    },
    {
     "ename": "AttributeError",
     "evalue": "'NoneType' object has no attribute 'private_sndStamp'",
     "output_type": "error",
     "traceback": [
      "\u001b[0;31m\u001b[0m",
      "\u001b[0;31mAttributeError\u001b[0mTraceback (most recent call last)",
      "\u001b[0;32m<ipython-input-209-214197059f0e>\u001b[0m in \u001b[0;36masync-def-wrapper\u001b[0;34m()\u001b[0m\n",
      "\u001b[0;32m~/repos/ts_standardscripts/python/lsst/ts/standardscripts/auxtel/attcs.py\u001b[0m in \u001b[0;36mslew_icrs\u001b[0;34m(self, ra, dec, rot_sky, rot_pa, target_name, slew_timeout, track_id)\u001b[0m\n\u001b[1;32m    243\u001b[0m                         \u001b[0mrot_mode\u001b[0m\u001b[0;34m=\u001b[0m\u001b[0mATPtg\u001b[0m\u001b[0;34m.\u001b[0m\u001b[0mRotMode\u001b[0m\u001b[0;34m.\u001b[0m\u001b[0mFIELD\u001b[0m\u001b[0;34m,\u001b[0m\u001b[0;34m\u001b[0m\u001b[0;34m\u001b[0m\u001b[0m\n\u001b[1;32m    244\u001b[0m                         \u001b[0mslew_timeout\u001b[0m\u001b[0;34m=\u001b[0m\u001b[0mslew_timeout\u001b[0m\u001b[0;34m,\u001b[0m\u001b[0;34m\u001b[0m\u001b[0;34m\u001b[0m\u001b[0m\n\u001b[0;32m--> 245\u001b[0;31m                         track_id=track_id)\n\u001b[0m\u001b[1;32m    246\u001b[0m \u001b[0;34m\u001b[0m\u001b[0m\n\u001b[1;32m    247\u001b[0m     async def slew(self, ra, dec, rotPA=0., target_name=\"slew_icrs\",\n",
      "\u001b[0;32m~/repos/ts_standardscripts/python/lsst/ts/standardscripts/auxtel/attcs.py\u001b[0m in \u001b[0;36mslew\u001b[0;34m(self, ra, dec, rotPA, target_name, target_instance, frame, epoch, equinox, parallax, pmRA, pmDec, rv, dRA, dDec, rot_frame, rot_mode, slew_timeout, track_id)\u001b[0m\n\u001b[1;32m    289\u001b[0m \u001b[0;34m\u001b[0m\u001b[0m\n\u001b[1;32m    290\u001b[0m         await self._slew_to(self.atptg.cmd_raDecTarget,\n\u001b[0;32m--> 291\u001b[0;31m                             slew_timeout=slew_timeout)\n\u001b[0m\u001b[1;32m    292\u001b[0m \u001b[0;34m\u001b[0m\u001b[0m\n\u001b[1;32m    293\u001b[0m     async def slew_to_planet(self, planet,\n",
      "\u001b[0;32m~/repos/ts_standardscripts/python/lsst/ts/standardscripts/auxtel/attcs.py\u001b[0m in \u001b[0;36m_slew_to\u001b[0;34m(self, slew_cmd, slew_timeout)\u001b[0m\n\u001b[1;32m    858\u001b[0m         \u001b[0;32mfor\u001b[0m \u001b[0mres\u001b[0m \u001b[0;32min\u001b[0m \u001b[0masyncio\u001b[0m\u001b[0;34m.\u001b[0m\u001b[0mas_completed\u001b[0m\u001b[0;34m(\u001b[0m\u001b[0mcoro_list\u001b[0m\u001b[0;34m)\u001b[0m\u001b[0;34m:\u001b[0m\u001b[0;34m\u001b[0m\u001b[0;34m\u001b[0m\u001b[0m\n\u001b[1;32m    859\u001b[0m             \u001b[0;32mtry\u001b[0m\u001b[0;34m:\u001b[0m\u001b[0;34m\u001b[0m\u001b[0;34m\u001b[0m\u001b[0m\n\u001b[0;32m--> 860\u001b[0;31m                 \u001b[0mret_val\u001b[0m \u001b[0;34m=\u001b[0m \u001b[0;32mawait\u001b[0m \u001b[0mres\u001b[0m\u001b[0;34m\u001b[0m\u001b[0;34m\u001b[0m\u001b[0m\n\u001b[0m\u001b[1;32m    861\u001b[0m                 \u001b[0mself\u001b[0m\u001b[0;34m.\u001b[0m\u001b[0mlog\u001b[0m\u001b[0;34m.\u001b[0m\u001b[0mdebug\u001b[0m\u001b[0;34m(\u001b[0m\u001b[0mret_val\u001b[0m\u001b[0;34m)\u001b[0m\u001b[0;34m\u001b[0m\u001b[0;34m\u001b[0m\u001b[0m\n\u001b[1;32m    862\u001b[0m             \u001b[0;32mexcept\u001b[0m \u001b[0mRuntimeError\u001b[0m \u001b[0;32mas\u001b[0m \u001b[0mrte\u001b[0m\u001b[0;34m:\u001b[0m\u001b[0;34m\u001b[0m\u001b[0;34m\u001b[0m\u001b[0m\n",
      "\u001b[0;32m/opt/lsst/software/stack/python/miniconda3-4.7.10/envs/lsst-scipipe-4d7b902/lib/python3.7/asyncio/tasks.py\u001b[0m in \u001b[0;36m_wait_for_one\u001b[0;34m()\u001b[0m\n\u001b[1;32m    531\u001b[0m             \u001b[0;31m# Dummy value from _on_timeout().\u001b[0m\u001b[0;34m\u001b[0m\u001b[0;34m\u001b[0m\u001b[0;34m\u001b[0m\u001b[0m\n\u001b[1;32m    532\u001b[0m             \u001b[0;32mraise\u001b[0m \u001b[0mfutures\u001b[0m\u001b[0;34m.\u001b[0m\u001b[0mTimeoutError\u001b[0m\u001b[0;34m\u001b[0m\u001b[0;34m\u001b[0m\u001b[0m\n\u001b[0;32m--> 533\u001b[0;31m         \u001b[0;32mreturn\u001b[0m \u001b[0mf\u001b[0m\u001b[0;34m.\u001b[0m\u001b[0mresult\u001b[0m\u001b[0;34m(\u001b[0m\u001b[0;34m)\u001b[0m  \u001b[0;31m# May raise f.exception().\u001b[0m\u001b[0;34m\u001b[0m\u001b[0;34m\u001b[0m\u001b[0m\n\u001b[0m\u001b[1;32m    534\u001b[0m \u001b[0;34m\u001b[0m\u001b[0m\n\u001b[1;32m    535\u001b[0m     \u001b[0;32mfor\u001b[0m \u001b[0mf\u001b[0m \u001b[0;32min\u001b[0m \u001b[0mtodo\u001b[0m\u001b[0;34m:\u001b[0m\u001b[0;34m\u001b[0m\u001b[0;34m\u001b[0m\u001b[0m\n",
      "\u001b[0;32m~/repos/ts_standardscripts/python/lsst/ts/standardscripts/auxtel/attcs.py\u001b[0m in \u001b[0;36mwait_for_inposition\u001b[0;34m(self, timeout, cmd_ack)\u001b[0m\n\u001b[1;32m    929\u001b[0m \u001b[0;34m\u001b[0m\u001b[0m\n\u001b[1;32m    930\u001b[0m         \u001b[0;32mif\u001b[0m \u001b[0mself\u001b[0m\u001b[0;34m.\u001b[0m\u001b[0mcheck\u001b[0m\u001b[0;34m.\u001b[0m\u001b[0matmcs\u001b[0m\u001b[0;34m:\u001b[0m\u001b[0;34m\u001b[0m\u001b[0;34m\u001b[0m\u001b[0m\n\u001b[0;32m--> 931\u001b[0;31m             \u001b[0mstatus\u001b[0m\u001b[0;34m.\u001b[0m\u001b[0mappend\u001b[0m\u001b[0;34m(\u001b[0m\u001b[0;32mawait\u001b[0m \u001b[0mself\u001b[0m\u001b[0;34m.\u001b[0m\u001b[0mwait_for_atmcs_inposition\u001b[0m\u001b[0;34m(\u001b[0m\u001b[0mtimeout\u001b[0m\u001b[0;34m,\u001b[0m \u001b[0mcmd_ack\u001b[0m\u001b[0;34m)\u001b[0m\u001b[0;34m)\u001b[0m\u001b[0;34m\u001b[0m\u001b[0;34m\u001b[0m\u001b[0m\n\u001b[0m\u001b[1;32m    932\u001b[0m \u001b[0;34m\u001b[0m\u001b[0m\n\u001b[1;32m    933\u001b[0m         \u001b[0;32mif\u001b[0m \u001b[0mself\u001b[0m\u001b[0;34m.\u001b[0m\u001b[0mcheck\u001b[0m\u001b[0;34m.\u001b[0m\u001b[0matdome\u001b[0m\u001b[0;34m:\u001b[0m\u001b[0;34m\u001b[0m\u001b[0;34m\u001b[0m\u001b[0m\n",
      "\u001b[0;32m~/repos/ts_standardscripts/python/lsst/ts/standardscripts/auxtel/attcs.py\u001b[0m in \u001b[0;36mwait_for_atmcs_inposition\u001b[0;34m(self, timeout, cmd_ack)\u001b[0m\n\u001b[1;32m    960\u001b[0m \u001b[0;34m\u001b[0m\u001b[0m\n\u001b[1;32m    961\u001b[0m             \u001b[0;31m# make sure timestamp of event is after command was acknowledged.\u001b[0m\u001b[0;34m\u001b[0m\u001b[0;34m\u001b[0m\u001b[0;34m\u001b[0m\u001b[0m\n\u001b[0;32m--> 962\u001b[0;31m             \u001b[0;32mif\u001b[0m \u001b[0min_position\u001b[0m\u001b[0;34m.\u001b[0m\u001b[0mprivate_sndStamp\u001b[0m \u001b[0;34m<\u001b[0m \u001b[0mcmd_ack\u001b[0m\u001b[0;34m.\u001b[0m\u001b[0mprivate_sndStamp\u001b[0m\u001b[0;34m:\u001b[0m\u001b[0;34m\u001b[0m\u001b[0;34m\u001b[0m\u001b[0m\n\u001b[0m\u001b[1;32m    963\u001b[0m                 \u001b[0mself\u001b[0m\u001b[0;34m.\u001b[0m\u001b[0mlog\u001b[0m\u001b[0;34m.\u001b[0m\u001b[0mdebug\u001b[0m\u001b[0;34m(\u001b[0m\u001b[0;34m\"Received old event. Ignoring.\"\u001b[0m\u001b[0;34m)\u001b[0m\u001b[0;34m\u001b[0m\u001b[0;34m\u001b[0m\u001b[0m\n\u001b[1;32m    964\u001b[0m \u001b[0;34m\u001b[0m\u001b[0m\n",
      "\u001b[0;31mAttributeError\u001b[0m: 'NoneType' object has no attribute 'private_sndStamp'"
     ]
    },
    {
     "name": "stdout",
     "output_type": "stream",
     "text": [
      "[Telescope] delta Alt = +000.002 | delta Az= +000.001 [Dome] delta Az = +000.247\n",
      "Axes in position.\n"
     ]
    }
   ],
   "source": [
    "await attcs.slew_icrs(ra = \"12 22 49.43\", dec = \"-57 40 34.1\", rot_pa=45., target_name=target_name)"
   ]
  },
  {
   "cell_type": "code",
   "execution_count": 6,
   "metadata": {},
   "outputs": [
    {
     "name": "stdout",
     "output_type": "stream",
     "text": [
      "[Telescope] delta Alt = -000.001 | delta Az= +163.230 [Dome] delta Az = -067.956\n",
      "[Telescope] delta Alt = -000.001 | delta Az= +159.229 [Dome] delta Az = -061.086\n",
      "[Telescope] delta Alt = -000.000 | delta Az= +155.228 [Dome] delta Az = -054.216\n",
      "[Telescope] delta Alt = -000.000 | delta Az= +151.228 [Dome] delta Az = -047.956\n",
      "[Telescope] delta Alt = -000.001 | delta Az= +147.227 [Dome] delta Az = -040.376\n",
      "[Telescope] delta Alt = -000.000 | delta Az= +143.226 [Dome] delta Az = -034.186\n",
      "[Telescope] delta Alt = -000.001 | delta Az= +139.226 [Dome] delta Az = -027.286\n",
      "[Telescope] delta Alt = -000.001 | delta Az= +135.224 [Dome] delta Az = -020.376\n",
      "[Telescope] delta Alt = -000.001 | delta Az= +131.223 [Dome] delta Az = -013.486\n",
      "[Telescope] delta Alt = -000.001 | delta Az= +127.224 [Dome] delta Az = -006.546\n",
      "[Telescope] delta Alt = -000.000 | delta Az= +123.223 [Dome] delta Az = -000.396\n",
      "[Telescope] delta Alt = -000.000 | delta Az= +119.221 [Dome] delta Az = +002.494\n",
      "[Telescope] delta Alt = -000.001 | delta Az= +115.221 [Dome] delta Az = +003.014\n",
      "[Telescope] delta Alt = -000.001 | delta Az= +111.221 [Dome] delta Az = +003.014\n",
      "[Telescope] delta Alt = -000.001 | delta Az= +107.220 [Dome] delta Az = +003.014\n",
      "[Telescope] delta Alt = -000.001 | delta Az= +103.219 [Dome] delta Az = +003.014\n",
      "[Telescope] delta Alt = -000.000 | delta Az= +099.218 [Dome] delta Az = +003.014\n",
      "[Telescope] delta Alt = +000.000 | delta Az= +095.218 [Dome] delta Az = +003.014\n",
      "[Telescope] delta Alt = -000.001 | delta Az= +091.217 [Dome] delta Az = +003.014\n",
      "[Telescope] delta Alt = -000.001 | delta Az= +087.216 [Dome] delta Az = +003.014\n",
      "[Telescope] delta Alt = -000.001 | delta Az= +083.217 [Dome] delta Az = +003.014\n",
      "[Telescope] delta Alt = -000.001 | delta Az= +079.215 [Dome] delta Az = +003.014\n",
      "[Telescope] delta Alt = -000.000 | delta Az= +075.214 [Dome] delta Az = +003.014\n",
      "[Telescope] delta Alt = -000.001 | delta Az= +071.214 [Dome] delta Az = +003.014\n",
      "[Telescope] delta Alt = -000.001 | delta Az= +067.213 [Dome] delta Az = +003.014\n",
      "[Telescope] delta Alt = -000.001 | delta Az= +063.212 [Dome] delta Az = +003.014\n",
      "[Telescope] delta Alt = -000.001 | delta Az= +059.211 [Dome] delta Az = +003.014\n",
      "[Telescope] delta Alt = -000.000 | delta Az= +055.211 [Dome] delta Az = +003.014\n",
      "[Telescope] delta Alt = -000.001 | delta Az= +051.210 [Dome] delta Az = +003.014\n",
      "[Telescope] delta Alt = -000.001 | delta Az= +047.209 [Dome] delta Az = +003.014\n",
      "[Telescope] delta Alt = -000.001 | delta Az= +043.209 [Dome] delta Az = +003.014\n",
      "[Telescope] delta Alt = -000.001 | delta Az= +039.208 [Dome] delta Az = +003.014\n",
      "[Telescope] delta Alt = -000.000 | delta Az= +035.208 [Dome] delta Az = +003.014\n",
      "[Telescope] delta Alt = -000.000 | delta Az= +031.206 [Dome] delta Az = +003.014\n",
      "[Telescope] delta Alt = -000.001 | delta Az= +027.211 [Dome] delta Az = +003.014\n",
      "[Telescope] delta Alt = -000.001 | delta Az= +023.247 [Dome] delta Az = +003.014\n",
      "[Telescope] delta Alt = -000.001 | delta Az= +019.372 [Dome] delta Az = +003.014\n",
      "[Telescope] delta Alt = -000.000 | delta Az= +015.660 [Dome] delta Az = +003.014\n",
      "[Telescope] delta Alt = -000.000 | delta Az= +012.193 [Dome] delta Az = +003.014\n",
      "[Telescope] delta Alt = +000.001 | delta Az= +010.579 [Dome] delta Az = +003.014\n",
      "[Telescope] delta Alt = -000.000 | delta Az= +007.640 [Dome] delta Az = +003.014\n",
      "[Telescope] delta Alt = -000.001 | delta Az= +005.148 [Dome] delta Az = +003.014\n",
      "[Telescope] delta Alt = -000.000 | delta Az= +003.152 [Dome] delta Az = +003.014\n",
      "[Telescope] delta Alt = -000.000 | delta Az= +001.677 [Dome] delta Az = +003.014\n",
      "[Telescope] delta Alt = -000.000 | delta Az= +000.711 [Dome] delta Az = +003.014\n"
     ]
    },
    {
     "data": {
      "text/plain": [
       "<lsst.ts.salobj.ddsutil.ATDome_ackcmd_ff080bab at 0x7f4030807f98>"
      ]
     },
     "execution_count": 6,
     "metadata": {},
     "output_type": "execute_result"
    }
   ],
   "source": [
    "await attcs.atdome.cmd_openShutter.start()"
   ]
  },
  {
   "cell_type": "code",
   "execution_count": 36,
   "metadata": {},
   "outputs": [
    {
     "data": {
      "text/plain": [
       "<lsst.ts.salobj.ddsutil.ATPtg_ackcmd_2d655b72 at 0x7f40204ef198>"
      ]
     },
     "execution_count": 36,
     "metadata": {},
     "output_type": "execute_result"
    }
   ],
   "source": [
    "await attcs.atptg.cmd_focusName.set_start(focus=3)"
   ]
  },
  {
   "cell_type": "code",
   "execution_count": 56,
   "metadata": {},
   "outputs": [
    {
     "data": {
      "text/plain": [
       "(0.017619047619047618, 0.4580152671755725)"
      ]
     },
     "execution_count": 56,
     "metadata": {},
     "output_type": "execute_result"
    }
   ],
   "source": [
    "-1./4200.*-74, -1./131*-60"
   ]
  },
  {
   "cell_type": "code",
   "execution_count": 55,
   "metadata": {},
   "outputs": [],
   "source": [
    "attcs.athexapod.evt_positionUpdate.flush()\n",
    "await attcs.ataos.cmd_offset.set_start(x=0.,y=0.,z=-0.04)\n",
    "curr_hex_pos = await attcs.athexapod.evt_positionUpdate.next(flush=False, timeout=30)"
   ]
  },
  {
   "cell_type": "code",
   "execution_count": null,
   "metadata": {},
   "outputs": [],
   "source": [
    "attcs.athexapod.evt_positionUpdate.flush()\n",
    "await attcs.ataos.cmd_offset.set_start(x=-0.5,y=0.4,z=0.)\n",
    "curr_hex_pos = await attcs.athexapod.evt_positionUpdate.next(flush=False, timeout=30)"
   ]
  },
  {
   "cell_type": "code",
   "execution_count": null,
   "metadata": {},
   "outputs": [],
   "source": [
    "await attcs.atptg.cmd_offsetAzEl.set_start(az=49.-41.22144+27, el=16.+35-21.6, num=0) "
   ]
  },
  {
   "cell_type": "code",
   "execution_count": 54,
   "metadata": {},
   "outputs": [
    {
     "data": {
      "text/plain": [
       "-0.04119047619047619"
      ]
     },
     "execution_count": 54,
     "metadata": {},
     "output_type": "execute_result"
    }
   ],
   "source": [
    "-1./4200.*173"
   ]
  },
  {
   "cell_type": "code",
   "execution_count": null,
   "metadata": {},
   "outputs": [],
   "source": [
    "x = -60\n",
    "y = +80"
   ]
  },
  {
   "cell_type": "code",
   "execution_count": 57,
   "metadata": {},
   "outputs": [
    {
     "name": "stdout",
     "output_type": "stream",
     "text": [
      "RemoteEvent(ATMCS, 0, target) falling behind; read 49 messages\n",
      "RemoteEvent(ATDomeTrajectory, 0, logMessage) falling behind; read 20 messages\n",
      "RemoteTelemetry(ATMCS, 0, measuredMotorVelocity) falling behind; read 10 messages\n",
      "RemoteTelemetry(ATMCS, 0, azEl_mountMotorEncoders) falling behind; read 59 messages\n",
      "RemoteTelemetry(ATMCS, 0, trajectory) falling behind; read 57 messages\n",
      "RemoteTelemetry(ATMCS, 0, torqueDemand) falling behind; read 57 messages\n",
      "RemoteTelemetry(ATMCS, 0, nasymth_m3_mountMotorEncoders) falling behind; read 57 messages\n",
      "RemoteTelemetry(ATMCS, 0, mount_Nasmyth_Encoders) falling behind; read 57 messages\n",
      "RemoteTelemetry(ATMCS, 0, mount_AzEl_Encoders) falling behind; read 56 messages\n",
      "RemoteTelemetry(ATMCS, 0, measuredTorque) falling behind; read 55 messages\n",
      "RemoteEvent(ATMCS, 0, heartbeat) falling behind; read 53 messages\n",
      "RemoteTelemetry(ATHexapod, 0, positionStatus) falling behind; read 15 messages\n",
      "RemoteEvent(ATHexapod, 0, heartbeat) falling behind; read 36 messages\n",
      "RemoteEvent(ATMCS, 0, target) falling behind; read 26 messages\n",
      "RemoteEvent(ATDomeTrajectory, 0, logMessage) falling behind; read 19 messages\n",
      "RemoteEvent(ATDomeTrajectory, 0, logMessage) falling behind; read 12 messages\n",
      "RemoteEvent(ATMCS, 0, target) falling behind; read 88 messages\n",
      "RemoteTelemetry(ATMCS, 0, measuredTorque) falling behind; read 19 messages\n",
      "RemoteTelemetry(ATMCS, 0, measuredMotorVelocity) falling behind; read 19 messages\n",
      "RemoteTelemetry(ATMCS, 0, azEl_mountMotorEncoders) falling behind; read 18 messages\n",
      "RemoteEvent(ATMCS, 0, heartbeat) falling behind; read 22 messages\n",
      "RemoteTelemetry(ATMCS, 0, trajectory) falling behind; read 19 messages\n",
      "RemoteTelemetry(ATMCS, 0, torqueDemand) falling behind; read 15 messages\n",
      "RemoteTelemetry(ATMCS, 0, nasymth_m3_mountMotorEncoders) falling behind; read 14 messages\n",
      "RemoteTelemetry(ATMCS, 0, mount_Nasmyth_Encoders) falling behind; read 19 messages\n",
      "RemoteTelemetry(ATMCS, 0, mount_AzEl_Encoders) falling behind; read 18 messages\n",
      "RemoteEvent(ATMCS, 0, target) falling behind; read 20 messages\n",
      "RemoteEvent(ATDomeTrajectory, 0, logMessage) falling behind; read 18 messages\n"
     ]
    }
   ],
   "source": [
    "attcs.athexapod.evt_positionUpdate.flush()\n",
    "await attcs.ataos.cmd_offset.set_start(x=0.,y=0.,z=0.02*0.6)\n",
    "curr_hex_pos = await attcs.athexapod.evt_positionUpdate.next(flush=False, timeout=30)"
   ]
  },
  {
   "cell_type": "code",
   "execution_count": null,
   "metadata": {},
   "outputs": [],
   "source": [
    "-54.*0.4"
   ]
  },
  {
   "cell_type": "code",
   "execution_count": null,
   "metadata": {},
   "outputs": [],
   "source": [
    "-54*0.648854961832061"
   ]
  },
  {
   "cell_type": "code",
   "execution_count": null,
   "metadata": {},
   "outputs": [],
   "source": [
    "await attcs.ataos.cmd_offset.set_start(x=0.,y=0.,z=-0.8)\n",
    "\n"
   ]
  },
  {
   "cell_type": "code",
   "execution_count": 48,
   "metadata": {},
   "outputs": [
    {
     "data": {
      "text/plain": [
       "<lsst.ts.salobj.ddsutil.ATPtg_ackcmd_2d655b72 at 0x7f402283c8d0>"
      ]
     },
     "execution_count": 48,
     "metadata": {},
     "output_type": "execute_result"
    }
   ],
   "source": [
    "await attcs.atptg.cmd_offsetAzEl.set_start(az=200., el=-30., num=0) "
   ]
  },
  {
   "cell_type": "code",
   "execution_count": 49,
   "metadata": {},
   "outputs": [
    {
     "data": {
      "text/plain": [
       "<lsst.ts.salobj.ddsutil.ATPtg_ackcmd_2d655b72 at 0x7f401db02e80>"
      ]
     },
     "execution_count": 49,
     "metadata": {},
     "output_type": "execute_result"
    }
   ],
   "source": [
    "await attcs.atptg.cmd_offsetAzEl.set_start(az=0., el=0., num=0) "
   ]
  },
  {
   "cell_type": "markdown",
   "metadata": {},
   "source": [
    "Positive azimuth is negative y\n",
    "Positive elevation is posi"
   ]
  },
  {
   "cell_type": "code",
   "execution_count": 43,
   "metadata": {},
   "outputs": [
    {
     "data": {
      "text/plain": [
       "<lsst.ts.salobj.ddsutil.ATPtg_ackcmd_2d655b72 at 0x7f401da59f60>"
      ]
     },
     "execution_count": 43,
     "metadata": {},
     "output_type": "execute_result"
    }
   ],
   "source": [
    "await attcs.atptg.cmd_offsetAzEl.set_start(az=160., el=40., num=0) "
   ]
  },
  {
   "cell_type": "code",
   "execution_count": 17,
   "metadata": {},
   "outputs": [
    {
     "data": {
      "text/plain": [
       "<lsst.ts.salobj.ddsutil.ATPtg_ackcmd_2d655b72 at 0x7f4016502630>"
      ]
     },
     "execution_count": 17,
     "metadata": {},
     "output_type": "execute_result"
    }
   ],
   "source": [
    "await attcs.atptg.cmd_stopTracking.start()"
   ]
  },
  {
   "cell_type": "markdown",
   "metadata": {},
   "source": [
    "If rotator is aligned with boresight:\n",
    "\n",
    " +El-offset = -x-axis\n",
    "\n",
    " +Az-offset = -y-axis\n",
    " \n",
    " hexapod movement in y is movement in x\n",
    " "
   ]
  },
  {
   "cell_type": "code",
   "execution_count": null,
   "metadata": {},
   "outputs": [],
   "source": [
    "await attcs.atptg.cmd_offsetAzEl.set_start(az=49., el=16., num=0)"
   ]
  },
  {
   "cell_type": "code",
   "execution_count": null,
   "metadata": {},
   "outputs": [],
   "source": [
    "azel = await attcs.atmcs.tel_mount_AzEl_Encoders.aget()\n",
    "nasmyth = await attcs.atmcs.tel_mount_Nasmyth_Encoders.aget()\n",
    "angle = np.mean(azel.elevationCalculatedAngle)+np.mean(nasmyth.nasmyth1CalculatedAngle)\n",
    "el, az, _ = np.matmul([20, -18, 0.], rotation_matrix(angle))\n",
    "print(az,el)\n",
    "await attcs.atptg.cmd_offsetAzEl.set_start(az=az, el=el, num=0)\n"
   ]
  },
  {
   "cell_type": "code",
   "execution_count": null,
   "metadata": {},
   "outputs": [],
   "source": [
    "azel = await attcs.atmcs.tel_mount_AzEl_Encoders.aget()\n",
    "nasmyth = await attcs.atmcs.tel_mount_Nasmyth_Encoders.aget()\n",
    "angle = np.mean(azel.elevationCalculatedAngle)+np.mean(nasmyth.nasmyth1CalculatedAngle)\n",
    "el, az, _ = np.matmul([20-90., -18, 0.], rotation_matrix(angle))\n",
    "print(az,el)\n",
    "await attcs.atptg.cmd_offsetAzEl.set_start(az=az, el=el, num=0)\n",
    "\n"
   ]
  },
  {
   "cell_type": "code",
   "execution_count": null,
   "metadata": {},
   "outputs": [],
   "source": [
    "offset_x = (np.random.random()-0.5)*240.\n",
    "offset_y = (np.random.random()-0.5)*240.\n",
    "print(offset_x, offset_y)\n",
    "azel = await attcs.atmcs.tel_mount_AzEl_Encoders.aget()\n",
    "nasmyth = await attcs.atmcs.tel_mount_Nasmyth_Encoders.aget()\n",
    "angle = np.mean(azel.elevationCalculatedAngle)+np.mean(nasmyth.nasmyth1CalculatedAngle)\n",
    "el, az, _ = np.matmul([20+offset_x, -18+offset_y, 0.], rotation_matrix(angle))\n",
    "await attcs.atptg.cmd_offsetAzEl.set_start(az=az, el=el, num=0)\n"
   ]
  },
  {
   "cell_type": "code",
   "execution_count": null,
   "metadata": {},
   "outputs": [],
   "source": [
    "c = salobj.Controller(\"Script\", index=11)"
   ]
  },
  {
   "cell_type": "code",
   "execution_count": null,
   "metadata": {},
   "outputs": [],
   "source": [
    "await c.start_task"
   ]
  },
  {
   "cell_type": "code",
   "execution_count": null,
   "metadata": {},
   "outputs": [],
   "source": [
    "offset_x = (np.random.random()-0.5)*240.\n",
    "offset_y = (np.random.random()-0.5)*240.\n",
    "print(offset_x, offset_y)\n",
    "azel = await attcs.atmcs.tel_mount_AzEl_Encoders.aget()\n",
    "nasmyth = await attcs.atmcs.tel_mount_Nasmyth_Encoders.aget()\n",
    "angle = np.mean(azel.elevationCalculatedAngle)+np.mean(nasmyth.nasmyth1CalculatedAngle)\n",
    "el, az, _ = np.matmul([20+offset_x, -18+offset_y, 0.], rotation_matrix(angle))\n",
    "await attcs.atptg.cmd_offsetAzEl.set_start(az=az, el=el, num=0)\n",
    "\n"
   ]
  },
  {
   "cell_type": "code",
   "execution_count": null,
   "metadata": {},
   "outputs": [],
   "source": [
    "offset_x = (np.random.random()-0.5)*240.\n",
    "offset_y = (np.random.random()-0.5)*240.\n",
    "print(offset_x, offset_y)\n",
    "azel = await attcs.atmcs.tel_mount_AzEl_Encoders.aget()\n",
    "nasmyth = await attcs.atmcs.tel_mount_Nasmyth_Encoders.aget()\n",
    "angle = np.mean(azel.elevationCalculatedAngle)+np.mean(nasmyth.nasmyth1CalculatedAngle)\n",
    "el, az, _ = np.matmul([20+offset_x, -18+offset_y, 0.], rotation_matrix(angle))\n",
    "await attcs.atptg.cmd_offsetAzEl.set_start(az=az, el=el, num=0)"
   ]
  },
  {
   "cell_type": "code",
   "execution_count": null,
   "metadata": {},
   "outputs": [],
   "source": [
    "offset_x = (np.random.random()-0.5)*240.\n",
    "offset_y = (np.random.random()-0.5)*240.\n",
    "print(offset_x, offset_y)\n",
    "azel = await attcs.atmcs.tel_mount_AzEl_Encoders.aget()\n",
    "nasmyth = await attcs.atmcs.tel_mount_Nasmyth_Encoders.aget()\n",
    "angle = np.mean(azel.elevationCalculatedAngle)+np.mean(nasmyth.nasmyth1CalculatedAngle)\n",
    "el, az, _ = np.matmul([20+offset_x, -18+offset_y, 0.], rotation_matrix(angle))\n",
    "await attcs.atptg.cmd_offsetAzEl.set_start(az=az, el=el, num=0)"
   ]
  },
  {
   "cell_type": "code",
   "execution_count": null,
   "metadata": {},
   "outputs": [],
   "source": [
    "offset_x = (np.random.random()-0.5)*240.\n",
    "offset_y = (np.random.random()-0.5)*240.\n",
    "print(offset_x, offset_y)\n",
    "azel = await attcs.atmcs.tel_mount_AzEl_Encoders.aget()\n",
    "nasmyth = await attcs.atmcs.tel_mount_Nasmyth_Encoders.aget()\n",
    "angle = np.mean(azel.elevationCalculatedAngle)+np.mean(nasmyth.nasmyth1CalculatedAngle)\n",
    "el, az, _ = np.matmul([20+offset_x, -18+offset_y, 0.], rotation_matrix(angle))\n",
    "await attcs.atptg.cmd_offsetAzEl.set_start(az=az, el=el, num=0)"
   ]
  },
  {
   "cell_type": "code",
   "execution_count": null,
   "metadata": {},
   "outputs": [],
   "source": [
    "offset_x = (np.random.random()-0.5)*240.\n",
    "offset_y = (np.random.random()-0.5)*240.\n",
    "print(offset_x, offset_y)\n",
    "azel = await attcs.atmcs.tel_mount_AzEl_Encoders.aget()\n",
    "nasmyth = await attcs.atmcs.tel_mount_Nasmyth_Encoders.aget()\n",
    "angle = np.mean(azel.elevationCalculatedAngle)+np.mean(nasmyth.nasmyth1CalculatedAngle)\n",
    "el, az, _ = np.matmul([20+offset_x, -18+offset_y, 0.], rotation_matrix(angle))\n",
    "await attcs.atptg.cmd_offsetAzEl.set_start(az=az, el=el, num=0)"
   ]
  },
  {
   "cell_type": "code",
   "execution_count": null,
   "metadata": {},
   "outputs": [],
   "source": [
    "await attcs.ataos.cmd_offset.set_start(z=+0.05)\n",
    "curr_hex_pos = await attcs.athexapod.evt_positionUpdate.next(flush=False, timeout=30)"
   ]
  },
  {
   "cell_type": "code",
   "execution_count": null,
   "metadata": {},
   "outputs": [],
   "source": []
  },
  {
   "cell_type": "code",
   "execution_count": null,
   "metadata": {},
   "outputs": [],
   "source": []
  },
  {
   "cell_type": "code",
   "execution_count": null,
   "metadata": {},
   "outputs": [],
   "source": []
  },
  {
   "cell_type": "code",
   "execution_count": null,
   "metadata": {},
   "outputs": [],
   "source": []
  },
  {
   "cell_type": "code",
   "execution_count": null,
   "metadata": {},
   "outputs": [],
   "source": []
  },
  {
   "cell_type": "code",
   "execution_count": null,
   "metadata": {},
   "outputs": [],
   "source": []
  },
  {
   "cell_type": "code",
   "execution_count": null,
   "metadata": {},
   "outputs": [],
   "source": [
    "await attcs.enable(settings={\n",
    "    'ataos': \"current\",\n",
    "    'atmcs': \"\",\n",
    "    'atptg': \"\",\n",
    "    'atpneumatics': \"\",\n",
    "    'athexapod': \"auxtel_201912_crazy.yaml\",\n",
    "    'atdome': \"test.yaml\",\n",
    "    'atdometrajectory': \"\"})"
   ]
  },
  {
   "cell_type": "code",
   "execution_count": null,
   "metadata": {},
   "outputs": [],
   "source": [
    "rotation_matrix = lambda angle: np.array([\n",
    "            [np.cos(np.radians(angle)), -np.sin(np.radians(angle)), 0.],\n",
    "            [np.sin(np.radians(angle)), np.cos(np.radians(angle)), 0.],\n",
    "            [0., 0., 1.]])\n",
    "azel = await attcs.atmcs.tel_mount_AzEl_Encoders.aget()\n",
    "nasmyth = await attcs.atmcs.tel_mount_Nasmyth_Encoders.aget()\n",
    "angle = np.mean(azel.elevationCalculatedAngle)+np.mean(nasmyth.nasmyth1CalculatedAngle)\n",
    "el, az, _ = np.matmul([20, -18., 0.], rotation_matrix(angle))"
   ]
  },
  {
   "cell_type": "code",
   "execution_count": null,
   "metadata": {},
   "outputs": [],
   "source": [
    "el, az"
   ]
  },
  {
   "cell_type": "code",
   "execution_count": null,
   "metadata": {},
   "outputs": [],
   "source": [
    "await attcs.atptg.cmd_offsetAzEl.set_start(az=az, el=el, num=0)"
   ]
  },
  {
   "cell_type": "code",
   "execution_count": null,
   "metadata": {},
   "outputs": [],
   "source": [
    "5*360/24"
   ]
  },
  {
   "cell_type": "code",
   "execution_count": null,
   "metadata": {},
   "outputs": [],
   "source": [
    "attcs.slew_icrs?"
   ]
  },
  {
   "cell_type": "code",
   "execution_count": null,
   "metadata": {},
   "outputs": [],
   "source": [
    "await attcs.slew_icrs"
   ]
  },
  {
   "cell_type": "code",
   "execution_count": null,
   "metadata": {},
   "outputs": [],
   "source": [
    "await attcs.ataos.cmd_applyAxisOffset.set_start(axis=\"x\", offset=x_offset)\n",
    "await attcs.ataos.cmd_applyAxisOffset.set_start(axis=\"y\", offset=y_offset)"
   ]
  },
  {
   "cell_type": "code",
   "execution_count": null,
   "metadata": {},
   "outputs": [],
   "source": [
    "await attcs.ataos.cmd_applyAxisOffset.set_start(axis=\"z\", offset=focus_offset)"
   ]
  },
  {
   "cell_type": "code",
   "execution_count": null,
   "metadata": {},
   "outputs": [],
   "source": [
    "dz = 0.8\n",
    "\n",
    "try:\n",
    "    await cam.cmd_stopLiveView.start()\n",
    "except salobj.AckError:\n",
    "    print(\"ack error\")\n",
    "\n",
    "# Intrafocal hexapod setting - offsets -0.5mm from central focus value above\n",
    "\n",
    "print('Move to intrafocal position')\n",
    "# await attcs.athexapod.cmd_moveToPosition.set_start(x=hex_X, y=hex_Y,\n",
    "#                                              z=hex_Z-dz, u=hex_U, v=hex_V)\n",
    "attcs.athexapod.evt_positionUpdate.flush()\n",
    "await attcs.ataos.cmd_applyAxisOffset.set_start(axis=\"z\", offset=-dz+focus_offset)\n",
    "curr_hex_pos = await attcs.athexapod.evt_positionUpdate.next(flush=False, timeout=30)\n",
    "\n",
    "print('Take intrafocal image')\n",
    "cam.evt_endReadout.flush()\n",
    "\n",
    "await cam.cmd_takeImages.set_start(numImages=1, expTime=expTime, shutter=True, imageSequenceName=target_name+'_intra')\n",
    "\n",
    "intra_endron = await cam.evt_endReadout.next(flush=False, timeout=5)\n",
    "\n",
    "# Extrafocal hexapod setting\n",
    "print('Move to extra-focal hexapod position')\n",
    "# await attcs.athexapod.cmd_moveToPosition.set_start(x=hex_X, y=hex_Y,\n",
    "#                                                      z=hex_Z+dz, u=hex_U, v=hex_V)\n",
    "attcs.athexapod.evt_positionUpdate.flush()\n",
    "await attcs.ataos.cmd_applyAxisOffset.set_start(axis=\"z\", offset=dz+focus_offset)\n",
    "curr_hex_pos = await attcs.athexapod.evt_positionUpdate.next(flush=False, timeout=30)\n",
    "\n",
    "# r.evt_endReadout.flush()\n",
    "print('Take extra-focal image')\n",
    "cam.evt_endReadout.flush()\n",
    "await cam.cmd_takeImages.set_start(numImages=1, expTime=expTime, shutter=True, imageSequenceName=target_name+'_extra')\n",
    "\n",
    "extra_endron = await cam.evt_endReadout.next(flush=False, timeout=5)\n",
    "\n",
    "azel = await attcs.atmcs.tel_mount_AzEl_Encoders.aget()\n",
    "nasmyth = await attcs.atmcs.tel_mount_Nasmyth_Encoders.aget()\n",
    "\n",
    "print(f\"============\")\n",
    "print(f\"dz={dz}\")\n",
    "print(intra_endron.imageName)\n",
    "print(extra_endron.imageName)\n",
    "print(f\"============\")\n",
    "\n",
    "try:\n",
    "    await cam.cmd_startLiveView.set_start(expTime=0.5)\n",
    "except salobj.AckError:\n",
    "    print(\"ack error\")\n",
    "\n",
    "attcs.athexapod.evt_positionUpdate.flush()\n",
    "await attcs.ataos.cmd_applyAxisOffset.set_start(axis=\"z\", offset=focus_offset)\n",
    "curr_hex_pos = await attcs.athexapod.evt_positionUpdate.next(flush=False, timeout=30)\n",
    "\n",
    "print(f\"['{intra_endron.imageName}.fits'], ['{extra_endron.imageName}.fits']\")\n",
    "print(np.mean(azel.elevationCalculatedAngle)+np.mean(nasmyth.nasmyth1CalculatedAngle))\n",
    "\n",
    "# intra_wget_url = 'http://139.229.170.216:8000/data/'+intra_endron.imageName+'.fits'\n",
    "# extra_wget_url = 'http://139.229.170.216:8000/data/'+extra_endron.imageName+'.fits'\n",
    "# intra_fname = wget.download(intra_wget_url)\n",
    "# print(f\"============\")\n",
    "# print(f'{intra_fname}')\n",
    "# extra_fname = wget.download(extra_wget_url)\n",
    "# print(f'{extra_fname}')\n",
    "# print(f\"============\")\n"
   ]
  },
  {
   "cell_type": "code",
   "execution_count": null,
   "metadata": {},
   "outputs": [],
   "source": [
    "intra_wget_url = 'http://139.229.170.216:8000/data/'+intra_endron.imageName+'.fits'\n",
    "extra_wget_url = 'http://139.229.170.216:8000/data/'+extra_endron.imageName+'.fits'\n",
    "\n",
    "intra_fname = wget.download(intra_wget_url, out=\"/home/saluser/develop/cwfs/python/data\")\n",
    "extra_fname = wget.download(extra_wget_url, out=\"/home/saluser/develop/cwfs/python/data\")\n",
    "\n",
    "print(intra_fname,extra_fname)"
   ]
  },
  {
   "cell_type": "code",
   "execution_count": null,
   "metadata": {},
   "outputs": [],
   "source": []
  },
  {
   "cell_type": "code",
   "execution_count": null,
   "metadata": {},
   "outputs": [],
   "source": [
    "await attcs.ataos.cmd_offset.set_start(z=0.)"
   ]
  },
  {
   "cell_type": "code",
   "execution_count": null,
   "metadata": {},
   "outputs": [],
   "source": [
    "await attcs.ataos.cmd_resetOffset.start()"
   ]
  },
  {
   "cell_type": "code",
   "execution_count": null,
   "metadata": {},
   "outputs": [],
   "source": [
    "await attcs.ataos.cmd_offset.set_start(z=-0.1)\n",
    "curr_hex_pos = await attcs.athexapod.evt_positionUpdate.next(flush=False, timeout=30)\n",
    "print(\"done\")"
   ]
  },
  {
   "cell_type": "code",
   "execution_count": null,
   "metadata": {},
   "outputs": [],
   "source": [
    "await attcs.atdome.cmd_openShutter.start()"
   ]
  },
  {
   "cell_type": "code",
   "execution_count": null,
   "metadata": {},
   "outputs": [],
   "source": []
  },
  {
   "cell_type": "code",
   "execution_count": null,
   "metadata": {},
   "outputs": [],
   "source": []
  },
  {
   "cell_type": "code",
   "execution_count": null,
   "metadata": {},
   "outputs": [],
   "source": []
  },
  {
   "cell_type": "code",
   "execution_count": null,
   "metadata": {},
   "outputs": [],
   "source": []
  },
  {
   "cell_type": "code",
   "execution_count": 67,
   "metadata": {},
   "outputs": [
    {
     "name": "stdout",
     "output_type": "stream",
     "text": [
      "Read historical data in 0.00 sec\n",
      "RemoteEvent(ATDomeTrajectory, 0, logMessage) falling behind; read 14 messages\n",
      "RemoteEvent(ATMCS, 0, target) falling behind; read 15 messages\n"
     ]
    }
   ],
   "source": [
    "c = salobj.Controller(\"Script\", index=14)"
   ]
  },
  {
   "cell_type": "code",
   "execution_count": 68,
   "metadata": {},
   "outputs": [],
   "source": [
    "await c.start_task"
   ]
  },
  {
   "cell_type": "markdown",
   "metadata": {},
   "source": [
    "# Test of axis orientation on the camera."
   ]
  },
  {
   "cell_type": "markdown",
   "metadata": {},
   "source": [
    "## 1 - Take reference image with no offset. "
   ]
  },
  {
   "cell_type": "code",
   "execution_count": 146,
   "metadata": {},
   "outputs": [
    {
     "data": {
      "text/plain": [
       "True"
      ]
     },
     "execution_count": 146,
     "metadata": {},
     "output_type": "execute_result"
    }
   ],
   "source": [
    "c.evt_logMessage.set_put(message=\"Test of axis orientation on the camera. [START]\")"
   ]
  },
  {
   "cell_type": "code",
   "execution_count": 147,
   "metadata": {},
   "outputs": [
    {
     "data": {
      "text/plain": [
       "True"
      ]
     },
     "execution_count": 147,
     "metadata": {},
     "output_type": "execute_result"
    }
   ],
   "source": [
    "c.evt_logMessage.set_put(message=\"1 - Take reference image with no offset. [START]\")"
   ]
  },
  {
   "cell_type": "code",
   "execution_count": 148,
   "metadata": {},
   "outputs": [
    {
     "name": "stdout",
     "output_type": "stream",
     "text": [
      "error getting allAxesInPosition event.\n"
     ]
    }
   ],
   "source": [
    "attcs.atmcs.evt_allAxesInPosition.flush()\n",
    "await attcs.atptg.cmd_offsetAzEl.set_start(az=60, el=20, num=0) #refence offset\n",
    "try:\n",
    "    await attcs.atmcs.evt_allAxesInPosition.next(flush=False, timeout=30.)\n",
    "except asyncio.TimeoutError:\n",
    "    print(\"error getting allAxesInPosition event.\")"
   ]
  },
  {
   "cell_type": "code",
   "execution_count": 149,
   "metadata": {},
   "outputs": [
    {
     "name": "stdout",
     "output_type": "stream",
     "text": [
      "Waiting for header service LFO before continuing\n",
      "RemoteEvent(ATHeaderService, 0, logMessage) falling behind; read 11 messages\n",
      "AT_O_20200128_000361\n"
     ]
    }
   ],
   "source": [
    "exp_time=5.0 # seconds\n",
    "\n",
    "group_id=astropytime.Time.now().tai.isot\n",
    "\n",
    "image_1 = await latiss.take_image(exptime=exp_time, shutter=True,image_type='OBJECT',\n",
    "                                  group_id=group_id, filter='KPNO_406_828nm', grating='empty_1')# 'blank_bk7_wg05' KPNO_406_828nm'  'KPNO_1111_436nm' 'KPNO_373A_677nm' 'ronchi170lpmm'\n",
    "\n",
    "print(image_1.imageName)"
   ]
  },
  {
   "cell_type": "code",
   "execution_count": 141,
   "metadata": {},
   "outputs": [
    {
     "data": {
      "text/plain": [
       "True"
      ]
     },
     "execution_count": 141,
     "metadata": {},
     "output_type": "execute_result"
    }
   ],
   "source": [
    "c.evt_logMessage.set_put(message=\"1 - Take reference image with no offset. [END]\")"
   ]
  },
  {
   "cell_type": "markdown",
   "metadata": {},
   "source": [
    "## 2 - Apply hexapod +0.5mm offset in the x-direction and take an exposure"
   ]
  },
  {
   "cell_type": "code",
   "execution_count": 134,
   "metadata": {},
   "outputs": [
    {
     "data": {
      "text/plain": [
       "True"
      ]
     },
     "execution_count": 134,
     "metadata": {},
     "output_type": "execute_result"
    }
   ],
   "source": [
    "c.evt_logMessage.set_put(message=\"2 - Apply hexapod +0.5mm offset in the x-direction and take an exposure [START]\")"
   ]
  },
  {
   "cell_type": "code",
   "execution_count": 135,
   "metadata": {},
   "outputs": [],
   "source": [
    "attcs.athexapod.evt_positionUpdate.flush()\n",
    "await attcs.ataos.cmd_offset.set_start(x=+0.5, y=0., z=0)\n",
    "curr_hex_pos = await attcs.athexapod.evt_positionUpdate.next(flush=False, timeout=30)"
   ]
  },
  {
   "cell_type": "code",
   "execution_count": 136,
   "metadata": {},
   "outputs": [
    {
     "name": "stdout",
     "output_type": "stream",
     "text": [
      "Waiting for header service LFO before continuing\n",
      "AT_O_20200128_000358\n"
     ]
    }
   ],
   "source": [
    "group_id=astropytime.Time.now().tai.isot\n",
    "\n",
    "image_2 = await latiss.take_image(exptime=exp_time, shutter=True,image_type='OBJECT',\n",
    "                                  group_id=group_id, filter='KPNO_406_828nm', grating='empty_1')# 'blank_bk7_wg05' KPNO_406_828nm'  'KPNO_1111_436nm' 'KPNO_373A_677nm' 'ronchi170lpmm'\n",
    "\n",
    "print(image_2.imageName)"
   ]
  },
  {
   "cell_type": "code",
   "execution_count": 137,
   "metadata": {},
   "outputs": [
    {
     "data": {
      "text/plain": [
       "True"
      ]
     },
     "execution_count": 137,
     "metadata": {},
     "output_type": "execute_result"
    }
   ],
   "source": [
    "c.evt_logMessage.set_put(message=\"2 - Apply hexapod +0.5mm offset in the x-direction and take an exposure [END]\")"
   ]
  },
  {
   "cell_type": "markdown",
   "metadata": {},
   "source": [
    "## 3 - Zero offset in hexapod, do 30 arcsec offset in elevation and take an exposure"
   ]
  },
  {
   "cell_type": "code",
   "execution_count": 142,
   "metadata": {},
   "outputs": [
    {
     "data": {
      "text/plain": [
       "True"
      ]
     },
     "execution_count": 142,
     "metadata": {},
     "output_type": "execute_result"
    }
   ],
   "source": [
    "c.evt_logMessage.set_put(message=\"3 - Zero offset in hexapod, do 30 arcsec offset in elevation and take an exposure [START]\")"
   ]
  },
  {
   "cell_type": "code",
   "execution_count": 143,
   "metadata": {},
   "outputs": [
    {
     "name": "stdout",
     "output_type": "stream",
     "text": [
      "error getting allAxesInPosition event.\n"
     ]
    }
   ],
   "source": [
    "attcs.athexapod.evt_positionUpdate.flush()\n",
    "await attcs.ataos.cmd_offset.set_start(x=-0.5, y=0., z=0)\n",
    "curr_hex_pos = await attcs.athexapod.evt_positionUpdate.next(flush=False, timeout=30)\n",
    "attcs.atmcs.evt_allAxesInPosition.flush()\n",
    "await attcs.atptg.cmd_offsetAzEl.set_start(az=60, el=20+30, num=0) #refence offset\n",
    "try:\n",
    "    await attcs.atmcs.evt_allAxesInPosition.next(flush=False, timeout=30.)\n",
    "except asyncio.TimeoutError:\n",
    "    print(\"error getting allAxesInPosition event.\")"
   ]
  },
  {
   "cell_type": "code",
   "execution_count": 144,
   "metadata": {},
   "outputs": [
    {
     "name": "stdout",
     "output_type": "stream",
     "text": [
      "Waiting for header service LFO before continuing\n",
      "AT_O_20200128_000360\n"
     ]
    }
   ],
   "source": [
    "group_id=astropytime.Time.now().tai.isot\n",
    "\n",
    "image_3 = await latiss.take_image(exptime=exp_time, shutter=True,image_type='OBJECT',\n",
    "                                  group_id=group_id, filter='KPNO_406_828nm', grating='empty_1')# 'blank_bk7_wg05' KPNO_406_828nm'  'KPNO_1111_436nm' 'KPNO_373A_677nm' 'ronchi170lpmm'\n",
    "\n",
    "print(image_3.imageName)"
   ]
  },
  {
   "cell_type": "code",
   "execution_count": 145,
   "metadata": {},
   "outputs": [
    {
     "data": {
      "text/plain": [
       "True"
      ]
     },
     "execution_count": 145,
     "metadata": {},
     "output_type": "execute_result"
    }
   ],
   "source": [
    "c.evt_logMessage.set_put(message=\"3 - Zero offset in hexapod, do 30 arcsec offset in elevation and take an exposure [END]\")"
   ]
  },
  {
   "cell_type": "markdown",
   "metadata": {},
   "source": [
    "## 4 - apply hexapod +0.5mm offset in the y-direction and take an exposure"
   ]
  },
  {
   "cell_type": "code",
   "execution_count": 118,
   "metadata": {},
   "outputs": [
    {
     "data": {
      "text/plain": [
       "True"
      ]
     },
     "execution_count": 118,
     "metadata": {},
     "output_type": "execute_result"
    }
   ],
   "source": [
    "c.evt_logMessage.set_put(message=\"4 - apply hexapod +0.5mm offset in the y-direction and take an exposure [START]\")"
   ]
  },
  {
   "cell_type": "code",
   "execution_count": 119,
   "metadata": {},
   "outputs": [],
   "source": [
    "attcs.athexapod.evt_positionUpdate.flush()\n",
    "await attcs.ataos.cmd_offset.set_start(y=+0.5, x=0., z=0)\n",
    "curr_hex_pos = await attcs.athexapod.evt_positionUpdate.next(flush=False, timeout=30)\n",
    "attcs.atmcs.evt_allAxesInPosition.flush()\n",
    "await attcs.atptg.cmd_offsetAzEl.set_start(az=60, el=20, num=0) #refence offset\n",
    "try:\n",
    "    await attcs.atmcs.evt_allAxesInPosition.next(flush=False, timeout=30.)\n",
    "except asyncio.TimeoutError:\n",
    "    print(\"error getting allAxesInPosition event.\")"
   ]
  },
  {
   "cell_type": "code",
   "execution_count": 120,
   "metadata": {},
   "outputs": [
    {
     "name": "stdout",
     "output_type": "stream",
     "text": [
      "Waiting for header service LFO before continuing\n",
      "AT_O_20200128_000355\n"
     ]
    }
   ],
   "source": [
    "group_id=astropytime.Time.now().tai.isot\n",
    "\n",
    "image_4 = await latiss.take_image(exptime=exp_time, shutter=True,image_type='OBJECT',\n",
    "                                  group_id=group_id, filter='KPNO_406_828nm', grating='empty_1')# 'blank_bk7_wg05' KPNO_406_828nm'  'KPNO_1111_436nm' 'KPNO_373A_677nm' 'ronchi170lpmm'\n",
    "\n",
    "print(image_4.imageName)"
   ]
  },
  {
   "cell_type": "code",
   "execution_count": 121,
   "metadata": {},
   "outputs": [
    {
     "data": {
      "text/plain": [
       "True"
      ]
     },
     "execution_count": 121,
     "metadata": {},
     "output_type": "execute_result"
    }
   ],
   "source": [
    "c.evt_logMessage.set_put(message=\"4 - apply hexapod +0.5mm offset in the y-direction and take an exposure [END]\")"
   ]
  },
  {
   "cell_type": "markdown",
   "metadata": {},
   "source": [
    "## 5 - Zero offset in hexapod, do 30 arcsec offset in azimuth and take an exposure"
   ]
  },
  {
   "cell_type": "code",
   "execution_count": 122,
   "metadata": {},
   "outputs": [
    {
     "data": {
      "text/plain": [
       "True"
      ]
     },
     "execution_count": 122,
     "metadata": {},
     "output_type": "execute_result"
    }
   ],
   "source": [
    "c.evt_logMessage.set_put(message=\"5 - Zero offset in hexapod, do 30 arcsec offset in azimuth and take an exposure [START]\")"
   ]
  },
  {
   "cell_type": "code",
   "execution_count": 123,
   "metadata": {},
   "outputs": [],
   "source": [
    "attcs.athexapod.evt_positionUpdate.flush()\n",
    "await attcs.ataos.cmd_offset.set_start(y=-0.5, x=0., z=0)\n",
    "curr_hex_pos = await attcs.athexapod.evt_positionUpdate.next(flush=False, timeout=30)\n",
    "attcs.atmcs.evt_allAxesInPosition.flush()\n",
    "await attcs.atptg.cmd_offsetAzEl.set_start(az=60+30, el=20, num=0) #refence offset\n",
    "try:\n",
    "    await attcs.atmcs.evt_allAxesInPosition.next(flush=False, timeout=30.)\n",
    "except asyncio.TimeoutError:\n",
    "    print(\"error getting allAxesInPosition event.\")"
   ]
  },
  {
   "cell_type": "code",
   "execution_count": 124,
   "metadata": {},
   "outputs": [
    {
     "name": "stdout",
     "output_type": "stream",
     "text": [
      "Waiting for header service LFO before continuing\n",
      "AT_O_20200128_000356\n"
     ]
    }
   ],
   "source": [
    "group_id=astropytime.Time.now().tai.isot\n",
    "\n",
    "image_5 = await latiss.take_image(exptime=exp_time, shutter=True,image_type='OBJECT',\n",
    "                                  group_id=group_id, filter='KPNO_406_828nm', grating='empty_1')# 'blank_bk7_wg05' KPNO_406_828nm'  'KPNO_1111_436nm' 'KPNO_373A_677nm' 'ronchi170lpmm'\n",
    "\n",
    "print(image_5.imageName)"
   ]
  },
  {
   "cell_type": "code",
   "execution_count": 125,
   "metadata": {},
   "outputs": [
    {
     "data": {
      "text/plain": [
       "True"
      ]
     },
     "execution_count": 125,
     "metadata": {},
     "output_type": "execute_result"
    }
   ],
   "source": [
    "c.evt_logMessage.set_put(message=\"5 - Zero offset in hexapod, do 30 arcsec offset in azimuth and take an exposure [END]\")"
   ]
  },
  {
   "cell_type": "code",
   "execution_count": 126,
   "metadata": {},
   "outputs": [
    {
     "data": {
      "text/plain": [
       "True"
      ]
     },
     "execution_count": 126,
     "metadata": {},
     "output_type": "execute_result"
    }
   ],
   "source": [
    "c.evt_logMessage.set_put(message=\"Test of axis orientation on the camera. [END]\")"
   ]
  },
  {
   "cell_type": "code",
   "execution_count": null,
   "metadata": {},
   "outputs": [],
   "source": []
  },
  {
   "cell_type": "code",
   "execution_count": null,
   "metadata": {},
   "outputs": [],
   "source": [
    "rotation_matrix = lambda angle: np.array([\n",
    "            [np.cos(np.radians(angle)), -np.sin(np.radians(angle)), 0.],\n",
    "            [np.sin(np.radians(angle)), np.cos(np.radians(angle)), 0.],\n",
    "            [0., 0., 1.]])"
   ]
  },
  {
   "cell_type": "code",
   "execution_count": 212,
   "metadata": {},
   "outputs": [
    {
     "data": {
      "text/plain": [
       "<lsst.ts.salobj.ddsutil.ATPtg_ackcmd_2d655b72 at 0x7f4030699518>"
      ]
     },
     "execution_count": 212,
     "metadata": {},
     "output_type": "execute_result"
    }
   ],
   "source": [
    "await attcs.atptg.cmd_offsetAzEl.set_start(az=0, el=0, num=0) #refence offset"
   ]
  },
  {
   "cell_type": "code",
   "execution_count": 213,
   "metadata": {},
   "outputs": [
    {
     "name": "stdout",
     "output_type": "stream",
     "text": [
      "Waiting for header service LFO before continuing\n",
      "AT_O_20200128_000378\n"
     ]
    }
   ],
   "source": [
    "group_id=astropytime.Time.now().tai.isot\n",
    "\n",
    "image_5 = await latiss.take_image(exptime=exp_time, shutter=True,image_type='OBJECT',\n",
    "                                  group_id=group_id, filter='KPNO_406_828nm', grating='empty_1')# 'blank_bk7_wg05' KPNO_406_828nm'  'KPNO_1111_436nm' 'KPNO_373A_677nm' 'ronchi170lpmm'\n",
    "\n",
    "print(image_5.imageName)"
   ]
  },
  {
   "cell_type": "code",
   "execution_count": 190,
   "metadata": {},
   "outputs": [
    {
     "name": "stdout",
     "output_type": "stream",
     "text": [
      "59.37620041807779 -51.17594221309642\n",
      "8.200258204981367\n"
     ]
    }
   ],
   "source": []
  },
  {
   "cell_type": "code",
   "execution_count": null,
   "metadata": {},
   "outputs": [],
   "source": [
    "await attcs.atmcs.evt_azimuthInPosition"
   ]
  },
  {
   "cell_type": "code",
   "execution_count": 216,
   "metadata": {},
   "outputs": [
    {
     "name": "stdout",
     "output_type": "stream",
     "text": [
      "60.077908711038184 -43.87625082061306\n",
      "16.201657890425125\n",
      "131.75222572666266 76.42873161364467\n"
     ]
    },
    {
     "data": {
      "text/plain": [
       "<lsst.ts.salobj.ddsutil.ATPtg_ackcmd_2d655b72 at 0x7f401d5ab2e8>"
      ]
     },
     "execution_count": 216,
     "metadata": {},
     "output_type": "execute_result"
    }
   ],
   "source": [
    "azel = await attcs.atmcs.tel_mount_AzEl_Encoders.aget()\n",
    "nasmyth = await attcs.atmcs.tel_mount_Nasmyth_Encoders.aget()\n",
    "\n",
    "print(np.mean(azel.elevationCalculatedAngle),np.mean(nasmyth.nasmyth2CalculatedAngle))\n",
    "print(np.mean(azel.elevationCalculatedAngle)+np.mean(nasmyth.nasmyth2CalculatedAngle))\n",
    "\n",
    "\n",
    "x, y, _ = np.matmul([140., 60., 0.], \n",
    "                    rotation_matrix(np.mean(azel.elevationCalculatedAngle)+np.mean(nasmyth.nasmyth2CalculatedAngle)-23.12084866242472))\n",
    "print(x,y)\n",
    "\n",
    "await attcs.atptg.cmd_offsetAzEl.set_start(az=x, el=y, num=0) #refence offset"
   ]
  },
  {
   "cell_type": "code",
   "execution_count": 205,
   "metadata": {},
   "outputs": [
    {
     "name": "stdout",
     "output_type": "stream",
     "text": [
      "-45.56482150633152 39.03648346221966\n"
     ]
    },
    {
     "data": {
      "text/plain": [
       "<lsst.ts.salobj.ddsutil.ATPtg_ackcmd_2d655b72 at 0x7f400c4ec278>"
      ]
     },
     "execution_count": 205,
     "metadata": {},
     "output_type": "execute_result"
    }
   ],
   "source": []
  },
  {
   "cell_type": "code",
   "execution_count": 217,
   "metadata": {},
   "outputs": [
    {
     "name": "stdout",
     "output_type": "stream",
     "text": [
      "Waiting for header service LFO before continuing\n",
      "AT_O_20200128_000380\n",
      "RemoteEvent(ATDomeTrajectory, 0, logMessage) falling behind; read 12 messages\n",
      "RemoteEvent(ATMCS, 0, target) falling behind; read 83 messages\n",
      "atdometrajectory not in <State.ENABLED: 2>: <State.DISABLED: 1>\n",
      "ataos not in <State.ENABLED: 2>: <State.DISABLED: 1>\n",
      "atptg not in <State.ENABLED: 2>: <State.DISABLED: 1>\n",
      "athexapod not in <State.ENABLED: 2>: <State.DISABLED: 1>\n",
      "atdome not in <State.ENABLED: 2>: <State.DISABLED: 1>\n",
      "atpneumatics not in <State.ENABLED: 2>: <State.DISABLED: 1>\n"
     ]
    }
   ],
   "source": [
    "group_id=astropytime.Time.now().tai.isot\n",
    "\n",
    "image_5 = await latiss.take_image(exptime=exp_time, shutter=True,image_type='OBJECT',\n",
    "                                  group_id=group_id, filter='KPNO_406_828nm', grating='empty_1')# 'blank_bk7_wg05' KPNO_406_828nm'  'KPNO_1111_436nm' 'KPNO_373A_677nm' 'ronchi170lpmm'\n",
    "\n",
    "print(image_5.imageName)"
   ]
  },
  {
   "cell_type": "code",
   "execution_count": null,
   "metadata": {},
   "outputs": [],
   "source": []
  }
 ],
 "metadata": {
  "kernelspec": {
   "display_name": "Python 3",
   "language": "python",
   "name": "python3"
  },
  "language_info": {
   "codemirror_mode": {
    "name": "ipython",
    "version": 3
   },
   "file_extension": ".py",
   "mimetype": "text/x-python",
   "name": "python",
   "nbconvert_exporter": "python",
   "pygments_lexer": "ipython3",
   "version": "3.7.2"
  }
 },
 "nbformat": 4,
 "nbformat_minor": 4
}
