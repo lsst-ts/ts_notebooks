{
 "cells": [
  {
   "cell_type": "code",
   "execution_count": 1,
   "metadata": {},
   "outputs": [],
   "source": [
    "import os\n",
    "import sys\n",
    "import copy\n",
    "import wget\n",
    "import time\n",
    "import asyncio\n",
    "import warnings\n",
    "import logging\n",
    "from astropy import time as astropytime\n",
    "\n",
    "import astropy.units as u\n",
    "from astropy.coordinates import AltAz, ICRS, EarthLocation, Angle\n",
    "\n",
    "import numpy as np\n",
    "\n",
    "from lsst.ts import salobj\n",
    "from lsst.ts.standardscripts.auxtel.attcs import ATTCS\n",
    "from lsst.ts.standardscripts.auxtel.latiss import LATISS\n",
    "\n",
    "%matplotlib inline"
   ]
  },
  {
   "cell_type": "code",
   "execution_count": 2,
   "metadata": {},
   "outputs": [],
   "source": [
    "stream_handler = logging.StreamHandler(sys.stdout)\n",
    "\n",
    "logger = logging.getLogger()\n",
    "logger.addHandler(stream_handler)\n",
    "logger.level = logging.DEBUG"
   ]
  },
  {
   "cell_type": "code",
   "execution_count": 3,
   "metadata": {},
   "outputs": [
    {
     "name": "stdout",
     "output_type": "stream",
     "text": [
      "Read historical data in 2.03 sec\n",
      "Read historical data in 3.04 sec\n",
      "Read historical data in 3.37 sec\n",
      "Read historical data in 3.97 sec\n",
      "Read historical data in 4.99 sec\n",
      "Read historical data in 6.00 sec\n",
      "Read historical data in 7.16 sec\n",
      "RemoteEvent(ATAOS, 0, detailedState) falling behind; read 14 messages\n",
      "RemoteEvent(ATDomeTrajectory, 0, logMessage) falling behind; read 100 messages\n",
      "RemoteTelemetry(ATDome, 0, position) falling behind; read 25 messages\n"
     ]
    },
    {
     "data": {
      "text/plain": [
       "[None, None, None, None, None, None, None]"
      ]
     },
     "execution_count": 3,
     "metadata": {},
     "output_type": "execute_result"
    },
    {
     "name": "stdout",
     "output_type": "stream",
     "text": [
      "RemoteTelemetry(ATPtg, 0, timeAndDate) falling behind; read 15 messages\n",
      "RemoteTelemetry(ATPtg, 0, mountStatus) falling behind; read 16 messages\n",
      "RemoteTelemetry(ATPtg, 0, guidingAndOffsets) falling behind; read 18 messages\n"
     ]
    }
   ],
   "source": [
    "attcs = ATTCS()\n",
    "\n",
    "await attcs.start_task "
   ]
  },
  {
   "cell_type": "code",
   "execution_count": null,
   "metadata": {},
   "outputs": [],
   "source": []
  },
  {
   "cell_type": "code",
   "execution_count": null,
   "metadata": {},
   "outputs": [],
   "source": [
    "await attcs.enable(settings={\n",
    "    'ataos': \"current\",\n",
    "    'atmcs': \"\",\n",
    "    'atptg': \"\",\n",
    "    'atpneumatics': \"\",\n",
    "    'athexapod': \"auxtel_201912_crazy.yaml\",\n",
    "    'atdome': \"test.yaml\",\n",
    "    'atdometrajectory': \"\"})"
   ]
  },
  {
   "cell_type": "code",
   "execution_count": null,
   "metadata": {},
   "outputs": [],
   "source": [
    "await attcs.prepare_for_flatfield()"
   ]
  },
  {
   "cell_type": "code",
   "execution_count": 4,
   "metadata": {},
   "outputs": [
    {
     "name": "stdout",
     "output_type": "stream",
     "text": [
      "RemoteTelemetry(ATPtg, 0, currentTargetStatus) falling behind; read 19 messages\n",
      "Disabling ATAOS corrections\n",
      "RemoteEvent(ATMCS, 0, target) falling behind; read 35 messages\n",
      "Disable ATDomeTrajectory\n",
      "Slew telescope to Park position.\n",
      "Flushing events\n",
      "Sending command\n",
      "Scheduling check coroutines\n",
      "process as completed...\n",
      "[Telescope] delta Alt = +019.755 | delta Az= -161.947\n",
      "[Telescope] delta Alt = +019.664 | delta Az= -161.200\n",
      "Failed to slew telescope to park position. Continuing...\n",
      "'NoneType' object has no attribute 'private_sndStamp'\n",
      "Traceback (most recent call last):\n",
      "  File \"/home/saluser/repos/ts_standardscripts/python/lsst/ts/standardscripts/auxtel/attcs.py\", line 600, in shutdown\n",
      "    wait_dome=False)\n",
      "  File \"/home/saluser/repos/ts_standardscripts/python/lsst/ts/standardscripts/auxtel/attcs.py\", line 177, in point_azel\n",
      "    raise e\n",
      "  File \"/home/saluser/repos/ts_standardscripts/python/lsst/ts/standardscripts/auxtel/attcs.py\", line 174, in point_azel\n",
      "    slew_timeout=slew_timeout)\n",
      "  File \"/home/saluser/repos/ts_standardscripts/python/lsst/ts/standardscripts/auxtel/attcs.py\", line 860, in _slew_to\n",
      "    ret_val = await res\n",
      "  File \"/opt/lsst/software/stack/python/miniconda3-4.7.10/envs/lsst-scipipe-4d7b902/lib/python3.7/asyncio/tasks.py\", line 533, in _wait_for_one\n",
      "    return f.result()  # May raise f.exception().\n",
      "  File \"/home/saluser/repos/ts_standardscripts/python/lsst/ts/standardscripts/auxtel/attcs.py\", line 931, in wait_for_inposition\n",
      "    status.append(await self.wait_for_atmcs_inposition(timeout, cmd_ack))\n",
      "  File \"/home/saluser/repos/ts_standardscripts/python/lsst/ts/standardscripts/auxtel/attcs.py\", line 962, in wait_for_atmcs_inposition\n",
      "    if in_position.private_sndStamp < cmd_ack.private_sndStamp:\n",
      "AttributeError: 'NoneType' object has no attribute 'private_sndStamp'\n",
      "Cover state <MirrorCoverState.OPENED: 7>\n",
      "Closing M1 cover.\n",
      "Cover state <MirrorCoverState.OPENED: 7>\n",
      "Cover state <MirrorCoverState.INMOTION: 8>\n",
      "[Telescope] delta Alt = +018.783 | delta Az= -157.441\n",
      "[Telescope] delta Alt = +017.867 | delta Az= -155.441\n",
      "[Telescope] delta Alt = +015.111 | delta Az= -151.440\n",
      "[Telescope] delta Alt = +011.436 | delta Az= -147.442\n",
      "[Telescope] delta Alt = +007.477 | delta Az= -143.441\n",
      "[Telescope] delta Alt = +003.952 | delta Az= -139.441\n",
      "[Telescope] delta Alt = +001.449 | delta Az= -135.440\n",
      "[Telescope] delta Alt = +000.679 | delta Az= -133.440\n",
      "[Telescope] delta Alt = +000.033 | delta Az= -129.441\n",
      "[Telescope] delta Alt = -000.001 | delta Az= -125.441\n",
      "[Telescope] delta Alt = -000.000 | delta Az= -121.441\n",
      "[Telescope] delta Alt = +000.000 | delta Az= -117.441\n",
      "[Telescope] delta Alt = +000.000 | delta Az= -113.441\n",
      "[Telescope] delta Alt = +000.000 | delta Az= -109.441\n",
      "Cover state <MirrorCoverState.CLOSED: 6>\n",
      "Close dome.\n",
      "[Telescope] delta Alt = +000.000 | delta Az= -105.441\n",
      "[Telescope] delta Alt = -000.000 | delta Az= -101.441\n",
      "[Telescope] delta Alt = -000.000 | delta Az= -097.440\n",
      "[Telescope] delta Alt = -000.000 | delta Az= -095.440\n",
      "[Telescope] delta Alt = -000.000 | delta Az= -091.441\n",
      "[Telescope] delta Alt = -000.000 | delta Az= -087.441\n",
      "[Telescope] delta Alt = +000.000 | delta Az= -083.440\n",
      "[Telescope] delta Alt = -000.000 | delta Az= -079.439\n",
      "[Telescope] delta Alt = -000.000 | delta Az= -075.440\n",
      "[Telescope] delta Alt = +000.000 | delta Az= -071.441\n",
      "[Telescope] delta Alt = -000.000 | delta Az= -067.440\n",
      "[Telescope] delta Alt = -000.000 | delta Az= -063.442\n",
      "[Telescope] delta Alt = +000.000 | delta Az= -059.440\n",
      "[Telescope] delta Alt = -000.000 | delta Az= -055.440\n",
      "[Telescope] delta Alt = +000.000 | delta Az= -051.442\n",
      "[Telescope] delta Alt = -000.000 | delta Az= -047.441\n",
      "[Telescope] delta Alt = -000.000 | delta Az= -043.440\n",
      "[Telescope] delta Alt = -000.000 | delta Az= -039.441\n",
      "[Telescope] delta Alt = -000.000 | delta Az= -035.442\n",
      "[Telescope] delta Alt = +000.000 | delta Az= -031.441\n",
      "[Telescope] delta Alt = +000.000 | delta Az= -027.445\n",
      "[Telescope] delta Alt = +000.000 | delta Az= -025.455\n",
      "[Telescope] delta Alt = +000.000 | delta Az= -021.522\n",
      "[Telescope] delta Alt = -000.000 | delta Az= -019.598\n",
      "[Telescope] delta Alt = -000.000 | delta Az= -015.875\n",
      "[Telescope] delta Alt = +000.000 | delta Az= -012.391\n",
      "[Telescope] delta Alt = +000.000 | delta Az= -009.236\n",
      "[Telescope] delta Alt = +000.000 | delta Az= -006.487\n",
      "[Telescope] delta Alt = +000.000 | delta Az= -004.208\n",
      "[Telescope] delta Alt = +000.000 | delta Az= -002.441\n",
      "[Telescope] delta Alt = +000.000 | delta Az= -001.752\n",
      "[Telescope] delta Alt = +000.000 | delta Az= -000.758\n",
      "[Telescope] delta Alt = +000.000 | delta Az= -000.216\n",
      "[Telescope] delta Alt = +000.000 | delta Az= -000.085\n",
      "[Telescope] delta Alt = +000.000 | delta Az= -000.001\n",
      "Axes in position.\n",
      "Got: private_revCode: f1592f29, private_sndStamp: 1580282964.7235465, private_rcvStamp: 1580282964.724925, private_seqNum: 33, private_origin: 488, private_host: -1947882796, inPosition: False, priority: 0\n",
      "ATDome shutter not in position.\n",
      "Got: private_revCode: f1592f29, private_sndStamp: 1580283195.9937344, private_rcvStamp: 1580283195.9951339, private_seqNum: 34, private_origin: 488, private_host: -1947882796, inPosition: True, priority: 0\n",
      "ATDome shutter in position.\n",
      "Slew dome to Park position.\n",
      "Timed out trying to get azimuth in position from the dome just after command was sent. Continuing...\n",
      "[Dome] delta Az = +121.300\n",
      "[Dome] delta Az = +120.020\n",
      "[Dome] delta Az = +118.510\n",
      "[Dome] delta Az = +116.770\n",
      "[Dome] delta Az = +114.800\n",
      "[Dome] delta Az = +112.610\n",
      "[Dome] delta Az = +110.160\n",
      "[Dome] delta Az = +107.530\n",
      "[Dome] delta Az = +104.650\n",
      "[Dome] delta Az = +101.550\n",
      "[Dome] delta Az = +098.210\n",
      "[Dome] delta Az = +094.760\n",
      "[Dome] delta Az = +091.310\n",
      "[Dome] delta Az = +087.850\n",
      "[Dome] delta Az = +084.410\n",
      "[Dome] delta Az = +080.960\n",
      "[Dome] delta Az = +077.530\n",
      "[Dome] delta Az = +074.090\n",
      "[Dome] delta Az = +070.640\n",
      "[Dome] delta Az = +067.190\n",
      "[Dome] delta Az = +063.740\n",
      "[Dome] delta Az = +060.290\n",
      "[Dome] delta Az = +056.840\n",
      "[Dome] delta Az = +053.390\n",
      "[Dome] delta Az = +049.950\n",
      "[Dome] delta Az = +046.500\n",
      "[Dome] delta Az = +043.060\n",
      "[Dome] delta Az = +039.590\n",
      "[Dome] delta Az = +036.160\n",
      "[Dome] delta Az = +032.710\n",
      "[Dome] delta Az = +029.250\n",
      "[Dome] delta Az = +025.830\n",
      "[Dome] delta Az = +022.370\n",
      "[Dome] delta Az = +018.920\n",
      "[Dome] delta Az = +015.450\n",
      "[Dome] delta Az = +012.010\n",
      "[Dome] delta Az = +008.580\n",
      "[Dome] delta Az = +005.150\n",
      "[Dome] delta Az = +001.910\n",
      "Got True\n",
      "ATDome in position.\n",
      "Put all CSCs in standby\n",
      "atptg not in <State.ENABLED: 2>: <State.DISABLED: 1>\n",
      "ataos not in <State.ENABLED: 2>: <State.DISABLED: 1>\n",
      "athexapod not in <State.ENABLED: 2>: <State.DISABLED: 1>\n",
      "atpneumatics not in <State.ENABLED: 2>: <State.DISABLED: 1>\n",
      "Unable to put atmcs in STANDBY\n",
      "Error on cmd=cmd_disable, initial_state=2\n",
      "NoneType: None\n",
      "[atptg]::[<State.ENABLED: 2>, <State.DISABLED: 1>, <State.STANDBY: 5>]\n",
      "[ataos]::[<State.ENABLED: 2>, <State.DISABLED: 1>, <State.STANDBY: 5>]\n",
      "[atpneumatics]::[<State.ENABLED: 2>, <State.DISABLED: 1>, <State.STANDBY: 5>]\n",
      "[athexapod]::[<State.ENABLED: 2>, <State.DISABLED: 1>, <State.STANDBY: 5>]\n",
      "[atdome]::[<State.ENABLED: 2>, <State.DISABLED: 1>, <State.STANDBY: 5>]\n",
      "[atdometrajectory]::[<State.DISABLED: 1>, <State.STANDBY: 5>]\n"
     ]
    },
    {
     "ename": "RuntimeError",
     "evalue": "Unable to put atmcs in STANDBY\n",
     "output_type": "error",
     "traceback": [
      "\u001b[0;31m\u001b[0m",
      "\u001b[0;31mRuntimeError\u001b[0mTraceback (most recent call last)",
      "\u001b[0;32m<ipython-input-4-482c82ed2a14>\u001b[0m in \u001b[0;36masync-def-wrapper\u001b[0;34m()\u001b[0m\n",
      "\u001b[0;32m~/repos/ts_standardscripts/python/lsst/ts/standardscripts/auxtel/attcs.py\u001b[0m in \u001b[0;36mshutdown\u001b[0;34m(self)\u001b[0m\n\u001b[1;32m    615\u001b[0m         \u001b[0mself\u001b[0m\u001b[0;34m.\u001b[0m\u001b[0mlog\u001b[0m\u001b[0;34m.\u001b[0m\u001b[0minfo\u001b[0m\u001b[0;34m(\u001b[0m\u001b[0;34m\"Put all CSCs in standby\"\u001b[0m\u001b[0;34m)\u001b[0m\u001b[0;34m\u001b[0m\u001b[0;34m\u001b[0m\u001b[0m\n\u001b[1;32m    616\u001b[0m \u001b[0;34m\u001b[0m\u001b[0m\n\u001b[0;32m--> 617\u001b[0;31m         \u001b[0;32mawait\u001b[0m \u001b[0mself\u001b[0m\u001b[0;34m.\u001b[0m\u001b[0mstandby\u001b[0m\u001b[0;34m(\u001b[0m\u001b[0;34m)\u001b[0m\u001b[0;34m\u001b[0m\u001b[0;34m\u001b[0m\u001b[0m\n\u001b[0m\u001b[1;32m    618\u001b[0m \u001b[0;34m\u001b[0m\u001b[0m\n\u001b[1;32m    619\u001b[0m     \u001b[0;32masync\u001b[0m \u001b[0;32mdef\u001b[0m \u001b[0mclose_dome\u001b[0m\u001b[0;34m(\u001b[0m\u001b[0mself\u001b[0m\u001b[0;34m)\u001b[0m\u001b[0;34m:\u001b[0m\u001b[0;34m\u001b[0m\u001b[0;34m\u001b[0m\u001b[0m\n",
      "\u001b[0;32m~/repos/ts_standardscripts/python/lsst/ts/standardscripts/auxtel/attcs.py\u001b[0m in \u001b[0;36mstandby\u001b[0;34m(self)\u001b[0m\n\u001b[1;32m    737\u001b[0m \u001b[0;34m\u001b[0m\u001b[0m\n\u001b[1;32m    738\u001b[0m         \u001b[0;32mif\u001b[0m \u001b[0merror_flag\u001b[0m\u001b[0;34m:\u001b[0m\u001b[0;34m\u001b[0m\u001b[0;34m\u001b[0m\u001b[0m\n\u001b[0;32m--> 739\u001b[0;31m             \u001b[0;32mraise\u001b[0m \u001b[0mRuntimeError\u001b[0m\u001b[0;34m(\u001b[0m\u001b[0merror_msg\u001b[0m\u001b[0;34m)\u001b[0m\u001b[0;34m\u001b[0m\u001b[0;34m\u001b[0m\u001b[0m\n\u001b[0m\u001b[1;32m    740\u001b[0m         \u001b[0;32melse\u001b[0m\u001b[0;34m:\u001b[0m\u001b[0;34m\u001b[0m\u001b[0;34m\u001b[0m\u001b[0m\n\u001b[1;32m    741\u001b[0m             \u001b[0mself\u001b[0m\u001b[0;34m.\u001b[0m\u001b[0mlog\u001b[0m\u001b[0;34m.\u001b[0m\u001b[0minfo\u001b[0m\u001b[0;34m(\u001b[0m\u001b[0;34m\"All components in standby.\"\u001b[0m\u001b[0;34m)\u001b[0m\u001b[0;34m\u001b[0m\u001b[0;34m\u001b[0m\u001b[0m\n",
      "\u001b[0;31mRuntimeError\u001b[0m: Unable to put atmcs in STANDBY\n"
     ]
    }
   ],
   "source": [
    "await attcs.shutdown()"
   ]
  },
  {
   "cell_type": "code",
   "execution_count": null,
   "metadata": {},
   "outputs": [],
   "source": [
    "attcs.dome_slew_tolerance = Angle(5.*u.deg)"
   ]
  },
  {
   "cell_type": "code",
   "execution_count": null,
   "metadata": {},
   "outputs": [],
   "source": [
    "await attcs.slew_icrs(ra=\"03 00 00\", dec=\"-45 00 00\", rot_pa=0., target_name=\"Test\")"
   ]
  },
  {
   "cell_type": "code",
   "execution_count": null,
   "metadata": {},
   "outputs": [],
   "source": [
    "await attcs.point_azel(target_name=\"Park position\",\n",
    "                       az=attcs.tel_park_az,\n",
    "                       el=attcs.tel_park_el,\n",
    "                       wait_dome=False)\n"
   ]
  },
  {
   "cell_type": "code",
   "execution_count": null,
   "metadata": {},
   "outputs": [],
   "source": [
    "await attcs.startup(settings={\n",
    "    'ataos': \"current\",\n",
    "    'atmcs': \"\",\n",
    "    'atptg': \"\",\n",
    "    'atpneumatics': \"\",\n",
    "    'athexapod': \"auxtel_201912_crazy.yaml\",\n",
    "    'atdome': \"test.yaml\",\n",
    "    'atdometrajectory': \"\"})"
   ]
  },
  {
   "cell_type": "code",
   "execution_count": null,
   "metadata": {},
   "outputs": [],
   "source": [
    "await attcs.ataos.cmd_enableCorrection.set_start(hexapod=True)"
   ]
  },
  {
   "cell_type": "code",
   "execution_count": 6,
   "metadata": {},
   "outputs": [
    {
     "name": "stdout",
     "output_type": "stream",
     "text": [
      "RemoteTelemetry(ATPtg, 0, timeAndDate) falling behind; read 37 messages\n",
      "Read historical data in 0.10 sec\n",
      "Read historical data in 0.52 sec\n",
      "Read historical data in 0.86 sec\n",
      "Read historical data in 1.41 sec\n",
      "RemoteTelemetry(ATMCS, 0, torqueDemand) falling behind; read 10 messages\n",
      "RemoteTelemetry(ATMCS, 0, nasymth_m3_mountMotorEncoders) falling behind; read 10 messages\n",
      "RemoteTelemetry(ATMCS, 0, mount_Nasmyth_Encoders) falling behind; read 10 messages\n",
      "RemoteTelemetry(ATMCS, 0, mount_AzEl_Encoders) falling behind; read 10 messages\n",
      "RemoteTelemetry(ATMCS, 0, measuredTorque) falling behind; read 10 messages\n",
      "RemoteTelemetry(ATMCS, 0, measuredMotorVelocity) falling behind; read 10 messages\n"
     ]
    }
   ],
   "source": [
    "latiss = LATISS(attcs.domain)"
   ]
  },
  {
   "cell_type": "code",
   "execution_count": 7,
   "metadata": {},
   "outputs": [
    {
     "data": {
      "text/plain": [
       "[None, None, None, None]"
      ]
     },
     "execution_count": 7,
     "metadata": {},
     "output_type": "execute_result"
    }
   ],
   "source": [
    "await latiss.start_task"
   ]
  },
  {
   "cell_type": "code",
   "execution_count": null,
   "metadata": {},
   "outputs": [],
   "source": [
    "await salobj.set_summary_state(latiss.atheaderservice, salobj.State.ENABLED)"
   ]
  },
  {
   "cell_type": "code",
   "execution_count": null,
   "metadata": {},
   "outputs": [],
   "source": [
    "await latiss.take_image(exptime=2., shutter=True, image_type=\"OBJECT\", group_id=astropytime.Time.now().tai.isot)"
   ]
  },
  {
   "cell_type": "code",
   "execution_count": null,
   "metadata": {},
   "outputs": [],
   "source": [
    "await latiss.take_image"
   ]
  },
  {
   "cell_type": "code",
   "execution_count": null,
   "metadata": {},
   "outputs": [],
   "source": [
    "ack = await attcs.atdometrajectory.cmd_standby.start()"
   ]
  },
  {
   "cell_type": "raw",
   "metadata": {},
   "source": []
  },
  {
   "cell_type": "code",
   "execution_count": null,
   "metadata": {},
   "outputs": [],
   "source": [
    "print(ack.private_sndStamp)"
   ]
  },
  {
   "cell_type": "code",
   "execution_count": null,
   "metadata": {},
   "outputs": [],
   "source": [
    "print(ack)"
   ]
  },
  {
   "cell_type": "code",
   "execution_count": 24,
   "metadata": {},
   "outputs": [
    {
     "data": {
      "text/plain": [
       "[<State.FAULT: 3>, <State.STANDBY: 5>, <State.DISABLED: 1>, <State.ENABLED: 2>]"
      ]
     },
     "execution_count": 24,
     "metadata": {},
     "output_type": "execute_result"
    }
   ],
   "source": [
    "await salobj.set_summary_state(latiss.atarchiver, salobj.State.ENABLED, settingsToApply=\"normal\")"
   ]
  },
  {
   "cell_type": "code",
   "execution_count": 11,
   "metadata": {},
   "outputs": [
    {
     "name": "stdout",
     "output_type": "stream",
     "text": [
      "Waiting for header service LFO before continuing\n",
      "RemoteEvent(ATHeaderService, 0, logMessage) falling behind; read 10 messages\n"
     ]
    }
   ],
   "source": [
    "bias = await latiss.take_bias(nbias=1)"
   ]
  },
  {
   "cell_type": "code",
   "execution_count": 12,
   "metadata": {},
   "outputs": [
    {
     "name": "stdout",
     "output_type": "stream",
     "text": [
      "None\n"
     ]
    }
   ],
   "source": [
    "print(bias)"
   ]
  },
  {
   "cell_type": "code",
   "execution_count": 35,
   "metadata": {},
   "outputs": [
    {
     "name": "stdout",
     "output_type": "stream",
     "text": [
      "Waiting for header service LFO before continuing\n"
     ]
    }
   ],
   "source": [
    "image_1 = await latiss.take_image(exptime=2., shutter=True, image_type=\"OBJECT\", group_id=astropytime.Time.now().tai.isot)"
   ]
  },
  {
   "cell_type": "code",
   "execution_count": 41,
   "metadata": {},
   "outputs": [],
   "source": [
    "_, _, prefix, suffix = image_1.imageName.split(\"_\")"
   ]
  },
  {
   "cell_type": "code",
   "execution_count": null,
   "metadata": {},
   "outputs": [],
   "source": [
    "        prefix = tmp[2]  # dayobs without the dashes\n",
    "\n",
    "        # Don't remember why I used int here... whitespace?\n",
    "        # surely fixable but bigger fish.\n",
    "        suffix = '{:05d}'.format(int(tmp[3].split('-')[0]))  # SEQNUM, but need to trim extra 0 in obsid\n",
    "        intra_visitID = int((prefix + suffix))\n"
   ]
  },
  {
   "cell_type": "code",
   "execution_count": 42,
   "metadata": {},
   "outputs": [
    {
     "data": {
      "text/plain": [
       "('20200129', '000004')"
      ]
     },
     "execution_count": 42,
     "metadata": {},
     "output_type": "execute_result"
    }
   ],
   "source": [
    "prefix, suffix"
   ]
  },
  {
   "cell_type": "code",
   "execution_count": 43,
   "metadata": {},
   "outputs": [],
   "source": [
    "# suffix = '{:05d}'.format(int(tmp[3].split('-')[0]))  # SEQNUM, but need to trim extra 0 in obsid\n",
    "intra_visitID = int((prefix + suffix[1:]))"
   ]
  },
  {
   "cell_type": "code",
   "execution_count": 44,
   "metadata": {},
   "outputs": [
    {
     "data": {
      "text/plain": [
       "2020012900004"
      ]
     },
     "execution_count": 44,
     "metadata": {},
     "output_type": "execute_result"
    },
    {
     "name": "stdout",
     "output_type": "stream",
     "text": [
      "RemoteTelemetry(ATMCS, 0, mount_AzEl_Encoders) falling behind; read 12 messages\n",
      "RemoteTelemetry(ATMCS, 0, measuredTorque) falling behind; read 16 messages\n",
      "RemoteTelemetry(ATMCS, 0, measuredMotorVelocity) falling behind; read 20 messages\n",
      "RemoteTelemetry(ATMCS, 0, azEl_mountMotorEncoders) falling behind; read 22 messages\n",
      "RemoteEvent(ATMCS, 0, heartbeat) falling behind; read 25 messages\n",
      "RemoteTelemetry(ATMCS, 0, trajectory) falling behind; read 22 messages\n",
      "RemoteTelemetry(ATMCS, 0, torqueDemand) falling behind; read 22 messages\n",
      "RemoteTelemetry(ATMCS, 0, nasymth_m3_mountMotorEncoders) falling behind; read 20 messages\n",
      "RemoteTelemetry(ATMCS, 0, mount_Nasmyth_Encoders) falling behind; read 20 messages\n",
      "RemoteTelemetry(ATMCS, 0, mount_AzEl_Encoders) falling behind; read 12 messages\n",
      "RemoteTelemetry(ATMCS, 0, measuredTorque) falling behind; read 12 messages\n",
      "RemoteTelemetry(ATMCS, 0, measuredMotorVelocity) falling behind; read 20 messages\n",
      "RemoteEvent(ATMCS, 0, heartbeat) falling behind; read 19 messages\n",
      "RemoteTelemetry(ATMCS, 0, trajectory) falling behind; read 21 messages\n",
      "RemoteTelemetry(ATMCS, 0, torqueDemand) falling behind; read 23 messages\n",
      "RemoteTelemetry(ATMCS, 0, nasymth_m3_mountMotorEncoders) falling behind; read 25 messages\n",
      "RemoteTelemetry(ATMCS, 0, mount_Nasmyth_Encoders) falling behind; read 22 messages\n",
      "RemoteTelemetry(ATMCS, 0, azEl_mountMotorEncoders) falling behind; read 29 messages\n"
     ]
    }
   ],
   "source": [
    "intra_visitID"
   ]
  },
  {
   "cell_type": "code",
   "execution_count": 45,
   "metadata": {},
   "outputs": [
    {
     "name": "stdout",
     "output_type": "stream",
     "text": [
      "Waiting for header service LFO before continuing\n",
      "Waiting for header service LFO before continuing\n",
      "Waiting for header service LFO before continuing\n",
      "RemoteEvent(ATHeaderService, 0, logMessage) falling behind; read 12 messages\n",
      "Waiting for header service LFO before continuing\n",
      "RemoteEvent(ATHeaderService, 0, logMessage) falling behind; read 10 messages\n",
      "Waiting for header service LFO before continuing\n",
      "Waiting for header service LFO before continuing\n",
      "Waiting for header service LFO before continuing\n",
      "RemoteEvent(ATHeaderService, 0, logMessage) falling behind; read 10 messages\n",
      "Waiting for header service LFO before continuing\n",
      "RemoteEvent(ATHeaderService, 0, logMessage) falling behind; read 11 messages\n",
      "Waiting for header service LFO before continuing\n",
      "Waiting for header service LFO before continuing\n",
      "RemoteTelemetry(ATPtg, 0, timeAndDate) falling behind; read 11 messages\n",
      "RemoteTelemetry(ATMCS, 0, azEl_mountMotorEncoders) falling behind; read 12 messages\n",
      "RemoteEvent(ATMCS, 0, heartbeat) falling behind; read 14 messages\n",
      "RemoteTelemetry(ATMCS, 0, trajectory) falling behind; read 12 messages\n",
      "RemoteTelemetry(ATMCS, 0, torqueDemand) falling behind; read 12 messages\n",
      "RemoteTelemetry(ATMCS, 0, nasymth_m3_mountMotorEncoders) falling behind; read 12 messages\n",
      "RemoteTelemetry(ATMCS, 0, mount_Nasmyth_Encoders) falling behind; read 16 messages\n",
      "RemoteTelemetry(ATMCS, 0, mount_AzEl_Encoders) falling behind; read 15 messages\n",
      "RemoteTelemetry(ATMCS, 0, measuredTorque) falling behind; read 14 messages\n",
      "RemoteTelemetry(ATMCS, 0, measuredMotorVelocity) falling behind; read 12 messages\n"
     ]
    }
   ],
   "source": [
    "await latiss.take_bias(nbias=10)"
   ]
  },
  {
   "cell_type": "code",
   "execution_count": null,
   "metadata": {},
   "outputs": [],
   "source": []
  }
 ],
 "metadata": {
  "kernelspec": {
   "display_name": "Python 3",
   "language": "python",
   "name": "python3"
  },
  "language_info": {
   "codemirror_mode": {
    "name": "ipython",
    "version": 3
   },
   "file_extension": ".py",
   "mimetype": "text/x-python",
   "name": "python",
   "nbconvert_exporter": "python",
   "pygments_lexer": "ipython3",
   "version": "3.7.2"
  }
 },
 "nbformat": 4,
 "nbformat_minor": 4
}
