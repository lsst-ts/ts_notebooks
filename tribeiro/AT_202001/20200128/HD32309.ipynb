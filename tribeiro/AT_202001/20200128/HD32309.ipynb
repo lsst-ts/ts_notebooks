{
 "cells": [
  {
   "cell_type": "code",
   "execution_count": 1,
   "metadata": {},
   "outputs": [],
   "source": [
    "import os\n",
    "import sys\n",
    "import copy\n",
    "import wget\n",
    "import time\n",
    "import asyncio\n",
    "import warnings\n",
    "import logging\n",
    "\n",
    "import numpy as np\n",
    "\n",
    "from lsst.ts import salobj\n",
    "from lsst.ts.standardscripts.auxtel.attcs import ATTCS\n",
    "\n",
    "%matplotlib inline"
   ]
  },
  {
   "cell_type": "code",
   "execution_count": 2,
   "metadata": {},
   "outputs": [],
   "source": [
    "stream_handler = logging.StreamHandler(sys.stdout)\n",
    "\n",
    "logger = logging.getLogger()\n",
    "logger.addHandler(stream_handler)\n",
    "logger.level = logging.DEBUG"
   ]
  },
  {
   "cell_type": "code",
   "execution_count": 3,
   "metadata": {},
   "outputs": [
    {
     "name": "stdout",
     "output_type": "stream",
     "text": [
      "Read historical data in 0.05 sec\n",
      "Read historical data in 1.41 sec\n",
      "Read historical data in 2.35 sec\n",
      "Read historical data in 3.49 sec\n",
      "Read historical data in 4.29 sec\n",
      "Read historical data in 5.35 sec\n",
      "Read historical data in 6.47 sec\n",
      "RemoteTelemetry(ATDome, 0, position) falling behind; read 29 messages\n"
     ]
    },
    {
     "data": {
      "text/plain": [
       "[None, None, None, None, None, None, None]"
      ]
     },
     "execution_count": 3,
     "metadata": {},
     "output_type": "execute_result"
    },
    {
     "name": "stdout",
     "output_type": "stream",
     "text": [
      "RemoteTelemetry(ATPtg, 0, timeAndDate) falling behind; read 15 messages\n",
      "RemoteTelemetry(ATPtg, 0, mountStatus) falling behind; read 17 messages\n",
      "RemoteTelemetry(ATPtg, 0, guidingAndOffsets) falling behind; read 18 messages\n"
     ]
    }
   ],
   "source": [
    "attcs = ATTCS()\n",
    "# cam = salobj.Remote(attcs.domain, \"GenericCamera\", 1)\n",
    "\n",
    "await attcs.start_task"
   ]
  },
  {
   "cell_type": "code",
   "execution_count": 4,
   "metadata": {},
   "outputs": [
    {
     "name": "stdout",
     "output_type": "stream",
     "text": [
      "RemoteTelemetry(ATPtg, 0, currentTargetStatus) falling behind; read 19 messages\n"
     ]
    }
   ],
   "source": [
    "# Declare target name\n",
    "target_name='HD32309'"
   ]
  },
  {
   "cell_type": "code",
   "execution_count": 8,
   "metadata": {},
   "outputs": [
    {
     "name": "stdout",
     "output_type": "stream",
     "text": [
      "Gathering settings.\n",
      "Received settings from users.: {'ataos': 'current', 'atmcs': '', 'atptg': '', 'atpneumatics': '', 'athexapod': 'auxtel_201912_crazy.yaml', 'atdome': 'test.yaml', 'atdometrajectory': ''}\n",
      "Settings versions: {'ataos': 'current', 'atmcs': '', 'atptg': '', 'atpneumatics': '', 'athexapod': 'auxtel_201912_crazy.yaml', 'atdome': 'test.yaml', 'atdometrajectory': ''}\n",
      "Enabling all components\n",
      "Enabling  atmcs\n",
      "Enabling  atptg\n",
      "Enabling  ataos\n",
      "Enabling  atpneumatics\n",
      "Enabling  athexapod\n",
      "Enabling  atdome\n",
      "Enabling  atdometrajectory\n",
      "[atmcs]::[<State.ENABLED: 2>]\n",
      "[atptg]::[<State.ENABLED: 2>]\n",
      "[ataos]::[<State.ENABLED: 2>]\n",
      "[atpneumatics]::[<State.ENABLED: 2>]\n",
      "[athexapod]::[<State.ENABLED: 2>]\n",
      "[atdome]::[<State.ENABLED: 2>]\n",
      "[atdometrajectory]::[<State.ENABLED: 2>]\n",
      "All components enabled.\n"
     ]
    }
   ],
   "source": [
    "await attcs.enable(settings={\n",
    "    'ataos': \"current\",\n",
    "    'atmcs': \"\",\n",
    "    'atptg': \"\",\n",
    "    'atpneumatics': \"\",\n",
    "    'athexapod': \"auxtel_201912_crazy.yaml\",\n",
    "    'atdome': \"test.yaml\",\n",
    "    'atdometrajectory': \"\"})"
   ]
  },
  {
   "cell_type": "code",
   "execution_count": null,
   "metadata": {},
   "outputs": [],
   "source": [
    "rotation_matrix = lambda angle: np.array([\n",
    "            [np.cos(np.radians(angle)), -np.sin(np.radians(angle)), 0.],\n",
    "            [np.sin(np.radians(angle)), np.cos(np.radians(angle)), 0.],\n",
    "            [0., 0., 1.]])"
   ]
  },
  {
   "cell_type": "code",
   "execution_count": 9,
   "metadata": {},
   "outputs": [
    {
     "name": "stdout",
     "output_type": "stream",
     "text": [
      "Flushing events\n",
      "Sending command\n",
      "Scheduling check coroutines\n",
      "process as completed...\n",
      "[Telescope] delta Alt = -000.332 | delta Az= -000.474 [Dome] delta Az = -000.263\n",
      "[Telescope] delta Alt = -000.043 | delta Az= -000.106 [Dome] delta Az = -000.263\n",
      "[Telescope] delta Alt = +000.001 | delta Az= +000.001 [Dome] delta Az = -000.263\n"
     ]
    },
    {
     "ename": "AttributeError",
     "evalue": "'NoneType' object has no attribute 'private_sndStamp'",
     "output_type": "error",
     "traceback": [
      "\u001b[0;31m\u001b[0m",
      "\u001b[0;31mAttributeError\u001b[0mTraceback (most recent call last)",
      "\u001b[0;32m<ipython-input-9-a8cc027aa602>\u001b[0m in \u001b[0;36masync-def-wrapper\u001b[0;34m()\u001b[0m\n",
      "\u001b[0;32m~/repos/ts_standardscripts/python/lsst/ts/standardscripts/auxtel/attcs.py\u001b[0m in \u001b[0;36mslew_icrs\u001b[0;34m(self, ra, dec, rot_sky, rot_pa, target_name, slew_timeout, track_id)\u001b[0m\n\u001b[1;32m    243\u001b[0m                         \u001b[0mrot_mode\u001b[0m\u001b[0;34m=\u001b[0m\u001b[0mATPtg\u001b[0m\u001b[0;34m.\u001b[0m\u001b[0mRotMode\u001b[0m\u001b[0;34m.\u001b[0m\u001b[0mFIELD\u001b[0m\u001b[0;34m,\u001b[0m\u001b[0;34m\u001b[0m\u001b[0;34m\u001b[0m\u001b[0m\n\u001b[1;32m    244\u001b[0m                         \u001b[0mslew_timeout\u001b[0m\u001b[0;34m=\u001b[0m\u001b[0mslew_timeout\u001b[0m\u001b[0;34m,\u001b[0m\u001b[0;34m\u001b[0m\u001b[0;34m\u001b[0m\u001b[0m\n\u001b[0;32m--> 245\u001b[0;31m                         track_id=track_id)\n\u001b[0m\u001b[1;32m    246\u001b[0m \u001b[0;34m\u001b[0m\u001b[0m\n\u001b[1;32m    247\u001b[0m     async def slew(self, ra, dec, rotPA=0., target_name=\"slew_icrs\",\n",
      "\u001b[0;32m~/repos/ts_standardscripts/python/lsst/ts/standardscripts/auxtel/attcs.py\u001b[0m in \u001b[0;36mslew\u001b[0;34m(self, ra, dec, rotPA, target_name, target_instance, frame, epoch, equinox, parallax, pmRA, pmDec, rv, dRA, dDec, rot_frame, rot_mode, slew_timeout, track_id)\u001b[0m\n\u001b[1;32m    289\u001b[0m \u001b[0;34m\u001b[0m\u001b[0m\n\u001b[1;32m    290\u001b[0m         await self._slew_to(self.atptg.cmd_raDecTarget,\n\u001b[0;32m--> 291\u001b[0;31m                             slew_timeout=slew_timeout)\n\u001b[0m\u001b[1;32m    292\u001b[0m \u001b[0;34m\u001b[0m\u001b[0m\n\u001b[1;32m    293\u001b[0m     async def slew_to_planet(self, planet,\n",
      "\u001b[0;32m~/repos/ts_standardscripts/python/lsst/ts/standardscripts/auxtel/attcs.py\u001b[0m in \u001b[0;36m_slew_to\u001b[0;34m(self, slew_cmd, slew_timeout)\u001b[0m\n\u001b[1;32m    858\u001b[0m         \u001b[0;32mfor\u001b[0m \u001b[0mres\u001b[0m \u001b[0;32min\u001b[0m \u001b[0masyncio\u001b[0m\u001b[0;34m.\u001b[0m\u001b[0mas_completed\u001b[0m\u001b[0;34m(\u001b[0m\u001b[0mcoro_list\u001b[0m\u001b[0;34m)\u001b[0m\u001b[0;34m:\u001b[0m\u001b[0;34m\u001b[0m\u001b[0;34m\u001b[0m\u001b[0m\n\u001b[1;32m    859\u001b[0m             \u001b[0;32mtry\u001b[0m\u001b[0;34m:\u001b[0m\u001b[0;34m\u001b[0m\u001b[0;34m\u001b[0m\u001b[0m\n\u001b[0;32m--> 860\u001b[0;31m                 \u001b[0mret_val\u001b[0m \u001b[0;34m=\u001b[0m \u001b[0;32mawait\u001b[0m \u001b[0mres\u001b[0m\u001b[0;34m\u001b[0m\u001b[0;34m\u001b[0m\u001b[0m\n\u001b[0m\u001b[1;32m    861\u001b[0m                 \u001b[0mself\u001b[0m\u001b[0;34m.\u001b[0m\u001b[0mlog\u001b[0m\u001b[0;34m.\u001b[0m\u001b[0mdebug\u001b[0m\u001b[0;34m(\u001b[0m\u001b[0mret_val\u001b[0m\u001b[0;34m)\u001b[0m\u001b[0;34m\u001b[0m\u001b[0;34m\u001b[0m\u001b[0m\n\u001b[1;32m    862\u001b[0m             \u001b[0;32mexcept\u001b[0m \u001b[0mRuntimeError\u001b[0m \u001b[0;32mas\u001b[0m \u001b[0mrte\u001b[0m\u001b[0;34m:\u001b[0m\u001b[0;34m\u001b[0m\u001b[0;34m\u001b[0m\u001b[0m\n",
      "\u001b[0;32m/opt/lsst/software/stack/python/miniconda3-4.7.10/envs/lsst-scipipe-4d7b902/lib/python3.7/asyncio/tasks.py\u001b[0m in \u001b[0;36m_wait_for_one\u001b[0;34m()\u001b[0m\n\u001b[1;32m    531\u001b[0m             \u001b[0;31m# Dummy value from _on_timeout().\u001b[0m\u001b[0;34m\u001b[0m\u001b[0;34m\u001b[0m\u001b[0;34m\u001b[0m\u001b[0m\n\u001b[1;32m    532\u001b[0m             \u001b[0;32mraise\u001b[0m \u001b[0mfutures\u001b[0m\u001b[0;34m.\u001b[0m\u001b[0mTimeoutError\u001b[0m\u001b[0;34m\u001b[0m\u001b[0;34m\u001b[0m\u001b[0m\n\u001b[0;32m--> 533\u001b[0;31m         \u001b[0;32mreturn\u001b[0m \u001b[0mf\u001b[0m\u001b[0;34m.\u001b[0m\u001b[0mresult\u001b[0m\u001b[0;34m(\u001b[0m\u001b[0;34m)\u001b[0m  \u001b[0;31m# May raise f.exception().\u001b[0m\u001b[0;34m\u001b[0m\u001b[0;34m\u001b[0m\u001b[0m\n\u001b[0m\u001b[1;32m    534\u001b[0m \u001b[0;34m\u001b[0m\u001b[0m\n\u001b[1;32m    535\u001b[0m     \u001b[0;32mfor\u001b[0m \u001b[0mf\u001b[0m \u001b[0;32min\u001b[0m \u001b[0mtodo\u001b[0m\u001b[0;34m:\u001b[0m\u001b[0;34m\u001b[0m\u001b[0;34m\u001b[0m\u001b[0m\n",
      "\u001b[0;32m~/repos/ts_standardscripts/python/lsst/ts/standardscripts/auxtel/attcs.py\u001b[0m in \u001b[0;36mwait_for_inposition\u001b[0;34m(self, timeout, cmd_ack)\u001b[0m\n\u001b[1;32m    929\u001b[0m \u001b[0;34m\u001b[0m\u001b[0m\n\u001b[1;32m    930\u001b[0m         \u001b[0;32mif\u001b[0m \u001b[0mself\u001b[0m\u001b[0;34m.\u001b[0m\u001b[0mcheck\u001b[0m\u001b[0;34m.\u001b[0m\u001b[0matmcs\u001b[0m\u001b[0;34m:\u001b[0m\u001b[0;34m\u001b[0m\u001b[0;34m\u001b[0m\u001b[0m\n\u001b[0;32m--> 931\u001b[0;31m             \u001b[0mstatus\u001b[0m\u001b[0;34m.\u001b[0m\u001b[0mappend\u001b[0m\u001b[0;34m(\u001b[0m\u001b[0;32mawait\u001b[0m \u001b[0mself\u001b[0m\u001b[0;34m.\u001b[0m\u001b[0mwait_for_atmcs_inposition\u001b[0m\u001b[0;34m(\u001b[0m\u001b[0mtimeout\u001b[0m\u001b[0;34m,\u001b[0m \u001b[0mcmd_ack\u001b[0m\u001b[0;34m)\u001b[0m\u001b[0;34m)\u001b[0m\u001b[0;34m\u001b[0m\u001b[0;34m\u001b[0m\u001b[0m\n\u001b[0m\u001b[1;32m    932\u001b[0m \u001b[0;34m\u001b[0m\u001b[0m\n\u001b[1;32m    933\u001b[0m         \u001b[0;32mif\u001b[0m \u001b[0mself\u001b[0m\u001b[0;34m.\u001b[0m\u001b[0mcheck\u001b[0m\u001b[0;34m.\u001b[0m\u001b[0matdome\u001b[0m\u001b[0;34m:\u001b[0m\u001b[0;34m\u001b[0m\u001b[0;34m\u001b[0m\u001b[0m\n",
      "\u001b[0;32m~/repos/ts_standardscripts/python/lsst/ts/standardscripts/auxtel/attcs.py\u001b[0m in \u001b[0;36mwait_for_atmcs_inposition\u001b[0;34m(self, timeout, cmd_ack)\u001b[0m\n\u001b[1;32m    960\u001b[0m \u001b[0;34m\u001b[0m\u001b[0m\n\u001b[1;32m    961\u001b[0m             \u001b[0;31m# make sure timestamp of event is after command was acknowledged.\u001b[0m\u001b[0;34m\u001b[0m\u001b[0;34m\u001b[0m\u001b[0;34m\u001b[0m\u001b[0m\n\u001b[0;32m--> 962\u001b[0;31m             \u001b[0;32mif\u001b[0m \u001b[0min_position\u001b[0m\u001b[0;34m.\u001b[0m\u001b[0mprivate_sndStamp\u001b[0m \u001b[0;34m<\u001b[0m \u001b[0mcmd_ack\u001b[0m\u001b[0;34m.\u001b[0m\u001b[0mprivate_sndStamp\u001b[0m\u001b[0;34m:\u001b[0m\u001b[0;34m\u001b[0m\u001b[0;34m\u001b[0m\u001b[0m\n\u001b[0m\u001b[1;32m    963\u001b[0m                 \u001b[0mself\u001b[0m\u001b[0;34m.\u001b[0m\u001b[0mlog\u001b[0m\u001b[0;34m.\u001b[0m\u001b[0mdebug\u001b[0m\u001b[0;34m(\u001b[0m\u001b[0;34m\"Received old event. Ignoring.\"\u001b[0m\u001b[0;34m)\u001b[0m\u001b[0;34m\u001b[0m\u001b[0;34m\u001b[0m\u001b[0m\n\u001b[1;32m    964\u001b[0m \u001b[0;34m\u001b[0m\u001b[0m\n",
      "\u001b[0;31mAttributeError\u001b[0m: 'NoneType' object has no attribute 'private_sndStamp'"
     ]
    },
    {
     "name": "stdout",
     "output_type": "stream",
     "text": [
      "Axes in position.\n"
     ]
    }
   ],
   "source": [
    "await attcs.slew_icrs(ra = \"5 01 25.58\", dec = \"-20 03 06.9\", rot_pa=-155.-88-48.-8-7, target_name=target_name)"
   ]
  },
  {
   "cell_type": "code",
   "execution_count": null,
   "metadata": {},
   "outputs": [],
   "source": [
    "-1./4200.*-125, -1./131*-60"
   ]
  },
  {
   "cell_type": "code",
   "execution_count": null,
   "metadata": {},
   "outputs": [],
   "source": [
    "attcs.athexapod.evt_positionUpdate.flush()\n",
    "await attcs.ataos.cmd_offset.set_start(x=0.,y=0.,z=0.02)\n",
    "curr_hex_pos = await attcs.athexapod.evt_positionUpdate.next(flush=False, timeout=30)"
   ]
  },
  {
   "cell_type": "code",
   "execution_count": null,
   "metadata": {},
   "outputs": [],
   "source": [
    "attcs.athexapod.evt_positionUpdate.flush()\n",
    "await attcs.ataos.cmd_offset.set_start(x=-0.5,y=0.4,z=0.)\n",
    "curr_hex_pos = await attcs.athexapod.evt_positionUpdate.next(flush=False, timeout=30)"
   ]
  },
  {
   "cell_type": "code",
   "execution_count": 10,
   "metadata": {},
   "outputs": [
    {
     "data": {
      "text/plain": [
       "<lsst.ts.salobj.ddsutil.ATPtg_ackcmd_2d655b72 at 0x7fc4c6d9ff60>"
      ]
     },
     "execution_count": 10,
     "metadata": {},
     "output_type": "execute_result"
    }
   ],
   "source": [
    "await attcs.atptg.cmd_offsetAzEl.set_start(az=49.-41.22144+27, el=16.+35-21.6, num=0) "
   ]
  },
  {
   "cell_type": "code",
   "execution_count": 15,
   "metadata": {},
   "outputs": [
    {
     "data": {
      "text/plain": [
       "-0.011904761904761904"
      ]
     },
     "execution_count": 15,
     "metadata": {},
     "output_type": "execute_result"
    },
    {
     "name": "stdout",
     "output_type": "stream",
     "text": [
      "RemoteEvent(ATDomeTrajectory, 0, logMessage) falling behind; read 10 messages\n",
      "RemoteEvent(ATMCS, 0, target) falling behind; read 100 messages\n"
     ]
    }
   ],
   "source": [
    "-1./4200.*50."
   ]
  },
  {
   "cell_type": "code",
   "execution_count": null,
   "metadata": {},
   "outputs": [],
   "source": [
    "x = -60\n",
    "y = +80"
   ]
  },
  {
   "cell_type": "code",
   "execution_count": 14,
   "metadata": {},
   "outputs": [],
   "source": [
    "attcs.athexapod.evt_positionUpdate.flush()\n",
    "await attcs.ataos.cmd_offset.set_start(x=0.,y=0.,z=-0.03)\n",
    "curr_hex_pos = await attcs.athexapod.evt_positionUpdate.next(flush=False, timeout=30)"
   ]
  },
  {
   "cell_type": "code",
   "execution_count": null,
   "metadata": {},
   "outputs": [],
   "source": [
    "-54.*0.4"
   ]
  },
  {
   "cell_type": "code",
   "execution_count": null,
   "metadata": {},
   "outputs": [],
   "source": [
    "-54*0.648854961832061"
   ]
  },
  {
   "cell_type": "code",
   "execution_count": null,
   "metadata": {},
   "outputs": [],
   "source": [
    "await attcs.ataos.cmd_offset.set_start(x=0.,y=0.,z=-0.8)\n",
    "\n"
   ]
  },
  {
   "cell_type": "code",
   "execution_count": null,
   "metadata": {},
   "outputs": [],
   "source": []
  },
  {
   "cell_type": "markdown",
   "metadata": {},
   "source": [
    "If rotator is aligned with boresight:\n",
    "\n",
    " +El-offset = -x-axis\n",
    "\n",
    " +Az-offset = -y-axis\n",
    " \n",
    " hexapod movement in y is movement in x\n",
    " "
   ]
  },
  {
   "cell_type": "code",
   "execution_count": null,
   "metadata": {},
   "outputs": [],
   "source": [
    "await attcs.atptg.cmd_offsetAzEl.set_start(az=49., el=16., num=0)"
   ]
  },
  {
   "cell_type": "code",
   "execution_count": null,
   "metadata": {},
   "outputs": [],
   "source": [
    "azel = await attcs.atmcs.tel_mount_AzEl_Encoders.aget()\n",
    "nasmyth = await attcs.atmcs.tel_mount_Nasmyth_Encoders.aget()\n",
    "angle = np.mean(azel.elevationCalculatedAngle)+np.mean(nasmyth.nasmyth1CalculatedAngle)\n",
    "el, az, _ = np.matmul([20, -18, 0.], rotation_matrix(angle))\n",
    "print(az,el)\n",
    "await attcs.atptg.cmd_offsetAzEl.set_start(az=az, el=el, num=0)\n"
   ]
  },
  {
   "cell_type": "code",
   "execution_count": null,
   "metadata": {},
   "outputs": [],
   "source": [
    "azel = await attcs.atmcs.tel_mount_AzEl_Encoders.aget()\n",
    "nasmyth = await attcs.atmcs.tel_mount_Nasmyth_Encoders.aget()\n",
    "angle = np.mean(azel.elevationCalculatedAngle)+np.mean(nasmyth.nasmyth1CalculatedAngle)\n",
    "el, az, _ = np.matmul([20-90., -18, 0.], rotation_matrix(angle))\n",
    "print(az,el)\n",
    "await attcs.atptg.cmd_offsetAzEl.set_start(az=az, el=el, num=0)\n",
    "\n"
   ]
  },
  {
   "cell_type": "code",
   "execution_count": null,
   "metadata": {},
   "outputs": [],
   "source": [
    "offset_x = (np.random.random()-0.5)*240.\n",
    "offset_y = (np.random.random()-0.5)*240.\n",
    "print(offset_x, offset_y)\n",
    "azel = await attcs.atmcs.tel_mount_AzEl_Encoders.aget()\n",
    "nasmyth = await attcs.atmcs.tel_mount_Nasmyth_Encoders.aget()\n",
    "angle = np.mean(azel.elevationCalculatedAngle)+np.mean(nasmyth.nasmyth1CalculatedAngle)\n",
    "el, az, _ = np.matmul([20+offset_x, -18+offset_y, 0.], rotation_matrix(angle))\n",
    "await attcs.atptg.cmd_offsetAzEl.set_start(az=az, el=el, num=0)\n"
   ]
  },
  {
   "cell_type": "code",
   "execution_count": null,
   "metadata": {},
   "outputs": [],
   "source": [
    "c = salobj.Controller(\"Script\", index=11)"
   ]
  },
  {
   "cell_type": "code",
   "execution_count": null,
   "metadata": {},
   "outputs": [],
   "source": [
    "await c.start_task"
   ]
  },
  {
   "cell_type": "code",
   "execution_count": null,
   "metadata": {},
   "outputs": [],
   "source": [
    "offset_x = (np.random.random()-0.5)*240.\n",
    "offset_y = (np.random.random()-0.5)*240.\n",
    "print(offset_x, offset_y)\n",
    "azel = await attcs.atmcs.tel_mount_AzEl_Encoders.aget()\n",
    "nasmyth = await attcs.atmcs.tel_mount_Nasmyth_Encoders.aget()\n",
    "angle = np.mean(azel.elevationCalculatedAngle)+np.mean(nasmyth.nasmyth1CalculatedAngle)\n",
    "el, az, _ = np.matmul([20+offset_x, -18+offset_y, 0.], rotation_matrix(angle))\n",
    "await attcs.atptg.cmd_offsetAzEl.set_start(az=az, el=el, num=0)\n",
    "\n"
   ]
  },
  {
   "cell_type": "code",
   "execution_count": null,
   "metadata": {},
   "outputs": [],
   "source": [
    "offset_x = (np.random.random()-0.5)*240.\n",
    "offset_y = (np.random.random()-0.5)*240.\n",
    "print(offset_x, offset_y)\n",
    "azel = await attcs.atmcs.tel_mount_AzEl_Encoders.aget()\n",
    "nasmyth = await attcs.atmcs.tel_mount_Nasmyth_Encoders.aget()\n",
    "angle = np.mean(azel.elevationCalculatedAngle)+np.mean(nasmyth.nasmyth1CalculatedAngle)\n",
    "el, az, _ = np.matmul([20+offset_x, -18+offset_y, 0.], rotation_matrix(angle))\n",
    "await attcs.atptg.cmd_offsetAzEl.set_start(az=az, el=el, num=0)"
   ]
  },
  {
   "cell_type": "code",
   "execution_count": null,
   "metadata": {},
   "outputs": [],
   "source": [
    "offset_x = (np.random.random()-0.5)*240.\n",
    "offset_y = (np.random.random()-0.5)*240.\n",
    "print(offset_x, offset_y)\n",
    "azel = await attcs.atmcs.tel_mount_AzEl_Encoders.aget()\n",
    "nasmyth = await attcs.atmcs.tel_mount_Nasmyth_Encoders.aget()\n",
    "angle = np.mean(azel.elevationCalculatedAngle)+np.mean(nasmyth.nasmyth1CalculatedAngle)\n",
    "el, az, _ = np.matmul([20+offset_x, -18+offset_y, 0.], rotation_matrix(angle))\n",
    "await attcs.atptg.cmd_offsetAzEl.set_start(az=az, el=el, num=0)"
   ]
  },
  {
   "cell_type": "code",
   "execution_count": null,
   "metadata": {},
   "outputs": [],
   "source": [
    "offset_x = (np.random.random()-0.5)*240.\n",
    "offset_y = (np.random.random()-0.5)*240.\n",
    "print(offset_x, offset_y)\n",
    "azel = await attcs.atmcs.tel_mount_AzEl_Encoders.aget()\n",
    "nasmyth = await attcs.atmcs.tel_mount_Nasmyth_Encoders.aget()\n",
    "angle = np.mean(azel.elevationCalculatedAngle)+np.mean(nasmyth.nasmyth1CalculatedAngle)\n",
    "el, az, _ = np.matmul([20+offset_x, -18+offset_y, 0.], rotation_matrix(angle))\n",
    "await attcs.atptg.cmd_offsetAzEl.set_start(az=az, el=el, num=0)"
   ]
  },
  {
   "cell_type": "code",
   "execution_count": null,
   "metadata": {},
   "outputs": [],
   "source": [
    "offset_x = (np.random.random()-0.5)*240.\n",
    "offset_y = (np.random.random()-0.5)*240.\n",
    "print(offset_x, offset_y)\n",
    "azel = await attcs.atmcs.tel_mount_AzEl_Encoders.aget()\n",
    "nasmyth = await attcs.atmcs.tel_mount_Nasmyth_Encoders.aget()\n",
    "angle = np.mean(azel.elevationCalculatedAngle)+np.mean(nasmyth.nasmyth1CalculatedAngle)\n",
    "el, az, _ = np.matmul([20+offset_x, -18+offset_y, 0.], rotation_matrix(angle))\n",
    "await attcs.atptg.cmd_offsetAzEl.set_start(az=az, el=el, num=0)"
   ]
  },
  {
   "cell_type": "code",
   "execution_count": null,
   "metadata": {},
   "outputs": [],
   "source": [
    "await attcs.ataos.cmd_offset.set_start(z=+0.05)\n",
    "curr_hex_pos = await attcs.athexapod.evt_positionUpdate.next(flush=False, timeout=30)"
   ]
  },
  {
   "cell_type": "code",
   "execution_count": null,
   "metadata": {},
   "outputs": [],
   "source": []
  },
  {
   "cell_type": "code",
   "execution_count": null,
   "metadata": {},
   "outputs": [],
   "source": []
  },
  {
   "cell_type": "code",
   "execution_count": null,
   "metadata": {},
   "outputs": [],
   "source": []
  },
  {
   "cell_type": "code",
   "execution_count": null,
   "metadata": {},
   "outputs": [],
   "source": []
  },
  {
   "cell_type": "code",
   "execution_count": null,
   "metadata": {},
   "outputs": [],
   "source": []
  },
  {
   "cell_type": "code",
   "execution_count": null,
   "metadata": {},
   "outputs": [],
   "source": []
  },
  {
   "cell_type": "code",
   "execution_count": null,
   "metadata": {},
   "outputs": [],
   "source": [
    "await attcs.enable(settings={\n",
    "    'ataos': \"current\",\n",
    "    'atmcs': \"\",\n",
    "    'atptg': \"\",\n",
    "    'atpneumatics': \"\",\n",
    "    'athexapod': \"auxtel_201912_crazy.yaml\",\n",
    "    'atdome': \"test.yaml\",\n",
    "    'atdometrajectory': \"\"})"
   ]
  },
  {
   "cell_type": "code",
   "execution_count": null,
   "metadata": {},
   "outputs": [],
   "source": [
    "rotation_matrix = lambda angle: np.array([\n",
    "            [np.cos(np.radians(angle)), -np.sin(np.radians(angle)), 0.],\n",
    "            [np.sin(np.radians(angle)), np.cos(np.radians(angle)), 0.],\n",
    "            [0., 0., 1.]])\n",
    "azel = await attcs.atmcs.tel_mount_AzEl_Encoders.aget()\n",
    "nasmyth = await attcs.atmcs.tel_mount_Nasmyth_Encoders.aget()\n",
    "angle = np.mean(azel.elevationCalculatedAngle)+np.mean(nasmyth.nasmyth1CalculatedAngle)\n",
    "el, az, _ = np.matmul([20, -18., 0.], rotation_matrix(angle))"
   ]
  },
  {
   "cell_type": "code",
   "execution_count": null,
   "metadata": {},
   "outputs": [],
   "source": [
    "el, az"
   ]
  },
  {
   "cell_type": "code",
   "execution_count": null,
   "metadata": {},
   "outputs": [],
   "source": [
    "await attcs.atptg.cmd_offsetAzEl.set_start(az=az, el=el, num=0)"
   ]
  },
  {
   "cell_type": "code",
   "execution_count": null,
   "metadata": {},
   "outputs": [],
   "source": [
    "5*360/24"
   ]
  },
  {
   "cell_type": "code",
   "execution_count": null,
   "metadata": {},
   "outputs": [],
   "source": [
    "attcs.slew_icrs?"
   ]
  },
  {
   "cell_type": "code",
   "execution_count": null,
   "metadata": {},
   "outputs": [],
   "source": [
    "await attcs.slew_icrs"
   ]
  },
  {
   "cell_type": "code",
   "execution_count": null,
   "metadata": {},
   "outputs": [],
   "source": [
    "await attcs.ataos.cmd_applyAxisOffset.set_start(axis=\"x\", offset=x_offset)\n",
    "await attcs.ataos.cmd_applyAxisOffset.set_start(axis=\"y\", offset=y_offset)"
   ]
  },
  {
   "cell_type": "code",
   "execution_count": null,
   "metadata": {},
   "outputs": [],
   "source": [
    "await attcs.ataos.cmd_applyAxisOffset.set_start(axis=\"z\", offset=focus_offset)"
   ]
  },
  {
   "cell_type": "code",
   "execution_count": null,
   "metadata": {},
   "outputs": [],
   "source": [
    "dz = 0.8\n",
    "\n",
    "try:\n",
    "    await cam.cmd_stopLiveView.start()\n",
    "except salobj.AckError:\n",
    "    print(\"ack error\")\n",
    "\n",
    "# Intrafocal hexapod setting - offsets -0.5mm from central focus value above\n",
    "\n",
    "print('Move to intrafocal position')\n",
    "# await attcs.athexapod.cmd_moveToPosition.set_start(x=hex_X, y=hex_Y,\n",
    "#                                              z=hex_Z-dz, u=hex_U, v=hex_V)\n",
    "attcs.athexapod.evt_positionUpdate.flush()\n",
    "await attcs.ataos.cmd_applyAxisOffset.set_start(axis=\"z\", offset=-dz+focus_offset)\n",
    "curr_hex_pos = await attcs.athexapod.evt_positionUpdate.next(flush=False, timeout=30)\n",
    "\n",
    "print('Take intrafocal image')\n",
    "cam.evt_endReadout.flush()\n",
    "\n",
    "await cam.cmd_takeImages.set_start(numImages=1, expTime=expTime, shutter=True, imageSequenceName=target_name+'_intra')\n",
    "\n",
    "intra_endron = await cam.evt_endReadout.next(flush=False, timeout=5)\n",
    "\n",
    "# Extrafocal hexapod setting\n",
    "print('Move to extra-focal hexapod position')\n",
    "# await attcs.athexapod.cmd_moveToPosition.set_start(x=hex_X, y=hex_Y,\n",
    "#                                                      z=hex_Z+dz, u=hex_U, v=hex_V)\n",
    "attcs.athexapod.evt_positionUpdate.flush()\n",
    "await attcs.ataos.cmd_applyAxisOffset.set_start(axis=\"z\", offset=dz+focus_offset)\n",
    "curr_hex_pos = await attcs.athexapod.evt_positionUpdate.next(flush=False, timeout=30)\n",
    "\n",
    "# r.evt_endReadout.flush()\n",
    "print('Take extra-focal image')\n",
    "cam.evt_endReadout.flush()\n",
    "await cam.cmd_takeImages.set_start(numImages=1, expTime=expTime, shutter=True, imageSequenceName=target_name+'_extra')\n",
    "\n",
    "extra_endron = await cam.evt_endReadout.next(flush=False, timeout=5)\n",
    "\n",
    "azel = await attcs.atmcs.tel_mount_AzEl_Encoders.aget()\n",
    "nasmyth = await attcs.atmcs.tel_mount_Nasmyth_Encoders.aget()\n",
    "\n",
    "print(f\"============\")\n",
    "print(f\"dz={dz}\")\n",
    "print(intra_endron.imageName)\n",
    "print(extra_endron.imageName)\n",
    "print(f\"============\")\n",
    "\n",
    "try:\n",
    "    await cam.cmd_startLiveView.set_start(expTime=0.5)\n",
    "except salobj.AckError:\n",
    "    print(\"ack error\")\n",
    "\n",
    "attcs.athexapod.evt_positionUpdate.flush()\n",
    "await attcs.ataos.cmd_applyAxisOffset.set_start(axis=\"z\", offset=focus_offset)\n",
    "curr_hex_pos = await attcs.athexapod.evt_positionUpdate.next(flush=False, timeout=30)\n",
    "\n",
    "print(f\"['{intra_endron.imageName}.fits'], ['{extra_endron.imageName}.fits']\")\n",
    "print(np.mean(azel.elevationCalculatedAngle)+np.mean(nasmyth.nasmyth1CalculatedAngle))\n",
    "\n",
    "# intra_wget_url = 'http://139.229.170.216:8000/data/'+intra_endron.imageName+'.fits'\n",
    "# extra_wget_url = 'http://139.229.170.216:8000/data/'+extra_endron.imageName+'.fits'\n",
    "# intra_fname = wget.download(intra_wget_url)\n",
    "# print(f\"============\")\n",
    "# print(f'{intra_fname}')\n",
    "# extra_fname = wget.download(extra_wget_url)\n",
    "# print(f'{extra_fname}')\n",
    "# print(f\"============\")\n"
   ]
  },
  {
   "cell_type": "code",
   "execution_count": null,
   "metadata": {},
   "outputs": [],
   "source": [
    "intra_wget_url = 'http://139.229.170.216:8000/data/'+intra_endron.imageName+'.fits'\n",
    "extra_wget_url = 'http://139.229.170.216:8000/data/'+extra_endron.imageName+'.fits'\n",
    "\n",
    "intra_fname = wget.download(intra_wget_url, out=\"/home/saluser/develop/cwfs/python/data\")\n",
    "extra_fname = wget.download(extra_wget_url, out=\"/home/saluser/develop/cwfs/python/data\")\n",
    "\n",
    "print(intra_fname,extra_fname)"
   ]
  },
  {
   "cell_type": "code",
   "execution_count": null,
   "metadata": {},
   "outputs": [],
   "source": []
  },
  {
   "cell_type": "code",
   "execution_count": null,
   "metadata": {},
   "outputs": [],
   "source": [
    "await attcs.ataos.cmd_offset.set_start(z=0.)"
   ]
  },
  {
   "cell_type": "code",
   "execution_count": null,
   "metadata": {},
   "outputs": [],
   "source": [
    "await attcs.ataos.cmd_resetOffset.start()"
   ]
  },
  {
   "cell_type": "code",
   "execution_count": null,
   "metadata": {},
   "outputs": [],
   "source": [
    "await attcs.ataos.cmd_offset.set_start(z=-0.1)\n",
    "curr_hex_pos = await attcs.athexapod.evt_positionUpdate.next(flush=False, timeout=30)\n",
    "print(\"done\")"
   ]
  },
  {
   "cell_type": "code",
   "execution_count": null,
   "metadata": {},
   "outputs": [],
   "source": [
    "await attcs.atdome.cmd_openShutter.start()"
   ]
  },
  {
   "cell_type": "code",
   "execution_count": 1,
   "metadata": {},
   "outputs": [
    {
     "name": "stdout",
     "output_type": "stream",
     "text": [
      "\n"
     ]
    }
   ],
   "source": [
    "print()"
   ]
  },
  {
   "cell_type": "code",
   "execution_count": null,
   "metadata": {},
   "outputs": [],
   "source": []
  }
 ],
 "metadata": {
  "kernelspec": {
   "display_name": "Python 3",
   "language": "python",
   "name": "python3"
  },
  "language_info": {
   "codemirror_mode": {
    "name": "ipython",
    "version": 3
   },
   "file_extension": ".py",
   "mimetype": "text/x-python",
   "name": "python",
   "nbconvert_exporter": "python",
   "pygments_lexer": "ipython3",
   "version": "3.7.2"
  }
 },
 "nbformat": 4,
 "nbformat_minor": 4
}
