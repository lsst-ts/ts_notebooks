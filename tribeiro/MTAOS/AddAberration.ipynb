{
 "cells": [
  {
   "cell_type": "markdown",
   "id": "final-scenario",
   "metadata": {},
   "source": [
    "# MTAOS addAberration\n",
    "\n",
    "Notebook to show how the addAberration command in MTAOS works.\n",
    "\n",
    "Notes\n",
    "=====\n",
    "\n",
    "* Need w_2021_12 to run, w_13 (and probably higher versions) won't run, due to changes in lsst.afw.cameraGeom\n",
    "* need MTAOS, wep, ofc\n",
    "* best run on teststand, not lsp, because MTAOS needs to import dds library"
   ]
  },
  {
   "cell_type": "code",
   "execution_count": null,
   "id": "painted-slovenia",
   "metadata": {},
   "outputs": [],
   "source": [
    "import numpy as np\n",
    "\n",
    "from lsst.ts.MTAOS.CollOfListOfWfErr import CollOfListOfWfErr\n",
    "from lsst.ts.ofc.ctrlIntf.OFCCalculationFactory import OFCCalculationFactory\n",
    "from lsst.ts.wep.Utility import CamType\n",
    "from lsst.ts.ofc.Utility import getConfigDir, DofGroup\n",
    "from lsst.ts.ofc.ctrlIntf.FWHMSensorData import FWHMSensorData\n",
    "from lsst.ts.wep.ctrlIntf.MapSensorNameAndId import MapSensorNameAndId\n",
    "from lsst.ts.wep.ctrlIntf.SensorWavefrontError import SensorWavefrontError\n",
    "from lsst.ts.wep.Utility import FilterType\n",
    "from lsst.ts.wep.bsc.CamFactory import CamFactory"
   ]
  },
  {
   "cell_type": "code",
   "execution_count": null,
   "id": "continuous-sunset",
   "metadata": {},
   "outputs": [],
   "source": [
    "comcam = CamFactory.createCam(CamType.ComCam)"
   ]
  },
  {
   "cell_type": "code",
   "execution_count": null,
   "id": "banner-victorian",
   "metadata": {},
   "outputs": [],
   "source": [
    "comcam.getWfsCcdList()"
   ]
  },
  {
   "cell_type": "code",
   "execution_count": null,
   "id": "extraordinary-region",
   "metadata": {},
   "outputs": [],
   "source": [
    "ofc = OFCCalculationFactory.getCalculator(CamType.ComCam, None)"
   ]
  },
  {
   "cell_type": "code",
   "execution_count": null,
   "id": "simple-travel",
   "metadata": {},
   "outputs": [],
   "source": [
    "detectorList = [\n",
    "            \"R22_S02\",\n",
    "            \"R22_S12\",\n",
    "            \"R22_S22\",\n",
    "            \"R22_S01\",\n",
    "            \"R22_S11\",\n",
    "            \"R22_S21\",\n",
    "            \"R22_S00\",\n",
    "            \"R22_S10\",\n",
    "            \"R22_S20\",\n",
    "        ]"
   ]
  },
  {
   "cell_type": "code",
   "execution_count": null,
   "id": "suspended-telescope",
   "metadata": {},
   "outputs": [],
   "source": [
    "sensorIdList = ofc.ztaac.mapSensorNameToId(detectorList)"
   ]
  },
  {
   "cell_type": "code",
   "execution_count": null,
   "id": "dutch-rachel",
   "metadata": {},
   "outputs": [],
   "source": [
    "intrinsic_zk = ofc.ztaac.dataShare.getIntrinsicZk(FilterType.REF, ofc.ztaac.dataShare.getFieldIdx(detectorList))"
   ]
  },
  {
   "cell_type": "markdown",
   "id": "second-indonesia",
   "metadata": {},
   "source": [
    "## We adopt Noll indexes"
   ]
  },
  {
   "cell_type": "code",
   "execution_count": null,
   "id": "important-newport",
   "metadata": {},
   "outputs": [],
   "source": [
    "# focus term\n",
    "intrinsic_zk[:,0:1]"
   ]
  },
  {
   "cell_type": "code",
   "execution_count": null,
   "id": "brazilian-replication",
   "metadata": {},
   "outputs": [],
   "source": [
    "intrinsic_zk[:,0:1] += 0.1 ## add 0.1 um of defocus"
   ]
  },
  {
   "cell_type": "code",
   "execution_count": null,
   "id": "affecting-problem",
   "metadata": {},
   "outputs": [],
   "source": [
    "# oblique astigmatism\n",
    "intrinsic_zk[:,1:2]"
   ]
  },
  {
   "cell_type": "code",
   "execution_count": null,
   "id": "peaceful-label",
   "metadata": {},
   "outputs": [],
   "source": [
    "intrinsic_zk[:,1:2] += 0.1 # add 0.1 um of oblique astigmatism"
   ]
  },
  {
   "cell_type": "code",
   "execution_count": null,
   "id": "classified-appointment",
   "metadata": {},
   "outputs": [],
   "source": [
    "# Vertical astigmatism\n",
    "intrinsic_zk[:,2:3]"
   ]
  },
  {
   "cell_type": "code",
   "execution_count": null,
   "id": "bound-clerk",
   "metadata": {},
   "outputs": [],
   "source": [
    "intrinsic_zk[:,2:3] += 0.1 # add 0.1 um of vertical astigmatism"
   ]
  },
  {
   "cell_type": "code",
   "execution_count": null,
   "id": "favorite-cannon",
   "metadata": {},
   "outputs": [],
   "source": [
    "# Vertical coma\n",
    "intrinsic_zk[:,3:4]"
   ]
  },
  {
   "cell_type": "code",
   "execution_count": null,
   "id": "separated-guatemala",
   "metadata": {},
   "outputs": [],
   "source": [
    "intrinsic_zk[:,3:4] += 0.1  # add 0.1 um of vertical coma"
   ]
  },
  {
   "cell_type": "code",
   "execution_count": null,
   "id": "authorized-domain",
   "metadata": {},
   "outputs": [],
   "source": [
    "# Horizontal coma\n",
    "intrinsic_zk[:,4:5]"
   ]
  },
  {
   "cell_type": "code",
   "execution_count": null,
   "id": "square-handbook",
   "metadata": {},
   "outputs": [],
   "source": [
    "intrinsic_zk[:,4:5] += 0.1  # add 0.1 um of horizontal coma"
   ]
  },
  {
   "cell_type": "code",
   "execution_count": null,
   "id": "absent-valley",
   "metadata": {},
   "outputs": [],
   "source": [
    "# Vertical trefoil\n",
    "intrinsic_zk[:,5:6]"
   ]
  },
  {
   "cell_type": "code",
   "execution_count": null,
   "id": "voluntary-brook",
   "metadata": {},
   "outputs": [],
   "source": [
    "intrinsic_zk[:,5:6] += 0.1  # add 0.1 um of vertical trefoil"
   ]
  },
  {
   "cell_type": "code",
   "execution_count": null,
   "id": "received-generator",
   "metadata": {},
   "outputs": [],
   "source": []
  },
  {
   "cell_type": "code",
   "execution_count": null,
   "id": "acting-fountain",
   "metadata": {},
   "outputs": [],
   "source": []
  },
  {
   "cell_type": "code",
   "execution_count": null,
   "id": "upper-firmware",
   "metadata": {},
   "outputs": [],
   "source": [
    "listOfWfErr = []\n",
    "for sensorId, annularZernikePoly in zip(sensorIdList, intrinsic_zk):\n",
    "    print(sensorId)\n",
    "    sensorWavefrontError = SensorWavefrontError(numOfZk=19)\n",
    "    sensorWavefrontError.setSensorId(sensorId)\n",
    "    sensorWavefrontError.setAnnularZernikePoly(annularZernikePoly)\n",
    "    listOfWfErr.append(sensorWavefrontError)\n"
   ]
  },
  {
   "cell_type": "code",
   "execution_count": null,
   "id": "cleared-reply",
   "metadata": {},
   "outputs": [],
   "source": [
    "(\n",
    "    m2HexapodCorrection,\n",
    "    cameraHexapodCorrection,\n",
    "    m1m3Correction,\n",
    "    m2Correction,\n",
    ") = ofc.calculateCorrections(listOfWfErr)"
   ]
  },
  {
   "cell_type": "code",
   "execution_count": null,
   "id": "neutral-bernard",
   "metadata": {},
   "outputs": [],
   "source": [
    "print(m2HexapodCorrection.getCorrection())\n",
    "print(cameraHexapodCorrection.getCorrection())\n",
    "print(m1m3Correction.getZForces())\n",
    "print(m2Correction.getZForces())"
   ]
  },
  {
   "cell_type": "code",
   "execution_count": null,
   "id": "whole-dress",
   "metadata": {},
   "outputs": [],
   "source": [
    "m2HexapodCorrection.getCorrection()[2] + cameraHexapodCorrection.getCorrection()[2]"
   ]
  },
  {
   "cell_type": "code",
   "execution_count": null,
   "id": "covered-israeli",
   "metadata": {},
   "outputs": [],
   "source": [
    "intrinsic_zk[:,0:1] -= 0.1"
   ]
  },
  {
   "cell_type": "code",
   "execution_count": null,
   "id": "parallel-indie",
   "metadata": {},
   "outputs": [],
   "source": [
    "(\n",
    "    m2HexapodCorrection,\n",
    "    cameraHexapodCorrection,\n",
    "    m1m3Correction,\n",
    "    m2Correction,\n",
    ") = ofc.resetOfcState()"
   ]
  },
  {
   "cell_type": "code",
   "execution_count": null,
   "id": "floral-oxide",
   "metadata": {},
   "outputs": [],
   "source": [
    "print(m2HexapodCorrection.getCorrection())\n",
    "print(cameraHexapodCorrection.getCorrection())\n",
    "print(m1m3Correction.getZForces())\n",
    "print(m2Correction.getZForces())"
   ]
  },
  {
   "cell_type": "code",
   "execution_count": null,
   "id": "finished-remedy",
   "metadata": {},
   "outputs": [],
   "source": [
    "listOfWfErr = []\n",
    "for sensorId, annularZernikePoly in zip(sensorIdList, intrinsic_zk):\n",
    "    print(sensorId)\n",
    "    sensorWavefrontError = SensorWavefrontError(numOfZk=19)\n",
    "    sensorWavefrontError.setSensorId(sensorId)\n",
    "    sensorWavefrontError.setAnnularZernikePoly(annularZernikePoly)\n",
    "    listOfWfErr.append(sensorWavefrontError)\n"
   ]
  },
  {
   "cell_type": "code",
   "execution_count": null,
   "id": "systematic-glasgow",
   "metadata": {},
   "outputs": [],
   "source": [
    "(\n",
    "    m2HexapodCorrection,\n",
    "    cameraHexapodCorrection,\n",
    "    m1m3Correction,\n",
    "    m2Correction,\n",
    ") = ofc.calculateCorrections(listOfWfErr)"
   ]
  },
  {
   "cell_type": "code",
   "execution_count": null,
   "id": "synthetic-racing",
   "metadata": {},
   "outputs": [],
   "source": [
    "print(m2HexapodCorrection.getCorrection())\n",
    "print(cameraHexapodCorrection.getCorrection())\n",
    "print(m1m3Correction.getZForces())\n",
    "print(m2Correction.getZForces())"
   ]
  },
  {
   "cell_type": "markdown",
   "id": "liked-macintosh",
   "metadata": {},
   "source": [
    "# Checking if operations commute\n",
    "\n",
    "Basically I want to verify that if I add coma-x and coma-y is equivalent to add coma-y and coma-x"
   ]
  },
  {
   "cell_type": "code",
   "execution_count": null,
   "id": "adjustable-southeast",
   "metadata": {},
   "outputs": [],
   "source": [
    "ofc_1 = OFCCalculationFactory.getCalculator(CamType.ComCam, None)\n",
    "ofc_2 = OFCCalculationFactory.getCalculator(CamType.ComCam, None)"
   ]
  },
  {
   "cell_type": "code",
   "execution_count": null,
   "id": "earlier-render",
   "metadata": {},
   "outputs": [],
   "source": [
    "intrinsic_zk = ofc.ztaac.dataShare.getIntrinsicZk(FilterType.REF, ofc.ztaac.dataShare.getFieldIdx(detectorList))"
   ]
  },
  {
   "cell_type": "code",
   "execution_count": null,
   "id": "every-angle",
   "metadata": {},
   "outputs": [],
   "source": [
    "add_coma_x = np.array(intrinsic_zk, copy=True)\n",
    "add_coma_y = np.array(intrinsic_zk, copy=True)"
   ]
  },
  {
   "cell_type": "code",
   "execution_count": null,
   "id": "bottom-guest",
   "metadata": {},
   "outputs": [],
   "source": [
    "add_coma_x[:,3:4] += 0.1  # add 0.1 um of vertical coma\n",
    "add_coma_y[:,4:5] += 0.1  # add 0.1 um of horizontal coma"
   ]
  },
  {
   "cell_type": "code",
   "execution_count": null,
   "id": "liable-simulation",
   "metadata": {},
   "outputs": [],
   "source": [
    "listOfWfErr_comax = []\n",
    "listOfWfErr_comay = []\n",
    "for sensorId, annularZernikePoly in zip(sensorIdList, add_coma_x):\n",
    "    print(sensorId)\n",
    "    sensorWavefrontError = SensorWavefrontError(numOfZk=19)\n",
    "    sensorWavefrontError.setSensorId(sensorId)\n",
    "    sensorWavefrontError.setAnnularZernikePoly(annularZernikePoly)\n",
    "    listOfWfErr_comax.append(sensorWavefrontError)\n",
    "\n",
    "\n",
    "for sensorId, annularZernikePoly in zip(sensorIdList, add_coma_y):\n",
    "    print(sensorId)\n",
    "    sensorWavefrontError = SensorWavefrontError(numOfZk=19)\n",
    "    sensorWavefrontError.setSensorId(sensorId)\n",
    "    sensorWavefrontError.setAnnularZernikePoly(annularZernikePoly)\n",
    "    listOfWfErr_comay.append(sensorWavefrontError)\n"
   ]
  },
  {
   "cell_type": "code",
   "execution_count": null,
   "id": "removable-multiple",
   "metadata": {},
   "outputs": [],
   "source": [
    "(\n",
    "    m2HexapodCorrection_cx1,\n",
    "    cameraHexapodCorrection_cx1,\n",
    "    m1m3Correction_cx1,\n",
    "    m2Correction_cx1,\n",
    ") = ofc_1.calculateCorrections(listOfWfErr_comax)\n",
    "\n",
    "(\n",
    "    m2HexapodCorrection_cy1,\n",
    "    cameraHexapodCorrection_cy1,\n",
    "    m1m3Correction_cy1,\n",
    "    m2Correction_cy1,\n",
    ") = ofc_1.calculateCorrections(listOfWfErr_comay)"
   ]
  },
  {
   "cell_type": "code",
   "execution_count": null,
   "id": "accomplished-adapter",
   "metadata": {},
   "outputs": [],
   "source": [
    "(\n",
    "    m2HexapodCorrection_cy2,\n",
    "    cameraHexapodCorrection_cy2,\n",
    "    m1m3Correction_cy2,\n",
    "    m2Correction_cy2,\n",
    ") = ofc_2.calculateCorrections(listOfWfErr_comay)\n",
    "\n",
    "(\n",
    "    m2HexapodCorrection_cx2,\n",
    "    cameraHexapodCorrection_cx2,\n",
    "    m1m3Correction_cx2,\n",
    "    m2Correction_cx2,\n",
    ") = ofc_2.calculateCorrections(listOfWfErr_comax)"
   ]
  },
  {
   "cell_type": "code",
   "execution_count": null,
   "id": "dated-hebrew",
   "metadata": {},
   "outputs": [],
   "source": [
    "print(m2HexapodCorrection_cx1.getCorrection())\n",
    "print(cameraHexapodCorrection_cx1.getCorrection())\n",
    "print(m1m3Correction_cx1.getZForces())\n",
    "print(m2Correction_cx1.getZForces())"
   ]
  },
  {
   "cell_type": "code",
   "execution_count": null,
   "id": "convenient-fleece",
   "metadata": {},
   "outputs": [],
   "source": [
    "print(m2HexapodCorrection_cy1.getCorrection())\n",
    "print(cameraHexapodCorrection_cy1.getCorrection())\n",
    "print(m1m3Correction_cy1.getZForces())\n",
    "print(m2Correction_cy1.getZForces())"
   ]
  },
  {
   "cell_type": "code",
   "execution_count": null,
   "id": "disabled-visibility",
   "metadata": {},
   "outputs": [],
   "source": [
    "print(m2HexapodCorrection_cx2.getCorrection())\n",
    "print(cameraHexapodCorrection_cx2.getCorrection())\n",
    "print(m1m3Correction_cx2.getZForces())\n",
    "print(m2Correction_cx2.getZForces())"
   ]
  },
  {
   "cell_type": "code",
   "execution_count": null,
   "id": "sublime-spare",
   "metadata": {},
   "outputs": [],
   "source": [
    "print(m2HexapodCorrection_cy2.getCorrection())\n",
    "print(cameraHexapodCorrection_cy2.getCorrection())\n",
    "print(m1m3Correction_cy2.getZForces())\n",
    "print(m2Correction_cy2.getZForces())"
   ]
  },
  {
   "cell_type": "code",
   "execution_count": null,
   "id": "logical-introduction",
   "metadata": {},
   "outputs": [],
   "source": [
    "np.array(m2HexapodCorrection_cx1.getCorrection())+np.array(m2HexapodCorrection_cy1.getCorrection())"
   ]
  },
  {
   "cell_type": "code",
   "execution_count": null,
   "id": "jewish-cross",
   "metadata": {},
   "outputs": [],
   "source": [
    "np.array(m2HexapodCorrection_cx2.getCorrection())+np.array(m2HexapodCorrection_cy2.getCorrection())"
   ]
  },
  {
   "cell_type": "markdown",
   "id": "bibliographic-affect",
   "metadata": {},
   "source": [
    "# Adding and removing the same factor"
   ]
  },
  {
   "cell_type": "code",
   "execution_count": null,
   "id": "tribal-brain",
   "metadata": {},
   "outputs": [],
   "source": [
    "ofc_1 = OFCCalculationFactory.getCalculator(CamType.ComCam, None)"
   ]
  },
  {
   "cell_type": "code",
   "execution_count": null,
   "id": "modular-lotus",
   "metadata": {},
   "outputs": [],
   "source": [
    "intrinsic_zk = ofc.ztaac.dataShare.getIntrinsicZk(FilterType.REF, ofc.ztaac.dataShare.getFieldIdx(detectorList))"
   ]
  },
  {
   "cell_type": "code",
   "execution_count": null,
   "id": "objective-terry",
   "metadata": {},
   "outputs": [],
   "source": [
    "add_coma_x = np.array(intrinsic_zk, copy=True)\n",
    "sub_coma_x = np.array(intrinsic_zk, copy=True)"
   ]
  },
  {
   "cell_type": "code",
   "execution_count": null,
   "id": "plastic-victoria",
   "metadata": {},
   "outputs": [],
   "source": [
    "add_coma_x[:,3:4] += 0.2  # add 0.1 um of vertical coma\n",
    "# sub_coma_x = np.zeros_like(intrinsic_zk)\n",
    "sub_coma_x[:,3:4] -= 0.1  # subtract 0.1 um of vertical coma"
   ]
  },
  {
   "cell_type": "code",
   "execution_count": null,
   "id": "mounted-growing",
   "metadata": {},
   "outputs": [],
   "source": [
    "listOfWfErr_add_comax = []\n",
    "listOfWfErr_sub_comax = []\n",
    "for sensorId, annularZernikePoly in zip(sensorIdList, add_coma_x):\n",
    "    print(sensorId)\n",
    "    sensorWavefrontError = SensorWavefrontError(numOfZk=19)\n",
    "    sensorWavefrontError.setSensorId(sensorId)\n",
    "    sensorWavefrontError.setAnnularZernikePoly(annularZernikePoly)\n",
    "    listOfWfErr_add_comax.append(sensorWavefrontError)\n",
    "\n",
    "\n",
    "for sensorId, annularZernikePoly in zip(sensorIdList, sub_coma_x):\n",
    "    print(sensorId)\n",
    "    sensorWavefrontError = SensorWavefrontError(numOfZk=19)\n",
    "    sensorWavefrontError.setSensorId(sensorId)\n",
    "    sensorWavefrontError.setAnnularZernikePoly(annularZernikePoly)\n",
    "    listOfWfErr_sub_comax.append(sensorWavefrontError)\n"
   ]
  },
  {
   "cell_type": "code",
   "execution_count": null,
   "id": "established-boston",
   "metadata": {},
   "outputs": [],
   "source": [
    "(\n",
    "    m2HexapodCorrection_addcx,\n",
    "    cameraHexapodCorrection_addcx,\n",
    "    m1m3Correction_addcx,\n",
    "    m2Correction_addcx,\n",
    ") = ofc_1.calculateCorrections(listOfWfErr_add_comax)\n"
   ]
  },
  {
   "cell_type": "code",
   "execution_count": null,
   "id": "similar-italian",
   "metadata": {},
   "outputs": [],
   "source": [
    "(\n",
    "    m2HexapodCorrection_addcx_2,\n",
    "    cameraHexapodCorrection_addcx_2,\n",
    "    m1m3Correction_addcx_2,\n",
    "    m2Correction_addcx_2,\n",
    ") = ofc_1.calculateCorrections(listOfWfErr_add_comax)\n"
   ]
  },
  {
   "cell_type": "code",
   "execution_count": null,
   "id": "handled-stomach",
   "metadata": {},
   "outputs": [],
   "source": []
  },
  {
   "cell_type": "code",
   "execution_count": null,
   "id": "latter-student",
   "metadata": {},
   "outputs": [],
   "source": [
    "(\n",
    "    m2HexapodCorrection_subcx,\n",
    "    cameraHexapodCorrection_subcx,\n",
    "    m1m3Correction_subcx,\n",
    "    m2Correction_subcx,\n",
    ") = ofc_1.calculateCorrections(listOfWfErr_sub_comax)"
   ]
  },
  {
   "cell_type": "code",
   "execution_count": null,
   "id": "architectural-family",
   "metadata": {},
   "outputs": [],
   "source": [
    "np.array(m2HexapodCorrection_addcx.getCorrection())+\\\n",
    "np.array(m2HexapodCorrection_subcx.getCorrection())"
   ]
  },
  {
   "cell_type": "code",
   "execution_count": null,
   "id": "proved-seattle",
   "metadata": {},
   "outputs": [],
   "source": [
    "np.array(cameraHexapodCorrection_addcx.getCorrection())+\\\n",
    "np.array(cameraHexapodCorrection_subcx.getCorrection())"
   ]
  },
  {
   "cell_type": "code",
   "execution_count": null,
   "id": "engaging-employee",
   "metadata": {},
   "outputs": [],
   "source": [
    "np.array(m2HexapodCorrection_addcx.getCorrection())+\\\n",
    "np.array(cameraHexapodCorrection_addcx.getCorrection())"
   ]
  },
  {
   "cell_type": "code",
   "execution_count": null,
   "id": "danish-folks",
   "metadata": {},
   "outputs": [],
   "source": [
    "np.array(m2HexapodCorrection_subcx.getCorrection())+\\\n",
    "np.array(cameraHexapodCorrection_subcx.getCorrection())"
   ]
  },
  {
   "cell_type": "code",
   "execution_count": null,
   "id": "changing-craps",
   "metadata": {},
   "outputs": [],
   "source": [
    "np.array(m2HexapodCorrection_addcx.getCorrection())+\\\n",
    "np.array(cameraHexapodCorrection_addcx.getCorrection())+\\\n",
    "np.array(m2HexapodCorrection_subcx.getCorrection())+\\\n",
    "np.array(cameraHexapodCorrection_subcx.getCorrection())"
   ]
  },
  {
   "cell_type": "code",
   "execution_count": null,
   "id": "related-passport",
   "metadata": {},
   "outputs": [],
   "source": [
    "np.array(m2HexapodCorrection_addcx.getCorrection())+\\\n",
    "np.array(cameraHexapodCorrection_addcx.getCorrection())"
   ]
  },
  {
   "cell_type": "code",
   "execution_count": null,
   "id": "going-japanese",
   "metadata": {},
   "outputs": [],
   "source": [
    "np.array(m2HexapodCorrection_subcx.getCorrection())+\\\n",
    "np.array(cameraHexapodCorrection_subcx.getCorrection())"
   ]
  },
  {
   "cell_type": "code",
   "execution_count": null,
   "id": "extraordinary-singing",
   "metadata": {},
   "outputs": [],
   "source": [
    "np.array(m2HexapodCorrection_addcx.getCorrection())+\\\n",
    "np.array(cameraHexapodCorrection_addcx.getCorrection())+\\\n",
    "np.array(m2HexapodCorrection_subcx.getCorrection())+\\\n",
    "np.array(cameraHexapodCorrection_subcx.getCorrection())"
   ]
  },
  {
   "cell_type": "code",
   "execution_count": null,
   "id": "three-smith",
   "metadata": {},
   "outputs": [],
   "source": []
  },
  {
   "cell_type": "code",
   "execution_count": null,
   "id": "alone-making",
   "metadata": {},
   "outputs": [],
   "source": []
  },
  {
   "cell_type": "code",
   "execution_count": null,
   "id": "annual-upset",
   "metadata": {},
   "outputs": [],
   "source": [
    "np.array(m2HexapodCorrection_addcx.getCorrection())+\\\n",
    "np.array(cameraHexapodCorrection_addcx.getCorrection())"
   ]
  },
  {
   "cell_type": "code",
   "execution_count": null,
   "id": "wireless-homework",
   "metadata": {},
   "outputs": [],
   "source": [
    "np.array(m2HexapodCorrection_addcx_2.getCorrection())+\\\n",
    "np.array(cameraHexapodCorrection_addcx_2.getCorrection())"
   ]
  },
  {
   "cell_type": "code",
   "execution_count": null,
   "id": "forced-beads",
   "metadata": {},
   "outputs": [],
   "source": [
    "np.array(m2HexapodCorrection_addcx.getCorrection())+\\\n",
    "np.array(cameraHexapodCorrection_addcx.getCorrection())+\\\n",
    "np.array(m2HexapodCorrection_addcx_2.getCorrection())+\\\n",
    "np.array(cameraHexapodCorrection_addcx_2.getCorrection())"
   ]
  },
  {
   "cell_type": "code",
   "execution_count": null,
   "id": "subsequent-nevada",
   "metadata": {},
   "outputs": [],
   "source": [
    "np.array(m2HexapodCorrection_addcx.getCorrection())+\\\n",
    "np.array(cameraHexapodCorrection_addcx.getCorrection())"
   ]
  },
  {
   "cell_type": "code",
   "execution_count": null,
   "id": "seeing-blank",
   "metadata": {},
   "outputs": [],
   "source": []
  }
 ],
 "metadata": {
  "kernelspec": {
   "display_name": "Python 3",
   "language": "python",
   "name": "python3"
  },
  "language_info": {
   "codemirror_mode": {
    "name": "ipython",
    "version": 3
   },
   "file_extension": ".py",
   "mimetype": "text/x-python",
   "name": "python",
   "nbconvert_exporter": "python",
   "pygments_lexer": "ipython3",
   "version": "3.8.8"
  }
 },
 "nbformat": 4,
 "nbformat_minor": 5
}
