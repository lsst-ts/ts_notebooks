{
 "cells": [
  {
   "cell_type": "markdown",
   "id": "referenced-delta",
   "metadata": {},
   "source": [
    "# MTAOS addAberration\n",
    "\n",
    "Notebooks to show how the addAberration command in MTAOS works."
   ]
  },
  {
   "cell_type": "code",
   "execution_count": null,
   "id": "civil-being",
   "metadata": {},
   "outputs": [],
   "source": [
    "import numpy as np\n",
    "\n",
    "from lsst.ts.MTAOS.CollOfListOfWfErr import CollOfListOfWfErr\n",
    "from lsst.ts.ofc.ctrlIntf.OFCCalculationFactory import OFCCalculationFactory\n",
    "from lsst.ts.wep.Utility import CamType\n",
    "from lsst.ts.ofc.Utility import getConfigDir, DofGroup\n",
    "from lsst.ts.ofc.ctrlIntf.FWHMSensorData import FWHMSensorData\n",
    "from lsst.ts.wep.ctrlIntf.MapSensorNameAndId import MapSensorNameAndId\n",
    "from lsst.ts.wep.ctrlIntf.SensorWavefrontError import SensorWavefrontError\n",
    "from lsst.ts.wep.Utility import FilterType\n",
    "from lsst.ts.wep.bsc.CamFactory import CamFactory"
   ]
  },
  {
   "cell_type": "code",
   "execution_count": null,
   "id": "saving-arcade",
   "metadata": {},
   "outputs": [],
   "source": [
    "comcam = CamFactory.createCam(CamType.ComCam)"
   ]
  },
  {
   "cell_type": "code",
   "execution_count": null,
   "id": "veterinary-network",
   "metadata": {},
   "outputs": [],
   "source": [
    "comcam.getWfsCcdList()"
   ]
  },
  {
   "cell_type": "code",
   "execution_count": null,
   "id": "center-married",
   "metadata": {},
   "outputs": [],
   "source": [
    "ofc = OFCCalculationFactory.getCalculator(CamType.ComCam, None)"
   ]
  },
  {
   "cell_type": "code",
   "execution_count": null,
   "id": "trained-westminster",
   "metadata": {},
   "outputs": [],
   "source": [
    "detectorList = [\n",
    "            \"R22_S02\",\n",
    "            \"R22_S12\",\n",
    "            \"R22_S22\",\n",
    "            \"R22_S01\",\n",
    "            \"R22_S11\",\n",
    "            \"R22_S21\",\n",
    "            \"R22_S00\",\n",
    "            \"R22_S10\",\n",
    "            \"R22_S20\",\n",
    "        ]"
   ]
  },
  {
   "cell_type": "code",
   "execution_count": null,
   "id": "serial-metabolism",
   "metadata": {},
   "outputs": [],
   "source": [
    "sensorIdList = ofc.ztaac.mapSensorNameToId(detectorList)"
   ]
  },
  {
   "cell_type": "code",
   "execution_count": null,
   "id": "infinite-things",
   "metadata": {},
   "outputs": [],
   "source": [
    "intrinsic_zk = ofc.ztaac.dataShare.getIntrinsicZk(FilterType.REF, ofc.ztaac.dataShare.getFieldIdx(detectorList))"
   ]
  },
  {
   "cell_type": "markdown",
   "id": "dried-dressing",
   "metadata": {},
   "source": [
    "## We adop Noll indexes"
   ]
  },
  {
   "cell_type": "code",
   "execution_count": null,
   "id": "practical-digit",
   "metadata": {},
   "outputs": [],
   "source": [
    "# focus term\n",
    "intrinsic_zk[:,0:1]"
   ]
  },
  {
   "cell_type": "code",
   "execution_count": null,
   "id": "nasty-cooper",
   "metadata": {},
   "outputs": [],
   "source": [
    "intrinsic_zk[:,0:1] += 0.1 ## add 0.1 um of defocus"
   ]
  },
  {
   "cell_type": "code",
   "execution_count": null,
   "id": "changed-moore",
   "metadata": {},
   "outputs": [],
   "source": [
    "# oblique astigmatism\n",
    "intrinsic_zk[:,1:2]"
   ]
  },
  {
   "cell_type": "code",
   "execution_count": null,
   "id": "flexible-writing",
   "metadata": {},
   "outputs": [],
   "source": [
    "intrinsic_zk[:,1:2] += 0.1 # add 0.1 um of oblique astigmatism"
   ]
  },
  {
   "cell_type": "code",
   "execution_count": null,
   "id": "future-process",
   "metadata": {},
   "outputs": [],
   "source": [
    "# Vertical astigmatism\n",
    "intrinsic_zk[:,2:3]"
   ]
  },
  {
   "cell_type": "code",
   "execution_count": null,
   "id": "orange-stamp",
   "metadata": {},
   "outputs": [],
   "source": [
    "intrinsic_zk[:,2:3] += 0.1 # add 0.1 um of vertical astigmatism"
   ]
  },
  {
   "cell_type": "code",
   "execution_count": null,
   "id": "prospective-liability",
   "metadata": {},
   "outputs": [],
   "source": [
    "# Vertical coma\n",
    "intrinsic_zk[:,4:5]"
   ]
  },
  {
   "cell_type": "code",
   "execution_count": null,
   "id": "annoying-armenia",
   "metadata": {},
   "outputs": [],
   "source": [
    "intrinsic_zk[:,4:5] += 0.1  # add 0.1 um of vertical coma"
   ]
  },
  {
   "cell_type": "code",
   "execution_count": null,
   "id": "dried-dollar",
   "metadata": {},
   "outputs": [],
   "source": [
    "# Horizontal coma\n",
    "intrinsic_zk[:,5:6]"
   ]
  },
  {
   "cell_type": "code",
   "execution_count": null,
   "id": "married-eclipse",
   "metadata": {},
   "outputs": [],
   "source": [
    "intrinsic_zk[:,5:6] += 0.1  # add 0.1 um of horizontal coma"
   ]
  },
  {
   "cell_type": "code",
   "execution_count": null,
   "id": "excess-airplane",
   "metadata": {},
   "outputs": [],
   "source": [
    "# Vertical trefoil\n",
    "intrinsic_zk[:,6:7]"
   ]
  },
  {
   "cell_type": "code",
   "execution_count": null,
   "id": "unlimited-mechanics",
   "metadata": {},
   "outputs": [],
   "source": [
    "intrinsic_zk[:,6:7] += 0.1  # add 0.1 um of vertical trefoil"
   ]
  },
  {
   "cell_type": "code",
   "execution_count": null,
   "id": "matched-schedule",
   "metadata": {},
   "outputs": [],
   "source": []
  },
  {
   "cell_type": "code",
   "execution_count": null,
   "id": "baking-jason",
   "metadata": {},
   "outputs": [],
   "source": []
  },
  {
   "cell_type": "code",
   "execution_count": null,
   "id": "determined-thanksgiving",
   "metadata": {},
   "outputs": [],
   "source": [
    "listOfWfErr = []\n",
    "for sensorId, annularZernikePoly in zip(sensorIdList, intrinsic_zk):\n",
    "    print(sensorId)\n",
    "    sensorWavefrontError = SensorWavefrontError(numOfZk=19)\n",
    "    sensorWavefrontError.setSensorId(sensorId)\n",
    "    sensorWavefrontError.setAnnularZernikePoly(annularZernikePoly)\n",
    "    listOfWfErr.append(sensorWavefrontError)\n"
   ]
  },
  {
   "cell_type": "code",
   "execution_count": null,
   "id": "loose-beaver",
   "metadata": {},
   "outputs": [],
   "source": [
    "(\n",
    "    m2HexapodCorrection,\n",
    "    cameraHexapodCorrection,\n",
    "    m1m3Correction,\n",
    "    m2Correction,\n",
    ") = ofc.calculateCorrections(listOfWfErr)"
   ]
  },
  {
   "cell_type": "code",
   "execution_count": null,
   "id": "greater-machinery",
   "metadata": {},
   "outputs": [],
   "source": [
    "print(m2HexapodCorrection.getCorrection())\n",
    "print(cameraHexapodCorrection.getCorrection())\n",
    "print(m1m3Correction.getZForces())\n",
    "print(m2Correction.getZForces())"
   ]
  },
  {
   "cell_type": "code",
   "execution_count": null,
   "id": "static-stuart",
   "metadata": {},
   "outputs": [],
   "source": [
    "m2HexapodCorrection.getCorrection()[2] + cameraHexapodCorrection.getCorrection()[2]"
   ]
  },
  {
   "cell_type": "code",
   "execution_count": null,
   "id": "behind-grove",
   "metadata": {},
   "outputs": [],
   "source": [
    "intrinsic_zk[:,0:1] -= 0.1"
   ]
  },
  {
   "cell_type": "code",
   "execution_count": null,
   "id": "minimal-disney",
   "metadata": {},
   "outputs": [],
   "source": [
    "(\n",
    "    m2HexapodCorrection,\n",
    "    cameraHexapodCorrection,\n",
    "    m1m3Correction,\n",
    "    m2Correction,\n",
    ") = ofc.resetOfcState()"
   ]
  },
  {
   "cell_type": "code",
   "execution_count": null,
   "id": "embedded-mathematics",
   "metadata": {},
   "outputs": [],
   "source": [
    "print(m2HexapodCorrection.getCorrection())\n",
    "print(cameraHexapodCorrection.getCorrection())\n",
    "print(m1m3Correction.getZForces())\n",
    "print(m2Correction.getZForces())"
   ]
  },
  {
   "cell_type": "code",
   "execution_count": null,
   "id": "thirty-gossip",
   "metadata": {},
   "outputs": [],
   "source": [
    "listOfWfErr = []\n",
    "for sensorId, annularZernikePoly in zip(sensorIdList, intrinsic_zk):\n",
    "    print(sensorId)\n",
    "    sensorWavefrontError = SensorWavefrontError(numOfZk=19)\n",
    "    sensorWavefrontError.setSensorId(sensorId)\n",
    "    sensorWavefrontError.setAnnularZernikePoly(annularZernikePoly)\n",
    "    listOfWfErr.append(sensorWavefrontError)\n"
   ]
  },
  {
   "cell_type": "code",
   "execution_count": null,
   "id": "residential-symbol",
   "metadata": {},
   "outputs": [],
   "source": [
    "(\n",
    "    m2HexapodCorrection,\n",
    "    cameraHexapodCorrection,\n",
    "    m1m3Correction,\n",
    "    m2Correction,\n",
    ") = ofc.calculateCorrections(listOfWfErr)"
   ]
  },
  {
   "cell_type": "code",
   "execution_count": null,
   "id": "transparent-tackle",
   "metadata": {},
   "outputs": [],
   "source": [
    "print(m2HexapodCorrection.getCorrection())\n",
    "print(cameraHexapodCorrection.getCorrection())\n",
    "print(m1m3Correction.getZForces())\n",
    "print(m2Correction.getZForces())"
   ]
  },
  {
   "cell_type": "markdown",
   "id": "coral-workplace",
   "metadata": {},
   "source": [
    "# Checking if operations commute\n",
    "\n",
    "Basically I want to verify that if I add coma-x and coma-y is equivalent to add coma-y and coma-x"
   ]
  },
  {
   "cell_type": "code",
   "execution_count": null,
   "id": "exact-bread",
   "metadata": {},
   "outputs": [],
   "source": [
    "ofc_1 = OFCCalculationFactory.getCalculator(CamType.ComCam, None)\n",
    "ofc_2 = OFCCalculationFactory.getCalculator(CamType.ComCam, None)"
   ]
  },
  {
   "cell_type": "code",
   "execution_count": null,
   "id": "sustained-citizen",
   "metadata": {},
   "outputs": [],
   "source": [
    "intrinsic_zk = ofc.ztaac.dataShare.getIntrinsicZk(FilterType.REF, ofc.ztaac.dataShare.getFieldIdx(detectorList))"
   ]
  },
  {
   "cell_type": "code",
   "execution_count": null,
   "id": "valuable-egypt",
   "metadata": {},
   "outputs": [],
   "source": [
    "add_coma_x = np.array(intrinsic_zk, copy=True)\n",
    "add_coma_y = np.array(intrinsic_zk, copy=True)"
   ]
  },
  {
   "cell_type": "code",
   "execution_count": null,
   "id": "photographic-gender",
   "metadata": {},
   "outputs": [],
   "source": [
    "add_coma_x[:,3:4] += 0.1  # add 0.1 um of vertical coma\n",
    "add_coma_y[:,4:5] += 0.1  # add 0.1 um of horizontal coma"
   ]
  },
  {
   "cell_type": "code",
   "execution_count": null,
   "id": "impaired-gossip",
   "metadata": {},
   "outputs": [],
   "source": [
    "listOfWfErr_comax = []\n",
    "listOfWfErr_comay = []\n",
    "for sensorId, annularZernikePoly in zip(sensorIdList, add_coma_x):\n",
    "    print(sensorId)\n",
    "    sensorWavefrontError = SensorWavefrontError(numOfZk=19)\n",
    "    sensorWavefrontError.setSensorId(sensorId)\n",
    "    sensorWavefrontError.setAnnularZernikePoly(annularZernikePoly)\n",
    "    listOfWfErr_comax.append(sensorWavefrontError)\n",
    "\n",
    "\n",
    "for sensorId, annularZernikePoly in zip(sensorIdList, add_coma_y):\n",
    "    print(sensorId)\n",
    "    sensorWavefrontError = SensorWavefrontError(numOfZk=19)\n",
    "    sensorWavefrontError.setSensorId(sensorId)\n",
    "    sensorWavefrontError.setAnnularZernikePoly(annularZernikePoly)\n",
    "    listOfWfErr_comay.append(sensorWavefrontError)\n"
   ]
  },
  {
   "cell_type": "code",
   "execution_count": null,
   "id": "gross-group",
   "metadata": {},
   "outputs": [],
   "source": [
    "(\n",
    "    m2HexapodCorrection_cx1,\n",
    "    cameraHexapodCorrection_cx1,\n",
    "    m1m3Correction_cx1,\n",
    "    m2Correction_cx1,\n",
    ") = ofc_1.calculateCorrections(listOfWfErr_comax)\n",
    "\n",
    "(\n",
    "    m2HexapodCorrection_cy1,\n",
    "    cameraHexapodCorrection_cy1,\n",
    "    m1m3Correction_cy1,\n",
    "    m2Correction_cy1,\n",
    ") = ofc_1.calculateCorrections(listOfWfErr_comay)"
   ]
  },
  {
   "cell_type": "code",
   "execution_count": null,
   "id": "israeli-malta",
   "metadata": {},
   "outputs": [],
   "source": [
    "(\n",
    "    m2HexapodCorrection_cy2,\n",
    "    cameraHexapodCorrection_cy2,\n",
    "    m1m3Correction_cy2,\n",
    "    m2Correction_cy2,\n",
    ") = ofc_2.calculateCorrections(listOfWfErr_comay)\n",
    "\n",
    "(\n",
    "    m2HexapodCorrection_cx2,\n",
    "    cameraHexapodCorrection_cx2,\n",
    "    m1m3Correction_cx2,\n",
    "    m2Correction_cx2,\n",
    ") = ofc_2.calculateCorrections(listOfWfErr_comax)"
   ]
  },
  {
   "cell_type": "code",
   "execution_count": null,
   "id": "lonely-shakespeare",
   "metadata": {},
   "outputs": [],
   "source": [
    "print(m2HexapodCorrection_cx1.getCorrection())\n",
    "print(cameraHexapodCorrection_cx1.getCorrection())\n",
    "print(m1m3Correction_cx1.getZForces())\n",
    "print(m2Correction_cx1.getZForces())"
   ]
  },
  {
   "cell_type": "code",
   "execution_count": null,
   "id": "indirect-lexington",
   "metadata": {},
   "outputs": [],
   "source": [
    "print(m2HexapodCorrection_cy1.getCorrection())\n",
    "print(cameraHexapodCorrection_cy1.getCorrection())\n",
    "print(m1m3Correction_cy1.getZForces())\n",
    "print(m2Correction_cy1.getZForces())"
   ]
  },
  {
   "cell_type": "code",
   "execution_count": null,
   "id": "brief-grant",
   "metadata": {},
   "outputs": [],
   "source": [
    "print(m2HexapodCorrection_cx2.getCorrection())\n",
    "print(cameraHexapodCorrection_cx2.getCorrection())\n",
    "print(m1m3Correction_cx2.getZForces())\n",
    "print(m2Correction_cx2.getZForces())"
   ]
  },
  {
   "cell_type": "code",
   "execution_count": null,
   "id": "incorporated-nurse",
   "metadata": {},
   "outputs": [],
   "source": [
    "print(m2HexapodCorrection_cy2.getCorrection())\n",
    "print(cameraHexapodCorrection_cy2.getCorrection())\n",
    "print(m1m3Correction_cy2.getZForces())\n",
    "print(m2Correction_cy2.getZForces())"
   ]
  },
  {
   "cell_type": "code",
   "execution_count": null,
   "id": "architectural-generic",
   "metadata": {},
   "outputs": [],
   "source": [
    "np.array(m2HexapodCorrection_cx1.getCorrection())+np.array(m2HexapodCorrection_cy1.getCorrection())"
   ]
  },
  {
   "cell_type": "code",
   "execution_count": null,
   "id": "prescribed-gravity",
   "metadata": {},
   "outputs": [],
   "source": [
    "np.array(m2HexapodCorrection_cx2.getCorrection())+np.array(m2HexapodCorrection_cy2.getCorrection())"
   ]
  },
  {
   "cell_type": "markdown",
   "id": "small-simulation",
   "metadata": {},
   "source": [
    "# Adding and removing the same factor"
   ]
  },
  {
   "cell_type": "code",
   "execution_count": null,
   "id": "cosmetic-breed",
   "metadata": {},
   "outputs": [],
   "source": [
    "ofc_1 = OFCCalculationFactory.getCalculator(CamType.ComCam, None)"
   ]
  },
  {
   "cell_type": "code",
   "execution_count": null,
   "id": "stone-sector",
   "metadata": {},
   "outputs": [],
   "source": [
    "intrinsic_zk = ofc.ztaac.dataShare.getIntrinsicZk(FilterType.REF, ofc.ztaac.dataShare.getFieldIdx(detectorList))"
   ]
  },
  {
   "cell_type": "code",
   "execution_count": null,
   "id": "dominican-robinson",
   "metadata": {},
   "outputs": [],
   "source": [
    "add_coma_x = np.array(intrinsic_zk, copy=True)\n",
    "sub_coma_x = np.array(intrinsic_zk, copy=True)"
   ]
  },
  {
   "cell_type": "code",
   "execution_count": null,
   "id": "pointed-thinking",
   "metadata": {},
   "outputs": [],
   "source": [
    "add_coma_x[:,3:4] += 0.2  # add 0.1 um of vertical coma\n",
    "# sub_coma_x = np.zeros_like(intrinsic_zk)\n",
    "sub_coma_x[:,3:4] -= 0.1  # subtract 0.1 um of vertical coma"
   ]
  },
  {
   "cell_type": "code",
   "execution_count": null,
   "id": "voluntary-story",
   "metadata": {},
   "outputs": [],
   "source": [
    "listOfWfErr_add_comax = []\n",
    "listOfWfErr_sub_comax = []\n",
    "for sensorId, annularZernikePoly in zip(sensorIdList, add_coma_x):\n",
    "    print(sensorId)\n",
    "    sensorWavefrontError = SensorWavefrontError(numOfZk=19)\n",
    "    sensorWavefrontError.setSensorId(sensorId)\n",
    "    sensorWavefrontError.setAnnularZernikePoly(annularZernikePoly)\n",
    "    listOfWfErr_add_comax.append(sensorWavefrontError)\n",
    "\n",
    "\n",
    "for sensorId, annularZernikePoly in zip(sensorIdList, sub_coma_x):\n",
    "    print(sensorId)\n",
    "    sensorWavefrontError = SensorWavefrontError(numOfZk=19)\n",
    "    sensorWavefrontError.setSensorId(sensorId)\n",
    "    sensorWavefrontError.setAnnularZernikePoly(annularZernikePoly)\n",
    "    listOfWfErr_sub_comax.append(sensorWavefrontError)\n"
   ]
  },
  {
   "cell_type": "code",
   "execution_count": null,
   "id": "beneficial-traveler",
   "metadata": {},
   "outputs": [],
   "source": [
    "(\n",
    "    m2HexapodCorrection_addcx,\n",
    "    cameraHexapodCorrection_addcx,\n",
    "    m1m3Correction_addcx,\n",
    "    m2Correction_addcx,\n",
    ") = ofc_1.calculateCorrections(listOfWfErr_add_comax)\n"
   ]
  },
  {
   "cell_type": "code",
   "execution_count": null,
   "id": "operational-sailing",
   "metadata": {},
   "outputs": [],
   "source": [
    "(\n",
    "    m2HexapodCorrection_addcx_2,\n",
    "    cameraHexapodCorrection_addcx_2,\n",
    "    m1m3Correction_addcx_2,\n",
    "    m2Correction_addcx_2,\n",
    ") = ofc_1.calculateCorrections(listOfWfErr_add_comax)\n"
   ]
  },
  {
   "cell_type": "code",
   "execution_count": null,
   "id": "figured-robinson",
   "metadata": {},
   "outputs": [],
   "source": []
  },
  {
   "cell_type": "code",
   "execution_count": null,
   "id": "selected-folder",
   "metadata": {},
   "outputs": [],
   "source": [
    "(\n",
    "    m2HexapodCorrection_subcx,\n",
    "    cameraHexapodCorrection_subcx,\n",
    "    m1m3Correction_subcx,\n",
    "    m2Correction_subcx,\n",
    ") = ofc_1.calculateCorrections(listOfWfErr_sub_comax)"
   ]
  },
  {
   "cell_type": "code",
   "execution_count": null,
   "id": "nonprofit-wonder",
   "metadata": {},
   "outputs": [],
   "source": [
    "np.array(m2HexapodCorrection_addcx.getCorrection())+\\\n",
    "np.array(m2HexapodCorrection_subcx.getCorrection())"
   ]
  },
  {
   "cell_type": "code",
   "execution_count": null,
   "id": "light-campaign",
   "metadata": {},
   "outputs": [],
   "source": [
    "np.array(cameraHexapodCorrection_addcx.getCorrection())+\\\n",
    "np.array(cameraHexapodCorrection_subcx.getCorrection())"
   ]
  },
  {
   "cell_type": "code",
   "execution_count": null,
   "id": "lightweight-wallpaper",
   "metadata": {},
   "outputs": [],
   "source": [
    "np.array(m2HexapodCorrection_addcx.getCorrection())+\\\n",
    "np.array(cameraHexapodCorrection_addcx.getCorrection())"
   ]
  },
  {
   "cell_type": "code",
   "execution_count": null,
   "id": "developing-theology",
   "metadata": {},
   "outputs": [],
   "source": [
    "np.array(m2HexapodCorrection_subcx.getCorrection())+\\\n",
    "np.array(cameraHexapodCorrection_subcx.getCorrection())"
   ]
  },
  {
   "cell_type": "code",
   "execution_count": null,
   "id": "unlikely-trinity",
   "metadata": {},
   "outputs": [],
   "source": [
    "np.array(m2HexapodCorrection_addcx.getCorrection())+\\\n",
    "np.array(cameraHexapodCorrection_addcx.getCorrection())+\\\n",
    "np.array(m2HexapodCorrection_subcx.getCorrection())+\\\n",
    "np.array(cameraHexapodCorrection_subcx.getCorrection())"
   ]
  },
  {
   "cell_type": "code",
   "execution_count": null,
   "id": "equipped-extreme",
   "metadata": {},
   "outputs": [],
   "source": [
    "np.array(m2HexapodCorrection_addcx.getCorrection())+\\\n",
    "np.array(cameraHexapodCorrection_addcx.getCorrection())"
   ]
  },
  {
   "cell_type": "code",
   "execution_count": null,
   "id": "secondary-database",
   "metadata": {},
   "outputs": [],
   "source": [
    "np.array(m2HexapodCorrection_subcx.getCorrection())+\\\n",
    "np.array(cameraHexapodCorrection_subcx.getCorrection())"
   ]
  },
  {
   "cell_type": "code",
   "execution_count": null,
   "id": "fitting-style",
   "metadata": {},
   "outputs": [],
   "source": [
    "np.array(m2HexapodCorrection_addcx.getCorrection())+\\\n",
    "np.array(cameraHexapodCorrection_addcx.getCorrection())+\\\n",
    "np.array(m2HexapodCorrection_subcx.getCorrection())+\\\n",
    "np.array(cameraHexapodCorrection_subcx.getCorrection())"
   ]
  },
  {
   "cell_type": "code",
   "execution_count": null,
   "id": "sophisticated-cursor",
   "metadata": {},
   "outputs": [],
   "source": []
  },
  {
   "cell_type": "code",
   "execution_count": null,
   "id": "toxic-container",
   "metadata": {},
   "outputs": [],
   "source": []
  },
  {
   "cell_type": "code",
   "execution_count": null,
   "id": "natural-bishop",
   "metadata": {},
   "outputs": [],
   "source": [
    "np.array(m2HexapodCorrection_addcx.getCorrection())+\\\n",
    "np.array(cameraHexapodCorrection_addcx.getCorrection())"
   ]
  },
  {
   "cell_type": "code",
   "execution_count": null,
   "id": "viral-connecticut",
   "metadata": {},
   "outputs": [],
   "source": [
    "np.array(m2HexapodCorrection_addcx_2.getCorrection())+\\\n",
    "np.array(cameraHexapodCorrection_addcx_2.getCorrection())"
   ]
  },
  {
   "cell_type": "code",
   "execution_count": null,
   "id": "creative-interim",
   "metadata": {},
   "outputs": [],
   "source": [
    "np.array(m2HexapodCorrection_addcx.getCorrection())+\\\n",
    "np.array(cameraHexapodCorrection_addcx.getCorrection())+\\\n",
    "np.array(m2HexapodCorrection_addcx_2.getCorrection())+\\\n",
    "np.array(cameraHexapodCorrection_addcx_2.getCorrection())"
   ]
  },
  {
   "cell_type": "code",
   "execution_count": null,
   "id": "agreed-lobby",
   "metadata": {},
   "outputs": [],
   "source": [
    "np.array(m2HexapodCorrection_addcx.getCorrection())+\\\n",
    "np.array(cameraHexapodCorrection_addcx.getCorrection())"
   ]
  },
  {
   "cell_type": "code",
   "execution_count": null,
   "id": "informational-democrat",
   "metadata": {},
   "outputs": [],
   "source": []
  }
 ],
 "metadata": {
  "kernelspec": {
   "display_name": "Python 3",
   "language": "python",
   "name": "python3"
  },
  "language_info": {
   "codemirror_mode": {
    "name": "ipython",
    "version": 3
   },
   "file_extension": ".py",
   "mimetype": "text/x-python",
   "name": "python",
   "nbconvert_exporter": "python",
   "pygments_lexer": "ipython3",
   "version": "3.8.6"
  }
 },
 "nbformat": 4,
 "nbformat_minor": 5
}
