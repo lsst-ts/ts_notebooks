{
 "cells": [
  {
   "cell_type": "code",
   "execution_count": 1,
   "metadata": {},
   "outputs": [],
   "source": [
    "import sys\n",
    "import asyncio\n",
    "import logging\n",
    "\n",
    "import numpy as np\n",
    "\n",
    "from lsst.ts import salobj\n",
    "\n",
    "\n",
    "from lsst.ts.standardscripts.auxtel.attcs import ATTCS"
   ]
  },
  {
   "cell_type": "code",
   "execution_count": 2,
   "metadata": {},
   "outputs": [],
   "source": [
    "attcs = ATTCS()"
   ]
  },
  {
   "cell_type": "code",
   "execution_count": 3,
   "metadata": {},
   "outputs": [
    {
     "name": "stderr",
     "output_type": "stream",
     "text": [
      "RemoteTelemetry(ATDome, 0, position) falling behind; read 22 messages\n"
     ]
    },
    {
     "data": {
      "text/plain": [
       "[None, None, None, None, None, None, None]"
      ]
     },
     "execution_count": 3,
     "metadata": {},
     "output_type": "execute_result"
    },
    {
     "name": "stderr",
     "output_type": "stream",
     "text": [
      "RemoteEvent(ATDome, 0, shutterInPosition) falling behind; read 10 messages\n"
     ]
    }
   ],
   "source": [
    "await attcs.start_task"
   ]
  },
  {
   "cell_type": "code",
   "execution_count": 4,
   "metadata": {},
   "outputs": [],
   "source": [
    "stream_handler = logging.StreamHandler(sys.stdout)\n",
    "\n",
    "logger = logging.getLogger()\n",
    "logger.addHandler(stream_handler)\n",
    "logger.level = logging.DEBUG"
   ]
  },
  {
   "cell_type": "markdown",
   "metadata": {},
   "source": [
    "# Alf Eri"
   ]
  },
  {
   "cell_type": "code",
   "execution_count": 5,
   "metadata": {},
   "outputs": [
    {
     "name": "stdout",
     "output_type": "stream",
     "text": [
      "RemoteTelemetry(ATPtg, 0, mountStatus) falling behind; read 100 messages\n",
      "RemoteEvent(ATDome, 0, mainDoorState) falling behind; read 100 messages\n",
      "RemoteEvent(ATAOS, 0, heartbeat) falling behind; read 100 messages\n",
      "RemoteTelemetry(ATPneumatics, 0, m1AirPressure) falling behind; read 100 messages\n",
      "RemoteTelemetry(ATMCS, 0, measuredTorque) falling behind; read 100 messages\n",
      "RemoteEvent(ATHexapod, 0, heartbeat) falling behind; read 100 messages\n",
      "RemoteTelemetry(ATPtg, 0, guidingAndOffsets) falling behind; read 100 messages\n",
      "RemoteEvent(ATDome, 0, heartbeat) falling behind; read 100 messages\n",
      "RemoteEvent(ATAOS, 0, detailedState) falling behind; read 100 messages\n",
      "RemoteTelemetry(ATPneumatics, 0, loadCell) falling behind; read 100 messages\n",
      "RemoteTelemetry(ATMCS, 0, measuredMotorVelocity) falling behind; read 100 messages\n",
      "RemoteEvent(ATDomeTrajectory, 0, heartbeat) falling behind; read 100 messages\n",
      "RemoteTelemetry(ATPtg, 0, currentTargetStatus) falling behind; read 100 messages\n",
      "RemoteEvent(ATPneumatics, 0, m1SetPressure) falling behind; read 100 messages\n",
      "RemoteTelemetry(ATMCS, 0, azEl_mountMotorEncoders) falling behind; read 100 messages\n",
      "RemoteEvent(ATPneumatics, 0, heartbeat) falling behind; read 100 messages\n",
      "RemoteEvent(ATMCS, 0, heartbeat) falling behind; read 100 messages\n",
      "RemoteTelemetry(ATHexapod, 0, positionStatus) falling behind; read 100 messages\n",
      "RemoteEvent(ATAOS, 0, m1CorrectionStarted) falling behind; read 100 messages\n",
      "RemoteEvent(ATAOS, 0, m1CorrectionCompleted) falling behind; read 100 messages\n",
      "RemoteTelemetry(ATPtg, 0, timeAndDate) falling behind; read 100 messages\n",
      "RemoteTelemetry(ATPtg, 0, skyEnvironment) falling behind; read 82 messages\n",
      "RemoteTelemetry(ATMCS, 0, trajectory) falling behind; read 100 messages\n",
      "RemoteTelemetry(ATPneumatics, 0, mainAirSourcePressure) falling behind; read 100 messages\n",
      "Flushing events\n",
      "Scheduling check coroutines\n",
      "Sending command\n",
      "RemoteTelemetry(ATMCS, 0, torqueDemand) falling behind; read 100 messages\n",
      "RemoteTelemetry(ATPneumatics, 0, m2AirPressure) falling behind; read 100 messages\n",
      "RemoteTelemetry(ATMCS, 0, nasymth_m3_mountMotorEncoders) falling behind; read 100 messages\n",
      "Got False\n",
      "ATDome not in position\n",
      "RemoteTelemetry(ATPtg, 0, currentTimesToLimits) falling behind; read 83 messages\n",
      "RemoteTelemetry(ATMCS, 0, mount_Nasmyth_Encoders) falling behind; read 100 messages\n",
      "RemoteTelemetry(ATMCS, 0, mount_AzEl_Encoders) falling behind; read 100 messages\n",
      "RemoteEvent(ATPtg, 0, weatherDataApplied) falling behind; read 41 messages\n",
      "RemoteEvent(ATDomeTrajectory, 0, logMessage) falling behind; read 18 messages\n",
      "RemoteEvent(ATPtg, 0, mountDataWarning) falling behind; read 82 messages\n",
      "RemoteEvent(ATMCS, 0, target) falling behind; read 22 messages\n",
      "process as completed...\n",
      "[Telescope] delta Alt = -014.950 | delta Az= +175.212 [Dome] delta Az = +172.074\n",
      "[Telescope] delta Alt = -014.557 | delta Az= +172.987 [Dome] delta Az = +171.139\n",
      "[Telescope] delta Alt = -012.650 | delta Az= +168.999 [Dome] delta Az = +169.488\n",
      "[Telescope] delta Alt = -009.266 | delta Az= +165.010 [Dome] delta Az = +166.788\n",
      "[Telescope] delta Alt = -005.328 | delta Az= +161.019 [Dome] delta Az = +163.158\n",
      "[Telescope] delta Alt = -002.052 | delta Az= +157.029 [Dome] delta Az = +158.578\n",
      "[Telescope] delta Alt = -000.311 | delta Az= +153.040 [Dome] delta Az = +153.088\n",
      "[Telescope] delta Alt = +000.000 | delta Az= +149.049 [Dome] delta Az = +147.348\n",
      "[Telescope] delta Alt = +000.001 | delta Az= +145.059 [Dome] delta Az = +140.458\n",
      "[Telescope] delta Alt = +000.000 | delta Az= +141.070 [Dome] delta Az = +133.547\n",
      "[Telescope] delta Alt = +000.000 | delta Az= +137.078 [Dome] delta Az = +126.648\n",
      "[Telescope] delta Alt = +000.000 | delta Az= +133.089 [Dome] delta Az = +120.437\n",
      "[Telescope] delta Alt = +000.000 | delta Az= +129.099 [Dome] delta Az = +113.527\n",
      "[Telescope] delta Alt = +000.000 | delta Az= +125.109 [Dome] delta Az = +106.617\n",
      "[Telescope] delta Alt = +000.000 | delta Az= +121.119 [Dome] delta Az = +099.707\n",
      "[Telescope] delta Alt = +000.000 | delta Az= +117.130 [Dome] delta Az = +092.828\n",
      "[Telescope] delta Alt = +000.000 | delta Az= +113.138 [Dome] delta Az = +086.607\n",
      "[Telescope] delta Alt = +000.000 | delta Az= +109.149 [Dome] delta Az = +079.737\n",
      "[Telescope] delta Alt = +000.000 | delta Az= +105.158 [Dome] delta Az = +072.847\n",
      "[Telescope] delta Alt = +000.000 | delta Az= +101.168 [Dome] delta Az = +065.976\n",
      "[Telescope] delta Alt = +000.000 | delta Az= +097.178 [Dome] delta Az = +059.086\n",
      "[Telescope] delta Alt = +000.000 | delta Az= +093.188 [Dome] delta Az = +052.166\n",
      "[Telescope] delta Alt = +000.000 | delta Az= +089.198 [Dome] delta Az = +045.956\n",
      "[Telescope] delta Alt = +000.000 | delta Az= +085.209 [Dome] delta Az = +039.086\n",
      "[Telescope] delta Alt = +000.000 | delta Az= +081.217 [Dome] delta Az = +032.186\n",
      "[Telescope] delta Alt = +000.000 | delta Az= +077.228 [Dome] delta Az = +025.286\n",
      "[Telescope] delta Alt = +000.000 | delta Az= +073.238 [Dome] delta Az = +018.356\n",
      "[Telescope] delta Alt = +000.000 | delta Az= +069.247 [Dome] delta Az = +012.115\n",
      "[Telescope] delta Alt = +000.000 | delta Az= +065.257 [Dome] delta Az = +005.196\n",
      "Got True\n",
      "ATDome in position.\n",
      "[Telescope] delta Alt = +000.000 | delta Az= +061.268 [Dome] delta Az = -000.315\n",
      "[Telescope] delta Alt = +000.000 | delta Az= +057.277 [Dome] delta Az = -002.565\n",
      "[Telescope] delta Alt = +000.000 | delta Az= +053.287 [Dome] delta Az = -002.625\n",
      "[Telescope] delta Alt = +000.000 | delta Az= +049.297 [Dome] delta Az = -002.615\n",
      "[Telescope] delta Alt = +000.000 | delta Az= +045.306 [Dome] delta Az = -002.605\n",
      "[Telescope] delta Alt = +000.000 | delta Az= +041.317 [Dome] delta Az = -002.595\n",
      "[Telescope] delta Alt = +000.000 | delta Az= +037.326 [Dome] delta Az = -002.585\n",
      "[Telescope] delta Alt = +000.000 | delta Az= +033.336 [Dome] delta Az = -002.575\n",
      "[Telescope] delta Alt = +000.000 | delta Az= +029.348 [Dome] delta Az = -002.565\n",
      "[Telescope] delta Alt = +000.000 | delta Az= +025.370 [Dome] delta Az = -002.556\n",
      "[Telescope] delta Alt = +000.000 | delta Az= +021.451 [Dome] delta Az = -002.545\n",
      "[Telescope] delta Alt = +000.000 | delta Az= +017.651 [Dome] delta Az = -002.536\n",
      "[Telescope] delta Alt = +000.000 | delta Az= +014.048 [Dome] delta Az = -002.526\n",
      "[Telescope] delta Alt = +000.000 | delta Az= +010.731 [Dome] delta Az = -002.516\n",
      "[Telescope] delta Alt = +000.000 | delta Az= +007.781 [Dome] delta Az = -002.506\n",
      "[Telescope] delta Alt = +000.000 | delta Az= +005.270 [Dome] delta Az = -002.496\n",
      "[Telescope] delta Alt = +000.000 | delta Az= +003.251 [Dome] delta Az = -002.486\n",
      "[Telescope] delta Alt = +000.000 | delta Az= +001.751 [Dome] delta Az = -002.476\n",
      "[Telescope] delta Alt = +000.000 | delta Az= +000.758 [Dome] delta Az = -002.466\n",
      "[Telescope] delta Alt = +000.000 | delta Az= +000.219 [Dome] delta Az = -002.456\n",
      "[Telescope] delta Alt = +000.000 | delta Az= +000.023 [Dome] delta Az = -002.447\n",
      "Got True\n",
      "Telescope in position.\n",
      "[None, 'Telescope in position.', 'ATDome in position.']\n",
      "Removing callback...\n"
     ]
    }
   ],
   "source": [
    "await attcs.slew_icrs(ra=\"01 37 42.84548\", dec=\"-57 14 12.3101\", rot_pa=0., target_name=\"alf Eri\", slew_timeout=120.)"
   ]
  },
  {
   "cell_type": "code",
   "execution_count": 9,
   "metadata": {},
   "outputs": [
    {
     "name": "stdout",
     "output_type": "stream",
     "text": [
      "RemoteTelemetry(ATPneumatics, 0, loadCell) falling behind; read 10 messages\n",
      "RemoteEvent(ATDomeTrajectory, 0, logMessage) falling behind; read 100 messages\n",
      "RemoteTelemetry(ATDome, 0, position) falling behind; read 48 messages\n",
      "RemoteTelemetry(ATHexapod, 0, positionStatus) falling behind; read 10 messages\n",
      "RemoteTelemetry(ATPtg, 0, timeAndDate) falling behind; read 51 messages\n",
      "RemoteEvent(ATAOS, 0, heartbeat) falling behind; read 11 messages\n",
      "RemoteTelemetry(ATPneumatics, 0, mainAirSourcePressure) falling behind; read 11 messages\n",
      "RemoteEvent(ATHexapod, 0, heartbeat) falling behind; read 10 messages\n",
      "RemoteEvent(ATAOS, 0, detailedState) falling behind; read 14 messages\n",
      "RemoteEvent(ATDomeTrajectory, 0, heartbeat) falling behind; read 10 messages\n",
      "RemoteEvent(ATDome, 0, shutterInPosition) falling behind; read 16 messages\n",
      "RemoteTelemetry(ATPneumatics, 0, m2AirPressure) falling behind; read 11 messages\n",
      "RemoteTelemetry(ATPtg, 0, guidingAndOffsets) falling behind; read 51 messages\n",
      "RemoteTelemetry(ATMCS, 0, mount_Nasmyth_Encoders) falling behind; read 11 messages\n",
      "RemoteEvent(ATDome, 0, mainDoorState) falling behind; read 16 messages\n",
      "RemoteTelemetry(ATPneumatics, 0, m1AirPressure) falling behind; read 11 messages\n",
      "RemoteTelemetry(ATMCS, 0, mount_AzEl_Encoders) falling behind; read 11 messages\n",
      "RemoteEvent(ATDome, 0, heartbeat) falling behind; read 10 messages\n",
      "RemoteTelemetry(ATMCS, 0, measuredTorque) falling behind; read 11 messages\n",
      "RemoteTelemetry(ATMCS, 0, measuredMotorVelocity) falling behind; read 11 messages\n"
     ]
    },
    {
     "data": {
      "text/plain": [
       "<lsst.ts.salobj.ddsutil.ATPtg_ackcmd_2d655b72 at 0x7f2ad02107f0>"
      ]
     },
     "execution_count": 9,
     "metadata": {},
     "output_type": "execute_result"
    }
   ],
   "source": [
    "await attcs.atptg.cmd_offsetRADec.set_start(off1=30., off2=-20., num=0, type=0)"
   ]
  },
  {
   "cell_type": "code",
   "execution_count": 10,
   "metadata": {},
   "outputs": [
    {
     "name": "stdout",
     "output_type": "stream",
     "text": [
      "RemoteEvent(ATMCS, 0, target) falling behind; read 100 messages\n",
      "RemoteEvent(ATDomeTrajectory, 0, logMessage) falling behind; read 100 messages\n",
      "RemoteTelemetry(ATPtg, 0, currentTargetStatus) falling behind; read 100 messages\n",
      "RemoteTelemetry(ATPneumatics, 0, loadCell) falling behind; read 56 messages\n",
      "RemoteTelemetry(ATDome, 0, position) falling behind; read 100 messages\n",
      "RemoteEvent(ATAOS, 0, m1CorrectionStarted) falling behind; read 39 messages\n",
      "RemoteTelemetry(ATPtg, 0, timeAndDate) falling behind; read 100 messages\n",
      "RemoteEvent(ATDome, 0, shutterInPosition) falling behind; read 100 messages\n",
      "RemoteEvent(ATAOS, 0, m1CorrectionCompleted) falling behind; read 39 messages\n",
      "RemoteTelemetry(ATPtg, 0, skyEnvironment) falling behind; read 11 messages\n",
      "RemoteEvent(ATDome, 0, mainDoorState) falling behind; read 100 messages\n",
      "RemoteEvent(ATAOS, 0, detailedState) falling behind; read 78 messages\n",
      "RemoteTelemetry(ATPtg, 0, currentTimesToLimits) falling behind; read 12 messages\n"
     ]
    },
    {
     "data": {
      "text/plain": [
       "<lsst.ts.salobj.ddsutil.ATPtg_ackcmd_2d655b72 at 0x7f2ad01c0630>"
      ]
     },
     "execution_count": 10,
     "metadata": {},
     "output_type": "execute_result"
    }
   ],
   "source": [
    "await asyncio.sleep(1.)\n",
    "await attcs.atptg.cmd_pointNewFile.start()\n",
    "await asyncio.sleep(1.)\n",
    "await attcs.atptg.cmd_pointAddData.start()"
   ]
  },
  {
   "cell_type": "markdown",
   "metadata": {},
   "source": [
    "# HD 217259"
   ]
  },
  {
   "cell_type": "code",
   "execution_count": 11,
   "metadata": {},
   "outputs": [
    {
     "name": "stdout",
     "output_type": "stream",
     "text": [
      "RemoteTelemetry(ATDome, 0, position) falling behind; read 100 messages\n",
      "RemoteEvent(ATMCS, 0, target) falling behind; read 100 messages\n",
      "RemoteEvent(ATDomeTrajectory, 0, logMessage) falling behind; read 100 messages\n",
      "RemoteEvent(ATAOS, 0, heartbeat) falling behind; read 100 messages\n",
      "RemoteTelemetry(ATHexapod, 0, positionStatus) falling behind; read 100 messages\n",
      "RemoteTelemetry(ATPneumatics, 0, loadCell) falling behind; read 100 messages\n",
      "RemoteEvent(ATHexapod, 0, heartbeat) falling behind; read 100 messages\n",
      "RemoteTelemetry(ATPtg, 0, timeAndDate) falling behind; read 100 messages\n",
      "RemoteEvent(ATAOS, 0, m1CorrectionStarted) falling behind; read 100 messages\n",
      "RemoteTelemetry(ATPtg, 0, skyEnvironment) falling behind; read 39 messages\n",
      "RemoteEvent(ATDome, 0, shutterInPosition) falling behind; read 100 messages\n",
      "RemoteEvent(ATAOS, 0, m1CorrectionCompleted) falling behind; read 100 messages\n",
      "RemoteTelemetry(ATMCS, 0, trajectory) falling behind; read 100 messages\n",
      "RemoteTelemetry(ATPneumatics, 0, mainAirSourcePressure) falling behind; read 100 messages\n",
      "Flushing events\n",
      "Scheduling check coroutines\n",
      "Sending command\n",
      "RemoteTelemetry(ATPtg, 0, mountStatus) falling behind; read 100 messages\n",
      "RemoteEvent(ATDome, 0, mainDoorState) falling behind; read 100 messages\n",
      "RemoteEvent(ATAOS, 0, detailedState) falling behind; read 100 messages\n",
      "RemoteTelemetry(ATMCS, 0, torqueDemand) falling behind; read 100 messages\n",
      "RemoteTelemetry(ATPneumatics, 0, m2AirPressure) falling behind; read 100 messages\n",
      "RemoteEvent(ATDomeTrajectory, 0, heartbeat) falling behind; read 100 messages\n",
      "RemoteTelemetry(ATPtg, 0, guidingAndOffsets) falling behind; read 100 messages\n",
      "RemoteEvent(ATDome, 0, heartbeat) falling behind; read 100 messages\n",
      "RemoteTelemetry(ATMCS, 0, nasymth_m3_mountMotorEncoders) falling behind; read 100 messages\n",
      "RemoteTelemetry(ATPneumatics, 0, m1AirPressure) falling behind; read 100 messages\n",
      "Got False\n",
      "ATDome not in position\n",
      "RemoteTelemetry(ATMCS, 0, mount_Nasmyth_Encoders) falling behind; read 100 messages\n",
      "RemoteEvent(ATPneumatics, 0, m1SetPressure) falling behind; read 100 messages\n",
      "RemoteTelemetry(ATPtg, 0, currentTargetStatus) falling behind; read 100 messages\n",
      "RemoteTelemetry(ATMCS, 0, mount_AzEl_Encoders) falling behind; read 100 messages\n",
      "RemoteEvent(ATPneumatics, 0, heartbeat) falling behind; read 100 messages\n",
      "RemoteTelemetry(ATMCS, 0, measuredTorque) falling behind; read 100 messages\n",
      "RemoteTelemetry(ATMCS, 0, measuredMotorVelocity) falling behind; read 100 messages\n",
      "RemoteTelemetry(ATMCS, 0, azEl_mountMotorEncoders) falling behind; read 100 messages\n",
      "RemoteEvent(ATMCS, 0, heartbeat) falling behind; read 100 messages\n",
      "process as completed...\n",
      "[Telescope] delta Alt = -000.000 | delta Az= -000.008 [Dome] delta Az = -000.526\n",
      "Got False\n",
      "Telescope not in position\n",
      "[Telescope] delta Alt = -003.115 | delta Az= +048.386 [Dome] delta Az = +050.366\n",
      "[Telescope] delta Alt = -000.208 | delta Az= +044.389 [Dome] delta Az = +048.389\n",
      "[Telescope] delta Alt = -000.002 | delta Az= +040.392 [Dome] delta Az = +045.311\n",
      "[Telescope] delta Alt = -000.001 | delta Az= +036.394 [Dome] delta Az = +041.754\n",
      "[Telescope] delta Alt = -000.002 | delta Az= +032.397 [Dome] delta Az = +036.907\n",
      "[Telescope] delta Alt = -000.002 | delta Az= +028.403 [Dome] delta Az = +031.130\n",
      "[Telescope] delta Alt = -000.002 | delta Az= +024.428 [Dome] delta Az = +024.523\n",
      "[Telescope] delta Alt = -000.002 | delta Az= +020.523 [Dome] delta Az = +017.595\n",
      "[Telescope] delta Alt = -000.002 | delta Az= +016.759 [Dome] delta Az = +011.418\n",
      "[Telescope] delta Alt = -000.002 | delta Az= +013.212 [Dome] delta Az = +004.511\n",
      "Got True\n",
      "ATDome in position.\n",
      "[Telescope] delta Alt = -000.002 | delta Az= +009.973 [Dome] delta Az = -000.866\n",
      "[Telescope] delta Alt = -000.002 | delta Az= +007.121 [Dome] delta Az = -002.953\n",
      "[Telescope] delta Alt = -000.002 | delta Az= +004.724 [Dome] delta Az = -003.001\n",
      "[Telescope] delta Alt = -000.002 | delta Az= +002.830 [Dome] delta Az = -002.998\n",
      "[Telescope] delta Alt = -000.002 | delta Az= +001.457 [Dome] delta Az = -002.995\n",
      "[Telescope] delta Alt = -000.002 | delta Az= +000.582 [Dome] delta Az = -002.992\n",
      "[Telescope] delta Alt = -000.002 | delta Az= +000.141 [Dome] delta Az = -002.990\n",
      "[Telescope] delta Alt = -000.002 | delta Az= +000.008 [Dome] delta Az = -002.987\n",
      "[Telescope] delta Alt = -000.002 | delta Az= +000.001 [Dome] delta Az = -002.984\n",
      "[Telescope] delta Alt = -000.002 | delta Az= +000.001 [Dome] delta Az = -002.981\n",
      "[Telescope] delta Alt = -000.002 | delta Az= +000.001 [Dome] delta Az = -002.978\n",
      "[Telescope] delta Alt = -000.002 | delta Az= +000.001 [Dome] delta Az = -002.976\n",
      "[Telescope] delta Alt = -000.002 | delta Az= +000.001 [Dome] delta Az = -002.973\n",
      "[Telescope] delta Alt = -000.002 | delta Az= +000.001 [Dome] delta Az = -002.970\n",
      "[Telescope] delta Alt = -000.002 | delta Az= +000.001 [Dome] delta Az = -002.967\n",
      "Got True\n",
      "Telescope in position.\n",
      "[None, 'Telescope in position.', 'ATDome in position.']\n",
      "Removing callback...\n"
     ]
    }
   ],
   "source": [
    "await attcs.slew_icrs(ra=\"23 00 02.7681365273\", \n",
    "                      dec=\"-46 29 31.786286124\", \n",
    "                      rot_pa=0., \n",
    "                      target_name=\"HD 217259\", \n",
    "                      slew_timeout=120.)"
   ]
  },
  {
   "cell_type": "code",
   "execution_count": 14,
   "metadata": {},
   "outputs": [
    {
     "name": "stdout",
     "output_type": "stream",
     "text": [
      "RemoteEvent(ATDomeTrajectory, 0, logMessage) falling behind; read 100 messages\n",
      "RemoteEvent(ATAOS, 0, heartbeat) falling behind; read 12 messages\n",
      "RemoteTelemetry(ATPneumatics, 0, loadCell) falling behind; read 12 messages\n",
      "RemoteTelemetry(ATDome, 0, position) falling behind; read 59 messages\n",
      "RemoteTelemetry(ATMCS, 0, trajectory) falling behind; read 12 messages\n",
      "RemoteTelemetry(ATPneumatics, 0, mainAirSourcePressure) falling behind; read 12 messages\n",
      "RemoteTelemetry(ATHexapod, 0, positionStatus) falling behind; read 12 messages\n",
      "RemoteEvent(ATDome, 0, shutterInPosition) falling behind; read 28 messages\n",
      "RemoteTelemetry(ATMCS, 0, torqueDemand) falling behind; read 12 messages\n",
      "RemoteEvent(ATDome, 0, mainDoorState) falling behind; read 29 messages\n",
      "RemoteTelemetry(ATMCS, 0, nasymth_m3_mountMotorEncoders) falling behind; read 12 messages\n",
      "RemoteTelemetry(ATMCS, 0, mount_Nasmyth_Encoders) falling behind; read 12 messages\n",
      "RemoteTelemetry(ATPtg, 0, currentTargetStatus) falling behind; read 62 messages\n"
     ]
    },
    {
     "data": {
      "text/plain": [
       "<lsst.ts.salobj.ddsutil.ATPtg_ackcmd_2d655b72 at 0x7f2ae1e15198>"
      ]
     },
     "execution_count": 14,
     "metadata": {},
     "output_type": "execute_result"
    }
   ],
   "source": [
    "await attcs.atptg.cmd_offsetRADec.set_start(off1=-20., off2=-10., num=0, type=0)"
   ]
  },
  {
   "cell_type": "code",
   "execution_count": 26,
   "metadata": {},
   "outputs": [
    {
     "name": "stdout",
     "output_type": "stream",
     "text": [
      "RemoteEvent(ATDomeTrajectory, 0, logMessage) falling behind; read 100 messages\n",
      "RemoteEvent(ATDome, 0, shutterInPosition) falling behind; read 21 messages\n",
      "RemoteEvent(ATDome, 0, mainDoorState) falling behind; read 21 messages\n",
      "RemoteEvent(ATAOS, 0, detailedState) falling behind; read 13 messages\n",
      "RemoteTelemetry(ATPneumatics, 0, loadCell) falling behind; read 10 messages\n",
      "RemoteEvent(ATPneumatics, 0, heartbeat) falling behind; read 10 messages\n",
      "RemoteTelemetry(ATMCS, 0, mount_AzEl_Encoders) falling behind; read 10 messages\n"
     ]
    },
    {
     "data": {
      "text/plain": [
       "<lsst.ts.salobj.ddsutil.ATPtg_ackcmd_2d655b72 at 0x7f2ae108c908>"
      ]
     },
     "execution_count": 26,
     "metadata": {},
     "output_type": "execute_result"
    }
   ],
   "source": [
    "# await asyncio.sleep(1.)\n",
    "await attcs.atptg.cmd_pointNewFile.start()\n",
    "await asyncio.sleep(1.)\n",
    "await attcs.atptg.cmd_pointAddData.start()"
   ]
  },
  {
   "cell_type": "markdown",
   "metadata": {},
   "source": [
    "Recover from Fault "
   ]
  },
  {
   "cell_type": "code",
   "execution_count": 17,
   "metadata": {},
   "outputs": [
    {
     "name": "stdout",
     "output_type": "stream",
     "text": [
      "RemoteEvent(ATPtg, 0, weatherDataApplied) falling behind; read 87 messages\n",
      "Gathering settings.\n",
      "Settings versions: {'ataos': 'measured_20190908.yaml', 'atmcs': '', 'atptg': '', 'atpneumatics': '', 'athexapod': 'current', 'atdome': 'test.yaml', 'atdometrajectory': ''}\n",
      "Enabling all components\n",
      "Enabling  atmcs\n",
      "Enabling  atptg\n",
      "Enabling  ataos\n",
      "Enabling  atpneumatics\n",
      "Enabling  athexapod\n",
      "Enabling  atdome\n",
      "Enabling  atdometrajectory\n",
      "[atmcs]::[<State.FAULT: 3>, <State.STANDBY: 5>, <State.DISABLED: 1>, <State.ENABLED: 2>]\n",
      "[atptg]::[<State.FAULT: 3>, <State.STANDBY: 5>, <State.DISABLED: 1>, <State.ENABLED: 2>]\n",
      "[ataos]::[<State.ENABLED: 2>]\n",
      "[atpneumatics]::[<State.ENABLED: 2>]\n",
      "[athexapod]::[<State.ENABLED: 2>]\n",
      "[atdome]::[<State.ENABLED: 2>]\n",
      "[atdometrajectory]::[<State.ENABLED: 2>]\n",
      "All components enabled.\n"
     ]
    }
   ],
   "source": [
    "await asyncio.sleep(5)\n",
    "await attcs.enable(settings={\n",
    "    'ataos': \"measured_20190908.yaml\",\n",
    "    'atmcs': \"\",\n",
    "    'atptg': \"\",\n",
    "    'atpneumatics': \"\",\n",
    "    'athexapod': \"current\",\n",
    "    'atdome': \"test.yaml\",\n",
    "    'atdometrajectory': \"\"})"
   ]
  },
  {
   "cell_type": "markdown",
   "metadata": {},
   "source": [
    "# HD 25189"
   ]
  },
  {
   "cell_type": "code",
   "execution_count": 18,
   "metadata": {},
   "outputs": [
    {
     "name": "stdout",
     "output_type": "stream",
     "text": [
      "RemoteEvent(ATMCS, 0, heartbeat) falling behind; read 100 messages\n",
      "RemoteEvent(ATPtg, 0, mountDataWarning) falling behind; read 100 messages\n",
      "RemoteTelemetry(ATPneumatics, 0, loadCell) falling behind; read 100 messages\n",
      "RemoteTelemetry(ATDome, 0, position) falling behind; read 100 messages\n",
      "RemoteEvent(ATDomeTrajectory, 0, heartbeat) falling behind; read 100 messages\n",
      "RemoteEvent(ATAOS, 0, detailedState) falling behind; read 100 messages\n",
      "RemoteEvent(ATHexapod, 0, heartbeat) falling behind; read 100 messages\n",
      "RemoteTelemetry(ATMCS, 0, trajectory) falling behind; read 100 messages\n",
      "RemoteTelemetry(ATMCS, 0, torqueDemand) falling behind; read 100 messages\n",
      "RemoteTelemetry(ATPtg, 0, timeAndDate) falling behind; read 100 messages\n",
      "RemoteEvent(ATAOS, 0, m1CorrectionStarted) falling behind; read 100 messages\n",
      "RemoteTelemetry(ATPneumatics, 0, mainAirSourcePressure) falling behind; read 100 messages\n",
      "RemoteTelemetry(ATHexapod, 0, positionStatus) falling behind; read 100 messages\n",
      "RemoteTelemetry(ATMCS, 0, nasymth_m3_mountMotorEncoders) falling behind; read 100 messages\n",
      "RemoteEvent(ATDome, 0, shutterInPosition) falling behind; read 100 messages\n",
      "RemoteTelemetry(ATPtg, 0, skyEnvironment) falling behind; read 34 messages\n",
      "RemoteEvent(ATAOS, 0, m1CorrectionCompleted) falling behind; read 100 messages\n",
      "RemoteTelemetry(ATPneumatics, 0, m2AirPressure) falling behind; read 100 messages\n",
      "RemoteTelemetry(ATMCS, 0, mount_Nasmyth_Encoders) falling behind; read 100 messages\n",
      "RemoteEvent(ATDome, 0, mainDoorState) falling behind; read 100 messages\n",
      "Flushing events\n",
      "Scheduling check coroutines\n",
      "Sending command\n",
      "RemoteTelemetry(ATPtg, 0, mountStatus) falling behind; read 100 messages\n",
      "RemoteEvent(ATAOS, 0, heartbeat) falling behind; read 100 messages\n",
      "RemoteTelemetry(ATPneumatics, 0, m1AirPressure) falling behind; read 100 messages\n",
      "RemoteTelemetry(ATMCS, 0, mount_AzEl_Encoders) falling behind; read 100 messages\n",
      "RemoteEvent(ATDome, 0, heartbeat) falling behind; read 100 messages\n",
      "RemoteTelemetry(ATPtg, 0, guidingAndOffsets) falling behind; read 100 messages\n",
      "RemoteEvent(ATPneumatics, 0, m1SetPressure) falling behind; read 100 messages\n",
      "RemoteTelemetry(ATMCS, 0, measuredTorque) falling behind; read 100 messages\n",
      "Got False\n",
      "ATDome not in position\n",
      "RemoteTelemetry(ATPtg, 0, currentTimesToLimits) falling behind; read 35 messages\n",
      "RemoteEvent(ATPneumatics, 0, heartbeat) falling behind; read 100 messages\n",
      "RemoteTelemetry(ATMCS, 0, measuredMotorVelocity) falling behind; read 100 messages\n",
      "RemoteTelemetry(ATPtg, 0, currentTargetStatus) falling behind; read 100 messages\n",
      "RemoteTelemetry(ATMCS, 0, azEl_mountMotorEncoders) falling behind; read 100 messages\n",
      "process as completed...\n",
      "[Telescope] delta Alt = +009.143 | delta Az= -154.674 [Dome] delta Az = -156.371\n",
      "[Telescope] delta Alt = +007.553 | delta Az= -151.792 [Dome] delta Az = -155.243\n",
      "[Telescope] delta Alt = +003.868 | delta Az= -147.802 [Dome] delta Az = -153.430\n",
      "[Telescope] delta Alt = +000.735 | delta Az= -143.810 [Dome] delta Az = -150.528\n",
      "[Telescope] delta Alt = +000.002 | delta Az= -139.817 [Dome] delta Az = -146.665\n",
      "[Telescope] delta Alt = +000.002 | delta Az= -135.824 [Dome] delta Az = -141.922\n",
      "[Telescope] delta Alt = +000.002 | delta Az= -131.832 [Dome] delta Az = -136.239\n",
      "[Telescope] delta Alt = +000.002 | delta Az= -127.839 [Dome] delta Az = -130.407\n",
      "[Telescope] delta Alt = +000.002 | delta Az= -123.846 [Dome] delta Az = -123.524\n",
      "[Telescope] delta Alt = +000.002 | delta Az= -119.853 [Dome] delta Az = -116.611\n",
      "[Telescope] delta Alt = +000.002 | delta Az= -115.860 [Dome] delta Az = -109.668\n",
      "[Telescope] delta Alt = +000.002 | delta Az= -111.868 [Dome] delta Az = -102.796\n",
      "[Telescope] delta Alt = +000.002 | delta Az= -107.876 [Dome] delta Az = -095.893\n",
      "[Telescope] delta Alt = +000.002 | delta Az= -103.881 [Dome] delta Az = -089.660\n",
      "[Telescope] delta Alt = +000.002 | delta Az= -099.890 [Dome] delta Az = -082.738\n",
      "[Telescope] delta Alt = +000.002 | delta Az= -095.897 [Dome] delta Az = -075.785\n",
      "[Telescope] delta Alt = +000.002 | delta Az= -091.904 [Dome] delta Az = -068.842\n",
      "[Telescope] delta Alt = +000.002 | delta Az= -087.912 [Dome] delta Az = -061.969\n",
      "[Telescope] delta Alt = +000.002 | delta Az= -083.918 [Dome] delta Az = -055.747\n",
      "[Telescope] delta Alt = +000.002 | delta Az= -079.925 [Dome] delta Az = -048.844\n",
      "[Telescope] delta Alt = +000.002 | delta Az= -075.933 [Dome] delta Az = -041.941\n",
      "[Telescope] delta Alt = +000.002 | delta Az= -071.940 [Dome] delta Az = -035.009\n",
      "[Telescope] delta Alt = +000.002 | delta Az= -067.948 [Dome] delta Az = -028.136\n",
      "[Telescope] delta Alt = +000.002 | delta Az= -063.955 [Dome] delta Az = -021.963\n",
      "[Telescope] delta Alt = +000.002 | delta Az= -059.961 [Dome] delta Az = -015.031\n",
      "[Telescope] delta Alt = +000.002 | delta Az= -055.970 [Dome] delta Az = -008.108\n",
      "Got True\n",
      "ATDome in position.\n",
      "[Telescope] delta Alt = +000.002 | delta Az= -051.977 [Dome] delta Az = -001.585\n",
      "[Telescope] delta Alt = +000.002 | delta Az= -047.983 [Dome] delta Az = +001.818\n",
      "[Telescope] delta Alt = +000.002 | delta Az= -043.992 [Dome] delta Az = +002.680\n",
      "[Telescope] delta Alt = +000.002 | delta Az= -039.998 [Dome] delta Az = +002.673\n",
      "[Telescope] delta Alt = +000.002 | delta Az= -036.006 [Dome] delta Az = +002.666\n",
      "[Telescope] delta Alt = +000.002 | delta Az= -032.015 [Dome] delta Az = +002.658\n",
      "[Telescope] delta Alt = +000.002 | delta Az= -028.023 [Dome] delta Az = +002.651\n",
      "[Telescope] delta Alt = +000.002 | delta Az= -024.058 [Dome] delta Az = +002.644\n",
      "[Telescope] delta Alt = +000.002 | delta Az= -020.169 [Dome] delta Az = +002.637\n",
      "[Telescope] delta Alt = +000.002 | delta Az= -016.422 [Dome] delta Az = +002.629\n",
      "[Telescope] delta Alt = +000.002 | delta Az= -012.904 [Dome] delta Az = +002.622\n",
      "[Telescope] delta Alt = +000.002 | delta Az= -009.701 [Dome] delta Az = +002.615\n",
      "[Telescope] delta Alt = +000.002 | delta Az= -006.889 [Dome] delta Az = +002.607\n",
      "[Telescope] delta Alt = +000.002 | delta Az= -004.538 [Dome] delta Az = +002.600\n",
      "[Telescope] delta Alt = +000.002 | delta Az= -002.691 [Dome] delta Az = +002.592\n",
      "[Telescope] delta Alt = +000.002 | delta Az= -001.363 [Dome] delta Az = +002.585\n",
      "[Telescope] delta Alt = +000.002 | delta Az= -000.532 [Dome] delta Az = +002.578\n",
      "[Telescope] delta Alt = +000.002 | delta Az= -000.120 [Dome] delta Az = +002.570\n",
      "[Telescope] delta Alt = +000.002 | delta Az= -000.006 [Dome] delta Az = +002.563\n",
      "[Telescope] delta Alt = +000.002 | delta Az= -000.003 [Dome] delta Az = +002.555\n",
      "[Telescope] delta Alt = +000.002 | delta Az= -000.002 [Dome] delta Az = +002.548\n",
      "[Telescope] delta Alt = +000.002 | delta Az= -000.002 [Dome] delta Az = +002.541\n",
      "[Telescope] delta Alt = +000.002 | delta Az= -000.003 [Dome] delta Az = +002.533\n",
      "[Telescope] delta Alt = +000.002 | delta Az= -000.003 [Dome] delta Az = +002.526\n",
      "[Telescope] delta Alt = +000.003 | delta Az= -000.003 [Dome] delta Az = +002.518\n",
      "[Telescope] delta Alt = +000.002 | delta Az= -000.002 [Dome] delta Az = +002.511\n",
      "[Telescope] delta Alt = +000.002 | delta Az= -000.002 [Dome] delta Az = +002.504\n",
      "[Telescope] delta Alt = +000.002 | delta Az= -000.002 [Dome] delta Az = +002.496\n",
      "[Telescope] delta Alt = +000.006 | delta Az= -000.006 [Dome] delta Az = +002.489\n",
      "[Telescope] delta Alt = +000.002 | delta Az= -000.002 [Dome] delta Az = +002.486\n",
      "[Telescope] delta Alt = +000.002 | delta Az= -000.003 [Dome] delta Az = +002.478\n",
      "Got True\n",
      "Telescope in position.\n",
      "[None, 'Telescope in position.', 'ATDome in position.']\n",
      "Removing callback...\n"
     ]
    }
   ],
   "source": [
    "await attcs.slew_icrs(ra=\"03 59 25.3142500799\", \n",
    "                      dec=\"-20 19 58.408819288\", \n",
    "                      rot_pa=0., \n",
    "                      target_name=\"HD 25189\", \n",
    "                      slew_timeout=120.)"
   ]
  },
  {
   "cell_type": "code",
   "execution_count": 19,
   "metadata": {},
   "outputs": [
    {
     "name": "stdout",
     "output_type": "stream",
     "text": [
      "RemoteEvent(ATMCS, 0, target) falling behind; read 100 messages\n",
      "RemoteEvent(ATDomeTrajectory, 0, logMessage) falling behind; read 100 messages\n",
      "RemoteEvent(ATPtg, 0, mountDataWarning) falling behind; read 70 messages\n",
      "RemoteTelemetry(ATPneumatics, 0, loadCell) falling behind; read 90 messages\n",
      "RemoteTelemetry(ATHexapod, 0, positionStatus) falling behind; read 89 messages\n",
      "RemoteTelemetry(ATDome, 0, position) falling behind; read 100 messages\n",
      "RemoteEvent(ATAOS, 0, heartbeat) falling behind; read 90 messages\n",
      "RemoteEvent(ATHexapod, 0, heartbeat) falling behind; read 90 messages\n",
      "RemoteTelemetry(ATPtg, 0, timeAndDate) falling behind; read 100 messages\n",
      "RemoteTelemetry(ATPneumatics, 0, mainAirSourcePressure) falling behind; read 91 messages\n",
      "RemoteTelemetry(ATPtg, 0, skyEnvironment) falling behind; read 18 messages\n",
      "RemoteTelemetry(ATPneumatics, 0, m2AirPressure) falling behind; read 91 messages\n",
      "RemoteEvent(ATDome, 0, shutterInPosition) falling behind; read 100 messages\n",
      "RemoteTelemetry(ATMCS, 0, trajectory) falling behind; read 91 messages\n",
      "RemoteEvent(ATAOS, 0, m1CorrectionStarted) falling behind; read 63 messages\n",
      "Flushing events\n",
      "Scheduling check coroutines\n",
      "Sending command\n",
      "RemoteTelemetry(ATPtg, 0, mountStatus) falling behind; read 100 messages\n",
      "RemoteTelemetry(ATPneumatics, 0, m1AirPressure) falling behind; read 92 messages\n",
      "RemoteEvent(ATDome, 0, mainDoorState) falling behind; read 100 messages\n",
      "RemoteEvent(ATDomeTrajectory, 0, heartbeat) falling behind; read 92 messages\n",
      "RemoteTelemetry(ATMCS, 0, torqueDemand) falling behind; read 92 messages\n",
      "RemoteEvent(ATAOS, 0, m1CorrectionCompleted) falling behind; read 63 messages\n",
      "RemoteTelemetry(ATPtg, 0, guidingAndOffsets) falling behind; read 100 messages\n",
      "RemoteEvent(ATDome, 0, heartbeat) falling behind; read 91 messages\n",
      "RemoteTelemetry(ATMCS, 0, nasymth_m3_mountMotorEncoders) falling behind; read 92 messages\n",
      "RemoteEvent(ATAOS, 0, detailedState) falling behind; read 100 messages\n",
      "RemoteTelemetry(ATPtg, 0, currentTimesToLimits) falling behind; read 18 messages\n",
      "RemoteEvent(ATPneumatics, 0, m1SetPressure) falling behind; read 64 messages\n",
      "RemoteTelemetry(ATMCS, 0, mount_Nasmyth_Encoders) falling behind; read 93 messages\n",
      "RemoteTelemetry(ATPtg, 0, currentTargetStatus) falling behind; read 100 messages\n",
      "RemoteEvent(ATPneumatics, 0, heartbeat) falling behind; read 93 messages\n",
      "RemoteTelemetry(ATMCS, 0, mount_AzEl_Encoders) falling behind; read 93 messages\n",
      "RemoteTelemetry(ATMCS, 0, measuredTorque) falling behind; read 93 messages\n",
      "RemoteTelemetry(ATMCS, 0, measuredMotorVelocity) falling behind; read 93 messages\n",
      "RemoteTelemetry(ATMCS, 0, azEl_mountMotorEncoders) falling behind; read 94 messages\n",
      "RemoteEvent(ATMCS, 0, heartbeat) falling behind; read 93 messages\n",
      "process as completed...\n",
      "[Telescope] delta Alt = -000.006 | delta Az= +000.007 [Dome] delta Az = +002.133\n",
      "Got False\n",
      "Telescope not in position\n",
      "[Telescope] delta Alt = +000.005 | delta Az= -000.005 [Dome] delta Az = +002.114\n",
      "[Telescope] delta Alt = +000.002 | delta Az= -000.002 [Dome] delta Az = +002.109\n",
      "[Telescope] delta Alt = +000.002 | delta Az= -000.002 [Dome] delta Az = +002.102\n",
      "[Telescope] delta Alt = +000.002 | delta Az= -000.002 [Dome] delta Az = +002.094\n",
      "[Telescope] delta Alt = +000.002 | delta Az= -000.002 [Dome] delta Az = +002.087\n",
      "[Telescope] delta Alt = +000.002 | delta Az= -000.003 [Dome] delta Az = +002.079\n",
      "[Telescope] delta Alt = +000.002 | delta Az= -000.003 [Dome] delta Az = +002.071\n",
      "[Telescope] delta Alt = +000.002 | delta Az= -000.002 [Dome] delta Az = +002.064\n",
      "[Telescope] delta Alt = +000.002 | delta Az= -000.003 [Dome] delta Az = +002.056\n",
      "[Telescope] delta Alt = +000.002 | delta Az= -000.003 [Dome] delta Az = +002.049\n",
      "[Telescope] delta Alt = +000.002 | delta Az= -000.002 [Dome] delta Az = +002.042\n",
      "[Telescope] delta Alt = +000.002 | delta Az= -000.002 [Dome] delta Az = +002.034\n",
      "[Telescope] delta Alt = +000.002 | delta Az= -000.002 [Dome] delta Az = +002.026\n",
      "[Telescope] delta Alt = +000.002 | delta Az= -000.002 [Dome] delta Az = +002.019\n",
      "[Telescope] delta Alt = +000.002 | delta Az= -000.002 [Dome] delta Az = +002.011\n",
      "[Telescope] delta Alt = +000.002 | delta Az= -000.002 [Dome] delta Az = +002.004\n",
      "[Telescope] delta Alt = +000.002 | delta Az= -000.002 [Dome] delta Az = +001.996\n",
      "[Telescope] delta Alt = +000.002 | delta Az= -000.002 [Dome] delta Az = +001.988\n",
      "[Telescope] delta Alt = +000.002 | delta Az= -000.002 [Dome] delta Az = +001.981\n",
      "[Telescope] delta Alt = +000.002 | delta Az= -000.002 [Dome] delta Az = +001.973\n",
      "[Telescope] delta Alt = +000.002 | delta Az= -000.002 [Dome] delta Az = +001.966\n",
      "[Telescope] delta Alt = +000.002 | delta Az= -000.002 [Dome] delta Az = +001.958\n",
      "[Telescope] delta Alt = +000.002 | delta Az= -000.002 [Dome] delta Az = +001.951\n",
      "[Telescope] delta Alt = +000.002 | delta Az= -000.002 [Dome] delta Az = +001.943\n",
      "[Telescope] delta Alt = +000.002 | delta Az= -000.002 [Dome] delta Az = +001.936\n",
      "[Telescope] delta Alt = +000.002 | delta Az= -000.002 [Dome] delta Az = +001.928\n",
      "[Telescope] delta Alt = +000.002 | delta Az= -000.002 [Dome] delta Az = +001.921\n",
      "[Telescope] delta Alt = +000.002 | delta Az= -000.003 [Dome] delta Az = +001.913\n",
      "Got True\n",
      "Telescope in position.\n",
      "[None, 'Telescope in position.']\n",
      "Removing callback...\n"
     ]
    }
   ],
   "source": [
    "attcs.check.atdome = False\n",
    "await attcs.slew_icrs(ra=\"03 59 25.3142500799\", \n",
    "                      dec=\"-20 19 58.408819288\", \n",
    "                      rot_pa=-90., \n",
    "                      target_name=\"HD 25189\", \n",
    "                      slew_timeout=120.)"
   ]
  },
  {
   "cell_type": "code",
   "execution_count": 24,
   "metadata": {},
   "outputs": [
    {
     "name": "stdout",
     "output_type": "stream",
     "text": [
      "RemoteEvent(ATDomeTrajectory, 0, logMessage) falling behind; read 100 messages\n",
      "RemoteEvent(ATDome, 0, shutterInPosition) falling behind; read 16 messages\n",
      "RemoteEvent(ATDome, 0, mainDoorState) falling behind; read 16 messages\n"
     ]
    },
    {
     "data": {
      "text/plain": [
       "<lsst.ts.salobj.ddsutil.ATPtg_ackcmd_2d655b72 at 0x7f2ad0210a90>"
      ]
     },
     "execution_count": 24,
     "metadata": {},
     "output_type": "execute_result"
    }
   ],
   "source": [
    "await attcs.atptg.cmd_offsetRADec.set_start(off1=20., off2=-10., num=0, type=0)"
   ]
  },
  {
   "cell_type": "code",
   "execution_count": 33,
   "metadata": {},
   "outputs": [
    {
     "name": "stdout",
     "output_type": "stream",
     "text": [
      "RemoteEvent(ATDomeTrajectory, 0, logMessage) falling behind; read 100 messages\n",
      "RemoteEvent(ATAOS, 0, m1CorrectionCompleted) falling behind; read 11 messages\n",
      "RemoteTelemetry(ATHexapod, 0, positionStatus) falling behind; read 15 messages\n",
      "RemoteTelemetry(ATDome, 0, position) falling behind; read 73 messages\n",
      "RemoteTelemetry(ATPneumatics, 0, loadCell) falling behind; read 15 messages\n",
      "RemoteEvent(ATAOS, 0, m1CorrectionStarted) falling behind; read 10 messages\n",
      "RemoteTelemetry(ATPneumatics, 0, mainAirSourcePressure) falling behind; read 15 messages\n",
      "RemoteTelemetry(ATPneumatics, 0, m2AirPressure) falling behind; read 15 messages\n",
      "RemoteEvent(ATDomeTrajectory, 0, heartbeat) falling behind; read 15 messages\n",
      "RemoteEvent(ATAOS, 0, detailedState) falling behind; read 21 messages\n",
      "RemoteTelemetry(ATPneumatics, 0, m1AirPressure) falling behind; read 15 messages\n",
      "RemoteEvent(ATDome, 0, shutterInPosition) falling behind; read 34 messages\n",
      "RemoteTelemetry(ATMCS, 0, trajectory) falling behind; read 15 messages\n",
      "RemoteEvent(ATPneumatics, 0, m1SetPressure) falling behind; read 10 messages\n",
      "RemoteEvent(ATDome, 0, mainDoorState) falling behind; read 35 messages\n",
      "RemoteTelemetry(ATMCS, 0, torqueDemand) falling behind; read 15 messages\n",
      "RemoteEvent(ATPneumatics, 0, heartbeat) falling behind; read 15 messages\n",
      "RemoteEvent(ATDome, 0, heartbeat) falling behind; read 16 messages\n",
      "RemoteTelemetry(ATMCS, 0, nasymth_m3_mountMotorEncoders) falling behind; read 16 messages\n",
      "RemoteTelemetry(ATMCS, 0, mount_Nasmyth_Encoders) falling behind; read 16 messages\n",
      "RemoteTelemetry(ATMCS, 0, mount_AzEl_Encoders) falling behind; read 16 messages\n"
     ]
    },
    {
     "data": {
      "text/plain": [
       "<lsst.ts.salobj.ddsutil.ATPtg_ackcmd_2d655b72 at 0x7f2ad01f4320>"
      ]
     },
     "execution_count": 33,
     "metadata": {},
     "output_type": "execute_result"
    }
   ],
   "source": [
    "await attcs.atptg.cmd_offsetRADec.set_start(off1=30., off2=0., num=0, type=0)"
   ]
  },
  {
   "cell_type": "code",
   "execution_count": 34,
   "metadata": {},
   "outputs": [
    {
     "name": "stdout",
     "output_type": "stream",
     "text": [
      "RemoteEvent(ATDomeTrajectory, 0, logMessage) falling behind; read 100 messages\n",
      "RemoteTelemetry(ATPneumatics, 0, mainAirSourcePressure) falling behind; read 21 messages\n",
      "RemoteEvent(ATAOS, 0, m1CorrectionStarted) falling behind; read 15 messages\n",
      "RemoteTelemetry(ATHexapod, 0, positionStatus) falling behind; read 22 messages\n",
      "RemoteEvent(ATDomeTrajectory, 0, heartbeat) falling behind; read 21 messages\n",
      "RemoteTelemetry(ATPneumatics, 0, m2AirPressure) falling behind; read 22 messages\n",
      "RemoteEvent(ATAOS, 0, heartbeat) falling behind; read 22 messages\n",
      "RemoteEvent(ATDome, 0, mainDoorState) falling behind; read 44 messages\n",
      "RemoteTelemetry(ATPneumatics, 0, m1AirPressure) falling behind; read 22 messages\n",
      "RemoteEvent(ATAOS, 0, detailedState) falling behind; read 31 messages\n",
      "RemoteTelemetry(ATPneumatics, 0, loadCell) falling behind; read 22 messages\n",
      "RemoteEvent(ATPneumatics, 0, heartbeat) falling behind; read 22 messages\n"
     ]
    },
    {
     "data": {
      "text/plain": [
       "<lsst.ts.salobj.ddsutil.ATPtg_ackcmd_2d655b72 at 0x7f2ae16e70f0>"
      ]
     },
     "execution_count": 34,
     "metadata": {},
     "output_type": "execute_result"
    }
   ],
   "source": [
    "await attcs.atptg.cmd_pointAddData.start()"
   ]
  },
  {
   "cell_type": "code",
   "execution_count": 39,
   "metadata": {},
   "outputs": [
    {
     "name": "stdout",
     "output_type": "stream",
     "text": [
      "RemoteEvent(ATDomeTrajectory, 0, logMessage) falling behind; read 100 messages\n",
      "RemoteTelemetry(ATDome, 0, position) falling behind; read 43 messages\n",
      "RemoteTelemetry(ATPneumatics, 0, m2AirPressure) falling behind; read 10 messages\n",
      "RemoteTelemetry(ATPneumatics, 0, m1AirPressure) falling behind; read 10 messages\n"
     ]
    },
    {
     "data": {
      "text/plain": [
       "<lsst.ts.salobj.ddsutil.ATPtg_ackcmd_2d655b72 at 0x7f2ae1f31390>"
      ]
     },
     "execution_count": 39,
     "metadata": {},
     "output_type": "execute_result"
    }
   ],
   "source": [
    "await attcs.atptg.cmd_offsetRADec.set_start(off1=15., off2=20., num=0, type=0)"
   ]
  },
  {
   "cell_type": "code",
   "execution_count": 40,
   "metadata": {},
   "outputs": [
    {
     "name": "stdout",
     "output_type": "stream",
     "text": [
      "RemoteEvent(ATMCS, 0, target) falling behind; read 100 messages\n",
      "RemoteEvent(ATDomeTrajectory, 0, logMessage) falling behind; read 100 messages\n",
      "RemoteEvent(ATAOS, 0, m1CorrectionCompleted) falling behind; read 100 messages\n",
      "RemoteEvent(ATHexapod, 0, heartbeat) falling behind; read 100 messages\n",
      "RemoteTelemetry(ATPneumatics, 0, loadCell) falling behind; read 100 messages\n",
      "RemoteEvent(ATDome, 0, shutterInPosition) falling behind; read 100 messages\n",
      "RemoteEvent(ATAOS, 0, m1CorrectionStarted) falling behind; read 100 messages\n",
      "RemoteTelemetry(ATHexapod, 0, positionStatus) falling behind; read 100 messages\n",
      "RemoteTelemetry(ATPneumatics, 0, mainAirSourcePressure) falling behind; read 100 messages\n",
      "RemoteTelemetry(ATMCS, 0, trajectory) falling behind; read 100 messages\n",
      "RemoteTelemetry(ATPtg, 0, skyEnvironment) falling behind; read 88 messages\n",
      "RemoteEvent(ATDomeTrajectory, 0, heartbeat) falling behind; read 100 messages\n",
      "RemoteEvent(ATAOS, 0, heartbeat) falling behind; read 100 messages\n",
      "RemoteTelemetry(ATMCS, 0, torqueDemand) falling behind; read 100 messages\n",
      "Flushing events\n",
      "Scheduling check coroutines\n",
      "Sending command\n",
      "RemoteTelemetry(ATPtg, 0, mountStatus) falling behind; read 100 messages\n",
      "RemoteTelemetry(ATMCS, 0, nasymth_m3_mountMotorEncoders) falling behind; read 100 messages\n",
      "RemoteTelemetry(ATPtg, 0, guidingAndOffsets) falling behind; read 100 messages\n",
      "RemoteEvent(ATPneumatics, 0, m1SetPressure) falling behind; read 100 messages\n",
      "RemoteTelemetry(ATPtg, 0, currentTimesToLimits) falling behind; read 88 messages\n",
      "RemoteEvent(ATPtg, 0, weatherDataApplied) falling behind; read 44 messages\n",
      "[Telescope] delta Alt = -000.004 | delta Az= +000.051 [Dome] delta Az = -018.670\n",
      "process as completed...\n",
      "[Telescope] delta Alt = +000.001 | delta Az= -000.023 [Dome] delta Az = -018.796\n",
      "[Telescope] delta Alt = +000.001 | delta Az= -000.012 [Dome] delta Az = -018.828\n",
      "[Telescope] delta Alt = +000.001 | delta Az= -000.014 [Dome] delta Az = -018.871\n",
      "[Telescope] delta Alt = +000.001 | delta Az= -000.014 [Dome] delta Az = -018.914\n",
      "[Telescope] delta Alt = +000.001 | delta Az= -000.015 [Dome] delta Az = -018.956\n",
      "[Telescope] delta Alt = +000.001 | delta Az= -000.013 [Dome] delta Az = -018.997\n",
      "[Telescope] delta Alt = +000.001 | delta Az= -000.011 [Dome] delta Az = -019.037\n",
      "[Telescope] delta Alt = +000.001 | delta Az= -000.014 [Dome] delta Az = -019.082\n",
      "[Telescope] delta Alt = +000.001 | delta Az= -000.014 [Dome] delta Az = -019.124\n",
      "[Telescope] delta Alt = +000.001 | delta Az= -000.014 [Dome] delta Az = -019.166\n",
      "[Telescope] delta Alt = +000.001 | delta Az= -000.013 [Dome] delta Az = -019.208\n",
      "[Telescope] delta Alt = +000.001 | delta Az= -000.013 [Dome] delta Az = -019.250\n",
      "[Telescope] delta Alt = +000.002 | delta Az= -000.034 [Dome] delta Az = -019.292\n",
      "[Telescope] delta Alt = +000.001 | delta Az= -000.015 [Dome] delta Az = -019.314\n",
      "[Telescope] delta Alt = +000.001 | delta Az= -000.012 [Dome] delta Az = -019.354\n",
      "[Telescope] delta Alt = +000.001 | delta Az= -000.012 [Dome] delta Az = -019.397\n",
      "[Telescope] delta Alt = +000.001 | delta Az= -000.015 [Dome] delta Az = -019.442\n",
      "[Telescope] delta Alt = +000.002 | delta Az= -000.033 [Dome] delta Az = -019.481\n",
      "[Telescope] delta Alt = +000.001 | delta Az= -000.014 [Dome] delta Az = -019.504\n",
      "[Telescope] delta Alt = +000.001 | delta Az= -000.015 [Dome] delta Az = -019.547\n",
      "[Telescope] delta Alt = +000.001 | delta Az= -000.012 [Dome] delta Az = -019.588\n",
      "[Telescope] delta Alt = +000.001 | delta Az= -000.014 [Dome] delta Az = -019.631\n",
      "[Telescope] delta Alt = +000.001 | delta Az= -000.012 [Dome] delta Az = -019.671\n",
      "[Telescope] delta Alt = +000.001 | delta Az= -000.015 [Dome] delta Az = -019.716\n",
      "[Telescope] delta Alt = +000.001 | delta Az= -000.013 [Dome] delta Az = -019.757\n",
      "[Telescope] delta Alt = +000.001 | delta Az= -000.013 [Dome] delta Az = -019.800\n",
      "[Telescope] delta Alt = +000.001 | delta Az= -000.014 [Dome] delta Az = -019.844\n",
      "[Telescope] delta Alt = +000.002 | delta Az= -000.034 [Dome] delta Az = -019.884\n",
      "[Telescope] delta Alt = +000.001 | delta Az= -000.015 [Dome] delta Az = -019.907\n",
      "[Telescope] delta Alt = +000.001 | delta Az= -000.015 [Dome] delta Az = -019.951\n",
      "[Telescope] delta Alt = +000.001 | delta Az= -000.012 [Dome] delta Az = -019.990\n",
      "[Telescope] delta Alt = +000.001 | delta Az= -000.014 [Dome] delta Az = -020.034\n",
      "[Telescope] delta Alt = +000.001 | delta Az= -000.015 [Dome] delta Az = -020.077\n",
      "[Telescope] delta Alt = +000.001 | delta Az= -000.015 [Dome] delta Az = -020.120\n",
      "[Telescope] delta Alt = +000.001 | delta Az= -000.015 [Dome] delta Az = -020.163\n",
      "[Telescope] delta Alt = +000.001 | delta Az= -000.014 [Dome] delta Az = -020.205\n",
      "[Telescope] delta Alt = +000.001 | delta Az= -000.015 [Dome] delta Az = -020.247\n",
      "[Telescope] delta Alt = +000.002 | delta Az= -000.034 [Dome] delta Az = -020.288\n",
      "[Telescope] delta Alt = +000.001 | delta Az= -000.014 [Dome] delta Az = -020.311\n",
      "[Telescope] delta Alt = +000.001 | delta Az= -000.014 [Dome] delta Az = -020.353\n",
      "[Telescope] delta Alt = +000.001 | delta Az= -000.011 [Dome] delta Az = -020.394\n",
      "[Telescope] delta Alt = +000.001 | delta Az= -000.014 [Dome] delta Az = -020.438\n",
      "[Telescope] delta Alt = +000.001 | delta Az= -000.014 [Dome] delta Az = -020.481\n",
      "[Telescope] delta Alt = +000.001 | delta Az= -000.014 [Dome] delta Az = -020.524\n",
      "[Telescope] delta Alt = +000.001 | delta Az= -000.013 [Dome] delta Az = -020.566\n",
      "[Telescope] delta Alt = +000.001 | delta Az= -000.014 [Dome] delta Az = -020.609\n",
      "[Telescope] delta Alt = +000.001 | delta Az= -000.014 [Dome] delta Az = -020.651\n",
      "[Telescope] delta Alt = +000.001 | delta Az= -000.015 [Dome] delta Az = -020.696\n",
      "[Telescope] delta Alt = +000.001 | delta Az= -000.014 [Dome] delta Az = -020.737\n",
      "[Telescope] delta Alt = +000.001 | delta Az= -000.015 [Dome] delta Az = -020.781\n",
      "[Telescope] delta Alt = +000.001 | delta Az= -000.014 [Dome] delta Az = -020.823\n",
      "[Telescope] delta Alt = +000.001 | delta Az= -000.014 [Dome] delta Az = -020.866\n",
      "[Telescope] delta Alt = +000.001 | delta Az= -000.015 [Dome] delta Az = -020.910\n",
      "[Telescope] delta Alt = +000.001 | delta Az= -000.013 [Dome] delta Az = -020.950\n",
      "[Telescope] delta Alt = +000.001 | delta Az= -000.014 [Dome] delta Az = -020.994\n",
      "[Telescope] delta Alt = +000.001 | delta Az= -000.015 [Dome] delta Az = -021.037\n",
      "[Telescope] delta Alt = +000.001 | delta Az= -000.012 [Dome] delta Az = -021.078\n",
      "[Telescope] delta Alt = +000.001 | delta Az= -000.012 [Dome] delta Az = -021.121\n",
      "[Telescope] delta Alt = +000.001 | delta Az= -000.013 [Dome] delta Az = -021.164\n",
      "[Telescope] delta Alt = +000.001 | delta Az= -000.013 [Dome] delta Az = -021.207\n",
      "[Telescope] delta Alt = +000.001 | delta Az= -000.013 [Dome] delta Az = -021.251\n"
     ]
    },
    {
     "ename": "TimeoutError",
     "evalue": "",
     "output_type": "error",
     "traceback": [
      "\u001b[0;31m\u001b[0m",
      "\u001b[0;31mTimeoutError\u001b[0mTraceback (most recent call last)",
      "\u001b[0;32m<ipython-input-40-be7313b0deb9>\u001b[0m in \u001b[0;36masync-def-wrapper\u001b[0;34m()\u001b[0m\n",
      "\u001b[0;32m~/repos/ts_standardscripts/python/lsst/ts/standardscripts/auxtel/attcs.py\u001b[0m in \u001b[0;36mslew_icrs\u001b[0;34m(self, ra, dec, rot_sky, rot_pa, target_name, slew_timeout)\u001b[0m\n\u001b[1;32m    217\u001b[0m                         \u001b[0mrot_frame\u001b[0m\u001b[0;34m=\u001b[0m\u001b[0mATPtg\u001b[0m\u001b[0;34m.\u001b[0m\u001b[0mRotFrame\u001b[0m\u001b[0;34m.\u001b[0m\u001b[0mTARGET\u001b[0m\u001b[0;34m,\u001b[0m\u001b[0;34m\u001b[0m\u001b[0;34m\u001b[0m\u001b[0m\n\u001b[1;32m    218\u001b[0m                         \u001b[0mrot_mode\u001b[0m\u001b[0;34m=\u001b[0m\u001b[0mATPtg\u001b[0m\u001b[0;34m.\u001b[0m\u001b[0mRotMode\u001b[0m\u001b[0;34m.\u001b[0m\u001b[0mFIELD\u001b[0m\u001b[0;34m,\u001b[0m\u001b[0;34m\u001b[0m\u001b[0;34m\u001b[0m\u001b[0m\n\u001b[0;32m--> 219\u001b[0;31m                         slew_timeout=slew_timeout)\n\u001b[0m\u001b[1;32m    220\u001b[0m \u001b[0;34m\u001b[0m\u001b[0m\n\u001b[1;32m    221\u001b[0m     async def slew(self, ra, dec, rotPA=0., target_name=\"slew_icrs\",\n",
      "\u001b[0;32m~/repos/ts_standardscripts/python/lsst/ts/standardscripts/auxtel/attcs.py\u001b[0m in \u001b[0;36mslew\u001b[0;34m(self, ra, dec, rotPA, target_name, target_instance, frame, epoch, equinox, parallax, pmRA, pmDec, rv, dRA, dDec, rot_frame, rot_mode, slew_timeout)\u001b[0m\n\u001b[1;32m    262\u001b[0m \u001b[0;34m\u001b[0m\u001b[0m\n\u001b[1;32m    263\u001b[0m         await self._slew_to(self.atptg.cmd_raDecTarget,\n\u001b[0;32m--> 264\u001b[0;31m                             slew_timeout=slew_timeout)\n\u001b[0m\u001b[1;32m    265\u001b[0m \u001b[0;34m\u001b[0m\u001b[0m\n\u001b[1;32m    266\u001b[0m     \u001b[0;32masync\u001b[0m \u001b[0;32mdef\u001b[0m \u001b[0mslew_to_planet\u001b[0m\u001b[0;34m(\u001b[0m\u001b[0mself\u001b[0m\u001b[0;34m,\u001b[0m \u001b[0mplanet\u001b[0m\u001b[0;34m,\u001b[0m \u001b[0mrot_pa\u001b[0m\u001b[0;34m=\u001b[0m\u001b[0;36m0.\u001b[0m\u001b[0;34m,\u001b[0m \u001b[0mslew_timeout\u001b[0m\u001b[0;34m=\u001b[0m\u001b[0;36m1200.\u001b[0m\u001b[0;34m)\u001b[0m\u001b[0;34m:\u001b[0m\u001b[0;34m\u001b[0m\u001b[0;34m\u001b[0m\u001b[0m\n",
      "\u001b[0;32m~/repos/ts_standardscripts/python/lsst/ts/standardscripts/auxtel/attcs.py\u001b[0m in \u001b[0;36m_slew_to\u001b[0;34m(self, slew_cmd, slew_timeout)\u001b[0m\n\u001b[1;32m    698\u001b[0m         \u001b[0;32mfor\u001b[0m \u001b[0mres\u001b[0m \u001b[0;32min\u001b[0m \u001b[0masyncio\u001b[0m\u001b[0;34m.\u001b[0m\u001b[0mas_completed\u001b[0m\u001b[0;34m(\u001b[0m\u001b[0mcoro_list\u001b[0m\u001b[0;34m)\u001b[0m\u001b[0;34m:\u001b[0m\u001b[0;34m\u001b[0m\u001b[0;34m\u001b[0m\u001b[0m\n\u001b[1;32m    699\u001b[0m             \u001b[0;32mtry\u001b[0m\u001b[0;34m:\u001b[0m\u001b[0;34m\u001b[0m\u001b[0;34m\u001b[0m\u001b[0m\n\u001b[0;32m--> 700\u001b[0;31m                 \u001b[0mret_val\u001b[0m \u001b[0;34m=\u001b[0m \u001b[0;32mawait\u001b[0m \u001b[0mres\u001b[0m\u001b[0;34m\u001b[0m\u001b[0;34m\u001b[0m\u001b[0m\n\u001b[0m\u001b[1;32m    701\u001b[0m                 \u001b[0mself\u001b[0m\u001b[0;34m.\u001b[0m\u001b[0mlog\u001b[0m\u001b[0;34m.\u001b[0m\u001b[0mdebug\u001b[0m\u001b[0;34m(\u001b[0m\u001b[0mret_val\u001b[0m\u001b[0;34m)\u001b[0m\u001b[0;34m\u001b[0m\u001b[0;34m\u001b[0m\u001b[0m\n\u001b[1;32m    702\u001b[0m             \u001b[0;32mexcept\u001b[0m \u001b[0mRuntimeError\u001b[0m \u001b[0;32mas\u001b[0m \u001b[0mrte\u001b[0m\u001b[0;34m:\u001b[0m\u001b[0;34m\u001b[0m\u001b[0;34m\u001b[0m\u001b[0m\n",
      "\u001b[0;32m/opt/lsst/software/stack/python/miniconda3-4.5.12/envs/lsst-scipipe-4d7b902/lib/python3.7/asyncio/tasks.py\u001b[0m in \u001b[0;36m_wait_for_one\u001b[0;34m()\u001b[0m\n\u001b[1;32m    531\u001b[0m             \u001b[0;31m# Dummy value from _on_timeout().\u001b[0m\u001b[0;34m\u001b[0m\u001b[0;34m\u001b[0m\u001b[0;34m\u001b[0m\u001b[0m\n\u001b[1;32m    532\u001b[0m             \u001b[0;32mraise\u001b[0m \u001b[0mfutures\u001b[0m\u001b[0;34m.\u001b[0m\u001b[0mTimeoutError\u001b[0m\u001b[0;34m\u001b[0m\u001b[0;34m\u001b[0m\u001b[0m\n\u001b[0;32m--> 533\u001b[0;31m         \u001b[0;32mreturn\u001b[0m \u001b[0mf\u001b[0m\u001b[0;34m.\u001b[0m\u001b[0mresult\u001b[0m\u001b[0;34m(\u001b[0m\u001b[0;34m)\u001b[0m  \u001b[0;31m# May raise f.exception().\u001b[0m\u001b[0;34m\u001b[0m\u001b[0;34m\u001b[0m\u001b[0m\n\u001b[0m\u001b[1;32m    534\u001b[0m \u001b[0;34m\u001b[0m\u001b[0m\n\u001b[1;32m    535\u001b[0m     \u001b[0;32mfor\u001b[0m \u001b[0mf\u001b[0m \u001b[0;32min\u001b[0m \u001b[0mtodo\u001b[0m\u001b[0;34m:\u001b[0m\u001b[0;34m\u001b[0m\u001b[0;34m\u001b[0m\u001b[0m\n",
      "\u001b[0;32m~/repos/ts_standardscripts/python/lsst/ts/standardscripts/auxtel/attcs.py\u001b[0m in \u001b[0;36mwait_for_inposition\u001b[0;34m(self, timeout)\u001b[0m\n\u001b[1;32m    780\u001b[0m             \u001b[0mwait_tasks\u001b[0m\u001b[0;34m.\u001b[0m\u001b[0mappend\u001b[0m\u001b[0;34m(\u001b[0m\u001b[0mself\u001b[0m\u001b[0;34m.\u001b[0m\u001b[0mwait_for_atdome_inposition\u001b[0m\u001b[0;34m(\u001b[0m\u001b[0mtimeout\u001b[0m\u001b[0;34m)\u001b[0m\u001b[0;34m)\u001b[0m\u001b[0;34m\u001b[0m\u001b[0;34m\u001b[0m\u001b[0m\n\u001b[1;32m    781\u001b[0m \u001b[0;34m\u001b[0m\u001b[0m\n\u001b[0;32m--> 782\u001b[0;31m         \u001b[0mstatus\u001b[0m \u001b[0;34m=\u001b[0m \u001b[0;32mawait\u001b[0m \u001b[0masyncio\u001b[0m\u001b[0;34m.\u001b[0m\u001b[0mgather\u001b[0m\u001b[0;34m(\u001b[0m\u001b[0;34m*\u001b[0m\u001b[0mwait_tasks\u001b[0m\u001b[0;34m)\u001b[0m\u001b[0;34m\u001b[0m\u001b[0;34m\u001b[0m\u001b[0m\n\u001b[0m\u001b[1;32m    783\u001b[0m \u001b[0;34m\u001b[0m\u001b[0m\n\u001b[1;32m    784\u001b[0m         \u001b[0;32mreturn\u001b[0m \u001b[0;34mf\"{status!r}\"\u001b[0m\u001b[0;34m\u001b[0m\u001b[0;34m\u001b[0m\u001b[0m\n",
      "\u001b[0;32m~/repos/ts_standardscripts/python/lsst/ts/standardscripts/auxtel/attcs.py\u001b[0m in \u001b[0;36mwait_for_atmcs_inposition\u001b[0;34m(self, timeout)\u001b[0m\n\u001b[1;32m    806\u001b[0m \u001b[0;34m\u001b[0m\u001b[0m\n\u001b[1;32m    807\u001b[0m             in_position = await self.atmcs.evt_allAxesInPosition.next(flush=False,\n\u001b[0;32m--> 808\u001b[0;31m                                                                       timeout=timeout)\n\u001b[0m\u001b[1;32m    809\u001b[0m             \u001b[0mself\u001b[0m\u001b[0;34m.\u001b[0m\u001b[0mlog\u001b[0m\u001b[0;34m.\u001b[0m\u001b[0minfo\u001b[0m\u001b[0;34m(\u001b[0m\u001b[0;34mf\"Got {in_position.inPosition}\"\u001b[0m\u001b[0;34m)\u001b[0m\u001b[0;34m\u001b[0m\u001b[0;34m\u001b[0m\u001b[0m\n\u001b[1;32m    810\u001b[0m             \u001b[0;32mif\u001b[0m \u001b[0min_position\u001b[0m\u001b[0;34m.\u001b[0m\u001b[0minPosition\u001b[0m\u001b[0;34m:\u001b[0m\u001b[0;34m\u001b[0m\u001b[0;34m\u001b[0m\u001b[0m\n",
      "\u001b[0;32m~/repos/ts_salobj/python/lsst/ts/salobj/topics/read_topic.py\u001b[0m in \u001b[0;36mnext\u001b[0;34m(self, flush, timeout)\u001b[0m\n\u001b[1;32m    389\u001b[0m         \u001b[0;32mif\u001b[0m \u001b[0mflush\u001b[0m\u001b[0;34m:\u001b[0m\u001b[0;34m\u001b[0m\u001b[0;34m\u001b[0m\u001b[0m\n\u001b[1;32m    390\u001b[0m             \u001b[0mself\u001b[0m\u001b[0;34m.\u001b[0m\u001b[0mflush\u001b[0m\u001b[0;34m(\u001b[0m\u001b[0;34m)\u001b[0m\u001b[0;34m\u001b[0m\u001b[0;34m\u001b[0m\u001b[0m\n\u001b[0;32m--> 391\u001b[0;31m         \u001b[0;32mreturn\u001b[0m \u001b[0;32mawait\u001b[0m \u001b[0mself\u001b[0m\u001b[0;34m.\u001b[0m\u001b[0m_next\u001b[0m\u001b[0;34m(\u001b[0m\u001b[0mtimeout\u001b[0m\u001b[0;34m=\u001b[0m\u001b[0mtimeout\u001b[0m\u001b[0;34m)\u001b[0m\u001b[0;34m\u001b[0m\u001b[0;34m\u001b[0m\u001b[0m\n\u001b[0m\u001b[1;32m    392\u001b[0m \u001b[0;34m\u001b[0m\u001b[0m\n\u001b[1;32m    393\u001b[0m     \u001b[0;32masync\u001b[0m \u001b[0;32mdef\u001b[0m \u001b[0m_next\u001b[0m\u001b[0;34m(\u001b[0m\u001b[0mself\u001b[0m\u001b[0;34m,\u001b[0m \u001b[0;34m*\u001b[0m\u001b[0;34m,\u001b[0m \u001b[0mtimeout\u001b[0m\u001b[0;34m=\u001b[0m\u001b[0;32mNone\u001b[0m\u001b[0;34m)\u001b[0m\u001b[0;34m:\u001b[0m\u001b[0;34m\u001b[0m\u001b[0;34m\u001b[0m\u001b[0m\n",
      "\u001b[0;32m~/repos/ts_salobj/python/lsst/ts/salobj/topics/read_topic.py\u001b[0m in \u001b[0;36m_next\u001b[0;34m(self, timeout)\u001b[0m\n\u001b[1;32m    402\u001b[0m         \u001b[0;32mif\u001b[0m \u001b[0mself\u001b[0m\u001b[0;34m.\u001b[0m\u001b[0m_next_task\u001b[0m\u001b[0;34m.\u001b[0m\u001b[0mdone\u001b[0m\u001b[0;34m(\u001b[0m\u001b[0;34m)\u001b[0m\u001b[0;34m:\u001b[0m\u001b[0;34m\u001b[0m\u001b[0;34m\u001b[0m\u001b[0m\n\u001b[1;32m    403\u001b[0m             \u001b[0mself\u001b[0m\u001b[0;34m.\u001b[0m\u001b[0m_next_task\u001b[0m \u001b[0;34m=\u001b[0m \u001b[0masyncio\u001b[0m\u001b[0;34m.\u001b[0m\u001b[0mFuture\u001b[0m\u001b[0;34m(\u001b[0m\u001b[0;34m)\u001b[0m\u001b[0;34m\u001b[0m\u001b[0;34m\u001b[0m\u001b[0m\n\u001b[0;32m--> 404\u001b[0;31m         \u001b[0;32mawait\u001b[0m \u001b[0masyncio\u001b[0m\u001b[0;34m.\u001b[0m\u001b[0mwait_for\u001b[0m\u001b[0;34m(\u001b[0m\u001b[0mself\u001b[0m\u001b[0;34m.\u001b[0m\u001b[0m_next_task\u001b[0m\u001b[0;34m,\u001b[0m \u001b[0mtimeout\u001b[0m\u001b[0;34m=\u001b[0m\u001b[0mtimeout\u001b[0m\u001b[0;34m)\u001b[0m\u001b[0;34m\u001b[0m\u001b[0;34m\u001b[0m\u001b[0m\n\u001b[0m\u001b[1;32m    405\u001b[0m         \u001b[0;32mreturn\u001b[0m \u001b[0mself\u001b[0m\u001b[0;34m.\u001b[0m\u001b[0m_data_queue\u001b[0m\u001b[0;34m.\u001b[0m\u001b[0mpopleft\u001b[0m\u001b[0;34m(\u001b[0m\u001b[0;34m)\u001b[0m\u001b[0;34m\u001b[0m\u001b[0;34m\u001b[0m\u001b[0m\n\u001b[1;32m    406\u001b[0m \u001b[0;34m\u001b[0m\u001b[0m\n",
      "\u001b[0;32m/opt/lsst/software/stack/python/miniconda3-4.5.12/envs/lsst-scipipe-4d7b902/lib/python3.7/asyncio/tasks.py\u001b[0m in \u001b[0;36mwait_for\u001b[0;34m(fut, timeout, loop)\u001b[0m\n\u001b[1;32m    421\u001b[0m             \u001b[0;31m# See https://bugs.python.org/issue32751\u001b[0m\u001b[0;34m\u001b[0m\u001b[0;34m\u001b[0m\u001b[0;34m\u001b[0m\u001b[0m\n\u001b[1;32m    422\u001b[0m             \u001b[0;32mawait\u001b[0m \u001b[0m_cancel_and_wait\u001b[0m\u001b[0;34m(\u001b[0m\u001b[0mfut\u001b[0m\u001b[0;34m,\u001b[0m \u001b[0mloop\u001b[0m\u001b[0;34m=\u001b[0m\u001b[0mloop\u001b[0m\u001b[0;34m)\u001b[0m\u001b[0;34m\u001b[0m\u001b[0;34m\u001b[0m\u001b[0m\n\u001b[0;32m--> 423\u001b[0;31m             \u001b[0;32mraise\u001b[0m \u001b[0mfutures\u001b[0m\u001b[0;34m.\u001b[0m\u001b[0mTimeoutError\u001b[0m\u001b[0;34m(\u001b[0m\u001b[0;34m)\u001b[0m\u001b[0;34m\u001b[0m\u001b[0;34m\u001b[0m\u001b[0m\n\u001b[0m\u001b[1;32m    424\u001b[0m     \u001b[0;32mfinally\u001b[0m\u001b[0;34m:\u001b[0m\u001b[0;34m\u001b[0m\u001b[0;34m\u001b[0m\u001b[0m\n\u001b[1;32m    425\u001b[0m         \u001b[0mtimeout_handle\u001b[0m\u001b[0;34m.\u001b[0m\u001b[0mcancel\u001b[0m\u001b[0;34m(\u001b[0m\u001b[0;34m)\u001b[0m\u001b[0;34m\u001b[0m\u001b[0;34m\u001b[0m\u001b[0m\n",
      "\u001b[0;31mTimeoutError\u001b[0m: "
     ]
    }
   ],
   "source": [
    "attcs.check.atdome = False\n",
    "await attcs.slew_icrs(ra=\"03 59 25.3142500799\", \n",
    "                      dec=\"-20 19 58.408819288\", \n",
    "                      rot_pa=-180., \n",
    "                      target_name=\"HD 25189\", \n",
    "                      slew_timeout=120.)"
   ]
  },
  {
   "cell_type": "code",
   "execution_count": 41,
   "metadata": {},
   "outputs": [
    {
     "name": "stdout",
     "output_type": "stream",
     "text": [
      "RemoteEvent(ATMCS, 0, target) falling behind; read 100 messages\n",
      "RemoteEvent(ATDomeTrajectory, 0, logMessage) falling behind; read 100 messages\n",
      "RemoteTelemetry(ATDome, 0, position) falling behind; read 100 messages\n",
      "RemoteTelemetry(ATPtg, 0, currentTargetStatus) falling behind; read 100 messages\n",
      "RemoteEvent(ATPneumatics, 0, m1SetPressure) falling behind; read 29 messages\n",
      "RemoteEvent(ATAOS, 0, m1CorrectionCompleted) falling behind; read 29 messages\n",
      "RemoteEvent(ATHexapod, 0, heartbeat) falling behind; read 42 messages\n",
      "RemoteTelemetry(ATMCS, 0, trajectory) falling behind; read 42 messages\n",
      "RemoteEvent(ATDomeTrajectory, 0, heartbeat) falling behind; read 42 messages\n",
      "RemoteTelemetry(ATMCS, 0, torqueDemand) falling behind; read 42 messages\n",
      "RemoteTelemetry(ATPneumatics, 0, mainAirSourcePressure) falling behind; read 42 messages\n",
      "RemoteEvent(ATAOS, 0, m1CorrectionStarted) falling behind; read 29 messages\n",
      "RemoteTelemetry(ATHexapod, 0, positionStatus) falling behind; read 42 messages\n",
      "RemoteTelemetry(ATPtg, 0, timeAndDate) falling behind; read 100 messages\n",
      "RemoteTelemetry(ATMCS, 0, nasymth_m3_mountMotorEncoders) falling behind; read 42 messages\n",
      "RemoteTelemetry(ATPneumatics, 0, m2AirPressure) falling behind; read 42 messages\n",
      "RemoteEvent(ATDome, 0, shutterInPosition) falling behind; read 97 messages\n",
      "RemoteEvent(ATAOS, 0, heartbeat) falling behind; read 43 messages\n",
      "RemoteTelemetry(ATMCS, 0, mount_Nasmyth_Encoders) falling behind; read 42 messages\n",
      "RemoteTelemetry(ATPneumatics, 0, m1AirPressure) falling behind; read 43 messages\n",
      "RemoteEvent(ATDome, 0, mainDoorState) falling behind; read 98 messages\n",
      "RemoteEvent(ATAOS, 0, detailedState) falling behind; read 59 messages\n",
      "RemoteTelemetry(ATPtg, 0, mountStatus) falling behind; read 100 messages\n",
      "RemoteTelemetry(ATMCS, 0, mount_AzEl_Encoders) falling behind; read 43 messages\n",
      "RemoteTelemetry(ATPneumatics, 0, loadCell) falling behind; read 43 messages\n",
      "RemoteEvent(ATDome, 0, heartbeat) falling behind; read 43 messages\n",
      "RemoteTelemetry(ATPtg, 0, guidingAndOffsets) falling behind; read 100 messages\n",
      "RemoteTelemetry(ATMCS, 0, measuredTorque) falling behind; read 43 messages\n",
      "RemoteEvent(ATPneumatics, 0, heartbeat) falling behind; read 43 messages\n",
      "RemoteTelemetry(ATMCS, 0, measuredMotorVelocity) falling behind; read 43 messages\n",
      "RemoteTelemetry(ATMCS, 0, azEl_mountMotorEncoders) falling behind; read 43 messages\n",
      "RemoteEvent(ATPtg, 0, mountDataWarning) falling behind; read 38 messages\n",
      "RemoteEvent(ATMCS, 0, heartbeat) falling behind; read 44 messages\n"
     ]
    },
    {
     "data": {
      "text/plain": [
       "<lsst.ts.salobj.ddsutil.ATPtg_ackcmd_2d655b72 at 0x7f2ae108e2b0>"
      ]
     },
     "execution_count": 41,
     "metadata": {},
     "output_type": "execute_result"
    }
   ],
   "source": [
    "await attcs.atptg.cmd_offsetRADec.set_start(off1=15., off2=20., num=0, type=0)"
   ]
  },
  {
   "cell_type": "code",
   "execution_count": 42,
   "metadata": {},
   "outputs": [
    {
     "name": "stdout",
     "output_type": "stream",
     "text": [
      "RemoteTelemetry(ATHexapod, 0, positionStatus) falling behind; read 17 messages\n",
      "RemoteEvent(ATAOS, 0, heartbeat) falling behind; read 17 messages\n",
      "RemoteEvent(ATDomeTrajectory, 0, heartbeat) falling behind; read 16 messages\n",
      "RemoteEvent(ATAOS, 0, m1CorrectionStarted) falling behind; read 12 messages\n",
      "RemoteEvent(ATHexapod, 0, heartbeat) falling behind; read 17 messages\n",
      "RemoteTelemetry(ATPneumatics, 0, m1AirPressure) falling behind; read 17 messages\n",
      "RemoteEvent(ATDome, 0, heartbeat) falling behind; read 17 messages\n",
      "RemoteTelemetry(ATPneumatics, 0, loadCell) falling behind; read 17 messages\n",
      "[Telescope] delta Alt = -000.008 | delta Az= +000.368 [Dome] delta Az = -022.191\n"
     ]
    },
    {
     "data": {
      "text/plain": [
       "<lsst.ts.salobj.ddsutil.ATPtg_ackcmd_2d655b72 at 0x7f2ad012dc50>"
      ]
     },
     "execution_count": 42,
     "metadata": {},
     "output_type": "execute_result"
    }
   ],
   "source": [
    "await attcs.atptg.cmd_pointAddData.start()"
   ]
  },
  {
   "cell_type": "code",
   "execution_count": 43,
   "metadata": {},
   "outputs": [
    {
     "name": "stdout",
     "output_type": "stream",
     "text": [
      "RemoteTelemetry(ATDome, 0, position) falling behind; read 100 messages\n",
      "RemoteEvent(ATMCS, 0, target) falling behind; read 100 messages\n",
      "RemoteEvent(ATDomeTrajectory, 0, logMessage) falling behind; read 100 messages\n",
      "RemoteEvent(ATAOS, 0, heartbeat) falling behind; read 100 messages\n",
      "RemoteEvent(ATDomeTrajectory, 0, heartbeat) falling behind; read 100 messages\n",
      "RemoteTelemetry(ATPneumatics, 0, mainAirSourcePressure) falling behind; read 100 messages\n",
      "RemoteEvent(ATAOS, 0, detailedState) falling behind; read 100 messages\n",
      "RemoteTelemetry(ATPneumatics, 0, m2AirPressure) falling behind; read 100 messages\n",
      "RemoteTelemetry(ATPtg, 0, skyEnvironment) falling behind; read 81 messages\n",
      "RemoteTelemetry(ATMCS, 0, mount_Nasmyth_Encoders) falling behind; read 100 messages\n",
      "RemoteEvent(ATPneumatics, 0, heartbeat) falling behind; read 100 messages\n",
      "RemoteTelemetry(ATMCS, 0, mount_AzEl_Encoders) falling behind; read 100 messages\n",
      "RemoteTelemetry(ATPtg, 0, currentTimesToLimits) falling behind; read 81 messages\n",
      "RemoteTelemetry(ATMCS, 0, measuredTorque) falling behind; read 100 messages\n",
      "RemoteTelemetry(ATPtg, 0, currentTargetStatus) falling behind; read 100 messages\n",
      "RemoteTelemetry(ATMCS, 0, measuredMotorVelocity) falling behind; read 100 messages\n",
      "RemoteTelemetry(ATMCS, 0, azEl_mountMotorEncoders) falling behind; read 100 messages\n",
      "atmcs not enabled: <State.FAULT: 3>\n",
      "atptg not enabled: <State.FAULT: 3>\n",
      "Gathering settings.\n",
      "Settings versions: {'ataos': 'measured_20190908.yaml', 'atmcs': '', 'atptg': '', 'atpneumatics': '', 'athexapod': 'current', 'atdome': 'test.yaml', 'atdometrajectory': ''}\n",
      "Enabling all components\n",
      "Enabling  atmcs\n",
      "Enabling  atptg\n",
      "Enabling  ataos\n",
      "Enabling  atpneumatics\n",
      "Enabling  athexapod\n",
      "Enabling  atdometrajectory\n",
      "[atmcs]::[<State.FAULT: 3>, <State.STANDBY: 5>, <State.DISABLED: 1>, <State.ENABLED: 2>]\n",
      "[atptg]::[<State.FAULT: 3>, <State.STANDBY: 5>, <State.DISABLED: 1>, <State.ENABLED: 2>]\n",
      "[ataos]::[<State.ENABLED: 2>]\n",
      "[atpneumatics]::[<State.ENABLED: 2>]\n",
      "[athexapod]::[<State.ENABLED: 2>]\n",
      "[atdome]::<State.ENABLED: 2>\n",
      "[atdometrajectory]::[<State.ENABLED: 2>]\n",
      "All components enabled.\n"
     ]
    }
   ],
   "source": [
    "await asyncio.sleep(5)\n",
    "await attcs.enable(settings={\n",
    "    'ataos': \"measured_20190908.yaml\",\n",
    "    'atmcs': \"\",\n",
    "    'atptg': \"\",\n",
    "    'atpneumatics': \"\",\n",
    "    'athexapod': \"current\",\n",
    "    'atdome': \"test.yaml\",\n",
    "    'atdometrajectory': \"\"})"
   ]
  },
  {
   "cell_type": "code",
   "execution_count": 44,
   "metadata": {},
   "outputs": [
    {
     "name": "stdout",
     "output_type": "stream",
     "text": [
      "RemoteEvent(ATPneumatics, 0, m1SetPressure) falling behind; read 17 messages\n",
      "RemoteTelemetry(ATPtg, 0, timeAndDate) falling behind; read 100 messages\n",
      "RemoteEvent(ATHexapod, 0, heartbeat) falling behind; read 24 messages\n",
      "RemoteEvent(ATAOS, 0, m1CorrectionCompleted) falling behind; read 17 messages\n",
      "RemoteTelemetry(ATDome, 0, position) falling behind; read 100 messages\n",
      "RemoteEvent(ATMCS, 0, heartbeat) falling behind; read 24 messages\n",
      "RemoteEvent(ATDomeTrajectory, 0, heartbeat) falling behind; read 24 messages\n",
      "Flushing events\n",
      "Scheduling check coroutines\n",
      "Sending command\n",
      "RemoteTelemetry(ATPneumatics, 0, mainAirSourcePressure) falling behind; read 24 messages\n",
      "RemoteEvent(ATAOS, 0, m1CorrectionStarted) falling behind; read 16 messages\n",
      "RemoteTelemetry(ATHexapod, 0, positionStatus) falling behind; read 24 messages\n",
      "RemoteTelemetry(ATMCS, 0, trajectory) falling behind; read 24 messages\n",
      "RemoteTelemetry(ATPneumatics, 0, m2AirPressure) falling behind; read 24 messages\n",
      "RemoteEvent(ATAOS, 0, heartbeat) falling behind; read 24 messages\n",
      "RemoteEvent(ATDome, 0, shutterInPosition) falling behind; read 50 messages\n",
      "RemoteTelemetry(ATMCS, 0, torqueDemand) falling behind; read 24 messages\n",
      "RemoteTelemetry(ATPneumatics, 0, m1AirPressure) falling behind; read 25 messages\n",
      "RemoteEvent(ATAOS, 0, detailedState) falling behind; read 33 messages\n",
      "RemoteEvent(ATDome, 0, mainDoorState) falling behind; read 51 messages\n",
      "RemoteTelemetry(ATMCS, 0, nasymth_m3_mountMotorEncoders) falling behind; read 24 messages\n",
      "RemoteTelemetry(ATPtg, 0, mountStatus) falling behind; read 100 messages\n",
      "RemoteTelemetry(ATPneumatics, 0, loadCell) falling behind; read 25 messages\n",
      "RemoteEvent(ATDome, 0, heartbeat) falling behind; read 24 messages\n",
      "RemoteTelemetry(ATMCS, 0, mount_Nasmyth_Encoders) falling behind; read 25 messages\n",
      "RemoteTelemetry(ATPtg, 0, guidingAndOffsets) falling behind; read 100 messages\n",
      "RemoteEvent(ATPneumatics, 0, heartbeat) falling behind; read 25 messages\n",
      "RemoteTelemetry(ATMCS, 0, mount_AzEl_Encoders) falling behind; read 25 messages\n",
      "RemoteTelemetry(ATMCS, 0, measuredTorque) falling behind; read 25 messages\n",
      "RemoteTelemetry(ATPtg, 0, currentTargetStatus) falling behind; read 100 messages\n",
      "RemoteTelemetry(ATMCS, 0, measuredMotorVelocity) falling behind; read 25 messages\n",
      "RemoteTelemetry(ATMCS, 0, azEl_mountMotorEncoders) falling behind; read 25 messages\n",
      "RemoteEvent(ATPtg, 0, mountDataWarning) falling behind; read 19 messages\n",
      "process as completed...\n",
      "[Telescope] delta Alt = +000.049 | delta Az= -006.768 [Dome] delta Az = -032.337\n",
      "[Telescope] delta Alt = -000.001 | delta Az= -006.339 [Dome] delta Az = -031.953\n",
      "[Telescope] delta Alt = -000.000 | delta Az= -005.034 [Dome] delta Az = -030.776\n",
      "[Telescope] delta Alt = +000.000 | delta Az= -001.322 [Dome] delta Az = -029.570\n",
      "[Telescope] delta Alt = +000.001 | delta Az= -000.017 [Dome] delta Az = -027.135\n",
      "[Telescope] delta Alt = +000.000 | delta Az= -000.015 [Dome] delta Az = -023.549\n",
      "[Telescope] delta Alt = +000.000 | delta Az= -000.015 [Dome] delta Az = -019.016\n",
      "[Telescope] delta Alt = +000.000 | delta Az= -000.013 [Dome] delta Az = -013.579\n",
      "[Telescope] delta Alt = +000.000 | delta Az= -000.036 [Dome] delta Az = -007.904\n",
      "[Telescope] delta Alt = +000.000 | delta Az= -000.016 [Dome] delta Az = -003.829\n",
      "[Telescope] delta Alt = +000.000 | delta Az= -000.015 [Dome] delta Az = +000.657\n",
      "[Telescope] delta Alt = +000.000 | delta Az= -000.015 [Dome] delta Az = +002.561\n",
      "[Telescope] delta Alt = +000.000 | delta Az= -000.015 [Dome] delta Az = +002.546\n",
      "[Telescope] delta Alt = +000.000 | delta Az= -000.014 [Dome] delta Az = +002.502\n",
      "[Telescope] delta Alt = +000.000 | delta Az= -000.016 [Dome] delta Az = +002.455\n",
      "[Telescope] delta Alt = +000.000 | delta Az= -000.014 [Dome] delta Az = +002.411\n"
     ]
    },
    {
     "ename": "TimeoutError",
     "evalue": "",
     "output_type": "error",
     "traceback": [
      "\u001b[0;31m\u001b[0m",
      "\u001b[0;31mTimeoutError\u001b[0mTraceback (most recent call last)",
      "\u001b[0;32m<ipython-input-44-77d839a317af>\u001b[0m in \u001b[0;36masync-def-wrapper\u001b[0;34m()\u001b[0m\n",
      "\u001b[0;32m~/repos/ts_standardscripts/python/lsst/ts/standardscripts/auxtel/attcs.py\u001b[0m in \u001b[0;36mslew_icrs\u001b[0;34m(self, ra, dec, rot_sky, rot_pa, target_name, slew_timeout)\u001b[0m\n\u001b[1;32m    217\u001b[0m                         \u001b[0mrot_frame\u001b[0m\u001b[0;34m=\u001b[0m\u001b[0mATPtg\u001b[0m\u001b[0;34m.\u001b[0m\u001b[0mRotFrame\u001b[0m\u001b[0;34m.\u001b[0m\u001b[0mTARGET\u001b[0m\u001b[0;34m,\u001b[0m\u001b[0;34m\u001b[0m\u001b[0;34m\u001b[0m\u001b[0m\n\u001b[1;32m    218\u001b[0m                         \u001b[0mrot_mode\u001b[0m\u001b[0;34m=\u001b[0m\u001b[0mATPtg\u001b[0m\u001b[0;34m.\u001b[0m\u001b[0mRotMode\u001b[0m\u001b[0;34m.\u001b[0m\u001b[0mFIELD\u001b[0m\u001b[0;34m,\u001b[0m\u001b[0;34m\u001b[0m\u001b[0;34m\u001b[0m\u001b[0m\n\u001b[0;32m--> 219\u001b[0;31m                         slew_timeout=slew_timeout)\n\u001b[0m\u001b[1;32m    220\u001b[0m \u001b[0;34m\u001b[0m\u001b[0m\n\u001b[1;32m    221\u001b[0m     async def slew(self, ra, dec, rotPA=0., target_name=\"slew_icrs\",\n",
      "\u001b[0;32m~/repos/ts_standardscripts/python/lsst/ts/standardscripts/auxtel/attcs.py\u001b[0m in \u001b[0;36mslew\u001b[0;34m(self, ra, dec, rotPA, target_name, target_instance, frame, epoch, equinox, parallax, pmRA, pmDec, rv, dRA, dDec, rot_frame, rot_mode, slew_timeout)\u001b[0m\n\u001b[1;32m    262\u001b[0m \u001b[0;34m\u001b[0m\u001b[0m\n\u001b[1;32m    263\u001b[0m         await self._slew_to(self.atptg.cmd_raDecTarget,\n\u001b[0;32m--> 264\u001b[0;31m                             slew_timeout=slew_timeout)\n\u001b[0m\u001b[1;32m    265\u001b[0m \u001b[0;34m\u001b[0m\u001b[0m\n\u001b[1;32m    266\u001b[0m     \u001b[0;32masync\u001b[0m \u001b[0;32mdef\u001b[0m \u001b[0mslew_to_planet\u001b[0m\u001b[0;34m(\u001b[0m\u001b[0mself\u001b[0m\u001b[0;34m,\u001b[0m \u001b[0mplanet\u001b[0m\u001b[0;34m,\u001b[0m \u001b[0mrot_pa\u001b[0m\u001b[0;34m=\u001b[0m\u001b[0;36m0.\u001b[0m\u001b[0;34m,\u001b[0m \u001b[0mslew_timeout\u001b[0m\u001b[0;34m=\u001b[0m\u001b[0;36m1200.\u001b[0m\u001b[0;34m)\u001b[0m\u001b[0;34m:\u001b[0m\u001b[0;34m\u001b[0m\u001b[0;34m\u001b[0m\u001b[0m\n",
      "\u001b[0;32m~/repos/ts_standardscripts/python/lsst/ts/standardscripts/auxtel/attcs.py\u001b[0m in \u001b[0;36m_slew_to\u001b[0;34m(self, slew_cmd, slew_timeout)\u001b[0m\n\u001b[1;32m    698\u001b[0m         \u001b[0;32mfor\u001b[0m \u001b[0mres\u001b[0m \u001b[0;32min\u001b[0m \u001b[0masyncio\u001b[0m\u001b[0;34m.\u001b[0m\u001b[0mas_completed\u001b[0m\u001b[0;34m(\u001b[0m\u001b[0mcoro_list\u001b[0m\u001b[0;34m)\u001b[0m\u001b[0;34m:\u001b[0m\u001b[0;34m\u001b[0m\u001b[0;34m\u001b[0m\u001b[0m\n\u001b[1;32m    699\u001b[0m             \u001b[0;32mtry\u001b[0m\u001b[0;34m:\u001b[0m\u001b[0;34m\u001b[0m\u001b[0;34m\u001b[0m\u001b[0m\n\u001b[0;32m--> 700\u001b[0;31m                 \u001b[0mret_val\u001b[0m \u001b[0;34m=\u001b[0m \u001b[0;32mawait\u001b[0m \u001b[0mres\u001b[0m\u001b[0;34m\u001b[0m\u001b[0;34m\u001b[0m\u001b[0m\n\u001b[0m\u001b[1;32m    701\u001b[0m                 \u001b[0mself\u001b[0m\u001b[0;34m.\u001b[0m\u001b[0mlog\u001b[0m\u001b[0;34m.\u001b[0m\u001b[0mdebug\u001b[0m\u001b[0;34m(\u001b[0m\u001b[0mret_val\u001b[0m\u001b[0;34m)\u001b[0m\u001b[0;34m\u001b[0m\u001b[0;34m\u001b[0m\u001b[0m\n\u001b[1;32m    702\u001b[0m             \u001b[0;32mexcept\u001b[0m \u001b[0mRuntimeError\u001b[0m \u001b[0;32mas\u001b[0m \u001b[0mrte\u001b[0m\u001b[0;34m:\u001b[0m\u001b[0;34m\u001b[0m\u001b[0;34m\u001b[0m\u001b[0m\n",
      "\u001b[0;32m/opt/lsst/software/stack/python/miniconda3-4.5.12/envs/lsst-scipipe-4d7b902/lib/python3.7/asyncio/tasks.py\u001b[0m in \u001b[0;36m_wait_for_one\u001b[0;34m()\u001b[0m\n\u001b[1;32m    531\u001b[0m             \u001b[0;31m# Dummy value from _on_timeout().\u001b[0m\u001b[0;34m\u001b[0m\u001b[0;34m\u001b[0m\u001b[0;34m\u001b[0m\u001b[0m\n\u001b[1;32m    532\u001b[0m             \u001b[0;32mraise\u001b[0m \u001b[0mfutures\u001b[0m\u001b[0;34m.\u001b[0m\u001b[0mTimeoutError\u001b[0m\u001b[0;34m\u001b[0m\u001b[0;34m\u001b[0m\u001b[0m\n\u001b[0;32m--> 533\u001b[0;31m         \u001b[0;32mreturn\u001b[0m \u001b[0mf\u001b[0m\u001b[0;34m.\u001b[0m\u001b[0mresult\u001b[0m\u001b[0;34m(\u001b[0m\u001b[0;34m)\u001b[0m  \u001b[0;31m# May raise f.exception().\u001b[0m\u001b[0;34m\u001b[0m\u001b[0;34m\u001b[0m\u001b[0m\n\u001b[0m\u001b[1;32m    534\u001b[0m \u001b[0;34m\u001b[0m\u001b[0m\n\u001b[1;32m    535\u001b[0m     \u001b[0;32mfor\u001b[0m \u001b[0mf\u001b[0m \u001b[0;32min\u001b[0m \u001b[0mtodo\u001b[0m\u001b[0;34m:\u001b[0m\u001b[0;34m\u001b[0m\u001b[0;34m\u001b[0m\u001b[0m\n",
      "\u001b[0;32m~/repos/ts_standardscripts/python/lsst/ts/standardscripts/auxtel/attcs.py\u001b[0m in \u001b[0;36mwait_for_inposition\u001b[0;34m(self, timeout)\u001b[0m\n\u001b[1;32m    780\u001b[0m             \u001b[0mwait_tasks\u001b[0m\u001b[0;34m.\u001b[0m\u001b[0mappend\u001b[0m\u001b[0;34m(\u001b[0m\u001b[0mself\u001b[0m\u001b[0;34m.\u001b[0m\u001b[0mwait_for_atdome_inposition\u001b[0m\u001b[0;34m(\u001b[0m\u001b[0mtimeout\u001b[0m\u001b[0;34m)\u001b[0m\u001b[0;34m)\u001b[0m\u001b[0;34m\u001b[0m\u001b[0;34m\u001b[0m\u001b[0m\n\u001b[1;32m    781\u001b[0m \u001b[0;34m\u001b[0m\u001b[0m\n\u001b[0;32m--> 782\u001b[0;31m         \u001b[0mstatus\u001b[0m \u001b[0;34m=\u001b[0m \u001b[0;32mawait\u001b[0m \u001b[0masyncio\u001b[0m\u001b[0;34m.\u001b[0m\u001b[0mgather\u001b[0m\u001b[0;34m(\u001b[0m\u001b[0;34m*\u001b[0m\u001b[0mwait_tasks\u001b[0m\u001b[0;34m)\u001b[0m\u001b[0;34m\u001b[0m\u001b[0;34m\u001b[0m\u001b[0m\n\u001b[0m\u001b[1;32m    783\u001b[0m \u001b[0;34m\u001b[0m\u001b[0m\n\u001b[1;32m    784\u001b[0m         \u001b[0;32mreturn\u001b[0m \u001b[0;34mf\"{status!r}\"\u001b[0m\u001b[0;34m\u001b[0m\u001b[0;34m\u001b[0m\u001b[0m\n",
      "\u001b[0;32m~/repos/ts_standardscripts/python/lsst/ts/standardscripts/auxtel/attcs.py\u001b[0m in \u001b[0;36mwait_for_atmcs_inposition\u001b[0;34m(self, timeout)\u001b[0m\n\u001b[1;32m    806\u001b[0m \u001b[0;34m\u001b[0m\u001b[0m\n\u001b[1;32m    807\u001b[0m             in_position = await self.atmcs.evt_allAxesInPosition.next(flush=False,\n\u001b[0;32m--> 808\u001b[0;31m                                                                       timeout=timeout)\n\u001b[0m\u001b[1;32m    809\u001b[0m             \u001b[0mself\u001b[0m\u001b[0;34m.\u001b[0m\u001b[0mlog\u001b[0m\u001b[0;34m.\u001b[0m\u001b[0minfo\u001b[0m\u001b[0;34m(\u001b[0m\u001b[0;34mf\"Got {in_position.inPosition}\"\u001b[0m\u001b[0;34m)\u001b[0m\u001b[0;34m\u001b[0m\u001b[0;34m\u001b[0m\u001b[0m\n\u001b[1;32m    810\u001b[0m             \u001b[0;32mif\u001b[0m \u001b[0min_position\u001b[0m\u001b[0;34m.\u001b[0m\u001b[0minPosition\u001b[0m\u001b[0;34m:\u001b[0m\u001b[0;34m\u001b[0m\u001b[0;34m\u001b[0m\u001b[0m\n",
      "\u001b[0;32m~/repos/ts_salobj/python/lsst/ts/salobj/topics/read_topic.py\u001b[0m in \u001b[0;36mnext\u001b[0;34m(self, flush, timeout)\u001b[0m\n\u001b[1;32m    389\u001b[0m         \u001b[0;32mif\u001b[0m \u001b[0mflush\u001b[0m\u001b[0;34m:\u001b[0m\u001b[0;34m\u001b[0m\u001b[0;34m\u001b[0m\u001b[0m\n\u001b[1;32m    390\u001b[0m             \u001b[0mself\u001b[0m\u001b[0;34m.\u001b[0m\u001b[0mflush\u001b[0m\u001b[0;34m(\u001b[0m\u001b[0;34m)\u001b[0m\u001b[0;34m\u001b[0m\u001b[0;34m\u001b[0m\u001b[0m\n\u001b[0;32m--> 391\u001b[0;31m         \u001b[0;32mreturn\u001b[0m \u001b[0;32mawait\u001b[0m \u001b[0mself\u001b[0m\u001b[0;34m.\u001b[0m\u001b[0m_next\u001b[0m\u001b[0;34m(\u001b[0m\u001b[0mtimeout\u001b[0m\u001b[0;34m=\u001b[0m\u001b[0mtimeout\u001b[0m\u001b[0;34m)\u001b[0m\u001b[0;34m\u001b[0m\u001b[0;34m\u001b[0m\u001b[0m\n\u001b[0m\u001b[1;32m    392\u001b[0m \u001b[0;34m\u001b[0m\u001b[0m\n\u001b[1;32m    393\u001b[0m     \u001b[0;32masync\u001b[0m \u001b[0;32mdef\u001b[0m \u001b[0m_next\u001b[0m\u001b[0;34m(\u001b[0m\u001b[0mself\u001b[0m\u001b[0;34m,\u001b[0m \u001b[0;34m*\u001b[0m\u001b[0;34m,\u001b[0m \u001b[0mtimeout\u001b[0m\u001b[0;34m=\u001b[0m\u001b[0;32mNone\u001b[0m\u001b[0;34m)\u001b[0m\u001b[0;34m:\u001b[0m\u001b[0;34m\u001b[0m\u001b[0;34m\u001b[0m\u001b[0m\n",
      "\u001b[0;32m~/repos/ts_salobj/python/lsst/ts/salobj/topics/read_topic.py\u001b[0m in \u001b[0;36m_next\u001b[0;34m(self, timeout)\u001b[0m\n\u001b[1;32m    402\u001b[0m         \u001b[0;32mif\u001b[0m \u001b[0mself\u001b[0m\u001b[0;34m.\u001b[0m\u001b[0m_next_task\u001b[0m\u001b[0;34m.\u001b[0m\u001b[0mdone\u001b[0m\u001b[0;34m(\u001b[0m\u001b[0;34m)\u001b[0m\u001b[0;34m:\u001b[0m\u001b[0;34m\u001b[0m\u001b[0;34m\u001b[0m\u001b[0m\n\u001b[1;32m    403\u001b[0m             \u001b[0mself\u001b[0m\u001b[0;34m.\u001b[0m\u001b[0m_next_task\u001b[0m \u001b[0;34m=\u001b[0m \u001b[0masyncio\u001b[0m\u001b[0;34m.\u001b[0m\u001b[0mFuture\u001b[0m\u001b[0;34m(\u001b[0m\u001b[0;34m)\u001b[0m\u001b[0;34m\u001b[0m\u001b[0;34m\u001b[0m\u001b[0m\n\u001b[0;32m--> 404\u001b[0;31m         \u001b[0;32mawait\u001b[0m \u001b[0masyncio\u001b[0m\u001b[0;34m.\u001b[0m\u001b[0mwait_for\u001b[0m\u001b[0;34m(\u001b[0m\u001b[0mself\u001b[0m\u001b[0;34m.\u001b[0m\u001b[0m_next_task\u001b[0m\u001b[0;34m,\u001b[0m \u001b[0mtimeout\u001b[0m\u001b[0;34m=\u001b[0m\u001b[0mtimeout\u001b[0m\u001b[0;34m)\u001b[0m\u001b[0;34m\u001b[0m\u001b[0;34m\u001b[0m\u001b[0m\n\u001b[0m\u001b[1;32m    405\u001b[0m         \u001b[0;32mreturn\u001b[0m \u001b[0mself\u001b[0m\u001b[0;34m.\u001b[0m\u001b[0m_data_queue\u001b[0m\u001b[0;34m.\u001b[0m\u001b[0mpopleft\u001b[0m\u001b[0;34m(\u001b[0m\u001b[0;34m)\u001b[0m\u001b[0;34m\u001b[0m\u001b[0;34m\u001b[0m\u001b[0m\n\u001b[1;32m    406\u001b[0m \u001b[0;34m\u001b[0m\u001b[0m\n",
      "\u001b[0;32m/opt/lsst/software/stack/python/miniconda3-4.5.12/envs/lsst-scipipe-4d7b902/lib/python3.7/asyncio/tasks.py\u001b[0m in \u001b[0;36mwait_for\u001b[0;34m(fut, timeout, loop)\u001b[0m\n\u001b[1;32m    421\u001b[0m             \u001b[0;31m# See https://bugs.python.org/issue32751\u001b[0m\u001b[0;34m\u001b[0m\u001b[0;34m\u001b[0m\u001b[0;34m\u001b[0m\u001b[0m\n\u001b[1;32m    422\u001b[0m             \u001b[0;32mawait\u001b[0m \u001b[0m_cancel_and_wait\u001b[0m\u001b[0;34m(\u001b[0m\u001b[0mfut\u001b[0m\u001b[0;34m,\u001b[0m \u001b[0mloop\u001b[0m\u001b[0;34m=\u001b[0m\u001b[0mloop\u001b[0m\u001b[0;34m)\u001b[0m\u001b[0;34m\u001b[0m\u001b[0;34m\u001b[0m\u001b[0m\n\u001b[0;32m--> 423\u001b[0;31m             \u001b[0;32mraise\u001b[0m \u001b[0mfutures\u001b[0m\u001b[0;34m.\u001b[0m\u001b[0mTimeoutError\u001b[0m\u001b[0;34m(\u001b[0m\u001b[0;34m)\u001b[0m\u001b[0;34m\u001b[0m\u001b[0;34m\u001b[0m\u001b[0m\n\u001b[0m\u001b[1;32m    424\u001b[0m     \u001b[0;32mfinally\u001b[0m\u001b[0;34m:\u001b[0m\u001b[0;34m\u001b[0m\u001b[0;34m\u001b[0m\u001b[0m\n\u001b[1;32m    425\u001b[0m         \u001b[0mtimeout_handle\u001b[0m\u001b[0;34m.\u001b[0m\u001b[0mcancel\u001b[0m\u001b[0;34m(\u001b[0m\u001b[0;34m)\u001b[0m\u001b[0;34m\u001b[0m\u001b[0;34m\u001b[0m\u001b[0m\n",
      "\u001b[0;31mTimeoutError\u001b[0m: "
     ]
    }
   ],
   "source": [
    "attcs.check.atdome = False\n",
    "await attcs.slew_icrs(ra=\"03 59 25.3142500799\", \n",
    "                      dec=\"-20 19 58.408819288\", \n",
    "                      rot_pa=-180., \n",
    "                      target_name=\"HD 25189\", \n",
    "                      slew_timeout=30.)"
   ]
  },
  {
   "cell_type": "code",
   "execution_count": 56,
   "metadata": {},
   "outputs": [
    {
     "name": "stdout",
     "output_type": "stream",
     "text": [
      "RemoteEvent(ATDomeTrajectory, 0, logMessage) falling behind; read 100 messages\n",
      "RemoteEvent(ATAOS, 0, heartbeat) falling behind; read 10 messages\n",
      "RemoteTelemetry(ATPneumatics, 0, loadCell) falling behind; read 10 messages\n",
      "RemoteTelemetry(ATPneumatics, 0, mainAirSourcePressure) falling behind; read 10 messages\n",
      "RemoteTelemetry(ATPneumatics, 0, m2AirPressure) falling behind; read 10 messages\n",
      "RemoteTelemetry(ATPtg, 0, mountStatus) falling behind; read 49 messages\n",
      "RemoteTelemetry(ATPneumatics, 0, m1AirPressure) falling behind; read 10 messages\n",
      "RemoteEvent(ATDome, 0, heartbeat) falling behind; read 10 messages\n",
      "RemoteEvent(ATPneumatics, 0, heartbeat) falling behind; read 10 messages\n"
     ]
    },
    {
     "data": {
      "text/plain": [
       "<lsst.ts.salobj.ddsutil.ATPtg_ackcmd_2d655b72 at 0x7f2ae11a5470>"
      ]
     },
     "execution_count": 56,
     "metadata": {},
     "output_type": "execute_result"
    }
   ],
   "source": [
    "await attcs.atptg.cmd_offsetRADec.set_start(off1=-15., off2=30., num=0, type=0)"
   ]
  },
  {
   "cell_type": "code",
   "execution_count": 57,
   "metadata": {},
   "outputs": [
    {
     "name": "stdout",
     "output_type": "stream",
     "text": [
      "RemoteEvent(ATDomeTrajectory, 0, logMessage) falling behind; read 100 messages\n",
      "RemoteTelemetry(ATDome, 0, position) falling behind; read 100 messages\n",
      "RemoteEvent(ATPneumatics, 0, m1SetPressure) falling behind; read 21 messages\n",
      "RemoteEvent(ATHexapod, 0, heartbeat) falling behind; read 29 messages\n",
      "RemoteEvent(ATAOS, 0, m1CorrectionStarted) falling behind; read 20 messages\n",
      "RemoteTelemetry(ATHexapod, 0, positionStatus) falling behind; read 29 messages\n",
      "RemoteTelemetry(ATPtg, 0, mountStatus) falling behind; read 100 messages\n",
      "RemoteEvent(ATAOS, 0, m1CorrectionCompleted) falling behind; read 21 messages\n",
      "RemoteEvent(ATDomeTrajectory, 0, heartbeat) falling behind; read 30 messages\n",
      "RemoteTelemetry(ATPtg, 0, guidingAndOffsets) falling behind; read 100 messages\n"
     ]
    },
    {
     "data": {
      "text/plain": [
       "<lsst.ts.salobj.ddsutil.ATPtg_ackcmd_2d655b72 at 0x7f2ad024be48>"
      ]
     },
     "execution_count": 57,
     "metadata": {},
     "output_type": "execute_result"
    }
   ],
   "source": [
    "await attcs.atptg.cmd_pointNewFile.start()\n",
    "await attcs.atptg.cmd_pointAddData.start()"
   ]
  },
  {
   "cell_type": "code",
   "execution_count": 62,
   "metadata": {},
   "outputs": [
    {
     "name": "stdout",
     "output_type": "stream",
     "text": [
      "RemoteTelemetry(ATPneumatics, 0, loadCell) falling behind; read 11 messages\n",
      "RemoteTelemetry(ATDome, 0, position) falling behind; read 52 messages\n",
      "RemoteTelemetry(ATHexapod, 0, positionStatus) falling behind; read 10 messages\n",
      "RemoteEvent(ATDomeTrajectory, 0, logMessage) falling behind; read 100 messages\n",
      "RemoteEvent(ATDomeTrajectory, 0, heartbeat) falling behind; read 10 messages\n",
      "RemoteEvent(ATHexapod, 0, heartbeat) falling behind; read 10 messages\n",
      "RemoteEvent(ATDome, 0, heartbeat) falling behind; read 11 messages\n",
      "RemoteTelemetry(ATMCS, 0, mount_Nasmyth_Encoders) falling behind; read 11 messages\n",
      "RemoteTelemetry(ATMCS, 0, mount_AzEl_Encoders) falling behind; read 11 messages\n"
     ]
    },
    {
     "data": {
      "text/plain": [
       "<lsst.ts.salobj.ddsutil.ATPtg_ackcmd_2d655b72 at 0x7f2ae175e080>"
      ]
     },
     "execution_count": 62,
     "metadata": {},
     "output_type": "execute_result"
    }
   ],
   "source": [
    "await attcs.atptg.cmd_offsetRADec.set_start(off1=-20., off2=45., num=0, type=0)"
   ]
  },
  {
   "cell_type": "code",
   "execution_count": 63,
   "metadata": {},
   "outputs": [
    {
     "name": "stdout",
     "output_type": "stream",
     "text": [
      "RemoteTelemetry(ATDome, 0, position) falling behind; read 42 messages\n",
      "RemoteEvent(ATDomeTrajectory, 0, logMessage) falling behind; read 100 messages\n"
     ]
    },
    {
     "data": {
      "text/plain": [
       "<lsst.ts.salobj.ddsutil.ATPtg_ackcmd_2d655b72 at 0x7f2ae1076be0>"
      ]
     },
     "execution_count": 63,
     "metadata": {},
     "output_type": "execute_result"
    }
   ],
   "source": [
    "await attcs.atptg.cmd_pointNewFile.start()\n",
    "await attcs.atptg.cmd_pointAddData.start()"
   ]
  },
  {
   "cell_type": "code",
   "execution_count": 66,
   "metadata": {},
   "outputs": [
    {
     "name": "stdout",
     "output_type": "stream",
     "text": [
      "RemoteEvent(ATDomeTrajectory, 0, logMessage) falling behind; read 100 messages\n",
      "RemoteTelemetry(ATDome, 0, position) falling behind; read 29 messages\n",
      "RemoteTelemetry(ATPtg, 0, mountStatus) falling behind; read 31 messages\n"
     ]
    },
    {
     "data": {
      "text/plain": [
       "<lsst.ts.salobj.ddsutil.ATPtg_ackcmd_2d655b72 at 0x7f2ae137a240>"
      ]
     },
     "execution_count": 66,
     "metadata": {},
     "output_type": "execute_result"
    }
   ],
   "source": [
    "await attcs.atptg.cmd_offsetRADec.set_start(off1=-30., off2=50., num=0, type=0)"
   ]
  },
  {
   "cell_type": "code",
   "execution_count": 70,
   "metadata": {},
   "outputs": [
    {
     "name": "stdout",
     "output_type": "stream",
     "text": [
      "RemoteTelemetry(ATMCS, 0, torqueDemand) falling behind; read 10 messages\n",
      "RemoteTelemetry(ATPtg, 0, timeAndDate) falling behind; read 45 messages\n",
      "RemoteEvent(ATAOS, 0, detailedState) falling behind; read 12 messages\n",
      "RemoteEvent(ATPneumatics, 0, heartbeat) falling behind; read 10 messages\n"
     ]
    },
    {
     "data": {
      "text/plain": [
       "<lsst.ts.salobj.ddsutil.ATPtg_ackcmd_2d655b72 at 0x7f2adcfe9fd0>"
      ]
     },
     "execution_count": 70,
     "metadata": {},
     "output_type": "execute_result"
    }
   ],
   "source": [
    "await attcs.atptg.cmd_offsetRADec.set_start(off1=-50., off2=30., num=0, type=0)"
   ]
  },
  {
   "cell_type": "code",
   "execution_count": 73,
   "metadata": {},
   "outputs": [
    {
     "name": "stdout",
     "output_type": "stream",
     "text": [
      "RemoteTelemetry(ATDome, 0, position) falling behind; read 58 messages\n",
      "RemoteEvent(ATDomeTrajectory, 0, logMessage) falling behind; read 100 messages\n",
      "RemoteTelemetry(ATPneumatics, 0, loadCell) falling behind; read 12 messages\n",
      "RemoteEvent(ATDomeTrajectory, 0, heartbeat) falling behind; read 12 messages\n",
      "RemoteTelemetry(ATPtg, 0, timeAndDate) falling behind; read 62 messages\n",
      "RemoteEvent(ATAOS, 0, detailedState) falling behind; read 18 messages\n",
      "RemoteTelemetry(ATPtg, 0, mountStatus) falling behind; read 62 messages\n",
      "RemoteEvent(ATPneumatics, 0, heartbeat) falling behind; read 13 messages\n",
      "RemoteTelemetry(ATMCS, 0, measuredTorque) falling behind; read 13 messages\n",
      "RemoteTelemetry(ATMCS, 0, measuredMotorVelocity) falling behind; read 13 messages\n",
      "RemoteTelemetry(ATMCS, 0, azEl_mountMotorEncoders) falling behind; read 13 messages\n"
     ]
    },
    {
     "data": {
      "text/plain": [
       "<lsst.ts.salobj.ddsutil.ATPtg_ackcmd_2d655b72 at 0x7f2ae174fa58>"
      ]
     },
     "execution_count": 73,
     "metadata": {},
     "output_type": "execute_result"
    }
   ],
   "source": [
    "await attcs.atptg.cmd_offsetRADec.set_start(off1=-45., off2=20., num=0, type=0)"
   ]
  },
  {
   "cell_type": "markdown",
   "metadata": {},
   "source": [
    "# New Target"
   ]
  },
  {
   "cell_type": "code",
   "execution_count": 74,
   "metadata": {},
   "outputs": [
    {
     "name": "stdout",
     "output_type": "stream",
     "text": [
      "RemoteEvent(ATDomeTrajectory, 0, logMessage) falling behind; read 100 messages\n",
      "RemoteEvent(ATAOS, 0, heartbeat) falling behind; read 100 messages\n",
      "RemoteTelemetry(ATPneumatics, 0, loadCell) falling behind; read 100 messages\n",
      "RemoteTelemetry(ATHexapod, 0, positionStatus) falling behind; read 100 messages\n",
      "RemoteTelemetry(ATDome, 0, position) falling behind; read 100 messages\n",
      "RemoteEvent(ATDome, 0, shutterInPosition) falling behind; read 100 messages\n",
      "RemoteTelemetry(ATPtg, 0, skyEnvironment) falling behind; read 100 messages\n",
      "RemoteEvent(ATAOS, 0, m1CorrectionStarted) falling behind; read 100 messages\n",
      "RemoteEvent(ATDome, 0, mainDoorState) falling behind; read 100 messages\n",
      "RemoteEvent(ATAOS, 0, m1CorrectionCompleted) falling behind; read 100 messages\n",
      "RemoteEvent(ATDome, 0, heartbeat) falling behind; read 100 messages\n",
      "RemoteTelemetry(ATPtg, 0, guidingAndOffsets) falling behind; read 100 messages\n",
      "RemoteEvent(ATHexapod, 0, heartbeat) falling behind; read 100 messages\n",
      "RemoteTelemetry(ATPtg, 0, currentTimesToLimits) falling behind; read 100 messages\n",
      "RemoteEvent(ATDome, 0, allAxesInPosition) falling behind; read 100 messages\n",
      "atptg not enabled: <State.FAULT: 3>\n",
      "atmcs not enabled: <State.FAULT: 3>\n",
      "Gathering settings.\n",
      "Settings versions: {'ataos': 'measured_20190908.yaml', 'atmcs': '', 'atptg': '', 'atpneumatics': '', 'athexapod': 'current', 'atdome': 'test.yaml', 'atdometrajectory': ''}\n",
      "Enabling all components\n",
      "Enabling  atmcs\n",
      "Enabling  atptg\n",
      "Enabling  ataos\n",
      "Enabling  atpneumatics\n",
      "Enabling  athexapod\n",
      "Enabling  atdometrajectory\n",
      "[atmcs]::[<State.FAULT: 3>, <State.STANDBY: 5>, <State.DISABLED: 1>, <State.ENABLED: 2>]\n",
      "[atptg]::[<State.FAULT: 3>, <State.STANDBY: 5>, <State.DISABLED: 1>, <State.ENABLED: 2>]\n",
      "[ataos]::[<State.ENABLED: 2>]\n",
      "[atpneumatics]::[<State.ENABLED: 2>]\n",
      "[athexapod]::[<State.ENABLED: 2>]\n",
      "[atdome]::<State.ENABLED: 2>\n",
      "[atdometrajectory]::[<State.ENABLED: 2>]\n",
      "All components enabled.\n"
     ]
    }
   ],
   "source": [
    "await asyncio.sleep(5)\n",
    "await attcs.enable(settings={\n",
    "    'ataos': \"measured_20190908.yaml\",\n",
    "    'atmcs': \"\",\n",
    "    'atptg': \"\",\n",
    "    'atpneumatics': \"\",\n",
    "    'athexapod': \"current\",\n",
    "    'atdome': \"test.yaml\",\n",
    "    'atdometrajectory': \"\"})"
   ]
  },
  {
   "cell_type": "code",
   "execution_count": 75,
   "metadata": {},
   "outputs": [
    {
     "name": "stdout",
     "output_type": "stream",
     "text": [
      "RemoteTelemetry(ATPneumatics, 0, loadCell) falling behind; read 100 messages\n",
      "RemoteTelemetry(ATPtg, 0, currentTargetStatus) falling behind; read 100 messages\n",
      "RemoteEvent(ATAOS, 0, m1CorrectionCompleted) falling behind; read 88 messages\n",
      "RemoteEvent(ATHexapod, 0, heartbeat) falling behind; read 100 messages\n",
      "RemoteTelemetry(ATDome, 0, position) falling behind; read 100 messages\n",
      "RemoteTelemetry(ATMCS, 0, azEl_mountMotorEncoders) falling behind; read 100 messages\n",
      "RemoteEvent(ATDomeTrajectory, 0, heartbeat) falling behind; read 100 messages\n",
      "RemoteTelemetry(ATHexapod, 0, positionStatus) falling behind; read 100 messages\n",
      "RemoteTelemetry(ATMCS, 0, trajectory) falling behind; read 100 messages\n",
      "RemoteTelemetry(ATPneumatics, 0, mainAirSourcePressure) falling behind; read 100 messages\n",
      "RemoteTelemetry(ATMCS, 0, torqueDemand) falling behind; read 100 messages\n",
      "RemoteEvent(ATDome, 0, shutterInPosition) falling behind; read 100 messages\n",
      "RemoteTelemetry(ATPneumatics, 0, m2AirPressure) falling behind; read 100 messages\n",
      "RemoteTelemetry(ATPtg, 0, timeAndDate) falling behind; read 100 messages\n",
      "RemoteEvent(ATAOS, 0, m1CorrectionStarted) falling behind; read 88 messages\n",
      "RemoteTelemetry(ATMCS, 0, nasymth_m3_mountMotorEncoders) falling behind; read 100 messages\n",
      "RemoteEvent(ATDome, 0, mainDoorState) falling behind; read 100 messages\n",
      "RemoteTelemetry(ATPneumatics, 0, m1AirPressure) falling behind; read 100 messages\n",
      "RemoteTelemetry(ATPtg, 0, skyEnvironment) falling behind; read 25 messages\n",
      "RemoteEvent(ATAOS, 0, heartbeat) falling behind; read 100 messages\n",
      "RemoteTelemetry(ATMCS, 0, mount_Nasmyth_Encoders) falling behind; read 100 messages\n",
      "RemoteEvent(ATDome, 0, heartbeat) falling behind; read 100 messages\n",
      "Flushing events\n",
      "Scheduling check coroutines\n",
      "Sending command\n",
      "RemoteTelemetry(ATPtg, 0, mountStatus) falling behind; read 100 messages\n",
      "RemoteEvent(ATAOS, 0, detailedState) falling behind; read 100 messages\n",
      "RemoteTelemetry(ATMCS, 0, mount_AzEl_Encoders) falling behind; read 100 messages\n",
      "RemoteEvent(ATDome, 0, allAxesInPosition) falling behind; read 100 messages\n",
      "RemoteEvent(ATPneumatics, 0, m1SetPressure) falling behind; read 89 messages\n",
      "RemoteTelemetry(ATPtg, 0, guidingAndOffsets) falling behind; read 100 messages\n",
      "RemoteTelemetry(ATMCS, 0, measuredTorque) falling behind; read 100 messages\n",
      "RemoteEvent(ATPneumatics, 0, heartbeat) falling behind; read 100 messages\n",
      "ATDome in position.\n",
      "RemoteTelemetry(ATPtg, 0, currentTimesToLimits) falling behind; read 25 messages\n",
      "RemoteTelemetry(ATMCS, 0, measuredMotorVelocity) falling behind; read 100 messages\n",
      "RemoteEvent(ATMCS, 0, heartbeat) falling behind; read 100 messages\n",
      "RemoteEvent(ATPtg, 0, mountDataWarning) falling behind; read 96 messages\n",
      "process as completed...\n",
      "[Telescope] delta Alt = -036.981 | delta Az= +131.592 [Dome] delta Az = +123.085\n",
      "[Telescope] delta Alt = -034.394 | delta Az= +129.196 [Dome] delta Az = +122.167\n",
      "[Telescope] delta Alt = -030.387 | delta Az= +125.194 [Dome] delta Az = +120.281\n",
      "[Telescope] delta Alt = -026.389 | delta Az= +121.190 [Dome] delta Az = +117.446\n",
      "[Telescope] delta Alt = -024.398 | delta Az= +119.184 [Dome] delta Az = +114.111\n",
      "[Telescope] delta Alt = -020.489 | delta Az= +115.180 [Dome] delta Az = +111.478\n",
      "[Telescope] delta Alt = -016.718 | delta Az= +111.176 [Dome] delta Az = +106.923\n",
      "[Telescope] delta Alt = -013.168 | delta Az= +107.171 [Dome] delta Az = +100.927\n",
      "[Telescope] delta Alt = -009.928 | delta Az= +103.164 [Dome] delta Az = +094.152\n",
      "[Telescope] delta Alt = -007.079 | delta Az= +099.160 [Dome] delta Az = +087.217\n",
      "[Telescope] delta Alt = -004.682 | delta Az= +095.154 [Dome] delta Az = +080.291\n",
      "[Telescope] delta Alt = -002.797 | delta Az= +091.148 [Dome] delta Az = +073.386\n",
      "[Telescope] delta Alt = -001.433 | delta Az= +087.144 [Dome] delta Az = +067.171\n",
      "[Telescope] delta Alt = -000.567 | delta Az= +083.138 [Dome] delta Az = +060.245\n",
      "[Telescope] delta Alt = -000.129 | delta Az= +079.132 [Dome] delta Az = +053.310\n"
     ]
    },
    {
     "ename": "TimeoutError",
     "evalue": "",
     "output_type": "error",
     "traceback": [
      "\u001b[0;31m\u001b[0m",
      "\u001b[0;31mTimeoutError\u001b[0mTraceback (most recent call last)",
      "\u001b[0;32m<ipython-input-75-ffbbd32769a2>\u001b[0m in \u001b[0;36masync-def-wrapper\u001b[0;34m()\u001b[0m\n",
      "\u001b[0;32m~/repos/ts_standardscripts/python/lsst/ts/standardscripts/auxtel/attcs.py\u001b[0m in \u001b[0;36mslew_icrs\u001b[0;34m(self, ra, dec, rot_sky, rot_pa, target_name, slew_timeout)\u001b[0m\n\u001b[1;32m    217\u001b[0m                         \u001b[0mrot_frame\u001b[0m\u001b[0;34m=\u001b[0m\u001b[0mATPtg\u001b[0m\u001b[0;34m.\u001b[0m\u001b[0mRotFrame\u001b[0m\u001b[0;34m.\u001b[0m\u001b[0mTARGET\u001b[0m\u001b[0;34m,\u001b[0m\u001b[0;34m\u001b[0m\u001b[0;34m\u001b[0m\u001b[0m\n\u001b[1;32m    218\u001b[0m                         \u001b[0mrot_mode\u001b[0m\u001b[0;34m=\u001b[0m\u001b[0mATPtg\u001b[0m\u001b[0;34m.\u001b[0m\u001b[0mRotMode\u001b[0m\u001b[0;34m.\u001b[0m\u001b[0mFIELD\u001b[0m\u001b[0;34m,\u001b[0m\u001b[0;34m\u001b[0m\u001b[0;34m\u001b[0m\u001b[0m\n\u001b[0;32m--> 219\u001b[0;31m                         slew_timeout=slew_timeout)\n\u001b[0m\u001b[1;32m    220\u001b[0m \u001b[0;34m\u001b[0m\u001b[0m\n\u001b[1;32m    221\u001b[0m     async def slew(self, ra, dec, rotPA=0., target_name=\"slew_icrs\",\n",
      "\u001b[0;32m~/repos/ts_standardscripts/python/lsst/ts/standardscripts/auxtel/attcs.py\u001b[0m in \u001b[0;36mslew\u001b[0;34m(self, ra, dec, rotPA, target_name, target_instance, frame, epoch, equinox, parallax, pmRA, pmDec, rv, dRA, dDec, rot_frame, rot_mode, slew_timeout)\u001b[0m\n\u001b[1;32m    262\u001b[0m \u001b[0;34m\u001b[0m\u001b[0m\n\u001b[1;32m    263\u001b[0m         await self._slew_to(self.atptg.cmd_raDecTarget,\n\u001b[0;32m--> 264\u001b[0;31m                             slew_timeout=slew_timeout)\n\u001b[0m\u001b[1;32m    265\u001b[0m \u001b[0;34m\u001b[0m\u001b[0m\n\u001b[1;32m    266\u001b[0m     \u001b[0;32masync\u001b[0m \u001b[0;32mdef\u001b[0m \u001b[0mslew_to_planet\u001b[0m\u001b[0;34m(\u001b[0m\u001b[0mself\u001b[0m\u001b[0;34m,\u001b[0m \u001b[0mplanet\u001b[0m\u001b[0;34m,\u001b[0m \u001b[0mrot_pa\u001b[0m\u001b[0;34m=\u001b[0m\u001b[0;36m0.\u001b[0m\u001b[0;34m,\u001b[0m \u001b[0mslew_timeout\u001b[0m\u001b[0;34m=\u001b[0m\u001b[0;36m1200.\u001b[0m\u001b[0;34m)\u001b[0m\u001b[0;34m:\u001b[0m\u001b[0;34m\u001b[0m\u001b[0;34m\u001b[0m\u001b[0m\n",
      "\u001b[0;32m~/repos/ts_standardscripts/python/lsst/ts/standardscripts/auxtel/attcs.py\u001b[0m in \u001b[0;36m_slew_to\u001b[0;34m(self, slew_cmd, slew_timeout)\u001b[0m\n\u001b[1;32m    698\u001b[0m         \u001b[0;32mfor\u001b[0m \u001b[0mres\u001b[0m \u001b[0;32min\u001b[0m \u001b[0masyncio\u001b[0m\u001b[0;34m.\u001b[0m\u001b[0mas_completed\u001b[0m\u001b[0;34m(\u001b[0m\u001b[0mcoro_list\u001b[0m\u001b[0;34m)\u001b[0m\u001b[0;34m:\u001b[0m\u001b[0;34m\u001b[0m\u001b[0;34m\u001b[0m\u001b[0m\n\u001b[1;32m    699\u001b[0m             \u001b[0;32mtry\u001b[0m\u001b[0;34m:\u001b[0m\u001b[0;34m\u001b[0m\u001b[0;34m\u001b[0m\u001b[0m\n\u001b[0;32m--> 700\u001b[0;31m                 \u001b[0mret_val\u001b[0m \u001b[0;34m=\u001b[0m \u001b[0;32mawait\u001b[0m \u001b[0mres\u001b[0m\u001b[0;34m\u001b[0m\u001b[0;34m\u001b[0m\u001b[0m\n\u001b[0m\u001b[1;32m    701\u001b[0m                 \u001b[0mself\u001b[0m\u001b[0;34m.\u001b[0m\u001b[0mlog\u001b[0m\u001b[0;34m.\u001b[0m\u001b[0mdebug\u001b[0m\u001b[0;34m(\u001b[0m\u001b[0mret_val\u001b[0m\u001b[0;34m)\u001b[0m\u001b[0;34m\u001b[0m\u001b[0;34m\u001b[0m\u001b[0m\n\u001b[1;32m    702\u001b[0m             \u001b[0;32mexcept\u001b[0m \u001b[0mRuntimeError\u001b[0m \u001b[0;32mas\u001b[0m \u001b[0mrte\u001b[0m\u001b[0;34m:\u001b[0m\u001b[0;34m\u001b[0m\u001b[0;34m\u001b[0m\u001b[0m\n",
      "\u001b[0;32m/opt/lsst/software/stack/python/miniconda3-4.5.12/envs/lsst-scipipe-4d7b902/lib/python3.7/asyncio/tasks.py\u001b[0m in \u001b[0;36m_wait_for_one\u001b[0;34m()\u001b[0m\n\u001b[1;32m    531\u001b[0m             \u001b[0;31m# Dummy value from _on_timeout().\u001b[0m\u001b[0;34m\u001b[0m\u001b[0;34m\u001b[0m\u001b[0;34m\u001b[0m\u001b[0m\n\u001b[1;32m    532\u001b[0m             \u001b[0;32mraise\u001b[0m \u001b[0mfutures\u001b[0m\u001b[0;34m.\u001b[0m\u001b[0mTimeoutError\u001b[0m\u001b[0;34m\u001b[0m\u001b[0;34m\u001b[0m\u001b[0m\n\u001b[0;32m--> 533\u001b[0;31m         \u001b[0;32mreturn\u001b[0m \u001b[0mf\u001b[0m\u001b[0;34m.\u001b[0m\u001b[0mresult\u001b[0m\u001b[0;34m(\u001b[0m\u001b[0;34m)\u001b[0m  \u001b[0;31m# May raise f.exception().\u001b[0m\u001b[0;34m\u001b[0m\u001b[0;34m\u001b[0m\u001b[0m\n\u001b[0m\u001b[1;32m    534\u001b[0m \u001b[0;34m\u001b[0m\u001b[0m\n\u001b[1;32m    535\u001b[0m     \u001b[0;32mfor\u001b[0m \u001b[0mf\u001b[0m \u001b[0;32min\u001b[0m \u001b[0mtodo\u001b[0m\u001b[0;34m:\u001b[0m\u001b[0;34m\u001b[0m\u001b[0;34m\u001b[0m\u001b[0m\n",
      "\u001b[0;32m~/repos/ts_standardscripts/python/lsst/ts/standardscripts/auxtel/attcs.py\u001b[0m in \u001b[0;36mwait_for_inposition\u001b[0;34m(self, timeout)\u001b[0m\n\u001b[1;32m    780\u001b[0m             \u001b[0mwait_tasks\u001b[0m\u001b[0;34m.\u001b[0m\u001b[0mappend\u001b[0m\u001b[0;34m(\u001b[0m\u001b[0mself\u001b[0m\u001b[0;34m.\u001b[0m\u001b[0mwait_for_atdome_inposition\u001b[0m\u001b[0;34m(\u001b[0m\u001b[0mtimeout\u001b[0m\u001b[0;34m)\u001b[0m\u001b[0;34m)\u001b[0m\u001b[0;34m\u001b[0m\u001b[0;34m\u001b[0m\u001b[0m\n\u001b[1;32m    781\u001b[0m \u001b[0;34m\u001b[0m\u001b[0m\n\u001b[0;32m--> 782\u001b[0;31m         \u001b[0mstatus\u001b[0m \u001b[0;34m=\u001b[0m \u001b[0;32mawait\u001b[0m \u001b[0masyncio\u001b[0m\u001b[0;34m.\u001b[0m\u001b[0mgather\u001b[0m\u001b[0;34m(\u001b[0m\u001b[0;34m*\u001b[0m\u001b[0mwait_tasks\u001b[0m\u001b[0;34m)\u001b[0m\u001b[0;34m\u001b[0m\u001b[0;34m\u001b[0m\u001b[0m\n\u001b[0m\u001b[1;32m    783\u001b[0m \u001b[0;34m\u001b[0m\u001b[0m\n\u001b[1;32m    784\u001b[0m         \u001b[0;32mreturn\u001b[0m \u001b[0;34mf\"{status!r}\"\u001b[0m\u001b[0;34m\u001b[0m\u001b[0;34m\u001b[0m\u001b[0m\n",
      "\u001b[0;32m~/repos/ts_standardscripts/python/lsst/ts/standardscripts/auxtel/attcs.py\u001b[0m in \u001b[0;36mwait_for_atmcs_inposition\u001b[0;34m(self, timeout)\u001b[0m\n\u001b[1;32m    806\u001b[0m \u001b[0;34m\u001b[0m\u001b[0m\n\u001b[1;32m    807\u001b[0m             in_position = await self.atmcs.evt_allAxesInPosition.next(flush=False,\n\u001b[0;32m--> 808\u001b[0;31m                                                                       timeout=timeout)\n\u001b[0m\u001b[1;32m    809\u001b[0m             \u001b[0mself\u001b[0m\u001b[0;34m.\u001b[0m\u001b[0mlog\u001b[0m\u001b[0;34m.\u001b[0m\u001b[0minfo\u001b[0m\u001b[0;34m(\u001b[0m\u001b[0;34mf\"Got {in_position.inPosition}\"\u001b[0m\u001b[0;34m)\u001b[0m\u001b[0;34m\u001b[0m\u001b[0;34m\u001b[0m\u001b[0m\n\u001b[1;32m    810\u001b[0m             \u001b[0;32mif\u001b[0m \u001b[0min_position\u001b[0m\u001b[0;34m.\u001b[0m\u001b[0minPosition\u001b[0m\u001b[0;34m:\u001b[0m\u001b[0;34m\u001b[0m\u001b[0;34m\u001b[0m\u001b[0m\n",
      "\u001b[0;32m~/repos/ts_salobj/python/lsst/ts/salobj/topics/read_topic.py\u001b[0m in \u001b[0;36mnext\u001b[0;34m(self, flush, timeout)\u001b[0m\n\u001b[1;32m    389\u001b[0m         \u001b[0;32mif\u001b[0m \u001b[0mflush\u001b[0m\u001b[0;34m:\u001b[0m\u001b[0;34m\u001b[0m\u001b[0;34m\u001b[0m\u001b[0m\n\u001b[1;32m    390\u001b[0m             \u001b[0mself\u001b[0m\u001b[0;34m.\u001b[0m\u001b[0mflush\u001b[0m\u001b[0;34m(\u001b[0m\u001b[0;34m)\u001b[0m\u001b[0;34m\u001b[0m\u001b[0;34m\u001b[0m\u001b[0m\n\u001b[0;32m--> 391\u001b[0;31m         \u001b[0;32mreturn\u001b[0m \u001b[0;32mawait\u001b[0m \u001b[0mself\u001b[0m\u001b[0;34m.\u001b[0m\u001b[0m_next\u001b[0m\u001b[0;34m(\u001b[0m\u001b[0mtimeout\u001b[0m\u001b[0;34m=\u001b[0m\u001b[0mtimeout\u001b[0m\u001b[0;34m)\u001b[0m\u001b[0;34m\u001b[0m\u001b[0;34m\u001b[0m\u001b[0m\n\u001b[0m\u001b[1;32m    392\u001b[0m \u001b[0;34m\u001b[0m\u001b[0m\n\u001b[1;32m    393\u001b[0m     \u001b[0;32masync\u001b[0m \u001b[0;32mdef\u001b[0m \u001b[0m_next\u001b[0m\u001b[0;34m(\u001b[0m\u001b[0mself\u001b[0m\u001b[0;34m,\u001b[0m \u001b[0;34m*\u001b[0m\u001b[0;34m,\u001b[0m \u001b[0mtimeout\u001b[0m\u001b[0;34m=\u001b[0m\u001b[0;32mNone\u001b[0m\u001b[0;34m)\u001b[0m\u001b[0;34m:\u001b[0m\u001b[0;34m\u001b[0m\u001b[0;34m\u001b[0m\u001b[0m\n",
      "\u001b[0;32m~/repos/ts_salobj/python/lsst/ts/salobj/topics/read_topic.py\u001b[0m in \u001b[0;36m_next\u001b[0;34m(self, timeout)\u001b[0m\n\u001b[1;32m    402\u001b[0m         \u001b[0;32mif\u001b[0m \u001b[0mself\u001b[0m\u001b[0;34m.\u001b[0m\u001b[0m_next_task\u001b[0m\u001b[0;34m.\u001b[0m\u001b[0mdone\u001b[0m\u001b[0;34m(\u001b[0m\u001b[0;34m)\u001b[0m\u001b[0;34m:\u001b[0m\u001b[0;34m\u001b[0m\u001b[0;34m\u001b[0m\u001b[0m\n\u001b[1;32m    403\u001b[0m             \u001b[0mself\u001b[0m\u001b[0;34m.\u001b[0m\u001b[0m_next_task\u001b[0m \u001b[0;34m=\u001b[0m \u001b[0masyncio\u001b[0m\u001b[0;34m.\u001b[0m\u001b[0mFuture\u001b[0m\u001b[0;34m(\u001b[0m\u001b[0;34m)\u001b[0m\u001b[0;34m\u001b[0m\u001b[0;34m\u001b[0m\u001b[0m\n\u001b[0;32m--> 404\u001b[0;31m         \u001b[0;32mawait\u001b[0m \u001b[0masyncio\u001b[0m\u001b[0;34m.\u001b[0m\u001b[0mwait_for\u001b[0m\u001b[0;34m(\u001b[0m\u001b[0mself\u001b[0m\u001b[0;34m.\u001b[0m\u001b[0m_next_task\u001b[0m\u001b[0;34m,\u001b[0m \u001b[0mtimeout\u001b[0m\u001b[0;34m=\u001b[0m\u001b[0mtimeout\u001b[0m\u001b[0;34m)\u001b[0m\u001b[0;34m\u001b[0m\u001b[0;34m\u001b[0m\u001b[0m\n\u001b[0m\u001b[1;32m    405\u001b[0m         \u001b[0;32mreturn\u001b[0m \u001b[0mself\u001b[0m\u001b[0;34m.\u001b[0m\u001b[0m_data_queue\u001b[0m\u001b[0;34m.\u001b[0m\u001b[0mpopleft\u001b[0m\u001b[0;34m(\u001b[0m\u001b[0;34m)\u001b[0m\u001b[0;34m\u001b[0m\u001b[0;34m\u001b[0m\u001b[0m\n\u001b[1;32m    406\u001b[0m \u001b[0;34m\u001b[0m\u001b[0m\n",
      "\u001b[0;32m/opt/lsst/software/stack/python/miniconda3-4.5.12/envs/lsst-scipipe-4d7b902/lib/python3.7/asyncio/tasks.py\u001b[0m in \u001b[0;36mwait_for\u001b[0;34m(fut, timeout, loop)\u001b[0m\n\u001b[1;32m    421\u001b[0m             \u001b[0;31m# See https://bugs.python.org/issue32751\u001b[0m\u001b[0;34m\u001b[0m\u001b[0;34m\u001b[0m\u001b[0;34m\u001b[0m\u001b[0m\n\u001b[1;32m    422\u001b[0m             \u001b[0;32mawait\u001b[0m \u001b[0m_cancel_and_wait\u001b[0m\u001b[0;34m(\u001b[0m\u001b[0mfut\u001b[0m\u001b[0;34m,\u001b[0m \u001b[0mloop\u001b[0m\u001b[0;34m=\u001b[0m\u001b[0mloop\u001b[0m\u001b[0;34m)\u001b[0m\u001b[0;34m\u001b[0m\u001b[0;34m\u001b[0m\u001b[0m\n\u001b[0;32m--> 423\u001b[0;31m             \u001b[0;32mraise\u001b[0m \u001b[0mfutures\u001b[0m\u001b[0;34m.\u001b[0m\u001b[0mTimeoutError\u001b[0m\u001b[0;34m(\u001b[0m\u001b[0;34m)\u001b[0m\u001b[0;34m\u001b[0m\u001b[0;34m\u001b[0m\u001b[0m\n\u001b[0m\u001b[1;32m    424\u001b[0m     \u001b[0;32mfinally\u001b[0m\u001b[0;34m:\u001b[0m\u001b[0;34m\u001b[0m\u001b[0;34m\u001b[0m\u001b[0m\n\u001b[1;32m    425\u001b[0m         \u001b[0mtimeout_handle\u001b[0m\u001b[0;34m.\u001b[0m\u001b[0mcancel\u001b[0m\u001b[0;34m(\u001b[0m\u001b[0;34m)\u001b[0m\u001b[0;34m\u001b[0m\u001b[0;34m\u001b[0m\u001b[0m\n",
      "\u001b[0;31mTimeoutError\u001b[0m: "
     ]
    }
   ],
   "source": [
    "attcs.check.atdome = True\n",
    "await attcs.slew_icrs(ra=\"08 31 45.6913575438\", \n",
    "                      dec=\"-08 51 14.372352004\", \n",
    "                      rot_pa=-180., \n",
    "                      target_name=\"HD 72295\", \n",
    "                      slew_timeout=30.)"
   ]
  },
  {
   "cell_type": "code",
   "execution_count": 79,
   "metadata": {},
   "outputs": [
    {
     "name": "stdout",
     "output_type": "stream",
     "text": [
      "RemoteTelemetry(ATPtg, 0, currentTargetStatus) falling behind; read 26 messages\n",
      "RemoteEvent(ATMCS, 0, target) falling behind; read 100 messages\n",
      "RemoteTelemetry(ATDome, 0, position) falling behind; read 26 messages\n",
      "RemoteTelemetry(ATPtg, 0, guidingAndOffsets) falling behind; read 27 messages\n"
     ]
    },
    {
     "data": {
      "text/plain": [
       "<lsst.ts.salobj.ddsutil.ATPtg_ackcmd_2d655b72 at 0x7f2ae16a80b8>"
      ]
     },
     "execution_count": 79,
     "metadata": {},
     "output_type": "execute_result"
    }
   ],
   "source": [
    "await attcs.atptg.cmd_offsetRADec.set_start(off1=-10., off2=20., num=0, type=0)"
   ]
  },
  {
   "cell_type": "code",
   "execution_count": 80,
   "metadata": {},
   "outputs": [],
   "source": [
    "import numpy as np\n"
   ]
  },
  {
   "cell_type": "code",
   "execution_count": 98,
   "metadata": {},
   "outputs": [
    {
     "data": {
      "text/plain": [
       "(0.4076122481836082, 0.3560443956435485)"
      ]
     },
     "execution_count": 98,
     "metadata": {},
     "output_type": "execute_result"
    }
   ],
   "source": [
    "0.5321*np.cos(np.radians(40)),0.5321*np.cos(np.radians(48))"
   ]
  },
  {
   "cell_type": "code",
   "execution_count": 82,
   "metadata": {},
   "outputs": [
    {
     "name": "stdout",
     "output_type": "stream",
     "text": [
      "RemoteEvent(ATDomeTrajectory, 0, logMessage) falling behind; read 100 messages\n",
      "RemoteEvent(ATAOS, 0, detailedState) falling behind; read 100 messages\n",
      "RemoteTelemetry(ATDome, 0, position) falling behind; read 100 messages\n",
      "RemoteEvent(ATPneumatics, 0, m1SetPressure) falling behind; read 100 messages\n",
      "RemoteTelemetry(ATHexapod, 0, positionStatus) falling behind; read 100 messages\n",
      "RemoteEvent(ATPtg, 0, weatherDataApplied) falling behind; read 15 messages\n",
      "RemoteTelemetry(ATMCS, 0, trajectory) falling behind; read 100 messages\n",
      "RemoteTelemetry(ATMCS, 0, torqueDemand) falling behind; read 100 messages\n",
      "RemoteEvent(ATAOS, 0, m1CorrectionStarted) falling behind; read 100 messages\n",
      "RemoteTelemetry(ATPneumatics, 0, mainAirSourcePressure) falling behind; read 100 messages\n",
      "RemoteTelemetry(ATMCS, 0, nasymth_m3_mountMotorEncoders) falling behind; read 100 messages\n",
      "RemoteEvent(ATDome, 0, shutterInPosition) falling behind; read 100 messages\n",
      "RemoteTelemetry(ATPneumatics, 0, m2AirPressure) falling behind; read 100 messages\n",
      "RemoteEvent(ATDomeTrajectory, 0, heartbeat) falling behind; read 100 messages\n",
      "RemoteEvent(ATAOS, 0, heartbeat) falling behind; read 100 messages\n",
      "RemoteEvent(ATHexapod, 0, heartbeat) falling behind; read 100 messages\n",
      "RemoteEvent(ATDome, 0, mainDoorState) falling behind; read 100 messages\n",
      "RemoteTelemetry(ATPneumatics, 0, m1AirPressure) falling behind; read 100 messages\n",
      "RemoteTelemetry(ATPtg, 0, skyEnvironment) falling behind; read 29 messages\n",
      "RemoteTelemetry(ATMCS, 0, mount_AzEl_Encoders) falling behind; read 100 messages\n",
      "RemoteTelemetry(ATPneumatics, 0, loadCell) falling behind; read 100 messages\n",
      "RemoteTelemetry(ATPtg, 0, mountStatus) falling behind; read 100 messages\n",
      "RemoteTelemetry(ATMCS, 0, measuredTorque) falling behind; read 100 messages\n",
      "RemoteEvent(ATPneumatics, 0, heartbeat) falling behind; read 100 messages\n",
      "RemoteTelemetry(ATPtg, 0, currentTimesToLimits) falling behind; read 29 messages\n",
      "RemoteEvent(ATMCS, 0, heartbeat) falling behind; read 100 messages\n"
     ]
    },
    {
     "data": {
      "text/plain": [
       "<lsst.ts.salobj.ddsutil.ATPtg_ackcmd_2d655b72 at 0x7f2ae1d8fc18>"
      ]
     },
     "execution_count": 82,
     "metadata": {},
     "output_type": "execute_result"
    }
   ],
   "source": [
    "await attcs.atptg.cmd_pointNewFile.start()\n",
    "await attcs.atptg.cmd_pointAddData.start()"
   ]
  },
  {
   "cell_type": "code",
   "execution_count": 88,
   "metadata": {},
   "outputs": [
    {
     "name": "stdout",
     "output_type": "stream",
     "text": [
      "RemoteEvent(ATAOS, 0, detailedState) falling behind; read 12 messages\n",
      "RemoteTelemetry(ATDome, 0, position) falling behind; read 43 messages\n",
      "RemoteTelemetry(ATPtg, 0, timeAndDate) falling behind; read 44 messages\n",
      "RemoteEvent(ATDome, 0, shutterInPosition) falling behind; read 24 messages\n",
      "RemoteEvent(ATDome, 0, heartbeat) falling behind; read 10 messages\n"
     ]
    },
    {
     "data": {
      "text/plain": [
       "<lsst.ts.salobj.ddsutil.ATPtg_ackcmd_2d655b72 at 0x7f2ad0234198>"
      ]
     },
     "execution_count": 88,
     "metadata": {},
     "output_type": "execute_result"
    }
   ],
   "source": [
    "await attcs.atptg.cmd_offsetRADec.set_start(off1=0., off2=20., num=0, type=0)"
   ]
  },
  {
   "cell_type": "code",
   "execution_count": 89,
   "metadata": {},
   "outputs": [
    {
     "name": "stdout",
     "output_type": "stream",
     "text": [
      "RemoteTelemetry(ATMCS, 0, trajectory) falling behind; read 28 messages\n",
      "RemoteTelemetry(ATPtg, 0, currentTargetStatus) falling behind; read 100 messages\n",
      "RemoteTelemetry(ATDome, 0, position) falling behind; read 100 messages\n",
      "RemoteEvent(ATAOS, 0, detailedState) falling behind; read 40 messages\n",
      "RemoteTelemetry(ATPneumatics, 0, loadCell) falling behind; read 28 messages\n",
      "RemoteTelemetry(ATHexapod, 0, positionStatus) falling behind; read 28 messages\n",
      "RemoteEvent(ATDomeTrajectory, 0, heartbeat) falling behind; read 29 messages\n",
      "RemoteEvent(ATAOS, 0, m1CorrectionStarted) falling behind; read 20 messages\n",
      "RemoteTelemetry(ATPneumatics, 0, mainAirSourcePressure) falling behind; read 29 messages\n",
      "RemoteEvent(ATAOS, 0, m1CorrectionCompleted) falling behind; read 20 messages\n",
      "RemoteTelemetry(ATPneumatics, 0, m2AirPressure) falling behind; read 29 messages\n",
      "RemoteEvent(ATHexapod, 0, heartbeat) falling behind; read 28 messages\n",
      "RemoteEvent(ATAOS, 0, heartbeat) falling behind; read 28 messages\n",
      "RemoteTelemetry(ATPneumatics, 0, m1AirPressure) falling behind; read 29 messages\n",
      "RemoteEvent(ATPneumatics, 0, m1SetPressure) falling behind; read 20 messages\n",
      "RemoteEvent(ATPneumatics, 0, heartbeat) falling behind; read 29 messages\n"
     ]
    },
    {
     "data": {
      "text/plain": [
       "<lsst.ts.salobj.ddsutil.ATPtg_ackcmd_2d655b72 at 0x7f2ad7ff6550>"
      ]
     },
     "execution_count": 89,
     "metadata": {},
     "output_type": "execute_result"
    }
   ],
   "source": [
    "# await attcs.atptg.cmd_pointNewFile.start()\n",
    "await attcs.atptg.cmd_pointAddData.start()"
   ]
  },
  {
   "cell_type": "code",
   "execution_count": 97,
   "metadata": {},
   "outputs": [
    {
     "data": {
      "text/plain": [
       "<lsst.ts.salobj.ddsutil.ATPtg_ackcmd_2d655b72 at 0x7f2ae1024128>"
      ]
     },
     "execution_count": 97,
     "metadata": {},
     "output_type": "execute_result"
    }
   ],
   "source": [
    "await attcs.atptg.cmd_offsetRADec.set_start(off1=-30., off2=-40., num=0, type=0)"
   ]
  },
  {
   "cell_type": "markdown",
   "metadata": {},
   "source": [
    "# ATAOS - Hexapod equatin from Roberto\n",
    "\n",
    "0.5321cos(el)-4.57206   [mm]"
   ]
  },
  {
   "cell_type": "code",
   "execution_count": 99,
   "metadata": {},
   "outputs": [
    {
     "name": "stdout",
     "output_type": "stream",
     "text": [
      "RemoteEvent(ATHexapod, 0, heartbeat) falling behind; read 100 messages\n",
      "RemoteTelemetry(ATPtg, 0, mountStatus) falling behind; read 100 messages\n",
      "RemoteEvent(ATDomeTrajectory, 0, logMessage) falling behind; read 100 messages\n",
      "RemoteEvent(ATAOS, 0, m1CorrectionStarted) falling behind; read 100 messages\n",
      "RemoteEvent(ATAOS, 0, m1CorrectionCompleted) falling behind; read 100 messages\n",
      "RemoteTelemetry(ATPneumatics, 0, mainAirSourcePressure) falling behind; read 100 messages\n",
      "RemoteEvent(ATDomeTrajectory, 0, heartbeat) falling behind; read 100 messages\n",
      "RemoteEvent(ATDome, 0, shutterInPosition) falling behind; read 100 messages\n",
      "RemoteTelemetry(ATPneumatics, 0, m2AirPressure) falling behind; read 100 messages\n",
      "RemoteTelemetry(ATPtg, 0, timeAndDate) falling behind; read 100 messages\n",
      "RemoteEvent(ATAOS, 0, detailedState) falling behind; read 100 messages\n",
      "RemoteEvent(ATDome, 0, mainDoorState) falling behind; read 100 messages\n",
      "RemoteTelemetry(ATPtg, 0, skyEnvironment) falling behind; read 100 messages\n",
      "RemoteEvent(ATDome, 0, heartbeat) falling behind; read 100 messages\n",
      "RemoteEvent(ATPneumatics, 0, heartbeat) falling behind; read 100 messages\n",
      "RemoteTelemetry(ATPtg, 0, currentTimesToLimits) falling behind; read 100 messages\n",
      "ataos not enabled: <State.FAULT: 3>\n",
      "RemoteEvent(ATPtg, 0, weatherDataApplied) falling behind; read 100 messages\n"
     ]
    },
    {
     "data": {
      "text/plain": [
       "<lsst.ts.salobj.ddsutil.ATAOS_ackcmd_33d5c92b at 0x7f2ae1e0f588>"
      ]
     },
     "execution_count": 99,
     "metadata": {},
     "output_type": "execute_result"
    }
   ],
   "source": [
    "await attcs.ataos.cmd_disableCorrection.set_start(m1=True)"
   ]
  },
  {
   "cell_type": "code",
   "execution_count": 143,
   "metadata": {},
   "outputs": [
    {
     "name": "stdout",
     "output_type": "stream",
     "text": [
      "RemoteTelemetry(ATPtg, 0, currentTargetStatus) falling behind; read 100 messages\n",
      "RemoteEvent(ATDome, 0, heartbeat) falling behind; read 74 messages\n",
      "Gathering settings.\n",
      "RemoteTelemetry(ATHexapod, 0, positionStatus) falling behind; read 73 messages\n",
      "RemoteEvent(ATAOS, 0, heartbeat) falling behind; read 74 messages\n",
      "RemoteTelemetry(ATPneumatics, 0, loadCell) falling behind; read 74 messages\n",
      "RemoteTelemetry(ATDome, 0, position) falling behind; read 100 messages\n",
      "RemoteEvent(ATDomeTrajectory, 0, heartbeat) falling behind; read 74 messages\n",
      "RemoteTelemetry(ATMCS, 0, trajectory) falling behind; read 75 messages\n",
      "RemoteTelemetry(ATPtg, 0, timeAndDate) falling behind; read 100 messages\n",
      "RemoteEvent(ATDome, 0, shutterInPosition) falling behind; read 100 messages\n",
      "RemoteTelemetry(ATMCS, 0, torqueDemand) falling behind; read 75 messages\n",
      "RemoteTelemetry(ATPtg, 0, skyEnvironment) falling behind; read 15 messages\n",
      "RemoteEvent(ATAOS, 0, m1CorrectionStarted) falling behind; read 18 messages\n",
      "RemoteTelemetry(ATPneumatics, 0, mainAirSourcePressure) falling behind; read 75 messages\n",
      "RemoteEvent(ATDome, 0, mainDoorState) falling behind; read 100 messages\n",
      "RemoteTelemetry(ATMCS, 0, nasymth_m3_mountMotorEncoders) falling behind; read 76 messages\n",
      "RemoteTelemetry(ATPtg, 0, mountStatus) falling behind; read 100 messages\n",
      "RemoteEvent(ATAOS, 0, m1CorrectionCompleted) falling behind; read 18 messages\n",
      "RemoteTelemetry(ATPneumatics, 0, m2AirPressure) falling behind; read 75 messages\n",
      "RemoteEvent(ATHexapod, 0, heartbeat) falling behind; read 75 messages\n",
      "RemoteTelemetry(ATMCS, 0, mount_Nasmyth_Encoders) falling behind; read 76 messages\n",
      "RemoteTelemetry(ATPtg, 0, guidingAndOffsets) falling behind; read 100 messages\n",
      "RemoteEvent(ATAOS, 0, detailedState) falling behind; read 36 messages\n",
      "RemoteTelemetry(ATPneumatics, 0, m1AirPressure) falling behind; read 76 messages\n",
      "Settings versions: {'ataos': 'm1_and_hex_20191212.yaml', 'atmcs': '', 'atptg': '', 'atpneumatics': '', 'athexapod': 'current', 'atdome': 'test.yaml', 'atdometrajectory': ''}\n",
      "Enabling all components\n",
      "Enabling  atmcs\n",
      "Enabling  atptg\n",
      "Enabling  ataos\n",
      "Enabling  atpneumatics\n",
      "Enabling  athexapod\n",
      "Enabling  atdome\n",
      "Enabling  atdometrajectory\n",
      "RemoteTelemetry(ATMCS, 0, mount_AzEl_Encoders) falling behind; read 76 messages\n",
      "RemoteTelemetry(ATPtg, 0, currentTimesToLimits) falling behind; read 15 messages\n",
      "RemoteEvent(ATPneumatics, 0, m1SetPressure) falling behind; read 18 messages\n",
      "RemoteTelemetry(ATMCS, 0, measuredTorque) falling behind; read 77 messages\n",
      "RemoteEvent(ATPneumatics, 0, heartbeat) falling behind; read 76 messages\n",
      "RemoteTelemetry(ATMCS, 0, measuredMotorVelocity) falling behind; read 77 messages\n",
      "RemoteTelemetry(ATMCS, 0, azEl_mountMotorEncoders) falling behind; read 77 messages\n",
      "atptg not enabled: <State.FAULT: 3>\n",
      "RemoteEvent(ATPtg, 0, mountDataWarning) falling behind; read 54 messages\n",
      "RemoteEvent(ATMCS, 0, heartbeat) falling behind; read 77 messages\n",
      "[atmcs]::[<State.FAULT: 3>, <State.STANDBY: 5>, <State.DISABLED: 1>, <State.ENABLED: 2>]\n",
      "[atptg]::[<State.ENABLED: 2>]\n",
      "[ataos]::[<State.ENABLED: 2>]\n",
      "[atpneumatics]::[<State.ENABLED: 2>]\n",
      "[athexapod]::[<State.ENABLED: 2>]\n",
      "[atdome]::[<State.ENABLED: 2>]\n",
      "[atdometrajectory]::[<State.ENABLED: 2>]\n",
      "All components enabled.\n"
     ]
    }
   ],
   "source": [
    "# await asyncio.sleep(5)\n",
    "# await salobj.set_summary_state(attcs.ataos, salobj.State.STANDBY)\n",
    "# await asyncio.sleep(5)\n",
    "await attcs.enable(settings={\n",
    "    'ataos': \"m1_and_hex_20191212.yaml\",\n",
    "    'atmcs': \"\",\n",
    "    'atptg': \"\",\n",
    "    'atpneumatics': \"\",\n",
    "    'athexapod': \"current\",\n",
    "    'atdome': \"test.yaml\",\n",
    "    'atdometrajectory': \"\"})"
   ]
  },
  {
   "cell_type": "code",
   "execution_count": 111,
   "metadata": {},
   "outputs": [
    {
     "name": "stdout",
     "output_type": "stream",
     "text": [
      "RemoteEvent(ATMCS, 0, heartbeat) falling behind; read 100 messages\n",
      "RemoteTelemetry(ATHexapod, 0, positionStatus) falling behind; read 31 messages\n"
     ]
    },
    {
     "data": {
      "text/plain": [
       "<lsst.ts.salobj.ddsutil.ATAOS_ackcmd_33d5c92b at 0x7f2ae179dac8>"
      ]
     },
     "execution_count": 111,
     "metadata": {},
     "output_type": "execute_result"
    }
   ],
   "source": [
    "await attcs.ataos.cmd_start.set_start(settingsToApply=\"m1_and_hex_20191212.yaml\")"
   ]
  },
  {
   "cell_type": "code",
   "execution_count": 117,
   "metadata": {},
   "outputs": [
    {
     "name": "stdout",
     "output_type": "stream",
     "text": [
      "RemoteEvent(ATMCS, 0, target) falling behind; read 100 messages\n",
      "RemoteEvent(ATDomeTrajectory, 0, logMessage) falling behind; read 100 messages\n",
      "RemoteTelemetry(ATDome, 0, position) falling behind; read 46 messages\n",
      "RemoteTelemetry(ATPtg, 0, currentTargetStatus) falling behind; read 47 messages\n",
      "RemoteEvent(ATDome, 0, shutterInPosition) falling behind; read 23 messages\n",
      "RemoteTelemetry(ATPneumatics, 0, mainAirSourcePressure) falling behind; read 10 messages\n",
      "RemoteTelemetry(ATPtg, 0, timeAndDate) falling behind; read 47 messages\n",
      "RemoteEvent(ATDome, 0, mainDoorState) falling behind; read 24 messages\n",
      "RemoteEvent(ATDomeTrajectory, 0, heartbeat) falling behind; read 10 messages\n",
      "RemoteTelemetry(ATPneumatics, 0, m2AirPressure) falling behind; read 10 messages\n",
      "RemoteTelemetry(ATPneumatics, 0, m1AirPressure) falling behind; read 10 messages\n",
      "RemoteTelemetry(ATPtg, 0, mountStatus) falling behind; read 49 messages\n",
      "RemoteEvent(ATPneumatics, 0, heartbeat) falling behind; read 10 messages\n",
      "RemoteTelemetry(ATPtg, 0, guidingAndOffsets) falling behind; read 49 messages\n",
      "RemoteTelemetry(ATMCS, 0, azEl_mountMotorEncoders) falling behind; read 10 messages\n",
      "RemoteEvent(ATMCS, 0, heartbeat) falling behind; read 10 messages\n"
     ]
    },
    {
     "data": {
      "text/plain": [
       "<lsst.ts.salobj.ddsutil.ATAOS_ackcmd_33d5c92b at 0x7f2ada244710>"
      ]
     },
     "execution_count": 117,
     "metadata": {},
     "output_type": "execute_result"
    }
   ],
   "source": [
    "await attcs.ataos.cmd_enableCorrection.set_start(m1=True, hexapod=False)"
   ]
  },
  {
   "cell_type": "code",
   "execution_count": 103,
   "metadata": {},
   "outputs": [
    {
     "name": "stdout",
     "output_type": "stream",
     "text": [
      "RemoteEvent(ATDomeTrajectory, 0, logMessage) falling behind; read 100 messages\n",
      "RemoteTelemetry(ATHexapod, 0, positionStatus) falling behind; read 43 messages\n",
      "RemoteTelemetry(ATPneumatics, 0, loadCell) falling behind; read 44 messages\n",
      "RemoteTelemetry(ATDome, 0, position) falling behind; read 100 messages\n",
      "RemoteTelemetry(ATPtg, 0, timeAndDate) falling behind; read 100 messages\n",
      "RemoteEvent(ATAOS, 0, m1CorrectionStarted) falling behind; read 30 messages\n",
      "RemoteEvent(ATHexapod, 0, heartbeat) falling behind; read 43 messages\n",
      "RemoteTelemetry(ATPneumatics, 0, mainAirSourcePressure) falling behind; read 44 messages\n",
      "RemoteTelemetry(ATMCS, 0, trajectory) falling behind; read 44 messages\n",
      "RemoteTelemetry(ATPtg, 0, mountStatus) falling behind; read 100 messages\n",
      "RemoteEvent(ATDomeTrajectory, 0, heartbeat) falling behind; read 44 messages\n",
      "RemoteEvent(ATAOS, 0, heartbeat) falling behind; read 43 messages\n",
      "RemoteTelemetry(ATMCS, 0, torqueDemand) falling behind; read 44 messages\n",
      "RemoteTelemetry(ATPtg, 0, guidingAndOffsets) falling behind; read 100 messages\n",
      "RemoteEvent(ATAOS, 0, detailedState) falling behind; read 62 messages\n",
      "RemoteTelemetry(ATMCS, 0, nasymth_m3_mountMotorEncoders) falling behind; read 44 messages\n",
      "RemoteEvent(ATDome, 0, heartbeat) falling behind; read 44 messages\n",
      "RemoteEvent(ATPneumatics, 0, m1SetPressure) falling behind; read 32 messages\n",
      "RemoteTelemetry(ATMCS, 0, mount_Nasmyth_Encoders) falling behind; read 45 messages\n",
      "RemoteTelemetry(ATPtg, 0, currentTargetStatus) falling behind; read 100 messages\n"
     ]
    },
    {
     "data": {
      "text/plain": [
       "<lsst.ts.salobj.ddsutil.ATAOS_ackcmd_33d5c92b at 0x7f2ae1065d30>"
      ]
     },
     "execution_count": 103,
     "metadata": {},
     "output_type": "execute_result"
    }
   ],
   "source": [
    "await attcs.ataos.cmd_enableCorrection.set_start(m1=False, hexapod=True)"
   ]
  },
  {
   "cell_type": "code",
   "execution_count": 104,
   "metadata": {},
   "outputs": [
    {
     "name": "stdout",
     "output_type": "stream",
     "text": [
      "RemoteTelemetry(ATHexapod, 0, positionStatus) falling behind; read 38 messages\n",
      "RemoteEvent(ATDomeTrajectory, 0, heartbeat) falling behind; read 39 messages\n",
      "RemoteEvent(ATHexapod, 0, heartbeat) falling behind; read 39 messages\n"
     ]
    },
    {
     "data": {
      "text/plain": [
       "<lsst.ts.salobj.ddsutil.ATAOS_ackcmd_33d5c92b at 0x7f2ae164d748>"
      ]
     },
     "execution_count": 104,
     "metadata": {},
     "output_type": "execute_result"
    }
   ],
   "source": [
    "await attcs.ataos.cmd_disableCorrection.set_start(hexapod=True)"
   ]
  },
  {
   "cell_type": "markdown",
   "metadata": {},
   "source": [
    "ATAOS is now correcting Hexapod"
   ]
  },
  {
   "cell_type": "code",
   "execution_count": 114,
   "metadata": {},
   "outputs": [
    {
     "name": "stdout",
     "output_type": "stream",
     "text": [
      "RemoteTelemetry(ATDome, 0, position) falling behind; read 99 messages\n",
      "RemoteEvent(ATMCS, 0, target) falling behind; read 100 messages\n",
      "RemoteEvent(ATDomeTrajectory, 0, logMessage) falling behind; read 100 messages\n",
      "RemoteTelemetry(ATPtg, 0, timeAndDate) falling behind; read 100 messages\n",
      "RemoteTelemetry(ATHexapod, 0, positionStatus) falling behind; read 21 messages\n",
      "RemoteTelemetry(ATPneumatics, 0, loadCell) falling behind; read 21 messages\n",
      "RemoteEvent(ATAOS, 0, heartbeat) falling behind; read 21 messages\n",
      "RemoteEvent(ATDome, 0, shutterInPosition) falling behind; read 40 messages\n",
      "RemoteTelemetry(ATMCS, 0, trajectory) falling behind; read 20 messages\n",
      "RemoteTelemetry(ATPneumatics, 0, mainAirSourcePressure) falling behind; read 21 messages\n",
      "RemoteEvent(ATDome, 0, mainDoorState) falling behind; read 40 messages\n",
      "RemoteEvent(ATDomeTrajectory, 0, heartbeat) falling behind; read 20 messages\n",
      "RemoteTelemetry(ATMCS, 0, torqueDemand) falling behind; read 21 messages\n",
      "RemoteTelemetry(ATPneumatics, 0, m2AirPressure) falling behind; read 21 messages\n",
      "RemoteEvent(ATDome, 0, heartbeat) falling behind; read 21 messages\n",
      "RemoteTelemetry(ATPtg, 0, mountStatus) falling behind; read 100 messages\n",
      "RemoteEvent(ATHexapod, 0, heartbeat) falling behind; read 21 messages\n",
      "RemoteTelemetry(ATMCS, 0, nasymth_m3_mountMotorEncoders) falling behind; read 21 messages\n",
      "RemoteTelemetry(ATPneumatics, 0, m1AirPressure) falling behind; read 21 messages\n",
      "RemoteTelemetry(ATPtg, 0, guidingAndOffsets) falling behind; read 100 messages\n",
      "RemoteTelemetry(ATMCS, 0, mount_Nasmyth_Encoders) falling behind; read 21 messages\n",
      "RemoteTelemetry(ATMCS, 0, mount_AzEl_Encoders) falling behind; read 21 messages\n",
      "RemoteEvent(ATPneumatics, 0, heartbeat) falling behind; read 21 messages\n",
      "RemoteTelemetry(ATPtg, 0, currentTargetStatus) falling behind; read 100 messages\n",
      "RemoteTelemetry(ATMCS, 0, measuredTorque) falling behind; read 21 messages\n",
      "RemoteTelemetry(ATMCS, 0, measuredMotorVelocity) falling behind; read 21 messages\n",
      "RemoteEvent(ATPtg, 0, mountDataWarning) falling behind; read 10 messages\n",
      "RemoteTelemetry(ATMCS, 0, azEl_mountMotorEncoders) falling behind; read 21 messages\n",
      "RemoteEvent(ATMCS, 0, heartbeat) falling behind; read 22 messages\n"
     ]
    },
    {
     "data": {
      "text/plain": [
       "<lsst.ts.salobj.ddsutil.ATPtg_ackcmd_2d655b72 at 0x7f2acdd9bc50>"
      ]
     },
     "execution_count": 114,
     "metadata": {},
     "output_type": "execute_result"
    }
   ],
   "source": [
    "await attcs.atptg.cmd_offsetRADec.set_start(off1=0., off2=0., num=0, type=0)"
   ]
  },
  {
   "cell_type": "code",
   "execution_count": 118,
   "metadata": {},
   "outputs": [
    {
     "name": "stdout",
     "output_type": "stream",
     "text": [
      "RemoteEvent(ATMCS, 0, target) falling behind; read 100 messages\n",
      "RemoteEvent(ATDomeTrajectory, 0, logMessage) falling behind; read 100 messages\n",
      "RemoteEvent(ATAOS, 0, heartbeat) falling behind; read 32 messages\n",
      "RemoteTelemetry(ATPtg, 0, currentTargetStatus) falling behind; read 100 messages\n",
      "RemoteTelemetry(ATDome, 0, position) falling behind; read 100 messages\n",
      "RemoteEvent(ATHexapod, 0, heartbeat) falling behind; read 32 messages\n",
      "RemoteTelemetry(ATPneumatics, 0, loadCell) falling behind; read 31 messages\n",
      "RemoteTelemetry(ATMCS, 0, trajectory) falling behind; read 32 messages\n",
      "RemoteTelemetry(ATHexapod, 0, positionStatus) falling behind; read 32 messages\n",
      "RemoteTelemetry(ATPtg, 0, timeAndDate) falling behind; read 100 messages\n",
      "RemoteEvent(ATDomeTrajectory, 0, heartbeat) falling behind; read 32 messages\n",
      "RemoteTelemetry(ATMCS, 0, torqueDemand) falling behind; read 32 messages\n",
      "RemoteTelemetry(ATPneumatics, 0, mainAirSourcePressure) falling behind; read 32 messages\n",
      "RemoteTelemetry(ATMCS, 0, nasymth_m3_mountMotorEncoders) falling behind; read 32 messages\n",
      "RemoteTelemetry(ATPtg, 0, mountStatus) falling behind; read 100 messages\n",
      "RemoteEvent(ATDome, 0, shutterInPosition) falling behind; read 81 messages\n",
      "RemoteTelemetry(ATPneumatics, 0, m2AirPressure) falling behind; read 32 messages\n",
      "RemoteTelemetry(ATMCS, 0, mount_Nasmyth_Encoders) falling behind; read 33 messages\n",
      "RemoteTelemetry(ATPtg, 0, guidingAndOffsets) falling behind; read 100 messages\n",
      "RemoteEvent(ATAOS, 0, detailedState) falling behind; read 16 messages\n",
      "RemoteEvent(ATDome, 0, mainDoorState) falling behind; read 81 messages\n",
      "RemoteTelemetry(ATPneumatics, 0, m1AirPressure) falling behind; read 32 messages\n",
      "RemoteTelemetry(ATMCS, 0, mount_AzEl_Encoders) falling behind; read 33 messages\n",
      "RemoteEvent(ATDome, 0, heartbeat) falling behind; read 33 messages\n",
      "RemoteTelemetry(ATMCS, 0, measuredTorque) falling behind; read 33 messages\n",
      "RemoteTelemetry(ATMCS, 0, measuredMotorVelocity) falling behind; read 33 messages\n",
      "RemoteEvent(ATPneumatics, 0, heartbeat) falling behind; read 33 messages\n",
      "RemoteEvent(ATPtg, 0, mountDataWarning) falling behind; read 30 messages\n",
      "RemoteEvent(ATMCS, 0, heartbeat) falling behind; read 33 messages\n"
     ]
    },
    {
     "data": {
      "text/plain": [
       "<lsst.ts.salobj.ddsutil.ATPtg_ackcmd_2d655b72 at 0x7f2ae176e470>"
      ]
     },
     "execution_count": 118,
     "metadata": {},
     "output_type": "execute_result"
    }
   ],
   "source": [
    "await attcs.atptg.cmd_pointNewFile.start()\n",
    "await attcs.atptg.cmd_pointAddData.start()"
   ]
  },
  {
   "cell_type": "markdown",
   "metadata": {},
   "source": [
    "Stop for coffee"
   ]
  },
  {
   "cell_type": "code",
   "execution_count": 119,
   "metadata": {},
   "outputs": [
    {
     "name": "stdout",
     "output_type": "stream",
     "text": [
      "RemoteEvent(ATDomeTrajectory, 0, logMessage) falling behind; read 100 messages\n",
      "RemoteTelemetry(ATHexapod, 0, positionStatus) falling behind; read 88 messages\n",
      "RemoteEvent(ATAOS, 0, heartbeat) falling behind; read 89 messages\n",
      "RemoteEvent(ATDomeTrajectory, 0, heartbeat) falling behind; read 90 messages\n",
      "RemoteTelemetry(ATDome, 0, position) falling behind; read 100 messages\n",
      "RemoteTelemetry(ATPneumatics, 0, mainAirSourcePressure) falling behind; read 90 messages\n",
      "RemoteEvent(ATAOS, 0, m1CorrectionStarted) falling behind; read 21 messages\n",
      "RemoteEvent(ATDome, 0, shutterInPosition) falling behind; read 100 messages\n",
      "RemoteEvent(ATHexapod, 0, heartbeat) falling behind; read 90 messages\n",
      "RemoteTelemetry(ATPneumatics, 0, m2AirPressure) falling behind; read 91 messages\n",
      "RemoteTelemetry(ATPtg, 0, skyEnvironment) falling behind; read 18 messages\n",
      "RemoteEvent(ATAOS, 0, m1CorrectionCompleted) falling behind; read 21 messages\n",
      "RemoteEvent(ATDome, 0, mainDoorState) falling behind; read 100 messages\n",
      "RemoteTelemetry(ATPneumatics, 0, m1AirPressure) falling behind; read 91 messages\n",
      "RemoteTelemetry(ATMCS, 0, mount_Nasmyth_Encoders) falling behind; read 91 messages\n",
      "RemoteEvent(ATPneumatics, 0, m1SetPressure) falling behind; read 21 messages\n",
      "RemoteTelemetry(ATMCS, 0, mount_AzEl_Encoders) falling behind; read 91 messages\n",
      "RemoteTelemetry(ATPtg, 0, currentTimesToLimits) falling behind; read 18 messages\n",
      "RemoteTelemetry(ATMCS, 0, measuredTorque) falling behind; read 92 messages\n",
      "RemoteTelemetry(ATMCS, 0, measuredMotorVelocity) falling behind; read 92 messages\n",
      "RemoteEvent(ATPtg, 0, weatherDataApplied) falling behind; read 10 messages\n",
      "RemoteTelemetry(ATMCS, 0, azEl_mountMotorEncoders) falling behind; read 92 messages\n"
     ]
    },
    {
     "data": {
      "text/plain": [
       "<lsst.ts.salobj.ddsutil.ATPtg_ackcmd_2d655b72 at 0x7f2adcf7ff98>"
      ]
     },
     "execution_count": 119,
     "metadata": {},
     "output_type": "execute_result"
    }
   ],
   "source": [
    "await attcs.atptg.cmd_stopTracking.start()"
   ]
  },
  {
   "cell_type": "markdown",
   "metadata": {},
   "source": [
    "# ups04 Eri: 04 17 53.6624067 -33 47 54.056903"
   ]
  },
  {
   "cell_type": "code",
   "execution_count": 121,
   "metadata": {},
   "outputs": [
    {
     "name": "stdout",
     "output_type": "stream",
     "text": [
      "RemoteTelemetry(ATDome, 0, position) falling behind; read 100 messages\n",
      "RemoteEvent(ATDomeTrajectory, 0, heartbeat) falling behind; read 100 messages\n",
      "RemoteTelemetry(ATHexapod, 0, positionStatus) falling behind; read 100 messages\n",
      "RemoteEvent(ATAOS, 0, heartbeat) falling behind; read 100 messages\n",
      "Flushing events\n",
      "Scheduling check coroutines\n",
      "Sending command\n",
      "RemoteTelemetry(ATPneumatics, 0, mainAirSourcePressure) falling behind; read 100 messages\n",
      "RemoteEvent(ATAOS, 0, m1CorrectionStarted) falling behind; read 100 messages\n",
      "falling behind; queue contains 11 elements\n",
      "Got False\n",
      "ATDome not in position\n",
      "Got True\n",
      "ATDome in position.\n",
      "RemoteEvent(ATHexapod, 0, heartbeat) falling behind; read 100 messages\n",
      "RemoteTelemetry(ATMCS, 0, torqueDemand) falling behind; read 100 messages\n",
      "RemoteEvent(ATDome, 0, shutterInPosition) falling behind; read 100 messages\n",
      "RemoteTelemetry(ATPneumatics, 0, m2AirPressure) falling behind; read 100 messages\n",
      "RemoteEvent(ATAOS, 0, m1CorrectionCompleted) falling behind; read 100 messages\n",
      "RemoteTelemetry(ATPtg, 0, mountStatus) falling behind; read 100 messages\n",
      "RemoteTelemetry(ATMCS, 0, nasymth_m3_mountMotorEncoders) falling behind; read 100 messages\n",
      "RemoteTelemetry(ATPneumatics, 0, m1AirPressure) falling behind; read 100 messages\n",
      "RemoteTelemetry(ATPtg, 0, guidingAndOffsets) falling behind; read 100 messages\n",
      "RemoteTelemetry(ATMCS, 0, mount_Nasmyth_Encoders) falling behind; read 100 messages\n",
      "RemoteEvent(ATDome, 0, heartbeat) falling behind; read 100 messages\n",
      "RemoteTelemetry(ATMCS, 0, mount_AzEl_Encoders) falling behind; read 100 messages\n",
      "RemoteEvent(ATPneumatics, 0, m1SetPressure) falling behind; read 100 messages\n",
      "RemoteTelemetry(ATPtg, 0, currentTargetStatus) falling behind; read 100 messages\n",
      "RemoteEvent(ATPneumatics, 0, heartbeat) falling behind; read 100 messages\n",
      "RemoteEvent(ATMCS, 0, heartbeat) falling behind; read 100 messages\n",
      "process as completed...\n",
      "[Telescope] delta Alt = -001.189 | delta Az= -170.536 [Dome] delta Az = -169.407\n",
      "[Telescope] delta Alt = -000.864 | delta Az= -174.528 [Dome] delta Az = -167.771\n",
      "[Telescope] delta Alt = -000.356 | delta Az= -178.529 [Dome] delta Az = -165.072\n",
      "[Telescope] delta Alt = -000.039 | delta Az= +177.468 [Dome] delta Az = -161.434\n",
      "[Telescope] delta Alt = -000.003 | delta Az= +173.468 [Dome] delta Az = -156.875\n",
      "[Telescope] delta Alt = -000.003 | delta Az= +169.467 [Dome] delta Az = -151.977\n",
      "[Telescope] delta Alt = -000.003 | delta Az= +165.464 [Dome] delta Az = -145.708\n",
      "[Telescope] delta Alt = -000.003 | delta Az= +161.464 [Dome] delta Az = -138.799\n",
      "[Telescope] delta Alt = -000.003 | delta Az= +157.461 [Dome] delta Az = -131.891\n",
      "[Telescope] delta Alt = -000.003 | delta Az= +153.460 [Dome] delta Az = -125.602\n",
      "[Telescope] delta Alt = -000.003 | delta Az= +149.460 [Dome] delta Az = -118.674\n",
      "[Telescope] delta Alt = -000.003 | delta Az= +145.457 [Dome] delta Az = -111.755\n",
      "[Telescope] delta Alt = -000.003 | delta Az= +141.456 [Dome] delta Az = -104.847\n",
      "[Telescope] delta Alt = -000.003 | delta Az= +137.455 [Dome] delta Az = -097.888\n"
     ]
    },
    {
     "ename": "TimeoutError",
     "evalue": "",
     "output_type": "error",
     "traceback": [
      "\u001b[0;31m\u001b[0m",
      "\u001b[0;31mTimeoutError\u001b[0mTraceback (most recent call last)",
      "\u001b[0;32m<ipython-input-121-f4bdafe17ee0>\u001b[0m in \u001b[0;36masync-def-wrapper\u001b[0;34m()\u001b[0m\n",
      "\u001b[0;32m~/repos/ts_standardscripts/python/lsst/ts/standardscripts/auxtel/attcs.py\u001b[0m in \u001b[0;36mslew_icrs\u001b[0;34m(self, ra, dec, rot_sky, rot_pa, target_name, slew_timeout)\u001b[0m\n\u001b[1;32m    217\u001b[0m                         \u001b[0mrot_frame\u001b[0m\u001b[0;34m=\u001b[0m\u001b[0mATPtg\u001b[0m\u001b[0;34m.\u001b[0m\u001b[0mRotFrame\u001b[0m\u001b[0;34m.\u001b[0m\u001b[0mTARGET\u001b[0m\u001b[0;34m,\u001b[0m\u001b[0;34m\u001b[0m\u001b[0;34m\u001b[0m\u001b[0m\n\u001b[1;32m    218\u001b[0m                         \u001b[0mrot_mode\u001b[0m\u001b[0;34m=\u001b[0m\u001b[0mATPtg\u001b[0m\u001b[0;34m.\u001b[0m\u001b[0mRotMode\u001b[0m\u001b[0;34m.\u001b[0m\u001b[0mFIELD\u001b[0m\u001b[0;34m,\u001b[0m\u001b[0;34m\u001b[0m\u001b[0;34m\u001b[0m\u001b[0m\n\u001b[0;32m--> 219\u001b[0;31m                         slew_timeout=slew_timeout)\n\u001b[0m\u001b[1;32m    220\u001b[0m \u001b[0;34m\u001b[0m\u001b[0m\n\u001b[1;32m    221\u001b[0m     async def slew(self, ra, dec, rotPA=0., target_name=\"slew_icrs\",\n",
      "\u001b[0;32m~/repos/ts_standardscripts/python/lsst/ts/standardscripts/auxtel/attcs.py\u001b[0m in \u001b[0;36mslew\u001b[0;34m(self, ra, dec, rotPA, target_name, target_instance, frame, epoch, equinox, parallax, pmRA, pmDec, rv, dRA, dDec, rot_frame, rot_mode, slew_timeout)\u001b[0m\n\u001b[1;32m    262\u001b[0m \u001b[0;34m\u001b[0m\u001b[0m\n\u001b[1;32m    263\u001b[0m         await self._slew_to(self.atptg.cmd_raDecTarget,\n\u001b[0;32m--> 264\u001b[0;31m                             slew_timeout=slew_timeout)\n\u001b[0m\u001b[1;32m    265\u001b[0m \u001b[0;34m\u001b[0m\u001b[0m\n\u001b[1;32m    266\u001b[0m     \u001b[0;32masync\u001b[0m \u001b[0;32mdef\u001b[0m \u001b[0mslew_to_planet\u001b[0m\u001b[0;34m(\u001b[0m\u001b[0mself\u001b[0m\u001b[0;34m,\u001b[0m \u001b[0mplanet\u001b[0m\u001b[0;34m,\u001b[0m \u001b[0mrot_pa\u001b[0m\u001b[0;34m=\u001b[0m\u001b[0;36m0.\u001b[0m\u001b[0;34m,\u001b[0m \u001b[0mslew_timeout\u001b[0m\u001b[0;34m=\u001b[0m\u001b[0;36m1200.\u001b[0m\u001b[0;34m)\u001b[0m\u001b[0;34m:\u001b[0m\u001b[0;34m\u001b[0m\u001b[0;34m\u001b[0m\u001b[0m\n",
      "\u001b[0;32m~/repos/ts_standardscripts/python/lsst/ts/standardscripts/auxtel/attcs.py\u001b[0m in \u001b[0;36m_slew_to\u001b[0;34m(self, slew_cmd, slew_timeout)\u001b[0m\n\u001b[1;32m    698\u001b[0m         \u001b[0;32mfor\u001b[0m \u001b[0mres\u001b[0m \u001b[0;32min\u001b[0m \u001b[0masyncio\u001b[0m\u001b[0;34m.\u001b[0m\u001b[0mas_completed\u001b[0m\u001b[0;34m(\u001b[0m\u001b[0mcoro_list\u001b[0m\u001b[0;34m)\u001b[0m\u001b[0;34m:\u001b[0m\u001b[0;34m\u001b[0m\u001b[0;34m\u001b[0m\u001b[0m\n\u001b[1;32m    699\u001b[0m             \u001b[0;32mtry\u001b[0m\u001b[0;34m:\u001b[0m\u001b[0;34m\u001b[0m\u001b[0;34m\u001b[0m\u001b[0m\n\u001b[0;32m--> 700\u001b[0;31m                 \u001b[0mret_val\u001b[0m \u001b[0;34m=\u001b[0m \u001b[0;32mawait\u001b[0m \u001b[0mres\u001b[0m\u001b[0;34m\u001b[0m\u001b[0;34m\u001b[0m\u001b[0m\n\u001b[0m\u001b[1;32m    701\u001b[0m                 \u001b[0mself\u001b[0m\u001b[0;34m.\u001b[0m\u001b[0mlog\u001b[0m\u001b[0;34m.\u001b[0m\u001b[0mdebug\u001b[0m\u001b[0;34m(\u001b[0m\u001b[0mret_val\u001b[0m\u001b[0;34m)\u001b[0m\u001b[0;34m\u001b[0m\u001b[0;34m\u001b[0m\u001b[0m\n\u001b[1;32m    702\u001b[0m             \u001b[0;32mexcept\u001b[0m \u001b[0mRuntimeError\u001b[0m \u001b[0;32mas\u001b[0m \u001b[0mrte\u001b[0m\u001b[0;34m:\u001b[0m\u001b[0;34m\u001b[0m\u001b[0;34m\u001b[0m\u001b[0m\n",
      "\u001b[0;32m/opt/lsst/software/stack/python/miniconda3-4.5.12/envs/lsst-scipipe-4d7b902/lib/python3.7/asyncio/tasks.py\u001b[0m in \u001b[0;36m_wait_for_one\u001b[0;34m()\u001b[0m\n\u001b[1;32m    531\u001b[0m             \u001b[0;31m# Dummy value from _on_timeout().\u001b[0m\u001b[0;34m\u001b[0m\u001b[0;34m\u001b[0m\u001b[0;34m\u001b[0m\u001b[0m\n\u001b[1;32m    532\u001b[0m             \u001b[0;32mraise\u001b[0m \u001b[0mfutures\u001b[0m\u001b[0;34m.\u001b[0m\u001b[0mTimeoutError\u001b[0m\u001b[0;34m\u001b[0m\u001b[0;34m\u001b[0m\u001b[0m\n\u001b[0;32m--> 533\u001b[0;31m         \u001b[0;32mreturn\u001b[0m \u001b[0mf\u001b[0m\u001b[0;34m.\u001b[0m\u001b[0mresult\u001b[0m\u001b[0;34m(\u001b[0m\u001b[0;34m)\u001b[0m  \u001b[0;31m# May raise f.exception().\u001b[0m\u001b[0;34m\u001b[0m\u001b[0;34m\u001b[0m\u001b[0m\n\u001b[0m\u001b[1;32m    534\u001b[0m \u001b[0;34m\u001b[0m\u001b[0m\n\u001b[1;32m    535\u001b[0m     \u001b[0;32mfor\u001b[0m \u001b[0mf\u001b[0m \u001b[0;32min\u001b[0m \u001b[0mtodo\u001b[0m\u001b[0;34m:\u001b[0m\u001b[0;34m\u001b[0m\u001b[0;34m\u001b[0m\u001b[0m\n",
      "\u001b[0;32m~/repos/ts_standardscripts/python/lsst/ts/standardscripts/auxtel/attcs.py\u001b[0m in \u001b[0;36mwait_for_inposition\u001b[0;34m(self, timeout)\u001b[0m\n\u001b[1;32m    780\u001b[0m             \u001b[0mwait_tasks\u001b[0m\u001b[0;34m.\u001b[0m\u001b[0mappend\u001b[0m\u001b[0;34m(\u001b[0m\u001b[0mself\u001b[0m\u001b[0;34m.\u001b[0m\u001b[0mwait_for_atdome_inposition\u001b[0m\u001b[0;34m(\u001b[0m\u001b[0mtimeout\u001b[0m\u001b[0;34m)\u001b[0m\u001b[0;34m)\u001b[0m\u001b[0;34m\u001b[0m\u001b[0;34m\u001b[0m\u001b[0m\n\u001b[1;32m    781\u001b[0m \u001b[0;34m\u001b[0m\u001b[0m\n\u001b[0;32m--> 782\u001b[0;31m         \u001b[0mstatus\u001b[0m \u001b[0;34m=\u001b[0m \u001b[0;32mawait\u001b[0m \u001b[0masyncio\u001b[0m\u001b[0;34m.\u001b[0m\u001b[0mgather\u001b[0m\u001b[0;34m(\u001b[0m\u001b[0;34m*\u001b[0m\u001b[0mwait_tasks\u001b[0m\u001b[0;34m)\u001b[0m\u001b[0;34m\u001b[0m\u001b[0;34m\u001b[0m\u001b[0m\n\u001b[0m\u001b[1;32m    783\u001b[0m \u001b[0;34m\u001b[0m\u001b[0m\n\u001b[1;32m    784\u001b[0m         \u001b[0;32mreturn\u001b[0m \u001b[0;34mf\"{status!r}\"\u001b[0m\u001b[0;34m\u001b[0m\u001b[0;34m\u001b[0m\u001b[0m\n",
      "\u001b[0;32m~/repos/ts_standardscripts/python/lsst/ts/standardscripts/auxtel/attcs.py\u001b[0m in \u001b[0;36mwait_for_atmcs_inposition\u001b[0;34m(self, timeout)\u001b[0m\n\u001b[1;32m    806\u001b[0m \u001b[0;34m\u001b[0m\u001b[0m\n\u001b[1;32m    807\u001b[0m             in_position = await self.atmcs.evt_allAxesInPosition.next(flush=False,\n\u001b[0;32m--> 808\u001b[0;31m                                                                       timeout=timeout)\n\u001b[0m\u001b[1;32m    809\u001b[0m             \u001b[0mself\u001b[0m\u001b[0;34m.\u001b[0m\u001b[0mlog\u001b[0m\u001b[0;34m.\u001b[0m\u001b[0minfo\u001b[0m\u001b[0;34m(\u001b[0m\u001b[0;34mf\"Got {in_position.inPosition}\"\u001b[0m\u001b[0;34m)\u001b[0m\u001b[0;34m\u001b[0m\u001b[0;34m\u001b[0m\u001b[0m\n\u001b[1;32m    810\u001b[0m             \u001b[0;32mif\u001b[0m \u001b[0min_position\u001b[0m\u001b[0;34m.\u001b[0m\u001b[0minPosition\u001b[0m\u001b[0;34m:\u001b[0m\u001b[0;34m\u001b[0m\u001b[0;34m\u001b[0m\u001b[0m\n",
      "\u001b[0;32m~/repos/ts_salobj/python/lsst/ts/salobj/topics/read_topic.py\u001b[0m in \u001b[0;36mnext\u001b[0;34m(self, flush, timeout)\u001b[0m\n\u001b[1;32m    389\u001b[0m         \u001b[0;32mif\u001b[0m \u001b[0mflush\u001b[0m\u001b[0;34m:\u001b[0m\u001b[0;34m\u001b[0m\u001b[0;34m\u001b[0m\u001b[0m\n\u001b[1;32m    390\u001b[0m             \u001b[0mself\u001b[0m\u001b[0;34m.\u001b[0m\u001b[0mflush\u001b[0m\u001b[0;34m(\u001b[0m\u001b[0;34m)\u001b[0m\u001b[0;34m\u001b[0m\u001b[0;34m\u001b[0m\u001b[0m\n\u001b[0;32m--> 391\u001b[0;31m         \u001b[0;32mreturn\u001b[0m \u001b[0;32mawait\u001b[0m \u001b[0mself\u001b[0m\u001b[0;34m.\u001b[0m\u001b[0m_next\u001b[0m\u001b[0;34m(\u001b[0m\u001b[0mtimeout\u001b[0m\u001b[0;34m=\u001b[0m\u001b[0mtimeout\u001b[0m\u001b[0;34m)\u001b[0m\u001b[0;34m\u001b[0m\u001b[0;34m\u001b[0m\u001b[0m\n\u001b[0m\u001b[1;32m    392\u001b[0m \u001b[0;34m\u001b[0m\u001b[0m\n\u001b[1;32m    393\u001b[0m     \u001b[0;32masync\u001b[0m \u001b[0;32mdef\u001b[0m \u001b[0m_next\u001b[0m\u001b[0;34m(\u001b[0m\u001b[0mself\u001b[0m\u001b[0;34m,\u001b[0m \u001b[0;34m*\u001b[0m\u001b[0;34m,\u001b[0m \u001b[0mtimeout\u001b[0m\u001b[0;34m=\u001b[0m\u001b[0;32mNone\u001b[0m\u001b[0;34m)\u001b[0m\u001b[0;34m:\u001b[0m\u001b[0;34m\u001b[0m\u001b[0;34m\u001b[0m\u001b[0m\n",
      "\u001b[0;32m~/repos/ts_salobj/python/lsst/ts/salobj/topics/read_topic.py\u001b[0m in \u001b[0;36m_next\u001b[0;34m(self, timeout)\u001b[0m\n\u001b[1;32m    402\u001b[0m         \u001b[0;32mif\u001b[0m \u001b[0mself\u001b[0m\u001b[0;34m.\u001b[0m\u001b[0m_next_task\u001b[0m\u001b[0;34m.\u001b[0m\u001b[0mdone\u001b[0m\u001b[0;34m(\u001b[0m\u001b[0;34m)\u001b[0m\u001b[0;34m:\u001b[0m\u001b[0;34m\u001b[0m\u001b[0;34m\u001b[0m\u001b[0m\n\u001b[1;32m    403\u001b[0m             \u001b[0mself\u001b[0m\u001b[0;34m.\u001b[0m\u001b[0m_next_task\u001b[0m \u001b[0;34m=\u001b[0m \u001b[0masyncio\u001b[0m\u001b[0;34m.\u001b[0m\u001b[0mFuture\u001b[0m\u001b[0;34m(\u001b[0m\u001b[0;34m)\u001b[0m\u001b[0;34m\u001b[0m\u001b[0;34m\u001b[0m\u001b[0m\n\u001b[0;32m--> 404\u001b[0;31m         \u001b[0;32mawait\u001b[0m \u001b[0masyncio\u001b[0m\u001b[0;34m.\u001b[0m\u001b[0mwait_for\u001b[0m\u001b[0;34m(\u001b[0m\u001b[0mself\u001b[0m\u001b[0;34m.\u001b[0m\u001b[0m_next_task\u001b[0m\u001b[0;34m,\u001b[0m \u001b[0mtimeout\u001b[0m\u001b[0;34m=\u001b[0m\u001b[0mtimeout\u001b[0m\u001b[0;34m)\u001b[0m\u001b[0;34m\u001b[0m\u001b[0;34m\u001b[0m\u001b[0m\n\u001b[0m\u001b[1;32m    405\u001b[0m         \u001b[0;32mreturn\u001b[0m \u001b[0mself\u001b[0m\u001b[0;34m.\u001b[0m\u001b[0m_data_queue\u001b[0m\u001b[0;34m.\u001b[0m\u001b[0mpopleft\u001b[0m\u001b[0;34m(\u001b[0m\u001b[0;34m)\u001b[0m\u001b[0;34m\u001b[0m\u001b[0;34m\u001b[0m\u001b[0m\n\u001b[1;32m    406\u001b[0m \u001b[0;34m\u001b[0m\u001b[0m\n",
      "\u001b[0;32m/opt/lsst/software/stack/python/miniconda3-4.5.12/envs/lsst-scipipe-4d7b902/lib/python3.7/asyncio/tasks.py\u001b[0m in \u001b[0;36mwait_for\u001b[0;34m(fut, timeout, loop)\u001b[0m\n\u001b[1;32m    421\u001b[0m             \u001b[0;31m# See https://bugs.python.org/issue32751\u001b[0m\u001b[0;34m\u001b[0m\u001b[0;34m\u001b[0m\u001b[0;34m\u001b[0m\u001b[0m\n\u001b[1;32m    422\u001b[0m             \u001b[0;32mawait\u001b[0m \u001b[0m_cancel_and_wait\u001b[0m\u001b[0;34m(\u001b[0m\u001b[0mfut\u001b[0m\u001b[0;34m,\u001b[0m \u001b[0mloop\u001b[0m\u001b[0;34m=\u001b[0m\u001b[0mloop\u001b[0m\u001b[0;34m)\u001b[0m\u001b[0;34m\u001b[0m\u001b[0;34m\u001b[0m\u001b[0m\n\u001b[0;32m--> 423\u001b[0;31m             \u001b[0;32mraise\u001b[0m \u001b[0mfutures\u001b[0m\u001b[0;34m.\u001b[0m\u001b[0mTimeoutError\u001b[0m\u001b[0;34m(\u001b[0m\u001b[0;34m)\u001b[0m\u001b[0;34m\u001b[0m\u001b[0;34m\u001b[0m\u001b[0m\n\u001b[0m\u001b[1;32m    424\u001b[0m     \u001b[0;32mfinally\u001b[0m\u001b[0;34m:\u001b[0m\u001b[0;34m\u001b[0m\u001b[0;34m\u001b[0m\u001b[0m\n\u001b[1;32m    425\u001b[0m         \u001b[0mtimeout_handle\u001b[0m\u001b[0;34m.\u001b[0m\u001b[0mcancel\u001b[0m\u001b[0;34m(\u001b[0m\u001b[0;34m)\u001b[0m\u001b[0;34m\u001b[0m\u001b[0;34m\u001b[0m\u001b[0m\n",
      "\u001b[0;31mTimeoutError\u001b[0m: "
     ]
    }
   ],
   "source": [
    "attcs.check.atdome = True\n",
    "await attcs.slew_icrs(ra=\"04 17 53.6624067\", \n",
    "                      dec=\"-33 47 54.056903\", \n",
    "                      rot_pa=-180., \n",
    "                      target_name=\"ups04 Eri\", \n",
    "                      slew_timeout=30.)"
   ]
  },
  {
   "cell_type": "code",
   "execution_count": 133,
   "metadata": {},
   "outputs": [
    {
     "name": "stdout",
     "output_type": "stream",
     "text": [
      "RemoteEvent(ATDome, 0, heartbeat) falling behind; read 20 messages\n",
      "RemoteEvent(ATMCS, 0, target) falling behind; read 100 messages\n",
      "RemoteEvent(ATDomeTrajectory, 0, logMessage) falling behind; read 100 messages\n",
      "RemoteTelemetry(ATPtg, 0, timeAndDate) falling behind; read 97 messages\n",
      "RemoteEvent(ATAOS, 0, heartbeat) falling behind; read 19 messages\n",
      "RemoteTelemetry(ATHexapod, 0, positionStatus) falling behind; read 19 messages\n",
      "RemoteTelemetry(ATPneumatics, 0, loadCell) falling behind; read 19 messages\n",
      "RemoteTelemetry(ATDome, 0, position) falling behind; read 95 messages\n",
      "RemoteTelemetry(ATMCS, 0, trajectory) falling behind; read 20 messages\n",
      "RemoteEvent(ATHexapod, 0, heartbeat) falling behind; read 19 messages\n",
      "RemoteEvent(ATDome, 0, shutterInPosition) falling behind; read 39 messages\n",
      "RemoteTelemetry(ATMCS, 0, torqueDemand) falling behind; read 20 messages\n",
      "RemoteTelemetry(ATPneumatics, 0, mainAirSourcePressure) falling behind; read 19 messages\n",
      "RemoteTelemetry(ATPtg, 0, mountStatus) falling behind; read 99 messages\n",
      "RemoteEvent(ATDome, 0, mainDoorState) falling behind; read 40 messages\n",
      "RemoteTelemetry(ATMCS, 0, nasymth_m3_mountMotorEncoders) falling behind; read 20 messages\n",
      "RemoteEvent(ATDomeTrajectory, 0, heartbeat) falling behind; read 20 messages\n",
      "RemoteTelemetry(ATPneumatics, 0, m2AirPressure) falling behind; read 20 messages\n",
      "RemoteTelemetry(ATPtg, 0, guidingAndOffsets) falling behind; read 100 messages\n",
      "RemoteTelemetry(ATMCS, 0, mount_Nasmyth_Encoders) falling behind; read 20 messages\n",
      "RemoteTelemetry(ATPneumatics, 0, m1AirPressure) falling behind; read 20 messages\n",
      "RemoteEvent(ATPneumatics, 0, heartbeat) falling behind; read 20 messages\n",
      "RemoteTelemetry(ATPtg, 0, currentTargetStatus) falling behind; read 100 messages\n"
     ]
    }
   ],
   "source": [
    "await attcs.ataos.cmd_enableCorrection.set_start(m1=True, hexapod=False)\n",
    "await asyncio.sleep(2.)\n",
    "# await attcs.ataos.cmd_disableCorrection.set_start(m1=False, hexapod=True)"
   ]
  },
  {
   "cell_type": "code",
   "execution_count": 140,
   "metadata": {},
   "outputs": [
    {
     "name": "stdout",
     "output_type": "stream",
     "text": [
      "RemoteEvent(ATDomeTrajectory, 0, logMessage) falling behind; read 100 messages\n",
      "RemoteTelemetry(ATDome, 0, position) falling behind; read 38 messages\n",
      "RemoteTelemetry(ATPtg, 0, timeAndDate) falling behind; read 39 messages\n",
      "RemoteEvent(ATDome, 0, shutterInPosition) falling behind; read 21 messages\n",
      "RemoteEvent(ATDome, 0, mainDoorState) falling behind; read 21 messages\n",
      "RemoteTelemetry(ATPtg, 0, mountStatus) falling behind; read 40 messages\n"
     ]
    },
    {
     "data": {
      "text/plain": [
       "<lsst.ts.salobj.ddsutil.ATPtg_ackcmd_2d655b72 at 0x7f2ad7ff1a90>"
      ]
     },
     "execution_count": 140,
     "metadata": {},
     "output_type": "execute_result"
    }
   ],
   "source": [
    "await attcs.atptg.cmd_offsetRADec.set_start(off1=35., off2=-10., num=0, type=0)"
   ]
  },
  {
   "cell_type": "code",
   "execution_count": 141,
   "metadata": {},
   "outputs": [
    {
     "name": "stdout",
     "output_type": "stream",
     "text": [
      "RemoteTelemetry(ATHexapod, 0, positionStatus) falling behind; read 18 messages\n",
      "RemoteTelemetry(ATPneumatics, 0, loadCell) falling behind; read 18 messages\n",
      "RemoteEvent(ATDomeTrajectory, 0, logMessage) falling behind; read 100 messages\n",
      "RemoteEvent(ATDomeTrajectory, 0, heartbeat) falling behind; read 18 messages\n",
      "RemoteEvent(ATDome, 0, shutterInPosition) falling behind; read 35 messages\n",
      "RemoteEvent(ATHexapod, 0, heartbeat) falling behind; read 18 messages\n",
      "RemoteTelemetry(ATPneumatics, 0, mainAirSourcePressure) falling behind; read 18 messages\n",
      "RemoteTelemetry(ATPtg, 0, mountStatus) falling behind; read 94 messages\n",
      "RemoteEvent(ATDome, 0, mainDoorState) falling behind; read 35 messages\n",
      "RemoteTelemetry(ATPneumatics, 0, m2AirPressure) falling behind; read 19 messages\n",
      "RemoteEvent(ATDome, 0, heartbeat) falling behind; read 19 messages\n",
      "RemoteEvent(ATAOS, 0, heartbeat) falling behind; read 19 messages\n",
      "RemoteTelemetry(ATPneumatics, 0, m1AirPressure) falling behind; read 19 messages\n",
      "RemoteEvent(ATPneumatics, 0, heartbeat) falling behind; read 19 messages\n",
      "RemoteEvent(ATMCS, 0, target) falling behind; read 100 messages\n"
     ]
    },
    {
     "data": {
      "text/plain": [
       "<lsst.ts.salobj.ddsutil.ATPtg_ackcmd_2d655b72 at 0x7f2adcff07f0>"
      ]
     },
     "execution_count": 141,
     "metadata": {},
     "output_type": "execute_result"
    }
   ],
   "source": [
    "await attcs.atptg.cmd_pointNewFile.start()\n",
    "await attcs.atptg.cmd_pointAddData.start()"
   ]
  },
  {
   "cell_type": "markdown",
   "metadata": {},
   "source": [
    "# ome Eri: 04 52 53.6699535 -05 27 09.697201"
   ]
  },
  {
   "cell_type": "code",
   "execution_count": 145,
   "metadata": {},
   "outputs": [
    {
     "name": "stdout",
     "output_type": "stream",
     "text": [
      "RemoteTelemetry(ATDome, 0, position) falling behind; read 77 messages\n",
      "RemoteTelemetry(ATPtg, 0, timeAndDate) falling behind; read 80 messages\n",
      "RemoteEvent(ATHexapod, 0, heartbeat) falling behind; read 16 messages\n",
      "RemoteTelemetry(ATMCS, 0, azEl_mountMotorEncoders) falling behind; read 16 messages\n",
      "RemoteEvent(ATDomeTrajectory, 0, heartbeat) falling behind; read 16 messages\n",
      "Flushing events\n",
      "Scheduling check coroutines\n",
      "Sending command\n",
      "RemoteTelemetry(ATHexapod, 0, positionStatus) falling behind; read 16 messages\n",
      "RemoteTelemetry(ATPneumatics, 0, mainAirSourcePressure) falling behind; read 16 messages\n",
      "RemoteTelemetry(ATMCS, 0, trajectory) falling behind; read 16 messages\n",
      "RemoteTelemetry(ATPneumatics, 0, m2AirPressure) falling behind; read 16 messages\n",
      "RemoteTelemetry(ATMCS, 0, torqueDemand) falling behind; read 17 messages\n",
      "RemoteEvent(ATDome, 0, shutterInPosition) falling behind; read 44 messages\n",
      "RemoteTelemetry(ATPtg, 0, mountStatus) falling behind; read 82 messages\n",
      "RemoteTelemetry(ATPneumatics, 0, m1AirPressure) falling behind; read 16 messages\n",
      "RemoteTelemetry(ATMCS, 0, nasymth_m3_mountMotorEncoders) falling behind; read 17 messages\n",
      "RemoteEvent(ATDome, 0, mainDoorState) falling behind; read 45 messages\n",
      "RemoteEvent(ATAOS, 0, heartbeat) falling behind; read 17 messages\n",
      "RemoteTelemetry(ATPtg, 0, guidingAndOffsets) falling behind; read 83 messages\n",
      "RemoteTelemetry(ATPneumatics, 0, loadCell) falling behind; read 16 messages\n",
      "RemoteTelemetry(ATMCS, 0, mount_Nasmyth_Encoders) falling behind; read 17 messages\n",
      "RemoteEvent(ATDome, 0, heartbeat) falling behind; read 17 messages\n",
      "RemoteEvent(ATPneumatics, 0, heartbeat) falling behind; read 16 messages\n",
      "RemoteTelemetry(ATMCS, 0, mount_AzEl_Encoders) falling behind; read 17 messages\n",
      "RemoteTelemetry(ATPtg, 0, currentTargetStatus) falling behind; read 84 messages\n",
      "RemoteTelemetry(ATMCS, 0, measuredTorque) falling behind; read 17 messages\n",
      "RemoteTelemetry(ATMCS, 0, measuredMotorVelocity) falling behind; read 17 messages\n",
      "RemoteEvent(ATMCS, 0, heartbeat) falling behind; read 17 messages\n",
      "process as completed...\n",
      "[Telescope] delta Alt = +001.493 | delta Az= -000.555 [Dome] delta Az = -004.084\n",
      "atmcs not enabled: <State.FAULT: 3>\n",
      "RuntimeError, cancel_not_done.\n",
      "Task exception was never retrieved\n",
      "future: <Task finished coro=<ATTCS.check_component_state() done, defined at /home/saluser/repos/ts_standardscripts/python/lsst/ts/standardscripts/auxtel/attcs.py:716> exception=RuntimeError('atmcs state is <State.FAULT: 3>')>\n",
      "Traceback (most recent call last):\n",
      "  File \"/home/saluser/repos/ts_standardscripts/python/lsst/ts/standardscripts/auxtel/attcs.py\", line 746, in check_component_state\n",
      "    raise RuntimeError(f\"{component} state is {state!r}\")\n",
      "RuntimeError: atmcs state is <State.FAULT: 3>\n",
      "Task exception was never retrieved\n",
      "future: <Task finished coro=<ATTCS.check_component_state() done, defined at /home/saluser/repos/ts_standardscripts/python/lsst/ts/standardscripts/auxtel/attcs.py:716> exception=RuntimeError('atptg state is <State.FAULT: 3>')>\n",
      "Traceback (most recent call last):\n",
      "  File \"/home/saluser/repos/ts_standardscripts/python/lsst/ts/standardscripts/auxtel/attcs.py\", line 746, in check_component_state\n",
      "    raise RuntimeError(f\"{component} state is {state!r}\")\n",
      "RuntimeError: atptg state is <State.FAULT: 3>\n",
      "Task exception was never retrieved\n",
      "future: <Task finished coro=<ATTCS.monitor_position() done, defined at /home/saluser/repos/ts_standardscripts/python/lsst/ts/standardscripts/auxtel/attcs.py:883> exception=TimeoutError()>\n",
      "Traceback (most recent call last):\n",
      "  File \"/home/saluser/repos/ts_standardscripts/python/lsst/ts/standardscripts/auxtel/attcs.py\", line 894, in monitor_position\n",
      "    timeout=self.fast_timeout)\n",
      "  File \"/home/saluser/repos/ts_salobj/python/lsst/ts/salobj/topics/read_topic.py\", line 391, in next\n",
      "    return await self._next(timeout=timeout)\n",
      "  File \"/home/saluser/repos/ts_salobj/python/lsst/ts/salobj/topics/read_topic.py\", line 404, in _next\n",
      "    await asyncio.wait_for(self._next_task, timeout=timeout)\n",
      "  File \"/opt/lsst/software/stack/python/miniconda3-4.5.12/envs/lsst-scipipe-4d7b902/lib/python3.7/asyncio/tasks.py\", line 423, in wait_for\n",
      "    raise futures.TimeoutError()\n",
      "concurrent.futures._base.TimeoutError\n",
      "Task exception was never retrieved\n",
      "future: <Task finished coro=<ATTCS.check_component_state() done, defined at /home/saluser/repos/ts_standardscripts/python/lsst/ts/standardscripts/auxtel/attcs.py:716> exception=RuntimeError('ataos state is <State.FAULT: 3>')>\n",
      "Traceback (most recent call last):\n",
      "  File \"/home/saluser/repos/ts_standardscripts/python/lsst/ts/standardscripts/auxtel/attcs.py\", line 746, in check_component_state\n",
      "    raise RuntimeError(f\"{component} state is {state!r}\")\n",
      "RuntimeError: ataos state is <State.FAULT: 3>\n",
      "Task exception was never retrieved\n",
      "future: <Task finished coro=<ATTCS.monitor_position() done, defined at /home/saluser/repos/ts_standardscripts/python/lsst/ts/standardscripts/auxtel/attcs.py:883> exception=TimeoutError()>\n",
      "Traceback (most recent call last):\n",
      "  File \"/home/saluser/repos/ts_standardscripts/python/lsst/ts/standardscripts/auxtel/attcs.py\", line 898, in monitor_position\n",
      "    timeout=self.fast_timeout)\n",
      "  File \"/home/saluser/repos/ts_salobj/python/lsst/ts/salobj/topics/read_topic.py\", line 391, in next\n",
      "    return await self._next(timeout=timeout)\n",
      "  File \"/home/saluser/repos/ts_salobj/python/lsst/ts/salobj/topics/read_topic.py\", line 404, in _next\n",
      "    await asyncio.wait_for(self._next_task, timeout=timeout)\n",
      "  File \"/opt/lsst/software/stack/python/miniconda3-4.5.12/envs/lsst-scipipe-4d7b902/lib/python3.7/asyncio/tasks.py\", line 423, in wait_for\n",
      "    raise futures.TimeoutError()\n",
      "concurrent.futures._base.TimeoutError\n",
      "Task exception was never retrieved\n",
      "future: <Task finished coro=<ATTCS.check_component_state() done, defined at /home/saluser/repos/ts_standardscripts/python/lsst/ts/standardscripts/auxtel/attcs.py:716> exception=RuntimeError('atptg state is <State.FAULT: 3>')>\n",
      "Traceback (most recent call last):\n",
      "  File \"/home/saluser/repos/ts_standardscripts/python/lsst/ts/standardscripts/auxtel/attcs.py\", line 746, in check_component_state\n",
      "    raise RuntimeError(f\"{component} state is {state!r}\")\n",
      "RuntimeError: atptg state is <State.FAULT: 3>\n",
      "Task exception was never retrieved\n",
      "future: <Task finished coro=<ATTCS.check_component_state() done, defined at /home/saluser/repos/ts_standardscripts/python/lsst/ts/standardscripts/auxtel/attcs.py:716> exception=RuntimeError('atmcs state is <State.FAULT: 3>')>\n",
      "Traceback (most recent call last):\n",
      "  File \"/home/saluser/repos/ts_standardscripts/python/lsst/ts/standardscripts/auxtel/attcs.py\", line 746, in check_component_state\n",
      "    raise RuntimeError(f\"{component} state is {state!r}\")\n",
      "RuntimeError: atmcs state is <State.FAULT: 3>\n",
      "Task exception was never retrieved\n",
      "future: <Task finished coro=<ATTCS.check_component_state() done, defined at /home/saluser/repos/ts_standardscripts/python/lsst/ts/standardscripts/auxtel/attcs.py:716> exception=IndexError('pop from an empty deque')>\n",
      "Traceback (most recent call last):\n",
      "  File \"/home/saluser/repos/ts_standardscripts/python/lsst/ts/standardscripts/auxtel/attcs.py\", line 740, in check_component_state\n",
      "    _state = await getattr(self, f\"{component}\").evt_summaryState.next(flush=False)\n",
      "  File \"/home/saluser/repos/ts_salobj/python/lsst/ts/salobj/topics/read_topic.py\", line 391, in next\n",
      "    return await self._next(timeout=timeout)\n",
      "  File \"/home/saluser/repos/ts_salobj/python/lsst/ts/salobj/topics/read_topic.py\", line 405, in _next\n",
      "    return self._data_queue.popleft()\n",
      "IndexError: pop from an empty deque\n"
     ]
    },
    {
     "ename": "RuntimeError",
     "evalue": "atmcs state is <State.FAULT: 3>",
     "output_type": "error",
     "traceback": [
      "\u001b[0;31m\u001b[0m",
      "\u001b[0;31mRuntimeError\u001b[0mTraceback (most recent call last)",
      "\u001b[0;32m<ipython-input-145-67b1175e03ac>\u001b[0m in \u001b[0;36masync-def-wrapper\u001b[0;34m()\u001b[0m\n",
      "\u001b[0;32m~/repos/ts_standardscripts/python/lsst/ts/standardscripts/auxtel/attcs.py\u001b[0m in \u001b[0;36mslew_icrs\u001b[0;34m(self, ra, dec, rot_sky, rot_pa, target_name, slew_timeout)\u001b[0m\n\u001b[1;32m    217\u001b[0m                         \u001b[0mrot_frame\u001b[0m\u001b[0;34m=\u001b[0m\u001b[0mATPtg\u001b[0m\u001b[0;34m.\u001b[0m\u001b[0mRotFrame\u001b[0m\u001b[0;34m.\u001b[0m\u001b[0mTARGET\u001b[0m\u001b[0;34m,\u001b[0m\u001b[0;34m\u001b[0m\u001b[0;34m\u001b[0m\u001b[0m\n\u001b[1;32m    218\u001b[0m                         \u001b[0mrot_mode\u001b[0m\u001b[0;34m=\u001b[0m\u001b[0mATPtg\u001b[0m\u001b[0;34m.\u001b[0m\u001b[0mRotMode\u001b[0m\u001b[0;34m.\u001b[0m\u001b[0mFIELD\u001b[0m\u001b[0;34m,\u001b[0m\u001b[0;34m\u001b[0m\u001b[0;34m\u001b[0m\u001b[0m\n\u001b[0;32m--> 219\u001b[0;31m                         slew_timeout=slew_timeout)\n\u001b[0m\u001b[1;32m    220\u001b[0m \u001b[0;34m\u001b[0m\u001b[0m\n\u001b[1;32m    221\u001b[0m     async def slew(self, ra, dec, rotPA=0., target_name=\"slew_icrs\",\n",
      "\u001b[0;32m~/repos/ts_standardscripts/python/lsst/ts/standardscripts/auxtel/attcs.py\u001b[0m in \u001b[0;36mslew\u001b[0;34m(self, ra, dec, rotPA, target_name, target_instance, frame, epoch, equinox, parallax, pmRA, pmDec, rv, dRA, dDec, rot_frame, rot_mode, slew_timeout)\u001b[0m\n\u001b[1;32m    262\u001b[0m \u001b[0;34m\u001b[0m\u001b[0m\n\u001b[1;32m    263\u001b[0m         await self._slew_to(self.atptg.cmd_raDecTarget,\n\u001b[0;32m--> 264\u001b[0;31m                             slew_timeout=slew_timeout)\n\u001b[0m\u001b[1;32m    265\u001b[0m \u001b[0;34m\u001b[0m\u001b[0m\n\u001b[1;32m    266\u001b[0m     \u001b[0;32masync\u001b[0m \u001b[0;32mdef\u001b[0m \u001b[0mslew_to_planet\u001b[0m\u001b[0;34m(\u001b[0m\u001b[0mself\u001b[0m\u001b[0;34m,\u001b[0m \u001b[0mplanet\u001b[0m\u001b[0;34m,\u001b[0m \u001b[0mrot_pa\u001b[0m\u001b[0;34m=\u001b[0m\u001b[0;36m0.\u001b[0m\u001b[0;34m,\u001b[0m \u001b[0mslew_timeout\u001b[0m\u001b[0;34m=\u001b[0m\u001b[0;36m1200.\u001b[0m\u001b[0;34m)\u001b[0m\u001b[0;34m:\u001b[0m\u001b[0;34m\u001b[0m\u001b[0;34m\u001b[0m\u001b[0m\n",
      "\u001b[0;32m~/repos/ts_standardscripts/python/lsst/ts/standardscripts/auxtel/attcs.py\u001b[0m in \u001b[0;36m_slew_to\u001b[0;34m(self, slew_cmd, slew_timeout)\u001b[0m\n\u001b[1;32m    703\u001b[0m                 \u001b[0mself\u001b[0m\u001b[0;34m.\u001b[0m\u001b[0mlog\u001b[0m\u001b[0;34m.\u001b[0m\u001b[0mwarning\u001b[0m\u001b[0;34m(\u001b[0m\u001b[0;34m\"RuntimeError, cancel_not_done.\"\u001b[0m\u001b[0;34m)\u001b[0m\u001b[0;34m\u001b[0m\u001b[0;34m\u001b[0m\u001b[0m\n\u001b[1;32m    704\u001b[0m                 \u001b[0;32mawait\u001b[0m \u001b[0mself\u001b[0m\u001b[0;34m.\u001b[0m\u001b[0mcancel_not_done\u001b[0m\u001b[0;34m(\u001b[0m\u001b[0mcoro_list\u001b[0m\u001b[0;34m)\u001b[0m\u001b[0;34m\u001b[0m\u001b[0;34m\u001b[0m\u001b[0m\n\u001b[0;32m--> 705\u001b[0;31m                 \u001b[0;32mraise\u001b[0m \u001b[0mrte\u001b[0m\u001b[0;34m\u001b[0m\u001b[0;34m\u001b[0m\u001b[0m\n\u001b[0m\u001b[1;32m    706\u001b[0m             \u001b[0;32melse\u001b[0m\u001b[0;34m:\u001b[0m\u001b[0;34m\u001b[0m\u001b[0;34m\u001b[0m\u001b[0m\n\u001b[1;32m    707\u001b[0m                 \u001b[0;32mbreak\u001b[0m\u001b[0;34m\u001b[0m\u001b[0;34m\u001b[0m\u001b[0m\n",
      "\u001b[0;32m~/repos/ts_standardscripts/python/lsst/ts/standardscripts/auxtel/attcs.py\u001b[0m in \u001b[0;36m_slew_to\u001b[0;34m(self, slew_cmd, slew_timeout)\u001b[0m\n\u001b[1;32m    698\u001b[0m         \u001b[0;32mfor\u001b[0m \u001b[0mres\u001b[0m \u001b[0;32min\u001b[0m \u001b[0masyncio\u001b[0m\u001b[0;34m.\u001b[0m\u001b[0mas_completed\u001b[0m\u001b[0;34m(\u001b[0m\u001b[0mcoro_list\u001b[0m\u001b[0;34m)\u001b[0m\u001b[0;34m:\u001b[0m\u001b[0;34m\u001b[0m\u001b[0;34m\u001b[0m\u001b[0m\n\u001b[1;32m    699\u001b[0m             \u001b[0;32mtry\u001b[0m\u001b[0;34m:\u001b[0m\u001b[0;34m\u001b[0m\u001b[0;34m\u001b[0m\u001b[0m\n\u001b[0;32m--> 700\u001b[0;31m                 \u001b[0mret_val\u001b[0m \u001b[0;34m=\u001b[0m \u001b[0;32mawait\u001b[0m \u001b[0mres\u001b[0m\u001b[0;34m\u001b[0m\u001b[0;34m\u001b[0m\u001b[0m\n\u001b[0m\u001b[1;32m    701\u001b[0m                 \u001b[0mself\u001b[0m\u001b[0;34m.\u001b[0m\u001b[0mlog\u001b[0m\u001b[0;34m.\u001b[0m\u001b[0mdebug\u001b[0m\u001b[0;34m(\u001b[0m\u001b[0mret_val\u001b[0m\u001b[0;34m)\u001b[0m\u001b[0;34m\u001b[0m\u001b[0;34m\u001b[0m\u001b[0m\n\u001b[1;32m    702\u001b[0m             \u001b[0;32mexcept\u001b[0m \u001b[0mRuntimeError\u001b[0m \u001b[0;32mas\u001b[0m \u001b[0mrte\u001b[0m\u001b[0;34m:\u001b[0m\u001b[0;34m\u001b[0m\u001b[0;34m\u001b[0m\u001b[0m\n",
      "\u001b[0;32m/opt/lsst/software/stack/python/miniconda3-4.5.12/envs/lsst-scipipe-4d7b902/lib/python3.7/asyncio/tasks.py\u001b[0m in \u001b[0;36m_wait_for_one\u001b[0;34m()\u001b[0m\n\u001b[1;32m    531\u001b[0m             \u001b[0;31m# Dummy value from _on_timeout().\u001b[0m\u001b[0;34m\u001b[0m\u001b[0;34m\u001b[0m\u001b[0;34m\u001b[0m\u001b[0m\n\u001b[1;32m    532\u001b[0m             \u001b[0;32mraise\u001b[0m \u001b[0mfutures\u001b[0m\u001b[0;34m.\u001b[0m\u001b[0mTimeoutError\u001b[0m\u001b[0;34m\u001b[0m\u001b[0;34m\u001b[0m\u001b[0m\n\u001b[0;32m--> 533\u001b[0;31m         \u001b[0;32mreturn\u001b[0m \u001b[0mf\u001b[0m\u001b[0;34m.\u001b[0m\u001b[0mresult\u001b[0m\u001b[0;34m(\u001b[0m\u001b[0;34m)\u001b[0m  \u001b[0;31m# May raise f.exception().\u001b[0m\u001b[0;34m\u001b[0m\u001b[0;34m\u001b[0m\u001b[0m\n\u001b[0m\u001b[1;32m    534\u001b[0m \u001b[0;34m\u001b[0m\u001b[0m\n\u001b[1;32m    535\u001b[0m     \u001b[0;32mfor\u001b[0m \u001b[0mf\u001b[0m \u001b[0;32min\u001b[0m \u001b[0mtodo\u001b[0m\u001b[0;34m:\u001b[0m\u001b[0;34m\u001b[0m\u001b[0;34m\u001b[0m\u001b[0m\n",
      "\u001b[0;32m~/repos/ts_standardscripts/python/lsst/ts/standardscripts/auxtel/attcs.py\u001b[0m in \u001b[0;36mcheck_component_state\u001b[0;34m(self, component)\u001b[0m\n\u001b[1;32m    744\u001b[0m             \u001b[0;32mif\u001b[0m \u001b[0mstate\u001b[0m \u001b[0;34m!=\u001b[0m \u001b[0msalobj\u001b[0m\u001b[0;34m.\u001b[0m\u001b[0mState\u001b[0m\u001b[0;34m.\u001b[0m\u001b[0mENABLED\u001b[0m\u001b[0;34m:\u001b[0m\u001b[0;34m\u001b[0m\u001b[0;34m\u001b[0m\u001b[0m\n\u001b[1;32m    745\u001b[0m                 \u001b[0mself\u001b[0m\u001b[0;34m.\u001b[0m\u001b[0mlog\u001b[0m\u001b[0;34m.\u001b[0m\u001b[0mwarning\u001b[0m\u001b[0;34m(\u001b[0m\u001b[0;34mf\"{component} not enabled: {state!r}\"\u001b[0m\u001b[0;34m)\u001b[0m\u001b[0;34m\u001b[0m\u001b[0;34m\u001b[0m\u001b[0m\n\u001b[0;32m--> 746\u001b[0;31m                 \u001b[0;32mraise\u001b[0m \u001b[0mRuntimeError\u001b[0m\u001b[0;34m(\u001b[0m\u001b[0;34mf\"{component} state is {state!r}\"\u001b[0m\u001b[0;34m)\u001b[0m\u001b[0;34m\u001b[0m\u001b[0;34m\u001b[0m\u001b[0m\n\u001b[0m\u001b[1;32m    747\u001b[0m             \u001b[0;32melse\u001b[0m\u001b[0;34m:\u001b[0m\u001b[0;34m\u001b[0m\u001b[0;34m\u001b[0m\u001b[0m\n\u001b[1;32m    748\u001b[0m                 \u001b[0mself\u001b[0m\u001b[0;34m.\u001b[0m\u001b[0mlog\u001b[0m\u001b[0;34m.\u001b[0m\u001b[0mdebug\u001b[0m\u001b[0;34m(\u001b[0m\u001b[0;34mf\"{component}: {state!r}\"\u001b[0m\u001b[0;34m)\u001b[0m\u001b[0;34m\u001b[0m\u001b[0;34m\u001b[0m\u001b[0m\n",
      "\u001b[0;31mRuntimeError\u001b[0m: atmcs state is <State.FAULT: 3>"
     ]
    }
   ],
   "source": [
    "attcs.check.atdome = False\n",
    "await attcs.slew_icrs(ra=\"04 52 53.6699535\", \n",
    "                      dec=\"-05 27 09.697201\", \n",
    "                      rot_pa=0., \n",
    "                      target_name=\"ome Eri\", \n",
    "                      slew_timeout=30.)"
   ]
  },
  {
   "cell_type": "code",
   "execution_count": 153,
   "metadata": {},
   "outputs": [
    {
     "name": "stdout",
     "output_type": "stream",
     "text": [
      "RemoteEvent(ATDomeTrajectory, 0, heartbeat) falling behind; read 25 messages\n",
      "RemoteTelemetry(ATHexapod, 0, positionStatus) falling behind; read 25 messages\n",
      "RemoteEvent(ATMCS, 0, heartbeat) falling behind; read 69 messages\n",
      "RemoteEvent(ATHexapod, 0, heartbeat) falling behind; read 25 messages\n",
      "RemoteTelemetry(ATPneumatics, 0, m2AirPressure) falling behind; read 26 messages\n",
      "Gathering settings.\n",
      "Settings versions: {'ataos': 'measured_20190908.yaml', 'atmcs': '', 'atptg': '', 'atpneumatics': '', 'athexapod': 'current', 'atdome': 'test.yaml', 'atdometrajectory': ''}\n",
      "Enabling all components\n",
      "Enabling  atmcs\n",
      "Enabling  atptg\n",
      "Enabling  ataos\n",
      "Enabling  atpneumatics\n",
      "Enabling  athexapod\n",
      "Enabling  atdome\n",
      "[atmcs]::[<State.FAULT: 3>, <State.STANDBY: 5>, <State.DISABLED: 1>, <State.ENABLED: 2>]\n",
      "[atptg]::[<State.FAULT: 3>, <State.STANDBY: 5>, <State.DISABLED: 1>, <State.ENABLED: 2>]\n",
      "[ataos]::[<State.ENABLED: 2>]\n",
      "[atpneumatics]::[<State.ENABLED: 2>]\n",
      "[athexapod]::[<State.ENABLED: 2>]\n",
      "[atdome]::[<State.ENABLED: 2>]\n",
      "[atdometrajectory]::<State.DISABLED: 1>\n",
      "All components enabled.\n"
     ]
    }
   ],
   "source": [
    "await asyncio.sleep(5)\n",
    "attcs.check.atdometrajectory = False\n",
    "await attcs.enable(settings={\n",
    "    'ataos': \"measured_20190908.yaml\",\n",
    "    'atmcs': \"\",\n",
    "    'atptg': \"\",\n",
    "    'atpneumatics': \"\",\n",
    "    'athexapod': \"current\",\n",
    "    'atdome': \"test.yaml\",\n",
    "    'atdometrajectory': \"\"})"
   ]
  },
  {
   "cell_type": "code",
   "execution_count": 152,
   "metadata": {},
   "outputs": [
    {
     "name": "stdout",
     "output_type": "stream",
     "text": [
      "RemoteTelemetry(ATDome, 0, position) falling behind; read 100 messages\n",
      "RemoteTelemetry(ATPneumatics, 0, loadCell) falling behind; read 41 messages\n",
      "RemoteEvent(ATAOS, 0, heartbeat) falling behind; read 41 messages\n",
      "RemoteEvent(ATHexapod, 0, heartbeat) falling behind; read 41 messages\n",
      "RemoteTelemetry(ATPneumatics, 0, mainAirSourcePressure) falling behind; read 41 messages\n",
      "RemoteEvent(ATAOS, 0, m1CorrectionStarted) falling behind; read 10 messages\n",
      "RemoteTelemetry(ATMCS, 0, trajectory) falling behind; read 41 messages\n",
      "Task exception was never retrieved\n",
      "future: <Task finished coro=<ATTCS.check_component_state() done, defined at /home/saluser/repos/ts_standardscripts/python/lsst/ts/standardscripts/auxtel/attcs.py:716> exception=IndexError('pop from an empty deque')>\n",
      "Traceback (most recent call last):\n",
      "  File \"/home/saluser/repos/ts_standardscripts/python/lsst/ts/standardscripts/auxtel/attcs.py\", line 740, in check_component_state\n",
      "    _state = await getattr(self, f\"{component}\").evt_summaryState.next(flush=False)\n",
      "  File \"/home/saluser/repos/ts_salobj/python/lsst/ts/salobj/topics/read_topic.py\", line 391, in next\n",
      "    return await self._next(timeout=timeout)\n",
      "  File \"/home/saluser/repos/ts_salobj/python/lsst/ts/salobj/topics/read_topic.py\", line 405, in _next\n",
      "    return self._data_queue.popleft()\n",
      "IndexError: pop from an empty deque\n",
      "Task exception was never retrieved\n",
      "future: <Task finished coro=<ATTCS.monitor_position() done, defined at /home/saluser/repos/ts_standardscripts/python/lsst/ts/standardscripts/auxtel/attcs.py:883> exception=TimeoutError()>\n",
      "Traceback (most recent call last):\n",
      "  File \"/home/saluser/repos/ts_standardscripts/python/lsst/ts/standardscripts/auxtel/attcs.py\", line 898, in monitor_position\n",
      "    timeout=self.fast_timeout)\n",
      "  File \"/home/saluser/repos/ts_salobj/python/lsst/ts/salobj/topics/read_topic.py\", line 391, in next\n",
      "    return await self._next(timeout=timeout)\n",
      "  File \"/home/saluser/repos/ts_salobj/python/lsst/ts/salobj/topics/read_topic.py\", line 404, in _next\n",
      "    await asyncio.wait_for(self._next_task, timeout=timeout)\n",
      "  File \"/opt/lsst/software/stack/python/miniconda3-4.5.12/envs/lsst-scipipe-4d7b902/lib/python3.7/asyncio/tasks.py\", line 423, in wait_for\n",
      "    raise futures.TimeoutError()\n",
      "concurrent.futures._base.TimeoutError\n",
      "Task exception was never retrieved\n",
      "future: <Task finished coro=<ATTCS.wait_for_inposition() done, defined at /home/saluser/repos/ts_standardscripts/python/lsst/ts/standardscripts/auxtel/attcs.py:760> exception=TimeoutError()>\n",
      "Traceback (most recent call last):\n",
      "  File \"/home/saluser/repos/ts_standardscripts/python/lsst/ts/standardscripts/auxtel/attcs.py\", line 782, in wait_for_inposition\n",
      "    status = await asyncio.gather(*wait_tasks)\n",
      "  File \"/home/saluser/repos/ts_standardscripts/python/lsst/ts/standardscripts/auxtel/attcs.py\", line 808, in wait_for_atmcs_inposition\n",
      "    timeout=timeout)\n",
      "  File \"/home/saluser/repos/ts_salobj/python/lsst/ts/salobj/topics/read_topic.py\", line 391, in next\n",
      "    return await self._next(timeout=timeout)\n",
      "  File \"/home/saluser/repos/ts_salobj/python/lsst/ts/salobj/topics/read_topic.py\", line 404, in _next\n",
      "    await asyncio.wait_for(self._next_task, timeout=timeout)\n",
      "  File \"/opt/lsst/software/stack/python/miniconda3-4.5.12/envs/lsst-scipipe-4d7b902/lib/python3.7/asyncio/tasks.py\", line 423, in wait_for\n",
      "    raise futures.TimeoutError()\n",
      "concurrent.futures._base.TimeoutError\n",
      "RemoteTelemetry(ATPneumatics, 0, m2AirPressure) falling behind; read 42 messages\n",
      "RemoteEvent(ATDomeTrajectory, 0, heartbeat) falling behind; read 42 messages\n",
      "RemoteEvent(ATAOS, 0, m1CorrectionCompleted) falling behind; read 10 messages\n",
      "RemoteTelemetry(ATMCS, 0, torqueDemand) falling behind; read 42 messages\n",
      "RemoteTelemetry(ATPtg, 0, guidingAndOffsets) falling behind; read 100 messages\n",
      "RemoteTelemetry(ATPneumatics, 0, m1AirPressure) falling behind; read 42 messages\n",
      "RemoteEvent(ATAOS, 0, detailedState) falling behind; read 20 messages\n",
      "RemoteTelemetry(ATMCS, 0, nasymth_m3_mountMotorEncoders) falling behind; read 42 messages\n",
      "RemoteEvent(ATPneumatics, 0, m1SetPressure) falling behind; read 10 messages\n",
      "RemoteEvent(ATDome, 0, heartbeat) falling behind; read 42 messages\n",
      "RemoteTelemetry(ATMCS, 0, mount_Nasmyth_Encoders) falling behind; read 43 messages\n"
     ]
    },
    {
     "data": {
      "text/plain": [
       "<lsst.ts.salobj.ddsutil.ATDomeTrajectory_ackcmd_e411e587 at 0x7f2ae1d8fa58>"
      ]
     },
     "execution_count": 152,
     "metadata": {},
     "output_type": "execute_result"
    }
   ],
   "source": [
    "await attcs.atdometrajectory.cmd_disable.start()"
   ]
  },
  {
   "cell_type": "code",
   "execution_count": 156,
   "metadata": {},
   "outputs": [
    {
     "name": "stdout",
     "output_type": "stream",
     "text": [
      "RemoteEvent(ATDomeTrajectory, 0, logMessage) falling behind; read 100 messages\n",
      "RemoteEvent(ATHexapod, 0, heartbeat) falling behind; read 13 messages\n",
      "RemoteTelemetry(ATDome, 0, position) falling behind; read 62 messages\n",
      "RemoteTelemetry(ATPtg, 0, timeAndDate) falling behind; read 64 messages\n",
      "RemoteTelemetry(ATHexapod, 0, positionStatus) falling behind; read 13 messages\n",
      "RemoteTelemetry(ATPtg, 0, mountStatus) falling behind; read 65 messages\n",
      "RemoteEvent(ATAOS, 0, heartbeat) falling behind; read 13 messages\n",
      "RemoteTelemetry(ATPtg, 0, guidingAndOffsets) falling behind; read 66 messages\n",
      "RemoteEvent(ATDome, 0, heartbeat) falling behind; read 13 messages\n",
      "RemoteTelemetry(ATPtg, 0, currentTargetStatus) falling behind; read 67 messages\n",
      "RemoteEvent(ATPneumatics, 0, heartbeat) falling behind; read 14 messages\n"
     ]
    },
    {
     "data": {
      "text/plain": [
       "<lsst.ts.salobj.ddsutil.ATPtg_ackcmd_2d655b72 at 0x7f2af842cda0>"
      ]
     },
     "execution_count": 156,
     "metadata": {},
     "output_type": "execute_result"
    }
   ],
   "source": [
    "await attcs.atptg.cmd_azElTarget.set_start(azDegs=0., elDegs=70.)"
   ]
  },
  {
   "cell_type": "markdown",
   "metadata": {},
   "source": [
    "# HD 30127: 04 44 07.9818303630 -18 39 59.711500473"
   ]
  },
  {
   "cell_type": "code",
   "execution_count": 147,
   "metadata": {},
   "outputs": [
    {
     "name": "stdout",
     "output_type": "stream",
     "text": [
      "RemoteTelemetry(ATDome, 0, position) falling behind; read 100 messages\n",
      "RemoteTelemetry(ATHexapod, 0, positionStatus) falling behind; read 87 messages\n",
      "RemoteTelemetry(ATPtg, 0, timeAndDate) falling behind; read 100 messages\n",
      "RemoteEvent(ATMCS, 0, heartbeat) falling behind; read 88 messages\n",
      "RemoteTelemetry(ATPneumatics, 0, loadCell) falling behind; read 88 messages\n",
      "RemoteEvent(ATDomeTrajectory, 0, heartbeat) falling behind; read 88 messages\n",
      "RemoteEvent(ATAOS, 0, heartbeat) falling behind; read 88 messages\n",
      "Flushing events\n",
      "Scheduling check coroutines\n",
      "Sending command\n",
      "RemoteEvent(ATAOS, 0, m1CorrectionStarted) falling behind; read 20 messages\n",
      "RemoteTelemetry(ATPneumatics, 0, mainAirSourcePressure) falling behind; read 88 messages\n",
      "RemoteTelemetry(ATMCS, 0, trajectory) falling behind; read 88 messages\n",
      "Got False\n",
      "ATDome not in position\n",
      "Got True\n",
      "ATDome in position.\n",
      "RemoteEvent(ATAOS, 0, m1CorrectionCompleted) falling behind; read 20 messages\n",
      "RemoteTelemetry(ATPtg, 0, skyEnvironment) falling behind; read 17 messages\n",
      "RemoteTelemetry(ATPneumatics, 0, m2AirPressure) falling behind; read 89 messages\n",
      "RemoteEvent(ATDome, 0, shutterInPosition) falling behind; read 100 messages\n",
      "RemoteEvent(ATHexapod, 0, heartbeat) falling behind; read 88 messages\n",
      "RemoteTelemetry(ATMCS, 0, torqueDemand) falling behind; read 88 messages\n",
      "RemoteEvent(ATAOS, 0, detailedState) falling behind; read 41 messages\n",
      "RemoteTelemetry(ATPtg, 0, mountStatus) falling behind; read 100 messages\n",
      "RemoteTelemetry(ATPneumatics, 0, m1AirPressure) falling behind; read 89 messages\n",
      "RemoteEvent(ATDome, 0, mainDoorState) falling behind; read 100 messages\n",
      "RemoteTelemetry(ATMCS, 0, nasymth_m3_mountMotorEncoders) falling behind; read 89 messages\n",
      "RemoteTelemetry(ATPtg, 0, guidingAndOffsets) falling behind; read 100 messages\n",
      "RemoteEvent(ATPneumatics, 0, m1SetPressure) falling behind; read 21 messages\n",
      "RemoteEvent(ATDomeTrajectory, 0, logMessage) falling behind; read 21 messages\n",
      "RemoteEvent(ATDome, 0, heartbeat) falling behind; read 89 messages\n",
      "RemoteTelemetry(ATMCS, 0, mount_Nasmyth_Encoders) falling behind; read 89 messages\n",
      "RemoteTelemetry(ATPtg, 0, currentTimesToLimits) falling behind; read 18 messages\n",
      "RemoteEvent(ATPneumatics, 0, heartbeat) falling behind; read 90 messages\n",
      "RemoteTelemetry(ATMCS, 0, mount_AzEl_Encoders) falling behind; read 89 messages\n",
      "RemoteTelemetry(ATPtg, 0, currentTargetStatus) falling behind; read 100 messages\n",
      "RemoteTelemetry(ATMCS, 0, measuredTorque) falling behind; read 90 messages\n",
      "RemoteEvent(ATPtg, 0, weatherDataApplied) falling behind; read 10 messages\n",
      "RemoteTelemetry(ATMCS, 0, measuredMotorVelocity) falling behind; read 90 messages\n",
      "RemoteEvent(ATPtg, 0, mountDataWarning) falling behind; read 17 messages\n",
      "RemoteTelemetry(ATMCS, 0, azEl_mountMotorEncoders) falling behind; read 90 messages\n",
      "RemoteEvent(ATMCS, 0, target) falling behind; read 25 messages\n",
      "atptg not enabled: <State.FAULT: 3>\n",
      "atmcs not enabled: <State.FAULT: 3>\n",
      "process as completed...\n",
      "RuntimeError, cancel_not_done.\n",
      "Task exception was never retrieved\n",
      "future: <Task finished coro=<ATTCS.monitor_position() done, defined at /home/saluser/repos/ts_standardscripts/python/lsst/ts/standardscripts/auxtel/attcs.py:883> exception=TimeoutError()>\n",
      "Traceback (most recent call last):\n",
      "  File \"/home/saluser/repos/ts_standardscripts/python/lsst/ts/standardscripts/auxtel/attcs.py\", line 898, in monitor_position\n",
      "    timeout=self.fast_timeout)\n",
      "  File \"/home/saluser/repos/ts_salobj/python/lsst/ts/salobj/topics/read_topic.py\", line 391, in next\n",
      "    return await self._next(timeout=timeout)\n",
      "  File \"/home/saluser/repos/ts_salobj/python/lsst/ts/salobj/topics/read_topic.py\", line 404, in _next\n",
      "    await asyncio.wait_for(self._next_task, timeout=timeout)\n",
      "  File \"/opt/lsst/software/stack/python/miniconda3-4.5.12/envs/lsst-scipipe-4d7b902/lib/python3.7/asyncio/tasks.py\", line 423, in wait_for\n",
      "    raise futures.TimeoutError()\n",
      "concurrent.futures._base.TimeoutError\n",
      "Task exception was never retrieved\n",
      "future: <Task finished coro=<ATTCS.check_component_state() done, defined at /home/saluser/repos/ts_standardscripts/python/lsst/ts/standardscripts/auxtel/attcs.py:716> exception=IndexError('pop from an empty deque')>\n",
      "Traceback (most recent call last):\n",
      "  File \"/home/saluser/repos/ts_standardscripts/python/lsst/ts/standardscripts/auxtel/attcs.py\", line 740, in check_component_state\n",
      "    _state = await getattr(self, f\"{component}\").evt_summaryState.next(flush=False)\n",
      "  File \"/home/saluser/repos/ts_salobj/python/lsst/ts/salobj/topics/read_topic.py\", line 391, in next\n",
      "    return await self._next(timeout=timeout)\n",
      "  File \"/home/saluser/repos/ts_salobj/python/lsst/ts/salobj/topics/read_topic.py\", line 405, in _next\n",
      "    return self._data_queue.popleft()\n",
      "IndexError: pop from an empty deque\n",
      "Task exception was never retrieved\n",
      "future: <Task finished coro=<ATTCS.check_component_state() done, defined at /home/saluser/repos/ts_standardscripts/python/lsst/ts/standardscripts/auxtel/attcs.py:716> exception=RuntimeError('atptg state is <State.FAULT: 3>')>\n",
      "Traceback (most recent call last):\n",
      "  File \"/home/saluser/repos/ts_standardscripts/python/lsst/ts/standardscripts/auxtel/attcs.py\", line 746, in check_component_state\n",
      "    raise RuntimeError(f\"{component} state is {state!r}\")\n",
      "RuntimeError: atptg state is <State.FAULT: 3>\n",
      "Task exception was never retrieved\n",
      "future: <Task finished coro=<ATTCS.check_component_state() done, defined at /home/saluser/repos/ts_standardscripts/python/lsst/ts/standardscripts/auxtel/attcs.py:716> exception=RuntimeError('atmcs state is <State.FAULT: 3>')>\n",
      "Traceback (most recent call last):\n",
      "  File \"/home/saluser/repos/ts_standardscripts/python/lsst/ts/standardscripts/auxtel/attcs.py\", line 746, in check_component_state\n",
      "    raise RuntimeError(f\"{component} state is {state!r}\")\n",
      "RuntimeError: atmcs state is <State.FAULT: 3>\n",
      "Task exception was never retrieved\n",
      "future: <Task finished coro=<ATTCS.monitor_position() done, defined at /home/saluser/repos/ts_standardscripts/python/lsst/ts/standardscripts/auxtel/attcs.py:883> exception=TimeoutError()>\n",
      "Traceback (most recent call last):\n",
      "  File \"/home/saluser/repos/ts_standardscripts/python/lsst/ts/standardscripts/auxtel/attcs.py\", line 894, in monitor_position\n",
      "    timeout=self.fast_timeout)\n",
      "  File \"/home/saluser/repos/ts_salobj/python/lsst/ts/salobj/topics/read_topic.py\", line 391, in next\n",
      "    return await self._next(timeout=timeout)\n",
      "  File \"/home/saluser/repos/ts_salobj/python/lsst/ts/salobj/topics/read_topic.py\", line 404, in _next\n",
      "    await asyncio.wait_for(self._next_task, timeout=timeout)\n",
      "  File \"/opt/lsst/software/stack/python/miniconda3-4.5.12/envs/lsst-scipipe-4d7b902/lib/python3.7/asyncio/tasks.py\", line 423, in wait_for\n",
      "    raise futures.TimeoutError()\n",
      "concurrent.futures._base.TimeoutError\n",
      "Task exception was never retrieved\n",
      "future: <Task finished coro=<ATTCS.check_component_state() done, defined at /home/saluser/repos/ts_standardscripts/python/lsst/ts/standardscripts/auxtel/attcs.py:716> exception=RuntimeError('ataos state is <State.FAULT: 3>')>\n",
      "Traceback (most recent call last):\n",
      "  File \"/home/saluser/repos/ts_standardscripts/python/lsst/ts/standardscripts/auxtel/attcs.py\", line 746, in check_component_state\n",
      "    raise RuntimeError(f\"{component} state is {state!r}\")\n",
      "RuntimeError: ataos state is <State.FAULT: 3>\n",
      "Task exception was never retrieved\n",
      "future: <Task finished coro=<ATTCS.check_component_state() done, defined at /home/saluser/repos/ts_standardscripts/python/lsst/ts/standardscripts/auxtel/attcs.py:716> exception=IndexError('pop from an empty deque')>\n",
      "Traceback (most recent call last):\n",
      "  File \"/home/saluser/repos/ts_standardscripts/python/lsst/ts/standardscripts/auxtel/attcs.py\", line 740, in check_component_state\n",
      "    _state = await getattr(self, f\"{component}\").evt_summaryState.next(flush=False)\n",
      "  File \"/home/saluser/repos/ts_salobj/python/lsst/ts/salobj/topics/read_topic.py\", line 391, in next\n",
      "    return await self._next(timeout=timeout)\n",
      "  File \"/home/saluser/repos/ts_salobj/python/lsst/ts/salobj/topics/read_topic.py\", line 405, in _next\n",
      "    return self._data_queue.popleft()\n",
      "IndexError: pop from an empty deque\n",
      "Task exception was never retrieved\n",
      "future: <Task finished coro=<ATTCS.check_component_state() done, defined at /home/saluser/repos/ts_standardscripts/python/lsst/ts/standardscripts/auxtel/attcs.py:716> exception=RuntimeError('atptg state is <State.FAULT: 3>')>\n",
      "Traceback (most recent call last):\n",
      "  File \"/home/saluser/repos/ts_standardscripts/python/lsst/ts/standardscripts/auxtel/attcs.py\", line 746, in check_component_state\n",
      "    raise RuntimeError(f\"{component} state is {state!r}\")\n",
      "RuntimeError: atptg state is <State.FAULT: 3>\n"
     ]
    },
    {
     "ename": "RuntimeError",
     "evalue": "atmcs state is <State.FAULT: 3>",
     "output_type": "error",
     "traceback": [
      "\u001b[0;31m\u001b[0m",
      "\u001b[0;31mRuntimeError\u001b[0mTraceback (most recent call last)",
      "\u001b[0;32m<ipython-input-147-d035462e311d>\u001b[0m in \u001b[0;36masync-def-wrapper\u001b[0;34m()\u001b[0m\n",
      "\u001b[0;32m~/repos/ts_standardscripts/python/lsst/ts/standardscripts/auxtel/attcs.py\u001b[0m in \u001b[0;36mslew_icrs\u001b[0;34m(self, ra, dec, rot_sky, rot_pa, target_name, slew_timeout)\u001b[0m\n\u001b[1;32m    217\u001b[0m                         \u001b[0mrot_frame\u001b[0m\u001b[0;34m=\u001b[0m\u001b[0mATPtg\u001b[0m\u001b[0;34m.\u001b[0m\u001b[0mRotFrame\u001b[0m\u001b[0;34m.\u001b[0m\u001b[0mTARGET\u001b[0m\u001b[0;34m,\u001b[0m\u001b[0;34m\u001b[0m\u001b[0;34m\u001b[0m\u001b[0m\n\u001b[1;32m    218\u001b[0m                         \u001b[0mrot_mode\u001b[0m\u001b[0;34m=\u001b[0m\u001b[0mATPtg\u001b[0m\u001b[0;34m.\u001b[0m\u001b[0mRotMode\u001b[0m\u001b[0;34m.\u001b[0m\u001b[0mFIELD\u001b[0m\u001b[0;34m,\u001b[0m\u001b[0;34m\u001b[0m\u001b[0;34m\u001b[0m\u001b[0m\n\u001b[0;32m--> 219\u001b[0;31m                         slew_timeout=slew_timeout)\n\u001b[0m\u001b[1;32m    220\u001b[0m \u001b[0;34m\u001b[0m\u001b[0m\n\u001b[1;32m    221\u001b[0m     async def slew(self, ra, dec, rotPA=0., target_name=\"slew_icrs\",\n",
      "\u001b[0;32m~/repos/ts_standardscripts/python/lsst/ts/standardscripts/auxtel/attcs.py\u001b[0m in \u001b[0;36mslew\u001b[0;34m(self, ra, dec, rotPA, target_name, target_instance, frame, epoch, equinox, parallax, pmRA, pmDec, rv, dRA, dDec, rot_frame, rot_mode, slew_timeout)\u001b[0m\n\u001b[1;32m    262\u001b[0m \u001b[0;34m\u001b[0m\u001b[0m\n\u001b[1;32m    263\u001b[0m         await self._slew_to(self.atptg.cmd_raDecTarget,\n\u001b[0;32m--> 264\u001b[0;31m                             slew_timeout=slew_timeout)\n\u001b[0m\u001b[1;32m    265\u001b[0m \u001b[0;34m\u001b[0m\u001b[0m\n\u001b[1;32m    266\u001b[0m     \u001b[0;32masync\u001b[0m \u001b[0;32mdef\u001b[0m \u001b[0mslew_to_planet\u001b[0m\u001b[0;34m(\u001b[0m\u001b[0mself\u001b[0m\u001b[0;34m,\u001b[0m \u001b[0mplanet\u001b[0m\u001b[0;34m,\u001b[0m \u001b[0mrot_pa\u001b[0m\u001b[0;34m=\u001b[0m\u001b[0;36m0.\u001b[0m\u001b[0;34m,\u001b[0m \u001b[0mslew_timeout\u001b[0m\u001b[0;34m=\u001b[0m\u001b[0;36m1200.\u001b[0m\u001b[0;34m)\u001b[0m\u001b[0;34m:\u001b[0m\u001b[0;34m\u001b[0m\u001b[0;34m\u001b[0m\u001b[0m\n",
      "\u001b[0;32m~/repos/ts_standardscripts/python/lsst/ts/standardscripts/auxtel/attcs.py\u001b[0m in \u001b[0;36m_slew_to\u001b[0;34m(self, slew_cmd, slew_timeout)\u001b[0m\n\u001b[1;32m    703\u001b[0m                 \u001b[0mself\u001b[0m\u001b[0;34m.\u001b[0m\u001b[0mlog\u001b[0m\u001b[0;34m.\u001b[0m\u001b[0mwarning\u001b[0m\u001b[0;34m(\u001b[0m\u001b[0;34m\"RuntimeError, cancel_not_done.\"\u001b[0m\u001b[0;34m)\u001b[0m\u001b[0;34m\u001b[0m\u001b[0;34m\u001b[0m\u001b[0m\n\u001b[1;32m    704\u001b[0m                 \u001b[0;32mawait\u001b[0m \u001b[0mself\u001b[0m\u001b[0;34m.\u001b[0m\u001b[0mcancel_not_done\u001b[0m\u001b[0;34m(\u001b[0m\u001b[0mcoro_list\u001b[0m\u001b[0;34m)\u001b[0m\u001b[0;34m\u001b[0m\u001b[0;34m\u001b[0m\u001b[0m\n\u001b[0;32m--> 705\u001b[0;31m                 \u001b[0;32mraise\u001b[0m \u001b[0mrte\u001b[0m\u001b[0;34m\u001b[0m\u001b[0;34m\u001b[0m\u001b[0m\n\u001b[0m\u001b[1;32m    706\u001b[0m             \u001b[0;32melse\u001b[0m\u001b[0;34m:\u001b[0m\u001b[0;34m\u001b[0m\u001b[0;34m\u001b[0m\u001b[0m\n\u001b[1;32m    707\u001b[0m                 \u001b[0;32mbreak\u001b[0m\u001b[0;34m\u001b[0m\u001b[0;34m\u001b[0m\u001b[0m\n",
      "\u001b[0;32m~/repos/ts_standardscripts/python/lsst/ts/standardscripts/auxtel/attcs.py\u001b[0m in \u001b[0;36m_slew_to\u001b[0;34m(self, slew_cmd, slew_timeout)\u001b[0m\n\u001b[1;32m    698\u001b[0m         \u001b[0;32mfor\u001b[0m \u001b[0mres\u001b[0m \u001b[0;32min\u001b[0m \u001b[0masyncio\u001b[0m\u001b[0;34m.\u001b[0m\u001b[0mas_completed\u001b[0m\u001b[0;34m(\u001b[0m\u001b[0mcoro_list\u001b[0m\u001b[0;34m)\u001b[0m\u001b[0;34m:\u001b[0m\u001b[0;34m\u001b[0m\u001b[0;34m\u001b[0m\u001b[0m\n\u001b[1;32m    699\u001b[0m             \u001b[0;32mtry\u001b[0m\u001b[0;34m:\u001b[0m\u001b[0;34m\u001b[0m\u001b[0;34m\u001b[0m\u001b[0m\n\u001b[0;32m--> 700\u001b[0;31m                 \u001b[0mret_val\u001b[0m \u001b[0;34m=\u001b[0m \u001b[0;32mawait\u001b[0m \u001b[0mres\u001b[0m\u001b[0;34m\u001b[0m\u001b[0;34m\u001b[0m\u001b[0m\n\u001b[0m\u001b[1;32m    701\u001b[0m                 \u001b[0mself\u001b[0m\u001b[0;34m.\u001b[0m\u001b[0mlog\u001b[0m\u001b[0;34m.\u001b[0m\u001b[0mdebug\u001b[0m\u001b[0;34m(\u001b[0m\u001b[0mret_val\u001b[0m\u001b[0;34m)\u001b[0m\u001b[0;34m\u001b[0m\u001b[0;34m\u001b[0m\u001b[0m\n\u001b[1;32m    702\u001b[0m             \u001b[0;32mexcept\u001b[0m \u001b[0mRuntimeError\u001b[0m \u001b[0;32mas\u001b[0m \u001b[0mrte\u001b[0m\u001b[0;34m:\u001b[0m\u001b[0;34m\u001b[0m\u001b[0;34m\u001b[0m\u001b[0m\n",
      "\u001b[0;32m/opt/lsst/software/stack/python/miniconda3-4.5.12/envs/lsst-scipipe-4d7b902/lib/python3.7/asyncio/tasks.py\u001b[0m in \u001b[0;36m_wait_for_one\u001b[0;34m()\u001b[0m\n\u001b[1;32m    531\u001b[0m             \u001b[0;31m# Dummy value from _on_timeout().\u001b[0m\u001b[0;34m\u001b[0m\u001b[0;34m\u001b[0m\u001b[0;34m\u001b[0m\u001b[0m\n\u001b[1;32m    532\u001b[0m             \u001b[0;32mraise\u001b[0m \u001b[0mfutures\u001b[0m\u001b[0;34m.\u001b[0m\u001b[0mTimeoutError\u001b[0m\u001b[0;34m\u001b[0m\u001b[0;34m\u001b[0m\u001b[0m\n\u001b[0;32m--> 533\u001b[0;31m         \u001b[0;32mreturn\u001b[0m \u001b[0mf\u001b[0m\u001b[0;34m.\u001b[0m\u001b[0mresult\u001b[0m\u001b[0;34m(\u001b[0m\u001b[0;34m)\u001b[0m  \u001b[0;31m# May raise f.exception().\u001b[0m\u001b[0;34m\u001b[0m\u001b[0;34m\u001b[0m\u001b[0m\n\u001b[0m\u001b[1;32m    534\u001b[0m \u001b[0;34m\u001b[0m\u001b[0m\n\u001b[1;32m    535\u001b[0m     \u001b[0;32mfor\u001b[0m \u001b[0mf\u001b[0m \u001b[0;32min\u001b[0m \u001b[0mtodo\u001b[0m\u001b[0;34m:\u001b[0m\u001b[0;34m\u001b[0m\u001b[0;34m\u001b[0m\u001b[0m\n",
      "\u001b[0;32m~/repos/ts_standardscripts/python/lsst/ts/standardscripts/auxtel/attcs.py\u001b[0m in \u001b[0;36mcheck_component_state\u001b[0;34m(self, component)\u001b[0m\n\u001b[1;32m    744\u001b[0m             \u001b[0;32mif\u001b[0m \u001b[0mstate\u001b[0m \u001b[0;34m!=\u001b[0m \u001b[0msalobj\u001b[0m\u001b[0;34m.\u001b[0m\u001b[0mState\u001b[0m\u001b[0;34m.\u001b[0m\u001b[0mENABLED\u001b[0m\u001b[0;34m:\u001b[0m\u001b[0;34m\u001b[0m\u001b[0;34m\u001b[0m\u001b[0m\n\u001b[1;32m    745\u001b[0m                 \u001b[0mself\u001b[0m\u001b[0;34m.\u001b[0m\u001b[0mlog\u001b[0m\u001b[0;34m.\u001b[0m\u001b[0mwarning\u001b[0m\u001b[0;34m(\u001b[0m\u001b[0;34mf\"{component} not enabled: {state!r}\"\u001b[0m\u001b[0;34m)\u001b[0m\u001b[0;34m\u001b[0m\u001b[0;34m\u001b[0m\u001b[0m\n\u001b[0;32m--> 746\u001b[0;31m                 \u001b[0;32mraise\u001b[0m \u001b[0mRuntimeError\u001b[0m\u001b[0;34m(\u001b[0m\u001b[0;34mf\"{component} state is {state!r}\"\u001b[0m\u001b[0;34m)\u001b[0m\u001b[0;34m\u001b[0m\u001b[0;34m\u001b[0m\u001b[0m\n\u001b[0m\u001b[1;32m    747\u001b[0m             \u001b[0;32melse\u001b[0m\u001b[0;34m:\u001b[0m\u001b[0;34m\u001b[0m\u001b[0;34m\u001b[0m\u001b[0m\n\u001b[1;32m    748\u001b[0m                 \u001b[0mself\u001b[0m\u001b[0;34m.\u001b[0m\u001b[0mlog\u001b[0m\u001b[0;34m.\u001b[0m\u001b[0mdebug\u001b[0m\u001b[0;34m(\u001b[0m\u001b[0;34mf\"{component}: {state!r}\"\u001b[0m\u001b[0;34m)\u001b[0m\u001b[0;34m\u001b[0m\u001b[0;34m\u001b[0m\u001b[0m\n",
      "\u001b[0;31mRuntimeError\u001b[0m: atmcs state is <State.FAULT: 3>"
     ]
    }
   ],
   "source": [
    "attcs.check.atdome = True\n",
    "await attcs.slew_icrs(ra=\"04 44 07.9818303630\", \n",
    "                      dec=\"-18 39 59.711500473\", \n",
    "                      rot_pa=0., \n",
    "                      target_name=\"HD 30127\", \n",
    "                      slew_timeout=240.)"
   ]
  },
  {
   "cell_type": "markdown",
   "metadata": {},
   "source": [
    "# HD 48217: 06 41 56.3857394576 -09 10 03.123066225"
   ]
  },
  {
   "cell_type": "code",
   "execution_count": 172,
   "metadata": {},
   "outputs": [
    {
     "name": "stdout",
     "output_type": "stream",
     "text": [
      "RemoteTelemetry(ATDome, 0, position) falling behind; read 82 messages\n",
      "RemoteEvent(ATDomeTrajectory, 0, heartbeat) falling behind; read 17 messages\n",
      "RemoteEvent(ATAOS, 0, heartbeat) falling behind; read 17 messages\n",
      "RemoteTelemetry(ATPneumatics, 0, loadCell) falling behind; read 17 messages\n",
      "RemoteTelemetry(ATHexapod, 0, positionStatus) falling behind; read 17 messages\n",
      "RemoteTelemetry(ATPneumatics, 0, mainAirSourcePressure) falling behind; read 17 messages\n",
      "RemoteTelemetry(ATPneumatics, 0, m2AirPressure) falling behind; read 17 messages\n",
      "RemoteTelemetry(ATPneumatics, 0, m1AirPressure) falling behind; read 17 messages\n",
      "RemoteEvent(ATDome, 0, shutterInPosition) falling behind; read 41 messages\n",
      "RemoteEvent(ATDome, 0, mainDoorState) falling behind; read 41 messages\n",
      "RemoteEvent(ATPneumatics, 0, heartbeat) falling behind; read 17 messages\n",
      "RemoteEvent(ATDome, 0, heartbeat) falling behind; read 17 messages\n",
      "RemoteTelemetry(ATMCS, 0, trajectory) falling behind; read 17 messages\n",
      "RemoteTelemetry(ATPtg, 0, guidingAndOffsets) falling behind; read 88 messages\n",
      "Gathering settings.\n",
      "Settings versions: {'ataos': 'measured_20190908.yaml', 'atmcs': '', 'atptg': '', 'atpneumatics': '', 'athexapod': 'current', 'atdome': 'test.yaml', 'atdometrajectory': ''}\n",
      "Enabling all components\n",
      "Enabling  atmcs\n",
      "Enabling  atptg\n",
      "Enabling  ataos\n",
      "Enabling  atpneumatics\n",
      "Enabling  athexapod\n",
      "Enabling  atdome\n",
      "Enabling  atdometrajectory\n",
      "[atmcs]::[<State.FAULT: 3>, <State.STANDBY: 5>, <State.DISABLED: 1>, <State.ENABLED: 2>]\n",
      "[atptg]::[<State.FAULT: 3>, <State.STANDBY: 5>, <State.DISABLED: 1>, <State.ENABLED: 2>]\n",
      "[ataos]::[<State.ENABLED: 2>]\n",
      "[atpneumatics]::[<State.ENABLED: 2>]\n",
      "[athexapod]::[<State.ENABLED: 2>]\n",
      "[atdome]::[<State.ENABLED: 2>]\n",
      "[atdometrajectory]::[<State.ENABLED: 2>]\n",
      "All components enabled.\n"
     ]
    }
   ],
   "source": [
    "await asyncio.sleep(5)\n",
    "attcs.check.atdometrajectory = True\n",
    "await attcs.enable(settings={\n",
    "    'ataos': \"measured_20190908.yaml\",\n",
    "    'atmcs': \"\",\n",
    "    'atptg': \"\",\n",
    "    'atpneumatics': \"\",\n",
    "    'athexapod': \"current\",\n",
    "    'atdome': \"test.yaml\",\n",
    "    'atdometrajectory': \"\"})"
   ]
  },
  {
   "cell_type": "code",
   "execution_count": 158,
   "metadata": {},
   "outputs": [
    {
     "name": "stdout",
     "output_type": "stream",
     "text": [
      "RemoteEvent(ATDomeTrajectory, 0, logMessage) falling behind; read 100 messages\n",
      "RemoteTelemetry(ATPtg, 0, timeAndDate) falling behind; read 100 messages\n",
      "RemoteEvent(ATMCS, 0, target) falling behind; read 100 messages\n",
      "RemoteEvent(ATAOS, 0, heartbeat) falling behind; read 33 messages\n",
      "RemoteTelemetry(ATPneumatics, 0, loadCell) falling behind; read 33 messages\n",
      "RemoteTelemetry(ATHexapod, 0, positionStatus) falling behind; read 33 messages\n",
      "RemoteTelemetry(ATDome, 0, position) falling behind; read 100 messages\n",
      "Flushing events\n",
      "Scheduling check coroutines\n",
      "Sending command\n",
      "RemoteEvent(ATDomeTrajectory, 0, heartbeat) falling behind; read 33 messages\n",
      "RemoteEvent(ATDome, 0, shutterInPosition) falling behind; read 83 messages\n",
      "RemoteEvent(ATHexapod, 0, heartbeat) falling behind; read 33 messages\n",
      "RemoteTelemetry(ATMCS, 0, trajectory) falling behind; read 33 messages\n",
      "RemoteTelemetry(ATPneumatics, 0, mainAirSourcePressure) falling behind; read 34 messages\n",
      "RemoteEvent(ATDome, 0, mainDoorState) falling behind; read 83 messages\n",
      "Got False\n",
      "ATDome not in position\n",
      "Got True\n",
      "ATDome in position.\n",
      "RemoteTelemetry(ATMCS, 0, torqueDemand) falling behind; read 33 messages\n",
      "RemoteTelemetry(ATPneumatics, 0, m2AirPressure) falling behind; read 34 messages\n",
      "RemoteEvent(ATDome, 0, heartbeat) falling behind; read 34 messages\n",
      "RemoteTelemetry(ATMCS, 0, nasymth_m3_mountMotorEncoders) falling behind; read 33 messages\n",
      "RemoteTelemetry(ATPtg, 0, mountStatus) falling behind; read 100 messages\n",
      "RemoteTelemetry(ATPneumatics, 0, m1AirPressure) falling behind; read 34 messages\n",
      "RemoteTelemetry(ATMCS, 0, mount_Nasmyth_Encoders) falling behind; read 34 messages\n",
      "RemoteTelemetry(ATPtg, 0, guidingAndOffsets) falling behind; read 100 messages\n",
      "RemoteTelemetry(ATMCS, 0, mount_AzEl_Encoders) falling behind; read 34 messages\n",
      "RemoteEvent(ATPneumatics, 0, heartbeat) falling behind; read 34 messages\n",
      "RemoteTelemetry(ATMCS, 0, measuredTorque) falling behind; read 34 messages\n",
      "RemoteTelemetry(ATPtg, 0, currentTargetStatus) falling behind; read 100 messages\n",
      "RemoteTelemetry(ATMCS, 0, measuredMotorVelocity) falling behind; read 34 messages\n",
      "RemoteTelemetry(ATMCS, 0, azEl_mountMotorEncoders) falling behind; read 34 messages\n",
      "RemoteEvent(ATMCS, 0, heartbeat) falling behind; read 35 messages\n",
      "process as completed...\n",
      "[Telescope] delta Alt = +000.094 | delta Az= +000.120 [Dome] delta Az = -002.710\n",
      "Got False\n",
      "Telescope not in position\n",
      "[Telescope] delta Alt = -003.922 | delta Az= -038.241 [Dome] delta Az = -042.903\n",
      "[Telescope] delta Alt = -000.569 | delta Az= -034.257 [Dome] delta Az = -040.867\n",
      "[Telescope] delta Alt = -000.002 | delta Az= -030.273 [Dome] delta Az = -037.873\n",
      "[Telescope] delta Alt = -000.002 | delta Az= -026.296 [Dome] delta Az = -033.968\n",
      "[Telescope] delta Alt = -000.002 | delta Az= -022.361 [Dome] delta Az = -029.652\n",
      "[Telescope] delta Alt = -000.002 | delta Az= -018.528 [Dome] delta Az = -023.988\n",
      "[Telescope] delta Alt = -000.002 | delta Az= -014.874 [Dome] delta Az = -017.413\n",
      "[Telescope] delta Alt = -000.002 | delta Az= -011.482 [Dome] delta Az = -010.518\n",
      "[Telescope] delta Alt = -000.002 | delta Az= -008.438 [Dome] delta Az = -004.283\n",
      "[Telescope] delta Alt = -000.002 | delta Az= -005.818 [Dome] delta Az = +001.222\n",
      "[Telescope] delta Alt = -000.002 | delta Az= -003.680 [Dome] delta Az = +002.837\n",
      "[Telescope] delta Alt = -000.002 | delta Az= -002.057 [Dome] delta Az = +002.843\n",
      "[Telescope] delta Alt = -000.002 | delta Az= -000.950 [Dome] delta Az = +002.827\n",
      "[Telescope] delta Alt = -000.002 | delta Az= -000.309 [Dome] delta Az = +002.812\n",
      "[Telescope] delta Alt = -000.002 | delta Az= -000.047 [Dome] delta Az = +002.797\n",
      "[Telescope] delta Alt = -000.002 | delta Az= -000.006 [Dome] delta Az = +002.782\n",
      "[Telescope] delta Alt = -000.002 | delta Az= -000.006 [Dome] delta Az = +002.767\n",
      "[Telescope] delta Alt = -000.002 | delta Az= -000.006 [Dome] delta Az = +002.752\n",
      "[Telescope] delta Alt = -000.002 | delta Az= -000.006 [Dome] delta Az = +002.737\n",
      "[Telescope] delta Alt = -000.002 | delta Az= -000.006 [Dome] delta Az = +002.723\n",
      "[Telescope] delta Alt = -000.002 | delta Az= -000.006 [Dome] delta Az = +002.707\n",
      "[Telescope] delta Alt = -000.002 | delta Az= -000.006 [Dome] delta Az = +002.692\n",
      "[Telescope] delta Alt = -000.002 | delta Az= -000.006 [Dome] delta Az = +002.677\n",
      "[Telescope] delta Alt = -000.002 | delta Az= -000.006 [Dome] delta Az = +002.662\n",
      "[Telescope] delta Alt = -000.002 | delta Az= -000.006 [Dome] delta Az = +002.647\n",
      "[Telescope] delta Alt = -000.002 | delta Az= -000.006 [Dome] delta Az = +002.633\n",
      "[Telescope] delta Alt = -000.004 | delta Az= -000.013 [Dome] delta Az = +002.618\n",
      "[Telescope] delta Alt = -000.002 | delta Az= -000.006 [Dome] delta Az = +002.610\n",
      "[Telescope] delta Alt = -000.002 | delta Az= -000.006 [Dome] delta Az = +002.595\n",
      "[Telescope] delta Alt = -000.002 | delta Az= -000.006 [Dome] delta Az = +002.580\n",
      "[Telescope] delta Alt = -000.002 | delta Az= -000.006 [Dome] delta Az = +002.565\n",
      "[Telescope] delta Alt = -000.002 | delta Az= -000.006 [Dome] delta Az = +002.550\n",
      "[Telescope] delta Alt = -000.002 | delta Az= -000.005 [Dome] delta Az = +002.536\n",
      "[Telescope] delta Alt = -000.002 | delta Az= -000.006 [Dome] delta Az = +002.520\n",
      "[Telescope] delta Alt = -000.002 | delta Az= -000.006 [Dome] delta Az = +002.506\n",
      "[Telescope] delta Alt = -000.002 | delta Az= -000.006 [Dome] delta Az = +002.491\n",
      "[Telescope] delta Alt = -000.002 | delta Az= -000.006 [Dome] delta Az = +002.476\n",
      "[Telescope] delta Alt = -000.002 | delta Az= -000.006 [Dome] delta Az = +002.461\n",
      "[Telescope] delta Alt = -000.002 | delta Az= -000.006 [Dome] delta Az = +002.446\n",
      "[Telescope] delta Alt = -000.002 | delta Az= -000.006 [Dome] delta Az = +002.431\n",
      "[Telescope] delta Alt = -000.002 | delta Az= -000.006 [Dome] delta Az = +002.416\n",
      "[Telescope] delta Alt = -000.002 | delta Az= -000.006 [Dome] delta Az = +002.401\n",
      "Got True\n",
      "Telescope in position.\n",
      "[None, 'Telescope in position.', 'ATDome in position.']\n",
      "Removing callback...\n"
     ]
    }
   ],
   "source": [
    "attcs.check.atdome = True\n",
    "await attcs.slew_icrs(ra=\"06 41 56.3857394576\", \n",
    "                      dec=\"-09 10 03.123066225\", \n",
    "                      rot_pa=0., \n",
    "                      target_name=\"HD 48217\", \n",
    "                      slew_timeout=240.)"
   ]
  },
  {
   "cell_type": "code",
   "execution_count": null,
   "metadata": {},
   "outputs": [],
   "source": [
    "await attcs.ataos.cmd_enableCorrection.set_start(m1=True, hexapod=False)\n",
    "await asyncio.sleep(2.)\n",
    "# await attcs.ataos.cmd_disableCorrection.set_start(m1=False, hexapod=True)"
   ]
  },
  {
   "cell_type": "code",
   "execution_count": 163,
   "metadata": {},
   "outputs": [
    {
     "name": "stdout",
     "output_type": "stream",
     "text": [
      "RemoteEvent(ATDomeTrajectory, 0, logMessage) falling behind; read 100 messages\n",
      "RemoteTelemetry(ATDome, 0, position) falling behind; read 41 messages\n",
      "RemoteEvent(ATDome, 0, shutterInPosition) falling behind; read 14 messages\n",
      "RemoteEvent(ATDome, 0, mainDoorState) falling behind; read 15 messages\n",
      "RemoteTelemetry(ATPtg, 0, mountStatus) falling behind; read 44 messages\n",
      "RemoteEvent(ATPtg, 0, mountDataWarning) falling behind; read 10 messages\n"
     ]
    },
    {
     "data": {
      "text/plain": [
       "<lsst.ts.salobj.ddsutil.ATPtg_ackcmd_2d655b72 at 0x7f2ada244eb8>"
      ]
     },
     "execution_count": 163,
     "metadata": {},
     "output_type": "execute_result"
    }
   ],
   "source": [
    "# await attcs.ataos.cmd_disableCorrection.set_start(m1=False, hexapod=True)\n",
    "await attcs.atptg.cmd_offsetRADec.set_start(off1=-10., off2=30., num=0, type=0)"
   ]
  },
  {
   "cell_type": "code",
   "execution_count": 191,
   "metadata": {},
   "outputs": [
    {
     "name": "stdout",
     "output_type": "stream",
     "text": [
      "RemoteEvent(ATDome, 0, shutterInPosition) falling behind; read 38 messages\n",
      "RemoteTelemetry(ATMCS, 0, mount_Nasmyth_Encoders) falling behind; read 16 messages\n",
      "RemoteTelemetry(ATPtg, 0, currentTargetStatus) falling behind; read 79 messages\n",
      "RemoteEvent(ATDomeTrajectory, 0, logMessage) falling behind; read 100 messages\n",
      "RemoteTelemetry(ATPneumatics, 0, loadCell) falling behind; read 16 messages\n",
      "RemoteEvent(ATAOS, 0, heartbeat) falling behind; read 16 messages\n",
      "RemoteEvent(ATHexapod, 0, heartbeat) falling behind; read 16 messages\n",
      "RemoteEvent(ATDome, 0, mainDoorState) falling behind; read 39 messages\n",
      "RemoteEvent(ATMCS, 0, target) falling behind; read 100 messages\n",
      "RemoteTelemetry(ATPtg, 0, timeAndDate) falling behind; read 81 messages\n",
      "RemoteTelemetry(ATMCS, 0, trajectory) falling behind; read 16 messages\n",
      "RemoteTelemetry(ATHexapod, 0, positionStatus) falling behind; read 16 messages\n",
      "RemoteEvent(ATDomeTrajectory, 0, heartbeat) falling behind; read 17 messages\n",
      "RemoteTelemetry(ATMCS, 0, torqueDemand) falling behind; read 16 messages\n",
      "RemoteTelemetry(ATPneumatics, 0, mainAirSourcePressure) falling behind; read 17 messages\n",
      "RemoteTelemetry(ATDome, 0, position) falling behind; read 80 messages\n",
      "RemoteTelemetry(ATPtg, 0, mountStatus) falling behind; read 83 messages\n",
      "RemoteTelemetry(ATMCS, 0, nasymth_m3_mountMotorEncoders) falling behind; read 16 messages\n",
      "RemoteTelemetry(ATPneumatics, 0, m2AirPressure) falling behind; read 17 messages\n",
      "RemoteTelemetry(ATPtg, 0, guidingAndOffsets) falling behind; read 84 messages\n",
      "RemoteTelemetry(ATPneumatics, 0, m1AirPressure) falling behind; read 17 messages\n",
      "RemoteEvent(ATDome, 0, heartbeat) falling behind; read 17 messages\n",
      "RemoteTelemetry(ATMCS, 0, mount_AzEl_Encoders) falling behind; read 16 messages\n",
      "RemoteTelemetry(ATMCS, 0, measuredTorque) falling behind; read 16 messages\n",
      "RemoteEvent(ATPneumatics, 0, heartbeat) falling behind; read 17 messages\n",
      "Gathering settings.\n",
      "RemoteTelemetry(ATMCS, 0, measuredMotorVelocity) falling behind; read 16 messages\n",
      "RemoteEvent(ATPtg, 0, mountDataWarning) falling behind; read 12 messages\n",
      "RemoteTelemetry(ATMCS, 0, azEl_mountMotorEncoders) falling behind; read 17 messages\n",
      "RemoteEvent(ATMCS, 0, heartbeat) falling behind; read 17 messages\n",
      "Settings versions: {'ataos': 'measured_20190908.yaml', 'atmcs': '', 'atptg': '', 'atpneumatics': '', 'athexapod': 'current', 'atdome': 'test.yaml', 'atdometrajectory': ''}\n",
      "Enabling all components\n",
      "Enabling  atmcs\n",
      "Enabling  atptg\n",
      "Enabling  ataos\n",
      "Enabling  atpneumatics\n",
      "Enabling  athexapod\n",
      "Enabling  atdome\n",
      "Enabling  atdometrajectory\n",
      "[atmcs]::[<State.ENABLED: 2>]\n",
      "[atptg]::[<State.ENABLED: 2>]\n",
      "[ataos]::[<State.FAULT: 3>, <State.STANDBY: 5>, <State.DISABLED: 1>, <State.ENABLED: 2>]\n",
      "[atpneumatics]::[<State.ENABLED: 2>]\n",
      "[athexapod]::[<State.ENABLED: 2>]\n",
      "[atdome]::[<State.ENABLED: 2>]\n",
      "[atdometrajectory]::[<State.ENABLED: 2>]\n",
      "All components enabled.\n"
     ]
    }
   ],
   "source": [
    "await asyncio.sleep(1)\n",
    "attcs.check.atdometrajectory = True\n",
    "await attcs.enable(settings={\n",
    "    'ataos': \"measured_20190908.yaml\",\n",
    "    'atmcs': \"\",\n",
    "    'atptg': \"\",\n",
    "    'atpneumatics': \"\",\n",
    "    'athexapod': \"current\",\n",
    "    'atdome': \"test.yaml\",\n",
    "    'atdometrajectory': \"\"})"
   ]
  },
  {
   "cell_type": "code",
   "execution_count": 184,
   "metadata": {},
   "outputs": [
    {
     "name": "stdout",
     "output_type": "stream",
     "text": [
      "RemoteEvent(ATDomeTrajectory, 0, logMessage) falling behind; read 100 messages\n",
      "RemoteTelemetry(ATDome, 0, position) falling behind; read 62 messages\n",
      "RemoteEvent(ATAOS, 0, heartbeat) falling behind; read 13 messages\n",
      "RemoteTelemetry(ATHexapod, 0, positionStatus) falling behind; read 13 messages\n",
      "RemoteTelemetry(ATPneumatics, 0, loadCell) falling behind; read 12 messages\n",
      "RemoteTelemetry(ATPtg, 0, timeAndDate) falling behind; read 64 messages\n",
      "RemoteTelemetry(ATPneumatics, 0, mainAirSourcePressure) falling behind; read 13 messages\n",
      "RemoteEvent(ATHexapod, 0, heartbeat) falling behind; read 13 messages\n",
      "RemoteTelemetry(ATPtg, 0, mountStatus) falling behind; read 65 messages\n",
      "RemoteTelemetry(ATPneumatics, 0, m2AirPressure) falling behind; read 13 messages\n",
      "RemoteEvent(ATDomeTrajectory, 0, heartbeat) falling behind; read 13 messages\n",
      "RemoteTelemetry(ATMCS, 0, trajectory) falling behind; read 13 messages\n",
      "RemoteTelemetry(ATPtg, 0, guidingAndOffsets) falling behind; read 66 messages\n",
      "RemoteTelemetry(ATPneumatics, 0, m1AirPressure) falling behind; read 13 messages\n",
      "RemoteTelemetry(ATMCS, 0, torqueDemand) falling behind; read 13 messages\n",
      "RemoteEvent(ATDome, 0, heartbeat) falling behind; read 14 messages\n",
      "RemoteTelemetry(ATMCS, 0, nasymth_m3_mountMotorEncoders) falling behind; read 13 messages\n",
      "RemoteEvent(ATPneumatics, 0, heartbeat) falling behind; read 13 messages\n"
     ]
    },
    {
     "data": {
      "text/plain": [
       "<lsst.ts.salobj.ddsutil.ATPtg_ackcmd_2d655b72 at 0x7f2ad7ff2080>"
      ]
     },
     "execution_count": 184,
     "metadata": {},
     "output_type": "execute_result"
    }
   ],
   "source": [
    "await attcs.atptg.cmd_azElTarget.set_start(azDegs=0., elDegs=70)"
   ]
  },
  {
   "cell_type": "markdown",
   "metadata": {},
   "source": [
    "# HD 103596: 11 55 40.1308081125 -28 28 37.570226826"
   ]
  },
  {
   "cell_type": "code",
   "execution_count": 185,
   "metadata": {},
   "outputs": [
    {
     "name": "stdout",
     "output_type": "stream",
     "text": [
      "RemoteEvent(ATMCS, 0, target) falling behind; read 100 messages\n",
      "RemoteEvent(ATDomeTrajectory, 0, logMessage) falling behind; read 100 messages\n",
      "RemoteTelemetry(ATDome, 0, position) falling behind; read 100 messages\n",
      "RemoteTelemetry(ATPneumatics, 0, loadCell) falling behind; read 100 messages\n",
      "RemoteEvent(ATAOS, 0, heartbeat) falling behind; read 100 messages\n",
      "RemoteEvent(ATDomeTrajectory, 0, heartbeat) falling behind; read 100 messages\n",
      "RemoteTelemetry(ATHexapod, 0, positionStatus) falling behind; read 100 messages\n",
      "RemoteEvent(ATAOS, 0, m1CorrectionStarted) falling behind; read 50 messages\n",
      "RemoteEvent(ATAOS, 0, m1CorrectionCompleted) falling behind; read 50 messages\n",
      "RemoteTelemetry(ATPtg, 0, skyEnvironment) falling behind; read 43 messages\n",
      "RemoteTelemetry(ATMCS, 0, mount_Nasmyth_Encoders) falling behind; read 100 messages\n",
      "RemoteEvent(ATAOS, 0, detailedState) falling behind; read 100 messages\n",
      "Flushing events\n",
      "Scheduling check coroutines\n",
      "Sending command\n",
      "RemoteTelemetry(ATMCS, 0, mount_AzEl_Encoders) falling behind; read 100 messages\n",
      "RemoteEvent(ATPneumatics, 0, m1SetPressure) falling behind; read 50 messages\n",
      "RemoteTelemetry(ATPtg, 0, guidingAndOffsets) falling behind; read 100 messages\n",
      "Got False\n",
      "ATDome not in position\n",
      "Got True\n",
      "ATDome in position.\n",
      "RemoteTelemetry(ATPtg, 0, currentTimesToLimits) falling behind; read 43 messages\n",
      "RemoteEvent(ATPtg, 0, weatherDataApplied) falling behind; read 22 messages\n",
      "Got False\n",
      "Telescope not in position\n",
      "Got True\n",
      "Telescope in position.\n",
      "[Telescope] delta Alt = +000.000 | delta Az= -000.000 [Dome] delta Az = -002.910\n",
      "process as completed...\n",
      "[None, 'Telescope in position.', 'ATDome in position.']\n",
      "Removing callback...\n"
     ]
    }
   ],
   "source": [
    "attcs.check.atdome = True\n",
    "await attcs.slew_icrs(ra=\"11 55 40.1308081125\", \n",
    "                      dec=\"-28 28 37.57022682\", \n",
    "                      rot_pa=0., \n",
    "                      target_name=\"HD 103596\", \n",
    "                      slew_timeout=240.)"
   ]
  },
  {
   "cell_type": "code",
   "execution_count": 188,
   "metadata": {},
   "outputs": [
    {
     "name": "stdout",
     "output_type": "stream",
     "text": [
      "RemoteTelemetry(ATPneumatics, 0, mainAirSourcePressure) falling behind; read 48 messages\n",
      "RemoteEvent(ATPtg, 0, mountDataWarning) falling behind; read 44 messages\n",
      "RemoteEvent(ATMCS, 0, heartbeat) falling behind; read 52 messages\n",
      "RemoteTelemetry(ATPneumatics, 0, m2AirPressure) falling behind; read 48 messages\n",
      "RemoteEvent(ATAOS, 0, heartbeat) falling behind; read 48 messages\n",
      "RemoteTelemetry(ATHexapod, 0, positionStatus) falling behind; read 48 messages\n",
      "RemoteTelemetry(ATDome, 0, position) falling behind; read 100 messages\n",
      "RemoteTelemetry(ATPneumatics, 0, m1AirPressure) falling behind; read 49 messages\n",
      "RemoteTelemetry(ATPneumatics, 0, loadCell) falling behind; read 49 messages\n",
      "RemoteTelemetry(ATPtg, 0, timeAndDate) falling behind; read 100 messages\n",
      "RemoteTelemetry(ATMCS, 0, trajectory) falling behind; read 49 messages\n",
      "RemoteEvent(ATDomeTrajectory, 0, heartbeat) falling behind; read 49 messages\n",
      "RemoteTelemetry(ATPtg, 0, skyEnvironment) falling behind; read 10 messages\n",
      "RemoteTelemetry(ATMCS, 0, torqueDemand) falling behind; read 48 messages\n",
      "RemoteEvent(ATHexapod, 0, heartbeat) falling behind; read 48 messages\n",
      "RemoteTelemetry(ATMCS, 0, nasymth_m3_mountMotorEncoders) falling behind; read 48 messages\n",
      "RemoteEvent(ATDome, 0, shutterInPosition) falling behind; read 100 messages\n",
      "RemoteTelemetry(ATMCS, 0, mount_Nasmyth_Encoders) falling behind; read 49 messages\n",
      "RemoteEvent(ATDome, 0, mainDoorState) falling behind; read 100 messages\n",
      "RemoteTelemetry(ATPtg, 0, currentTimesToLimits) falling behind; read 10 messages\n",
      "RemoteTelemetry(ATMCS, 0, mount_AzEl_Encoders) falling behind; read 49 messages\n",
      "RemoteEvent(ATDome, 0, heartbeat) falling behind; read 50 messages\n",
      "RemoteEvent(ATPneumatics, 0, heartbeat) falling behind; read 49 messages\n",
      "RemoteTelemetry(ATMCS, 0, measuredTorque) falling behind; read 49 messages\n",
      "RemoteTelemetry(ATMCS, 0, measuredMotorVelocity) falling behind; read 49 messages\n",
      "RemoteTelemetry(ATMCS, 0, azEl_mountMotorEncoders) falling behind; read 50 messages\n"
     ]
    }
   ],
   "source": [
    "await asyncio.sleep(2.)"
   ]
  },
  {
   "cell_type": "code",
   "execution_count": 192,
   "metadata": {},
   "outputs": [
    {
     "name": "stdout",
     "output_type": "stream",
     "text": [
      "RemoteEvent(ATMCS, 0, target) falling behind; read 100 messages\n",
      "RemoteEvent(ATDomeTrajectory, 0, logMessage) falling behind; read 100 messages\n",
      "RemoteTelemetry(ATDome, 0, position) falling behind; read 60 messages\n",
      "RemoteTelemetry(ATPtg, 0, currentTargetStatus) falling behind; read 61 messages\n",
      "RemoteTelemetry(ATPneumatics, 0, loadCell) falling behind; read 13 messages\n",
      "RemoteTelemetry(ATHexapod, 0, positionStatus) falling behind; read 12 messages\n",
      "RemoteEvent(ATAOS, 0, heartbeat) falling behind; read 12 messages\n",
      "RemoteTelemetry(ATMCS, 0, trajectory) falling behind; read 12 messages\n",
      "RemoteTelemetry(ATMCS, 0, torqueDemand) falling behind; read 12 messages\n",
      "RemoteEvent(ATDomeTrajectory, 0, heartbeat) falling behind; read 13 messages\n",
      "RemoteEvent(ATDome, 0, shutterInPosition) falling behind; read 31 messages\n",
      "RemoteTelemetry(ATPneumatics, 0, mainAirSourcePressure) falling behind; read 13 messages\n",
      "RemoteEvent(ATHexapod, 0, heartbeat) falling behind; read 12 messages\n",
      "RemoteTelemetry(ATPtg, 0, timeAndDate) falling behind; read 62 messages\n",
      "RemoteTelemetry(ATMCS, 0, nasymth_m3_mountMotorEncoders) falling behind; read 12 messages\n",
      "RemoteEvent(ATDome, 0, mainDoorState) falling behind; read 32 messages\n",
      "RemoteTelemetry(ATPneumatics, 0, m2AirPressure) falling behind; read 13 messages\n",
      "RemoteTelemetry(ATMCS, 0, mount_Nasmyth_Encoders) falling behind; read 12 messages\n",
      "RemoteEvent(ATDome, 0, heartbeat) falling behind; read 13 messages\n",
      "RemoteTelemetry(ATPneumatics, 0, m1AirPressure) falling behind; read 13 messages\n",
      "RemoteTelemetry(ATPtg, 0, mountStatus) falling behind; read 64 messages\n",
      "RemoteTelemetry(ATMCS, 0, mount_AzEl_Encoders) falling behind; read 12 messages\n",
      "RemoteEvent(ATPneumatics, 0, heartbeat) falling behind; read 13 messages\n",
      "RemoteTelemetry(ATPtg, 0, guidingAndOffsets) falling behind; read 64 messages\n",
      "RemoteTelemetry(ATMCS, 0, measuredTorque) falling behind; read 12 messages\n",
      "RemoteTelemetry(ATMCS, 0, measuredMotorVelocity) falling behind; read 12 messages\n",
      "RemoteTelemetry(ATMCS, 0, azEl_mountMotorEncoders) falling behind; read 12 messages\n",
      "RemoteEvent(ATMCS, 0, heartbeat) falling behind; read 13 messages\n"
     ]
    },
    {
     "data": {
      "text/plain": [
       "<lsst.ts.salobj.ddsutil.ATAOS_ackcmd_33d5c92b at 0x7f2ae1082a90>"
      ]
     },
     "execution_count": 192,
     "metadata": {},
     "output_type": "execute_result"
    }
   ],
   "source": [
    "\n",
    "attcs.ataos.evt_hexapodCorrectionCompleted.flush()\n",
    "await attcs.ataos.cmd_enableCorrection.set_start(m1=True, hexapod=False)\n",
    "# await attcs.ataos.cmd_disableCorrection.set_start(m1=False, hexapod=True)"
   ]
  },
  {
   "cell_type": "code",
   "execution_count": 190,
   "metadata": {},
   "outputs": [
    {
     "data": {
      "text/plain": [
       "<lsst.ts.salobj.ddsutil.ATAOS_logevent_hexapodCorrectionCompleted_53cffd5b at 0x7f2ae1e42198>"
      ]
     },
     "execution_count": 190,
     "metadata": {},
     "output_type": "execute_result"
    }
   ],
   "source": [
    "await attcs.ataos.evt_hexapodCorrectionCompleted.next(timeout=5, flush=False)"
   ]
  },
  {
   "cell_type": "code",
   "execution_count": 187,
   "metadata": {},
   "outputs": [
    {
     "name": "stdout",
     "output_type": "stream",
     "text": [
      "RemoteEvent(ATMCS, 0, target) falling behind; read 82 messages\n",
      "Task exception was never retrieved\n",
      "future: <Task finished coro=<ATTCS.check_component_state() done, defined at /home/saluser/repos/ts_standardscripts/python/lsst/ts/standardscripts/auxtel/attcs.py:716> exception=RuntimeError('atptg state is <State.FAULT: 3>')>\n",
      "Traceback (most recent call last):\n",
      "  File \"/home/saluser/repos/ts_standardscripts/python/lsst/ts/standardscripts/auxtel/attcs.py\", line 746, in check_component_state\n",
      "    raise RuntimeError(f\"{component} state is {state!r}\")\n",
      "RuntimeError: atptg state is <State.FAULT: 3>\n",
      "RemoteEvent(ATDomeTrajectory, 0, logMessage) falling behind; read 87 messages\n",
      "RemoteTelemetry(ATPtg, 0, timeAndDate) falling behind; read 22 messages\n",
      "RemoteTelemetry(ATDome, 0, position) falling behind; read 22 messages\n",
      "RemoteTelemetry(ATPtg, 0, mountStatus) falling behind; read 23 messages\n",
      "RemoteTelemetry(ATPtg, 0, guidingAndOffsets) falling behind; read 23 messages\n",
      "RemoteTelemetry(ATPtg, 0, currentTargetStatus) falling behind; read 23 messages\n"
     ]
    },
    {
     "data": {
      "text/plain": [
       "<lsst.ts.salobj.ddsutil.ATAOS_ackcmd_33d5c92b at 0x7f2ac8d82128>"
      ]
     },
     "execution_count": 187,
     "metadata": {},
     "output_type": "execute_result"
    }
   ],
   "source": [
    "await attcs.ataos.cmd_disableCorrection.set_start(m1=False, hexapod=True)"
   ]
  },
  {
   "cell_type": "code",
   "execution_count": 193,
   "metadata": {},
   "outputs": [
    {
     "name": "stdout",
     "output_type": "stream",
     "text": [
      "RemoteTelemetry(ATDome, 0, position) falling behind; read 100 messages\n",
      "RemoteEvent(ATMCS, 0, target) falling behind; read 100 messages\n",
      "RemoteEvent(ATDomeTrajectory, 0, logMessage) falling behind; read 100 messages\n",
      "RemoteTelemetry(ATPtg, 0, timeAndDate) falling behind; read 100 messages\n",
      "RemoteEvent(ATHexapod, 0, heartbeat) falling behind; read 75 messages\n",
      "RemoteEvent(ATAOS, 0, detailedState) falling behind; read 100 messages\n",
      "RemoteTelemetry(ATPneumatics, 0, loadCell) falling behind; read 75 messages\n",
      "RemoteTelemetry(ATPtg, 0, mountStatus) falling behind; read 100 messages\n",
      "RemoteEvent(ATAOS, 0, m1CorrectionStarted) falling behind; read 53 messages\n",
      "RemoteTelemetry(ATMCS, 0, trajectory) falling behind; read 76 messages\n",
      "RemoteTelemetry(ATHexapod, 0, positionStatus) falling behind; read 74 messages\n",
      "RemoteTelemetry(ATPneumatics, 0, mainAirSourcePressure) falling behind; read 76 messages\n",
      "RemoteTelemetry(ATPtg, 0, guidingAndOffsets) falling behind; read 100 messages\n",
      "RemoteEvent(ATAOS, 0, m1CorrectionCompleted) falling behind; read 53 messages\n",
      "RemoteTelemetry(ATMCS, 0, torqueDemand) falling behind; read 76 messages\n",
      "RemoteTelemetry(ATPneumatics, 0, m2AirPressure) falling behind; read 76 messages\n",
      "RemoteEvent(ATDomeTrajectory, 0, heartbeat) falling behind; read 76 messages\n",
      "RemoteEvent(ATDome, 0, shutterInPosition) falling behind; read 100 messages\n",
      "RemoteEvent(ATAOS, 0, heartbeat) falling behind; read 76 messages\n",
      "RemoteTelemetry(ATMCS, 0, nasymth_m3_mountMotorEncoders) falling behind; read 77 messages\n",
      "RemoteTelemetry(ATPneumatics, 0, m1AirPressure) falling behind; read 77 messages\n",
      "RemoteEvent(ATDome, 0, mainDoorState) falling behind; read 100 messages\n",
      "RemoteTelemetry(ATPtg, 0, currentTargetStatus) falling behind; read 100 messages\n",
      "RemoteTelemetry(ATMCS, 0, mount_Nasmyth_Encoders) falling behind; read 77 messages\n",
      "RemoteEvent(ATPneumatics, 0, m1SetPressure) falling behind; read 54 messages\n",
      "RemoteEvent(ATDome, 0, heartbeat) falling behind; read 77 messages\n",
      "RemoteTelemetry(ATMCS, 0, mount_AzEl_Encoders) falling behind; read 77 messages\n",
      "RemoteEvent(ATPneumatics, 0, heartbeat) falling behind; read 77 messages\n",
      "RemoteTelemetry(ATMCS, 0, measuredTorque) falling behind; read 78 messages\n",
      "RemoteTelemetry(ATMCS, 0, measuredMotorVelocity) falling behind; read 78 messages\n",
      "RemoteTelemetry(ATMCS, 0, azEl_mountMotorEncoders) falling behind; read 78 messages\n",
      "RemoteEvent(ATMCS, 0, heartbeat) falling behind; read 78 messages\n"
     ]
    },
    {
     "data": {
      "text/plain": [
       "<lsst.ts.salobj.ddsutil.ATPtg_ackcmd_2d655b72 at 0x7f2ad7c1cb00>"
      ]
     },
     "execution_count": 193,
     "metadata": {},
     "output_type": "execute_result"
    }
   ],
   "source": [
    "await attcs.atptg.cmd_pointNewFile.start()\n",
    "await attcs.atptg.cmd_pointAddData.start()"
   ]
  },
  {
   "cell_type": "markdown",
   "metadata": {},
   "source": [
    "# 25 Sex: 10 23 26.4782979577 -04 04 26.516936464"
   ]
  },
  {
   "cell_type": "code",
   "execution_count": 194,
   "metadata": {},
   "outputs": [
    {
     "name": "stdout",
     "output_type": "stream",
     "text": [
      "RemoteTelemetry(ATDome, 0, position) falling behind; read 100 messages\n",
      "RemoteEvent(ATHexapod, 0, heartbeat) falling behind; read 100 messages\n",
      "RemoteEvent(ATPneumatics, 0, heartbeat) falling behind; read 100 messages\n",
      "RemoteEvent(ATDomeTrajectory, 0, logMessage) falling behind; read 100 messages\n",
      "RemoteTelemetry(ATHexapod, 0, positionStatus) falling behind; read 100 messages\n",
      "RemoteTelemetry(ATPtg, 0, timeAndDate) falling behind; read 100 messages\n",
      "RemoteTelemetry(ATMCS, 0, nasymth_m3_mountMotorEncoders) falling behind; read 100 messages\n",
      "RemoteTelemetry(ATMCS, 0, mount_Nasmyth_Encoders) falling behind; read 100 messages\n",
      "Flushing events\n",
      "Scheduling check coroutines\n",
      "Sending command\n",
      "RemoteTelemetry(ATMCS, 0, mount_AzEl_Encoders) falling behind; read 100 messages\n",
      "RemoteEvent(ATDome, 0, heartbeat) falling behind; read 100 messages\n",
      "RemoteTelemetry(ATPneumatics, 0, m1AirPressure) falling behind; read 100 messages\n",
      "Got False\n",
      "ATDome not in position\n",
      "Got True\n",
      "ATDome in position.\n",
      "RemoteEvent(ATPneumatics, 0, m1SetPressure) falling behind; read 92 messages\n",
      "RemoteEvent(ATPtg, 0, weatherDataApplied) falling behind; read 13 messages\n",
      "process as completed...\n",
      "[Telescope] delta Alt = -000.099 | delta Az= +000.162 [Dome] delta Az = -003.285\n",
      "Got False\n",
      "Telescope not in position\n",
      "[Telescope] delta Alt = +005.473 | delta Az= -043.310 [Dome] delta Az = -048.761\n",
      "[Telescope] delta Alt = +001.714 | delta Az= -039.320 [Dome] delta Az = -046.710\n",
      "[Telescope] delta Alt = +000.020 | delta Az= -035.329 [Dome] delta Az = -043.719\n",
      "[Telescope] delta Alt = +000.002 | delta Az= -031.339 [Dome] delta Az = -039.798\n",
      "[Telescope] delta Alt = +000.002 | delta Az= -027.350 [Dome] delta Az = -035.477\n",
      "[Telescope] delta Alt = +000.002 | delta Az= -023.396 [Dome] delta Az = -029.796\n",
      "[Telescope] delta Alt = +000.002 | delta Az= -019.526 [Dome] delta Az = -023.235\n",
      "[Telescope] delta Alt = +000.002 | delta Az= -015.813 [Dome] delta Az = -016.314\n",
      "[Telescope] delta Alt = +000.002 | delta Az= -012.343 [Dome] delta Az = -009.403\n",
      "[Telescope] delta Alt = +000.002 | delta Az= -009.201 [Dome] delta Az = -002.612\n",
      "[Telescope] delta Alt = +000.002 | delta Az= -006.461 [Dome] delta Az = +001.699\n",
      "[Telescope] delta Alt = +000.002 | delta Az= -004.193 [Dome] delta Az = +002.840\n",
      "[Telescope] delta Alt = +000.002 | delta Az= -002.432 [Dome] delta Az = +002.831\n",
      "[Telescope] delta Alt = +000.002 | delta Az= -001.191 [Dome] delta Az = +002.822\n",
      "[Telescope] delta Alt = +000.005 | delta Az= -000.761 [Dome] delta Az = +002.813\n",
      "[Telescope] delta Alt = +000.003 | delta Az= -000.219 [Dome] delta Az = +002.808\n",
      "[Telescope] delta Alt = +000.002 | delta Az= -000.023 [Dome] delta Az = +002.800\n",
      "[Telescope] delta Alt = +000.002 | delta Az= -000.004 [Dome] delta Az = +002.791\n",
      "Got True\n",
      "Telescope in position.\n",
      "[None, 'Telescope in position.', 'ATDome in position.']\n",
      "Removing callback...\n"
     ]
    }
   ],
   "source": [
    "attcs.check.atdome = True\n",
    "await attcs.slew_icrs(ra=\"10 23 26.4782979577\", \n",
    "                      dec=\"-04 04 26.516936464\", \n",
    "                      rot_pa=0., \n",
    "                      target_name=\"25 Sex\", \n",
    "                      slew_timeout=240.)"
   ]
  },
  {
   "cell_type": "code",
   "execution_count": 204,
   "metadata": {},
   "outputs": [
    {
     "name": "stdout",
     "output_type": "stream",
     "text": [
      "RemoteTelemetry(ATPtg, 0, timeAndDate) falling behind; read 54 messages\n",
      "RemoteEvent(ATMCS, 0, target) falling behind; read 100 messages\n",
      "RemoteEvent(ATDomeTrajectory, 0, logMessage) falling behind; read 100 messages\n",
      "RemoteTelemetry(ATDome, 0, position) falling behind; read 54 messages\n",
      "RemoteTelemetry(ATHexapod, 0, positionStatus) falling behind; read 11 messages\n",
      "RemoteTelemetry(ATPneumatics, 0, loadCell) falling behind; read 11 messages\n",
      "RemoteEvent(ATAOS, 0, heartbeat) falling behind; read 11 messages\n",
      "RemoteTelemetry(ATMCS, 0, trajectory) falling behind; read 11 messages\n",
      "RemoteEvent(ATDomeTrajectory, 0, heartbeat) falling behind; read 11 messages\n",
      "RemoteTelemetry(ATMCS, 0, torqueDemand) falling behind; read 11 messages\n",
      "RemoteEvent(ATDome, 0, shutterInPosition) falling behind; read 24 messages\n",
      "RemoteEvent(ATHexapod, 0, heartbeat) falling behind; read 11 messages\n",
      "RemoteTelemetry(ATPneumatics, 0, mainAirSourcePressure) falling behind; read 11 messages\n",
      "RemoteTelemetry(ATPtg, 0, mountStatus) falling behind; read 56 messages\n",
      "RemoteTelemetry(ATMCS, 0, nasymth_m3_mountMotorEncoders) falling behind; read 12 messages\n",
      "RemoteEvent(ATDome, 0, mainDoorState) falling behind; read 24 messages\n",
      "RemoteTelemetry(ATPneumatics, 0, m2AirPressure) falling behind; read 11 messages\n",
      "RemoteTelemetry(ATPtg, 0, guidingAndOffsets) falling behind; read 57 messages\n",
      "RemoteTelemetry(ATMCS, 0, mount_Nasmyth_Encoders) falling behind; read 12 messages\n",
      "RemoteEvent(ATDome, 0, heartbeat) falling behind; read 11 messages\n",
      "RemoteTelemetry(ATPneumatics, 0, m1AirPressure) falling behind; read 12 messages\n",
      "RemoteTelemetry(ATMCS, 0, mount_AzEl_Encoders) falling behind; read 12 messages\n",
      "RemoteEvent(ATPneumatics, 0, heartbeat) falling behind; read 12 messages\n",
      "RemoteTelemetry(ATPtg, 0, currentTargetStatus) falling behind; read 58 messages\n",
      "RemoteTelemetry(ATMCS, 0, measuredTorque) falling behind; read 12 messages\n",
      "RemoteTelemetry(ATMCS, 0, measuredMotorVelocity) falling behind; read 12 messages\n",
      "RemoteEvent(ATPtg, 0, mountDataWarning) falling behind; read 10 messages\n",
      "RemoteTelemetry(ATMCS, 0, azEl_mountMotorEncoders) falling behind; read 12 messages\n",
      "RemoteEvent(ATMCS, 0, heartbeat) falling behind; read 12 messages\n"
     ]
    },
    {
     "data": {
      "text/plain": [
       "<lsst.ts.salobj.ddsutil.ATAOS_ackcmd_33d5c92b at 0x7f2ada1328d0>"
      ]
     },
     "execution_count": 204,
     "metadata": {},
     "output_type": "execute_result"
    }
   ],
   "source": [
    "await attcs.ataos.cmd_enableCorrection.set_start(m1=True, hexapod=False)\n",
    "# await attcs.ataos.cmd_disableCorrection.set_start(m1=False, hexapod=True)"
   ]
  },
  {
   "cell_type": "code",
   "execution_count": 213,
   "metadata": {},
   "outputs": [
    {
     "name": "stdout",
     "output_type": "stream",
     "text": [
      "RemoteEvent(ATDomeTrajectory, 0, logMessage) falling behind; read 100 messages\n",
      "RemoteEvent(ATHexapod, 0, heartbeat) falling behind; read 13 messages\n",
      "RemoteEvent(ATAOS, 0, heartbeat) falling behind; read 13 messages\n",
      "RemoteTelemetry(ATPneumatics, 0, loadCell) falling behind; read 13 messages\n",
      "RemoteTelemetry(ATDome, 0, position) falling behind; read 65 messages\n",
      "RemoteTelemetry(ATHexapod, 0, positionStatus) falling behind; read 13 messages\n",
      "RemoteTelemetry(ATPneumatics, 0, mainAirSourcePressure) falling behind; read 13 messages\n",
      "RemoteTelemetry(ATMCS, 0, trajectory) falling behind; read 13 messages\n",
      "RemoteTelemetry(ATPneumatics, 0, m2AirPressure) falling behind; read 13 messages\n",
      "RemoteTelemetry(ATMCS, 0, torqueDemand) falling behind; read 14 messages\n",
      "RemoteEvent(ATDomeTrajectory, 0, heartbeat) falling behind; read 13 messages\n",
      "RemoteEvent(ATDome, 0, heartbeat) falling behind; read 13 messages\n",
      "Gathering settings.\n",
      "Settings versions: {'ataos': 'm1_and_hex_20191212.yaml', 'atmcs': '', 'atptg': '', 'atpneumatics': '', 'athexapod': 'current', 'atdome': 'test.yaml', 'atdometrajectory': ''}\n",
      "Enabling all components\n",
      "Enabling  atmcs\n",
      "Enabling  atptg\n",
      "Enabling  ataos\n",
      "Enabling  atpneumatics\n",
      "Enabling  athexapod\n",
      "Enabling  atdome\n",
      "Enabling  atdometrajectory\n",
      "[atmcs]::[<State.ENABLED: 2>]\n",
      "[atptg]::[<State.ENABLED: 2>]\n",
      "[ataos]::[<State.FAULT: 3>, <State.STANDBY: 5>, <State.DISABLED: 1>, <State.ENABLED: 2>]\n",
      "[atpneumatics]::[<State.ENABLED: 2>]\n",
      "[athexapod]::[<State.ENABLED: 2>]\n",
      "[atdome]::[<State.ENABLED: 2>]\n",
      "[atdometrajectory]::[<State.ENABLED: 2>]\n",
      "All components enabled.\n"
     ]
    }
   ],
   "source": [
    "await asyncio.sleep(1)\n",
    "attcs.check.atdometrajectory = True\n",
    "await attcs.enable(settings={\n",
    "    'ataos': \"m1_and_hex_20191212.yaml\",\n",
    "    'atmcs': \"\",\n",
    "    'atptg': \"\",\n",
    "    'atpneumatics': \"\",\n",
    "    'athexapod': \"current\",\n",
    "    'atdome': \"test.yaml\",\n",
    "    'atdometrajectory': \"\"})"
   ]
  },
  {
   "cell_type": "code",
   "execution_count": 201,
   "metadata": {},
   "outputs": [
    {
     "name": "stdout",
     "output_type": "stream",
     "text": [
      "RemoteEvent(ATDomeTrajectory, 0, logMessage) falling behind; read 100 messages\n",
      "RemoteEvent(ATHexapod, 0, heartbeat) falling behind; read 11 messages\n",
      "RemoteEvent(ATAOS, 0, heartbeat) falling behind; read 11 messages\n",
      "RemoteTelemetry(ATHexapod, 0, positionStatus) falling behind; read 11 messages\n",
      "RemoteTelemetry(ATDome, 0, position) falling behind; read 55 messages\n",
      "RemoteTelemetry(ATPneumatics, 0, mainAirSourcePressure) falling behind; read 11 messages\n",
      "RemoteTelemetry(ATPneumatics, 0, m2AirPressure) falling behind; read 11 messages\n",
      "RemoteTelemetry(ATPtg, 0, timeAndDate) falling behind; read 58 messages\n",
      "RemoteTelemetry(ATPneumatics, 0, m1AirPressure) falling behind; read 11 messages\n",
      "RemoteEvent(ATDomeTrajectory, 0, heartbeat) falling behind; read 11 messages\n",
      "RemoteEvent(ATDome, 0, heartbeat) falling behind; read 12 messages\n",
      "RemoteEvent(ATPneumatics, 0, heartbeat) falling behind; read 11 messages\n",
      "RemoteTelemetry(ATPtg, 0, mountStatus) falling behind; read 58 messages\n",
      "RemoteTelemetry(ATMCS, 0, mount_Nasmyth_Encoders) falling behind; read 12 messages\n",
      "RemoteTelemetry(ATMCS, 0, mount_AzEl_Encoders) falling behind; read 12 messages\n",
      "RemoteTelemetry(ATMCS, 0, measuredTorque) falling behind; read 12 messages\n",
      "RemoteTelemetry(ATMCS, 0, measuredMotorVelocity) falling behind; read 12 messages\n"
     ]
    },
    {
     "data": {
      "text/plain": [
       "<lsst.ts.salobj.ddsutil.ATPtg_ackcmd_2d655b72 at 0x7f2ae1fe2ba8>"
      ]
     },
     "execution_count": 201,
     "metadata": {},
     "output_type": "execute_result"
    }
   ],
   "source": [
    "# await attcs.ataos.cmd_disableCorrection.set_start(m1=False, hexapod=True)\n",
    "await attcs.atptg.cmd_offsetRADec.set_start(off1=5., off2=-5., num=0, type=0)"
   ]
  },
  {
   "cell_type": "code",
   "execution_count": 202,
   "metadata": {},
   "outputs": [
    {
     "name": "stdout",
     "output_type": "stream",
     "text": [
      "RemoteTelemetry(ATDome, 0, position) falling behind; read 75 messages\n",
      "RemoteTelemetry(ATPneumatics, 0, loadCell) falling behind; read 15 messages\n",
      "RemoteEvent(ATAOS, 0, heartbeat) falling behind; read 15 messages\n",
      "RemoteEvent(ATDomeTrajectory, 0, logMessage) falling behind; read 100 messages\n",
      "RemoteTelemetry(ATPneumatics, 0, mainAirSourcePressure) falling behind; read 16 messages\n",
      "RemoteTelemetry(ATPneumatics, 0, m2AirPressure) falling behind; read 16 messages\n",
      "RemoteEvent(ATHexapod, 0, heartbeat) falling behind; read 16 messages\n",
      "RemoteTelemetry(ATPtg, 0, mountStatus) falling behind; read 81 messages\n",
      "RemoteTelemetry(ATPneumatics, 0, m1AirPressure) falling behind; read 16 messages\n",
      "RemoteEvent(ATDome, 0, shutterInPosition) falling behind; read 41 messages\n",
      "RemoteEvent(ATPneumatics, 0, heartbeat) falling behind; read 16 messages\n",
      "RemoteEvent(ATDome, 0, mainDoorState) falling behind; read 41 messages\n"
     ]
    },
    {
     "data": {
      "text/plain": [
       "<lsst.ts.salobj.ddsutil.ATPtg_ackcmd_2d655b72 at 0x7f2ad7ea3828>"
      ]
     },
     "execution_count": 202,
     "metadata": {},
     "output_type": "execute_result"
    }
   ],
   "source": [
    "# await attcs.atptg.cmd_pointNewFile.start()\n",
    "await attcs.atptg.cmd_pointAddData.start()"
   ]
  },
  {
   "cell_type": "markdown",
   "metadata": {},
   "source": [
    "# del Ant: 10 29 35.3822401873 -30 36 25.422376542"
   ]
  },
  {
   "cell_type": "code",
   "execution_count": 205,
   "metadata": {},
   "outputs": [
    {
     "name": "stdout",
     "output_type": "stream",
     "text": [
      "RemoteEvent(ATMCS, 0, target) falling behind; read 100 messages\n",
      "RemoteEvent(ATDomeTrajectory, 0, logMessage) falling behind; read 100 messages\n",
      "RemoteTelemetry(ATPtg, 0, timeAndDate) falling behind; read 100 messages\n",
      "RemoteTelemetry(ATDome, 0, position) falling behind; read 100 messages\n",
      "RemoteTelemetry(ATHexapod, 0, positionStatus) falling behind; read 100 messages\n",
      "RemoteTelemetry(ATPneumatics, 0, loadCell) falling behind; read 100 messages\n",
      "RemoteEvent(ATAOS, 0, heartbeat) falling behind; read 100 messages\n",
      "Flushing events\n",
      "Scheduling check coroutines\n",
      "Sending command\n",
      "RemoteTelemetry(ATPneumatics, 0, mainAirSourcePressure) falling behind; read 100 messages\n",
      "RemoteEvent(ATHexapod, 0, heartbeat) falling behind; read 100 messages\n",
      "RemoteTelemetry(ATMCS, 0, trajectory) falling behind; read 100 messages\n",
      "RemoteEvent(ATAOS, 0, m1CorrectionStarted) falling behind; read 28 messages\n",
      "Got False\n",
      "ATDome not in position\n",
      "Got True\n",
      "ATDome in position.\n",
      "RemoteTelemetry(ATPneumatics, 0, m2AirPressure) falling behind; read 100 messages\n",
      "RemoteEvent(ATDome, 0, shutterInPosition) falling behind; read 100 messages\n",
      "RemoteTelemetry(ATMCS, 0, torqueDemand) falling behind; read 100 messages\n",
      "RemoteEvent(ATDomeTrajectory, 0, heartbeat) falling behind; read 100 messages\n",
      "RemoteEvent(ATAOS, 0, m1CorrectionCompleted) falling behind; read 28 messages\n",
      "RemoteTelemetry(ATPtg, 0, skyEnvironment) falling behind; read 25 messages\n",
      "RemoteEvent(ATDome, 0, mainDoorState) falling behind; read 100 messages\n",
      "RemoteEvent(ATAOS, 0, detailedState) falling behind; read 56 messages\n",
      "RemoteTelemetry(ATPtg, 0, mountStatus) falling behind; read 100 messages\n",
      "RemoteEvent(ATPneumatics, 0, m1SetPressure) falling behind; read 28 messages\n",
      "RemoteEvent(ATDome, 0, heartbeat) falling behind; read 100 messages\n",
      "RemoteTelemetry(ATPtg, 0, guidingAndOffsets) falling behind; read 100 messages\n",
      "RemoteTelemetry(ATPtg, 0, currentTimesToLimits) falling behind; read 25 messages\n",
      "RemoteTelemetry(ATPtg, 0, currentTargetStatus) falling behind; read 100 messages\n",
      "RemoteEvent(ATPtg, 0, weatherDataApplied) falling behind; read 12 messages\n",
      "[Telescope] delta Alt = -000.040 | delta Az= -000.111 [Dome] delta Az = +000.038\n",
      "process as completed...\n",
      "Got False\n",
      "Telescope not in position\n",
      "[Telescope] delta Alt = +009.994 | delta Az= +042.045 [Dome] delta Az = +043.933\n",
      "[Telescope] delta Alt = +006.717 | delta Az= +038.045 [Dome] delta Az = +042.592\n",
      "[Telescope] delta Alt = +002.872 | delta Az= +034.043 [Dome] delta Az = +039.610\n",
      "[Telescope] delta Alt = +000.443 | delta Az= +030.042 [Dome] delta Az = +035.698\n",
      "[Telescope] delta Alt = +000.003 | delta Az= +026.050 [Dome] delta Az = +030.876\n",
      "[Telescope] delta Alt = +000.003 | delta Az= +022.105 [Dome] delta Az = +025.734\n",
      "[Telescope] delta Alt = +000.003 | delta Az= +018.269 [Dome] delta Az = +019.162\n",
      "[Telescope] delta Alt = +000.006 | delta Az= +016.415 [Dome] delta Az = +012.890\n",
      "[Telescope] delta Alt = +000.003 | delta Az= +012.891 [Dome] delta Az = +008.759\n",
      "[Telescope] delta Alt = +000.003 | delta Az= +009.681 [Dome] delta Az = +002.637\n",
      "[Telescope] delta Alt = +000.003 | delta Az= +006.867 [Dome] delta Az = -001.795\n",
      "[Telescope] delta Alt = +000.002 | delta Az= +004.514 [Dome] delta Az = -003.057\n",
      "[Telescope] delta Alt = +000.003 | delta Az= +002.669 [Dome] delta Az = -003.059\n",
      "[Telescope] delta Alt = +000.003 | delta Az= +001.346 [Dome] delta Az = -003.061\n",
      "[Telescope] delta Alt = +000.003 | delta Az= +000.518 [Dome] delta Az = -003.063\n",
      "[Telescope] delta Alt = +000.003 | delta Az= +000.112 [Dome] delta Az = -003.065\n",
      "[Telescope] delta Alt = +000.003 | delta Az= +000.002 [Dome] delta Az = -003.067\n",
      "Got True\n",
      "Telescope in position.\n",
      "[None, 'Telescope in position.', 'ATDome in position.']\n",
      "Removing callback...\n"
     ]
    }
   ],
   "source": [
    "attcs.check.atdome = True\n",
    "await attcs.slew_icrs(ra=\"10 29 35.3822401873\", \n",
    "                      dec=\"-30 36 25.422376542\", \n",
    "                      rot_pa=0., \n",
    "                      target_name=\"del Ant\", \n",
    "                      slew_timeout=240.)"
   ]
  },
  {
   "cell_type": "code",
   "execution_count": 214,
   "metadata": {},
   "outputs": [
    {
     "name": "stdout",
     "output_type": "stream",
     "text": [
      "RemoteEvent(ATMCS, 0, target) falling behind; read 100 messages\n",
      "RemoteTelemetry(ATPtg, 0, timeAndDate) falling behind; read 61 messages\n",
      "RemoteEvent(ATDomeTrajectory, 0, logMessage) falling behind; read 100 messages\n",
      "RemoteTelemetry(ATDome, 0, position) falling behind; read 60 messages\n",
      "RemoteEvent(ATHexapod, 0, heartbeat) falling behind; read 13 messages\n",
      "RemoteEvent(ATAOS, 0, heartbeat) falling behind; read 12 messages\n",
      "RemoteTelemetry(ATPneumatics, 0, m2AirPressure) falling behind; read 12 messages\n",
      "RemoteTelemetry(ATPneumatics, 0, m1AirPressure) falling behind; read 12 messages\n",
      "RemoteTelemetry(ATPneumatics, 0, loadCell) falling behind; read 12 messages\n",
      "RemoteTelemetry(ATHexapod, 0, positionStatus) falling behind; read 12 messages\n",
      "RemoteTelemetry(ATMCS, 0, trajectory) falling behind; read 13 messages\n",
      "RemoteEvent(ATPneumatics, 0, heartbeat) falling behind; read 12 messages\n",
      "RemoteEvent(ATDomeTrajectory, 0, heartbeat) falling behind; read 12 messages\n",
      "RemoteEvent(ATDome, 0, shutterInPosition) falling behind; read 36 messages\n",
      "RemoteTelemetry(ATMCS, 0, torqueDemand) falling behind; read 13 messages\n",
      "RemoteTelemetry(ATPtg, 0, mountStatus) falling behind; read 63 messages\n",
      "RemoteEvent(ATDome, 0, mainDoorState) falling behind; read 36 messages\n",
      "RemoteTelemetry(ATMCS, 0, nasymth_m3_mountMotorEncoders) falling behind; read 13 messages\n",
      "RemoteTelemetry(ATPtg, 0, guidingAndOffsets) falling behind; read 64 messages\n",
      "RemoteEvent(ATDome, 0, heartbeat) falling behind; read 13 messages\n",
      "RemoteTelemetry(ATMCS, 0, mount_Nasmyth_Encoders) falling behind; read 13 messages\n",
      "RemoteTelemetry(ATPneumatics, 0, mainAirSourcePressure) falling behind; read 13 messages\n",
      "RemoteTelemetry(ATMCS, 0, mount_AzEl_Encoders) falling behind; read 13 messages\n",
      "RemoteTelemetry(ATPtg, 0, currentTargetStatus) falling behind; read 65 messages\n",
      "RemoteTelemetry(ATMCS, 0, measuredTorque) falling behind; read 13 messages\n",
      "RemoteTelemetry(ATMCS, 0, measuredMotorVelocity) falling behind; read 13 messages\n",
      "RemoteTelemetry(ATMCS, 0, azEl_mountMotorEncoders) falling behind; read 13 messages\n",
      "RemoteEvent(ATMCS, 0, heartbeat) falling behind; read 13 messages\n"
     ]
    },
    {
     "data": {
      "text/plain": [
       "<lsst.ts.salobj.ddsutil.ATAOS_ackcmd_33d5c92b at 0x7f2ae1785128>"
      ]
     },
     "execution_count": 214,
     "metadata": {},
     "output_type": "execute_result"
    }
   ],
   "source": [
    "await attcs.ataos.cmd_enableCorrection.set_start(m1=True, hexapod=False)\n",
    "# await attcs.ataos.cmd_disableCorrection.set_start(m1=False, hexapod=True)"
   ]
  },
  {
   "cell_type": "code",
   "execution_count": 219,
   "metadata": {},
   "outputs": [
    {
     "name": "stdout",
     "output_type": "stream",
     "text": [
      "RemoteEvent(ATDomeTrajectory, 0, logMessage) falling behind; read 100 messages\n",
      "RemoteTelemetry(ATDome, 0, position) falling behind; read 42 messages\n",
      "RemoteTelemetry(ATPtg, 0, guidingAndOffsets) falling behind; read 44 messages\n",
      "RemoteTelemetry(ATPtg, 0, currentTargetStatus) falling behind; read 44 messages\n",
      "RemoteEvent(ATDome, 0, shutterInPosition) falling behind; read 25 messages\n",
      "RemoteEvent(ATDome, 0, mainDoorState) falling behind; read 25 messages\n",
      "RemoteTelemetry(ATPtg, 0, timeAndDate) falling behind; read 44 messages\n"
     ]
    },
    {
     "data": {
      "text/plain": [
       "<lsst.ts.salobj.ddsutil.ATPtg_ackcmd_2d655b72 at 0x7f2ae1747eb8>"
      ]
     },
     "execution_count": 219,
     "metadata": {},
     "output_type": "execute_result"
    }
   ],
   "source": [
    "# await attcs.ataos.cmd_disableCorrection.set_start(m1=False, hexapod=True)\n",
    "await attcs.atptg.cmd_offsetRADec.set_start(off1=-10., off2=-5., num=0, type=0)"
   ]
  },
  {
   "cell_type": "code",
   "execution_count": 220,
   "metadata": {},
   "outputs": [
    {
     "name": "stdout",
     "output_type": "stream",
     "text": [
      "RemoteEvent(ATDome, 0, heartbeat) falling behind; read 22 messages\n",
      "RemoteEvent(ATMCS, 0, target) falling behind; read 100 messages\n",
      "RemoteEvent(ATDomeTrajectory, 0, logMessage) falling behind; read 100 messages\n",
      "RemoteTelemetry(ATPtg, 0, timeAndDate) falling behind; read 100 messages\n",
      "RemoteEvent(ATHexapod, 0, heartbeat) falling behind; read 21 messages\n",
      "RemoteTelemetry(ATPneumatics, 0, loadCell) falling behind; read 21 messages\n",
      "RemoteEvent(ATAOS, 0, heartbeat) falling behind; read 21 messages\n",
      "RemoteTelemetry(ATMCS, 0, trajectory) falling behind; read 22 messages\n",
      "RemoteTelemetry(ATPneumatics, 0, mainAirSourcePressure) falling behind; read 21 messages\n",
      "RemoteTelemetry(ATMCS, 0, torqueDemand) falling behind; read 22 messages\n",
      "RemoteTelemetry(ATPneumatics, 0, m2AirPressure) falling behind; read 22 messages\n",
      "RemoteEvent(ATDomeTrajectory, 0, heartbeat) falling behind; read 21 messages\n",
      "RemoteTelemetry(ATHexapod, 0, positionStatus) falling behind; read 21 messages\n",
      "RemoteTelemetry(ATDome, 0, position) falling behind; read 100 messages\n",
      "RemoteTelemetry(ATPneumatics, 0, m1AirPressure) falling behind; read 22 messages\n",
      "RemoteEvent(ATAOS, 0, detailedState) falling behind; read 10 messages\n"
     ]
    },
    {
     "data": {
      "text/plain": [
       "<lsst.ts.salobj.ddsutil.ATPtg_ackcmd_2d655b72 at 0x7f2ad044f208>"
      ]
     },
     "execution_count": 220,
     "metadata": {},
     "output_type": "execute_result"
    }
   ],
   "source": [
    "# await attcs.atptg.cmd_pointNewFile.start()\n",
    "await attcs.atptg.cmd_pointAddData.start()"
   ]
  },
  {
   "cell_type": "markdown",
   "metadata": {},
   "source": [
    "# HD 91324: 10 31 21.8213012849 -53 42 55.737315449"
   ]
  },
  {
   "cell_type": "code",
   "execution_count": 221,
   "metadata": {},
   "outputs": [
    {
     "name": "stdout",
     "output_type": "stream",
     "text": [
      "RemoteEvent(ATDomeTrajectory, 0, logMessage) falling behind; read 100 messages\n",
      "RemoteEvent(ATAOS, 0, heartbeat) falling behind; read 78 messages\n",
      "RemoteTelemetry(ATHexapod, 0, positionStatus) falling behind; read 77 messages\n",
      "RemoteTelemetry(ATDome, 0, position) falling behind; read 100 messages\n",
      "RemoteTelemetry(ATPneumatics, 0, mainAirSourcePressure) falling behind; read 78 messages\n",
      "RemoteEvent(ATDome, 0, mainDoorState) falling behind; read 100 messages\n",
      "RemoteTelemetry(ATPneumatics, 0, m2AirPressure) falling behind; read 78 messages\n",
      "RemoteEvent(ATHexapod, 0, heartbeat) falling behind; read 78 messages\n",
      "RemoteEvent(ATAOS, 0, m1CorrectionStarted) falling behind; read 19 messages\n",
      "RemoteEvent(ATDome, 0, heartbeat) falling behind; read 79 messages\n",
      "RemoteTelemetry(ATPneumatics, 0, m1AirPressure) falling behind; read 79 messages\n",
      "RemoteTelemetry(ATPtg, 0, skyEnvironment) falling behind; read 16 messages\n",
      "RemoteEvent(ATDomeTrajectory, 0, heartbeat) falling behind; read 80 messages\n",
      "RemoteEvent(ATAOS, 0, m1CorrectionCompleted) falling behind; read 19 messages\n",
      "Flushing events\n",
      "Scheduling check coroutines\n",
      "Sending command\n",
      "RemoteEvent(ATPneumatics, 0, m1SetPressure) falling behind; read 19 messages\n",
      "Got False\n",
      "ATDome not in position\n",
      "Got True\n",
      "ATDome in position.\n",
      "RemoteTelemetry(ATPtg, 0, currentTimesToLimits) falling behind; read 16 messages\n",
      "process as completed...\n",
      "[Telescope] delta Alt = -006.142 | delta Az= +046.494 [Dome] delta Az = +043.097\n",
      "Got False\n",
      "Telescope not in position\n",
      "[Telescope] delta Alt = -005.496 | delta Az= +045.735 [Dome] delta Az = +042.552\n",
      "[Telescope] delta Alt = -001.982 | delta Az= +041.976 [Dome] delta Az = +041.247\n",
      "[Telescope] delta Alt = -000.008 | delta Az= +037.980 [Dome] delta Az = +038.922\n",
      "[Telescope] delta Alt = +000.003 | delta Az= +033.986 [Dome] delta Az = +035.658\n",
      "[Telescope] delta Alt = +000.002 | delta Az= +029.992 [Dome] delta Az = +031.473\n",
      "[Telescope] delta Alt = +000.002 | delta Az= +026.006 [Dome] delta Az = +026.348\n",
      "[Telescope] delta Alt = +000.002 | delta Az= +022.069 [Dome] delta Az = +020.303\n",
      "[Telescope] delta Alt = +000.002 | delta Az= +018.240 [Dome] delta Az = +013.488\n",
      "[Telescope] delta Alt = +000.002 | delta Az= +014.596 [Dome] delta Az = +006.593\n",
      "[Telescope] delta Alt = +000.002 | delta Az= +011.224 [Dome] delta Az = +000.938\n",
      "[Telescope] delta Alt = +000.002 | delta Az= +008.208 [Dome] delta Az = -002.397\n",
      "[Telescope] delta Alt = +000.002 | delta Az= +005.622 [Dome] delta Az = -002.892\n",
      "[Telescope] delta Alt = +000.002 | delta Az= +003.522 [Dome] delta Az = -002.886\n",
      "[Telescope] delta Alt = +000.004 | delta Az= +002.669 [Dome] delta Az = -002.881\n",
      "[Telescope] delta Alt = +000.002 | delta Az= +001.346 [Dome] delta Az = -002.878\n",
      "[Telescope] delta Alt = +000.002 | delta Az= +000.520 [Dome] delta Az = -002.874\n",
      "[Telescope] delta Alt = +000.004 | delta Az= +000.275 [Dome] delta Az = -002.869\n",
      "[Telescope] delta Alt = +000.002 | delta Az= +000.035 [Dome] delta Az = -002.866\n",
      "Got True\n",
      "Telescope in position.\n",
      "[None, 'Telescope in position.', 'ATDome in position.']\n",
      "Removing callback...\n"
     ]
    }
   ],
   "source": [
    "attcs.check.atdome = True\n",
    "await attcs.slew_icrs(ra=\"10 31 21.8213012849\", \n",
    "                      dec=\"-53 42 55.737315449\", \n",
    "                      rot_pa=0., \n",
    "                      target_name=\"HD 91324\", \n",
    "                      slew_timeout=240.)"
   ]
  },
  {
   "cell_type": "code",
   "execution_count": 233,
   "metadata": {},
   "outputs": [
    {
     "name": "stdout",
     "output_type": "stream",
     "text": [
      "RemoteEvent(ATMCS, 0, target) falling behind; read 100 messages\n",
      "RemoteEvent(ATDomeTrajectory, 0, logMessage) falling behind; read 100 messages\n",
      "RemoteEvent(ATDome, 0, heartbeat) falling behind; read 11 messages\n",
      "RemoteTelemetry(ATPtg, 0, timeAndDate) falling behind; read 55 messages\n",
      "RemoteTelemetry(ATPneumatics, 0, loadCell) falling behind; read 11 messages\n",
      "RemoteTelemetry(ATHexapod, 0, positionStatus) falling behind; read 11 messages\n",
      "RemoteEvent(ATAOS, 0, heartbeat) falling behind; read 11 messages\n",
      "RemoteTelemetry(ATPneumatics, 0, mainAirSourcePressure) falling behind; read 11 messages\n",
      "RemoteTelemetry(ATDome, 0, position) falling behind; read 55 messages\n",
      "RemoteTelemetry(ATMCS, 0, trajectory) falling behind; read 12 messages\n",
      "RemoteEvent(ATHexapod, 0, heartbeat) falling behind; read 11 messages\n",
      "RemoteTelemetry(ATPneumatics, 0, m2AirPressure) falling behind; read 12 messages\n",
      "RemoteEvent(ATDome, 0, shutterInPosition) falling behind; read 22 messages\n",
      "RemoteTelemetry(ATMCS, 0, torqueDemand) falling behind; read 12 messages\n",
      "RemoteTelemetry(ATPneumatics, 0, m1AirPressure) falling behind; read 12 messages\n",
      "RemoteEvent(ATDome, 0, mainDoorState) falling behind; read 22 messages\n",
      "RemoteTelemetry(ATMCS, 0, nasymth_m3_mountMotorEncoders) falling behind; read 12 messages\n",
      "RemoteEvent(ATDomeTrajectory, 0, heartbeat) falling behind; read 11 messages\n",
      "RemoteTelemetry(ATPtg, 0, mountStatus) falling behind; read 57 messages\n",
      "RemoteEvent(ATPneumatics, 0, heartbeat) falling behind; read 12 messages\n",
      "RemoteTelemetry(ATMCS, 0, mount_Nasmyth_Encoders) falling behind; read 12 messages\n",
      "RemoteTelemetry(ATPtg, 0, guidingAndOffsets) falling behind; read 57 messages\n",
      "RemoteTelemetry(ATMCS, 0, mount_AzEl_Encoders) falling behind; read 12 messages\n",
      "RemoteTelemetry(ATMCS, 0, measuredTorque) falling behind; read 12 messages\n",
      "RemoteTelemetry(ATPtg, 0, currentTargetStatus) falling behind; read 58 messages\n",
      "RemoteTelemetry(ATMCS, 0, measuredMotorVelocity) falling behind; read 12 messages\n",
      "RemoteTelemetry(ATMCS, 0, azEl_mountMotorEncoders) falling behind; read 12 messages\n",
      "RemoteEvent(ATMCS, 0, heartbeat) falling behind; read 12 messages\n"
     ]
    },
    {
     "data": {
      "text/plain": [
       "<lsst.ts.salobj.ddsutil.ATAOS_ackcmd_33d5c92b at 0x7f2adcfe0e80>"
      ]
     },
     "execution_count": 233,
     "metadata": {},
     "output_type": "execute_result"
    }
   ],
   "source": [
    "await attcs.ataos.cmd_enableCorrection.set_start(m1=True, hexapod=False)\n",
    "# await attcs.ataos.cmd_enableCorrection.set_start(m1=True, hexapod=True)\n",
    "# await attcs.ataos.cmd_disableCorrection.set_start(m1=False, hexapod=True)"
   ]
  },
  {
   "cell_type": "code",
   "execution_count": 231,
   "metadata": {},
   "outputs": [],
   "source": [
    "await asyncio.sleep(1)"
   ]
  },
  {
   "cell_type": "code",
   "execution_count": 232,
   "metadata": {},
   "outputs": [
    {
     "name": "stdout",
     "output_type": "stream",
     "text": [
      "Gathering settings.\n",
      "Settings versions: {'ataos': 'm1_and_hex_20191212.yaml', 'atmcs': '', 'atptg': '', 'atpneumatics': '', 'athexapod': 'current', 'atdome': 'test.yaml', 'atdometrajectory': ''}\n",
      "Enabling all components\n",
      "Enabling  atmcs\n",
      "Enabling  atptg\n",
      "Enabling  ataos\n",
      "Enabling  atpneumatics\n",
      "Enabling  athexapod\n",
      "Enabling  atdome\n",
      "Enabling  atdometrajectory\n",
      "[atmcs]::[<State.ENABLED: 2>]\n",
      "[atptg]::[<State.ENABLED: 2>]\n",
      "[ataos]::[<State.FAULT: 3>, <State.STANDBY: 5>, <State.DISABLED: 1>, <State.ENABLED: 2>]\n",
      "[atpneumatics]::[<State.ENABLED: 2>]\n",
      "[athexapod]::[<State.ENABLED: 2>]\n",
      "[atdome]::[<State.ENABLED: 2>]\n",
      "[atdometrajectory]::[<State.ENABLED: 2>]\n",
      "All components enabled.\n"
     ]
    }
   ],
   "source": [
    "await asyncio.sleep(1)\n",
    "attcs.check.atdometrajectory = True\n",
    "await attcs.enable(settings={\n",
    "    'ataos': \"m1_and_hex_20191212.yaml\",\n",
    "    'atmcs': \"\",\n",
    "    'atptg': \"\",\n",
    "    'atpneumatics': \"\",\n",
    "    'athexapod': \"current\",\n",
    "    'atdome': \"test.yaml\",\n",
    "    'atdometrajectory': \"\"})"
   ]
  },
  {
   "cell_type": "code",
   "execution_count": 234,
   "metadata": {},
   "outputs": [
    {
     "name": "stdout",
     "output_type": "stream",
     "text": [
      "RemoteEvent(ATMCS, 0, target) falling behind; read 100 messages\n",
      "RemoteEvent(ATDome, 0, heartbeat) falling behind; read 23 messages\n",
      "RemoteEvent(ATDomeTrajectory, 0, logMessage) falling behind; read 100 messages\n",
      "RemoteTelemetry(ATPtg, 0, timeAndDate) falling behind; read 100 messages\n",
      "RemoteTelemetry(ATPneumatics, 0, loadCell) falling behind; read 23 messages\n",
      "RemoteTelemetry(ATHexapod, 0, positionStatus) falling behind; read 23 messages\n",
      "RemoteEvent(ATAOS, 0, heartbeat) falling behind; read 23 messages\n",
      "RemoteEvent(ATDomeTrajectory, 0, heartbeat) falling behind; read 23 messages\n",
      "RemoteTelemetry(ATPneumatics, 0, mainAirSourcePressure) falling behind; read 23 messages\n",
      "RemoteTelemetry(ATDome, 0, position) falling behind; read 100 messages\n",
      "RemoteEvent(ATHexapod, 0, heartbeat) falling behind; read 23 messages\n",
      "RemoteTelemetry(ATPtg, 0, mountStatus) falling behind; read 100 messages\n",
      "RemoteTelemetry(ATPtg, 0, guidingAndOffsets) falling behind; read 100 messages\n",
      "RemoteEvent(ATAOS, 0, detailedState) falling behind; read 10 messages\n",
      "RemoteTelemetry(ATPtg, 0, currentTargetStatus) falling behind; read 100 messages\n",
      "RemoteEvent(ATPtg, 0, mountDataWarning) falling behind; read 11 messages\n"
     ]
    },
    {
     "data": {
      "text/plain": [
       "<lsst.ts.salobj.ddsutil.ATPtg_ackcmd_2d655b72 at 0x7f2ae1024550>"
      ]
     },
     "execution_count": 234,
     "metadata": {},
     "output_type": "execute_result"
    }
   ],
   "source": [
    "# await attcs.ataos.cmd_disableCorrection.set_start(m1=False, hexapod=True)\n",
    "await attcs.atptg.cmd_offsetRADec.set_start(off1=-40., off2=5., num=0, type=0)"
   ]
  },
  {
   "cell_type": "code",
   "execution_count": 235,
   "metadata": {},
   "outputs": [
    {
     "name": "stdout",
     "output_type": "stream",
     "text": [
      "RemoteTelemetry(ATDome, 0, position) falling behind; read 27 messages\n",
      "RemoteEvent(ATDomeTrajectory, 0, logMessage) falling behind; read 100 messages\n",
      "RemoteEvent(ATDome, 0, shutterInPosition) falling behind; read 14 messages\n",
      "RemoteTelemetry(ATPtg, 0, timeAndDate) falling behind; read 29 messages\n"
     ]
    },
    {
     "data": {
      "text/plain": [
       "<lsst.ts.salobj.ddsutil.ATPtg_ackcmd_2d655b72 at 0x7f2ad7ff1a20>"
      ]
     },
     "execution_count": 235,
     "metadata": {},
     "output_type": "execute_result"
    }
   ],
   "source": [
    "# await attcs.atptg.cmd_pointNewFile.start()\n",
    "await attcs.atptg.cmd_pointAddData.start()"
   ]
  },
  {
   "cell_type": "markdown",
   "metadata": {},
   "source": [
    "# HD 36060: 05 27 05.3128833151 -40 56 36.592459894"
   ]
  },
  {
   "cell_type": "code",
   "execution_count": 236,
   "metadata": {},
   "outputs": [
    {
     "name": "stdout",
     "output_type": "stream",
     "text": [
      "RemoteEvent(ATHexapod, 0, heartbeat) falling behind; read 100 messages\n",
      "RemoteEvent(ATAOS, 0, heartbeat) falling behind; read 100 messages\n",
      "RemoteTelemetry(ATMCS, 0, trajectory) falling behind; read 100 messages\n",
      "RemoteEvent(ATDomeTrajectory, 0, heartbeat) falling behind; read 100 messages\n",
      "RemoteTelemetry(ATMCS, 0, torqueDemand) falling behind; read 100 messages\n",
      "RemoteTelemetry(ATHexapod, 0, positionStatus) falling behind; read 100 messages\n",
      "RemoteEvent(ATAOS, 0, m1CorrectionStarted) falling behind; read 31 messages\n",
      "RemoteTelemetry(ATPneumatics, 0, mainAirSourcePressure) falling behind; read 100 messages\n",
      "RemoteTelemetry(ATMCS, 0, nasymth_m3_mountMotorEncoders) falling behind; read 100 messages\n",
      "RemoteEvent(ATAOS, 0, m1CorrectionCompleted) falling behind; read 31 messages\n",
      "RemoteEvent(ATDome, 0, shutterInPosition) falling behind; read 100 messages\n",
      "RemoteTelemetry(ATPtg, 0, skyEnvironment) falling behind; read 26 messages\n",
      "RemoteTelemetry(ATPneumatics, 0, m2AirPressure) falling behind; read 100 messages\n",
      "RemoteTelemetry(ATMCS, 0, mount_Nasmyth_Encoders) falling behind; read 100 messages\n",
      "RemoteEvent(ATDome, 0, mainDoorState) falling behind; read 100 messages\n",
      "Flushing events\n",
      "Scheduling check coroutines\n",
      "Sending command\n",
      "RemoteTelemetry(ATPtg, 0, mountStatus) falling behind; read 100 messages\n",
      "RemoteTelemetry(ATPneumatics, 0, m1AirPressure) falling behind; read 100 messages\n",
      "RemoteTelemetry(ATMCS, 0, mount_AzEl_Encoders) falling behind; read 100 messages\n",
      "RemoteEvent(ATDome, 0, heartbeat) falling behind; read 100 messages\n",
      "RemoteEvent(ATPneumatics, 0, m1SetPressure) falling behind; read 31 messages\n",
      "Got False\n",
      "ATDome not in position\n",
      "Got True\n",
      "ATDome in position.\n",
      "RemoteTelemetry(ATPtg, 0, currentTimesToLimits) falling behind; read 27 messages\n",
      "RemoteEvent(ATPneumatics, 0, heartbeat) falling behind; read 100 messages\n",
      "RemoteEvent(ATPtg, 0, weatherDataApplied) falling behind; read 13 messages\n",
      "process as completed...\n",
      "[Telescope] delta Alt = -000.007 | delta Az= -000.011 [Dome] delta Az = -002.237\n",
      "Got False\n",
      "Telescope not in position\n",
      "[Telescope] delta Alt = -005.528 | delta Az= +092.676 [Dome] delta Az = +091.562\n",
      "[Telescope] delta Alt = -001.798 | delta Az= +088.683 [Dome] delta Az = +089.702\n",
      "[Telescope] delta Alt = -000.017 | delta Az= +084.684 [Dome] delta Az = +087.222\n",
      "[Telescope] delta Alt = -000.005 | delta Az= +082.685 [Dome] delta Az = +083.972\n",
      "[Telescope] delta Alt = -000.003 | delta Az= +078.684 [Dome] delta Az = +081.382\n",
      "[Telescope] delta Alt = -000.003 | delta Az= +074.683 [Dome] delta Az = +076.352\n",
      "[Telescope] delta Alt = -000.003 | delta Az= +070.685 [Dome] delta Az = +070.373\n",
      "[Telescope] delta Alt = -000.003 | delta Az= +066.684 [Dome] delta Az = +064.343\n",
      "[Telescope] delta Alt = -000.003 | delta Az= +062.685 [Dome] delta Az = +057.413\n",
      "[Telescope] delta Alt = -000.003 | delta Az= +058.686 [Dome] delta Az = +050.503\n",
      "[Telescope] delta Alt = -000.003 | delta Az= +054.684 [Dome] delta Az = +043.573\n",
      "[Telescope] delta Alt = -000.003 | delta Az= +050.685 [Dome] delta Az = +036.663\n",
      "[Telescope] delta Alt = -000.003 | delta Az= +046.686 [Dome] delta Az = +030.443\n",
      "[Telescope] delta Alt = -000.003 | delta Az= +042.685 [Dome] delta Az = +023.524\n",
      "[Telescope] delta Alt = -000.003 | delta Az= +038.686 [Dome] delta Az = +016.574\n",
      "[Telescope] delta Alt = -000.003 | delta Az= +034.686 [Dome] delta Az = +009.664\n",
      "[Telescope] delta Alt = -000.002 | delta Az= +030.686 [Dome] delta Az = +003.454\n",
      "[Telescope] delta Alt = -000.003 | delta Az= +026.694 [Dome] delta Az = -001.426\n",
      "[Telescope] delta Alt = -000.003 | delta Az= +022.740 [Dome] delta Az = -003.026\n",
      "[Telescope] delta Alt = -000.003 | delta Az= +018.884 [Dome] delta Az = -003.026\n",
      "[Telescope] delta Alt = -000.003 | delta Az= +015.201 [Dome] delta Az = -003.025\n",
      "[Telescope] delta Alt = -000.003 | delta Az= +011.776 [Dome] delta Az = -003.025\n",
      "[Telescope] delta Alt = -000.003 | delta Az= +008.692 [Dome] delta Az = -003.025\n",
      "[Telescope] delta Alt = -000.003 | delta Az= +006.029 [Dome] delta Az = -003.025\n",
      "[Telescope] delta Alt = -000.003 | delta Az= +003.845 [Dome] delta Az = -003.025\n",
      "[Telescope] delta Alt = -000.003 | delta Az= +002.175 [Dome] delta Az = -003.025\n",
      "[Telescope] delta Alt = -000.003 | delta Az= +001.021 [Dome] delta Az = -003.025\n",
      "[Telescope] delta Alt = -000.003 | delta Az= +000.345 [Dome] delta Az = -003.024\n",
      "[Telescope] delta Alt = -000.003 | delta Az= +000.054 [Dome] delta Az = -003.024\n",
      "[Telescope] delta Alt = -000.003 | delta Az= -000.000 [Dome] delta Az = -003.024\n",
      "[Telescope] delta Alt = -000.003 | delta Az= -000.000 [Dome] delta Az = -003.024\n",
      "[Telescope] delta Alt = -000.003 | delta Az= -000.000 [Dome] delta Az = -003.024\n",
      "[Telescope] delta Alt = -000.003 | delta Az= +000.000 [Dome] delta Az = -003.024\n",
      "[Telescope] delta Alt = -000.003 | delta Az= +000.000 [Dome] delta Az = -003.024\n",
      "[Telescope] delta Alt = -000.003 | delta Az= +000.000 [Dome] delta Az = -003.024\n",
      "[Telescope] delta Alt = -000.003 | delta Az= +000.000 [Dome] delta Az = -003.023\n",
      "[Telescope] delta Alt = -000.003 | delta Az= +000.000 [Dome] delta Az = -003.023\n",
      "[Telescope] delta Alt = -000.003 | delta Az= +000.000 [Dome] delta Az = -003.023\n",
      "[Telescope] delta Alt = -000.003 | delta Az= +000.000 [Dome] delta Az = -003.023\n",
      "[Telescope] delta Alt = -000.003 | delta Az= +000.000 [Dome] delta Az = -003.023\n",
      "[Telescope] delta Alt = -000.003 | delta Az= +000.000 [Dome] delta Az = -003.023\n",
      "[Telescope] delta Alt = -000.003 | delta Az= +000.000 [Dome] delta Az = -003.023\n",
      "Got True\n",
      "Telescope in position.\n",
      "[None, 'Telescope in position.', 'ATDome in position.']\n",
      "Removing callback...\n"
     ]
    }
   ],
   "source": [
    "attcs.check.atdome = True\n",
    "await attcs.slew_icrs(ra=\"05 27 05.3128833151\", \n",
    "                      dec=\"-40 56 36.592459894\", \n",
    "                      rot_pa=0., \n",
    "                      target_name=\"HD 36060\", \n",
    "                      slew_timeout=240.)"
   ]
  },
  {
   "cell_type": "code",
   "execution_count": 243,
   "metadata": {},
   "outputs": [
    {
     "name": "stdout",
     "output_type": "stream",
     "text": [
      "RemoteEvent(ATMCS, 0, target) falling behind; read 100 messages\n",
      "RemoteEvent(ATAOS, 0, heartbeat) falling behind; read 22 messages\n",
      "RemoteEvent(ATDome, 0, shutterInPosition) falling behind; read 48 messages\n",
      "RemoteEvent(ATDome, 0, mainDoorState) falling behind; read 48 messages\n",
      "RemoteTelemetry(ATPtg, 0, mountStatus) falling behind; read 100 messages\n",
      "RemoteEvent(ATDome, 0, heartbeat) falling behind; read 22 messages\n"
     ]
    },
    {
     "data": {
      "text/plain": [
       "<lsst.ts.salobj.ddsutil.ATAOS_ackcmd_33d5c92b at 0x7f2ae1785780>"
      ]
     },
     "execution_count": 243,
     "metadata": {},
     "output_type": "execute_result"
    }
   ],
   "source": [
    "await attcs.ataos.cmd_enableCorrection.set_start(m1=True, hexapod=True)\n",
    "# await attcs.ataos.cmd_enableCorrection.set_start(m1=True, hexapod=True)\n",
    "# await attcs.ataos.cmd_disableCorrection.set_start(m1=False, hexapod=True)"
   ]
  },
  {
   "cell_type": "code",
   "execution_count": 248,
   "metadata": {},
   "outputs": [
    {
     "name": "stdout",
     "output_type": "stream",
     "text": [
      "RemoteEvent(ATDome, 0, heartbeat) falling behind; read 26 messages\n",
      "RemoteEvent(ATDomeTrajectory, 0, logMessage) falling behind; read 100 messages\n",
      "RemoteTelemetry(ATPtg, 0, currentTargetStatus) falling behind; read 100 messages\n",
      "RemoteTelemetry(ATPneumatics, 0, loadCell) falling behind; read 26 messages\n",
      "RemoteEvent(ATAOS, 0, heartbeat) falling behind; read 26 messages\n",
      "RemoteEvent(ATHexapod, 0, heartbeat) falling behind; read 26 messages\n",
      "RemoteTelemetry(ATDome, 0, position) falling behind; read 100 messages\n",
      "RemoteTelemetry(ATPtg, 0, timeAndDate) falling behind; read 100 messages\n",
      "RemoteEvent(ATDomeTrajectory, 0, heartbeat) falling behind; read 26 messages\n",
      "Gathering settings.\n",
      "RemoteEvent(ATMCS, 0, target) falling behind; read 100 messages\n",
      "Settings versions: {'ataos': 'm1_and_hex_20191212.yaml', 'atmcs': '', 'atptg': '', 'atpneumatics': '', 'athexapod': 'current', 'atdome': 'test.yaml', 'atdometrajectory': ''}\n",
      "Enabling all components\n",
      "Enabling  atmcs\n",
      "Enabling  atptg\n",
      "Enabling  ataos\n",
      "Enabling  atpneumatics\n",
      "Enabling  athexapod\n",
      "Enabling  atdome\n",
      "Enabling  atdometrajectory\n",
      "[atmcs]::[<State.ENABLED: 2>]\n",
      "[atptg]::[<State.ENABLED: 2>]\n",
      "[ataos]::[<State.FAULT: 3>, <State.STANDBY: 5>, <State.DISABLED: 1>, <State.ENABLED: 2>]\n",
      "[atpneumatics]::[<State.ENABLED: 2>]\n",
      "[athexapod]::[<State.ENABLED: 2>]\n",
      "[atdome]::[<State.ENABLED: 2>]\n",
      "[atdometrajectory]::[<State.ENABLED: 2>]\n",
      "All components enabled.\n"
     ]
    }
   ],
   "source": [
    "await asyncio.sleep(1)\n",
    "attcs.check.atdometrajectory = True\n",
    "await attcs.enable(settings={\n",
    "    'ataos': \"m1_and_hex_20191212.yaml\",\n",
    "    'atmcs': \"\",\n",
    "    'atptg': \"\",\n",
    "    'atpneumatics': \"\",\n",
    "    'athexapod': \"current\",\n",
    "    'atdome': \"test.yaml\",\n",
    "    'atdometrajectory': \"\"})"
   ]
  },
  {
   "cell_type": "code",
   "execution_count": 246,
   "metadata": {},
   "outputs": [
    {
     "name": "stdout",
     "output_type": "stream",
     "text": [
      "RemoteEvent(ATDome, 0, heartbeat) falling behind; read 13 messages\n",
      "RemoteEvent(ATDomeTrajectory, 0, logMessage) falling behind; read 100 messages\n",
      "RemoteTelemetry(ATPneumatics, 0, loadCell) falling behind; read 13 messages\n",
      "RemoteEvent(ATAOS, 0, heartbeat) falling behind; read 13 messages\n",
      "RemoteTelemetry(ATDome, 0, position) falling behind; read 65 messages\n",
      "RemoteTelemetry(ATMCS, 0, trajectory) falling behind; read 14 messages\n",
      "RemoteEvent(ATHexapod, 0, heartbeat) falling behind; read 13 messages\n",
      "RemoteEvent(ATDomeTrajectory, 0, heartbeat) falling behind; read 13 messages\n",
      "RemoteEvent(ATDome, 0, shutterInPosition) falling behind; read 35 messages\n",
      "RemoteTelemetry(ATMCS, 0, torqueDemand) falling behind; read 14 messages\n",
      "RemoteTelemetry(ATPneumatics, 0, mainAirSourcePressure) falling behind; read 14 messages\n",
      "RemoteEvent(ATDome, 0, mainDoorState) falling behind; read 36 messages\n",
      "RemoteTelemetry(ATMCS, 0, mount_Nasmyth_Encoders) falling behind; read 14 messages\n"
     ]
    },
    {
     "data": {
      "text/plain": [
       "<lsst.ts.salobj.ddsutil.ATPtg_ackcmd_2d655b72 at 0x7f2ad2f6c9e8>"
      ]
     },
     "execution_count": 246,
     "metadata": {},
     "output_type": "execute_result"
    }
   ],
   "source": [
    "# await attcs.ataos.cmd_disableCorrection.set_start(m1=False, hexapod=True)\n",
    "await attcs.atptg.cmd_offsetRADec.set_start(off1=-10., off2=10., num=0, type=0)"
   ]
  },
  {
   "cell_type": "code",
   "execution_count": 247,
   "metadata": {},
   "outputs": [
    {
     "name": "stdout",
     "output_type": "stream",
     "text": [
      "RemoteEvent(ATDomeTrajectory, 0, logMessage) falling behind; read 100 messages\n",
      "RemoteEvent(ATDome, 0, shutterInPosition) falling behind; read 13 messages\n"
     ]
    },
    {
     "data": {
      "text/plain": [
       "<lsst.ts.salobj.ddsutil.ATPtg_ackcmd_2d655b72 at 0x7f2ad7ff2cc0>"
      ]
     },
     "execution_count": 247,
     "metadata": {},
     "output_type": "execute_result"
    }
   ],
   "source": [
    "# await attcs.atptg.cmd_pointNewFile.start()\n",
    "await attcs.atptg.cmd_pointAddData.start()"
   ]
  },
  {
   "cell_type": "code",
   "execution_count": null,
   "metadata": {},
   "outputs": [],
   "source": []
  },
  {
   "cell_type": "code",
   "execution_count": null,
   "metadata": {},
   "outputs": [],
   "source": []
  },
  {
   "cell_type": "code",
   "execution_count": 253,
   "metadata": {},
   "outputs": [
    {
     "name": "stdout",
     "output_type": "stream",
     "text": [
      "Disabling ATAOS corrections\n",
      "Close telescope cover.\n"
     ]
    },
    {
     "ename": "AckError",
     "evalue": "msg='Command failed', ackcmd=(ackcmd private_seqNum=356007624, ack=<SalRetCode.CMD_NOPERM: -300>, error=0, result='ERROR: Command closeCover rejected while in EnabledState state.')",
     "output_type": "error",
     "traceback": [
      "\u001b[0;31m\u001b[0m",
      "\u001b[0;31mAckError\u001b[0mTraceback (most recent call last)",
      "\u001b[0;32m<ipython-input-253-482c82ed2a14>\u001b[0m in \u001b[0;36masync-def-wrapper\u001b[0;34m()\u001b[0m\n",
      "\u001b[0;32m~/repos/ts_standardscripts/python/lsst/ts/standardscripts/auxtel/attcs.py\u001b[0m in \u001b[0;36mshutdown\u001b[0;34m(self)\u001b[0m\n\u001b[1;32m    497\u001b[0m         \u001b[0mself\u001b[0m\u001b[0;34m.\u001b[0m\u001b[0mlog\u001b[0m\u001b[0;34m.\u001b[0m\u001b[0minfo\u001b[0m\u001b[0;34m(\u001b[0m\u001b[0;34m\"Close telescope cover.\"\u001b[0m\u001b[0;34m)\u001b[0m\u001b[0;34m\u001b[0m\u001b[0;34m\u001b[0m\u001b[0m\n\u001b[1;32m    498\u001b[0m \u001b[0;34m\u001b[0m\u001b[0m\n\u001b[0;32m--> 499\u001b[0;31m         \u001b[0;32mawait\u001b[0m \u001b[0mself\u001b[0m\u001b[0;34m.\u001b[0m\u001b[0matpneumatics\u001b[0m\u001b[0;34m.\u001b[0m\u001b[0mcmd_closeM1Cover\u001b[0m\u001b[0;34m.\u001b[0m\u001b[0mstart\u001b[0m\u001b[0;34m(\u001b[0m\u001b[0mtimeout\u001b[0m\u001b[0;34m=\u001b[0m\u001b[0mself\u001b[0m\u001b[0;34m.\u001b[0m\u001b[0mlong_timeout\u001b[0m\u001b[0;34m)\u001b[0m\u001b[0;34m\u001b[0m\u001b[0;34m\u001b[0m\u001b[0m\n\u001b[0m\u001b[1;32m    500\u001b[0m \u001b[0;34m\u001b[0m\u001b[0m\n\u001b[1;32m    501\u001b[0m         \u001b[0mself\u001b[0m\u001b[0;34m.\u001b[0m\u001b[0mlog\u001b[0m\u001b[0;34m.\u001b[0m\u001b[0minfo\u001b[0m\u001b[0;34m(\u001b[0m\u001b[0;34m\"Disable ATDomeTrajectory\"\u001b[0m\u001b[0;34m)\u001b[0m\u001b[0;34m\u001b[0m\u001b[0;34m\u001b[0m\u001b[0m\n",
      "\u001b[0;32m~/repos/ts_salobj/python/lsst/ts/salobj/topics/remote_command.py\u001b[0m in \u001b[0;36mstart\u001b[0;34m(self, data, timeout, wait_done)\u001b[0m\n\u001b[1;32m    360\u001b[0m         \u001b[0mcmd_info\u001b[0m \u001b[0;34m=\u001b[0m \u001b[0m_CommandInfo\u001b[0m\u001b[0;34m(\u001b[0m\u001b[0mremote_command\u001b[0m\u001b[0;34m=\u001b[0m\u001b[0mself\u001b[0m\u001b[0;34m,\u001b[0m \u001b[0mseq_num\u001b[0m\u001b[0;34m=\u001b[0m\u001b[0mseq_num\u001b[0m\u001b[0;34m,\u001b[0m \u001b[0mwait_done\u001b[0m\u001b[0;34m=\u001b[0m\u001b[0mwait_done\u001b[0m\u001b[0;34m)\u001b[0m\u001b[0;34m\u001b[0m\u001b[0;34m\u001b[0m\u001b[0m\n\u001b[1;32m    361\u001b[0m         \u001b[0mself\u001b[0m\u001b[0;34m.\u001b[0m\u001b[0msalinfo\u001b[0m\u001b[0;34m.\u001b[0m\u001b[0m_running_cmds\u001b[0m\u001b[0;34m[\u001b[0m\u001b[0mseq_num\u001b[0m\u001b[0;34m]\u001b[0m \u001b[0;34m=\u001b[0m \u001b[0mcmd_info\u001b[0m\u001b[0;34m\u001b[0m\u001b[0;34m\u001b[0m\u001b[0m\n\u001b[0;32m--> 362\u001b[0;31m         \u001b[0;32mreturn\u001b[0m \u001b[0;32mawait\u001b[0m \u001b[0mcmd_info\u001b[0m\u001b[0;34m.\u001b[0m\u001b[0mnext_ackcmd\u001b[0m\u001b[0;34m(\u001b[0m\u001b[0mtimeout\u001b[0m\u001b[0;34m=\u001b[0m\u001b[0mtimeout\u001b[0m\u001b[0;34m)\u001b[0m\u001b[0;34m\u001b[0m\u001b[0;34m\u001b[0m\u001b[0m\n\u001b[0m",
      "\u001b[0;32m~/repos/ts_salobj/python/lsst/ts/salobj/topics/remote_command.py\u001b[0m in \u001b[0;36mnext_ackcmd\u001b[0;34m(self, timeout)\u001b[0m\n\u001b[1;32m    163\u001b[0m             \u001b[0;31m# print(f\"next_ackcmd got {ackcmd.ack} from _basic_next_ack\")\u001b[0m\u001b[0;34m\u001b[0m\u001b[0;34m\u001b[0m\u001b[0;34m\u001b[0m\u001b[0m\n\u001b[1;32m    164\u001b[0m             \u001b[0;32mif\u001b[0m \u001b[0mackcmd\u001b[0m\u001b[0;34m.\u001b[0m\u001b[0mack\u001b[0m \u001b[0;32min\u001b[0m \u001b[0mself\u001b[0m\u001b[0;34m.\u001b[0m\u001b[0mfailed_ack_codes\u001b[0m\u001b[0;34m:\u001b[0m\u001b[0;34m\u001b[0m\u001b[0;34m\u001b[0m\u001b[0m\n\u001b[0;32m--> 165\u001b[0;31m                 \u001b[0;32mraise\u001b[0m \u001b[0mbase\u001b[0m\u001b[0;34m.\u001b[0m\u001b[0mAckError\u001b[0m\u001b[0;34m(\u001b[0m\u001b[0mmsg\u001b[0m\u001b[0;34m=\u001b[0m\u001b[0;34m\"Command failed\"\u001b[0m\u001b[0;34m,\u001b[0m \u001b[0mackcmd\u001b[0m\u001b[0;34m=\u001b[0m\u001b[0mackcmd\u001b[0m\u001b[0;34m)\u001b[0m\u001b[0;34m\u001b[0m\u001b[0;34m\u001b[0m\u001b[0m\n\u001b[0m\u001b[1;32m    166\u001b[0m             \u001b[0;32mreturn\u001b[0m \u001b[0mackcmd\u001b[0m\u001b[0;34m\u001b[0m\u001b[0;34m\u001b[0m\u001b[0m\n\u001b[1;32m    167\u001b[0m         \u001b[0;32mexcept\u001b[0m \u001b[0masyncio\u001b[0m\u001b[0;34m.\u001b[0m\u001b[0mTimeoutError\u001b[0m\u001b[0;34m:\u001b[0m\u001b[0;34m\u001b[0m\u001b[0;34m\u001b[0m\u001b[0m\n",
      "\u001b[0;31mAckError\u001b[0m: msg='Command failed', ackcmd=(ackcmd private_seqNum=356007624, ack=<SalRetCode.CMD_NOPERM: -300>, error=0, result='ERROR: Command closeCover rejected while in EnabledState state.')"
     ]
    }
   ],
   "source": [
    "await attcs.shutdown()"
   ]
  },
  {
   "cell_type": "code",
   "execution_count": 252,
   "metadata": {},
   "outputs": [
    {
     "name": "stdout",
     "output_type": "stream",
     "text": [
      "RemoteTelemetry(ATPneumatics, 0, m1AirPressure) falling behind; read 100 messages\n",
      "RemoteTelemetry(ATMCS, 0, trajectory) falling behind; read 100 messages\n",
      "RemoteEvent(ATPneumatics, 0, heartbeat) falling behind; read 100 messages\n",
      "RemoteTelemetry(ATMCS, 0, torqueDemand) falling behind; read 100 messages\n",
      "RemoteEvent(ATDomeTrajectory, 0, heartbeat) falling behind; read 100 messages\n",
      "RemoteEvent(ATHexapod, 0, heartbeat) falling behind; read 100 messages\n",
      "RemoteTelemetry(ATDome, 0, position) falling behind; read 100 messages\n",
      "RemoteEvent(ATAOS, 0, heartbeat) falling behind; read 100 messages\n",
      "RemoteTelemetry(ATMCS, 0, nasymth_m3_mountMotorEncoders) falling behind; read 100 messages\n",
      "RemoteTelemetry(ATPtg, 0, skyEnvironment) falling behind; read 31 messages\n",
      "RemoteTelemetry(ATMCS, 0, mount_Nasmyth_Encoders) falling behind; read 100 messages\n",
      "RemoteTelemetry(ATPtg, 0, mountStatus) falling behind; read 100 messages\n",
      "RemoteTelemetry(ATPneumatics, 0, mainAirSourcePressure) falling behind; read 100 messages\n",
      "RemoteTelemetry(ATMCS, 0, mount_AzEl_Encoders) falling behind; read 100 messages\n",
      "RemoteTelemetry(ATHexapod, 0, positionStatus) falling behind; read 100 messages\n",
      "RemoteTelemetry(ATPtg, 0, guidingAndOffsets) falling behind; read 100 messages\n",
      "RemoteTelemetry(ATPneumatics, 0, m2AirPressure) falling behind; read 100 messages\n",
      "RemoteTelemetry(ATMCS, 0, measuredTorque) falling behind; read 100 messages\n",
      "RemoteTelemetry(ATPtg, 0, currentTimesToLimits) falling behind; read 31 messages\n",
      "RemoteEvent(ATDome, 0, mainDoorState) falling behind; read 100 messages\n",
      "RemoteTelemetry(ATPneumatics, 0, loadCell) falling behind; read 100 messages\n",
      "RemoteEvent(ATPtg, 0, weatherDataApplied) falling behind; read 16 messages\n",
      "RemoteEvent(ATDome, 0, logMessage) falling behind; read 28 messages\n",
      "RemoteEvent(ATPtg, 0, mountDataWarning) falling behind; read 46 messages\n",
      "RemoteEvent(ATDome, 0, heartbeat) falling behind; read 100 messages\n",
      "RemoteTelemetry(ATMCS, 0, measuredMotorVelocity) falling behind; read 100 messages\n",
      "RemoteTelemetry(ATMCS, 0, azEl_mountMotorEncoders) falling behind; read 100 messages\n"
     ]
    },
    {
     "data": {
      "text/plain": [
       "<lsst.ts.salobj.ddsutil.ATDome_ackcmd_ff080bab at 0x7f2ad2f4b470>"
      ]
     },
     "execution_count": 252,
     "metadata": {},
     "output_type": "execute_result"
    },
    {
     "name": "stdout",
     "output_type": "stream",
     "text": [
      "RemoteEvent(ATMCS, 0, heartbeat) falling behind; read 100 messages\n"
     ]
    }
   ],
   "source": [
    "await attcs.atdome.cmd_closeShutter.start()"
   ]
  },
  {
   "cell_type": "code",
   "execution_count": 251,
   "metadata": {},
   "outputs": [
    {
     "name": "stdout",
     "output_type": "stream",
     "text": [
      "RemoteEvent(ATMCS, 0, target) falling behind; read 100 messages\n",
      "ERROR! Session/line number was not unique in database. History logging moved to new session 77\n",
      "RemoteEvent(ATDomeTrajectory, 0, logMessage) falling behind; read 100 messages\n",
      "RemoteTelemetry(ATDome, 0, position) falling behind; read 27 messages\n",
      "RemoteTelemetry(ATPtg, 0, currentTargetStatus) falling behind; read 27 messages\n",
      "RemoteTelemetry(ATPtg, 0, timeAndDate) falling behind; read 27 messages\n",
      "RemoteTelemetry(ATPtg, 0, mountStatus) falling behind; read 28 messages\n",
      "RemoteTelemetry(ATPtg, 0, guidingAndOffsets) falling behind; read 28 messages\n"
     ]
    },
    {
     "data": {
      "text/plain": [
       "<lsst.ts.salobj.ddsutil.ATDome_ackcmd_ff080bab at 0x7f2ae1096128>"
      ]
     },
     "execution_count": 250,
     "metadata": {},
     "output_type": "execute_result"
    },
    {
     "ename": "AckError",
     "evalue": "msg='Command failed', ackcmd=(ackcmd private_seqNum=223763834, ack=<SalRetCode.CMD_ABORTED: -303>, error=1, result='Aborted')",
     "output_type": "error",
     "traceback": [
      "\u001b[0;31m\u001b[0m",
      "\u001b[0;31mAckError\u001b[0mTraceback (most recent call last)",
      "\u001b[0;32m<ipython-input-250-11798e8f93b8>\u001b[0m in \u001b[0;36masync-def-wrapper\u001b[0;34m()\u001b[0m\n",
      "\u001b[0;32m~/repos/ts_salobj/python/lsst/ts/salobj/topics/remote_command.py\u001b[0m in \u001b[0;36mstart\u001b[0;34m(self, data, timeout, wait_done)\u001b[0m\n\u001b[1;32m    360\u001b[0m         \u001b[0mcmd_info\u001b[0m \u001b[0;34m=\u001b[0m \u001b[0m_CommandInfo\u001b[0m\u001b[0;34m(\u001b[0m\u001b[0mremote_command\u001b[0m\u001b[0;34m=\u001b[0m\u001b[0mself\u001b[0m\u001b[0;34m,\u001b[0m \u001b[0mseq_num\u001b[0m\u001b[0;34m=\u001b[0m\u001b[0mseq_num\u001b[0m\u001b[0;34m,\u001b[0m \u001b[0mwait_done\u001b[0m\u001b[0;34m=\u001b[0m\u001b[0mwait_done\u001b[0m\u001b[0;34m)\u001b[0m\u001b[0;34m\u001b[0m\u001b[0;34m\u001b[0m\u001b[0m\n\u001b[1;32m    361\u001b[0m         \u001b[0mself\u001b[0m\u001b[0;34m.\u001b[0m\u001b[0msalinfo\u001b[0m\u001b[0;34m.\u001b[0m\u001b[0m_running_cmds\u001b[0m\u001b[0;34m[\u001b[0m\u001b[0mseq_num\u001b[0m\u001b[0;34m]\u001b[0m \u001b[0;34m=\u001b[0m \u001b[0mcmd_info\u001b[0m\u001b[0;34m\u001b[0m\u001b[0;34m\u001b[0m\u001b[0m\n\u001b[0;32m--> 362\u001b[0;31m         \u001b[0;32mreturn\u001b[0m \u001b[0;32mawait\u001b[0m \u001b[0mcmd_info\u001b[0m\u001b[0;34m.\u001b[0m\u001b[0mnext_ackcmd\u001b[0m\u001b[0;34m(\u001b[0m\u001b[0mtimeout\u001b[0m\u001b[0;34m=\u001b[0m\u001b[0mtimeout\u001b[0m\u001b[0;34m)\u001b[0m\u001b[0;34m\u001b[0m\u001b[0;34m\u001b[0m\u001b[0m\n\u001b[0m",
      "\u001b[0;32m~/repos/ts_salobj/python/lsst/ts/salobj/topics/remote_command.py\u001b[0m in \u001b[0;36mnext_ackcmd\u001b[0;34m(self, timeout)\u001b[0m\n\u001b[1;32m    163\u001b[0m             \u001b[0;31m# print(f\"next_ackcmd got {ackcmd.ack} from _basic_next_ack\")\u001b[0m\u001b[0;34m\u001b[0m\u001b[0;34m\u001b[0m\u001b[0;34m\u001b[0m\u001b[0m\n\u001b[1;32m    164\u001b[0m             \u001b[0;32mif\u001b[0m \u001b[0mackcmd\u001b[0m\u001b[0;34m.\u001b[0m\u001b[0mack\u001b[0m \u001b[0;32min\u001b[0m \u001b[0mself\u001b[0m\u001b[0;34m.\u001b[0m\u001b[0mfailed_ack_codes\u001b[0m\u001b[0;34m:\u001b[0m\u001b[0;34m\u001b[0m\u001b[0;34m\u001b[0m\u001b[0m\n\u001b[0;32m--> 165\u001b[0;31m                 \u001b[0;32mraise\u001b[0m \u001b[0mbase\u001b[0m\u001b[0;34m.\u001b[0m\u001b[0mAckError\u001b[0m\u001b[0;34m(\u001b[0m\u001b[0mmsg\u001b[0m\u001b[0;34m=\u001b[0m\u001b[0;34m\"Command failed\"\u001b[0m\u001b[0;34m,\u001b[0m \u001b[0mackcmd\u001b[0m\u001b[0;34m=\u001b[0m\u001b[0mackcmd\u001b[0m\u001b[0;34m)\u001b[0m\u001b[0;34m\u001b[0m\u001b[0;34m\u001b[0m\u001b[0m\n\u001b[0m\u001b[1;32m    166\u001b[0m             \u001b[0;32mreturn\u001b[0m \u001b[0mackcmd\u001b[0m\u001b[0;34m\u001b[0m\u001b[0;34m\u001b[0m\u001b[0m\n\u001b[1;32m    167\u001b[0m         \u001b[0;32mexcept\u001b[0m \u001b[0masyncio\u001b[0m\u001b[0;34m.\u001b[0m\u001b[0mTimeoutError\u001b[0m\u001b[0;34m:\u001b[0m\u001b[0;34m\u001b[0m\u001b[0;34m\u001b[0m\u001b[0m\n",
      "\u001b[0;31mAckError\u001b[0m: msg='Command failed', ackcmd=(ackcmd private_seqNum=223763834, ack=<SalRetCode.CMD_ABORTED: -303>, error=1, result='Aborted')"
     ]
    }
   ],
   "source": [
    "await attcs.atdome.cmd_stopMotion.start()"
   ]
  },
  {
   "cell_type": "code",
   "execution_count": 254,
   "metadata": {},
   "outputs": [
    {
     "name": "stdout",
     "output_type": "stream",
     "text": [
      "RemoteEvent(ATMCS, 0, target) falling behind; read 100 messages\n",
      "RemoteEvent(ATDomeTrajectory, 0, logMessage) falling behind; read 100 messages\n",
      "RemoteTelemetry(ATPtg, 0, timeAndDate) falling behind; read 100 messages\n",
      "RemoteTelemetry(ATHexapod, 0, positionStatus) falling behind; read 31 messages\n",
      "RemoteTelemetry(ATDome, 0, position) falling behind; read 100 messages\n",
      "RemoteTelemetry(ATPneumatics, 0, loadCell) falling behind; read 32 messages\n",
      "RemoteEvent(ATAOS, 0, heartbeat) falling behind; read 31 messages\n",
      "RemoteEvent(ATHexapod, 0, heartbeat) falling behind; read 31 messages\n",
      "RemoteTelemetry(ATPneumatics, 0, mainAirSourcePressure) falling behind; read 32 messages\n",
      "RemoteEvent(ATDomeTrajectory, 0, heartbeat) falling behind; read 31 messages\n",
      "RemoteEvent(ATDome, 0, shutterInPosition) falling behind; read 64 messages\n",
      "RemoteEvent(ATDome, 0, mainDoorState) falling behind; read 77 messages\n",
      "RemoteTelemetry(ATPtg, 0, mountStatus) falling behind; read 100 messages\n",
      "RemoteTelemetry(ATPtg, 0, guidingAndOffsets) falling behind; read 100 messages\n",
      "RemoteEvent(ATDome, 0, heartbeat) falling behind; read 32 messages\n",
      "RemoteTelemetry(ATPtg, 0, currentTargetStatus) falling behind; read 100 messages\n"
     ]
    },
    {
     "data": {
      "text/plain": [
       "<lsst.ts.salobj.ddsutil.ATDome_ackcmd_ff080bab at 0x7f2ae1208048>"
      ]
     },
     "execution_count": 254,
     "metadata": {},
     "output_type": "execute_result"
    }
   ],
   "source": [
    "await attcs.atdome.cmd_moveAzimuth.set_start(azimuth=200)"
   ]
  },
  {
   "cell_type": "code",
   "execution_count": 255,
   "metadata": {},
   "outputs": [
    {
     "name": "stdout",
     "output_type": "stream",
     "text": [
      "RemoteEvent(ATDomeTrajectory, 0, logMessage) falling behind; read 100 messages\n",
      "RemoteEvent(ATHexapod, 0, heartbeat) falling behind; read 40 messages\n",
      "RemoteTelemetry(ATPneumatics, 0, loadCell) falling behind; read 40 messages\n",
      "RemoteEvent(ATAOS, 0, heartbeat) falling behind; read 39 messages\n",
      "RemoteEvent(ATDome, 0, shutterInPosition) falling behind; read 82 messages\n",
      "RemoteEvent(ATDome, 0, mainDoorState) falling behind; read 99 messages\n",
      "RemoteTelemetry(ATHexapod, 0, positionStatus) falling behind; read 39 messages\n",
      "RemoteTelemetry(ATPneumatics, 0, mainAirSourcePressure) falling behind; read 41 messages\n",
      "RemoteEvent(ATDome, 0, logMessage) falling behind; read 15 messages\n",
      "RemoteEvent(ATDomeTrajectory, 0, heartbeat) falling behind; read 41 messages\n",
      "RemoteTelemetry(ATPneumatics, 0, m2AirPressure) falling behind; read 41 messages\n",
      "RemoteTelemetry(ATMCS, 0, trajectory) falling behind; read 41 messages\n",
      "RemoteTelemetry(ATPneumatics, 0, m1AirPressure) falling behind; read 41 messages\n",
      "RemoteTelemetry(ATMCS, 0, torqueDemand) falling behind; read 41 messages\n",
      "RemoteEvent(ATPneumatics, 0, heartbeat) falling behind; read 41 messages\n",
      "RemoteTelemetry(ATMCS, 0, nasymth_m3_mountMotorEncoders) falling behind; read 41 messages\n"
     ]
    },
    {
     "data": {
      "text/plain": [
       "<lsst.ts.salobj.ddsutil.ATPtg_ackcmd_2d655b72 at 0x7f2ae164da20>"
      ]
     },
     "execution_count": 255,
     "metadata": {},
     "output_type": "execute_result"
    }
   ],
   "source": [
    "await attcs.atptg.cmd_azElTarget.set_start(azDegs=0., elDegs=70)"
   ]
  },
  {
   "cell_type": "code",
   "execution_count": 257,
   "metadata": {},
   "outputs": [
    {
     "data": {
      "text/plain": [
       "<lsst.ts.salobj.ddsutil.ATMCS_logevent_allAxesInPosition_65585257 at 0x7f2ada6e6400>"
      ]
     },
     "execution_count": 257,
     "metadata": {},
     "output_type": "execute_result"
    }
   ],
   "source": [
    "await attcs.atmcs.evt_allAxesInPosition.next(flush=True)"
   ]
  },
  {
   "cell_type": "code",
   "execution_count": null,
   "metadata": {},
   "outputs": [],
   "source": []
  },
  {
   "cell_type": "code",
   "execution_count": 259,
   "metadata": {},
   "outputs": [
    {
     "name": "stdout",
     "output_type": "stream",
     "text": [
      "RemoteEvent(ATAOS, 0, heartbeat) falling behind; read 11 messages\n",
      "RemoteEvent(ATDomeTrajectory, 0, heartbeat) falling behind; read 10 messages\n",
      "RemoteTelemetry(ATPtg, 0, timeAndDate) falling behind; read 54 messages\n",
      "RemoteTelemetry(ATPneumatics, 0, mainAirSourcePressure) falling behind; read 10 messages\n",
      "RemoteTelemetry(ATMCS, 0, trajectory) falling behind; read 10 messages\n",
      "RemoteEvent(ATDome, 0, heartbeat) falling behind; read 10 messages\n",
      "RemoteTelemetry(ATPneumatics, 0, m2AirPressure) falling behind; read 10 messages\n",
      "RemoteEvent(ATHexapod, 0, heartbeat) falling behind; read 10 messages\n",
      "RemoteTelemetry(ATMCS, 0, torqueDemand) falling behind; read 10 messages\n",
      "RemoteTelemetry(ATPneumatics, 0, m1AirPressure) falling behind; read 10 messages\n",
      "RemoteTelemetry(ATMCS, 0, nasymth_m3_mountMotorEncoders) falling behind; read 10 messages\n",
      "RemoteTelemetry(ATPneumatics, 0, loadCell) falling behind; read 10 messages\n",
      "RemoteTelemetry(ATMCS, 0, mount_Nasmyth_Encoders) falling behind; read 10 messages\n",
      "RemoteTelemetry(ATMCS, 0, mount_AzEl_Encoders) falling behind; read 11 messages\n",
      "RemoteTelemetry(ATMCS, 0, measuredTorque) falling behind; read 11 messages\n",
      "RemoteTelemetry(ATMCS, 0, measuredMotorVelocity) falling behind; read 11 messages\n",
      "RemoteTelemetry(ATMCS, 0, azEl_mountMotorEncoders) falling behind; read 11 messages\n",
      "RemoteEvent(ATPneumatics, 0, heartbeat) falling behind; read 11 messages\n",
      "RemoteEvent(ATMCS, 0, heartbeat) falling behind; read 11 messages\n"
     ]
    },
    {
     "data": {
      "text/plain": [
       "[[<State.ENABLED: 2>, <State.DISABLED: 1>, <State.STANDBY: 5>],\n",
       " [<State.STANDBY: 5>],\n",
       " [<State.STANDBY: 5>],\n",
       " [<State.STANDBY: 5>],\n",
       " [<State.STANDBY: 5>],\n",
       " [<State.STANDBY: 5>],\n",
       " [<State.STANDBY: 5>]]"
      ]
     },
     "execution_count": 259,
     "metadata": {},
     "output_type": "execute_result"
    }
   ],
   "source": [
    "await asyncio.sleep(5)\n",
    "await asyncio.gather(salobj.set_summary_state(attcs.atmcs, salobj.State.STANDBY, timeout=120),\n",
    "                     salobj.set_summary_state(attcs.atptg, salobj.State.STANDBY),\n",
    "                     salobj.set_summary_state(attcs.ataos, salobj.State.STANDBY, settingsToApply=\"measured_20190908.yaml\"),\n",
    "                     salobj.set_summary_state(attcs.atpneumatics, salobj.State.STANDBY),\n",
    "                     salobj.set_summary_state(attcs.athexapod, salobj.State.STANDBY, settingsToApply=\"Default1\"),\n",
    "                     salobj.set_summary_state(attcs.atdome, salobj.State.STANDBY, settingsToApply=\"test.yaml\"),\n",
    "                     salobj.set_summary_state(attcs.atdometrajectory, salobj.State.STANDBY))"
   ]
  },
  {
   "cell_type": "code",
   "execution_count": null,
   "metadata": {},
   "outputs": [],
   "source": []
  }
 ],
 "metadata": {
  "kernelspec": {
   "display_name": "Python 3",
   "language": "python",
   "name": "python3"
  },
  "language_info": {
   "codemirror_mode": {
    "name": "ipython",
    "version": 3
   },
   "file_extension": ".py",
   "mimetype": "text/x-python",
   "name": "python",
   "nbconvert_exporter": "python",
   "pygments_lexer": "ipython3",
   "version": "3.7.2"
  }
 },
 "nbformat": 4,
 "nbformat_minor": 4
}
