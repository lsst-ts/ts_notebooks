{
 "cells": [
  {
   "cell_type": "markdown",
   "metadata": {},
   "source": [
    "This notebook shows the sequence of commands for an \"end-to-end\" verification. The idea is to show that we are able to \n",
    "\n",
    "    1 - Startup the telescope.\n",
    "    2 - Acquire calibration data.\n",
    "    3 - Initialize the observatory for the night.\n",
    "    4 - Slew to a target.\n",
    "    5 - Take an image of the target. \n",
    "    6 - Read the image from the butler and display it.\n",
    "    7 - Shutdown the telescope."
   ]
  },
  {
   "cell_type": "markdown",
   "metadata": {},
   "source": [
    "The first step in this notebook is to load all the required libraries. "
   ]
  },
  {
   "cell_type": "code",
   "execution_count": 1,
   "metadata": {},
   "outputs": [],
   "source": [
    "import sys\n",
    "import asyncio\n",
    "import logging\n",
    "\n",
    "import numpy as np\n",
    "\n",
    "from lsst.ts import salobj\n",
    "\n",
    "\n",
    "from lsst.ts.standardscripts.auxtel.attcs import ATTCS"
   ]
  },
  {
   "cell_type": "code",
   "execution_count": 69,
   "metadata": {},
   "outputs": [],
   "source": [
    "import astropy.units as u\n",
    "from astropy.time import Time\n",
    "from astropy.coordinates import AltAz, ICRS, EarthLocation, Angle, FK5"
   ]
  },
  {
   "cell_type": "markdown",
   "metadata": {},
   "source": [
    "Before proceeding, add a logger and set logging level to `DEBUG` so we can get status message from the various tasks."
   ]
  },
  {
   "cell_type": "code",
   "execution_count": 2,
   "metadata": {},
   "outputs": [],
   "source": [
    "stream_handler = logging.StreamHandler(sys.stdout)\n",
    "\n",
    "logger = logging.getLogger()\n",
    "logger.addHandler(stream_handler)\n",
    "logger.level = logging.DEBUG"
   ]
  },
  {
   "cell_type": "markdown",
   "metadata": {},
   "source": [
    "Next we initialize two high level classes to command the ATTCS and LATISS."
   ]
  },
  {
   "cell_type": "code",
   "execution_count": 3,
   "metadata": {},
   "outputs": [
    {
     "name": "stdout",
     "output_type": "stream",
     "text": [
      "Using selector: EpollSelector\n"
     ]
    }
   ],
   "source": [
    "attcs = ATTCS()"
   ]
  },
  {
   "cell_type": "code",
   "execution_count": 4,
   "metadata": {},
   "outputs": [
    {
     "name": "stdout",
     "output_type": "stream",
     "text": [
      "Read historical data in 0.01 sec\n",
      "Read historical data in 0.47 sec\n",
      "Read historical data in 0.70 sec\n",
      "Read historical data in 1.03 sec\n",
      "Read historical data in 1.76 sec\n",
      "Read historical data in 2.41 sec\n",
      "Read historical data in 4.59 sec\n",
      "RemoteEvent(ATDomeTrajectory, 0, logMessage) falling behind; read 100 messages\n",
      "RemoteTelemetry(ATDome, 0, position) falling behind; read 17 messages\n"
     ]
    },
    {
     "data": {
      "text/plain": [
       "[None, None, None, None, None, None, None]"
      ]
     },
     "execution_count": 4,
     "metadata": {},
     "output_type": "execute_result"
    }
   ],
   "source": [
    "await attcs.start_task"
   ]
  },
  {
   "cell_type": "code",
   "execution_count": null,
   "metadata": {},
   "outputs": [],
   "source": [
    "await asyncio.sleep(5)"
   ]
  },
  {
   "cell_type": "code",
   "execution_count": null,
   "metadata": {},
   "outputs": [],
   "source": []
  },
  {
   "cell_type": "code",
   "execution_count": null,
   "metadata": {},
   "outputs": [],
   "source": [
    "await salobj.set_summary_state(attcs.atmcs, salobj.State.ENABLED)"
   ]
  },
  {
   "cell_type": "code",
   "execution_count": null,
   "metadata": {},
   "outputs": [],
   "source": [
    "await salobj.set_summary_state(attcs.atptg, salobj.State.ENABLED)"
   ]
  },
  {
   "cell_type": "code",
   "execution_count": null,
   "metadata": {},
   "outputs": [],
   "source": [
    "await attcs.atptg.cmd_pointLoadModel.set_start(pointingFile=\"/home/saluser/auxtel_20190912.mod\")"
   ]
  },
  {
   "cell_type": "markdown",
   "metadata": {},
   "source": [
    "Since there is no reason do put these components in standby at a given time, let us assume `LATISS` is already enabled. The same is not true for ATTCS which must be put in standby at the end of the night so the telescope can be left in a safe mode. \n",
    "\n",
    "For that we call the `enable` method in ATTCS. This will leave the telescope and its subsystems ready to go. \n",
    "\n",
    "Note that the ATHexapod simulator is not working right now. For that we can tell attcs to skip it in enable and startup operations."
   ]
  },
  {
   "cell_type": "code",
   "execution_count": null,
   "metadata": {},
   "outputs": [],
   "source": [
    "ra = Angle(\"01:37:42.84548\", unit=u.hour)\n",
    "dec = Angle(\"-57:14:12.3101\", unit=u.deg)\n",
    "target_name=\"Alf Eri\"\n",
    "radec = ICRS(ra, dec)"
   ]
  },
  {
   "cell_type": "code",
   "execution_count": null,
   "metadata": {},
   "outputs": [],
   "source": []
  },
  {
   "cell_type": "code",
   "execution_count": null,
   "metadata": {},
   "outputs": [],
   "source": [
    "await attcs.enable(settings={\n",
    "    'atmcs': \"\",\n",
    "    'atptg': \"\",\n",
    "    'ataos': \"\",\n",
    "    'atpneumatics': \"\",\n",
    "    'athexapod': \"Default1\",\n",
    "    'atdome': \"\",\n",
    "    'atdometrajectory': \"\"})"
   ]
  },
  {
   "cell_type": "markdown",
   "metadata": {},
   "source": [
    "Select instrument port. This is not done at the startup."
   ]
  },
  {
   "cell_type": "code",
   "execution_count": null,
   "metadata": {},
   "outputs": [],
   "source": [
    "await attcs.atmcs.cmd_setInstrumentPort.set_start(port=1)"
   ]
  },
  {
   "cell_type": "markdown",
   "metadata": {},
   "source": [
    "A trick to aways get a good target to point."
   ]
  },
  {
   "cell_type": "code",
   "execution_count": null,
   "metadata": {},
   "outputs": [],
   "source": [
    "time = await attcs.atptg.tel_timeAndDate.aget()"
   ]
  },
  {
   "cell_type": "code",
   "execution_count": null,
   "metadata": {},
   "outputs": [],
   "source": [
    "time.lst, time.utc"
   ]
  },
  {
   "cell_type": "code",
   "execution_count": null,
   "metadata": {},
   "outputs": [],
   "source": [
    "await attcs.atptg.cmd_stopTracking.start()"
   ]
  },
  {
   "cell_type": "code",
   "execution_count": null,
   "metadata": {},
   "outputs": [],
   "source": [
    "ra = Angle(\"05 14 32.27210\", unit=u.hour)\n",
    "dec = Angle(\"-08 12 05.8981\", unit=u.deg)\n",
    "target_name=\"Bet Ori\"\n",
    "radec = ICRS(ra, dec)"
   ]
  },
  {
   "cell_type": "code",
   "execution_count": null,
   "metadata": {},
   "outputs": [],
   "source": [
    "await attcs.slew_icrs(ra=\"05 14 32.27210\", dec=\"-08 12 05.8981\", target_name=\"Bet Ori\", slew_timeout=120)"
   ]
  },
  {
   "cell_type": "code",
   "execution_count": null,
   "metadata": {},
   "outputs": [],
   "source": [
    "attcs.slew_icrs?"
   ]
  },
  {
   "cell_type": "code",
   "execution_count": null,
   "metadata": {},
   "outputs": [],
   "source": [
    "await attcs.slew_icrs(ra=\"05 17 36.3885646\", dec=\"-06 50 39.870187\", target_name=\"Tau Ori\", slew_timeout=120)"
   ]
  },
  {
   "cell_type": "code",
   "execution_count": 82,
   "metadata": {},
   "outputs": [],
   "source": [
    "attcs.check.atdome = False"
   ]
  },
  {
   "cell_type": "code",
   "execution_count": 96,
   "metadata": {},
   "outputs": [
    {
     "name": "stdout",
     "output_type": "stream",
     "text": [
      "RemoteEvent(ATDomeTrajectory, 0, logMessage) falling behind; read 100 messages\n",
      "RemoteEvent(ATAOS, 0, heartbeat) falling behind; read 13 messages\n",
      "RemoteTelemetry(ATDome, 0, position) falling behind; read 62 messages\n",
      "RemoteTelemetry(ATHexapod, 0, positionStatus) falling behind; read 12 messages\n",
      "Flushing events\n",
      "Scheduling check coroutines\n",
      "Sending command\n",
      "RemoteEvent(ATDome, 0, mainDoorState) falling behind; read 43 messages\n",
      "RemoteEvent(ATDomeTrajectory, 0, heartbeat) falling behind; read 13 messages\n",
      "RemoteTelemetry(ATPtg, 0, mountStatus) falling behind; read 65 messages\n",
      "RemoteTelemetry(ATPtg, 0, guidingAndOffsets) falling behind; read 66 messages\n",
      "RemoteTelemetry(ATMCS, 0, mount_AzEl_Encoders) falling behind; read 13 messages\n",
      "RemoteEvent(ATPneumatics, 0, heartbeat) falling behind; read 13 messages\n",
      "RemoteTelemetry(ATMCS, 0, measuredTorque) falling behind; read 13 messages\n",
      "RemoteTelemetry(ATMCS, 0, measuredMotorVelocity) falling behind; read 14 messages\n",
      "[Telescope] delta Alt = -000.006 | delta Az= +000.028 [Dome] delta Az = -004.422\n",
      "process as completed...\n",
      "[Telescope] delta Alt = +000.259 | delta Az= +000.634 [Dome] delta Az = -003.740\n",
      "Got False\n",
      "Telescope not in position\n",
      "[Telescope] delta Alt = +000.001 | delta Az= -000.008 [Dome] delta Az = -003.755\n",
      "[Telescope] delta Alt = +000.002 | delta Az= -000.007 [Dome] delta Az = -003.773\n",
      "[Telescope] delta Alt = +000.001 | delta Az= -000.007 [Dome] delta Az = -003.790\n",
      "[Telescope] delta Alt = +000.001 | delta Az= -000.007 [Dome] delta Az = -003.808\n",
      "[Telescope] delta Alt = +000.001 | delta Az= -000.007 [Dome] delta Az = -003.825\n",
      "[Telescope] delta Alt = +000.001 | delta Az= -000.007 [Dome] delta Az = -003.843\n",
      "[Telescope] delta Alt = +000.001 | delta Az= -000.007 [Dome] delta Az = -003.860\n",
      "[Telescope] delta Alt = +000.001 | delta Az= -000.007 [Dome] delta Az = -003.878\n",
      "[Telescope] delta Alt = +000.001 | delta Az= -000.007 [Dome] delta Az = -003.895\n",
      "[Telescope] delta Alt = +000.001 | delta Az= -000.007 [Dome] delta Az = -003.913\n",
      "[Telescope] delta Alt = +000.001 | delta Az= -000.007 [Dome] delta Az = -003.931\n",
      "[Telescope] delta Alt = +000.002 | delta Az= -000.007 [Dome] delta Az = -003.948\n",
      "[Telescope] delta Alt = +000.001 | delta Az= -000.007 [Dome] delta Az = -003.965\n",
      "[Telescope] delta Alt = +000.001 | delta Az= -000.007 [Dome] delta Az = -003.983\n",
      "[Telescope] delta Alt = +000.001 | delta Az= -000.006 [Dome] delta Az = -004.000\n",
      "[Telescope] delta Alt = +000.001 | delta Az= -000.007 [Dome] delta Az = -004.018\n",
      "[Telescope] delta Alt = +000.001 | delta Az= -000.007 [Dome] delta Az = -004.036\n",
      "[Telescope] delta Alt = +000.001 | delta Az= -000.007 [Dome] delta Az = -004.053\n",
      "[Telescope] delta Alt = +000.001 | delta Az= -000.007 [Dome] delta Az = -004.071\n",
      "[Telescope] delta Alt = +000.001 | delta Az= -000.006 [Dome] delta Az = -004.088\n",
      "[Telescope] delta Alt = +000.002 | delta Az= -000.007 [Dome] delta Az = -004.106\n",
      "[Telescope] delta Alt = +000.001 | delta Az= -000.007 [Dome] delta Az = -004.123\n",
      "[Telescope] delta Alt = +000.001 | delta Az= -000.007 [Dome] delta Az = -004.141\n",
      "[Telescope] delta Alt = +000.002 | delta Az= -000.007 [Dome] delta Az = -004.159\n",
      "[Telescope] delta Alt = +000.001 | delta Az= -000.007 [Dome] delta Az = -004.176\n",
      "[Telescope] delta Alt = +000.001 | delta Az= -000.007 [Dome] delta Az = -004.194\n",
      "Got True\n",
      "Telescope in position.\n",
      "[None, 'Telescope in position.']\n",
      "Removing callback...\n"
     ]
    }
   ],
   "source": [
    "await attcs.slew_icrs(ra=\"06 00 01.1299670717\", dec=\"-08 06 27.161817102\", rot_pa=-180., target_name=\"HD40672\", slew_timeout=120)\n",
    " "
   ]
  },
  {
   "cell_type": "code",
   "execution_count": 70,
   "metadata": {},
   "outputs": [],
   "source": [
    "ra = Angle(\"06 00 01.1299670717\", unit=u.hour)\n",
    "dec = Angle(\"-08 06 27.161817102\", unit=u.deg)\n",
    "target_name=\"HD40672\"\n",
    "radec = ICRS(ra, dec)\n"
   ]
  },
  {
   "cell_type": "code",
   "execution_count": null,
   "metadata": {},
   "outputs": [],
   "source": [
    "# Figure out what is the rotPA that sets nasmith rotator close to zero.\n",
    "time_data = await atptg.tel_timeAndDate.next(flush=True, timeout=2)\n",
    "curr_time_atptg = Time(time_data.tai, format=\"mjd\", scale=\"tai\")\n",
    "print(curr_time_atptg)\n",
    "coord_frame_altaz = AltAz(location=location, obstime=curr_time_atptg)\n",
    "alt_az = radec.transform_to(coord_frame_altaz)\n",
    "\n",
    "print(\"slew...\")\n",
    "# await atmcs.cmd_startTracking.start(timeout=10)\n",
    "await atptg.cmd_raDecTarget.set_start(\n",
    "    targetName=target_name,\n",
    "    targetInstance=ATPtg.TargetInstances.CURRENT,\n",
    "    frame=ATPtg.CoordFrame.ICRS,\n",
    "    epoch=2000,  # should be ignored: no parallax or proper motion\n",
    "    equinox=2000,  # should be ignored for ICRS\n",
    "    ra=radec.ra.hour,\n",
    "    declination=radec.dec.deg,\n",
    "    parallax=0,\n",
    "    pmRA=0,\n",
    "    pmDec=0,\n",
    "    rv=0,\n",
    "    dRA=0,\n",
    "    dDec=0,\n",
    "    rotPA=180.-alt_az.alt.deg,\n",
    "    rotFrame=ATPtg.RotFrame.FIXED,\n",
    "    rotMode=ATPtg.RotMode.FIELD,\n",
    "    timeout=10\n",
    ")"
   ]
  },
  {
   "cell_type": "code",
   "execution_count": null,
   "metadata": {},
   "outputs": [],
   "source": []
  },
  {
   "cell_type": "code",
   "execution_count": null,
   "metadata": {},
   "outputs": [],
   "source": []
  },
  {
   "cell_type": "code",
   "execution_count": 71,
   "metadata": {},
   "outputs": [
    {
     "name": "stdout",
     "output_type": "stream",
     "text": [
      "RemoteTelemetry(ATHexapod, 0, positionStatus) falling behind; read 100 messages\n",
      "RemoteEvent(ATHexapod, 0, heartbeat) falling behind; read 100 messages\n",
      "RemoteTelemetry(ATPneumatics, 0, m1AirPressure) falling behind; read 100 messages\n",
      "RemoteTelemetry(ATPneumatics, 0, loadCell) falling behind; read 100 messages\n"
     ]
    },
    {
     "data": {
      "text/plain": [
       "<lsst.ts.salobj.ddsutil.ATPtg_ackcmd_2d655b72 at 0x7f4953b76160>"
      ]
     },
     "execution_count": 71,
     "metadata": {},
     "output_type": "execute_result"
    }
   ],
   "source": [
    "# await attcs.atptg.cmd_offsetAzEl.set_start(el=-0.1*60.*60., \n",
    "#                                      az=0.456*60.*60., \n",
    "#                                      num=0)"
   ]
  },
  {
   "cell_type": "code",
   "execution_count": null,
   "metadata": {},
   "outputs": [],
   "source": [
    "# await attcs.atptg.cmd_offsetRADec.set_start(off1=-0.348*60.*60.,\n",
    "#                                             off2=0.317*60.*60., \n",
    "#                                      num=0)"
   ]
  },
  {
   "cell_type": "code",
   "execution_count": 132,
   "metadata": {},
   "outputs": [
    {
     "name": "stdout",
     "output_type": "stream",
     "text": [
      "RemoteEvent(ATDomeTrajectory, 0, logMessage) falling behind; read 100 messages\n",
      "RemoteTelemetry(ATDome, 0, position) falling behind; read 100 messages\n",
      "RemoteEvent(ATAOS, 0, m1CorrectionCompleted) falling behind; read 100 messages\n",
      "RemoteTelemetry(ATPtg, 0, timeAndDate) falling behind; read 100 messages\n",
      "RemoteTelemetry(ATPneumatics, 0, m1AirPressure) falling behind; read 100 messages\n",
      "RemoteEvent(ATAOS, 0, heartbeat) falling behind; read 100 messages\n",
      "RemoteTelemetry(ATPtg, 0, skyEnvironment) falling behind; read 82 messages\n",
      "RemoteTelemetry(ATPneumatics, 0, loadCell) falling behind; read 100 messages\n",
      "RemoteEvent(ATAOS, 0, detailedState) falling behind; read 100 messages\n",
      "RemoteEvent(ATPneumatics, 0, heartbeat) falling behind; read 100 messages\n",
      "RemoteTelemetry(ATMCS, 0, measuredMotorVelocity) falling behind; read 100 messages\n",
      "RemoteTelemetry(ATMCS, 0, azEl_mountMotorEncoders) falling behind; read 100 messages\n"
     ]
    },
    {
     "data": {
      "text/plain": [
       "<lsst.ts.salobj.ddsutil.ATPtg_ackcmd_2d655b72 at 0x7f49561126a0>"
      ]
     },
     "execution_count": 132,
     "metadata": {},
     "output_type": "execute_result"
    }
   ],
   "source": [
    "await attcs.atptg.cmd_offsetAzEl.set_start(el=-0.364*60.*60., \n",
    "                                     az=0.292*60.*60., \n",
    "                                     num=0)"
   ]
  },
  {
   "cell_type": "code",
   "execution_count": null,
   "metadata": {},
   "outputs": [],
   "source": [
    "end_readout = await latiss.take_image(exptime=10., \n",
    "                                      shutter=True, \n",
    "                                      image_type=\"OBJECT\", \n",
    "                                      group_id=\"TEST\", \n",
    "                                      filter=\"disperser\", \n",
    "                                      grating=\"ronchi170lpmm\")"
   ]
  },
  {
   "cell_type": "code",
   "execution_count": null,
   "metadata": {},
   "outputs": [],
   "source": [
    "print(end_readout)"
   ]
  },
  {
   "cell_type": "markdown",
   "metadata": {},
   "source": [
    "Get visit id from the `end_readout` event. "
   ]
  },
  {
   "cell_type": "code",
   "execution_count": null,
   "metadata": {},
   "outputs": [],
   "source": [
    "visit = int(int(f\"{end_readout.imageDate}{end_readout.imageNumber:05}\"))\n",
    "print(visit)"
   ]
  },
  {
   "cell_type": "code",
   "execution_count": null,
   "metadata": {},
   "outputs": [],
   "source": [
    "await asyncio.sleep(15.)"
   ]
  },
  {
   "cell_type": "code",
   "execution_count": null,
   "metadata": {},
   "outputs": [],
   "source": [
    "repo = os.path.join(\"/mnt/dmcs/oods_butler_repo/repo\")\n",
    "butler = dafPersist.Butler(repo)"
   ]
  },
  {
   "cell_type": "code",
   "execution_count": null,
   "metadata": {},
   "outputs": [],
   "source": [
    "raw = butler.get(\"raw\", visit=visit)"
   ]
  },
  {
   "cell_type": "code",
   "execution_count": null,
   "metadata": {},
   "outputs": [],
   "source": [
    "display(raw.image, cmap=matplotlib.cm.gray, vmin=1e4, vmax=3e4)"
   ]
  },
  {
   "cell_type": "markdown",
   "metadata": {},
   "source": [
    "Finaly, shutdown the system. "
   ]
  },
  {
   "cell_type": "code",
   "execution_count": null,
   "metadata": {},
   "outputs": [],
   "source": [
    "await attcs.shutdown()"
   ]
  },
  {
   "cell_type": "code",
   "execution_count": null,
   "metadata": {},
   "outputs": [],
   "source": []
  }
 ],
 "metadata": {
  "kernelspec": {
   "display_name": "Python 3",
   "language": "python",
   "name": "python3"
  },
  "language_info": {
   "codemirror_mode": {
    "name": "ipython",
    "version": 3
   },
   "file_extension": ".py",
   "mimetype": "text/x-python",
   "name": "python",
   "nbconvert_exporter": "python",
   "pygments_lexer": "ipython3",
   "version": "3.7.2"
  }
 },
 "nbformat": 4,
 "nbformat_minor": 4
}
