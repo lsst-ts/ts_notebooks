{
 "cells": [
  {
   "cell_type": "markdown",
   "metadata": {},
   "source": [
    "# Acquiring pointing data for AuxTel"
   ]
  },
  {
   "cell_type": "markdown",
   "metadata": {},
   "source": [
    "The first step in this notebook is to load all the required libraries. "
   ]
  },
  {
   "cell_type": "code",
   "execution_count": 1,
   "metadata": {},
   "outputs": [],
   "source": [
    "import sys\n",
    "import asyncio\n",
    "import logging\n",
    "\n",
    "import numpy as np\n",
    "\n",
    "from lsst.ts import salobj\n",
    "\n",
    "\n",
    "from lsst.ts.standardscripts.auxtel.attcs import ATTCS"
   ]
  },
  {
   "cell_type": "code",
   "execution_count": 2,
   "metadata": {},
   "outputs": [],
   "source": [
    "import astropy.units as u\n",
    "from astropy.time import Time\n",
    "from astropy.coordinates import AltAz, ICRS, EarthLocation, Angle, FK5"
   ]
  },
  {
   "cell_type": "markdown",
   "metadata": {},
   "source": [
    "Before proceeding, add a logger and set logging level to `DEBUG` so we can get status message from the various tasks."
   ]
  },
  {
   "cell_type": "code",
   "execution_count": 3,
   "metadata": {},
   "outputs": [],
   "source": [
    "stream_handler = logging.StreamHandler(sys.stdout)\n",
    "\n",
    "logger = logging.getLogger()\n",
    "logger.addHandler(stream_handler)\n",
    "logger.level = logging.DEBUG"
   ]
  },
  {
   "cell_type": "markdown",
   "metadata": {},
   "source": [
    "Next we initialize two high level classes to command the ATTCS and LATISS."
   ]
  },
  {
   "cell_type": "code",
   "execution_count": 4,
   "metadata": {},
   "outputs": [
    {
     "name": "stdout",
     "output_type": "stream",
     "text": [
      "Using selector: EpollSelector\n"
     ]
    }
   ],
   "source": [
    "attcs = ATTCS()"
   ]
  },
  {
   "cell_type": "code",
   "execution_count": 5,
   "metadata": {},
   "outputs": [
    {
     "name": "stdout",
     "output_type": "stream",
     "text": [
      "Read historical data in 0.00 sec\n",
      "Read historical data in 0.23 sec\n",
      "Read historical data in 0.78 sec\n",
      "Read historical data in 1.27 sec\n",
      "Read historical data in 2.05 sec\n",
      "RemoteEvent(ATDomeTrajectory, 0, logMessage) falling behind; read 55 messages\n",
      "Read historical data in 2.93 sec\n",
      "Read historical data in 4.15 sec\n",
      "RemoteTelemetry(ATDome, 0, position) falling behind; read 24 messages\n"
     ]
    },
    {
     "data": {
      "text/plain": [
       "[None, None, None, None, None, None, None]"
      ]
     },
     "execution_count": 5,
     "metadata": {},
     "output_type": "execute_result"
    },
    {
     "name": "stdout",
     "output_type": "stream",
     "text": [
      "RemoteTelemetry(ATPtg, 0, timeAndDate) falling behind; read 15 messages\n"
     ]
    }
   ],
   "source": [
    "await attcs.start_task"
   ]
  },
  {
   "cell_type": "code",
   "execution_count": 6,
   "metadata": {},
   "outputs": [
    {
     "name": "stdout",
     "output_type": "stream",
     "text": [
      "RemoteTelemetry(ATPtg, 0, mountStatus) falling behind; read 16 messages\n",
      "RemoteTelemetry(ATPtg, 0, guidingAndOffsets) falling behind; read 17 messages\n",
      "RemoteTelemetry(ATPtg, 0, currentTargetStatus) falling behind; read 18 messages\n",
      "RemoteEvent(ATMCS, 0, target) falling behind; read 38 messages\n"
     ]
    }
   ],
   "source": [
    "await asyncio.sleep(5.)"
   ]
  },
  {
   "cell_type": "code",
   "execution_count": 349,
   "metadata": {},
   "outputs": [
    {
     "name": "stdout",
     "output_type": "stream",
     "text": [
      "RemoteEvent(ATAOS, 0, heartbeat) falling behind; read 100 messages\n",
      "RemoteTelemetry(ATDome, 0, position) falling behind; read 100 messages\n",
      "RemoteEvent(ATHexapod, 0, heartbeat) falling behind; read 100 messages\n",
      "RemoteTelemetry(ATPtg, 0, timeAndDate) falling behind; read 100 messages\n",
      "RemoteTelemetry(ATPtg, 0, skyEnvironment) falling behind; read 36 messages\n",
      "RemoteTelemetry(ATPneumatics, 0, mainAirSourcePressure) falling behind; read 100 messages\n",
      "RemoteEvent(ATAOS, 0, m1CorrectionStarted) falling behind; read 100 messages\n",
      "RemoteTelemetry(ATMCS, 0, trajectory) falling behind; read 100 messages\n",
      "RemoteTelemetry(ATHexapod, 0, positionStatus) falling behind; read 100 messages\n",
      "RemoteTelemetry(ATPtg, 0, mountStatus) falling behind; read 100 messages\n",
      "RemoteTelemetry(ATPneumatics, 0, m2AirPressure) falling behind; read 100 messages\n",
      "RemoteTelemetry(ATMCS, 0, torqueDemand) falling behind; read 100 messages\n",
      "RemoteTelemetry(ATPtg, 0, guidingAndOffsets) falling behind; read 100 messages\n",
      "RemoteTelemetry(ATPneumatics, 0, m1AirPressure) falling behind; read 100 messages\n",
      "RemoteTelemetry(ATPtg, 0, currentTimesToLimits) falling behind; read 36 messages\n",
      "RemoteTelemetry(ATPneumatics, 0, loadCell) falling behind; read 100 messages\n",
      "RemoteEvent(ATAOS, 0, detailedState) falling behind; read 100 messages\n",
      "RemoteEvent(ATDome, 0, heartbeat) falling behind; read 100 messages\n",
      "RemoteTelemetry(ATPtg, 0, currentTargetStatus) falling behind; read 100 messages\n",
      "RemoteEvent(ATPneumatics, 0, heartbeat) falling behind; read 100 messages\n",
      "RemoteEvent(ATMCS, 0, heartbeat) falling behind; read 100 messages\n"
     ]
    },
    {
     "data": {
      "text/plain": [
       "[<State.FAULT: 3>, <State.STANDBY: 5>, <State.DISABLED: 1>, <State.ENABLED: 2>]"
      ]
     },
     "execution_count": 349,
     "metadata": {},
     "output_type": "execute_result"
    }
   ],
   "source": [
    "await salobj.set_summary_state(attcs.atmcs, salobj.State.ENABLED)"
   ]
  },
  {
   "cell_type": "code",
   "execution_count": 350,
   "metadata": {},
   "outputs": [
    {
     "data": {
      "text/plain": [
       "[<State.FAULT: 3>, <State.STANDBY: 5>, <State.DISABLED: 1>, <State.ENABLED: 2>]"
      ]
     },
     "execution_count": 350,
     "metadata": {},
     "output_type": "execute_result"
    }
   ],
   "source": [
    "await salobj.set_summary_state(attcs.atptg, salobj.State.ENABLED)"
   ]
  },
  {
   "cell_type": "markdown",
   "metadata": {},
   "source": [
    "# Bet Ori"
   ]
  },
  {
   "cell_type": "code",
   "execution_count": null,
   "metadata": {},
   "outputs": [],
   "source": [
    "await attcs.slew_icrs(ra=\"05 14 32.27210\", dec=\"-08 12 05.8981\", rot_pa=-90, target_name=\"Bet Ori\", slew_timeout=120)"
   ]
  },
  {
   "cell_type": "markdown",
   "metadata": {},
   "source": [
    "# alf CMa"
   ]
  },
  {
   "cell_type": "code",
   "execution_count": 13,
   "metadata": {},
   "outputs": [
    {
     "name": "stdout",
     "output_type": "stream",
     "text": [
      "RemoteTelemetry(ATPneumatics, 0, loadCell) falling behind; read 100 messages\n",
      "RemoteTelemetry(ATDome, 0, position) falling behind; read 100 messages\n",
      "RemoteEvent(ATHexapod, 0, heartbeat) falling behind; read 100 messages\n",
      "RemoteEvent(ATAOS, 0, m1CorrectionCompleted) falling behind; read 75 messages\n",
      "RemoteTelemetry(ATPtg, 0, skyEnvironment) falling behind; read 22 messages\n",
      "RemoteTelemetry(ATHexapod, 0, positionStatus) falling behind; read 100 messages\n",
      "RemoteTelemetry(ATPneumatics, 0, mainAirSourcePressure) falling behind; read 100 messages\n",
      "RemoteTelemetry(ATMCS, 0, trajectory) falling behind; read 100 messages\n",
      "Flushing events\n",
      "Scheduling check coroutines\n",
      "Sending command\n",
      "RemoteEvent(ATAOS, 0, m1CorrectionStarted) falling behind; read 77 messages\n",
      "RemoteEvent(ATDomeTrajectory, 0, heartbeat) falling behind; read 100 messages\n",
      "RemoteTelemetry(ATPneumatics, 0, m2AirPressure) falling behind; read 100 messages\n",
      "RemoteEvent(ATAOS, 0, heartbeat) falling behind; read 100 messages\n",
      "RemoteTelemetry(ATPtg, 0, currentTimesToLimits) falling behind; read 23 messages\n",
      "RemoteEvent(ATAOS, 0, detailedState) falling behind; read 100 messages\n",
      "RemoteEvent(ATDome, 0, heartbeat) falling behind; read 100 messages\n",
      "RemoteEvent(ATPtg, 0, weatherDataApplied) falling behind; read 11 messages\n",
      "[Telescope] delta Alt = +000.000 | delta Az= +000.039 [Dome] delta Az = -016.607\n",
      "process as completed...\n",
      "[Telescope] delta Alt = -000.179 | delta Az= +022.135 [Dome] delta Az = +005.894\n",
      "[Telescope] delta Alt = +000.002 | delta Az= +020.691 [Dome] delta Az = +005.870\n",
      "[Telescope] delta Alt = +000.001 | delta Az= +018.101 [Dome] delta Az = +005.839\n",
      "[Telescope] delta Alt = +000.001 | delta Az= +014.591 [Dome] delta Az = +005.809\n",
      "[Telescope] delta Alt = +000.001 | delta Az= +010.618 [Dome] delta Az = +005.779\n",
      "[Telescope] delta Alt = +000.001 | delta Az= +006.739 [Dome] delta Az = +005.747\n",
      "[Telescope] delta Alt = +000.001 | delta Az= +003.496 [Dome] delta Az = +005.717\n",
      "[Telescope] delta Alt = +000.001 | delta Az= +001.279 [Dome] delta Az = +005.687\n",
      "[Telescope] delta Alt = +000.001 | delta Az= +000.205 [Dome] delta Az = +005.656\n",
      "[Telescope] delta Alt = +000.001 | delta Az= -000.014 [Dome] delta Az = +005.625\n",
      "[Telescope] delta Alt = +000.001 | delta Az= -000.011 [Dome] delta Az = +005.596\n",
      "[Telescope] delta Alt = +000.001 | delta Az= -000.012 [Dome] delta Az = +005.564\n",
      "[Telescope] delta Alt = +000.001 | delta Az= -000.012 [Dome] delta Az = +005.534\n",
      "[Telescope] delta Alt = +000.001 | delta Az= -000.012 [Dome] delta Az = +005.503\n",
      "[Telescope] delta Alt = +000.001 | delta Az= -000.011 [Dome] delta Az = +005.473\n",
      "[Telescope] delta Alt = +000.001 | delta Az= -000.011 [Dome] delta Az = +005.443\n",
      "[Telescope] delta Alt = +000.001 | delta Az= -000.012 [Dome] delta Az = +005.411\n",
      "[Telescope] delta Alt = +000.001 | delta Az= -000.012 [Dome] delta Az = +005.380\n",
      "[Telescope] delta Alt = +000.001 | delta Az= -000.012 [Dome] delta Az = +005.350\n",
      "[Telescope] delta Alt = +000.001 | delta Az= -000.012 [Dome] delta Az = +005.320\n",
      "[Telescope] delta Alt = +000.001 | delta Az= -000.011 [Dome] delta Az = +005.289\n",
      "[Telescope] delta Alt = +000.001 | delta Az= -000.012 [Dome] delta Az = +005.257\n",
      "[Telescope] delta Alt = +000.001 | delta Az= -000.012 [Dome] delta Az = +005.226\n",
      "[Telescope] delta Alt = +000.001 | delta Az= -000.013 [Dome] delta Az = +005.196\n",
      "[Telescope] delta Alt = +000.001 | delta Az= -000.012 [Dome] delta Az = +005.166\n",
      "[Telescope] delta Alt = +000.001 | delta Az= -000.012 [Dome] delta Az = +005.135\n",
      "[Telescope] delta Alt = +000.001 | delta Az= -000.012 [Dome] delta Az = +005.104\n",
      "[Telescope] delta Alt = +000.001 | delta Az= -000.012 [Dome] delta Az = +005.073\n",
      "[Telescope] delta Alt = +000.001 | delta Az= -000.012 [Dome] delta Az = +005.042\n",
      "[Telescope] delta Alt = +000.001 | delta Az= -000.012 [Dome] delta Az = +005.011\n",
      "[Telescope] delta Alt = +000.001 | delta Az= -000.013 [Dome] delta Az = +004.980\n",
      "[Telescope] delta Alt = +000.001 | delta Az= -000.013 [Dome] delta Az = +004.949\n",
      "[Telescope] delta Alt = +000.001 | delta Az= -000.012 [Dome] delta Az = +004.919\n",
      "[Telescope] delta Alt = +000.001 | delta Az= -000.012 [Dome] delta Az = +004.888\n",
      "[Telescope] delta Alt = +000.001 | delta Az= -000.011 [Dome] delta Az = +004.858\n",
      "[Telescope] delta Alt = +000.001 | delta Az= -000.012 [Dome] delta Az = +004.827\n",
      "[Telescope] delta Alt = +000.001 | delta Az= -000.012 [Dome] delta Az = +004.796\n",
      "[Telescope] delta Alt = +000.001 | delta Az= -000.013 [Dome] delta Az = +004.764\n",
      "[Telescope] delta Alt = +000.001 | delta Az= -000.013 [Dome] delta Az = +004.733\n",
      "[Telescope] delta Alt = +000.001 | delta Az= -000.011 [Dome] delta Az = +004.703\n",
      "[Telescope] delta Alt = +000.001 | delta Az= -000.012 [Dome] delta Az = +004.672\n",
      "[Telescope] delta Alt = +000.001 | delta Az= -000.012 [Dome] delta Az = +004.641\n",
      "[Telescope] delta Alt = +000.001 | delta Az= -000.013 [Dome] delta Az = +004.610\n",
      "[Telescope] delta Alt = +000.001 | delta Az= -000.012 [Dome] delta Az = +004.579\n",
      "[Telescope] delta Alt = +000.001 | delta Az= -000.012 [Dome] delta Az = +004.548\n",
      "[Telescope] delta Alt = +000.001 | delta Az= -000.013 [Dome] delta Az = +004.517\n",
      "[Telescope] delta Alt = +000.001 | delta Az= -000.012 [Dome] delta Az = +004.486\n",
      "[Telescope] delta Alt = +000.001 | delta Az= -000.013 [Dome] delta Az = +004.454\n",
      "[Telescope] delta Alt = +000.001 | delta Az= -000.013 [Dome] delta Az = +004.424\n",
      "[Telescope] delta Alt = +000.001 | delta Az= -000.013 [Dome] delta Az = +004.393\n",
      "[Telescope] delta Alt = +000.001 | delta Az= -000.012 [Dome] delta Az = +004.362\n",
      "[Telescope] delta Alt = +000.001 | delta Az= -000.012 [Dome] delta Az = +004.332\n",
      "[Telescope] delta Alt = +000.001 | delta Az= -000.012 [Dome] delta Az = +004.301\n",
      "[Telescope] delta Alt = +000.001 | delta Az= -000.012 [Dome] delta Az = +004.269\n",
      "[Telescope] delta Alt = +000.001 | delta Az= -000.012 [Dome] delta Az = +004.239\n",
      "[Telescope] delta Alt = +000.001 | delta Az= -000.013 [Dome] delta Az = +004.206\n",
      "[Telescope] delta Alt = +000.001 | delta Az= -000.012 [Dome] delta Az = +004.176\n",
      "[Telescope] delta Alt = +000.001 | delta Az= -000.012 [Dome] delta Az = +004.145\n",
      "[Telescope] delta Alt = +000.001 | delta Az= -000.011 [Dome] delta Az = +004.114\n",
      "[Telescope] delta Alt = +000.001 | delta Az= -000.012 [Dome] delta Az = +004.083\n",
      "[Telescope] delta Alt = +000.001 | delta Az= -000.013 [Dome] delta Az = +004.051\n",
      "[Telescope] delta Alt = +000.001 | delta Az= -000.013 [Dome] delta Az = +004.020\n",
      "[Telescope] delta Alt = +000.001 | delta Az= -000.011 [Dome] delta Az = +003.990\n",
      "[Telescope] delta Alt = +000.001 | delta Az= -000.013 [Dome] delta Az = +003.958\n",
      "[Telescope] delta Alt = +000.001 | delta Az= -000.012 [Dome] delta Az = +003.927\n",
      "[Telescope] delta Alt = +000.001 | delta Az= -000.012 [Dome] delta Az = +003.896\n",
      "[Telescope] delta Alt = +000.001 | delta Az= -000.013 [Dome] delta Az = +003.865\n",
      "[Telescope] delta Alt = +000.001 | delta Az= -000.012 [Dome] delta Az = +003.834\n",
      "[Telescope] delta Alt = +000.001 | delta Az= -000.012 [Dome] delta Az = +003.803\n",
      "[Telescope] delta Alt = +000.001 | delta Az= -000.012 [Dome] delta Az = +003.771\n",
      "[Telescope] delta Alt = +000.001 | delta Az= -000.012 [Dome] delta Az = +003.740\n",
      "[Telescope] delta Alt = +000.001 | delta Az= -000.012 [Dome] delta Az = +003.709\n",
      "[Telescope] delta Alt = +000.001 | delta Az= -000.012 [Dome] delta Az = +003.678\n"
     ]
    },
    {
     "ename": "KeyboardInterrupt",
     "evalue": "",
     "output_type": "error",
     "traceback": [
      "\u001b[0;31m\u001b[0m",
      "\u001b[0;31mKeyboardInterrupt\u001b[0mTraceback (most recent call last)",
      "\u001b[0;32m/opt/lsst/software/stack/python/miniconda3-4.5.12/envs/lsst-scipipe-4d7b902/lib/python3.7/site-packages/IPython/core/async_helpers.py\u001b[0m in \u001b[0;36m__call__\u001b[0;34m(self, coro)\u001b[0m\n\u001b[1;32m     26\u001b[0m         \u001b[0;32mimport\u001b[0m \u001b[0masyncio\u001b[0m\u001b[0;34m\u001b[0m\u001b[0;34m\u001b[0m\u001b[0m\n\u001b[1;32m     27\u001b[0m \u001b[0;34m\u001b[0m\u001b[0m\n\u001b[0;32m---> 28\u001b[0;31m         \u001b[0;32mreturn\u001b[0m \u001b[0masyncio\u001b[0m\u001b[0;34m.\u001b[0m\u001b[0mget_event_loop\u001b[0m\u001b[0;34m(\u001b[0m\u001b[0;34m)\u001b[0m\u001b[0;34m.\u001b[0m\u001b[0mrun_until_complete\u001b[0m\u001b[0;34m(\u001b[0m\u001b[0mcoro\u001b[0m\u001b[0;34m)\u001b[0m\u001b[0;34m\u001b[0m\u001b[0;34m\u001b[0m\u001b[0m\n\u001b[0m\u001b[1;32m     29\u001b[0m \u001b[0;34m\u001b[0m\u001b[0m\n\u001b[1;32m     30\u001b[0m     \u001b[0;32mdef\u001b[0m \u001b[0m__str__\u001b[0m\u001b[0;34m(\u001b[0m\u001b[0mself\u001b[0m\u001b[0;34m)\u001b[0m\u001b[0;34m:\u001b[0m\u001b[0;34m\u001b[0m\u001b[0;34m\u001b[0m\u001b[0m\n",
      "\u001b[0;32m/opt/lsst/software/stack/python/miniconda3-4.5.12/envs/lsst-scipipe-4d7b902/lib/python3.7/asyncio/base_events.py\u001b[0m in \u001b[0;36mrun_until_complete\u001b[0;34m(self, future)\u001b[0m\n\u001b[1;32m    569\u001b[0m         \u001b[0mfuture\u001b[0m\u001b[0;34m.\u001b[0m\u001b[0madd_done_callback\u001b[0m\u001b[0;34m(\u001b[0m\u001b[0m_run_until_complete_cb\u001b[0m\u001b[0;34m)\u001b[0m\u001b[0;34m\u001b[0m\u001b[0;34m\u001b[0m\u001b[0m\n\u001b[1;32m    570\u001b[0m         \u001b[0;32mtry\u001b[0m\u001b[0;34m:\u001b[0m\u001b[0;34m\u001b[0m\u001b[0;34m\u001b[0m\u001b[0m\n\u001b[0;32m--> 571\u001b[0;31m             \u001b[0mself\u001b[0m\u001b[0;34m.\u001b[0m\u001b[0mrun_forever\u001b[0m\u001b[0;34m(\u001b[0m\u001b[0;34m)\u001b[0m\u001b[0;34m\u001b[0m\u001b[0;34m\u001b[0m\u001b[0m\n\u001b[0m\u001b[1;32m    572\u001b[0m         \u001b[0;32mexcept\u001b[0m\u001b[0;34m:\u001b[0m\u001b[0;34m\u001b[0m\u001b[0;34m\u001b[0m\u001b[0m\n\u001b[1;32m    573\u001b[0m             \u001b[0;32mif\u001b[0m \u001b[0mnew_task\u001b[0m \u001b[0;32mand\u001b[0m \u001b[0mfuture\u001b[0m\u001b[0;34m.\u001b[0m\u001b[0mdone\u001b[0m\u001b[0;34m(\u001b[0m\u001b[0;34m)\u001b[0m \u001b[0;32mand\u001b[0m \u001b[0;32mnot\u001b[0m \u001b[0mfuture\u001b[0m\u001b[0;34m.\u001b[0m\u001b[0mcancelled\u001b[0m\u001b[0;34m(\u001b[0m\u001b[0;34m)\u001b[0m\u001b[0;34m:\u001b[0m\u001b[0;34m\u001b[0m\u001b[0;34m\u001b[0m\u001b[0m\n",
      "\u001b[0;32m/opt/lsst/software/stack/python/miniconda3-4.5.12/envs/lsst-scipipe-4d7b902/lib/python3.7/asyncio/base_events.py\u001b[0m in \u001b[0;36mrun_forever\u001b[0;34m(self)\u001b[0m\n\u001b[1;32m    537\u001b[0m             \u001b[0mevents\u001b[0m\u001b[0;34m.\u001b[0m\u001b[0m_set_running_loop\u001b[0m\u001b[0;34m(\u001b[0m\u001b[0mself\u001b[0m\u001b[0;34m)\u001b[0m\u001b[0;34m\u001b[0m\u001b[0;34m\u001b[0m\u001b[0m\n\u001b[1;32m    538\u001b[0m             \u001b[0;32mwhile\u001b[0m \u001b[0;32mTrue\u001b[0m\u001b[0;34m:\u001b[0m\u001b[0;34m\u001b[0m\u001b[0;34m\u001b[0m\u001b[0m\n\u001b[0;32m--> 539\u001b[0;31m                 \u001b[0mself\u001b[0m\u001b[0;34m.\u001b[0m\u001b[0m_run_once\u001b[0m\u001b[0;34m(\u001b[0m\u001b[0;34m)\u001b[0m\u001b[0;34m\u001b[0m\u001b[0;34m\u001b[0m\u001b[0m\n\u001b[0m\u001b[1;32m    540\u001b[0m                 \u001b[0;32mif\u001b[0m \u001b[0mself\u001b[0m\u001b[0;34m.\u001b[0m\u001b[0m_stopping\u001b[0m\u001b[0;34m:\u001b[0m\u001b[0;34m\u001b[0m\u001b[0;34m\u001b[0m\u001b[0m\n\u001b[1;32m    541\u001b[0m                     \u001b[0;32mbreak\u001b[0m\u001b[0;34m\u001b[0m\u001b[0;34m\u001b[0m\u001b[0m\n",
      "\u001b[0;32m/opt/lsst/software/stack/python/miniconda3-4.5.12/envs/lsst-scipipe-4d7b902/lib/python3.7/asyncio/base_events.py\u001b[0m in \u001b[0;36m_run_once\u001b[0;34m(self)\u001b[0m\n\u001b[1;32m   1773\u001b[0m                     \u001b[0mself\u001b[0m\u001b[0;34m.\u001b[0m\u001b[0m_current_handle\u001b[0m \u001b[0;34m=\u001b[0m \u001b[0;32mNone\u001b[0m\u001b[0;34m\u001b[0m\u001b[0;34m\u001b[0m\u001b[0m\n\u001b[1;32m   1774\u001b[0m             \u001b[0;32melse\u001b[0m\u001b[0;34m:\u001b[0m\u001b[0;34m\u001b[0m\u001b[0;34m\u001b[0m\u001b[0m\n\u001b[0;32m-> 1775\u001b[0;31m                 \u001b[0mhandle\u001b[0m\u001b[0;34m.\u001b[0m\u001b[0m_run\u001b[0m\u001b[0;34m(\u001b[0m\u001b[0;34m)\u001b[0m\u001b[0;34m\u001b[0m\u001b[0;34m\u001b[0m\u001b[0m\n\u001b[0m\u001b[1;32m   1776\u001b[0m         \u001b[0mhandle\u001b[0m \u001b[0;34m=\u001b[0m \u001b[0;32mNone\u001b[0m  \u001b[0;31m# Needed to break cycles when an exception occurs.\u001b[0m\u001b[0;34m\u001b[0m\u001b[0;34m\u001b[0m\u001b[0m\n\u001b[1;32m   1777\u001b[0m \u001b[0;34m\u001b[0m\u001b[0m\n",
      "\u001b[0;32m/opt/lsst/software/stack/python/miniconda3-4.5.12/envs/lsst-scipipe-4d7b902/lib/python3.7/asyncio/events.py\u001b[0m in \u001b[0;36m_run\u001b[0;34m(self)\u001b[0m\n\u001b[1;32m     86\u001b[0m     \u001b[0;32mdef\u001b[0m \u001b[0m_run\u001b[0m\u001b[0;34m(\u001b[0m\u001b[0mself\u001b[0m\u001b[0;34m)\u001b[0m\u001b[0;34m:\u001b[0m\u001b[0;34m\u001b[0m\u001b[0;34m\u001b[0m\u001b[0m\n\u001b[1;32m     87\u001b[0m         \u001b[0;32mtry\u001b[0m\u001b[0;34m:\u001b[0m\u001b[0;34m\u001b[0m\u001b[0;34m\u001b[0m\u001b[0m\n\u001b[0;32m---> 88\u001b[0;31m             \u001b[0mself\u001b[0m\u001b[0;34m.\u001b[0m\u001b[0m_context\u001b[0m\u001b[0;34m.\u001b[0m\u001b[0mrun\u001b[0m\u001b[0;34m(\u001b[0m\u001b[0mself\u001b[0m\u001b[0;34m.\u001b[0m\u001b[0m_callback\u001b[0m\u001b[0;34m,\u001b[0m \u001b[0;34m*\u001b[0m\u001b[0mself\u001b[0m\u001b[0;34m.\u001b[0m\u001b[0m_args\u001b[0m\u001b[0;34m)\u001b[0m\u001b[0;34m\u001b[0m\u001b[0;34m\u001b[0m\u001b[0m\n\u001b[0m\u001b[1;32m     89\u001b[0m         \u001b[0;32mexcept\u001b[0m \u001b[0mException\u001b[0m \u001b[0;32mas\u001b[0m \u001b[0mexc\u001b[0m\u001b[0;34m:\u001b[0m\u001b[0;34m\u001b[0m\u001b[0;34m\u001b[0m\u001b[0m\n\u001b[1;32m     90\u001b[0m             cb = format_helpers._format_callback_source(\n",
      "\u001b[0;32m~/repos/ts_salobj/python/lsst/ts/salobj/sal_info.py\u001b[0m in \u001b[0;36m_read_loop\u001b[0;34m(self)\u001b[0m\n\u001b[1;32m    443\u001b[0m                             \u001b[0mreader\u001b[0m\u001b[0;34m.\u001b[0m\u001b[0m_warned_readloop\u001b[0m \u001b[0;34m=\u001b[0m \u001b[0;32mTrue\u001b[0m\u001b[0;34m\u001b[0m\u001b[0;34m\u001b[0m\u001b[0m\n\u001b[1;32m    444\u001b[0m                             \u001b[0mself\u001b[0m\u001b[0;34m.\u001b[0m\u001b[0mlog\u001b[0m\u001b[0;34m.\u001b[0m\u001b[0mwarning\u001b[0m\u001b[0;34m(\u001b[0m\u001b[0;34mf\"{reader!r} falling behind; read {len(data_list)} messages\"\u001b[0m\u001b[0;34m)\u001b[0m\u001b[0;34m\u001b[0m\u001b[0;34m\u001b[0m\u001b[0m\n\u001b[0;32m--> 445\u001b[0;31m                         \u001b[0msd_list\u001b[0m \u001b[0;34m=\u001b[0m \u001b[0;34m[\u001b[0m\u001b[0mself\u001b[0m\u001b[0;34m.\u001b[0m\u001b[0m_sample_to_data\u001b[0m\u001b[0;34m(\u001b[0m\u001b[0msd\u001b[0m\u001b[0;34m,\u001b[0m \u001b[0msi\u001b[0m\u001b[0;34m)\u001b[0m \u001b[0;32mfor\u001b[0m \u001b[0msd\u001b[0m\u001b[0;34m,\u001b[0m \u001b[0msi\u001b[0m \u001b[0;32min\u001b[0m \u001b[0mdata_list\u001b[0m \u001b[0;32mif\u001b[0m \u001b[0msi\u001b[0m\u001b[0;34m.\u001b[0m\u001b[0mvalid_data\u001b[0m\u001b[0;34m]\u001b[0m\u001b[0;34m\u001b[0m\u001b[0;34m\u001b[0m\u001b[0m\n\u001b[0m\u001b[1;32m    446\u001b[0m                         \u001b[0;32mif\u001b[0m \u001b[0mlen\u001b[0m\u001b[0;34m(\u001b[0m\u001b[0msd_list\u001b[0m\u001b[0;34m)\u001b[0m \u001b[0;34m<\u001b[0m \u001b[0mlen\u001b[0m\u001b[0;34m(\u001b[0m\u001b[0mdata_list\u001b[0m\u001b[0;34m)\u001b[0m\u001b[0;34m:\u001b[0m\u001b[0;34m\u001b[0m\u001b[0;34m\u001b[0m\u001b[0m\n\u001b[1;32m    447\u001b[0m                             \u001b[0mninvalid\u001b[0m \u001b[0;34m=\u001b[0m \u001b[0mlen\u001b[0m\u001b[0;34m(\u001b[0m\u001b[0mdata_list\u001b[0m\u001b[0;34m)\u001b[0m \u001b[0;34m-\u001b[0m \u001b[0mlen\u001b[0m\u001b[0;34m(\u001b[0m\u001b[0msd_list\u001b[0m\u001b[0;34m)\u001b[0m\u001b[0;34m\u001b[0m\u001b[0;34m\u001b[0m\u001b[0m\n",
      "\u001b[0;32m~/repos/ts_salobj/python/lsst/ts/salobj/sal_info.py\u001b[0m in \u001b[0;36m<listcomp>\u001b[0;34m(.0)\u001b[0m\n\u001b[1;32m    443\u001b[0m                             \u001b[0mreader\u001b[0m\u001b[0;34m.\u001b[0m\u001b[0m_warned_readloop\u001b[0m \u001b[0;34m=\u001b[0m \u001b[0;32mTrue\u001b[0m\u001b[0;34m\u001b[0m\u001b[0;34m\u001b[0m\u001b[0m\n\u001b[1;32m    444\u001b[0m                             \u001b[0mself\u001b[0m\u001b[0;34m.\u001b[0m\u001b[0mlog\u001b[0m\u001b[0;34m.\u001b[0m\u001b[0mwarning\u001b[0m\u001b[0;34m(\u001b[0m\u001b[0;34mf\"{reader!r} falling behind; read {len(data_list)} messages\"\u001b[0m\u001b[0;34m)\u001b[0m\u001b[0;34m\u001b[0m\u001b[0;34m\u001b[0m\u001b[0m\n\u001b[0;32m--> 445\u001b[0;31m                         \u001b[0msd_list\u001b[0m \u001b[0;34m=\u001b[0m \u001b[0;34m[\u001b[0m\u001b[0mself\u001b[0m\u001b[0;34m.\u001b[0m\u001b[0m_sample_to_data\u001b[0m\u001b[0;34m(\u001b[0m\u001b[0msd\u001b[0m\u001b[0;34m,\u001b[0m \u001b[0msi\u001b[0m\u001b[0;34m)\u001b[0m \u001b[0;32mfor\u001b[0m \u001b[0msd\u001b[0m\u001b[0;34m,\u001b[0m \u001b[0msi\u001b[0m \u001b[0;32min\u001b[0m \u001b[0mdata_list\u001b[0m \u001b[0;32mif\u001b[0m \u001b[0msi\u001b[0m\u001b[0;34m.\u001b[0m\u001b[0mvalid_data\u001b[0m\u001b[0;34m]\u001b[0m\u001b[0;34m\u001b[0m\u001b[0;34m\u001b[0m\u001b[0m\n\u001b[0m\u001b[1;32m    446\u001b[0m                         \u001b[0;32mif\u001b[0m \u001b[0mlen\u001b[0m\u001b[0;34m(\u001b[0m\u001b[0msd_list\u001b[0m\u001b[0;34m)\u001b[0m \u001b[0;34m<\u001b[0m \u001b[0mlen\u001b[0m\u001b[0;34m(\u001b[0m\u001b[0mdata_list\u001b[0m\u001b[0;34m)\u001b[0m\u001b[0;34m:\u001b[0m\u001b[0;34m\u001b[0m\u001b[0;34m\u001b[0m\u001b[0m\n\u001b[1;32m    447\u001b[0m                             \u001b[0mninvalid\u001b[0m \u001b[0;34m=\u001b[0m \u001b[0mlen\u001b[0m\u001b[0;34m(\u001b[0m\u001b[0mdata_list\u001b[0m\u001b[0;34m)\u001b[0m \u001b[0;34m-\u001b[0m \u001b[0mlen\u001b[0m\u001b[0;34m(\u001b[0m\u001b[0msd_list\u001b[0m\u001b[0;34m)\u001b[0m\u001b[0;34m\u001b[0m\u001b[0;34m\u001b[0m\u001b[0m\n",
      "\u001b[0;32m~/repos/ts_salobj/python/lsst/ts/salobj/sal_info.py\u001b[0m in \u001b[0;36m_sample_to_data\u001b[0;34m(self, sd, si)\u001b[0m\n\u001b[1;32m    467\u001b[0m         \"\"\"\n\u001b[1;32m    468\u001b[0m         \u001b[0mrcv_utc\u001b[0m \u001b[0;34m=\u001b[0m \u001b[0msi\u001b[0m\u001b[0;34m.\u001b[0m\u001b[0mreception_timestamp\u001b[0m\u001b[0;34m*\u001b[0m\u001b[0;36m1e-9\u001b[0m\u001b[0;34m\u001b[0m\u001b[0;34m\u001b[0m\u001b[0m\n\u001b[0;32m--> 469\u001b[0;31m         \u001b[0mrcv_tai\u001b[0m \u001b[0;34m=\u001b[0m \u001b[0mbase\u001b[0m\u001b[0;34m.\u001b[0m\u001b[0mtai_from_utc\u001b[0m\u001b[0;34m(\u001b[0m\u001b[0mrcv_utc\u001b[0m\u001b[0;34m)\u001b[0m\u001b[0;34m\u001b[0m\u001b[0;34m\u001b[0m\u001b[0m\n\u001b[0m\u001b[1;32m    470\u001b[0m         \u001b[0msd\u001b[0m\u001b[0;34m.\u001b[0m\u001b[0mprivate_rcvStamp\u001b[0m \u001b[0;34m=\u001b[0m \u001b[0mrcv_tai\u001b[0m\u001b[0;34m\u001b[0m\u001b[0;34m\u001b[0m\u001b[0m\n\u001b[1;32m    471\u001b[0m         \u001b[0;32mreturn\u001b[0m \u001b[0msd\u001b[0m\u001b[0;34m\u001b[0m\u001b[0;34m\u001b[0m\u001b[0m\n",
      "\u001b[0;32m~/repos/ts_salobj/python/lsst/ts/salobj/base.py\u001b[0m in \u001b[0;36mtai_from_utc\u001b[0;34m(utc, format)\u001b[0m\n\u001b[1;32m    192\u001b[0m     \u001b[0;32mtry\u001b[0m\u001b[0;34m:\u001b[0m\u001b[0;34m\u001b[0m\u001b[0;34m\u001b[0m\u001b[0m\n\u001b[1;32m    193\u001b[0m         \u001b[0mdt_utc\u001b[0m \u001b[0;34m=\u001b[0m \u001b[0mastropy_utc\u001b[0m\u001b[0;34m.\u001b[0m\u001b[0mutc\u001b[0m\u001b[0;34m.\u001b[0m\u001b[0mto_datetime\u001b[0m\u001b[0;34m(\u001b[0m\u001b[0;34m)\u001b[0m\u001b[0;34m\u001b[0m\u001b[0;34m\u001b[0m\u001b[0m\n\u001b[0;32m--> 194\u001b[0;31m         \u001b[0mdt_tai\u001b[0m \u001b[0;34m=\u001b[0m \u001b[0mastropy_utc\u001b[0m\u001b[0;34m.\u001b[0m\u001b[0mtai\u001b[0m\u001b[0;34m.\u001b[0m\u001b[0mto_datetime\u001b[0m\u001b[0;34m(\u001b[0m\u001b[0;34m)\u001b[0m\u001b[0;34m\u001b[0m\u001b[0;34m\u001b[0m\u001b[0m\n\u001b[0m\u001b[1;32m    195\u001b[0m     \u001b[0;32mexcept\u001b[0m \u001b[0mValueError\u001b[0m\u001b[0;34m:\u001b[0m\u001b[0;34m\u001b[0m\u001b[0;34m\u001b[0m\u001b[0m\n\u001b[1;32m    196\u001b[0m         \u001b[0;31m# datetime cannot have 60 in the seconds field; back off a second\u001b[0m\u001b[0;34m\u001b[0m\u001b[0;34m\u001b[0m\u001b[0;34m\u001b[0m\u001b[0m\n",
      "\u001b[0;32m/opt/lsst/software/stack/python/miniconda3-4.5.12/envs/lsst-scipipe-4d7b902/lib/python3.7/site-packages/astropy/time/core.py\u001b[0m in \u001b[0;36m__getattr__\u001b[0;34m(self, attr)\u001b[0m\n\u001b[1;32m   1525\u001b[0m                     \u001b[0mtm\u001b[0m \u001b[0;34m=\u001b[0m \u001b[0mself\u001b[0m\u001b[0;34m\u001b[0m\u001b[0;34m\u001b[0m\u001b[0m\n\u001b[1;32m   1526\u001b[0m                 \u001b[0;32melse\u001b[0m\u001b[0;34m:\u001b[0m\u001b[0;34m\u001b[0m\u001b[0;34m\u001b[0m\u001b[0m\n\u001b[0;32m-> 1527\u001b[0;31m                     \u001b[0mtm\u001b[0m \u001b[0;34m=\u001b[0m \u001b[0mself\u001b[0m\u001b[0;34m.\u001b[0m\u001b[0mreplicate\u001b[0m\u001b[0;34m(\u001b[0m\u001b[0;34m)\u001b[0m\u001b[0;34m\u001b[0m\u001b[0;34m\u001b[0m\u001b[0m\n\u001b[0m\u001b[1;32m   1528\u001b[0m                     \u001b[0mtm\u001b[0m\u001b[0;34m.\u001b[0m\u001b[0m_set_scale\u001b[0m\u001b[0;34m(\u001b[0m\u001b[0mattr\u001b[0m\u001b[0;34m)\u001b[0m\u001b[0;34m\u001b[0m\u001b[0;34m\u001b[0m\u001b[0m\n\u001b[1;32m   1529\u001b[0m                     \u001b[0;32mif\u001b[0m \u001b[0mtm\u001b[0m\u001b[0;34m.\u001b[0m\u001b[0mshape\u001b[0m\u001b[0;34m:\u001b[0m\u001b[0;34m\u001b[0m\u001b[0;34m\u001b[0m\u001b[0m\n",
      "\u001b[0;32m/opt/lsst/software/stack/python/miniconda3-4.5.12/envs/lsst-scipipe-4d7b902/lib/python3.7/site-packages/astropy/time/core.py\u001b[0m in \u001b[0;36mreplicate\u001b[0;34m(self, format, copy)\u001b[0m\n\u001b[1;32m   1227\u001b[0m             \u001b[0mReplica\u001b[0m \u001b[0mof\u001b[0m \u001b[0mthis\u001b[0m \u001b[0mobject\u001b[0m\u001b[0;34m\u001b[0m\u001b[0;34m\u001b[0m\u001b[0m\n\u001b[1;32m   1228\u001b[0m         \"\"\"\n\u001b[0;32m-> 1229\u001b[0;31m         \u001b[0;32mreturn\u001b[0m \u001b[0mself\u001b[0m\u001b[0;34m.\u001b[0m\u001b[0m_apply\u001b[0m\u001b[0;34m(\u001b[0m\u001b[0;34m'copy'\u001b[0m \u001b[0;32mif\u001b[0m \u001b[0mcopy\u001b[0m \u001b[0;32melse\u001b[0m \u001b[0;34m'replicate'\u001b[0m\u001b[0;34m,\u001b[0m \u001b[0mformat\u001b[0m\u001b[0;34m=\u001b[0m\u001b[0mformat\u001b[0m\u001b[0;34m)\u001b[0m\u001b[0;34m\u001b[0m\u001b[0;34m\u001b[0m\u001b[0m\n\u001b[0m\u001b[1;32m   1230\u001b[0m \u001b[0;34m\u001b[0m\u001b[0m\n\u001b[1;32m   1231\u001b[0m     \u001b[0;32mdef\u001b[0m \u001b[0m_apply\u001b[0m\u001b[0;34m(\u001b[0m\u001b[0mself\u001b[0m\u001b[0;34m,\u001b[0m \u001b[0mmethod\u001b[0m\u001b[0;34m,\u001b[0m \u001b[0;34m*\u001b[0m\u001b[0margs\u001b[0m\u001b[0;34m,\u001b[0m \u001b[0mformat\u001b[0m\u001b[0;34m=\u001b[0m\u001b[0;32mNone\u001b[0m\u001b[0;34m,\u001b[0m \u001b[0;34m**\u001b[0m\u001b[0mkwargs\u001b[0m\u001b[0;34m)\u001b[0m\u001b[0;34m:\u001b[0m\u001b[0;34m\u001b[0m\u001b[0;34m\u001b[0m\u001b[0m\n",
      "\u001b[0;32m/opt/lsst/software/stack/python/miniconda3-4.5.12/envs/lsst-scipipe-4d7b902/lib/python3.7/site-packages/astropy/time/core.py\u001b[0m in \u001b[0;36m_apply\u001b[0;34m(self, method, format, *args, **kwargs)\u001b[0m\n\u001b[1;32m   1319\u001b[0m                              \u001b[0mtm\u001b[0m\u001b[0;34m.\u001b[0m\u001b[0m_time\u001b[0m\u001b[0;34m.\u001b[0m\u001b[0m_scale\u001b[0m\u001b[0;34m,\u001b[0m \u001b[0mtm\u001b[0m\u001b[0;34m.\u001b[0m\u001b[0mprecision\u001b[0m\u001b[0;34m,\u001b[0m\u001b[0;34m\u001b[0m\u001b[0;34m\u001b[0m\u001b[0m\n\u001b[1;32m   1320\u001b[0m                              \u001b[0mtm\u001b[0m\u001b[0;34m.\u001b[0m\u001b[0min_subfmt\u001b[0m\u001b[0;34m,\u001b[0m \u001b[0mtm\u001b[0m\u001b[0;34m.\u001b[0m\u001b[0mout_subfmt\u001b[0m\u001b[0;34m,\u001b[0m\u001b[0;34m\u001b[0m\u001b[0;34m\u001b[0m\u001b[0m\n\u001b[0;32m-> 1321\u001b[0;31m                              from_jd=True)\n\u001b[0m\u001b[1;32m   1322\u001b[0m         \u001b[0mtm\u001b[0m\u001b[0;34m.\u001b[0m\u001b[0m_format\u001b[0m \u001b[0;34m=\u001b[0m \u001b[0mnew_format\u001b[0m\u001b[0;34m\u001b[0m\u001b[0;34m\u001b[0m\u001b[0m\n\u001b[1;32m   1323\u001b[0m         \u001b[0mtm\u001b[0m\u001b[0;34m.\u001b[0m\u001b[0mSCALES\u001b[0m \u001b[0;34m=\u001b[0m \u001b[0mself\u001b[0m\u001b[0;34m.\u001b[0m\u001b[0mSCALES\u001b[0m\u001b[0;34m\u001b[0m\u001b[0;34m\u001b[0m\u001b[0m\n",
      "\u001b[0;32m/opt/lsst/software/stack/python/miniconda3-4.5.12/envs/lsst-scipipe-4d7b902/lib/python3.7/site-packages/astropy/time/formats.py\u001b[0m in \u001b[0;36m__init__\u001b[0;34m(self, val1, val2, scale, precision, in_subfmt, out_subfmt, from_jd)\u001b[0m\n\u001b[1;32m    392\u001b[0m         \u001b[0;31m# Initialize the reference epoch (a single time defined in subclasses)\u001b[0m\u001b[0;34m\u001b[0m\u001b[0;34m\u001b[0m\u001b[0;34m\u001b[0m\u001b[0m\n\u001b[1;32m    393\u001b[0m         epoch = Time(self.epoch_val, self.epoch_val2, scale=self.epoch_scale,\n\u001b[0;32m--> 394\u001b[0;31m                      format=self.epoch_format)\n\u001b[0m\u001b[1;32m    395\u001b[0m         \u001b[0mself\u001b[0m\u001b[0;34m.\u001b[0m\u001b[0mepoch\u001b[0m \u001b[0;34m=\u001b[0m \u001b[0mepoch\u001b[0m\u001b[0;34m\u001b[0m\u001b[0;34m\u001b[0m\u001b[0m\n\u001b[1;32m    396\u001b[0m \u001b[0;34m\u001b[0m\u001b[0m\n",
      "\u001b[0;32m/opt/lsst/software/stack/python/miniconda3-4.5.12/envs/lsst-scipipe-4d7b902/lib/python3.7/site-packages/astropy/time/core.py\u001b[0m in \u001b[0;36m__init__\u001b[0;34m(self, val, val2, format, scale, precision, in_subfmt, out_subfmt, location, copy)\u001b[0m\n\u001b[1;32m    397\u001b[0m         \u001b[0;32melse\u001b[0m\u001b[0;34m:\u001b[0m\u001b[0;34m\u001b[0m\u001b[0;34m\u001b[0m\u001b[0m\n\u001b[1;32m    398\u001b[0m             self._init_from_vals(val, val2, format, scale, copy,\n\u001b[0;32m--> 399\u001b[0;31m                                  precision, in_subfmt, out_subfmt)\n\u001b[0m\u001b[1;32m    400\u001b[0m             \u001b[0mself\u001b[0m\u001b[0;34m.\u001b[0m\u001b[0mSCALES\u001b[0m \u001b[0;34m=\u001b[0m \u001b[0mTIME_TYPES\u001b[0m\u001b[0;34m[\u001b[0m\u001b[0mself\u001b[0m\u001b[0;34m.\u001b[0m\u001b[0mscale\u001b[0m\u001b[0;34m]\u001b[0m\u001b[0;34m\u001b[0m\u001b[0;34m\u001b[0m\u001b[0m\n\u001b[1;32m    401\u001b[0m \u001b[0;34m\u001b[0m\u001b[0m\n",
      "\u001b[0;32m/opt/lsst/software/stack/python/miniconda3-4.5.12/envs/lsst-scipipe-4d7b902/lib/python3.7/site-packages/astropy/time/core.py\u001b[0m in \u001b[0;36m_init_from_vals\u001b[0;34m(self, val, val2, format, scale, copy, precision, in_subfmt, out_subfmt)\u001b[0m\n\u001b[1;32m    452\u001b[0m         \u001b[0;31m# Parse / convert input values into internal jd1, jd2 based on format\u001b[0m\u001b[0;34m\u001b[0m\u001b[0;34m\u001b[0m\u001b[0;34m\u001b[0m\u001b[0m\n\u001b[1;32m    453\u001b[0m         self._time = self._get_time_fmt(val, val2, format, scale,\n\u001b[0;32m--> 454\u001b[0;31m                                         precision, in_subfmt, out_subfmt)\n\u001b[0m\u001b[1;32m    455\u001b[0m         \u001b[0mself\u001b[0m\u001b[0;34m.\u001b[0m\u001b[0m_format\u001b[0m \u001b[0;34m=\u001b[0m \u001b[0mself\u001b[0m\u001b[0;34m.\u001b[0m\u001b[0m_time\u001b[0m\u001b[0;34m.\u001b[0m\u001b[0mname\u001b[0m\u001b[0;34m\u001b[0m\u001b[0;34m\u001b[0m\u001b[0m\n\u001b[1;32m    456\u001b[0m \u001b[0;34m\u001b[0m\u001b[0m\n",
      "\u001b[0;32m/opt/lsst/software/stack/python/miniconda3-4.5.12/envs/lsst-scipipe-4d7b902/lib/python3.7/site-packages/astropy/time/core.py\u001b[0m in \u001b[0;36m_get_time_fmt\u001b[0;34m(self, val, val2, format, scale, precision, in_subfmt, out_subfmt)\u001b[0m\n\u001b[1;32m    497\u001b[0m         \u001b[0;32mfor\u001b[0m \u001b[0mformat\u001b[0m\u001b[0;34m,\u001b[0m \u001b[0mFormatClass\u001b[0m \u001b[0;32min\u001b[0m \u001b[0mformats\u001b[0m\u001b[0;34m:\u001b[0m\u001b[0;34m\u001b[0m\u001b[0;34m\u001b[0m\u001b[0m\n\u001b[1;32m    498\u001b[0m             \u001b[0;32mtry\u001b[0m\u001b[0;34m:\u001b[0m\u001b[0;34m\u001b[0m\u001b[0;34m\u001b[0m\u001b[0m\n\u001b[0;32m--> 499\u001b[0;31m                 \u001b[0;32mreturn\u001b[0m \u001b[0mFormatClass\u001b[0m\u001b[0;34m(\u001b[0m\u001b[0mval\u001b[0m\u001b[0;34m,\u001b[0m \u001b[0mval2\u001b[0m\u001b[0;34m,\u001b[0m \u001b[0mscale\u001b[0m\u001b[0;34m,\u001b[0m \u001b[0mprecision\u001b[0m\u001b[0;34m,\u001b[0m \u001b[0min_subfmt\u001b[0m\u001b[0;34m,\u001b[0m \u001b[0mout_subfmt\u001b[0m\u001b[0;34m)\u001b[0m\u001b[0;34m\u001b[0m\u001b[0;34m\u001b[0m\u001b[0m\n\u001b[0m\u001b[1;32m    500\u001b[0m             \u001b[0;32mexcept\u001b[0m \u001b[0mUnitConversionError\u001b[0m\u001b[0;34m:\u001b[0m\u001b[0;34m\u001b[0m\u001b[0;34m\u001b[0m\u001b[0m\n\u001b[1;32m    501\u001b[0m                 \u001b[0;32mraise\u001b[0m\u001b[0;34m\u001b[0m\u001b[0;34m\u001b[0m\u001b[0m\n",
      "\u001b[0;32m/opt/lsst/software/stack/python/miniconda3-4.5.12/envs/lsst-scipipe-4d7b902/lib/python3.7/site-packages/astropy/time/formats.py\u001b[0m in \u001b[0;36m__init__\u001b[0;34m(self, val1, val2, scale, precision, in_subfmt, out_subfmt, from_jd)\u001b[0m\n\u001b[1;32m    132\u001b[0m         \u001b[0;32melse\u001b[0m\u001b[0;34m:\u001b[0m\u001b[0;34m\u001b[0m\u001b[0;34m\u001b[0m\u001b[0m\n\u001b[1;32m    133\u001b[0m             \u001b[0mval1\u001b[0m\u001b[0;34m,\u001b[0m \u001b[0mval2\u001b[0m \u001b[0;34m=\u001b[0m \u001b[0mself\u001b[0m\u001b[0;34m.\u001b[0m\u001b[0m_check_val_type\u001b[0m\u001b[0;34m(\u001b[0m\u001b[0mval1\u001b[0m\u001b[0;34m,\u001b[0m \u001b[0mval2\u001b[0m\u001b[0;34m)\u001b[0m\u001b[0;34m\u001b[0m\u001b[0;34m\u001b[0m\u001b[0m\n\u001b[0;32m--> 134\u001b[0;31m             \u001b[0mself\u001b[0m\u001b[0;34m.\u001b[0m\u001b[0mset_jds\u001b[0m\u001b[0;34m(\u001b[0m\u001b[0mval1\u001b[0m\u001b[0;34m,\u001b[0m \u001b[0mval2\u001b[0m\u001b[0;34m)\u001b[0m\u001b[0;34m\u001b[0m\u001b[0;34m\u001b[0m\u001b[0m\n\u001b[0m\u001b[1;32m    135\u001b[0m \u001b[0;34m\u001b[0m\u001b[0m\n\u001b[1;32m    136\u001b[0m     \u001b[0;32mdef\u001b[0m \u001b[0m__len__\u001b[0m\u001b[0;34m(\u001b[0m\u001b[0mself\u001b[0m\u001b[0;34m)\u001b[0m\u001b[0;34m:\u001b[0m\u001b[0;34m\u001b[0m\u001b[0;34m\u001b[0m\u001b[0m\n",
      "\u001b[0;32m/opt/lsst/software/stack/python/miniconda3-4.5.12/envs/lsst-scipipe-4d7b902/lib/python3.7/site-packages/astropy/time/formats.py\u001b[0m in \u001b[0;36mset_jds\u001b[0;34m(self, val1, val2)\u001b[0m\n\u001b[1;32m    819\u001b[0m \u001b[0;34m\u001b[0m\u001b[0m\n\u001b[1;32m    820\u001b[0m         jd1, jd2 = erfa.dtf2d(self.scale.upper().encode('ascii'),\n\u001b[0;32m--> 821\u001b[0;31m                               *iterator.operands[1:])\n\u001b[0m\u001b[1;32m    822\u001b[0m         \u001b[0mself\u001b[0m\u001b[0;34m.\u001b[0m\u001b[0mjd1\u001b[0m\u001b[0;34m,\u001b[0m \u001b[0mself\u001b[0m\u001b[0;34m.\u001b[0m\u001b[0mjd2\u001b[0m \u001b[0;34m=\u001b[0m \u001b[0mday_frac\u001b[0m\u001b[0;34m(\u001b[0m\u001b[0mjd1\u001b[0m\u001b[0;34m,\u001b[0m \u001b[0mjd2\u001b[0m\u001b[0;34m)\u001b[0m\u001b[0;34m\u001b[0m\u001b[0;34m\u001b[0m\u001b[0m\n\u001b[1;32m    823\u001b[0m \u001b[0;34m\u001b[0m\u001b[0m\n",
      "\u001b[0;32m/opt/lsst/software/stack/python/miniconda3-4.5.12/envs/lsst-scipipe-4d7b902/lib/python3.7/site-packages/astropy/_erfa/core.py\u001b[0m in \u001b[0;36mdtf2d\u001b[0;34m(scale, iy, im, id, ihr, imn, sec)\u001b[0m\n\u001b[1;32m  15410\u001b[0m     \"\"\"\n\u001b[1;32m  15411\u001b[0m     \u001b[0md1\u001b[0m\u001b[0;34m,\u001b[0m \u001b[0md2\u001b[0m\u001b[0;34m,\u001b[0m \u001b[0mc_retval\u001b[0m \u001b[0;34m=\u001b[0m \u001b[0mufunc\u001b[0m\u001b[0;34m.\u001b[0m\u001b[0mdtf2d\u001b[0m\u001b[0;34m(\u001b[0m\u001b[0mscale\u001b[0m\u001b[0;34m,\u001b[0m \u001b[0miy\u001b[0m\u001b[0;34m,\u001b[0m \u001b[0mim\u001b[0m\u001b[0;34m,\u001b[0m \u001b[0mid\u001b[0m\u001b[0;34m,\u001b[0m \u001b[0mihr\u001b[0m\u001b[0;34m,\u001b[0m \u001b[0mimn\u001b[0m\u001b[0;34m,\u001b[0m \u001b[0msec\u001b[0m\u001b[0;34m)\u001b[0m\u001b[0;34m\u001b[0m\u001b[0;34m\u001b[0m\u001b[0m\n\u001b[0;32m> 15412\u001b[0;31m     \u001b[0mcheck_errwarn\u001b[0m\u001b[0;34m(\u001b[0m\u001b[0mc_retval\u001b[0m\u001b[0;34m,\u001b[0m \u001b[0;34m'dtf2d'\u001b[0m\u001b[0;34m)\u001b[0m\u001b[0;34m\u001b[0m\u001b[0;34m\u001b[0m\u001b[0m\n\u001b[0m\u001b[1;32m  15413\u001b[0m     \u001b[0;32mreturn\u001b[0m \u001b[0md1\u001b[0m\u001b[0;34m,\u001b[0m \u001b[0md2\u001b[0m\u001b[0;34m\u001b[0m\u001b[0;34m\u001b[0m\u001b[0m\n\u001b[1;32m  15414\u001b[0m \u001b[0;34m\u001b[0m\u001b[0m\n",
      "\u001b[0;32m/opt/lsst/software/stack/python/miniconda3-4.5.12/envs/lsst-scipipe-4d7b902/lib/python3.7/site-packages/astropy/_erfa/core.py\u001b[0m in \u001b[0;36mcheck_errwarn\u001b[0;34m(statcodes, func_name)\u001b[0m\n\u001b[1;32m     63\u001b[0m \u001b[0;34m\u001b[0m\u001b[0m\n\u001b[1;32m     64\u001b[0m \u001b[0;32mdef\u001b[0m \u001b[0mcheck_errwarn\u001b[0m\u001b[0;34m(\u001b[0m\u001b[0mstatcodes\u001b[0m\u001b[0;34m,\u001b[0m \u001b[0mfunc_name\u001b[0m\u001b[0;34m)\u001b[0m\u001b[0;34m:\u001b[0m\u001b[0;34m\u001b[0m\u001b[0;34m\u001b[0m\u001b[0m\n\u001b[0;32m---> 65\u001b[0;31m     \u001b[0;32mif\u001b[0m \u001b[0;32mnot\u001b[0m \u001b[0mnumpy\u001b[0m\u001b[0;34m.\u001b[0m\u001b[0many\u001b[0m\u001b[0;34m(\u001b[0m\u001b[0mstatcodes\u001b[0m\u001b[0;34m)\u001b[0m\u001b[0;34m:\u001b[0m\u001b[0;34m\u001b[0m\u001b[0;34m\u001b[0m\u001b[0m\n\u001b[0m\u001b[1;32m     66\u001b[0m         \u001b[0;32mreturn\u001b[0m\u001b[0;34m\u001b[0m\u001b[0;34m\u001b[0m\u001b[0m\n\u001b[1;32m     67\u001b[0m     \u001b[0;31m# Remap any errors into warnings in the STATUS_CODES_REMAP dict.\u001b[0m\u001b[0;34m\u001b[0m\u001b[0;34m\u001b[0m\u001b[0;34m\u001b[0m\u001b[0m\n",
      "\u001b[0;32m/opt/lsst/software/stack/python/miniconda3-4.5.12/envs/lsst-scipipe-4d7b902/lib/python3.7/site-packages/numpy/core/fromnumeric.py\u001b[0m in \u001b[0;36many\u001b[0;34m(a, axis, out, keepdims)\u001b[0m\n\u001b[1;32m   2162\u001b[0m \u001b[0;34m\u001b[0m\u001b[0m\n\u001b[1;32m   2163\u001b[0m     \"\"\"\n\u001b[0;32m-> 2164\u001b[0;31m     \u001b[0;32mreturn\u001b[0m \u001b[0m_wrapreduction\u001b[0m\u001b[0;34m(\u001b[0m\u001b[0ma\u001b[0m\u001b[0;34m,\u001b[0m \u001b[0mnp\u001b[0m\u001b[0;34m.\u001b[0m\u001b[0mlogical_or\u001b[0m\u001b[0;34m,\u001b[0m \u001b[0;34m'any'\u001b[0m\u001b[0;34m,\u001b[0m \u001b[0maxis\u001b[0m\u001b[0;34m,\u001b[0m \u001b[0;32mNone\u001b[0m\u001b[0;34m,\u001b[0m \u001b[0mout\u001b[0m\u001b[0;34m,\u001b[0m \u001b[0mkeepdims\u001b[0m\u001b[0;34m=\u001b[0m\u001b[0mkeepdims\u001b[0m\u001b[0;34m)\u001b[0m\u001b[0;34m\u001b[0m\u001b[0;34m\u001b[0m\u001b[0m\n\u001b[0m\u001b[1;32m   2165\u001b[0m \u001b[0;34m\u001b[0m\u001b[0m\n\u001b[1;32m   2166\u001b[0m \u001b[0;34m\u001b[0m\u001b[0m\n",
      "\u001b[0;32m/opt/lsst/software/stack/python/miniconda3-4.5.12/envs/lsst-scipipe-4d7b902/lib/python3.7/site-packages/numpy/core/fromnumeric.py\u001b[0m in \u001b[0;36m_wrapreduction\u001b[0;34m(obj, ufunc, method, axis, dtype, out, **kwargs)\u001b[0m\n\u001b[1;32m     82\u001b[0m                 \u001b[0;32mreturn\u001b[0m \u001b[0mreduction\u001b[0m\u001b[0;34m(\u001b[0m\u001b[0maxis\u001b[0m\u001b[0;34m=\u001b[0m\u001b[0maxis\u001b[0m\u001b[0;34m,\u001b[0m \u001b[0mdtype\u001b[0m\u001b[0;34m=\u001b[0m\u001b[0mdtype\u001b[0m\u001b[0;34m,\u001b[0m \u001b[0mout\u001b[0m\u001b[0;34m=\u001b[0m\u001b[0mout\u001b[0m\u001b[0;34m,\u001b[0m \u001b[0;34m**\u001b[0m\u001b[0mpasskwargs\u001b[0m\u001b[0;34m)\u001b[0m\u001b[0;34m\u001b[0m\u001b[0;34m\u001b[0m\u001b[0m\n\u001b[1;32m     83\u001b[0m             \u001b[0;32melse\u001b[0m\u001b[0;34m:\u001b[0m\u001b[0;34m\u001b[0m\u001b[0;34m\u001b[0m\u001b[0m\n\u001b[0;32m---> 84\u001b[0;31m                 \u001b[0;32mreturn\u001b[0m \u001b[0mreduction\u001b[0m\u001b[0;34m(\u001b[0m\u001b[0maxis\u001b[0m\u001b[0;34m=\u001b[0m\u001b[0maxis\u001b[0m\u001b[0;34m,\u001b[0m \u001b[0mout\u001b[0m\u001b[0;34m=\u001b[0m\u001b[0mout\u001b[0m\u001b[0;34m,\u001b[0m \u001b[0;34m**\u001b[0m\u001b[0mpasskwargs\u001b[0m\u001b[0;34m)\u001b[0m\u001b[0;34m\u001b[0m\u001b[0;34m\u001b[0m\u001b[0m\n\u001b[0m\u001b[1;32m     85\u001b[0m \u001b[0;34m\u001b[0m\u001b[0m\n\u001b[1;32m     86\u001b[0m     \u001b[0;32mreturn\u001b[0m \u001b[0mufunc\u001b[0m\u001b[0;34m.\u001b[0m\u001b[0mreduce\u001b[0m\u001b[0;34m(\u001b[0m\u001b[0mobj\u001b[0m\u001b[0;34m,\u001b[0m \u001b[0maxis\u001b[0m\u001b[0;34m,\u001b[0m \u001b[0mdtype\u001b[0m\u001b[0;34m,\u001b[0m \u001b[0mout\u001b[0m\u001b[0;34m,\u001b[0m \u001b[0;34m**\u001b[0m\u001b[0mpasskwargs\u001b[0m\u001b[0;34m)\u001b[0m\u001b[0;34m\u001b[0m\u001b[0;34m\u001b[0m\u001b[0m\n",
      "\u001b[0;32m/opt/lsst/software/stack/python/miniconda3-4.5.12/envs/lsst-scipipe-4d7b902/lib/python3.7/site-packages/numpy/core/_methods.py\u001b[0m in \u001b[0;36m_any\u001b[0;34m(a, axis, dtype, out, keepdims)\u001b[0m\n\u001b[1;32m     41\u001b[0m \u001b[0;34m\u001b[0m\u001b[0m\n\u001b[1;32m     42\u001b[0m \u001b[0;32mdef\u001b[0m \u001b[0m_any\u001b[0m\u001b[0;34m(\u001b[0m\u001b[0ma\u001b[0m\u001b[0;34m,\u001b[0m \u001b[0maxis\u001b[0m\u001b[0;34m=\u001b[0m\u001b[0;32mNone\u001b[0m\u001b[0;34m,\u001b[0m \u001b[0mdtype\u001b[0m\u001b[0;34m=\u001b[0m\u001b[0;32mNone\u001b[0m\u001b[0;34m,\u001b[0m \u001b[0mout\u001b[0m\u001b[0;34m=\u001b[0m\u001b[0;32mNone\u001b[0m\u001b[0;34m,\u001b[0m \u001b[0mkeepdims\u001b[0m\u001b[0;34m=\u001b[0m\u001b[0;32mFalse\u001b[0m\u001b[0;34m)\u001b[0m\u001b[0;34m:\u001b[0m\u001b[0;34m\u001b[0m\u001b[0;34m\u001b[0m\u001b[0m\n\u001b[0;32m---> 43\u001b[0;31m     \u001b[0;32mreturn\u001b[0m \u001b[0mumr_any\u001b[0m\u001b[0;34m(\u001b[0m\u001b[0ma\u001b[0m\u001b[0;34m,\u001b[0m \u001b[0maxis\u001b[0m\u001b[0;34m,\u001b[0m \u001b[0mdtype\u001b[0m\u001b[0;34m,\u001b[0m \u001b[0mout\u001b[0m\u001b[0;34m,\u001b[0m \u001b[0mkeepdims\u001b[0m\u001b[0;34m)\u001b[0m\u001b[0;34m\u001b[0m\u001b[0;34m\u001b[0m\u001b[0m\n\u001b[0m\u001b[1;32m     44\u001b[0m \u001b[0;34m\u001b[0m\u001b[0m\n\u001b[1;32m     45\u001b[0m \u001b[0;32mdef\u001b[0m \u001b[0m_all\u001b[0m\u001b[0;34m(\u001b[0m\u001b[0ma\u001b[0m\u001b[0;34m,\u001b[0m \u001b[0maxis\u001b[0m\u001b[0;34m=\u001b[0m\u001b[0;32mNone\u001b[0m\u001b[0;34m,\u001b[0m \u001b[0mdtype\u001b[0m\u001b[0;34m=\u001b[0m\u001b[0;32mNone\u001b[0m\u001b[0;34m,\u001b[0m \u001b[0mout\u001b[0m\u001b[0;34m=\u001b[0m\u001b[0;32mNone\u001b[0m\u001b[0;34m,\u001b[0m \u001b[0mkeepdims\u001b[0m\u001b[0;34m=\u001b[0m\u001b[0;32mFalse\u001b[0m\u001b[0;34m)\u001b[0m\u001b[0;34m:\u001b[0m\u001b[0;34m\u001b[0m\u001b[0;34m\u001b[0m\u001b[0m\n",
      "\u001b[0;31mKeyboardInterrupt\u001b[0m: "
     ]
    }
   ],
   "source": [
    "attcs.check.atdome = False\n",
    "await attcs.slew_icrs(ra=\"06 45 08.91728\", dec=\"-16 42 58.0171\", rot_pa=-90., target_name=\"alf CMa\", slew_timeout=240)"
   ]
  },
  {
   "cell_type": "code",
   "execution_count": 42,
   "metadata": {},
   "outputs": [
    {
     "name": "stdout",
     "output_type": "stream",
     "text": [
      "RemoteTelemetry(ATPtg, 0, currentTargetStatus) falling behind; read 69 messages\n",
      "RemoteTelemetry(ATHexapod, 0, positionStatus) falling behind; read 14 messages\n",
      "RemoteEvent(ATHexapod, 0, heartbeat) falling behind; read 14 messages\n",
      "RemoteTelemetry(ATMCS, 0, nasymth_m3_mountMotorEncoders) falling behind; read 14 messages\n",
      "RemoteTelemetry(ATMCS, 0, mount_Nasmyth_Encoders) falling behind; read 14 messages\n",
      "RemoteTelemetry(ATMCS, 0, mount_AzEl_Encoders) falling behind; read 14 messages\n",
      "RemoteEvent(ATPneumatics, 0, m1SetPressure) falling behind; read 10 messages\n",
      "RemoteTelemetry(ATPtg, 0, guidingAndOffsets) falling behind; read 72 messages\n",
      "RemoteTelemetry(ATMCS, 0, measuredTorque) falling behind; read 14 messages\n",
      "RemoteEvent(ATPneumatics, 0, heartbeat) falling behind; read 15 messages\n",
      "RemoteTelemetry(ATMCS, 0, measuredMotorVelocity) falling behind; read 14 messages\n",
      "RemoteTelemetry(ATMCS, 0, azEl_mountMotorEncoders) falling behind; read 14 messages\n"
     ]
    },
    {
     "data": {
      "text/plain": [
       "<lsst.ts.salobj.ddsutil.ATPtg_ackcmd_2d655b72 at 0x7f3e83d782b0>"
      ]
     },
     "execution_count": 42,
     "metadata": {},
     "output_type": "execute_result"
    }
   ],
   "source": [
    "await attcs.atptg.cmd_offsetRADec.set_start(off1=-0.165*60.*60.,\n",
    "                                             off2=0.385*60.*60., \n",
    "                                      num=0)"
   ]
  },
  {
   "cell_type": "code",
   "execution_count": 43,
   "metadata": {},
   "outputs": [
    {
     "name": "stdout",
     "output_type": "stream",
     "text": [
      "RemoteTelemetry(ATDome, 0, position) falling behind; read 62 messages\n",
      "RemoteTelemetry(ATHexapod, 0, positionStatus) falling behind; read 12 messages\n",
      "RemoteEvent(ATHexapod, 0, heartbeat) falling behind; read 12 messages\n",
      "RemoteTelemetry(ATPneumatics, 0, mainAirSourcePressure) falling behind; read 13 messages\n",
      "RemoteTelemetry(ATPneumatics, 0, m2AirPressure) falling behind; read 13 messages\n",
      "RemoteTelemetry(ATPneumatics, 0, m1AirPressure) falling behind; read 13 messages\n",
      "RemoteEvent(ATAOS, 0, heartbeat) falling behind; read 13 messages\n",
      "RemoteTelemetry(ATPneumatics, 0, loadCell) falling behind; read 13 messages\n",
      "RemoteTelemetry(ATMCS, 0, trajectory) falling behind; read 13 messages\n",
      "RemoteTelemetry(ATMCS, 0, torqueDemand) falling behind; read 13 messages\n",
      "RemoteTelemetry(ATMCS, 0, nasymth_m3_mountMotorEncoders) falling behind; read 13 messages\n"
     ]
    },
    {
     "data": {
      "text/plain": [
       "<lsst.ts.salobj.ddsutil.ATPtg_ackcmd_2d655b72 at 0x7f3e8f9f1ac8>"
      ]
     },
     "execution_count": 43,
     "metadata": {},
     "output_type": "execute_result"
    }
   ],
   "source": [
    "await attcs.atptg.cmd_pointNewFile.start()\n",
    "await asyncio.sleep(1.)\n",
    "await attcs.atptg.cmd_pointAddData.start()\n",
    "await asyncio.sleep(1.)\n",
    "await attcs.atptg.cmd_pointCloseFile.start()"
   ]
  },
  {
   "cell_type": "markdown",
   "metadata": {},
   "source": [
    "# alf Car"
   ]
  },
  {
   "cell_type": "code",
   "execution_count": 59,
   "metadata": {},
   "outputs": [
    {
     "name": "stdout",
     "output_type": "stream",
     "text": [
      "RemoteEvent(ATMCS, 0, target) falling behind; read 100 messages\n",
      "RemoteTelemetry(ATPtg, 0, currentTargetStatus) falling behind; read 100 messages\n",
      "RemoteEvent(ATDome, 0, heartbeat) falling behind; read 21 messages\n",
      "RemoteTelemetry(ATPneumatics, 0, loadCell) falling behind; read 21 messages\n",
      "RemoteEvent(ATAOS, 0, heartbeat) falling behind; read 21 messages\n",
      "RemoteTelemetry(ATHexapod, 0, positionStatus) falling behind; read 21 messages\n",
      "RemoteEvent(ATAOS, 0, m1CorrectionStarted) falling behind; read 15 messages\n",
      "RemoteEvent(ATAOS, 0, m1CorrectionCompleted) falling behind; read 15 messages\n",
      "RemoteTelemetry(ATPneumatics, 0, mainAirSourcePressure) falling behind; read 21 messages\n",
      "RemoteEvent(ATHexapod, 0, heartbeat) falling behind; read 21 messages\n",
      "RemoteTelemetry(ATPtg, 0, timeAndDate) falling behind; read 100 messages\n",
      "RemoteTelemetry(ATMCS, 0, trajectory) falling behind; read 21 messages\n",
      "RemoteTelemetry(ATDome, 0, position) falling behind; read 100 messages\n",
      "RemoteEvent(ATAOS, 0, detailedState) falling behind; read 30 messages\n",
      "RemoteTelemetry(ATPneumatics, 0, m2AirPressure) falling behind; read 22 messages\n",
      "RemoteTelemetry(ATMCS, 0, torqueDemand) falling behind; read 21 messages\n",
      "RemoteEvent(ATDome, 0, shutterInPosition) falling behind; read 52 messages\n",
      "RemoteTelemetry(ATPneumatics, 0, m1AirPressure) falling behind; read 22 messages\n",
      "Flushing events\n",
      "Scheduling check coroutines\n",
      "Sending command\n",
      "RemoteTelemetry(ATPtg, 0, mountStatus) falling behind; read 100 messages\n",
      "RemoteTelemetry(ATMCS, 0, nasymth_m3_mountMotorEncoders) falling behind; read 22 messages\n",
      "RemoteEvent(ATDome, 0, mainDoorState) falling behind; read 52 messages\n",
      "RemoteEvent(ATPneumatics, 0, m1SetPressure) falling behind; read 15 messages\n",
      "RemoteTelemetry(ATPtg, 0, guidingAndOffsets) falling behind; read 100 messages\n",
      "RemoteTelemetry(ATMCS, 0, mount_Nasmyth_Encoders) falling behind; read 22 messages\n",
      "RemoteEvent(ATPneumatics, 0, heartbeat) falling behind; read 22 messages\n",
      "RemoteTelemetry(ATMCS, 0, mount_AzEl_Encoders) falling behind; read 22 messages\n",
      "RemoteTelemetry(ATMCS, 0, measuredTorque) falling behind; read 22 messages\n",
      "RemoteEvent(ATPtg, 0, mountDataWarning) falling behind; read 18 messages\n",
      "RemoteTelemetry(ATMCS, 0, measuredMotorVelocity) falling behind; read 22 messages\n",
      "RemoteTelemetry(ATMCS, 0, azEl_mountMotorEncoders) falling behind; read 22 messages\n",
      "RemoteEvent(ATMCS, 0, heartbeat) falling behind; read 22 messages\n",
      "process as completed...\n",
      "[Telescope] delta Alt = -000.000 | delta Az= +000.001 [Dome] delta Az = -000.589\n",
      "Got False\n",
      "Telescope not in position\n",
      "[Telescope] delta Alt = +000.192 | delta Az= +000.305 [Dome] delta Az = -000.047\n",
      "[Telescope] delta Alt = -000.001 | delta Az= +000.006 [Dome] delta Az = -000.034\n",
      "[Telescope] delta Alt = -000.001 | delta Az= +000.005 [Dome] delta Az = -000.022\n",
      "[Telescope] delta Alt = -000.000 | delta Az= +000.005 [Dome] delta Az = -000.009\n",
      "[Telescope] delta Alt = -000.000 | delta Az= +000.005 [Dome] delta Az = +000.004\n",
      "[Telescope] delta Alt = -000.000 | delta Az= +000.005 [Dome] delta Az = +000.017\n",
      "[Telescope] delta Alt = -000.000 | delta Az= +000.005 [Dome] delta Az = +000.030\n",
      "[Telescope] delta Alt = -000.000 | delta Az= +000.005 [Dome] delta Az = +000.042\n",
      "[Telescope] delta Alt = -000.000 | delta Az= +000.005 [Dome] delta Az = +000.055\n",
      "[Telescope] delta Alt = -000.000 | delta Az= +000.005 [Dome] delta Az = +000.067\n",
      "[Telescope] delta Alt = -000.000 | delta Az= +000.005 [Dome] delta Az = +000.080\n",
      "[Telescope] delta Alt = -000.001 | delta Az= +000.011 [Dome] delta Az = +000.093\n",
      "[Telescope] delta Alt = -000.000 | delta Az= +000.005 [Dome] delta Az = +000.100\n",
      "[Telescope] delta Alt = -000.000 | delta Az= +000.005 [Dome] delta Az = +000.112\n",
      "[Telescope] delta Alt = -000.000 | delta Az= +000.005 [Dome] delta Az = +000.125\n",
      "[Telescope] delta Alt = -000.000 | delta Az= +000.005 [Dome] delta Az = +000.138\n",
      "[Telescope] delta Alt = -000.000 | delta Az= +000.005 [Dome] delta Az = +000.151\n",
      "[Telescope] delta Alt = -000.000 | delta Az= +000.005 [Dome] delta Az = +000.163\n",
      "Got True\n",
      "Telescope in position.\n",
      "[None, 'Telescope in position.']\n",
      "Removing callback...\n"
     ]
    }
   ],
   "source": [
    "attcs.check.atdome = False\n",
    "await attcs.slew_icrs(ra=\"06 23 57.10988\", dec=\"-52 41 44.3810\", rot_pa=-90., target_name=\"alf Car\", slew_timeout=240)\n"
   ]
  },
  {
   "cell_type": "code",
   "execution_count": 46,
   "metadata": {},
   "outputs": [
    {
     "name": "stdout",
     "output_type": "stream",
     "text": [
      "RemoteEvent(ATAOS, 0, detailedState) falling behind; read 71 messages\n",
      "RemoteEvent(ATHexapod, 0, heartbeat) falling behind; read 51 messages\n",
      "RemoteTelemetry(ATDome, 0, position) falling behind; read 100 messages\n",
      "RemoteEvent(ATAOS, 0, m1CorrectionStarted) falling behind; read 36 messages\n",
      "RemoteEvent(ATAOS, 0, m1CorrectionCompleted) falling behind; read 36 messages\n",
      "RemoteTelemetry(ATPtg, 0, skyEnvironment) falling behind; read 11 messages\n",
      "RemoteTelemetry(ATHexapod, 0, positionStatus) falling behind; read 51 messages\n",
      "RemoteEvent(ATAOS, 0, heartbeat) falling behind; read 52 messages\n",
      "RemoteTelemetry(ATPneumatics, 0, m2AirPressure) falling behind; read 52 messages\n",
      "RemoteEvent(ATDome, 0, heartbeat) falling behind; read 52 messages\n",
      "RemoteTelemetry(ATPneumatics, 0, m1AirPressure) falling behind; read 52 messages\n",
      "RemoteTelemetry(ATPtg, 0, currentTimesToLimits) falling behind; read 11 messages\n",
      "RemoteEvent(ATPneumatics, 0, heartbeat) falling behind; read 53 messages\n"
     ]
    },
    {
     "data": {
      "text/plain": [
       "<lsst.ts.salobj.ddsutil.ATPtg_ackcmd_2d655b72 at 0x7f3e98831518>"
      ]
     },
     "execution_count": 46,
     "metadata": {},
     "output_type": "execute_result"
    }
   ],
   "source": [
    "await attcs.atptg.cmd_offsetRADec.set_start(off1=0.*60.*60.,\n",
    "                                             off2=0.*60.*60., \n",
    "                                      num=0)"
   ]
  },
  {
   "cell_type": "code",
   "execution_count": 60,
   "metadata": {},
   "outputs": [
    {
     "name": "stdout",
     "output_type": "stream",
     "text": [
      "RemoteEvent(ATMCS, 0, target) falling behind; read 100 messages\n",
      "RemoteTelemetry(ATPtg, 0, currentTargetStatus) falling behind; read 35 messages\n",
      "RemoteTelemetry(ATDome, 0, position) falling behind; read 33 messages\n",
      "RemoteTelemetry(ATPtg, 0, timeAndDate) falling behind; read 35 messages\n",
      "RemoteTelemetry(ATPtg, 0, mountStatus) falling behind; read 35 messages\n",
      "RemoteEvent(ATAOS, 0, detailedState) falling behind; read 10 messages\n",
      "RemoteEvent(ATDome, 0, shutterInPosition) falling behind; read 12 messages\n",
      "RemoteTelemetry(ATPtg, 0, guidingAndOffsets) falling behind; read 36 messages\n",
      "RemoteEvent(ATDome, 0, mainDoorState) falling behind; read 12 messages\n"
     ]
    },
    {
     "data": {
      "text/plain": [
       "<lsst.ts.salobj.ddsutil.ATPtg_ackcmd_2d655b72 at 0x7f3e98579320>"
      ]
     },
     "execution_count": 60,
     "metadata": {},
     "output_type": "execute_result"
    }
   ],
   "source": [
    "await attcs.atptg.cmd_offsetRADec.set_start(off1=0.200*60.*60.,\n",
    "                                             off2=-0.429*60.*60., \n",
    "                                      num=0)"
   ]
  },
  {
   "cell_type": "code",
   "execution_count": 58,
   "metadata": {},
   "outputs": [
    {
     "name": "stdout",
     "output_type": "stream",
     "text": [
      "RemoteTelemetry(ATDome, 0, position) falling behind; read 82 messages\n",
      "RemoteTelemetry(ATHexapod, 0, positionStatus) falling behind; read 17 messages\n",
      "RemoteTelemetry(ATPneumatics, 0, loadCell) falling behind; read 17 messages\n",
      "RemoteEvent(ATHexapod, 0, heartbeat) falling behind; read 17 messages\n",
      "RemoteEvent(ATDome, 0, shutterInPosition) falling behind; read 41 messages\n",
      "RemoteEvent(ATDome, 0, mainDoorState) falling behind; read 41 messages\n",
      "RemoteEvent(ATAOS, 0, m1CorrectionCompleted) falling behind; read 12 messages\n",
      "RemoteEvent(ATDome, 0, heartbeat) falling behind; read 17 messages\n",
      "RemoteTelemetry(ATPneumatics, 0, m1AirPressure) falling behind; read 18 messages\n",
      "RemoteEvent(ATPneumatics, 0, heartbeat) falling behind; read 18 messages\n",
      "RemoteTelemetry(ATPtg, 0, currentTargetStatus) falling behind; read 88 messages\n"
     ]
    },
    {
     "data": {
      "text/plain": [
       "<lsst.ts.salobj.ddsutil.ATPtg_ackcmd_2d655b72 at 0x7f3e7266db38>"
      ]
     },
     "execution_count": 58,
     "metadata": {},
     "output_type": "execute_result"
    }
   ],
   "source": [
    "await attcs.atptg.cmd_pointNewFile.start()\n",
    "await asyncio.sleep(1.)\n",
    "await attcs.atptg.cmd_pointAddData.start()\n",
    "await asyncio.sleep(1.)\n",
    "await attcs.atptg.cmd_pointCloseFile.start()"
   ]
  },
  {
   "cell_type": "code",
   "execution_count": 73,
   "metadata": {},
   "outputs": [
    {
     "name": "stdout",
     "output_type": "stream",
     "text": [
      "RemoteTelemetry(ATPtg, 0, timeAndDate) falling behind; read 98 messages\n",
      "RemoteTelemetry(ATHexapod, 0, positionStatus) falling behind; read 20 messages\n",
      "RemoteEvent(ATMCS, 0, target) falling behind; read 100 messages\n",
      "RemoteTelemetry(ATDome, 0, position) falling behind; read 97 messages\n",
      "RemoteEvent(ATAOS, 0, detailedState) falling behind; read 28 messages\n",
      "RemoteEvent(ATPneumatics, 0, m1SetPressure) falling behind; read 14 messages\n",
      "Flushing events\n",
      "Scheduling check coroutines\n",
      "Sending command\n",
      "RemoteEvent(ATAOS, 0, m1CorrectionStarted) falling behind; read 14 messages\n",
      "RemoteTelemetry(ATPneumatics, 0, mainAirSourcePressure) falling behind; read 20 messages\n",
      "RemoteEvent(ATHexapod, 0, heartbeat) falling behind; read 20 messages\n",
      "RemoteTelemetry(ATMCS, 0, trajectory) falling behind; read 21 messages\n",
      "RemoteEvent(ATAOS, 0, m1CorrectionCompleted) falling behind; read 14 messages\n",
      "RemoteTelemetry(ATPneumatics, 0, m2AirPressure) falling behind; read 20 messages\n",
      "RemoteEvent(ATDome, 0, shutterInPosition) falling behind; read 47 messages\n",
      "RemoteTelemetry(ATMCS, 0, torqueDemand) falling behind; read 21 messages\n",
      "RemoteEvent(ATAOS, 0, heartbeat) falling behind; read 20 messages\n",
      "RemoteTelemetry(ATPtg, 0, mountStatus) falling behind; read 100 messages\n",
      "RemoteTelemetry(ATPneumatics, 0, m1AirPressure) falling behind; read 20 messages\n",
      "RemoteEvent(ATDome, 0, mainDoorState) falling behind; read 48 messages\n",
      "RemoteTelemetry(ATMCS, 0, nasymth_m3_mountMotorEncoders) falling behind; read 21 messages\n",
      "RemoteTelemetry(ATPtg, 0, guidingAndOffsets) falling behind; read 100 messages\n",
      "RemoteTelemetry(ATPneumatics, 0, loadCell) falling behind; read 20 messages\n",
      "RemoteEvent(ATDome, 0, heartbeat) falling behind; read 21 messages\n",
      "RemoteTelemetry(ATMCS, 0, mount_Nasmyth_Encoders) falling behind; read 21 messages\n",
      "RemoteEvent(ATPneumatics, 0, heartbeat) falling behind; read 20 messages\n",
      "RemoteTelemetry(ATMCS, 0, mount_AzEl_Encoders) falling behind; read 21 messages\n",
      "RemoteTelemetry(ATPtg, 0, currentTargetStatus) falling behind; read 100 messages\n",
      "RemoteTelemetry(ATMCS, 0, measuredTorque) falling behind; read 21 messages\n",
      "RemoteTelemetry(ATMCS, 0, measuredMotorVelocity) falling behind; read 21 messages\n",
      "RemoteEvent(ATPtg, 0, mountDataWarning) falling behind; read 18 messages\n",
      "RemoteTelemetry(ATMCS, 0, azEl_mountMotorEncoders) falling behind; read 21 messages\n",
      "RemoteEvent(ATMCS, 0, heartbeat) falling behind; read 21 messages\n",
      "process as completed...\n",
      "[Telescope] delta Alt = -000.000 | delta Az= +000.003 [Dome] delta Az = +001.058\n",
      "Got False\n",
      "Telescope not in position\n",
      "[Telescope] delta Alt = +000.162 | delta Az= +000.265 [Dome] delta Az = +001.598\n",
      "[Telescope] delta Alt = -000.001 | delta Az= +000.006 [Dome] delta Az = +001.610\n",
      "[Telescope] delta Alt = -000.001 | delta Az= +000.005 [Dome] delta Az = +001.623\n",
      "[Telescope] delta Alt = -000.001 | delta Az= +000.005 [Dome] delta Az = +001.635\n",
      "[Telescope] delta Alt = -000.001 | delta Az= +000.005 [Dome] delta Az = +001.648\n",
      "[Telescope] delta Alt = -000.001 | delta Az= +000.005 [Dome] delta Az = +001.660\n",
      "[Telescope] delta Alt = -000.001 | delta Az= +000.005 [Dome] delta Az = +001.673\n",
      "[Telescope] delta Alt = -000.001 | delta Az= +000.005 [Dome] delta Az = +001.685\n",
      "[Telescope] delta Alt = -000.001 | delta Az= +000.005 [Dome] delta Az = +001.698\n",
      "[Telescope] delta Alt = -000.001 | delta Az= +000.005 [Dome] delta Az = +001.710\n",
      "[Telescope] delta Alt = -000.001 | delta Az= +000.005 [Dome] delta Az = +001.723\n",
      "[Telescope] delta Alt = -000.001 | delta Az= +000.005 [Dome] delta Az = +001.736\n",
      "[Telescope] delta Alt = -000.001 | delta Az= +000.005 [Dome] delta Az = +001.748\n",
      "[Telescope] delta Alt = -000.001 | delta Az= +000.005 [Dome] delta Az = +001.761\n",
      "[Telescope] delta Alt = -000.001 | delta Az= +000.005 [Dome] delta Az = +001.773\n",
      "[Telescope] delta Alt = -000.001 | delta Az= +000.005 [Dome] delta Az = +001.785\n",
      "[Telescope] delta Alt = -000.000 | delta Az= +000.005 [Dome] delta Az = +001.798\n",
      "[Telescope] delta Alt = -000.001 | delta Az= +000.005 [Dome] delta Az = +001.811\n",
      "[Telescope] delta Alt = -000.001 | delta Az= +000.005 [Dome] delta Az = +001.823\n",
      "[Telescope] delta Alt = -000.001 | delta Az= +000.005 [Dome] delta Az = +001.835\n",
      "[Telescope] delta Alt = -000.001 | delta Az= +000.005 [Dome] delta Az = +001.848\n",
      "[Telescope] delta Alt = -000.001 | delta Az= +000.005 [Dome] delta Az = +001.861\n",
      "[Telescope] delta Alt = -000.001 | delta Az= +000.005 [Dome] delta Az = +001.873\n",
      "[Telescope] delta Alt = -000.001 | delta Az= +000.005 [Dome] delta Az = +001.885\n",
      "[Telescope] delta Alt = -000.001 | delta Az= +000.005 [Dome] delta Az = +001.898\n",
      "[Telescope] delta Alt = -000.001 | delta Az= +000.005 [Dome] delta Az = +001.910\n",
      "[Telescope] delta Alt = -000.001 | delta Az= +000.005 [Dome] delta Az = +001.923\n",
      "[Telescope] delta Alt = -000.001 | delta Az= +000.005 [Dome] delta Az = +001.936\n",
      "Got True\n",
      "Telescope in position.\n",
      "[None, 'Telescope in position.']\n",
      "Removing callback...\n"
     ]
    }
   ],
   "source": [
    "attcs.check.atdome = False\n",
    "await attcs.slew_icrs(ra=\"06 23 57.10988\", dec=\"-52 41 44.3810\", rot_pa=-45., target_name=\"alf Car\", slew_timeout=240)"
   ]
  },
  {
   "cell_type": "code",
   "execution_count": 71,
   "metadata": {},
   "outputs": [
    {
     "name": "stdout",
     "output_type": "stream",
     "text": [
      "RemoteTelemetry(ATHexapod, 0, positionStatus) falling behind; read 11 messages\n",
      "RemoteTelemetry(ATDome, 0, position) falling behind; read 50 messages\n",
      "RemoteTelemetry(ATPneumatics, 0, loadCell) falling behind; read 11 messages\n",
      "RemoteTelemetry(ATPtg, 0, timeAndDate) falling behind; read 51 messages\n",
      "RemoteEvent(ATHexapod, 0, heartbeat) falling behind; read 11 messages\n",
      "RemoteTelemetry(ATPneumatics, 0, mainAirSourcePressure) falling behind; read 11 messages\n",
      "RemoteEvent(ATDome, 0, shutterInPosition) falling behind; read 24 messages\n",
      "RemoteTelemetry(ATPneumatics, 0, m2AirPressure) falling behind; read 11 messages\n",
      "RemoteTelemetry(ATPtg, 0, guidingAndOffsets) falling behind; read 52 messages\n",
      "RemoteEvent(ATAOS, 0, heartbeat) falling behind; read 10 messages\n",
      "RemoteEvent(ATDome, 0, mainDoorState) falling behind; read 24 messages\n"
     ]
    },
    {
     "data": {
      "text/plain": [
       "<lsst.ts.salobj.ddsutil.ATPtg_ackcmd_2d655b72 at 0x7f3e83ef2320>"
      ]
     },
     "execution_count": 71,
     "metadata": {},
     "output_type": "execute_result"
    }
   ],
   "source": [
    "await attcs.atptg.cmd_offsetRADec.set_start(off1=0.172*60.*60.,\n",
    "                                             off2=-0.435*60.*60., \n",
    "                                      num=0)"
   ]
  },
  {
   "cell_type": "code",
   "execution_count": 72,
   "metadata": {},
   "outputs": [
    {
     "name": "stdout",
     "output_type": "stream",
     "text": [
      "RemoteTelemetry(ATDome, 0, position) falling behind; read 61 messages\n",
      "RemoteEvent(ATMCS, 0, target) falling behind; read 100 messages\n",
      "RemoteTelemetry(ATMCS, 0, trajectory) falling behind; read 13 messages\n",
      "RemoteEvent(ATAOS, 0, heartbeat) falling behind; read 12 messages\n",
      "RemoteEvent(ATAOS, 0, detailedState) falling behind; read 18 messages\n"
     ]
    },
    {
     "data": {
      "text/plain": [
       "<lsst.ts.salobj.ddsutil.ATPtg_ackcmd_2d655b72 at 0x7f3e81154048>"
      ]
     },
     "execution_count": 72,
     "metadata": {},
     "output_type": "execute_result"
    }
   ],
   "source": [
    "await attcs.atptg.cmd_pointNewFile.start()\n",
    "await asyncio.sleep(1.)\n",
    "await attcs.atptg.cmd_pointAddData.start()\n",
    "await asyncio.sleep(1.)\n",
    "await attcs.atptg.cmd_pointCloseFile.start()"
   ]
  },
  {
   "cell_type": "code",
   "execution_count": null,
   "metadata": {},
   "outputs": [],
   "source": [
    "attcs.check.atdome = False\n",
    "await attcs.slew_icrs(ra=\"06 23 57.10988\", dec=\"-52 41 44.3810\", rot_pa=45., target_name=\"alf Car\", slew_timeout=240)"
   ]
  },
  {
   "cell_type": "code",
   "execution_count": 83,
   "metadata": {},
   "outputs": [
    {
     "data": {
      "text/plain": [
       "<lsst.ts.salobj.ddsutil.ATPtg_ackcmd_2d655b72 at 0x7f3e8114ca90>"
      ]
     },
     "execution_count": 83,
     "metadata": {},
     "output_type": "execute_result"
    }
   ],
   "source": [
    "await attcs.atptg.cmd_offsetRADec.set_start(off1=0.150*60.*60.,\n",
    "                                             off2=-0.438*60.*60., \n",
    "                                      num=0)"
   ]
  },
  {
   "cell_type": "code",
   "execution_count": 84,
   "metadata": {},
   "outputs": [
    {
     "name": "stdout",
     "output_type": "stream",
     "text": [
      "RemoteEvent(ATAOS, 0, heartbeat) falling behind; read 19 messages\n",
      "RemoteTelemetry(ATDome, 0, position) falling behind; read 93 messages\n",
      "RemoteEvent(ATHexapod, 0, heartbeat) falling behind; read 19 messages\n",
      "RemoteEvent(ATAOS, 0, m1CorrectionStarted) falling behind; read 13 messages\n",
      "RemoteTelemetry(ATHexapod, 0, positionStatus) falling behind; read 19 messages\n",
      "RemoteEvent(ATAOS, 0, m1CorrectionCompleted) falling behind; read 14 messages\n",
      "RemoteTelemetry(ATMCS, 0, trajectory) falling behind; read 19 messages\n",
      "RemoteTelemetry(ATPneumatics, 0, mainAirSourcePressure) falling behind; read 20 messages\n",
      "RemoteEvent(ATDome, 0, shutterInPosition) falling behind; read 36 messages\n",
      "RemoteTelemetry(ATMCS, 0, torqueDemand) falling behind; read 20 messages\n",
      "RemoteEvent(ATAOS, 0, detailedState) falling behind; read 27 messages\n",
      "RemoteTelemetry(ATPtg, 0, guidingAndOffsets) falling behind; read 97 messages\n",
      "RemoteTelemetry(ATPneumatics, 0, m1AirPressure) falling behind; read 20 messages\n",
      "RemoteEvent(ATDome, 0, heartbeat) falling behind; read 19 messages\n",
      "RemoteTelemetry(ATPtg, 0, currentTargetStatus) falling behind; read 99 messages\n"
     ]
    },
    {
     "data": {
      "text/plain": [
       "<lsst.ts.salobj.ddsutil.ATPtg_ackcmd_2d655b72 at 0x7f3e8fbe1f98>"
      ]
     },
     "execution_count": 84,
     "metadata": {},
     "output_type": "execute_result"
    }
   ],
   "source": []
  },
  {
   "cell_type": "code",
   "execution_count": 93,
   "metadata": {},
   "outputs": [
    {
     "name": "stdout",
     "output_type": "stream",
     "text": [
      "RemoteTelemetry(ATPneumatics, 0, mainAirSourcePressure) falling behind; read 13 messages\n",
      "RemoteTelemetry(ATPtg, 0, timeAndDate) falling behind; read 69 messages\n",
      "RemoteTelemetry(ATPneumatics, 0, m2AirPressure) falling behind; read 13 messages\n",
      "RemoteEvent(ATHexapod, 0, heartbeat) falling behind; read 14 messages\n",
      "RemoteTelemetry(ATPneumatics, 0, m1AirPressure) falling behind; read 13 messages\n",
      "RemoteEvent(ATAOS, 0, m1CorrectionStarted) falling behind; read 10 messages\n",
      "RemoteTelemetry(ATPtg, 0, mountStatus) falling behind; read 69 messages\n",
      "RemoteTelemetry(ATPneumatics, 0, loadCell) falling behind; read 14 messages\n",
      "RemoteEvent(ATPneumatics, 0, heartbeat) falling behind; read 14 messages\n",
      "RemoteTelemetry(ATPtg, 0, currentTargetStatus) falling behind; read 72 messages\n",
      "RemoteEvent(ATMCS, 0, target) falling behind; read 100 messages\n"
     ]
    },
    {
     "data": {
      "text/plain": [
       "<lsst.ts.salobj.ddsutil.ATPtg_ackcmd_2d655b72 at 0x7f3e83f3e400>"
      ]
     },
     "execution_count": 93,
     "metadata": {},
     "output_type": "execute_result"
    }
   ],
   "source": [
    "await attcs.atptg.cmd_offsetRADec.set_start(off1=0.125*60.*60.,\n",
    "                                             off2=-0.442*60.*60., \n",
    "                                      num=0)"
   ]
  },
  {
   "cell_type": "code",
   "execution_count": 94,
   "metadata": {},
   "outputs": [
    {
     "name": "stdout",
     "output_type": "stream",
     "text": [
      "RemoteTelemetry(ATPtg, 0, currentTargetStatus) falling behind; read 88 messages\n",
      "RemoteTelemetry(ATDome, 0, position) falling behind; read 86 messages\n",
      "RemoteEvent(ATAOS, 0, detailedState) falling behind; read 26 messages\n",
      "RemoteTelemetry(ATPtg, 0, timeAndDate) falling behind; read 89 messages\n",
      "RemoteTelemetry(ATHexapod, 0, positionStatus) falling behind; read 18 messages\n",
      "RemoteTelemetry(ATPneumatics, 0, mainAirSourcePressure) falling behind; read 18 messages\n",
      "RemoteTelemetry(ATMCS, 0, trajectory) falling behind; read 18 messages\n",
      "RemoteTelemetry(ATPneumatics, 0, m2AirPressure) falling behind; read 19 messages\n",
      "RemoteEvent(ATAOS, 0, m1CorrectionCompleted) falling behind; read 13 messages\n",
      "RemoteTelemetry(ATMCS, 0, torqueDemand) falling behind; read 18 messages\n",
      "RemoteEvent(ATDome, 0, heartbeat) falling behind; read 18 messages\n",
      "RemoteTelemetry(ATPneumatics, 0, m1AirPressure) falling behind; read 19 messages\n",
      "RemoteEvent(ATAOS, 0, heartbeat) falling behind; read 18 messages\n",
      "RemoteTelemetry(ATMCS, 0, nasymth_m3_mountMotorEncoders) falling behind; read 18 messages\n",
      "RemoteEvent(ATPneumatics, 0, m1SetPressure) falling behind; read 13 messages\n"
     ]
    },
    {
     "data": {
      "text/plain": [
       "<lsst.ts.salobj.ddsutil.ATPtg_ackcmd_2d655b72 at 0x7f3e98467cc0>"
      ]
     },
     "execution_count": 94,
     "metadata": {},
     "output_type": "execute_result"
    }
   ],
   "source": [
    "await attcs.atptg.cmd_pointNewFile.start()\n",
    "await asyncio.sleep(1.)\n",
    "await attcs.atptg.cmd_pointAddData.start()\n",
    "await asyncio.sleep(1.)\n",
    "await attcs.atptg.cmd_pointCloseFile.start()"
   ]
  },
  {
   "cell_type": "markdown",
   "metadata": {},
   "source": [
    "# bet Car"
   ]
  },
  {
   "cell_type": "code",
   "execution_count": null,
   "metadata": {},
   "outputs": [
    {
     "name": "stdout",
     "output_type": "stream",
     "text": [
      "RemoteEvent(ATMCS, 0, target) falling behind; read 79 messages\n",
      "RemoteTelemetry(ATPtg, 0, timeAndDate) falling behind; read 21 messages\n",
      "RemoteTelemetry(ATDome, 0, position) falling behind; read 20 messages\n",
      "Flushing events\n",
      "Scheduling check coroutines\n",
      "Sending command\n",
      "Got False\n",
      "ATDome not in position\n",
      "Got True\n",
      "ATDome in position.\n",
      "RemoteTelemetry(ATPtg, 0, mountStatus) falling behind; read 21 messages\n",
      "RemoteTelemetry(ATPtg, 0, guidingAndOffsets) falling behind; read 22 messages\n",
      "RemoteTelemetry(ATPtg, 0, currentTargetStatus) falling behind; read 22 messages\n",
      "process as completed...\n",
      "[Telescope] delta Alt = -000.001 | delta Az= +000.007 [Dome] delta Az = +003.980\n",
      "Got False\n",
      "Telescope not in position\n",
      "[Telescope] delta Alt = -020.129 | delta Az= -028.654 [Dome] delta Az = -024.451\n",
      "[Telescope] delta Alt = -019.662 | delta Az= -028.410 [Dome] delta Az = -023.308\n",
      "[Telescope] delta Alt = -018.059 | delta Az= -027.498 [Dome] delta Az = -021.235\n",
      "[Telescope] delta Alt = -015.225 | delta Az= -025.708 [Dome] delta Az = -018.222\n",
      "[Telescope] delta Alt = -011.522 | delta Az= -023.037 [Dome] delta Az = -014.309\n",
      "[Telescope] delta Alt = -007.563 | delta Az= -019.643 [Dome] delta Az = -009.956\n",
      "[Telescope] delta Alt = -004.039 | delta Az= -015.789 [Dome] delta Az = -004.263\n",
      "[Telescope] delta Alt = -001.521 | delta Az= -011.809 [Dome] delta Az = +000.080\n",
      "[Telescope] delta Alt = -000.248 | delta Az= -008.049 [Dome] delta Az = +001.273\n",
      "[Telescope] delta Alt = +000.001 | delta Az= -004.826 [Dome] delta Az = +001.276\n",
      "[Telescope] delta Alt = +000.002 | delta Az= -002.384 [Dome] delta Az = +001.279\n",
      "[Telescope] delta Alt = +000.001 | delta Az= -000.837 [Dome] delta Az = +001.282\n"
     ]
    }
   ],
   "source": [
    "attcs.check.atdome = True\n",
    "await attcs.slew_icrs(ra=\"09 13 11.97746\", dec=\"-69 43 01.9473\", rot_pa=0., target_name=\"bet Car\", slew_timeout=240)"
   ]
  },
  {
   "cell_type": "code",
   "execution_count": 151,
   "metadata": {},
   "outputs": [
    {
     "name": "stdout",
     "output_type": "stream",
     "text": [
      "RemoteTelemetry(ATPtg, 0, currentTargetStatus) falling behind; read 33 messages\n",
      "RemoteEvent(ATDome, 0, shutterInPosition) falling behind; read 12 messages\n",
      "RemoteTelemetry(ATPtg, 0, timeAndDate) falling behind; read 33 messages\n",
      "RemoteEvent(ATDome, 0, mainDoorState) falling behind; read 12 messages\n",
      "RemoteTelemetry(ATPtg, 0, guidingAndOffsets) falling behind; read 34 messages\n",
      "RemoteEvent(ATMCS, 0, target) falling behind; read 100 messages\n"
     ]
    },
    {
     "data": {
      "text/plain": [
       "<lsst.ts.salobj.ddsutil.ATPtg_ackcmd_2d655b72 at 0x7f3e8b705f60>"
      ]
     },
     "execution_count": 151,
     "metadata": {},
     "output_type": "execute_result"
    }
   ],
   "source": [
    "await attcs.atptg.cmd_offsetRADec.set_start(off1=1.6*60.*60.,\n",
    "                                            off2=-0.03*60.*60., \n",
    "                                            num=0)"
   ]
  },
  {
   "cell_type": "code",
   "execution_count": 152,
   "metadata": {},
   "outputs": [
    {
     "name": "stdout",
     "output_type": "stream",
     "text": [
      "RemoteTelemetry(ATDome, 0, position) falling behind; read 100 messages\n",
      "RemoteTelemetry(ATHexapod, 0, positionStatus) falling behind; read 24 messages\n",
      "RemoteTelemetry(ATPneumatics, 0, loadCell) falling behind; read 25 messages\n",
      "RemoteEvent(ATAOS, 0, m1CorrectionStarted) falling behind; read 17 messages\n",
      "RemoteEvent(ATHexapod, 0, heartbeat) falling behind; read 24 messages\n",
      "RemoteTelemetry(ATMCS, 0, trajectory) falling behind; read 25 messages\n",
      "RemoteTelemetry(ATPneumatics, 0, mainAirSourcePressure) falling behind; read 25 messages\n",
      "RemoteTelemetry(ATPtg, 0, mountStatus) falling behind; read 100 messages\n",
      "RemoteEvent(ATDome, 0, shutterInPosition) falling behind; read 61 messages\n",
      "RemoteEvent(ATAOS, 0, m1CorrectionCompleted) falling behind; read 17 messages\n",
      "RemoteTelemetry(ATMCS, 0, torqueDemand) falling behind; read 25 messages\n",
      "RemoteTelemetry(ATPneumatics, 0, m2AirPressure) falling behind; read 25 messages\n",
      "RemoteTelemetry(ATPtg, 0, guidingAndOffsets) falling behind; read 100 messages\n",
      "RemoteEvent(ATDome, 0, mainDoorState) falling behind; read 62 messages\n",
      "RemoteEvent(ATAOS, 0, heartbeat) falling behind; read 25 messages\n",
      "RemoteTelemetry(ATMCS, 0, nasymth_m3_mountMotorEncoders) falling behind; read 25 messages\n",
      "RemoteEvent(ATDome, 0, heartbeat) falling behind; read 25 messages\n",
      "RemoteEvent(ATPneumatics, 0, m1SetPressure) falling behind; read 17 messages\n",
      "RemoteTelemetry(ATMCS, 0, measuredMotorVelocity) falling behind; read 26 messages\n",
      "RemoteTelemetry(ATMCS, 0, azEl_mountMotorEncoders) falling behind; read 26 messages\n"
     ]
    },
    {
     "data": {
      "text/plain": [
       "<lsst.ts.salobj.ddsutil.ATPtg_ackcmd_2d655b72 at 0x7f3e7c6c1b00>"
      ]
     },
     "execution_count": 152,
     "metadata": {},
     "output_type": "execute_result"
    }
   ],
   "source": [
    "await attcs.atptg.cmd_pointNewFile.start()\n",
    "await asyncio.sleep(1.)\n",
    "await attcs.atptg.cmd_pointAddData.start()\n",
    "await asyncio.sleep(1.)\n",
    "await attcs.atptg.cmd_pointCloseFile.start()"
   ]
  },
  {
   "cell_type": "code",
   "execution_count": 153,
   "metadata": {},
   "outputs": [
    {
     "name": "stdout",
     "output_type": "stream",
     "text": [
      "RemoteEvent(ATMCS, 0, target) falling behind; read 100 messages\n",
      "RemoteEvent(ATDome, 0, heartbeat) falling behind; read 21 messages\n",
      "RemoteEvent(ATAOS, 0, detailedState) falling behind; read 29 messages\n",
      "RemoteTelemetry(ATPtg, 0, timeAndDate) falling behind; read 100 messages\n",
      "RemoteTelemetry(ATPneumatics, 0, loadCell) falling behind; read 21 messages\n",
      "RemoteEvent(ATHexapod, 0, heartbeat) falling behind; read 20 messages\n",
      "Flushing events\n",
      "Scheduling check coroutines\n",
      "Sending command\n",
      "RemoteTelemetry(ATDome, 0, position) falling behind; read 100 messages\n",
      "RemoteEvent(ATAOS, 0, m1CorrectionStarted) falling behind; read 15 messages\n",
      "RemoteTelemetry(ATPneumatics, 0, mainAirSourcePressure) falling behind; read 21 messages\n",
      "RemoteTelemetry(ATHexapod, 0, positionStatus) falling behind; read 20 messages\n",
      "RemoteTelemetry(ATMCS, 0, trajectory) falling behind; read 21 messages\n",
      "RemoteEvent(ATDome, 0, shutterInPosition) falling behind; read 34 messages\n",
      "RemoteEvent(ATAOS, 0, m1CorrectionCompleted) falling behind; read 15 messages\n",
      "RemoteTelemetry(ATPneumatics, 0, m2AirPressure) falling behind; read 21 messages\n",
      "RemoteTelemetry(ATMCS, 0, torqueDemand) falling behind; read 21 messages\n",
      "RemoteEvent(ATDome, 0, mainDoorState) falling behind; read 34 messages\n",
      "RemoteTelemetry(ATPtg, 0, mountStatus) falling behind; read 100 messages\n",
      "RemoteEvent(ATAOS, 0, heartbeat) falling behind; read 21 messages\n",
      "RemoteTelemetry(ATPneumatics, 0, m1AirPressure) falling behind; read 21 messages\n",
      "RemoteTelemetry(ATMCS, 0, nasymth_m3_mountMotorEncoders) falling behind; read 21 messages\n",
      "RemoteTelemetry(ATPtg, 0, guidingAndOffsets) falling behind; read 100 messages\n",
      "RemoteEvent(ATPneumatics, 0, m1SetPressure) falling behind; read 15 messages\n",
      "RemoteTelemetry(ATMCS, 0, mount_Nasmyth_Encoders) falling behind; read 21 messages\n",
      "RemoteEvent(ATPneumatics, 0, heartbeat) falling behind; read 21 messages\n",
      "RemoteTelemetry(ATMCS, 0, mount_AzEl_Encoders) falling behind; read 21 messages\n",
      "RemoteTelemetry(ATPtg, 0, currentTargetStatus) falling behind; read 100 messages\n",
      "RemoteTelemetry(ATMCS, 0, measuredTorque) falling behind; read 21 messages\n",
      "RemoteTelemetry(ATMCS, 0, measuredMotorVelocity) falling behind; read 21 messages\n",
      "RemoteEvent(ATPtg, 0, mountDataWarning) falling behind; read 12 messages\n",
      "RemoteTelemetry(ATMCS, 0, azEl_mountMotorEncoders) falling behind; read 21 messages\n",
      "RemoteEvent(ATMCS, 0, heartbeat) falling behind; read 22 messages\n",
      "[Telescope] delta Alt = +000.000 | delta Az= +000.001 [Dome] delta Az = +002.384\n",
      "process as completed...\n",
      "Got False\n",
      "Telescope not in position\n",
      "[Telescope] delta Alt = +000.147 | delta Az= +000.317 [Dome] delta Az = +002.988\n",
      "[Telescope] delta Alt = +000.001 | delta Az= +000.002 [Dome] delta Az = +002.991\n",
      "[Telescope] delta Alt = +000.001 | delta Az= +000.001 [Dome] delta Az = +002.994\n",
      "[Telescope] delta Alt = +000.001 | delta Az= +000.001 [Dome] delta Az = +002.997\n",
      "[Telescope] delta Alt = +000.001 | delta Az= +000.001 [Dome] delta Az = +003.001\n",
      "[Telescope] delta Alt = +000.001 | delta Az= +000.001 [Dome] delta Az = +003.004\n",
      "[Telescope] delta Alt = +000.001 | delta Az= +000.001 [Dome] delta Az = +003.008\n",
      "[Telescope] delta Alt = +000.001 | delta Az= +000.001 [Dome] delta Az = +003.011\n",
      "[Telescope] delta Alt = +000.001 | delta Az= +000.001 [Dome] delta Az = +003.014\n",
      "[Telescope] delta Alt = +000.001 | delta Az= +000.001 [Dome] delta Az = +003.017\n",
      "[Telescope] delta Alt = +000.001 | delta Az= +000.001 [Dome] delta Az = +003.021\n",
      "[Telescope] delta Alt = +000.002 | delta Az= +000.003 [Dome] delta Az = +003.024\n",
      "[Telescope] delta Alt = +000.001 | delta Az= +000.001 [Dome] delta Az = +003.026\n",
      "[Telescope] delta Alt = +000.001 | delta Az= +000.001 [Dome] delta Az = +003.029\n",
      "[Telescope] delta Alt = +000.001 | delta Az= +000.001 [Dome] delta Az = +003.033\n",
      "[Telescope] delta Alt = +000.001 | delta Az= +000.001 [Dome] delta Az = +003.036\n",
      "[Telescope] delta Alt = +000.001 | delta Az= +000.001 [Dome] delta Az = +003.039\n",
      "[Telescope] delta Alt = +000.001 | delta Az= +000.001 [Dome] delta Az = +003.043\n",
      "Got True\n",
      "Telescope in position.\n",
      "[None, 'Telescope in position.']\n",
      "Removing callback...\n"
     ]
    }
   ],
   "source": [
    "attcs.check.atdome = False\n",
    "await attcs.slew_icrs(ra=\"09 13 11.97746\", dec=\"-69 43 01.9473\", rot_pa=-45., target_name=\"bet Car\", slew_timeout=240)"
   ]
  },
  {
   "cell_type": "code",
   "execution_count": 164,
   "metadata": {},
   "outputs": [
    {
     "name": "stdout",
     "output_type": "stream",
     "text": [
      "RemoteTelemetry(ATDome, 0, position) falling behind; read 36 messages\n",
      "RemoteTelemetry(ATPtg, 0, mountStatus) falling behind; read 38 messages\n",
      "RemoteTelemetry(ATPtg, 0, guidingAndOffsets) falling behind; read 39 messages\n"
     ]
    },
    {
     "data": {
      "text/plain": [
       "<lsst.ts.salobj.ddsutil.ATPtg_ackcmd_2d655b72 at 0x7f3e98416438>"
      ]
     },
     "execution_count": 164,
     "metadata": {},
     "output_type": "execute_result"
    }
   ],
   "source": [
    "await attcs.atptg.cmd_offsetRADec.set_start(off1=1.60*60.*60.,\n",
    "                                            off2=-0.044*60.*60., \n",
    "                                            num=0)"
   ]
  },
  {
   "cell_type": "code",
   "execution_count": 165,
   "metadata": {},
   "outputs": [
    {
     "name": "stdout",
     "output_type": "stream",
     "text": [
      "RemoteEvent(ATAOS, 0, m1CorrectionCompleted) falling behind; read 11 messages\n",
      "RemoteTelemetry(ATDome, 0, position) falling behind; read 73 messages\n",
      "RemoteEvent(ATHexapod, 0, heartbeat) falling behind; read 15 messages\n",
      "RemoteTelemetry(ATPneumatics, 0, loadCell) falling behind; read 15 messages\n",
      "RemoteTelemetry(ATMCS, 0, trajectory) falling behind; read 15 messages\n",
      "RemoteTelemetry(ATMCS, 0, torqueDemand) falling behind; read 15 messages\n",
      "RemoteTelemetry(ATPtg, 0, timeAndDate) falling behind; read 75 messages\n",
      "RemoteEvent(ATDome, 0, shutterInPosition) falling behind; read 27 messages\n",
      "RemoteTelemetry(ATHexapod, 0, positionStatus) falling behind; read 15 messages\n",
      "RemoteEvent(ATAOS, 0, m1CorrectionStarted) falling behind; read 10 messages\n",
      "RemoteTelemetry(ATPneumatics, 0, mainAirSourcePressure) falling behind; read 15 messages\n",
      "RemoteTelemetry(ATMCS, 0, nasymth_m3_mountMotorEncoders) falling behind; read 15 messages\n",
      "RemoteEvent(ATDome, 0, mainDoorState) falling behind; read 27 messages\n",
      "RemoteEvent(ATAOS, 0, heartbeat) falling behind; read 15 messages\n",
      "RemoteTelemetry(ATPneumatics, 0, m2AirPressure) falling behind; read 15 messages\n",
      "RemoteTelemetry(ATMCS, 0, mount_Nasmyth_Encoders) falling behind; read 15 messages\n",
      "RemoteEvent(ATDome, 0, heartbeat) falling behind; read 15 messages\n",
      "RemoteTelemetry(ATPneumatics, 0, m1AirPressure) falling behind; read 15 messages\n",
      "RemoteTelemetry(ATMCS, 0, mount_AzEl_Encoders) falling behind; read 15 messages\n",
      "RemoteTelemetry(ATPtg, 0, guidingAndOffsets) falling behind; read 78 messages\n",
      "RemoteEvent(ATPneumatics, 0, m1SetPressure) falling behind; read 10 messages\n",
      "RemoteTelemetry(ATMCS, 0, measuredTorque) falling behind; read 15 messages\n",
      "RemoteEvent(ATPneumatics, 0, heartbeat) falling behind; read 16 messages\n",
      "RemoteTelemetry(ATMCS, 0, measuredMotorVelocity) falling behind; read 15 messages\n",
      "RemoteTelemetry(ATMCS, 0, azEl_mountMotorEncoders) falling behind; read 15 messages\n",
      "RemoteEvent(ATMCS, 0, target) falling behind; read 100 messages\n"
     ]
    },
    {
     "data": {
      "text/plain": [
       "<lsst.ts.salobj.ddsutil.ATPtg_ackcmd_2d655b72 at 0x7f3e984c9630>"
      ]
     },
     "execution_count": 165,
     "metadata": {},
     "output_type": "execute_result"
    }
   ],
   "source": [
    "await attcs.atptg.cmd_pointNewFile.start()\n",
    "await asyncio.sleep(1.)\n",
    "await attcs.atptg.cmd_pointAddData.start()\n",
    "await asyncio.sleep(1.)\n",
    "await attcs.atptg.cmd_pointCloseFile.start()"
   ]
  },
  {
   "cell_type": "code",
   "execution_count": 166,
   "metadata": {},
   "outputs": [
    {
     "name": "stdout",
     "output_type": "stream",
     "text": [
      "RemoteTelemetry(ATPtg, 0, timeAndDate) falling behind; read 70 messages\n",
      "RemoteEvent(ATMCS, 0, target) falling behind; read 100 messages\n",
      "RemoteTelemetry(ATHexapod, 0, positionStatus) falling behind; read 14 messages\n",
      "RemoteTelemetry(ATDome, 0, position) falling behind; read 69 messages\n",
      "RemoteEvent(ATAOS, 0, detailedState) falling behind; read 20 messages\n",
      "RemoteTelemetry(ATPneumatics, 0, loadCell) falling behind; read 14 messages\n",
      "Flushing events\n",
      "Scheduling check coroutines\n",
      "Sending command\n",
      "RemoteEvent(ATAOS, 0, m1CorrectionStarted) falling behind; read 10 messages\n",
      "RemoteTelemetry(ATPneumatics, 0, mainAirSourcePressure) falling behind; read 14 messages\n",
      "RemoteTelemetry(ATMCS, 0, trajectory) falling behind; read 14 messages\n",
      "RemoteEvent(ATHexapod, 0, heartbeat) falling behind; read 14 messages\n",
      "RemoteEvent(ATAOS, 0, m1CorrectionCompleted) falling behind; read 10 messages\n",
      "RemoteEvent(ATDome, 0, shutterInPosition) falling behind; read 31 messages\n",
      "RemoteTelemetry(ATPneumatics, 0, m2AirPressure) falling behind; read 14 messages\n",
      "RemoteTelemetry(ATMCS, 0, torqueDemand) falling behind; read 14 messages\n",
      "RemoteEvent(ATAOS, 0, heartbeat) falling behind; read 14 messages\n",
      "RemoteEvent(ATDome, 0, mainDoorState) falling behind; read 31 messages\n",
      "RemoteTelemetry(ATPneumatics, 0, m1AirPressure) falling behind; read 14 messages\n",
      "RemoteTelemetry(ATMCS, 0, nasymth_m3_mountMotorEncoders) falling behind; read 14 messages\n",
      "RemoteTelemetry(ATPtg, 0, mountStatus) falling behind; read 73 messages\n",
      "RemoteEvent(ATDome, 0, heartbeat) falling behind; read 15 messages\n",
      "RemoteEvent(ATPneumatics, 0, m1SetPressure) falling behind; read 10 messages\n",
      "RemoteTelemetry(ATMCS, 0, mount_Nasmyth_Encoders) falling behind; read 14 messages\n",
      "RemoteTelemetry(ATPtg, 0, guidingAndOffsets) falling behind; read 74 messages\n",
      "RemoteEvent(ATPneumatics, 0, heartbeat) falling behind; read 15 messages\n",
      "RemoteTelemetry(ATMCS, 0, mount_AzEl_Encoders) falling behind; read 14 messages\n",
      "RemoteTelemetry(ATMCS, 0, measuredTorque) falling behind; read 15 messages\n",
      "RemoteTelemetry(ATPtg, 0, currentTargetStatus) falling behind; read 75 messages\n",
      "RemoteTelemetry(ATMCS, 0, measuredMotorVelocity) falling behind; read 15 messages\n",
      "RemoteTelemetry(ATMCS, 0, azEl_mountMotorEncoders) falling behind; read 15 messages\n",
      "RemoteEvent(ATPtg, 0, mountDataWarning) falling behind; read 12 messages\n",
      "RemoteEvent(ATMCS, 0, heartbeat) falling behind; read 15 messages\n",
      "[Telescope] delta Alt = +000.001 | delta Az= +000.002 [Dome] delta Az = +002.714\n",
      "process as completed...\n",
      "Got False\n",
      "Telescope not in position\n",
      "[Telescope] delta Alt = +000.291 | delta Az= +000.506 [Dome] delta Az = +003.316\n",
      "[Telescope] delta Alt = +000.001 | delta Az= +000.002 [Dome] delta Az = +003.319\n",
      "[Telescope] delta Alt = +000.001 | delta Az= +000.001 [Dome] delta Az = +003.322\n",
      "[Telescope] delta Alt = +000.001 | delta Az= +000.001 [Dome] delta Az = +003.326\n",
      "[Telescope] delta Alt = +000.001 | delta Az= +000.001 [Dome] delta Az = +003.329\n",
      "[Telescope] delta Alt = +000.001 | delta Az= +000.001 [Dome] delta Az = +003.332\n",
      "[Telescope] delta Alt = +000.001 | delta Az= +000.001 [Dome] delta Az = +003.336\n",
      "[Telescope] delta Alt = +000.001 | delta Az= +000.001 [Dome] delta Az = +003.339\n",
      "[Telescope] delta Alt = +000.001 | delta Az= +000.001 [Dome] delta Az = +003.343\n",
      "[Telescope] delta Alt = +000.001 | delta Az= +000.001 [Dome] delta Az = +003.346\n",
      "[Telescope] delta Alt = +000.001 | delta Az= +000.001 [Dome] delta Az = +003.349\n",
      "[Telescope] delta Alt = +000.001 | delta Az= +000.001 [Dome] delta Az = +003.353\n",
      "[Telescope] delta Alt = +000.001 | delta Az= +000.001 [Dome] delta Az = +003.356\n",
      "[Telescope] delta Alt = +000.001 | delta Az= +000.001 [Dome] delta Az = +003.360\n",
      "[Telescope] delta Alt = +000.001 | delta Az= +000.001 [Dome] delta Az = +003.363\n",
      "[Telescope] delta Alt = +000.001 | delta Az= +000.001 [Dome] delta Az = +003.366\n",
      "[Telescope] delta Alt = +000.001 | delta Az= +000.002 [Dome] delta Az = +003.370\n",
      "[Telescope] delta Alt = +000.001 | delta Az= +000.001 [Dome] delta Az = +003.373\n",
      "Got True\n",
      "Telescope in position.\n",
      "[None, 'Telescope in position.']\n",
      "Removing callback...\n"
     ]
    }
   ],
   "source": [
    "attcs.check.atdome = False\n",
    "await attcs.slew_icrs(ra=\"09 13 11.97746\", dec=\"-69 43 01.9473\", rot_pa=-90., target_name=\"bet Car\", slew_timeout=240)"
   ]
  },
  {
   "cell_type": "code",
   "execution_count": 178,
   "metadata": {},
   "outputs": [
    {
     "name": "stdout",
     "output_type": "stream",
     "text": [
      "RemoteTelemetry(ATPtg, 0, currentTargetStatus) falling behind; read 65 messages\n",
      "RemoteTelemetry(ATDome, 0, position) falling behind; read 64 messages\n",
      "RemoteTelemetry(ATPneumatics, 0, loadCell) falling behind; read 13 messages\n",
      "RemoteEvent(ATHexapod, 0, heartbeat) falling behind; read 13 messages\n",
      "RemoteTelemetry(ATMCS, 0, trajectory) falling behind; read 13 messages\n",
      "RemoteTelemetry(ATHexapod, 0, positionStatus) falling behind; read 13 messages\n",
      "RemoteEvent(ATDome, 0, shutterInPosition) falling behind; read 23 messages\n",
      "RemoteEvent(ATDome, 0, mainDoorState) falling behind; read 23 messages\n",
      "RemoteEvent(ATAOS, 0, heartbeat) falling behind; read 13 messages\n",
      "RemoteEvent(ATDome, 0, heartbeat) falling behind; read 13 messages\n",
      "RemoteEvent(ATMCS, 0, target) falling behind; read 100 messages\n"
     ]
    },
    {
     "data": {
      "text/plain": [
       "<lsst.ts.salobj.ddsutil.ATPtg_ackcmd_2d655b72 at 0x7f3e726449b0>"
      ]
     },
     "execution_count": 178,
     "metadata": {},
     "output_type": "execute_result"
    }
   ],
   "source": [
    "await attcs.atptg.cmd_offsetRADec.set_start(off1=1.595*60.*60.,\n",
    "                                            off2=-0.058*60.*60., \n",
    "                                            num=0)"
   ]
  },
  {
   "cell_type": "code",
   "execution_count": 179,
   "metadata": {},
   "outputs": [
    {
     "name": "stdout",
     "output_type": "stream",
     "text": [
      "RemoteEvent(ATPneumatics, 0, m1SetPressure) falling behind; read 12 messages\n",
      "RemoteTelemetry(ATDome, 0, position) falling behind; read 80 messages\n",
      "RemoteEvent(ATAOS, 0, m1CorrectionCompleted) falling behind; read 12 messages\n",
      "RemoteEvent(ATAOS, 0, m1CorrectionStarted) falling behind; read 11 messages\n",
      "RemoteTelemetry(ATPneumatics, 0, mainAirSourcePressure) falling behind; read 17 messages\n",
      "RemoteEvent(ATAOS, 0, heartbeat) falling behind; read 16 messages\n",
      "RemoteEvent(ATDome, 0, shutterInPosition) falling behind; read 34 messages\n",
      "RemoteEvent(ATHexapod, 0, heartbeat) falling behind; read 17 messages\n",
      "RemoteEvent(ATAOS, 0, detailedState) falling behind; read 23 messages\n",
      "RemoteEvent(ATDome, 0, mainDoorState) falling behind; read 35 messages\n",
      "RemoteTelemetry(ATPneumatics, 0, loadCell) falling behind; read 17 messages\n",
      "RemoteEvent(ATDome, 0, heartbeat) falling behind; read 17 messages\n",
      "RemoteEvent(ATPneumatics, 0, heartbeat) falling behind; read 17 messages\n",
      "RemoteTelemetry(ATMCS, 0, trajectory) falling behind; read 17 messages\n",
      "RemoteTelemetry(ATMCS, 0, torqueDemand) falling behind; read 17 messages\n"
     ]
    },
    {
     "data": {
      "text/plain": [
       "<lsst.ts.salobj.ddsutil.ATPtg_ackcmd_2d655b72 at 0x7f3e98494780>"
      ]
     },
     "execution_count": 179,
     "metadata": {},
     "output_type": "execute_result"
    }
   ],
   "source": [
    "await attcs.atptg.cmd_pointNewFile.start()\n",
    "await asyncio.sleep(1.)\n",
    "await attcs.atptg.cmd_pointAddData.start()\n",
    "await asyncio.sleep(1.)\n",
    "await attcs.atptg.cmd_pointCloseFile.start()"
   ]
  },
  {
   "cell_type": "markdown",
   "metadata": {},
   "source": [
    "# gam02 Vel"
   ]
  },
  {
   "cell_type": "code",
   "execution_count": 181,
   "metadata": {},
   "outputs": [
    {
     "name": "stdout",
     "output_type": "stream",
     "text": [
      "RemoteEvent(ATMCS, 0, target) falling behind; read 100 messages\n",
      "RemoteTelemetry(ATDome, 0, position) falling behind; read 100 messages\n",
      "RemoteTelemetry(ATHexapod, 0, positionStatus) falling behind; read 100 messages\n",
      "RemoteTelemetry(ATPtg, 0, currentTargetStatus) falling behind; read 100 messages\n",
      "RemoteTelemetry(ATPneumatics, 0, loadCell) falling behind; read 100 messages\n",
      "RemoteEvent(ATAOS, 0, heartbeat) falling behind; read 100 messages\n",
      "RemoteEvent(ATPneumatics, 0, heartbeat) falling behind; read 100 messages\n",
      "RemoteTelemetry(ATPtg, 0, timeAndDate) falling behind; read 100 messages\n",
      "RemoteEvent(ATHexapod, 0, heartbeat) falling behind; read 100 messages\n",
      "RemoteTelemetry(ATMCS, 0, trajectory) falling behind; read 100 messages\n",
      "RemoteTelemetry(ATPtg, 0, skyEnvironment) falling behind; read 36 messages\n",
      "RemoteEvent(ATDome, 0, shutterInPosition) falling behind; read 100 messages\n",
      "RemoteTelemetry(ATMCS, 0, torqueDemand) falling behind; read 100 messages\n",
      "RemoteEvent(ATAOS, 0, m1CorrectionStarted) falling behind; read 100 messages\n",
      "RemoteTelemetry(ATPneumatics, 0, mainAirSourcePressure) falling behind; read 100 messages\n",
      "Flushing events\n",
      "Scheduling check coroutines\n",
      "Sending command\n",
      "RemoteTelemetry(ATPtg, 0, mountStatus) falling behind; read 100 messages\n",
      "RemoteEvent(ATDome, 0, mainDoorState) falling behind; read 100 messages\n",
      "RemoteTelemetry(ATMCS, 0, nasymth_m3_mountMotorEncoders) falling behind; read 100 messages\n",
      "RemoteEvent(ATAOS, 0, m1CorrectionCompleted) falling behind; read 100 messages\n",
      "RemoteTelemetry(ATPneumatics, 0, m2AirPressure) falling behind; read 100 messages\n",
      "RemoteTelemetry(ATPtg, 0, guidingAndOffsets) falling behind; read 100 messages\n",
      "RemoteEvent(ATDome, 0, heartbeat) falling behind; read 100 messages\n",
      "RemoteTelemetry(ATMCS, 0, mount_Nasmyth_Encoders) falling behind; read 100 messages\n",
      "RemoteEvent(ATAOS, 0, detailedState) falling behind; read 100 messages\n",
      "RemoteTelemetry(ATPneumatics, 0, m1AirPressure) falling behind; read 100 messages\n",
      "RemoteTelemetry(ATPtg, 0, currentTimesToLimits) falling behind; read 36 messages\n",
      "RemoteTelemetry(ATMCS, 0, mount_AzEl_Encoders) falling behind; read 100 messages\n",
      "RemoteTelemetry(ATMCS, 0, measuredTorque) falling behind; read 100 messages\n",
      "RemoteEvent(ATPneumatics, 0, m1SetPressure) falling behind; read 100 messages\n",
      "RemoteEvent(ATPtg, 0, weatherDataApplied) falling behind; read 18 messages\n",
      "RemoteTelemetry(ATMCS, 0, measuredMotorVelocity) falling behind; read 100 messages\n",
      "RemoteTelemetry(ATMCS, 0, azEl_mountMotorEncoders) falling behind; read 100 messages\n",
      "RemoteEvent(ATMCS, 0, heartbeat) falling behind; read 100 messages\n",
      "[Telescope] delta Alt = -000.003 | delta Az= -000.002 [Dome] delta Az = +003.359\n",
      "process as completed...\n",
      "Got False\n",
      "Telescope not in position\n",
      "[Telescope] delta Alt = +023.361 | delta Az= -007.798 [Dome] delta Az = -005.736\n",
      "[Telescope] delta Alt = +022.266 | delta Az= -004.231 [Dome] delta Az = -005.723\n",
      "[Telescope] delta Alt = +020.093 | delta Az= -000.911 [Dome] delta Az = -005.708\n",
      "[Telescope] delta Alt = +016.945 | delta Az= +000.005 [Dome] delta Az = -005.693\n",
      "[Telescope] delta Alt = +013.154 | delta Az= +000.009 [Dome] delta Az = -005.678\n",
      "[Telescope] delta Alt = +009.193 | delta Az= +000.006 [Dome] delta Az = -005.663\n",
      "[Telescope] delta Alt = +005.567 | delta Az= +000.006 [Dome] delta Az = -005.648\n",
      "[Telescope] delta Alt = +002.702 | delta Az= +000.006 [Dome] delta Az = -005.633\n",
      "[Telescope] delta Alt = +000.883 | delta Az= +000.006 [Dome] delta Az = -005.618\n",
      "[Telescope] delta Alt = +000.107 | delta Az= +000.005 [Dome] delta Az = -005.603\n",
      "[Telescope] delta Alt = +000.001 | delta Az= +000.005 [Dome] delta Az = -005.588\n",
      "[Telescope] delta Alt = +000.001 | delta Az= +000.006 [Dome] delta Az = -005.573\n",
      "[Telescope] delta Alt = +000.001 | delta Az= +000.006 [Dome] delta Az = -005.558\n",
      "[Telescope] delta Alt = +000.001 | delta Az= +000.006 [Dome] delta Az = -005.543\n",
      "[Telescope] delta Alt = +000.001 | delta Az= +000.006 [Dome] delta Az = -005.528\n",
      "[Telescope] delta Alt = +000.001 | delta Az= +000.006 [Dome] delta Az = -005.513\n",
      "[Telescope] delta Alt = +000.001 | delta Az= +000.005 [Dome] delta Az = -005.498\n",
      "[Telescope] delta Alt = +000.001 | delta Az= +000.007 [Dome] delta Az = -005.482\n",
      "[Telescope] delta Alt = +000.001 | delta Az= +000.006 [Dome] delta Az = -005.467\n",
      "[Telescope] delta Alt = +000.001 | delta Az= +000.006 [Dome] delta Az = -005.452\n",
      "[Telescope] delta Alt = +000.001 | delta Az= +000.006 [Dome] delta Az = -005.437\n",
      "[Telescope] delta Alt = +000.001 | delta Az= +000.006 [Dome] delta Az = -005.422\n",
      "[Telescope] delta Alt = +000.001 | delta Az= +000.006 [Dome] delta Az = -005.408\n",
      "[Telescope] delta Alt = +000.001 | delta Az= +000.006 [Dome] delta Az = -005.392\n",
      "[Telescope] delta Alt = +000.001 | delta Az= +000.006 [Dome] delta Az = -005.377\n",
      "[Telescope] delta Alt = +000.001 | delta Az= +000.006 [Dome] delta Az = -005.362\n",
      "Got True\n",
      "Telescope in position.\n",
      "[None, 'Telescope in position.']\n",
      "Removing callback...\n"
     ]
    }
   ],
   "source": [
    "attcs.check.atdome = False\n",
    "await attcs.slew_icrs(ra=\"08 09 31.95013\", dec=\"-47 20 11.7108\", rot_pa=0., target_name=\"gam02 Vel\", slew_timeout=240)\n"
   ]
  },
  {
   "cell_type": "code",
   "execution_count": 202,
   "metadata": {},
   "outputs": [
    {
     "name": "stdout",
     "output_type": "stream",
     "text": [
      "RemoteEvent(ATMCS, 0, target) falling behind; read 100 messages\n",
      "RemoteTelemetry(ATPtg, 0, currentTargetStatus) falling behind; read 100 messages\n",
      "RemoteTelemetry(ATDome, 0, position) falling behind; read 100 messages\n",
      "RemoteEvent(ATAOS, 0, detailedState) falling behind; read 56 messages\n",
      "RemoteTelemetry(ATHexapod, 0, positionStatus) falling behind; read 39 messages\n",
      "RemoteEvent(ATPneumatics, 0, m1SetPressure) falling behind; read 28 messages\n",
      "RemoteTelemetry(ATPtg, 0, timeAndDate) falling behind; read 100 messages\n",
      "RemoteEvent(ATHexapod, 0, heartbeat) falling behind; read 39 messages\n",
      "RemoteTelemetry(ATPneumatics, 0, mainAirSourcePressure) falling behind; read 39 messages\n",
      "RemoteTelemetry(ATPneumatics, 0, m2AirPressure) falling behind; read 39 messages\n",
      "RemoteEvent(ATDome, 0, shutterInPosition) falling behind; read 98 messages\n",
      "RemoteTelemetry(ATMCS, 0, trajectory) falling behind; read 40 messages\n",
      "RemoteEvent(ATAOS, 0, m1CorrectionStarted) falling behind; read 28 messages\n",
      "RemoteTelemetry(ATPtg, 0, mountStatus) falling behind; read 100 messages\n",
      "RemoteTelemetry(ATPneumatics, 0, m1AirPressure) falling behind; read 40 messages\n",
      "RemoteEvent(ATDome, 0, mainDoorState) falling behind; read 99 messages\n",
      "RemoteTelemetry(ATMCS, 0, torqueDemand) falling behind; read 41 messages\n",
      "RemoteEvent(ATAOS, 0, m1CorrectionCompleted) falling behind; read 28 messages\n",
      "RemoteTelemetry(ATPtg, 0, guidingAndOffsets) falling behind; read 100 messages\n",
      "RemoteTelemetry(ATPneumatics, 0, loadCell) falling behind; read 40 messages\n",
      "RemoteEvent(ATDome, 0, heartbeat) falling behind; read 40 messages\n",
      "RemoteTelemetry(ATMCS, 0, nasymth_m3_mountMotorEncoders) falling behind; read 41 messages\n",
      "RemoteEvent(ATAOS, 0, heartbeat) falling behind; read 40 messages\n",
      "RemoteEvent(ATPneumatics, 0, heartbeat) falling behind; read 40 messages\n",
      "RemoteTelemetry(ATMCS, 0, mount_Nasmyth_Encoders) falling behind; read 41 messages\n",
      "RemoteTelemetry(ATMCS, 0, mount_AzEl_Encoders) falling behind; read 41 messages\n",
      "RemoteTelemetry(ATMCS, 0, measuredTorque) falling behind; read 41 messages\n",
      "RemoteEvent(ATPtg, 0, mountDataWarning) falling behind; read 34 messages\n",
      "RemoteTelemetry(ATMCS, 0, measuredMotorVelocity) falling behind; read 41 messages\n",
      "RemoteTelemetry(ATMCS, 0, azEl_mountMotorEncoders) falling behind; read 41 messages\n",
      "RemoteEvent(ATMCS, 0, heartbeat) falling behind; read 41 messages\n"
     ]
    },
    {
     "data": {
      "text/plain": [
       "<lsst.ts.salobj.ddsutil.ATPtg_ackcmd_2d655b72 at 0x7f3e9854ad68>"
      ]
     },
     "execution_count": 202,
     "metadata": {},
     "output_type": "execute_result"
    }
   ],
   "source": [
    "await attcs.atptg.cmd_offsetAzEl.set_start(el=-0.3625*60.*60., \n",
    "                                     az=0.1515*60.*60., \n",
    "                                     num=0)"
   ]
  },
  {
   "cell_type": "code",
   "execution_count": 203,
   "metadata": {},
   "outputs": [
    {
     "name": "stdout",
     "output_type": "stream",
     "text": [
      "RemoteTelemetry(ATHexapod, 0, positionStatus) falling behind; read 14 messages\n",
      "RemoteEvent(ATAOS, 0, m1CorrectionStarted) falling behind; read 10 messages\n",
      "RemoteEvent(ATHexapod, 0, heartbeat) falling behind; read 14 messages\n",
      "RemoteTelemetry(ATPneumatics, 0, m1AirPressure) falling behind; read 14 messages\n",
      "RemoteEvent(ATAOS, 0, m1CorrectionCompleted) falling behind; read 10 messages\n",
      "RemoteEvent(ATDome, 0, heartbeat) falling behind; read 14 messages\n",
      "RemoteTelemetry(ATPneumatics, 0, loadCell) falling behind; read 15 messages\n",
      "RemoteEvent(ATAOS, 0, heartbeat) falling behind; read 15 messages\n",
      "RemoteEvent(ATPneumatics, 0, m1SetPressure) falling behind; read 10 messages\n",
      "RemoteEvent(ATPneumatics, 0, heartbeat) falling behind; read 15 messages\n"
     ]
    },
    {
     "data": {
      "text/plain": [
       "<lsst.ts.salobj.ddsutil.ATPtg_ackcmd_2d655b72 at 0x7f3e9a089748>"
      ]
     },
     "execution_count": 203,
     "metadata": {},
     "output_type": "execute_result"
    }
   ],
   "source": [
    "await attcs.atptg.cmd_pointNewFile.start()\n",
    "await asyncio.sleep(1.)\n",
    "await attcs.atptg.cmd_pointAddData.start()\n",
    "await asyncio.sleep(1.)\n",
    "await attcs.atptg.cmd_pointCloseFile.start()"
   ]
  },
  {
   "cell_type": "code",
   "execution_count": 204,
   "metadata": {},
   "outputs": [
    {
     "name": "stdout",
     "output_type": "stream",
     "text": [
      "RemoteEvent(ATMCS, 0, target) falling behind; read 100 messages\n",
      "RemoteTelemetry(ATDome, 0, position) falling behind; read 62 messages\n",
      "RemoteTelemetry(ATPtg, 0, currentTargetStatus) falling behind; read 64 messages\n",
      "RemoteEvent(ATAOS, 0, heartbeat) falling behind; read 13 messages\n",
      "RemoteTelemetry(ATPneumatics, 0, loadCell) falling behind; read 13 messages\n",
      "RemoteTelemetry(ATHexapod, 0, positionStatus) falling behind; read 12 messages\n",
      "RemoteTelemetry(ATMCS, 0, trajectory) falling behind; read 13 messages\n",
      "RemoteTelemetry(ATPtg, 0, timeAndDate) falling behind; read 64 messages\n",
      "RemoteEvent(ATHexapod, 0, heartbeat) falling behind; read 13 messages\n",
      "RemoteTelemetry(ATMCS, 0, torqueDemand) falling behind; read 13 messages\n",
      "RemoteEvent(ATDome, 0, shutterInPosition) falling behind; read 22 messages\n",
      "RemoteTelemetry(ATPneumatics, 0, mainAirSourcePressure) falling behind; read 13 messages\n",
      "RemoteTelemetry(ATMCS, 0, nasymth_m3_mountMotorEncoders) falling behind; read 13 messages\n",
      "RemoteEvent(ATDome, 0, mainDoorState) falling behind; read 22 messages\n",
      "Flushing events\n",
      "Scheduling check coroutines\n",
      "Sending command\n",
      "RemoteTelemetry(ATPtg, 0, mountStatus) falling behind; read 66 messages\n",
      "RemoteTelemetry(ATPneumatics, 0, m2AirPressure) falling behind; read 13 messages\n",
      "RemoteTelemetry(ATMCS, 0, mount_Nasmyth_Encoders) falling behind; read 13 messages\n",
      "RemoteEvent(ATDome, 0, heartbeat) falling behind; read 13 messages\n",
      "RemoteTelemetry(ATPtg, 0, guidingAndOffsets) falling behind; read 66 messages\n",
      "RemoteTelemetry(ATPneumatics, 0, m1AirPressure) falling behind; read 13 messages\n",
      "RemoteEvent(ATAOS, 0, detailedState) falling behind; read 18 messages\n",
      "RemoteTelemetry(ATMCS, 0, mount_AzEl_Encoders) falling behind; read 13 messages\n",
      "RemoteTelemetry(ATMCS, 0, measuredTorque) falling behind; read 13 messages\n",
      "RemoteEvent(ATPneumatics, 0, heartbeat) falling behind; read 13 messages\n",
      "RemoteTelemetry(ATMCS, 0, measuredMotorVelocity) falling behind; read 13 messages\n",
      "RemoteEvent(ATPtg, 0, mountDataWarning) falling behind; read 10 messages\n",
      "RemoteTelemetry(ATMCS, 0, azEl_mountMotorEncoders) falling behind; read 13 messages\n",
      "RemoteEvent(ATMCS, 0, heartbeat) falling behind; read 14 messages\n",
      "process as completed...\n",
      "[Telescope] delta Alt = +000.001 | delta Az= +000.004 [Dome] delta Az = -001.267\n",
      "Got False\n",
      "Telescope not in position\n",
      "[Telescope] delta Alt = +000.242 | delta Az= +000.343 [Dome] delta Az = -000.777\n",
      "[Telescope] delta Alt = +000.001 | delta Az= +000.008 [Dome] delta Az = -000.760\n",
      "[Telescope] delta Alt = +000.001 | delta Az= +000.007 [Dome] delta Az = -000.744\n",
      "[Telescope] delta Alt = +000.001 | delta Az= +000.007 [Dome] delta Az = -000.727\n",
      "[Telescope] delta Alt = +000.001 | delta Az= +000.007 [Dome] delta Az = -000.710\n",
      "[Telescope] delta Alt = +000.001 | delta Az= +000.007 [Dome] delta Az = -000.694\n",
      "[Telescope] delta Alt = +000.001 | delta Az= +000.007 [Dome] delta Az = -000.677\n",
      "[Telescope] delta Alt = +000.001 | delta Az= +000.006 [Dome] delta Az = -000.661\n",
      "[Telescope] delta Alt = +000.001 | delta Az= +000.007 [Dome] delta Az = -000.644\n",
      "[Telescope] delta Alt = +000.001 | delta Az= +000.006 [Dome] delta Az = -000.628\n",
      "[Telescope] delta Alt = +000.001 | delta Az= +000.007 [Dome] delta Az = -000.611\n",
      "[Telescope] delta Alt = +000.002 | delta Az= +000.015 [Dome] delta Az = -000.595\n",
      "[Telescope] delta Alt = +000.001 | delta Az= +000.007 [Dome] delta Az = -000.586\n",
      "[Telescope] delta Alt = +000.001 | delta Az= +000.007 [Dome] delta Az = -000.569\n",
      "[Telescope] delta Alt = +000.001 | delta Az= +000.007 [Dome] delta Az = -000.552\n",
      "[Telescope] delta Alt = +000.001 | delta Az= +000.007 [Dome] delta Az = -000.536\n",
      "[Telescope] delta Alt = +000.001 | delta Az= +000.007 [Dome] delta Az = -000.519\n",
      "[Telescope] delta Alt = +000.001 | delta Az= +000.007 [Dome] delta Az = -000.503\n",
      "[Telescope] delta Alt = +000.001 | delta Az= +000.007 [Dome] delta Az = -000.486\n",
      "[Telescope] delta Alt = +000.001 | delta Az= +000.007 [Dome] delta Az = -000.470\n",
      "[Telescope] delta Alt = +000.001 | delta Az= +000.007 [Dome] delta Az = -000.453\n",
      "[Telescope] delta Alt = +000.001 | delta Az= +000.007 [Dome] delta Az = -000.436\n",
      "[Telescope] delta Alt = +000.001 | delta Az= +000.007 [Dome] delta Az = -000.420\n",
      "[Telescope] delta Alt = +000.001 | delta Az= +000.006 [Dome] delta Az = -000.404\n",
      "[Telescope] delta Alt = +000.001 | delta Az= +000.006 [Dome] delta Az = -000.387\n",
      "[Telescope] delta Alt = +000.001 | delta Az= +000.006 [Dome] delta Az = -000.370\n",
      "[Telescope] delta Alt = +000.001 | delta Az= +000.007 [Dome] delta Az = -000.353\n",
      "[Telescope] delta Alt = +000.001 | delta Az= +000.007 [Dome] delta Az = -000.337\n",
      "[Telescope] delta Alt = +000.001 | delta Az= +000.007 [Dome] delta Az = -000.320\n",
      "Got True\n",
      "Telescope in position.\n",
      "[None, 'Telescope in position.']\n",
      "Removing callback...\n"
     ]
    }
   ],
   "source": [
    "attcs.check.atdome = False\n",
    "await attcs.slew_icrs(ra=\"08 09 31.95013\", dec=\"-47 20 11.7108\", rot_pa=90., target_name=\"gam02 Vel\", slew_timeout=240)"
   ]
  },
  {
   "cell_type": "code",
   "execution_count": 237,
   "metadata": {},
   "outputs": [
    {
     "name": "stdout",
     "output_type": "stream",
     "text": [
      "RemoteTelemetry(ATDome, 0, position) falling behind; read 39 messages\n",
      "RemoteEvent(ATDome, 0, shutterInPosition) falling behind; read 22 messages\n",
      "RemoteTelemetry(ATPtg, 0, mountStatus) falling behind; read 42 messages\n",
      "RemoteEvent(ATAOS, 0, detailedState) falling behind; read 11 messages\n"
     ]
    },
    {
     "data": {
      "text/plain": [
       "<lsst.ts.salobj.ddsutil.ATPtg_ackcmd_2d655b72 at 0x7f3e98831a20>"
      ]
     },
     "execution_count": 237,
     "metadata": {},
     "output_type": "execute_result"
    }
   ],
   "source": [
    "await attcs.atptg.cmd_offsetAzEl.set_start(el=-0.3700*60.*60., \n",
    "                                     az=0.145*60.*60., \n",
    "                                     num=0)"
   ]
  },
  {
   "cell_type": "code",
   "execution_count": 238,
   "metadata": {},
   "outputs": [
    {
     "name": "stdout",
     "output_type": "stream",
     "text": [
      "RemoteTelemetry(ATPneumatics, 0, loadCell) falling behind; read 14 messages\n",
      "RemoteEvent(ATHexapod, 0, heartbeat) falling behind; read 14 messages\n",
      "RemoteEvent(ATAOS, 0, m1CorrectionStarted) falling behind; read 10 messages\n",
      "RemoteTelemetry(ATMCS, 0, trajectory) falling behind; read 14 messages\n",
      "RemoteTelemetry(ATHexapod, 0, positionStatus) falling behind; read 14 messages\n",
      "RemoteEvent(ATAOS, 0, m1CorrectionCompleted) falling behind; read 10 messages\n",
      "RemoteTelemetry(ATMCS, 0, torqueDemand) falling behind; read 14 messages\n",
      "RemoteEvent(ATDome, 0, shutterInPosition) falling behind; read 32 messages\n",
      "RemoteTelemetry(ATPneumatics, 0, mainAirSourcePressure) falling behind; read 15 messages\n",
      "RemoteEvent(ATAOS, 0, heartbeat) falling behind; read 15 messages\n",
      "RemoteTelemetry(ATMCS, 0, nasymth_m3_mountMotorEncoders) falling behind; read 14 messages\n",
      "RemoteEvent(ATDome, 0, mainDoorState) falling behind; read 32 messages\n",
      "RemoteTelemetry(ATPneumatics, 0, m2AirPressure) falling behind; read 15 messages\n",
      "RemoteTelemetry(ATMCS, 0, mount_Nasmyth_Encoders) falling behind; read 14 messages\n",
      "RemoteEvent(ATDome, 0, heartbeat) falling behind; read 15 messages\n",
      "RemoteTelemetry(ATPneumatics, 0, m1AirPressure) falling behind; read 15 messages\n",
      "RemoteEvent(ATPneumatics, 0, heartbeat) falling behind; read 15 messages\n"
     ]
    },
    {
     "data": {
      "text/plain": [
       "<lsst.ts.salobj.ddsutil.ATPtg_ackcmd_2d655b72 at 0x7f3e8ff174a8>"
      ]
     },
     "execution_count": 238,
     "metadata": {},
     "output_type": "execute_result"
    }
   ],
   "source": [
    "await attcs.atptg.cmd_pointNewFile.start()\n",
    "await asyncio.sleep(1.)\n",
    "await attcs.atptg.cmd_pointAddData.start()\n",
    "await asyncio.sleep(1.)\n",
    "await attcs.atptg.cmd_pointCloseFile.start()"
   ]
  },
  {
   "cell_type": "markdown",
   "metadata": {},
   "source": [
    "# alf CMi"
   ]
  },
  {
   "cell_type": "code",
   "execution_count": 239,
   "metadata": {},
   "outputs": [
    {
     "name": "stdout",
     "output_type": "stream",
     "text": [
      "RemoteTelemetry(ATPtg, 0, currentTargetStatus) falling behind; read 100 messages\n",
      "RemoteEvent(ATMCS, 0, target) falling behind; read 100 messages\n",
      "RemoteTelemetry(ATDome, 0, position) falling behind; read 100 messages\n",
      "RemoteTelemetry(ATHexapod, 0, positionStatus) falling behind; read 31 messages\n",
      "RemoteTelemetry(ATPneumatics, 0, loadCell) falling behind; read 31 messages\n",
      "RemoteEvent(ATAOS, 0, heartbeat) falling behind; read 31 messages\n",
      "RemoteTelemetry(ATPneumatics, 0, mainAirSourcePressure) falling behind; read 31 messages\n",
      "RemoteEvent(ATHexapod, 0, heartbeat) falling behind; read 31 messages\n",
      "RemoteEvent(ATAOS, 0, m1CorrectionStarted) falling behind; read 21 messages\n",
      "RemoteTelemetry(ATPtg, 0, timeAndDate) falling behind; read 100 messages\n",
      "RemoteTelemetry(ATMCS, 0, trajectory) falling behind; read 31 messages\n",
      "RemoteEvent(ATDome, 0, shutterInPosition) falling behind; read 73 messages\n",
      "RemoteTelemetry(ATPneumatics, 0, m2AirPressure) falling behind; read 31 messages\n",
      "RemoteEvent(ATAOS, 0, m1CorrectionCompleted) falling behind; read 21 messages\n",
      "RemoteTelemetry(ATMCS, 0, torqueDemand) falling behind; read 31 messages\n",
      "RemoteEvent(ATDome, 0, mainDoorState) falling behind; read 73 messages\n",
      "RemoteTelemetry(ATPneumatics, 0, m1AirPressure) falling behind; read 31 messages\n",
      "RemoteEvent(ATAOS, 0, detailedState) falling behind; read 43 messages\n",
      "Flushing events\n",
      "Scheduling check coroutines\n",
      "Sending command\n",
      "RemoteTelemetry(ATPtg, 0, mountStatus) falling behind; read 100 messages\n",
      "RemoteTelemetry(ATMCS, 0, nasymth_m3_mountMotorEncoders) falling behind; read 31 messages\n",
      "RemoteEvent(ATDome, 0, heartbeat) falling behind; read 31 messages\n",
      "RemoteEvent(ATPneumatics, 0, m1SetPressure) falling behind; read 22 messages\n",
      "RemoteTelemetry(ATPtg, 0, guidingAndOffsets) falling behind; read 100 messages\n",
      "RemoteTelemetry(ATMCS, 0, mount_Nasmyth_Encoders) falling behind; read 32 messages\n",
      "RemoteEvent(ATPneumatics, 0, heartbeat) falling behind; read 32 messages\n",
      "Got False\n",
      "ATDome not in position\n",
      "Got True\n",
      "ATDome in position.\n",
      "RemoteTelemetry(ATMCS, 0, mount_AzEl_Encoders) falling behind; read 32 messages\n",
      "RemoteTelemetry(ATMCS, 0, measuredTorque) falling behind; read 32 messages\n",
      "RemoteTelemetry(ATMCS, 0, measuredMotorVelocity) falling behind; read 32 messages\n",
      "RemoteEvent(ATPtg, 0, mountDataWarning) falling behind; read 28 messages\n",
      "RemoteTelemetry(ATMCS, 0, azEl_mountMotorEncoders) falling behind; read 32 messages\n",
      "RemoteEvent(ATMCS, 0, heartbeat) falling behind; read 32 messages\n",
      "process as completed...\n",
      "[Telescope] delta Alt = -000.000 | delta Az= -000.002 [Dome] delta Az = +003.847\n",
      "Got False\n",
      "Telescope not in position\n",
      "[Telescope] delta Alt = -017.255 | delta Az= -168.785 [Dome] delta Az = -165.040\n",
      "[Telescope] delta Alt = -016.245 | delta Az= -165.112 [Dome] delta Az = -163.754\n",
      "[Telescope] delta Alt = -013.793 | delta Az= -161.126 [Dome] delta Az = -161.439\n",
      "[Telescope] delta Alt = -010.208 | delta Az= -157.141 [Dome] delta Az = -158.193\n",
      "[Telescope] delta Alt = -006.258 | delta Az= -153.155 [Dome] delta Az = -154.017\n",
      "[Telescope] delta Alt = -002.876 | delta Az= -149.168 [Dome] delta Az = -149.421\n",
      "[Telescope] delta Alt = -000.744 | delta Az= -145.184 [Dome] delta Az = -142.876\n",
      "[Telescope] delta Alt = -000.030 | delta Az= -141.198 [Dome] delta Az = -136.780\n",
      "[Telescope] delta Alt = +000.000 | delta Az= -137.212 [Dome] delta Az = -129.185\n",
      "[Telescope] delta Alt = -000.000 | delta Az= -133.227 [Dome] delta Az = -122.959\n",
      "[Telescope] delta Alt = -000.000 | delta Az= -129.241 [Dome] delta Az = -116.063\n",
      "[Telescope] delta Alt = -000.000 | delta Az= -125.255 [Dome] delta Az = -109.178\n",
      "[Telescope] delta Alt = -000.000 | delta Az= -121.269 [Dome] delta Az = -102.952\n",
      "[Telescope] delta Alt = -000.000 | delta Az= -117.283 [Dome] delta Az = -096.066\n",
      "[Telescope] delta Alt = -000.000 | delta Az= -113.298 [Dome] delta Az = -089.170\n",
      "[Telescope] delta Alt = -000.000 | delta Az= -109.312 [Dome] delta Az = -082.295\n",
      "[Telescope] delta Alt = -000.000 | delta Az= -105.326 [Dome] delta Az = -075.369\n",
      "[Telescope] delta Alt = -000.000 | delta Az= -101.342 [Dome] delta Az = -069.163\n",
      "[Telescope] delta Alt = -000.000 | delta Az= -097.357 [Dome] delta Az = -062.298\n",
      "[Telescope] delta Alt = -000.000 | delta Az= -093.368 [Dome] delta Az = -055.392\n",
      "[Telescope] delta Alt = -000.000 | delta Az= -089.384 [Dome] delta Az = -048.527\n",
      "[Telescope] delta Alt = -000.000 | delta Az= -085.399 [Dome] delta Az = -041.631\n",
      "[Telescope] delta Alt = -000.000 | delta Az= -081.412 [Dome] delta Az = -034.765\n",
      "[Telescope] delta Alt = -000.000 | delta Az= -077.428 [Dome] delta Az = -028.520\n",
      "[Telescope] delta Alt = -000.000 | delta Az= -073.441 [Dome] delta Az = -021.594\n",
      "[Telescope] delta Alt = -000.000 | delta Az= -069.454 [Dome] delta Az = -014.678\n",
      "[Telescope] delta Alt = -000.000 | delta Az= -065.471 [Dome] delta Az = -007.783\n",
      "[Telescope] delta Alt = -000.000 | delta Az= -061.484 [Dome] delta Az = -001.357\n",
      "[Telescope] delta Alt = -000.000 | delta Az= -057.499 [Dome] delta Az = +001.889\n",
      "[Telescope] delta Alt = -000.000 | delta Az= -053.513 [Dome] delta Az = +002.635\n",
      "[Telescope] delta Alt = -000.000 | delta Az= -049.525 [Dome] delta Az = +002.620\n",
      "[Telescope] delta Alt = -000.000 | delta Az= -045.542 [Dome] delta Az = +002.605\n",
      "[Telescope] delta Alt = -000.000 | delta Az= -041.557 [Dome] delta Az = +002.591\n",
      "[Telescope] delta Alt = -000.000 | delta Az= -037.569 [Dome] delta Az = +002.577\n",
      "[Telescope] delta Alt = -000.000 | delta Az= -033.585 [Dome] delta Az = +002.563\n",
      "[Telescope] delta Alt = -000.000 | delta Az= -029.598 [Dome] delta Az = +002.549\n",
      "[Telescope] delta Alt = -000.000 | delta Az= -025.625 [Dome] delta Az = +002.534\n",
      "[Telescope] delta Alt = -000.000 | delta Az= -021.704 [Dome] delta Az = +002.520\n",
      "[Telescope] delta Alt = -000.000 | delta Az= -017.896 [Dome] delta Az = +002.506\n",
      "[Telescope] delta Alt = -000.000 | delta Az= -014.281 [Dome] delta Az = +002.491\n",
      "[Telescope] delta Alt = -000.000 | delta Az= -010.944 [Dome] delta Az = +002.477\n",
      "[Telescope] delta Alt = -000.000 | delta Az= -007.970 [Dome] delta Az = +002.462\n",
      "[Telescope] delta Alt = -000.000 | delta Az= -005.427 [Dome] delta Az = +002.448\n",
      "[Telescope] delta Alt = -000.000 | delta Az= -003.375 [Dome] delta Az = +002.433\n",
      "[Telescope] delta Alt = -000.000 | delta Az= -001.840 [Dome] delta Az = +002.419\n",
      "[Telescope] delta Alt = -000.000 | delta Az= -000.815 [Dome] delta Az = +002.405\n",
      "[Telescope] delta Alt = -000.000 | delta Az= -000.245 [Dome] delta Az = +002.391\n",
      "[Telescope] delta Alt = -000.000 | delta Az= -000.033 [Dome] delta Az = +002.376\n",
      "[Telescope] delta Alt = -000.000 | delta Az= -000.006 [Dome] delta Az = +002.362\n",
      "[Telescope] delta Alt = -000.000 | delta Az= -000.006 [Dome] delta Az = +002.348\n",
      "[Telescope] delta Alt = -000.000 | delta Az= -000.006 [Dome] delta Az = +002.333\n",
      "[Telescope] delta Alt = -000.000 | delta Az= -000.006 [Dome] delta Az = +002.319\n",
      "[Telescope] delta Alt = -000.000 | delta Az= -000.006 [Dome] delta Az = +002.305\n",
      "[Telescope] delta Alt = -000.000 | delta Az= -000.006 [Dome] delta Az = +002.291\n",
      "[Telescope] delta Alt = -000.000 | delta Az= -000.006 [Dome] delta Az = +002.276\n",
      "Got True\n",
      "Telescope in position.\n",
      "[None, 'Telescope in position.', 'ATDome in position.']\n",
      "Removing callback...\n"
     ]
    }
   ],
   "source": [
    "attcs.check.atdome = True\n",
    "await attcs.slew_icrs(ra=\"07 39 18.11950\", dec=\"05 13 29.9552\", rot_pa=90., target_name=\"alf CMi\", slew_timeout=240)"
   ]
  },
  {
   "cell_type": "code",
   "execution_count": 254,
   "metadata": {},
   "outputs": [
    {
     "name": "stdout",
     "output_type": "stream",
     "text": [
      "RemoteEvent(ATMCS, 0, target) falling behind; read 100 messages\n",
      "RemoteTelemetry(ATPtg, 0, currentTargetStatus) falling behind; read 57 messages\n",
      "RemoteEvent(ATHexapod, 0, heartbeat) falling behind; read 11 messages\n",
      "RemoteTelemetry(ATHexapod, 0, positionStatus) falling behind; read 11 messages\n",
      "RemoteTelemetry(ATMCS, 0, trajectory) falling behind; read 12 messages\n",
      "RemoteTelemetry(ATMCS, 0, torqueDemand) falling behind; read 12 messages\n",
      "RemoteEvent(ATAOS, 0, detailedState) falling behind; read 16 messages\n"
     ]
    },
    {
     "data": {
      "text/plain": [
       "<lsst.ts.salobj.ddsutil.ATPtg_ackcmd_2d655b72 at 0x7f3e8fbea6d8>"
      ]
     },
     "execution_count": 254,
     "metadata": {},
     "output_type": "execute_result"
    }
   ],
   "source": [
    "await attcs.atptg.cmd_offsetAzEl.set_start(el=-0.39*60.*60., \n",
    "                                     az=0.430*60.*60., \n",
    "                                     num=0)"
   ]
  },
  {
   "cell_type": "code",
   "execution_count": 255,
   "metadata": {},
   "outputs": [
    {
     "name": "stdout",
     "output_type": "stream",
     "text": [
      "RemoteTelemetry(ATDome, 0, position) falling behind; read 82 messages\n",
      "RemoteEvent(ATAOS, 0, m1CorrectionStarted) falling behind; read 12 messages\n",
      "RemoteEvent(ATHexapod, 0, heartbeat) falling behind; read 17 messages\n",
      "RemoteTelemetry(ATPtg, 0, mountStatus) falling behind; read 86 messages\n",
      "RemoteEvent(ATAOS, 0, m1CorrectionCompleted) falling behind; read 12 messages\n",
      "RemoteTelemetry(ATPtg, 0, guidingAndOffsets) falling behind; read 87 messages\n",
      "RemoteEvent(ATMCS, 0, target) falling behind; read 100 messages\n"
     ]
    },
    {
     "data": {
      "text/plain": [
       "<lsst.ts.salobj.ddsutil.ATPtg_ackcmd_2d655b72 at 0x7f3e8f8c5908>"
      ]
     },
     "execution_count": 255,
     "metadata": {},
     "output_type": "execute_result"
    }
   ],
   "source": [
    "await attcs.atptg.cmd_pointNewFile.start()\n",
    "await asyncio.sleep(1.)\n",
    "await attcs.atptg.cmd_pointAddData.start()\n",
    "await asyncio.sleep(1.)\n",
    "await attcs.atptg.cmd_pointCloseFile.start()"
   ]
  },
  {
   "cell_type": "code",
   "execution_count": 256,
   "metadata": {},
   "outputs": [
    {
     "name": "stdout",
     "output_type": "stream",
     "text": [
      "RemoteEvent(ATMCS, 0, target) falling behind; read 100 messages\n",
      "RemoteTelemetry(ATDome, 0, position) falling behind; read 100 messages\n",
      "RemoteTelemetry(ATPtg, 0, timeAndDate) falling behind; read 100 messages\n",
      "RemoteTelemetry(ATPneumatics, 0, loadCell) falling behind; read 26 messages\n",
      "RemoteEvent(ATAOS, 0, heartbeat) falling behind; read 26 messages\n",
      "RemoteTelemetry(ATHexapod, 0, positionStatus) falling behind; read 26 messages\n",
      "RemoteEvent(ATPneumatics, 0, heartbeat) falling behind; read 26 messages\n",
      "Flushing events\n",
      "Scheduling check coroutines\n",
      "Sending command\n",
      "RemoteTelemetry(ATMCS, 0, trajectory) falling behind; read 26 messages\n",
      "RemoteEvent(ATHexapod, 0, heartbeat) falling behind; read 26 messages\n",
      "RemoteEvent(ATAOS, 0, m1CorrectionStarted) falling behind; read 18 messages\n",
      "Got False\n",
      "ATDome not in position\n",
      "Got True\n",
      "ATDome in position.\n",
      "RemoteEvent(ATDome, 0, shutterInPosition) falling behind; read 57 messages\n",
      "RemoteTelemetry(ATMCS, 0, torqueDemand) falling behind; read 26 messages\n",
      "RemoteEvent(ATAOS, 0, m1CorrectionCompleted) falling behind; read 18 messages\n",
      "RemoteEvent(ATDome, 0, mainDoorState) falling behind; read 57 messages\n",
      "RemoteTelemetry(ATPneumatics, 0, mainAirSourcePressure) falling behind; read 27 messages\n",
      "RemoteTelemetry(ATPtg, 0, mountStatus) falling behind; read 100 messages\n",
      "RemoteTelemetry(ATMCS, 0, nasymth_m3_mountMotorEncoders) falling behind; read 26 messages\n",
      "RemoteEvent(ATAOS, 0, detailedState) falling behind; read 37 messages\n",
      "RemoteEvent(ATDome, 0, heartbeat) falling behind; read 27 messages\n",
      "RemoteTelemetry(ATPneumatics, 0, m2AirPressure) falling behind; read 27 messages\n",
      "RemoteTelemetry(ATPtg, 0, guidingAndOffsets) falling behind; read 100 messages\n",
      "RemoteTelemetry(ATMCS, 0, mount_Nasmyth_Encoders) falling behind; read 27 messages\n",
      "RemoteTelemetry(ATPneumatics, 0, m1AirPressure) falling behind; read 27 messages\n",
      "RemoteTelemetry(ATMCS, 0, mount_AzEl_Encoders) falling behind; read 27 messages\n",
      "RemoteEvent(ATPneumatics, 0, m1SetPressure) falling behind; read 19 messages\n",
      "RemoteTelemetry(ATPtg, 0, currentTargetStatus) falling behind; read 100 messages\n",
      "RemoteTelemetry(ATMCS, 0, measuredTorque) falling behind; read 27 messages\n",
      "RemoteTelemetry(ATMCS, 0, measuredMotorVelocity) falling behind; read 27 messages\n",
      "RemoteEvent(ATPtg, 0, mountDataWarning) falling behind; read 22 messages\n",
      "RemoteTelemetry(ATMCS, 0, azEl_mountMotorEncoders) falling behind; read 27 messages\n",
      "RemoteEvent(ATMCS, 0, heartbeat) falling behind; read 27 messages\n",
      "process as completed...\n",
      "[Telescope] delta Alt = +000.000 | delta Az= +000.001 [Dome] delta Az = -000.959\n",
      "Got False\n",
      "Telescope not in position\n",
      "[Telescope] delta Alt = +000.032 | delta Az= +000.172 [Dome] delta Az = -000.252\n",
      "[Telescope] delta Alt = -000.001 | delta Az= -000.011 [Dome] delta Az = -000.266\n",
      "[Telescope] delta Alt = -000.000 | delta Az= -000.006 [Dome] delta Az = -000.280\n",
      "[Telescope] delta Alt = -000.000 | delta Az= -000.005 [Dome] delta Az = -000.294\n",
      "[Telescope] delta Alt = -000.000 | delta Az= -000.006 [Dome] delta Az = -000.309\n",
      "[Telescope] delta Alt = -000.000 | delta Az= -000.006 [Dome] delta Az = -000.323\n",
      "[Telescope] delta Alt = -000.001 | delta Az= -000.012 [Dome] delta Az = -000.337\n",
      "[Telescope] delta Alt = -000.000 | delta Az= -000.006 [Dome] delta Az = -000.344\n",
      "[Telescope] delta Alt = -000.000 | delta Az= -000.006 [Dome] delta Az = -000.359\n",
      "[Telescope] delta Alt = -000.000 | delta Az= -000.006 [Dome] delta Az = -000.373\n",
      "[Telescope] delta Alt = -000.000 | delta Az= -000.006 [Dome] delta Az = -000.387\n",
      "[Telescope] delta Alt = -000.000 | delta Az= -000.006 [Dome] delta Az = -000.401\n",
      "[Telescope] delta Alt = -000.000 | delta Az= -000.006 [Dome] delta Az = -000.415\n",
      "[Telescope] delta Alt = -000.000 | delta Az= -000.006 [Dome] delta Az = -000.430\n",
      "[Telescope] delta Alt = -000.000 | delta Az= -000.006 [Dome] delta Az = -000.444\n",
      "[Telescope] delta Alt = -000.000 | delta Az= -000.006 [Dome] delta Az = -000.458\n",
      "[Telescope] delta Alt = -000.000 | delta Az= -000.006 [Dome] delta Az = -000.473\n",
      "[Telescope] delta Alt = -000.000 | delta Az= -000.006 [Dome] delta Az = -000.487\n",
      "[Telescope] delta Alt = -000.000 | delta Az= -000.006 [Dome] delta Az = -000.501\n",
      "[Telescope] delta Alt = -000.000 | delta Az= -000.006 [Dome] delta Az = -000.515\n",
      "[Telescope] delta Alt = -000.000 | delta Az= -000.006 [Dome] delta Az = -000.530\n",
      "[Telescope] delta Alt = -000.000 | delta Az= -000.006 [Dome] delta Az = -000.544\n",
      "[Telescope] delta Alt = -000.000 | delta Az= -000.006 [Dome] delta Az = -000.558\n",
      "[Telescope] delta Alt = -000.000 | delta Az= -000.006 [Dome] delta Az = -000.572\n",
      "[Telescope] delta Alt = -000.000 | delta Az= -000.005 [Dome] delta Az = -000.586\n",
      "[Telescope] delta Alt = -000.000 | delta Az= -000.006 [Dome] delta Az = -000.601\n",
      "[Telescope] delta Alt = -000.000 | delta Az= -000.006 [Dome] delta Az = -000.615\n",
      "[Telescope] delta Alt = -000.000 | delta Az= -000.006 [Dome] delta Az = -000.629\n",
      "[Telescope] delta Alt = -000.000 | delta Az= -000.006 [Dome] delta Az = -000.643\n",
      "[Telescope] delta Alt = -000.000 | delta Az= -000.006 [Dome] delta Az = -000.658\n",
      "[Telescope] delta Alt = -000.000 | delta Az= -000.006 [Dome] delta Az = -000.672\n",
      "[Telescope] delta Alt = -000.000 | delta Az= -000.006 [Dome] delta Az = -000.686\n",
      "[Telescope] delta Alt = -000.000 | delta Az= -000.006 [Dome] delta Az = -000.701\n",
      "[Telescope] delta Alt = -000.000 | delta Az= -000.006 [Dome] delta Az = -000.714\n",
      "[Telescope] delta Alt = -000.000 | delta Az= -000.006 [Dome] delta Az = -000.729\n",
      "[Telescope] delta Alt = -000.000 | delta Az= -000.005 [Dome] delta Az = -000.742\n",
      "[Telescope] delta Alt = -000.000 | delta Az= -000.005 [Dome] delta Az = -000.756\n",
      "[Telescope] delta Alt = -000.000 | delta Az= -000.006 [Dome] delta Az = -000.771\n",
      "[Telescope] delta Alt = -000.000 | delta Az= -000.006 [Dome] delta Az = -000.785\n",
      "[Telescope] delta Alt = -000.000 | delta Az= -000.005 [Dome] delta Az = -000.799\n",
      "[Telescope] delta Alt = -000.000 | delta Az= -000.005 [Dome] delta Az = -000.813\n",
      "[Telescope] delta Alt = -000.000 | delta Az= -000.005 [Dome] delta Az = -000.827\n",
      "[Telescope] delta Alt = -000.000 | delta Az= -000.006 [Dome] delta Az = -000.842\n",
      "[Telescope] delta Alt = -000.000 | delta Az= -000.006 [Dome] delta Az = -000.857\n",
      "[Telescope] delta Alt = -000.001 | delta Az= -000.012 [Dome] delta Az = -000.870\n",
      "[Telescope] delta Alt = -000.000 | delta Az= -000.006 [Dome] delta Az = -000.878\n",
      "[Telescope] delta Alt = -000.000 | delta Az= -000.007 [Dome] delta Az = -000.893\n",
      "[Telescope] delta Alt = -000.000 | delta Az= -000.006 [Dome] delta Az = -000.906\n",
      "[Telescope] delta Alt = -000.000 | delta Az= -000.006 [Dome] delta Az = -000.920\n",
      "[Telescope] delta Alt = -000.000 | delta Az= -000.006 [Dome] delta Az = -000.935\n",
      "[Telescope] delta Alt = -000.000 | delta Az= -000.006 [Dome] delta Az = -000.949\n",
      "[Telescope] delta Alt = -000.000 | delta Az= -000.006 [Dome] delta Az = -000.963\n",
      "Got True\n",
      "Telescope in position.\n",
      "[None, 'Telescope in position.', 'ATDome in position.']\n",
      "Removing callback...\n"
     ]
    }
   ],
   "source": [
    "attcs.check.atdome = True\n",
    "await attcs.slew_icrs(ra=\"07 39 18.11950\", dec=\"05 13 29.9552\", rot_pa=-90., target_name=\"alf CMi\", slew_timeout=240)"
   ]
  },
  {
   "cell_type": "code",
   "execution_count": 261,
   "metadata": {},
   "outputs": [
    {
     "name": "stdout",
     "output_type": "stream",
     "text": [
      "RemoteEvent(ATHexapod, 0, heartbeat) falling behind; read 20 messages\n",
      "RemoteTelemetry(ATMCS, 0, torqueDemand) falling behind; read 21 messages\n",
      "RemoteTelemetry(ATHexapod, 0, positionStatus) falling behind; read 20 messages\n",
      "RemoteTelemetry(ATPneumatics, 0, mainAirSourcePressure) falling behind; read 20 messages\n",
      "RemoteEvent(ATAOS, 0, m1CorrectionStarted) falling behind; read 14 messages\n",
      "RemoteTelemetry(ATPneumatics, 0, m2AirPressure) falling behind; read 21 messages\n",
      "RemoteEvent(ATAOS, 0, m1CorrectionCompleted) falling behind; read 14 messages\n",
      "RemoteTelemetry(ATPtg, 0, guidingAndOffsets) falling behind; read 100 messages\n",
      "RemoteTelemetry(ATPneumatics, 0, m1AirPressure) falling behind; read 21 messages\n",
      "RemoteEvent(ATAOS, 0, detailedState) falling behind; read 28 messages\n",
      "RemoteTelemetry(ATPneumatics, 0, loadCell) falling behind; read 21 messages\n",
      "RemoteTelemetry(ATMCS, 0, measuredTorque) falling behind; read 21 messages\n",
      "RemoteTelemetry(ATPtg, 0, currentTargetStatus) falling behind; read 100 messages\n",
      "RemoteEvent(ATPneumatics, 0, m1SetPressure) falling behind; read 14 messages\n",
      "RemoteTelemetry(ATMCS, 0, measuredMotorVelocity) falling behind; read 21 messages\n",
      "RemoteEvent(ATPtg, 0, mountDataWarning) falling behind; read 17 messages\n",
      "RemoteEvent(ATMCS, 0, heartbeat) falling behind; read 21 messages\n"
     ]
    },
    {
     "data": {
      "text/plain": [
       "<lsst.ts.salobj.ddsutil.ATPtg_ackcmd_2d655b72 at 0x7f3e9a05ebe0>"
      ]
     },
     "execution_count": 261,
     "metadata": {},
     "output_type": "execute_result"
    }
   ],
   "source": [
    "await attcs.atptg.cmd_offsetAzEl.set_start(el=-0.385*60.*60., \n",
    "                                     az=0.430*60.*60., \n",
    "                                           num=0)"
   ]
  },
  {
   "cell_type": "code",
   "execution_count": 262,
   "metadata": {},
   "outputs": [
    {
     "name": "stdout",
     "output_type": "stream",
     "text": [
      "RemoteEvent(ATHexapod, 0, heartbeat) falling behind; read 14 messages\n",
      "RemoteTelemetry(ATDome, 0, position) falling behind; read 68 messages\n",
      "RemoteTelemetry(ATMCS, 0, trajectory) falling behind; read 14 messages\n",
      "RemoteTelemetry(ATMCS, 0, torqueDemand) falling behind; read 14 messages\n",
      "RemoteTelemetry(ATMCS, 0, nasymth_m3_mountMotorEncoders) falling behind; read 14 messages\n",
      "RemoteEvent(ATAOS, 0, heartbeat) falling behind; read 14 messages\n",
      "RemoteTelemetry(ATHexapod, 0, positionStatus) falling behind; read 14 messages\n",
      "RemoteTelemetry(ATPneumatics, 0, mainAirSourcePressure) falling behind; read 15 messages\n",
      "RemoteTelemetry(ATMCS, 0, mount_Nasmyth_Encoders) falling behind; read 15 messages\n",
      "RemoteEvent(ATAOS, 0, detailedState) falling behind; read 19 messages\n",
      "RemoteEvent(ATDome, 0, mainDoorState) falling behind; read 35 messages\n",
      "RemoteEvent(ATDome, 0, heartbeat) falling behind; read 14 messages\n",
      "RemoteEvent(ATPneumatics, 0, m1SetPressure) falling behind; read 10 messages\n",
      "RemoteEvent(ATPneumatics, 0, heartbeat) falling behind; read 15 messages\n"
     ]
    },
    {
     "data": {
      "text/plain": [
       "<lsst.ts.salobj.ddsutil.ATPtg_ackcmd_2d655b72 at 0x7f3e98433cf8>"
      ]
     },
     "execution_count": 262,
     "metadata": {},
     "output_type": "execute_result"
    }
   ],
   "source": [
    "await attcs.atptg.cmd_pointNewFile.start()\n",
    "await asyncio.sleep(1.)\n",
    "await attcs.atptg.cmd_pointAddData.start()\n",
    "await asyncio.sleep(1.)\n",
    "await attcs.atptg.cmd_pointCloseFile.start()"
   ]
  },
  {
   "cell_type": "code",
   "execution_count": 278,
   "metadata": {},
   "outputs": [
    {
     "name": "stdout",
     "output_type": "stream",
     "text": [
      "RemoteTelemetry(ATHexapod, 0, positionStatus) falling behind; read 12 messages\n",
      "RemoteTelemetry(ATPneumatics, 0, loadCell) falling behind; read 12 messages\n",
      "RemoteEvent(ATAOS, 0, heartbeat) falling behind; read 12 messages\n",
      "RemoteTelemetry(ATMCS, 0, trajectory) falling behind; read 13 messages\n",
      "RemoteTelemetry(ATMCS, 0, torqueDemand) falling behind; read 12 messages\n",
      "RemoteEvent(ATHexapod, 0, heartbeat) falling behind; read 12 messages\n",
      "RemoteTelemetry(ATPneumatics, 0, mainAirSourcePressure) falling behind; read 12 messages\n",
      "RemoteTelemetry(ATMCS, 0, nasymth_m3_mountMotorEncoders) falling behind; read 12 messages\n",
      "RemoteTelemetry(ATPneumatics, 0, m2AirPressure) falling behind; read 12 messages\n",
      "RemoteEvent(ATDome, 0, heartbeat) falling behind; read 12 messages\n"
     ]
    },
    {
     "data": {
      "text/plain": [
       "<lsst.ts.salobj.ddsutil.ATPtg_ackcmd_2d655b72 at 0x7f3e81154da0>"
      ]
     },
     "execution_count": 278,
     "metadata": {},
     "output_type": "execute_result"
    }
   ],
   "source": [
    "await attcs.atptg.cmd_offsetAzEl.set_start(el=-0.3915*60.*60., \n",
    "                                     az=0.435*60.*60., \n",
    "                                           num=0)"
   ]
  },
  {
   "cell_type": "code",
   "execution_count": 279,
   "metadata": {},
   "outputs": [
    {
     "name": "stdout",
     "output_type": "stream",
     "text": [
      "RemoteTelemetry(ATDome, 0, position) falling behind; read 67 messages\n",
      "RemoteTelemetry(ATPneumatics, 0, loadCell) falling behind; read 14 messages\n",
      "RemoteTelemetry(ATHexapod, 0, positionStatus) falling behind; read 14 messages\n",
      "RemoteEvent(ATAOS, 0, m1CorrectionStarted) falling behind; read 10 messages\n",
      "RemoteEvent(ATHexapod, 0, heartbeat) falling behind; read 14 messages\n",
      "RemoteTelemetry(ATPneumatics, 0, mainAirSourcePressure) falling behind; read 14 messages\n",
      "RemoteEvent(ATDome, 0, shutterInPosition) falling behind; read 38 messages\n",
      "RemoteTelemetry(ATPtg, 0, guidingAndOffsets) falling behind; read 72 messages\n",
      "RemoteEvent(ATAOS, 0, m1CorrectionCompleted) falling behind; read 10 messages\n",
      "RemoteTelemetry(ATPneumatics, 0, m2AirPressure) falling behind; read 14 messages\n",
      "RemoteEvent(ATAOS, 0, heartbeat) falling behind; read 14 messages\n",
      "RemoteTelemetry(ATPtg, 0, currentTargetStatus) falling behind; read 73 messages\n",
      "RemoteTelemetry(ATMCS, 0, trajectory) falling behind; read 14 messages\n",
      "RemoteTelemetry(ATMCS, 0, torqueDemand) falling behind; read 14 messages\n",
      "RemoteTelemetry(ATMCS, 0, nasymth_m3_mountMotorEncoders) falling behind; read 14 messages\n",
      "RemoteTelemetry(ATMCS, 0, mount_Nasmyth_Encoders) falling behind; read 14 messages\n",
      "RemoteTelemetry(ATMCS, 0, mount_AzEl_Encoders) falling behind; read 14 messages\n"
     ]
    },
    {
     "data": {
      "text/plain": [
       "<lsst.ts.salobj.ddsutil.ATPtg_ackcmd_2d655b72 at 0x7f3e8b6b3cc0>"
      ]
     },
     "execution_count": 279,
     "metadata": {},
     "output_type": "execute_result"
    }
   ],
   "source": [
    "await attcs.atptg.cmd_pointNewFile.start()\n",
    "await asyncio.sleep(1.)\n",
    "await attcs.atptg.cmd_pointAddData.start()\n",
    "await asyncio.sleep(1.)\n",
    "await attcs.atptg.cmd_pointCloseFile.start()"
   ]
  },
  {
   "cell_type": "markdown",
   "metadata": {},
   "source": [
    "# mu Vel"
   ]
  },
  {
   "cell_type": "code",
   "execution_count": 280,
   "metadata": {},
   "outputs": [
    {
     "name": "stdout",
     "output_type": "stream",
     "text": [
      "RemoteTelemetry(ATMCS, 0, nasymth_m3_mountMotorEncoders) falling behind; read 66 messages\n",
      "RemoteTelemetry(ATMCS, 0, mount_Nasmyth_Encoders) falling behind; read 66 messages\n",
      "RemoteTelemetry(ATPtg, 0, timeAndDate) falling behind; read 100 messages\n",
      "RemoteEvent(ATAOS, 0, m1CorrectionCompleted) falling behind; read 46 messages\n",
      "RemoteTelemetry(ATDome, 0, position) falling behind; read 100 messages\n",
      "RemoteTelemetry(ATPneumatics, 0, loadCell) falling behind; read 66 messages\n",
      "RemoteEvent(ATHexapod, 0, heartbeat) falling behind; read 65 messages\n",
      "RemoteTelemetry(ATMCS, 0, mount_AzEl_Encoders) falling behind; read 66 messages\n",
      "RemoteTelemetry(ATMCS, 0, measuredTorque) falling behind; read 66 messages\n",
      "Flushing events\n",
      "Scheduling check coroutines\n",
      "Sending command\n",
      "RemoteTelemetry(ATMCS, 0, measuredMotorVelocity) falling behind; read 67 messages\n",
      "RemoteEvent(ATAOS, 0, m1CorrectionStarted) falling behind; read 46 messages\n",
      "RemoteTelemetry(ATHexapod, 0, positionStatus) falling behind; read 65 messages\n",
      "RemoteTelemetry(ATPneumatics, 0, mainAirSourcePressure) falling behind; read 66 messages\n",
      "RemoteEvent(ATMCS, 0, target) falling behind; read 100 messages\n",
      "Got False\n",
      "ATDome not in position\n",
      "RemoteEvent(ATDome, 0, shutterInPosition) falling behind; read 100 messages\n",
      "RemoteEvent(ATAOS, 0, heartbeat) falling behind; read 67 messages\n",
      "RemoteTelemetry(ATPtg, 0, skyEnvironment) falling behind; read 13 messages\n",
      "RemoteTelemetry(ATPneumatics, 0, m2AirPressure) falling behind; read 66 messages\n",
      "RemoteEvent(ATDome, 0, mainDoorState) falling behind; read 100 messages\n",
      "RemoteEvent(ATAOS, 0, detailedState) falling behind; read 93 messages\n",
      "RemoteTelemetry(ATPtg, 0, mountStatus) falling behind; read 100 messages\n",
      "RemoteTelemetry(ATPneumatics, 0, m1AirPressure) falling behind; read 67 messages\n",
      "RemoteEvent(ATDome, 0, heartbeat) falling behind; read 67 messages\n",
      "RemoteTelemetry(ATPtg, 0, guidingAndOffsets) falling behind; read 100 messages\n",
      "RemoteEvent(ATPneumatics, 0, m1SetPressure) falling behind; read 46 messages\n",
      "RemoteTelemetry(ATMCS, 0, trajectory) falling behind; read 67 messages\n",
      "RemoteTelemetry(ATPtg, 0, currentTimesToLimits) falling behind; read 13 messages\n",
      "RemoteEvent(ATPneumatics, 0, heartbeat) falling behind; read 67 messages\n",
      "RemoteTelemetry(ATMCS, 0, torqueDemand) falling behind; read 67 messages\n",
      "RemoteTelemetry(ATPtg, 0, currentTargetStatus) falling behind; read 100 messages\n",
      "RemoteEvent(ATPtg, 0, mountDataWarning) falling behind; read 20 messages\n",
      "RemoteTelemetry(ATMCS, 0, azEl_mountMotorEncoders) falling behind; read 67 messages\n",
      "RemoteEvent(ATMCS, 0, heartbeat) falling behind; read 68 messages\n",
      "process as completed...\n",
      "[Telescope] delta Alt = +000.004 | delta Az= +000.033 [Dome] delta Az = -001.093\n",
      "Got False\n",
      "Telescope not in position\n",
      "[Telescope] delta Alt = +000.093 | delta Az= +144.792 [Dome] delta Az = +144.368\n",
      "[Telescope] delta Alt = +000.002 | delta Az= +140.810 [Dome] delta Az = +142.730\n",
      "[Telescope] delta Alt = +000.002 | delta Az= +136.813 [Dome] delta Az = +140.023\n",
      "[Telescope] delta Alt = +000.002 | delta Az= +132.816 [Dome] delta Az = +136.386\n",
      "[Telescope] delta Alt = +000.002 | delta Az= +128.818 [Dome] delta Az = +131.839\n",
      "[Telescope] delta Alt = +000.002 | delta Az= +124.822 [Dome] delta Az = +126.352\n",
      "[Telescope] delta Alt = +000.002 | delta Az= +120.824 [Dome] delta Az = +120.645\n",
      "[Telescope] delta Alt = +000.002 | delta Az= +116.827 [Dome] delta Az = +113.727\n",
      "[Telescope] delta Alt = +000.002 | delta Az= +112.830 [Dome] delta Az = +106.830\n",
      "[Telescope] delta Alt = +000.002 | delta Az= +108.832 [Dome] delta Az = +099.913\n",
      "[Telescope] delta Alt = +000.002 | delta Az= +104.835 [Dome] delta Az = +092.996\n",
      "[Telescope] delta Alt = +000.002 | delta Az= +100.839 [Dome] delta Az = +086.809\n",
      "[Telescope] delta Alt = +000.002 | delta Az= +096.841 [Dome] delta Az = +079.901\n",
      "[Telescope] delta Alt = +000.002 | delta Az= +092.844 [Dome] delta Az = +072.964\n",
      "[Telescope] delta Alt = +000.002 | delta Az= +088.847 [Dome] delta Az = +066.067\n",
      "[Telescope] delta Alt = +000.002 | delta Az= +084.850 [Dome] delta Az = +059.170\n",
      "[Telescope] delta Alt = +000.002 | delta Az= +080.853 [Dome] delta Az = +052.933\n",
      "[Telescope] delta Alt = +000.002 | delta Az= +076.856 [Dome] delta Az = +046.036\n",
      "[Telescope] delta Alt = +000.002 | delta Az= +072.858 [Dome] delta Az = +039.159\n",
      "[Telescope] delta Alt = +000.002 | delta Az= +068.862 [Dome] delta Az = +032.281\n",
      "[Telescope] delta Alt = +000.002 | delta Az= +064.864 [Dome] delta Az = +025.374\n",
      "[Telescope] delta Alt = +000.002 | delta Az= +060.867 [Dome] delta Az = +018.477\n",
      "[Telescope] delta Alt = +000.002 | delta Az= +056.871 [Dome] delta Az = +012.250\n",
      "[Telescope] delta Alt = +000.002 | delta Az= +052.873 [Dome] delta Az = +005.313\n",
      "Got True\n",
      "ATDome in position.\n",
      "[Telescope] delta Alt = +000.002 | delta Az= +048.876 [Dome] delta Az = -000.384\n",
      "[Telescope] delta Alt = +000.002 | delta Az= +044.879 [Dome] delta Az = -002.822\n",
      "[Telescope] delta Alt = +000.002 | delta Az= +040.881 [Dome] delta Az = -002.949\n",
      "[Telescope] delta Alt = +000.003 | delta Az= +036.884 [Dome] delta Az = -002.946\n",
      "[Telescope] delta Alt = +000.002 | delta Az= +032.888 [Dome] delta Az = -002.943\n",
      "[Telescope] delta Alt = +000.002 | delta Az= +028.891 [Dome] delta Az = -002.940\n",
      "[Telescope] delta Alt = +000.002 | delta Az= +024.912 [Dome] delta Az = -002.937\n",
      "[Telescope] delta Alt = +000.002 | delta Az= +020.997 [Dome] delta Az = -002.934\n",
      "[Telescope] delta Alt = +000.002 | delta Az= +017.208 [Dome] delta Az = -002.932\n",
      "[Telescope] delta Alt = +000.002 | delta Az= +013.630 [Dome] delta Az = -002.929\n",
      "[Telescope] delta Alt = +000.002 | delta Az= +010.348 [Dome] delta Az = -002.926\n",
      "[Telescope] delta Alt = +000.002 | delta Az= +007.442 [Dome] delta Az = -002.923\n",
      "[Telescope] delta Alt = +000.002 | delta Az= +004.987 [Dome] delta Az = -002.920\n",
      "[Telescope] delta Alt = +000.002 | delta Az= +003.030 [Dome] delta Az = -002.917\n",
      "[Telescope] delta Alt = +000.002 | delta Az= +001.595 [Dome] delta Az = -002.914\n",
      "[Telescope] delta Alt = +000.002 | delta Az= +000.663 [Dome] delta Az = -002.911\n",
      "[Telescope] delta Alt = +000.002 | delta Az= +000.174 [Dome] delta Az = -002.909\n",
      "[Telescope] delta Alt = +000.002 | delta Az= +000.013 [Dome] delta Az = -002.906\n",
      "Got True\n",
      "Telescope in position.\n",
      "[None, 'Telescope in position.', 'ATDome in position.']\n",
      "Removing callback...\n"
     ]
    }
   ],
   "source": [
    "attcs.check.atdome = True\n",
    "await attcs.slew_icrs(ra=\"10 46 46.178770\", dec=\"-49 25 12.9244\", rot_pa=0., target_name=\"mu Vel\", slew_timeout=240)\n"
   ]
  },
  {
   "cell_type": "code",
   "execution_count": 295,
   "metadata": {},
   "outputs": [
    {
     "name": "stdout",
     "output_type": "stream",
     "text": [
      "RemoteTelemetry(ATDome, 0, position) falling behind; read 54 messages\n",
      "RemoteEvent(ATHexapod, 0, heartbeat) falling behind; read 11 messages\n",
      "RemoteTelemetry(ATPneumatics, 0, mainAirSourcePressure) falling behind; read 11 messages\n",
      "RemoteTelemetry(ATPneumatics, 0, m2AirPressure) falling behind; read 11 messages\n",
      "RemoteTelemetry(ATMCS, 0, trajectory) falling behind; read 11 messages\n",
      "RemoteTelemetry(ATHexapod, 0, positionStatus) falling behind; read 11 messages\n",
      "RemoteTelemetry(ATPneumatics, 0, m1AirPressure) falling behind; read 11 messages\n",
      "RemoteEvent(ATDome, 0, heartbeat) falling behind; read 11 messages\n",
      "RemoteTelemetry(ATPneumatics, 0, loadCell) falling behind; read 11 messages\n"
     ]
    },
    {
     "data": {
      "text/plain": [
       "<lsst.ts.salobj.ddsutil.ATPtg_ackcmd_2d655b72 at 0x7f3e98475400>"
      ]
     },
     "execution_count": 295,
     "metadata": {},
     "output_type": "execute_result"
    }
   ],
   "source": [
    "await attcs.atptg.cmd_offsetAzEl.set_start(el=-0.348*60.*60., \n",
    "                                           az=0.337*60.*60., \n",
    "                                           num=0)"
   ]
  },
  {
   "cell_type": "code",
   "execution_count": 296,
   "metadata": {},
   "outputs": [
    {
     "name": "stdout",
     "output_type": "stream",
     "text": [
      "RemoteTelemetry(ATDome, 0, position) falling behind; read 77 messages\n",
      "RemoteEvent(ATAOS, 0, m1CorrectionStarted) falling behind; read 11 messages\n",
      "RemoteTelemetry(ATPtg, 0, mountStatus) falling behind; read 80 messages\n",
      "RemoteEvent(ATHexapod, 0, heartbeat) falling behind; read 16 messages\n",
      "RemoteEvent(ATDome, 0, shutterInPosition) falling behind; read 35 messages\n",
      "RemoteEvent(ATAOS, 0, m1CorrectionCompleted) falling behind; read 11 messages\n",
      "RemoteTelemetry(ATPtg, 0, guidingAndOffsets) falling behind; read 81 messages\n",
      "RemoteTelemetry(ATMCS, 0, trajectory) falling behind; read 16 messages\n",
      "RemoteEvent(ATDome, 0, mainDoorState) falling behind; read 35 messages\n",
      "RemoteEvent(ATAOS, 0, heartbeat) falling behind; read 16 messages\n",
      "RemoteEvent(ATPneumatics, 0, m1SetPressure) falling behind; read 11 messages\n",
      "RemoteEvent(ATPneumatics, 0, heartbeat) falling behind; read 17 messages\n"
     ]
    },
    {
     "data": {
      "text/plain": [
       "<lsst.ts.salobj.ddsutil.ATPtg_ackcmd_2d655b72 at 0x7f3e8fbf11d0>"
      ]
     },
     "execution_count": 296,
     "metadata": {},
     "output_type": "execute_result"
    }
   ],
   "source": [
    "await attcs.atptg.cmd_pointNewFile.start()\n",
    "await asyncio.sleep(1.)\n",
    "await attcs.atptg.cmd_pointAddData.start()\n",
    "await asyncio.sleep(1.)\n",
    "await attcs.atptg.cmd_pointCloseFile.start()"
   ]
  },
  {
   "cell_type": "markdown",
   "metadata": {},
   "source": [
    "# alf Crux"
   ]
  },
  {
   "cell_type": "code",
   "execution_count": 296,
   "metadata": {},
   "outputs": [
    {
     "name": "stdout",
     "output_type": "stream",
     "text": [
      "RemoteEvent(ATMCS, 0, target) falling behind; read 100 messages\n",
      "RemoteEvent(ATPtg, 0, mountDataWarning) falling behind; read 48 messages\n",
      "RemoteEvent(ATHexapod, 0, heartbeat) falling behind; read 100 messages\n",
      "RemoteTelemetry(ATDome, 0, position) falling behind; read 100 messages\n",
      "RemoteEvent(ATAOS, 0, heartbeat) falling behind; read 100 messages\n",
      "RemoteTelemetry(ATPneumatics, 0, loadCell) falling behind; read 100 messages\n",
      "RemoteTelemetry(ATPtg, 0, timeAndDate) falling behind; read 100 messages\n",
      "RemoteEvent(ATAOS, 0, m1CorrectionStarted) falling behind; read 100 messages\n",
      "RemoteTelemetry(ATMCS, 0, trajectory) falling behind; read 100 messages\n",
      "RemoteTelemetry(ATPtg, 0, skyEnvironment) falling behind; read 38 messages\n",
      "RemoteEvent(ATAOS, 0, m1CorrectionCompleted) falling behind; read 100 messages\n",
      "RemoteTelemetry(ATMCS, 0, torqueDemand) falling behind; read 100 messages\n",
      "RemoteTelemetry(ATPneumatics, 0, mainAirSourcePressure) falling behind; read 100 messages\n",
      "RemoteTelemetry(ATHexapod, 0, positionStatus) falling behind; read 100 messages\n",
      "Flushing events\n",
      "Scheduling check coroutines\n",
      "Sending command\n",
      "RemoteTelemetry(ATPtg, 0, mountStatus) falling behind; read 100 messages\n",
      "RemoteEvent(ATAOS, 0, detailedState) falling behind; read 100 messages\n",
      "RemoteTelemetry(ATMCS, 0, nasymth_m3_mountMotorEncoders) falling behind; read 100 messages\n",
      "RemoteTelemetry(ATPneumatics, 0, m2AirPressure) falling behind; read 100 messages\n",
      "RemoteEvent(ATDome, 0, shutterInPosition) falling behind; read 100 messages\n",
      "RemoteTelemetry(ATPtg, 0, guidingAndOffsets) falling behind; read 100 messages\n",
      "RemoteTelemetry(ATMCS, 0, mount_Nasmyth_Encoders) falling behind; read 100 messages\n",
      "RemoteTelemetry(ATPneumatics, 0, m1AirPressure) falling behind; read 100 messages\n",
      "RemoteEvent(ATDome, 0, mainDoorState) falling behind; read 100 messages\n",
      "Got False\n",
      "ATDome not in position\n",
      "RemoteTelemetry(ATPtg, 0, currentTimesToLimits) falling behind; read 38 messages\n",
      "RemoteTelemetry(ATMCS, 0, mount_AzEl_Encoders) falling behind; read 100 messages\n",
      "RemoteEvent(ATPneumatics, 0, m1SetPressure) falling behind; read 100 messages\n",
      "RemoteEvent(ATDome, 0, heartbeat) falling behind; read 100 messages\n",
      "RemoteTelemetry(ATPtg, 0, currentTargetStatus) falling behind; read 100 messages\n",
      "RemoteTelemetry(ATMCS, 0, measuredTorque) falling behind; read 100 messages\n",
      "RemoteEvent(ATPneumatics, 0, heartbeat) falling behind; read 100 messages\n",
      "RemoteEvent(ATPtg, 0, weatherDataApplied) falling behind; read 19 messages\n",
      "RemoteTelemetry(ATMCS, 0, measuredMotorVelocity) falling behind; read 100 messages\n",
      "RemoteTelemetry(ATMCS, 0, azEl_mountMotorEncoders) falling behind; read 100 messages\n",
      "RemoteEvent(ATMCS, 0, heartbeat) falling behind; read 100 messages\n",
      "process as completed...\n",
      "Got False\n",
      "Telescope not in position\n",
      "[Telescope] delta Alt = +000.044 | delta Az= -000.073 [Dome] delta Az = -003.089\n",
      "[Telescope] delta Alt = -015.686 | delta Az= +013.122 [Dome] delta Az = +010.121\n",
      "[Telescope] delta Alt = -013.308 | delta Az= +010.283 [Dome] delta Az = +007.882\n",
      "[Telescope] delta Alt = -009.721 | delta Az= +006.415 [Dome] delta Az = +004.713\n",
      "[Telescope] delta Alt = -005.782 | delta Az= +002.800 [Dome] delta Az = +002.744\n",
      "[Telescope] delta Alt = -002.475 | delta Az= +000.579 [Dome] delta Az = +001.595\n",
      "[Telescope] delta Alt = -000.534 | delta Az= +000.002 [Dome] delta Az = +000.556\n",
      "[Telescope] delta Alt = -000.004 | delta Az= +000.001 [Dome] delta Az = +000.247\n",
      "[Telescope] delta Alt = +000.002 | delta Az= +000.000 [Dome] delta Az = +000.247\n",
      "[Telescope] delta Alt = +000.002 | delta Az= +000.000 [Dome] delta Az = +000.248\n",
      "[Telescope] delta Alt = +000.002 | delta Az= +000.000 [Dome] delta Az = +000.249\n",
      "[Telescope] delta Alt = +000.002 | delta Az= +000.000 [Dome] delta Az = +000.250\n",
      "[Telescope] delta Alt = +000.002 | delta Az= +000.000 [Dome] delta Az = +000.251\n",
      "[Telescope] delta Alt = +000.002 | delta Az= +000.000 [Dome] delta Az = +000.252\n",
      "[Telescope] delta Alt = +000.002 | delta Az= +000.000 [Dome] delta Az = +000.252\n",
      "[Telescope] delta Alt = +000.002 | delta Az= +000.000 [Dome] delta Az = +000.253\n",
      "[Telescope] delta Alt = +000.002 | delta Az= +000.000 [Dome] delta Az = +000.254\n",
      "[Telescope] delta Alt = +000.002 | delta Az= +000.000 [Dome] delta Az = +000.255\n",
      "[Telescope] delta Alt = +000.002 | delta Az= +000.000 [Dome] delta Az = +000.256\n",
      "[Telescope] delta Alt = +000.002 | delta Az= +000.000 [Dome] delta Az = +000.257\n",
      "[Telescope] delta Alt = +000.002 | delta Az= +000.000 [Dome] delta Az = +000.258\n",
      "[Telescope] delta Alt = +000.002 | delta Az= +000.000 [Dome] delta Az = +000.258\n",
      "[Telescope] delta Alt = +000.002 | delta Az= +000.000 [Dome] delta Az = +000.259\n",
      "[Telescope] delta Alt = +000.002 | delta Az= +000.000 [Dome] delta Az = +000.260\n",
      "[Telescope] delta Alt = +000.002 | delta Az= +000.000 [Dome] delta Az = +000.261\n",
      "[Telescope] delta Alt = +000.002 | delta Az= +000.000 [Dome] delta Az = +000.262\n",
      "[Telescope] delta Alt = +000.002 | delta Az= +000.000 [Dome] delta Az = +000.263\n",
      "[Telescope] delta Alt = +000.002 | delta Az= +000.000 [Dome] delta Az = +000.264\n",
      "[Telescope] delta Alt = +000.002 | delta Az= +000.000 [Dome] delta Az = +000.264\n",
      "[Telescope] delta Alt = +000.002 | delta Az= +000.000 [Dome] delta Az = +000.265\n",
      "[Telescope] delta Alt = +000.002 | delta Az= +000.000 [Dome] delta Az = +000.266\n",
      "Got True\n",
      "Telescope in position.\n",
      "[Telescope] delta Alt = +000.002 | delta Az= +000.000 [Dome] delta Az = +000.267\n",
      "[Telescope] delta Alt = +000.002 | delta Az= +000.000 [Dome] delta Az = +000.268\n",
      "[Telescope] delta Alt = +000.002 | delta Az= +000.000 [Dome] delta Az = +000.269\n",
      "[Telescope] delta Alt = +000.002 | delta Az= +000.000 [Dome] delta Az = +000.270\n",
      "[Telescope] delta Alt = +000.002 | delta Az= +000.000 [Dome] delta Az = +000.270\n",
      "[Telescope] delta Alt = +000.002 | delta Az= +000.000 [Dome] delta Az = +000.271\n",
      "[Telescope] delta Alt = +000.002 | delta Az= +000.000 [Dome] delta Az = +000.272\n",
      "[Telescope] delta Alt = +000.002 | delta Az= +000.000 [Dome] delta Az = +000.273\n",
      "[Telescope] delta Alt = +000.002 | delta Az= +000.000 [Dome] delta Az = +000.274\n",
      "[Telescope] delta Alt = +000.002 | delta Az= +000.000 [Dome] delta Az = +000.275\n",
      "[Telescope] delta Alt = +000.002 | delta Az= +000.000 [Dome] delta Az = +000.276\n",
      "[Telescope] delta Alt = +000.002 | delta Az= +000.000 [Dome] delta Az = +000.277\n",
      "[Telescope] delta Alt = +000.002 | delta Az= +000.000 [Dome] delta Az = +000.277\n"
     ]
    },
    {
     "ename": "KeyboardInterrupt",
     "evalue": "",
     "output_type": "error",
     "traceback": [
      "\u001b[0;31m\u001b[0m",
      "\u001b[0;31mKeyboardInterrupt\u001b[0mTraceback (most recent call last)",
      "\u001b[0;32m/opt/lsst/software/stack/python/miniconda3-4.5.12/envs/lsst-scipipe-4d7b902/lib/python3.7/site-packages/IPython/core/async_helpers.py\u001b[0m in \u001b[0;36m__call__\u001b[0;34m(self, coro)\u001b[0m\n\u001b[1;32m     26\u001b[0m         \u001b[0;32mimport\u001b[0m \u001b[0masyncio\u001b[0m\u001b[0;34m\u001b[0m\u001b[0;34m\u001b[0m\u001b[0m\n\u001b[1;32m     27\u001b[0m \u001b[0;34m\u001b[0m\u001b[0m\n\u001b[0;32m---> 28\u001b[0;31m         \u001b[0;32mreturn\u001b[0m \u001b[0masyncio\u001b[0m\u001b[0;34m.\u001b[0m\u001b[0mget_event_loop\u001b[0m\u001b[0;34m(\u001b[0m\u001b[0;34m)\u001b[0m\u001b[0;34m.\u001b[0m\u001b[0mrun_until_complete\u001b[0m\u001b[0;34m(\u001b[0m\u001b[0mcoro\u001b[0m\u001b[0;34m)\u001b[0m\u001b[0;34m\u001b[0m\u001b[0;34m\u001b[0m\u001b[0m\n\u001b[0m\u001b[1;32m     29\u001b[0m \u001b[0;34m\u001b[0m\u001b[0m\n\u001b[1;32m     30\u001b[0m     \u001b[0;32mdef\u001b[0m \u001b[0m__str__\u001b[0m\u001b[0;34m(\u001b[0m\u001b[0mself\u001b[0m\u001b[0;34m)\u001b[0m\u001b[0;34m:\u001b[0m\u001b[0;34m\u001b[0m\u001b[0;34m\u001b[0m\u001b[0m\n",
      "\u001b[0;32m/opt/lsst/software/stack/python/miniconda3-4.5.12/envs/lsst-scipipe-4d7b902/lib/python3.7/asyncio/base_events.py\u001b[0m in \u001b[0;36mrun_until_complete\u001b[0;34m(self, future)\u001b[0m\n\u001b[1;32m    569\u001b[0m         \u001b[0mfuture\u001b[0m\u001b[0;34m.\u001b[0m\u001b[0madd_done_callback\u001b[0m\u001b[0;34m(\u001b[0m\u001b[0m_run_until_complete_cb\u001b[0m\u001b[0;34m)\u001b[0m\u001b[0;34m\u001b[0m\u001b[0;34m\u001b[0m\u001b[0m\n\u001b[1;32m    570\u001b[0m         \u001b[0;32mtry\u001b[0m\u001b[0;34m:\u001b[0m\u001b[0;34m\u001b[0m\u001b[0;34m\u001b[0m\u001b[0m\n\u001b[0;32m--> 571\u001b[0;31m             \u001b[0mself\u001b[0m\u001b[0;34m.\u001b[0m\u001b[0mrun_forever\u001b[0m\u001b[0;34m(\u001b[0m\u001b[0;34m)\u001b[0m\u001b[0;34m\u001b[0m\u001b[0;34m\u001b[0m\u001b[0m\n\u001b[0m\u001b[1;32m    572\u001b[0m         \u001b[0;32mexcept\u001b[0m\u001b[0;34m:\u001b[0m\u001b[0;34m\u001b[0m\u001b[0;34m\u001b[0m\u001b[0m\n\u001b[1;32m    573\u001b[0m             \u001b[0;32mif\u001b[0m \u001b[0mnew_task\u001b[0m \u001b[0;32mand\u001b[0m \u001b[0mfuture\u001b[0m\u001b[0;34m.\u001b[0m\u001b[0mdone\u001b[0m\u001b[0;34m(\u001b[0m\u001b[0;34m)\u001b[0m \u001b[0;32mand\u001b[0m \u001b[0;32mnot\u001b[0m \u001b[0mfuture\u001b[0m\u001b[0;34m.\u001b[0m\u001b[0mcancelled\u001b[0m\u001b[0;34m(\u001b[0m\u001b[0;34m)\u001b[0m\u001b[0;34m:\u001b[0m\u001b[0;34m\u001b[0m\u001b[0;34m\u001b[0m\u001b[0m\n",
      "\u001b[0;32m/opt/lsst/software/stack/python/miniconda3-4.5.12/envs/lsst-scipipe-4d7b902/lib/python3.7/asyncio/base_events.py\u001b[0m in \u001b[0;36mrun_forever\u001b[0;34m(self)\u001b[0m\n\u001b[1;32m    537\u001b[0m             \u001b[0mevents\u001b[0m\u001b[0;34m.\u001b[0m\u001b[0m_set_running_loop\u001b[0m\u001b[0;34m(\u001b[0m\u001b[0mself\u001b[0m\u001b[0;34m)\u001b[0m\u001b[0;34m\u001b[0m\u001b[0;34m\u001b[0m\u001b[0m\n\u001b[1;32m    538\u001b[0m             \u001b[0;32mwhile\u001b[0m \u001b[0;32mTrue\u001b[0m\u001b[0;34m:\u001b[0m\u001b[0;34m\u001b[0m\u001b[0;34m\u001b[0m\u001b[0m\n\u001b[0;32m--> 539\u001b[0;31m                 \u001b[0mself\u001b[0m\u001b[0;34m.\u001b[0m\u001b[0m_run_once\u001b[0m\u001b[0;34m(\u001b[0m\u001b[0;34m)\u001b[0m\u001b[0;34m\u001b[0m\u001b[0;34m\u001b[0m\u001b[0m\n\u001b[0m\u001b[1;32m    540\u001b[0m                 \u001b[0;32mif\u001b[0m \u001b[0mself\u001b[0m\u001b[0;34m.\u001b[0m\u001b[0m_stopping\u001b[0m\u001b[0;34m:\u001b[0m\u001b[0;34m\u001b[0m\u001b[0;34m\u001b[0m\u001b[0m\n\u001b[1;32m    541\u001b[0m                     \u001b[0;32mbreak\u001b[0m\u001b[0;34m\u001b[0m\u001b[0;34m\u001b[0m\u001b[0m\n",
      "\u001b[0;32m/opt/lsst/software/stack/python/miniconda3-4.5.12/envs/lsst-scipipe-4d7b902/lib/python3.7/asyncio/base_events.py\u001b[0m in \u001b[0;36m_run_once\u001b[0;34m(self)\u001b[0m\n\u001b[1;32m   1737\u001b[0m                            timeout * 1e3, dt * 1e3)\n\u001b[1;32m   1738\u001b[0m         \u001b[0;32melse\u001b[0m\u001b[0;34m:\u001b[0m\u001b[0;34m\u001b[0m\u001b[0;34m\u001b[0m\u001b[0m\n\u001b[0;32m-> 1739\u001b[0;31m             \u001b[0mevent_list\u001b[0m \u001b[0;34m=\u001b[0m \u001b[0mself\u001b[0m\u001b[0;34m.\u001b[0m\u001b[0m_selector\u001b[0m\u001b[0;34m.\u001b[0m\u001b[0mselect\u001b[0m\u001b[0;34m(\u001b[0m\u001b[0mtimeout\u001b[0m\u001b[0;34m)\u001b[0m\u001b[0;34m\u001b[0m\u001b[0;34m\u001b[0m\u001b[0m\n\u001b[0m\u001b[1;32m   1740\u001b[0m         \u001b[0mself\u001b[0m\u001b[0;34m.\u001b[0m\u001b[0m_process_events\u001b[0m\u001b[0;34m(\u001b[0m\u001b[0mevent_list\u001b[0m\u001b[0;34m)\u001b[0m\u001b[0;34m\u001b[0m\u001b[0;34m\u001b[0m\u001b[0m\n\u001b[1;32m   1741\u001b[0m \u001b[0;34m\u001b[0m\u001b[0m\n",
      "\u001b[0;32m/opt/lsst/software/stack/python/miniconda3-4.5.12/envs/lsst-scipipe-4d7b902/lib/python3.7/selectors.py\u001b[0m in \u001b[0;36mselect\u001b[0;34m(self, timeout)\u001b[0m\n\u001b[1;32m    466\u001b[0m             \u001b[0mready\u001b[0m \u001b[0;34m=\u001b[0m \u001b[0;34m[\u001b[0m\u001b[0;34m]\u001b[0m\u001b[0;34m\u001b[0m\u001b[0;34m\u001b[0m\u001b[0m\n\u001b[1;32m    467\u001b[0m             \u001b[0;32mtry\u001b[0m\u001b[0;34m:\u001b[0m\u001b[0;34m\u001b[0m\u001b[0;34m\u001b[0m\u001b[0m\n\u001b[0;32m--> 468\u001b[0;31m                 \u001b[0mfd_event_list\u001b[0m \u001b[0;34m=\u001b[0m \u001b[0mself\u001b[0m\u001b[0;34m.\u001b[0m\u001b[0m_selector\u001b[0m\u001b[0;34m.\u001b[0m\u001b[0mpoll\u001b[0m\u001b[0;34m(\u001b[0m\u001b[0mtimeout\u001b[0m\u001b[0;34m,\u001b[0m \u001b[0mmax_ev\u001b[0m\u001b[0;34m)\u001b[0m\u001b[0;34m\u001b[0m\u001b[0;34m\u001b[0m\u001b[0m\n\u001b[0m\u001b[1;32m    469\u001b[0m             \u001b[0;32mexcept\u001b[0m \u001b[0mInterruptedError\u001b[0m\u001b[0;34m:\u001b[0m\u001b[0;34m\u001b[0m\u001b[0;34m\u001b[0m\u001b[0m\n\u001b[1;32m    470\u001b[0m                 \u001b[0;32mreturn\u001b[0m \u001b[0mready\u001b[0m\u001b[0;34m\u001b[0m\u001b[0;34m\u001b[0m\u001b[0m\n",
      "\u001b[0;31mKeyboardInterrupt\u001b[0m: "
     ]
    }
   ],
   "source": [
    "attcs.check.atdome = True\n",
    "await attcs.slew_icrs(ra=\"12 26 35.896\", dec=\"-63 05 56.73\", rot_pa=90., target_name=\"alf Crux\", slew_timeout=240)"
   ]
  },
  {
   "cell_type": "code",
   "execution_count": 314,
   "metadata": {},
   "outputs": [
    {
     "name": "stdout",
     "output_type": "stream",
     "text": [
      "RemoteTelemetry(ATDome, 0, position) falling behind; read 34 messages\n",
      "RemoteTelemetry(ATPtg, 0, guidingAndOffsets) falling behind; read 37 messages\n",
      "RemoteEvent(ATAOS, 0, detailedState) falling behind; read 10 messages\n"
     ]
    },
    {
     "data": {
      "text/plain": [
       "<lsst.ts.salobj.ddsutil.ATPtg_ackcmd_2d655b72 at 0x7f3e815c7080>"
      ]
     },
     "execution_count": 314,
     "metadata": {},
     "output_type": "execute_result"
    }
   ],
   "source": [
    "await attcs.atptg.cmd_offsetAzEl.set_start(el=-0.370*60.*60., \n",
    "                                           az=0.475*60.*60., \n",
    "                                           num=0)"
   ]
  },
  {
   "cell_type": "code",
   "execution_count": 315,
   "metadata": {},
   "outputs": [
    {
     "name": "stdout",
     "output_type": "stream",
     "text": [
      "RemoteTelemetry(ATHexapod, 0, positionStatus) falling behind; read 18 messages\n",
      "RemoteEvent(ATAOS, 0, m1CorrectionStarted) falling behind; read 12 messages\n",
      "RemoteTelemetry(ATDome, 0, position) falling behind; read 89 messages\n",
      "RemoteEvent(ATHexapod, 0, heartbeat) falling behind; read 18 messages\n",
      "RemoteEvent(ATAOS, 0, heartbeat) falling behind; read 18 messages\n",
      "RemoteEvent(ATDome, 0, shutterInPosition) falling behind; read 38 messages\n",
      "RemoteTelemetry(ATMCS, 0, trajectory) falling behind; read 19 messages\n",
      "RemoteTelemetry(ATMCS, 0, torqueDemand) falling behind; read 19 messages\n",
      "RemoteTelemetry(ATMCS, 0, nasymth_m3_mountMotorEncoders) falling behind; read 19 messages\n",
      "RemoteTelemetry(ATPneumatics, 0, loadCell) falling behind; read 18 messages\n",
      "RemoteTelemetry(ATMCS, 0, mount_Nasmyth_Encoders) falling behind; read 19 messages\n",
      "RemoteTelemetry(ATMCS, 0, mount_AzEl_Encoders) falling behind; read 19 messages\n"
     ]
    },
    {
     "data": {
      "text/plain": [
       "<lsst.ts.salobj.ddsutil.ATPtg_ackcmd_2d655b72 at 0x7f3e8fe3ccc0>"
      ]
     },
     "execution_count": 315,
     "metadata": {},
     "output_type": "execute_result"
    }
   ],
   "source": [
    "await attcs.atptg.cmd_pointNewFile.start()\n",
    "await asyncio.sleep(1.)\n",
    "await attcs.atptg.cmd_pointAddData.start()\n",
    "await asyncio.sleep(1.)\n",
    "await attcs.atptg.cmd_pointCloseFile.start()"
   ]
  },
  {
   "cell_type": "markdown",
   "metadata": {},
   "source": [
    "# Procyon"
   ]
  },
  {
   "cell_type": "code",
   "execution_count": 316,
   "metadata": {},
   "outputs": [
    {
     "name": "stdout",
     "output_type": "stream",
     "text": [
      "RemoteEvent(ATMCS, 0, target) falling behind; read 100 messages\n",
      "RemoteTelemetry(ATDome, 0, position) falling behind; read 100 messages\n",
      "RemoteEvent(ATAOS, 0, detailedState) falling behind; read 100 messages\n",
      "RemoteTelemetry(ATPtg, 0, currentTargetStatus) falling behind; read 100 messages\n",
      "RemoteEvent(ATPneumatics, 0, m1SetPressure) falling behind; read 100 messages\n",
      "RemoteEvent(ATHexapod, 0, heartbeat) falling behind; read 100 messages\n",
      "RemoteTelemetry(ATMCS, 0, trajectory) falling behind; read 100 messages\n",
      "RemoteTelemetry(ATMCS, 0, torqueDemand) falling behind; read 100 messages\n",
      "RemoteTelemetry(ATPneumatics, 0, mainAirSourcePressure) falling behind; read 100 messages\n",
      "RemoteEvent(ATAOS, 0, m1CorrectionStarted) falling behind; read 100 messages\n",
      "RemoteTelemetry(ATPtg, 0, timeAndDate) falling behind; read 100 messages\n",
      "RemoteTelemetry(ATHexapod, 0, positionStatus) falling behind; read 100 messages\n",
      "RemoteTelemetry(ATMCS, 0, nasymth_m3_mountMotorEncoders) falling behind; read 100 messages\n",
      "RemoteTelemetry(ATPneumatics, 0, m2AirPressure) falling behind; read 100 messages\n",
      "RemoteEvent(ATAOS, 0, m1CorrectionCompleted) falling behind; read 100 messages\n",
      "RemoteTelemetry(ATPtg, 0, skyEnvironment) falling behind; read 60 messages\n",
      "RemoteEvent(ATDome, 0, shutterInPosition) falling behind; read 100 messages\n",
      "RemoteTelemetry(ATMCS, 0, mount_Nasmyth_Encoders) falling behind; read 100 messages\n",
      "RemoteTelemetry(ATPneumatics, 0, m1AirPressure) falling behind; read 100 messages\n",
      "RemoteEvent(ATAOS, 0, heartbeat) falling behind; read 100 messages\n",
      "Flushing events\n",
      "Scheduling check coroutines\n",
      "Sending command\n",
      "RemoteTelemetry(ATPtg, 0, mountStatus) falling behind; read 100 messages\n",
      "RemoteEvent(ATDome, 0, mainDoorState) falling behind; read 100 messages\n",
      "RemoteTelemetry(ATMCS, 0, mount_AzEl_Encoders) falling behind; read 100 messages\n",
      "RemoteTelemetry(ATPneumatics, 0, loadCell) falling behind; read 100 messages\n",
      "RemoteTelemetry(ATPtg, 0, guidingAndOffsets) falling behind; read 100 messages\n",
      "RemoteEvent(ATDome, 0, heartbeat) falling behind; read 100 messages\n",
      "RemoteTelemetry(ATMCS, 0, measuredTorque) falling behind; read 100 messages\n",
      "RemoteEvent(ATPneumatics, 0, heartbeat) falling behind; read 100 messages\n",
      "RemoteTelemetry(ATPtg, 0, currentTimesToLimits) falling behind; read 60 messages\n",
      "RemoteTelemetry(ATMCS, 0, measuredMotorVelocity) falling behind; read 100 messages\n",
      "RemoteTelemetry(ATMCS, 0, azEl_mountMotorEncoders) falling behind; read 100 messages\n",
      "RemoteEvent(ATPtg, 0, weatherDataApplied) falling behind; read 30 messages\n",
      "RemoteEvent(ATPtg, 0, mountDataWarning) falling behind; read 100 messages\n",
      "RemoteEvent(ATMCS, 0, heartbeat) falling behind; read 100 messages\n",
      "process as completed...\n",
      "[Telescope] delta Alt = -000.009 | delta Az= +000.005 [Dome] delta Az = +000.203\n",
      "Got False\n",
      "Telescope not in position\n",
      "[Telescope] delta Alt = +011.560 | delta Az= -167.773 [Dome] delta Az = -168.946\n",
      "[Telescope] delta Alt = +008.871 | delta Az= -163.790 [Dome] delta Az = -166.979\n",
      "[Telescope] delta Alt = +004.995 | delta Az= -159.803 [Dome] delta Az = -164.082\n",
      "[Telescope] delta Alt = +001.647 | delta Az= -155.815 [Dome] delta Az = -160.685\n",
      "[Telescope] delta Alt = +000.121 | delta Az= -151.829 [Dome] delta Az = -156.048\n",
      "[Telescope] delta Alt = -000.002 | delta Az= -147.842 [Dome] delta Az = -150.481\n",
      "[Telescope] delta Alt = -000.001 | delta Az= -143.855 [Dome] delta Az = -144.034\n",
      "[Telescope] delta Alt = -000.001 | delta Az= -139.868 [Dome] delta Az = -137.126\n",
      "[Telescope] delta Alt = -000.001 | delta Az= -135.880 [Dome] delta Az = -130.220\n",
      "[Telescope] delta Alt = -000.001 | delta Az= -131.894 [Dome] delta Az = -123.972\n",
      "[Telescope] delta Alt = -000.001 | delta Az= -127.907 [Dome] delta Az = -117.075\n",
      "[Telescope] delta Alt = -000.001 | delta Az= -123.918 [Dome] delta Az = -110.198\n",
      "[Telescope] delta Alt = -000.001 | delta Az= -119.933 [Dome] delta Az = -103.271\n",
      "[Telescope] delta Alt = -000.001 | delta Az= -115.946 [Dome] delta Az = -096.334\n",
      "[Telescope] delta Alt = -000.001 | delta Az= -111.957 [Dome] delta Az = -090.127\n",
      "[Telescope] delta Alt = -000.001 | delta Az= -107.972 [Dome] delta Az = -083.250\n",
      "[Telescope] delta Alt = -000.001 | delta Az= -103.984 [Dome] delta Az = -076.323\n",
      "[Telescope] delta Alt = -000.001 | delta Az= -099.996 [Dome] delta Az = -069.426\n",
      "[Telescope] delta Alt = -000.001 | delta Az= -096.011 [Dome] delta Az = -062.529\n",
      "[Telescope] delta Alt = -000.001 | delta Az= -092.023 [Dome] delta Az = -056.272\n",
      "[Telescope] delta Alt = -000.001 | delta Az= -088.035 [Dome] delta Az = -049.405\n",
      "[Telescope] delta Alt = -000.001 | delta Az= -084.050 [Dome] delta Az = -042.478\n",
      "[Telescope] delta Alt = -000.001 | delta Az= -080.061 [Dome] delta Az = -035.581\n",
      "[Telescope] delta Alt = -000.001 | delta Az= -076.075 [Dome] delta Az = -028.674\n",
      "[Telescope] delta Alt = -000.001 | delta Az= -072.088 [Dome] delta Az = -022.457\n",
      "[Telescope] delta Alt = -000.001 | delta Az= -068.098 [Dome] delta Az = -015.519\n",
      "[Telescope] delta Alt = -000.001 | delta Az= -064.114 [Dome] delta Az = -008.622\n",
      "Got True\n",
      "ATDome in position.\n",
      "[Telescope] delta Alt = -000.001 | delta Az= -060.127 [Dome] delta Az = -001.996\n",
      "[Telescope] delta Alt = -000.001 | delta Az= -056.137 [Dome] delta Az = +001.552\n",
      "[Telescope] delta Alt = -000.001 | delta Az= -052.153 [Dome] delta Az = +002.548\n",
      "[Telescope] delta Alt = -000.001 | delta Az= -048.165 [Dome] delta Az = +002.535\n",
      "[Telescope] delta Alt = -000.001 | delta Az= -044.177 [Dome] delta Az = +002.522\n",
      "[Telescope] delta Alt = -000.001 | delta Az= -040.192 [Dome] delta Az = +002.510\n",
      "[Telescope] delta Alt = -000.001 | delta Az= -036.204 [Dome] delta Az = +002.497\n",
      "[Telescope] delta Alt = -000.001 | delta Az= -032.216 [Dome] delta Az = +002.484\n",
      "[Telescope] delta Alt = -000.001 | delta Az= -028.232 [Dome] delta Az = +002.471\n",
      "[Telescope] delta Alt = -000.001 | delta Az= -024.269 [Dome] delta Az = +002.458\n",
      "[Telescope] delta Alt = -000.001 | delta Az= -020.375 [Dome] delta Az = +002.445\n",
      "[Telescope] delta Alt = -000.001 | delta Az= -016.623 [Dome] delta Az = +002.432\n",
      "[Telescope] delta Alt = -000.001 | delta Az= -013.090 [Dome] delta Az = +002.419\n",
      "[Telescope] delta Alt = -000.001 | delta Az= -009.867 [Dome] delta Az = +002.406\n",
      "[Telescope] delta Alt = -000.001 | delta Az= -007.032 [Dome] delta Az = +002.394\n",
      "[Telescope] delta Alt = -000.001 | delta Az= -004.654 [Dome] delta Az = +002.381\n",
      "[Telescope] delta Alt = -000.001 | delta Az= -002.779 [Dome] delta Az = +002.368\n",
      "[Telescope] delta Alt = -000.001 | delta Az= -001.424 [Dome] delta Az = +002.355\n",
      "[Telescope] delta Alt = -000.001 | delta Az= -000.565 [Dome] delta Az = +002.342\n",
      "[Telescope] delta Alt = -000.001 | delta Az= -000.136 [Dome] delta Az = +002.329\n",
      "[Telescope] delta Alt = -000.001 | delta Az= -000.011 [Dome] delta Az = +002.316\n",
      "Got True\n",
      "Telescope in position.\n",
      "[None, 'Telescope in position.', 'ATDome in position.']\n",
      "Removing callback...\n"
     ]
    }
   ],
   "source": [
    "attcs.check.atdome = True\n",
    "await attcs.slew_icrs(ra=\"7:39:18.12\", dec=\"+5:13:0.0\", rot_pa=-90., target_name=\"Procyon\", slew_timeout=240)\n"
   ]
  },
  {
   "cell_type": "code",
   "execution_count": 346,
   "metadata": {},
   "outputs": [
    {
     "name": "stdout",
     "output_type": "stream",
     "text": [
      "RemoteTelemetry(ATDome, 0, position) falling behind; read 32 messages\n",
      "RemoteEvent(ATAOS, 0, detailedState) falling behind; read 10 messages\n",
      "RemoteTelemetry(ATPtg, 0, timeAndDate) falling behind; read 33 messages\n"
     ]
    },
    {
     "data": {
      "text/plain": [
       "<lsst.ts.salobj.ddsutil.ATPtg_ackcmd_2d655b72 at 0x7f3e8114c390>"
      ]
     },
     "execution_count": 346,
     "metadata": {},
     "output_type": "execute_result"
    }
   ],
   "source": [
    "await attcs.atptg.cmd_offsetAzEl.set_start(el=-0.410*60.*60., \n",
    "                                           az=0.445*60.*60., \n",
    "                                           num=0)"
   ]
  },
  {
   "cell_type": "code",
   "execution_count": 347,
   "metadata": {},
   "outputs": [
    {
     "name": "stdout",
     "output_type": "stream",
     "text": [
      "RemoteTelemetry(ATDome, 0, position) falling behind; read 72 messages\n",
      "RemoteEvent(ATHexapod, 0, heartbeat) falling behind; read 15 messages\n",
      "RemoteTelemetry(ATPneumatics, 0, loadCell) falling behind; read 15 messages\n",
      "RemoteEvent(ATAOS, 0, m1CorrectionStarted) falling behind; read 10 messages\n",
      "RemoteTelemetry(ATHexapod, 0, positionStatus) falling behind; read 14 messages\n",
      "RemoteEvent(ATAOS, 0, m1CorrectionCompleted) falling behind; read 10 messages\n",
      "RemoteEvent(ATDome, 0, shutterInPosition) falling behind; read 35 messages\n",
      "RemoteTelemetry(ATPneumatics, 0, mainAirSourcePressure) falling behind; read 15 messages\n",
      "RemoteTelemetry(ATPtg, 0, mountStatus) falling behind; read 76 messages\n",
      "RemoteEvent(ATAOS, 0, heartbeat) falling behind; read 15 messages\n",
      "RemoteEvent(ATDome, 0, mainDoorState) falling behind; read 35 messages\n",
      "RemoteTelemetry(ATPneumatics, 0, m2AirPressure) falling behind; read 15 messages\n",
      "RemoteTelemetry(ATPneumatics, 0, m1AirPressure) falling behind; read 15 messages\n",
      "RemoteEvent(ATPneumatics, 0, heartbeat) falling behind; read 15 messages\n",
      "RemoteEvent(ATMCS, 0, heartbeat) falling behind; read 15 messages\n"
     ]
    },
    {
     "data": {
      "text/plain": [
       "<lsst.ts.salobj.ddsutil.ATPtg_ackcmd_2d655b72 at 0x7f3e98831630>"
      ]
     },
     "execution_count": 347,
     "metadata": {},
     "output_type": "execute_result"
    }
   ],
   "source": [
    "await attcs.atptg.cmd_pointNewFile.start()\n",
    "await asyncio.sleep(1.)\n",
    "await attcs.atptg.cmd_pointAddData.start()\n",
    "await asyncio.sleep(1.)\n",
    "await attcs.atptg.cmd_pointCloseFile.start()"
   ]
  },
  {
   "cell_type": "code",
   "execution_count": null,
   "metadata": {},
   "outputs": [],
   "source": []
  },
  {
   "cell_type": "code",
   "execution_count": null,
   "metadata": {},
   "outputs": [],
   "source": []
  },
  {
   "cell_type": "code",
   "execution_count": null,
   "metadata": {},
   "outputs": [],
   "source": []
  },
  {
   "cell_type": "markdown",
   "metadata": {},
   "source": [
    "# Sirius"
   ]
  },
  {
   "cell_type": "code",
   "execution_count": 348,
   "metadata": {},
   "outputs": [
    {
     "name": "stdout",
     "output_type": "stream",
     "text": [
      "RemoteEvent(ATMCS, 0, target) falling behind; read 100 messages\n",
      "RemoteTelemetry(ATPtg, 0, timeAndDate) falling behind; read 70 messages\n",
      "RemoteTelemetry(ATDome, 0, position) falling behind; read 68 messages\n",
      "RemoteEvent(ATAOS, 0, heartbeat) falling behind; read 14 messages\n",
      "RemoteTelemetry(ATHexapod, 0, positionStatus) falling behind; read 14 messages\n",
      "RemoteEvent(ATPneumatics, 0, m1SetPressure) falling behind; read 10 messages\n",
      "Flushing events\n",
      "Scheduling check coroutines\n",
      "Sending command\n",
      "RemoteTelemetry(ATMCS, 0, trajectory) falling behind; read 14 messages\n",
      "RemoteTelemetry(ATPneumatics, 0, mainAirSourcePressure) falling behind; read 14 messages\n",
      "RemoteEvent(ATAOS, 0, m1CorrectionStarted) falling behind; read 10 messages\n",
      "RemoteEvent(ATHexapod, 0, heartbeat) falling behind; read 14 messages\n",
      "Got False\n",
      "ATDome not in position\n",
      "RemoteTelemetry(ATPtg, 0, mountStatus) falling behind; read 71 messages\n",
      "RemoteEvent(ATDome, 0, shutterInPosition) falling behind; read 30 messages\n",
      "RemoteTelemetry(ATMCS, 0, torqueDemand) falling behind; read 14 messages\n",
      "RemoteTelemetry(ATPneumatics, 0, m2AirPressure) falling behind; read 14 messages\n",
      "RemoteEvent(ATAOS, 0, m1CorrectionCompleted) falling behind; read 10 messages\n",
      "RemoteTelemetry(ATPtg, 0, guidingAndOffsets) falling behind; read 72 messages\n",
      "RemoteEvent(ATDome, 0, mainDoorState) falling behind; read 30 messages\n",
      "RemoteTelemetry(ATMCS, 0, nasymth_m3_mountMotorEncoders) falling behind; read 15 messages\n",
      "RemoteTelemetry(ATPneumatics, 0, m1AirPressure) falling behind; read 14 messages\n",
      "RemoteEvent(ATAOS, 0, detailedState) falling behind; read 20 messages\n",
      "RemoteEvent(ATDome, 0, heartbeat) falling behind; read 14 messages\n",
      "RemoteTelemetry(ATMCS, 0, mount_Nasmyth_Encoders) falling behind; read 15 messages\n",
      "RemoteTelemetry(ATPneumatics, 0, loadCell) falling behind; read 14 messages\n",
      "RemoteTelemetry(ATPtg, 0, currentTargetStatus) falling behind; read 73 messages\n",
      "RemoteTelemetry(ATMCS, 0, mount_AzEl_Encoders) falling behind; read 15 messages\n",
      "RemoteEvent(ATPneumatics, 0, heartbeat) falling behind; read 14 messages\n",
      "RemoteTelemetry(ATMCS, 0, measuredTorque) falling behind; read 15 messages\n",
      "RemoteEvent(ATPtg, 0, mountDataWarning) falling behind; read 10 messages\n",
      "RemoteTelemetry(ATMCS, 0, measuredMotorVelocity) falling behind; read 15 messages\n",
      "RemoteTelemetry(ATMCS, 0, azEl_mountMotorEncoders) falling behind; read 15 messages\n",
      "RemoteEvent(ATMCS, 0, heartbeat) falling behind; read 14 messages\n",
      "process as completed...\n",
      "atmcs not enabled: <State.FAULT: 3>\n",
      "RuntimeError, cancel_not_done.\n"
     ]
    },
    {
     "ename": "RuntimeError",
     "evalue": "atmcs state is <State.FAULT: 3>",
     "output_type": "error",
     "traceback": [
      "\u001b[0;31m\u001b[0m",
      "\u001b[0;31mRuntimeError\u001b[0mTraceback (most recent call last)",
      "\u001b[0;32m<ipython-input-348-b2526964f855>\u001b[0m in \u001b[0;36masync-def-wrapper\u001b[0;34m()\u001b[0m\n\u001b[1;32m      3\u001b[0m \u001b[0;34m\u001b[0m\u001b[0m\n",
      "\u001b[0;32m~/repos/ts_standardscripts/python/lsst/ts/standardscripts/auxtel/attcs.py\u001b[0m in \u001b[0;36mslew_icrs\u001b[0;34m(self, ra, dec, rot_sky, rot_pa, target_name, slew_timeout)\u001b[0m\n\u001b[1;32m    217\u001b[0m                         \u001b[0mrot_frame\u001b[0m\u001b[0;34m=\u001b[0m\u001b[0mATPtg\u001b[0m\u001b[0;34m.\u001b[0m\u001b[0mRotFrame\u001b[0m\u001b[0;34m.\u001b[0m\u001b[0mTARGET\u001b[0m\u001b[0;34m,\u001b[0m\u001b[0;34m\u001b[0m\u001b[0;34m\u001b[0m\u001b[0m\n\u001b[1;32m    218\u001b[0m                         \u001b[0mrot_mode\u001b[0m\u001b[0;34m=\u001b[0m\u001b[0mATPtg\u001b[0m\u001b[0;34m.\u001b[0m\u001b[0mRotMode\u001b[0m\u001b[0;34m.\u001b[0m\u001b[0mFIELD\u001b[0m\u001b[0;34m,\u001b[0m\u001b[0;34m\u001b[0m\u001b[0;34m\u001b[0m\u001b[0m\n\u001b[0;32m--> 219\u001b[0;31m                         slew_timeout=slew_timeout)\n\u001b[0m\u001b[1;32m    220\u001b[0m \u001b[0;34m\u001b[0m\u001b[0m\n\u001b[1;32m    221\u001b[0m     async def slew(self, ra, dec, rotPA=0., target_name=\"slew_icrs\",\n",
      "\u001b[0;32m~/repos/ts_standardscripts/python/lsst/ts/standardscripts/auxtel/attcs.py\u001b[0m in \u001b[0;36mslew\u001b[0;34m(self, ra, dec, rotPA, target_name, target_instance, frame, epoch, equinox, parallax, pmRA, pmDec, rv, dRA, dDec, rot_frame, rot_mode, slew_timeout)\u001b[0m\n\u001b[1;32m    262\u001b[0m \u001b[0;34m\u001b[0m\u001b[0m\n\u001b[1;32m    263\u001b[0m         await self._slew_to(self.atptg.cmd_raDecTarget,\n\u001b[0;32m--> 264\u001b[0;31m                             slew_timeout=slew_timeout)\n\u001b[0m\u001b[1;32m    265\u001b[0m \u001b[0;34m\u001b[0m\u001b[0m\n\u001b[1;32m    266\u001b[0m     \u001b[0;32masync\u001b[0m \u001b[0;32mdef\u001b[0m \u001b[0mslew_to_planet\u001b[0m\u001b[0;34m(\u001b[0m\u001b[0mself\u001b[0m\u001b[0;34m,\u001b[0m \u001b[0mplanet\u001b[0m\u001b[0;34m,\u001b[0m \u001b[0mrot_pa\u001b[0m\u001b[0;34m=\u001b[0m\u001b[0;36m0.\u001b[0m\u001b[0;34m,\u001b[0m \u001b[0mslew_timeout\u001b[0m\u001b[0;34m=\u001b[0m\u001b[0;36m1200.\u001b[0m\u001b[0;34m)\u001b[0m\u001b[0;34m:\u001b[0m\u001b[0;34m\u001b[0m\u001b[0;34m\u001b[0m\u001b[0m\n",
      "\u001b[0;32m~/repos/ts_standardscripts/python/lsst/ts/standardscripts/auxtel/attcs.py\u001b[0m in \u001b[0;36m_slew_to\u001b[0;34m(self, slew_cmd, slew_timeout)\u001b[0m\n\u001b[1;32m    703\u001b[0m                 \u001b[0mself\u001b[0m\u001b[0;34m.\u001b[0m\u001b[0mlog\u001b[0m\u001b[0;34m.\u001b[0m\u001b[0mwarning\u001b[0m\u001b[0;34m(\u001b[0m\u001b[0;34m\"RuntimeError, cancel_not_done.\"\u001b[0m\u001b[0;34m)\u001b[0m\u001b[0;34m\u001b[0m\u001b[0;34m\u001b[0m\u001b[0m\n\u001b[1;32m    704\u001b[0m                 \u001b[0;32mawait\u001b[0m \u001b[0mself\u001b[0m\u001b[0;34m.\u001b[0m\u001b[0mcancel_not_done\u001b[0m\u001b[0;34m(\u001b[0m\u001b[0mcoro_list\u001b[0m\u001b[0;34m)\u001b[0m\u001b[0;34m\u001b[0m\u001b[0;34m\u001b[0m\u001b[0m\n\u001b[0;32m--> 705\u001b[0;31m                 \u001b[0;32mraise\u001b[0m \u001b[0mrte\u001b[0m\u001b[0;34m\u001b[0m\u001b[0;34m\u001b[0m\u001b[0m\n\u001b[0m\u001b[1;32m    706\u001b[0m             \u001b[0;32melse\u001b[0m\u001b[0;34m:\u001b[0m\u001b[0;34m\u001b[0m\u001b[0;34m\u001b[0m\u001b[0m\n\u001b[1;32m    707\u001b[0m                 \u001b[0;32mbreak\u001b[0m\u001b[0;34m\u001b[0m\u001b[0;34m\u001b[0m\u001b[0m\n",
      "\u001b[0;32m~/repos/ts_standardscripts/python/lsst/ts/standardscripts/auxtel/attcs.py\u001b[0m in \u001b[0;36m_slew_to\u001b[0;34m(self, slew_cmd, slew_timeout)\u001b[0m\n\u001b[1;32m    698\u001b[0m         \u001b[0;32mfor\u001b[0m \u001b[0mres\u001b[0m \u001b[0;32min\u001b[0m \u001b[0masyncio\u001b[0m\u001b[0;34m.\u001b[0m\u001b[0mas_completed\u001b[0m\u001b[0;34m(\u001b[0m\u001b[0mcoro_list\u001b[0m\u001b[0;34m)\u001b[0m\u001b[0;34m:\u001b[0m\u001b[0;34m\u001b[0m\u001b[0;34m\u001b[0m\u001b[0m\n\u001b[1;32m    699\u001b[0m             \u001b[0;32mtry\u001b[0m\u001b[0;34m:\u001b[0m\u001b[0;34m\u001b[0m\u001b[0;34m\u001b[0m\u001b[0m\n\u001b[0;32m--> 700\u001b[0;31m                 \u001b[0mret_val\u001b[0m \u001b[0;34m=\u001b[0m \u001b[0;32mawait\u001b[0m \u001b[0mres\u001b[0m\u001b[0;34m\u001b[0m\u001b[0;34m\u001b[0m\u001b[0m\n\u001b[0m\u001b[1;32m    701\u001b[0m                 \u001b[0mself\u001b[0m\u001b[0;34m.\u001b[0m\u001b[0mlog\u001b[0m\u001b[0;34m.\u001b[0m\u001b[0mdebug\u001b[0m\u001b[0;34m(\u001b[0m\u001b[0mret_val\u001b[0m\u001b[0;34m)\u001b[0m\u001b[0;34m\u001b[0m\u001b[0;34m\u001b[0m\u001b[0m\n\u001b[1;32m    702\u001b[0m             \u001b[0;32mexcept\u001b[0m \u001b[0mRuntimeError\u001b[0m \u001b[0;32mas\u001b[0m \u001b[0mrte\u001b[0m\u001b[0;34m:\u001b[0m\u001b[0;34m\u001b[0m\u001b[0;34m\u001b[0m\u001b[0m\n",
      "\u001b[0;32m/opt/lsst/software/stack/python/miniconda3-4.5.12/envs/lsst-scipipe-4d7b902/lib/python3.7/asyncio/tasks.py\u001b[0m in \u001b[0;36m_wait_for_one\u001b[0;34m()\u001b[0m\n\u001b[1;32m    531\u001b[0m             \u001b[0;31m# Dummy value from _on_timeout().\u001b[0m\u001b[0;34m\u001b[0m\u001b[0;34m\u001b[0m\u001b[0;34m\u001b[0m\u001b[0m\n\u001b[1;32m    532\u001b[0m             \u001b[0;32mraise\u001b[0m \u001b[0mfutures\u001b[0m\u001b[0;34m.\u001b[0m\u001b[0mTimeoutError\u001b[0m\u001b[0;34m\u001b[0m\u001b[0;34m\u001b[0m\u001b[0m\n\u001b[0;32m--> 533\u001b[0;31m         \u001b[0;32mreturn\u001b[0m \u001b[0mf\u001b[0m\u001b[0;34m.\u001b[0m\u001b[0mresult\u001b[0m\u001b[0;34m(\u001b[0m\u001b[0;34m)\u001b[0m  \u001b[0;31m# May raise f.exception().\u001b[0m\u001b[0;34m\u001b[0m\u001b[0;34m\u001b[0m\u001b[0m\n\u001b[0m\u001b[1;32m    534\u001b[0m \u001b[0;34m\u001b[0m\u001b[0m\n\u001b[1;32m    535\u001b[0m     \u001b[0;32mfor\u001b[0m \u001b[0mf\u001b[0m \u001b[0;32min\u001b[0m \u001b[0mtodo\u001b[0m\u001b[0;34m:\u001b[0m\u001b[0;34m\u001b[0m\u001b[0;34m\u001b[0m\u001b[0m\n",
      "\u001b[0;32m~/repos/ts_standardscripts/python/lsst/ts/standardscripts/auxtel/attcs.py\u001b[0m in \u001b[0;36mcheck_component_state\u001b[0;34m(self, component)\u001b[0m\n\u001b[1;32m    744\u001b[0m             \u001b[0;32mif\u001b[0m \u001b[0mstate\u001b[0m \u001b[0;34m!=\u001b[0m \u001b[0msalobj\u001b[0m\u001b[0;34m.\u001b[0m\u001b[0mState\u001b[0m\u001b[0;34m.\u001b[0m\u001b[0mENABLED\u001b[0m\u001b[0;34m:\u001b[0m\u001b[0;34m\u001b[0m\u001b[0;34m\u001b[0m\u001b[0m\n\u001b[1;32m    745\u001b[0m                 \u001b[0mself\u001b[0m\u001b[0;34m.\u001b[0m\u001b[0mlog\u001b[0m\u001b[0;34m.\u001b[0m\u001b[0mwarning\u001b[0m\u001b[0;34m(\u001b[0m\u001b[0;34mf\"{component} not enabled: {state!r}\"\u001b[0m\u001b[0;34m)\u001b[0m\u001b[0;34m\u001b[0m\u001b[0;34m\u001b[0m\u001b[0m\n\u001b[0;32m--> 746\u001b[0;31m                 \u001b[0;32mraise\u001b[0m \u001b[0mRuntimeError\u001b[0m\u001b[0;34m(\u001b[0m\u001b[0;34mf\"{component} state is {state!r}\"\u001b[0m\u001b[0;34m)\u001b[0m\u001b[0;34m\u001b[0m\u001b[0;34m\u001b[0m\u001b[0m\n\u001b[0m\u001b[1;32m    747\u001b[0m             \u001b[0;32melse\u001b[0m\u001b[0;34m:\u001b[0m\u001b[0;34m\u001b[0m\u001b[0;34m\u001b[0m\u001b[0m\n\u001b[1;32m    748\u001b[0m                 \u001b[0mself\u001b[0m\u001b[0;34m.\u001b[0m\u001b[0mlog\u001b[0m\u001b[0;34m.\u001b[0m\u001b[0mdebug\u001b[0m\u001b[0;34m(\u001b[0m\u001b[0;34mf\"{component}: {state!r}\"\u001b[0m\u001b[0;34m)\u001b[0m\u001b[0;34m\u001b[0m\u001b[0;34m\u001b[0m\u001b[0m\n",
      "\u001b[0;31mRuntimeError\u001b[0m: atmcs state is <State.FAULT: 3>"
     ]
    }
   ],
   "source": [
    "attcs.check.atdome = True\n",
    "await attcs.slew_icrs(ra=\"6 45 08.92\", dec=\"-16 42 58.0\", rot_pa=0., target_name=\"Sirius\", slew_timeout=240)\n",
    "\n"
   ]
  },
  {
   "cell_type": "code",
   "execution_count": 354,
   "metadata": {},
   "outputs": [
    {
     "name": "stdout",
     "output_type": "stream",
     "text": [
      "RemoteTelemetry(ATPtg, 0, currentTargetStatus) falling behind; read 100 messages\n",
      "RemoteEvent(ATAOS, 0, heartbeat) falling behind; read 32 messages\n",
      "RemoteTelemetry(ATDome, 0, position) falling behind; read 100 messages\n",
      "Task exception was never retrieved\n",
      "future: <Task finished coro=<ATTCS.wait_for_inposition() done, defined at /home/saluser/repos/ts_standardscripts/python/lsst/ts/standardscripts/auxtel/attcs.py:760> exception=TimeoutError()>\n",
      "Traceback (most recent call last):\n",
      "  File \"/home/saluser/repos/ts_standardscripts/python/lsst/ts/standardscripts/auxtel/attcs.py\", line 782, in wait_for_inposition\n",
      "    status = await asyncio.gather(*wait_tasks)\n",
      "  File \"/home/saluser/repos/ts_standardscripts/python/lsst/ts/standardscripts/auxtel/attcs.py\", line 845, in wait_for_atdome_inposition\n",
      "    timeout=timeout)\n",
      "  File \"/home/saluser/repos/ts_salobj/python/lsst/ts/salobj/topics/read_topic.py\", line 391, in next\n",
      "    return await self._next(timeout=timeout)\n",
      "  File \"/home/saluser/repos/ts_salobj/python/lsst/ts/salobj/topics/read_topic.py\", line 404, in _next\n",
      "    await asyncio.wait_for(self._next_task, timeout=timeout)\n",
      "  File \"/opt/lsst/software/stack/python/miniconda3-4.5.12/envs/lsst-scipipe-4d7b902/lib/python3.7/asyncio/tasks.py\", line 423, in wait_for\n",
      "    raise futures.TimeoutError()\n",
      "concurrent.futures._base.TimeoutError\n",
      "RemoteEvent(ATMCS, 0, heartbeat) falling behind; read 32 messages\n",
      "RemoteEvent(ATPneumatics, 0, heartbeat) falling behind; read 32 messages\n",
      "RemoteEvent(ATHexapod, 0, heartbeat) falling behind; read 32 messages\n",
      "RemoteTelemetry(ATPneumatics, 0, mainAirSourcePressure) falling behind; read 32 messages\n",
      "RemoteTelemetry(ATPtg, 0, timeAndDate) falling behind; read 100 messages\n",
      "RemoteTelemetry(ATMCS, 0, trajectory) falling behind; read 32 messages\n",
      "RemoteEvent(ATDome, 0, shutterInPosition) falling behind; read 67 messages\n",
      "RemoteTelemetry(ATPneumatics, 0, m2AirPressure) falling behind; read 33 messages\n",
      "RemoteTelemetry(ATMCS, 0, torqueDemand) falling behind; read 32 messages\n",
      "RemoteTelemetry(ATHexapod, 0, positionStatus) falling behind; read 32 messages\n",
      "RemoteEvent(ATDome, 0, mainDoorState) falling behind; read 67 messages\n",
      "RemoteTelemetry(ATPneumatics, 0, m1AirPressure) falling behind; read 33 messages\n",
      "RemoteTelemetry(ATPtg, 0, mountStatus) falling behind; read 100 messages\n",
      "RemoteTelemetry(ATMCS, 0, nasymth_m3_mountMotorEncoders) falling behind; read 32 messages\n",
      "RemoteEvent(ATDome, 0, heartbeat) falling behind; read 33 messages\n",
      "RemoteTelemetry(ATPneumatics, 0, loadCell) falling behind; read 33 messages\n",
      "RemoteTelemetry(ATPtg, 0, guidingAndOffsets) falling behind; read 100 messages\n",
      "RemoteTelemetry(ATMCS, 0, mount_Nasmyth_Encoders) falling behind; read 33 messages\n",
      "RemoteTelemetry(ATMCS, 0, mount_AzEl_Encoders) falling behind; read 33 messages\n",
      "RemoteTelemetry(ATMCS, 0, measuredTorque) falling behind; read 33 messages\n",
      "RemoteTelemetry(ATMCS, 0, measuredMotorVelocity) falling behind; read 33 messages\n",
      "RemoteTelemetry(ATMCS, 0, azEl_mountMotorEncoders) falling behind; read 33 messages\n"
     ]
    },
    {
     "data": {
      "text/plain": [
       "<lsst.ts.salobj.ddsutil.ATPneumatics_ackcmd_5f8ca45f at 0x7f3e986d8358>"
      ]
     },
     "execution_count": 354,
     "metadata": {},
     "output_type": "execute_result"
    }
   ],
   "source": [
    "await attcs.atpneumatics.cmd_openM1Cover.start()"
   ]
  },
  {
   "cell_type": "code",
   "execution_count": 355,
   "metadata": {},
   "outputs": [
    {
     "name": "stdout",
     "output_type": "stream",
     "text": [
      "RemoteEvent(ATAOS, 0, heartbeat) falling behind; read 12 messages\n",
      "RemoteEvent(ATHexapod, 0, heartbeat) falling behind; read 13 messages\n",
      "Disabling ATAOS corrections\n",
      "Close telescope cover.\n",
      "Disable ATDomeTrajectory\n"
     ]
    },
    {
     "ename": "RuntimeError",
     "evalue": "Error on cmd=cmd_disable, initial_state=2",
     "output_type": "error",
     "traceback": [
      "\u001b[0;31m\u001b[0m",
      "\u001b[0;31mTimeoutError\u001b[0mTraceback (most recent call last)",
      "\u001b[0;32m~/repos/ts_salobj/python/lsst/ts/salobj/topics/remote_command.py\u001b[0m in \u001b[0;36mnext_ackcmd\u001b[0;34m(self, timeout)\u001b[0m\n\u001b[1;32m    161\u001b[0m             \u001b[0mself\u001b[0m\u001b[0;34m.\u001b[0m\u001b[0m_wait_task\u001b[0m \u001b[0;34m=\u001b[0m \u001b[0masyncio\u001b[0m\u001b[0;34m.\u001b[0m\u001b[0mensure_future\u001b[0m\u001b[0;34m(\u001b[0m\u001b[0masyncio\u001b[0m\u001b[0;34m.\u001b[0m\u001b[0mwait_for\u001b[0m\u001b[0;34m(\u001b[0m\u001b[0mself\u001b[0m\u001b[0;34m.\u001b[0m\u001b[0m_basic_next_ack\u001b[0m\u001b[0;34m(\u001b[0m\u001b[0;34m)\u001b[0m\u001b[0;34m,\u001b[0m \u001b[0mtimeout\u001b[0m\u001b[0;34m=\u001b[0m\u001b[0mtimeout\u001b[0m\u001b[0;34m)\u001b[0m\u001b[0;34m)\u001b[0m\u001b[0;34m\u001b[0m\u001b[0;34m\u001b[0m\u001b[0m\n\u001b[0;32m--> 162\u001b[0;31m             \u001b[0mackcmd\u001b[0m \u001b[0;34m=\u001b[0m \u001b[0;32mawait\u001b[0m \u001b[0mself\u001b[0m\u001b[0;34m.\u001b[0m\u001b[0m_wait_task\u001b[0m\u001b[0;34m\u001b[0m\u001b[0;34m\u001b[0m\u001b[0m\n\u001b[0m\u001b[1;32m    163\u001b[0m             \u001b[0;31m# print(f\"next_ackcmd got {ackcmd.ack} from _basic_next_ack\")\u001b[0m\u001b[0;34m\u001b[0m\u001b[0;34m\u001b[0m\u001b[0;34m\u001b[0m\u001b[0m\n",
      "\u001b[0;32m/opt/lsst/software/stack/python/miniconda3-4.5.12/envs/lsst-scipipe-4d7b902/lib/python3.7/asyncio/tasks.py\u001b[0m in \u001b[0;36mwait_for\u001b[0;34m(fut, timeout, loop)\u001b[0m\n\u001b[1;32m    422\u001b[0m             \u001b[0;32mawait\u001b[0m \u001b[0m_cancel_and_wait\u001b[0m\u001b[0;34m(\u001b[0m\u001b[0mfut\u001b[0m\u001b[0;34m,\u001b[0m \u001b[0mloop\u001b[0m\u001b[0;34m=\u001b[0m\u001b[0mloop\u001b[0m\u001b[0;34m)\u001b[0m\u001b[0;34m\u001b[0m\u001b[0;34m\u001b[0m\u001b[0m\n\u001b[0;32m--> 423\u001b[0;31m             \u001b[0;32mraise\u001b[0m \u001b[0mfutures\u001b[0m\u001b[0;34m.\u001b[0m\u001b[0mTimeoutError\u001b[0m\u001b[0;34m(\u001b[0m\u001b[0;34m)\u001b[0m\u001b[0;34m\u001b[0m\u001b[0;34m\u001b[0m\u001b[0m\n\u001b[0m\u001b[1;32m    424\u001b[0m     \u001b[0;32mfinally\u001b[0m\u001b[0;34m:\u001b[0m\u001b[0;34m\u001b[0m\u001b[0;34m\u001b[0m\u001b[0m\n",
      "\u001b[0;31mTimeoutError\u001b[0m: ",
      "\nDuring handling of the above exception, another exception occurred:\n",
      "\u001b[0;31mAckTimeoutError\u001b[0mTraceback (most recent call last)",
      "\u001b[0;32m~/repos/ts_salobj/python/lsst/ts/salobj/csc_utils.py\u001b[0m in \u001b[0;36mset_summary_state\u001b[0;34m(remote, state, settingsToApply, timeout)\u001b[0m\n\u001b[1;32m    131\u001b[0m             \u001b[0;32mtry\u001b[0m\u001b[0;34m:\u001b[0m\u001b[0;34m\u001b[0m\u001b[0;34m\u001b[0m\u001b[0m\n\u001b[0;32m--> 132\u001b[0;31m                 \u001b[0;32mawait\u001b[0m \u001b[0mcmd\u001b[0m\u001b[0;34m.\u001b[0m\u001b[0mstart\u001b[0m\u001b[0;34m(\u001b[0m\u001b[0mtimeout\u001b[0m\u001b[0;34m=\u001b[0m\u001b[0mtimeout\u001b[0m\u001b[0;34m)\u001b[0m\u001b[0;34m\u001b[0m\u001b[0;34m\u001b[0m\u001b[0m\n\u001b[0m\u001b[1;32m    133\u001b[0m             \u001b[0;32mexcept\u001b[0m \u001b[0mException\u001b[0m \u001b[0;32mas\u001b[0m \u001b[0me\u001b[0m\u001b[0;34m:\u001b[0m\u001b[0;34m\u001b[0m\u001b[0;34m\u001b[0m\u001b[0m\n",
      "\u001b[0;32m~/repos/ts_salobj/python/lsst/ts/salobj/topics/remote_command.py\u001b[0m in \u001b[0;36mstart\u001b[0;34m(self, data, timeout, wait_done)\u001b[0m\n\u001b[1;32m    361\u001b[0m         \u001b[0mself\u001b[0m\u001b[0;34m.\u001b[0m\u001b[0msalinfo\u001b[0m\u001b[0;34m.\u001b[0m\u001b[0m_running_cmds\u001b[0m\u001b[0;34m[\u001b[0m\u001b[0mseq_num\u001b[0m\u001b[0;34m]\u001b[0m \u001b[0;34m=\u001b[0m \u001b[0mcmd_info\u001b[0m\u001b[0;34m\u001b[0m\u001b[0;34m\u001b[0m\u001b[0m\n\u001b[0;32m--> 362\u001b[0;31m         \u001b[0;32mreturn\u001b[0m \u001b[0;32mawait\u001b[0m \u001b[0mcmd_info\u001b[0m\u001b[0;34m.\u001b[0m\u001b[0mnext_ackcmd\u001b[0m\u001b[0;34m(\u001b[0m\u001b[0mtimeout\u001b[0m\u001b[0;34m=\u001b[0m\u001b[0mtimeout\u001b[0m\u001b[0;34m)\u001b[0m\u001b[0;34m\u001b[0m\u001b[0;34m\u001b[0m\u001b[0m\n\u001b[0m",
      "\u001b[0;32m~/repos/ts_salobj/python/lsst/ts/salobj/topics/remote_command.py\u001b[0m in \u001b[0;36mnext_ackcmd\u001b[0;34m(self, timeout)\u001b[0m\n\u001b[1;32m    177\u001b[0m             raise base.AckTimeoutError(msg=\"Timed out waiting for command acknowledgement\",\n\u001b[0;32m--> 178\u001b[0;31m                                        ackcmd=last_ackcmd)\n\u001b[0m\u001b[1;32m    179\u001b[0m \u001b[0;34m\u001b[0m\u001b[0m\n",
      "\u001b[0;31mAckTimeoutError\u001b[0m: msg='Timed out waiting for command acknowledgement', ackcmd=(ackcmd private_seqNum=362471126, ack=<SalRetCode.CMD_NOACK: -301>, error=0, result='No command acknowledgement seen')",
      "\nThe above exception was the direct cause of the following exception:\n",
      "\u001b[0;31mRuntimeError\u001b[0mTraceback (most recent call last)",
      "\u001b[0;32m<ipython-input-355-bc3a053b3ebe>\u001b[0m in \u001b[0;36masync-def-wrapper\u001b[0;34m()\u001b[0m\n",
      "\u001b[0;32m~/repos/ts_standardscripts/python/lsst/ts/standardscripts/auxtel/attcs.py\u001b[0m in \u001b[0;36mshutdown\u001b[0;34m(self)\u001b[0m\n\u001b[1;32m    502\u001b[0m \u001b[0;34m\u001b[0m\u001b[0m\n\u001b[1;32m    503\u001b[0m         await salobj.set_summary_state(self.atdometrajectory,\n\u001b[0;32m--> 504\u001b[0;31m                                        salobj.State.DISABLED)\n\u001b[0m\u001b[1;32m    505\u001b[0m \u001b[0;34m\u001b[0m\u001b[0m\n\u001b[1;32m    506\u001b[0m         \u001b[0mself\u001b[0m\u001b[0;34m.\u001b[0m\u001b[0mlog\u001b[0m\u001b[0;34m.\u001b[0m\u001b[0minfo\u001b[0m\u001b[0;34m(\u001b[0m\u001b[0;34m\"Close dome.\"\u001b[0m\u001b[0;34m)\u001b[0m\u001b[0;34m\u001b[0m\u001b[0;34m\u001b[0m\u001b[0m\n",
      "\u001b[0;32m~/repos/ts_salobj/python/lsst/ts/salobj/csc_utils.py\u001b[0m in \u001b[0;36mset_summary_state\u001b[0;34m(remote, state, settingsToApply, timeout)\u001b[0m\n\u001b[1;32m    132\u001b[0m                 \u001b[0;32mawait\u001b[0m \u001b[0mcmd\u001b[0m\u001b[0;34m.\u001b[0m\u001b[0mstart\u001b[0m\u001b[0;34m(\u001b[0m\u001b[0mtimeout\u001b[0m\u001b[0;34m=\u001b[0m\u001b[0mtimeout\u001b[0m\u001b[0;34m)\u001b[0m\u001b[0;34m\u001b[0m\u001b[0;34m\u001b[0m\u001b[0m\n\u001b[1;32m    133\u001b[0m             \u001b[0;32mexcept\u001b[0m \u001b[0mException\u001b[0m \u001b[0;32mas\u001b[0m \u001b[0me\u001b[0m\u001b[0;34m:\u001b[0m\u001b[0;34m\u001b[0m\u001b[0;34m\u001b[0m\u001b[0m\n\u001b[0;32m--> 134\u001b[0;31m                 \u001b[0;32mraise\u001b[0m \u001b[0mRuntimeError\u001b[0m\u001b[0;34m(\u001b[0m\u001b[0;34mf\"Error on cmd=cmd_{command}, initial_state={current_state}\"\u001b[0m\u001b[0;34m)\u001b[0m \u001b[0;32mfrom\u001b[0m \u001b[0me\u001b[0m\u001b[0;34m\u001b[0m\u001b[0;34m\u001b[0m\u001b[0m\n\u001b[0m\u001b[1;32m    135\u001b[0m             \u001b[0mstates\u001b[0m\u001b[0;34m.\u001b[0m\u001b[0mappend\u001b[0m\u001b[0;34m(\u001b[0m\u001b[0mstate\u001b[0m\u001b[0;34m)\u001b[0m\u001b[0;34m\u001b[0m\u001b[0;34m\u001b[0m\u001b[0m\n\u001b[1;32m    136\u001b[0m     \u001b[0;32mfinally\u001b[0m\u001b[0;34m:\u001b[0m\u001b[0;34m\u001b[0m\u001b[0;34m\u001b[0m\u001b[0m\n",
      "\u001b[0;31mRuntimeError\u001b[0m: Error on cmd=cmd_disable, initial_state=2"
     ]
    }
   ],
   "source": [
    "await asyncio.sleep(5)\n",
    "await attcs.shutdown()"
   ]
  },
  {
   "cell_type": "code",
   "execution_count": 356,
   "metadata": {},
   "outputs": [
    {
     "name": "stdout",
     "output_type": "stream",
     "text": [
      "RemoteTelemetry(ATDome, 0, position) falling behind; read 100 messages\n",
      "RemoteEvent(ATMCS, 0, heartbeat) falling behind; read 32 messages\n",
      "RemoteTelemetry(ATPneumatics, 0, loadCell) falling behind; read 32 messages\n",
      "RemoteEvent(ATAOS, 0, heartbeat) falling behind; read 32 messages\n",
      "RemoteTelemetry(ATPtg, 0, currentTargetStatus) falling behind; read 100 messages\n",
      "RemoteEvent(ATHexapod, 0, heartbeat) falling behind; read 32 messages\n",
      "RemoteEvent(ATDome, 0, shutterInPosition) falling behind; read 64 messages\n",
      "RemoteTelemetry(ATPtg, 0, timeAndDate) falling behind; read 100 messages\n",
      "RemoteTelemetry(ATHexapod, 0, positionStatus) falling behind; read 31 messages\n",
      "RemoteEvent(ATDome, 0, mainDoorState) falling behind; read 64 messages\n",
      "RemoteTelemetry(ATPneumatics, 0, mainAirSourcePressure) falling behind; read 32 messages\n",
      "RemoteTelemetry(ATMCS, 0, trajectory) falling behind; read 32 messages\n",
      "RemoteTelemetry(ATPtg, 0, mountStatus) falling behind; read 100 messages\n",
      "RemoteTelemetry(ATPneumatics, 0, m2AirPressure) falling behind; read 32 messages\n",
      "RemoteTelemetry(ATMCS, 0, torqueDemand) falling behind; read 32 messages\n",
      "RemoteEvent(ATDome, 0, heartbeat) falling behind; read 32 messages\n",
      "RemoteTelemetry(ATPtg, 0, guidingAndOffsets) falling behind; read 100 messages\n",
      "RemoteTelemetry(ATPneumatics, 0, m1AirPressure) falling behind; read 33 messages\n",
      "RemoteTelemetry(ATMCS, 0, nasymth_m3_mountMotorEncoders) falling behind; read 32 messages\n",
      "RemoteEvent(ATPneumatics, 0, heartbeat) falling behind; read 33 messages\n",
      "RemoteTelemetry(ATMCS, 0, mount_Nasmyth_Encoders) falling behind; read 32 messages\n",
      "RemoteTelemetry(ATMCS, 0, mount_AzEl_Encoders) falling behind; read 32 messages\n",
      "RemoteTelemetry(ATMCS, 0, measuredTorque) falling behind; read 32 messages\n",
      "RemoteTelemetry(ATMCS, 0, measuredMotorVelocity) falling behind; read 33 messages\n",
      "RemoteTelemetry(ATMCS, 0, azEl_mountMotorEncoders) falling behind; read 33 messages\n"
     ]
    },
    {
     "data": {
      "text/plain": [
       "<lsst.ts.salobj.ddsutil.ATDome_ackcmd_ff080bab at 0x7f3e986df9e8>"
      ]
     },
     "execution_count": 356,
     "metadata": {},
     "output_type": "execute_result"
    }
   ],
   "source": [
    "await attcs.atdome.cmd_closeShutter.start()"
   ]
  },
  {
   "cell_type": "code",
   "execution_count": 358,
   "metadata": {},
   "outputs": [
    {
     "name": "stdout",
     "output_type": "stream",
     "text": [
      "RemoteTelemetry(ATPtg, 0, timeAndDate) falling behind; read 100 messages\n",
      "RemoteTelemetry(ATPtg, 0, skyEnvironment) falling behind; read 13 messages\n",
      "RemoteTelemetry(ATPneumatics, 0, mainAirSourcePressure) falling behind; read 65 messages\n",
      "RemoteTelemetry(ATMCS, 0, trajectory) falling behind; read 65 messages\n",
      "RemoteTelemetry(ATPtg, 0, mountStatus) falling behind; read 100 messages\n",
      "RemoteTelemetry(ATPneumatics, 0, m2AirPressure) falling behind; read 66 messages\n",
      "RemoteEvent(ATHexapod, 0, heartbeat) falling behind; read 66 messages\n",
      "RemoteTelemetry(ATMCS, 0, torqueDemand) falling behind; read 65 messages\n",
      "RemoteEvent(ATDome, 0, shutterInPosition) falling behind; read 100 messages\n",
      "RemoteTelemetry(ATPtg, 0, guidingAndOffsets) falling behind; read 100 messages\n",
      "RemoteTelemetry(ATPneumatics, 0, m1AirPressure) falling behind; read 66 messages\n",
      "RemoteTelemetry(ATMCS, 0, nasymth_m3_mountMotorEncoders) falling behind; read 66 messages\n",
      "RemoteEvent(ATDome, 0, mainDoorState) falling behind; read 100 messages\n",
      "RemoteTelemetry(ATPtg, 0, currentTimesToLimits) falling behind; read 13 messages\n",
      "RemoteTelemetry(ATMCS, 0, mount_Nasmyth_Encoders) falling behind; read 66 messages\n",
      "RemoteEvent(ATPneumatics, 0, heartbeat) falling behind; read 67 messages\n",
      "RemoteTelemetry(ATMCS, 0, mount_AzEl_Encoders) falling behind; read 66 messages\n",
      "RemoteEvent(ATDome, 0, heartbeat) falling behind; read 67 messages\n",
      "RemoteTelemetry(ATMCS, 0, measuredTorque) falling behind; read 66 messages\n",
      "RemoteEvent(ATPtg, 0, mountDataWarning) falling behind; read 14 messages\n",
      "RemoteTelemetry(ATMCS, 0, measuredMotorVelocity) falling behind; read 66 messages\n",
      "RemoteTelemetry(ATMCS, 0, azEl_mountMotorEncoders) falling behind; read 67 messages\n"
     ]
    },
    {
     "data": {
      "text/plain": [
       "<lsst.ts.salobj.ddsutil.ATDome_ackcmd_ff080bab at 0x7f3e8129fdd8>"
      ]
     },
     "execution_count": 358,
     "metadata": {},
     "output_type": "execute_result"
    }
   ],
   "source": [
    "await attcs.atdome.cmd_moveAzimuth.set_start(azimuth=200)"
   ]
  },
  {
   "cell_type": "code",
   "execution_count": 361,
   "metadata": {},
   "outputs": [
    {
     "name": "stdout",
     "output_type": "stream",
     "text": [
      "RemoteTelemetry(ATMCS, 0, trajectory) falling behind; read 13 messages\n",
      "RemoteTelemetry(ATMCS, 0, torqueDemand) falling behind; read 13 messages\n",
      "RemoteEvent(ATAOS, 0, heartbeat) falling behind; read 13 messages\n",
      "RemoteTelemetry(ATPneumatics, 0, mainAirSourcePressure) falling behind; read 13 messages\n",
      "RemoteTelemetry(ATPtg, 0, timeAndDate) falling behind; read 66 messages\n",
      "RemoteTelemetry(ATMCS, 0, nasymth_m3_mountMotorEncoders) falling behind; read 13 messages\n",
      "RemoteTelemetry(ATPneumatics, 0, m2AirPressure) falling behind; read 13 messages\n",
      "RemoteEvent(ATHexapod, 0, heartbeat) falling behind; read 14 messages\n",
      "RemoteTelemetry(ATMCS, 0, mount_Nasmyth_Encoders) falling behind; read 14 messages\n",
      "RemoteEvent(ATDome, 0, heartbeat) falling behind; read 14 messages\n",
      "RemoteTelemetry(ATPneumatics, 0, m1AirPressure) falling behind; read 13 messages\n",
      "RemoteTelemetry(ATMCS, 0, mount_AzEl_Encoders) falling behind; read 14 messages\n",
      "RemoteTelemetry(ATPneumatics, 0, loadCell) falling behind; read 13 messages\n",
      "RemoteTelemetry(ATMCS, 0, measuredTorque) falling behind; read 14 messages\n",
      "RemoteTelemetry(ATMCS, 0, measuredMotorVelocity) falling behind; read 14 messages\n",
      "RemoteTelemetry(ATMCS, 0, azEl_mountMotorEncoders) falling behind; read 14 messages\n",
      "RemoteEvent(ATMCS, 0, heartbeat) falling behind; read 13 messages\n",
      "RemoteEvent(ATPneumatics, 0, heartbeat) falling behind; read 13 messages\n"
     ]
    },
    {
     "ename": "AckError",
     "evalue": "msg='Command failed', ackcmd=(ackcmd private_seqNum=169365441, ack=<SalRetCode.CMD_FAILED: -302>, error=6612, result='Rejected : command not allowed in current state')",
     "output_type": "error",
     "traceback": [
      "\u001b[0;31m\u001b[0m",
      "\u001b[0;31mAckError\u001b[0mTraceback (most recent call last)",
      "\u001b[0;32m<ipython-input-361-05505fca0ab9>\u001b[0m in \u001b[0;36masync-def-wrapper\u001b[0;34m()\u001b[0m\n",
      "\u001b[0;32m~/repos/ts_salobj/python/lsst/ts/salobj/topics/remote_command.py\u001b[0m in \u001b[0;36mset_start\u001b[0;34m(self, timeout, wait_done, **kwargs)\u001b[0m\n\u001b[1;32m    317\u001b[0m         \"\"\"\n\u001b[1;32m    318\u001b[0m         \u001b[0mself\u001b[0m\u001b[0;34m.\u001b[0m\u001b[0mset\u001b[0m\u001b[0;34m(\u001b[0m\u001b[0;34m**\u001b[0m\u001b[0mkwargs\u001b[0m\u001b[0;34m)\u001b[0m\u001b[0;34m\u001b[0m\u001b[0;34m\u001b[0m\u001b[0m\n\u001b[0;32m--> 319\u001b[0;31m         \u001b[0;32mreturn\u001b[0m \u001b[0;32mawait\u001b[0m \u001b[0mself\u001b[0m\u001b[0;34m.\u001b[0m\u001b[0mstart\u001b[0m\u001b[0;34m(\u001b[0m\u001b[0mtimeout\u001b[0m\u001b[0;34m=\u001b[0m\u001b[0mtimeout\u001b[0m\u001b[0;34m,\u001b[0m \u001b[0mwait_done\u001b[0m\u001b[0;34m=\u001b[0m\u001b[0mwait_done\u001b[0m\u001b[0;34m)\u001b[0m\u001b[0;34m\u001b[0m\u001b[0;34m\u001b[0m\u001b[0m\n\u001b[0m\u001b[1;32m    320\u001b[0m \u001b[0;34m\u001b[0m\u001b[0m\n\u001b[1;32m    321\u001b[0m     \u001b[0;32masync\u001b[0m \u001b[0;32mdef\u001b[0m \u001b[0mstart\u001b[0m\u001b[0;34m(\u001b[0m\u001b[0mself\u001b[0m\u001b[0;34m,\u001b[0m \u001b[0mdata\u001b[0m\u001b[0;34m=\u001b[0m\u001b[0;32mNone\u001b[0m\u001b[0;34m,\u001b[0m \u001b[0mtimeout\u001b[0m\u001b[0;34m=\u001b[0m\u001b[0mDEFAULT_TIMEOUT\u001b[0m\u001b[0;34m,\u001b[0m \u001b[0mwait_done\u001b[0m\u001b[0;34m=\u001b[0m\u001b[0;32mTrue\u001b[0m\u001b[0;34m)\u001b[0m\u001b[0;34m:\u001b[0m\u001b[0;34m\u001b[0m\u001b[0;34m\u001b[0m\u001b[0m\n",
      "\u001b[0;32m~/repos/ts_salobj/python/lsst/ts/salobj/topics/remote_command.py\u001b[0m in \u001b[0;36mstart\u001b[0;34m(self, data, timeout, wait_done)\u001b[0m\n\u001b[1;32m    360\u001b[0m         \u001b[0mcmd_info\u001b[0m \u001b[0;34m=\u001b[0m \u001b[0m_CommandInfo\u001b[0m\u001b[0;34m(\u001b[0m\u001b[0mremote_command\u001b[0m\u001b[0;34m=\u001b[0m\u001b[0mself\u001b[0m\u001b[0;34m,\u001b[0m \u001b[0mseq_num\u001b[0m\u001b[0;34m=\u001b[0m\u001b[0mseq_num\u001b[0m\u001b[0;34m,\u001b[0m \u001b[0mwait_done\u001b[0m\u001b[0;34m=\u001b[0m\u001b[0mwait_done\u001b[0m\u001b[0;34m)\u001b[0m\u001b[0;34m\u001b[0m\u001b[0;34m\u001b[0m\u001b[0m\n\u001b[1;32m    361\u001b[0m         \u001b[0mself\u001b[0m\u001b[0;34m.\u001b[0m\u001b[0msalinfo\u001b[0m\u001b[0;34m.\u001b[0m\u001b[0m_running_cmds\u001b[0m\u001b[0;34m[\u001b[0m\u001b[0mseq_num\u001b[0m\u001b[0;34m]\u001b[0m \u001b[0;34m=\u001b[0m \u001b[0mcmd_info\u001b[0m\u001b[0;34m\u001b[0m\u001b[0;34m\u001b[0m\u001b[0m\n\u001b[0;32m--> 362\u001b[0;31m         \u001b[0;32mreturn\u001b[0m \u001b[0;32mawait\u001b[0m \u001b[0mcmd_info\u001b[0m\u001b[0;34m.\u001b[0m\u001b[0mnext_ackcmd\u001b[0m\u001b[0;34m(\u001b[0m\u001b[0mtimeout\u001b[0m\u001b[0;34m=\u001b[0m\u001b[0mtimeout\u001b[0m\u001b[0;34m)\u001b[0m\u001b[0;34m\u001b[0m\u001b[0;34m\u001b[0m\u001b[0m\n\u001b[0m",
      "\u001b[0;32m~/repos/ts_salobj/python/lsst/ts/salobj/topics/remote_command.py\u001b[0m in \u001b[0;36mnext_ackcmd\u001b[0;34m(self, timeout)\u001b[0m\n\u001b[1;32m    163\u001b[0m             \u001b[0;31m# print(f\"next_ackcmd got {ackcmd.ack} from _basic_next_ack\")\u001b[0m\u001b[0;34m\u001b[0m\u001b[0;34m\u001b[0m\u001b[0;34m\u001b[0m\u001b[0m\n\u001b[1;32m    164\u001b[0m             \u001b[0;32mif\u001b[0m \u001b[0mackcmd\u001b[0m\u001b[0;34m.\u001b[0m\u001b[0mack\u001b[0m \u001b[0;32min\u001b[0m \u001b[0mself\u001b[0m\u001b[0;34m.\u001b[0m\u001b[0mfailed_ack_codes\u001b[0m\u001b[0;34m:\u001b[0m\u001b[0;34m\u001b[0m\u001b[0;34m\u001b[0m\u001b[0m\n\u001b[0;32m--> 165\u001b[0;31m                 \u001b[0;32mraise\u001b[0m \u001b[0mbase\u001b[0m\u001b[0;34m.\u001b[0m\u001b[0mAckError\u001b[0m\u001b[0;34m(\u001b[0m\u001b[0mmsg\u001b[0m\u001b[0;34m=\u001b[0m\u001b[0;34m\"Command failed\"\u001b[0m\u001b[0;34m,\u001b[0m \u001b[0mackcmd\u001b[0m\u001b[0;34m=\u001b[0m\u001b[0mackcmd\u001b[0m\u001b[0;34m)\u001b[0m\u001b[0;34m\u001b[0m\u001b[0;34m\u001b[0m\u001b[0m\n\u001b[0m\u001b[1;32m    166\u001b[0m             \u001b[0;32mreturn\u001b[0m \u001b[0mackcmd\u001b[0m\u001b[0;34m\u001b[0m\u001b[0;34m\u001b[0m\u001b[0m\n\u001b[1;32m    167\u001b[0m         \u001b[0;32mexcept\u001b[0m \u001b[0masyncio\u001b[0m\u001b[0;34m.\u001b[0m\u001b[0mTimeoutError\u001b[0m\u001b[0;34m:\u001b[0m\u001b[0;34m\u001b[0m\u001b[0;34m\u001b[0m\u001b[0m\n",
      "\u001b[0;31mAckError\u001b[0m: msg='Command failed', ackcmd=(ackcmd private_seqNum=169365441, ack=<SalRetCode.CMD_FAILED: -302>, error=6612, result='Rejected : command not allowed in current state')"
     ]
    }
   ],
   "source": [
    "await attcs.atptg.cmd_azElTarget.set_start(azDegs=0., elDegs=78.)"
   ]
  },
  {
   "cell_type": "code",
   "execution_count": null,
   "metadata": {},
   "outputs": [],
   "source": [
    "await "
   ]
  },
  {
   "cell_type": "code",
   "execution_count": 362,
   "metadata": {},
   "outputs": [
    {
     "ename": "RuntimeError",
     "evalue": "Error on cmd=cmd_disable, initial_state=2",
     "output_type": "error",
     "traceback": [
      "\u001b[0;31m\u001b[0m",
      "\u001b[0;31mTimeoutError\u001b[0mTraceback (most recent call last)",
      "\u001b[0;32m~/repos/ts_salobj/python/lsst/ts/salobj/topics/remote_command.py\u001b[0m in \u001b[0;36mnext_ackcmd\u001b[0;34m(self, timeout)\u001b[0m\n\u001b[1;32m    161\u001b[0m             \u001b[0mself\u001b[0m\u001b[0;34m.\u001b[0m\u001b[0m_wait_task\u001b[0m \u001b[0;34m=\u001b[0m \u001b[0masyncio\u001b[0m\u001b[0;34m.\u001b[0m\u001b[0mensure_future\u001b[0m\u001b[0;34m(\u001b[0m\u001b[0masyncio\u001b[0m\u001b[0;34m.\u001b[0m\u001b[0mwait_for\u001b[0m\u001b[0;34m(\u001b[0m\u001b[0mself\u001b[0m\u001b[0;34m.\u001b[0m\u001b[0m_basic_next_ack\u001b[0m\u001b[0;34m(\u001b[0m\u001b[0;34m)\u001b[0m\u001b[0;34m,\u001b[0m \u001b[0mtimeout\u001b[0m\u001b[0;34m=\u001b[0m\u001b[0mtimeout\u001b[0m\u001b[0;34m)\u001b[0m\u001b[0;34m)\u001b[0m\u001b[0;34m\u001b[0m\u001b[0;34m\u001b[0m\u001b[0m\n\u001b[0;32m--> 162\u001b[0;31m             \u001b[0mackcmd\u001b[0m \u001b[0;34m=\u001b[0m \u001b[0;32mawait\u001b[0m \u001b[0mself\u001b[0m\u001b[0;34m.\u001b[0m\u001b[0m_wait_task\u001b[0m\u001b[0;34m\u001b[0m\u001b[0;34m\u001b[0m\u001b[0m\n\u001b[0m\u001b[1;32m    163\u001b[0m             \u001b[0;31m# print(f\"next_ackcmd got {ackcmd.ack} from _basic_next_ack\")\u001b[0m\u001b[0;34m\u001b[0m\u001b[0;34m\u001b[0m\u001b[0;34m\u001b[0m\u001b[0m\n",
      "\u001b[0;32m/opt/lsst/software/stack/python/miniconda3-4.5.12/envs/lsst-scipipe-4d7b902/lib/python3.7/asyncio/tasks.py\u001b[0m in \u001b[0;36mwait_for\u001b[0;34m(fut, timeout, loop)\u001b[0m\n\u001b[1;32m    422\u001b[0m             \u001b[0;32mawait\u001b[0m \u001b[0m_cancel_and_wait\u001b[0m\u001b[0;34m(\u001b[0m\u001b[0mfut\u001b[0m\u001b[0;34m,\u001b[0m \u001b[0mloop\u001b[0m\u001b[0;34m=\u001b[0m\u001b[0mloop\u001b[0m\u001b[0;34m)\u001b[0m\u001b[0;34m\u001b[0m\u001b[0;34m\u001b[0m\u001b[0m\n\u001b[0;32m--> 423\u001b[0;31m             \u001b[0;32mraise\u001b[0m \u001b[0mfutures\u001b[0m\u001b[0;34m.\u001b[0m\u001b[0mTimeoutError\u001b[0m\u001b[0;34m(\u001b[0m\u001b[0;34m)\u001b[0m\u001b[0;34m\u001b[0m\u001b[0;34m\u001b[0m\u001b[0m\n\u001b[0m\u001b[1;32m    424\u001b[0m     \u001b[0;32mfinally\u001b[0m\u001b[0;34m:\u001b[0m\u001b[0;34m\u001b[0m\u001b[0;34m\u001b[0m\u001b[0m\n",
      "\u001b[0;31mTimeoutError\u001b[0m: ",
      "\nDuring handling of the above exception, another exception occurred:\n",
      "\u001b[0;31mAckTimeoutError\u001b[0mTraceback (most recent call last)",
      "\u001b[0;32m~/repos/ts_salobj/python/lsst/ts/salobj/csc_utils.py\u001b[0m in \u001b[0;36mset_summary_state\u001b[0;34m(remote, state, settingsToApply, timeout)\u001b[0m\n\u001b[1;32m    131\u001b[0m             \u001b[0;32mtry\u001b[0m\u001b[0;34m:\u001b[0m\u001b[0;34m\u001b[0m\u001b[0;34m\u001b[0m\u001b[0m\n\u001b[0;32m--> 132\u001b[0;31m                 \u001b[0;32mawait\u001b[0m \u001b[0mcmd\u001b[0m\u001b[0;34m.\u001b[0m\u001b[0mstart\u001b[0m\u001b[0;34m(\u001b[0m\u001b[0mtimeout\u001b[0m\u001b[0;34m=\u001b[0m\u001b[0mtimeout\u001b[0m\u001b[0;34m)\u001b[0m\u001b[0;34m\u001b[0m\u001b[0;34m\u001b[0m\u001b[0m\n\u001b[0m\u001b[1;32m    133\u001b[0m             \u001b[0;32mexcept\u001b[0m \u001b[0mException\u001b[0m \u001b[0;32mas\u001b[0m \u001b[0me\u001b[0m\u001b[0;34m:\u001b[0m\u001b[0;34m\u001b[0m\u001b[0;34m\u001b[0m\u001b[0m\n",
      "\u001b[0;32m~/repos/ts_salobj/python/lsst/ts/salobj/topics/remote_command.py\u001b[0m in \u001b[0;36mstart\u001b[0;34m(self, data, timeout, wait_done)\u001b[0m\n\u001b[1;32m    361\u001b[0m         \u001b[0mself\u001b[0m\u001b[0;34m.\u001b[0m\u001b[0msalinfo\u001b[0m\u001b[0;34m.\u001b[0m\u001b[0m_running_cmds\u001b[0m\u001b[0;34m[\u001b[0m\u001b[0mseq_num\u001b[0m\u001b[0;34m]\u001b[0m \u001b[0;34m=\u001b[0m \u001b[0mcmd_info\u001b[0m\u001b[0;34m\u001b[0m\u001b[0;34m\u001b[0m\u001b[0m\n\u001b[0;32m--> 362\u001b[0;31m         \u001b[0;32mreturn\u001b[0m \u001b[0;32mawait\u001b[0m \u001b[0mcmd_info\u001b[0m\u001b[0;34m.\u001b[0m\u001b[0mnext_ackcmd\u001b[0m\u001b[0;34m(\u001b[0m\u001b[0mtimeout\u001b[0m\u001b[0;34m=\u001b[0m\u001b[0mtimeout\u001b[0m\u001b[0;34m)\u001b[0m\u001b[0;34m\u001b[0m\u001b[0;34m\u001b[0m\u001b[0m\n\u001b[0m",
      "\u001b[0;32m~/repos/ts_salobj/python/lsst/ts/salobj/topics/remote_command.py\u001b[0m in \u001b[0;36mnext_ackcmd\u001b[0;34m(self, timeout)\u001b[0m\n\u001b[1;32m    177\u001b[0m             raise base.AckTimeoutError(msg=\"Timed out waiting for command acknowledgement\",\n\u001b[0;32m--> 178\u001b[0;31m                                        ackcmd=last_ackcmd)\n\u001b[0m\u001b[1;32m    179\u001b[0m \u001b[0;34m\u001b[0m\u001b[0m\n",
      "\u001b[0;31mAckTimeoutError\u001b[0m: msg='Timed out waiting for command acknowledgement', ackcmd=(ackcmd private_seqNum=362471128, ack=<SalRetCode.CMD_NOACK: -301>, error=0, result='No command acknowledgement seen')",
      "\nThe above exception was the direct cause of the following exception:\n",
      "\u001b[0;31mRuntimeError\u001b[0mTraceback (most recent call last)",
      "\u001b[0;32m<ipython-input-362-6477451ffa6b>\u001b[0m in \u001b[0;36masync-def-wrapper\u001b[0;34m()\u001b[0m\n",
      "\u001b[0;32m~/repos/ts_salobj/python/lsst/ts/salobj/csc_utils.py\u001b[0m in \u001b[0;36mset_summary_state\u001b[0;34m(remote, state, settingsToApply, timeout)\u001b[0m\n\u001b[1;32m    132\u001b[0m                 \u001b[0;32mawait\u001b[0m \u001b[0mcmd\u001b[0m\u001b[0;34m.\u001b[0m\u001b[0mstart\u001b[0m\u001b[0;34m(\u001b[0m\u001b[0mtimeout\u001b[0m\u001b[0;34m=\u001b[0m\u001b[0mtimeout\u001b[0m\u001b[0;34m)\u001b[0m\u001b[0;34m\u001b[0m\u001b[0;34m\u001b[0m\u001b[0m\n\u001b[1;32m    133\u001b[0m             \u001b[0;32mexcept\u001b[0m \u001b[0mException\u001b[0m \u001b[0;32mas\u001b[0m \u001b[0me\u001b[0m\u001b[0;34m:\u001b[0m\u001b[0;34m\u001b[0m\u001b[0;34m\u001b[0m\u001b[0m\n\u001b[0;32m--> 134\u001b[0;31m                 \u001b[0;32mraise\u001b[0m \u001b[0mRuntimeError\u001b[0m\u001b[0;34m(\u001b[0m\u001b[0;34mf\"Error on cmd=cmd_{command}, initial_state={current_state}\"\u001b[0m\u001b[0;34m)\u001b[0m \u001b[0;32mfrom\u001b[0m \u001b[0me\u001b[0m\u001b[0;34m\u001b[0m\u001b[0;34m\u001b[0m\u001b[0m\n\u001b[0m\u001b[1;32m    135\u001b[0m             \u001b[0mstates\u001b[0m\u001b[0;34m.\u001b[0m\u001b[0mappend\u001b[0m\u001b[0;34m(\u001b[0m\u001b[0mstate\u001b[0m\u001b[0;34m)\u001b[0m\u001b[0;34m\u001b[0m\u001b[0;34m\u001b[0m\u001b[0m\n\u001b[1;32m    136\u001b[0m     \u001b[0;32mfinally\u001b[0m\u001b[0;34m:\u001b[0m\u001b[0;34m\u001b[0m\u001b[0;34m\u001b[0m\u001b[0m\n",
      "\u001b[0;31mRuntimeError\u001b[0m: Error on cmd=cmd_disable, initial_state=2"
     ]
    }
   ],
   "source": [
    "await asyncio.sleep(5)\n",
    "await asyncio.gather(salobj.set_summary_state(attcs.atmcs, salobj.State.STANDBY, timeout=120),\n",
    "                     salobj.set_summary_state(attcs.atptg, salobj.State.STANDBY),\n",
    "                     salobj.set_summary_state(attcs.ataos, salobj.State.STANDBY, settingsToApply=\"measured_20190908.yaml\"),\n",
    "                     salobj.set_summary_state(attcs.atpneumatics, salobj.State.STANDBY),\n",
    "                     salobj.set_summary_state(attcs.athexapod, salobj.State.STANDBY, settingsToApply=\"Default1\"),\n",
    "                     salobj.set_summary_state(attcs.atdome, salobj.State.STANDBY, settingsToApply=\"test.yaml\"),\n",
    "                     salobj.set_summary_state(attcs.atdometrajectory, salobj.State.STANDBY))"
   ]
  },
  {
   "cell_type": "code",
   "execution_count": null,
   "metadata": {},
   "outputs": [],
   "source": []
  }
 ],
 "metadata": {
  "kernelspec": {
   "display_name": "Python 3",
   "language": "python",
   "name": "python3"
  },
  "language_info": {
   "codemirror_mode": {
    "name": "ipython",
    "version": 3
   },
   "file_extension": ".py",
   "mimetype": "text/x-python",
   "name": "python",
   "nbconvert_exporter": "python",
   "pygments_lexer": "ipython3",
   "version": "3.7.2"
  }
 },
 "nbformat": 4,
 "nbformat_minor": 4
}
