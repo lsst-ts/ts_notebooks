{
 "cells": [
  {
   "cell_type": "code",
   "execution_count": null,
   "metadata": {},
   "outputs": [],
   "source": [
    "logging.basicConfig(level=logging.INFO,\n",
    "                    format='%(asctime)s %(name)-12s %(levelname)-8s %(message)s')\n",
    "logger = logging.getLogger('image_display_notebook')"
   ]
  },
  {
   "cell_type": "code",
   "execution_count": 1,
   "metadata": {},
   "outputs": [
    {
     "data": {
      "text/plain": [
       "'/home/saluser/develop/cwfs/python:/home/saluser/repos/ts_scriptqueue/python:/home/saluser/repos/ts_externalscripts/python:/home/saluser/repos/ts_standardscripts/python:/home/saluser/repos/ts_ATMCSSimulator/python:/home/saluser/repos/ts_ATDomeTrajectory/python:/home/saluser/repos/ts_ATDome/python:/home/saluser/repos/ts_salobj/python:/home/saluser/repos/ts_sal/python:/home/saluser/repos/ts_idl/python:/opt/lsst/software/stack/stack/miniconda3-4.5.12-4d7b902/Linux64/fgcmcal/18.1.0-6-g39eacb1+1/python:/opt/lsst/software/stack/stack/miniconda3-4.5.12-4d7b902/Linux64/treecorr/3.2.3.lsst4+3/lib/python:/opt/lsst/software/stack/stack/miniconda3-4.5.12-4d7b902/Linux64/validate_drp/18.1.0-2-g7ea8e08+11/python:/opt/lsst/software/stack/stack/miniconda3-4.5.12-4d7b902/Linux64/cp_pipe/18.1.0-2-g4903023+12/python:/opt/lsst/software/stack/stack/miniconda3-4.5.12-4d7b902/Linux64/display_matplotlib/17.0+65/python:/opt/lsst/software/stack/stack/miniconda3-4.5.12-4d7b902/Linux64/ws4py/0.4.2+5/lib/python:/opt/lsst/software/stack/stack/miniconda3-4.5.12-4d7b902/Linux64/firefly_client/2.2.0.lsst1/lib/python:/opt/lsst/software/stack/stack/miniconda3-4.5.12-4d7b902/Linux64/display_firefly/18.1.0-3-g52aa583+17/python:/opt/lsst/software/stack/stack/miniconda3-4.5.12-4d7b902/Linux64/ap_verify/18.1.0-6-g23dd65f+7/python:/opt/lsst/software/stack/stack/miniconda3-4.5.12-4d7b902/Linux64/jointcal/18.1.0-2-gfefb8b5+34/python:/opt/lsst/software/stack/stack/miniconda3-4.5.12-4d7b902/Linux64/synpipe/18.0.0+70/python:/opt/lsst/software/stack/stack/miniconda3-4.5.12-4d7b902/Linux64/obs_subaru/18.1.0-20-g01725355+5/python:/opt/lsst/software/stack/stack/miniconda3-4.5.12-4d7b902/Linux64/obs_lsst/18.1.0-23-g7772019+1/python:/opt/lsst/software/stack/stack/miniconda3-4.5.12-4d7b902/Linux64/obs_decam/18.1.0-8-gc69d46e+17/python:/opt/lsst/software/stack/stack/miniconda3-4.5.12-4d7b902/Linux64/obs_ctio0m9/18.1.0-2-g958e6b5+14/python:/opt/lsst/software/stack/stack/miniconda3-4.5.12-4d7b902/Linux64/obs_cfht/18.1.0-6-g8e9fd5f+17/python:/opt/lsst/software/stack/stack/miniconda3-4.5.12-4d7b902/Linux64/mpi4py/3.0.0+2/lib/python:/opt/lsst/software/stack/stack/miniconda3-4.5.12-4d7b902/Linux64/ctrl_pool/17.0+115/python:/opt/lsst/software/stack/stack/miniconda3-4.5.12-4d7b902/Linux64/pipe_drivers/18.1.0-5-g6dbcb01+31/python:/opt/lsst/software/stack/stack/miniconda3-4.5.12-4d7b902/Linux64/coord/1.1.lsst+2/lib/python:/opt/lsst/software/stack/stack/miniconda3-4.5.12-4d7b902/Linux64/coord/1.1.lsst+2:/opt/lsst/software/stack/stack/miniconda3-4.5.12-4d7b902/Linux64/galsim/2.2.1.lsst/lib/python:/opt/lsst/software/stack/stack/miniconda3-4.5.12-4d7b902/Linux64/galsim/2.2.1.lsst:/opt/lsst/software/stack/stack/miniconda3-4.5.12-4d7b902/Linux64/meas_extensions_shapeHSM/18.1.0-1-g5afa1ba+38/python:/opt/lsst/software/stack/stack/miniconda3-4.5.12-4d7b902/Linux64/meas_extensions_photometryKron/18.1.0-2-gfbf3545+22/python:/opt/lsst/software/stack/stack/miniconda3-4.5.12-4d7b902/Linux64/ctrl_mpexec/18.1.0-10-gf0da168+1/python:/opt/lsst/software/stack/stack/miniconda3-4.5.12-4d7b902/Linux64/ctrl_orca/17.0+33/python:/opt/lsst/software/stack/stack/miniconda3-4.5.12-4d7b902/Linux64/ctrl_execute/18.0.0+19/python:/opt/lsst/software/stack/stack/miniconda3-4.5.12-4d7b902/Linux64/psfex/16.0+34/python:/opt/lsst/software/stack/stack/miniconda3-4.5.12-4d7b902/Linux64/meas_extensions_psfex/18.1.0-1-g85f8cd4+38/python:/opt/lsst/software/stack/stack/miniconda3-4.5.12-4d7b902/Linux64/display_ds9/18.0.0+29/python:/opt/lsst/software/stack/stack/miniconda3-4.5.12-4d7b902/Linux64/meas_extensions_simpleShape/18.1.0-1-g2505f39+35/python:/opt/lsst/software/stack/stack/miniconda3-4.5.12-4d7b902/Linux64/obs_sdss/18.1.0-3-g97b462d+26/python:/opt/lsst/software/stack/stack/miniconda3-4.5.12-4d7b902/Linux64/obs_lsstSim/18.1.0-5-gb05d41e+33/python:/opt/lsst/software/stack/stack/miniconda3-4.5.12-4d7b902/Linux64/python_future/0.16.0+5/lib/python:/opt/lsst/software/stack/stack/miniconda3-4.5.12-4d7b902/Linux64/ap_association/18.1.0-14-g371438c+2/python:/opt/lsst/software/stack/stack/miniconda3-4.5.12-4d7b902/Linux64/ap_pipe/18.1.0-4-gcd8f52c+37/python:/opt/lsst/software/stack/stack/miniconda3-4.5.12-4d7b902/Linux64/verify_metrics/18.1.0-2-g872f9b5+1/python:/opt/lsst/software/stack/stack/miniconda3-4.5.12-4d7b902/Linux64/dax_ppdb/18.1.0-1-gd55f500+25/python:/opt/lsst/software/stack/stack/miniconda3-4.5.12-4d7b902/Linux64/requests/2.9.1.lsst1+6/lib/python:/opt/lsst/software/stack/stack/miniconda3-4.5.12-4d7b902/Linux64/verify/18.1.0-10-gfe635fa+10/python:/opt/lsst/software/stack/stack/miniconda3-4.5.12-4d7b902/Linux64/lmfit/0.9.3+11/lib/python:/opt/lsst/software/stack/stack/miniconda3-4.5.12-4d7b902/Linux64/ip_diffim/18.1.0-14-g259bd21+9/python:/opt/lsst/software/stack/stack/miniconda3-4.5.12-4d7b902/Linux64/ip_isr/18.1.0-14-gd04256d+35/python:/opt/lsst/software/stack/stack/miniconda3-4.5.12-4d7b902/Linux64/meas_astrom/18.1.0-7-gae09a6d+18/python:/opt/lsst/software/stack/stack/miniconda3-4.5.12-4d7b902/Linux64/meas_extensions_scarlet/master-g27024eed42+9/python:/opt/lsst/software/stack/stack/miniconda3-4.5.12-4d7b902/Linux64/pipe_tasks/18.1.0-23-g364d03b8/python:/opt/lsst/software/stack/stack/miniconda3-4.5.12-4d7b902/Linux64/shapelet/18.1.0-2-gd3b74e5+3/python:/opt/lsst/software/stack/stack/miniconda3-4.5.12-4d7b902/Linux64/meas_modelfit/18.1.0-3-g8f4a2b1+32/python:/opt/lsst/software/stack/stack/miniconda3-4.5.12-4d7b902/Linux64/autograd/1.1.54170B/lib/python:/opt/lsst/software/stack/stack/miniconda3-4.5.12-4d7b902/Linux64/proxmin/lsst-dev-gf7baf2a6dd/lib/python:/opt/lsst/software/stack/stack/miniconda3-4.5.12-4d7b902/Linux64/scarlet/lsst-dev-g169b417050/lib/python:/opt/lsst/software/stack/stack/miniconda3-4.5.12-4d7b902/Linux64/pykg_config/1.3.0+6/lib/python:/opt/lsst/software/stack/stack/miniconda3-4.5.12-4d7b902/Linux64/healpy/1.10.3.lsst2+3/lib/python:/opt/lsst/software/stack/stack/miniconda3-4.5.12-4d7b902/Linux64/skymap/18.1.0-2-g5f9922c+13/python:/opt/lsst/software/stack/stack/miniconda3-4.5.12-4d7b902/Linux64/obs_base/18.1.0-23-g52ab674/python:/opt/lsst/software/stack/stack/miniconda3-4.5.12-4d7b902/Linux64/obs_test/18.1.0-8-g42b2ab3+10/python:/opt/lsst/software/stack/stack/miniconda3-4.5.12-4d7b902/Linux64/astro_metadata_translator/0.1.0-5-g1039c3c+1/python:/opt/lsst/software/stack/stack/miniconda3-4.5.12-4d7b902/Linux64/sqlalchemy/1.3.8/lib/python:/opt/lsst/software/stack/stack/miniconda3-4.5.12-4d7b902/Linux64/daf_butler/18.1.0-33-g80af466/python:/opt/lsst/software/stack/stack/miniconda3-4.5.12-4d7b902/Linux64/pipe_base/18.1.0-9-gee19f03+2/python:/opt/lsst/software/stack/stack/miniconda3-4.5.12-4d7b902/Linux64/coadd_utils/18.1.0-1-g1349e88+44/python:/opt/lsst/software/stack/stack/miniconda3-4.5.12-4d7b902/Linux64/meas_base/18.1.0-6-g857e778+4/python:/opt/lsst/software/stack/stack/miniconda3-4.5.12-4d7b902/Linux64/esutil/0.6.3/lib/python:/opt/lsst/software/stack/stack/miniconda3-4.5.12-4d7b902/Linux64/meas_algorithms/18.1.0-13-gfe4edf0b/python:/opt/lsst/software/stack/stack/miniconda3-4.5.12-4d7b902/Linux64/astshim/18.0.0+6/python:/opt/lsst/software/stack/stack/miniconda3-4.5.12-4d7b902/Linux64/sphgeom/17.0+12/python:/opt/lsst/software/stack/stack/miniconda3-4.5.12-4d7b902/Linux64/ndarray/1.5.3+2/python:/opt/lsst/software/stack/stack/miniconda3-4.5.12-4d7b902/Linux64/geom/18.0.0+14/python:/opt/lsst/software/stack/stack/miniconda3-4.5.12-4d7b902/Linux64/pex_config/18.1.0-5-gc286bb7+4/python:/opt/lsst/software/stack/stack/miniconda3-4.5.12-4d7b902/Linux64/pex_policy/18.1.0-1-g0001055+9/python:/opt/lsst/software/stack/stack/miniconda3-4.5.12-4d7b902/Linux64/log/18.1.0-1-g03d53ef+2/python:/opt/lsst/software/stack/stack/miniconda3-4.5.12-4d7b902/Linux64/daf_persistence/18.1.0-1-g5e4b7ea+11/python:/opt/lsst/software/stack/stack/miniconda3-4.5.12-4d7b902/Linux64/pyyaml/5.1+2/lib/python:/opt/lsst/software/stack/stack/miniconda3-4.5.12-4d7b902/Linux64/python_psutil/5.4.3+4/lib/python:/opt/lsst/software/stack/stack/miniconda3-4.5.12-4d7b902/Linux64/pex_exceptions/18.1.0-1-g5315e5e+2/python:/opt/lsst/software/stack/stack/miniconda3-4.5.12-4d7b902/Linux64/pytest_session2file/0.1.9-1-gc58ee16/lib/python:/opt/lsst/software/stack/stack/miniconda3-4.5.12-4d7b902/Linux64/pep8_naming/0.8.2+3/lib/python:/opt/lsst/software/stack/stack/miniconda3-4.5.12-4d7b902/Linux64/pyflakes/2.1.0+2/lib/python:/opt/lsst/software/stack/stack/miniconda3-4.5.12-4d7b902/Linux64/pycodestyle/2.5.0+2/lib/python:/opt/lsst/software/stack/stack/miniconda3-4.5.12-4d7b902/Linux64/python_mccabe/0.6.1-1-g86ed08f/lib/python:/opt/lsst/software/stack/stack/miniconda3-4.5.12-4d7b902/Linux64/flake8/3.7.5+3/lib/python:/opt/lsst/software/stack/stack/miniconda3-4.5.12-4d7b902/Linux64/pytest_flake8/1.0.4-1-g8dd8c06/lib/python:/opt/lsst/software/stack/stack/miniconda3-4.5.12-4d7b902/Linux64/sconsUtils/18.1.0-3-g946de54/python:/opt/lsst/software/stack/stack/miniconda3-4.5.12-4d7b902/Linux64/base/18.1.0-1-g7e8fceb+2/python:/opt/lsst/software/stack/stack/miniconda3-4.5.12-4d7b902/Linux64/utils/18.1.0-4-g1ee41a7+2/python:/opt/lsst/software/stack/stack/miniconda3-4.5.12-4d7b902/Linux64/daf_base/18.0.0-4-g68ffd23+1/python:/opt/lsst/software/stack/stack/miniconda3-4.5.12-4d7b902/Linux64/afw/18.1.0-22-g936f6a9b4/python:/opt/lsst/software/stack/stack/miniconda3-4.5.12-4d7b902/Linux64/meas_deblender/18.1.0-3-gb69f684+30/python:/opt/lsst/software/stack/eups/2.1.5/python:/opt/rh/devtoolset-8/root/usr/lib64/python2.7/site-packages:/opt/rh/devtoolset-8/root/usr/lib/python2.7/site-packages:/home/saluser/repos/ts_sal/test/lib:/opt/lsst/software/stack/stack/miniconda3-4.5.12-4d7b902/Linux64/meas_extensions_convolved/18.1.0-2-gc364b07+38/python:/opt/lsst/software/stack/stack/miniconda3-4.5.12-4d7b902/Linux64/fgcm/lsst-dev-gb3e8565c1c/lib/python'"
      ]
     },
     "execution_count": 1,
     "metadata": {},
     "output_type": "execute_result"
    }
   ],
   "source": [
    "import os\n",
    "\n",
    "os.environ[\"PYTHONPATH\"] = \"/home/saluser/develop/cwfs/python:\" + os.environ[\"PYTHONPATH\"]\n",
    "os.environ[\"PYTHONPATH\"]"
   ]
  },
  {
   "cell_type": "code",
   "execution_count": 2,
   "metadata": {},
   "outputs": [
    {
     "ename": "ImportError",
     "evalue": "cannot import name 'cwfs' from 'lsst' (/opt/lsst/software/stack/stack/miniconda3-4.5.12-4d7b902/Linux64/fgcmcal/18.1.0-6-g39eacb1+1/python/lsst/__init__.py)",
     "output_type": "error",
     "traceback": [
      "\u001b[0;31m\u001b[0m",
      "\u001b[0;31mImportError\u001b[0mTraceback (most recent call last)",
      "\u001b[0;32m<ipython-input-2-60cfc0b7ec07>\u001b[0m in \u001b[0;36m<module>\u001b[0;34m\u001b[0m\n\u001b[0;32m----> 1\u001b[0;31m \u001b[0;32mfrom\u001b[0m \u001b[0mlsst\u001b[0m \u001b[0;32mimport\u001b[0m \u001b[0mcwfs\u001b[0m\u001b[0;34m\u001b[0m\u001b[0;34m\u001b[0m\u001b[0m\n\u001b[0m",
      "\u001b[0;31mImportError\u001b[0m: cannot import name 'cwfs' from 'lsst' (/opt/lsst/software/stack/stack/miniconda3-4.5.12-4d7b902/Linux64/fgcmcal/18.1.0-6-g39eacb1+1/python/lsst/__init__.py)"
     ]
    }
   ],
   "source": [
    "from lsst import cwfs"
   ]
  },
  {
   "cell_type": "code",
   "execution_count": null,
   "metadata": {},
   "outputs": [],
   "source": []
  }
 ],
 "metadata": {
  "kernelspec": {
   "display_name": "Python 3",
   "language": "python",
   "name": "python3"
  },
  "language_info": {
   "codemirror_mode": {
    "name": "ipython",
    "version": 3
   },
   "file_extension": ".py",
   "mimetype": "text/x-python",
   "name": "python",
   "nbconvert_exporter": "python",
   "pygments_lexer": "ipython3",
   "version": "3.7.2"
  }
 },
 "nbformat": 4,
 "nbformat_minor": 4
}
