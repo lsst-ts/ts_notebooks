{
 "cells": [
  {
   "cell_type": "code",
   "execution_count": 1,
   "metadata": {},
   "outputs": [
    {
     "data": {
      "text/html": [
       "\n",
       "    <div class=\"bk-root\">\n",
       "        <a href=\"https://bokeh.org\" target=\"_blank\" class=\"bk-logo bk-logo-small bk-logo-notebook\"></a>\n",
       "        <span id=\"1001\">Loading BokehJS ...</span>\n",
       "    </div>"
      ]
     },
     "metadata": {},
     "output_type": "display_data"
    },
    {
     "data": {
      "application/javascript": [
       "\n",
       "(function(root) {\n",
       "  function now() {\n",
       "    return new Date();\n",
       "  }\n",
       "\n",
       "  var force = true;\n",
       "\n",
       "  if (typeof root._bokeh_onload_callbacks === \"undefined\" || force === true) {\n",
       "    root._bokeh_onload_callbacks = [];\n",
       "    root._bokeh_is_loading = undefined;\n",
       "  }\n",
       "\n",
       "  var JS_MIME_TYPE = 'application/javascript';\n",
       "  var HTML_MIME_TYPE = 'text/html';\n",
       "  var EXEC_MIME_TYPE = 'application/vnd.bokehjs_exec.v0+json';\n",
       "  var CLASS_NAME = 'output_bokeh rendered_html';\n",
       "\n",
       "  /**\n",
       "   * Render data to the DOM node\n",
       "   */\n",
       "  function render(props, node) {\n",
       "    var script = document.createElement(\"script\");\n",
       "    node.appendChild(script);\n",
       "  }\n",
       "\n",
       "  /**\n",
       "   * Handle when an output is cleared or removed\n",
       "   */\n",
       "  function handleClearOutput(event, handle) {\n",
       "    var cell = handle.cell;\n",
       "\n",
       "    var id = cell.output_area._bokeh_element_id;\n",
       "    var server_id = cell.output_area._bokeh_server_id;\n",
       "    // Clean up Bokeh references\n",
       "    if (id != null && id in Bokeh.index) {\n",
       "      Bokeh.index[id].model.document.clear();\n",
       "      delete Bokeh.index[id];\n",
       "    }\n",
       "\n",
       "    if (server_id !== undefined) {\n",
       "      // Clean up Bokeh references\n",
       "      var cmd = \"from bokeh.io.state import curstate; print(curstate().uuid_to_server['\" + server_id + \"'].get_sessions()[0].document.roots[0]._id)\";\n",
       "      cell.notebook.kernel.execute(cmd, {\n",
       "        iopub: {\n",
       "          output: function(msg) {\n",
       "            var id = msg.content.text.trim();\n",
       "            if (id in Bokeh.index) {\n",
       "              Bokeh.index[id].model.document.clear();\n",
       "              delete Bokeh.index[id];\n",
       "            }\n",
       "          }\n",
       "        }\n",
       "      });\n",
       "      // Destroy server and session\n",
       "      var cmd = \"import bokeh.io.notebook as ion; ion.destroy_server('\" + server_id + \"')\";\n",
       "      cell.notebook.kernel.execute(cmd);\n",
       "    }\n",
       "  }\n",
       "\n",
       "  /**\n",
       "   * Handle when a new output is added\n",
       "   */\n",
       "  function handleAddOutput(event, handle) {\n",
       "    var output_area = handle.output_area;\n",
       "    var output = handle.output;\n",
       "\n",
       "    // limit handleAddOutput to display_data with EXEC_MIME_TYPE content only\n",
       "    if ((output.output_type != \"display_data\") || (!output.data.hasOwnProperty(EXEC_MIME_TYPE))) {\n",
       "      return\n",
       "    }\n",
       "\n",
       "    var toinsert = output_area.element.find(\".\" + CLASS_NAME.split(' ')[0]);\n",
       "\n",
       "    if (output.metadata[EXEC_MIME_TYPE][\"id\"] !== undefined) {\n",
       "      toinsert[toinsert.length - 1].firstChild.textContent = output.data[JS_MIME_TYPE];\n",
       "      // store reference to embed id on output_area\n",
       "      output_area._bokeh_element_id = output.metadata[EXEC_MIME_TYPE][\"id\"];\n",
       "    }\n",
       "    if (output.metadata[EXEC_MIME_TYPE][\"server_id\"] !== undefined) {\n",
       "      var bk_div = document.createElement(\"div\");\n",
       "      bk_div.innerHTML = output.data[HTML_MIME_TYPE];\n",
       "      var script_attrs = bk_div.children[0].attributes;\n",
       "      for (var i = 0; i < script_attrs.length; i++) {\n",
       "        toinsert[toinsert.length - 1].firstChild.setAttribute(script_attrs[i].name, script_attrs[i].value);\n",
       "      }\n",
       "      // store reference to server id on output_area\n",
       "      output_area._bokeh_server_id = output.metadata[EXEC_MIME_TYPE][\"server_id\"];\n",
       "    }\n",
       "  }\n",
       "\n",
       "  function register_renderer(events, OutputArea) {\n",
       "\n",
       "    function append_mime(data, metadata, element) {\n",
       "      // create a DOM node to render to\n",
       "      var toinsert = this.create_output_subarea(\n",
       "        metadata,\n",
       "        CLASS_NAME,\n",
       "        EXEC_MIME_TYPE\n",
       "      );\n",
       "      this.keyboard_manager.register_events(toinsert);\n",
       "      // Render to node\n",
       "      var props = {data: data, metadata: metadata[EXEC_MIME_TYPE]};\n",
       "      render(props, toinsert[toinsert.length - 1]);\n",
       "      element.append(toinsert);\n",
       "      return toinsert\n",
       "    }\n",
       "\n",
       "    /* Handle when an output is cleared or removed */\n",
       "    events.on('clear_output.CodeCell', handleClearOutput);\n",
       "    events.on('delete.Cell', handleClearOutput);\n",
       "\n",
       "    /* Handle when a new output is added */\n",
       "    events.on('output_added.OutputArea', handleAddOutput);\n",
       "\n",
       "    /**\n",
       "     * Register the mime type and append_mime function with output_area\n",
       "     */\n",
       "    OutputArea.prototype.register_mime_type(EXEC_MIME_TYPE, append_mime, {\n",
       "      /* Is output safe? */\n",
       "      safe: true,\n",
       "      /* Index of renderer in `output_area.display_order` */\n",
       "      index: 0\n",
       "    });\n",
       "  }\n",
       "\n",
       "  // register the mime type if in Jupyter Notebook environment and previously unregistered\n",
       "  if (root.Jupyter !== undefined) {\n",
       "    var events = require('base/js/events');\n",
       "    var OutputArea = require('notebook/js/outputarea').OutputArea;\n",
       "\n",
       "    if (OutputArea.prototype.mime_types().indexOf(EXEC_MIME_TYPE) == -1) {\n",
       "      register_renderer(events, OutputArea);\n",
       "    }\n",
       "  }\n",
       "\n",
       "  \n",
       "  if (typeof (root._bokeh_timeout) === \"undefined\" || force === true) {\n",
       "    root._bokeh_timeout = Date.now() + 5000;\n",
       "    root._bokeh_failed_load = false;\n",
       "  }\n",
       "\n",
       "  var NB_LOAD_WARNING = {'data': {'text/html':\n",
       "     \"<div style='background-color: #fdd'>\\n\"+\n",
       "     \"<p>\\n\"+\n",
       "     \"BokehJS does not appear to have successfully loaded. If loading BokehJS from CDN, this \\n\"+\n",
       "     \"may be due to a slow or bad network connection. Possible fixes:\\n\"+\n",
       "     \"</p>\\n\"+\n",
       "     \"<ul>\\n\"+\n",
       "     \"<li>re-rerun `output_notebook()` to attempt to load from CDN again, or</li>\\n\"+\n",
       "     \"<li>use INLINE resources instead, as so:</li>\\n\"+\n",
       "     \"</ul>\\n\"+\n",
       "     \"<code>\\n\"+\n",
       "     \"from bokeh.resources import INLINE\\n\"+\n",
       "     \"output_notebook(resources=INLINE)\\n\"+\n",
       "     \"</code>\\n\"+\n",
       "     \"</div>\"}};\n",
       "\n",
       "  function display_loaded() {\n",
       "    var el = document.getElementById(\"1001\");\n",
       "    if (el != null) {\n",
       "      el.textContent = \"BokehJS is loading...\";\n",
       "    }\n",
       "    if (root.Bokeh !== undefined) {\n",
       "      if (el != null) {\n",
       "        el.textContent = \"BokehJS \" + root.Bokeh.version + \" successfully loaded.\";\n",
       "      }\n",
       "    } else if (Date.now() < root._bokeh_timeout) {\n",
       "      setTimeout(display_loaded, 100)\n",
       "    }\n",
       "  }\n",
       "\n",
       "\n",
       "  function run_callbacks() {\n",
       "    try {\n",
       "      root._bokeh_onload_callbacks.forEach(function(callback) {\n",
       "        if (callback != null)\n",
       "          callback();\n",
       "      });\n",
       "    } finally {\n",
       "      delete root._bokeh_onload_callbacks\n",
       "    }\n",
       "    console.debug(\"Bokeh: all callbacks have finished\");\n",
       "  }\n",
       "\n",
       "  function load_libs(css_urls, js_urls, callback) {\n",
       "    if (css_urls == null) css_urls = [];\n",
       "    if (js_urls == null) js_urls = [];\n",
       "\n",
       "    root._bokeh_onload_callbacks.push(callback);\n",
       "    if (root._bokeh_is_loading > 0) {\n",
       "      console.debug(\"Bokeh: BokehJS is being loaded, scheduling callback at\", now());\n",
       "      return null;\n",
       "    }\n",
       "    if (js_urls == null || js_urls.length === 0) {\n",
       "      run_callbacks();\n",
       "      return null;\n",
       "    }\n",
       "    console.debug(\"Bokeh: BokehJS not loaded, scheduling load and callback at\", now());\n",
       "    root._bokeh_is_loading = css_urls.length + js_urls.length;\n",
       "\n",
       "    function on_load() {\n",
       "      root._bokeh_is_loading--;\n",
       "      if (root._bokeh_is_loading === 0) {\n",
       "        console.debug(\"Bokeh: all BokehJS libraries/stylesheets loaded\");\n",
       "        run_callbacks()\n",
       "      }\n",
       "    }\n",
       "\n",
       "    function on_error() {\n",
       "      console.error(\"failed to load \" + url);\n",
       "    }\n",
       "\n",
       "    for (var i = 0; i < css_urls.length; i++) {\n",
       "      var url = css_urls[i];\n",
       "      const element = document.createElement(\"link\");\n",
       "      element.onload = on_load;\n",
       "      element.onerror = on_error;\n",
       "      element.rel = \"stylesheet\";\n",
       "      element.type = \"text/css\";\n",
       "      element.href = url;\n",
       "      console.debug(\"Bokeh: injecting link tag for BokehJS stylesheet: \", url);\n",
       "      document.body.appendChild(element);\n",
       "    }\n",
       "\n",
       "    for (var i = 0; i < js_urls.length; i++) {\n",
       "      var url = js_urls[i];\n",
       "      var element = document.createElement('script');\n",
       "      element.onload = on_load;\n",
       "      element.onerror = on_error;\n",
       "      element.async = false;\n",
       "      element.src = url;\n",
       "      console.debug(\"Bokeh: injecting script tag for BokehJS library: \", url);\n",
       "      document.head.appendChild(element);\n",
       "    }\n",
       "  };var element = document.getElementById(\"1001\");\n",
       "  if (element == null) {\n",
       "    console.error(\"Bokeh: ERROR: autoload.js configured with elementid '1001' but no matching script tag was found. \")\n",
       "    return false;\n",
       "  }\n",
       "\n",
       "  function inject_raw_css(css) {\n",
       "    const element = document.createElement(\"style\");\n",
       "    element.appendChild(document.createTextNode(css));\n",
       "    document.body.appendChild(element);\n",
       "  }\n",
       "\n",
       "  \n",
       "  var js_urls = [\"https://cdn.pydata.org/bokeh/release/bokeh-1.4.0.min.js\", \"https://cdn.pydata.org/bokeh/release/bokeh-widgets-1.4.0.min.js\", \"https://cdn.pydata.org/bokeh/release/bokeh-tables-1.4.0.min.js\", \"https://cdn.pydata.org/bokeh/release/bokeh-gl-1.4.0.min.js\"];\n",
       "  var css_urls = [];\n",
       "  \n",
       "\n",
       "  var inline_js = [\n",
       "    function(Bokeh) {\n",
       "      Bokeh.set_log_level(\"info\");\n",
       "    },\n",
       "    function(Bokeh) {\n",
       "    \n",
       "    \n",
       "    }\n",
       "  ];\n",
       "\n",
       "  function run_inline_js() {\n",
       "    \n",
       "    if (root.Bokeh !== undefined || force === true) {\n",
       "      \n",
       "    for (var i = 0; i < inline_js.length; i++) {\n",
       "      inline_js[i].call(root, root.Bokeh);\n",
       "    }\n",
       "    if (force === true) {\n",
       "        display_loaded();\n",
       "      }} else if (Date.now() < root._bokeh_timeout) {\n",
       "      setTimeout(run_inline_js, 100);\n",
       "    } else if (!root._bokeh_failed_load) {\n",
       "      console.log(\"Bokeh: BokehJS failed to load within specified timeout.\");\n",
       "      root._bokeh_failed_load = true;\n",
       "    } else if (force !== true) {\n",
       "      var cell = $(document.getElementById(\"1001\")).parents('.cell').data().cell;\n",
       "      cell.output_area.append_execute_result(NB_LOAD_WARNING)\n",
       "    }\n",
       "\n",
       "  }\n",
       "\n",
       "  if (root._bokeh_is_loading === 0) {\n",
       "    console.debug(\"Bokeh: BokehJS loaded, going straight to plotting\");\n",
       "    run_inline_js();\n",
       "  } else {\n",
       "    load_libs(css_urls, js_urls, function() {\n",
       "      console.debug(\"Bokeh: BokehJS plotting callback run at\", now());\n",
       "      run_inline_js();\n",
       "    });\n",
       "  }\n",
       "}(window));"
      ],
      "application/vnd.bokehjs_load.v0+json": "\n(function(root) {\n  function now() {\n    return new Date();\n  }\n\n  var force = true;\n\n  if (typeof root._bokeh_onload_callbacks === \"undefined\" || force === true) {\n    root._bokeh_onload_callbacks = [];\n    root._bokeh_is_loading = undefined;\n  }\n\n  \n\n  \n  if (typeof (root._bokeh_timeout) === \"undefined\" || force === true) {\n    root._bokeh_timeout = Date.now() + 5000;\n    root._bokeh_failed_load = false;\n  }\n\n  var NB_LOAD_WARNING = {'data': {'text/html':\n     \"<div style='background-color: #fdd'>\\n\"+\n     \"<p>\\n\"+\n     \"BokehJS does not appear to have successfully loaded. If loading BokehJS from CDN, this \\n\"+\n     \"may be due to a slow or bad network connection. Possible fixes:\\n\"+\n     \"</p>\\n\"+\n     \"<ul>\\n\"+\n     \"<li>re-rerun `output_notebook()` to attempt to load from CDN again, or</li>\\n\"+\n     \"<li>use INLINE resources instead, as so:</li>\\n\"+\n     \"</ul>\\n\"+\n     \"<code>\\n\"+\n     \"from bokeh.resources import INLINE\\n\"+\n     \"output_notebook(resources=INLINE)\\n\"+\n     \"</code>\\n\"+\n     \"</div>\"}};\n\n  function display_loaded() {\n    var el = document.getElementById(\"1001\");\n    if (el != null) {\n      el.textContent = \"BokehJS is loading...\";\n    }\n    if (root.Bokeh !== undefined) {\n      if (el != null) {\n        el.textContent = \"BokehJS \" + root.Bokeh.version + \" successfully loaded.\";\n      }\n    } else if (Date.now() < root._bokeh_timeout) {\n      setTimeout(display_loaded, 100)\n    }\n  }\n\n\n  function run_callbacks() {\n    try {\n      root._bokeh_onload_callbacks.forEach(function(callback) {\n        if (callback != null)\n          callback();\n      });\n    } finally {\n      delete root._bokeh_onload_callbacks\n    }\n    console.debug(\"Bokeh: all callbacks have finished\");\n  }\n\n  function load_libs(css_urls, js_urls, callback) {\n    if (css_urls == null) css_urls = [];\n    if (js_urls == null) js_urls = [];\n\n    root._bokeh_onload_callbacks.push(callback);\n    if (root._bokeh_is_loading > 0) {\n      console.debug(\"Bokeh: BokehJS is being loaded, scheduling callback at\", now());\n      return null;\n    }\n    if (js_urls == null || js_urls.length === 0) {\n      run_callbacks();\n      return null;\n    }\n    console.debug(\"Bokeh: BokehJS not loaded, scheduling load and callback at\", now());\n    root._bokeh_is_loading = css_urls.length + js_urls.length;\n\n    function on_load() {\n      root._bokeh_is_loading--;\n      if (root._bokeh_is_loading === 0) {\n        console.debug(\"Bokeh: all BokehJS libraries/stylesheets loaded\");\n        run_callbacks()\n      }\n    }\n\n    function on_error() {\n      console.error(\"failed to load \" + url);\n    }\n\n    for (var i = 0; i < css_urls.length; i++) {\n      var url = css_urls[i];\n      const element = document.createElement(\"link\");\n      element.onload = on_load;\n      element.onerror = on_error;\n      element.rel = \"stylesheet\";\n      element.type = \"text/css\";\n      element.href = url;\n      console.debug(\"Bokeh: injecting link tag for BokehJS stylesheet: \", url);\n      document.body.appendChild(element);\n    }\n\n    for (var i = 0; i < js_urls.length; i++) {\n      var url = js_urls[i];\n      var element = document.createElement('script');\n      element.onload = on_load;\n      element.onerror = on_error;\n      element.async = false;\n      element.src = url;\n      console.debug(\"Bokeh: injecting script tag for BokehJS library: \", url);\n      document.head.appendChild(element);\n    }\n  };var element = document.getElementById(\"1001\");\n  if (element == null) {\n    console.error(\"Bokeh: ERROR: autoload.js configured with elementid '1001' but no matching script tag was found. \")\n    return false;\n  }\n\n  function inject_raw_css(css) {\n    const element = document.createElement(\"style\");\n    element.appendChild(document.createTextNode(css));\n    document.body.appendChild(element);\n  }\n\n  \n  var js_urls = [\"https://cdn.pydata.org/bokeh/release/bokeh-1.4.0.min.js\", \"https://cdn.pydata.org/bokeh/release/bokeh-widgets-1.4.0.min.js\", \"https://cdn.pydata.org/bokeh/release/bokeh-tables-1.4.0.min.js\", \"https://cdn.pydata.org/bokeh/release/bokeh-gl-1.4.0.min.js\"];\n  var css_urls = [];\n  \n\n  var inline_js = [\n    function(Bokeh) {\n      Bokeh.set_log_level(\"info\");\n    },\n    function(Bokeh) {\n    \n    \n    }\n  ];\n\n  function run_inline_js() {\n    \n    if (root.Bokeh !== undefined || force === true) {\n      \n    for (var i = 0; i < inline_js.length; i++) {\n      inline_js[i].call(root, root.Bokeh);\n    }\n    if (force === true) {\n        display_loaded();\n      }} else if (Date.now() < root._bokeh_timeout) {\n      setTimeout(run_inline_js, 100);\n    } else if (!root._bokeh_failed_load) {\n      console.log(\"Bokeh: BokehJS failed to load within specified timeout.\");\n      root._bokeh_failed_load = true;\n    } else if (force !== true) {\n      var cell = $(document.getElementById(\"1001\")).parents('.cell').data().cell;\n      cell.output_area.append_execute_result(NB_LOAD_WARNING)\n    }\n\n  }\n\n  if (root._bokeh_is_loading === 0) {\n    console.debug(\"Bokeh: BokehJS loaded, going straight to plotting\");\n    run_inline_js();\n  } else {\n    load_libs(css_urls, js_urls, function() {\n      console.debug(\"Bokeh: BokehJS plotting callback run at\", now());\n      run_inline_js();\n    });\n  }\n}(window));"
     },
     "metadata": {},
     "output_type": "display_data"
    }
   ],
   "source": [
    "import matplotlib\n",
    "%matplotlib widget\n",
    "from matplotlib import pylab as plt\n",
    "from astropy.time import Time, TimeDelta\n",
    "\n",
    "from bokeh.plotting import figure, output_notebook, show\n",
    "from bokeh.models import LinearAxis, Range1d\n",
    "output_notebook()"
   ]
  },
  {
   "cell_type": "code",
   "execution_count": 2,
   "metadata": {},
   "outputs": [],
   "source": [
    "import numpy as np\n",
    "import pandas as pd"
   ]
  },
  {
   "cell_type": "code",
   "execution_count": 3,
   "metadata": {},
   "outputs": [],
   "source": [
    "from lsst_efd_client import EfdClient, resample"
   ]
  },
  {
   "cell_type": "code",
   "execution_count": 4,
   "metadata": {},
   "outputs": [],
   "source": [
    "efd_client = EfdClient('summit_efd')"
   ]
  },
  {
   "cell_type": "code",
   "execution_count": 5,
   "metadata": {},
   "outputs": [],
   "source": [
    "fnames = np.loadtxt(\"intra_extra_pairs.dat\", dtype='S', unpack=True)"
   ]
  },
  {
   "cell_type": "code",
   "execution_count": 6,
   "metadata": {},
   "outputs": [
    {
     "name": "stderr",
     "output_type": "stream",
     "text": [
      "/opt/lsst/software/stack/python/miniconda3-4.5.12/envs/lsst-scipipe-4d7b902/lib/python3.7/site-packages/ipykernel_launcher.py:1: FutureWarning: from_csv is deprecated. Please use read_csv(...) instead. Note that some of the default arguments are different, so please refer to the documentation for from_csv when changing your function calls\n",
      "  \"\"\"Entry point for launching an IPython kernel.\n"
     ]
    }
   ],
   "source": [
    "fnames = pd.DataFrame.from_csv(\"data_20200109_match.csv\")"
   ]
  },
  {
   "cell_type": "code",
   "execution_count": 39,
   "metadata": {},
   "outputs": [
    {
     "name": "stderr",
     "output_type": "stream",
     "text": [
      "/opt/lsst/software/stack/python/miniconda3-4.5.12/envs/lsst-scipipe-4d7b902/lib/python3.7/site-packages/ipykernel_launcher.py:1: FutureWarning: from_csv is deprecated. Please use read_csv(...) instead. Note that some of the default arguments are different, so please refer to the documentation for from_csv when changing your function calls\n",
      "  \"\"\"Entry point for launching an IPython kernel.\n"
     ]
    }
   ],
   "source": [
    "fnames = pd.DataFrame.from_csv(\"missind_data.csv\")"
   ]
  },
  {
   "cell_type": "code",
   "execution_count": 40,
   "metadata": {},
   "outputs": [
    {
     "data": {
      "text/plain": [
       "Index(['intra', 'extra'], dtype='object')"
      ]
     },
     "execution_count": 40,
     "metadata": {},
     "output_type": "execute_result"
    }
   ],
   "source": [
    "fnames.columns"
   ]
  },
  {
   "cell_type": "code",
   "execution_count": 41,
   "metadata": {},
   "outputs": [
    {
     "name": "stdout",
     "output_type": "stream",
     "text": [
      "1\n",
      "2\n",
      "3\n",
      "4\n",
      "5\n",
      "6\n",
      "7\n"
     ]
    }
   ],
   "source": [
    "for i in fnames.index:\n",
    "    print(i)"
   ]
  },
  {
   "cell_type": "code",
   "execution_count": 42,
   "metadata": {},
   "outputs": [],
   "source": [
    "out_data = np.zeros(len(fnames), dtype=[('intra', '<U35'), \n",
    "                                           ('extra', '<U35'), \n",
    "                                           ('az', float), \n",
    "                                           ('el', float), \n",
    "                                           ('rot_pos', float),\n",
    "                                           ('x', float), \n",
    "                                           ('y', float), \n",
    "                                           ('z', float), \n",
    "                                           ('u', float), \n",
    "                                           ('v', float), \n",
    "                                           ('w', float)])"
   ]
  },
  {
   "cell_type": "code",
   "execution_count": 43,
   "metadata": {},
   "outputs": [
    {
     "name": "stdout",
     "output_type": "stream",
     "text": [
      "Processing 1 of 7: 1578542773-HIP25041-0-1.fits x 1578542801-HIP25041-0-1.fits ...\n",
      "Processing 2 of 7: 1578543015-HIP23043-0-1.fits x 1578543043-HIP23043-0-1.fits ...\n",
      "Processing 3 of 7: 1578544378-HIP23043-0-1.fits x 1578544406-HIP23043-0-1.fits ...\n",
      "Processing 4 of 7: 1578545134-HIP23043-0-1.fits x 1578545162-HIP23043-0-1.fits ...\n",
      "Processing 5 of 7: 1578545384-HIP23043-0-1.fits x 1578545412-HIP23043-0-1.fits ...\n",
      "Processing 6 of 7: 1578545714-HIP23043-0-1.fits x 1578545742-HIP23043-0-1.fits ...\n",
      "Processing 7 of 7: 1578545943-HIP23043-0-1.fits x 1578545971-HIP23043-0-1.fits ...\n",
      "done\n"
     ]
    }
   ],
   "source": [
    "for i in range(len(fnames)):\n",
    "    print(f\"Processing {i+1} of {len(fnames)}: {fnames['intra'][fnames.index[i]]} x {fnames['extra'][fnames.index[i]]} ...\")\n",
    "    fname_intra = str(fnames['intra'][fnames.index[i]]).split(\".\")[0]\n",
    "    fname_extra = str(fnames['extra'][fnames.index[i]]).split(\".\")[0]\n",
    "    \n",
    "    my_query_intra = f'SELECT \"imageName\" FROM \"efd\".\"autogen\".\"lsst.sal.GenericCamera.logevent_endReadout\" where \"imageName\" = \\'{fname_intra}\\''\n",
    "    my_query_extra = f'SELECT \"imageName\" FROM \"efd\".\"autogen\".\"lsst.sal.GenericCamera.logevent_endReadout\" where \"imageName\" = \\'{fname_extra}\\''\n",
    "\n",
    "    eron_intra = await efd_client.influx_client.query(my_query_intra)\n",
    "    eron_extra = await efd_client.influx_client.query(my_query_extra)\n",
    "\n",
    "    t1 = Time(eron_intra.index[0], scale='tai') - TimeDelta(65., format='sec', scale='tai')\n",
    "    t2 = Time(eron_extra.index[0], scale='tai')\n",
    "\n",
    "    azel = await efd_client.select_time_series(\"lsst.sal.ATMCS.mount_AzEl_Encoders\", \n",
    "                                               [\"elevationCalculatedAngle99\", \"azimuthCalculatedAngle99\"], t1, t2)\n",
    "    rotator = await efd_client.select_time_series(\"lsst.sal.ATMCS.mount_Nasmyth_Encoders\",\n",
    "                                                  [\"nasmyth1CalculatedAngle99\"], t1, t2)\n",
    "    hexapod = await efd_client.select_time_series(\"lsst.sal.ATHexapod.command_moveToPosition\",\n",
    "                                                  [\"x\", \"y\", \"z\", \"u\", \"v\", \"w\"], t1, t2)\n",
    "    if len(hexapod) < 2:\n",
    "        print(f\"Could not get hexapod position for pair {i+1}: {fname_intra} x {fname_extra}\")\n",
    "        continue\n",
    "\n",
    "    rot_pos = np.mean(rotator['nasmyth1CalculatedAngle99'])\n",
    "    el = np.mean(azel['elevationCalculatedAngle99'])\n",
    "    az = np.mean(azel['azimuthCalculatedAngle99'])\n",
    "    x = (hexapod['x'][len(hexapod)-2]+hexapod['x'][len(hexapod)-1])/2.\n",
    "    y = (hexapod['y'][len(hexapod)-2]+hexapod['y'][len(hexapod)-1])/2.\n",
    "    z = (hexapod['z'][len(hexapod)-2]+hexapod['z'][len(hexapod)-1])/2.\n",
    "    u = (hexapod['u'][len(hexapod)-2]+hexapod['u'][len(hexapod)-1])/2.\n",
    "    v = (hexapod['v'][len(hexapod)-2]+hexapod['v'][len(hexapod)-1])/2.\n",
    "    w = (hexapod['w'][len(hexapod)-2]+hexapod['w'][len(hexapod)-1])/2.\n",
    "    out_data[i] = (fnames['intra'][fnames.index[i]], fnames['extra'][fnames.index[i]], az, el, rot_pos, x, y, z, u, u, w)\n",
    "#     print(az, el, rot_pos, x, y, z, u, u, w)\n",
    "print(\"done\")"
   ]
  },
  {
   "cell_type": "code",
   "execution_count": 44,
   "metadata": {},
   "outputs": [
    {
     "data": {
      "text/plain": [
       "array([('1578542773-HIP25041-0-1.fits', '1578542801-HIP25041-0-1.fits', -27.40144044, 47.61859831, -11.36134086, -4.34999921, -1.33812000e-06, 0.46500156, 0.35000065, 0.35000065, 0.),\n",
       "       ('1578543015-HIP23043-0-1.fits', '1578543043-HIP23043-0-1.fits', -30.71004185, 36.76567418,  -7.61457508, -4.34999921, -1.33812000e-06, 0.46500156, 0.35000065, 0.35000065, 0.),\n",
       "       ('1578544378-HIP23043-0-1.fits', '1578544406-HIP23043-0-1.fits', -36.51394798, 34.03344129,  -2.57646139, -4.34999921, -1.33812000e-06, 0.46500156, 0.35000065, 0.35000065, 0.),\n",
       "       ('1578545134-HIP23043-0-1.fits', '1578545162-HIP23043-0-1.fits', -39.51416606, 32.35094303,  -0.34374292, -4.34999921, -1.33812000e-06, 0.50000156, 0.35000065, 0.35000065, 0.),\n",
       "       ('1578545384-HIP23043-0-1.fits', '1578545412-HIP23043-0-1.fits', -40.47001164, 31.77280513,  -0.10509708, -4.34999921,  2.99998662e-01, 0.50000156, 0.35000065, 0.35000065, 0.),\n",
       "       ('1578545714-HIP23043-0-1.fits', '1578545742-HIP23043-0-1.fits', -41.70844108, 30.99188617,   0.16420465, -4.34999921,  4.49998662e-01, 0.50000156, 0.35000065, 0.35000065, 0.),\n",
       "       ('1578545943-HIP23043-0-1.fits', '1578545971-HIP23043-0-1.fits', -42.55335513, 30.43791156,   0.32346592, -4.34999921,  4.49998662e-01, 0.53000156, 0.35000065, 0.35000065, 0.)],\n",
       "      dtype=[('intra', '<U35'), ('extra', '<U35'), ('az', '<f8'), ('el', '<f8'), ('rot_pos', '<f8'), ('x', '<f8'), ('y', '<f8'), ('z', '<f8'), ('u', '<f8'), ('v', '<f8'), ('w', '<f8')])"
      ]
     },
     "execution_count": 44,
     "metadata": {},
     "output_type": "execute_result"
    }
   ],
   "source": [
    "out_data"
   ]
  },
  {
   "cell_type": "code",
   "execution_count": 45,
   "metadata": {},
   "outputs": [],
   "source": [
    "df = pd.DataFrame(out_data)"
   ]
  },
  {
   "cell_type": "code",
   "execution_count": 46,
   "metadata": {},
   "outputs": [],
   "source": [
    "df.to_csv(\"missing_20200109_match.csv\")"
   ]
  },
  {
   "cell_type": "code",
   "execution_count": null,
   "metadata": {},
   "outputs": [],
   "source": [
    "np.mean(df1['elevationCalculatedAngle0'])"
   ]
  },
  {
   "cell_type": "code",
   "execution_count": null,
   "metadata": {},
   "outputs": [],
   "source": [
    "len(\"1578531387-HIP25531_intra-0-1.fits\")"
   ]
  },
  {
   "cell_type": "code",
   "execution_count": null,
   "metadata": {},
   "outputs": [],
   "source": [
    "np.sqrt(4/1.5)"
   ]
  },
  {
   "cell_type": "code",
   "execution_count": null,
   "metadata": {},
   "outputs": [],
   "source": [
    "offset = {'m1': 0.0,\n",
    "                       'm2': 0.0,\n",
    "                       'x': 0.0,\n",
    "                       'y': 0.0,\n",
    "                       'z': 0.0,\n",
    "                       'u': 0.0,\n",
    "                       'v': 0.0\n",
    "                       }"
   ]
  },
  {
   "cell_type": "code",
   "execution_count": null,
   "metadata": {},
   "outputs": [],
   "source": [
    "print(f\"{offset!s}\")"
   ]
  },
  {
   "cell_type": "code",
   "execution_count": 26,
   "metadata": {},
   "outputs": [
    {
     "data": {
      "text/plain": [
       "array([('1578531387-HIP25531_intra-0-1.fits', '1578531410-HIP25531_extra-0-1.fits',  78.53435196, 60.92252097, -16.39188424, -4.3       ,  1.20000000e+00, 0.5       , 0.35      , 0.35      , 0.),\n",
       "       ('1578531549-HIP25531-0-1.fits', '1578531579-HIP25531-0-1.fits',  77.94976867, 61.52488464, -15.53119198, -4.29999921,  1.19999866e+00, 0.50000156, 0.35000065, 0.35000065, 0.),\n",
       "       ('1578532646-HIP25531-0-1.fits', '1578532669-HIP25531-0-1.fits',  73.75123271, 65.33968396,  -9.58440603, -4.29999921,  1.19999866e+00, 0.56000156, 0.35000065, 0.35000065, 0.),\n",
       "       ('1578532897-HIP25531-0-1.fits', '1578532920-HIP25531-0-1.fits',  72.64797333, 66.20606561,  -8.08566468, -4.29999921,  1.19999866e+00, 0.56800156, 0.35000065, 0.35000065, 0.),\n",
       "       ('1578533133-HIP25531-0-1.fits', '1578533156-HIP25531-0-1.fits',  71.54836022, 67.01914682,  -6.61612181, -4.29999921,  1.19999866e+00, 0.56800156, 0.35000065, 0.35000065, 0.),\n",
       "       ('1578533524-HIP25531-0-1.fits', '1578533547-HIP25531-0-1.fits',  69.59312597, 68.34980877,  -4.05915637, -4.29999921,  1.19999866e+00, 0.56800156, 0.35000065, 0.35000065, 0.),\n",
       "       ('1578533874-HIP25531-0-1.fits', '1578533912-HIP25531-0-1.fits',  67.53479757, 69.60617689,  -1.4384798 , -4.29999921,  1.19999866e+00, 0.56800156, 0.35000065, 0.35000065, 0.),\n",
       "       ('1578534435-HIP25531-0-1.fits', '1578534473-HIP25531-0-1.fits',  64.02870618, 71.4523732 ,   2.87841116, -4.29999921,  1.19999866e+00, 0.56400156, 0.35000065, 0.35000065, 0.),\n",
       "       ('1578534913-10Lep-0-1.fits', '1578534957-10Lep-0-1.fits',  61.95346132, 72.29817158, 126.65359936, -4.29999921,  1.19999866e+00, 0.56400156, 0.35000065, 0.35000065, 0.),\n",
       "       ('1578535411-10Lep-0-1.fits', '1578535439-10Lep-0-1.fits',  58.13096238, 73.80068354, -10.72236294, -4.29999921,  1.19999866e+00, 0.56400156, 0.35000065, 0.35000065, 0.),\n",
       "       ('1578535681-10Lep-0-1.fits', '1578535709-10Lep-0-1.fits',  55.70125027, 74.61737952,  -7.96866952, -4.29999921,  1.19999866e+00, 0.53400156, 0.35000065, 0.35000065, 0.),\n",
       "       ('1578536657-10Lep-0-1.fits', '1578536685-10Lep-0-1.fits',  44.66985101, 77.34293127,  -2.46591918, -4.29999921,  1.19999866e+00, 0.53400156, 0.35000065, 0.35000065, 0.),\n",
       "       ('1578537429-10Lep-0-1.fits', '1578537457-10Lep-0-1.fits',  32.73892311, 79.08510226,   6.93079905, -4.29999921,  1.69999866e+00, 0.53400156, 0.35000065, 0.35000065, 0.),\n",
       "       ('1578537953-10Lep-0-1.fits', '1578537981-10Lep-0-1.fits',  22.62741833, 79.98096439,  -5.43622002, -4.29999921,  6.99998662e-01, 0.53400156, 0.35000065, 0.35000065, 0.),\n",
       "       ('1578538341-10Lep-0-1.fits', '1578538368-10Lep-0-1.fits',  14.17750147, 80.42925479,   2.76048156, -4.29999921,  1.99998662e-01, 0.53400156, 0.35000065, 0.35000065, 0.),\n",
       "       ('1578538650-10Lep-0-1.fits', '1578538678-10Lep-0-1.fits',   7.01885169, 80.63676505, -11.33731803, -4.29999921,  1.99998662e-01, 0.53400156, 0.35000065, 0.35000065, 0.),\n",
       "       ('1578538901-10Lep-0-1.fits', '1578538929-10Lep-0-1.fits',   1.01123589, 80.70284457,  -5.71980845, -4.29999921, -3.00001338e-01, 0.53400156, 0.35000065, 0.35000065, 0.),\n",
       "       ('1578539137-10Lep-0-1.fits', '1578539165-10Lep-0-1.fits',  -4.62599444, 80.67873811,  -0.53354787, -4.29999921,  1.99998662e-01, 0.53400156, 0.35000065, 0.35000065, 0.),\n",
       "       ('1578539403-10Lep-0-1.fits', '1578539431-10Lep-0-1.fits', -10.87323271, 80.55277406,   5.10722819, -4.29999921,  1.99998662e-01, 0.48500156, 0.35000065, 0.35000065, 0.),\n",
       "       ('1578540108-10Lep-0-1.fits', '1578540136-10Lep-0-1.fits', -26.19931866, 79.74315917,  -1.35698522, -4.29999921,  1.99998662e-01, 0.48500156, 0.35000065, 0.35000065, 0.),\n",
       "       ('1578540468-10Lep-0-1.fits', '1578540496-10Lep-0-1.fits', -32.95245369, 79.10507222,   4.10363181, -4.29999921, -1.33812000e-06, 0.46500156, 0.35000065, 0.35000065, 0.),\n",
       "       ('1578540753-10Lep-0-1.fits', '1578540781-10Lep-0-1.fits', -37.72847157, 78.51603508,   7.77537963, -4.24999921, -1.33812000e-06, 0.46500156, 0.35000065, 0.35000065, 0.),\n",
       "       ('1578540963-10Lep-0-1.fits', '1578540991-10Lep-0-1.fits', -41.04082415, 78.02630237,  -7.7767693 , -4.34999921, -1.33812000e-06, 0.46500156, 0.35000065, 0.35000065, 0.),\n",
       "       ('1578541220-10Lep-0-1.fits', '1578541248-10Lep-0-1.fits', -44.68211273, 77.39696164,  -5.20085426, -4.34999921, -1.33812000e-06, 0.46500156, 0.35000065, 0.35000065, 0.),\n",
       "       ('1578541566-nuLep-0-1.fits', '1578541594-nuLep-0-1.fits', -38.33803196, 68.11557429, -16.94820077, -4.34999921, -1.33812000e-06, 0.46500156, 0.35000065, 0.35000065, 0.),\n",
       "       ('1578541863-nuLep-0-1.fits', '1578541891-nuLep-0-1.fits', -40.96710031, 67.43492081, -15.46034671, -4.84999921, -1.33812000e-06, 0.46500156, 0.35000065, 0.35000065, 0.),\n",
       "       ('1578542143-HIP24493-0-1.fits', '1578542171-HIP24493-0-1.fits', -32.94732724, 56.90807401,  -7.01141401, -4.34999921, -1.33812000e-06, 0.46500156, 0.35000065, 0.35000065, 0.),\n",
       "       ('1578546616-L_Vel-0-1.fits', '1578546644-L_Vel-0-1.fits', 142.96110604, 60.14803675,  -2.95320793, -4.34999921, -1.33812000e-06, 0.46500156, 0.35000065, 0.35000065, 0.),\n",
       "       ('1578546849-L_Vel-0-1.fits', '1578546877-L_Vel-0-1.fits', 143.66228653, 60.65315736,  -3.82404567, -4.34999921,  4.49998662e-01, 0.53000156, 0.35000065, 0.35000065, 0.),\n",
       "       ('1578547083-L_Vel-0-1.fits', '1578547111-L_Vel-0-1.fits', 144.39286664, 61.14713371,  -4.72983987, -4.34999921,  1.99998662e-01, 0.53000156, 0.35000065, 0.35000065, 0.),\n",
       "       ('1578547480-L_Vel-0-1.fits', '1578547507-L_Vel-0-1.fits', 145.73577443, 61.97695945, -63.21832057, -4.34999921,  1.99998662e-01, 0.53000156, 0.35000065, 0.35000065, 0.),\n",
       "       ('1578547813-L_Vel-0-1.fits', '1578547841-L_Vel-0-1.fits', 146.89759494, 62.62019441, -70.19575541, -4.54999921,  1.99998662e-01, 0.53000156, 0.35000065, 0.35000065, 0.),\n",
       "       ('1578548066-L_Vel-0-1.fits', '1578548094-L_Vel-0-1.fits', 147.8846287 , 63.12268186, -71.41619267, -4.79999921,  1.99998662e-01, 0.53000156, 0.35000065, 0.35000065, 0.),\n",
       "       ('1578548373-L_Vel-0-1.fits', '1578548401-L_Vel-0-1.fits', 149.11987809, 63.69170232, -72.94521483, -5.14999921,  1.99998662e-01, 0.53000156, 0.35000065, 0.35000065, 0.),\n",
       "       ('1578548948-n_Vel-0-1.fits', '1578548976-n_Vel-0-1.fits', 167.10397207, 72.37907635, 104.818846  , -4.34999921, -1.33812000e-06, 0.46500156, 0.35000065, 0.35000065, 0.),\n",
       "       ('1578549286-n_Vel-0-1.fits', '1578549333-n_Vel-0-1.fits', 170.27445703, 72.61797455, 101.03988753, -5.14999921,  1.99998662e-01, 0.53000156, 0.35000065, 0.35000065, 0.),\n",
       "       ('1578549581-n_Vel-0-1.fits', '1578549609-n_Vel-0-1.fits', 172.95528888, 72.76682549,  97.75734992, -5.14999921,  1.99998662e-01, 0.51500156, 0.35000065, 0.35000065, 0.),\n",
       "       ('1578549843-n_Vel-0-1.fits', '1578549870-n_Vel-0-1.fits', 175.37184056, 72.8586811 ,  94.66148274, -5.14999921,  1.99998662e-01, 0.54500156, 0.35000065, 0.35000065, 0.),\n",
       "       ('1578550018-n_Vel-0-1.fits', '1578550045-n_Vel-0-1.fits', 177.03794973, 72.89898009,  92.57203729, -5.14999921,  1.99998662e-01, 0.56000156, 0.35000065, 0.35000065, 0.)],\n",
       "      dtype=[('intra', '<U35'), ('extra', '<U35'), ('az', '<f8'), ('el', '<f8'), ('rot_pos', '<f8'), ('x', '<f8'), ('y', '<f8'), ('z', '<f8'), ('u', '<f8'), ('v', '<f8'), ('w', '<f8')])"
      ]
     },
     "execution_count": 26,
     "metadata": {},
     "output_type": "execute_result"
    }
   ],
   "source": [
    "out_data['']"
   ]
  },
  {
   "cell_type": "code",
   "execution_count": 48,
   "metadata": {},
   "outputs": [],
   "source": [
    "val = (1,2,3,4,5,6)"
   ]
  },
  {
   "cell_type": "code",
   "execution_count": 49,
   "metadata": {},
   "outputs": [],
   "source": [
    "names = 'xyzuvw'"
   ]
  },
  {
   "cell_type": "code",
   "execution_count": 51,
   "metadata": {},
   "outputs": [
    {
     "data": {
      "text/plain": [
       "{'x': 1, 'y': 2, 'z': 3, 'u': 4, 'v': 5, 'w': 6}"
      ]
     },
     "execution_count": 51,
     "metadata": {},
     "output_type": "execute_result"
    }
   ],
   "source": [
    "dict(zip(names, val))"
   ]
  },
  {
   "cell_type": "code",
   "execution_count": null,
   "metadata": {},
   "outputs": [],
   "source": []
  }
 ],
 "metadata": {
  "kernelspec": {
   "display_name": "Python 3",
   "language": "python",
   "name": "python3"
  },
  "language_info": {
   "codemirror_mode": {
    "name": "ipython",
    "version": 3
   },
   "file_extension": ".py",
   "mimetype": "text/x-python",
   "name": "python",
   "nbconvert_exporter": "python",
   "pygments_lexer": "ipython3",
   "version": "3.7.2"
  }
 },
 "nbformat": 4,
 "nbformat_minor": 4
}
