{
 "cells": [
  {
   "cell_type": "code",
   "execution_count": 1,
   "metadata": {},
   "outputs": [],
   "source": [
    "import asyncio \n",
    "import matplotlib\n",
    "\n",
    "import numpy as np\n",
    "import pandas as pd\n",
    "\n",
    "from matplotlib import pylab as plt\n",
    "from astropy.time import Time, TimeDelta\n",
    "\n",
    "from lsst_efd_client import EfdClient, resample\n",
    "\n",
    "%matplotlib inline"
   ]
  },
  {
   "cell_type": "code",
   "execution_count": 3,
   "metadata": {},
   "outputs": [],
   "source": [
    "efd_client = EfdClient('summit_efd')"
   ]
  },
  {
   "cell_type": "markdown",
   "metadata": {},
   "source": [
    "Query for all the `endReadout` events on the timespan of the night."
   ]
  },
  {
   "cell_type": "code",
   "execution_count": 5,
   "metadata": {},
   "outputs": [],
   "source": [
    "t1 = Time(\"2020-01-23T00:21:00\", format='isot', scale='tai')\n",
    "t2 = Time(\"2020-01-23T06:59:00\", format='isot', scale='tai')"
   ]
  },
  {
   "cell_type": "code",
   "execution_count": 16,
   "metadata": {},
   "outputs": [],
   "source": [
    "end_readout = await efd_client.select_time_series(\"lsst.sal.GenericCamera.logevent_endReadout\", \n",
    "                                           [\"imageName\", \"exposureTime\"], t1, t2)"
   ]
  },
  {
   "cell_type": "markdown",
   "metadata": {},
   "source": [
    "Now match each entry. For each `i` item with `intra` in the name, there must be an `i+1` with `extra` otherwise it is not a pair. "
   ]
  },
  {
   "cell_type": "code",
   "execution_count": 17,
   "metadata": {},
   "outputs": [
    {
     "name": "stdout",
     "output_type": "stream",
     "text": [
      "Got 68 pairs and 2 misses.\n"
     ]
    }
   ],
   "source": [
    "intra_images = []\n",
    "extra_images = []\n",
    "intra_times = []\n",
    "extra_times = []\n",
    "intra_exptimes = []\n",
    "extra_exptimes = []\n",
    "\n",
    "i = 0\n",
    "npairs = 0\n",
    "nmiss = 0\n",
    "\n",
    "while i < len(end_readout):\n",
    "    intra = end_readout['imageName'][i]\n",
    "    extra = end_readout['imageName'][i+1]\n",
    "    \n",
    "    if 'intra' in intra and 'extra' in extra:\n",
    "#         print(f\"Got a pair: {intra} x {extra}\")\n",
    "        intra_images.append(intra)\n",
    "        extra_images.append(extra)\n",
    "        intra_times.append(end_readout.index[i])\n",
    "        extra_times.append(end_readout.index[i+1])\n",
    "        intra_exptimes.append(end_readout['exposureTime'][i])\n",
    "        extra_exptimes.append(end_readout['exposureTime'][i+1])\n",
    "        i+=2\n",
    "        npairs+=1\n",
    "    else:\n",
    "#         print(f\"No Match: {intra} x {extra}\")\n",
    "        nmiss+=1\n",
    "        i+=1\n",
    "\n",
    "print(f\"Got {npairs} pairs and {nmiss} misses.\")"
   ]
  },
  {
   "cell_type": "code",
   "execution_count": 12,
   "metadata": {},
   "outputs": [],
   "source": [
    "match_data = np.zeros(npairs, dtype=[('intra', '<U35'), \n",
    "                                           ('extra', '<U35'), \n",
    "                                           ('az', float), \n",
    "                                           ('el', float), \n",
    "                                           ('rot_pos', float),\n",
    "                                           ('x', float), \n",
    "                                           ('y', float), \n",
    "                                           ('z', float), \n",
    "                                           ('u', float), \n",
    "                                           ('v', float), \n",
    "                                           ('w', float)])"
   ]
  },
  {
   "cell_type": "code",
   "execution_count": 42,
   "metadata": {},
   "outputs": [
    {
     "name": "stdout",
     "output_type": "stream",
     "text": [
      "2020-01-23 04:56:22.415735385+00:00:1579755351-HD72660_intra-0-1\n",
      "                                            x         y         z         u  \\\n",
      "2020-01-23 04:55:41.537691489+00:00 -4.449999  0.099999  0.470002  0.350001   \n",
      "2020-01-23 04:55:54.077718486+00:00 -4.449999  0.099999 -1.029998  0.350001   \n",
      "2020-01-23 04:56:22.529461649+00:00 -4.449999  0.099999  1.970002  0.350001   \n",
      "\n",
      "                                        v  w  \n",
      "2020-01-23 04:55:41.537691489+00:00  0.22  0  \n",
      "2020-01-23 04:55:54.077718486+00:00  0.22  0  \n",
      "2020-01-23 04:56:22.529461649+00:00  0.22  0  \n",
      "2020-01-23 04:57:15.423734808+00:00:1579755389-HD72660_extra-0-1\n",
      "done\n"
     ]
    }
   ],
   "source": [
    "for i in range(npairs):\n",
    "\n",
    "    \n",
    "    t1 = Time(intra_times[i], scale='tai') - TimeDelta(intra_exptimes[i], format='sec', scale='tai') - TimeDelta(30., format='sec', scale='tai')\n",
    "    t2 = Time(extra_times[i], scale='tai') - TimeDelta(1., format='sec', scale='tai')\n",
    "\n",
    "    azel = await efd_client.select_time_series(\"lsst.sal.ATMCS.mount_AzEl_Encoders\", \n",
    "                                               [\"elevationCalculatedAngle99\", \"azimuthCalculatedAngle99\"], t1, t2)\n",
    "    rotator = await efd_client.select_time_series(\"lsst.sal.ATMCS.mount_Nasmyth_Encoders\",\n",
    "                                                  [\"nasmyth1CalculatedAngle99\"], t1, t2)\n",
    "    hexapod = await efd_client.select_time_series(\"lsst.sal.ATHexapod.command_moveToPosition\",\n",
    "                                                  [\"x\", \"y\", \"z\", \"u\", \"v\", \"w\"], t1, t2)\n",
    "    if len(hexapod) < 2:\n",
    "        print(f\"Could not get hexapod position for pair {i+1}: {intra_images[i]} x {extra_images[i]}\")\n",
    "        continue\n",
    "    elif '1579755351' in intra_images[i]:\n",
    "        print(f\"{intra_times[i]}:{intra_images[i]}\")\n",
    "        print(hexapod)\n",
    "        print(f\"{extra_times[i]}:{extra_images[i]}\")\n",
    "\n",
    "    rot_pos = np.mean(rotator['nasmyth1CalculatedAngle99'])\n",
    "    el = np.mean(azel['elevationCalculatedAngle99'])\n",
    "    az = np.mean(azel['azimuthCalculatedAngle99'])\n",
    "    x = (hexapod['x'][len(hexapod)-2]+hexapod['x'][len(hexapod)-1])/2.\n",
    "    y = (hexapod['y'][len(hexapod)-2]+hexapod['y'][len(hexapod)-1])/2.\n",
    "    z = (hexapod['z'][len(hexapod)-2]+hexapod['z'][len(hexapod)-1])/2.\n",
    "    u = (hexapod['u'][len(hexapod)-2]+hexapod['u'][len(hexapod)-1])/2.\n",
    "    v = (hexapod['v'][len(hexapod)-2]+hexapod['v'][len(hexapod)-1])/2.\n",
    "    w = (hexapod['w'][len(hexapod)-2]+hexapod['w'][len(hexapod)-1])/2.\n",
    "    match_data[i] = (intra_images[i], extra_images[i], az, el, rot_pos, x, y, z, u, u, w)\n",
    "#     print(az, el, rot_pos, x, y, z, u, u, w)\n",
    "print(\"done\")"
   ]
  },
  {
   "cell_type": "code",
   "execution_count": 44,
   "metadata": {},
   "outputs": [],
   "source": [
    "df = pd.DataFrame(match_data)"
   ]
  },
  {
   "cell_type": "code",
   "execution_count": 45,
   "metadata": {},
   "outputs": [],
   "source": [
    "df.to_csv(\"20200122_match.csv\")"
   ]
  },
  {
   "cell_type": "code",
   "execution_count": 36,
   "metadata": {},
   "outputs": [],
   "source": [
    "np.savetxt(\"20200122_matched_data.txt\", np.array(intra_images +extra_images), fmt=\"%s\")"
   ]
  },
  {
   "cell_type": "code",
   "execution_count": 39,
   "metadata": {},
   "outputs": [
    {
     "data": {
      "text/plain": [
       "1.220002"
      ]
     },
     "execution_count": 39,
     "metadata": {},
     "output_type": "execute_result"
    }
   ],
   "source": [
    "(1.970002+0.470002)/2."
   ]
  },
  {
   "cell_type": "code",
   "execution_count": 43,
   "metadata": {},
   "outputs": [
    {
     "data": {
      "text/plain": [
       "0.47000200000000003"
      ]
     },
     "execution_count": 43,
     "metadata": {},
     "output_type": "execute_result"
    }
   ],
   "source": [
    "(-1.029998+1.970002)/2."
   ]
  },
  {
   "cell_type": "code",
   "execution_count": null,
   "metadata": {},
   "outputs": [],
   "source": []
  }
 ],
 "metadata": {
  "kernelspec": {
   "display_name": "Python 3",
   "language": "python",
   "name": "python3"
  },
  "language_info": {
   "codemirror_mode": {
    "name": "ipython",
    "version": 3
   },
   "file_extension": ".py",
   "mimetype": "text/x-python",
   "name": "python",
   "nbconvert_exporter": "python",
   "pygments_lexer": "ipython3",
   "version": "3.7.2"
  }
 },
 "nbformat": 4,
 "nbformat_minor": 4
}
