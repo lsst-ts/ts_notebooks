{
 "cells": [
  {
   "cell_type": "markdown",
   "metadata": {},
   "source": [
    "# Analysis of HD35441 data"
   ]
  },
  {
   "cell_type": "code",
   "execution_count": 1,
   "metadata": {},
   "outputs": [
    {
     "name": "stderr",
     "output_type": "stream",
     "text": [
      "/opt/lsst/software/stack/python/miniconda3-4.5.12/envs/lsst-scipipe-4d7b902/lib/python3.7/site-packages/dask/config.py:168: YAMLLoadWarning: calling yaml.load() without Loader=... is deprecated, as the default Loader is unsafe. Please read https://msg.pyyaml.org/load for full details.\n",
      "  data = yaml.load(f.read()) or {}\n"
     ]
    }
   ],
   "source": [
    "import os\n",
    "import copy\n",
    "import wget\n",
    "import time\n",
    "import asyncio\n",
    "import warnings\n",
    "import logging\n",
    "\n",
    "import numpy as np\n",
    "from pathlib import Path\n",
    "\n",
    "from astropy.io import fits\n",
    "from astropy.modeling import models, fitting\n",
    "\n",
    "from scipy import ndimage\n",
    "from scipy.signal import medfilt\n",
    "from scipy.ndimage.filters import gaussian_filter\n",
    "\n",
    "from matplotlib import pyplot as plt\n",
    "\n",
    "from lsst import cwfs\n",
    "from lsst.cwfs.instrument import Instrument\n",
    "from lsst.cwfs.algorithm import Algorithm\n",
    "from lsst.cwfs.image import Image, readFile, aperture2image, showProjection\n",
    "import lsst.cwfs.plots as plots\n",
    "\n",
    "plt.rcParams['figure.figsize'] = [7, 6]\n",
    "\n",
    "%matplotlib inline"
   ]
  },
  {
   "cell_type": "code",
   "execution_count": 2,
   "metadata": {},
   "outputs": [],
   "source": [
    "class DonutHandler:\n",
    "    def __init__(self):\n",
    "        \n",
    "        self.data_folder = Path(\"/home/saluser/data/\")\n",
    "        self.output_folder = Path(\"/home/saluser/data/output\")\n",
    "\n",
    "        self.intra_fnames = []\n",
    "        self.extra_fnames = []\n",
    "        \n",
    "        self.intra_exposures = []\n",
    "        self.extra_exposures = []\n",
    "\n",
    "        # I1/I2 get modified down below, so reset here\n",
    "        self.I1 = []\n",
    "        self.I2 = []\n",
    "\n",
    "        self.zern = []\n",
    "\n",
    "        # Select where your object is, but ours will be on-axis\n",
    "        self.fieldXY = [0.0,0.0]\n",
    "\n",
    "        self.ceny = 350 #round(im_shape[0]/2)\n",
    "        self.cenx = 450 # round(im_shape[1]/2)\n",
    "        \n",
    "        self.pre_side = 300\n",
    "        self.side = 150\n",
    "        \n",
    "    @property\n",
    "    def ndata(self):\n",
    "        return len(self.intra_fnames)\n",
    "    \n",
    "    def set_intra_extra(self, intra, extra):\n",
    "        \n",
    "        self.intra_fnames = intra\n",
    "        self.extra_fnames = extra\n",
    "        \n",
    "        for i in range(self.ndata):\n",
    "            self.intra_exposures.append((fits.open(self.data_folder / intra_fnames[i]))[0].data)\n",
    "            self.extra_exposures.append((fits.open(self.data_folder / extra_fnames[i]))[0].data)\n",
    "\n",
    "    def center_and_cut_image(self, index, side=400, manual=False):\n",
    "        \n",
    "        intra_exp = self.intra_exposures[index]\n",
    "        extra_exp = self.extra_exposures[index]\n",
    "\n",
    "        if not manual:\n",
    "            print(\"Automatic centering\")\n",
    "            im_shape=intra_exp.shape\n",
    "            im_filtered = medfilt(intra_exp+extra_exp,[3,3])\n",
    "            im_filtered -= int(np.median(im_filtered))\n",
    "            mean = np.mean(im_filtered)\n",
    "            # iter 1\n",
    "            ceny, cenx = np.array(ndimage.measurements.center_of_mass(im_filtered), dtype=int)\n",
    "            print(ceny, cenx)\n",
    "            # iter 2\n",
    "            intra_square = intra_exp[ceny-self.pre_side:ceny+self.pre_side, \n",
    "                                     cenx-self.pre_side:cenx+self.pre_side] \n",
    "            extra_square = extra_exp[ceny-self.pre_side:ceny+self.pre_side, \n",
    "                                     cenx-self.pre_side:cenx+self.pre_side]\n",
    "            print(intra_square.shape, extra_square.shape)\n",
    "            im = (intra_square+extra_square)\n",
    "            im_filtered = medfilt(im,[3,3])\n",
    "            im_filtered -= int(np.median(im_filtered))\n",
    "            mean = np.mean(im_filtered)\n",
    "            im_filtered[im_filtered < mean] = 0.\n",
    "            im_filtered[im_filtered > mean] = 1.\n",
    "            # iter 1\n",
    "            cy2, cx2 = np.array(ndimage.measurements.center_of_mass(im_filtered), dtype=int)\n",
    "            print(cy2-self.pre_side, cx2-self.pre_side)    \n",
    "            ceny += (cy2-self.pre_side)\n",
    "            cenx += (cx2-self.pre_side)\n",
    "        else:\n",
    "            print(\"Manual centering\")\n",
    "            ceny=self.ceny #round(im_shape[0]/2)\n",
    "            cenx=self.cenx # round(im_shape[1]/2)\n",
    "        side=self.side # side length of image\n",
    "        print('Creating stamps of centroid [y,x] = [{},{}] with a side length of {} pixels'.format(ceny,cenx,side))\n",
    "        im_shape=intra_exp.shape\n",
    "        intra_square = intra_exp[ceny-side:ceny+side, cenx-side:cenx+side] \n",
    "        extra_square = extra_exp[ceny-side:ceny+side, cenx-side:cenx+side]\n",
    "\n",
    "        return intra_square, extra_square\n",
    "    \n",
    "    def create_images(self):\n",
    "        \n",
    "        for i in range(self.ndata):\n",
    "            i1, i2 = self.center_and_cut_image(i)\n",
    "            self.I1.append(Image(i1, self.fieldXY, Image.INTRA))\n",
    "            self.I2.append(Image(i2, self.fieldXY, Image.EXTRA))\n",
    "\n",
    "    def run_algo(self):\n",
    "        # Declare instrument\n",
    "        self.inst = Instrument('auxtel',donut_handler.I1[0].sizeinPix)\n",
    "        hex_to_focus_scale = 41.0\n",
    "        offset=1.5 *hex_to_focus_scale # [mm] multiply hexapod dz by magnification factor\n",
    "        pixelsize = 3.6e-6*4 # 4 is the binning\n",
    "        # FIXME: put an assertion here and calculate binning above based on change in image size, also pull offset from filename!\n",
    "\n",
    "        print('Offset should be :{} [mm] at the focus, {} [mm] at the hexapod'.format(offset, offset/hex_to_focus_scale))\n",
    "        print('Offset in file is :{} [mm] at the focus'.format(1e3*self.inst.offset))\n",
    "        print('pixelSize should be: {}'.format(pixelsize))\n",
    "\n",
    "        #declare algorithm\n",
    "        # declare algorithm - exponential solver.\n",
    "        self.algo = Algorithm('exp', self.inst, 1) # example     \n",
    "        \n",
    "        for i in range(self.ndata):\n",
    "            self.algo.reset(donut_handler.I1[i], donut_handler.I2[i])\n",
    "\n",
    "            self.algo.runIt(self.inst,donut_handler.I1[i],donut_handler.I2[i],'onAxis')\n",
    "            \n",
    "            self.zern.append(self.algo.zer4UpNm[0:9])\n"
   ]
  },
  {
   "cell_type": "code",
   "execution_count": 3,
   "metadata": {},
   "outputs": [],
   "source": [
    "data_folder = Path(\"/home/saluser/data/\")\n",
    "output_folder = Path(\"/home/saluser/data/output\")"
   ]
  },
  {
   "cell_type": "markdown",
   "metadata": {},
   "source": [
    "## Dataset 1:\n",
    "\n",
    "El: ??. -- about ??:?? UTC\n",
    "\n",
    "Extra-focal filename: 1576286733-HD32313-0-1.fits\n",
    "\n",
    "Intra-focal filename: 1576286665-HD32313-0-1.fits"
   ]
  },
  {
   "cell_type": "code",
   "execution_count": null,
   "metadata": {},
   "outputs": [],
   "source": [
    "intra_fname_1 = \"1576293112-HD35441-0-1.fits\"\n",
    "extra_fname_1 = \"1576293044-HD35441-0-1.fits\""
   ]
  },
  {
   "cell_type": "code",
   "execution_count": null,
   "metadata": {},
   "outputs": [],
   "source": [
    "intra_fname_2 = \"1576287165-HD32313-0-1.fits\"\n",
    "extra_fname_2 = \"1576287233-HD32313-0-1.fits\""
   ]
  },
  {
   "cell_type": "code",
   "execution_count": null,
   "metadata": {},
   "outputs": [],
   "source": [
    "intra_fnames = [intra_fname_1, intra_fname_2]\n",
    "extra_fnames = [extra_fname_1, extra_fname_2]"
   ]
  },
  {
   "cell_type": "code",
   "execution_count": null,
   "metadata": {},
   "outputs": [],
   "source": [
    "donut_handler = DonutHandler()"
   ]
  },
  {
   "cell_type": "code",
   "execution_count": null,
   "metadata": {},
   "outputs": [],
   "source": [
    "donut_handler.set_intra_extra(intra_fnames, extra_fnames)"
   ]
  },
  {
   "cell_type": "code",
   "execution_count": null,
   "metadata": {},
   "outputs": [],
   "source": [
    "fig = plt.figure()\n",
    "\n",
    "for i in range(donut_handler.ndata):\n",
    "    sub = fig.add_subplot(1, donut_handler.ndata, 1+i)\n",
    "    sub.imshow(donut_handler.intra_exposures[i]+donut_handler.extra_exposures[i])"
   ]
  },
  {
   "cell_type": "code",
   "execution_count": null,
   "metadata": {},
   "outputs": [],
   "source": [
    "donut_handler.create_images()"
   ]
  },
  {
   "cell_type": "code",
   "execution_count": null,
   "metadata": {},
   "outputs": [],
   "source": [
    "fig = plt.figure()\n",
    "\n",
    "for i in range(donut_handler.ndata):\n",
    "    sub1 = fig.add_subplot(2, donut_handler.ndata, 1+i)\n",
    "    sub1.imshow(donut_handler.I1[i].image)\n",
    "\n",
    "    sub2 = fig.add_subplot(2, donut_handler.ndata, donut_handler.ndata+1+i)\n",
    "    sub2.imshow(donut_handler.I2[i].image)\n"
   ]
  },
  {
   "cell_type": "code",
   "execution_count": null,
   "metadata": {},
   "outputs": [],
   "source": [
    "donut_handler.run_algo()"
   ]
  },
  {
   "cell_type": "code",
   "execution_count": null,
   "metadata": {},
   "outputs": [],
   "source": [
    "for i in range(donut_handler.ndata):\n",
    "    plt.plot(donut_handler.zern[i], 'o-')\n",
    "plt.grid()"
   ]
  },
  {
   "cell_type": "code",
   "execution_count": null,
   "metadata": {},
   "outputs": [],
   "source": [
    "# Plot images with masks to check mapping is correct\n",
    "# I think these plot residuals, but I1.image0 plots the original image\n",
    "# plots.plotImage(donut_handler.I1[3].image0,'intra', mask=algo.pMask) \n",
    "plots.plotImage(donut_handler.I1[0].image,'intra') \n",
    "#plots.plotImage(I_focus.image,'focus')\n",
    "plots.plotImage(donut_handler.I2[0].image,'extra', mask=algo.pMask)"
   ]
  },
  {
   "cell_type": "code",
   "execution_count": null,
   "metadata": {},
   "outputs": [],
   "source": []
  }
 ],
 "metadata": {
  "kernelspec": {
   "display_name": "Python 3",
   "language": "python",
   "name": "python3"
  },
  "language_info": {
   "codemirror_mode": {
    "name": "ipython",
    "version": 3
   },
   "file_extension": ".py",
   "mimetype": "text/x-python",
   "name": "python",
   "nbconvert_exporter": "python",
   "pygments_lexer": "ipython3",
   "version": "3.7.2"
  }
 },
 "nbformat": 4,
 "nbformat_minor": 4
}
