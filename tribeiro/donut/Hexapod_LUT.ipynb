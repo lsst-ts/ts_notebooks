{
 "cells": [
  {
   "cell_type": "code",
   "execution_count": 1,
   "metadata": {},
   "outputs": [],
   "source": [
    "import asyncio \n",
    "import matplotlib\n",
    "\n",
    "import numpy as np\n",
    "import pandas as pd\n",
    "\n",
    "from matplotlib import pylab as plt\n",
    "from astropy.time import Time, TimeDelta\n",
    "\n",
    "from lsst_efd_client import EfdClient, resample\n",
    "\n",
    "%matplotlib inline"
   ]
  },
  {
   "cell_type": "code",
   "execution_count": 2,
   "metadata": {},
   "outputs": [],
   "source": [
    "efd_client = EfdClient('summit_efd')"
   ]
  },
  {
   "cell_type": "code",
   "execution_count": 72,
   "metadata": {},
   "outputs": [],
   "source": [
    "query = f'SELECT \"message\" FROM \"efd\".\"autogen\".\"lsst.sal.Script.logevent_logMessage\" where \"private_host\" = 170525220.00'\n",
    "\n"
   ]
  },
  {
   "cell_type": "code",
   "execution_count": 73,
   "metadata": {},
   "outputs": [
    {
     "data": {
      "text/plain": [
       "'SELECT \"message\" FROM \"efd\".\"autogen\".\"lsst.sal.Script.logevent_logMessage\" where \"private_host\" = 170525220.00'"
      ]
     },
     "execution_count": 73,
     "metadata": {},
     "output_type": "execute_result"
    }
   ],
   "source": [
    "query"
   ]
  },
  {
   "cell_type": "code",
   "execution_count": 142,
   "metadata": {},
   "outputs": [],
   "source": [
    "msg = await efd_client.influx_client.query(query)"
   ]
  },
  {
   "cell_type": "code",
   "execution_count": 143,
   "metadata": {},
   "outputs": [],
   "source": [
    "lut_times = []\n",
    "\n",
    "for i in range(len(msg)):\n",
    "    if \"LUT\" in msg[\"message\"][i]:\n",
    "        lut_times.append(Time(msg.index[i], scale='tai'))\n"
   ]
  },
  {
   "cell_type": "code",
   "execution_count": 144,
   "metadata": {},
   "outputs": [
    {
     "name": "stdout",
     "output_type": "stream",
     "text": [
      "24\n"
     ]
    }
   ],
   "source": [
    "print(len(lut_times))"
   ]
  },
  {
   "cell_type": "code",
   "execution_count": 145,
   "metadata": {},
   "outputs": [],
   "source": [
    "out_data = np.zeros(len(lut_times), dtype=[('az', float), \n",
    "                                        ('el', float), \n",
    "                                        ('rot_pos', float),\n",
    "                                        ('x', float), \n",
    "                                        ('y', float), \n",
    "                                        ('z', float)])"
   ]
  },
  {
   "cell_type": "code",
   "execution_count": 146,
   "metadata": {},
   "outputs": [],
   "source": [
    "for i in range(len(lut_times)):\n",
    "\n",
    "    t1 = lut_times[i] - TimeDelta(5., format='sec', scale='tai')\n",
    "    t2 = lut_times[i] + TimeDelta(5., format='sec', scale='tai')\n",
    "\n",
    "    azel = await efd_client.select_time_series(\"lsst.sal.ATMCS.mount_AzEl_Encoders\", \n",
    "                                               [\"elevationCalculatedAngle99\", \"azimuthCalculatedAngle99\"], \n",
    "                                               t1 - TimeDelta(37., format='sec', scale='tai'), \n",
    "                                               t2 - TimeDelta(37., format='sec', scale='tai'))\n",
    "    rotator = await efd_client.select_time_series(\"lsst.sal.ATMCS.mount_Nasmyth_Encoders\",\n",
    "                                                  [\"nasmyth1CalculatedAngle99\"], \n",
    "                                                  t1 - TimeDelta(37., format='sec', scale='tai'), \n",
    "                                                  t2 - TimeDelta(37., format='sec', scale='tai'))\n",
    "    hexapod = await efd_client.select_time_series(\"lsst.sal.ATHexapod.positionStatus\",\n",
    "                                                  [\"reportedPosition0\", \"reportedPosition1\", \"reportedPosition2\"], t1, t2)\n",
    "\n",
    "    rot_pos = np.mean(rotator['nasmyth1CalculatedAngle99'])\n",
    "    el = np.mean(azel['elevationCalculatedAngle99'])\n",
    "    az = np.mean(azel['azimuthCalculatedAngle99'])\n",
    "    x = np.mean(hexapod['reportedPosition0'])\n",
    "    y = np.mean(hexapod['reportedPosition1'])\n",
    "    z = np.mean(hexapod['reportedPosition2'])\n",
    "    \n",
    "    out_data[i] = (az, el, rot_pos, x, y, z)\n",
    "\n",
    "    "
   ]
  },
  {
   "cell_type": "code",
   "execution_count": 147,
   "metadata": {},
   "outputs": [],
   "source": [
    "# out_data"
   ]
  },
  {
   "cell_type": "code",
   "execution_count": 171,
   "metadata": {},
   "outputs": [
    {
     "data": {
      "text/plain": [
       "[<matplotlib.lines.Line2D at 0x7f83da21df28>]"
      ]
     },
     "execution_count": 171,
     "metadata": {},
     "output_type": "execute_result"
    },
    {
     "data": {
      "image/png": "[encoded data removed]",
      "text/plain": [
       "<Figure size 432x288 with 1 Axes>"
      ]
     },
     "metadata": {
      "needs_background": "light"
     },
     "output_type": "display_data"
    }
   ],
   "source": [
    "fit_z = np.polyfit(np.cos(np.radians(90. - out_data['el'][2:])), out_data['z'][2:], 7)\n",
    "poly_z = np.poly1d(fit_z)\n",
    "rev_poly_z = np.poly1d(fit_z[::-1])\n",
    "\n",
    "el = np.linspace(20, 86.5)\n",
    "\n",
    "plt.plot(out_data['el'][2:], out_data['z'][2:], '.')\n",
    "plt.plot(el, poly_z(np.cos(np.radians(90. - el))))\n",
    "# plt.plot(el, rev_poly_z(np.cos(np.radians(90. - el))))"
   ]
  },
  {
   "cell_type": "code",
   "execution_count": 162,
   "metadata": {},
   "outputs": [
    {
     "name": "stdout",
     "output_type": "stream",
     "text": [
      "-       -279.386\n",
      "-      +1676.871\n",
      "-      -4064.106\n",
      "-      +5214.778\n",
      "-      -3855.691\n",
      "-      +1654.010\n",
      "-       -384.112\n",
      "-        +38.008\n"
     ]
    }
   ],
   "source": [
    "for coeff in fit_z:\n",
    "    print(f\"- {coeff:+14.3f}\")"
   ]
  },
  {
   "cell_type": "code",
   "execution_count": 161,
   "metadata": {},
   "outputs": [
    {
     "data": {
      "text/plain": [
       "[<matplotlib.lines.Line2D at 0x7f83f80dbe48>]"
      ]
     },
     "execution_count": 161,
     "metadata": {},
     "output_type": "execute_result"
    },
    {
     "data": {
      "image/png": "[encoded data removed]",
      "text/plain": [
       "<Figure size 432x288 with 1 Axes>"
      ]
     },
     "metadata": {
      "needs_background": "light"
     },
     "output_type": "display_data"
    }
   ],
   "source": [
    "plt.plot(out_data['el'][2:], out_data['z'][2:]-poly_z(np.cos(np.radians(90. - out_data['el'][2:]))), '.')"
   ]
  },
  {
   "cell_type": "code",
   "execution_count": 172,
   "metadata": {},
   "outputs": [
    {
     "data": {
      "text/plain": [
       "[<matplotlib.lines.Line2D at 0x7f83da179e10>]"
      ]
     },
     "execution_count": 172,
     "metadata": {},
     "output_type": "execute_result"
    },
    {
     "data": {
      "image/png": "[encoded data removed]",
      "text/plain": [
       "<Figure size 432x288 with 1 Axes>"
      ]
     },
     "metadata": {
      "needs_background": "light"
     },
     "output_type": "display_data"
    }
   ],
   "source": [
    "fit_x = np.polyfit(np.cos(np.radians(90. - out_data['el'][2:])), out_data['x'][2:], 4)\n",
    "poly_x = np.poly1d(fit_x)\n",
    "rev_poly_x = np.poly1d(fit_x[::-1])\n",
    "\n",
    "plt.plot(out_data['el'][2:], out_data['x'][2:], '.')\n",
    "plt.plot(el, poly_x(np.cos(np.radians(90. - el))))"
   ]
  },
  {
   "cell_type": "code",
   "execution_count": 163,
   "metadata": {},
   "outputs": [
    {
     "name": "stdout",
     "output_type": "stream",
     "text": [
      "-         +6.285\n",
      "-        -20.969\n",
      "-        +27.138\n",
      "-        -16.115\n",
      "-         -1.535\n"
     ]
    }
   ],
   "source": [
    "for coeff in fit_x:\n",
    "    print(f\"- {coeff:+14.3f}\")"
   ]
  },
  {
   "cell_type": "code",
   "execution_count": 173,
   "metadata": {},
   "outputs": [
    {
     "data": {
      "text/plain": [
       "[<matplotlib.lines.Line2D at 0x7f83d9db5438>]"
      ]
     },
     "execution_count": 173,
     "metadata": {},
     "output_type": "execute_result"
    },
    {
     "data": {
      "image/png": "[encoded data removed]",
      "text/plain": [
       "<Figure size 432x288 with 1 Axes>"
      ]
     },
     "metadata": {
      "needs_background": "light"
     },
     "output_type": "display_data"
    }
   ],
   "source": [
    "fit_y = np.polyfit(np.cos(np.radians(90. - out_data['el'][2:])), out_data['y'][2:], 3)\n",
    "poly_y = np.poly1d(fit_y)\n",
    "rev_poly_y = np.poly1d(fit_y[::-1])\n",
    "\n",
    "plt.plot(out_data['el'][2:], out_data['y'][2:], '.')\n",
    "plt.plot(el, poly_y(np.cos(np.radians(90. - el))))"
   ]
  },
  {
   "cell_type": "code",
   "execution_count": 164,
   "metadata": {},
   "outputs": [
    {
     "name": "stdout",
     "output_type": "stream",
     "text": [
      "-         -1.741\n",
      "-         +3.850\n",
      "-         -3.158\n",
      "-         +1.767\n"
     ]
    }
   ],
   "source": [
    "for coeff in fit_y:\n",
    "    print(f\"- {coeff:+14.3f}\")"
   ]
  },
  {
   "cell_type": "code",
   "execution_count": 168,
   "metadata": {},
   "outputs": [
    {
     "data": {
      "text/plain": [
       "(-5.201578241362627, 0.7272491726827441, 0.36189447874301806)"
      ]
     },
     "execution_count": 168,
     "metadata": {},
     "output_type": "execute_result"
    }
   ],
   "source": [
    "poly_x(np.cos(np.radians(90. - 80.))), poly_y(np.cos(np.radians(90. - 80.))), poly_z(np.cos(np.radians(90. - 80.)))"
   ]
  },
  {
   "cell_type": "code",
   "execution_count": 174,
   "metadata": {},
   "outputs": [
    {
     "data": {
      "text/plain": [
       "(-4.881222802729967, 0.6746061294499632, 0.3518206050572985)"
      ]
     },
     "execution_count": 174,
     "metadata": {},
     "output_type": "execute_result"
    }
   ],
   "source": [
    "rev_poly_x(np.cos(np.radians(90. - 80.))), rev_poly_y(np.cos(np.radians(90. - 80.))), rev_poly_z(np.cos(np.radians(90. - 80.)))"
   ]
  },
  {
   "cell_type": "code",
   "execution_count": 176,
   "metadata": {},
   "outputs": [
    {
     "data": {
      "text/plain": [
       "(-5.036315231899433, 0.9328159558162878, 0.4321433324772528)"
      ]
     },
     "execution_count": 176,
     "metadata": {},
     "output_type": "execute_result"
    }
   ],
   "source": [
    "el = 30.\n",
    "poly_x(np.cos(np.radians(90. - el))), poly_y(np.cos(np.radians(90. - el))), poly_z(np.cos(np.radians(90. - el)))"
   ]
  },
  {
   "cell_type": "code",
   "execution_count": null,
   "metadata": {},
   "outputs": [],
   "source": []
  }
 ],
 "metadata": {
  "kernelspec": {
   "display_name": "Python 3",
   "language": "python",
   "name": "python3"
  },
  "language_info": {
   "codemirror_mode": {
    "name": "ipython",
    "version": 3
   },
   "file_extension": ".py",
   "mimetype": "text/x-python",
   "name": "python",
   "nbconvert_exporter": "python",
   "pygments_lexer": "ipython3",
   "version": "3.7.8"
  }
 },
 "nbformat": 4,
 "nbformat_minor": 4
}
