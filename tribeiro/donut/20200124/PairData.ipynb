{
 "cells": [
  {
   "cell_type": "code",
   "execution_count": 1,
   "metadata": {},
   "outputs": [],
   "source": [
    "import asyncio \n",
    "import matplotlib\n",
    "\n",
    "import numpy as np\n",
    "import pandas as pd\n",
    "\n",
    "from matplotlib import pylab as plt\n",
    "from astropy.time import Time, TimeDelta\n",
    "\n",
    "from lsst_efd_client import EfdClient, resample\n",
    "\n",
    "%matplotlib inline"
   ]
  },
  {
   "cell_type": "code",
   "execution_count": 2,
   "metadata": {},
   "outputs": [],
   "source": [
    "efd_client = EfdClient('summit_efd')"
   ]
  },
  {
   "cell_type": "markdown",
   "metadata": {},
   "source": [
    "Query for all the `endReadout` events on the timespan of the night."
   ]
  },
  {
   "cell_type": "code",
   "execution_count": 3,
   "metadata": {},
   "outputs": [],
   "source": [
    "t1 = Time(\"2020-01-25T01:11\", format='isot', scale='tai')\n",
    "t2 = Time(\"2020-01-25T01:18\", format='isot', scale='tai')+TimeDelta(8.*24.*60*60., format='sec', scale='tai')"
   ]
  },
  {
   "cell_type": "code",
   "execution_count": 4,
   "metadata": {},
   "outputs": [],
   "source": [
    "end_readout = await efd_client.select_time_series(\"lsst.sal.GenericCamera.logevent_endReadout\", \n",
    "                                           [\"imageName\", \"exposureTime\"], t1, t2)"
   ]
  },
  {
   "cell_type": "markdown",
   "metadata": {},
   "source": [
    "Now match each entry. For each `i` item with `intra` in the name, there must be an `i+1` with `extra` otherwise it is not a pair. "
   ]
  },
  {
   "cell_type": "code",
   "execution_count": 5,
   "metadata": {},
   "outputs": [
    {
     "name": "stdout",
     "output_type": "stream",
     "text": [
      "Got 36 pairs and 0 misses.\n"
     ]
    }
   ],
   "source": [
    "intra_images = []\n",
    "extra_images = []\n",
    "intra_times = []\n",
    "extra_times = []\n",
    "intra_exptimes = []\n",
    "extra_exptimes = []\n",
    "\n",
    "i = 0\n",
    "npairs = 0\n",
    "nmiss = 0\n",
    "\n",
    "while i < len(end_readout):\n",
    "    intra = end_readout['imageName'][i]\n",
    "    extra = end_readout['imageName'][i+1]\n",
    "    \n",
    "    if 'intra' in intra and 'extra' in extra:\n",
    "#         print(f\"Got a pair: {intra} x {extra}\")\n",
    "        intra_images.append(intra)\n",
    "        extra_images.append(extra)\n",
    "        intra_times.append(end_readout.index[i])\n",
    "        extra_times.append(end_readout.index[i+1])\n",
    "        intra_exptimes.append(end_readout['exposureTime'][i])\n",
    "        extra_exptimes.append(end_readout['exposureTime'][i+1])\n",
    "        i+=2\n",
    "        npairs+=1\n",
    "    else:\n",
    "#         print(f\"No Match: {intra} x {extra}\")\n",
    "        nmiss+=1\n",
    "        i+=1\n",
    "\n",
    "print(f\"Got {npairs} pairs and {nmiss} misses.\")"
   ]
  },
  {
   "cell_type": "code",
   "execution_count": 6,
   "metadata": {},
   "outputs": [],
   "source": [
    "match_data = np.zeros(npairs, dtype=[('intra', '<U35'), \n",
    "                                     ('extra', '<U35'), \n",
    "                                     ('az', float), \n",
    "                                           ('el', float), \n",
    "                                           ('rot_pos', float),\n",
    "                                           ('x', float), \n",
    "                                           ('y', float), \n",
    "                                           ('z', float), \n",
    "                                           ('u', float), \n",
    "                                           ('v', float), \n",
    "                                           ('w', float), \n",
    "                                     ('m1_pressure', float),\n",
    "                                     ('dz', float)])"
   ]
  },
  {
   "cell_type": "code",
   "execution_count": 8,
   "metadata": {},
   "outputs": [
    {
     "name": "stdout",
     "output_type": "stream",
     "text": [
      "done\n"
     ]
    }
   ],
   "source": [
    "for i in range(npairs):\n",
    "\n",
    "    \n",
    "    t1 = Time(intra_times[i], scale='tai') - TimeDelta(intra_exptimes[i], format='sec', scale='tai') - TimeDelta(30., format='sec', scale='tai')\n",
    "    t2 = Time(extra_times[i], scale='tai') - TimeDelta(1., format='sec', scale='tai')\n",
    "\n",
    "    azel = await efd_client.select_time_series(\"lsst.sal.ATMCS.mount_AzEl_Encoders\", \n",
    "                                               [\"elevationCalculatedAngle99\", \"azimuthCalculatedAngle99\"], t1, t2)\n",
    "    rotator = await efd_client.select_time_series(\"lsst.sal.ATMCS.mount_Nasmyth_Encoders\",\n",
    "                                                  [\"nasmyth1CalculatedAngle99\"], t1, t2)\n",
    "    hexapod = await efd_client.select_time_series(\"lsst.sal.ATHexapod.command_moveToPosition\",\n",
    "                                                  [\"x\", \"y\", \"z\", \"u\", \"v\", \"w\"], t1, t2)\n",
    "    m1_pressure = await efd_client.select_time_series(\"lsst.sal.ATPneumatics.m1AirPressure\",\n",
    "                                                  [\"pressure\"], t1, t2)\n",
    "    offset = await efd_client.select_time_series(\"lsst.sal.ATAOS.command_applyAxisOffset\",\n",
    "                                                 [\"*\"], t1, t2)\n",
    "    \n",
    "    if len(hexapod) < 2:\n",
    "        print(f\"Could not get hexapod position for pair {i+1}: {intra_images[i]} x {extra_images[i]}\")\n",
    "        continue\n",
    "    elif '1579755351' in intra_images[i]:\n",
    "        print(f\"{intra_times[i]}:{intra_images[i]}\")\n",
    "        print(hexapod)\n",
    "        print(f\"{extra_times[i]}:{extra_images[i]}\")\n",
    "\n",
    "    rot_pos = np.mean(rotator['nasmyth1CalculatedAngle99'])\n",
    "    el = np.mean(azel['elevationCalculatedAngle99'])\n",
    "    az = np.mean(azel['azimuthCalculatedAngle99'])\n",
    "    x = (hexapod['x'][len(hexapod)-2]+hexapod['x'][len(hexapod)-1])/2.\n",
    "    y = (hexapod['y'][len(hexapod)-2]+hexapod['y'][len(hexapod)-1])/2.\n",
    "    z = (hexapod['z'][len(hexapod)-2]+hexapod['z'][len(hexapod)-1])/2.\n",
    "    u = (hexapod['u'][len(hexapod)-2]+hexapod['u'][len(hexapod)-1])/2.\n",
    "    v = (hexapod['v'][len(hexapod)-2]+hexapod['v'][len(hexapod)-1])/2.\n",
    "    w = (hexapod['w'][len(hexapod)-2]+hexapod['w'][len(hexapod)-1])/2.\n",
    "    m1 = np.mean(m1_pressure['pressure'])\n",
    "    dz = round((offset['offset'][-1] - offset['offset'][-2])/2.,3)\n",
    "\n",
    "#     print(offset['offset'][-2], offset['offset'][-1])\n",
    "    match_data[i] = (f\"{intra_images[i]}.fits\", f\"{extra_images[i]}.fits\", az, el, rot_pos, x, y, z, u, u, w, m1, dz)\n",
    "#     print(az, el, rot_pos, x, y, z, u, u, w)\n",
    "print(\"done\")"
   ]
  },
  {
   "cell_type": "code",
   "execution_count": 9,
   "metadata": {},
   "outputs": [],
   "source": [
    "df = pd.DataFrame(match_data)"
   ]
  },
  {
   "cell_type": "code",
   "execution_count": 10,
   "metadata": {},
   "outputs": [
    {
     "name": "stdout",
     "output_type": "stream",
     "text": [
      "1579914693-HD32309_intra-0-1.fits: 23.90751511641109: dz=1.5\n",
      "1579914974-HD32309_intra-0-1.fits: -1.317963482467377: dz=1.5\n",
      "1579916016-HD32309_intra-0-1.fits: 9.835266850253532: dz=1.5\n",
      "1579916251-HD32309_intra-0-1.fits: -2.4250292242683855: dz=1.5\n",
      "1579916527-HD32309_intra-0-1.fits: 47.38480224676959: dz=1.5\n",
      "1579917237-HD32309_intra-0-1.fits: -3.3401847378790848: dz=1.5\n",
      "1579917372-HD32309_intra-0-1.fits: 43.16738412391905: dz=1.5\n",
      "1579917536-HD32309_intra-0-1.fits: 90.40105396553759: dz=1.5\n",
      "1579918126-HD32309_intra-0-1.fits: -0.30472694501153796: dz=1.5\n",
      "1579918785-HD32309_intra-0-1.fits: 2.7512296908377607: dz=0.5\n",
      "1579919548-HD32309_intra-0-1.fits: 3.94918176287095: dz=0.5\n",
      "1579919938-HD32309_intra-0-1.fits: 3.825802818873683: dz=0.5\n",
      "1579920024-HD32309_intra-0-1.fits: 3.740886444335686: dz=1.5\n",
      "1579920116-HD32309_intra-0-1.fits: 3.633060990322093: dz=0.75\n",
      "1579920264-HD32309_intra-0-1.fits: 3.4228955032293413: dz=1.0\n",
      "1579921663-HD32309_intra-0-1.fits: -0.6701477201037278: dz=0.5\n",
      "1579921743-HD32309_intra-0-1.fits: -1.1867188651736598: dz=0.8\n",
      "1579923135-16Pup_intra-0-1.fits: 1.5593951400513077: dz=0.5\n",
      "1579923271-16Pup_intra-0-1.fits: 3.380469947750086: dz=0.7\n",
      "1579923411-16Pup_intra-0-1.fits: 5.059256915553959: dz=0.9\n",
      "1579923818-16Pup_intra-0-1.fits: -1.3302332931372263: dz=0.5\n",
      "1579924167-16Pup_intra-0-1.fits: -4.047347374506188: dz=0.5\n",
      "1579924627-16Pup_intra-0-1.fits: 2.9491127086972426: dz=0.5\n",
      "1579924833-16Pup_intra-0-1.fits: -2.4805507218359963: dz=0.7\n",
      "1579924945-16Pup_intra-0-1.fits: -0.5322856657214032: dz=0.9\n",
      "1579925613-16Pup_intra-0-1.fits: 2.075524980386561: dz=0.5\n",
      "1579925833-16Pup_intra-0-1.fits: -2.492713753517293: dz=0.5\n",
      "1579926008-16Pup_intra-0-1.fits: 0.9343096001104101: dz=0.7\n",
      "1579926150-16Pup_intra-0-1.fits: 3.724318423136239: dz=0.9\n",
      "1579926455-16Pup_intra-0-1.fits: 0.04042960694461328: dz=1.1\n",
      "1579926576-16Pup_intra-0-1.fits: 2.4400015074523935: dz=1.3\n",
      "1579927046-16Pup_intra-0-1.fits: 2.2924826148542508: dz=1.5\n",
      "1579928119-alpCMa_intra-0-1.fits: -4.971390403828501: dz=0.5\n",
      "1579928277-alpCMa_intra-0-1.fits: -0.4992177286927344: dz=1.0\n",
      "1579928391-alpCMa_intra-0-1.fits: -0.9728305952128977: dz=1.5\n",
      "1579928616-alpCMa_intra-0-1.fits: -1.8223654574040893: dz=0.5\n"
     ]
    }
   ],
   "source": [
    "for i in range(len(df)):\n",
    "    print(f\"{df['intra'][i]}: {df['el'][i]+df['rot_pos'][i]}: dz={df['dz'][i]}\")\n",
    "# df['intra'],df['el']+df['rot_pos']"
   ]
  },
  {
   "cell_type": "code",
   "execution_count": 11,
   "metadata": {},
   "outputs": [],
   "source": [
    "df.to_csv(\"20200124_match_all.csv\")"
   ]
  },
  {
   "cell_type": "code",
   "execution_count": null,
   "metadata": {},
   "outputs": [],
   "source": [
    "np.savetxt(\"20200124_matched_data.txt\", np.array(intra_images +extra_images), fmt=\"%s\")"
   ]
  },
  {
   "cell_type": "code",
   "execution_count": null,
   "metadata": {},
   "outputs": [],
   "source": [
    "(1.970002+0.470002)/2."
   ]
  },
  {
   "cell_type": "code",
   "execution_count": null,
   "metadata": {},
   "outputs": [],
   "source": [
    "(-1.029998+1.970002)/2."
   ]
  },
  {
   "cell_type": "code",
   "execution_count": null,
   "metadata": {},
   "outputs": [],
   "source": [
    "df2 = pd.DataFrame.from_csv(\"20200123_match.csv\")"
   ]
  },
  {
   "cell_type": "code",
   "execution_count": null,
   "metadata": {},
   "outputs": [],
   "source": [
    "df2 "
   ]
  },
  {
   "cell_type": "code",
   "execution_count": null,
   "metadata": {},
   "outputs": [],
   "source": [
    "plt.plot(df2['m1_pressure'],'.')"
   ]
  },
  {
   "cell_type": "code",
   "execution_count": null,
   "metadata": {},
   "outputs": [],
   "source": [
    "t1 = Time(\"2020-01-24T06:40:10.399\", format='isot', scale='tai')\n",
    "t2 = Time(\"2020-01-24T07:46:45.959\", format='isot', scale='tai')\n",
    "\n",
    "m1_pressure = await efd_client.select_time_series(\"lsst.sal.ATPneumatics.m1AirPressure\",\n",
    "                                              [\"pressure\"], t1, t2)\n",
    "\n"
   ]
  },
  {
   "cell_type": "code",
   "execution_count": null,
   "metadata": {},
   "outputs": [],
   "source": [
    "fig = plt.figure(1)\n",
    "\n",
    "ax = fig.add_subplot(111)\n",
    "\n",
    "t1 = Time(\"2020-01-24T06:40:10.399\", format='isot', scale='tai')\n",
    "t2 = Time(\"2020-01-24T07:46:45.959\", format='isot', scale='tai')\n",
    "\n",
    "m1_pressure = await efd_client.select_time_series(\"lsst.sal.ATPneumatics.m1AirPressure\",\n",
    "                                              [\"pressure\"], t1, t2)\n",
    "\n",
    "ax.plot(m1_pressure)\n",
    "\n",
    "for i in [46, 47, 49, 51, 53, 59]:\n",
    "    \n",
    "    t1 = Time(intra_times[i], scale='tai') - TimeDelta(intra_exptimes[i], format='sec', scale='tai') - TimeDelta(30., format='sec', scale='tai')\n",
    "    t2 = Time(extra_times[i], scale='tai') - TimeDelta(1., format='sec', scale='tai')\n",
    "\n",
    "    m1_pressure = await efd_client.select_time_series(\"lsst.sal.ATPneumatics.m1AirPressure\",\n",
    "                                              [\"pressure\"], t1, t2)\n",
    "\n",
    "    ax.plot(m1_pressure)\n"
   ]
  },
  {
   "cell_type": "code",
   "execution_count": null,
   "metadata": {},
   "outputs": [],
   "source": []
  }
 ],
 "metadata": {
  "kernelspec": {
   "display_name": "Python 3",
   "language": "python",
   "name": "python3"
  },
  "language_info": {
   "codemirror_mode": {
    "name": "ipython",
    "version": 3
   },
   "file_extension": ".py",
   "mimetype": "text/x-python",
   "name": "python",
   "nbconvert_exporter": "python",
   "pygments_lexer": "ipython3",
   "version": "3.7.2"
  }
 },
 "nbformat": 4,
 "nbformat_minor": 4
}
