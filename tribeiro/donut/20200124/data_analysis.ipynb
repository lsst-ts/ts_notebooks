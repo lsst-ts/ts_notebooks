{
 "cells": [
  {
   "cell_type": "markdown",
   "metadata": {},
   "source": [
    "# Analysis of HD32313 data"
   ]
  },
  {
   "cell_type": "code",
   "execution_count": null,
   "metadata": {},
   "outputs": [],
   "source": [
    "import os\n",
    "import copy\n",
    "import wget\n",
    "import time\n",
    "import asyncio\n",
    "import warnings\n",
    "import logging\n",
    "\n",
    "import numpy as np\n",
    "import pandas as pd\n",
    "from pathlib import Path\n",
    "\n",
    "from astropy.io import fits\n",
    "from astropy.modeling import models, fitting\n",
    "\n",
    "from scipy import ndimage\n",
    "from scipy.signal import medfilt\n",
    "from scipy.ndimage.filters import gaussian_filter\n",
    "\n",
    "from matplotlib import pyplot as plt\n",
    "\n",
    "from lsst import cwfs\n",
    "from lsst.cwfs.instrument import Instrument\n",
    "from lsst.cwfs.algorithm import Algorithm\n",
    "from lsst.cwfs.image import Image, readFile, aperture2image, showProjection\n",
    "import lsst.cwfs.plots as plots\n",
    "\n",
    "plt.rcParams['figure.figsize'] = [7, 6]\n",
    "\n",
    "%matplotlib inline"
   ]
  },
  {
   "cell_type": "code",
   "execution_count": null,
   "metadata": {},
   "outputs": [],
   "source": [
    "class DonutHandler:\n",
    "    def __init__(self):\n",
    "        \n",
    "        self.data_folder = Path(\"data/\")\n",
    "        self.output_folder = Path(\"data/output\")\n",
    "\n",
    "        self.intra_fnames = []\n",
    "        self.extra_fnames = []\n",
    "        \n",
    "        self.intra_exposures = []\n",
    "        self.extra_exposures = []\n",
    "        \n",
    "        self.dz = []\n",
    "        self.dz_dict = {}\n",
    "\n",
    "        # I1/I2 get modified down below, so reset here\n",
    "        self.I1 = []\n",
    "        self.I2 = []\n",
    "        self.pMask = []\n",
    "        self.to_process = []\n",
    "\n",
    "        self.zern = []\n",
    "\n",
    "        # Select where your object is, but ours will be on-axis\n",
    "        self.fieldXY = [0.0,0.0]\n",
    "\n",
    "        self.ceny = 350 #round(im_shape[0]/2)\n",
    "        self.cenx = 450 # round(im_shape[1]/2)\n",
    "        \n",
    "        self.pre_side = 300\n",
    "        self.side = 192  # size for dz=1.5\n",
    "        \n",
    "    @property\n",
    "    def ndata(self):\n",
    "        return len(self.intra_fnames)\n",
    "    \n",
    "    def set_intra_extra(self, intra, extra):\n",
    "        \n",
    "        self.intra_fnames = intra\n",
    "        self.extra_fnames = extra\n",
    "        \n",
    "        for i in range(self.ndata):\n",
    "            self.intra_exposures.append((fits.open(self.data_folder / intra[i]))[0].data)\n",
    "            self.extra_exposures.append((fits.open(self.data_folder / extra[i]))[0].data)\n",
    "    \n",
    "    def set_dz(self, dz_list):\n",
    "        \n",
    "        if len(dz_list) != self.ndata:\n",
    "            raise RuntimeError(\"dzlist and ndata must have size lenght.\")\n",
    "        \n",
    "        self.dz = np.copy(dz_list)\n",
    "        cwfs_config_template = \"\"\"#Auxiliary Telescope parameters:\n",
    "Obscuration                             0.3525\n",
    "Focal_length (m)                        21.6\n",
    "Aperture_diameter (m)                   1.2\n",
    "Offset (m)                              {}\n",
    "Pixel_size (m)                          1.44e-5\n",
    "\"\"\"\n",
    "        unique_dz = np.unique(self.dz)\n",
    "        \n",
    "        for i in range(len(unique_dz)):\n",
    "            config_index = f\"auxtel_{i}\"\n",
    "            path = Path(cwfs.__file__).resolve().parents[3].joinpath(\"data\", config_index)\n",
    "            if not path.exists():\n",
    "                os.makedirs(path)\n",
    "            dest = path.joinpath(f\"{config_index}.param\")\n",
    "            with open(dest, \"w\") as fp:\n",
    "                fp.write(cwfs_config_template.format(unique_dz[i]*0.041))\n",
    "            self.dz_dict[unique_dz[i]] = config_index\n",
    "\n",
    "    def center_and_cut_image(self, index, side=400, semi_auto=False, manual=False):\n",
    "        \n",
    "        intra_exp = self.intra_exposures[index]\n",
    "        extra_exp = self.extra_exposures[index]\n",
    "\n",
    "        if not manual:\n",
    "            \n",
    "            if semi_auto:\n",
    "                ceny, cenx = self.ceny, self.cenx\n",
    "                print(ceny, cenx)                \n",
    "            else:\n",
    "                print(\"Automatic centering\")\n",
    "                im_shape=intra_exp.shape\n",
    "                im_filtered = medfilt(intra_exp+extra_exp,[3,3])\n",
    "                im_filtered -= int(np.median(im_filtered))\n",
    "                mean = np.mean(im_filtered)\n",
    "                # iter 1\n",
    "                ceny, cenx = np.array(ndimage.measurements.center_of_mass(im_filtered), dtype=int)\n",
    "                print(ceny, cenx)\n",
    "            # iter 2\n",
    "            intra_square = intra_exp[ceny-self.pre_side:ceny+self.pre_side, \n",
    "                                     cenx-self.pre_side:cenx+self.pre_side] \n",
    "            extra_square = extra_exp[ceny-self.pre_side:ceny+self.pre_side, \n",
    "                                     cenx-self.pre_side:cenx+self.pre_side]\n",
    "            print(intra_square.shape, extra_square.shape)\n",
    "            im = (intra_square+extra_square)\n",
    "            im_filtered = medfilt(im,[3,3])\n",
    "            im_filtered -= int(np.median(im_filtered))\n",
    "            mean = np.mean(im_filtered)\n",
    "            im_filtered[im_filtered < mean] = 0.\n",
    "            im_filtered[im_filtered > mean] = 1.\n",
    "            # iter 1\n",
    "            cy2, cx2 = np.array(ndimage.measurements.center_of_mass(im_filtered), dtype=int)\n",
    "            print(cy2-self.pre_side, cx2-self.pre_side)    \n",
    "            ceny += (cy2-self.pre_side)\n",
    "            cenx += (cx2-self.pre_side)\n",
    "            \n",
    "            # Now center individually \n",
    "            ## INTRA\n",
    "            intra_square_2 = intra_exp[ceny-self.pre_side:ceny+self.pre_side, \n",
    "                                       cenx-self.pre_side:cenx+self.pre_side] \n",
    "\n",
    "            \n",
    "            intra_filtered = medfilt(intra_square_2,[3,3])\n",
    "            intra_filtered -= int(np.median(intra_filtered))\n",
    "\n",
    "            mean = np.mean(intra_filtered)\n",
    "            intra_filtered[intra_filtered < mean] = 0.\n",
    "            intra_filtered[intra_filtered > mean] = 1.\n",
    "            # iter 1\n",
    "            cy2_intra, cx2_intra = np.array(ndimage.measurements.center_of_mass(intra_filtered), dtype=int)\n",
    "            print(cy2_intra-self.pre_side, cx2_intra-self.pre_side)    \n",
    "            ceny_intra = ceny+(cy2_intra-self.pre_side)\n",
    "            cenx_intra = cenx+(cx2_intra-self.pre_side)\n",
    "            \n",
    "            ## EXTRA\n",
    "            extra_square_2 = extra_exp[ceny-self.pre_side:ceny+self.pre_side, \n",
    "                                       cenx-self.pre_side:cenx+self.pre_side] \n",
    "\n",
    "            \n",
    "            extra_filtered = medfilt(extra_square_2,[3,3])\n",
    "            extra_filtered -= int(np.median(extra_filtered))\n",
    "\n",
    "            mean = np.mean(extra_filtered)\n",
    "            intra_filtered[extra_filtered < mean] = 0.\n",
    "            intra_filtered[extra_filtered > mean] = 1.\n",
    "            # iter 1\n",
    "            cy2_extra, cx2_extra = np.array(ndimage.measurements.center_of_mass(extra_filtered), dtype=int)\n",
    "            print(cy2_extra-self.pre_side, cx2_extra-self.pre_side)    \n",
    "            ceny_extra = ceny+(cy2_extra-self.pre_side)\n",
    "            cenx_extra = cenx+(cx2_extra-self.pre_side)\n",
    "        else:\n",
    "            print(\"Manual centering\")\n",
    "            ceny_intra=self.ceny #round(im_shape[0]/2)\n",
    "            cenx_intra=self.cenx # round(im_shape[1]/2)\n",
    "            \n",
    "            ceny_extra=self.ceny #round(im_shape[0]/2)\n",
    "            cenx_extra=self.cenx # round(im_shape[1]/2)\n",
    "            \n",
    "        side=int(self.side*self.dz[index]/1.5) # side length of image\n",
    "        print(f\"Side is {side}\")\n",
    "        print('Creating stamps of centroid [y,x] = [{},{}] with a side length of {} pixels'.format(ceny,cenx,side))\n",
    "        im_shape=intra_exp.shape\n",
    "        intra_square = intra_exp[ceny_intra-side:ceny_intra+side, cenx_intra-side:cenx_intra+side] \n",
    "        extra_square = extra_exp[ceny_extra-side:ceny_extra+side, cenx_extra-side:cenx_extra+side]\n",
    "\n",
    "        return intra_square, extra_square\n",
    "    \n",
    "    def create_images(self):\n",
    "        \n",
    "        for i in range(self.ndata):\n",
    "            try:\n",
    "                i1, i2 = self.center_and_cut_image(i)\n",
    "            except Exception as e:\n",
    "                print(f\"Could not process pair {i}: {self.intra_fnames[i]} x {self.extra_fnames[i]}. Consider removing from data\")\n",
    "                self.to_process.append(False)\n",
    "                self.I1.append(None)\n",
    "                self.I2.append(None)\n",
    "            else:\n",
    "                self.to_process.append(True)\n",
    "                self.I1.append(Image(i1, self.fieldXY, Image.INTRA))\n",
    "                self.I2.append(Image(i2, self.fieldXY, Image.EXTRA))\n",
    "\n",
    "    def run_algo(self):\n",
    "        # Declare instrument\n",
    "        \n",
    "        #declare algorithm\n",
    "        # declare algorithm - exponential solver.\n",
    "        \n",
    "        for i in range(self.ndata):\n",
    "            if not self.to_process[i]:\n",
    "                print(f\"Skiping pair {i}\")\n",
    "                self.zern.append(np.zeros(9))\n",
    "                self.pMask.append(None)\n",
    "                continue\n",
    "\n",
    "            dz = self.dz[i]\n",
    "            \n",
    "            hex_to_focus_scale = 41.0\n",
    "            offset=1.5 *hex_to_focus_scale # [mm] multiply hexapod dz by magnification factor\n",
    "            pixelsize = 3.6e-6*4 # 4 is the binning\n",
    "            # FIXME: put an assertion here and calculate binning above based on change in image size, also pull offset from filename!\n",
    "\n",
    "            print(f\"dz:{dz} - {self.dz_dict[dz]}\")\n",
    "            inst = Instrument(self.dz_dict[dz], self.I1[i].sizeinPix)\n",
    "\n",
    "            print('Offset should be :{} [mm] at the focus, {} [mm] at the hexapod'.format(offset, offset/hex_to_focus_scale))\n",
    "            print('Offset in file is :{} [mm] at the focus'.format(1e3*inst.offset))\n",
    "            print('pixelSize should be: {}'.format(pixelsize))\n",
    "\n",
    "            algo = Algorithm('exp', inst, 1) # example     \n",
    "\n",
    "#             algo.reset(donut_handler.I1[i], donut_handler.I2[i])\n",
    "\n",
    "            algo.runIt(inst,self.I1[i],self.I2[i],'onAxis')\n",
    "            \n",
    "            self.pMask.append(algo.pMask)\n",
    "            \n",
    "            self.zern.append(algo.zer4UpNm[0:9])\n"
   ]
  },
  {
   "cell_type": "markdown",
   "metadata": {},
   "source": [
    "## Dataset 1:\n",
    "\n",
    "El: ??. -- about ??:?? UTC\n",
    "\n",
    "Extra-focal filename: 1576286733-HD32313-0-1.fits\n",
    "\n",
    "Intra-focal filename: 1576286665-HD32313-0-1.fits"
   ]
  },
  {
   "cell_type": "code",
   "execution_count": null,
   "metadata": {},
   "outputs": [],
   "source": [
    "intra_fname_1 = \"1579919938-HD32309_intra-0-1.fits\"\n",
    "extra_fname_1 = \"1579919976-HD32309_extra-0-1.fits\""
   ]
  },
  {
   "cell_type": "code",
   "execution_count": null,
   "metadata": {},
   "outputs": [],
   "source": [
    "intra_fnames = [intra_fname_1]\n",
    "extra_fnames = [extra_fname_1]"
   ]
  },
  {
   "cell_type": "markdown",
   "metadata": {},
   "source": [
    "## Start setup of donut code. "
   ]
  },
  {
   "cell_type": "code",
   "execution_count": null,
   "metadata": {},
   "outputs": [],
   "source": [
    "donut_handler = DonutHandler()"
   ]
  },
  {
   "cell_type": "code",
   "execution_count": null,
   "metadata": {},
   "outputs": [],
   "source": [
    "donut_handler.set_intra_extra(intra_fnames, extra_fnames)"
   ]
  },
  {
   "cell_type": "code",
   "execution_count": null,
   "metadata": {},
   "outputs": [],
   "source": [
    "donut_handler.set_dz([0.5])"
   ]
  },
  {
   "cell_type": "code",
   "execution_count": null,
   "metadata": {},
   "outputs": [],
   "source": [
    "donut_handler.create_images()"
   ]
  },
  {
   "cell_type": "markdown",
   "metadata": {},
   "source": [
    "## Run it"
   ]
  },
  {
   "cell_type": "code",
   "execution_count": null,
   "metadata": {},
   "outputs": [],
   "source": [
    "donut_handler.run_algo()"
   ]
  },
  {
   "cell_type": "markdown",
   "metadata": {},
   "source": [
    "## Some diagnostics plots"
   ]
  },
  {
   "cell_type": "code",
   "execution_count": null,
   "metadata": {},
   "outputs": [],
   "source": [
    "fig = plt.figure()\n",
    "\n",
    "for i in range(donut_handler.ndata):\n",
    "    sub1 = fig.add_subplot(2, donut_handler.ndata*2, 1+i)\n",
    "    sub1.imshow(donut_handler.I1[i].image0)\n",
    "    sub1.contour(donut_handler.I1[i].pMask)\n",
    "\n",
    "    sub2 = fig.add_subplot(2, donut_handler.ndata*2, 1+i+1)\n",
    "    sub2.imshow(donut_handler.I1[i].image)\n",
    "    sub2.contour(donut_handler.I1[i].pMask)\n",
    "\n",
    "    sub3 = fig.add_subplot(2, donut_handler.ndata*2, donut_handler.ndata*2+1+i)\n",
    "    sub3.imshow(donut_handler.I2[i].image0)\n",
    "    sub3.contour(donut_handler.I2[i].pMask)\n",
    "\n",
    "    sub4 = fig.add_subplot(2, donut_handler.ndata*2, donut_handler.ndata*2+1+i+1)\n",
    "    sub4.imshow(donut_handler.I2[i].image)\n",
    "    sub4.contour(donut_handler.I2[i].pMask)\n",
    "\n"
   ]
  },
  {
   "cell_type": "code",
   "execution_count": null,
   "metadata": {},
   "outputs": [],
   "source": [
    "for i in range(donut_handler.ndata):\n",
    "    plt.plot(donut_handler.zern[i], 'o-')\n",
    "plt.grid()"
   ]
  },
  {
   "cell_type": "code",
   "execution_count": null,
   "metadata": {},
   "outputs": [],
   "source": []
  },
  {
   "cell_type": "markdown",
   "metadata": {},
   "source": [
    "## Run in bulk"
   ]
  },
  {
   "cell_type": "code",
   "execution_count": null,
   "metadata": {},
   "outputs": [],
   "source": []
  },
  {
   "cell_type": "code",
   "execution_count": null,
   "metadata": {},
   "outputs": [],
   "source": [
    "df = pd.DataFrame.from_csv(\"20200124_match_test1.csv\")"
   ]
  },
  {
   "cell_type": "code",
   "execution_count": null,
   "metadata": {},
   "outputs": [],
   "source": [
    "df['dz']"
   ]
  },
  {
   "cell_type": "code",
   "execution_count": null,
   "metadata": {},
   "outputs": [],
   "source": [
    "donut_handler = DonutHandler()"
   ]
  },
  {
   "cell_type": "code",
   "execution_count": null,
   "metadata": {},
   "outputs": [],
   "source": [
    "donut_handler.set_intra_extra(df['intra'], df['extra'])"
   ]
  },
  {
   "cell_type": "code",
   "execution_count": null,
   "metadata": {},
   "outputs": [],
   "source": [
    "donut_handler.set_dz(df['dz'])"
   ]
  },
  {
   "cell_type": "code",
   "execution_count": null,
   "metadata": {},
   "outputs": [],
   "source": [
    "donut_handler.create_images()"
   ]
  },
  {
   "cell_type": "code",
   "execution_count": null,
   "metadata": {},
   "outputs": [],
   "source": [
    "donut_handler.run_algo()"
   ]
  },
  {
   "cell_type": "code",
   "execution_count": null,
   "metadata": {},
   "outputs": [],
   "source": [
    "x = np.arange(9)+4\n",
    "for i in range(len(donut_handler.zern)):\n",
    "    plt.plot(x, donut_handler.zern[i], 'o-', label=f'{donut_handler.dz[i]}')\n",
    "\n",
    "plt.ylabel(\"Zernike coeff (nm)\")\n",
    "plt.xlabel(\"Zernike index\")\n",
    "plt.grid()\n",
    "plt.legend()"
   ]
  },
  {
   "cell_type": "code",
   "execution_count": null,
   "metadata": {},
   "outputs": [],
   "source": [
    "x = np.arange(9)+4\n",
    "\n",
    "plt.plot(x, donut_handler.zern[0], 'o-', label=f'{donut_handler.dz[0]}')\n",
    "plt.plot(x, donut_handler.zern[1], 'o-', label=f'{donut_handler.dz[1]}')\n",
    "\n",
    "xlim = plt.xlim()\n",
    "\n",
    "plt.plot(np.arange(15), np.zeros(15)+50, 'b--')\n",
    "plt.plot(np.arange(15), np.zeros(15)-50, 'b--')\n",
    "plt.xlim(xlim)\n",
    "plt.ylabel(\"Zernike coeff (nm)\")\n",
    "plt.xlabel(\"Zernike index\")\n",
    "plt.grid()\n",
    "plt.legend()"
   ]
  },
  {
   "cell_type": "code",
   "execution_count": null,
   "metadata": {},
   "outputs": [],
   "source": [
    "fig1 = plt.figure(1, figsize=(12,8))\n",
    "\n",
    "ax11 = fig1.add_subplot(221)\n",
    "\n",
    "ax11.set_title(\"defocus 0.5 - intra\")\n",
    "ax11.imshow(donut_handler.I1[0].image0)\n",
    "ax11.contour(donut_handler.pMask[0]) \n",
    "\n",
    "ax12 = fig1.add_subplot(223)\n",
    "\n",
    "ax12.set_title(\"defocus 0.5 - extra\")\n",
    "ax12.imshow(donut_handler.I2[0].image0)\n",
    "ax12.contour(donut_handler.pMask[0]) \n",
    "\n",
    "ax21 = fig1.add_subplot(222)\n",
    "\n",
    "ax21.set_title(\"defocus 1.5 - intra\")\n",
    "ax21.imshow(donut_handler.I1[1].image0)\n",
    "ax21.contour(donut_handler.pMask[1]) \n",
    "\n",
    "ax22 = fig1.add_subplot(224)\n",
    "\n",
    "ax22.set_title(\"defocus 1.5 - extra\")\n",
    "ax22.imshow(donut_handler.I2[1].image0)\n",
    "ax22.contour(donut_handler.pMask[1]) \n",
    "\n",
    "\n"
   ]
  },
  {
   "cell_type": "code",
   "execution_count": null,
   "metadata": {},
   "outputs": [],
   "source": []
  },
  {
   "cell_type": "code",
   "execution_count": null,
   "metadata": {},
   "outputs": [],
   "source": []
  },
  {
   "cell_type": "code",
   "execution_count": null,
   "metadata": {},
   "outputs": [],
   "source": []
  },
  {
   "cell_type": "code",
   "execution_count": null,
   "metadata": {},
   "outputs": [],
   "source": []
  },
  {
   "cell_type": "code",
   "execution_count": null,
   "metadata": {},
   "outputs": [],
   "source": []
  },
  {
   "cell_type": "code",
   "execution_count": null,
   "metadata": {},
   "outputs": [],
   "source": []
  },
  {
   "cell_type": "code",
   "execution_count": null,
   "metadata": {},
   "outputs": [],
   "source": [
    "x = np.arange(9)+4\n",
    "for i in range(len(donut_handler.zern)):\n",
    "    plt.plot(x, donut_handler.zern[i], 'o-', label=f'{donut_handler.dz[i]}')\n",
    "\n",
    "plt.ylabel(\"Zernike coeff (nm)\")\n",
    "plt.xlabel(\"Zernike index\")\n",
    "plt.grid()\n",
    "plt.legend()"
   ]
  },
  {
   "cell_type": "code",
   "execution_count": null,
   "metadata": {},
   "outputs": [],
   "source": [
    "fig1 = plt.figure(1, figsize=(12,8))\n",
    "\n",
    "ax11 = fig1.add_subplot(121)\n",
    "\n",
    "ax11.imshow(donut_handler.I1[0].image0)\n",
    "ax11.contour(donut_handler.pMask[0]) \n",
    "\n",
    "ax12 = fig1.add_subplot(122)\n",
    "\n",
    "ax12.imshow(donut_handler.I2[0].image0)\n",
    "ax12.contour(donut_handler.pMask[0]) \n"
   ]
  },
  {
   "cell_type": "code",
   "execution_count": null,
   "metadata": {},
   "outputs": [],
   "source": [
    "fig1 = plt.figure(1, figsize=(12,8))\n",
    "\n",
    "ax11 = fig1.add_subplot(121)\n",
    "\n",
    "ax11.imshow(donut_handler.I1[1].image0)\n",
    "ax11.contour(donut_handler.pMask[1]) \n",
    "\n",
    "ax12 = fig1.add_subplot(122)\n",
    "\n",
    "ax12.imshow(donut_handler.I2[1].image0)\n",
    "ax12.contour(donut_handler.pMask[1]) \n",
    "\n"
   ]
  },
  {
   "cell_type": "code",
   "execution_count": null,
   "metadata": {},
   "outputs": [],
   "source": []
  },
  {
   "cell_type": "code",
   "execution_count": null,
   "metadata": {},
   "outputs": [],
   "source": [
    "df2 = pd.DataFrame.from_csv(\"20200124_match_test2.csv\")"
   ]
  },
  {
   "cell_type": "code",
   "execution_count": null,
   "metadata": {},
   "outputs": [],
   "source": [
    "donut_handler2 = DonutHandler()"
   ]
  },
  {
   "cell_type": "code",
   "execution_count": null,
   "metadata": {},
   "outputs": [],
   "source": [
    "donut_handler2.set_intra_extra(df2['intra'], df2['extra'])"
   ]
  },
  {
   "cell_type": "code",
   "execution_count": null,
   "metadata": {},
   "outputs": [],
   "source": [
    "donut_handler2.set_dz(df2['dz'])"
   ]
  },
  {
   "cell_type": "code",
   "execution_count": null,
   "metadata": {},
   "outputs": [],
   "source": [
    "donut_handler2.create_images()"
   ]
  },
  {
   "cell_type": "code",
   "execution_count": null,
   "metadata": {},
   "outputs": [],
   "source": [
    "donut_handler2.run_algo()"
   ]
  },
  {
   "cell_type": "code",
   "execution_count": null,
   "metadata": {},
   "outputs": [],
   "source": [
    "x = np.arange(9)+4\n",
    "for i in range(len(donut_handler2.zern)):\n",
    "    plt.plot(x, donut_handler2.zern[i], 'o-', label=f'{donut_handler2.dz[i]}')\n",
    "\n",
    "plt.ylabel(\"Zernike coeff (nm)\")\n",
    "plt.xlabel(\"Zernike index\")\n",
    "plt.grid()\n",
    "plt.legend()"
   ]
  },
  {
   "cell_type": "code",
   "execution_count": null,
   "metadata": {},
   "outputs": [],
   "source": [
    "\n",
    "fig1 = plt.figure(1, figsize=(12,8))\n",
    "\n",
    "ax11 = fig1.add_subplot(121)\n",
    "\n",
    "plots.plotImage(donut_handler2.I1[0].image,'intra', mask=donut_handler2.pMask[0], show=False)\n",
    "\n",
    "ax23 = fig1.add_subplot(122)\n",
    "\n",
    "plots.plotImage(donut_handler2.I2[0].image,'extra', mask=donut_handler2.pMask[0], show=False) \n"
   ]
  },
  {
   "cell_type": "code",
   "execution_count": null,
   "metadata": {},
   "outputs": [],
   "source": [
    "fig1 = plt.figure(1, figsize=(12,8))\n",
    "\n",
    "ax11 = fig1.add_subplot(121)\n",
    "\n",
    "plots.plotImage(donut_handler2.I1[1].image,'intra', mask=donut_handler2.pMask[1], show=False)\n",
    "\n",
    "ax23 = fig1.add_subplot(122)\n",
    "\n",
    "plots.plotImage(donut_handler2.I2[1].image,'extra', mask=donut_handler2.pMask[1], show=False) \n"
   ]
  },
  {
   "cell_type": "code",
   "execution_count": null,
   "metadata": {},
   "outputs": [],
   "source": [
    "\n",
    "fig1 = plt.figure(1, figsize=(12,8))\n",
    "\n",
    "ax11 = fig1.add_subplot(121)\n",
    "\n",
    "ax11.imshow(donut_handler2.I1[0].image)\n",
    "\n",
    "# ax23 = fig1.add_subplot(122)\n",
    "\n",
    "ax11.contour(donut_handler2.pMask[0]) \n",
    "\n",
    "ax12 = fig1.add_subplot(122)\n",
    "\n",
    "ax12.imshow(donut_handler2.I2[0].image)\n",
    "\n",
    "# ax23 = fig1.add_subplot(122)\n",
    "\n",
    "ax12.contour(donut_handler2.pMask[0]) \n",
    "\n",
    "\n"
   ]
  },
  {
   "cell_type": "code",
   "execution_count": null,
   "metadata": {},
   "outputs": [],
   "source": [
    "\n",
    "fig1 = plt.figure(1, figsize=(12,8))\n",
    "\n",
    "ax11 = fig1.add_subplot(121)\n",
    "\n",
    "ax11.imshow(donut_handler2.I1[1].image)\n",
    "\n",
    "# ax23 = fig1.add_subplot(122)\n",
    "\n",
    "ax11.contour(donut_handler2.pMask[1]) \n",
    "\n",
    "ax12 = fig1.add_subplot(122)\n",
    "\n",
    "ax12.imshow(donut_handler2.I2[1].image)\n",
    "\n",
    "# ax23 = fig1.add_subplot(122)\n",
    "\n",
    "ax12.contour(donut_handler2.pMask[1]) \n",
    "\n",
    "\n",
    "\n"
   ]
  },
  {
   "cell_type": "code",
   "execution_count": null,
   "metadata": {},
   "outputs": [],
   "source": [
    "\n",
    "fig1 = plt.figure(1, figsize=(12,8))\n",
    "\n",
    "ax11 = fig1.add_subplot(121)\n",
    "\n",
    "ax11.imshow(donut_handler2.I1[2].image)\n",
    "\n",
    "# ax23 = fig1.add_subplot(122)\n",
    "\n",
    "ax11.contour(donut_handler2.pMask[2]) \n",
    "\n",
    "ax12 = fig1.add_subplot(122)\n",
    "\n",
    "ax12.imshow(donut_handler2.I2[2].image)\n",
    "\n",
    "# ax23 = fig1.add_subplot(122)\n",
    "\n",
    "ax12.contour(donut_handler2.pMask[2]) \n"
   ]
  },
  {
   "cell_type": "code",
   "execution_count": null,
   "metadata": {},
   "outputs": [],
   "source": []
  },
  {
   "cell_type": "code",
   "execution_count": null,
   "metadata": {},
   "outputs": [],
   "source": [
    "df3 = pd.DataFrame.from_csv(\"20200124_match_test3.csv\")"
   ]
  },
  {
   "cell_type": "code",
   "execution_count": null,
   "metadata": {},
   "outputs": [],
   "source": [
    "donut_handler3 = DonutHandler()"
   ]
  },
  {
   "cell_type": "code",
   "execution_count": null,
   "metadata": {},
   "outputs": [],
   "source": [
    "donut_handler3.set_intra_extra(df3['intra'], df3['extra'])"
   ]
  },
  {
   "cell_type": "code",
   "execution_count": null,
   "metadata": {},
   "outputs": [],
   "source": [
    "donut_handler3.set_dz(df3['dz'])"
   ]
  },
  {
   "cell_type": "code",
   "execution_count": null,
   "metadata": {},
   "outputs": [],
   "source": [
    "donut_handler3.create_images()"
   ]
  },
  {
   "cell_type": "code",
   "execution_count": null,
   "metadata": {},
   "outputs": [],
   "source": [
    "donut_handler3.run_algo()"
   ]
  },
  {
   "cell_type": "code",
   "execution_count": null,
   "metadata": {},
   "outputs": [],
   "source": [
    "x = np.arange(9)+4\n",
    "for i in range(len(donut_handler3.zern)):\n",
    "    plt.plot(x, donut_handler3.zern[i], 'o-', label=f'{donut_handler3.dz[i]}')\n",
    "\n",
    "plt.ylabel(\"Zernike coeff (nm)\")\n",
    "plt.xlabel(\"Zernike index\")\n",
    "plt.grid()\n",
    "plt.legend()"
   ]
  },
  {
   "cell_type": "code",
   "execution_count": null,
   "metadata": {},
   "outputs": [],
   "source": [
    "fig1 = plt.figure(1, figsize=(8,5))\n",
    "\n",
    "ax11 = fig1.add_subplot(121)\n",
    "\n",
    "ax11.imshow(donut_handler3.I1[0].image0)\n",
    "ax11.contour(donut_handler3.pMask[0]) \n",
    "\n",
    "ax12 = fig1.add_subplot(122)\n",
    "\n",
    "ax12.imshow(donut_handler3.I2[0].image0)\n",
    "ax12.contour(donut_handler3.pMask[0]) \n",
    "\n"
   ]
  },
  {
   "cell_type": "code",
   "execution_count": null,
   "metadata": {},
   "outputs": [],
   "source": [
    "fig1 = plt.figure(1, figsize=(8,5))\n",
    "\n",
    "ax11 = fig1.add_subplot(121)\n",
    "\n",
    "ax11.imshow(donut_handler3.I1[1].image0)\n",
    "ax11.contour(donut_handler3.pMask[1]) \n",
    "\n",
    "ax12 = fig1.add_subplot(122)\n",
    "\n",
    "ax12.imshow(donut_handler3.I2[1].image0)\n",
    "ax12.contour(donut_handler3.pMask[1]) \n",
    "\n",
    "\n"
   ]
  },
  {
   "cell_type": "code",
   "execution_count": null,
   "metadata": {},
   "outputs": [],
   "source": [
    "fig1 = plt.figure(1, figsize=(8,5))\n",
    "\n",
    "ax11 = fig1.add_subplot(121)\n",
    "\n",
    "ax11.imshow(donut_handler3.I1[2].image0)\n",
    "ax11.contour(donut_handler3.pMask[2]) \n",
    "\n",
    "ax12 = fig1.add_subplot(122)\n",
    "\n",
    "ax12.imshow(donut_handler3.I2[2].image0)\n",
    "ax12.contour(donut_handler3.pMask[2]) \n"
   ]
  },
  {
   "cell_type": "code",
   "execution_count": null,
   "metadata": {},
   "outputs": [],
   "source": []
  },
  {
   "cell_type": "code",
   "execution_count": null,
   "metadata": {},
   "outputs": [],
   "source": []
  },
  {
   "cell_type": "code",
   "execution_count": null,
   "metadata": {},
   "outputs": [],
   "source": [
    "df4 = pd.DataFrame.from_csv(\"20200124_match_test4.csv\")"
   ]
  },
  {
   "cell_type": "code",
   "execution_count": null,
   "metadata": {},
   "outputs": [],
   "source": [
    "df4"
   ]
  },
  {
   "cell_type": "code",
   "execution_count": null,
   "metadata": {},
   "outputs": [],
   "source": [
    "donut_handler4 = DonutHandler()"
   ]
  },
  {
   "cell_type": "code",
   "execution_count": null,
   "metadata": {},
   "outputs": [],
   "source": [
    "donut_handler4.set_intra_extra(df4['intra'], df4['extra'])"
   ]
  },
  {
   "cell_type": "code",
   "execution_count": null,
   "metadata": {},
   "outputs": [],
   "source": [
    "donut_handler4.set_dz(df4['dz'])"
   ]
  },
  {
   "cell_type": "code",
   "execution_count": null,
   "metadata": {},
   "outputs": [],
   "source": [
    "donut_handler4.create_images()"
   ]
  },
  {
   "cell_type": "code",
   "execution_count": null,
   "metadata": {},
   "outputs": [],
   "source": [
    "donut_handler4.cenx=555\n",
    "donut_handler4.ceny=305"
   ]
  },
  {
   "cell_type": "code",
   "execution_count": null,
   "metadata": {},
   "outputs": [],
   "source": [
    "i1, i2 = donut_handler4.center_and_cut_image(0, semi_auto=True)\n",
    "\n",
    "donut_handler4.I1[0] = Image(i1, donut_handler4.fieldXY, Image.INTRA)\n",
    "donut_handler4.I2[0] = Image(i2, donut_handler4.fieldXY, Image.EXTRA)\n",
    "\n",
    "fig1 = plt.figure(1, figsize=(8,5))\n",
    "\n",
    "ax11 = fig1.add_subplot(121)\n",
    "\n",
    "ax11.imshow(donut_handler4.I1[0].image)\n",
    "\n",
    "ax12 = fig1.add_subplot(122)\n",
    "\n",
    "ax12.imshow(donut_handler4.I2[0].image)\n"
   ]
  },
  {
   "cell_type": "code",
   "execution_count": null,
   "metadata": {},
   "outputs": [],
   "source": [
    "donut_handler4.to_process[0] = True"
   ]
  },
  {
   "cell_type": "code",
   "execution_count": null,
   "metadata": {},
   "outputs": [],
   "source": [
    "donut_handler4.to_process"
   ]
  },
  {
   "cell_type": "code",
   "execution_count": null,
   "metadata": {},
   "outputs": [],
   "source": [
    "donut_handler4.cenx=526\n",
    "donut_handler4.ceny=335"
   ]
  },
  {
   "cell_type": "code",
   "execution_count": null,
   "metadata": {},
   "outputs": [],
   "source": [
    "i1, i2 = donut_handler4.center_and_cut_image(5, semi_auto=True)\n",
    "\n",
    "donut_handler4.I1[5] = Image(i1, donut_handler4.fieldXY, Image.INTRA)\n",
    "donut_handler4.I2[5] = Image(i2, donut_handler4.fieldXY, Image.EXTRA)\n",
    "\n",
    "fig1 = plt.figure(1, figsize=(8,5))\n",
    "\n",
    "ax11 = fig1.add_subplot(121)\n",
    "\n",
    "ax11.imshow(donut_handler4.I1[5].image)\n",
    "\n",
    "ax12 = fig1.add_subplot(122)\n",
    "\n",
    "ax12.imshow(donut_handler4.I2[5].image)\n",
    "\n"
   ]
  },
  {
   "cell_type": "code",
   "execution_count": null,
   "metadata": {},
   "outputs": [],
   "source": [
    "donut_handler4.to_process[5] = True"
   ]
  },
  {
   "cell_type": "code",
   "execution_count": null,
   "metadata": {},
   "outputs": [],
   "source": [
    "donut_handler4.run_algo()"
   ]
  },
  {
   "cell_type": "code",
   "execution_count": null,
   "metadata": {},
   "outputs": [],
   "source": [
    "x = np.arange(9)+4\n",
    "for i in range(len(donut_handler4.zern)):\n",
    "#     if i in [0, 5] :\n",
    "#         continue\n",
    "    plt.plot(x, donut_handler4.zern[i], 'o-', label=f'{donut_handler4.dz[i]}')\n",
    "\n",
    "plt.ylabel(\"Zernike coeff (nm)\")\n",
    "plt.xlabel(\"Zernike index\")\n",
    "plt.grid()\n",
    "plt.legend()"
   ]
  },
  {
   "cell_type": "code",
   "execution_count": null,
   "metadata": {},
   "outputs": [],
   "source": [
    "x = np.arange(9)+4\n",
    "\n",
    "plt.plot(x, donut_handler4.zern[0], 'o-', label=f'{donut_handler4.dz[0]}')\n",
    "plt.plot(x, donut_handler4.zern[2], 'o-', label=f'{donut_handler4.dz[2]}')\n",
    "plt.plot(x, donut_handler4.zern[3], 'o-', label=f'{donut_handler4.dz[3]}')\n",
    "plt.plot(x, donut_handler4.zern[-1], 'o-', label=f'{donut_handler4.dz[-1]}')\n",
    "\n",
    "xlim = plt.xlim()\n",
    "\n",
    "plt.plot(np.arange(15), np.zeros(15)+50, 'b--')\n",
    "plt.plot(np.arange(15), np.zeros(15)-50, 'b--')\n",
    "plt.xlim(xlim)\n",
    "plt.ylabel(\"Zernike coeff (nm)\")\n",
    "plt.xlabel(\"Zernike index\")\n",
    "plt.grid()\n",
    "plt.legend()"
   ]
  },
  {
   "cell_type": "code",
   "execution_count": null,
   "metadata": {},
   "outputs": [],
   "source": [
    "np.min(donut_handler4.I1[0].image0), np.max(donut_handler4.I1[0].image0), \\\n",
    "np.min(donut_handler4.I1[3].image0), np.max(donut_handler4.I1[3].image0)\n"
   ]
  },
  {
   "cell_type": "code",
   "execution_count": null,
   "metadata": {},
   "outputs": [],
   "source": [
    "fig1 = plt.figure(1, figsize=(12,8))\n",
    "\n",
    "ax11 = fig1.add_subplot(221)\n",
    "\n",
    "ax11.set_title(\"defocus 0.5 - intra\")\n",
    "ax11.imshow(donut_handler4.I1[0].image0, vmin=300, vmax=54e3)\n",
    "ax11.contour(donut_handler4.pMask[0]) \n",
    "\n",
    "ax12 = fig1.add_subplot(223)\n",
    "\n",
    "ax12.set_title(\"defocus 0.5 - extra\")\n",
    "ax12.imshow(donut_handler4.I2[0].image0, vmin=300, vmax=54e3)\n",
    "ax12.contour(donut_handler4.pMask[0]) \n",
    "\n",
    "ax21 = fig1.add_subplot(222)\n",
    "\n",
    "ax21.set_title(\"defocus 0.9 - intra\")\n",
    "ax21.imshow(donut_handler4.I1[2].image0, vmin=300, vmax=24e3)\n",
    "ax21.contour(donut_handler4.pMask[2]) \n",
    "\n",
    "ax22 = fig1.add_subplot(224)\n",
    "\n",
    "ax22.set_title(\"defocus 0.9 - extra\")\n",
    "ax22.imshow(donut_handler4.I2[2].image0, vmin=300, vmax=24e3)\n",
    "ax22.contour(donut_handler4.pMask[2]) \n",
    "\n",
    "\n",
    "\n"
   ]
  },
  {
   "cell_type": "code",
   "execution_count": null,
   "metadata": {},
   "outputs": [],
   "source": []
  },
  {
   "cell_type": "code",
   "execution_count": null,
   "metadata": {},
   "outputs": [],
   "source": []
  },
  {
   "cell_type": "code",
   "execution_count": null,
   "metadata": {},
   "outputs": [],
   "source": []
  },
  {
   "cell_type": "code",
   "execution_count": null,
   "metadata": {},
   "outputs": [],
   "source": [
    "fig1 = plt.figure(1, figsize=(8,5))\n",
    "\n",
    "ax11 = fig1.add_subplot(121)\n",
    "\n",
    "ax11.imshow(donut_handler4.I1[0].image0)\n",
    "ax11.contour(donut_handler4.pMask[0]) \n",
    "\n",
    "ax12 = fig1.add_subplot(122)\n",
    "\n",
    "ax12.imshow(donut_handler4.I2[0].image0)\n",
    "ax12.contour(donut_handler4.pMask[0]) \n"
   ]
  },
  {
   "cell_type": "code",
   "execution_count": null,
   "metadata": {},
   "outputs": [],
   "source": [
    "fig1 = plt.figure(1, figsize=(8,5))\n",
    "\n",
    "ax11 = fig1.add_subplot(121)\n",
    "\n",
    "ax11.imshow(donut_handler4.I1[1].image0)\n",
    "ax11.contour(donut_handler4.pMask[1]) \n",
    "\n",
    "ax12 = fig1.add_subplot(122)\n",
    "\n",
    "ax12.imshow(donut_handler4.I2[1].image0)\n",
    "ax12.contour(donut_handler4.pMask[1]) \n",
    "\n"
   ]
  },
  {
   "cell_type": "code",
   "execution_count": null,
   "metadata": {},
   "outputs": [],
   "source": [
    "fig1 = plt.figure(1, figsize=(8,5))\n",
    "\n",
    "ax11 = fig1.add_subplot(121)\n",
    "\n",
    "ax11.imshow(donut_handler4.I1[2].image0)\n",
    "ax11.contour(donut_handler4.pMask[1]) \n",
    "\n",
    "ax12 = fig1.add_subplot(122)\n",
    "\n",
    "ax12.imshow(donut_handler4.I2[2].image0)\n",
    "ax12.contour(donut_handler4.pMask[1]) \n",
    "\n",
    "\n"
   ]
  },
  {
   "cell_type": "code",
   "execution_count": null,
   "metadata": {},
   "outputs": [],
   "source": [
    "fig1 = plt.figure(1, figsize=(8,5))\n",
    "\n",
    "ax11 = fig1.add_subplot(121)\n",
    "\n",
    "ax11.imshow(donut_handler4.I1[4].image0)\n",
    "ax11.contour(donut_handler4.pMask[3]) \n",
    "\n",
    "ax12 = fig1.add_subplot(122)\n",
    "\n",
    "ax12.imshow(donut_handler4.I2[4].image0)\n",
    "ax12.contour(donut_handler4.pMask[3]) \n",
    "\n",
    "\n",
    "\n"
   ]
  },
  {
   "cell_type": "code",
   "execution_count": null,
   "metadata": {},
   "outputs": [],
   "source": [
    "fig1 = plt.figure(1, figsize=(8,5))\n",
    "\n",
    "ax11 = fig1.add_subplot(121)\n",
    "\n",
    "print(np.min(donut_handler4.I1[6].image0), np.max(donut_handler4.I1[6].image0))\n",
    "ax11.imshow(donut_handler4.I1[6].image0,vmin=143, vmax=500)\n",
    "ax11.contour(donut_handler4.pMask[4]) \n",
    "\n",
    "ax12 = fig1.add_subplot(122)\n",
    "\n",
    "print(np.min(donut_handler4.I2[6].image0), np.max(donut_handler4.I2[6].image0))\n",
    "ax12.imshow(donut_handler4.I2[6].image0,vmin=143, vmax=1007)\n",
    "ax12.contour(donut_handler4.pMask[4]) \n",
    "\n",
    "\n"
   ]
  },
  {
   "cell_type": "code",
   "execution_count": null,
   "metadata": {},
   "outputs": [],
   "source": []
  },
  {
   "cell_type": "code",
   "execution_count": null,
   "metadata": {},
   "outputs": [],
   "source": [
    "plt.imshow(donut_handler4.intra_exposures[0])"
   ]
  },
  {
   "cell_type": "code",
   "execution_count": null,
   "metadata": {},
   "outputs": [],
   "source": [
    "plt.imshow(donut_handler4.extra_exposures[0])"
   ]
  },
  {
   "cell_type": "code",
   "execution_count": null,
   "metadata": {},
   "outputs": [],
   "source": []
  }
 ],
 "metadata": {
  "kernelspec": {
   "display_name": "Python 3",
   "language": "python",
   "name": "python3"
  },
  "language_info": {
   "codemirror_mode": {
    "name": "ipython",
    "version": 3
   },
   "file_extension": ".py",
   "mimetype": "text/x-python",
   "name": "python",
   "nbconvert_exporter": "python",
   "pygments_lexer": "ipython3",
   "version": "3.7.2"
  }
 },
 "nbformat": 4,
 "nbformat_minor": 4
}
