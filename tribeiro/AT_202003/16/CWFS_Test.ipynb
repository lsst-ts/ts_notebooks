{
 "cells": [
  {
   "cell_type": "code",
   "execution_count": 1,
   "metadata": {},
   "outputs": [],
   "source": [
    "import os\n",
    "import sys\n",
    "import asyncio\n",
    "import logging\n",
    "\n",
    "import numpy as np\n",
    "\n",
    "from lsst.ts import salobj\n",
    "\n",
    "import matplotlib.pyplot as plt\n",
    "\n",
    "from lsst.ts.externalscripts.auxtel.latiss_cwfs_align import LatissCWFSAlign"
   ]
  },
  {
   "cell_type": "code",
   "execution_count": 2,
   "metadata": {},
   "outputs": [],
   "source": [
    "os.environ[\"LSST_DDS_DOMAIN\"] = 'lsatmcs'\n",
    "os.environ[\"OSPL_URI\"] = \"file:///home/tribeiro/ospl.xml\""
   ]
  },
  {
   "cell_type": "code",
   "execution_count": 3,
   "metadata": {},
   "outputs": [],
   "source": [
    "stream_handler = logging.StreamHandler(sys.stdout)\n",
    "\n",
    "logger = logging.getLogger()\n",
    "logger.addHandler(stream_handler)\n",
    "logger.level = logging.DEBUG"
   ]
  },
  {
   "cell_type": "code",
   "execution_count": 4,
   "metadata": {},
   "outputs": [
    {
     "name": "stdout",
     "output_type": "stream",
     "text": [
      "CPU times: user 30.7 s, sys: 20.8 s, total: 51.5 s\n",
      "Wall time: 31.4 s\n",
      "Read historical data in 0.01 sec\n",
      "Read historical data in 0.96 sec\n",
      "Read historical data in 1.28 sec\n",
      "Read historical data in 1.63 sec\n",
      "Read historical data in 2.03 sec\n",
      "Read historical data in 2.99 sec\n",
      "Read historical data in 4.49 sec\n",
      "Read historical data in 5.80 sec\n",
      "Read historical data in 6.64 sec\n",
      "Read historical data in 8.19 sec\n",
      "Read historical data in 9.70 sec\n",
      "RemoteEvent(ATHexapod, 0, heartbeat) falling behind; read 13 messages\n",
      "RemoteEvent(ATDomeTrajectory, 0, logMessage) falling behind; read 100 messages\n",
      "RemoteEvent(ATHeaderService, 0, heartbeat) falling behind; read 12 messages\n",
      "RemoteEvent(ATArchiver, 0, heartbeat) falling behind; read 12 messages\n",
      "RemoteTelemetry(ATDome, 0, position) falling behind; read 37 messages\n",
      "RemoteTelemetry(ATPtg, 0, timeAndDate) falling behind; read 19 messages\n",
      "RemoteEvent(ATDomeTrajectory, 0, heartbeat) falling behind; read 12 messages\n",
      "RemoteTelemetry(ATPneumatics, 0, m2AirPressure) falling behind; read 10 messages\n",
      "Read historical data in 0.28 sec\n",
      "RemoteTelemetry(ATHexapod, 0, positionStatus) falling behind; read 12 messages\n",
      "RemoteEvent(ATAOS, 0, heartbeat) falling behind; read 11 messages\n",
      "RemoteTelemetry(ATPneumatics, 0, m1AirPressure) falling behind; read 10 messages\n",
      "RemoteEvent(ATDome, 0, doorEncoderExtremes) falling behind; read 42 messages\n",
      "RemoteTelemetry(ATPtg, 0, mountStatus) falling behind; read 21 messages\n",
      "RemoteEvent(ATAOS, 0, detailedState) falling behind; read 10 messages\n",
      "RemoteTelemetry(ATPneumatics, 0, loadCell) falling behind; read 10 messages\n",
      "RemoteTelemetry(ATPtg, 0, guidingAndOffsets) falling behind; read 23 messages\n",
      "RemoteEvent(ATMCS, 0, target) falling behind; read 42 messages\n",
      "RemoteEvent(ATPneumatics, 0, heartbeat) falling behind; read 11 messages\n",
      "RemoteTelemetry(ATPtg, 0, currentTargetStatus) falling behind; read 24 messages\n",
      "RemoteEvent(ATHeaderService, 0, logMessage) falling behind; read 30 messages\n",
      "RemoteEvent(ATMCS, 0, target) falling behind; read 39 messages\n",
      "RemoteEvent(ATDomeTrajectory, 0, logMessage) falling behind; read 12 messages\n",
      "RemoteEvent(ATMCS, 0, target) falling behind; read 40 messages\n",
      "RemoteEvent(ATDomeTrajectory, 0, logMessage) falling behind; read 13 messages\n",
      "RemoteEvent(ATHeaderService, 0, logMessage) falling behind; read 14 messages\n",
      "RemoteEvent(ATDomeTrajectory, 0, logMessage) falling behind; read 16 messages\n",
      "RemoteEvent(ATHeaderService, 0, logMessage) falling behind; read 10 messages\n",
      "RemoteEvent(ATHeaderService, 0, logMessage) falling behind; read 10 messages\n",
      "RemoteEvent(ATMCS, 0, target) falling behind; read 60 messages\n",
      "RemoteEvent(ATHeaderService, 0, logMessage) falling behind; read 10 messages\n",
      "RemoteEvent(ATMCS, 0, target) falling behind; read 18 messages\n",
      "RemoteEvent(ATDomeTrajectory, 0, logMessage) falling behind; read 14 messages\n",
      "RemoteEvent(ATHeaderService, 0, logMessage) falling behind; read 10 messages\n",
      "RemoteEvent(ATMCS, 0, target) falling behind; read 100 messages\n",
      "RemoteEvent(ATDomeTrajectory, 0, logMessage) falling behind; read 19 messages\n",
      "RemoteEvent(ATDomeTrajectory, 0, logMessage) falling behind; read 20 messages\n",
      "RemoteEvent(ATHeaderService, 0, logMessage) falling behind; read 11 messages\n",
      "RemoteEvent(ATHeaderService, 0, logMessage) falling behind; read 12 messages\n",
      "RemoteEvent(ATHeaderService, 0, logMessage) falling behind; read 13 messages\n",
      "RemoteEvent(ATHeaderService, 0, logMessage) falling behind; read 10 messages\n",
      "RemoteEvent(ATHeaderService, 0, logMessage) falling behind; read 10 messages\n",
      "RemoteEvent(ATHeaderService, 0, logMessage) falling behind; read 11 messages\n",
      "RemoteEvent(ATHeaderService, 0, logMessage) falling behind; read 10 messages\n",
      "RemoteEvent(ATHeaderService, 0, logMessage) falling behind; read 11 messages\n",
      "RemoteEvent(ATHeaderService, 0, logMessage) falling behind; read 10 messages\n",
      "RemoteEvent(ATHeaderService, 0, logMessage) falling behind; read 11 messages\n",
      "RemoteEvent(ATHeaderService, 0, logMessage) falling behind; read 11 messages\n",
      "RemoteEvent(ATHeaderService, 0, logMessage) falling behind; read 10 messages\n",
      "RemoteEvent(ATHeaderService, 0, logMessage) falling behind; read 10 messages\n",
      "RemoteEvent(ATHeaderService, 0, logMessage) falling behind; read 11 messages\n",
      "RemoteEvent(ATHeaderService, 0, logMessage) falling behind; read 10 messages\n",
      "RemoteEvent(ATHeaderService, 0, logMessage) falling behind; read 12 messages\n",
      "RemoteEvent(ATHeaderService, 0, logMessage) falling behind; read 10 messages\n",
      "RemoteEvent(ATHeaderService, 0, logMessage) falling behind; read 11 messages\n",
      "RemoteEvent(ATHeaderService, 0, logMessage) falling behind; read 10 messages\n",
      "RemoteEvent(ATHeaderService, 0, logMessage) falling behind; read 11 messages\n",
      "RemoteEvent(ATHeaderService, 0, logMessage) falling behind; read 13 messages\n",
      "RemoteEvent(ATHeaderService, 0, logMessage) falling behind; read 12 messages\n",
      "RemoteEvent(ATHeaderService, 0, logMessage) falling behind; read 13 messages\n",
      "RemoteEvent(ATHeaderService, 0, logMessage) falling behind; read 68 messages\n",
      "RemoteEvent(ATHeaderService, 0, logMessage) falling behind; read 13 messages\n",
      "RemoteEvent(ATHeaderService, 0, logMessage) falling behind; read 11 messages\n",
      "RemoteEvent(ATHeaderService, 0, logMessage) falling behind; read 11 messages\n",
      "RemoteEvent(ATHeaderService, 0, logMessage) falling behind; read 13 messages\n",
      "RemoteEvent(ATHeaderService, 0, logMessage) falling behind; read 18 messages\n",
      "RemoteEvent(ATHeaderService, 0, logMessage) falling behind; read 15 messages\n",
      "RemoteEvent(ATHeaderService, 0, logMessage) falling behind; read 14 messages\n",
      "RemoteEvent(ATHeaderService, 0, logMessage) falling behind; read 10 messages\n",
      "RemoteEvent(ATHeaderService, 0, logMessage) falling behind; read 15 messages\n",
      "RemoteEvent(ATHeaderService, 0, logMessage) falling behind; read 10 messages\n",
      "RemoteEvent(ATHeaderService, 0, logMessage) falling behind; read 15 messages\n",
      "RemoteEvent(ATHeaderService, 0, logMessage) falling behind; read 10 messages\n",
      "RemoteEvent(ATHeaderService, 0, logMessage) falling behind; read 12 messages\n",
      "RemoteEvent(ATHeaderService, 0, logMessage) falling behind; read 10 messages\n",
      "RemoteEvent(ATHeaderService, 0, logMessage) falling behind; read 11 messages\n",
      "RemoteEvent(ATHeaderService, 0, logMessage) falling behind; read 11 messages\n",
      "RemoteEvent(ATHeaderService, 0, logMessage) falling behind; read 11 messages\n",
      "RemoteEvent(ATHeaderService, 0, logMessage) falling behind; read 10 messages\n",
      "RemoteEvent(ATHeaderService, 0, logMessage) falling behind; read 14 messages\n",
      "RemoteEvent(ATHeaderService, 0, logMessage) falling behind; read 10 messages\n",
      "RemoteEvent(ATHeaderService, 0, logMessage) falling behind; read 11 messages\n",
      "RemoteEvent(ATHeaderService, 0, logMessage) falling behind; read 10 messages\n",
      "RemoteEvent(ATHeaderService, 0, logMessage) falling behind; read 10 messages\n",
      "RemoteEvent(ATHeaderService, 0, logMessage) falling behind; read 10 messages\n",
      "RemoteEvent(ATHeaderService, 0, logMessage) falling behind; read 14 messages\n",
      "RemoteEvent(ATHeaderService, 0, logMessage) falling behind; read 10 messages\n",
      "RemoteEvent(ATHeaderService, 0, logMessage) falling behind; read 12 messages\n",
      "RemoteEvent(ATHeaderService, 0, logMessage) falling behind; read 12 messages\n",
      "RemoteEvent(ATHeaderService, 0, logMessage) falling behind; read 10 messages\n",
      "RemoteEvent(ATHeaderService, 0, logMessage) falling behind; read 11 messages\n",
      "RemoteEvent(ATHeaderService, 0, logMessage) falling behind; read 13 messages\n",
      "RemoteEvent(ATHeaderService, 0, logMessage) falling behind; read 18 messages\n",
      "RemoteEvent(ATHeaderService, 0, logMessage) falling behind; read 11 messages\n",
      "RemoteEvent(ATHeaderService, 0, logMessage) falling behind; read 10 messages\n",
      "RemoteEvent(ATHeaderService, 0, logMessage) falling behind; read 11 messages\n",
      "RemoteEvent(ATHeaderService, 0, logMessage) falling behind; read 13 messages\n",
      "RemoteEvent(ATHeaderService, 0, logMessage) falling behind; read 13 messages\n",
      "RemoteEvent(ATHeaderService, 0, logMessage) falling behind; read 11 messages\n",
      "RemoteEvent(ATHeaderService, 0, logMessage) falling behind; read 11 messages\n",
      "RemoteEvent(ATHeaderService, 0, logMessage) falling behind; read 12 messages\n",
      "RemoteTelemetry(ATMCS, 0, measuredTorque) falling behind; read 10 messages\n",
      "RemoteTelemetry(ATMCS, 0, measuredMotorVelocity) falling behind; read 14 messages\n",
      "RemoteTelemetry(ATMCS, 0, azEl_mountMotorEncoders) falling behind; read 14 messages\n",
      "RemoteEvent(ATMCS, 0, heartbeat) falling behind; read 15 messages\n",
      "RemoteTelemetry(ATMCS, 0, trajectory) falling behind; read 14 messages\n",
      "RemoteTelemetry(ATMCS, 0, torqueDemand) falling behind; read 14 messages\n",
      "RemoteTelemetry(ATMCS, 0, nasymth_m3_mountMotorEncoders) falling behind; read 13 messages\n",
      "RemoteTelemetry(ATMCS, 0, mount_Nasmyth_Encoders) falling behind; read 10 messages\n"
     ]
    }
   ],
   "source": [
    "%time cwfs = LatissCWFSAlign(index=1, remotes=True)"
   ]
  },
  {
   "cell_type": "code",
   "execution_count": null,
   "metadata": {},
   "outputs": [],
   "source": [
    "await cwfs.start_task"
   ]
  },
  {
   "cell_type": "code",
   "execution_count": null,
   "metadata": {},
   "outputs": [],
   "source": [
    "logger.level = logging.INFO"
   ]
  },
  {
   "cell_type": "code",
   "execution_count": null,
   "metadata": {},
   "outputs": [],
   "source": [
    "# await cwfs.hexapod_offset(+2*cwfs.dz)"
   ]
  },
  {
   "cell_type": "code",
   "execution_count": null,
   "metadata": {},
   "outputs": [],
   "source": [
    "# await cwfs.attcs.ataos.cmd_resetOffset.start()"
   ]
  },
  {
   "cell_type": "code",
   "execution_count": null,
   "metadata": {},
   "outputs": [],
   "source": [
    "cwfs.filter = \"BG40\"\n",
    "cwfs.grating = \"empty_1\""
   ]
  },
  {
   "cell_type": "code",
   "execution_count": null,
   "metadata": {},
   "outputs": [],
   "source": [
    "# cwfs.intra_visit_id = 2020031200280\n",
    "# cwfs.extra_visit_id = 2020031200281\n",
    "cwfs.dataPath = \"/project/shared/auxTel\"\n",
    "# cwfs.angle = 10.\n",
    "# print(cwfs.camera_rotation_angle)"
   ]
  },
  {
   "cell_type": "code",
   "execution_count": null,
   "metadata": {},
   "outputs": [],
   "source": [
    "cwfs.exposure_time"
   ]
  },
  {
   "cell_type": "code",
   "execution_count": null,
   "metadata": {},
   "outputs": [],
   "source": [
    "await cwfs.take_intra_extra()"
   ]
  },
  {
   "cell_type": "code",
   "execution_count": null,
   "metadata": {},
   "outputs": [],
   "source": [
    "await cwfs.attcs.ataos.cmd_offset.set_start(x=0., y=0.5, z=0.)"
   ]
  },
  {
   "cell_type": "code",
   "execution_count": null,
   "metadata": {},
   "outputs": [],
   "source": [
    "await cwfs.take_intra_extra()"
   ]
  },
  {
   "cell_type": "code",
   "execution_count": null,
   "metadata": {},
   "outputs": [],
   "source": [
    "await cwfs.attcs.ataos.cmd_offset.set_start(x=0.5, y=-0.5, z=0.)"
   ]
  },
  {
   "cell_type": "code",
   "execution_count": null,
   "metadata": {},
   "outputs": [],
   "source": [
    "await cwfs.take_intra_extra()"
   ]
  },
  {
   "cell_type": "code",
   "execution_count": null,
   "metadata": {},
   "outputs": [],
   "source": [
    "await cwfs.attcs.ataos.cmd_offset.set_start(x=-0.5, y=0., z=0.)"
   ]
  },
  {
   "cell_type": "code",
   "execution_count": null,
   "metadata": {},
   "outputs": [],
   "source": []
  },
  {
   "cell_type": "code",
   "execution_count": null,
   "metadata": {},
   "outputs": [],
   "source": [
    "cwfs.intra_visit_id = 2020031200332\n",
    "cwfs.extra_visit_id = 2020031200333"
   ]
  },
  {
   "cell_type": "code",
   "execution_count": null,
   "metadata": {},
   "outputs": [],
   "source": [
    "await cwfs.run_cwfs()"
   ]
  },
  {
   "cell_type": "code",
   "execution_count": null,
   "metadata": {},
   "outputs": [],
   "source": [
    "# print results\n",
    "cwfs.show_results()\n",
    "# plot zernikes\n",
    "x = np.arange(9)+4\n",
    "plt.plot(x, cwfs.algo.zer4UpNm[:9], 'o-', label=f'{cwfs.dz}')\n",
    "xlim = plt.xlim()\n",
    "plt.plot(np.arange(15), np.zeros(15)+50, 'b--')\n",
    "plt.plot(np.arange(15), np.zeros(15)-50, 'b--')\n",
    "plt.xlim(xlim)\n",
    "plt.ylabel(\"Zernike coeff (nm)\")\n",
    "plt.xlabel(\"Zernike index\")\n",
    "plt.grid()\n",
    "plt.legend()\n",
    "print(cwfs.algo.zer4UpNm[:9])"
   ]
  },
  {
   "cell_type": "code",
   "execution_count": null,
   "metadata": {},
   "outputs": [],
   "source": [
    "fig1 = plt.figure(1, figsize=(12,8))\n",
    "\n",
    "ax11 = fig1.add_subplot(121)\n",
    "\n",
    "ax11.set_title(\"defocus 0.8 - intra\")\n",
    "ax11.imshow(cwfs.I1[0].image0)\n",
    "ax11.contour(cwfs.algo.pMask) \n",
    "\n",
    "ax12 = fig1.add_subplot(122)\n",
    "\n",
    "ax12.set_title(\"defocus 0.8 - extra\")\n",
    "ax12.imshow(cwfs.I2[0].image0)\n",
    "ax12.contour(cwfs.algo.pMask) "
   ]
  },
  {
   "cell_type": "code",
   "execution_count": null,
   "metadata": {},
   "outputs": [],
   "source": [
    "cwfs.show_results()"
   ]
  },
  {
   "cell_type": "code",
   "execution_count": null,
   "metadata": {},
   "outputs": [],
   "source": [
    "await cwfs.attcs.ataos.cmd_offset.set_start(x=0., y=0., z=0.01859576)"
   ]
  },
  {
   "cell_type": "code",
   "execution_count": null,
   "metadata": {},
   "outputs": [],
   "source": [
    "cwfs.intra_visit_id = None\n",
    "cwfs.extra_visit_id = None"
   ]
  },
  {
   "cell_type": "code",
   "execution_count": null,
   "metadata": {},
   "outputs": [],
   "source": [
    "await cwfs.run_cwfs()"
   ]
  },
  {
   "cell_type": "code",
   "execution_count": null,
   "metadata": {},
   "outputs": [],
   "source": [
    "fig1 = plt.figure(1, figsize=(12,8))\n",
    "\n",
    "ax11 = fig1.add_subplot(121)\n",
    "\n",
    "ax11.set_title(\"defocus 0.8 - intra\")\n",
    "ax11.imshow(cwfs.I1[0].image0)\n",
    "ax11.contour(cwfs.algo.pMask) \n",
    "\n",
    "ax12 = fig1.add_subplot(122)\n",
    "\n",
    "ax12.set_title(\"defocus 0.8 - extra\")\n",
    "ax12.imshow(cwfs.I2[0].image0)\n",
    "ax12.contour(cwfs.algo.pMask) "
   ]
  },
  {
   "cell_type": "code",
   "execution_count": null,
   "metadata": {},
   "outputs": [],
   "source": [
    "await cwfs.latiss.take_object(5)"
   ]
  },
  {
   "cell_type": "code",
   "execution_count": null,
   "metadata": {},
   "outputs": [],
   "source": [
    "await cwfs.attcs.atdome.cmd_openShutter.start()"
   ]
  },
  {
   "cell_type": "code",
   "execution_count": null,
   "metadata": {},
   "outputs": [],
   "source": [
    "cwfs.show_results()"
   ]
  },
  {
   "cell_type": "code",
   "execution_count": null,
   "metadata": {},
   "outputs": [],
   "source": [
    "await cwfs.attcs.ataos.cmd_offset.set_start(x=0., y=0., z=0.014)"
   ]
  },
  {
   "cell_type": "code",
   "execution_count": null,
   "metadata": {},
   "outputs": [],
   "source": [
    "cwfs.intra_visit_id = None\n",
    "cwfs.extra_visit_id = None"
   ]
  },
  {
   "cell_type": "code",
   "execution_count": null,
   "metadata": {},
   "outputs": [],
   "source": [
    "await cwfs.run_cwfs()"
   ]
  },
  {
   "cell_type": "code",
   "execution_count": null,
   "metadata": {},
   "outputs": [],
   "source": [
    "fig1 = plt.figure(1, figsize=(12,8))\n",
    "\n",
    "ax11 = fig1.add_subplot(121)\n",
    "\n",
    "ax11.set_title(\"defocus 0.8 - intra\")\n",
    "ax11.imshow(cwfs.I1[0].image0)\n",
    "ax11.contour(cwfs.algo.pMask) \n",
    "\n",
    "ax12 = fig1.add_subplot(122)\n",
    "\n",
    "ax12.set_title(\"defocus 0.8 - extra\")\n",
    "ax12.imshow(cwfs.I2[0].image0)\n",
    "ax12.contour(cwfs.algo.pMask) "
   ]
  },
  {
   "cell_type": "code",
   "execution_count": null,
   "metadata": {},
   "outputs": [],
   "source": [
    "cwfs.show_results()"
   ]
  },
  {
   "cell_type": "code",
   "execution_count": null,
   "metadata": {},
   "outputs": [],
   "source": []
  },
  {
   "cell_type": "code",
   "execution_count": null,
   "metadata": {},
   "outputs": [],
   "source": [
    "cwfs.intra_visit_id = None\n",
    "cwfs.extra_visit_id = None\n",
    "# cwfs.angle = 140.29"
   ]
  },
  {
   "cell_type": "code",
   "execution_count": null,
   "metadata": {},
   "outputs": [],
   "source": [
    "await cwfs.run_cwfs()"
   ]
  },
  {
   "cell_type": "code",
   "execution_count": null,
   "metadata": {},
   "outputs": [],
   "source": [
    "await cwfs.attcs.ataos.cmd_offset.set_start(x=0., y=0., z=-0.017)"
   ]
  },
  {
   "cell_type": "code",
   "execution_count": null,
   "metadata": {},
   "outputs": [],
   "source": [
    "fig1 = plt.figure(1, figsize=(12,8))\n",
    "\n",
    "ax11 = fig1.add_subplot(121)\n",
    "\n",
    "ax11.set_title(\"defocus 0.8 - intra\")\n",
    "ax11.imshow(cwfs.I1[0].image0)\n",
    "ax11.contour(cwfs.algo.pMask) \n",
    "\n",
    "ax12 = fig1.add_subplot(122)\n",
    "\n",
    "ax12.set_title(\"defocus 0.8 - extra\")\n",
    "ax12.imshow(cwfs.I2[0].image0)\n",
    "ax12.contour(cwfs.algo.pMask) "
   ]
  },
  {
   "cell_type": "code",
   "execution_count": null,
   "metadata": {},
   "outputs": [],
   "source": []
  },
  {
   "cell_type": "code",
   "execution_count": null,
   "metadata": {},
   "outputs": [],
   "source": [
    "cwfs.intra_visit_id = None\n",
    "cwfs.extra_visit_id = None\n",
    "cwfs.angle = None"
   ]
  },
  {
   "cell_type": "code",
   "execution_count": null,
   "metadata": {},
   "outputs": [],
   "source": [
    "await cwfs.run_cwfs()"
   ]
  },
  {
   "cell_type": "code",
   "execution_count": null,
   "metadata": {},
   "outputs": [],
   "source": [
    "Hexapod offset: [ 0.11523418  0.20345898 -0.00034849]\n",
    "Hexapod offset: [ 0.39853574 -0.22412682 -0.00209254]\n"
   ]
  },
  {
   "cell_type": "code",
   "execution_count": null,
   "metadata": {},
   "outputs": [],
   "source": [
    "await cwfs.attcs.slew_object(\"HD 68450\", pa_ang=0.)"
   ]
  },
  {
   "cell_type": "code",
   "execution_count": null,
   "metadata": {},
   "outputs": [],
   "source": []
  },
  {
   "cell_type": "code",
   "execution_count": null,
   "metadata": {},
   "outputs": [],
   "source": []
  },
  {
   "cell_type": "code",
   "execution_count": null,
   "metadata": {},
   "outputs": [],
   "source": [
    "cwfs.camera_rotation_angle"
   ]
  },
  {
   "cell_type": "code",
   "execution_count": null,
   "metadata": {},
   "outputs": [],
   "source": [
    "fig1 = plt.figure(1, figsize=(12,8))\n",
    "\n",
    "ax11 = fig1.add_subplot(121)\n",
    "\n",
    "ax11.set_title(\"defocus 0.8 - intra\")\n",
    "ax11.imshow(cwfs.I1[0].image0)\n",
    "ax11.contour(cwfs.algo.pMask) \n",
    "\n",
    "ax12 = fig1.add_subplot(122)\n",
    "\n",
    "ax12.set_title(\"defocus 0.8 - extra\")\n",
    "ax12.imshow(cwfs.I2[0].image0)\n",
    "ax12.contour(cwfs.algo.pMask) "
   ]
  },
  {
   "cell_type": "code",
   "execution_count": null,
   "metadata": {},
   "outputs": [],
   "source": [
    "# print results\n",
    "cwfs.show_results()\n",
    "# plot zernikes\n",
    "x = np.arange(9)+4\n",
    "plt.plot(x, cwfs.algo.zer4UpNm[:9], 'o-', label=f'{cwfs.dz}')\n",
    "xlim = plt.xlim()\n",
    "plt.plot(np.arange(15), np.zeros(15)+50, 'b--')\n",
    "plt.plot(np.arange(15), np.zeros(15)-50, 'b--')\n",
    "plt.xlim(xlim)\n",
    "plt.ylabel(\"Zernike coeff (nm)\")\n",
    "plt.xlabel(\"Zernike index\")\n",
    "plt.grid()\n",
    "plt.legend()\n",
    "print(cwfs.algo.zer4UpNm[:9])"
   ]
  },
  {
   "cell_type": "code",
   "execution_count": null,
   "metadata": {},
   "outputs": [],
   "source": [
    "await cwfs.attcs.ataos.cmd_offset.set_start(x=0., y=0., z=0.005)"
   ]
  },
  {
   "cell_type": "code",
   "execution_count": null,
   "metadata": {},
   "outputs": [],
   "source": [
    "cwfs.intra_visit_id = None\n",
    "cwfs.extra_visit_id = None\n",
    "cwfs.angle = None"
   ]
  },
  {
   "cell_type": "code",
   "execution_count": null,
   "metadata": {},
   "outputs": [],
   "source": [
    "await cwfs.run_cwfs()"
   ]
  },
  {
   "cell_type": "code",
   "execution_count": null,
   "metadata": {},
   "outputs": [],
   "source": [
    "# print results\n",
    "cwfs.show_results()\n",
    "# plot zernikes\n",
    "x = np.arange(9)+4\n",
    "plt.plot(x, cwfs.algo.zer4UpNm[:9], 'o-', label=f'{cwfs.dz}')\n",
    "xlim = plt.xlim()\n",
    "plt.plot(np.arange(15), np.zeros(15)+50, 'b--')\n",
    "plt.plot(np.arange(15), np.zeros(15)-50, 'b--')\n",
    "plt.xlim(xlim)\n",
    "plt.ylabel(\"Zernike coeff (nm)\")\n",
    "plt.xlabel(\"Zernike index\")\n",
    "plt.grid()\n",
    "plt.legend()\n",
    "print(cwfs.algo.zer4UpNm[:9])"
   ]
  },
  {
   "cell_type": "code",
   "execution_count": null,
   "metadata": {},
   "outputs": [],
   "source": [
    "salobj.AckError"
   ]
  },
  {
   "cell_type": "code",
   "execution_count": null,
   "metadata": {},
   "outputs": [],
   "source": [
    "await cwfs.latiss.take_object(30.)"
   ]
  },
  {
   "cell_type": "code",
   "execution_count": null,
   "metadata": {},
   "outputs": [],
   "source": [
    "cwfs.evt_logMessage.set_put(message=f\"Hexapod LUT: 2020031300117\")"
   ]
  },
  {
   "cell_type": "code",
   "execution_count": null,
   "metadata": {},
   "outputs": [],
   "source": [
    "await cwfs.latiss.atcamera.cmd_endImage.start()"
   ]
  },
  {
   "cell_type": "code",
   "execution_count": null,
   "metadata": {},
   "outputs": [],
   "source": [
    "cwfs.show_results()"
   ]
  },
  {
   "cell_type": "code",
   "execution_count": null,
   "metadata": {},
   "outputs": [],
   "source": []
  },
  {
   "cell_type": "code",
   "execution_count": null,
   "metadata": {},
   "outputs": [],
   "source": [
    "await cwfs.attcs.ataos.cmd_offset.set_start(x=0., y=0.5, z=0.)"
   ]
  },
  {
   "cell_type": "code",
   "execution_count": null,
   "metadata": {},
   "outputs": [],
   "source": [
    "await cwfs.take_intra_extra()"
   ]
  },
  {
   "cell_type": "code",
   "execution_count": null,
   "metadata": {},
   "outputs": [],
   "source": [
    "cwfs.angle"
   ]
  },
  {
   "cell_type": "code",
   "execution_count": null,
   "metadata": {},
   "outputs": [],
   "source": [
    "cwfs.intra_visit_id = 2020031300124\n",
    "cwfs.extra_visit_id = 2020031300125\n",
    "cwfs.angle = 93.646"
   ]
  },
  {
   "cell_type": "code",
   "execution_count": null,
   "metadata": {},
   "outputs": [],
   "source": [
    "await cwfs.run_cwfs()"
   ]
  },
  {
   "cell_type": "code",
   "execution_count": null,
   "metadata": {},
   "outputs": [],
   "source": [
    "fig1 = plt.figure(1, figsize=(12,8))\n",
    "\n",
    "ax11 = fig1.add_subplot(121)\n",
    "\n",
    "ax11.set_title(\"defocus 0.8 - intra\")\n",
    "ax11.imshow(cwfs.I1[0].image0)\n",
    "ax11.contour(cwfs.algo.pMask) \n",
    "\n",
    "ax12 = fig1.add_subplot(122)\n",
    "\n",
    "ax12.set_title(\"defocus 0.8 - extra\")\n",
    "ax12.imshow(cwfs.I2[0].image0)\n",
    "ax12.contour(cwfs.algo.pMask) "
   ]
  },
  {
   "cell_type": "code",
   "execution_count": null,
   "metadata": {},
   "outputs": [],
   "source": [
    "cwfs.show_results()"
   ]
  },
  {
   "cell_type": "code",
   "execution_count": null,
   "metadata": {},
   "outputs": [],
   "source": [
    "Measured zernike coeficients: [56.73010676525756, 8.189632125965955, -182.83805153268753]\n",
    "Measured zernike coeficients: [124.71311827603878, -22.518979644650848, -203.58845212289884]\n"
   ]
  },
  {
   "cell_type": "code",
   "execution_count": null,
   "metadata": {},
   "outputs": [],
   "source": [
    "await cwfs.attcs.ataos.cmd_offset.set_start(x=0., y=-0.5, z=0.)"
   ]
  },
  {
   "cell_type": "code",
   "execution_count": null,
   "metadata": {},
   "outputs": [],
   "source": [
    "await cwfs.take_intra_extra()"
   ]
  },
  {
   "cell_type": "code",
   "execution_count": null,
   "metadata": {},
   "outputs": [],
   "source": [
    "cwfs.angle"
   ]
  },
  {
   "cell_type": "code",
   "execution_count": null,
   "metadata": {},
   "outputs": [],
   "source": [
    "cwfs.intra_visit_id = 2020031200363\n",
    "cwfs.extra_visit_id = 2020031200364\n",
    "cwfs.angle = 94.78393081417468"
   ]
  },
  {
   "cell_type": "code",
   "execution_count": null,
   "metadata": {},
   "outputs": [],
   "source": [
    "await cwfs.run_cwfs()"
   ]
  },
  {
   "cell_type": "code",
   "execution_count": null,
   "metadata": {},
   "outputs": [],
   "source": [
    "fig1 = plt.figure(1, figsize=(12,8))\n",
    "\n",
    "ax11 = fig1.add_subplot(121)\n",
    "\n",
    "ax11.set_title(\"defocus 0.8 - intra\")\n",
    "ax11.imshow(cwfs.I1[0].image0)\n",
    "ax11.contour(cwfs.algo.pMask) \n",
    "\n",
    "ax12 = fig1.add_subplot(122)\n",
    "\n",
    "ax12.set_title(\"defocus 0.8 - extra\")\n",
    "ax12.imshow(cwfs.I2[0].image0)\n",
    "ax12.contour(cwfs.algo.pMask) "
   ]
  },
  {
   "cell_type": "code",
   "execution_count": null,
   "metadata": {},
   "outputs": [],
   "source": [
    "await cwfs.attcs.ataos.cmd_offset.set_start(x=0., y=-0.5, z=0.)"
   ]
  },
  {
   "cell_type": "code",
   "execution_count": null,
   "metadata": {},
   "outputs": [],
   "source": [
    "await cwfs.take_intra_extra()"
   ]
  },
  {
   "cell_type": "code",
   "execution_count": null,
   "metadata": {},
   "outputs": [],
   "source": [
    "cwfs.angle"
   ]
  },
  {
   "cell_type": "code",
   "execution_count": null,
   "metadata": {},
   "outputs": [],
   "source": [
    "cwfs.intra_visit_id = 2020031200365\n",
    "cwfs.extra_visit_id = 2020031200366\n",
    "cwfs.angle = 95.00421417197606\n"
   ]
  },
  {
   "cell_type": "code",
   "execution_count": null,
   "metadata": {},
   "outputs": [],
   "source": [
    "await cwfs.run_cwfs()"
   ]
  },
  {
   "cell_type": "code",
   "execution_count": null,
   "metadata": {},
   "outputs": [],
   "source": [
    "fig1 = plt.figure(1, figsize=(12,8))\n",
    "\n",
    "ax11 = fig1.add_subplot(121)\n",
    "\n",
    "ax11.set_title(\"defocus 0.8 - intra\")\n",
    "ax11.imshow(cwfs.I1[0].image0)\n",
    "ax11.contour(cwfs.algo.pMask) \n",
    "\n",
    "ax12 = fig1.add_subplot(122)\n",
    "\n",
    "ax12.set_title(\"defocus 0.8 - extra\")\n",
    "ax12.imshow(cwfs.I2[0].image0)\n",
    "ax12.contour(cwfs.algo.pMask) "
   ]
  },
  {
   "cell_type": "code",
   "execution_count": null,
   "metadata": {},
   "outputs": [],
   "source": []
  },
  {
   "cell_type": "code",
   "execution_count": null,
   "metadata": {},
   "outputs": [],
   "source": [
    "await cwfs.attcs.ataos.cmd_offset.set_start(x=0., y=0.5, z=0.)"
   ]
  },
  {
   "cell_type": "code",
   "execution_count": null,
   "metadata": {},
   "outputs": [],
   "source": [
    "await cwfs.take_intra_extra()"
   ]
  },
  {
   "cell_type": "code",
   "execution_count": null,
   "metadata": {},
   "outputs": [],
   "source": [
    "cwfs.angle"
   ]
  },
  {
   "cell_type": "code",
   "execution_count": null,
   "metadata": {},
   "outputs": [],
   "source": [
    "cwfs.intra_visit_id = 2020031200367\n",
    "cwfs.extra_visit_id = 2020031200368\n",
    "cwfs.angle = 95.19698512172705"
   ]
  },
  {
   "cell_type": "code",
   "execution_count": null,
   "metadata": {},
   "outputs": [],
   "source": [
    "await cwfs.run_cwfs()"
   ]
  },
  {
   "cell_type": "code",
   "execution_count": null,
   "metadata": {},
   "outputs": [],
   "source": [
    "fig1 = plt.figure(1, figsize=(12,8))\n",
    "\n",
    "ax11 = fig1.add_subplot(121)\n",
    "\n",
    "ax11.set_title(\"defocus 0.8 - intra\")\n",
    "ax11.imshow(cwfs.I1[0].image0)\n",
    "ax11.contour(cwfs.algo.pMask) \n",
    "\n",
    "ax12 = fig1.add_subplot(122)\n",
    "\n",
    "ax12.set_title(\"defocus 0.8 - extra\")\n",
    "ax12.imshow(cwfs.I2[0].image0)\n",
    "ax12.contour(cwfs.algo.pMask) "
   ]
  },
  {
   "cell_type": "code",
   "execution_count": null,
   "metadata": {},
   "outputs": [],
   "source": [
    "cwfs.show_results()"
   ]
  },
  {
   "cell_type": "code",
   "execution_count": null,
   "metadata": {},
   "outputs": [],
   "source": []
  },
  {
   "cell_type": "code",
   "execution_count": null,
   "metadata": {},
   "outputs": [],
   "source": [
    "await cwfs.attcs.ataos.cmd_offset.set_start(x=0.5, y=0., z=0.)"
   ]
  },
  {
   "cell_type": "code",
   "execution_count": null,
   "metadata": {},
   "outputs": [],
   "source": [
    "await cwfs.take_intra_extra()"
   ]
  },
  {
   "cell_type": "code",
   "execution_count": null,
   "metadata": {},
   "outputs": [],
   "source": [
    "cwfs.angle"
   ]
  },
  {
   "cell_type": "code",
   "execution_count": null,
   "metadata": {},
   "outputs": [],
   "source": [
    "cwfs.intra_visit_id = 2020031200361\n",
    "cwfs.extra_visit_id = 2020031200362\n",
    "cwfs.angle = 95.36627323544002"
   ]
  },
  {
   "cell_type": "code",
   "execution_count": null,
   "metadata": {},
   "outputs": [],
   "source": [
    "await cwfs.run_cwfs()"
   ]
  },
  {
   "cell_type": "code",
   "execution_count": null,
   "metadata": {},
   "outputs": [],
   "source": [
    "fig1 = plt.figure(1, figsize=(12,8))\n",
    "\n",
    "ax11 = fig1.add_subplot(121)\n",
    "\n",
    "ax11.set_title(\"defocus 0.8 - intra\")\n",
    "ax11.imshow(cwfs.I1[0].image0)\n",
    "ax11.contour(cwfs.algo.pMask) \n",
    "\n",
    "ax12 = fig1.add_subplot(122)\n",
    "\n",
    "ax12.set_title(\"defocus 0.8 - extra\")\n",
    "ax12.imshow(cwfs.I2[0].image0)\n",
    "ax12.contour(cwfs.algo.pMask) "
   ]
  },
  {
   "cell_type": "code",
   "execution_count": null,
   "metadata": {},
   "outputs": [],
   "source": [
    "cwfs.show_results()"
   ]
  },
  {
   "cell_type": "code",
   "execution_count": null,
   "metadata": {},
   "outputs": [],
   "source": []
  },
  {
   "cell_type": "code",
   "execution_count": null,
   "metadata": {},
   "outputs": [],
   "source": []
  },
  {
   "cell_type": "code",
   "execution_count": null,
   "metadata": {},
   "outputs": [],
   "source": []
  },
  {
   "cell_type": "code",
   "execution_count": null,
   "metadata": {},
   "outputs": [],
   "source": [
    "await cwfs.attcs.ataos.cmd_offset.set_start(x=-1.0, y=0., z=0.)"
   ]
  },
  {
   "cell_type": "code",
   "execution_count": null,
   "metadata": {},
   "outputs": [],
   "source": [
    "await cwfs.take_intra_extra()"
   ]
  },
  {
   "cell_type": "code",
   "execution_count": null,
   "metadata": {},
   "outputs": [],
   "source": [
    "cwfs.angle"
   ]
  },
  {
   "cell_type": "code",
   "execution_count": null,
   "metadata": {},
   "outputs": [],
   "source": [
    "await cwfs.attcs.ataos.cmd_offset.set_start(x=0.5, y=0., z=0.)"
   ]
  },
  {
   "cell_type": "code",
   "execution_count": null,
   "metadata": {},
   "outputs": [],
   "source": []
  },
  {
   "cell_type": "code",
   "execution_count": null,
   "metadata": {},
   "outputs": [],
   "source": [
    "cwfs.intra_visit_id = None\n",
    "cwfs.extra_visit_id = None"
   ]
  },
  {
   "cell_type": "code",
   "execution_count": null,
   "metadata": {},
   "outputs": [],
   "source": [
    "await cwfs.run_cwfs()"
   ]
  },
  {
   "cell_type": "code",
   "execution_count": null,
   "metadata": {},
   "outputs": [],
   "source": [
    "cwfs.intra_visit_id = None\n",
    "cwfs.extra_visit_id = None"
   ]
  },
  {
   "cell_type": "code",
   "execution_count": null,
   "metadata": {},
   "outputs": [],
   "source": [
    "await cwfs.run_cwfs()"
   ]
  },
  {
   "cell_type": "code",
   "execution_count": null,
   "metadata": {},
   "outputs": [],
   "source": []
  },
  {
   "cell_type": "code",
   "execution_count": null,
   "metadata": {},
   "outputs": [],
   "source": []
  },
  {
   "cell_type": "code",
   "execution_count": null,
   "metadata": {},
   "outputs": [],
   "source": [
    "offset = {'m1': 0.0,\n",
    "          'm2': 0.0,\n",
    "          'x': -0.09199987,\n",
    "          'y':  -0.13539846,\n",
    "          'z':   0.05523413,\n",
    "          'u': 0.0,\n",
    "          'v': 0.0\n",
    "          }\n",
    "\n",
    "await cwfs.attcs.ataos.cmd_offset.set_start(**offset)"
   ]
  },
  {
   "cell_type": "code",
   "execution_count": null,
   "metadata": {},
   "outputs": [],
   "source": []
  },
  {
   "cell_type": "code",
   "execution_count": null,
   "metadata": {},
   "outputs": [],
   "source": []
  },
  {
   "cell_type": "code",
   "execution_count": null,
   "metadata": {},
   "outputs": [],
   "source": [
    "cwfs.intra_visit_id = None\n",
    "cwfs.extra_visit_id = None"
   ]
  },
  {
   "cell_type": "code",
   "execution_count": null,
   "metadata": {},
   "outputs": [],
   "source": [
    "await cwfs.run_cwfs()"
   ]
  },
  {
   "cell_type": "code",
   "execution_count": null,
   "metadata": {},
   "outputs": [],
   "source": [
    "fig1 = plt.figure(1, figsize=(12,8))\n",
    "\n",
    "ax11 = fig1.add_subplot(121)\n",
    "\n",
    "ax11.set_title(\"defocus 0.8 - intra\")\n",
    "ax11.imshow(cwfs.I1[0].image0)\n",
    "ax11.contour(cwfs.algo.pMask) \n",
    "\n",
    "ax12 = fig1.add_subplot(122)\n",
    "\n",
    "ax12.set_title(\"defocus 0.8 - extra\")\n",
    "ax12.imshow(cwfs.I2[0].image0)\n",
    "ax12.contour(cwfs.algo.pMask) "
   ]
  },
  {
   "cell_type": "code",
   "execution_count": null,
   "metadata": {},
   "outputs": [],
   "source": [
    "cwfs.show_results()"
   ]
  },
  {
   "cell_type": "code",
   "execution_count": null,
   "metadata": {},
   "outputs": [],
   "source": [
    "offset = {'m1': 0.0,\n",
    "          'm2': 0.0,\n",
    "          'x': 0.0,\n",
    "          'y': 0.0,\n",
    "          'z': -0.01062974/2.,\n",
    "          'u': 0.0,\n",
    "          'v': 0.0\n",
    "          }\n",
    "\n",
    "await cwfs.attcs.ataos.cmd_offset.set_start(**offset)"
   ]
  },
  {
   "cell_type": "code",
   "execution_count": null,
   "metadata": {},
   "outputs": [],
   "source": [
    "cwfs.intra_visit_id = None\n",
    "cwfs.extra_visit_id = None"
   ]
  },
  {
   "cell_type": "code",
   "execution_count": null,
   "metadata": {},
   "outputs": [],
   "source": [
    "await cwfs.run_cwfs()"
   ]
  },
  {
   "cell_type": "code",
   "execution_count": null,
   "metadata": {},
   "outputs": [],
   "source": [
    "fig1 = plt.figure(1, figsize=(12,8))\n",
    "\n",
    "ax11 = fig1.add_subplot(121)\n",
    "\n",
    "ax11.set_title(\"defocus 0.8 - intra\")\n",
    "ax11.imshow(cwfs.I1[0].image0)\n",
    "ax11.contour(cwfs.algo.pMask) \n",
    "\n",
    "ax12 = fig1.add_subplot(122)\n",
    "\n",
    "ax12.set_title(\"defocus 0.8 - extra\")\n",
    "ax12.imshow(cwfs.I2[0].image0)\n",
    "ax12.contour(cwfs.algo.pMask) "
   ]
  },
  {
   "cell_type": "code",
   "execution_count": null,
   "metadata": {},
   "outputs": [],
   "source": [
    "offset = {'m1': 0.0,\n",
    "          'm2': 0.0,\n",
    "          'x': 0.0,\n",
    "          'y': 0.0,\n",
    "          'z': -0.21565734,\n",
    "          'u': 0.0,\n",
    "          'v': 0.0\n",
    "          }\n",
    "\n",
    "await cwfs.attcs.ataos.cmd_offset.set_start(**offset)"
   ]
  },
  {
   "cell_type": "code",
   "execution_count": null,
   "metadata": {},
   "outputs": [],
   "source": [
    "cwfs.intra_visit_id = None\n",
    "cwfs.extra_visit_id = None"
   ]
  },
  {
   "cell_type": "code",
   "execution_count": null,
   "metadata": {},
   "outputs": [],
   "source": [
    "await cwfs.run_cwfs()"
   ]
  },
  {
   "cell_type": "code",
   "execution_count": null,
   "metadata": {},
   "outputs": [],
   "source": [
    "fig1 = plt.figure(1, figsize=(12,8))\n",
    "\n",
    "ax11 = fig1.add_subplot(121)\n",
    "\n",
    "ax11.set_title(\"defocus 0.8 - intra\")\n",
    "ax11.imshow(cwfs.I1[0].image0)\n",
    "ax11.contour(cwfs.algo.pMask) \n",
    "\n",
    "ax12 = fig1.add_subplot(122)\n",
    "\n",
    "ax12.set_title(\"defocus 0.8 - extra\")\n",
    "ax12.imshow(cwfs.I2[0].image0)\n",
    "ax12.contour(cwfs.algo.pMask) "
   ]
  },
  {
   "cell_type": "code",
   "execution_count": null,
   "metadata": {},
   "outputs": [],
   "source": [
    "cwfs.show_results()"
   ]
  },
  {
   "cell_type": "markdown",
   "metadata": {},
   "source": [
    "[-0.37688719 -0.03842189 -0.00876713]"
   ]
  },
  {
   "cell_type": "code",
   "execution_count": null,
   "metadata": {},
   "outputs": [],
   "source": [
    "offset = {'m1': 0.0,\n",
    "          'm2': 0.0,\n",
    "          'x': 0.0,\n",
    "          'y': 0.40382696/2.,\n",
    "          'z': 0.0,\n",
    "          'u': 0.0,\n",
    "          'v': 0.0\n",
    "          }\n",
    "\n",
    "await cwfs.attcs.ataos.cmd_offset.set_start(**offset)"
   ]
  },
  {
   "cell_type": "code",
   "execution_count": null,
   "metadata": {},
   "outputs": [],
   "source": [
    "await cwfs.latiss.take_object(exptime=1,n=1)"
   ]
  },
  {
   "cell_type": "code",
   "execution_count": null,
   "metadata": {},
   "outputs": [],
   "source": [
    "cwfs.intra_visit_id = 2020022000254\n",
    "cwfs.extra_visit_id = 2020022000255\n",
    "cwfs.angle = 0."
   ]
  },
  {
   "cell_type": "code",
   "execution_count": null,
   "metadata": {},
   "outputs": [],
   "source": [
    "await cwfs.run_cwfs()"
   ]
  },
  {
   "cell_type": "code",
   "execution_count": null,
   "metadata": {},
   "outputs": [],
   "source": [
    "fig1 = plt.figure(1, figsize=(12,8))\n",
    "\n",
    "ax11 = fig1.add_subplot(121)\n",
    "\n",
    "ax11.set_title(\"defocus 0.8 - intra\")\n",
    "ax11.imshow(cwfs.I1[0].image0)\n",
    "ax11.contour(cwfs.algo.pMask) \n",
    "\n",
    "ax12 = fig1.add_subplot(122)\n",
    "\n",
    "ax12.set_title(\"defocus 0.8 - extra\")\n",
    "ax12.imshow(cwfs.I2[0].image0)\n",
    "ax12.contour(cwfs.algo.pMask) "
   ]
  },
  {
   "cell_type": "code",
   "execution_count": null,
   "metadata": {},
   "outputs": [],
   "source": []
  },
  {
   "cell_type": "raw",
   "metadata": {},
   "source": [
    "==============================\n",
    "Measured zernike coeficients: [-52.14673582657953, 13.764500366586063, 40.97615934712791]\n",
    "De-rotated zernike coeficients: [10.49726762 52.90133174 40.97615935]\n",
    "Hexapod offset: [-0.08013181  0.40382696 -0.00975623]\n",
    "Telescope offsets: [-4.80790883 24.22961759  0.        ]\n",
    "=============================="
   ]
  },
  {
   "cell_type": "code",
   "execution_count": null,
   "metadata": {},
   "outputs": [],
   "source": [
    "cwfs.show_results()"
   ]
  },
  {
   "cell_type": "code",
   "execution_count": null,
   "metadata": {},
   "outputs": [],
   "source": [
    "offset = {'m1': 0.0,\n",
    "          'm2': 0.0,\n",
    "          'x': 0.0,\n",
    "          'y': 0.40382696/2.,\n",
    "          'z': 0.0,\n",
    "          'u': 0.0,\n",
    "          'v': 0.0\n",
    "          }\n",
    "\n",
    "await cwfs.attcs.ataos.cmd_offset.set_start(**offset)"
   ]
  },
  {
   "cell_type": "code",
   "execution_count": null,
   "metadata": {},
   "outputs": [],
   "source": [
    "cwfs.cwfs_selected_sources"
   ]
  },
  {
   "cell_type": "code",
   "execution_count": null,
   "metadata": {},
   "outputs": [],
   "source": [
    "bbox = cwfs.source_selection_result.sources[6].getFootprint().getBBox()"
   ]
  },
  {
   "cell_type": "code",
   "execution_count": null,
   "metadata": {},
   "outputs": [],
   "source": [
    "bbox"
   ]
  },
  {
   "cell_type": "code",
   "execution_count": null,
   "metadata": {},
   "outputs": [],
   "source": [
    "img_mean = np.mean(cwfs.detection_exp[bbox].image.array)\n",
    "img_min = np.min(cwfs.detection_exp[bbox].image.array)\n",
    "img_max = np.max(cwfs.detection_exp[bbox].image.array)\n",
    "img_std = np.std(cwfs.detection_exp[bbox].image.array)\n",
    "print(img_max)\n",
    "image = np.array(cwfs.detection_exp[bbox].image.array, copy=True)\n",
    "# image[image > img_mean+5*img_std] = img_min\n",
    "image[image == img_max] = img_min\n",
    "plt.imshow(image, origin='lower')"
   ]
  },
  {
   "cell_type": "code",
   "execution_count": null,
   "metadata": {},
   "outputs": [],
   "source": [
    "cwfs = LatissCWFSAlign(index=1)"
   ]
  },
  {
   "cell_type": "code",
   "execution_count": null,
   "metadata": {},
   "outputs": [],
   "source": [
    "await cwfs.start_task"
   ]
  },
  {
   "cell_type": "code",
   "execution_count": null,
   "metadata": {},
   "outputs": [],
   "source": [
    "cwfs.filter = \"empty_1\"\n",
    "cwfs.grating = \"empty_1\""
   ]
  },
  {
   "cell_type": "code",
   "execution_count": null,
   "metadata": {},
   "outputs": [],
   "source": [
    "await cwfs.run_cwfs()"
   ]
  },
  {
   "cell_type": "code",
   "execution_count": null,
   "metadata": {},
   "outputs": [],
   "source": [
    "fig1 = plt.figure(1, figsize=(12,8))\n",
    "\n",
    "ax11 = fig1.add_subplot(121)\n",
    "\n",
    "ax11.set_title(\"defocus 0.8 - intra\")\n",
    "ax11.imshow(cwfs.I1[0].image0)\n",
    "ax11.contour(cwfs.algo.pMask) \n",
    "\n",
    "ax12 = fig1.add_subplot(122)\n",
    "\n",
    "ax12.set_title(\"defocus 0.8 - extra\")\n",
    "ax12.imshow(cwfs.I2[0].image0)\n",
    "ax12.contour(cwfs.algo.pMask) "
   ]
  },
  {
   "cell_type": "code",
   "execution_count": null,
   "metadata": {},
   "outputs": [],
   "source": [
    "await cwfs.attcs.ataos.cmd_enableCorrection.set_start(hexapod=True, m1=False)"
   ]
  },
  {
   "cell_type": "code",
   "execution_count": null,
   "metadata": {},
   "outputs": [],
   "source": [
    "await cwfs.attcs.atpneumatics.cmd_openM1Cover.start()"
   ]
  },
  {
   "cell_type": "code",
   "execution_count": null,
   "metadata": {},
   "outputs": [],
   "source": [
    "await cwfs.attcs.ataos.cmd_resetOffset.start()"
   ]
  },
  {
   "cell_type": "code",
   "execution_count": null,
   "metadata": {},
   "outputs": [],
   "source": [
    "await cwfs.attcs.ataos.cmd_applyAxisOffset.set_start(axis=\"z\", offset=-0.18)"
   ]
  },
  {
   "cell_type": "code",
   "execution_count": null,
   "metadata": {},
   "outputs": [],
   "source": [
    "44.58+29"
   ]
  },
  {
   "cell_type": "code",
   "execution_count": null,
   "metadata": {},
   "outputs": [],
   "source": [
    "await cwfs.attcs.shutdown()"
   ]
  },
  {
   "cell_type": "code",
   "execution_count": null,
   "metadata": {},
   "outputs": [],
   "source": [
    "await cwfs.latiss.standby()"
   ]
  },
  {
   "cell_type": "code",
   "execution_count": null,
   "metadata": {},
   "outputs": [],
   "source": []
  },
  {
   "cell_type": "code",
   "execution_count": null,
   "metadata": {},
   "outputs": [],
   "source": []
  },
  {
   "cell_type": "code",
   "execution_count": null,
   "metadata": {},
   "outputs": [],
   "source": []
  },
  {
   "cell_type": "code",
   "execution_count": null,
   "metadata": {},
   "outputs": [],
   "source": [
    "angles = [94.29546258589602, 94.55345673626783, 94.78393081417468, 95.00421417197606, 95.19698512172705]"
   ]
  },
  {
   "cell_type": "code",
   "execution_count": null,
   "metadata": {},
   "outputs": [],
   "source": [
    "zern = [[56.73010676525756, 8.189632125965955, -182.83805153268753],\n",
    "[124.71311827603878, -22.518979644650848, -203.58845212289884],\n",
    "[53.20468192736806, 0.10889426038000716, -242.04429369018686],\n",
    "[-28.441399439485657, -2.2013288336828327, -185.3117742900592], \n",
    "[63.63531388244971, 1.7177890049827167, -232.19198776848006]]"
   ]
  },
  {
   "cell_type": "code",
   "execution_count": null,
   "metadata": {},
   "outputs": [],
   "source": [
    "zern_derot = []\n",
    "for i in range(len(zern)):\n",
    "    print(i, zern[i], angles[i])\n",
    "    zern_derot.append(np.matmul(zern[i], cwfs.rotation_matrix(angles[i])))"
   ]
  },
  {
   "cell_type": "code",
   "execution_count": null,
   "metadata": {},
   "outputs": [],
   "source": [
    "hex_offset = []\n",
    "for i in range(len(zern)):\n",
    "    hex_offset.append(np.matmul(zern_derot[i], cwfs.sensitivity_matrix))"
   ]
  },
  {
   "cell_type": "code",
   "execution_count": null,
   "metadata": {},
   "outputs": [],
   "source": [
    "for i in range(1, len(zern)):\n",
    "    print(zern_derot[i] - zern_derot[0])"
   ]
  },
  {
   "cell_type": "code",
   "execution_count": null,
   "metadata": {},
   "outputs": [],
   "source": [
    "for i in range(1, len(zern)):\n",
    "    print(zern_derot[i] - zern_derot[0])"
   ]
  },
  {
   "cell_type": "code",
   "execution_count": null,
   "metadata": {},
   "outputs": [],
   "source": [
    "for i in range(1, len(hex_offset)):\n",
    "    print(hex_offset[i] - hex_offset[0])"
   ]
  },
  {
   "cell_type": "code",
   "execution_count": null,
   "metadata": {},
   "outputs": [],
   "source": [
    "zern[1][0] - zern[0][0]"
   ]
  },
  {
   "cell_type": "code",
   "execution_count": null,
   "metadata": {},
   "outputs": [],
   "source": [
    "zern[2][0] - zern[0][0]"
   ]
  },
  {
   "cell_type": "code",
   "execution_count": null,
   "metadata": {},
   "outputs": [],
   "source": [
    "zern[3][0] - zern[0][0]"
   ]
  },
  {
   "cell_type": "code",
   "execution_count": null,
   "metadata": {},
   "outputs": [],
   "source": [
    "zern[4][0] - zern[0][0]"
   ]
  },
  {
   "cell_type": "code",
   "execution_count": null,
   "metadata": {},
   "outputs": [],
   "source": [
    "np.matmul(np.array([40,40,40]), cwfs.sensitivity_matrix)"
   ]
  },
  {
   "cell_type": "code",
   "execution_count": null,
   "metadata": {},
   "outputs": [],
   "source": [
    "await cwfs.attcs.atmcs.cmd_stopTracking.start()"
   ]
  },
  {
   "cell_type": "code",
   "execution_count": null,
   "metadata": {},
   "outputs": [],
   "source": [
    "await cwfs.attcs.stop_tracking()"
   ]
  },
  {
   "cell_type": "code",
   "execution_count": null,
   "metadata": {},
   "outputs": [],
   "source": [
    "await cwfs.attcs.point_azel(az=0., el=60.)"
   ]
  },
  {
   "cell_type": "code",
   "execution_count": null,
   "metadata": {},
   "outputs": [],
   "source": [
    "await cwfs.attcs.cancel_not_done(cwfs.attcs.scheduled_coro)"
   ]
  },
  {
   "cell_type": "code",
   "execution_count": null,
   "metadata": {},
   "outputs": [],
   "source": [
    "await cwfs.attcs.atptg.cmd_stopTracking.start()"
   ]
  },
  {
   "cell_type": "code",
   "execution_count": null,
   "metadata": {},
   "outputs": [],
   "source": [
    "await cwfs.attcs.atmcs.cmd_startTracking.start()"
   ]
  },
  {
   "cell_type": "code",
   "execution_count": null,
   "metadata": {},
   "outputs": [],
   "source": [
    "await salobj.set_summary_state(cwfs.attcs.atmcs, salobj.State.ENABLED)"
   ]
  },
  {
   "cell_type": "code",
   "execution_count": null,
   "metadata": {},
   "outputs": [],
   "source": [
    "from lsst.ts.standardscripts.auxtel.butler import Butler"
   ]
  },
  {
   "cell_type": "code",
   "execution_count": null,
   "metadata": {},
   "outputs": [],
   "source": [
    "cwfs.intra_visit_id = 2020031300372\n",
    "cwfs.extra_visit_id = 2020031300373\n",
    "cwfs.angle = -46.\n",
    "await cwfs.run_cwfs()"
   ]
  },
  {
   "cell_type": "code",
   "execution_count": null,
   "metadata": {},
   "outputs": [],
   "source": [
    "cwfs.intra_visit_id = 2020031300374\n",
    "cwfs.extra_visit_id = 2020031300375\n",
    "cwfs.angle = -46.\n",
    "await cwfs.run_cwfs()"
   ]
  },
  {
   "cell_type": "code",
   "execution_count": null,
   "metadata": {},
   "outputs": [],
   "source": [
    "cwfs.intra_visit_id = 2020031300376\n",
    "cwfs.extra_visit_id = 2020031300377\n",
    "cwfs.angle = -46.\n",
    "await cwfs.run_cwfs()"
   ]
  },
  {
   "cell_type": "code",
   "execution_count": null,
   "metadata": {},
   "outputs": [],
   "source": [
    "[29.71847514753195, 17.86681285679587, -1.213452253165913]\n",
    "[14.934738324464766, 5.856272280197036, -21.21998999634835]\n",
    "[40.06543087437906, 32.901266153219204, -33.15808712800845]"
   ]
  },
  {
   "cell_type": "code",
   "execution_count": null,
   "metadata": {},
   "outputs": [],
   "source": [
    "hex_offset = np.array([[ 0.05947998, -0.2579314 ,  0.00028892],\n",
    "[ 0.04703734, -0.11306306,  0.00505238],\n",
    "[ 0.03179081, -0.39447175,  0.00789478]])"
   ]
  },
  {
   "cell_type": "code",
   "execution_count": null,
   "metadata": {},
   "outputs": [],
   "source": [
    "for axis in hex_offset.T:\n",
    "    print(np.mean(axis), np.std(axis))"
   ]
  },
  {
   "cell_type": "code",
   "execution_count": null,
   "metadata": {},
   "outputs": [],
   "source": [
    "cwfs.intra_visit_id = 2020031300391\n",
    "cwfs.extra_visit_id = 2020031300392\n",
    "cwfs.angle = 0.\n",
    "await cwfs.run_cwfs()"
   ]
  },
  {
   "cell_type": "code",
   "execution_count": null,
   "metadata": {},
   "outputs": [],
   "source": [
    "cwfs.intra_visit_id = 2020031300393\n",
    "cwfs.extra_visit_id = 2020031300394\n",
    "cwfs.angle = 0.\n",
    "await cwfs.run_cwfs()"
   ]
  },
  {
   "cell_type": "code",
   "execution_count": null,
   "metadata": {},
   "outputs": [],
   "source": [
    "cwfs.intra_visit_id = 2020031300395\n",
    "cwfs.extra_visit_id = 2020031300396\n",
    "cwfs.angle = 0.\n",
    "await cwfs.run_cwfs()"
   ]
  },
  {
   "cell_type": "code",
   "execution_count": null,
   "metadata": {},
   "outputs": [],
   "source": [
    "cwfs.intra_visit_id = 2020031300397\n",
    "cwfs.extra_visit_id = 2020031300398\n",
    "cwfs.angle = 0.\n",
    "await cwfs.run_cwfs()"
   ]
  },
  {
   "cell_type": "code",
   "execution_count": null,
   "metadata": {},
   "outputs": [],
   "source": [
    "cwfs.intra_visit_id = 2020031300399\n",
    "cwfs.extra_visit_id = 2020031300400\n",
    "cwfs.angle = 0.\n",
    "await cwfs.run_cwfs()"
   ]
  },
  {
   "cell_type": "code",
   "execution_count": null,
   "metadata": {},
   "outputs": [],
   "source": [
    "[ 0.06387424 -0.4071666  -0.01290144]\n",
    "[ 0.07570877 -0.2744446  -0.0202457 ]\n",
    "[-0.08653421 -0.20705053 -0.02045002]\n",
    "[ 0.15920214 -0.07747376 -0.03179209]"
   ]
  },
  {
   "cell_type": "code",
   "execution_count": null,
   "metadata": {},
   "outputs": [],
   "source": [
    "await cwfs.attcs.stop_tracking()"
   ]
  },
  {
   "cell_type": "code",
   "execution_count": null,
   "metadata": {},
   "outputs": [],
   "source": [
    "vent_state = await cwfs.attcs.atpneumatics.evt_m1VentsPosition.aget()"
   ]
  },
  {
   "cell_type": "code",
   "execution_count": null,
   "metadata": {},
   "outputs": [],
   "source": [
    "def print_evt_callback(data):\n",
    "    print(data)"
   ]
  },
  {
   "cell_type": "code",
   "execution_count": null,
   "metadata": {},
   "outputs": [],
   "source": [
    "cwfs.attcs.atpneumatics.evt_m1VentsPosition.callback = print_evt_callback"
   ]
  },
  {
   "cell_type": "code",
   "execution_count": null,
   "metadata": {},
   "outputs": [],
   "source": [
    "await cwfs.attcs.atpneumatics.cmd_openM1CellVents.start()"
   ]
  },
  {
   "cell_type": "code",
   "execution_count": null,
   "metadata": {},
   "outputs": [],
   "source": [
    "await cwfs.attcs.atpneumatics.cmd_closeM1CellVents.start()"
   ]
  },
  {
   "cell_type": "code",
   "execution_count": null,
   "metadata": {},
   "outputs": [],
   "source": [
    "await cwfs.attcs.enable()"
   ]
  },
  {
   "cell_type": "code",
   "execution_count": null,
   "metadata": {},
   "outputs": [],
   "source": [
    "await cwfs.attcs.atdometrajectory.cmd_enable.start()"
   ]
  },
  {
   "cell_type": "code",
   "execution_count": null,
   "metadata": {},
   "outputs": [],
   "source": [
    "await cwfs.attcs.ataos.cmd_enableCorrection.set_start(hexapod=True, m1=True)"
   ]
  },
  {
   "cell_type": "code",
   "execution_count": null,
   "metadata": {},
   "outputs": [],
   "source": []
  },
  {
   "cell_type": "code",
   "execution_count": null,
   "metadata": {},
   "outputs": [],
   "source": []
  },
  {
   "cell_type": "code",
   "execution_count": null,
   "metadata": {},
   "outputs": [],
   "source": [
    "await cwfs.attcs.ataos.cmd_disabeCorrection.set_start(disableAll=True)"
   ]
  },
  {
   "cell_type": "code",
   "execution_count": null,
   "metadata": {},
   "outputs": [],
   "source": [
    "await cwfs.attcs.ataos.cmd_"
   ]
  },
  {
   "cell_type": "code",
   "execution_count": null,
   "metadata": {},
   "outputs": [],
   "source": [
    "await cwfs.attcs.atptg.cmd_pointNewFile.start()\n",
    "await cwfs.attcs.atptg.cmd_pointAddData.start()"
   ]
  },
  {
   "cell_type": "code",
   "execution_count": null,
   "metadata": {},
   "outputs": [],
   "source": [
    "(85-17)/10"
   ]
  },
  {
   "cell_type": "code",
   "execution_count": null,
   "metadata": {},
   "outputs": [],
   "source": [
    "await cwfs.attcs.atdome.cmd_openShutter.start()"
   ]
  },
  {
   "cell_type": "code",
   "execution_count": null,
   "metadata": {},
   "outputs": [],
   "source": [
    "cwfs.intra_visit_id = None\n",
    "cwfs.extra_visit_id = None\n",
    "cwfs.angle = None\n",
    "await cwfs.run_cwfs()"
   ]
  },
  {
   "cell_type": "code",
   "execution_count": null,
   "metadata": {},
   "outputs": [],
   "source": [
    "# print results\n",
    "cwfs.show_results()\n",
    "# plot zernikes\n",
    "x = np.arange(9)+4\n",
    "plt.plot(x, cwfs.algo.zer4UpNm[:9], 'o-', label=f'{cwfs.dz}')\n",
    "xlim = plt.xlim()\n",
    "plt.plot(np.arange(15), np.zeros(15)+50, 'b--')\n",
    "plt.plot(np.arange(15), np.zeros(15)-50, 'b--')\n",
    "plt.xlim(xlim)\n",
    "plt.ylabel(\"Zernike coeff (nm)\")\n",
    "plt.xlabel(\"Zernike index\")\n",
    "plt.grid()\n",
    "plt.legend()\n",
    "print(cwfs.algo.zer4UpNm[:9])"
   ]
  },
  {
   "cell_type": "code",
   "execution_count": null,
   "metadata": {},
   "outputs": [],
   "source": [
    "fig1 = plt.figure(1, figsize=(12,8))\n",
    "\n",
    "ax11 = fig1.add_subplot(121)\n",
    "\n",
    "ax11.set_title(\"defocus 0.8 - intra\")\n",
    "ax11.imshow(cwfs.I1[0].image0)\n",
    "ax11.contour(cwfs.algo.pMask) \n",
    "\n",
    "ax12 = fig1.add_subplot(122)\n",
    "\n",
    "ax12.set_title(\"defocus 0.8 - extra\")\n",
    "ax12.imshow(cwfs.I2[0].image0)\n",
    "ax12.contour(cwfs.algo.pMask) "
   ]
  },
  {
   "cell_type": "code",
   "execution_count": null,
   "metadata": {},
   "outputs": [],
   "source": []
  },
  {
   "cell_type": "code",
   "execution_count": null,
   "metadata": {},
   "outputs": [],
   "source": [
    "cwfs.intra_visit_id = None\n",
    "cwfs.extra_visit_id = None\n",
    "cwfs.angle = None\n",
    "await cwfs.run_cwfs()"
   ]
  },
  {
   "cell_type": "code",
   "execution_count": null,
   "metadata": {},
   "outputs": [],
   "source": [
    "# print results\n",
    "cwfs.show_results()\n",
    "# plot zernikes\n",
    "x = np.arange(9)+4\n",
    "plt.plot(x, cwfs.algo.zer4UpNm[:9], 'o-', label=f'{cwfs.dz}')\n",
    "xlim = plt.xlim()\n",
    "plt.plot(np.arange(15), np.zeros(15)+50, 'b--')\n",
    "plt.plot(np.arange(15), np.zeros(15)-50, 'b--')\n",
    "plt.xlim(xlim)\n",
    "plt.ylabel(\"Zernike coeff (nm)\")\n",
    "plt.xlabel(\"Zernike index\")\n",
    "plt.grid()\n",
    "plt.legend()\n",
    "print(cwfs.algo.zer4UpNm[:9])"
   ]
  },
  {
   "cell_type": "code",
   "execution_count": null,
   "metadata": {},
   "outputs": [],
   "source": [
    "fig1 = plt.figure(1, figsize=(12,8))\n",
    "\n",
    "ax11 = fig1.add_subplot(121)\n",
    "\n",
    "ax11.set_title(\"defocus 0.8 - intra\")\n",
    "ax11.imshow(cwfs.I1[0].image0)\n",
    "ax11.contour(cwfs.algo.pMask) \n",
    "\n",
    "ax12 = fig1.add_subplot(122)\n",
    "\n",
    "ax12.set_title(\"defocus 0.8 - extra\")\n",
    "ax12.imshow(cwfs.I2[0].image0)\n",
    "ax12.contour(cwfs.algo.pMask) "
   ]
  },
  {
   "cell_type": "code",
   "execution_count": null,
   "metadata": {},
   "outputs": [],
   "source": [
    "offset = {'m1': 0.0,\n",
    "          'm2': 0.0,\n",
    "          'x': 0.0,\n",
    "          'y': 0.0,\n",
    "          'z': -0.21565734,\n",
    "          'u': 0.0,\n",
    "          'v': 0.0\n",
    "          }\n",
    "\n",
    "await cwfs.attcs.ataos.cmd_offset.set_start(**offset)"
   ]
  },
  {
   "cell_type": "code",
   "execution_count": null,
   "metadata": {},
   "outputs": [],
   "source": []
  },
  {
   "cell_type": "code",
   "execution_count": null,
   "metadata": {},
   "outputs": [],
   "source": [
    "cwfs.intra_visit_id = None\n",
    "cwfs.extra_visit_id = None\n",
    "cwfs.angle = None\n",
    "await cwfs.run_cwfs()"
   ]
  },
  {
   "cell_type": "code",
   "execution_count": null,
   "metadata": {},
   "outputs": [],
   "source": [
    "# print results\n",
    "cwfs.show_results()\n",
    "# plot zernikes\n",
    "x = np.arange(9)+4\n",
    "plt.plot(x, cwfs.algo.zer4UpNm[:9], 'o-', label=f'{cwfs.dz}')\n",
    "xlim = plt.xlim()\n",
    "plt.plot(np.arange(15), np.zeros(15)+50, 'b--')\n",
    "plt.plot(np.arange(15), np.zeros(15)-50, 'b--')\n",
    "plt.xlim(xlim)\n",
    "plt.ylabel(\"Zernike coeff (nm)\")\n",
    "plt.xlabel(\"Zernike index\")\n",
    "plt.grid()\n",
    "plt.legend()\n",
    "print(cwfs.algo.zer4UpNm[:9])"
   ]
  },
  {
   "cell_type": "code",
   "execution_count": null,
   "metadata": {},
   "outputs": [],
   "source": [
    "fig1 = plt.figure(1, figsize=(12,8))\n",
    "\n",
    "ax11 = fig1.add_subplot(121)\n",
    "\n",
    "ax11.set_title(\"defocus 0.8 - intra\")\n",
    "ax11.imshow(cwfs.I1[0].image0)\n",
    "ax11.contour(cwfs.algo.pMask) \n",
    "\n",
    "ax12 = fig1.add_subplot(122)\n",
    "\n",
    "ax12.set_title(\"defocus 0.8 - extra\")\n",
    "ax12.imshow(cwfs.I2[0].image0)\n",
    "ax12.contour(cwfs.algo.pMask) "
   ]
  },
  {
   "cell_type": "code",
   "execution_count": null,
   "metadata": {},
   "outputs": [],
   "source": [
    "offset = {'m1': 0.0,\n",
    "          'm2': 0.0,\n",
    "          'x': 0.0,\n",
    "          'y': 0.0,\n",
    "          'z': 0.07,\n",
    "          'u': 0.0,\n",
    "          'v': 0.0\n",
    "          }\n",
    "\n",
    "await cwfs.attcs.ataos.cmd_offset.set_start(**offset)"
   ]
  },
  {
   "cell_type": "code",
   "execution_count": null,
   "metadata": {},
   "outputs": [],
   "source": []
  },
  {
   "cell_type": "code",
   "execution_count": null,
   "metadata": {},
   "outputs": [],
   "source": [
    "cwfs.intra_visit_id = None\n",
    "cwfs.extra_visit_id = None\n",
    "cwfs.angle = None\n",
    "await cwfs.run_cwfs()"
   ]
  },
  {
   "cell_type": "code",
   "execution_count": null,
   "metadata": {},
   "outputs": [],
   "source": [
    "offset = {'m1': 0.0,\n",
    "          'm2': 0.0,\n",
    "          'x': 0.0,\n",
    "          'y': 0.0,\n",
    "          'z': 0.08,\n",
    "          'u': 0.0,\n",
    "          'v': 0.0\n",
    "          }\n",
    "\n",
    "await cwfs.attcs.ataos.cmd_offset.set_start(**offset)"
   ]
  },
  {
   "cell_type": "code",
   "execution_count": null,
   "metadata": {},
   "outputs": [],
   "source": [
    "# print results\n",
    "cwfs.show_results()\n",
    "# plot zernikes\n",
    "x = np.arange(9)+4\n",
    "plt.plot(x, cwfs.algo.zer4UpNm[:9], 'o-', label=f'{cwfs.dz}')\n",
    "xlim = plt.xlim()\n",
    "plt.plot(np.arange(15), np.zeros(15)+50, 'b--')\n",
    "plt.plot(np.arange(15), np.zeros(15)-50, 'b--')\n",
    "plt.xlim(xlim)\n",
    "plt.ylabel(\"Zernike coeff (nm)\")\n",
    "plt.xlabel(\"Zernike index\")\n",
    "plt.grid()\n",
    "plt.legend()\n",
    "print(cwfs.algo.zer4UpNm[:9])"
   ]
  },
  {
   "cell_type": "code",
   "execution_count": null,
   "metadata": {},
   "outputs": [],
   "source": [
    "fig1 = plt.figure(1, figsize=(12,8))\n",
    "\n",
    "ax11 = fig1.add_subplot(121)\n",
    "\n",
    "ax11.set_title(\"defocus 0.8 - intra\")\n",
    "ax11.imshow(cwfs.I1[0].image0)\n",
    "ax11.contour(cwfs.algo.pMask) \n",
    "\n",
    "ax12 = fig1.add_subplot(122)\n",
    "\n",
    "ax12.set_title(\"defocus 0.8 - extra\")\n",
    "ax12.imshow(cwfs.I2[0].image0)\n",
    "ax12.contour(cwfs.algo.pMask) "
   ]
  },
  {
   "cell_type": "code",
   "execution_count": null,
   "metadata": {},
   "outputs": [],
   "source": []
  },
  {
   "cell_type": "code",
   "execution_count": null,
   "metadata": {},
   "outputs": [],
   "source": []
  },
  {
   "cell_type": "code",
   "execution_count": null,
   "metadata": {},
   "outputs": [],
   "source": []
  },
  {
   "cell_type": "code",
   "execution_count": null,
   "metadata": {},
   "outputs": [],
   "source": []
  },
  {
   "cell_type": "code",
   "execution_count": null,
   "metadata": {},
   "outputs": [],
   "source": [
    "cwfs.intra_visit_id = None\n",
    "cwfs.extra_visit_id = None\n",
    "cwfs.angle = None\n",
    "await cwfs.run_cwfs()"
   ]
  },
  {
   "cell_type": "code",
   "execution_count": null,
   "metadata": {},
   "outputs": [],
   "source": [
    "# print results\n",
    "cwfs.show_results()\n",
    "# plot zernikes\n",
    "x = np.arange(9)+4\n",
    "plt.plot(x, cwfs.algo.zer4UpNm[:9], 'o-', label=f'{cwfs.dz}')\n",
    "xlim = plt.xlim()\n",
    "plt.plot(np.arange(15), np.zeros(15)+50, 'b--')\n",
    "plt.plot(np.arange(15), np.zeros(15)-50, 'b--')\n",
    "plt.xlim(xlim)\n",
    "plt.ylabel(\"Zernike coeff (nm)\")\n",
    "plt.xlabel(\"Zernike index\")\n",
    "plt.grid()\n",
    "plt.legend()\n",
    "print(cwfs.algo.zer4UpNm[:9])"
   ]
  },
  {
   "cell_type": "code",
   "execution_count": null,
   "metadata": {},
   "outputs": [],
   "source": [
    "offset = {'m1': 0.0,\n",
    "          'm2': 0.0,\n",
    "          'x': 0.0,\n",
    "          'y': 0.0,\n",
    "          'z': 0.06,\n",
    "          'u': 0.0,\n",
    "          'v': 0.0\n",
    "          }\n",
    "\n",
    "await cwfs.attcs.ataos.cmd_offset.set_start(**offset)"
   ]
  },
  {
   "cell_type": "code",
   "execution_count": null,
   "metadata": {},
   "outputs": [],
   "source": [
    "fig1 = plt.figure(1, figsize=(12,8))\n",
    "\n",
    "ax11 = fig1.add_subplot(121)\n",
    "\n",
    "ax11.set_title(\"defocus 0.8 - intra\")\n",
    "ax11.imshow(cwfs.I1[0].image0)\n",
    "ax11.contour(cwfs.algo.pMask) \n",
    "\n",
    "ax12 = fig1.add_subplot(122)\n",
    "\n",
    "ax12.set_title(\"defocus 0.8 - extra\")\n",
    "ax12.imshow(cwfs.I2[0].image0)\n",
    "ax12.contour(cwfs.algo.pMask) "
   ]
  },
  {
   "cell_type": "code",
   "execution_count": null,
   "metadata": {},
   "outputs": [],
   "source": []
  },
  {
   "cell_type": "code",
   "execution_count": null,
   "metadata": {},
   "outputs": [],
   "source": [
    "cwfs.intra_visit_id = None\n",
    "cwfs.extra_visit_id = None\n",
    "cwfs.angle = None\n",
    "await cwfs.run_cwfs()"
   ]
  },
  {
   "cell_type": "code",
   "execution_count": null,
   "metadata": {},
   "outputs": [],
   "source": [
    "offset = {'m1': 0.0,\n",
    "          'm2': 0.0,\n",
    "          'x': 0.0,\n",
    "          'y': 0.0,\n",
    "          'z': 0.0,\n",
    "          'u': 0.0,\n",
    "          'v': 0.0\n",
    "          }\n",
    "\n",
    "await cwfs.attcs.ataos.cmd_offset.set_start(**offset)"
   ]
  },
  {
   "cell_type": "code",
   "execution_count": null,
   "metadata": {},
   "outputs": [],
   "source": [
    "# print results\n",
    "cwfs.show_results()\n",
    "# plot zernikes\n",
    "x = np.arange(9)+4\n",
    "plt.plot(x, cwfs.algo.zer4UpNm[:9], 'o-', label=f'{cwfs.dz}')\n",
    "xlim = plt.xlim()\n",
    "plt.plot(np.arange(15), np.zeros(15)+50, 'b--')\n",
    "plt.plot(np.arange(15), np.zeros(15)-50, 'b--')\n",
    "plt.xlim(xlim)\n",
    "plt.ylabel(\"Zernike coeff (nm)\")\n",
    "plt.xlabel(\"Zernike index\")\n",
    "plt.grid()\n",
    "plt.legend()\n",
    "print(cwfs.algo.zer4UpNm[:9])"
   ]
  },
  {
   "cell_type": "code",
   "execution_count": null,
   "metadata": {},
   "outputs": [],
   "source": [
    "fig1 = plt.figure(1, figsize=(12,8))\n",
    "\n",
    "ax11 = fig1.add_subplot(121)\n",
    "\n",
    "ax11.set_title(\"defocus 0.8 - intra\")\n",
    "ax11.imshow(cwfs.I1[0].image0)\n",
    "ax11.contour(cwfs.algo.pMask) \n",
    "\n",
    "ax12 = fig1.add_subplot(122)\n",
    "\n",
    "ax12.set_title(\"defocus 0.8 - extra\")\n",
    "ax12.imshow(cwfs.I2[0].image0)\n",
    "ax12.contour(cwfs.algo.pMask) "
   ]
  },
  {
   "cell_type": "code",
   "execution_count": null,
   "metadata": {},
   "outputs": [],
   "source": []
  },
  {
   "cell_type": "code",
   "execution_count": null,
   "metadata": {},
   "outputs": [],
   "source": [
    "cwfs.intra_visit_id = None\n",
    "cwfs.extra_visit_id = None\n",
    "cwfs.angle = None\n",
    "await cwfs.run_cwfs()"
   ]
  },
  {
   "cell_type": "code",
   "execution_count": null,
   "metadata": {},
   "outputs": [],
   "source": [
    "offset = {'m1': 0.0,\n",
    "          'm2': 0.0,\n",
    "          'x': 0.0,\n",
    "          'y': 0.0,\n",
    "          'z': 0.09,\n",
    "          'u': 0.0,\n",
    "          'v': 0.0\n",
    "          }\n",
    "\n",
    "await cwfs.attcs.ataos.cmd_offset.set_start(**offset)"
   ]
  },
  {
   "cell_type": "code",
   "execution_count": null,
   "metadata": {},
   "outputs": [],
   "source": [
    "# print results\n",
    "cwfs.show_results()\n",
    "# plot zernikes\n",
    "x = np.arange(9)+4\n",
    "plt.plot(x, cwfs.algo.zer4UpNm[:9], 'o-', label=f'{cwfs.dz}')\n",
    "xlim = plt.xlim()\n",
    "plt.plot(np.arange(15), np.zeros(15)+50, 'b--')\n",
    "plt.plot(np.arange(15), np.zeros(15)-50, 'b--')\n",
    "plt.xlim(xlim)\n",
    "plt.ylabel(\"Zernike coeff (nm)\")\n",
    "plt.xlabel(\"Zernike index\")\n",
    "plt.grid()\n",
    "plt.legend()\n",
    "print(cwfs.algo.zer4UpNm[:9])"
   ]
  },
  {
   "cell_type": "code",
   "execution_count": null,
   "metadata": {},
   "outputs": [],
   "source": [
    "fig1 = plt.figure(1, figsize=(12,8))\n",
    "\n",
    "ax11 = fig1.add_subplot(121)\n",
    "\n",
    "ax11.set_title(\"defocus 0.8 - intra\")\n",
    "ax11.imshow(cwfs.I1[0].image0)\n",
    "ax11.contour(cwfs.algo.pMask) \n",
    "\n",
    "ax12 = fig1.add_subplot(122)\n",
    "\n",
    "ax12.set_title(\"defocus 0.8 - extra\")\n",
    "ax12.imshow(cwfs.I2[0].image0)\n",
    "ax12.contour(cwfs.algo.pMask) "
   ]
  },
  {
   "cell_type": "code",
   "execution_count": null,
   "metadata": {},
   "outputs": [],
   "source": []
  },
  {
   "cell_type": "code",
   "execution_count": null,
   "metadata": {},
   "outputs": [],
   "source": [
    "cwfs.intra_visit_id = None\n",
    "cwfs.extra_visit_id = None\n",
    "cwfs.angle = None\n",
    "await cwfs.run_cwfs()"
   ]
  },
  {
   "cell_type": "code",
   "execution_count": null,
   "metadata": {},
   "outputs": [],
   "source": [
    "offset = {'m1': 0.0,\n",
    "          'm2': 0.0,\n",
    "          'x': 0.0,\n",
    "          'y': 0.0,\n",
    "          'z': 0.0,\n",
    "          'u': 0.0,\n",
    "          'v': 0.0\n",
    "          }\n",
    "\n",
    "await cwfs.attcs.ataos.cmd_offset.set_start(**offset)"
   ]
  },
  {
   "cell_type": "code",
   "execution_count": null,
   "metadata": {},
   "outputs": [],
   "source": [
    "# print results\n",
    "cwfs.show_results()\n",
    "# plot zernikes\n",
    "x = np.arange(9)+4\n",
    "plt.plot(x, cwfs.algo.zer4UpNm[:9], 'o-', label=f'{cwfs.dz}')\n",
    "xlim = plt.xlim()\n",
    "plt.plot(np.arange(15), np.zeros(15)+50, 'b--')\n",
    "plt.plot(np.arange(15), np.zeros(15)-50, 'b--')\n",
    "plt.xlim(xlim)\n",
    "plt.ylabel(\"Zernike coeff (nm)\")\n",
    "plt.xlabel(\"Zernike index\")\n",
    "plt.grid()\n",
    "plt.legend()\n",
    "print(cwfs.algo.zer4UpNm[:9])"
   ]
  },
  {
   "cell_type": "code",
   "execution_count": null,
   "metadata": {},
   "outputs": [],
   "source": []
  },
  {
   "cell_type": "code",
   "execution_count": null,
   "metadata": {},
   "outputs": [],
   "source": []
  },
  {
   "cell_type": "code",
   "execution_count": null,
   "metadata": {},
   "outputs": [],
   "source": [
    "cwfs.intra_visit_id = None\n",
    "cwfs.extra_visit_id = None\n",
    "cwfs.angle = None\n",
    "await cwfs.run_cwfs()"
   ]
  },
  {
   "cell_type": "code",
   "execution_count": null,
   "metadata": {},
   "outputs": [],
   "source": [
    "offset = {'m1': 0.0,\n",
    "          'm2': 0.0,\n",
    "          'x': 0.0,\n",
    "          'y': 0.0,\n",
    "          'z': 0.2,\n",
    "          'u': 0.0,\n",
    "          'v': 0.0\n",
    "          }\n",
    "\n",
    "await cwfs.attcs.ataos.cmd_offset.set_start(**offset)"
   ]
  },
  {
   "cell_type": "code",
   "execution_count": null,
   "metadata": {},
   "outputs": [],
   "source": [
    "# print results\n",
    "cwfs.show_results()\n",
    "# plot zernikes\n",
    "x = np.arange(9)+4\n",
    "plt.plot(x, cwfs.algo.zer4UpNm[:9], 'o-', label=f'{cwfs.dz}')\n",
    "xlim = plt.xlim()\n",
    "plt.plot(np.arange(15), np.zeros(15)+50, 'b--')\n",
    "plt.plot(np.arange(15), np.zeros(15)-50, 'b--')\n",
    "plt.xlim(xlim)\n",
    "plt.ylabel(\"Zernike coeff (nm)\")\n",
    "plt.xlabel(\"Zernike index\")\n",
    "plt.grid()\n",
    "plt.legend()\n",
    "print(cwfs.algo.zer4UpNm[:9])"
   ]
  },
  {
   "cell_type": "code",
   "execution_count": null,
   "metadata": {},
   "outputs": [],
   "source": []
  },
  {
   "cell_type": "code",
   "execution_count": null,
   "metadata": {},
   "outputs": [],
   "source": [
    "cwfs.intra_visit_id = None\n",
    "cwfs.extra_visit_id = None\n",
    "cwfs.angle = None\n",
    "await cwfs.run_cwfs()"
   ]
  },
  {
   "cell_type": "code",
   "execution_count": null,
   "metadata": {},
   "outputs": [],
   "source": [
    "offset = {'m1': 0.0,\n",
    "          'm2': 0.0,\n",
    "          'x': 0.0,\n",
    "          'y': 0.0,\n",
    "          'z': 0.2,\n",
    "          'u': 0.0,\n",
    "          'v': 0.0\n",
    "          }\n",
    "\n",
    "await cwfs.attcs.ataos.cmd_offset.set_start(**offset)"
   ]
  },
  {
   "cell_type": "code",
   "execution_count": null,
   "metadata": {},
   "outputs": [],
   "source": [
    "# print results\n",
    "cwfs.show_results()\n",
    "# plot zernikes\n",
    "x = np.arange(9)+4\n",
    "plt.plot(x, cwfs.algo.zer4UpNm[:9], 'o-', label=f'{cwfs.dz}')\n",
    "xlim = plt.xlim()\n",
    "plt.plot(np.arange(15), np.zeros(15)+50, 'b--')\n",
    "plt.plot(np.arange(15), np.zeros(15)-50, 'b--')\n",
    "plt.xlim(xlim)\n",
    "plt.ylabel(\"Zernike coeff (nm)\")\n",
    "plt.xlabel(\"Zernike index\")\n",
    "plt.grid()\n",
    "plt.legend()\n",
    "print(cwfs.algo.zer4UpNm[:9])"
   ]
  },
  {
   "cell_type": "code",
   "execution_count": null,
   "metadata": {},
   "outputs": [],
   "source": []
  },
  {
   "cell_type": "code",
   "execution_count": null,
   "metadata": {},
   "outputs": [],
   "source": [
    "cwfs.intra_visit_id = None\n",
    "cwfs.extra_visit_id = None\n",
    "cwfs.angle = None\n",
    "await cwfs.run_cwfs()"
   ]
  },
  {
   "cell_type": "code",
   "execution_count": null,
   "metadata": {},
   "outputs": [],
   "source": [
    "offset = {'m1': 0.0,\n",
    "          'm2': 0.0,\n",
    "          'x': 0.0,\n",
    "          'y': 0.0,\n",
    "          'z': 0.2,\n",
    "          'u': 0.0,\n",
    "          'v': 0.0\n",
    "          }\n",
    "\n",
    "await cwfs.attcs.ataos.cmd_offset.set_start(**offset)"
   ]
  },
  {
   "cell_type": "code",
   "execution_count": null,
   "metadata": {},
   "outputs": [],
   "source": [
    "# print results\n",
    "cwfs.show_results()\n",
    "# plot zernikes\n",
    "x = np.arange(9)+4\n",
    "plt.plot(x, cwfs.algo.zer4UpNm[:9], 'o-', label=f'{cwfs.dz}')\n",
    "xlim = plt.xlim()\n",
    "plt.plot(np.arange(15), np.zeros(15)+50, 'b--')\n",
    "plt.plot(np.arange(15), np.zeros(15)-50, 'b--')\n",
    "plt.xlim(xlim)\n",
    "plt.ylabel(\"Zernike coeff (nm)\")\n",
    "plt.xlabel(\"Zernike index\")\n",
    "plt.grid()\n",
    "plt.legend()\n",
    "print(cwfs.algo.zer4UpNm[:9])"
   ]
  },
  {
   "cell_type": "code",
   "execution_count": null,
   "metadata": {},
   "outputs": [],
   "source": []
  },
  {
   "cell_type": "markdown",
   "metadata": {},
   "source": [
    "# Last one"
   ]
  },
  {
   "cell_type": "code",
   "execution_count": null,
   "metadata": {},
   "outputs": [],
   "source": [
    "cwfs.intra_visit_id = None\n",
    "cwfs.extra_visit_id = None\n",
    "cwfs.angle = None\n",
    "await cwfs.run_cwfs()"
   ]
  },
  {
   "cell_type": "code",
   "execution_count": null,
   "metadata": {},
   "outputs": [],
   "source": [
    "offset = {'m1': 0.0,\n",
    "          'm2': 0.0,\n",
    "          'x': 0.0,\n",
    "          'y': 0.0,\n",
    "          'z': 0.2,\n",
    "          'u': 0.0,\n",
    "          'v': 0.0\n",
    "          }\n",
    "\n",
    "await cwfs.attcs.ataos.cmd_offset.set_start(**offset)"
   ]
  },
  {
   "cell_type": "code",
   "execution_count": null,
   "metadata": {},
   "outputs": [],
   "source": [
    "# print results\n",
    "cwfs.show_results()\n",
    "# plot zernikes\n",
    "x = np.arange(9)+4\n",
    "plt.plot(x, cwfs.algo.zer4UpNm[:9], 'o-', label=f'{cwfs.dz}')\n",
    "xlim = plt.xlim()\n",
    "plt.plot(np.arange(15), np.zeros(15)+50, 'b--')\n",
    "plt.plot(np.arange(15), np.zeros(15)-50, 'b--')\n",
    "plt.xlim(xlim)\n",
    "plt.ylabel(\"Zernike coeff (nm)\")\n",
    "plt.xlabel(\"Zernike index\")\n",
    "plt.grid()\n",
    "plt.legend()\n",
    "print(cwfs.algo.zer4UpNm[:9])"
   ]
  },
  {
   "cell_type": "code",
   "execution_count": null,
   "metadata": {},
   "outputs": [],
   "source": [
    "fig1 = plt.figure(1, figsize=(12,8))\n",
    "\n",
    "ax11 = fig1.add_subplot(121)\n",
    "\n",
    "ax11.set_title(\"defocus 0.8 - intra\")\n",
    "ax11.imshow(cwfs.I1[0].image0)\n",
    "ax11.contour(cwfs.algo.pMask) \n",
    "\n",
    "ax12 = fig1.add_subplot(122)\n",
    "\n",
    "ax12.set_title(\"defocus 0.8 - extra\")\n",
    "ax12.imshow(cwfs.I2[0].image0)\n",
    "ax12.contour(cwfs.algo.pMask) "
   ]
  },
  {
   "cell_type": "code",
   "execution_count": null,
   "metadata": {},
   "outputs": [],
   "source": [
    "await cwfs.attcs.stop_tracking()"
   ]
  },
  {
   "cell_type": "code",
   "execution_count": null,
   "metadata": {},
   "outputs": [],
   "source": [
    "await cwfs.attcs.atptg.cmd_stopTracking.start()"
   ]
  },
  {
   "cell_type": "code",
   "execution_count": null,
   "metadata": {},
   "outputs": [],
   "source": [
    "await cwfs.attcs.atmcs.cmd_stopTracking.start()"
   ]
  },
  {
   "cell_type": "code",
   "execution_count": null,
   "metadata": {},
   "outputs": [],
   "source": [
    "await cwfs.attcs.enable()"
   ]
  },
  {
   "cell_type": "code",
   "execution_count": null,
   "metadata": {},
   "outputs": [],
   "source": [
    "await cwfs.attcs.atptg.cmd_pointCloseFile.start()"
   ]
  },
  {
   "cell_type": "code",
   "execution_count": null,
   "metadata": {},
   "outputs": [],
   "source": []
  },
  {
   "cell_type": "code",
   "execution_count": null,
   "metadata": {},
   "outputs": [],
   "source": [
    "offset = {'m1': 0.0,\n",
    "          'm2': 0.0,\n",
    "          'x': 0.0,\n",
    "          'y': 0.0,\n",
    "          'z': -0.1,\n",
    "          'u': 0.0,\n",
    "          'v': 0.0\n",
    "          }\n",
    "\n",
    "await cwfs.attcs.ataos.cmd_offset.set_start(**offset)"
   ]
  },
  {
   "cell_type": "code",
   "execution_count": null,
   "metadata": {},
   "outputs": [],
   "source": [
    "offset = {'m1': 0.0,\n",
    "          'm2': 0.0,\n",
    "          'x': 0.0,\n",
    "          'y': 0.0,\n",
    "          'z': 0.3,\n",
    "          'u': 0.0,\n",
    "          'v': 0.0\n",
    "          }\n",
    "\n",
    "await cwfs.attcs.ataos.cmd_offset.set_start(**offset)"
   ]
  },
  {
   "cell_type": "code",
   "execution_count": null,
   "metadata": {},
   "outputs": [],
   "source": [
    "await cwfs.attcs.slew_object(\"m104\", rot_sky=-180.)"
   ]
  },
  {
   "cell_type": "code",
   "execution_count": null,
   "metadata": {},
   "outputs": [],
   "source": [
    "await cwfs.attcs.cancel_not_done(cwfs.attcs.scheduled_coro)"
   ]
  },
  {
   "cell_type": "code",
   "execution_count": null,
   "metadata": {},
   "outputs": [],
   "source": [
    "await cwfs.latiss.take_object(60)"
   ]
  },
  {
   "cell_type": "code",
   "execution_count": null,
   "metadata": {},
   "outputs": [],
   "source": [
    "await cwfs.attcs.slew_object(\"m68\", rot_sky=-180.)"
   ]
  },
  {
   "cell_type": "code",
   "execution_count": null,
   "metadata": {},
   "outputs": [],
   "source": [
    "await cwfs.latiss.take_object(30, 5)"
   ]
  },
  {
   "cell_type": "code",
   "execution_count": null,
   "metadata": {},
   "outputs": [],
   "source": [
    "await cwfs.attcs.slew_object(\"m87\", rot_sky=-180.)"
   ]
  },
  {
   "cell_type": "code",
   "execution_count": null,
   "metadata": {},
   "outputs": [],
   "source": [
    "await cwfs.latiss.take_object(5)"
   ]
  },
  {
   "cell_type": "code",
   "execution_count": null,
   "metadata": {},
   "outputs": [],
   "source": [
    "await cwfs.latiss.take_object(30)"
   ]
  },
  {
   "cell_type": "code",
   "execution_count": null,
   "metadata": {},
   "outputs": [],
   "source": [
    "await cwfs.attcs.slew_object(\"BD-19 3758\", rot_sky=-180.)\n"
   ]
  },
  {
   "cell_type": "code",
   "execution_count": null,
   "metadata": {},
   "outputs": [],
   "source": [
    "await cwfs.latiss.take_object(5)"
   ]
  },
  {
   "cell_type": "code",
   "execution_count": null,
   "metadata": {},
   "outputs": [],
   "source": [
    "await cwfs.latiss.take_object(30)"
   ]
  },
  {
   "cell_type": "code",
   "execution_count": null,
   "metadata": {},
   "outputs": [],
   "source": [
    "await cwfs.latiss.take_object(15)"
   ]
  },
  {
   "cell_type": "code",
   "execution_count": null,
   "metadata": {},
   "outputs": [],
   "source": [
    "print()"
   ]
  },
  {
   "cell_type": "code",
   "execution_count": 5,
   "metadata": {},
   "outputs": [
    {
     "name": "stdout",
     "output_type": "stream",
     "text": [
      "Disabling ATAOS corrections\n",
      "Disable ATDomeTrajectory\n",
      "Slew telescope to Park position.\n",
      "Sending command\n",
      "Stop tracking.\n",
      "Mount tracking state is 8\n",
      "In Position: False.\n",
      "Scheduling check coroutines\n",
      "process as completed...\n",
      "falling behind; queue contains 44 elements\n",
      "Got True\n",
      "Waiting for telescope to settle.\n",
      "atmcs: <State.ENABLED: 2>\n",
      "atptg: <State.ENABLED: 2>\n",
      "ataos: <State.ENABLED: 2>\n",
      "atpneumatics: <State.ENABLED: 2>\n",
      "athexapod: <State.ENABLED: 2>\n",
      "[Telescope] delta Alt = +039.156 | delta Az= +074.324 delta N1 = -000.000 delta N2 = -006.545 \n",
      "Telescope in position.\n",
      "['Telescope in position.']\n",
      "Stop tracking.\n",
      "Mount tracking state is 9\n",
      "Tracking state: 10.\n",
      "Tracking state: 8.\n",
      "In Position: False.\n",
      "Cover state <MirrorCoverState.OPENED: 7>\n",
      "Closing M1 cover.\n",
      "Cover state <MirrorCoverState.OPENED: 7>\n",
      "Cover state <MirrorCoverState.INMOTION: 8>\n",
      "Cover state <MirrorCoverState.CLOSED: 6>\n",
      "Close dome.\n",
      "atdome: <State.ENABLED: 2>\n",
      "Got: private_revCode: f1592f29, private_sndStamp: 1584352430.1901617, private_rcvStamp: 1584352430.1922834, private_seqNum: 31, private_origin: 25, private_host: 1721946909, inPosition: False, priority: 0\n",
      "ATDome shutter not in position.\n",
      "Got: private_revCode: f1592f29, private_sndStamp: 1584352660.2408192, private_rcvStamp: 1584352660.2429123, private_seqNum: 32, private_origin: 25, private_host: 1721946909, inPosition: True, priority: 0\n",
      "ATDome shutter in position.\n",
      "Slew dome to Park position.\n",
      "atdometrajectory: <State.DISABLED: 1>\n",
      "[Dome] delta Az = -007.350\n",
      "[Dome] delta Az = -007.220\n",
      "[Dome] delta Az = -006.860\n",
      "[Dome] delta Az = -006.250\n",
      "[Dome] delta Az = -005.420\n",
      "[Dome] delta Az = -004.480\n",
      "ATDome in position.\n",
      "Put all CSCs in standby\n",
      "[atmcs]::[<State.ENABLED: 2>, <State.DISABLED: 1>, <State.STANDBY: 5>]\n",
      "[atptg]::[<State.ENABLED: 2>, <State.DISABLED: 1>, <State.STANDBY: 5>]\n",
      "[ataos]::[<State.ENABLED: 2>, <State.DISABLED: 1>, <State.STANDBY: 5>]\n",
      "[atpneumatics]::[<State.ENABLED: 2>, <State.DISABLED: 1>, <State.STANDBY: 5>]\n",
      "[athexapod]::[<State.ENABLED: 2>, <State.DISABLED: 1>, <State.STANDBY: 5>]\n",
      "[atdome]::[<State.ENABLED: 2>, <State.DISABLED: 1>, <State.STANDBY: 5>]\n",
      "[atdometrajectory]::[<State.DISABLED: 1>, <State.STANDBY: 5>]\n",
      "All components in standby.\n"
     ]
    }
   ],
   "source": [
    "await cwfs.attcs.shutdown()"
   ]
  },
  {
   "cell_type": "code",
   "execution_count": null,
   "metadata": {},
   "outputs": [],
   "source": [
    "await attcs.enable()"
   ]
  },
  {
   "cell_type": "code",
   "execution_count": null,
   "metadata": {},
   "outputs": [],
   "source": []
  }
 ],
 "metadata": {
  "kernelspec": {
   "display_name": "LSST",
   "language": "python",
   "name": "lsst"
  },
  "language_info": {
   "codemirror_mode": {
    "name": "ipython",
    "version": 3
   },
   "file_extension": ".py",
   "mimetype": "text/x-python",
   "name": "python",
   "nbconvert_exporter": "python",
   "pygments_lexer": "ipython3",
   "version": "3.7.6"
  }
 },
 "nbformat": 4,
 "nbformat_minor": 4
}
