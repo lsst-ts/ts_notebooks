{
 "cells": [
  {
   "cell_type": "code",
   "execution_count": null,
   "metadata": {},
   "outputs": [],
   "source": []
  },
  {
   "cell_type": "code",
   "execution_count": null,
   "metadata": {},
   "outputs": [],
   "source": [
    "cwfs.intra_visit_id = None\n",
    "cwfs.extra_visit_id = None\n",
    "cwfs.angle = None"
   ]
  },
  {
   "cell_type": "code",
   "execution_count": null,
   "metadata": {},
   "outputs": [],
   "source": [
    "await cwfs.run_cwfs()"
   ]
  },
  {
   "cell_type": "code",
   "execution_count": null,
   "metadata": {},
   "outputs": [],
   "source": [
    "print(f\"{cwfs.intra_visit_id}, {cwfs.extra_visit_id}, {cwfs.angle}\")"
   ]
  },
  {
   "cell_type": "code",
   "execution_count": null,
   "metadata": {},
   "outputs": [],
   "source": [
    "# print results\n",
    "cwfs.show_results()\n",
    "# plot zernikes\n",
    "x = np.arange(9)+4\n",
    "plt.plot(x, cwfs.algo.zer4UpNm[:9], 'o-', label=f'{cwfs.dz}')\n",
    "xlim = plt.xlim()\n",
    "plt.plot(np.arange(15), np.zeros(15)+50, 'b--')\n",
    "plt.plot(np.arange(15), np.zeros(15)-50, 'b--')\n",
    "plt.xlim(xlim)\n",
    "plt.ylabel(\"Zernike coeff (nm)\")\n",
    "plt.xlabel(\"Zernike index\")\n",
    "plt.grid()\n",
    "plt.legend()\n",
    "print(cwfs.algo.zer4UpNm[:9])"
   ]
  },
  {
   "cell_type": "code",
   "execution_count": null,
   "metadata": {},
   "outputs": [],
   "source": [
    "fig1 = plt.figure(1, figsize=(12,8))\n",
    "\n",
    "ax11 = fig1.add_subplot(121)\n",
    "\n",
    "ax11.set_title(\"defocus 0.8 - intra\")\n",
    "ax11.imshow(cwfs.I1[0].image0)\n",
    "ax11.contour(cwfs.algo.pMask) \n",
    "\n",
    "ax12 = fig1.add_subplot(122)\n",
    "\n",
    "ax12.set_title(\"defocus 0.8 - extra\")\n",
    "ax12.imshow(cwfs.I2[0].image0)\n",
    "ax12.contour(cwfs.algo.pMask) "
   ]
  },
  {
   "cell_type": "code",
   "execution_count": null,
   "metadata": {},
   "outputs": [],
   "source": [
    "await cwfs.attcs.ataos.cmd_offset.set_start(x=0., y=0.0, z=0.0)"
   ]
  },
  {
   "cell_type": "code",
   "execution_count": null,
   "metadata": {},
   "outputs": [],
   "source": []
  },
  {
   "cell_type": "code",
   "execution_count": null,
   "metadata": {},
   "outputs": [],
   "source": []
  },
  {
   "cell_type": "code",
   "execution_count": null,
   "metadata": {},
   "outputs": [],
   "source": [
    "exp_id = await cwfs.latiss.take_object(20.)\n",
    "cwfs.evt_logMessage.set_put(message=\"Focused image: {exp_id[0]}\")\n",
    "print(f\"{exp_id}\")"
   ]
  }
 ],
 "metadata": {
  "kernelspec": {
   "display_name": "LSST",
   "language": "python",
   "name": "lsst"
  },
  "language_info": {
   "codemirror_mode": {
    "name": "ipython",
    "version": 3
   },
   "file_extension": ".py",
   "mimetype": "text/x-python",
   "name": "python",
   "nbconvert_exporter": "python",
   "pygments_lexer": "ipython3",
   "version": "3.7.6"
  }
 },
 "nbformat": 4,
 "nbformat_minor": 4
}
