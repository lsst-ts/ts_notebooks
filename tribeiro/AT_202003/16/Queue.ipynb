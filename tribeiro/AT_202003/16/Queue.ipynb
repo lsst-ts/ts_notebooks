{
 "cells": [
  {
   "cell_type": "code",
   "execution_count": 1,
   "metadata": {},
   "outputs": [],
   "source": [
    "import os\n",
    "import sys\n",
    "import yaml\n",
    "import asyncio\n",
    "\n",
    "from lsst.ts import salobj\n",
    "\n",
    "from lsst.ts.idl.enums import ScriptQueue"
   ]
  },
  {
   "cell_type": "code",
   "execution_count": 2,
   "metadata": {},
   "outputs": [],
   "source": [
    "os.environ[\"LSST_DDS_DOMAIN\"] = 'lsatmcs'\n",
    "os.environ[\"OSPL_URI\"] = \"file:///home/tribeiro/ospl.xml\""
   ]
  },
  {
   "cell_type": "code",
   "execution_count": 3,
   "metadata": {},
   "outputs": [],
   "source": [
    "r = salobj.Remote(salobj.Domain(), \"ScriptQueue\", index=2)"
   ]
  },
  {
   "cell_type": "code",
   "execution_count": 4,
   "metadata": {},
   "outputs": [],
   "source": [
    "await r.start_task"
   ]
  },
  {
   "cell_type": "code",
   "execution_count": null,
   "metadata": {},
   "outputs": [],
   "source": [
    "await r.evt_heartbeat.next(flush=True, timeout=30)"
   ]
  },
  {
   "cell_type": "code",
   "execution_count": 6,
   "metadata": {},
   "outputs": [
    {
     "data": {
      "text/plain": [
       "[<State.STANDBY: 5>, <State.DISABLED: 1>, <State.ENABLED: 2>]"
      ]
     },
     "execution_count": 6,
     "metadata": {},
     "output_type": "execute_result"
    }
   ],
   "source": [
    "await salobj.set_summary_state(r, salobj.State.ENABLED)"
   ]
  },
  {
   "cell_type": "code",
   "execution_count": 5,
   "metadata": {},
   "outputs": [
    {
     "data": {
      "text/plain": [
       "[<State.ENABLED: 2>,\n",
       " <State.DISABLED: 1>,\n",
       " <State.STANDBY: 5>,\n",
       " <State.OFFLINE: 4>]"
      ]
     },
     "execution_count": 5,
     "metadata": {},
     "output_type": "execute_result"
    }
   ],
   "source": [
    "await salobj.set_summary_state(r, salobj.State.OFFLINE)"
   ]
  },
  {
   "cell_type": "code",
   "execution_count": null,
   "metadata": {},
   "outputs": [],
   "source": [
    "r1 = salobj.Remote(r.salinfo.domain, \"Watcher\")"
   ]
  },
  {
   "cell_type": "code",
   "execution_count": null,
   "metadata": {},
   "outputs": [],
   "source": [
    "await r1.start_task"
   ]
  },
  {
   "cell_type": "code",
   "execution_count": 15,
   "metadata": {},
   "outputs": [],
   "source": [
    "r2 = salobj.Remote(r.salinfo.domain, \"Scheduler\", index=2)"
   ]
  },
  {
   "cell_type": "code",
   "execution_count": 16,
   "metadata": {},
   "outputs": [
    {
     "ename": "CancelledError",
     "evalue": "",
     "output_type": "error",
     "traceback": [
      "\u001b[0;31m---------------------------------------------------------------------------\u001b[0m",
      "\u001b[0;31mCancelledError\u001b[0m                            Traceback (most recent call last)",
      "\u001b[0;32m<ipython-input-16-a0745d3d3005>\u001b[0m in \u001b[0;36masync-def-wrapper\u001b[0;34m()\u001b[0m\n",
      "\u001b[0;32m/opt/lsst/src/ts_salobj/python/lsst/ts/salobj/topics/remote_command.py\u001b[0m in \u001b[0;36mstart\u001b[0;34m(self, data, timeout, wait_done)\u001b[0m\n\u001b[1;32m    393\u001b[0m         )\n\u001b[1;32m    394\u001b[0m         \u001b[0mself\u001b[0m\u001b[0;34m.\u001b[0m\u001b[0msalinfo\u001b[0m\u001b[0;34m.\u001b[0m\u001b[0m_running_cmds\u001b[0m\u001b[0;34m[\u001b[0m\u001b[0mseq_num\u001b[0m\u001b[0;34m]\u001b[0m \u001b[0;34m=\u001b[0m \u001b[0mcmd_info\u001b[0m\u001b[0;34m\u001b[0m\u001b[0;34m\u001b[0m\u001b[0m\n\u001b[0;32m--> 395\u001b[0;31m         \u001b[0;32mreturn\u001b[0m \u001b[0;32mawait\u001b[0m \u001b[0mcmd_info\u001b[0m\u001b[0;34m.\u001b[0m\u001b[0mnext_ackcmd\u001b[0m\u001b[0;34m(\u001b[0m\u001b[0mtimeout\u001b[0m\u001b[0;34m=\u001b[0m\u001b[0mtimeout\u001b[0m\u001b[0;34m)\u001b[0m\u001b[0;34m\u001b[0m\u001b[0;34m\u001b[0m\u001b[0m\n\u001b[0m",
      "\u001b[0;32m/opt/lsst/src/ts_salobj/python/lsst/ts/salobj/topics/remote_command.py\u001b[0m in \u001b[0;36mnext_ackcmd\u001b[0;34m(self, timeout)\u001b[0m\n\u001b[1;32m    176\u001b[0m                 \u001b[0masyncio\u001b[0m\u001b[0;34m.\u001b[0m\u001b[0mwait_for\u001b[0m\u001b[0;34m(\u001b[0m\u001b[0mself\u001b[0m\u001b[0;34m.\u001b[0m\u001b[0m_basic_next_ack\u001b[0m\u001b[0;34m(\u001b[0m\u001b[0;34m)\u001b[0m\u001b[0;34m,\u001b[0m \u001b[0mtimeout\u001b[0m\u001b[0;34m=\u001b[0m\u001b[0mtimeout\u001b[0m\u001b[0;34m)\u001b[0m\u001b[0;34m\u001b[0m\u001b[0;34m\u001b[0m\u001b[0m\n\u001b[1;32m    177\u001b[0m             )\n\u001b[0;32m--> 178\u001b[0;31m             \u001b[0mackcmd\u001b[0m \u001b[0;34m=\u001b[0m \u001b[0;32mawait\u001b[0m \u001b[0mself\u001b[0m\u001b[0;34m.\u001b[0m\u001b[0m_wait_task\u001b[0m\u001b[0;34m\u001b[0m\u001b[0;34m\u001b[0m\u001b[0m\n\u001b[0m\u001b[1;32m    179\u001b[0m             \u001b[0;31m# print(f\"next_ackcmd got {ackcmd.ack} from _basic_next_ack\")\u001b[0m\u001b[0;34m\u001b[0m\u001b[0;34m\u001b[0m\u001b[0;34m\u001b[0m\u001b[0m\n\u001b[1;32m    180\u001b[0m             \u001b[0;32mif\u001b[0m \u001b[0mackcmd\u001b[0m\u001b[0;34m.\u001b[0m\u001b[0mack\u001b[0m \u001b[0;32min\u001b[0m \u001b[0mself\u001b[0m\u001b[0;34m.\u001b[0m\u001b[0mfailed_ack_codes\u001b[0m\u001b[0;34m:\u001b[0m\u001b[0;34m\u001b[0m\u001b[0;34m\u001b[0m\u001b[0m\n",
      "\u001b[0;31mCancelledError\u001b[0m: "
     ]
    }
   ],
   "source": [
    "# await r2.cmd_exitControl.start()"
   ]
  },
  {
   "cell_type": "code",
   "execution_count": 19,
   "metadata": {},
   "outputs": [
    {
     "data": {
      "text/plain": [
       "<ddsutil.Scheduler_logevent_heartbeat_ab5770e9 at 0x7fe5d8c31390>"
      ]
     },
     "execution_count": 19,
     "metadata": {},
     "output_type": "execute_result"
    }
   ],
   "source": [
    "await r2.evt_heartbeat.next(flush=True, timeout=30)"
   ]
  },
  {
   "cell_type": "code",
   "execution_count": 20,
   "metadata": {},
   "outputs": [
    {
     "ename": "NameError",
     "evalue": "name 'r1' is not defined",
     "output_type": "error",
     "traceback": [
      "\u001b[0;31m---------------------------------------------------------------------------\u001b[0m",
      "\u001b[0;31mNameError\u001b[0m                                 Traceback (most recent call last)",
      "\u001b[0;32m<ipython-input-20-a1c96299de1e>\u001b[0m in \u001b[0;36masync-def-wrapper\u001b[0;34m()\u001b[0m\n",
      "\u001b[0;31mNameError\u001b[0m: name 'r1' is not defined"
     ]
    }
   ],
   "source": [
    "await salobj.set_summary_state(r1, salobj.State.ENABLED, settingsToApply=\"summit\")"
   ]
  },
  {
   "cell_type": "code",
   "execution_count": null,
   "metadata": {},
   "outputs": [],
   "source": [
    "configuration = yaml.safe_dump({\"nimages\": 2, \n",
    "                                \"exp_times\": 0., \n",
    "                                \"image_type\": \"BIAS\", \n",
    "                                \"filter\": None, \n",
    "                                \"grating\": None, \"linear_stage\": None})\n",
    "print(configuration)"
   ]
  },
  {
   "cell_type": "code",
   "execution_count": null,
   "metadata": {},
   "outputs": [],
   "source": [
    "await r.cmd_setLogLevel.set_start(level=10)"
   ]
  },
  {
   "cell_type": "code",
   "execution_count": null,
   "metadata": {},
   "outputs": [],
   "source": [
    "await r.cmd_add.set_start(isStandard=True,\n",
    "                          path=\"auxtel/atcam_take_image.py\", \n",
    "                          config=configuration,\n",
    "                          logLevel=10, \n",
    "                          location=ScriptQueue.Location.FIRST)"
   ]
  },
  {
   "cell_type": "code",
   "execution_count": null,
   "metadata": {},
   "outputs": [],
   "source": [
    "await r.cmd_resume.start()"
   ]
  },
  {
   "cell_type": "code",
   "execution_count": null,
   "metadata": {},
   "outputs": [],
   "source": [
    "await r.cmd_add.set_start(isStandard=False,\n",
    "                          path=\"auxtel/enable_attcs.py\", \n",
    "                          config=\"\",\n",
    "                          logLevel=10, \n",
    "                          location=ScriptQueue.Location.FIRST)"
   ]
  },
  {
   "cell_type": "code",
   "execution_count": null,
   "metadata": {},
   "outputs": [],
   "source": [
    "await r.cmd_add.set_start(isStandard=False,\n",
    "                          path=\"auxtel/enable_latiss.py\", \n",
    "                          config=\"\",\n",
    "                          logLevel=10, \n",
    "                          location=ScriptQueue.Location.FIRST)"
   ]
  },
  {
   "cell_type": "code",
   "execution_count": null,
   "metadata": {},
   "outputs": [],
   "source": [
    "retval = await r.cmd_add.set_start(isStandard=False,\n",
    "                          path=\"auxtel/prepare_for_flat.py\", \n",
    "                          config=\"\",\n",
    "                          logLevel=10, \n",
    "                          location=ScriptQueue.Location.FIRST)\n",
    "print(retval)"
   ]
  },
  {
   "cell_type": "code",
   "execution_count": null,
   "metadata": {},
   "outputs": [],
   "source": [
    "retval.result"
   ]
  },
  {
   "cell_type": "code",
   "execution_count": null,
   "metadata": {},
   "outputs": [],
   "source": [
    "foo = salobj.Remote(r.salinfo.domain, \"Script\", index=0)"
   ]
  },
  {
   "cell_type": "code",
   "execution_count": null,
   "metadata": {},
   "outputs": [],
   "source": [
    "foo_200001 = salobj.Remote(r.salinfo.domain, \"Script\", index=)"
   ]
  },
  {
   "cell_type": "code",
   "execution_count": null,
   "metadata": {},
   "outputs": [],
   "source": [
    "await foo.start_task"
   ]
  },
  {
   "cell_type": "code",
   "execution_count": null,
   "metadata": {},
   "outputs": [],
   "source": [
    "hb = await foo.evt_heartbeat.next(flush=True, timeout=10)"
   ]
  },
  {
   "cell_type": "code",
   "execution_count": null,
   "metadata": {},
   "outputs": [],
   "source": [
    "print(hb)"
   ]
  },
  {
   "cell_type": "code",
   "execution_count": null,
   "metadata": {},
   "outputs": [],
   "source": [
    "await foo.cmd_stop.start()"
   ]
  },
  {
   "cell_type": "code",
   "execution_count": null,
   "metadata": {},
   "outputs": [],
   "source": [
    "print(\"\"\"File \"/opt/lsst/src/ts_salobj/python/lsst/ts/salobj/base_script.py\", line 502, in do_configure\\n    full_config_dict = self.config_validator.validate(user_config_dict)\\n\n",
    "\"\"\")"
   ]
  },
  {
   "cell_type": "code",
   "execution_count": null,
   "metadata": {},
   "outputs": [],
   "source": [
    "await r.cmd_pause.start()"
   ]
  },
  {
   "cell_type": "code",
   "execution_count": null,
   "metadata": {},
   "outputs": [],
   "source": [
    "await r.cmd_add.set_start(isStandard=False,\n",
    "                          path=\"auxtel/startup_attcs.py\", \n",
    "                          config=\"\",\n",
    "                          logLevel=10, \n",
    "                          location=ScriptQueue.Location.FIRST)"
   ]
  },
  {
   "cell_type": "code",
   "execution_count": null,
   "metadata": {},
   "outputs": [],
   "source": [
    "await r.cmd_resume.start()"
   ]
  },
  {
   "cell_type": "code",
   "execution_count": null,
   "metadata": {},
   "outputs": [],
   "source": [
    "await r.cmd_stopScripts.set_start()"
   ]
  },
  {
   "cell_type": "code",
   "execution_count": null,
   "metadata": {},
   "outputs": [],
   "source": [
    "script_r = salobj.Remote(r.salinfo.domain, \"Script\", index=200028)"
   ]
  },
  {
   "cell_type": "code",
   "execution_count": null,
   "metadata": {},
   "outputs": [],
   "source": [
    "await script_r.start_task"
   ]
  },
  {
   "cell_type": "code",
   "execution_count": null,
   "metadata": {},
   "outputs": [],
   "source": [
    "await script_r.cmd_setLogLevel.set_start(level=10)"
   ]
  },
  {
   "cell_type": "code",
   "execution_count": null,
   "metadata": {},
   "outputs": [],
   "source": [
    "await r.cmd_add.set_start(isStandard=False,\n",
    "                          path=\"auxtel/shutdown_attcs.py\", \n",
    "                          config=\"\",\n",
    "                          logLevel=10, \n",
    "                          location=ScriptQueue.Location.FIRST)"
   ]
  },
  {
   "cell_type": "code",
   "execution_count": null,
   "metadata": {},
   "outputs": [],
   "source": [
    "await r.cmd_enable.start()"
   ]
  },
  {
   "cell_type": "code",
   "execution_count": null,
   "metadata": {},
   "outputs": [],
   "source": [
    "scr = salobj.Remote(r.salinfo.domain, \"Script\", index=200037)"
   ]
  },
  {
   "cell_type": "code",
   "execution_count": null,
   "metadata": {},
   "outputs": [],
   "source": [
    "await scr.start_task"
   ]
  },
  {
   "cell_type": "code",
   "execution_count": null,
   "metadata": {},
   "outputs": [],
   "source": [
    "await scr.cmd_setLogLevel.set_start(level=10)"
   ]
  },
  {
   "cell_type": "code",
   "execution_count": null,
   "metadata": {},
   "outputs": [],
   "source": [
    "print()"
   ]
  },
  {
   "cell_type": "code",
   "execution_count": 8,
   "metadata": {},
   "outputs": [],
   "source": [
    "configuration = yaml.safe_dump({\"object_name\": 'HD 107696', \n",
    "                                \"acq_filter\" : 'BG40',\n",
    "                                \"acq_grating\" : 'empty_1',\n",
    "                                \"exposure_time_sequence\" : [4, 4, 4, 4, 1, 2, 1, 2], \n",
    "                                \"filter_sequence\": ['empty_1','quadnotch1','BG40', 'BG40','RG610','RG610'], \n",
    "                                \"grating_sequence\": ['ronchi90lpmm','ronchi90lpmm','ronchi90lpmm','ronchi90lpmm','empty_1','empty_1','empty_1','empty_1'],\n",
    "                                \"doPointingModel\": False,\n",
    "                                \"dataPath\": '/project/shared/auxTel/rerun/quickLook',\n",
    "                                \"max_acq_iter\": 0 })"
   ]
  },
  {
   "cell_type": "code",
   "execution_count": 9,
   "metadata": {},
   "outputs": [
    {
     "name": "stdout",
     "output_type": "stream",
     "text": [
      "acq_filter: BG40\n",
      "acq_grating: empty_1\n",
      "dataPath: /project/shared/auxTel/rerun/quickLook\n",
      "doPointingModel: false\n",
      "exposure_time_sequence:\n",
      "- 4\n",
      "- 4\n",
      "- 4\n",
      "- 4\n",
      "- 1\n",
      "- 2\n",
      "- 1\n",
      "- 2\n",
      "filter_sequence:\n",
      "- empty_1\n",
      "- quadnotch1\n",
      "- BG40\n",
      "- BG40\n",
      "- RG610\n",
      "- RG610\n",
      "grating_sequence:\n",
      "- ronchi90lpmm\n",
      "- ronchi90lpmm\n",
      "- ronchi90lpmm\n",
      "- ronchi90lpmm\n",
      "- empty_1\n",
      "- empty_1\n",
      "- empty_1\n",
      "- empty_1\n",
      "max_acq_iter: 0\n",
      "object_name: HD 107696\n",
      "\n"
     ]
    }
   ],
   "source": [
    "print(configuration)"
   ]
  },
  {
   "cell_type": "code",
   "execution_count": 14,
   "metadata": {},
   "outputs": [
    {
     "data": {
      "text/plain": [
       "<ddsutil.ScriptQueue_ackcmd_670d4914 at 0x7fe5d8e2e1d0>"
      ]
     },
     "execution_count": 14,
     "metadata": {},
     "output_type": "execute_result"
    }
   ],
   "source": [
    "await r.cmd_add.set_start(isStandard=False,\n",
    "                          path=\"auxtel/latiss_acquire_and_take_sequence.py\", \n",
    "                          config=configuration,\n",
    "                          logLevel=10, \n",
    "                          location=ScriptQueue.Location.LAST)"
   ]
  },
  {
   "cell_type": "code",
   "execution_count": null,
   "metadata": {},
   "outputs": [],
   "source": [
    "await r.cmd_resume.start()"
   ]
  },
  {
   "cell_type": "code",
   "execution_count": null,
   "metadata": {},
   "outputs": [],
   "source": [
    "await r.cmd_pause.start()"
   ]
  },
  {
   "cell_type": "code",
   "execution_count": 28,
   "metadata": {},
   "outputs": [
    {
     "name": "stdout",
     "output_type": "stream",
     "text": [
      "No configuration for location. Skipping.\n",
      "No configuration for observatory_model. Skipping.\n",
      "No configuration for observatory_state. Skipping.\n",
      "Configuring sky\n",
      "Configuring seeing\n",
      "Configuring cloud\n",
      "Configuring downtime\n",
      "Driver already defined. Overwriting driver.\n",
      "Loading driver from lsst.ts.scheduler.driver.sequential\n",
      "Found driver Driver<class 'lsst.ts.scheduler.driver.driver.Driver'>\n",
      "Found driver SequentialScheduler<class 'lsst.ts.scheduler.driver.sequential.SequentialScheduler'>\n",
      "Getting queue.\n"
     ]
    },
    {
     "data": {
      "text/plain": [
       "[<State.STANDBY: 5>, <State.DISABLED: 1>, <State.ENABLED: 2>]"
      ]
     },
     "execution_count": 28,
     "metadata": {},
     "output_type": "execute_result"
    },
    {
     "name": "stdout",
     "output_type": "stream",
     "text": [
      "No scheduled targets to check.\n",
      "Queue ready to receive targets.\n",
      "Updating telemetry stream.\n",
      "Putting target 1 on the queue.\n",
      "Getting queue.\n",
      "Checking 1 scheduled targets\n",
      "Queue state: [Running:True][Executing:False][Empty:False]\n",
      "Getting queue.\n"
     ]
    }
   ],
   "source": [
    "r2.evt_summaryState.callback = None\n",
    "await salobj.set_summary_state(r2, salobj.State.ENABLED, settingsToApply=\"test.yaml\")"
   ]
  },
  {
   "cell_type": "code",
   "execution_count": 27,
   "metadata": {},
   "outputs": [
    {
     "name": "stdout",
     "output_type": "stream",
     "text": [
      "Getting queue.\n",
      "Setting run loop flag to False and waiting for target loop to finish...\n",
      "No scheduled targets to check.\n",
      "Queue state: [Running:False][Executing:True][Empty:True]\n",
      "Waiting target loop to finish (elapsed: 1.0011849403381348 s, timeout: 60.0 s)...\n",
      "Waiting target loop to finish (elapsed: 2.0036258697509766 s, timeout: 60.0 s)...\n"
     ]
    },
    {
     "data": {
      "text/plain": [
       "[<State.ENABLED: 2>, <State.DISABLED: 1>, <State.STANDBY: 5>]"
      ]
     },
     "execution_count": 27,
     "metadata": {},
     "output_type": "execute_result"
    }
   ],
   "source": [
    "await salobj.set_summary_state(r2, salobj.State.STANDBY, settingsToApply=\"test.yaml\")"
   ]
  },
  {
   "cell_type": "code",
   "execution_count": 23,
   "metadata": {},
   "outputs": [],
   "source": [
    "def print_log_callback(data):\n",
    "    print(data.message)\n",
    "\n",
    "def print_summary_state(data):\n",
    "    print(f\"{salobj.State(data.summaryState)!r}\")"
   ]
  },
  {
   "cell_type": "code",
   "execution_count": 29,
   "metadata": {},
   "outputs": [],
   "source": [
    "r2.evt_logMessage.callback = print_log_callback\n",
    "r2.evt_summaryState.callback = print_summary_state"
   ]
  },
  {
   "cell_type": "code",
   "execution_count": 30,
   "metadata": {},
   "outputs": [
    {
     "data": {
      "text/plain": [
       "<ddsutil.Scheduler_ackcmd_9cb10ef6 at 0x7fe5c5a6e850>"
      ]
     },
     "execution_count": 30,
     "metadata": {},
     "output_type": "execute_result"
    },
    {
     "name": "stdout",
     "output_type": "stream",
     "text": [
      "Checking 1 scheduled targets\n",
      "Queue state: [Running:True][Executing:True][Empty:True]\n",
      "Getting queue.\n",
      "No state from queue. Requesting...\n",
      "Checking 1 scheduled targets\n",
      "Queue state: [Running:True][Executing:True][Empty:True]\n",
      "Getting queue.\n",
      "No state from queue. Requesting...\n",
      "Checking 1 scheduled targets\n",
      "Queue state: [Running:True][Executing:True][Empty:True]\n",
      "Getting queue.\n",
      "No state from queue. Requesting...\n",
      "Checking 1 scheduled targets\n",
      "Queue state: [Running:True][Executing:True][Empty:True]\n",
      "Getting queue.\n",
      "No state from queue. Requesting...\n",
      "Checking 1 scheduled targets\n",
      "Queue state: [Running:True][Executing:True][Empty:True]\n",
      "Getting queue.\n",
      "Checking 1 scheduled targets\n",
      "Queue ready to receive targets.\n",
      "Updating telemetry stream.\n",
      "Putting target 2 on the queue.\n",
      "Getting queue.\n",
      "Checking 1 scheduled targets\n",
      "Queue state: [Running:True][Executing:True][Empty:True]\n",
      "Getting queue.\n",
      "Checking 1 scheduled targets\n",
      "Queue state: [Running:False][Executing:True][Empty:True]\n",
      "Getting queue.\n",
      "No state from queue. Requesting...\n",
      "No scheduled targets to check.\n",
      "Queue state: [Running:False][Executing:True][Empty:True]\n",
      "Getting queue.\n",
      "No scheduled targets to check.\n",
      "Queue state: [Running:False][Executing:True][Empty:True]\n",
      "Getting queue.\n",
      "No scheduled targets to check.\n",
      "Queue state: [Running:False][Executing:True][Empty:True]\n",
      "Getting queue.\n",
      "No scheduled targets to check.\n",
      "Queue state: [Running:False][Executing:True][Empty:True]\n",
      "Getting queue.\n",
      "No scheduled targets to check.\n",
      "Queue state: [Running:False][Executing:True][Empty:True]\n",
      "Getting queue.\n",
      "No scheduled targets to check.\n",
      "Queue state: [Running:False][Executing:True][Empty:True]\n",
      "Getting queue.\n",
      "No scheduled targets to check.\n",
      "Queue state: [Running:False][Executing:True][Empty:True]\n",
      "Getting queue.\n",
      "No scheduled targets to check.\n",
      "Queue state: [Running:False][Executing:True][Empty:True]\n",
      "Getting queue.\n",
      "No scheduled targets to check.\n",
      "Queue state: [Running:False][Executing:True][Empty:True]\n",
      "Getting queue.\n",
      "No scheduled targets to check.\n",
      "Queue state: [Running:False][Executing:True][Empty:True]\n",
      "Getting queue.\n",
      "No scheduled targets to check.\n",
      "Queue state: [Running:False][Executing:True][Empty:True]\n",
      "Getting queue.\n",
      "No scheduled targets to check.\n",
      "Queue state: [Running:False][Executing:True][Empty:True]\n",
      "Getting queue.\n",
      "No scheduled targets to check.\n",
      "Queue state: [Running:False][Executing:True][Empty:True]\n",
      "Getting queue.\n",
      "No scheduled targets to check.\n",
      "Queue state: [Running:False][Executing:True][Empty:True]\n",
      "Getting queue.\n",
      "No scheduled targets to check.\n",
      "Queue state: [Running:False][Executing:True][Empty:True]\n",
      "Getting queue.\n",
      "No scheduled targets to check.\n",
      "Queue state: [Running:False][Executing:True][Empty:True]\n",
      "Getting queue.\n",
      "No scheduled targets to check.\n",
      "Queue state: [Running:False][Executing:True][Empty:True]\n",
      "Getting queue.\n",
      "No scheduled targets to check.\n",
      "Queue state: [Running:False][Executing:True][Empty:True]\n",
      "Getting queue.\n",
      "No scheduled targets to check.\n",
      "Queue state: [Running:False][Executing:True][Empty:True]\n",
      "Getting queue.\n",
      "No scheduled targets to check.\n",
      "Queue state: [Running:False][Executing:True][Empty:True]\n",
      "Getting queue.\n",
      "No scheduled targets to check.\n",
      "Queue state: [Running:False][Executing:True][Empty:True]\n",
      "Getting queue.\n",
      "No scheduled targets to check.\n",
      "Queue state: [Running:False][Executing:True][Empty:True]\n",
      "Getting queue.\n",
      "No scheduled targets to check.\n",
      "Queue state: [Running:False][Executing:True][Empty:True]\n",
      "Getting queue.\n",
      "No scheduled targets to check.\n",
      "Queue state: [Running:False][Executing:True][Empty:True]\n",
      "Getting queue.\n",
      "No scheduled targets to check.\n",
      "Queue state: [Running:False][Executing:True][Empty:True]\n",
      "Getting queue.\n",
      "No scheduled targets to check.\n",
      "Queue state: [Running:False][Executing:True][Empty:True]\n",
      "Getting queue.\n",
      "No scheduled targets to check.\n",
      "Queue state: [Running:False][Executing:True][Empty:True]\n",
      "Getting queue.\n",
      "No scheduled targets to check.\n",
      "Queue state: [Running:False][Executing:True][Empty:True]\n",
      "Getting queue.\n",
      "No scheduled targets to check.\n",
      "Queue state: [Running:False][Executing:True][Empty:True]\n",
      "Getting queue.\n",
      "No scheduled targets to check.\n",
      "Queue state: [Running:False][Executing:True][Empty:True]\n",
      "Getting queue.\n",
      "No scheduled targets to check.\n",
      "Queue state: [Running:False][Executing:True][Empty:True]\n",
      "Getting queue.\n",
      "No scheduled targets to check.\n",
      "Queue state: [Running:False][Executing:True][Empty:True]\n",
      "Getting queue.\n",
      "No scheduled targets to check.\n",
      "Queue state: [Running:False][Executing:True][Empty:True]\n",
      "Getting queue.\n",
      "No scheduled targets to check.\n",
      "Queue state: [Running:False][Executing:True][Empty:True]\n",
      "Getting queue.\n",
      "No scheduled targets to check.\n",
      "Queue state: [Running:False][Executing:True][Empty:True]\n",
      "Getting queue.\n",
      "No scheduled targets to check.\n",
      "Queue state: [Running:False][Executing:True][Empty:True]\n",
      "Getting queue.\n",
      "No scheduled targets to check.\n",
      "Queue state: [Running:False][Executing:True][Empty:True]\n",
      "Getting queue.\n",
      "No scheduled targets to check.\n",
      "Queue state: [Running:False][Executing:True][Empty:True]\n",
      "Getting queue.\n",
      "No scheduled targets to check.\n",
      "Queue state: [Running:False][Executing:True][Empty:True]\n",
      "Getting queue.\n",
      "No scheduled targets to check.\n",
      "Queue state: [Running:False][Executing:True][Empty:True]\n",
      "Getting queue.\n",
      "No scheduled targets to check.\n",
      "Queue state: [Running:False][Executing:True][Empty:True]\n",
      "Getting queue.\n",
      "No scheduled targets to check.\n",
      "Queue state: [Running:False][Executing:True][Empty:True]\n",
      "Getting queue.\n",
      "No scheduled targets to check.\n",
      "Queue state: [Running:False][Executing:True][Empty:True]\n",
      "Getting queue.\n",
      "No scheduled targets to check.\n",
      "Queue state: [Running:False][Executing:True][Empty:True]\n",
      "Getting queue.\n",
      "No scheduled targets to check.\n",
      "Queue state: [Running:False][Executing:True][Empty:True]\n",
      "Getting queue.\n",
      "No scheduled targets to check.\n",
      "Queue state: [Running:False][Executing:True][Empty:True]\n",
      "Getting queue.\n",
      "No scheduled targets to check.\n",
      "Queue state: [Running:False][Executing:True][Empty:True]\n",
      "Getting queue.\n",
      "No scheduled targets to check.\n",
      "Queue state: [Running:False][Executing:True][Empty:True]\n",
      "Getting queue.\n",
      "No scheduled targets to check.\n",
      "Queue state: [Running:False][Executing:True][Empty:True]\n",
      "Getting queue.\n",
      "No scheduled targets to check.\n",
      "Queue state: [Running:False][Executing:True][Empty:True]\n",
      "Getting queue.\n",
      "No scheduled targets to check.\n",
      "Queue state: [Running:False][Executing:True][Empty:True]\n",
      "Getting queue.\n",
      "No scheduled targets to check.\n",
      "Queue state: [Running:False][Executing:True][Empty:True]\n",
      "Getting queue.\n",
      "No scheduled targets to check.\n",
      "Queue state: [Running:False][Executing:True][Empty:True]\n",
      "Getting queue.\n",
      "No scheduled targets to check.\n",
      "Queue state: [Running:False][Executing:True][Empty:True]\n",
      "Getting queue.\n",
      "No scheduled targets to check.\n",
      "Queue state: [Running:False][Executing:True][Empty:True]\n",
      "Getting queue.\n",
      "No scheduled targets to check.\n",
      "Queue state: [Running:False][Executing:True][Empty:True]\n",
      "Getting queue.\n",
      "No scheduled targets to check.\n",
      "Queue state: [Running:False][Executing:True][Empty:True]\n",
      "Getting queue.\n",
      "No scheduled targets to check.\n",
      "Queue state: [Running:False][Executing:True][Empty:True]\n",
      "Getting queue.\n",
      "No scheduled targets to check.\n",
      "Queue ready to receive targets.\n",
      "Updating telemetry stream.\n",
      "Putting target 3 on the queue.\n",
      "Getting queue.\n",
      "Checking 1 scheduled targets\n",
      "Queue state: [Running:True][Executing:False][Empty:False]\n",
      "Getting queue.\n",
      "Checking 1 scheduled targets\n",
      "Queue state: [Running:True][Executing:True][Empty:True]\n",
      "Getting queue.\n",
      "Checking 1 scheduled targets\n",
      "Queue state: [Running:False][Executing:True][Empty:True]\n",
      "Getting queue.\n",
      "No state from queue. Requesting...\n",
      "No scheduled targets to check.\n",
      "Queue state: [Running:False][Executing:True][Empty:True]\n",
      "Getting queue.\n",
      "No scheduled targets to check.\n",
      "Queue state: [Running:False][Executing:True][Empty:True]\n",
      "Getting queue.\n",
      "No scheduled targets to check.\n",
      "Queue state: [Running:False][Executing:True][Empty:True]\n",
      "Getting queue.\n",
      "No scheduled targets to check.\n",
      "Queue state: [Running:False][Executing:True][Empty:True]\n",
      "Getting queue.\n",
      "No scheduled targets to check.\n",
      "Queue state: [Running:False][Executing:True][Empty:True]\n",
      "Getting queue.\n",
      "No scheduled targets to check.\n",
      "Queue state: [Running:False][Executing:True][Empty:True]\n",
      "Getting queue.\n",
      "No scheduled targets to check.\n",
      "Queue state: [Running:False][Executing:True][Empty:True]\n",
      "Getting queue.\n",
      "No scheduled targets to check.\n",
      "Queue state: [Running:False][Executing:True][Empty:True]\n",
      "Getting queue.\n",
      "No scheduled targets to check.\n",
      "Queue state: [Running:False][Executing:True][Empty:True]\n",
      "Getting queue.\n",
      "No scheduled targets to check.\n",
      "Queue state: [Running:False][Executing:True][Empty:True]\n",
      "Getting queue.\n",
      "No scheduled targets to check.\n",
      "Queue state: [Running:False][Executing:True][Empty:True]\n",
      "Getting queue.\n",
      "No scheduled targets to check.\n",
      "Queue state: [Running:False][Executing:True][Empty:True]\n",
      "Getting queue.\n",
      "No scheduled targets to check.\n",
      "Queue state: [Running:False][Executing:True][Empty:True]\n",
      "Getting queue.\n",
      "No scheduled targets to check.\n",
      "Queue state: [Running:False][Executing:True][Empty:True]\n",
      "Getting queue.\n",
      "No scheduled targets to check.\n",
      "Queue state: [Running:False][Executing:True][Empty:True]\n",
      "Getting queue.\n",
      "No scheduled targets to check.\n",
      "Queue state: [Running:False][Executing:True][Empty:True]\n",
      "Getting queue.\n",
      "No scheduled targets to check.\n",
      "Queue state: [Running:False][Executing:True][Empty:True]\n",
      "Getting queue.\n",
      "No scheduled targets to check.\n",
      "Queue state: [Running:False][Executing:True][Empty:True]\n",
      "Getting queue.\n",
      "No scheduled targets to check.\n",
      "Queue state: [Running:False][Executing:True][Empty:True]\n",
      "Getting queue.\n",
      "No scheduled targets to check.\n",
      "Queue state: [Running:False][Executing:True][Empty:True]\n",
      "Getting queue.\n",
      "No scheduled targets to check.\n",
      "Queue state: [Running:False][Executing:True][Empty:True]\n",
      "Getting queue.\n",
      "No scheduled targets to check.\n",
      "Queue state: [Running:False][Executing:True][Empty:True]\n",
      "Getting queue.\n",
      "No scheduled targets to check.\n",
      "Queue ready to receive targets.\n",
      "<State.FAULT: 3>\n",
      "Updating telemetry stream.\n",
      "list index out of range\n"
     ]
    }
   ],
   "source": [
    "await r2.cmd_setLogLevel.set_start(level=10)"
   ]
  },
  {
   "cell_type": "code",
   "execution_count": null,
   "metadata": {},
   "outputs": [],
   "source": [
    "await salobj.set_summary_state(r2, salobj.State.STANDBY, settingsToApply=\"test.yaml\")"
   ]
  },
  {
   "cell_type": "code",
   "execution_count": null,
   "metadata": {},
   "outputs": [],
   "source": [
    "print()"
   ]
  },
  {
   "cell_type": "code",
   "execution_count": null,
   "metadata": {},
   "outputs": [],
   "source": [
    "r2.evt_summaryState.callback = None\n",
    "await salobj.set_summary_state(r2, salobj.State.STANDBY, settingsToApply=\"test.yaml\")"
   ]
  },
  {
   "cell_type": "code",
   "execution_count": null,
   "metadata": {},
   "outputs": [],
   "source": [
    "r2.evt_logMessage.callback = print_log_callback\n",
    "r2.evt_summaryState.callback = None\n",
    "await salobj.set_summary_state(r2, salobj.State.ENABLED, settingsToApply=\"test.yaml\")\n",
    "r2.evt_summaryState.callback = print_summary_state"
   ]
  },
  {
   "cell_type": "code",
   "execution_count": null,
   "metadata": {},
   "outputs": [],
   "source": [
    "await r.cmd_add.set_start(isStandard=False,\n",
    "                          path=\"auxtel/prepare_for_flats.py\", \n",
    "                          config=configuration,\n",
    "                          logLevel=10, \n",
    "                          location=ScriptQueue.Location.LAST)"
   ]
  },
  {
   "cell_type": "code",
   "execution_count": null,
   "metadata": {},
   "outputs": [],
   "source": []
  }
 ],
 "metadata": {
  "kernelspec": {
   "display_name": "LSST",
   "language": "python",
   "name": "lsst"
  },
  "language_info": {
   "codemirror_mode": {
    "name": "ipython",
    "version": 3
   },
   "file_extension": ".py",
   "mimetype": "text/x-python",
   "name": "python",
   "nbconvert_exporter": "python",
   "pygments_lexer": "ipython3",
   "version": "3.7.6"
  }
 },
 "nbformat": 4,
 "nbformat_minor": 4
}
