{
 "cells": [
  {
   "cell_type": "code",
   "execution_count": 1,
   "metadata": {},
   "outputs": [],
   "source": [
    "import sys\n",
    "import asyncio\n",
    "import logging\n",
    "\n",
    "import numpy as np\n",
    "\n",
    "from lsst.ts import salobj\n",
    "\n",
    "\n",
    "from lsst.ts.standardscripts.auxtel.attcs import ATTCS\n",
    "from lsst.ts.standardscripts.auxtel.latiss import LATISS"
   ]
  },
  {
   "cell_type": "code",
   "execution_count": 2,
   "metadata": {},
   "outputs": [],
   "source": [
    "stream_handler = logging.StreamHandler(sys.stdout)\n",
    "\n",
    "logger = logging.getLogger()\n",
    "logger.addHandler(stream_handler)\n",
    "logger.level = logging.DEBUG"
   ]
  },
  {
   "cell_type": "code",
   "execution_count": 3,
   "metadata": {},
   "outputs": [],
   "source": [
    "attcs = ATTCS()\n",
    "latiss = LATISS(attcs.domain)"
   ]
  },
  {
   "cell_type": "code",
   "execution_count": 4,
   "metadata": {},
   "outputs": [
    {
     "name": "stdout",
     "output_type": "stream",
     "text": [
      "Read historical data in 3.12 sec\n",
      "Read historical data in 3.22 sec\n",
      "Read historical data in 3.31 sec\n",
      "Read historical data in 3.38 sec\n",
      "Read historical data in 3.66 sec\n",
      "Read historical data in 4.09 sec\n",
      "Read historical data in 4.16 sec\n",
      "Read historical data in 4.80 sec\n",
      "Read historical data in 4.87 sec\n",
      "Read historical data in 5.07 sec\n",
      "Read historical data in 5.65 sec\n",
      "RemoteTelemetry(ATDome, 0, position) falling behind; read 18 messages\n"
     ]
    },
    {
     "data": {
      "text/plain": [
       "[[None, None, None, None, None, None, None], [None, None, None, None]]"
      ]
     },
     "execution_count": 4,
     "metadata": {},
     "output_type": "execute_result"
    },
    {
     "name": "stdout",
     "output_type": "stream",
     "text": [
      "RemoteTelemetry(ATPtg, 0, timeAndDate) falling behind; read 10 messages\n",
      "RemoteEvent(ATDome, 0, doorEncoderExtremes) falling behind; read 19 messages\n",
      "RemoteTelemetry(ATPtg, 0, mountStatus) falling behind; read 11 messages\n",
      "RemoteTelemetry(ATPtg, 0, guidingAndOffsets) falling behind; read 12 messages\n",
      "RemoteTelemetry(ATPtg, 0, currentTargetStatus) falling behind; read 13 messages\n"
     ]
    }
   ],
   "source": [
    "await asyncio.gather(attcs.start_task, latiss.start_task)"
   ]
  },
  {
   "cell_type": "code",
   "execution_count": null,
   "metadata": {},
   "outputs": [],
   "source": [
    "await attcs.enable()"
   ]
  },
  {
   "cell_type": "code",
   "execution_count": null,
   "metadata": {},
   "outputs": [],
   "source": [
    "await latiss.enable()"
   ]
  },
  {
   "cell_type": "code",
   "execution_count": 5,
   "metadata": {},
   "outputs": [
    {
     "name": "stdout",
     "output_type": "stream",
     "text": [
      "Cover state <MirrorCoverState.OPENED: 7>\n",
      "M1 cover already opened.\n",
      "Sending command\n",
      "Stop tracking.\n",
      "Mount tracking state is 8\n",
      "In Position: False.\n",
      "Scheduling check coroutines\n",
      "process as completed...\n",
      "Got False\n",
      "Telescope not in position\n",
      "atmcs: <State.ENABLED: 2>\n",
      "atptg: <State.ENABLED: 2>\n",
      "ataos: <State.ENABLED: 2>\n",
      "atpneumatics: <State.ENABLED: 2>\n",
      "athexapod: <State.ENABLED: 2>\n",
      "[Telescope] delta Alt = -031.278 | delta Az= +025.875\n",
      "[Telescope] delta Alt = -030.358 | delta Az= +025.381\n",
      "[Telescope] delta Alt = -028.379 | delta Az= +024.009\n",
      "[Telescope] delta Alt = -025.522 | delta Az= +021.640\n",
      "[Telescope] delta Alt = -022.020 | delta Az= +018.403\n",
      "[Telescope] delta Alt = -018.135 | delta Az= +014.596\n",
      "[Telescope] delta Alt = -014.151 | delta Az= +010.619\n",
      "[Telescope] delta Alt = -010.336 | delta Az= +006.891\n",
      "[Telescope] delta Alt = -006.932 | delta Az= +003.794\n",
      "[Telescope] delta Alt = -005.447 | delta Az= +002.572\n",
      "[Telescope] delta Alt = -003.009 | delta Az= +000.876\n",
      "[Telescope] delta Alt = -001.326 | delta Az= +000.125\n",
      "[Telescope] delta Alt = -000.378 | delta Az= +000.000\n",
      "[Telescope] delta Alt = -000.034 | delta Az= -000.000\n",
      "[Telescope] delta Alt = +000.000 | delta Az= -000.000\n",
      "Axes in position.\n",
      "None\n",
      "Stop tracking.\n",
      "Mount tracking state is 9\n",
      "Tracking state: 10.\n",
      "Tracking state: 8.\n",
      "In Position: False.\n",
      "atdometrajectory: <State.DISABLED: 1>\n",
      "[Dome] delta Az = -080.250\n",
      "[Dome] delta Az = -080.130\n",
      "[Dome] delta Az = -079.760\n",
      "[Dome] delta Az = -079.160\n",
      "[Dome] delta Az = -078.330\n",
      "[Dome] delta Az = -077.250\n",
      "[Dome] delta Az = -075.930\n",
      "[Dome] delta Az = -074.390\n",
      "[Dome] delta Az = -072.610\n",
      "[Dome] delta Az = -070.580\n",
      "[Dome] delta Az = -068.330\n",
      "[Dome] delta Az = -065.830\n",
      "[Dome] delta Az = -063.100\n",
      "[Dome] delta Az = -060.140\n",
      "[Dome] delta Az = -056.980\n",
      "[Dome] delta Az = -053.540\n",
      "[Dome] delta Az = -050.080\n",
      "[Dome] delta Az = -046.590\n",
      "[Dome] delta Az = -043.090\n",
      "[Dome] delta Az = -039.620\n",
      "[Dome] delta Az = -036.150\n",
      "[Dome] delta Az = -032.640\n",
      "[Dome] delta Az = -029.170\n",
      "[Dome] delta Az = -025.710\n",
      "[Dome] delta Az = -022.230\n",
      "[Dome] delta Az = -018.780\n",
      "[Dome] delta Az = -015.270\n",
      "[Dome] delta Az = -011.790\n",
      "[Dome] delta Az = -008.330\n",
      "[Dome] delta Az = -004.850\n",
      "ATDome in position.\n"
     ]
    }
   ],
   "source": [
    "await attcs.prepare_for_flatfield()"
   ]
  },
  {
   "cell_type": "code",
   "execution_count": 6,
   "metadata": {},
   "outputs": [],
   "source": [
    "time = await attcs.atptg.tel_timeAndDate.aget()"
   ]
  },
  {
   "cell_type": "code",
   "execution_count": 7,
   "metadata": {},
   "outputs": [
    {
     "name": "stdout",
     "output_type": "stream",
     "text": [
      "Sending command\n",
      "Stop tracking.\n",
      "Mount tracking state is 8\n",
      "In Position: False.\n",
      "RemoteTelemetry(ATPtg, 0, currentTargetStatus) falling behind; read 10 messages\n",
      "RemoteTelemetry(ATPtg, 0, mountStatus) falling behind; read 10 messages\n",
      "RemoteTelemetry(ATPtg, 0, guidingAndOffsets) falling behind; read 10 messages\n",
      "RemoteEvent(ATDome, 0, doorEncoderExtremes) falling behind; read 10 messages\n",
      "Scheduling check coroutines\n",
      "process as completed...\n",
      "Got False\n",
      "Telescope not in position\n",
      "atmcs: <State.ENABLED: 2>\n",
      "atptg: <State.ENABLED: 2>\n",
      "ataos: <State.ENABLED: 2>\n",
      "atpneumatics: <State.ENABLED: 2>\n",
      "athexapod: <State.ENABLED: 2>\n",
      "atdome: <State.ENABLED: 2>\n",
      "atdometrajectory: <State.ENABLED: 2>\n",
      "[Telescope] delta Alt = +031.307 | delta Az= -026.067 [Dome] delta Az = +162.641\n",
      "[Telescope] delta Alt = +030.419 | delta Az= -025.851 [Dome] delta Az = +162.001\n",
      "[Telescope] delta Alt = +028.344 | delta Az= -024.915 [Dome] delta Az = +160.391\n",
      "[Telescope] delta Alt = +025.357 | delta Az= -023.012 [Dome] delta Az = +157.821\n",
      "[Telescope] delta Alt = +021.754 | delta Az= -020.160 [Dome] delta Az = +154.321\n",
      "[Telescope] delta Alt = +017.831 | delta Az= -016.578 [Dome] delta Az = +150.361\n",
      "[Telescope] delta Alt = +013.869 | delta Az= -012.622 [Dome] delta Az = +145.061\n",
      "[Telescope] delta Alt = +010.128 | delta Az= -008.709 [Dome] delta Az = +139.511\n",
      "[Telescope] delta Alt = +006.823 | delta Az= -005.252 [Dome] delta Az = +131.951\n",
      "[Telescope] delta Alt = +004.122 | delta Az= -002.579 [Dome] delta Az = +125.701\n",
      "[Telescope] delta Alt = +002.116 | delta Az= -000.882 [Dome] delta Az = +118.711\n",
      "[Telescope] delta Alt = +000.827 | delta Az= -000.129 [Dome] delta Az = +111.761\n",
      "[Telescope] delta Alt = +000.186 | delta Az= -000.003 [Dome] delta Az = +105.521\n",
      "[Telescope] delta Alt = +000.006 | delta Az= -000.005 [Dome] delta Az = +098.551\n",
      "[Telescope] delta Alt = -000.000 | delta Az= -000.005 [Dome] delta Az = +091.581\n",
      "[Telescope] delta Alt = -000.000 | delta Az= -000.005 [Dome] delta Az = +084.591\n",
      "[Telescope] delta Alt = -000.000 | delta Az= -000.004 [Dome] delta Az = +078.341\n",
      "Got True\n",
      "Waiting for telescope to settle.\n",
      "[Telescope] delta Alt = -000.000 | delta Az= -000.005 [Dome] delta Az = +071.411\n",
      "[Telescope] delta Alt = +000.000 | delta Az= -000.005 [Dome] delta Az = +064.441\n",
      "Telescope in position.\n",
      "[Telescope] delta Alt = +000.000 | delta Az= -000.004 [Dome] delta Az = +058.151\n",
      "[Telescope] delta Alt = -000.000 | delta Az= -000.006 [Dome] delta Az = +051.201\n",
      "[Telescope] delta Alt = -000.000 | delta Az= -000.005 [Dome] delta Az = +044.221\n",
      "[Telescope] delta Alt = -000.000 | delta Az= -000.005 [Dome] delta Az = +037.261\n",
      "[Telescope] delta Alt = -000.000 | delta Az= -000.004 [Dome] delta Az = +031.011\n",
      "[Telescope] delta Alt = +000.000 | delta Az= -000.006 [Dome] delta Az = +024.011\n",
      "[Telescope] delta Alt = -000.000 | delta Az= -000.005 [Dome] delta Az = +017.041\n",
      "[Telescope] delta Alt = +000.000 | delta Az= -000.004 [Dome] delta Az = +010.071\n",
      "[Telescope] delta Alt = -000.000 | delta Az= -000.004 [Dome] delta Az = +003.801\n",
      "ATDome in position.\n",
      "['Telescope in position.', 'ATDome in position.']\n"
     ]
    }
   ],
   "source": [
    "await attcs.slew_icrs(ra=time.lst, dec=-50., slew_timeout=120)"
   ]
  },
  {
   "cell_type": "code",
   "execution_count": null,
   "metadata": {},
   "outputs": [],
   "source": [
    "await attcs.stop_tracking()"
   ]
  },
  {
   "cell_type": "code",
   "execution_count": null,
   "metadata": {},
   "outputs": [],
   "source": [
    "await salobj.set_summary_state(attcs.atdometrajectory, salobj.State.STANDBY)"
   ]
  },
  {
   "cell_type": "code",
   "execution_count": null,
   "metadata": {},
   "outputs": [],
   "source": [
    "attcs.dome_az_in_position.clear()\n",
    "await attcs.slew_dome_to(100.)"
   ]
  },
  {
   "cell_type": "code",
   "execution_count": 8,
   "metadata": {},
   "outputs": [
    {
     "name": "stdout",
     "output_type": "stream",
     "text": [
      "Disabling ATAOS corrections\n",
      "Disable ATDomeTrajectory\n",
      "Slew telescope to Park position.\n",
      "Sending command\n",
      "Stop tracking.\n",
      "Mount tracking state is 9\n",
      "Tracking state: 10.\n",
      "Tracking state: 8.\n",
      "In Position: True.\n",
      "In Position: False.\n",
      "Scheduling check coroutines\n",
      "process as completed...\n",
      "Got False\n",
      "Telescope not in position\n",
      "atmcs: <State.ENABLED: 2>\n",
      "atptg: <State.ENABLED: 2>\n",
      "ataos: <State.ENABLED: 2>\n",
      "atpneumatics: <State.ENABLED: 2>\n",
      "athexapod: <State.ENABLED: 2>\n",
      "[Telescope] delta Alt = +009.791 | delta Az= +173.409\n",
      "[Telescope] delta Alt = +008.105 | delta Az= +176.534\n",
      "[Telescope] delta Alt = +006.398 | delta Az= +178.531\n",
      "[Telescope] delta Alt = +004.426 | delta Az= -179.468\n",
      "[Telescope] delta Alt = +001.090 | delta Az= -175.469\n",
      "[Telescope] delta Alt = +000.005 | delta Az= -171.468\n",
      "[Telescope] delta Alt = -000.000 | delta Az= -167.467\n",
      "[Telescope] delta Alt = -000.000 | delta Az= -165.468\n",
      "[Telescope] delta Alt = +000.000 | delta Az= -161.468\n",
      "[Telescope] delta Alt = +000.000 | delta Az= -157.467\n",
      "[Telescope] delta Alt = +000.000 | delta Az= -155.468\n",
      "[Telescope] delta Alt = +000.000 | delta Az= -151.468\n",
      "[Telescope] delta Alt = +000.000 | delta Az= -147.468\n",
      "[Telescope] delta Alt = +000.000 | delta Az= -143.467\n",
      "[Telescope] delta Alt = -000.000 | delta Az= -139.468\n",
      "[Telescope] delta Alt = +000.000 | delta Az= -135.468\n",
      "[Telescope] delta Alt = -000.000 | delta Az= -131.468\n",
      "[Telescope] delta Alt = +000.000 | delta Az= -127.468\n",
      "[Telescope] delta Alt = -000.000 | delta Az= -123.468\n",
      "[Telescope] delta Alt = +000.000 | delta Az= -119.470\n",
      "[Telescope] delta Alt = -000.000 | delta Az= -115.468\n",
      "[Telescope] delta Alt = -000.000 | delta Az= -111.467\n",
      "[Telescope] delta Alt = +000.000 | delta Az= -107.468\n",
      "[Telescope] delta Alt = +000.000 | delta Az= -105.468\n",
      "[Telescope] delta Alt = +000.000 | delta Az= -101.468\n",
      "[Telescope] delta Alt = -000.000 | delta Az= -097.469\n",
      "[Telescope] delta Alt = +000.000 | delta Az= -093.468\n",
      "[Telescope] delta Alt = -000.000 | delta Az= -089.467\n",
      "[Telescope] delta Alt = +000.000 | delta Az= -087.468\n",
      "[Telescope] delta Alt = -000.000 | delta Az= -083.469\n",
      "[Telescope] delta Alt = -000.000 | delta Az= -079.467\n",
      "[Telescope] delta Alt = -000.000 | delta Az= -075.468\n",
      "[Telescope] delta Alt = -000.000 | delta Az= -071.468\n",
      "[Telescope] delta Alt = -000.000 | delta Az= -067.467\n",
      "[Telescope] delta Alt = +000.000 | delta Az= -063.470\n",
      "[Telescope] delta Alt = -000.000 | delta Az= -059.468\n",
      "[Telescope] delta Alt = -000.000 | delta Az= -055.467\n",
      "[Telescope] delta Alt = +000.000 | delta Az= -051.468\n",
      "[Telescope] delta Alt = -000.000 | delta Az= -047.469\n",
      "[Telescope] delta Alt = +000.000 | delta Az= -043.468\n",
      "[Telescope] delta Alt = +000.000 | delta Az= -039.468\n",
      "[Telescope] delta Alt = -000.000 | delta Az= -035.468\n",
      "[Telescope] delta Alt = -000.000 | delta Az= -031.468\n",
      "[Telescope] delta Alt = -000.000 | delta Az= -027.472\n",
      "[Telescope] delta Alt = +000.000 | delta Az= -025.484\n",
      "[Telescope] delta Alt = +000.000 | delta Az= -021.549\n",
      "[Telescope] delta Alt = -000.000 | delta Az= -017.737\n",
      "[Telescope] delta Alt = +000.000 | delta Az= -014.121\n",
      "[Telescope] delta Alt = -000.000 | delta Az= -010.788\n",
      "[Telescope] delta Alt = +000.000 | delta Az= -007.824\n",
      "[Telescope] delta Alt = +000.000 | delta Az= -005.301\n",
      "[Telescope] delta Alt = +000.000 | delta Az= -003.271\n",
      "[Telescope] delta Alt = +000.000 | delta Az= -002.451\n",
      "[Telescope] delta Alt = +000.000 | delta Az= -001.200\n",
      "[Telescope] delta Alt = +000.000 | delta Az= -000.438\n",
      "[Telescope] delta Alt = +000.000 | delta Az= -000.085\n",
      "[Telescope] delta Alt = +000.000 | delta Az= -000.001\n",
      "Axes in position.\n",
      "None\n",
      "Stop tracking.\n",
      "Mount tracking state is 9\n",
      "Tracking state: 10.\n",
      "Tracking state: 8.\n",
      "In Position: False.\n",
      "Cover state <MirrorCoverState.OPENED: 7>\n",
      "Closing M1 cover.\n",
      "Cover state <MirrorCoverState.OPENED: 7>\n",
      "Cover state <MirrorCoverState.INMOTION: 8>\n",
      "Cover state <MirrorCoverState.CLOSED: 6>\n",
      "Close dome.\n",
      "ATDome Shutter Door is already closed. Ignoring.\n",
      "Slew dome to Park position.\n",
      "atdometrajectory: <State.DISABLED: 1>\n",
      "[Dome] delta Az = +102.370\n",
      "[Dome] delta Az = +102.260\n",
      "[Dome] delta Az = +101.890\n",
      "[Dome] delta Az = +101.290\n",
      "[Dome] delta Az = +100.460\n",
      "[Dome] delta Az = +099.380\n",
      "[Dome] delta Az = +098.070\n",
      "[Dome] delta Az = +096.530\n",
      "[Dome] delta Az = +094.750\n",
      "[Dome] delta Az = +092.730\n",
      "[Dome] delta Az = +090.470\n",
      "[Dome] delta Az = +087.970\n",
      "[Dome] delta Az = +085.260\n",
      "[Dome] delta Az = +082.330\n",
      "[Dome] delta Az = +079.140\n",
      "[Dome] delta Az = +075.740\n",
      "[Dome] delta Az = +072.280\n",
      "[Dome] delta Az = +068.810\n",
      "[Dome] delta Az = +065.300\n",
      "[Dome] delta Az = +061.820\n",
      "[Dome] delta Az = +058.340\n",
      "[Dome] delta Az = +054.840\n",
      "[Dome] delta Az = +051.370\n",
      "[Dome] delta Az = +047.890\n",
      "[Dome] delta Az = +044.400\n",
      "[Dome] delta Az = +040.910\n",
      "[Dome] delta Az = +037.450\n",
      "[Dome] delta Az = +033.980\n",
      "[Dome] delta Az = +030.460\n",
      "[Dome] delta Az = +027.000\n",
      "[Dome] delta Az = +023.530\n",
      "[Dome] delta Az = +020.020\n",
      "[Dome] delta Az = +016.530\n",
      "[Dome] delta Az = +013.070\n",
      "[Dome] delta Az = +009.600\n",
      "[Dome] delta Az = +006.100\n",
      "[Dome] delta Az = +002.720\n",
      "ATDome in position.\n",
      "Put all CSCs in standby\n",
      "[atmcs]::[<State.ENABLED: 2>, <State.DISABLED: 1>, <State.STANDBY: 5>]\n",
      "[atptg]::[<State.ENABLED: 2>, <State.DISABLED: 1>, <State.STANDBY: 5>]\n",
      "[ataos]::[<State.ENABLED: 2>, <State.DISABLED: 1>, <State.STANDBY: 5>]\n",
      "[atpneumatics]::[<State.ENABLED: 2>, <State.DISABLED: 1>, <State.STANDBY: 5>]\n",
      "[athexapod]::[<State.ENABLED: 2>, <State.DISABLED: 1>, <State.STANDBY: 5>]\n",
      "[atdome]::[<State.ENABLED: 2>, <State.DISABLED: 1>, <State.STANDBY: 5>]\n",
      "[atdometrajectory]::[<State.DISABLED: 1>, <State.STANDBY: 5>]\n",
      "All components in standby.\n"
     ]
    }
   ],
   "source": [
    "await attcs.shutdown()"
   ]
  },
  {
   "cell_type": "code",
   "execution_count": null,
   "metadata": {},
   "outputs": [],
   "source": []
  },
  {
   "cell_type": "code",
   "execution_count": null,
   "metadata": {},
   "outputs": [],
   "source": [
    "await attcs.standby()"
   ]
  },
  {
   "cell_type": "code",
   "execution_count": null,
   "metadata": {},
   "outputs": [],
   "source": [
    "await attcs.stop_tracking()"
   ]
  },
  {
   "cell_type": "code",
   "execution_count": null,
   "metadata": {},
   "outputs": [],
   "source": [
    "await attcs.close_m1_cover()"
   ]
  },
  {
   "cell_type": "code",
   "execution_count": null,
   "metadata": {},
   "outputs": [],
   "source": [
    "await attcs.athexapod.cmd_enable.set_start()"
   ]
  },
  {
   "cell_type": "code",
   "execution_count": null,
   "metadata": {},
   "outputs": [],
   "source": [
    "await attcs.slew_dome_to(90.)"
   ]
  },
  {
   "cell_type": "code",
   "execution_count": null,
   "metadata": {},
   "outputs": [],
   "source": [
    "await attcs.slew_dome_to"
   ]
  },
  {
   "cell_type": "code",
   "execution_count": null,
   "metadata": {},
   "outputs": [],
   "source": [
    "await salobj.set_summary_state(attcs.atdome, \n",
    "                               salobj.State.ENABLED, \n",
    "                               settingsToApply='test')"
   ]
  },
  {
   "cell_type": "code",
   "execution_count": null,
   "metadata": {},
   "outputs": [],
   "source": [
    "await attcs.standby"
   ]
  },
  {
   "cell_type": "code",
   "execution_count": null,
   "metadata": {},
   "outputs": [],
   "source": [
    "await attcs.atdome.cmd_homeAzimuth.start()"
   ]
  },
  {
   "cell_type": "code",
   "execution_count": null,
   "metadata": {},
   "outputs": [],
   "source": [
    "await salobj.set_summary_state(attcs.atdome, salobj.State.OFFLINE)"
   ]
  },
  {
   "cell_type": "code",
   "execution_count": null,
   "metadata": {},
   "outputs": [],
   "source": []
  }
 ],
 "metadata": {
  "kernelspec": {
   "display_name": "Python 3",
   "language": "python",
   "name": "python3"
  },
  "language_info": {
   "codemirror_mode": {
    "name": "ipython",
    "version": 3
   },
   "file_extension": ".py",
   "mimetype": "text/x-python",
   "name": "python",
   "nbconvert_exporter": "python",
   "pygments_lexer": "ipython3",
   "version": "3.7.2"
  }
 },
 "nbformat": 4,
 "nbformat_minor": 4
}
