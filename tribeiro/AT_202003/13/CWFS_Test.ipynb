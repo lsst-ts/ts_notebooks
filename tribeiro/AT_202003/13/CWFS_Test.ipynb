{
 "cells": [
  {
   "cell_type": "code",
   "execution_count": 1,
   "metadata": {},
   "outputs": [],
   "source": [
    "import os\n",
    "import sys\n",
    "import asyncio\n",
    "import logging\n",
    "\n",
    "import numpy as np\n",
    "\n",
    "from lsst.ts import salobj\n",
    "\n",
    "import matplotlib.pyplot as plt\n",
    "\n",
    "from lsst.ts.externalscripts.auxtel.latiss_cwfs_align import LatissCWFSAlign"
   ]
  },
  {
   "cell_type": "code",
   "execution_count": 2,
   "metadata": {},
   "outputs": [],
   "source": [
    "os.environ[\"LSST_DDS_DOMAIN\"] = 'lsatmcs'\n",
    "os.environ[\"OSPL_URI\"] = \"file:///home/tribeiro/ospl.xml\""
   ]
  },
  {
   "cell_type": "code",
   "execution_count": 3,
   "metadata": {},
   "outputs": [],
   "source": [
    "stream_handler = logging.StreamHandler(sys.stdout)\n",
    "\n",
    "logger = logging.getLogger()\n",
    "logger.addHandler(stream_handler)\n",
    "logger.level = logging.DEBUG"
   ]
  },
  {
   "cell_type": "code",
   "execution_count": 4,
   "metadata": {},
   "outputs": [],
   "source": [
    "cwfs = LatissCWFSAlign(index=1, remotes=True)"
   ]
  },
  {
   "cell_type": "code",
   "execution_count": 5,
   "metadata": {},
   "outputs": [
    {
     "name": "stdout",
     "output_type": "stream",
     "text": [
      "Read historical data in 0.01 sec\n",
      "Read historical data in 0.32 sec\n",
      "Read historical data in 1.20 sec\n",
      "Read historical data in 1.54 sec\n",
      "Read historical data in 1.93 sec\n",
      "Read historical data in 2.83 sec\n",
      "Read historical data in 4.24 sec\n",
      "Read historical data in 5.49 sec\n",
      "Read historical data in 6.19 sec\n",
      "Read historical data in 7.74 sec\n",
      "Read historical data in 9.18 sec\n",
      "RemoteEvent(ATDomeTrajectory, 0, logMessage) falling behind; read 100 messages\n",
      "RemoteEvent(ATHexapod, 0, heartbeat) falling behind; read 13 messages\n",
      "RemoteEvent(ATDomeTrajectory, 0, heartbeat) falling behind; read 13 messages\n",
      "RemoteEvent(ATHeaderService, 0, heartbeat) falling behind; read 12 messages\n",
      "RemoteEvent(ATArchiver, 0, heartbeat) falling behind; read 11 messages\n",
      "RemoteEvent(ATAOS, 0, heartbeat) falling behind; read 11 messages\n",
      "RemoteTelemetry(ATDome, 0, position) falling behind; read 37 messages\n",
      "RemoteTelemetry(ATPtg, 0, timeAndDate) falling behind; read 19 messages\n",
      "RemoteEvent(ATAOS, 0, detailedState) falling behind; read 11 messages\n",
      "Read historical data in 0.19 sec\n",
      "RemoteTelemetry(ATHexapod, 0, positionStatus) falling behind; read 12 messages\n",
      "RemoteTelemetry(ATPneumatics, 0, m1AirPressure) falling behind; read 10 messages\n",
      "RemoteEvent(ATDome, 0, doorEncoderExtremes) falling behind; read 40 messages\n",
      "RemoteTelemetry(ATPtg, 0, mountStatus) falling behind; read 21 messages\n",
      "RemoteTelemetry(ATPneumatics, 0, loadCell) falling behind; read 10 messages\n",
      "RemoteTelemetry(ATPtg, 0, guidingAndOffsets) falling behind; read 22 messages\n",
      "RemoteEvent(ATPneumatics, 0, heartbeat) falling behind; read 11 messages\n",
      "RemoteTelemetry(ATPtg, 0, currentTargetStatus) falling behind; read 23 messages\n",
      "RemoteEvent(ATMCS, 0, target) falling behind; read 45 messages\n"
     ]
    }
   ],
   "source": [
    "await cwfs.start_task"
   ]
  },
  {
   "cell_type": "code",
   "execution_count": 6,
   "metadata": {},
   "outputs": [],
   "source": [
    "logger.level = logging.INFO"
   ]
  },
  {
   "cell_type": "code",
   "execution_count": null,
   "metadata": {},
   "outputs": [],
   "source": [
    "# await cwfs.hexapod_offset(+2*cwfs.dz)"
   ]
  },
  {
   "cell_type": "code",
   "execution_count": null,
   "metadata": {},
   "outputs": [],
   "source": [
    "# await cwfs.attcs.ataos.cmd_resetOffset.start()"
   ]
  },
  {
   "cell_type": "code",
   "execution_count": 7,
   "metadata": {},
   "outputs": [],
   "source": [
    "cwfs.filter = \"BG40\"\n",
    "cwfs.grating = \"empty_1\""
   ]
  },
  {
   "cell_type": "code",
   "execution_count": 8,
   "metadata": {},
   "outputs": [],
   "source": [
    "# cwfs.intra_visit_id = 2020031200280\n",
    "# cwfs.extra_visit_id = 2020031200281\n",
    "cwfs.dataPath = \"/project/shared/auxTel\"\n",
    "# cwfs.angle = 10.\n",
    "# print(cwfs.camera_rotation_angle)"
   ]
  },
  {
   "cell_type": "code",
   "execution_count": null,
   "metadata": {},
   "outputs": [],
   "source": [
    "cwfs.exposure_time"
   ]
  },
  {
   "cell_type": "code",
   "execution_count": null,
   "metadata": {},
   "outputs": [],
   "source": [
    "await cwfs.take_intra_extra()"
   ]
  },
  {
   "cell_type": "code",
   "execution_count": null,
   "metadata": {},
   "outputs": [],
   "source": [
    "await cwfs.attcs.ataos.cmd_offset.set_start(x=0., y=0.5, z=0.)"
   ]
  },
  {
   "cell_type": "code",
   "execution_count": null,
   "metadata": {},
   "outputs": [],
   "source": [
    "await cwfs.take_intra_extra()"
   ]
  },
  {
   "cell_type": "code",
   "execution_count": null,
   "metadata": {},
   "outputs": [],
   "source": [
    "await cwfs.attcs.ataos.cmd_offset.set_start(x=0.5, y=-0.5, z=0.)"
   ]
  },
  {
   "cell_type": "code",
   "execution_count": null,
   "metadata": {},
   "outputs": [],
   "source": [
    "await cwfs.take_intra_extra()"
   ]
  },
  {
   "cell_type": "code",
   "execution_count": null,
   "metadata": {},
   "outputs": [],
   "source": [
    "await cwfs.attcs.ataos.cmd_offset.set_start(x=-0.5, y=0., z=0.)"
   ]
  },
  {
   "cell_type": "code",
   "execution_count": null,
   "metadata": {},
   "outputs": [],
   "source": []
  },
  {
   "cell_type": "code",
   "execution_count": null,
   "metadata": {},
   "outputs": [],
   "source": [
    "cwfs.intra_visit_id = 2020031200332\n",
    "cwfs.extra_visit_id = 2020031200333"
   ]
  },
  {
   "cell_type": "code",
   "execution_count": null,
   "metadata": {},
   "outputs": [],
   "source": [
    "await cwfs.run_cwfs()"
   ]
  },
  {
   "cell_type": "code",
   "execution_count": null,
   "metadata": {},
   "outputs": [],
   "source": [
    "fig1 = plt.figure(1, figsize=(12,8))\n",
    "\n",
    "ax11 = fig1.add_subplot(121)\n",
    "\n",
    "ax11.set_title(\"defocus 0.8 - intra\")\n",
    "ax11.imshow(cwfs.I1[0].image0)\n",
    "ax11.contour(cwfs.algo.pMask) \n",
    "\n",
    "ax12 = fig1.add_subplot(122)\n",
    "\n",
    "ax12.set_title(\"defocus 0.8 - extra\")\n",
    "ax12.imshow(cwfs.I2[0].image0)\n",
    "ax12.contour(cwfs.algo.pMask) "
   ]
  },
  {
   "cell_type": "code",
   "execution_count": null,
   "metadata": {},
   "outputs": [],
   "source": [
    "cwfs.show_results()"
   ]
  },
  {
   "cell_type": "code",
   "execution_count": null,
   "metadata": {},
   "outputs": [],
   "source": [
    "cwfs.intra_visit_id = 2020031200334\n",
    "cwfs.extra_visit_id = 2020031200335"
   ]
  },
  {
   "cell_type": "code",
   "execution_count": null,
   "metadata": {},
   "outputs": [],
   "source": [
    "await cwfs.run_cwfs()"
   ]
  },
  {
   "cell_type": "code",
   "execution_count": null,
   "metadata": {},
   "outputs": [],
   "source": [
    "fig1 = plt.figure(1, figsize=(12,8))\n",
    "\n",
    "ax11 = fig1.add_subplot(121)\n",
    "\n",
    "ax11.set_title(\"defocus 0.8 - intra\")\n",
    "ax11.imshow(cwfs.I1[0].image0)\n",
    "ax11.contour(cwfs.algo.pMask) \n",
    "\n",
    "ax12 = fig1.add_subplot(122)\n",
    "\n",
    "ax12.set_title(\"defocus 0.8 - extra\")\n",
    "ax12.imshow(cwfs.I2[0].image0)\n",
    "ax12.contour(cwfs.algo.pMask) "
   ]
  },
  {
   "cell_type": "code",
   "execution_count": null,
   "metadata": {},
   "outputs": [],
   "source": [
    "cwfs.show_results()"
   ]
  },
  {
   "cell_type": "code",
   "execution_count": null,
   "metadata": {},
   "outputs": [],
   "source": []
  },
  {
   "cell_type": "code",
   "execution_count": null,
   "metadata": {},
   "outputs": [],
   "source": [
    "cwfs.intra_visit_id = 2020031200336\n",
    "cwfs.extra_visit_id = 2020031200337"
   ]
  },
  {
   "cell_type": "code",
   "execution_count": null,
   "metadata": {},
   "outputs": [],
   "source": [
    "await cwfs.run_cwfs()"
   ]
  },
  {
   "cell_type": "code",
   "execution_count": null,
   "metadata": {},
   "outputs": [],
   "source": [
    "fig1 = plt.figure(1, figsize=(12,8))\n",
    "\n",
    "ax11 = fig1.add_subplot(121)\n",
    "\n",
    "ax11.set_title(\"defocus 0.8 - intra\")\n",
    "ax11.imshow(cwfs.I1[0].image0)\n",
    "ax11.contour(cwfs.algo.pMask) \n",
    "\n",
    "ax12 = fig1.add_subplot(122)\n",
    "\n",
    "ax12.set_title(\"defocus 0.8 - extra\")\n",
    "ax12.imshow(cwfs.I2[0].image0)\n",
    "ax12.contour(cwfs.algo.pMask) "
   ]
  },
  {
   "cell_type": "code",
   "execution_count": null,
   "metadata": {},
   "outputs": [],
   "source": [
    "cwfs.show_results()"
   ]
  },
  {
   "cell_type": "code",
   "execution_count": null,
   "metadata": {},
   "outputs": [],
   "source": [
    "Hexapod offset: [-0.01498769 -0.26776201 -0.00949438]\n",
    "Hexapod offset: [0.31461651 0.14445627 0.01805235]\n",
    "Hexapod offset: [ 0.61269156 -0.53828796 -0.0012659 ]\n"
   ]
  },
  {
   "cell_type": "code",
   "execution_count": null,
   "metadata": {},
   "outputs": [],
   "source": [
    "cwfs.angle"
   ]
  },
  {
   "cell_type": "code",
   "execution_count": null,
   "metadata": {},
   "outputs": [],
   "source": []
  },
  {
   "cell_type": "code",
   "execution_count": 9,
   "metadata": {},
   "outputs": [],
   "source": [
    "cwfs.sensitivity_matrix = [[1. / 131., 0., 0.],\n",
    "                           [0., -1. / 131., 0.],\n",
    "                           [0., 0., -1. / 4200.]]\n",
    "\n"
   ]
  },
  {
   "cell_type": "code",
   "execution_count": null,
   "metadata": {},
   "outputs": [],
   "source": []
  },
  {
   "cell_type": "code",
   "execution_count": null,
   "metadata": {},
   "outputs": [],
   "source": []
  },
  {
   "cell_type": "code",
   "execution_count": null,
   "metadata": {},
   "outputs": [],
   "source": [
    "await cwfs.take_intra_extra()"
   ]
  },
  {
   "cell_type": "code",
   "execution_count": null,
   "metadata": {},
   "outputs": [],
   "source": [
    "cwfs.angle"
   ]
  },
  {
   "cell_type": "code",
   "execution_count": 10,
   "metadata": {},
   "outputs": [],
   "source": [
    "cwfs.intra_visit_id = 2020031300113\n",
    "cwfs.extra_visit_id = 2020031300114\n",
    "cwfs.angle = 140.29"
   ]
  },
  {
   "cell_type": "code",
   "execution_count": 11,
   "metadata": {},
   "outputs": [
    {
     "name": "stdout",
     "output_type": "stream",
     "text": [
      "Running cwfs in 2020031300113/2020031300114.\n"
     ]
    },
    {
     "name": "stderr",
     "output_type": "stream",
     "text": [
      "/home/tribeiro/WORK/ts_externalscripts/python/lsst/ts/externalscripts/auxtel/latiss_cwfs_align.py:295: FutureWarning: Config field doAddDistortionModel is deprecated: Camera geometry is incorporated when reading the raw files. This option no longer is used, and will be removed after v19.\n",
      "  isrConfig.doAddDistortionModel = False\n"
     ]
    },
    {
     "name": "stdout",
     "output_type": "stream",
     "text": [
      "AT_O_20200313_000113: Dark time less than exposure time. Setting dark time to the exposure time.\n",
      "RemoteEvent(ATMCS, 0, target) falling behind; read 28 messages\n",
      "RemoteEvent(ATDomeTrajectory, 0, logMessage) falling behind; read 29 messages\n",
      "RemoteEvent(ATMCS, 0, target) falling behind; read 13 messages\n",
      "RemoteEvent(ATDomeTrajectory, 0, logMessage) falling behind; read 27 messages\n",
      "RemoteEvent(ATDomeTrajectory, 0, logMessage) falling behind; read 21 messages\n",
      "RemoteEvent(ATMCS, 0, target) falling behind; read 21 messages\n"
     ]
    },
    {
     "name": "stderr",
     "output_type": "stream",
     "text": [
      "/home/tribeiro/WORK/ts_externalscripts/python/lsst/ts/externalscripts/auxtel/latiss_cwfs_align.py:295: FutureWarning: Config field doAddDistortionModel is deprecated: Camera geometry is incorporated when reading the raw files. This option no longer is used, and will be removed after v19.\n",
      "  isrConfig.doAddDistortionModel = False\n",
      "Exception ignored in: <function SqlRegistry.__del__ at 0x7f21f0197cb0>\n",
      "Traceback (most recent call last):\n",
      "  File \"/opt/lsst/software/stack/stack/miniconda3-4.7.12-984c9f7/Linux64/daf_persistence/19.0.0-2-gf01c5b1+1/python/lsst/daf/persistence/registries.py\", line 319, in __del__\n",
      "    self.conn.close()\n",
      "sqlite3.ProgrammingError: SQLite objects created in a thread can only be used in that same thread. The object was created in thread id 139776757856000 and this is thread id 139776415233792.\n",
      "Exception ignored in: <function SqlRegistry.__del__ at 0x7f21f0197cb0>\n",
      "Traceback (most recent call last):\n",
      "  File \"/opt/lsst/software/stack/stack/miniconda3-4.7.12-984c9f7/Linux64/daf_persistence/19.0.0-2-gf01c5b1+1/python/lsst/daf/persistence/registries.py\", line 319, in __del__\n",
      "    self.conn.close()\n",
      "sqlite3.ProgrammingError: SQLite objects created in a thread can only be used in that same thread. The object was created in thread id 139776757856000 and this is thread id 139776415233792.\n"
     ]
    },
    {
     "name": "stdout",
     "output_type": "stream",
     "text": [
      "AT_O_20200313_000114: Dark time less than exposure time. Setting dark time to the exposure time.\n",
      "RemoteEvent(ATDomeTrajectory, 0, logMessage) falling behind; read 28 messages\n",
      "RemoteEvent(ATMCS, 0, target) falling behind; read 29 messages\n",
      "RemoteEvent(ATDomeTrajectory, 0, logMessage) falling behind; read 10 messages\n",
      "RemoteEvent(ATMCS, 0, target) falling behind; read 29 messages\n",
      "RemoteEvent(ATDomeTrajectory, 0, logMessage) falling behind; read 23 messages\n",
      "Running source detection algorithm\n",
      "RemoteTelemetry(ATPtg, 0, mountStatus) falling behind; read 48 messages\n",
      "RemoteEvent(ATDome, 0, doorEncoderExtremes) falling behind; read 46 messages\n",
      "RemoteTelemetry(ATHexapod, 0, positionStatus) falling behind; read 11 messages\n",
      "RemoteEvent(ATAOS, 0, heartbeat) falling behind; read 12 messages\n",
      "RemoteTelemetry(ATPtg, 0, guidingAndOffsets) falling behind; read 62 messages\n",
      "RemoteEvent(ATSpectrograph, 0, heartbeat) falling behind; read 12 messages\n",
      "RemoteEvent(ATHeaderService, 0, heartbeat) falling behind; read 12 messages\n",
      "RemoteTelemetry(ATPneumatics, 0, m2AirPressure) falling behind; read 13 messages\n",
      "RemoteEvent(ATArchiver, 0, heartbeat) falling behind; read 12 messages\n",
      "RemoteTelemetry(ATMCS, 0, mount_Nasmyth_Encoders) falling behind; read 13 messages\n",
      "RemoteEvent(ATHexapod, 0, heartbeat) falling behind; read 13 messages\n",
      "RemoteEvent(ATAOS, 0, detailedState) falling behind; read 18 messages\n",
      "RemoteEvent(ATPtg, 0, mountDataWarning) falling behind; read 12 messages\n",
      "RemoteTelemetry(ATPneumatics, 0, m1AirPressure) falling behind; read 13 messages\n",
      "RemoteEvent(ATDomeTrajectory, 0, heartbeat) falling behind; read 12 messages\n",
      "RemoteTelemetry(ATMCS, 0, mount_AzEl_Encoders) falling behind; read 13 messages\n",
      "RemoteEvent(ATPtg, 0, heartbeat) falling behind; read 14 messages\n",
      "RemoteTelemetry(ATDome, 0, position) falling behind; read 59 messages\n",
      "RemoteEvent(ATPneumatics, 0, heartbeat) falling behind; read 14 messages\n",
      "RemoteTelemetry(ATMCS, 0, measuredTorque) falling behind; read 14 messages\n",
      "RemoteEvent(ATDome, 0, heartbeat) falling behind; read 13 messages\n",
      "RemoteTelemetry(ATMCS, 0, measuredMotorVelocity) falling behind; read 14 messages\n",
      "RemoteTelemetry(ATMCS, 0, azEl_mountMotorEncoders) falling behind; read 14 messages\n",
      "RemoteTelemetry(ATPtg, 0, timeAndDate) falling behind; read 66 messages\n",
      "RemoteEvent(ATMCS, 0, heartbeat) falling behind; read 15 messages\n",
      "RemoteTelemetry(ATPneumatics, 0, loadCell) falling behind; read 14 messages\n",
      "RemoteTelemetry(ATMCS, 0, trajectory) falling behind; read 14 messages\n",
      "RemoteTelemetry(ATPtg, 0, currentTargetStatus) falling behind; read 69 messages\n",
      "Running CWFS code.\n",
      "==============================\n",
      "Measured zernike coeficients: [-58.92168832212398, 10.76914785080667, 8.78865564945301]\n",
      "De-rotated zernike coeficients: [52.20818225 29.36061318  8.78865565]\n",
      "Hexapod offset: [ 0.39853574 -0.22412682 -0.00209254]\n",
      "Telescope offsets: [ 23.91214454 -13.44760909   0.        ]\n",
      "==============================\n",
      "\n"
     ]
    }
   ],
   "source": [
    "await cwfs.run_cwfs()"
   ]
  },
  {
   "cell_type": "code",
   "execution_count": null,
   "metadata": {},
   "outputs": [],
   "source": []
  },
  {
   "cell_type": "code",
   "execution_count": 13,
   "metadata": {},
   "outputs": [
    {
     "data": {
      "text/plain": [
       "<ddsutil.ATAOS_ackcmd_33d5c92b at 0x7f21ab9a38d0>"
      ]
     },
     "execution_count": 13,
     "metadata": {},
     "output_type": "execute_result"
    }
   ],
   "source": [
    "await cwfs.attcs.ataos.cmd_offset.set_start(x=0.39853574, y=0., z=0.)"
   ]
  },
  {
   "cell_type": "code",
   "execution_count": 14,
   "metadata": {},
   "outputs": [],
   "source": [
    "cwfs.intra_visit_id = None\n",
    "cwfs.extra_visit_id = None\n",
    "cwfs.angle = None"
   ]
  },
  {
   "cell_type": "code",
   "execution_count": 15,
   "metadata": {},
   "outputs": [
    {
     "name": "stdout",
     "output_type": "stream",
     "text": [
      "Intra/Extra images not taken. Running take image sequence.\n",
      "RemoteEvent(ATHeaderService, 0, logMessage) falling behind; read 11 messages\n",
      "intraImage expId for target: 2020031300115\n",
      "extraImage expId for target: 2020031300116\n"
     ]
    },
    {
     "name": "stderr",
     "output_type": "stream",
     "text": [
      "/home/tribeiro/WORK/ts_externalscripts/python/lsst/ts/externalscripts/auxtel/latiss_cwfs_align.py:295: FutureWarning: Config field doAddDistortionModel is deprecated: Camera geometry is incorporated when reading the raw files. This option no longer is used, and will be removed after v19.\n",
      "  isrConfig.doAddDistortionModel = False\n"
     ]
    },
    {
     "name": "stdout",
     "output_type": "stream",
     "text": [
      "AT_O_20200313_000115: Dark time less than exposure time. Setting dark time to the exposure time.\n",
      "RemoteEvent(ATDomeTrajectory, 0, logMessage) falling behind; read 28 messages\n",
      "RemoteEvent(ATMCS, 0, target) falling behind; read 29 messages\n",
      "RemoteEvent(ATMCS, 0, target) falling behind; read 26 messages\n",
      "RemoteEvent(ATDomeTrajectory, 0, logMessage) falling behind; read 25 messages\n",
      "RemoteEvent(ATMCS, 0, target) falling behind; read 21 messages\n",
      "RemoteEvent(ATDomeTrajectory, 0, logMessage) falling behind; read 17 messages\n"
     ]
    },
    {
     "name": "stderr",
     "output_type": "stream",
     "text": [
      "/home/tribeiro/WORK/ts_externalscripts/python/lsst/ts/externalscripts/auxtel/latiss_cwfs_align.py:295: FutureWarning: Config field doAddDistortionModel is deprecated: Camera geometry is incorporated when reading the raw files. This option no longer is used, and will be removed after v19.\n",
      "  isrConfig.doAddDistortionModel = False\n"
     ]
    },
    {
     "name": "stdout",
     "output_type": "stream",
     "text": [
      "AT_O_20200313_000116: Dark time less than exposure time. Setting dark time to the exposure time.\n",
      "RemoteEvent(ATMCS, 0, target) falling behind; read 28 messages\n",
      "RemoteEvent(ATDomeTrajectory, 0, logMessage) falling behind; read 28 messages\n",
      "RemoteEvent(ATMCS, 0, target) falling behind; read 18 messages\n",
      "RemoteEvent(ATDomeTrajectory, 0, logMessage) falling behind; read 24 messages\n",
      "RemoteEvent(ATMCS, 0, target) falling behind; read 19 messages\n",
      "RemoteEvent(ATDomeTrajectory, 0, logMessage) falling behind; read 21 messages\n",
      "Running source detection algorithm\n",
      "RemoteEvent(ATAOS, 0, detailedState) falling behind; read 11 messages\n",
      "RemoteTelemetry(ATPtg, 0, currentTargetStatus) falling behind; read 48 messages\n",
      "RemoteTelemetry(ATMCS, 0, nasymth_m3_mountMotorEncoders) falling behind; read 10 messages\n",
      "RemoteEvent(ATPtg, 0, heartbeat) falling behind; read 10 messages\n",
      "RemoteTelemetry(ATMCS, 0, mount_Nasmyth_Encoders) falling behind; read 12 messages\n",
      "RemoteEvent(ATSpectrograph, 0, heartbeat) falling behind; read 11 messages\n",
      "RemoteTelemetry(ATPneumatics, 0, m1AirPressure) falling behind; read 12 messages\n",
      "RemoteEvent(ATHeaderService, 0, heartbeat) falling behind; read 11 messages\n",
      "RemoteEvent(ATArchiver, 0, heartbeat) falling behind; read 12 messages\n",
      "RemoteTelemetry(ATDome, 0, position) falling behind; read 61 messages\n",
      "RemoteTelemetry(ATMCS, 0, mount_AzEl_Encoders) falling behind; read 14 messages\n",
      "RemoteEvent(ATPneumatics, 0, heartbeat) falling behind; read 13 messages\n",
      "RemoteEvent(ATDome, 0, heartbeat) falling behind; read 12 messages\n",
      "RemoteTelemetry(ATHexapod, 0, positionStatus) falling behind; read 12 messages\n",
      "RemoteTelemetry(ATMCS, 0, measuredTorque) falling behind; read 14 messages\n",
      "RemoteEvent(ATDome, 0, doorEncoderExtremes) falling behind; read 59 messages\n",
      "RemoteEvent(ATHexapod, 0, heartbeat) falling behind; read 13 messages\n",
      "RemoteTelemetry(ATPtg, 0, timeAndDate) falling behind; read 68 messages\n",
      "RemoteTelemetry(ATMCS, 0, measuredMotorVelocity) falling behind; read 15 messages\n",
      "RemoteEvent(ATAOS, 0, heartbeat) falling behind; read 14 messages\n",
      "RemoteEvent(ATDomeTrajectory, 0, heartbeat) falling behind; read 13 messages\n",
      "RemoteTelemetry(ATMCS, 0, azEl_mountMotorEncoders) falling behind; read 15 messages\n",
      "RemoteTelemetry(ATPneumatics, 0, mainAirSourcePressure) falling behind; read 13 messages\n",
      "RemoteTelemetry(ATPtg, 0, mountStatus) falling behind; read 67 messages\n",
      "RemoteTelemetry(ATPtg, 0, guidingAndOffsets) falling behind; read 68 messages\n",
      "Running CWFS code.\n",
      "RemoteEvent(ATMCS, 0, heartbeat) falling behind; read 15 messages\n",
      "RemoteTelemetry(ATPneumatics, 0, loadCell) falling behind; read 14 messages\n",
      "RemoteTelemetry(ATMCS, 0, trajectory) falling behind; read 14 messages\n",
      "RemoteTelemetry(ATMCS, 0, torqueDemand) falling behind; read 14 messages\n",
      "==============================\n",
      "Measured zernike coeficients: [-1.2532574649475683, 30.605521219832564, 1.463663078285231]\n",
      "De-rotated zernike coeficients: [ 15.09567702 -26.65312587   1.46366308]\n",
      "Hexapod offset: [ 0.11523418  0.20345898 -0.00034849]\n",
      "Telescope offsets: [ 6.91405054 12.20753857  0.        ]\n",
      "==============================\n",
      "\n"
     ]
    }
   ],
   "source": [
    "await cwfs.run_cwfs()"
   ]
  },
  {
   "cell_type": "code",
   "execution_count": null,
   "metadata": {},
   "outputs": [],
   "source": [
    "Hexapod offset: [ 0.11523418  0.20345898 -0.00034849]\n",
    "Hexapod offset: [ 0.39853574 -0.22412682 -0.00209254]\n"
   ]
  },
  {
   "cell_type": "code",
   "execution_count": null,
   "metadata": {},
   "outputs": [],
   "source": [
    "await cwfs.attcs.slew_object(\"HD 68450\", pa_ang=0.)"
   ]
  },
  {
   "cell_type": "code",
   "execution_count": null,
   "metadata": {},
   "outputs": [],
   "source": []
  },
  {
   "cell_type": "code",
   "execution_count": null,
   "metadata": {},
   "outputs": [],
   "source": []
  },
  {
   "cell_type": "code",
   "execution_count": 12,
   "metadata": {},
   "outputs": [
    {
     "data": {
      "text/plain": [
       "0.0"
      ]
     },
     "execution_count": 12,
     "metadata": {},
     "output_type": "execute_result"
    }
   ],
   "source": [
    "cwfs.camera_rotation_angle"
   ]
  },
  {
   "cell_type": "code",
   "execution_count": 16,
   "metadata": {},
   "outputs": [
    {
     "data": {
      "text/plain": [
       "<matplotlib.contour.QuadContourSet at 0x7f204f7027d0>"
      ]
     },
     "execution_count": 16,
     "metadata": {},
     "output_type": "execute_result"
    },
    {
     "data": {
      "image/png": "[encoded data removed]",
      "text/plain": [
       "<Figure size 864x576 with 2 Axes>"
      ]
     },
     "metadata": {
      "needs_background": "light"
     },
     "output_type": "display_data"
    },
    {
     "name": "stdout",
     "output_type": "stream",
     "text": [
      "RemoteEvent(ATMCS, 0, target) falling behind; read 11 messages\n",
      "RemoteEvent(ATDomeTrajectory, 0, logMessage) falling behind; read 11 messages\n"
     ]
    }
   ],
   "source": [
    "fig1 = plt.figure(1, figsize=(12,8))\n",
    "\n",
    "ax11 = fig1.add_subplot(121)\n",
    "\n",
    "ax11.set_title(\"defocus 0.8 - intra\")\n",
    "ax11.imshow(cwfs.I1[0].image0)\n",
    "ax11.contour(cwfs.algo.pMask) \n",
    "\n",
    "ax12 = fig1.add_subplot(122)\n",
    "\n",
    "ax12.set_title(\"defocus 0.8 - extra\")\n",
    "ax12.imshow(cwfs.I2[0].image0)\n",
    "ax12.contour(cwfs.algo.pMask) "
   ]
  },
  {
   "cell_type": "code",
   "execution_count": 17,
   "metadata": {},
   "outputs": [
    {
     "name": "stdout",
     "output_type": "stream",
     "text": [
      "==============================\n",
      "Measured zernike coeficients: [-1.2532574649475683, 30.605521219832564, 1.463663078285231]\n",
      "De-rotated zernike coeficients: [ 15.09567702 -26.65312587   1.46366308]\n",
      "Hexapod offset: [ 0.11523418  0.20345898 -0.00034849]\n",
      "Telescope offsets: [ 6.91405054 12.20753857  0.        ]\n",
      "==============================\n",
      "\n",
      "[  1.46366308 -74.64418961 140.0129856   -1.25325746  30.60552122\n",
      " -10.83957455 -21.00577827   7.86377011  -4.01869242]\n"
     ]
    },
    {
     "data": {
      "image/png": "[encoded data removed]",
      "text/plain": [
       "<Figure size 432x288 with 1 Axes>"
      ]
     },
     "metadata": {
      "needs_background": "light"
     },
     "output_type": "display_data"
    }
   ],
   "source": [
    "# print results\n",
    "cwfs.show_results()\n",
    "# plot zernikes\n",
    "x = np.arange(9)+4\n",
    "plt.plot(x, cwfs.algo.zer4UpNm[:9], 'o-', label=f'{cwfs.dz}')\n",
    "xlim = plt.xlim()\n",
    "plt.plot(np.arange(15), np.zeros(15)+50, 'b--')\n",
    "plt.plot(np.arange(15), np.zeros(15)-50, 'b--')\n",
    "plt.xlim(xlim)\n",
    "plt.ylabel(\"Zernike coeff (nm)\")\n",
    "plt.xlabel(\"Zernike index\")\n",
    "plt.grid()\n",
    "plt.legend()\n",
    "print(cwfs.algo.zer4UpNm[:9])"
   ]
  },
  {
   "cell_type": "code",
   "execution_count": 21,
   "metadata": {},
   "outputs": [
    {
     "data": {
      "text/plain": [
       "array([2020031300119])"
      ]
     },
     "execution_count": 21,
     "metadata": {},
     "output_type": "execute_result"
    },
    {
     "name": "stdout",
     "output_type": "stream",
     "text": [
      "RemoteEvent(ATHeaderService, 0, logMessage) falling behind; read 11 messages\n",
      "RemoteEvent(ATHeaderService, 0, logMessage) falling behind; read 13 messages\n",
      "RemoteEvent(ATHeaderService, 0, logMessage) falling behind; read 19 messages\n"
     ]
    }
   ],
   "source": [
    "await cwfs.latiss.take_object(30.)"
   ]
  },
  {
   "cell_type": "code",
   "execution_count": 19,
   "metadata": {},
   "outputs": [
    {
     "data": {
      "text/plain": [
       "True"
      ]
     },
     "execution_count": 19,
     "metadata": {},
     "output_type": "execute_result"
    }
   ],
   "source": [
    "cwfs.evt_logMessage.set_put(message=f\"Hexapod LUT: 2020031300117\")"
   ]
  },
  {
   "cell_type": "code",
   "execution_count": 25,
   "metadata": {},
   "outputs": [
    {
     "name": "stdout",
     "output_type": "stream",
     "text": [
      "RemoteEvent(ATMCS, 0, target) falling behind; read 67 messages\n",
      "RemoteEvent(ATDomeTrajectory, 0, logMessage) falling behind; read 18 messages\n",
      "RemoteEvent(ATDomeTrajectory, 0, logMessage) falling behind; read 13 messages\n",
      "RemoteEvent(ATHeaderService, 0, logMessage) falling behind; read 11 messages\n",
      "RemoteEvent(ATHeaderService, 0, logMessage) falling behind; read 12 messages\n",
      "RemoteEvent(ATHeaderService, 0, logMessage) falling behind; read 10 messages\n",
      "RemoteEvent(ATMCS, 0, target) falling behind; read 79 messages\n",
      "RemoteEvent(ATDomeTrajectory, 0, logMessage) falling behind; read 27 messages\n",
      "RemoteEvent(ATDomeTrajectory, 0, logMessage) falling behind; read 39 messages\n",
      "RemoteEvent(ATHeaderService, 0, logMessage) falling behind; read 12 messages\n"
     ]
    },
    {
     "ename": "CancelledError",
     "evalue": "",
     "output_type": "error",
     "traceback": [
      "\u001b[0;31m---------------------------------------------------------------------------\u001b[0m",
      "\u001b[0;31mCancelledError\u001b[0m                            Traceback (most recent call last)",
      "\u001b[0;32m<ipython-input-25-08a7703e075d>\u001b[0m in \u001b[0;36masync-def-wrapper\u001b[0;34m()\u001b[0m\n",
      "\u001b[0;32m/opt/lsst/src/ts_salobj/python/lsst/ts/salobj/topics/remote_command.py\u001b[0m in \u001b[0;36mstart\u001b[0;34m(self, data, timeout, wait_done)\u001b[0m\n\u001b[1;32m    393\u001b[0m         )\n\u001b[1;32m    394\u001b[0m         \u001b[0mself\u001b[0m\u001b[0;34m.\u001b[0m\u001b[0msalinfo\u001b[0m\u001b[0;34m.\u001b[0m\u001b[0m_running_cmds\u001b[0m\u001b[0;34m[\u001b[0m\u001b[0mseq_num\u001b[0m\u001b[0;34m]\u001b[0m \u001b[0;34m=\u001b[0m \u001b[0mcmd_info\u001b[0m\u001b[0;34m\u001b[0m\u001b[0;34m\u001b[0m\u001b[0m\n\u001b[0;32m--> 395\u001b[0;31m         \u001b[0;32mreturn\u001b[0m \u001b[0;32mawait\u001b[0m \u001b[0mcmd_info\u001b[0m\u001b[0;34m.\u001b[0m\u001b[0mnext_ackcmd\u001b[0m\u001b[0;34m(\u001b[0m\u001b[0mtimeout\u001b[0m\u001b[0;34m=\u001b[0m\u001b[0mtimeout\u001b[0m\u001b[0;34m)\u001b[0m\u001b[0;34m\u001b[0m\u001b[0;34m\u001b[0m\u001b[0m\n\u001b[0m",
      "\u001b[0;32m/opt/lsst/src/ts_salobj/python/lsst/ts/salobj/topics/remote_command.py\u001b[0m in \u001b[0;36mnext_ackcmd\u001b[0;34m(self, timeout)\u001b[0m\n\u001b[1;32m    176\u001b[0m                 \u001b[0masyncio\u001b[0m\u001b[0;34m.\u001b[0m\u001b[0mwait_for\u001b[0m\u001b[0;34m(\u001b[0m\u001b[0mself\u001b[0m\u001b[0;34m.\u001b[0m\u001b[0m_basic_next_ack\u001b[0m\u001b[0;34m(\u001b[0m\u001b[0;34m)\u001b[0m\u001b[0;34m,\u001b[0m \u001b[0mtimeout\u001b[0m\u001b[0;34m=\u001b[0m\u001b[0mtimeout\u001b[0m\u001b[0;34m)\u001b[0m\u001b[0;34m\u001b[0m\u001b[0;34m\u001b[0m\u001b[0m\n\u001b[1;32m    177\u001b[0m             )\n\u001b[0;32m--> 178\u001b[0;31m             \u001b[0mackcmd\u001b[0m \u001b[0;34m=\u001b[0m \u001b[0;32mawait\u001b[0m \u001b[0mself\u001b[0m\u001b[0;34m.\u001b[0m\u001b[0m_wait_task\u001b[0m\u001b[0;34m\u001b[0m\u001b[0;34m\u001b[0m\u001b[0m\n\u001b[0m\u001b[1;32m    179\u001b[0m             \u001b[0;31m# print(f\"next_ackcmd got {ackcmd.ack} from _basic_next_ack\")\u001b[0m\u001b[0;34m\u001b[0m\u001b[0;34m\u001b[0m\u001b[0;34m\u001b[0m\u001b[0m\n\u001b[1;32m    180\u001b[0m             \u001b[0;32mif\u001b[0m \u001b[0mackcmd\u001b[0m\u001b[0;34m.\u001b[0m\u001b[0mack\u001b[0m \u001b[0;32min\u001b[0m \u001b[0mself\u001b[0m\u001b[0;34m.\u001b[0m\u001b[0mfailed_ack_codes\u001b[0m\u001b[0;34m:\u001b[0m\u001b[0;34m\u001b[0m\u001b[0;34m\u001b[0m\u001b[0m\n",
      "\u001b[0;31mCancelledError\u001b[0m: "
     ]
    },
    {
     "name": "stdout",
     "output_type": "stream",
     "text": [
      "RemoteEvent(ATHeaderService, 0, logMessage) falling behind; read 10 messages\n",
      "RemoteEvent(ATMCS, 0, target) falling behind; read 90 messages\n",
      "RemoteEvent(ATDomeTrajectory, 0, logMessage) falling behind; read 17 messages\n",
      "RemoteEvent(ATMCS, 0, target) falling behind; read 19 messages\n",
      "RemoteEvent(ATHeaderService, 0, logMessage) falling behind; read 10 messages\n",
      "RemoteEvent(ATHeaderService, 0, logMessage) falling behind; read 12 messages\n",
      "RemoteEvent(ATDomeTrajectory, 0, logMessage) falling behind; read 15 messages\n",
      "RemoteEvent(ATMCS, 0, target) falling behind; read 79 messages\n",
      "RemoteEvent(ATDomeTrajectory, 0, logMessage) falling behind; read 11 messages\n",
      "RemoteEvent(ATDomeTrajectory, 0, logMessage) falling behind; read 16 messages\n",
      "RemoteEvent(ATDomeTrajectory, 0, logMessage) falling behind; read 10 messages\n",
      "RemoteEvent(ATHeaderService, 0, logMessage) falling behind; read 11 messages\n",
      "RemoteEvent(ATMCS, 0, target) falling behind; read 59 messages\n",
      "RemoteEvent(ATDomeTrajectory, 0, logMessage) falling behind; read 14 messages\n",
      "RemoteEvent(ATHeaderService, 0, logMessage) falling behind; read 10 messages\n",
      "RemoteEvent(ATHeaderService, 0, logMessage) falling behind; read 12 messages\n",
      "RemoteEvent(ATHeaderService, 0, logMessage) falling behind; read 10 messages\n",
      "RemoteEvent(ATHeaderService, 0, logMessage) falling behind; read 12 messages\n"
     ]
    }
   ],
   "source": [
    "await cwfs.latiss.atcamera.cmd_endImage.start()"
   ]
  },
  {
   "cell_type": "code",
   "execution_count": null,
   "metadata": {},
   "outputs": [],
   "source": [
    "cwfs.show_results()"
   ]
  },
  {
   "cell_type": "code",
   "execution_count": null,
   "metadata": {},
   "outputs": [],
   "source": []
  },
  {
   "cell_type": "code",
   "execution_count": null,
   "metadata": {},
   "outputs": [],
   "source": [
    "await cwfs.attcs.ataos.cmd_offset.set_start(x=0., y=0.5, z=0.)"
   ]
  },
  {
   "cell_type": "code",
   "execution_count": null,
   "metadata": {},
   "outputs": [],
   "source": [
    "await cwfs.take_intra_extra()"
   ]
  },
  {
   "cell_type": "code",
   "execution_count": null,
   "metadata": {},
   "outputs": [],
   "source": [
    "cwfs.angle"
   ]
  },
  {
   "cell_type": "code",
   "execution_count": 22,
   "metadata": {},
   "outputs": [],
   "source": [
    "cwfs.intra_visit_id = 2020031300124\n",
    "cwfs.extra_visit_id = 2020031300125\n",
    "cwfs.angle = 93.646"
   ]
  },
  {
   "cell_type": "code",
   "execution_count": 23,
   "metadata": {},
   "outputs": [
    {
     "name": "stdout",
     "output_type": "stream",
     "text": [
      "Running cwfs in 2020031300124/2020031300125.\n"
     ]
    },
    {
     "name": "stderr",
     "output_type": "stream",
     "text": [
      "/home/tribeiro/WORK/ts_externalscripts/python/lsst/ts/externalscripts/auxtel/latiss_cwfs_align.py:295: FutureWarning: Config field doAddDistortionModel is deprecated: Camera geometry is incorporated when reading the raw files. This option no longer is used, and will be removed after v19.\n",
      "  isrConfig.doAddDistortionModel = False\n"
     ]
    },
    {
     "name": "stdout",
     "output_type": "stream",
     "text": [
      "AT_O_20200313_000124: Dark time less than exposure time. Setting dark time to the exposure time.\n",
      "RemoteEvent(ATMCS, 0, target) falling behind; read 29 messages\n",
      "RemoteEvent(ATDomeTrajectory, 0, logMessage) falling behind; read 30 messages\n",
      "RemoteEvent(ATDomeTrajectory, 0, logMessage) falling behind; read 10 messages\n",
      "RemoteEvent(ATMCS, 0, target) falling behind; read 21 messages\n",
      "RemoteEvent(ATDomeTrajectory, 0, logMessage) falling behind; read 21 messages\n",
      "RemoteEvent(ATMCS, 0, target) falling behind; read 31 messages\n"
     ]
    },
    {
     "name": "stderr",
     "output_type": "stream",
     "text": [
      "/home/tribeiro/WORK/ts_externalscripts/python/lsst/ts/externalscripts/auxtel/latiss_cwfs_align.py:295: FutureWarning: Config field doAddDistortionModel is deprecated: Camera geometry is incorporated when reading the raw files. This option no longer is used, and will be removed after v19.\n",
      "  isrConfig.doAddDistortionModel = False\n",
      "Exception ignored in: <function SqlRegistry.__del__ at 0x7f21f0197cb0>\n",
      "Traceback (most recent call last):\n",
      "  File \"/opt/lsst/software/stack/stack/miniconda3-4.7.12-984c9f7/Linux64/daf_persistence/19.0.0-2-gf01c5b1+1/python/lsst/daf/persistence/registries.py\", line 319, in __del__\n",
      "    self.conn.close()\n",
      "sqlite3.ProgrammingError: SQLite objects created in a thread can only be used in that same thread. The object was created in thread id 139776390055680 and this is thread id 139776381662976.\n",
      "Exception ignored in: <function SqlRegistry.__del__ at 0x7f21f0197cb0>\n",
      "Traceback (most recent call last):\n",
      "  File \"/opt/lsst/software/stack/stack/miniconda3-4.7.12-984c9f7/Linux64/daf_persistence/19.0.0-2-gf01c5b1+1/python/lsst/daf/persistence/registries.py\", line 319, in __del__\n",
      "    self.conn.close()\n",
      "sqlite3.ProgrammingError: SQLite objects created in a thread can only be used in that same thread. The object was created in thread id 139776390055680 and this is thread id 139776381662976.\n"
     ]
    },
    {
     "name": "stdout",
     "output_type": "stream",
     "text": [
      "AT_O_20200313_000125: Dark time less than exposure time. Setting dark time to the exposure time.\n",
      "RemoteEvent(ATMCS, 0, target) falling behind; read 30 messages\n",
      "RemoteEvent(ATDomeTrajectory, 0, logMessage) falling behind; read 31 messages\n",
      "RemoteEvent(ATDomeTrajectory, 0, logMessage) falling behind; read 11 messages\n",
      "RemoteEvent(ATMCS, 0, target) falling behind; read 31 messages\n",
      "Running source detection algorithm\n",
      "RemoteTelemetry(ATPtg, 0, guidingAndOffsets) falling behind; read 46 messages\n",
      "RemoteTelemetry(ATPneumatics, 0, mainAirSourcePressure) falling behind; read 11 messages\n",
      "RemoteEvent(ATAOS, 0, heartbeat) falling behind; read 12 messages\n",
      "RemoteTelemetry(ATMCS, 0, azEl_mountMotorEncoders) falling behind; read 14 messages\n",
      "RemoteTelemetry(ATPtg, 0, currentTargetStatus) falling behind; read 62 messages\n",
      "RemoteEvent(ATDomeTrajectory, 0, heartbeat) falling behind; read 12 messages\n",
      "RemoteTelemetry(ATHexapod, 0, positionStatus) falling behind; read 13 messages\n",
      "RemoteEvent(ATDome, 0, doorEncoderExtremes) falling behind; read 66 messages\n",
      "RemoteTelemetry(ATPneumatics, 0, m2AirPressure) falling behind; read 13 messages\n",
      "RemoteEvent(ATAOS, 0, detailedState) falling behind; read 19 messages\n",
      "RemoteEvent(ATArchiver, 0, heartbeat) falling behind; read 12 messages\n",
      "RemoteEvent(ATSpectrograph, 0, heartbeat) falling behind; read 12 messages\n",
      "RemoteEvent(ATHeaderService, 0, heartbeat) falling behind; read 12 messages\n",
      "RemoteTelemetry(ATPneumatics, 0, m1AirPressure) falling behind; read 14 messages\n",
      "RemoteEvent(ATMCS, 0, heartbeat) falling behind; read 16 messages\n",
      "RemoteTelemetry(ATPneumatics, 0, loadCell) falling behind; read 14 messages\n",
      "RemoteTelemetry(ATPtg, 0, timeAndDate) falling behind; read 63 messages\n",
      "RemoteEvent(ATHexapod, 0, heartbeat) falling behind; read 14 messages\n",
      "RemoteTelemetry(ATDome, 0, position) falling behind; read 63 messages\n",
      "RemoteTelemetry(ATMCS, 0, trajectory) falling behind; read 16 messages\n",
      "RemoteTelemetry(ATPtg, 0, mountStatus) falling behind; read 67 messages\n",
      "RemoteTelemetry(ATMCS, 0, torqueDemand) falling behind; read 15 messages\n",
      "RemoteTelemetry(ATMCS, 0, nasymth_m3_mountMotorEncoders) falling behind; read 15 messages\n",
      "Running CWFS code.\n",
      "RemoteTelemetry(ATMCS, 0, mount_Nasmyth_Encoders) falling behind; read 14 messages\n",
      "RemoteTelemetry(ATMCS, 0, mount_AzEl_Encoders) falling behind; read 14 messages\n",
      "RemoteTelemetry(ATMCS, 0, measuredTorque) falling behind; read 14 messages\n",
      "RemoteEvent(ATPtg, 0, mountDataWarning) falling behind; read 10 messages\n",
      "RemoteEvent(ATPneumatics, 0, heartbeat) falling behind; read 14 messages\n",
      "RemoteTelemetry(ATMCS, 0, measuredMotorVelocity) falling behind; read 14 messages\n",
      "RemoteEvent(ATPtg, 0, heartbeat) falling behind; read 15 messages\n",
      "==============================\n",
      "Measured zernike coeficients: [-43.015074125542206, 38.70288910839469, 4.143374862507122]\n",
      "De-rotated zernike coeficients: [41.35995883 40.46682633  4.14337486]\n",
      "Hexapod offset: [ 0.31572488 -0.30890707 -0.00098652]\n",
      "Telescope offsets: [ 18.94349259 -18.53442427   0.        ]\n",
      "==============================\n",
      "\n"
     ]
    },
    {
     "name": "stderr",
     "output_type": "stream",
     "text": [
      "Exception ignored in: <function SqlRegistry.__del__ at 0x7f21f0197cb0>\n",
      "Traceback (most recent call last):\n",
      "  File \"/opt/lsst/software/stack/stack/miniconda3-4.7.12-984c9f7/Linux64/daf_persistence/19.0.0-2-gf01c5b1+1/python/lsst/daf/persistence/registries.py\", line 319, in __del__\n",
      "    self.conn.close()\n",
      "sqlite3.ProgrammingError: SQLite objects created in a thread can only be used in that same thread. The object was created in thread id 139776381662976 and this is thread id 139784262248256.\n",
      "Exception ignored in: <function SqlRegistry.__del__ at 0x7f21f0197cb0>\n",
      "Traceback (most recent call last):\n",
      "  File \"/opt/lsst/software/stack/stack/miniconda3-4.7.12-984c9f7/Linux64/daf_persistence/19.0.0-2-gf01c5b1+1/python/lsst/daf/persistence/registries.py\", line 319, in __del__\n",
      "    self.conn.close()\n",
      "sqlite3.ProgrammingError: SQLite objects created in a thread can only be used in that same thread. The object was created in thread id 139776381662976 and this is thread id 139784262248256.\n"
     ]
    },
    {
     "name": "stdout",
     "output_type": "stream",
     "text": [
      "RemoteEvent(ATHeaderService, 0, logMessage) falling behind; read 12 messages\n",
      "RemoteEvent(ATDomeTrajectory, 0, logMessage) falling behind; read 11 messages\n",
      "RemoteEvent(ATMCS, 0, target) falling behind; read 76 messages\n",
      "RemoteEvent(ATMCS, 0, target) falling behind; read 70 messages\n",
      "RemoteEvent(ATDomeTrajectory, 0, logMessage) falling behind; read 21 messages\n"
     ]
    }
   ],
   "source": [
    "await cwfs.run_cwfs()"
   ]
  },
  {
   "cell_type": "code",
   "execution_count": null,
   "metadata": {},
   "outputs": [],
   "source": [
    "fig1 = plt.figure(1, figsize=(12,8))\n",
    "\n",
    "ax11 = fig1.add_subplot(121)\n",
    "\n",
    "ax11.set_title(\"defocus 0.8 - intra\")\n",
    "ax11.imshow(cwfs.I1[0].image0)\n",
    "ax11.contour(cwfs.algo.pMask) \n",
    "\n",
    "ax12 = fig1.add_subplot(122)\n",
    "\n",
    "ax12.set_title(\"defocus 0.8 - extra\")\n",
    "ax12.imshow(cwfs.I2[0].image0)\n",
    "ax12.contour(cwfs.algo.pMask) "
   ]
  },
  {
   "cell_type": "code",
   "execution_count": null,
   "metadata": {},
   "outputs": [],
   "source": [
    "cwfs.show_results()"
   ]
  },
  {
   "cell_type": "code",
   "execution_count": null,
   "metadata": {},
   "outputs": [],
   "source": [
    "Measured zernike coeficients: [56.73010676525756, 8.189632125965955, -182.83805153268753]\n",
    "Measured zernike coeficients: [124.71311827603878, -22.518979644650848, -203.58845212289884]\n"
   ]
  },
  {
   "cell_type": "code",
   "execution_count": null,
   "metadata": {},
   "outputs": [],
   "source": [
    "await cwfs.attcs.ataos.cmd_offset.set_start(x=0., y=-0.5, z=0.)"
   ]
  },
  {
   "cell_type": "code",
   "execution_count": null,
   "metadata": {},
   "outputs": [],
   "source": [
    "await cwfs.take_intra_extra()"
   ]
  },
  {
   "cell_type": "code",
   "execution_count": null,
   "metadata": {},
   "outputs": [],
   "source": [
    "cwfs.angle"
   ]
  },
  {
   "cell_type": "code",
   "execution_count": null,
   "metadata": {},
   "outputs": [],
   "source": [
    "cwfs.intra_visit_id = 2020031200363\n",
    "cwfs.extra_visit_id = 2020031200364\n",
    "cwfs.angle = 94.78393081417468"
   ]
  },
  {
   "cell_type": "code",
   "execution_count": null,
   "metadata": {},
   "outputs": [],
   "source": [
    "await cwfs.run_cwfs()"
   ]
  },
  {
   "cell_type": "code",
   "execution_count": null,
   "metadata": {},
   "outputs": [],
   "source": [
    "fig1 = plt.figure(1, figsize=(12,8))\n",
    "\n",
    "ax11 = fig1.add_subplot(121)\n",
    "\n",
    "ax11.set_title(\"defocus 0.8 - intra\")\n",
    "ax11.imshow(cwfs.I1[0].image0)\n",
    "ax11.contour(cwfs.algo.pMask) \n",
    "\n",
    "ax12 = fig1.add_subplot(122)\n",
    "\n",
    "ax12.set_title(\"defocus 0.8 - extra\")\n",
    "ax12.imshow(cwfs.I2[0].image0)\n",
    "ax12.contour(cwfs.algo.pMask) "
   ]
  },
  {
   "cell_type": "code",
   "execution_count": null,
   "metadata": {},
   "outputs": [],
   "source": [
    "await cwfs.attcs.ataos.cmd_offset.set_start(x=0., y=-0.5, z=0.)"
   ]
  },
  {
   "cell_type": "code",
   "execution_count": null,
   "metadata": {},
   "outputs": [],
   "source": [
    "await cwfs.take_intra_extra()"
   ]
  },
  {
   "cell_type": "code",
   "execution_count": null,
   "metadata": {},
   "outputs": [],
   "source": [
    "cwfs.angle"
   ]
  },
  {
   "cell_type": "code",
   "execution_count": null,
   "metadata": {},
   "outputs": [],
   "source": [
    "cwfs.intra_visit_id = 2020031200365\n",
    "cwfs.extra_visit_id = 2020031200366\n",
    "cwfs.angle = 95.00421417197606\n"
   ]
  },
  {
   "cell_type": "code",
   "execution_count": null,
   "metadata": {},
   "outputs": [],
   "source": [
    "await cwfs.run_cwfs()"
   ]
  },
  {
   "cell_type": "code",
   "execution_count": null,
   "metadata": {},
   "outputs": [],
   "source": [
    "fig1 = plt.figure(1, figsize=(12,8))\n",
    "\n",
    "ax11 = fig1.add_subplot(121)\n",
    "\n",
    "ax11.set_title(\"defocus 0.8 - intra\")\n",
    "ax11.imshow(cwfs.I1[0].image0)\n",
    "ax11.contour(cwfs.algo.pMask) \n",
    "\n",
    "ax12 = fig1.add_subplot(122)\n",
    "\n",
    "ax12.set_title(\"defocus 0.8 - extra\")\n",
    "ax12.imshow(cwfs.I2[0].image0)\n",
    "ax12.contour(cwfs.algo.pMask) "
   ]
  },
  {
   "cell_type": "code",
   "execution_count": null,
   "metadata": {},
   "outputs": [],
   "source": []
  },
  {
   "cell_type": "code",
   "execution_count": null,
   "metadata": {},
   "outputs": [],
   "source": [
    "await cwfs.attcs.ataos.cmd_offset.set_start(x=0., y=0.5, z=0.)"
   ]
  },
  {
   "cell_type": "code",
   "execution_count": null,
   "metadata": {},
   "outputs": [],
   "source": [
    "await cwfs.take_intra_extra()"
   ]
  },
  {
   "cell_type": "code",
   "execution_count": null,
   "metadata": {},
   "outputs": [],
   "source": [
    "cwfs.angle"
   ]
  },
  {
   "cell_type": "code",
   "execution_count": null,
   "metadata": {},
   "outputs": [],
   "source": [
    "cwfs.intra_visit_id = 2020031200367\n",
    "cwfs.extra_visit_id = 2020031200368\n",
    "cwfs.angle = 95.19698512172705"
   ]
  },
  {
   "cell_type": "code",
   "execution_count": null,
   "metadata": {},
   "outputs": [],
   "source": [
    "await cwfs.run_cwfs()"
   ]
  },
  {
   "cell_type": "code",
   "execution_count": null,
   "metadata": {},
   "outputs": [],
   "source": [
    "fig1 = plt.figure(1, figsize=(12,8))\n",
    "\n",
    "ax11 = fig1.add_subplot(121)\n",
    "\n",
    "ax11.set_title(\"defocus 0.8 - intra\")\n",
    "ax11.imshow(cwfs.I1[0].image0)\n",
    "ax11.contour(cwfs.algo.pMask) \n",
    "\n",
    "ax12 = fig1.add_subplot(122)\n",
    "\n",
    "ax12.set_title(\"defocus 0.8 - extra\")\n",
    "ax12.imshow(cwfs.I2[0].image0)\n",
    "ax12.contour(cwfs.algo.pMask) "
   ]
  },
  {
   "cell_type": "code",
   "execution_count": null,
   "metadata": {},
   "outputs": [],
   "source": [
    "cwfs.show_results()"
   ]
  },
  {
   "cell_type": "code",
   "execution_count": null,
   "metadata": {},
   "outputs": [],
   "source": []
  },
  {
   "cell_type": "code",
   "execution_count": null,
   "metadata": {},
   "outputs": [],
   "source": [
    "await cwfs.attcs.ataos.cmd_offset.set_start(x=0.5, y=0., z=0.)"
   ]
  },
  {
   "cell_type": "code",
   "execution_count": null,
   "metadata": {},
   "outputs": [],
   "source": [
    "await cwfs.take_intra_extra()"
   ]
  },
  {
   "cell_type": "code",
   "execution_count": null,
   "metadata": {},
   "outputs": [],
   "source": [
    "cwfs.angle"
   ]
  },
  {
   "cell_type": "code",
   "execution_count": null,
   "metadata": {},
   "outputs": [],
   "source": [
    "cwfs.intra_visit_id = 2020031200361\n",
    "cwfs.extra_visit_id = 2020031200362\n",
    "cwfs.angle = 95.36627323544002"
   ]
  },
  {
   "cell_type": "code",
   "execution_count": null,
   "metadata": {},
   "outputs": [],
   "source": [
    "await cwfs.run_cwfs()"
   ]
  },
  {
   "cell_type": "code",
   "execution_count": null,
   "metadata": {},
   "outputs": [],
   "source": [
    "fig1 = plt.figure(1, figsize=(12,8))\n",
    "\n",
    "ax11 = fig1.add_subplot(121)\n",
    "\n",
    "ax11.set_title(\"defocus 0.8 - intra\")\n",
    "ax11.imshow(cwfs.I1[0].image0)\n",
    "ax11.contour(cwfs.algo.pMask) \n",
    "\n",
    "ax12 = fig1.add_subplot(122)\n",
    "\n",
    "ax12.set_title(\"defocus 0.8 - extra\")\n",
    "ax12.imshow(cwfs.I2[0].image0)\n",
    "ax12.contour(cwfs.algo.pMask) "
   ]
  },
  {
   "cell_type": "code",
   "execution_count": null,
   "metadata": {},
   "outputs": [],
   "source": [
    "cwfs.show_results()"
   ]
  },
  {
   "cell_type": "code",
   "execution_count": null,
   "metadata": {},
   "outputs": [],
   "source": []
  },
  {
   "cell_type": "code",
   "execution_count": null,
   "metadata": {},
   "outputs": [],
   "source": []
  },
  {
   "cell_type": "code",
   "execution_count": null,
   "metadata": {},
   "outputs": [],
   "source": []
  },
  {
   "cell_type": "code",
   "execution_count": null,
   "metadata": {},
   "outputs": [],
   "source": [
    "await cwfs.attcs.ataos.cmd_offset.set_start(x=-1.0, y=0., z=0.)"
   ]
  },
  {
   "cell_type": "code",
   "execution_count": null,
   "metadata": {},
   "outputs": [],
   "source": [
    "await cwfs.take_intra_extra()"
   ]
  },
  {
   "cell_type": "code",
   "execution_count": null,
   "metadata": {},
   "outputs": [],
   "source": [
    "cwfs.angle"
   ]
  },
  {
   "cell_type": "code",
   "execution_count": null,
   "metadata": {},
   "outputs": [],
   "source": [
    "await cwfs.attcs.ataos.cmd_offset.set_start(x=0.5, y=0., z=0.)"
   ]
  },
  {
   "cell_type": "code",
   "execution_count": null,
   "metadata": {},
   "outputs": [],
   "source": []
  },
  {
   "cell_type": "code",
   "execution_count": null,
   "metadata": {},
   "outputs": [],
   "source": [
    "cwfs.intra_visit_id = None\n",
    "cwfs.extra_visit_id = None"
   ]
  },
  {
   "cell_type": "code",
   "execution_count": null,
   "metadata": {},
   "outputs": [],
   "source": [
    "await cwfs.run_cwfs()"
   ]
  },
  {
   "cell_type": "code",
   "execution_count": null,
   "metadata": {},
   "outputs": [],
   "source": [
    "cwfs.intra_visit_id = None\n",
    "cwfs.extra_visit_id = None"
   ]
  },
  {
   "cell_type": "code",
   "execution_count": null,
   "metadata": {},
   "outputs": [],
   "source": [
    "await cwfs.run_cwfs()"
   ]
  },
  {
   "cell_type": "code",
   "execution_count": null,
   "metadata": {},
   "outputs": [],
   "source": []
  },
  {
   "cell_type": "code",
   "execution_count": null,
   "metadata": {},
   "outputs": [],
   "source": []
  },
  {
   "cell_type": "code",
   "execution_count": null,
   "metadata": {},
   "outputs": [],
   "source": [
    "offset = {'m1': 0.0,\n",
    "          'm2': 0.0,\n",
    "          'x': -0.09199987,\n",
    "          'y':  -0.13539846,\n",
    "          'z':   0.05523413,\n",
    "          'u': 0.0,\n",
    "          'v': 0.0\n",
    "          }\n",
    "\n",
    "await cwfs.attcs.ataos.cmd_offset.set_start(**offset)"
   ]
  },
  {
   "cell_type": "code",
   "execution_count": null,
   "metadata": {},
   "outputs": [],
   "source": []
  },
  {
   "cell_type": "code",
   "execution_count": null,
   "metadata": {},
   "outputs": [],
   "source": []
  },
  {
   "cell_type": "code",
   "execution_count": null,
   "metadata": {},
   "outputs": [],
   "source": [
    "cwfs.intra_visit_id = None\n",
    "cwfs.extra_visit_id = None"
   ]
  },
  {
   "cell_type": "code",
   "execution_count": null,
   "metadata": {},
   "outputs": [],
   "source": [
    "await cwfs.run_cwfs()"
   ]
  },
  {
   "cell_type": "code",
   "execution_count": null,
   "metadata": {},
   "outputs": [],
   "source": [
    "fig1 = plt.figure(1, figsize=(12,8))\n",
    "\n",
    "ax11 = fig1.add_subplot(121)\n",
    "\n",
    "ax11.set_title(\"defocus 0.8 - intra\")\n",
    "ax11.imshow(cwfs.I1[0].image0)\n",
    "ax11.contour(cwfs.algo.pMask) \n",
    "\n",
    "ax12 = fig1.add_subplot(122)\n",
    "\n",
    "ax12.set_title(\"defocus 0.8 - extra\")\n",
    "ax12.imshow(cwfs.I2[0].image0)\n",
    "ax12.contour(cwfs.algo.pMask) "
   ]
  },
  {
   "cell_type": "code",
   "execution_count": null,
   "metadata": {},
   "outputs": [],
   "source": [
    "cwfs.show_results()"
   ]
  },
  {
   "cell_type": "code",
   "execution_count": null,
   "metadata": {},
   "outputs": [],
   "source": [
    "offset = {'m1': 0.0,\n",
    "          'm2': 0.0,\n",
    "          'x': 0.0,\n",
    "          'y': 0.0,\n",
    "          'z': -0.01062974/2.,\n",
    "          'u': 0.0,\n",
    "          'v': 0.0\n",
    "          }\n",
    "\n",
    "await cwfs.attcs.ataos.cmd_offset.set_start(**offset)"
   ]
  },
  {
   "cell_type": "code",
   "execution_count": null,
   "metadata": {},
   "outputs": [],
   "source": [
    "cwfs.intra_visit_id = None\n",
    "cwfs.extra_visit_id = None"
   ]
  },
  {
   "cell_type": "code",
   "execution_count": null,
   "metadata": {},
   "outputs": [],
   "source": [
    "await cwfs.run_cwfs()"
   ]
  },
  {
   "cell_type": "code",
   "execution_count": null,
   "metadata": {},
   "outputs": [],
   "source": [
    "fig1 = plt.figure(1, figsize=(12,8))\n",
    "\n",
    "ax11 = fig1.add_subplot(121)\n",
    "\n",
    "ax11.set_title(\"defocus 0.8 - intra\")\n",
    "ax11.imshow(cwfs.I1[0].image0)\n",
    "ax11.contour(cwfs.algo.pMask) \n",
    "\n",
    "ax12 = fig1.add_subplot(122)\n",
    "\n",
    "ax12.set_title(\"defocus 0.8 - extra\")\n",
    "ax12.imshow(cwfs.I2[0].image0)\n",
    "ax12.contour(cwfs.algo.pMask) "
   ]
  },
  {
   "cell_type": "code",
   "execution_count": null,
   "metadata": {},
   "outputs": [],
   "source": [
    "offset = {'m1': 0.0,\n",
    "          'm2': 0.0,\n",
    "          'x': -0.37688719,\n",
    "          'y': 0.0,\n",
    "          'z': 0.0,\n",
    "          'u': 0.0,\n",
    "          'v': 0.0\n",
    "          }\n",
    "\n",
    "await cwfs.attcs.ataos.cmd_offset.set_start(**offset)"
   ]
  },
  {
   "cell_type": "code",
   "execution_count": null,
   "metadata": {},
   "outputs": [],
   "source": [
    "cwfs.intra_visit_id = None\n",
    "cwfs.extra_visit_id = None"
   ]
  },
  {
   "cell_type": "code",
   "execution_count": null,
   "metadata": {},
   "outputs": [],
   "source": [
    "await cwfs.run_cwfs()"
   ]
  },
  {
   "cell_type": "code",
   "execution_count": null,
   "metadata": {},
   "outputs": [],
   "source": [
    "fig1 = plt.figure(1, figsize=(12,8))\n",
    "\n",
    "ax11 = fig1.add_subplot(121)\n",
    "\n",
    "ax11.set_title(\"defocus 0.8 - intra\")\n",
    "ax11.imshow(cwfs.I1[0].image0)\n",
    "ax11.contour(cwfs.algo.pMask) \n",
    "\n",
    "ax12 = fig1.add_subplot(122)\n",
    "\n",
    "ax12.set_title(\"defocus 0.8 - extra\")\n",
    "ax12.imshow(cwfs.I2[0].image0)\n",
    "ax12.contour(cwfs.algo.pMask) "
   ]
  },
  {
   "cell_type": "code",
   "execution_count": null,
   "metadata": {},
   "outputs": [],
   "source": [
    "cwfs.show_results()"
   ]
  },
  {
   "cell_type": "markdown",
   "metadata": {},
   "source": [
    "[-0.37688719 -0.03842189 -0.00876713]"
   ]
  },
  {
   "cell_type": "code",
   "execution_count": null,
   "metadata": {},
   "outputs": [],
   "source": [
    "offset = {'m1': 0.0,\n",
    "          'm2': 0.0,\n",
    "          'x': 0.0,\n",
    "          'y': 0.40382696/2.,\n",
    "          'z': 0.0,\n",
    "          'u': 0.0,\n",
    "          'v': 0.0\n",
    "          }\n",
    "\n",
    "await cwfs.attcs.ataos.cmd_offset.set_start(**offset)"
   ]
  },
  {
   "cell_type": "code",
   "execution_count": null,
   "metadata": {},
   "outputs": [],
   "source": [
    "await cwfs.latiss.take_object(exptime=1,n=1)"
   ]
  },
  {
   "cell_type": "code",
   "execution_count": null,
   "metadata": {},
   "outputs": [],
   "source": [
    "cwfs.intra_visit_id = 2020022000254\n",
    "cwfs.extra_visit_id = 2020022000255\n",
    "cwfs.angle = 0."
   ]
  },
  {
   "cell_type": "code",
   "execution_count": null,
   "metadata": {},
   "outputs": [],
   "source": [
    "await cwfs.run_cwfs()"
   ]
  },
  {
   "cell_type": "code",
   "execution_count": null,
   "metadata": {},
   "outputs": [],
   "source": [
    "fig1 = plt.figure(1, figsize=(12,8))\n",
    "\n",
    "ax11 = fig1.add_subplot(121)\n",
    "\n",
    "ax11.set_title(\"defocus 0.8 - intra\")\n",
    "ax11.imshow(cwfs.I1[0].image0)\n",
    "ax11.contour(cwfs.algo.pMask) \n",
    "\n",
    "ax12 = fig1.add_subplot(122)\n",
    "\n",
    "ax12.set_title(\"defocus 0.8 - extra\")\n",
    "ax12.imshow(cwfs.I2[0].image0)\n",
    "ax12.contour(cwfs.algo.pMask) "
   ]
  },
  {
   "cell_type": "raw",
   "metadata": {},
   "source": [
    "==============================\n",
    "Measured zernike coeficients: [-52.14673582657953, 13.764500366586063, 40.97615934712791]\n",
    "De-rotated zernike coeficients: [10.49726762 52.90133174 40.97615935]\n",
    "Hexapod offset: [-0.08013181  0.40382696 -0.00975623]\n",
    "Telescope offsets: [-4.80790883 24.22961759  0.        ]\n",
    "=============================="
   ]
  },
  {
   "cell_type": "code",
   "execution_count": null,
   "metadata": {},
   "outputs": [],
   "source": [
    "cwfs.show_results()"
   ]
  },
  {
   "cell_type": "code",
   "execution_count": null,
   "metadata": {},
   "outputs": [],
   "source": [
    "offset = {'m1': 0.0,\n",
    "          'm2': 0.0,\n",
    "          'x': 0.0,\n",
    "          'y': 0.40382696/2.,\n",
    "          'z': 0.0,\n",
    "          'u': 0.0,\n",
    "          'v': 0.0\n",
    "          }\n",
    "\n",
    "await cwfs.attcs.ataos.cmd_offset.set_start(**offset)"
   ]
  },
  {
   "cell_type": "code",
   "execution_count": null,
   "metadata": {},
   "outputs": [],
   "source": [
    "cwfs.cwfs_selected_sources"
   ]
  },
  {
   "cell_type": "code",
   "execution_count": null,
   "metadata": {},
   "outputs": [],
   "source": [
    "bbox = cwfs.source_selection_result.sources[6].getFootprint().getBBox()"
   ]
  },
  {
   "cell_type": "code",
   "execution_count": null,
   "metadata": {},
   "outputs": [],
   "source": [
    "bbox"
   ]
  },
  {
   "cell_type": "code",
   "execution_count": null,
   "metadata": {},
   "outputs": [],
   "source": [
    "img_mean = np.mean(cwfs.detection_exp[bbox].image.array)\n",
    "img_min = np.min(cwfs.detection_exp[bbox].image.array)\n",
    "img_max = np.max(cwfs.detection_exp[bbox].image.array)\n",
    "img_std = np.std(cwfs.detection_exp[bbox].image.array)\n",
    "print(img_max)\n",
    "image = np.array(cwfs.detection_exp[bbox].image.array, copy=True)\n",
    "# image[image > img_mean+5*img_std] = img_min\n",
    "image[image == img_max] = img_min\n",
    "plt.imshow(image, origin='lower')"
   ]
  },
  {
   "cell_type": "code",
   "execution_count": null,
   "metadata": {},
   "outputs": [],
   "source": [
    "cwfs = LatissCWFSAlign(index=1)"
   ]
  },
  {
   "cell_type": "code",
   "execution_count": null,
   "metadata": {},
   "outputs": [],
   "source": [
    "await cwfs.start_task"
   ]
  },
  {
   "cell_type": "code",
   "execution_count": null,
   "metadata": {},
   "outputs": [],
   "source": [
    "cwfs.filter = \"empty_1\"\n",
    "cwfs.grating = \"empty_1\""
   ]
  },
  {
   "cell_type": "code",
   "execution_count": null,
   "metadata": {},
   "outputs": [],
   "source": [
    "await cwfs.run_cwfs()"
   ]
  },
  {
   "cell_type": "code",
   "execution_count": null,
   "metadata": {},
   "outputs": [],
   "source": [
    "fig1 = plt.figure(1, figsize=(12,8))\n",
    "\n",
    "ax11 = fig1.add_subplot(121)\n",
    "\n",
    "ax11.set_title(\"defocus 0.8 - intra\")\n",
    "ax11.imshow(cwfs.I1[0].image0)\n",
    "ax11.contour(cwfs.algo.pMask) \n",
    "\n",
    "ax12 = fig1.add_subplot(122)\n",
    "\n",
    "ax12.set_title(\"defocus 0.8 - extra\")\n",
    "ax12.imshow(cwfs.I2[0].image0)\n",
    "ax12.contour(cwfs.algo.pMask) "
   ]
  },
  {
   "cell_type": "code",
   "execution_count": null,
   "metadata": {},
   "outputs": [],
   "source": [
    "await cwfs.attcs.ataos.cmd_enableCorrection.set_start(hexapod=True, m1=False)"
   ]
  },
  {
   "cell_type": "code",
   "execution_count": null,
   "metadata": {},
   "outputs": [],
   "source": [
    "await cwfs.attcs.atpneumatics.cmd_openM1Cover.start()"
   ]
  },
  {
   "cell_type": "code",
   "execution_count": null,
   "metadata": {},
   "outputs": [],
   "source": [
    "await cwfs.attcs.ataos.cmd_resetOffset.start()"
   ]
  },
  {
   "cell_type": "code",
   "execution_count": null,
   "metadata": {},
   "outputs": [],
   "source": [
    "await cwfs.attcs.ataos.cmd_applyAxisOffset.set_start(axis=\"z\", offset=-0.18)"
   ]
  },
  {
   "cell_type": "code",
   "execution_count": null,
   "metadata": {},
   "outputs": [],
   "source": [
    "44.58+29"
   ]
  },
  {
   "cell_type": "code",
   "execution_count": null,
   "metadata": {},
   "outputs": [],
   "source": [
    "await cwfs.attcs.shutdown()"
   ]
  },
  {
   "cell_type": "code",
   "execution_count": null,
   "metadata": {},
   "outputs": [],
   "source": [
    "await cwfs.latiss.standby()"
   ]
  },
  {
   "cell_type": "code",
   "execution_count": null,
   "metadata": {},
   "outputs": [],
   "source": []
  },
  {
   "cell_type": "code",
   "execution_count": null,
   "metadata": {},
   "outputs": [],
   "source": []
  },
  {
   "cell_type": "code",
   "execution_count": null,
   "metadata": {},
   "outputs": [],
   "source": []
  },
  {
   "cell_type": "code",
   "execution_count": null,
   "metadata": {},
   "outputs": [],
   "source": [
    "angles = [94.29546258589602, 94.55345673626783, 94.78393081417468, 95.00421417197606, 95.19698512172705]"
   ]
  },
  {
   "cell_type": "code",
   "execution_count": null,
   "metadata": {},
   "outputs": [],
   "source": [
    "zern = [[56.73010676525756, 8.189632125965955, -182.83805153268753],\n",
    "[124.71311827603878, -22.518979644650848, -203.58845212289884],\n",
    "[53.20468192736806, 0.10889426038000716, -242.04429369018686],\n",
    "[-28.441399439485657, -2.2013288336828327, -185.3117742900592], \n",
    "[63.63531388244971, 1.7177890049827167, -232.19198776848006]]"
   ]
  },
  {
   "cell_type": "code",
   "execution_count": null,
   "metadata": {},
   "outputs": [],
   "source": [
    "zern_derot = []\n",
    "for i in range(len(zern)):\n",
    "    print(i, zern[i], angles[i])\n",
    "    zern_derot.append(np.matmul(zern[i], cwfs.rotation_matrix(angles[i])))"
   ]
  },
  {
   "cell_type": "code",
   "execution_count": null,
   "metadata": {},
   "outputs": [],
   "source": [
    "hex_offset = []\n",
    "for i in range(len(zern)):\n",
    "    hex_offset.append(np.matmul(zern_derot[i], cwfs.sensitivity_matrix))"
   ]
  },
  {
   "cell_type": "code",
   "execution_count": null,
   "metadata": {},
   "outputs": [],
   "source": [
    "for i in range(1, len(zern)):\n",
    "    print(zern_derot[i] - zern_derot[0])"
   ]
  },
  {
   "cell_type": "code",
   "execution_count": null,
   "metadata": {},
   "outputs": [],
   "source": [
    "for i in range(1, len(zern)):\n",
    "    print(zern_derot[i] - zern_derot[0])"
   ]
  },
  {
   "cell_type": "code",
   "execution_count": null,
   "metadata": {},
   "outputs": [],
   "source": [
    "for i in range(1, len(hex_offset)):\n",
    "    print(hex_offset[i] - hex_offset[0])"
   ]
  },
  {
   "cell_type": "code",
   "execution_count": null,
   "metadata": {},
   "outputs": [],
   "source": [
    "zern[1][0] - zern[0][0]"
   ]
  },
  {
   "cell_type": "code",
   "execution_count": null,
   "metadata": {},
   "outputs": [],
   "source": [
    "zern[2][0] - zern[0][0]"
   ]
  },
  {
   "cell_type": "code",
   "execution_count": null,
   "metadata": {},
   "outputs": [],
   "source": [
    "zern[3][0] - zern[0][0]"
   ]
  },
  {
   "cell_type": "code",
   "execution_count": null,
   "metadata": {},
   "outputs": [],
   "source": [
    "zern[4][0] - zern[0][0]"
   ]
  },
  {
   "cell_type": "code",
   "execution_count": null,
   "metadata": {},
   "outputs": [],
   "source": [
    "np.matmul(np.array([40,40,40]), cwfs.sensitivity_matrix)"
   ]
  },
  {
   "cell_type": "code",
   "execution_count": 31,
   "metadata": {},
   "outputs": [
    {
     "data": {
      "text/plain": [
       "<ddsutil.ATMCS_ackcmd_f0f9ad9d at 0x7f21ab8a6310>"
      ]
     },
     "execution_count": 31,
     "metadata": {},
     "output_type": "execute_result"
    }
   ],
   "source": [
    "await cwfs.attcs.atmcs.cmd_stopTracking.start()"
   ]
  },
  {
   "cell_type": "code",
   "execution_count": 29,
   "metadata": {},
   "outputs": [],
   "source": [
    "await cwfs.attcs.stop_tracking()"
   ]
  },
  {
   "cell_type": "code",
   "execution_count": 69,
   "metadata": {},
   "outputs": [
    {
     "name": "stdout",
     "output_type": "stream",
     "text": [
      "[Telescope] delta Alt = -000.000 | delta Az= +089.997 delta N1 = +000.000 delta N2 = -000.000 \n",
      "[Telescope] delta Alt = -000.000 | delta Az= +085.780 delta N1 = -000.000 delta N2 = +000.000 \n",
      "[Telescope] delta Alt = -000.000 | delta Az= +079.779 delta N1 = -000.000 delta N2 = -000.000 \n",
      "[Telescope] delta Alt = -000.000 | delta Az= +073.780 delta N1 = -000.000 delta N2 = -000.000 \n",
      "[Telescope] delta Alt = -000.000 | delta Az= +067.779 delta N1 = +000.000 delta N2 = -000.000 \n",
      "[Telescope] delta Alt = +000.000 | delta Az= +063.779 delta N1 = -000.000 delta N2 = +000.000 \n",
      "[Telescope] delta Alt = +000.000 | delta Az= +057.780 delta N1 = -000.000 delta N2 = +000.000 \n",
      "[Telescope] delta Alt = -000.000 | delta Az= +053.780 delta N1 = -000.000 delta N2 = +000.000 \n",
      "[Telescope] delta Alt = +000.000 | delta Az= +047.780 delta N1 = -000.000 delta N2 = -000.000 \n",
      "[Telescope] delta Alt = +000.000 | delta Az= +041.780 delta N1 = +000.000 delta N2 = +000.000 \n",
      "[Telescope] delta Alt = -000.000 | delta Az= +035.780 delta N1 = +000.000 delta N2 = +000.000 \n",
      "[Telescope] delta Alt = -000.000 | delta Az= +029.780 delta N1 = -000.000 delta N2 = -000.000 \n",
      "[Telescope] delta Alt = -000.000 | delta Az= +023.812 delta N1 = -000.000 delta N2 = +000.000 \n",
      "[Telescope] delta Alt = -000.000 | delta Az= +019.921 delta N1 = +000.000 delta N2 = +000.000 \n",
      "[Telescope] delta Alt = -000.000 | delta Az= +016.179 delta N1 = -000.000 delta N2 = +000.000 \n",
      "[Telescope] delta Alt = -000.000 | delta Az= +012.671 delta N1 = -000.000 delta N2 = +000.000 \n",
      "[Telescope] delta Alt = -000.000 | delta Az= +009.483 delta N1 = -000.000 delta N2 = -000.000 \n",
      "[Telescope] delta Alt = -000.000 | delta Az= +005.473 delta N1 = +000.000 delta N2 = -000.000 \n",
      "[Telescope] delta Alt = +000.000 | delta Az= +003.403 delta N1 = +000.000 delta N2 = -000.000 \n",
      "[Telescope] delta Alt = -000.000 | delta Az= +001.855 delta N1 = +000.000 delta N2 = -000.000 \n",
      "[Telescope] delta Alt = +000.000 | delta Az= +000.817 delta N1 = +000.000 delta N2 = +000.000 \n",
      "[Telescope] delta Alt = -000.000 | delta Az= +000.244 delta N1 = +000.000 delta N2 = -000.000 \n",
      "[Telescope] delta Alt = -000.000 | delta Az= +000.026 delta N1 = -000.000 delta N2 = -000.000 \n",
      "Got True\n",
      "Waiting for telescope to settle.\n",
      "[Telescope] delta Alt = +000.000 | delta Az= -000.000 delta N1 = -000.000 delta N2 = +000.000 \n",
      "RemoteEvent(ATHeaderService, 0, logMessage) falling behind; read 13 messages\n",
      "RemoteEvent(ATDomeTrajectory, 0, logMessage) falling behind; read 10 messages\n",
      "RemoteEvent(ATHeaderService, 0, logMessage) falling behind; read 11 messages\n",
      "RemoteEvent(ATMCS, 0, target) falling behind; read 85 messages\n",
      "RemoteEvent(ATDomeTrajectory, 0, logMessage) falling behind; read 27 messages\n",
      "RemoteEvent(ATMCS, 0, target) falling behind; read 100 messages\n",
      "RemoteEvent(ATDomeTrajectory, 0, logMessage) falling behind; read 31 messages\n",
      "RemoteEvent(ATMCS, 0, target) falling behind; read 81 messages\n",
      "RemoteEvent(ATDomeTrajectory, 0, logMessage) falling behind; read 16 messages\n",
      "RemoteEvent(ATHeaderService, 0, logMessage) falling behind; read 11 messages\n",
      "RemoteEvent(ATHeaderService, 0, logMessage) falling behind; read 15 messages\n",
      "RemoteEvent(ATDomeTrajectory, 0, logMessage) falling behind; read 11 messages\n",
      "RemoteEvent(ATMCS, 0, target) falling behind; read 97 messages\n",
      "RemoteEvent(ATHeaderService, 0, logMessage) falling behind; read 10 messages\n",
      "RemoteEvent(ATMCS, 0, target) falling behind; read 79 messages\n",
      "RemoteEvent(ATDomeTrajectory, 0, logMessage) falling behind; read 18 messages\n",
      "RemoteEvent(ATMCS, 0, target) falling behind; read 15 messages\n",
      "RemoteEvent(ATMCS, 0, target) falling behind; read 15 messages\n",
      "RemoteEvent(ATDomeTrajectory, 0, logMessage) falling behind; read 12 messages\n",
      "RemoteEvent(ATDome, 0, doorEncoderExtremes) falling behind; read 10 messages\n",
      "RemoteEvent(ATMCS, 0, target) falling behind; read 98 messages\n",
      "RemoteEvent(ATMCS, 0, target) falling behind; read 17 messages\n",
      "RemoteEvent(ATHeaderService, 0, logMessage) falling behind; read 10 messages\n",
      "RemoteEvent(ATHeaderService, 0, logMessage) falling behind; read 11 messages\n",
      "RemoteEvent(ATHeaderService, 0, logMessage) falling behind; read 10 messages\n",
      "RemoteEvent(ATMCS, 0, target) falling behind; read 100 messages\n",
      "RemoteEvent(ATDomeTrajectory, 0, logMessage) falling behind; read 12 messages\n",
      "RemoteEvent(ATDomeTrajectory, 0, logMessage) falling behind; read 13 messages\n",
      "RemoteEvent(ATHeaderService, 0, logMessage) falling behind; read 10 messages\n",
      "RemoteEvent(ATHeaderService, 0, logMessage) falling behind; read 10 messages\n",
      "RemoteEvent(ATHeaderService, 0, logMessage) falling behind; read 10 messages\n",
      "RemoteEvent(ATHeaderService, 0, logMessage) falling behind; read 54 messages\n",
      "RemoteEvent(ATHeaderService, 0, logMessage) falling behind; read 10 messages\n",
      "RemoteEvent(ATHeaderService, 0, logMessage) falling behind; read 11 messages\n",
      "RemoteEvent(ATHeaderService, 0, logMessage) falling behind; read 10 messages\n",
      "RemoteEvent(ATHeaderService, 0, logMessage) falling behind; read 10 messages\n",
      "RemoteEvent(ATHeaderService, 0, logMessage) falling behind; read 10 messages\n",
      "RemoteEvent(ATHeaderService, 0, logMessage) falling behind; read 11 messages\n",
      "RemoteEvent(ATHeaderService, 0, logMessage) falling behind; read 12 messages\n",
      "RemoteEvent(ATHeaderService, 0, logMessage) falling behind; read 11 messages\n",
      "RemoteEvent(ATHeaderService, 0, logMessage) falling behind; read 12 messages\n",
      "RemoteEvent(ATHeaderService, 0, logMessage) falling behind; read 10 messages\n",
      "RemoteEvent(ATHeaderService, 0, logMessage) falling behind; read 11 messages\n"
     ]
    }
   ],
   "source": [
    "await cwfs.attcs.point_azel(az=0., el=60.)"
   ]
  },
  {
   "cell_type": "code",
   "execution_count": 63,
   "metadata": {},
   "outputs": [],
   "source": [
    "await cwfs.attcs.cancel_not_done(cwfs.attcs.scheduled_coro)"
   ]
  },
  {
   "cell_type": "code",
   "execution_count": 59,
   "metadata": {},
   "outputs": [
    {
     "data": {
      "text/plain": [
       "<ddsutil.ATPtg_ackcmd_2d655b72 at 0x7f204ff4dfd0>"
      ]
     },
     "execution_count": 59,
     "metadata": {},
     "output_type": "execute_result"
    }
   ],
   "source": [
    "await cwfs.attcs.atptg.cmd_stopTracking.start()"
   ]
  },
  {
   "cell_type": "code",
   "execution_count": 67,
   "metadata": {},
   "outputs": [
    {
     "data": {
      "text/plain": [
       "<ddsutil.ATMCS_ackcmd_f0f9ad9d at 0x7f204fe9fc90>"
      ]
     },
     "execution_count": 67,
     "metadata": {},
     "output_type": "execute_result"
    }
   ],
   "source": [
    "await cwfs.attcs.atmcs.cmd_startTracking.start()"
   ]
  },
  {
   "cell_type": "code",
   "execution_count": 54,
   "metadata": {},
   "outputs": [
    {
     "data": {
      "text/plain": [
       "[<State.STANDBY: 5>, <State.DISABLED: 1>, <State.ENABLED: 2>]"
      ]
     },
     "execution_count": 54,
     "metadata": {},
     "output_type": "execute_result"
    }
   ],
   "source": [
    "await salobj.set_summary_state(cwfs.attcs.atmcs, salobj.State.ENABLED)"
   ]
  },
  {
   "cell_type": "code",
   "execution_count": 70,
   "metadata": {},
   "outputs": [
    {
     "ename": "ModuleNotFoundError",
     "evalue": "No module named 'lsst.ts.standardscripts.auxtel.butler'",
     "output_type": "error",
     "traceback": [
      "\u001b[0;31m---------------------------------------------------------------------------\u001b[0m",
      "\u001b[0;31mModuleNotFoundError\u001b[0m                       Traceback (most recent call last)",
      "\u001b[0;32m<ipython-input-70-9508ceeeed03>\u001b[0m in \u001b[0;36m<module>\u001b[0;34m\u001b[0m\n\u001b[0;32m----> 1\u001b[0;31m \u001b[0;32mfrom\u001b[0m \u001b[0mlsst\u001b[0m\u001b[0;34m.\u001b[0m\u001b[0mts\u001b[0m\u001b[0;34m.\u001b[0m\u001b[0mstandardscripts\u001b[0m\u001b[0;34m.\u001b[0m\u001b[0mauxtel\u001b[0m\u001b[0;34m.\u001b[0m\u001b[0mbutler\u001b[0m \u001b[0;32mimport\u001b[0m \u001b[0mButler\u001b[0m\u001b[0;34m\u001b[0m\u001b[0;34m\u001b[0m\u001b[0m\n\u001b[0m",
      "\u001b[0;31mModuleNotFoundError\u001b[0m: No module named 'lsst.ts.standardscripts.auxtel.butler'"
     ]
    },
    {
     "name": "stdout",
     "output_type": "stream",
     "text": [
      "RemoteEvent(ATHeaderService, 0, logMessage) falling behind; read 15 messages\n",
      "RemoteEvent(ATHeaderService, 0, logMessage) falling behind; read 13 messages\n",
      "RemoteEvent(ATHeaderService, 0, logMessage) falling behind; read 10 messages\n",
      "RemoteEvent(ATHeaderService, 0, logMessage) falling behind; read 10 messages\n",
      "RemoteEvent(ATHeaderService, 0, logMessage) falling behind; read 11 messages\n",
      "RemoteEvent(ATHeaderService, 0, logMessage) falling behind; read 18 messages\n",
      "RemoteEvent(ATHeaderService, 0, logMessage) falling behind; read 83 messages\n",
      "RemoteEvent(ATHeaderService, 0, logMessage) falling behind; read 30 messages\n",
      "RemoteEvent(ATHeaderService, 0, logMessage) falling behind; read 10 messages\n"
     ]
    }
   ],
   "source": [
    "from lsst.ts.standardscripts.auxtel.butler import Butler"
   ]
  },
  {
   "cell_type": "code",
   "execution_count": 72,
   "metadata": {},
   "outputs": [
    {
     "name": "stdout",
     "output_type": "stream",
     "text": [
      "Running cwfs in 2020031300372/2020031300373.\n"
     ]
    },
    {
     "name": "stderr",
     "output_type": "stream",
     "text": [
      "/home/tribeiro/WORK/ts_externalscripts/python/lsst/ts/externalscripts/auxtel/latiss_cwfs_align.py:295: FutureWarning: Config field doAddDistortionModel is deprecated: Camera geometry is incorporated when reading the raw files. This option no longer is used, and will be removed after v19.\n",
      "  isrConfig.doAddDistortionModel = False\n"
     ]
    },
    {
     "name": "stdout",
     "output_type": "stream",
     "text": [
      "RemoteEvent(ATMCS, 0, target) falling behind; read 12 messages\n",
      "RemoteEvent(ATHeaderService, 0, logMessage) falling behind; read 15 messages\n",
      "AT_O_20200313_000372: Dark time less than exposure time. Setting dark time to the exposure time.\n",
      "RemoteEvent(ATDomeTrajectory, 0, logMessage) falling behind; read 28 messages\n",
      "RemoteEvent(ATMCS, 0, target) falling behind; read 29 messages\n",
      "RemoteEvent(ATDomeTrajectory, 0, logMessage) falling behind; read 25 messages\n",
      "RemoteEvent(ATMCS, 0, target) falling behind; read 31 messages\n",
      "RemoteEvent(ATDomeTrajectory, 0, logMessage) falling behind; read 23 messages\n"
     ]
    },
    {
     "name": "stderr",
     "output_type": "stream",
     "text": [
      "/home/tribeiro/WORK/ts_externalscripts/python/lsst/ts/externalscripts/auxtel/latiss_cwfs_align.py:295: FutureWarning: Config field doAddDistortionModel is deprecated: Camera geometry is incorporated when reading the raw files. This option no longer is used, and will be removed after v19.\n",
      "  isrConfig.doAddDistortionModel = False\n"
     ]
    },
    {
     "name": "stdout",
     "output_type": "stream",
     "text": [
      "AT_O_20200313_000373: Dark time less than exposure time. Setting dark time to the exposure time.\n",
      "RemoteEvent(ATMCS, 0, target) falling behind; read 27 messages\n",
      "RemoteEvent(ATDomeTrajectory, 0, logMessage) falling behind; read 28 messages\n",
      "RemoteEvent(ATMCS, 0, target) falling behind; read 14 messages\n",
      "RemoteEvent(ATDomeTrajectory, 0, logMessage) falling behind; read 25 messages\n",
      "RemoteEvent(ATMCS, 0, target) falling behind; read 22 messages\n",
      "Running source detection algorithm\n",
      "RemoteEvent(ATDomeTrajectory, 0, logMessage) falling behind; read 27 messages\n",
      "RemoteTelemetry(ATMCS, 0, nasymth_m3_mountMotorEncoders) falling behind; read 11 messages\n",
      "RemoteTelemetry(ATPneumatics, 0, mainAirSourcePressure) falling behind; read 12 messages\n",
      "RemoteTelemetry(ATDome, 0, position) falling behind; read 50 messages\n",
      "RemoteTelemetry(ATHexapod, 0, positionStatus) falling behind; read 12 messages\n",
      "RemoteEvent(ATHeaderService, 0, heartbeat) falling behind; read 12 messages\n",
      "RemoteTelemetry(ATPtg, 0, timeAndDate) falling behind; read 58 messages\n",
      "RemoteEvent(ATAOS, 0, heartbeat) falling behind; read 12 messages\n",
      "RemoteEvent(ATArchiver, 0, heartbeat) falling behind; read 11 messages\n",
      "RemoteEvent(ATSpectrograph, 0, heartbeat) falling behind; read 11 messages\n",
      "RemoteTelemetry(ATMCS, 0, mount_Nasmyth_Encoders) falling behind; read 12 messages\n",
      "RemoteTelemetry(ATPneumatics, 0, m2AirPressure) falling behind; read 13 messages\n",
      "RemoteEvent(ATDome, 0, heartbeat) falling behind; read 13 messages\n",
      "RemoteTelemetry(ATMCS, 0, mount_AzEl_Encoders) falling behind; read 13 messages\n",
      "RemoteTelemetry(ATPneumatics, 0, m1AirPressure) falling behind; read 13 messages\n",
      "RemoteEvent(ATDome, 0, doorEncoderExtremes) falling behind; read 61 messages\n",
      "RemoteTelemetry(ATPtg, 0, mountStatus) falling behind; read 65 messages\n",
      "RemoteTelemetry(ATMCS, 0, measuredTorque) falling behind; read 13 messages\n",
      "RemoteTelemetry(ATPneumatics, 0, loadCell) falling behind; read 13 messages\n",
      "RemoteTelemetry(ATPtg, 0, guidingAndOffsets) falling behind; read 66 messages\n",
      "RemoteTelemetry(ATMCS, 0, measuredMotorVelocity) falling behind; read 13 messages\n",
      "RemoteEvent(ATPneumatics, 0, heartbeat) falling behind; read 14 messages\n",
      "RemoteEvent(ATHexapod, 0, heartbeat) falling behind; read 12 messages\n",
      "RemoteTelemetry(ATMCS, 0, azEl_mountMotorEncoders) falling behind; read 13 messages\n",
      "Running CWFS code.\n",
      "RemoteTelemetry(ATPtg, 0, currentTargetStatus) falling behind; read 67 messages\n",
      "RemoteEvent(ATPtg, 0, heartbeat) falling behind; read 14 messages\n",
      "RemoteEvent(ATMCS, 0, heartbeat) falling behind; read 14 messages\n",
      "RemoteTelemetry(ATMCS, 0, trajectory) falling behind; read 13 messages\n",
      "RemoteEvent(ATHeaderService, 0, logMessage) falling behind; read 57 messages\n",
      "RemoteEvent(ATMCS, 0, target) falling behind; read 12 messages\n",
      "==============================\n",
      "Measured zernike coeficients: [29.71847514753195, 17.86681285679587, -1.213452253165913]\n",
      "De-rotated zernike coeficients: [ 7.79187793 33.78901308 -1.21345225]\n",
      "Hexapod offset: [ 0.05947998 -0.2579314   0.00028892]\n",
      "Telescope offsets: [  3.56879905 -15.47588385   0.        ]\n",
      "==============================\n",
      "\n"
     ]
    }
   ],
   "source": [
    "cwfs.intra_visit_id = 2020031300372\n",
    "cwfs.extra_visit_id = 2020031300373\n",
    "cwfs.angle = -46.\n",
    "await cwfs.run_cwfs()"
   ]
  },
  {
   "cell_type": "code",
   "execution_count": 73,
   "metadata": {},
   "outputs": [
    {
     "name": "stdout",
     "output_type": "stream",
     "text": [
      "Running cwfs in 2020031300374/2020031300375.\n"
     ]
    },
    {
     "name": "stderr",
     "output_type": "stream",
     "text": [
      "/home/tribeiro/WORK/ts_externalscripts/python/lsst/ts/externalscripts/auxtel/latiss_cwfs_align.py:295: FutureWarning: Config field doAddDistortionModel is deprecated: Camera geometry is incorporated when reading the raw files. This option no longer is used, and will be removed after v19.\n",
      "  isrConfig.doAddDistortionModel = False\n"
     ]
    },
    {
     "name": "stdout",
     "output_type": "stream",
     "text": [
      "RemoteEvent(ATMCS, 0, target) falling behind; read 10 messages\n"
     ]
    },
    {
     "name": "stderr",
     "output_type": "stream",
     "text": [
      "Exception ignored in: <function SqlRegistry.__del__ at 0x7f21f0197cb0>\n",
      "Traceback (most recent call last):\n",
      "  File \"/opt/lsst/software/stack/stack/miniconda3-4.7.12-984c9f7/Linux64/daf_persistence/19.0.0-2-gf01c5b1+1/python/lsst/daf/persistence/registries.py\", line 319, in __del__\n",
      "    self.conn.close()\n",
      "sqlite3.ProgrammingError: SQLite objects created in a thread can only be used in that same thread. The object was created in thread id 139776222938880 and this is thread id 139776381662976.\n",
      "Exception ignored in: <function SqlRegistry.__del__ at 0x7f21f0197cb0>\n",
      "Traceback (most recent call last):\n",
      "  File \"/opt/lsst/software/stack/stack/miniconda3-4.7.12-984c9f7/Linux64/daf_persistence/19.0.0-2-gf01c5b1+1/python/lsst/daf/persistence/registries.py\", line 319, in __del__\n",
      "    self.conn.close()\n",
      "sqlite3.ProgrammingError: SQLite objects created in a thread can only be used in that same thread. The object was created in thread id 139776222938880 and this is thread id 139776381662976.\n",
      "Exception ignored in: <function SqlRegistry.__del__ at 0x7f21f0197cb0>\n",
      "Traceback (most recent call last):\n",
      "  File \"/opt/lsst/software/stack/stack/miniconda3-4.7.12-984c9f7/Linux64/daf_persistence/19.0.0-2-gf01c5b1+1/python/lsst/daf/persistence/registries.py\", line 319, in __del__\n",
      "    self.conn.close()\n",
      "sqlite3.ProgrammingError: SQLite objects created in a thread can only be used in that same thread. The object was created in thread id 139776373270272 and this is thread id 139776381662976.\n",
      "Exception ignored in: <function SqlRegistry.__del__ at 0x7f21f0197cb0>\n",
      "Traceback (most recent call last):\n",
      "  File \"/opt/lsst/software/stack/stack/miniconda3-4.7.12-984c9f7/Linux64/daf_persistence/19.0.0-2-gf01c5b1+1/python/lsst/daf/persistence/registries.py\", line 319, in __del__\n",
      "    self.conn.close()\n",
      "sqlite3.ProgrammingError: SQLite objects created in a thread can only be used in that same thread. The object was created in thread id 139776373270272 and this is thread id 139776381662976.\n"
     ]
    },
    {
     "name": "stdout",
     "output_type": "stream",
     "text": [
      "AT_O_20200313_000374: Dark time less than exposure time. Setting dark time to the exposure time.\n",
      "RemoteEvent(ATDomeTrajectory, 0, logMessage) falling behind; read 27 messages\n",
      "RemoteEvent(ATHeaderService, 0, logMessage) falling behind; read 86 messages\n",
      "RemoteEvent(ATMCS, 0, target) falling behind; read 30 messages\n",
      "RemoteEvent(ATDomeTrajectory, 0, logMessage) falling behind; read 17 messages\n",
      "RemoteEvent(ATMCS, 0, target) falling behind; read 30 messages\n",
      "RemoteEvent(ATDomeTrajectory, 0, logMessage) falling behind; read 22 messages\n"
     ]
    },
    {
     "name": "stderr",
     "output_type": "stream",
     "text": [
      "/home/tribeiro/WORK/ts_externalscripts/python/lsst/ts/externalscripts/auxtel/latiss_cwfs_align.py:295: FutureWarning: Config field doAddDistortionModel is deprecated: Camera geometry is incorporated when reading the raw files. This option no longer is used, and will be removed after v19.\n",
      "  isrConfig.doAddDistortionModel = False\n"
     ]
    },
    {
     "name": "stdout",
     "output_type": "stream",
     "text": [
      "AT_O_20200313_000375: Dark time less than exposure time. Setting dark time to the exposure time.\n",
      "RemoteEvent(ATDomeTrajectory, 0, logMessage) falling behind; read 29 messages\n",
      "RemoteEvent(ATMCS, 0, target) falling behind; read 35 messages\n",
      "RemoteEvent(ATDomeTrajectory, 0, logMessage) falling behind; read 25 messages\n",
      "RemoteEvent(ATMCS, 0, target) falling behind; read 31 messages\n",
      "RemoteEvent(ATDomeTrajectory, 0, logMessage) falling behind; read 23 messages\n",
      "RemoteEvent(ATMCS, 0, target) falling behind; read 24 messages\n",
      "Running source detection algorithm\n",
      "RemoteTelemetry(ATPtg, 0, timeAndDate) falling behind; read 47 messages\n",
      "RemoteTelemetry(ATMCS, 0, trajectory) falling behind; read 10 messages\n",
      "RemoteTelemetry(ATDome, 0, position) falling behind; read 46 messages\n",
      "RemoteEvent(ATSpectrograph, 0, heartbeat) falling behind; read 12 messages\n",
      "RemoteTelemetry(ATPtg, 0, mountStatus) falling behind; read 65 messages\n",
      "RemoteTelemetry(ATMCS, 0, torqueDemand) falling behind; read 13 messages\n",
      "RemoteEvent(ATDome, 0, doorEncoderExtremes) falling behind; read 62 messages\n",
      "RemoteEvent(ATDomeTrajectory, 0, heartbeat) falling behind; read 14 messages\n",
      "RemoteTelemetry(ATHexapod, 0, positionStatus) falling behind; read 12 messages\n",
      "RemoteEvent(ATArchiver, 0, heartbeat) falling behind; read 12 messages\n",
      "RemoteTelemetry(ATPtg, 0, guidingAndOffsets) falling behind; read 67 messages\n",
      "RemoteTelemetry(ATMCS, 0, nasymth_m3_mountMotorEncoders) falling behind; read 14 messages\n",
      "RemoteTelemetry(ATPneumatics, 0, mainAirSourcePressure) falling behind; read 13 messages\n",
      "RemoteEvent(ATAOS, 0, heartbeat) falling behind; read 12 messages\n",
      "RemoteEvent(ATHexapod, 0, heartbeat) falling behind; read 13 messages\n",
      "RemoteEvent(ATHeaderService, 0, heartbeat) falling behind; read 12 messages\n",
      "RemoteTelemetry(ATPtg, 0, currentTargetStatus) falling behind; read 67 messages\n",
      "RemoteTelemetry(ATMCS, 0, mount_Nasmyth_Encoders) falling behind; read 14 messages\n",
      "RemoteTelemetry(ATPneumatics, 0, m2AirPressure) falling behind; read 13 messages\n",
      "RemoteTelemetry(ATMCS, 0, mount_AzEl_Encoders) falling behind; read 14 messages\n",
      "RemoteTelemetry(ATPneumatics, 0, m1AirPressure) falling behind; read 14 messages\n",
      "RemoteTelemetry(ATMCS, 0, measuredTorque) falling behind; read 14 messages\n",
      "RemoteEvent(ATDome, 0, heartbeat) falling behind; read 12 messages\n",
      "RemoteTelemetry(ATPneumatics, 0, loadCell) falling behind; read 13 messages\n",
      "RemoteTelemetry(ATMCS, 0, measuredMotorVelocity) falling behind; read 14 messages\n",
      "Running CWFS code.\n",
      "RemoteEvent(ATPneumatics, 0, heartbeat) falling behind; read 13 messages\n",
      "RemoteTelemetry(ATMCS, 0, azEl_mountMotorEncoders) falling behind; read 14 messages\n",
      "RemoteEvent(ATMCS, 0, heartbeat) falling behind; read 14 messages\n",
      "RemoteEvent(ATPtg, 0, heartbeat) falling behind; read 13 messages\n",
      "RemoteEvent(ATHeaderService, 0, logMessage) falling behind; read 17 messages\n",
      "==============================\n",
      "Measured zernike coeficients: [14.934738324464766, 5.856272280197036, -21.21998999634835]\n",
      "De-rotated zernike coeficients: [  6.16189125  14.81126024 -21.21999   ]\n",
      "Hexapod offset: [ 0.04703734 -0.11306306  0.00505238]\n",
      "Telescope offsets: [ 2.82224027 -6.78378332  0.        ]\n",
      "==============================\n",
      "\n"
     ]
    }
   ],
   "source": [
    "cwfs.intra_visit_id = 2020031300374\n",
    "cwfs.extra_visit_id = 2020031300375\n",
    "cwfs.angle = -46.\n",
    "await cwfs.run_cwfs()"
   ]
  },
  {
   "cell_type": "code",
   "execution_count": 74,
   "metadata": {},
   "outputs": [
    {
     "name": "stdout",
     "output_type": "stream",
     "text": [
      "Running cwfs in 2020031300376/2020031300377.\n"
     ]
    },
    {
     "name": "stderr",
     "output_type": "stream",
     "text": [
      "/home/tribeiro/WORK/ts_externalscripts/python/lsst/ts/externalscripts/auxtel/latiss_cwfs_align.py:295: FutureWarning: Config field doAddDistortionModel is deprecated: Camera geometry is incorporated when reading the raw files. This option no longer is used, and will be removed after v19.\n",
      "  isrConfig.doAddDistortionModel = False\n",
      "Exception ignored in: <function SqlRegistry.__del__ at 0x7f21f0197cb0>\n",
      "Traceback (most recent call last):\n",
      "  File \"/opt/lsst/software/stack/stack/miniconda3-4.7.12-984c9f7/Linux64/daf_persistence/19.0.0-2-gf01c5b1+1/python/lsst/daf/persistence/registries.py\", line 319, in __del__\n",
      "    self.conn.close()\n",
      "sqlite3.ProgrammingError: SQLite objects created in a thread can only be used in that same thread. The object was created in thread id 139776381662976 and this is thread id 139776373270272.\n",
      "Exception ignored in: <function SqlRegistry.__del__ at 0x7f21f0197cb0>\n",
      "Traceback (most recent call last):\n",
      "  File \"/opt/lsst/software/stack/stack/miniconda3-4.7.12-984c9f7/Linux64/daf_persistence/19.0.0-2-gf01c5b1+1/python/lsst/daf/persistence/registries.py\", line 319, in __del__\n",
      "    self.conn.close()\n",
      "sqlite3.ProgrammingError: SQLite objects created in a thread can only be used in that same thread. The object was created in thread id 139776381662976 and this is thread id 139776373270272.\n",
      "Exception ignored in: <function SqlRegistry.__del__ at 0x7f21f0197cb0>\n",
      "Traceback (most recent call last):\n",
      "  File \"/opt/lsst/software/stack/stack/miniconda3-4.7.12-984c9f7/Linux64/daf_persistence/19.0.0-2-gf01c5b1+1/python/lsst/daf/persistence/registries.py\", line 319, in __del__\n",
      "    self.conn.close()\n",
      "sqlite3.ProgrammingError: SQLite objects created in a thread can only be used in that same thread. The object was created in thread id 139776381662976 and this is thread id 139776373270272.\n",
      "Exception ignored in: <function SqlRegistry.__del__ at 0x7f21f0197cb0>\n",
      "Traceback (most recent call last):\n",
      "  File \"/opt/lsst/software/stack/stack/miniconda3-4.7.12-984c9f7/Linux64/daf_persistence/19.0.0-2-gf01c5b1+1/python/lsst/daf/persistence/registries.py\", line 319, in __del__\n",
      "    self.conn.close()\n",
      "sqlite3.ProgrammingError: SQLite objects created in a thread can only be used in that same thread. The object was created in thread id 139776381662976 and this is thread id 139776373270272.\n"
     ]
    },
    {
     "name": "stdout",
     "output_type": "stream",
     "text": [
      "AT_O_20200313_000376: Dark time less than exposure time. Setting dark time to the exposure time.\n",
      "RemoteEvent(ATMCS, 0, target) falling behind; read 28 messages\n",
      "RemoteEvent(ATDomeTrajectory, 0, logMessage) falling behind; read 29 messages\n",
      "RemoteEvent(ATDomeTrajectory, 0, logMessage) falling behind; read 11 messages\n",
      "RemoteEvent(ATMCS, 0, target) falling behind; read 35 messages\n",
      "RemoteEvent(ATMCS, 0, target) falling behind; read 23 messages\n",
      "RemoteEvent(ATDomeTrajectory, 0, logMessage) falling behind; read 22 messages\n"
     ]
    },
    {
     "name": "stderr",
     "output_type": "stream",
     "text": [
      "/home/tribeiro/WORK/ts_externalscripts/python/lsst/ts/externalscripts/auxtel/latiss_cwfs_align.py:295: FutureWarning: Config field doAddDistortionModel is deprecated: Camera geometry is incorporated when reading the raw files. This option no longer is used, and will be removed after v19.\n",
      "  isrConfig.doAddDistortionModel = False\n"
     ]
    },
    {
     "name": "stdout",
     "output_type": "stream",
     "text": [
      "AT_O_20200313_000377: Dark time less than exposure time. Setting dark time to the exposure time.\n",
      "RemoteEvent(ATHeaderService, 0, logMessage) falling behind; read 18 messages\n",
      "RemoteEvent(ATMCS, 0, target) falling behind; read 28 messages\n",
      "RemoteEvent(ATDomeTrajectory, 0, logMessage) falling behind; read 30 messages\n",
      "RemoteEvent(ATMCS, 0, target) falling behind; read 18 messages\n",
      "RemoteEvent(ATDomeTrajectory, 0, logMessage) falling behind; read 35 messages\n",
      "RemoteEvent(ATDomeTrajectory, 0, logMessage) falling behind; read 22 messages\n",
      "Running source detection algorithm\n",
      "RemoteEvent(ATDome, 0, doorEncoderExtremes) falling behind; read 45 messages\n",
      "RemoteTelemetry(ATPneumatics, 0, m1AirPressure) falling behind; read 10 messages\n",
      "RemoteTelemetry(ATPtg, 0, mountStatus) falling behind; read 59 messages\n",
      "RemoteTelemetry(ATMCS, 0, measuredTorque) falling behind; read 12 messages\n",
      "RemoteEvent(ATHeaderService, 0, heartbeat) falling behind; read 12 messages\n",
      "RemoteEvent(ATPneumatics, 0, heartbeat) falling behind; read 13 messages\n",
      "RemoteEvent(ATAOS, 0, heartbeat) falling behind; read 12 messages\n",
      "RemoteEvent(ATArchiver, 0, heartbeat) falling behind; read 12 messages\n",
      "RemoteTelemetry(ATHexapod, 0, positionStatus) falling behind; read 11 messages\n",
      "RemoteEvent(ATSpectrograph, 0, heartbeat) falling behind; read 11 messages\n",
      "RemoteTelemetry(ATPtg, 0, guidingAndOffsets) falling behind; read 65 messages\n",
      "RemoteTelemetry(ATMCS, 0, measuredMotorVelocity) falling behind; read 13 messages\n",
      "RemoteEvent(ATDomeTrajectory, 0, heartbeat) falling behind; read 12 messages\n",
      "RemoteTelemetry(ATDome, 0, position) falling behind; read 57 messages\n",
      "RemoteTelemetry(ATMCS, 0, azEl_mountMotorEncoders) falling behind; read 13 messages\n",
      "RemoteTelemetry(ATPtg, 0, currentTargetStatus) falling behind; read 67 messages\n",
      "RemoteEvent(ATDome, 0, heartbeat) falling behind; read 12 messages\n",
      "RemoteEvent(ATMCS, 0, target) falling behind; read 100 messages\n",
      "RemoteTelemetry(ATPneumatics, 0, mainAirSourcePressure) falling behind; read 12 messages\n",
      "RemoteEvent(ATMCS, 0, heartbeat) falling behind; read 14 messages\n",
      "RemoteEvent(ATPtg, 0, heartbeat) falling behind; read 14 messages\n",
      "RemoteTelemetry(ATPneumatics, 0, m2AirPressure) falling behind; read 12 messages\n",
      "RemoteEvent(ATHexapod, 0, heartbeat) falling behind; read 12 messages\n",
      "Running CWFS code.\n",
      "RemoteTelemetry(ATPneumatics, 0, loadCell) falling behind; read 12 messages\n",
      "RemoteTelemetry(ATPtg, 0, timeAndDate) falling behind; read 61 messages\n",
      "RemoteTelemetry(ATMCS, 0, trajectory) falling behind; read 13 messages\n",
      "RemoteTelemetry(ATMCS, 0, torqueDemand) falling behind; read 13 messages\n",
      "RemoteTelemetry(ATMCS, 0, nasymth_m3_mountMotorEncoders) falling behind; read 13 messages\n",
      "RemoteTelemetry(ATMCS, 0, mount_Nasmyth_Encoders) falling behind; read 13 messages\n",
      "RemoteEvent(ATMCS, 0, target) falling behind; read 10 messages\n",
      "RemoteEvent(ATMCS, 0, target) falling behind; read 10 messages\n",
      "RemoteEvent(ATHeaderService, 0, logMessage) falling behind; read 10 messages\n",
      "==============================\n",
      "Measured zernike coeficients: [40.06543087437906, 32.901266153219204, -33.15808712800845]\n",
      "De-rotated zernike coeficients: [  4.1645967   51.67579898 -33.15808713]\n",
      "Hexapod offset: [ 0.03179081 -0.39447175  0.00789478]\n",
      "Telescope offsets: [  1.90744887 -23.66830488   0.        ]\n",
      "==============================\n",
      "\n"
     ]
    },
    {
     "name": "stderr",
     "output_type": "stream",
     "text": [
      "Exception ignored in: <function SqlRegistry.__del__ at 0x7f21f0197cb0>\n",
      "Traceback (most recent call last):\n",
      "  File \"/opt/lsst/software/stack/stack/miniconda3-4.7.12-984c9f7/Linux64/daf_persistence/19.0.0-2-gf01c5b1+1/python/lsst/daf/persistence/registries.py\", line 319, in __del__\n",
      "    self.conn.close()\n",
      "sqlite3.ProgrammingError: SQLite objects created in a thread can only be used in that same thread. The object was created in thread id 139776373270272 and this is thread id 139784262248256.\n",
      "Exception ignored in: <function SqlRegistry.__del__ at 0x7f21f0197cb0>\n",
      "Traceback (most recent call last):\n",
      "  File \"/opt/lsst/software/stack/stack/miniconda3-4.7.12-984c9f7/Linux64/daf_persistence/19.0.0-2-gf01c5b1+1/python/lsst/daf/persistence/registries.py\", line 319, in __del__\n",
      "    self.conn.close()\n",
      "sqlite3.ProgrammingError: SQLite objects created in a thread can only be used in that same thread. The object was created in thread id 139776373270272 and this is thread id 139784262248256.\n",
      "Exception ignored in: <function SqlRegistry.__del__ at 0x7f21f0197cb0>\n",
      "Traceback (most recent call last):\n",
      "  File \"/opt/lsst/software/stack/stack/miniconda3-4.7.12-984c9f7/Linux64/daf_persistence/19.0.0-2-gf01c5b1+1/python/lsst/daf/persistence/registries.py\", line 319, in __del__\n",
      "    self.conn.close()\n",
      "sqlite3.ProgrammingError: SQLite objects created in a thread can only be used in that same thread. The object was created in thread id 139776390055680 and this is thread id 139784262248256.\n",
      "Exception ignored in: <function SqlRegistry.__del__ at 0x7f21f0197cb0>\n",
      "Traceback (most recent call last):\n",
      "  File \"/opt/lsst/software/stack/stack/miniconda3-4.7.12-984c9f7/Linux64/daf_persistence/19.0.0-2-gf01c5b1+1/python/lsst/daf/persistence/registries.py\", line 319, in __del__\n",
      "    self.conn.close()\n",
      "sqlite3.ProgrammingError: SQLite objects created in a thread can only be used in that same thread. The object was created in thread id 139776390055680 and this is thread id 139784262248256.\n"
     ]
    },
    {
     "name": "stdout",
     "output_type": "stream",
     "text": [
      "RemoteEvent(ATHeaderService, 0, logMessage) falling behind; read 12 messages\n"
     ]
    }
   ],
   "source": [
    "cwfs.intra_visit_id = 2020031300376\n",
    "cwfs.extra_visit_id = 2020031300377\n",
    "cwfs.angle = -46.\n",
    "await cwfs.run_cwfs()"
   ]
  },
  {
   "cell_type": "code",
   "execution_count": null,
   "metadata": {},
   "outputs": [],
   "source": [
    "[29.71847514753195, 17.86681285679587, -1.213452253165913]\n",
    "[14.934738324464766, 5.856272280197036, -21.21998999634835]\n",
    "[40.06543087437906, 32.901266153219204, -33.15808712800845]"
   ]
  },
  {
   "cell_type": "code",
   "execution_count": 76,
   "metadata": {},
   "outputs": [],
   "source": [
    "hex_offset = np.array([[ 0.05947998, -0.2579314 ,  0.00028892],\n",
    "[ 0.04703734, -0.11306306,  0.00505238],\n",
    "[ 0.03179081, -0.39447175,  0.00789478]])"
   ]
  },
  {
   "cell_type": "code",
   "execution_count": 79,
   "metadata": {},
   "outputs": [
    {
     "name": "stdout",
     "output_type": "stream",
     "text": [
      "0.04610271 0.011323358858274636\n",
      "-0.25515540333333336 0.11490138473200699\n",
      "0.004412026666666667 0.0031379203175068396\n"
     ]
    }
   ],
   "source": [
    "for axis in hex_offset.T:\n",
    "    print(np.mean(axis), np.std(axis))"
   ]
  },
  {
   "cell_type": "code",
   "execution_count": 80,
   "metadata": {},
   "outputs": [
    {
     "name": "stdout",
     "output_type": "stream",
     "text": [
      "Running cwfs in 2020031300391/2020031300392.\n"
     ]
    },
    {
     "name": "stderr",
     "output_type": "stream",
     "text": [
      "/home/tribeiro/WORK/ts_externalscripts/python/lsst/ts/externalscripts/auxtel/latiss_cwfs_align.py:295: FutureWarning: Config field doAddDistortionModel is deprecated: Camera geometry is incorporated when reading the raw files. This option no longer is used, and will be removed after v19.\n",
      "  isrConfig.doAddDistortionModel = False\n"
     ]
    },
    {
     "name": "stdout",
     "output_type": "stream",
     "text": [
      "AT_O_20200313_000391: Dark time less than exposure time. Setting dark time to the exposure time.\n",
      "RemoteEvent(ATMCS, 0, target) falling behind; read 27 messages\n",
      "RemoteEvent(ATDomeTrajectory, 0, logMessage) falling behind; read 28 messages\n",
      "RemoteEvent(ATHeaderService, 0, logMessage) falling behind; read 86 messages\n",
      "RemoteEvent(ATMCS, 0, target) falling behind; read 16 messages\n",
      "RemoteEvent(ATDomeTrajectory, 0, logMessage) falling behind; read 27 messages\n",
      "RemoteEvent(ATDomeTrajectory, 0, logMessage) falling behind; read 21 messages\n",
      "RemoteEvent(ATMCS, 0, target) falling behind; read 22 messages\n"
     ]
    },
    {
     "name": "stderr",
     "output_type": "stream",
     "text": [
      "/home/tribeiro/WORK/ts_externalscripts/python/lsst/ts/externalscripts/auxtel/latiss_cwfs_align.py:295: FutureWarning: Config field doAddDistortionModel is deprecated: Camera geometry is incorporated when reading the raw files. This option no longer is used, and will be removed after v19.\n",
      "  isrConfig.doAddDistortionModel = False\n"
     ]
    },
    {
     "name": "stdout",
     "output_type": "stream",
     "text": [
      "AT_O_20200313_000392: Dark time less than exposure time. Setting dark time to the exposure time.\n",
      "RemoteEvent(ATMCS, 0, target) falling behind; read 28 messages\n",
      "RemoteEvent(ATDomeTrajectory, 0, logMessage) falling behind; read 28 messages\n",
      "RemoteEvent(ATMCS, 0, target) falling behind; read 13 messages\n",
      "RemoteEvent(ATDomeTrajectory, 0, logMessage) falling behind; read 24 messages\n",
      "RemoteEvent(ATDomeTrajectory, 0, logMessage) falling behind; read 22 messages\n",
      "RemoteEvent(ATMCS, 0, target) falling behind; read 23 messages\n",
      "Running source detection algorithm\n",
      "RemoteTelemetry(ATPtg, 0, guidingAndOffsets) falling behind; read 44 messages\n",
      "RemoteEvent(ATDome, 0, doorEncoderExtremes) falling behind; read 43 messages\n",
      "RemoteTelemetry(ATPneumatics, 0, mainAirSourcePressure) falling behind; read 12 messages\n",
      "RemoteEvent(ATHexapod, 0, heartbeat) falling behind; read 11 messages\n",
      "RemoteTelemetry(ATPtg, 0, currentTargetStatus) falling behind; read 62 messages\n",
      "RemoteTelemetry(ATMCS, 0, nasymth_m3_mountMotorEncoders) falling behind; read 12 messages\n",
      "RemoteEvent(ATArchiver, 0, heartbeat) falling behind; read 11 messages\n",
      "RemoteEvent(ATAOS, 0, heartbeat) falling behind; read 11 messages\n",
      "RemoteEvent(ATSpectrograph, 0, heartbeat) falling behind; read 11 messages\n",
      "RemoteEvent(ATHeaderService, 0, heartbeat) falling behind; read 11 messages\n",
      "RemoteTelemetry(ATPneumatics, 0, m2AirPressure) falling behind; read 13 messages\n",
      "RemoteTelemetry(ATMCS, 0, mount_Nasmyth_Encoders) falling behind; read 12 messages\n",
      "RemoteTelemetry(ATPneumatics, 0, m1AirPressure) falling behind; read 13 messages\n",
      "RemoteEvent(ATPtg, 0, heartbeat) falling behind; read 13 messages\n",
      "RemoteTelemetry(ATMCS, 0, mount_AzEl_Encoders) falling behind; read 13 messages\n",
      "RemoteTelemetry(ATDome, 0, position) falling behind; read 58 messages\n",
      "RemoteTelemetry(ATPneumatics, 0, loadCell) falling behind; read 12 messages\n",
      "RemoteTelemetry(ATHexapod, 0, positionStatus) falling behind; read 12 messages\n",
      "RemoteTelemetry(ATMCS, 0, measuredTorque) falling behind; read 13 messages\n",
      "RemoteEvent(ATDome, 0, heartbeat) falling behind; read 12 messages\n",
      "RemoteEvent(ATPneumatics, 0, heartbeat) falling behind; read 13 messages\n",
      "RemoteTelemetry(ATMCS, 0, measuredMotorVelocity) falling behind; read 13 messages\n",
      "Running CWFS code.\n",
      "RemoteTelemetry(ATPtg, 0, timeAndDate) falling behind; read 60 messages\n",
      "RemoteTelemetry(ATMCS, 0, azEl_mountMotorEncoders) falling behind; read 13 messages\n",
      "RemoteEvent(ATMCS, 0, heartbeat) falling behind; read 14 messages\n",
      "RemoteTelemetry(ATPtg, 0, mountStatus) falling behind; read 60 messages\n",
      "RemoteTelemetry(ATMCS, 0, trajectory) falling behind; read 12 messages\n",
      "==============================\n",
      "Measured zernike coeficients: [8.367525089664559, 53.33882406713478, 54.18603453892345]\n",
      "De-rotated zernike coeficients: [ 8.36752509 53.33882407 54.18603454]\n",
      "Hexapod offset: [ 0.06387424 -0.4071666  -0.01290144]\n",
      "Telescope offsets: [  3.83245424 -24.42999576   0.        ]\n",
      "==============================\n",
      "\n"
     ]
    }
   ],
   "source": [
    "cwfs.intra_visit_id = 2020031300391\n",
    "cwfs.extra_visit_id = 2020031300392\n",
    "cwfs.angle = 0.\n",
    "await cwfs.run_cwfs()"
   ]
  },
  {
   "cell_type": "code",
   "execution_count": 81,
   "metadata": {},
   "outputs": [
    {
     "name": "stdout",
     "output_type": "stream",
     "text": [
      "Running cwfs in 2020031300393/2020031300394.\n"
     ]
    },
    {
     "name": "stderr",
     "output_type": "stream",
     "text": [
      "/home/tribeiro/WORK/ts_externalscripts/python/lsst/ts/externalscripts/auxtel/latiss_cwfs_align.py:295: FutureWarning: Config field doAddDistortionModel is deprecated: Camera geometry is incorporated when reading the raw files. This option no longer is used, and will be removed after v19.\n",
      "  isrConfig.doAddDistortionModel = False\n",
      "Exception ignored in: <function SqlRegistry.__del__ at 0x7f21f0197cb0>\n",
      "Traceback (most recent call last):\n",
      "  File \"/opt/lsst/software/stack/stack/miniconda3-4.7.12-984c9f7/Linux64/daf_persistence/19.0.0-2-gf01c5b1+1/python/lsst/daf/persistence/registries.py\", line 319, in __del__\n",
      "    self.conn.close()\n",
      "sqlite3.ProgrammingError: SQLite objects created in a thread can only be used in that same thread. The object was created in thread id 139776288093952 and this is thread id 139776381662976.\n",
      "Exception ignored in: <function SqlRegistry.__del__ at 0x7f21f0197cb0>\n",
      "Traceback (most recent call last):\n",
      "  File \"/opt/lsst/software/stack/stack/miniconda3-4.7.12-984c9f7/Linux64/daf_persistence/19.0.0-2-gf01c5b1+1/python/lsst/daf/persistence/registries.py\", line 319, in __del__\n",
      "    self.conn.close()\n",
      "sqlite3.ProgrammingError: SQLite objects created in a thread can only be used in that same thread. The object was created in thread id 139776288093952 and this is thread id 139776381662976.\n",
      "Exception ignored in: <function SqlRegistry.__del__ at 0x7f21f0197cb0>\n",
      "Traceback (most recent call last):\n",
      "  File \"/opt/lsst/software/stack/stack/miniconda3-4.7.12-984c9f7/Linux64/daf_persistence/19.0.0-2-gf01c5b1+1/python/lsst/daf/persistence/registries.py\", line 319, in __del__\n",
      "    self.conn.close()\n",
      "sqlite3.ProgrammingError: SQLite objects created in a thread can only be used in that same thread. The object was created in thread id 139776364877568 and this is thread id 139776381662976.\n",
      "Exception ignored in: <function SqlRegistry.__del__ at 0x7f21f0197cb0>\n",
      "Traceback (most recent call last):\n",
      "  File \"/opt/lsst/software/stack/stack/miniconda3-4.7.12-984c9f7/Linux64/daf_persistence/19.0.0-2-gf01c5b1+1/python/lsst/daf/persistence/registries.py\", line 319, in __del__\n",
      "    self.conn.close()\n",
      "sqlite3.ProgrammingError: SQLite objects created in a thread can only be used in that same thread. The object was created in thread id 139776364877568 and this is thread id 139776381662976.\n"
     ]
    },
    {
     "name": "stdout",
     "output_type": "stream",
     "text": [
      "AT_O_20200313_000393: Dark time less than exposure time. Setting dark time to the exposure time.\n",
      "RemoteEvent(ATDomeTrajectory, 0, logMessage) falling behind; read 29 messages\n",
      "RemoteEvent(ATMCS, 0, target) falling behind; read 30 messages\n",
      "RemoteEvent(ATDomeTrajectory, 0, logMessage) falling behind; read 18 messages\n",
      "RemoteEvent(ATHeaderService, 0, logMessage) falling behind; read 86 messages\n",
      "RemoteEvent(ATMCS, 0, target) falling behind; read 31 messages\n",
      "RemoteEvent(ATDomeTrajectory, 0, logMessage) falling behind; read 21 messages\n",
      "RemoteEvent(ATMCS, 0, target) falling behind; read 31 messages\n"
     ]
    },
    {
     "name": "stderr",
     "output_type": "stream",
     "text": [
      "/home/tribeiro/WORK/ts_externalscripts/python/lsst/ts/externalscripts/auxtel/latiss_cwfs_align.py:295: FutureWarning: Config field doAddDistortionModel is deprecated: Camera geometry is incorporated when reading the raw files. This option no longer is used, and will be removed after v19.\n",
      "  isrConfig.doAddDistortionModel = False\n"
     ]
    },
    {
     "name": "stdout",
     "output_type": "stream",
     "text": [
      "AT_O_20200313_000394: Dark time less than exposure time. Setting dark time to the exposure time.\n",
      "RemoteEvent(ATDomeTrajectory, 0, logMessage) falling behind; read 28 messages\n",
      "RemoteEvent(ATMCS, 0, target) falling behind; read 29 messages\n",
      "RemoteEvent(ATMCS, 0, target) falling behind; read 21 messages\n",
      "RemoteEvent(ATDomeTrajectory, 0, logMessage) falling behind; read 32 messages\n",
      "RemoteTelemetry(ATPtg, 0, guidingAndOffsets) falling behind; read 10 messages\n",
      "RemoteEvent(ATMCS, 0, target) falling behind; read 22 messages\n",
      "RemoteEvent(ATDomeTrajectory, 0, logMessage) falling behind; read 22 messages\n",
      "Running source detection algorithm\n",
      "RemoteTelemetry(ATDome, 0, position) falling behind; read 39 messages\n",
      "RemoteTelemetry(ATMCS, 0, mount_Nasmyth_Encoders) falling behind; read 12 messages\n",
      "RemoteTelemetry(ATPneumatics, 0, m2AirPressure) falling behind; read 12 messages\n",
      "RemoteEvent(ATDome, 0, heartbeat) falling behind; read 13 messages\n",
      "RemoteEvent(ATDomeTrajectory, 0, heartbeat) falling behind; read 13 messages\n",
      "RemoteEvent(ATPtg, 0, heartbeat) falling behind; read 13 messages\n",
      "RemoteTelemetry(ATMCS, 0, mount_AzEl_Encoders) falling behind; read 13 messages\n",
      "RemoteEvent(ATHexapod, 0, heartbeat) falling behind; read 12 messages\n",
      "RemoteTelemetry(ATPneumatics, 0, m1AirPressure) falling behind; read 13 messages\n",
      "RemoteEvent(ATSpectrograph, 0, heartbeat) falling behind; read 12 messages\n",
      "RemoteEvent(ATArchiver, 0, heartbeat) falling behind; read 12 messages\n",
      "RemoteEvent(ATDome, 0, doorEncoderExtremes) falling behind; read 62 messages\n",
      "RemoteTelemetry(ATMCS, 0, measuredTorque) falling behind; read 13 messages\n",
      "RemoteTelemetry(ATPneumatics, 0, loadCell) falling behind; read 12 messages\n",
      "RemoteTelemetry(ATMCS, 0, measuredMotorVelocity) falling behind; read 13 messages\n",
      "RemoteEvent(ATPneumatics, 0, heartbeat) falling behind; read 14 messages\n",
      "RemoteTelemetry(ATPtg, 0, timeAndDate) falling behind; read 59 messages\n",
      "RemoteTelemetry(ATMCS, 0, azEl_mountMotorEncoders) falling behind; read 13 messages\n",
      "RemoteTelemetry(ATHexapod, 0, positionStatus) falling behind; read 12 messages\n",
      "RemoteEvent(ATMCS, 0, heartbeat) falling behind; read 14 messages\n",
      "Running CWFS code.\n",
      "RemoteTelemetry(ATPtg, 0, mountStatus) falling behind; read 61 messages\n",
      "RemoteTelemetry(ATPneumatics, 0, mainAirSourcePressure) falling behind; read 12 messages\n",
      "RemoteTelemetry(ATPtg, 0, currentTargetStatus) falling behind; read 64 messages\n",
      "RemoteTelemetry(ATMCS, 0, trajectory) falling behind; read 13 messages\n",
      "RemoteTelemetry(ATMCS, 0, torqueDemand) falling behind; read 13 messages\n",
      "RemoteTelemetry(ATMCS, 0, nasymth_m3_mountMotorEncoders) falling behind; read 13 messages\n",
      "==============================\n",
      "Measured zernike coeficients: [9.917849367987307, 35.95224231767476, 85.03193545296945]\n",
      "De-rotated zernike coeficients: [ 9.91784937 35.95224232 85.03193545]\n",
      "Hexapod offset: [ 0.07570877 -0.2744446  -0.0202457 ]\n",
      "Telescope offsets: [  4.54252643 -16.46667587   0.        ]\n",
      "==============================\n",
      "\n"
     ]
    }
   ],
   "source": [
    "cwfs.intra_visit_id = 2020031300393\n",
    "cwfs.extra_visit_id = 2020031300394\n",
    "cwfs.angle = 0.\n",
    "await cwfs.run_cwfs()"
   ]
  },
  {
   "cell_type": "code",
   "execution_count": 82,
   "metadata": {},
   "outputs": [
    {
     "name": "stdout",
     "output_type": "stream",
     "text": [
      "Running cwfs in 2020031300395/2020031300396.\n"
     ]
    },
    {
     "name": "stderr",
     "output_type": "stream",
     "text": [
      "/home/tribeiro/WORK/ts_externalscripts/python/lsst/ts/externalscripts/auxtel/latiss_cwfs_align.py:295: FutureWarning: Config field doAddDistortionModel is deprecated: Camera geometry is incorporated when reading the raw files. This option no longer is used, and will be removed after v19.\n",
      "  isrConfig.doAddDistortionModel = False\n",
      "Exception ignored in: <function SqlRegistry.__del__ at 0x7f21f0197cb0>\n",
      "Traceback (most recent call last):\n",
      "  File \"/opt/lsst/software/stack/stack/miniconda3-4.7.12-984c9f7/Linux64/daf_persistence/19.0.0-2-gf01c5b1+1/python/lsst/daf/persistence/registries.py\", line 319, in __del__\n",
      "    self.conn.close()\n",
      "sqlite3.ProgrammingError: SQLite objects created in a thread can only be used in that same thread. The object was created in thread id 139776390055680 and this is thread id 139776381662976.\n",
      "Exception ignored in: <function SqlRegistry.__del__ at 0x7f21f0197cb0>\n",
      "Traceback (most recent call last):\n",
      "  File \"/opt/lsst/software/stack/stack/miniconda3-4.7.12-984c9f7/Linux64/daf_persistence/19.0.0-2-gf01c5b1+1/python/lsst/daf/persistence/registries.py\", line 319, in __del__\n",
      "    self.conn.close()\n",
      "sqlite3.ProgrammingError: SQLite objects created in a thread can only be used in that same thread. The object was created in thread id 139776390055680 and this is thread id 139776381662976.\n"
     ]
    },
    {
     "name": "stdout",
     "output_type": "stream",
     "text": [
      "AT_O_20200313_000395: Dark time less than exposure time. Setting dark time to the exposure time.\n",
      "RemoteEvent(ATDomeTrajectory, 0, logMessage) falling behind; read 28 messages\n",
      "RemoteEvent(ATMCS, 0, target) falling behind; read 28 messages\n",
      "RemoteEvent(ATDomeTrajectory, 0, logMessage) falling behind; read 12 messages\n",
      "RemoteEvent(ATMCS, 0, target) falling behind; read 28 messages\n",
      "RemoteEvent(ATMCS, 0, target) falling behind; read 23 messages\n",
      "RemoteEvent(ATDomeTrajectory, 0, logMessage) falling behind; read 23 messages\n"
     ]
    },
    {
     "name": "stderr",
     "output_type": "stream",
     "text": [
      "/home/tribeiro/WORK/ts_externalscripts/python/lsst/ts/externalscripts/auxtel/latiss_cwfs_align.py:295: FutureWarning: Config field doAddDistortionModel is deprecated: Camera geometry is incorporated when reading the raw files. This option no longer is used, and will be removed after v19.\n",
      "  isrConfig.doAddDistortionModel = False\n"
     ]
    },
    {
     "name": "stdout",
     "output_type": "stream",
     "text": [
      "AT_O_20200313_000396: Dark time less than exposure time. Setting dark time to the exposure time.\n",
      "RemoteEvent(ATMCS, 0, target) falling behind; read 28 messages\n",
      "RemoteEvent(ATDomeTrajectory, 0, logMessage) falling behind; read 28 messages\n",
      "RemoteEvent(ATDomeTrajectory, 0, logMessage) falling behind; read 25 messages\n",
      "RemoteEvent(ATMCS, 0, target) falling behind; read 26 messages\n",
      "RemoteEvent(ATMCS, 0, target) falling behind; read 20 messages\n",
      "RemoteEvent(ATDomeTrajectory, 0, logMessage) falling behind; read 21 messages\n",
      "Running source detection algorithm\n",
      "RemoteTelemetry(ATPtg, 0, mountStatus) falling behind; read 45 messages\n",
      "RemoteTelemetry(ATDome, 0, position) falling behind; read 45 messages\n",
      "RemoteTelemetry(ATHexapod, 0, positionStatus) falling behind; read 11 messages\n",
      "RemoteTelemetry(ATPtg, 0, guidingAndOffsets) falling behind; read 59 messages\n",
      "RemoteEvent(ATArchiver, 0, heartbeat) falling behind; read 12 messages\n",
      "RemoteEvent(ATSpectrograph, 0, heartbeat) falling behind; read 12 messages\n",
      "RemoteTelemetry(ATMCS, 0, mount_Nasmyth_Encoders) falling behind; read 13 messages\n",
      "RemoteTelemetry(ATPneumatics, 0, m2AirPressure) falling behind; read 13 messages\n",
      "RemoteEvent(ATDome, 0, heartbeat) falling behind; read 13 messages\n",
      "RemoteEvent(ATHexapod, 0, heartbeat) falling behind; read 12 messages\n",
      "RemoteEvent(ATHeaderService, 0, logMessage) falling behind; read 100 messages\n",
      "RemoteTelemetry(ATMCS, 0, mount_AzEl_Encoders) falling behind; read 13 messages\n",
      "RemoteTelemetry(ATPneumatics, 0, m1AirPressure) falling behind; read 13 messages\n",
      "RemoteEvent(ATDome, 0, doorEncoderExtremes) falling behind; read 63 messages\n",
      "RemoteTelemetry(ATPtg, 0, currentTargetStatus) falling behind; read 66 messages\n",
      "RemoteTelemetry(ATMCS, 0, measuredTorque) falling behind; read 14 messages\n",
      "RemoteEvent(ATPneumatics, 0, heartbeat) falling behind; read 13 messages\n",
      "RemoteEvent(ATHeaderService, 0, heartbeat) falling behind; read 12 messages\n",
      "RemoteEvent(ATAOS, 0, heartbeat) falling behind; read 12 messages\n",
      "RemoteTelemetry(ATMCS, 0, measuredMotorVelocity) falling behind; read 14 messages\n",
      "RemoteEvent(ATPtg, 0, heartbeat) falling behind; read 14 messages\n",
      "RemoteTelemetry(ATMCS, 0, azEl_mountMotorEncoders) falling behind; read 14 messages\n",
      "Running CWFS code.\n",
      "RemoteEvent(ATMCS, 0, heartbeat) falling behind; read 13 messages\n",
      "RemoteTelemetry(ATPneumatics, 0, loadCell) falling behind; read 12 messages\n",
      "RemoteTelemetry(ATPtg, 0, timeAndDate) falling behind; read 64 messages\n",
      "RemoteTelemetry(ATMCS, 0, trajectory) falling behind; read 13 messages\n",
      "RemoteEvent(ATHeaderService, 0, logMessage) falling behind; read 18 messages\n",
      "==============================\n",
      "Measured zernike coeficients: [-11.335981143055418, 27.12361911068685, 85.89010304434994]\n",
      "De-rotated zernike coeficients: [-11.33598114  27.12361911  85.89010304]\n",
      "Hexapod offset: [-0.08653421 -0.20705053 -0.02045002]\n",
      "Telescope offsets: [ -5.19205243 -12.42303165   0.        ]\n",
      "==============================\n",
      "\n"
     ]
    },
    {
     "name": "stderr",
     "output_type": "stream",
     "text": [
      "Exception ignored in: <function SqlRegistry.__del__ at 0x7f21f0197cb0>\n",
      "Traceback (most recent call last):\n",
      "  File \"/opt/lsst/software/stack/stack/miniconda3-4.7.12-984c9f7/Linux64/daf_persistence/19.0.0-2-gf01c5b1+1/python/lsst/daf/persistence/registries.py\", line 319, in __del__\n",
      "    self.conn.close()\n",
      "sqlite3.ProgrammingError: SQLite objects created in a thread can only be used in that same thread. The object was created in thread id 139776381662976 and this is thread id 139784262248256.\n",
      "Exception ignored in: <function SqlRegistry.__del__ at 0x7f21f0197cb0>\n",
      "Traceback (most recent call last):\n",
      "  File \"/opt/lsst/software/stack/stack/miniconda3-4.7.12-984c9f7/Linux64/daf_persistence/19.0.0-2-gf01c5b1+1/python/lsst/daf/persistence/registries.py\", line 319, in __del__\n",
      "    self.conn.close()\n",
      "sqlite3.ProgrammingError: SQLite objects created in a thread can only be used in that same thread. The object was created in thread id 139776381662976 and this is thread id 139784262248256.\n",
      "Exception ignored in: <function SqlRegistry.__del__ at 0x7f21f0197cb0>\n",
      "Traceback (most recent call last):\n",
      "  File \"/opt/lsst/software/stack/stack/miniconda3-4.7.12-984c9f7/Linux64/daf_persistence/19.0.0-2-gf01c5b1+1/python/lsst/daf/persistence/registries.py\", line 319, in __del__\n",
      "    self.conn.close()\n",
      "sqlite3.ProgrammingError: SQLite objects created in a thread can only be used in that same thread. The object was created in thread id 139776381662976 and this is thread id 139784262248256.\n",
      "Exception ignored in: <function SqlRegistry.__del__ at 0x7f21f0197cb0>\n",
      "Traceback (most recent call last):\n",
      "  File \"/opt/lsst/software/stack/stack/miniconda3-4.7.12-984c9f7/Linux64/daf_persistence/19.0.0-2-gf01c5b1+1/python/lsst/daf/persistence/registries.py\", line 319, in __del__\n",
      "    self.conn.close()\n",
      "sqlite3.ProgrammingError: SQLite objects created in a thread can only be used in that same thread. The object was created in thread id 139776381662976 and this is thread id 139784262248256.\n"
     ]
    }
   ],
   "source": [
    "cwfs.intra_visit_id = 2020031300395\n",
    "cwfs.extra_visit_id = 2020031300396\n",
    "cwfs.angle = 0.\n",
    "await cwfs.run_cwfs()"
   ]
  },
  {
   "cell_type": "code",
   "execution_count": 83,
   "metadata": {},
   "outputs": [
    {
     "name": "stdout",
     "output_type": "stream",
     "text": [
      "Running cwfs in 2020031300397/2020031300398.\n"
     ]
    },
    {
     "name": "stderr",
     "output_type": "stream",
     "text": [
      "/home/tribeiro/WORK/ts_externalscripts/python/lsst/ts/externalscripts/auxtel/latiss_cwfs_align.py:295: FutureWarning: Config field doAddDistortionModel is deprecated: Camera geometry is incorporated when reading the raw files. This option no longer is used, and will be removed after v19.\n",
      "  isrConfig.doAddDistortionModel = False\n"
     ]
    },
    {
     "name": "stdout",
     "output_type": "stream",
     "text": [
      "AT_O_20200313_000397: Dark time less than exposure time. Setting dark time to the exposure time.\n",
      "RemoteEvent(ATDomeTrajectory, 0, logMessage) falling behind; read 27 messages\n",
      "RemoteEvent(ATMCS, 0, target) falling behind; read 28 messages\n",
      "RemoteEvent(ATMCS, 0, target) falling behind; read 11 messages\n",
      "RemoteEvent(ATDomeTrajectory, 0, logMessage) falling behind; read 26 messages\n",
      "RemoteEvent(ATDomeTrajectory, 0, logMessage) falling behind; read 25 messages\n",
      "RemoteEvent(ATMCS, 0, target) falling behind; read 26 messages\n"
     ]
    },
    {
     "name": "stderr",
     "output_type": "stream",
     "text": [
      "/home/tribeiro/WORK/ts_externalscripts/python/lsst/ts/externalscripts/auxtel/latiss_cwfs_align.py:295: FutureWarning: Config field doAddDistortionModel is deprecated: Camera geometry is incorporated when reading the raw files. This option no longer is used, and will be removed after v19.\n",
      "  isrConfig.doAddDistortionModel = False\n"
     ]
    },
    {
     "name": "stdout",
     "output_type": "stream",
     "text": [
      "AT_O_20200313_000398: Dark time less than exposure time. Setting dark time to the exposure time.\n",
      "RemoteEvent(ATMCS, 0, target) falling behind; read 30 messages\n",
      "RemoteEvent(ATDomeTrajectory, 0, logMessage) falling behind; read 31 messages\n",
      "RemoteEvent(ATDomeTrajectory, 0, logMessage) falling behind; read 12 messages\n",
      "RemoteTelemetry(ATPtg, 0, guidingAndOffsets) falling behind; read 10 messages\n",
      "RemoteEvent(ATMCS, 0, target) falling behind; read 38 messages\n",
      "RemoteEvent(ATDomeTrajectory, 0, logMessage) falling behind; read 22 messages\n",
      "Running source detection algorithm\n",
      "RemoteTelemetry(ATMCS, 0, trajectory) falling behind; read 10 messages\n",
      "RemoteTelemetry(ATPtg, 0, timeAndDate) falling behind; read 65 messages\n",
      "RemoteEvent(ATDome, 0, doorEncoderExtremes) falling behind; read 63 messages\n",
      "RemoteEvent(ATDomeTrajectory, 0, heartbeat) falling behind; read 13 messages\n",
      "RemoteTelemetry(ATMCS, 0, torqueDemand) falling behind; read 14 messages\n",
      "RemoteTelemetry(ATPtg, 0, mountStatus) falling behind; read 72 messages\n",
      "RemoteTelemetry(ATHexapod, 0, positionStatus) falling behind; read 14 messages\n",
      "RemoteEvent(ATSpectrograph, 0, heartbeat) falling behind; read 13 messages\n",
      "RemoteTelemetry(ATPneumatics, 0, mainAirSourcePressure) falling behind; read 15 messages\n",
      "RemoteEvent(ATHeaderService, 0, heartbeat) falling behind; read 13 messages\n",
      "RemoteEvent(ATArchiver, 0, heartbeat) falling behind; read 13 messages\n",
      "RemoteEvent(ATAOS, 0, heartbeat) falling behind; read 13 messages\n",
      "RemoteTelemetry(ATMCS, 0, nasymth_m3_mountMotorEncoders) falling behind; read 14 messages\n",
      "RemoteEvent(ATHexapod, 0, heartbeat) falling behind; read 14 messages\n",
      "RemoteTelemetry(ATPneumatics, 0, m2AirPressure) falling behind; read 15 messages\n",
      "RemoteTelemetry(ATMCS, 0, mount_Nasmyth_Encoders) falling behind; read 14 messages\n",
      "RemoteTelemetry(ATPtg, 0, currentTargetStatus) falling behind; read 69 messages\n",
      "RemoteTelemetry(ATPneumatics, 0, m1AirPressure) falling behind; read 15 messages\n",
      "RemoteTelemetry(ATDome, 0, position) falling behind; read 67 messages\n",
      "RemoteTelemetry(ATMCS, 0, mount_AzEl_Encoders) falling behind; read 15 messages\n",
      "RemoteTelemetry(ATPneumatics, 0, loadCell) falling behind; read 14 messages\n",
      "RemoteEvent(ATDome, 0, heartbeat) falling behind; read 13 messages\n",
      "RemoteEvent(ATHeaderService, 0, logMessage) falling behind; read 86 messages\n",
      "RemoteTelemetry(ATMCS, 0, measuredTorque) falling behind; read 15 messages\n",
      "RemoteEvent(ATPtg, 0, heartbeat) falling behind; read 15 messages\n",
      "RemoteEvent(ATPneumatics, 0, heartbeat) falling behind; read 16 messages\n",
      "Running CWFS code.\n",
      "RemoteTelemetry(ATMCS, 0, measuredMotorVelocity) falling behind; read 15 messages\n",
      "RemoteTelemetry(ATMCS, 0, azEl_mountMotorEncoders) falling behind; read 15 messages\n",
      "RemoteEvent(ATMCS, 0, heartbeat) falling behind; read 16 messages\n"
     ]
    },
    {
     "name": "stderr",
     "output_type": "stream",
     "text": [
      "Exception ignored in: <function SqlRegistry.__del__ at 0x7f21f0197cb0>\n",
      "Traceback (most recent call last):\n",
      "  File \"/opt/lsst/software/stack/stack/miniconda3-4.7.12-984c9f7/Linux64/daf_persistence/19.0.0-2-gf01c5b1+1/python/lsst/daf/persistence/registries.py\", line 319, in __del__\n",
      "    self.conn.close()\n",
      "sqlite3.ProgrammingError: SQLite objects created in a thread can only be used in that same thread. The object was created in thread id 139776288093952 and this is thread id 139784262248256.\n",
      "Exception ignored in: <function SqlRegistry.__del__ at 0x7f21f0197cb0>\n",
      "Traceback (most recent call last):\n",
      "  File \"/opt/lsst/software/stack/stack/miniconda3-4.7.12-984c9f7/Linux64/daf_persistence/19.0.0-2-gf01c5b1+1/python/lsst/daf/persistence/registries.py\", line 319, in __del__\n",
      "    self.conn.close()\n",
      "sqlite3.ProgrammingError: SQLite objects created in a thread can only be used in that same thread. The object was created in thread id 139776288093952 and this is thread id 139784262248256.\n",
      "Exception ignored in: <function SqlRegistry.__del__ at 0x7f21f0197cb0>\n",
      "Traceback (most recent call last):\n",
      "  File \"/opt/lsst/software/stack/stack/miniconda3-4.7.12-984c9f7/Linux64/daf_persistence/19.0.0-2-gf01c5b1+1/python/lsst/daf/persistence/registries.py\", line 319, in __del__\n",
      "    self.conn.close()\n",
      "sqlite3.ProgrammingError: SQLite objects created in a thread can only be used in that same thread. The object was created in thread id 139776373270272 and this is thread id 139784262248256.\n",
      "Exception ignored in: <function SqlRegistry.__del__ at 0x7f21f0197cb0>\n",
      "Traceback (most recent call last):\n",
      "  File \"/opt/lsst/software/stack/stack/miniconda3-4.7.12-984c9f7/Linux64/daf_persistence/19.0.0-2-gf01c5b1+1/python/lsst/daf/persistence/registries.py\", line 319, in __del__\n",
      "    self.conn.close()\n",
      "sqlite3.ProgrammingError: SQLite objects created in a thread can only be used in that same thread. The object was created in thread id 139776373270272 and this is thread id 139784262248256.\n"
     ]
    },
    {
     "name": "stdout",
     "output_type": "stream",
     "text": [
      "==============================\n",
      "Measured zernike coeficients: [2.012713829859435, 5.118979009267038, 101.6200663551638]\n",
      "De-rotated zernike coeficients: [  2.01271383   5.11897901 101.62006636]\n",
      "Hexapod offset: [ 0.01536423 -0.03907618 -0.02419525]\n",
      "Telescope offsets: [ 0.92185366 -2.34457054  0.        ]\n",
      "==============================\n",
      "\n"
     ]
    }
   ],
   "source": [
    "cwfs.intra_visit_id = 2020031300397\n",
    "cwfs.extra_visit_id = 2020031300398\n",
    "cwfs.angle = 0.\n",
    "await cwfs.run_cwfs()"
   ]
  },
  {
   "cell_type": "code",
   "execution_count": 84,
   "metadata": {},
   "outputs": [
    {
     "name": "stdout",
     "output_type": "stream",
     "text": [
      "Running cwfs in 2020031300399/2020031300400.\n"
     ]
    },
    {
     "name": "stderr",
     "output_type": "stream",
     "text": [
      "/home/tribeiro/WORK/ts_externalscripts/python/lsst/ts/externalscripts/auxtel/latiss_cwfs_align.py:295: FutureWarning: Config field doAddDistortionModel is deprecated: Camera geometry is incorporated when reading the raw files. This option no longer is used, and will be removed after v19.\n",
      "  isrConfig.doAddDistortionModel = False\n"
     ]
    },
    {
     "name": "stdout",
     "output_type": "stream",
     "text": [
      "AT_O_20200313_000399: Dark time less than exposure time. Setting dark time to the exposure time.\n",
      "RemoteEvent(ATMCS, 0, target) falling behind; read 29 messages\n",
      "RemoteEvent(ATDomeTrajectory, 0, logMessage) falling behind; read 30 messages\n",
      "RemoteEvent(ATDomeTrajectory, 0, logMessage) falling behind; read 10 messages\n",
      "RemoteEvent(ATMCS, 0, target) falling behind; read 29 messages\n",
      "RemoteTelemetry(ATPtg, 0, mountStatus) falling behind; read 10 messages\n",
      "RemoteEvent(ATDome, 0, doorEncoderExtremes) falling behind; read 10 messages\n",
      "RemoteTelemetry(ATPtg, 0, guidingAndOffsets) falling behind; read 10 messages\n",
      "RemoteEvent(ATDomeTrajectory, 0, logMessage) falling behind; read 24 messages\n"
     ]
    },
    {
     "name": "stderr",
     "output_type": "stream",
     "text": [
      "/home/tribeiro/WORK/ts_externalscripts/python/lsst/ts/externalscripts/auxtel/latiss_cwfs_align.py:295: FutureWarning: Config field doAddDistortionModel is deprecated: Camera geometry is incorporated when reading the raw files. This option no longer is used, and will be removed after v19.\n",
      "  isrConfig.doAddDistortionModel = False\n"
     ]
    },
    {
     "name": "stdout",
     "output_type": "stream",
     "text": [
      "AT_O_20200313_000400: Dark time less than exposure time. Setting dark time to the exposure time.\n",
      "RemoteEvent(ATDomeTrajectory, 0, logMessage) falling behind; read 28 messages\n",
      "RemoteEvent(ATMCS, 0, target) falling behind; read 30 messages\n",
      "RemoteEvent(ATMCS, 0, target) falling behind; read 29 messages\n",
      "RemoteEvent(ATDomeTrajectory, 0, logMessage) falling behind; read 30 messages\n",
      "RemoteTelemetry(ATPtg, 0, currentTargetStatus) falling behind; read 10 messages\n",
      "RemoteEvent(ATMCS, 0, target) falling behind; read 23 messages\n",
      "RemoteEvent(ATDomeTrajectory, 0, logMessage) falling behind; read 24 messages\n",
      "Running source detection algorithm\n",
      "RemoteTelemetry(ATDome, 0, position) falling behind; read 37 messages\n",
      "RemoteTelemetry(ATPtg, 0, guidingAndOffsets) falling behind; read 51 messages\n",
      "RemoteTelemetry(ATPneumatics, 0, mainAirSourcePressure) falling behind; read 13 messages\n",
      "RemoteEvent(ATSpectrograph, 0, heartbeat) falling behind; read 13 messages\n",
      "RemoteEvent(ATAOS, 0, heartbeat) falling behind; read 13 messages\n",
      "RemoteTelemetry(ATMCS, 0, nasymth_m3_mountMotorEncoders) falling behind; read 14 messages\n",
      "RemoteEvent(ATDome, 0, heartbeat) falling behind; read 14 messages\n",
      "RemoteEvent(ATDomeTrajectory, 0, heartbeat) falling behind; read 14 messages\n",
      "RemoteTelemetry(ATHexapod, 0, positionStatus) falling behind; read 13 messages\n",
      "RemoteTelemetry(ATPneumatics, 0, m2AirPressure) falling behind; read 15 messages\n",
      "RemoteEvent(ATAOS, 0, detailedState) falling behind; read 14 messages\n",
      "RemoteTelemetry(ATMCS, 0, mount_Nasmyth_Encoders) falling behind; read 14 messages\n",
      "RemoteEvent(ATHeaderService, 0, heartbeat) falling behind; read 13 messages\n",
      "RemoteEvent(ATArchiver, 0, heartbeat) falling behind; read 13 messages\n",
      "RemoteEvent(ATDome, 0, doorEncoderExtremes) falling behind; read 69 messages\n",
      "RemoteEvent(ATHexapod, 0, heartbeat) falling behind; read 14 messages\n",
      "RemoteTelemetry(ATPneumatics, 0, m1AirPressure) falling behind; read 15 messages\n",
      "RemoteTelemetry(ATMCS, 0, mount_AzEl_Encoders) falling behind; read 14 messages\n",
      "RemoteEvent(ATPtg, 0, heartbeat) falling behind; read 15 messages\n",
      "RemoteTelemetry(ATMCS, 0, measuredTorque) falling behind; read 15 messages\n",
      "RemoteTelemetry(ATMCS, 0, measuredMotorVelocity) falling behind; read 15 messages\n",
      "RemoteTelemetry(ATMCS, 0, azEl_mountMotorEncoders) falling behind; read 15 messages\n",
      "Running CWFS code.\n",
      "RemoteTelemetry(ATPtg, 0, timeAndDate) falling behind; read 69 messages\n",
      "RemoteTelemetry(ATPneumatics, 0, loadCell) falling behind; read 14 messages\n",
      "RemoteEvent(ATPneumatics, 0, heartbeat) falling behind; read 14 messages\n",
      "RemoteEvent(ATMCS, 0, heartbeat) falling behind; read 15 messages\n",
      "RemoteTelemetry(ATPtg, 0, mountStatus) falling behind; read 69 messages\n",
      "RemoteTelemetry(ATMCS, 0, trajectory) falling behind; read 13 messages\n",
      "RemoteTelemetry(ATMCS, 0, torqueDemand) falling behind; read 13 messages\n",
      "RemoteEvent(ATMCS, 0, target) falling behind; read 14 messages\n",
      "RemoteEvent(ATDomeTrajectory, 0, logMessage) falling behind; read 14 messages\n"
     ]
    },
    {
     "name": "stderr",
     "output_type": "stream",
     "text": [
      "Exception ignored in: <function SqlRegistry.__del__ at 0x7f21f0197cb0>\n",
      "Traceback (most recent call last):\n",
      "  File \"/opt/lsst/software/stack/stack/miniconda3-4.7.12-984c9f7/Linux64/daf_persistence/19.0.0-2-gf01c5b1+1/python/lsst/daf/persistence/registries.py\", line 319, in __del__\n",
      "    self.conn.close()\n",
      "sqlite3.ProgrammingError: SQLite objects created in a thread can only be used in that same thread. The object was created in thread id 139776288093952 and this is thread id 139784262248256.\n",
      "Exception ignored in: <function SqlRegistry.__del__ at 0x7f21f0197cb0>\n",
      "Traceback (most recent call last):\n",
      "  File \"/opt/lsst/software/stack/stack/miniconda3-4.7.12-984c9f7/Linux64/daf_persistence/19.0.0-2-gf01c5b1+1/python/lsst/daf/persistence/registries.py\", line 319, in __del__\n",
      "    self.conn.close()\n",
      "sqlite3.ProgrammingError: SQLite objects created in a thread can only be used in that same thread. The object was created in thread id 139776288093952 and this is thread id 139784262248256.\n",
      "Exception ignored in: <function SqlRegistry.__del__ at 0x7f21f0197cb0>\n",
      "Traceback (most recent call last):\n",
      "  File \"/opt/lsst/software/stack/stack/miniconda3-4.7.12-984c9f7/Linux64/daf_persistence/19.0.0-2-gf01c5b1+1/python/lsst/daf/persistence/registries.py\", line 319, in __del__\n",
      "    self.conn.close()\n",
      "sqlite3.ProgrammingError: SQLite objects created in a thread can only be used in that same thread. The object was created in thread id 139776288093952 and this is thread id 139784262248256.\n",
      "Exception ignored in: <function SqlRegistry.__del__ at 0x7f21f0197cb0>\n",
      "Traceback (most recent call last):\n",
      "  File \"/opt/lsst/software/stack/stack/miniconda3-4.7.12-984c9f7/Linux64/daf_persistence/19.0.0-2-gf01c5b1+1/python/lsst/daf/persistence/registries.py\", line 319, in __del__\n",
      "    self.conn.close()\n",
      "sqlite3.ProgrammingError: SQLite objects created in a thread can only be used in that same thread. The object was created in thread id 139776288093952 and this is thread id 139784262248256.\n"
     ]
    },
    {
     "name": "stdout",
     "output_type": "stream",
     "text": [
      "==============================\n",
      "Measured zernike coeficients: [20.855480727895664, 10.149062825825975, 133.52678437814868]\n",
      "De-rotated zernike coeficients: [ 20.85548073  10.14906283 133.52678438]\n",
      "Hexapod offset: [ 0.15920214 -0.07747376 -0.03179209]\n",
      "Telescope offsets: [ 9.55212858 -4.64842572  0.        ]\n",
      "==============================\n",
      "\n"
     ]
    }
   ],
   "source": [
    "cwfs.intra_visit_id = 2020031300399\n",
    "cwfs.extra_visit_id = 2020031300400\n",
    "cwfs.angle = 0.\n",
    "await cwfs.run_cwfs()"
   ]
  },
  {
   "cell_type": "code",
   "execution_count": null,
   "metadata": {},
   "outputs": [],
   "source": [
    "[ 0.06387424 -0.4071666  -0.01290144]\n",
    "[ 0.07570877 -0.2744446  -0.0202457 ]\n",
    "[-0.08653421 -0.20705053 -0.02045002]\n",
    "[ 0.15920214 -0.07747376 -0.03179209]"
   ]
  },
  {
   "cell_type": "code",
   "execution_count": 85,
   "metadata": {},
   "outputs": [],
   "source": [
    "await cwfs.attcs.stop_tracking()"
   ]
  },
  {
   "cell_type": "code",
   "execution_count": 86,
   "metadata": {},
   "outputs": [],
   "source": [
    "vent_state = await cwfs.attcs.atpneumatics.evt_m1VentsPosition.aget()"
   ]
  },
  {
   "cell_type": "code",
   "execution_count": 88,
   "metadata": {},
   "outputs": [],
   "source": [
    "def print_evt_callback(data):\n",
    "    print(data)"
   ]
  },
  {
   "cell_type": "code",
   "execution_count": 89,
   "metadata": {},
   "outputs": [],
   "source": [
    "cwfs.attcs.atpneumatics.evt_m1VentsPosition.callback = print_evt_callback"
   ]
  },
  {
   "cell_type": "code",
   "execution_count": 96,
   "metadata": {},
   "outputs": [
    {
     "data": {
      "text/plain": [
       "<ddsutil.ATPneumatics_ackcmd_5f8ca45f at 0x7f204e5a5810>"
      ]
     },
     "execution_count": 96,
     "metadata": {},
     "output_type": "execute_result"
    },
    {
     "name": "stdout",
     "output_type": "stream",
     "text": [
      "private_revCode: cda6bcee, private_sndStamp: 1584224304.720896, private_rcvStamp: 1584224341.7225375, private_seqNum: 3545885, private_origin: 6415, private_host: 1, position: 2, priority: 0\n",
      "private_revCode: cda6bcee, private_sndStamp: 1584224308.7517934, private_rcvStamp: 1584224345.7525632, private_seqNum: 3545907, private_origin: 6415, private_host: 1, position: 0, priority: 0\n"
     ]
    }
   ],
   "source": [
    "await cwfs.attcs.atpneumatics.cmd_openM1CellVents.start()"
   ]
  },
  {
   "cell_type": "code",
   "execution_count": 91,
   "metadata": {},
   "outputs": [
    {
     "data": {
      "text/plain": [
       "<ddsutil.ATPneumatics_ackcmd_5f8ca45f at 0x7f203b9fc4d0>"
      ]
     },
     "execution_count": 91,
     "metadata": {},
     "output_type": "execute_result"
    },
    {
     "name": "stdout",
     "output_type": "stream",
     "text": [
      "private_revCode: cda6bcee, private_sndStamp: 1584222368.7593048, private_rcvStamp: 1584222405.7633266, private_seqNum: 3536174, private_origin: 6415, private_host: 1, position: 2, priority: 0\n",
      "private_revCode: cda6bcee, private_sndStamp: 1584222373.7942865, private_rcvStamp: 1584222410.7951088, private_seqNum: 3536202, private_origin: 6415, private_host: 1, position: 1, priority: 0\n",
      "RemoteEvent(ATMCS, 0, heartbeat) falling behind; read 11 messages\n"
     ]
    }
   ],
   "source": [
    "await cwfs.attcs.atpneumatics.cmd_closeM1CellVents.start()"
   ]
  },
  {
   "cell_type": "code",
   "execution_count": 93,
   "metadata": {},
   "outputs": [
    {
     "name": "stdout",
     "output_type": "stream",
     "text": [
      "Enabling all components\n",
      "All components enabled.\n"
     ]
    }
   ],
   "source": [
    "await cwfs.attcs.enable()"
   ]
  },
  {
   "cell_type": "code",
   "execution_count": 94,
   "metadata": {},
   "outputs": [
    {
     "data": {
      "text/plain": [
       "<ddsutil.ATDomeTrajectory_ackcmd_e411e587 at 0x7f204f99b1d0>"
      ]
     },
     "execution_count": 94,
     "metadata": {},
     "output_type": "execute_result"
    }
   ],
   "source": [
    "await cwfs.attcs.atdometrajectory.cmd_enable.start()"
   ]
  },
  {
   "cell_type": "code",
   "execution_count": 95,
   "metadata": {},
   "outputs": [
    {
     "data": {
      "text/plain": [
       "<ddsutil.ATAOS_ackcmd_33d5c92b at 0x7f204fc86d90>"
      ]
     },
     "execution_count": 95,
     "metadata": {},
     "output_type": "execute_result"
    }
   ],
   "source": [
    "await cwfs.attcs.ataos.cmd_enableCorrection.set_start(hexapod=True, m1=True)"
   ]
  },
  {
   "cell_type": "code",
   "execution_count": null,
   "metadata": {},
   "outputs": [],
   "source": [
    "await cwfs.attcs.atdome.cmd_"
   ]
  },
  {
   "cell_type": "code",
   "execution_count": null,
   "metadata": {},
   "outputs": [],
   "source": []
  }
 ],
 "metadata": {
  "kernelspec": {
   "display_name": "LSST",
   "language": "python",
   "name": "lsst"
  },
  "language_info": {
   "codemirror_mode": {
    "name": "ipython",
    "version": 3
   },
   "file_extension": ".py",
   "mimetype": "text/x-python",
   "name": "python",
   "nbconvert_exporter": "python",
   "pygments_lexer": "ipython3",
   "version": "3.7.6"
  }
 },
 "nbformat": 4,
 "nbformat_minor": 4
}
