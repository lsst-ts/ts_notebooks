{
 "cells": [
  {
   "cell_type": "code",
   "execution_count": null,
   "metadata": {},
   "outputs": [],
   "source": [
    "import yaml"
   ]
  },
  {
   "cell_type": "code",
   "execution_count": null,
   "metadata": {},
   "outputs": [],
   "source": [
    "configuration = yaml.safe_dump({\"object_name\": 'HD 74576', \n",
    "                                \"acq_filter\" : 'BG40',\n",
    "                                \"acq_grating\" : 'empty_1',\n",
    "                                \"exposure_time_sequence\" : [45, 45, 45, 45, 3, 20, 3, 20], \n",
    "                                \"filter_sequence\": ['empty_1','quadnotch1','BG40', 'BG40','RG610','RG610'], \n",
    "                                \"grating_sequence\": ['ronchi90lpmm','ronchi90lpmm','ronchi90lpmm','ronchi90lpmm','empty_1','empty_1','empty_1','empty_1'],\n",
    "                                \"doPointingModel\": False,\n",
    "                                \"dataPath\": '/project/shared/auxTel/rerun/quickLook'})"
   ]
  },
  {
   "cell_type": "code",
   "execution_count": null,
   "metadata": {},
   "outputs": [],
   "source": [
    "print(configuration)"
   ]
  },
  {
   "cell_type": "code",
   "execution_count": 3,
   "metadata": {},
   "outputs": [],
   "source": [
    "import os\n",
    "from operator import itemgetter\n",
    "import logging\n",
    "\n",
    "import lsst.afw.cameraGeom.utils as cameraGeomUtils\n",
    "import lsst.afw.display as afwDisplay\n",
    "import lsst.daf.persistence as dafPersist\n",
    "from lsst.ip.isr import AssembleCcdTask"
   ]
  },
  {
   "cell_type": "code",
   "execution_count": 4,
   "metadata": {},
   "outputs": [],
   "source": [
    "os.environ['FIREFLY_HTML'] = \"slate.html\"\n",
    "os.environ['FIREFLY_URL'] = 'http://139.229.170.210:8080/firefly'"
   ]
  },
  {
   "cell_type": "code",
   "execution_count": 5,
   "metadata": {},
   "outputs": [],
   "source": [
    "dataPath = \"/project/shared/auxTel\"\n",
    "butler = dafPersist.Butler(dataPath)"
   ]
  },
  {
   "cell_type": "code",
   "execution_count": null,
   "metadata": {},
   "outputs": [],
   "source": [
    "dataId = dict(visit=)\n",
    "\n",
    "raw = butler.get('raw', dataId)"
   ]
  }
 ],
 "metadata": {
  "kernelspec": {
   "display_name": "LSST",
   "language": "python",
   "name": "lsst"
  },
  "language_info": {
   "codemirror_mode": {
    "name": "ipython",
    "version": 3
   },
   "file_extension": ".py",
   "mimetype": "text/x-python",
   "name": "python",
   "nbconvert_exporter": "python",
   "pygments_lexer": "ipython3",
   "version": "3.7.6"
  }
 },
 "nbformat": 4,
 "nbformat_minor": 4
}
