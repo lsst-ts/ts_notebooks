{
 "cells": [
  {
   "cell_type": "code",
   "execution_count": 1,
   "metadata": {},
   "outputs": [
    {
     "name": "stdout",
     "output_type": "stream",
     "text": [
      "Could not import Simbad. slew_object will not work. Install it with pip install astroquery.\n"
     ]
    }
   ],
   "source": [
    "import sys\n",
    "import asyncio\n",
    "import logging\n",
    "\n",
    "import numpy as np\n",
    "\n",
    "from lsst.ts import salobj\n",
    "\n",
    "\n",
    "from lsst.ts.standardscripts.auxtel.attcs import ATTCS\n",
    "from lsst.ts.standardscripts.auxtel.latiss import LATISS"
   ]
  },
  {
   "cell_type": "code",
   "execution_count": 2,
   "metadata": {},
   "outputs": [],
   "source": [
    "stream_handler = logging.StreamHandler(sys.stdout)\n",
    "\n",
    "logger = logging.getLogger()\n",
    "logger.addHandler(stream_handler)\n",
    "logger.level = logging.DEBUG"
   ]
  },
  {
   "cell_type": "code",
   "execution_count": 3,
   "metadata": {},
   "outputs": [],
   "source": [
    "attcs = ATTCS()\n",
    "latiss = LATISS(attcs.domain)"
   ]
  },
  {
   "cell_type": "code",
   "execution_count": 4,
   "metadata": {},
   "outputs": [
    {
     "name": "stdout",
     "output_type": "stream",
     "text": [
      "Read historical data in 0.02 sec\n",
      "Read historical data in 0.16 sec\n",
      "Read historical data in 0.45 sec\n",
      "Read historical data in 0.53 sec\n",
      "Read historical data in 0.62 sec\n",
      "Read historical data in 0.70 sec\n",
      "Read historical data in 1.16 sec\n",
      "Read historical data in 1.82 sec\n",
      "Read historical data in 1.89 sec\n",
      "Read historical data in 2.08 sec\n",
      "Read historical data in 4.11 sec\n"
     ]
    },
    {
     "data": {
      "text/plain": [
       "[[None, None, None, None, None, None, None], [None, None, None, None]]"
      ]
     },
     "execution_count": 4,
     "metadata": {},
     "output_type": "execute_result"
    }
   ],
   "source": [
    "await asyncio.gather(attcs.start_task, latiss.start_task)"
   ]
  },
  {
   "cell_type": "code",
   "execution_count": 5,
   "metadata": {},
   "outputs": [
    {
     "name": "stdout",
     "output_type": "stream",
     "text": [
      "Gathering settings.\n",
      "No settings for atmcs.\n",
      "Using                                                                                                                                 from settingVersions event.\n",
      "No settings for atptg.\n",
      "Couldn't get settingVersions event. Using empty settings.\n",
      "No settings for ataos.\n",
      "Using current from settingVersions event.\n",
      "No settings for atpneumatics.\n",
      "Using                                                                                                                                 from settingVersions event.\n",
      "No settings for athexapod.\n",
      "Using current from settingVersions event.\n",
      "No settings for atdome.\n",
      "Using test from settingVersions event.\n",
      "No settings for atdometrajectory.\n",
      "Using  from settingVersions event.\n",
      "Settings versions: {'atmcs': '                                                                                                                               ', 'atptg': '', 'ataos': 'current', 'atpneumatics': '                                                                                                                               ', 'athexapod': 'current', 'atdome': 'test', 'atdometrajectory': ''}\n",
      "Enabling all components\n",
      "Enabling  atmcs\n",
      "Enabling  atptg\n",
      "Enabling  ataos\n",
      "Enabling  atpneumatics\n",
      "Enabling  athexapod\n",
      "Enabling  atdome\n",
      "Enabling  atdometrajectory\n",
      "[atmcs]::[<State.STANDBY: 5>, <State.DISABLED: 1>, <State.ENABLED: 2>]\n",
      "[atptg]::[<State.STANDBY: 5>, <State.DISABLED: 1>, <State.ENABLED: 2>]\n",
      "[ataos]::[<State.STANDBY: 5>, <State.DISABLED: 1>, <State.ENABLED: 2>]\n",
      "[atpneumatics]::[<State.STANDBY: 5>, <State.DISABLED: 1>, <State.ENABLED: 2>]\n",
      "[athexapod]::[<State.STANDBY: 5>, <State.DISABLED: 1>, <State.ENABLED: 2>]\n",
      "[atdome]::[<State.STANDBY: 5>, <State.DISABLED: 1>, <State.ENABLED: 2>]\n",
      "[atdometrajectory]::[<State.STANDBY: 5>, <State.DISABLED: 1>, <State.ENABLED: 2>]\n",
      "All components enabled.\n"
     ]
    }
   ],
   "source": [
    "await attcs.enable()"
   ]
  },
  {
   "cell_type": "code",
   "execution_count": null,
   "metadata": {},
   "outputs": [],
   "source": [
    "await latiss.enable()"
   ]
  },
  {
   "cell_type": "code",
   "execution_count": null,
   "metadata": {},
   "outputs": [],
   "source": [
    "await attcs.prepare_for_flatfield()"
   ]
  },
  {
   "cell_type": "code",
   "execution_count": 6,
   "metadata": {},
   "outputs": [],
   "source": [
    "time = await attcs.atptg.tel_timeAndDate.aget()"
   ]
  },
  {
   "cell_type": "code",
   "execution_count": 7,
   "metadata": {},
   "outputs": [
    {
     "name": "stdout",
     "output_type": "stream",
     "text": [
      "Sending command\n",
      "Stop tracking.\n",
      "Mount tracking state is 10\n",
      "Tracking state: 5.\n",
      "Tracking state: 6.\n",
      "Tracking state: 10.\n",
      "RemoteTelemetry(ATDome, 0, position) falling behind; read 11 messages\n",
      "RemoteTelemetry(ATPtg, 0, currentTargetStatus) falling behind; read 11 messages\n",
      "RemoteTelemetry(ATPtg, 0, timeAndDate) falling behind; read 11 messages\n",
      "RemoteEvent(ATDome, 0, doorEncoderExtremes) falling behind; read 11 messages\n",
      "RemoteTelemetry(ATPtg, 0, mountStatus) falling behind; read 11 messages\n",
      "RemoteTelemetry(ATPtg, 0, guidingAndOffsets) falling behind; read 11 messages\n",
      "Scheduling check coroutines\n",
      "process as completed...\n",
      "Got False\n",
      "Telescope not in position\n",
      "atmcs: <State.ENABLED: 2>\n",
      "atptg: <State.ENABLED: 2>\n",
      "ataos: <State.ENABLED: 2>\n",
      "atpneumatics: <State.ENABLED: 2>\n",
      "athexapod: <State.ENABLED: 2>\n",
      "atdome: <State.ENABLED: 2>\n",
      "atdometrajectory: <State.ENABLED: 2>\n",
      "[Telescope] delta Alt = -000.229 | delta Az= -000.293 [Dome] delta Az = +071.742\n",
      "[Telescope] delta Alt = -000.000 | delta Az= +000.013 [Dome] delta Az = +071.052\n",
      "[Telescope] delta Alt = +000.000 | delta Az= +000.014 [Dome] delta Az = +069.632\n",
      "[Telescope] delta Alt = +000.000 | delta Az= -000.005 [Dome] delta Az = +068.262\n",
      "[Telescope] delta Alt = +000.000 | delta Az= +000.012 [Dome] delta Az = +065.552\n",
      "[Telescope] delta Alt = +000.000 | delta Az= +000.015 [Dome] delta Az = +061.672\n",
      "[Telescope] delta Alt = -000.000 | delta Az= +000.014 [Dome] delta Az = +056.842\n",
      "[Telescope] delta Alt = -000.000 | delta Az= +000.012 [Dome] delta Az = +051.072\n",
      "[Telescope] delta Alt = -000.000 | delta Az= +000.011 [Dome] delta Az = +045.122\n",
      "[Telescope] delta Alt = -000.000 | delta Az= +000.015 [Dome] delta Az = +038.172\n",
      "[Telescope] delta Alt = -000.000 | delta Az= +000.013 [Dome] delta Az = +031.192\n",
      "[Telescope] delta Alt = +000.000 | delta Az= +000.012 [Dome] delta Az = +024.932\n",
      "[Telescope] delta Alt = +000.000 | delta Az= +000.015 [Dome] delta Az = +017.972\n",
      "[Telescope] delta Alt = -000.000 | delta Az= +000.015 [Dome] delta Az = +010.992\n",
      "[Telescope] delta Alt = +000.000 | delta Az= +000.013 [Dome] delta Az = +004.712\n",
      "[Telescope] delta Alt = +000.000 | delta Az= +000.016 [Dome] delta Az = -000.788\n",
      "[Telescope] delta Alt = -000.000 | delta Az= +000.015 [Dome] delta Az = -002.998\n",
      "[Telescope] delta Alt = +000.000 | delta Az= +000.014 [Dome] delta Az = -003.058\n",
      "[Telescope] delta Alt = +000.000 | delta Az= +000.017 [Dome] delta Az = -003.058\n",
      "[Telescope] delta Alt = +000.000 | delta Az= +000.016 [Dome] delta Az = -003.058\n",
      "[Telescope] delta Alt = +000.000 | delta Az= +000.015 [Dome] delta Az = -003.058\n",
      "[Telescope] delta Alt = +000.000 | delta Az= +000.012 [Dome] delta Az = -003.058\n",
      "[Telescope] delta Alt = +000.000 | delta Az= +000.016 [Dome] delta Az = -003.058\n",
      "[Telescope] delta Alt = +000.000 | delta Az= +000.014 [Dome] delta Az = -003.058\n",
      "[Telescope] delta Alt = +000.000 | delta Az= +000.013 [Dome] delta Az = -003.058\n",
      "[Telescope] delta Alt = +000.000 | delta Az= +000.017 [Dome] delta Az = -003.058\n",
      "[Telescope] delta Alt = +000.000 | delta Az= +000.016 [Dome] delta Az = -003.058\n",
      "[Telescope] delta Alt = +000.000 | delta Az= +000.013 [Dome] delta Az = -003.058\n",
      "[Telescope] delta Alt = +000.000 | delta Az= +000.016 [Dome] delta Az = -003.058\n",
      "[Telescope] delta Alt = +000.000 | delta Az= +000.015 [Dome] delta Az = -003.058\n",
      "[Telescope] delta Alt = +000.000 | delta Az= +000.014 [Dome] delta Az = -003.058\n",
      "[Telescope] delta Alt = +000.000 | delta Az= +000.013 [Dome] delta Az = -003.058\n",
      "[Telescope] delta Alt = +000.000 | delta Az= +000.011 [Dome] delta Az = -003.058\n",
      "[Telescope] delta Alt = +000.000 | delta Az= +000.015 [Dome] delta Az = -003.058\n",
      "[Telescope] delta Alt = +000.000 | delta Az= +000.014 [Dome] delta Az = -003.058\n",
      "[Telescope] delta Alt = +000.000 | delta Az= +000.012 [Dome] delta Az = -003.058\n",
      "[Telescope] delta Alt = +000.000 | delta Az= +000.014 [Dome] delta Az = -003.058\n",
      "[Telescope] delta Alt = +000.000 | delta Az= +000.013 [Dome] delta Az = -003.058\n",
      "[Telescope] delta Alt = +000.000 | delta Az= +000.012 [Dome] delta Az = -003.058\n",
      "[Telescope] delta Alt = +000.000 | delta Az= +000.016 [Dome] delta Az = -003.058\n",
      "[Telescope] delta Alt = +000.000 | delta Az= +000.014 [Dome] delta Az = -003.058\n",
      "[Telescope] delta Alt = -000.000 | delta Az= -000.004 [Dome] delta Az = -003.058\n",
      "[Telescope] delta Alt = +000.000 | delta Az= +000.012 [Dome] delta Az = -003.058\n",
      "[Telescope] delta Alt = +000.000 | delta Az= +000.011 [Dome] delta Az = -003.058\n",
      "[Telescope] delta Alt = +000.000 | delta Az= +000.015 [Dome] delta Az = -003.058\n",
      "[Telescope] delta Alt = +000.000 | delta Az= +000.017 [Dome] delta Az = -003.058\n",
      "[Telescope] delta Alt = +000.000 | delta Az= +000.016 [Dome] delta Az = -003.058\n",
      "[Telescope] delta Alt = +000.000 | delta Az= +000.014 [Dome] delta Az = -003.058\n",
      "Got True\n",
      "Waiting for telescope to settle.\n",
      "[Telescope] delta Alt = +000.000 | delta Az= +000.013 [Dome] delta Az = -003.058\n",
      "[Telescope] delta Alt = +000.000 | delta Az= +000.012 [Dome] delta Az = -003.058\n",
      "Telescope in position.\n",
      "ATDome in position.\n",
      "['Telescope in position.', 'ATDome in position.']\n"
     ]
    }
   ],
   "source": [
    "await attcs.slew_icrs(ra=time.lst, dec=-20., slew_timeout=120)"
   ]
  },
  {
   "cell_type": "code",
   "execution_count": 8,
   "metadata": {},
   "outputs": [],
   "source": [
    "def print_inposition(data):\n",
    "    print(data)"
   ]
  },
  {
   "cell_type": "code",
   "execution_count": 9,
   "metadata": {},
   "outputs": [],
   "source": [
    "attcs.atmcs.evt_allAxesInPosition.callback = print_inposition"
   ]
  },
  {
   "cell_type": "code",
   "execution_count": 13,
   "metadata": {},
   "outputs": [
    {
     "name": "stdout",
     "output_type": "stream",
     "text": [
      "Applying Az/El offset: 10.0/ 10.0 \n",
      "Waiting for telescope to settle.\n",
      "private_revCode: 65585257, private_sndStamp: 1583786351.7269433, private_rcvStamp: 1583786388.727237, private_seqNum: 6023187, private_origin: 6396, private_host: 1, inPosition: False, priority: 0\n",
      "Done\n",
      "private_revCode: 65585257, private_sndStamp: 1583786352.7129724, private_rcvStamp: 1583786389.7135062, private_seqNum: 6023216, private_origin: 6396, private_host: 1, inPosition: True, priority: 0\n",
      "private_revCode: 65585257, private_sndStamp: 1583786353.7104125, private_rcvStamp: 1583786390.710717, private_seqNum: 6023247, private_origin: 6396, private_host: 1, inPosition: False, priority: 0\n",
      "private_revCode: 65585257, private_sndStamp: 1583786354.7133527, private_rcvStamp: 1583786391.7134874, private_seqNum: 6023277, private_origin: 6396, private_host: 1, inPosition: True, priority: 0\n",
      "private_revCode: 65585257, private_sndStamp: 1583786387.7179997, private_rcvStamp: 1583786424.7217553, private_seqNum: 6024236, private_origin: 6396, private_host: 1, inPosition: False, priority: 0\n",
      "private_revCode: 65585257, private_sndStamp: 1583786388.7257638, private_rcvStamp: 1583786425.725926, private_seqNum: 6024267, private_origin: 6396, private_host: 1, inPosition: True, priority: 0\n",
      "private_revCode: 65585257, private_sndStamp: 1583786391.7377641, private_rcvStamp: 1583786428.7382815, private_seqNum: 6024356, private_origin: 6396, private_host: 1, inPosition: False, priority: 0\n",
      "private_revCode: 65585257, private_sndStamp: 1583786392.7063105, private_rcvStamp: 1583786429.7064693, private_seqNum: 6024385, private_origin: 6396, private_host: 1, inPosition: True, priority: 0\n",
      "private_revCode: 65585257, private_sndStamp: 1583786409.7092035, private_rcvStamp: 1583786446.7096982, private_seqNum: 6024883, private_origin: 6396, private_host: 1, inPosition: False, priority: 0\n",
      "private_revCode: 65585257, private_sndStamp: 1583786410.7122192, private_rcvStamp: 1583786447.7127297, private_seqNum: 6024913, private_origin: 6396, private_host: 1, inPosition: True, priority: 0\n",
      "private_revCode: 65585257, private_sndStamp: 1583786412.7088122, private_rcvStamp: 1583786449.7093284, private_seqNum: 6024973, private_origin: 6396, private_host: 1, inPosition: False, priority: 0\n",
      "private_revCode: 65585257, private_sndStamp: 1583786414.7128923, private_rcvStamp: 1583786451.713092, private_seqNum: 6025033, private_origin: 6396, private_host: 1, inPosition: True, priority: 0\n",
      "private_revCode: 65585257, private_sndStamp: 1583786418.729127, private_rcvStamp: 1583786455.7292688, private_seqNum: 6025153, private_origin: 6396, private_host: 1, inPosition: False, priority: 0\n",
      "private_revCode: 65585257, private_sndStamp: 1583786419.707478, private_rcvStamp: 1583786456.7076206, private_seqNum: 6025182, private_origin: 6396, private_host: 1, inPosition: True, priority: 0\n",
      "private_revCode: 65585257, private_sndStamp: 1583786443.7114794, private_rcvStamp: 1583786480.7117436, private_seqNum: 6025882, private_origin: 6396, private_host: 1, inPosition: False, priority: 0\n",
      "private_revCode: 65585257, private_sndStamp: 1583786444.7150183, private_rcvStamp: 1583786481.7151773, private_seqNum: 6025913, private_origin: 6396, private_host: 1, inPosition: True, priority: 0\n"
     ]
    }
   ],
   "source": [
    "await attcs.offset_azel(10., 10.)"
   ]
  },
  {
   "cell_type": "code",
   "execution_count": 17,
   "metadata": {},
   "outputs": [
    {
     "name": "stdout",
     "output_type": "stream",
     "text": [
      "Applying Az/El offset: 0.0/ 0.0 \n",
      "Waiting for telescope to settle.\n",
      "Done\n",
      "private_revCode: 65585257, private_sndStamp: 1583786556.7248015, private_rcvStamp: 1583786593.7249515, private_seqNum: 6029173, private_origin: 6396, private_host: 1, inPosition: False, priority: 0\n",
      "private_revCode: 65585257, private_sndStamp: 1583786557.7153356, private_rcvStamp: 1583786594.7155013, private_seqNum: 6029203, private_origin: 6396, private_host: 1, inPosition: True, priority: 0\n",
      "private_revCode: 65585257, private_sndStamp: 1583786562.7068315, private_rcvStamp: 1583786599.7070196, private_seqNum: 6029351, private_origin: 6396, private_host: 1, inPosition: False, priority: 0\n",
      "private_revCode: 65585257, private_sndStamp: 1583786563.7088249, private_rcvStamp: 1583786600.7089114, private_seqNum: 6029382, private_origin: 6396, private_host: 1, inPosition: True, priority: 0\n",
      "private_revCode: 65585257, private_sndStamp: 1583786564.7139077, private_rcvStamp: 1583786601.714416, private_seqNum: 6029413, private_origin: 6396, private_host: 1, inPosition: False, priority: 0\n",
      "private_revCode: 65585257, private_sndStamp: 1583786565.7229686, private_rcvStamp: 1583786602.7231798, private_seqNum: 6029443, private_origin: 6396, private_host: 1, inPosition: True, priority: 0\n",
      "private_revCode: 65585257, private_sndStamp: 1583786600.712331, private_rcvStamp: 1583786637.7130823, private_seqNum: 6030462, private_origin: 6396, private_host: 1, inPosition: False, priority: 0\n",
      "private_revCode: 65585257, private_sndStamp: 1583786601.711462, private_rcvStamp: 1583786638.7118042, private_seqNum: 6030492, private_origin: 6396, private_host: 1, inPosition: True, priority: 0\n",
      "private_revCode: 65585257, private_sndStamp: 1583786638.7103436, private_rcvStamp: 1583786675.7108233, private_seqNum: 6031568, private_origin: 6396, private_host: 1, inPosition: False, priority: 0\n",
      "private_revCode: 65585257, private_sndStamp: 1583786639.7071426, private_rcvStamp: 1583786676.7077172, private_seqNum: 6031597, private_origin: 6396, private_host: 1, inPosition: True, priority: 0\n",
      "private_revCode: 65585257, private_sndStamp: 1583786643.7081234, private_rcvStamp: 1583786680.7086992, private_seqNum: 6031716, private_origin: 6396, private_host: 1, inPosition: False, priority: 0\n",
      "private_revCode: 65585257, private_sndStamp: 1583786644.711935, private_rcvStamp: 1583786681.712178, private_seqNum: 6031746, private_origin: 6396, private_host: 1, inPosition: True, priority: 0\n",
      "private_revCode: 65585257, private_sndStamp: 1583786715.7094715, private_rcvStamp: 1583786752.7096481, private_seqNum: 6033805, private_origin: 6396, private_host: 1, inPosition: False, priority: 0\n",
      "private_revCode: 65585257, private_sndStamp: 1583786716.7122455, private_rcvStamp: 1583786753.7138343, private_seqNum: 6033835, private_origin: 6396, private_host: 1, inPosition: True, priority: 0\n",
      "private_revCode: 65585257, private_sndStamp: 1583786718.77234, private_rcvStamp: 1583786755.7736807, private_seqNum: 6033896, private_origin: 6396, private_host: 1, inPosition: False, priority: 0\n",
      "private_revCode: 65585257, private_sndStamp: 1583786719.7092173, private_rcvStamp: 1583786756.7093694, private_seqNum: 6033926, private_origin: 6396, private_host: 1, inPosition: True, priority: 0\n",
      "private_revCode: 65585257, private_sndStamp: 1583786794.7106783, private_rcvStamp: 1583786831.7112255, private_seqNum: 6036104, private_origin: 6396, private_host: 1, inPosition: False, priority: 0\n",
      "private_revCode: 65585257, private_sndStamp: 1583786795.7156248, private_rcvStamp: 1583786832.7158022, private_seqNum: 6036135, private_origin: 6396, private_host: 1, inPosition: True, priority: 0\n",
      "private_revCode: 65585257, private_sndStamp: 1583786835.711913, private_rcvStamp: 1583786872.712204, private_seqNum: 6037296, private_origin: 6396, private_host: 1, inPosition: False, priority: 0\n",
      "private_revCode: 65585257, private_sndStamp: 1583786836.7099094, private_rcvStamp: 1583786873.7102368, private_seqNum: 6037326, private_origin: 6396, private_host: 1, inPosition: True, priority: 0\n",
      "private_revCode: 65585257, private_sndStamp: 1583786859.7310815, private_rcvStamp: 1583786896.7311845, private_seqNum: 6037995, private_origin: 6396, private_host: 1, inPosition: False, priority: 0\n",
      "private_revCode: 65585257, private_sndStamp: 1583786860.7138946, private_rcvStamp: 1583786897.7142065, private_seqNum: 6038026, private_origin: 6396, private_host: 1, inPosition: True, priority: 0\n",
      "private_revCode: 65585257, private_sndStamp: 1583786901.7214832, private_rcvStamp: 1583786938.7218196, private_seqNum: 6039215, private_origin: 6396, private_host: 1, inPosition: False, priority: 0\n",
      "private_revCode: 65585257, private_sndStamp: 1583786902.7096097, private_rcvStamp: 1583786939.709802, private_seqNum: 6039245, private_origin: 6396, private_host: 1, inPosition: True, priority: 0\n"
     ]
    }
   ],
   "source": [
    "await attcs.offset_azel(0., 0.)"
   ]
  },
  {
   "cell_type": "code",
   "execution_count": null,
   "metadata": {},
   "outputs": [],
   "source": [
    "await attcs.stop_tracking()"
   ]
  },
  {
   "cell_type": "code",
   "execution_count": null,
   "metadata": {},
   "outputs": [],
   "source": [
    "await salobj.set_summary_state(attcs.atdometrajectory, salobj.State.STANDBY)"
   ]
  },
  {
   "cell_type": "code",
   "execution_count": null,
   "metadata": {},
   "outputs": [],
   "source": [
    "attcs.dome_az_in_position.clear()\n",
    "await attcs.slew_dome_to(100.)"
   ]
  },
  {
   "cell_type": "code",
   "execution_count": 18,
   "metadata": {},
   "outputs": [
    {
     "name": "stdout",
     "output_type": "stream",
     "text": [
      "Disabling ATAOS corrections\n",
      "Disable ATDomeTrajectory\n",
      "Slew telescope to Park position.\n",
      "Sending command\n",
      "Stop tracking.\n",
      "Mount tracking state is 9\n",
      "Scheduling check coroutines\n",
      "process as completed...\n",
      "atmcs: <State.ENABLED: 2>\n",
      "atptg: <State.ENABLED: 2>\n",
      "ataos: <State.ENABLED: 2>\n",
      "atpneumatics: <State.ENABLED: 2>\n",
      "athexapod: <State.ENABLED: 2>\n",
      "RuntimeError, cancel_not_done.\n",
      "Failed to slew telescope to park position. Continuing...\n",
      "Not allowed because there is a callback function\n",
      "Traceback (most recent call last):\n",
      "  File \"/home/saluser/repos/ts_standardscripts/python/lsst/ts/standardscripts/auxtel/attcs.py\", line 647, in shutdown\n",
      "    wait_dome=False)\n",
      "  File \"/home/saluser/repos/ts_standardscripts/python/lsst/ts/standardscripts/auxtel/attcs.py\", line 131, in point_azel\n",
      "    raise e\n",
      "  File \"/home/saluser/repos/ts_standardscripts/python/lsst/ts/standardscripts/auxtel/attcs.py\", line 128, in point_azel\n",
      "    slew_timeout=slew_timeout)\n",
      "  File \"/home/saluser/repos/ts_standardscripts/python/lsst/ts/standardscripts/auxtel/attcs.py\", line 852, in _slew_to\n",
      "    raise rte\n",
      "  File \"/home/saluser/repos/ts_standardscripts/python/lsst/ts/standardscripts/auxtel/attcs.py\", line 847, in _slew_to\n",
      "    ret_val = await res\n",
      "  File \"/opt/lsst/software/stack/python/miniconda3-4.7.10/envs/lsst-scipipe-4d7b902/lib/python3.7/asyncio/tasks.py\", line 533, in _wait_for_one\n",
      "    return f.result()  # May raise f.exception().\n",
      "  File \"/home/saluser/repos/ts_standardscripts/python/lsst/ts/standardscripts/auxtel/attcs.py\", line 933, in wait_for_inposition\n",
      "    status.append(await self.wait_for_atmcs_inposition(timeout, cmd_ack))\n",
      "  File \"/home/saluser/repos/ts_standardscripts/python/lsst/ts/standardscripts/auxtel/attcs.py\", line 962, in wait_for_atmcs_inposition\n",
      "    in_position = await self.atmcs.evt_allAxesInPosition.aget(timeout=timeout)\n",
      "  File \"/home/saluser/repos/ts_salobj/python/lsst/ts/salobj/topics/read_topic.py\", line 305, in aget\n",
      "    raise RuntimeError(\"Not allowed because there is a callback function\")\n",
      "RuntimeError: Not allowed because there is a callback function\n",
      "Cover state <MirrorCoverState.CLOSED: 6>\n",
      "M1 cover already closed.\n",
      "Close dome.\n",
      "ATDome Shutter Door is already closed. Ignoring.\n",
      "Slew dome to Park position.\n",
      "atdometrajectory: <State.DISABLED: 1>\n",
      "[Dome] delta Az = -046.530\n",
      "[Dome] delta Az = -046.410\n",
      "[Dome] delta Az = -046.050\n",
      "private_revCode: 65585257, private_sndStamp: 1583786959.7142146, private_rcvStamp: 1583786996.7162304, private_seqNum: 6040902, private_origin: 6396, private_host: 1, inPosition: False, priority: 0\n",
      "[Dome] delta Az = -045.450\n",
      "[Dome] delta Az = -044.610\n",
      "[Dome] delta Az = -043.550\n",
      "[Dome] delta Az = -042.250\n",
      "[Dome] delta Az = -040.690\n",
      "[Dome] delta Az = -038.910\n",
      "[Dome] delta Az = -036.900\n",
      "[Dome] delta Az = -034.650\n",
      "[Dome] delta Az = -032.160\n",
      "[Dome] delta Az = -029.440\n",
      "[Dome] delta Az = -026.510\n",
      "[Dome] delta Az = -023.330\n",
      "[Dome] delta Az = -019.930\n",
      "[Dome] delta Az = -016.460\n",
      "[Dome] delta Az = -012.950\n",
      "[Dome] delta Az = -009.490\n",
      "[Dome] delta Az = -006.010\n",
      "[Dome] delta Az = -002.610\n",
      "ATDome in position.\n",
      "Put all CSCs in standby\n",
      "Unable to put atmcs in STANDBY\n",
      "Error on cmd=cmd_disable, initial_state=2: msg='Command failed', ackcmd=(ackcmd private_seqNum=208837248, ack=<SalRetCode.CMD_NOPERM: -300>, error=0, result='ERROR: Command disable rejected while in TrackingEnabledState state.')\n",
      "NoneType: None\n",
      "[atptg]::[<State.ENABLED: 2>, <State.DISABLED: 1>, <State.STANDBY: 5>]\n",
      "[ataos]::[<State.ENABLED: 2>, <State.DISABLED: 1>, <State.STANDBY: 5>]\n",
      "[atpneumatics]::[<State.ENABLED: 2>, <State.DISABLED: 1>, <State.STANDBY: 5>]\n",
      "[athexapod]::[<State.ENABLED: 2>, <State.DISABLED: 1>, <State.STANDBY: 5>]\n",
      "[atdome]::[<State.ENABLED: 2>, <State.DISABLED: 1>, <State.STANDBY: 5>]\n",
      "[atdometrajectory]::[<State.DISABLED: 1>, <State.STANDBY: 5>]\n"
     ]
    },
    {
     "ename": "RuntimeError",
     "evalue": "Unable to put atmcs in STANDBY\n",
     "output_type": "error",
     "traceback": [
      "\u001b[0;31m\u001b[0m",
      "\u001b[0;31mRuntimeError\u001b[0mTraceback (most recent call last)",
      "\u001b[0;32m<ipython-input-18-482c82ed2a14>\u001b[0m in \u001b[0;36masync-def-wrapper\u001b[0;34m()\u001b[0m\n",
      "\u001b[0;32m~/repos/ts_standardscripts/python/lsst/ts/standardscripts/auxtel/attcs.py\u001b[0m in \u001b[0;36mshutdown\u001b[0;34m(self)\u001b[0m\n\u001b[1;32m    664\u001b[0m         \u001b[0mself\u001b[0m\u001b[0;34m.\u001b[0m\u001b[0mlog\u001b[0m\u001b[0;34m.\u001b[0m\u001b[0minfo\u001b[0m\u001b[0;34m(\u001b[0m\u001b[0;34m\"Put all CSCs in standby\"\u001b[0m\u001b[0;34m)\u001b[0m\u001b[0;34m\u001b[0m\u001b[0;34m\u001b[0m\u001b[0m\n\u001b[1;32m    665\u001b[0m \u001b[0;34m\u001b[0m\u001b[0m\n\u001b[0;32m--> 666\u001b[0;31m         \u001b[0;32mawait\u001b[0m \u001b[0mself\u001b[0m\u001b[0;34m.\u001b[0m\u001b[0mstandby\u001b[0m\u001b[0;34m(\u001b[0m\u001b[0;34m)\u001b[0m\u001b[0;34m\u001b[0m\u001b[0;34m\u001b[0m\u001b[0m\n\u001b[0m\u001b[1;32m    667\u001b[0m \u001b[0;34m\u001b[0m\u001b[0m\n\u001b[1;32m    668\u001b[0m     \u001b[0;32masync\u001b[0m \u001b[0;32mdef\u001b[0m \u001b[0mopen_dome_shutter\u001b[0m\u001b[0;34m(\u001b[0m\u001b[0mself\u001b[0m\u001b[0;34m)\u001b[0m\u001b[0;34m:\u001b[0m\u001b[0;34m\u001b[0m\u001b[0;34m\u001b[0m\u001b[0m\n",
      "\u001b[0;32m~/repos/ts_standardscripts/python/lsst/ts/standardscripts/base_group.py\u001b[0m in \u001b[0;36mstandby\u001b[0;34m(self)\u001b[0m\n\u001b[1;32m    148\u001b[0m \u001b[0;34m\u001b[0m\u001b[0m\n\u001b[1;32m    149\u001b[0m         \u001b[0;32mif\u001b[0m \u001b[0merror_flag\u001b[0m\u001b[0;34m:\u001b[0m\u001b[0;34m\u001b[0m\u001b[0;34m\u001b[0m\u001b[0m\n\u001b[0;32m--> 150\u001b[0;31m             \u001b[0;32mraise\u001b[0m \u001b[0mRuntimeError\u001b[0m\u001b[0;34m(\u001b[0m\u001b[0merror_msg\u001b[0m\u001b[0;34m)\u001b[0m\u001b[0;34m\u001b[0m\u001b[0;34m\u001b[0m\u001b[0m\n\u001b[0m\u001b[1;32m    151\u001b[0m         \u001b[0;32melse\u001b[0m\u001b[0;34m:\u001b[0m\u001b[0;34m\u001b[0m\u001b[0;34m\u001b[0m\u001b[0m\n\u001b[1;32m    152\u001b[0m             \u001b[0mself\u001b[0m\u001b[0;34m.\u001b[0m\u001b[0mlog\u001b[0m\u001b[0;34m.\u001b[0m\u001b[0minfo\u001b[0m\u001b[0;34m(\u001b[0m\u001b[0;34m\"All components in standby.\"\u001b[0m\u001b[0;34m)\u001b[0m\u001b[0;34m\u001b[0m\u001b[0;34m\u001b[0m\u001b[0m\n",
      "\u001b[0;31mRuntimeError\u001b[0m: Unable to put atmcs in STANDBY\n"
     ]
    }
   ],
   "source": [
    "await attcs.shutdown()"
   ]
  },
  {
   "cell_type": "code",
   "execution_count": null,
   "metadata": {},
   "outputs": [],
   "source": []
  },
  {
   "cell_type": "code",
   "execution_count": 19,
   "metadata": {},
   "outputs": [
    {
     "name": "stdout",
     "output_type": "stream",
     "text": [
      "[atmcs]::[<State.ENABLED: 2>, <State.DISABLED: 1>, <State.STANDBY: 5>]\n",
      "[atptg]::[<State.STANDBY: 5>]\n",
      "[ataos]::[<State.STANDBY: 5>]\n",
      "[atpneumatics]::[<State.STANDBY: 5>]\n",
      "[athexapod]::[<State.STANDBY: 5>]\n",
      "[atdome]::[<State.STANDBY: 5>]\n",
      "[atdometrajectory]::[<State.STANDBY: 5>]\n",
      "All components in standby.\n"
     ]
    }
   ],
   "source": [
    "await attcs.standby()"
   ]
  },
  {
   "cell_type": "code",
   "execution_count": null,
   "metadata": {},
   "outputs": [],
   "source": [
    "await attcs.stop_tracking()"
   ]
  },
  {
   "cell_type": "code",
   "execution_count": null,
   "metadata": {},
   "outputs": [],
   "source": [
    "await attcs.close_m1_cover()"
   ]
  },
  {
   "cell_type": "code",
   "execution_count": null,
   "metadata": {},
   "outputs": [],
   "source": [
    "await attcs.athexapod.cmd_enable.set_start()"
   ]
  },
  {
   "cell_type": "code",
   "execution_count": null,
   "metadata": {},
   "outputs": [],
   "source": [
    "await attcs.slew_dome_to(90.)"
   ]
  },
  {
   "cell_type": "code",
   "execution_count": null,
   "metadata": {},
   "outputs": [],
   "source": [
    "await attcs.slew_dome_to"
   ]
  },
  {
   "cell_type": "code",
   "execution_count": null,
   "metadata": {},
   "outputs": [],
   "source": [
    "await salobj.set_summary_state(attcs.atdome, \n",
    "                               salobj.State.ENABLED, \n",
    "                               settingsToApply='test')"
   ]
  },
  {
   "cell_type": "code",
   "execution_count": null,
   "metadata": {},
   "outputs": [],
   "source": [
    "await attcs.standby"
   ]
  },
  {
   "cell_type": "code",
   "execution_count": null,
   "metadata": {},
   "outputs": [],
   "source": [
    "await attcs.atdome.cmd_homeAzimuth.start()"
   ]
  },
  {
   "cell_type": "code",
   "execution_count": null,
   "metadata": {},
   "outputs": [],
   "source": [
    "await salobj.set_summary_state(attcs.atdome, salobj.State.OFFLINE)"
   ]
  },
  {
   "cell_type": "code",
   "execution_count": 20,
   "metadata": {},
   "outputs": [
    {
     "data": {
      "text/plain": [
       "[<State.ENABLED: 2>, <State.DISABLED: 1>, <State.STANDBY: 5>]"
      ]
     },
     "execution_count": 20,
     "metadata": {},
     "output_type": "execute_result"
    }
   ],
   "source": [
    "await salobj.set_summary_state(latiss.atspectrograph, salobj.State.STANDBY)"
   ]
  },
  {
   "cell_type": "code",
   "execution_count": null,
   "metadata": {},
   "outputs": [],
   "source": []
  }
 ],
 "metadata": {
  "kernelspec": {
   "display_name": "Python 3",
   "language": "python",
   "name": "python3"
  },
  "language_info": {
   "codemirror_mode": {
    "name": "ipython",
    "version": 3
   },
   "file_extension": ".py",
   "mimetype": "text/x-python",
   "name": "python",
   "nbconvert_exporter": "python",
   "pygments_lexer": "ipython3",
   "version": "3.7.2"
  }
 },
 "nbformat": 4,
 "nbformat_minor": 4
}
