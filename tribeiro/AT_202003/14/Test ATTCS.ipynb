{
 "cells": [
  {
   "cell_type": "code",
   "execution_count": 1,
   "metadata": {},
   "outputs": [],
   "source": [
    "import os\n",
    "import sys\n",
    "import asyncio\n",
    "import logging\n",
    "\n",
    "import numpy as np\n",
    "\n",
    "from lsst.ts import salobj\n",
    "\n",
    "\n",
    "from lsst.ts.standardscripts.auxtel.attcs import ATTCS"
   ]
  },
  {
   "cell_type": "code",
   "execution_count": 2,
   "metadata": {},
   "outputs": [],
   "source": [
    "os.environ[\"LSST_DDS_DOMAIN\"] = 'lsatmcs'\n",
    "os.environ[\"OSPL_URI\"] = \"file:///home/tribeiro/ospl.xml\""
   ]
  },
  {
   "cell_type": "code",
   "execution_count": 3,
   "metadata": {},
   "outputs": [],
   "source": [
    "stream_handler = logging.StreamHandler(sys.stdout)\n",
    "\n",
    "logger = logging.getLogger()\n",
    "logger.addHandler(stream_handler)\n",
    "logger.level = logging.DEBUG"
   ]
  },
  {
   "cell_type": "code",
   "execution_count": 4,
   "metadata": {},
   "outputs": [],
   "source": [
    "attcs = ATTCS()"
   ]
  },
  {
   "cell_type": "code",
   "execution_count": 5,
   "metadata": {},
   "outputs": [
    {
     "name": "stdout",
     "output_type": "stream",
     "text": [
      "Read historical data in 3.35 sec\n",
      "Read historical data in 4.34 sec\n",
      "Read historical data in 5.25 sec\n",
      "Read historical data in 5.53 sec\n",
      "Read historical data in 6.88 sec\n",
      "Read historical data in 8.27 sec\n",
      "Read historical data in 11.65 sec\n",
      "RemoteEvent(ATAOS, 0, heartbeat) falling behind; read 10 messages\n"
     ]
    },
    {
     "data": {
      "text/plain": [
       "[None, None, None, None, None, None, None]"
      ]
     },
     "execution_count": 5,
     "metadata": {},
     "output_type": "execute_result"
    },
    {
     "name": "stdout",
     "output_type": "stream",
     "text": [
      "RemoteTelemetry(ATDome, 0, position) falling behind; read 31 messages\n",
      "RemoteEvent(ATDome, 0, doorEncoderExtremes) falling behind; read 34 messages\n"
     ]
    }
   ],
   "source": [
    "await attcs.start_task"
   ]
  },
  {
   "cell_type": "code",
   "execution_count": null,
   "metadata": {},
   "outputs": [],
   "source": [
    "await attcs.slew_icrs(ra=\"3h 21m 24.00s\", dec=\"-23:38:06.6\", rot_pa=0.0, target_name=\"HD 20894\", stop_before_slew=False)"
   ]
  },
  {
   "cell_type": "code",
   "execution_count": null,
   "metadata": {},
   "outputs": [],
   "source": [
    "await attcs.slew_icrs(ra=\"2h 57m 46.00s\", dec=\"+0 16 18.0\", rot_pa=-45.0, target_name=\"SA94 251\", stop_before_slew=False)"
   ]
  },
  {
   "cell_type": "code",
   "execution_count": null,
   "metadata": {},
   "outputs": [],
   "source": [
    "await attcs.stop_tracking()"
   ]
  },
  {
   "cell_type": "code",
   "execution_count": null,
   "metadata": {},
   "outputs": [],
   "source": [
    "(True and True and True)"
   ]
  },
  {
   "cell_type": "code",
   "execution_count": 6,
   "metadata": {},
   "outputs": [],
   "source": [
    "attcs.check.atdome = False\n",
    "attcs.check.atdometrajectory = False"
   ]
  },
  {
   "cell_type": "code",
   "execution_count": 15,
   "metadata": {},
   "outputs": [
    {
     "data": {
      "text/plain": [
       "[<State.DISABLED: 1>, <State.ENABLED: 2>]"
      ]
     },
     "execution_count": 15,
     "metadata": {},
     "output_type": "execute_result"
    }
   ],
   "source": [
    "await salobj.set_summary_state(attcs.atdometrajectory, salobj.State.ENABLED)"
   ]
  },
  {
   "cell_type": "code",
   "execution_count": null,
   "metadata": {},
   "outputs": [],
   "source": [
    "print(attcs.atptg.cmd_raDecTarget.data.rotPA)"
   ]
  },
  {
   "cell_type": "code",
   "execution_count": null,
   "metadata": {},
   "outputs": [],
   "source": [
    "await attcs.slew_icrs(ra=\"2h 57m 46.00s\", dec=\"+0 16 18.0\", pa_ang=0., target_name=\"SA94 251\", stop_before_slew=False)"
   ]
  },
  {
   "cell_type": "code",
   "execution_count": null,
   "metadata": {},
   "outputs": [],
   "source": [
    "await attcs.stop_all()"
   ]
  },
  {
   "cell_type": "code",
   "execution_count": null,
   "metadata": {},
   "outputs": [],
   "source": [
    "await attcs.cancel_not_done(attcs.scheduled_coro)"
   ]
  },
  {
   "cell_type": "code",
   "execution_count": 8,
   "metadata": {},
   "outputs": [
    {
     "data": {
      "text/plain": [
       "[<State.ENABLED: 2>, <State.DISABLED: 1>, <State.STANDBY: 5>]"
      ]
     },
     "execution_count": 8,
     "metadata": {},
     "output_type": "execute_result"
    }
   ],
   "source": [
    "await salobj.set_summary_state(attcs.ataos, salobj.State.STANDBY)"
   ]
  },
  {
   "cell_type": "code",
   "execution_count": 9,
   "metadata": {},
   "outputs": [
    {
     "name": "stdout",
     "output_type": "stream",
     "text": [
      "Gathering settings.\n",
      "No settings for atmcs.\n",
      "Using                                                                                                                                 from settingVersions event.\n",
      "No settings for atptg.\n",
      "Couldn't get settingVersions event. Using empty settings.\n",
      "No settings for ataos.\n",
      "Using current from settingVersions event.\n",
      "No settings for atpneumatics.\n",
      "Using                                                                                                                                 from settingVersions event.\n",
      "No settings for athexapod.\n",
      "Using current from settingVersions event.\n",
      "No settings for atdome.\n",
      "Using test from settingVersions event.\n",
      "No settings for atdometrajectory.\n",
      "Using  from settingVersions event.\n",
      "Settings versions: {'atmcs': '                                                                                                                               ', 'atptg': '', 'ataos': 'current', 'atpneumatics': '                                                                                                                               ', 'athexapod': 'current', 'atdome': 'test', 'atdometrajectory': ''}\n",
      "Enabling all components\n",
      "Enabling  atmcs\n",
      "Enabling  atptg\n",
      "Enabling  ataos\n",
      "Enabling  atpneumatics\n",
      "Enabling  athexapod\n",
      "[atmcs]::[<State.ENABLED: 2>]\n",
      "[atptg]::[<State.ENABLED: 2>]\n",
      "[ataos]::[<State.STANDBY: 5>, <State.DISABLED: 1>, <State.ENABLED: 2>]\n",
      "[atpneumatics]::[<State.ENABLED: 2>]\n",
      "[athexapod]::[<State.ENABLED: 2>]\n",
      "[atdome]::<State.ENABLED: 2>\n",
      "[atdometrajectory]::<State.DISABLED: 1>\n",
      "All components enabled.\n"
     ]
    }
   ],
   "source": [
    "await attcs.enable()"
   ]
  },
  {
   "cell_type": "code",
   "execution_count": 10,
   "metadata": {},
   "outputs": [
    {
     "data": {
      "text/plain": [
       "<ddsutil.ATAOS_ackcmd_33d5c92b at 0x7f971e3aaa90>"
      ]
     },
     "execution_count": 10,
     "metadata": {},
     "output_type": "execute_result"
    }
   ],
   "source": [
    "await attcs.ataos.cmd_enableCorrection.set_start(hexapod=True, m1=True)"
   ]
  },
  {
   "cell_type": "code",
   "execution_count": 11,
   "metadata": {},
   "outputs": [
    {
     "data": {
      "text/plain": [
       "<ddsutil.ATAOS_ackcmd_33d5c92b at 0x7f9732592290>"
      ]
     },
     "execution_count": 11,
     "metadata": {},
     "output_type": "execute_result"
    }
   ],
   "source": [
    "await attcs.ataos.cmd_resetOffset.start()"
   ]
  },
  {
   "cell_type": "code",
   "execution_count": 12,
   "metadata": {},
   "outputs": [
    {
     "name": "stdout",
     "output_type": "stream",
     "text": [
      "Sending command\n",
      "Stop tracking.\n",
      "Mount tracking state is 8\n",
      "In Position: False.\n",
      "Scheduling check coroutines\n",
      "process as completed...\n",
      "Got False\n",
      "Telescope not in position\n",
      "atmcs: <State.ENABLED: 2>\n",
      "atptg: <State.ENABLED: 2>\n",
      "ataos: <State.ENABLED: 2>\n",
      "atpneumatics: <State.ENABLED: 2>\n",
      "athexapod: <State.ENABLED: 2>\n",
      "[Telescope] delta Alt = -020.001 | delta Az= +000.002 delta N1 = +000.000 delta N2 = +000.000 \n",
      "[Telescope] delta Alt = -019.546 | delta Az= +000.001 delta N1 = +000.000 delta N2 = -000.000 \n",
      "[Telescope] delta Alt = -017.955 | delta Az= +000.000 delta N1 = +000.000 delta N2 = -000.000 \n",
      "[Telescope] delta Alt = -013.339 | delta Az= -000.000 delta N1 = +000.000 delta N2 = -000.000 \n",
      "[Telescope] delta Alt = -007.447 | delta Az= -000.000 delta N1 = +000.000 delta N2 = -000.000 \n",
      "[Telescope] delta Alt = -003.939 | delta Az= -000.000 delta N1 = +000.000 delta N2 = -000.000 \n",
      "[Telescope] delta Alt = -001.452 | delta Az= -000.000 delta N1 = +000.000 delta N2 = -000.000 \n",
      "[Telescope] delta Alt = -000.235 | delta Az= -000.000 delta N1 = +000.000 delta N2 = -000.000 \n",
      "[Telescope] delta Alt = -000.036 | delta Az= -000.000 delta N1 = +000.000 delta N2 = -000.000 \n",
      "Got True\n",
      "Waiting for telescope to settle.\n",
      "[Telescope] delta Alt = +000.000 | delta Az= -000.000 delta N1 = +000.000 delta N2 = -000.000 \n",
      "Axes in position.\n",
      "None\n",
      "Stop tracking.\n",
      "Mount tracking state is 9\n",
      "Tracking state: 10.\n",
      "Tracking state: 8.\n",
      "In Position: True.\n",
      "In Position: False.\n"
     ]
    }
   ],
   "source": [
    "await attcs.point_azel(target_name=\"Test ATAOS Hex LUT\",\n",
    "                                  az=0.,\n",
    "                                  el=60.,\n",
    "                                  wait_dome=False)\n",
    "await attcs.stop_tracking()"
   ]
  },
  {
   "cell_type": "code",
   "execution_count": null,
   "metadata": {},
   "outputs": [],
   "source": [
    "await attcs.stop_tracking()"
   ]
  },
  {
   "cell_type": "code",
   "execution_count": null,
   "metadata": {},
   "outputs": [],
   "source": [
    "await "
   ]
  },
  {
   "cell_type": "code",
   "execution_count": 14,
   "metadata": {},
   "outputs": [
    {
     "name": "stdout",
     "output_type": "stream",
     "text": [
      "Sending command\n",
      "Stop tracking.\n",
      "Mount tracking state is 8\n",
      "In Position: False.\n",
      "Scheduling check coroutines\n",
      "process as completed...\n",
      "atmcs: <State.ENABLED: 2>\n",
      "atptg: <State.ENABLED: 2>\n",
      "ataos: <State.ENABLED: 2>\n",
      "atpneumatics: <State.ENABLED: 2>\n",
      "athexapod: <State.ENABLED: 2>\n",
      "[Telescope] delta Alt = +050.000 | delta Az= +000.001 delta N1 = +000.000 delta N2 = +000.000 \n",
      "[Telescope] delta Alt = +046.109 | delta Az= +000.001 delta N1 = +000.000 delta N2 = +000.000 \n",
      "[Telescope] delta Alt = +040.111 | delta Az= +000.000 delta N1 = +000.000 delta N2 = +000.000 \n",
      "[Telescope] delta Alt = +036.112 | delta Az= +000.000 delta N1 = +000.000 delta N2 = +000.000 \n",
      "[Telescope] delta Alt = +030.111 | delta Az= +000.000 delta N1 = +000.000 delta N2 = -000.000 \n",
      "[Telescope] delta Alt = +026.121 | delta Az= -000.000 delta N1 = +000.000 delta N2 = +000.000 \n",
      "[Telescope] delta Alt = +022.174 | delta Az= -000.000 delta N1 = +000.000 delta N2 = +000.000 \n",
      "[Telescope] delta Alt = +018.338 | delta Az= -000.000 delta N1 = +000.000 delta N2 = +000.000 \n",
      "[Telescope] delta Alt = +012.952 | delta Az= -000.000 delta N1 = +000.000 delta N2 = -000.000 \n",
      "[Telescope] delta Alt = +008.270 | delta Az= -000.000 delta N1 = +000.000 delta N2 = -000.000 \n",
      "[Telescope] delta Alt = +004.550 | delta Az= -000.000 delta N1 = +000.000 delta N2 = -000.000 \n",
      "[Telescope] delta Alt = +001.966 | delta Az= -000.000 delta N1 = +000.000 delta N2 = -000.000 \n",
      "[Telescope] delta Alt = +000.887 | delta Az= -000.000 delta N1 = +000.000 delta N2 = -000.000 \n",
      "[Telescope] delta Alt = +000.117 | delta Az= -000.000 delta N1 = -000.000 delta N2 = -000.000 \n",
      "[Telescope] delta Alt = +000.003 | delta Az= -000.000 delta N1 = +000.000 delta N2 = +000.000 \n",
      "Axes in position.\n",
      "None\n",
      "Stop tracking.\n",
      "Mount tracking state is 9\n",
      "Tracking state: 10.\n",
      "Tracking state: 8.\n",
      "In Position: False.\n"
     ]
    }
   ],
   "source": [
    "await attcs.point_azel(target_name=\"Test ATAOS Hex LUT\",\n",
    "                                  az=0.,\n",
    "                                  el=80.,\n",
    "                                  wait_dome=False)\n",
    "await attcs.stop_tracking()"
   ]
  },
  {
   "cell_type": "code",
   "execution_count": null,
   "metadata": {},
   "outputs": [],
   "source": []
  }
 ],
 "metadata": {
  "kernelspec": {
   "display_name": "LSST",
   "language": "python",
   "name": "lsst"
  },
  "language_info": {
   "codemirror_mode": {
    "name": "ipython",
    "version": 3
   },
   "file_extension": ".py",
   "mimetype": "text/x-python",
   "name": "python",
   "nbconvert_exporter": "python",
   "pygments_lexer": "ipython3",
   "version": "3.7.6"
  }
 },
 "nbformat": 4,
 "nbformat_minor": 4
}
