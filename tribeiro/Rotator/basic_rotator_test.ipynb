{
 "cells": [
  {
   "cell_type": "markdown",
   "metadata": {},
   "source": [
    "# Basic MTPtg/Rotator integration test"
   ]
  },
  {
   "cell_type": "markdown",
   "metadata": {},
   "source": [
    "This notebook performs a simple integration test between the Maint Telescope pointing component (MTPtg) and the Rotator. It includes enough boilerplate to allow the test to run at any time by getting current time information from the pointing and computing appropriate coordinates to slew. \n",
    "\n",
    "At the end, there is a section showing how to recover the Rotator CSC from `FAULT` state. This last part can be ignored as needed. "
   ]
  },
  {
   "cell_type": "code",
   "execution_count": null,
   "metadata": {},
   "outputs": [],
   "source": [
    "import logging\n",
    "import yaml\n",
    "\n",
    "import numpy as np\n",
    "from matplotlib import pyplot as plt\n",
    "import astropy.units as u\n",
    "from astropy.time import Time\n",
    "from astropy.coordinates import AltAz, ICRS, EarthLocation, Angle, FK5\n",
    "import asyncio\n",
    "from lsst.ts import salobj\n",
    "from lsst.ts.idl.enums import ATPtg\n",
    "\n",
    "from astropy.utils import iers\n",
    "iers.conf.auto_download = False"
   ]
  },
  {
   "cell_type": "code",
   "execution_count": null,
   "metadata": {},
   "outputs": [],
   "source": [
    "test_message = \"Basic MTPtg/Rotator integration test\""
   ]
  },
  {
   "cell_type": "code",
   "execution_count": null,
   "metadata": {},
   "outputs": [],
   "source": [
    "d = salobj.Domain()"
   ]
  },
  {
   "cell_type": "code",
   "execution_count": null,
   "metadata": {},
   "outputs": [],
   "source": [
    "script = salobj.Controller(\"Script\", index=1)\n",
    "rot = salobj.Remote(d, \"Rotator\")\n",
    "mtptg = salobj.Remote(d, \"MTPtg\")"
   ]
  },
  {
   "cell_type": "code",
   "execution_count": null,
   "metadata": {},
   "outputs": [],
   "source": [
    "await asyncio.gather(rot.start_task,\n",
    "                     mtptg.start_task,\n",
    "                     script.start_task)"
   ]
  },
  {
   "cell_type": "code",
   "execution_count": null,
   "metadata": {},
   "outputs": [],
   "source": [
    "await asyncio.sleep(1.)\n",
    "await salobj.set_summary_state(mtptg, salobj.State.ENABLED)\n",
    "await salobj.set_summary_state(rot, salobj.State.ENABLED)"
   ]
  },
  {
   "cell_type": "code",
   "execution_count": null,
   "metadata": {},
   "outputs": [],
   "source": [
    "location = EarthLocation.from_geodetic(lon=-70.747698*u.deg,\n",
    "                                       lat=-30.244728*u.deg,\n",
    "                                       height=2663.0*u.m)"
   ]
  },
  {
   "cell_type": "code",
   "execution_count": null,
   "metadata": {},
   "outputs": [],
   "source": [
    "# Here is a small trick to get the ra before transit. Get `timeAndDate` from the pointing component, then use `RA = lst - delta`.\n",
    "\n",
    "time_data = await mtptg.tel_timeAndDate.next(flush=True, timeout=5.)\n",
    "\n",
    "lst = Angle(time_data.lst, unit=u.hour)\n",
    "delta = Angle(10., unit=u.arcminute)\n",
    "ra = lst + delta\n",
    "print(\"=======================\")\n",
    "print(f\"LST: {lst}\")\n",
    "print(f\"delta: {delta}\")\n",
    "print(f\"RA: {ra}\")\n",
    "print(\"=======================\")\n",
    "\n",
    "dec = location.lat - Angle(6., unit=u.deg)\n",
    "print(f\"Dec: {dec}\")\n",
    "\n",
    "target_name=\"Rotator test\"\n",
    "radec = ICRS(ra, dec)\n",
    "\n",
    "curr_time_atptg = Time(time_data.tai, format=\"mjd\", scale=\"tai\")\n",
    "coord_frame_altaz = AltAz(location=location, obstime=curr_time_atptg)\n",
    "alt_az = radec.transform_to(coord_frame_altaz)\n",
    "\n",
    "print(180.-alt_az.alt.deg)\n",
    "\n",
    "script.evt_logMessage.set_put(level=logging.INFO+1,\n",
    "                              message=f\"{test_message}:[START]\")\n",
    "\n",
    "try:\n",
    "    await rot.cmd_trackStart.start(timeout=30.)\n",
    "except salobj.AckError:\n",
    "    pass\n",
    "\n",
    "ack = await mtptg.cmd_raDecTarget.set_start(\n",
    "    targetName=target_name,\n",
    "    targetInstance=ATPtg.TargetInstances.CURRENT,\n",
    "    frame=ATPtg.CoordFrame.ICRS,\n",
    "    epoch=2000,  # should be ignored: no parallax or proper motion\n",
    "    equinox=2000,  # should be ignored for ICRS\n",
    "    ra=radec.ra.hour,\n",
    "    declination=radec.dec.deg,\n",
    "    parallax=0,\n",
    "    pmRA=0,\n",
    "    pmDec=0,\n",
    "    rv=0,\n",
    "    dRA=0,\n",
    "    dDec=0,\n",
    "    rotPA=180.,\n",
    "    rotFrame=ATPtg.RotFrame.FIXED,\n",
    "    rotMode=ATPtg.RotMode.FIELD,\n",
    "    timeout=10\n",
    ")\n",
    "\n",
    "print(\"Waiting 10s\")\n",
    "\n",
    "await asyncio.sleep(10.)\n",
    "\n",
    "print(\"Test done\")\n",
    "\n",
    "await rot.cmd_stop.start(timeout=30)\n",
    "\n",
    "await asyncio.sleep(0.1)\n",
    "\n",
    "await mtptg.cmd_stopTracking.start(timeout=30)\n",
    "\n",
    "script.evt_logMessage.set_put(level=logging.INFO+1,\n",
    "                              message=f\"{test_message}:[END]\")\n"
   ]
  },
  {
   "cell_type": "markdown",
   "metadata": {},
   "source": [
    "# Fault State Recovery"
   ]
  },
  {
   "cell_type": "code",
   "execution_count": null,
   "metadata": {},
   "outputs": [],
   "source": [
    "await rot.cmd_clearError.start(timeout=10)"
   ]
  },
  {
   "cell_type": "code",
   "execution_count": null,
   "metadata": {},
   "outputs": [],
   "source": [
    "await asyncio.sleep(5)\n",
    "await salobj.set_summary_state(mtptg, salobj.State.STANDBY)\n",
    "await salobj.set_summary_state(rot, salobj.State.STANDBY)"
   ]
  }
 ],
 "metadata": {
  "kernelspec": {
   "display_name": "Python 3",
   "language": "python",
   "name": "python3"
  },
  "language_info": {
   "codemirror_mode": {
    "name": "ipython",
    "version": 3
   },
   "file_extension": ".py",
   "mimetype": "text/x-python",
   "name": "python",
   "nbconvert_exporter": "python",
   "pygments_lexer": "ipython3",
   "version": "3.7.2"
  }
 },
 "nbformat": 4,
 "nbformat_minor": 4
}
