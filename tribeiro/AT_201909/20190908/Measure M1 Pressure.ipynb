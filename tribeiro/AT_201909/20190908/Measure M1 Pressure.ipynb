{
 "cells": [
  {
   "cell_type": "code",
   "execution_count": 1,
   "metadata": {},
   "outputs": [],
   "source": [
    "import logging\n",
    "import yaml\n",
    "\n",
    "import numpy as np\n",
    "from matplotlib import pyplot as plt\n",
    "import astropy.units as u\n",
    "from astropy.time import Time\n",
    "from astropy.coordinates import AltAz, ICRS, EarthLocation, Angle, FK5\n",
    "import asyncio\n",
    "\n",
    "# import palpy\n",
    "\n",
    "from lsst.ts import salobj\n",
    "\n",
    "from lsst.ts.standardscripts.auxtel.attcs import ATTCS\n",
    "\n",
    "from lsst.ts.idl.enums import ATPtg\n",
    "\n",
    "%matplotlib inline"
   ]
  },
  {
   "cell_type": "code",
   "execution_count": 2,
   "metadata": {},
   "outputs": [],
   "source": [
    "from astropy.utils import iers\n",
    "iers.conf.auto_download = False"
   ]
  },
  {
   "cell_type": "code",
   "execution_count": 3,
   "metadata": {},
   "outputs": [
    {
     "data": {
      "text/plain": [
       "<astropy.units.core._UnitContext at 0x7f56a1886c90>"
      ]
     },
     "execution_count": 3,
     "metadata": {},
     "output_type": "execute_result"
    }
   ],
   "source": [
    "u.imperial.enable()"
   ]
  },
  {
   "cell_type": "code",
   "execution_count": null,
   "metadata": {},
   "outputs": [],
   "source": [
    "d = salobj.Domain()"
   ]
  },
  {
   "cell_type": "code",
   "execution_count": null,
   "metadata": {},
   "outputs": [],
   "source": [
    "atmcs = salobj.Remote(d, \"ATMCS\")\n",
    "atptg = salobj.Remote(d, \"ATPtg\")\n",
    "atpne = salobj.Remote(d, \"ATPneumatics\")"
   ]
  },
  {
   "cell_type": "code",
   "execution_count": null,
   "metadata": {},
   "outputs": [],
   "source": [
    "await asyncio.gather(atmcs.start_task, \n",
    "                     atptg.start_task, \n",
    "                     atpne.start_task)"
   ]
  },
  {
   "cell_type": "code",
   "execution_count": null,
   "metadata": {},
   "outputs": [],
   "source": [
    "class MeasureM1Pressure():\n",
    "    \n",
    "    def __init__(self, atmcs, atpne):\n",
    "        \n",
    "        self.atmcs = atmcs\n",
    "        self.atpne = atpne\n",
    "        \n",
    "        self.elevation = np.array([])\n",
    "        self.pressure = np.array([])\n",
    "        self.load_off = np.array([])\n",
    "        self.max_load = np.array([])\n",
    "        self.min_load = np.array([])\n",
    "        \n",
    "        self.min_allowed_load = 120.\n",
    "        self.optimum_fraction = 1./27.\n",
    "        self.tolerance = 0.1\n",
    "        \n",
    "    async def get_load(self, n=10):\n",
    "        \n",
    "        load_measures = np.zeros(n)\n",
    "        for i in range(n):\n",
    "            load = await self.atpne.tel_loadCell.next(flush=True, timeout=2)\n",
    "            load_measures[i] = load.cellLoad\n",
    "            \n",
    "        return np.mean(load_measures)\n",
    "    \n",
    "    async def get_pressure(self, n=10):\n",
    "        \n",
    "        pressure_measures = np.zeros(n)\n",
    "        for i in range(n):\n",
    "            topic = await self.atpne.tel_m1AirPressure.next(flush=True, timeout=3)\n",
    "            pressure_measures[i] = topic.pressure\n",
    "            \n",
    "        return np.mean(pressure_measures)*u.Pa    \n",
    "\n",
    "    async def measure_optimum_pressure(self):\n",
    "        \n",
    "        encoders = await atmcs.tel_mount_AzEl_Encoders.next(flush=True, timeout=5)\n",
    "        \n",
    "        \n",
    "        await self.atpne.cmd_m1CloseAirValve.start()\n",
    "        await asyncio.sleep(5.)\n",
    "        \n",
    "        closed_air_load = await self.get_load()\n",
    "        \n",
    "        print(f\"Closed valve load: {closed_air_load}\")\n",
    "                \n",
    "        self.atpne.evt_m1State.flush()\n",
    "        await self.atpne.cmd_m1OpenAirValve.start()    \n",
    "        master_valve = await self.atpne.evt_m1State.next(flush=False, timeout=30)\n",
    "\n",
    "        self.atpne.cmd_m1SetPressure.set(pressure=0.1)\n",
    "        self.atpne.evt_m1SetPressure.flush()\n",
    "        await self.atpne.cmd_m1SetPressure.start()\n",
    "        try:\n",
    "            sp = await self.atpne.evt_m1SetPressure.next(flush=False, timeout=30)\n",
    "        except asyncio.TimeoutError:\n",
    "            pass\n",
    "\n",
    "        open_air_load = await self.get_load()\n",
    "        \n",
    "        optimum_load = open_air_load * self.optimum_fraction\n",
    "\n",
    "        print(f\"Optimum load: {optimum_load}\")\n",
    "        \n",
    "        min_pressure = await self.get_pressure()\n",
    "\n",
    "        print(f\"Minimum pressure: {min_pressure}\")\n",
    "\n",
    "        max_pressure = 15. * np.sin(np.radians(np.mean(encoders.elevationCalculatedAngle))) * min_pressure\n",
    "\n",
    "        print(f\"Maximum pressure: {max_pressure.to(u.Pa)}\")\n",
    "\n",
    "        print(f\"Max/Min pressure: {max_pressure.to(u.Pa)/min_pressure}\")\n",
    "\n",
    "        max_load = await self.get_load()  # Max load is with minumum pressure \n",
    "\n",
    "        print(f\"Max load: {max_load}\")\n",
    "        \n",
    "#         if max_load > optimum_load:\n",
    "#             print(f\"Max load larger then optimum. Operation complete.\")\n",
    "#             self.elevation = np.append(self.elevation, encoders.elevationCalculatedAngle)\n",
    "#             self.pressure = np.append(self.pressure, min_pressure)\n",
    "#             return \n",
    "\n",
    "        self.atpne.cmd_m1SetPressure.set(pressure=max_pressure.to(u.Pa).value)\n",
    "        self.atpne.evt_m1SetPressure.flush()\n",
    "        await self.atpne.cmd_m1SetPressure.start()\n",
    "        try:\n",
    "            sp = await self.atpne.evt_m1SetPressure.next(flush=False, timeout=120)\n",
    "        except asyncio.TimeoutError:\n",
    "            pass\n",
    "\n",
    "        measured_pressure = await self.get_pressure()\n",
    "\n",
    "        min_load = await self.get_load()\n",
    "        \n",
    "        if min_load < self.min_allowed_load:\n",
    "#             attcs.atpneumatics.cmd_m1SetPressure.set(pressure=0.1)\n",
    "#             await attcs.atpneumatics.cmd_m1SetPressure.start()\n",
    "            print(f\"Min load {min_load} to small {self.min_allowed_load}. \")\n",
    "#             return \n",
    "            \n",
    "        print(f\"Min load: {min_load}\")\n",
    "\n",
    "        init_pressure = (min_pressure+max_pressure.to(u.Pa))/2.\n",
    "        print(f\"Init pressure: {init_pressure} ({init_pressure/max_pressure.to(u.Pa)})\")\n",
    "\n",
    "        self.atpne.cmd_m1SetPressure.set(pressure=init_pressure.to(u.Pa).value)\n",
    "        self.atpne.evt_m1SetPressure.flush()\n",
    "        await self.atpne.cmd_m1SetPressure.start()\n",
    "        try:\n",
    "            sp = await self.atpne.evt_m1SetPressure.next(flush=False, timeout=30)\n",
    "        except asyncio.TimeoutError:\n",
    "            pass\n",
    "\n",
    "        niter = 0\n",
    "        max_iter = 21\n",
    "        success = True\n",
    "\n",
    "        init_pressure = (min_pressure+max_pressure.to(u.Pa))/2.\n",
    "        print(f\"Init pressure: {init_pressure} ({init_pressure/max_pressure.to(u.Pa)})\")\n",
    "\n",
    "        self.atpne.cmd_m1SetPressure.set(pressure=init_pressure.to(u.Pa).value)\n",
    "        self.atpne.evt_m1SetPressure.flush()\n",
    "        await self.atpne.cmd_m1SetPressure.start()\n",
    "        try:\n",
    "            sp = await self.atpne.evt_m1SetPressure.next(flush=False, timeout=30)\n",
    "        except asyncio.TimeoutError:\n",
    "            pass\n",
    "\n",
    "        load = await self.get_load()\n",
    "        \n",
    "        print(\"****\")\n",
    "        print(f\"load: {load}\")\n",
    "        print(f\"Optimum load: {optimum_load}\")\n",
    "        delta = np.abs(load - optimum_load)/optimum_load\n",
    "        print(f\"{delta} > 0.1\")\n",
    "        print(\"****\")\n",
    "\n",
    "        \n",
    "        while delta > self.tolerance:\n",
    "            niter += 1\n",
    "            print(f\"Iter {niter}\")\n",
    "            print(f\"Dif: {load-optimum_load}\")\n",
    "            print(f\"delta: {delta}\")\n",
    "\n",
    "            if load < optimum_load:\n",
    "                print(f\"Current load ({load}) less then optimum load ({optimum_load}). Max pressure = init_pressure.\")\n",
    "                max_pressure = init_pressure\n",
    "            else:\n",
    "                print(f\"Current load ({load}) larger then optimum load ({optimum_load}). Min pressure = init_pressure.\")                \n",
    "                min_pressure = init_pressure\n",
    "                \n",
    "            init_pressure = (min_pressure+max_pressure)/2.\n",
    "\n",
    "            print(f\"{min_pressure} < {init_pressure} < {max_pressure}\")\n",
    "            \n",
    "            print(f\"Init pressure: {init_pressure} ({init_pressure/max_pressure.to(u.Pa)})\")\n",
    "\n",
    "            await self.atpne.cmd_m1SetPressure.set_start(pressure=0.)\n",
    "            self.atpne.evt_m1SetPressure.flush()\n",
    "            await self.atpne.cmd_m1SetPressure.set_start(pressure=init_pressure.to(u.Pa).value)\n",
    "            try:\n",
    "                sp = await self.atpne.evt_m1SetPressure.next(flush=True, timeout=30)\n",
    "            except asyncio.TimeoutError:\n",
    "                print(\"Could not get set pressure event!\")\n",
    "                pass\n",
    "            \n",
    "            measured_pressure = await self.get_pressure()\n",
    "            \n",
    "            print(f\"Set pressure: {init_pressure.to(u.Pa)}\")\n",
    "            print(f\"Measured pressure: {measured_pressure}\")\n",
    "            print(f\"Diff: {init_pressure.to(u.Pa).value-measured_pressure.to(u.Pa).value}\")\n",
    "\n",
    "            load = await self.get_load()\n",
    "\n",
    "            print(\"****\")\n",
    "            print(f\"load: {load}\")\n",
    "            print(f\"Optimum load: {optimum_load}\")\n",
    "            delta = np.abs(load - optimum_load)/optimum_load\n",
    "            print(f\"diff: {delta} | tol: {self.tolerance}\")\n",
    "            print(\"****\")\n",
    "            \n",
    "            \n",
    "\n",
    "            if niter > max_iter:\n",
    "                print(\"Failed\")\n",
    "                success = False\n",
    "                break\n",
    "\n",
    "        if success:\n",
    "            print(\"Success!\")\n",
    "            optimum_pressure = await self.get_pressure()\n",
    "            print(f\"Optimum pressure: {optimum_pressure} @ el {np.mean(encoders.elevationCalculatedAngle)}\")        \n",
    "            self.elevation = np.append(self.elevation, np.mean(encoders.elevationCalculatedAngle))\n",
    "            self.pressure = np.append(self.pressure, optimum_pressure.to(u.Pa).value)    \n",
    "            \n",
    "        self.atpne.cmd_m1SetPressure.set(pressure=0.1)\n",
    "        await self.atpne.cmd_m1SetPressure.start()\n",
    "\n",
    "\n"
   ]
  },
  {
   "cell_type": "code",
   "execution_count": null,
   "metadata": {},
   "outputs": [],
   "source": [
    "mp = MeasureM1Pressure(atmcs, atpne)"
   ]
  },
  {
   "cell_type": "code",
   "execution_count": null,
   "metadata": {},
   "outputs": [],
   "source": [
    "await atpne.cmd_openMasterAirSupply.start(timeout=30)"
   ]
  },
  {
   "cell_type": "code",
   "execution_count": null,
   "metadata": {},
   "outputs": [],
   "source": [
    "await atpne.cmd_openInstrumentAirValve.start(timeout=30)"
   ]
  },
  {
   "cell_type": "code",
   "execution_count": null,
   "metadata": {},
   "outputs": [],
   "source": [
    "await atpne.cmd_m1OpenAirValve.start()"
   ]
  },
  {
   "cell_type": "code",
   "execution_count": null,
   "metadata": {},
   "outputs": [],
   "source": [
    "await atpne.cmd_m1OpenAirValve.start()"
   ]
  },
  {
   "cell_type": "code",
   "execution_count": null,
   "metadata": {},
   "outputs": [],
   "source": [
    "await asyncio.sleep(5)\n",
    "await atmcs.tel_mount_AzEl_Encoders.next(flush=True, timeout=2)\n",
    "await asyncio.sleep(5)\n",
    "await atmcs.tel_mount_AzEl_Encoders.next(flush=True, timeout=2)"
   ]
  },
  {
   "cell_type": "code",
   "execution_count": null,
   "metadata": {},
   "outputs": [],
   "source": [
    "await atptg.cmd_stopTracking.start()"
   ]
  },
  {
   "cell_type": "code",
   "execution_count": null,
   "metadata": {},
   "outputs": [],
   "source": [
    "await atptg.cmd_azElTarget.set_start(azDegs=0., elDegs=87.)"
   ]
  },
  {
   "cell_type": "code",
   "execution_count": null,
   "metadata": {},
   "outputs": [],
   "source": [
    "pressure = await mp.get_pressure()"
   ]
  },
  {
   "cell_type": "code",
   "execution_count": null,
   "metadata": {},
   "outputs": [],
   "source": [
    "load = await mp.get_load()"
   ]
  },
  {
   "cell_type": "code",
   "execution_count": null,
   "metadata": {},
   "outputs": [],
   "source": [
    "load = load*u.kg\n",
    "print(load, load/24.)"
   ]
  },
  {
   "cell_type": "code",
   "execution_count": null,
   "metadata": {},
   "outputs": [],
   "source": [
    "load.to(u.imperial.lb)/10."
   ]
  },
  {
   "cell_type": "code",
   "execution_count": null,
   "metadata": {},
   "outputs": [],
   "source": [
    "await asyncio.sleep(1.)"
   ]
  },
  {
   "cell_type": "code",
   "execution_count": null,
   "metadata": {},
   "outputs": [],
   "source": [
    "await mp.measure_optimum_pressure()"
   ]
  },
  {
   "cell_type": "code",
   "execution_count": null,
   "metadata": {},
   "outputs": [],
   "source": [
    "encoders = await atmcs.tel_mount_AzEl_Encoders.next(flush=True, timeout=5)"
   ]
  },
  {
   "cell_type": "code",
   "execution_count": null,
   "metadata": {},
   "outputs": [],
   "source": [
    "np.mean(encoders.elevationCalculatedAngle)"
   ]
  },
  {
   "cell_type": "code",
   "execution_count": null,
   "metadata": {},
   "outputs": [],
   "source": [
    "master_valve = await atpne.evt_m1State.next(flush=False, timeout=2)"
   ]
  },
  {
   "cell_type": "code",
   "execution_count": null,
   "metadata": {},
   "outputs": [],
   "source": [
    "await atptg.cmd_azElTarget.set_start(azDegs=0., elDegs=70.)"
   ]
  },
  {
   "cell_type": "code",
   "execution_count": null,
   "metadata": {},
   "outputs": [],
   "source": [
    "# poly = np.poly1d(fit)\n",
    "# x = np.linspace(22., 90., 100)\n",
    "# y = poly(x)\n",
    "plt.plot(mp.elevation, mp.pressure/1e3, 'o')\n",
    "# plt.plot(x, y/1e3, '-')\n",
    "plt.grid()\n",
    "plt.xlabel(\"Altitude (deg)\")\n",
    "plt.ylabel(\"Pressure (kPa)\")"
   ]
  },
  {
   "cell_type": "code",
   "execution_count": null,
   "metadata": {},
   "outputs": [],
   "source": [
    "# poly = np.poly1d(fit)\n",
    "# x = np.linspace(22., 90., 100)\n",
    "# y = poly(x)\n",
    "plt.plot(mp.elevation, mp.pressure/1e3, 'o')\n",
    "# plt.plot(x, y/1e3, '-')\n",
    "plt.grid()\n",
    "plt.xlabel(\"Altitude (deg)\")\n",
    "plt.ylabel(\"Pressure (kPa)\")"
   ]
  },
  {
   "cell_type": "code",
   "execution_count": null,
   "metadata": {},
   "outputs": [],
   "source": [
    "data = np.array([mp.elevation, mp.pressure])"
   ]
  },
  {
   "cell_type": "code",
   "execution_count": null,
   "metadata": {},
   "outputs": [],
   "source": [
    "np.save(\"alt_pressure.npy\", data)"
   ]
  },
  {
   "cell_type": "code",
   "execution_count": 4,
   "metadata": {},
   "outputs": [],
   "source": [
    "data = np.load(\"alt_pressure.npy\")"
   ]
  },
  {
   "cell_type": "code",
   "execution_count": 5,
   "metadata": {},
   "outputs": [
    {
     "data": {
      "text/plain": [
       "array([[7.98480896e+01, 7.00000000e+01, 5.99999999e+01, 5.00000001e+01,\n",
       "        4.00000000e+01, 2.99999999e+01, 3.50000000e+01, 4.49999975e+01,\n",
       "        5.50000004e+01, 6.50000010e+01, 7.49999995e+01, 8.49999997e+01,\n",
       "        7.49999994e+01, 6.99999997e+01, 7.00000000e+01],\n",
       "       [1.30607392e+05, 1.32605458e+05, 1.13061608e+05, 9.92882893e+04,\n",
       "        8.48631166e+04, 6.03924838e+04, 7.29877088e+04, 9.57929355e+04,\n",
       "        1.07871180e+05, 1.17147376e+05, 1.36667239e+05, 1.29925027e+05,\n",
       "        1.27229868e+05, 1.36715003e+05, 1.26503949e+05]])"
      ]
     },
     "execution_count": 5,
     "metadata": {},
     "output_type": "execute_result"
    }
   ],
   "source": [
    "data"
   ]
  },
  {
   "cell_type": "code",
   "execution_count": 6,
   "metadata": {},
   "outputs": [],
   "source": [
    "mask = np.zeros(len(data[0]))==0"
   ]
  },
  {
   "cell_type": "code",
   "execution_count": 17,
   "metadata": {},
   "outputs": [],
   "source": [
    "fit1 = np.polyfit(np.cos(np.radians(90. - data[0])[mask]), data[1][mask], 1)\n",
    "fit2 = np.polyfit(np.cos(np.radians(90. - data[0])[mask]), data[1][mask], 2)\n",
    "fit3 = np.polyfit(np.cos(np.radians(90. - data[0][mask])), data[1][mask], 3)"
   ]
  },
  {
   "cell_type": "code",
   "execution_count": 18,
   "metadata": {},
   "outputs": [
    {
     "data": {
      "text/plain": [
       "array([138277.38566765,  -5923.19461273])"
      ]
     },
     "execution_count": 18,
     "metadata": {},
     "output_type": "execute_result"
    }
   ],
   "source": [
    "fit1"
   ]
  },
  {
   "cell_type": "code",
   "execution_count": 22,
   "metadata": {},
   "outputs": [
    {
     "data": {
      "text/plain": [
       "array([138277.38566765, -10923.19461273])"
      ]
     },
     "execution_count": 22,
     "metadata": {},
     "output_type": "execute_result"
    }
   ],
   "source": [
    "fit1_1 = np.copy(fit1)\n",
    "fit1_1[1] -= 5000.\n",
    "fit1_1"
   ]
  },
  {
   "cell_type": "code",
   "execution_count": 20,
   "metadata": {},
   "outputs": [
    {
     "data": {
      "text/plain": [
       "Text(0, 0.5, 'Pressure (kPa)')"
      ]
     },
     "execution_count": 20,
     "metadata": {},
     "output_type": "execute_result"
    },
    {
     "data": {
      "image/png": "[encoded data removed]",
      "text/plain": [
       "<Figure size 432x288 with 1 Axes>"
      ]
     },
     "metadata": {
      "needs_background": "light"
     },
     "output_type": "display_data"
    }
   ],
   "source": [
    "poly1 = np.poly1d(fit1)\n",
    "poly1_1 = np.poly1d(fit1_1)\n",
    "poly2 = np.poly1d(fit2)\n",
    "poly3 = np.poly1d(fit3)\n",
    "x = np.linspace(0.45, 1, 100)\n",
    "y1 = poly1(x)\n",
    "y1_1 = poly1_1(x)\n",
    "y2 = poly2(x)\n",
    "y3 = poly3(x)\n",
    "# np.cos(np.radians(90. - elevation))\n",
    "plt.plot(np.cos(np.radians(90. - data[0])), data[1]/1e3, 'o')\n",
    "plt.plot(np.cos(np.radians(90. - data[0][mask])), data[1][mask]/1e3, 'o')\n",
    "plt.plot(x, y1/1e3, '-')\n",
    "plt.plot(x, y1_1/1e3, '-')\n",
    "# plt.plot(x, y2/1e3, '-')\n",
    "# plt.plot(x, y3/1e3, '-')\n",
    "plt.grid()\n",
    "plt.xlabel(\"Altitude (deg)\")\n",
    "plt.ylabel(\"Pressure (kPa)\")"
   ]
  },
  {
   "cell_type": "code",
   "execution_count": null,
   "metadata": {},
   "outputs": [],
   "source": [
    "data[0]"
   ]
  },
  {
   "cell_type": "code",
   "execution_count": 7,
   "metadata": {},
   "outputs": [],
   "source": [
    "mask[1] = False\n",
    "mask[10] = False\n",
    "mask[-2] = False"
   ]
  },
  {
   "cell_type": "code",
   "execution_count": null,
   "metadata": {},
   "outputs": [],
   "source": [
    "altitude=87.\n",
    "poly1(np.cos(np.radians(90. - altitude)))"
   ]
  },
  {
   "cell_type": "code",
   "execution_count": null,
   "metadata": {},
   "outputs": [],
   "source": [
    "await atptg.cmd_azElTarget.set_start(azDegs=0., elDegs=80.)"
   ]
  },
  {
   "cell_type": "code",
   "execution_count": null,
   "metadata": {},
   "outputs": [],
   "source": [
    "await atptg.cmd_stopTracking.start()"
   ]
  },
  {
   "cell_type": "code",
   "execution_count": null,
   "metadata": {},
   "outputs": [],
   "source": [
    "await atpne.cmd_m1SetPressure.set_start(pressure=0.)"
   ]
  },
  {
   "cell_type": "code",
   "execution_count": null,
   "metadata": {},
   "outputs": [],
   "source": []
  }
 ],
 "metadata": {
  "kernelspec": {
   "display_name": "Python 3",
   "language": "python",
   "name": "python3"
  },
  "language_info": {
   "codemirror_mode": {
    "name": "ipython",
    "version": 3
   },
   "file_extension": ".py",
   "mimetype": "text/x-python",
   "name": "python",
   "nbconvert_exporter": "python",
   "pygments_lexer": "ipython3",
   "version": "3.7.2"
  }
 },
 "nbformat": 4,
 "nbformat_minor": 4
}
