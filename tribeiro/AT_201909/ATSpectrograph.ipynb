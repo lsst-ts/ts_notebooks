{
 "cells": [
  {
   "cell_type": "code",
   "execution_count": 1,
   "metadata": {},
   "outputs": [],
   "source": [
    "import asyncio\n",
    "\n",
    "from lsst.ts import salobj"
   ]
  },
  {
   "cell_type": "code",
   "execution_count": 2,
   "metadata": {},
   "outputs": [],
   "source": [
    "r = salobj.Remote(salobj.Domain(), \"ATSpectrograph\")"
   ]
  },
  {
   "cell_type": "code",
   "execution_count": 3,
   "metadata": {},
   "outputs": [],
   "source": [
    "await r.start_task"
   ]
  },
  {
   "cell_type": "code",
   "execution_count": 12,
   "metadata": {},
   "outputs": [],
   "source": [
    "await r.evt_heartbeat.next(flush=True)\n",
    "ss = await r.evt_settingVersions.aget()"
   ]
  },
  {
   "cell_type": "code",
   "execution_count": 10,
   "metadata": {},
   "outputs": [
    {
     "name": "stdout",
     "output_type": "stream",
     "text": [
      "private_revCode: b713bd6b, private_sndStamp: 1579454158.7179196, private_rcvStamp: 1579454158.7194052, private_seqNum: 1, private_origin: 38, private_host: -1947882778, recommendedSettingsVersion: heads/tickets/DM-22731-0-gf6ea756, recommendedSettingsLabels: current, settingsUrl: file:///home/saluser/repos/ts_config_latiss/ATSpectrograph/v1, priority: 0\n"
     ]
    }
   ],
   "source": [
    "print(ss)"
   ]
  },
  {
   "cell_type": "code",
   "execution_count": 33,
   "metadata": {},
   "outputs": [
    {
     "data": {
      "text/plain": [
       "[<State.STANDBY: 5>, <State.DISABLED: 1>, <State.ENABLED: 2>]"
      ]
     },
     "execution_count": 33,
     "metadata": {},
     "output_type": "execute_result"
    }
   ],
   "source": [
    "await salobj.set_summary_state(r, salobj.State.ENABLED, settingsToApply=\"current\")"
   ]
  },
  {
   "cell_type": "code",
   "execution_count": 22,
   "metadata": {},
   "outputs": [
    {
     "data": {
      "text/plain": [
       "<lsst.ts.salobj.ddsutil.ATSpectrograph_ackcmd_e56f40bd at 0x7ffbc9b098d0>"
      ]
     },
     "execution_count": 22,
     "metadata": {},
     "output_type": "execute_result"
    }
   ],
   "source": [
    "await r.cmd_changeFilter.set_start(filter=0, name=\"KPNO_406_828nm\", timeout=30)"
   ]
  },
  {
   "cell_type": "code",
   "execution_count": 23,
   "metadata": {},
   "outputs": [
    {
     "name": "stdout",
     "output_type": "stream",
     "text": [
      "private_revCode: e56f40bd, private_sndStamp: 1579715280.7678757, private_rcvStamp: 1579715280.7687619, private_origin: 38, private_host: -1947882778, private_seqNum: 161854835, ack: 303, error: 0, result: Done, host: -1947882805, origin: 7612, cmdtype: 2, timeout: 0.0\n",
      "private_revCode: e56f40bd, private_sndStamp: 1579715286.798742, private_rcvStamp: 1579715286.7995925, private_origin: 38, private_host: -1947882778, private_seqNum: 161854836, ack: 303, error: 0, result: Done, host: -1947882805, origin: 7612, cmdtype: 2, timeout: 0.0\n",
      "private_revCode: e56f40bd, private_sndStamp: 1579715293.3307025, private_rcvStamp: 1579715293.3315487, private_origin: 38, private_host: -1947882778, private_seqNum: 161854837, ack: 303, error: 0, result: Done, host: -1947882805, origin: 7612, cmdtype: 2, timeout: 0.0\n",
      "private_revCode: e56f40bd, private_sndStamp: 1579715299.3584423, private_rcvStamp: 1579715299.359355, private_origin: 38, private_host: -1947882778, private_seqNum: 161854838, ack: 303, error: 0, result: Done, host: -1947882805, origin: 7612, cmdtype: 2, timeout: 0.0\n"
     ]
    }
   ],
   "source": [
    "for i in range(4):\n",
    "    ack = await r.cmd_changeDisperser.set_start(disperser=i+1, name=\"\", timeout=30)\n",
    "    print(ack)\n",
    "    await asyncio.sleep(5.)"
   ]
  },
  {
   "cell_type": "code",
   "execution_count": 25,
   "metadata": {},
   "outputs": [],
   "source": [
    "ss = await r.evt_settingsApplied.aget()"
   ]
  },
  {
   "cell_type": "code",
   "execution_count": 26,
   "metadata": {},
   "outputs": [
    {
     "name": "stdout",
     "output_type": "stream",
     "text": [
      "empty_1\n",
      "private_revCode: e56f40bd, private_sndStamp: 1579715317.4470482, private_rcvStamp: 1579715317.4480073, private_origin: 38, private_host: -1947882778, private_seqNum: 161854839, ack: 303, error: 0, result: Done, host: -1947882805, origin: 7612, cmdtype: 2, timeout: 0.0\n",
      "ronchi170lpmm\n",
      "private_revCode: e56f40bd, private_sndStamp: 1579715323.476564, private_rcvStamp: 1579715323.4774656, private_origin: 38, private_host: -1947882778, private_seqNum: 161854840, ack: 303, error: 0, result: Done, host: -1947882805, origin: 7612, cmdtype: 2, timeout: 0.0\n",
      "ronchi90lpmm\n",
      "private_revCode: e56f40bd, private_sndStamp: 1579715330.1111262, private_rcvStamp: 1579715330.1119974, private_origin: 38, private_host: -1947882778, private_seqNum: 161854841, ack: 303, error: 0, result: Done, host: -1947882805, origin: 7612, cmdtype: 2, timeout: 0.0\n",
      "empty_2\n",
      "private_revCode: e56f40bd, private_sndStamp: 1579715336.1385083, private_rcvStamp: 1579715336.139417, private_origin: 38, private_host: -1947882778, private_seqNum: 161854842, ack: 303, error: 0, result: Done, host: -1947882805, origin: 7612, cmdtype: 2, timeout: 0.0\n"
     ]
    }
   ],
   "source": [
    "for disperser in ss.gratingNames.split(\",\"):\n",
    "    print(disperser)\n",
    "    ack = await r.cmd_changeDisperser.set_start(disperser=0, name=disperser, timeout=30)\n",
    "    print(ack)\n",
    "    await asyncio.sleep(5.)"
   ]
  },
  {
   "cell_type": "code",
   "execution_count": null,
   "metadata": {},
   "outputs": [],
   "source": [
    "await r.cmd_homeLinearStage.start()"
   ]
  },
  {
   "cell_type": "code",
   "execution_count": 40,
   "metadata": {},
   "outputs": [
    {
     "data": {
      "text/plain": [
       "<lsst.ts.salobj.ddsutil.ATSpectrograph_ackcmd_e56f40bd at 0x7ffbc9a77cc0>"
      ]
     },
     "execution_count": 40,
     "metadata": {},
     "output_type": "execute_result"
    }
   ],
   "source": [
    "await r.cmd_moveLinearStage.set_start(distanceFromHome=1.)"
   ]
  },
  {
   "cell_type": "code",
   "execution_count": 27,
   "metadata": {},
   "outputs": [
    {
     "name": "stdout",
     "output_type": "stream",
     "text": [
      "Moving linear stage to 2\n",
      "sleep 3s\n",
      "Moving linear stage to 3\n",
      "sleep 3s\n",
      "Moving linear stage to 4\n",
      "sleep 3s\n",
      "Moving linear stage to 5\n",
      "sleep 3s\n",
      "Moving linear stage to 6\n",
      "sleep 3s\n",
      "Moving linear stage to 7\n",
      "sleep 3s\n",
      "Moving linear stage to 8\n",
      "sleep 3s\n",
      "Moving linear stage to 9\n",
      "sleep 3s\n",
      "Moving linear stage to 10\n",
      "sleep 3s\n",
      "Moving linear stage to 11\n",
      "sleep 3s\n",
      "Moving linear stage to 12\n",
      "sleep 3s\n",
      "Moving linear stage to 13\n",
      "sleep 3s\n",
      "Moving linear stage to 14\n",
      "sleep 3s\n",
      "Moving linear stage to 15\n",
      "sleep 3s\n",
      "Moving linear stage to 16\n",
      "sleep 3s\n",
      "Moving linear stage to 17\n",
      "sleep 3s\n",
      "Moving linear stage to 18\n",
      "sleep 3s\n",
      "Moving linear stage to 19\n",
      "sleep 3s\n",
      "Moving linear stage to 20\n",
      "sleep 3s\n",
      "Moving linear stage to 21\n",
      "sleep 3s\n",
      "Moving linear stage to 22\n",
      "sleep 3s\n",
      "Moving linear stage to 23\n",
      "sleep 3s\n",
      "Moving linear stage to 24\n",
      "sleep 3s\n",
      "Moving linear stage to 25\n",
      "sleep 3s\n",
      "Moving linear stage to 26\n",
      "sleep 3s\n",
      "Moving linear stage to 27\n",
      "sleep 3s\n",
      "Moving linear stage to 28\n",
      "sleep 3s\n",
      "Moving linear stage to 29\n",
      "sleep 3s\n",
      "Moving linear stage to 30\n",
      "sleep 3s\n",
      "Moving linear stage to 31\n",
      "sleep 3s\n",
      "Moving linear stage to 32\n",
      "sleep 3s\n",
      "Moving linear stage to 33\n",
      "sleep 3s\n",
      "Moving linear stage to 34\n",
      "sleep 3s\n",
      "Moving linear stage to 35\n",
      "sleep 3s\n",
      "Moving linear stage to 36\n",
      "sleep 3s\n",
      "Moving linear stage to 37\n",
      "sleep 3s\n",
      "Moving linear stage to 38\n",
      "sleep 3s\n",
      "Moving linear stage to 39\n",
      "sleep 3s\n",
      "Moving linear stage to 40\n",
      "sleep 3s\n",
      "Moving linear stage to 41\n",
      "sleep 3s\n",
      "Moving linear stage to 42\n",
      "sleep 3s\n",
      "Moving linear stage to 43\n",
      "sleep 3s\n",
      "Moving linear stage to 44\n",
      "sleep 3s\n",
      "Moving linear stage to 45\n",
      "sleep 3s\n",
      "Moving linear stage to 46\n",
      "sleep 3s\n",
      "Moving linear stage to 47\n",
      "sleep 3s\n",
      "Moving linear stage to 48\n",
      "sleep 3s\n",
      "Moving linear stage to 49\n",
      "sleep 3s\n",
      "Moving linear stage to 50\n",
      "sleep 3s\n",
      "Moving linear stage to 51\n",
      "sleep 3s\n",
      "Moving linear stage to 52\n",
      "sleep 3s\n",
      "Moving linear stage to 53\n",
      "sleep 3s\n",
      "Moving linear stage to 54\n",
      "sleep 3s\n",
      "Moving linear stage to 55\n",
      "sleep 3s\n",
      "Moving linear stage to 56\n",
      "sleep 3s\n",
      "Moving linear stage to 57\n",
      "sleep 3s\n",
      "Moving linear stage to 58\n",
      "sleep 3s\n",
      "Moving linear stage to 59\n",
      "sleep 3s\n",
      "Moving linear stage to 60\n",
      "sleep 3s\n",
      "Moving linear stage to 61\n",
      "sleep 3s\n",
      "Moving linear stage to 62\n",
      "sleep 3s\n",
      "Moving linear stage to 63\n",
      "sleep 3s\n",
      "Moving linear stage to 64\n",
      "sleep 3s\n",
      "Moving linear stage to 65\n",
      "sleep 3s\n",
      "Moving linear stage to 66\n",
      "sleep 3s\n",
      "Moving linear stage to 67\n",
      "sleep 3s\n",
      "Moving linear stage to 68\n"
     ]
    },
    {
     "ename": "AckError",
     "evalue": "msg='Command failed', ackcmd=(ackcmd private_seqNum=1254173872, ack=<SalRetCode.CMD_FAILED: -302>, error=1, result='Failed: Change position timed out trying to move to position 68.0.')",
     "output_type": "error",
     "traceback": [
      "\u001b[0;31m\u001b[0m",
      "\u001b[0;31mAckError\u001b[0mTraceback (most recent call last)",
      "\u001b[0;32m<ipython-input-27-45cecb8f33be>\u001b[0m in \u001b[0;36masync-def-wrapper\u001b[0;34m()\u001b[0m\n\u001b[1;32m      4\u001b[0m     \u001b[0mprint\u001b[0m\u001b[0;34m(\u001b[0m\u001b[0;34m\"sleep 3s\"\u001b[0m\u001b[0;34m)\u001b[0m\u001b[0;34m\u001b[0m\u001b[0;34m\u001b[0m\u001b[0m\n\u001b[1;32m      5\u001b[0m     \u001b[0;32mawait\u001b[0m \u001b[0masyncio\u001b[0m\u001b[0;34m.\u001b[0m\u001b[0msleep\u001b[0m\u001b[0;34m(\u001b[0m\u001b[0;36m3\u001b[0m\u001b[0;34m)\u001b[0m\u001b[0;34m\u001b[0m\u001b[0;34m\u001b[0m\u001b[0m\n",
      "\u001b[0;32m~/repos/ts_salobj/python/lsst/ts/salobj/topics/remote_command.py\u001b[0m in \u001b[0;36mset_start\u001b[0;34m(self, timeout, wait_done, **kwargs)\u001b[0m\n\u001b[1;32m    317\u001b[0m         \"\"\"\n\u001b[1;32m    318\u001b[0m         \u001b[0mself\u001b[0m\u001b[0;34m.\u001b[0m\u001b[0mset\u001b[0m\u001b[0;34m(\u001b[0m\u001b[0;34m**\u001b[0m\u001b[0mkwargs\u001b[0m\u001b[0;34m)\u001b[0m\u001b[0;34m\u001b[0m\u001b[0;34m\u001b[0m\u001b[0m\n\u001b[0;32m--> 319\u001b[0;31m         \u001b[0;32mreturn\u001b[0m \u001b[0;32mawait\u001b[0m \u001b[0mself\u001b[0m\u001b[0;34m.\u001b[0m\u001b[0mstart\u001b[0m\u001b[0;34m(\u001b[0m\u001b[0mtimeout\u001b[0m\u001b[0;34m=\u001b[0m\u001b[0mtimeout\u001b[0m\u001b[0;34m,\u001b[0m \u001b[0mwait_done\u001b[0m\u001b[0;34m=\u001b[0m\u001b[0mwait_done\u001b[0m\u001b[0;34m)\u001b[0m\u001b[0;34m\u001b[0m\u001b[0;34m\u001b[0m\u001b[0m\n\u001b[0m\u001b[1;32m    320\u001b[0m \u001b[0;34m\u001b[0m\u001b[0m\n\u001b[1;32m    321\u001b[0m     \u001b[0;32masync\u001b[0m \u001b[0;32mdef\u001b[0m \u001b[0mstart\u001b[0m\u001b[0;34m(\u001b[0m\u001b[0mself\u001b[0m\u001b[0;34m,\u001b[0m \u001b[0mdata\u001b[0m\u001b[0;34m=\u001b[0m\u001b[0;32mNone\u001b[0m\u001b[0;34m,\u001b[0m \u001b[0mtimeout\u001b[0m\u001b[0;34m=\u001b[0m\u001b[0mDEFAULT_TIMEOUT\u001b[0m\u001b[0;34m,\u001b[0m \u001b[0mwait_done\u001b[0m\u001b[0;34m=\u001b[0m\u001b[0;32mTrue\u001b[0m\u001b[0;34m)\u001b[0m\u001b[0;34m:\u001b[0m\u001b[0;34m\u001b[0m\u001b[0;34m\u001b[0m\u001b[0m\n",
      "\u001b[0;32m~/repos/ts_salobj/python/lsst/ts/salobj/topics/remote_command.py\u001b[0m in \u001b[0;36mstart\u001b[0;34m(self, data, timeout, wait_done)\u001b[0m\n\u001b[1;32m    360\u001b[0m         \u001b[0mcmd_info\u001b[0m \u001b[0;34m=\u001b[0m \u001b[0m_CommandInfo\u001b[0m\u001b[0;34m(\u001b[0m\u001b[0mremote_command\u001b[0m\u001b[0;34m=\u001b[0m\u001b[0mself\u001b[0m\u001b[0;34m,\u001b[0m \u001b[0mseq_num\u001b[0m\u001b[0;34m=\u001b[0m\u001b[0mseq_num\u001b[0m\u001b[0;34m,\u001b[0m \u001b[0mwait_done\u001b[0m\u001b[0;34m=\u001b[0m\u001b[0mwait_done\u001b[0m\u001b[0;34m)\u001b[0m\u001b[0;34m\u001b[0m\u001b[0;34m\u001b[0m\u001b[0m\n\u001b[1;32m    361\u001b[0m         \u001b[0mself\u001b[0m\u001b[0;34m.\u001b[0m\u001b[0msalinfo\u001b[0m\u001b[0;34m.\u001b[0m\u001b[0m_running_cmds\u001b[0m\u001b[0;34m[\u001b[0m\u001b[0mseq_num\u001b[0m\u001b[0;34m]\u001b[0m \u001b[0;34m=\u001b[0m \u001b[0mcmd_info\u001b[0m\u001b[0;34m\u001b[0m\u001b[0;34m\u001b[0m\u001b[0m\n\u001b[0;32m--> 362\u001b[0;31m         \u001b[0;32mreturn\u001b[0m \u001b[0;32mawait\u001b[0m \u001b[0mcmd_info\u001b[0m\u001b[0;34m.\u001b[0m\u001b[0mnext_ackcmd\u001b[0m\u001b[0;34m(\u001b[0m\u001b[0mtimeout\u001b[0m\u001b[0;34m=\u001b[0m\u001b[0mtimeout\u001b[0m\u001b[0;34m)\u001b[0m\u001b[0;34m\u001b[0m\u001b[0;34m\u001b[0m\u001b[0m\n\u001b[0m",
      "\u001b[0;32m~/repos/ts_salobj/python/lsst/ts/salobj/topics/remote_command.py\u001b[0m in \u001b[0;36mnext_ackcmd\u001b[0;34m(self, timeout)\u001b[0m\n\u001b[1;32m    163\u001b[0m             \u001b[0;31m# print(f\"next_ackcmd got {ackcmd.ack} from _basic_next_ack\")\u001b[0m\u001b[0;34m\u001b[0m\u001b[0;34m\u001b[0m\u001b[0;34m\u001b[0m\u001b[0m\n\u001b[1;32m    164\u001b[0m             \u001b[0;32mif\u001b[0m \u001b[0mackcmd\u001b[0m\u001b[0;34m.\u001b[0m\u001b[0mack\u001b[0m \u001b[0;32min\u001b[0m \u001b[0mself\u001b[0m\u001b[0;34m.\u001b[0m\u001b[0mfailed_ack_codes\u001b[0m\u001b[0;34m:\u001b[0m\u001b[0;34m\u001b[0m\u001b[0;34m\u001b[0m\u001b[0m\n\u001b[0;32m--> 165\u001b[0;31m                 \u001b[0;32mraise\u001b[0m \u001b[0mbase\u001b[0m\u001b[0;34m.\u001b[0m\u001b[0mAckError\u001b[0m\u001b[0;34m(\u001b[0m\u001b[0mmsg\u001b[0m\u001b[0;34m=\u001b[0m\u001b[0;34m\"Command failed\"\u001b[0m\u001b[0;34m,\u001b[0m \u001b[0mackcmd\u001b[0m\u001b[0;34m=\u001b[0m\u001b[0mackcmd\u001b[0m\u001b[0;34m)\u001b[0m\u001b[0;34m\u001b[0m\u001b[0;34m\u001b[0m\u001b[0m\n\u001b[0m\u001b[1;32m    166\u001b[0m             \u001b[0;32mreturn\u001b[0m \u001b[0mackcmd\u001b[0m\u001b[0;34m\u001b[0m\u001b[0;34m\u001b[0m\u001b[0m\n\u001b[1;32m    167\u001b[0m         \u001b[0;32mexcept\u001b[0m \u001b[0masyncio\u001b[0m\u001b[0;34m.\u001b[0m\u001b[0mTimeoutError\u001b[0m\u001b[0;34m:\u001b[0m\u001b[0;34m\u001b[0m\u001b[0;34m\u001b[0m\u001b[0m\n",
      "\u001b[0;31mAckError\u001b[0m: msg='Command failed', ackcmd=(ackcmd private_seqNum=1254173872, ack=<SalRetCode.CMD_FAILED: -302>, error=1, result='Failed: Change position timed out trying to move to position 68.0.')"
     ]
    }
   ],
   "source": [
    "for distance in range(2, 70):\n",
    "    print(f\"Moving linear stage to {distance}\")\n",
    "    await r.cmd_moveLinearStage.set_start(distanceFromHome=distance)\n",
    "    print(\"sleep 3s\")\n",
    "    await asyncio.sleep(3)"
   ]
  },
  {
   "cell_type": "code",
   "execution_count": 32,
   "metadata": {},
   "outputs": [
    {
     "data": {
      "text/plain": [
       "[<State.FAULT: 3>, <State.STANDBY: 5>]"
      ]
     },
     "execution_count": 32,
     "metadata": {},
     "output_type": "execute_result"
    }
   ],
   "source": [
    "await salobj.set_summary_state(r, salobj.State.STANDBY)"
   ]
  },
  {
   "cell_type": "code",
   "execution_count": null,
   "metadata": {},
   "outputs": [],
   "source": [
    "await salobj.set_summary_state(r, salobj.State.OFFLINE)"
   ]
  }
 ],
 "metadata": {
  "kernelspec": {
   "display_name": "Python 3",
   "language": "python",
   "name": "python3"
  },
  "language_info": {
   "codemirror_mode": {
    "name": "ipython",
    "version": 3
   },
   "file_extension": ".py",
   "mimetype": "text/x-python",
   "name": "python",
   "nbconvert_exporter": "python",
   "pygments_lexer": "ipython3",
   "version": "3.7.2"
  }
 },
 "nbformat": 4,
 "nbformat_minor": 4
}
