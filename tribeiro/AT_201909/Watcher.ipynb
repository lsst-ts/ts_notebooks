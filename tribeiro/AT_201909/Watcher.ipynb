{
 "cells": [
  {
   "cell_type": "code",
   "execution_count": 1,
   "metadata": {},
   "outputs": [],
   "source": [
    "import asyncio\n",
    "from lsst.ts import salobj"
   ]
  },
  {
   "cell_type": "code",
   "execution_count": 2,
   "metadata": {},
   "outputs": [],
   "source": [
    "d = salobj.Domain()"
   ]
  },
  {
   "cell_type": "code",
   "execution_count": 3,
   "metadata": {},
   "outputs": [],
   "source": [
    "r = salobj.Remote(d, \"Watcher\")"
   ]
  },
  {
   "cell_type": "code",
   "execution_count": 4,
   "metadata": {},
   "outputs": [],
   "source": [
    "await r.start_task"
   ]
  },
  {
   "cell_type": "code",
   "execution_count": 5,
   "metadata": {},
   "outputs": [
    {
     "name": "stdout",
     "output_type": "stream",
     "text": [
      "WatcherID: 0, private_revCode: 407c55f4, private_sndStamp: 1571957325.3330169, private_rcvStamp: 1571957325.3335085, private_seqNum: 26, private_origin: 847, private_host: 754361962, heartbeat: False, priority: 0\n",
      "WatcherID: 0, private_revCode: 407c55f4, private_sndStamp: 1571957334.3457627, private_rcvStamp: 1571957334.3462372, private_seqNum: 35, private_origin: 847, private_host: 754361962, heartbeat: False, priority: 0\n",
      "WatcherID: 0, private_revCode: 407c55f4, private_sndStamp: 1571957335.3473363, private_rcvStamp: 1571957335.3478718, private_seqNum: 36, private_origin: 847, private_host: 754361962, heartbeat: False, priority: 0\n",
      "WatcherID: 0, private_revCode: 407c55f4, private_sndStamp: 1571957336.3488247, private_rcvStamp: 1571957336.3493338, private_seqNum: 37, private_origin: 847, private_host: 754361962, heartbeat: False, priority: 0\n",
      "WatcherID: 0, private_revCode: 407c55f4, private_sndStamp: 1571957337.3504426, private_rcvStamp: 1571957337.3509722, private_seqNum: 38, private_origin: 847, private_host: 754361962, heartbeat: False, priority: 0\n"
     ]
    }
   ],
   "source": [
    "for i in range(5):\n",
    "    hb = await r.evt_heartbeat.next(flush=True, timeout=5)\n",
    "    print(hb)"
   ]
  },
  {
   "cell_type": "code",
   "execution_count": null,
   "metadata": {},
   "outputs": [],
   "source": []
  },
  {
   "cell_type": "code",
   "execution_count": null,
   "metadata": {},
   "outputs": [],
   "source": [
    "a = await r.evt_alarm.next(flush=False, timeout=1)"
   ]
  },
  {
   "cell_type": "code",
   "execution_count": 6,
   "metadata": {},
   "outputs": [
    {
     "name": "stderr",
     "output_type": "stream",
     "text": [
      "RemoteEvent(Watcher, 0, heartbeat) falling behind; read 45 messages\n"
     ]
    },
    {
     "data": {
      "text/plain": [
       "[<State.STANDBY: 5>, <State.DISABLED: 1>, <State.ENABLED: 2>]"
      ]
     },
     "execution_count": 6,
     "metadata": {},
     "output_type": "execute_result"
    }
   ],
   "source": [
    "await salobj.set_summary_state(r, salobj.State.ENABLED, settingsToApply=\"summit\")"
   ]
  },
  {
   "cell_type": "code",
   "execution_count": 13,
   "metadata": {},
   "outputs": [
    {
     "data": {
      "text/plain": [
       "<lsst.ts.salobj.ddsutil.Watcher_ackcmd at 0x7f2b5e4def10>"
      ]
     },
     "execution_count": 13,
     "metadata": {},
     "output_type": "execute_result"
    }
   ],
   "source": [
    "await r.cmd_acknowledge.set_start(name=\"Enabled.ATAOS:0\", severity=4)"
   ]
  },
  {
   "cell_type": "code",
   "execution_count": null,
   "metadata": {},
   "outputs": [],
   "source": []
  }
 ],
 "metadata": {
  "kernelspec": {
   "display_name": "Python 3",
   "language": "python",
   "name": "python3"
  },
  "language_info": {
   "codemirror_mode": {
    "name": "ipython",
    "version": 3
   },
   "file_extension": ".py",
   "mimetype": "text/x-python",
   "name": "python",
   "nbconvert_exporter": "python",
   "pygments_lexer": "ipython3",
   "version": "3.7.4"
  }
 },
 "nbformat": 4,
 "nbformat_minor": 4
}
