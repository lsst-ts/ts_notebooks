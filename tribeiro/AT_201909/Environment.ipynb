{
 "cells": [
  {
   "cell_type": "code",
   "execution_count": 1,
   "metadata": {},
   "outputs": [],
   "source": [
    "import asyncio\n",
    "from lsst.ts import salobj\n",
    "import logging"
   ]
  },
  {
   "cell_type": "code",
   "execution_count": 2,
   "metadata": {},
   "outputs": [],
   "source": [
    "import time"
   ]
  },
  {
   "cell_type": "code",
   "execution_count": 3,
   "metadata": {},
   "outputs": [],
   "source": [
    "d = salobj.Domain()"
   ]
  },
  {
   "cell_type": "code",
   "execution_count": 4,
   "metadata": {},
   "outputs": [],
   "source": [
    "r = salobj.Remote(d, \"Environment\", 1)"
   ]
  },
  {
   "cell_type": "code",
   "execution_count": 5,
   "metadata": {},
   "outputs": [],
   "source": [
    "await r.start_task"
   ]
  },
  {
   "cell_type": "code",
   "execution_count": null,
   "metadata": {},
   "outputs": [],
   "source": [
    "settings = await r.evt_settingVersions.next(flush=False, timeout=2)"
   ]
  },
  {
   "cell_type": "code",
   "execution_count": null,
   "metadata": {},
   "outputs": [],
   "source": [
    "print(settings)"
   ]
  },
  {
   "cell_type": "code",
   "execution_count": 10,
   "metadata": {},
   "outputs": [
    {
     "name": "stdout",
     "output_type": "stream",
     "text": [
      "EnvironmentID: 1, private_revCode: 0819bc35, private_sndStamp: 1576185320.788324, private_rcvStamp: 1576185320.7895663, private_seqNum: 1, private_origin: 141, private_host: -1947882788, heartbeat: False, priority: 0\n",
      "EnvironmentID: 1, private_revCode: 0819bc35, private_sndStamp: 1576185321.7906392, private_rcvStamp: 1576185321.7918355, private_seqNum: 2, private_origin: 141, private_host: -1947882788, heartbeat: False, priority: 0\n",
      "EnvironmentID: 1, private_revCode: 0819bc35, private_sndStamp: 1576185322.7930477, private_rcvStamp: 1576185322.7941663, private_seqNum: 3, private_origin: 141, private_host: -1947882788, heartbeat: False, priority: 0\n"
     ]
    }
   ],
   "source": [
    "await asyncio.sleep(1)\n",
    "for i in range(3):\n",
    "    print(await r.evt_heartbeat.next(flush=True, timeout=30))"
   ]
  },
  {
   "cell_type": "code",
   "execution_count": 11,
   "metadata": {},
   "outputs": [
    {
     "data": {
      "text/plain": [
       "[<State.STANDBY: 5>, <State.DISABLED: 1>, <State.ENABLED: 2>]"
      ]
     },
     "execution_count": 11,
     "metadata": {},
     "output_type": "execute_result"
    }
   ],
   "source": [
    "await asyncio.sleep(1.)\n",
    "await salobj.set_summary_state(r, salobj.State.ENABLED, settingsToApply=\"default\", timeout=60.)"
   ]
  },
  {
   "cell_type": "code",
   "execution_count": null,
   "metadata": {},
   "outputs": [],
   "source": [
    "await r.cmd_setLogLevel.set_start(level=logging.DEBUG)"
   ]
  },
  {
   "cell_type": "code",
   "execution_count": null,
   "metadata": {},
   "outputs": [],
   "source": [
    "err = await r.evt_errorCode.next(flush=False, timeout=1)"
   ]
  },
  {
   "cell_type": "code",
   "execution_count": null,
   "metadata": {},
   "outputs": [],
   "source": [
    "err.errorReport"
   ]
  },
  {
   "cell_type": "code",
   "execution_count": null,
   "metadata": {},
   "outputs": [],
   "source": [
    "print(err.traceback)"
   ]
  },
  {
   "cell_type": "code",
   "execution_count": null,
   "metadata": {},
   "outputs": [],
   "source": [
    "await asyncio.sleep(1.)\n",
    "await salobj.set_summary_state(r, salobj.State.STANDBY)"
   ]
  },
  {
   "cell_type": "code",
   "execution_count": 9,
   "metadata": {},
   "outputs": [
    {
     "name": "stderr",
     "output_type": "stream",
     "text": [
      "RemoteEvent(Environment, 1, heartbeat) falling behind; read 97 messages\n"
     ]
    },
    {
     "data": {
      "text/plain": [
       "[<State.ENABLED: 2>,\n",
       " <State.DISABLED: 1>,\n",
       " <State.STANDBY: 5>,\n",
       " <State.OFFLINE: 4>]"
      ]
     },
     "execution_count": 9,
     "metadata": {},
     "output_type": "execute_result"
    }
   ],
   "source": [
    "await asyncio.sleep(1.)\n",
    "await salobj.set_summary_state(r, salobj.State.OFFLINE)"
   ]
  },
  {
   "cell_type": "code",
   "execution_count": 12,
   "metadata": {},
   "outputs": [],
   "source": [
    "await asyncio.sleep(1.)\n",
    "w = await r.tel_weather.next(flush=True, timeout=61)"
   ]
  },
  {
   "cell_type": "code",
   "execution_count": null,
   "metadata": {},
   "outputs": [],
   "source": [
    "print(w)"
   ]
  },
  {
   "cell_type": "code",
   "execution_count": null,
   "metadata": {},
   "outputs": [],
   "source": [
    "wind = await r.tel_windSpeed.next(flush=False, timeout=61)"
   ]
  },
  {
   "cell_type": "code",
   "execution_count": null,
   "metadata": {},
   "outputs": [],
   "source": [
    "print(wind)"
   ]
  },
  {
   "cell_type": "code",
   "execution_count": null,
   "metadata": {},
   "outputs": [],
   "source": [
    "wind = await r.tel_windDirection.next(flush=False, timeout=61)"
   ]
  },
  {
   "cell_type": "code",
   "execution_count": null,
   "metadata": {},
   "outputs": [],
   "source": [
    "print(wind)"
   ]
  },
  {
   "cell_type": "code",
   "execution_count": null,
   "metadata": {},
   "outputs": [],
   "source": [
    "wind = await r.tel_windGustDirection.next(flush=False, timeout=61)"
   ]
  },
  {
   "cell_type": "code",
   "execution_count": null,
   "metadata": {},
   "outputs": [],
   "source": [
    "print(wind)"
   ]
  },
  {
   "cell_type": "code",
   "execution_count": null,
   "metadata": {},
   "outputs": [],
   "source": [
    "%%script bash \n",
    "make_idl_files.py Environment"
   ]
  },
  {
   "cell_type": "code",
   "execution_count": null,
   "metadata": {},
   "outputs": [],
   "source": [
    "loop = asyncio.get_event_loop()"
   ]
  },
  {
   "cell_type": "code",
   "execution_count": null,
   "metadata": {},
   "outputs": [],
   "source": [
    "time1 = loop.time()"
   ]
  },
  {
   "cell_type": "code",
   "execution_count": null,
   "metadata": {},
   "outputs": [],
   "source": [
    "await asyncio.sleep(1.)"
   ]
  },
  {
   "cell_type": "code",
   "execution_count": null,
   "metadata": {},
   "outputs": [],
   "source": [
    "loop.time()"
   ]
  },
  {
   "cell_type": "code",
   "execution_count": null,
   "metadata": {},
   "outputs": [],
   "source": [
    "time.time()"
   ]
  },
  {
   "cell_type": "markdown",
   "metadata": {},
   "source": [
    "If CSC goes to FAULT state restart it and restart the remote as well. "
   ]
  },
  {
   "cell_type": "code",
   "execution_count": null,
   "metadata": {},
   "outputs": [],
   "source": [
    "r.evt_summaryState.flush()"
   ]
  },
  {
   "cell_type": "code",
   "execution_count": null,
   "metadata": {},
   "outputs": [],
   "source": [
    "async def Watch_Env():\n",
    "    \n",
    "    print(\"Create domain and remote\")\n",
    "    d = salobj.Domain()\n",
    "    r = salobj.Remote(d, \"Environment\", 1)\n",
    "    print(\"Wait for start_task\")\n",
    "    await r.start_task\n",
    "    print(\"Wait for heartbeat from the CSC\")\n",
    "    for i in range(3):\n",
    "        print(await r.evt_heartbeat.next(flush=True, timeout=30))\n",
    "\n",
    "    print(\"Enable CSC\")\n",
    "    await r.cmd_setLogLevel.set_start(level=logging.DEBUG)\n",
    "    await salobj.set_summary_state(r, salobj.State.ENABLED, settingsToApply=\"default\", timeout=60.)\n",
    "\n",
    "    r.evt_summaryState.flush()\n",
    "\n",
    "    min_delta = 300.\n",
    "\n",
    "    time_0 = time.time()\n",
    "\n",
    "    while True:\n",
    "        ss = await r.evt_summaryState.next(flush=False)\n",
    "        time_1 = time.time()\n",
    "        if time_1 - time_0 < min_delta:\n",
    "            print(\"CSC went to FAULT too quick. Giving up....\")\n",
    "            break\n",
    "        elif ss.summaryState == salobj.State.FAULT:\n",
    "            print(\"CSC in FAULT state. Bring to OFFLINE state\")\n",
    "            await salobj.set_summary_state(r, salobj.State.OFFLINE)\n",
    "            print(\"Close remote and domain\")\n",
    "            await r.close()\n",
    "            await d.close()\n",
    "            print(\"Recreate domain and remote\")\n",
    "            d = salobj.Domain()\n",
    "            r = salobj.Remote(d, \"Environment\", 1)\n",
    "            print(\"Wait for start_task\")\n",
    "            await r.start_task\n",
    "            print(\"Wait for heartbeat from the CSC\")\n",
    "            for i in range(3):\n",
    "                print(await r.evt_heartbeat.next(flush=True, timeout=30))\n",
    "\n",
    "            print(\"Reenable CSC\")\n",
    "            await r.cmd_setLogLevel.set_start(level=logging.DEBUG)\n",
    "            await salobj.set_summary_state(r, salobj.State.ENABLED, settingsToApply=\"default\", timeout=60.)\n",
    "        else:\n",
    "            print(f\"CSC state: {salobj.State(ss.summaryState)}\")"
   ]
  },
  {
   "cell_type": "code",
   "execution_count": null,
   "metadata": {},
   "outputs": [],
   "source": [
    "await Watch_Env()"
   ]
  },
  {
   "cell_type": "code",
   "execution_count": null,
   "metadata": {},
   "outputs": [],
   "source": []
  }
 ],
 "metadata": {
  "kernelspec": {
   "display_name": "Python 3",
   "language": "python",
   "name": "python3"
  },
  "language_info": {
   "codemirror_mode": {
    "name": "ipython",
    "version": 3
   },
   "file_extension": ".py",
   "mimetype": "text/x-python",
   "name": "python",
   "nbconvert_exporter": "python",
   "pygments_lexer": "ipython3",
   "version": "3.7.2"
  }
 },
 "nbformat": 4,
 "nbformat_minor": 4
}
