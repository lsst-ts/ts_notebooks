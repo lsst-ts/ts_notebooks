{
 "cells": [
  {
   "cell_type": "markdown",
   "metadata": {},
   "source": [
    "This notebook is intended to aid the construction of a first pointing model with the Auxiliary Telescope. \n",
    "\n",
    "At this early stages, and given the small field-of-view of the telescope, it is really hard to get a start on the field. To help on the process, this notebook implements a Gridding routine. The routine will scan around the current position of the telescope and waits for the user to specify if is should continue, go to the next or previous pointing or stop. \n",
    "\n"
   ]
  },
  {
   "cell_type": "code",
   "execution_count": 1,
   "metadata": {},
   "outputs": [],
   "source": [
    "import logging\n",
    "import yaml\n",
    "\n",
    "import numpy as np\n",
    "from matplotlib import pyplot as plt\n",
    "import astropy.units as u\n",
    "from astropy.time import Time\n",
    "from astropy.coordinates import AltAz, ICRS, EarthLocation, Angle, FK5\n",
    "import asyncio\n",
    "\n",
    "# import palpy\n",
    "\n",
    "from lsst.ts import salobj\n",
    "\n",
    "from lsst.ts.standardscripts.auxtel.attcs import ATTCS\n",
    "\n",
    "from lsst.ts.idl.enums import ATPtg\n",
    "\n",
    "%matplotlib inline"
   ]
  },
  {
   "cell_type": "markdown",
   "metadata": {},
   "source": [
    "## Disable auto download of iers data. "
   ]
  },
  {
   "cell_type": "markdown",
   "metadata": {},
   "source": [
    "The main reason for disabling this is that the containers on the control network do not have access to the internet. Trying to download data when there is no outside access means a long time before the connection times out. "
   ]
  },
  {
   "cell_type": "code",
   "execution_count": 2,
   "metadata": {},
   "outputs": [],
   "source": [
    "from astropy.utils import iers\n",
    "iers.conf.auto_download = False"
   ]
  },
  {
   "cell_type": "markdown",
   "metadata": {},
   "source": [
    "## Check value of the `LSST_DDS_DOMAIN` variable."
   ]
  },
  {
   "cell_type": "markdown",
   "metadata": {},
   "source": [
    "For the AT early work at the summit, the expected value for `LSST_DDS_DOMAIN=lsatmcs`"
   ]
  },
  {
   "cell_type": "code",
   "execution_count": 3,
   "metadata": {},
   "outputs": [
    {
     "name": "stdout",
     "output_type": "stream",
     "text": [
      "lsatmcs\n"
     ]
    }
   ],
   "source": [
    "import os\n",
    "print(os.environ[\"LSST_DDS_DOMAIN\"])"
   ]
  },
  {
   "cell_type": "markdown",
   "metadata": {},
   "source": [
    "## Create a domain and remotes"
   ]
  },
  {
   "cell_type": "markdown",
   "metadata": {},
   "source": [
    "The ATTCS class uses the following remotes:\n",
    "\n",
    "  - atmcs \n",
    "  - atptg\n",
    "  - ataos\n",
    "  - atpneumatics \n",
    "  - athexapod\n",
    "  - atdome\n",
    "  - atdometrajectory\n"
   ]
  },
  {
   "cell_type": "code",
   "execution_count": 4,
   "metadata": {},
   "outputs": [],
   "source": [
    "d = salobj.Domain()"
   ]
  },
  {
   "cell_type": "markdown",
   "metadata": {},
   "source": [
    "In case, you need to build the idl files, copy the following command to a cell and run it. \n",
    "\n",
    "```\n",
    "%%script bash \n",
    "make_idl_files.py ATMCS ATPtg ATAOS ATPneumatics ATHexapod ATDome ATDomeTrajectory\n",
    "```"
   ]
  },
  {
   "cell_type": "code",
   "execution_count": null,
   "metadata": {},
   "outputs": [],
   "source": [
    "atmcs = salobj.Remote(d, \"ATMCS\")\n",
    "atptg = salobj.Remote(d, \"ATPtg\")"
   ]
  },
  {
   "cell_type": "code",
   "execution_count": null,
   "metadata": {},
   "outputs": [],
   "source": [
    "await asyncio.gather(atmcs.start_task, \n",
    "                     atptg.start_task)"
   ]
  },
  {
   "cell_type": "code",
   "execution_count": 5,
   "metadata": {},
   "outputs": [],
   "source": [
    "atmcs = salobj.Remote(d, \"ATMCS\")\n",
    "atptg = salobj.Remote(d, \"ATPtg\")\n",
    "ataos = salobj.Remote(d, \"ATAOS\")\n",
    "atpne = salobj.Remote(d, \"ATPneumatics\")\n",
    "athex = salobj.Remote(d, \"ATHexapod\")\n",
    "atdome = salobj.Remote(d, \"ATDome\", index=1)\n",
    "atdomtraj = salobj.Remote(d, \"ATDomeTrajectory\")"
   ]
  },
  {
   "cell_type": "code",
   "execution_count": 6,
   "metadata": {},
   "outputs": [
    {
     "data": {
      "text/plain": [
       "[None, None, None, None, None, None, None]"
      ]
     },
     "execution_count": 6,
     "metadata": {},
     "output_type": "execute_result"
    }
   ],
   "source": [
    "await asyncio.gather(atmcs.start_task, \n",
    "                     atptg.start_task,\n",
    "                     ataos.start_task,\n",
    "                     atpne.start_task,\n",
    "                     athex.start_task,\n",
    "                     atdome.start_task,\n",
    "                     atdomtraj.start_task)"
   ]
  },
  {
   "cell_type": "code",
   "execution_count": 248,
   "metadata": {},
   "outputs": [
    {
     "name": "stderr",
     "output_type": "stream",
     "text": [
      "RemoteTelemetry(ATPtg, 0, currentTargetStatus) falling behind; read 34 messages\n",
      "RemoteTelemetry(ATDome, 1, position) falling behind; read 33 messages\n",
      "RemoteTelemetry(ATPtg, 0, timeAndDate) falling behind; read 34 messages\n",
      "RemoteTelemetry(ATPtg, 0, mountStatus) falling behind; read 34 messages\n",
      "RemoteTelemetry(ATPtg, 0, guidingAndOffsets) falling behind; read 34 messages\n"
     ]
    },
    {
     "data": {
      "text/plain": [
       "[<State.DISABLED: 1>, <State.STANDBY: 5>]"
      ]
     },
     "execution_count": 248,
     "metadata": {},
     "output_type": "execute_result"
    }
   ],
   "source": [
    "await salobj.set_summary_state(ataos, salobj.State.STANDBY, settingsToApply='current')"
   ]
  },
  {
   "cell_type": "code",
   "execution_count": 14,
   "metadata": {},
   "outputs": [
    {
     "name": "stderr",
     "output_type": "stream",
     "text": [
      "RemoteTelemetry(ATPtg, 0, currentTargetStatus) falling behind; read 100 messages\n",
      "RemoteTelemetry(ATDome, 1, position) falling behind; read 100 messages\n",
      "RemoteTelemetry(ATPneumatics, 0, loadCell) falling behind; read 37 messages\n",
      "RemoteEvent(ATDomeTrajectory, 0, heartbeat) falling behind; read 36 messages\n",
      "RemoteTelemetry(ATPtg, 0, timeAndDate) falling behind; read 100 messages\n",
      "RemoteTelemetry(ATPtg, 0, mountStatus) falling behind; read 100 messages\n",
      "RemoteTelemetry(ATPneumatics, 0, mainAirSourcePressure) falling behind; read 37 messages\n",
      "RemoteTelemetry(ATMCS, 0, trajectory) falling behind; read 37 messages\n",
      "RemoteTelemetry(ATPtg, 0, guidingAndOffsets) falling behind; read 100 messages\n",
      "RemoteTelemetry(ATMCS, 0, torqueDemand) falling behind; read 37 messages\n",
      "RemoteTelemetry(ATMCS, 0, nasymth_m3_mountMotorEncoders) falling behind; read 37 messages\n",
      "RemoteTelemetry(ATMCS, 0, mount_Nasmyth_Encoders) falling behind; read 37 messages\n",
      "RemoteEvent(ATPtg, 0, mountDataWarning) falling behind; read 32 messages\n",
      "RemoteTelemetry(ATMCS, 0, mount_AzEl_Encoders) falling behind; read 37 messages\n",
      "RemoteTelemetry(ATMCS, 0, measuredTorque) falling behind; read 37 messages\n"
     ]
    },
    {
     "data": {
      "text/plain": [
       "<lsst.ts.salobj.ddsutil.ATAOS_ackcmd at 0x7ff01cacaa10>"
      ]
     },
     "execution_count": 14,
     "metadata": {},
     "output_type": "execute_result"
    },
    {
     "name": "stderr",
     "output_type": "stream",
     "text": [
      "RemoteTelemetry(ATMCS, 0, measuredMotorVelocity) falling behind; read 37 messages\n",
      "RemoteTelemetry(ATMCS, 0, azEl_mountMotorEncoders) falling behind; read 37 messages\n"
     ]
    }
   ],
   "source": [
    "await ataos.cmd_enableCorrection.set_start(m1=True)"
   ]
  },
  {
   "cell_type": "code",
   "execution_count": null,
   "metadata": {},
   "outputs": [],
   "source": [
    "await ataos.cmd_disableCorrection.set_start(m1=True)"
   ]
  },
  {
   "cell_type": "code",
   "execution_count": 234,
   "metadata": {},
   "outputs": [
    {
     "name": "stderr",
     "output_type": "stream",
     "text": [
      "RemoteEvent(ATAOS, 0, heartbeat) falling behind; read 28 messages\n",
      "RemoteEvent(ATHexapod, 0, heartbeat) falling behind; read 28 messages\n",
      "RemoteTelemetry(ATDome, 1, position) falling behind; read 100 messages\n",
      "RemoteEvent(ATDomeTrajectory, 0, heartbeat) falling behind; read 28 messages\n",
      "RemoteTelemetry(ATPneumatics, 0, mainAirSourcePressure) falling behind; read 27 messages\n",
      "RemoteTelemetry(ATPneumatics, 0, m2AirPressure) falling behind; read 27 messages\n",
      "RemoteTelemetry(ATPtg, 0, timeAndDate) falling behind; read 100 messages\n",
      "RemoteTelemetry(ATPneumatics, 0, m1AirPressure) falling behind; read 28 messages\n",
      "RemoteTelemetry(ATPtg, 0, mountStatus) falling behind; read 100 messages\n",
      "RemoteTelemetry(ATPneumatics, 0, loadCell) falling behind; read 28 messages\n",
      "RemoteTelemetry(ATPtg, 0, guidingAndOffsets) falling behind; read 100 messages\n",
      "RemoteEvent(ATDome, 1, heartbeat) falling behind; read 28 messages\n",
      "RemoteEvent(ATPneumatics, 0, heartbeat) falling behind; read 28 messages\n",
      "RemoteTelemetry(ATPtg, 0, currentTargetStatus) falling behind; read 100 messages\n"
     ]
    },
    {
     "ename": "AckError",
     "evalue": "msg='Command failed', ackcmd=(ackcmd private_seqNum=1487062206, ack=<SalRetCode.CMD_NOPERM: -300>, error=0, result='ERROR: Command standby rejected while in FaultState state.tate state.')",
     "output_type": "error",
     "traceback": [
      "\u001b[0;31m\u001b[0m",
      "\u001b[0;31mAckError\u001b[0mTraceback (most recent call last)",
      "\u001b[0;32m<ipython-input-234-8458dc7fc010>\u001b[0m in \u001b[0;36masync-def-wrapper\u001b[0;34m()\u001b[0m\n",
      "\u001b[0;32m~/repos/ts_salobj/python/lsst/ts/salobj/topics/remote_command.py\u001b[0m in \u001b[0;36mstart\u001b[0;34m(self, data, timeout, wait_done)\u001b[0m\n\u001b[1;32m    366\u001b[0m         \u001b[0mcmd_info\u001b[0m \u001b[0;34m=\u001b[0m \u001b[0m_CommandInfo\u001b[0m\u001b[0;34m(\u001b[0m\u001b[0mremote_command\u001b[0m\u001b[0;34m=\u001b[0m\u001b[0mself\u001b[0m\u001b[0;34m,\u001b[0m \u001b[0mseq_num\u001b[0m\u001b[0;34m=\u001b[0m\u001b[0mseq_num\u001b[0m\u001b[0;34m,\u001b[0m \u001b[0mwait_done\u001b[0m\u001b[0;34m=\u001b[0m\u001b[0mwait_done\u001b[0m\u001b[0;34m)\u001b[0m\u001b[0;34m\u001b[0m\u001b[0;34m\u001b[0m\u001b[0m\n\u001b[1;32m    367\u001b[0m         \u001b[0mself\u001b[0m\u001b[0;34m.\u001b[0m\u001b[0msalinfo\u001b[0m\u001b[0;34m.\u001b[0m\u001b[0m_running_cmds\u001b[0m\u001b[0;34m[\u001b[0m\u001b[0mseq_num\u001b[0m\u001b[0;34m]\u001b[0m \u001b[0;34m=\u001b[0m \u001b[0mcmd_info\u001b[0m\u001b[0;34m\u001b[0m\u001b[0;34m\u001b[0m\u001b[0m\n\u001b[0;32m--> 368\u001b[0;31m         \u001b[0;32mreturn\u001b[0m \u001b[0;32mawait\u001b[0m \u001b[0mcmd_info\u001b[0m\u001b[0;34m.\u001b[0m\u001b[0mnext_ackcmd\u001b[0m\u001b[0;34m(\u001b[0m\u001b[0mtimeout\u001b[0m\u001b[0;34m=\u001b[0m\u001b[0mtimeout\u001b[0m\u001b[0;34m)\u001b[0m\u001b[0;34m\u001b[0m\u001b[0;34m\u001b[0m\u001b[0m\n\u001b[0m",
      "\u001b[0;32m~/repos/ts_salobj/python/lsst/ts/salobj/topics/remote_command.py\u001b[0m in \u001b[0;36mnext_ackcmd\u001b[0;34m(self, timeout)\u001b[0m\n\u001b[1;32m    169\u001b[0m             \u001b[0;31m# print(f\"next_ackcmd got {ackcmd.ack} from _basic_next_ack\")\u001b[0m\u001b[0;34m\u001b[0m\u001b[0;34m\u001b[0m\u001b[0;34m\u001b[0m\u001b[0m\n\u001b[1;32m    170\u001b[0m             \u001b[0;32mif\u001b[0m \u001b[0mackcmd\u001b[0m\u001b[0;34m.\u001b[0m\u001b[0mack\u001b[0m \u001b[0;32min\u001b[0m \u001b[0mself\u001b[0m\u001b[0;34m.\u001b[0m\u001b[0mfailed_ack_codes\u001b[0m\u001b[0;34m:\u001b[0m\u001b[0;34m\u001b[0m\u001b[0;34m\u001b[0m\u001b[0m\n\u001b[0;32m--> 171\u001b[0;31m                 \u001b[0;32mraise\u001b[0m \u001b[0mbase\u001b[0m\u001b[0;34m.\u001b[0m\u001b[0mAckError\u001b[0m\u001b[0;34m(\u001b[0m\u001b[0mmsg\u001b[0m\u001b[0;34m=\u001b[0m\u001b[0;34m\"Command failed\"\u001b[0m\u001b[0;34m,\u001b[0m \u001b[0mackcmd\u001b[0m\u001b[0;34m=\u001b[0m\u001b[0mackcmd\u001b[0m\u001b[0;34m)\u001b[0m\u001b[0;34m\u001b[0m\u001b[0;34m\u001b[0m\u001b[0m\n\u001b[0m\u001b[1;32m    172\u001b[0m             \u001b[0;32mreturn\u001b[0m \u001b[0mackcmd\u001b[0m\u001b[0;34m\u001b[0m\u001b[0;34m\u001b[0m\u001b[0m\n\u001b[1;32m    173\u001b[0m         \u001b[0;32mexcept\u001b[0m \u001b[0masyncio\u001b[0m\u001b[0;34m.\u001b[0m\u001b[0mTimeoutError\u001b[0m\u001b[0;34m:\u001b[0m\u001b[0;34m\u001b[0m\u001b[0;34m\u001b[0m\u001b[0m\n",
      "\u001b[0;31mAckError\u001b[0m: msg='Command failed', ackcmd=(ackcmd private_seqNum=1487062206, ack=<SalRetCode.CMD_NOPERM: -300>, error=0, result='ERROR: Command standby rejected while in FaultState state.tate state.')"
     ]
    }
   ],
   "source": [
    "await atmcs.cmd_standby.start()"
   ]
  },
  {
   "cell_type": "code",
   "execution_count": 247,
   "metadata": {},
   "outputs": [
    {
     "name": "stderr",
     "output_type": "stream",
     "text": [
      "RemoteTelemetry(ATDome, 1, position) falling behind; read 36 messages\n",
      "RemoteTelemetry(ATPtg, 0, timeAndDate) falling behind; read 36 messages\n"
     ]
    },
    {
     "data": {
      "text/plain": [
       "[<State.DISABLED: 1>, <State.STANDBY: 5>]"
      ]
     },
     "execution_count": 247,
     "metadata": {},
     "output_type": "execute_result"
    }
   ],
   "source": [
    "await salobj.set_summary_state(atmcs, salobj.State.STANDBY, timeout=120)\n",
    "# await atmcs.cmd_standby.start(timeout=60)"
   ]
  },
  {
   "cell_type": "code",
   "execution_count": 249,
   "metadata": {},
   "outputs": [
    {
     "name": "stderr",
     "output_type": "stream",
     "text": [
      "RemoteEvent(ATDome, 1, heartbeat) falling behind; read 13 messages\n",
      "RemoteEvent(ATAOS, 0, heartbeat) falling behind; read 13 messages\n",
      "RemoteEvent(ATMCS, 0, heartbeat) falling behind; read 13 messages\n",
      "RemoteTelemetry(ATPneumatics, 0, loadCell) falling behind; read 13 messages\n",
      "RemoteEvent(ATDomeTrajectory, 0, heartbeat) falling behind; read 13 messages\n",
      "RemoteEvent(ATHexapod, 0, heartbeat) falling behind; read 12 messages\n",
      "RemoteTelemetry(ATPneumatics, 0, mainAirSourcePressure) falling behind; read 13 messages\n",
      "RemoteTelemetry(ATPneumatics, 0, m2AirPressure) falling behind; read 13 messages\n",
      "RemoteTelemetry(ATPneumatics, 0, m1AirPressure) falling behind; read 13 messages\n",
      "RemoteEvent(ATPneumatics, 0, heartbeat) falling behind; read 13 messages\n"
     ]
    },
    {
     "data": {
      "text/plain": [
       "[<State.ENABLED: 2>, <State.DISABLED: 1>, <State.STANDBY: 5>]"
      ]
     },
     "execution_count": 249,
     "metadata": {},
     "output_type": "execute_result"
    }
   ],
   "source": [
    "# await atpne.cmd_standby.start(timeout=30)\n",
    "await salobj.set_summary_state(atpne, salobj.State.STANDBY, timeout=120)"
   ]
  },
  {
   "cell_type": "code",
   "execution_count": 45,
   "metadata": {},
   "outputs": [
    {
     "name": "stderr",
     "output_type": "stream",
     "text": [
      "AckCmdReader(ATMCS, 0, ackcmd) falling behind; read 100 messages\n",
      "RemoteEvent(ATDomeTrajectory, 0, logMessage) falling behind; read 100 messages\n",
      "RemoteTelemetry(ATPtg, 0, currentTargetStatus) falling behind; read 100 messages\n",
      "RemoteTelemetry(ATDome, 1, position) falling behind; read 100 messages\n",
      "RemoteEvent(ATAOS, 0, heartbeat) falling behind; read 100 messages\n",
      "RemoteTelemetry(ATPneumatics, 0, loadCell) falling behind; read 100 messages\n",
      "RemoteEvent(ATHexapod, 0, heartbeat) falling behind; read 100 messages\n",
      "falling behind; queue contains 99 elements\n",
      "falling behind; queue contains 98 elements\n",
      "falling behind; queue contains 97 elements\n",
      "RemoteTelemetry(ATPneumatics, 0, mainAirSourcePressure) falling behind; read 100 messages\n",
      "RemoteEvent(ATDome, 1, heartbeat) falling behind; read 100 messages\n",
      "RemoteTelemetry(ATPneumatics, 0, m2AirPressure) falling behind; read 100 messages\n",
      "RemoteTelemetry(ATMCS, 0, trajectory) falling behind; read 100 messages\n",
      "RemoteTelemetry(ATPtg, 0, timeAndDate) falling behind; read 100 messages\n",
      "RemoteTelemetry(ATPneumatics, 0, m1AirPressure) falling behind; read 100 messages\n",
      "RemoteTelemetry(ATMCS, 0, torqueDemand) falling behind; read 100 messages\n",
      "RemoteEvent(ATDomeTrajectory, 0, heartbeat) falling behind; read 100 messages\n",
      "RemoteTelemetry(ATPtg, 0, mountStatus) falling behind; read 100 messages\n",
      "RemoteTelemetry(ATMCS, 0, nasymth_m3_mountMotorEncoders) falling behind; read 100 messages\n",
      "RemoteTelemetry(ATPtg, 0, guidingAndOffsets) falling behind; read 100 messages\n",
      "RemoteEvent(ATPneumatics, 0, heartbeat) falling behind; read 100 messages\n",
      "RemoteTelemetry(ATMCS, 0, mount_Nasmyth_Encoders) falling behind; read 100 messages\n",
      "RemoteTelemetry(ATPtg, 0, currentTimesToLimits) falling behind; read 39 messages\n",
      "RemoteTelemetry(ATMCS, 0, mount_AzEl_Encoders) falling behind; read 100 messages\n",
      "RemoteTelemetry(ATMCS, 0, measuredTorque) falling behind; read 100 messages\n",
      "RemoteEvent(ATPtg, 0, weatherDataApplied) falling behind; read 19 messages\n",
      "RemoteTelemetry(ATMCS, 0, measuredMotorVelocity) falling behind; read 100 messages\n",
      "RemoteEvent(ATPtg, 0, mountDataWarning) falling behind; read 100 messages\n",
      "RemoteTelemetry(ATMCS, 0, azEl_mountMotorEncoders) falling behind; read 100 messages\n",
      "RemoteEvent(ATMCS, 0, target) falling behind; read 100 messages\n"
     ]
    },
    {
     "ename": "AckError",
     "evalue": "msg='Command failed', ackcmd=(ackcmd private_seqNum=1661760039, ack=<SalRetCode.CMD_NOPERM: -300>, error=0, result='ERROR: Command masterOpenValve rejected while in EnabledState state.')",
     "output_type": "error",
     "traceback": [
      "\u001b[0;31m\u001b[0m",
      "\u001b[0;31mAckError\u001b[0mTraceback (most recent call last)",
      "\u001b[0;32m<ipython-input-45-7a482cdc64dc>\u001b[0m in \u001b[0;36masync-def-wrapper\u001b[0;34m()\u001b[0m\n",
      "\u001b[0;32m~/repos/ts_salobj/python/lsst/ts/salobj/topics/remote_command.py\u001b[0m in \u001b[0;36mstart\u001b[0;34m(self, data, timeout, wait_done)\u001b[0m\n\u001b[1;32m    366\u001b[0m         \u001b[0mcmd_info\u001b[0m \u001b[0;34m=\u001b[0m \u001b[0m_CommandInfo\u001b[0m\u001b[0;34m(\u001b[0m\u001b[0mremote_command\u001b[0m\u001b[0;34m=\u001b[0m\u001b[0mself\u001b[0m\u001b[0;34m,\u001b[0m \u001b[0mseq_num\u001b[0m\u001b[0;34m=\u001b[0m\u001b[0mseq_num\u001b[0m\u001b[0;34m,\u001b[0m \u001b[0mwait_done\u001b[0m\u001b[0;34m=\u001b[0m\u001b[0mwait_done\u001b[0m\u001b[0;34m)\u001b[0m\u001b[0;34m\u001b[0m\u001b[0;34m\u001b[0m\u001b[0m\n\u001b[1;32m    367\u001b[0m         \u001b[0mself\u001b[0m\u001b[0;34m.\u001b[0m\u001b[0msalinfo\u001b[0m\u001b[0;34m.\u001b[0m\u001b[0m_running_cmds\u001b[0m\u001b[0;34m[\u001b[0m\u001b[0mseq_num\u001b[0m\u001b[0;34m]\u001b[0m \u001b[0;34m=\u001b[0m \u001b[0mcmd_info\u001b[0m\u001b[0;34m\u001b[0m\u001b[0;34m\u001b[0m\u001b[0m\n\u001b[0;32m--> 368\u001b[0;31m         \u001b[0;32mreturn\u001b[0m \u001b[0;32mawait\u001b[0m \u001b[0mcmd_info\u001b[0m\u001b[0;34m.\u001b[0m\u001b[0mnext_ackcmd\u001b[0m\u001b[0;34m(\u001b[0m\u001b[0mtimeout\u001b[0m\u001b[0;34m=\u001b[0m\u001b[0mtimeout\u001b[0m\u001b[0;34m)\u001b[0m\u001b[0;34m\u001b[0m\u001b[0;34m\u001b[0m\u001b[0m\n\u001b[0m",
      "\u001b[0;32m~/repos/ts_salobj/python/lsst/ts/salobj/topics/remote_command.py\u001b[0m in \u001b[0;36mnext_ackcmd\u001b[0;34m(self, timeout)\u001b[0m\n\u001b[1;32m    169\u001b[0m             \u001b[0;31m# print(f\"next_ackcmd got {ackcmd.ack} from _basic_next_ack\")\u001b[0m\u001b[0;34m\u001b[0m\u001b[0;34m\u001b[0m\u001b[0;34m\u001b[0m\u001b[0m\n\u001b[1;32m    170\u001b[0m             \u001b[0;32mif\u001b[0m \u001b[0mackcmd\u001b[0m\u001b[0;34m.\u001b[0m\u001b[0mack\u001b[0m \u001b[0;32min\u001b[0m \u001b[0mself\u001b[0m\u001b[0;34m.\u001b[0m\u001b[0mfailed_ack_codes\u001b[0m\u001b[0;34m:\u001b[0m\u001b[0;34m\u001b[0m\u001b[0;34m\u001b[0m\u001b[0m\n\u001b[0;32m--> 171\u001b[0;31m                 \u001b[0;32mraise\u001b[0m \u001b[0mbase\u001b[0m\u001b[0;34m.\u001b[0m\u001b[0mAckError\u001b[0m\u001b[0;34m(\u001b[0m\u001b[0mmsg\u001b[0m\u001b[0;34m=\u001b[0m\u001b[0;34m\"Command failed\"\u001b[0m\u001b[0;34m,\u001b[0m \u001b[0mackcmd\u001b[0m\u001b[0;34m=\u001b[0m\u001b[0mackcmd\u001b[0m\u001b[0;34m)\u001b[0m\u001b[0;34m\u001b[0m\u001b[0;34m\u001b[0m\u001b[0m\n\u001b[0m\u001b[1;32m    172\u001b[0m             \u001b[0;32mreturn\u001b[0m \u001b[0mackcmd\u001b[0m\u001b[0;34m\u001b[0m\u001b[0;34m\u001b[0m\u001b[0m\n\u001b[1;32m    173\u001b[0m         \u001b[0;32mexcept\u001b[0m \u001b[0masyncio\u001b[0m\u001b[0;34m.\u001b[0m\u001b[0mTimeoutError\u001b[0m\u001b[0;34m:\u001b[0m\u001b[0;34m\u001b[0m\u001b[0;34m\u001b[0m\u001b[0m\n",
      "\u001b[0;31mAckError\u001b[0m: msg='Command failed', ackcmd=(ackcmd private_seqNum=1661760039, ack=<SalRetCode.CMD_NOPERM: -300>, error=0, result='ERROR: Command masterOpenValve rejected while in EnabledState state.')"
     ]
    },
    {
     "name": "stderr",
     "output_type": "stream",
     "text": [
      "RemoteEvent(ATMCS, 0, heartbeat) falling behind; read 100 messages\n"
     ]
    }
   ],
   "source": [
    "await atpne.cmd_openMasterAirSupply.start()"
   ]
  },
  {
   "cell_type": "code",
   "execution_count": 46,
   "metadata": {},
   "outputs": [
    {
     "name": "stderr",
     "output_type": "stream",
     "text": [
      "falling behind; queue contains 99 elements\n",
      "falling behind; queue contains 98 elements\n",
      "falling behind; queue contains 97 elements\n",
      "falling behind; queue contains 99 elements\n",
      "falling behind; queue contains 98 elements\n",
      "falling behind; queue contains 97 elements\n"
     ]
    },
    {
     "ename": "AckError",
     "evalue": "msg='Command failed', ackcmd=(ackcmd private_seqNum=1361087480, ack=<SalRetCode.CMD_NOPERM: -300>, error=0, result='ERROR: Command instOpenValve rejected while in EnabledState state.')",
     "output_type": "error",
     "traceback": [
      "\u001b[0;31m\u001b[0m",
      "\u001b[0;31mAckError\u001b[0mTraceback (most recent call last)",
      "\u001b[0;32m<ipython-input-46-18c1acd2e2c9>\u001b[0m in \u001b[0;36masync-def-wrapper\u001b[0;34m()\u001b[0m\n",
      "\u001b[0;32m~/repos/ts_salobj/python/lsst/ts/salobj/topics/remote_command.py\u001b[0m in \u001b[0;36mstart\u001b[0;34m(self, data, timeout, wait_done)\u001b[0m\n\u001b[1;32m    366\u001b[0m         \u001b[0mcmd_info\u001b[0m \u001b[0;34m=\u001b[0m \u001b[0m_CommandInfo\u001b[0m\u001b[0;34m(\u001b[0m\u001b[0mremote_command\u001b[0m\u001b[0;34m=\u001b[0m\u001b[0mself\u001b[0m\u001b[0;34m,\u001b[0m \u001b[0mseq_num\u001b[0m\u001b[0;34m=\u001b[0m\u001b[0mseq_num\u001b[0m\u001b[0;34m,\u001b[0m \u001b[0mwait_done\u001b[0m\u001b[0;34m=\u001b[0m\u001b[0mwait_done\u001b[0m\u001b[0;34m)\u001b[0m\u001b[0;34m\u001b[0m\u001b[0;34m\u001b[0m\u001b[0m\n\u001b[1;32m    367\u001b[0m         \u001b[0mself\u001b[0m\u001b[0;34m.\u001b[0m\u001b[0msalinfo\u001b[0m\u001b[0;34m.\u001b[0m\u001b[0m_running_cmds\u001b[0m\u001b[0;34m[\u001b[0m\u001b[0mseq_num\u001b[0m\u001b[0;34m]\u001b[0m \u001b[0;34m=\u001b[0m \u001b[0mcmd_info\u001b[0m\u001b[0;34m\u001b[0m\u001b[0;34m\u001b[0m\u001b[0m\n\u001b[0;32m--> 368\u001b[0;31m         \u001b[0;32mreturn\u001b[0m \u001b[0;32mawait\u001b[0m \u001b[0mcmd_info\u001b[0m\u001b[0;34m.\u001b[0m\u001b[0mnext_ackcmd\u001b[0m\u001b[0;34m(\u001b[0m\u001b[0mtimeout\u001b[0m\u001b[0;34m=\u001b[0m\u001b[0mtimeout\u001b[0m\u001b[0;34m)\u001b[0m\u001b[0;34m\u001b[0m\u001b[0;34m\u001b[0m\u001b[0m\n\u001b[0m",
      "\u001b[0;32m~/repos/ts_salobj/python/lsst/ts/salobj/topics/remote_command.py\u001b[0m in \u001b[0;36mnext_ackcmd\u001b[0;34m(self, timeout)\u001b[0m\n\u001b[1;32m    169\u001b[0m             \u001b[0;31m# print(f\"next_ackcmd got {ackcmd.ack} from _basic_next_ack\")\u001b[0m\u001b[0;34m\u001b[0m\u001b[0;34m\u001b[0m\u001b[0;34m\u001b[0m\u001b[0m\n\u001b[1;32m    170\u001b[0m             \u001b[0;32mif\u001b[0m \u001b[0mackcmd\u001b[0m\u001b[0;34m.\u001b[0m\u001b[0mack\u001b[0m \u001b[0;32min\u001b[0m \u001b[0mself\u001b[0m\u001b[0;34m.\u001b[0m\u001b[0mfailed_ack_codes\u001b[0m\u001b[0;34m:\u001b[0m\u001b[0;34m\u001b[0m\u001b[0;34m\u001b[0m\u001b[0m\n\u001b[0;32m--> 171\u001b[0;31m                 \u001b[0;32mraise\u001b[0m \u001b[0mbase\u001b[0m\u001b[0;34m.\u001b[0m\u001b[0mAckError\u001b[0m\u001b[0;34m(\u001b[0m\u001b[0mmsg\u001b[0m\u001b[0;34m=\u001b[0m\u001b[0;34m\"Command failed\"\u001b[0m\u001b[0;34m,\u001b[0m \u001b[0mackcmd\u001b[0m\u001b[0;34m=\u001b[0m\u001b[0mackcmd\u001b[0m\u001b[0;34m)\u001b[0m\u001b[0;34m\u001b[0m\u001b[0;34m\u001b[0m\u001b[0m\n\u001b[0m\u001b[1;32m    172\u001b[0m             \u001b[0;32mreturn\u001b[0m \u001b[0mackcmd\u001b[0m\u001b[0;34m\u001b[0m\u001b[0;34m\u001b[0m\u001b[0m\n\u001b[1;32m    173\u001b[0m         \u001b[0;32mexcept\u001b[0m \u001b[0masyncio\u001b[0m\u001b[0;34m.\u001b[0m\u001b[0mTimeoutError\u001b[0m\u001b[0;34m:\u001b[0m\u001b[0;34m\u001b[0m\u001b[0;34m\u001b[0m\u001b[0m\n",
      "\u001b[0;31mAckError\u001b[0m: msg='Command failed', ackcmd=(ackcmd private_seqNum=1361087480, ack=<SalRetCode.CMD_NOPERM: -300>, error=0, result='ERROR: Command instOpenValve rejected while in EnabledState state.')"
     ]
    }
   ],
   "source": [
    "await atpne.cmd_openInstrumentAirValve.start()"
   ]
  },
  {
   "cell_type": "code",
   "execution_count": 43,
   "metadata": {},
   "outputs": [
    {
     "name": "stderr",
     "output_type": "stream",
     "text": [
      "AckCmdReader(ATMCS, 0, ackcmd) falling behind; read 100 messages\n",
      "RemoteEvent(ATDomeTrajectory, 0, logMessage) falling behind; read 100 messages\n",
      "RemoteTelemetry(ATDome, 1, position) falling behind; read 37 messages\n",
      "falling behind; queue contains 99 elements\n",
      "falling behind; queue contains 98 elements\n",
      "falling behind; queue contains 97 elements\n",
      "RemoteTelemetry(ATPtg, 0, timeAndDate) falling behind; read 38 messages\n",
      "RemoteTelemetry(ATPtg, 0, mountStatus) falling behind; read 38 messages\n",
      "RemoteTelemetry(ATPtg, 0, guidingAndOffsets) falling behind; read 38 messages\n",
      "RemoteTelemetry(ATPtg, 0, currentTargetStatus) falling behind; read 38 messages\n",
      "RemoteEvent(ATMCS, 0, target) falling behind; read 100 messages\n",
      "falling behind; queue contains 99 elements\n",
      "falling behind; queue contains 98 elements\n",
      "falling behind; queue contains 97 elements\n",
      "falling behind; queue contains 99 elements\n",
      "falling behind; queue contains 98 elements\n",
      "falling behind; queue contains 97 elements\n",
      "falling behind; queue contains 99 elements\n",
      "falling behind; queue contains 98 elements\n",
      "falling behind; queue contains 97 elements\n",
      "falling behind; queue contains 67 elements\n",
      "falling behind; queue contains 66 elements\n"
     ]
    },
    {
     "data": {
      "text/plain": [
       "<lsst.ts.salobj.ddsutil.ATPneumatics_ackcmd at 0x7feff3040290>"
      ]
     },
     "execution_count": 43,
     "metadata": {},
     "output_type": "execute_result"
    }
   ],
   "source": [
    "await atpne.cmd_m1OpenAirValve.start()"
   ]
  },
  {
   "cell_type": "code",
   "execution_count": 44,
   "metadata": {},
   "outputs": [
    {
     "name": "stderr",
     "output_type": "stream",
     "text": [
      "RemoteEvent(ATMCS, 0, target) falling behind; read 98 messages\n",
      "RemoteEvent(ATDomeTrajectory, 0, logMessage) falling behind; read 98 messages\n",
      "RemoteTelemetry(ATDome, 1, position) falling behind; read 24 messages\n",
      "RemoteTelemetry(ATPtg, 0, timeAndDate) falling behind; read 25 messages\n",
      "RemoteTelemetry(ATPtg, 0, mountStatus) falling behind; read 25 messages\n",
      "RemoteTelemetry(ATPtg, 0, guidingAndOffsets) falling behind; read 25 messages\n",
      "RemoteTelemetry(ATPtg, 0, currentTargetStatus) falling behind; read 25 messages\n",
      "AckCmdReader(ATMCS, 0, ackcmd) falling behind; read 100 messages\n",
      "falling behind; queue contains 99 elements\n",
      "falling behind; queue contains 98 elements\n",
      "falling behind; queue contains 97 elements\n",
      "falling behind; queue contains 99 elements\n",
      "falling behind; queue contains 98 elements\n",
      "falling behind; queue contains 97 elements\n",
      "falling behind; queue contains 97 elements\n",
      "falling behind; queue contains 96 elements\n",
      "falling behind; queue contains 95 elements\n"
     ]
    },
    {
     "data": {
      "text/plain": [
       "<lsst.ts.salobj.ddsutil.ATPneumatics_ackcmd at 0x7ff01c76ef10>"
      ]
     },
     "execution_count": 44,
     "metadata": {},
     "output_type": "execute_result"
    }
   ],
   "source": [
    "await atpne.cmd_m1SetPressure.set_start(pressure=100000)"
   ]
  },
  {
   "cell_type": "code",
   "execution_count": 250,
   "metadata": {},
   "outputs": [
    {
     "name": "stderr",
     "output_type": "stream",
     "text": [
      "RemoteTelemetry(ATPtg, 0, currentTargetStatus) falling behind; read 54 messages\n",
      "RemoteTelemetry(ATDome, 1, position) falling behind; read 54 messages\n",
      "RemoteEvent(ATAOS, 0, heartbeat) falling behind; read 11 messages\n",
      "RemoteEvent(ATMCS, 0, heartbeat) falling behind; read 11 messages\n",
      "RemoteEvent(ATDomeTrajectory, 0, heartbeat) falling behind; read 11 messages\n",
      "RemoteEvent(ATHexapod, 0, heartbeat) falling behind; read 10 messages\n",
      "RemoteEvent(ATDome, 1, heartbeat) falling behind; read 10 messages\n",
      "RemoteEvent(ATPneumatics, 0, heartbeat) falling behind; read 11 messages\n",
      "RemoteTelemetry(ATPtg, 0, timeAndDate) falling behind; read 54 messages\n",
      "RemoteTelemetry(ATPtg, 0, mountStatus) falling behind; read 54 messages\n",
      "RemoteTelemetry(ATPtg, 0, guidingAndOffsets) falling behind; read 54 messages\n"
     ]
    },
    {
     "data": {
      "text/plain": [
       "[<State.ENABLED: 2>, <State.DISABLED: 1>, <State.STANDBY: 5>]"
      ]
     },
     "execution_count": 250,
     "metadata": {},
     "output_type": "execute_result"
    }
   ],
   "source": [
    "await atdome.evt_heartbeat.next(flush=True, timeout=30)\n",
    "await salobj.set_summary_state(atdome, salobj.State.STANDBY, timeout=120, settingsToApply='test')"
   ]
  },
  {
   "cell_type": "code",
   "execution_count": 242,
   "metadata": {},
   "outputs": [
    {
     "name": "stderr",
     "output_type": "stream",
     "text": [
      "AckCmdReader(ATMCS, 0, ackcmd) falling behind; read 100 messages\n",
      "RemoteTelemetry(ATPneumatics, 0, loadCell) falling behind; read 100 messages\n",
      "RemoteEvent(ATAOS, 0, heartbeat) falling behind; read 100 messages\n",
      "RemoteEvent(ATHexapod, 0, heartbeat) falling behind; read 100 messages\n",
      "falling behind; queue contains 99 elements\n",
      "falling behind; queue contains 98 elements\n",
      "falling behind; queue contains 97 elements\n",
      "RemoteTelemetry(ATMCS, 0, trajectory) falling behind; read 100 messages\n",
      "RemoteTelemetry(ATPneumatics, 0, mainAirSourcePressure) falling behind; read 100 messages\n",
      "RemoteTelemetry(ATMCS, 0, torqueDemand) falling behind; read 100 messages\n",
      "RemoteEvent(ATDomeTrajectory, 0, heartbeat) falling behind; read 100 messages\n",
      "RemoteEvent(ATDome, 1, heartbeat) falling behind; read 100 messages\n",
      "RemoteTelemetry(ATPneumatics, 0, m2AirPressure) falling behind; read 100 messages\n",
      "RemoteTelemetry(ATPtg, 0, currentTimesToLimits) falling behind; read 23 messages\n",
      "RemoteTelemetry(ATMCS, 0, nasymth_m3_mountMotorEncoders) falling behind; read 100 messages\n",
      "RemoteTelemetry(ATPneumatics, 0, m1AirPressure) falling behind; read 100 messages\n",
      "RemoteTelemetry(ATMCS, 0, mount_Nasmyth_Encoders) falling behind; read 100 messages\n",
      "RemoteTelemetry(ATMCS, 0, mount_AzEl_Encoders) falling behind; read 100 messages\n",
      "RemoteEvent(ATPneumatics, 0, heartbeat) falling behind; read 100 messages\n",
      "RemoteTelemetry(ATMCS, 0, measuredTorque) falling behind; read 100 messages\n",
      "RemoteTelemetry(ATMCS, 0, measuredMotorVelocity) falling behind; read 100 messages\n",
      "RemoteTelemetry(ATMCS, 0, azEl_mountMotorEncoders) falling behind; read 100 messages\n",
      "RemoteEvent(ATMCS, 0, heartbeat) falling behind; read 100 messages\n",
      "falling behind; queue contains 99 elements\n",
      "falling behind; queue contains 98 elements\n",
      "falling behind; queue contains 97 elements\n"
     ]
    },
    {
     "data": {
      "text/plain": [
       "[<State.ENABLED: 2>, <State.DISABLED: 1>, <State.STANDBY: 5>]"
      ]
     },
     "execution_count": 242,
     "metadata": {},
     "output_type": "execute_result"
    },
    {
     "name": "stderr",
     "output_type": "stream",
     "text": [
      "falling behind; queue contains 99 elements\n",
      "falling behind; queue contains 98 elements\n",
      "falling behind; queue contains 97 elements\n"
     ]
    }
   ],
   "source": [
    "await atdomtraj.evt_heartbeat.next(flush=True, timeout=10)\n",
    "await salobj.set_summary_state(atdomtraj, salobj.State.STANDBY, timeout=120)"
   ]
  },
  {
   "cell_type": "code",
   "execution_count": 251,
   "metadata": {},
   "outputs": [
    {
     "name": "stderr",
     "output_type": "stream",
     "text": [
      "RemoteEvent(ATHexapod, 0, heartbeat) falling behind; read 22 messages\n",
      "RemoteTelemetry(ATPtg, 0, mountStatus) falling behind; read 100 messages\n",
      "RemoteTelemetry(ATPtg, 0, guidingAndOffsets) falling behind; read 100 messages\n",
      "RemoteTelemetry(ATPtg, 0, currentTargetStatus) falling behind; read 100 messages\n"
     ]
    },
    {
     "data": {
      "text/plain": [
       "[<State.FAULT: 3>, <State.STANDBY: 5>]"
      ]
     },
     "execution_count": 251,
     "metadata": {},
     "output_type": "execute_result"
    }
   ],
   "source": [
    "await salobj.set_summary_state(atptg, salobj.State.STANDBY, timeout=120)"
   ]
  },
  {
   "cell_type": "code",
   "execution_count": 241,
   "metadata": {},
   "outputs": [
    {
     "data": {
      "text/plain": [
       "<lsst.ts.salobj.ddsutil.ATPtg_ackcmd at 0x7ff01c76c2d0>"
      ]
     },
     "execution_count": 241,
     "metadata": {},
     "output_type": "execute_result"
    }
   ],
   "source": [
    "await atptg.cmd_azElTarget.set_start(azDegs=0., elDegs=80.)"
   ]
  },
  {
   "cell_type": "code",
   "execution_count": null,
   "metadata": {},
   "outputs": [],
   "source": [
    "await atptg.cmd_stopTracking.start()"
   ]
  },
  {
   "cell_type": "code",
   "execution_count": null,
   "metadata": {},
   "outputs": [],
   "source": [
    "await atmcs.cmd_stopTracking.start()"
   ]
  },
  {
   "cell_type": "code",
   "execution_count": null,
   "metadata": {},
   "outputs": [],
   "source": [
    "ss = await atptg.evt_summaryState.next(flush=False, timeout=10)"
   ]
  },
  {
   "cell_type": "code",
   "execution_count": null,
   "metadata": {},
   "outputs": [],
   "source": [
    "print(salobj.State(ss.summaryState))"
   ]
  },
  {
   "cell_type": "code",
   "execution_count": null,
   "metadata": {},
   "outputs": [],
   "source": [
    "await atdome.cmd_moveAzimuth.set_start(azimuth=270.)"
   ]
  },
  {
   "cell_type": "code",
   "execution_count": null,
   "metadata": {},
   "outputs": [],
   "source": [
    "await atdome.cmd_stopMotion.start()"
   ]
  },
  {
   "cell_type": "code",
   "execution_count": null,
   "metadata": {},
   "outputs": [],
   "source": [
    "await atdome.cmd_homeAzimuth.start()"
   ]
  },
  {
   "cell_type": "code",
   "execution_count": null,
   "metadata": {},
   "outputs": [],
   "source": [
    "await atdome.cmd_openShutter.start()"
   ]
  },
  {
   "cell_type": "code",
   "execution_count": 243,
   "metadata": {},
   "outputs": [
    {
     "name": "stderr",
     "output_type": "stream",
     "text": [
      "RemoteEvent(ATHexapod, 0, heartbeat) falling behind; read 21 messages\n",
      "RemoteTelemetry(ATDome, 1, position) falling behind; read 100 messages\n",
      "RemoteEvent(ATAOS, 0, heartbeat) falling behind; read 20 messages\n",
      "falling behind; queue contains 99 elements\n",
      "falling behind; queue contains 98 elements\n",
      "falling behind; queue contains 97 elements\n"
     ]
    },
    {
     "data": {
      "text/plain": [
       "<lsst.ts.salobj.ddsutil.ATDome_ackcmd at 0x7ff0074eb8d0>"
      ]
     },
     "execution_count": 243,
     "metadata": {},
     "output_type": "execute_result"
    }
   ],
   "source": [
    "await atdome.cmd_closeShutter.start()"
   ]
  },
  {
   "cell_type": "code",
   "execution_count": 47,
   "metadata": {},
   "outputs": [
    {
     "name": "stderr",
     "output_type": "stream",
     "text": [
      "RemoteEvent(ATAOS, 0, heartbeat) falling behind; read 13 messages\n",
      "RemoteTelemetry(ATPneumatics, 0, loadCell) falling behind; read 13 messages\n",
      "RemoteEvent(ATHexapod, 0, heartbeat) falling behind; read 13 messages\n",
      "RemoteEvent(ATDome, 1, heartbeat) falling behind; read 13 messages\n",
      "RemoteTelemetry(ATPneumatics, 0, mainAirSourcePressure) falling behind; read 13 messages\n",
      "RemoteEvent(ATDomeTrajectory, 0, heartbeat) falling behind; read 13 messages\n",
      "RemoteTelemetry(ATPneumatics, 0, m2AirPressure) falling behind; read 13 messages\n",
      "falling behind; queue contains 99 elements\n",
      "falling behind; queue contains 98 elements\n",
      "falling behind; queue contains 97 elements\n",
      "RemoteTelemetry(ATPneumatics, 0, m1AirPressure) falling behind; read 13 messages\n",
      "falling behind; queue contains 99 elements\n",
      "falling behind; queue contains 98 elements\n",
      "falling behind; queue contains 97 elements\n",
      "falling behind; queue contains 99 elements\n",
      "falling behind; queue contains 98 elements\n",
      "falling behind; queue contains 97 elements\n",
      "falling behind; queue contains 99 elements\n",
      "falling behind; queue contains 98 elements\n",
      "falling behind; queue contains 97 elements\n",
      "falling behind; queue contains 99 elements\n",
      "falling behind; queue contains 98 elements\n",
      "falling behind; queue contains 97 elements\n",
      "falling behind; queue contains 99 elements\n",
      "falling behind; queue contains 98 elements\n",
      "falling behind; queue contains 97 elements\n",
      "falling behind; queue contains 99 elements\n",
      "falling behind; queue contains 98 elements\n",
      "falling behind; queue contains 97 elements\n",
      "falling behind; queue contains 99 elements\n",
      "falling behind; queue contains 98 elements\n",
      "falling behind; queue contains 97 elements\n",
      "falling behind; queue contains 99 elements\n",
      "falling behind; queue contains 98 elements\n",
      "falling behind; queue contains 97 elements\n",
      "falling behind; queue contains 99 elements\n",
      "falling behind; queue contains 98 elements\n",
      "falling behind; queue contains 97 elements\n",
      "falling behind; queue contains 18 elements\n"
     ]
    },
    {
     "data": {
      "text/plain": [
       "<lsst.ts.salobj.ddsutil.ATPneumatics_ackcmd at 0x7feff309cc50>"
      ]
     },
     "execution_count": 47,
     "metadata": {},
     "output_type": "execute_result"
    }
   ],
   "source": [
    "await atpne.cmd_openM1Cover.start()"
   ]
  },
  {
   "cell_type": "code",
   "execution_count": 237,
   "metadata": {},
   "outputs": [
    {
     "name": "stderr",
     "output_type": "stream",
     "text": [
      "RemoteTelemetry(ATDome, 1, position) falling behind; read 100 messages\n",
      "RemoteEvent(ATDomeTrajectory, 0, heartbeat) falling behind; read 21 messages\n",
      "RemoteTelemetry(ATPtg, 0, currentTargetStatus) falling behind; read 100 messages\n",
      "RemoteEvent(ATMCS, 0, heartbeat) falling behind; read 20 messages\n",
      "RemoteTelemetry(ATPneumatics, 0, loadCell) falling behind; read 20 messages\n",
      "RemoteEvent(ATAOS, 0, heartbeat) falling behind; read 20 messages\n",
      "RemoteEvent(ATHexapod, 0, heartbeat) falling behind; read 20 messages\n",
      "RemoteTelemetry(ATPtg, 0, timeAndDate) falling behind; read 100 messages\n",
      "RemoteTelemetry(ATPtg, 0, mountStatus) falling behind; read 100 messages\n",
      "RemoteEvent(ATDome, 1, heartbeat) falling behind; read 20 messages\n",
      "RemoteTelemetry(ATPneumatics, 0, mainAirSourcePressure) falling behind; read 20 messages\n",
      "RemoteTelemetry(ATPtg, 0, guidingAndOffsets) falling behind; read 100 messages\n",
      "RemoteTelemetry(ATPneumatics, 0, m2AirPressure) falling behind; read 20 messages\n",
      "RemoteTelemetry(ATPneumatics, 0, m1AirPressure) falling behind; read 20 messages\n",
      "RemoteEvent(ATPneumatics, 0, heartbeat) falling behind; read 20 messages\n",
      "RemoteTelemetry(ATMCS, 0, measuredTorque) falling behind; read 20 messages\n",
      "RemoteTelemetry(ATMCS, 0, measuredMotorVelocity) falling behind; read 20 messages\n",
      "RemoteTelemetry(ATMCS, 0, azEl_mountMotorEncoders) falling behind; read 20 messages\n"
     ]
    },
    {
     "data": {
      "text/plain": [
       "<lsst.ts.salobj.ddsutil.ATPneumatics_ackcmd at 0x7feff308f150>"
      ]
     },
     "execution_count": 237,
     "metadata": {},
     "output_type": "execute_result"
    }
   ],
   "source": [
    "await atpne.cmd_closeM1Cover.start()"
   ]
  },
  {
   "cell_type": "code",
   "execution_count": null,
   "metadata": {},
   "outputs": [],
   "source": []
  },
  {
   "cell_type": "code",
   "execution_count": null,
   "metadata": {},
   "outputs": [],
   "source": [
    "err = await atdome.evt_errorCode.next(flush=False)"
   ]
  },
  {
   "cell_type": "code",
   "execution_count": null,
   "metadata": {},
   "outputs": [],
   "source": [
    "print(err.errorReport)"
   ]
  },
  {
   "cell_type": "code",
   "execution_count": null,
   "metadata": {},
   "outputs": [],
   "source": [
    "await asyncio.sleep(300)"
   ]
  },
  {
   "cell_type": "code",
   "execution_count": null,
   "metadata": {},
   "outputs": [],
   "source": [
    "await asyncio.sleep(300)"
   ]
  },
  {
   "cell_type": "code",
   "execution_count": null,
   "metadata": {},
   "outputs": [],
   "source": [
    "attcs = ATTCS(atmcs=atmcs, \n",
    "              atptg=atptg, \n",
    "              ataos=ataos, \n",
    "              atpneumatics=atpne, \n",
    "              athexapod=athex, \n",
    "              atdome=atdome, \n",
    "              atdometrajectory=atdomtraj, \n",
    "              check={\"atpneumatics\": False, \"athexapod\": False, \"atdome\": True, \"atdometrajectory\": True})"
   ]
  },
  {
   "cell_type": "markdown",
   "metadata": {},
   "source": [
    "# Slew and Track an Alt/Az position"
   ]
  },
  {
   "cell_type": "markdown",
   "metadata": {},
   "source": [
    "While the pointing component does not support the slew and track of an alt/az position, the following cells will provide a quick and easy way to perform this task. The user specified a position in Alt/Az and it will use astropy coordinate library to convert it to RA/Dec. \n",
    "\n",
    "For that we will need the location of the observatory and the time. Location is defined as an astropy `EarthLocation` and time is taken from the pointing component and then creating an astropy `Time` object.\n",
    "\n",
    "Obervatory location (lon, lat and height extracted from: https://github.com/lsst/sims_utils)"
   ]
  },
  {
   "cell_type": "code",
   "execution_count": 18,
   "metadata": {},
   "outputs": [],
   "source": [
    "location = EarthLocation.from_geodetic(lon=-70.747698*u.deg,\n",
    "                                       lat=-30.244728*u.deg,\n",
    "                                       height=2663.0*u.m)"
   ]
  },
  {
   "cell_type": "code",
   "execution_count": 238,
   "metadata": {},
   "outputs": [],
   "source": [
    "alt = 80. * u.deg\n",
    "az = 0. * u.deg"
   ]
  },
  {
   "cell_type": "markdown",
   "metadata": {},
   "source": [
    "The next cell will convert the specified Alt/Az into RA/Dec coordinates in ICRS. This coordinate will be used to slew and track. "
   ]
  },
  {
   "cell_type": "code",
   "execution_count": null,
   "metadata": {},
   "outputs": [],
   "source": [
    "time_data = await atptg.tel_timeAndDate.next(flush=True, timeout=2)\n",
    "curr_time_atptg = Time(time_data.tai, format=\"mjd\", scale=\"tai\")\n",
    "time_err = curr_time_atptg - Time.now()\n",
    "print(f\"Time error={time_err.sec:0.2f} sec\")\n",
    "\n",
    "# Compute RA/Dec for commanded az/el\n",
    "cmd_elaz = AltAz(alt=alt, az=az, \n",
    "                 obstime=curr_time_atptg.tai, \n",
    "                 location=location)\n",
    "cmd_radec = cmd_elaz.transform_to(ICRS)\n",
    "\n",
    "print(\"slew...\")\n",
    "await atptg.cmd_raDecTarget.set_start(\n",
    "    targetName=\"local\",\n",
    "    targetInstance=ATPtg.TargetInstances.CURRENT,\n",
    "    frame=ATPtg.CoordFrame.ICRS,\n",
    "    epoch=2000,  # should be ignored: no parallax or proper motion\n",
    "    equinox=2000,  # should be ignored for ICRS\n",
    "    ra=cmd_radec.ra.hour,\n",
    "    declination=cmd_radec.dec.deg,\n",
    "    parallax=0,\n",
    "    pmRA=0,\n",
    "    pmDec=0,\n",
    "    rv=0,\n",
    "    dRA=0,\n",
    "    dDec=0,\n",
    "    rotPA=180.-alt.value,\n",
    "    rotFrame=ATPtg.RotFrame.FIXED,\n",
    "    rotMode=ATPtg.RotMode.FIELD,\n",
    "    timeout=10\n",
    ")\n",
    "\n",
    "\n",
    "# await attcs.slew(ra=cmd_radec.ra.hour, \n",
    "#                  dec=cmd_radec.dec.deg, \n",
    "#                  rotPA=180.-cmd_elaz.alt.deg,\n",
    "#                  rot_frame=ATPtg.RotFrame.FIXED,\n",
    "#                  rot_mode=ATPtg.RotMode.FIELD)\n",
    "\n",
    "print(f\"raDecTarget ra={cmd_radec.ra!r} hour; \"\n",
    "      f\"declination={cmd_radec.dec!r} deg\")\n",
    "# script.ataos.cmd_enableCorrection.set(hexapod=True)\n",
    "# await script.ataos.cmd_enableCorrection.start(timeout=10)\n",
    "\n"
   ]
  },
  {
   "cell_type": "code",
   "execution_count": null,
   "metadata": {},
   "outputs": [],
   "source": [
    "await atmcs.cmd_startTracking.start()"
   ]
  },
  {
   "cell_type": "markdown",
   "metadata": {},
   "source": [
    "# Slew and track a RA/Dec target"
   ]
  },
  {
   "cell_type": "markdown",
   "metadata": {},
   "source": [
    "The next cell shows an example of how to slew and track an RA/Dec target. \n",
    "\n",
    "The one caveat with slewing to RA/Dec is getting a proper value for rotPA. We currently want to keep the rotator around zero degrees. We need to improve the handling of this rotation angle on the slew method but right now we compute the angle on the cell. "
   ]
  },
  {
   "cell_type": "code",
   "execution_count": null,
   "metadata": {},
   "outputs": [],
   "source": [
    "ra = Angle('18:29:01', unit=u.hour)\n",
    "dec = Angle('-22:26:41', unit=u.deg)\n",
    "target_name=\"MOON\"\n",
    "\n",
    "radec = ICRS(ra, dec)\n",
    "\n",
    "# Figure out what is the rotPA that sets nasmith rotator close to zero.\n",
    "time_data = await atptg.tel_timeAndDate.next(flush=True, timeout=2)\n",
    "curr_time_atptg = Time(time_data.tai, format=\"mjd\", scale=\"tai\")\n",
    "print(curr_time_atptg)\n",
    "coord_frame_altaz = AltAz(location=location, obstime=curr_time_atptg)\n",
    "alt_az = radec.transform_to(coord_frame_altaz)\n",
    "\n",
    "print(\"slew...\")\n",
    "# await atmcs.cmd_startTracking.start(timeout=10)\n",
    "await atptg.cmd_raDecTarget.set_start(\n",
    "    targetName=target_name,\n",
    "    targetInstance=ATPtg.TargetInstances.CURRENT,\n",
    "    frame=ATPtg.CoordFrame.ICRS,\n",
    "    epoch=2000,  # should be ignored: no parallax or proper motion\n",
    "    equinox=2000,  # should be ignored for ICRS\n",
    "    ra=ra.hour,\n",
    "    declination=dec.deg,\n",
    "    parallax=0,\n",
    "    pmRA=0,\n",
    "    pmDec=0,\n",
    "    rv=0,\n",
    "    dRA=0,\n",
    "    dDec=0,\n",
    "    rotPA=180.-alt_az.alt.deg,\n",
    "    rotFrame=ATPtg.RotFrame.FIXED,\n",
    "    rotMode=ATPtg.RotMode.FIELD,\n",
    "    timeout=10\n",
    ")\n",
    "# await attcs.slew(ra=ra, \n",
    "#                  dec=dec,\n",
    "#                  rotPA=180.-alt_az.alt.deg,\n",
    "#                  rot_frame=ATPtg.RotFrame.FIXED,\n",
    "#                  rot_mode=ATPtg.RotMode.FIELD)"
   ]
  },
  {
   "cell_type": "code",
   "execution_count": null,
   "metadata": {},
   "outputs": [],
   "source": [
    "await atptg.cmd_offsetRADec.set_start(type=1, \n",
    "                                      off1=360.,\n",
    "                                      off2=0.)"
   ]
  },
  {
   "cell_type": "code",
   "execution_count": null,
   "metadata": {},
   "outputs": [],
   "source": [
    "ra = Angle('19:05:24', unit=u.hour)\n",
    "dec = Angle('+13:51:47', unit=u.deg)\n",
    "target_name=\"HR 7235\"\n",
    "\n",
    "radec = ICRS(ra, dec)\n",
    "\n",
    "# Figure out what is the rotPA that sets nasmith rotator close to zero.\n",
    "time_data = await atptg.tel_timeAndDate.next(flush=True, timeout=2)\n",
    "curr_time_atptg = Time(time_data.tai, format=\"mjd\", scale=\"tai\")\n",
    "coord_frame_altaz = AltAz(location=location, obstime=curr_time_atptg)\n",
    "alt_az = radec.transform_to(coord_frame_altaz)\n",
    "\n",
    "await attcs.slew(ra=ra, \n",
    "                 dec=dec,\n",
    "                 rotPA=180.-alt_az.alt.deg,\n",
    "                 rot_frame=ATPtg.RotFrame.FIXED,\n",
    "                 rot_mode=ATPtg.RotMode.FIELD)"
   ]
  },
  {
   "cell_type": "markdown",
   "metadata": {},
   "source": [
    "# Slew and track the MOON (and other solar system body)"
   ]
  },
  {
   "cell_type": "code",
   "execution_count": null,
   "metadata": {},
   "outputs": [],
   "source": [
    "await attcs.slew_to_planet(planet=ATPtg.Planets.MOON)"
   ]
  },
  {
   "cell_type": "code",
   "execution_count": null,
   "metadata": {},
   "outputs": [],
   "source": [
    "await atmcs.cmd_stopTracking.start()"
   ]
  },
  {
   "cell_type": "markdown",
   "metadata": {},
   "source": [
    "# GRID in RA/Dec"
   ]
  },
  {
   "cell_type": "code",
   "execution_count": null,
   "metadata": {},
   "outputs": [],
   "source": [
    "dra_grid = np.arange(-1., 1.1,0.1)*24./360.\n",
    "ddec_grid = np.arange(-1., 1.1,0.1)"
   ]
  },
  {
   "cell_type": "code",
   "execution_count": null,
   "metadata": {},
   "outputs": [],
   "source": [
    "grid_ra = np.zeros(len(dra_grid)*len(ddec_grid))\n",
    "grid_dec = np.zeros(len(dra_grid)*len(ddec_grid))\n",
    "\n",
    "for i in range(len(ddec_grid)):\n",
    "    grid_ra[i*len(dra_grid):(i+1)*len(dra_grid)] += dra_grid[::(-1)**i]\n",
    "    grid_dec[i*len(dra_grid):(i+1)*len(dra_grid)] += ddec_grid[i]"
   ]
  },
  {
   "cell_type": "code",
   "execution_count": null,
   "metadata": {},
   "outputs": [],
   "source": [
    "plt.plot(grid_ra[0], grid_dec[0], 'bo')\n",
    "plt.plot(grid_ra, grid_dec, ':')\n",
    "plt.plot(grid_ra[-1], grid_dec[-1], 'go')"
   ]
  },
  {
   "cell_type": "code",
   "execution_count": null,
   "metadata": {},
   "outputs": [],
   "source": [
    "async def wait_center():\n",
    "    while True:\n",
    "        opt = input(\"Center telescope and choose action (press ?<enter>, for list of actions): \")\n",
    "        \n",
    "        if opt == 'n':\n",
    "            print(\"Next point in the grid...\")\n",
    "            return 1\n",
    "        elif opt == 'p':\n",
    "            print(\"Previous point in the grid...\")\n",
    "            return -1\n",
    "        elif opt == 't':\n",
    "            print(\"Stopping test...\")\n",
    "            return 0\n",
    "        elif opt == '?':\n",
    "            print(\"\"\"Options are:\n",
    "            n - Go to next point in the grid.\n",
    "            p - Go to previous point in the grid.\n",
    "            t - Terminate test.\n",
    "            \"\"\")\n",
    "        else:\n",
    "            print(\"Next point in the grid...\")\n",
    "            return 1"
   ]
  },
  {
   "cell_type": "code",
   "execution_count": null,
   "metadata": {},
   "outputs": [],
   "source": [
    "ra = Angle('19:05:24', unit=u.hour)\n",
    "dec = Angle('+13:51:47', unit=u.deg)\n",
    "target_name=\"HR 7235\"\n",
    "\n",
    "radec = ICRS(ra, dec)\n",
    "\n",
    "start_from = 0"
   ]
  },
  {
   "cell_type": "code",
   "execution_count": null,
   "metadata": {},
   "outputs": [],
   "source": [
    "ra = Angle('18:29:01', unit=u.hour)\n",
    "dec = Angle('-22:26:41', unit=u.deg)\n",
    "target_name=\"MOON\"\n",
    "\n",
    "radec = ICRS(ra, dec)"
   ]
  },
  {
   "cell_type": "code",
   "execution_count": null,
   "metadata": {},
   "outputs": [],
   "source": [
    "ra = Angle('16:29:24.45970', unit=u.hour)\n",
    "dec = Angle('-26:25:55.2094', unit=u.deg)\n",
    "target_name=\"Alpha Sco\"\n",
    "\n",
    "radec = ICRS(ra, dec)\n",
    " \n"
   ]
  },
  {
   "cell_type": "code",
   "execution_count": null,
   "metadata": {},
   "outputs": [],
   "source": [
    "start_from = 0"
   ]
  },
  {
   "cell_type": "code",
   "execution_count": null,
   "metadata": {},
   "outputs": [],
   "source": [
    "print(f\"Grid has {len(grid_ra)} pointings...\")\n",
    "print(f\"Starting from {start_from}\")\n",
    "\n",
    "i = start_from\n",
    "stop_at = 0\n",
    "\n",
    "# Figure out what is the rotPA that sets nasmith rotator close to zero.\n",
    "time_data = await atptg.tel_timeAndDate.next(flush=True, timeout=2)\n",
    "curr_time_atptg = Time(time_data.tai, format=\"mjd\", scale=\"tai\")\n",
    "coord_frame_altaz = AltAz(location=location, obstime=curr_time_atptg)\n",
    "alt_az = radec.transform_to(coord_frame_altaz)\n",
    "\n",
    "\n",
    "while i < len(grid_ra):\n",
    "    \n",
    "    print(f\"GRID[{i}]: {grid_ra[i]} x {grid_dec[i]}\")\n",
    "\n",
    "    await atptg.cmd_raDecTarget.set_start(\n",
    "    targetName=target_name,\n",
    "    targetInstance=ATPtg.TargetInstances.CURRENT,\n",
    "    frame=ATPtg.CoordFrame.ICRS,\n",
    "    epoch=2000,  # should be ignored: no parallax or proper motion\n",
    "    equinox=2000,  # should be ignored for ICRS\n",
    "    ra=ra.hour + grid_ra[i],\n",
    "    declination=dec.deg + grid_dec[i],\n",
    "    parallax=0,\n",
    "    pmRA=0,\n",
    "    pmDec=0,\n",
    "    rv=0,\n",
    "    dRA=0,\n",
    "    dDec=0,\n",
    "    rotPA=180.-alt_az.alt.deg,\n",
    "    rotFrame=ATPtg.RotFrame.FIXED,\n",
    "    rotMode=ATPtg.RotMode.FIELD,\n",
    "    timeout=10\n",
    ")\n",
    "\n",
    "\n",
    "#     await attcs.slew(ra=ra.hour + grid_ra[i], \n",
    "#                      dec=dec.deg + grid_dec[i],\n",
    "#                      rotPA=180.-alt_az.alt.deg,\n",
    "#                      target_name=f\"{target_name} RA/Dec GRID[{i}]: {grid_ra[i]} x {grid_dec[i]}\",\n",
    "#                      rot_frame=ATPtg.RotFrame.FIXED,\n",
    "#                      rot_mode=ATPtg.RotMode.FIELD)\n",
    "    \n",
    "    ret_val = await wait_center()\n",
    "    if ret_val == 0:\n",
    "        break\n",
    "\n",
    "    i += ret_val\n",
    "\n",
    "    if i < 0:\n",
    "        print(f\"Unwrapping index! (i={i})\")\n",
    "        i = 0\n"
   ]
  },
  {
   "cell_type": "markdown",
   "metadata": {},
   "source": [
    "# GRID in Alt/Az"
   ]
  },
  {
   "cell_type": "code",
   "execution_count": null,
   "metadata": {},
   "outputs": [],
   "source": [
    "dalt_grid = np.arange(-0.5, +0.6, 0.1)+1.1\n",
    "daz_grid = np.arange(-0.5, +0.6, 0.1)+0.66"
   ]
  },
  {
   "cell_type": "code",
   "execution_count": null,
   "metadata": {},
   "outputs": [],
   "source": [
    "grid_alt = np.zeros(len(dalt_grid)*len(daz_grid))\n",
    "grid_az = np.zeros(len(dalt_grid)*len(daz_grid))\n",
    "\n",
    "for i in range(len(daz_grid)):\n",
    "    grid_alt[i*len(dalt_grid):(i+1)*len(dalt_grid)] += dalt_grid[::(-1)**i]\n",
    "    grid_az[i*len(dalt_grid):(i+1)*len(dalt_grid)] += daz_grid[i]"
   ]
  },
  {
   "cell_type": "code",
   "execution_count": null,
   "metadata": {},
   "outputs": [],
   "source": [
    "plt.plot(grid_alt, grid_az, ':')\n",
    "plt.plot(grid_alt, grid_az, '|')\n",
    "plt.plot(grid_alt[0], grid_az[0], 'bo')\n",
    "plt.plot(grid_alt[-1], grid_az[-1], 'go')"
   ]
  },
  {
   "cell_type": "code",
   "execution_count": null,
   "metadata": {},
   "outputs": [],
   "source": [
    "start_from=60"
   ]
  },
  {
   "cell_type": "code",
   "execution_count": null,
   "metadata": {},
   "outputs": [],
   "source": [
    "print(f\"Grid has {len(grid_alt)} pointings...\")\n",
    "print(f\"Starting from {start_from}\")\n",
    "\n",
    "i = start_from\n",
    "stop_at = 0\n",
    "\n",
    "while i < len(grid_alt):\n",
    "    \n",
    "    print(f\"GRID[{i}]: {grid_alt[i]} x {grid_az[i]}\")\n",
    "\n",
    "    radec = ICRS(ra,\n",
    "                 dec)\n",
    "\n",
    "    time_data = await atptg.tel_timeAndDate.next(flush=True, timeout=2)\n",
    "    curr_time_atptg = Time(time_data.tai, format=\"mjd\", scale=\"tai\")\n",
    "    aa = AltAz(location=location, obstime=curr_time_atptg)\n",
    "    alt_az = radec.transform_to(aa)\n",
    "\n",
    "    cmd_elaz = AltAz(alt=alt_az.alt+grid_alt[i]*u.deg, az=alt_az.az+grid_az[i]*u.deg, \n",
    "                     obstime=curr_time_atptg.tai, \n",
    "                     location=location)\n",
    "    cmd_radec = cmd_elaz.transform_to(ICRS)\n",
    "\n",
    "    await atptg.cmd_raDecTarget.set_start(\n",
    "    targetName=f\"{target_name} Alt/Az GRID[{i}]: {grid_alt[i]} x {grid_az[i]}\",\n",
    "    targetInstance=ATPtg.TargetInstances.CURRENT,\n",
    "    frame=ATPtg.CoordFrame.ICRS,\n",
    "    epoch=2000,  # should be ignored: no parallax or proper motion\n",
    "    equinox=2000,  # should be ignored for ICRS\n",
    "    ra=cmd_radec.ra.hour,\n",
    "    declination=cmd_radec.dec.deg,\n",
    "    parallax=0,\n",
    "    pmRA=0,\n",
    "    pmDec=0,\n",
    "    rv=0,\n",
    "    dRA=0,\n",
    "    dDec=0,\n",
    "    rotPA=180.-alt_az.alt.deg,\n",
    "    rotFrame=ATPtg.RotFrame.FIXED,\n",
    "    rotMode=ATPtg.RotMode.FIELD,\n",
    "    timeout=10\n",
    ")\n",
    "\n",
    "\n",
    "#     await attcs.slew(ra=cmd_radec.ra.hour,\n",
    "#                      dec=cmd_radec.dec.deg,\n",
    "#                      rotPA=180.-alt_az.alt.deg,\n",
    "#                      target_name=f\"{target_name} Alt/Az GRID[{i}]: {grid_alt[i]} x {grid_az[i]}\",\n",
    "#                      rot_frame=ATPtg.RotFrame.FIXED,\n",
    "#                      rot_mode=ATPtg.RotMode.FIELD)\n",
    "    \n",
    "    ret_val = await wait_center()\n",
    "\n",
    "    if ret_val == 0:\n",
    "        break\n",
    "        \n",
    "    i += ret_val\n",
    "    \n",
    "    if i < 0:\n",
    "        print(f\"Unwrapping index! (i={i})\")\n",
    "        i = 0"
   ]
  },
  {
   "cell_type": "code",
   "execution_count": null,
   "metadata": {},
   "outputs": [],
   "source": [
    "radec = ICRS(ra,\n",
    "             dec)\n",
    "\n",
    "time_data = await atptg.tel_timeAndDate.next(flush=True, timeout=2)\n",
    "curr_time_atptg = Time(time_data.tai, format=\"mjd\", scale=\"tai\")\n",
    "aa = AltAz(location=location, obstime=curr_time_atptg)\n",
    "alt_az = radec.transform_to(aa)\n",
    "\n",
    "cmd_elaz = AltAz(alt=alt_az.alt+1.1*u.deg, az=alt_az.az+0.66*u.deg, \n",
    "                 obstime=curr_time_atptg.tai, \n",
    "                 location=location)\n",
    "cmd_radec = cmd_elaz.transform_to(ICRS)\n",
    "\n",
    "await atptg.cmd_raDecTarget.set_start(\n",
    "targetName=f\"{target_name} Alt/Az\",\n",
    "targetInstance=ATPtg.TargetInstances.CURRENT,\n",
    "frame=ATPtg.CoordFrame.ICRS,\n",
    "epoch=2000,  # should be ignored: no parallax or proper motion\n",
    "equinox=2000,  # should be ignored for ICRS\n",
    "ra=cmd_radec.ra.hour,\n",
    "declination=cmd_radec.dec.deg,\n",
    "parallax=0,\n",
    "pmRA=0,\n",
    "pmDec=0,\n",
    "rv=0,\n",
    "dRA=0,\n",
    "dDec=0,\n",
    "rotPA=180.-alt_az.alt.deg,\n",
    "rotFrame=ATPtg.RotFrame.FIXED,\n",
    "rotMode=ATPtg.RotMode.FIELD,\n",
    "timeout=10\n",
    ")"
   ]
  },
  {
   "cell_type": "code",
   "execution_count": null,
   "metadata": {},
   "outputs": [],
   "source": [
    "ra = Angle('16:29:24.45970', unit=u.hour)\n",
    "dec = Angle('-26:25:55.2094', unit=u.deg)\n",
    "target_name=\"Alpha Sco\"\n",
    "\n",
    "radec = ICRS(ra, dec)"
   ]
  },
  {
   "cell_type": "code",
   "execution_count": null,
   "metadata": {},
   "outputs": [],
   "source": [
    "time_data = await atptg.tel_timeAndDate.next(flush=True, timeout=2)\n",
    "curr_time_atptg = Time(time_data.tai, format=\"mjd\", scale=\"tai\")\n",
    "aa = AltAz(location=location, obstime=curr_time_atptg)\n",
    "alt_az = radec.transform_to(aa)\n",
    "\n",
    "cmd_elaz = AltAz(alt=alt_az.alt+0.5*u.deg, az=alt_az.az+1.0*u.deg, \n",
    "                 obstime=curr_time_atptg.tai, \n",
    "                 location=location)\n",
    "cmd_radec = cmd_elaz.transform_to(ICRS)\n",
    "\n",
    "await atptg.cmd_raDecTarget.set_start(\n",
    "targetName=f\"{target_name} Alt/Az\",\n",
    "targetInstance=ATPtg.TargetInstances.CURRENT,\n",
    "frame=ATPtg.CoordFrame.ICRS,\n",
    "epoch=2000,  # should be ignored: no parallax or proper motion\n",
    "equinox=2000,  # should be ignored for ICRS\n",
    "ra=cmd_radec.ra.hour,\n",
    "declination=cmd_radec.dec.deg,\n",
    "parallax=0,\n",
    "pmRA=0,\n",
    "pmDec=0,\n",
    "rv=0,\n",
    "dRA=0,\n",
    "dDec=0,\n",
    "rotPA=180.-alt_az.alt.deg,\n",
    "rotFrame=ATPtg.RotFrame.FIXED,\n",
    "rotMode=ATPtg.RotMode.FIELD,\n",
    "timeout=10\n",
    ")"
   ]
  },
  {
   "cell_type": "code",
   "execution_count": null,
   "metadata": {},
   "outputs": [],
   "source": [
    "await atptg.cmd_stopTracking.start()"
   ]
  },
  {
   "cell_type": "code",
   "execution_count": null,
   "metadata": {},
   "outputs": [],
   "source": [
    "# Figure out what is the rotPA that sets nasmith rotator close to zero.\n",
    "time_data = await atptg.tel_timeAndDate.next(flush=True, timeout=2)\n",
    "curr_time_atptg = Time(time_data.tai, format=\"mjd\", scale=\"tai\")\n",
    "print(curr_time_atptg)\n",
    "coord_frame_altaz = AltAz(location=location, obstime=curr_time_atptg)\n",
    "alt_az = radec.transform_to(coord_frame_altaz)\n",
    "\n",
    "print(\"slew...\")\n",
    "# await atmcs.cmd_startTracking.start(timeout=10)\n",
    "await atptg.cmd_raDecTarget.set_start(\n",
    "    targetName=target_name,\n",
    "    targetInstance=ATPtg.TargetInstances.CURRENT,\n",
    "    frame=ATPtg.CoordFrame.ICRS,\n",
    "    epoch=2000,  # should be ignored: no parallax or proper motion\n",
    "    equinox=2000,  # should be ignored for ICRS\n",
    "    ra=ra.hour,\n",
    "    declination=dec.deg,\n",
    "    parallax=0,\n",
    "    pmRA=0,\n",
    "    pmDec=0,\n",
    "    rv=0,\n",
    "    dRA=0,\n",
    "    dDec=0,\n",
    "    rotPA=180.-alt_az.alt.deg,\n",
    "    rotFrame=ATPtg.RotFrame.FIXED,\n",
    "    rotMode=ATPtg.RotMode.FIELD,\n",
    "    timeout=10\n",
    ")"
   ]
  },
  {
   "cell_type": "code",
   "execution_count": null,
   "metadata": {},
   "outputs": [],
   "source": [
    "az_offset = 0.66*u.deg\n",
    "el_offset = 1.1*u.deg"
   ]
  },
  {
   "cell_type": "code",
   "execution_count": null,
   "metadata": {},
   "outputs": [],
   "source": [
    "el_offset.to(u.arcsec).value/5, az_offset.to(u.arcsec).value/5"
   ]
  },
  {
   "cell_type": "code",
   "execution_count": null,
   "metadata": {},
   "outputs": [],
   "source": [
    "await atptg.cmd_offsetAzEl.set_start(az=0., \n",
    "                                     el=0.)"
   ]
  },
  {
   "cell_type": "code",
   "execution_count": null,
   "metadata": {},
   "outputs": [],
   "source": [
    "await atptg.cmd_offsetAzEl.set_start(az=0., \n",
    "                                     el=el_offset.to(u.arcsec).value/5,\n",
    "                                     num=1)"
   ]
  },
  {
   "cell_type": "code",
   "execution_count": null,
   "metadata": {},
   "outputs": [],
   "source": [
    "await atptg.cmd_offsetAzEl.set_start(az=-az_offset.to(u.arcsec).value/5, \n",
    "                                     el=0.,\n",
    "                                     num=1)"
   ]
  },
  {
   "cell_type": "code",
   "execution_count": null,
   "metadata": {},
   "outputs": [],
   "source": [
    "await atptg.cmd_offsetAzEl.set_start(az=30., \n",
    "                                     el=0.,\n",
    "                                     num=1)"
   ]
  },
  {
   "cell_type": "code",
   "execution_count": null,
   "metadata": {},
   "outputs": [],
   "source": [
    "await atptg.cmd_stopTracking.start()"
   ]
  },
  {
   "cell_type": "code",
   "execution_count": 111,
   "metadata": {},
   "outputs": [
    {
     "name": "stderr",
     "output_type": "stream",
     "text": [
      "falling behind; queue contains 99 elements\n",
      "falling behind; queue contains 98 elements\n",
      "falling behind; queue contains 97 elements\n",
      "RemoteTelemetry(ATDome, 1, position) falling behind; read 48 messages\n",
      "RemoteEvent(ATDome, 1, heartbeat) falling behind; read 10 messages\n",
      "falling behind; queue contains 99 elements\n",
      "falling behind; queue contains 98 elements\n",
      "falling behind; queue contains 97 elements\n"
     ]
    },
    {
     "data": {
      "text/plain": [
       "<lsst.ts.salobj.ddsutil.ATPtg_ackcmd at 0x7ff00497c690>"
      ]
     },
     "execution_count": 111,
     "metadata": {},
     "output_type": "execute_result"
    }
   ],
   "source": [
    "await atptg.cmd_pointNewFile.start()"
   ]
  },
  {
   "cell_type": "code",
   "execution_count": 112,
   "metadata": {},
   "outputs": [
    {
     "name": "stderr",
     "output_type": "stream",
     "text": [
      "falling behind; queue contains 99 elements\n",
      "falling behind; queue contains 98 elements\n",
      "falling behind; queue contains 97 elements\n",
      "falling behind; queue contains 99 elements\n",
      "falling behind; queue contains 98 elements\n",
      "falling behind; queue contains 97 elements\n",
      "falling behind; queue contains 99 elements\n",
      "falling behind; queue contains 98 elements\n",
      "falling behind; queue contains 97 elements\n"
     ]
    },
    {
     "data": {
      "text/plain": [
       "<lsst.ts.salobj.ddsutil.ATPtg_ackcmd at 0x7feff309c910>"
      ]
     },
     "execution_count": 112,
     "metadata": {},
     "output_type": "execute_result"
    },
    {
     "name": "stderr",
     "output_type": "stream",
     "text": [
      "falling behind; queue contains 99 elements\n",
      "falling behind; queue contains 98 elements\n",
      "falling behind; queue contains 97 elements\n"
     ]
    }
   ],
   "source": [
    "await atptg.cmd_pointAddData.start()"
   ]
  },
  {
   "cell_type": "code",
   "execution_count": null,
   "metadata": {},
   "outputs": [],
   "source": [
    "await atptg.cmd_pointCloseFile.start()"
   ]
  },
  {
   "cell_type": "markdown",
   "metadata": {},
   "source": [
    "# Eps Sgr"
   ]
  },
  {
   "cell_type": "code",
   "execution_count": null,
   "metadata": {},
   "outputs": [],
   "source": [
    "ra = Angle(\"18:24:10.31840\", unit=u.hour)\n",
    "dec = Angle(\"-34:23:04.6193\", unit=u.deg)\n",
    "target_name=\"Eps Sgr\"\n",
    "\n",
    "radec = ICRS(ra, dec)"
   ]
  },
  {
   "cell_type": "code",
   "execution_count": null,
   "metadata": {},
   "outputs": [],
   "source": [
    "# Figure out what is the rotPA that sets nasmith rotator close to zero.\n",
    "time_data = await atptg.tel_timeAndDate.next(flush=True, timeout=2)\n",
    "curr_time_atptg = Time(time_data.tai, format=\"mjd\", scale=\"tai\")\n",
    "print(curr_time_atptg)\n",
    "coord_frame_altaz = AltAz(location=location, obstime=curr_time_atptg)\n",
    "alt_az = radec.transform_to(coord_frame_altaz)\n",
    "\n",
    "print(\"slew...\")\n",
    "# await atmcs.cmd_startTracking.start(timeout=10)\n",
    "await atptg.cmd_raDecTarget.set_start(\n",
    "    targetName=target_name,\n",
    "    targetInstance=ATPtg.TargetInstances.CURRENT,\n",
    "    frame=ATPtg.CoordFrame.ICRS,\n",
    "    epoch=2000,  # should be ignored: no parallax or proper motion\n",
    "    equinox=2000,  # should be ignored for ICRS\n",
    "    ra=radec.ra.hour,\n",
    "    declination=radec.dec.deg,\n",
    "    parallax=0,\n",
    "    pmRA=0,\n",
    "    pmDec=0,\n",
    "    rv=0,\n",
    "    dRA=0,\n",
    "    dDec=0,\n",
    "    rotPA=180.-alt_az.alt.deg,\n",
    "    rotFrame=ATPtg.RotFrame.FIXED,\n",
    "    rotMode=ATPtg.RotMode.FIELD,\n",
    "    timeout=10\n",
    ")"
   ]
  },
  {
   "cell_type": "code",
   "execution_count": null,
   "metadata": {},
   "outputs": [],
   "source": [
    "await atptg.cmd_offsetAzEl.set_start(az=0., \n",
    "                                     el=-300.,\n",
    "                                     num=1)"
   ]
  },
  {
   "cell_type": "code",
   "execution_count": null,
   "metadata": {},
   "outputs": [],
   "source": [
    "await atptg.cmd_offsetAzEl.set_start(az=30., \n",
    "                                     el=0.,\n",
    "                                     num=1)"
   ]
  },
  {
   "cell_type": "code",
   "execution_count": null,
   "metadata": {},
   "outputs": [],
   "source": [
    "await atptg.cmd_stopTracking.start()"
   ]
  },
  {
   "cell_type": "markdown",
   "metadata": {},
   "source": [
    "# Jupiter"
   ]
  },
  {
   "cell_type": "code",
   "execution_count": null,
   "metadata": {},
   "outputs": [],
   "source": [
    "ra = Angle(\"16:56:34\", unit=u.hour)\n",
    "dec = Angle(\"-22:18:43\", unit=u.deg)\n",
    "target_name=\"Jupiter\"\n",
    "\n",
    "radec = ICRS(ra, dec)\n",
    " \n"
   ]
  },
  {
   "cell_type": "code",
   "execution_count": null,
   "metadata": {},
   "outputs": [],
   "source": [
    "# Figure out what is the rotPA that sets nasmith rotator close to zero.\n",
    "time_data = await atptg.tel_timeAndDate.next(flush=True, timeout=2)\n",
    "curr_time_atptg = Time(time_data.tai, format=\"mjd\", scale=\"tai\")\n",
    "print(curr_time_atptg)\n",
    "coord_frame_altaz = AltAz(location=location, obstime=curr_time_atptg)\n",
    "alt_az = radec.transform_to(coord_frame_altaz)\n",
    "\n",
    "print(\"slew...\")\n",
    "# await atmcs.cmd_startTracking.start(timeout=10)\n",
    "await atptg.cmd_raDecTarget.set_start(\n",
    "    targetName=target_name,\n",
    "    targetInstance=ATPtg.TargetInstances.CURRENT,\n",
    "    frame=ATPtg.CoordFrame.ICRS,\n",
    "    epoch=2000,  # should be ignored: no parallax or proper motion\n",
    "    equinox=2000,  # should be ignored for ICRS\n",
    "    ra=radec.ra.hour,\n",
    "    declination=radec.dec.deg,\n",
    "    parallax=0,\n",
    "    pmRA=0,\n",
    "    pmDec=0,\n",
    "    rv=0,\n",
    "    dRA=0,\n",
    "    dDec=0,\n",
    "    rotPA=180.-alt_az.alt.deg,\n",
    "    rotFrame=ATPtg.RotFrame.FIXED,\n",
    "    rotMode=ATPtg.RotMode.FIELD,\n",
    "    timeout=10\n",
    ")"
   ]
  },
  {
   "cell_type": "code",
   "execution_count": null,
   "metadata": {},
   "outputs": [],
   "source": []
  },
  {
   "cell_type": "code",
   "execution_count": null,
   "metadata": {},
   "outputs": [],
   "source": [
    "await atptg.cmd_offsetAzEl.set_start(az=0., \n",
    "                                     el=30.,\n",
    "                                     num=1)"
   ]
  },
  {
   "cell_type": "code",
   "execution_count": null,
   "metadata": {},
   "outputs": [],
   "source": [
    "await atptg.cmd_offsetAzEl.set_start(az=10., \n",
    "                                     el=0.,\n",
    "                                     num=1)"
   ]
  },
  {
   "cell_type": "code",
   "execution_count": null,
   "metadata": {},
   "outputs": [],
   "source": [
    "radec = ICRS(ra,\n",
    "             dec)\n",
    "\n",
    "time_data = await atptg.tel_timeAndDate.next(flush=True, timeout=2)\n",
    "curr_time_atptg = Time(time_data.tai, format=\"mjd\", scale=\"tai\")\n",
    "aa = AltAz(location=location, obstime=curr_time_atptg)\n",
    "alt_az = radec.transform_to(aa)\n",
    "\n",
    "cmd_elaz = AltAz(alt=alt_az.alt+0.62*u.deg, az=alt_az.az+0.62*u.deg, \n",
    "                 obstime=curr_time_atptg.tai, \n",
    "                 location=location)\n",
    "cmd_radec = cmd_elaz.transform_to(ICRS)\n",
    "\n",
    "await atptg.cmd_raDecTarget.set_start(\n",
    "targetName=f\"{target_name} Alt/Az\",\n",
    "targetInstance=ATPtg.TargetInstances.CURRENT,\n",
    "frame=ATPtg.CoordFrame.ICRS,\n",
    "epoch=2000,  # should be ignored: no parallax or proper motion\n",
    "equinox=2000,  # should be ignored for ICRS\n",
    "ra=cmd_radec.ra.hour,\n",
    "declination=cmd_radec.dec.deg,\n",
    "parallax=0,\n",
    "pmRA=0,\n",
    "pmDec=0,\n",
    "rv=0,\n",
    "dRA=0,\n",
    "dDec=0,\n",
    "rotPA=180.-alt_az.alt.deg,\n",
    "rotFrame=ATPtg.RotFrame.FIXED,\n",
    "rotMode=ATPtg.RotMode.FIELD,\n",
    "timeout=10\n",
    ")"
   ]
  },
  {
   "cell_type": "code",
   "execution_count": null,
   "metadata": {},
   "outputs": [],
   "source": [
    "print(f\"Grid has {len(grid_alt)} pointings...\")\n",
    "print(f\"Starting from {start_from}\")\n",
    "\n",
    "i = start_from\n",
    "stop_at = 0\n",
    "\n",
    "while i < len(grid_alt):\n",
    "    \n",
    "    print(f\"GRID[{i}]: {grid_alt[i]} x {grid_az[i]}\")\n",
    "\n",
    "    radec = ICRS(ra,\n",
    "                 dec)\n",
    "\n",
    "    time_data = await atptg.tel_timeAndDate.next(flush=True, timeout=2)\n",
    "    curr_time_atptg = Time(time_data.tai, format=\"mjd\", scale=\"tai\")\n",
    "    aa = AltAz(location=location, obstime=curr_time_atptg)\n",
    "    alt_az = radec.transform_to(aa)\n",
    "\n",
    "    cmd_elaz = AltAz(alt=alt_az.alt+grid_alt[i]*u.deg, az=alt_az.az+grid_az[i]*u.deg, \n",
    "                     obstime=curr_time_atptg.tai, \n",
    "                     location=location)\n",
    "    cmd_radec = cmd_elaz.transform_to(ICRS)\n",
    "\n",
    "    await atptg.cmd_raDecTarget.set_start(\n",
    "    targetName=f\"{target_name} Alt/Az GRID[{i}]: {grid_alt[i]} x {grid_az[i]}\",\n",
    "    targetInstance=ATPtg.TargetInstances.CURRENT,\n",
    "    frame=ATPtg.CoordFrame.ICRS,\n",
    "    epoch=2000,  # should be ignored: no parallax or proper motion\n",
    "    equinox=2000,  # should be ignored for ICRS\n",
    "    ra=cmd_radec.ra.hour,\n",
    "    declination=cmd_radec.dec.deg,\n",
    "    parallax=0,\n",
    "    pmRA=0,\n",
    "    pmDec=0,\n",
    "    rv=0,\n",
    "    dRA=0,\n",
    "    dDec=0,\n",
    "    rotPA=180.-alt_az.alt.deg,\n",
    "    rotFrame=ATPtg.RotFrame.FIXED,\n",
    "    rotMode=ATPtg.RotMode.FIELD,\n",
    "    timeout=10\n",
    ")\n",
    "\n",
    "\n",
    "#     await attcs.slew(ra=cmd_radec.ra.hour,\n",
    "#                      dec=cmd_radec.dec.deg,\n",
    "#                      rotPA=180.-alt_az.alt.deg,\n",
    "#                      target_name=f\"{target_name} Alt/Az GRID[{i}]: {grid_alt[i]} x {grid_az[i]}\",\n",
    "#                      rot_frame=ATPtg.RotFrame.FIXED,\n",
    "#                      rot_mode=ATPtg.RotMode.FIELD)\n",
    "    \n",
    "    ret_val = await wait_center()\n",
    "\n",
    "    if ret_val == 0:\n",
    "        break\n",
    "        \n",
    "    i += ret_val\n",
    "    \n",
    "    if i < 0:\n",
    "        print(f\"Unwrapping index! (i={i})\")\n",
    "        i = 0"
   ]
  },
  {
   "cell_type": "code",
   "execution_count": null,
   "metadata": {},
   "outputs": [],
   "source": [
    "while True:\n",
    "    await asyncio.sleep(60)"
   ]
  },
  {
   "cell_type": "markdown",
   "metadata": {},
   "source": [
    "# Alpha Gru"
   ]
  },
  {
   "cell_type": "code",
   "execution_count": 30,
   "metadata": {},
   "outputs": [],
   "source": [
    "ra = Angle(\"22:08:13.98473\", unit=u.hour)\n",
    "dec = Angle(\"-46:57:39.5078\", unit=u.deg)\n",
    "target_name=\"Jupiter\"\n",
    "\n",
    "radec = ICRS(ra, dec)"
   ]
  },
  {
   "cell_type": "code",
   "execution_count": 62,
   "metadata": {},
   "outputs": [
    {
     "name": "stderr",
     "output_type": "stream",
     "text": [
      "RemoteEvent(ATDomeTrajectory, 0, logMessage) falling behind; read 100 messages\n",
      "falling behind; queue contains 99 elements\n",
      "falling behind; queue contains 98 elements\n",
      "falling behind; queue contains 97 elements\n",
      "WARNING: Tried to get polar motions for times after IERS data is valid. Defaulting to polar motion from the 50-yr mean for those. This may affect precision at the 10s of arcsec level [astropy.coordinates.builtin_frames.utils]\n",
      "WARNING: (some) times are outside of range covered by IERS table. Assuming UT1-UTC=0 for coordinate transformations. [astropy.coordinates.builtin_frames.utils]\n",
      "RemoteTelemetry(ATPtg, 0, currentTimesToLimits) falling behind; read 10 messages\n"
     ]
    },
    {
     "name": "stdout",
     "output_type": "stream",
     "text": [
      "58734.210193988765\n",
      "slew...\n"
     ]
    },
    {
     "name": "stderr",
     "output_type": "stream",
     "text": [
      "falling behind; queue contains 99 elements\n",
      "falling behind; queue contains 98 elements\n",
      "falling behind; queue contains 97 elements\n"
     ]
    },
    {
     "data": {
      "text/plain": [
       "<lsst.ts.salobj.ddsutil.ATPtg_ackcmd at 0x7ff00772fc10>"
      ]
     },
     "execution_count": 62,
     "metadata": {},
     "output_type": "execute_result"
    }
   ],
   "source": [
    "# Figure out what is the rotPA that sets nasmith rotator close to zero.\n",
    "time_data = await atptg.tel_timeAndDate.next(flush=True, timeout=2)\n",
    "curr_time_atptg = Time(time_data.tai, format=\"mjd\", scale=\"tai\")\n",
    "print(curr_time_atptg)\n",
    "coord_frame_altaz = AltAz(location=location, obstime=curr_time_atptg)\n",
    "alt_az = radec.transform_to(coord_frame_altaz)\n",
    "\n",
    "print(\"slew...\")\n",
    "# await atmcs.cmd_startTracking.start(timeout=10)\n",
    "await atptg.cmd_raDecTarget.set_start(\n",
    "    targetName=target_name,\n",
    "    targetInstance=ATPtg.TargetInstances.CURRENT,\n",
    "    frame=ATPtg.CoordFrame.ICRS,\n",
    "    epoch=2000,  # should be ignored: no parallax or proper motion\n",
    "    equinox=2000,  # should be ignored for ICRS\n",
    "    ra=radec.ra.hour,\n",
    "    declination=radec.dec.deg,\n",
    "    parallax=0,\n",
    "    pmRA=0,\n",
    "    pmDec=0,\n",
    "    rv=0,\n",
    "    dRA=0,\n",
    "    dDec=0,\n",
    "    rotPA=180.-alt_az.alt.deg,\n",
    "    rotFrame=ATPtg.RotFrame.FIXED,\n",
    "    rotMode=ATPtg.RotMode.FIELD,\n",
    "    timeout=10\n",
    ")"
   ]
  },
  {
   "cell_type": "code",
   "execution_count": 34,
   "metadata": {},
   "outputs": [
    {
     "name": "stderr",
     "output_type": "stream",
     "text": [
      "AckCmdReader(ATMCS, 0, ackcmd) falling behind; read 100 messages\n",
      "RemoteEvent(ATDomeTrajectory, 0, heartbeat) falling behind; read 58 messages\n",
      "RemoteEvent(ATAOS, 0, heartbeat) falling behind; read 58 messages\n",
      "falling behind; queue contains 99 elements\n",
      "falling behind; queue contains 98 elements\n",
      "falling behind; queue contains 97 elements\n",
      "falling behind; queue contains 99 elements\n",
      "falling behind; queue contains 98 elements\n",
      "falling behind; queue contains 97 elements\n",
      "RemoteTelemetry(ATPtg, 0, mountStatus) falling behind; read 100 messages\n",
      "RemoteTelemetry(ATMCS, 0, trajectory) falling behind; read 58 messages\n",
      "RemoteTelemetry(ATPtg, 0, guidingAndOffsets) falling behind; read 100 messages\n",
      "RemoteTelemetry(ATPtg, 0, currentTimesToLimits) falling behind; read 12 messages\n",
      "RemoteTelemetry(ATPtg, 0, currentTargetStatus) falling behind; read 100 messages\n",
      "RemoteTelemetry(ATMCS, 0, azEl_mountMotorEncoders) falling behind; read 59 messages\n",
      "falling behind; queue contains 31 elements\n",
      "falling behind; queue contains 99 elements\n",
      "falling behind; queue contains 98 elements\n",
      "falling behind; queue contains 97 elements\n"
     ]
    },
    {
     "data": {
      "text/plain": [
       "<lsst.ts.salobj.ddsutil.ATPtg_ackcmd at 0x7ff004bc8250>"
      ]
     },
     "execution_count": 34,
     "metadata": {},
     "output_type": "execute_result"
    }
   ],
   "source": [
    "radec = ICRS(ra,\n",
    "             dec)\n",
    "\n",
    "time_data = await atptg.tel_timeAndDate.next(flush=True, timeout=2)\n",
    "curr_time_atptg = Time(time_data.tai, format=\"mjd\", scale=\"tai\")\n",
    "aa = AltAz(location=location, obstime=curr_time_atptg)\n",
    "alt_az = radec.transform_to(aa)\n",
    "\n",
    "cmd_elaz = AltAz(alt=alt_az.alt+0.62*u.deg, az=alt_az.az+0.62*u.deg, \n",
    "                 obstime=curr_time_atptg.tai, \n",
    "                 location=location)\n",
    "cmd_radec = cmd_elaz.transform_to(ICRS)\n",
    "\n",
    "await atptg.cmd_raDecTarget.set_start(\n",
    "targetName=f\"{target_name} Alt/Az\",\n",
    "targetInstance=ATPtg.TargetInstances.CURRENT,\n",
    "frame=ATPtg.CoordFrame.ICRS,\n",
    "epoch=2000,  # should be ignored: no parallax or proper motion\n",
    "equinox=2000,  # should be ignored for ICRS\n",
    "ra=cmd_radec.ra.hour,\n",
    "declination=cmd_radec.dec.deg,\n",
    "parallax=0,\n",
    "pmRA=0,\n",
    "pmDec=0,\n",
    "rv=0,\n",
    "dRA=0,\n",
    "dDec=0,\n",
    "rotPA=180.-alt_az.alt.deg,\n",
    "rotFrame=ATPtg.RotFrame.FIXED,\n",
    "rotMode=ATPtg.RotMode.FIELD,\n",
    "timeout=10\n",
    ")"
   ]
  },
  {
   "cell_type": "code",
   "execution_count": 220,
   "metadata": {},
   "outputs": [
    {
     "name": "stderr",
     "output_type": "stream",
     "text": [
      "AckCmdReader(ATMCS, 0, ackcmd) falling behind; read 100 messages\n",
      "RemoteEvent(ATHexapod, 0, heartbeat) falling behind; read 30 messages\n",
      "RemoteTelemetry(ATPneumatics, 0, loadCell) falling behind; read 30 messages\n",
      "RemoteEvent(ATAOS, 0, heartbeat) falling behind; read 29 messages\n",
      "falling behind; queue contains 99 elements\n",
      "falling behind; queue contains 98 elements\n",
      "falling behind; queue contains 97 elements\n",
      "RemoteTelemetry(ATPneumatics, 0, mainAirSourcePressure) falling behind; read 30 messages\n",
      "RemoteTelemetry(ATMCS, 0, trajectory) falling behind; read 30 messages\n",
      "RemoteTelemetry(ATPneumatics, 0, m2AirPressure) falling behind; read 30 messages\n",
      "RemoteTelemetry(ATMCS, 0, torqueDemand) falling behind; read 30 messages\n",
      "RemoteTelemetry(ATPneumatics, 0, m1AirPressure) falling behind; read 30 messages\n",
      "RemoteTelemetry(ATMCS, 0, nasymth_m3_mountMotorEncoders) falling behind; read 30 messages\n",
      "RemoteEvent(ATDome, 1, heartbeat) falling behind; read 30 messages\n",
      "RemoteEvent(ATPneumatics, 0, heartbeat) falling behind; read 30 messages\n",
      "RemoteEvent(ATMCS, 0, heartbeat) falling behind; read 30 messages\n"
     ]
    },
    {
     "data": {
      "text/plain": [
       "<lsst.ts.salobj.ddsutil.ATPtg_ackcmd at 0x7ff004bd1390>"
      ]
     },
     "execution_count": 220,
     "metadata": {},
     "output_type": "execute_result"
    }
   ],
   "source": [
    "await atptg.cmd_offsetAzEl.set_start(az=0., \n",
    "                                     el=1000.,\n",
    "                                     num=1)"
   ]
  },
  {
   "cell_type": "code",
   "execution_count": 221,
   "metadata": {},
   "outputs": [
    {
     "name": "stderr",
     "output_type": "stream",
     "text": [
      "falling behind; queue contains 99 elements\n",
      "falling behind; queue contains 98 elements\n",
      "falling behind; queue contains 97 elements\n",
      "falling behind; queue contains 99 elements\n",
      "falling behind; queue contains 98 elements\n",
      "falling behind; queue contains 97 elements\n",
      "falling behind; queue contains 99 elements\n",
      "falling behind; queue contains 98 elements\n",
      "falling behind; queue contains 97 elements\n"
     ]
    },
    {
     "data": {
      "text/plain": [
       "<lsst.ts.salobj.ddsutil.ATPtg_ackcmd at 0x7ff004a37b10>"
      ]
     },
     "execution_count": 221,
     "metadata": {},
     "output_type": "execute_result"
    }
   ],
   "source": [
    "await atptg.cmd_offsetAzEl.set_start(az=0., \n",
    "                                     el=1000.,\n",
    "                                     num=1)"
   ]
  },
  {
   "cell_type": "code",
   "execution_count": 222,
   "metadata": {},
   "outputs": [
    {
     "name": "stderr",
     "output_type": "stream",
     "text": [
      "RemoteEvent(ATDomeTrajectory, 0, logMessage) falling behind; read 46 messages\n",
      "RemoteTelemetry(ATDome, 1, position) falling behind; read 12 messages\n",
      "RemoteTelemetry(ATPtg, 0, currentTargetStatus) falling behind; read 12 messages\n",
      "falling behind; queue contains 99 elements\n",
      "falling behind; queue contains 98 elements\n",
      "falling behind; queue contains 97 elements\n"
     ]
    },
    {
     "data": {
      "text/plain": [
       "<lsst.ts.salobj.ddsutil.ATPtg_ackcmd at 0x7ff01c970ed0>"
      ]
     },
     "execution_count": 222,
     "metadata": {},
     "output_type": "execute_result"
    }
   ],
   "source": [
    "await atptg.cmd_offsetAzEl.set_start(az=-500., \n",
    "                                     el=0.,\n",
    "                                     num=1)"
   ]
  },
  {
   "cell_type": "code",
   "execution_count": 223,
   "metadata": {},
   "outputs": [
    {
     "name": "stderr",
     "output_type": "stream",
     "text": [
      "RemoteEvent(ATDomeTrajectory, 0, logMessage) falling behind; read 78 messages\n",
      "falling behind; queue contains 99 elements\n",
      "falling behind; queue contains 98 elements\n",
      "falling behind; queue contains 97 elements\n"
     ]
    },
    {
     "data": {
      "text/plain": [
       "<lsst.ts.salobj.ddsutil.ATPtg_ackcmd at 0x7fefffe65e10>"
      ]
     },
     "execution_count": 223,
     "metadata": {},
     "output_type": "execute_result"
    }
   ],
   "source": [
    "await atptg.cmd_offsetAzEl.set_start(az=-250., \n",
    "                                     el=0.,\n",
    "                                     num=1)"
   ]
  },
  {
   "cell_type": "code",
   "execution_count": 224,
   "metadata": {},
   "outputs": [
    {
     "name": "stderr",
     "output_type": "stream",
     "text": [
      "falling behind; queue contains 99 elements\n",
      "falling behind; queue contains 98 elements\n",
      "falling behind; queue contains 97 elements\n",
      "RemoteEvent(ATDomeTrajectory, 0, logMessage) falling behind; read 33 messages\n"
     ]
    },
    {
     "data": {
      "text/plain": [
       "<lsst.ts.salobj.ddsutil.ATPtg_ackcmd at 0x7ff0070c1110>"
      ]
     },
     "execution_count": 224,
     "metadata": {},
     "output_type": "execute_result"
    }
   ],
   "source": [
    "await atptg.cmd_offsetAzEl.set_start(az=0., \n",
    "                                     el=60.,\n",
    "                                     num=1)"
   ]
  },
  {
   "cell_type": "code",
   "execution_count": 225,
   "metadata": {},
   "outputs": [
    {
     "name": "stderr",
     "output_type": "stream",
     "text": [
      "falling behind; queue contains 99 elements\n",
      "falling behind; queue contains 98 elements\n",
      "falling behind; queue contains 97 elements\n"
     ]
    },
    {
     "data": {
      "text/plain": [
       "<lsst.ts.salobj.ddsutil.ATPtg_ackcmd at 0x7ff01caa5d50>"
      ]
     },
     "execution_count": 225,
     "metadata": {},
     "output_type": "execute_result"
    }
   ],
   "source": [
    "await atptg.cmd_offsetAzEl.set_start(az=0., \n",
    "                                     el=120.,\n",
    "                                     num=1)"
   ]
  },
  {
   "cell_type": "code",
   "execution_count": 226,
   "metadata": {},
   "outputs": [
    {
     "name": "stderr",
     "output_type": "stream",
     "text": [
      "falling behind; queue contains 99 elements\n",
      "falling behind; queue contains 98 elements\n",
      "falling behind; queue contains 97 elements\n",
      "RemoteTelemetry(ATPtg, 0, timeAndDate) falling behind; read 12 messages\n",
      "RemoteTelemetry(ATDome, 1, position) falling behind; read 12 messages\n"
     ]
    },
    {
     "data": {
      "text/plain": [
       "<lsst.ts.salobj.ddsutil.ATPtg_ackcmd at 0x7fefffdaef90>"
      ]
     },
     "execution_count": 226,
     "metadata": {},
     "output_type": "execute_result"
    }
   ],
   "source": [
    "await atptg.cmd_offsetAzEl.set_start(az=-60., \n",
    "                                     el=0.,\n",
    "                                     num=1)"
   ]
  },
  {
   "cell_type": "code",
   "execution_count": 227,
   "metadata": {},
   "outputs": [
    {
     "name": "stderr",
     "output_type": "stream",
     "text": [
      "falling behind; queue contains 99 elements\n",
      "falling behind; queue contains 98 elements\n",
      "falling behind; queue contains 97 elements\n",
      "RemoteEvent(ATDomeTrajectory, 0, logMessage) falling behind; read 63 messages\n",
      "RemoteTelemetry(ATPtg, 0, mountStatus) falling behind; read 16 messages\n",
      "RemoteTelemetry(ATPtg, 0, guidingAndOffsets) falling behind; read 16 messages\n",
      "RemoteTelemetry(ATPtg, 0, currentTargetStatus) falling behind; read 16 messages\n"
     ]
    },
    {
     "data": {
      "text/plain": [
       "<lsst.ts.salobj.ddsutil.ATPtg_ackcmd at 0x7fefeebac450>"
      ]
     },
     "execution_count": 227,
     "metadata": {},
     "output_type": "execute_result"
    }
   ],
   "source": [
    "await atptg.cmd_offsetAzEl.set_start(az=0., \n",
    "                                     el=30.,\n",
    "                                     num=1)"
   ]
  },
  {
   "cell_type": "code",
   "execution_count": 228,
   "metadata": {},
   "outputs": [
    {
     "name": "stderr",
     "output_type": "stream",
     "text": [
      "falling behind; queue contains 99 elements\n",
      "falling behind; queue contains 98 elements\n",
      "falling behind; queue contains 97 elements\n",
      "RemoteEvent(ATDomeTrajectory, 0, logMessage) falling behind; read 20 messages\n",
      "falling behind; queue contains 99 elements\n",
      "falling behind; queue contains 98 elements\n",
      "falling behind; queue contains 97 elements\n",
      "falling behind; queue contains 99 elements\n",
      "falling behind; queue contains 98 elements\n",
      "falling behind; queue contains 97 elements\n"
     ]
    },
    {
     "data": {
      "text/plain": [
       "<lsst.ts.salobj.ddsutil.ATPtg_ackcmd at 0x7fefffe10750>"
      ]
     },
     "execution_count": 228,
     "metadata": {},
     "output_type": "execute_result"
    }
   ],
   "source": [
    "await atptg.cmd_offsetAzEl.set_start(az=0., \n",
    "                                     el=30.,\n",
    "                                     num=1)"
   ]
  },
  {
   "cell_type": "code",
   "execution_count": 229,
   "metadata": {},
   "outputs": [
    {
     "name": "stderr",
     "output_type": "stream",
     "text": [
      "falling behind; queue contains 99 elements\n",
      "falling behind; queue contains 98 elements\n",
      "falling behind; queue contains 97 elements\n",
      "falling behind; queue contains 99 elements\n",
      "falling behind; queue contains 98 elements\n",
      "falling behind; queue contains 97 elements\n"
     ]
    },
    {
     "data": {
      "text/plain": [
       "<lsst.ts.salobj.ddsutil.ATPtg_ackcmd at 0x7ff004c519d0>"
      ]
     },
     "execution_count": 229,
     "metadata": {},
     "output_type": "execute_result"
    }
   ],
   "source": [
    "await atptg.cmd_offsetAzEl.set_start(az=-30., \n",
    "                                     el=0.,\n",
    "                                     num=1)"
   ]
  },
  {
   "cell_type": "code",
   "execution_count": 125,
   "metadata": {},
   "outputs": [
    {
     "name": "stderr",
     "output_type": "stream",
     "text": [
      "RemoteEvent(ATHexapod, 0, heartbeat) falling behind; read 10 messages\n",
      "RemoteTelemetry(ATPneumatics, 0, loadCell) falling behind; read 10 messages\n",
      "RemoteTelemetry(ATDome, 1, position) falling behind; read 49 messages\n",
      "RemoteEvent(ATAOS, 0, heartbeat) falling behind; read 10 messages\n",
      "falling behind; queue contains 99 elements\n",
      "falling behind; queue contains 98 elements\n",
      "falling behind; queue contains 97 elements\n",
      "RemoteEvent(ATDomeTrajectory, 0, heartbeat) falling behind; read 10 messages\n",
      "falling behind; queue contains 99 elements\n",
      "falling behind; queue contains 98 elements\n",
      "falling behind; queue contains 97 elements\n",
      "falling behind; queue contains 99 elements\n",
      "falling behind; queue contains 98 elements\n",
      "falling behind; queue contains 97 elements\n"
     ]
    },
    {
     "data": {
      "text/plain": [
       "<lsst.ts.salobj.ddsutil.ATPtg_ackcmd at 0x7ff004959090>"
      ]
     },
     "execution_count": 125,
     "metadata": {},
     "output_type": "execute_result"
    }
   ],
   "source": [
    "await atptg.cmd_stopTracking.start()"
   ]
  },
  {
   "cell_type": "markdown",
   "metadata": {},
   "source": [
    "# Alf PsA"
   ]
  },
  {
   "cell_type": "code",
   "execution_count": 133,
   "metadata": {},
   "outputs": [],
   "source": [
    "ra = Angle(\"22:57:39.04625\", unit=u.hour)\n",
    "dec = Angle(\"-29:37:20.0533\", unit=u.deg)\n",
    "target_name=\"Jupiter\"\n",
    "\n",
    "radec = ICRS(ra, dec)\n",
    " \n"
   ]
  },
  {
   "cell_type": "code",
   "execution_count": 219,
   "metadata": {},
   "outputs": [
    {
     "name": "stderr",
     "output_type": "stream",
     "text": [
      "RemoteTelemetry(ATDome, 1, position) falling behind; read 18 messages\n",
      "RemoteTelemetry(ATPtg, 0, mountStatus) falling behind; read 18 messages\n",
      "RemoteTelemetry(ATPtg, 0, guidingAndOffsets) falling behind; read 18 messages\n",
      "RemoteTelemetry(ATPtg, 0, currentTargetStatus) falling behind; read 18 messages\n"
     ]
    },
    {
     "name": "stdout",
     "output_type": "stream",
     "text": [
      "58734.28169993333\n",
      "slew...\n"
     ]
    },
    {
     "data": {
      "text/plain": [
       "<lsst.ts.salobj.ddsutil.ATPtg_ackcmd at 0x7ff004f19290>"
      ]
     },
     "execution_count": 219,
     "metadata": {},
     "output_type": "execute_result"
    }
   ],
   "source": [
    "# Figure out what is the rotPA that sets nasmith rotator close to zero.\n",
    "time_data = await atptg.tel_timeAndDate.next(flush=True, timeout=2)\n",
    "curr_time_atptg = Time(time_data.tai, format=\"mjd\", scale=\"tai\")\n",
    "print(curr_time_atptg)\n",
    "coord_frame_altaz = AltAz(location=location, obstime=curr_time_atptg)\n",
    "alt_az = radec.transform_to(coord_frame_altaz)\n",
    "\n",
    "print(\"slew...\")\n",
    "# await atmcs.cmd_startTracking.start(timeout=10)\n",
    "await atptg.cmd_raDecTarget.set_start(\n",
    "    targetName=target_name,\n",
    "    targetInstance=ATPtg.TargetInstances.CURRENT,\n",
    "    frame=ATPtg.CoordFrame.ICRS,\n",
    "    epoch=2000,  # should be ignored: no parallax or proper motion\n",
    "    equinox=2000,  # should be ignored for ICRS\n",
    "    ra=radec.ra.hour,\n",
    "    declination=radec.dec.deg,\n",
    "    parallax=0,\n",
    "    pmRA=0,\n",
    "    pmDec=0,\n",
    "    rv=0,\n",
    "    dRA=0,\n",
    "    dDec=0,\n",
    "    rotPA=180.-alt_az.alt.deg,\n",
    "    rotFrame=ATPtg.RotFrame.FIXED,\n",
    "    rotMode=ATPtg.RotMode.FIELD,\n",
    "    timeout=10\n",
    ")"
   ]
  },
  {
   "cell_type": "code",
   "execution_count": 231,
   "metadata": {},
   "outputs": [
    {
     "name": "stderr",
     "output_type": "stream",
     "text": [
      "falling behind; queue contains 99 elements\n",
      "falling behind; queue contains 98 elements\n",
      "falling behind; queue contains 97 elements\n"
     ]
    },
    {
     "data": {
      "text/plain": [
       "<lsst.ts.salobj.ddsutil.ATPtg_ackcmd at 0x7ff01ca0a0d0>"
      ]
     },
     "execution_count": 231,
     "metadata": {},
     "output_type": "execute_result"
    }
   ],
   "source": [
    "await atptg.cmd_offsetAzEl.set_start(az=-60., \n",
    "                                     el=0.,\n",
    "                                    num=1)"
   ]
  },
  {
   "cell_type": "code",
   "execution_count": 244,
   "metadata": {},
   "outputs": [
    {
     "name": "stderr",
     "output_type": "stream",
     "text": [
      "falling behind; queue contains 99 elements\n",
      "falling behind; queue contains 98 elements\n",
      "falling behind; queue contains 97 elements\n",
      "RemoteTelemetry(ATDome, 1, position) falling behind; read 100 messages\n",
      "RemoteEvent(ATAOS, 0, heartbeat) falling behind; read 33 messages\n",
      "falling behind; queue contains 99 elements\n",
      "falling behind; queue contains 98 elements\n",
      "falling behind; queue contains 97 elements\n"
     ]
    },
    {
     "data": {
      "text/plain": [
       "<lsst.ts.salobj.ddsutil.ATPtg_ackcmd at 0x7ff004bfe510>"
      ]
     },
     "execution_count": 244,
     "metadata": {},
     "output_type": "execute_result"
    }
   ],
   "source": [
    "await atptg.cmd_stopTracking.start()"
   ]
  },
  {
   "cell_type": "code",
   "execution_count": 218,
   "metadata": {},
   "outputs": [
    {
     "name": "stderr",
     "output_type": "stream",
     "text": [
      "falling behind; queue contains 99 elements\n",
      "falling behind; queue contains 98 elements\n",
      "falling behind; queue contains 97 elements\n",
      "RemoteTelemetry(ATDome, 1, position) falling behind; read 23 messages\n",
      "falling behind; queue contains 99 elements\n",
      "falling behind; queue contains 98 elements\n",
      "falling behind; queue contains 97 elements\n",
      "falling behind; queue contains 99 elements\n",
      "falling behind; queue contains 98 elements\n",
      "falling behind; queue contains 97 elements\n",
      "falling behind; queue contains 99 elements\n",
      "falling behind; queue contains 98 elements\n",
      "falling behind; queue contains 97 elements\n",
      "falling behind; queue contains 99 elements\n",
      "falling behind; queue contains 98 elements\n",
      "falling behind; queue contains 97 elements\n"
     ]
    },
    {
     "data": {
      "text/plain": [
       "[<State.FAULT: 3>, <State.STANDBY: 5>, <State.DISABLED: 1>, <State.ENABLED: 2>]"
      ]
     },
     "execution_count": 218,
     "metadata": {},
     "output_type": "execute_result"
    }
   ],
   "source": [
    "await salobj.set_summary_state(atptg, salobj.State.ENABLED)"
   ]
  },
  {
   "cell_type": "code",
   "execution_count": 211,
   "metadata": {},
   "outputs": [
    {
     "name": "stderr",
     "output_type": "stream",
     "text": [
      "RemoteTelemetry(ATPtg, 0, currentTargetStatus) falling behind; read 100 messages\n",
      "RemoteTelemetry(ATPneumatics, 0, loadCell) falling behind; read 92 messages\n",
      "RemoteEvent(ATAOS, 0, heartbeat) falling behind; read 92 messages\n",
      "falling behind; queue contains 99 elements\n",
      "falling behind; queue contains 98 elements\n",
      "falling behind; queue contains 97 elements\n",
      "RemoteEvent(ATDomeTrajectory, 0, logMessage) falling behind; read 100 messages\n",
      "RemoteTelemetry(ATPtg, 0, timeAndDate) falling behind; read 100 messages\n",
      "RemoteTelemetry(ATPtg, 0, currentTimesToLimits) falling behind; read 18 messages\n",
      "falling behind; queue contains 99 elements\n",
      "falling behind; queue contains 98 elements\n",
      "falling behind; queue contains 97 elements\n",
      "falling behind; queue contains 99 elements\n",
      "falling behind; queue contains 98 elements\n",
      "falling behind; queue contains 97 elements\n",
      "falling behind; queue contains 99 elements\n",
      "falling behind; queue contains 98 elements\n",
      "falling behind; queue contains 97 elements\n"
     ]
    },
    {
     "data": {
      "text/plain": [
       "<lsst.ts.salobj.ddsutil.ATPtg_ackcmd at 0x7ff004bed550>"
      ]
     },
     "execution_count": 211,
     "metadata": {},
     "output_type": "execute_result"
    },
    {
     "name": "stderr",
     "output_type": "stream",
     "text": [
      "falling behind; queue contains 99 elements\n",
      "falling behind; queue contains 98 elements\n",
      "falling behind; queue contains 97 elements\n"
     ]
    }
   ],
   "source": [
    "await atptg.cmd_pointNewFile.start()\n",
    "await atptg.cmd_pointAddData.start()"
   ]
  },
  {
   "cell_type": "code",
   "execution_count": 190,
   "metadata": {},
   "outputs": [
    {
     "name": "stderr",
     "output_type": "stream",
     "text": [
      "falling behind; queue contains 99 elements\n",
      "falling behind; queue contains 98 elements\n",
      "falling behind; queue contains 97 elements\n",
      "RemoteTelemetry(ATPtg, 0, timeAndDate) falling behind; read 100 messages\n",
      "RemoteTelemetry(ATPtg, 0, currentTimesToLimits) falling behind; read 95 messages\n",
      "RemoteEvent(ATPtg, 0, weatherDataApplied) falling behind; read 47 messages\n",
      "falling behind; queue contains 99 elements\n",
      "falling behind; queue contains 98 elements\n",
      "falling behind; queue contains 97 elements\n",
      "falling behind; queue contains 99 elements\n",
      "falling behind; queue contains 98 elements\n",
      "falling behind; queue contains 97 elements\n",
      "falling behind; queue contains 99 elements\n",
      "falling behind; queue contains 98 elements\n",
      "falling behind; queue contains 97 elements\n",
      "falling behind; queue contains 99 elements\n",
      "falling behind; queue contains 98 elements\n",
      "falling behind; queue contains 97 elements\n",
      "falling behind; queue contains 99 elements\n",
      "falling behind; queue contains 98 elements\n",
      "falling behind; queue contains 97 elements\n",
      "falling behind; queue contains 99 elements\n",
      "falling behind; queue contains 98 elements\n",
      "falling behind; queue contains 97 elements\n",
      "falling behind; queue contains 99 elements\n",
      "falling behind; queue contains 98 elements\n",
      "falling behind; queue contains 97 elements\n",
      "falling behind; queue contains 99 elements\n",
      "falling behind; queue contains 98 elements\n",
      "falling behind; queue contains 97 elements\n",
      "falling behind; queue contains 99 elements\n",
      "falling behind; queue contains 98 elements\n",
      "falling behind; queue contains 97 elements\n",
      "falling behind; queue contains 99 elements\n",
      "falling behind; queue contains 98 elements\n",
      "falling behind; queue contains 97 elements\n"
     ]
    },
    {
     "ename": "AckError",
     "evalue": "msg='Command failed', ackcmd=(ackcmd private_seqNum=1487062204, ack=<SalRetCode.CMD_NOPERM: -300>, error=0, result='ERROR: Command standby rejected while in TrackingDisabledState state.')",
     "output_type": "error",
     "traceback": [
      "\u001b[0;31m\u001b[0m",
      "\u001b[0;31mAckError\u001b[0mTraceback (most recent call last)",
      "\u001b[0;32m<ipython-input-190-8458dc7fc010>\u001b[0m in \u001b[0;36masync-def-wrapper\u001b[0;34m()\u001b[0m\n",
      "\u001b[0;32m~/repos/ts_salobj/python/lsst/ts/salobj/topics/remote_command.py\u001b[0m in \u001b[0;36mstart\u001b[0;34m(self, data, timeout, wait_done)\u001b[0m\n\u001b[1;32m    366\u001b[0m         \u001b[0mcmd_info\u001b[0m \u001b[0;34m=\u001b[0m \u001b[0m_CommandInfo\u001b[0m\u001b[0;34m(\u001b[0m\u001b[0mremote_command\u001b[0m\u001b[0;34m=\u001b[0m\u001b[0mself\u001b[0m\u001b[0;34m,\u001b[0m \u001b[0mseq_num\u001b[0m\u001b[0;34m=\u001b[0m\u001b[0mseq_num\u001b[0m\u001b[0;34m,\u001b[0m \u001b[0mwait_done\u001b[0m\u001b[0;34m=\u001b[0m\u001b[0mwait_done\u001b[0m\u001b[0;34m)\u001b[0m\u001b[0;34m\u001b[0m\u001b[0;34m\u001b[0m\u001b[0m\n\u001b[1;32m    367\u001b[0m         \u001b[0mself\u001b[0m\u001b[0;34m.\u001b[0m\u001b[0msalinfo\u001b[0m\u001b[0;34m.\u001b[0m\u001b[0m_running_cmds\u001b[0m\u001b[0;34m[\u001b[0m\u001b[0mseq_num\u001b[0m\u001b[0;34m]\u001b[0m \u001b[0;34m=\u001b[0m \u001b[0mcmd_info\u001b[0m\u001b[0;34m\u001b[0m\u001b[0;34m\u001b[0m\u001b[0m\n\u001b[0;32m--> 368\u001b[0;31m         \u001b[0;32mreturn\u001b[0m \u001b[0;32mawait\u001b[0m \u001b[0mcmd_info\u001b[0m\u001b[0;34m.\u001b[0m\u001b[0mnext_ackcmd\u001b[0m\u001b[0;34m(\u001b[0m\u001b[0mtimeout\u001b[0m\u001b[0;34m=\u001b[0m\u001b[0mtimeout\u001b[0m\u001b[0;34m)\u001b[0m\u001b[0;34m\u001b[0m\u001b[0;34m\u001b[0m\u001b[0m\n\u001b[0m",
      "\u001b[0;32m~/repos/ts_salobj/python/lsst/ts/salobj/topics/remote_command.py\u001b[0m in \u001b[0;36mnext_ackcmd\u001b[0;34m(self, timeout)\u001b[0m\n\u001b[1;32m    169\u001b[0m             \u001b[0;31m# print(f\"next_ackcmd got {ackcmd.ack} from _basic_next_ack\")\u001b[0m\u001b[0;34m\u001b[0m\u001b[0;34m\u001b[0m\u001b[0;34m\u001b[0m\u001b[0m\n\u001b[1;32m    170\u001b[0m             \u001b[0;32mif\u001b[0m \u001b[0mackcmd\u001b[0m\u001b[0;34m.\u001b[0m\u001b[0mack\u001b[0m \u001b[0;32min\u001b[0m \u001b[0mself\u001b[0m\u001b[0;34m.\u001b[0m\u001b[0mfailed_ack_codes\u001b[0m\u001b[0;34m:\u001b[0m\u001b[0;34m\u001b[0m\u001b[0;34m\u001b[0m\u001b[0m\n\u001b[0;32m--> 171\u001b[0;31m                 \u001b[0;32mraise\u001b[0m \u001b[0mbase\u001b[0m\u001b[0;34m.\u001b[0m\u001b[0mAckError\u001b[0m\u001b[0;34m(\u001b[0m\u001b[0mmsg\u001b[0m\u001b[0;34m=\u001b[0m\u001b[0;34m\"Command failed\"\u001b[0m\u001b[0;34m,\u001b[0m \u001b[0mackcmd\u001b[0m\u001b[0;34m=\u001b[0m\u001b[0mackcmd\u001b[0m\u001b[0;34m)\u001b[0m\u001b[0;34m\u001b[0m\u001b[0;34m\u001b[0m\u001b[0m\n\u001b[0m\u001b[1;32m    172\u001b[0m             \u001b[0;32mreturn\u001b[0m \u001b[0mackcmd\u001b[0m\u001b[0;34m\u001b[0m\u001b[0;34m\u001b[0m\u001b[0m\n\u001b[1;32m    173\u001b[0m         \u001b[0;32mexcept\u001b[0m \u001b[0masyncio\u001b[0m\u001b[0;34m.\u001b[0m\u001b[0mTimeoutError\u001b[0m\u001b[0;34m:\u001b[0m\u001b[0;34m\u001b[0m\u001b[0;34m\u001b[0m\u001b[0m\n",
      "\u001b[0;31mAckError\u001b[0m: msg='Command failed', ackcmd=(ackcmd private_seqNum=1487062204, ack=<SalRetCode.CMD_NOPERM: -300>, error=0, result='ERROR: Command standby rejected while in TrackingDisabledState state.')"
     ]
    }
   ],
   "source": [
    "await atmcs.cmd_standby.start()"
   ]
  },
  {
   "cell_type": "code",
   "execution_count": 191,
   "metadata": {},
   "outputs": [
    {
     "name": "stderr",
     "output_type": "stream",
     "text": [
      "falling behind; queue contains 99 elements\n",
      "falling behind; queue contains 98 elements\n",
      "falling behind; queue contains 97 elements\n",
      "RemoteEvent(ATDomeTrajectory, 0, logMessage) falling behind; read 100 messages\n",
      "RemoteTelemetry(ATDome, 1, position) falling behind; read 100 messages\n",
      "RemoteTelemetry(ATPneumatics, 0, loadCell) falling behind; read 73 messages\n",
      "RemoteEvent(ATAOS, 0, heartbeat) falling behind; read 72 messages\n",
      "RemoteEvent(ATHexapod, 0, heartbeat) falling behind; read 72 messages\n",
      "RemoteTelemetry(ATMCS, 0, trajectory) falling behind; read 73 messages\n",
      "RemoteTelemetry(ATPneumatics, 0, mainAirSourcePressure) falling behind; read 73 messages\n",
      "RemoteTelemetry(ATPneumatics, 0, m2AirPressure) falling behind; read 73 messages\n",
      "RemoteEvent(ATDomeTrajectory, 0, heartbeat) falling behind; read 72 messages\n",
      "RemoteEvent(ATDome, 1, heartbeat) falling behind; read 73 messages\n",
      "RemoteTelemetry(ATPneumatics, 0, m1AirPressure) falling behind; read 73 messages\n",
      "RemoteEvent(ATPneumatics, 0, heartbeat) falling behind; read 73 messages\n",
      "falling behind; queue contains 99 elements\n",
      "falling behind; queue contains 98 elements\n",
      "falling behind; queue contains 97 elements\n"
     ]
    },
    {
     "data": {
      "text/plain": [
       "<lsst.ts.salobj.ddsutil.ATPtg_ackcmd at 0x7ff004bd3950>"
      ]
     },
     "execution_count": 191,
     "metadata": {},
     "output_type": "execute_result"
    }
   ],
   "source": [
    "await atptg.cmd_offsetAbsorb.start()"
   ]
  },
  {
   "cell_type": "code",
   "execution_count": null,
   "metadata": {},
   "outputs": [],
   "source": [
    "print(\"hello\")"
   ]
  },
  {
   "cell_type": "code",
   "execution_count": null,
   "metadata": {},
   "outputs": [],
   "source": []
  }
 ],
 "metadata": {
  "kernelspec": {
   "display_name": "Python 3",
   "language": "python",
   "name": "python3"
  },
  "language_info": {
   "codemirror_mode": {
    "name": "ipython",
    "version": 3
   },
   "file_extension": ".py",
   "mimetype": "text/x-python",
   "name": "python",
   "nbconvert_exporter": "python",
   "pygments_lexer": "ipython3",
   "version": "3.7.4"
  }
 },
 "nbformat": 4,
 "nbformat_minor": 4
}
