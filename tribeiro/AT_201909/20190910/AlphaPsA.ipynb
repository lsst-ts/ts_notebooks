{
 "cells": [
  {
   "cell_type": "code",
   "execution_count": 1,
   "metadata": {},
   "outputs": [],
   "source": [
    "import logging\n",
    "import yaml\n",
    "\n",
    "import numpy as np\n",
    "from matplotlib import pyplot as plt\n",
    "import astropy.units as u\n",
    "from astropy.time import Time\n",
    "from astropy.coordinates import AltAz, ICRS, EarthLocation, Angle, FK5\n",
    "import asyncio\n",
    "\n",
    "# import palpy\n",
    "\n",
    "from lsst.ts import salobj\n",
    "\n",
    "from lsst.ts.standardscripts.auxtel.attcs import ATTCS\n",
    "\n",
    "from lsst.ts.idl.enums import ATPtg\n",
    "\n",
    "%matplotlib inline"
   ]
  },
  {
   "cell_type": "code",
   "execution_count": 2,
   "metadata": {},
   "outputs": [],
   "source": [
    "from astropy.utils import iers\n",
    "iers.conf.auto_download = False"
   ]
  },
  {
   "cell_type": "code",
   "execution_count": 3,
   "metadata": {},
   "outputs": [],
   "source": [
    "d = salobj.Domain()"
   ]
  },
  {
   "cell_type": "code",
   "execution_count": 4,
   "metadata": {},
   "outputs": [],
   "source": [
    "atmcs = salobj.Remote(d, \"ATMCS\")\n",
    "atptg = salobj.Remote(d, \"ATPtg\")\n",
    "ataos = salobj.Remote(d, \"ATAOS\")\n",
    "atpne = salobj.Remote(d, \"ATPneumatics\")\n",
    "athex = salobj.Remote(d, \"ATHexapod\")\n",
    "atdome = salobj.Remote(d, \"ATDome\", index=1)\n",
    "atdomtraj = salobj.Remote(d, \"ATDomeTrajectory\")"
   ]
  },
  {
   "cell_type": "code",
   "execution_count": 5,
   "metadata": {},
   "outputs": [
    {
     "data": {
      "text/plain": [
       "[None, None, None, None, None, None, None]"
      ]
     },
     "execution_count": 5,
     "metadata": {},
     "output_type": "execute_result"
    }
   ],
   "source": [
    "await asyncio.gather(atmcs.start_task, \n",
    "                     atptg.start_task,\n",
    "                     ataos.start_task,\n",
    "                     atpne.start_task,\n",
    "                     athex.start_task,\n",
    "                     atdome.start_task,\n",
    "                     atdomtraj.start_task)"
   ]
  },
  {
   "cell_type": "markdown",
   "metadata": {},
   "source": [
    "# ATMCS"
   ]
  },
  {
   "cell_type": "code",
   "execution_count": null,
   "metadata": {},
   "outputs": [],
   "source": [
    "await asyncio.sleep(5.)\n",
    "print(\"Done\")\n",
    "await salobj.set_summary_state(atmcs, salobj.State.ENABLED)"
   ]
  },
  {
   "cell_type": "code",
   "execution_count": null,
   "metadata": {},
   "outputs": [],
   "source": []
  },
  {
   "cell_type": "markdown",
   "metadata": {},
   "source": [
    "# ATPtg"
   ]
  },
  {
   "cell_type": "code",
   "execution_count": 6,
   "metadata": {},
   "outputs": [
    {
     "name": "stderr",
     "output_type": "stream",
     "text": [
      "AckCmdReader(ATMCS, 0, ackcmd) falling behind; read 100 messages\n",
      "falling behind; queue contains 99 elements\n",
      "falling behind; queue contains 98 elements\n",
      "falling behind; queue contains 97 elements\n",
      "falling behind; queue contains 99 elements\n",
      "falling behind; queue contains 98 elements\n",
      "falling behind; queue contains 97 elements\n",
      "falling behind; queue contains 99 elements\n",
      "falling behind; queue contains 98 elements\n",
      "falling behind; queue contains 97 elements\n",
      "falling behind; queue contains 99 elements\n",
      "falling behind; queue contains 98 elements\n",
      "falling behind; queue contains 97 elements\n",
      "falling behind; queue contains 99 elements\n",
      "falling behind; queue contains 98 elements\n",
      "falling behind; queue contains 97 elements\n",
      "falling behind; queue contains 99 elements\n",
      "falling behind; queue contains 98 elements\n",
      "falling behind; queue contains 97 elements\n",
      "falling behind; queue contains 48 elements\n"
     ]
    },
    {
     "data": {
      "text/plain": [
       "[<State.ENABLED: 2>]"
      ]
     },
     "execution_count": 6,
     "metadata": {},
     "output_type": "execute_result"
    }
   ],
   "source": [
    "await atptg.tel_timeAndDate.next(flush=True, timeout=5)\n",
    "await salobj.set_summary_state(atptg, salobj.State.ENABLED)"
   ]
  },
  {
   "cell_type": "code",
   "execution_count": null,
   "metadata": {},
   "outputs": [],
   "source": [
    "await atptg.cmd_azElTarget.set_start(azDegs=243., elDegs=80.)"
   ]
  },
  {
   "cell_type": "code",
   "execution_count": 7,
   "metadata": {},
   "outputs": [],
   "source": [
    "location = EarthLocation.from_geodetic(lon=-70.747698*u.deg,\n",
    "                                       lat=-30.244728*u.deg,\n",
    "                                       height=2663.0*u.m)"
   ]
  },
  {
   "cell_type": "code",
   "execution_count": null,
   "metadata": {},
   "outputs": [],
   "source": [
    "ra = Angle(\"22:57:39.0\", unit=u.hour)\n",
    "dec = Angle(\"-29:37:20.0\", unit=u.deg)\n",
    "target_name=\"Alpha PsA\"\n",
    "radec = ICRS(ra, dec)"
   ]
  },
  {
   "cell_type": "code",
   "execution_count": null,
   "metadata": {},
   "outputs": [],
   "source": [
    "await atmcs.cmd_startTracking.start()"
   ]
  },
  {
   "cell_type": "code",
   "execution_count": null,
   "metadata": {},
   "outputs": [],
   "source": [
    "# Figure out what is the rotPA that sets nasmith rotator close to zero.\n",
    "time_data = await atptg.tel_timeAndDate.next(flush=True, timeout=2)\n",
    "curr_time_atptg = Time(time_data.tai, format=\"mjd\", scale=\"tai\")\n",
    "print(curr_time_atptg)\n",
    "coord_frame_altaz = AltAz(location=location, obstime=curr_time_atptg)\n",
    "alt_az = radec.transform_to(coord_frame_altaz)\n",
    "\n",
    "print(\"slew...\")\n",
    "# await atmcs.cmd_startTracking.start(timeout=10)\n",
    "await atptg.cmd_raDecTarget.set_start(\n",
    "    targetName=target_name,\n",
    "    targetInstance=ATPtg.TargetInstances.CURRENT,\n",
    "    frame=ATPtg.CoordFrame.ICRS,\n",
    "    epoch=2000,  # should be ignored: no parallax or proper motion\n",
    "    equinox=2000,  # should be ignored for ICRS\n",
    "    ra=radec.ra.hour,\n",
    "    declination=radec.dec.deg,\n",
    "    parallax=0,\n",
    "    pmRA=0,\n",
    "    pmDec=0,\n",
    "    rv=0,\n",
    "    dRA=0,\n",
    "    dDec=0,\n",
    "    rotPA=180.-alt_az.alt.deg,\n",
    "    rotFrame=ATPtg.RotFrame.FIXED,\n",
    "    rotMode=ATPtg.RotMode.FIELD,\n",
    "    timeout=10\n",
    ")"
   ]
  },
  {
   "cell_type": "code",
   "execution_count": null,
   "metadata": {},
   "outputs": [],
   "source": [
    "ss = await atdome.evt_summaryState.next(flush=False, timeout=5)"
   ]
  },
  {
   "cell_type": "code",
   "execution_count": null,
   "metadata": {},
   "outputs": [],
   "source": [
    "print(salobj.State(ss.summaryState))"
   ]
  },
  {
   "cell_type": "code",
   "execution_count": null,
   "metadata": {},
   "outputs": [],
   "source": [
    "ss = await atdomtraj.evt_summaryState.next(flush=False, timeout=5)"
   ]
  },
  {
   "cell_type": "code",
   "execution_count": null,
   "metadata": {},
   "outputs": [],
   "source": [
    "print(salobj.State(ss.summaryState))"
   ]
  },
  {
   "cell_type": "code",
   "execution_count": null,
   "metadata": {},
   "outputs": [],
   "source": [
    "await atdomtraj.cmd_enable.start()"
   ]
  },
  {
   "cell_type": "code",
   "execution_count": null,
   "metadata": {},
   "outputs": [],
   "source": []
  }
 ],
 "metadata": {
  "kernelspec": {
   "display_name": "Python 3",
   "language": "python",
   "name": "python3"
  },
  "language_info": {
   "codemirror_mode": {
    "name": "ipython",
    "version": 3
   },
   "file_extension": ".py",
   "mimetype": "text/x-python",
   "name": "python",
   "nbconvert_exporter": "python",
   "pygments_lexer": "ipython3",
   "version": "3.7.4"
  }
 },
 "nbformat": 4,
 "nbformat_minor": 4
}
