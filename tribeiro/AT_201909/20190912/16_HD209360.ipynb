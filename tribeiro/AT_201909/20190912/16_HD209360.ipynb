{
 "cells": [
  {
   "cell_type": "code",
   "execution_count": 1,
   "metadata": {},
   "outputs": [],
   "source": [
    "import logging\n",
    "import yaml\n",
    "\n",
    "import numpy as np\n",
    "from matplotlib import pyplot as plt\n",
    "import astropy.units as u\n",
    "from astropy.time import Time\n",
    "from astropy.coordinates import AltAz, ICRS, EarthLocation, Angle, FK5\n",
    "import asyncio\n",
    "\n",
    "# import palpy\n",
    "\n",
    "from lsst.ts import salobj\n",
    "\n",
    "from lsst.ts.standardscripts.auxtel.attcs import ATTCS\n",
    "\n",
    "from lsst.ts.idl.enums import ATPtg\n",
    "\n",
    "%matplotlib inline"
   ]
  },
  {
   "cell_type": "code",
   "execution_count": 2,
   "metadata": {},
   "outputs": [],
   "source": [
    "from astropy.utils import iers\n",
    "iers.conf.auto_download = False"
   ]
  },
  {
   "cell_type": "code",
   "execution_count": 3,
   "metadata": {},
   "outputs": [],
   "source": [
    "d = salobj.Domain()"
   ]
  },
  {
   "cell_type": "code",
   "execution_count": 4,
   "metadata": {},
   "outputs": [],
   "source": [
    "atmcs = salobj.Remote(d, \"ATMCS\")\n",
    "atptg = salobj.Remote(d, \"ATPtg\")\n",
    "ataos = salobj.Remote(d, \"ATAOS\")\n",
    "atpne = salobj.Remote(d, \"ATPneumatics\")\n",
    "athex = salobj.Remote(d, \"ATHexapod\")\n",
    "atdome = salobj.Remote(d, \"ATDome\", index=1)\n",
    "atdomtraj = salobj.Remote(d, \"ATDomeTrajectory\")"
   ]
  },
  {
   "cell_type": "code",
   "execution_count": 5,
   "metadata": {},
   "outputs": [
    {
     "data": {
      "text/plain": [
       "[None, None, None, None, None, None, None]"
      ]
     },
     "execution_count": 5,
     "metadata": {},
     "output_type": "execute_result"
    },
    {
     "name": "stderr",
     "output_type": "stream",
     "text": [
      "AckCmdReader(ATPneumatics, 0, ackcmd) falling behind; read 10 messages\n"
     ]
    }
   ],
   "source": [
    "await asyncio.gather(atmcs.start_task, \n",
    "                     atptg.start_task,\n",
    "                     ataos.start_task,\n",
    "                     atpne.start_task,\n",
    "                     athex.start_task,\n",
    "                     atdome.start_task,\n",
    "                     atdomtraj.start_task)"
   ]
  },
  {
   "cell_type": "markdown",
   "metadata": {},
   "source": [
    "# ATMCS"
   ]
  },
  {
   "cell_type": "code",
   "execution_count": null,
   "metadata": {},
   "outputs": [],
   "source": [
    "await asyncio.sleep(5.)\n",
    "print(\"Done\")\n",
    "await salobj.set_summary_state(atmcs, salobj.State.ENABLED)"
   ]
  },
  {
   "cell_type": "code",
   "execution_count": 22,
   "metadata": {},
   "outputs": [
    {
     "name": "stderr",
     "output_type": "stream",
     "text": [
      "RemoteTelemetry(ATPtg, 0, timeAndDate) falling behind; read 42 messages\n",
      "falling behind; queue contains 17 elements\n",
      "falling behind; queue contains 99 elements\n",
      "falling behind; queue contains 98 elements\n",
      "falling behind; queue contains 97 elements\n",
      "falling behind; queue contains 99 elements\n",
      "falling behind; queue contains 98 elements\n",
      "falling behind; queue contains 97 elements\n",
      "falling behind; queue contains 99 elements\n",
      "falling behind; queue contains 98 elements\n",
      "falling behind; queue contains 97 elements\n",
      "falling behind; queue contains 36 elements\n"
     ]
    },
    {
     "data": {
      "text/plain": [
       "[<State.ENABLED: 2>, <State.DISABLED: 1>, <State.STANDBY: 5>]"
      ]
     },
     "execution_count": 22,
     "metadata": {},
     "output_type": "execute_result"
    }
   ],
   "source": [
    "await salobj.set_summary_state(atmcs, salobj.State.STANDBY)"
   ]
  },
  {
   "cell_type": "code",
   "execution_count": 27,
   "metadata": {},
   "outputs": [
    {
     "name": "stderr",
     "output_type": "stream",
     "text": [
      "RemoteTelemetry(ATDome, 1, position) falling behind; read 100 messages\n",
      "falling behind; queue contains 99 elements\n",
      "falling behind; queue contains 98 elements\n",
      "falling behind; queue contains 97 elements\n",
      "RemoteTelemetry(ATPtg, 0, currentTimesToLimits) falling behind; read 100 messages\n",
      "RemoteEvent(ATPneumatics, 0, m1SetPressure) falling behind; read 100 messages\n",
      "falling behind; queue contains 99 elements\n",
      "falling behind; queue contains 98 elements\n",
      "falling behind; queue contains 97 elements\n",
      "falling behind; queue contains 99 elements\n",
      "falling behind; queue contains 98 elements\n",
      "falling behind; queue contains 97 elements\n",
      "falling behind; queue contains 99 elements\n",
      "falling behind; queue contains 98 elements\n",
      "falling behind; queue contains 97 elements\n",
      "RemoteEvent(ATMCS, 0, atMountState) falling behind; read 14 messages\n",
      "falling behind; queue contains 99 elements\n",
      "falling behind; queue contains 98 elements\n",
      "falling behind; queue contains 97 elements\n",
      "falling behind; queue contains 99 elements\n",
      "falling behind; queue contains 98 elements\n",
      "falling behind; queue contains 97 elements\n",
      "falling behind; queue contains 99 elements\n",
      "falling behind; queue contains 98 elements\n",
      "falling behind; queue contains 97 elements\n",
      "falling behind; queue contains 99 elements\n",
      "falling behind; queue contains 98 elements\n",
      "falling behind; queue contains 97 elements\n",
      "falling behind; queue contains 99 elements\n",
      "falling behind; queue contains 98 elements\n",
      "falling behind; queue contains 97 elements\n",
      "falling behind; queue contains 99 elements\n",
      "falling behind; queue contains 98 elements\n",
      "falling behind; queue contains 97 elements\n",
      "falling behind; queue contains 99 elements\n",
      "falling behind; queue contains 98 elements\n",
      "falling behind; queue contains 97 elements\n",
      "falling behind; queue contains 99 elements\n",
      "falling behind; queue contains 98 elements\n",
      "falling behind; queue contains 97 elements\n",
      "falling behind; queue contains 99 elements\n",
      "falling behind; queue contains 98 elements\n",
      "falling behind; queue contains 97 elements\n",
      "falling behind; queue contains 99 elements\n",
      "falling behind; queue contains 98 elements\n",
      "falling behind; queue contains 97 elements\n",
      "falling behind; queue contains 99 elements\n",
      "falling behind; queue contains 98 elements\n",
      "falling behind; queue contains 97 elements\n",
      "falling behind; queue contains 99 elements\n",
      "falling behind; queue contains 98 elements\n",
      "falling behind; queue contains 97 elements\n",
      "falling behind; queue contains 13 elements\n",
      "falling behind; queue contains 99 elements\n",
      "falling behind; queue contains 98 elements\n",
      "falling behind; queue contains 97 elements\n",
      "falling behind; queue contains 99 elements\n",
      "falling behind; queue contains 98 elements\n",
      "falling behind; queue contains 97 elements\n"
     ]
    },
    {
     "name": "stdout",
     "output_type": "stream",
     "text": [
      "Done\n"
     ]
    },
    {
     "data": {
      "text/plain": [
       "[[<State.DISABLED: 1>, <State.ENABLED: 2>],\n",
       " [<State.FAULT: 3>,\n",
       "  <State.STANDBY: 5>,\n",
       "  <State.DISABLED: 1>,\n",
       "  <State.ENABLED: 2>]]"
      ]
     },
     "execution_count": 27,
     "metadata": {},
     "output_type": "execute_result"
    }
   ],
   "source": [
    "await asyncio.sleep(5.)\n",
    "print(\"Done\")\n",
    "\n",
    "await asyncio.gather(salobj.set_summary_state(atmcs, salobj.State.ENABLED),\n",
    "                     salobj.set_summary_state(atptg, salobj.State.ENABLED))"
   ]
  },
  {
   "cell_type": "markdown",
   "metadata": {},
   "source": [
    "# ATPtg"
   ]
  },
  {
   "cell_type": "code",
   "execution_count": null,
   "metadata": {},
   "outputs": [],
   "source": [
    "await salobj.set_summary_state(atptg, salobj.State.STANDBY)"
   ]
  },
  {
   "cell_type": "code",
   "execution_count": 26,
   "metadata": {},
   "outputs": [
    {
     "name": "stderr",
     "output_type": "stream",
     "text": [
      "AckCmdReader(ATPneumatics, 0, ackcmd) falling behind; read 22 messages\n",
      "RemoteTelemetry(ATDome, 1, position) falling behind; read 47 messages\n",
      "falling behind; queue contains 21 elements\n",
      "RemoteTelemetry(ATPtg, 0, timeAndDate) falling behind; read 49 messages\n",
      "falling behind; queue contains 99 elements\n",
      "falling behind; queue contains 98 elements\n",
      "falling behind; queue contains 97 elements\n",
      "RemoteTelemetry(ATPtg, 0, mountStatus) falling behind; read 49 messages\n",
      "RemoteTelemetry(ATPtg, 0, guidingAndOffsets) falling behind; read 49 messages\n",
      "falling behind; queue contains 99 elements\n",
      "falling behind; queue contains 98 elements\n",
      "falling behind; queue contains 97 elements\n"
     ]
    },
    {
     "data": {
      "text/plain": [
       "<lsst.ts.salobj.ddsutil.ATPtg_ackcmd at 0x7f9544dcea50>"
      ]
     },
     "execution_count": 26,
     "metadata": {},
     "output_type": "execute_result"
    }
   ],
   "source": [
    "await atptg.cmd_stopTracking.start(timeout=10)"
   ]
  },
  {
   "cell_type": "code",
   "execution_count": 13,
   "metadata": {},
   "outputs": [
    {
     "name": "stderr",
     "output_type": "stream",
     "text": [
      "falling behind; queue contains 99 elements\n",
      "falling behind; queue contains 98 elements\n",
      "falling behind; queue contains 97 elements\n",
      "RemoteTelemetry(ATDome, 1, position) falling behind; read 36 messages\n",
      "RemoteEvent(ATAOS, 0, detailedState) falling behind; read 10 messages\n",
      "falling behind; queue contains 14 elements\n",
      "falling behind; queue contains 99 elements\n",
      "falling behind; queue contains 98 elements\n",
      "falling behind; queue contains 97 elements\n",
      "falling behind; queue contains 99 elements\n",
      "falling behind; queue contains 98 elements\n",
      "falling behind; queue contains 97 elements\n",
      "falling behind; queue contains 99 elements\n",
      "falling behind; queue contains 98 elements\n",
      "falling behind; queue contains 97 elements\n",
      "falling behind; queue contains 99 elements\n",
      "falling behind; queue contains 98 elements\n",
      "falling behind; queue contains 97 elements\n",
      "falling behind; queue contains 99 elements\n",
      "falling behind; queue contains 98 elements\n",
      "falling behind; queue contains 97 elements\n",
      "falling behind; queue contains 99 elements\n",
      "falling behind; queue contains 98 elements\n",
      "falling behind; queue contains 97 elements\n"
     ]
    },
    {
     "name": "stdout",
     "output_type": "stream",
     "text": [
      "Done\n"
     ]
    },
    {
     "data": {
      "text/plain": [
       "[<State.FAULT: 3>, <State.STANDBY: 5>, <State.DISABLED: 1>, <State.ENABLED: 2>]"
      ]
     },
     "execution_count": 13,
     "metadata": {},
     "output_type": "execute_result"
    }
   ],
   "source": [
    "await asyncio.sleep(5.)\n",
    "print(\"Done\")\n",
    "await atptg.tel_timeAndDate.next(flush=True, timeout=5)\n",
    "await salobj.set_summary_state(atptg, salobj.State.ENABLED)"
   ]
  },
  {
   "cell_type": "code",
   "execution_count": 25,
   "metadata": {},
   "outputs": [
    {
     "name": "stderr",
     "output_type": "stream",
     "text": [
      "RemoteTelemetry(ATDome, 1, position) falling behind; read 78 messages\n",
      "RemoteEvent(ATAOS, 0, logMessage) falling behind; read 18 messages\n",
      "falling behind; queue contains 36 elements\n",
      "RemoteEvent(ATAOS, 0, m1CorrectionStarted) falling behind; read 13 messages\n",
      "RemoteEvent(ATAOS, 0, m1CorrectionCompleted) falling behind; read 12 messages\n",
      "RemoteTelemetry(ATHexapod, 0, positionStatus) falling behind; read 15 messages\n",
      "RemoteEvent(ATPneumatics, 0, m1SetPressure) falling behind; read 12 messages\n",
      "AckCmdReader(ATMCS, 0, ackcmd) falling behind; read 100 messages\n"
     ]
    },
    {
     "data": {
      "text/plain": [
       "<lsst.ts.salobj.ddsutil.ATPtg_ackcmd at 0x7f953cb82850>"
      ]
     },
     "execution_count": 25,
     "metadata": {},
     "output_type": "execute_result"
    },
    {
     "name": "stderr",
     "output_type": "stream",
     "text": [
      "falling behind; queue contains 99 elements\n",
      "falling behind; queue contains 98 elements\n",
      "falling behind; queue contains 97 elements\n"
     ]
    }
   ],
   "source": [
    "await atptg.cmd_azElTarget.set_start(azDegs=-85, elDegs=80.)"
   ]
  },
  {
   "cell_type": "code",
   "execution_count": 8,
   "metadata": {},
   "outputs": [],
   "source": [
    "location = EarthLocation.from_geodetic(lon=-70.747698*u.deg,\n",
    "                                       lat=-30.244728*u.deg,\n",
    "                                       height=2663.0*u.m)"
   ]
  },
  {
   "cell_type": "code",
   "execution_count": 9,
   "metadata": {},
   "outputs": [],
   "source": [
    "ra = Angle(\"22 03 00.9347435782\", unit=u.hour)\n",
    "dec = Angle(\"-08 30 00.082679597\", unit=u.deg)\n",
    "target_name=\"HD 209360\"\n",
    "radec = ICRS(ra, dec)"
   ]
  },
  {
   "cell_type": "code",
   "execution_count": 10,
   "metadata": {},
   "outputs": [
    {
     "name": "stderr",
     "output_type": "stream",
     "text": [
      "RemoteTelemetry(ATPtg, 0, timeAndDate) falling behind; read 30 messages\n",
      "RemoteTelemetry(ATDome, 1, position) falling behind; read 29 messages\n",
      "AckCmdReader(ATPneumatics, 0, ackcmd) falling behind; read 13 messages\n",
      "falling behind; queue contains 12 elements\n"
     ]
    },
    {
     "name": "stdout",
     "output_type": "stream",
     "text": [
      "58739.25571332652\n"
     ]
    },
    {
     "name": "stderr",
     "output_type": "stream",
     "text": [
      "WARNING: Tried to get polar motions for times after IERS data is valid. Defaulting to polar motion from the 50-yr mean for those. This may affect precision at the 10s of arcsec level [astropy.coordinates.builtin_frames.utils]\n",
      "WARNING: (some) times are outside of range covered by IERS table. Assuming UT1-UTC=0 for coordinate transformations. [astropy.coordinates.builtin_frames.utils]\n",
      "RemoteTelemetry(ATPtg, 0, mountStatus) falling behind; read 32 messages\n",
      "RemoteTelemetry(ATPtg, 0, guidingAndOffsets) falling behind; read 32 messages\n",
      "RemoteTelemetry(ATPtg, 0, currentTargetStatus) falling behind; read 32 messages\n",
      "RemoteEvent(ATAOS, 0, detailedState) falling behind; read 10 messages\n"
     ]
    },
    {
     "name": "stdout",
     "output_type": "stream",
     "text": [
      "slew...\n"
     ]
    },
    {
     "data": {
      "text/plain": [
       "<lsst.ts.salobj.ddsutil.ATPtg_ackcmd at 0x7f955c2b1250>"
      ]
     },
     "execution_count": 10,
     "metadata": {},
     "output_type": "execute_result"
    }
   ],
   "source": [
    "# Figure out what is the rotPA that sets nasmith rotator close to zero.\n",
    "time_data = await atptg.tel_timeAndDate.next(flush=True, timeout=2)\n",
    "curr_time_atptg = Time(time_data.tai, format=\"mjd\", scale=\"tai\")\n",
    "print(curr_time_atptg)\n",
    "coord_frame_altaz = AltAz(location=location, obstime=curr_time_atptg)\n",
    "alt_az = radec.transform_to(coord_frame_altaz)\n",
    "\n",
    "print(\"slew...\")\n",
    "# await atmcs.cmd_startTracking.start(timeout=10)\n",
    "await atptg.cmd_raDecTarget.set_start(\n",
    "    targetName=target_name,\n",
    "    targetInstance=ATPtg.TargetInstances.CURRENT,\n",
    "    frame=ATPtg.CoordFrame.ICRS,\n",
    "    epoch=2000,  # should be ignored: no parallax or proper motion\n",
    "    equinox=2000,  # should be ignored for ICRS\n",
    "    ra=radec.ra.hour,\n",
    "    declination=radec.dec.deg,\n",
    "    parallax=0,\n",
    "    pmRA=0,\n",
    "    pmDec=0,\n",
    "    rv=0,\n",
    "    dRA=0,\n",
    "    dDec=0,\n",
    "    rotPA=180.-alt_az.alt.deg,\n",
    "    rotFrame=ATPtg.RotFrame.FIXED,\n",
    "    rotMode=ATPtg.RotMode.FIELD,\n",
    "    timeout=10\n",
    ")"
   ]
  },
  {
   "cell_type": "code",
   "execution_count": 11,
   "metadata": {},
   "outputs": [
    {
     "name": "stderr",
     "output_type": "stream",
     "text": [
      "RemoteEvent(ATMCS, 0, heartbeat) falling behind; read 22 messages\n",
      "RemoteTelemetry(ATPneumatics, 0, loadCell) falling behind; read 22 messages\n",
      "RemoteEvent(ATAOS, 0, heartbeat) falling behind; read 22 messages\n",
      "RemoteEvent(ATDomeTrajectory, 0, logMessage) falling behind; read 100 messages\n",
      "RemoteTelemetry(ATHexapod, 0, positionStatus) falling behind; read 22 messages\n",
      "RemoteEvent(ATAOS, 0, m1CorrectionStarted) falling behind; read 17 messages\n",
      "RemoteEvent(ATDome, 1, heartbeat) falling behind; read 22 messages\n",
      "RemoteEvent(ATAOS, 0, m1CorrectionCompleted) falling behind; read 17 messages\n",
      "RemoteTelemetry(ATMCS, 0, trajectory) falling behind; read 22 messages\n",
      "RemoteEvent(ATHexapod, 0, heartbeat) falling behind; read 22 messages\n",
      "RemoteTelemetry(ATPneumatics, 0, mainAirSourcePressure) falling behind; read 22 messages\n",
      "RemoteEvent(ATAOS, 0, logMessage) falling behind; read 22 messages\n",
      "RemoteTelemetry(ATMCS, 0, torqueDemand) falling behind; read 22 messages\n",
      "RemoteEvent(ATDomeTrajectory, 0, heartbeat) falling behind; read 22 messages\n",
      "RemoteTelemetry(ATPneumatics, 0, m2AirPressure) falling behind; read 22 messages\n",
      "RemoteTelemetry(ATMCS, 0, nasymth_m3_mountMotorEncoders) falling behind; read 22 messages\n",
      "RemoteTelemetry(ATPneumatics, 0, m1AirPressure) falling behind; read 22 messages\n",
      "RemoteTelemetry(ATMCS, 0, mount_Nasmyth_Encoders) falling behind; read 22 messages\n",
      "RemoteEvent(ATPneumatics, 0, m1SetPressure) falling behind; read 17 messages\n",
      "RemoteTelemetry(ATMCS, 0, mount_AzEl_Encoders) falling behind; read 23 messages\n",
      "RemoteEvent(ATPneumatics, 0, heartbeat) falling behind; read 23 messages\n",
      "RemoteTelemetry(ATMCS, 0, measuredTorque) falling behind; read 23 messages\n",
      "RemoteTelemetry(ATMCS, 0, measuredMotorVelocity) falling behind; read 23 messages\n",
      "falling behind; queue contains 50 elements\n",
      "RemoteTelemetry(ATMCS, 0, azEl_mountMotorEncoders) falling behind; read 23 messages\n",
      "RemoteEvent(ATMCS, 0, target) falling behind; read 100 messages\n"
     ]
    },
    {
     "data": {
      "text/plain": [
       "<lsst.ts.salobj.ddsutil.ATPtg_ackcmd at 0x7f9544ea8350>"
      ]
     },
     "execution_count": 11,
     "metadata": {},
     "output_type": "execute_result"
    },
    {
     "name": "stderr",
     "output_type": "stream",
     "text": [
      "AckCmdReader(ATMCS, 0, ackcmd) falling behind; read 100 messages\n",
      "falling behind; queue contains 99 elements\n",
      "falling behind; queue contains 98 elements\n",
      "falling behind; queue contains 97 elements\n"
     ]
    }
   ],
   "source": [
    "await atptg.cmd_stopTracking.start(timeout=10)"
   ]
  },
  {
   "cell_type": "code",
   "execution_count": null,
   "metadata": {},
   "outputs": [],
   "source": [
    "await atptg.cmd_offsetAzEl.set_start(el=-20., \n",
    "                                     az=30., \n",
    "                                         num=0)"
   ]
  },
  {
   "cell_type": "code",
   "execution_count": null,
   "metadata": {},
   "outputs": [],
   "source": [
    "await atptg.cmd_offsetAzEl.set_start(el=-20., \n",
    "                                     az=40., \n",
    "                                         num=0)"
   ]
  },
  {
   "cell_type": "code",
   "execution_count": null,
   "metadata": {},
   "outputs": [],
   "source": [
    "await atptg.cmd_pointNewFile.start()\n",
    "await asyncio.sleep(1.)\n",
    "await atptg.cmd_pointAddData.start()\n",
    "await asyncio.sleep(1.)\n",
    "await atptg.cmd_pointCloseFile.start()"
   ]
  },
  {
   "cell_type": "code",
   "execution_count": null,
   "metadata": {},
   "outputs": [],
   "source": [
    "await asyncio.gather(atmcs.close(), \n",
    "                     atptg.close(),\n",
    "                     ataos.close(),\n",
    "                     atpne.close(),\n",
    "                     athex.close(),\n",
    "                     atdome.close(),\n",
    "                     atdomtraj.close())"
   ]
  },
  {
   "cell_type": "code",
   "execution_count": null,
   "metadata": {},
   "outputs": [],
   "source": [
    "20*360/24., 22*360/24."
   ]
  },
  {
   "cell_type": "code",
   "execution_count": null,
   "metadata": {},
   "outputs": [],
   "source": [
    "await atptg.cmd_stopTracking.start(timeout=10)"
   ]
  },
  {
   "cell_type": "code",
   "execution_count": null,
   "metadata": {},
   "outputs": [],
   "source": [
    "await atptg.cmd_pointNewFile.start()\n",
    "await asyncio.sleep(1.)\n",
    "await atptg.cmd_pointAddData.start()\n",
    "await asyncio.sleep(1.)\n",
    "await atptg.cmd_pointCloseFile.start()"
   ]
  },
  {
   "cell_type": "code",
   "execution_count": null,
   "metadata": {},
   "outputs": [],
   "source": [
    "await athex.cmd_moveToPosition.set_start(x=-4., y=1.,z=0.35, u=0.35, v=0.22)"
   ]
  },
  {
   "cell_type": "code",
   "execution_count": null,
   "metadata": {},
   "outputs": [],
   "source": [
    "await athex.cmd_moveToPosition.set_start(x=-4., y=1.,z=0.20-0.5, u=0.35, v=0.22)"
   ]
  },
  {
   "cell_type": "code",
   "execution_count": null,
   "metadata": {},
   "outputs": [],
   "source": [
    "await cam.cmd_takeImages.set_start(numImages=1,\n",
    "                                     expTime=20.,\n",
    "                                     shutter=True,\n",
    "                                     imageSequenceName=f'{target_name.replace(\" \",\"_\")}_intra_20s'\n",
    "                                    )"
   ]
  },
  {
   "cell_type": "code",
   "execution_count": null,
   "metadata": {},
   "outputs": [],
   "source": [
    "await cam.cmd_takeImages.set_start(numImages=1,\n",
    "                                     expTime=20.,\n",
    "                                     shutter=True,\n",
    "                                     imageSequenceName=f'{target_name.replace(\" \",\"_\")}_extra_20s'\n",
    "                                    )"
   ]
  },
  {
   "cell_type": "code",
   "execution_count": null,
   "metadata": {},
   "outputs": [],
   "source": []
  },
  {
   "cell_type": "code",
   "execution_count": null,
   "metadata": {},
   "outputs": [],
   "source": [
    "await athex.cmd_moveToPosition.set_start(x=-4., y=1.,z=0.20+0.75, u=0.35, v=0.22)\n",
    "await cam.cmd_takeImages.set_start(numImages=1,\n",
    "                                     expTime=20.,\n",
    "                                     shutter=True,\n",
    "                                     imageSequenceName=f'{target_name.replace(\" \",\"_\")}_intra_20s'\n",
    "                                    )\n",
    "await athex.cmd_moveToPosition.set_start(x=-4., y=1.,z=0.20-0.75, u=0.35, v=0.22)\n",
    "await cam.cmd_takeImages.set_start(numImages=1,\n",
    "                                     expTime=20.,\n",
    "                                     shutter=True,\n",
    "                                     imageSequenceName=f'{target_name.replace(\" \",\"_\")}_extra_20s'\n",
    "                                    )"
   ]
  },
  {
   "cell_type": "code",
   "execution_count": null,
   "metadata": {},
   "outputs": [],
   "source": [
    "await athex.cmd_moveToPosition.set_start(x=-4., y=1.,z=0.20+1., u=0.35, v=0.22)\n",
    "await cam.cmd_takeImages.set_start(numImages=1,\n",
    "                                     expTime=40.,\n",
    "                                     shutter=True,\n",
    "                                     imageSequenceName=f'{target_name.replace(\" \",\"_\")}_intra_40s'\n",
    "                                    )\n",
    "await athex.cmd_moveToPosition.set_start(x=-4., y=1.,z=0.20-1., u=0.35, v=0.22)\n",
    "await cam.cmd_takeImages.set_start(numImages=1,\n",
    "                                     expTime=40.,\n",
    "                                     shutter=True,\n",
    "                                     imageSequenceName=f'{target_name.replace(\" \",\"_\")}_extra_40s'\n",
    "                                    )"
   ]
  },
  {
   "cell_type": "code",
   "execution_count": null,
   "metadata": {},
   "outputs": [],
   "source": []
  },
  {
   "cell_type": "code",
   "execution_count": null,
   "metadata": {},
   "outputs": [],
   "source": []
  },
  {
   "cell_type": "code",
   "execution_count": null,
   "metadata": {},
   "outputs": [],
   "source": [
    "cam = salobj.Remote(d, \"GenericCamera\", 1)"
   ]
  },
  {
   "cell_type": "code",
   "execution_count": null,
   "metadata": {},
   "outputs": [],
   "source": [
    "await cam.start_task"
   ]
  },
  {
   "cell_type": "code",
   "execution_count": null,
   "metadata": {},
   "outputs": [],
   "source": [
    "import numpy as np"
   ]
  },
  {
   "cell_type": "code",
   "execution_count": null,
   "metadata": {},
   "outputs": [],
   "source": [
    "z_seq = np.linspace(0.1, 0.35, 6)\n",
    "print(z_seq)"
   ]
  },
  {
   "cell_type": "code",
   "execution_count": null,
   "metadata": {},
   "outputs": [],
   "source": [
    "z_seq[3:]"
   ]
  },
  {
   "cell_type": "code",
   "execution_count": null,
   "metadata": {},
   "outputs": [],
   "source": [
    "focus_seq = 1"
   ]
  },
  {
   "cell_type": "code",
   "execution_count": null,
   "metadata": {},
   "outputs": [],
   "source": [
    "for z in [z_seq[-1]]:\n",
    "    print(f\"Positioning hexapod @ z={z:4.2f}\")\n",
    "    await athex.cmd_moveToPosition.set_start(x=-4., y=1.,z=z, u=0.35, v=0.22)\n",
    "\n",
    "    print(f\"Taking images: {target_name}_z{z:4.2f}_10s\")\n",
    "    await cam.cmd_takeImages.set_start(numImages=3,\n",
    "                                     expTime=10.,\n",
    "                                     shutter=True,\n",
    "                                     imageSequenceName=f'{target_name.replace(\" \", \"_\")}_z{z:4.2f}_10s'\n",
    "                                    )\n"
   ]
  },
  {
   "cell_type": "code",
   "execution_count": 28,
   "metadata": {},
   "outputs": [
    {
     "data": {
      "text/plain": [
       "45.0"
      ]
     },
     "execution_count": 28,
     "metadata": {},
     "output_type": "execute_result"
    }
   ],
   "source": [
    "3*360/24."
   ]
  },
  {
   "cell_type": "code",
   "execution_count": null,
   "metadata": {},
   "outputs": [],
   "source": [
    "await cam.cmd_takeImages.set_start(numImages=1,\n",
    "                                     expTime=10.,\n",
    "                                     shutter=True,\n",
    "                                     imageSequenceName=f'{target_name.replace(\" \",\"_\")}_test_5s'\n",
    "                                    )"
   ]
  },
  {
   "cell_type": "code",
   "execution_count": null,
   "metadata": {},
   "outputs": [],
   "source": []
  }
 ],
 "metadata": {
  "kernelspec": {
   "display_name": "Python 3",
   "language": "python",
   "name": "python3"
  },
  "language_info": {
   "codemirror_mode": {
    "name": "ipython",
    "version": 3
   },
   "file_extension": ".py",
   "mimetype": "text/x-python",
   "name": "python",
   "nbconvert_exporter": "python",
   "pygments_lexer": "ipython3",
   "version": "3.7.4"
  }
 },
 "nbformat": 4,
 "nbformat_minor": 4
}
