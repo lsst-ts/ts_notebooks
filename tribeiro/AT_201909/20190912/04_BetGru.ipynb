{
 "cells": [
  {
   "cell_type": "code",
   "execution_count": 1,
   "metadata": {},
   "outputs": [],
   "source": [
    "import logging\n",
    "import yaml\n",
    "\n",
    "import numpy as np\n",
    "from matplotlib import pyplot as plt\n",
    "import astropy.units as u\n",
    "from astropy.time import Time\n",
    "from astropy.coordinates import AltAz, ICRS, EarthLocation, Angle, FK5\n",
    "import asyncio\n",
    "\n",
    "# import palpy\n",
    "\n",
    "from lsst.ts import salobj\n",
    "\n",
    "from lsst.ts.standardscripts.auxtel.attcs import ATTCS\n",
    "\n",
    "from lsst.ts.idl.enums import ATPtg\n",
    "\n",
    "%matplotlib inline"
   ]
  },
  {
   "cell_type": "code",
   "execution_count": 2,
   "metadata": {},
   "outputs": [],
   "source": [
    "from astropy.utils import iers\n",
    "iers.conf.auto_download = False"
   ]
  },
  {
   "cell_type": "code",
   "execution_count": 3,
   "metadata": {},
   "outputs": [],
   "source": [
    "d = salobj.Domain()"
   ]
  },
  {
   "cell_type": "code",
   "execution_count": 4,
   "metadata": {},
   "outputs": [],
   "source": [
    "atmcs = salobj.Remote(d, \"ATMCS\")\n",
    "atptg = salobj.Remote(d, \"ATPtg\")\n",
    "ataos = salobj.Remote(d, \"ATAOS\")\n",
    "atpne = salobj.Remote(d, \"ATPneumatics\")\n",
    "athex = salobj.Remote(d, \"ATHexapod\")\n",
    "atdome = salobj.Remote(d, \"ATDome\", index=1)\n",
    "atdomtraj = salobj.Remote(d, \"ATDomeTrajectory\")"
   ]
  },
  {
   "cell_type": "code",
   "execution_count": 5,
   "metadata": {},
   "outputs": [
    {
     "name": "stderr",
     "output_type": "stream",
     "text": [
      "AckCmdReader(ATPneumatics, 0, ackcmd) falling behind; read 10 messages\n"
     ]
    },
    {
     "data": {
      "text/plain": [
       "[None, None, None, None, None, None, None]"
      ]
     },
     "execution_count": 5,
     "metadata": {},
     "output_type": "execute_result"
    }
   ],
   "source": [
    "await asyncio.gather(atmcs.start_task, \n",
    "                     atptg.start_task,\n",
    "                     ataos.start_task,\n",
    "                     atpne.start_task,\n",
    "                     athex.start_task,\n",
    "                     atdome.start_task,\n",
    "                     atdomtraj.start_task)"
   ]
  },
  {
   "cell_type": "markdown",
   "metadata": {},
   "source": [
    "# ATMCS"
   ]
  },
  {
   "cell_type": "code",
   "execution_count": 22,
   "metadata": {},
   "outputs": [
    {
     "name": "stderr",
     "output_type": "stream",
     "text": [
      "AckCmdReader(ATPneumatics, 0, ackcmd) falling behind; read 100 messages\n",
      "RemoteTelemetry(ATDome, 1, position) falling behind; read 100 messages\n",
      "RemoteEvent(ATAOS, 0, m1CorrectionCompleted) falling behind; read 82 messages\n",
      "falling behind; queue contains 99 elements\n",
      "falling behind; queue contains 98 elements\n",
      "falling behind; queue contains 97 elements\n",
      "RemoteEvent(ATAOS, 0, m1CorrectionStarted) falling behind; read 81 messages\n",
      "RemoteTelemetry(ATMCS, 0, trajectory) falling behind; read 77 messages\n",
      "RemoteTelemetry(ATMCS, 0, torqueDemand) falling behind; read 77 messages\n",
      "RemoteEvent(ATAOS, 0, heartbeat) falling behind; read 100 messages\n",
      "RemoteEvent(ATPneumatics, 0, m1SetPressure) falling behind; read 82 messages\n",
      "RemoteTelemetry(ATMCS, 0, measuredMotorVelocity) falling behind; read 77 messages\n",
      "falling behind; queue contains 99 elements\n",
      "falling behind; queue contains 98 elements\n",
      "falling behind; queue contains 97 elements\n",
      "falling behind; queue contains 47 elements\n",
      "AckCmdReader(ATMCS, 0, ackcmd) falling behind; read 76 messages\n",
      "falling behind; queue contains 75 elements\n",
      "falling behind; queue contains 74 elements\n"
     ]
    },
    {
     "name": "stdout",
     "output_type": "stream",
     "text": [
      "Done\n"
     ]
    },
    {
     "data": {
      "text/plain": [
       "[<State.STANDBY: 5>, <State.DISABLED: 1>, <State.ENABLED: 2>]"
      ]
     },
     "execution_count": 22,
     "metadata": {},
     "output_type": "execute_result"
    }
   ],
   "source": [
    "await asyncio.sleep(5.)\n",
    "print(\"Done\")\n",
    "await salobj.set_summary_state(atmcs, salobj.State.ENABLED)"
   ]
  },
  {
   "cell_type": "code",
   "execution_count": null,
   "metadata": {},
   "outputs": [],
   "source": []
  },
  {
   "cell_type": "markdown",
   "metadata": {},
   "source": [
    "# ATPtg"
   ]
  },
  {
   "cell_type": "code",
   "execution_count": 18,
   "metadata": {},
   "outputs": [
    {
     "name": "stderr",
     "output_type": "stream",
     "text": [
      "RemoteEvent(ATDomeTrajectory, 0, heartbeat) falling behind; read 89 messages\n",
      "RemoteTelemetry(ATDome, 1, position) falling behind; read 100 messages\n",
      "AckCmdReader(ATPneumatics, 0, ackcmd) falling behind; read 100 messages\n",
      "RemoteTelemetry(ATPtg, 0, timeAndDate) falling behind; read 100 messages\n",
      "RemoteEvent(ATHexapod, 0, heartbeat) falling behind; read 89 messages\n",
      "falling behind; queue contains 99 elements\n",
      "falling behind; queue contains 98 elements\n",
      "falling behind; queue contains 97 elements\n",
      "RemoteEvent(ATAOS, 0, m1CorrectionStarted) falling behind; read 68 messages\n",
      "RemoteTelemetry(ATHexapod, 0, positionStatus) falling behind; read 89 messages\n",
      "RemoteTelemetry(ATPneumatics, 0, mainAirSourcePressure) falling behind; read 90 messages\n",
      "RemoteEvent(ATAOS, 0, m1CorrectionCompleted) falling behind; read 68 messages\n",
      "RemoteEvent(ATDome, 1, heartbeat) falling behind; read 90 messages\n",
      "RemoteTelemetry(ATPneumatics, 0, m2AirPressure) falling behind; read 90 messages\n",
      "RemoteTelemetry(ATPtg, 0, mountStatus) falling behind; read 100 messages\n",
      "RemoteTelemetry(ATPneumatics, 0, m1AirPressure) falling behind; read 90 messages\n",
      "RemoteTelemetry(ATPtg, 0, guidingAndOffsets) falling behind; read 100 messages\n",
      "RemoteEvent(ATAOS, 0, heartbeat) falling behind; read 89 messages\n",
      "RemoteTelemetry(ATPneumatics, 0, loadCell) falling behind; read 90 messages\n",
      "RemoteTelemetry(ATPtg, 0, currentTimesToLimits) falling behind; read 18 messages\n",
      "RemoteEvent(ATAOS, 0, detailedState) falling behind; read 100 messages\n",
      "RemoteEvent(ATPneumatics, 0, m1SetPressure) falling behind; read 69 messages\n",
      "RemoteTelemetry(ATPtg, 0, currentTargetStatus) falling behind; read 100 messages\n",
      "RemoteEvent(ATPneumatics, 0, heartbeat) falling behind; read 90 messages\n",
      "falling behind; queue contains 99 elements\n",
      "falling behind; queue contains 98 elements\n",
      "falling behind; queue contains 97 elements\n",
      "RemoteEvent(ATMCS, 0, heartbeat) falling behind; read 90 messages\n"
     ]
    },
    {
     "data": {
      "text/plain": [
       "[<State.ENABLED: 2>, <State.DISABLED: 1>, <State.STANDBY: 5>]"
      ]
     },
     "execution_count": 18,
     "metadata": {},
     "output_type": "execute_result"
    }
   ],
   "source": [
    "await salobj.set_summary_state(atptg, salobj.State.STANDBY)"
   ]
  },
  {
   "cell_type": "code",
   "execution_count": 19,
   "metadata": {},
   "outputs": [
    {
     "name": "stderr",
     "output_type": "stream",
     "text": [
      "RemoteTelemetry(ATDome, 1, position) falling behind; read 12 messages\n"
     ]
    },
    {
     "name": "stdout",
     "output_type": "stream",
     "text": [
      "Done\n"
     ]
    },
    {
     "data": {
      "text/plain": [
       "[<State.STANDBY: 5>, <State.DISABLED: 1>, <State.ENABLED: 2>]"
      ]
     },
     "execution_count": 19,
     "metadata": {},
     "output_type": "execute_result"
    }
   ],
   "source": [
    "await asyncio.sleep(5.)\n",
    "print(\"Done\")\n",
    "await atptg.tel_timeAndDate.next(flush=True, timeout=5)\n",
    "await salobj.set_summary_state(atptg, salobj.State.ENABLED)"
   ]
  },
  {
   "cell_type": "code",
   "execution_count": 7,
   "metadata": {},
   "outputs": [],
   "source": [
    "location = EarthLocation.from_geodetic(lon=-70.747698*u.deg,\n",
    "                                       lat=-30.244728*u.deg,\n",
    "                                       height=2663.0*u.m)"
   ]
  },
  {
   "cell_type": "code",
   "execution_count": 14,
   "metadata": {},
   "outputs": [
    {
     "name": "stderr",
     "output_type": "stream",
     "text": [
      "falling behind; queue contains 99 elements\n",
      "falling behind; queue contains 98 elements\n",
      "falling behind; queue contains 97 elements\n",
      "RemoteEvent(ATDomeTrajectory, 0, heartbeat) falling behind; read 85 messages\n",
      "falling behind; queue contains 99 elements\n",
      "falling behind; queue contains 98 elements\n",
      "falling behind; queue contains 97 elements\n",
      "falling behind; queue contains 94 elements\n",
      "falling behind; queue contains 93 elements\n",
      "falling behind; queue contains 92 elements\n"
     ]
    },
    {
     "data": {
      "text/plain": [
       "<lsst.ts.salobj.ddsutil.ATPtg_ackcmd at 0x7f59fb744b50>"
      ]
     },
     "execution_count": 14,
     "metadata": {},
     "output_type": "execute_result"
    }
   ],
   "source": [
    "await atptg.cmd_azElTarget.set_start(azDegs=-126, elDegs=62.)"
   ]
  },
  {
   "cell_type": "code",
   "execution_count": 20,
   "metadata": {},
   "outputs": [],
   "source": [
    "ra = Angle(\"22:42:40.05027\", unit=u.hour)\n",
    "dec = Angle(\"-46:53:04.4752\", unit=u.deg)\n",
    "target_name=\"Bet Gru\"\n",
    "radec = ICRS(ra, dec)"
   ]
  },
  {
   "cell_type": "code",
   "execution_count": 21,
   "metadata": {},
   "outputs": [
    {
     "name": "stderr",
     "output_type": "stream",
     "text": [
      "RemoteEvent(ATAOS, 0, heartbeat) falling behind; read 12 messages\n",
      "RemoteEvent(ATPtg, 0, mountDataWarning) falling behind; read 10 messages\n",
      "RemoteTelemetry(ATMCS, 0, measuredMotorVelocity) falling behind; read 12 messages\n",
      "RemoteTelemetry(ATDome, 1, position) falling behind; read 59 messages\n",
      "AckCmdReader(ATPneumatics, 0, ackcmd) falling behind; read 26 messages\n",
      "RemoteTelemetry(ATHexapod, 0, positionStatus) falling behind; read 12 messages\n",
      "RemoteEvent(ATDomeTrajectory, 0, heartbeat) falling behind; read 12 messages\n",
      "falling behind; queue contains 25 elements\n",
      "RemoteTelemetry(ATMCS, 0, trajectory) falling behind; read 12 messages\n",
      "RemoteEvent(ATDome, 1, heartbeat) falling behind; read 12 messages\n",
      "RemoteTelemetry(ATPtg, 0, timeAndDate) falling behind; read 60 messages\n",
      "RemoteTelemetry(ATMCS, 0, torqueDemand) falling behind; read 12 messages\n",
      "RemoteTelemetry(ATPtg, 0, mountStatus) falling behind; read 60 messages\n",
      "RemoteTelemetry(ATPneumatics, 0, mainAirSourcePressure) falling behind; read 12 messages\n",
      "RemoteEvent(ATHexapod, 0, heartbeat) falling behind; read 12 messages\n",
      "RemoteTelemetry(ATMCS, 0, nasymth_m3_mountMotorEncoders) falling behind; read 13 messages\n",
      "WARNING: Tried to get polar motions for times after IERS data is valid. Defaulting to polar motion from the 50-yr mean for those. This may affect precision at the 10s of arcsec level [astropy.coordinates.builtin_frames.utils]\n",
      "WARNING: (some) times are outside of range covered by IERS table. Assuming UT1-UTC=0 for coordinate transformations. [astropy.coordinates.builtin_frames.utils]\n",
      "RemoteTelemetry(ATPtg, 0, guidingAndOffsets) falling behind; read 60 messages\n",
      "RemoteTelemetry(ATPneumatics, 0, m2AirPressure) falling behind; read 12 messages\n",
      "RemoteTelemetry(ATMCS, 0, mount_Nasmyth_Encoders) falling behind; read 13 messages\n",
      "RemoteEvent(ATAOS, 0, detailedState) falling behind; read 18 messages\n",
      "RemoteTelemetry(ATPneumatics, 0, m1AirPressure) falling behind; read 12 messages\n",
      "RemoteTelemetry(ATMCS, 0, mount_AzEl_Encoders) falling behind; read 13 messages\n",
      "RemoteTelemetry(ATPtg, 0, currentTargetStatus) falling behind; read 60 messages\n",
      "RemoteTelemetry(ATPneumatics, 0, loadCell) falling behind; read 12 messages\n",
      "RemoteTelemetry(ATMCS, 0, measuredTorque) falling behind; read 13 messages\n",
      "RemoteTelemetry(ATMCS, 0, azEl_mountMotorEncoders) falling behind; read 13 messages\n",
      "RemoteEvent(ATPneumatics, 0, heartbeat) falling behind; read 12 messages\n",
      "RemoteEvent(ATMCS, 0, heartbeat) falling behind; read 12 messages\n"
     ]
    },
    {
     "name": "stdout",
     "output_type": "stream",
     "text": [
      "58739.08670230144\n",
      "slew...\n"
     ]
    },
    {
     "data": {
      "text/plain": [
       "<lsst.ts.salobj.ddsutil.ATPtg_ackcmd at 0x7f5a288ff190>"
      ]
     },
     "execution_count": 21,
     "metadata": {},
     "output_type": "execute_result"
    }
   ],
   "source": [
    "# Figure out what is the rotPA that sets nasmith rotator close to zero.\n",
    "time_data = await atptg.tel_timeAndDate.next(flush=True, timeout=2)\n",
    "curr_time_atptg = Time(time_data.tai, format=\"mjd\", scale=\"tai\")\n",
    "print(curr_time_atptg)\n",
    "coord_frame_altaz = AltAz(location=location, obstime=curr_time_atptg)\n",
    "alt_az = radec.transform_to(coord_frame_altaz)\n",
    "\n",
    "print(\"slew...\")\n",
    "# await atmcs.cmd_startTracking.start(timeout=10)\n",
    "await atptg.cmd_raDecTarget.set_start(\n",
    "    targetName=target_name,\n",
    "    targetInstance=ATPtg.TargetInstances.CURRENT,\n",
    "    frame=ATPtg.CoordFrame.ICRS,\n",
    "    epoch=2000,  # should be ignored: no parallax or proper motion\n",
    "    equinox=2000,  # should be ignored for ICRS\n",
    "    ra=radec.ra.hour,\n",
    "    declination=radec.dec.deg,\n",
    "    parallax=0,\n",
    "    pmRA=0,\n",
    "    pmDec=0,\n",
    "    rv=0,\n",
    "    dRA=0,\n",
    "    dDec=0,\n",
    "    rotPA=180.-alt_az.alt.deg,\n",
    "    rotFrame=ATPtg.RotFrame.FIXED,\n",
    "    rotMode=ATPtg.RotMode.FIELD,\n",
    "    timeout=10\n",
    ")"
   ]
  },
  {
   "cell_type": "code",
   "execution_count": 10,
   "metadata": {},
   "outputs": [
    {
     "name": "stderr",
     "output_type": "stream",
     "text": [
      "RemoteTelemetry(ATDome, 1, position) falling behind; read 100 messages\n",
      "AckCmdReader(ATMCS, 0, ackcmd) falling behind; read 100 messages\n",
      "RemoteEvent(ATAOS, 0, heartbeat) falling behind; read 38 messages\n",
      "RemoteEvent(ATDomeTrajectory, 0, logMessage) falling behind; read 100 messages\n",
      "RemoteTelemetry(ATPneumatics, 0, loadCell) falling behind; read 38 messages\n",
      "RemoteTelemetry(ATHexapod, 0, positionStatus) falling behind; read 38 messages\n",
      "falling behind; queue contains 99 elements\n",
      "falling behind; queue contains 98 elements\n",
      "falling behind; queue contains 97 elements\n",
      "RemoteEvent(ATAOS, 0, m1CorrectionStarted) falling behind; read 29 messages\n",
      "RemoteEvent(ATDome, 1, heartbeat) falling behind; read 38 messages\n",
      "RemoteTelemetry(ATPtg, 0, mountStatus) falling behind; read 100 messages\n",
      "RemoteEvent(ATAOS, 0, m1CorrectionCompleted) falling behind; read 29 messages\n",
      "RemoteTelemetry(ATMCS, 0, trajectory) falling behind; read 38 messages\n",
      "RemoteTelemetry(ATPneumatics, 0, mainAirSourcePressure) falling behind; read 39 messages\n",
      "RemoteEvent(ATHexapod, 0, heartbeat) falling behind; read 38 messages\n",
      "RemoteTelemetry(ATPtg, 0, guidingAndOffsets) falling behind; read 100 messages\n",
      "RemoteEvent(ATAOS, 0, logMessage) falling behind; read 58 messages\n",
      "RemoteEvent(ATDomeTrajectory, 0, heartbeat) falling behind; read 38 messages\n",
      "RemoteTelemetry(ATMCS, 0, torqueDemand) falling behind; read 38 messages\n",
      "RemoteTelemetry(ATPneumatics, 0, m2AirPressure) falling behind; read 39 messages\n",
      "RemoteEvent(ATAOS, 0, detailedState) falling behind; read 58 messages\n",
      "RemoteTelemetry(ATMCS, 0, nasymth_m3_mountMotorEncoders) falling behind; read 38 messages\n",
      "RemoteTelemetry(ATPneumatics, 0, m1AirPressure) falling behind; read 39 messages\n",
      "RemoteTelemetry(ATPtg, 0, currentTargetStatus) falling behind; read 100 messages\n",
      "RemoteTelemetry(ATMCS, 0, mount_Nasmyth_Encoders) falling behind; read 38 messages\n",
      "RemoteEvent(ATPneumatics, 0, m1SetPressure) falling behind; read 29 messages\n",
      "RemoteTelemetry(ATMCS, 0, mount_AzEl_Encoders) falling behind; read 38 messages\n",
      "RemoteEvent(ATPneumatics, 0, heartbeat) falling behind; read 39 messages\n",
      "RemoteTelemetry(ATMCS, 0, measuredTorque) falling behind; read 38 messages\n",
      "AckCmdReader(ATPneumatics, 0, ackcmd) falling behind; read 87 messages\n",
      "RemoteEvent(ATPtg, 0, mountDataWarning) falling behind; read 24 messages\n",
      "RemoteTelemetry(ATMCS, 0, measuredMotorVelocity) falling behind; read 38 messages\n",
      "falling behind; queue contains 86 elements\n",
      "falling behind; queue contains 85 elements\n",
      "RemoteTelemetry(ATMCS, 0, azEl_mountMotorEncoders) falling behind; read 38 messages\n",
      "RemoteEvent(ATMCS, 0, target) falling behind; read 100 messages\n",
      "RemoteEvent(ATMCS, 0, heartbeat) falling behind; read 39 messages\n"
     ]
    },
    {
     "data": {
      "text/plain": [
       "<lsst.ts.salobj.ddsutil.ATPtg_ackcmd at 0x7f5a28820250>"
      ]
     },
     "execution_count": 10,
     "metadata": {},
     "output_type": "execute_result"
    }
   ],
   "source": [
    "await atptg.cmd_stopTracking.start(timeout=10)"
   ]
  },
  {
   "cell_type": "code",
   "execution_count": null,
   "metadata": {},
   "outputs": [],
   "source": [
    "await atptg.cmd_offsetAzEl.set_start(el=-30., \n",
    "                                     az=0., \n",
    "                                         num=0)"
   ]
  },
  {
   "cell_type": "code",
   "execution_count": null,
   "metadata": {},
   "outputs": [],
   "source": [
    "await atptg.cmd_pointNewFile.start()\n",
    "await asyncio.sleep(1.)\n",
    "await atptg.cmd_pointAddData.start()\n",
    "await asyncio.sleep(1.)\n",
    "await atptg.cmd_pointCloseFile.start()"
   ]
  },
  {
   "cell_type": "code",
   "execution_count": null,
   "metadata": {},
   "outputs": [],
   "source": [
    "await atptg.cmd_stopTracking.start(timeout=10)"
   ]
  },
  {
   "cell_type": "code",
   "execution_count": null,
   "metadata": {},
   "outputs": [],
   "source": [
    "await atptg.cmd_pointNewFile.start()\n",
    "await asyncio.sleep(1.)\n",
    "await atptg.cmd_pointAddData.start()\n",
    "await asyncio.sleep(1.)\n",
    "await atptg.cmd_pointCloseFile.start()"
   ]
  },
  {
   "cell_type": "code",
   "execution_count": null,
   "metadata": {},
   "outputs": [],
   "source": [
    "grid_alt = np.zeros(len(dalt_grid)*len(daz_grid))\n",
    "grid_az = np.zeros(len(dalt_grid)*len(daz_grid))\n",
    "\n",
    "for i in range(len(daz_grid)):\n",
    "    grid_alt[i*len(dalt_grid):(i+1)*len(dalt_grid)] += dalt_grid[::(-1)**i]\n",
    "    grid_az[i*len(dalt_grid):(i+1)*len(dalt_grid)] += daz_grid[i]"
   ]
  },
  {
   "cell_type": "code",
   "execution_count": null,
   "metadata": {},
   "outputs": [],
   "source": [
    "plt.plot(grid_alt, grid_az, ':')\n",
    "plt.plot(grid_alt, grid_az, '|')\n",
    "plt.plot(grid_alt[0], grid_az[0], 'bo')\n",
    "plt.plot(grid_alt[-1], grid_az[-1], 'go')"
   ]
  },
  {
   "cell_type": "code",
   "execution_count": null,
   "metadata": {},
   "outputs": [],
   "source": [
    "start_from=0"
   ]
  },
  {
   "cell_type": "code",
   "execution_count": null,
   "metadata": {},
   "outputs": [],
   "source": [
    "print(f\"Grid has {len(grid_alt)} pointings...\")\n",
    "print(f\"Starting from {start_from}\")\n",
    "\n",
    "i = start_from\n",
    "stop_at = 0\n",
    "\n",
    "while i < len(grid_alt):\n",
    "    \n",
    "    print(f\"GRID[{i}]: {grid_alt[i]} x {grid_az[i]}\")\n",
    "\n",
    "    await atptg.cmd_offsetAzEl.set_start(el=grid_alt[i]*60.*60., \n",
    "                                         az=grid_az[i]*60*60, \n",
    "                                         num=0)\n",
    "    \n",
    "    ret_val = await wait_center()\n",
    "\n",
    "    if ret_val == 0:\n",
    "        break\n",
    "        \n",
    "    i += ret_val\n",
    "    \n",
    "    if i < 0:\n",
    "        print(f\"Unwrapping index! (i={i})\")\n",
    "        i = 0"
   ]
  },
  {
   "cell_type": "code",
   "execution_count": null,
   "metadata": {},
   "outputs": [],
   "source": [
    "await atptg.cmd_offsetAzEl.set_start(el=0., \n",
    "                                     az=-20, \n",
    "                                     num=1)"
   ]
  },
  {
   "cell_type": "code",
   "execution_count": null,
   "metadata": {},
   "outputs": [],
   "source": [
    "await atptg.cmd_offsetAzEl.set_start(el=-15., \n",
    "                                     az=0, \n",
    "                                         num=1)"
   ]
  },
  {
   "cell_type": "code",
   "execution_count": null,
   "metadata": {},
   "outputs": [],
   "source": [
    "60-61"
   ]
  },
  {
   "cell_type": "code",
   "execution_count": null,
   "metadata": {},
   "outputs": [],
   "source": [
    "await asyncio.sleep(5)\n",
    "off = await atptg.tel_guidingAndOffsets.next(flush=True, timeout=5)"
   ]
  },
  {
   "cell_type": "code",
   "execution_count": null,
   "metadata": {},
   "outputs": [],
   "source": [
    "print(off)"
   ]
  },
  {
   "cell_type": "code",
   "execution_count": null,
   "metadata": {},
   "outputs": [],
   "source": []
  }
 ],
 "metadata": {
  "kernelspec": {
   "display_name": "Python 3",
   "language": "python",
   "name": "python3"
  },
  "language_info": {
   "codemirror_mode": {
    "name": "ipython",
    "version": 3
   },
   "file_extension": ".py",
   "mimetype": "text/x-python",
   "name": "python",
   "nbconvert_exporter": "python",
   "pygments_lexer": "ipython3",
   "version": "3.7.2"
  }
 },
 "nbformat": 4,
 "nbformat_minor": 4
}
