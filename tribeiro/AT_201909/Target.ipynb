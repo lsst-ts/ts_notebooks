{
 "cells": [
  {
   "cell_type": "code",
   "execution_count": 1,
   "metadata": {},
   "outputs": [],
   "source": [
    "import logging\n",
    "import yaml\n",
    "\n",
    "import numpy as np\n",
    "from matplotlib import pyplot as plt\n",
    "import astropy.units as u\n",
    "from astropy.time import Time\n",
    "from astropy.coordinates import AltAz, ICRS, EarthLocation, Angle, FK5\n",
    "import asyncio\n",
    "\n",
    "# import palpy\n",
    "\n",
    "from lsst.ts import salobj\n",
    "\n",
    "from lsst.ts.standardscripts.auxtel.attcs import ATTCS\n",
    "\n",
    "from lsst.ts.idl.enums import ATPtg\n",
    "\n",
    "%matplotlib inline"
   ]
  },
  {
   "cell_type": "code",
   "execution_count": 2,
   "metadata": {},
   "outputs": [],
   "source": [
    "from astropy.utils import iers\n",
    "iers.conf.auto_download = False"
   ]
  },
  {
   "cell_type": "code",
   "execution_count": 3,
   "metadata": {},
   "outputs": [],
   "source": [
    "d = salobj.Domain()"
   ]
  },
  {
   "cell_type": "code",
   "execution_count": 4,
   "metadata": {},
   "outputs": [],
   "source": [
    "atptg = salobj.Remote(d, \"ATPtg\")"
   ]
  },
  {
   "cell_type": "code",
   "execution_count": 5,
   "metadata": {},
   "outputs": [],
   "source": [
    "await atptg.start_task"
   ]
  },
  {
   "cell_type": "code",
   "execution_count": 4,
   "metadata": {},
   "outputs": [],
   "source": [
    "atmcs = salobj.Remote(d, \"ATMCS\")\n",
    "atptg = salobj.Remote(d, \"ATPtg\")\n",
    "ataos = salobj.Remote(d, \"ATAOS\")\n",
    "atpne = salobj.Remote(d, \"ATPneumatics\")\n",
    "athex = salobj.Remote(d, \"ATHexapod\")\n",
    "atdome = salobj.Remote(d, \"ATDome\", index=1)\n",
    "atdomtraj = salobj.Remote(d, \"ATDomeTrajectory\")"
   ]
  },
  {
   "cell_type": "code",
   "execution_count": 5,
   "metadata": {},
   "outputs": [
    {
     "data": {
      "text/plain": [
       "[None, None, None, None, None, None, None]"
      ]
     },
     "execution_count": 5,
     "metadata": {},
     "output_type": "execute_result"
    }
   ],
   "source": [
    "await asyncio.gather(atmcs.start_task, \n",
    "                     atptg.start_task,\n",
    "                     ataos.start_task,\n",
    "                     atpne.start_task,\n",
    "                     athex.start_task,\n",
    "                     atdome.start_task,\n",
    "                     atdomtraj.start_task)"
   ]
  },
  {
   "cell_type": "markdown",
   "metadata": {},
   "source": [
    "# ATMCS"
   ]
  },
  {
   "cell_type": "code",
   "execution_count": 42,
   "metadata": {},
   "outputs": [
    {
     "name": "stderr",
     "output_type": "stream",
     "text": [
      "RemoteTelemetry(ATPtg, 0, timeAndDate) falling behind; read 24 messages\n",
      "RemoteTelemetry(ATPtg, 0, mountStatus) falling behind; read 24 messages\n",
      "RemoteTelemetry(ATPtg, 0, guidingAndOffsets) falling behind; read 24 messages\n",
      "RemoteTelemetry(ATDome, 1, position) falling behind; read 23 messages\n",
      "RemoteTelemetry(ATPtg, 0, currentTargetStatus) falling behind; read 24 messages\n"
     ]
    },
    {
     "name": "stdout",
     "output_type": "stream",
     "text": [
      "Done\n"
     ]
    },
    {
     "data": {
      "text/plain": [
       "[<State.STANDBY: 5>, <State.DISABLED: 1>, <State.ENABLED: 2>]"
      ]
     },
     "execution_count": 42,
     "metadata": {},
     "output_type": "execute_result"
    }
   ],
   "source": [
    "await asyncio.sleep(5.)\n",
    "print(\"Done\")\n",
    "await salobj.set_summary_state(atmcs, salobj.State.ENABLED)"
   ]
  },
  {
   "cell_type": "code",
   "execution_count": 41,
   "metadata": {},
   "outputs": [
    {
     "name": "stdout",
     "output_type": "stream",
     "text": [
      "Done\n"
     ]
    },
    {
     "data": {
      "text/plain": [
       "[<State.ENABLED: 2>, <State.DISABLED: 1>, <State.STANDBY: 5>]"
      ]
     },
     "execution_count": 41,
     "metadata": {},
     "output_type": "execute_result"
    }
   ],
   "source": [
    "await asyncio.sleep(5.)\n",
    "print(\"Done\")\n",
    "await salobj.set_summary_state(atmcs, salobj.State.STANDBY)"
   ]
  },
  {
   "cell_type": "markdown",
   "metadata": {},
   "source": [
    "# ATPtg"
   ]
  },
  {
   "cell_type": "code",
   "execution_count": 6,
   "metadata": {},
   "outputs": [
    {
     "name": "stderr",
     "output_type": "stream",
     "text": [
      "RemoteTelemetry(ATPtg, 0, timeAndDate) falling behind; read 33 messages\n",
      "RemoteTelemetry(ATPtg, 0, mountStatus) falling behind; read 33 messages\n",
      "RemoteTelemetry(ATPtg, 0, guidingAndOffsets) falling behind; read 33 messages\n",
      "RemoteTelemetry(ATPtg, 0, currentTargetStatus) falling behind; read 33 messages\n"
     ]
    },
    {
     "name": "stdout",
     "output_type": "stream",
     "text": [
      "Done\n"
     ]
    },
    {
     "data": {
      "text/plain": [
       "[<State.FAULT: 3>, <State.STANDBY: 5>]"
      ]
     },
     "execution_count": 6,
     "metadata": {},
     "output_type": "execute_result"
    }
   ],
   "source": [
    "await asyncio.sleep(5.)\n",
    "print(\"Done\")\n",
    "await atptg.tel_timeAndDate.next(flush=True, timeout=30)\n",
    "await salobj.set_summary_state(atptg, salobj.State.STANDBY)"
   ]
  },
  {
   "cell_type": "code",
   "execution_count": 7,
   "metadata": {},
   "outputs": [
    {
     "name": "stderr",
     "output_type": "stream",
     "text": [
      "RemoteTelemetry(ATPtg, 0, timeAndDate) falling behind; read 38 messages\n"
     ]
    },
    {
     "name": "stdout",
     "output_type": "stream",
     "text": [
      "Done\n"
     ]
    },
    {
     "data": {
      "text/plain": [
       "[<State.STANDBY: 5>, <State.DISABLED: 1>, <State.ENABLED: 2>]"
      ]
     },
     "execution_count": 7,
     "metadata": {},
     "output_type": "execute_result"
    }
   ],
   "source": [
    "await asyncio.sleep(5.)\n",
    "print(\"Done\")\n",
    "await atptg.tel_timeAndDate.next(flush=True, timeout=30)\n",
    "await salobj.set_summary_state(atptg, salobj.State.ENABLED)"
   ]
  },
  {
   "cell_type": "code",
   "execution_count": 34,
   "metadata": {},
   "outputs": [
    {
     "name": "stderr",
     "output_type": "stream",
     "text": [
      "RemoteEvent(ATHexapod, 0, heartbeat) falling behind; read 44 messages\n",
      "RemoteEvent(ATAOS, 0, heartbeat) falling behind; read 44 messages\n",
      "falling behind; queue contains 99 elements\n",
      "falling behind; queue contains 98 elements\n",
      "falling behind; queue contains 97 elements\n",
      "RemoteEvent(ATDomeTrajectory, 0, heartbeat) falling behind; read 45 messages\n"
     ]
    },
    {
     "data": {
      "text/plain": [
       "<lsst.ts.salobj.ddsutil.ATPtg_ackcmd at 0x7fef642031d0>"
      ]
     },
     "execution_count": 34,
     "metadata": {},
     "output_type": "execute_result"
    }
   ],
   "source": [
    "await atptg.cmd_azElTarget.set_start(azDegs=0., elDegs=80.)"
   ]
  },
  {
   "cell_type": "code",
   "execution_count": 40,
   "metadata": {},
   "outputs": [
    {
     "name": "stderr",
     "output_type": "stream",
     "text": [
      "RemoteTelemetry(ATPtg, 0, timeAndDate) falling behind; read 53 messages\n",
      "RemoteTelemetry(ATHexapod, 0, positionStatus) falling behind; read 11 messages\n",
      "RemoteTelemetry(ATDome, 1, position) falling behind; read 52 messages\n",
      "RemoteEvent(ATAOS, 0, heartbeat) falling behind; read 11 messages\n",
      "RemoteTelemetry(ATPneumatics, 0, loadCell) falling behind; read 10 messages\n",
      "RemoteEvent(ATDomeTrajectory, 0, logMessage) falling behind; read 100 messages\n",
      "RemoteEvent(ATDomeTrajectory, 0, heartbeat) falling behind; read 10 messages\n",
      "RemoteTelemetry(ATPtg, 0, mountStatus) falling behind; read 53 messages\n",
      "RemoteTelemetry(ATPtg, 0, guidingAndOffsets) falling behind; read 53 messages\n",
      "RemoteEvent(ATDome, 1, heartbeat) falling behind; read 10 messages\n",
      "RemoteEvent(ATHexapod, 0, heartbeat) falling behind; read 10 messages\n",
      "RemoteTelemetry(ATPneumatics, 0, mainAirSourcePressure) falling behind; read 10 messages\n",
      "RemoteTelemetry(ATPneumatics, 0, m2AirPressure) falling behind; read 10 messages\n",
      "RemoteTelemetry(ATPtg, 0, currentTargetStatus) falling behind; read 53 messages\n",
      "RemoteTelemetry(ATPneumatics, 0, m1AirPressure) falling behind; read 10 messages\n",
      "falling behind; queue contains 99 elements\n",
      "falling behind; queue contains 98 elements\n",
      "falling behind; queue contains 97 elements\n",
      "RemoteEvent(ATPneumatics, 0, heartbeat) falling behind; read 10 messages\n",
      "falling behind; queue contains 99 elements\n",
      "falling behind; queue contains 98 elements\n",
      "falling behind; queue contains 97 elements\n",
      "falling behind; queue contains 99 elements\n",
      "falling behind; queue contains 98 elements\n",
      "falling behind; queue contains 97 elements\n",
      "falling behind; queue contains 99 elements\n",
      "falling behind; queue contains 98 elements\n",
      "falling behind; queue contains 97 elements\n",
      "falling behind; queue contains 99 elements\n",
      "falling behind; queue contains 98 elements\n",
      "falling behind; queue contains 97 elements\n",
      "falling behind; queue contains 99 elements\n",
      "falling behind; queue contains 98 elements\n",
      "falling behind; queue contains 97 elements\n",
      "falling behind; queue contains 99 elements\n",
      "falling behind; queue contains 98 elements\n",
      "falling behind; queue contains 97 elements\n",
      "falling behind; queue contains 99 elements\n",
      "falling behind; queue contains 98 elements\n",
      "falling behind; queue contains 97 elements\n",
      "falling behind; queue contains 99 elements\n",
      "falling behind; queue contains 98 elements\n",
      "falling behind; queue contains 97 elements\n",
      "falling behind; queue contains 99 elements\n",
      "falling behind; queue contains 98 elements\n",
      "falling behind; queue contains 97 elements\n"
     ]
    },
    {
     "name": "stdout",
     "output_type": "stream",
     "text": [
      "Done 1\n",
      "Done 2\n"
     ]
    }
   ],
   "source": [
    "await atptg.cmd_stopTracking.start(timeout=10)\n",
    "print(\"Done 1\")\n",
    "await asyncio.sleep(10)\n",
    "print(\"Done 2\")"
   ]
  },
  {
   "cell_type": "code",
   "execution_count": null,
   "metadata": {},
   "outputs": [],
   "source": [
    "await asyncio.sleep(60)"
   ]
  },
  {
   "cell_type": "code",
   "execution_count": 25,
   "metadata": {},
   "outputs": [
    {
     "name": "stderr",
     "output_type": "stream",
     "text": [
      "falling behind; queue contains 99 elements\n",
      "falling behind; queue contains 98 elements\n",
      "falling behind; queue contains 97 elements\n",
      "RemoteEvent(ATPneumatics, 0, heartbeat) falling behind; read 65 messages\n",
      "RemoteTelemetry(ATMCS, 0, trajectory) falling behind; read 65 messages\n",
      "RemoteEvent(ATDomeTrajectory, 0, heartbeat) falling behind; read 65 messages\n",
      "RemoteTelemetry(ATPtg, 0, currentTimesToLimits) falling behind; read 13 messages\n"
     ]
    }
   ],
   "source": [
    "mount = await atmcs.tel_mount_AzEl_Encoders.next(flush=True, timeout=10)"
   ]
  },
  {
   "cell_type": "code",
   "execution_count": 26,
   "metadata": {},
   "outputs": [
    {
     "data": {
      "text/plain": [
       "[-38.046281037983135,\n",
       " -38.046278802808956,\n",
       " -38.04628237908764,\n",
       " -38.04628237908764,\n",
       " -38.04628237908764,\n",
       " -38.04627969687863,\n",
       " -38.0462805909483,\n",
       " -38.04628193205281,\n",
       " -38.04628282612248,\n",
       " -38.046280143913464,\n",
       " -38.04627924984379,\n",
       " -38.04628148500342,\n",
       " -38.04628282612248,\n",
       " -38.046281037983135,\n",
       " -38.04628148500342,\n",
       " -38.04628148501797,\n",
       " -38.04628148501797,\n",
       " -38.0462805909483,\n",
       " -38.046283273157314,\n",
       " -38.0462805909483,\n",
       " -38.0462805909483,\n",
       " -38.046280143913464,\n",
       " -38.046280143913464,\n",
       " -38.046278802808956,\n",
       " -38.04628193205281,\n",
       " -38.04628148500342,\n",
       " -38.04628193205281,\n",
       " -38.04628237908764,\n",
       " -38.04628237908764,\n",
       " -38.0462805909483,\n",
       " -38.04627835577412,\n",
       " -38.04628193205281,\n",
       " -38.0462805909483,\n",
       " -38.046281037983135,\n",
       " -38.04628148500342,\n",
       " -38.04628237908764,\n",
       " -38.0462805909483,\n",
       " -38.046281037983135,\n",
       " -38.0462805909483,\n",
       " -38.046280143913464,\n",
       " -38.04627969687863,\n",
       " -38.046281037983135,\n",
       " -38.04628193205281,\n",
       " -38.04628193205281,\n",
       " -38.04628148501797,\n",
       " -38.04628193205281,\n",
       " -38.0462805909483,\n",
       " -38.04628148501797,\n",
       " -38.046281037983135,\n",
       " -38.04628282612248,\n",
       " -38.04628193205281,\n",
       " -38.04628237908764,\n",
       " -38.04628237908764,\n",
       " -38.0462805909483,\n",
       " -38.046281037983135,\n",
       " -38.04627969687863,\n",
       " -38.04628237908764,\n",
       " -38.0462805909483,\n",
       " -38.04628148500342,\n",
       " -38.04628372019215,\n",
       " -38.046283273157314,\n",
       " -38.04628148501797,\n",
       " -38.04627969687863,\n",
       " -38.0462805909483,\n",
       " -38.046281037983135,\n",
       " -38.04628237908764,\n",
       " -38.046283273157314,\n",
       " -38.046281037983135,\n",
       " -38.046283273157314,\n",
       " -38.0462805909483,\n",
       " -38.04627969687863,\n",
       " -38.04628148501797,\n",
       " -38.04628237908764,\n",
       " -38.046278802808956,\n",
       " -38.04628193205281,\n",
       " -38.04628237908764,\n",
       " -38.046280143913464,\n",
       " -38.046281037983135,\n",
       " -38.04628193205281,\n",
       " -38.046281037983135,\n",
       " -38.046281037983135,\n",
       " -38.04627969687863,\n",
       " -38.046281037983135,\n",
       " -38.046280143913464,\n",
       " -38.04628193205281,\n",
       " -38.0462805909483,\n",
       " -38.04628237908764,\n",
       " -38.04628148500342,\n",
       " -38.04628148501797,\n",
       " -38.046280143913464,\n",
       " -38.04627969687863,\n",
       " -38.04628148500342,\n",
       " -38.0462805909483,\n",
       " -38.04628193205281,\n",
       " -38.0462805909483,\n",
       " -38.046280143913464,\n",
       " -38.046281037983135,\n",
       " -38.046280143913464,\n",
       " -38.04627924984379,\n",
       " -38.046283273157314]"
      ]
     },
     "execution_count": 26,
     "metadata": {},
     "output_type": "execute_result"
    }
   ],
   "source": [
    "mount.azimuthCalculatedAngle"
   ]
  },
  {
   "cell_type": "code",
   "execution_count": null,
   "metadata": {},
   "outputs": [],
   "source": [
    "await asyncio.sleep(5)\n",
    "err = await atptg.evt_errorCode.next(flush=False, timeout=1)\n",
    "err = atptg.evt_errorCode.get()"
   ]
  },
  {
   "cell_type": "code",
   "execution_count": null,
   "metadata": {},
   "outputs": [],
   "source": [
    "print(err.errorReport)"
   ]
  },
  {
   "cell_type": "code",
   "execution_count": null,
   "metadata": {},
   "outputs": [],
   "source": []
  },
  {
   "cell_type": "code",
   "execution_count": null,
   "metadata": {},
   "outputs": [],
   "source": [
    "location = EarthLocation.from_geodetic(lon=-70.747698*u.deg,\n",
    "                                       lat=-30.244728*u.deg,\n",
    "                                       height=2663.0*u.m)"
   ]
  },
  {
   "cell_type": "code",
   "execution_count": null,
   "metadata": {},
   "outputs": [],
   "source": [
    "ra = Angle(\"03:02:16.77307\", unit=u.hour)\n",
    "dec = Angle(\"+04:05:23.0596\", unit=u.deg)\n",
    "target_name=\"Alf Cet\"\n",
    "radec = ICRS(ra, dec)\n"
   ]
  },
  {
   "cell_type": "code",
   "execution_count": null,
   "metadata": {},
   "outputs": [],
   "source": [
    "await atmcs.cmd_stopTracking.start()"
   ]
  },
  {
   "cell_type": "code",
   "execution_count": null,
   "metadata": {},
   "outputs": [],
   "source": [
    "await atptg.cmd_stopTracking.start(timeout=10)"
   ]
  },
  {
   "cell_type": "code",
   "execution_count": null,
   "metadata": {},
   "outputs": [],
   "source": [
    "# Figure out what is the rotPA that sets nasmith rotator close to zero.\n",
    "time_data = await atptg.tel_timeAndDate.next(flush=True, timeout=2)\n",
    "curr_time_atptg = Time(time_data.tai, format=\"mjd\", scale=\"tai\")\n",
    "print(curr_time_atptg)\n",
    "coord_frame_altaz = AltAz(location=location, obstime=curr_time_atptg)\n",
    "alt_az = radec.transform_to(coord_frame_altaz)\n",
    "\n",
    "print(\"slew...\")\n",
    "# await atmcs.cmd_startTracking.start(timeout=10)\n",
    "await atptg.cmd_raDecTarget.set_start(\n",
    "    targetName=target_name,\n",
    "    targetInstance=ATPtg.TargetInstances.CURRENT,\n",
    "    frame=ATPtg.CoordFrame.ICRS,\n",
    "    epoch=2000,  # should be ignored: no parallax or proper motion\n",
    "    equinox=2000,  # should be ignored for ICRS\n",
    "    ra=radec.ra.hour,\n",
    "    declination=radec.dec.deg,\n",
    "    parallax=0,\n",
    "    pmRA=0,\n",
    "    pmDec=0,\n",
    "    rv=0,\n",
    "    dRA=0,\n",
    "    dDec=0,\n",
    "    rotPA=180.-alt_az.alt.deg,\n",
    "    rotFrame=ATPtg.RotFrame.FIXED,\n",
    "    rotMode=ATPtg.RotMode.FIELD,\n",
    "    timeout=10\n",
    ")"
   ]
  },
  {
   "cell_type": "code",
   "execution_count": null,
   "metadata": {},
   "outputs": [],
   "source": [
    "await atptg.cmd_stopTracking.start(timeout=10)"
   ]
  },
  {
   "cell_type": "code",
   "execution_count": null,
   "metadata": {},
   "outputs": [],
   "source": [
    "await asyncio.sleep(5.)\n",
    "ss = await atptg.evt_summaryState.next(flush=False, timeout=1)\n",
    "ss = atptg.evt_summaryState.get()\n",
    "print(salobj.State(ss.summaryState))"
   ]
  },
  {
   "cell_type": "code",
   "execution_count": 8,
   "metadata": {},
   "outputs": [],
   "source": [
    "def print_ss(data):\n",
    "    print(salobj.State(data.summaryState))"
   ]
  },
  {
   "cell_type": "code",
   "execution_count": 9,
   "metadata": {},
   "outputs": [],
   "source": [
    "atptg.evt_summaryState.callback = print_ss"
   ]
  },
  {
   "cell_type": "code",
   "execution_count": 43,
   "metadata": {},
   "outputs": [
    {
     "name": "stderr",
     "output_type": "stream",
     "text": [
      "RemoteEvent(ATMCS, 0, atMountState) falling behind; read 14 messages\n",
      "RemoteTelemetry(ATPtg, 0, timeAndDate) falling behind; read 100 messages\n",
      "RemoteTelemetry(ATDome, 1, position) falling behind; read 100 messages\n",
      "RemoteEvent(ATDomeTrajectory, 0, heartbeat) falling behind; read 100 messages\n",
      "RemoteEvent(ATHexapod, 0, heartbeat) falling behind; read 100 messages\n",
      "RemoteEvent(ATAOS, 0, heartbeat) falling behind; read 100 messages\n",
      "RemoteTelemetry(ATPneumatics, 0, loadCell) falling behind; read 100 messages\n",
      "RemoteEvent(ATPneumatics, 0, heartbeat) falling behind; read 100 messages\n",
      "RemoteTelemetry(ATHexapod, 0, positionStatus) falling behind; read 100 messages\n",
      "RemoteEvent(ATAOS, 0, m1CorrectionStarted) falling behind; read 100 messages\n",
      "RemoteTelemetry(ATMCS, 0, trajectory) falling behind; read 100 messages\n",
      "RemoteEvent(ATAOS, 0, m1CorrectionCompleted) falling behind; read 100 messages\n",
      "RemoteTelemetry(ATPtg, 0, mountStatus) falling behind; read 100 messages\n",
      "RemoteTelemetry(ATMCS, 0, torqueDemand) falling behind; read 100 messages\n",
      "RemoteTelemetry(ATPneumatics, 0, mainAirSourcePressure) falling behind; read 100 messages\n",
      "RemoteEvent(ATAOS, 0, logMessage) falling behind; read 100 messages\n",
      "RemoteTelemetry(ATPtg, 0, guidingAndOffsets) falling behind; read 100 messages\n",
      "RemoteEvent(ATDome, 1, heartbeat) falling behind; read 100 messages\n",
      "RemoteTelemetry(ATMCS, 0, nasymth_m3_mountMotorEncoders) falling behind; read 100 messages\n",
      "RemoteTelemetry(ATPneumatics, 0, m2AirPressure) falling behind; read 100 messages\n",
      "RemoteTelemetry(ATPtg, 0, currentTimesToLimits) falling behind; read 100 messages\n",
      "RemoteTelemetry(ATMCS, 0, mount_Nasmyth_Encoders) falling behind; read 100 messages\n",
      "RemoteTelemetry(ATPneumatics, 0, m1AirPressure) falling behind; read 100 messages\n",
      "RemoteEvent(ATAOS, 0, detailedState) falling behind; read 100 messages\n",
      "RemoteTelemetry(ATPtg, 0, currentTargetStatus) falling behind; read 100 messages\n",
      "RemoteTelemetry(ATMCS, 0, mount_AzEl_Encoders) falling behind; read 100 messages\n",
      "RemoteEvent(ATPtg, 0, weatherDataApplied) falling behind; read 100 messages\n",
      "RemoteTelemetry(ATMCS, 0, measuredTorque) falling behind; read 100 messages\n",
      "RemoteTelemetry(ATMCS, 0, measuredMotorVelocity) falling behind; read 100 messages\n",
      "RemoteTelemetry(ATMCS, 0, azEl_mountMotorEncoders) falling behind; read 100 messages\n",
      "RemoteEvent(ATPneumatics, 0, m1SetPressure) falling behind; read 100 messages\n",
      "RemoteEvent(ATPtg, 0, mountDataWarning) falling behind; read 100 messages\n",
      "AckCmdReader(ATPneumatics, 0, ackcmd) falling behind; read 100 messages\n",
      "falling behind; queue contains 99 elements\n",
      "falling behind; queue contains 98 elements\n",
      "falling behind; queue contains 97 elements\n",
      "RemoteEvent(ATMCS, 0, heartbeat) falling behind; read 100 messages\n",
      "AckCmdReader(ATPtg, 0, ackcmd) falling behind; read 20 messages\n",
      "falling behind; queue contains 19 elements\n"
     ]
    },
    {
     "name": "stdout",
     "output_type": "stream",
     "text": [
      "State.FAULT\n",
      "State.STANDBY\n",
      "State.DISABLED\n",
      "State.ENABLED\n"
     ]
    },
    {
     "data": {
      "text/plain": [
       "<lsst.ts.salobj.ddsutil.ATPtg_ackcmd at 0x7fef67685190>"
      ]
     },
     "execution_count": 43,
     "metadata": {},
     "output_type": "execute_result"
    },
    {
     "name": "stderr",
     "output_type": "stream",
     "text": [
      "falling behind; queue contains 99 elements\n",
      "falling behind; queue contains 98 elements\n",
      "falling behind; queue contains 97 elements\n"
     ]
    }
   ],
   "source": [
    "await atptg.cmd_offsetAzEl.set_start()"
   ]
  },
  {
   "cell_type": "code",
   "execution_count": null,
   "metadata": {},
   "outputs": [],
   "source": []
  }
 ],
 "metadata": {
  "kernelspec": {
   "display_name": "Python 3",
   "language": "python",
   "name": "python3"
  },
  "language_info": {
   "codemirror_mode": {
    "name": "ipython",
    "version": 3
   },
   "file_extension": ".py",
   "mimetype": "text/x-python",
   "name": "python",
   "nbconvert_exporter": "python",
   "pygments_lexer": "ipython3",
   "version": "3.7.4"
  }
 },
 "nbformat": 4,
 "nbformat_minor": 4
}
