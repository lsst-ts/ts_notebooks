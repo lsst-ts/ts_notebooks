{
 "cells": [
  {
   "cell_type": "code",
   "execution_count": 1,
   "metadata": {},
   "outputs": [],
   "source": [
    "from lsst.ts import salobj"
   ]
  },
  {
   "cell_type": "code",
   "execution_count": 2,
   "metadata": {},
   "outputs": [],
   "source": [
    "import asyncio"
   ]
  },
  {
   "cell_type": "code",
   "execution_count": 3,
   "metadata": {},
   "outputs": [],
   "source": [
    "r = salobj.Remote(salobj.Domain(), \"ATSpectrograph\")"
   ]
  },
  {
   "cell_type": "code",
   "execution_count": 4,
   "metadata": {},
   "outputs": [
    {
     "name": "stderr",
     "output_type": "stream",
     "text": [
      "Could not read historical data in 60.26 sec\n"
     ]
    }
   ],
   "source": [
    "await r.start_task"
   ]
  },
  {
   "cell_type": "code",
   "execution_count": 6,
   "metadata": {},
   "outputs": [
    {
     "name": "stderr",
     "output_type": "stream",
     "text": [
      "RemoteEvent(ATSpectrograph, 0, heartbeat) falling behind; read 46 messages\n"
     ]
    },
    {
     "name": "stdout",
     "output_type": "stream",
     "text": [
      "private_revCode: c3efdb5e, private_sndStamp: 1570139288.34989, private_rcvStamp: 1570139288.3502169, private_seqNum: 115, private_origin: 28, private_host: 1276600572, heartbeat: False, priority: 0\n"
     ]
    }
   ],
   "source": [
    "await asyncio.sleep(1.0)\n",
    "hb = await r.evt_heartbeat.next(flush=True, timeout=5)\n",
    "print(hb)"
   ]
  },
  {
   "cell_type": "code",
   "execution_count": 7,
   "metadata": {},
   "outputs": [
    {
     "data": {
      "text/plain": [
       "[<State.STANDBY: 5>, <State.DISABLED: 1>, <State.ENABLED: 2>]"
      ]
     },
     "execution_count": 7,
     "metadata": {},
     "output_type": "execute_result"
    }
   ],
   "source": [
    "await asyncio.sleep(1.)\n",
    "await salobj.set_summary_state(r, salobj.State.ENABLED, settingsToApply=\"tucson_test_stand.yaml\")"
   ]
  },
  {
   "cell_type": "code",
   "execution_count": null,
   "metadata": {},
   "outputs": [],
   "source": [
    "await r.cmd_standby.start()"
   ]
  },
  {
   "cell_type": "code",
   "execution_count": null,
   "metadata": {},
   "outputs": [],
   "source": [
    "await r.cmd_start.set_start(settingsToApply='tucson_test_stand.yaml')"
   ]
  },
  {
   "cell_type": "code",
   "execution_count": null,
   "metadata": {},
   "outputs": [],
   "source": [
    "await r.cmd_enable.start()"
   ]
  },
  {
   "cell_type": "code",
   "execution_count": 8,
   "metadata": {},
   "outputs": [
    {
     "name": "stderr",
     "output_type": "stream",
     "text": [
      "RemoteEvent(ATSpectrograph, 0, heartbeat) falling behind; read 25 messages\n"
     ]
    }
   ],
   "source": [
    "ss = await r.evt_settingsApplied.next(flush=False, timeout=5)"
   ]
  },
  {
   "cell_type": "code",
   "execution_count": 9,
   "metadata": {},
   "outputs": [
    {
     "data": {
      "text/plain": [
       "('140.252.32.156',\n",
       " 'empty_1,empty_2,disperser,empty_3',\n",
       " 'empty,ronchi170lpmm,ronchi90lpmm,holo_etu1')"
      ]
     },
     "execution_count": 9,
     "metadata": {},
     "output_type": "execute_result"
    }
   ],
   "source": [
    "ss.host, ss.filterNames, ss.gratingNames"
   ]
  },
  {
   "cell_type": "code",
   "execution_count": 15,
   "metadata": {},
   "outputs": [
    {
     "name": "stderr",
     "output_type": "stream",
     "text": [
      "RemoteEvent(ATSpectrograph, 0, heartbeat) falling behind; read 13 messages\n"
     ]
    }
   ],
   "source": [
    "pos = await r.evt_reportedFilterPosition.next(flush=False, timeout=5)"
   ]
  },
  {
   "cell_type": "code",
   "execution_count": 11,
   "metadata": {},
   "outputs": [
    {
     "name": "stdout",
     "output_type": "stream",
     "text": [
      "private_revCode: , private_sndStamp: 1570139332.1239147, private_rcvStamp: 1570139332.1244664, private_origin: 28, private_host: 1276600572, private_seqNum: 310073589, ack: 303, error: 0, result: Done\n"
     ]
    },
    {
     "data": {
      "text/plain": [
       "(1, '')"
      ]
     },
     "execution_count": 11,
     "metadata": {},
     "output_type": "execute_result"
    }
   ],
   "source": [
    "await asyncio.sleep(1)\n",
    "r.evt_reportedFilterPosition.flush()\n",
    "ack = await r.cmd_changeFilter.set_start(filter=2, name='')\n",
    "print(ack)\n",
    "pos = await r.evt_reportedFilterPosition.next(flush=False, timeout=5)\n",
    "pos.position, pos.name"
   ]
  },
  {
   "cell_type": "code",
   "execution_count": 13,
   "metadata": {},
   "outputs": [
    {
     "data": {
      "text/plain": [
       "(2, 'empty_2')"
      ]
     },
     "execution_count": 13,
     "metadata": {},
     "output_type": "execute_result"
    }
   ],
   "source": [
    "pos.position, pos.name"
   ]
  },
  {
   "cell_type": "code",
   "execution_count": 14,
   "metadata": {},
   "outputs": [
    {
     "name": "stdout",
     "output_type": "stream",
     "text": [
      "private_revCode: , private_sndStamp: 1570139555.697199, private_rcvStamp: 1570139555.6979654, private_origin: 28, private_host: 1276600572, private_seqNum: 310073590, ack: 303, error: 0, result: Done\n"
     ]
    },
    {
     "data": {
      "text/plain": [
       "(1, 'empty_2')"
      ]
     },
     "execution_count": 14,
     "metadata": {},
     "output_type": "execute_result"
    }
   ],
   "source": [
    "await asyncio.sleep(1)\n",
    "r.evt_reportedFilterPosition.flush()\n",
    "ack = await r.cmd_changeFilter.set_start(filter=0, name='disperser')\n",
    "print(ack)\n",
    "pos = await r.evt_reportedFilterPosition.next(flush=False, timeout=5)\n",
    "pos.position, pos.name"
   ]
  },
  {
   "cell_type": "code",
   "execution_count": 16,
   "metadata": {},
   "outputs": [
    {
     "data": {
      "text/plain": [
       "(3, 'disperser')"
      ]
     },
     "execution_count": 16,
     "metadata": {},
     "output_type": "execute_result"
    }
   ],
   "source": [
    "pos.position, pos.name"
   ]
  },
  {
   "cell_type": "code",
   "execution_count": null,
   "metadata": {},
   "outputs": [],
   "source": [
    "print(ack)"
   ]
  },
  {
   "cell_type": "code",
   "execution_count": null,
   "metadata": {},
   "outputs": [],
   "source": [
    "pos = await r.evt_reportedFilterPosition.next(flush=False, timeout=5)"
   ]
  },
  {
   "cell_type": "code",
   "execution_count": null,
   "metadata": {},
   "outputs": [],
   "source": [
    "pos.position, pos.name"
   ]
  },
  {
   "cell_type": "code",
   "execution_count": null,
   "metadata": {},
   "outputs": [],
   "source": []
  }
 ],
 "metadata": {
  "kernelspec": {
   "display_name": "Python 3",
   "language": "python",
   "name": "python3"
  },
  "language_info": {
   "codemirror_mode": {
    "name": "ipython",
    "version": 3
   },
   "file_extension": ".py",
   "mimetype": "text/x-python",
   "name": "python",
   "nbconvert_exporter": "python",
   "pygments_lexer": "ipython3",
   "version": "3.7.4"
  }
 },
 "nbformat": 4,
 "nbformat_minor": 4
}
