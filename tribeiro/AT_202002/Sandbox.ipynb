{
 "cells": [
  {
   "cell_type": "markdown",
   "metadata": {},
   "source": [
    "This notebook shows the sequence of commands for an \"end-to-end\" verification. The idea is to show that we are able to \n",
    "\n",
    "    1 - Startup the telescope.\n",
    "    2 - Acquire calibration data.\n",
    "    3 - Initialize the observatory for the night.\n",
    "    4 - Slew to a target.\n",
    "    5 - Take an image of the target. \n",
    "    6 - Read the image from the butler and display it.\n",
    "    7 - Shutdown the telescope."
   ]
  },
  {
   "cell_type": "markdown",
   "metadata": {},
   "source": [
    "The first step in this notebook is to load all the required libraries. "
   ]
  },
  {
   "cell_type": "code",
   "execution_count": 1,
   "metadata": {},
   "outputs": [],
   "source": [
    "import sys\n",
    "import asyncio\n",
    "import logging\n",
    "\n",
    "import numpy as np\n",
    "\n",
    "from lsst.ts import salobj\n",
    "\n",
    "\n",
    "from lsst.ts.standardscripts.auxtel.attcs import ATTCS\n",
    "from lsst.ts.standardscripts.auxtel.latiss import LATISS"
   ]
  },
  {
   "cell_type": "code",
   "execution_count": 2,
   "metadata": {},
   "outputs": [],
   "source": [
    "import os\n",
    "import lsst.daf.persistence as dafPersist"
   ]
  },
  {
   "cell_type": "code",
   "execution_count": 3,
   "metadata": {},
   "outputs": [],
   "source": [
    "import matplotlib\n",
    "%matplotlib widget\n",
    "matplotlib.rcParams[\"figure.figsize\"] = (8, 6)\n",
    "matplotlib.rcParams[\"font.size\"] = 12"
   ]
  },
  {
   "cell_type": "code",
   "execution_count": 4,
   "metadata": {},
   "outputs": [],
   "source": [
    "import astropy"
   ]
  },
  {
   "cell_type": "markdown",
   "metadata": {},
   "source": [
    "This next cell defines a method to display the image at the end. "
   ]
  },
  {
   "cell_type": "code",
   "execution_count": null,
   "metadata": {},
   "outputs": [],
   "source": [
    "def display(image, mask=None, colors=None, alpha=0.40, **kwds):\n",
    "    box = Box2D(image.getBBox())\n",
    "    extent = (box.getMinX(), box.getMaxX(), box.getMinY(), box.getMaxY())\n",
    "    kwds.setdefault(\"extent\", extent)\n",
    "    kwds.setdefault(\"origin\", \"lower\")\n",
    "    kwds.setdefault(\"interpolation\", \"nearest\")\n",
    "    matplotlib.pyplot.imshow(image.array, **kwds)\n",
    "    kwds.pop(\"vmin\", None)\n",
    "    kwds.pop(\"vmax\", None)\n",
    "    kwds.pop(\"norm\", None)\n",
    "    kwds.pop(\"cmap\", None)\n",
    "    if mask is not None:\n",
    "        for plane, color in colors.items():\n",
    "            array = np.zeros(mask.array.shape + (4,), dtype=float)\n",
    "            rgba = np.array(matplotlib.colors.hex2color(matplotlib.colors.cnames[color]) + (alpha, ),\n",
    "                            dtype=float)\n",
    "            np.multiply.outer((mask.array & mask.getPlaneBitMask(plane)).astype(bool), rgba, out=array)\n",
    "            matplotlib.pyplot.imshow(array, **kwds)"
   ]
  },
  {
   "cell_type": "code",
   "execution_count": null,
   "metadata": {},
   "outputs": [],
   "source": [
    "from lsst.afw.geom import Box2D, Box2I, Point2I, Extent2I"
   ]
  },
  {
   "cell_type": "markdown",
   "metadata": {},
   "source": [
    "Before proceeding, add a logger and set logging level to `DEBUG` so we can get status message from the various tasks."
   ]
  },
  {
   "cell_type": "code",
   "execution_count": 5,
   "metadata": {},
   "outputs": [],
   "source": [
    "stream_handler = logging.StreamHandler(sys.stdout)\n",
    "\n",
    "logger = logging.getLogger()\n",
    "logger.addHandler(stream_handler)\n",
    "logger.level = logging.DEBUG"
   ]
  },
  {
   "cell_type": "markdown",
   "metadata": {},
   "source": [
    "Next we initialize two high level classes to command the ATTCS and LATISS."
   ]
  },
  {
   "cell_type": "code",
   "execution_count": 6,
   "metadata": {},
   "outputs": [],
   "source": [
    "attcs = ATTCS()"
   ]
  },
  {
   "cell_type": "code",
   "execution_count": 7,
   "metadata": {},
   "outputs": [
    {
     "name": "stdout",
     "output_type": "stream",
     "text": [
      "Read historical data in 5.97 sec\n",
      "Read historical data in 6.24 sec\n",
      "Read historical data in 6.71 sec\n",
      "Read historical data in 6.88 sec\n",
      "Read historical data in 7.37 sec\n",
      "Read historical data in 7.79 sec\n",
      "Read historical data in 8.66 sec\n"
     ]
    }
   ],
   "source": [
    "latiss = LATISS(attcs.domain)"
   ]
  },
  {
   "cell_type": "code",
   "execution_count": 8,
   "metadata": {},
   "outputs": [
    {
     "name": "stdout",
     "output_type": "stream",
     "text": [
      "Read historical data in 4.39 sec\n",
      "Read historical data in 4.57 sec\n",
      "Read historical data in 4.70 sec\n",
      "Read historical data in 4.81 sec\n",
      "RemoteEvent(ATDome, 0, logMessage) falling behind; read 19 messages\n",
      "RemoteTelemetry(ATPtg, 0, timeAndDate) falling behind; read 15 messages\n"
     ]
    },
    {
     "data": {
      "text/plain": [
       "[[None, None, None, None, None, None, None], [None, None, None, None]]"
      ]
     },
     "execution_count": 8,
     "metadata": {},
     "output_type": "execute_result"
    },
    {
     "name": "stdout",
     "output_type": "stream",
     "text": [
      "RemoteTelemetry(ATPtg, 0, mountStatus) falling behind; read 16 messages\n",
      "RemoteTelemetry(ATPtg, 0, guidingAndOffsets) falling behind; read 16 messages\n",
      "RemoteTelemetry(ATPtg, 0, currentTargetStatus) falling behind; read 17 messages\n"
     ]
    }
   ],
   "source": [
    "await asyncio.gather(attcs.start_task,\n",
    "                     latiss.start_task)"
   ]
  },
  {
   "cell_type": "markdown",
   "metadata": {},
   "source": [
    "Since there is no reason do put these components in standby at a given time, let us assume `LATISS` is already enabled. The same is not true for ATTCS which must be put in standby at the end of the night so the telescope can be left in a safe mode. \n",
    "\n",
    "For that we call the `enable` method in ATTCS. This will leave the telescope and its subsystems ready to go. \n",
    "\n",
    "Note that the ATHexapod simulator is not working right now. For that we can tell attcs to skip it in enable and startup operations."
   ]
  },
  {
   "cell_type": "code",
   "execution_count": null,
   "metadata": {},
   "outputs": [],
   "source": [
    "attcs.check.athexapod = False"
   ]
  },
  {
   "cell_type": "code",
   "execution_count": null,
   "metadata": {},
   "outputs": [],
   "source": [
    "await attcs.enable(settings={\n",
    "    'atmcs': \"\",\n",
    "    'atptg': \"\",\n",
    "    'ataos': \"\",\n",
    "    'atpneumatics': \"\",\n",
    "    'athexapod': \"Default1\",\n",
    "    'atdome': \"\",\n",
    "    'atdometrajectory': \"\"})"
   ]
  },
  {
   "cell_type": "markdown",
   "metadata": {},
   "source": [
    "Now we can use LATISS high level method `take_bias` to take a series of bias images."
   ]
  },
  {
   "cell_type": "code",
   "execution_count": null,
   "metadata": {},
   "outputs": [],
   "source": [
    "await latiss.take_bias(nbias=5)"
   ]
  },
  {
   "cell_type": "markdown",
   "metadata": {},
   "source": [
    "There is also a method `take_darks` that can be used to take series of dark images."
   ]
  },
  {
   "cell_type": "code",
   "execution_count": null,
   "metadata": {},
   "outputs": [],
   "source": [
    "await latiss.take_darks(ndarks=5, exptime=15.)"
   ]
  },
  {
   "cell_type": "markdown",
   "metadata": {},
   "source": [
    "It is also possible to take flat frames. For that, we would have to move the telescope and dome to the flat field position, switch on the lamps and take flat images.\n",
    "\n",
    "We can position the telescope and dome with the `prepare_for_flatfield` method on the ATTCS. We don't have a simulator for flat lamps now so we will skip it."
   ]
  },
  {
   "cell_type": "code",
   "execution_count": null,
   "metadata": {},
   "outputs": [],
   "source": [
    "await attcs.prepare_for_flatfield()"
   ]
  },
  {
   "cell_type": "code",
   "execution_count": null,
   "metadata": {},
   "outputs": [],
   "source": [
    "await latiss.take_flats(exptime=5., nflats=5, filter='disperser', grating='ronchi170lpmm')"
   ]
  },
  {
   "cell_type": "code",
   "execution_count": null,
   "metadata": {},
   "outputs": [],
   "source": [
    "await attcs.startup()"
   ]
  },
  {
   "cell_type": "markdown",
   "metadata": {},
   "source": [
    "Select instrument port. This is not done at the startup."
   ]
  },
  {
   "cell_type": "code",
   "execution_count": null,
   "metadata": {},
   "outputs": [],
   "source": [
    "await attcs.atmcs.cmd_setInstrumentPort.set_start(port=1)"
   ]
  },
  {
   "cell_type": "markdown",
   "metadata": {},
   "source": [
    "A trick to aways get a good target to point."
   ]
  },
  {
   "cell_type": "code",
   "execution_count": null,
   "metadata": {},
   "outputs": [],
   "source": [
    "time = await attcs.atptg.tel_timeAndDate.aget()"
   ]
  },
  {
   "cell_type": "code",
   "execution_count": null,
   "metadata": {},
   "outputs": [],
   "source": [
    "time.lst"
   ]
  },
  {
   "cell_type": "code",
   "execution_count": null,
   "metadata": {},
   "outputs": [],
   "source": [
    "await attcs.slew_icrs(ra=time.lst, dec=-50., slew_timeout=120)"
   ]
  },
  {
   "cell_type": "code",
   "execution_count": null,
   "metadata": {},
   "outputs": [],
   "source": [
    "end_readout = await latiss.take_image(exptime=10., \n",
    "                                      shutter=True, \n",
    "                                      image_type=\"OBJECT\", \n",
    "                                      group_id=astropy.time.Time.now().tai.isot)"
   ]
  },
  {
   "cell_type": "code",
   "execution_count": null,
   "metadata": {},
   "outputs": [],
   "source": [
    "print(end_readout)"
   ]
  },
  {
   "cell_type": "markdown",
   "metadata": {},
   "source": [
    "Get visit id from the `end_readout` event. "
   ]
  },
  {
   "cell_type": "code",
   "execution_count": null,
   "metadata": {},
   "outputs": [],
   "source": [
    "visit = int(f\"{end_readout.imageDate}{end_readout.imageNumber:05}\")\n",
    "print(visit)"
   ]
  },
  {
   "cell_type": "code",
   "execution_count": null,
   "metadata": {},
   "outputs": [],
   "source": [
    "ingested = await latiss.atarchiver.evt_imageInOODS.next(flush=False, timeout=30)"
   ]
  },
  {
   "cell_type": "code",
   "execution_count": null,
   "metadata": {},
   "outputs": [],
   "source": [
    "print(ingested)"
   ]
  },
  {
   "cell_type": "code",
   "execution_count": null,
   "metadata": {},
   "outputs": [],
   "source": [
    "await asyncio.sleep(15.)"
   ]
  },
  {
   "cell_type": "code",
   "execution_count": null,
   "metadata": {},
   "outputs": [],
   "source": [
    "repo = os.path.join(\"/mnt/dmcs/oods_butler_repo/repo\")\n",
    "butler = dafPersist.Butler(repo)"
   ]
  },
  {
   "cell_type": "code",
   "execution_count": null,
   "metadata": {},
   "outputs": [],
   "source": [
    "raw = butler.get(\"raw\", expId=visit)"
   ]
  },
  {
   "cell_type": "code",
   "execution_count": null,
   "metadata": {},
   "outputs": [],
   "source": [
    "display(raw.image, cmap=matplotlib.cm.gray, vmin=1e4, vmax=3e4)"
   ]
  },
  {
   "cell_type": "markdown",
   "metadata": {},
   "source": [
    "Finaly, shutdown the system. "
   ]
  },
  {
   "cell_type": "code",
   "execution_count": 12,
   "metadata": {},
   "outputs": [
    {
     "name": "stdout",
     "output_type": "stream",
     "text": [
      "Disabling ATAOS corrections\n",
      "Disable ATDomeTrajectory\n",
      "Slew telescope to Park position.\n",
      "Flushing events\n",
      "Sending command\n",
      "Scheduling check coroutines\n",
      "process as completed...\n",
      "[Telescope] delta Alt = +000.000 | delta Az= -000.001\n",
      "Axes in position.\n",
      "None\n",
      "Cover state <MirrorCoverState.CLOSED: 6>\n",
      "M1 cover already closed.\n",
      "Close dome.\n",
      "ATDome Shutter Door is already closed. Ignoring.\n",
      "Slew dome to Park position.\n",
      "Timed out trying to get azimuth in position from the dome just after command was sent. Continuing...\n",
      "[Dome] delta Az = -069.220\n",
      "[Dome] delta Az = -067.940\n",
      "[Dome] delta Az = -066.430\n",
      "[Dome] delta Az = -064.690\n",
      "[Dome] delta Az = -062.720\n",
      "[Dome] delta Az = -060.530\n",
      "[Dome] delta Az = -058.100\n",
      "[Dome] delta Az = -055.440\n",
      "[Dome] delta Az = -052.560\n",
      "[Dome] delta Az = -049.460\n",
      "[Dome] delta Az = -046.140\n",
      "[Dome] delta Az = -042.700\n",
      "[Dome] delta Az = -039.270\n",
      "[Dome] delta Az = -035.830\n",
      "[Dome] delta Az = -032.390\n",
      "[Dome] delta Az = -028.950\n",
      "[Dome] delta Az = -025.520\n",
      "[Dome] delta Az = -022.070\n",
      "[Dome] delta Az = -018.620\n",
      "[Dome] delta Az = -015.190\n",
      "[Dome] delta Az = -011.770\n",
      "[Dome] delta Az = -008.340\n",
      "[Dome] delta Az = -004.870\n",
      "Axes in position.\n",
      "Put all CSCs in standby\n",
      "[atmcs]::[<State.ENABLED: 2>, <State.DISABLED: 1>, <State.STANDBY: 5>]\n",
      "[atptg]::[<State.ENABLED: 2>, <State.DISABLED: 1>, <State.STANDBY: 5>]\n",
      "[ataos]::[<State.ENABLED: 2>, <State.DISABLED: 1>, <State.STANDBY: 5>]\n",
      "[atpneumatics]::[<State.ENABLED: 2>, <State.DISABLED: 1>, <State.STANDBY: 5>]\n",
      "Unable to put athexapod in STANDBY\n",
      "Error on cmd=cmd_standby, initial_state=3: msg='Command failed', ackcmd=(ackcmd private_seqNum=1837350769, ack=<SalRetCode.CMD_FAILED: -302>, error=1, result='Failed: standby not allowed in state <State.STANDBY: 5>')\n",
      "NoneType: None\n",
      "[atdome]::[<State.ENABLED: 2>, <State.DISABLED: 1>, <State.STANDBY: 5>]\n",
      "[atdometrajectory]::[<State.DISABLED: 1>, <State.STANDBY: 5>]\n"
     ]
    },
    {
     "ename": "RuntimeError",
     "evalue": "Unable to put athexapod in STANDBY\n",
     "output_type": "error",
     "traceback": [
      "\u001b[0;31m\u001b[0m",
      "\u001b[0;31mRuntimeError\u001b[0mTraceback (most recent call last)",
      "\u001b[0;32m<ipython-input-12-482c82ed2a14>\u001b[0m in \u001b[0;36masync-def-wrapper\u001b[0;34m()\u001b[0m\n",
      "\u001b[0;32m~/repos/ts_standardscripts/python/lsst/ts/standardscripts/auxtel/attcs.py\u001b[0m in \u001b[0;36mshutdown\u001b[0;34m(self)\u001b[0m\n\u001b[1;32m    523\u001b[0m         \u001b[0mself\u001b[0m\u001b[0;34m.\u001b[0m\u001b[0mlog\u001b[0m\u001b[0;34m.\u001b[0m\u001b[0minfo\u001b[0m\u001b[0;34m(\u001b[0m\u001b[0;34m\"Put all CSCs in standby\"\u001b[0m\u001b[0;34m)\u001b[0m\u001b[0;34m\u001b[0m\u001b[0;34m\u001b[0m\u001b[0m\n\u001b[1;32m    524\u001b[0m \u001b[0;34m\u001b[0m\u001b[0m\n\u001b[0;32m--> 525\u001b[0;31m         \u001b[0;32mawait\u001b[0m \u001b[0mself\u001b[0m\u001b[0;34m.\u001b[0m\u001b[0mstandby\u001b[0m\u001b[0;34m(\u001b[0m\u001b[0;34m)\u001b[0m\u001b[0;34m\u001b[0m\u001b[0;34m\u001b[0m\u001b[0m\n\u001b[0m\u001b[1;32m    526\u001b[0m \u001b[0;34m\u001b[0m\u001b[0m\n\u001b[1;32m    527\u001b[0m     \u001b[0;32masync\u001b[0m \u001b[0;32mdef\u001b[0m \u001b[0mopen_dome_shutter\u001b[0m\u001b[0;34m(\u001b[0m\u001b[0mself\u001b[0m\u001b[0;34m)\u001b[0m\u001b[0;34m:\u001b[0m\u001b[0;34m\u001b[0m\u001b[0;34m\u001b[0m\u001b[0m\n",
      "\u001b[0;32m~/repos/ts_standardscripts/python/lsst/ts/standardscripts/base_group.py\u001b[0m in \u001b[0;36mstandby\u001b[0;34m(self)\u001b[0m\n\u001b[1;32m    137\u001b[0m \u001b[0;34m\u001b[0m\u001b[0m\n\u001b[1;32m    138\u001b[0m         \u001b[0;32mif\u001b[0m \u001b[0merror_flag\u001b[0m\u001b[0;34m:\u001b[0m\u001b[0;34m\u001b[0m\u001b[0;34m\u001b[0m\u001b[0m\n\u001b[0;32m--> 139\u001b[0;31m             \u001b[0;32mraise\u001b[0m \u001b[0mRuntimeError\u001b[0m\u001b[0;34m(\u001b[0m\u001b[0merror_msg\u001b[0m\u001b[0;34m)\u001b[0m\u001b[0;34m\u001b[0m\u001b[0;34m\u001b[0m\u001b[0m\n\u001b[0m\u001b[1;32m    140\u001b[0m         \u001b[0;32melse\u001b[0m\u001b[0;34m:\u001b[0m\u001b[0;34m\u001b[0m\u001b[0;34m\u001b[0m\u001b[0m\n\u001b[1;32m    141\u001b[0m             \u001b[0mself\u001b[0m\u001b[0;34m.\u001b[0m\u001b[0mlog\u001b[0m\u001b[0;34m.\u001b[0m\u001b[0minfo\u001b[0m\u001b[0;34m(\u001b[0m\u001b[0;34m\"All components in standby.\"\u001b[0m\u001b[0;34m)\u001b[0m\u001b[0;34m\u001b[0m\u001b[0;34m\u001b[0m\u001b[0m\n",
      "\u001b[0;31mRuntimeError\u001b[0m: Unable to put athexapod in STANDBY\n"
     ]
    }
   ],
   "source": [
    "await attcs.shutdown()"
   ]
  },
  {
   "cell_type": "code",
   "execution_count": null,
   "metadata": {},
   "outputs": [],
   "source": [
    "await attcs.stop_tracking()"
   ]
  },
  {
   "cell_type": "code",
   "execution_count": null,
   "metadata": {},
   "outputs": [],
   "source": [
    "await attcs.atptg.cmd_stopTracking.start(timeout=5)"
   ]
  },
  {
   "cell_type": "code",
   "execution_count": null,
   "metadata": {},
   "outputs": [],
   "source": [
    "await attcs.point_azel(target_name=\"Park position\",\n",
    "                                  az=attcs.tel_park_az,\n",
    "                                  el=attcs.tel_park_el,\n",
    "                                  wait_dome=False)"
   ]
  },
  {
   "cell_type": "code",
   "execution_count": null,
   "metadata": {},
   "outputs": [],
   "source": [
    "valid_imagetype = [\"BIAS\", \"DARK\", \"FLAT\", \"OBJECT\", \"ENGTEST\"]\n",
    "exptime = 10"
   ]
  },
  {
   "cell_type": "code",
   "execution_count": null,
   "metadata": {},
   "outputs": [],
   "source": [
    "for imgtype in valid_imagetype:\n",
    "    shutter = imgtype in [\"BIAS\", \"DARK\"]\n",
    "    _exptime = exptime if imgtype != \"BIAS\" else 0.\n",
    "    print(f\"{imgtype} : shutter={shutter} : exptime={_exptime}\")"
   ]
  },
  {
   "cell_type": "code",
   "execution_count": 11,
   "metadata": {},
   "outputs": [
    {
     "name": "stdout",
     "output_type": "stream",
     "text": [
      "[atmcs]::[<State.STANDBY: 5>]\n",
      "[atptg]::[<State.STANDBY: 5>]\n",
      "[ataos]::[<State.STANDBY: 5>]\n",
      "[atpneumatics]::[<State.STANDBY: 5>]\n",
      "[athexapod]::[<State.STANDBY: 5>]\n",
      "[atdome]::[<State.ENABLED: 2>, <State.DISABLED: 1>, <State.STANDBY: 5>]\n",
      "[atdometrajectory]::[<State.STANDBY: 5>]\n",
      "All components in standby.\n"
     ]
    }
   ],
   "source": [
    "attcs.check.atdome=True\n",
    "await attcs.standby()"
   ]
  },
  {
   "cell_type": "code",
   "execution_count": 14,
   "metadata": {},
   "outputs": [
    {
     "ename": "AckError",
     "evalue": "msg='Command failed', ackcmd=(ackcmd private_seqNum=1951810940, ack=<SalRetCode.CMD_TIMEOUT: -304>, error=1, result='Timeout')",
     "output_type": "error",
     "traceback": [
      "\u001b[0;31m\u001b[0m",
      "\u001b[0;31mAckError\u001b[0mTraceback (most recent call last)",
      "\u001b[0;32m<ipython-input-14-48dd9d06545a>\u001b[0m in \u001b[0;36masync-def-wrapper\u001b[0;34m()\u001b[0m\n",
      "\u001b[0;32m~/repos/ts_salobj/python/lsst/ts/salobj/topics/remote_command.py\u001b[0m in \u001b[0;36mstart\u001b[0;34m(self, data, timeout, wait_done)\u001b[0m\n\u001b[1;32m    360\u001b[0m         \u001b[0mcmd_info\u001b[0m \u001b[0;34m=\u001b[0m \u001b[0m_CommandInfo\u001b[0m\u001b[0;34m(\u001b[0m\u001b[0mremote_command\u001b[0m\u001b[0;34m=\u001b[0m\u001b[0mself\u001b[0m\u001b[0;34m,\u001b[0m \u001b[0mseq_num\u001b[0m\u001b[0;34m=\u001b[0m\u001b[0mseq_num\u001b[0m\u001b[0;34m,\u001b[0m \u001b[0mwait_done\u001b[0m\u001b[0;34m=\u001b[0m\u001b[0mwait_done\u001b[0m\u001b[0;34m)\u001b[0m\u001b[0;34m\u001b[0m\u001b[0;34m\u001b[0m\u001b[0m\n\u001b[1;32m    361\u001b[0m         \u001b[0mself\u001b[0m\u001b[0;34m.\u001b[0m\u001b[0msalinfo\u001b[0m\u001b[0;34m.\u001b[0m\u001b[0m_running_cmds\u001b[0m\u001b[0;34m[\u001b[0m\u001b[0mseq_num\u001b[0m\u001b[0;34m]\u001b[0m \u001b[0;34m=\u001b[0m \u001b[0mcmd_info\u001b[0m\u001b[0;34m\u001b[0m\u001b[0;34m\u001b[0m\u001b[0m\n\u001b[0;32m--> 362\u001b[0;31m         \u001b[0;32mreturn\u001b[0m \u001b[0;32mawait\u001b[0m \u001b[0mcmd_info\u001b[0m\u001b[0;34m.\u001b[0m\u001b[0mnext_ackcmd\u001b[0m\u001b[0;34m(\u001b[0m\u001b[0mtimeout\u001b[0m\u001b[0;34m=\u001b[0m\u001b[0mtimeout\u001b[0m\u001b[0;34m)\u001b[0m\u001b[0;34m\u001b[0m\u001b[0;34m\u001b[0m\u001b[0m\n\u001b[0m",
      "\u001b[0;32m~/repos/ts_salobj/python/lsst/ts/salobj/topics/remote_command.py\u001b[0m in \u001b[0;36mnext_ackcmd\u001b[0;34m(self, timeout)\u001b[0m\n\u001b[1;32m    163\u001b[0m             \u001b[0;31m# print(f\"next_ackcmd got {ackcmd.ack} from _basic_next_ack\")\u001b[0m\u001b[0;34m\u001b[0m\u001b[0;34m\u001b[0m\u001b[0;34m\u001b[0m\u001b[0m\n\u001b[1;32m    164\u001b[0m             \u001b[0;32mif\u001b[0m \u001b[0mackcmd\u001b[0m\u001b[0;34m.\u001b[0m\u001b[0mack\u001b[0m \u001b[0;32min\u001b[0m \u001b[0mself\u001b[0m\u001b[0;34m.\u001b[0m\u001b[0mfailed_ack_codes\u001b[0m\u001b[0;34m:\u001b[0m\u001b[0;34m\u001b[0m\u001b[0;34m\u001b[0m\u001b[0m\n\u001b[0;32m--> 165\u001b[0;31m                 \u001b[0;32mraise\u001b[0m \u001b[0mbase\u001b[0m\u001b[0;34m.\u001b[0m\u001b[0mAckError\u001b[0m\u001b[0;34m(\u001b[0m\u001b[0mmsg\u001b[0m\u001b[0;34m=\u001b[0m\u001b[0;34m\"Command failed\"\u001b[0m\u001b[0;34m,\u001b[0m \u001b[0mackcmd\u001b[0m\u001b[0;34m=\u001b[0m\u001b[0mackcmd\u001b[0m\u001b[0;34m)\u001b[0m\u001b[0;34m\u001b[0m\u001b[0;34m\u001b[0m\u001b[0m\n\u001b[0m\u001b[1;32m    166\u001b[0m             \u001b[0;32mreturn\u001b[0m \u001b[0mackcmd\u001b[0m\u001b[0;34m\u001b[0m\u001b[0;34m\u001b[0m\u001b[0m\n\u001b[1;32m    167\u001b[0m         \u001b[0;32mexcept\u001b[0m \u001b[0masyncio\u001b[0m\u001b[0;34m.\u001b[0m\u001b[0mTimeoutError\u001b[0m\u001b[0;34m:\u001b[0m\u001b[0;34m\u001b[0m\u001b[0;34m\u001b[0m\u001b[0m\n",
      "\u001b[0;31mAckError\u001b[0m: msg='Command failed', ackcmd=(ackcmd private_seqNum=1951810940, ack=<SalRetCode.CMD_TIMEOUT: -304>, error=1, result='Timeout')"
     ]
    }
   ],
   "source": [
    "await attcs.athexapod.cmd_start.start()"
   ]
  },
  {
   "cell_type": "code",
   "execution_count": null,
   "metadata": {},
   "outputs": [],
   "source": []
  }
 ],
 "metadata": {
  "kernelspec": {
   "display_name": "Python 3",
   "language": "python",
   "name": "python3"
  },
  "language_info": {
   "codemirror_mode": {
    "name": "ipython",
    "version": 3
   },
   "file_extension": ".py",
   "mimetype": "text/x-python",
   "name": "python",
   "nbconvert_exporter": "python",
   "pygments_lexer": "ipython3",
   "version": "3.7.2"
  }
 },
 "nbformat": 4,
 "nbformat_minor": 4
}
