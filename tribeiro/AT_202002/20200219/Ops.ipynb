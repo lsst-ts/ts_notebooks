{
 "cells": [
  {
   "cell_type": "code",
   "execution_count": 1,
   "metadata": {},
   "outputs": [],
   "source": [
    "import os\n",
    "import sys\n",
    "import copy\n",
    "import wget\n",
    "import time\n",
    "import asyncio\n",
    "import warnings\n",
    "import logging\n",
    "from astropy import time as astropytime\n",
    "\n",
    "import astropy.units as u\n",
    "from astropy.coordinates import AltAz, ICRS, EarthLocation, Angle\n",
    "\n",
    "import numpy as np\n",
    "\n",
    "from lsst.ts import salobj\n",
    "from lsst.ts.standardscripts.auxtel.attcs import ATTCS\n",
    "from lsst.ts.standardscripts.auxtel.latiss import LATISS\n",
    "\n",
    "%matplotlib inline"
   ]
  },
  {
   "cell_type": "code",
   "execution_count": 2,
   "metadata": {},
   "outputs": [],
   "source": [
    "stream_handler = logging.StreamHandler(sys.stdout)\n",
    "\n",
    "logger = logging.getLogger()\n",
    "logger.addHandler(stream_handler)\n",
    "logger.level = logging.DEBUG"
   ]
  },
  {
   "cell_type": "code",
   "execution_count": 3,
   "metadata": {},
   "outputs": [],
   "source": [
    "attcs = ATTCS()\n",
    "latiss = LATISS(attcs.domain)"
   ]
  },
  {
   "cell_type": "code",
   "execution_count": 4,
   "metadata": {},
   "outputs": [
    {
     "name": "stdout",
     "output_type": "stream",
     "text": [
      "Read historical data in 0.01 sec\n",
      "Read historical data in 0.29 sec\n",
      "Read historical data in 0.60 sec\n",
      "Read historical data in 1.07 sec\n",
      "Read historical data in 1.27 sec\n",
      "Read historical data in 2.19 sec\n",
      "Read historical data in 2.91 sec\n",
      "Read historical data in 3.68 sec\n",
      "Read historical data in 4.42 sec\n",
      "Read historical data in 5.78 sec\n",
      "Read historical data in 8.04 sec\n",
      "RemoteTelemetry(ATDome, 0, position) falling behind; read 33 messages\n"
     ]
    },
    {
     "data": {
      "text/plain": [
       "[[None, None, None, None, None, None, None], [None, None, None, None]]"
      ]
     },
     "execution_count": 4,
     "metadata": {},
     "output_type": "execute_result"
    }
   ],
   "source": [
    "await asyncio.gather(attcs.start_task, latiss.start_task)"
   ]
  },
  {
   "cell_type": "code",
   "execution_count": 29,
   "metadata": {},
   "outputs": [
    {
     "name": "stdout",
     "output_type": "stream",
     "text": [
      "Slewing to HD 185975: 20 28 18.7402 -87 28 19.938\n",
      "Parallactic angle: -139.38345483752624 | Sky Angle: 130.61654516247376\n",
      "Sending command\n",
      "Stop tracking.\n",
      "Mount tracking state is 8\n",
      "In Position: False.\n",
      "Scheduling check coroutines\n",
      "process as completed...\n",
      "Got False\n",
      "Telescope not in position\n",
      "atmcs: <State.ENABLED: 2>\n",
      "atptg: <State.ENABLED: 2>\n",
      "ataos: <State.ENABLED: 2>\n",
      "atpneumatics: <State.ENABLED: 2>\n",
      "athexapod: <State.ENABLED: 2>\n",
      "atdome: <State.ENABLED: 2>\n",
      "atdometrajectory: <State.ENABLED: 2>\n",
      "[Telescope] delta Alt = +000.004 | delta Az= -000.010 [Dome] delta Az = -003.011\n",
      "[Telescope] delta Alt = +000.004 | delta Az= -000.005 [Dome] delta Az = -003.011\n",
      "[Telescope] delta Alt = +000.004 | delta Az= -000.006 [Dome] delta Az = -003.011\n",
      "[Telescope] delta Alt = +000.005 | delta Az= -000.006 [Dome] delta Az = -003.011\n",
      "[Telescope] delta Alt = +000.004 | delta Az= -000.006 [Dome] delta Az = -003.011\n",
      "[Telescope] delta Alt = +000.004 | delta Az= -000.007 [Dome] delta Az = -003.011\n",
      "[Telescope] delta Alt = +000.004 | delta Az= -000.006 [Dome] delta Az = -003.011\n",
      "[Telescope] delta Alt = +000.004 | delta Az= -000.006 [Dome] delta Az = -003.011\n",
      "[Telescope] delta Alt = +000.004 | delta Az= -000.006 [Dome] delta Az = -003.011\n",
      "[Telescope] delta Alt = +000.004 | delta Az= -000.006 [Dome] delta Az = -003.011\n",
      "[Telescope] delta Alt = +000.004 | delta Az= -000.006 [Dome] delta Az = -003.011\n",
      "[Telescope] delta Alt = +000.004 | delta Az= -000.006 [Dome] delta Az = -003.011\n",
      "[Telescope] delta Alt = +000.004 | delta Az= -000.006 [Dome] delta Az = -003.011\n",
      "[Telescope] delta Alt = +000.004 | delta Az= -000.006 [Dome] delta Az = -003.011\n",
      "[Telescope] delta Alt = +000.004 | delta Az= -000.006 [Dome] delta Az = -003.011\n",
      "[Telescope] delta Alt = +000.004 | delta Az= -000.006 [Dome] delta Az = -003.011\n",
      "[Telescope] delta Alt = +000.004 | delta Az= -000.006 [Dome] delta Az = -003.011\n",
      "[Telescope] delta Alt = +000.004 | delta Az= -000.006 [Dome] delta Az = -003.011\n",
      "[Telescope] delta Alt = +000.004 | delta Az= -000.006 [Dome] delta Az = -003.011\n",
      "[Telescope] delta Alt = +000.004 | delta Az= -000.006 [Dome] delta Az = -003.011\n",
      "[Telescope] delta Alt = +000.004 | delta Az= -000.006 [Dome] delta Az = -003.011\n",
      "[Telescope] delta Alt = +000.004 | delta Az= -000.006 [Dome] delta Az = -003.011\n",
      "[Telescope] delta Alt = +000.004 | delta Az= -000.006 [Dome] delta Az = -003.011\n",
      "[Telescope] delta Alt = +000.004 | delta Az= -000.006 [Dome] delta Az = -003.011\n",
      "[Telescope] delta Alt = +000.004 | delta Az= -000.006 [Dome] delta Az = -003.011\n",
      "[Telescope] delta Alt = +000.004 | delta Az= -000.006 [Dome] delta Az = -003.011\n",
      "[Telescope] delta Alt = +000.004 | delta Az= -000.006 [Dome] delta Az = -003.011\n",
      "[Telescope] delta Alt = +000.004 | delta Az= -000.006 [Dome] delta Az = -003.011\n",
      "[Telescope] delta Alt = +000.004 | delta Az= -000.006 [Dome] delta Az = -003.011\n",
      "Got True\n",
      "Waiting for telescope to settle.\n",
      "[Telescope] delta Alt = +000.004 | delta Az= -000.006 [Dome] delta Az = -003.011\n",
      "[Telescope] delta Alt = +000.004 | delta Az= -000.006 [Dome] delta Az = -003.011\n",
      "Telescope in position.\n",
      "ATDome in position.\n",
      "['Telescope in position.', 'ATDome in position.']\n"
     ]
    }
   ],
   "source": [
    "await attcs.slew_object(\"HD 185975\", pa_ang=270.)"
   ]
  },
  {
   "cell_type": "code",
   "execution_count": 30,
   "metadata": {},
   "outputs": [
    {
     "name": "stdout",
     "output_type": "stream",
     "text": [
      "Generating group_id\n",
      "ENGTEST 0001 - 0001\n",
      "RemoteEvent(ATHeaderService, 0, logMessage) falling behind; read 11 messages\n",
      "Waiting for header service LFO before continuing\n"
     ]
    },
    {
     "data": {
      "text/plain": [
       "array([2020021900310])"
      ]
     },
     "execution_count": 30,
     "metadata": {},
     "output_type": "execute_result"
    },
    {
     "name": "stdout",
     "output_type": "stream",
     "text": [
      "RemoteEvent(ATHeaderService, 0, logMessage) falling behind; read 10 messages\n",
      "RemoteEvent(ATHeaderService, 0, logMessage) falling behind; read 11 messages\n",
      "RemoteEvent(ATHeaderService, 0, logMessage) falling behind; read 11 messages\n"
     ]
    }
   ],
   "source": [
    "await latiss.take_engtest(exptime=5., n=1, filter=\"empty_1\", grating=\"ronchi90lpmm\")"
   ]
  },
  {
   "cell_type": "code",
   "execution_count": 27,
   "metadata": {},
   "outputs": [
    {
     "data": {
      "text/plain": [
       "[<State.FAULT: 3>, <State.STANDBY: 5>, <State.DISABLED: 1>, <State.ENABLED: 2>]"
      ]
     },
     "execution_count": 27,
     "metadata": {},
     "output_type": "execute_result"
    }
   ],
   "source": [
    "await salobj.set_summary_state(attcs.atptg, salobj.State.ENABLED)"
   ]
  },
  {
   "cell_type": "code",
   "execution_count": 28,
   "metadata": {},
   "outputs": [
    {
     "data": {
      "text/plain": [
       "<lsst.ts.salobj.ddsutil.ATPtg_ackcmd_2d655b72 at 0x7fe548c234a8>"
      ]
     },
     "execution_count": 28,
     "metadata": {},
     "output_type": "execute_result"
    }
   ],
   "source": [
    "await attcs.atptg.cmd_focusName.set_start(focus=3)"
   ]
  },
  {
   "cell_type": "code",
   "execution_count": null,
   "metadata": {},
   "outputs": [],
   "source": [
    "await latiss.enable()"
   ]
  },
  {
   "cell_type": "code",
   "execution_count": null,
   "metadata": {},
   "outputs": [],
   "source": [
    "await attcs.slew_dome_to(attcs.dome_flat_az)"
   ]
  },
  {
   "cell_type": "code",
   "execution_count": null,
   "metadata": {},
   "outputs": [],
   "source": [
    "await attcs.stop_tracking()"
   ]
  },
  {
   "cell_type": "code",
   "execution_count": null,
   "metadata": {},
   "outputs": [],
   "source": [
    "await latiss.take_engtest?"
   ]
  },
  {
   "cell_type": "code",
   "execution_count": null,
   "metadata": {},
   "outputs": [],
   "source": [
    "await latiss.take_engtest(exptime=1., n=1, filter=\"BG40\", grating=\"ronchi90lpmm\")"
   ]
  },
  {
   "cell_type": "code",
   "execution_count": null,
   "metadata": {},
   "outputs": [],
   "source": [
    "await latiss.take_bias(nbias=10)"
   ]
  },
  {
   "cell_type": "code",
   "execution_count": null,
   "metadata": {},
   "outputs": [],
   "source": [
    "await latiss.take_engtest(exptime=1., n=1, filter=\"empty_1\", grating=\"empty_1\")"
   ]
  },
  {
   "cell_type": "code",
   "execution_count": null,
   "metadata": {},
   "outputs": [],
   "source": [
    "for comp in attcs.components:\n",
    "    await attcs._remotes[comp].cmd_disable.start()"
   ]
  },
  {
   "cell_type": "code",
   "execution_count": null,
   "metadata": {},
   "outputs": [],
   "source": []
  },
  {
   "cell_type": "code",
   "execution_count": null,
   "metadata": {},
   "outputs": [],
   "source": []
  },
  {
   "cell_type": "code",
   "execution_count": null,
   "metadata": {},
   "outputs": [],
   "source": [
    "from lsst.ts.standardscripts.auxtel.detector_characterization import ATGetStdFlatDataset"
   ]
  },
  {
   "cell_type": "code",
   "execution_count": null,
   "metadata": {},
   "outputs": [],
   "source": [
    "script.set_state(Script.ScriptState.UNCONFIGURED)\n",
    "\n",
    "config = types.SimpleNamespace(**kwargs)\n",
    "config_data = self.script.cmd_configure.DataType()\n",
    "\n",
    "if kwargs:\n",
    "    config_data.config = yaml.safe_dump(kwargs)\n",
    "\n",
    "await self.script.do_configure(config_data)\n",
    "\n"
   ]
  },
  {
   "cell_type": "code",
   "execution_count": null,
   "metadata": {},
   "outputs": [],
   "source": [
    "flat_exp_times = []  # define flat exptimes\n",
    "\n",
    "await latiss.take_bias(nbias=nbias)\n",
    "\n",
    "for flat_exp_time in flat_exp_times:\n",
    "    await latiss.take_flats(exptime=flat_exp_time,\n",
    "                            nflats=2)\n",
    "\n",
    "await latiss.take_bias(nbias=n_bias)\n",
    "\n",
    "await latiss.take_darks(exptime=t_dark,ndarks=n_dark)\n"
   ]
  },
  {
   "cell_type": "code",
   "execution_count": null,
   "metadata": {},
   "outputs": [],
   "source": [
    "await attcs.atdome.cmd_openShutter.start()"
   ]
  },
  {
   "cell_type": "code",
   "execution_count": null,
   "metadata": {},
   "outputs": [],
   "source": [
    "await salobj.set_summary_state(attcs.atdome, salobj.State.STANDBY)"
   ]
  },
  {
   "cell_type": "code",
   "execution_count": null,
   "metadata": {},
   "outputs": [],
   "source": [
    "await salobj.set_summary_state(attcs.atdome, salobj.State.ENABLED, settingsToApply=\"test\")"
   ]
  },
  {
   "cell_type": "code",
   "execution_count": null,
   "metadata": {},
   "outputs": [],
   "source": [
    "await attcs.atdome.cmd_moveAzimuth.set_start(azimuth=180)"
   ]
  },
  {
   "cell_type": "code",
   "execution_count": null,
   "metadata": {},
   "outputs": [],
   "source": [
    "await attcs.open_m1_cover()"
   ]
  },
  {
   "cell_type": "code",
   "execution_count": null,
   "metadata": {},
   "outputs": [],
   "source": [
    "await attcs.ataos.cmd_enableCorrection.set_start(m1=True, hexapod=True,\n",
    "                                                            timeout=attcs.long_timeout)"
   ]
  },
  {
   "cell_type": "code",
   "execution_count": 8,
   "metadata": {},
   "outputs": [
    {
     "data": {
      "text/plain": [
       "<lsst.ts.salobj.ddsutil.ATPtg_ackcmd_2d655b72 at 0x7fe5415f29b0>"
      ]
     },
     "execution_count": 8,
     "metadata": {},
     "output_type": "execute_result"
    }
   ],
   "source": [
    "await attcs.atptg.cmd_focusName.set_start(focus=3)"
   ]
  },
  {
   "cell_type": "code",
   "execution_count": null,
   "metadata": {},
   "outputs": [],
   "source": [
    "await salobj.set_summary_state(attcs.atdometrajectory, salobj.State.ENABLED)"
   ]
  },
  {
   "cell_type": "code",
   "execution_count": null,
   "metadata": {},
   "outputs": [],
   "source": [
    "await attcs.atptg.cmd_pointLoadModel.set_start(pointingFile=\"\")"
   ]
  },
  {
   "cell_type": "code",
   "execution_count": null,
   "metadata": {},
   "outputs": [],
   "source": []
  },
  {
   "cell_type": "code",
   "execution_count": null,
   "metadata": {},
   "outputs": [],
   "source": [
    "rot_pa = Angle(palpy.pa(lha.radian, cmd_radec.dec.radian, location.lat.radian)*u.radian)"
   ]
  }
 ],
 "metadata": {
  "kernelspec": {
   "display_name": "Python 3",
   "language": "python",
   "name": "python3"
  },
  "language_info": {
   "codemirror_mode": {
    "name": "ipython",
    "version": 3
   },
   "file_extension": ".py",
   "mimetype": "text/x-python",
   "name": "python",
   "nbconvert_exporter": "python",
   "pygments_lexer": "ipython3",
   "version": "3.7.2"
  }
 },
 "nbformat": 4,
 "nbformat_minor": 4
}
