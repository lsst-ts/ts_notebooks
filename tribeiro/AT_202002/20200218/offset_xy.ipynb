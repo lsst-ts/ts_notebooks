{
 "cells": [
  {
   "cell_type": "code",
   "execution_count": 1,
   "metadata": {},
   "outputs": [],
   "source": [
    "import os\n",
    "import sys\n",
    "import copy\n",
    "import wget\n",
    "import time\n",
    "import asyncio\n",
    "import warnings\n",
    "import logging\n",
    "from astropy import time as astropytime\n",
    "\n",
    "import astropy.units as u\n",
    "from astropy.coordinates import AltAz, ICRS, EarthLocation, Angle\n",
    "\n",
    "import numpy as np\n",
    "\n",
    "from lsst.ts import salobj\n",
    "from lsst.ts.standardscripts.auxtel.attcs import ATTCS\n",
    "from lsst.ts.standardscripts.auxtel.latiss import LATISS\n",
    "\n",
    "%matplotlib inline"
   ]
  },
  {
   "cell_type": "code",
   "execution_count": 2,
   "metadata": {},
   "outputs": [],
   "source": [
    "stream_handler = logging.StreamHandler(sys.stdout)\n",
    "\n",
    "logger = logging.getLogger()\n",
    "logger.addHandler(stream_handler)\n",
    "logger.level = logging.DEBUG"
   ]
  },
  {
   "cell_type": "code",
   "execution_count": 3,
   "metadata": {},
   "outputs": [],
   "source": [
    "attcs = ATTCS()\n",
    "latiss = LATISS(attcs.domain)"
   ]
  },
  {
   "cell_type": "code",
   "execution_count": 4,
   "metadata": {},
   "outputs": [
    {
     "name": "stdout",
     "output_type": "stream",
     "text": [
      "Read historical data in 0.01 sec\n",
      "Read historical data in 0.31 sec\n",
      "Read historical data in 1.01 sec\n",
      "Read historical data in 1.82 sec\n",
      "Read historical data in 2.03 sec\n",
      "Read historical data in 2.27 sec\n",
      "Read historical data in 3.22 sec\n",
      "Read historical data in 3.75 sec\n",
      "Read historical data in 4.07 sec\n",
      "Read historical data in 5.18 sec\n",
      "Read historical data in 5.89 sec\n",
      "RemoteEvent(ATDomeTrajectory, 0, logMessage) falling behind; read 100 messages\n",
      "RemoteTelemetry(ATDome, 0, position) falling behind; read 22 messages\n",
      "RemoteTelemetry(ATPtg, 0, timeAndDate) falling behind; read 10 messages\n"
     ]
    },
    {
     "data": {
      "text/plain": [
       "[[None, None, None, None, None, None, None], [None, None, None, None]]"
      ]
     },
     "execution_count": 4,
     "metadata": {},
     "output_type": "execute_result"
    },
    {
     "name": "stdout",
     "output_type": "stream",
     "text": [
      "RemoteTelemetry(ATPtg, 0, mountStatus) falling behind; read 11 messages\n",
      "RemoteTelemetry(ATPtg, 0, guidingAndOffsets) falling behind; read 11 messages\n",
      "RemoteEvent(ATMCS, 0, target) falling behind; read 31 messages\n",
      "RemoteTelemetry(ATPtg, 0, currentTargetStatus) falling behind; read 12 messages\n"
     ]
    }
   ],
   "source": [
    "await asyncio.gather(attcs.start_task, latiss.start_task)"
   ]
  },
  {
   "cell_type": "code",
   "execution_count": null,
   "metadata": {},
   "outputs": [],
   "source": [
    "await attcs.stop_tracking()"
   ]
  },
  {
   "cell_type": "code",
   "execution_count": null,
   "metadata": {},
   "outputs": [],
   "source": [
    "await attcs.slew_object(name=\"HD 87983\", rot_sky=0.)"
   ]
  },
  {
   "cell_type": "code",
   "execution_count": null,
   "metadata": {},
   "outputs": [],
   "source": [
    "await attcs.atmcs.cmd_startTracking.start()"
   ]
  },
  {
   "cell_type": "code",
   "execution_count": 5,
   "metadata": {},
   "outputs": [
    {
     "name": "stdout",
     "output_type": "stream",
     "text": [
      "Applying x/y offset: 0.0/ 0.0 \n",
      "Applying Az/El offset: 0.0/ 0.0 \n",
      "Waiting for telescope to settle.\n",
      "Done\n"
     ]
    }
   ],
   "source": [
    "await attcs.offset_xy(x=0., y=0.)"
   ]
  },
  {
   "cell_type": "code",
   "execution_count": 7,
   "metadata": {},
   "outputs": [
    {
     "name": "stdout",
     "output_type": "stream",
     "text": [
      "Generating group_id\n",
      "OBJECT 0001 - 0001\n",
      "Waiting for header service LFO before continuing\n"
     ]
    },
    {
     "data": {
      "text/plain": [
       "array([2020021800065])"
      ]
     },
     "execution_count": 7,
     "metadata": {},
     "output_type": "execute_result"
    }
   ],
   "source": [
    "await latiss.take_object(exptime=5., n=1, filter='KPNO_406_828nm', grating='empty_1')"
   ]
  },
  {
   "cell_type": "code",
   "execution_count": 8,
   "metadata": {},
   "outputs": [
    {
     "name": "stdout",
     "output_type": "stream",
     "text": [
      "Applying x/y offset: 30.0/ 0.0 \n",
      "Applying Az/El offset: -7.016928444445245/ -29.167836999090884 \n",
      "Waiting for telescope to settle.\n",
      "Done\n"
     ]
    }
   ],
   "source": [
    "await attcs.offset_xy(x=30., y=0.)"
   ]
  },
  {
   "cell_type": "code",
   "execution_count": 9,
   "metadata": {},
   "outputs": [
    {
     "name": "stdout",
     "output_type": "stream",
     "text": [
      "Generating group_id\n",
      "OBJECT 0001 - 0001\n",
      "Waiting for header service LFO before continuing\n",
      "RemoteEvent(ATHeaderService, 0, logMessage) falling behind; read 10 messages\n"
     ]
    },
    {
     "data": {
      "text/plain": [
       "array([2020021800066])"
      ]
     },
     "execution_count": 9,
     "metadata": {},
     "output_type": "execute_result"
    }
   ],
   "source": [
    "await latiss.take_object(exptime=5., n=1, filter='KPNO_406_828nm', grating='empty_1')"
   ]
  },
  {
   "cell_type": "code",
   "execution_count": 10,
   "metadata": {},
   "outputs": [
    {
     "name": "stdout",
     "output_type": "stream",
     "text": [
      "Applying x/y offset: 0.0/ 30.0 \n",
      "Applying Az/El offset: -29.208942834242198/ 6.843804388348013 \n",
      "Waiting for telescope to settle.\n",
      "Done\n"
     ]
    }
   ],
   "source": [
    "await attcs.offset_xy(x=0., y=30.)"
   ]
  },
  {
   "cell_type": "code",
   "execution_count": 11,
   "metadata": {},
   "outputs": [
    {
     "name": "stdout",
     "output_type": "stream",
     "text": [
      "Generating group_id\n",
      "OBJECT 0001 - 0001\n",
      "Waiting for header service LFO before continuing\n"
     ]
    },
    {
     "data": {
      "text/plain": [
       "array([2020021800067])"
      ]
     },
     "execution_count": 11,
     "metadata": {},
     "output_type": "execute_result"
    }
   ],
   "source": [
    "await latiss.take_object(exptime=5., n=1, filter='KPNO_406_828nm', grating='empty_1')"
   ]
  },
  {
   "cell_type": "code",
   "execution_count": 12,
   "metadata": {},
   "outputs": [
    {
     "name": "stdout",
     "output_type": "stream",
     "text": [
      "Slewing to HD 87983: 10 07 45.8664 -40 36 14.561\n",
      "Sending command\n",
      "Stop tracking.\n",
      "Mount tracking state is 9\n",
      "Tracking state: 10.\n",
      "Tracking state: 8.\n",
      "In Position: True.\n",
      "In Position: False.\n",
      "Scheduling check coroutines\n",
      "process as completed...\n",
      "Got False\n",
      "Telescope not in position\n",
      "atmcs: <State.ENABLED: 2>\n",
      "atptg: <State.ENABLED: 2>\n",
      "ataos: <State.ENABLED: 2>\n",
      "atpneumatics: <State.ENABLED: 2>\n",
      "athexapod: <State.ENABLED: 2>\n",
      "atdome: <State.ENABLED: 2>\n",
      "atdometrajectory: <State.ENABLED: 2>\n",
      "[Telescope] delta Alt = +000.127 | delta Az= +000.011 [Dome] delta Az = +002.922\n",
      "[Telescope] delta Alt = +000.114 | delta Az= +000.022 [Dome] delta Az = +002.922\n",
      "[Telescope] delta Alt = +000.114 | delta Az= +000.023 [Dome] delta Az = +002.922\n",
      "[Telescope] delta Alt = +000.114 | delta Az= +000.022 [Dome] delta Az = +002.922\n",
      "[Telescope] delta Alt = +000.115 | delta Az= +000.021 [Dome] delta Az = +002.922\n",
      "[Telescope] delta Alt = +000.115 | delta Az= +000.021 [Dome] delta Az = +002.922\n",
      "[Telescope] delta Alt = +000.115 | delta Az= +000.021 [Dome] delta Az = +002.922\n",
      "[Telescope] delta Alt = +000.114 | delta Az= +000.021 [Dome] delta Az = +002.922\n",
      "[Telescope] delta Alt = +000.114 | delta Az= +000.021 [Dome] delta Az = +002.922\n",
      "[Telescope] delta Alt = +000.115 | delta Az= +000.021 [Dome] delta Az = +002.922\n",
      "[Telescope] delta Alt = +000.117 | delta Az= +000.022 [Dome] delta Az = +002.922\n",
      "[Telescope] delta Alt = +000.115 | delta Az= +000.021 [Dome] delta Az = +002.922\n",
      "[Telescope] delta Alt = +000.115 | delta Az= +000.021 [Dome] delta Az = +002.922\n",
      "[Telescope] delta Alt = +000.114 | delta Az= +000.021 [Dome] delta Az = +002.922\n",
      "[Telescope] delta Alt = +000.114 | delta Az= +000.021 [Dome] delta Az = +002.922\n",
      "[Telescope] delta Alt = +000.115 | delta Az= +000.021 [Dome] delta Az = +002.922\n",
      "[Telescope] delta Alt = +000.115 | delta Az= +000.021 [Dome] delta Az = +002.922\n",
      "[Telescope] delta Alt = +000.115 | delta Az= +000.021 [Dome] delta Az = +002.922\n",
      "[Telescope] delta Alt = +000.114 | delta Az= +000.021 [Dome] delta Az = +002.922\n",
      "Got True\n",
      "Waiting for telescope to settle.\n",
      "[Telescope] delta Alt = +000.115 | delta Az= +000.021 [Dome] delta Az = +002.922\n",
      "Telescope in position.\n",
      "ATDome in position.\n",
      "['Telescope in position.', 'ATDome in position.']\n"
     ]
    }
   ],
   "source": [
    "await attcs.slew_object(name=\"HD 87983\", rot_sky=45.)"
   ]
  },
  {
   "cell_type": "code",
   "execution_count": null,
   "metadata": {},
   "outputs": [],
   "source": [
    "await attcs.offset_xy(x=0., y=0.)"
   ]
  },
  {
   "cell_type": "code",
   "execution_count": 13,
   "metadata": {},
   "outputs": [
    {
     "name": "stdout",
     "output_type": "stream",
     "text": [
      "Generating group_id\n",
      "OBJECT 0001 - 0001\n",
      "Waiting for header service LFO before continuing\n",
      "RemoteEvent(ATHeaderService, 0, logMessage) falling behind; read 10 messages\n"
     ]
    },
    {
     "data": {
      "text/plain": [
       "array([2020021800068])"
      ]
     },
     "execution_count": 13,
     "metadata": {},
     "output_type": "execute_result"
    }
   ],
   "source": [
    "await latiss.take_object(exptime=5., n=1, filter='KPNO_406_828nm', grating='empty_1')"
   ]
  },
  {
   "cell_type": "code",
   "execution_count": 14,
   "metadata": {},
   "outputs": [
    {
     "name": "stdout",
     "output_type": "stream",
     "text": [
      "Applying x/y offset: 30.0/ 0.0 \n",
      "Applying Az/El offset: -25.108187894017213/ -16.418858080838852 \n",
      "Waiting for telescope to settle.\n",
      "Done\n"
     ]
    }
   ],
   "source": [
    "await attcs.offset_xy(x=30., y=0.)"
   ]
  },
  {
   "cell_type": "code",
   "execution_count": 15,
   "metadata": {},
   "outputs": [
    {
     "name": "stdout",
     "output_type": "stream",
     "text": [
      "Generating group_id\n",
      "OBJECT 0001 - 0001\n",
      "Waiting for header service LFO before continuing\n",
      "RemoteEvent(ATHeaderService, 0, logMessage) falling behind; read 10 messages\n"
     ]
    },
    {
     "data": {
      "text/plain": [
       "array([2020021800069])"
      ]
     },
     "execution_count": 15,
     "metadata": {},
     "output_type": "execute_result"
    }
   ],
   "source": [
    "await latiss.take_object(exptime=5., n=1, filter='KPNO_406_828nm', grating='empty_1')"
   ]
  },
  {
   "cell_type": "code",
   "execution_count": 16,
   "metadata": {},
   "outputs": [
    {
     "name": "stdout",
     "output_type": "stream",
     "text": [
      "Applying x/y offset: 0.0/ 30.0 \n",
      "Applying Az/El offset: -16.588805725625694/ 24.996230207722288 \n",
      "Waiting for telescope to settle.\n",
      "Done\n"
     ]
    }
   ],
   "source": [
    "await attcs.offset_xy(x=0., y=30.)"
   ]
  },
  {
   "cell_type": "code",
   "execution_count": 17,
   "metadata": {},
   "outputs": [
    {
     "name": "stdout",
     "output_type": "stream",
     "text": [
      "Generating group_id\n",
      "OBJECT 0001 - 0001\n",
      "Waiting for header service LFO before continuing\n"
     ]
    },
    {
     "data": {
      "text/plain": [
       "array([2020021800070])"
      ]
     },
     "execution_count": 17,
     "metadata": {},
     "output_type": "execute_result"
    }
   ],
   "source": [
    "await latiss.take_object(exptime=5., n=1, filter='KPNO_406_828nm', grating='empty_1')"
   ]
  },
  {
   "cell_type": "code",
   "execution_count": 18,
   "metadata": {},
   "outputs": [
    {
     "name": "stdout",
     "output_type": "stream",
     "text": [
      "Slewing to HD 87983: 10 07 45.8664 -40 36 14.561\n",
      "Sending command\n",
      "Stop tracking.\n",
      "Mount tracking state is 9\n",
      "Tracking state: 10.\n",
      "Tracking state: 8.\n",
      "In Position: True.\n",
      "In Position: False.\n",
      "Scheduling check coroutines\n",
      "process as completed...\n",
      "Got False\n",
      "Telescope not in position\n",
      "atmcs: <State.ENABLED: 2>\n",
      "atptg: <State.ENABLED: 2>\n",
      "ataos: <State.ENABLED: 2>\n",
      "atpneumatics: <State.ENABLED: 2>\n",
      "athexapod: <State.ENABLED: 2>\n",
      "atdome: <State.ENABLED: 2>\n",
      "atdometrajectory: <State.ENABLED: 2>\n",
      "[Telescope] delta Alt = +000.114 | delta Az= +000.022 [Dome] delta Az = +002.922\n",
      "[Telescope] delta Alt = +000.115 | delta Az= +000.024 [Dome] delta Az = +002.922\n",
      "[Telescope] delta Alt = +000.115 | delta Az= +000.025 [Dome] delta Az = +002.922\n",
      "[Telescope] delta Alt = +000.115 | delta Az= +000.024 [Dome] delta Az = +002.922\n",
      "[Telescope] delta Alt = +000.114 | delta Az= +000.023 [Dome] delta Az = +002.922\n",
      "[Telescope] delta Alt = +000.114 | delta Az= +000.023 [Dome] delta Az = +002.922\n",
      "[Telescope] delta Alt = +000.115 | delta Az= +000.023 [Dome] delta Az = +002.922\n",
      "[Telescope] delta Alt = +000.115 | delta Az= +000.023 [Dome] delta Az = +002.922\n",
      "[Telescope] delta Alt = +000.115 | delta Az= +000.023 [Dome] delta Az = +002.922\n",
      "[Telescope] delta Alt = +000.114 | delta Az= +000.023 [Dome] delta Az = +002.922\n",
      "[Telescope] delta Alt = +000.114 | delta Az= +000.023 [Dome] delta Az = +002.922\n",
      "[Telescope] delta Alt = +000.115 | delta Az= +000.023 [Dome] delta Az = +002.922\n",
      "[Telescope] delta Alt = +000.114 | delta Az= +000.023 [Dome] delta Az = +002.922\n",
      "[Telescope] delta Alt = +000.115 | delta Az= +000.023 [Dome] delta Az = +002.922\n",
      "[Telescope] delta Alt = +000.115 | delta Az= +000.024 [Dome] delta Az = +002.922\n",
      "[Telescope] delta Alt = +000.114 | delta Az= +000.023 [Dome] delta Az = +002.922\n",
      "[Telescope] delta Alt = +000.114 | delta Az= +000.023 [Dome] delta Az = +002.922\n",
      "[Telescope] delta Alt = +000.115 | delta Az= +000.024 [Dome] delta Az = +002.922\n",
      "[Telescope] delta Alt = +000.115 | delta Az= +000.024 [Dome] delta Az = +002.922\n",
      "Got True\n",
      "Waiting for telescope to settle.\n",
      "[Telescope] delta Alt = +000.117 | delta Az= +000.024 [Dome] delta Az = +002.922\n",
      "[Telescope] delta Alt = +000.115 | delta Az= +000.024 [Dome] delta Az = +002.922\n",
      "Telescope in position.\n",
      "ATDome in position.\n",
      "['Telescope in position.', 'ATDome in position.']\n"
     ]
    }
   ],
   "source": [
    "await attcs.slew_object(name=\"HD 87983\", rot_sky=90.)"
   ]
  },
  {
   "cell_type": "code",
   "execution_count": 19,
   "metadata": {},
   "outputs": [
    {
     "name": "stdout",
     "output_type": "stream",
     "text": [
      "Generating group_id\n",
      "OBJECT 0001 - 0001\n",
      "Waiting for header service LFO before continuing\n"
     ]
    },
    {
     "data": {
      "text/plain": [
       "array([2020021800071])"
      ]
     },
     "execution_count": 19,
     "metadata": {},
     "output_type": "execute_result"
    }
   ],
   "source": [
    "await latiss.take_object(exptime=5., n=1, filter='KPNO_406_828nm', grating='empty_1')"
   ]
  },
  {
   "cell_type": "code",
   "execution_count": 21,
   "metadata": {},
   "outputs": [
    {
     "name": "stdout",
     "output_type": "stream",
     "text": [
      "Applying x/y offset: 30.0/ 0.0 \n",
      "Applying Az/El offset: -29.513881005575353/ 5.378738512768436 \n",
      "Waiting for telescope to settle.\n",
      "Done\n"
     ]
    }
   ],
   "source": [
    "await attcs.offset_xy(x=30., y=0.)"
   ]
  },
  {
   "cell_type": "code",
   "execution_count": 22,
   "metadata": {},
   "outputs": [
    {
     "name": "stdout",
     "output_type": "stream",
     "text": [
      "Generating group_id\n",
      "OBJECT 0001 - 0001\n",
      "Waiting for header service LFO before continuing\n",
      "RemoteEvent(ATHeaderService, 0, logMessage) falling behind; read 10 messages\n"
     ]
    },
    {
     "data": {
      "text/plain": [
       "array([2020021800072])"
      ]
     },
     "execution_count": 22,
     "metadata": {},
     "output_type": "execute_result"
    }
   ],
   "source": [
    "await latiss.take_object(exptime=5., n=1, filter='KPNO_406_828nm', grating='empty_1')"
   ]
  },
  {
   "cell_type": "code",
   "execution_count": 23,
   "metadata": {},
   "outputs": [
    {
     "name": "stdout",
     "output_type": "stream",
     "text": [
      "Applying x/y offset: 0.0/ 30.0 \n",
      "Applying Az/El offset: 5.26192103334817/ 29.53493164100449 \n",
      "Waiting for telescope to settle.\n",
      "Done\n"
     ]
    }
   ],
   "source": [
    "await attcs.offset_xy(x=0., y=30.)"
   ]
  },
  {
   "cell_type": "code",
   "execution_count": 24,
   "metadata": {},
   "outputs": [
    {
     "name": "stdout",
     "output_type": "stream",
     "text": [
      "Generating group_id\n",
      "OBJECT 0001 - 0001\n",
      "Waiting for header service LFO before continuing\n"
     ]
    },
    {
     "data": {
      "text/plain": [
       "array([2020021800073])"
      ]
     },
     "execution_count": 24,
     "metadata": {},
     "output_type": "execute_result"
    }
   ],
   "source": [
    "await latiss.take_object(exptime=5., n=1, filter='KPNO_406_828nm', grating='empty_1')"
   ]
  },
  {
   "cell_type": "code",
   "execution_count": 26,
   "metadata": {},
   "outputs": [
    {
     "name": "stdout",
     "output_type": "stream",
     "text": [
      "Slewing to HD 68601: 08 11 25.8917 -42 59 14.198\n",
      "Sending command\n",
      "Stop tracking.\n",
      "Mount tracking state is 8\n",
      "In Position: False.\n",
      "Scheduling check coroutines\n",
      "process as completed...\n",
      "Got False\n",
      "Telescope not in position\n",
      "atmcs: <State.ENABLED: 2>\n",
      "atptg: <State.ENABLED: 2>\n",
      "ataos: <State.ENABLED: 2>\n",
      "atpneumatics: <State.ENABLED: 2>\n",
      "athexapod: <State.ENABLED: 2>\n",
      "atdome: <State.ENABLED: 2>\n",
      "atdometrajectory: <State.ENABLED: 2>\n",
      "[Telescope] delta Alt = +017.810 | delta Az= +034.707 [Dome] delta Az = +038.242\n",
      "[Telescope] delta Alt = +017.315 | delta Az= +032.660 [Dome] delta Az = +037.592\n",
      "[Telescope] delta Alt = +015.496 | delta Az= +028.690 [Dome] delta Az = +036.022\n",
      "[Telescope] delta Alt = +012.356 | delta Az= +024.741 [Dome] delta Az = +033.512\n",
      "[Telescope] delta Alt = +008.466 | delta Az= +020.868 [Dome] delta Az = +030.452\n",
      "[Telescope] delta Alt = +004.687 | delta Az= +017.139 [Dome] delta Az = +026.192\n",
      "[Telescope] delta Alt = +001.830 | delta Az= +013.634 [Dome] delta Az = +021.022\n",
      "[Telescope] delta Alt = +000.356 | delta Az= +010.432 [Dome] delta Az = +014.942\n",
      "[Telescope] delta Alt = +000.057 | delta Az= +007.609 [Dome] delta Az = +008.842\n",
      "[Telescope] delta Alt = +000.057 | delta Az= +005.229 [Dome] delta Az = +001.572\n",
      "[Telescope] delta Alt = +000.057 | delta Az= +003.337 [Dome] delta Az = -001.958\n",
      "[Telescope] delta Alt = +000.057 | delta Az= +001.943 [Dome] delta Az = -002.968\n",
      "[Telescope] delta Alt = +000.057 | delta Az= +001.039 [Dome] delta Az = -002.968\n",
      "[Telescope] delta Alt = +000.057 | delta Az= +000.557 [Dome] delta Az = -002.968\n",
      "[Telescope] delta Alt = +000.057 | delta Az= +000.394 [Dome] delta Az = -002.968\n",
      "[Telescope] delta Alt = +000.057 | delta Az= +000.382 [Dome] delta Az = -002.968\n",
      "Got True\n",
      "Waiting for telescope to settle.\n",
      "[Telescope] delta Alt = +000.056 | delta Az= +000.380 [Dome] delta Az = -002.968\n",
      "[Telescope] delta Alt = +000.056 | delta Az= +000.380 [Dome] delta Az = -002.968\n",
      "Telescope in position.\n",
      "ATDome in position.\n",
      "['Telescope in position.', 'ATDome in position.']\n"
     ]
    }
   ],
   "source": [
    "await attcs.slew_object(name=\"HD 68601\", rot_sky=-180.)"
   ]
  },
  {
   "cell_type": "code",
   "execution_count": 27,
   "metadata": {},
   "outputs": [
    {
     "name": "stdout",
     "output_type": "stream",
     "text": [
      "Generating group_id\n",
      "OBJECT 0001 - 0001\n",
      "Waiting for header service LFO before continuing\n"
     ]
    },
    {
     "data": {
      "text/plain": [
       "array([2020021800074])"
      ]
     },
     "execution_count": 27,
     "metadata": {},
     "output_type": "execute_result"
    }
   ],
   "source": [
    "await latiss.take_object(exptime=5., n=1, filter='KPNO_406_828nm', grating='empty_1')"
   ]
  },
  {
   "cell_type": "code",
   "execution_count": 28,
   "metadata": {},
   "outputs": [
    {
     "name": "stdout",
     "output_type": "stream",
     "text": [
      "Applying x/y offset: 30.0/ 0.0 \n",
      "Applying Az/El offset: -29.472868813443295/ 5.599107420434242 \n",
      "Waiting for telescope to settle.\n",
      "Done\n"
     ]
    }
   ],
   "source": [
    "await attcs.offset_xy(x=30., y=0.)"
   ]
  },
  {
   "cell_type": "code",
   "execution_count": 29,
   "metadata": {},
   "outputs": [
    {
     "name": "stdout",
     "output_type": "stream",
     "text": [
      "Generating group_id\n",
      "OBJECT 0001 - 0001\n",
      "Waiting for header service LFO before continuing\n",
      "RemoteEvent(ATHeaderService, 0, logMessage) falling behind; read 12 messages\n"
     ]
    },
    {
     "data": {
      "text/plain": [
       "array([2020021800075])"
      ]
     },
     "execution_count": 29,
     "metadata": {},
     "output_type": "execute_result"
    }
   ],
   "source": [
    "await latiss.take_object(exptime=5., n=1, filter='KPNO_406_828nm', grating='empty_1')"
   ]
  },
  {
   "cell_type": "code",
   "execution_count": 30,
   "metadata": {},
   "outputs": [
    {
     "name": "stdout",
     "output_type": "stream",
     "text": [
      "Applying x/y offset: 0.0/ 30.0 \n",
      "Applying Az/El offset: 5.2445881627080855/ 29.538014405230122 \n",
      "Waiting for telescope to settle.\n",
      "Done\n"
     ]
    }
   ],
   "source": [
    "await attcs.offset_xy(x=0., y=30.)"
   ]
  },
  {
   "cell_type": "code",
   "execution_count": 31,
   "metadata": {},
   "outputs": [
    {
     "name": "stdout",
     "output_type": "stream",
     "text": [
      "Generating group_id\n",
      "OBJECT 0001 - 0001\n",
      "Waiting for header service LFO before continuing\n"
     ]
    },
    {
     "data": {
      "text/plain": [
       "array([2020021800076])"
      ]
     },
     "execution_count": 31,
     "metadata": {},
     "output_type": "execute_result"
    }
   ],
   "source": [
    "await latiss.take_object(exptime=5., n=1, filter='KPNO_406_828nm', grating='empty_1')"
   ]
  },
  {
   "cell_type": "code",
   "execution_count": 32,
   "metadata": {},
   "outputs": [
    {
     "name": "stdout",
     "output_type": "stream",
     "text": [
      "Slewing to HD 68601: 08 11 25.8917 -42 59 14.198\n",
      "Sending command\n",
      "Stop tracking.\n",
      "Mount tracking state is 9\n",
      "Tracking state: 10.\n",
      "Tracking state: 8.\n",
      "In Position: True.\n",
      "In Position: False.\n",
      "Scheduling check coroutines\n",
      "process as completed...\n",
      "Got False\n",
      "Telescope not in position\n",
      "atmcs: <State.ENABLED: 2>\n",
      "atptg: <State.ENABLED: 2>\n",
      "ataos: <State.ENABLED: 2>\n",
      "atpneumatics: <State.ENABLED: 2>\n",
      "athexapod: <State.ENABLED: 2>\n",
      "atdome: <State.ENABLED: 2>\n",
      "atdometrajectory: <State.ENABLED: 2>\n",
      "[Telescope] delta Alt = +000.058 | delta Az= +000.440 [Dome] delta Az = -002.968\n",
      "[Telescope] delta Alt = +000.053 | delta Az= +000.395 [Dome] delta Az = -002.968\n",
      "[Telescope] delta Alt = +000.053 | delta Az= +000.396 [Dome] delta Az = -002.968\n",
      "[Telescope] delta Alt = +000.053 | delta Az= +000.396 [Dome] delta Az = -002.968\n",
      "[Telescope] delta Alt = +000.053 | delta Az= +000.397 [Dome] delta Az = -002.968\n",
      "[Telescope] delta Alt = +000.054 | delta Az= +000.407 [Dome] delta Az = -002.968\n",
      "[Telescope] delta Alt = +000.053 | delta Az= +000.398 [Dome] delta Az = -002.968\n",
      "[Telescope] delta Alt = +000.053 | delta Az= +000.397 [Dome] delta Az = -002.968\n",
      "[Telescope] delta Alt = +000.052 | delta Az= +000.397 [Dome] delta Az = -002.968\n",
      "[Telescope] delta Alt = +000.053 | delta Az= +000.397 [Dome] delta Az = -002.968\n",
      "[Telescope] delta Alt = +000.054 | delta Az= +000.407 [Dome] delta Az = -002.968\n",
      "[Telescope] delta Alt = +000.053 | delta Az= +000.398 [Dome] delta Az = -002.968\n",
      "[Telescope] delta Alt = +000.053 | delta Az= +000.399 [Dome] delta Az = -002.968\n",
      "[Telescope] delta Alt = +000.052 | delta Az= +000.397 [Dome] delta Az = -002.968\n",
      "[Telescope] delta Alt = +000.052 | delta Az= +000.398 [Dome] delta Az = -002.968\n",
      "[Telescope] delta Alt = +000.052 | delta Az= +000.399 [Dome] delta Az = -002.968\n",
      "[Telescope] delta Alt = +000.052 | delta Az= +000.399 [Dome] delta Az = -002.968\n",
      "[Telescope] delta Alt = +000.052 | delta Az= +000.398 [Dome] delta Az = -002.968\n",
      "[Telescope] delta Alt = +000.052 | delta Az= +000.398 [Dome] delta Az = -002.968\n",
      "Got True\n",
      "Waiting for telescope to settle.\n",
      "[Telescope] delta Alt = +000.052 | delta Az= +000.399 [Dome] delta Az = -002.968\n",
      "[Telescope] delta Alt = +000.052 | delta Az= +000.399 [Dome] delta Az = -002.968\n",
      "Telescope in position.\n",
      "ATDome in position.\n",
      "['Telescope in position.', 'ATDome in position.']\n"
     ]
    }
   ],
   "source": [
    "await attcs.slew_object(name=\"HD 68601\", rot_sky=-135.)"
   ]
  },
  {
   "cell_type": "code",
   "execution_count": 33,
   "metadata": {},
   "outputs": [
    {
     "name": "stdout",
     "output_type": "stream",
     "text": [
      "Generating group_id\n",
      "OBJECT 0001 - 0001\n",
      "Waiting for header service LFO before continuing\n",
      "RemoteEvent(ATHeaderService, 0, logMessage) falling behind; read 13 messages\n"
     ]
    },
    {
     "data": {
      "text/plain": [
       "array([2020021800077])"
      ]
     },
     "execution_count": 33,
     "metadata": {},
     "output_type": "execute_result"
    }
   ],
   "source": [
    "await latiss.take_object(exptime=5., n=1, filter='KPNO_406_828nm', grating='empty_1')"
   ]
  },
  {
   "cell_type": "code",
   "execution_count": 34,
   "metadata": {},
   "outputs": [
    {
     "name": "stdout",
     "output_type": "stream",
     "text": [
      "Applying x/y offset: 30.0/ 0.0 \n",
      "Applying Az/El offset: -18.117678000637007/ 23.911289046499224 \n",
      "Waiting for telescope to settle.\n",
      "Done\n"
     ]
    }
   ],
   "source": [
    "await attcs.offset_xy(x=30., y=0.)"
   ]
  },
  {
   "cell_type": "code",
   "execution_count": 35,
   "metadata": {},
   "outputs": [
    {
     "name": "stdout",
     "output_type": "stream",
     "text": [
      "Generating group_id\n",
      "OBJECT 0001 - 0001\n",
      "Waiting for header service LFO before continuing\n"
     ]
    },
    {
     "data": {
      "text/plain": [
       "array([2020021800078])"
      ]
     },
     "execution_count": 35,
     "metadata": {},
     "output_type": "execute_result"
    }
   ],
   "source": [
    "await latiss.take_object(exptime=5., n=1, filter='KPNO_406_828nm', grating='empty_1')"
   ]
  },
  {
   "cell_type": "code",
   "execution_count": 40,
   "metadata": {},
   "outputs": [
    {
     "name": "stdout",
     "output_type": "stream",
     "text": [
      "Applying x/y offset: 0.0/ 0.0 \n",
      "Applying Az/El offset: 0.0/ 0.0 \n",
      "Waiting for telescope to settle.\n",
      "Done\n"
     ]
    }
   ],
   "source": [
    "await attcs.offset_xy(x=0., y=0.)"
   ]
  },
  {
   "cell_type": "code",
   "execution_count": 41,
   "metadata": {},
   "outputs": [
    {
     "name": "stdout",
     "output_type": "stream",
     "text": [
      "Generating group_id\n",
      "OBJECT 0001 - 0001\n",
      "Waiting for header service LFO before continuing\n"
     ]
    },
    {
     "data": {
      "text/plain": [
       "array([2020021800081])"
      ]
     },
     "execution_count": 41,
     "metadata": {},
     "output_type": "execute_result"
    }
   ],
   "source": [
    "await latiss.take_object(exptime=5., n=1, filter='KPNO_406_828nm', grating='empty_1')"
   ]
  },
  {
   "cell_type": "code",
   "execution_count": 38,
   "metadata": {},
   "outputs": [
    {
     "name": "stdout",
     "output_type": "stream",
     "text": [
      "Applying x/y offset: -95.0/ -138.0 \n",
      "Applying Az/El offset: -35.63374058056013/ -163.70472361003317 \n",
      "Waiting for telescope to settle.\n",
      "Done\n"
     ]
    }
   ],
   "source": [
    "await attcs.offset_xy(x=-95., y=-138.)"
   ]
  },
  {
   "cell_type": "code",
   "execution_count": 49,
   "metadata": {},
   "outputs": [
    {
     "name": "stdout",
     "output_type": "stream",
     "text": [
      "Generating group_id\n",
      "OBJECT 0001 - 0001\n",
      "RemoteEvent(ATHeaderService, 0, logMessage) falling behind; read 10 messages\n",
      "Waiting for header service LFO before continuing\n"
     ]
    },
    {
     "data": {
      "text/plain": [
       "array([2020021800082])"
      ]
     },
     "execution_count": 49,
     "metadata": {},
     "output_type": "execute_result"
    },
    {
     "name": "stdout",
     "output_type": "stream",
     "text": [
      "RemoteEvent(ATDomeTrajectory, 0, logMessage) falling behind; read 64 messages\n",
      "RemoteTelemetry(ATDome, 0, position) falling behind; read 100 messages\n",
      "RemoteEvent(ATMCS, 0, target) falling behind; read 100 messages\n",
      "RemoteTelemetry(ATPneumatics, 0, m1AirPressure) falling behind; read 37 messages\n",
      "RemoteTelemetry(ATHexapod, 0, positionStatus) falling behind; read 27 messages\n",
      "RemoteEvent(ATHeaderService, 0, heartbeat) falling behind; read 36 messages\n",
      "RemoteEvent(ATSpectrograph, 0, heartbeat) falling behind; read 36 messages\n",
      "RemoteTelemetry(ATPneumatics, 0, loadCell) falling behind; read 37 messages\n",
      "RemoteTelemetry(ATMCS, 0, trajectory) falling behind; read 27 messages\n",
      "RemoteTelemetry(ATPtg, 0, timeAndDate) falling behind; read 100 messages\n",
      "RemoteEvent(ATPneumatics, 0, heartbeat) falling behind; read 37 messages\n",
      "RemoteEvent(ATDome, 0, heartbeat) falling behind; read 37 messages\n",
      "RemoteTelemetry(ATMCS, 0, torqueDemand) falling behind; read 37 messages\n",
      "RemoteEvent(ATDomeTrajectory, 0, heartbeat) falling behind; read 37 messages\n",
      "RemoteEvent(ATHexapod, 0, heartbeat) falling behind; read 26 messages\n",
      "RemoteEvent(ATAOS, 0, heartbeat) falling behind; read 37 messages\n",
      "RemoteTelemetry(ATMCS, 0, nasymth_m3_mountMotorEncoders) falling behind; read 38 messages\n",
      "RemoteTelemetry(ATPtg, 0, mountStatus) falling behind; read 100 messages\n",
      "RemoteEvent(ATAOS, 0, detailedState) falling behind; read 46 messages\n",
      "RemoteTelemetry(ATMCS, 0, mount_Nasmyth_Encoders) falling behind; read 38 messages\n",
      "RemoteTelemetry(ATPtg, 0, guidingAndOffsets) falling behind; read 100 messages\n",
      "RemoteTelemetry(ATMCS, 0, mount_AzEl_Encoders) falling behind; read 38 messages\n",
      "RemoteTelemetry(ATMCS, 0, measuredTorque) falling behind; read 38 messages\n",
      "RemoteTelemetry(ATPtg, 0, currentTargetStatus) falling behind; read 100 messages\n",
      "RemoteTelemetry(ATMCS, 0, measuredMotorVelocity) falling behind; read 38 messages\n",
      "RemoteTelemetry(ATMCS, 0, azEl_mountMotorEncoders) falling behind; read 38 messages\n",
      "RemoteEvent(ATMCS, 0, heartbeat) falling behind; read 38 messages\n",
      "RemoteTelemetry(ATPneumatics, 0, mainAirSourcePressure) falling behind; read 42 messages\n",
      "RemoteTelemetry(ATPneumatics, 0, m2AirPressure) falling behind; read 42 messages\n",
      "RemoteEvent(ATPneumatics, 0, m1SetPressure) falling behind; read 10 messages\n",
      "RemoteEvent(ATArchiver, 0, heartbeat) falling behind; read 28 messages\n",
      "RemoteEvent(ATSpectrograph, 0, heartbeat) falling behind; read 14 messages\n"
     ]
    }
   ],
   "source": [
    "await latiss.take_object(exptime=5., n=1, filter='KPNO_406_828nm', grating='empty_1')"
   ]
  },
  {
   "cell_type": "code",
   "execution_count": 67,
   "metadata": {},
   "outputs": [],
   "source": [
    "x = (1780-2373)*0.1\n",
    "y = (1815-2679)*0.1"
   ]
  },
  {
   "cell_type": "code",
   "execution_count": 78,
   "metadata": {},
   "outputs": [],
   "source": [
    "x = (2036-2373+68)*0.1\n",
    "y = (2000-2679)*0.1"
   ]
  },
  {
   "cell_type": "code",
   "execution_count": 79,
   "metadata": {},
   "outputs": [
    {
     "data": {
      "text/plain": [
       "(-26.900000000000002, -67.9)"
      ]
     },
     "execution_count": 79,
     "metadata": {},
     "output_type": "execute_result"
    }
   ],
   "source": [
    "x,y"
   ]
  },
  {
   "cell_type": "code",
   "execution_count": 80,
   "metadata": {},
   "outputs": [
    {
     "name": "stdout",
     "output_type": "stream",
     "text": [
      "Applying x/y offset: -26.900000000000002/ -67.9 \n",
      "Applying Az/El offset: 3.2498068445985417/ -72.96203639888898 \n",
      "Waiting for telescope to settle.\n",
      "Done\n"
     ]
    }
   ],
   "source": [
    "await attcs.offset_xy(x=x, y=y)"
   ]
  },
  {
   "cell_type": "code",
   "execution_count": null,
   "metadata": {},
   "outputs": [],
   "source": [
    "await attcs.atptg.cmd_pointAddData"
   ]
  },
  {
   "cell_type": "code",
   "execution_count": 81,
   "metadata": {},
   "outputs": [
    {
     "name": "stdout",
     "output_type": "stream",
     "text": [
      "Generating group_id\n",
      "OBJECT 0001 - 0001\n",
      "Waiting for header service LFO before continuing\n",
      "RemoteEvent(ATHeaderService, 0, logMessage) falling behind; read 10 messages\n"
     ]
    },
    {
     "data": {
      "text/plain": [
       "array([2020021800091])"
      ]
     },
     "execution_count": 81,
     "metadata": {},
     "output_type": "execute_result"
    }
   ],
   "source": [
    "await latiss.take_object(exptime=1., n=1, filter='KPNO_406_828nm', grating='empty_1')"
   ]
  },
  {
   "cell_type": "code",
   "execution_count": 82,
   "metadata": {},
   "outputs": [
    {
     "data": {
      "text/plain": [
       "<lsst.ts.salobj.ddsutil.ATPtg_ackcmd_2d655b72 at 0x7f1520e25278>"
      ]
     },
     "execution_count": 82,
     "metadata": {},
     "output_type": "execute_result"
    }
   ],
   "source": [
    "await attcs.atptg.cmd_pointNewFile.start()"
   ]
  },
  {
   "cell_type": "code",
   "execution_count": 83,
   "metadata": {},
   "outputs": [
    {
     "data": {
      "text/plain": [
       "<lsst.ts.salobj.ddsutil.ATPtg_ackcmd_2d655b72 at 0x7f151bede0f0>"
      ]
     },
     "execution_count": 83,
     "metadata": {},
     "output_type": "execute_result"
    }
   ],
   "source": [
    "await attcs.atptg.cmd_pointAddData.start()"
   ]
  },
  {
   "cell_type": "code",
   "execution_count": 56,
   "metadata": {},
   "outputs": [
    {
     "data": {
      "text/plain": [
       "<lsst.ts.salobj.ddsutil.ATMCS_ackcmd_f0f9ad9d at 0x7f151bb9dcc0>"
      ]
     },
     "execution_count": 56,
     "metadata": {},
     "output_type": "execute_result"
    }
   ],
   "source": [
    "await attcs.atmcs.cmd_startTracking.start()"
   ]
  },
  {
   "cell_type": "code",
   "execution_count": 72,
   "metadata": {},
   "outputs": [
    {
     "name": "stdout",
     "output_type": "stream",
     "text": [
      "Generating group_id\n",
      "OBJECT 0001 - 0001\n",
      "Waiting for header service LFO before continuing\n"
     ]
    },
    {
     "data": {
      "text/plain": [
       "array([2020021800088])"
      ]
     },
     "execution_count": 72,
     "metadata": {},
     "output_type": "execute_result"
    }
   ],
   "source": [
    "await latiss.take_object(exptime=5., n=1, filter='empty_3', grating='ronchi90lpmm')"
   ]
  },
  {
   "cell_type": "code",
   "execution_count": 84,
   "metadata": {},
   "outputs": [
    {
     "name": "stdout",
     "output_type": "stream",
     "text": [
      "Slewing to HD 68601: 08 11 25.8917 -42 59 14.198\n",
      "Sending command\n",
      "Stop tracking.\n",
      "Mount tracking state is 9\n",
      "Tracking state: 10.\n",
      "Tracking state: 8.\n",
      "In Position: True.\n",
      "In Position: False.\n",
      "Scheduling check coroutines\n",
      "process as completed...\n",
      "Got False\n",
      "Telescope not in position\n",
      "atmcs: <State.ENABLED: 2>\n",
      "atptg: <State.ENABLED: 2>\n",
      "ataos: <State.ENABLED: 2>\n",
      "atpneumatics: <State.ENABLED: 2>\n",
      "athexapod: <State.ENABLED: 2>\n",
      "atdome: <State.ENABLED: 2>\n",
      "atdometrajectory: <State.ENABLED: 2>\n",
      "[Telescope] delta Alt = +000.005 | delta Az= +000.556 [Dome] delta Az = +000.235\n",
      "[Telescope] delta Alt = -000.012 | delta Az= +000.497 [Dome] delta Az = +000.235\n",
      "[Telescope] delta Alt = -000.012 | delta Az= +000.497 [Dome] delta Az = +000.235\n",
      "[Telescope] delta Alt = -000.012 | delta Az= +000.497 [Dome] delta Az = +000.235\n",
      "[Telescope] delta Alt = -000.012 | delta Az= +000.497 [Dome] delta Az = +000.235\n",
      "[Telescope] delta Alt = -000.012 | delta Az= +000.495 [Dome] delta Az = +000.235\n",
      "[Telescope] delta Alt = -000.012 | delta Az= +000.495 [Dome] delta Az = +000.235\n",
      "[Telescope] delta Alt = -000.012 | delta Az= +000.496 [Dome] delta Az = +000.235\n",
      "[Telescope] delta Alt = -000.012 | delta Az= +000.497 [Dome] delta Az = +000.235\n",
      "[Telescope] delta Alt = -000.012 | delta Az= +000.497 [Dome] delta Az = +000.235\n",
      "[Telescope] delta Alt = -000.012 | delta Az= +000.497 [Dome] delta Az = +000.235\n",
      "[Telescope] delta Alt = -000.012 | delta Az= +000.495 [Dome] delta Az = +000.235\n",
      "[Telescope] delta Alt = -000.012 | delta Az= +000.495 [Dome] delta Az = +000.235\n",
      "[Telescope] delta Alt = -000.012 | delta Az= +000.496 [Dome] delta Az = +000.235\n",
      "[Telescope] delta Alt = -000.012 | delta Az= +000.497 [Dome] delta Az = +000.235\n",
      "[Telescope] delta Alt = -000.012 | delta Az= +000.497 [Dome] delta Az = +000.235\n",
      "[Telescope] delta Alt = -000.012 | delta Az= +000.494 [Dome] delta Az = +000.235\n",
      "[Telescope] delta Alt = -000.013 | delta Az= +000.495 [Dome] delta Az = +000.235\n",
      "Got True\n",
      "Waiting for telescope to settle.\n",
      "[Telescope] delta Alt = -000.013 | delta Az= +000.495 [Dome] delta Az = +000.235\n",
      "[Telescope] delta Alt = -000.013 | delta Az= +000.496 [Dome] delta Az = +000.235\n",
      "Telescope in position.\n",
      "ATDome in position.\n",
      "['Telescope in position.', 'ATDome in position.']\n"
     ]
    }
   ],
   "source": [
    "await attcs.slew_object(name=\"HD 68601\", rot_sky=-180.)"
   ]
  },
  {
   "cell_type": "code",
   "execution_count": 85,
   "metadata": {},
   "outputs": [
    {
     "name": "stdout",
     "output_type": "stream",
     "text": [
      "Generating group_id\n",
      "OBJECT 0001 - 0001\n",
      "Waiting for header service LFO before continuing\n",
      "RemoteEvent(ATHeaderService, 0, logMessage) falling behind; read 10 messages\n"
     ]
    },
    {
     "data": {
      "text/plain": [
       "array([2020021800092])"
      ]
     },
     "execution_count": 85,
     "metadata": {},
     "output_type": "execute_result"
    }
   ],
   "source": [
    "await latiss.take_object(exptime=1., n=1, filter='KPNO_406_828nm', grating='empty_1')"
   ]
  },
  {
   "cell_type": "code",
   "execution_count": 86,
   "metadata": {},
   "outputs": [
    {
     "name": "stdout",
     "output_type": "stream",
     "text": [
      "Applying x/y offset: 23.3/ -62.1 \n",
      "Applying Az/El offset: 11.124908720432412/ -65.38758602335804 \n",
      "Waiting for telescope to settle.\n",
      "Done\n"
     ]
    }
   ],
   "source": [
    "x = 233*0.1\n",
    "y = -621*0.1\n",
    "\n",
    "await attcs.offset_xy(x=x, y=y)"
   ]
  },
  {
   "cell_type": "code",
   "execution_count": 87,
   "metadata": {},
   "outputs": [
    {
     "name": "stdout",
     "output_type": "stream",
     "text": [
      "Generating group_id\n",
      "OBJECT 0001 - 0001\n",
      "Waiting for header service LFO before continuing\n"
     ]
    },
    {
     "data": {
      "text/plain": [
       "array([2020021800093])"
      ]
     },
     "execution_count": 87,
     "metadata": {},
     "output_type": "execute_result"
    }
   ],
   "source": [
    "await latiss.take_object(exptime=.5, n=1, filter='KPNO_406_828nm', grating='empty_1')"
   ]
  },
  {
   "cell_type": "code",
   "execution_count": 88,
   "metadata": {},
   "outputs": [
    {
     "data": {
      "text/plain": [
       "<lsst.ts.salobj.ddsutil.ATPtg_ackcmd_2d655b72 at 0x7f15051b0ef0>"
      ]
     },
     "execution_count": 88,
     "metadata": {},
     "output_type": "execute_result"
    }
   ],
   "source": [
    "await attcs.atptg.cmd_pointAddData.start()"
   ]
  },
  {
   "cell_type": "code",
   "execution_count": 89,
   "metadata": {},
   "outputs": [
    {
     "name": "stdout",
     "output_type": "stream",
     "text": [
      "Slewing to HD 68601: 08 11 25.8917 -42 59 14.198\n",
      "Sending command\n",
      "Stop tracking.\n",
      "Mount tracking state is 9\n",
      "Tracking state: 10.\n",
      "Tracking state: 8.\n",
      "In Position: True.\n",
      "In Position: False.\n",
      "Scheduling check coroutines\n",
      "process as completed...\n",
      "Got False\n",
      "Telescope not in position\n",
      "atmcs: <State.ENABLED: 2>\n",
      "atptg: <State.ENABLED: 2>\n",
      "ataos: <State.ENABLED: 2>\n",
      "atpneumatics: <State.ENABLED: 2>\n",
      "athexapod: <State.ENABLED: 2>\n",
      "atdome: <State.ENABLED: 2>\n",
      "atdometrajectory: <State.ENABLED: 2>\n",
      "[Telescope] delta Alt = -000.001 | delta Az= +000.556 [Dome] delta Az = +000.235\n",
      "[Telescope] delta Alt = -000.019 | delta Az= +000.492 [Dome] delta Az = +000.235\n",
      "[Telescope] delta Alt = -000.018 | delta Az= +000.488 [Dome] delta Az = +000.235\n",
      "[Telescope] delta Alt = -000.018 | delta Az= +000.489 [Dome] delta Az = +000.235\n",
      "[Telescope] delta Alt = -000.018 | delta Az= +000.490 [Dome] delta Az = +000.235\n",
      "[Telescope] delta Alt = -000.018 | delta Az= +000.490 [Dome] delta Az = +000.235\n",
      "[Telescope] delta Alt = -000.018 | delta Az= +000.490 [Dome] delta Az = +000.235\n",
      "[Telescope] delta Alt = -000.018 | delta Az= +000.488 [Dome] delta Az = +000.235\n",
      "[Telescope] delta Alt = -000.018 | delta Az= +000.488 [Dome] delta Az = +000.235\n",
      "[Telescope] delta Alt = -000.018 | delta Az= +000.489 [Dome] delta Az = +000.235\n",
      "[Telescope] delta Alt = -000.018 | delta Az= +000.490 [Dome] delta Az = +000.235\n",
      "[Telescope] delta Alt = -000.018 | delta Az= +000.490 [Dome] delta Az = +000.235\n",
      "[Telescope] delta Alt = -000.019 | delta Az= +000.490 [Dome] delta Az = +000.235\n",
      "[Telescope] delta Alt = -000.019 | delta Az= +000.488 [Dome] delta Az = +000.235\n",
      "[Telescope] delta Alt = -000.018 | delta Az= +000.488 [Dome] delta Az = +000.235\n",
      "[Telescope] delta Alt = -000.019 | delta Az= +000.489 [Dome] delta Az = +000.235\n",
      "[Telescope] delta Alt = -000.019 | delta Az= +000.489 [Dome] delta Az = +000.235\n",
      "[Telescope] delta Alt = -000.019 | delta Az= +000.490 [Dome] delta Az = +000.235\n",
      "[Telescope] delta Alt = -000.019 | delta Az= +000.488 [Dome] delta Az = +000.235\n",
      "[Telescope] delta Alt = -000.019 | delta Az= +000.487 [Dome] delta Az = +000.235\n",
      "[Telescope] delta Alt = -000.019 | delta Az= +000.488 [Dome] delta Az = +000.235\n",
      "[Telescope] delta Alt = -000.019 | delta Az= +000.489 [Dome] delta Az = +000.235\n",
      "[Telescope] delta Alt = -000.019 | delta Az= +000.489 [Dome] delta Az = +000.235\n",
      "[Telescope] delta Alt = -000.019 | delta Az= +000.487 [Dome] delta Az = +000.235\n",
      "[Telescope] delta Alt = -000.019 | delta Az= +000.487 [Dome] delta Az = +000.235\n",
      "[Telescope] delta Alt = -000.019 | delta Az= +000.487 [Dome] delta Az = +000.235\n",
      "[Telescope] delta Alt = -000.019 | delta Az= +000.488 [Dome] delta Az = +000.235\n",
      "[Telescope] delta Alt = -000.019 | delta Az= +000.489 [Dome] delta Az = +000.235\n",
      "[Telescope] delta Alt = -000.019 | delta Az= +000.489 [Dome] delta Az = +000.235\n",
      "Got True\n",
      "Waiting for telescope to settle.\n",
      "[Telescope] delta Alt = -000.019 | delta Az= +000.487 [Dome] delta Az = +000.235\n",
      "[Telescope] delta Alt = -000.020 | delta Az= +000.487 [Dome] delta Az = +000.235\n",
      "Telescope in position.\n",
      "ATDome in position.\n",
      "['Telescope in position.', 'ATDome in position.']\n"
     ]
    }
   ],
   "source": [
    "await attcs.slew_object(name=\"HD 68601\", rot_sky=-90.)"
   ]
  },
  {
   "cell_type": "code",
   "execution_count": 90,
   "metadata": {},
   "outputs": [
    {
     "name": "stdout",
     "output_type": "stream",
     "text": [
      "Generating group_id\n",
      "OBJECT 0001 - 0001\n",
      "Waiting for header service LFO before continuing\n",
      "RemoteEvent(ATHeaderService, 0, logMessage) falling behind; read 10 messages\n"
     ]
    },
    {
     "data": {
      "text/plain": [
       "array([2020021800094])"
      ]
     },
     "execution_count": 90,
     "metadata": {},
     "output_type": "execute_result"
    }
   ],
   "source": [
    "await latiss.take_object(exptime=.5, n=1, filter='KPNO_406_828nm', grating='empty_1')"
   ]
  },
  {
   "cell_type": "code",
   "execution_count": 91,
   "metadata": {},
   "outputs": [
    {
     "name": "stdout",
     "output_type": "stream",
     "text": [
      "Applying x/y offset: -55.2/ -53.1 \n",
      "Applying Az/El offset: -13.84671746401326/ -75.33205436911827 \n",
      "Waiting for telescope to settle.\n",
      "Done\n"
     ]
    }
   ],
   "source": [
    "x = -552*0.1\n",
    "y = -531*0.1\n",
    "\n",
    "await attcs.offset_xy(x=x, y=y)"
   ]
  },
  {
   "cell_type": "code",
   "execution_count": 92,
   "metadata": {},
   "outputs": [
    {
     "data": {
      "text/plain": [
       "<lsst.ts.salobj.ddsutil.ATPtg_ackcmd_2d655b72 at 0x7f15005d1940>"
      ]
     },
     "execution_count": 92,
     "metadata": {},
     "output_type": "execute_result"
    }
   ],
   "source": [
    "await attcs.atptg.cmd_pointAddData.start()"
   ]
  },
  {
   "cell_type": "code",
   "execution_count": 93,
   "metadata": {},
   "outputs": [
    {
     "name": "stdout",
     "output_type": "stream",
     "text": [
      "Generating group_id\n",
      "OBJECT 0001 - 0001\n",
      "Waiting for header service LFO before continuing\n"
     ]
    },
    {
     "data": {
      "text/plain": [
       "array([2020021800095])"
      ]
     },
     "execution_count": 93,
     "metadata": {},
     "output_type": "execute_result"
    }
   ],
   "source": [
    "await latiss.take_object(exptime=.5, n=1, filter='KPNO_406_828nm', grating='empty_1')"
   ]
  },
  {
   "cell_type": "code",
   "execution_count": 99,
   "metadata": {},
   "outputs": [
    {
     "data": {
      "text/plain": [
       "<lsst.ts.salobj.ddsutil.ATPtg_ackcmd_2d655b72 at 0x7f150795f4a8>"
      ]
     },
     "execution_count": 99,
     "metadata": {},
     "output_type": "execute_result"
    },
    {
     "name": "stdout",
     "output_type": "stream",
     "text": [
      "[Telescope] delta Alt = -000.029 | delta Az= +000.471 [Dome] delta Az = +000.235\n",
      "[Telescope] delta Alt = -000.029 | delta Az= +000.471 [Dome] delta Az = +000.235\n",
      "[Telescope] delta Alt = -000.029 | delta Az= +000.472 [Dome] delta Az = +000.235\n",
      "[Telescope] delta Alt = -000.029 | delta Az= +000.469 [Dome] delta Az = +000.235\n",
      "[Telescope] delta Alt = -000.029 | delta Az= +000.470 [Dome] delta Az = +000.235\n",
      "[Telescope] delta Alt = -000.029 | delta Az= +000.470 [Dome] delta Az = +000.235\n",
      "[Telescope] delta Alt = -000.029 | delta Az= +000.470 [Dome] delta Az = +000.235\n",
      "[Telescope] delta Alt = -000.029 | delta Az= +000.470 [Dome] delta Az = +000.235\n",
      "[Telescope] delta Alt = -000.029 | delta Az= +000.471 [Dome] delta Az = +000.235\n",
      "[Telescope] delta Alt = -000.029 | delta Az= +000.468 [Dome] delta Az = +000.235\n",
      "[Telescope] delta Alt = -000.029 | delta Az= +000.470 [Dome] delta Az = +000.235\n",
      "[Telescope] delta Alt = -000.029 | delta Az= +000.470 [Dome] delta Az = +000.235\n",
      "[Telescope] delta Alt = -000.029 | delta Az= +000.470 [Dome] delta Az = +000.235\n",
      "[Telescope] delta Alt = -000.029 | delta Az= +000.470 [Dome] delta Az = +000.235\n",
      "[Telescope] delta Alt = -000.029 | delta Az= +000.467 [Dome] delta Az = +000.235\n",
      "[Telescope] delta Alt = -000.029 | delta Az= +000.469 [Dome] delta Az = +000.235\n",
      "[Telescope] delta Alt = -000.029 | delta Az= +000.469 [Dome] delta Az = +000.235\n",
      "[Telescope] delta Alt = -000.030 | delta Az= +000.469 [Dome] delta Az = +000.235\n",
      "[Telescope] delta Alt = -000.030 | delta Az= +000.470 [Dome] delta Az = +000.235\n",
      "[Telescope] delta Alt = -000.030 | delta Az= +000.470 [Dome] delta Az = +000.235\n",
      "[Telescope] delta Alt = -000.030 | delta Az= +000.467 [Dome] delta Az = +000.235\n",
      "[Telescope] delta Alt = -000.030 | delta Az= +000.468 [Dome] delta Az = +000.235\n",
      "[Telescope] delta Alt = -000.030 | delta Az= +000.468 [Dome] delta Az = +000.235\n",
      "[Telescope] delta Alt = -000.030 | delta Az= +000.469 [Dome] delta Az = +000.235\n",
      "[Telescope] delta Alt = -000.030 | delta Az= +000.469 [Dome] delta Az = +000.235\n",
      "Got True\n",
      "Waiting for telescope to settle.\n",
      "[Telescope] delta Alt = -000.030 | delta Az= +000.469 [Dome] delta Az = +000.235\n",
      "[Telescope] delta Alt = -000.030 | delta Az= +000.467 [Dome] delta Az = +000.235\n",
      "Telescope in position.\n",
      "ATDome in position.\n",
      "[Telescope] delta Alt = -000.030 | delta Az= +000.467 [Dome] delta Az = +000.235\n",
      "[Telescope] delta Alt = -000.030 | delta Az= +000.468 [Dome] delta Az = +000.235\n",
      "[Telescope] delta Alt = -000.030 | delta Az= +000.469 [Dome] delta Az = +000.235\n"
     ]
    }
   ],
   "source": [
    "await attcs.atptg.cmd_focusName.set_start(focus=3)"
   ]
  },
  {
   "cell_type": "code",
   "execution_count": 97,
   "metadata": {},
   "outputs": [
    {
     "name": "stdout",
     "output_type": "stream",
     "text": [
      "Slewing to HD 68601: 08 11 25.8917 -42 59 14.198\n",
      "Sending command\n",
      "Stop tracking.\n",
      "Mount tracking state is 8\n",
      "In Position: False.\n",
      "Scheduling check coroutines\n",
      "process as completed...\n",
      "Got False\n",
      "Telescope not in position\n",
      "atmcs: <State.ENABLED: 2>\n",
      "atptg: <State.ENABLED: 2>\n",
      "ataos: <State.ENABLED: 2>\n",
      "atpneumatics: <State.ENABLED: 2>\n",
      "athexapod: <State.ENABLED: 2>\n",
      "atdome: <State.ENABLED: 2>\n",
      "atdometrajectory: <State.ENABLED: 2>\n",
      "[Telescope] delta Alt = -000.061 | delta Az= +002.012 [Dome] delta Az = +000.235\n",
      "[Telescope] delta Alt = -000.027 | delta Az= +000.697 [Dome] delta Az = +000.235\n",
      "[Telescope] delta Alt = -000.027 | delta Az= +000.474 [Dome] delta Az = +000.235\n",
      "[Telescope] delta Alt = -000.028 | delta Az= +000.474 [Dome] delta Az = +000.235\n",
      "[Telescope] delta Alt = -000.028 | delta Az= +000.475 [Dome] delta Az = +000.235\n",
      "[Telescope] delta Alt = -000.028 | delta Az= +000.475 [Dome] delta Az = +000.235\n",
      "[Telescope] delta Alt = -000.028 | delta Az= +000.472 [Dome] delta Az = +000.235\n",
      "[Telescope] delta Alt = -000.028 | delta Az= +000.472 [Dome] delta Az = +000.235\n",
      "[Telescope] delta Alt = -000.028 | delta Az= +000.473 [Dome] delta Az = +000.235\n",
      "[Telescope] delta Alt = -000.028 | delta Az= +000.474 [Dome] delta Az = +000.235\n",
      "[Telescope] delta Alt = -000.028 | delta Az= +000.473 [Dome] delta Az = +000.235\n",
      "[Telescope] delta Alt = -000.028 | delta Az= +000.472 [Dome] delta Az = +000.235\n",
      "[Telescope] delta Alt = -000.028 | delta Az= +000.472 [Dome] delta Az = +000.235\n",
      "[Telescope] delta Alt = -000.028 | delta Az= +000.472 [Dome] delta Az = +000.235\n"
     ]
    },
    {
     "ename": "CancelledError",
     "evalue": "",
     "output_type": "error",
     "traceback": [
      "\u001b[0;31m\u001b[0m",
      "\u001b[0;31mCancelledError\u001b[0mTraceback (most recent call last)",
      "\u001b[0;32m<ipython-input-97-b35500a28606>\u001b[0m in \u001b[0;36masync-def-wrapper\u001b[0;34m()\u001b[0m\n",
      "\u001b[0;32m~/repos/ts_standardscripts/python/lsst/ts/standardscripts/auxtel/attcs.py\u001b[0m in \u001b[0;36mslew_object\u001b[0;34m(self, name, rot_sky, rot_pa, slew_timeout, track_id)\u001b[0m\n\u001b[1;32m    202\u001b[0m                         \u001b[0mrot_mode\u001b[0m\u001b[0;34m=\u001b[0m\u001b[0mATPtg\u001b[0m\u001b[0;34m.\u001b[0m\u001b[0mRotMode\u001b[0m\u001b[0;34m.\u001b[0m\u001b[0mFIELD\u001b[0m\u001b[0;34m,\u001b[0m\u001b[0;34m\u001b[0m\u001b[0;34m\u001b[0m\u001b[0m\n\u001b[1;32m    203\u001b[0m                         \u001b[0mslew_timeout\u001b[0m\u001b[0;34m=\u001b[0m\u001b[0mslew_timeout\u001b[0m\u001b[0;34m,\u001b[0m\u001b[0;34m\u001b[0m\u001b[0;34m\u001b[0m\u001b[0m\n\u001b[0;32m--> 204\u001b[0;31m                         track_id=track_id)\n\u001b[0m\u001b[1;32m    205\u001b[0m \u001b[0;34m\u001b[0m\u001b[0m\n\u001b[1;32m    206\u001b[0m     async def slew_icrs(self, ra, dec, rot_sky=None, rot_pa=0.,\n",
      "\u001b[0;32m~/repos/ts_standardscripts/python/lsst/ts/standardscripts/auxtel/attcs.py\u001b[0m in \u001b[0;36mslew\u001b[0;34m(self, ra, dec, rotPA, target_name, target_instance, frame, epoch, equinox, parallax, pmRA, pmDec, rv, dRA, dDec, rot_frame, rot_mode, slew_timeout, track_id)\u001b[0m\n\u001b[1;32m    306\u001b[0m \u001b[0;34m\u001b[0m\u001b[0m\n\u001b[1;32m    307\u001b[0m         await self._slew_to(self.atptg.cmd_raDecTarget,\n\u001b[0;32m--> 308\u001b[0;31m                             slew_timeout=slew_timeout)\n\u001b[0m\u001b[1;32m    309\u001b[0m \u001b[0;34m\u001b[0m\u001b[0m\n\u001b[1;32m    310\u001b[0m     async def slew_to_planet(self, planet,\n",
      "\u001b[0;32m~/repos/ts_standardscripts/python/lsst/ts/standardscripts/auxtel/attcs.py\u001b[0m in \u001b[0;36m_slew_to\u001b[0;34m(self, slew_cmd, slew_timeout)\u001b[0m\n\u001b[1;32m    802\u001b[0m         \u001b[0;32mfor\u001b[0m \u001b[0mres\u001b[0m \u001b[0;32min\u001b[0m \u001b[0masyncio\u001b[0m\u001b[0;34m.\u001b[0m\u001b[0mas_completed\u001b[0m\u001b[0;34m(\u001b[0m\u001b[0mcoro_list\u001b[0m\u001b[0;34m)\u001b[0m\u001b[0;34m:\u001b[0m\u001b[0;34m\u001b[0m\u001b[0;34m\u001b[0m\u001b[0m\n\u001b[1;32m    803\u001b[0m             \u001b[0;32mtry\u001b[0m\u001b[0;34m:\u001b[0m\u001b[0;34m\u001b[0m\u001b[0;34m\u001b[0m\u001b[0m\n\u001b[0;32m--> 804\u001b[0;31m                 \u001b[0mret_val\u001b[0m \u001b[0;34m=\u001b[0m \u001b[0;32mawait\u001b[0m \u001b[0mres\u001b[0m\u001b[0;34m\u001b[0m\u001b[0;34m\u001b[0m\u001b[0m\n\u001b[0m\u001b[1;32m    805\u001b[0m                 \u001b[0mself\u001b[0m\u001b[0;34m.\u001b[0m\u001b[0mlog\u001b[0m\u001b[0;34m.\u001b[0m\u001b[0mdebug\u001b[0m\u001b[0;34m(\u001b[0m\u001b[0mret_val\u001b[0m\u001b[0;34m)\u001b[0m\u001b[0;34m\u001b[0m\u001b[0;34m\u001b[0m\u001b[0m\n\u001b[1;32m    806\u001b[0m             \u001b[0;32mexcept\u001b[0m \u001b[0mRuntimeError\u001b[0m \u001b[0;32mas\u001b[0m \u001b[0mrte\u001b[0m\u001b[0;34m:\u001b[0m\u001b[0;34m\u001b[0m\u001b[0;34m\u001b[0m\u001b[0m\n",
      "\u001b[0;32m/opt/lsst/software/stack/python/miniconda3-4.7.10/envs/lsst-scipipe-4d7b902/lib/python3.7/asyncio/tasks.py\u001b[0m in \u001b[0;36m_wait_for_one\u001b[0;34m()\u001b[0m\n\u001b[1;32m    527\u001b[0m \u001b[0;34m\u001b[0m\u001b[0m\n\u001b[1;32m    528\u001b[0m     \u001b[0;32masync\u001b[0m \u001b[0;32mdef\u001b[0m \u001b[0m_wait_for_one\u001b[0m\u001b[0;34m(\u001b[0m\u001b[0;34m)\u001b[0m\u001b[0;34m:\u001b[0m\u001b[0;34m\u001b[0m\u001b[0;34m\u001b[0m\u001b[0m\n\u001b[0;32m--> 529\u001b[0;31m         \u001b[0mf\u001b[0m \u001b[0;34m=\u001b[0m \u001b[0;32mawait\u001b[0m \u001b[0mdone\u001b[0m\u001b[0;34m.\u001b[0m\u001b[0mget\u001b[0m\u001b[0;34m(\u001b[0m\u001b[0;34m)\u001b[0m\u001b[0;34m\u001b[0m\u001b[0;34m\u001b[0m\u001b[0m\n\u001b[0m\u001b[1;32m    530\u001b[0m         \u001b[0;32mif\u001b[0m \u001b[0mf\u001b[0m \u001b[0;32mis\u001b[0m \u001b[0;32mNone\u001b[0m\u001b[0;34m:\u001b[0m\u001b[0;34m\u001b[0m\u001b[0;34m\u001b[0m\u001b[0m\n\u001b[1;32m    531\u001b[0m             \u001b[0;31m# Dummy value from _on_timeout().\u001b[0m\u001b[0;34m\u001b[0m\u001b[0;34m\u001b[0m\u001b[0;34m\u001b[0m\u001b[0m\n",
      "\u001b[0;32m/opt/lsst/software/stack/python/miniconda3-4.7.10/envs/lsst-scipipe-4d7b902/lib/python3.7/asyncio/queues.py\u001b[0m in \u001b[0;36mget\u001b[0;34m(self)\u001b[0m\n\u001b[1;32m    157\u001b[0m             \u001b[0mself\u001b[0m\u001b[0;34m.\u001b[0m\u001b[0m_getters\u001b[0m\u001b[0;34m.\u001b[0m\u001b[0mappend\u001b[0m\u001b[0;34m(\u001b[0m\u001b[0mgetter\u001b[0m\u001b[0;34m)\u001b[0m\u001b[0;34m\u001b[0m\u001b[0;34m\u001b[0m\u001b[0m\n\u001b[1;32m    158\u001b[0m             \u001b[0;32mtry\u001b[0m\u001b[0;34m:\u001b[0m\u001b[0;34m\u001b[0m\u001b[0;34m\u001b[0m\u001b[0m\n\u001b[0;32m--> 159\u001b[0;31m                 \u001b[0;32mawait\u001b[0m \u001b[0mgetter\u001b[0m\u001b[0;34m\u001b[0m\u001b[0;34m\u001b[0m\u001b[0m\n\u001b[0m\u001b[1;32m    160\u001b[0m             \u001b[0;32mexcept\u001b[0m\u001b[0;34m:\u001b[0m\u001b[0;34m\u001b[0m\u001b[0;34m\u001b[0m\u001b[0m\n\u001b[1;32m    161\u001b[0m                 \u001b[0mgetter\u001b[0m\u001b[0;34m.\u001b[0m\u001b[0mcancel\u001b[0m\u001b[0;34m(\u001b[0m\u001b[0;34m)\u001b[0m  \u001b[0;31m# Just in case getter is not done yet.\u001b[0m\u001b[0;34m\u001b[0m\u001b[0;34m\u001b[0m\u001b[0m\n",
      "\u001b[0;31mCancelledError\u001b[0m: "
     ]
    },
    {
     "name": "stdout",
     "output_type": "stream",
     "text": [
      "[Telescope] delta Alt = -000.028 | delta Az= +000.473 [Dome] delta Az = +000.235\n",
      "[Telescope] delta Alt = -000.028 | delta Az= +000.472 [Dome] delta Az = +000.235\n",
      "[Telescope] delta Alt = -000.028 | delta Az= +000.473 [Dome] delta Az = +000.235\n",
      "[Telescope] delta Alt = -000.028 | delta Az= +000.471 [Dome] delta Az = +000.235\n",
      "[Telescope] delta Alt = -000.028 | delta Az= +000.471 [Dome] delta Az = +000.235\n"
     ]
    }
   ],
   "source": [
    "await attcs.slew_object(name=\"HD 68601\", rot_sky=-112.5)"
   ]
  },
  {
   "cell_type": "code",
   "execution_count": 96,
   "metadata": {},
   "outputs": [
    {
     "data": {
      "text/plain": [
       "[<State.FAULT: 3>, <State.STANDBY: 5>, <State.DISABLED: 1>, <State.ENABLED: 2>]"
      ]
     },
     "execution_count": 96,
     "metadata": {},
     "output_type": "execute_result"
    }
   ],
   "source": [
    "await salobj.set_summary_state(attcs.atptg, salobj.State.ENABLED)"
   ]
  },
  {
   "cell_type": "code",
   "execution_count": 100,
   "metadata": {},
   "outputs": [
    {
     "name": "stdout",
     "output_type": "stream",
     "text": [
      "Generating group_id\n",
      "OBJECT 0001 - 0001\n",
      "[Telescope] delta Alt = -000.031 | delta Az= +000.469 [Dome] delta Az = +000.235\n",
      "[Telescope] delta Alt = -000.030 | delta Az= +000.466 [Dome] delta Az = +000.235\n",
      "Waiting for header service LFO before continuing\n",
      "RemoteEvent(ATHeaderService, 0, logMessage) falling behind; read 13 messages\n",
      "[Telescope] delta Alt = -000.031 | delta Az= +000.466 [Dome] delta Az = +000.235\n",
      "[Telescope] delta Alt = -000.031 | delta Az= +000.467 [Dome] delta Az = +000.235\n",
      "[Telescope] delta Alt = -000.031 | delta Az= +000.467 [Dome] delta Az = +000.235\n"
     ]
    },
    {
     "data": {
      "text/plain": [
       "array([2020021800096])"
      ]
     },
     "execution_count": 100,
     "metadata": {},
     "output_type": "execute_result"
    },
    {
     "name": "stdout",
     "output_type": "stream",
     "text": [
      "[Telescope] delta Alt = -000.031 | delta Az= +000.467 [Dome] delta Az = +000.235\n",
      "[Telescope] delta Alt = -000.031 | delta Az= +000.468 [Dome] delta Az = +000.235\n",
      "[Telescope] delta Alt = -000.031 | delta Az= +000.465 [Dome] delta Az = +000.235\n",
      "[Telescope] delta Alt = -000.031 | delta Az= +000.466 [Dome] delta Az = +000.235\n",
      "[Telescope] delta Alt = -000.031 | delta Az= +000.467 [Dome] delta Az = +000.235\n",
      "[Telescope] delta Alt = -000.031 | delta Az= +000.467 [Dome] delta Az = +000.235\n",
      "[Telescope] delta Alt = -000.031 | delta Az= +000.467 [Dome] delta Az = +000.235\n",
      "[Telescope] delta Alt = -000.031 | delta Az= +000.465 [Dome] delta Az = +000.235\n",
      "[Telescope] delta Alt = -000.031 | delta Az= +000.466 [Dome] delta Az = +000.235\n",
      "[Telescope] delta Alt = -000.031 | delta Az= +000.466 [Dome] delta Az = +000.235\n",
      "[Telescope] delta Alt = -000.031 | delta Az= +000.466 [Dome] delta Az = +000.235\n",
      "[Telescope] delta Alt = -000.031 | delta Az= +000.466 [Dome] delta Az = +000.235\n",
      "[Telescope] delta Alt = -000.031 | delta Az= +000.464 [Dome] delta Az = +000.235\n",
      "[Telescope] delta Alt = -000.031 | delta Az= +000.465 [Dome] delta Az = +000.235\n",
      "[Telescope] delta Alt = -000.032 | delta Az= +000.465 [Dome] delta Az = +000.235\n",
      "[Telescope] delta Alt = -000.032 | delta Az= +000.465 [Dome] delta Az = +000.235\n",
      "[Telescope] delta Alt = -000.032 | delta Az= +000.466 [Dome] delta Az = +000.235\n",
      "[Telescope] delta Alt = -000.032 | delta Az= +000.466 [Dome] delta Az = +000.235\n",
      "[Telescope] delta Alt = -000.032 | delta Az= +000.464 [Dome] delta Az = +000.235\n",
      "[Telescope] delta Alt = -000.032 | delta Az= +000.464 [Dome] delta Az = +000.235\n",
      "[Telescope] delta Alt = -000.032 | delta Az= +000.464 [Dome] delta Az = +000.235\n",
      "[Telescope] delta Alt = -000.032 | delta Az= +000.464 [Dome] delta Az = +000.235\n"
     ]
    }
   ],
   "source": [
    "await latiss.take_object(exptime=.5, n=1, filter='KPNO_406_828nm', grating='empty_1')"
   ]
  },
  {
   "cell_type": "code",
   "execution_count": 101,
   "metadata": {},
   "outputs": [
    {
     "data": {
      "text/plain": [
       "<lsst.ts.salobj.ddsutil.ATPtg_ackcmd_2d655b72 at 0x7f1507971908>"
      ]
     },
     "execution_count": 101,
     "metadata": {},
     "output_type": "execute_result"
    },
    {
     "name": "stdout",
     "output_type": "stream",
     "text": [
      "[Telescope] delta Alt = -000.032 | delta Az= +000.462 [Dome] delta Az = +000.235\n",
      "[Telescope] delta Alt = -000.032 | delta Az= +000.463 [Dome] delta Az = +000.235\n",
      "[Telescope] delta Alt = -000.032 | delta Az= +000.463 [Dome] delta Az = +000.235\n",
      "[Telescope] delta Alt = -000.032 | delta Az= +000.464 [Dome] delta Az = +000.235\n",
      "[Telescope] delta Alt = -000.032 | delta Az= +000.464 [Dome] delta Az = +000.235\n",
      "[Telescope] delta Alt = -000.032 | delta Az= +000.464 [Dome] delta Az = +000.235\n",
      "[Telescope] delta Alt = -000.032 | delta Az= +000.462 [Dome] delta Az = +000.235\n",
      "[Telescope] delta Alt = -000.032 | delta Az= +000.462 [Dome] delta Az = +000.235\n",
      "[Telescope] delta Alt = -000.033 | delta Az= +000.463 [Dome] delta Az = +000.235\n",
      "[Telescope] delta Alt = -000.033 | delta Az= +000.463 [Dome] delta Az = +000.235\n",
      "[Telescope] delta Alt = -000.033 | delta Az= +000.463 [Dome] delta Az = +000.235\n",
      "[Telescope] delta Alt = -000.033 | delta Az= +000.464 [Dome] delta Az = +000.235\n",
      "[Telescope] delta Alt = -000.033 | delta Az= +000.462 [Dome] delta Az = +000.235\n",
      "[Telescope] delta Alt = -000.033 | delta Az= +000.462 [Dome] delta Az = +000.235\n",
      "[Telescope] delta Alt = -000.033 | delta Az= +000.462 [Dome] delta Az = +000.235\n",
      "[Telescope] delta Alt = -000.033 | delta Az= +000.463 [Dome] delta Az = +000.235\n",
      "[Telescope] delta Alt = -000.033 | delta Az= +000.461 [Dome] delta Az = +000.235\n",
      "[Telescope] delta Alt = -000.033 | delta Az= +000.461 [Dome] delta Az = +000.235\n",
      "[Telescope] delta Alt = -000.033 | delta Az= +000.461 [Dome] delta Az = +000.235\n",
      "[Telescope] delta Alt = -000.033 | delta Az= +000.461 [Dome] delta Az = +000.235\n"
     ]
    }
   ],
   "source": [
    "await attcs.atptg.cmd_pointNewFile.start()"
   ]
  },
  {
   "cell_type": "code",
   "execution_count": 102,
   "metadata": {},
   "outputs": [
    {
     "name": "stdout",
     "output_type": "stream",
     "text": [
      "Applying x/y offset: -32.6/ -69.5 \n",
      "Applying Az/El offset: -4.760635732593446/ -76.61818548766053 \n",
      "Waiting for telescope to settle.\n",
      "[Telescope] delta Alt = -000.033 | delta Az= +000.461 [Dome] delta Az = +000.235\n",
      "Done\n",
      "[Telescope] delta Alt = -000.033 | delta Az= +000.461 [Dome] delta Az = +000.235\n",
      "[Telescope] delta Alt = -000.033 | delta Az= +000.459 [Dome] delta Az = +000.235\n",
      "[Telescope] delta Alt = -000.033 | delta Az= +000.459 [Dome] delta Az = +000.235\n"
     ]
    }
   ],
   "source": [
    "x = -326*0.1\n",
    "y = -695*0.1\n",
    "\n",
    "await attcs.offset_xy(x=x, y=y)"
   ]
  },
  {
   "cell_type": "code",
   "execution_count": 103,
   "metadata": {},
   "outputs": [
    {
     "name": "stdout",
     "output_type": "stream",
     "text": [
      "Generating group_id\n",
      "OBJECT 0001 - 0001\n",
      "[Telescope] delta Alt = -000.033 | delta Az= +000.460 [Dome] delta Az = +000.235\n",
      "[Telescope] delta Alt = -000.034 | delta Az= +000.460 [Dome] delta Az = +000.235\n",
      "Waiting for header service LFO before continuing\n",
      "RemoteEvent(ATHeaderService, 0, logMessage) falling behind; read 12 messages\n",
      "[Telescope] delta Alt = -000.034 | delta Az= +000.460 [Dome] delta Az = +000.235\n",
      "[Telescope] delta Alt = -000.034 | delta Az= +000.460 [Dome] delta Az = +000.235\n",
      "[Telescope] delta Alt = -000.034 | delta Az= +000.458 [Dome] delta Az = +000.235\n"
     ]
    },
    {
     "data": {
      "text/plain": [
       "array([2020021800097])"
      ]
     },
     "execution_count": 103,
     "metadata": {},
     "output_type": "execute_result"
    },
    {
     "name": "stdout",
     "output_type": "stream",
     "text": [
      "[Telescope] delta Alt = -000.034 | delta Az= +000.459 [Dome] delta Az = +000.235\n",
      "[Telescope] delta Alt = -000.034 | delta Az= +000.459 [Dome] delta Az = +000.235\n",
      "[Telescope] delta Alt = -000.034 | delta Az= +000.459 [Dome] delta Az = +000.235\n"
     ]
    }
   ],
   "source": [
    "await latiss.take_object(exptime=.5, n=1, filter='KPNO_406_828nm', grating='empty_1')"
   ]
  },
  {
   "cell_type": "code",
   "execution_count": 104,
   "metadata": {},
   "outputs": [
    {
     "data": {
      "text/plain": [
       "<lsst.ts.salobj.ddsutil.ATPtg_ackcmd_2d655b72 at 0x7f151be6c828>"
      ]
     },
     "execution_count": 104,
     "metadata": {},
     "output_type": "execute_result"
    },
    {
     "name": "stdout",
     "output_type": "stream",
     "text": [
      "[Telescope] delta Alt = -000.034 | delta Az= +000.460 [Dome] delta Az = +000.235\n",
      "[Telescope] delta Alt = -000.034 | delta Az= +000.457 [Dome] delta Az = +000.235\n",
      "[Telescope] delta Alt = -000.034 | delta Az= +000.458 [Dome] delta Az = +000.235\n",
      "[Telescope] delta Alt = -000.034 | delta Az= +000.458 [Dome] delta Az = +000.235\n",
      "[Telescope] delta Alt = -000.034 | delta Az= +000.458 [Dome] delta Az = +000.235\n",
      "[Telescope] delta Alt = -000.034 | delta Az= +000.459 [Dome] delta Az = +000.235\n",
      "[Telescope] delta Alt = -000.034 | delta Az= +000.457 [Dome] delta Az = +000.235\n",
      "[Telescope] delta Alt = -000.034 | delta Az= +000.457 [Dome] delta Az = +000.235\n",
      "[Telescope] delta Alt = -000.034 | delta Az= +000.457 [Dome] delta Az = +000.235\n",
      "[Telescope] delta Alt = -000.034 | delta Az= +000.457 [Dome] delta Az = +000.235\n",
      "[Telescope] delta Alt = -000.034 | delta Az= +000.457 [Dome] delta Az = +000.235\n",
      "[Telescope] delta Alt = -000.034 | delta Az= +000.458 [Dome] delta Az = +000.235\n",
      "[Telescope] delta Alt = -000.034 | delta Az= +000.456 [Dome] delta Az = +000.235\n",
      "[Telescope] delta Alt = -000.035 | delta Az= +000.456 [Dome] delta Az = +000.235\n",
      "[Telescope] delta Alt = -000.035 | delta Az= +000.457 [Dome] delta Az = +000.235\n",
      "[Telescope] delta Alt = -000.035 | delta Az= +000.457 [Dome] delta Az = +000.235\n",
      "[Telescope] delta Alt = -000.035 | delta Az= +000.457 [Dome] delta Az = +000.235\n",
      "[Telescope] delta Alt = -000.035 | delta Az= +000.458 [Dome] delta Az = +000.235\n",
      "[Telescope] delta Alt = -000.035 | delta Az= +000.455 [Dome] delta Az = +000.235\n",
      "[Telescope] delta Alt = -000.035 | delta Az= +000.458 [Dome] delta Az = +000.235\n",
      "[Telescope] delta Alt = -000.035 | delta Az= +000.456 [Dome] delta Az = +000.235\n",
      "[Telescope] delta Alt = -000.035 | delta Az= +000.456 [Dome] delta Az = +000.235\n",
      "[Telescope] delta Alt = -000.035 | delta Az= +000.457 [Dome] delta Az = +000.235\n",
      "[Telescope] delta Alt = -000.035 | delta Az= +000.454 [Dome] delta Az = +000.235\n",
      "[Telescope] delta Alt = -000.035 | delta Az= +000.454 [Dome] delta Az = +000.235\n",
      "[Telescope] delta Alt = -000.035 | delta Az= +000.455 [Dome] delta Az = +000.235\n",
      "[Telescope] delta Alt = -000.035 | delta Az= +000.455 [Dome] delta Az = +000.235\n",
      "[Telescope] delta Alt = -000.035 | delta Az= +000.456 [Dome] delta Az = +000.235\n",
      "[Telescope] delta Alt = -000.035 | delta Az= +000.454 [Dome] delta Az = +000.235\n",
      "[Telescope] delta Alt = -000.035 | delta Az= +000.454 [Dome] delta Az = +000.235\n",
      "[Telescope] delta Alt = -000.036 | delta Az= +000.454 [Dome] delta Az = +000.235\n",
      "[Telescope] delta Alt = -000.035 | delta Az= +000.455 [Dome] delta Az = +000.235\n",
      "[Telescope] delta Alt = -000.036 | delta Az= +000.454 [Dome] delta Az = +000.235\n",
      "[Telescope] delta Alt = -000.036 | delta Az= +000.452 [Dome] delta Az = +000.235\n",
      "[Telescope] delta Alt = -000.036 | delta Az= +000.453 [Dome] delta Az = +000.235\n",
      "[Telescope] delta Alt = -000.036 | delta Az= +000.453 [Dome] delta Az = +000.235\n",
      "[Telescope] delta Alt = -000.036 | delta Az= +000.454 [Dome] delta Az = +000.235\n",
      "[Telescope] delta Alt = -000.036 | delta Az= +000.454 [Dome] delta Az = +000.235\n",
      "[Telescope] delta Alt = -000.036 | delta Az= +000.453 [Dome] delta Az = +000.235\n",
      "[Telescope] delta Alt = -000.036 | delta Az= +000.454 [Dome] delta Az = +000.235\n",
      "[Telescope] delta Alt = -000.036 | delta Az= +000.452 [Dome] delta Az = +000.235\n",
      "[Telescope] delta Alt = -000.036 | delta Az= +000.452 [Dome] delta Az = +000.235\n",
      "[Telescope] delta Alt = -000.036 | delta Az= +000.453 [Dome] delta Az = +000.235\n",
      "[Telescope] delta Alt = -000.036 | delta Az= +000.453 [Dome] delta Az = +000.235\n",
      "[Telescope] delta Alt = -000.036 | delta Az= +000.454 [Dome] delta Az = +000.235\n",
      "[Telescope] delta Alt = -000.036 | delta Az= +000.452 [Dome] delta Az = +000.235\n",
      "[Telescope] delta Alt = -000.036 | delta Az= +000.451 [Dome] delta Az = +000.235\n",
      "[Telescope] delta Alt = -000.036 | delta Az= +000.452 [Dome] delta Az = +000.235\n",
      "[Telescope] delta Alt = -000.037 | delta Az= +000.452 [Dome] delta Az = +000.235\n",
      "[Telescope] delta Alt = -000.037 | delta Az= +000.452 [Dome] delta Az = +000.235\n",
      "[Telescope] delta Alt = -000.037 | delta Az= +000.450 [Dome] delta Az = +000.235\n",
      "[Telescope] delta Alt = -000.037 | delta Az= +000.451 [Dome] delta Az = +000.235\n",
      "[Telescope] delta Alt = -000.037 | delta Az= +000.451 [Dome] delta Az = +000.235\n",
      "[Telescope] delta Alt = -000.037 | delta Az= +000.452 [Dome] delta Az = +000.235\n",
      "[Telescope] delta Alt = -000.037 | delta Az= +000.452 [Dome] delta Az = +000.235\n",
      "[Telescope] delta Alt = -000.037 | delta Az= +000.449 [Dome] delta Az = +000.235\n",
      "[Telescope] delta Alt = -000.037 | delta Az= +000.450 [Dome] delta Az = +000.235\n",
      "[Telescope] delta Alt = -000.037 | delta Az= +000.450 [Dome] delta Az = +000.235\n",
      "[Telescope] delta Alt = -000.037 | delta Az= +000.450 [Dome] delta Az = +000.235\n",
      "[Telescope] delta Alt = -000.037 | delta Az= +000.451 [Dome] delta Az = +000.235\n",
      "[Telescope] delta Alt = -000.037 | delta Az= +000.448 [Dome] delta Az = +000.235\n",
      "[Telescope] delta Alt = -000.037 | delta Az= +000.449 [Dome] delta Az = +000.235\n",
      "[Telescope] delta Alt = -000.037 | delta Az= +000.449 [Dome] delta Az = +000.235\n",
      "[Telescope] delta Alt = -000.037 | delta Az= +000.449 [Dome] delta Az = +000.235\n",
      "[Telescope] delta Alt = -000.037 | delta Az= +000.450 [Dome] delta Az = +000.235\n",
      "[Telescope] delta Alt = -000.038 | delta Az= +000.450 [Dome] delta Az = +000.235\n",
      "[Telescope] delta Alt = -000.037 | delta Az= +000.448 [Dome] delta Az = +000.235\n",
      "[Telescope] delta Alt = -000.037 | delta Az= +000.448 [Dome] delta Az = +000.235\n",
      "[Telescope] delta Alt = -000.038 | delta Az= +000.449 [Dome] delta Az = +000.235\n",
      "[Telescope] delta Alt = -000.038 | delta Az= +000.449 [Dome] delta Az = +000.235\n",
      "[Telescope] delta Alt = -000.038 | delta Az= +000.449 [Dome] delta Az = +000.235\n",
      "[Telescope] delta Alt = -000.038 | delta Az= +000.447 [Dome] delta Az = +000.235\n",
      "[Telescope] delta Alt = -000.038 | delta Az= +000.447 [Dome] delta Az = +000.235\n",
      "[Telescope] delta Alt = -000.038 | delta Az= +000.448 [Dome] delta Az = +000.235\n",
      "[Telescope] delta Alt = -000.038 | delta Az= +000.448 [Dome] delta Az = +000.235\n",
      "[Telescope] delta Alt = -000.038 | delta Az= +000.448 [Dome] delta Az = +000.235\n",
      "[Telescope] delta Alt = -000.038 | delta Az= +000.448 [Dome] delta Az = +000.235\n",
      "[Telescope] delta Alt = -000.038 | delta Az= +000.446 [Dome] delta Az = +000.235\n",
      "[Telescope] delta Alt = -000.038 | delta Az= +000.447 [Dome] delta Az = +000.235\n",
      "[Telescope] delta Alt = -000.038 | delta Az= +000.447 [Dome] delta Az = +000.235\n",
      "[Telescope] delta Alt = -000.038 | delta Az= +000.448 [Dome] delta Az = +000.235\n",
      "[Telescope] delta Alt = -000.038 | delta Az= +000.447 [Dome] delta Az = +000.235\n",
      "[Telescope] delta Alt = -000.038 | delta Az= +000.445 [Dome] delta Az = +000.235\n",
      "[Telescope] delta Alt = -000.038 | delta Az= +000.446 [Dome] delta Az = +000.235\n",
      "[Telescope] delta Alt = -000.038 | delta Az= +000.446 [Dome] delta Az = +000.235\n",
      "[Telescope] delta Alt = -000.039 | delta Az= +000.446 [Dome] delta Az = +000.235\n",
      "[Telescope] delta Alt = -000.039 | delta Az= +000.446 [Dome] delta Az = +000.235\n",
      "[Telescope] delta Alt = -000.038 | delta Az= +000.445 [Dome] delta Az = +000.235\n",
      "[Telescope] delta Alt = -000.039 | delta Az= +000.445 [Dome] delta Az = +000.235\n",
      "[Telescope] delta Alt = -000.039 | delta Az= +000.445 [Dome] delta Az = +000.235\n",
      "[Telescope] delta Alt = -000.039 | delta Az= +000.445 [Dome] delta Az = +000.235\n",
      "[Telescope] delta Alt = -000.039 | delta Az= +000.446 [Dome] delta Az = +000.235\n",
      "[Telescope] delta Alt = -000.039 | delta Az= +000.446 [Dome] delta Az = +000.235\n",
      "[Telescope] delta Alt = -000.039 | delta Az= +000.444 [Dome] delta Az = +000.235\n",
      "[Telescope] delta Alt = -000.039 | delta Az= +000.444 [Dome] delta Az = +000.235\n",
      "[Telescope] delta Alt = -000.039 | delta Az= +000.444 [Dome] delta Az = +000.235\n",
      "[Telescope] delta Alt = -000.039 | delta Az= +000.445 [Dome] delta Az = +000.235\n",
      "[Telescope] delta Alt = -000.039 | delta Az= +000.445 [Dome] delta Az = +000.235\n",
      "[Telescope] delta Alt = -000.039 | delta Az= +000.445 [Dome] delta Az = +000.235\n",
      "[Telescope] delta Alt = -000.039 | delta Az= +000.443 [Dome] delta Az = +000.235\n",
      "[Telescope] delta Alt = -000.039 | delta Az= +000.443 [Dome] delta Az = +000.235\n",
      "[Telescope] delta Alt = -000.039 | delta Az= +000.444 [Dome] delta Az = +000.235\n",
      "[Telescope] delta Alt = -000.039 | delta Az= +000.444 [Dome] delta Az = +000.235\n",
      "[Telescope] delta Alt = -000.040 | delta Az= +000.444 [Dome] delta Az = +000.235\n",
      "[Telescope] delta Alt = -000.039 | delta Az= +000.442 [Dome] delta Az = +000.235\n",
      "[Telescope] delta Alt = -000.039 | delta Az= +000.442 [Dome] delta Az = +000.235\n",
      "[Telescope] delta Alt = -000.040 | delta Az= +000.443 [Dome] delta Az = +000.235\n",
      "[Telescope] delta Alt = -000.040 | delta Az= +000.443 [Dome] delta Az = +000.235\n",
      "[Telescope] delta Alt = -000.040 | delta Az= +000.443 [Dome] delta Az = +000.235\n",
      "[Telescope] delta Alt = -000.040 | delta Az= +000.440 [Dome] delta Az = +000.235\n",
      "[Telescope] delta Alt = -000.040 | delta Az= +000.442 [Dome] delta Az = +000.235\n",
      "[Telescope] delta Alt = -000.040 | delta Az= +000.441 [Dome] delta Az = +000.235\n",
      "[Telescope] delta Alt = -000.040 | delta Az= +000.442 [Dome] delta Az = +000.235\n",
      "[Telescope] delta Alt = -000.040 | delta Az= +000.443 [Dome] delta Az = +000.235\n",
      "[Telescope] delta Alt = -000.040 | delta Az= +000.442 [Dome] delta Az = +000.235\n",
      "[Telescope] delta Alt = -000.040 | delta Az= +000.440 [Dome] delta Az = +000.235\n",
      "[Telescope] delta Alt = -000.040 | delta Az= +000.441 [Dome] delta Az = +000.235\n",
      "[Telescope] delta Alt = -000.040 | delta Az= +000.441 [Dome] delta Az = +000.235\n",
      "[Telescope] delta Alt = -000.040 | delta Az= +000.441 [Dome] delta Az = +000.235\n",
      "[Telescope] delta Alt = -000.041 | delta Az= +000.442 [Dome] delta Az = +000.235\n",
      "[Telescope] delta Alt = -000.040 | delta Az= +000.439 [Dome] delta Az = +000.235\n",
      "[Telescope] delta Alt = -000.040 | delta Az= +000.440 [Dome] delta Az = +000.235\n",
      "[Telescope] delta Alt = -000.040 | delta Az= +000.440 [Dome] delta Az = +000.235\n",
      "[Telescope] delta Alt = -000.041 | delta Az= +000.440 [Dome] delta Az = +000.235\n",
      "[Telescope] delta Alt = -000.041 | delta Az= +000.441 [Dome] delta Az = +000.235\n",
      "[Telescope] delta Alt = -000.041 | delta Az= +000.441 [Dome] delta Az = +000.235\n",
      "[Telescope] delta Alt = -000.041 | delta Az= +000.439 [Dome] delta Az = +000.235\n",
      "[Telescope] delta Alt = -000.041 | delta Az= +000.439 [Dome] delta Az = +000.235\n",
      "[Telescope] delta Alt = -000.041 | delta Az= +000.440 [Dome] delta Az = +000.235\n",
      "[Telescope] delta Alt = -000.041 | delta Az= +000.440 [Dome] delta Az = +000.235\n",
      "[Telescope] delta Alt = -000.041 | delta Az= +000.440 [Dome] delta Az = +021.434\n",
      "[Telescope] delta Alt = -000.042 | delta Az= +000.451 [Dome] delta Az = +020.814\n",
      "[Telescope] delta Alt = -000.041 | delta Az= +000.444 [Dome] delta Az = +019.354\n",
      "[Telescope] delta Alt = -000.041 | delta Az= +000.442 [Dome] delta Az = +017.134\n",
      "[Telescope] delta Alt = -000.041 | delta Az= +000.440 [Dome] delta Az = +013.794\n",
      "[Telescope] delta Alt = -000.041 | delta Az= +000.439 [Dome] delta Az = +009.064\n",
      "[Telescope] delta Alt = -000.043 | delta Az= +000.454 [Dome] delta Az = +005.454\n",
      "[Telescope] delta Alt = -000.042 | delta Az= +000.447 [Dome] delta Az = +000.814\n",
      "[Telescope] delta Alt = -000.042 | delta Az= +000.450 [Dome] delta Az = -000.186\n",
      "[Telescope] delta Alt = -000.042 | delta Az= +000.448 [Dome] delta Az = -000.186\n",
      "[Telescope] delta Alt = -000.044 | delta Az= +000.460 [Dome] delta Az = -000.186\n",
      "[Telescope] delta Alt = -000.043 | delta Az= +000.451 [Dome] delta Az = -000.186\n",
      "[Telescope] delta Alt = -000.042 | delta Az= +000.442 [Dome] delta Az = -000.186\n",
      "[Telescope] delta Alt = -000.042 | delta Az= +000.437 [Dome] delta Az = -000.186\n",
      "[Telescope] delta Alt = -000.042 | delta Az= +000.437 [Dome] delta Az = -000.186\n",
      "[Telescope] delta Alt = -000.042 | delta Az= +000.437 [Dome] delta Az = -000.186\n",
      "[Telescope] delta Alt = -000.042 | delta Az= +000.437 [Dome] delta Az = -000.186\n",
      "[Telescope] delta Alt = -000.042 | delta Az= +000.435 [Dome] delta Az = -000.186\n",
      "[Telescope] delta Alt = -000.042 | delta Az= +000.435 [Dome] delta Az = -000.186\n",
      "[Telescope] delta Alt = -000.042 | delta Az= +000.437 [Dome] delta Az = -000.186\n",
      "[Telescope] delta Alt = -000.042 | delta Az= +000.436 [Dome] delta Az = -000.186\n",
      "[Telescope] delta Alt = -000.042 | delta Az= +000.437 [Dome] delta Az = -000.186\n",
      "[Telescope] delta Alt = -000.042 | delta Az= +000.434 [Dome] delta Az = -000.186\n",
      "[Telescope] delta Alt = -000.042 | delta Az= +000.434 [Dome] delta Az = -000.186\n",
      "[Telescope] delta Alt = -000.042 | delta Az= +000.435 [Dome] delta Az = -000.186\n",
      "[Telescope] delta Alt = -000.042 | delta Az= +000.435 [Dome] delta Az = -000.186\n",
      "[Telescope] delta Alt = -000.042 | delta Az= +000.436 [Dome] delta Az = -000.186\n",
      "[Telescope] delta Alt = -000.042 | delta Az= +000.433 [Dome] delta Az = -000.186\n",
      "[Telescope] delta Alt = -000.042 | delta Az= +000.434 [Dome] delta Az = -000.186\n",
      "[Telescope] delta Alt = -000.042 | delta Az= +000.434 [Dome] delta Az = -000.186\n",
      "[Telescope] delta Alt = -000.042 | delta Az= +000.434 [Dome] delta Az = -000.186\n",
      "[Telescope] delta Alt = -000.042 | delta Az= +000.435 [Dome] delta Az = -000.186\n",
      "[Telescope] delta Alt = -000.043 | delta Az= +000.435 [Dome] delta Az = -000.186\n",
      "[Telescope] delta Alt = -000.042 | delta Az= +000.433 [Dome] delta Az = -000.186\n",
      "[Telescope] delta Alt = -000.043 | delta Az= +000.433 [Dome] delta Az = -000.186\n",
      "[Telescope] delta Alt = -000.043 | delta Az= +000.434 [Dome] delta Az = -000.186\n",
      "[Telescope] delta Alt = -000.043 | delta Az= +000.434 [Dome] delta Az = -000.186\n",
      "[Telescope] delta Alt = -000.043 | delta Az= +000.434 [Dome] delta Az = -000.186\n",
      "[Telescope] delta Alt = -000.043 | delta Az= +000.432 [Dome] delta Az = -000.186\n",
      "[Telescope] delta Alt = -000.043 | delta Az= +000.432 [Dome] delta Az = -000.186\n",
      "[Telescope] delta Alt = -000.043 | delta Az= +000.433 [Dome] delta Az = -000.186\n",
      "[Telescope] delta Alt = -000.043 | delta Az= +000.432 [Dome] delta Az = -000.186\n",
      "[Telescope] delta Alt = -000.043 | delta Az= +000.433 [Dome] delta Az = -000.186\n",
      "[Telescope] delta Alt = -000.043 | delta Az= +000.434 [Dome] delta Az = -000.186\n",
      "[Telescope] delta Alt = -000.043 | delta Az= +000.431 [Dome] delta Az = -000.186\n",
      "[Telescope] delta Alt = -000.043 | delta Az= +000.431 [Dome] delta Az = -000.186\n",
      "[Telescope] delta Alt = -000.043 | delta Az= +000.431 [Dome] delta Az = -000.186\n",
      "[Telescope] delta Alt = -000.043 | delta Az= +000.432 [Dome] delta Az = -000.186\n",
      "[Telescope] delta Alt = -000.043 | delta Az= +000.432 [Dome] delta Az = -000.186\n",
      "[Telescope] delta Alt = -000.043 | delta Az= +000.430 [Dome] delta Az = -000.186\n",
      "[Telescope] delta Alt = -000.043 | delta Az= +000.430 [Dome] delta Az = -000.186\n",
      "[Telescope] delta Alt = -000.043 | delta Az= +000.431 [Dome] delta Az = -000.186\n",
      "[Telescope] delta Alt = -000.044 | delta Az= +000.431 [Dome] delta Az = -000.186\n",
      "[Telescope] delta Alt = -000.044 | delta Az= +000.431 [Dome] delta Az = -000.186\n",
      "[Telescope] delta Alt = -000.044 | delta Az= +000.432 [Dome] delta Az = -000.186\n",
      "[Telescope] delta Alt = -000.044 | delta Az= +000.429 [Dome] delta Az = -000.186\n",
      "[Telescope] delta Alt = -000.044 | delta Az= +000.430 [Dome] delta Az = -000.186\n",
      "[Telescope] delta Alt = -000.044 | delta Az= +000.430 [Dome] delta Az = -000.186\n",
      "[Telescope] delta Alt = -000.044 | delta Az= +000.430 [Dome] delta Az = -000.186\n",
      "RemoteEvent(ATMCS, 0, target) falling behind; read 70 messages\n",
      "RemoteEvent(ATMCS, 0, target) falling behind; read 15 messages\n",
      "RemoteEvent(ATMCS, 0, target) falling behind; read 49 messages\n",
      "RemoteEvent(ATDomeTrajectory, 0, logMessage) falling behind; read 23 messages\n",
      "RemoteEvent(ATMCS, 0, heartbeat) falling behind; read 13 messages\n",
      "RemoteEvent(ATDomeTrajectory, 0, logMessage) falling behind; read 25 messages\n",
      "RemoteEvent(ATHeaderService, 0, logMessage) falling behind; read 10 messages\n",
      "RemoteEvent(ATMCS, 0, target) falling behind; read 88 messages\n",
      "RemoteTelemetry(ATPtg, 0, timeAndDate) falling behind; read 34 messages\n",
      "RemoteEvent(ATDomeTrajectory, 0, logMessage) falling behind; read 88 messages\n",
      "RemoteTelemetry(ATDome, 0, position) falling behind; read 33 messages\n",
      "RemoteTelemetry(ATPtg, 0, mountStatus) falling behind; read 34 messages\n",
      "RemoteTelemetry(ATPtg, 0, guidingAndOffsets) falling behind; read 35 messages\n",
      "RemoteTelemetry(ATPtg, 0, currentTargetStatus) falling behind; read 35 messages\n",
      "RemoteEvent(ATDomeTrajectory, 0, logMessage) falling behind; read 11 messages\n",
      "RemoteEvent(ATHeaderService, 0, logMessage) falling behind; read 10 messages\n",
      "RemoteEvent(ATHeaderService, 0, logMessage) falling behind; read 11 messages\n",
      "RemoteEvent(ATHeaderService, 0, logMessage) falling behind; read 12 messages\n",
      "RemoteEvent(ATHeaderService, 0, logMessage) falling behind; read 13 messages\n",
      "RemoteEvent(ATHeaderService, 0, logMessage) falling behind; read 10 messages\n",
      "RemoteEvent(ATMCS, 0, target) falling behind; read 82 messages\n",
      "RemoteEvent(ATDomeTrajectory, 0, logMessage) falling behind; read 36 messages\n"
     ]
    }
   ],
   "source": [
    "await attcs.atptg.cmd_pointAddData.start()"
   ]
  },
  {
   "cell_type": "code",
   "execution_count": null,
   "metadata": {},
   "outputs": [],
   "source": []
  }
 ],
 "metadata": {
  "kernelspec": {
   "display_name": "Python 3",
   "language": "python",
   "name": "python3"
  },
  "language_info": {
   "codemirror_mode": {
    "name": "ipython",
    "version": 3
   },
   "file_extension": ".py",
   "mimetype": "text/x-python",
   "name": "python",
   "nbconvert_exporter": "python",
   "pygments_lexer": "ipython3",
   "version": "3.7.2"
  }
 },
 "nbformat": 4,
 "nbformat_minor": 4
}
