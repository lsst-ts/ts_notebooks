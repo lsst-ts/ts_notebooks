{
 "cells": [
  {
   "cell_type": "code",
   "execution_count": 1,
   "metadata": {},
   "outputs": [],
   "source": [
    "import os\n",
    "import sys\n",
    "import copy\n",
    "import wget\n",
    "import time\n",
    "import asyncio\n",
    "import warnings\n",
    "import logging\n",
    "from astropy import time as astropytime\n",
    "\n",
    "import astropy.units as u\n",
    "from astropy.coordinates import AltAz, ICRS, EarthLocation, Angle\n",
    "\n",
    "import numpy as np\n",
    "\n",
    "from lsst.ts import salobj\n",
    "from lsst.ts.standardscripts.auxtel.attcs import ATTCS\n",
    "from lsst.ts.standardscripts.auxtel.latiss import LATISS\n",
    "\n",
    "%matplotlib inline"
   ]
  },
  {
   "cell_type": "code",
   "execution_count": 2,
   "metadata": {},
   "outputs": [],
   "source": [
    "stream_handler = logging.StreamHandler(sys.stdout)\n",
    "\n",
    "logger = logging.getLogger()\n",
    "logger.addHandler(stream_handler)\n",
    "logger.level = logging.DEBUG"
   ]
  },
  {
   "cell_type": "code",
   "execution_count": 3,
   "metadata": {},
   "outputs": [],
   "source": [
    "attcs = ATTCS()\n",
    "latiss = LATISS(attcs.domain)"
   ]
  },
  {
   "cell_type": "code",
   "execution_count": 4,
   "metadata": {},
   "outputs": [
    {
     "name": "stdout",
     "output_type": "stream",
     "text": [
      "Read historical data in 6.15 sec\n",
      "Read historical data in 6.55 sec\n",
      "Read historical data in 6.76 sec\n",
      "Read historical data in 7.05 sec\n",
      "Read historical data in 7.62 sec\n",
      "Read historical data in 8.16 sec\n",
      "Read historical data in 8.78 sec\n",
      "Read historical data in 9.81 sec\n",
      "Read historical data in 10.32 sec\n",
      "Read historical data in 11.55 sec\n",
      "Read historical data in 13.68 sec\n",
      "RemoteTelemetry(ATDome, 0, position) falling behind; read 25 messages\n"
     ]
    },
    {
     "data": {
      "text/plain": [
       "[[None, None, None, None, None, None, None], [None, None, None, None]]"
      ]
     },
     "execution_count": 4,
     "metadata": {},
     "output_type": "execute_result"
    }
   ],
   "source": [
    "await asyncio.gather(attcs.start_task, latiss.start_task)"
   ]
  },
  {
   "cell_type": "code",
   "execution_count": 5,
   "metadata": {},
   "outputs": [
    {
     "name": "stdout",
     "output_type": "stream",
     "text": [
      "Disabling ATAOS corrections\n",
      "Disable ATDomeTrajectory\n",
      "Slew telescope to Park position.\n",
      "Sending command\n",
      "Stop tracking.\n",
      "Mount tracking state is 8\n",
      "In Position: False.\n",
      "Scheduling check coroutines\n",
      "process as completed...\n",
      "Got False\n",
      "Telescope not in position\n",
      "atmcs: <State.ENABLED: 2>\n",
      "atptg: <State.ENABLED: 2>\n",
      "ataos: <State.ENABLED: 2>\n",
      "atpneumatics: <State.ENABLED: 2>\n",
      "athexapod: <State.ENABLED: 2>\n",
      "[Telescope] delta Alt = -000.000 | delta Az= -000.000\n",
      "Axes in position.\n",
      "None\n",
      "Stop tracking.\n",
      "Mount tracking state is 9\n",
      "Tracking state: 10.\n",
      "Tracking state: 8.\n",
      "In Position: False.\n",
      "Cover state <MirrorCoverState.CLOSED: 6>\n",
      "M1 cover already closed.\n",
      "Close dome.\n",
      "ATDome Shutter Door is already closed. Ignoring.\n",
      "Slew dome to Park position.\n",
      "atdometrajectory: <State.DISABLED: 1>\n",
      "[Dome] delta Az = -078.030\n",
      "[Dome] delta Az = -077.920\n",
      "[Dome] delta Az = -077.570\n",
      "[Dome] delta Az = -076.980\n",
      "[Dome] delta Az = -076.160\n",
      "[Dome] delta Az = -075.110\n",
      "[Dome] delta Az = -073.830\n",
      "[Dome] delta Az = -072.320\n",
      "[Dome] delta Az = -070.570\n",
      "[Dome] delta Az = -068.600\n",
      "[Dome] delta Az = -066.390\n",
      "[Dome] delta Az = -063.950\n",
      "[Dome] delta Az = -061.300\n",
      "[Dome] delta Az = -058.420\n",
      "[Dome] delta Az = -055.280\n",
      "[Dome] delta Az = -051.950\n",
      "[Dome] delta Az = -048.500\n",
      "[Dome] delta Az = -045.090\n",
      "[Dome] delta Az = -041.610\n",
      "[Dome] delta Az = -038.170\n",
      "[Dome] delta Az = -034.730\n",
      "[Dome] delta Az = -031.290\n",
      "[Dome] delta Az = -027.850\n",
      "[Dome] delta Az = -024.410\n",
      "[Dome] delta Az = -020.970\n",
      "[Dome] delta Az = -017.510\n",
      "[Dome] delta Az = -014.070\n",
      "[Dome] delta Az = -010.630\n",
      "[Dome] delta Az = -007.200\n",
      "[Dome] delta Az = -003.760\n",
      "ATDome in position.\n",
      "Put all CSCs in standby\n",
      "[atmcs]::[<State.ENABLED: 2>, <State.DISABLED: 1>, <State.STANDBY: 5>]\n",
      "[atptg]::[<State.ENABLED: 2>, <State.DISABLED: 1>, <State.STANDBY: 5>]\n",
      "[ataos]::[<State.ENABLED: 2>, <State.DISABLED: 1>, <State.STANDBY: 5>]\n",
      "[atpneumatics]::[<State.ENABLED: 2>, <State.DISABLED: 1>, <State.STANDBY: 5>]\n",
      "[athexapod]::[<State.ENABLED: 2>, <State.DISABLED: 1>, <State.STANDBY: 5>]\n",
      "[atdome]::[<State.ENABLED: 2>, <State.DISABLED: 1>, <State.STANDBY: 5>]\n",
      "[atdometrajectory]::[<State.DISABLED: 1>, <State.STANDBY: 5>]\n",
      "All components in standby.\n",
      "RemoteTelemetry(ATPtg, 0, timeAndDate) falling behind; read 22 messages\n",
      "RemoteTelemetry(ATPtg, 0, mountStatus) falling behind; read 46 messages\n",
      "RemoteTelemetry(ATPtg, 0, guidingAndOffsets) falling behind; read 46 messages\n",
      "RemoteTelemetry(ATPtg, 0, currentTargetStatus) falling behind; read 47 messages\n",
      "RemoteTelemetry(ATDome, 0, position) falling behind; read 46 messages\n",
      "RemoteEvent(ATDomeTrajectory, 0, heartbeat) falling behind; read 10 messages\n"
     ]
    }
   ],
   "source": [
    "await attcs.shutdown()"
   ]
  },
  {
   "cell_type": "code",
   "execution_count": 6,
   "metadata": {},
   "outputs": [
    {
     "data": {
      "text/plain": [
       "<lsst.ts.salobj.ddsutil.ATMCS_logevent_heartbeat_1ba6f555 at 0x7f16034ff470>"
      ]
     },
     "execution_count": 6,
     "metadata": {},
     "output_type": "execute_result"
    }
   ],
   "source": [
    "await attcs.atmcs.evt_heartbeat.next(timeout=60, flush=True)"
   ]
  },
  {
   "cell_type": "code",
   "execution_count": null,
   "metadata": {},
   "outputs": [],
   "source": [
    "await salobj.set_summary_state(latiss.atspectrograph, salobj.State.STANDBY)"
   ]
  },
  {
   "cell_type": "code",
   "execution_count": null,
   "metadata": {},
   "outputs": [],
   "source": [
    "await latiss.atspectrograph.cmd_disable.start()"
   ]
  },
  {
   "cell_type": "code",
   "execution_count": 7,
   "metadata": {},
   "outputs": [
    {
     "name": "stdout",
     "output_type": "stream",
     "text": [
      "RemoteTelemetry(ATDome, 0, position) falling behind; read 100 messages\n",
      "RemoteEvent(ATDome, 0, heartbeat) falling behind; read 25 messages\n",
      "RemoteEvent(ATSpectrograph, 0, heartbeat) falling behind; read 30 messages\n",
      "[atmcs]::[<State.DISABLED: 1>, <State.STANDBY: 5>]\n",
      "[atptg]::[<State.ENABLED: 2>, <State.DISABLED: 1>, <State.STANDBY: 5>]\n",
      "[ataos]::[<State.ENABLED: 2>, <State.DISABLED: 1>, <State.STANDBY: 5>]\n",
      "[atpneumatics]::[<State.DISABLED: 1>, <State.STANDBY: 5>]\n",
      "[athexapod]::[<State.ENABLED: 2>, <State.DISABLED: 1>, <State.STANDBY: 5>]\n",
      "[atdome]::[<State.ENABLED: 2>, <State.DISABLED: 1>, <State.STANDBY: 5>]\n",
      "Unable to put atdometrajectory in STANDBY\n",
      "Cannot get summaryState from ATDomeTrajectory\n",
      "NoneType: None\n"
     ]
    },
    {
     "ename": "RuntimeError",
     "evalue": "Unable to put atdometrajectory in STANDBY\n",
     "output_type": "error",
     "traceback": [
      "\u001b[0;31m\u001b[0m",
      "\u001b[0;31mRuntimeError\u001b[0mTraceback (most recent call last)",
      "\u001b[0;32m<ipython-input-7-44ba17aac35d>\u001b[0m in \u001b[0;36masync-def-wrapper\u001b[0;34m()\u001b[0m\n",
      "\u001b[0;32m~/repos/ts_standardscripts/python/lsst/ts/standardscripts/base_group.py\u001b[0m in \u001b[0;36mstandby\u001b[0;34m(self)\u001b[0m\n\u001b[1;32m    146\u001b[0m \u001b[0;34m\u001b[0m\u001b[0m\n\u001b[1;32m    147\u001b[0m         \u001b[0;32mif\u001b[0m \u001b[0merror_flag\u001b[0m\u001b[0;34m:\u001b[0m\u001b[0;34m\u001b[0m\u001b[0;34m\u001b[0m\u001b[0m\n\u001b[0;32m--> 148\u001b[0;31m             \u001b[0;32mraise\u001b[0m \u001b[0mRuntimeError\u001b[0m\u001b[0;34m(\u001b[0m\u001b[0merror_msg\u001b[0m\u001b[0;34m)\u001b[0m\u001b[0;34m\u001b[0m\u001b[0;34m\u001b[0m\u001b[0m\n\u001b[0m\u001b[1;32m    149\u001b[0m         \u001b[0;32melse\u001b[0m\u001b[0;34m:\u001b[0m\u001b[0;34m\u001b[0m\u001b[0;34m\u001b[0m\u001b[0m\n\u001b[1;32m    150\u001b[0m             \u001b[0mself\u001b[0m\u001b[0;34m.\u001b[0m\u001b[0mlog\u001b[0m\u001b[0;34m.\u001b[0m\u001b[0minfo\u001b[0m\u001b[0;34m(\u001b[0m\u001b[0;34m\"All components in standby.\"\u001b[0m\u001b[0;34m)\u001b[0m\u001b[0;34m\u001b[0m\u001b[0;34m\u001b[0m\u001b[0m\n",
      "\u001b[0;31mRuntimeError\u001b[0m: Unable to put atdometrajectory in STANDBY\n"
     ]
    }
   ],
   "source": [
    "await attcs.standby()"
   ]
  },
  {
   "cell_type": "code",
   "execution_count": 8,
   "metadata": {},
   "outputs": [
    {
     "name": "stdout",
     "output_type": "stream",
     "text": [
      "Gathering settings.\n",
      "No settings for atmcs.\n",
      "Using                                                                                                                                 from settingVersions event.\n",
      "No settings for atptg.\n",
      "Couldn't get settingVersions event. Using empty settings.\n",
      "No settings for ataos.\n",
      "Using current from settingVersions event.\n",
      "No settings for atpneumatics.\n",
      "Using                                                                                                                                 from settingVersions event.\n",
      "No settings for athexapod.\n",
      "Using current from settingVersions event.\n",
      "No settings for atdome.\n",
      "Using test from settingVersions event.\n",
      "No settings for atdometrajectory.\n",
      "Using  from settingVersions event.\n",
      "Settings versions: {'atmcs': '                                                                                                                               ', 'atptg': '', 'ataos': 'current', 'atpneumatics': '                                                                                                                               ', 'athexapod': 'current', 'atdome': 'test', 'atdometrajectory': ''}\n",
      "Enabling all components\n",
      "Enabling  atmcs\n",
      "Enabling  atptg\n",
      "Enabling  ataos\n",
      "Enabling  atpneumatics\n",
      "Enabling  athexapod\n",
      "Enabling  atdome\n",
      "Enabling  atdometrajectory\n",
      "[atmcs]::[<State.STANDBY: 5>, <State.DISABLED: 1>, <State.ENABLED: 2>]\n",
      "[atptg]::[<State.STANDBY: 5>, <State.DISABLED: 1>, <State.ENABLED: 2>]\n",
      "[ataos]::[<State.STANDBY: 5>, <State.DISABLED: 1>, <State.ENABLED: 2>]\n",
      "[atpneumatics]::[<State.STANDBY: 5>, <State.DISABLED: 1>, <State.ENABLED: 2>]\n",
      "[athexapod]::[<State.STANDBY: 5>, <State.DISABLED: 1>, <State.ENABLED: 2>]\n",
      "[atdome]::[<State.STANDBY: 5>, <State.DISABLED: 1>, <State.ENABLED: 2>]\n",
      "[atdometrajectory]::[<State.STANDBY: 5>, <State.DISABLED: 1>, <State.ENABLED: 2>]\n",
      "All components enabled.\n",
      "Stop tracking.\n",
      "Mount tracking state is 10\n",
      "Tracking state: 6.\n",
      "Tracking state: 5.\n",
      "Tracking state: 6.\n",
      "Tracking state: 10.\n",
      "Cover state <MirrorCoverState.CLOSED: 6>\n",
      "M1 cover already closed.\n",
      "Homing dome azimuth.\n",
      "Dome azimuth still homing.\n",
      "Dome azimuth still homing.\n",
      "Dome azimuth still homing.\n",
      "Moving dome to 90 degrees.\n",
      "atdometrajectory: <State.DISABLED: 1>\n",
      "[Dome] delta Az = +089.900\n",
      "[Dome] delta Az = +089.430\n",
      "[Dome] delta Az = +088.750\n",
      "[Dome] delta Az = +087.840\n",
      "[Dome] delta Az = +086.700\n",
      "[Dome] delta Az = +085.320\n",
      "[Dome] delta Az = +083.710\n",
      "[Dome] delta Az = +081.880\n",
      "[Dome] delta Az = +079.820\n",
      "[Dome] delta Az = +077.520\n",
      "[Dome] delta Az = +075.000\n",
      "[Dome] delta Az = +072.240\n",
      "[Dome] delta Az = +069.260\n",
      "[Dome] delta Az = +066.070\n",
      "[Dome] delta Az = +062.650\n",
      "[Dome] delta Az = +059.200\n",
      "[Dome] delta Az = +055.770\n",
      "[Dome] delta Az = +052.330\n",
      "[Dome] delta Az = +048.890\n",
      "[Dome] delta Az = +045.460\n",
      "[Dome] delta Az = +042.030\n",
      "[Dome] delta Az = +038.600\n",
      "[Dome] delta Az = +035.150\n",
      "[Dome] delta Az = +031.720\n",
      "[Dome] delta Az = +028.270\n",
      "[Dome] delta Az = +024.840\n",
      "[Dome] delta Az = +021.390\n",
      "[Dome] delta Az = +017.960\n",
      "[Dome] delta Az = +014.510\n",
      "[Dome] delta Az = +011.110\n",
      "[Dome] delta Az = +007.670\n",
      "[Dome] delta Az = +004.230\n",
      "ATDome in position.\n",
      "Check that dome CSC can communicate with shutter control box.\n",
      "Slew telescope to park position.\n",
      "Sending command\n",
      "Stop tracking.\n",
      "Mount tracking state is 10\n",
      "Scheduling check coroutines\n",
      "process as completed...\n",
      "Got False\n",
      "Telescope not in position\n",
      "atmcs: <State.ENABLED: 2>\n",
      "atptg: <State.ENABLED: 2>\n",
      "ataos: <State.ENABLED: 2>\n",
      "atpneumatics: <State.ENABLED: 2>\n",
      "athexapod: <State.ENABLED: 2>\n",
      "atdome: <State.ENABLED: 2>\n",
      "[Telescope] delta Alt = -000.033 | delta Az= +000.003 [Dome] delta Az = -002.950\n",
      "[Telescope] delta Alt = +000.189 | delta Az= +000.003 [Dome] delta Az = -002.950\n",
      "[Telescope] delta Alt = +000.538 | delta Az= +000.001 [Dome] delta Az = -002.950\n",
      "[Telescope] delta Alt = +000.880 | delta Az= -000.000 [Dome] delta Az = -002.950\n",
      "[Telescope] delta Alt = +001.120 | delta Az= -000.000 [Dome] delta Az = -002.950\n",
      "[Telescope] delta Alt = +001.222 | delta Az= -000.000 [Dome] delta Az = -002.950\n",
      "[Telescope] delta Alt = +001.182 | delta Az= -000.000 [Dome] delta Az = -002.950\n",
      "[Telescope] delta Alt = +001.024 | delta Az= -000.000 [Dome] delta Az = -002.950\n",
      "[Telescope] delta Alt = +000.789 | delta Az= -000.000 [Dome] delta Az = -002.950\n",
      "[Telescope] delta Alt = +000.530 | delta Az= -000.000 [Dome] delta Az = -002.950\n",
      "[Telescope] delta Alt = +000.294 | delta Az= -000.000 [Dome] delta Az = -002.950\n",
      "[Telescope] delta Alt = +000.120 | delta Az= -000.000 [Dome] delta Az = -002.950\n",
      "[Telescope] delta Alt = +000.025 | delta Az= -000.000 [Dome] delta Az = -002.950\n",
      "[Telescope] delta Alt = +000.000 | delta Az= -000.000 [Dome] delta Az = -002.950\n",
      "Axes in position.\n",
      "None\n",
      "Stop tracking.\n",
      "Mount tracking state is 9\n",
      "Tracking state: 10.\n",
      "Tracking state: 8.\n",
      "In Position: False.\n",
      "Opening dome.\n",
      "atdome: <State.ENABLED: 2>\n",
      "Got: private_revCode: f1592f29, private_sndStamp: 1582070450.4336445, private_rcvStamp: 1582070450.4348767, private_seqNum: 9, private_origin: 46, private_host: -1947882776, inPosition: False, priority: 0\n",
      "ATDome shutter not in position.\n",
      "Got: private_revCode: f1592f29, private_sndStamp: 1582070678.8620176, private_rcvStamp: 1582070678.863228, private_seqNum: 10, private_origin: 46, private_host: -1947882776, inPosition: True, priority: 0\n",
      "ATDome shutter in position.\n",
      "Open telescope cover.\n",
      "Cover state <MirrorCoverState.CLOSED: 6>\n",
      "Opening M1 cover.\n",
      "Cover state <MirrorCoverState.DISABLED: 1>\n",
      "Cover state <MirrorCoverState.STANDBY: 5>\n",
      "Cover state <MirrorCoverState.DISABLED: 1>\n",
      "Cover state <MirrorCoverState.CLOSED: 6>\n",
      "Cover state <MirrorCoverState.INMOTION: 8>\n",
      "Cover state <MirrorCoverState.FAULT: 3>\n"
     ]
    },
    {
     "ename": "RuntimeError",
     "evalue": "Open cover failed. Cover state <MirrorCoverState.FAULT: 3>",
     "output_type": "error",
     "traceback": [
      "\u001b[0;31m\u001b[0m",
      "\u001b[0;31mRuntimeError\u001b[0mTraceback (most recent call last)",
      "\u001b[0;32m<ipython-input-8-167bd5675ac1>\u001b[0m in \u001b[0;36masync-def-wrapper\u001b[0;34m()\u001b[0m\n",
      "\u001b[0;32m~/repos/ts_standardscripts/python/lsst/ts/standardscripts/auxtel/attcs.py\u001b[0m in \u001b[0;36mstartup\u001b[0;34m(self, settings)\u001b[0m\n\u001b[1;32m    567\u001b[0m         \u001b[0;32mif\u001b[0m \u001b[0mself\u001b[0m\u001b[0;34m.\u001b[0m\u001b[0mcheck\u001b[0m\u001b[0;34m.\u001b[0m\u001b[0matpneumatics\u001b[0m\u001b[0;34m:\u001b[0m\u001b[0;34m\u001b[0m\u001b[0;34m\u001b[0m\u001b[0m\n\u001b[1;32m    568\u001b[0m             \u001b[0mself\u001b[0m\u001b[0;34m.\u001b[0m\u001b[0mlog\u001b[0m\u001b[0;34m.\u001b[0m\u001b[0minfo\u001b[0m\u001b[0;34m(\u001b[0m\u001b[0;34m\"Open telescope cover.\"\u001b[0m\u001b[0;34m)\u001b[0m\u001b[0;34m\u001b[0m\u001b[0;34m\u001b[0m\u001b[0m\n\u001b[0;32m--> 569\u001b[0;31m             \u001b[0;32mawait\u001b[0m \u001b[0mself\u001b[0m\u001b[0;34m.\u001b[0m\u001b[0mopen_m1_cover\u001b[0m\u001b[0;34m(\u001b[0m\u001b[0;34m)\u001b[0m\u001b[0;34m\u001b[0m\u001b[0;34m\u001b[0m\u001b[0m\n\u001b[0m\u001b[1;32m    570\u001b[0m \u001b[0;34m\u001b[0m\u001b[0m\n\u001b[1;32m    571\u001b[0m         \u001b[0;32mawait\u001b[0m \u001b[0mself\u001b[0m\u001b[0;34m.\u001b[0m\u001b[0menable\u001b[0m\u001b[0;34m(\u001b[0m\u001b[0msettings\u001b[0m\u001b[0;34m=\u001b[0m\u001b[0msettings\u001b[0m\u001b[0;34m)\u001b[0m\u001b[0;34m\u001b[0m\u001b[0;34m\u001b[0m\u001b[0m\n",
      "\u001b[0;32m~/repos/ts_standardscripts/python/lsst/ts/standardscripts/auxtel/attcs.py\u001b[0m in \u001b[0;36mopen_m1_cover\u001b[0;34m(self)\u001b[0m\n\u001b[1;32m    733\u001b[0m                 \u001b[0mself\u001b[0m\u001b[0;34m.\u001b[0m\u001b[0mlog\u001b[0m\u001b[0;34m.\u001b[0m\u001b[0mdebug\u001b[0m\u001b[0;34m(\u001b[0m\u001b[0;34mf\"Cover state {ATPneumatics.MirrorCoverState(cover_state.state)!r}\"\u001b[0m\u001b[0;34m)\u001b[0m\u001b[0;34m\u001b[0m\u001b[0;34m\u001b[0m\u001b[0m\n\u001b[1;32m    734\u001b[0m                 \u001b[0;32mif\u001b[0m \u001b[0mcover_state\u001b[0m\u001b[0;34m.\u001b[0m\u001b[0mstate\u001b[0m \u001b[0;34m==\u001b[0m \u001b[0mATPneumatics\u001b[0m\u001b[0;34m.\u001b[0m\u001b[0mMirrorCoverState\u001b[0m\u001b[0;34m.\u001b[0m\u001b[0mFAULT\u001b[0m\u001b[0;34m:\u001b[0m\u001b[0;34m\u001b[0m\u001b[0;34m\u001b[0m\u001b[0m\n\u001b[0;32m--> 735\u001b[0;31m                     raise RuntimeError(f\"Open cover failed. Cover state \"\n\u001b[0m\u001b[1;32m    736\u001b[0m                                        f\"{ATPneumatics.MirrorCoverState(cover_state.state)!r}\")\n\u001b[1;32m    737\u001b[0m         \u001b[0;32melif\u001b[0m \u001b[0mcover_state\u001b[0m\u001b[0;34m.\u001b[0m\u001b[0mstate\u001b[0m \u001b[0;34m==\u001b[0m \u001b[0mATPneumatics\u001b[0m\u001b[0;34m.\u001b[0m\u001b[0mMirrorCoverState\u001b[0m\u001b[0;34m.\u001b[0m\u001b[0mOPENED\u001b[0m\u001b[0;34m:\u001b[0m\u001b[0;34m\u001b[0m\u001b[0;34m\u001b[0m\u001b[0m\n",
      "\u001b[0;31mRuntimeError\u001b[0m: Open cover failed. Cover state <MirrorCoverState.FAULT: 3>"
     ]
    }
   ],
   "source": [
    "await attcs.startup()"
   ]
  },
  {
   "cell_type": "code",
   "execution_count": 10,
   "metadata": {},
   "outputs": [
    {
     "name": "stdout",
     "output_type": "stream",
     "text": [
      "Gathering settings.\n",
      "No settings for atmcs.\n",
      "Using                                                                                                                                 from settingVersions event.\n",
      "No settings for atptg.\n",
      "Couldn't get settingVersions event. Using empty settings.\n",
      "No settings for ataos.\n",
      "Using current from settingVersions event.\n",
      "No settings for atpneumatics.\n",
      "Using                                                                                                                                 from settingVersions event.\n",
      "No settings for athexapod.\n",
      "Using current from settingVersions event.\n",
      "No settings for atdome.\n",
      "Using test from settingVersions event.\n",
      "No settings for atdometrajectory.\n",
      "Using  from settingVersions event.\n",
      "Settings versions: {'atmcs': '                                                                                                                               ', 'atptg': '', 'ataos': 'current', 'atpneumatics': '                                                                                                                               ', 'athexapod': 'current', 'atdome': 'test', 'atdometrajectory': ''}\n",
      "Enabling all components\n",
      "Enabling  atmcs\n",
      "Enabling  atptg\n",
      "Enabling  ataos\n",
      "Enabling  atpneumatics\n",
      "Enabling  athexapod\n",
      "Enabling  atdome\n",
      "[atmcs]::[<State.ENABLED: 2>]\n",
      "[atptg]::[<State.ENABLED: 2>]\n",
      "[ataos]::[<State.ENABLED: 2>]\n",
      "[atpneumatics]::[<State.FAULT: 3>, <State.STANDBY: 5>, <State.DISABLED: 1>, <State.ENABLED: 2>]\n",
      "[athexapod]::[<State.ENABLED: 2>]\n",
      "[atdome]::[<State.ENABLED: 2>]\n",
      "[atdometrajectory]::<State.DISABLED: 1>\n",
      "All components enabled.\n"
     ]
    },
    {
     "data": {
      "text/plain": [
       "<lsst.ts.salobj.ddsutil.ATPneumatics_ackcmd_5f8ca45f at 0x7f15e5664160>"
      ]
     },
     "execution_count": 10,
     "metadata": {},
     "output_type": "execute_result"
    }
   ],
   "source": [
    "await attcs.enable()\n",
    "await attcs.atpneumatics.cmd_openMasterAirSupply.start()"
   ]
  },
  {
   "cell_type": "code",
   "execution_count": 14,
   "metadata": {},
   "outputs": [
    {
     "data": {
      "text/plain": [
       "<lsst.ts.salobj.ddsutil.ATPneumatics_ackcmd_5f8ca45f at 0x7f15e7e45160>"
      ]
     },
     "execution_count": 14,
     "metadata": {},
     "output_type": "execute_result"
    }
   ],
   "source": [
    "await attcs.atpneumatics.cmd_m1OpenAirValve.start()"
   ]
  },
  {
   "cell_type": "code",
   "execution_count": 15,
   "metadata": {},
   "outputs": [
    {
     "data": {
      "text/plain": [
       "<lsst.ts.salobj.ddsutil.ATAOS_ackcmd_33d5c92b at 0x7f15e7d77978>"
      ]
     },
     "execution_count": 15,
     "metadata": {},
     "output_type": "execute_result"
    }
   ],
   "source": [
    "await attcs.ataos.cmd_enableCorrection.set_start(m1=True)"
   ]
  },
  {
   "cell_type": "code",
   "execution_count": 16,
   "metadata": {},
   "outputs": [
    {
     "data": {
      "text/plain": [
       "<lsst.ts.salobj.ddsutil.ATAOS_ackcmd_33d5c92b at 0x7f160342c2b0>"
      ]
     },
     "execution_count": 16,
     "metadata": {},
     "output_type": "execute_result"
    }
   ],
   "source": [
    "await attcs.ataos.cmd_enableCorrection.set_start(hexapod=True)"
   ]
  },
  {
   "cell_type": "code",
   "execution_count": 6,
   "metadata": {},
   "outputs": [
    {
     "name": "stdout",
     "output_type": "stream",
     "text": [
      "falling behind; queue contains 100 elements\n"
     ]
    }
   ],
   "source": [
    "in_oods = await latiss.atarchiver.evt_imageInOODS.next(flush=False, timeout=1)"
   ]
  },
  {
   "cell_type": "code",
   "execution_count": 8,
   "metadata": {},
   "outputs": [
    {
     "data": {
      "text/plain": [
       "'AT_O_20200219_000099'"
      ]
     },
     "execution_count": 8,
     "metadata": {},
     "output_type": "execute_result"
    },
    {
     "name": "stdout",
     "output_type": "stream",
     "text": [
      "RemoteEvent(ATHeaderService, 0, logMessage) falling behind; read 10 messages\n",
      "RemoteEvent(ATHeaderService, 0, logMessage) falling behind; read 13 messages\n"
     ]
    }
   ],
   "source": [
    "in_oods.obsid"
   ]
  },
  {
   "cell_type": "code",
   "execution_count": null,
   "metadata": {},
   "outputs": [],
   "source": []
  }
 ],
 "metadata": {
  "kernelspec": {
   "display_name": "Python 3",
   "language": "python",
   "name": "python3"
  },
  "language_info": {
   "codemirror_mode": {
    "name": "ipython",
    "version": 3
   },
   "file_extension": ".py",
   "mimetype": "text/x-python",
   "name": "python",
   "nbconvert_exporter": "python",
   "pygments_lexer": "ipython3",
   "version": "3.7.2"
  }
 },
 "nbformat": 4,
 "nbformat_minor": 4
}
