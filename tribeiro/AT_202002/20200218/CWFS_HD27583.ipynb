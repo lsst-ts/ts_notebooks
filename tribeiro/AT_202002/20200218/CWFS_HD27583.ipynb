{
 "cells": [
  {
   "cell_type": "code",
   "execution_count": 2,
   "metadata": {},
   "outputs": [],
   "source": [
    "import sys\n",
    "import asyncio\n",
    "import logging\n",
    "\n",
    "import numpy as np\n",
    "\n",
    "from lsst.ts import salobj\n",
    "\n",
    "import matplotlib.pyplot as plt\n",
    "\n",
    "from lsst.ts.externalscripts.auxtel.latiss_cwfs_align import LatissCWFSAlign"
   ]
  },
  {
   "cell_type": "code",
   "execution_count": 3,
   "metadata": {},
   "outputs": [],
   "source": [
    "stream_handler = logging.StreamHandler(sys.stdout)\n",
    "\n",
    "logger = logging.getLogger()\n",
    "logger.addHandler(stream_handler)\n",
    "logger.level = logging.DEBUG"
   ]
  },
  {
   "cell_type": "code",
   "execution_count": 4,
   "metadata": {},
   "outputs": [],
   "source": [
    "cwfs = LatissCWFSAlign(index=1)"
   ]
  },
  {
   "cell_type": "code",
   "execution_count": 5,
   "metadata": {},
   "outputs": [
    {
     "name": "stdout",
     "output_type": "stream",
     "text": [
      "Read historical data in 0.02 sec\n",
      "Read historical data in 0.26 sec\n",
      "Read historical data in 0.96 sec\n",
      "Read historical data in 1.59 sec\n",
      "Read historical data in 1.78 sec\n",
      "Read historical data in 2.73 sec\n",
      "Read historical data in 2.95 sec\n",
      "RemoteEvent(ATDomeTrajectory, 0, logMessage) falling behind; read 74 messages\n",
      "Read historical data in 3.96 sec\n",
      "Read historical data in 4.18 sec\n",
      "Read historical data in 5.65 sec\n",
      "Read historical data in 6.78 sec\n",
      "RemoteTelemetry(ATDome, 0, position) falling behind; read 30 messages\n",
      "RemoteTelemetry(ATPtg, 0, timeAndDate) falling behind; read 11 messages\n",
      "RemoteTelemetry(ATPtg, 0, mountStatus) falling behind; read 13 messages\n",
      "Read historical data in 0.19 sec\n",
      "RemoteEvent(ATAOS, 0, detailedState) falling behind; read 13 messages\n",
      "RemoteTelemetry(ATPtg, 0, guidingAndOffsets) falling behind; read 13 messages\n",
      "RemoteTelemetry(ATPtg, 0, currentTargetStatus) falling behind; read 15 messages\n",
      "RemoteEvent(ATMCS, 0, target) falling behind; read 41 messages\n"
     ]
    }
   ],
   "source": [
    "await cwfs.start_task"
   ]
  },
  {
   "cell_type": "code",
   "execution_count": 5,
   "metadata": {},
   "outputs": [
    {
     "name": "stdout",
     "output_type": "stream",
     "text": [
      "Starting new HTTP connection (1): simbad.u-strasbg.fr:80\n",
      "http://simbad.u-strasbg.fr:80 \"POST /simbad/sim-script HTTP/1.1\" 200 None\n",
      "Slewing to HD 27583: 04 20 27.7784 -21 13 04.721\n",
      "Sending command\n",
      "Stop tracking.\n",
      "Mount tracking state is 9\n",
      "RemoteEvent(ATMCS, 0, target) falling behind; read 17 messages\n",
      "RemoteEvent(ATDomeTrajectory, 0, logMessage) falling behind; read 17 messages\n",
      "Tracking state: 10.\n",
      "Tracking state: 8.\n",
      "In Position: True.\n",
      "In Position: False.\n",
      "Scheduling check coroutines\n",
      "process as completed...\n",
      "Got False\n",
      "Telescope not in position\n",
      "atmcs: <State.ENABLED: 2>\n",
      "atptg: <State.ENABLED: 2>\n",
      "ataos: <State.ENABLED: 2>\n",
      "atpneumatics: <State.ENABLED: 2>\n",
      "athexapod: <State.ENABLED: 2>\n",
      "atdome: <State.ENABLED: 2>\n",
      "atdometrajectory: <State.ENABLED: 2>\n",
      "[Telescope] delta Alt = -000.099 | delta Az= -158.356 [Dome] delta Az = -161.875\n",
      "[Telescope] delta Alt = -000.123 | delta Az= -157.081 [Dome] delta Az = -161.065\n",
      "[Telescope] delta Alt = -000.122 | delta Az= -153.160 [Dome] delta Az = -159.295\n",
      "[Telescope] delta Alt = -000.122 | delta Az= -149.172 [Dome] delta Az = -156.595\n",
      "[Telescope] delta Alt = -000.123 | delta Az= -145.183 [Dome] delta Az = -152.965\n",
      "[Telescope] delta Alt = -000.123 | delta Az= -141.194 [Dome] delta Az = -148.395\n",
      "[Telescope] delta Alt = -000.123 | delta Az= -137.205 [Dome] delta Az = -142.955\n",
      "[Telescope] delta Alt = -000.123 | delta Az= -133.216 [Dome] delta Az = -137.275\n",
      "[Telescope] delta Alt = -000.122 | delta Az= -129.226 [Dome] delta Az = -130.405\n",
      "[Telescope] delta Alt = -000.122 | delta Az= -125.238 [Dome] delta Az = -123.505\n",
      "[Telescope] delta Alt = -000.122 | delta Az= -121.249 [Dome] delta Az = -116.635\n",
      "[Telescope] delta Alt = -000.123 | delta Az= -117.259 [Dome] delta Az = -109.765\n",
      "[Telescope] delta Alt = -000.123 | delta Az= -113.270 [Dome] delta Az = -102.875\n",
      "[Telescope] delta Alt = -000.123 | delta Az= -109.283 [Dome] delta Az = -095.985\n",
      "[Telescope] delta Alt = -000.123 | delta Az= -105.294 [Dome] delta Az = -089.765\n",
      "[Telescope] delta Alt = -000.123 | delta Az= -101.303 [Dome] delta Az = -082.845\n",
      "[Telescope] delta Alt = -000.123 | delta Az= -097.314 [Dome] delta Az = -075.975\n",
      "[Telescope] delta Alt = -000.123 | delta Az= -093.325 [Dome] delta Az = -069.075\n",
      "[Telescope] delta Alt = -000.123 | delta Az= -089.337 [Dome] delta Az = -062.165\n",
      "[Telescope] delta Alt = -000.123 | delta Az= -085.349 [Dome] delta Az = -055.265\n",
      "[Telescope] delta Alt = -000.123 | delta Az= -081.359 [Dome] delta Az = -049.055\n",
      "[Telescope] delta Alt = -000.123 | delta Az= -077.369 [Dome] delta Az = -042.205\n",
      "[Telescope] delta Alt = -000.123 | delta Az= -073.381 [Dome] delta Az = -035.315\n",
      "[Telescope] delta Alt = -000.123 | delta Az= -069.391 [Dome] delta Az = -028.425\n",
      "[Telescope] delta Alt = -000.123 | delta Az= -065.404 [Dome] delta Az = -021.545\n",
      "[Telescope] delta Alt = -000.123 | delta Az= -061.414 [Dome] delta Az = -014.665\n",
      "[Telescope] delta Alt = -000.123 | delta Az= -057.424 [Dome] delta Az = -008.475\n",
      "[Telescope] delta Alt = -000.122 | delta Az= -053.436 [Dome] delta Az = -001.855\n",
      "[Telescope] delta Alt = -000.123 | delta Az= -049.447 [Dome] delta Az = +002.105\n",
      "[Telescope] delta Alt = -000.123 | delta Az= -045.456 [Dome] delta Az = +002.985\n",
      "[Telescope] delta Alt = -000.123 | delta Az= -041.468 [Dome] delta Az = +002.985\n",
      "[Telescope] delta Alt = -000.123 | delta Az= -037.480 [Dome] delta Az = +002.985\n",
      "[Telescope] delta Alt = -000.123 | delta Az= -033.491 [Dome] delta Az = +002.985\n",
      "[Telescope] delta Alt = -000.123 | delta Az= -029.502 [Dome] delta Az = +002.985\n",
      "[Telescope] delta Alt = -000.123 | delta Az= -025.526 [Dome] delta Az = +002.985\n",
      "[Telescope] delta Alt = -000.123 | delta Az= -021.606 [Dome] delta Az = +002.985\n",
      "[Telescope] delta Alt = -000.123 | delta Az= -017.806 [Dome] delta Az = +002.985\n",
      "[Telescope] delta Alt = -000.123 | delta Az= -014.204 [Dome] delta Az = +002.985\n",
      "[Telescope] delta Alt = -000.123 | delta Az= -010.886 [Dome] delta Az = +002.985\n",
      "[Telescope] delta Alt = -000.123 | delta Az= -007.936 [Dome] delta Az = +002.985\n",
      "[Telescope] delta Alt = -000.123 | delta Az= -005.430 [Dome] delta Az = +002.985\n",
      "[Telescope] delta Alt = -000.123 | delta Az= -003.417 [Dome] delta Az = +002.985\n",
      "[Telescope] delta Alt = -000.123 | delta Az= -001.924 [Dome] delta Az = +002.985\n",
      "[Telescope] delta Alt = -000.123 | delta Az= -000.939 [Dome] delta Az = +002.985\n",
      "[Telescope] delta Alt = -000.123 | delta Az= -000.409 [Dome] delta Az = +002.985\n",
      "[Telescope] delta Alt = -000.123 | delta Az= -000.220 [Dome] delta Az = +002.985\n",
      "[Telescope] delta Alt = -000.123 | delta Az= -000.202 [Dome] delta Az = +002.985\n",
      "Got True\n",
      "Waiting for telescope to settle.\n",
      "[Telescope] delta Alt = -000.123 | delta Az= -000.202 [Dome] delta Az = +002.985\n",
      "Telescope in position.\n",
      "ATDome in position.\n",
      "['Telescope in position.', 'ATDome in position.']\n"
     ]
    }
   ],
   "source": [
    "await cwfs.attcs.slew_object(name=\"HD 27\", rot_sky=0.)"
   ]
  },
  {
   "cell_type": "code",
   "execution_count": 6,
   "metadata": {},
   "outputs": [
    {
     "name": "stdout",
     "output_type": "stream",
     "text": [
      "Generating group_id\n",
      "ENGTEST 0001 - 0001\n",
      "RemoteEvent(ATHeaderService, 0, logMessage) falling behind; read 12 messages\n",
      "Waiting for header service LFO before continuing\n",
      "RemoteEvent(ATHeaderService, 0, logMessage) falling behind; read 10 messages\n"
     ]
    },
    {
     "data": {
      "text/plain": [
       "array([2020021800030])"
      ]
     },
     "execution_count": 6,
     "metadata": {},
     "output_type": "execute_result"
    }
   ],
   "source": [
    "await cwfs.latiss.take_engtest(exptime=5., n=1, filter='KPNO_406_828nm', grating='empty_1')"
   ]
  },
  {
   "cell_type": "code",
   "execution_count": null,
   "metadata": {},
   "outputs": [],
   "source": [
    "await cwfs.latiss.atarchiver.evt_heartbeat.next(flush=True)"
   ]
  },
  {
   "cell_type": "code",
   "execution_count": null,
   "metadata": {},
   "outputs": [],
   "source": [
    "await cwfs.latiss.take_object(exptime=5., n=1)"
   ]
  },
  {
   "cell_type": "code",
   "execution_count": null,
   "metadata": {},
   "outputs": [],
   "source": [
    "await asyncio.gather(cwfs.latiss.take_engtest(exptime=30., n=1),\n",
    "                     cwfs.attcs.slew_object(name=\"HD 83832\", rot_sky=-90.),\n",
    "                     return_exceptions=True)"
   ]
  },
  {
   "cell_type": "code",
   "execution_count": null,
   "metadata": {},
   "outputs": [],
   "source": [
    "await asyncio.gather(cwfs.latiss.take_engtest(exptime=3., n=5),\n",
    "                     cwfs.attcs.slew_object(name=\"HD 83832\", rot_sky=0.),\n",
    "                     return_exceptions=True)"
   ]
  },
  {
   "cell_type": "code",
   "execution_count": null,
   "metadata": {},
   "outputs": [],
   "source": [
    "await cwfs.latiss.take_object(exptime=5., n=1)"
   ]
  },
  {
   "cell_type": "code",
   "execution_count": null,
   "metadata": {},
   "outputs": [],
   "source": [
    "await cwfs.attcs.offset_xy(x=-30., y=0.)"
   ]
  },
  {
   "cell_type": "code",
   "execution_count": null,
   "metadata": {},
   "outputs": [],
   "source": [
    "await cwfs.latiss.take_object(exptime=5.,n=1)"
   ]
  },
  {
   "cell_type": "code",
   "execution_count": null,
   "metadata": {},
   "outputs": [],
   "source": [
    "cwfs.exposure_time"
   ]
  },
  {
   "cell_type": "code",
   "execution_count": null,
   "metadata": {},
   "outputs": [],
   "source": [
    "await cwfs.hexapod_offset(offset=1.5)"
   ]
  },
  {
   "cell_type": "code",
   "execution_count": 8,
   "metadata": {},
   "outputs": [],
   "source": [
    "cwfs.intra_visit_id = 2020021800031\n",
    "cwfs.extra_visit_id = 2020021800032"
   ]
  },
  {
   "cell_type": "code",
   "execution_count": 19,
   "metadata": {},
   "outputs": [],
   "source": [
    "cwfs.angle = -cwfs.camera_rotation_angle"
   ]
  },
  {
   "cell_type": "code",
   "execution_count": 9,
   "metadata": {},
   "outputs": [
    {
     "name": "stdout",
     "output_type": "stream",
     "text": [
      "Running cwfs in 2020021800031/2020021800032.\n",
      "Using translation class LSST_LATISS\n",
      "Checking for header correction file named LATISS-AT_O_20200218_000031.yaml\n",
      "AT_O_20200218_000031: Forcing detector serial to ITL-3800C-068\n",
      "AT_O_20200218_000031: Forcing SHUTTIME header to be None\n",
      "Using translation class LSST_LATISS\n",
      "Checking for header correction file named LATISS-AT_O_20200218_000031.yaml\n",
      "AT_O_20200218_000031: Forcing detector serial to ITL-3800C-068\n",
      "Using translation class LSST_LATISS\n",
      "AT_O_20200218_000031: Dark time less than exposure time. Setting dark time to the exposure time.\n",
      "Using translation class LSST_LATISS\n",
      "Checking for header correction file named LATISS-AT_O_20200218_000031.yaml\n",
      "AT_O_20200218_000031: Forcing detector serial to ITL-3800C-068\n",
      "AT_O_20200218_000031: Forcing SHUTTIME header to be None\n",
      "Using translation class LSST_LATISS\n",
      "Checking for header correction file named LATISS-AT_O_20200218_000031.yaml\n",
      "AT_O_20200218_000031: Forcing detector serial to ITL-3800C-068\n",
      "Using translation class LSST_LATISS\n",
      "AT_O_20200218_000031: Dark time less than exposure time. Setting dark time to the exposure time.\n",
      "Using translation class LSST_LATISS\n",
      "Checking for header correction file named LATISS-AT_O_20200218_000032.yaml\n",
      "AT_O_20200218_000032: Forcing detector serial to ITL-3800C-068\n",
      "AT_O_20200218_000032: Forcing SHUTTIME header to be None\n",
      "Using translation class LSST_LATISS\n",
      "Checking for header correction file named LATISS-AT_O_20200218_000032.yaml\n",
      "AT_O_20200218_000032: Forcing detector serial to ITL-3800C-068\n",
      "Using translation class LSST_LATISS\n",
      "AT_O_20200218_000032: Dark time less than exposure time. Setting dark time to the exposure time.\n",
      "Running source detection algorithm\n",
      "RemoteEvent(ATMCS, 0, target) falling behind; read 100 messages\n",
      "RemoteEvent(ATHeaderService, 0, heartbeat) falling behind; read 17 messages\n",
      "RemoteEvent(ATDomeTrajectory, 0, logMessage) falling behind; read 100 messages\n",
      "RemoteTelemetry(ATPtg, 0, timeAndDate) falling behind; read 85 messages\n",
      "RemoteTelemetry(ATDome, 0, position) falling behind; read 83 messages\n",
      "RemoteEvent(ATAOS, 0, heartbeat) falling behind; read 17 messages\n",
      "RemoteEvent(ATArchiver, 0, heartbeat) falling behind; read 17 messages\n",
      "RemoteEvent(ATSpectrograph, 0, heartbeat) falling behind; read 17 messages\n",
      "RemoteTelemetry(ATHexapod, 0, positionStatus) falling behind; read 17 messages\n",
      "RemoteTelemetry(ATPneumatics, 0, loadCell) falling behind; read 17 messages\n",
      "RemoteEvent(ATDome, 0, heartbeat) falling behind; read 17 messages\n",
      "RemoteEvent(ATDomeTrajectory, 0, heartbeat) falling behind; read 17 messages\n",
      "RemoteTelemetry(ATPneumatics, 0, mainAirSourcePressure) falling behind; read 17 messages\n",
      "RemoteTelemetry(ATMCS, 0, trajectory) falling behind; read 17 messages\n",
      "RemoteTelemetry(ATPtg, 0, mountStatus) falling behind; read 86 messages\n",
      "RemoteEvent(ATHexapod, 0, heartbeat) falling behind; read 17 messages\n",
      "RemoteTelemetry(ATPneumatics, 0, m2AirPressure) falling behind; read 17 messages\n",
      "RemoteTelemetry(ATMCS, 0, torqueDemand) falling behind; read 18 messages\n",
      "RemoteTelemetry(ATPtg, 0, guidingAndOffsets) falling behind; read 87 messages\n",
      "RemoteTelemetry(ATPneumatics, 0, m1AirPressure) falling behind; read 17 messages\n",
      "RemoteEvent(ATAOS, 0, detailedState) falling behind; read 17 messages\n",
      "RemoteTelemetry(ATMCS, 0, nasymth_m3_mountMotorEncoders) falling behind; read 18 messages\n",
      "RemoteEvent(ATPneumatics, 0, heartbeat) falling behind; read 17 messages\n",
      "RemoteTelemetry(ATMCS, 0, mount_Nasmyth_Encoders) falling behind; read 18 messages\n",
      "RemoteTelemetry(ATPtg, 0, currentTargetStatus) falling behind; read 88 messages\n",
      "RemoteTelemetry(ATMCS, 0, mount_AzEl_Encoders) falling behind; read 18 messages\n",
      "RemoteTelemetry(ATMCS, 0, measuredTorque) falling behind; read 18 messages\n",
      "RemoteTelemetry(ATMCS, 0, measuredMotorVelocity) falling behind; read 18 messages\n",
      "RemoteTelemetry(ATMCS, 0, azEl_mountMotorEncoders) falling behind; read 18 messages\n",
      "RemoteEvent(ATMCS, 0, heartbeat) falling behind; read 17 messages\n",
      "RemoteTelemetry(ATDome, 0, position) falling behind; read 46 messages\n",
      "RemoteTelemetry(ATPtg, 0, currentTargetStatus) falling behind; read 47 messages\n",
      "RemoteEvent(ATDomeTrajectory, 0, logMessage) falling behind; read 100 messages\n",
      "RemoteEvent(ATMCS, 0, target) falling behind; read 100 messages\n",
      "RemoteEvent(ATHeaderService, 0, heartbeat) falling behind; read 10 messages\n",
      "RemoteTelemetry(ATPneumatics, 0, loadCell) falling behind; read 10 messages\n",
      "RemoteEvent(ATHexapod, 0, heartbeat) falling behind; read 10 messages\n",
      "RemoteEvent(ATAOS, 0, detailedState) falling behind; read 10 messages\n",
      "RemoteTelemetry(ATPtg, 0, timeAndDate) falling behind; read 48 messages\n",
      "RemoteTelemetry(ATHexapod, 0, positionStatus) falling behind; read 10 messages\n",
      "RemoteTelemetry(ATPneumatics, 0, mainAirSourcePressure) falling behind; read 10 messages\n",
      "RemoteTelemetry(ATPneumatics, 0, m2AirPressure) falling behind; read 10 messages\n",
      "RemoteEvent(ATDomeTrajectory, 0, heartbeat) falling behind; read 10 messages\n",
      "RemoteTelemetry(ATMCS, 0, trajectory) falling behind; read 10 messages\n",
      "RemoteTelemetry(ATPtg, 0, mountStatus) falling behind; read 49 messages\n",
      "RemoteTelemetry(ATPneumatics, 0, m1AirPressure) falling behind; read 10 messages\n",
      "RemoteTelemetry(ATMCS, 0, torqueDemand) falling behind; read 10 messages\n",
      "RemoteTelemetry(ATPtg, 0, guidingAndOffsets) falling behind; read 49 messages\n",
      "RemoteEvent(ATPneumatics, 0, heartbeat) falling behind; read 10 messages\n",
      "RemoteTelemetry(ATMCS, 0, nasymth_m3_mountMotorEncoders) falling behind; read 10 messages\n",
      "RemoteTelemetry(ATMCS, 0, mount_Nasmyth_Encoders) falling behind; read 10 messages\n",
      "RemoteTelemetry(ATMCS, 0, mount_AzEl_Encoders) falling behind; read 10 messages\n",
      "RemoteTelemetry(ATMCS, 0, measuredTorque) falling behind; read 10 messages\n",
      "RemoteTelemetry(ATMCS, 0, measuredMotorVelocity) falling behind; read 10 messages\n",
      "RemoteTelemetry(ATMCS, 0, azEl_mountMotorEncoders) falling behind; read 10 messages\n",
      "RemoteEvent(ATMCS, 0, heartbeat) falling behind; read 10 messages\n",
      "Running CWFS code.\n",
      "WARNING: negative scale parameter,             image is within caustic, zcCol (in um)=\n",
      "\n",
      "==============================\n",
      "Measured zernike coeficients: [180.02373098623553, -200.8530035919398, 1120.8439706537197]\n",
      "De-rotated zernike coeficients: [ -34.27667273  267.53613303 1120.84397065]\n",
      "Hexapod offset: [ 0.26165399  2.04226056 -0.26686761]\n",
      "Telescope offsets: [ 15.69923942 122.53563345   0.        ]\n",
      "==============================\n",
      "\n",
      "RemoteEvent(ATMCS, 0, target) falling behind; read 100 messages\n",
      "RemoteTelemetry(ATPtg, 0, currentTargetStatus) falling behind; read 91 messages\n",
      "RemoteEvent(ATHeaderService, 0, heartbeat) falling behind; read 19 messages\n",
      "RemoteTelemetry(ATDome, 0, position) falling behind; read 90 messages\n",
      "RemoteEvent(ATDomeTrajectory, 0, logMessage) falling behind; read 100 messages\n",
      "RemoteEvent(ATAOS, 0, detailedState) falling behind; read 19 messages\n",
      "RemoteTelemetry(ATHexapod, 0, positionStatus) falling behind; read 18 messages\n",
      "RemoteEvent(ATArchiver, 0, heartbeat) falling behind; read 18 messages\n",
      "RemoteEvent(ATSpectrograph, 0, heartbeat) falling behind; read 18 messages\n",
      "RemoteTelemetry(ATPneumatics, 0, loadCell) falling behind; read 18 messages\n",
      "RemoteTelemetry(ATMCS, 0, trajectory) falling behind; read 19 messages\n",
      "RemoteTelemetry(ATPtg, 0, timeAndDate) falling behind; read 93 messages\n",
      "RemoteTelemetry(ATPneumatics, 0, mainAirSourcePressure) falling behind; read 18 messages\n",
      "RemoteEvent(ATDomeTrajectory, 0, heartbeat) falling behind; read 18 messages\n",
      "RemoteTelemetry(ATMCS, 0, torqueDemand) falling behind; read 19 messages\n",
      "RemoteEvent(ATDome, 0, heartbeat) falling behind; read 19 messages\n",
      "RemoteTelemetry(ATPneumatics, 0, m2AirPressure) falling behind; read 18 messages\n",
      "RemoteEvent(ATAOS, 0, heartbeat) falling behind; read 19 messages\n",
      "RemoteTelemetry(ATMCS, 0, nasymth_m3_mountMotorEncoders) falling behind; read 19 messages\n",
      "RemoteTelemetry(ATPtg, 0, mountStatus) falling behind; read 94 messages\n",
      "RemoteTelemetry(ATPneumatics, 0, m1AirPressure) falling behind; read 18 messages\n",
      "RemoteEvent(ATHexapod, 0, heartbeat) falling behind; read 19 messages\n",
      "RemoteTelemetry(ATMCS, 0, mount_Nasmyth_Encoders) falling behind; read 19 messages\n",
      "RemoteTelemetry(ATPtg, 0, guidingAndOffsets) falling behind; read 95 messages\n",
      "RemoteEvent(ATPneumatics, 0, heartbeat) falling behind; read 19 messages\n",
      "RemoteTelemetry(ATMCS, 0, mount_AzEl_Encoders) falling behind; read 19 messages\n",
      "RemoteTelemetry(ATMCS, 0, measuredTorque) falling behind; read 19 messages\n",
      "RemoteTelemetry(ATMCS, 0, measuredMotorVelocity) falling behind; read 19 messages\n",
      "RemoteTelemetry(ATMCS, 0, azEl_mountMotorEncoders) falling behind; read 19 messages\n",
      "RemoteEvent(ATMCS, 0, heartbeat) falling behind; read 19 messages\n"
     ]
    }
   ],
   "source": [
    "await cwfs.run_cwfs()"
   ]
  },
  {
   "cell_type": "code",
   "execution_count": 10,
   "metadata": {},
   "outputs": [
    {
     "name": "stdout",
     "output_type": "stream",
     "text": [
      "==============================\n",
      "Measured zernike coeficients: [180.02373098623553, -200.8530035919398, 1120.8439706537197]\n",
      "De-rotated zernike coeficients: [ -34.27667273  267.53613303 1120.84397065]\n",
      "Hexapod offset: [ 0.26165399  2.04226056 -0.26686761]\n",
      "Telescope offsets: [ 15.69923942 122.53563345   0.        ]\n",
      "==============================\n",
      "\n"
     ]
    }
   ],
   "source": [
    "cwfs.show_results()"
   ]
  },
  {
   "cell_type": "code",
   "execution_count": 12,
   "metadata": {},
   "outputs": [],
   "source": [
    "await cwfs.hexapod_offset(-0.26686761)"
   ]
  },
  {
   "cell_type": "code",
   "execution_count": 13,
   "metadata": {},
   "outputs": [
    {
     "name": "stdout",
     "output_type": "stream",
     "text": [
      "ENGTEST 0001 - 0001\n",
      "Waiting for header service LFO before continuing\n",
      "ENGTEST 0001 - 0001\n",
      "Waiting for header service LFO before continuing\n",
      "RemoteEvent(ATHeaderService, 0, logMessage) falling behind; read 10 messages\n",
      "intraImage expId for target: 2020021800033\n",
      "extraImage expId for target: 2020021800034\n"
     ]
    }
   ],
   "source": [
    "await cwfs.take_intra_extra()"
   ]
  },
  {
   "cell_type": "code",
   "execution_count": 20,
   "metadata": {},
   "outputs": [],
   "source": [
    "cwfs.intra_visit_id = 2020021800033\n",
    "cwfs.extra_visit_id = 2020021800034"
   ]
  },
  {
   "cell_type": "code",
   "execution_count": 21,
   "metadata": {},
   "outputs": [
    {
     "name": "stdout",
     "output_type": "stream",
     "text": [
      "Running cwfs in 2020021800033/2020021800034.\n"
     ]
    },
    {
     "name": "stderr",
     "output_type": "stream",
     "text": [
      "/home/saluser/repos/ts_externalscripts/python/lsst/ts/externalscripts/auxtel/latiss_cwfs_align.py:306: FutureWarning: Config field doAddDistortionModel is deprecated: Camera geometry is incorporated when reading the raw files. This option no longer is used, and will be removed after v19.\n",
      "  isrConfig.doAddDistortionModel = False\n"
     ]
    },
    {
     "name": "stdout",
     "output_type": "stream",
     "text": [
      "Using translation class LSST_LATISS\n",
      "Checking for header correction file named LATISS-AT_O_20200218_000033.yaml\n",
      "AT_O_20200218_000033: Forcing detector serial to ITL-3800C-068\n",
      "AT_O_20200218_000033: Forcing SHUTTIME header to be None\n",
      "Using translation class LSST_LATISS\n",
      "Checking for header correction file named LATISS-AT_O_20200218_000033.yaml\n",
      "AT_O_20200218_000033: Forcing detector serial to ITL-3800C-068\n",
      "Using translation class LSST_LATISS\n",
      "AT_O_20200218_000033: Dark time less than exposure time. Setting dark time to the exposure time.\n",
      "Using translation class LSST_LATISS\n",
      "Checking for header correction file named LATISS-AT_O_20200218_000033.yaml\n",
      "AT_O_20200218_000033: Forcing detector serial to ITL-3800C-068\n",
      "AT_O_20200218_000033: Forcing SHUTTIME header to be None\n",
      "Using translation class LSST_LATISS\n",
      "Checking for header correction file named LATISS-AT_O_20200218_000033.yaml\n",
      "AT_O_20200218_000033: Forcing detector serial to ITL-3800C-068\n",
      "Using translation class LSST_LATISS\n",
      "AT_O_20200218_000033: Dark time less than exposure time. Setting dark time to the exposure time.\n",
      "Using translation class LSST_LATISS\n",
      "Checking for header correction file named LATISS-AT_O_20200218_000034.yaml\n",
      "AT_O_20200218_000034: Forcing detector serial to ITL-3800C-068\n",
      "AT_O_20200218_000034: Forcing SHUTTIME header to be None\n",
      "Using translation class LSST_LATISS\n",
      "Checking for header correction file named LATISS-AT_O_20200218_000034.yaml\n",
      "AT_O_20200218_000034: Forcing detector serial to ITL-3800C-068\n",
      "Using translation class LSST_LATISS\n",
      "AT_O_20200218_000034: Dark time less than exposure time. Setting dark time to the exposure time.\n",
      "Running source detection algorithm\n",
      "RemoteEvent(ATMCS, 0, target) falling behind; read 100 messages\n",
      "RemoteEvent(ATMCS, 0, target) falling behind; read 100 messages\n",
      "RemoteEvent(ATDomeTrajectory, 0, logMessage) falling behind; read 100 messages\n",
      "RemoteEvent(ATDomeTrajectory, 0, logMessage) falling behind; read 100 messages\n",
      "RemoteTelemetry(ATPtg, 0, timeAndDate) falling behind; read 69 messages\n",
      "RemoteTelemetry(ATPtg, 0, timeAndDate) falling behind; read 69 messages\n",
      "RemoteEvent(ATHeaderService, 0, heartbeat) falling behind; read 14 messages\n",
      "RemoteEvent(ATHeaderService, 0, heartbeat) falling behind; read 14 messages\n",
      "RemoteEvent(ATAOS, 0, detailedState) falling behind; read 14 messages\n",
      "RemoteEvent(ATAOS, 0, detailedState) falling behind; read 14 messages\n",
      "RemoteTelemetry(ATDome, 0, position) falling behind; read 68 messages\n",
      "RemoteEvent(ATArchiver, 0, heartbeat) falling behind; read 14 messages\n",
      "RemoteEvent(ATArchiver, 0, heartbeat) falling behind; read 14 messages\n",
      "RemoteTelemetry(ATHexapod, 0, positionStatus) falling behind; read 14 messages\n",
      "RemoteTelemetry(ATHexapod, 0, positionStatus) falling behind; read 14 messages\n",
      "RemoteEvent(ATSpectrograph, 0, heartbeat) falling behind; read 14 messages\n",
      "RemoteEvent(ATSpectrograph, 0, heartbeat) falling behind; read 14 messages\n",
      "RemoteTelemetry(ATPneumatics, 0, loadCell) falling behind; read 14 messages\n",
      "RemoteTelemetry(ATPneumatics, 0, loadCell) falling behind; read 14 messages\n",
      "RemoteTelemetry(ATDome, 0, position) falling behind; read 69 messages\n",
      "RemoteEvent(ATDome, 0, heartbeat) falling behind; read 14 messages\n",
      "RemoteTelemetry(ATMCS, 0, trajectory) falling behind; read 15 messages\n",
      "RemoteTelemetry(ATMCS, 0, trajectory) falling behind; read 15 messages\n",
      "RemoteTelemetry(ATPneumatics, 0, mainAirSourcePressure) falling behind; read 14 messages\n",
      "RemoteEvent(ATDomeTrajectory, 0, heartbeat) falling behind; read 14 messages\n",
      "RemoteEvent(ATDome, 0, heartbeat) falling behind; read 15 messages\n",
      "RemoteTelemetry(ATMCS, 0, torqueDemand) falling behind; read 15 messages\n",
      "RemoteTelemetry(ATPneumatics, 0, mainAirSourcePressure) falling behind; read 14 messages\n",
      "RemoteEvent(ATDomeTrajectory, 0, heartbeat) falling behind; read 14 messages\n",
      "RemoteTelemetry(ATMCS, 0, torqueDemand) falling behind; read 15 messages\n",
      "RemoteTelemetry(ATPneumatics, 0, m2AirPressure) falling behind; read 14 messages\n",
      "RemoteTelemetry(ATMCS, 0, nasymth_m3_mountMotorEncoders) falling behind; read 15 messages\n",
      "RemoteEvent(ATAOS, 0, heartbeat) falling behind; read 15 messages\n",
      "RemoteEvent(ATHexapod, 0, heartbeat) falling behind; read 14 messages\n",
      "RemoteTelemetry(ATPneumatics, 0, m2AirPressure) falling behind; read 14 messages\n",
      "RemoteEvent(ATHexapod, 0, heartbeat) falling behind; read 14 messages\n",
      "RemoteTelemetry(ATPtg, 0, mountStatus) falling behind; read 74 messages\n",
      "RemoteEvent(ATAOS, 0, heartbeat) falling behind; read 15 messages\n",
      "RemoteTelemetry(ATMCS, 0, nasymth_m3_mountMotorEncoders) falling behind; read 15 messages\n",
      "RemoteTelemetry(ATPtg, 0, mountStatus) falling behind; read 74 messages\n",
      "RemoteTelemetry(ATPneumatics, 0, m1AirPressure) falling behind; read 14 messages\n",
      "RemoteTelemetry(ATMCS, 0, mount_Nasmyth_Encoders) falling behind; read 15 messages\n",
      "RemoteTelemetry(ATPneumatics, 0, m1AirPressure) falling behind; read 14 messages\n",
      "RemoteTelemetry(ATPtg, 0, guidingAndOffsets) falling behind; read 75 messages\n",
      "RemoteTelemetry(ATMCS, 0, mount_Nasmyth_Encoders) falling behind; read 15 messages\n",
      "RemoteTelemetry(ATPtg, 0, guidingAndOffsets) falling behind; read 75 messages\n",
      "RemoteEvent(ATPneumatics, 0, heartbeat) falling behind; read 15 messages\n",
      "RemoteTelemetry(ATMCS, 0, mount_AzEl_Encoders) falling behind; read 15 messages\n",
      "RemoteEvent(ATPneumatics, 0, heartbeat) falling behind; read 15 messages\n",
      "RemoteTelemetry(ATMCS, 0, mount_AzEl_Encoders) falling behind; read 15 messages\n",
      "RemoteTelemetry(ATMCS, 0, measuredTorque) falling behind; read 15 messages\n",
      "RemoteTelemetry(ATPtg, 0, currentTargetStatus) falling behind; read 76 messages\n",
      "RemoteTelemetry(ATMCS, 0, measuredTorque) falling behind; read 15 messages\n",
      "RemoteTelemetry(ATPtg, 0, currentTargetStatus) falling behind; read 77 messages\n",
      "RemoteTelemetry(ATMCS, 0, measuredMotorVelocity) falling behind; read 16 messages\n",
      "RemoteTelemetry(ATMCS, 0, measuredMotorVelocity) falling behind; read 16 messages\n",
      "RemoteTelemetry(ATMCS, 0, azEl_mountMotorEncoders) falling behind; read 16 messages\n",
      "RemoteTelemetry(ATMCS, 0, azEl_mountMotorEncoders) falling behind; read 16 messages\n",
      "RemoteEvent(ATMCS, 0, heartbeat) falling behind; read 15 messages\n",
      "RemoteEvent(ATMCS, 0, heartbeat) falling behind; read 15 messages\n",
      "RemoteTelemetry(ATDome, 0, position) falling behind; read 46 messages\n",
      "RemoteTelemetry(ATMCS, 0, mount_Nasmyth_Encoders) falling behind; read 10 messages\n",
      "RemoteEvent(ATDomeTrajectory, 0, logMessage) falling behind; read 100 messages\n",
      "RemoteEvent(ATDomeTrajectory, 0, logMessage) falling behind; read 100 messages\n",
      "RemoteTelemetry(ATMCS, 0, trajectory) falling behind; read 10 messages\n",
      "RemoteEvent(ATAOS, 0, heartbeat) falling behind; read 10 messages\n",
      "RemoteEvent(ATAOS, 0, heartbeat) falling behind; read 10 messages\n",
      "RemoteEvent(ATArchiver, 0, heartbeat) falling behind; read 10 messages\n",
      "RemoteTelemetry(ATPtg, 0, currentTargetStatus) falling behind; read 47 messages\n",
      "RemoteEvent(ATSpectrograph, 0, heartbeat) falling behind; read 10 messages\n",
      "RemoteEvent(ATArchiver, 0, heartbeat) falling behind; read 10 messages\n",
      "RemoteEvent(ATSpectrograph, 0, heartbeat) falling behind; read 10 messages\n",
      "RemoteTelemetry(ATHexapod, 0, positionStatus) falling behind; read 10 messages\n",
      "RemoteTelemetry(ATDome, 0, position) falling behind; read 48 messages\n",
      "RemoteTelemetry(ATHexapod, 0, positionStatus) falling behind; read 10 messages\n",
      "RemoteTelemetry(ATPtg, 0, currentTargetStatus) falling behind; read 48 messages\n",
      "RemoteTelemetry(ATPneumatics, 0, loadCell) falling behind; read 10 messages\n",
      "RemoteTelemetry(ATMCS, 0, mount_AzEl_Encoders) falling behind; read 10 messages\n",
      "RemoteTelemetry(ATMCS, 0, torqueDemand) falling behind; read 10 messages\n",
      "RemoteTelemetry(ATMCS, 0, measuredTorque) falling behind; read 10 messages\n",
      "RemoteTelemetry(ATMCS, 0, nasymth_m3_mountMotorEncoders) falling behind; read 10 messages\n",
      "RemoteTelemetry(ATMCS, 0, measuredMotorVelocity) falling behind; read 10 messages\n",
      "RemoteTelemetry(ATMCS, 0, mount_Nasmyth_Encoders) falling behind; read 10 messages\n",
      "RemoteEvent(ATDome, 0, heartbeat) falling behind; read 10 messages\n",
      "RemoteEvent(ATDome, 0, heartbeat) falling behind; read 10 messages\n",
      "RemoteTelemetry(ATPneumatics, 0, mainAirSourcePressure) falling behind; read 10 messages\n",
      "RemoteEvent(ATHexapod, 0, heartbeat) falling behind; read 10 messages\n",
      "RemoteTelemetry(ATPtg, 0, timeAndDate) falling behind; read 49 messages\n",
      "RemoteEvent(ATHexapod, 0, heartbeat) falling behind; read 10 messages\n",
      "RemoteTelemetry(ATPtg, 0, timeAndDate) falling behind; read 49 messages\n",
      "RemoteTelemetry(ATPneumatics, 0, mainAirSourcePressure) falling behind; read 10 messages\n",
      "RemoteEvent(ATDomeTrajectory, 0, heartbeat) falling behind; read 10 messages\n",
      "RemoteEvent(ATDomeTrajectory, 0, heartbeat) falling behind; read 10 messages\n",
      "RemoteTelemetry(ATMCS, 0, mount_AzEl_Encoders) falling behind; read 11 messages\n",
      "RemoteTelemetry(ATPneumatics, 0, m2AirPressure) falling behind; read 10 messages\n",
      "RemoteTelemetry(ATPneumatics, 0, m2AirPressure) falling behind; read 10 messages\n",
      "RemoteTelemetry(ATMCS, 0, measuredTorque) falling behind; read 11 messages\n",
      "RemoteTelemetry(ATPneumatics, 0, m1AirPressure) falling behind; read 10 messages\n",
      "RemoteTelemetry(ATPtg, 0, mountStatus) falling behind; read 50 messages\n",
      "RemoteTelemetry(ATPtg, 0, mountStatus) falling behind; read 51 messages\n",
      "RemoteTelemetry(ATPneumatics, 0, m1AirPressure) falling behind; read 10 messages\n",
      "RemoteTelemetry(ATMCS, 0, trajectory) falling behind; read 11 messages\n",
      "RemoteTelemetry(ATMCS, 0, measuredMotorVelocity) falling behind; read 11 messages\n",
      "RemoteEvent(ATPneumatics, 0, heartbeat) falling behind; read 10 messages\n",
      "RemoteTelemetry(ATPtg, 0, guidingAndOffsets) falling behind; read 51 messages\n",
      "RemoteTelemetry(ATPtg, 0, guidingAndOffsets) falling behind; read 52 messages\n",
      "RemoteTelemetry(ATMCS, 0, torqueDemand) falling behind; read 11 messages\n",
      "RemoteEvent(ATMCS, 0, target) falling behind; read 100 messages\n",
      "RemoteEvent(ATPneumatics, 0, heartbeat) falling behind; read 10 messages\n",
      "RemoteTelemetry(ATMCS, 0, nasymth_m3_mountMotorEncoders) falling behind; read 11 messages\n",
      "RemoteTelemetry(ATMCS, 0, azEl_mountMotorEncoders) falling behind; read 10 messages\n",
      "RemoteEvent(ATMCS, 0, target) falling behind; read 100 messages\n",
      "RemoteEvent(ATMCS, 0, heartbeat) falling behind; read 11 messages\n",
      "RemoteTelemetry(ATMCS, 0, azEl_mountMotorEncoders) falling behind; read 10 messages\n",
      "RemoteEvent(ATMCS, 0, heartbeat) falling behind; read 11 messages\n",
      "Running CWFS code.\n",
      "==============================\n",
      "Measured zernike coeficients: [-60.22616183949246, 12.643265139405973, -684.6436103601449]\n",
      "De-rotated zernike coeficients: [ -60.22616184   12.64326514 -684.64361036]\n",
      "Hexapod offset: [0.45974169 0.09651347 0.16301038]\n",
      "Telescope offsets: [27.58450161  5.79080846  0.        ]\n",
      "==============================\n",
      "\n",
      "RemoteEvent(ATMCS, 0, target) falling behind; read 100 messages\n",
      "RemoteEvent(ATMCS, 0, target) falling behind; read 100 messages\n",
      "RemoteTelemetry(ATDome, 0, position) falling behind; read 100 messages\n",
      "RemoteTelemetry(ATDome, 0, position) falling behind; read 100 messages\n",
      "RemoteTelemetry(ATPtg, 0, currentTargetStatus) falling behind; read 100 messages\n",
      "RemoteEvent(ATDomeTrajectory, 0, logMessage) falling behind; read 100 messages\n",
      "RemoteTelemetry(ATPtg, 0, currentTargetStatus) falling behind; read 100 messages\n",
      "RemoteEvent(ATDomeTrajectory, 0, logMessage) falling behind; read 100 messages\n",
      "RemoteEvent(ATSpectrograph, 0, heartbeat) falling behind; read 32 messages\n",
      "RemoteEvent(ATSpectrograph, 0, heartbeat) falling behind; read 32 messages\n",
      "RemoteEvent(ATHexapod, 0, heartbeat) falling behind; read 32 messages\n",
      "RemoteEvent(ATHexapod, 0, heartbeat) falling behind; read 32 messages\n",
      "RemoteTelemetry(ATPneumatics, 0, loadCell) falling behind; read 32 messages\n",
      "RemoteTelemetry(ATPneumatics, 0, loadCell) falling behind; read 32 messages\n",
      "RemoteEvent(ATHeaderService, 0, heartbeat) falling behind; read 32 messages\n",
      "RemoteEvent(ATHeaderService, 0, heartbeat) falling behind; read 32 messages\n",
      "RemoteEvent(ATAOS, 0, detailedState) falling behind; read 36 messages\n",
      "RemoteEvent(ATAOS, 0, detailedState) falling behind; read 36 messages\n",
      "RemoteEvent(ATArchiver, 0, heartbeat) falling behind; read 32 messages\n",
      "RemoteEvent(ATArchiver, 0, heartbeat) falling behind; read 32 messages\n",
      "RemoteEvent(ATPneumatics, 0, heartbeat) falling behind; read 33 messages\n",
      "RemoteTelemetry(ATHexapod, 0, positionStatus) falling behind; read 32 messages\n",
      "RemoteTelemetry(ATMCS, 0, trajectory) falling behind; read 32 messages\n",
      "RemoteTelemetry(ATPneumatics, 0, mainAirSourcePressure) falling behind; read 33 messages\n",
      "RemoteTelemetry(ATHexapod, 0, positionStatus) falling behind; read 32 messages\n",
      "RemoteTelemetry(ATMCS, 0, trajectory) falling behind; read 32 messages\n",
      "RemoteTelemetry(ATPtg, 0, timeAndDate) falling behind; read 100 messages\n",
      "RemoteTelemetry(ATPtg, 0, timeAndDate) falling behind; read 100 messages\n",
      "RemoteTelemetry(ATMCS, 0, torqueDemand) falling behind; read 33 messages\n",
      "RemoteTelemetry(ATPneumatics, 0, m2AirPressure) falling behind; read 33 messages\n",
      "RemoteEvent(ATDome, 0, heartbeat) falling behind; read 33 messages\n",
      "RemoteEvent(ATDomeTrajectory, 0, heartbeat) falling behind; read 33 messages\n",
      "RemoteEvent(ATDomeTrajectory, 0, heartbeat) falling behind; read 33 messages\n",
      "RemoteTelemetry(ATMCS, 0, torqueDemand) falling behind; read 33 messages\n",
      "RemoteEvent(ATDome, 0, heartbeat) falling behind; read 33 messages\n",
      "RemoteTelemetry(ATPneumatics, 0, mainAirSourcePressure) falling behind; read 33 messages\n",
      "RemoteTelemetry(ATMCS, 0, nasymth_m3_mountMotorEncoders) falling behind; read 33 messages\n",
      "RemoteTelemetry(ATPneumatics, 0, m1AirPressure) falling behind; read 33 messages\n",
      "RemoteTelemetry(ATMCS, 0, nasymth_m3_mountMotorEncoders) falling behind; read 33 messages\n",
      "RemoteTelemetry(ATPtg, 0, mountStatus) falling behind; read 100 messages\n",
      "RemoteTelemetry(ATPtg, 0, mountStatus) falling behind; read 100 messages\n",
      "RemoteTelemetry(ATPneumatics, 0, m2AirPressure) falling behind; read 34 messages\n",
      "RemoteTelemetry(ATMCS, 0, mount_Nasmyth_Encoders) falling behind; read 33 messages\n",
      "RemoteTelemetry(ATMCS, 0, mount_Nasmyth_Encoders) falling behind; read 33 messages\n",
      "RemoteTelemetry(ATPtg, 0, guidingAndOffsets) falling behind; read 100 messages\n",
      "RemoteTelemetry(ATPtg, 0, guidingAndOffsets) falling behind; read 100 messages\n",
      "RemoteTelemetry(ATPneumatics, 0, m1AirPressure) falling behind; read 34 messages\n",
      "RemoteTelemetry(ATMCS, 0, mount_AzEl_Encoders) falling behind; read 34 messages\n",
      "RemoteTelemetry(ATMCS, 0, mount_AzEl_Encoders) falling behind; read 34 messages\n",
      "RemoteEvent(ATAOS, 0, heartbeat) falling behind; read 34 messages\n",
      "RemoteEvent(ATAOS, 0, heartbeat) falling behind; read 34 messages\n",
      "RemoteTelemetry(ATMCS, 0, measuredTorque) falling behind; read 34 messages\n",
      "RemoteEvent(ATPneumatics, 0, heartbeat) falling behind; read 34 messages\n",
      "RemoteTelemetry(ATMCS, 0, measuredTorque) falling behind; read 34 messages\n",
      "RemoteTelemetry(ATMCS, 0, measuredMotorVelocity) falling behind; read 34 messages\n",
      "RemoteTelemetry(ATMCS, 0, measuredMotorVelocity) falling behind; read 34 messages\n",
      "RemoteTelemetry(ATMCS, 0, azEl_mountMotorEncoders) falling behind; read 34 messages\n",
      "RemoteTelemetry(ATMCS, 0, azEl_mountMotorEncoders) falling behind; read 34 messages\n",
      "RemoteEvent(ATPtg, 0, mountDataWarning) falling behind; read 20 messages\n",
      "RemoteEvent(ATPtg, 0, mountDataWarning) falling behind; read 20 messages\n",
      "RemoteEvent(ATMCS, 0, heartbeat) falling behind; read 35 messages\n",
      "RemoteEvent(ATMCS, 0, heartbeat) falling behind; read 35 messages\n"
     ]
    }
   ],
   "source": [
    "await cwfs.run_cwfs()"
   ]
  },
  {
   "cell_type": "code",
   "execution_count": 23,
   "metadata": {},
   "outputs": [
    {
     "name": "stdout",
     "output_type": "stream",
     "text": [
      "==============================\n",
      "Measured zernike coeficients: [-60.22616183949246, 12.643265139405973, -684.6436103601449]\n",
      "De-rotated zernike coeficients: [ -60.22616184   12.64326514 -684.64361036]\n",
      "Hexapod offset: [0.45974169 0.09651347 0.16301038]\n",
      "Telescope offsets: [27.58450161  5.79080846  0.        ]\n",
      "==============================\n",
      "\n"
     ]
    }
   ],
   "source": [
    "cwfs.show_results()"
   ]
  },
  {
   "cell_type": "code",
   "execution_count": 25,
   "metadata": {},
   "outputs": [],
   "source": [
    "await cwfs.hexapod_offset(0.16301038)"
   ]
  },
  {
   "cell_type": "code",
   "execution_count": 26,
   "metadata": {},
   "outputs": [
    {
     "name": "stdout",
     "output_type": "stream",
     "text": [
      "ENGTEST 0001 - 0001\n",
      "RemoteEvent(ATHeaderService, 0, logMessage) falling behind; read 10 messages\n",
      "Waiting for header service LFO before continuing\n",
      "RemoteEvent(ATHeaderService, 0, logMessage) falling behind; read 22 messages\n",
      "ENGTEST 0001 - 0001\n",
      "Waiting for header service LFO before continuing\n",
      "RemoteEvent(ATHeaderService, 0, logMessage) falling behind; read 16 messages\n",
      "intraImage expId for target: 2020021800035\n",
      "extraImage expId for target: 2020021800036\n"
     ]
    }
   ],
   "source": [
    "await cwfs.take_intra_extra()"
   ]
  },
  {
   "cell_type": "code",
   "execution_count": 31,
   "metadata": {},
   "outputs": [],
   "source": [
    "cwfs.angle = -cwfs.camera_rotation_angle"
   ]
  },
  {
   "cell_type": "code",
   "execution_count": 32,
   "metadata": {},
   "outputs": [
    {
     "name": "stdout",
     "output_type": "stream",
     "text": [
      "RemoteEvent(ATMCS, 0, heartbeat) falling behind; read 66 messages\n",
      "RemoteEvent(ATMCS, 0, heartbeat) falling behind; read 66 messages\n",
      "RemoteEvent(ATMCS, 0, target) falling behind; read 100 messages\n"
     ]
    }
   ],
   "source": [
    "cwfs.intra_visit_id = 2020021800035\n",
    "cwfs.extra_visit_id = 2020021800036"
   ]
  },
  {
   "cell_type": "code",
   "execution_count": 33,
   "metadata": {},
   "outputs": [
    {
     "name": "stdout",
     "output_type": "stream",
     "text": [
      "Running cwfs in 2020021800035/2020021800036.\n"
     ]
    },
    {
     "name": "stderr",
     "output_type": "stream",
     "text": [
      "/home/saluser/repos/ts_externalscripts/python/lsst/ts/externalscripts/auxtel/latiss_cwfs_align.py:306: FutureWarning: Config field doAddDistortionModel is deprecated: Camera geometry is incorporated when reading the raw files. This option no longer is used, and will be removed after v19.\n",
      "  isrConfig.doAddDistortionModel = False\n"
     ]
    },
    {
     "name": "stdout",
     "output_type": "stream",
     "text": [
      "Using translation class LSST_LATISS\n",
      "Checking for header correction file named LATISS-AT_O_20200218_000035.yaml\n",
      "AT_O_20200218_000035: Forcing detector serial to ITL-3800C-068\n",
      "AT_O_20200218_000035: Forcing SHUTTIME header to be None\n",
      "Using translation class LSST_LATISS\n",
      "Checking for header correction file named LATISS-AT_O_20200218_000035.yaml\n",
      "AT_O_20200218_000035: Forcing detector serial to ITL-3800C-068\n",
      "Using translation class LSST_LATISS\n",
      "AT_O_20200218_000035: Dark time less than exposure time. Setting dark time to the exposure time.\n",
      "Using translation class LSST_LATISS\n",
      "Checking for header correction file named LATISS-AT_O_20200218_000035.yaml\n",
      "AT_O_20200218_000035: Forcing detector serial to ITL-3800C-068\n",
      "AT_O_20200218_000035: Forcing SHUTTIME header to be None\n",
      "Using translation class LSST_LATISS\n",
      "Checking for header correction file named LATISS-AT_O_20200218_000035.yaml\n",
      "AT_O_20200218_000035: Forcing detector serial to ITL-3800C-068\n",
      "Using translation class LSST_LATISS\n",
      "AT_O_20200218_000035: Dark time less than exposure time. Setting dark time to the exposure time.\n",
      "Using translation class LSST_LATISS\n",
      "Checking for header correction file named LATISS-AT_O_20200218_000036.yaml\n",
      "AT_O_20200218_000036: Forcing detector serial to ITL-3800C-068\n",
      "AT_O_20200218_000036: Forcing SHUTTIME header to be None\n",
      "Using translation class LSST_LATISS\n",
      "Checking for header correction file named LATISS-AT_O_20200218_000036.yaml\n",
      "AT_O_20200218_000036: Forcing detector serial to ITL-3800C-068\n",
      "Using translation class LSST_LATISS\n",
      "AT_O_20200218_000036: Dark time less than exposure time. Setting dark time to the exposure time.\n",
      "Running source detection algorithm\n",
      "RemoteEvent(ATMCS, 0, target) falling behind; read 100 messages\n",
      "RemoteEvent(ATMCS, 0, target) falling behind; read 100 messages\n",
      "RemoteEvent(ATMCS, 0, target) falling behind; read 100 messages\n",
      "RemoteEvent(ATDomeTrajectory, 0, logMessage) falling behind; read 100 messages\n",
      "RemoteEvent(ATDomeTrajectory, 0, logMessage) falling behind; read 100 messages\n",
      "RemoteEvent(ATDomeTrajectory, 0, logMessage) falling behind; read 100 messages\n",
      "RemoteEvent(ATArchiver, 0, heartbeat) falling behind; read 15 messages\n",
      "RemoteTelemetry(ATPtg, 0, currentTargetStatus) falling behind; read 73 messages\n",
      "RemoteEvent(ATArchiver, 0, heartbeat) falling behind; read 15 messages\n",
      "RemoteEvent(ATArchiver, 0, heartbeat) falling behind; read 15 messages\n",
      "RemoteTelemetry(ATPtg, 0, currentTargetStatus) falling behind; read 73 messages\n",
      "RemoteTelemetry(ATPtg, 0, currentTargetStatus) falling behind; read 74 messages\n",
      "RemoteEvent(ATAOS, 0, heartbeat) falling behind; read 15 messages\n",
      "RemoteEvent(ATAOS, 0, heartbeat) falling behind; read 15 messages\n",
      "RemoteEvent(ATAOS, 0, heartbeat) falling behind; read 15 messages\n",
      "RemoteEvent(ATDome, 0, heartbeat) falling behind; read 15 messages\n",
      "RemoteEvent(ATDome, 0, heartbeat) falling behind; read 15 messages\n",
      "RemoteEvent(ATDome, 0, heartbeat) falling behind; read 15 messages\n",
      "RemoteTelemetry(ATHexapod, 0, positionStatus) falling behind; read 15 messages\n",
      "RemoteTelemetry(ATHexapod, 0, positionStatus) falling behind; read 15 messages\n",
      "RemoteTelemetry(ATHexapod, 0, positionStatus) falling behind; read 15 messages\n",
      "RemoteEvent(ATSpectrograph, 0, heartbeat) falling behind; read 15 messages\n",
      "RemoteEvent(ATSpectrograph, 0, heartbeat) falling behind; read 15 messages\n",
      "RemoteEvent(ATSpectrograph, 0, heartbeat) falling behind; read 15 messages\n",
      "RemoteEvent(ATHeaderService, 0, heartbeat) falling behind; read 15 messages\n",
      "RemoteEvent(ATHeaderService, 0, heartbeat) falling behind; read 15 messages\n",
      "RemoteEvent(ATHeaderService, 0, heartbeat) falling behind; read 15 messages\n",
      "RemoteTelemetry(ATPtg, 0, timeAndDate) falling behind; read 77 messages\n",
      "RemoteTelemetry(ATMCS, 0, trajectory) falling behind; read 16 messages\n",
      "RemoteEvent(ATHexapod, 0, heartbeat) falling behind; read 15 messages\n",
      "RemoteTelemetry(ATPneumatics, 0, mainAirSourcePressure) falling behind; read 15 messages\n",
      "RemoteTelemetry(ATDome, 0, position) falling behind; read 76 messages\n",
      "RemoteTelemetry(ATPneumatics, 0, mainAirSourcePressure) falling behind; read 15 messages\n",
      "RemoteTelemetry(ATPtg, 0, timeAndDate) falling behind; read 78 messages\n",
      "RemoteTelemetry(ATDome, 0, position) falling behind; read 78 messages\n",
      "RemoteTelemetry(ATMCS, 0, trajectory) falling behind; read 16 messages\n",
      "RemoteTelemetry(ATPneumatics, 0, mainAirSourcePressure) falling behind; read 16 messages\n",
      "RemoteTelemetry(ATPtg, 0, timeAndDate) falling behind; read 80 messages\n",
      "RemoteEvent(ATHexapod, 0, heartbeat) falling behind; read 16 messages\n",
      "RemoteEvent(ATHexapod, 0, heartbeat) falling behind; read 16 messages\n",
      "RemoteTelemetry(ATMCS, 0, trajectory) falling behind; read 16 messages\n",
      "RemoteTelemetry(ATDome, 0, position) falling behind; read 79 messages\n",
      "RemoteTelemetry(ATMCS, 0, torqueDemand) falling behind; read 17 messages\n",
      "RemoteTelemetry(ATPneumatics, 0, m2AirPressure) falling behind; read 16 messages\n",
      "RemoteTelemetry(ATPneumatics, 0, m2AirPressure) falling behind; read 16 messages\n",
      "RemoteEvent(ATDomeTrajectory, 0, heartbeat) falling behind; read 16 messages\n",
      "RemoteEvent(ATDomeTrajectory, 0, heartbeat) falling behind; read 16 messages\n",
      "RemoteTelemetry(ATMCS, 0, torqueDemand) falling behind; read 17 messages\n",
      "RemoteTelemetry(ATPneumatics, 0, m2AirPressure) falling behind; read 16 messages\n",
      "RemoteTelemetry(ATMCS, 0, torqueDemand) falling behind; read 17 messages\n",
      "RemoteEvent(ATDomeTrajectory, 0, heartbeat) falling behind; read 16 messages\n",
      "RemoteTelemetry(ATPtg, 0, mountStatus) falling behind; read 83 messages\n",
      "RemoteTelemetry(ATMCS, 0, nasymth_m3_mountMotorEncoders) falling behind; read 17 messages\n",
      "RemoteTelemetry(ATPneumatics, 0, m1AirPressure) falling behind; read 16 messages\n",
      "RemoteTelemetry(ATPneumatics, 0, m1AirPressure) falling behind; read 16 messages\n",
      "RemoteTelemetry(ATPtg, 0, mountStatus) falling behind; read 84 messages\n",
      "RemoteTelemetry(ATMCS, 0, nasymth_m3_mountMotorEncoders) falling behind; read 17 messages\n",
      "RemoteTelemetry(ATPneumatics, 0, m1AirPressure) falling behind; read 16 messages\n",
      "RemoteTelemetry(ATPtg, 0, mountStatus) falling behind; read 84 messages\n",
      "RemoteTelemetry(ATMCS, 0, nasymth_m3_mountMotorEncoders) falling behind; read 17 messages\n",
      "RemoteTelemetry(ATPtg, 0, guidingAndOffsets) falling behind; read 85 messages\n",
      "RemoteTelemetry(ATMCS, 0, mount_Nasmyth_Encoders) falling behind; read 17 messages\n",
      "RemoteTelemetry(ATPneumatics, 0, loadCell) falling behind; read 17 messages\n",
      "RemoteTelemetry(ATPneumatics, 0, loadCell) falling behind; read 17 messages\n",
      "RemoteTelemetry(ATPtg, 0, guidingAndOffsets) falling behind; read 86 messages\n",
      "RemoteTelemetry(ATMCS, 0, mount_Nasmyth_Encoders) falling behind; read 17 messages\n",
      "RemoteTelemetry(ATPneumatics, 0, loadCell) falling behind; read 17 messages\n",
      "RemoteEvent(ATAOS, 0, detailedState) falling behind; read 28 messages\n",
      "RemoteTelemetry(ATPtg, 0, guidingAndOffsets) falling behind; read 87 messages\n",
      "RemoteTelemetry(ATMCS, 0, mount_Nasmyth_Encoders) falling behind; read 18 messages\n",
      "RemoteEvent(ATAOS, 0, detailedState) falling behind; read 28 messages\n",
      "RemoteEvent(ATAOS, 0, detailedState) falling behind; read 28 messages\n",
      "RemoteTelemetry(ATMCS, 0, mount_AzEl_Encoders) falling behind; read 18 messages\n",
      "RemoteTelemetry(ATMCS, 0, mount_AzEl_Encoders) falling behind; read 18 messages\n",
      "RemoteTelemetry(ATMCS, 0, mount_AzEl_Encoders) falling behind; read 18 messages\n",
      "RemoteTelemetry(ATMCS, 0, measuredTorque) falling behind; read 18 messages\n",
      "RemoteEvent(ATPneumatics, 0, heartbeat) falling behind; read 18 messages\n",
      "RemoteEvent(ATPneumatics, 0, heartbeat) falling behind; read 18 messages\n",
      "RemoteTelemetry(ATMCS, 0, measuredTorque) falling behind; read 18 messages\n",
      "RemoteEvent(ATPneumatics, 0, heartbeat) falling behind; read 18 messages\n",
      "RemoteTelemetry(ATMCS, 0, measuredTorque) falling behind; read 18 messages\n",
      "RemoteTelemetry(ATMCS, 0, measuredMotorVelocity) falling behind; read 18 messages\n",
      "RemoteTelemetry(ATMCS, 0, measuredMotorVelocity) falling behind; read 18 messages\n",
      "RemoteTelemetry(ATMCS, 0, measuredMotorVelocity) falling behind; read 18 messages\n",
      "RemoteTelemetry(ATMCS, 0, azEl_mountMotorEncoders) falling behind; read 18 messages\n",
      "RemoteTelemetry(ATMCS, 0, azEl_mountMotorEncoders) falling behind; read 19 messages\n",
      "RemoteTelemetry(ATMCS, 0, azEl_mountMotorEncoders) falling behind; read 19 messages\n",
      "RemoteEvent(ATMCS, 0, heartbeat) falling behind; read 18 messages\n",
      "RemoteEvent(ATMCS, 0, heartbeat) falling behind; read 18 messages\n",
      "RemoteEvent(ATMCS, 0, heartbeat) falling behind; read 18 messages\n",
      "RemoteEvent(ATHeaderService, 0, heartbeat) falling behind; read 10 messages\n",
      "RemoteEvent(ATHeaderService, 0, heartbeat) falling behind; read 10 messages\n",
      "RemoteEvent(ATHeaderService, 0, heartbeat) falling behind; read 10 messages\n",
      "RemoteTelemetry(ATPneumatics, 0, loadCell) falling behind; read 10 messages\n",
      "RemoteTelemetry(ATPneumatics, 0, loadCell) falling behind; read 10 messages\n",
      "RemoteTelemetry(ATPneumatics, 0, loadCell) falling behind; read 10 messages\n",
      "RemoteEvent(ATArchiver, 0, heartbeat) falling behind; read 10 messages\n",
      "RemoteEvent(ATArchiver, 0, heartbeat) falling behind; read 10 messages\n",
      "RemoteTelemetry(ATDome, 0, position) falling behind; read 48 messages\n",
      "RemoteTelemetry(ATDome, 0, position) falling behind; read 48 messages\n",
      "RemoteEvent(ATHexapod, 0, heartbeat) falling behind; read 10 messages\n",
      "RemoteEvent(ATSpectrograph, 0, heartbeat) falling behind; read 10 messages\n",
      "RemoteEvent(ATSpectrograph, 0, heartbeat) falling behind; read 10 messages\n",
      "RemoteEvent(ATHexapod, 0, heartbeat) falling behind; read 10 messages\n",
      "RemoteEvent(ATArchiver, 0, heartbeat) falling behind; read 10 messages\n",
      "RemoteEvent(ATHexapod, 0, heartbeat) falling behind; read 10 messages\n",
      "RemoteEvent(ATSpectrograph, 0, heartbeat) falling behind; read 10 messages\n",
      "RemoteTelemetry(ATDome, 0, position) falling behind; read 49 messages\n",
      "RemoteEvent(ATDomeTrajectory, 0, heartbeat) falling behind; read 11 messages\n",
      "RemoteEvent(ATDomeTrajectory, 0, heartbeat) falling behind; read 11 messages\n",
      "RemoteTelemetry(ATHexapod, 0, positionStatus) falling behind; read 11 messages\n",
      "RemoteTelemetry(ATHexapod, 0, positionStatus) falling behind; read 11 messages\n",
      "RemoteTelemetry(ATHexapod, 0, positionStatus) falling behind; read 11 messages\n",
      "RemoteEvent(ATDomeTrajectory, 0, heartbeat) falling behind; read 11 messages\n",
      "RemoteTelemetry(ATPneumatics, 0, mainAirSourcePressure) falling behind; read 11 messages\n",
      "RemoteTelemetry(ATPneumatics, 0, mainAirSourcePressure) falling behind; read 11 messages\n",
      "RemoteTelemetry(ATPneumatics, 0, mainAirSourcePressure) falling behind; read 11 messages\n",
      "RemoteTelemetry(ATPneumatics, 0, m2AirPressure) falling behind; read 11 messages\n",
      "RemoteTelemetry(ATPneumatics, 0, m2AirPressure) falling behind; read 11 messages\n",
      "RemoteTelemetry(ATPneumatics, 0, m2AirPressure) falling behind; read 11 messages\n",
      "Running CWFS code.\n",
      "==============================\n",
      "Measured zernike coeficients: [-70.97827568028502, -4.807600650907275, -71.47096437032532]\n",
      "De-rotated zernike coeficients: [-70.97827568  -4.80760065 -71.47096437]\n",
      "Hexapod offset: [ 0.5418189  -0.03669924  0.0170169 ]\n",
      "Telescope offsets: [32.5091339 -2.2019545  0.       ]\n",
      "==============================\n",
      "\n",
      "RemoteEvent(ATDomeTrajectory, 0, logMessage) falling behind; read 100 messages\n",
      "RemoteEvent(ATDomeTrajectory, 0, logMessage) falling behind; read 100 messages\n",
      "RemoteEvent(ATMCS, 0, target) falling behind; read 100 messages\n",
      "RemoteEvent(ATMCS, 0, target) falling behind; read 100 messages\n",
      "RemoteTelemetry(ATPtg, 0, currentTargetStatus) falling behind; read 100 messages\n",
      "RemoteTelemetry(ATPtg, 0, currentTargetStatus) falling behind; read 100 messages\n",
      "RemoteEvent(ATDomeTrajectory, 0, logMessage) falling behind; read 100 messages\n",
      "RemoteEvent(ATMCS, 0, target) falling behind; read 100 messages\n",
      "RemoteTelemetry(ATPtg, 0, currentTargetStatus) falling behind; read 100 messages\n",
      "RemoteTelemetry(ATDome, 0, position) falling behind; read 100 messages\n",
      "RemoteTelemetry(ATDome, 0, position) falling behind; read 100 messages\n",
      "RemoteTelemetry(ATDome, 0, position) falling behind; read 100 messages\n",
      "RemoteEvent(ATSpectrograph, 0, heartbeat) falling behind; read 34 messages\n",
      "RemoteEvent(ATSpectrograph, 0, heartbeat) falling behind; read 34 messages\n",
      "RemoteEvent(ATSpectrograph, 0, heartbeat) falling behind; read 34 messages\n",
      "RemoteEvent(ATHexapod, 0, heartbeat) falling behind; read 34 messages\n",
      "RemoteEvent(ATHexapod, 0, heartbeat) falling behind; read 34 messages\n",
      "RemoteEvent(ATHexapod, 0, heartbeat) falling behind; read 34 messages\n",
      "RemoteEvent(ATAOS, 0, detailedState) falling behind; read 36 messages\n",
      "RemoteEvent(ATAOS, 0, detailedState) falling behind; read 36 messages\n",
      "RemoteTelemetry(ATPneumatics, 0, loadCell) falling behind; read 34 messages\n",
      "RemoteTelemetry(ATPneumatics, 0, loadCell) falling behind; read 34 messages\n",
      "RemoteEvent(ATAOS, 0, detailedState) falling behind; read 36 messages\n",
      "RemoteTelemetry(ATPneumatics, 0, loadCell) falling behind; read 35 messages\n",
      "RemoteEvent(ATHeaderService, 0, heartbeat) falling behind; read 34 messages\n",
      "RemoteEvent(ATHeaderService, 0, heartbeat) falling behind; read 34 messages\n",
      "RemoteEvent(ATHeaderService, 0, heartbeat) falling behind; read 34 messages\n",
      "RemoteEvent(ATArchiver, 0, heartbeat) falling behind; read 34 messages\n",
      "RemoteEvent(ATArchiver, 0, heartbeat) falling behind; read 34 messages\n",
      "RemoteEvent(ATArchiver, 0, heartbeat) falling behind; read 34 messages\n",
      "RemoteTelemetry(ATHexapod, 0, positionStatus) falling behind; read 34 messages\n",
      "RemoteTelemetry(ATPneumatics, 0, mainAirSourcePressure) falling behind; read 35 messages\n",
      "RemoteTelemetry(ATMCS, 0, trajectory) falling behind; read 35 messages\n",
      "RemoteTelemetry(ATMCS, 0, trajectory) falling behind; read 35 messages\n",
      "RemoteTelemetry(ATPtg, 0, timeAndDate) falling behind; read 100 messages\n",
      "RemoteTelemetry(ATHexapod, 0, positionStatus) falling behind; read 35 messages\n",
      "RemoteTelemetry(ATPtg, 0, timeAndDate) falling behind; read 100 messages\n",
      "RemoteTelemetry(ATHexapod, 0, positionStatus) falling behind; read 35 messages\n",
      "RemoteTelemetry(ATPneumatics, 0, mainAirSourcePressure) falling behind; read 35 messages\n",
      "RemoteTelemetry(ATPtg, 0, timeAndDate) falling behind; read 100 messages\n",
      "RemoteTelemetry(ATPneumatics, 0, mainAirSourcePressure) falling behind; read 36 messages\n",
      "RemoteTelemetry(ATMCS, 0, trajectory) falling behind; read 35 messages\n",
      "RemoteEvent(ATDome, 0, heartbeat) falling behind; read 35 messages\n",
      "RemoteTelemetry(ATPneumatics, 0, m2AirPressure) falling behind; read 36 messages\n",
      "RemoteTelemetry(ATMCS, 0, torqueDemand) falling behind; read 35 messages\n",
      "RemoteEvent(ATDomeTrajectory, 0, heartbeat) falling behind; read 36 messages\n",
      "RemoteTelemetry(ATMCS, 0, torqueDemand) falling behind; read 35 messages\n",
      "RemoteEvent(ATDome, 0, heartbeat) falling behind; read 36 messages\n",
      "RemoteEvent(ATDomeTrajectory, 0, heartbeat) falling behind; read 36 messages\n",
      "RemoteEvent(ATDome, 0, heartbeat) falling behind; read 36 messages\n",
      "RemoteEvent(ATDomeTrajectory, 0, heartbeat) falling behind; read 36 messages\n",
      "RemoteTelemetry(ATPneumatics, 0, m2AirPressure) falling behind; read 36 messages\n",
      "RemoteTelemetry(ATPneumatics, 0, m2AirPressure) falling behind; read 36 messages\n",
      "RemoteTelemetry(ATMCS, 0, torqueDemand) falling behind; read 36 messages\n",
      "RemoteTelemetry(ATPneumatics, 0, m1AirPressure) falling behind; read 36 messages\n",
      "RemoteTelemetry(ATMCS, 0, nasymth_m3_mountMotorEncoders) falling behind; read 36 messages\n",
      "RemoteTelemetry(ATMCS, 0, nasymth_m3_mountMotorEncoders) falling behind; read 36 messages\n",
      "RemoteTelemetry(ATPtg, 0, mountStatus) falling behind; read 100 messages\n",
      "RemoteTelemetry(ATPtg, 0, mountStatus) falling behind; read 100 messages\n",
      "RemoteTelemetry(ATPneumatics, 0, m1AirPressure) falling behind; read 37 messages\n",
      "RemoteTelemetry(ATPtg, 0, mountStatus) falling behind; read 100 messages\n",
      "RemoteTelemetry(ATPneumatics, 0, m1AirPressure) falling behind; read 37 messages\n",
      "RemoteTelemetry(ATMCS, 0, nasymth_m3_mountMotorEncoders) falling behind; read 36 messages\n",
      "RemoteTelemetry(ATMCS, 0, mount_Nasmyth_Encoders) falling behind; read 37 messages\n",
      "RemoteTelemetry(ATMCS, 0, mount_Nasmyth_Encoders) falling behind; read 37 messages\n",
      "RemoteTelemetry(ATPtg, 0, guidingAndOffsets) falling behind; read 100 messages\n",
      "RemoteTelemetry(ATPtg, 0, guidingAndOffsets) falling behind; read 100 messages\n",
      "RemoteTelemetry(ATPtg, 0, guidingAndOffsets) falling behind; read 100 messages\n",
      "RemoteTelemetry(ATMCS, 0, mount_Nasmyth_Encoders) falling behind; read 37 messages\n",
      "RemoteEvent(ATAOS, 0, heartbeat) falling behind; read 37 messages\n",
      "RemoteTelemetry(ATMCS, 0, mount_AzEl_Encoders) falling behind; read 37 messages\n",
      "RemoteTelemetry(ATMCS, 0, mount_AzEl_Encoders) falling behind; read 37 messages\n",
      "RemoteEvent(ATAOS, 0, heartbeat) falling behind; read 37 messages\n",
      "RemoteEvent(ATPneumatics, 0, heartbeat) falling behind; read 38 messages\n",
      "RemoteTelemetry(ATMCS, 0, mount_AzEl_Encoders) falling behind; read 38 messages\n",
      "RemoteEvent(ATAOS, 0, heartbeat) falling behind; read 38 messages\n",
      "RemoteEvent(ATPneumatics, 0, heartbeat) falling behind; read 38 messages\n",
      "RemoteTelemetry(ATMCS, 0, measuredTorque) falling behind; read 38 messages\n",
      "RemoteTelemetry(ATMCS, 0, measuredTorque) falling behind; read 38 messages\n",
      "RemoteEvent(ATPneumatics, 0, heartbeat) falling behind; read 38 messages\n",
      "RemoteTelemetry(ATMCS, 0, measuredTorque) falling behind; read 38 messages\n",
      "RemoteTelemetry(ATMCS, 0, measuredMotorVelocity) falling behind; read 38 messages\n",
      "RemoteTelemetry(ATMCS, 0, measuredMotorVelocity) falling behind; read 38 messages\n",
      "RemoteTelemetry(ATMCS, 0, measuredMotorVelocity) falling behind; read 38 messages\n",
      "RemoteTelemetry(ATMCS, 0, azEl_mountMotorEncoders) falling behind; read 38 messages\n",
      "RemoteTelemetry(ATMCS, 0, azEl_mountMotorEncoders) falling behind; read 38 messages\n",
      "RemoteEvent(ATPtg, 0, mountDataWarning) falling behind; read 20 messages\n",
      "RemoteTelemetry(ATMCS, 0, azEl_mountMotorEncoders) falling behind; read 39 messages\n",
      "RemoteEvent(ATMCS, 0, heartbeat) falling behind; read 40 messages\n",
      "RemoteEvent(ATMCS, 0, heartbeat) falling behind; read 40 messages\n",
      "RemoteEvent(ATMCS, 0, heartbeat) falling behind; read 40 messages\n"
     ]
    }
   ],
   "source": [
    "await cwfs.run_cwfs()"
   ]
  },
  {
   "cell_type": "code",
   "execution_count": 34,
   "metadata": {},
   "outputs": [
    {
     "name": "stdout",
     "output_type": "stream",
     "text": [
      "==============================\n",
      "Measured zernike coeficients: [-70.97827568028502, -4.807600650907275, -71.47096437032532]\n",
      "De-rotated zernike coeficients: [-70.97827568  -4.80760065 -71.47096437]\n",
      "Hexapod offset: [ 0.5418189  -0.03669924  0.0170169 ]\n",
      "Telescope offsets: [32.5091339 -2.2019545  0.       ]\n",
      "==============================\n",
      "\n"
     ]
    }
   ],
   "source": [
    "cwfs.show_results()"
   ]
  },
  {
   "cell_type": "code",
   "execution_count": 36,
   "metadata": {},
   "outputs": [],
   "source": [
    "await cwfs.hexapod_offset(0.0170169)"
   ]
  },
  {
   "cell_type": "code",
   "execution_count": 32,
   "metadata": {},
   "outputs": [
    {
     "name": "stdout",
     "output_type": "stream",
     "text": [
      "ENGTEST 0001 - 0001\n",
      "RemoteEvent(ATHeaderService, 0, logMessage) falling behind; read 11 messages\n",
      "Waiting for header service LFO before continuing\n",
      "ENGTEST 0001 - 0001\n",
      "Waiting for header service LFO before continuing\n",
      "RemoteEvent(ATMCS, 0, target) falling behind; read 10 messages\n",
      "RemoteEvent(ATMCS, 0, target) falling behind; read 80 messages\n",
      "RemoteTelemetry(ATPtg, 0, currentTargetStatus) falling behind; read 20 messages\n",
      "RemoteEvent(ATDomeTrajectory, 0, logMessage) falling behind; read 83 messages\n",
      "RemoteTelemetry(ATDome, 0, position) falling behind; read 18 messages\n",
      "RemoteTelemetry(ATPtg, 0, timeAndDate) falling behind; read 21 messages\n",
      "RemoteTelemetry(ATPtg, 0, mountStatus) falling behind; read 21 messages\n",
      "intraImage expId for target: 2020021800049\n",
      "extraImage expId for target: 2020021800050\n",
      "RemoteTelemetry(ATPtg, 0, guidingAndOffsets) falling behind; read 22 messages\n",
      "RemoteEvent(ATDomeTrajectory, 0, logMessage) falling behind; read 16 messages\n"
     ]
    }
   ],
   "source": [
    "await cwfs.take_intra_extra()"
   ]
  },
  {
   "cell_type": "code",
   "execution_count": 6,
   "metadata": {},
   "outputs": [],
   "source": [
    "cwfs.angle = -cwfs.camera_rotation_angle"
   ]
  },
  {
   "cell_type": "code",
   "execution_count": 33,
   "metadata": {},
   "outputs": [],
   "source": [
    "cwfs.intra_visit_id = 2020021800049\n",
    "cwfs.extra_visit_id = 2020021800050"
   ]
  },
  {
   "cell_type": "code",
   "execution_count": 34,
   "metadata": {},
   "outputs": [
    {
     "name": "stdout",
     "output_type": "stream",
     "text": [
      "Running cwfs in 2020021800049/2020021800050.\n"
     ]
    },
    {
     "name": "stderr",
     "output_type": "stream",
     "text": [
      "/home/saluser/repos/ts_externalscripts/python/lsst/ts/externalscripts/auxtel/latiss_cwfs_align.py:306: FutureWarning: Config field doAddDistortionModel is deprecated: Camera geometry is incorporated when reading the raw files. This option no longer is used, and will be removed after v19.\n",
      "  isrConfig.doAddDistortionModel = False\n"
     ]
    },
    {
     "name": "stdout",
     "output_type": "stream",
     "text": [
      "Using translation class LSST_LATISS\n",
      "Checking for header correction file named LATISS-AT_O_20200218_000049.yaml\n",
      "AT_O_20200218_000049: Forcing detector serial to ITL-3800C-068\n",
      "AT_O_20200218_000049: Forcing SHUTTIME header to be None\n",
      "Using translation class LSST_LATISS\n",
      "Checking for header correction file named LATISS-AT_O_20200218_000049.yaml\n",
      "AT_O_20200218_000049: Forcing detector serial to ITL-3800C-068\n",
      "Using translation class LSST_LATISS\n",
      "AT_O_20200218_000049: Dark time less than exposure time. Setting dark time to the exposure time.\n",
      "Using translation class LSST_LATISS\n",
      "Checking for header correction file named LATISS-AT_O_20200218_000049.yaml\n",
      "AT_O_20200218_000049: Forcing detector serial to ITL-3800C-068\n",
      "AT_O_20200218_000049: Forcing SHUTTIME header to be None\n",
      "Using translation class LSST_LATISS\n",
      "Checking for header correction file named LATISS-AT_O_20200218_000049.yaml\n",
      "AT_O_20200218_000049: Forcing detector serial to ITL-3800C-068\n",
      "Using translation class LSST_LATISS\n",
      "AT_O_20200218_000049: Dark time less than exposure time. Setting dark time to the exposure time.\n",
      "Using translation class LSST_LATISS\n",
      "Checking for header correction file named LATISS-AT_O_20200218_000050.yaml\n",
      "AT_O_20200218_000050: Forcing detector serial to ITL-3800C-068\n",
      "AT_O_20200218_000050: Forcing SHUTTIME header to be None\n",
      "Using translation class LSST_LATISS\n",
      "Checking for header correction file named LATISS-AT_O_20200218_000050.yaml\n",
      "AT_O_20200218_000050: Forcing detector serial to ITL-3800C-068\n",
      "Using translation class LSST_LATISS\n",
      "AT_O_20200218_000050: Dark time less than exposure time. Setting dark time to the exposure time.\n",
      "Running source detection algorithm\n",
      "RemoteTelemetry(ATMCS, 0, azEl_mountMotorEncoders) falling behind; read 18 messages\n",
      "RemoteEvent(ATMCS, 0, target) falling behind; read 100 messages\n",
      "RemoteEvent(ATDomeTrajectory, 0, logMessage) falling behind; read 100 messages\n",
      "RemoteEvent(ATDome, 0, heartbeat) falling behind; read 18 messages\n",
      "RemoteEvent(ATSpectrograph, 0, heartbeat) falling behind; read 18 messages\n",
      "RemoteEvent(ATArchiver, 0, heartbeat) falling behind; read 18 messages\n",
      "RemoteEvent(ATHeaderService, 0, heartbeat) falling behind; read 17 messages\n",
      "RemoteTelemetry(ATPneumatics, 0, mainAirSourcePressure) falling behind; read 18 messages\n",
      "RemoteTelemetry(ATPtg, 0, timeAndDate) falling behind; read 89 messages\n",
      "RemoteTelemetry(ATPneumatics, 0, m2AirPressure) falling behind; read 19 messages\n",
      "RemoteTelemetry(ATPneumatics, 0, m1AirPressure) falling behind; read 19 messages\n",
      "RemoteTelemetry(ATPtg, 0, mountStatus) falling behind; read 91 messages\n",
      "RemoteTelemetry(ATDome, 0, position) falling behind; read 89 messages\n",
      "RemoteTelemetry(ATHexapod, 0, positionStatus) falling behind; read 18 messages\n",
      "RemoteTelemetry(ATMCS, 0, trajectory) falling behind; read 18 messages\n",
      "RemoteTelemetry(ATPneumatics, 0, loadCell) falling behind; read 18 messages\n",
      "RemoteTelemetry(ATPtg, 0, guidingAndOffsets) falling behind; read 93 messages\n",
      "RemoteTelemetry(ATMCS, 0, torqueDemand) falling behind; read 18 messages\n",
      "RemoteEvent(ATDomeTrajectory, 0, heartbeat) falling behind; read 19 messages\n",
      "RemoteEvent(ATAOS, 0, heartbeat) falling behind; read 18 messages\n",
      "RemoteTelemetry(ATMCS, 0, nasymth_m3_mountMotorEncoders) falling behind; read 18 messages\n",
      "RemoteEvent(ATPneumatics, 0, heartbeat) falling behind; read 19 messages\n",
      "RemoteTelemetry(ATPtg, 0, currentTargetStatus) falling behind; read 93 messages\n",
      "RemoteEvent(ATAOS, 0, detailedState) falling behind; read 25 messages\n",
      "RemoteEvent(ATHexapod, 0, heartbeat) falling behind; read 19 messages\n",
      "RemoteTelemetry(ATMCS, 0, mount_Nasmyth_Encoders) falling behind; read 18 messages\n",
      "RemoteTelemetry(ATMCS, 0, mount_AzEl_Encoders) falling behind; read 18 messages\n",
      "RemoteEvent(ATPtg, 0, mountDataWarning) falling behind; read 12 messages\n",
      "RemoteTelemetry(ATMCS, 0, measuredTorque) falling behind; read 18 messages\n",
      "RemoteTelemetry(ATMCS, 0, measuredMotorVelocity) falling behind; read 19 messages\n",
      "RemoteEvent(ATMCS, 0, heartbeat) falling behind; read 19 messages\n",
      "RemoteEvent(ATDomeTrajectory, 0, logMessage) falling behind; read 100 messages\n",
      "RemoteEvent(ATMCS, 0, target) falling behind; read 100 messages\n",
      "RemoteTelemetry(ATPtg, 0, timeAndDate) falling behind; read 49 messages\n",
      "RemoteTelemetry(ATDome, 0, position) falling behind; read 48 messages\n",
      "RemoteEvent(ATAOS, 0, heartbeat) falling behind; read 10 messages\n",
      "RemoteTelemetry(ATHexapod, 0, positionStatus) falling behind; read 10 messages\n",
      "RemoteEvent(ATArchiver, 0, heartbeat) falling behind; read 10 messages\n",
      "RemoteEvent(ATHeaderService, 0, heartbeat) falling behind; read 10 messages\n",
      "RemoteTelemetry(ATPneumatics, 0, loadCell) falling behind; read 10 messages\n",
      "RemoteEvent(ATSpectrograph, 0, heartbeat) falling behind; read 10 messages\n",
      "RemoteEvent(ATPneumatics, 0, heartbeat) falling behind; read 10 messages\n",
      "RemoteTelemetry(ATMCS, 0, trajectory) falling behind; read 10 messages\n",
      "RemoteEvent(ATDome, 0, heartbeat) falling behind; read 10 messages\n",
      "RemoteEvent(ATDomeTrajectory, 0, heartbeat) falling behind; read 10 messages\n",
      "RemoteTelemetry(ATMCS, 0, torqueDemand) falling behind; read 10 messages\n",
      "RemoteTelemetry(ATPneumatics, 0, mainAirSourcePressure) falling behind; read 10 messages\n",
      "RemoteTelemetry(ATPtg, 0, mountStatus) falling behind; read 50 messages\n",
      "RemoteEvent(ATAOS, 0, detailedState) falling behind; read 10 messages\n",
      "RemoteTelemetry(ATMCS, 0, nasymth_m3_mountMotorEncoders) falling behind; read 10 messages\n",
      "RemoteTelemetry(ATPneumatics, 0, m2AirPressure) falling behind; read 10 messages\n",
      "RemoteTelemetry(ATPtg, 0, guidingAndOffsets) falling behind; read 51 messages\n",
      "RemoteTelemetry(ATMCS, 0, mount_Nasmyth_Encoders) falling behind; read 10 messages\n",
      "RemoteEvent(ATHexapod, 0, heartbeat) falling behind; read 10 messages\n",
      "RemoteTelemetry(ATPneumatics, 0, m1AirPressure) falling behind; read 10 messages\n",
      "RemoteTelemetry(ATMCS, 0, mount_AzEl_Encoders) falling behind; read 10 messages\n",
      "RemoteTelemetry(ATPtg, 0, currentTargetStatus) falling behind; read 51 messages\n",
      "RemoteTelemetry(ATMCS, 0, measuredTorque) falling behind; read 11 messages\n",
      "RemoteTelemetry(ATMCS, 0, measuredMotorVelocity) falling behind; read 11 messages\n",
      "RemoteTelemetry(ATMCS, 0, azEl_mountMotorEncoders) falling behind; read 11 messages\n",
      "RemoteEvent(ATMCS, 0, heartbeat) falling behind; read 11 messages\n",
      "Running CWFS code.\n",
      "==============================\n",
      "Measured zernike coeficients: [0.4429672168532265, 65.57110087589889, -185.88616293018487]\n",
      "De-rotated zernike coeficients: [  37.36508217  -53.88521248 -185.88616293]\n",
      "Hexapod offset: [-0.28522963 -0.4113375   0.04425861]\n",
      "Telescope offsets: [-17.11377809 -24.68024999   0.        ]\n",
      "==============================\n",
      "\n",
      "RemoteEvent(ATDomeTrajectory, 0, logMessage) falling behind; read 100 messages\n",
      "RemoteEvent(ATMCS, 0, target) falling behind; read 100 messages\n",
      "RemoteTelemetry(ATPtg, 0, timeAndDate) falling behind; read 100 messages\n",
      "RemoteTelemetry(ATDome, 0, position) falling behind; read 100 messages\n",
      "RemoteEvent(ATSpectrograph, 0, heartbeat) falling behind; read 30 messages\n",
      "RemoteEvent(ATAOS, 0, detailedState) falling behind; read 51 messages\n",
      "RemoteEvent(ATArchiver, 0, heartbeat) falling behind; read 30 messages\n",
      "RemoteTelemetry(ATPneumatics, 0, loadCell) falling behind; read 30 messages\n",
      "RemoteEvent(ATHeaderService, 0, heartbeat) falling behind; read 30 messages\n",
      "RemoteTelemetry(ATHexapod, 0, positionStatus) falling behind; read 29 messages\n",
      "RemoteEvent(ATAOS, 0, m1CorrectionStarted) falling behind; read 13 messages\n",
      "RemoteTelemetry(ATPneumatics, 0, mainAirSourcePressure) falling behind; read 30 messages\n",
      "RemoteTelemetry(ATMCS, 0, trajectory) falling behind; read 30 messages\n",
      "RemoteEvent(ATAOS, 0, m1CorrectionCompleted) falling behind; read 13 messages\n",
      "RemoteEvent(ATDome, 0, heartbeat) falling behind; read 30 messages\n",
      "RemoteEvent(ATDomeTrajectory, 0, heartbeat) falling behind; read 31 messages\n",
      "RemoteTelemetry(ATPneumatics, 0, m2AirPressure) falling behind; read 30 messages\n",
      "RemoteTelemetry(ATMCS, 0, torqueDemand) falling behind; read 30 messages\n",
      "RemoteTelemetry(ATPtg, 0, mountStatus) falling behind; read 100 messages\n",
      "RemoteTelemetry(ATPneumatics, 0, m1AirPressure) falling behind; read 31 messages\n",
      "RemoteEvent(ATHexapod, 0, heartbeat) falling behind; read 30 messages\n",
      "RemoteTelemetry(ATMCS, 0, nasymth_m3_mountMotorEncoders) falling behind; read 31 messages\n",
      "RemoteTelemetry(ATPtg, 0, guidingAndOffsets) falling behind; read 100 messages\n",
      "RemoteEvent(ATPneumatics, 0, m1SetPressure) falling behind; read 13 messages\n",
      "RemoteTelemetry(ATMCS, 0, mount_Nasmyth_Encoders) falling behind; read 31 messages\n",
      "RemoteEvent(ATAOS, 0, heartbeat) falling behind; read 31 messages\n",
      "RemoteEvent(ATPneumatics, 0, heartbeat) falling behind; read 31 messages\n",
      "RemoteTelemetry(ATMCS, 0, mount_AzEl_Encoders) falling behind; read 31 messages\n",
      "RemoteTelemetry(ATPtg, 0, currentTargetStatus) falling behind; read 100 messages\n",
      "RemoteTelemetry(ATMCS, 0, measuredTorque) falling behind; read 31 messages\n",
      "RemoteTelemetry(ATMCS, 0, measuredMotorVelocity) falling behind; read 31 messages\n",
      "RemoteEvent(ATPtg, 0, mountDataWarning) falling behind; read 18 messages\n",
      "RemoteTelemetry(ATMCS, 0, azEl_mountMotorEncoders) falling behind; read 31 messages\n",
      "RemoteEvent(ATMCS, 0, heartbeat) falling behind; read 32 messages\n"
     ]
    }
   ],
   "source": [
    "await cwfs.run_cwfs()"
   ]
  },
  {
   "cell_type": "code",
   "execution_count": 35,
   "metadata": {},
   "outputs": [
    {
     "name": "stdout",
     "output_type": "stream",
     "text": [
      "==============================\n",
      "Measured zernike coeficients: [0.4429672168532265, 65.57110087589889, -185.88616293018487]\n",
      "De-rotated zernike coeficients: [  37.36508217  -53.88521248 -185.88616293]\n",
      "Hexapod offset: [-0.28522963 -0.4113375   0.04425861]\n",
      "Telescope offsets: [-17.11377809 -24.68024999   0.        ]\n",
      "==============================\n",
      "\n"
     ]
    }
   ],
   "source": [
    "cwfs.show_results()"
   ]
  },
  {
   "cell_type": "code",
   "execution_count": 10,
   "metadata": {},
   "outputs": [
    {
     "name": "stdout",
     "output_type": "stream",
     "text": [
      "Generating group_id\n",
      "ENGTEST 0001 - 0001\n",
      "Waiting for header service LFO before continuing\n",
      "RemoteEvent(ATHeaderService, 0, logMessage) falling behind; read 10 messages\n"
     ]
    },
    {
     "data": {
      "text/plain": [
       "array([2020021800039])"
      ]
     },
     "execution_count": 10,
     "metadata": {},
     "output_type": "execute_result"
    }
   ],
   "source": [
    "await cwfs.latiss.take_engtest(exptime=5., n=1, filter='KPNO_406_828nm', grating='empty_1')"
   ]
  },
  {
   "cell_type": "code",
   "execution_count": 36,
   "metadata": {},
   "outputs": [],
   "source": [
    "await cwfs.hexapod_offset(0.04425861)"
   ]
  },
  {
   "cell_type": "code",
   "execution_count": null,
   "metadata": {},
   "outputs": [],
   "source": []
  },
  {
   "cell_type": "code",
   "execution_count": 11,
   "metadata": {},
   "outputs": [
    {
     "data": {
      "text/plain": [
       "<matplotlib.contour.QuadContourSet at 0x7fd00d57e588>"
      ]
     },
     "execution_count": 11,
     "metadata": {},
     "output_type": "execute_result"
    },
    {
     "name": "stdout",
     "output_type": "stream",
     "text": [
      "update_title_pos\n",
      "findfont: Matching :family=sans-serif:style=normal:variant=normal:weight=normal:stretch=normal:size=10.0 to DejaVu Sans ('/opt/lsst/software/stack/python/miniconda3-4.7.10/envs/lsst-scipipe-4d7b902/lib/python3.7/site-packages/matplotlib/mpl-data/fonts/ttf/DejaVuSans.ttf') with score of 0.050000.\n",
      "findfont: Matching :family=sans-serif:style=normal:variant=normal:weight=normal:stretch=normal:size=12.0 to DejaVu Sans ('/opt/lsst/software/stack/python/miniconda3-4.7.10/envs/lsst-scipipe-4d7b902/lib/python3.7/site-packages/matplotlib/mpl-data/fonts/ttf/DejaVuSans.ttf') with score of 0.050000.\n",
      "update_title_pos\n",
      "update_title_pos\n",
      "update_title_pos\n",
      "update_title_pos\n",
      "update_title_pos\n",
      "update_title_pos\n",
      "update_title_pos\n"
     ]
    },
    {
     "data": {
      "image/png": "[encoded data removed]",
      "text/plain": [
       "<Figure size 864x576 with 2 Axes>"
      ]
     },
     "metadata": {
      "needs_background": "light"
     },
     "output_type": "display_data"
    },
    {
     "name": "stdout",
     "output_type": "stream",
     "text": [
      "RemoteEvent(ATMCS, 0, target) falling behind; read 11 messages\n",
      "RemoteEvent(ATDomeTrajectory, 0, logMessage) falling behind; read 11 messages\n",
      "RemoteEvent(ATMCS, 0, target) falling behind; read 10 messages\n"
     ]
    }
   ],
   "source": [
    "fig1 = plt.figure(1, figsize=(12,8))\n",
    "\n",
    "ax11 = fig1.add_subplot(121)\n",
    "\n",
    "ax11.set_title(\"defocus 0.8 - intra\")\n",
    "ax11.imshow(cwfs.I1[0].image0)\n",
    "ax11.contour(cwfs.algo.pMask) \n",
    "\n",
    "ax12 = fig1.add_subplot(122)\n",
    "\n",
    "ax12.set_title(\"defocus 0.8 - extra\")\n",
    "ax12.imshow(cwfs.I2[0].image0)\n",
    "ax12.contour(cwfs.algo.pMask) "
   ]
  },
  {
   "cell_type": "code",
   "execution_count": null,
   "metadata": {},
   "outputs": [],
   "source": []
  },
  {
   "cell_type": "code",
   "execution_count": 9,
   "metadata": {},
   "outputs": [
    {
     "name": "stdout",
     "output_type": "stream",
     "text": [
      "Slewing to HD 27583: 04 20 27.7784 -21 13 04.721\n",
      "Sending command\n",
      "Stop tracking.\n",
      "Mount tracking state is 9\n",
      "Tracking state: 10.\n",
      "Tracking state: 8.\n",
      "In Position: True.\n",
      "In Position: False.\n",
      "Scheduling check coroutines\n",
      "process as completed...\n",
      "Got False\n",
      "Telescope not in position\n",
      "atmcs: <State.ENABLED: 2>\n",
      "atptg: <State.ENABLED: 2>\n",
      "ataos: <State.ENABLED: 2>\n",
      "atpneumatics: <State.ENABLED: 2>\n",
      "athexapod: <State.ENABLED: 2>\n",
      "atdome: <State.ENABLED: 2>\n",
      "atdometrajectory: <State.ENABLED: 2>\n",
      "[Telescope] delta Alt = -000.145 | delta Az= -000.147 [Dome] delta Az = +002.985\n",
      "[Telescope] delta Alt = -000.129 | delta Az= -000.132 [Dome] delta Az = +002.985\n",
      "[Telescope] delta Alt = -000.129 | delta Az= -000.132 [Dome] delta Az = +002.985\n",
      "Got True\n",
      "Waiting for telescope to settle.\n",
      "[Telescope] delta Alt = -000.128 | delta Az= -000.131 [Dome] delta Az = +002.985\n",
      "[Telescope] delta Alt = -000.128 | delta Az= -000.131 [Dome] delta Az = +002.985\n",
      "Telescope in position.\n",
      "ATDome in position.\n",
      "['Telescope in position.', 'ATDome in position.']\n"
     ]
    }
   ],
   "source": [
    "await cwfs.attcs.slew_object(name=\"HD 27583\", rot_sky=-71.)"
   ]
  },
  {
   "cell_type": "code",
   "execution_count": 10,
   "metadata": {},
   "outputs": [
    {
     "name": "stdout",
     "output_type": "stream",
     "text": [
      "Generating group_id\n",
      "ENGTEST 0001 - 0001\n",
      "Waiting for header service LFO before continuing\n"
     ]
    },
    {
     "data": {
      "text/plain": [
       "array([2020021800040])"
      ]
     },
     "execution_count": 10,
     "metadata": {},
     "output_type": "execute_result"
    }
   ],
   "source": [
    "await cwfs.latiss.take_engtest(exptime=5., n=1, filter='KPNO_406_828nm', grating='empty_1')"
   ]
  },
  {
   "cell_type": "code",
   "execution_count": 11,
   "metadata": {},
   "outputs": [
    {
     "name": "stdout",
     "output_type": "stream",
     "text": [
      "Applying Az/El offset: 30.0/ 0.0 \n",
      "Waiting for telescope to settle.\n",
      "Done\n"
     ]
    }
   ],
   "source": [
    "await cwfs.attcs.offset_azel(az=30., el=0.)"
   ]
  },
  {
   "cell_type": "code",
   "execution_count": 12,
   "metadata": {},
   "outputs": [
    {
     "name": "stdout",
     "output_type": "stream",
     "text": [
      "Generating group_id\n",
      "ENGTEST 0001 - 0001\n",
      "Waiting for header service LFO before continuing\n"
     ]
    },
    {
     "data": {
      "text/plain": [
       "array([2020021800041])"
      ]
     },
     "execution_count": 12,
     "metadata": {},
     "output_type": "execute_result"
    }
   ],
   "source": [
    "await cwfs.latiss.take_engtest(exptime=5., n=1, filter='KPNO_406_828nm', grating='empty_1')"
   ]
  },
  {
   "cell_type": "code",
   "execution_count": 13,
   "metadata": {},
   "outputs": [
    {
     "name": "stdout",
     "output_type": "stream",
     "text": [
      "Applying Az/El offset: 0.0/ 30.0 \n",
      "Waiting for telescope to settle.\n",
      "Done\n"
     ]
    }
   ],
   "source": [
    "await cwfs.attcs.offset_azel(az=0., el=30.)"
   ]
  },
  {
   "cell_type": "code",
   "execution_count": 14,
   "metadata": {},
   "outputs": [
    {
     "name": "stdout",
     "output_type": "stream",
     "text": [
      "Generating group_id\n",
      "ENGTEST 0001 - 0001\n",
      "Waiting for header service LFO before continuing\n"
     ]
    },
    {
     "data": {
      "text/plain": [
       "array([2020021800042])"
      ]
     },
     "execution_count": 14,
     "metadata": {},
     "output_type": "execute_result"
    }
   ],
   "source": [
    "await cwfs.latiss.take_engtest(exptime=5., n=1, filter='KPNO_406_828nm', grating='empty_1')"
   ]
  },
  {
   "cell_type": "code",
   "execution_count": 15,
   "metadata": {},
   "outputs": [
    {
     "name": "stdout",
     "output_type": "stream",
     "text": [
      "Applying Az/El offset: 0.0/ 0.0 \n",
      "Waiting for telescope to settle.\n",
      "Done\n"
     ]
    }
   ],
   "source": [
    "await cwfs.attcs.offset_azel(az=0., el=0.)"
   ]
  },
  {
   "cell_type": "code",
   "execution_count": 53,
   "metadata": {},
   "outputs": [
    {
     "name": "stdout",
     "output_type": "stream",
     "text": [
      "Slewing to HD 27583: 04 20 27.7784 -21 13 04.721\n",
      "Sending command\n",
      "Stop tracking.\n",
      "Mount tracking state is 9\n",
      "Tracking state: 10.\n",
      "Tracking state: 8.\n",
      "In Position: True.\n",
      "In Position: False.\n",
      "Scheduling check coroutines\n",
      "process as completed...\n",
      "Got False\n",
      "Telescope not in position\n",
      "atmcs: <State.ENABLED: 2>\n",
      "atptg: <State.ENABLED: 2>\n",
      "ataos: <State.ENABLED: 2>\n",
      "atpneumatics: <State.ENABLED: 2>\n",
      "athexapod: <State.ENABLED: 2>\n",
      "atdome: <State.ENABLED: 2>\n",
      "atdometrajectory: <State.ENABLED: 2>\n",
      "[Telescope] delta Alt = -000.143 | delta Az= -000.102 [Dome] delta Az = -000.238\n",
      "[Telescope] delta Alt = -000.131 | delta Az= -000.092 [Dome] delta Az = -000.238\n",
      "[Telescope] delta Alt = -000.131 | delta Az= -000.092 [Dome] delta Az = -000.238\n",
      "Got True\n",
      "Waiting for telescope to settle.\n",
      "[Telescope] delta Alt = -000.131 | delta Az= -000.092 [Dome] delta Az = -000.238\n",
      "Telescope in position.\n",
      "ATDome in position.\n",
      "['Telescope in position.', 'ATDome in position.']\n"
     ]
    }
   ],
   "source": [
    "await cwfs.attcs.slew_object(name=\"HD 27583\", rot_sky=-91.)"
   ]
  },
  {
   "cell_type": "code",
   "execution_count": 54,
   "metadata": {},
   "outputs": [
    {
     "name": "stdout",
     "output_type": "stream",
     "text": [
      "Generating group_id\n",
      "ENGTEST 0001 - 0001\n",
      "Waiting for header service LFO before continuing\n"
     ]
    },
    {
     "data": {
      "text/plain": [
       "array([2020021800057])"
      ]
     },
     "execution_count": 54,
     "metadata": {},
     "output_type": "execute_result"
    }
   ],
   "source": [
    "await cwfs.latiss.take_engtest(exptime=5., n=1, filter='KPNO_406_828nm', grating='empty_1')"
   ]
  },
  {
   "cell_type": "code",
   "execution_count": 55,
   "metadata": {},
   "outputs": [
    {
     "name": "stdout",
     "output_type": "stream",
     "text": [
      "0.20586766675274504\n"
     ]
    }
   ],
   "source": [
    "azel = await cwfs.attcs.atmcs.tel_mount_AzEl_Encoders.aget()\n",
    "nasmyth = await cwfs.attcs.atmcs.tel_mount_Nasmyth_Encoders.aget()\n",
    "\n",
    "angle = np.mean(azel.elevationCalculatedAngle)-np.mean(nasmyth.nasmyth2CalculatedAngle)\n",
    "\n",
    "print(angle)"
   ]
  },
  {
   "cell_type": "code",
   "execution_count": 56,
   "metadata": {},
   "outputs": [
    {
     "data": {
      "text/plain": [
       "<lsst.ts.salobj.ddsutil.ATAOS_ackcmd_33d5c92b at 0x7f0dd06bcb00>"
      ]
     },
     "execution_count": 56,
     "metadata": {},
     "output_type": "execute_result"
    }
   ],
   "source": [
    "offset = {'m1': 0.0,\n",
    "          'm2': 0.0,\n",
    "          'x': 0.0,\n",
    "          'y': 0.2,\n",
    "          'z': 0.0,\n",
    "          'u': 0.0,\n",
    "          'v': 0.0\n",
    "          }\n",
    "\n",
    "await cwfs.attcs.ataos.cmd_offset.set_start(**offset)"
   ]
  },
  {
   "cell_type": "code",
   "execution_count": 57,
   "metadata": {},
   "outputs": [
    {
     "name": "stdout",
     "output_type": "stream",
     "text": [
      "Generating group_id\n",
      "ENGTEST 0001 - 0001\n",
      "Waiting for header service LFO before continuing\n"
     ]
    },
    {
     "data": {
      "text/plain": [
       "array([2020021800058])"
      ]
     },
     "execution_count": 57,
     "metadata": {},
     "output_type": "execute_result"
    }
   ],
   "source": [
    "await cwfs.latiss.take_engtest(exptime=5., n=1, filter='KPNO_406_828nm', grating='empty_1')"
   ]
  },
  {
   "cell_type": "code",
   "execution_count": 58,
   "metadata": {},
   "outputs": [
    {
     "name": "stdout",
     "output_type": "stream",
     "text": [
      "-0.0030924819399658077\n"
     ]
    }
   ],
   "source": [
    "azel = await cwfs.attcs.atmcs.tel_mount_AzEl_Encoders.aget()\n",
    "nasmyth = await cwfs.attcs.atmcs.tel_mount_Nasmyth_Encoders.aget()\n",
    "\n",
    "angle = np.mean(azel.elevationCalculatedAngle)-np.mean(nasmyth.nasmyth2CalculatedAngle)\n",
    "\n",
    "print(angle)"
   ]
  },
  {
   "cell_type": "code",
   "execution_count": 59,
   "metadata": {},
   "outputs": [
    {
     "data": {
      "text/plain": [
       "<lsst.ts.salobj.ddsutil.ATAOS_ackcmd_33d5c92b at 0x7f0ea0286cc0>"
      ]
     },
     "execution_count": 59,
     "metadata": {},
     "output_type": "execute_result"
    }
   ],
   "source": [
    "offset = {'m1': 0.0,\n",
    "          'm2': 0.0,\n",
    "          'x': +0.2,\n",
    "          'y': -0.2,\n",
    "          'z': 0.0,\n",
    "          'u': 0.0,\n",
    "          'v': 0.0\n",
    "          }\n",
    "\n",
    "await cwfs.attcs.ataos.cmd_offset.set_start(**offset)"
   ]
  },
  {
   "cell_type": "code",
   "execution_count": 60,
   "metadata": {},
   "outputs": [
    {
     "name": "stdout",
     "output_type": "stream",
     "text": [
      "Generating group_id\n",
      "ENGTEST 0001 - 0001\n",
      "Waiting for header service LFO before continuing\n"
     ]
    },
    {
     "data": {
      "text/plain": [
       "array([2020021800059])"
      ]
     },
     "execution_count": 60,
     "metadata": {},
     "output_type": "execute_result"
    }
   ],
   "source": [
    "await cwfs.latiss.take_engtest(exptime=5., n=1, filter='KPNO_406_828nm', grating='empty_1')"
   ]
  },
  {
   "cell_type": "code",
   "execution_count": 61,
   "metadata": {},
   "outputs": [
    {
     "name": "stdout",
     "output_type": "stream",
     "text": [
      "-0.2812875308086191\n"
     ]
    }
   ],
   "source": [
    "azel = await cwfs.attcs.atmcs.tel_mount_AzEl_Encoders.aget()\n",
    "nasmyth = await cwfs.attcs.atmcs.tel_mount_Nasmyth_Encoders.aget()\n",
    "\n",
    "angle = np.mean(azel.elevationCalculatedAngle)-np.mean(nasmyth.nasmyth2CalculatedAngle)\n",
    "\n",
    "print(angle)"
   ]
  },
  {
   "cell_type": "code",
   "execution_count": 62,
   "metadata": {},
   "outputs": [
    {
     "data": {
      "text/plain": [
       "<lsst.ts.salobj.ddsutil.ATAOS_ackcmd_33d5c92b at 0x7f0dae791fd0>"
      ]
     },
     "execution_count": 62,
     "metadata": {},
     "output_type": "execute_result"
    }
   ],
   "source": [
    "offset = {'m1': 0.0,\n",
    "          'm2': 0.0,\n",
    "          'x':  -0.2,\n",
    "          'y': 0.,\n",
    "          'z': 0.0,\n",
    "          'u': 0.0,\n",
    "          'v': 0.0\n",
    "          }\n",
    "\n",
    "await cwfs.attcs.ataos.cmd_offset.set_start(**offset)"
   ]
  },
  {
   "cell_type": "code",
   "execution_count": 44,
   "metadata": {},
   "outputs": [
    {
     "name": "stdout",
     "output_type": "stream",
     "text": [
      "Slewing to HD 27583: 04 20 27.7784 -21 13 04.721\n",
      "Sending command\n",
      "Stop tracking.\n",
      "Mount tracking state is 9\n",
      "Tracking state: 10.\n",
      "Tracking state: 8.\n",
      "In Position: True.\n",
      "In Position: False.\n",
      "Scheduling check coroutines\n",
      "process as completed...\n",
      "Got False\n",
      "Telescope not in position\n",
      "atmcs: <State.ENABLED: 2>\n",
      "atptg: <State.ENABLED: 2>\n",
      "ataos: <State.ENABLED: 2>\n",
      "atpneumatics: <State.ENABLED: 2>\n",
      "athexapod: <State.ENABLED: 2>\n",
      "atdome: <State.ENABLED: 2>\n",
      "atdometrajectory: <State.ENABLED: 2>\n",
      "[Telescope] delta Alt = -000.172 | delta Az= -000.107 [Dome] delta Az = -000.238\n",
      "[Telescope] delta Alt = -000.131 | delta Az= -000.096 [Dome] delta Az = -000.238\n",
      "[Telescope] delta Alt = -000.130 | delta Az= -000.096 [Dome] delta Az = -000.238\n",
      "Got True\n",
      "Waiting for telescope to settle.\n",
      "[Telescope] delta Alt = -000.131 | delta Az= -000.096 [Dome] delta Az = -000.238\n",
      "[Telescope] delta Alt = -000.131 | delta Az= -000.096 [Dome] delta Az = -000.238\n",
      "Telescope in position.\n",
      "ATDome in position.\n",
      "['Telescope in position.', 'ATDome in position.']\n"
     ]
    }
   ],
   "source": [
    "await cwfs.attcs.slew_object(name=\"HD 27583\", rot_sky=-85.-3)"
   ]
  },
  {
   "cell_type": "code",
   "execution_count": 45,
   "metadata": {},
   "outputs": [
    {
     "name": "stdout",
     "output_type": "stream",
     "text": [
      "Generating group_id\n",
      "ENGTEST 0001 - 0001\n",
      "Waiting for header service LFO before continuing\n"
     ]
    },
    {
     "data": {
      "text/plain": [
       "array([2020021800054])"
      ]
     },
     "execution_count": 45,
     "metadata": {},
     "output_type": "execute_result"
    }
   ],
   "source": [
    "await cwfs.latiss.take_engtest(exptime=5., n=1, filter='KPNO_406_828nm', grating='empty_1')\n"
   ]
  },
  {
   "cell_type": "code",
   "execution_count": null,
   "metadata": {},
   "outputs": [],
   "source": [
    "azel = await cwfs.attcs.atmcs.tel_mount_AzEl_Encoders.aget()\n",
    "nasmyth = await cwfs.attcs.atmcs.tel_mount_Nasmyth_Encoders.aget()\n",
    "\n",
    "angle = np.mean(azel.elevationCalculatedAngle)-np.mean(nasmyth.nasmyth2CalculatedAngle)\n",
    "\n",
    "print(angle)"
   ]
  },
  {
   "cell_type": "code",
   "execution_count": 46,
   "metadata": {},
   "outputs": [
    {
     "name": "stdout",
     "output_type": "stream",
     "text": [
      "Applying Az/El offset: 30.0/ 0.0 \n",
      "Waiting for telescope to settle.\n",
      "Done\n"
     ]
    },
    {
     "ename": "NameError",
     "evalue": "name 'self' is not defined",
     "output_type": "error",
     "traceback": [
      "\u001b[0;31m\u001b[0m",
      "\u001b[0;31mNameError\u001b[0mTraceback (most recent call last)",
      "\u001b[0;32m<ipython-input-46-57c4c4da9843>\u001b[0m in \u001b[0;36masync-def-wrapper\u001b[0;34m()\u001b[0m\n\u001b[1;32m      3\u001b[0m \u001b[0mnasmyth\u001b[0m \u001b[0;34m=\u001b[0m \u001b[0;32mawait\u001b[0m \u001b[0mself\u001b[0m\u001b[0;34m.\u001b[0m\u001b[0mattcs\u001b[0m\u001b[0;34m.\u001b[0m\u001b[0matmcs\u001b[0m\u001b[0;34m.\u001b[0m\u001b[0mtel_mount_Nasmyth_Encoders\u001b[0m\u001b[0;34m.\u001b[0m\u001b[0maget\u001b[0m\u001b[0;34m(\u001b[0m\u001b[0;34m)\u001b[0m\u001b[0;34m\u001b[0m\u001b[0;34m\u001b[0m\u001b[0m\n\u001b[1;32m      4\u001b[0m \u001b[0;34m\u001b[0m\u001b[0m\n\u001b[0;32m----> 5\u001b[0;31m \u001b[0mself\u001b[0m\u001b[0;34m.\u001b[0m\u001b[0mangle\u001b[0m \u001b[0;34m=\u001b[0m \u001b[0mnp\u001b[0m\u001b[0;34m.\u001b[0m\u001b[0mmean\u001b[0m\u001b[0;34m(\u001b[0m\u001b[0mazel\u001b[0m\u001b[0;34m.\u001b[0m\u001b[0melevationCalculatedAngle\u001b[0m\u001b[0;34m)\u001b[0m\u001b[0;34m+\u001b[0m\u001b[0mnp\u001b[0m\u001b[0;34m.\u001b[0m\u001b[0mmean\u001b[0m\u001b[0;34m(\u001b[0m\u001b[0mnasmyth\u001b[0m\u001b[0;34m.\u001b[0m\u001b[0mnasmyth2CalculatedAngle\u001b[0m\u001b[0;34m)\u001b[0m\u001b[0;34m\u001b[0m\u001b[0;34m\u001b[0m\u001b[0m\n\u001b[0m\u001b[1;32m      6\u001b[0m \u001b[0;34m\u001b[0m\u001b[0m\n",
      "\u001b[0;31mNameError\u001b[0m: name 'self' is not defined"
     ]
    }
   ],
   "source": [
    "await cwfs.attcs.offset_azel(az=30., el=0.)"
   ]
  },
  {
   "cell_type": "code",
   "execution_count": 47,
   "metadata": {},
   "outputs": [
    {
     "name": "stdout",
     "output_type": "stream",
     "text": [
      "Generating group_id\n",
      "ENGTEST 0001 - 0001\n",
      "Waiting for header service LFO before continuing\n"
     ]
    },
    {
     "data": {
      "text/plain": [
       "array([2020021800055])"
      ]
     },
     "execution_count": 47,
     "metadata": {},
     "output_type": "execute_result"
    }
   ],
   "source": [
    "await cwfs.latiss.take_engtest(exptime=5., n=1, filter='KPNO_406_828nm', grating='empty_1')"
   ]
  },
  {
   "cell_type": "code",
   "execution_count": null,
   "metadata": {},
   "outputs": [],
   "source": [
    "azel = await cwfs.attcs.atmcs.tel_mount_AzEl_Encoders.aget()\n",
    "nasmyth = await cwfs.attcs.atmcs.tel_mount_Nasmyth_Encoders.aget()\n",
    "\n",
    "angle = np.mean(azel.elevationCalculatedAngle)-np.mean(nasmyth.nasmyth2CalculatedAngle)\n",
    "\n",
    "print(angle)"
   ]
  },
  {
   "cell_type": "code",
   "execution_count": 48,
   "metadata": {},
   "outputs": [
    {
     "name": "stdout",
     "output_type": "stream",
     "text": [
      "Applying Az/El offset: 0.0/ 30.0 \n",
      "Waiting for telescope to settle.\n",
      "Done\n"
     ]
    }
   ],
   "source": [
    "await cwfs.attcs.offset_azel(az=0., el=30.)"
   ]
  },
  {
   "cell_type": "code",
   "execution_count": 49,
   "metadata": {},
   "outputs": [
    {
     "name": "stdout",
     "output_type": "stream",
     "text": [
      "Generating group_id\n",
      "ENGTEST 0001 - 0001\n",
      "Waiting for header service LFO before continuing\n",
      "RemoteEvent(ATHeaderService, 0, logMessage) falling behind; read 10 messages\n"
     ]
    },
    {
     "data": {
      "text/plain": [
       "array([2020021800056])"
      ]
     },
     "execution_count": 49,
     "metadata": {},
     "output_type": "execute_result"
    }
   ],
   "source": [
    "await cwfs.latiss.take_engtest(exptime=5., n=1, filter='KPNO_406_828nm', grating='empty_1')"
   ]
  },
  {
   "cell_type": "code",
   "execution_count": 51,
   "metadata": {},
   "outputs": [
    {
     "name": "stdout",
     "output_type": "stream",
     "text": [
      "-0.4298139296470609\n"
     ]
    }
   ],
   "source": [
    "azel = await cwfs.attcs.atmcs.tel_mount_AzEl_Encoders.aget()\n",
    "nasmyth = await cwfs.attcs.atmcs.tel_mount_Nasmyth_Encoders.aget()\n",
    "\n",
    "angle = np.mean(azel.elevationCalculatedAngle)-np.mean(nasmyth.nasmyth2CalculatedAngle)\n",
    "\n",
    "print(angle)"
   ]
  },
  {
   "cell_type": "code",
   "execution_count": null,
   "metadata": {},
   "outputs": [],
   "source": []
  },
  {
   "cell_type": "code",
   "execution_count": null,
   "metadata": {},
   "outputs": [],
   "source": []
  },
  {
   "cell_type": "code",
   "execution_count": null,
   "metadata": {},
   "outputs": [],
   "source": []
  },
  {
   "cell_type": "code",
   "execution_count": null,
   "metadata": {},
   "outputs": [],
   "source": [
    "fig1 = plt.figure(1, figsize=(12,8))\n",
    "\n",
    "ax = fig1.add_subplot(111)\n",
    "\n",
    "ax.imshow(cwfs.detection_exp.image.array)"
   ]
  },
  {
   "cell_type": "code",
   "execution_count": null,
   "metadata": {},
   "outputs": [],
   "source": [
    "import lsst.afw.display as afwDisplay\n",
    "afwDisplay.setDefaultBackend(\"matplotlib\")\n",
    "\n",
    "%matplotlib widget\n",
    "\n",
    "plt.rcParams['figure.figsize'] = [7, 6]\n",
    "\n",
    "disp = afwDisplay.Display(1, reopenPlot=True)\n",
    "\n",
    "disp.scale(\"asinh\", \"zscale\")\n",
    "disp.mtv(cwfs.detection_exp)"
   ]
  },
  {
   "cell_type": "code",
   "execution_count": null,
   "metadata": {},
   "outputs": [],
   "source": [
    "await cwfs.latiss.atheaderservice.cmd_disable.start()"
   ]
  },
  {
   "cell_type": "code",
   "execution_count": null,
   "metadata": {},
   "outputs": [],
   "source": [
    "await cwfs.latiss.atheaderservice.cmd_standby.start()"
   ]
  },
  {
   "cell_type": "code",
   "execution_count": null,
   "metadata": {},
   "outputs": [],
   "source": [
    "await cwfs.latiss.atheaderservice.cmd_exitControl.start()"
   ]
  },
  {
   "cell_type": "code",
   "execution_count": null,
   "metadata": {},
   "outputs": [],
   "source": [
    "await cwfs.attcs.atmcs.cmd_startTracking.start()"
   ]
  },
  {
   "cell_type": "code",
   "execution_count": null,
   "metadata": {},
   "outputs": [],
   "source": [
    "await cwfs.latiss.enable()"
   ]
  },
  {
   "cell_type": "code",
   "execution_count": null,
   "metadata": {},
   "outputs": [],
   "source": [
    "await cwfs.latiss.take_darks?"
   ]
  },
  {
   "cell_type": "code",
   "execution_count": null,
   "metadata": {},
   "outputs": [],
   "source": [
    "await cwfs.latiss.take_darks(exptime=200, ndarks=3)"
   ]
  },
  {
   "cell_type": "code",
   "execution_count": null,
   "metadata": {},
   "outputs": [],
   "source": [
    "await cwfs.latiss.take_bias(nbias=10)"
   ]
  },
  {
   "cell_type": "code",
   "execution_count": null,
   "metadata": {},
   "outputs": [],
   "source": [
    "from lsst.rapid.analysis.bestEffort import BestEffortIsr\n",
    "REPODIR = '/mnt/dmcs/oods_butler_repo/repo'\n",
    "bestEffort = BestEffortIsr(REPODIR)\n",
    "dataId = {'dayObs': '2020-02-17', 'seqNum': 244}\n",
    "exp = bestEffort.getExposure(dataId)"
   ]
  },
  {
   "cell_type": "code",
   "execution_count": null,
   "metadata": {},
   "outputs": [],
   "source": [
    "print('test')"
   ]
  },
  {
   "cell_type": "code",
   "execution_count": 1,
   "metadata": {},
   "outputs": [
    {
     "ename": "NameError",
     "evalue": "name 'cwfs' is not defined",
     "output_type": "error",
     "traceback": [
      "\u001b[0;31m\u001b[0m",
      "\u001b[0;31mNameError\u001b[0mTraceback (most recent call last)",
      "\u001b[0;32m<ipython-input-1-812a98c9369a>\u001b[0m in \u001b[0;36masync-def-wrapper\u001b[0;34m()\u001b[0m\n",
      "\u001b[0;31mNameError\u001b[0m: name 'cwfs' is not defined"
     ]
    }
   ],
   "source": [
    "await cwfs.attcs.atmcs.cmd_startTraking.start()"
   ]
  },
  {
   "cell_type": "code",
   "execution_count": null,
   "metadata": {},
   "outputs": [],
   "source": []
  }
 ],
 "metadata": {
  "kernelspec": {
   "display_name": "Local setup",
   "language": "python",
   "name": "new_kernel"
  },
  "language_info": {
   "codemirror_mode": {
    "name": "ipython",
    "version": 3
   },
   "file_extension": ".py",
   "mimetype": "text/x-python",
   "name": "python",
   "nbconvert_exporter": "python",
   "pygments_lexer": "ipython3",
   "version": "3.7.2"
  }
 },
 "nbformat": 4,
 "nbformat_minor": 4
}
