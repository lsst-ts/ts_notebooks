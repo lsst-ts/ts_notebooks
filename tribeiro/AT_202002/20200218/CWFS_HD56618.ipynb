{
 "cells": [
  {
   "cell_type": "code",
   "execution_count": 1,
   "metadata": {},
   "outputs": [],
   "source": [
    "import sys\n",
    "import asyncio\n",
    "import logging\n",
    "\n",
    "import numpy as np\n",
    "\n",
    "from lsst.ts import salobj\n",
    "\n",
    "import matplotlib.pyplot as plt\n",
    "\n",
    "from lsst.ts.externalscripts.auxtel.latiss_cwfs_align import LatissCWFSAlign"
   ]
  },
  {
   "cell_type": "code",
   "execution_count": 2,
   "metadata": {},
   "outputs": [],
   "source": [
    "stream_handler = logging.StreamHandler(sys.stdout)\n",
    "\n",
    "logger = logging.getLogger()\n",
    "logger.addHandler(stream_handler)\n",
    "logger.level = logging.DEBUG"
   ]
  },
  {
   "cell_type": "code",
   "execution_count": 3,
   "metadata": {},
   "outputs": [],
   "source": [
    "cwfs = LatissCWFSAlign(index=1)"
   ]
  },
  {
   "cell_type": "code",
   "execution_count": 4,
   "metadata": {},
   "outputs": [
    {
     "name": "stdout",
     "output_type": "stream",
     "text": [
      "Read historical data in 0.01 sec\n",
      "Read historical data in 0.27 sec\n",
      "Read historical data in 1.10 sec\n",
      "Read historical data in 1.25 sec\n",
      "Read historical data in 1.34 sec\n",
      "Read historical data in 1.34 sec\n",
      "Read historical data in 1.88 sec\n",
      "Read historical data in 2.40 sec\n",
      "Read historical data in 3.19 sec\n",
      "Read historical data in 4.33 sec\n",
      "Read historical data in 5.73 sec\n",
      "Read historical data in 0.03 sec\n",
      "RemoteTelemetry(ATDome, 0, position) falling behind; read 17 messages\n"
     ]
    }
   ],
   "source": [
    "await cwfs.start_task"
   ]
  },
  {
   "cell_type": "code",
   "execution_count": 20,
   "metadata": {},
   "outputs": [
    {
     "data": {
      "text/plain": [
       "[<State.STANDBY: 5>, <State.DISABLED: 1>, <State.ENABLED: 2>]"
      ]
     },
     "execution_count": 20,
     "metadata": {},
     "output_type": "execute_result"
    }
   ],
   "source": [
    "await salobj.set_summary_state(cwfs.latiss.atspectrograph, salobj.State.ENABLED, settingsToApply=\"current\")"
   ]
  },
  {
   "cell_type": "code",
   "execution_count": 8,
   "metadata": {},
   "outputs": [
    {
     "name": "stdout",
     "output_type": "stream",
     "text": [
      "Stop tracking.\n",
      "Mount tracking state is 9\n",
      "Tracking state: 10.\n",
      "Tracking state: 8.\n",
      "In Position: True.\n",
      "In Position: False.\n"
     ]
    }
   ],
   "source": [
    "await cwfs.attcs.stop_tracking()"
   ]
  },
  {
   "cell_type": "code",
   "execution_count": 9,
   "metadata": {},
   "outputs": [
    {
     "data": {
      "text/plain": [
       "<lsst.ts.salobj.ddsutil.ATPtg_ackcmd_2d655b72 at 0x7fa49f32def0>"
      ]
     },
     "execution_count": 9,
     "metadata": {},
     "output_type": "execute_result"
    }
   ],
   "source": [
    "await cwfs.attcs.atptg.cmd_focusName.set_start(focus=3)"
   ]
  },
  {
   "cell_type": "code",
   "execution_count": 10,
   "metadata": {},
   "outputs": [
    {
     "name": "stdout",
     "output_type": "stream",
     "text": [
      "Slewing to HD 56618: 07 16 34.9931 -27 52 52.245\n",
      "Sending command\n",
      "Stop tracking.\n",
      "Mount tracking state is 8\n",
      "In Position: False.\n",
      "Scheduling check coroutines\n",
      "process as completed...\n",
      "Got False\n",
      "Telescope not in position\n",
      "atmcs: <State.ENABLED: 2>\n",
      "atptg: <State.ENABLED: 2>\n",
      "ataos: <State.ENABLED: 2>\n",
      "atpneumatics: <State.ENABLED: 2>\n",
      "athexapod: <State.ENABLED: 2>\n",
      "atdome: <State.ENABLED: 2>\n",
      "atdometrajectory: <State.ENABLED: 2>\n",
      "[Telescope] delta Alt = +000.305 | delta Az= -000.160 [Dome] delta Az = -002.950\n",
      "[Telescope] delta Alt = +000.132 | delta Az= -000.113 [Dome] delta Az = -002.950\n",
      "[Telescope] delta Alt = +000.132 | delta Az= -000.073 [Dome] delta Az = -002.950\n",
      "[Telescope] delta Alt = +000.131 | delta Az= -000.072 [Dome] delta Az = -002.950\n",
      "[Telescope] delta Alt = +000.131 | delta Az= -000.072 [Dome] delta Az = -002.950\n",
      "[Telescope] delta Alt = +000.131 | delta Az= -000.072 [Dome] delta Az = -002.950\n",
      "[Telescope] delta Alt = +000.131 | delta Az= -000.072 [Dome] delta Az = -002.950\n",
      "Got True\n",
      "Waiting for telescope to settle.\n",
      "[Telescope] delta Alt = +000.131 | delta Az= -000.072 [Dome] delta Az = -002.950\n",
      "[Telescope] delta Alt = +000.132 | delta Az= -000.072 [Dome] delta Az = -002.950\n",
      "Telescope in position.\n",
      "ATDome in position.\n",
      "['Telescope in position.', 'ATDome in position.']\n"
     ]
    }
   ],
   "source": [
    "await cwfs.attcs.slew_object(name=\"HD 56618\", rot_sky=0.)"
   ]
  },
  {
   "cell_type": "code",
   "execution_count": 21,
   "metadata": {},
   "outputs": [
    {
     "name": "stdout",
     "output_type": "stream",
     "text": [
      "Generating group_id\n",
      "ENGTEST 0001 - 0001\n",
      "Waiting for header service LFO before continuing\n"
     ]
    },
    {
     "data": {
      "text/plain": [
       "array([2020021800027])"
      ]
     },
     "execution_count": 21,
     "metadata": {},
     "output_type": "execute_result"
    }
   ],
   "source": [
    "await cwfs.latiss.take_engtest(exptime=5., n=1, filter='KPNO_406_828nm', grating='empty_1')"
   ]
  },
  {
   "cell_type": "code",
   "execution_count": 15,
   "metadata": {},
   "outputs": [
    {
     "data": {
      "text/plain": [
       "<lsst.ts.salobj.ddsutil.ATArchiver_logevent_heartbeat_127dd45e at 0x7fa55d8403c8>"
      ]
     },
     "execution_count": 15,
     "metadata": {},
     "output_type": "execute_result"
    }
   ],
   "source": [
    "await cwfs.latiss.atarchiver.evt_heartbeat.next(flush=True)"
   ]
  },
  {
   "cell_type": "code",
   "execution_count": null,
   "metadata": {},
   "outputs": [],
   "source": [
    "await cwfs.latiss.take_object(exptime=5., n=1)"
   ]
  },
  {
   "cell_type": "code",
   "execution_count": null,
   "metadata": {},
   "outputs": [],
   "source": [
    "await asyncio.gather(cwfs.latiss.take_engtest(exptime=30., n=1),\n",
    "                     cwfs.attcs.slew_object(name=\"HD 83832\", rot_sky=-90.),\n",
    "                     return_exceptions=True)"
   ]
  },
  {
   "cell_type": "code",
   "execution_count": null,
   "metadata": {},
   "outputs": [],
   "source": [
    "await asyncio.gather(cwfs.latiss.take_engtest(exptime=3., n=5),\n",
    "                     cwfs.attcs.slew_object(name=\"HD 83832\", rot_sky=0.),\n",
    "                     return_exceptions=True)"
   ]
  },
  {
   "cell_type": "code",
   "execution_count": null,
   "metadata": {},
   "outputs": [],
   "source": [
    "await cwfs.latiss.take_object(exptime=5., n=1)"
   ]
  },
  {
   "cell_type": "code",
   "execution_count": null,
   "metadata": {},
   "outputs": [],
   "source": [
    "await cwfs.attcs.offset_xy(x=-30., y=0.)"
   ]
  },
  {
   "cell_type": "code",
   "execution_count": null,
   "metadata": {},
   "outputs": [],
   "source": [
    "await cwfs.latiss.take_object(exptime=5.,n=1)"
   ]
  },
  {
   "cell_type": "code",
   "execution_count": 23,
   "metadata": {},
   "outputs": [
    {
     "data": {
      "text/plain": [
       "30.0"
      ]
     },
     "execution_count": 23,
     "metadata": {},
     "output_type": "execute_result"
    }
   ],
   "source": [
    "cwfs.exposure_time"
   ]
  },
  {
   "cell_type": "code",
   "execution_count": null,
   "metadata": {},
   "outputs": [],
   "source": [
    "await cwfs.hexapod_offset(offset=1.5)"
   ]
  },
  {
   "cell_type": "code",
   "execution_count": 5,
   "metadata": {},
   "outputs": [],
   "source": [
    "cwfs.intra_visit_id = 2020021700284\n",
    "cwfs.extra_visit_id = 2020021700285"
   ]
  },
  {
   "cell_type": "code",
   "execution_count": 12,
   "metadata": {},
   "outputs": [],
   "source": [
    "cwfs.angle = -cwfs.camera_rotation_angle"
   ]
  },
  {
   "cell_type": "code",
   "execution_count": 22,
   "metadata": {},
   "outputs": [
    {
     "name": "stdout",
     "output_type": "stream",
     "text": [
      "Intra/Extra images not taken. Running take image sequence.\n",
      "ENGTEST 0001 - 0001\n",
      "Waiting for header service LFO before continuing\n",
      "ENGTEST 0001 - 0001\n",
      "Waiting for header service LFO before continuing\n",
      "intraImage expId for target: 2020021800028\n",
      "extraImage expId for target: 2020021800029\n"
     ]
    },
    {
     "name": "stderr",
     "output_type": "stream",
     "text": [
      "/home/saluser/repos/ts_externalscripts/python/lsst/ts/externalscripts/auxtel/latiss_cwfs_align.py:306: FutureWarning: Config field doAddDistortionModel is deprecated: Camera geometry is incorporated when reading the raw files. This option no longer is used, and will be removed after v19.\n",
      "  isrConfig.doAddDistortionModel = False\n"
     ]
    },
    {
     "name": "stdout",
     "output_type": "stream",
     "text": [
      "Could not get intra focus image from butler. Waiting 5.0s and trying again.\n",
      "RemoteEvent(ATMCS, 0, target) falling behind; read 11 messages\n",
      "RemoteEvent(ATDomeTrajectory, 0, logMessage) falling behind; read 12 messages\n"
     ]
    },
    {
     "ename": "UnboundLocalError",
     "evalue": "local variable 'data_ref' referenced before assignment",
     "output_type": "error",
     "traceback": [
      "\u001b[0;31m\u001b[0m",
      "\u001b[0;31mUnboundLocalError\u001b[0mTraceback (most recent call last)",
      "\u001b[0;32m<ipython-input-22-b514a8737d6b>\u001b[0m in \u001b[0;36masync-def-wrapper\u001b[0;34m()\u001b[0m\n",
      "\u001b[0;32m~/repos/ts_externalscripts/python/lsst/ts/externalscripts/auxtel/latiss_cwfs_align.py\u001b[0m in \u001b[0;36mrun_cwfs\u001b[0;34m(self)\u001b[0m\n\u001b[1;32m    323\u001b[0m             \u001b[0;32melse\u001b[0m\u001b[0;34m:\u001b[0m\u001b[0;34m\u001b[0m\u001b[0;34m\u001b[0m\u001b[0m\n\u001b[1;32m    324\u001b[0m                 \u001b[0mgot_intra\u001b[0m \u001b[0;34m=\u001b[0m \u001b[0;32mTrue\u001b[0m\u001b[0;34m\u001b[0m\u001b[0;34m\u001b[0m\u001b[0m\n\u001b[0;32m--> 325\u001b[0;31m             \u001b[0mself\u001b[0m\u001b[0;34m.\u001b[0m\u001b[0mintra_exposure\u001b[0m \u001b[0;34m=\u001b[0m \u001b[0misrTask\u001b[0m\u001b[0;34m.\u001b[0m\u001b[0mrunDataRef\u001b[0m\u001b[0;34m(\u001b[0m\u001b[0mdata_ref\u001b[0m\u001b[0;34m)\u001b[0m\u001b[0;34m.\u001b[0m\u001b[0mexposure\u001b[0m\u001b[0;34m\u001b[0m\u001b[0;34m\u001b[0m\u001b[0m\n\u001b[0m\u001b[1;32m    326\u001b[0m             \u001b[0mself\u001b[0m\u001b[0;34m.\u001b[0m\u001b[0mdetection_exp\u001b[0m \u001b[0;34m=\u001b[0m \u001b[0misrTask\u001b[0m\u001b[0;34m.\u001b[0m\u001b[0mrunDataRef\u001b[0m\u001b[0;34m(\u001b[0m\u001b[0mdata_ref\u001b[0m\u001b[0;34m)\u001b[0m\u001b[0;34m.\u001b[0m\u001b[0mexposure\u001b[0m\u001b[0;34m\u001b[0m\u001b[0;34m\u001b[0m\u001b[0m\n\u001b[1;32m    327\u001b[0m \u001b[0;34m\u001b[0m\u001b[0m\n",
      "\u001b[0;31mUnboundLocalError\u001b[0m: local variable 'data_ref' referenced before assignment"
     ]
    }
   ],
   "source": [
    "await cwfs.run_cwfs()"
   ]
  },
  {
   "cell_type": "code",
   "execution_count": 13,
   "metadata": {},
   "outputs": [
    {
     "name": "stdout",
     "output_type": "stream",
     "text": [
      "==============================\n",
      "Measured zernike coeficients: [-35.67100101635535, 11.732558498870029, -446.8696685742186]\n",
      "De-rotated zernike coeficients: [ -35.67100102   11.7325585  -446.86966857]\n",
      "Hexapod offset: [0.27229772 0.08956152 0.10639754]\n",
      "Telescope offsets: [16.33786306  5.37369092  0.        ]\n",
      "==============================\n",
      "\n"
     ]
    }
   ],
   "source": [
    "cwfs.show_results()"
   ]
  },
  {
   "cell_type": "code",
   "execution_count": 10,
   "metadata": {},
   "outputs": [
    {
     "data": {
      "text/plain": [
       "<matplotlib.contour.QuadContourSet at 0x7efc88095710>"
      ]
     },
     "execution_count": 10,
     "metadata": {},
     "output_type": "execute_result"
    }
   ],
   "source": [
    "fig1 = plt.figure(1, figsize=(12,8))\n",
    "\n",
    "ax11 = fig1.add_subplot(121)\n",
    "\n",
    "ax11.set_title(\"defocus 0.8 - intra\")\n",
    "ax11.imshow(cwfs.I1[0].image0)\n",
    "ax11.contour(cwfs.algo.pMask) \n",
    "\n",
    "ax12 = fig1.add_subplot(122)\n",
    "\n",
    "ax12.set_title(\"defocus 0.8 - extra\")\n",
    "ax12.imshow(cwfs.I2[0].image0)\n",
    "ax12.contour(cwfs.algo.pMask) "
   ]
  },
  {
   "cell_type": "code",
   "execution_count": null,
   "metadata": {},
   "outputs": [],
   "source": [
    "fig1 = plt.figure(1, figsize=(12,8))\n",
    "\n",
    "ax = fig1.add_subplot(111)\n",
    "\n",
    "ax.imshow(cwfs.detection_exp.image.array)"
   ]
  },
  {
   "cell_type": "code",
   "execution_count": 21,
   "metadata": {},
   "outputs": [
    {
     "name": "stdout",
     "output_type": "stream",
     "text": [
      "Loaded backend module://ipympl.backend_nbagg version unknown.\n"
     ]
    },
    {
     "data": {
      "application/vnd.jupyter.widget-view+json": {
       "model_id": "eefc23ef2abd40528763a7445419ffed",
       "version_major": 2,
       "version_minor": 0
      },
      "text/plain": [
       "Canvas(toolbar=Toolbar(toolitems=[('Home', 'Reset original view', 'home', 'home'), ('Back', 'Back to previous …"
      ]
     },
     "metadata": {},
     "output_type": "display_data"
    },
    {
     "name": "stdout",
     "output_type": "stream",
     "text": [
      "locator: <matplotlib.colorbar._ColorbarAutoLocator object at 0x7efb881a4240>\n",
      "Using fixed locator on colorbar\n",
      "Setting pcolormesh\n"
     ]
    }
   ],
   "source": [
    "import lsst.afw.display as afwDisplay\n",
    "afwDisplay.setDefaultBackend(\"matplotlib\")\n",
    "\n",
    "%matplotlib widget\n",
    "\n",
    "plt.rcParams['figure.figsize'] = [7, 6]\n",
    "\n",
    "disp = afwDisplay.Display(1, reopenPlot=True)\n",
    "\n",
    "disp.scale(\"asinh\", \"zscale\")\n",
    "disp.mtv(cwfs.detection_exp)"
   ]
  },
  {
   "cell_type": "code",
   "execution_count": 14,
   "metadata": {},
   "outputs": [
    {
     "data": {
      "text/plain": [
       "<lsst.ts.salobj.ddsutil.ATHeaderService_ackcmd_12f56c5d at 0x7efb8b904da0>"
      ]
     },
     "execution_count": 14,
     "metadata": {},
     "output_type": "execute_result"
    }
   ],
   "source": [
    "await cwfs.latiss.atheaderservice.cmd_disable.start()"
   ]
  },
  {
   "cell_type": "code",
   "execution_count": 15,
   "metadata": {},
   "outputs": [
    {
     "data": {
      "text/plain": [
       "<lsst.ts.salobj.ddsutil.ATHeaderService_ackcmd_12f56c5d at 0x7efb8bd31080>"
      ]
     },
     "execution_count": 15,
     "metadata": {},
     "output_type": "execute_result"
    }
   ],
   "source": [
    "await cwfs.latiss.atheaderservice.cmd_standby.start()"
   ]
  },
  {
   "cell_type": "code",
   "execution_count": 16,
   "metadata": {},
   "outputs": [
    {
     "data": {
      "text/plain": [
       "<lsst.ts.salobj.ddsutil.ATHeaderService_ackcmd_12f56c5d at 0x7efb901e8630>"
      ]
     },
     "execution_count": 16,
     "metadata": {},
     "output_type": "execute_result"
    }
   ],
   "source": [
    "await cwfs.latiss.atheaderservice.cmd_exitControl.start()"
   ]
  },
  {
   "cell_type": "code",
   "execution_count": null,
   "metadata": {},
   "outputs": [],
   "source": [
    "await cwfs.attcs.atmcs.cmd_startTracking.start()"
   ]
  },
  {
   "cell_type": "code",
   "execution_count": 17,
   "metadata": {},
   "outputs": [
    {
     "name": "stdout",
     "output_type": "stream",
     "text": [
      "Gathering settings.\n",
      "No settings for atcamera.\n",
      "Using  from settingVersions event.\n",
      "No settings for atspectrograph.\n",
      "Using current from settingVersions event.\n",
      "No settings for atheaderservice.\n",
      "Couldn't get settingVersions event. Using empty settings.\n",
      "No settings for atarchiver.\n",
      "Using normal from settingVersions event.\n",
      "Settings versions: {'atcamera': '', 'atspectrograph': 'current', 'atheaderservice': '', 'atarchiver': 'normal'}\n",
      "Enabling all components\n",
      "Enabling  atcamera\n",
      "Enabling  atspectrograph\n",
      "Enabling  atheaderservice\n",
      "Enabling  atarchiver\n",
      "[atcamera]::[<State.ENABLED: 2>]\n",
      "[atspectrograph]::[<State.STANDBY: 5>, <State.DISABLED: 1>, <State.ENABLED: 2>]\n",
      "[atheaderservice]::[<State.STANDBY: 5>, <State.DISABLED: 1>, <State.ENABLED: 2>]\n",
      "[atarchiver]::[<State.ENABLED: 2>]\n",
      "All components enabled.\n"
     ]
    }
   ],
   "source": [
    "await cwfs.latiss.enable()"
   ]
  },
  {
   "cell_type": "code",
   "execution_count": 18,
   "metadata": {},
   "outputs": [
    {
     "data": {
      "text/plain": [
       "\u001b[0;31mSignature:\u001b[0m \u001b[0mcwfs\u001b[0m\u001b[0;34m.\u001b[0m\u001b[0mlatiss\u001b[0m\u001b[0;34m.\u001b[0m\u001b[0mtake_darks\u001b[0m\u001b[0;34m(\u001b[0m\u001b[0mexptime\u001b[0m\u001b[0;34m,\u001b[0m \u001b[0mndarks\u001b[0m\u001b[0;34m,\u001b[0m \u001b[0mgroup_id\u001b[0m\u001b[0;34m=\u001b[0m\u001b[0;32mNone\u001b[0m\u001b[0;34m,\u001b[0m \u001b[0mcheckpoint\u001b[0m\u001b[0;34m=\u001b[0m\u001b[0;32mNone\u001b[0m\u001b[0;34m)\u001b[0m\u001b[0;34m\u001b[0m\u001b[0;34m\u001b[0m\u001b[0m\n",
       "\u001b[0;31mDocstring:\u001b[0m\n",
       "Take a series of dark images.\n",
       "\n",
       "Parameters\n",
       "----------\n",
       "exptime : `float`\n",
       "    Exposure time for darks.\n",
       "ndarks : `int`\n",
       "    Number of dark frames to take.\n",
       "group_id : `str`\n",
       "    Optional group id for the data sequence. Will generate a common\n",
       "    one for all the data if none is given.\n",
       "checkpoint : `coro`\n",
       "    A optional awaitable callback that accepts one string argument\n",
       "    that is called before each bias is taken.\n",
       "\u001b[0;31mFile:\u001b[0m      ~/repos/ts_standardscripts/python/lsst/ts/standardscripts/auxtel/latiss.py\n",
       "\u001b[0;31mType:\u001b[0m      method\n"
      ]
     },
     "metadata": {},
     "output_type": "display_data"
    }
   ],
   "source": [
    "await cwfs.latiss.take_darks?"
   ]
  },
  {
   "cell_type": "code",
   "execution_count": 19,
   "metadata": {},
   "outputs": [
    {
     "name": "stdout",
     "output_type": "stream",
     "text": [
      "Generating group_id\n",
      "DARK 0001 - 0003\n",
      "Waiting for header service LFO before continuing\n",
      "DARK 0002 - 0003\n",
      "Waiting for header service LFO before continuing\n",
      "DARK 0003 - 0003\n",
      "Waiting for header service LFO before continuing\n"
     ]
    },
    {
     "data": {
      "text/plain": [
       "array([2020021800001, 2020021800002, 2020021800003])"
      ]
     },
     "execution_count": 19,
     "metadata": {},
     "output_type": "execute_result"
    }
   ],
   "source": [
    "await cwfs.latiss.take_darks(exptime=200, ndarks=3)"
   ]
  },
  {
   "cell_type": "code",
   "execution_count": 20,
   "metadata": {},
   "outputs": [
    {
     "name": "stdout",
     "output_type": "stream",
     "text": [
      "Generating group_id\n",
      "BIAS 0001 - 0010\n",
      "Waiting for header service LFO before continuing\n",
      "BIAS 0002 - 0010\n",
      "Waiting for header service LFO before continuing\n",
      "BIAS 0003 - 0010\n",
      "Waiting for header service LFO before continuing\n",
      "BIAS 0004 - 0010\n",
      "Waiting for header service LFO before continuing\n",
      "BIAS 0005 - 0010\n",
      "Waiting for header service LFO before continuing\n",
      "RemoteEvent(ATHeaderService, 0, logMessage) falling behind; read 23 messages\n",
      "BIAS 0006 - 0010\n",
      "Waiting for header service LFO before continuing\n",
      "BIAS 0007 - 0010\n",
      "Waiting for header service LFO before continuing\n",
      "RemoteEvent(ATHeaderService, 0, logMessage) falling behind; read 30 messages\n",
      "BIAS 0008 - 0010\n",
      "Waiting for header service LFO before continuing\n",
      "BIAS 0009 - 0010\n",
      "Waiting for header service LFO before continuing\n",
      "BIAS 0010 - 0010\n",
      "Waiting for header service LFO before continuing\n"
     ]
    },
    {
     "data": {
      "text/plain": [
       "array([2020021800004, 2020021800005, 2020021800006, 2020021800007,\n",
       "       2020021800008, 2020021800009, 2020021800010, 2020021800011,\n",
       "       2020021800012, 2020021800013])"
      ]
     },
     "execution_count": 20,
     "metadata": {},
     "output_type": "execute_result"
    },
    {
     "name": "stdout",
     "output_type": "stream",
     "text": [
      "RemoteEvent(ATHeaderService, 0, logMessage) falling behind; read 31 messages\n",
      "RemoteEvent(ATHeaderService, 0, logMessage) falling behind; read 10 messages\n"
     ]
    }
   ],
   "source": [
    "await cwfs.latiss.take_bias(nbias=10)"
   ]
  },
  {
   "cell_type": "code",
   "execution_count": null,
   "metadata": {},
   "outputs": [],
   "source": [
    "from lsst.rapid.analysis.bestEffort import BestEffortIsr\n",
    "REPODIR = '/mnt/dmcs/oods_butler_repo/repo'\n",
    "bestEffort = BestEffortIsr(REPODIR)\n",
    "dataId = {'dayObs': '2020-02-17', 'seqNum': 244}\n",
    "exp = bestEffort.getExposure(dataId)"
   ]
  },
  {
   "cell_type": "code",
   "execution_count": 1,
   "metadata": {},
   "outputs": [
    {
     "name": "stdout",
     "output_type": "stream",
     "text": [
      "test\n"
     ]
    }
   ],
   "source": [
    "print('test')"
   ]
  },
  {
   "cell_type": "code",
   "execution_count": null,
   "metadata": {},
   "outputs": [],
   "source": []
  }
 ],
 "metadata": {
  "kernelspec": {
   "display_name": "Local setup",
   "language": "python",
   "name": "new_kernel"
  },
  "language_info": {
   "codemirror_mode": {
    "name": "ipython",
    "version": 3
   },
   "file_extension": ".py",
   "mimetype": "text/x-python",
   "name": "python",
   "nbconvert_exporter": "python",
   "pygments_lexer": "ipython3",
   "version": "3.7.2"
  }
 },
 "nbformat": 4,
 "nbformat_minor": 4
}
