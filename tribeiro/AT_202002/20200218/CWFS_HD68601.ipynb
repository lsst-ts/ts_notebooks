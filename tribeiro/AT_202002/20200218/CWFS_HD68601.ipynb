{
 "cells": [
  {
   "cell_type": "code",
   "execution_count": 1,
   "metadata": {},
   "outputs": [],
   "source": [
    "import sys\n",
    "import asyncio\n",
    "import logging\n",
    "\n",
    "import numpy as np\n",
    "\n",
    "from lsst.ts import salobj\n",
    "\n",
    "import matplotlib.pyplot as plt\n",
    "\n",
    "from lsst.ts.externalscripts.auxtel.latiss_cwfs_align import LatissCWFSAlign"
   ]
  },
  {
   "cell_type": "code",
   "execution_count": 2,
   "metadata": {},
   "outputs": [],
   "source": [
    "stream_handler = logging.StreamHandler(sys.stdout)\n",
    "\n",
    "logger = logging.getLogger()\n",
    "logger.addHandler(stream_handler)\n",
    "logger.level = logging.DEBUG"
   ]
  },
  {
   "cell_type": "code",
   "execution_count": 3,
   "metadata": {},
   "outputs": [],
   "source": [
    "cwfs = LatissCWFSAlign(index=1)"
   ]
  },
  {
   "cell_type": "code",
   "execution_count": 4,
   "metadata": {},
   "outputs": [
    {
     "name": "stdout",
     "output_type": "stream",
     "text": [
      "Read historical data in 0.02 sec\n",
      "Read historical data in 0.29 sec\n",
      "Read historical data in 1.14 sec\n",
      "Read historical data in 1.43 sec\n",
      "Read historical data in 2.15 sec\n",
      "Read historical data in 3.15 sec\n",
      "Read historical data in 3.46 sec\n",
      "Read historical data in 4.20 sec\n",
      "Read historical data in 4.76 sec\n",
      "Read historical data in 5.63 sec\n",
      "Read historical data in 7.96 sec\n",
      "RemoteEvent(ATDomeTrajectory, 0, logMessage) falling behind; read 100 messages\n",
      "RemoteTelemetry(ATDome, 0, position) falling behind; read 32 messages\n",
      "RemoteEvent(ATDomeTrajectory, 0, heartbeat) falling behind; read 10 messages\n",
      "RemoteEvent(ATAOS, 0, detailedState) falling behind; read 10 messages\n",
      "RemoteTelemetry(ATPtg, 0, timeAndDate) falling behind; read 20 messages\n",
      "Read historical data in 0.13 sec\n",
      "RemoteTelemetry(ATPtg, 0, mountStatus) falling behind; read 21 messages\n",
      "RemoteTelemetry(ATPtg, 0, guidingAndOffsets) falling behind; read 22 messages\n",
      "RemoteTelemetry(ATPtg, 0, currentTargetStatus) falling behind; read 24 messages\n",
      "RemoteEvent(ATMCS, 0, target) falling behind; read 71 messages\n",
      "RemoteEvent(ATHeaderService, 0, logMessage) falling behind; read 10 messages\n",
      "RemoteEvent(ATHeaderService, 0, logMessage) falling behind; read 11 messages\n",
      "RemoteEvent(ATHeaderService, 0, logMessage) falling behind; read 10 messages\n",
      "RemoteEvent(ATHeaderService, 0, logMessage) falling behind; read 11 messages\n",
      "RemoteEvent(ATHeaderService, 0, logMessage) falling behind; read 11 messages\n",
      "RemoteEvent(ATHeaderService, 0, logMessage) falling behind; read 12 messages\n",
      "RemoteEvent(ATMCS, 0, target) falling behind; read 70 messages\n",
      "RemoteEvent(ATDomeTrajectory, 0, logMessage) falling behind; read 12 messages\n",
      "RemoteEvent(ATMCS, 0, target) falling behind; read 15 messages\n",
      "RemoteEvent(ATMCS, 0, target) falling behind; read 49 messages\n",
      "RemoteEvent(ATDomeTrajectory, 0, logMessage) falling behind; read 19 messages\n",
      "RemoteEvent(ATDomeTrajectory, 0, logMessage) falling behind; read 14 messages\n",
      "RemoteEvent(ATMCS, 0, heartbeat) falling behind; read 13 messages\n",
      "RemoteEvent(ATHeaderService, 0, logMessage) falling behind; read 10 messages\n",
      "RemoteEvent(ATHeaderService, 0, logMessage) falling behind; read 11 messages\n",
      "RemoteTelemetry(ATPtg, 0, timeAndDate) falling behind; read 33 messages\n",
      "RemoteEvent(ATDomeTrajectory, 0, logMessage) falling behind; read 88 messages\n",
      "RemoteEvent(ATMCS, 0, target) falling behind; read 88 messages\n",
      "RemoteTelemetry(ATDome, 0, position) falling behind; read 33 messages\n",
      "RemoteTelemetry(ATPtg, 0, mountStatus) falling behind; read 34 messages\n",
      "RemoteTelemetry(ATPtg, 0, guidingAndOffsets) falling behind; read 35 messages\n",
      "RemoteTelemetry(ATPtg, 0, currentTargetStatus) falling behind; read 35 messages\n",
      "RemoteEvent(ATDomeTrajectory, 0, logMessage) falling behind; read 13 messages\n",
      "RemoteEvent(ATHeaderService, 0, logMessage) falling behind; read 10 messages\n",
      "RemoteEvent(ATHeaderService, 0, logMessage) falling behind; read 11 messages\n",
      "RemoteEvent(ATHeaderService, 0, logMessage) falling behind; read 10 messages\n",
      "RemoteEvent(ATHeaderService, 0, logMessage) falling behind; read 12 messages\n",
      "RemoteEvent(ATHeaderService, 0, logMessage) falling behind; read 10 messages\n",
      "RemoteEvent(ATHeaderService, 0, logMessage) falling behind; read 11 messages\n",
      "RemoteEvent(ATHeaderService, 0, logMessage) falling behind; read 10 messages\n",
      "RemoteEvent(ATDomeTrajectory, 0, logMessage) falling behind; read 15 messages\n",
      "RemoteEvent(ATMCS, 0, target) falling behind; read 82 messages\n"
     ]
    }
   ],
   "source": [
    "await cwfs.start_task"
   ]
  },
  {
   "cell_type": "code",
   "execution_count": null,
   "metadata": {},
   "outputs": [],
   "source": []
  }
 ],
 "metadata": {
  "kernelspec": {
   "display_name": "Python 3",
   "language": "python",
   "name": "python3"
  },
  "language_info": {
   "codemirror_mode": {
    "name": "ipython",
    "version": 3
   },
   "file_extension": ".py",
   "mimetype": "text/x-python",
   "name": "python",
   "nbconvert_exporter": "python",
   "pygments_lexer": "ipython3",
   "version": "3.7.2"
  }
 },
 "nbformat": 4,
 "nbformat_minor": 4
}
